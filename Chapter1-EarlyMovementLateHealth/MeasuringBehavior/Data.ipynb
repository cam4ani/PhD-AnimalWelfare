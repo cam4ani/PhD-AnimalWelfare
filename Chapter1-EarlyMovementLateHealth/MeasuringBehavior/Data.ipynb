{
 "cells": [
  {
   "cell_type": "code",
   "execution_count": 1,
   "id": "bd80c4fd",
   "metadata": {},
   "outputs": [],
   "source": [
    "#basic package\n",
    "import os\n",
    "import numpy as np\n",
    "import pandas as pd\n",
    "import sys\n",
    "import time\n",
    "import datetime as dt\n",
    "import itertools\n",
    "import math\n",
    "import pickle #save and load dictionaries/lists\n",
    "\n",
    "#plot\n",
    "import matplotlib.pyplot as plt\n",
    "import seaborn as sns"
   ]
  },
  {
   "cell_type": "code",
   "execution_count": 3,
   "id": "1fa7eed6",
   "metadata": {},
   "outputs": [],
   "source": [
    "PACKAGE_PARENT = '../../'\n",
    "SCRIPT_DIR = os.path.dirname(os.path.realpath(os.path.join(os.getcwd(), os.path.expanduser('__file__'))))\n",
    "sys.path.append(os.path.normpath(os.path.join(SCRIPT_DIR, PACKAGE_PARENT)))\n",
    "import config_origins as config"
   ]
  },
  {
   "cell_type": "code",
   "execution_count": 4,
   "id": "d790c201",
   "metadata": {},
   "outputs": [
    {
     "name": "stdout",
     "output_type": "stream",
     "text": [
      "change the configuration file if not done yet!\n"
     ]
    }
   ],
   "source": [
    "print('change the configuration file if not done yet!')\n",
    "path_extracted_data = config.path_extracted_data\n",
    "id_run = config.id_run\n",
    "max_date_adaptability = config.max_date_adaptability\n",
    "path_adap = os.path.join(path_extracted_data,'Adaptability')\n",
    "#create a director if not existing\n",
    "if not os.path.exists(path_adap):\n",
    "    os.makedirs(path_adap)"
   ]
  },
  {
   "cell_type": "markdown",
   "id": "b3943935",
   "metadata": {},
   "source": [
    "## download data"
   ]
  },
  {
   "cell_type": "code",
   "execution_count": 5,
   "id": "e7b57f79",
   "metadata": {},
   "outputs": [
    {
     "name": "stdout",
     "output_type": "stream",
     "text": [
      "(3230, 25)\n"
     ]
    },
    {
     "data": {
      "text/html": [
       "<div>\n",
       "<style scoped>\n",
       "    .dataframe tbody tr th:only-of-type {\n",
       "        vertical-align: middle;\n",
       "    }\n",
       "\n",
       "    .dataframe tbody tr th {\n",
       "        vertical-align: top;\n",
       "    }\n",
       "\n",
       "    .dataframe thead th {\n",
       "        text-align: right;\n",
       "    }\n",
       "</style>\n",
       "<table border=\"1\" class=\"dataframe\">\n",
       "  <thead>\n",
       "    <tr style=\"text-align: right;\">\n",
       "      <th></th>\n",
       "      <th>HenID</th>\n",
       "      <th>DIB</th>\n",
       "      <th>CLASS</th>\n",
       "      <th>PenID</th>\n",
       "      <th>temperature_C_avg</th>\n",
       "      <th>tobeusedPCA</th>\n",
       "      <th>InitialWeight</th>\n",
       "      <th>Treatment</th>\n",
       "      <th>perc_duration_5_Zone</th>\n",
       "      <th>perc_duration_4_Zone</th>\n",
       "      <th>...</th>\n",
       "      <th>nbr_stays_3_Zone_perh</th>\n",
       "      <th>nbr_stays_5_Zone_perh</th>\n",
       "      <th>nbr_stays_1_Zone_perh</th>\n",
       "      <th>in_WG_15mnAfterOpening</th>\n",
       "      <th>SleepingHeight</th>\n",
       "      <th>vertical_travel_distance_perh</th>\n",
       "      <th>DIB_startat11</th>\n",
       "      <th>avgDIB</th>\n",
       "      <th>severity</th>\n",
       "      <th>Feathers</th>\n",
       "    </tr>\n",
       "  </thead>\n",
       "  <tbody>\n",
       "    <tr>\n",
       "      <th>0</th>\n",
       "      <td>hen_134</td>\n",
       "      <td>11</td>\n",
       "      <td>MEXP</td>\n",
       "      <td>pen10</td>\n",
       "      <td>11.500000</td>\n",
       "      <td>1</td>\n",
       "      <td>1112.0</td>\n",
       "      <td>TRAN</td>\n",
       "      <td>100.0</td>\n",
       "      <td>0.0</td>\n",
       "      <td>...</td>\n",
       "      <td>0.0</td>\n",
       "      <td>0.1</td>\n",
       "      <td>0.0</td>\n",
       "      <td>0</td>\n",
       "      <td>3</td>\n",
       "      <td>0.0</td>\n",
       "      <td>0</td>\n",
       "      <td>22.357143</td>\n",
       "      <td>34</td>\n",
       "      <td>73.0</td>\n",
       "    </tr>\n",
       "    <tr>\n",
       "      <th>1</th>\n",
       "      <td>hen_134</td>\n",
       "      <td>12</td>\n",
       "      <td>MEXP</td>\n",
       "      <td>pen10</td>\n",
       "      <td>10.166667</td>\n",
       "      <td>0</td>\n",
       "      <td>1112.0</td>\n",
       "      <td>TRAN</td>\n",
       "      <td>86.0</td>\n",
       "      <td>0.0</td>\n",
       "      <td>...</td>\n",
       "      <td>0.1</td>\n",
       "      <td>0.2</td>\n",
       "      <td>0.0</td>\n",
       "      <td>0</td>\n",
       "      <td>3</td>\n",
       "      <td>0.6</td>\n",
       "      <td>1</td>\n",
       "      <td>22.357143</td>\n",
       "      <td>34</td>\n",
       "      <td>73.0</td>\n",
       "    </tr>\n",
       "    <tr>\n",
       "      <th>2</th>\n",
       "      <td>hen_134</td>\n",
       "      <td>13</td>\n",
       "      <td>MEXP</td>\n",
       "      <td>pen10</td>\n",
       "      <td>9.000000</td>\n",
       "      <td>0</td>\n",
       "      <td>1112.0</td>\n",
       "      <td>TRAN</td>\n",
       "      <td>100.0</td>\n",
       "      <td>0.0</td>\n",
       "      <td>...</td>\n",
       "      <td>0.0</td>\n",
       "      <td>0.1</td>\n",
       "      <td>0.0</td>\n",
       "      <td>0</td>\n",
       "      <td>3</td>\n",
       "      <td>0.0</td>\n",
       "      <td>2</td>\n",
       "      <td>22.357143</td>\n",
       "      <td>34</td>\n",
       "      <td>73.0</td>\n",
       "    </tr>\n",
       "  </tbody>\n",
       "</table>\n",
       "<p>3 rows × 25 columns</p>\n",
       "</div>"
      ],
      "text/plain": [
       "     HenID  DIB CLASS  PenID  temperature_C_avg  tobeusedPCA  InitialWeight  \\\n",
       "0  hen_134   11  MEXP  pen10          11.500000            1         1112.0   \n",
       "1  hen_134   12  MEXP  pen10          10.166667            0         1112.0   \n",
       "2  hen_134   13  MEXP  pen10           9.000000            0         1112.0   \n",
       "\n",
       "  Treatment  perc_duration_5_Zone  perc_duration_4_Zone  ...  \\\n",
       "0      TRAN                 100.0                   0.0  ...   \n",
       "1      TRAN                  86.0                   0.0  ...   \n",
       "2      TRAN                 100.0                   0.0  ...   \n",
       "\n",
       "   nbr_stays_3_Zone_perh  nbr_stays_5_Zone_perh  nbr_stays_1_Zone_perh  \\\n",
       "0                    0.0                    0.1                    0.0   \n",
       "1                    0.1                    0.2                    0.0   \n",
       "2                    0.0                    0.1                    0.0   \n",
       "\n",
       "   in_WG_15mnAfterOpening  SleepingHeight  vertical_travel_distance_perh  \\\n",
       "0                       0               3                            0.0   \n",
       "1                       0               3                            0.6   \n",
       "2                       0               3                            0.0   \n",
       "\n",
       "   DIB_startat11     avgDIB  severity  Feathers  \n",
       "0              0  22.357143        34      73.0  \n",
       "1              1  22.357143        34      73.0  \n",
       "2              2  22.357143        34      73.0  \n",
       "\n",
       "[3 rows x 25 columns]"
      ]
     },
     "execution_count": 5,
     "metadata": {},
     "output_type": "execute_result"
    }
   ],
   "source": [
    "df = pd.read_csv(os.path.join(path_adap, 'df_MVT_4individuality.csv'), sep=';')\n",
    "print(df.shape)\n",
    "df.head(3)"
   ]
  },
  {
   "cell_type": "code",
   "execution_count": null,
   "id": "7ba98632",
   "metadata": {},
   "outputs": [],
   "source": []
  },
  {
   "cell_type": "markdown",
   "id": "957f8c35",
   "metadata": {},
   "source": [
    "## add variables"
   ]
  },
  {
   "cell_type": "code",
   "execution_count": 8,
   "id": "d39ac4e7",
   "metadata": {},
   "outputs": [
    {
     "data": {
      "text/plain": [
       "0    2601\n",
       "1     629\n",
       "Name: SleepingDown, dtype: int64"
      ]
     },
     "execution_count": 8,
     "metadata": {},
     "output_type": "execute_result"
    }
   ],
   "source": [
    "df['SleepingDown'] = df['SleepingHeight'].map(lambda x: int(x in [0,1]))\n",
    "df['SleepingDown'].value_counts()"
   ]
  },
  {
   "cell_type": "code",
   "execution_count": 10,
   "id": "94278c41",
   "metadata": {},
   "outputs": [
    {
     "data": {
      "text/plain": [
       "1    1877\n",
       "0    1353\n",
       "Name: WentOutside, dtype: int64"
      ]
     },
     "execution_count": 10,
     "metadata": {},
     "output_type": "execute_result"
    }
   ],
   "source": [
    "df['WentOutside'] = df['perc_1_Zone_while_WG_open'].map(lambda x: int(x >0))\n",
    "df['WentOutside'].value_counts()"
   ]
  },
  {
   "cell_type": "markdown",
   "id": "602287c2",
   "metadata": {},
   "source": [
    "## save"
   ]
  },
  {
   "cell_type": "code",
   "execution_count": 11,
   "id": "a6d88a3b",
   "metadata": {},
   "outputs": [],
   "source": [
    "df.to_csv(os.path.join(path_adap,'df_MVT_4individuality_MB.csv'), index=False, sep=';')"
   ]
  },
  {
   "cell_type": "markdown",
   "id": "881abb20",
   "metadata": {},
   "source": [
    "## BI"
   ]
  },
  {
   "cell_type": "code",
   "execution_count": 12,
   "id": "ef4ee711",
   "metadata": {},
   "outputs": [
    {
     "name": "stdout",
     "output_type": "stream",
     "text": [
      "(3230, 31)\n"
     ]
    },
    {
     "data": {
      "text/html": [
       "<div>\n",
       "<style scoped>\n",
       "    .dataframe tbody tr th:only-of-type {\n",
       "        vertical-align: middle;\n",
       "    }\n",
       "\n",
       "    .dataframe tbody tr th {\n",
       "        vertical-align: top;\n",
       "    }\n",
       "\n",
       "    .dataframe thead th {\n",
       "        text-align: right;\n",
       "    }\n",
       "</style>\n",
       "<table border=\"1\" class=\"dataframe\">\n",
       "  <thead>\n",
       "    <tr style=\"text-align: right;\">\n",
       "      <th></th>\n",
       "      <th>HenID</th>\n",
       "      <th>DIB</th>\n",
       "      <th>CLASS</th>\n",
       "      <th>PenID</th>\n",
       "      <th>temperature_C_avg</th>\n",
       "      <th>tobeusedPCA</th>\n",
       "      <th>InitialWeight</th>\n",
       "      <th>Treatment</th>\n",
       "      <th>perc_duration_5_Zone</th>\n",
       "      <th>perc_duration_4_Zone</th>\n",
       "      <th>...</th>\n",
       "      <th>DIB_startat11</th>\n",
       "      <th>avgDIB</th>\n",
       "      <th>severity</th>\n",
       "      <th>Feathers</th>\n",
       "      <th>PC1</th>\n",
       "      <th>nbr_daysnomvt_over_3days</th>\n",
       "      <th>Predictability_mean</th>\n",
       "      <th>Predictability_sd</th>\n",
       "      <th>Variability_mean</th>\n",
       "      <th>Variability_sd</th>\n",
       "    </tr>\n",
       "  </thead>\n",
       "  <tbody>\n",
       "    <tr>\n",
       "      <th>0</th>\n",
       "      <td>hen_134</td>\n",
       "      <td>11</td>\n",
       "      <td>MEXP</td>\n",
       "      <td>pen10</td>\n",
       "      <td>11.500000</td>\n",
       "      <td>1</td>\n",
       "      <td>1112</td>\n",
       "      <td>TRAN</td>\n",
       "      <td>100</td>\n",
       "      <td>0</td>\n",
       "      <td>...</td>\n",
       "      <td>0</td>\n",
       "      <td>22.357143</td>\n",
       "      <td>34</td>\n",
       "      <td>73.0</td>\n",
       "      <td>-1.738433</td>\n",
       "      <td>1</td>\n",
       "      <td>-0.86939</td>\n",
       "      <td>0.097638</td>\n",
       "      <td>0.86939</td>\n",
       "      <td>0.097638</td>\n",
       "    </tr>\n",
       "    <tr>\n",
       "      <th>1</th>\n",
       "      <td>hen_134</td>\n",
       "      <td>12</td>\n",
       "      <td>MEXP</td>\n",
       "      <td>pen10</td>\n",
       "      <td>10.166667</td>\n",
       "      <td>0</td>\n",
       "      <td>1112</td>\n",
       "      <td>TRAN</td>\n",
       "      <td>86</td>\n",
       "      <td>0</td>\n",
       "      <td>...</td>\n",
       "      <td>1</td>\n",
       "      <td>22.357143</td>\n",
       "      <td>34</td>\n",
       "      <td>73.0</td>\n",
       "      <td>-1.455477</td>\n",
       "      <td>1</td>\n",
       "      <td>-0.86939</td>\n",
       "      <td>0.097638</td>\n",
       "      <td>0.86939</td>\n",
       "      <td>0.097638</td>\n",
       "    </tr>\n",
       "    <tr>\n",
       "      <th>2</th>\n",
       "      <td>hen_134</td>\n",
       "      <td>13</td>\n",
       "      <td>MEXP</td>\n",
       "      <td>pen10</td>\n",
       "      <td>9.000000</td>\n",
       "      <td>0</td>\n",
       "      <td>1112</td>\n",
       "      <td>TRAN</td>\n",
       "      <td>100</td>\n",
       "      <td>0</td>\n",
       "      <td>...</td>\n",
       "      <td>2</td>\n",
       "      <td>22.357143</td>\n",
       "      <td>34</td>\n",
       "      <td>73.0</td>\n",
       "      <td>-1.738433</td>\n",
       "      <td>1</td>\n",
       "      <td>-0.86939</td>\n",
       "      <td>0.097638</td>\n",
       "      <td>0.86939</td>\n",
       "      <td>0.097638</td>\n",
       "    </tr>\n",
       "  </tbody>\n",
       "</table>\n",
       "<p>3 rows × 31 columns</p>\n",
       "</div>"
      ],
      "text/plain": [
       "     HenID  DIB CLASS  PenID  temperature_C_avg  tobeusedPCA  InitialWeight  \\\n",
       "0  hen_134   11  MEXP  pen10          11.500000            1           1112   \n",
       "1  hen_134   12  MEXP  pen10          10.166667            0           1112   \n",
       "2  hen_134   13  MEXP  pen10           9.000000            0           1112   \n",
       "\n",
       "  Treatment  perc_duration_5_Zone  perc_duration_4_Zone  ...  DIB_startat11  \\\n",
       "0      TRAN                   100                     0  ...              0   \n",
       "1      TRAN                    86                     0  ...              1   \n",
       "2      TRAN                   100                     0  ...              2   \n",
       "\n",
       "      avgDIB  severity  Feathers       PC1  nbr_daysnomvt_over_3days  \\\n",
       "0  22.357143        34      73.0 -1.738433                         1   \n",
       "1  22.357143        34      73.0 -1.455477                         1   \n",
       "2  22.357143        34      73.0 -1.738433                         1   \n",
       "\n",
       "   Predictability_mean  Predictability_sd  Variability_mean  Variability_sd  \n",
       "0             -0.86939           0.097638           0.86939        0.097638  \n",
       "1             -0.86939           0.097638           0.86939        0.097638  \n",
       "2             -0.86939           0.097638           0.86939        0.097638  \n",
       "\n",
       "[3 rows x 31 columns]"
      ]
     },
     "execution_count": 12,
     "metadata": {},
     "output_type": "execute_result"
    }
   ],
   "source": [
    "df = pd.read_csv(os.path.join(path_adap, 'df_MVT_4stat_BI.csv'), sep=';')\n",
    "print(df.shape)\n",
    "df.head(3)"
   ]
  },
  {
   "cell_type": "code",
   "execution_count": 13,
   "id": "de9ebc0e",
   "metadata": {},
   "outputs": [
    {
     "data": {
      "text/plain": [
       "1    1877\n",
       "0    1353\n",
       "Name: WentOutside, dtype: int64"
      ]
     },
     "execution_count": 13,
     "metadata": {},
     "output_type": "execute_result"
    }
   ],
   "source": [
    "df['WentOutside'] = df['perc_1_Zone_while_WG_open'].map(lambda x: int(x >0))\n",
    "df['WentOutside'].value_counts()"
   ]
  },
  {
   "cell_type": "code",
   "execution_count": 14,
   "id": "882fc0ea",
   "metadata": {},
   "outputs": [],
   "source": [
    "df.to_csv(os.path.join(path_adap,'df_MVT_4stat_BI_MB.csv'), index=False, sep=';')"
   ]
  },
  {
   "cell_type": "code",
   "execution_count": null,
   "id": "fcc46f81",
   "metadata": {},
   "outputs": [],
   "source": []
  },
  {
   "cell_type": "code",
   "execution_count": null,
   "id": "4236a504",
   "metadata": {},
   "outputs": [],
   "source": []
  },
  {
   "cell_type": "code",
   "execution_count": null,
   "id": "21ab0a23",
   "metadata": {},
   "outputs": [],
   "source": []
  },
  {
   "cell_type": "code",
   "execution_count": null,
   "id": "9d719f2a",
   "metadata": {},
   "outputs": [],
   "source": []
  }
 ],
 "metadata": {
  "kernelspec": {
   "display_name": "Python 3 (ipykernel)",
   "language": "python",
   "name": "python3"
  },
  "language_info": {
   "codemirror_mode": {
    "name": "ipython",
    "version": 3
   },
   "file_extension": ".py",
   "mimetype": "text/x-python",
   "name": "python",
   "nbconvert_exporter": "python",
   "pygments_lexer": "ipython3",
   "version": "3.8.12"
  }
 },
 "nbformat": 4,
 "nbformat_minor": 5
}
