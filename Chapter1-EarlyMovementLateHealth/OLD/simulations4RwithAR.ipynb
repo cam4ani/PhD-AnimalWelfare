{
 "cells": [
  {
   "cell_type": "code",
   "execution_count": 1,
   "id": "f1133e3a",
   "metadata": {},
   "outputs": [
    {
     "name": "stderr",
     "output_type": "stream",
     "text": [
      "Warning message:\n",
      "\"package 'nlme' was built under R version 3.6.3\"\n",
      "Warning message:\n",
      "\"package 'dplyr' was built under R version 3.6.3\"\n",
      "\n",
      "Attaching package: 'dplyr'\n",
      "\n",
      "\n",
      "The following object is masked from 'package:nlme':\n",
      "\n",
      "    collapse\n",
      "\n",
      "\n",
      "The following objects are masked from 'package:stats':\n",
      "\n",
      "    filter, lag\n",
      "\n",
      "\n",
      "The following objects are masked from 'package:base':\n",
      "\n",
      "    intersect, setdiff, setequal, union\n",
      "\n",
      "\n"
     ]
    }
   ],
   "source": [
    "library(nlme) #lmm with AR()\n",
    "library(dplyr) #df manipulation"
   ]
  },
  {
   "cell_type": "code",
   "execution_count": 2,
   "id": "ace0fc2b",
   "metadata": {},
   "outputs": [
    {
     "data": {
      "text/html": [
       "0.576"
      ],
      "text/latex": [
       "0.576"
      ],
      "text/markdown": [
       "0.576"
      ],
      "text/plain": [
       "[1] 0.576"
      ]
     },
     "metadata": {},
     "output_type": "display_data"
    },
    {
     "data": {
      "text/html": [
       "0.504"
      ],
      "text/latex": [
       "0.504"
      ],
      "text/markdown": [
       "0.504"
      ],
      "text/plain": [
       "[1] 0.504"
      ]
     },
     "metadata": {},
     "output_type": "display_data"
    },
    {
     "data": {
      "text/html": [
       "0.384"
      ],
      "text/latex": [
       "0.384"
      ],
      "text/markdown": [
       "0.384"
      ],
      "text/plain": [
       "[1] 0.384"
      ]
     },
     "metadata": {},
     "output_type": "display_data"
    }
   ],
   "source": [
    "nID <- 50\n",
    "nrep <- 51\n",
    "\n",
    "# State values of desired parameters\n",
    "AR_low <- 0.2\n",
    "AR_med <- 0.4\n",
    "AR_high <- 0.6\n",
    "Ve1 <- 0.6 * (1/sqrt(1 / (1 - AR_low^2)))^2\n",
    "Ve2 <- 0.6 * (1/sqrt(1 / (1 - AR_med^2)))^2\n",
    "Ve3 <- 0.6 * (1/sqrt(1 / (1 - AR_high^2)))^2\n",
    "Vid <- 0.4\n",
    "\n",
    "rep2 <- 1:nrep\n",
    "rep3 <- 1:nrep\n",
    "rep2 <- rep2[rep2 %% 2 == 1]\n",
    "rep3 <- rep3[rep3 %% 5 == 1]\n",
    "Ve1; Ve2; Ve3"
   ]
  },
  {
   "cell_type": "markdown",
   "id": "a3a625da",
   "metadata": {},
   "source": [
    "# As in article"
   ]
  },
  {
   "cell_type": "code",
   "execution_count": 117,
   "id": "3dc44020",
   "metadata": {},
   "outputs": [
    {
     "data": {
      "image/png": "[encoded data removed]",
      "text/plain": [
       "plot without title"
      ]
     },
     "metadata": {
      "image/png": {
       "height": 420,
       "width": 420
      }
     },
     "output_type": "display_data"
    }
   ],
   "source": [
    "#set.seed(15) # make sure sampling each time is independent\n",
    "#initialise the list of repeatability matrix\n",
    "nbr_run = 100\n",
    "#initialise the repeatability matrix\n",
    "#R = list(r2a =rep(0,nrep), r4a =rep(0,nrep), r6a =rep(0,nrep))\n",
    "R2a = matrix(, nrow=nrep, ncol=nbr_run)\n",
    "R4a = matrix(, nrow=nrep, ncol=nbr_run)\n",
    "R6a = matrix(, nrow=nrep, ncol=nbr_run)\n",
    "\n",
    "for (r in 1:nbr_run){\n",
    "    ID = rnorm(nID, 0,sqrt(Vid)) # Generate BLUPs to simulate from\n",
    "    ds = data.frame(id=sort(rep(c(1:nID),nrep)), ID=sort(rep(ID,nrep)), rep=(rep(c(1:nrep),nID)))\n",
    "    ds = ds[order(ds$id),]\n",
    "    #dim(ds)\n",
    "    #head(ds, 3)\n",
    "    #summary(ds)\n",
    "\n",
    "    #This is followed by simulating the response variable for each individual ‘i’. \n",
    "    #Each individual is simulated as a time series, with an AR1 correlation coefficient \n",
    "    #and the calculated residual standard deviation.\n",
    "    #initerate over individuals\n",
    "    for(i in 1:nID){\n",
    "        ds$y1[ds$id == i] <- ds$ID[ds$id == i] +\n",
    "        arima.sim(model=list(ar=AR_low),n=nrep, sd =sqrt(Ve1), n.start = 200)\n",
    "\n",
    "        ds$y2[ds$id == i] <- ds$ID[ds$id == i] +\n",
    "        arima.sim(model=list(ar=AR_med),n=nrep, sd =sqrt(Ve2), n.start = 200)\n",
    "\n",
    "        ds$y3[ds$id == i] <- ds$ID[ds$id == i] +\n",
    "        arima.sim(model=list(ar=AR_high),n=nrep, sd =sqrt(Ve3), n.start = 200)}\n",
    "    #dim(ds)\n",
    "    #head(ds, 3)\n",
    "    #summary(ds)\n",
    "    \n",
    "    for(k in 2:nrep){\n",
    "        mod <-lme(y1 ~ 1, random = ~1|id,data =subset(ds, rep <= k))\n",
    "        mod2<-lme(y2 ~ 1, random = ~1|id,data =subset(ds, rep <= k))\n",
    "        mod3<-lme(y3 ~ 1, random = ~1|id,data =subset(ds, rep <= k))\n",
    "\n",
    "        R2a[k-1,r] <-as.numeric(VarCorr(mod)[1]) /(as.numeric(VarCorr(mod)[1]) +as.numeric(VarCorr(mod)[2]))\n",
    "        R4a[k-1,r] <-as.numeric(VarCorr(mod2)[1]) /(as.numeric(VarCorr(mod2)[1])+as.numeric(VarCorr(mod2)[2]))\n",
    "        R6a[k-1,r] <-as.numeric(VarCorr(mod3)[1]) /(as.numeric(VarCorr(mod3)[1])+as.numeric(VarCorr(mod3)[2]))\n",
    "    }\n",
    "    #plot(R$r2a[2:nrep], ylab ='Repeatability', xlab ='Experiment duration')\n",
    "}\n",
    "\n",
    "####################\n",
    "colnames(R2a) <- as.character(seq(1, nbr_run, length.out=nbr_run))\n",
    "df_R2a <- as.data.frame(R2a)\n",
    "df_R2a$ROWNAME <- rownames(R2a)\n",
    "df_R2a <- df_R2a %>% rowwise() %>%\n",
    "  mutate(mean = mean(c_across(as.character(seq(1, nbr_run, length.out=nbr_run)))))\n",
    "\n",
    "####################\n",
    "colnames(R4a) <- as.character(seq(1, nbr_run, length.out=nbr_run))\n",
    "df_R4a <- as.data.frame(R4a)\n",
    "df_R4a$ROWNAME <- rownames(R4a)\n",
    "df_R4a <- df_R4a %>% rowwise() %>%\n",
    "  mutate(mean = mean(c_across(as.character(seq(1, nbr_run, length.out=nbr_run)))))\n",
    "\n",
    "####################\n",
    "colnames(R6a) <- as.character(seq(1, nbr_run, length.out=nbr_run))\n",
    "df_R6a <- as.data.frame(R6a)\n",
    "df_R6a$ROWNAME <- rownames(R6a)\n",
    "df_R6a <- df_R6a %>% rowwise() %>%\n",
    "  mutate(mean = mean(c_across(as.character(seq(1, nbr_run, length.out=nbr_run)))))\n",
    "\n",
    "plot(df_R2a$mean, xlab ='', type ='l', ylim =c(0.39,0.8), xlim =c(0,50), col = \"red\", lwd = 2)\n",
    "lines(df_R4a$mean, type ='l', col ='blue', lwd = 2)\n",
    "lines(df_R6a$mean, type ='l', col ='dark green', lwd = 2)\n",
    "lines(x =c(0, nrep), y =c(0.4,0.4), col='black', lty=2, lwd = 2)"
   ]
  },
  {
   "cell_type": "markdown",
   "id": "b6162e9b",
   "metadata": {},
   "source": [
    "# With AR when computing R"
   ]
  },
  {
   "cell_type": "code",
   "execution_count": 3,
   "id": "c9103eaf",
   "metadata": {},
   "outputs": [
    {
     "data": {
      "image/png": "[encoded data removed]",
      "text/plain": [
       "plot without title"
      ]
     },
     "metadata": {
      "image/png": {
       "height": 420,
       "width": 420
      }
     },
     "output_type": "display_data"
    }
   ],
   "source": [
    "#set.seed(15) # make sure sampling each time is independent\n",
    "#initialise the list of repeatability matrix\n",
    "nbr_run = 100\n",
    "#initialise the repeatability matrix\n",
    "#R = list(r2a =rep(0,nrep), r4a =rep(0,nrep), r6a =rep(0,nrep))\n",
    "R2a = matrix(, nrow=nrep, ncol=nbr_run)\n",
    "R4a = matrix(, nrow=nrep, ncol=nbr_run)\n",
    "R6a = matrix(, nrow=nrep, ncol=nbr_run)\n",
    "\n",
    "for (r in 1:nbr_run){\n",
    "    ID = rnorm(nID, 0,sqrt(Vid)) # Generate BLUPs to simulate from\n",
    "    ds = data.frame(id=sort(rep(c(1:nID),nrep)), ID=sort(rep(ID,nrep)), rep=(rep(c(1:nrep),nID)))\n",
    "    ds = ds[order(ds$id),]\n",
    "    \n",
    "    #This is followed by simulating the response variable for each individual ‘i’. \n",
    "    #Each individual is simulated as a time series, with an AR1 correlation coefficient \n",
    "    #and the calculated residual standard deviation.\n",
    "    for(i in 1:nID){\n",
    "        ds$y1[ds$id == i] <- ds$ID[ds$id == i] +\n",
    "        arima.sim(model=list(ar=AR_low),n=nrep, sd =sqrt(Ve1), n.start = 200)\n",
    "\n",
    "        ds$y2[ds$id == i] <- ds$ID[ds$id == i] +\n",
    "        arima.sim(model=list(ar=AR_med),n=nrep, sd =sqrt(Ve2), n.start = 200)\n",
    "\n",
    "        ds$y3[ds$id == i] <- ds$ID[ds$id == i] +\n",
    "        arima.sim(model=list(ar=AR_high),n=nrep, sd =sqrt(Ve3), n.start = 200)}\n",
    "    \n",
    "    for(k in 2:nrep){\n",
    "        mod <-lme(y1 ~ 1, random = ~1|id,data =subset(ds, rep <= k))\n",
    "        mod = update(mod, corr = corARMA(form = ~rep, p = 1, q = 0)) #p=1, q=0: AR1\n",
    "\n",
    "        mod2<-lme(y2 ~ 1, random = ~1|id,data =subset(ds, rep <= k))\n",
    "        mod2 = update(mod2, corr = corARMA(form = ~rep, p = 1, q = 0)) #p=1, q=0: AR1\n",
    "\n",
    "        mod3<-lme(y3 ~ 1, random = ~1|id,data =subset(ds, rep <= k))\n",
    "        mod3 = update(mod3, corr = corARMA(form = ~rep, p = 1, q = 0)) #p=1, q=0: AR1\n",
    "\n",
    "        R2a[k-1,r] <-as.numeric(VarCorr(mod)[1]) /(as.numeric(VarCorr(mod)[1]) +as.numeric(VarCorr(mod)[2]))\n",
    "        R4a[k-1,r] <-as.numeric(VarCorr(mod2)[1]) /(as.numeric(VarCorr(mod2)[1])+as.numeric(VarCorr(mod2)[2]))\n",
    "        R6a[k-1,r] <-as.numeric(VarCorr(mod3)[1]) /(as.numeric(VarCorr(mod3)[1])+as.numeric(VarCorr(mod3)[2]))\n",
    "    }\n",
    "}\n",
    "\n",
    "####################\n",
    "colnames(R2a) <- as.character(seq(1, nbr_run, length.out=nbr_run))\n",
    "df_R2a <- as.data.frame(R2a)\n",
    "df_R2a$ROWNAME <- rownames(R2a)\n",
    "df_R2a <- df_R2a %>% rowwise() %>%\n",
    "  mutate(mean = mean(c_across(as.character(seq(1, nbr_run, length.out=nbr_run)))))\n",
    "\n",
    "####################\n",
    "colnames(R4a) <- as.character(seq(1, nbr_run, length.out=nbr_run))\n",
    "df_R4a <- as.data.frame(R4a)\n",
    "df_R4a$ROWNAME <- rownames(R4a)\n",
    "df_R4a <- df_R4a %>% rowwise() %>%\n",
    "  mutate(mean = mean(c_across(as.character(seq(1, nbr_run, length.out=nbr_run)))))\n",
    "\n",
    "####################\n",
    "colnames(R6a) <- as.character(seq(1, nbr_run, length.out=nbr_run))\n",
    "df_R6a <- as.data.frame(R6a)\n",
    "df_R6a$ROWNAME <- rownames(R6a)\n",
    "df_R6a <- df_R6a %>% rowwise() %>%\n",
    "  mutate(mean = mean(c_across(as.character(seq(1, nbr_run, length.out=nbr_run)))))\n",
    "\n",
    "plot(df_R2a$mean, xlab ='', type ='l', ylim =c(0.29,0.8), xlim =c(0,50), col = \"red\", lwd = 2)\n",
    "lines(df_R4a$mean, type ='l', col ='blue', lwd = 2)\n",
    "lines(df_R6a$mean, type ='l', col ='dark green', lwd = 2)\n",
    "lines(x =c(0, nrep), y =c(0.4,0.4), col='black', lty=2, lwd = 2)"
   ]
  },
  {
   "cell_type": "code",
   "execution_count": 6,
   "id": "da22b44d",
   "metadata": {},
   "outputs": [
    {
     "data": {
      "image/png": "[encoded data removed]",
      "text/plain": [
       "plot without title"
      ]
     },
     "metadata": {
      "image/png": {
       "height": 420,
       "width": 420
      }
     },
     "output_type": "display_data"
    }
   ],
   "source": [
    "plot(df_R2a$mean, xlab ='', type ='l', ylim =c(0.29,0.8), xlim =c(0,50), col = \"red\", lwd = 2)\n",
    "lines(df_R4a$mean, type ='l', col ='blue', lwd = 2)\n",
    "lines(df_R6a$mean, type ='l', col ='dark green', lwd = 2)\n",
    "lines(x =c(0, nrep), y =c(0.4,0.4), col='black', lty=2, lwd = 2)"
   ]
  },
  {
   "cell_type": "markdown",
   "id": "ad590f57",
   "metadata": {},
   "source": [
    "# Add trend"
   ]
  },
  {
   "cell_type": "code",
   "execution_count": 22,
   "id": "8e9ffc7b",
   "metadata": {},
   "outputs": [
    {
     "data": {
      "image/png": "[encoded data removed]",
      "text/plain": [
       "plot without title"
      ]
     },
     "metadata": {
      "image/png": {
       "height": 420,
       "width": 420
      }
     },
     "output_type": "display_data"
    }
   ],
   "source": [
    "#WITH trend\n",
    "Vidslope = 0.1\n",
    "Vid = 0.4\n",
    "#set.seed(15) # make sure sampling each time is independent\n",
    "#initialise the list of repeatability matrix\n",
    "nbr_run = 10\n",
    "#initialise the repeatability matrix\n",
    "R2a = matrix(, nrow=nrep, ncol=nbr_run)\n",
    "R4a = matrix(, nrow=nrep, ncol=nbr_run)\n",
    "R6a = matrix(, nrow=nrep, ncol=nbr_run)\n",
    "\n",
    "for (r in 1:nbr_run){\n",
    "    ID = rnorm(nID, 0,sqrt(Vid)) # Generate BLUPs INTERCEPTS to simulate from\n",
    "    IDS = rnorm(nID, 0,sqrt(Vidslope)) # Generate BLUPs SLOPE to simulate from\n",
    "    ds = data.frame(id=sort(rep(c(1:nID),nrep)), ID=sort(rep(ID,nrep)), IDS_=sort(rep(IDS,nrep)), rep=(rep(c(1:nrep),nID)))\n",
    "    ds %>% mutate(IDS = IDS_ * rep)\n",
    "    \n",
    "    #This is followed by simulating the response variable for each individual ‘i’. \n",
    "    #Each individual is simulated as a time series, with an AR1 correlation coefficient \n",
    "    #and the calculated residual standard deviation.\n",
    "    for(i in 1:nID){\n",
    "        ds$y1[ds$id == i] <- ds$ID[ds$id == i] + \n",
    "        arima.sim(model=list(ar=AR_low),n=nrep, sd=sqrt(Ve1)) + ds$IDS[ds$id == i]\n",
    "\n",
    "        ds$y2[ds$id == i] <- ds$ID[ds$id == i] + \n",
    "        arima.sim(model=list(ar=AR_med),n=nrep, sd=sqrt(Ve2)) + ds$IDS[ds$id == i]\n",
    "\n",
    "        ds$y3[ds$id == i] <- ds$ID[ds$id == i] +\n",
    "        arima.sim(model=list(ar=AR_high),n=nrep, sd=sqrt(Ve3))+ ds$IDS[ds$id == i]}\n",
    "    \n",
    "    for(k in 2:nrep){\n",
    "        mod <-lme(y1 ~ 1, random = ~1|id, data=subset(ds, rep <= k))\n",
    "        mod2<-lme(y2 ~ 1, random = ~1|id, data=subset(ds, rep <= k))\n",
    "        mod3<-lme(y3 ~ 1, random = ~1|id, data=subset(ds, rep <= k))\n",
    "\n",
    "        R2a[k-1,r] <-as.numeric(VarCorr(mod)[1]) /(as.numeric(VarCorr(mod)[1]) +as.numeric(VarCorr(mod)[2]))\n",
    "        R4a[k-1,r] <-as.numeric(VarCorr(mod2)[1]) /(as.numeric(VarCorr(mod2)[1])+as.numeric(VarCorr(mod2)[2]))\n",
    "        R6a[k-1,r] <-as.numeric(VarCorr(mod3)[1]) /(as.numeric(VarCorr(mod3)[1])+as.numeric(VarCorr(mod3)[2]))\n",
    "    }\n",
    "}\n",
    "\n",
    "####################\n",
    "colnames(R2a) <- as.character(seq(1, nbr_run, length.out=nbr_run))\n",
    "df_R2a <- as.data.frame(R2a)\n",
    "df_R2a$ROWNAME <- rownames(R2a)\n",
    "df_R2a <- df_R2a %>% rowwise() %>%\n",
    "  mutate(mean = mean(c_across(as.character(seq(1, nbr_run, length.out=nbr_run)))))\n",
    "\n",
    "####################\n",
    "colnames(R4a) <- as.character(seq(1, nbr_run, length.out=nbr_run))\n",
    "df_R4a <- as.data.frame(R4a)\n",
    "df_R4a$ROWNAME <- rownames(R4a)\n",
    "df_R4a <- df_R4a %>% rowwise() %>%\n",
    "  mutate(mean = mean(c_across(as.character(seq(1, nbr_run, length.out=nbr_run)))))\n",
    "\n",
    "####################\n",
    "colnames(R6a) <- as.character(seq(1, nbr_run, length.out=nbr_run))\n",
    "df_R6a <- as.data.frame(R6a)\n",
    "df_R6a$ROWNAME <- rownames(R6a)\n",
    "df_R6a <- df_R6a %>% rowwise() %>%\n",
    "  mutate(mean = mean(c_across(as.character(seq(1, nbr_run, length.out=nbr_run)))))\n",
    "\n",
    "plot(df_R2a$mean, xlab ='', type ='l', ylim =c(0.39,0.9), xlim =c(0,50), col = \"red\", lwd = 2)\n",
    "lines(df_R4a$mean, type ='l', col ='blue', lwd = 2)\n",
    "lines(df_R6a$mean, type ='l', col ='dark green', lwd = 2)\n",
    "lines(x =c(0, nrep), y =c(0.4,0.4), col='black', lty=2, lwd = 2)"
   ]
  },
  {
   "cell_type": "code",
   "execution_count": null,
   "id": "3fa5aab5",
   "metadata": {},
   "outputs": [],
   "source": []
  },
  {
   "cell_type": "code",
   "execution_count": null,
   "id": "e9aea474",
   "metadata": {},
   "outputs": [],
   "source": []
  },
  {
   "cell_type": "code",
   "execution_count": 20,
   "id": "4c6d1b5b",
   "metadata": {},
   "outputs": [
    {
     "data": {
      "image/png": "[encoded data removed]",
      "text/plain": [
       "plot without title"
      ]
     },
     "metadata": {
      "image/png": {
       "height": 420,
       "width": 420
      }
     },
     "output_type": "display_data"
    }
   ],
   "source": [
    "#WITH trend WITH AR\n",
    "Vidslope = 0.1\n",
    "Vid = 0.4\n",
    "\n",
    "#set.seed(15) # make sure sampling each time is independent\n",
    "#initialise the list of repeatability matrix\n",
    "nbr_run = 10\n",
    "#initialise the repeatability matrix\n",
    "#R = list(r2a =rep(0,nrep), r4a =rep(0,nrep), r6a =rep(0,nrep))\n",
    "R2a = matrix(, nrow=nrep, ncol=nbr_run)\n",
    "R4a = matrix(, nrow=nrep, ncol=nbr_run)\n",
    "R6a = matrix(, nrow=nrep, ncol=nbr_run)\n",
    "\n",
    "for (r in 1:nbr_run){\n",
    "    ID = rnorm(nID, 0,sqrt(Vid)) # Generate BLUPs INTERCEPTS to simulate from\n",
    "    IDS = rnorm(nID, 0,sqrt(Vidslope)) # Generate BLUPs SLOPE to simulate from\n",
    "    ds = data.frame(id=sort(rep(c(1:nID),nrep)), ID=sort(rep(ID,nrep)), IDS_=sort(rep(IDS,nrep)), rep=(rep(c(1:nrep),nID)))\n",
    "    ds %>% mutate(IDS = IDS_ * rep)\n",
    "    \n",
    "    #This is followed by simulating the response variable for each individual ‘i’. \n",
    "    #Each individual is simulated as a time series, with an AR1 correlation coefficient \n",
    "    #and the calculated residual standard deviation.\n",
    "    for(i in 1:nID){\n",
    "        ds$y1[ds$id == i] <- ds$ID[ds$id == i] + \n",
    "        arima.sim(model=list(ar=AR_low),n=nrep, sd=sqrt(Ve1), n.start=200) + ds$IDS[ds$id == i]\n",
    "\n",
    "        ds$y2[ds$id == i] <- ds$ID[ds$id == i] + \n",
    "        arima.sim(model=list(ar=AR_med),n=nrep, sd=sqrt(Ve2), n.start=200) + ds$IDS[ds$id == i]\n",
    "\n",
    "        ds$y3[ds$id == i] <- ds$ID[ds$id == i] +\n",
    "        arima.sim(model=list(ar=AR_high),n=nrep, sd=sqrt(Ve3), n.start=200)+ ds$IDS[ds$id == i]}\n",
    "    \n",
    "    for(k in 2:nrep){\n",
    "        mod <-lme(y1 ~ 1, random = ~1|id,data =subset(ds, rep <= k))\n",
    "        mod = update(mod, corr = corARMA(form = ~rep, p = 1, q = 0)) #p=1, q=0: AR1\n",
    "\n",
    "        mod2<-lme(y2 ~ 1, random = ~1|id,data =subset(ds, rep <= k))\n",
    "        mod2 = update(mod2, corr = corARMA(form = ~rep, p = 1, q = 0)) #p=1, q=0: AR1\n",
    "\n",
    "        mod3<-lme(y3 ~ 1, random = ~1|id,data =subset(ds, rep <= k))\n",
    "        mod3 = update(mod3, corr = corARMA(form = ~rep, p = 1, q = 0)) #p=1, q=0: AR1\n",
    "\n",
    "        R2a[k-1,r] <-as.numeric(VarCorr(mod)[1]) /(as.numeric(VarCorr(mod)[1]) +as.numeric(VarCorr(mod)[2]))\n",
    "        R4a[k-1,r] <-as.numeric(VarCorr(mod2)[1]) /(as.numeric(VarCorr(mod2)[1])+as.numeric(VarCorr(mod2)[2]))\n",
    "        R6a[k-1,r] <-as.numeric(VarCorr(mod3)[1]) /(as.numeric(VarCorr(mod3)[1])+as.numeric(VarCorr(mod3)[2]))\n",
    "    }\n",
    "}\n",
    "\n",
    "####################\n",
    "colnames(R2a) <- as.character(seq(1, nbr_run, length.out=nbr_run))\n",
    "df_R2a <- as.data.frame(R2a)\n",
    "df_R2a$ROWNAME <- rownames(R2a)\n",
    "df_R2a <- df_R2a %>% rowwise() %>%\n",
    "  mutate(mean = mean(c_across(as.character(seq(1, nbr_run, length.out=nbr_run)))))\n",
    "\n",
    "####################\n",
    "colnames(R4a) <- as.character(seq(1, nbr_run, length.out=nbr_run))\n",
    "df_R4a <- as.data.frame(R4a)\n",
    "df_R4a$ROWNAME <- rownames(R4a)\n",
    "df_R4a <- df_R4a %>% rowwise() %>%\n",
    "  mutate(mean = mean(c_across(as.character(seq(1, nbr_run, length.out=nbr_run)))))\n",
    "\n",
    "####################\n",
    "colnames(R6a) <- as.character(seq(1, nbr_run, length.out=nbr_run))\n",
    "df_R6a <- as.data.frame(R6a)\n",
    "df_R6a$ROWNAME <- rownames(R6a)\n",
    "df_R6a <- df_R6a %>% rowwise() %>%\n",
    "  mutate(mean = mean(c_across(as.character(seq(1, nbr_run, length.out=nbr_run)))))\n",
    "\n",
    "plot(df_R2a$mean, xlab ='', type ='l', ylim =c(0.39,0.9), xlim =c(0,50), col = \"red\", lwd = 2)\n",
    "lines(df_R4a$mean, type ='l', col ='blue', lwd = 2)\n",
    "lines(df_R6a$mean, type ='l', col ='dark green', lwd = 2)\n",
    "lines(x =c(0, nrep), y =c(0.4,0.4), col='black', lty=2, lwd = 2)"
   ]
  },
  {
   "cell_type": "code",
   "execution_count": null,
   "id": "d9e1dfed",
   "metadata": {},
   "outputs": [],
   "source": []
  },
  {
   "cell_type": "code",
   "execution_count": null,
   "id": "4ff12bec",
   "metadata": {},
   "outputs": [],
   "source": []
  },
  {
   "cell_type": "code",
   "execution_count": null,
   "id": "c8826e8e",
   "metadata": {},
   "outputs": [],
   "source": []
  },
  {
   "cell_type": "code",
   "execution_count": null,
   "id": "e3ee2a97",
   "metadata": {},
   "outputs": [],
   "source": []
  },
  {
   "cell_type": "code",
   "execution_count": null,
   "id": "8dc7068e",
   "metadata": {},
   "outputs": [],
   "source": []
  },
  {
   "cell_type": "code",
   "execution_count": null,
   "id": "7627e2d4",
   "metadata": {},
   "outputs": [],
   "source": []
  },
  {
   "cell_type": "code",
   "execution_count": null,
   "id": "65ad1d82",
   "metadata": {},
   "outputs": [],
   "source": []
  },
  {
   "cell_type": "code",
   "execution_count": null,
   "id": "daf7639d",
   "metadata": {},
   "outputs": [],
   "source": []
  },
  {
   "cell_type": "code",
   "execution_count": null,
   "id": "033e1b68",
   "metadata": {},
   "outputs": [],
   "source": []
  }
 ],
 "metadata": {
  "kernelspec": {
   "display_name": " Rkernel ",
   "language": "R",
   "name": "rkernel"
  },
  "language_info": {
   "codemirror_mode": "r",
   "file_extension": ".r",
   "mimetype": "text/x-r-source",
   "name": "R",
   "pygments_lexer": "r",
   "version": "3.6.1"
  }
 },
 "nbformat": 4,
 "nbformat_minor": 5
}
