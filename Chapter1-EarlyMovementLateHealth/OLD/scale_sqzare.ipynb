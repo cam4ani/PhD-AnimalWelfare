{
 "cells": [
  {
   "cell_type": "code",
   "execution_count": null,
   "metadata": {},
   "outputs": [],
   "source": []
  },
  {
   "cell_type": "code",
   "execution_count": null,
   "metadata": {},
   "outputs": [],
   "source": [
    "n.site <- 200\n",
    "vege <- sort(runif(n.site, 0, 1))\n",
    "\n",
    "alpha.lam <- 2\n",
    "beta1.lam <- 2\n",
    "beta2.lam <- -2\n",
    "lam <- exp(alpha.lam + beta1.lam*vege + beta2.lam*(vege^2))\n",
    "N <- rpois(n.site, lam)\n",
    "\n",
    "plot(vege, lam)\n",
    "\n",
    "z.veg <- scale(vege, center=TRUE, scale=TRUE)\n",
    "z.veg2 <- scale(vege^2, center=TRUE, scale=TRUE)\n",
    "z.vege2.1 <- z.veg^2\n",
    "z.vege2.1 <- scale(z.vege2.1, center=TRUE, scale=TRUE)\n",
    "\n",
    "#scale then square\n",
    "mod1 <- glm(N ~ z.veg + z.veg2, family = poisson)\n",
    "b <- predict(mod1, data = c(z.veg, z.veg2))\n",
    "\n",
    "#square then scale\n",
    "mod2 <- glm(N ~ z.veg + z.vege2.1, family = poisson)\n",
    "c <- predict(mod2, data = c(z.veg, z.vege2.1))\n",
    "\n",
    "summary(mod1)\n",
    "summary(mod2)\n",
    "\n",
    "par(mfrow=c(2, 2))\n",
    "plot(vege, lam)\n",
    "plot(vege, b)\n",
    "plot(vege, c)"
   ]
  },
  {
   "cell_type": "code",
   "execution_count": null,
   "metadata": {},
   "outputs": [],
   "source": []
  },
  {
   "cell_type": "code",
   "execution_count": null,
   "metadata": {},
   "outputs": [],
   "source": []
  }
 ],
 "metadata": {
  "kernelspec": {
   "display_name": "R 4.0.3",
   "language": "R",
   "name": "ir35"
  }
 },
 "nbformat": 4,
 "nbformat_minor": 4
}
