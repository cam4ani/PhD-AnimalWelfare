{
 "cells": [
  {
   "cell_type": "code",
   "execution_count": 1,
   "metadata": {},
   "outputs": [
    {
     "name": "stderr",
     "output_type": "stream",
     "text": [
      "Warning message:\n",
      "\"package 'MCMCglmm' was built under R version 3.6.3\"\n",
      "Loading required package: Matrix\n",
      "\n",
      "Warning message:\n",
      "\"package 'Matrix' was built under R version 3.6.3\"\n",
      "Loading required package: coda\n",
      "\n",
      "Warning message:\n",
      "\"package 'coda' was built under R version 3.6.3\"\n",
      "Loading required package: ape\n",
      "\n",
      "Warning message:\n",
      "\"package 'ape' was built under R version 3.6.3\"\n",
      "Warning message:\n",
      "\"package 'nadiv' was built under R version 3.6.3\"\n",
      "\n",
      "Attaching package: 'nadiv'\n",
      "\n",
      "\n",
      "The following object is masked from 'package:MCMCglmm':\n",
      "\n",
      "    prunePed\n",
      "\n",
      "\n",
      "Warning message:\n",
      "\"package 'tidyverse' was built under R version 3.6.3\"\n",
      "-- \u001b[1mAttaching packages\u001b[22m --------------------------------------------------- tidyverse 1.3.1 --\n",
      "\n",
      "\u001b[32mv\u001b[39m \u001b[34mggplot2\u001b[39m 3.3.5     \u001b[32mv\u001b[39m \u001b[34mpurrr  \u001b[39m 0.3.4\n",
      "\u001b[32mv\u001b[39m \u001b[34mtibble \u001b[39m 3.1.1     \u001b[32mv\u001b[39m \u001b[34mdplyr  \u001b[39m 1.0.6\n",
      "\u001b[32mv\u001b[39m \u001b[34mtidyr  \u001b[39m 1.1.3     \u001b[32mv\u001b[39m \u001b[34mstringr\u001b[39m 1.4.0\n",
      "\u001b[32mv\u001b[39m \u001b[34mreadr  \u001b[39m 1.4.0     \u001b[32mv\u001b[39m \u001b[34mforcats\u001b[39m 0.5.1\n",
      "\n",
      "Warning message:\n",
      "\"package 'tibble' was built under R version 3.6.3\"\n",
      "Warning message:\n",
      "\"package 'tidyr' was built under R version 3.6.3\"\n",
      "Warning message:\n",
      "\"package 'readr' was built under R version 3.6.3\"\n",
      "Warning message:\n",
      "\"package 'purrr' was built under R version 3.6.3\"\n",
      "Warning message:\n",
      "\"package 'dplyr' was built under R version 3.6.3\"\n",
      "Warning message:\n",
      "\"package 'stringr' was built under R version 3.6.3\"\n",
      "Warning message:\n",
      "\"package 'forcats' was built under R version 3.6.3\"\n",
      "-- \u001b[1mConflicts\u001b[22m ------------------------------------------------------ tidyverse_conflicts() --\n",
      "\u001b[31mx\u001b[39m \u001b[34mtidyr\u001b[39m::\u001b[32mexpand()\u001b[39m masks \u001b[34mMatrix\u001b[39m::expand()\n",
      "\u001b[31mx\u001b[39m \u001b[34mdplyr\u001b[39m::\u001b[32mfilter()\u001b[39m masks \u001b[34mstats\u001b[39m::filter()\n",
      "\u001b[31mx\u001b[39m \u001b[34mdplyr\u001b[39m::\u001b[32mlag()\u001b[39m    masks \u001b[34mstats\u001b[39m::lag()\n",
      "\u001b[31mx\u001b[39m \u001b[34mtidyr\u001b[39m::\u001b[32mpack()\u001b[39m   masks \u001b[34mMatrix\u001b[39m::pack()\n",
      "\u001b[31mx\u001b[39m \u001b[34mtidyr\u001b[39m::\u001b[32munpack()\u001b[39m masks \u001b[34mMatrix\u001b[39m::unpack()\n",
      "\n"
     ]
    }
   ],
   "source": [
    "#library(lme4)\n",
    "library(MCMCglmm)\n",
    "library(broom)\n",
    "library(nadiv)\n",
    "library(tidyverse) #%>%"
   ]
  },
  {
   "cell_type": "code",
   "execution_count": 2,
   "metadata": {},
   "outputs": [],
   "source": [
    "library(parallel)\n",
    "my.cores = detectCores()"
   ]
  },
  {
   "cell_type": "markdown",
   "metadata": {},
   "source": [
    "# Download data"
   ]
  },
  {
   "cell_type": "code",
   "execution_count": 3,
   "metadata": {},
   "outputs": [
    {
     "name": "stdout",
     "output_type": "stream",
     "text": [
      "[1] 3230   33\n"
     ]
    },
    {
     "data": {
      "text/plain": [
       "     HenID           DIB             CLASS          PenID     temperature_C_avg\n",
       " hen_116:  43   Min.   :11.00   EPI     : 478   pen10  :504   Min.   : 4.000   \n",
       " hen_124:  43   1st Qu.:23.00   LEXP    : 965   pen11  :504   1st Qu.: 8.667   \n",
       " hen_127:  43   Median :33.00   LEXPLOST: 366   pen8   :430   Median :11.000   \n",
       " hen_136:  43   Mean   :33.59   MEXP    :1379   pen9   :429   Mean   :10.838   \n",
       " hen_147:  43   3rd Qu.:44.00   MEXPLOST:  42   pen4   :388   3rd Qu.:12.667   \n",
       " hen_151:  43   Max.   :54.00                   pen5   :363   Max.   :19.333   \n",
       " (Other):2972                                   (Other):612                    \n",
       "  tobeusedPCA     InitialWeight  Treatment_encoded    perc_duration_5_Zone\n",
       " Min.   :0.0000   Min.   :1046   Min.   :-1.0000000   Min.   :  0.00      \n",
       " 1st Qu.:0.0000   1st Qu.:1130   1st Qu.:-1.0000000   1st Qu.: 11.00      \n",
       " Median :0.0000   Median :1164   Median :-1.0000000   Median : 33.00      \n",
       " Mean   :0.1734   Mean   :1169   Mean   :-0.0006192   Mean   : 39.21      \n",
       " 3rd Qu.:0.0000   3rd Qu.:1200   3rd Qu.: 1.0000000   3rd Qu.: 66.00      \n",
       " Max.   :1.0000   Max.   :1350   Max.   : 1.0000000   Max.   :100.00      \n",
       "                                                                          \n",
       " perc_duration_4_Zone perc_duration_3_Zone perc_duration_2_Zone\n",
       " Min.   : 0.000       Min.   : 0.00        Min.   : 0.00       \n",
       " 1st Qu.: 4.000       1st Qu.: 7.00        1st Qu.:14.00       \n",
       " Median : 6.000       Median :17.00        Median :32.00       \n",
       " Mean   : 8.136       Mean   :18.27        Mean   :31.24       \n",
       " 3rd Qu.:10.000       3rd Qu.:28.00        3rd Qu.:46.00       \n",
       " Max.   :73.000       Max.   :70.00        Max.   :91.00       \n",
       "                                                               \n",
       " perc_1_Zone_while_WG_open nbr_stays_2_Zone_perh nbr_stays_4_Zone_perh\n",
       " Min.   : 0.000            Min.   :0.0000        Min.   :0.0000       \n",
       " 1st Qu.: 0.000            1st Qu.:0.4545        1st Qu.:0.2857       \n",
       " Median : 1.388            Median :1.0714        Median :0.5714       \n",
       " Mean   : 6.932            Mean   :1.1062        Mean   :0.7059       \n",
       " 3rd Qu.: 9.572            3rd Qu.:1.6667        3rd Qu.:1.0000       \n",
       " Max.   :87.949            Max.   :5.0909        Max.   :5.2500       \n",
       "                                                                      \n",
       " nbr_stays_3_Zone_perh nbr_stays_5_Zone_perh nbr_stays_1_Zone_perh\n",
       " Min.   :0.0000        Min.   :0.0000        Min.   :0.0000       \n",
       " 1st Qu.:0.6923        1st Qu.:0.2000        1st Qu.:0.0000       \n",
       " Median :1.3333        Median :0.3571        Median :0.1622       \n",
       " Mean   :1.3227        Mean   :0.4352        Mean   :0.4060       \n",
       " 3rd Qu.:1.8333        3rd Qu.:0.6000        3rd Qu.:0.6316       \n",
       " Max.   :5.1818        Max.   :3.1667        Max.   :3.5789       \n",
       "                                                                  \n",
       " in_WG_15mnAfterOpening SleepingHeight  vertical_travel_distance_perh\n",
       " Min.   :0.0000         Min.   :0.000   Min.   : 0.000               \n",
       " 1st Qu.:0.0000         1st Qu.:2.000   1st Qu.: 2.286               \n",
       " Median :0.0000         Median :3.000   Median : 3.600               \n",
       " Mean   :0.2065         Mean   :2.481   Mean   : 3.595               \n",
       " 3rd Qu.:0.0000         3rd Qu.:3.000   3rd Qu.: 4.800               \n",
       " Max.   :1.0000         Max.   :3.000   Max.   :12.308               \n",
       "                                                                     \n",
       "     avgDIB         severity        Feathers     Treatment      PC1         \n",
       " Min.   :32.91   Min.   : 6.00   Min.   :35.00   -1:1616   Min.   :-1.9150  \n",
       " 1st Qu.:32.91   1st Qu.:24.00   1st Qu.:58.67   1 :1614   1st Qu.:-0.7772  \n",
       " Median :33.36   Median :36.00   Median :66.33             Median : 0.1694  \n",
       " Mean   :33.59   Mean   :35.72   Mean   :65.81             Mean   : 0.0000  \n",
       " 3rd Qu.:34.00   3rd Qu.:46.00   3rd Qu.:73.67             3rd Qu.: 0.7268  \n",
       " Max.   :35.18   Max.   :84.00   Max.   :86.67             Max.   : 2.7714  \n",
       "                                 NA's   :42                                 \n",
       "      cDIB           cDIB2      temperature_C_avg_scale.V1    cDIB2_scale.V1   \n",
       " Min.   :11.00   Min.   : 121   Min.   :-2.1505151         Min.   :-1.3941334  \n",
       " 1st Qu.:23.00   1st Qu.: 529   1st Qu.:-0.6829345         1st Qu.:-0.9034919  \n",
       " Median :33.00   Median :1089   Median : 0.0508558         Median :-0.2300625  \n",
       " Mean   :33.59   Mean   :1280   Mean   : 0.0000000         Mean   : 0.0000000  \n",
       " 3rd Qu.:44.00   3rd Qu.:1936   3rd Qu.: 0.5749917         3rd Qu.: 0.7884996  \n",
       " Max.   :54.00   Max.   :2916   Max.   : 2.6715354         Max.   : 1.9670011  \n",
       "                                                                               \n",
       "    cDIB_scale.V1       avgDIB_scale.V1    InitialWeight_scale.V1\n",
       " Min.   :-1.8335663   Min.   :-1.0681873   Min.   :-1.9742093    \n",
       " 1st Qu.:-0.8597111   1st Qu.:-1.0681873   1st Qu.:-0.6252286    \n",
       " Median :-0.0481651   Median :-0.3677554   Median :-0.0792126    \n",
       " Mean   : 0.0000000   Mean   : 0.0000000   Mean   : 0.0000000    \n",
       " 3rd Qu.: 0.8445355   3rd Qu.: 0.6324925   3rd Qu.: 0.4989220    \n",
       " Max.   : 1.6560815   Max.   : 2.4750543   Max.   : 2.9078162    \n",
       "                                                                 "
      ]
     },
     "metadata": {},
     "output_type": "display_data"
    }
   ],
   "source": [
    "path_adapt = 'G:/VPHI/Welfare/2- Research Projects/OFHE2.OriginsE2/DataOutput/TrackingSystem/ALLDATA_/Adaptability'\n",
    "df = read.csv(file.path(path_adapt,'df_MVT_4individuality_withPCA.csv'), header = TRUE, sep = \",\")\n",
    "df$HenID = as.factor(df$HenID)   \n",
    "df$PenID = as.factor(df$PenID) \n",
    "#mean-centering of the environmental variable so that intercepts reflect average values for the population and individuals\n",
    "df$cDIB = as.integer(df$DIB) \n",
    "df$cDIB2 = poly(df$cDIB, degree=2,raw=TRUE)[,2]\n",
    "df$CLASS = as.factor(df$CLASS) \n",
    "df$Treatment = as.factor(df$Treatment) \n",
    "#scale all continuous fixed effectcs\n",
    "df$temperature_C_avg_scale = scale(df$temperature_C_avg, center=TRUE, scale=TRUE)\n",
    "df$cDIB2_scale = scale(df$cDIB2, center=TRUE, scale=TRUE)\n",
    "df$cDIB_scale = scale(df$cDIB, center=TRUE, scale=TRUE)\n",
    "df$avgDIB_scale = scale(df$avgDIB, center=TRUE, scale=TRUE)\n",
    "df$InitialWeight_scale = scale(df$InitialWeight, center=TRUE, scale=TRUE)\n",
    "print(dim(df))\n",
    "summary(df)"
   ]
  },
  {
   "cell_type": "code",
   "execution_count": 4,
   "metadata": {},
   "outputs": [
    {
     "data": {
      "text/html": [
       "80"
      ],
      "text/latex": [
       "80"
      ],
      "text/markdown": [
       "80"
      ],
      "text/plain": [
       "[1] 80"
      ]
     },
     "metadata": {},
     "output_type": "display_data"
    }
   ],
   "source": [
    "length(unique(df[['HenID']]))"
   ]
  },
  {
   "cell_type": "code",
   "execution_count": 5,
   "metadata": {},
   "outputs": [],
   "source": [
    "nsamp = 4000\n",
    "burn = 50000 #Matt: I would start with something more along 5000 no? is pattern i trace plot then augment\n",
    "thin = 2000 #interval at which the Markov chain is stored\n",
    "nitt = burn + nsamp * thin  #number of iterations"
   ]
  },
  {
   "cell_type": "code",
   "execution_count": 6,
   "metadata": {},
   "outputs": [],
   "source": [
    "#FROM INTERNET!!!\n",
    "clean.MCMC <- function(x) {\n",
    "    sols <- summary(x)$solutions  ## pull out relevant info from model summary\n",
    "    Gcovs <- summary(x)$Gcovariances\n",
    "    Rcovs <- summary(x)$Rcovariances\n",
    "    fixed <- data.frame(row.names(sols), sols, row.names = NULL)  ## convert to dataframes with the row.names as the first col\n",
    "    random <- data.frame(row.names(Gcovs), Gcovs, row.names = NULL)\n",
    "    residual <- data.frame(row.names(Rcovs), Rcovs, row.names = NULL)\n",
    "    names(fixed)[names(fixed) == \"row.names.sols.\"] <- \"variable\"  ## change the columns names to variable, so they all match\n",
    "    names(random)[names(random) == \"row.names.Gcovs.\"] <- \"variable\"\n",
    "    names(residual)[names(residual) == \"row.names.Rcovs.\"] <- \"variable\"\n",
    "    fixed$effect <- \"fixed\"  ## add ID column for type of effect (fixed, random, residual)\n",
    "    random$effect <- \"random\"\n",
    "    residual$effect <- \"residual\"\n",
    "    modelTerms <- as.data.frame(bind_rows(fixed, random, residual))  # merge it all together\n",
    "}\n",
    "getName.MCMC <- function(x) deparse(substitute(x))  # add the model name"
   ]
  },
  {
   "cell_type": "markdown",
   "metadata": {},
   "source": [
    "# Random Intercept Model"
   ]
  },
  {
   "cell_type": "code",
   "execution_count": null,
   "metadata": {},
   "outputs": [],
   "source": [
    "#with PenID\n",
    "RI_prior = list(R = list(V = 1, nu = 1.002),\n",
    "                G = list(G1 = list(V = 1, nu = 1.002, alpha.mu = 0, alpha.V = 1000),\n",
    "                         G2 = list(V = 1, nu = 1.002, alpha.mu = 0, alpha.V = 1000)))\n",
    "set.seed(123)\n",
    "R1_model1 = MCMCglmm(PC1 ~ cDIB_scale + cDIB2_scale + avgDIB_scale + Treatment_encoded + CLASS + temperature_C_avg_scale + InitialWeight_scale,\n",
    "                    random = ~ PenID + PenID:HenID,\n",
    "                    prior = RI_prior,\n",
    "                    data = df,\n",
    "                    family = \"gaussian\",\n",
    "                    pr = TRUE, verbose = FALSE, saveX = TRUE, saveZ = TRUE, thin = thin, burnin= burn, nitt= nitt)\n",
    "plot(R1_model1$VCV)\n",
    "#trace plots for fixed effect\n",
    "plot(R1_model1$Sol)\n",
    "summary(R1_model1)\n",
    "\n",
    "####control long-term repeatability estimates with penid###\n",
    "#new posterior distribution of repeatability: ‘proportion of exploration variance explained by differences among individuals\n",
    "PCrepeat1 =  R1_model1$VCV[,\"PenID:HenID\"]/(R1_model1$VCV[,\"PenID:HenID\"] + R1_model1$VCV[,\"units\"])\n",
    "mean(PCrepeat1)\n",
    "posterior.mode(PCrepeat1)\n",
    "HPDinterval(PCrepeat1)\n",
    "\n",
    "#save\n",
    "df_saved = clean.MCMC(R1_model1)  # get all the info from summary(modelName)\n",
    "df_saved$modelName = getName.MCMC(R1_model1)  # add the model's name in a new column\n",
    "head(df_saved,3)  # check out the created dataframe\n",
    "write.csv(df_saved, file.path(path_adapt,'R1_model1.csv'))"
   ]
  },
  {
   "cell_type": "code",
   "execution_count": null,
   "metadata": {},
   "outputs": [],
   "source": [
    "autocorr.diag(R1_model1$Sol[,1:9]) #8 fixed effect and intercept\n",
    "autocorr.diag(R1_model1$VCV)"
   ]
  },
  {
   "cell_type": "code",
   "execution_count": null,
   "metadata": {},
   "outputs": [],
   "source": [
    "#save\n",
    "df_saved = clean.MCMC(R1_model1)  # get all the info from summary(modelName)\n",
    "df_saved$modelName = getName.MCMC(R1_model1)  # add the model's name in a new column\n",
    "head(df_saved,3)  # check out the created dataframe\n",
    "write.csv(df_saved, file.path(path_adapt,'R1_model1.csv'))"
   ]
  },
  {
   "cell_type": "code",
   "execution_count": null,
   "metadata": {},
   "outputs": [],
   "source": [
    "#without PenID\n",
    "RI_prior = list(R = list(V = 1, nu = 1.002),\n",
    "                G = list(G1 = list(V = 1, nu = 1.002, alpha.mu = 0, alpha.V = 1000)))\n",
    "set.seed(123)\n",
    "RI_model2 = MCMCglmm(PC1 ~ cDIB_scale + cDIB2_scale + avgDIB_scale + Treatment_encoded + CLASS + temperature_C_avg_scale + InitialWeight_scale,\n",
    "                    random = ~ HenID,\n",
    "                    prior = RI_prior,\n",
    "                    data = df,\n",
    "                    family = \"gaussian\",\n",
    "                    pr = TRUE, verbose = FALSE, saveX = TRUE, saveZ = TRUE, thin = thin, burnin= burn, nitt= nitt)\n",
    "plot(RI_model2$VCV)\n",
    "#trace plots for fixed effect\n",
    "plot(RI_model2$Sol)\n",
    "summary(RI_model2)\n",
    "\n",
    "####control long-term repeatability estimates without penid###\n",
    "#new posterior distribution of repeatability: ‘proportion of exploration variance explained by differences among individuals\n",
    "PCrepeat2 =  RI_model2$VCV[,\"HenID\"]/(RI_model2$VCV[,\"HenID\"] + RI_model2$VCV[,\"units\"])\n",
    "mean(PCrepeat2)\n",
    "posterior.mode(PCrepeat2)\n",
    "HPDinterval(PCrepeat2)\n"
   ]
  },
  {
   "cell_type": "code",
   "execution_count": null,
   "metadata": {},
   "outputs": [],
   "source": [
    "autocorr.diag(RI_model2$Sol[,1:9]) #8 fixed effect and intercept\n",
    "autocorr.diag(RI_model2$VCV)"
   ]
  },
  {
   "cell_type": "code",
   "execution_count": null,
   "metadata": {},
   "outputs": [],
   "source": [
    "#save\n",
    "df_saved = clean.MCMC(RI_model2)  # get all the info from summary(modelName)\n",
    "df_saved$modelName = getName.MCMC(RI_model2)  # add the model's name in a new column\n",
    "head(df_saved,3)  # check out the created dataframe\n",
    "write.csv(df_saved, file.path(path_adapt,'RI_model2.csv'))"
   ]
  },
  {
   "cell_type": "markdown",
   "metadata": {},
   "source": [
    "# Linear Random Slope Model"
   ]
  },
  {
   "cell_type": "code",
   "execution_count": null,
   "metadata": {},
   "outputs": [],
   "source": [
    "#with PenID\n",
    "#prior\n",
    "RR_prior = list(R = list(V = 1, nu = 1.002),\n",
    "                G = list(G1 = list(V = 1, nu = 1.002, alpha.mu = 0, alpha.V = 1000),\n",
    "                         G2 = list(V = diag(2), nu = 2, \n",
    "                                   alpha.mu = rep(0,2), \n",
    "                                   alpha.V = diag(2) * 25^2)))\n",
    "#PC1\n",
    "set.seed(123)\n",
    "RR_model1 = MCMCglmm(PC1 ~ cDIB_scale + cDIB2_scale + avgDIB_scale + Treatment_encoded + CLASS + temperature_C_avg_scale + InitialWeight_scale,\n",
    "                     random = ~ PenID + us(1 + cDIB_scale):PenID:HenID,\n",
    "                     prior = RR_prior,\n",
    "                     data = df,\n",
    "                     family = \"gaussian\",\n",
    "                     pr = TRUE, verbose = FALSE, saveX = TRUE, saveZ = TRUE,thin = thin, burnin= burn, nitt= nitt)\n",
    "summary(RR_model1)\n",
    "\n",
    "\n",
    "#posterior distribution of the among-individual variation in linear slopes term\n",
    "plot(RR_model1$VCV[,\"cDIB_scale:cDIB_scale.PenID:HenID\"])\n",
    "mean(RR_model1$VCV[,\"cDIB_scale:cDIB_scale.PenID:HenID\"])\n",
    "HPDinterval(RR_model1$VCV[,\"cDIB_scale:cDIB_scale.PenID:HenID\"])\n",
    "\n",
    "#################################### correlations random effects & random effects\n",
    "###correlation between intercept and linear slope###\n",
    "corr_IL = RR_model1$VCV[,\"cDIB_scale:(Intercept).PenID:HenID\"]/\n",
    "  (sqrt(RR_model1$VCV[,\"(Intercept):(Intercept).PenID:HenID\"])*\n",
    "     sqrt(RR_model1$VCV[,\"cDIB_scale:cDIB_scale.PenID:HenID\"]))\n",
    "posterior.mode(corr_IL)\n",
    "HPDinterval(corr_IL)\n"
   ]
  },
  {
   "cell_type": "code",
   "execution_count": null,
   "metadata": {},
   "outputs": [],
   "source": [
    "autocorr.diag(RR_model1$Sol[,1:9]) #8 fixed effect and intercept\n",
    "autocorr.diag(RR_model1$VCV)"
   ]
  },
  {
   "cell_type": "code",
   "execution_count": null,
   "metadata": {},
   "outputs": [],
   "source": [
    "\n",
    "#save\n",
    "df_saved = clean.MCMC(RR_model1)  # get all the info from summary(modelName)\n",
    "df_saved$modelName = getName.MCMC(RR_model1)  # add the model's name in a new column\n",
    "head(df_saved,3)  # check out the created dataframe\n",
    "write.csv(df_saved, file.path(path_adapt,'RR_model1.csv'))"
   ]
  },
  {
   "cell_type": "code",
   "execution_count": null,
   "metadata": {},
   "outputs": [],
   "source": [
    "#without PenID\n",
    "#prior\n",
    "RR_prior = list(R = list(V = 1, nu = 1.002),\n",
    "                G = list(G1 = list(V = diag(2), nu = 2, \n",
    "                                   alpha.mu = rep(0,2), \n",
    "                                   alpha.V = diag(2) * 25^2)))\n",
    "#PC1\n",
    "set.seed(123)\n",
    "RR_model2 = MCMCglmm(PC1 ~ cDIB_scale + cDIB2_scale + avgDIB_scale + Treatment_encoded + CLASS + temperature_C_avg_scale + InitialWeight_scale,\n",
    "                     random = ~ us(1 + cDIB_scale):HenID,\n",
    "                     prior = RR_prior,\n",
    "                     data = df,\n",
    "                     family = \"gaussian\",\n",
    "                     pr = TRUE, verbose = FALSE, saveX = TRUE, saveZ = TRUE,thin = thin, burnin= burn, nitt= nitt)\n",
    "summary(RR_model2)\n",
    "\n",
    "#posterior distribution of the among-individual variation in linear slopes term\n",
    "plot(RR_model2$VCV[,\"cDIB_scale:cDIB_scale.HenID\"])\n",
    "mean(RR_model2$VCV[,\"cDIB_scale:cDIB_scale.HenID\"])\n",
    "HPDinterval(RR_model2$VCV[,\"cDIB_scale:cDIB_scale.HenID\"])\n",
    "\n",
    "#################################### correlations random effects & random effects\n",
    "###correlation between intercept and linear slope###\n",
    "corr_IL = RR_model2$VCV[,\"cDIB_scale:(Intercept).HenID\"]/\n",
    "  (sqrt(RR_model2$VCV[,\"(Intercept):(Intercept).HenID\"])*\n",
    "     sqrt(RR_model2$VCV[,\"cDIB_scale:cDIB_scale.HenID\"]))\n",
    "posterior.mode(corr_IL)\n",
    "HPDinterval(corr_IL)\n"
   ]
  },
  {
   "cell_type": "code",
   "execution_count": null,
   "metadata": {},
   "outputs": [],
   "source": [
    "autocorr.diag(RR_model2$Sol[,1:9]) #8 fixed effect and intercept\n",
    "autocorr.diag(RR_model2$VCV)"
   ]
  },
  {
   "cell_type": "code",
   "execution_count": null,
   "metadata": {},
   "outputs": [],
   "source": [
    "#save\n",
    "df_saved = clean.MCMC(RR_model2)  # get all the info from summary(modelName)\n",
    "df_saved$modelName = getName.MCMC(RR_model2)  # add the model's name in a new column\n",
    "head(df_saved,3)  # check out the created dataframe\n",
    "write.csv(df_saved, file.path(path_adapt,'RR_model2.csv'))"
   ]
  },
  {
   "cell_type": "markdown",
   "metadata": {},
   "source": [
    "# Quadratic Random Slope Model"
   ]
  },
  {
   "cell_type": "code",
   "execution_count": null,
   "metadata": {},
   "outputs": [],
   "source": [
    "#with PenID\n",
    "#prior\n",
    "RR_prior = list(R = list(V = 1, nu = 1.002),\n",
    "                G = list(G1 = list(V = 1, nu = 1.002, alpha.mu = 0, alpha.V = 1000),\n",
    "                         G2 = list(V = diag(3), nu = 3, \n",
    "                                   alpha.mu = rep(0,3), \n",
    "                                   alpha.V = diag(3) * 25^2)))\n",
    "#PC1\n",
    "set.seed(123)\n",
    "RR_model_Q1 = MCMCglmm(PC1 ~ cDIB_scale + cDIB2_scale + avgDIB_scale + Treatment_encoded + CLASS + temperature_C_avg_scale + InitialWeight_scale,\n",
    "                     random = ~ PenID + us(1 + cDIB_scale + cDIB2_scale):PenID:HenID,\n",
    "                     prior = RR_prior,\n",
    "                     data = df,\n",
    "                     family = \"gaussian\",\n",
    "                     pr = TRUE, verbose = FALSE, saveX = TRUE, saveZ = TRUE,thin = thin, burnin= burn, nitt= nitt)\n",
    "summary(RR_model_Q1)\n",
    "\n",
    "\n",
    "#posterior distribution of the among-individual variation in linear slopes term\n",
    "plot(RR_model_Q1$VCV[,\"cDIB_scale:cDIB_scale.PenID:HenID\"])\n",
    "mean(RR_model_Q1$VCV[,\"cDIB_scale:cDIB_scale.PenID:HenID\"])\n",
    "HPDinterval(RR_model_Q1$VCV[,\"cDIB_scale:cDIB_scale.PenID:HenID\"])\n",
    "\n",
    "#posterior distribution of the among-individual variation in quadratic slopes term\n",
    "plot(RR_model_Q1$VCV[,\"cDIB2_scale:cDIB2_scale.PenID:HenID\"])\n",
    "mean(RR_model_Q1$VCV[,\"cDIB2_scale:cDIB2_scale.PenID:HenID\"])\n",
    "HPDinterval(RR_model_Q1$VCV[,\"cDIB2_scale:cDIB2_scale.PenID:HenID\"])\n",
    "\n",
    "#################################### correlations random effects & random effects\n",
    "###correlation between intercept and linear slope###\n",
    "corr_IL = RR_model_Q1$VCV[,\"cDIB_scale:(Intercept).PenID:HenID\"]/\n",
    "  (sqrt(RR_model_Q1$VCV[,\"(Intercept):(Intercept).PenID:HenID\"])*\n",
    "     sqrt(RR_model_Q1$VCV[,\"cDIB_scale:cDIB_scale.PenID:HenID\"]))\n",
    "posterior.mode(corr_IL)\n",
    "HPDinterval(corr_IL)\n",
    "\n",
    "###correlation between intercept and quadratic linear slope###\n",
    "corr_IQ = RR_model_Q1$VCV[,\"cDIB2_scale:(Intercept).PenID:HenID\"]/\n",
    "  (sqrt(RR_model_Q1$VCV[,\"(Intercept):(Intercept).PenID:HenID\"])*\n",
    "     sqrt(RR_model_Q1$VCV[,\"cDIB2_scale:cDIB2_scale.PenID:HenID\"]))\n",
    "posterior.mode(corr_IQ)\n",
    "HPDinterval(corr_IQ)\n",
    "\n",
    "###correlation between linear slope and quadratic linear slope###\n",
    "corr_LQ = RR_model_Q1$VCV[,\"cDIB_scale:cDIB2_scale.PenID:HenID\"]/\n",
    "  (sqrt(RR_model_Q1$VCV[,\"cDIB2_scale:cDIB2_scale.PenID:HenID\"])*\n",
    "     sqrt(RR_model_Q1$VCV[,\"cDIB_scale:cDIB_scale.PenID:HenID\"]))\n",
    "posterior.mode(corr_LQ)\n",
    "HPDinterval(corr_LQ)\n"
   ]
  },
  {
   "cell_type": "code",
   "execution_count": null,
   "metadata": {},
   "outputs": [],
   "source": [
    "autocorr.diag(RR_model_Q1$Sol[,1:9]) #8 fixed effect and intercept\n",
    "autocorr.diag(RR_model_Q1$VCV)"
   ]
  },
  {
   "cell_type": "code",
   "execution_count": null,
   "metadata": {},
   "outputs": [],
   "source": [
    "#save\n",
    "df_saved = clean.MCMC(RR_model_Q1)  # get all the info from summary(modelName)\n",
    "df_saved$modelName = getName.MCMC(RR_model_Q1)  # add the model's name in a new column\n",
    "head(df_saved,3)  # check out the created dataframe\n",
    "write.csv(df_saved, file.path(path_adapt,'RR_model_Q1.csv'))"
   ]
  },
  {
   "cell_type": "code",
   "execution_count": null,
   "metadata": {},
   "outputs": [],
   "source": [
    "#without PenID\n",
    "#prior\n",
    "RR_prior = list(R = list(V = 1, nu = 1.002),\n",
    "                G = list(G1 = list(V = diag(3), nu = 3, \n",
    "                                   alpha.mu = rep(0,3), \n",
    "                                   alpha.V = diag(3) * 25^2)))\n",
    "#PC1\n",
    "set.seed(123)\n",
    "RR_model_Q2 = MCMCglmm(PC1 ~ cDIB_scale + cDIB2_scale + avgDIB_scale + Treatment_encoded + CLASS + temperature_C_avg_scale + InitialWeight_scale,\n",
    "                     random = ~ us(1 + cDIB_scale + cDIB2_scale):HenID,\n",
    "                     prior = RR_prior,\n",
    "                     data = df,\n",
    "                     family = \"gaussian\",\n",
    "                     pr = TRUE, verbose = FALSE, saveX = TRUE, saveZ = TRUE,thin = thin, burnin= burn, nitt= nitt)\n",
    "summary(RR_model_Q2)\n",
    "\n",
    "#posterior distribution of the among-individual variation in linear slopes term\n",
    "plot(RR_model_Q2$VCV[,\"cDIB_scale:cDIB_scale.HenID\"])\n",
    "mean(RR_model_Q2$VCV[,\"cDIB_scale:cDIB_scale.HenID\"])\n",
    "HPDinterval(RR_model_Q2$VCV[,\"cDIB_scale:cDIB_scale.HenID\"])\n",
    "\n",
    "#posterior distribution of the among-individual variation in quadratic slopes term\n",
    "plot(RR_model_Q2$VCV[,\"cDIB2_scale:cDIB2_scale.HenID\"])\n",
    "mean(RR_model_Q2$VCV[,\"cDIB2_scale:cDIB2_scale.HenID\"])\n",
    "HPDinterval(RR_model_Q2$VCV[,\"cDIB2_scale:cDIB2_scale.HenID\"])\n",
    "\n",
    "#################################### correlations random effects & random effects\n",
    "###correlation between intercept and linear slope###\n",
    "corr_IL = RR_model_Q2$VCV[,\"cDIB_scale:(Intercept).HenID\"]/\n",
    "  (sqrt(RR_model_Q2$VCV[,\"(Intercept):(Intercept).HenID\"])*\n",
    "     sqrt(RR_model_Q2$VCV[,\"cDIB_scale:cDIB_scale.HenID\"]))\n",
    "posterior.mode(corr_IL)\n",
    "HPDinterval(corr_IL)\n",
    "\n",
    "###correlation between intercept and quadratic linear slope###\n",
    "corr_IQ = RR_model_Q2$VCV[,\"cDIB2_scale:(Intercept).HenID\"]/\n",
    "  (sqrt(RR_model_Q2$VCV[,\"(Intercept):(Intercept).HenID\"])*\n",
    "     sqrt(RR_model_Q2$VCV[,\"cDIB2_scale:cDIB2_scale.HenID\"]))\n",
    "posterior.mode(corr_IQ)\n",
    "HPDinterval(corr_IQ)\n",
    "\n",
    "###correlation between linear slope and quadratic linear slope###\n",
    "corr_LQ = RR_model_Q2$VCV[,\"cDIB_scale:cDIB2_scale.HenID\"]/\n",
    "  (sqrt(RR_model_Q2$VCV[,\"cDIB2_scale:cDIB2_scale.HenID\"])*\n",
    "     sqrt(RR_model_Q2$VCV[,\"cDIB_scale:cDIB_scale.HenID\"]))\n",
    "posterior.mode(corr_LQ)\n",
    "HPDinterval(corr_LQ)"
   ]
  },
  {
   "cell_type": "code",
   "execution_count": null,
   "metadata": {},
   "outputs": [],
   "source": [
    "autocorr.diag(RR_model_Q2$Sol[,1:9]) #8 fixed effect and intercept\n",
    "autocorr.diag(RR_model_Q2$VCV)"
   ]
  },
  {
   "cell_type": "code",
   "execution_count": null,
   "metadata": {},
   "outputs": [],
   "source": [
    "#save\n",
    "df_saved = clean.MCMC(RR_model_Q2)  # get all the info from summary(modelName)\n",
    "df_saved$modelName = getName.MCMC(RR_model_Q2)  # add the model's name in a new column\n",
    "head(df_saved,3)  # check out the created dataframe\n",
    "write.csv(df_saved, file.path(path_adapt,'RR_model_Q2.csv'))"
   ]
  },
  {
   "cell_type": "markdown",
   "metadata": {},
   "source": [
    "# Prediction of best model"
   ]
  },
  {
   "cell_type": "code",
   "execution_count": null,
   "metadata": {},
   "outputs": [],
   "source": [
    "path_adapt = 'C:/Users/camil/Desktop/animals_code/PhD-AnimalWelfare/Chapter1-EarlyMovementLateHealth/FICHIER'\n",
    "save(R1_model1, file = file.path(path_adapt,\"R1_model1.RData\"))\n",
    "#load(coda.samples.RData)\n",
    "path_adapt = 'C:/Users/camil/Desktop/animals_code/PhD-AnimalWelfare/Chapter1-EarlyMovementLateHealth/FICHIER'\n",
    "save(RI_model2, file = file.path(path_adapt,\"RI_model2.RData\"))\n",
    "#load(coda.samples.RData)\n",
    "path_adapt = 'C:/Users/camil/Desktop/animals_code/PhD-AnimalWelfare/Chapter1-EarlyMovementLateHealth/FICHIER'\n",
    "save(RR_model1, file = file.path(path_adapt,\"RR_model1.RData\"))\n",
    "#load(coda.samples.RData)\n",
    "path_adapt = 'C:/Users/camil/Desktop/animals_code/PhD-AnimalWelfare/Chapter1-EarlyMovementLateHealth/FICHIER'\n",
    "save(RR_model2, file = file.path(path_adapt,\"RR_model2.RData\"))\n",
    "#load(coda.samples.RData)\n",
    "path_adapt = 'C:/Users/camil/Desktop/animals_code/PhD-AnimalWelfare/Chapter1-EarlyMovementLateHealth/FICHIER'\n",
    "save(RR_model_Q1, file = file.path(path_adapt,\"RR_model_Q1.RData\"))\n",
    "#load(coda.samples.RData)\n",
    "path_adapt = 'C:/Users/camil/Desktop/animals_code/PhD-AnimalWelfare/Chapter1-EarlyMovementLateHealth/FICHIER'\n",
    "save(RR_model_Q2, file = file.path(path_adapt,\"RR_model_Q2.RData\"))\n",
    "#load(coda.samples.RData)"
   ]
  },
  {
   "cell_type": "code",
   "execution_count": null,
   "metadata": {},
   "outputs": [],
   "source": [
    "model_test = load(file.path(path_adapt,\"RR_model_Q2.RData\"))"
   ]
  },
  {
   "cell_type": "code",
   "execution_count": null,
   "metadata": {},
   "outputs": [],
   "source": [
    "model_test"
   ]
  },
  {
   "cell_type": "code",
   "execution_count": null,
   "metadata": {},
   "outputs": [],
   "source": [
    "R1_model1$DIC\n",
    "RI_model2$DIC\n",
    "RR_model1$DIC\n",
    "RR_model2$DIC\n",
    "RR_model_Q1$DIC\n",
    "RR_model_Q2$DIC"
   ]
  },
  {
   "cell_type": "code",
   "execution_count": null,
   "metadata": {},
   "outputs": [],
   "source": [
    "#Predictions\n",
    "df_rand = cbind(df,\n",
    "                ri1_fit_marginalnull =predict(R1_model1, marginal = NULL), #TODO: what does marginal mean??\n",
    "                ri2_fit_marginalnull =predict(RI_model2, marginal = NULL),\n",
    "                rr1_fit_marginalnull =predict(RR_model1, marginal = NULL),\n",
    "                rr2_fit_marginalnull =predict(RR_model2, marginal = NULL),\n",
    "                rrq1_fit_marginalnull =predict(RR_model_Q1, marginal = NULL),\n",
    "                rrq2_fit_marginalnull =predict(RR_model_Q2, marginal = NULL),\n",
    "                ri1_fit_marginalnull =predict(R1_model1, marginal = ~PenID + PenID:HenID),\n",
    "                ri2_fit_marginalnull =predict(RI_model2, marginal = ~HenID),\n",
    "                rr1_fit_marginalnull =predict(RR_model1, marginal = ~PenID + us(1 + cDIB_scale):PenID:HenID),\n",
    "                rr2_fit_marginalnull =predict(RR_model2, marginal = ~us(1 + cDIB_scale):HenID),\n",
    "                rrq1_fit_marginalnull =predict(RR_model_Q1, marginal = ~PenID + us(1 + cDIB_scale + cDIB2_scale):PenID:HenID),\n",
    "                rrq2_fit_marginalnull =predict(RR_model_Q2, marginal = ~us(1 + cDIB_scale + cDIB2_scale):HenID))"
   ]
  },
  {
   "cell_type": "code",
   "execution_count": null,
   "metadata": {},
   "outputs": [],
   "source": [
    "head(df_rand,2)"
   ]
  },
  {
   "cell_type": "code",
   "execution_count": null,
   "metadata": {},
   "outputs": [],
   "source": [
    "write.csv(df_rand,file.path(path_adapt,'df_MVT_4individuality_withPCA_withPredictions.csv'))"
   ]
  },
  {
   "cell_type": "raw",
   "metadata": {},
   "source": [
    "*diagnostic plot: trace plot: we dont want to much spikes and most importantly no signals/tendency (suggesting autocorrelation: samples tend to have similar values as the directly preceding samples)\n",
    "*autocorrelation: check if trace plot not good: https://github.com/tmalsburg/MCMCglmm-intro\n",
    "#other(e.g. of autocorrelation, robustness todifferent priors, and good model convergence using the geweke.diag and gelman.diag diagnostic functions: e.g. https://github.com/tmalsburg/MCMCglmm-intro & https://r-sig-mixed-models.r-project.narkive.com/rGHgRMmI/r-sig-me-convergence-diagnostics-for-mcmcglmm)\n",
    "#diag(autocorr(mcmc_E_B_us$VCV)[2, , ]) #diag: to take variance of each random effects, not the cov\n",
    "##effectsize: we’ve only sampled the fosternest variance about half as well as theother two variance components (iff 472 VS 1000 for e.g.)\n",
    "#posterior correlation between the parameters (low <20): cor(mcmc_E_B_us$VCV)\n",
    "#HPDinterval(m3a.1$VCV) #The lower 95% credible interval for the random effect variance\n",
    "\n",
    "\n",
    "*that trait hasno within-individual variance, andwithin-individual correlations involvingfitness must be 0 --> We can set the variance component to a particular value using thefixcommand\n",
    "*\"Unlikelme4andASReml,MCMCglmmdoes not include formal model comparison tools, which canmake evaluating competing models difficult for those of us used to P-values! WhileMCMCglmmdoes provide DIC (Deviance Information Criterion) for model fits, the author of the packagehas noted that this should not be used in formal model testing (see mailing list thread here). We might usethis as an informal guide, however, along with looking at the credible intervals and model predictions. Here we see that the random slopes model has a much lower DIC score, indicating that it provides a better fit to the data (even after penalising the additional parameters)\"\n",
    "*verbose=True to print MH diagnostics\n",
    "\n",
    "output\n",
    "*G-structure then contains information about the random effects (co)variances (among-individual (co)variances). output to be able to put back into a matrix RANDOM EFFECTS\n",
    "*R-structure the residual (co)variances RESIDUALS:UNITS among RESPONSE VAR\n",
    "*Location effects holds the fixed effects results information\n",
    "*\"The element of the output called Sol contains the distribution for the mean \n",
    "*\"element called VCV contains the distribution for the variance\"\n",
    "\n",
    "results\n",
    "\"For fixed effects, statistical significanceof a variable can be determined by evaluating simply whether its 95% credible intervals cross zero (given that your model stands up to scrutiny of the diagnostic checks mentioned above!). However, things are slightlytrickier when we come to the random effects, as the posterior distribution for variance components shouldnever include zero\""
   ]
  },
  {
   "cell_type": "code",
   "execution_count": null,
   "metadata": {},
   "outputs": [],
   "source": []
  },
  {
   "cell_type": "code",
   "execution_count": null,
   "metadata": {},
   "outputs": [],
   "source": []
  },
  {
   "cell_type": "code",
   "execution_count": null,
   "metadata": {},
   "outputs": [],
   "source": []
  },
  {
   "cell_type": "code",
   "execution_count": null,
   "metadata": {},
   "outputs": [],
   "source": []
  },
  {
   "cell_type": "code",
   "execution_count": null,
   "metadata": {},
   "outputs": [],
   "source": []
  },
  {
   "cell_type": "code",
   "execution_count": null,
   "metadata": {},
   "outputs": [],
   "source": []
  }
 ],
 "metadata": {
  "kernelspec": {
   "display_name": " Rkernel ",
   "language": "R",
   "name": "rkernel"
  },
  "language_info": {
   "codemirror_mode": "r",
   "file_extension": ".r",
   "mimetype": "text/x-r-source",
   "name": "R",
   "pygments_lexer": "r",
   "version": "3.6.1"
  }
 },
 "nbformat": 4,
 "nbformat_minor": 4
}
