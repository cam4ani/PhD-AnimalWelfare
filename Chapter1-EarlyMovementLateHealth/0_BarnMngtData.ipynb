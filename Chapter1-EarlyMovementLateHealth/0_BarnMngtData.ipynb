{
 "cells": [
  {
   "cell_type": "code",
   "execution_count": 1,
   "metadata": {},
   "outputs": [],
   "source": [
    "#basic package\n",
    "import os\n",
    "import numpy as np\n",
    "import pandas as pd\n",
    "import time\n",
    "import datetime as dt\n",
    "import sys\n",
    "\n",
    "#plot\n",
    "import matplotlib.pyplot as plt\n",
    "import seaborn as sns"
   ]
  },
  {
   "cell_type": "code",
   "execution_count": 2,
   "metadata": {},
   "outputs": [
    {
     "name": "stderr",
     "output_type": "stream",
     "text": [
      "C:\\Users\\camil\\anaconda3\\lib\\site-packages\\scipy\\sparse\\sparsetools.py:21: DeprecationWarning: `scipy.sparse.sparsetools` is deprecated!\n",
      "scipy.sparse.sparsetools is a private module for scipy.sparse, and should not be used.\n",
      "  _deprecated()\n"
     ]
    },
    {
     "name": "stdout",
     "output_type": "stream",
     "text": [
      "2\n"
     ]
    }
   ],
   "source": [
    "PACKAGE_PARENT = '../'\n",
    "SCRIPT_DIR = os.path.dirname(os.path.realpath(os.path.join(os.getcwd(), os.path.expanduser('__file__'))))\n",
    "sys.path.append(os.path.normpath(os.path.join(SCRIPT_DIR, PACKAGE_PARENT)))\n",
    "from UTILS import is_day, findDay, is_day, is_WG_open\n",
    "import config_origins as config"
   ]
  },
  {
   "cell_type": "markdown",
   "metadata": {},
   "source": [
    "# Define parameters"
   ]
  },
  {
   "cell_type": "code",
   "execution_count": 3,
   "metadata": {
    "scrolled": true
   },
   "outputs": [
    {
     "name": "stdout",
     "output_type": "stream",
     "text": [
      "change the configuration file if not done yet!\n"
     ]
    }
   ],
   "source": [
    "print('change the configuration file if not done yet!')\n",
    "path_extracted_data = config.path_extracted_data\n",
    "id_run = config.id_run\n",
    "dico_garden_opening_hour = config.dico_garden_opening_hour\n",
    "date_first_opening_WG = config.date_first_opening_WG\n",
    "close_dates = config.close_dates\n",
    "dico_night_hour = config.dico_night_hour\n",
    "max_date_adaptability = config.max_date_adaptability\n",
    "path_extracted_data_visual_adap = os.path.join(path_extracted_data,'Adaptability')"
   ]
  },
  {
   "cell_type": "markdown",
   "metadata": {},
   "source": [
    "## Understand the data visually"
   ]
  },
  {
   "cell_type": "code",
   "execution_count": 4,
   "metadata": {},
   "outputs": [],
   "source": [
    "li_date = list(pd.date_range(start = dt.datetime(2020,9,30), end = max_date_adaptability, freq = 'D'))\n",
    "li_hours = list(range(0,24))"
   ]
  },
  {
   "cell_type": "code",
   "execution_count": 5,
   "metadata": {},
   "outputs": [
    {
     "name": "stdout",
     "output_type": "stream",
     "text": [
      "(54, 25)\n"
     ]
    },
    {
     "data": {
      "text/html": [
       "<div>\n",
       "<style scoped>\n",
       "    .dataframe tbody tr th:only-of-type {\n",
       "        vertical-align: middle;\n",
       "    }\n",
       "\n",
       "    .dataframe tbody tr th {\n",
       "        vertical-align: top;\n",
       "    }\n",
       "\n",
       "    .dataframe thead th {\n",
       "        text-align: right;\n",
       "    }\n",
       "</style>\n",
       "<table border=\"1\" class=\"dataframe\">\n",
       "  <thead>\n",
       "    <tr style=\"text-align: right;\">\n",
       "      <th></th>\n",
       "      <th>0</th>\n",
       "      <th>1</th>\n",
       "      <th>2</th>\n",
       "      <th>3</th>\n",
       "      <th>4</th>\n",
       "      <th>5</th>\n",
       "      <th>6</th>\n",
       "      <th>7</th>\n",
       "      <th>8</th>\n",
       "      <th>9</th>\n",
       "      <th>...</th>\n",
       "      <th>15</th>\n",
       "      <th>16</th>\n",
       "      <th>17</th>\n",
       "      <th>18</th>\n",
       "      <th>19</th>\n",
       "      <th>20</th>\n",
       "      <th>21</th>\n",
       "      <th>22</th>\n",
       "      <th>23</th>\n",
       "      <th>date</th>\n",
       "    </tr>\n",
       "  </thead>\n",
       "  <tbody>\n",
       "    <tr>\n",
       "      <th>0</th>\n",
       "      <td>0</td>\n",
       "      <td>0</td>\n",
       "      <td>0</td>\n",
       "      <td>0</td>\n",
       "      <td>0</td>\n",
       "      <td>0</td>\n",
       "      <td>0</td>\n",
       "      <td>0</td>\n",
       "      <td>0</td>\n",
       "      <td>1</td>\n",
       "      <td>...</td>\n",
       "      <td>1</td>\n",
       "      <td>1</td>\n",
       "      <td>0</td>\n",
       "      <td>0</td>\n",
       "      <td>0</td>\n",
       "      <td>0</td>\n",
       "      <td>0</td>\n",
       "      <td>0</td>\n",
       "      <td>0</td>\n",
       "      <td>2020-09-30</td>\n",
       "    </tr>\n",
       "    <tr>\n",
       "      <th>1</th>\n",
       "      <td>0</td>\n",
       "      <td>0</td>\n",
       "      <td>0</td>\n",
       "      <td>0</td>\n",
       "      <td>0</td>\n",
       "      <td>0</td>\n",
       "      <td>0</td>\n",
       "      <td>0</td>\n",
       "      <td>0</td>\n",
       "      <td>1</td>\n",
       "      <td>...</td>\n",
       "      <td>1</td>\n",
       "      <td>1</td>\n",
       "      <td>1</td>\n",
       "      <td>0</td>\n",
       "      <td>0</td>\n",
       "      <td>0</td>\n",
       "      <td>0</td>\n",
       "      <td>0</td>\n",
       "      <td>0</td>\n",
       "      <td>2020-10-01</td>\n",
       "    </tr>\n",
       "    <tr>\n",
       "      <th>2</th>\n",
       "      <td>0</td>\n",
       "      <td>0</td>\n",
       "      <td>0</td>\n",
       "      <td>0</td>\n",
       "      <td>0</td>\n",
       "      <td>0</td>\n",
       "      <td>0</td>\n",
       "      <td>0</td>\n",
       "      <td>0</td>\n",
       "      <td>1</td>\n",
       "      <td>...</td>\n",
       "      <td>1</td>\n",
       "      <td>1</td>\n",
       "      <td>1</td>\n",
       "      <td>0</td>\n",
       "      <td>0</td>\n",
       "      <td>0</td>\n",
       "      <td>0</td>\n",
       "      <td>0</td>\n",
       "      <td>0</td>\n",
       "      <td>2020-10-02</td>\n",
       "    </tr>\n",
       "  </tbody>\n",
       "</table>\n",
       "<p>3 rows × 25 columns</p>\n",
       "</div>"
      ],
      "text/plain": [
       "   0  1  2  3  4  5  6  7  8  9  ...  15  16  17  18  19  20  21  22  23  \\\n",
       "0  0  0  0  0  0  0  0  0  0  1  ...   1   1   0   0   0   0   0   0   0   \n",
       "1  0  0  0  0  0  0  0  0  0  1  ...   1   1   1   0   0   0   0   0   0   \n",
       "2  0  0  0  0  0  0  0  0  0  1  ...   1   1   1   0   0   0   0   0   0   \n",
       "\n",
       "         date  \n",
       "0  2020-09-30  \n",
       "1  2020-10-01  \n",
       "2  2020-10-02  \n",
       "\n",
       "[3 rows x 25 columns]"
      ]
     },
     "execution_count": 5,
     "metadata": {},
     "output_type": "execute_result"
    }
   ],
   "source": [
    "#light mngt\n",
    "li_df = []\n",
    "for d in li_date:\n",
    "    dico_ = {h:int(is_day(dt.datetime(d.year,d.month,d.day,h,0,0),dico_night_hour)) for h in li_hours}\n",
    "    dico_['date'] = dt.datetime.date(d)\n",
    "    li_df.append(dico_)\n",
    "df_light = pd.DataFrame(li_df)\n",
    "print(df_light.shape)\n",
    "df_light.head(3)"
   ]
  },
  {
   "cell_type": "code",
   "execution_count": 6,
   "metadata": {},
   "outputs": [
    {
     "name": "stdout",
     "output_type": "stream",
     "text": [
      "(54, 25)\n"
     ]
    },
    {
     "data": {
      "text/html": [
       "<div>\n",
       "<style scoped>\n",
       "    .dataframe tbody tr th:only-of-type {\n",
       "        vertical-align: middle;\n",
       "    }\n",
       "\n",
       "    .dataframe tbody tr th {\n",
       "        vertical-align: top;\n",
       "    }\n",
       "\n",
       "    .dataframe thead th {\n",
       "        text-align: right;\n",
       "    }\n",
       "</style>\n",
       "<table border=\"1\" class=\"dataframe\">\n",
       "  <thead>\n",
       "    <tr style=\"text-align: right;\">\n",
       "      <th></th>\n",
       "      <th>0</th>\n",
       "      <th>1</th>\n",
       "      <th>2</th>\n",
       "      <th>3</th>\n",
       "      <th>4</th>\n",
       "      <th>5</th>\n",
       "      <th>6</th>\n",
       "      <th>7</th>\n",
       "      <th>8</th>\n",
       "      <th>9</th>\n",
       "      <th>...</th>\n",
       "      <th>15</th>\n",
       "      <th>16</th>\n",
       "      <th>17</th>\n",
       "      <th>18</th>\n",
       "      <th>19</th>\n",
       "      <th>20</th>\n",
       "      <th>21</th>\n",
       "      <th>22</th>\n",
       "      <th>23</th>\n",
       "      <th>date</th>\n",
       "    </tr>\n",
       "  </thead>\n",
       "  <tbody>\n",
       "    <tr>\n",
       "      <th>0</th>\n",
       "      <td>0</td>\n",
       "      <td>0</td>\n",
       "      <td>0</td>\n",
       "      <td>0</td>\n",
       "      <td>0</td>\n",
       "      <td>0</td>\n",
       "      <td>0</td>\n",
       "      <td>0</td>\n",
       "      <td>0</td>\n",
       "      <td>0</td>\n",
       "      <td>...</td>\n",
       "      <td>0</td>\n",
       "      <td>0</td>\n",
       "      <td>0</td>\n",
       "      <td>0</td>\n",
       "      <td>0</td>\n",
       "      <td>0</td>\n",
       "      <td>0</td>\n",
       "      <td>0</td>\n",
       "      <td>0</td>\n",
       "      <td>2020-09-30</td>\n",
       "    </tr>\n",
       "    <tr>\n",
       "      <th>1</th>\n",
       "      <td>0</td>\n",
       "      <td>0</td>\n",
       "      <td>0</td>\n",
       "      <td>0</td>\n",
       "      <td>0</td>\n",
       "      <td>0</td>\n",
       "      <td>0</td>\n",
       "      <td>0</td>\n",
       "      <td>0</td>\n",
       "      <td>0</td>\n",
       "      <td>...</td>\n",
       "      <td>0</td>\n",
       "      <td>0</td>\n",
       "      <td>0</td>\n",
       "      <td>0</td>\n",
       "      <td>0</td>\n",
       "      <td>0</td>\n",
       "      <td>0</td>\n",
       "      <td>0</td>\n",
       "      <td>0</td>\n",
       "      <td>2020-10-01</td>\n",
       "    </tr>\n",
       "    <tr>\n",
       "      <th>2</th>\n",
       "      <td>0</td>\n",
       "      <td>0</td>\n",
       "      <td>0</td>\n",
       "      <td>0</td>\n",
       "      <td>0</td>\n",
       "      <td>0</td>\n",
       "      <td>0</td>\n",
       "      <td>0</td>\n",
       "      <td>0</td>\n",
       "      <td>0</td>\n",
       "      <td>...</td>\n",
       "      <td>0</td>\n",
       "      <td>0</td>\n",
       "      <td>0</td>\n",
       "      <td>0</td>\n",
       "      <td>0</td>\n",
       "      <td>0</td>\n",
       "      <td>0</td>\n",
       "      <td>0</td>\n",
       "      <td>0</td>\n",
       "      <td>2020-10-02</td>\n",
       "    </tr>\n",
       "  </tbody>\n",
       "</table>\n",
       "<p>3 rows × 25 columns</p>\n",
       "</div>"
      ],
      "text/plain": [
       "   0  1  2  3  4  5  6  7  8  9  ...  15  16  17  18  19  20  21  22  23  \\\n",
       "0  0  0  0  0  0  0  0  0  0  0  ...   0   0   0   0   0   0   0   0   0   \n",
       "1  0  0  0  0  0  0  0  0  0  0  ...   0   0   0   0   0   0   0   0   0   \n",
       "2  0  0  0  0  0  0  0  0  0  0  ...   0   0   0   0   0   0   0   0   0   \n",
       "\n",
       "         date  \n",
       "0  2020-09-30  \n",
       "1  2020-10-01  \n",
       "2  2020-10-02  \n",
       "\n",
       "[3 rows x 25 columns]"
      ]
     },
     "execution_count": 6,
     "metadata": {},
     "output_type": "execute_result"
    }
   ],
   "source": [
    "#wg mngt\n",
    "li_df = []\n",
    "for d in li_date:\n",
    "    dico_ = {h:int(is_WG_open(dt.datetime(d.year,d.month,d.day,h,0,0), config, epsi_open=0, epsi_close=0)) for h in li_hours}\n",
    "    dico_['date'] = dt.datetime.date(d)\n",
    "    li_df.append(dico_)\n",
    "df_wg = pd.DataFrame(li_df)\n",
    "print(df_wg.shape)\n",
    "df_wg.head(3)"
   ]
  },
  {
   "cell_type": "code",
   "execution_count": 7,
   "metadata": {
    "scrolled": true
   },
   "outputs": [
    {
     "data": {
      "image/png": "[encoded data removed]",
      "text/plain": [
       "<Figure size 432x1080 with 1 Axes>"
      ]
     },
     "metadata": {
      "needs_background": "light"
     },
     "output_type": "display_data"
    }
   ],
   "source": [
    "###################### plot schedule of: light, wg, nestbox, cleaning (always on Thursdays)\n",
    "#light schedule\n",
    "fig = plt.figure(figsize=(6,15))\n",
    "ax = sns.heatmap(df_light[li_hours].to_numpy(), xticklabels=li_hours, yticklabels=df_light['date'].tolist(), \n",
    "                 cbar=False, cmap=sns.light_palette(\"goldenrod\", as_cmap=True), alpha=0.8)\n",
    "\n",
    "#add wintergarten opening\n",
    "sns.heatmap(df_wg[li_hours].to_numpy(), xticklabels=li_hours, yticklabels=df_wg['date'].tolist(), \n",
    "            cbar=False, cmap=sns.light_palette(\"green\", as_cmap=True), alpha=0.6, ax=ax, \n",
    "            linecolor='grey',linewidths=.1)\n",
    "\n",
    "#add nestbox opening indicated by a line\n",
    "ax.hlines(y=[i+0.5 for i in range(0,len(df_wg['date'].tolist()))], xmin=2, xmax=16, color='blue', alpha=0.3)\n",
    "\n",
    "#add barn cleaning: every thursday from 10h to 11 except the first thrsday\n",
    "#choose marker from: https://matplotlib.org/stable/api/markers_api.html#module-matplotlib.markers)\n",
    "li_thursday_index = [li_date.index(d)+0.5 for d in li_date if findDay(d)=='Thursday'][1:] #remove first one as did not happened\n",
    "ax.scatter([10 for i in range(len(li_thursday_index))], li_thursday_index, marker='*', s=120, color='red') #s = size\n",
    "ax.scatter([11 for i in range(len(li_thursday_index))], li_thursday_index, marker='*', s=120, color='red') #s = size\n",
    "\n",
    "plt.title('Barn schedule')\n",
    "plt.xlabel('hours')\n",
    "#high dpi to avoid pixel issues (in between lines of different width)\n",
    "plt.savefig(os.path.join(path_extracted_data_visual_adap,'MngtLight.png'),dpi=700,format='png',bbox_inches='tight')\n",
    "plt.show()"
   ]
  },
  {
   "cell_type": "code",
   "execution_count": 8,
   "metadata": {},
   "outputs": [
    {
     "data": {
      "image/png": "[encoded data removed]",
      "text/plain": [
       "<Figure size 720x504 with 1 Axes>"
      ]
     },
     "metadata": {
      "needs_background": "light"
     },
     "output_type": "display_data"
    }
   ],
   "source": [
    "###################### plot schedule of: light, wg, nestbox, cleaning (always on Thursdays)\n",
    "#light schedule\n",
    "fig = plt.figure(figsize=(10,7))\n",
    "ax = sns.heatmap(df_light[li_hours].to_numpy(), xticklabels=li_hours, yticklabels=df_light['date'].tolist(), \n",
    "                 cbar=False, cmap=sns.light_palette(\"goldenrod\", as_cmap=True), alpha=0.8)\n",
    "sns.set(font_scale=1.4)\n",
    "#add wintergarten opening\n",
    "sns.heatmap(df_wg[li_hours].to_numpy(), xticklabels=li_hours, \n",
    "            yticklabels=[df_wg['date'].tolist()[i] if i%4==0 else ' ' for i in range(0,len(df_wg['date'].tolist()))], \n",
    "            cbar=False, cmap=sns.light_palette(\"green\", as_cmap=True), alpha=0.6, ax=ax, \n",
    "            linecolor='grey',linewidths=.1)\n",
    "\n",
    "#add nestbox opening indicated by a line\n",
    "ax.hlines(y=[i+0.5 for i in range(0,len(df_wg['date'].tolist()))], xmin=2, xmax=16, color='blue', alpha=0.3)\n",
    "\n",
    "#add barn cleaning: every thursday from 10h to 11 except the first thrsday\n",
    "#choose marker from: https://matplotlib.org/stable/api/markers_api.html#module-matplotlib.markers)\n",
    "li_thursday_index = [li_date.index(d)+0.5 for d in li_date if findDay(d)=='Thursday'][1:] #remove first one as did not happened\n",
    "ax.scatter([10 for i in range(len(li_thursday_index))], li_thursday_index, marker='*', s=120, color='red') #s = size\n",
    "ax.scatter([11 for i in range(len(li_thursday_index))], li_thursday_index, marker='*', s=120, color='red') #s = size\n",
    "\n",
    "plt.title('Barn schedule')\n",
    "plt.xlabel('hours')\n",
    "#high dpi to avoid pixel issues (in between lines of different width)\n",
    "plt.savefig(os.path.join(path_extracted_data_visual_adap,'MngtLight_M.png'),dpi=700,format='png',bbox_inches='tight')\n",
    "plt.show()"
   ]
  },
  {
   "cell_type": "code",
   "execution_count": null,
   "metadata": {},
   "outputs": [],
   "source": []
  },
  {
   "cell_type": "code",
   "execution_count": null,
   "metadata": {},
   "outputs": [],
   "source": []
  },
  {
   "cell_type": "code",
   "execution_count": null,
   "metadata": {},
   "outputs": [],
   "source": []
  },
  {
   "cell_type": "code",
   "execution_count": null,
   "metadata": {},
   "outputs": [],
   "source": []
  },
  {
   "cell_type": "code",
   "execution_count": null,
   "metadata": {},
   "outputs": [],
   "source": []
  },
  {
   "cell_type": "code",
   "execution_count": null,
   "metadata": {},
   "outputs": [],
   "source": []
  }
 ],
 "metadata": {
  "kernelspec": {
   "display_name": "Python 3 (ipykernel)",
   "language": "python",
   "name": "python3"
  },
  "language_info": {
   "codemirror_mode": {
    "name": "ipython",
    "version": 3
   },
   "file_extension": ".py",
   "mimetype": "text/x-python",
   "name": "python",
   "nbconvert_exporter": "python",
   "pygments_lexer": "ipython3",
   "version": "3.8.12"
  }
 },
 "nbformat": 4,
 "nbformat_minor": 2
}
