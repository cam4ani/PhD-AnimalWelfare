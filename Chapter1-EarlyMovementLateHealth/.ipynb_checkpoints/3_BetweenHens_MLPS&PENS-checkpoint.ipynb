{
 "cells": [
  {
   "cell_type": "code",
   "execution_count": 1,
   "metadata": {},
   "outputs": [],
   "source": [
    "#basic package\n",
    "import tqdm\n",
    "import os\n",
    "import numpy as np\n",
    "import glob\n",
    "import pandas as pd\n",
    "import sys\n",
    "import time\n",
    "import datetime as dt\n",
    "import itertools\n",
    "import re\n",
    "import math\n",
    "from collections import Counter\n",
    "import operator\n",
    "from scipy import stats\n",
    "from scipy.spatial.distance import cdist #for euclidean distance of consistency t\n",
    "from numpy import inf\n",
    "import networkx as nx\n",
    "from dtaidistance import dtw\n",
    "import random\n",
    "from sklearn.preprocessing import normalize\n",
    "import pickle\n",
    "from collections import defaultdict\n",
    "import random\n",
    "\n",
    "#clustering\n",
    "from sklearn.cluster import AgglomerativeClustering \n",
    "\n",
    "#scaling\n",
    "from sklearn.preprocessing import StandardScaler, MinMaxScaler\n",
    "\n",
    "#interpolate curves for clustering among birds with not exact same days tracked\n",
    "#from scipy.interpolate import interp1d\n",
    "\n",
    "#PCA\n",
    "from sklearn import decomposition\n",
    "\n",
    "#clustering\n",
    "from sklearn.cluster import KMeans #only numerical var\n",
    "from sklearn.metrics import silhouette_samples, silhouette_score, adjusted_rand_score\n",
    "import kmodes\n",
    "from kmodes.kmodes import KModes #with categorical var as well\n",
    "\n",
    "#plot\n",
    "import matplotlib.pyplot as plt\n",
    "import seaborn as sns\n",
    "import dexplot as dxp #for easy barplot"
   ]
  },
  {
   "cell_type": "code",
   "execution_count": 2,
   "metadata": {},
   "outputs": [
    {
     "name": "stderr",
     "output_type": "stream",
     "text": [
      "C:\\Users\\camil\\anaconda3\\lib\\site-packages\\scipy\\sparse\\sparsetools.py:21: DeprecationWarning: `scipy.sparse.sparsetools` is deprecated!\n",
      "scipy.sparse.sparsetools is a private module for scipy.sparse, and should not be used.\n",
      "  _deprecated()\n"
     ]
    },
    {
     "name": "stdout",
     "output_type": "stream",
     "text": [
      "2\n"
     ]
    }
   ],
   "source": [
    "PACKAGE_PARENT = '../'\n",
    "SCRIPT_DIR = os.path.dirname(os.path.realpath(os.path.join(os.getcwd(), os.path.expanduser('__file__'))))\n",
    "sys.path.append(os.path.normpath(os.path.join(SCRIPT_DIR, PACKAGE_PARENT)))\n",
    "from UTILS import kmeans_clustering, sampen, chi2_distance, ts_visual, correct_key, chi2_distance, most_frequent\n",
    "import config_origins as config"
   ]
  },
  {
   "cell_type": "raw",
   "metadata": {},
   "source": [
    "to be run with id_run='correctlightschedule_'"
   ]
  },
  {
   "cell_type": "code",
   "execution_count": 3,
   "metadata": {},
   "outputs": [
    {
     "name": "stderr",
     "output_type": "stream",
     "text": [
      "C:\\Users\\camil\\anaconda3\\lib\\site-packages\\ipykernel\\ipkernel.py:283: DeprecationWarning: `should_run_async` will not call `transform_cell` automatically in the future. Please pass the result to `transformed_cell` argument and any exception that happen during thetransform in `preprocessing_exc_tuple` in IPython 7.17 and above.\n",
      "  and should_run_async(code)\n"
     ]
    }
   ],
   "source": [
    "rv = 0"
   ]
  },
  {
   "cell_type": "markdown",
   "metadata": {},
   "source": [
    "# Define parameters"
   ]
  },
  {
   "cell_type": "code",
   "execution_count": 4,
   "metadata": {
    "scrolled": true
   },
   "outputs": [
    {
     "name": "stdout",
     "output_type": "stream",
     "text": [
      "change the configuration file if not done yet!\n"
     ]
    },
    {
     "name": "stderr",
     "output_type": "stream",
     "text": [
      "C:\\Users\\camil\\anaconda3\\lib\\site-packages\\ipykernel\\ipkernel.py:283: DeprecationWarning: `should_run_async` will not call `transform_cell` automatically in the future. Please pass the result to `transformed_cell` argument and any exception that happen during thetransform in `preprocessing_exc_tuple` in IPython 7.17 and above.\n",
      "  and should_run_async(code)\n"
     ]
    }
   ],
   "source": [
    "print('change the configuration file if not done yet!')\n",
    "path_extracted_data = config.path_extracted_data\n",
    "path_initial_data = config.path_initial_data\n",
    "id_run = config.id_run\n",
    "dico_matching = config.dico_matching\n",
    "li_binmn = config.li_binmn\n",
    "pal_class_treat = config.pal_class_treat\n",
    "pal_treat = config.pal_treat\n",
    "pal_class = config.pal_class\n",
    "birth_date = config.birth_date\n",
    "dico_night_hour = config.dico_night_hour\n",
    "pal_interintre_treatment = config.pal_interintre_treatment\n",
    "max_date_adaptability = config.max_date_adaptability\n",
    "dico_pen_tr = config.dico_pen_tr\n",
    "path_extracted_data_visual = os.path.join(path_extracted_data,'visual')\n",
    "path_extracted_data_visual_corr = os.path.join(path_extracted_data,'visual','correlation')\n",
    "path_extracted_data_visual_adap = os.path.join(path_extracted_data,'visual','Treatment&Classs','adaptability')\n",
    "path_extracted_data_visual_adap_clustering = os.path.join(path_extracted_data_visual_adap,'clustering')\n",
    "for nbr_bin in li_binmn:\n",
    "    path_extracted_data_visual_adap_binmn = os.path.join(path_extracted_data,'visual','Treatment&Classs','adaptability',str(nbr_bin))\n",
    "    #create a director if not existing\n",
    "    if not os.path.exists(path_extracted_data_visual_adap_binmn):\n",
    "        os.makedirs(path_extracted_data_visual_adap_binmn)"
   ]
  },
  {
   "cell_type": "code",
   "execution_count": 6,
   "metadata": {},
   "outputs": [
    {
     "name": "stderr",
     "output_type": "stream",
     "text": [
      "C:\\Users\\camil\\anaconda3\\lib\\site-packages\\ipykernel\\ipkernel.py:283: DeprecationWarning: `should_run_async` will not call `transform_cell` automatically in the future. Please pass the result to `transformed_cell` argument and any exception that happen during thetransform in `preprocessing_exc_tuple` in IPython 7.17 and above.\n",
      "  and should_run_async(code)\n"
     ]
    }
   ],
   "source": [
    "li_nbr_cluster = range(2,100)\n",
    "V = 'chi2distance_ALL_15'\n",
    "path_extracted_data_visual_adap_clustering_V = os.path.join(path_extracted_data_visual_adap_clustering, V+'_ALL_MLPS')"
   ]
  },
  {
   "cell_type": "markdown",
   "metadata": {},
   "source": [
    "# Download variables"
   ]
  },
  {
   "cell_type": "code",
   "execution_count": 12,
   "metadata": {},
   "outputs": [
    {
     "name": "stdout",
     "output_type": "stream",
     "text": [
      "(212, 12)\n"
     ]
    },
    {
     "name": "stderr",
     "output_type": "stream",
     "text": [
      "C:\\Users\\camil\\anaconda3\\lib\\site-packages\\ipykernel\\ipkernel.py:283: DeprecationWarning: `should_run_async` will not call `transform_cell` automatically in the future. Please pass the result to `transformed_cell` argument and any exception that happen during thetransform in `preprocessing_exc_tuple` in IPython 7.17 and above.\n",
      "  and should_run_async(code)\n"
     ]
    },
    {
     "data": {
      "text/html": [
       "<div>\n",
       "<style scoped>\n",
       "    .dataframe tbody tr th:only-of-type {\n",
       "        vertical-align: middle;\n",
       "    }\n",
       "\n",
       "    .dataframe tbody tr th {\n",
       "        vertical-align: top;\n",
       "    }\n",
       "\n",
       "    .dataframe thead th {\n",
       "        text-align: right;\n",
       "    }\n",
       "</style>\n",
       "<table border=\"1\" class=\"dataframe\">\n",
       "  <thead>\n",
       "    <tr style=\"text-align: right;\">\n",
       "      <th></th>\n",
       "      <th>HenID</th>\n",
       "      <th>PenID</th>\n",
       "      <th>CLASS</th>\n",
       "      <th>R-Pen</th>\n",
       "      <th>InitialStartDate</th>\n",
       "      <th>29-09 weight</th>\n",
       "      <th>10-12 juin weight</th>\n",
       "      <th>weight 23-11-2020</th>\n",
       "      <th>weight 04-01-2021</th>\n",
       "      <th>weight 01-02-21</th>\n",
       "      <th>Treatment</th>\n",
       "      <th>percentage_of_gain_weight</th>\n",
       "    </tr>\n",
       "  </thead>\n",
       "  <tbody>\n",
       "    <tr>\n",
       "      <th>0</th>\n",
       "      <td>hen_1</td>\n",
       "      <td>9</td>\n",
       "      <td>EPI</td>\n",
       "      <td>1.0</td>\n",
       "      <td>2020-06-10</td>\n",
       "      <td>1134.0</td>\n",
       "      <td>57.0</td>\n",
       "      <td>1696.5</td>\n",
       "      <td>1787.8</td>\n",
       "      <td>1800.9</td>\n",
       "      <td>OFH</td>\n",
       "      <td>49.603175</td>\n",
       "    </tr>\n",
       "    <tr>\n",
       "      <th>1</th>\n",
       "      <td>hen_10</td>\n",
       "      <td>11</td>\n",
       "      <td>LEXP</td>\n",
       "      <td>1.0</td>\n",
       "      <td>2020-06-10</td>\n",
       "      <td>1070.0</td>\n",
       "      <td>70.4</td>\n",
       "      <td>1488.3</td>\n",
       "      <td>1628.4</td>\n",
       "      <td>1602.1</td>\n",
       "      <td>OFH</td>\n",
       "      <td>39.093458</td>\n",
       "    </tr>\n",
       "    <tr>\n",
       "      <th>2</th>\n",
       "      <td>hen_100</td>\n",
       "      <td>5</td>\n",
       "      <td>EPI</td>\n",
       "      <td>3.0</td>\n",
       "      <td>2020-06-10</td>\n",
       "      <td>1182.0</td>\n",
       "      <td>80.5</td>\n",
       "      <td>1642.5</td>\n",
       "      <td>NaN</td>\n",
       "      <td>NaN</td>\n",
       "      <td>OFH</td>\n",
       "      <td>38.959391</td>\n",
       "    </tr>\n",
       "  </tbody>\n",
       "</table>\n",
       "</div>"
      ],
      "text/plain": [
       "     HenID  PenID CLASS  R-Pen InitialStartDate  29-09 weight  \\\n",
       "0    hen_1      9   EPI    1.0       2020-06-10        1134.0   \n",
       "1   hen_10     11  LEXP    1.0       2020-06-10        1070.0   \n",
       "2  hen_100      5   EPI    3.0       2020-06-10        1182.0   \n",
       "\n",
       "   10-12 juin weight  weight 23-11-2020  weight 04-01-2021  weight 01-02-21  \\\n",
       "0               57.0             1696.5             1787.8           1800.9   \n",
       "1               70.4             1488.3             1628.4           1602.1   \n",
       "2               80.5             1642.5                NaN              NaN   \n",
       "\n",
       "  Treatment  percentage_of_gain_weight  \n",
       "0       OFH                  49.603175  \n",
       "1       OFH                  39.093458  \n",
       "2       OFH                  38.959391  "
      ]
     },
     "execution_count": 12,
     "metadata": {},
     "output_type": "execute_result"
    }
   ],
   "source": [
    "#focal birds info (one row per bird)\n",
    "df_FB = pd.read_csv(os.path.join(path_extracted_data,id_run+'df_FOCALBIRDS.csv'), sep=';', parse_dates=['InitialStartDate'],\n",
    "                     dayfirst=True) \n",
    "df_FB['percentage_of_gain_weight'] = df_FB.apply(lambda x: (x['weight 23-11-2020']-x['29-09 weight'])/x['29-09 weight']*100, axis=1)\n",
    "print(df_FB.shape)\n",
    "df_FB.head(3)"
   ]
  },
  {
   "cell_type": "code",
   "execution_count": 23,
   "metadata": {},
   "outputs": [
    {
     "name": "stderr",
     "output_type": "stream",
     "text": [
      "C:\\Users\\camil\\anaconda3\\lib\\site-packages\\ipykernel\\ipkernel.py:283: DeprecationWarning: `should_run_async` will not call `transform_cell` automatically in the future. Please pass the result to `transformed_cell` argument and any exception that happen during thetransform in `preprocessing_exc_tuple` in IPython 7.17 and above.\n",
      "  and should_run_async(code)\n"
     ]
    },
    {
     "name": "stdout",
     "output_type": "stream",
     "text": [
      "(25952410, 11)\n"
     ]
    },
    {
     "data": {
      "text/html": [
       "<div>\n",
       "<style scoped>\n",
       "    .dataframe tbody tr th:only-of-type {\n",
       "        vertical-align: middle;\n",
       "    }\n",
       "\n",
       "    .dataframe tbody tr th {\n",
       "        vertical-align: top;\n",
       "    }\n",
       "\n",
       "    .dataframe thead th {\n",
       "        text-align: right;\n",
       "    }\n",
       "</style>\n",
       "<table border=\"1\" class=\"dataframe\">\n",
       "  <thead>\n",
       "    <tr style=\"text-align: right;\">\n",
       "      <th></th>\n",
       "      <th>chi2distance_ALL_15</th>\n",
       "      <th>h1</th>\n",
       "      <th>h2</th>\n",
       "      <th>henID1</th>\n",
       "      <th>henID2</th>\n",
       "      <th>level1</th>\n",
       "      <th>level2</th>\n",
       "      <th>DIB1</th>\n",
       "      <th>DIB2</th>\n",
       "      <th>MLPID1</th>\n",
       "      <th>MLPID2</th>\n",
       "    </tr>\n",
       "  </thead>\n",
       "  <tbody>\n",
       "    <tr>\n",
       "      <th>0</th>\n",
       "      <td>0.890901</td>\n",
       "      <td>hen_131/2020-09-30</td>\n",
       "      <td>hen_134/2020-09-30</td>\n",
       "      <td>hen_131</td>\n",
       "      <td>hen_134</td>\n",
       "      <td>2020-09-30</td>\n",
       "      <td>2020-09-30</td>\n",
       "      <td>1</td>\n",
       "      <td>1</td>\n",
       "      <td>hen_131-1</td>\n",
       "      <td>hen_134-1</td>\n",
       "    </tr>\n",
       "    <tr>\n",
       "      <th>1</th>\n",
       "      <td>0.202226</td>\n",
       "      <td>hen_131/2020-09-30</td>\n",
       "      <td>hen_138/2020-09-30</td>\n",
       "      <td>hen_131</td>\n",
       "      <td>hen_138</td>\n",
       "      <td>2020-09-30</td>\n",
       "      <td>2020-09-30</td>\n",
       "      <td>1</td>\n",
       "      <td>1</td>\n",
       "      <td>hen_131-1</td>\n",
       "      <td>hen_138-1</td>\n",
       "    </tr>\n",
       "    <tr>\n",
       "      <th>2</th>\n",
       "      <td>0.866714</td>\n",
       "      <td>hen_131/2020-09-30</td>\n",
       "      <td>hen_139/2020-09-30</td>\n",
       "      <td>hen_131</td>\n",
       "      <td>hen_139</td>\n",
       "      <td>2020-09-30</td>\n",
       "      <td>2020-09-30</td>\n",
       "      <td>1</td>\n",
       "      <td>1</td>\n",
       "      <td>hen_131-1</td>\n",
       "      <td>hen_139-1</td>\n",
       "    </tr>\n",
       "  </tbody>\n",
       "</table>\n",
       "</div>"
      ],
      "text/plain": [
       "   chi2distance_ALL_15                  h1                  h2   henID1  \\\n",
       "0             0.890901  hen_131/2020-09-30  hen_134/2020-09-30  hen_131   \n",
       "1             0.202226  hen_131/2020-09-30  hen_138/2020-09-30  hen_131   \n",
       "2             0.866714  hen_131/2020-09-30  hen_139/2020-09-30  hen_131   \n",
       "\n",
       "    henID2     level1     level2  DIB1  DIB2     MLPID1     MLPID2  \n",
       "0  hen_134 2020-09-30 2020-09-30     1     1  hen_131-1  hen_134-1  \n",
       "1  hen_138 2020-09-30 2020-09-30     1     1  hen_131-1  hen_138-1  \n",
       "2  hen_139 2020-09-30 2020-09-30     1     1  hen_131-1  hen_139-1  "
      ]
     },
     "execution_count": 23,
     "metadata": {},
     "output_type": "execute_result"
    }
   ],
   "source": [
    "df_inter = pd.read_csv(os.path.join(path_extracted_data_visual_adap, id_run+'_df_DistanceBetweenAnyDaysHenSim_2h-17h59LEVEL.csv'), sep=';', \n",
    "                      parse_dates=['level1','level2'], dayfirst=True)\n",
    "#weeks of age starting on the first day where the bird was here during 24h\n",
    "#df_inter['weeks_in_laying_barn'] = df_inter['DOA'].map(lambda x: int((x-119)/7)+1)\n",
    "#df_inter['DIB'] = df_inter['DOA'].map(lambda x: x-118)\n",
    "#display(df_inter[['level1','DOA','weeks_in_laying_barn']].drop_duplicates().reset_index().head(3))\n",
    "#remove weeks_in_laying_barn to avoid confusions\n",
    "#df_inter.drop(['WOA'],inplace=True,axis=1)\n",
    "#select only inter \n",
    "#df_inter['animal_pair']  = df_inter.apply(lambda x: '-'.join(sorted([x['henID1'],x['henID2']])), axis=1)\n",
    "\n",
    "df_inter['DIB1'] = df_inter['level1'].map(lambda x: (x-dt.datetime(2020,6,3)).days -118) \n",
    "df_inter['DIB2'] = df_inter['level2'].map(lambda x: (x-dt.datetime(2020,6,3)).days -118) \n",
    "df_inter['MLPID1'] = df_inter.apply(lambda x: x['henID1']+'-'+str(x['DIB1']),axis=1)\n",
    "df_inter['MLPID2'] = df_inter.apply(lambda x: x['henID2']+'-'+str(x['DIB2']),axis=1)\n",
    "print(df_inter.shape)\n",
    "df_inter.head(3)"
   ]
  },
  {
   "cell_type": "code",
   "execution_count": 7,
   "metadata": {},
   "outputs": [
    {
     "name": "stderr",
     "output_type": "stream",
     "text": [
      "C:\\Users\\camil\\anaconda3\\lib\\site-packages\\ipykernel\\ipkernel.py:283: DeprecationWarning: `should_run_async` will not call `transform_cell` automatically in the future. Please pass the result to `transformed_cell` argument and any exception that happen during thetransform in `preprocessing_exc_tuple` in IPython 7.17 and above.\n",
      "  and should_run_async(code)\n"
     ]
    },
    {
     "name": "stdout",
     "output_type": "stream",
     "text": [
      "(5146, 102)\n"
     ]
    },
    {
     "data": {
      "text/html": [
       "<div>\n",
       "<style scoped>\n",
       "    .dataframe tbody tr th:only-of-type {\n",
       "        vertical-align: middle;\n",
       "    }\n",
       "\n",
       "    .dataframe tbody tr th {\n",
       "        vertical-align: top;\n",
       "    }\n",
       "\n",
       "    .dataframe thead th {\n",
       "        text-align: right;\n",
       "    }\n",
       "</style>\n",
       "<table border=\"1\" class=\"dataframe\">\n",
       "  <thead>\n",
       "    <tr style=\"text-align: right;\">\n",
       "      <th></th>\n",
       "      <th>MLPID</th>\n",
       "      <th>ALL_MLPS_2</th>\n",
       "      <th>ALL_MLPS_3</th>\n",
       "      <th>ALL_MLPS_4</th>\n",
       "      <th>ALL_MLPS_5</th>\n",
       "      <th>ALL_MLPS_6</th>\n",
       "      <th>ALL_MLPS_7</th>\n",
       "      <th>ALL_MLPS_8</th>\n",
       "      <th>ALL_MLPS_9</th>\n",
       "      <th>ALL_MLPS_10</th>\n",
       "      <th>...</th>\n",
       "      <th>ALL_MLPS_93</th>\n",
       "      <th>ALL_MLPS_94</th>\n",
       "      <th>ALL_MLPS_95</th>\n",
       "      <th>ALL_MLPS_96</th>\n",
       "      <th>ALL_MLPS_97</th>\n",
       "      <th>ALL_MLPS_98</th>\n",
       "      <th>ALL_MLPS_99</th>\n",
       "      <th>DIB</th>\n",
       "      <th>date</th>\n",
       "      <th>HenID</th>\n",
       "    </tr>\n",
       "  </thead>\n",
       "  <tbody>\n",
       "    <tr>\n",
       "      <th>0</th>\n",
       "      <td>hen_61-20</td>\n",
       "      <td>1</td>\n",
       "      <td>1</td>\n",
       "      <td>3</td>\n",
       "      <td>1</td>\n",
       "      <td>0</td>\n",
       "      <td>0</td>\n",
       "      <td>2</td>\n",
       "      <td>0</td>\n",
       "      <td>5</td>\n",
       "      <td>...</td>\n",
       "      <td>67</td>\n",
       "      <td>67</td>\n",
       "      <td>67</td>\n",
       "      <td>67</td>\n",
       "      <td>67</td>\n",
       "      <td>67</td>\n",
       "      <td>67</td>\n",
       "      <td>20</td>\n",
       "      <td>2020-10-19</td>\n",
       "      <td>hen_61</td>\n",
       "    </tr>\n",
       "    <tr>\n",
       "      <th>1</th>\n",
       "      <td>hen_65-35</td>\n",
       "      <td>0</td>\n",
       "      <td>0</td>\n",
       "      <td>1</td>\n",
       "      <td>0</td>\n",
       "      <td>5</td>\n",
       "      <td>5</td>\n",
       "      <td>5</td>\n",
       "      <td>5</td>\n",
       "      <td>2</td>\n",
       "      <td>...</td>\n",
       "      <td>9</td>\n",
       "      <td>9</td>\n",
       "      <td>9</td>\n",
       "      <td>4</td>\n",
       "      <td>4</td>\n",
       "      <td>1</td>\n",
       "      <td>0</td>\n",
       "      <td>35</td>\n",
       "      <td>2020-11-03</td>\n",
       "      <td>hen_65</td>\n",
       "    </tr>\n",
       "    <tr>\n",
       "      <th>2</th>\n",
       "      <td>hen_138-54</td>\n",
       "      <td>1</td>\n",
       "      <td>1</td>\n",
       "      <td>3</td>\n",
       "      <td>1</td>\n",
       "      <td>0</td>\n",
       "      <td>6</td>\n",
       "      <td>6</td>\n",
       "      <td>2</td>\n",
       "      <td>0</td>\n",
       "      <td>...</td>\n",
       "      <td>64</td>\n",
       "      <td>64</td>\n",
       "      <td>64</td>\n",
       "      <td>64</td>\n",
       "      <td>64</td>\n",
       "      <td>64</td>\n",
       "      <td>64</td>\n",
       "      <td>54</td>\n",
       "      <td>2020-11-22</td>\n",
       "      <td>hen_138</td>\n",
       "    </tr>\n",
       "  </tbody>\n",
       "</table>\n",
       "<p>3 rows × 102 columns</p>\n",
       "</div>"
      ],
      "text/plain": [
       "        MLPID  ALL_MLPS_2  ALL_MLPS_3  ALL_MLPS_4  ALL_MLPS_5  ALL_MLPS_6  \\\n",
       "0   hen_61-20           1           1           3           1           0   \n",
       "1   hen_65-35           0           0           1           0           5   \n",
       "2  hen_138-54           1           1           3           1           0   \n",
       "\n",
       "   ALL_MLPS_7  ALL_MLPS_8  ALL_MLPS_9  ALL_MLPS_10  ...  ALL_MLPS_93  \\\n",
       "0           0           2           0            5  ...           67   \n",
       "1           5           5           5            2  ...            9   \n",
       "2           6           6           2            0  ...           64   \n",
       "\n",
       "   ALL_MLPS_94  ALL_MLPS_95  ALL_MLPS_96  ALL_MLPS_97  ALL_MLPS_98  \\\n",
       "0           67           67           67           67           67   \n",
       "1            9            9            4            4            1   \n",
       "2           64           64           64           64           64   \n",
       "\n",
       "   ALL_MLPS_99  DIB       date    HenID  \n",
       "0           67   20 2020-10-19   hen_61  \n",
       "1            0   35 2020-11-03   hen_65  \n",
       "2           64   54 2020-11-22  hen_138  \n",
       "\n",
       "[3 rows x 102 columns]"
      ]
     },
     "execution_count": 7,
     "metadata": {},
     "output_type": "execute_result"
    }
   ],
   "source": [
    "df_res = pd.read_csv(os.path.join(path_extracted_data_visual_adap_clustering_V,id_run+'df_clustering_results.csv'), sep=';',\n",
    "                     dayfirst=True) \n",
    "df_res['DIB'] = df_res['MLPID'].map(lambda x: int(x.split('-')[1]))\n",
    "df_res['date'] = df_res['DIB'].map(lambda x: dt.datetime(2020,9,29)+dt.timedelta(days=x))\n",
    "df_res['HenID'] = df_res['MLPID'].map(lambda x: x.split('-')[0])\n",
    "print(df_res.shape)\n",
    "df_res.head(3)"
   ]
  },
  {
   "cell_type": "code",
   "execution_count": 8,
   "metadata": {
    "scrolled": true
   },
   "outputs": [
    {
     "name": "stderr",
     "output_type": "stream",
     "text": [
      "C:\\Users\\camil\\anaconda3\\lib\\site-packages\\ipykernel\\ipkernel.py:283: DeprecationWarning: `should_run_async` will not call `transform_cell` automatically in the future. Please pass the result to `transformed_cell` argument and any exception that happen during thetransform in `preprocessing_exc_tuple` in IPython 7.17 and above.\n",
      "  and should_run_async(code)\n"
     ]
    },
    {
     "data": {
      "text/html": [
       "<div>\n",
       "<style scoped>\n",
       "    .dataframe tbody tr th:only-of-type {\n",
       "        vertical-align: middle;\n",
       "    }\n",
       "\n",
       "    .dataframe tbody tr th {\n",
       "        vertical-align: top;\n",
       "    }\n",
       "\n",
       "    .dataframe thead th {\n",
       "        text-align: right;\n",
       "    }\n",
       "</style>\n",
       "<table border=\"1\" class=\"dataframe\">\n",
       "  <thead>\n",
       "    <tr style=\"text-align: right;\">\n",
       "      <th></th>\n",
       "      <th>index</th>\n",
       "      <th>ALL_MLPS_99</th>\n",
       "    </tr>\n",
       "  </thead>\n",
       "  <tbody>\n",
       "    <tr>\n",
       "      <th>0</th>\n",
       "      <td>67</td>\n",
       "      <td>1904</td>\n",
       "    </tr>\n",
       "    <tr>\n",
       "      <th>1</th>\n",
       "      <td>22</td>\n",
       "      <td>727</td>\n",
       "    </tr>\n",
       "    <tr>\n",
       "      <th>2</th>\n",
       "      <td>3</td>\n",
       "      <td>475</td>\n",
       "    </tr>\n",
       "    <tr>\n",
       "      <th>3</th>\n",
       "      <td>15</td>\n",
       "      <td>350</td>\n",
       "    </tr>\n",
       "    <tr>\n",
       "      <th>4</th>\n",
       "      <td>0</td>\n",
       "      <td>274</td>\n",
       "    </tr>\n",
       "    <tr>\n",
       "      <th>5</th>\n",
       "      <td>6</td>\n",
       "      <td>157</td>\n",
       "    </tr>\n",
       "    <tr>\n",
       "      <th>6</th>\n",
       "      <td>7</td>\n",
       "      <td>133</td>\n",
       "    </tr>\n",
       "    <tr>\n",
       "      <th>7</th>\n",
       "      <td>21</td>\n",
       "      <td>131</td>\n",
       "    </tr>\n",
       "    <tr>\n",
       "      <th>8</th>\n",
       "      <td>52</td>\n",
       "      <td>112</td>\n",
       "    </tr>\n",
       "    <tr>\n",
       "      <th>9</th>\n",
       "      <td>35</td>\n",
       "      <td>68</td>\n",
       "    </tr>\n",
       "    <tr>\n",
       "      <th>10</th>\n",
       "      <td>33</td>\n",
       "      <td>68</td>\n",
       "    </tr>\n",
       "    <tr>\n",
       "      <th>11</th>\n",
       "      <td>30</td>\n",
       "      <td>44</td>\n",
       "    </tr>\n",
       "    <tr>\n",
       "      <th>12</th>\n",
       "      <td>34</td>\n",
       "      <td>44</td>\n",
       "    </tr>\n",
       "    <tr>\n",
       "      <th>13</th>\n",
       "      <td>8</td>\n",
       "      <td>38</td>\n",
       "    </tr>\n",
       "    <tr>\n",
       "      <th>14</th>\n",
       "      <td>36</td>\n",
       "      <td>37</td>\n",
       "    </tr>\n",
       "    <tr>\n",
       "      <th>15</th>\n",
       "      <td>25</td>\n",
       "      <td>37</td>\n",
       "    </tr>\n",
       "    <tr>\n",
       "      <th>16</th>\n",
       "      <td>16</td>\n",
       "      <td>24</td>\n",
       "    </tr>\n",
       "    <tr>\n",
       "      <th>17</th>\n",
       "      <td>2</td>\n",
       "      <td>24</td>\n",
       "    </tr>\n",
       "    <tr>\n",
       "      <th>18</th>\n",
       "      <td>18</td>\n",
       "      <td>20</td>\n",
       "    </tr>\n",
       "    <tr>\n",
       "      <th>19</th>\n",
       "      <td>27</td>\n",
       "      <td>20</td>\n",
       "    </tr>\n",
       "    <tr>\n",
       "      <th>20</th>\n",
       "      <td>29</td>\n",
       "      <td>19</td>\n",
       "    </tr>\n",
       "    <tr>\n",
       "      <th>21</th>\n",
       "      <td>23</td>\n",
       "      <td>18</td>\n",
       "    </tr>\n",
       "    <tr>\n",
       "      <th>22</th>\n",
       "      <td>5</td>\n",
       "      <td>17</td>\n",
       "    </tr>\n",
       "    <tr>\n",
       "      <th>23</th>\n",
       "      <td>4</td>\n",
       "      <td>16</td>\n",
       "    </tr>\n",
       "    <tr>\n",
       "      <th>24</th>\n",
       "      <td>24</td>\n",
       "      <td>16</td>\n",
       "    </tr>\n",
       "    <tr>\n",
       "      <th>25</th>\n",
       "      <td>66</td>\n",
       "      <td>15</td>\n",
       "    </tr>\n",
       "    <tr>\n",
       "      <th>26</th>\n",
       "      <td>31</td>\n",
       "      <td>15</td>\n",
       "    </tr>\n",
       "    <tr>\n",
       "      <th>27</th>\n",
       "      <td>94</td>\n",
       "      <td>14</td>\n",
       "    </tr>\n",
       "    <tr>\n",
       "      <th>28</th>\n",
       "      <td>26</td>\n",
       "      <td>14</td>\n",
       "    </tr>\n",
       "    <tr>\n",
       "      <th>29</th>\n",
       "      <td>74</td>\n",
       "      <td>14</td>\n",
       "    </tr>\n",
       "    <tr>\n",
       "      <th>30</th>\n",
       "      <td>11</td>\n",
       "      <td>12</td>\n",
       "    </tr>\n",
       "    <tr>\n",
       "      <th>31</th>\n",
       "      <td>56</td>\n",
       "      <td>12</td>\n",
       "    </tr>\n",
       "    <tr>\n",
       "      <th>32</th>\n",
       "      <td>10</td>\n",
       "      <td>12</td>\n",
       "    </tr>\n",
       "    <tr>\n",
       "      <th>33</th>\n",
       "      <td>9</td>\n",
       "      <td>11</td>\n",
       "    </tr>\n",
       "    <tr>\n",
       "      <th>34</th>\n",
       "      <td>17</td>\n",
       "      <td>11</td>\n",
       "    </tr>\n",
       "    <tr>\n",
       "      <th>35</th>\n",
       "      <td>68</td>\n",
       "      <td>10</td>\n",
       "    </tr>\n",
       "    <tr>\n",
       "      <th>36</th>\n",
       "      <td>73</td>\n",
       "      <td>8</td>\n",
       "    </tr>\n",
       "    <tr>\n",
       "      <th>37</th>\n",
       "      <td>14</td>\n",
       "      <td>8</td>\n",
       "    </tr>\n",
       "    <tr>\n",
       "      <th>38</th>\n",
       "      <td>40</td>\n",
       "      <td>7</td>\n",
       "    </tr>\n",
       "    <tr>\n",
       "      <th>39</th>\n",
       "      <td>13</td>\n",
       "      <td>7</td>\n",
       "    </tr>\n",
       "  </tbody>\n",
       "</table>\n",
       "</div>"
      ],
      "text/plain": [
       "    index  ALL_MLPS_99\n",
       "0      67         1904\n",
       "1      22          727\n",
       "2       3          475\n",
       "3      15          350\n",
       "4       0          274\n",
       "5       6          157\n",
       "6       7          133\n",
       "7      21          131\n",
       "8      52          112\n",
       "9      35           68\n",
       "10     33           68\n",
       "11     30           44\n",
       "12     34           44\n",
       "13      8           38\n",
       "14     36           37\n",
       "15     25           37\n",
       "16     16           24\n",
       "17      2           24\n",
       "18     18           20\n",
       "19     27           20\n",
       "20     29           19\n",
       "21     23           18\n",
       "22      5           17\n",
       "23      4           16\n",
       "24     24           16\n",
       "25     66           15\n",
       "26     31           15\n",
       "27     94           14\n",
       "28     26           14\n",
       "29     74           14\n",
       "30     11           12\n",
       "31     56           12\n",
       "32     10           12\n",
       "33      9           11\n",
       "34     17           11\n",
       "35     68           10\n",
       "36     73            8\n",
       "37     14            8\n",
       "38     40            7\n",
       "39     13            7"
      ]
     },
     "metadata": {},
     "output_type": "display_data"
    }
   ],
   "source": [
    "#CHOOSE NBR OF CLUSTER & MOST IMPORTANT CLUSTER\n",
    "#lets define it as the animal with the smallest squared average distance to all others from the same cluster\n",
    "#chose which clustering results oyu want to visualise \n",
    "#[i for i in df_ari['clusteringID1'].tolist() if i.startswith('enddayfixed_startingDIB-1_nbrcluster-5_')]\n",
    "'''for nbr_cl in li_nbr_cluster:   \n",
    "    name_clustering = 'ALL_MLPS_'+str(nbr_cl)\n",
    "    print(name_clustering)\n",
    "    print(df_res[name_clustering].value_counts())'''\n",
    "name_clustering = 'ALL_MLPS_99'\n",
    "#first, make clustersID as string to avoid confusion\n",
    "df_plt = df_res[name_clustering].value_counts().reset_index()\n",
    "display(df_plt[0:40])\n",
    "\n",
    "#then, select the 7 most important clusters\n",
    "li_clmostimportant = df_plt['index'][0:9].tolist()"
   ]
  },
  {
   "cell_type": "markdown",
   "metadata": {},
   "source": [
    "# Visuals"
   ]
  },
  {
   "cell_type": "markdown",
   "metadata": {},
   "source": [
    "### DIB - day in barn"
   ]
  },
  {
   "cell_type": "code",
   "execution_count": 9,
   "metadata": {},
   "outputs": [
    {
     "name": "stderr",
     "output_type": "stream",
     "text": [
      "C:\\Users\\camil\\anaconda3\\lib\\site-packages\\ipykernel\\ipkernel.py:283: DeprecationWarning: `should_run_async` will not call `transform_cell` automatically in the future. Please pass the result to `transformed_cell` argument and any exception that happen during thetransform in `preprocessing_exc_tuple` in IPython 7.17 and above.\n",
      "  and should_run_async(code)\n",
      "findfont: Font family ['Helvetica'] not found. Falling back to DejaVu Sans.\n"
     ]
    },
    {
     "data": {
      "image/png": "[encoded data removed]",
      "text/plain": [
       "<Figure size 3600x316.8 with 1 Axes>"
      ]
     },
     "execution_count": 9,
     "metadata": {},
     "output_type": "execute_result"
    }
   ],
   "source": [
    "dxp.count('DIB', data=df_res[df_res[name_clustering].isin(li_clmostimportant)], split=name_clustering)\n",
    "#small verification\n",
    "#df_res.groupby(['DIB',name_clustering])['HenID'].count().reset_index()"
   ]
  },
  {
   "cell_type": "markdown",
   "metadata": {},
   "source": [
    "### chi2 distance of cluster distribution between 2 real pens & 2 random pens (pen structure?)"
   ]
  },
  {
   "cell_type": "code",
   "execution_count": 13,
   "metadata": {},
   "outputs": [
    {
     "name": "stdout",
     "output_type": "stream",
     "text": [
      "(5146, 114)\n"
     ]
    },
    {
     "name": "stderr",
     "output_type": "stream",
     "text": [
      "C:\\Users\\camil\\anaconda3\\lib\\site-packages\\ipykernel\\ipkernel.py:283: DeprecationWarning: `should_run_async` will not call `transform_cell` automatically in the future. Please pass the result to `transformed_cell` argument and any exception that happen during thetransform in `preprocessing_exc_tuple` in IPython 7.17 and above.\n",
      "  and should_run_async(code)\n"
     ]
    },
    {
     "data": {
      "text/html": [
       "<div>\n",
       "<style scoped>\n",
       "    .dataframe tbody tr th:only-of-type {\n",
       "        vertical-align: middle;\n",
       "    }\n",
       "\n",
       "    .dataframe tbody tr th {\n",
       "        vertical-align: top;\n",
       "    }\n",
       "\n",
       "    .dataframe thead th {\n",
       "        text-align: right;\n",
       "    }\n",
       "</style>\n",
       "<table border=\"1\" class=\"dataframe\">\n",
       "  <thead>\n",
       "    <tr style=\"text-align: right;\">\n",
       "      <th></th>\n",
       "      <th>WIB</th>\n",
       "      <th>PenID</th>\n",
       "      <th>ALL_MLPS_99</th>\n",
       "    </tr>\n",
       "  </thead>\n",
       "  <tbody>\n",
       "    <tr>\n",
       "      <th>0</th>\n",
       "      <td>3</td>\n",
       "      <td>pen12</td>\n",
       "      <td>cl_67</td>\n",
       "    </tr>\n",
       "    <tr>\n",
       "      <th>1</th>\n",
       "      <td>5</td>\n",
       "      <td>pen10</td>\n",
       "      <td>cl_0</td>\n",
       "    </tr>\n",
       "    <tr>\n",
       "      <th>2</th>\n",
       "      <td>8</td>\n",
       "      <td>pen10</td>\n",
       "      <td>cl_64</td>\n",
       "    </tr>\n",
       "  </tbody>\n",
       "</table>\n",
       "</div>"
      ],
      "text/plain": [
       "   WIB  PenID ALL_MLPS_99\n",
       "0    3  pen12       cl_67\n",
       "1    5  pen10        cl_0\n",
       "2    8  pen10       cl_64"
      ]
     },
     "execution_count": 13,
     "metadata": {},
     "output_type": "execute_result"
    }
   ],
   "source": [
    "#add hen info\n",
    "df_info = pd.merge(df_res, df_FB, on='HenID', how='left')\n",
    "df_info['WIB'] = df_info['DIB'].map(lambda x: int((x-1)/7)+1)\n",
    "df_info['PenID'] = df_info['PenID'].map(lambda x: 'pen'+str(x))\n",
    "df_info[name_clustering] = df_info[name_clustering].map(lambda x: 'cl_'+str(x))\n",
    "print(df_info.shape)\n",
    "df_info[['WIB','PenID',name_clustering]].head(3)"
   ]
  },
  {
   "cell_type": "code",
   "execution_count": 16,
   "metadata": {},
   "outputs": [
    {
     "name": "stdout",
     "output_type": "stream",
     "text": [
      "(315, 5)\n"
     ]
    },
    {
     "name": "stderr",
     "output_type": "stream",
     "text": [
      "C:\\Users\\camil\\anaconda3\\lib\\site-packages\\ipykernel\\ipkernel.py:283: DeprecationWarning: `should_run_async` will not call `transform_cell` automatically in the future. Please pass the result to `transformed_cell` argument and any exception that happen during thetransform in `preprocessing_exc_tuple` in IPython 7.17 and above.\n",
      "  and should_run_async(code)\n"
     ]
    },
    {
     "data": {
      "text/html": [
       "<div>\n",
       "<style scoped>\n",
       "    .dataframe tbody tr th:only-of-type {\n",
       "        vertical-align: middle;\n",
       "    }\n",
       "\n",
       "    .dataframe tbody tr th {\n",
       "        vertical-align: top;\n",
       "    }\n",
       "\n",
       "    .dataframe thead th {\n",
       "        text-align: right;\n",
       "    }\n",
       "</style>\n",
       "<table border=\"1\" class=\"dataframe\">\n",
       "  <thead>\n",
       "    <tr style=\"text-align: right;\">\n",
       "      <th></th>\n",
       "      <th>date</th>\n",
       "      <th>PenID</th>\n",
       "      <th>ALL_MLPS_99</th>\n",
       "      <th>nbr_mlp</th>\n",
       "      <th>norm_li_clid</th>\n",
       "    </tr>\n",
       "  </thead>\n",
       "  <tbody>\n",
       "    <tr>\n",
       "      <th>0</th>\n",
       "      <td>2020-10-14</td>\n",
       "      <td>pen10</td>\n",
       "      <td>{'cl_67': 8, 'cl_0': 4, 'cl_30': 1, 'cl_3': 4,...</td>\n",
       "      <td>18</td>\n",
       "      <td>[0.0, 0.0, 0.2222222222222222, 0.0, 0.0, 0.0, ...</td>\n",
       "    </tr>\n",
       "    <tr>\n",
       "      <th>1</th>\n",
       "      <td>2020-10-14</td>\n",
       "      <td>pen11</td>\n",
       "      <td>{'cl_67': 10, 'cl_52': 1, 'cl_3': 2, 'cl_0': 3...</td>\n",
       "      <td>18</td>\n",
       "      <td>[0.0, 0.0, 0.1111111111111111, 0.0, 0.0, 0.0, ...</td>\n",
       "    </tr>\n",
       "    <tr>\n",
       "      <th>2</th>\n",
       "      <td>2020-10-14</td>\n",
       "      <td>pen12</td>\n",
       "      <td>{'cl_67': 11, 'cl_24': 1, 'cl_0': 1, 'cl_3': 2...</td>\n",
       "      <td>16</td>\n",
       "      <td>[0.0, 0.0, 0.125, 0.0, 0.0, 0.0, 0.0, 0.0, 0.0...</td>\n",
       "    </tr>\n",
       "  </tbody>\n",
       "</table>\n",
       "</div>"
      ],
      "text/plain": [
       "        date  PenID                                        ALL_MLPS_99  \\\n",
       "0 2020-10-14  pen10  {'cl_67': 8, 'cl_0': 4, 'cl_30': 1, 'cl_3': 4,...   \n",
       "1 2020-10-14  pen11  {'cl_67': 10, 'cl_52': 1, 'cl_3': 2, 'cl_0': 3...   \n",
       "2 2020-10-14  pen12  {'cl_67': 11, 'cl_24': 1, 'cl_0': 1, 'cl_3': 2...   \n",
       "\n",
       "   nbr_mlp                                       norm_li_clid  \n",
       "0       18  [0.0, 0.0, 0.2222222222222222, 0.0, 0.0, 0.0, ...  \n",
       "1       18  [0.0, 0.0, 0.1111111111111111, 0.0, 0.0, 0.0, ...  \n",
       "2       16  [0.0, 0.0, 0.125, 0.0, 0.0, 0.0, 0.0, 0.0, 0.0...  "
      ]
     },
     "metadata": {},
     "output_type": "display_data"
    },
    {
     "data": {
      "text/plain": [
       "16    184\n",
       "18     80\n",
       "15     48\n",
       "14      3\n",
       "Name: nbr_mlp, dtype: int64"
      ]
     },
     "metadata": {},
     "output_type": "display_data"
    },
    {
     "name": "stdout",
     "output_type": "stream",
     "text": [
      "2020-11-05 00:00:00 pen10 pen5\n",
      "2020-11-06 00:00:00 pen10 pen5\n",
      "2020-11-07 00:00:00 pen10 pen5\n",
      "2020-11-08 00:00:00 pen10 pen5\n",
      "2020-11-09 00:00:00 pen10 pen5\n",
      "2020-11-05 00:00:00 pen11 pen5\n",
      "2020-11-06 00:00:00 pen11 pen5\n",
      "2020-11-07 00:00:00 pen11 pen5\n",
      "2020-11-08 00:00:00 pen11 pen5\n",
      "2020-11-09 00:00:00 pen11 pen5\n",
      "2020-11-05 00:00:00 pen12 pen5\n",
      "2020-11-06 00:00:00 pen12 pen5\n",
      "2020-11-07 00:00:00 pen12 pen5\n",
      "2020-11-08 00:00:00 pen12 pen5\n",
      "2020-11-09 00:00:00 pen12 pen5\n",
      "2020-11-05 00:00:00 pen3 pen5\n",
      "2020-11-06 00:00:00 pen3 pen5\n",
      "2020-11-07 00:00:00 pen3 pen5\n",
      "2020-11-08 00:00:00 pen3 pen5\n",
      "2020-11-09 00:00:00 pen3 pen5\n",
      "2020-11-05 00:00:00 pen4 pen5\n",
      "2020-11-06 00:00:00 pen4 pen5\n",
      "2020-11-07 00:00:00 pen4 pen5\n",
      "2020-11-08 00:00:00 pen4 pen5\n",
      "2020-11-09 00:00:00 pen4 pen5\n",
      "2020-11-05 00:00:00 pen5 pen8\n",
      "2020-11-06 00:00:00 pen5 pen8\n",
      "2020-11-07 00:00:00 pen5 pen8\n",
      "2020-11-08 00:00:00 pen5 pen8\n",
      "2020-11-09 00:00:00 pen5 pen8\n",
      "2020-11-05 00:00:00 pen5 pen9\n",
      "2020-11-06 00:00:00 pen5 pen9\n",
      "2020-11-07 00:00:00 pen5 pen9\n",
      "2020-11-08 00:00:00 pen5 pen9\n",
      "2020-11-09 00:00:00 pen5 pen9\n",
      "(1085, 5)\n"
     ]
    },
    {
     "data": {
      "text/html": [
       "<div>\n",
       "<style scoped>\n",
       "    .dataframe tbody tr th:only-of-type {\n",
       "        vertical-align: middle;\n",
       "    }\n",
       "\n",
       "    .dataframe tbody tr th {\n",
       "        vertical-align: top;\n",
       "    }\n",
       "\n",
       "    .dataframe thead th {\n",
       "        text-align: right;\n",
       "    }\n",
       "</style>\n",
       "<table border=\"1\" class=\"dataframe\">\n",
       "  <thead>\n",
       "    <tr style=\"text-align: right;\">\n",
       "      <th></th>\n",
       "      <th>chi2</th>\n",
       "      <th>penid1</th>\n",
       "      <th>penid2</th>\n",
       "      <th>date</th>\n",
       "      <th>type</th>\n",
       "    </tr>\n",
       "  </thead>\n",
       "  <tbody>\n",
       "    <tr>\n",
       "      <th>0</th>\n",
       "      <td>0.133832</td>\n",
       "      <td>pen10</td>\n",
       "      <td>pen11</td>\n",
       "      <td>2020-10-14</td>\n",
       "      <td>RealPens</td>\n",
       "    </tr>\n",
       "    <tr>\n",
       "      <th>1</th>\n",
       "      <td>0.192773</td>\n",
       "      <td>pen10</td>\n",
       "      <td>pen11</td>\n",
       "      <td>2020-10-15</td>\n",
       "      <td>RealPens</td>\n",
       "    </tr>\n",
       "    <tr>\n",
       "      <th>2</th>\n",
       "      <td>0.173104</td>\n",
       "      <td>pen10</td>\n",
       "      <td>pen11</td>\n",
       "      <td>2020-10-16</td>\n",
       "      <td>RealPens</td>\n",
       "    </tr>\n",
       "  </tbody>\n",
       "</table>\n",
       "</div>"
      ],
      "text/plain": [
       "       chi2 penid1 penid2       date      type\n",
       "0  0.133832  pen10  pen11 2020-10-14  RealPens\n",
       "1  0.192773  pen10  pen11 2020-10-15  RealPens\n",
       "2  0.173104  pen10  pen11 2020-10-16  RealPens"
      ]
     },
     "metadata": {},
     "output_type": "display_data"
    },
    {
     "name": "stdout",
     "output_type": "stream",
     "text": [
      "(1120, 5)\n"
     ]
    },
    {
     "data": {
      "text/html": [
       "<div>\n",
       "<style scoped>\n",
       "    .dataframe tbody tr th:only-of-type {\n",
       "        vertical-align: middle;\n",
       "    }\n",
       "\n",
       "    .dataframe tbody tr th {\n",
       "        vertical-align: top;\n",
       "    }\n",
       "\n",
       "    .dataframe thead th {\n",
       "        text-align: right;\n",
       "    }\n",
       "</style>\n",
       "<table border=\"1\" class=\"dataframe\">\n",
       "  <thead>\n",
       "    <tr style=\"text-align: right;\">\n",
       "      <th></th>\n",
       "      <th>chi2</th>\n",
       "      <th>penid1</th>\n",
       "      <th>penid2</th>\n",
       "      <th>date</th>\n",
       "      <th>type</th>\n",
       "    </tr>\n",
       "  </thead>\n",
       "  <tbody>\n",
       "    <tr>\n",
       "      <th>0</th>\n",
       "      <td>0.072829</td>\n",
       "      <td>hen_105-hen_109-hen_110-hen_12-hen_2-hen_20-he...</td>\n",
       "      <td>hen_106-hen_112-hen_124-hen_126-hen_134-hen_14...</td>\n",
       "      <td>2020-10-14</td>\n",
       "      <td>RandomPens</td>\n",
       "    </tr>\n",
       "    <tr>\n",
       "      <th>1</th>\n",
       "      <td>0.148356</td>\n",
       "      <td>hen_10-hen_102-hen_104-hen_107-hen_108-hen_128...</td>\n",
       "      <td>hen_12-hen_14-hen_149-hen_151-hen_154-hen_18-h...</td>\n",
       "      <td>2020-10-14</td>\n",
       "      <td>RandomPens</td>\n",
       "    </tr>\n",
       "    <tr>\n",
       "      <th>2</th>\n",
       "      <td>0.128633</td>\n",
       "      <td>hen_107-hen_108-hen_110-hen_135-hen_14-hen_159...</td>\n",
       "      <td>hen_102-hen_109-hen_113-hen_116-hen_118-hen_13...</td>\n",
       "      <td>2020-10-14</td>\n",
       "      <td>RandomPens</td>\n",
       "    </tr>\n",
       "  </tbody>\n",
       "</table>\n",
       "</div>"
      ],
      "text/plain": [
       "       chi2                                             penid1  \\\n",
       "0  0.072829  hen_105-hen_109-hen_110-hen_12-hen_2-hen_20-he...   \n",
       "1  0.148356  hen_10-hen_102-hen_104-hen_107-hen_108-hen_128...   \n",
       "2  0.128633  hen_107-hen_108-hen_110-hen_135-hen_14-hen_159...   \n",
       "\n",
       "                                              penid2       date        type  \n",
       "0  hen_106-hen_112-hen_124-hen_126-hen_134-hen_14... 2020-10-14  RandomPens  \n",
       "1  hen_12-hen_14-hen_149-hen_151-hen_154-hen_18-h... 2020-10-14  RandomPens  \n",
       "2  hen_102-hen_109-hen_113-hen_116-hen_118-hen_13... 2020-10-14  RandomPens  "
      ]
     },
     "metadata": {},
     "output_type": "display_data"
    },
    {
     "name": "stdout",
     "output_type": "stream",
     "text": [
      "(2205, 5)\n"
     ]
    },
    {
     "data": {
      "text/html": [
       "<div>\n",
       "<style scoped>\n",
       "    .dataframe tbody tr th:only-of-type {\n",
       "        vertical-align: middle;\n",
       "    }\n",
       "\n",
       "    .dataframe tbody tr th {\n",
       "        vertical-align: top;\n",
       "    }\n",
       "\n",
       "    .dataframe thead th {\n",
       "        text-align: right;\n",
       "    }\n",
       "</style>\n",
       "<table border=\"1\" class=\"dataframe\">\n",
       "  <thead>\n",
       "    <tr style=\"text-align: right;\">\n",
       "      <th></th>\n",
       "      <th>chi2</th>\n",
       "      <th>penid1</th>\n",
       "      <th>penid2</th>\n",
       "      <th>date</th>\n",
       "      <th>type</th>\n",
       "    </tr>\n",
       "  </thead>\n",
       "  <tbody>\n",
       "    <tr>\n",
       "      <th>0</th>\n",
       "      <td>0.072829</td>\n",
       "      <td>hen_105-hen_109-hen_110-hen_12-hen_2-hen_20-he...</td>\n",
       "      <td>hen_106-hen_112-hen_124-hen_126-hen_134-hen_14...</td>\n",
       "      <td>2020-10-14</td>\n",
       "      <td>RandomPens</td>\n",
       "    </tr>\n",
       "    <tr>\n",
       "      <th>1</th>\n",
       "      <td>0.148356</td>\n",
       "      <td>hen_10-hen_102-hen_104-hen_107-hen_108-hen_128...</td>\n",
       "      <td>hen_12-hen_14-hen_149-hen_151-hen_154-hen_18-h...</td>\n",
       "      <td>2020-10-14</td>\n",
       "      <td>RandomPens</td>\n",
       "    </tr>\n",
       "    <tr>\n",
       "      <th>2</th>\n",
       "      <td>0.128633</td>\n",
       "      <td>hen_107-hen_108-hen_110-hen_135-hen_14-hen_159...</td>\n",
       "      <td>hen_102-hen_109-hen_113-hen_116-hen_118-hen_13...</td>\n",
       "      <td>2020-10-14</td>\n",
       "      <td>RandomPens</td>\n",
       "    </tr>\n",
       "  </tbody>\n",
       "</table>\n",
       "</div>"
      ],
      "text/plain": [
       "       chi2                                             penid1  \\\n",
       "0  0.072829  hen_105-hen_109-hen_110-hen_12-hen_2-hen_20-he...   \n",
       "1  0.148356  hen_10-hen_102-hen_104-hen_107-hen_108-hen_128...   \n",
       "2  0.128633  hen_107-hen_108-hen_110-hen_135-hen_14-hen_159...   \n",
       "\n",
       "                                              penid2       date        type  \n",
       "0  hen_106-hen_112-hen_124-hen_126-hen_134-hen_14... 2020-10-14  RandomPens  \n",
       "1  hen_12-hen_14-hen_149-hen_151-hen_154-hen_18-h... 2020-10-14  RandomPens  \n",
       "2  hen_102-hen_109-hen_113-hen_116-hen_118-hen_13... 2020-10-14  RandomPens  "
      ]
     },
     "metadata": {},
     "output_type": "display_data"
    },
    {
     "data": {
      "image/png": "[encoded data removed]",
      "text/plain": [
       "<Figure size 1440x360 with 1 Axes>"
      ]
     },
     "metadata": {
      "needs_background": "light"
     },
     "output_type": "display_data"
    }
   ],
   "source": [
    "#TODO: remove pen 5? as not always here\n",
    "date_type = 'date'#'date','WIB'\n",
    "nbr_cluster = int(name_clustering.split('MLPS_')[1])\n",
    "df_penanalysis = df_info.groupby([date_type,'PenID'])[name_clustering].agg(lambda x: Counter(x)).reset_index()\n",
    "df_penanalysis['nbr_mlp'] = df_penanalysis[name_clustering].map(lambda x: sum(dict(x).values()))\n",
    "df_penanalysis['norm_li_clid'] = df_penanalysis.apply(lambda x: [x[name_clustering]['cl_'+str(i)]/x['nbr_mlp'] for i in range(1,nbr_cluster+1)], axis=1)\n",
    "#Note, by def: chi2_distance([0,0,0,20,80], [0,0,0,30,70]) == chi2_distance([0,0,0,0,0,20,80], [0,0,0,0,0,30,70])\n",
    "print(df_penanalysis.shape)\n",
    "display(df_penanalysis.head(3))\n",
    "display(df_penanalysis['nbr_mlp'].value_counts())\n",
    "nbr_hens_perpen = 16 #fix to 16 animals per pen, most common\n",
    "\n",
    "############################### Real Pens\n",
    "li_pairs = list(itertools.combinations(df_penanalysis['PenID'].unique(), 2))\n",
    "li_date = list(df_penanalysis[date_type].unique())\n",
    "li_df = []\n",
    "for penid1, penid2 in li_pairs:\n",
    "    for d, df_ in df_penanalysis.groupby(date_type):\n",
    "        #when data only (i.e. not pen 5 all the days)\n",
    "        if (penid1 in df_['PenID'].unique()) & (penid2 in df_['PenID'].unique()):\n",
    "            li1 = df_[df_['PenID']==penid1]['norm_li_clid'].iloc[0]\n",
    "            li2 = df_[df_['PenID']==penid2]['norm_li_clid'].iloc[0]\n",
    "            chi2 = chi2_distance(li1,li2,remove_warning=True)\n",
    "            li_df.append({'chi2':chi2, 'penid1':penid1, 'penid2':penid2, date_type:d, 'type':'RealPens'})\n",
    "        else:\n",
    "            print(d, penid1, penid2)\n",
    "df_chi2_rr = pd.DataFrame(li_df)\n",
    "print(df_chi2_rr.shape)\n",
    "display(df_chi2_rr.head(3))\n",
    "\n",
    "############################### Random Pens\n",
    "#wether we are doignper week or per day we need to fix an amount of individuals, and then keep it over the week\n",
    "li_df = []\n",
    "for d, df_ in df_info.groupby(date_type):    \n",
    "    k = 0\n",
    "    while k<len(li_pairs):\n",
    "        #randomly pick more same amount of animal as usual\n",
    "        list_rhens1 = random.sample(list(df_['HenID'].unique()), nbr_hens_perpen)\n",
    "        list_rhens2 = random.sample([i for i in df_['HenID'].unique() if i not in list_rhens1], nbr_hens_perpen)\n",
    "        c1 = Counter(df_[df_['HenID'].isin(list_rhens1)][name_clustering])\n",
    "        c2 = Counter(df_[df_['HenID'].isin(list_rhens2)][name_clustering])\n",
    "        li1 = [c1['cl_'+str(i)]/sum(dict(c1).values()) for i in range(1,nbr_cluster+1)]\n",
    "        li2 = [c2['cl_'+str(i)]/sum(dict(c2).values()) for i in range(1,nbr_cluster+1)]\n",
    "        chi2 = chi2_distance(li1,li2,remove_warning=True)\n",
    "        li_df.append({'chi2':chi2, 'penid1':'-'.join(sorted(list_rhens1)), 'penid2':'-'.join(sorted(list_rhens2)), \n",
    "                      date_type:d, 'type':'RandomPens'})\n",
    "        k = k+1\n",
    "df_chi2_nr = pd.DataFrame(li_df)\n",
    "print(df_chi2_nr.shape)\n",
    "display(df_chi2_nr.head(3))\n",
    "\n",
    "#concat two info\n",
    "df_chi2 = pd.concat([df_chi2_nr, df_chi2_rr])\n",
    "print(df_chi2.shape)\n",
    "display(df_chi2.head(3))\n",
    "\n",
    "#visual\n",
    "plt.figure(figsize=(20,5))\n",
    "sns.boxplot(x=date_type, y='chi2', hue='type', data=df_chi);"
   ]
  },
  {
   "cell_type": "markdown",
   "metadata": {},
   "source": [
    "### plot cluster across pens & class"
   ]
  },
  {
   "cell_type": "code",
   "execution_count": 17,
   "metadata": {},
   "outputs": [
    {
     "name": "stderr",
     "output_type": "stream",
     "text": [
      "C:\\Users\\camil\\anaconda3\\lib\\site-packages\\ipykernel\\ipkernel.py:283: DeprecationWarning: `should_run_async` will not call `transform_cell` automatically in the future. Please pass the result to `transformed_cell` argument and any exception that happen during thetransform in `preprocessing_exc_tuple` in IPython 7.17 and above.\n",
      "  and should_run_async(code)\n"
     ]
    }
   ],
   "source": [
    "li_clmostimportant = ['cl_'+str(i) for i in li_clmostimportant]"
   ]
  },
  {
   "cell_type": "code",
   "execution_count": 18,
   "metadata": {},
   "outputs": [
    {
     "name": "stderr",
     "output_type": "stream",
     "text": [
      "C:\\Users\\camil\\anaconda3\\lib\\site-packages\\ipykernel\\ipkernel.py:283: DeprecationWarning: `should_run_async` will not call `transform_cell` automatically in the future. Please pass the result to `transformed_cell` argument and any exception that happen during thetransform in `preprocessing_exc_tuple` in IPython 7.17 and above.\n",
      "  and should_run_async(code)\n"
     ]
    },
    {
     "data": {
      "image/png": "[encoded data removed]",
      "text/plain": [
       "<Figure size 981.504x316.8 with 1 Axes>"
      ]
     },
     "execution_count": 18,
     "metadata": {},
     "output_type": "execute_result"
    }
   ],
   "source": [
    "dxp.count('PenID', data=df_info[df_info[name_clustering].isin(li_clmostimportant)], split=name_clustering)"
   ]
  },
  {
   "cell_type": "code",
   "execution_count": 19,
   "metadata": {},
   "outputs": [
    {
     "name": "stderr",
     "output_type": "stream",
     "text": [
      "C:\\Users\\camil\\anaconda3\\lib\\site-packages\\ipykernel\\ipkernel.py:283: DeprecationWarning: `should_run_async` will not call `transform_cell` automatically in the future. Please pass the result to `transformed_cell` argument and any exception that happen during thetransform in `preprocessing_exc_tuple` in IPython 7.17 and above.\n",
      "  and should_run_async(code)\n"
     ]
    },
    {
     "data": {
      "image/png": "[encoded data removed]",
      "text/plain": [
       "<Figure size 594.432x316.8 with 1 Axes>"
      ]
     },
     "execution_count": 19,
     "metadata": {},
     "output_type": "execute_result"
    }
   ],
   "source": [
    "dxp.count('R-Pen', data=df_info[df_info[name_clustering].isin(li_clmostimportant)], split=name_clustering) "
   ]
  },
  {
   "cell_type": "code",
   "execution_count": 20,
   "metadata": {},
   "outputs": [
    {
     "name": "stderr",
     "output_type": "stream",
     "text": [
      "C:\\Users\\camil\\anaconda3\\lib\\site-packages\\ipykernel\\ipkernel.py:283: DeprecationWarning: `should_run_async` will not call `transform_cell` automatically in the future. Please pass the result to `transformed_cell` argument and any exception that happen during thetransform in `preprocessing_exc_tuple` in IPython 7.17 and above.\n",
      "  and should_run_async(code)\n"
     ]
    },
    {
     "data": {
      "image/png": "[encoded data removed]",
      "text/plain": [
       "<Figure size 691.2x316.8 with 1 Axes>"
      ]
     },
     "execution_count": 20,
     "metadata": {},
     "output_type": "execute_result"
    }
   ],
   "source": [
    "dxp.count('CLASS', data=df_info[df_info[name_clustering].isin(li_clmostimportant)], split=name_clustering) "
   ]
  },
  {
   "cell_type": "code",
   "execution_count": 21,
   "metadata": {},
   "outputs": [
    {
     "name": "stderr",
     "output_type": "stream",
     "text": [
      "C:\\Users\\camil\\anaconda3\\lib\\site-packages\\ipykernel\\ipkernel.py:283: DeprecationWarning: `should_run_async` will not call `transform_cell` automatically in the future. Please pass the result to `transformed_cell` argument and any exception that happen during thetransform in `preprocessing_exc_tuple` in IPython 7.17 and above.\n",
      "  and should_run_async(code)\n"
     ]
    },
    {
     "data": {
      "image/png": "[encoded data removed]",
      "text/plain": [
       "<Figure size 400.896x316.8 with 1 Axes>"
      ]
     },
     "execution_count": 21,
     "metadata": {},
     "output_type": "execute_result"
    }
   ],
   "source": [
    "dxp.count('Treatment', data=df_info[df_info[name_clustering].isin(li_clmostimportant)], split=name_clustering)"
   ]
  },
  {
   "cell_type": "markdown",
   "metadata": {},
   "source": [
    "# Existance of types of behavioural structure visual"
   ]
  },
  {
   "cell_type": "raw",
   "metadata": {},
   "source": [
    "each point should be the sum over each MLPs of their min distance among all previous existing MLPs. Note that here each distance will be used twice: once for MLPID1 and one for MLPID2.\n",
    "Note that only from statistical point, its normal to have the curves going down, as the more mLPs you have, th emore likley you are to be siilar with another one. STILL, WE DO THIS IN FINE to comapre between pens and random pens. Our hypothesis is taht random pen would would have less comaprtive curves thatn the real pen would"
   ]
  },
  {
   "cell_type": "code",
   "execution_count": 24,
   "metadata": {
    "scrolled": true
   },
   "outputs": [
    {
     "name": "stdout",
     "output_type": "stream",
     "text": [
      "(25952410, 11)\n"
     ]
    },
    {
     "name": "stderr",
     "output_type": "stream",
     "text": [
      "C:\\Users\\camil\\anaconda3\\lib\\site-packages\\ipykernel\\ipkernel.py:283: DeprecationWarning: `should_run_async` will not call `transform_cell` automatically in the future. Please pass the result to `transformed_cell` argument and any exception that happen during thetransform in `preprocessing_exc_tuple` in IPython 7.17 and above.\n",
      "  and should_run_async(code)\n"
     ]
    },
    {
     "data": {
      "text/html": [
       "<div>\n",
       "<style scoped>\n",
       "    .dataframe tbody tr th:only-of-type {\n",
       "        vertical-align: middle;\n",
       "    }\n",
       "\n",
       "    .dataframe tbody tr th {\n",
       "        vertical-align: top;\n",
       "    }\n",
       "\n",
       "    .dataframe thead th {\n",
       "        text-align: right;\n",
       "    }\n",
       "</style>\n",
       "<table border=\"1\" class=\"dataframe\">\n",
       "  <thead>\n",
       "    <tr style=\"text-align: right;\">\n",
       "      <th></th>\n",
       "      <th>chi2distance_ALL_15</th>\n",
       "      <th>h1</th>\n",
       "      <th>h2</th>\n",
       "      <th>henID1</th>\n",
       "      <th>henID2</th>\n",
       "      <th>level1</th>\n",
       "      <th>level2</th>\n",
       "      <th>DIB1</th>\n",
       "      <th>DIB2</th>\n",
       "      <th>MLPID1</th>\n",
       "      <th>MLPID2</th>\n",
       "    </tr>\n",
       "  </thead>\n",
       "  <tbody>\n",
       "    <tr>\n",
       "      <th>0</th>\n",
       "      <td>0.890901</td>\n",
       "      <td>hen_131/2020-09-30</td>\n",
       "      <td>hen_134/2020-09-30</td>\n",
       "      <td>hen_131</td>\n",
       "      <td>hen_134</td>\n",
       "      <td>2020-09-30</td>\n",
       "      <td>2020-09-30</td>\n",
       "      <td>1</td>\n",
       "      <td>1</td>\n",
       "      <td>hen_131-1</td>\n",
       "      <td>hen_134-1</td>\n",
       "    </tr>\n",
       "    <tr>\n",
       "      <th>1</th>\n",
       "      <td>0.202226</td>\n",
       "      <td>hen_131/2020-09-30</td>\n",
       "      <td>hen_138/2020-09-30</td>\n",
       "      <td>hen_131</td>\n",
       "      <td>hen_138</td>\n",
       "      <td>2020-09-30</td>\n",
       "      <td>2020-09-30</td>\n",
       "      <td>1</td>\n",
       "      <td>1</td>\n",
       "      <td>hen_131-1</td>\n",
       "      <td>hen_138-1</td>\n",
       "    </tr>\n",
       "    <tr>\n",
       "      <th>2</th>\n",
       "      <td>0.866714</td>\n",
       "      <td>hen_131/2020-09-30</td>\n",
       "      <td>hen_139/2020-09-30</td>\n",
       "      <td>hen_131</td>\n",
       "      <td>hen_139</td>\n",
       "      <td>2020-09-30</td>\n",
       "      <td>2020-09-30</td>\n",
       "      <td>1</td>\n",
       "      <td>1</td>\n",
       "      <td>hen_131-1</td>\n",
       "      <td>hen_139-1</td>\n",
       "    </tr>\n",
       "  </tbody>\n",
       "</table>\n",
       "</div>"
      ],
      "text/plain": [
       "   chi2distance_ALL_15                  h1                  h2   henID1  \\\n",
       "0             0.890901  hen_131/2020-09-30  hen_134/2020-09-30  hen_131   \n",
       "1             0.202226  hen_131/2020-09-30  hen_138/2020-09-30  hen_131   \n",
       "2             0.866714  hen_131/2020-09-30  hen_139/2020-09-30  hen_131   \n",
       "\n",
       "    henID2     level1     level2  DIB1  DIB2     MLPID1     MLPID2  \n",
       "0  hen_134 2020-09-30 2020-09-30     1     1  hen_131-1  hen_134-1  \n",
       "1  hen_138 2020-09-30 2020-09-30     1     1  hen_131-1  hen_138-1  \n",
       "2  hen_139 2020-09-30 2020-09-30     1     1  hen_131-1  hen_139-1  "
      ]
     },
     "execution_count": 24,
     "metadata": {},
     "output_type": "execute_result"
    }
   ],
   "source": [
    "print(df_inter.shape)\n",
    "df_inter.head(3)"
   ]
  },
  {
   "cell_type": "code",
   "execution_count": 25,
   "metadata": {},
   "outputs": [
    {
     "name": "stderr",
     "output_type": "stream",
     "text": [
      "C:\\Users\\camil\\anaconda3\\lib\\site-packages\\ipykernel\\ipkernel.py:283: DeprecationWarning: `should_run_async` will not call `transform_cell` automatically in the future. Please pass the result to `transformed_cell` argument and any exception that happen during thetransform in `preprocessing_exc_tuple` in IPython 7.17 and above.\n",
      "  and should_run_async(code)\n",
      "100%|██████████████████████████████████████████████████████████████████████████████████| 55/55 [00:17<00:00,  3.17it/s]"
     ]
    },
    {
     "name": "stdout",
     "output_type": "stream",
     "text": [
      "(13544, 5)\n"
     ]
    },
    {
     "name": "stderr",
     "output_type": "stream",
     "text": [
      "\n"
     ]
    },
    {
     "data": {
      "text/html": [
       "<div>\n",
       "<style scoped>\n",
       "    .dataframe tbody tr th:only-of-type {\n",
       "        vertical-align: middle;\n",
       "    }\n",
       "\n",
       "    .dataframe tbody tr th {\n",
       "        vertical-align: top;\n",
       "    }\n",
       "\n",
       "    .dataframe thead th {\n",
       "        text-align: right;\n",
       "    }\n",
       "</style>\n",
       "<table border=\"1\" class=\"dataframe\">\n",
       "  <thead>\n",
       "    <tr style=\"text-align: right;\">\n",
       "      <th></th>\n",
       "      <th>MLPID</th>\n",
       "      <th>chi2distance_ALL_15</th>\n",
       "      <th>min_distance</th>\n",
       "      <th>DIB</th>\n",
       "      <th>nbr_MLPs_involved</th>\n",
       "    </tr>\n",
       "  </thead>\n",
       "  <tbody>\n",
       "    <tr>\n",
       "      <th>0</th>\n",
       "      <td>hen_1-1</td>\n",
       "      <td>[0.8762493103105875, 0.20999853550192848, 0.58...</td>\n",
       "      <td>0.131369</td>\n",
       "      <td>1</td>\n",
       "      <td>15</td>\n",
       "    </tr>\n",
       "    <tr>\n",
       "      <th>1</th>\n",
       "      <td>hen_10-1</td>\n",
       "      <td>[0.3196661806591478, 0.9580663404213968, 0.349...</td>\n",
       "      <td>0.231584</td>\n",
       "      <td>1</td>\n",
       "      <td>112</td>\n",
       "    </tr>\n",
       "    <tr>\n",
       "      <th>2</th>\n",
       "      <td>hen_101-1</td>\n",
       "      <td>[0.18034643578558016, 0.07131189160799235, 0.8...</td>\n",
       "      <td>0.061431</td>\n",
       "      <td>1</td>\n",
       "      <td>47</td>\n",
       "    </tr>\n",
       "  </tbody>\n",
       "</table>\n",
       "</div>"
      ],
      "text/plain": [
       "       MLPID                                chi2distance_ALL_15  min_distance  \\\n",
       "0    hen_1-1  [0.8762493103105875, 0.20999853550192848, 0.58...      0.131369   \n",
       "1   hen_10-1  [0.3196661806591478, 0.9580663404213968, 0.349...      0.231584   \n",
       "2  hen_101-1  [0.18034643578558016, 0.07131189160799235, 0.8...      0.061431   \n",
       "\n",
       "   DIB  nbr_MLPs_involved  \n",
       "0    1                 15  \n",
       "1    1                112  \n",
       "2    1                 47  "
      ]
     },
     "execution_count": 25,
     "metadata": {},
     "output_type": "execute_result"
    }
   ],
   "source": [
    "li_DIB = set(df_inter['DIB1'].tolist()+df_inter['DIB2'].tolist())\n",
    "li_df = []\n",
    "for DIB in tqdm.tqdm(li_DIB):\n",
    "    #general idea: MLPID1, then MLPID2, the concat (not merge, as each pairs are uniquely represented in the dataframe)\n",
    "    \n",
    "    #if first day in the barn, then simply sum all distances. ater add the smallest one\n",
    "    \n",
    "    if DIB==1:\n",
    "        #MLPID1\n",
    "        df_ = df_inter[(df_inter['DIB1']==DIB)&(df_inter['DIB2']==DIB)].copy()\n",
    "        #print(df_.shape)\n",
    "        df_mlp1 = df_.groupby('MLPID1')[V].agg(lambda x: list(x)).reset_index()\n",
    "        df_mlp1.rename(columns={'MLPID1':'MLPID'}, inplace=True)\n",
    "\n",
    "        #MLPID2\n",
    "        df_ = df_inter[(df_inter['DIB2']==DIB)&(df_inter['DIB1']==DIB)].copy()\n",
    "        #print(df_.shape)\n",
    "        df_mlp2 = df_.groupby('MLPID2')[V].agg(lambda x: list(x)).reset_index()\n",
    "        df_mlp2.rename(columns={'MLPID2':'MLPID'}, inplace=True)\n",
    "\n",
    "        #concat all\n",
    "        df_mlp = pd.concat([df_mlp1, df_mlp2])\n",
    "        #print(df_mlp.shape, df_mlp1.shape, df_mlp2.shape)\n",
    "        df_mlp['min_distance'] = df_mlp[V].map(lambda x: min(x))\n",
    "        df_mlp['DIB'] = DIB\n",
    "        df_mlp['nbr_MLPs_involved'] = df_mlp[V].map(lambda x: len(x))\n",
    "    else:\n",
    "        #MLPID1 (from previous days (n acual days, as we want to have already taken them into account))\n",
    "        df_ = df_inter[(df_inter['DIB1']==DIB)&(df_inter['DIB2']<DIB)].copy()\n",
    "        #print(df_.shape)\n",
    "        df_mlp1 = df_.groupby('MLPID1')[V].agg(lambda x: list(x)).reset_index()\n",
    "        df_mlp1.rename(columns={'MLPID1':'MLPID'}, inplace=True)\n",
    "\n",
    "        #MLPID2\n",
    "        df_ = df_inter[(df_inter['DIB2']==DIB)&(df_inter['DIB1']<DIB)].copy()\n",
    "        #print(df_.shape)\n",
    "        df_mlp2 = df_.groupby('MLPID2')[V].agg(lambda x: list(x)).reset_index()\n",
    "        df_mlp2.rename(columns={'MLPID2':'MLPID'}, inplace=True)\n",
    "\n",
    "        #concat all\n",
    "        df_mlp = pd.concat([df_mlp1, df_mlp2])\n",
    "        #print(df_mlp.shape, df_mlp1.shape, df_mlp2.shape)\n",
    "        df_mlp['min_distance'] = df_mlp[V].map(lambda x: min(x))\n",
    "        df_mlp['DIB'] = DIB\n",
    "        df_mlp['nbr_MLPs_involved'] = df_mlp[V].map(lambda x: len(x))\n",
    "    li_df.append(df_mlp)    \n",
    "df_mlp_allDIB = pd.concat(li_df)\n",
    "print(df_mlp_allDIB.shape)\n",
    "df_mlp_allDIB.head(3)"
   ]
  },
  {
   "cell_type": "code",
   "execution_count": 26,
   "metadata": {},
   "outputs": [
    {
     "name": "stderr",
     "output_type": "stream",
     "text": [
      "C:\\Users\\camil\\anaconda3\\lib\\site-packages\\ipykernel\\ipkernel.py:283: DeprecationWarning: `should_run_async` will not call `transform_cell` automatically in the future. Please pass the result to `transformed_cell` argument and any exception that happen during thetransform in `preprocessing_exc_tuple` in IPython 7.17 and above.\n",
      "  and should_run_async(code)\n"
     ]
    },
    {
     "data": {
      "image/png": "[encoded data removed]",
      "text/plain": [
       "<Figure size 432x288 with 1 Axes>"
      ]
     },
     "metadata": {
      "needs_background": "light"
     },
     "output_type": "display_data"
    }
   ],
   "source": [
    "#small veriification: plot number of mlps involved per DIB, should be growing over time!\n",
    "sns.boxplot(x='DIB', y='nbr_MLPs_involved', data=df_mlp_allDIB);"
   ]
  },
  {
   "cell_type": "code",
   "execution_count": 27,
   "metadata": {},
   "outputs": [
    {
     "name": "stdout",
     "output_type": "stream",
     "text": [
      "(55, 4)\n"
     ]
    },
    {
     "name": "stderr",
     "output_type": "stream",
     "text": [
      "C:\\Users\\camil\\anaconda3\\lib\\site-packages\\ipykernel\\ipkernel.py:283: DeprecationWarning: `should_run_async` will not call `transform_cell` automatically in the future. Please pass the result to `transformed_cell` argument and any exception that happen during thetransform in `preprocessing_exc_tuple` in IPython 7.17 and above.\n",
      "  and should_run_async(code)\n"
     ]
    },
    {
     "data": {
      "text/html": [
       "<div>\n",
       "<style scoped>\n",
       "    .dataframe tbody tr th:only-of-type {\n",
       "        vertical-align: middle;\n",
       "    }\n",
       "\n",
       "    .dataframe tbody tr th {\n",
       "        vertical-align: top;\n",
       "    }\n",
       "\n",
       "    .dataframe thead th {\n",
       "        text-align: right;\n",
       "    }\n",
       "</style>\n",
       "<table border=\"1\" class=\"dataframe\">\n",
       "  <thead>\n",
       "    <tr style=\"text-align: right;\">\n",
       "      <th></th>\n",
       "      <th>DIB</th>\n",
       "      <th>min_distance</th>\n",
       "      <th>nbr_obs</th>\n",
       "      <th>sum_min_distance_for_each_mlp</th>\n",
       "    </tr>\n",
       "  </thead>\n",
       "  <tbody>\n",
       "    <tr>\n",
       "      <th>0</th>\n",
       "      <td>1</td>\n",
       "      <td>[0.13136938038489349, 0.2315844831617873, 0.06...</td>\n",
       "      <td>260</td>\n",
       "      <td>40.270048</td>\n",
       "    </tr>\n",
       "    <tr>\n",
       "      <th>1</th>\n",
       "      <td>2</td>\n",
       "      <td>[0.049825173081477256, 0.06432711132891387, 0....</td>\n",
       "      <td>246</td>\n",
       "      <td>29.359012</td>\n",
       "    </tr>\n",
       "    <tr>\n",
       "      <th>2</th>\n",
       "      <td>3</td>\n",
       "      <td>[0.0, 0.0821949917679172, 0.0, 0.2337743188606...</td>\n",
       "      <td>246</td>\n",
       "      <td>26.772500</td>\n",
       "    </tr>\n",
       "  </tbody>\n",
       "</table>\n",
       "</div>"
      ],
      "text/plain": [
       "   DIB                                       min_distance  nbr_obs  \\\n",
       "0    1  [0.13136938038489349, 0.2315844831617873, 0.06...      260   \n",
       "1    2  [0.049825173081477256, 0.06432711132891387, 0....      246   \n",
       "2    3  [0.0, 0.0821949917679172, 0.0, 0.2337743188606...      246   \n",
       "\n",
       "   sum_min_distance_for_each_mlp  \n",
       "0                      40.270048  \n",
       "1                      29.359012  \n",
       "2                      26.772500  "
      ]
     },
     "metadata": {},
     "output_type": "display_data"
    },
    {
     "data": {
      "text/html": [
       "<div>\n",
       "<style scoped>\n",
       "    .dataframe tbody tr th:only-of-type {\n",
       "        vertical-align: middle;\n",
       "    }\n",
       "\n",
       "    .dataframe tbody tr th {\n",
       "        vertical-align: top;\n",
       "    }\n",
       "\n",
       "    .dataframe thead th {\n",
       "        text-align: right;\n",
       "    }\n",
       "</style>\n",
       "<table border=\"1\" class=\"dataframe\">\n",
       "  <thead>\n",
       "    <tr style=\"text-align: right;\">\n",
       "      <th></th>\n",
       "      <th>DIB</th>\n",
       "      <th>min_distance</th>\n",
       "      <th>nbr_obs</th>\n",
       "      <th>sum_min_distance_for_each_mlp</th>\n",
       "    </tr>\n",
       "  </thead>\n",
       "  <tbody>\n",
       "    <tr>\n",
       "      <th>52</th>\n",
       "      <td>53</td>\n",
       "      <td>[0.21377599813958956, 0.33052505782474634, 0.0...</td>\n",
       "      <td>246</td>\n",
       "      <td>60.717121</td>\n",
       "    </tr>\n",
       "    <tr>\n",
       "      <th>53</th>\n",
       "      <td>54</td>\n",
       "      <td>[0.3046229425502482, 0.3328373387187038, 0.105...</td>\n",
       "      <td>246</td>\n",
       "      <td>59.873918</td>\n",
       "    </tr>\n",
       "    <tr>\n",
       "      <th>54</th>\n",
       "      <td>55</td>\n",
       "      <td>[0.2512579808828505, 0.3377434510370683, 0.247...</td>\n",
       "      <td>246</td>\n",
       "      <td>55.787424</td>\n",
       "    </tr>\n",
       "  </tbody>\n",
       "</table>\n",
       "</div>"
      ],
      "text/plain": [
       "    DIB                                       min_distance  nbr_obs  \\\n",
       "52   53  [0.21377599813958956, 0.33052505782474634, 0.0...      246   \n",
       "53   54  [0.3046229425502482, 0.3328373387187038, 0.105...      246   \n",
       "54   55  [0.2512579808828505, 0.3377434510370683, 0.247...      246   \n",
       "\n",
       "    sum_min_distance_for_each_mlp  \n",
       "52                      60.717121  \n",
       "53                      59.873918  \n",
       "54                      55.787424  "
      ]
     },
     "metadata": {},
     "output_type": "display_data"
    },
    {
     "data": {
      "image/png": "[encoded data removed]",
      "text/plain": [
       "<Figure size 432x288 with 1 Axes>"
      ]
     },
     "metadata": {
      "needs_background": "light"
     },
     "output_type": "display_data"
    },
    {
     "data": {
      "image/png": "[encoded data removed]",
      "text/plain": [
       "<Figure size 432x288 with 1 Axes>"
      ]
     },
     "metadata": {
      "needs_background": "light"
     },
     "output_type": "display_data"
    }
   ],
   "source": [
    "#plot the indicator of behavioural structure creation\n",
    "df_bs_index = df_mlp_allDIB.groupby('DIB')['min_distance'].agg(lambda x: list(x)).reset_index()\n",
    "df_bs_index['nbr_obs'] = df_bs_index['min_distance'].map(lambda x: len(x)) #should be around the same all the time\n",
    "df_bs_index['sum_min_distance_for_each_mlp'] = df_bs_index['min_distance'].map(lambda x: sum(x))\n",
    "print(df_bs_index.shape)\n",
    "display(df_bs_index.head(3))\n",
    "display(df_bs_index.tail(3))\n",
    "plt.plot(df_bs_index['DIB'].tolist(), df_bs_index['sum_min_distance_for_each_mlp'].tolist());\n",
    "plt.show();\n",
    "#cumulatively\n",
    "plt.plot(df_bs_index['DIB'].tolist(), np.cumsum(df_bs_index['sum_min_distance_for_each_mlp'].tolist()));"
   ]
  },
  {
   "cell_type": "code",
   "execution_count": null,
   "metadata": {},
   "outputs": [],
   "source": []
  },
  {
   "cell_type": "code",
   "execution_count": null,
   "metadata": {},
   "outputs": [],
   "source": []
  },
  {
   "cell_type": "code",
   "execution_count": null,
   "metadata": {},
   "outputs": [],
   "source": []
  },
  {
   "cell_type": "code",
   "execution_count": null,
   "metadata": {},
   "outputs": [],
   "source": []
  },
  {
   "cell_type": "code",
   "execution_count": null,
   "metadata": {},
   "outputs": [],
   "source": []
  },
  {
   "cell_type": "code",
   "execution_count": null,
   "metadata": {},
   "outputs": [],
   "source": []
  },
  {
   "cell_type": "code",
   "execution_count": null,
   "metadata": {},
   "outputs": [],
   "source": []
  },
  {
   "cell_type": "code",
   "execution_count": null,
   "metadata": {},
   "outputs": [],
   "source": []
  },
  {
   "cell_type": "code",
   "execution_count": null,
   "metadata": {},
   "outputs": [],
   "source": []
  }
 ],
 "metadata": {
  "kernelspec": {
   "display_name": "Python 3",
   "language": "python",
   "name": "python3"
  },
  "language_info": {
   "codemirror_mode": {
    "name": "ipython",
    "version": 3
   },
   "file_extension": ".py",
   "mimetype": "text/x-python",
   "name": "python",
   "nbconvert_exporter": "python",
   "pygments_lexer": "ipython3",
   "version": "3.8.5"
  }
 },
 "nbformat": 4,
 "nbformat_minor": 2
}
