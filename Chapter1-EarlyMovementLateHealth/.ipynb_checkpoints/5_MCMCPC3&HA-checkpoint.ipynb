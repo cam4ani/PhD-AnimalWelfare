{
 "cells": [
  {
   "cell_type": "code",
   "execution_count": 1,
   "metadata": {
    "scrolled": true
   },
   "outputs": [
    {
     "name": "stderr",
     "output_type": "stream",
     "text": [
      "Warning message:\n",
      "\"package 'lme4' was built under R version 3.6.3\"\n",
      "Loading required package: Matrix\n",
      "\n",
      "Warning message:\n",
      "\"package 'Matrix' was built under R version 3.6.3\"\n",
      "Warning message:\n",
      "\"package 'MCMCglmm' was built under R version 3.6.3\"\n",
      "Loading required package: coda\n",
      "\n",
      "Warning message:\n",
      "\"package 'coda' was built under R version 3.6.3\"\n",
      "Loading required package: ape\n",
      "\n",
      "Warning message:\n",
      "\"package 'ape' was built under R version 3.6.3\"\n",
      "Warning message:\n",
      "\"package 'nadiv' was built under R version 3.6.3\"\n",
      "\n",
      "Attaching package: 'nadiv'\n",
      "\n",
      "\n",
      "The following object is masked from 'package:MCMCglmm':\n",
      "\n",
      "    prunePed\n",
      "\n",
      "\n",
      "Warning message:\n",
      "\"package 'tidyverse' was built under R version 3.6.3\"\n",
      "-- \u001b[1mAttaching packages\u001b[22m ------------------------------------------------------------------------------- tidyverse 1.3.1 --\n",
      "\n",
      "\u001b[32mv\u001b[39m \u001b[34mggplot2\u001b[39m 3.3.5     \u001b[32mv\u001b[39m \u001b[34mpurrr  \u001b[39m 0.3.4\n",
      "\u001b[32mv\u001b[39m \u001b[34mtibble \u001b[39m 3.1.1     \u001b[32mv\u001b[39m \u001b[34mdplyr  \u001b[39m 1.0.6\n",
      "\u001b[32mv\u001b[39m \u001b[34mtidyr  \u001b[39m 1.1.3     \u001b[32mv\u001b[39m \u001b[34mstringr\u001b[39m 1.4.0\n",
      "\u001b[32mv\u001b[39m \u001b[34mreadr  \u001b[39m 1.4.0     \u001b[32mv\u001b[39m \u001b[34mforcats\u001b[39m 0.5.1\n",
      "\n",
      "Warning message:\n",
      "\"package 'tibble' was built under R version 3.6.3\"\n",
      "Warning message:\n",
      "\"package 'tidyr' was built under R version 3.6.3\"\n",
      "Warning message:\n",
      "\"package 'readr' was built under R version 3.6.3\"\n",
      "Warning message:\n",
      "\"package 'purrr' was built under R version 3.6.3\"\n",
      "Warning message:\n",
      "\"package 'dplyr' was built under R version 3.6.3\"\n",
      "Warning message:\n",
      "\"package 'stringr' was built under R version 3.6.3\"\n",
      "Warning message:\n",
      "\"package 'forcats' was built under R version 3.6.3\"\n",
      "-- \u001b[1mConflicts\u001b[22m ---------------------------------------------------------------------------------- tidyverse_conflicts() --\n",
      "\u001b[31mx\u001b[39m \u001b[34mtidyr\u001b[39m::\u001b[32mexpand()\u001b[39m masks \u001b[34mMatrix\u001b[39m::expand()\n",
      "\u001b[31mx\u001b[39m \u001b[34mdplyr\u001b[39m::\u001b[32mfilter()\u001b[39m masks \u001b[34mstats\u001b[39m::filter()\n",
      "\u001b[31mx\u001b[39m \u001b[34mdplyr\u001b[39m::\u001b[32mlag()\u001b[39m    masks \u001b[34mstats\u001b[39m::lag()\n",
      "\u001b[31mx\u001b[39m \u001b[34mtidyr\u001b[39m::\u001b[32mpack()\u001b[39m   masks \u001b[34mMatrix\u001b[39m::pack()\n",
      "\u001b[31mx\u001b[39m \u001b[34mtidyr\u001b[39m::\u001b[32munpack()\u001b[39m masks \u001b[34mMatrix\u001b[39m::unpack()\n",
      "\n"
     ]
    }
   ],
   "source": [
    "library(lme4)\n",
    "library(MCMCglmm)\n",
    "library(broom)\n",
    "library(nadiv)\n",
    "library(tidyverse) #%>%"
   ]
  },
  {
   "cell_type": "code",
   "execution_count": 2,
   "metadata": {},
   "outputs": [],
   "source": [
    "library(parallel)\n",
    "my.cores = detectCores()"
   ]
  },
  {
   "cell_type": "code",
   "execution_count": 3,
   "metadata": {},
   "outputs": [],
   "source": [
    "#FROM INTERNET!!!\n",
    "clean.MCMC <- function(x) {\n",
    "    sols <- summary(x)$solutions  ## pull out relevant info from model summary\n",
    "    Gcovs <- summary(x)$Gcovariances\n",
    "    Rcovs <- summary(x)$Rcovariances\n",
    "    fixed <- data.frame(row.names(sols), sols, row.names = NULL)  ## convert to dataframes with the row.names as the first col\n",
    "    random <- data.frame(row.names(Gcovs), Gcovs, row.names = NULL)\n",
    "    residual <- data.frame(row.names(Rcovs), Rcovs, row.names = NULL)\n",
    "    names(fixed)[names(fixed) == \"row.names.sols.\"] <- \"variable\"  ## change the columns names to variable, so they all match\n",
    "    names(random)[names(random) == \"row.names.Gcovs.\"] <- \"variable\"\n",
    "    names(residual)[names(residual) == \"row.names.Rcovs.\"] <- \"variable\"\n",
    "    fixed$effect <- \"fixed\"  ## add ID column for type of effect (fixed, random, residual)\n",
    "    random$effect <- \"random\"\n",
    "    residual$effect <- \"residual\"\n",
    "    modelTerms <- as.data.frame(bind_rows(fixed, random, residual))  # merge it all together\n",
    "}\n",
    "getName.MCMC <- function(x) deparse(substitute(x))  # add the model name"
   ]
  },
  {
   "cell_type": "markdown",
   "metadata": {},
   "source": [
    "# Download data"
   ]
  },
  {
   "cell_type": "code",
   "execution_count": 5,
   "metadata": {},
   "outputs": [
    {
     "name": "stdout",
     "output_type": "stream",
     "text": [
      "[1] 3230   54\n"
     ]
    },
    {
     "data": {
      "text/plain": [
       "   Unnamed..0          WIB            HenID           RPen      \n",
       " Min.   :   1.0   Min.   :2.000   hen_116:  43   Min.   :1.000  \n",
       " 1st Qu.: 808.2   1st Qu.:4.000   hen_124:  43   1st Qu.:1.000  \n",
       " Median :1615.5   Median :5.000   hen_127:  43   Median :2.000  \n",
       " Mean   :1615.5   Mean   :5.222   hen_136:  43   Mean   :2.448  \n",
       " 3rd Qu.:2422.8   3rd Qu.:7.000   hen_147:  43   3rd Qu.:3.000  \n",
       " Max.   :3230.0   Max.   :8.000   hen_151:  43   Max.   :4.000  \n",
       "                                  (Other):2972                  \n",
       "      DIB          CLASS                  TrackingSystemID     PenID    \n",
       " Min.   :11.00   LEXP : 965   TrackingSystem 10-12:1302    pen10  :504  \n",
       " 1st Qu.:23.00   MEXP :1379   TrackingSystem 3-5  :1069    pen11  :504  \n",
       " Median :33.00   Other: 886   TrackingSystem 8-9  : 859    pen8   :430  \n",
       " Mean   :33.59                                             pen9   :429  \n",
       " 3rd Qu.:44.00                                             pen4   :388  \n",
       " Max.   :54.00                                             pen5   :363  \n",
       "                                                           (Other):612  \n",
       " temperature_C_avg Treatment    tobeusedPCA      RearingPenID   InitialWeight \n",
       " Min.   : 4.000    OFH :1614   Min.   :0.0000   Min.   :1.000   Min.   :1046  \n",
       " 1st Qu.: 8.667    TRAN:1616   1st Qu.:0.0000   1st Qu.:1.000   1st Qu.:1130  \n",
       " Median :11.000                Median :0.0000   Median :2.000   Median :1164  \n",
       " Mean   :10.838                Mean   :0.1734   Mean   :2.448   Mean   :1169  \n",
       " 3rd Qu.:12.667                3rd Qu.:0.0000   3rd Qu.:3.000   3rd Qu.:1200  \n",
       " Max.   :19.333                Max.   :1.0000   Max.   :4.000   Max.   :1350  \n",
       "                                                                              \n",
       " Treatment_encoded    perc_duration_5_Zone perc_duration_4_Zone\n",
       " Min.   :-1.0000000   Min.   :  0.00       Min.   : 0.000      \n",
       " 1st Qu.:-1.0000000   1st Qu.: 11.00       1st Qu.: 4.000      \n",
       " Median :-1.0000000   Median : 33.00       Median : 6.000      \n",
       " Mean   :-0.0006192   Mean   : 39.21       Mean   : 8.136      \n",
       " 3rd Qu.: 1.0000000   3rd Qu.: 66.00       3rd Qu.:10.000      \n",
       " Max.   : 1.0000000   Max.   :100.00       Max.   :73.000      \n",
       "                                                               \n",
       " perc_duration_3_Zone perc_duration_2_Zone perc_1_Zone_while_WG_open\n",
       " Min.   : 0.00        Min.   : 0.00        Min.   : 0.000           \n",
       " 1st Qu.: 7.00        1st Qu.:14.00        1st Qu.: 0.000           \n",
       " Median :17.00        Median :32.00        Median : 1.388           \n",
       " Mean   :18.27        Mean   :31.24        Mean   : 6.932           \n",
       " 3rd Qu.:28.00        3rd Qu.:46.00        3rd Qu.: 9.572           \n",
       " Max.   :70.00        Max.   :91.00        Max.   :87.949           \n",
       "                                                                    \n",
       " nbr_stays_2_Zone_perh nbr_stays_4_Zone_perh nbr_stays_3_Zone_perh\n",
       " Min.   :0.0000        Min.   :0.0000        Min.   :0.0000       \n",
       " 1st Qu.:0.4545        1st Qu.:0.2857        1st Qu.:0.6923       \n",
       " Median :1.0714        Median :0.5714        Median :1.3333       \n",
       " Mean   :1.1062        Mean   :0.7059        Mean   :1.3227       \n",
       " 3rd Qu.:1.6667        3rd Qu.:1.0000        3rd Qu.:1.8333       \n",
       " Max.   :5.0909        Max.   :5.2500        Max.   :5.1818       \n",
       "                                                                  \n",
       " nbr_stays_5_Zone_perh nbr_stays_1_Zone_perh in_WG_15mnAfterOpening\n",
       " Min.   :0.0000        Min.   :0.0000        Min.   :0.0000        \n",
       " 1st Qu.:0.2000        1st Qu.:0.0000        1st Qu.:0.0000        \n",
       " Median :0.3571        Median :0.1622        Median :0.0000        \n",
       " Mean   :0.4352        Mean   :0.4060        Mean   :0.2065        \n",
       " 3rd Qu.:0.6000        3rd Qu.:0.6316        3rd Qu.:0.0000        \n",
       " Max.   :3.1667        Max.   :3.5789        Max.   :1.0000        \n",
       "                                                                   \n",
       " SleepingHeight  vertical_travel_distance_perh     avgDIB         severity    \n",
       " Min.   :0.000   Min.   : 0.000                Min.   :32.91   Min.   : 6.00  \n",
       " 1st Qu.:2.000   1st Qu.: 2.286                1st Qu.:32.91   1st Qu.:24.00  \n",
       " Median :3.000   Median : 3.600                Median :33.36   Median :36.00  \n",
       " Mean   :2.481   Mean   : 3.595                Mean   :33.59   Mean   :35.72  \n",
       " 3rd Qu.:3.000   3rd Qu.: 4.800                3rd Qu.:34.00   3rd Qu.:46.00  \n",
       " Max.   :3.000   Max.   :12.308                Max.   :35.18   Max.   :84.00  \n",
       "                                                                              \n",
       "    Feathers          cDIB          cDIBfact     InitialWeight_kg\n",
       " Min.   :35.00   Min.   :11.00   Min.   :11.00   Min.   :1.046   \n",
       " 1st Qu.:58.67   1st Qu.:23.00   1st Qu.:23.00   1st Qu.:1.130   \n",
       " Median :66.33   Median :33.00   Median :33.00   Median :1.164   \n",
       " Mean   :65.81   Mean   :33.59   Mean   :33.59   Mean   :1.169   \n",
       " 3rd Qu.:73.67   3rd Qu.:44.00   3rd Qu.:44.00   3rd Qu.:1.200   \n",
       " Max.   :86.67   Max.   :54.00   Max.   :54.00   Max.   :1.350   \n",
       " NA's   :42                                                      \n",
       "      PC1                PC2               PC3              cDIB2     \n",
       " Min.   :-1.90234   Min.   :-1.7789   Min.   :-1.5862   Min.   : 121  \n",
       " 1st Qu.:-0.92069   1st Qu.:-0.7077   1st Qu.:-0.6542   1st Qu.: 529  \n",
       " Median : 0.02818   Median :-0.2137   Median :-0.4369   Median :1089  \n",
       " Mean   : 0.00000   Mean   : 0.0000   Mean   : 0.0000   Mean   :1280  \n",
       " 3rd Qu.: 0.83271   3rd Qu.: 0.4811   3rd Qu.: 0.4501   3rd Qu.:1936  \n",
       " Max.   : 3.70604   Max.   : 8.2877   Max.   : 4.8024   Max.   :2916  \n",
       "                                                                      \n",
       " temperature_C_avg_scale.V1    cDIB2_scale.V1       cDIB_scale.V1    \n",
       " Min.   :-2.1505151         Min.   :-1.3941334   Min.   :-1.8335663  \n",
       " 1st Qu.:-0.6829345         1st Qu.:-0.9034919   1st Qu.:-0.8597111  \n",
       " Median : 0.0508558         Median :-0.2300625   Median :-0.0481651  \n",
       " Mean   : 0.0000000         Mean   : 0.0000000   Mean   : 0.0000000  \n",
       " 3rd Qu.: 0.5749917         3rd Qu.: 0.7884996   3rd Qu.: 0.8445355  \n",
       " Max.   : 2.6715354         Max.   : 1.9670011   Max.   : 1.6560815  \n",
       "                                                                     \n",
       "   avgDIB_scale.V1       PC1scale         rel_severity    ri_fit_marginalnull \n",
       " Min.   :-1.0681873   Min.   :-1.86903   Min.   :0.1680   Min.   :-1.5144166  \n",
       " 1st Qu.:-1.0681873   1st Qu.:-0.90457   1st Qu.:0.6718   1st Qu.:-0.6575414  \n",
       " Median :-0.3677554   Median : 0.02769   Median :1.0077   Median : 0.1544643  \n",
       " Mean   : 0.0000000   Mean   : 0.00000   Mean   :1.0000   Mean   :-0.0001209  \n",
       " 3rd Qu.: 0.6324925   3rd Qu.: 0.81813   3rd Qu.:1.2876   3rd Qu.: 0.4826150  \n",
       " Max.   : 2.4750543   Max.   : 3.64114   Max.   :2.3513   Max.   : 1.4518030  \n",
       "                                                                              \n",
       " rr_fit_marginalnull      ri_fit              rr_fit        \n",
       " Min.   :-2.4274802   Min.   :-0.565097   Min.   :-1.21105  \n",
       " 1st Qu.:-0.7521738   1st Qu.:-0.159180   1st Qu.:-0.24873  \n",
       " Median : 0.0728395   Median :-0.029826   Median : 0.04569  \n",
       " Mean   :-0.0003626   Mean   :-0.007171   Mean   :-0.01806  \n",
       " 3rd Qu.: 0.6668403   3rd Qu.: 0.146960   3rd Qu.: 0.25107  \n",
       " Max.   : 2.2344042   Max.   : 0.722356   Max.   : 0.79893  \n",
       "                                                            \n",
       " nbr_nbrzonevisisted_over_3days nbr_daysnomvt_over_3days Predictability_mean\n",
       " Min.   : 3.000                 Min.   :0.0000           Min.   :-1.7076    \n",
       " 1st Qu.: 7.000                 1st Qu.:0.0000           1st Qu.:-1.2354    \n",
       " Median :10.000                 Median :0.0000           Median :-1.0661    \n",
       " Mean   : 9.242                 Mean   :0.5582           Mean   :-1.0572    \n",
       " 3rd Qu.:12.000                 3rd Qu.:1.0000           3rd Qu.:-0.8765    \n",
       " Max.   :12.000                 Max.   :3.0000           Max.   :-0.5463    \n",
       "                                                                            \n",
       " Predictability_sd     PC3scale.V1     InitialWeight_kg_scale.V1\n",
       " Min.   :0.06776   Min.   :-1.612771   Min.   :-1.9742093       \n",
       " 1st Qu.:0.10143   1st Qu.:-0.665125   1st Qu.:-0.6252286       \n",
       " Median :0.11733   Median :-0.444184   Median :-0.0792126       \n",
       " Mean   :0.11878   Mean   : 0.000000   Mean   : 0.0000000       \n",
       " 3rd Qu.:0.13704   3rd Qu.: 0.457680   3rd Qu.: 0.4989220       \n",
       " Max.   :0.20474   Max.   : 4.882815   Max.   : 2.9078162       \n",
       "                                                                \n",
       "  rel_feather    \n",
       " Min.   :0.5318  \n",
       " 1st Qu.:0.8914  \n",
       " Median :1.0079  \n",
       " Mean   :1.0000  \n",
       " 3rd Qu.:1.1194  \n",
       " Max.   :1.3169  \n",
       " NA's   :42      "
      ]
     },
     "metadata": {},
     "output_type": "display_data"
    },
    {
     "data": {
      "text/html": [
       "<table class=\"dataframe\">\n",
       "<caption>A data.frame: 3 × 54</caption>\n",
       "<thead>\n",
       "\t<tr><th></th><th scope=col>Unnamed..0</th><th scope=col>WIB</th><th scope=col>HenID</th><th scope=col>RPen</th><th scope=col>DIB</th><th scope=col>CLASS</th><th scope=col>TrackingSystemID</th><th scope=col>PenID</th><th scope=col>temperature_C_avg</th><th scope=col>Treatment</th><th scope=col>...</th><th scope=col>rr_fit_marginalnull</th><th scope=col>ri_fit</th><th scope=col>rr_fit</th><th scope=col>nbr_nbrzonevisisted_over_3days</th><th scope=col>nbr_daysnomvt_over_3days</th><th scope=col>Predictability_mean</th><th scope=col>Predictability_sd</th><th scope=col>PC3scale</th><th scope=col>InitialWeight_kg_scale</th><th scope=col>rel_feather</th></tr>\n",
       "\t<tr><th></th><th scope=col>&lt;int&gt;</th><th scope=col>&lt;int&gt;</th><th scope=col>&lt;fct&gt;</th><th scope=col>&lt;int&gt;</th><th scope=col>&lt;int&gt;</th><th scope=col>&lt;fct&gt;</th><th scope=col>&lt;fct&gt;</th><th scope=col>&lt;fct&gt;</th><th scope=col>&lt;dbl&gt;</th><th scope=col>&lt;fct&gt;</th><th scope=col>...</th><th scope=col>&lt;dbl&gt;</th><th scope=col>&lt;dbl&gt;</th><th scope=col>&lt;dbl&gt;</th><th scope=col>&lt;dbl&gt;</th><th scope=col>&lt;int&gt;</th><th scope=col>&lt;dbl&gt;</th><th scope=col>&lt;dbl&gt;</th><th scope=col>&lt;dbl[,1]&gt;</th><th scope=col>&lt;dbl[,1]&gt;</th><th scope=col>&lt;dbl&gt;</th></tr>\n",
       "</thead>\n",
       "<tbody>\n",
       "\t<tr><th scope=row>1</th><td>1</td><td>2</td><td>hen_134</td><td>4</td><td>11</td><td>MEXP</td><td>TrackingSystem 10-12</td><td>pen10</td><td>11.50000</td><td>TRAN</td><td>...</td><td>-1.633249</td><td>0.1555927</td><td>-0.7028166</td><td>9</td><td>1</td><td>-0.8704775</td><td>0.09785196</td><td>-0.4555078</td><td>-0.9142959</td><td>1.109245</td></tr>\n",
       "\t<tr><th scope=row>2</th><td>2</td><td>2</td><td>hen_134</td><td>4</td><td>12</td><td>MEXP</td><td>TrackingSystem 10-12</td><td>pen10</td><td>10.16667</td><td>TRAN</td><td>...</td><td>-1.592506</td><td>0.1822498</td><td>-0.6188933</td><td>9</td><td>1</td><td>-0.8704775</td><td>0.09785196</td><td>-0.4980273</td><td>-0.9142959</td><td>1.109245</td></tr>\n",
       "\t<tr><th scope=row>3</th><td>3</td><td>2</td><td>hen_134</td><td>4</td><td>13</td><td>MEXP</td><td>TrackingSystem 10-12</td><td>pen10</td><td> 9.00000</td><td>TRAN</td><td>...</td><td>-1.553309</td><td>0.2055748</td><td>-0.5391475</td><td>9</td><td>1</td><td>-0.8704775</td><td>0.09785196</td><td>-0.4555078</td><td>-0.9142959</td><td>1.109245</td></tr>\n",
       "</tbody>\n",
       "</table>\n"
      ],
      "text/latex": [
       "A data.frame: 3 × 54\n",
       "\\begin{tabular}{r|lllllllllllllllllllll}\n",
       "  & Unnamed..0 & WIB & HenID & RPen & DIB & CLASS & TrackingSystemID & PenID & temperature\\_C\\_avg & Treatment & ... & rr\\_fit\\_marginalnull & ri\\_fit & rr\\_fit & nbr\\_nbrzonevisisted\\_over\\_3days & nbr\\_daysnomvt\\_over\\_3days & Predictability\\_mean & Predictability\\_sd & PC3scale & InitialWeight\\_kg\\_scale & rel\\_feather\\\\\n",
       "  & <int> & <int> & <fct> & <int> & <int> & <fct> & <fct> & <fct> & <dbl> & <fct> & ... & <dbl> & <dbl> & <dbl> & <dbl> & <int> & <dbl> & <dbl> & <dbl{[},1{]}> & <dbl{[},1{]}> & <dbl>\\\\\n",
       "\\hline\n",
       "\t1 & 1 & 2 & hen\\_134 & 4 & 11 & MEXP & TrackingSystem 10-12 & pen10 & 11.50000 & TRAN & ... & -1.633249 & 0.1555927 & -0.7028166 & 9 & 1 & -0.8704775 & 0.09785196 & -0.4555078 & -0.9142959 & 1.109245\\\\\n",
       "\t2 & 2 & 2 & hen\\_134 & 4 & 12 & MEXP & TrackingSystem 10-12 & pen10 & 10.16667 & TRAN & ... & -1.592506 & 0.1822498 & -0.6188933 & 9 & 1 & -0.8704775 & 0.09785196 & -0.4980273 & -0.9142959 & 1.109245\\\\\n",
       "\t3 & 3 & 2 & hen\\_134 & 4 & 13 & MEXP & TrackingSystem 10-12 & pen10 &  9.00000 & TRAN & ... & -1.553309 & 0.2055748 & -0.5391475 & 9 & 1 & -0.8704775 & 0.09785196 & -0.4555078 & -0.9142959 & 1.109245\\\\\n",
       "\\end{tabular}\n"
      ],
      "text/markdown": [
       "\n",
       "A data.frame: 3 × 54\n",
       "\n",
       "| <!--/--> | Unnamed..0 &lt;int&gt; | WIB &lt;int&gt; | HenID &lt;fct&gt; | RPen &lt;int&gt; | DIB &lt;int&gt; | CLASS &lt;fct&gt; | TrackingSystemID &lt;fct&gt; | PenID &lt;fct&gt; | temperature_C_avg &lt;dbl&gt; | Treatment &lt;fct&gt; | ... ... | rr_fit_marginalnull &lt;dbl&gt; | ri_fit &lt;dbl&gt; | rr_fit &lt;dbl&gt; | nbr_nbrzonevisisted_over_3days &lt;dbl&gt; | nbr_daysnomvt_over_3days &lt;int&gt; | Predictability_mean &lt;dbl&gt; | Predictability_sd &lt;dbl&gt; | PC3scale &lt;dbl[,1]&gt; | InitialWeight_kg_scale &lt;dbl[,1]&gt; | rel_feather &lt;dbl&gt; |\n",
       "|---|---|---|---|---|---|---|---|---|---|---|---|---|---|---|---|---|---|---|---|---|---|\n",
       "| 1 | 1 | 2 | hen_134 | 4 | 11 | MEXP | TrackingSystem 10-12 | pen10 | 11.50000 | TRAN | ... | -1.633249 | 0.1555927 | -0.7028166 | 9 | 1 | -0.8704775 | 0.09785196 | -0.4555078 | -0.9142959 | 1.109245 |\n",
       "| 2 | 2 | 2 | hen_134 | 4 | 12 | MEXP | TrackingSystem 10-12 | pen10 | 10.16667 | TRAN | ... | -1.592506 | 0.1822498 | -0.6188933 | 9 | 1 | -0.8704775 | 0.09785196 | -0.4980273 | -0.9142959 | 1.109245 |\n",
       "| 3 | 3 | 2 | hen_134 | 4 | 13 | MEXP | TrackingSystem 10-12 | pen10 |  9.00000 | TRAN | ... | -1.553309 | 0.2055748 | -0.5391475 | 9 | 1 | -0.8704775 | 0.09785196 | -0.4555078 | -0.9142959 | 1.109245 |\n",
       "\n"
      ],
      "text/plain": [
       "  Unnamed..0 WIB HenID   RPen DIB CLASS TrackingSystemID     PenID\n",
       "1 1          2   hen_134 4    11  MEXP  TrackingSystem 10-12 pen10\n",
       "2 2          2   hen_134 4    12  MEXP  TrackingSystem 10-12 pen10\n",
       "3 3          2   hen_134 4    13  MEXP  TrackingSystem 10-12 pen10\n",
       "  temperature_C_avg Treatment ... rr_fit_marginalnull ri_fit    rr_fit    \n",
       "1 11.50000          TRAN      ... -1.633249           0.1555927 -0.7028166\n",
       "2 10.16667          TRAN      ... -1.592506           0.1822498 -0.6188933\n",
       "3  9.00000          TRAN      ... -1.553309           0.2055748 -0.5391475\n",
       "  nbr_nbrzonevisisted_over_3days nbr_daysnomvt_over_3days Predictability_mean\n",
       "1 9                              1                        -0.8704775         \n",
       "2 9                              1                        -0.8704775         \n",
       "3 9                              1                        -0.8704775         \n",
       "  Predictability_sd PC3scale   InitialWeight_kg_scale rel_feather\n",
       "1 0.09785196        -0.4555078 -0.9142959             1.109245   \n",
       "2 0.09785196        -0.4980273 -0.9142959             1.109245   \n",
       "3 0.09785196        -0.4555078 -0.9142959             1.109245   "
      ]
     },
     "metadata": {},
     "output_type": "display_data"
    }
   ],
   "source": [
    "path_ = 'G:/VPHI/Welfare/2- Research Projects/OFHE2.OriginsE2/DataOutput/TrackingSystem/ALLDATA_'\n",
    "path_adapt = file.path(path_,'Adaptability')\n",
    "path_model = file.path(path_adapt,'repeatability_model')\n",
    "df = read.csv(file.path(path_adapt,'df_MVT_4stat_BI.csv'), header = TRUE, sep = \";\")\n",
    "df$HenID = as.factor(df$HenID)   \n",
    "df$PenID = as.factor(df$PenID) \n",
    "#mean-centering of the environmental variable so that intercepts reflect average values for the population and individuals\n",
    "df$cDIB = as.integer(df$DIB) \n",
    "df$cDIB2 = poly(df$cDIB, degree=2,raw=TRUE)[,2]\n",
    "df$CLASS = as.factor(df$CLASS) \n",
    "df$Treatment = as.factor(df$Treatment) \n",
    "#scale all continuous fixed effectcs\n",
    "df$temperature_C_avg_scale = scale(df$temperature_C_avg, center=TRUE, scale=TRUE)\n",
    "df$cDIB2_scale = scale(df$cDIB2, center=TRUE, scale=TRUE)\n",
    "df$cDIB_scale = scale(df$cDIB, center=TRUE, scale=TRUE)\n",
    "df$avgDIB_scale = scale(df$avgDIB, center=TRUE, scale=TRUE)\n",
    "df$PC3scale = scale(df$PC3, center=TRUE, scale=TRUE)\n",
    "df$InitialWeight_kg_scale = scale(df$InitialWeight_kg, center=TRUE, scale=TRUE)\n",
    "df = df %>%mutate(rel_severity = severity/mean(severity, na.rm=TRUE))\n",
    "df = df %>%mutate(rel_feather = Feathers/mean(Feathers, na.rm=TRUE))\n",
    "print(dim(df))\n",
    "summary(df)\n",
    "head(df,3)"
   ]
  },
  {
   "cell_type": "code",
   "execution_count": 6,
   "metadata": {},
   "outputs": [
    {
     "data": {
      "text/html": [
       "80"
      ],
      "text/latex": [
       "80"
      ],
      "text/markdown": [
       "80"
      ],
      "text/plain": [
       "[1] 80"
      ]
     },
     "metadata": {},
     "output_type": "display_data"
    }
   ],
   "source": [
    "length(unique(df[['HenID']]))"
   ]
  },
  {
   "cell_type": "code",
   "execution_count": 7,
   "metadata": {},
   "outputs": [
    {
     "data": {
      "text/html": [
       "8050000"
      ],
      "text/latex": [
       "8050000"
      ],
      "text/markdown": [
       "8050000"
      ],
      "text/plain": [
       "[1] 8050000"
      ]
     },
     "metadata": {},
     "output_type": "display_data"
    }
   ],
   "source": [
    "nsamp = 4000 #check EffctSize almost this number\n",
    "burn = 50000\n",
    "thin = 2000\n",
    "nitt = burn + nsamp * thin\n",
    "nitt"
   ]
  },
  {
   "cell_type": "markdown",
   "metadata": {},
   "source": [
    "# KB Severity"
   ]
  },
  {
   "cell_type": "code",
   "execution_count": null,
   "metadata": {},
   "outputs": [],
   "source": [
    "#without penID\n",
    "#R: 2 response, 2 residuals\n",
    "#QUESTION: nu=0.002 or 1.002\n",
    "#G: only G1: only one random effect: of size 4: trait (2), cdib (1) and cdib2 (1)\n",
    "prior_biv = list(R = list(V = diag(c(1, 0.0001), 2, 2), nu = 1.002, fix = 2),\n",
    "                 G = list(G1 = list(V = diag(4),\n",
    "                                        nu = 4,\n",
    "                                        alpha.mu = rep(0,4),\n",
    "                                        alpha.V = diag(25^2,4,4))))\n",
    "\n",
    "#trait:scale: interact trait with fixed effects to get estimates for the effect of these variables on each of our mvt var\n",
    "#\"trait-1\" tells the model to give us a distinct intercept for each trait\"\n",
    "#us: unstructured covariance matrix for the grouping variable henid: to calculate the variance in mvt var 1 due to differences among individuals, the varianc ein mvtvar2 due to differences among individulas and the covariance between these variances.\n",
    "#rcov: idh: as we dont want COV_PC3:severity, as severity has not repeated measure on individuals\n",
    "#random: unstructure covariance matrix of effects (intercepts & slope DIB), meaning that we fit variance in intercetps, in slopes but also their covariance: we want to know their correlations!\n",
    "#random: without both trait with intercept, we wont be able to compute the correlation we want to! as we need the health intercept!\n",
    "set.seed(123)\n",
    "BV_model_S1 = MCMCglmm(cbind(PC3, rel_severity) ~ trait-1 +\n",
    "                       at.level(trait,1):cDIB_scale +\n",
    "                       at.level(trait,1):cDIB2_scale +\n",
    "                       at.level(trait,1):avgDIB_scale +\n",
    "                       at.level(trait,1):temperature_C_avg_scale +\n",
    "                       at.level(trait,2):Predictability_mean +\n",
    "                       at.level(trait,2):nbr_daysnomvt_over_3days +\n",
    "                       trait:InitialWeight_kg_scale +\n",
    "                       trait:Treatment_encoded + \n",
    "                       trait:CLASS,\n",
    "                       random=~us(trait + at.level(trait,1):cDIB_scale + at.level(trait,1):cDIB2_scale):HenID, \n",
    "                       rcov=~idh(trait):units, \n",
    "                       family=c(\"gaussian\",\"gaussian\"),\n",
    "                       prior=prior_biv,\n",
    "                       data=df,\n",
    "                       pr = TRUE, verbose = TRUE, saveX = TRUE, saveZ = TRUE,thin = thin, burnin= burn, nitt= nitt)\n",
    "#G-structure: random effects (co)variances\n",
    "#R-structure : the residual (co)variances, \n",
    "#Location : fixed effects results information\n",
    "plot(BV_model_S1$VCV)\n",
    "#trace plots for fixed effect\n",
    "plot(BV_model_S1$Sol)\n",
    "summary(BV_model_S1)\n",
    "#--> Out of the 4’000 retained samples, almost all were independent\n",
    "\n",
    "#################################### correlations HA & random effects\n",
    "###correlation between intercept and health###\n",
    "corr_int_health = BV_model_S1$VCV[,\"traitrel_severity:traitPC3.HenID\"]/\n",
    "  (sqrt(BV_model_S1$VCV[,\"traitrel_severity:traitrel_severity.HenID\"])*\n",
    "     sqrt(BV_model_S1$VCV[,\"traitPC3:traitPC3.HenID\"]))\n",
    "posterior.mode(corr_int_health)\n",
    "HPDinterval(corr_int_health)\n",
    "\n",
    "###correlation between linear slope and health###\n",
    "corr_Lslope_health = BV_model_S1$VCV[,\"at.level(trait, 1):cDIB_scale:traitrel_severity.HenID\"]/\n",
    "  (sqrt(BV_model_S1$VCV[,\"traitrel_severity:traitrel_severity.HenID\"])*\n",
    "     sqrt(BV_model_S1$VCV[,\"at.level(trait, 1):cDIB_scale:at.level(trait, 1):cDIB_scale.HenID\"]))\n",
    "posterior.mode(corr_Lslope_health)\n",
    "HPDinterval(corr_Lslope_health)\n",
    "\n",
    "###correlation between quadratic slope and health###\n",
    "corr_Qslope_health = BV_model_S1$VCV[,\"at.level(trait, 1):cDIB2_scale:traitrel_severity.HenID\"]/\n",
    "  (sqrt(BV_model_S1$VCV[,\"traitrel_severity:traitrel_severity.HenID\"])*\n",
    "     sqrt(BV_model_S1$VCV[,\"at.level(trait, 1):cDIB2_scale:at.level(trait, 1):cDIB2_scale.HenID\"]))\n",
    "posterior.mode(corr_Lslope_health)\n",
    "HPDinterval(corr_Lslope_health)\n",
    "\n",
    "#save\n",
    "df_saved = clean.MCMC(BV_model_S1)  # get all the info from summary(modelName)\n",
    "df_saved$modelName = getName.MCMC(BV_model_S1)  # add the model's name in a new column\n",
    "head(df_saved,3)  # check out the created dataframe\n",
    "write.csv(df_saved, file.path(path_adapt,'BV_model_S1.csv'))"
   ]
  },
  {
   "cell_type": "code",
   "execution_count": null,
   "metadata": {},
   "outputs": [],
   "source": [
    "#nu = 0.002 to try"
   ]
  },
  {
   "cell_type": "markdown",
   "metadata": {},
   "source": [
    "W = cbind(BV_model_S1$X, BV_model_S1$Z)\n",
    "prediction = W%*%posterior.mode(BV_model_S1$Sol)"
   ]
  },
  {
   "cell_type": "code",
   "execution_count": null,
   "metadata": {},
   "outputs": [],
   "source": [
    "autocorr.diag(BV_model_S1$Sol[,1:9]) #8 fixed effect and intercept\n",
    "autocorr.diag(BV_model_S1$VCV)"
   ]
  },
  {
   "cell_type": "code",
   "execution_count": null,
   "metadata": {},
   "outputs": [],
   "source": [
    "path_adapt = 'C:/Users/camil/Desktop/animals_code/PhD-AnimalWelfare/Chapter1-EarlyMovementLateHealth/FICHIER'\n",
    "save(BV_model_S1, file = file.path(path_adapt,\"BV_model_S1.RData\"))\n",
    "#load(coda.samples.RData)"
   ]
  },
  {
   "cell_type": "markdown",
   "metadata": {},
   "source": [
    "# Feathers"
   ]
  },
  {
   "cell_type": "code",
   "execution_count": null,
   "metadata": {},
   "outputs": [],
   "source": [
    "#without penID\n",
    "#R: 2 response, 2 residuals\n",
    "#QUESTION: nu=0.002 or 1.002\n",
    "#G: only G1: only one random effect: of size 4: trait (2), cdib (1) and cdib2 (1)\n",
    "prior_biv = list(R = list(V = diag(c(1, 0.0001), 2, 2), nu = 1.002, fix = 2),\n",
    "                 G = list(G1 = list(V = diag(4),\n",
    "                                        nu = 4,\n",
    "                                        alpha.mu = rep(0,4),\n",
    "                                        alpha.V = diag(25^2,4,4))))\n",
    "\n",
    "#trait:scale: interact trait with fixed effects to get estimates for the effect of these variables on each of our mvt var\n",
    "#\"trait-1\" tells the model to give us a distinct intercept for each trait\"\n",
    "#us: unstructured covariance matrix for the grouping variable henid: to calculate the variance in mvt var 1 due to differences among individuals, the varianc ein mvtvar2 due to differences among individulas and the covariance between these variances.\n",
    "#rcov: idh: as we dont want COV_PC3:severity, as severity has not repeated measure on individuals\n",
    "#random: unstructure covariance matrix of effects (intercepts & slope DIB), meaning that we fit variance in intercetps, in slopes but also their covariance: we want to know their correlations!\n",
    "#random: without both trait with intercept, we wont be able to compute the correlation we want to! as we need the health intercept!\n",
    "set.seed(123)\n",
    "BV_model_F1 = MCMCglmm(cbind(PC3, rel_feather) ~ trait-1 +\n",
    "                       at.level(trait,1):cDIB_scale +\n",
    "                       at.level(trait,1):cDIB2_scale +\n",
    "                       at.level(trait,1):avgDIB_scale +\n",
    "                       at.level(trait,1):temperature_C_avg_scale +\n",
    "                       at.level(trait,2):Predictability_mean +\n",
    "                       at.level(trait,2):nbr_daysnomvt_over_3days +\n",
    "                       trait:InitialWeight_kg_scale +\n",
    "                       trait:Treatment_encoded + \n",
    "                       trait:CLASS,\n",
    "                       random=~us(trait + at.level(trait,1):cDIB_scale + at.level(trait,1):cDIB2_scale):HenID, \n",
    "                       rcov=~idh(trait):units, \n",
    "                       family=c(\"gaussian\",\"gaussian\"),\n",
    "                       prior=prior_biv,\n",
    "                       data=df,\n",
    "                       pr = TRUE, verbose = TRUE, saveX = TRUE, saveZ = TRUE,thin = thin, burnin= burn, nitt= nitt)\n",
    "#G-structure: random effects (co)variances\n",
    "#R-structure : the residual (co)variances, \n",
    "#Location : fixed effects results information\n",
    "plot(BV_model_F1$VCV)\n",
    "#trace plots for fixed effect\n",
    "plot(BV_model_F1$Sol)\n",
    "summary(BV_model_F1)\n",
    "\n",
    "#################################### correlations HA & random effects\n",
    "###correlation between intercept and health###\n",
    "corr_int_health = BV_model_F1$VCV[,\"traitrel_feather:traitPC3.HenID\"]/\n",
    "  (sqrt(BV_model_F1$VCV[,\"traitrel_feather:traitrel_feather.HenID\"])*\n",
    "     sqrt(BV_model_F1$VCV[,\"traitPC3:traitPC3.HenID\"]))\n",
    "posterior.mode(corr_int_health)\n",
    "HPDinterval(corr_int_health)\n",
    "\n",
    "###correlation between linear slope and health###\n",
    "corr_Lslope_health = BV_model_F1$VCV[,\"at.level(trait, 1):cDIB_scale:traitrel_feather.HenID\"]/\n",
    "  (sqrt(BV_model_F1$VCV[,\"traitrel_feather:traitrel_feather.HenID\"])*\n",
    "     sqrt(BV_model_F1$VCV[,\"at.level(trait, 1):cDIB_scale:at.level(trait, 1):cDIB_scale.HenID\"]))\n",
    "posterior.mode(corr_Lslope_health)\n",
    "HPDinterval(corr_Lslope_health)\n",
    "\n",
    "###correlation between quadratic slope and health###\n",
    "corr_Qslope_health = BV_model_F1$VCV[,\"at.level(trait, 1):cDIB2_scale:traitrel_feather.HenID\"]/\n",
    "  (sqrt(BV_model_F1$VCV[,\"traitrel_feather:traitrel_feather.HenID\"])*\n",
    "     sqrt(BV_model_F1$VCV[,\"at.level(trait, 1):cDIB2_scale:at.level(trait, 1):cDIB2_scale.HenID\"]))\n",
    "posterior.mode(corr_Lslope_health)\n",
    "HPDinterval(corr_Lslope_health)\n",
    "\n",
    "#save\n",
    "df_saved = clean.MCMC(BV_model_F1)  # get all the info from summary(modelName)\n",
    "df_saved$modelName = getName.MCMC(BV_model_F1)  # add the model's name in a new column\n",
    "head(df_saved,3)  # check out the created dataframe\n",
    "write.csv(df_saved, file.path(path_adapt,'BV_model_F1.csv'))"
   ]
  },
  {
   "cell_type": "code",
   "execution_count": null,
   "metadata": {},
   "outputs": [],
   "source": [
    "autocorr.diag(BV_model_F1$Sol[,1:9]) #8 fixed effect and intercept\n",
    "autocorr.diag(BV_model_F1$VCV)"
   ]
  },
  {
   "cell_type": "code",
   "execution_count": null,
   "metadata": {},
   "outputs": [],
   "source": [
    "path_adapt = 'C:/Users/camil/Desktop/animals_code/PhD-AnimalWelfare/Chapter1-EarlyMovementLateHealth/FICHIER'\n",
    "save(BV_model_F1, file = file.path(path_adapt,\"BV_model_F1.RData\"))\n",
    "#load(coda.samples.RData)"
   ]
  },
  {
   "cell_type": "code",
   "execution_count": null,
   "metadata": {},
   "outputs": [],
   "source": []
  },
  {
   "cell_type": "code",
   "execution_count": null,
   "metadata": {},
   "outputs": [],
   "source": []
  },
  {
   "cell_type": "code",
   "execution_count": null,
   "metadata": {},
   "outputs": [],
   "source": []
  },
  {
   "cell_type": "code",
   "execution_count": null,
   "metadata": {},
   "outputs": [],
   "source": []
  },
  {
   "cell_type": "code",
   "execution_count": null,
   "metadata": {},
   "outputs": [],
   "source": []
  },
  {
   "cell_type": "code",
   "execution_count": null,
   "metadata": {},
   "outputs": [],
   "source": []
  },
  {
   "cell_type": "code",
   "execution_count": null,
   "metadata": {},
   "outputs": [],
   "source": []
  },
  {
   "cell_type": "code",
   "execution_count": null,
   "metadata": {},
   "outputs": [],
   "source": []
  }
 ],
 "metadata": {
  "kernelspec": {
   "display_name": " Rkernel ",
   "language": "R",
   "name": "rkernel"
  },
  "language_info": {
   "codemirror_mode": "r",
   "file_extension": ".r",
   "mimetype": "text/x-r-source",
   "name": "R",
   "pygments_lexer": "r",
   "version": "3.6.1"
  }
 },
 "nbformat": 4,
 "nbformat_minor": 4
}
