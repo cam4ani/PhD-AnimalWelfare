{
 "cells": [
  {
   "cell_type": "code",
   "execution_count": 1,
   "metadata": {},
   "outputs": [],
   "source": [
    "#basic package\n",
    "import tqdm\n",
    "import os\n",
    "import numpy as np\n",
    "import glob\n",
    "import pandas as pd\n",
    "import sys\n",
    "import time\n",
    "import datetime as dt\n",
    "import itertools\n",
    "import re\n",
    "import math\n",
    "from collections import Counter\n",
    "import operator\n",
    "from scipy import stats\n",
    "from scipy.spatial.distance import cdist #for euclidean distance of consistency t\n",
    "from numpy import inf\n",
    "import networkx as nx\n",
    "from dtaidistance import dtw\n",
    "import random\n",
    "from sklearn.preprocessing import normalize\n",
    "import pickle\n",
    "from collections import defaultdict\n",
    "import random\n",
    "\n",
    "#clustering\n",
    "from sklearn.cluster import AgglomerativeClustering \n",
    "\n",
    "#scaling\n",
    "from sklearn.preprocessing import StandardScaler, MinMaxScaler\n",
    "\n",
    "#interpolate curves for clustering among birds with not exact same days tracked\n",
    "#from scipy.interpolate import interp1d\n",
    "\n",
    "#PCA\n",
    "from sklearn import decomposition\n",
    "\n",
    "#clustering\n",
    "from sklearn.cluster import KMeans #only numerical var\n",
    "from sklearn.metrics import silhouette_samples, silhouette_score, adjusted_rand_score\n",
    "import kmodes\n",
    "from kmodes.kmodes import KModes #with categorical var as well\n",
    "\n",
    "#plot\n",
    "import matplotlib.pyplot as plt\n",
    "import seaborn as sns\n",
    "import dexplot as dxp #for easy barplot"
   ]
  },
  {
   "cell_type": "code",
   "execution_count": 2,
   "metadata": {},
   "outputs": [
    {
     "name": "stderr",
     "output_type": "stream",
     "text": [
      "C:\\Users\\camil\\anaconda3\\lib\\site-packages\\scipy\\sparse\\sparsetools.py:21: DeprecationWarning: `scipy.sparse.sparsetools` is deprecated!\n",
      "scipy.sparse.sparsetools is a private module for scipy.sparse, and should not be used.\n",
      "  _deprecated()\n"
     ]
    },
    {
     "name": "stdout",
     "output_type": "stream",
     "text": [
      "2\n"
     ]
    }
   ],
   "source": [
    "PACKAGE_PARENT = '../'\n",
    "SCRIPT_DIR = os.path.dirname(os.path.realpath(os.path.join(os.getcwd(), os.path.expanduser('__file__'))))\n",
    "sys.path.append(os.path.normpath(os.path.join(SCRIPT_DIR, PACKAGE_PARENT)))\n",
    "from UTILS import kmeans_clustering, sampen, chi2_distance, ts_visual, correct_key, chi2_distance, most_frequent\n",
    "import config_origins as config"
   ]
  },
  {
   "cell_type": "raw",
   "metadata": {},
   "source": [
    "to be run with id_run='correctlightschedule_'"
   ]
  },
  {
   "cell_type": "code",
   "execution_count": 3,
   "metadata": {},
   "outputs": [
    {
     "name": "stderr",
     "output_type": "stream",
     "text": [
      "C:\\Users\\camil\\anaconda3\\lib\\site-packages\\ipykernel\\ipkernel.py:283: DeprecationWarning: `should_run_async` will not call `transform_cell` automatically in the future. Please pass the result to `transformed_cell` argument and any exception that happen during thetransform in `preprocessing_exc_tuple` in IPython 7.17 and above.\n",
      "  and should_run_async(code)\n"
     ]
    }
   ],
   "source": [
    "rv = 0"
   ]
  },
  {
   "cell_type": "markdown",
   "metadata": {},
   "source": [
    "# Define parameters"
   ]
  },
  {
   "cell_type": "code",
   "execution_count": 4,
   "metadata": {
    "scrolled": true
   },
   "outputs": [
    {
     "name": "stdout",
     "output_type": "stream",
     "text": [
      "change the configuration file if not done yet!\n"
     ]
    },
    {
     "name": "stderr",
     "output_type": "stream",
     "text": [
      "C:\\Users\\camil\\anaconda3\\lib\\site-packages\\ipykernel\\ipkernel.py:283: DeprecationWarning: `should_run_async` will not call `transform_cell` automatically in the future. Please pass the result to `transformed_cell` argument and any exception that happen during thetransform in `preprocessing_exc_tuple` in IPython 7.17 and above.\n",
      "  and should_run_async(code)\n"
     ]
    }
   ],
   "source": [
    "print('change the configuration file if not done yet!')\n",
    "path_extracted_data = config.path_extracted_data\n",
    "path_initial_data = config.path_initial_data\n",
    "id_run = config.id_run\n",
    "dico_matching = config.dico_matching\n",
    "li_binmn = config.li_binmn\n",
    "pal_class_treat = config.pal_class_treat\n",
    "pal_treat = config.pal_treat\n",
    "pal_class = config.pal_class\n",
    "birth_date = config.birth_date\n",
    "dico_night_hour = config.dico_night_hour\n",
    "pal_interintre_treatment = config.pal_interintre_treatment\n",
    "max_date_adaptability = config.max_date_adaptability\n",
    "dico_pen_tr = config.dico_pen_tr\n",
    "path_extracted_data_visual = os.path.join(path_extracted_data,'visual')\n",
    "path_extracted_data_visual_corr = os.path.join(path_extracted_data,'visual','correlation')\n",
    "path_extracted_data_visual_adap = os.path.join(path_extracted_data,'visual','Treatment&Classs','adaptability')\n",
    "path_extracted_data_visual_adap_clustering = os.path.join(path_extracted_data_visual_adap,'clustering')\n",
    "for nbr_bin in li_binmn:\n",
    "    path_extracted_data_visual_adap_binmn = os.path.join(path_extracted_data,'visual','Treatment&Classs','adaptability',str(nbr_bin))\n",
    "    #create a director if not existing\n",
    "    if not os.path.exists(path_extracted_data_visual_adap_binmn):\n",
    "        os.makedirs(path_extracted_data_visual_adap_binmn)"
   ]
  },
  {
   "cell_type": "code",
   "execution_count": 5,
   "metadata": {},
   "outputs": [
    {
     "name": "stderr",
     "output_type": "stream",
     "text": [
      "C:\\Users\\camil\\anaconda3\\lib\\site-packages\\ipykernel\\ipkernel.py:283: DeprecationWarning: `should_run_async` will not call `transform_cell` automatically in the future. Please pass the result to `transformed_cell` argument and any exception that happen during thetransform in `preprocessing_exc_tuple` in IPython 7.17 and above.\n",
      "  and should_run_async(code)\n"
     ]
    }
   ],
   "source": [
    "########################### define parameters ###########################\n",
    "#rs = 0\n",
    "#choose number of cluster\n",
    "li_nbr_cluster = range(2,100)\n",
    "V = 'chi2distance_ALL_15'\n",
    "#create folder for saving\n",
    "path_extracted_data_visual_adap_clustering_V = os.path.join(path_extracted_data_visual_adap_clustering, V+'_ALL_MLPS')\n",
    "if not os.path.exists(path_extracted_data_visual_adap_clustering_V):\n",
    "    os.makedirs(path_extracted_data_visual_adap_clustering_V)"
   ]
  },
  {
   "cell_type": "markdown",
   "metadata": {},
   "source": [
    "# Download variables"
   ]
  },
  {
   "cell_type": "code",
   "execution_count": 10,
   "metadata": {},
   "outputs": [
    {
     "name": "stdout",
     "output_type": "stream",
     "text": [
      "131\n"
     ]
    },
    {
     "name": "stderr",
     "output_type": "stream",
     "text": [
      "C:\\Users\\camil\\anaconda3\\lib\\site-packages\\ipykernel\\ipkernel.py:283: DeprecationWarning: `should_run_async` will not call `transform_cell` automatically in the future. Please pass the result to `transformed_cell` argument and any exception that happen during thetransform in `preprocessing_exc_tuple` in IPython 7.17 and above.\n",
      "  and should_run_async(code)\n"
     ]
    }
   ],
   "source": [
    "li_selected_hens = pickle.load(open(os.path.join(path_extracted_data_visual_adap, 'li_selected_hens.pkl'), 'rb'))\n",
    "print(len(li_selected_hens))\n",
    "#for now we have only distance restricted to 70 animals\n",
    "#compute the CHI2DISTANCE & DTW for each bird with all other birds (because we need this exact same pair to do the visual)\n",
    "#rv = 0\n",
    "#random.seed(rv)\n",
    "#nbr_hens = 70\n",
    "#randomly pick more than one element from the list without repeating elements.\n",
    "#li_selected_hens = random.sample(li_selected_hens, nbr_hens)"
   ]
  },
  {
   "cell_type": "code",
   "execution_count": 7,
   "metadata": {},
   "outputs": [
    {
     "name": "stderr",
     "output_type": "stream",
     "text": [
      "C:\\Users\\camil\\anaconda3\\lib\\site-packages\\ipykernel\\ipkernel.py:283: DeprecationWarning: `should_run_async` will not call `transform_cell` automatically in the future. Please pass the result to `transformed_cell` argument and any exception that happen during thetransform in `preprocessing_exc_tuple` in IPython 7.17 and above.\n",
      "  and should_run_async(code)\n"
     ]
    },
    {
     "name": "stdout",
     "output_type": "stream",
     "text": [
      "(25952410, 11)\n"
     ]
    },
    {
     "data": {
      "text/html": [
       "<div>\n",
       "<style scoped>\n",
       "    .dataframe tbody tr th:only-of-type {\n",
       "        vertical-align: middle;\n",
       "    }\n",
       "\n",
       "    .dataframe tbody tr th {\n",
       "        vertical-align: top;\n",
       "    }\n",
       "\n",
       "    .dataframe thead th {\n",
       "        text-align: right;\n",
       "    }\n",
       "</style>\n",
       "<table border=\"1\" class=\"dataframe\">\n",
       "  <thead>\n",
       "    <tr style=\"text-align: right;\">\n",
       "      <th></th>\n",
       "      <th>chi2distance_ALL_15</th>\n",
       "      <th>h1</th>\n",
       "      <th>h2</th>\n",
       "      <th>henID1</th>\n",
       "      <th>henID2</th>\n",
       "      <th>level1</th>\n",
       "      <th>level2</th>\n",
       "      <th>DIB1</th>\n",
       "      <th>DIB2</th>\n",
       "      <th>MLPID1</th>\n",
       "      <th>MLPID2</th>\n",
       "    </tr>\n",
       "  </thead>\n",
       "  <tbody>\n",
       "    <tr>\n",
       "      <th>0</th>\n",
       "      <td>0.890901</td>\n",
       "      <td>hen_131/2020-09-30</td>\n",
       "      <td>hen_134/2020-09-30</td>\n",
       "      <td>hen_131</td>\n",
       "      <td>hen_134</td>\n",
       "      <td>2020-09-30</td>\n",
       "      <td>2020-09-30</td>\n",
       "      <td>1</td>\n",
       "      <td>1</td>\n",
       "      <td>hen_131-1</td>\n",
       "      <td>hen_134-1</td>\n",
       "    </tr>\n",
       "    <tr>\n",
       "      <th>1</th>\n",
       "      <td>0.202226</td>\n",
       "      <td>hen_131/2020-09-30</td>\n",
       "      <td>hen_138/2020-09-30</td>\n",
       "      <td>hen_131</td>\n",
       "      <td>hen_138</td>\n",
       "      <td>2020-09-30</td>\n",
       "      <td>2020-09-30</td>\n",
       "      <td>1</td>\n",
       "      <td>1</td>\n",
       "      <td>hen_131-1</td>\n",
       "      <td>hen_138-1</td>\n",
       "    </tr>\n",
       "    <tr>\n",
       "      <th>2</th>\n",
       "      <td>0.866714</td>\n",
       "      <td>hen_131/2020-09-30</td>\n",
       "      <td>hen_139/2020-09-30</td>\n",
       "      <td>hen_131</td>\n",
       "      <td>hen_139</td>\n",
       "      <td>2020-09-30</td>\n",
       "      <td>2020-09-30</td>\n",
       "      <td>1</td>\n",
       "      <td>1</td>\n",
       "      <td>hen_131-1</td>\n",
       "      <td>hen_139-1</td>\n",
       "    </tr>\n",
       "  </tbody>\n",
       "</table>\n",
       "</div>"
      ],
      "text/plain": [
       "   chi2distance_ALL_15                  h1                  h2   henID1  \\\n",
       "0             0.890901  hen_131/2020-09-30  hen_134/2020-09-30  hen_131   \n",
       "1             0.202226  hen_131/2020-09-30  hen_138/2020-09-30  hen_131   \n",
       "2             0.866714  hen_131/2020-09-30  hen_139/2020-09-30  hen_131   \n",
       "\n",
       "    henID2     level1     level2  DIB1  DIB2     MLPID1     MLPID2  \n",
       "0  hen_134 2020-09-30 2020-09-30     1     1  hen_131-1  hen_134-1  \n",
       "1  hen_138 2020-09-30 2020-09-30     1     1  hen_131-1  hen_138-1  \n",
       "2  hen_139 2020-09-30 2020-09-30     1     1  hen_131-1  hen_139-1  "
      ]
     },
     "execution_count": 7,
     "metadata": {},
     "output_type": "execute_result"
    }
   ],
   "source": [
    "df_inter = pd.read_csv(os.path.join(path_extracted_data_visual_adap, id_run+'_df_DistanceBetweenAnyDaysHenSim_2h-17h59LEVEL.csv'), sep=';', \n",
    "                      parse_dates=['level1','level2'], dayfirst=True)\n",
    "#weeks of age starting on the first day where the bird was here during 24h\n",
    "#df_inter['weeks_in_laying_barn'] = df_inter['DOA'].map(lambda x: int((x-119)/7)+1)\n",
    "#df_inter['DIB'] = df_inter['DOA'].map(lambda x: x-118)\n",
    "#display(df_inter[['level1','DOA','weeks_in_laying_barn']].drop_duplicates().reset_index().head(3))\n",
    "#remove weeks_in_laying_barn to avoid confusions\n",
    "#df_inter.drop(['WOA'],inplace=True,axis=1)\n",
    "#select only inter \n",
    "#df_inter['animal_pair']  = df_inter.apply(lambda x: '-'.join(sorted([x['henID1'],x['henID2']])), axis=1)\n",
    "\n",
    "df_inter['DIB1'] = df_inter['level1'].map(lambda x: (x-dt.datetime(2020,6,3)).days -118) \n",
    "df_inter['DIB2'] = df_inter['level2'].map(lambda x: (x-dt.datetime(2020,6,3)).days -118) \n",
    "df_inter['MLPID1'] = df_inter.apply(lambda x: x['henID1']+'-'+str(x['DIB1']),axis=1)\n",
    "df_inter['MLPID2'] = df_inter.apply(lambda x: x['henID2']+'-'+str(x['DIB2']),axis=1)\n",
    "print(df_inter.shape)\n",
    "df_inter.head(3)"
   ]
  },
  {
   "cell_type": "code",
   "execution_count": 18,
   "metadata": {},
   "outputs": [
    {
     "name": "stderr",
     "output_type": "stream",
     "text": [
      "C:\\Users\\camil\\anaconda3\\lib\\site-packages\\ipykernel\\ipkernel.py:283: DeprecationWarning: `should_run_async` will not call `transform_cell` automatically in the future. Please pass the result to `transformed_cell` argument and any exception that happen during thetransform in `preprocessing_exc_tuple` in IPython 7.17 and above.\n",
      "  and should_run_async(code)\n"
     ]
    },
    {
     "name": "stdout",
     "output_type": "stream",
     "text": [
      "(27214, 199)\n",
      "(8679, 199)\n"
     ]
    },
    {
     "data": {
      "text/html": [
       "<div>\n",
       "<style scoped>\n",
       "    .dataframe tbody tr th:only-of-type {\n",
       "        vertical-align: middle;\n",
       "    }\n",
       "\n",
       "    .dataframe tbody tr th {\n",
       "        vertical-align: top;\n",
       "    }\n",
       "\n",
       "    .dataframe thead th {\n",
       "        text-align: right;\n",
       "    }\n",
       "</style>\n",
       "<table border=\"1\" class=\"dataframe\">\n",
       "  <thead>\n",
       "    <tr style=\"text-align: right;\">\n",
       "      <th></th>\n",
       "      <th>level</th>\n",
       "      <th>DOA</th>\n",
       "      <th>WOA</th>\n",
       "    </tr>\n",
       "  </thead>\n",
       "  <tbody>\n",
       "    <tr>\n",
       "      <th>27117</th>\n",
       "      <td>2020-11-20</td>\n",
       "      <td>170</td>\n",
       "      <td>25</td>\n",
       "    </tr>\n",
       "    <tr>\n",
       "      <th>27118</th>\n",
       "      <td>2020-11-21</td>\n",
       "      <td>171</td>\n",
       "      <td>25</td>\n",
       "    </tr>\n",
       "    <tr>\n",
       "      <th>27119</th>\n",
       "      <td>2020-11-22</td>\n",
       "      <td>172</td>\n",
       "      <td>25</td>\n",
       "    </tr>\n",
       "  </tbody>\n",
       "</table>\n",
       "</div>"
      ],
      "text/plain": [
       "           level  DOA  WOA\n",
       "27117 2020-11-20  170   25\n",
       "27118 2020-11-21  171   25\n",
       "27119 2020-11-22  172   25"
      ]
     },
     "metadata": {},
     "output_type": "display_data"
    },
    {
     "name": "stdout",
     "output_type": "stream",
     "text": [
      "(8679, 199)\n",
      "(8679, 199)\n",
      "(8679, 199)\n",
      "(8679, 199)\n",
      "(7619, 16)\n"
     ]
    },
    {
     "data": {
      "text/html": [
       "<div>\n",
       "<style scoped>\n",
       "    .dataframe tbody tr th:only-of-type {\n",
       "        vertical-align: middle;\n",
       "    }\n",
       "\n",
       "    .dataframe tbody tr th {\n",
       "        vertical-align: top;\n",
       "    }\n",
       "\n",
       "    .dataframe thead th {\n",
       "        text-align: right;\n",
       "    }\n",
       "</style>\n",
       "<table border=\"1\" class=\"dataframe\">\n",
       "  <thead>\n",
       "    <tr style=\"text-align: right;\">\n",
       "      <th></th>\n",
       "      <th>HenID</th>\n",
       "      <th>PenID</th>\n",
       "      <th>level</th>\n",
       "      <th>Treatment</th>\n",
       "      <th>CLASS</th>\n",
       "      <th>DIB</th>\n",
       "      <th>DOA</th>\n",
       "      <th>WOA</th>\n",
       "      <th>dur_values</th>\n",
       "      <th>dur_values_normalized</th>\n",
       "      <th>perc_duration_1_Zone</th>\n",
       "      <th>perc_duration_2_Zone</th>\n",
       "      <th>perc_duration_3_Zone</th>\n",
       "      <th>perc_duration_4_Zone</th>\n",
       "      <th>perc_duration_5_Zone</th>\n",
       "      <th>Total_number_transition</th>\n",
       "    </tr>\n",
       "  </thead>\n",
       "  <tbody>\n",
       "    <tr>\n",
       "      <th>0</th>\n",
       "      <td>hen_1</td>\n",
       "      <td>9</td>\n",
       "      <td>2020-09-30</td>\n",
       "      <td>OFH</td>\n",
       "      <td>EPI</td>\n",
       "      <td>1</td>\n",
       "      <td>119</td>\n",
       "      <td>17</td>\n",
       "      <td>[0.0, 18886.0, 3488.0, 518.0, 5908.0]</td>\n",
       "      <td>[0.0, 0.6557638888888889, 0.12111111111111111,...</td>\n",
       "      <td>0.0</td>\n",
       "      <td>65.576389</td>\n",
       "      <td>12.111111</td>\n",
       "      <td>1.798611</td>\n",
       "      <td>20.513889</td>\n",
       "      <td>6.0</td>\n",
       "    </tr>\n",
       "    <tr>\n",
       "      <th>1</th>\n",
       "      <td>hen_1</td>\n",
       "      <td>9</td>\n",
       "      <td>2020-10-01</td>\n",
       "      <td>OFH</td>\n",
       "      <td>EPI</td>\n",
       "      <td>2</td>\n",
       "      <td>120</td>\n",
       "      <td>18</td>\n",
       "      <td>[0.0, 9310.0, 5636.0, 0.0, 17454.0]</td>\n",
       "      <td>[0.0, 0.2873456790123457, 0.17395061728395061,...</td>\n",
       "      <td>0.0</td>\n",
       "      <td>28.734568</td>\n",
       "      <td>17.395062</td>\n",
       "      <td>0.000000</td>\n",
       "      <td>53.870370</td>\n",
       "      <td>12.0</td>\n",
       "    </tr>\n",
       "    <tr>\n",
       "      <th>2</th>\n",
       "      <td>hen_1</td>\n",
       "      <td>9</td>\n",
       "      <td>2020-10-02</td>\n",
       "      <td>OFH</td>\n",
       "      <td>EPI</td>\n",
       "      <td>3</td>\n",
       "      <td>121</td>\n",
       "      <td>18</td>\n",
       "      <td>[0.0, 0.0, 551.0, 0.0, 31849.0]</td>\n",
       "      <td>[0.0, 0.0, 0.017006172839506173, 0.0, 0.982993...</td>\n",
       "      <td>0.0</td>\n",
       "      <td>0.000000</td>\n",
       "      <td>1.700617</td>\n",
       "      <td>0.000000</td>\n",
       "      <td>98.299383</td>\n",
       "      <td>2.0</td>\n",
       "    </tr>\n",
       "  </tbody>\n",
       "</table>\n",
       "</div>"
      ],
      "text/plain": [
       "   HenID  PenID      level Treatment CLASS  DIB  DOA  WOA  \\\n",
       "0  hen_1      9 2020-09-30       OFH   EPI    1  119   17   \n",
       "1  hen_1      9 2020-10-01       OFH   EPI    2  120   18   \n",
       "2  hen_1      9 2020-10-02       OFH   EPI    3  121   18   \n",
       "\n",
       "                              dur_values  \\\n",
       "0  [0.0, 18886.0, 3488.0, 518.0, 5908.0]   \n",
       "1    [0.0, 9310.0, 5636.0, 0.0, 17454.0]   \n",
       "2        [0.0, 0.0, 551.0, 0.0, 31849.0]   \n",
       "\n",
       "                               dur_values_normalized  perc_duration_1_Zone  \\\n",
       "0  [0.0, 0.6557638888888889, 0.12111111111111111,...                   0.0   \n",
       "1  [0.0, 0.2873456790123457, 0.17395061728395061,...                   0.0   \n",
       "2  [0.0, 0.0, 0.017006172839506173, 0.0, 0.982993...                   0.0   \n",
       "\n",
       "   perc_duration_2_Zone  perc_duration_3_Zone  perc_duration_4_Zone  \\\n",
       "0             65.576389             12.111111              1.798611   \n",
       "1             28.734568             17.395062              0.000000   \n",
       "2              0.000000              1.700617              0.000000   \n",
       "\n",
       "   perc_duration_5_Zone  Total_number_transition  \n",
       "0             20.513889                      6.0  \n",
       "1             53.870370                     12.0  \n",
       "2             98.299383                      2.0  "
      ]
     },
     "execution_count": 18,
     "metadata": {},
     "output_type": "execute_result"
    }
   ],
   "source": [
    "#daily variables of the movements (one row per available hen per day)\n",
    "df_daily = pd.read_csv(os.path.join(path_extracted_data, 'daily_ALL_Variable_Tranformed.csv'), sep=';',\n",
    "                     parse_dates=['level'], dayfirst=True) \n",
    "df_daily['DOA'] = df_daily['level'].map(lambda x: (x-birth_date).days) \n",
    "df_daily['WOA'] = df_daily['DOA'].map(lambda x: math.ceil(x/7))\n",
    "df_daily['DIB'] = df_daily['DOA'].map(lambda x: x-118)\n",
    "#first 2 months seems good from the %of hens not moving plot! and sounds good too (twice longer thatn they need to start moving)\n",
    "print(df_daily.shape)\n",
    "df_daily = df_daily[(df_daily['level']>dt.datetime(2020,9,29))&(df_daily['level']<=max_date_adaptability)] \n",
    "#df_daily.groupby(['PenID'])['Treatment'].agg(lambda x: set(x)).reset_index()\n",
    "print(df_daily.shape)\n",
    "display(df_daily[['level','DOA','WOA']].tail(3))\n",
    "print(df_daily.shape)\n",
    "\n",
    "#remove days that are not fully recorded\n",
    "df_daily['nbr_sec_per_day'] = df_daily['level'].map(lambda x: dico_night_hour[correct_key(x,dico_night_hour)]['nbr_hour']*60*60)\n",
    "df_daily['is_correct_amount_time'] = df_daily.apply(lambda x: x['nbr_sec_per_day']==x['verification_daily_total_duration'], axis=1)\n",
    "df_daily[(~df_daily['is_correct_amount_time'])&(~df_daily['Total_number_transition'].isnull())][['level', 'HenID', 'Total_number_transition', 'dur_values', 'verification_daily_total_duration','nbr_sec_per_day']]\n",
    "print(df_daily.shape)\n",
    "display(df_daily = df_daily[~((~df_daily['is_correct_amount_time'])&(~df_daily['Total_number_transition'].isnull()))])\n",
    "print(df_daily.shape)\n",
    "\n",
    "#remove the days where the night had movement recorded but not the days\n",
    "print(df_daily.shape)\n",
    "df_daily = df_daily[['HenID','PenID','level','Treatment', 'CLASS','DIB', 'DOA','WOA','dur_values','dur_values_normalized','perc_duration_1_Zone', 'perc_duration_2_Zone',\n",
    "          'perc_duration_3_Zone', 'perc_duration_4_Zone', 'perc_duration_5_Zone','Total_number_transition']]\n",
    "#display(df_daily[df_daily.isna().any(axis=1)])\n",
    "df_daily = df_daily[~df_daily.isna().any(axis=1)]\n",
    "print(df_daily.shape)\n",
    "df_daily.head(3)"
   ]
  },
  {
   "cell_type": "code",
   "execution_count": 11,
   "metadata": {},
   "outputs": [
    {
     "name": "stdout",
     "output_type": "stream",
     "text": [
      "(131, 12)\n"
     ]
    },
    {
     "name": "stderr",
     "output_type": "stream",
     "text": [
      "C:\\Users\\camil\\anaconda3\\lib\\site-packages\\ipykernel\\ipkernel.py:283: DeprecationWarning: `should_run_async` will not call `transform_cell` automatically in the future. Please pass the result to `transformed_cell` argument and any exception that happen during thetransform in `preprocessing_exc_tuple` in IPython 7.17 and above.\n",
      "  and should_run_async(code)\n"
     ]
    },
    {
     "data": {
      "text/html": [
       "<div>\n",
       "<style scoped>\n",
       "    .dataframe tbody tr th:only-of-type {\n",
       "        vertical-align: middle;\n",
       "    }\n",
       "\n",
       "    .dataframe tbody tr th {\n",
       "        vertical-align: top;\n",
       "    }\n",
       "\n",
       "    .dataframe thead th {\n",
       "        text-align: right;\n",
       "    }\n",
       "</style>\n",
       "<table border=\"1\" class=\"dataframe\">\n",
       "  <thead>\n",
       "    <tr style=\"text-align: right;\">\n",
       "      <th></th>\n",
       "      <th>HenID</th>\n",
       "      <th>PenID</th>\n",
       "      <th>CLASS</th>\n",
       "      <th>R-Pen</th>\n",
       "      <th>InitialStartDate</th>\n",
       "      <th>29-09 weight</th>\n",
       "      <th>10-12 juin weight</th>\n",
       "      <th>weight 23-11-2020</th>\n",
       "      <th>weight 04-01-2021</th>\n",
       "      <th>weight 01-02-21</th>\n",
       "      <th>Treatment</th>\n",
       "      <th>percentage_of_gain_weight</th>\n",
       "    </tr>\n",
       "  </thead>\n",
       "  <tbody>\n",
       "    <tr>\n",
       "      <th>0</th>\n",
       "      <td>hen_1</td>\n",
       "      <td>9</td>\n",
       "      <td>EPI</td>\n",
       "      <td>1.0</td>\n",
       "      <td>2020-06-10</td>\n",
       "      <td>1134.0</td>\n",
       "      <td>57.0</td>\n",
       "      <td>1696.5</td>\n",
       "      <td>1787.8</td>\n",
       "      <td>1800.9</td>\n",
       "      <td>OFH</td>\n",
       "      <td>49.603175</td>\n",
       "    </tr>\n",
       "    <tr>\n",
       "      <th>1</th>\n",
       "      <td>hen_10</td>\n",
       "      <td>11</td>\n",
       "      <td>LEXP</td>\n",
       "      <td>1.0</td>\n",
       "      <td>2020-06-10</td>\n",
       "      <td>1070.0</td>\n",
       "      <td>70.4</td>\n",
       "      <td>1488.3</td>\n",
       "      <td>1628.4</td>\n",
       "      <td>1602.1</td>\n",
       "      <td>OFH</td>\n",
       "      <td>39.093458</td>\n",
       "    </tr>\n",
       "    <tr>\n",
       "      <th>3</th>\n",
       "      <td>hen_101</td>\n",
       "      <td>5</td>\n",
       "      <td>MEXP</td>\n",
       "      <td>3.0</td>\n",
       "      <td>2020-06-10</td>\n",
       "      <td>1082.0</td>\n",
       "      <td>66.0</td>\n",
       "      <td>1625.7</td>\n",
       "      <td>1751.1</td>\n",
       "      <td>1723.4</td>\n",
       "      <td>OFH</td>\n",
       "      <td>50.249538</td>\n",
       "    </tr>\n",
       "  </tbody>\n",
       "</table>\n",
       "</div>"
      ],
      "text/plain": [
       "     HenID  PenID CLASS  R-Pen InitialStartDate  29-09 weight  \\\n",
       "0    hen_1      9   EPI    1.0       2020-06-10        1134.0   \n",
       "1   hen_10     11  LEXP    1.0       2020-06-10        1070.0   \n",
       "3  hen_101      5  MEXP    3.0       2020-06-10        1082.0   \n",
       "\n",
       "   10-12 juin weight  weight 23-11-2020  weight 04-01-2021  weight 01-02-21  \\\n",
       "0               57.0             1696.5             1787.8           1800.9   \n",
       "1               70.4             1488.3             1628.4           1602.1   \n",
       "3               66.0             1625.7             1751.1           1723.4   \n",
       "\n",
       "  Treatment  percentage_of_gain_weight  \n",
       "0       OFH                  49.603175  \n",
       "1       OFH                  39.093458  \n",
       "3       OFH                  50.249538  "
      ]
     },
     "execution_count": 11,
     "metadata": {},
     "output_type": "execute_result"
    }
   ],
   "source": [
    "#focal birds info (one row per bird)\n",
    "df_FB = pd.read_csv(os.path.join(path_extracted_data,id_run+'df_FOCALBIRDS.csv'), sep=';', parse_dates=['InitialStartDate'],\n",
    "                     dayfirst=True) \n",
    "df_FB = df_FB[df_FB['HenID'].isin(li_selected_hens)]\n",
    "df_FB['percentage_of_gain_weight'] = df_FB.apply(lambda x: (x['weight 23-11-2020']-x['29-09 weight'])/x['29-09 weight']*100, axis=1)\n",
    "print(df_FB.shape)\n",
    "df_FB.head(3)"
   ]
  },
  {
   "cell_type": "code",
   "execution_count": 15,
   "metadata": {},
   "outputs": [
    {
     "name": "stderr",
     "output_type": "stream",
     "text": [
      "C:\\Users\\camil\\anaconda3\\lib\\site-packages\\ipykernel\\ipkernel.py:283: DeprecationWarning: `should_run_async` will not call `transform_cell` automatically in the future. Please pass the result to `transformed_cell` argument and any exception that happen during thetransform in `preprocessing_exc_tuple` in IPython 7.17 and above.\n",
      "  and should_run_async(code)\n"
     ]
    },
    {
     "name": "stdout",
     "output_type": "stream",
     "text": [
      "we have initially a total of 7205 different MLPs\n"
     ]
    }
   ],
   "source": [
    "li_MLPsID = list(set(df_inter['MLPID1'].tolist()+df_inter['MLPID2'].tolist()))\n",
    "print('we have initially a total of %d different MLPs' %len(li_MLPsID)) #7205 "
   ]
  },
  {
   "cell_type": "code",
   "execution_count": 20,
   "metadata": {},
   "outputs": [
    {
     "name": "stderr",
     "output_type": "stream",
     "text": [
      "C:\\Users\\camil\\anaconda3\\lib\\site-packages\\ipykernel\\ipkernel.py:283: DeprecationWarning: `should_run_async` will not call `transform_cell` automatically in the future. Please pass the result to `transformed_cell` argument and any exception that happen during thetransform in `preprocessing_exc_tuple` in IPython 7.17 and above.\n",
      "  and should_run_async(code)\n"
     ]
    },
    {
     "name": "stdout",
     "output_type": "stream",
     "text": [
      "(20361771, 13)\n",
      "we have after removing the misfunctioning days a total of 6382 different MLPs\n",
      "(13238085, 13)\n",
      "After removing the first weeks, and yet starting from the 14 October, we have a total of 5146 different MLPs\n"
     ]
    },
    {
     "data": {
      "text/html": [
       "<div>\n",
       "<style scoped>\n",
       "    .dataframe tbody tr th:only-of-type {\n",
       "        vertical-align: middle;\n",
       "    }\n",
       "\n",
       "    .dataframe tbody tr th {\n",
       "        vertical-align: top;\n",
       "    }\n",
       "\n",
       "    .dataframe thead th {\n",
       "        text-align: right;\n",
       "    }\n",
       "</style>\n",
       "<table border=\"1\" class=\"dataframe\">\n",
       "  <thead>\n",
       "    <tr style=\"text-align: right;\">\n",
       "      <th></th>\n",
       "      <th>chi2distance_ALL_15</th>\n",
       "      <th>h1</th>\n",
       "      <th>h2</th>\n",
       "      <th>henID1</th>\n",
       "      <th>henID2</th>\n",
       "      <th>level1</th>\n",
       "      <th>level2</th>\n",
       "      <th>DIB1</th>\n",
       "      <th>DIB2</th>\n",
       "      <th>MLPID1</th>\n",
       "      <th>MLPID2</th>\n",
       "      <th>shouldh1_exist</th>\n",
       "      <th>shouldh2_exist</th>\n",
       "    </tr>\n",
       "  </thead>\n",
       "  <tbody>\n",
       "    <tr>\n",
       "      <th>1783782</th>\n",
       "      <td>0.223012</td>\n",
       "      <td>hen_131/2020-10-14</td>\n",
       "      <td>hen_134/2020-10-14</td>\n",
       "      <td>hen_131</td>\n",
       "      <td>hen_134</td>\n",
       "      <td>2020-10-14</td>\n",
       "      <td>2020-10-14</td>\n",
       "      <td>15</td>\n",
       "      <td>15</td>\n",
       "      <td>hen_131-15</td>\n",
       "      <td>hen_134-15</td>\n",
       "      <td>True</td>\n",
       "      <td>True</td>\n",
       "    </tr>\n",
       "    <tr>\n",
       "      <th>1783783</th>\n",
       "      <td>0.418940</td>\n",
       "      <td>hen_131/2020-10-14</td>\n",
       "      <td>hen_138/2020-10-14</td>\n",
       "      <td>hen_131</td>\n",
       "      <td>hen_138</td>\n",
       "      <td>2020-10-14</td>\n",
       "      <td>2020-10-14</td>\n",
       "      <td>15</td>\n",
       "      <td>15</td>\n",
       "      <td>hen_131-15</td>\n",
       "      <td>hen_138-15</td>\n",
       "      <td>True</td>\n",
       "      <td>True</td>\n",
       "    </tr>\n",
       "    <tr>\n",
       "      <th>1783784</th>\n",
       "      <td>0.444501</td>\n",
       "      <td>hen_131/2020-10-14</td>\n",
       "      <td>hen_139/2020-10-14</td>\n",
       "      <td>hen_131</td>\n",
       "      <td>hen_139</td>\n",
       "      <td>2020-10-14</td>\n",
       "      <td>2020-10-14</td>\n",
       "      <td>15</td>\n",
       "      <td>15</td>\n",
       "      <td>hen_131-15</td>\n",
       "      <td>hen_139-15</td>\n",
       "      <td>True</td>\n",
       "      <td>True</td>\n",
       "    </tr>\n",
       "  </tbody>\n",
       "</table>\n",
       "</div>"
      ],
      "text/plain": [
       "         chi2distance_ALL_15                  h1                  h2   henID1  \\\n",
       "1783782             0.223012  hen_131/2020-10-14  hen_134/2020-10-14  hen_131   \n",
       "1783783             0.418940  hen_131/2020-10-14  hen_138/2020-10-14  hen_131   \n",
       "1783784             0.444501  hen_131/2020-10-14  hen_139/2020-10-14  hen_131   \n",
       "\n",
       "          henID2     level1     level2  DIB1  DIB2      MLPID1      MLPID2  \\\n",
       "1783782  hen_134 2020-10-14 2020-10-14    15    15  hen_131-15  hen_134-15   \n",
       "1783783  hen_138 2020-10-14 2020-10-14    15    15  hen_131-15  hen_138-15   \n",
       "1783784  hen_139 2020-10-14 2020-10-14    15    15  hen_131-15  hen_139-15   \n",
       "\n",
       "         shouldh1_exist  shouldh2_exist  \n",
       "1783782            True            True  \n",
       "1783783            True            True  \n",
       "1783784            True            True  "
      ]
     },
     "execution_count": 20,
     "metadata": {},
     "output_type": "execute_result"
    }
   ],
   "source": [
    "#ATTENTION: DUE to non removal of non existing MLPS!!!!!!! using df_daily as in routinedev_distance_notebook\n",
    "dico_mlpsid_shouldexist = {k:df_daily[(df_daily['HenID']==k.split('-')[0])&\\\n",
    "                                      (df_daily['DIB']==int(k.split('-')[1]))].shape[0]==1 for k in li_MLPsID}\n",
    "df_inter['shouldh1_exist'] = df_inter['MLPID1'].map(lambda x: dico_mlpsid_shouldexist[x])\n",
    "df_inter['shouldh2_exist'] = df_inter['MLPID2'].map(lambda x: dico_mlpsid_shouldexist[x])\n",
    "df_inter = df_inter[(df_inter['shouldh1_exist'])&(df_inter['shouldh2_exist'])]\n",
    "print(df_inter.shape)\n",
    "li_MLPsID = list(set(df_inter['MLPID1'].tolist()+df_inter['MLPID2'].tolist()))\n",
    "print('we have after removing the misfunctioning days a total of %d different MLPs' %len(li_MLPsID)) #7205 \n",
    "\n",
    "df_inter = df_inter[df_inter['level1']>=dt.datetime(2020,10,14)]\n",
    "df_inter = df_inter[df_inter['level2']>=dt.datetime(2020,10,14)]\n",
    "print(df_inter.shape)\n",
    "#as the first days not all pens haev same amount of birds, and these days clusters will be ver very influence by where the \n",
    "#birds sleeps!\n",
    "li_MLPsID = list(set(df_inter['MLPID1'].tolist()+df_inter['MLPID2'].tolist()))\n",
    "print('After removing the first weeks, and yet starting from the 14 October, we have a total of %d different MLPs' %len(li_MLPsID)) #7205 \n",
    "df_inter.head(3)"
   ]
  },
  {
   "cell_type": "markdown",
   "metadata": {},
   "source": [
    "# Dissimilarity matrix on chi2distance_15mn all MLPS"
   ]
  },
  {
   "cell_type": "raw",
   "metadata": {},
   "source": [
    "We do not have to remove days or hens, as we will cluster each single mlps to have a general knowledge of different behavioural structure in the flock\n",
    "In total we have 52 days * 131 hens  = 6'812 MLPs to classify To do so we are computing a distance for each pair of ndividuals:\n",
    "6812*6811/2 = 23198266. For now lets do first 30 days: 30*131=3930, 3930*3929/2=7720485 (21h of computation if 100 / sec)\n",
    "Due to the barn change, it is expected to have much new behavioural structure emerging over the first month, and to have much more similar MLPs at the begining"
   ]
  },
  {
   "cell_type": "code",
   "execution_count": 256,
   "metadata": {},
   "outputs": [
    {
     "name": "stderr",
     "output_type": "stream",
     "text": [
      "C:\\Users\\camil\\anaconda3\\lib\\site-packages\\ipykernel\\ipkernel.py:283: DeprecationWarning: `should_run_async` will not call `transform_cell` automatically in the future. Please pass the result to `transformed_cell` argument and any exception that happen during thetransform in `preprocessing_exc_tuple` in IPython 7.17 and above.\n",
      "  and should_run_async(code)\n"
     ]
    }
   ],
   "source": [
    "if df_inter.shape[0] != (len(li_MLPsID)*(len(li_MLPsID)-1))/2:\n",
    "    print('we are missing some interactions!!')\n",
    "    sys.exit()"
   ]
  },
  {
   "cell_type": "code",
   "execution_count": 257,
   "metadata": {},
   "outputs": [
    {
     "name": "stderr",
     "output_type": "stream",
     "text": [
      "C:\\Users\\camil\\anaconda3\\lib\\site-packages\\ipykernel\\ipkernel.py:283: DeprecationWarning: `should_run_async` will not call `transform_cell` automatically in the future. Please pass the result to `transformed_cell` argument and any exception that happen during thetransform in `preprocessing_exc_tuple` in IPython 7.17 and above.\n",
      "  and should_run_async(code)\n",
      "  0%|                                                                       | 105/13238085 [00:00<3:31:43, 1042.10it/s]"
     ]
    },
    {
     "name": "stdout",
     "output_type": "stream",
     "text": [
      "---------------lets compute dissimiliartiy matrix...\n"
     ]
    },
    {
     "name": "stderr",
     "output_type": "stream",
     "text": [
      "100%|██████████████████████████████████████████████████████████████████| 13238085/13238085 [2:27:22<00:00, 1497.17it/s]\n"
     ]
    },
    {
     "data": {
      "image/png": "[encoded data removed]",
      "text/plain": [
       "<Figure size 432x288 with 2 Axes>"
      ]
     },
     "metadata": {
      "needs_background": "light"
     },
     "output_type": "display_data"
    }
   ],
   "source": [
    "#for i,h1 in enumerate(li_MLPsID):\n",
    "#    for h2 in li_MLPsID[i+1:]:\n",
    "\n",
    "#compute dissimilarity matrix\n",
    "print('---------------lets compute dissimiliartiy matrix...')\n",
    "#Initially on sbset of the data, to debug the code\n",
    "#li_MLPsID = li_MLPsID[0:200]\n",
    "#df_inter = df_inter[(df_inter['MLPID1'].isin(li_MLPsID))&(df_inter['MLPID2'].isin(li_MLPsID))]\n",
    "#not efficient but we dont care for now. we could \n",
    "#if the mlps distance do not existe one day, then it should not be 0 so we wont start with a 0 initialised matrix and go through\n",
    "#df_inter.shape: we will go through the mlps one by one\n",
    "M = np.zeros(shape=(len(li_MLPsID), len(li_MLPsID)))\n",
    "for i in tqdm.tqdm(range(df_inter.shape[0])):\n",
    "    x = df_inter.iloc[i]\n",
    "    mlp1 = x['MLPID1']\n",
    "    mlp2 = x['MLPID2']\n",
    "    dist_ = x['chi2distance_ALL_15']\n",
    "    M[li_MLPsID.index(mlp1)][li_MLPsID.index(mlp2)] = round(dist_,2)\n",
    "    M[li_MLPsID.index(mlp2)][li_MLPsID.index(mlp1)] = round(dist_,2)\n",
    "np.save(os.path.join(path_extracted_data_visual_adap_clustering_V,id_run+'M'), M)\n",
    "sns.heatmap(M)\n",
    "plt.savefig(os.path.join(path_extracted_data_visual_adap_clustering_V,id_run+'heatmap_distance.png'),\n",
    "            dpi=300,format='png',bbox_inches='tight')"
   ]
  },
  {
   "cell_type": "markdown",
   "metadata": {},
   "source": [
    "# Cluster all daily MLPs"
   ]
  },
  {
   "cell_type": "code",
   "execution_count": 258,
   "metadata": {},
   "outputs": [
    {
     "name": "stderr",
     "output_type": "stream",
     "text": [
      "C:\\Users\\camil\\anaconda3\\lib\\site-packages\\ipykernel\\ipkernel.py:283: DeprecationWarning: `should_run_async` will not call `transform_cell` automatically in the future. Please pass the result to `transformed_cell` argument and any exception that happen during thetransform in `preprocessing_exc_tuple` in IPython 7.17 and above.\n",
      "  and should_run_async(code)\n",
      "\r",
      "  0%|                                                                                           | 0/98 [00:00<?, ?it/s]"
     ]
    },
    {
     "name": "stdout",
     "output_type": "stream",
     "text": [
      "---------------lets do clustering...\n"
     ]
    },
    {
     "name": "stderr",
     "output_type": "stream",
     "text": [
      "100%|██████████████████████████████████████████████████████████████████████████████████| 98/98 [01:19<00:00,  1.23it/s]\n"
     ]
    },
    {
     "name": "stdout",
     "output_type": "stream",
     "text": [
      "(5146, 99)\n"
     ]
    },
    {
     "data": {
      "text/html": [
       "<div>\n",
       "<style scoped>\n",
       "    .dataframe tbody tr th:only-of-type {\n",
       "        vertical-align: middle;\n",
       "    }\n",
       "\n",
       "    .dataframe tbody tr th {\n",
       "        vertical-align: top;\n",
       "    }\n",
       "\n",
       "    .dataframe thead th {\n",
       "        text-align: right;\n",
       "    }\n",
       "</style>\n",
       "<table border=\"1\" class=\"dataframe\">\n",
       "  <thead>\n",
       "    <tr style=\"text-align: right;\">\n",
       "      <th></th>\n",
       "      <th>MLPID</th>\n",
       "      <th>ALL_MLPS_2</th>\n",
       "      <th>ALL_MLPS_3</th>\n",
       "      <th>ALL_MLPS_4</th>\n",
       "      <th>ALL_MLPS_5</th>\n",
       "      <th>ALL_MLPS_6</th>\n",
       "      <th>ALL_MLPS_7</th>\n",
       "      <th>ALL_MLPS_8</th>\n",
       "      <th>ALL_MLPS_9</th>\n",
       "      <th>ALL_MLPS_10</th>\n",
       "      <th>...</th>\n",
       "      <th>ALL_MLPS_90</th>\n",
       "      <th>ALL_MLPS_91</th>\n",
       "      <th>ALL_MLPS_92</th>\n",
       "      <th>ALL_MLPS_93</th>\n",
       "      <th>ALL_MLPS_94</th>\n",
       "      <th>ALL_MLPS_95</th>\n",
       "      <th>ALL_MLPS_96</th>\n",
       "      <th>ALL_MLPS_97</th>\n",
       "      <th>ALL_MLPS_98</th>\n",
       "      <th>ALL_MLPS_99</th>\n",
       "    </tr>\n",
       "  </thead>\n",
       "  <tbody>\n",
       "    <tr>\n",
       "      <th>0</th>\n",
       "      <td>hen_61-20</td>\n",
       "      <td>1</td>\n",
       "      <td>1</td>\n",
       "      <td>3</td>\n",
       "      <td>1</td>\n",
       "      <td>0</td>\n",
       "      <td>0</td>\n",
       "      <td>2</td>\n",
       "      <td>0</td>\n",
       "      <td>5</td>\n",
       "      <td>...</td>\n",
       "      <td>67</td>\n",
       "      <td>67</td>\n",
       "      <td>67</td>\n",
       "      <td>67</td>\n",
       "      <td>67</td>\n",
       "      <td>67</td>\n",
       "      <td>67</td>\n",
       "      <td>67</td>\n",
       "      <td>67</td>\n",
       "      <td>67</td>\n",
       "    </tr>\n",
       "    <tr>\n",
       "      <th>1</th>\n",
       "      <td>hen_65-35</td>\n",
       "      <td>0</td>\n",
       "      <td>0</td>\n",
       "      <td>1</td>\n",
       "      <td>0</td>\n",
       "      <td>5</td>\n",
       "      <td>5</td>\n",
       "      <td>5</td>\n",
       "      <td>5</td>\n",
       "      <td>2</td>\n",
       "      <td>...</td>\n",
       "      <td>20</td>\n",
       "      <td>9</td>\n",
       "      <td>9</td>\n",
       "      <td>9</td>\n",
       "      <td>9</td>\n",
       "      <td>9</td>\n",
       "      <td>4</td>\n",
       "      <td>4</td>\n",
       "      <td>1</td>\n",
       "      <td>0</td>\n",
       "    </tr>\n",
       "    <tr>\n",
       "      <th>2</th>\n",
       "      <td>hen_138-54</td>\n",
       "      <td>1</td>\n",
       "      <td>1</td>\n",
       "      <td>3</td>\n",
       "      <td>1</td>\n",
       "      <td>0</td>\n",
       "      <td>6</td>\n",
       "      <td>6</td>\n",
       "      <td>2</td>\n",
       "      <td>0</td>\n",
       "      <td>...</td>\n",
       "      <td>64</td>\n",
       "      <td>64</td>\n",
       "      <td>64</td>\n",
       "      <td>64</td>\n",
       "      <td>64</td>\n",
       "      <td>64</td>\n",
       "      <td>64</td>\n",
       "      <td>64</td>\n",
       "      <td>64</td>\n",
       "      <td>64</td>\n",
       "    </tr>\n",
       "  </tbody>\n",
       "</table>\n",
       "<p>3 rows × 99 columns</p>\n",
       "</div>"
      ],
      "text/plain": [
       "        MLPID  ALL_MLPS_2  ALL_MLPS_3  ALL_MLPS_4  ALL_MLPS_5  ALL_MLPS_6  \\\n",
       "0   hen_61-20           1           1           3           1           0   \n",
       "1   hen_65-35           0           0           1           0           5   \n",
       "2  hen_138-54           1           1           3           1           0   \n",
       "\n",
       "   ALL_MLPS_7  ALL_MLPS_8  ALL_MLPS_9  ALL_MLPS_10  ...  ALL_MLPS_90  \\\n",
       "0           0           2           0            5  ...           67   \n",
       "1           5           5           5            2  ...           20   \n",
       "2           6           6           2            0  ...           64   \n",
       "\n",
       "   ALL_MLPS_91  ALL_MLPS_92  ALL_MLPS_93  ALL_MLPS_94  ALL_MLPS_95  \\\n",
       "0           67           67           67           67           67   \n",
       "1            9            9            9            9            9   \n",
       "2           64           64           64           64           64   \n",
       "\n",
       "   ALL_MLPS_96  ALL_MLPS_97  ALL_MLPS_98  ALL_MLPS_99  \n",
       "0           67           67           67           67  \n",
       "1            4            4            1            0  \n",
       "2           64           64           64           64  \n",
       "\n",
       "[3 rows x 99 columns]"
      ]
     },
     "metadata": {},
     "output_type": "display_data"
    },
    {
     "name": "stdout",
     "output_type": "stream",
     "text": [
      "(98, 2)\n"
     ]
    },
    {
     "data": {
      "text/html": [
       "<div>\n",
       "<style scoped>\n",
       "    .dataframe tbody tr th:only-of-type {\n",
       "        vertical-align: middle;\n",
       "    }\n",
       "\n",
       "    .dataframe tbody tr th {\n",
       "        vertical-align: top;\n",
       "    }\n",
       "\n",
       "    .dataframe thead th {\n",
       "        text-align: right;\n",
       "    }\n",
       "</style>\n",
       "<table border=\"1\" class=\"dataframe\">\n",
       "  <thead>\n",
       "    <tr style=\"text-align: right;\">\n",
       "      <th></th>\n",
       "      <th>clusteringID</th>\n",
       "      <th>nbr_cluster</th>\n",
       "    </tr>\n",
       "  </thead>\n",
       "  <tbody>\n",
       "    <tr>\n",
       "      <th>0</th>\n",
       "      <td>ALL_MLPS_2</td>\n",
       "      <td>2</td>\n",
       "    </tr>\n",
       "    <tr>\n",
       "      <th>1</th>\n",
       "      <td>ALL_MLPS_3</td>\n",
       "      <td>3</td>\n",
       "    </tr>\n",
       "    <tr>\n",
       "      <th>2</th>\n",
       "      <td>ALL_MLPS_4</td>\n",
       "      <td>4</td>\n",
       "    </tr>\n",
       "  </tbody>\n",
       "</table>\n",
       "</div>"
      ],
      "text/plain": [
       "  clusteringID  nbr_cluster\n",
       "0   ALL_MLPS_2            2\n",
       "1   ALL_MLPS_3            3\n",
       "2   ALL_MLPS_4            4"
      ]
     },
     "execution_count": 258,
     "metadata": {},
     "output_type": "execute_result"
    }
   ],
   "source": [
    "print('---------------lets do clustering...')\n",
    "li_df = []\n",
    "df_res = pd.DataFrame({'MLPID':li_MLPsID})\n",
    "for nbr_cluster in tqdm.tqdm(li_nbr_cluster):\n",
    "\n",
    "    #clustering_name\n",
    "    name_clustering = 'ALL_MLPS_'+str(nbr_cluster)\n",
    "    \n",
    "    #cluster based on the dissimilarity matrix\n",
    "    #If “precomputed”, a distance matrix (instead of a similarity matrix) is needed as input for the fit method.\n",
    "    #TODO: CHECK\n",
    "    #The agglomerative clustering is the most common type of hierarchical clustering\n",
    "    cluster = AgglomerativeClustering(n_clusters=nbr_cluster, affinity='precomputed', linkage = 'average') #, linkage='ward')\n",
    "    cluster.fit_predict(M)\n",
    "    #print(cluster.labels_)\n",
    "    df_res_ = pd.DataFrame({'MLPID':li_MLPsID, name_clustering:cluster.labels_})\n",
    "    #display(df_res_['clusterID'].value_counts())\n",
    "    #display(df_res.head(3))\n",
    "    #df_res.to_csv(os.path.join(path_extracted_data_visual_adap_clustering_V ,name_clustering+'_results.csv'), \n",
    "    #                 sep=';', index=False)     \n",
    "    df_res = pd.merge(df_res, df_res_, on='MLPID')        \n",
    "    li_df.append({'clusteringID':name_clustering, 'nbr_cluster':nbr_cluster})\n",
    "df_res.to_csv(os.path.join(path_extracted_data_visual_adap_clustering_V, id_run+'df_clustering_results.csv'), sep=';', index=False)\n",
    "print(df_res.shape)\n",
    "display(df_res.head(3)) \n",
    "    \n",
    "#save meta data info of clusterings\n",
    "df_clusteringMetadata = pd.DataFrame(li_df)\n",
    "df_clusteringMetadata.to_csv(os.path.join(path_extracted_data_visual_adap_clustering_V, id_run+'df_clustering_metadata.csv'), sep=';', index=False)\n",
    "print(df_clusteringMetadata.shape)\n",
    "df_clusteringMetadata.head(3)"
   ]
  },
  {
   "cell_type": "code",
   "execution_count": 259,
   "metadata": {},
   "outputs": [
    {
     "name": "stderr",
     "output_type": "stream",
     "text": [
      "C:\\Users\\camil\\anaconda3\\lib\\site-packages\\ipykernel\\ipkernel.py:283: DeprecationWarning: `should_run_async` will not call `transform_cell` automatically in the future. Please pass the result to `transformed_cell` argument and any exception that happen during thetransform in `preprocessing_exc_tuple` in IPython 7.17 and above.\n",
      "  and should_run_async(code)\n"
     ]
    }
   ],
   "source": [
    "#load matrix\n",
    "#M = np.load(os.path.join(path_extracted_data_visual_adap_clustering_V,id_run+'M.npy'))"
   ]
  },
  {
   "cell_type": "markdown",
   "metadata": {},
   "source": [
    "#merge with all daily info: at (day, hen) level\n",
    "df_analyse_hd = pd.merge(df_daily, df_res, on=['HenID'], how='left')\n",
    "print(df_analyse_hd.shape, df_daily.shape)\n",
    "#df_analyse_hd.to_csv(os.path.join(path_cluster, id_run+'df_analyse_hd.csv'), sep=';', index=False)\n",
    "df_analyse_hd.head(3)"
   ]
  },
  {
   "cell_type": "markdown",
   "metadata": {},
   "source": [
    "# Visuals"
   ]
  },
  {
   "cell_type": "code",
   "execution_count": 6,
   "metadata": {},
   "outputs": [
    {
     "name": "stderr",
     "output_type": "stream",
     "text": [
      "C:\\Users\\camil\\anaconda3\\lib\\site-packages\\ipykernel\\ipkernel.py:283: DeprecationWarning: `should_run_async` will not call `transform_cell` automatically in the future. Please pass the result to `transformed_cell` argument and any exception that happen during thetransform in `preprocessing_exc_tuple` in IPython 7.17 and above.\n",
      "  and should_run_async(code)\n"
     ]
    },
    {
     "name": "stdout",
     "output_type": "stream",
     "text": [
      "(5146, 102)\n"
     ]
    },
    {
     "data": {
      "text/html": [
       "<div>\n",
       "<style scoped>\n",
       "    .dataframe tbody tr th:only-of-type {\n",
       "        vertical-align: middle;\n",
       "    }\n",
       "\n",
       "    .dataframe tbody tr th {\n",
       "        vertical-align: top;\n",
       "    }\n",
       "\n",
       "    .dataframe thead th {\n",
       "        text-align: right;\n",
       "    }\n",
       "</style>\n",
       "<table border=\"1\" class=\"dataframe\">\n",
       "  <thead>\n",
       "    <tr style=\"text-align: right;\">\n",
       "      <th></th>\n",
       "      <th>MLPID</th>\n",
       "      <th>ALL_MLPS_2</th>\n",
       "      <th>ALL_MLPS_3</th>\n",
       "      <th>ALL_MLPS_4</th>\n",
       "      <th>ALL_MLPS_5</th>\n",
       "      <th>ALL_MLPS_6</th>\n",
       "      <th>ALL_MLPS_7</th>\n",
       "      <th>ALL_MLPS_8</th>\n",
       "      <th>ALL_MLPS_9</th>\n",
       "      <th>ALL_MLPS_10</th>\n",
       "      <th>...</th>\n",
       "      <th>ALL_MLPS_93</th>\n",
       "      <th>ALL_MLPS_94</th>\n",
       "      <th>ALL_MLPS_95</th>\n",
       "      <th>ALL_MLPS_96</th>\n",
       "      <th>ALL_MLPS_97</th>\n",
       "      <th>ALL_MLPS_98</th>\n",
       "      <th>ALL_MLPS_99</th>\n",
       "      <th>DIB</th>\n",
       "      <th>date</th>\n",
       "      <th>HenID</th>\n",
       "    </tr>\n",
       "  </thead>\n",
       "  <tbody>\n",
       "    <tr>\n",
       "      <th>0</th>\n",
       "      <td>hen_61-20</td>\n",
       "      <td>1</td>\n",
       "      <td>1</td>\n",
       "      <td>3</td>\n",
       "      <td>1</td>\n",
       "      <td>0</td>\n",
       "      <td>0</td>\n",
       "      <td>2</td>\n",
       "      <td>0</td>\n",
       "      <td>5</td>\n",
       "      <td>...</td>\n",
       "      <td>67</td>\n",
       "      <td>67</td>\n",
       "      <td>67</td>\n",
       "      <td>67</td>\n",
       "      <td>67</td>\n",
       "      <td>67</td>\n",
       "      <td>67</td>\n",
       "      <td>20</td>\n",
       "      <td>2020-10-19</td>\n",
       "      <td>hen_61</td>\n",
       "    </tr>\n",
       "    <tr>\n",
       "      <th>1</th>\n",
       "      <td>hen_65-35</td>\n",
       "      <td>0</td>\n",
       "      <td>0</td>\n",
       "      <td>1</td>\n",
       "      <td>0</td>\n",
       "      <td>5</td>\n",
       "      <td>5</td>\n",
       "      <td>5</td>\n",
       "      <td>5</td>\n",
       "      <td>2</td>\n",
       "      <td>...</td>\n",
       "      <td>9</td>\n",
       "      <td>9</td>\n",
       "      <td>9</td>\n",
       "      <td>4</td>\n",
       "      <td>4</td>\n",
       "      <td>1</td>\n",
       "      <td>0</td>\n",
       "      <td>35</td>\n",
       "      <td>2020-11-03</td>\n",
       "      <td>hen_65</td>\n",
       "    </tr>\n",
       "    <tr>\n",
       "      <th>2</th>\n",
       "      <td>hen_138-54</td>\n",
       "      <td>1</td>\n",
       "      <td>1</td>\n",
       "      <td>3</td>\n",
       "      <td>1</td>\n",
       "      <td>0</td>\n",
       "      <td>6</td>\n",
       "      <td>6</td>\n",
       "      <td>2</td>\n",
       "      <td>0</td>\n",
       "      <td>...</td>\n",
       "      <td>64</td>\n",
       "      <td>64</td>\n",
       "      <td>64</td>\n",
       "      <td>64</td>\n",
       "      <td>64</td>\n",
       "      <td>64</td>\n",
       "      <td>64</td>\n",
       "      <td>54</td>\n",
       "      <td>2020-11-22</td>\n",
       "      <td>hen_138</td>\n",
       "    </tr>\n",
       "  </tbody>\n",
       "</table>\n",
       "<p>3 rows × 102 columns</p>\n",
       "</div>"
      ],
      "text/plain": [
       "        MLPID  ALL_MLPS_2  ALL_MLPS_3  ALL_MLPS_4  ALL_MLPS_5  ALL_MLPS_6  \\\n",
       "0   hen_61-20           1           1           3           1           0   \n",
       "1   hen_65-35           0           0           1           0           5   \n",
       "2  hen_138-54           1           1           3           1           0   \n",
       "\n",
       "   ALL_MLPS_7  ALL_MLPS_8  ALL_MLPS_9  ALL_MLPS_10  ...  ALL_MLPS_93  \\\n",
       "0           0           2           0            5  ...           67   \n",
       "1           5           5           5            2  ...            9   \n",
       "2           6           6           2            0  ...           64   \n",
       "\n",
       "   ALL_MLPS_94  ALL_MLPS_95  ALL_MLPS_96  ALL_MLPS_97  ALL_MLPS_98  \\\n",
       "0           67           67           67           67           67   \n",
       "1            9            9            4            4            1   \n",
       "2           64           64           64           64           64   \n",
       "\n",
       "   ALL_MLPS_99  DIB       date    HenID  \n",
       "0           67   20 2020-10-19   hen_61  \n",
       "1            0   35 2020-11-03   hen_65  \n",
       "2           64   54 2020-11-22  hen_138  \n",
       "\n",
       "[3 rows x 102 columns]"
      ]
     },
     "execution_count": 6,
     "metadata": {},
     "output_type": "execute_result"
    }
   ],
   "source": [
    "#reopen for reproducibility\n",
    "df_res = pd.read_csv(os.path.join(path_extracted_data_visual_adap_clustering_V,id_run+'df_clustering_results.csv'), sep=';',\n",
    "                     dayfirst=True) \n",
    "df_res['DIB'] = df_res['MLPID'].map(lambda x: int(x.split('-')[1]))\n",
    "df_res['date'] = df_res['DIB'].map(lambda x: dt.datetime(2020,9,29)+dt.timedelta(days=x))\n",
    "df_res['HenID'] = df_res['MLPID'].map(lambda x: x.split('-')[0])\n",
    "print(df_res.shape)\n",
    "df_res.head(3)"
   ]
  },
  {
   "cell_type": "code",
   "execution_count": 7,
   "metadata": {
    "scrolled": true
   },
   "outputs": [
    {
     "name": "stderr",
     "output_type": "stream",
     "text": [
      "C:\\Users\\camil\\anaconda3\\lib\\site-packages\\ipykernel\\ipkernel.py:283: DeprecationWarning: `should_run_async` will not call `transform_cell` automatically in the future. Please pass the result to `transformed_cell` argument and any exception that happen during thetransform in `preprocessing_exc_tuple` in IPython 7.17 and above.\n",
      "  and should_run_async(code)\n"
     ]
    },
    {
     "data": {
      "text/html": [
       "<div>\n",
       "<style scoped>\n",
       "    .dataframe tbody tr th:only-of-type {\n",
       "        vertical-align: middle;\n",
       "    }\n",
       "\n",
       "    .dataframe tbody tr th {\n",
       "        vertical-align: top;\n",
       "    }\n",
       "\n",
       "    .dataframe thead th {\n",
       "        text-align: right;\n",
       "    }\n",
       "</style>\n",
       "<table border=\"1\" class=\"dataframe\">\n",
       "  <thead>\n",
       "    <tr style=\"text-align: right;\">\n",
       "      <th></th>\n",
       "      <th>index</th>\n",
       "      <th>ALL_MLPS_99</th>\n",
       "    </tr>\n",
       "  </thead>\n",
       "  <tbody>\n",
       "    <tr>\n",
       "      <th>0</th>\n",
       "      <td>67</td>\n",
       "      <td>1904</td>\n",
       "    </tr>\n",
       "    <tr>\n",
       "      <th>1</th>\n",
       "      <td>22</td>\n",
       "      <td>727</td>\n",
       "    </tr>\n",
       "    <tr>\n",
       "      <th>2</th>\n",
       "      <td>3</td>\n",
       "      <td>475</td>\n",
       "    </tr>\n",
       "    <tr>\n",
       "      <th>3</th>\n",
       "      <td>15</td>\n",
       "      <td>350</td>\n",
       "    </tr>\n",
       "    <tr>\n",
       "      <th>4</th>\n",
       "      <td>0</td>\n",
       "      <td>274</td>\n",
       "    </tr>\n",
       "    <tr>\n",
       "      <th>5</th>\n",
       "      <td>6</td>\n",
       "      <td>157</td>\n",
       "    </tr>\n",
       "    <tr>\n",
       "      <th>6</th>\n",
       "      <td>7</td>\n",
       "      <td>133</td>\n",
       "    </tr>\n",
       "    <tr>\n",
       "      <th>7</th>\n",
       "      <td>21</td>\n",
       "      <td>131</td>\n",
       "    </tr>\n",
       "    <tr>\n",
       "      <th>8</th>\n",
       "      <td>52</td>\n",
       "      <td>112</td>\n",
       "    </tr>\n",
       "    <tr>\n",
       "      <th>9</th>\n",
       "      <td>35</td>\n",
       "      <td>68</td>\n",
       "    </tr>\n",
       "    <tr>\n",
       "      <th>10</th>\n",
       "      <td>33</td>\n",
       "      <td>68</td>\n",
       "    </tr>\n",
       "    <tr>\n",
       "      <th>11</th>\n",
       "      <td>30</td>\n",
       "      <td>44</td>\n",
       "    </tr>\n",
       "    <tr>\n",
       "      <th>12</th>\n",
       "      <td>34</td>\n",
       "      <td>44</td>\n",
       "    </tr>\n",
       "    <tr>\n",
       "      <th>13</th>\n",
       "      <td>8</td>\n",
       "      <td>38</td>\n",
       "    </tr>\n",
       "    <tr>\n",
       "      <th>14</th>\n",
       "      <td>36</td>\n",
       "      <td>37</td>\n",
       "    </tr>\n",
       "    <tr>\n",
       "      <th>15</th>\n",
       "      <td>25</td>\n",
       "      <td>37</td>\n",
       "    </tr>\n",
       "    <tr>\n",
       "      <th>16</th>\n",
       "      <td>16</td>\n",
       "      <td>24</td>\n",
       "    </tr>\n",
       "    <tr>\n",
       "      <th>17</th>\n",
       "      <td>2</td>\n",
       "      <td>24</td>\n",
       "    </tr>\n",
       "    <tr>\n",
       "      <th>18</th>\n",
       "      <td>18</td>\n",
       "      <td>20</td>\n",
       "    </tr>\n",
       "    <tr>\n",
       "      <th>19</th>\n",
       "      <td>27</td>\n",
       "      <td>20</td>\n",
       "    </tr>\n",
       "    <tr>\n",
       "      <th>20</th>\n",
       "      <td>29</td>\n",
       "      <td>19</td>\n",
       "    </tr>\n",
       "    <tr>\n",
       "      <th>21</th>\n",
       "      <td>23</td>\n",
       "      <td>18</td>\n",
       "    </tr>\n",
       "    <tr>\n",
       "      <th>22</th>\n",
       "      <td>5</td>\n",
       "      <td>17</td>\n",
       "    </tr>\n",
       "    <tr>\n",
       "      <th>23</th>\n",
       "      <td>4</td>\n",
       "      <td>16</td>\n",
       "    </tr>\n",
       "    <tr>\n",
       "      <th>24</th>\n",
       "      <td>24</td>\n",
       "      <td>16</td>\n",
       "    </tr>\n",
       "    <tr>\n",
       "      <th>25</th>\n",
       "      <td>66</td>\n",
       "      <td>15</td>\n",
       "    </tr>\n",
       "    <tr>\n",
       "      <th>26</th>\n",
       "      <td>31</td>\n",
       "      <td>15</td>\n",
       "    </tr>\n",
       "    <tr>\n",
       "      <th>27</th>\n",
       "      <td>94</td>\n",
       "      <td>14</td>\n",
       "    </tr>\n",
       "    <tr>\n",
       "      <th>28</th>\n",
       "      <td>26</td>\n",
       "      <td>14</td>\n",
       "    </tr>\n",
       "    <tr>\n",
       "      <th>29</th>\n",
       "      <td>74</td>\n",
       "      <td>14</td>\n",
       "    </tr>\n",
       "    <tr>\n",
       "      <th>30</th>\n",
       "      <td>11</td>\n",
       "      <td>12</td>\n",
       "    </tr>\n",
       "    <tr>\n",
       "      <th>31</th>\n",
       "      <td>56</td>\n",
       "      <td>12</td>\n",
       "    </tr>\n",
       "    <tr>\n",
       "      <th>32</th>\n",
       "      <td>10</td>\n",
       "      <td>12</td>\n",
       "    </tr>\n",
       "    <tr>\n",
       "      <th>33</th>\n",
       "      <td>9</td>\n",
       "      <td>11</td>\n",
       "    </tr>\n",
       "    <tr>\n",
       "      <th>34</th>\n",
       "      <td>17</td>\n",
       "      <td>11</td>\n",
       "    </tr>\n",
       "    <tr>\n",
       "      <th>35</th>\n",
       "      <td>68</td>\n",
       "      <td>10</td>\n",
       "    </tr>\n",
       "    <tr>\n",
       "      <th>36</th>\n",
       "      <td>73</td>\n",
       "      <td>8</td>\n",
       "    </tr>\n",
       "    <tr>\n",
       "      <th>37</th>\n",
       "      <td>14</td>\n",
       "      <td>8</td>\n",
       "    </tr>\n",
       "    <tr>\n",
       "      <th>38</th>\n",
       "      <td>40</td>\n",
       "      <td>7</td>\n",
       "    </tr>\n",
       "    <tr>\n",
       "      <th>39</th>\n",
       "      <td>13</td>\n",
       "      <td>7</td>\n",
       "    </tr>\n",
       "  </tbody>\n",
       "</table>\n",
       "</div>"
      ],
      "text/plain": [
       "    index  ALL_MLPS_99\n",
       "0      67         1904\n",
       "1      22          727\n",
       "2       3          475\n",
       "3      15          350\n",
       "4       0          274\n",
       "5       6          157\n",
       "6       7          133\n",
       "7      21          131\n",
       "8      52          112\n",
       "9      35           68\n",
       "10     33           68\n",
       "11     30           44\n",
       "12     34           44\n",
       "13      8           38\n",
       "14     36           37\n",
       "15     25           37\n",
       "16     16           24\n",
       "17      2           24\n",
       "18     18           20\n",
       "19     27           20\n",
       "20     29           19\n",
       "21     23           18\n",
       "22      5           17\n",
       "23      4           16\n",
       "24     24           16\n",
       "25     66           15\n",
       "26     31           15\n",
       "27     94           14\n",
       "28     26           14\n",
       "29     74           14\n",
       "30     11           12\n",
       "31     56           12\n",
       "32     10           12\n",
       "33      9           11\n",
       "34     17           11\n",
       "35     68           10\n",
       "36     73            8\n",
       "37     14            8\n",
       "38     40            7\n",
       "39     13            7"
      ]
     },
     "metadata": {},
     "output_type": "display_data"
    }
   ],
   "source": [
    "#CHOOSE NBR OF CLUSTER & MOST IMPORTANT CLUSTER\n",
    "#lets define it as the animal with the smallest squared average distance to all others from the same cluster\n",
    "#chose which clustering results oyu want to visualise \n",
    "#[i for i in df_ari['clusteringID1'].tolist() if i.startswith('enddayfixed_startingDIB-1_nbrcluster-5_')]\n",
    "'''for nbr_cl in li_nbr_cluster:   \n",
    "    name_clustering = 'ALL_MLPS_'+str(nbr_cl)\n",
    "    print(name_clustering)\n",
    "    print(df_res[name_clustering].value_counts())'''\n",
    "name_clustering = 'ALL_MLPS_99'\n",
    "#first, make clustersID as string to avoid confusion\n",
    "df_plt = df_res[name_clustering].value_counts().reset_index()\n",
    "display(df_plt[0:40])\n",
    "\n",
    "#then, select the 7 most important clusters\n",
    "li_clmostimportant = df_plt['index'][0:9].tolist()"
   ]
  },
  {
   "cell_type": "code",
   "execution_count": 15,
   "metadata": {},
   "outputs": [
    {
     "name": "stderr",
     "output_type": "stream",
     "text": [
      "C:\\Users\\camil\\anaconda3\\lib\\site-packages\\ipykernel\\ipkernel.py:283: DeprecationWarning: `should_run_async` will not call `transform_cell` automatically in the future. Please pass the result to `transformed_cell` argument and any exception that happen during thetransform in `preprocessing_exc_tuple` in IPython 7.17 and above.\n",
      "  and should_run_async(code)\n"
     ]
    }
   ],
   "source": [
    "#create one folder per cluster\n",
    "#nbr_cluster_ = len(df_res[name_clustering].unique())\n",
    "path_cluster_visual = os.path.join(path_extracted_data_visual_adap_clustering_V, name_clustering)\n",
    "if not os.path.exists(path_cluster_visual):\n",
    "    os.makedirs(path_cluster_visual)"
   ]
  },
  {
   "cell_type": "code",
   "execution_count": 12,
   "metadata": {},
   "outputs": [
    {
     "name": "stdout",
     "output_type": "stream",
     "text": [
      "(5146, 114)\n"
     ]
    },
    {
     "name": "stderr",
     "output_type": "stream",
     "text": [
      "C:\\Users\\camil\\anaconda3\\lib\\site-packages\\ipykernel\\ipkernel.py:283: DeprecationWarning: `should_run_async` will not call `transform_cell` automatically in the future. Please pass the result to `transformed_cell` argument and any exception that happen during thetransform in `preprocessing_exc_tuple` in IPython 7.17 and above.\n",
      "  and should_run_async(code)\n"
     ]
    },
    {
     "data": {
      "text/html": [
       "<div>\n",
       "<style scoped>\n",
       "    .dataframe tbody tr th:only-of-type {\n",
       "        vertical-align: middle;\n",
       "    }\n",
       "\n",
       "    .dataframe tbody tr th {\n",
       "        vertical-align: top;\n",
       "    }\n",
       "\n",
       "    .dataframe thead th {\n",
       "        text-align: right;\n",
       "    }\n",
       "</style>\n",
       "<table border=\"1\" class=\"dataframe\">\n",
       "  <thead>\n",
       "    <tr style=\"text-align: right;\">\n",
       "      <th></th>\n",
       "      <th>WIB</th>\n",
       "      <th>PenID</th>\n",
       "      <th>ALL_MLPS_99</th>\n",
       "    </tr>\n",
       "  </thead>\n",
       "  <tbody>\n",
       "    <tr>\n",
       "      <th>0</th>\n",
       "      <td>3</td>\n",
       "      <td>pen12</td>\n",
       "      <td>cl_67</td>\n",
       "    </tr>\n",
       "    <tr>\n",
       "      <th>1</th>\n",
       "      <td>5</td>\n",
       "      <td>pen10</td>\n",
       "      <td>cl_0</td>\n",
       "    </tr>\n",
       "    <tr>\n",
       "      <th>2</th>\n",
       "      <td>8</td>\n",
       "      <td>pen10</td>\n",
       "      <td>cl_64</td>\n",
       "    </tr>\n",
       "  </tbody>\n",
       "</table>\n",
       "</div>"
      ],
      "text/plain": [
       "   WIB  PenID ALL_MLPS_99\n",
       "0    3  pen12       cl_67\n",
       "1    5  pen10        cl_0\n",
       "2    8  pen10       cl_64"
      ]
     },
     "execution_count": 12,
     "metadata": {},
     "output_type": "execute_result"
    }
   ],
   "source": [
    "#add hen info\n",
    "df_info = pd.merge(df_res, df_FB, on='HenID', how='left')\n",
    "df_info['WIB'] = df_info['DIB'].map(lambda x: int((x-1)/7)+1)\n",
    "df_info['PenID'] = df_info['PenID'].map(lambda x: 'pen'+str(x))\n",
    "df_info[name_clustering] = df_info[name_clustering].map(lambda x: 'cl_'+str(x))\n",
    "print(df_info.shape)\n",
    "df_info[['WIB','PenID',name_clustering]].head(3)"
   ]
  },
  {
   "cell_type": "markdown",
   "metadata": {},
   "source": [
    "### plot across DIB"
   ]
  },
  {
   "cell_type": "code",
   "execution_count": 16,
   "metadata": {},
   "outputs": [
    {
     "name": "stderr",
     "output_type": "stream",
     "text": [
      "C:\\Users\\camil\\anaconda3\\lib\\site-packages\\ipykernel\\ipkernel.py:283: DeprecationWarning: `should_run_async` will not call `transform_cell` automatically in the future. Please pass the result to `transformed_cell` argument and any exception that happen during thetransform in `preprocessing_exc_tuple` in IPython 7.17 and above.\n",
      "  and should_run_async(code)\n"
     ]
    }
   ],
   "source": [
    "fig = dxp.count('DIB', data=df_res[df_res[name_clustering].isin(li_clmostimportant)], split=name_clustering)\n",
    "fig.savefig(os.path.join(path_cluster_visual,'cluster_DIB.png'))\n",
    "#small verification\n",
    "#df_res.groupby(['DIB',name_clustering])['HenID'].count().reset_index()"
   ]
  },
  {
   "cell_type": "code",
   "execution_count": 17,
   "metadata": {},
   "outputs": [
    {
     "name": "stderr",
     "output_type": "stream",
     "text": [
      "C:\\Users\\camil\\anaconda3\\lib\\site-packages\\ipykernel\\ipkernel.py:283: DeprecationWarning: `should_run_async` will not call `transform_cell` automatically in the future. Please pass the result to `transformed_cell` argument and any exception that happen during thetransform in `preprocessing_exc_tuple` in IPython 7.17 and above.\n",
      "  and should_run_async(code)\n"
     ]
    },
    {
     "data": {
      "image/png": "[encoded data removed]",
      "text/plain": [
       "<Figure size 3600x316.8 with 1 Axes>"
      ]
     },
     "execution_count": 17,
     "metadata": {},
     "output_type": "execute_result"
    }
   ],
   "source": [
    "dxp.count('DIB', data=df_res[df_res[name_clustering].isin(li_clmostimportant)], split=name_clustering)"
   ]
  },
  {
   "cell_type": "markdown",
   "metadata": {},
   "source": [
    "### plot cluster across pens & class"
   ]
  },
  {
   "cell_type": "code",
   "execution_count": 26,
   "metadata": {},
   "outputs": [
    {
     "name": "stderr",
     "output_type": "stream",
     "text": [
      "C:\\Users\\camil\\anaconda3\\lib\\site-packages\\ipykernel\\ipkernel.py:283: DeprecationWarning: `should_run_async` will not call `transform_cell` automatically in the future. Please pass the result to `transformed_cell` argument and any exception that happen during thetransform in `preprocessing_exc_tuple` in IPython 7.17 and above.\n",
      "  and should_run_async(code)\n"
     ]
    }
   ],
   "source": [
    "li_clmostimportant = ['cl_'+str(i) for i in li_clmostimportant]"
   ]
  },
  {
   "cell_type": "code",
   "execution_count": 27,
   "metadata": {},
   "outputs": [
    {
     "name": "stderr",
     "output_type": "stream",
     "text": [
      "C:\\Users\\camil\\anaconda3\\lib\\site-packages\\ipykernel\\ipkernel.py:283: DeprecationWarning: `should_run_async` will not call `transform_cell` automatically in the future. Please pass the result to `transformed_cell` argument and any exception that happen during thetransform in `preprocessing_exc_tuple` in IPython 7.17 and above.\n",
      "  and should_run_async(code)\n"
     ]
    },
    {
     "data": {
      "image/png": "[encoded data removed]",
      "text/plain": [
       "<Figure size 981.504x316.8 with 1 Axes>"
      ]
     },
     "execution_count": 27,
     "metadata": {},
     "output_type": "execute_result"
    }
   ],
   "source": [
    "dxp.count('PenID', data=df_info[df_info[name_clustering].isin(li_clmostimportant)], split=name_clustering)"
   ]
  },
  {
   "cell_type": "code",
   "execution_count": 28,
   "metadata": {},
   "outputs": [
    {
     "name": "stderr",
     "output_type": "stream",
     "text": [
      "C:\\Users\\camil\\anaconda3\\lib\\site-packages\\ipykernel\\ipkernel.py:283: DeprecationWarning: `should_run_async` will not call `transform_cell` automatically in the future. Please pass the result to `transformed_cell` argument and any exception that happen during thetransform in `preprocessing_exc_tuple` in IPython 7.17 and above.\n",
      "  and should_run_async(code)\n"
     ]
    },
    {
     "data": {
      "image/png": "[encoded data removed]",
      "text/plain": [
       "<Figure size 594.432x316.8 with 1 Axes>"
      ]
     },
     "execution_count": 28,
     "metadata": {},
     "output_type": "execute_result"
    }
   ],
   "source": [
    "dxp.count('R-Pen', data=df_info[df_info[name_clustering].isin(li_clmostimportant)], split=name_clustering) "
   ]
  },
  {
   "cell_type": "code",
   "execution_count": 29,
   "metadata": {},
   "outputs": [
    {
     "name": "stderr",
     "output_type": "stream",
     "text": [
      "C:\\Users\\camil\\anaconda3\\lib\\site-packages\\ipykernel\\ipkernel.py:283: DeprecationWarning: `should_run_async` will not call `transform_cell` automatically in the future. Please pass the result to `transformed_cell` argument and any exception that happen during thetransform in `preprocessing_exc_tuple` in IPython 7.17 and above.\n",
      "  and should_run_async(code)\n"
     ]
    },
    {
     "data": {
      "image/png": "[encoded data removed]",
      "text/plain": [
       "<Figure size 691.2x316.8 with 1 Axes>"
      ]
     },
     "execution_count": 29,
     "metadata": {},
     "output_type": "execute_result"
    }
   ],
   "source": [
    "dxp.count('CLASS', data=df_info[df_info[name_clustering].isin(li_clmostimportant)], split=name_clustering) "
   ]
  },
  {
   "cell_type": "code",
   "execution_count": 30,
   "metadata": {},
   "outputs": [
    {
     "name": "stderr",
     "output_type": "stream",
     "text": [
      "C:\\Users\\camil\\anaconda3\\lib\\site-packages\\ipykernel\\ipkernel.py:283: DeprecationWarning: `should_run_async` will not call `transform_cell` automatically in the future. Please pass the result to `transformed_cell` argument and any exception that happen during thetransform in `preprocessing_exc_tuple` in IPython 7.17 and above.\n",
      "  and should_run_async(code)\n"
     ]
    },
    {
     "data": {
      "image/png": "[encoded data removed]",
      "text/plain": [
       "<Figure size 400.896x316.8 with 1 Axes>"
      ]
     },
     "execution_count": 30,
     "metadata": {},
     "output_type": "execute_result"
    }
   ],
   "source": [
    "dxp.count('Treatment', data=df_info[df_info[name_clustering].isin(li_clmostimportant)], split=name_clustering)"
   ]
  },
  {
   "cell_type": "markdown",
   "metadata": {},
   "source": [
    "### plot most representative MLPs within most important cluster"
   ]
  },
  {
   "cell_type": "code",
   "execution_count": 31,
   "metadata": {},
   "outputs": [
    {
     "name": "stderr",
     "output_type": "stream",
     "text": [
      "C:\\Users\\camil\\anaconda3\\lib\\site-packages\\ipykernel\\ipkernel.py:283: DeprecationWarning: `should_run_async` will not call `transform_cell` automatically in the future. Please pass the result to `transformed_cell` argument and any exception that happen during thetransform in `preprocessing_exc_tuple` in IPython 7.17 and above.\n",
      "  and should_run_async(code)\n"
     ]
    },
    {
     "name": "stdout",
     "output_type": "stream",
     "text": [
      "(13238085, 15)\n",
      "(2333769, 15)\n"
     ]
    },
    {
     "data": {
      "text/html": [
       "<div>\n",
       "<style scoped>\n",
       "    .dataframe tbody tr th:only-of-type {\n",
       "        vertical-align: middle;\n",
       "    }\n",
       "\n",
       "    .dataframe tbody tr th {\n",
       "        vertical-align: top;\n",
       "    }\n",
       "\n",
       "    .dataframe thead th {\n",
       "        text-align: right;\n",
       "    }\n",
       "</style>\n",
       "<table border=\"1\" class=\"dataframe\">\n",
       "  <thead>\n",
       "    <tr style=\"text-align: right;\">\n",
       "      <th></th>\n",
       "      <th>MLPID</th>\n",
       "      <th>distance</th>\n",
       "    </tr>\n",
       "    <tr>\n",
       "      <th>clID</th>\n",
       "      <th></th>\n",
       "      <th></th>\n",
       "    </tr>\n",
       "  </thead>\n",
       "  <tbody>\n",
       "    <tr>\n",
       "      <th>0</th>\n",
       "      <td>[hen_141-15, hen_18-47, hen_47-23, hen_53-23, ...</td>\n",
       "      <td>[0.4140319308950203, 0.5788442673777615, 0.660...</td>\n",
       "    </tr>\n",
       "    <tr>\n",
       "      <th>1</th>\n",
       "      <td>[hen_7-49, hen_66-40, hen_92-53, hen_75-43, he...</td>\n",
       "      <td>[0.4435277754972306, 0.4720794968602634, 0.892...</td>\n",
       "    </tr>\n",
       "    <tr>\n",
       "      <th>2</th>\n",
       "      <td>[hen_59-26, hen_3-41, hen_113-31, hen_124-51, ...</td>\n",
       "      <td>[0.49812097456836646, 0.5029756410067568, 0.79...</td>\n",
       "    </tr>\n",
       "    <tr>\n",
       "      <th>3</th>\n",
       "      <td>[hen_138-15, hen_1-53, hen_49-22, hen_54-18, h...</td>\n",
       "      <td>[0.43271311126177253, 0.4880056263474187, 0.61...</td>\n",
       "    </tr>\n",
       "    <tr>\n",
       "      <th>4</th>\n",
       "      <td>[hen_67-45, hen_88-45, hen_67-54, hen_134-52, ...</td>\n",
       "      <td>[0.46433917806774133, 0.4759748453914136, 0.84...</td>\n",
       "    </tr>\n",
       "    <tr>\n",
       "      <th>...</th>\n",
       "      <td>...</td>\n",
       "      <td>...</td>\n",
       "    </tr>\n",
       "    <tr>\n",
       "      <th>93</th>\n",
       "      <td>[hen_85-46, hen_85-54, hen_85-47]</td>\n",
       "      <td>[0.3948000152059152, 0.41496450042542105, 0.82...</td>\n",
       "    </tr>\n",
       "    <tr>\n",
       "      <th>94</th>\n",
       "      <td>[hen_110-36, hen_112-25, hen_29-35, hen_110-34...</td>\n",
       "      <td>[0.4470710334630884, 0.45995296517576006, 0.78...</td>\n",
       "    </tr>\n",
       "    <tr>\n",
       "      <th>96</th>\n",
       "      <td>[hen_133-41, hen_90-41, hen_126-42, hen_126-40...</td>\n",
       "      <td>[0.40360199195253693, 0.41611538226567046, 0.7...</td>\n",
       "    </tr>\n",
       "    <tr>\n",
       "      <th>97</th>\n",
       "      <td>[hen_17-25, hen_128-26]</td>\n",
       "      <td>[0.4343650491619712, 0.4343650491619712]</td>\n",
       "    </tr>\n",
       "    <tr>\n",
       "      <th>98</th>\n",
       "      <td>[hen_141-39, hen_150-38, hen_138-48, hen_112-3...</td>\n",
       "      <td>[0.42074146901498066, 0.4358903650734585, 0.79...</td>\n",
       "    </tr>\n",
       "  </tbody>\n",
       "</table>\n",
       "<p>89 rows × 2 columns</p>\n",
       "</div>"
      ],
      "text/plain": [
       "                                                  MLPID  \\\n",
       "clID                                                      \n",
       "0     [hen_141-15, hen_18-47, hen_47-23, hen_53-23, ...   \n",
       "1     [hen_7-49, hen_66-40, hen_92-53, hen_75-43, he...   \n",
       "2     [hen_59-26, hen_3-41, hen_113-31, hen_124-51, ...   \n",
       "3     [hen_138-15, hen_1-53, hen_49-22, hen_54-18, h...   \n",
       "4     [hen_67-45, hen_88-45, hen_67-54, hen_134-52, ...   \n",
       "...                                                 ...   \n",
       "93                    [hen_85-46, hen_85-54, hen_85-47]   \n",
       "94    [hen_110-36, hen_112-25, hen_29-35, hen_110-34...   \n",
       "96    [hen_133-41, hen_90-41, hen_126-42, hen_126-40...   \n",
       "97                              [hen_17-25, hen_128-26]   \n",
       "98    [hen_141-39, hen_150-38, hen_138-48, hen_112-3...   \n",
       "\n",
       "                                               distance  \n",
       "clID                                                     \n",
       "0     [0.4140319308950203, 0.5788442673777615, 0.660...  \n",
       "1     [0.4435277754972306, 0.4720794968602634, 0.892...  \n",
       "2     [0.49812097456836646, 0.5029756410067568, 0.79...  \n",
       "3     [0.43271311126177253, 0.4880056263474187, 0.61...  \n",
       "4     [0.46433917806774133, 0.4759748453914136, 0.84...  \n",
       "...                                                 ...  \n",
       "93    [0.3948000152059152, 0.41496450042542105, 0.82...  \n",
       "94    [0.4470710334630884, 0.45995296517576006, 0.78...  \n",
       "96    [0.40360199195253693, 0.41611538226567046, 0.7...  \n",
       "97             [0.4343650491619712, 0.4343650491619712]  \n",
       "98    [0.42074146901498066, 0.4358903650734585, 0.79...  \n",
       "\n",
       "[89 rows x 2 columns]"
      ]
     },
     "metadata": {},
     "output_type": "display_data"
    },
    {
     "data": {
      "text/plain": [
       "583"
      ]
     },
     "execution_count": 31,
     "metadata": {},
     "output_type": "execute_result"
    }
   ],
   "source": [
    "#selected the most represenatative MLPS aross all different hens in the clusters\n",
    "dico_mlp_clID = dict(zip(df_res['MLPID'].tolist(), df_res[name_clustering].tolist()))\n",
    "df_mr = df_inter.copy()\n",
    "df_mr['MLPID1_cl'] = df_mr['MLPID1'].map(lambda x: dico_mlp_clID[x])\n",
    "df_mr['MLPID2_cl'] = df_mr['MLPID2'].map(lambda x: dico_mlp_clID[x])\n",
    "print(df_mr.shape)\n",
    "#keep only distance between two mlps from same cluster\n",
    "df_mr = df_mr[df_mr['MLPID1_cl']==df_mr['MLPID2_cl']]\n",
    "print(df_mr.shape)\n",
    "\n",
    "#average distance per element, do first MLPID1 then MLPID2, then merge on MLP and sum the distance\n",
    "df_mrh1 = df_mr.groupby(['MLPID1'])[V].agg(lambda x: sum(x)/len(x)).reset_index()\n",
    "df_mrh1.rename(columns={'MLPID1':'MLPID'},inplace=True)\n",
    "df_mrh2 = df_mr.groupby(['MLPID2'])[V].agg(lambda x: sum(x)/len(x)).reset_index()\n",
    "df_mrh2.rename(columns={'MLPID2':'MLPID'},inplace=True)\n",
    "df_mr_all = pd.merge(df_mrh1, df_mrh2, on='MLPID', how='outer')\n",
    "df_mr_all['distance'] = df_mr_all.apply(lambda x: np.nansum([x[V+'_x'], x[V+'_y']]), axis=1)\n",
    "df_mr_all['clID'] = df_mr_all['MLPID'].map(lambda x: dico_mlp_clID[x])\n",
    "df_mr_all = df_mr_all.sort_values(['distance']).groupby(['clID'])[['MLPID','distance']].agg(lambda x: list(x))\n",
    "display(df_mr_all)\n",
    "nbr_mlps = 10\n",
    "li_msmlps = df_mr_all['MLPID'].tolist()\n",
    "li_msmlps = [i[0:nbr_mlps] for i in li_msmlps]\n",
    "li_msmlps = [j for i in li_msmlps for j in i]\n",
    "len(li_msmlps)"
   ]
  },
  {
   "cell_type": "code",
   "execution_count": 32,
   "metadata": {},
   "outputs": [
    {
     "name": "stderr",
     "output_type": "stream",
     "text": [
      "C:\\Users\\camil\\anaconda3\\lib\\site-packages\\ipykernel\\ipkernel.py:283: DeprecationWarning: `should_run_async` will not call `transform_cell` automatically in the future. Please pass the result to `transformed_cell` argument and any exception that happen during thetransform in `preprocessing_exc_tuple` in IPython 7.17 and above.\n",
      "  and should_run_async(code)\n"
     ]
    },
    {
     "name": "stdout",
     "output_type": "stream",
     "text": [
      "(963966, 16)\n"
     ]
    },
    {
     "data": {
      "text/html": [
       "<div>\n",
       "<style scoped>\n",
       "    .dataframe tbody tr th:only-of-type {\n",
       "        vertical-align: middle;\n",
       "    }\n",
       "\n",
       "    .dataframe tbody tr th {\n",
       "        vertical-align: top;\n",
       "    }\n",
       "\n",
       "    .dataframe thead th {\n",
       "        text-align: right;\n",
       "    }\n",
       "</style>\n",
       "<table border=\"1\" class=\"dataframe\">\n",
       "  <thead>\n",
       "    <tr style=\"text-align: right;\">\n",
       "      <th></th>\n",
       "      <th>HenID</th>\n",
       "      <th>PenID</th>\n",
       "      <th>system</th>\n",
       "      <th>Zone</th>\n",
       "      <th>model_prediction</th>\n",
       "      <th>Timestamp</th>\n",
       "      <th>date</th>\n",
       "      <th>next_record_date</th>\n",
       "      <th>duration</th>\n",
       "      <th>previous_record_date</th>\n",
       "      <th>previous_duration</th>\n",
       "      <th>next_zone</th>\n",
       "      <th>previous_zone</th>\n",
       "      <th>previous_previous_zone</th>\n",
       "      <th>correction_is_consecutive_equal_initial_zone</th>\n",
       "      <th>is_WG_open</th>\n",
       "    </tr>\n",
       "  </thead>\n",
       "  <tbody>\n",
       "    <tr>\n",
       "      <th>0</th>\n",
       "      <td>hen_71</td>\n",
       "      <td>pen12</td>\n",
       "      <td>10 - 12</td>\n",
       "      <td>3_Zone</td>\n",
       "      <td>1.0</td>\n",
       "      <td>2020-09-29 09:07:00</td>\n",
       "      <td>2020-09-29</td>\n",
       "      <td>2020-09-29 09:08:26.000</td>\n",
       "      <td>0 days 00:01:26</td>\n",
       "      <td>NaN</td>\n",
       "      <td>NaN</td>\n",
       "      <td>3_Zone</td>\n",
       "      <td>NaN</td>\n",
       "      <td>NaN</td>\n",
       "      <td>False</td>\n",
       "      <td>False</td>\n",
       "    </tr>\n",
       "    <tr>\n",
       "      <th>1</th>\n",
       "      <td>hen_7</td>\n",
       "      <td>pen11</td>\n",
       "      <td>10 - 12</td>\n",
       "      <td>3_Zone</td>\n",
       "      <td>1.0</td>\n",
       "      <td>2020-09-29 09:08:12</td>\n",
       "      <td>2020-09-29</td>\n",
       "      <td>2020-09-29 09:12:16.000</td>\n",
       "      <td>0 days 00:04:04</td>\n",
       "      <td>NaN</td>\n",
       "      <td>NaN</td>\n",
       "      <td>3_Zone</td>\n",
       "      <td>NaN</td>\n",
       "      <td>NaN</td>\n",
       "      <td>False</td>\n",
       "      <td>False</td>\n",
       "    </tr>\n",
       "    <tr>\n",
       "      <th>2</th>\n",
       "      <td>hen_10</td>\n",
       "      <td>pen11</td>\n",
       "      <td>10 - 12</td>\n",
       "      <td>3_Zone</td>\n",
       "      <td>1.0</td>\n",
       "      <td>2020-09-29 09:19:19</td>\n",
       "      <td>2020-09-29</td>\n",
       "      <td>2020-09-29 09:20:27.000</td>\n",
       "      <td>0 days 00:01:08</td>\n",
       "      <td>NaN</td>\n",
       "      <td>NaN</td>\n",
       "      <td>3_Zone</td>\n",
       "      <td>NaN</td>\n",
       "      <td>NaN</td>\n",
       "      <td>False</td>\n",
       "      <td>False</td>\n",
       "    </tr>\n",
       "  </tbody>\n",
       "</table>\n",
       "</div>"
      ],
      "text/plain": [
       "    HenID  PenID   system    Zone  model_prediction           Timestamp  \\\n",
       "0  hen_71  pen12  10 - 12  3_Zone               1.0 2020-09-29 09:07:00   \n",
       "1   hen_7  pen11  10 - 12  3_Zone               1.0 2020-09-29 09:08:12   \n",
       "2  hen_10  pen11  10 - 12  3_Zone               1.0 2020-09-29 09:19:19   \n",
       "\n",
       "        date         next_record_date         duration previous_record_date  \\\n",
       "0 2020-09-29  2020-09-29 09:08:26.000  0 days 00:01:26                  NaN   \n",
       "1 2020-09-29  2020-09-29 09:12:16.000  0 days 00:04:04                  NaN   \n",
       "2 2020-09-29  2020-09-29 09:20:27.000  0 days 00:01:08                  NaN   \n",
       "\n",
       "  previous_duration next_zone previous_zone previous_previous_zone  \\\n",
       "0               NaN    3_Zone           NaN                    NaN   \n",
       "1               NaN    3_Zone           NaN                    NaN   \n",
       "2               NaN    3_Zone           NaN                    NaN   \n",
       "\n",
       "   correction_is_consecutive_equal_initial_zone  is_WG_open  \n",
       "0                                         False       False  \n",
       "1                                         False       False  \n",
       "2                                         False       False  "
      ]
     },
     "execution_count": 32,
     "metadata": {},
     "output_type": "execute_result"
    }
   ],
   "source": [
    "#open cleaned mvt data\n",
    "df = pd.read_csv(os.path.join(path_extracted_data, id_run+'_CLEANEDDATA.csv'), sep=';', parse_dates=['Timestamp','date'],\n",
    "                 dayfirst=True) \n",
    "df = df[df['HenID'].isin(li_selected_hens)]\n",
    "print(df.shape)\n",
    "df.head(3)\n",
    "#small verification with the initial raw data, this cleaned data and the visual\n",
    "#df[df['HenID']=='hen_1'].head(30)"
   ]
  },
  {
   "cell_type": "code",
   "execution_count": 54,
   "metadata": {},
   "outputs": [
    {
     "name": "stderr",
     "output_type": "stream",
     "text": [
      "C:\\Users\\camil\\anaconda3\\lib\\site-packages\\ipykernel\\ipkernel.py:283: DeprecationWarning: `should_run_async` will not call `transform_cell` automatically in the future. Please pass the result to `transformed_cell` argument and any exception that happen during thetransform in `preprocessing_exc_tuple` in IPython 7.17 and above.\n",
      "  and should_run_async(code)\n",
      "100%|████████████████████████████████████████████████████████████████████████████████| 121/121 [53:47<00:00, 26.67s/it]\n"
     ]
    }
   ],
   "source": [
    "#create a dico with keys=henID and values their respective list of the mlps that is a most representative one (i.e. to plot)\n",
    "dico_hen_mlps = defaultdict(list)\n",
    "for x in li_msmlps:\n",
    "     dico_hen_mlps[x.split('-')[0]].append(x)\n",
    "dico_hen_mlps = dict(dico_hen_mlps)\n",
    "dico_hen_mlps\n",
    "\n",
    "#initializse MLPs' clustersID\n",
    "dico_MLPID_cl = dict(zip(df_res['MLPID'].tolist(), df_res[name_clustering].tolist()))\n",
    "    \n",
    "#to long to see results (i.e. open each folder is long)\n",
    "    #for clID in set(dico_MLPID_cl.values()):\n",
    "#    path__ = os.path.join(path_cluster_visual, str(clID))\n",
    "#    if not os.path.exists(path__):\n",
    "#        os.makedirs(path__)\n",
    "\n",
    "df = df.sort_values(['Timestamp'])\n",
    "#for each hen plot all its correponding MLPs\n",
    "for henID,li_MLPID in tqdm.tqdm(dico_hen_mlps.items()):\n",
    "\n",
    "    #select mvt form this hen only and convert into ts\n",
    "    df_plt_ = df[(df['date']<=dt.datetime(2020,11,23))&(df['date']>=dt.datetime(2020,9,29))&(df['HenID']==henID)].copy()\n",
    "    mi = min(df_plt_['Timestamp'].tolist()) ; ma = max(df_plt_['Timestamp'].tolist())\n",
    "    Daterange = pd.date_range(start = mi+dt.timedelta(seconds=(60-mi.second)), \n",
    "                              end = ma-dt.timedelta(seconds=(ma.second+1)), \n",
    "                              freq = 'S') \n",
    "    df_plt_.set_index('Timestamp', inplace=True)\n",
    "    df_plt_ = df_plt_.reindex(Daterange, method='ffill').reset_index()\n",
    "    df_plt_.rename(columns={'index':'Timestamp'}, inplace=True)\n",
    "    #add date again, as the reindexing also extended the date\n",
    "    df_plt_['date'] = df_plt_['Timestamp'].map(lambda x: dt.datetime.date(x))\n",
    "    #remove first & last date\n",
    "    df_plt_ = df_plt_[~df_plt_['date'].isin([max(df_plt_['date'].tolist()),min(df_plt_['date'].tolist())])]\n",
    "    #put xlabel into numbers for the ploting\n",
    "    df_plt_['Zone'] = df_plt_['Zone'].map(lambda x: int(config.dico_zone_order[x]))   \n",
    "\n",
    "    #plot the mlps of interest (i.e. at specific dates)\n",
    "    for MLPID in li_MLPID:\n",
    "        #extract corresponding date\n",
    "        dib = int(MLPID.split('-')[1])\n",
    "        d = dt.date(2020,9,29)+dt.timedelta(days=dib) #2020, 9, 30 is DIB=1 #should date as in df_Plt_ date is a date\n",
    "        #extract corresponding cluster\n",
    "        clID = dico_MLPID_cl[MLPID]\n",
    "        \n",
    "        #only for most important clusters\n",
    "        #if clID in li_clmostimportant:\n",
    "        #extract corresponding ts\n",
    "        df_plt__ = df_plt_[df_plt_['date']==d]\n",
    "\n",
    "        #plot \n",
    "        if df_plt__.shape[0]>0:\n",
    "            plt.figure(figsize=(7,2))\n",
    "            plt.plot(df_plt__['Timestamp'].tolist(), df_plt__['Zone'].tolist(), linewidth=1)\n",
    "            plt.yticks([0,1,2,3,4], ['Winter garden', 'Litter', 'Lower perch','Nestbox','Top floor'])\n",
    "            li_hour = pd.date_range(start = d,  end = d+dt.timedelta(days=1), freq = 'H')\n",
    "            plt.xticks(li_hour , [str(i.hour)+'h' for i in li_hour], fontsize=5)                \n",
    "            plt.yticks(fontsize=8)\n",
    "            plt.xlabel(str(d).split('T')[0], size=7)\n",
    "            plt.ylim(0, 4.2)      \n",
    "            plt.title(MLPID)\n",
    "            plt.savefig(os.path.join(path_cluster_visual, str(clID)+'_'+MLPID+'.png'), format='png', bbox_inches='tight', dpi=300)\n",
    "            plt.close(\"all\")"
   ]
  },
  {
   "cell_type": "code",
   "execution_count": null,
   "metadata": {},
   "outputs": [],
   "source": []
  },
  {
   "cell_type": "code",
   "execution_count": null,
   "metadata": {},
   "outputs": [],
   "source": []
  },
  {
   "cell_type": "code",
   "execution_count": null,
   "metadata": {},
   "outputs": [],
   "source": []
  },
  {
   "cell_type": "code",
   "execution_count": null,
   "metadata": {},
   "outputs": [],
   "source": []
  },
  {
   "cell_type": "code",
   "execution_count": null,
   "metadata": {},
   "outputs": [],
   "source": []
  },
  {
   "cell_type": "code",
   "execution_count": null,
   "metadata": {},
   "outputs": [],
   "source": []
  }
 ],
 "metadata": {
  "kernelspec": {
   "display_name": "Python 3",
   "language": "python",
   "name": "python3"
  },
  "language_info": {
   "codemirror_mode": {
    "name": "ipython",
    "version": 3
   },
   "file_extension": ".py",
   "mimetype": "text/x-python",
   "name": "python",
   "nbconvert_exporter": "python",
   "pygments_lexer": "ipython3",
   "version": "3.8.5"
  }
 },
 "nbformat": 4,
 "nbformat_minor": 2
}
