{
 "cells": [
  {
   "cell_type": "code",
   "execution_count": 1,
   "metadata": {},
   "outputs": [],
   "source": [
    "#basic package\n",
    "import tqdm\n",
    "import os\n",
    "import numpy as np\n",
    "import glob\n",
    "import pandas as pd\n",
    "import sys\n",
    "import time\n",
    "import datetime as dt\n",
    "import itertools\n",
    "import re\n",
    "import math\n",
    "from collections import Counter\n",
    "import operator\n",
    "from scipy import stats\n",
    "from scipy.spatial.distance import cdist #for euclidean distance of consistency\n",
    "from numpy import inf\n",
    "import networkx as nx\n",
    "from dtaidistance import dtw\n",
    "import random\n",
    "from sklearn.preprocessing import normalize\n",
    "import uuid #to generate random id\n",
    "import pickle #to save/load list of selected hens\n",
    "\n",
    "#test equal variance\n",
    "from scipy.stats import levene\n",
    "\n",
    "#clustering\n",
    "from sklearn.cluster import AgglomerativeClustering \n",
    "\n",
    "#scaling\n",
    "from sklearn.preprocessing import StandardScaler, MinMaxScaler\n",
    "\n",
    "#interpolate curves for clustering among birds with not exact same days tracked\n",
    "#from scipy.interpolate import interp1d\n",
    "\n",
    "#modelling\n",
    "from sklearn.preprocessing import StandardScaler, MinMaxScaler\n",
    "from sklearn.utils import shuffle\n",
    "from sklearn.metrics import classification_report, confusion_matrix, plot_confusion_matrix, cohen_kappa_score, r2_score,\\\n",
    "mean_squared_error, mean_absolute_error, explained_variance_score#catboost, for a better support of categorical data\n",
    "from catboost import CatBoostClassifier, Pool\n",
    "from scipy.stats import pearsonr, spearmanr \n",
    "import scipy.stats as stats\n",
    "\n",
    "#PCA\n",
    "from sklearn import decomposition\n",
    "\n",
    "#clustering\n",
    "from sklearn.cluster import KMeans #only numerical var\n",
    "from sklearn.metrics import silhouette_samples, silhouette_score\n",
    "import kmodes\n",
    "from kmodes.kmodes import KModes #with categorical var as well\n",
    "\n",
    "#plot\n",
    "import matplotlib.pyplot as plt\n",
    "import seaborn as sns\n",
    "import dexplot as dxp #for barplot\n",
    "from mpl_toolkits.mplot3d import Axes3D"
   ]
  },
  {
   "cell_type": "code",
   "execution_count": 2,
   "metadata": {},
   "outputs": [
    {
     "name": "stderr",
     "output_type": "stream",
     "text": [
      "C:\\Users\\camil\\anaconda3\\lib\\site-packages\\scipy\\sparse\\sparsetools.py:21: DeprecationWarning: `scipy.sparse.sparsetools` is deprecated!\n",
      "scipy.sparse.sparsetools is a private module for scipy.sparse, and should not be used.\n",
      "  _deprecated()\n"
     ]
    }
   ],
   "source": [
    "PACKAGE_PARENT = '../'\n",
    "SCRIPT_DIR = os.path.dirname(os.path.realpath(os.path.join(os.getcwd(), os.path.expanduser('__file__'))))\n",
    "sys.path.append(os.path.normpath(os.path.join(SCRIPT_DIR, PACKAGE_PARENT)))\n",
    "from UTILS import chi2_distance, ts_visual, time_series_henColumn_tsRow, correct_key\n",
    "import config_origins as config"
   ]
  },
  {
   "cell_type": "markdown",
   "metadata": {},
   "source": [
    "# Define parameters"
   ]
  },
  {
   "cell_type": "code",
   "execution_count": 3,
   "metadata": {
    "scrolled": true
   },
   "outputs": [
    {
     "name": "stdout",
     "output_type": "stream",
     "text": [
      "change the configuration file if not done yet!\n",
      "correctlightschedule_\n"
     ]
    },
    {
     "name": "stderr",
     "output_type": "stream",
     "text": [
      "C:\\Users\\camil\\anaconda3\\lib\\site-packages\\ipykernel\\ipkernel.py:283: DeprecationWarning: `should_run_async` will not call `transform_cell` automatically in the future. Please pass the result to `transformed_cell` argument and any exception that happen during thetransform in `preprocessing_exc_tuple` in IPython 7.17 and above.\n",
      "  and should_run_async(code)\n"
     ]
    }
   ],
   "source": [
    "print('change the configuration file if not done yet!')\n",
    "path_extracted_data = config.path_extracted_data\n",
    "path_initial_data = config.path_initial_data\n",
    "id_run = config.id_run\n",
    "#id_run = 'chapter0_final_'\n",
    "#path_dataoutput = r'G:\\VPHI\\Welfare\\2- Research Projects\\OFHE2.OriginsE2\\DataOutput'\n",
    "#path_extracted_data = os.path.join(path_dataoutput,'TrackingSystem') \n",
    "#path_extracted_data = os.path.join(path_extracted_data, id_run)\n",
    "dico_night_hour = config.dico_night_hour\n",
    "dico_matching = config.dico_matching\n",
    "li_binmn = config.li_binmn\n",
    "penalty = config.penalty\n",
    "dico_window = config.dico_window\n",
    "pal_class_treat = config.pal_class_treat\n",
    "pal_treat = config.pal_treat\n",
    "pal_class = config.pal_class\n",
    "pal_interintre_treatment = config.pal_interintre_treatment\n",
    "max_date_adaptability = config.max_date_adaptability\n",
    "dico_pen_tr = config.dico_pen_tr\n",
    "path_extracted_data_visual = os.path.join(path_extracted_data,'visual')\n",
    "path_extracted_data_visual_corr = os.path.join(path_extracted_data,'visual','correlation')\n",
    "path_extracted_data_visual_adap = os.path.join(path_extracted_data,'visual','Treatment&Classs','adaptability')\n",
    "print(id_run)"
   ]
  },
  {
   "cell_type": "markdown",
   "metadata": {},
   "source": [
    "# Download variables"
   ]
  },
  {
   "cell_type": "code",
   "execution_count": 4,
   "metadata": {},
   "outputs": [
    {
     "name": "stderr",
     "output_type": "stream",
     "text": [
      "C:\\Users\\camil\\anaconda3\\lib\\site-packages\\ipykernel\\ipkernel.py:283: DeprecationWarning: `should_run_async` will not call `transform_cell` automatically in the future. Please pass the result to `transformed_cell` argument and any exception that happen during thetransform in `preprocessing_exc_tuple` in IPython 7.17 and above.\n",
      "  and should_run_async(code)\n"
     ]
    },
    {
     "data": {
      "text/plain": [
       "131"
      ]
     },
     "execution_count": 4,
     "metadata": {},
     "output_type": "execute_result"
    }
   ],
   "source": [
    "#selected hens\n",
    "li_selected_hens = pickle.load(open(os.path.join(path_extracted_data_visual_adap,'li_selected_hens.pkl'), 'rb'))\n",
    "len(li_selected_hens)"
   ]
  },
  {
   "cell_type": "markdown",
   "metadata": {},
   "source": [
    "#cleaned data of the tracking system movements\n",
    "df = pd.read_csv(os.path.join(path_extracted_data, id_run+'_CLEANEDDATA.csv'), sep=';', \n",
    "                 parse_dates=['Timestamp', 'date'], dayfirst=True) \n",
    "df = df[df['Timestamp']<=max_date_adaptability+dt.timedelta(days=2)] #add two days to have the next observations as well when doing the 1sec ts\n",
    "df['hour'] = df['Timestamp'].map(lambda x: x.hour)\n",
    "df['time'] = df['Timestamp'].map(lambda x: dt.datetime.time(x-dt.timedelta(seconds=x.second)))\n",
    "df = df[df['HenID'].isin(li_selected_hens)] \n",
    "df.drop('duration', axis=1, inplace=True)\n",
    "print(df.shape)\n",
    "df.head(3)"
   ]
  },
  {
   "cell_type": "code",
   "execution_count": 7,
   "metadata": {},
   "outputs": [
    {
     "name": "stderr",
     "output_type": "stream",
     "text": [
      "C:\\Users\\camil\\anaconda3\\lib\\site-packages\\ipykernel\\ipkernel.py:283: DeprecationWarning: `should_run_async` will not call `transform_cell` automatically in the future. Please pass the result to `transformed_cell` argument and any exception that happen during thetransform in `preprocessing_exc_tuple` in IPython 7.17 and above.\n",
      "  and should_run_async(code)\n"
     ]
    },
    {
     "name": "stdout",
     "output_type": "stream",
     "text": [
      "(27214, 199)\n",
      "(6721, 199)\n",
      "(6721, 199)\n",
      "(6721, 199)\n",
      "(6382, 199)\n",
      "(6382, 199)\n"
     ]
    },
    {
     "data": {
      "text/html": [
       "<div>\n",
       "<style scoped>\n",
       "    .dataframe tbody tr th:only-of-type {\n",
       "        vertical-align: middle;\n",
       "    }\n",
       "\n",
       "    .dataframe tbody tr th {\n",
       "        vertical-align: top;\n",
       "    }\n",
       "\n",
       "    .dataframe thead th {\n",
       "        text-align: right;\n",
       "    }\n",
       "</style>\n",
       "<table border=\"1\" class=\"dataframe\">\n",
       "  <thead>\n",
       "    <tr style=\"text-align: right;\">\n",
       "      <th></th>\n",
       "      <th>HenID</th>\n",
       "      <th>level</th>\n",
       "      <th>duration_1_Zone</th>\n",
       "      <th>duration_2_Zone</th>\n",
       "      <th>duration_3_Zone</th>\n",
       "      <th>duration_4_Zone</th>\n",
       "      <th>duration_5_Zone</th>\n",
       "      <th>verification_daily_total_duration</th>\n",
       "      <th>dur_values</th>\n",
       "      <th>dur_values_normalized</th>\n",
       "      <th>...</th>\n",
       "      <th>PC0</th>\n",
       "      <th>PC1</th>\n",
       "      <th>PC2</th>\n",
       "      <th>PC3</th>\n",
       "      <th>PC4</th>\n",
       "      <th>PC5</th>\n",
       "      <th>PC6</th>\n",
       "      <th>PC7</th>\n",
       "      <th>clustering_ALL</th>\n",
       "      <th>weeks_in_laying_barn</th>\n",
       "    </tr>\n",
       "  </thead>\n",
       "  <tbody>\n",
       "    <tr>\n",
       "      <th>0</th>\n",
       "      <td>hen_1</td>\n",
       "      <td>2020-09-30</td>\n",
       "      <td>0.0</td>\n",
       "      <td>18886.0</td>\n",
       "      <td>3488.0</td>\n",
       "      <td>518.0</td>\n",
       "      <td>5908.0</td>\n",
       "      <td>28800.0</td>\n",
       "      <td>[0.0, 18886.0, 3488.0, 518.0, 5908.0]</td>\n",
       "      <td>[0.0, 0.6557638888888889, 0.12111111111111111,...</td>\n",
       "      <td>...</td>\n",
       "      <td>NaN</td>\n",
       "      <td>NaN</td>\n",
       "      <td>NaN</td>\n",
       "      <td>NaN</td>\n",
       "      <td>NaN</td>\n",
       "      <td>NaN</td>\n",
       "      <td>NaN</td>\n",
       "      <td>NaN</td>\n",
       "      <td>NaN</td>\n",
       "      <td>1</td>\n",
       "    </tr>\n",
       "    <tr>\n",
       "      <th>1</th>\n",
       "      <td>hen_1</td>\n",
       "      <td>2020-10-01</td>\n",
       "      <td>0.0</td>\n",
       "      <td>9310.0</td>\n",
       "      <td>5636.0</td>\n",
       "      <td>0.0</td>\n",
       "      <td>17454.0</td>\n",
       "      <td>32400.0</td>\n",
       "      <td>[0.0, 9310.0, 5636.0, 0.0, 17454.0]</td>\n",
       "      <td>[0.0, 0.2873456790123457, 0.17395061728395061,...</td>\n",
       "      <td>...</td>\n",
       "      <td>NaN</td>\n",
       "      <td>NaN</td>\n",
       "      <td>NaN</td>\n",
       "      <td>NaN</td>\n",
       "      <td>NaN</td>\n",
       "      <td>NaN</td>\n",
       "      <td>NaN</td>\n",
       "      <td>NaN</td>\n",
       "      <td>NaN</td>\n",
       "      <td>1</td>\n",
       "    </tr>\n",
       "    <tr>\n",
       "      <th>2</th>\n",
       "      <td>hen_1</td>\n",
       "      <td>2020-10-02</td>\n",
       "      <td>0.0</td>\n",
       "      <td>0.0</td>\n",
       "      <td>551.0</td>\n",
       "      <td>0.0</td>\n",
       "      <td>31849.0</td>\n",
       "      <td>32400.0</td>\n",
       "      <td>[0.0, 0.0, 551.0, 0.0, 31849.0]</td>\n",
       "      <td>[0.0, 0.0, 0.017006172839506173, 0.0, 0.982993...</td>\n",
       "      <td>...</td>\n",
       "      <td>NaN</td>\n",
       "      <td>NaN</td>\n",
       "      <td>NaN</td>\n",
       "      <td>NaN</td>\n",
       "      <td>NaN</td>\n",
       "      <td>NaN</td>\n",
       "      <td>NaN</td>\n",
       "      <td>NaN</td>\n",
       "      <td>NaN</td>\n",
       "      <td>1</td>\n",
       "    </tr>\n",
       "  </tbody>\n",
       "</table>\n",
       "<p>3 rows × 199 columns</p>\n",
       "</div>"
      ],
      "text/plain": [
       "   HenID      level  duration_1_Zone  duration_2_Zone  duration_3_Zone  \\\n",
       "0  hen_1 2020-09-30              0.0          18886.0           3488.0   \n",
       "1  hen_1 2020-10-01              0.0           9310.0           5636.0   \n",
       "2  hen_1 2020-10-02              0.0              0.0            551.0   \n",
       "\n",
       "   duration_4_Zone  duration_5_Zone  verification_daily_total_duration  \\\n",
       "0            518.0           5908.0                            28800.0   \n",
       "1              0.0          17454.0                            32400.0   \n",
       "2              0.0          31849.0                            32400.0   \n",
       "\n",
       "                              dur_values  \\\n",
       "0  [0.0, 18886.0, 3488.0, 518.0, 5908.0]   \n",
       "1    [0.0, 9310.0, 5636.0, 0.0, 17454.0]   \n",
       "2        [0.0, 0.0, 551.0, 0.0, 31849.0]   \n",
       "\n",
       "                               dur_values_normalized  ... PC0 PC1 PC2 PC3 PC4  \\\n",
       "0  [0.0, 0.6557638888888889, 0.12111111111111111,...  ... NaN NaN NaN NaN NaN   \n",
       "1  [0.0, 0.2873456790123457, 0.17395061728395061,...  ... NaN NaN NaN NaN NaN   \n",
       "2  [0.0, 0.0, 0.017006172839506173, 0.0, 0.982993...  ... NaN NaN NaN NaN NaN   \n",
       "\n",
       "   PC5 PC6 PC7 clustering_ALL weeks_in_laying_barn  \n",
       "0  NaN NaN NaN            NaN                    1  \n",
       "1  NaN NaN NaN            NaN                    1  \n",
       "2  NaN NaN NaN            NaN                    1  \n",
       "\n",
       "[3 rows x 199 columns]"
      ]
     },
     "execution_count": 7,
     "metadata": {},
     "output_type": "execute_result"
    }
   ],
   "source": [
    "#daily variables (one row per (henID, date))\n",
    "df_daily = pd.read_csv(os.path.join(path_extracted_data, 'daily_ALL_Variable_Tranformed.csv'), sep=';',\n",
    "                     parse_dates=['level','FirstTimestamp_1_Zone', 'FirstTimestamp_2_Zone', 'FirstTimestamp_3_Zone',\n",
    "                              'FirstTimestamp_4_Zone', 'FirstTimestamp_5_Zone', \n",
    "                              'Nestbox_time_of_first_staid_longer_than900sec',\n",
    "                              'duration_last-firsttransition_mn'], dayfirst=True) \n",
    "df_daily['DOA'] = df_daily['level'].map(lambda x: (x-dt.datetime(2020,6,3)).days) \n",
    "df_daily['weeks_in_laying_barn'] = df_daily['DOA'].map(lambda x: int((x-119)/7)+1)\n",
    "#df_daily['weeks_in_laying_barn'] = df_daily['DOA'].map(lambda x: math.ceil(x/7))\n",
    "#first two month seems good from the %of hens not moving plot! and sounds good too (twice longer thatn they need to start moving)\n",
    "print(df_daily.shape)\n",
    "\n",
    "#filter by dates\n",
    "df_daily = df_daily[df_daily['level']<=max_date_adaptability] \n",
    "df_daily = df_daily[df_daily['level']>dt.datetime(2020,9,29)]\n",
    "\n",
    "#filter the selected hens\n",
    "df_daily = df_daily[df_daily['HenID'].isin(li_selected_hens)] \n",
    "\n",
    "#remove days that are not fully recorded\n",
    "df_daily['nbr_sec_per_day'] = df_daily['level'].map(lambda x: dico_night_hour[correct_key(x,dico_night_hour)]['nbr_hour']*60*60)\n",
    "df_daily['is_correct_amount_time'] = df_daily.apply(lambda x: x['nbr_sec_per_day']==x['verification_daily_total_duration'], axis=1)\n",
    "df_daily[(~df_daily['is_correct_amount_time'])&(~df_daily['Total_number_transition'].isnull())][['level', 'HenID', 'Total_number_transition', 'dur_values', 'verification_daily_total_duration','nbr_sec_per_day']]\n",
    "print(df_daily.shape)\n",
    "display(df_daily = df_daily[~((~df_daily['is_correct_amount_time'])&(~df_daily['Total_number_transition'].isnull()))])\n",
    "print(df_daily.shape)\n",
    "\n",
    "#remove the days where the night had movement recorded but not the days\n",
    "print(df_daily.shape)\n",
    "#display(df_daily[df_daily.isna().any(axis=1)])\n",
    "df_daily = df_daily[~df_daily['verification_daily_total_duration'].isnull()]\n",
    "print(df_daily.shape)\n",
    "\n",
    "df_daily['dur_values_normalized'].replace('[nan, nan, nan, nan, nan]','[np.nan,np.nan,np.nan,np.nan,np.nan]', inplace=True)\n",
    "df_daily['dur_values_normalized'] = df_daily['dur_values_normalized'].map(lambda x: eval(x))\n",
    "df_daily['duration_last-firsttransition_mn'] = df_daily['duration_last-firsttransition_mn'].astype(float)\n",
    "print(df_daily.shape)\n",
    "df_daily.head(3)"
   ]
  },
  {
   "cell_type": "raw",
   "metadata": {},
   "source": [
    "Note that the main difference with the 1_Treatment&ClassAdaptability_computation is that here we want to compute within any pen, not only between two birds from the same pen. Thus we do it separately."
   ]
  },
  {
   "cell_type": "code",
   "execution_count": 8,
   "metadata": {},
   "outputs": [
    {
     "name": "stderr",
     "output_type": "stream",
     "text": [
      "C:\\Users\\camil\\anaconda3\\lib\\site-packages\\ipykernel\\ipkernel.py:283: DeprecationWarning: `should_run_async` will not call `transform_cell` automatically in the future. Please pass the result to `transformed_cell` argument and any exception that happen during thetransform in `preprocessing_exc_tuple` in IPython 7.17 and above.\n",
      "  and should_run_async(code)\n"
     ]
    }
   ],
   "source": [
    "#download the MLPs vectors during day only! as we compare on same day, we can restrict to the exact daily calendar!\n",
    "dico_pen_bin_zone_level_h = pickle.load(open(os.path.join(path_extracted_data_visual_adap, \n",
    "                                                 id_run+'dico_pen_bin_zone_level_h_DAILYLEVEL.pkl'), 'rb'))\n",
    "dico_pen_bin_level_h = pickle.load(open(os.path.join(path_extracted_data_visual_adap, \n",
    "                                                     id_run+'dico_pen_bin_level_h_DAILYLEVEL.pkl'), 'rb'))\n",
    "#dico of hen as keys and pen as values\n",
    "df_daily['PenID'] = df_daily['PenID'].map(lambda x: 'pen'+(str(int(x))))\n",
    "dico_h_p = dict(zip(df_daily['HenID'].tolist(), df_daily['PenID'].tolist()))"
   ]
  },
  {
   "cell_type": "markdown",
   "metadata": {},
   "source": [
    "# Compute the distance across pairs of MLPS"
   ]
  },
  {
   "cell_type": "raw",
   "metadata": {},
   "source": [
    "compute mvt distances between hens on same day"
   ]
  },
  {
   "cell_type": "code",
   "execution_count": 9,
   "metadata": {},
   "outputs": [
    {
     "name": "stderr",
     "output_type": "stream",
     "text": [
      "C:\\Users\\camil\\anaconda3\\lib\\site-packages\\ipykernel\\ipkernel.py:283: DeprecationWarning: `should_run_async` will not call `transform_cell` automatically in the future. Please pass the result to `transformed_cell` argument and any exception that happen during thetransform in `preprocessing_exc_tuple` in IPython 7.17 and above.\n",
      "  and should_run_async(code)\n",
      "100%|███████████████████████████████████████████████████████████████████████████████| 52/52 [6:25:33<00:00, 444.87s/it]\n"
     ]
    },
    {
     "name": "stdout",
     "output_type": "stream",
     "text": [
      "['li_chi2_5', 'li_chi2_10', 'li_chi2_15', 'li_chi2_20', 'li_chi2_30']\n",
      "(397789, 100)\n"
     ]
    },
    {
     "data": {
      "text/html": [
       "<div>\n",
       "<style scoped>\n",
       "    .dataframe tbody tr th:only-of-type {\n",
       "        vertical-align: middle;\n",
       "    }\n",
       "\n",
       "    .dataframe tbody tr th {\n",
       "        vertical-align: top;\n",
       "    }\n",
       "\n",
       "    .dataframe thead th {\n",
       "        text-align: right;\n",
       "    }\n",
       "</style>\n",
       "<table border=\"1\" class=\"dataframe\">\n",
       "  <thead>\n",
       "    <tr style=\"text-align: right;\">\n",
       "      <th></th>\n",
       "      <th>level1</th>\n",
       "      <th>level2</th>\n",
       "      <th>henID1</th>\n",
       "      <th>henID2</th>\n",
       "      <th>chi2distance</th>\n",
       "      <th>DOA</th>\n",
       "      <th>WOA</th>\n",
       "      <th>nbr_obs_chi2all_5</th>\n",
       "      <th>li_chi2_5</th>\n",
       "      <th>chi2distance_ALL_5</th>\n",
       "      <th>...</th>\n",
       "      <th>nbr_obs_l2_30_5_Zone</th>\n",
       "      <th>DTW_30_4_Zone</th>\n",
       "      <th>nbr_obs_l1_30_4_Zone</th>\n",
       "      <th>nbr_obs_l2_30_4_Zone</th>\n",
       "      <th>DTW_30_1_Zone</th>\n",
       "      <th>nbr_obs_l1_30_1_Zone</th>\n",
       "      <th>nbr_obs_l2_30_1_Zone</th>\n",
       "      <th>weeks_in_laying_barn</th>\n",
       "      <th>hen_pair</th>\n",
       "      <th>DTW_15_all</th>\n",
       "    </tr>\n",
       "  </thead>\n",
       "  <tbody>\n",
       "    <tr>\n",
       "      <th>0</th>\n",
       "      <td>2020-09-30</td>\n",
       "      <td>2020-09-30</td>\n",
       "      <td>hen_1</td>\n",
       "      <td>hen_10</td>\n",
       "      <td>0.233889</td>\n",
       "      <td>119</td>\n",
       "      <td>17</td>\n",
       "      <td>97</td>\n",
       "      <td>[0.9999999999989999, 0.9999999999989999, 0.999...</td>\n",
       "      <td>0.676595</td>\n",
       "      <td>...</td>\n",
       "      <td>17</td>\n",
       "      <td>20.8</td>\n",
       "      <td>17</td>\n",
       "      <td>17</td>\n",
       "      <td>0.0</td>\n",
       "      <td>17</td>\n",
       "      <td>17</td>\n",
       "      <td>1</td>\n",
       "      <td>hen_1-hen_10</td>\n",
       "      <td>154.0</td>\n",
       "    </tr>\n",
       "    <tr>\n",
       "      <th>5686</th>\n",
       "      <td>2020-09-30</td>\n",
       "      <td>2020-09-30</td>\n",
       "      <td>hen_2</td>\n",
       "      <td>hen_47</td>\n",
       "      <td>0.341557</td>\n",
       "      <td>119</td>\n",
       "      <td>17</td>\n",
       "      <td>97</td>\n",
       "      <td>[0.9999999999989999, 0.9999999999989999, 0.023...</td>\n",
       "      <td>0.687179</td>\n",
       "      <td>...</td>\n",
       "      <td>17</td>\n",
       "      <td>23.0</td>\n",
       "      <td>17</td>\n",
       "      <td>17</td>\n",
       "      <td>0.0</td>\n",
       "      <td>17</td>\n",
       "      <td>17</td>\n",
       "      <td>1</td>\n",
       "      <td>hen_2-hen_47</td>\n",
       "      <td>158.6</td>\n",
       "    </tr>\n",
       "    <tr>\n",
       "      <th>5685</th>\n",
       "      <td>2020-09-30</td>\n",
       "      <td>2020-09-30</td>\n",
       "      <td>hen_2</td>\n",
       "      <td>hen_46</td>\n",
       "      <td>0.110694</td>\n",
       "      <td>119</td>\n",
       "      <td>17</td>\n",
       "      <td>97</td>\n",
       "      <td>[0.0, 0.0948905109484006, 0.5267175572512697, ...</td>\n",
       "      <td>0.647620</td>\n",
       "      <td>...</td>\n",
       "      <td>17</td>\n",
       "      <td>23.0</td>\n",
       "      <td>17</td>\n",
       "      <td>17</td>\n",
       "      <td>0.0</td>\n",
       "      <td>17</td>\n",
       "      <td>17</td>\n",
       "      <td>1</td>\n",
       "      <td>hen_2-hen_46</td>\n",
       "      <td>152.9</td>\n",
       "    </tr>\n",
       "  </tbody>\n",
       "</table>\n",
       "<p>3 rows × 100 columns</p>\n",
       "</div>"
      ],
      "text/plain": [
       "         level1     level2 henID1  henID2  chi2distance  DOA  WOA  \\\n",
       "0    2020-09-30 2020-09-30  hen_1  hen_10      0.233889  119   17   \n",
       "5686 2020-09-30 2020-09-30  hen_2  hen_47      0.341557  119   17   \n",
       "5685 2020-09-30 2020-09-30  hen_2  hen_46      0.110694  119   17   \n",
       "\n",
       "      nbr_obs_chi2all_5                                          li_chi2_5  \\\n",
       "0                    97  [0.9999999999989999, 0.9999999999989999, 0.999...   \n",
       "5686                 97  [0.9999999999989999, 0.9999999999989999, 0.023...   \n",
       "5685                 97  [0.0, 0.0948905109484006, 0.5267175572512697, ...   \n",
       "\n",
       "      chi2distance_ALL_5  ...  nbr_obs_l2_30_5_Zone  DTW_30_4_Zone  \\\n",
       "0               0.676595  ...                    17           20.8   \n",
       "5686            0.687179  ...                    17           23.0   \n",
       "5685            0.647620  ...                    17           23.0   \n",
       "\n",
       "      nbr_obs_l1_30_4_Zone  nbr_obs_l2_30_4_Zone  DTW_30_1_Zone  \\\n",
       "0                       17                    17            0.0   \n",
       "5686                    17                    17            0.0   \n",
       "5685                    17                    17            0.0   \n",
       "\n",
       "      nbr_obs_l1_30_1_Zone  nbr_obs_l2_30_1_Zone  weeks_in_laying_barn  \\\n",
       "0                       17                    17                     1   \n",
       "5686                    17                    17                     1   \n",
       "5685                    17                    17                     1   \n",
       "\n",
       "          hen_pair  DTW_15_all  \n",
       "0     hen_1-hen_10       154.0  \n",
       "5686  hen_2-hen_47       158.6  \n",
       "5685  hen_2-hen_46       152.9  \n",
       "\n",
       "[3 rows x 100 columns]"
      ]
     },
     "metadata": {},
     "output_type": "display_data"
    }
   ],
   "source": [
    "#compute the CHI2DISTANCE & DTW for each bird with all other birds (because we need this exact same pair to do the visual)\n",
    "#random.seed(rv)\n",
    "#for efficiency and testing select a subset of animals to be 50 hens, but later we dontn want to restrcit to the pen nor the\n",
    "#number of animals\n",
    "#nbr_hens = 70\n",
    "#randomly pick more than one element from the list without repeating elements.\n",
    "#li_selected_hens_rv = random.sample(li_selected_hens, nbr_hens)\n",
    "li_selected_hens_rv = li_selected_hens\n",
    "li_df = []\n",
    "li_zone = list(dico_pen_bin_zone_level_h['pen3'][15].keys())\n",
    "df.sort_values(['Timestamp'], inplace=True)\n",
    "df_daily_h = df_daily[df_daily['DOA']<=119+100].copy()\n",
    "li_date = set(df_daily_h['level'].tolist())\n",
    "df_doa = df_daily[['level','DOA','WOA']].drop_duplicates()\n",
    "df_doa.head(3)\n",
    "df_daily_h = df_daily_h[df_daily_h['HenID'].isin(li_selected_hens_rv)].copy()\n",
    "\n",
    "for d1 in tqdm.tqdm(sorted(list(li_date))):\n",
    "    doa = df_doa[df_doa['level']==d1]['DOA'].values[0]\n",
    "    woa = df_doa[df_doa['level']==d1]['WOA'].values[0]\n",
    "    li_hen_d1 = df_daily_h[df_daily_h['level']==d1]['HenID'].unique()\n",
    "    #its a symmetric measure, so we only do each combination once\n",
    "    for i,h1 in enumerate(li_hen_d1):\n",
    "\n",
    "        #for each hen we want to compute its difference with all other birds \n",
    "        for h2 in li_hen_d1[i+1:]:\n",
    "            \n",
    "            ############ Overall aviary usage similarity across days\n",
    "            l1_chi2 = df_daily_h[(df_daily_h['HenID']==h1)&(df_daily_h['level']==d1)]['dur_values_normalized'].values[0]\n",
    "            l2_chi2 = df_daily_h[(df_daily_h['HenID']==h2)&(df_daily_h['level']==d1)]['dur_values_normalized'].values[0]\n",
    "\n",
    "            dico_ = {'level1':d1, 'level2':d1, 'henID1':h1, 'henID2':h2, \n",
    "                     'chi2distance':chi2_distance(l1_chi2,l2_chi2),'DOA':doa,'WOA':woa}\n",
    "            #'dur_values_normalized_henID1':l1_chi2,'dur_values_normalized_henID2':l2_chi2,\n",
    "\n",
    "            ############# Specifics' zones usage similarity across days\n",
    "            for nbr_binmn in li_binmn:\n",
    "                #ALL zone together with chi2distance\n",
    "                l1_chi2 = dico_pen_bin_level_h[dico_h_p[h1]][nbr_binmn][d1][h1]\n",
    "                l2_chi2 = dico_pen_bin_level_h[dico_h_p[h2]][nbr_binmn][d1][h2]\n",
    "                dico_['nbr_obs_chi2all_'+str(nbr_binmn)] = len(l1_chi2)\n",
    "                li_chi2 = [chi2_distance(l1_chi2[i],l2_chi2[i]) for i in range(0,len(l1_chi2))]\n",
    "                dico_['li_chi2_'+str(nbr_binmn)] = li_chi2\n",
    "                dico_['chi2distance_ALL_'+str(nbr_binmn)] = np.mean(li_chi2)\n",
    "                \n",
    "                #per zone with DTW\n",
    "                for ZONE in li_zone:\n",
    "                    dtw_value = np.nan\n",
    "                    try:\n",
    "                        l1_dtw = np.array(dico_pen_bin_zone_level_h[dico_h_p[h1]][nbr_binmn][ZONE][d1][h1], dtype=np.double)\n",
    "                        l2_dtw = np.array(dico_pen_bin_zone_level_h[dico_h_p[h2]][nbr_binmn][ZONE][d1][h2], dtype=np.double)\n",
    "                        #compute distance measure\n",
    "                        #psi: #of start and end points of a sequence can be ignored if this would lead to a lower distance\n",
    "                        dtw_value, paths = dtw.warping_paths(l1_dtw, l2_dtw, window=dico_window[nbr_binmn], psi=0, penalty=penalty)\n",
    "                    except Exception as e:\n",
    "                        print(e)\n",
    "                        sys.exit()\n",
    "                        pass #dont do anything\n",
    "                    dico_['DTW_'+str(nbr_binmn)+'_'+ZONE] = round(dtw_value,1)  \n",
    "                    dico_['nbr_obs_l1_'+str(nbr_binmn)+'_'+ZONE] = len(l1_dtw)\n",
    "                    dico_['nbr_obs_l2_'+str(nbr_binmn)+'_'+ZONE] = len(l2_dtw)\n",
    "            li_df.append(dico_)\n",
    "\n",
    "#turn inter and intra distances into a dataframe                \n",
    "df_interintra = pd.DataFrame(li_df)\n",
    "#df_interintra = df_interintra[~df_interintra['chi2distance'].isnull()]\n",
    "df_interintra = df_interintra.sort_values('DOA', ascending=True)\n",
    "df_interintra['weeks_in_laying_barn'] = df_interintra['DOA'].map(lambda x: int((x-119)/7)+1)\n",
    "df_interintra['hen_pair'] = df_interintra.apply(lambda x: '-'.join(sorted([x['henID1'],x['henID2']])), axis=1)\n",
    "df_interintra['DTW_15_all'] = df_interintra[['DTW_15_1_Zone', 'DTW_15_2_Zone', 'DTW_15_3_Zone','DTW_15_4_Zone','DTW_15_5_Zone']].sum(axis=1)\n",
    "li_col = list(df_interintra.columns)\n",
    "li_remove = [i for i in li_col if i.startswith('li_chi2_')]\n",
    "print(li_remove)\n",
    "li_keep = [i for i in li_col if i not in li_remove]\n",
    "#df_interintra.iloc[0:1000].to_csv(os.path.join(path_extracted_data_visual_adap, id_run+'_df_DistanceBetweenHenSim_4verification.csv'), sep=';', index=False)\n",
    "#df_interintra.filter(li_keep).to_csv(os.path.join(path_extracted_data_visual_adap ,id_run+'_df_DistanceBetweenHenSim.csv'), sep=';', index=False)\n",
    "df_interintra.to_csv(os.path.join(path_extracted_data_visual_adap ,id_run+'_df_DistanceBetweenHenSim_DAILYLEVEL.csv'), sep=';', index=False)\n",
    "print(df_interintra.shape)\n",
    "display(df_interintra.head(3))"
   ]
  },
  {
   "cell_type": "code",
   "execution_count": 11,
   "metadata": {},
   "outputs": [
    {
     "name": "stderr",
     "output_type": "stream",
     "text": [
      "C:\\Users\\camil\\anaconda3\\lib\\site-packages\\ipykernel\\ipkernel.py:283: DeprecationWarning: `should_run_async` will not call `transform_cell` automatically in the future. Please pass the result to `transformed_cell` argument and any exception that happen during thetransform in `preprocessing_exc_tuple` in IPython 7.17 and above.\n",
      "  and should_run_async(code)\n"
     ]
    },
    {
     "data": {
      "image/png": "[encoded data removed]",
      "text/plain": [
       "<Figure size 432x288 with 1 Axes>"
      ]
     },
     "metadata": {
      "needs_background": "light"
     },
     "output_type": "display_data"
    }
   ],
   "source": [
    "plt.hist(df_interintra['chi2distance']);"
   ]
  },
  {
   "cell_type": "code",
   "execution_count": null,
   "metadata": {},
   "outputs": [],
   "source": []
  },
  {
   "cell_type": "code",
   "execution_count": null,
   "metadata": {},
   "outputs": [],
   "source": []
  },
  {
   "cell_type": "code",
   "execution_count": null,
   "metadata": {},
   "outputs": [],
   "source": []
  },
  {
   "cell_type": "code",
   "execution_count": null,
   "metadata": {},
   "outputs": [],
   "source": []
  },
  {
   "cell_type": "code",
   "execution_count": null,
   "metadata": {},
   "outputs": [],
   "source": []
  },
  {
   "cell_type": "code",
   "execution_count": null,
   "metadata": {},
   "outputs": [],
   "source": []
  },
  {
   "cell_type": "code",
   "execution_count": null,
   "metadata": {},
   "outputs": [],
   "source": []
  },
  {
   "cell_type": "code",
   "execution_count": null,
   "metadata": {},
   "outputs": [],
   "source": []
  },
  {
   "cell_type": "code",
   "execution_count": null,
   "metadata": {},
   "outputs": [],
   "source": []
  }
 ],
 "metadata": {
  "kernelspec": {
   "display_name": "Python 3",
   "language": "python",
   "name": "python3"
  },
  "language_info": {
   "codemirror_mode": {
    "name": "ipython",
    "version": 3
   },
   "file_extension": ".py",
   "mimetype": "text/x-python",
   "name": "python",
   "nbconvert_exporter": "python",
   "pygments_lexer": "ipython3",
   "version": "3.8.5"
  }
 },
 "nbformat": 4,
 "nbformat_minor": 2
}
