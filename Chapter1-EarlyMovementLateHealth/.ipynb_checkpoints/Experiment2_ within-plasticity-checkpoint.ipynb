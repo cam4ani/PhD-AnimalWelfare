{
 "cells": [
  {
   "cell_type": "code",
   "execution_count": 11,
   "metadata": {
    "scrolled": true
   },
   "outputs": [
    {
     "name": "stderr",
     "output_type": "stream",
     "text": [
      "Warning message:\n",
      "\"package 'merTools' was built under R version 3.6.3\"\n",
      "Loading required package: arm\n",
      "\n",
      "Loading required package: MASS\n",
      "\n",
      "Warning message:\n",
      "\"package 'MASS' was built under R version 3.6.3\"\n",
      "\n",
      "Attaching package: 'MASS'\n",
      "\n",
      "\n",
      "The following object is masked from 'package:dplyr':\n",
      "\n",
      "    select\n",
      "\n",
      "\n",
      "\n",
      "arm (Version 1.12-2, built: 2021-10-15)\n",
      "\n",
      "\n",
      "Working directory is C:/Users/camil/Desktop/animals_code/PhD-AnimalWelfare/Chapter1-EarlyMovementLateHealth\n",
      "\n",
      "\n",
      "\n",
      "Attaching package: 'arm'\n",
      "\n",
      "\n",
      "The following object is masked from 'package:boot':\n",
      "\n",
      "    logit\n",
      "\n",
      "\n"
     ]
    }
   ],
   "source": [
    "library(lmerTest) #lmer with pvalues\n",
    "library(MuMIn) #R2\n",
    "library(merTools) #sim\n",
    "library(dplyr) #%>%\n",
    "library(boot) #bootstrap IC\n",
    "library(stringr) #str_c to create henID_WOA"
   ]
  },
  {
   "cell_type": "code",
   "execution_count": 2,
   "metadata": {},
   "outputs": [],
   "source": [
    "#install.packages(\"lmerTest\")\n",
    "#library(lmerTest)"
   ]
  },
  {
   "cell_type": "code",
   "execution_count": 3,
   "metadata": {},
   "outputs": [
    {
     "data": {
      "text/plain": [
       "\n",
       "To cite lmerTest in publications use:\n",
       "\n",
       "Kuznetsova A, Brockhoff PB, Christensen RHB (2017). \"lmerTest Package:\n",
       "Tests in Linear Mixed Effects Models.\" _Journal of Statistical\n",
       "Software_, *82*(13), 1-26. doi: 10.18637/jss.v082.i13 (URL:\n",
       "https://doi.org/10.18637/jss.v082.i13).\n",
       "\n",
       "A BibTeX entry for LaTeX users is\n",
       "\n",
       "  @Article{,\n",
       "    title = {{lmerTest} Package: Tests in Linear Mixed Effects Models},\n",
       "    author = {Alexandra Kuznetsova and Per B. Brockhoff and Rune H. B. Christensen},\n",
       "    journal = {Journal of Statistical Software},\n",
       "    year = {2017},\n",
       "    volume = {82},\n",
       "    number = {13},\n",
       "    pages = {1--26},\n",
       "    doi = {10.18637/jss.v082.i13},\n",
       "  }\n"
      ]
     },
     "metadata": {},
     "output_type": "display_data"
    }
   ],
   "source": [
    "citation(\"lmerTest\")"
   ]
  },
  {
   "cell_type": "markdown",
   "metadata": {},
   "source": [
    "library(lme4)\n",
    "library(arm)\n",
    "library(MuMIn)\n",
    "library(tidyverse)\n",
    "library(plyr)\n",
    "library(broom)\n",
    "library(coda)\n",
    "library(grid)\n",
    "library(gridExtra)\n",
    "library(brms)\n",
    "library(broom.mixed)\n",
    "library(merTools)\n",
    "library(tidybayes)\n",
    "library(parallel)"
   ]
  },
  {
   "cell_type": "markdown",
   "metadata": {},
   "source": [
    "# Download data"
   ]
  },
  {
   "cell_type": "code",
   "execution_count": 4,
   "metadata": {
    "scrolled": true
   },
   "outputs": [
    {
     "data": {
      "text/html": [
       "<table class=\"dataframe\">\n",
       "<caption>A matrix: 2 × 1 of type dbl</caption>\n",
       "<thead>\n",
       "\t<tr><th></th><th scope=col>TRAN</th></tr>\n",
       "</thead>\n",
       "<tbody>\n",
       "\t<tr><th scope=row>OFH</th><td>0</td></tr>\n",
       "\t<tr><th scope=row>TRAN</th><td>1</td></tr>\n",
       "</tbody>\n",
       "</table>\n"
      ],
      "text/latex": [
       "A matrix: 2 × 1 of type dbl\n",
       "\\begin{tabular}{r|l}\n",
       "  & TRAN\\\\\n",
       "\\hline\n",
       "\tOFH & 0\\\\\n",
       "\tTRAN & 1\\\\\n",
       "\\end{tabular}\n"
      ],
      "text/markdown": [
       "\n",
       "A matrix: 2 × 1 of type dbl\n",
       "\n",
       "| <!--/--> | TRAN |\n",
       "|---|---|\n",
       "| OFH | 0 |\n",
       "| TRAN | 1 |\n",
       "\n"
      ],
      "text/plain": [
       "     TRAN\n",
       "OFH  0   \n",
       "TRAN 1   "
      ]
     },
     "metadata": {},
     "output_type": "display_data"
    },
    {
     "data": {
      "text/html": [
       "<table class=\"dataframe\">\n",
       "<caption>A matrix: 2 × 1 of type dbl</caption>\n",
       "<thead>\n",
       "\t<tr><th></th><th scope=col>OFH</th></tr>\n",
       "</thead>\n",
       "<tbody>\n",
       "\t<tr><th scope=row>TRAN</th><td>0</td></tr>\n",
       "\t<tr><th scope=row>OFH</th><td>1</td></tr>\n",
       "</tbody>\n",
       "</table>\n"
      ],
      "text/latex": [
       "A matrix: 2 × 1 of type dbl\n",
       "\\begin{tabular}{r|l}\n",
       "  & OFH\\\\\n",
       "\\hline\n",
       "\tTRAN & 0\\\\\n",
       "\tOFH & 1\\\\\n",
       "\\end{tabular}\n"
      ],
      "text/markdown": [
       "\n",
       "A matrix: 2 × 1 of type dbl\n",
       "\n",
       "| <!--/--> | OFH |\n",
       "|---|---|\n",
       "| TRAN | 0 |\n",
       "| OFH | 1 |\n",
       "\n"
      ],
      "text/plain": [
       "     OFH\n",
       "TRAN 0  \n",
       "OFH  1  "
      ]
     },
     "metadata": {},
     "output_type": "display_data"
    },
    {
     "data": {
      "text/html": [
       "<table class=\"dataframe\">\n",
       "<caption>A matrix: 3 × 2 of type dbl</caption>\n",
       "<thead>\n",
       "\t<tr><th></th><th scope=col>MEXP</th><th scope=col>REXP</th></tr>\n",
       "</thead>\n",
       "<tbody>\n",
       "\t<tr><th scope=row>LEXP</th><td>0</td><td>0</td></tr>\n",
       "\t<tr><th scope=row>MEXP</th><td>1</td><td>0</td></tr>\n",
       "\t<tr><th scope=row>REXP</th><td>0</td><td>1</td></tr>\n",
       "</tbody>\n",
       "</table>\n"
      ],
      "text/latex": [
       "A matrix: 3 × 2 of type dbl\n",
       "\\begin{tabular}{r|ll}\n",
       "  & MEXP & REXP\\\\\n",
       "\\hline\n",
       "\tLEXP & 0 & 0\\\\\n",
       "\tMEXP & 1 & 0\\\\\n",
       "\tREXP & 0 & 1\\\\\n",
       "\\end{tabular}\n"
      ],
      "text/markdown": [
       "\n",
       "A matrix: 3 × 2 of type dbl\n",
       "\n",
       "| <!--/--> | MEXP | REXP |\n",
       "|---|---|---|\n",
       "| LEXP | 0 | 0 |\n",
       "| MEXP | 1 | 0 |\n",
       "| REXP | 0 | 1 |\n",
       "\n"
      ],
      "text/plain": [
       "     MEXP REXP\n",
       "LEXP 0    0   \n",
       "MEXP 1    0   \n",
       "REXP 0    1   "
      ]
     },
     "metadata": {},
     "output_type": "display_data"
    },
    {
     "data": {
      "text/html": [
       "<table class=\"dataframe\">\n",
       "<caption>A matrix: 3 × 2 of type dbl</caption>\n",
       "<thead>\n",
       "\t<tr><th></th><th scope=col>MEXP</th><th scope=col>REXP</th></tr>\n",
       "</thead>\n",
       "<tbody>\n",
       "\t<tr><th scope=row>LEXP</th><td>0</td><td>0</td></tr>\n",
       "\t<tr><th scope=row>MEXP</th><td>1</td><td>0</td></tr>\n",
       "\t<tr><th scope=row>REXP</th><td>0</td><td>1</td></tr>\n",
       "</tbody>\n",
       "</table>\n"
      ],
      "text/latex": [
       "A matrix: 3 × 2 of type dbl\n",
       "\\begin{tabular}{r|ll}\n",
       "  & MEXP & REXP\\\\\n",
       "\\hline\n",
       "\tLEXP & 0 & 0\\\\\n",
       "\tMEXP & 1 & 0\\\\\n",
       "\tREXP & 0 & 1\\\\\n",
       "\\end{tabular}\n"
      ],
      "text/markdown": [
       "\n",
       "A matrix: 3 × 2 of type dbl\n",
       "\n",
       "| <!--/--> | MEXP | REXP |\n",
       "|---|---|---|\n",
       "| LEXP | 0 | 0 |\n",
       "| MEXP | 1 | 0 |\n",
       "| REXP | 0 | 1 |\n",
       "\n"
      ],
      "text/plain": [
       "     MEXP REXP\n",
       "LEXP 0    0   \n",
       "MEXP 1    0   \n",
       "REXP 0    1   "
      ]
     },
     "metadata": {},
     "output_type": "display_data"
    },
    {
     "name": "stdout",
     "output_type": "stream",
     "text": [
      "[1] 3230   35\n"
     ]
    },
    {
     "data": {
      "text/plain": [
       "     HenID           DIB         CLASS          PenID     temperature_C_avg\n",
       " hen_116:  43   Min.   :11.00   LEXP: 965   pen10  :504   Min.   : 4.000   \n",
       " hen_124:  43   1st Qu.:23.00   MEXP:1379   pen11  :504   1st Qu.: 8.667   \n",
       " hen_127:  43   Median :33.00   REXP: 886   pen8   :430   Median :11.000   \n",
       " hen_136:  43   Mean   :33.59               pen9   :429   Mean   :10.838   \n",
       " hen_147:  43   3rd Qu.:44.00               pen4   :388   3rd Qu.:12.667   \n",
       " hen_151:  43   Max.   :54.00               pen5   :363   Max.   :19.333   \n",
       " (Other):2972                               (Other):612                    \n",
       "  tobeusedPCA     InitialWeight  Treatment   perc_duration_5_Zone\n",
       " Min.   :0.0000   Min.   :1046   TRAN:1616   Min.   :  0.00      \n",
       " 1st Qu.:0.0000   1st Qu.:1130   OFH :1614   1st Qu.: 11.00      \n",
       " Median :0.0000   Median :1164               Median : 33.00      \n",
       " Mean   :0.1734   Mean   :1169               Mean   : 39.21      \n",
       " 3rd Qu.:0.0000   3rd Qu.:1200               3rd Qu.: 66.00      \n",
       " Max.   :1.0000   Max.   :1350               Max.   :100.00      \n",
       "                                                                 \n",
       " perc_duration_4_Zone perc_duration_3_Zone perc_duration_2_Zone\n",
       " Min.   : 0.000       Min.   : 0.00        Min.   : 0.00       \n",
       " 1st Qu.: 4.000       1st Qu.: 7.00        1st Qu.:14.00       \n",
       " Median : 6.000       Median :17.00        Median :32.00       \n",
       " Mean   : 8.136       Mean   :18.27        Mean   :31.24       \n",
       " 3rd Qu.:10.000       3rd Qu.:28.00        3rd Qu.:46.00       \n",
       " Max.   :73.000       Max.   :70.00        Max.   :91.00       \n",
       "                                                               \n",
       " perc_1_Zone_while_WG_open nbr_stays_2_Zone_perh nbr_stays_4_Zone_perh\n",
       " Min.   : 0.000            Min.   :0.0000        Min.   :0.0000       \n",
       " 1st Qu.: 0.000            1st Qu.:0.4545        1st Qu.:0.2857       \n",
       " Median : 1.388            Median :1.0714        Median :0.5714       \n",
       " Mean   : 6.932            Mean   :1.1062        Mean   :0.7059       \n",
       " 3rd Qu.: 9.572            3rd Qu.:1.6667        3rd Qu.:1.0000       \n",
       " Max.   :87.949            Max.   :5.0909        Max.   :5.2500       \n",
       "                                                                      \n",
       " nbr_stays_3_Zone_perh nbr_stays_5_Zone_perh nbr_stays_1_Zone_perh\n",
       " Min.   :0.0000        Min.   :0.0000        Min.   :0.0000       \n",
       " 1st Qu.:0.6923        1st Qu.:0.2000        1st Qu.:0.0000       \n",
       " Median :1.3333        Median :0.3571        Median :0.1622       \n",
       " Mean   :1.3227        Mean   :0.4352        Mean   :0.4060       \n",
       " 3rd Qu.:1.8333        3rd Qu.:0.6000        3rd Qu.:0.6316       \n",
       " Max.   :5.1818        Max.   :3.1667        Max.   :3.5789       \n",
       "                                                                  \n",
       " in_WG_15mnAfterOpening SleepingHeight  vertical_travel_distance_perh\n",
       " Min.   :0.0000         Min.   :0.000   Min.   : 0.000               \n",
       " 1st Qu.:0.0000         1st Qu.:2.000   1st Qu.: 2.286               \n",
       " Median :0.0000         Median :3.000   Median : 3.600               \n",
       " Mean   :0.2065         Mean   :2.481   Mean   : 3.595               \n",
       " 3rd Qu.:0.0000         3rd Qu.:3.000   3rd Qu.: 4.800               \n",
       " Max.   :1.0000         Max.   :3.000   Max.   :12.308               \n",
       "                                                                     \n",
       " DIB_startat11       avgDIB         severity        Feathers    \n",
       " Min.   : 0.00   Min.   :21.91   Min.   : 6.00   Min.   :35.00  \n",
       " 1st Qu.:12.00   1st Qu.:21.91   1st Qu.:24.00   1st Qu.:58.67  \n",
       " Median :22.00   Median :22.36   Median :36.00   Median :66.33  \n",
       " Mean   :22.59   Mean   :22.59   Mean   :35.72   Mean   :65.81  \n",
       " 3rd Qu.:33.00   3rd Qu.:23.00   3rd Qu.:46.00   3rd Qu.:73.67  \n",
       " Max.   :43.00   Max.   :24.18   Max.   :84.00   Max.   :86.67  \n",
       "                                                 NA's   :42     \n",
       "      PC1               cDIB       temperature_C_avg_scale.V1\n",
       " Min.   :-1.7397   Min.   : 0.00   Min.   :-2.1505151        \n",
       " 1st Qu.:-0.6194   1st Qu.:12.00   1st Qu.:-0.6829345        \n",
       " Median : 0.3173   Median :22.00   Median : 0.0508558        \n",
       " Mean   : 0.1554   Mean   :22.59   Mean   : 0.0000000        \n",
       " 3rd Qu.: 0.8750   3rd Qu.:33.00   3rd Qu.: 0.5749917        \n",
       " Max.   : 2.9867   Max.   :43.00   Max.   : 2.6715354        \n",
       "                                                             \n",
       "      time.V1           time2             time3           avgDIB_scale.V1   \n",
       " Min.   :0.000000   Min.   : 0.0000   Min.   : 0.0000   Min.   :-1.0681873  \n",
       " 1st Qu.:0.973855   1st Qu.: 0.9484   1st Qu.: 0.9236   1st Qu.:-1.0681873  \n",
       " Median :1.785401   Median : 3.1877   Median : 5.6913   Median :-0.3677554  \n",
       " Mean   :1.833566   Mean   : 4.3617   Mean   :11.6090   Mean   : 0.0000000  \n",
       " 3rd Qu.:2.678102   3rd Qu.: 7.1722   3rd Qu.:19.2080   3rd Qu.: 0.6324925  \n",
       " Max.   :3.489648   Max.   :12.1776   Max.   :42.4957   Max.   : 2.4750543  \n",
       "                                                                            \n",
       " InitialWeight_scale.V1      WIB            henID_WOA   \n",
       " Min.   :-1.9742093     Min.   :2.000   4_hen_10 :   7  \n",
       " 1st Qu.:-0.6252286     1st Qu.:4.000   4_hen_102:   7  \n",
       " Median :-0.0792126     Median :5.000   4_hen_112:   7  \n",
       " Mean   : 0.0000000     Mean   :5.222   4_hen_116:   7  \n",
       " 3rd Qu.: 0.4989220     3rd Qu.:7.000   4_hen_118:   7  \n",
       " Max.   : 2.9078162     Max.   :8.000   4_hen_124:   7  \n",
       "                                        (Other)  :3188  "
      ]
     },
     "metadata": {},
     "output_type": "display_data"
    },
    {
     "data": {
      "text/html": [
       "<table class=\"dataframe\">\n",
       "<caption>A data.frame: 3 × 35</caption>\n",
       "<thead>\n",
       "\t<tr><th></th><th scope=col>HenID</th><th scope=col>DIB</th><th scope=col>CLASS</th><th scope=col>PenID</th><th scope=col>temperature_C_avg</th><th scope=col>tobeusedPCA</th><th scope=col>InitialWeight</th><th scope=col>Treatment</th><th scope=col>perc_duration_5_Zone</th><th scope=col>perc_duration_4_Zone</th><th scope=col>...</th><th scope=col>PC1</th><th scope=col>cDIB</th><th scope=col>temperature_C_avg_scale</th><th scope=col>time</th><th scope=col>time2</th><th scope=col>time3</th><th scope=col>avgDIB_scale</th><th scope=col>InitialWeight_scale</th><th scope=col>WIB</th><th scope=col>henID_WOA</th></tr>\n",
       "\t<tr><th></th><th scope=col>&lt;fct&gt;</th><th scope=col>&lt;int&gt;</th><th scope=col>&lt;fct&gt;</th><th scope=col>&lt;fct&gt;</th><th scope=col>&lt;dbl&gt;</th><th scope=col>&lt;int&gt;</th><th scope=col>&lt;int&gt;</th><th scope=col>&lt;fct&gt;</th><th scope=col>&lt;int&gt;</th><th scope=col>&lt;int&gt;</th><th scope=col>...</th><th scope=col>&lt;dbl&gt;</th><th scope=col>&lt;int&gt;</th><th scope=col>&lt;dbl[,1]&gt;</th><th scope=col>&lt;dbl[,1]&gt;</th><th scope=col>&lt;dbl&gt;</th><th scope=col>&lt;dbl&gt;</th><th scope=col>&lt;dbl[,1]&gt;</th><th scope=col>&lt;dbl[,1]&gt;</th><th scope=col>&lt;dbl&gt;</th><th scope=col>&lt;fct&gt;</th></tr>\n",
       "</thead>\n",
       "<tbody>\n",
       "\t<tr><th scope=row>1</th><td>hen_134</td><td>11</td><td>MEXP</td><td>pen10</td><td>11.50000</td><td>1</td><td>1112</td><td>TRAN</td><td>100</td><td>0</td><td>...</td><td>-1.738433</td><td>0</td><td> 0.2080966</td><td>0.0000000</td><td>0.000000000</td><td>0.0000000000</td><td>-0.3677554</td><td>-0.9142959</td><td>2</td><td>2_hen_134</td></tr>\n",
       "\t<tr><th scope=row>2</th><td>hen_134</td><td>12</td><td>MEXP</td><td>pen10</td><td>10.16667</td><td>0</td><td>1112</td><td>TRAN</td><td> 86</td><td>0</td><td>...</td><td>-1.455477</td><td>1</td><td>-0.2112122</td><td>0.0811546</td><td>0.006586069</td><td>0.0005344898</td><td>-0.3677554</td><td>-0.9142959</td><td>2</td><td>2_hen_134</td></tr>\n",
       "\t<tr><th scope=row>3</th><td>hen_134</td><td>13</td><td>MEXP</td><td>pen10</td><td> 9.00000</td><td>0</td><td>1112</td><td>TRAN</td><td>100</td><td>0</td><td>...</td><td>-1.738433</td><td>2</td><td>-0.5781073</td><td>0.1623092</td><td>0.026344277</td><td>0.0042759186</td><td>-0.3677554</td><td>-0.9142959</td><td>2</td><td>2_hen_134</td></tr>\n",
       "</tbody>\n",
       "</table>\n"
      ],
      "text/latex": [
       "A data.frame: 3 × 35\n",
       "\\begin{tabular}{r|lllllllllllllllllllll}\n",
       "  & HenID & DIB & CLASS & PenID & temperature\\_C\\_avg & tobeusedPCA & InitialWeight & Treatment & perc\\_duration\\_5\\_Zone & perc\\_duration\\_4\\_Zone & ... & PC1 & cDIB & temperature\\_C\\_avg\\_scale & time & time2 & time3 & avgDIB\\_scale & InitialWeight\\_scale & WIB & henID\\_WOA\\\\\n",
       "  & <fct> & <int> & <fct> & <fct> & <dbl> & <int> & <int> & <fct> & <int> & <int> & ... & <dbl> & <int> & <dbl{[},1{]}> & <dbl{[},1{]}> & <dbl> & <dbl> & <dbl{[},1{]}> & <dbl{[},1{]}> & <dbl> & <fct>\\\\\n",
       "\\hline\n",
       "\t1 & hen\\_134 & 11 & MEXP & pen10 & 11.50000 & 1 & 1112 & TRAN & 100 & 0 & ... & -1.738433 & 0 &  0.2080966 & 0.0000000 & 0.000000000 & 0.0000000000 & -0.3677554 & -0.9142959 & 2 & 2\\_hen\\_134\\\\\n",
       "\t2 & hen\\_134 & 12 & MEXP & pen10 & 10.16667 & 0 & 1112 & TRAN &  86 & 0 & ... & -1.455477 & 1 & -0.2112122 & 0.0811546 & 0.006586069 & 0.0005344898 & -0.3677554 & -0.9142959 & 2 & 2\\_hen\\_134\\\\\n",
       "\t3 & hen\\_134 & 13 & MEXP & pen10 &  9.00000 & 0 & 1112 & TRAN & 100 & 0 & ... & -1.738433 & 2 & -0.5781073 & 0.1623092 & 0.026344277 & 0.0042759186 & -0.3677554 & -0.9142959 & 2 & 2\\_hen\\_134\\\\\n",
       "\\end{tabular}\n"
      ],
      "text/markdown": [
       "\n",
       "A data.frame: 3 × 35\n",
       "\n",
       "| <!--/--> | HenID &lt;fct&gt; | DIB &lt;int&gt; | CLASS &lt;fct&gt; | PenID &lt;fct&gt; | temperature_C_avg &lt;dbl&gt; | tobeusedPCA &lt;int&gt; | InitialWeight &lt;int&gt; | Treatment &lt;fct&gt; | perc_duration_5_Zone &lt;int&gt; | perc_duration_4_Zone &lt;int&gt; | ... ... | PC1 &lt;dbl&gt; | cDIB &lt;int&gt; | temperature_C_avg_scale &lt;dbl[,1]&gt; | time &lt;dbl[,1]&gt; | time2 &lt;dbl&gt; | time3 &lt;dbl&gt; | avgDIB_scale &lt;dbl[,1]&gt; | InitialWeight_scale &lt;dbl[,1]&gt; | WIB &lt;dbl&gt; | henID_WOA &lt;fct&gt; |\n",
       "|---|---|---|---|---|---|---|---|---|---|---|---|---|---|---|---|---|---|---|---|---|---|\n",
       "| 1 | hen_134 | 11 | MEXP | pen10 | 11.50000 | 1 | 1112 | TRAN | 100 | 0 | ... | -1.738433 | 0 |  0.2080966 | 0.0000000 | 0.000000000 | 0.0000000000 | -0.3677554 | -0.9142959 | 2 | 2_hen_134 |\n",
       "| 2 | hen_134 | 12 | MEXP | pen10 | 10.16667 | 0 | 1112 | TRAN |  86 | 0 | ... | -1.455477 | 1 | -0.2112122 | 0.0811546 | 0.006586069 | 0.0005344898 | -0.3677554 | -0.9142959 | 2 | 2_hen_134 |\n",
       "| 3 | hen_134 | 13 | MEXP | pen10 |  9.00000 | 0 | 1112 | TRAN | 100 | 0 | ... | -1.738433 | 2 | -0.5781073 | 0.1623092 | 0.026344277 | 0.0042759186 | -0.3677554 | -0.9142959 | 2 | 2_hen_134 |\n",
       "\n"
      ],
      "text/plain": [
       "  HenID   DIB CLASS PenID temperature_C_avg tobeusedPCA InitialWeight Treatment\n",
       "1 hen_134 11  MEXP  pen10 11.50000          1           1112          TRAN     \n",
       "2 hen_134 12  MEXP  pen10 10.16667          0           1112          TRAN     \n",
       "3 hen_134 13  MEXP  pen10  9.00000          0           1112          TRAN     \n",
       "  perc_duration_5_Zone perc_duration_4_Zone ... PC1       cDIB\n",
       "1 100                  0                    ... -1.738433 0   \n",
       "2  86                  0                    ... -1.455477 1   \n",
       "3 100                  0                    ... -1.738433 2   \n",
       "  temperature_C_avg_scale time      time2       time3        avgDIB_scale\n",
       "1  0.2080966              0.0000000 0.000000000 0.0000000000 -0.3677554  \n",
       "2 -0.2112122              0.0811546 0.006586069 0.0005344898 -0.3677554  \n",
       "3 -0.5781073              0.1623092 0.026344277 0.0042759186 -0.3677554  \n",
       "  InitialWeight_scale WIB henID_WOA\n",
       "1 -0.9142959          2   2_hen_134\n",
       "2 -0.9142959          2   2_hen_134\n",
       "3 -0.9142959          2   2_hen_134"
      ]
     },
     "metadata": {},
     "output_type": "display_data"
    }
   ],
   "source": [
    "path_ = 'G:/VPHI/Welfare/2- Research Projects/OFHE2.OriginsE2/DataOutput/TrackingSystem/ALLDATA_'\n",
    "path_adapt = file.path(path_,'Adaptability')\n",
    "df = read.csv(file.path(path_adapt,'df_MVT_4individuality_withPCA.csv'), header = TRUE, sep = \",\")\n",
    "df$HenID = as.factor(df$HenID)   \n",
    "df$PenID = as.factor(df$PenID) \n",
    "df$cDIB = as.integer(df$DIB_startat11)\n",
    "df$CLASS = as.factor(df$CLASS) \n",
    "df$Treatment = as.factor(df$Treatment)\n",
    "#scale: mean-centering of the environmental variable so that intercepts reflect average values for the population and ind. \n",
    "df$temperature_C_avg_scale = scale(df$temperature_C_avg, center=TRUE, scale=TRUE)\n",
    "df$time = scale(df$cDIB, center=FALSE, scale=sd(df$cDIB, na.rm = TRUE)) #as not centering, we need to add this\n",
    "df$time2 = poly(df$time, degree=2,raw=TRUE)[,2]\n",
    "df$time3 = poly(df$time, degree=3,raw=TRUE)[,3]\n",
    "df$avgDIB_scale = scale(df$avgDIB, center=TRUE, scale=TRUE)\n",
    "df$InitialWeight_scale = scale(df$InitialWeight, center=TRUE, scale=TRUE)\n",
    "\n",
    "df$WIB = ceiling(df$DIB/7)\n",
    "#df[c('WIB','DIB')]\n",
    "df$henID_WOA = str_c(as.character(df$WIB),'_', df$HenID)\n",
    "#unique(df$henID_WOA)\n",
    "df$henID_WOA = as.factor(df$henID_WOA)\n",
    "\n",
    "#setting reference group\n",
    "contrasts(df$Treatment)\n",
    "df <- df %>% mutate(Treatment = relevel(Treatment, ref = \"TRAN\"))\n",
    "contrasts(df$Treatment)\n",
    "\n",
    "contrasts(df$CLASS)\n",
    "df <- df %>% mutate(CLASS = relevel(CLASS, ref = \"LEXP\"))\n",
    "contrasts(df$CLASS)\n",
    "\n",
    "print(dim(df))\n",
    "summary(df)\n",
    "head(df,3)"
   ]
  },
  {
   "cell_type": "code",
   "execution_count": 5,
   "metadata": {},
   "outputs": [
    {
     "data": {
      "text/html": [
       "1"
      ],
      "text/latex": [
       "1"
      ],
      "text/markdown": [
       "1"
      ],
      "text/plain": [
       "[1] 1"
      ]
     },
     "metadata": {},
     "output_type": "display_data"
    }
   ],
   "source": [
    "sd(df$avgDIB_scale)"
   ]
  },
  {
   "cell_type": "code",
   "execution_count": 6,
   "metadata": {},
   "outputs": [
    {
     "data": {
      "text/html": [
       "1"
      ],
      "text/latex": [
       "1"
      ],
      "text/markdown": [
       "1"
      ],
      "text/plain": [
       "[1] 1"
      ]
     },
     "metadata": {},
     "output_type": "display_data"
    }
   ],
   "source": [
    "sd(df$time)"
   ]
  },
  {
   "cell_type": "code",
   "execution_count": 7,
   "metadata": {},
   "outputs": [
    {
     "data": {
      "text/html": [
       "3.72915250475031"
      ],
      "text/latex": [
       "3.72915250475031"
      ],
      "text/markdown": [
       "3.72915250475031"
      ],
      "text/plain": [
       "[1] 3.729153"
      ]
     },
     "metadata": {},
     "output_type": "display_data"
    }
   ],
   "source": [
    "sd(df$time2)"
   ]
  },
  {
   "cell_type": "code",
   "execution_count": 8,
   "metadata": {},
   "outputs": [
    {
     "data": {
      "text/html": [
       "0.974700318191337"
      ],
      "text/latex": [
       "0.974700318191337"
      ],
      "text/markdown": [
       "0.974700318191337"
      ],
      "text/plain": [
       "[1] 0.9747003"
      ]
     },
     "metadata": {},
     "output_type": "display_data"
    }
   ],
   "source": [
    "sd(df$PC1)"
   ]
  },
  {
   "cell_type": "code",
   "execution_count": 9,
   "metadata": {},
   "outputs": [
    {
     "data": {
      "text/html": [
       "80"
      ],
      "text/latex": [
       "80"
      ],
      "text/markdown": [
       "80"
      ],
      "text/plain": [
       "[1] 80"
      ]
     },
     "metadata": {},
     "output_type": "display_data"
    }
   ],
   "source": [
    "length(unique(df[['HenID']]))"
   ]
  },
  {
   "cell_type": "markdown",
   "metadata": {},
   "source": [
    "# First verify the among-Relocations variance in reaction norms is nonzero"
   ]
  },
  {
   "cell_type": "raw",
   "metadata": {},
   "source": [
    "p.4 an approach to estimate short-term, long-term and reaction norm repeatability"
   ]
  },
  {
   "cell_type": "code",
   "execution_count": null,
   "metadata": {},
   "outputs": [],
   "source": [
    "MAVG_nopen_noclass = lmerTest::lmer(PC1 ~ time + time2 + avgDIB_scale + Treatment + temperature_C_avg_scale + InitialWeight_scale + (1|henID_WOA), REML=FALSE, data = df)\n",
    "summary(MAVG_nopen_noclass)\n",
    "r.squaredGLMM(MAVG_nopen_noclass)\n",
    "###### normally distributed residuals\n",
    "qqnorm(resid(MAVG_nopen_noclass))\n",
    "qqline(resid(MAVG_nopen_noclass))\n",
    "hist(resid(MAVG_nopen_noclass))\n",
    "######check homogeneity of variance (residuals has constant variance)\n",
    "plot(MAVG_nopen_noclass)\n",
    "\n",
    "print(VarCorr(MAVG_nopen_noclass),comp =c(\"Variance\",\"Std.Dev.\"))\n",
    "rep = VarCorr(MAVG_nopen_noclass)$\"henID_WOA\"[1]/\n",
    "(VarCorr(MAVG_nopen_noclass)$\"henID_WOA\"[1]+\n",
    " attr(VarCorr(MAVG_nopen_noclass), \"sc\")^2) # sd^2 = equal to the variance of residual\n",
    "#alternatively: 0.36472/(0.36472+0.45764)\n",
    "rep\n",
    "\n",
    "#or with posterior distribtion with 1000 simulations and credible interval\n",
    "set.seed(1)\n",
    "simulated = sim(MAVG_nopen_noclass, n.sim = 1000)\n",
    "posterior_HenID = apply(simulated@ranef$\"henID_WOA\"[ , , 1],1,var)\n",
    "posterior_residual  = simulated@sigma^2\n",
    "quantile(posterior_HenID/\n",
    "         (posterior_HenID+posterior_residual), prob=c(0.025, 0.5, 0.975))"
   ]
  },
  {
   "cell_type": "code",
   "execution_count": null,
   "metadata": {},
   "outputs": [],
   "source": []
  },
  {
   "cell_type": "markdown",
   "metadata": {},
   "source": [
    "# then compute R slopes & R intercepts"
   ]
  },
  {
   "cell_type": "raw",
   "metadata": {},
   "source": [
    "The overall variance inreaction norm components among all collected series in thedata set consequently represents the phenotypic variance inreaction norms to be partitioned across hierarchical levels."
   ]
  },
  {
   "cell_type": "markdown",
   "metadata": {},
   "source": [
    "model_ = lmerTest::lmer(PC1 ~ time + time2 + avgDIB_scale + Treatment + CLASS + temperature_C_avg_scale + InitialWeight_scale + (1|HenID/henID_WOA), REML=FALSE, data = df)\n",
    "summary(model_)\n",
    "r.squaredGLMM(model_)\n",
    "###### normally distributed residuals\n",
    "qqnorm(resid(model_))\n",
    "qqline(resid(model_))\n",
    "hist(resid(model_))\n",
    "######check homogeneity of variance (residuals has constant variance)\n",
    "plot(model_)\n",
    "\n",
    "print(VarCorr(model_),comp =c(\"Variance\",\"Std.Dev.\"))\n",
    "\n",
    "#LT\n",
    "rep = VarCorr(model_)$\"HenID\"[1]/\n",
    "(VarCorr(model_)$\"HenID\"[1]+ attr(VarCorr(model_), \"sc\")^2 + VarCorr(model_)$\"henID_WOA:HenID\"[1]) \n",
    "rep\n",
    "\n",
    "#ST\n",
    "rep = (VarCorr(model_)$\"HenID\"[1] + VarCorr(model_)$\"henID_WOA:HenID\"[1])/\n",
    "(VarCorr(model_)$\"HenID\"[1]+ attr(VarCorr(model_), \"sc\")^2 + VarCorr(model_)$\"henID_WOA:HenID\"[1]) \n",
    "rep\n",
    "\n",
    "#with posterior distribtion with 1000 simulations and credible interval\n",
    "set.seed(1)\n",
    "simulated = sim(model_, n.sim = 1000)\n",
    "posterior_HenID = apply(simulated@ranef$\"HenID\"[ , , 1],1,var)\n",
    "posterior_HenIDWOA = apply(simulated@ranef$\"henID_WOA:HenID\"[ , , 1],1,var)\n",
    "posterior_residual  = simulated@sigma^2\n",
    "quantile(posterior_HenID/\n",
    "         (posterior_HenID+posterior_residual+posterior_HenIDWOA), prob=c(0.025, 0.5, 0.975))\n",
    "quantile((posterior_HenID+posterior_HenIDWOA)/\n",
    "         (posterior_HenID+posterior_residual+posterior_HenIDWOA), prob=c(0.025, 0.5, 0.975))"
   ]
  },
  {
   "cell_type": "code",
   "execution_count": 13,
   "metadata": {},
   "outputs": [
    {
     "data": {
      "text/plain": [
       "Linear mixed model fit by maximum likelihood . t-tests use Satterthwaite's\n",
       "  method [lmerModLmerTest]\n",
       "Formula: \n",
       "PC1 ~ time + time2 + avgDIB_scale + Treatment + CLASS + temperature_C_avg_scale +  \n",
       "    InitialWeight_scale + (1 + time | HenID/henID_WOA)\n",
       "   Data: df\n",
       "\n",
       "     AIC      BIC   logLik deviance df.resid \n",
       "  5033.7   5131.0  -2500.8   5001.7     3214 \n",
       "\n",
       "Scaled residuals: \n",
       "    Min      1Q  Median      3Q     Max \n",
       "-4.0502 -0.5308 -0.0318  0.5061  4.4002 \n",
       "\n",
       "Random effects:\n",
       " Groups          Name        Variance Std.Dev. Corr \n",
       " henID_WOA:HenID (Intercept) 0.48258  0.6947        \n",
       "                 time        0.06836  0.2615   -0.92\n",
       " HenID           (Intercept) 0.84357  0.9185        \n",
       "                 time        0.12442  0.3527   -0.77\n",
       " Residual                    0.18075  0.4251        \n",
       "Number of obs: 3230, groups:  henID_WOA:HenID, 560; HenID, 80\n",
       "\n",
       "Fixed effects:\n",
       "                          Estimate Std. Error         df t value Pr(>|t|)    \n",
       "(Intercept)             -8.223e-01  1.756e-01  1.285e+02  -4.684 7.05e-06 ***\n",
       "time                     1.113e+00  7.804e-02  3.988e+02  14.257  < 2e-16 ***\n",
       "time2                   -2.495e-01  1.735e-02  3.587e+02 -14.378  < 2e-16 ***\n",
       "avgDIB_scale             6.803e-02  6.749e-02  7.931e+01   1.008 0.316546    \n",
       "TreatmentOFH            -2.986e-01  1.371e-01  7.938e+01  -2.178 0.032391 *  \n",
       "CLASSMEXP                3.105e-01  1.612e-01  7.943e+01   1.927 0.057614 .  \n",
       "CLASSREXP                1.578e-01  1.781e-01  7.943e+01   0.886 0.378462    \n",
       "temperature_C_avg_scale -3.458e-02  9.849e-03  2.880e+03  -3.511 0.000453 ***\n",
       "InitialWeight_scale     -1.026e-01  6.911e-02  7.941e+01  -1.484 0.141636    \n",
       "---\n",
       "Signif. codes:  0 '***' 0.001 '**' 0.01 '*' 0.05 '.' 0.1 ' ' 1\n",
       "\n",
       "Correlation of Fixed Effects:\n",
       "            (Intr) time   time2  avDIB_ TrtOFH CLASSM CLASSR tm_C__\n",
       "time        -0.498                                                 \n",
       "time2        0.259 -0.828                                          \n",
       "avgDIB_scal  0.021  0.000 -0.001                                   \n",
       "TreatmntOFH -0.431  0.003 -0.004 -0.053                            \n",
       "CLASSMEXP   -0.558  0.000  0.001 -0.014  0.051                     \n",
       "CLASSREXP   -0.502  0.000  0.000 -0.046  0.042  0.532              \n",
       "tmprtr_C_v_  0.016 -0.126  0.202 -0.002 -0.002  0.000  0.000       \n",
       "IntlWght_sc  0.119  0.001 -0.001  0.113 -0.184 -0.089 -0.054  0.000"
      ]
     },
     "metadata": {},
     "output_type": "display_data"
    },
    {
     "data": {
      "text/html": [
       "<table class=\"dataframe\">\n",
       "<caption>A matrix: 1 × 2 of type dbl</caption>\n",
       "<thead>\n",
       "\t<tr><th scope=col>R2m</th><th scope=col>R2c</th></tr>\n",
       "</thead>\n",
       "<tbody>\n",
       "\t<tr><td>0.1635369</td><td>0.8150427</td></tr>\n",
       "</tbody>\n",
       "</table>\n"
      ],
      "text/latex": [
       "A matrix: 1 × 2 of type dbl\n",
       "\\begin{tabular}{ll}\n",
       " R2m & R2c\\\\\n",
       "\\hline\n",
       "\t 0.1635369 & 0.8150427\\\\\n",
       "\\end{tabular}\n"
      ],
      "text/markdown": [
       "\n",
       "A matrix: 1 × 2 of type dbl\n",
       "\n",
       "| R2m | R2c |\n",
       "|---|---|\n",
       "| 0.1635369 | 0.8150427 |\n",
       "\n"
      ],
      "text/plain": [
       "     R2m       R2c      \n",
       "[1,] 0.1635369 0.8150427"
      ]
     },
     "metadata": {},
     "output_type": "display_data"
    },
    {
     "data": {
      "image/png": "[encoded data removed]",
      "text/plain": [
       "Plot with title \"Normal Q-Q Plot\""
      ]
     },
     "metadata": {
      "image/png": {
       "height": 420,
       "width": 420
      }
     },
     "output_type": "display_data"
    },
    {
     "data": {
      "image/png": "[encoded data removed]",
      "text/plain": [
       "Plot with title \"Histogram of resid(model_)\""
      ]
     },
     "metadata": {
      "image/png": {
       "height": 420,
       "width": 420
      }
     },
     "output_type": "display_data"
    },
    {
     "name": "stdout",
     "output_type": "stream",
     "text": [
      " Groups          Name        Variance Std.Dev. Corr  \n",
      " henID_WOA:HenID (Intercept) 0.482581 0.69468        \n",
      "                 time        0.068358 0.26145  -0.915\n",
      " HenID           (Intercept) 0.843573 0.91846        \n",
      "                 time        0.124418 0.35273  -0.775\n",
      " Residual                    0.180752 0.42515        \n"
     ]
    },
    {
     "data": {
      "text/html": [
       "0.63610458899591"
      ],
      "text/latex": [
       "0.63610458899591"
      ],
      "text/markdown": [
       "0.63610458899591"
      ],
      "text/plain": [
       "[1] 0.6361046"
      ]
     },
     "metadata": {},
     "output_type": "display_data"
    },
    {
     "data": {
      "text/html": [
       "0.645400700181558"
      ],
      "text/latex": [
       "0.645400700181558"
      ],
      "text/markdown": [
       "0.645400700181558"
      ],
      "text/plain": [
       "[1] 0.6454007"
      ]
     },
     "metadata": {},
     "output_type": "display_data"
    },
    {
     "ename": "ERROR",
     "evalue": "Error in .local(object, ...): argument inutilisé (seed = 1)\n",
     "output_type": "error",
     "traceback": [
      "Error in .local(object, ...): argument inutilisé (seed = 1)\nTraceback:\n",
      "1. sim(model_, n.sim = 1000, seed = 1)",
      "2. sim(model_, n.sim = 1000, seed = 1)"
     ]
    },
    {
     "data": {
      "image/png": "[encoded data removed]",
      "text/plain": [
       "plot without title"
      ]
     },
     "metadata": {
      "image/png": {
       "height": 420,
       "width": 420
      }
     },
     "output_type": "display_data"
    }
   ],
   "source": [
    "model_ = lmerTest::lmer(PC1 ~ time + time2 + avgDIB_scale + Treatment + CLASS + temperature_C_avg_scale + InitialWeight_scale + (1 + time|HenID/henID_WOA), REML=FALSE, data = df)\n",
    "summary(model_)\n",
    "r.squaredGLMM(model_)\n",
    "###### normally distributed residuals\n",
    "qqnorm(resid(model_))\n",
    "qqline(resid(model_))\n",
    "hist(resid(model_))\n",
    "######check homogeneity of variance (residuals has constant variance)\n",
    "plot(model_)\n",
    "\n",
    "print(VarCorr(model_),comp =c(\"Variance\",\"Std.Dev.\"))\n",
    "\n",
    "#Rintercept\n",
    "rep = VarCorr(model_)$\"HenID\"['(Intercept)','(Intercept)']/\n",
    "(VarCorr(model_)$\"HenID\"['(Intercept)','(Intercept)']+ VarCorr(model_)$\"henID_WOA:HenID\"['(Intercept)','(Intercept)']) \n",
    "rep\n",
    "\n",
    "#Rslope\n",
    "rep = VarCorr(model_)$\"HenID\"['time','time']/\n",
    "(VarCorr(model_)$\"HenID\"['time','time']+ VarCorr(model_)$\"henID_WOA:HenID\"['time','time']) \n",
    "rep\n",
    "\n",
    "\n",
    "#with posterior distribtion with 1000 simulations and credible interval\n",
    "simulated = sim(model_, n.sim = 1000, seed=1)\n",
    "posterior_HenID_int = apply(simulated@ranef$\"HenID\"[ , , 1],1,var)\n",
    "posterior_HenIDWOA_int = apply(simulated@ranef$\"henID_WOA:HenID\"[ , , 1],1,var)\n",
    "\n",
    "posterior_HenID_time = apply(simulated@ranef$\"HenID\"[ , , 2],1,var)\n",
    "posterior_HenIDWOA_time = apply(simulated@ranef$\"henID_WOA:HenID\"[ , , 2],1,var)\n",
    "\n",
    "quantile(posterior_HenID_int/(posterior_HenID_int+posterior_HenIDWOA_int), prob=c(0.025, 0.5, 0.975))\n",
    "quantile(posterior_HenID_time/(posterior_HenID_time+posterior_HenIDWOA_time), prob=c(0.025, 0.5, 0.975))"
   ]
  },
  {
   "cell_type": "code",
   "execution_count": 92,
   "metadata": {},
   "outputs": [
    {
     "data": {
      "text/html": [
       "0.636104856600365"
      ],
      "text/latex": [
       "0.636104856600365"
      ],
      "text/markdown": [
       "0.636104856600365"
      ],
      "text/plain": [
       "[1] 0.6361049"
      ]
     },
     "metadata": {},
     "output_type": "display_data"
    }
   ],
   "source": [
    "0.843573/(0.843573+0.482581)"
   ]
  },
  {
   "cell_type": "code",
   "execution_count": 93,
   "metadata": {},
   "outputs": [
    {
     "data": {
      "text/html": [
       "0.64540191725111"
      ],
      "text/latex": [
       "0.64540191725111"
      ],
      "text/markdown": [
       "0.64540191725111"
      ],
      "text/plain": [
       "[1] 0.6454019"
      ]
     },
     "metadata": {},
     "output_type": "display_data"
    }
   ],
   "source": [
    "0.124418/(0.124418+0.068358 )"
   ]
  },
  {
   "cell_type": "code",
   "execution_count": 82,
   "metadata": {},
   "outputs": [
    {
     "data": {
      "text/html": [
       "<style>\n",
       ".list-inline {list-style: none; margin:0; padding: 0}\n",
       ".list-inline>li {display: inline-block}\n",
       ".list-inline>li:not(:last-child)::after {content: \"\\00b7\"; padding: 0 .5ex}\n",
       "</style>\n",
       "<ol class=list-inline><li>1000</li><li>80</li><li>2</li></ol>\n"
      ],
      "text/latex": [
       "\\begin{enumerate*}\n",
       "\\item 1000\n",
       "\\item 80\n",
       "\\item 2\n",
       "\\end{enumerate*}\n"
      ],
      "text/markdown": [
       "1. 1000\n",
       "2. 80\n",
       "3. 2\n",
       "\n",
       "\n"
      ],
      "text/plain": [
       "[1] 1000   80    2"
      ]
     },
     "metadata": {},
     "output_type": "display_data"
    }
   ],
   "source": [
    "dim(simulated@ranef$\"HenID\")"
   ]
  },
  {
   "cell_type": "code",
   "execution_count": 81,
   "metadata": {},
   "outputs": [
    {
     "data": {
      "text/html": [
       "<style>\n",
       ".list-inline {list-style: none; margin:0; padding: 0}\n",
       ".list-inline>li {display: inline-block}\n",
       ".list-inline>li:not(:last-child)::after {content: \"\\00b7\"; padding: 0 .5ex}\n",
       "</style>\n",
       "<ol class=list-inline><li>1000</li><li>80</li></ol>\n"
      ],
      "text/latex": [
       "\\begin{enumerate*}\n",
       "\\item 1000\n",
       "\\item 80\n",
       "\\end{enumerate*}\n"
      ],
      "text/markdown": [
       "1. 1000\n",
       "2. 80\n",
       "\n",
       "\n"
      ],
      "text/plain": [
       "[1] 1000   80"
      ]
     },
     "metadata": {},
     "output_type": "display_data"
    }
   ],
   "source": [
    "dim(simulated@ranef$\"HenID\"[ , , 1]) #intercept"
   ]
  },
  {
   "cell_type": "code",
   "execution_count": 84,
   "metadata": {},
   "outputs": [
    {
     "ename": "ERROR",
     "evalue": "Error in simulated@ranef$HenID[, , 3]: indice hors limites\n",
     "output_type": "error",
     "traceback": [
      "Error in simulated@ranef$HenID[, , 3]: indice hors limites\nTraceback:\n"
     ]
    }
   ],
   "source": [
    "dim(simulated@ranef$\"HenID\"[ , , 2]) #time"
   ]
  },
  {
   "cell_type": "code",
   "execution_count": null,
   "metadata": {},
   "outputs": [],
   "source": []
  },
  {
   "cell_type": "code",
   "execution_count": null,
   "metadata": {},
   "outputs": [],
   "source": []
  },
  {
   "cell_type": "code",
   "execution_count": null,
   "metadata": {},
   "outputs": [],
   "source": []
  },
  {
   "cell_type": "code",
   "execution_count": null,
   "metadata": {},
   "outputs": [],
   "source": []
  },
  {
   "cell_type": "code",
   "execution_count": null,
   "metadata": {},
   "outputs": [],
   "source": []
  },
  {
   "cell_type": "code",
   "execution_count": null,
   "metadata": {},
   "outputs": [],
   "source": []
  },
  {
   "cell_type": "code",
   "execution_count": null,
   "metadata": {},
   "outputs": [],
   "source": []
  },
  {
   "cell_type": "code",
   "execution_count": null,
   "metadata": {},
   "outputs": [],
   "source": []
  },
  {
   "cell_type": "code",
   "execution_count": null,
   "metadata": {},
   "outputs": [],
   "source": []
  }
 ],
 "metadata": {
  "kernelspec": {
   "display_name": " Rkernel ",
   "language": "R",
   "name": "rkernel"
  },
  "language_info": {
   "codemirror_mode": "r",
   "file_extension": ".r",
   "mimetype": "text/x-r-source",
   "name": "R",
   "pygments_lexer": "r",
   "version": "3.6.1"
  }
 },
 "nbformat": 4,
 "nbformat_minor": 4
}
