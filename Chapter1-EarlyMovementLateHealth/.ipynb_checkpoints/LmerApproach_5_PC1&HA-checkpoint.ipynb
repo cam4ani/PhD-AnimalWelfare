{
 "cells": [
  {
   "cell_type": "code",
   "execution_count": 1,
   "metadata": {},
   "outputs": [
    {
     "name": "stderr",
     "output_type": "stream",
     "text": [
      "Warning message:\n",
      "\"package 'dplyr' was built under R version 3.6.3\"\n",
      "\n",
      "Attaching package: 'dplyr'\n",
      "\n",
      "\n",
      "The following objects are masked from 'package:stats':\n",
      "\n",
      "    filter, lag\n",
      "\n",
      "\n",
      "The following objects are masked from 'package:base':\n",
      "\n",
      "    intersect, setdiff, setequal, union\n",
      "\n",
      "\n",
      "Warning message:\n",
      "\"package 'effects' was built under R version 3.6.3\"\n",
      "Loading required package: carData\n",
      "\n",
      "Warning message:\n",
      "\"package 'carData' was built under R version 3.6.3\"\n",
      "lattice theme set by effectsTheme()\n",
      "See ?effectsTheme for details.\n",
      "\n",
      "Install package \"strengejacke\" from GitHub (`devtools::install_github(\"strengejacke/strengejacke\")`) to load all sj-packages at once!\n",
      "\n",
      "Warning message:\n",
      "\"package 'MuMIn' was built under R version 3.6.3\"\n",
      "Warning message:\n",
      "\"package 'lme4' was built under R version 3.6.3\"\n",
      "Loading required package: Matrix\n",
      "\n",
      "Warning message:\n",
      "\"package 'Matrix' was built under R version 3.6.3\"\n",
      "Warning message:\n",
      "\"package 'lmerTest' was built under R version 3.6.3\"\n",
      "\n",
      "Attaching package: 'lmerTest'\n",
      "\n",
      "\n",
      "The following object is masked from 'package:lme4':\n",
      "\n",
      "    lmer\n",
      "\n",
      "\n",
      "The following object is masked from 'package:stats':\n",
      "\n",
      "    step\n",
      "\n",
      "\n",
      "Warning message:\n",
      "\"package 'webshot' was built under R version 3.6.3\"\n"
     ]
    }
   ],
   "source": [
    "#library(caret)\n",
    "library(dplyr) #easy data processing\n",
    "library(ggplot2) #visuals\n",
    "library(effects)#calculate and display model estimates\n",
    "library(sjPlot) #plot estimate\n",
    "library(MuMIn) #r.squaredGLMM\n",
    "library(lme4) #random effect\n",
    "library(lmerTest) #like lmer but with p-value\n",
    "library(webshot) #save model output\n",
    "library(jtools) #effect_plot\n",
    "#library(ggpubr) #ggscatter"
   ]
  },
  {
   "cell_type": "code",
   "execution_count": 2,
   "metadata": {},
   "outputs": [],
   "source": [
    "#install.packages('jtools')"
   ]
  },
  {
   "cell_type": "raw",
   "metadata": {},
   "source": [
    "\"Model assumptions (normality of errors and homoscedasticity) were checked through graphical analysis of residuals.\n",
    "For GLMER models, residuals were simulated using package‘DHARMa’(Hartig, 2018). \n",
    "The final models were obtained by a stepwise backwards reduction of the full model using parametric bootstrap tests with package ‘pbkrtest’(Halekohand Højsgaard, 2014) for model comparison and a p-value of > 0.05 as the criterion for exclusion. \n",
    "The package‘effects’(Fox,2003) was used to calculate and display model estimates.\"\n",
    "pb-modcomp: Model comparison using parametric bootstrap methods.\n",
    "\"Final model selection for non-random effects followed a  backwards  stepwise  procedure  where  the  most  non-significant  term  in  the  model  was  removed  at  each  step,  three-way  then  two-way  interactions  were  removed  first  followed  by  non-interacting  terms,  until  obtaining  a  final  model  where  terms  that  explained  a  significant  amount  of   variation  were  retained.\""
   ]
  },
  {
   "cell_type": "code",
   "execution_count": 3,
   "metadata": {},
   "outputs": [],
   "source": [
    "#df_ = df[ which(df$PenID %in% c('pen3','pen4','pen5','pen10','pen11','pen12')), ]  "
   ]
  },
  {
   "cell_type": "markdown",
   "metadata": {},
   "source": [
    "# Download data"
   ]
  },
  {
   "cell_type": "code",
   "execution_count": 4,
   "metadata": {},
   "outputs": [
    {
     "name": "stdout",
     "output_type": "stream",
     "text": [
      "[1] 80 17\n"
     ]
    },
    {
     "data": {
      "text/plain": [
       "     HenID    InitialWeight  nbr_daysnomvt_over_3days atleast1day_nomvt\n",
       " hen_10 : 1   Min.   :1046   Min.   :0.0000           False:52         \n",
       " hen_101: 1   1st Qu.:1130   1st Qu.:0.0000           True :28         \n",
       " hen_102: 1   Median :1166   Median :0.0000                            \n",
       " hen_106: 1   Mean   :1169   Mean   :0.5625                            \n",
       " hen_107: 1   3rd Qu.:1200   3rd Qu.:1.0000                            \n",
       " hen_109: 1   Max.   :1350   Max.   :3.0000                            \n",
       " (Other):74                                                            \n",
       " vertical_travel_distance_perh BLUPIntercept         BLUP_slopes1      \n",
       " Min.   :0.0000                Min.   :-1.5121331   Min.   :-9.752224  \n",
       " 1st Qu.:0.7025                1st Qu.:-0.4195143   1st Qu.:-2.472993  \n",
       " Median :1.5185                Median : 0.0076180   Median : 0.014951  \n",
       " Mean   :1.6974                Mean   : 0.0007931   Mean   : 0.001079  \n",
       " 3rd Qu.:2.4236                3rd Qu.: 0.4648163   3rd Qu.: 2.098436  \n",
       " Max.   :6.0185                Max.   : 1.4108277   Max.   : 8.448232  \n",
       "                                                                       \n",
       "  BLUP_slopes2       Predictability_mean     PenID      CLASS    Treatment\n",
       " Min.   :-4.810347   Min.   :-1.663      pen10  :12   LEXP :24   OFH :41  \n",
       " 1st Qu.:-0.915880   1st Qu.:-1.184      pen11  :12   MEXP :34   TRAN:39  \n",
       " Median : 0.163818   Median :-1.029      pen5   :11   Other:22            \n",
       " Mean   :-0.000153   Mean   :-1.031      pen4   :10                       \n",
       " 3rd Qu.: 0.896386   3rd Qu.:-0.848      pen8   :10                       \n",
       " Max.   : 5.728852   Max.   :-0.551      pen9   :10                       \n",
       "                                         (Other):15                       \n",
       "    severity         weight        Feathers      HAID    FeatherDamage  \n",
       " Min.   : 6.00   Min.   :1518   Min.   :35.00   HA5:80   Min.   :13.33  \n",
       " 1st Qu.:24.00   1st Qu.:1793   1st Qu.:58.50            1st Qu.:26.50  \n",
       " Median :36.00   Median :1913   Median :66.33            Median :33.67  \n",
       " Mean   :35.83   Mean   :1908   Mean   :65.66            Mean   :34.34  \n",
       " 3rd Qu.:44.50   3rd Qu.:2019   3rd Qu.:73.50            3rd Qu.:41.50  \n",
       " Max.   :84.00   Max.   :2304   Max.   :86.67            Max.   :65.00  \n",
       "                                NA's   :1                NA's   :1      "
      ]
     },
     "metadata": {},
     "output_type": "display_data"
    },
    {
     "data": {
      "text/html": [
       "<table class=\"dataframe\">\n",
       "<caption>A data.frame: 3 × 17</caption>\n",
       "<thead>\n",
       "\t<tr><th></th><th scope=col>HenID</th><th scope=col>InitialWeight</th><th scope=col>nbr_daysnomvt_over_3days</th><th scope=col>atleast1day_nomvt</th><th scope=col>vertical_travel_distance_perh</th><th scope=col>BLUPIntercept</th><th scope=col>BLUP_slopes1</th><th scope=col>BLUP_slopes2</th><th scope=col>Predictability_mean</th><th scope=col>PenID</th><th scope=col>CLASS</th><th scope=col>Treatment</th><th scope=col>severity</th><th scope=col>weight</th><th scope=col>Feathers</th><th scope=col>HAID</th><th scope=col>FeatherDamage</th></tr>\n",
       "\t<tr><th></th><th scope=col>&lt;fct&gt;</th><th scope=col>&lt;dbl&gt;</th><th scope=col>&lt;int&gt;</th><th scope=col>&lt;fct&gt;</th><th scope=col>&lt;dbl&gt;</th><th scope=col>&lt;dbl&gt;</th><th scope=col>&lt;dbl&gt;</th><th scope=col>&lt;dbl&gt;</th><th scope=col>&lt;dbl&gt;</th><th scope=col>&lt;fct&gt;</th><th scope=col>&lt;fct&gt;</th><th scope=col>&lt;fct&gt;</th><th scope=col>&lt;int&gt;</th><th scope=col>&lt;dbl&gt;</th><th scope=col>&lt;dbl&gt;</th><th scope=col>&lt;fct&gt;</th><th scope=col>&lt;dbl&gt;</th></tr>\n",
       "</thead>\n",
       "<tbody>\n",
       "\t<tr><th scope=row>1</th><td>hen_134</td><td>1112</td><td>1</td><td>True </td><td>0.9074074</td><td>-0.45141629</td><td> 1.622968</td><td>-0.1852011</td><td>-0.8527709</td><td>pen10</td><td>MEXP </td><td>TRAN</td><td>34</td><td>1771.7</td><td>73.00000</td><td>HA5</td><td>27.00000</td></tr>\n",
       "\t<tr><th scope=row>2</th><td>hen_138</td><td>1244</td><td>0</td><td>False</td><td>2.0972222</td><td> 0.53886010</td><td>-3.929196</td><td> 2.0139526</td><td>-0.7453427</td><td>pen10</td><td>MEXP </td><td>TRAN</td><td>44</td><td>2100.5</td><td>80.00000</td><td>HA5</td><td>20.00000</td></tr>\n",
       "\t<tr><th scope=row>3</th><td>hen_139</td><td>1350</td><td>0</td><td>False</td><td>1.6296296</td><td>-0.05265687</td><td>-2.415936</td><td> 0.3523216</td><td>-1.0599381</td><td>pen10</td><td>Other</td><td>TRAN</td><td>30</td><td>2038.7</td><td>73.66667</td><td>HA5</td><td>26.33333</td></tr>\n",
       "</tbody>\n",
       "</table>\n"
      ],
      "text/latex": [
       "A data.frame: 3 × 17\n",
       "\\begin{tabular}{r|lllllllllllllllll}\n",
       "  & HenID & InitialWeight & nbr\\_daysnomvt\\_over\\_3days & atleast1day\\_nomvt & vertical\\_travel\\_distance\\_perh & BLUPIntercept & BLUP\\_slopes1 & BLUP\\_slopes2 & Predictability\\_mean & PenID & CLASS & Treatment & severity & weight & Feathers & HAID & FeatherDamage\\\\\n",
       "  & <fct> & <dbl> & <int> & <fct> & <dbl> & <dbl> & <dbl> & <dbl> & <dbl> & <fct> & <fct> & <fct> & <int> & <dbl> & <dbl> & <fct> & <dbl>\\\\\n",
       "\\hline\n",
       "\t1 & hen\\_134 & 1112 & 1 & True  & 0.9074074 & -0.45141629 &  1.622968 & -0.1852011 & -0.8527709 & pen10 & MEXP  & TRAN & 34 & 1771.7 & 73.00000 & HA5 & 27.00000\\\\\n",
       "\t2 & hen\\_138 & 1244 & 0 & False & 2.0972222 &  0.53886010 & -3.929196 &  2.0139526 & -0.7453427 & pen10 & MEXP  & TRAN & 44 & 2100.5 & 80.00000 & HA5 & 20.00000\\\\\n",
       "\t3 & hen\\_139 & 1350 & 0 & False & 1.6296296 & -0.05265687 & -2.415936 &  0.3523216 & -1.0599381 & pen10 & Other & TRAN & 30 & 2038.7 & 73.66667 & HA5 & 26.33333\\\\\n",
       "\\end{tabular}\n"
      ],
      "text/markdown": [
       "\n",
       "A data.frame: 3 × 17\n",
       "\n",
       "| <!--/--> | HenID &lt;fct&gt; | InitialWeight &lt;dbl&gt; | nbr_daysnomvt_over_3days &lt;int&gt; | atleast1day_nomvt &lt;fct&gt; | vertical_travel_distance_perh &lt;dbl&gt; | BLUPIntercept &lt;dbl&gt; | BLUP_slopes1 &lt;dbl&gt; | BLUP_slopes2 &lt;dbl&gt; | Predictability_mean &lt;dbl&gt; | PenID &lt;fct&gt; | CLASS &lt;fct&gt; | Treatment &lt;fct&gt; | severity &lt;int&gt; | weight &lt;dbl&gt; | Feathers &lt;dbl&gt; | HAID &lt;fct&gt; | FeatherDamage &lt;dbl&gt; |\n",
       "|---|---|---|---|---|---|---|---|---|---|---|---|---|---|---|---|---|---|\n",
       "| 1 | hen_134 | 1112 | 1 | True  | 0.9074074 | -0.45141629 |  1.622968 | -0.1852011 | -0.8527709 | pen10 | MEXP  | TRAN | 34 | 1771.7 | 73.00000 | HA5 | 27.00000 |\n",
       "| 2 | hen_138 | 1244 | 0 | False | 2.0972222 |  0.53886010 | -3.929196 |  2.0139526 | -0.7453427 | pen10 | MEXP  | TRAN | 44 | 2100.5 | 80.00000 | HA5 | 20.00000 |\n",
       "| 3 | hen_139 | 1350 | 0 | False | 1.6296296 | -0.05265687 | -2.415936 |  0.3523216 | -1.0599381 | pen10 | Other | TRAN | 30 | 2038.7 | 73.66667 | HA5 | 26.33333 |\n",
       "\n"
      ],
      "text/plain": [
       "  HenID   InitialWeight nbr_daysnomvt_over_3days atleast1day_nomvt\n",
       "1 hen_134 1112          1                        True             \n",
       "2 hen_138 1244          0                        False            \n",
       "3 hen_139 1350          0                        False            \n",
       "  vertical_travel_distance_perh BLUPIntercept BLUP_slopes1 BLUP_slopes2\n",
       "1 0.9074074                     -0.45141629    1.622968    -0.1852011  \n",
       "2 2.0972222                      0.53886010   -3.929196     2.0139526  \n",
       "3 1.6296296                     -0.05265687   -2.415936     0.3523216  \n",
       "  Predictability_mean PenID CLASS Treatment severity weight Feathers HAID\n",
       "1 -0.8527709          pen10 MEXP  TRAN      34       1771.7 73.00000 HA5 \n",
       "2 -0.7453427          pen10 MEXP  TRAN      44       2100.5 80.00000 HA5 \n",
       "3 -1.0599381          pen10 Other TRAN      30       2038.7 73.66667 HA5 \n",
       "  FeatherDamage\n",
       "1 27.00000     \n",
       "2 20.00000     \n",
       "3 26.33333     "
      ]
     },
     "metadata": {},
     "output_type": "display_data"
    }
   ],
   "source": [
    "path_ = 'G:/VPHI/Welfare/2- Research Projects/OFHE2.OriginsE2/DataOutput/TrackingSystem/ALLDATA_/Adaptability'\n",
    "df = read.csv(file.path(path_,'df_MVT_4stat.csv'), header = TRUE, sep = \";\") \n",
    "df$PenID = as.factor(df$PenID) \n",
    "df$Treatment = as.factor(df$Treatment) \n",
    "df$CLASS = as.factor(df$CLASS) \n",
    "df$FeatherDamage = 100-df$Feathers\n",
    "print(dim(df))\n",
    "summary(df)\n",
    "head(df,3)"
   ]
  },
  {
   "cell_type": "markdown",
   "metadata": {},
   "source": [
    "# Feathers"
   ]
  },
  {
   "cell_type": "code",
   "execution_count": 5,
   "metadata": {},
   "outputs": [
    {
     "data": {
      "image/png": "[encoded data removed]",
      "text/plain": [
       "Plot with title \"Histogram of df$FeatherDamage\""
      ]
     },
     "metadata": {
      "image/png": {
       "height": 420,
       "width": 420
      }
     },
     "output_type": "display_data"
    }
   ],
   "source": [
    "hist(df$FeatherDamage)"
   ]
  },
  {
   "cell_type": "markdown",
   "metadata": {},
   "source": [
    "fit = lmerTest::lmer(FeatherDamage ~ nbr_daysnomvt_over_3days + BLUPIntercept + BLUP_slopes1 + Predictability_mean + CLASS + Treatment + (1|PenID), data=df)\n",
    "fit_feather = fit\n",
    "anova(fit)\n",
    "effCoef(fit)\n",
    "r.squaredGLMM(fit_feather)\n",
    "\n",
    "#capture.output(summary(fit), file=file.path(path_,paste(name,'.txt', sep='')), append=TRUE)\n",
    "summary(fit)\n",
    "#Assumptions\n",
    "#####normally distributed residuals\n",
    "#qqmath(fit, id=0.05)\n",
    "qqnorm(resid(fit), main = \"Residuals\")\n",
    "qqline(resid(fit))\n",
    "#####normally of random effects\n",
    "qqmath(ranef(fit,postVar = TRUE))\n",
    "######check homogeneity of variance (residuals has constant variance)\n",
    "#variance of the residuals is equal across groups. Even spread around the centered line?\n",
    "plot(fit)\n",
    "\n",
    "#plot estimates\n",
    "plot_model(fit, vline.color = \"red\")"
   ]
  },
  {
   "cell_type": "code",
   "execution_count": 6,
   "metadata": {},
   "outputs": [
    {
     "data": {
      "text/html": [
       "<table class=\"dataframe\">\n",
       "<caption>A anova: 5 × 5</caption>\n",
       "<thead>\n",
       "\t<tr><th></th><th scope=col>Df</th><th scope=col>Sum Sq</th><th scope=col>Mean Sq</th><th scope=col>F value</th><th scope=col>Pr(&gt;F)</th></tr>\n",
       "\t<tr><th></th><th scope=col>&lt;int&gt;</th><th scope=col>&lt;dbl&gt;</th><th scope=col>&lt;dbl&gt;</th><th scope=col>&lt;dbl&gt;</th><th scope=col>&lt;dbl&gt;</th></tr>\n",
       "</thead>\n",
       "<tbody>\n",
       "\t<tr><th scope=row>nbr_daysnomvt_over_3days</th><td> 1</td><td>  16.6549598</td><td> 16.6549598</td><td>0.134561629</td><td>0.7147954</td></tr>\n",
       "\t<tr><th scope=row>BLUPIntercept</th><td> 1</td><td>  79.2407524</td><td> 79.2407524</td><td>0.640215578</td><td>0.4261940</td></tr>\n",
       "\t<tr><th scope=row>Predictability_mean</th><td> 1</td><td> 145.7642529</td><td>145.7642529</td><td>1.177683737</td><td>0.2813508</td></tr>\n",
       "\t<tr><th scope=row>Treatment</th><td> 1</td><td>   0.4340184</td><td>  0.4340184</td><td>0.003506596</td><td>0.9529393</td></tr>\n",
       "\t<tr><th scope=row>Residuals</th><td>74</td><td>9159.1268322</td><td>123.7719842</td><td>         NA</td><td>       NA</td></tr>\n",
       "</tbody>\n",
       "</table>\n"
      ],
      "text/latex": [
       "A anova: 5 × 5\n",
       "\\begin{tabular}{r|lllll}\n",
       "  & Df & Sum Sq & Mean Sq & F value & Pr(>F)\\\\\n",
       "  & <int> & <dbl> & <dbl> & <dbl> & <dbl>\\\\\n",
       "\\hline\n",
       "\tnbr\\_daysnomvt\\_over\\_3days &  1 &   16.6549598 &  16.6549598 & 0.134561629 & 0.7147954\\\\\n",
       "\tBLUPIntercept &  1 &   79.2407524 &  79.2407524 & 0.640215578 & 0.4261940\\\\\n",
       "\tPredictability\\_mean &  1 &  145.7642529 & 145.7642529 & 1.177683737 & 0.2813508\\\\\n",
       "\tTreatment &  1 &    0.4340184 &   0.4340184 & 0.003506596 & 0.9529393\\\\\n",
       "\tResiduals & 74 & 9159.1268322 & 123.7719842 &          NA &        NA\\\\\n",
       "\\end{tabular}\n"
      ],
      "text/markdown": [
       "\n",
       "A anova: 5 × 5\n",
       "\n",
       "| <!--/--> | Df &lt;int&gt; | Sum Sq &lt;dbl&gt; | Mean Sq &lt;dbl&gt; | F value &lt;dbl&gt; | Pr(&gt;F) &lt;dbl&gt; |\n",
       "|---|---|---|---|---|---|\n",
       "| nbr_daysnomvt_over_3days |  1 |   16.6549598 |  16.6549598 | 0.134561629 | 0.7147954 |\n",
       "| BLUPIntercept |  1 |   79.2407524 |  79.2407524 | 0.640215578 | 0.4261940 |\n",
       "| Predictability_mean |  1 |  145.7642529 | 145.7642529 | 1.177683737 | 0.2813508 |\n",
       "| Treatment |  1 |    0.4340184 |   0.4340184 | 0.003506596 | 0.9529393 |\n",
       "| Residuals | 74 | 9159.1268322 | 123.7719842 |          NA |        NA |\n",
       "\n"
      ],
      "text/plain": [
       "                         Df Sum Sq       Mean Sq     F value     Pr(>F)   \n",
       "nbr_daysnomvt_over_3days  1   16.6549598  16.6549598 0.134561629 0.7147954\n",
       "BLUPIntercept             1   79.2407524  79.2407524 0.640215578 0.4261940\n",
       "Predictability_mean       1  145.7642529 145.7642529 1.177683737 0.2813508\n",
       "Treatment                 1    0.4340184   0.4340184 0.003506596 0.9529393\n",
       "Residuals                74 9159.1268322 123.7719842          NA        NA"
      ]
     },
     "metadata": {},
     "output_type": "display_data"
    },
    {
     "data": {
      "text/plain": [
       "\n",
       "Call:\n",
       "lm(formula = FeatherDamage ~ nbr_daysnomvt_over_3days + BLUPIntercept + \n",
       "    Predictability_mean + Treatment, data = df)\n",
       "\n",
       "Residuals:\n",
       "     Min       1Q   Median       3Q      Max \n",
       "-20.5268  -7.5887  -0.2445   7.0183  30.9771 \n",
       "\n",
       "Coefficients:\n",
       "                         Estimate Std. Error t value Pr(>|t|)    \n",
       "(Intercept)               28.6092     6.0090   4.761 9.33e-06 ***\n",
       "nbr_daysnomvt_over_3days  -1.3957     1.5565  -0.897    0.373    \n",
       "BLUPIntercept             -2.3278     2.3003  -1.012    0.315    \n",
       "Predictability_mean       -6.2758     5.7936  -1.083    0.282    \n",
       "TreatmentTRAN              0.1487     2.5109   0.059    0.953    \n",
       "---\n",
       "Signif. codes:  0 '***' 0.001 '**' 0.01 '*' 0.05 '.' 0.1 ' ' 1\n",
       "\n",
       "Residual standard error: 11.13 on 74 degrees of freedom\n",
       "  (1 observation deleted due to missingness)\n",
       "Multiple R-squared:  0.02575,\tAdjusted R-squared:  -0.02691 \n",
       "F-statistic: 0.489 on 4 and 74 DF,  p-value: 0.7438\n"
      ]
     },
     "metadata": {},
     "output_type": "display_data"
    },
    {
     "ename": "ERROR",
     "evalue": "Error in qqmath(ranef(fit, postVar = TRUE)): impossible de trouver la fonction \"qqmath\"\n",
     "output_type": "error",
     "traceback": [
      "Error in qqmath(ranef(fit, postVar = TRUE)): impossible de trouver la fonction \"qqmath\"\nTraceback:\n"
     ]
    },
    {
     "data": {
      "image/png": "[encoded data removed]",
      "text/plain": [
       "Plot with title \"Residuals\""
      ]
     },
     "metadata": {
      "image/png": {
       "height": 420,
       "width": 420
      }
     },
     "output_type": "display_data"
    }
   ],
   "source": [
    "fit = lm(FeatherDamage ~ nbr_daysnomvt_over_3days + BLUPIntercept + Predictability_mean + Treatment, data=df)\n",
    "fit_feather = fit\n",
    "anova(fit)\n",
    "#BLUP_slopes1, BLUP_slopes2, BLUPIntercept\n",
    "\n",
    "#capture.output(summary(fit), file=file.path(path_,paste(name,'.txt', sep='')), append=TRUE)\n",
    "summary(fit)\n",
    "#Assumptions\n",
    "###### normally distributed residuals\n",
    "#qqmath(fit, id=0.05)\n",
    "qqnorm(resid(fit), main = \"Residuals\")\n",
    "qqline(resid(fit))\n",
    "###### normally of random effects\n",
    "qqmath(ranef(fit,postVar = TRUE))\n",
    "######check homogeneity of variance (residuals has constant variance)\n",
    "#variance of the residuals is equal across groups. Even spread around the centered line?\n",
    "plot(fit)\n",
    "\n",
    "#plot estimates\n",
    "plot_model(fit, vline.color = \"red\")"
   ]
  },
  {
   "cell_type": "code",
   "execution_count": null,
   "metadata": {},
   "outputs": [],
   "source": []
  },
  {
   "cell_type": "code",
   "execution_count": 7,
   "metadata": {},
   "outputs": [
    {
     "data": {
      "text/html": [
       "<table class=\"dataframe\">\n",
       "<caption>A matrix: 5 × 2 of type dbl</caption>\n",
       "<thead>\n",
       "\t<tr><th></th><th scope=col>2.5 %</th><th scope=col>97.5 %</th></tr>\n",
       "</thead>\n",
       "<tbody>\n",
       "\t<tr><th scope=row>(Intercept)</th><td> 16.636001</td><td>40.582318</td></tr>\n",
       "\t<tr><th scope=row>nbr_daysnomvt_over_3days</th><td> -4.497006</td><td> 1.705625</td></tr>\n",
       "\t<tr><th scope=row>BLUPIntercept</th><td> -6.911246</td><td> 2.255560</td></tr>\n",
       "\t<tr><th scope=row>Predictability_mean</th><td>-17.819699</td><td> 5.268167</td></tr>\n",
       "\t<tr><th scope=row>TreatmentTRAN</th><td> -4.854411</td><td> 5.151786</td></tr>\n",
       "</tbody>\n",
       "</table>\n"
      ],
      "text/latex": [
       "A matrix: 5 × 2 of type dbl\n",
       "\\begin{tabular}{r|ll}\n",
       "  & 2.5 \\% & 97.5 \\%\\\\\n",
       "\\hline\n",
       "\t(Intercept) &  16.636001 & 40.582318\\\\\n",
       "\tnbr\\_daysnomvt\\_over\\_3days &  -4.497006 &  1.705625\\\\\n",
       "\tBLUPIntercept &  -6.911246 &  2.255560\\\\\n",
       "\tPredictability\\_mean & -17.819699 &  5.268167\\\\\n",
       "\tTreatmentTRAN &  -4.854411 &  5.151786\\\\\n",
       "\\end{tabular}\n"
      ],
      "text/markdown": [
       "\n",
       "A matrix: 5 × 2 of type dbl\n",
       "\n",
       "| <!--/--> | 2.5 % | 97.5 % |\n",
       "|---|---|---|\n",
       "| (Intercept) |  16.636001 | 40.582318 |\n",
       "| nbr_daysnomvt_over_3days |  -4.497006 |  1.705625 |\n",
       "| BLUPIntercept |  -6.911246 |  2.255560 |\n",
       "| Predictability_mean | -17.819699 |  5.268167 |\n",
       "| TreatmentTRAN |  -4.854411 |  5.151786 |\n",
       "\n"
      ],
      "text/plain": [
       "                         2.5 %      97.5 %   \n",
       "(Intercept)               16.636001 40.582318\n",
       "nbr_daysnomvt_over_3days  -4.497006  1.705625\n",
       "BLUPIntercept             -6.911246  2.255560\n",
       "Predictability_mean      -17.819699  5.268167\n",
       "TreatmentTRAN             -4.854411  5.151786"
      ]
     },
     "metadata": {},
     "output_type": "display_data"
    }
   ],
   "source": [
    "#profile likelihood confidence intervals\n",
    "confint(fit_feather)"
   ]
  },
  {
   "cell_type": "code",
   "execution_count": 8,
   "metadata": {},
   "outputs": [],
   "source": [
    "tab_model(fit_feather, file=file.path(path_,'LMERFeather.html'))\n",
    "# then take this html file and make .png file\n",
    "webshot(file.path(path_,'LMERFeather.html'), file.path(path_,'LMERFeather.png'))#, zoom=3, cliprect = c(0, 5, 600, 270))"
   ]
  },
  {
   "cell_type": "markdown",
   "metadata": {},
   "source": [
    "## Severity HA5"
   ]
  },
  {
   "cell_type": "code",
   "execution_count": 9,
   "metadata": {},
   "outputs": [
    {
     "data": {
      "image/png": "[encoded data removed]",
      "text/plain": [
       "Plot with title \"Histogram of df$severity\""
      ]
     },
     "metadata": {
      "image/png": {
       "height": 420,
       "width": 420
      }
     },
     "output_type": "display_data"
    }
   ],
   "source": [
    "hist(df$severity)"
   ]
  },
  {
   "cell_type": "markdown",
   "metadata": {},
   "source": [
    "fit = lmerTest::lmer(severity ~ nbr_daysnomvt_over_3days + BLUPIntercept + BLUP_slopes1 + Predictability_mean + CLASS + Treatment + (1|PenID), data=df)\n",
    "fit_severity = fit\n",
    "anova(fit)\n",
    "effCoef(fit)\n",
    "r.squaredGLMM(fit_severity)\n",
    "\n",
    "#capture.output(summary(fit), file=file.path(path_,paste(name,'.txt', sep='')), append=TRUE)\n",
    "summary(fit)\n",
    "#Assumptions\n",
    "######normally distributed residuals\n",
    "#qqmath(fit, id=0.05)\n",
    "qqnorm(resid(fit), main = \"Residuals\")\n",
    "qqline(resid(fit))\n",
    "######normally of random effects\n",
    "qqmath(ranef(fit,postVar = TRUE))\n",
    "######check homogeneity of variance (residuals has constant variance)\n",
    "#variance of the residuals is equal across groups. Even spread around the centered line?\n",
    "plot(fit)\n",
    "\n",
    "#plot estimates\n",
    "plot_model(fit, vline.color = \"red\")"
   ]
  },
  {
   "cell_type": "code",
   "execution_count": 10,
   "metadata": {},
   "outputs": [
    {
     "data": {
      "text/html": [
       "<table class=\"dataframe\">\n",
       "<caption>A anova: 6 × 5</caption>\n",
       "<thead>\n",
       "\t<tr><th></th><th scope=col>Df</th><th scope=col>Sum Sq</th><th scope=col>Mean Sq</th><th scope=col>F value</th><th scope=col>Pr(&gt;F)</th></tr>\n",
       "\t<tr><th></th><th scope=col>&lt;int&gt;</th><th scope=col>&lt;dbl&gt;</th><th scope=col>&lt;dbl&gt;</th><th scope=col>&lt;dbl&gt;</th><th scope=col>&lt;dbl&gt;</th></tr>\n",
       "</thead>\n",
       "<tbody>\n",
       "\t<tr><th scope=row>nbr_daysnomvt_over_3days</th><td> 1</td><td>  949.23675</td><td>949.23675</td><td>4.3520282</td><td>0.04045921</td></tr>\n",
       "\t<tr><th scope=row>BLUPIntercept</th><td> 1</td><td>   68.28617</td><td> 68.28617</td><td>0.3130761</td><td>0.57751147</td></tr>\n",
       "\t<tr><th scope=row>Predictability_mean</th><td> 1</td><td>  866.66510</td><td>866.66510</td><td>3.9734566</td><td>0.04996016</td></tr>\n",
       "\t<tr><th scope=row>CLASS</th><td> 2</td><td>  203.70425</td><td>101.85213</td><td>0.4669682</td><td>0.62875961</td></tr>\n",
       "\t<tr><th scope=row>Treatment</th><td> 1</td><td>  855.36149</td><td>855.36149</td><td>3.9216321</td><td>0.05143775</td></tr>\n",
       "\t<tr><th scope=row>Residuals</th><td>73</td><td>15922.29624</td><td>218.11365</td><td>       NA</td><td>        NA</td></tr>\n",
       "</tbody>\n",
       "</table>\n"
      ],
      "text/latex": [
       "A anova: 6 × 5\n",
       "\\begin{tabular}{r|lllll}\n",
       "  & Df & Sum Sq & Mean Sq & F value & Pr(>F)\\\\\n",
       "  & <int> & <dbl> & <dbl> & <dbl> & <dbl>\\\\\n",
       "\\hline\n",
       "\tnbr\\_daysnomvt\\_over\\_3days &  1 &   949.23675 & 949.23675 & 4.3520282 & 0.04045921\\\\\n",
       "\tBLUPIntercept &  1 &    68.28617 &  68.28617 & 0.3130761 & 0.57751147\\\\\n",
       "\tPredictability\\_mean &  1 &   866.66510 & 866.66510 & 3.9734566 & 0.04996016\\\\\n",
       "\tCLASS &  2 &   203.70425 & 101.85213 & 0.4669682 & 0.62875961\\\\\n",
       "\tTreatment &  1 &   855.36149 & 855.36149 & 3.9216321 & 0.05143775\\\\\n",
       "\tResiduals & 73 & 15922.29624 & 218.11365 &        NA &         NA\\\\\n",
       "\\end{tabular}\n"
      ],
      "text/markdown": [
       "\n",
       "A anova: 6 × 5\n",
       "\n",
       "| <!--/--> | Df &lt;int&gt; | Sum Sq &lt;dbl&gt; | Mean Sq &lt;dbl&gt; | F value &lt;dbl&gt; | Pr(&gt;F) &lt;dbl&gt; |\n",
       "|---|---|---|---|---|---|\n",
       "| nbr_daysnomvt_over_3days |  1 |   949.23675 | 949.23675 | 4.3520282 | 0.04045921 |\n",
       "| BLUPIntercept |  1 |    68.28617 |  68.28617 | 0.3130761 | 0.57751147 |\n",
       "| Predictability_mean |  1 |   866.66510 | 866.66510 | 3.9734566 | 0.04996016 |\n",
       "| CLASS |  2 |   203.70425 | 101.85213 | 0.4669682 | 0.62875961 |\n",
       "| Treatment |  1 |   855.36149 | 855.36149 | 3.9216321 | 0.05143775 |\n",
       "| Residuals | 73 | 15922.29624 | 218.11365 |        NA |         NA |\n",
       "\n"
      ],
      "text/plain": [
       "                         Df Sum Sq      Mean Sq   F value   Pr(>F)    \n",
       "nbr_daysnomvt_over_3days  1   949.23675 949.23675 4.3520282 0.04045921\n",
       "BLUPIntercept             1    68.28617  68.28617 0.3130761 0.57751147\n",
       "Predictability_mean       1   866.66510 866.66510 3.9734566 0.04996016\n",
       "CLASS                     2   203.70425 101.85213 0.4669682 0.62875961\n",
       "Treatment                 1   855.36149 855.36149 3.9216321 0.05143775\n",
       "Residuals                73 15922.29624 218.11365        NA         NA"
      ]
     },
     "metadata": {},
     "output_type": "display_data"
    },
    {
     "data": {
      "text/plain": [
       "\n",
       "Call:\n",
       "lm(formula = severity ~ nbr_daysnomvt_over_3days + BLUPIntercept + \n",
       "    Predictability_mean + CLASS + Treatment, data = df)\n",
       "\n",
       "Residuals:\n",
       "    Min      1Q  Median      3Q     Max \n",
       "-28.607  -9.426  -0.246   9.738  44.506 \n",
       "\n",
       "Coefficients:\n",
       "                         Estimate Std. Error t value Pr(>|t|)    \n",
       "(Intercept)                53.492      8.333   6.420 1.22e-08 ***\n",
       "nbr_daysnomvt_over_3days    4.962      2.075   2.391   0.0194 *  \n",
       "BLUPIntercept               3.139      3.068   1.023   0.3096    \n",
       "Predictability_mean        15.145      7.730   1.959   0.0539 .  \n",
       "CLASSMEXP                  -3.437      4.022  -0.855   0.3956    \n",
       "CLASSOther                 -0.702      4.402  -0.159   0.8737    \n",
       "TreatmentTRAN              -6.562      3.314  -1.980   0.0514 .  \n",
       "---\n",
       "Signif. codes:  0 '***' 0.001 '**' 0.01 '*' 0.05 '.' 0.1 ' ' 1\n",
       "\n",
       "Residual standard error: 14.77 on 73 degrees of freedom\n",
       "Multiple R-squared:  0.156,\tAdjusted R-squared:  0.08664 \n",
       "F-statistic: 2.249 on 6 and 73 DF,  p-value: 0.04782\n"
      ]
     },
     "metadata": {},
     "output_type": "display_data"
    },
    {
     "ename": "ERROR",
     "evalue": "Error in qqmath(ranef(fit, postVar = TRUE)): impossible de trouver la fonction \"qqmath\"\n",
     "output_type": "error",
     "traceback": [
      "Error in qqmath(ranef(fit, postVar = TRUE)): impossible de trouver la fonction \"qqmath\"\nTraceback:\n"
     ]
    },
    {
     "data": {
      "image/png": "[encoded data removed]",
      "text/plain": [
       "Plot with title \"Residuals\""
      ]
     },
     "metadata": {
      "image/png": {
       "height": 420,
       "width": 420
      }
     },
     "output_type": "display_data"
    }
   ],
   "source": [
    "fit = lm(severity ~ nbr_daysnomvt_over_3days + BLUPIntercept + Predictability_mean + CLASS + Treatment, data=df)\n",
    "fit_severity = fit\n",
    "anova(fit)\n",
    "\n",
    "#BLUP_slopes1, BLUP_slopes2, BLUPIntercept\n",
    "\n",
    "#capture.output(summary(fit), file=file.path(path_,paste(name,'.txt', sep='')), append=TRUE)\n",
    "summary(fit)\n",
    "#Assumptions\n",
    "###### normally distributed residuals\n",
    "#qqmath(fit, id=0.05)\n",
    "qqnorm(resid(fit), main = \"Residuals\")\n",
    "qqline(resid(fit))\n",
    "###### normally of random effects\n",
    "qqmath(ranef(fit,postVar = TRUE))\n",
    "######check homogeneity of variance (residuals has constant variance)\n",
    "#variance of the residuals is equal across groups. Even spread around the centered line?\n",
    "plot(fit)\n",
    "\n",
    "#plot estimates\n",
    "plot_model(fit, vline.color = \"red\")"
   ]
  },
  {
   "cell_type": "code",
   "execution_count": 11,
   "metadata": {},
   "outputs": [],
   "source": [
    "tab_model(fit_severity, file=file.path(path_,'LMERSEVERITY.html'))\n",
    "# then take this html file and make .png file\n",
    "webshot(file.path(path_,'LMERSEVERITY.html'), file.path(path_,'LMERSEVERITY.png'))#, zoom=2)#, cliprect = c(0, 5, 600, 270))"
   ]
  },
  {
   "cell_type": "code",
   "execution_count": 12,
   "metadata": {},
   "outputs": [
    {
     "data": {
      "image/png": "[encoded data removed]",
      "text/plain": [
       "plot without title"
      ]
     },
     "metadata": {
      "image/png": {
       "height": 420,
       "width": 420
      }
     },
     "output_type": "display_data"
    }
   ],
   "source": [
    "effect_plot(fit_severity, pred=nbr_daysnomvt_over_3days, interval=TRUE, plot.points=TRUE, partial.residuals = TRUE)+ xlab(\"Total #zones visited during first 3 days\")+ylab('Keel bone fracture severity')\n",
    "ggsave(file.path(path_,'Severity_nbr_days_nomvt_pred.png'), width=4, height=4, bg = \"transparent\")"
   ]
  },
  {
   "cell_type": "markdown",
   "metadata": {},
   "source": [
    "ggscatter(df, x = \"nbr_first3days_no_mvt\", y = \"severity\",color = \"PenID\")\n",
    "ggsave(file.path(path_,'Severity_nbr_days_nomvt_scatter.png'),width=5, height=5)"
   ]
  },
  {
   "cell_type": "code",
   "execution_count": 13,
   "metadata": {},
   "outputs": [
    {
     "data": {
      "image/png": "[encoded data removed]",
      "text/plain": [
       "plot without title"
      ]
     },
     "metadata": {
      "image/png": {
       "height": 420,
       "width": 420
      }
     },
     "output_type": "display_data"
    }
   ],
   "source": [
    "effect_plot(fit_severity, pred=Predictability_mean, interval=TRUE, plot.points=TRUE, partial.residuals=TRUE)+xlab(\"Ranked Predictability\")+ylab('Keel bone fracture severity')\n",
    "ggsave(file.path(path_,'Severity_Predictability_mean.png'), width=4, height=4, bg = \"transparent\")"
   ]
  },
  {
   "cell_type": "code",
   "execution_count": 14,
   "metadata": {},
   "outputs": [
    {
     "name": "stderr",
     "output_type": "stream",
     "text": [
      "Warning message:\n",
      "\"Could not access model information.\"\n"
     ]
    },
    {
     "ename": "ERROR",
     "evalue": "Error in if (fam.info$is_linear) tf <- NULL else tf <- \"exp\": l'argument est de longueur nulle\n",
     "output_type": "error",
     "traceback": [
      "Error in if (fam.info$is_linear) tf <- NULL else tf <- \"exp\": l'argument est de longueur nulle\nTraceback:\n",
      "1. plot_models(c(fit_feather, fit_severity), vline.color = \"red\")"
     ]
    }
   ],
   "source": [
    "plot_models(c(fit_feather, fit_severity), vline.color = \"red\")"
   ]
  },
  {
   "cell_type": "code",
   "execution_count": null,
   "metadata": {},
   "outputs": [],
   "source": []
  },
  {
   "cell_type": "code",
   "execution_count": null,
   "metadata": {},
   "outputs": [],
   "source": []
  },
  {
   "cell_type": "code",
   "execution_count": null,
   "metadata": {},
   "outputs": [],
   "source": []
  },
  {
   "cell_type": "code",
   "execution_count": null,
   "metadata": {},
   "outputs": [],
   "source": []
  },
  {
   "cell_type": "code",
   "execution_count": null,
   "metadata": {},
   "outputs": [],
   "source": []
  },
  {
   "cell_type": "code",
   "execution_count": null,
   "metadata": {},
   "outputs": [],
   "source": []
  },
  {
   "cell_type": "code",
   "execution_count": null,
   "metadata": {},
   "outputs": [],
   "source": []
  }
 ],
 "metadata": {
  "kernelspec": {
   "display_name": " Rkernel ",
   "language": "R",
   "name": "rkernel"
  },
  "language_info": {
   "codemirror_mode": "r",
   "file_extension": ".r",
   "mimetype": "text/x-r-source",
   "name": "R",
   "pygments_lexer": "r",
   "version": "3.6.1"
  }
 },
 "nbformat": 4,
 "nbformat_minor": 4
}
