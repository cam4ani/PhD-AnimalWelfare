{
 "cells": [
  {
   "cell_type": "code",
   "execution_count": 1,
   "metadata": {},
   "outputs": [
    {
     "name": "stderr",
     "output_type": "stream",
     "text": [
      "Warning message:\n",
      "\"package 'MCMCglmm' was built under R version 4.0.5\"\n",
      "Loading required package: Matrix\n",
      "\n",
      "Loading required package: coda\n",
      "\n",
      "Warning message:\n",
      "\"package 'coda' was built under R version 4.0.5\"\n",
      "Loading required package: ape\n",
      "\n",
      "Warning message:\n",
      "\"package 'rptR' was built under R version 4.0.5\"\n"
     ]
    }
   ],
   "source": [
    "library(MCMCglmm)\n",
    "library(lme4) #random effect\n",
    "library(rptR) "
   ]
  },
  {
   "cell_type": "code",
   "execution_count": 2,
   "metadata": {},
   "outputs": [
    {
     "name": "stderr",
     "output_type": "stream",
     "text": [
      "Warning message:\n",
      "\"package 'MCMCglmm' is in use and will not be installed\"\n"
     ]
    }
   ],
   "source": [
    "install.packages(\"MCMCglmm\")"
   ]
  },
  {
   "cell_type": "markdown",
   "metadata": {},
   "source": [
    "TODO\n",
    "read  Hadfield (2010) for different values tahn default ones"
   ]
  },
  {
   "cell_type": "markdown",
   "metadata": {},
   "source": [
    "# Download data"
   ]
  },
  {
   "cell_type": "code",
   "execution_count": 5,
   "metadata": {},
   "outputs": [
    {
     "name": "stdout",
     "output_type": "stream",
     "text": [
      "[1] 3161   28\n"
     ]
    },
    {
     "data": {
      "text/plain": [
       "      WIB            HenID           DIB           avgDIB     \n",
       " Min.   :1.000   hen_124:  49   Min.   : 1.0   Min.   : 3.25  \n",
       " 1st Qu.:3.000   hen_126:  49   1st Qu.:18.0   1st Qu.:18.00  \n",
       " Median :5.000   hen_127:  49   Median :30.0   Median :32.00  \n",
       " Mean   :4.643   hen_131:  49   Mean   :29.4   Mean   :29.40  \n",
       " 3rd Qu.:6.000   hen_134:  49   3rd Qu.:42.0   3rd Qu.:39.00  \n",
       " Max.   :8.000   hen_135:  49   Max.   :54.0   Max.   :52.00  \n",
       "                 (Other):2867                                 \n",
       "    CLASS                       TrackingSystemID   PenID    \n",
       " Length:3161        TrackingSystem 10-12:1613    pen10:882  \n",
       " Class :character   TrackingSystem 3-5  : 764    pen12:731  \n",
       " Mode  :character   TrackingSystem 8-9  : 784    pen4 :764  \n",
       "                                                 pen8 :784  \n",
       "                                                            \n",
       "                                                            \n",
       "                                                            \n",
       " perc_duration_5_Zone perc_duration_4_Zone perc_duration_3_Zone\n",
       " Min.   :  0.00       Min.   :  0.000      Min.   : 0.0        \n",
       " 1st Qu.:  8.00       1st Qu.:  3.000      1st Qu.: 8.0        \n",
       " Median : 26.00       Median :  6.000      Median :17.0        \n",
       " Mean   : 35.17       Mean   :  8.468      Mean   :18.6        \n",
       " 3rd Qu.: 58.00       3rd Qu.: 10.000      3rd Qu.:27.0        \n",
       " Max.   :100.00       Max.   :100.000      Max.   :77.0        \n",
       "                                                               \n",
       " perc_duration_2_Zone vertical_travel_distance_perh nbr_stays_2_Zone_perh\n",
       " Min.   :  0.00       Min.   : 0.000                Min.   :0.0000       \n",
       " 1st Qu.: 16.00       1st Qu.: 2.400                1st Qu.:0.4667       \n",
       " Median : 36.00       Median : 3.700                Median :1.0909       \n",
       " Mean   : 34.76       Mean   : 3.720                Mean   :1.1296       \n",
       " 3rd Qu.: 50.00       3rd Qu.: 4.933                3rd Qu.:1.6667       \n",
       " Max.   :100.00       Max.   :13.300                Max.   :4.3636       \n",
       "                                                                         \n",
       " nbr_stays_3_Zone_perh nbr_stays_4_Zone_perh nbr_stays_5_Zone_perh\n",
       " Min.   :0.000         Min.   :0.0000        Min.   :0.0000       \n",
       " 1st Qu.:0.800         1st Qu.:0.2857        1st Qu.:0.2000       \n",
       " Median :1.400         Median :0.5833        Median :0.3571       \n",
       " Mean   :1.378         Mean   :0.7278        Mean   :0.4427       \n",
       " 3rd Qu.:1.909         3rd Qu.:1.0000        3rd Qu.:0.6000       \n",
       " Max.   :4.909         Max.   :5.2500        Max.   :3.1667       \n",
       "                                                                  \n",
       " normalize_perc_duration_5_Zone normalize_perc_duration_4_Zone\n",
       " Min.   :0.0000                 Min.   :0.00000               \n",
       " 1st Qu.:0.1372                 1st Qu.:0.04868               \n",
       " Median :0.4678                 Median :0.10256               \n",
       " Mean   :0.5037                 Mean   :0.14017               \n",
       " 3rd Qu.:0.9041                 3rd Qu.:0.17186               \n",
       " Max.   :1.0000                 Max.   :1.00000               \n",
       "                                                              \n",
       " normalize_perc_duration_3_Zone normalize_perc_duration_2_Zone\n",
       " Min.   :0.0000                 Min.   :0.0000                \n",
       " 1st Qu.:0.1209                 1st Qu.:0.2419                \n",
       " Median :0.2830                 Median :0.6567                \n",
       " Mean   :0.3084                 Mean   :0.5566                \n",
       " 3rd Qu.:0.4627                 3rd Qu.:0.8419                \n",
       " Max.   :0.9844                 Max.   :1.0000                \n",
       "                                                              \n",
       " normalize_vertical_travel_distance_perh normalize_nbr_stays_2_Zone_perh\n",
       " Min.   :0.00000                         Min.   :0.000000               \n",
       " 1st Qu.:0.03564                         1st Qu.:0.006844               \n",
       " Median :0.06057                         Median :0.017979               \n",
       " Mean   :0.06145                         Mean   :0.018893               \n",
       " 3rd Qu.:0.08444                         3rd Qu.:0.027979               \n",
       " Max.   :0.22469                         Max.   :0.074103               \n",
       "                                                                        \n",
       " normalize_nbr_stays_3_Zone_perh normalize_nbr_stays_4_Zone_perh\n",
       " Min.   :0.00000                 Min.   :0.000000               \n",
       " 1st Qu.:0.01175                 1st Qu.:0.004257               \n",
       " Median :0.02293                 Median :0.009406               \n",
       " Mean   :0.02284                 Mean   :0.012016               \n",
       " 3rd Qu.:0.03227                 3rd Qu.:0.016872               \n",
       " Max.   :0.08371                 Max.   :0.079862               \n",
       "                                                                \n",
       " normalize_nbr_stays_5_Zone_perh  tuple_PCA              PC1          \n",
       " Min.   :0.000000                Length:3161        Min.   :-0.62793  \n",
       " 1st Qu.:0.002837                Class :character   1st Qu.:-0.48445  \n",
       " Median :0.005834                Mode  :character   Median :-0.14498  \n",
       " Mean   :0.007165                                   Mean   :-0.01628  \n",
       " 3rd Qu.:0.010213                                   3rd Qu.: 0.48892  \n",
       " Max.   :0.048289                                   Max.   : 0.78618  \n",
       "                                                                      \n",
       " PC1_standardized \n",
       " Min.   :-1.2389  \n",
       " 1st Qu.:-0.9483  \n",
       " Median :-0.2607  \n",
       " Mean   : 0.0000  \n",
       " 3rd Qu.: 1.0233  \n",
       " Max.   : 1.6254  \n",
       "                  "
      ]
     },
     "metadata": {},
     "output_type": "display_data"
    }
   ],
   "source": [
    "path_ = 'G:/VPHI/Welfare/2- Research Projects/OFHE2.OriginsE2/DataOutput/TrackingSystem/ALLDATA_'\n",
    "path_adapt = file.path(path_,'Adaptability')\n",
    "path_model = file.path(path_adapt,'repeatability_model')\n",
    "df = read.csv(file.path(path_adapt,'df_MVT_4repeatibility_NEW.csv'), header = TRUE, sep = \";\")\n",
    "df$HenID = as.factor(df$HenID)   \n",
    "df$PenID = as.factor(df$PenID) \n",
    "df$TrackingSystemID = as.factor(df$TrackingSystemID) \n",
    "#df$Treatment = as.factor(df$Treatment) \n",
    "#li_var_cont = c('ID0','ID1','ID2','ID3','ID4','ID5','ID6','ID7')\n",
    "#df$maxsevGap0_divided_maxsev_round = round(df$maxsevGap0_divided_maxsev, 1)\n",
    "#df$maxsevGap0_divided_maxsev_round_log <- log(df$maxsevGap0_divided_maxsev_round)\n",
    "#print(as.data.frame(table(df$maxsevGap0_divided_maxsev_round)))\n",
    "#df_ = df[,c(li_var_cont, 'maxsevGap0_divided_maxsev_round','maxsevGap0_divided_maxsev_round_log')] \n",
    "print(dim(df))\n",
    "summary(df)"
   ]
  },
  {
   "cell_type": "raw",
   "metadata": {},
   "source": [
    "TODO \n",
    "0. read the guide line and think pca, plasticity.\n",
    "1. compute DIBAVGWIB\n",
    "2. vertical travel distance standardized \n",
    "3. put in shape for bivariate\n",
    "4. test significance without DIB\n",
    "\n",
    "#1: weekly repeatability via REML fitted model using the lme4 library (avoiding thinking about prior distribution of var components)\n",
    "y.lme = lmer(vertical_travel_distance_perh ~ DIBAVG+(1|HenID), data=df_)\n",
    "summary(y.lme) \n",
    "#--> variance of HenID / (var(HENID)+Var(Residuel)) = 0,84\n",
    "\n",
    "later: \n",
    "add pca values according to how we chsed to analyse the data"
   ]
  },
  {
   "cell_type": "code",
   "execution_count": null,
   "metadata": {},
   "outputs": [],
   "source": [
    "#Please refer to Hadfield (2010) and the\n",
    "#primary literature on priors. Note that the rcov \n",
    "#and random specification now both use “idh()” to specify\n",
    "#the matrix format. This is equivalent to SAS’s banded\n",
    "#main diagonal matrix and forces the \n",
    "#covariances to be zero.\n",
    "\n",
    "yz.bivarE.mcmc<-MCMCglmm(cbind(y_std,z_std)~(trait-1),\n",
    "random=~idh(trait):indiv,rcov=~idh(trait):units,\n",
    "family=c(\"gaussian\",\"gaussian\"), prior=prior.bivar,\n",
    "nitt=130000,thin=100,burnin=30000, data=set3.data,verbose=FALSE)\n"
   ]
  },
  {
   "cell_type": "code",
   "execution_count": null,
   "metadata": {},
   "outputs": [],
   "source": []
  },
  {
   "cell_type": "code",
   "execution_count": 22,
   "metadata": {},
   "outputs": [
    {
     "data": {
      "text/plain": [
       "\n",
       " Iterations = 3001:12991\n",
       " Thinning interval  = 10\n",
       " Sample size  = 1000 \n",
       "\n",
       " DIC: 462.1526 \n",
       "\n",
       " G-structure:  ~HenID\n",
       "\n",
       "      post.mean l-95% CI u-95% CI eff.samp\n",
       "HenID     1.619    1.014    2.347     1000\n",
       "\n",
       " R-structure:  ~units\n",
       "\n",
       "      post.mean l-95% CI u-95% CI eff.samp\n",
       "units    0.3031   0.2496   0.3608    919.3\n",
       "\n",
       " Location effects: vertical_travel_distance_perh ~ 1 \n",
       "\n",
       "            post.mean l-95% CI u-95% CI eff.samp  pMCMC    \n",
       "(Intercept)     3.516    3.138    3.854     1000 <0.001 ***\n",
       "---\n",
       "Signif. codes:  0 '***' 0.001 '**' 0.01 '*' 0.05 '.' 0.1 ' ' 1"
      ]
     },
     "metadata": {},
     "output_type": "display_data"
    }
   ],
   "source": [
    "#disadvantage of MCMCglmm: also requires consideration of how the prior distribution of variance components is modelled!!\n",
    "y.mcmc = MCMCglmm(vertical_travel_distance_perh ~ DIB, random = ~HenID, family=\"gaussian\", \n",
    "                  data = df_, verbose=FALSE)\n",
    "summary(y.mcmc) "
   ]
  },
  {
   "cell_type": "code",
   "execution_count": 23,
   "metadata": {},
   "outputs": [
    {
     "data": {
      "text/html": [
       "<strong>var1:</strong> 0.841960493641225"
      ],
      "text/latex": [
       "\\textbf{var1:} 0.841960493641225"
      ],
      "text/markdown": [
       "**var1:** 0.841960493641225"
      ],
      "text/plain": [
       "     var1 \n",
       "0.8419605 "
      ]
     },
     "metadata": {},
     "output_type": "display_data"
    },
    {
     "data": {
      "text/html": [
       "<table class=\"dataframe\">\n",
       "<caption>A matrix: 1 × 2 of type dbl</caption>\n",
       "<thead>\n",
       "\t<tr><th></th><th scope=col>lower</th><th scope=col>upper</th></tr>\n",
       "</thead>\n",
       "<tbody>\n",
       "\t<tr><th scope=row>var1</th><td>0.7717703</td><td>0.8987657</td></tr>\n",
       "</tbody>\n",
       "</table>\n"
      ],
      "text/latex": [
       "A matrix: 1 × 2 of type dbl\n",
       "\\begin{tabular}{r|ll}\n",
       "  & lower & upper\\\\\n",
       "\\hline\n",
       "\tvar1 & 0.7717703 & 0.8987657\\\\\n",
       "\\end{tabular}\n"
      ],
      "text/markdown": [
       "\n",
       "A matrix: 1 × 2 of type dbl\n",
       "\n",
       "| <!--/--> | lower | upper |\n",
       "|---|---|---|\n",
       "| var1 | 0.7717703 | 0.8987657 |\n",
       "\n"
      ],
      "text/plain": [
       "     lower     upper    \n",
       "var1 0.7717703 0.8987657"
      ]
     },
     "metadata": {},
     "output_type": "display_data"
    }
   ],
   "source": [
    "#repeatability can be calculated for each MCMC sample and the posterior mode and its 95% credibility interval then extracted:\n",
    "rep.y = (y.mcmc$VCV[,\"HenID\"]/(y.mcmc$VCV[,\"HenID\"]+y.mcmc$VCV[,\"units\"]))\n",
    "posterior.mode(rep.y) #repeatability estimate\n",
    "HPDinterval(rep.y) #95% credibility interval"
   ]
  },
  {
   "cell_type": "code",
   "execution_count": 42,
   "metadata": {},
   "outputs": [
    {
     "data": {
      "text/html": [
       "<style>\n",
       ".dl-inline {width: auto; margin:0; padding: 0}\n",
       ".dl-inline>dt, .dl-inline>dd {float: none; width: auto; display: inline-block}\n",
       ".dl-inline>dt::after {content: \":\\0020\"; padding-right: .5ex}\n",
       ".dl-inline>dt:not(:first-of-type) {padding-left: .5ex}\n",
       "</style><dl class=dl-inline><dt>(Intercept)</dt><dd>-0.940490598947947</dd><dt>DIB</dt><dd>0.0994279473419763</dd></dl>\n"
      ],
      "text/latex": [
       "\\begin{description*}\n",
       "\\item[(Intercept)] -0.940490598947947\n",
       "\\item[DIB] 0.0994279473419763\n",
       "\\end{description*}\n"
      ],
      "text/markdown": [
       "(Intercept)\n",
       ":   -0.940490598947947DIB\n",
       ":   0.0994279473419763\n",
       "\n"
      ],
      "text/plain": [
       "(Intercept)         DIB \n",
       "-0.94049060  0.09942795 "
      ]
     },
     "metadata": {},
     "output_type": "display_data"
    },
    {
     "data": {
      "text/html": [
       "<table class=\"dataframe\">\n",
       "<caption>A matrix: 2 × 2 of type dbl</caption>\n",
       "<thead>\n",
       "\t<tr><th></th><th scope=col>lower</th><th scope=col>upper</th></tr>\n",
       "</thead>\n",
       "<tbody>\n",
       "\t<tr><th scope=row>(Intercept)</th><td>-4.02823860</td><td>0.7745152</td></tr>\n",
       "\t<tr><th scope=row>DIB</th><td> 0.05343731</td><td>0.1452777</td></tr>\n",
       "</tbody>\n",
       "</table>\n"
      ],
      "text/latex": [
       "A matrix: 2 × 2 of type dbl\n",
       "\\begin{tabular}{r|ll}\n",
       "  & lower & upper\\\\\n",
       "\\hline\n",
       "\t(Intercept) & -4.02823860 & 0.7745152\\\\\n",
       "\tDIB &  0.05343731 & 0.1452777\\\\\n",
       "\\end{tabular}\n"
      ],
      "text/markdown": [
       "\n",
       "A matrix: 2 × 2 of type dbl\n",
       "\n",
       "| <!--/--> | lower | upper |\n",
       "|---|---|---|\n",
       "| (Intercept) | -4.02823860 | 0.7745152 |\n",
       "| DIB |  0.05343731 | 0.1452777 |\n",
       "\n"
      ],
      "text/plain": [
       "            lower       upper    \n",
       "(Intercept) -4.02823860 0.7745152\n",
       "DIB          0.05343731 0.1452777"
      ]
     },
     "metadata": {},
     "output_type": "display_data"
    }
   ],
   "source": [
    "#from MCMCglmm (posterior modes between credibility intervals):\n",
    "#β_0: -0.945 < -0.583 < -0.262 \n",
    "posterior.mode(y.mcmc$Sol)\n",
    "HPDinterval(y.mcmc$Sol)"
   ]
  },
  {
   "cell_type": "code",
   "execution_count": 43,
   "metadata": {},
   "outputs": [
    {
     "data": {
      "text/html": [
       "<style>\n",
       ".dl-inline {width: auto; margin:0; padding: 0}\n",
       ".dl-inline>dt, .dl-inline>dd {float: none; width: auto; display: inline-block}\n",
       ".dl-inline>dt::after {content: \":\\0020\"; padding-right: .5ex}\n",
       ".dl-inline>dt:not(:first-of-type) {padding-left: .5ex}\n",
       "</style><dl class=dl-inline><dt>HenID</dt><dd>1.55188647092548</dd><dt>units</dt><dd>0.273921369077579</dd></dl>\n"
      ],
      "text/latex": [
       "\\begin{description*}\n",
       "\\item[HenID] 1.55188647092548\n",
       "\\item[units] 0.273921369077579\n",
       "\\end{description*}\n"
      ],
      "text/markdown": [
       "HenID\n",
       ":   1.55188647092548units\n",
       ":   0.273921369077579\n",
       "\n"
      ],
      "text/plain": [
       "    HenID     units \n",
       "1.5518865 0.2739214 "
      ]
     },
     "metadata": {},
     "output_type": "display_data"
    },
    {
     "data": {
      "text/html": [
       "<table class=\"dataframe\">\n",
       "<caption>A matrix: 2 × 2 of type dbl</caption>\n",
       "<thead>\n",
       "\t<tr><th></th><th scope=col>lower</th><th scope=col>upper</th></tr>\n",
       "</thead>\n",
       "<tbody>\n",
       "\t<tr><th scope=row>HenID</th><td>1.0093041</td><td>2.4206249</td></tr>\n",
       "\t<tr><th scope=row>units</th><td>0.2353503</td><td>0.3467084</td></tr>\n",
       "</tbody>\n",
       "</table>\n"
      ],
      "text/latex": [
       "A matrix: 2 × 2 of type dbl\n",
       "\\begin{tabular}{r|ll}\n",
       "  & lower & upper\\\\\n",
       "\\hline\n",
       "\tHenID & 1.0093041 & 2.4206249\\\\\n",
       "\tunits & 0.2353503 & 0.3467084\\\\\n",
       "\\end{tabular}\n"
      ],
      "text/markdown": [
       "\n",
       "A matrix: 2 × 2 of type dbl\n",
       "\n",
       "| <!--/--> | lower | upper |\n",
       "|---|---|---|\n",
       "| HenID | 1.0093041 | 2.4206249 |\n",
       "| units | 0.2353503 | 0.3467084 |\n",
       "\n"
      ],
      "text/plain": [
       "      lower     upper    \n",
       "HenID 1.0093041 2.4206249\n",
       "units 0.2353503 0.3467084"
      ]
     },
     "metadata": {},
     "output_type": "display_data"
    }
   ],
   "source": [
    "posterior.mode(y.mcmc$VCV) #HeniD: is the Vind (between individual variance), units is the Ve (within-individual variance)\n",
    "HPDinterval(y.mcmc$VCV)"
   ]
  },
  {
   "cell_type": "code",
   "execution_count": 19,
   "metadata": {},
   "outputs": [
    {
     "data": {
      "text/plain": [
       "Linear mixed model fit by REML ['lmerMod']\n",
       "Formula: vertical_travel_distance_perh ~ DIB + (1 | HenID)\n",
       "   Data: df_\n",
       "\n",
       "REML criterion at convergence: 658.6\n",
       "\n",
       "Scaled residuals: \n",
       "     Min       1Q   Median       3Q      Max \n",
       "-2.22705 -0.71957 -0.06479  0.53560  2.96759 \n",
       "\n",
       "Random effects:\n",
       " Groups   Name        Variance Std.Dev.\n",
       " HenID    (Intercept) 1.634    1.278   \n",
       " Residual             1.088    1.043   \n",
       "Number of obs: 198, groups:  HenID, 33\n",
       "\n",
       "Fixed effects:\n",
       "            Estimate Std. Error t value\n",
       "(Intercept)  1.47168    0.27174   5.416\n",
       "DIB          0.14523    0.03432   4.232\n",
       "\n",
       "Correlation of Fixed Effects:\n",
       "    (Intr)\n",
       "DIB -0.505"
      ]
     },
     "metadata": {},
     "output_type": "display_data"
    }
   ],
   "source": [
    "#OR via REML fitted model using the lme4 library caca\n",
    "df_ = df[ which((df$WIB %in% c(1))&(df$TrackingSystemID %in% c('TrackingSystem 10-12'))), ]\n",
    "\n",
    "y.lme = lmer(vertical_travel_distance_perh~DIB+(1|HenID), data=df_)\n",
    "summary(y.lme) \n",
    "#--> variance of HenID / (var(HENID)+Var(Residuel)) = 0,84"
   ]
  },
  {
   "cell_type": "code",
   "execution_count": 20,
   "metadata": {},
   "outputs": [
    {
     "data": {
      "text/html": [
       "0.600293901542983"
      ],
      "text/latex": [
       "0.600293901542983"
      ],
      "text/markdown": [
       "0.600293901542983"
      ],
      "text/plain": [
       "[1] 0.6002939"
      ]
     },
     "metadata": {},
     "output_type": "display_data"
    }
   ],
   "source": [
    "1.634/(1.634+1.088)"
   ]
  },
  {
   "cell_type": "code",
   "execution_count": 45,
   "metadata": {},
   "outputs": [
    {
     "data": {
      "text/plain": [
       "Linear mixed model fit by REML ['lmerMod']\n",
       "Formula: vertical_travel_distance_perh ~ DIB + (1 | HenID)\n",
       "   Data: df_\n",
       "\n",
       "REML criterion at convergence: 567.2\n",
       "\n",
       "Scaled residuals: \n",
       "     Min       1Q   Median       3Q      Max \n",
       "-2.26597 -0.54736  0.04465  0.54379  2.70051 \n",
       "\n",
       "Random effects:\n",
       " Groups   Name        Variance Std.Dev.\n",
       " HenID    (Intercept) 1.5419   1.2417  \n",
       " Residual             0.2796   0.5288  \n",
       "Number of obs: 251, groups:  HenID, 51\n",
       "\n",
       "Fixed effects:\n",
       "            Estimate Std. Error t value\n",
       "(Intercept) -1.50052    1.24086  -1.209\n",
       "DIB          0.09649    0.02363   4.083\n",
       "\n",
       "Correlation of Fixed Effects:\n",
       "    (Intr)\n",
       "DIB -0.990"
      ]
     },
     "metadata": {},
     "output_type": "display_data"
    }
   ],
   "source": [
    "#OR via REML fitted model using the lme4 library\n",
    "y.lme = lmer(vertical_travel_distance_perh~DIB+(1|HenID), data=df_)\n",
    "summary(y.lme) \n",
    "#--> variance of HenID / (var(HENID)+Var(Residuel)) = 0,84"
   ]
  },
  {
   "cell_type": "code",
   "execution_count": 7,
   "metadata": {},
   "outputs": [
    {
     "name": "stdout",
     "output_type": "stream",
     "text": [
      "Bootstrap Progress:\n",
      "\n",
      "\n",
      "Repeatability estimation using the lmm method \n",
      "\n",
      "Repeatability for HenID\n",
      "R  = 0.357\n",
      "SE = 0.024\n",
      "CI = [0.328, 0.395]\n",
      "P  = 0 [LRT]\n",
      "     NA [Permutation]\n",
      "\n",
      "Bootstrap Progress:\n",
      "\n",
      "\n",
      "Repeatability estimation using the lmm method \n",
      "\n",
      "Repeatability for HenID\n",
      "R  = 0.385\n",
      "SE = 0.033\n",
      "CI = [0.344, 0.445]\n",
      "P  = 0 [LRT]\n",
      "     NA [Permutation]\n",
      "\n"
     ]
    },
    {
     "name": "stderr",
     "output_type": "stream",
     "text": [
      "Warning message in checkConv(attr(opt, \"derivs\"), opt$par, ctrl = control$checkConv, :\n",
      "\"Model failed to converge with max|grad| = 0.00256275 (tol = 0.002, component 1)\"\n",
      "Warning message in checkConv(attr(opt, \"derivs\"), opt$par, ctrl = control$checkConv, :\n",
      "\"Model failed to converge with max|grad| = 0.00256275 (tol = 0.002, component 1)\"\n"
     ]
    },
    {
     "name": "stdout",
     "output_type": "stream",
     "text": [
      "Bootstrap Progress:\n"
     ]
    },
    {
     "name": "stderr",
     "output_type": "stream",
     "text": [
      "Warning message in checkConv(attr(opt, \"derivs\"), opt$par, ctrl = control$checkConv, :\n",
      "\"Model failed to converge with max|grad| = 0.00835076 (tol = 0.002, component 1)\"\n"
     ]
    },
    {
     "name": "stdout",
     "output_type": "stream",
     "text": [
      "\n",
      "\n",
      "Repeatability estimation using the lmm method \n",
      "\n",
      "Repeatability for HenID\n",
      "R  = 0.468\n",
      "SE = 0.025\n",
      "CI = [0.432, 0.499]\n",
      "P  = 0 [LRT]\n",
      "     NA [Permutation]\n",
      "\n"
     ]
    }
   ],
   "source": [
    "##raw repeatability: ignore temporal change\n",
    "rep1 = rpt(vertical_travel_distance_perh ~ (1 | HenID), grname = \"HenID\", data = df,  datatype = \"Gaussian\", nboot = 10, npermut = 0) ###common week slope\n",
    "print(rep1)\n",
    "\n",
    "##conditional repeatability 1: shared change over time\n",
    "rep2 = rpt(vertical_travel_distance_perh ~ WIB+ (1 | HenID), grname = \"HenID\", data = df, datatype = \"Gaussian\", nboot = 10, npermut = 0) ###individual differences in week slope\n",
    "print(rep2)\n",
    "\n",
    "##conditional repeatability 2: change over time that differs among individuals (this is what I want to get from the equivalent MCMCglmm model)\n",
    "rep3 = rpt(vertical_travel_distance_perh ~ WIB+ (WIB | HenID), grname = \"HenID\", data = df,  datatype = \"Gaussian\", nboot = 10, npermut = 0)\n",
    "print(rep3)"
   ]
  },
  {
   "cell_type": "code",
   "execution_count": 8,
   "metadata": {},
   "outputs": [
    {
     "name": "stdout",
     "output_type": "stream",
     "text": [
      "Bootstrap Progress:\n",
      "\n",
      "\n",
      "Repeatability estimation using the lmm method \n",
      "\n",
      "Repeatability for HenID\n",
      "R  = 0.357\n",
      "SE = 0.033\n",
      "CI = [0.305, 0.402]\n",
      "P  = 0 [LRT]\n",
      "     NA [Permutation]\n",
      "\n",
      "Bootstrap Progress:\n",
      "\n",
      "\n",
      "Repeatability estimation using the lmm method \n",
      "\n",
      "Repeatability for HenID\n",
      "R  = 0.386\n",
      "SE = 0.031\n",
      "CI = [0.342, 0.432]\n",
      "P  = 0 [LRT]\n",
      "     NA [Permutation]\n",
      "\n"
     ]
    },
    {
     "name": "stderr",
     "output_type": "stream",
     "text": [
      "Warning message in checkConv(attr(opt, \"derivs\"), opt$par, ctrl = control$checkConv, :\n",
      "\"Model failed to converge with max|grad| = 0.0246584 (tol = 0.002, component 1)\"\n",
      "Warning message in checkConv(attr(opt, \"derivs\"), opt$par, ctrl = control$checkConv, :\n",
      "\"Model is nearly unidentifiable: very large eigenvalue\n",
      " - Rescale variables?\"\n",
      "Warning message in checkConv(attr(opt, \"derivs\"), opt$par, ctrl = control$checkConv, :\n",
      "\"Model failed to converge with max|grad| = 0.0246584 (tol = 0.002, component 1)\"\n",
      "Warning message in checkConv(attr(opt, \"derivs\"), opt$par, ctrl = control$checkConv, :\n",
      "\"Model is nearly unidentifiable: very large eigenvalue\n",
      " - Rescale variables?\"\n"
     ]
    },
    {
     "name": "stdout",
     "output_type": "stream",
     "text": [
      "Bootstrap Progress:\n"
     ]
    },
    {
     "name": "stderr",
     "output_type": "stream",
     "text": [
      "Warning message in checkConv(attr(opt, \"derivs\"), opt$par, ctrl = control$checkConv, :\n",
      "\"Model failed to converge with max|grad| = 0.448913 (tol = 0.002, component 1)\"\n",
      "Warning message in checkConv(attr(opt, \"derivs\"), opt$par, ctrl = control$checkConv, :\n",
      "\"Model is nearly unidentifiable: very large eigenvalue\n",
      " - Rescale variables?\"\n"
     ]
    },
    {
     "name": "stdout",
     "output_type": "stream",
     "text": [
      "\n",
      "\n",
      "Repeatability estimation using the lmm method \n",
      "\n",
      "Repeatability for HenID\n",
      "R  = 0.471\n",
      "SE = 0.016\n",
      "CI = [0.46, 0.507]\n",
      "P  = 0 [LRT]\n",
      "     NA [Permutation]\n",
      "\n"
     ]
    }
   ],
   "source": [
    "##raw repeatability: ignore temporal change\n",
    "rep1 = rpt(vertical_travel_distance_perh ~ (1 | HenID), grname = \"HenID\", data = df,  datatype = \"Gaussian\", nboot = 10, npermut = 0) ###common week slope\n",
    "print(rep1)\n",
    "\n",
    "##conditional repeatability 1: shared change over time\n",
    "rep2 = rpt(vertical_travel_distance_perh ~ DIB+ (1 | HenID), grname = \"HenID\", data = df, datatype = \"Gaussian\", nboot = 10, npermut = 0) ###individual differences in week slope\n",
    "print(rep2)\n",
    "\n",
    "##conditional repeatability 2: change over time that differs among individuals (this is what I want to get from the equivalent MCMCglmm model)\n",
    "rep3 = rpt(vertical_travel_distance_perh ~ DIB+ (DIB | HenID), grname = \"HenID\", data = df,  datatype = \"Gaussian\", nboot = 10, npermut = 0)\n",
    "print(rep3)"
   ]
  },
  {
   "cell_type": "code",
   "execution_count": null,
   "metadata": {},
   "outputs": [],
   "source": []
  },
  {
   "cell_type": "code",
   "execution_count": null,
   "metadata": {},
   "outputs": [],
   "source": []
  },
  {
   "cell_type": "code",
   "execution_count": 6,
   "metadata": {},
   "outputs": [
    {
     "name": "stdout",
     "output_type": "stream",
     "text": [
      "Bootstrap Progress:\n",
      "Bootstrap Progress:\n"
     ]
    },
    {
     "name": "stderr",
     "output_type": "stream",
     "text": [
      "Warning message in checkConv(attr(opt, \"derivs\"), opt$par, ctrl = control$checkConv, :\n",
      "\"unable to evaluate scaled gradient\"\n",
      "Warning message in checkConv(attr(opt, \"derivs\"), opt$par, ctrl = control$checkConv, :\n",
      "\"Model failed to converge: degenerate  Hessian with 1 negative eigenvalues\"\n",
      "Warning message in checkConv(attr(opt, \"derivs\"), opt$par, ctrl = control$checkConv, :\n",
      "\"unable to evaluate scaled gradient\"\n",
      "Warning message in checkConv(attr(opt, \"derivs\"), opt$par, ctrl = control$checkConv, :\n",
      "\"Model failed to converge: degenerate  Hessian with 1 negative eigenvalues\"\n"
     ]
    },
    {
     "name": "stdout",
     "output_type": "stream",
     "text": [
      "Bootstrap Progress:\n"
     ]
    },
    {
     "name": "stderr",
     "output_type": "stream",
     "text": [
      "Warning message in checkConv(attr(opt, \"derivs\"), opt$par, ctrl = control$checkConv, :\n",
      "\"unable to evaluate scaled gradient\"\n",
      "Warning message in checkConv(attr(opt, \"derivs\"), opt$par, ctrl = control$checkConv, :\n",
      "\"Model failed to converge: degenerate  Hessian with 1 negative eigenvalues\"\n"
     ]
    },
    {
     "name": "stdout",
     "output_type": "stream",
     "text": [
      "\n",
      "\n",
      "Repeatability estimation using the lmm method \n",
      "\n",
      "Repeatability for HenID\n",
      "R  = 0.838\n",
      "SE = 0.036\n",
      "CI = [0.785, 0.89]\n",
      "P  = 2.65e-61 [LRT]\n",
      "     NA [Permutation]\n",
      "\n",
      "\n",
      "\n",
      "Repeatability estimation using the lmm method \n",
      "\n",
      "Repeatability for HenID\n",
      "R  = 0.846\n",
      "SE = 0.032\n",
      "CI = [0.786, 0.885]\n",
      "P  = 4.46e-64 [LRT]\n",
      "     NA [Permutation]\n",
      "\n",
      "\n",
      "\n",
      "Repeatability estimation using the lmm method \n",
      "\n",
      "Repeatability for HenID\n",
      "R  = 0.854\n",
      "SE = 0.033\n",
      "CI = [0.818, 0.909]\n",
      "P  = 1.11e-62 [LRT]\n",
      "     NA [Permutation]\n",
      "\n"
     ]
    }
   ],
   "source": [
    "##raw repeatability: ignore temporal change\n",
    "rep1 = rpt(vertical_travel_distance_perh ~ (1 | HenID), grname = \"HenID\", data = df_,  datatype = \"Gaussian\", nboot = 10, npermut = 0) ###common week slope\n",
    "print(rep1)\n",
    "\n",
    "##conditional repeatability 1: shared change over time\n",
    "rep2 = rpt(vertical_travel_distance_perh ~ DIB+ (1 | HenID), grname = \"HenID\", data = df_, datatype = \"Gaussian\", nboot = 10, npermut = 0) ###individual differences in week slope\n",
    "print(rep2)\n",
    "\n",
    "##conditional repeatability 2: change over time that differs among individuals (this is what I want to get from the equivalent MCMCglmm model)\n",
    "rep3 = rpt(vertical_travel_distance_perh ~ DIB+ (DIB | HenID), grname = \"HenID\", data = df_,  datatype = \"Gaussian\", nboot = 10, npermut = 0)\n",
    "print(rep3)"
   ]
  },
  {
   "cell_type": "code",
   "execution_count": null,
   "metadata": {},
   "outputs": [],
   "source": []
  },
  {
   "cell_type": "code",
   "execution_count": null,
   "metadata": {},
   "outputs": [],
   "source": []
  },
  {
   "cell_type": "code",
   "execution_count": null,
   "metadata": {},
   "outputs": [],
   "source": []
  },
  {
   "cell_type": "code",
   "execution_count": 14,
   "metadata": {},
   "outputs": [
    {
     "name": "stdout",
     "output_type": "stream",
     "text": [
      "\n",
      "                       MCMC iteration = 0\n",
      "\n",
      "                       MCMC iteration = 1000\n",
      "\n",
      "                       MCMC iteration = 2000\n",
      "\n",
      "                       MCMC iteration = 3000\n",
      "\n",
      "                       MCMC iteration = 4000\n",
      "\n",
      "                       MCMC iteration = 5000\n",
      "\n",
      "                       MCMC iteration = 6000\n",
      "\n",
      "                       MCMC iteration = 7000\n",
      "\n",
      "                       MCMC iteration = 8000\n",
      "\n",
      "                       MCMC iteration = 9000\n",
      "\n",
      "                       MCMC iteration = 10000\n",
      "\n",
      "                       MCMC iteration = 11000\n",
      "\n",
      "                       MCMC iteration = 12000\n",
      "\n",
      "                       MCMC iteration = 13000\n",
      "\n",
      "                       MCMC iteration = 14000\n",
      "\n",
      "                       MCMC iteration = 15000\n",
      "\n",
      "                       MCMC iteration = 16000\n",
      "\n",
      "                       MCMC iteration = 17000\n",
      "\n",
      "                       MCMC iteration = 18000\n",
      "\n",
      "                       MCMC iteration = 19000\n",
      "\n",
      "                       MCMC iteration = 20000\n",
      "\n",
      "                       MCMC iteration = 21000\n",
      "\n",
      "                       MCMC iteration = 22000\n",
      "\n",
      "                       MCMC iteration = 23000\n",
      "\n",
      "                       MCMC iteration = 24000\n",
      "\n",
      "                       MCMC iteration = 25000\n",
      "\n",
      "                       MCMC iteration = 26000\n",
      "\n",
      "                       MCMC iteration = 27000\n",
      "\n",
      "                       MCMC iteration = 28000\n",
      "\n",
      "                       MCMC iteration = 29000\n",
      "\n",
      "                       MCMC iteration = 30000\n",
      "\n",
      "                       MCMC iteration = 31000\n",
      "\n",
      "                       MCMC iteration = 32000\n",
      "\n",
      "                       MCMC iteration = 33000\n",
      "\n",
      "                       MCMC iteration = 34000\n",
      "\n",
      "                       MCMC iteration = 35000\n",
      "\n",
      "                       MCMC iteration = 36000\n",
      "\n",
      "                       MCMC iteration = 37000\n",
      "\n",
      "                       MCMC iteration = 38000\n",
      "\n",
      "                       MCMC iteration = 39000\n",
      "\n",
      "                       MCMC iteration = 40000\n",
      "\n",
      "                       MCMC iteration = 41000\n",
      "\n",
      "                       MCMC iteration = 42000\n",
      "\n",
      "                       MCMC iteration = 43000\n",
      "\n",
      "                       MCMC iteration = 44000\n",
      "\n",
      "                       MCMC iteration = 45000\n",
      "\n",
      "                       MCMC iteration = 46000\n",
      "\n",
      "                       MCMC iteration = 47000\n",
      "\n",
      "                       MCMC iteration = 48000\n",
      "\n",
      "                       MCMC iteration = 49000\n",
      "\n",
      "                       MCMC iteration = 50000\n",
      "\n",
      "                       MCMC iteration = 51000\n",
      "\n",
      "                       MCMC iteration = 52000\n",
      "\n",
      "                       MCMC iteration = 53000\n",
      "\n",
      "                       MCMC iteration = 54000\n",
      "\n",
      "                       MCMC iteration = 55000\n",
      "\n",
      "                       MCMC iteration = 56000\n",
      "\n",
      "                       MCMC iteration = 57000\n",
      "\n",
      "                       MCMC iteration = 58000\n",
      "\n",
      "                       MCMC iteration = 59000\n",
      "\n",
      "                       MCMC iteration = 60000\n",
      "\n",
      "                       MCMC iteration = 61000\n",
      "\n",
      "                       MCMC iteration = 62000\n",
      "\n",
      "                       MCMC iteration = 63000\n",
      "\n",
      "                       MCMC iteration = 64000\n",
      "\n",
      "                       MCMC iteration = 65000\n",
      "\n",
      "                       MCMC iteration = 66000\n",
      "\n",
      "                       MCMC iteration = 67000\n",
      "\n",
      "                       MCMC iteration = 68000\n",
      "\n",
      "                       MCMC iteration = 69000\n",
      "\n",
      "                       MCMC iteration = 70000\n",
      "\n",
      "                       MCMC iteration = 71000\n",
      "\n",
      "                       MCMC iteration = 72000\n",
      "\n",
      "                       MCMC iteration = 73000\n",
      "\n",
      "                       MCMC iteration = 74000\n",
      "\n",
      "                       MCMC iteration = 75000\n",
      "\n",
      "                       MCMC iteration = 76000\n",
      "\n",
      "                       MCMC iteration = 77000\n",
      "\n",
      "                       MCMC iteration = 78000\n",
      "\n",
      "                       MCMC iteration = 79000\n",
      "\n",
      "                       MCMC iteration = 80000\n",
      "\n",
      "                       MCMC iteration = 81000\n",
      "\n",
      "                       MCMC iteration = 82000\n",
      "\n",
      "                       MCMC iteration = 83000\n",
      "\n",
      "                       MCMC iteration = 84000\n",
      "\n",
      "                       MCMC iteration = 85000\n",
      "\n",
      "                       MCMC iteration = 86000\n",
      "\n",
      "                       MCMC iteration = 87000\n",
      "\n",
      "                       MCMC iteration = 88000\n",
      "\n",
      "                       MCMC iteration = 89000\n",
      "\n",
      "                       MCMC iteration = 90000\n",
      "\n",
      "                       MCMC iteration = 91000\n",
      "\n",
      "                       MCMC iteration = 92000\n",
      "\n",
      "                       MCMC iteration = 93000\n",
      "\n",
      "                       MCMC iteration = 94000\n",
      "\n",
      "                       MCMC iteration = 95000\n",
      "\n",
      "                       MCMC iteration = 96000\n",
      "\n",
      "                       MCMC iteration = 97000\n",
      "\n",
      "                       MCMC iteration = 98000\n",
      "\n",
      "                       MCMC iteration = 99000\n",
      "\n",
      "                       MCMC iteration = 100000\n",
      "\n",
      "                       MCMC iteration = 101000\n",
      "\n",
      "                       MCMC iteration = 102000\n",
      "\n",
      "                       MCMC iteration = 103000\n",
      "\n",
      "                       MCMC iteration = 104000\n",
      "\n",
      "                       MCMC iteration = 105000\n",
      "\n",
      "                       MCMC iteration = 106000\n",
      "\n",
      "                       MCMC iteration = 107000\n",
      "\n",
      "                       MCMC iteration = 108000\n",
      "\n",
      "                       MCMC iteration = 109000\n",
      "\n",
      "                       MCMC iteration = 110000\n"
     ]
    }
   ],
   "source": [
    "###common week slope\n",
    "MCMC_cond = MCMCglmm(vertical_travel_distance_perh ~WIB,\n",
    "             random=~HenID,family=(\"gaussian\"), #prior=prior1.1,\n",
    "             nitt=110000,thin=25,burnin=10000, data=df, verbose=TRUE)"
   ]
  },
  {
   "cell_type": "code",
   "execution_count": 17,
   "metadata": {},
   "outputs": [
    {
     "data": {
      "text/html": [
       "<strong>var1:</strong> 0.376064428427373"
      ],
      "text/latex": [
       "\\textbf{var1:} 0.376064428427373"
      ],
      "text/markdown": [
       "**var1:** 0.376064428427373"
      ],
      "text/plain": [
       "     var1 \n",
       "0.3760644 "
      ]
     },
     "metadata": {},
     "output_type": "display_data"
    },
    {
     "data": {
      "text/html": [
       "<table class=\"dataframe\">\n",
       "<caption>A matrix: 1 × 2 of type dbl</caption>\n",
       "<thead>\n",
       "\t<tr><th></th><th scope=col>lower</th><th scope=col>upper</th></tr>\n",
       "</thead>\n",
       "<tbody>\n",
       "\t<tr><th scope=row>var1</th><td>0.3294679</td><td>0.4470789</td></tr>\n",
       "</tbody>\n",
       "</table>\n"
      ],
      "text/latex": [
       "A matrix: 1 × 2 of type dbl\n",
       "\\begin{tabular}{r|ll}\n",
       "  & lower & upper\\\\\n",
       "\\hline\n",
       "\tvar1 & 0.3294679 & 0.4470789\\\\\n",
       "\\end{tabular}\n"
      ],
      "text/markdown": [
       "\n",
       "A matrix: 1 × 2 of type dbl\n",
       "\n",
       "| <!--/--> | lower | upper |\n",
       "|---|---|---|\n",
       "| var1 | 0.3294679 | 0.4470789 |\n",
       "\n"
      ],
      "text/plain": [
       "     lower     upper    \n",
       "var1 0.3294679 0.4470789"
      ]
     },
     "metadata": {},
     "output_type": "display_data"
    }
   ],
   "source": [
    "rep = (MCMC_cond$VCV[,\"HenID\"]/ (MCMC_cond$VCV[,\"HenID\"]+MCMC_cond$VCV[,\"units\"]))\n",
    "posterior.mode(rep)\n",
    "HPDinterval(rep)"
   ]
  },
  {
   "cell_type": "code",
   "execution_count": null,
   "metadata": {},
   "outputs": [],
   "source": []
  },
  {
   "cell_type": "code",
   "execution_count": null,
   "metadata": {},
   "outputs": [],
   "source": []
  },
  {
   "cell_type": "code",
   "execution_count": null,
   "metadata": {},
   "outputs": [],
   "source": []
  },
  {
   "cell_type": "code",
   "execution_count": null,
   "metadata": {},
   "outputs": [],
   "source": []
  },
  {
   "cell_type": "code",
   "execution_count": null,
   "metadata": {},
   "outputs": [],
   "source": []
  },
  {
   "cell_type": "code",
   "execution_count": null,
   "metadata": {},
   "outputs": [],
   "source": []
  },
  {
   "cell_type": "code",
   "execution_count": null,
   "metadata": {},
   "outputs": [],
   "source": []
  }
 ],
 "metadata": {
  "kernelspec": {
   "display_name": "R 4.0.3",
   "language": "R",
   "name": "ir35"
  },
  "language_info": {
   "codemirror_mode": "r",
   "file_extension": ".r",
   "mimetype": "text/x-r-source",
   "name": "R",
   "pygments_lexer": "r",
   "version": "4.0.3"
  }
 },
 "nbformat": 4,
 "nbformat_minor": 4
}
