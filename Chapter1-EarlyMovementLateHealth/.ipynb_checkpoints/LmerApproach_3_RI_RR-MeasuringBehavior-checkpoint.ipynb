{
 "cells": [
  {
   "cell_type": "code",
   "execution_count": 55,
   "metadata": {
    "scrolled": true
   },
   "outputs": [
    {
     "name": "stderr",
     "output_type": "stream",
     "text": [
      "This is DHARMa 0.4.5. For overview type '?DHARMa'. For recent changes, type news(package = 'DHARMa')\n",
      "\n"
     ]
    }
   ],
   "source": [
    "library(rptR) #repeatabilities\n",
    "library(lmerTest) #lmer with pvalues\n",
    "library(MuMIn) #R2\n",
    "library(merTools) #sim\n",
    "library(dplyr) #%>%\n",
    "library(boot) #bootstrap IC\n",
    "library(DHARMa) #verify assumpltion of glm"
   ]
  },
  {
   "cell_type": "code",
   "execution_count": 19,
   "metadata": {},
   "outputs": [],
   "source": [
    "#install.packages(\"lmerTest\")\n",
    "#library(lmerTest)"
   ]
  },
  {
   "cell_type": "code",
   "execution_count": 20,
   "metadata": {},
   "outputs": [
    {
     "data": {
      "text/plain": [
       "\n",
       "To cite lmerTest in publications use:\n",
       "\n",
       "Kuznetsova A, Brockhoff PB, Christensen RHB (2017). \"lmerTest Package:\n",
       "Tests in Linear Mixed Effects Models.\" _Journal of Statistical\n",
       "Software_, *82*(13), 1-26. doi: 10.18637/jss.v082.i13 (URL:\n",
       "https://doi.org/10.18637/jss.v082.i13).\n",
       "\n",
       "A BibTeX entry for LaTeX users is\n",
       "\n",
       "  @Article{,\n",
       "    title = {{lmerTest} Package: Tests in Linear Mixed Effects Models},\n",
       "    author = {Alexandra Kuznetsova and Per B. Brockhoff and Rune H. B. Christensen},\n",
       "    journal = {Journal of Statistical Software},\n",
       "    year = {2017},\n",
       "    volume = {82},\n",
       "    number = {13},\n",
       "    pages = {1--26},\n",
       "    doi = {10.18637/jss.v082.i13},\n",
       "  }\n"
      ]
     },
     "metadata": {},
     "output_type": "display_data"
    }
   ],
   "source": [
    "citation(\"lmerTest\")"
   ]
  },
  {
   "cell_type": "markdown",
   "metadata": {},
   "source": [
    "library(lme4)\n",
    "library(arm)\n",
    "library(MuMIn)\n",
    "library(tidyverse)\n",
    "library(plyr)\n",
    "library(broom)\n",
    "library(coda)\n",
    "library(grid)\n",
    "library(gridExtra)\n",
    "library(brms)\n",
    "library(broom.mixed)\n",
    "library(merTools)\n",
    "library(tidybayes)\n",
    "library(parallel)"
   ]
  },
  {
   "cell_type": "markdown",
   "metadata": {},
   "source": [
    "# Download data"
   ]
  },
  {
   "cell_type": "code",
   "execution_count": 38,
   "metadata": {
    "scrolled": true
   },
   "outputs": [
    {
     "data": {
      "text/html": [
       "<table class=\"dataframe\">\n",
       "<caption>A matrix: 2 × 1 of type dbl</caption>\n",
       "<thead>\n",
       "\t<tr><th></th><th scope=col>TRAN</th></tr>\n",
       "</thead>\n",
       "<tbody>\n",
       "\t<tr><th scope=row>OFH</th><td>0</td></tr>\n",
       "\t<tr><th scope=row>TRAN</th><td>1</td></tr>\n",
       "</tbody>\n",
       "</table>\n"
      ],
      "text/latex": [
       "A matrix: 2 × 1 of type dbl\n",
       "\\begin{tabular}{r|l}\n",
       "  & TRAN\\\\\n",
       "\\hline\n",
       "\tOFH & 0\\\\\n",
       "\tTRAN & 1\\\\\n",
       "\\end{tabular}\n"
      ],
      "text/markdown": [
       "\n",
       "A matrix: 2 × 1 of type dbl\n",
       "\n",
       "| <!--/--> | TRAN |\n",
       "|---|---|\n",
       "| OFH | 0 |\n",
       "| TRAN | 1 |\n",
       "\n"
      ],
      "text/plain": [
       "     TRAN\n",
       "OFH  0   \n",
       "TRAN 1   "
      ]
     },
     "metadata": {},
     "output_type": "display_data"
    },
    {
     "data": {
      "text/html": [
       "<table class=\"dataframe\">\n",
       "<caption>A matrix: 2 × 1 of type dbl</caption>\n",
       "<thead>\n",
       "\t<tr><th></th><th scope=col>OFH</th></tr>\n",
       "</thead>\n",
       "<tbody>\n",
       "\t<tr><th scope=row>TRAN</th><td>0</td></tr>\n",
       "\t<tr><th scope=row>OFH</th><td>1</td></tr>\n",
       "</tbody>\n",
       "</table>\n"
      ],
      "text/latex": [
       "A matrix: 2 × 1 of type dbl\n",
       "\\begin{tabular}{r|l}\n",
       "  & OFH\\\\\n",
       "\\hline\n",
       "\tTRAN & 0\\\\\n",
       "\tOFH & 1\\\\\n",
       "\\end{tabular}\n"
      ],
      "text/markdown": [
       "\n",
       "A matrix: 2 × 1 of type dbl\n",
       "\n",
       "| <!--/--> | OFH |\n",
       "|---|---|\n",
       "| TRAN | 0 |\n",
       "| OFH | 1 |\n",
       "\n"
      ],
      "text/plain": [
       "     OFH\n",
       "TRAN 0  \n",
       "OFH  1  "
      ]
     },
     "metadata": {},
     "output_type": "display_data"
    },
    {
     "data": {
      "text/html": [
       "<table class=\"dataframe\">\n",
       "<caption>A matrix: 3 × 2 of type dbl</caption>\n",
       "<thead>\n",
       "\t<tr><th></th><th scope=col>MEXP</th><th scope=col>REXP</th></tr>\n",
       "</thead>\n",
       "<tbody>\n",
       "\t<tr><th scope=row>LEXP</th><td>0</td><td>0</td></tr>\n",
       "\t<tr><th scope=row>MEXP</th><td>1</td><td>0</td></tr>\n",
       "\t<tr><th scope=row>REXP</th><td>0</td><td>1</td></tr>\n",
       "</tbody>\n",
       "</table>\n"
      ],
      "text/latex": [
       "A matrix: 3 × 2 of type dbl\n",
       "\\begin{tabular}{r|ll}\n",
       "  & MEXP & REXP\\\\\n",
       "\\hline\n",
       "\tLEXP & 0 & 0\\\\\n",
       "\tMEXP & 1 & 0\\\\\n",
       "\tREXP & 0 & 1\\\\\n",
       "\\end{tabular}\n"
      ],
      "text/markdown": [
       "\n",
       "A matrix: 3 × 2 of type dbl\n",
       "\n",
       "| <!--/--> | MEXP | REXP |\n",
       "|---|---|---|\n",
       "| LEXP | 0 | 0 |\n",
       "| MEXP | 1 | 0 |\n",
       "| REXP | 0 | 1 |\n",
       "\n"
      ],
      "text/plain": [
       "     MEXP REXP\n",
       "LEXP 0    0   \n",
       "MEXP 1    0   \n",
       "REXP 0    1   "
      ]
     },
     "metadata": {},
     "output_type": "display_data"
    },
    {
     "data": {
      "text/html": [
       "<table class=\"dataframe\">\n",
       "<caption>A matrix: 3 × 2 of type dbl</caption>\n",
       "<thead>\n",
       "\t<tr><th></th><th scope=col>MEXP</th><th scope=col>REXP</th></tr>\n",
       "</thead>\n",
       "<tbody>\n",
       "\t<tr><th scope=row>LEXP</th><td>0</td><td>0</td></tr>\n",
       "\t<tr><th scope=row>MEXP</th><td>1</td><td>0</td></tr>\n",
       "\t<tr><th scope=row>REXP</th><td>0</td><td>1</td></tr>\n",
       "</tbody>\n",
       "</table>\n"
      ],
      "text/latex": [
       "A matrix: 3 × 2 of type dbl\n",
       "\\begin{tabular}{r|ll}\n",
       "  & MEXP & REXP\\\\\n",
       "\\hline\n",
       "\tLEXP & 0 & 0\\\\\n",
       "\tMEXP & 1 & 0\\\\\n",
       "\tREXP & 0 & 1\\\\\n",
       "\\end{tabular}\n"
      ],
      "text/markdown": [
       "\n",
       "A matrix: 3 × 2 of type dbl\n",
       "\n",
       "| <!--/--> | MEXP | REXP |\n",
       "|---|---|---|\n",
       "| LEXP | 0 | 0 |\n",
       "| MEXP | 1 | 0 |\n",
       "| REXP | 0 | 1 |\n",
       "\n"
      ],
      "text/plain": [
       "     MEXP REXP\n",
       "LEXP 0    0   \n",
       "MEXP 1    0   \n",
       "REXP 0    1   "
      ]
     },
     "metadata": {},
     "output_type": "display_data"
    },
    {
     "name": "stdout",
     "output_type": "stream",
     "text": [
      "[1] 3230   34\n"
     ]
    },
    {
     "data": {
      "text/plain": [
       "     HenID           DIB         CLASS          PenID     temperature_C_avg\n",
       " hen_116:  43   Min.   :11.00   LEXP: 965   pen10  :504   Min.   : 4.000   \n",
       " hen_124:  43   1st Qu.:23.00   MEXP:1379   pen11  :504   1st Qu.: 8.667   \n",
       " hen_127:  43   Median :33.00   REXP: 886   pen8   :430   Median :11.000   \n",
       " hen_136:  43   Mean   :33.59               pen9   :429   Mean   :10.838   \n",
       " hen_147:  43   3rd Qu.:44.00               pen4   :388   3rd Qu.:12.667   \n",
       " hen_151:  43   Max.   :54.00               pen5   :363   Max.   :19.333   \n",
       " (Other):2972                               (Other):612                    \n",
       "  tobeusedPCA     InitialWeight  Treatment   perc_duration_5_Zone\n",
       " Min.   :0.0000   Min.   :1046   TRAN:1616   Min.   :  0.00      \n",
       " 1st Qu.:0.0000   1st Qu.:1130   OFH :1614   1st Qu.: 11.00      \n",
       " Median :0.0000   Median :1164               Median : 33.00      \n",
       " Mean   :0.1734   Mean   :1169               Mean   : 39.21      \n",
       " 3rd Qu.:0.0000   3rd Qu.:1200               3rd Qu.: 66.00      \n",
       " Max.   :1.0000   Max.   :1350               Max.   :100.00      \n",
       "                                                                 \n",
       " perc_duration_4_Zone perc_duration_3_Zone perc_duration_2_Zone\n",
       " Min.   : 0.000       Min.   : 0.00        Min.   : 0.00       \n",
       " 1st Qu.: 4.000       1st Qu.: 7.00        1st Qu.:14.00       \n",
       " Median : 6.000       Median :17.00        Median :32.00       \n",
       " Mean   : 8.136       Mean   :18.27        Mean   :31.24       \n",
       " 3rd Qu.:10.000       3rd Qu.:28.00        3rd Qu.:46.00       \n",
       " Max.   :73.000       Max.   :70.00        Max.   :91.00       \n",
       "                                                               \n",
       " perc_1_Zone_while_WG_open nbr_stays_2_Zone_perh nbr_stays_4_Zone_perh\n",
       " Min.   : 0.000            Min.   :0.0000        Min.   :0.0000       \n",
       " 1st Qu.: 0.000            1st Qu.:0.4545        1st Qu.:0.2857       \n",
       " Median : 1.000            Median :1.0714        Median :0.5714       \n",
       " Mean   : 6.647            Mean   :1.1062        Mean   :0.7059       \n",
       " 3rd Qu.: 9.000            3rd Qu.:1.6667        3rd Qu.:1.0000       \n",
       " Max.   :87.000            Max.   :5.0909        Max.   :5.2500       \n",
       "                                                                      \n",
       " nbr_stays_3_Zone_perh nbr_stays_5_Zone_perh nbr_stays_1_Zone_perh\n",
       " Min.   :0.0000        Min.   :0.0000        Min.   :0.0000       \n",
       " 1st Qu.:0.6923        1st Qu.:0.2000        1st Qu.:0.0000       \n",
       " Median :1.3333        Median :0.3571        Median :0.1622       \n",
       " Mean   :1.3227        Mean   :0.4352        Mean   :0.4060       \n",
       " 3rd Qu.:1.8333        3rd Qu.:0.6000        3rd Qu.:0.6316       \n",
       " Max.   :5.1818        Max.   :3.1667        Max.   :3.5789       \n",
       "                                                                  \n",
       " in_WG_15mnAfterOpening SleepingHeight  vertical_travel_distance_perh\n",
       " Min.   :0.0000         Min.   :0.000   Min.   : 0.000               \n",
       " 1st Qu.:0.0000         1st Qu.:2.000   1st Qu.: 2.286               \n",
       " Median :0.0000         Median :3.000   Median : 3.600               \n",
       " Mean   :0.2065         Mean   :2.481   Mean   : 3.595               \n",
       " 3rd Qu.:0.0000         3rd Qu.:3.000   3rd Qu.: 4.800               \n",
       " Max.   :1.0000         Max.   :3.000   Max.   :12.308               \n",
       "                                                                     \n",
       " DIB_startat11       avgDIB         severity        Feathers    \n",
       " Min.   : 0.00   Min.   :21.91   Min.   : 6.00   Min.   :35.00  \n",
       " 1st Qu.:12.00   1st Qu.:21.91   1st Qu.:24.00   1st Qu.:58.67  \n",
       " Median :22.00   Median :22.36   Median :36.00   Median :66.33  \n",
       " Mean   :22.59   Mean   :22.59   Mean   :35.72   Mean   :65.81  \n",
       " 3rd Qu.:33.00   3rd Qu.:23.00   3rd Qu.:46.00   3rd Qu.:73.67  \n",
       " Max.   :43.00   Max.   :24.18   Max.   :84.00   Max.   :86.67  \n",
       "                                                 NA's   :42     \n",
       "      cDIB       temperature_C_avg_scale.V1      time.V1      \n",
       " Min.   : 0.00   Min.   :-2.1505151         Min.   :0.000000  \n",
       " 1st Qu.:12.00   1st Qu.:-0.6829345         1st Qu.:0.973855  \n",
       " Median :22.00   Median : 0.0508558         Median :1.785401  \n",
       " Mean   :22.59   Mean   : 0.0000000         Mean   :1.833566  \n",
       " 3rd Qu.:33.00   3rd Qu.: 0.5749917         3rd Qu.:2.678102  \n",
       " Max.   :43.00   Max.   : 2.6715354         Max.   :3.489648  \n",
       "                                                              \n",
       "     time2             time3           avgDIB_scale.V1   \n",
       " Min.   : 0.0000   Min.   : 0.0000   Min.   :-1.0681873  \n",
       " 1st Qu.: 0.9484   1st Qu.: 0.9236   1st Qu.:-1.0681873  \n",
       " Median : 3.1877   Median : 5.6913   Median :-0.3677554  \n",
       " Mean   : 4.3617   Mean   :11.6090   Mean   : 0.0000000  \n",
       " 3rd Qu.: 7.1722   3rd Qu.:19.2080   3rd Qu.: 0.6324925  \n",
       " Max.   :12.1776   Max.   :42.4957   Max.   : 2.4750543  \n",
       "                                                         \n",
       " InitialWeight_scale.V1 perc_NOT1_Zone_while_WG_open perc_duration_NOT5_Zone\n",
       " Min.   :-1.9742093     Min.   : 13.00               Min.   :  0.00         \n",
       " 1st Qu.:-0.6252286     1st Qu.: 91.00               1st Qu.: 34.00         \n",
       " Median :-0.0792126     Median : 99.00               Median : 67.00         \n",
       " Mean   : 0.0000000     Mean   : 93.35               Mean   : 60.79         \n",
       " 3rd Qu.: 0.4989220     3rd Qu.:100.00               3rd Qu.: 89.00         \n",
       " Max.   : 2.9078162     Max.   :100.00               Max.   :100.00         \n",
       "                                                                            "
      ]
     },
     "metadata": {},
     "output_type": "display_data"
    },
    {
     "data": {
      "text/html": [
       "<table class=\"dataframe\">\n",
       "<caption>A data.frame: 3 × 34</caption>\n",
       "<thead>\n",
       "\t<tr><th></th><th scope=col>HenID</th><th scope=col>DIB</th><th scope=col>CLASS</th><th scope=col>PenID</th><th scope=col>temperature_C_avg</th><th scope=col>tobeusedPCA</th><th scope=col>InitialWeight</th><th scope=col>Treatment</th><th scope=col>perc_duration_5_Zone</th><th scope=col>perc_duration_4_Zone</th><th scope=col>...</th><th scope=col>Feathers</th><th scope=col>cDIB</th><th scope=col>temperature_C_avg_scale</th><th scope=col>time</th><th scope=col>time2</th><th scope=col>time3</th><th scope=col>avgDIB_scale</th><th scope=col>InitialWeight_scale</th><th scope=col>perc_NOT1_Zone_while_WG_open</th><th scope=col>perc_duration_NOT5_Zone</th></tr>\n",
       "\t<tr><th></th><th scope=col>&lt;fct&gt;</th><th scope=col>&lt;int&gt;</th><th scope=col>&lt;fct&gt;</th><th scope=col>&lt;fct&gt;</th><th scope=col>&lt;dbl&gt;</th><th scope=col>&lt;int&gt;</th><th scope=col>&lt;dbl&gt;</th><th scope=col>&lt;fct&gt;</th><th scope=col>&lt;int&gt;</th><th scope=col>&lt;dbl&gt;</th><th scope=col>...</th><th scope=col>&lt;dbl&gt;</th><th scope=col>&lt;int&gt;</th><th scope=col>&lt;dbl[,1]&gt;</th><th scope=col>&lt;dbl[,1]&gt;</th><th scope=col>&lt;dbl&gt;</th><th scope=col>&lt;dbl&gt;</th><th scope=col>&lt;dbl[,1]&gt;</th><th scope=col>&lt;dbl[,1]&gt;</th><th scope=col>&lt;dbl&gt;</th><th scope=col>&lt;dbl&gt;</th></tr>\n",
       "</thead>\n",
       "<tbody>\n",
       "\t<tr><th scope=row>1</th><td>hen_134</td><td>11</td><td>MEXP</td><td>pen10</td><td>11.50000</td><td>1</td><td>1112</td><td>TRAN</td><td>100</td><td>0</td><td>...</td><td>73</td><td>0</td><td> 0.2080966</td><td>0.0000000</td><td>0.000000000</td><td>0.0000000000</td><td>-0.3677554</td><td>-0.9142959</td><td>100</td><td> 0</td></tr>\n",
       "\t<tr><th scope=row>2</th><td>hen_134</td><td>12</td><td>MEXP</td><td>pen10</td><td>10.16667</td><td>0</td><td>1112</td><td>TRAN</td><td> 86</td><td>0</td><td>...</td><td>73</td><td>1</td><td>-0.2112122</td><td>0.0811546</td><td>0.006586069</td><td>0.0005344898</td><td>-0.3677554</td><td>-0.9142959</td><td>100</td><td>14</td></tr>\n",
       "\t<tr><th scope=row>3</th><td>hen_134</td><td>13</td><td>MEXP</td><td>pen10</td><td> 9.00000</td><td>0</td><td>1112</td><td>TRAN</td><td>100</td><td>0</td><td>...</td><td>73</td><td>2</td><td>-0.5781073</td><td>0.1623092</td><td>0.026344277</td><td>0.0042759186</td><td>-0.3677554</td><td>-0.9142959</td><td>100</td><td> 0</td></tr>\n",
       "</tbody>\n",
       "</table>\n"
      ],
      "text/latex": [
       "A data.frame: 3 × 34\n",
       "\\begin{tabular}{r|lllllllllllllllllllll}\n",
       "  & HenID & DIB & CLASS & PenID & temperature\\_C\\_avg & tobeusedPCA & InitialWeight & Treatment & perc\\_duration\\_5\\_Zone & perc\\_duration\\_4\\_Zone & ... & Feathers & cDIB & temperature\\_C\\_avg\\_scale & time & time2 & time3 & avgDIB\\_scale & InitialWeight\\_scale & perc\\_NOT1\\_Zone\\_while\\_WG\\_open & perc\\_duration\\_NOT5\\_Zone\\\\\n",
       "  & <fct> & <int> & <fct> & <fct> & <dbl> & <int> & <dbl> & <fct> & <int> & <dbl> & ... & <dbl> & <int> & <dbl{[},1{]}> & <dbl{[},1{]}> & <dbl> & <dbl> & <dbl{[},1{]}> & <dbl{[},1{]}> & <dbl> & <dbl>\\\\\n",
       "\\hline\n",
       "\t1 & hen\\_134 & 11 & MEXP & pen10 & 11.50000 & 1 & 1112 & TRAN & 100 & 0 & ... & 73 & 0 &  0.2080966 & 0.0000000 & 0.000000000 & 0.0000000000 & -0.3677554 & -0.9142959 & 100 &  0\\\\\n",
       "\t2 & hen\\_134 & 12 & MEXP & pen10 & 10.16667 & 0 & 1112 & TRAN &  86 & 0 & ... & 73 & 1 & -0.2112122 & 0.0811546 & 0.006586069 & 0.0005344898 & -0.3677554 & -0.9142959 & 100 & 14\\\\\n",
       "\t3 & hen\\_134 & 13 & MEXP & pen10 &  9.00000 & 0 & 1112 & TRAN & 100 & 0 & ... & 73 & 2 & -0.5781073 & 0.1623092 & 0.026344277 & 0.0042759186 & -0.3677554 & -0.9142959 & 100 &  0\\\\\n",
       "\\end{tabular}\n"
      ],
      "text/markdown": [
       "\n",
       "A data.frame: 3 × 34\n",
       "\n",
       "| <!--/--> | HenID &lt;fct&gt; | DIB &lt;int&gt; | CLASS &lt;fct&gt; | PenID &lt;fct&gt; | temperature_C_avg &lt;dbl&gt; | tobeusedPCA &lt;int&gt; | InitialWeight &lt;dbl&gt; | Treatment &lt;fct&gt; | perc_duration_5_Zone &lt;int&gt; | perc_duration_4_Zone &lt;dbl&gt; | ... ... | Feathers &lt;dbl&gt; | cDIB &lt;int&gt; | temperature_C_avg_scale &lt;dbl[,1]&gt; | time &lt;dbl[,1]&gt; | time2 &lt;dbl&gt; | time3 &lt;dbl&gt; | avgDIB_scale &lt;dbl[,1]&gt; | InitialWeight_scale &lt;dbl[,1]&gt; | perc_NOT1_Zone_while_WG_open &lt;dbl&gt; | perc_duration_NOT5_Zone &lt;dbl&gt; |\n",
       "|---|---|---|---|---|---|---|---|---|---|---|---|---|---|---|---|---|---|---|---|---|---|\n",
       "| 1 | hen_134 | 11 | MEXP | pen10 | 11.50000 | 1 | 1112 | TRAN | 100 | 0 | ... | 73 | 0 |  0.2080966 | 0.0000000 | 0.000000000 | 0.0000000000 | -0.3677554 | -0.9142959 | 100 |  0 |\n",
       "| 2 | hen_134 | 12 | MEXP | pen10 | 10.16667 | 0 | 1112 | TRAN |  86 | 0 | ... | 73 | 1 | -0.2112122 | 0.0811546 | 0.006586069 | 0.0005344898 | -0.3677554 | -0.9142959 | 100 | 14 |\n",
       "| 3 | hen_134 | 13 | MEXP | pen10 |  9.00000 | 0 | 1112 | TRAN | 100 | 0 | ... | 73 | 2 | -0.5781073 | 0.1623092 | 0.026344277 | 0.0042759186 | -0.3677554 | -0.9142959 | 100 |  0 |\n",
       "\n"
      ],
      "text/plain": [
       "  HenID   DIB CLASS PenID temperature_C_avg tobeusedPCA InitialWeight Treatment\n",
       "1 hen_134 11  MEXP  pen10 11.50000          1           1112          TRAN     \n",
       "2 hen_134 12  MEXP  pen10 10.16667          0           1112          TRAN     \n",
       "3 hen_134 13  MEXP  pen10  9.00000          0           1112          TRAN     \n",
       "  perc_duration_5_Zone perc_duration_4_Zone ... Feathers cDIB\n",
       "1 100                  0                    ... 73       0   \n",
       "2  86                  0                    ... 73       1   \n",
       "3 100                  0                    ... 73       2   \n",
       "  temperature_C_avg_scale time      time2       time3        avgDIB_scale\n",
       "1  0.2080966              0.0000000 0.000000000 0.0000000000 -0.3677554  \n",
       "2 -0.2112122              0.0811546 0.006586069 0.0005344898 -0.3677554  \n",
       "3 -0.5781073              0.1623092 0.026344277 0.0042759186 -0.3677554  \n",
       "  InitialWeight_scale perc_NOT1_Zone_while_WG_open perc_duration_NOT5_Zone\n",
       "1 -0.9142959          100                           0                     \n",
       "2 -0.9142959          100                          14                     \n",
       "3 -0.9142959          100                           0                     "
      ]
     },
     "metadata": {},
     "output_type": "display_data"
    }
   ],
   "source": [
    "path_ = 'G:/VPHI/Welfare/2- Research Projects/OFHE2.OriginsE2/DataOutput/TrackingSystem/ALLDATA_'\n",
    "path_adapt = file.path(path_,'Adaptability')\n",
    "df = read.csv(file.path(path_adapt,'df_MVT_4individuality.csv'), header = TRUE, sep = \";\")\n",
    "df$HenID = as.factor(df$HenID)   \n",
    "df$PenID = as.factor(df$PenID) \n",
    "df$cDIB = as.integer(df$DIB_startat11)\n",
    "df$CLASS = as.factor(df$CLASS) \n",
    "df$Treatment = as.factor(df$Treatment)\n",
    "#scale: mean-centering of the environmental variable so that intercepts reflect average values for the population and ind. \n",
    "df$temperature_C_avg_scale = scale(df$temperature_C_avg, center=TRUE, scale=TRUE)\n",
    "df$time = scale(df$cDIB, center=FALSE, scale=sd(df$cDIB, na.rm = TRUE)) #as not centering, we need to add this\n",
    "df$time2 = poly(df$time, degree=2,raw=TRUE)[,2]\n",
    "df$time3 = poly(df$time, degree=3,raw=TRUE)[,3]\n",
    "df$avgDIB_scale = scale(df$avgDIB, center=TRUE, scale=TRUE)\n",
    "df$InitialWeight_scale = scale(df$InitialWeight, center=TRUE, scale=TRUE)\n",
    "\n",
    "#WG var\n",
    "df$perc_1_Zone_while_WG_open = as.integer(df$perc_1_Zone_while_WG_open)\n",
    "df$perc_NOT1_Zone_while_WG_open = 100-df$perc_1_Zone_while_WG_open\n",
    "df$in_WG_15mnAfterOpening = as.integer(df$in_WG_15mnAfterOpening)\n",
    "\n",
    "#top tier var\n",
    "df$perc_duration_5_Zone = as.integer(df$perc_duration_5_Zone)\n",
    "df$perc_duration_NOT5_Zone = 100-df$perc_duration_5_Zone\n",
    "\n",
    "#setting reference group\n",
    "contrasts(df$Treatment)\n",
    "df <- df %>% mutate(Treatment = relevel(Treatment, ref = \"TRAN\"))\n",
    "contrasts(df$Treatment)\n",
    "\n",
    "contrasts(df$CLASS)\n",
    "df <- df %>% mutate(CLASS = relevel(CLASS, ref = \"LEXP\"))\n",
    "contrasts(df$CLASS)\n",
    "\n",
    "print(dim(df))\n",
    "summary(df)\n",
    "head(df,3)"
   ]
  },
  {
   "cell_type": "code",
   "execution_count": 36,
   "metadata": {
    "scrolled": true
   },
   "outputs": [
    {
     "data": {
      "text/html": [
       "<table class=\"dataframe\">\n",
       "<caption>A data.frame: 30 × 2</caption>\n",
       "<thead>\n",
       "\t<tr><th></th><th scope=col>perc_NOT1_Zone_while_WG_open</th><th scope=col>perc_1_Zone_while_WG_open</th></tr>\n",
       "\t<tr><th></th><th scope=col>&lt;dbl&gt;</th><th scope=col>&lt;int&gt;</th></tr>\n",
       "</thead>\n",
       "<tbody>\n",
       "\t<tr><th scope=row>1</th><td>100</td><td> 0</td></tr>\n",
       "\t<tr><th scope=row>2</th><td>100</td><td> 0</td></tr>\n",
       "\t<tr><th scope=row>3</th><td>100</td><td> 0</td></tr>\n",
       "\t<tr><th scope=row>4</th><td>100</td><td> 0</td></tr>\n",
       "\t<tr><th scope=row>5</th><td>100</td><td> 0</td></tr>\n",
       "\t<tr><th scope=row>6</th><td>100</td><td> 0</td></tr>\n",
       "\t<tr><th scope=row>7</th><td>100</td><td> 0</td></tr>\n",
       "\t<tr><th scope=row>8</th><td> 86</td><td>14</td></tr>\n",
       "\t<tr><th scope=row>9</th><td> 81</td><td>19</td></tr>\n",
       "\t<tr><th scope=row>10</th><td> 99</td><td> 1</td></tr>\n",
       "\t<tr><th scope=row>11</th><td> 99</td><td> 1</td></tr>\n",
       "\t<tr><th scope=row>12</th><td> 97</td><td> 3</td></tr>\n",
       "\t<tr><th scope=row>13</th><td> 77</td><td>23</td></tr>\n",
       "\t<tr><th scope=row>14</th><td> 75</td><td>25</td></tr>\n",
       "\t<tr><th scope=row>15</th><td> 85</td><td>15</td></tr>\n",
       "\t<tr><th scope=row>16</th><td> 81</td><td>19</td></tr>\n",
       "\t<tr><th scope=row>17</th><td> 94</td><td> 6</td></tr>\n",
       "\t<tr><th scope=row>18</th><td> 90</td><td>10</td></tr>\n",
       "\t<tr><th scope=row>19</th><td> 95</td><td> 5</td></tr>\n",
       "\t<tr><th scope=row>20</th><td> 80</td><td>20</td></tr>\n",
       "\t<tr><th scope=row>21</th><td> 87</td><td>13</td></tr>\n",
       "\t<tr><th scope=row>22</th><td> 81</td><td>19</td></tr>\n",
       "\t<tr><th scope=row>23</th><td> 79</td><td>21</td></tr>\n",
       "\t<tr><th scope=row>24</th><td> 87</td><td>13</td></tr>\n",
       "\t<tr><th scope=row>25</th><td> 73</td><td>27</td></tr>\n",
       "\t<tr><th scope=row>26</th><td> 85</td><td>15</td></tr>\n",
       "\t<tr><th scope=row>27</th><td> 76</td><td>24</td></tr>\n",
       "\t<tr><th scope=row>28</th><td> 87</td><td>13</td></tr>\n",
       "\t<tr><th scope=row>29</th><td> 81</td><td>19</td></tr>\n",
       "\t<tr><th scope=row>30</th><td> 86</td><td>14</td></tr>\n",
       "</tbody>\n",
       "</table>\n"
      ],
      "text/latex": [
       "A data.frame: 30 × 2\n",
       "\\begin{tabular}{r|ll}\n",
       "  & perc\\_NOT1\\_Zone\\_while\\_WG\\_open & perc\\_1\\_Zone\\_while\\_WG\\_open\\\\\n",
       "  & <dbl> & <int>\\\\\n",
       "\\hline\n",
       "\t1 & 100 &  0\\\\\n",
       "\t2 & 100 &  0\\\\\n",
       "\t3 & 100 &  0\\\\\n",
       "\t4 & 100 &  0\\\\\n",
       "\t5 & 100 &  0\\\\\n",
       "\t6 & 100 &  0\\\\\n",
       "\t7 & 100 &  0\\\\\n",
       "\t8 &  86 & 14\\\\\n",
       "\t9 &  81 & 19\\\\\n",
       "\t10 &  99 &  1\\\\\n",
       "\t11 &  99 &  1\\\\\n",
       "\t12 &  97 &  3\\\\\n",
       "\t13 &  77 & 23\\\\\n",
       "\t14 &  75 & 25\\\\\n",
       "\t15 &  85 & 15\\\\\n",
       "\t16 &  81 & 19\\\\\n",
       "\t17 &  94 &  6\\\\\n",
       "\t18 &  90 & 10\\\\\n",
       "\t19 &  95 &  5\\\\\n",
       "\t20 &  80 & 20\\\\\n",
       "\t21 &  87 & 13\\\\\n",
       "\t22 &  81 & 19\\\\\n",
       "\t23 &  79 & 21\\\\\n",
       "\t24 &  87 & 13\\\\\n",
       "\t25 &  73 & 27\\\\\n",
       "\t26 &  85 & 15\\\\\n",
       "\t27 &  76 & 24\\\\\n",
       "\t28 &  87 & 13\\\\\n",
       "\t29 &  81 & 19\\\\\n",
       "\t30 &  86 & 14\\\\\n",
       "\\end{tabular}\n"
      ],
      "text/markdown": [
       "\n",
       "A data.frame: 30 × 2\n",
       "\n",
       "| <!--/--> | perc_NOT1_Zone_while_WG_open &lt;dbl&gt; | perc_1_Zone_while_WG_open &lt;int&gt; |\n",
       "|---|---|---|\n",
       "| 1 | 100 |  0 |\n",
       "| 2 | 100 |  0 |\n",
       "| 3 | 100 |  0 |\n",
       "| 4 | 100 |  0 |\n",
       "| 5 | 100 |  0 |\n",
       "| 6 | 100 |  0 |\n",
       "| 7 | 100 |  0 |\n",
       "| 8 |  86 | 14 |\n",
       "| 9 |  81 | 19 |\n",
       "| 10 |  99 |  1 |\n",
       "| 11 |  99 |  1 |\n",
       "| 12 |  97 |  3 |\n",
       "| 13 |  77 | 23 |\n",
       "| 14 |  75 | 25 |\n",
       "| 15 |  85 | 15 |\n",
       "| 16 |  81 | 19 |\n",
       "| 17 |  94 |  6 |\n",
       "| 18 |  90 | 10 |\n",
       "| 19 |  95 |  5 |\n",
       "| 20 |  80 | 20 |\n",
       "| 21 |  87 | 13 |\n",
       "| 22 |  81 | 19 |\n",
       "| 23 |  79 | 21 |\n",
       "| 24 |  87 | 13 |\n",
       "| 25 |  73 | 27 |\n",
       "| 26 |  85 | 15 |\n",
       "| 27 |  76 | 24 |\n",
       "| 28 |  87 | 13 |\n",
       "| 29 |  81 | 19 |\n",
       "| 30 |  86 | 14 |\n",
       "\n"
      ],
      "text/plain": [
       "   perc_NOT1_Zone_while_WG_open perc_1_Zone_while_WG_open\n",
       "1  100                           0                       \n",
       "2  100                           0                       \n",
       "3  100                           0                       \n",
       "4  100                           0                       \n",
       "5  100                           0                       \n",
       "6  100                           0                       \n",
       "7  100                           0                       \n",
       "8   86                          14                       \n",
       "9   81                          19                       \n",
       "10  99                           1                       \n",
       "11  99                           1                       \n",
       "12  97                           3                       \n",
       "13  77                          23                       \n",
       "14  75                          25                       \n",
       "15  85                          15                       \n",
       "16  81                          19                       \n",
       "17  94                           6                       \n",
       "18  90                          10                       \n",
       "19  95                           5                       \n",
       "20  80                          20                       \n",
       "21  87                          13                       \n",
       "22  81                          19                       \n",
       "23  79                          21                       \n",
       "24  87                          13                       \n",
       "25  73                          27                       \n",
       "26  85                          15                       \n",
       "27  76                          24                       \n",
       "28  87                          13                       \n",
       "29  81                          19                       \n",
       "30  86                          14                       "
      ]
     },
     "metadata": {},
     "output_type": "display_data"
    }
   ],
   "source": [
    "head(df[c('perc_NOT1_Zone_while_WG_open','perc_1_Zone_while_WG_open')],30)"
   ]
  },
  {
   "cell_type": "code",
   "execution_count": null,
   "metadata": {},
   "outputs": [],
   "source": []
  },
  {
   "cell_type": "code",
   "execution_count": 10,
   "metadata": {},
   "outputs": [
    {
     "data": {
      "text/html": [
       "1"
      ],
      "text/latex": [
       "1"
      ],
      "text/markdown": [
       "1"
      ],
      "text/plain": [
       "[1] 1"
      ]
     },
     "metadata": {},
     "output_type": "display_data"
    }
   ],
   "source": [
    "sd(df$avgDIB_scale)"
   ]
  },
  {
   "cell_type": "code",
   "execution_count": 11,
   "metadata": {},
   "outputs": [
    {
     "data": {
      "text/html": [
       "1"
      ],
      "text/latex": [
       "1"
      ],
      "text/markdown": [
       "1"
      ],
      "text/plain": [
       "[1] 1"
      ]
     },
     "metadata": {},
     "output_type": "display_data"
    }
   ],
   "source": [
    "sd(df$time)"
   ]
  },
  {
   "cell_type": "code",
   "execution_count": 12,
   "metadata": {},
   "outputs": [
    {
     "data": {
      "text/html": [
       "3.72915250475031"
      ],
      "text/latex": [
       "3.72915250475031"
      ],
      "text/markdown": [
       "3.72915250475031"
      ],
      "text/plain": [
       "[1] 3.729153"
      ]
     },
     "metadata": {},
     "output_type": "display_data"
    }
   ],
   "source": [
    "sd(df$time2)"
   ]
  },
  {
   "cell_type": "code",
   "execution_count": 14,
   "metadata": {},
   "outputs": [
    {
     "data": {
      "text/html": [
       "80"
      ],
      "text/latex": [
       "80"
      ],
      "text/markdown": [
       "80"
      ],
      "text/plain": [
       "[1] 80"
      ]
     },
     "metadata": {},
     "output_type": "display_data"
    }
   ],
   "source": [
    "length(unique(df[['HenID']]))"
   ]
  },
  {
   "cell_type": "markdown",
   "metadata": {},
   "source": [
    "# Repeatabilities"
   ]
  },
  {
   "cell_type": "code",
   "execution_count": 44,
   "metadata": {},
   "outputs": [],
   "source": [
    "#time + time2 + "
   ]
  },
  {
   "cell_type": "code",
   "execution_count": null,
   "metadata": {},
   "outputs": [],
   "source": [
    "perc_duration_5_Zone, perc_1_Zone_while_WG_open, vertical_travel_distance_perh, nbr_stays_4_Zone_perh"
   ]
  },
  {
   "cell_type": "code",
   "execution_count": 45,
   "metadata": {},
   "outputs": [],
   "source": [
    "nboot_ = 10\n",
    "npermut_ = 0"
   ]
  },
  {
   "cell_type": "markdown",
   "metadata": {},
   "source": [
    "### perc_1_Zone_while_WG_open"
   ]
  },
  {
   "cell_type": "code",
   "execution_count": 65,
   "metadata": {
    "scrolled": true
   },
   "outputs": [
    {
     "name": "stdout",
     "output_type": "stream",
     "text": [
      "Bootstrap Progress:\n"
     ]
    },
    {
     "data": {
      "text/plain": [
       "\n",
       "\n",
       "Repeatability estimation using the glmm method and logit link \n",
       "\n",
       "Repeatability for HenID\n",
       "--------------------------------\n",
       "Link-scale approximation:\n",
       "R  = 0.188\n",
       "SE = 0.068\n",
       "CI = [0.096, 0.282]\n",
       "P  = 2.18e-310 [LRT]\n",
       "     NA [Permutation]\n",
       "\n",
       "Original-scale approximation:\n",
       "R  = 0.181\n",
       "SE = 0.06\n",
       "CI = [0.094, 0.258]\n",
       "P  = 2.18e-310 [LRT]\n",
       "     NA [Permutation]\n"
      ]
     },
     "metadata": {},
     "output_type": "display_data"
    },
    {
     "data": {
      "image/png": "[encoded data removed]",
      "text/plain": [
       "Plot with title \"Residual vs. predicted\""
      ]
     },
     "metadata": {
      "image/png": {
       "height": 420,
       "width": 420
      }
     },
     "output_type": "display_data"
    }
   ],
   "source": [
    "set.seed(1234)\n",
    "mod_ = rpt(cbind(perc_1_Zone_while_WG_open, perc_NOT1_Zone_while_WG_open) ~ avgDIB_scale + Treatment + InitialWeight_scale + (1|HenID),\n",
    "               grname=c(\"HenID\"), datatype = \"Proportion\", data=df, adjusted =TRUE, nboot = nboot_, npermut = npermut_) \n",
    "mod_\n",
    "sim_res = simulateResiduals(mod_$mod, n=1000)\n",
    "plot(sim_res)"
   ]
  },
  {
   "cell_type": "markdown",
   "metadata": {},
   "source": [
    "### perc_duration_5_Zone"
   ]
  },
  {
   "cell_type": "code",
   "execution_count": null,
   "metadata": {},
   "outputs": [],
   "source": [
    "set.seed(1234)\n",
    "mod_ = rpt(cbind(perc_duration_5_Zone, perc_duration_NOT5_Zone) ~ avgDIB_scale + Treatment + InitialWeight_scale + (1|HenID),\n",
    "               grname=c(\"HenID\"), datatype = \"Proportion\", data=df, adjusted =TRUE, nboot = nboot_, npermut = npermut_) \n",
    "mod_\n",
    "sim_res = simulateResiduals(mod_$mod, n=1000)\n",
    "plot(sim_res)"
   ]
  },
  {
   "cell_type": "code",
   "execution_count": 43,
   "metadata": {},
   "outputs": [
    {
     "name": "stderr",
     "output_type": "stream",
     "text": [
      "Warning message in checkConv(attr(opt, \"derivs\"), opt$par, ctrl = control$checkConv, :\n",
      "\"Model failed to converge with max|grad| = 0.00300823 (tol = 0.002, component 1)\"\n",
      "Warning message in checkConv(attr(opt, \"derivs\"), opt$par, ctrl = control$checkConv, :\n",
      "\"Model failed to converge with max|grad| = 0.00300823 (tol = 0.002, component 1)\"\n"
     ]
    },
    {
     "name": "stdout",
     "output_type": "stream",
     "text": [
      "Bootstrap Progress:\n"
     ]
    },
    {
     "data": {
      "text/plain": [
       "\n",
       "\n",
       "Repeatability estimation using the glmm method and logit link \n",
       "\n",
       "Repeatability for HenID\n",
       "--------------------------------\n",
       "Link-scale approximation:\n",
       "R  = 0.217\n",
       "SE = 0.027\n",
       "CI = [0.157, 0.255]\n",
       "P  = 1.590002e-318 [LRT]\n",
       "     NA [Permutation]\n",
       "\n",
       "Original-scale approximation:\n",
       "R  = 0.359\n",
       "SE = 0.056\n",
       "CI = [0.237, 0.442]\n",
       "P  = 1.590002e-318 [LRT]\n",
       "     NA [Permutation]\n"
      ]
     },
     "metadata": {},
     "output_type": "display_data"
    }
   ],
   "source": [
    "set.seed(1234)\n",
    "mod_ = rpt(cbind(perc_duration_5_Zone, perc_duration_NOT5_Zone) ~ avgDIB_scale + Treatment + InitialWeight_scale + (1|HenID),\n",
    "               grname=c(\"HenID\"), datatype = \"Proportion\", data=df, adjusted =TRUE, nboot = nboot_, npermut = npermut_) \n",
    "mod_\n"
   ]
  },
  {
   "cell_type": "code",
   "execution_count": 61,
   "metadata": {},
   "outputs": [
    {
     "name": "stdout",
     "output_type": "stream",
     "text": [
      "Bootstrap Progress:\n"
     ]
    }
   ],
   "source": [
    "set.seed(1234)\n",
    "has_uncommon_beh = rpt(in_WG_15mnAfterOpening ~ avgDIB_scale + Treatment + InitialWeight_scale + (1|HenID), \n",
    "                       grname = c(\"HenID\"), data = df, datatype = \"Binary\", link = \"logit\", adjusted =TRUE,\n",
    "                       nboot = nboot_, npermut = npermut_)"
   ]
  },
  {
   "cell_type": "code",
   "execution_count": null,
   "metadata": {},
   "outputs": [],
   "source": []
  },
  {
   "cell_type": "code",
   "execution_count": 48,
   "metadata": {},
   "outputs": [
    {
     "data": {
      "image/png": "[encoded data removed]",
      "text/plain": [
       "Plot with title \"Histogram of sqrt(df$vertical_travel_distance_perh)\""
      ]
     },
     "metadata": {
      "image/png": {
       "height": 420,
       "width": 420
      }
     },
     "output_type": "display_data"
    }
   ],
   "source": [
    "hist(sqrt(df$vertical_travel_distance_perh))"
   ]
  },
  {
   "cell_type": "code",
   "execution_count": 51,
   "metadata": {},
   "outputs": [
    {
     "name": "stdout",
     "output_type": "stream",
     "text": [
      "Bootstrap Progress:\n",
      "\n",
      "\n",
      "Repeatability estimation using the lmm method \n",
      "\n",
      "Repeatability for HenID\n",
      "R  = 0.32\n",
      "SE = 0.046\n",
      "CI = [0.274, 0.401]\n",
      "P  = 2.64e-212 [LRT]\n",
      "     NA [Permutation]\n",
      "\n"
     ]
    },
    {
     "data": {
      "image/png": "[encoded data removed]",
      "text/plain": [
       "Plot with title \"Residuals\""
      ]
     },
     "metadata": {
      "image/png": {
       "height": 420,
       "width": 420
      }
     },
     "output_type": "display_data"
    },
    {
     "data": {
      "image/png": "[encoded data removed]",
      "text/plain": [
       "Plot with title \"Histogram of resid(model_$mod)\""
      ]
     },
     "metadata": {
      "image/png": {
       "height": 420,
       "width": 420
      }
     },
     "output_type": "display_data"
    },
    {
     "data": {
      "image/png": "[encoded data removed]",
      "text/plain": [
       "plot without title"
      ]
     },
     "metadata": {
      "image/png": {
       "height": 420,
       "width": 420
      }
     },
     "output_type": "display_data"
    }
   ],
   "source": [
    "set.seed(1234)\n",
    "model_ = rpt(sqrt(vertical_travel_distance_perh) ~ avgDIB_scale + Treatment + InitialWeight_scale + (1|HenID),\n",
    "               grname=c(\"HenID\"), datatype = \"Gaussian\", data=df, adjusted =TRUE, nboot = nboot_, npermut = npermut_) \n",
    "print(model_)\n",
    "#par(mfrow = c(2, 2))\n",
    "###### normally distributed residuals\n",
    "qqnorm(resid(model_$mod), main = \"Residuals\")\n",
    "qqline(resid(model_$mod))\n",
    "hist(resid(model_$mod))\n",
    "######check homogeneity of variance (residuals has constant variance)\n",
    "#variance of the residuals is equal across groups. Even spread around the centered line?\n",
    "plot(model_$mod)"
   ]
  },
  {
   "cell_type": "code",
   "execution_count": 52,
   "metadata": {},
   "outputs": [
    {
     "data": {
      "image/png": "[encoded data removed]",
      "text/plain": [
       "Plot with title \"Histogram of sqrt(df$nbr_stays_4_Zone_perh)\""
      ]
     },
     "metadata": {
      "image/png": {
       "height": 420,
       "width": 420
      }
     },
     "output_type": "display_data"
    }
   ],
   "source": [
    "hist(sqrt(df$nbr_stays_4_Zone_perh))"
   ]
  },
  {
   "cell_type": "code",
   "execution_count": 53,
   "metadata": {},
   "outputs": [
    {
     "name": "stdout",
     "output_type": "stream",
     "text": [
      "Bootstrap Progress:\n",
      "\n",
      "\n",
      "Repeatability estimation using the lmm method \n",
      "\n",
      "Repeatability for HenID\n",
      "R  = 0.269\n",
      "SE = 0.042\n",
      "CI = [0.229, 0.344]\n",
      "P  = 1.09e-166 [LRT]\n",
      "     NA [Permutation]\n",
      "\n"
     ]
    },
    {
     "data": {
      "image/png": "[encoded data removed]",
      "text/plain": [
       "Plot with title \"Residuals\""
      ]
     },
     "metadata": {
      "image/png": {
       "height": 420,
       "width": 420
      }
     },
     "output_type": "display_data"
    },
    {
     "data": {
      "image/png": "[encoded data removed]",
      "text/plain": [
       "Plot with title \"Histogram of resid(model_$mod)\""
      ]
     },
     "metadata": {
      "image/png": {
       "height": 420,
       "width": 420
      }
     },
     "output_type": "display_data"
    },
    {
     "data": {
      "image/png": "[encoded data removed]",
      "text/plain": [
       "plot without title"
      ]
     },
     "metadata": {
      "image/png": {
       "height": 420,
       "width": 420
      }
     },
     "output_type": "display_data"
    }
   ],
   "source": [
    "set.seed(1234)\n",
    "model_ = rpt(sqrt(nbr_stays_4_Zone_perh) ~ time + time2 + avgDIB_scale + Treatment + InitialWeight_scale + (1|HenID),\n",
    "               grname=c(\"HenID\"), datatype = \"Gaussian\", data=df, adjusted =TRUE, nboot = nboot_, npermut = npermut_) \n",
    "print(model_)\n",
    "#par(mfrow = c(2, 2))\n",
    "###### normally distributed residuals\n",
    "qqnorm(resid(model_$mod), main = \"Residuals\")\n",
    "qqline(resid(model_$mod))\n",
    "hist(resid(model_$mod))\n",
    "######check homogeneity of variance (residuals has constant variance)\n",
    "#variance of the residuals is equal across groups. Even spread around the centered line?\n",
    "plot(model_$mod)"
   ]
  },
  {
   "cell_type": "code",
   "execution_count": null,
   "metadata": {},
   "outputs": [],
   "source": []
  },
  {
   "cell_type": "code",
   "execution_count": 31,
   "metadata": {},
   "outputs": [
    {
     "name": "stdout",
     "output_type": "stream",
     "text": [
      "Bootstrap Progress:\n"
     ]
    },
    {
     "ename": "ERROR",
     "evalue": "Error in `[<-.data.frame`(`*tmp*`, , colnames(y), value = structure(c(0, : column name \"\" cannot match any column\n",
     "output_type": "error",
     "traceback": [
      "Error in `[<-.data.frame`(`*tmp*`, , colnames(y), value = structure(c(0, : column name \"\" cannot match any column\nTraceback:\n",
      "1. rpt(cbind(perc_1_Zone_while_WG_open, 100 - perc_1_Zone_while_WG_open) ~ \n .     time + time2 + avgDIB_scale + Treatment + InitialWeight_scale + \n .         (1 | HenID), grname = c(\"HenID\"), datatype = \"Proportion\", \n .     data = df, nboot = nboot_, npermut = npermut_)",
      "2. rptProportion(formula, grname, data, link, CI, nboot, npermut, \n .     parallel, ncores, ratio, adjusted, expect, rptObj, update)",
      "3. bootstrap_nongaussian(bootstr, R_pe, formula, data, Ysim, mod, \n .     grname, grname_org, nboot, parallel, ncores, CI, rptObj, \n .     update)",
      "4. with_warnings({\n .     if (nboot > 0 & parallel == TRUE) {\n .         if (is.null(ncores)) {\n .             ncores <- parallel::detectCores() - 1\n .             warning(\"No core number specified: detectCores() is used to detect the number of \\n cores on the local machine\")\n .         }\n .         cl <- parallel::makeCluster(ncores)\n .         parallel::clusterExport(cl, \"R_pe\", envir = environment())\n .         R_boot <- unname(parallel::parLapply(cl, Ysim, bootstr, \n .             mod, formula, data, grname))\n .         parallel::stopCluster(cl)\n .     }\n .     if (nboot > 0 & parallel == FALSE) {\n .         cat(\"Bootstrap Progress:\\n\")\n .         R_boot <- unname(pbapply::pblapply(Ysim, bootstr, mod, \n .             formula, data, grname))\n .     }\n .     if (nboot == 0) {\n .         R_boot <- NA\n .     }\n . })",
      "5. withCallingHandlers(expr, warning = wHandler)",
      "6. unname(pbapply::pblapply(Ysim, bootstr, mod, formula, data, grname))",
      "7. pbapply::pblapply(Ysim, bootstr, mod, formula, data, grname)",
      "8. lapply(X, FUN, ...)",
      "9. FUN(X[[i]], ...)",
      "10. `[<-`(`*tmp*`, , colnames(y), value = structure(c(0, 0, 0, 0, \n  . 1, 1, 0, 0, 1, 0, 0, 0, 1, 3, 7, 1, 1, 0, 1, 61, 4, 1, 0, 4, \n  . 0, 1, 2, 1, 1, 2, 10, 0, 3, 2, 0, 2, 0, 0, 0, 0, 13, 0, 1, 1, \n  . 0, 1, 2, 1, 0, 1, 1, 6, 2, 1, 6, 24, 63, 1, 74, 2, 42, 89, 16, \n  . 7, 10, 86, 1, 74, 63, 24, 17, 8, 5, 41, 86, 12, 3, 4, 27, 8, \n  . 8, 7, 1, 6, 1, 0, 0, 0, 0, 0, 0, 0, 2, 0, 0, 1, 0, 2, 1, 9, 0, \n  . 0, 0, 0, 0, 0, 1, 0, 0, 0, 0, 0, 0, 1, 0, 0, 0, 1, 0, 1, 0, 0, \n  . 2, 0, 2, 0, 0, 0, 0, 0, 9, 6, 1, 9, 0, 2, 0, 1, 17, 2, 0, 37, \n  . 13, 6, 13, 10, 44, 6, 12, 18, 1, 12, 53, 3, 8, 46, 4, 1, 0, 2, \n  . 1, 3, 0, 0, 8, 7, 24, 2, 1, 11, 6, 0, 1, 0, 24, 0, 0, 91, 5, \n  . 5, 0, 4, 30, 15, 30, 75, 35, 3, 23, 8, 4, 0, 3, 19, 82, 25, 24, \n  . 2, 12, 0, 24, 20, 5, 22, 10, 22, 60, 22, 6, 0, 1, 0, 4, 0, 0, \n  . 1, 1, 0, 2, 4, 11, 5, 59, 17, 4, 1, 83, 15, 4, 7, 4, 2, 0, 8, \n  . 6, 0, 0, 3, 5, 8, 3, 10, 1, 12, 18, 6, 25, 7, 3, 4, 6, 6, 0, \n  . 0, 0, 0, 1, 0, 0, 0, 1, 0, 0, 0, 0, 0, 0, 0, 0, 2, 0, 1, 0, 0, \n  . 1, 0, 0, 0, 0, 1, 0, 0, 0, 1, 0, 1, 0, 0, 0, 0, 0, 0, 0, 0, 0, \n  . 3, 0, 0, 1, 2, 0, 0, 0, 4, 2, 0, 0, 10, 0, 4, 15, 3, 0, 2, 0, \n  . 11, 1, 18, 0, 0, 0, 0, 0, 0, 0, 0, 11, 0, 8, 0, 1, 4, 0, 2, 0, \n  . 0, 0, 0, 0, 0, 0, 0, 0, 0, 0, 1, 0, 0, 0, 0, 0, 0, 0, 0, 0, 0, \n  . 0, 0, 0, 2, 0, 2, 0, 0, 0, 0, 0, 0, 0, 2, 0, 0, 0, 0, 0, 0, 0, \n  . 0, 0, 0, 0, 0, 0, 1, 0, 1, 1, 1, 0, 1, 8, 0, 0, 7, 1, 5, 4, 1, \n  . 1, 1, 0, 3, 0, 0, 1, 2, 7, 0, 1, 2, 0, 1, 0, 0, 0, 0, 3, 1, 1, \n  . 0, 0, 1, 0, 1, 8, 2, 24, 4, 2, 19, 2, 0, 6, 4, 2, 63, 63, 32, \n  . 1, 9, 21, 10, 16, 4, 0, 60, 20, 8, 13, 74, 17, 57, 54, 2, 22, \n  . 2, 1, 0, 10, 52, 4, 0, 0, 0, 0, 0, 0, 0, 0, 0, 8, 3, 2, 0, 1, \n  . 7, 1, 7, 8, 1, 0, 15, 0, 4, 2, 87, 0, 0, 11, 34, 7, 1, 53, 0, \n  . 0, 1, 45, 9, 3, 23, 2, 0, 3, 2, 0, 0, 0, 0, 0, 0, 0, 0, 0, 1, \n  . 0, 0, 0, 0, 0, 0, 2, 0, 0, 0, 0, 1, 0, 1, 0, 1, 0, 1, 0, 1, 1, \n  . 0, 0, 0, 0, 0, 0, 2, 0, 0, 0, 0, 0, 0, 1, 4, 0, 0, 0, 0, 3, 6, \n  . 0, 0, 9, 3, 0, 0, 0, 2, 7, 30, 0, 5, 24, 1, 5, 0, 5, 1, 2, 2, \n  . 8, 0, 3, 0, 0, 6, 2, 1, 7, 1, 0, 6, 3, 0, 0, 3, 1, 9, 2, 0, 3, \n  . 9, 0, 2, 7, 9, 1, 13, 5, 3, 24, 50, 0, 23, 0, 12, 13, 11, 0, \n  . 2, 49, 16, 3, 2, 24, 11, 2, 4, 9, 44, 1, 3, 11, 3, 7, 1, 0, 2, \n  . 0, 0, 1, 4, 0, 18, 7, 0, 5, 4, 8, 0, 4, 3, 1, 3, 2, 0, 5, 9, \n  . 5, 13, 26, 3, 9, 19, 1, 16, 0, 0, 1, 0, 0, 1, 29, 0, 14, 3, 2, \n  . 5, 6, 29, 15, 53, 30, 1, 38, 3, 85, 25, 8, 31, 77, 4, 65, 27, \n  . 62, 85, 86, 94, 73, 34, 99, 55, 91, 91, 74, 95, 53, 20, 50, 34, \n  . 65, 20, 76, 7, 95, 92, 25, 45, 0, 0, 0, 1, 1, 25, 0, 1, 14, 6, \n  . 0, 4, 8, 4, 9, 2, 31, 30, 40, 5, 4, 5, 55, 5, 10, 13, 20, 2, \n  . 77, 0, 1, 12, 52, 9, 5, 15, 3, 4, 28, 8, 0, 2, 0, 0, 2, 0, 1, \n  . 0, 0, 17, 2, 13, 2, 1, 4, 11, 76, 1, 0, 16, 9, 1, 0, 2, 3, 4, \n  . 28, 1, 2, 6, 4, 3, 9, 0, 1, 0, 7, 1, 0, 6, 2, 1, 6, 1, 0, 0, \n  . 0, 0, 0, 13, 0, 4, 0, 0, 4, 2, 5, 6, 1, 0, 66, 3, 5, 6, 1, 2, \n  . 2, 8, 0, 6, 31, 26, 4, 1, 0, 4, 1, 5, 4, 7, 7, 11, 52, 0, 2, \n  . 3, 0, 0, 0, 1, 0, 0, 1, 0, 6, 0, 0, 2, 0, 20, 1, 0, 2, 1, 1, \n  . 8, 2, 6, 1, 0, 2, 10, 3, 7, 0, 33, 7, 1, 3, 6, 0, 10, 5, 9, 15, \n  . 2, 1, 0, 0, 0, 2, 0, 0, 0, 2, 0, 0, 0, 0, 2, 0, 3, 0, 3, 6, 2, \n  . 0, 0, 0, 0, 0, 6, 2, 1, 0, 1, 2, 0, 1, 0, 0, 0, 7, 0, 0, 0, 0, \n  . 0, 0, 0, 0, 1, 0, 0, 0, 0, 0, 1, 0, 0, 2, 1, 0, 7, 2, 0, 12, \n  . 0, 0, 0, 0, 0, 1, 0, 0, 0, 0, 0, 0, 0, 0, 1, 0, 0, 0, 1, 8, 0, \n  . 1, 1, 1, 0, 0, 0, 0, 0, 0, 0, 0, 0, 0, 0, 0, 0, 0, 0, 0, 1, 0, \n  . 0, 0, 0, 0, 0, 1, 0, 0, 0, 0, 0, 0, 0, 0, 0, 0, 0, 0, 0, 0, 0, \n  . 1, 0, 0, 0, 0, 0, 1, 3, 0, 0, 2, 0, 1, 0, 0, 1, 1, 1, 1, 0, 1, \n  . 0, 21, 11, 1, 1, 13, 1, 0, 0, 1, 1, 17, 2, 1, 11, 0, 1, 1, 3, \n  . 19, 15, 1, 1, 0, 0, 1, 0, 0, 2, 10, 1, 1, 0, 1, 0, 9, 2, 1, 0, \n  . 4, 1, 3, 5, 1, 6, 0, 2, 0, 0, 16, 4, 4, 0, 1, 0, 4, 4, 7, 0, \n  . 2, 6, 14, 0, 0, 0, 1, 14, 0, 0, 0, 1, 0, 1, 0, 0, 0, 0, 0, 1, \n  . 0, 0, 0, 0, 2, 0, 0, 0, 0, 1, 0, 0, 0, 2, 0, 0, 0, 0, 1, 0, 0, \n  . 0, 0, 0, 0, 0, 0, 0, 0, 0, 3, 8, 0, 0, 4, 14, 1, 15, 6, 4, 2, \n  . 27, 38, 52, 0, 21, 5, 0, 17, 8, 26, 73, 39, 5, 8, 49, 41, 0, \n  . 32, 5, 2, 2, 9, 25, 36, 8, 6, 5, 22, 1, 2, 16, 9, 7, 1, 2, 2, \n  . 2, 11, 50, 0, 35, 13, 2, 47, 34, 22, 2, 4, 1, 87, 23, 10, 0, \n  . 11, 3, 2, 93, 55, 3, 68, 65, 47, 37, 19, 50, 2, 8, 2, 18, 15, \n  . 20, 18, 55, 0, 4, 2, 0, 3, 2, 2, 0, 4, 3, 0, 14, 12, 9, 0, 1, \n  . 19, 0, 10, 8, 23, 0, 4, 8, 35, 2, 6, 0, 9, 6, 12, 4, 38, 2, 4, \n  . 3, 6, 2, 2, 4, 0, 1, 0, 0, 1, 0, 0, 1, 0, 0, 0, 2, 0, 0, 3, 0, \n  . 3, 1, 52, 1, 25, 0, 0, 0, 0, 18, 18, 19, 0, 2, 17, 15, 6, 2, \n  . 1, 2, 2, 1, 20, 1, 2, 5, 3, 2, 0, 0, 0, 0, 0, 0, 0, 0, 0, 0, \n  . 0, 0, 0, 0, 0, 0, 0, 0, 0, 1, 0, 0, 0, 0, 0, 0, 0, 1, 0, 0, 0, \n  . 0, 0, 0, 0, 0, 0, 0, 0, 0, 0, 0, 0, 1, 2, 0, 0, 2, 2, 2, 13, \n  . 2, 10, 2, 3, 0, 58, 2, 1, 8, 3, 6, 0, 1, 21, 1, 0, 3, 0, 6, 4, \n  . 2, 0, 0, 28, 0, 2, 0, 0, 2, 0, 0, 0, 0, 0, 2, 0, 0, 0, 0, 1, \n  . 0, 1, 1, 0, 0, 0, 0, 0, 0, 9, 0, 3, 6, 1, 0, 0, 1, 0, 0, 0, 1, \n  . 0, 0, 0, 0, 2, 2, 0, 0, 0, 0, 0, 0, 0, 0, 0, 1, 1, 0, 0, 2, 0, \n  . 0, 2, 0, 0, 0, 0, 4, 0, 0, 0, 0, 3, 0, 0, 1, 3, 0, 0, 1, 0, 0, \n  . 0, 0, 0, 0, 0, 0, 1, 0, 0, 0, 1, 0, 0, 0, 0, 0, 0, 0, 0, 1, 0, \n  . 0, 0, 1, 4, 0, 1, 0, 0, 0, 0, 0, 1, 1, 0, 0, 0, 0, 0, 0, 0, 0, \n  . 3, 1, 0, 0, 0, 2, 4, 4, 15, 0, 3, 9, 14, 6, 52, 34, 26, 4, 97, \n  . 51, 59, 0, 14, 42, 31, 31, 42, 12, 15, 1, 53, 0, 12, 42, 9, 65, \n  . 34, 3, 10, 6, 8, 2, 1, 0, 0, 1, 0, 1, 0, 0, 1, 0, 0, 5, 0, 0, \n  . 8, 26, 0, 7, 10, 2, 1, 0, 1, 0, 0, 1, 8, 0, 21, 1, 4, 4, 0, 0, \n  . 1, 11, 2, 2, 0, 2, 0, 0, 0, 0, 0, 0, 0, 0, 0, 0, 0, 1, 0, 0, \n  . 1, 0, 0, 0, 1, 0, 0, 0, 0, 4, 0, 0, 0, 0, 0, 0, 0, 0, 1, 0, 0, \n  . 0, 2, 0, 0, 0, 1, 14, 2, 1, 6, 3, 0, 11, 3, 5, 1, 5, 1, 0, 0, \n  . 2, 14, 6, 12, 4, 6, 7, 3, 2, 25, 52, 59, 9, 2, 6, 3, 1, 2, 0, \n  . 4, 8, 1, 0, 2, 0, 1, 2, 0, 0, 0, 0, 0, 1, 0, 0, 0, 3, 0, 2, 2, \n  . 0, 0, 0, 0, 11, 0, 0, 3, 0, 0, 2, 0, 0, 1, 0, 0, 1, 0, 0, 0, \n  . 0, 0, 1, 0, 0, 0, 0, 0, 0, 1, 0, 0, 0, 0, 1, 0, 3, 0, 0, 0, 0, \n  . 0, 0, 0, 0, 1, 0, 0, 0, 0, 0, 0, 0, 0, 0, 0, 0, 0, 0, 0, 0, 0, \n  . 2, 0, 1, 1, 0, 0, 1, 0, 0, 3, 4, 0, 7, 5, 0, 0, 0, 0, 1, 2, 1, \n  . 0, 0, 1, 0, 10, 0, 1, 1, 0, 0, 0, 0, 2, 0, 0, 1, 1, 0, 0, 0, \n  . 0, 0, 0, 1, 0, 0, 0, 0, 0, 1, 0, 0, 0, 0, 0, 0, 0, 4, 0, 0, 0, \n  . 0, 0, 0, 0, 0, 1, 0, 0, 0, 0, 0, 0, 0, 0, 0, 1, 0, 0, 0, 0, 0, \n  . 0, 0, 0, 0, 0, 0, 1, 0, 0, 1, 0, 0, 0, 0, 0, 2, 4, 0, 0, 0, 0, \n  . 0, 0, 0, 0, 0, 0, 0, 0, 0, 0, 0, 0, 0, 0, 0, 0, 0, 0, 0, 0, 0, \n  . 0, 0, 1, 0, 0, 0, 0, 0, 0, 4, 0, 0, 0, 1, 0, 1, 0, 0, 0, 0, 2, \n  . 0, 0, 0, 0, 0, 0, 0, 0, 1, 0, 0, 0, 2, 0, 5, 0, 2, 1, 1, 0, 0, \n  . 0, 0, 4, 0, 0, 0, 4, 3, 0, 2, 0, 0, 0, 0, 0, 0, 1, 1, 0, 1, 0, \n  . 0, 1, 3, 1, 2, 0, 6, 0, 2, 2, 5, 15, 23, 8, 5, 11, 12, 14, 49, \n  . 28, 18, 6, 18, 21, 58, 2, 3, 45, 51, 8, 20, 78, 5, 87, 29, 56, \n  . 7, 3, 24, 28, 9, 3, 38, 0, 6, 0, 0, 44, 5, 0, 2, 0, 8, 7, 1, \n  . 11, 3, 16, 15, 5, 4, 7, 1, 26, 44, 9, 17, 2, 9, 70, 19, 44, 13, \n  . 2, 0, 0, 3, 3, 26, 1, 0, 0, 12, 0, 0, 0, 0, 0, 0, 0, 0, 0, 1, \n  . 2, 2, 1, 0, 1, 25, 0, 1, 0, 1, 4, 0, 0, 12, 0, 0, 0, 0, 1, 0, \n  . 0, 0, 0, 4, 0, 7, 9, 3, 7, 61, 26, 0, 10, 75, 21, 7, 58, 8, 9, \n  . 46, 72, 7, 19, 17, 47, 62, 70, 7, 38, 4, 4, 1, 2, 21, 22, 7, \n  . 0, 0, 0, 0, 0, 0, 0, 0, 1, 1, 1, 6, 1, 29, 1, 0, 0, 22, 7, 0, \n  . 4, 1, 1, 1, 3, 0, 0, 1, 0, 9, 0, 0, 0, 0, 0, 0, 0, 0, 0, 0, 0, \n  . 2, 0, 0, 0, 7, 9, 15, 7, 0, 0, 1, 0, 0, 0, 9, 8, 2, 2, 1, 1, \n  . 0, 0, 0, 0, 1, 1, 30, 45, 23, 0, 0, 7, 10, 23, 1, 7, 18, 1, 20, \n  . 75, 1, 61, 46, 53, 69, 24, 21, 3, 33, 64, 14, 45, 55, 1, 16, \n  . 5, 6, 5, 0, 9, 3, 7, 0, 1, 2, 1, 5, 26, 11, 3, 3, 4, 4, 6, 13, \n  . 85, 10, 22, 3, 9, 11, 13, 11, 65, 0, 15, 9, 2, 5, 1, 1, 0, 1, \n  . 0, 1, 1, 17, 1, 22, 3, 11, 1, 2, 1, 2, 2, 3, 0, 13, 2, 6, 1, \n  . 2, 3, 0, 0, 0, 2, 1, 0, 0, 0, 0, 1, 0, 67, 27, 3, 8, 25, 1, 8, \n  . 21, 71, 93, 84, 86, 22, 85, 30, 92, 50, 59, 54, 68, 53, 23, 21, \n  . 96, 8, 56, 42, 64, 2, 6, 19, 3, 0, 7, 2, 2, 4, 42, 34, 1, 49, \n  . 19, 24, 3, 2, 36, 2, 4, 10, 0, 25, 53, 11, 0, 3, 7, 32, 35, 13, \n  . 1, 8, 16, 25, 38, 1, 0, 1, 0, 0, 0, 0, 1, 0, 8, 9, 6, 5, 0, 3, \n  . 1, 0, 3, 8, 0, 1, 1, 3, 1, 6, 0, 11, 0, 10, 0, 4, 2, 1, 6, 2, \n  . 1, 1, 0, 36, 0, 1, 3, 4, 29, 0, 2, 0, 2, 9, 14, 91, 6, 4, 0, \n  . 11, 22, 1, 8, 7, 4, 13, 0, 42, 8, 3, 8, 0, 0, 0, 0, 0, 0, 0, \n  . 0, 0, 1, 0, 0, 0, 0, 0, 0, 0, 0, 0, 0, 1, 0, 0, 0, 0, 0, 0, 0, \n  . 0, 0, 0, 0, 0, 0, 0, 0, 0, 0, 0, 0, 0, 0, 0, 0, 1, 0, 2, 0, 11, \n  . 18, 3, 4, 10, 0, 7, 2, 1, 1, 0, 23, 0, 8, 1, 7, 4, 81, 7, 24, \n  . 11, 32, 31, 7, 1, 20, 1, 40, 0, 1, 1, 2, 60, 13, 40, 0, 24, 1, \n  . 5, 0, 3, 1, 2, 15, 8, 3, 10, 0, 0, 26, 42, 17, 5, 42, 10, 14, \n  . 9, 22, 2, 5, 6, 3, 31, 18, 6, 19, 16, 0, 11, 1, 17, 0, 10, 20, \n  . 13, 0, 4, 0, 6, 11, 3, 14, 0, 1, 0, 2, 0, 0, 1, 8, 3, 19, 8, \n  . 16, 0, 0, 1, 0, 11, 6, 3, 13, 1, 1, 35, 3, 3, 5, 8, 45, 33, 20, \n  . 5, 4, 37, 13, 15, 2, 23, 2, 10, 7, 29, 37, 29, 0, 2, 2, 0, 1, \n  . 0, 2, 0, 2, 19, 5, 16, 4, 18, 1, 3, 7, 15, 7, 2, 50, 23, 7, 10, \n  . 22, 0, 34, 64, 5, 12, 0, 6, 17, 0, 4, 1, 2, 1, 8, 16, 37, 13, \n  . 1, 0, 14, 0, 0, 47, 2, 0, 6, 3, 0, 2, 0, 4, 41, 71, 3, 5, 14, \n  . 2, 11, 3, 1, 12, 11, 48, 11, 24, 1, 20, 43, 11, 5, 6, 15, 25, \n  . 32, 12, 3, 62, 30, 1, 3, 1, 0, 1, 2, 0, 5, 16, 4, 11, 3, 9, 45, \n  . 0, 0, 61, 0, 1, 1, 6, 1, 0, 6, 10, 1, 15, 2, 15, 15, 10, 17, \n  . 1, 2, 3, 1, 4, 9, 5, 2, 9, 3, 31, 0, 3, 3, 0, 0, 0, 0, 0, 0, \n  . 0, 0, 0, 3, 0, 1, 0, 0, 1, 0, 1, 1, 3, 0, 0, 0, 2, 2, 0, 0, 2, \n  . 2, 11, 1, 1, 0, 0, 14, 0, 1, 1, 0, 1, 0, 0, 1, 0, 0, 9, 3, 32, \n  . 2, 35, 20, 10, 1, 22, 4, 8, 5, 66, 1, 8, 2, 42, 44, 91, 12, 90, \n  . 47, 42, 64, 3, 27, 19, 95, 10, 28, 55, 0, 43, 0, 29, 1, 8, 17, \n  . 6, 1, 80, 17, 1, 0, 0, 12, 0, 0, 7, 0, 0, 5, 0, 2, 2, 0, 0, 14, \n  . 5, 19, 2, 11, 7, 1, 20, 15, 8, 2, 63, 0, 1, 35, 3, 0, 1, 4, 15, \n  . 9, 0, 0, 23, 1, 2, 0, 4, 0, 0, 0, 2, 1, 0, 0, 0, 0, 3, 2, 0, \n  . 12, 15, 11, 4, 0, 7, 0, 7, 21, 8, 0, 2, 0, 2, 1, 16, 0, 1, 0, \n  . 1, 6, 3, 3, 4, 1, 2, 0, 0, 5, 0, 0, 0, 0, 0, 1, 0, 0, 1, 0, 0, \n  . 1, 1, 2, 0, 2, 0, 1, 1, 0, 0, 1, 0, 0, 0, 0, 0, 0, 5, 5, 1, 3, \n  . 0, 0, 0, 0, 0, 1, 0, 0, 1, 0, 0, 1, 1, 0, 0, 16, 0, 2, 5, 1, \n  . 0, 0, 5, 0, 1, 0, 2, 15, 0, 0, 2, 0, 1, 0, 34, 0, 9, 1, 3, 9, \n  . 2, 7, 10, 2, 1, 0, 0, 0, 2, 4, 0, 0, 0, 1, 1, 0, 34, 3, 0, 5, \n  . 0, 1, 12, 3, 4, 0, 27, 3, 36, 16, 8, 2, 11, 2, 0, 23, 44, 16, \n  . 18, 18, 0, 2, 4, 12, 20, 47, 57, 10, 17, 9, 8, 22, 13, 0, 11, \n  . 11, 0, 5, 0, 1, 0, 1, 2, 0, 0, 1, 0, 0, 1, 0, 1, 13, 0, 0, 3, \n  . 0, 0, 2, 1, 0, 7, 19, 0, 6, 2, 4, 0, 3, 2, 12, 15, 0, 0, 0, 0, \n  . 1, 2, 2, 3, 7, 0, 13, 0, 0, 2, 5, 13, 5, 0, 14, 0, 13, 11, 3, \n  . 1, 1, 22, 12, 2, 14, 43, 3, 1, 25, 6, 1, 3, 9, 6, 6, 2, 16, 2, \n  . 1, 58, 24, 1, 1, 0, 16, 4, 4, 6, 3, 4, 0, 2, 4, 9, 3, 8, 8, 15, \n  . 1, 1, 12, 5, 1, 24, 1, 24, 20, 33, 0, 2, 45, 6, 73, 9, 1, 30, \n  . 4, 78, 75, 62, 17, 3, 11, 3, 2, 4, 6, 29, 14, 3, 8, 12, 0, 0, \n  . 0, 1, 2, 0, 12, 2, 4, 0, 4, 0, 1, 2, 0, 54, 8, 0, 4, 38, 2, 0, \n  . 7, 25, 0, 8, 61, 9, 19, 3, 1, 0, 1, 0, 1, 2, 3, 1, 1, 3, 11, \n  . 47, 3, 0, 0, 6, 1, 7, 10, 49, 4, 3, 0, 9, 13, 43, 11, 2, 2, 1, \n  . 41, 2, 7, 1, 48, 65, 32, 2, 7, 16, 8, 2, 5, 50, 1, 28, 9, 10, \n  . 21, 9, 51, 0, 3, 11, 2, 3, 0, 0, 0, 0, 0, 0, 0, 0, 0, 0, 0, 0, \n  . 0, 0, 0, 0, 0, 0, 1, 0, 0, 3, 0, 0, 3, 1, 0, 0, 6, 2, 2, 0, 0, \n  . 0, 0, 1, 0, 0, 0, 0, 0, 0, 0, 100, 100, 100, 100, 99, 99, 100, \n  . 100, 99, 100, 100, 100, 99, 97, 93, 99, 99, 100, 99, 39, 96, \n  . 99, 100, 96, 100, 99, 98, 99, 99, 98, 90, 100, 97, 98, 100, 98, \n  . 100, 100, 100, 100, 87, 100, 99, 99, 100, 99, 98, 99, 100, 99, \n  . 99, 94, 98, 99, 94, 76, 37, 99, 26, 98, 58, 11, 84, 93, 90, 14, \n  . 99, 26, 37, 76, 83, 92, 95, 59, 14, 88, 97, 96, 73, 92, 92, 93, \n  . 99, 94, 99, 100, 100, 100, 100, 100, 100, 100, 98, 100, 100, \n  . 99, 100, 98, 99, 91, 100, 100, 100, 100, 100, 100, 99, 100, 100, \n  . 100, 100, 100, 100, 99, 100, 100, 100, 99, 100, 99, 100, 100, \n  . 98, 100, 98, 100, 100, 100, 100, 100, 91, 94, 99, 91, 100, 98, \n  . 100, 99, 83, 98, 100, 63, 87, 94, 87, 90, 56, 94, 88, 82, 99, \n  . 88, 47, 97, 92, 54, 96, 99, 100, 98, 99, 97, 100, 100, 92, 93, \n  . 76, 98, 99, 89, 94, 100, 99, 100, 76, 100, 100, 9, 95, 95, 100, \n  . 96, 70, 85, 70, 25, 65, 97, 77, 92, 96, 100, 97, 81, 18, 75, \n  . 76, 98, 88, 100, 76, 80, 95, 78, 90, 78, 40, 78, 94, 100, 99, \n  . 100, 96, 100, 100, 99, 99, 100, 98, 96, 89, 95, 41, 83, 96, 99, \n  . 17, 85, 96, 93, 96, 98, 100, 92, 94, 100, 100, 97, 95, 92, 97, \n  . 90, 99, 88, 82, 94, 75, 93, 97, 96, 94, 94, 100, 100, 100, 100, \n  . 99, 100, 100, 100, 99, 100, 100, 100, 100, 100, 100, 100, 100, \n  . 98, 100, 99, 100, 100, 99, 100, 100, 100, 100, 99, 100, 100, \n  . 100, 99, 100, 99, 100, 100, 100, 100, 100, 100, 100, 100, 100, \n  . 97, 100, 100, 99, 98, 100, 100, 100, 96, 98, 100, 100, 90, 100, \n  . 96, 85, 97, 100, 98, 100, 89, 99, 82, 100, 100, 100, 100, 100, \n  . 100, 100, 100, 89, 100, 92, 100, 99, 96, 100, 98, 100, 100, 100, \n  . 100, 100, 100, 100, 100, 100, 100, 100, 99, 100, 100, 100, 100, \n  . 100, 100, 100, 100, 100, 100, 100, 100, 100, 98, 100, 98, 100, \n  . 100, 100, 100, 100, 100, 100, 98, 100, 100, 100, 100, 100, 100, \n  . 100, 100, 100, 100, 100, 100, 100, 99, 100, 99, 99, 99, 100, \n  . 99, 92, 100, 100, 93, 99, 95, 96, 99, 99, 99, 100, 97, 100, 100, \n  . 99, 98, 93, 100, 99, 98, 100, 99, 100, 100, 100, 100, 97, 99, \n  . 99, 100, 100, 99, 100, 99, 92, 98, 76, 96, 98, 81, 98, 100, 94, \n  . 96, 98, 37, 37, 68, 99, 91, 79, 90, 84, 96, 100, 40, 80, 92, \n  . 87, 26, 83, 43, 46, 98, 78, 98, 99, 100, 90, 48, 96, 100, 100, \n  . 100, 100, 100, 100, 100, 100, 100, 92, 97, 98, 100, 99, 93, 99, \n  . 93, 92, 99, 100, 85, 100, 96, 98, 13, 100, 100, 89, 66, 93, 99, \n  . 47, 100, 100, 99, 55, 91, 97, 77, 98, 100, 97, 98, 100, 100, \n  . 100, 100, 100, 100, 100, 100, 100, 99, 100, 100, 100, 100, 100, \n  . 100, 98, 100, 100, 100, 100, 99, 100, 99, 100, 99, 100, 99, 100, \n  . 99, 99, 100, 100, 100, 100, 100, 100, 98, 100, 100, 100, 100, \n  . 100, 100, 99, 96, 100, 100, 100, 100, 97, 94, 100, 100, 91, 97, \n  . 100, 100, 100, 98, 93, 70, 100, 95, 76, 99, 95, 100, 95, 99, \n  . 98, 98, 92, 100, 97, 100, 100, 94, 98, 99, 93, 99, 100, 94, 97, \n  . 100, 100, 97, 99, 91, 98, 100, 97, 91, 100, 98, 93, 91, 99, 87, \n  . 95, 97, 76, 50, 100, 77, 100, 88, 87, 89, 100, 98, 51, 84, 97, \n  . 98, 76, 89, 98, 96, 91, 56, 99, 97, 89, 97, 93, 99, 100, 98, \n  . 100, 100, 99, 96, 100, 82, 93, 100, 95, 96, 92, 100, 96, 97, \n  . 99, 97, 98, 100, 95, 91, 95, 87, 74, 97, 91, 81, 99, 84, 100, \n  . 100, 99, 100, 100, 99, 71, 100, 86, 97, 98, 95, 94, 71, 85, 47, \n  . 70, 99, 62, 97, 15, 75, 92, 69, 23, 96, 35, 73, 38, 15, 14, 6, \n  . 27, 66, 1, 45, 9, 9, 26, 5, 47, 80, 50, 66, 35, 80, 24, 93, 5, \n  . 8, 75, 55, 100, 100, 100, 99, 99, 75, 100, 99, 86, 94, 100, 96, \n  . 92, 96, 91, 98, 69, 70, 60, 95, 96, 95, 45, 95, 90, 87, 80, 98, \n  . 23, 100, 99, 88, 48, 91, 95, 85, 97, 96, 72, 92, 100, 98, 100, \n  . 100, 98, 100, 99, 100, 100, 83, 98, 87, 98, 99, 96, 89, 24, 99, \n  . 100, 84, 91, 99, 100, 98, 97, 96, 72, 99, 98, 94, 96, 97, 91, \n  . 100, 99, 100, 93, 99, 100, 94, 98, 99, 94, 99, 100, 100, 100, \n  . 100, 100, 87, 100, 96, 100, 100, 96, 98, 95, 94, 99, 100, 34, \n  . 97, 95, 94, 99, 98, 98, 92, 100, 94, 69, 74, 96, 99, 100, 96, \n  . 99, 95, 96, 93, 93, 89, 48, 100, 98, 97, 100, 100, 100, 99, 100, \n  . 100, 99, 100, 94, 100, 100, 98, 100, 80, 99, 100, 98, 99, 99, \n  . 92, 98, 94, 99, 100, 98, 90, 97, 93, 100, 67, 93, 99, 97, 94, \n  . 100, 90, 95, 91, 85, 98, 99, 100, 100, 100, 98, 100, 100, 100, \n  . 98, 100, 100, 100, 100, 98, 100, 97, 100, 97, 94, 98, 100, 100, \n  . 100, 100, 100, 94, 98, 99, 100, 99, 98, 100, 99, 100, 100, 100, \n  . 93, 100, 100, 100, 100, 100, 100, 100, 100, 99, 100, 100, 100, \n  . 100, 100, 99, 100, 100, 98, 99, 100, 93, 98, 100, 88, 100, 100, \n  . 100, 100, 100, 99, 100, 100, 100, 100, 100, 100, 100, 100, 99, \n  . 100, 100, 100, 99, 92, 100, 99, 99, 99, 100, 100, 100, 100, 100, \n  . 100, 100, 100, 100, 100, 100, 100, 100, 100, 100, 100, 99, 100, \n  . 100, 100, 100, 100, 100, 99, 100, 100, 100, 100, 100, 100, 100, \n  . 100, 100, 100, 100, 100, 100, 100, 100, 99, 100, 100, 100, 100, \n  . 100, 99, 97, 100, 100, 98, 100, 99, 100, 100, 99, 99, 99, 99, \n  . 100, 99, 100, 79, 89, 99, 99, 87, 99, 100, 100, 99, 99, 83, 98, \n  . 99, 89, 100, 99, 99, 97, 81, 85, 99, 99, 100, 100, 99, 100, 100, \n  . 98, 90, 99, 99, 100, 99, 100, 91, 98, 99, 100, 96, 99, 97, 95, \n  . 99, 94, 100, 98, 100, 100, 84, 96, 96, 100, 99, 100, 96, 96, \n  . 93, 100, 98, 94, 86, 100, 100, 100, 99, 86, 100, 100, 100, 99, \n  . 100, 99, 100, 100, 100, 100, 100, 99, 100, 100, 100, 100, 98, \n  . 100, 100, 100, 100, 99, 100, 100, 100, 98, 100, 100, 100, 100, \n  . 99, 100, 100, 100, 100, 100, 100, 100, 100, 100, 100, 100, 97, \n  . 92, 100, 100, 96, 86, 99, 85, 94, 96, 98, 73, 62, 48, 100, 79, \n  . 95, 100, 83, 92, 74, 27, 61, 95, 92, 51, 59, 100, 68, 95, 98, \n  . 98, 91, 75, 64, 92, 94, 95, 78, 99, 98, 84, 91, 93, 99, 98, 98, \n  . 98, 89, 50, 100, 65, 87, 98, 53, 66, 78, 98, 96, 99, 13, 77, \n  . 90, 100, 89, 97, 98, 7, 45, 97, 32, 35, 53, 63, 81, 50, 98, 92, \n  . 98, 82, 85, 80, 82, 45, 100, 96, 98, 100, 97, 98, 98, 100, 96, \n  . 97, 100, 86, 88, 91, 100, 99, 81, 100, 90, 92, 77, 100, 96, 92, \n  . 65, 98, 94, 100, 91, 94, 88, 96, 62, 98, 96, 97, 94, 98, 98, \n  . 96, 100, 99, 100, 100, 99, 100, 100, 99, 100, 100, 100, 98, 100, \n  . 100, 97, 100, 97, 99, 48, 99, 75, 100, 100, 100, 100, 82, 82, \n  . 81, 100, 98, 83, 85, 94, 98, 99, 98, 98, 99, 80, 99, 98, 95, \n  . 97, 98, 100, 100, 100, 100, 100, 100, 100, 100, 100, 100, 100, \n  . 100, 100, 100, 100, 100, 100, 100, 100, 99, 100, 100, 100, 100, \n  . 100, 100, 100, 99, 100, 100, 100, 100, 100, 100, 100, 100, 100, \n  . 100, 100, 100, 100, 100, 100, 99, 98, 100, 100, 98, 98, 98, 87, \n  . 98, 90, 98, 97, 100, 42, 98, 99, 92, 97, 94, 100, 99, 79, 99, \n  . 100, 97, 100, 94, 96, 98, 100, 100, 72, 100, 98, 100, 100, 98, \n  . 100, 100, 100, 100, 100, 98, 100, 100, 100, 100, 99, 100, 99, \n  . 99, 100, 100, 100, 100, 100, 100, 91, 100, 97, 94, 99, 100, 100, \n  . 99, 100, 100, 100, 99, 100, 100, 100, 100, 98, 98, 100, 100, \n  . 100, 100, 100, 100, 100, 100, 100, 99, 99, 100, 100, 98, 100, \n  . 100, 98, 100, 100, 100, 100, 96, 100, 100, 100, 100, 97, 100, \n  . 100, 99, 97, 100, 100, 99, 100, 100, 100, 100, 100, 100, 100, \n  . 100, 99, 100, 100, 100, 99, 100, 100, 100, 100, 100, 100, 100, \n  . 100, 99, 100, 100, 100, 99, 96, 100, 99, 100, 100, 100, 100, \n  . 100, 99, 99, 100, 100, 100, 100, 100, 100, 100, 100, 97, 99, \n  . 100, 100, 100, 98, 96, 96, 85, 100, 97, 91, 86, 94, 48, 66, 74, \n  . 96, 3, 49, 41, 100, 86, 58, 69, 69, 58, 88, 85, 99, 47, 100, \n  . 88, 58, 91, 35, 66, 97, 90, 94, 92, 98, 99, 100, 100, 99, 100, \n  . 99, 100, 100, 99, 100, 100, 95, 100, 100, 92, 74, 100, 93, 90, \n  . 98, 99, 100, 99, 100, 100, 99, 92, 100, 79, 99, 96, 96, 100, \n  . 100, 99, 89, 98, 98, 100, 98, 100, 100, 100, 100, 100, 100, 100, \n  . 100, 100, 100, 100, 99, 100, 100, 99, 100, 100, 100, 99, 100, \n  . 100, 100, 100, 96, 100, 100, 100, 100, 100, 100, 100, 100, 99, \n  . 100, 100, 100, 98, 100, 100, 100, 99, 86, 98, 99, 94, 97, 100, \n  . 89, 97, 95, 99, 95, 99, 100, 100, 98, 86, 94, 88, 96, 94, 93, \n  . 97, 98, 75, 48, 41, 91, 98, 94, 97, 99, 98, 100, 96, 92, 99, \n  . 100, 98, 100, 99, 98, 100, 100, 100, 100, 100, 99, 100, 100, \n  . 100, 97, 100, 98, 98, 100, 100, 100, 100, 89, 100, 100, 97, 100, \n  . 100, 98, 100, 100, 99, 100, 100, 99, 100, 100, 100, 100, 100, \n  . 99, 100, 100, 100, 100, 100, 100, 99, 100, 100, 100, 100, 99, \n  . 100, 97, 100, 100, 100, 100, 100, 100, 100, 100, 99, 100, 100, \n  . 100, 100, 100, 100, 100, 100, 100, 100, 100, 100, 100, 100, 100, \n  . 100, 98, 100, 99, 99, 100, 100, 99, 100, 100, 97, 96, 100, 93, \n  . 95, 100, 100, 100, 100, 99, 98, 99, 100, 100, 99, 100, 90, 100, \n  . 99, 99, 100, 100, 100, 100, 98, 100, 100, 99, 99, 100, 100, 100, \n  . 100, 100, 100, 99, 100, 100, 100, 100, 100, 99, 100, 100, 100, \n  . 100, 100, 100, 100, 96, 100, 100, 100, 100, 100, 100, 100, 100, \n  . 99, 100, 100, 100, 100, 100, 100, 100, 100, 100, 99, 100, 100, \n  . 100, 100, 100, 100, 100, 100, 100, 100, 100, 99, 100, 100, 99, \n  . 100, 100, 100, 100, 100, 98, 96, 100, 100, 100, 100, 100, 100, \n  . 100, 100, 100, 100, 100, 100, 100, 100, 100, 100, 100, 100, 100, \n  . 100, 100, 100, 100, 100, 100, 100, 100, 99, 100, 100, 100, 100, \n  . 100, 100, 96, 100, 100, 100, 99, 100, 99, 100, 100, 100, 100, \n  . 98, 100, 100, 100, 100, 100, 100, 100, 100, 99, 100, 100, 100, \n  . 98, 100, 95, 100, 98, 99, 99, 100, 100, 100, 100, 96, 100, 100, \n  . 100, 96, 97, 100, 98, 100, 100, 100, 100, 100, 100, 99, 99, 100, \n  . 99, 100, 100, 99, 97, 99, 98, 100, 94, 100, 98, 98, 95, 85, 77, \n  . 92, 95, 89, 88, 86, 51, 72, 82, 94, 82, 79, 42, 98, 97, 55, 49, \n  . 92, 80, 22, 95, 13, 71, 44, 93, 97, 76, 72, 91, 97, 62, 100, \n  . 94, 100, 100, 56, 95, 100, 98, 100, 92, 93, 99, 89, 97, 84, 85, \n  . 95, 96, 93, 99, 74, 56, 91, 83, 98, 91, 30, 81, 56, 87, 98, 100, \n  . 100, 97, 97, 74, 99, 100, 100, 88, 100, 100, 100, 100, 100, 100, \n  . 100, 100, 100, 99, 98, 98, 99, 100, 99, 75, 100, 99, 100, 99, \n  . 96, 100, 100, 88, 100, 100, 100, 100, 99, 100, 100, 100, 100, \n  . 96, 100, 93, 91, 97, 93, 39, 74, 100, 90, 25, 79, 93, 42, 92, \n  . 91, 54, 28, 93, 81, 83, 53, 38, 30, 93, 62, 96, 96, 99, 98, 79, \n  . 78, 93, 100, 100, 100, 100, 100, 100, 100, 100, 99, 99, 99, 94, \n  . 99, 71, 99, 100, 100, 78, 93, 100, 96, 99, 99, 99, 97, 100, 100, \n  . 99, 100, 91, 100, 100, 100, 100, 100, 100, 100, 100, 100, 100, \n  . 100, 98, 100, 100, 100, 93, 91, 85, 93, 100, 100, 99, 100, 100, \n  . 100, 91, 92, 98, 98, 99, 99, 100, 100, 100, 100, 99, 99, 70, \n  . 55, 77, 100, 100, 93, 90, 77, 99, 93, 82, 99, 80, 25, 99, 39, \n  . 54, 47, 31, 76, 79, 97, 67, 36, 86, 55, 45, 99, 84, 95, 94, 95, \n  . 100, 91, 97, 93, 100, 99, 98, 99, 95, 74, 89, 97, 97, 96, 96, \n  . 94, 87, 15, 90, 78, 97, 91, 89, 87, 89, 35, 100, 85, 91, 98, \n  . 95, 99, 99, 100, 99, 100, 99, 99, 83, 99, 78, 97, 89, 99, 98, \n  . 99, 98, 98, 97, 100, 87, 98, 94, 99, 98, 97, 100, 100, 100, 98, \n  . 99, 100, 100, 100, 100, 99, 100, 33, 73, 97, 92, 75, 99, 92, \n  . 79, 29, 7, 16, 14, 78, 15, 70, 8, 50, 41, 46, 32, 47, 77, 79, \n  . 4, 92, 44, 58, 36, 98, 94, 81, 97, 100, 93, 98, 98, 96, 58, 66, \n  . 99, 51, 81, 76, 97, 98, 64, 98, 96, 90, 100, 75, 47, 89, 100, \n  . 97, 93, 68, 65, 87, 99, 92, 84, 75, 62, 99, 100, 99, 100, 100, \n  . 100, 100, 99, 100, 92, 91, 94, 95, 100, 97, 99, 100, 97, 92, \n  . 100, 99, 99, 97, 99, 94, 100, 89, 100, 90, 100, 96, 98, 99, 94, \n  . 98, 99, 99, 100, 64, 100, 99, 97, 96, 71, 100, 98, 100, 98, 91, \n  . 86, 9, 94, 96, 100, 89, 78, 99, 92, 93, 96, 87, 100, 58, 92, \n  . 97, 92, 100, 100, 100, 100, 100, 100, 100, 100, 100, 99, 100, \n  . 100, 100, 100, 100, 100, 100, 100, 100, 100, 99, 100, 100, 100, \n  . 100, 100, 100, 100, 100, 100, 100, 100, 100, 100, 100, 100, 100, \n  . 100, 100, 100, 100, 100, 100, 100, 99, 100, 98, 100, 89, 82, \n  . 97, 96, 90, 100, 93, 98, 99, 99, 100, 77, 100, 92, 99, 93, 96, \n  . 19, 93, 76, 89, 68, 69, 93, 99, 80, 99, 60, 100, 99, 99, 98, \n  . 40, 87, 60, 100, 76, 99, 95, 100, 97, 99, 98, 85, 92, 97, 90, \n  . 100, 100, 74, 58, 83, 95, 58, 90, 86, 91, 78, 98, 95, 94, 97, \n  . 69, 82, 94, 81, 84, 100, 89, 99, 83, 100, 90, 80, 87, 100, 96, \n  . 100, 94, 89, 97, 86, 100, 99, 100, 98, 100, 100, 99, 92, 97, \n  . 81, 92, 84, 100, 100, 99, 100, 89, 94, 97, 87, 99, 99, 65, 97, \n  . 97, 95, 92, 55, 67, 80, 95, 96, 63, 87, 85, 98, 77, 98, 90, 93, \n  . 71, 63, 71, 100, 98, 98, 100, 99, 100, 98, 100, 98, 81, 95, 84, \n  . 96, 82, 99, 97, 93, 85, 93, 98, 50, 77, 93, 90, 78, 100, 66, \n  . 36, 95, 88, 100, 94, 83, 100, 96, 99, 98, 99, 92, 84, 63, 87, \n  . 99, 100, 86, 100, 100, 53, 98, 100, 94, 97, 100, 98, 100, 96, \n  . 59, 29, 97, 95, 86, 98, 89, 97, 99, 88, 89, 52, 89, 76, 99, 80, \n  . 57, 89, 95, 94, 85, 75, 68, 88, 97, 38, 70, 99, 97, 99, 100, \n  . 99, 98, 100, 95, 84, 96, 89, 97, 91, 55, 100, 100, 39, 100, 99, \n  . 99, 94, 99, 100, 94, 90, 99, 85, 98, 85, 85, 90, 83, 99, 98, \n  . 97, 99, 96, 91, 95, 98, 91, 97, 69, 100, 97, 97, 100, 100, 100, \n  . 100, 100, 100, 100, 100, 100, 97, 100, 99, 100, 100, 99, 100, \n  . 99, 99, 97, 100, 100, 100, 98, 98, 100, 100, 98, 98, 89, 99, \n  . 99, 100, 100, 86, 100, 99, 99, 100, 99, 100, 100, 99, 100, 100, \n  . 91, 97, 68, 98, 65, 80, 90, 99, 78, 96, 92, 95, 34, 99, 92, 98, \n  . 58, 56, 9, 88, 10, 53, 58, 36, 97, 73, 81, 5, 90, 72, 45, 100, \n  . 57, 100, 71, 99, 92, 83, 94, 99, 20, 83, 99, 100, 100, 88, 100, \n  . 100, 93, 100, 100, 95, 100, 98, 98, 100, 100, 86, 95, 81, 98, \n  . 89, 93, 99, 80, 85, 92, 98, 37, 100, 99, 65, 97, 100, 99, 96, \n  . 85, 91, 100, 100, 77, 99, 98, 100, 96, 100, 100, 100, 98, 99, \n  . 100, 100, 100, 100, 97, 98, 100, 88, 85, 89, 96, 100, 93, 100, \n  . 93, 79, 92, 100, 98, 100, 98, 99, 84, 100, 99, 100, 99, 94, 97, \n  . 97, 96, 99, 98, 100, 100, 95, 100, 100, 100, 100, 100, 99, 100, \n  . 100, 99, 100, 100, 99, 99, 98, 100, 98, 100, 99, 99, 100, 100, \n  . 99, 100, 100, 100, 100, 100, 100, 95, 95, 99, 97, 100, 100, 100, \n  . 100, 100, 99, 100, 100, 99, 100, 100, 99, 99, 100, 100, 84, 100, \n  . 98, 95, 99, 100, 100, 95, 100, 99, 100, 98, 85, 100, 100, 98, \n  . 100, 99, 100, 66, 100, 91, 99, 97, 91, 98, 93, 90, 98, 99, 100, \n  . 100, 100, 98, 96, 100, 100, 100, 99, 99, 100, 66, 97, 100, 95, \n  . 100, 99, 88, 97, 96, 100, 73, 97, 64, 84, 92, 98, 89, 98, 100, \n  . 77, 56, 84, 82, 82, 100, 98, 96, 88, 80, 53, 43, 90, 83, 91, \n  . 92, 78, 87, 100, 89, 89, 100, 95, 100, 99, 100, 99, 98, 100, \n  . 100, 99, 100, 100, 99, 100, 99, 87, 100, 100, 97, 100, 100, 98, \n  . 99, 100, 93, 81, 100, 94, 98, 96, 100, 97, 98, 88, 85, 100, 100, \n  . 100, 100, 99, 98, 98, 97, 93, 100, 87, 100, 100, 98, 95, 87, \n  . 95, 100, 86, 100, 87, 89, 97, 99, 99, 78, 88, 98, 86, 57, 97, \n  . 99, 75, 94, 99, 97, 91, 94, 94, 98, 84, 98, 99, 42, 76, 99, 99, \n  . 100, 84, 96, 96, 94, 97, 96, 100, 98, 96, 91, 97, 92, 92, 85, \n  . 99, 99, 88, 95, 99, 76, 99, 76, 80, 67, 100, 98, 55, 94, 27, \n  . 91, 99, 70, 96, 22, 25, 38, 83, 97, 89, 97, 98, 96, 94, 71, 86, \n  . 97, 92, 88, 100, 100, 100, 99, 98, 100, 88, 98, 96, 100, 96, \n  . 100, 99, 98, 100, 46, 92, 100, 96, 62, 98, 100, 93, 75, 100, \n  . 92, 39, 91, 81, 97, 99, 100, 99, 100, 99, 98, 97, 99, 99, 97, \n  . 89, 53, 97, 100, 100, 94, 99, 93, 90, 51, 96, 97, 100, 91, 87, \n  . 57, 89, 98, 98, 99, 59, 98, 93, 99, 52, 35, 68, 98, 93, 84, 92, \n  . 98, 95, 50, 99, 72, 91, 90, 79, 91, 49, 100, 97, 89, 98, 97, \n  . 100, 100, 100, 100, 100, 100, 100, 100, 100, 100, 100, 100, 100, \n  . 100, 100, 100, 100, 100, 99, 100, 100, 97, 100, 100, 97, 99, \n  . 100, 100, 94, 98, 98, 100, 100, 100, 100, 99, 100, 100, 100, \n  . 100, 100, 100, 100), .Dim = c(3230L, 2L), .Dimnames = list(NULL, \n  .     c(\"perc_1_Zone_while_WG_open\", \"\"))))",
      "11. `[<-.data.frame`(`*tmp*`, , colnames(y), value = structure(c(0, \n  . 0, 0, 0, 1, 1, 0, 0, 1, 0, 0, 0, 1, 3, 7, 1, 1, 0, 1, 61, 4, \n  . 1, 0, 4, 0, 1, 2, 1, 1, 2, 10, 0, 3, 2, 0, 2, 0, 0, 0, 0, 13, \n  . 0, 1, 1, 0, 1, 2, 1, 0, 1, 1, 6, 2, 1, 6, 24, 63, 1, 74, 2, 42, \n  . 89, 16, 7, 10, 86, 1, 74, 63, 24, 17, 8, 5, 41, 86, 12, 3, 4, \n  . 27, 8, 8, 7, 1, 6, 1, 0, 0, 0, 0, 0, 0, 0, 2, 0, 0, 1, 0, 2, \n  . 1, 9, 0, 0, 0, 0, 0, 0, 1, 0, 0, 0, 0, 0, 0, 1, 0, 0, 0, 1, 0, \n  . 1, 0, 0, 2, 0, 2, 0, 0, 0, 0, 0, 9, 6, 1, 9, 0, 2, 0, 1, 17, \n  . 2, 0, 37, 13, 6, 13, 10, 44, 6, 12, 18, 1, 12, 53, 3, 8, 46, \n  . 4, 1, 0, 2, 1, 3, 0, 0, 8, 7, 24, 2, 1, 11, 6, 0, 1, 0, 24, 0, \n  . 0, 91, 5, 5, 0, 4, 30, 15, 30, 75, 35, 3, 23, 8, 4, 0, 3, 19, \n  . 82, 25, 24, 2, 12, 0, 24, 20, 5, 22, 10, 22, 60, 22, 6, 0, 1, \n  . 0, 4, 0, 0, 1, 1, 0, 2, 4, 11, 5, 59, 17, 4, 1, 83, 15, 4, 7, \n  . 4, 2, 0, 8, 6, 0, 0, 3, 5, 8, 3, 10, 1, 12, 18, 6, 25, 7, 3, \n  . 4, 6, 6, 0, 0, 0, 0, 1, 0, 0, 0, 1, 0, 0, 0, 0, 0, 0, 0, 0, 2, \n  . 0, 1, 0, 0, 1, 0, 0, 0, 0, 1, 0, 0, 0, 1, 0, 1, 0, 0, 0, 0, 0, \n  . 0, 0, 0, 0, 3, 0, 0, 1, 2, 0, 0, 0, 4, 2, 0, 0, 10, 0, 4, 15, \n  . 3, 0, 2, 0, 11, 1, 18, 0, 0, 0, 0, 0, 0, 0, 0, 11, 0, 8, 0, 1, \n  . 4, 0, 2, 0, 0, 0, 0, 0, 0, 0, 0, 0, 0, 0, 1, 0, 0, 0, 0, 0, 0, \n  . 0, 0, 0, 0, 0, 0, 0, 2, 0, 2, 0, 0, 0, 0, 0, 0, 0, 2, 0, 0, 0, \n  . 0, 0, 0, 0, 0, 0, 0, 0, 0, 0, 1, 0, 1, 1, 1, 0, 1, 8, 0, 0, 7, \n  . 1, 5, 4, 1, 1, 1, 0, 3, 0, 0, 1, 2, 7, 0, 1, 2, 0, 1, 0, 0, 0, \n  . 0, 3, 1, 1, 0, 0, 1, 0, 1, 8, 2, 24, 4, 2, 19, 2, 0, 6, 4, 2, \n  . 63, 63, 32, 1, 9, 21, 10, 16, 4, 0, 60, 20, 8, 13, 74, 17, 57, \n  . 54, 2, 22, 2, 1, 0, 10, 52, 4, 0, 0, 0, 0, 0, 0, 0, 0, 0, 8, \n  . 3, 2, 0, 1, 7, 1, 7, 8, 1, 0, 15, 0, 4, 2, 87, 0, 0, 11, 34, \n  . 7, 1, 53, 0, 0, 1, 45, 9, 3, 23, 2, 0, 3, 2, 0, 0, 0, 0, 0, 0, \n  . 0, 0, 0, 1, 0, 0, 0, 0, 0, 0, 2, 0, 0, 0, 0, 1, 0, 1, 0, 1, 0, \n  . 1, 0, 1, 1, 0, 0, 0, 0, 0, 0, 2, 0, 0, 0, 0, 0, 0, 1, 4, 0, 0, \n  . 0, 0, 3, 6, 0, 0, 9, 3, 0, 0, 0, 2, 7, 30, 0, 5, 24, 1, 5, 0, \n  . 5, 1, 2, 2, 8, 0, 3, 0, 0, 6, 2, 1, 7, 1, 0, 6, 3, 0, 0, 3, 1, \n  . 9, 2, 0, 3, 9, 0, 2, 7, 9, 1, 13, 5, 3, 24, 50, 0, 23, 0, 12, \n  . 13, 11, 0, 2, 49, 16, 3, 2, 24, 11, 2, 4, 9, 44, 1, 3, 11, 3, \n  . 7, 1, 0, 2, 0, 0, 1, 4, 0, 18, 7, 0, 5, 4, 8, 0, 4, 3, 1, 3, \n  . 2, 0, 5, 9, 5, 13, 26, 3, 9, 19, 1, 16, 0, 0, 1, 0, 0, 1, 29, \n  . 0, 14, 3, 2, 5, 6, 29, 15, 53, 30, 1, 38, 3, 85, 25, 8, 31, 77, \n  . 4, 65, 27, 62, 85, 86, 94, 73, 34, 99, 55, 91, 91, 74, 95, 53, \n  . 20, 50, 34, 65, 20, 76, 7, 95, 92, 25, 45, 0, 0, 0, 1, 1, 25, \n  . 0, 1, 14, 6, 0, 4, 8, 4, 9, 2, 31, 30, 40, 5, 4, 5, 55, 5, 10, \n  . 13, 20, 2, 77, 0, 1, 12, 52, 9, 5, 15, 3, 4, 28, 8, 0, 2, 0, \n  . 0, 2, 0, 1, 0, 0, 17, 2, 13, 2, 1, 4, 11, 76, 1, 0, 16, 9, 1, \n  . 0, 2, 3, 4, 28, 1, 2, 6, 4, 3, 9, 0, 1, 0, 7, 1, 0, 6, 2, 1, \n  . 6, 1, 0, 0, 0, 0, 0, 13, 0, 4, 0, 0, 4, 2, 5, 6, 1, 0, 66, 3, \n  . 5, 6, 1, 2, 2, 8, 0, 6, 31, 26, 4, 1, 0, 4, 1, 5, 4, 7, 7, 11, \n  . 52, 0, 2, 3, 0, 0, 0, 1, 0, 0, 1, 0, 6, 0, 0, 2, 0, 20, 1, 0, \n  . 2, 1, 1, 8, 2, 6, 1, 0, 2, 10, 3, 7, 0, 33, 7, 1, 3, 6, 0, 10, \n  . 5, 9, 15, 2, 1, 0, 0, 0, 2, 0, 0, 0, 2, 0, 0, 0, 0, 2, 0, 3, \n  . 0, 3, 6, 2, 0, 0, 0, 0, 0, 6, 2, 1, 0, 1, 2, 0, 1, 0, 0, 0, 7, \n  . 0, 0, 0, 0, 0, 0, 0, 0, 1, 0, 0, 0, 0, 0, 1, 0, 0, 2, 1, 0, 7, \n  . 2, 0, 12, 0, 0, 0, 0, 0, 1, 0, 0, 0, 0, 0, 0, 0, 0, 1, 0, 0, \n  . 0, 1, 8, 0, 1, 1, 1, 0, 0, 0, 0, 0, 0, 0, 0, 0, 0, 0, 0, 0, 0, \n  . 0, 0, 1, 0, 0, 0, 0, 0, 0, 1, 0, 0, 0, 0, 0, 0, 0, 0, 0, 0, 0, \n  . 0, 0, 0, 0, 1, 0, 0, 0, 0, 0, 1, 3, 0, 0, 2, 0, 1, 0, 0, 1, 1, \n  . 1, 1, 0, 1, 0, 21, 11, 1, 1, 13, 1, 0, 0, 1, 1, 17, 2, 1, 11, \n  . 0, 1, 1, 3, 19, 15, 1, 1, 0, 0, 1, 0, 0, 2, 10, 1, 1, 0, 1, 0, \n  . 9, 2, 1, 0, 4, 1, 3, 5, 1, 6, 0, 2, 0, 0, 16, 4, 4, 0, 1, 0, \n  . 4, 4, 7, 0, 2, 6, 14, 0, 0, 0, 1, 14, 0, 0, 0, 1, 0, 1, 0, 0, \n  . 0, 0, 0, 1, 0, 0, 0, 0, 2, 0, 0, 0, 0, 1, 0, 0, 0, 2, 0, 0, 0, \n  . 0, 1, 0, 0, 0, 0, 0, 0, 0, 0, 0, 0, 0, 3, 8, 0, 0, 4, 14, 1, \n  . 15, 6, 4, 2, 27, 38, 52, 0, 21, 5, 0, 17, 8, 26, 73, 39, 5, 8, \n  . 49, 41, 0, 32, 5, 2, 2, 9, 25, 36, 8, 6, 5, 22, 1, 2, 16, 9, \n  . 7, 1, 2, 2, 2, 11, 50, 0, 35, 13, 2, 47, 34, 22, 2, 4, 1, 87, \n  . 23, 10, 0, 11, 3, 2, 93, 55, 3, 68, 65, 47, 37, 19, 50, 2, 8, \n  . 2, 18, 15, 20, 18, 55, 0, 4, 2, 0, 3, 2, 2, 0, 4, 3, 0, 14, 12, \n  . 9, 0, 1, 19, 0, 10, 8, 23, 0, 4, 8, 35, 2, 6, 0, 9, 6, 12, 4, \n  . 38, 2, 4, 3, 6, 2, 2, 4, 0, 1, 0, 0, 1, 0, 0, 1, 0, 0, 0, 2, \n  . 0, 0, 3, 0, 3, 1, 52, 1, 25, 0, 0, 0, 0, 18, 18, 19, 0, 2, 17, \n  . 15, 6, 2, 1, 2, 2, 1, 20, 1, 2, 5, 3, 2, 0, 0, 0, 0, 0, 0, 0, \n  . 0, 0, 0, 0, 0, 0, 0, 0, 0, 0, 0, 0, 1, 0, 0, 0, 0, 0, 0, 0, 1, \n  . 0, 0, 0, 0, 0, 0, 0, 0, 0, 0, 0, 0, 0, 0, 0, 1, 2, 0, 0, 2, 2, \n  . 2, 13, 2, 10, 2, 3, 0, 58, 2, 1, 8, 3, 6, 0, 1, 21, 1, 0, 3, \n  . 0, 6, 4, 2, 0, 0, 28, 0, 2, 0, 0, 2, 0, 0, 0, 0, 0, 2, 0, 0, \n  . 0, 0, 1, 0, 1, 1, 0, 0, 0, 0, 0, 0, 9, 0, 3, 6, 1, 0, 0, 1, 0, \n  . 0, 0, 1, 0, 0, 0, 0, 2, 2, 0, 0, 0, 0, 0, 0, 0, 0, 0, 1, 1, 0, \n  . 0, 2, 0, 0, 2, 0, 0, 0, 0, 4, 0, 0, 0, 0, 3, 0, 0, 1, 3, 0, 0, \n  . 1, 0, 0, 0, 0, 0, 0, 0, 0, 1, 0, 0, 0, 1, 0, 0, 0, 0, 0, 0, 0, \n  . 0, 1, 0, 0, 0, 1, 4, 0, 1, 0, 0, 0, 0, 0, 1, 1, 0, 0, 0, 0, 0, \n  . 0, 0, 0, 3, 1, 0, 0, 0, 2, 4, 4, 15, 0, 3, 9, 14, 6, 52, 34, \n  . 26, 4, 97, 51, 59, 0, 14, 42, 31, 31, 42, 12, 15, 1, 53, 0, 12, \n  . 42, 9, 65, 34, 3, 10, 6, 8, 2, 1, 0, 0, 1, 0, 1, 0, 0, 1, 0, \n  . 0, 5, 0, 0, 8, 26, 0, 7, 10, 2, 1, 0, 1, 0, 0, 1, 8, 0, 21, 1, \n  . 4, 4, 0, 0, 1, 11, 2, 2, 0, 2, 0, 0, 0, 0, 0, 0, 0, 0, 0, 0, \n  . 0, 1, 0, 0, 1, 0, 0, 0, 1, 0, 0, 0, 0, 4, 0, 0, 0, 0, 0, 0, 0, \n  . 0, 1, 0, 0, 0, 2, 0, 0, 0, 1, 14, 2, 1, 6, 3, 0, 11, 3, 5, 1, \n  . 5, 1, 0, 0, 2, 14, 6, 12, 4, 6, 7, 3, 2, 25, 52, 59, 9, 2, 6, \n  . 3, 1, 2, 0, 4, 8, 1, 0, 2, 0, 1, 2, 0, 0, 0, 0, 0, 1, 0, 0, 0, \n  . 3, 0, 2, 2, 0, 0, 0, 0, 11, 0, 0, 3, 0, 0, 2, 0, 0, 1, 0, 0, \n  . 1, 0, 0, 0, 0, 0, 1, 0, 0, 0, 0, 0, 0, 1, 0, 0, 0, 0, 1, 0, 3, \n  . 0, 0, 0, 0, 0, 0, 0, 0, 1, 0, 0, 0, 0, 0, 0, 0, 0, 0, 0, 0, 0, \n  . 0, 0, 0, 0, 2, 0, 1, 1, 0, 0, 1, 0, 0, 3, 4, 0, 7, 5, 0, 0, 0, \n  . 0, 1, 2, 1, 0, 0, 1, 0, 10, 0, 1, 1, 0, 0, 0, 0, 2, 0, 0, 1, \n  . 1, 0, 0, 0, 0, 0, 0, 1, 0, 0, 0, 0, 0, 1, 0, 0, 0, 0, 0, 0, 0, \n  . 4, 0, 0, 0, 0, 0, 0, 0, 0, 1, 0, 0, 0, 0, 0, 0, 0, 0, 0, 1, 0, \n  . 0, 0, 0, 0, 0, 0, 0, 0, 0, 0, 1, 0, 0, 1, 0, 0, 0, 0, 0, 2, 4, \n  . 0, 0, 0, 0, 0, 0, 0, 0, 0, 0, 0, 0, 0, 0, 0, 0, 0, 0, 0, 0, 0, \n  . 0, 0, 0, 0, 0, 0, 1, 0, 0, 0, 0, 0, 0, 4, 0, 0, 0, 1, 0, 1, 0, \n  . 0, 0, 0, 2, 0, 0, 0, 0, 0, 0, 0, 0, 1, 0, 0, 0, 2, 0, 5, 0, 2, \n  . 1, 1, 0, 0, 0, 0, 4, 0, 0, 0, 4, 3, 0, 2, 0, 0, 0, 0, 0, 0, 1, \n  . 1, 0, 1, 0, 0, 1, 3, 1, 2, 0, 6, 0, 2, 2, 5, 15, 23, 8, 5, 11, \n  . 12, 14, 49, 28, 18, 6, 18, 21, 58, 2, 3, 45, 51, 8, 20, 78, 5, \n  . 87, 29, 56, 7, 3, 24, 28, 9, 3, 38, 0, 6, 0, 0, 44, 5, 0, 2, \n  . 0, 8, 7, 1, 11, 3, 16, 15, 5, 4, 7, 1, 26, 44, 9, 17, 2, 9, 70, \n  . 19, 44, 13, 2, 0, 0, 3, 3, 26, 1, 0, 0, 12, 0, 0, 0, 0, 0, 0, \n  . 0, 0, 0, 1, 2, 2, 1, 0, 1, 25, 0, 1, 0, 1, 4, 0, 0, 12, 0, 0, \n  . 0, 0, 1, 0, 0, 0, 0, 4, 0, 7, 9, 3, 7, 61, 26, 0, 10, 75, 21, \n  . 7, 58, 8, 9, 46, 72, 7, 19, 17, 47, 62, 70, 7, 38, 4, 4, 1, 2, \n  . 21, 22, 7, 0, 0, 0, 0, 0, 0, 0, 0, 1, 1, 1, 6, 1, 29, 1, 0, 0, \n  . 22, 7, 0, 4, 1, 1, 1, 3, 0, 0, 1, 0, 9, 0, 0, 0, 0, 0, 0, 0, \n  . 0, 0, 0, 0, 2, 0, 0, 0, 7, 9, 15, 7, 0, 0, 1, 0, 0, 0, 9, 8, \n  . 2, 2, 1, 1, 0, 0, 0, 0, 1, 1, 30, 45, 23, 0, 0, 7, 10, 23, 1, \n  . 7, 18, 1, 20, 75, 1, 61, 46, 53, 69, 24, 21, 3, 33, 64, 14, 45, \n  . 55, 1, 16, 5, 6, 5, 0, 9, 3, 7, 0, 1, 2, 1, 5, 26, 11, 3, 3, \n  . 4, 4, 6, 13, 85, 10, 22, 3, 9, 11, 13, 11, 65, 0, 15, 9, 2, 5, \n  . 1, 1, 0, 1, 0, 1, 1, 17, 1, 22, 3, 11, 1, 2, 1, 2, 2, 3, 0, 13, \n  . 2, 6, 1, 2, 3, 0, 0, 0, 2, 1, 0, 0, 0, 0, 1, 0, 67, 27, 3, 8, \n  . 25, 1, 8, 21, 71, 93, 84, 86, 22, 85, 30, 92, 50, 59, 54, 68, \n  . 53, 23, 21, 96, 8, 56, 42, 64, 2, 6, 19, 3, 0, 7, 2, 2, 4, 42, \n  . 34, 1, 49, 19, 24, 3, 2, 36, 2, 4, 10, 0, 25, 53, 11, 0, 3, 7, \n  . 32, 35, 13, 1, 8, 16, 25, 38, 1, 0, 1, 0, 0, 0, 0, 1, 0, 8, 9, \n  . 6, 5, 0, 3, 1, 0, 3, 8, 0, 1, 1, 3, 1, 6, 0, 11, 0, 10, 0, 4, \n  . 2, 1, 6, 2, 1, 1, 0, 36, 0, 1, 3, 4, 29, 0, 2, 0, 2, 9, 14, 91, \n  . 6, 4, 0, 11, 22, 1, 8, 7, 4, 13, 0, 42, 8, 3, 8, 0, 0, 0, 0, \n  . 0, 0, 0, 0, 0, 1, 0, 0, 0, 0, 0, 0, 0, 0, 0, 0, 1, 0, 0, 0, 0, \n  . 0, 0, 0, 0, 0, 0, 0, 0, 0, 0, 0, 0, 0, 0, 0, 0, 0, 0, 0, 1, 0, \n  . 2, 0, 11, 18, 3, 4, 10, 0, 7, 2, 1, 1, 0, 23, 0, 8, 1, 7, 4, \n  . 81, 7, 24, 11, 32, 31, 7, 1, 20, 1, 40, 0, 1, 1, 2, 60, 13, 40, \n  . 0, 24, 1, 5, 0, 3, 1, 2, 15, 8, 3, 10, 0, 0, 26, 42, 17, 5, 42, \n  . 10, 14, 9, 22, 2, 5, 6, 3, 31, 18, 6, 19, 16, 0, 11, 1, 17, 0, \n  . 10, 20, 13, 0, 4, 0, 6, 11, 3, 14, 0, 1, 0, 2, 0, 0, 1, 8, 3, \n  . 19, 8, 16, 0, 0, 1, 0, 11, 6, 3, 13, 1, 1, 35, 3, 3, 5, 8, 45, \n  . 33, 20, 5, 4, 37, 13, 15, 2, 23, 2, 10, 7, 29, 37, 29, 0, 2, \n  . 2, 0, 1, 0, 2, 0, 2, 19, 5, 16, 4, 18, 1, 3, 7, 15, 7, 2, 50, \n  . 23, 7, 10, 22, 0, 34, 64, 5, 12, 0, 6, 17, 0, 4, 1, 2, 1, 8, \n  . 16, 37, 13, 1, 0, 14, 0, 0, 47, 2, 0, 6, 3, 0, 2, 0, 4, 41, 71, \n  . 3, 5, 14, 2, 11, 3, 1, 12, 11, 48, 11, 24, 1, 20, 43, 11, 5, \n  . 6, 15, 25, 32, 12, 3, 62, 30, 1, 3, 1, 0, 1, 2, 0, 5, 16, 4, \n  . 11, 3, 9, 45, 0, 0, 61, 0, 1, 1, 6, 1, 0, 6, 10, 1, 15, 2, 15, \n  . 15, 10, 17, 1, 2, 3, 1, 4, 9, 5, 2, 9, 3, 31, 0, 3, 3, 0, 0, \n  . 0, 0, 0, 0, 0, 0, 0, 3, 0, 1, 0, 0, 1, 0, 1, 1, 3, 0, 0, 0, 2, \n  . 2, 0, 0, 2, 2, 11, 1, 1, 0, 0, 14, 0, 1, 1, 0, 1, 0, 0, 1, 0, \n  . 0, 9, 3, 32, 2, 35, 20, 10, 1, 22, 4, 8, 5, 66, 1, 8, 2, 42, \n  . 44, 91, 12, 90, 47, 42, 64, 3, 27, 19, 95, 10, 28, 55, 0, 43, \n  . 0, 29, 1, 8, 17, 6, 1, 80, 17, 1, 0, 0, 12, 0, 0, 7, 0, 0, 5, \n  . 0, 2, 2, 0, 0, 14, 5, 19, 2, 11, 7, 1, 20, 15, 8, 2, 63, 0, 1, \n  . 35, 3, 0, 1, 4, 15, 9, 0, 0, 23, 1, 2, 0, 4, 0, 0, 0, 2, 1, 0, \n  . 0, 0, 0, 3, 2, 0, 12, 15, 11, 4, 0, 7, 0, 7, 21, 8, 0, 2, 0, \n  . 2, 1, 16, 0, 1, 0, 1, 6, 3, 3, 4, 1, 2, 0, 0, 5, 0, 0, 0, 0, \n  . 0, 1, 0, 0, 1, 0, 0, 1, 1, 2, 0, 2, 0, 1, 1, 0, 0, 1, 0, 0, 0, \n  . 0, 0, 0, 5, 5, 1, 3, 0, 0, 0, 0, 0, 1, 0, 0, 1, 0, 0, 1, 1, 0, \n  . 0, 16, 0, 2, 5, 1, 0, 0, 5, 0, 1, 0, 2, 15, 0, 0, 2, 0, 1, 0, \n  . 34, 0, 9, 1, 3, 9, 2, 7, 10, 2, 1, 0, 0, 0, 2, 4, 0, 0, 0, 1, \n  . 1, 0, 34, 3, 0, 5, 0, 1, 12, 3, 4, 0, 27, 3, 36, 16, 8, 2, 11, \n  . 2, 0, 23, 44, 16, 18, 18, 0, 2, 4, 12, 20, 47, 57, 10, 17, 9, \n  . 8, 22, 13, 0, 11, 11, 0, 5, 0, 1, 0, 1, 2, 0, 0, 1, 0, 0, 1, \n  . 0, 1, 13, 0, 0, 3, 0, 0, 2, 1, 0, 7, 19, 0, 6, 2, 4, 0, 3, 2, \n  . 12, 15, 0, 0, 0, 0, 1, 2, 2, 3, 7, 0, 13, 0, 0, 2, 5, 13, 5, \n  . 0, 14, 0, 13, 11, 3, 1, 1, 22, 12, 2, 14, 43, 3, 1, 25, 6, 1, \n  . 3, 9, 6, 6, 2, 16, 2, 1, 58, 24, 1, 1, 0, 16, 4, 4, 6, 3, 4, \n  . 0, 2, 4, 9, 3, 8, 8, 15, 1, 1, 12, 5, 1, 24, 1, 24, 20, 33, 0, \n  . 2, 45, 6, 73, 9, 1, 30, 4, 78, 75, 62, 17, 3, 11, 3, 2, 4, 6, \n  . 29, 14, 3, 8, 12, 0, 0, 0, 1, 2, 0, 12, 2, 4, 0, 4, 0, 1, 2, \n  . 0, 54, 8, 0, 4, 38, 2, 0, 7, 25, 0, 8, 61, 9, 19, 3, 1, 0, 1, \n  . 0, 1, 2, 3, 1, 1, 3, 11, 47, 3, 0, 0, 6, 1, 7, 10, 49, 4, 3, \n  . 0, 9, 13, 43, 11, 2, 2, 1, 41, 2, 7, 1, 48, 65, 32, 2, 7, 16, \n  . 8, 2, 5, 50, 1, 28, 9, 10, 21, 9, 51, 0, 3, 11, 2, 3, 0, 0, 0, \n  . 0, 0, 0, 0, 0, 0, 0, 0, 0, 0, 0, 0, 0, 0, 0, 1, 0, 0, 3, 0, 0, \n  . 3, 1, 0, 0, 6, 2, 2, 0, 0, 0, 0, 1, 0, 0, 0, 0, 0, 0, 0, 100, \n  . 100, 100, 100, 99, 99, 100, 100, 99, 100, 100, 100, 99, 97, 93, \n  . 99, 99, 100, 99, 39, 96, 99, 100, 96, 100, 99, 98, 99, 99, 98, \n  . 90, 100, 97, 98, 100, 98, 100, 100, 100, 100, 87, 100, 99, 99, \n  . 100, 99, 98, 99, 100, 99, 99, 94, 98, 99, 94, 76, 37, 99, 26, \n  . 98, 58, 11, 84, 93, 90, 14, 99, 26, 37, 76, 83, 92, 95, 59, 14, \n  . 88, 97, 96, 73, 92, 92, 93, 99, 94, 99, 100, 100, 100, 100, 100, \n  . 100, 100, 98, 100, 100, 99, 100, 98, 99, 91, 100, 100, 100, 100, \n  . 100, 100, 99, 100, 100, 100, 100, 100, 100, 99, 100, 100, 100, \n  . 99, 100, 99, 100, 100, 98, 100, 98, 100, 100, 100, 100, 100, \n  . 91, 94, 99, 91, 100, 98, 100, 99, 83, 98, 100, 63, 87, 94, 87, \n  . 90, 56, 94, 88, 82, 99, 88, 47, 97, 92, 54, 96, 99, 100, 98, \n  . 99, 97, 100, 100, 92, 93, 76, 98, 99, 89, 94, 100, 99, 100, 76, \n  . 100, 100, 9, 95, 95, 100, 96, 70, 85, 70, 25, 65, 97, 77, 92, \n  . 96, 100, 97, 81, 18, 75, 76, 98, 88, 100, 76, 80, 95, 78, 90, \n  . 78, 40, 78, 94, 100, 99, 100, 96, 100, 100, 99, 99, 100, 98, \n  . 96, 89, 95, 41, 83, 96, 99, 17, 85, 96, 93, 96, 98, 100, 92, \n  . 94, 100, 100, 97, 95, 92, 97, 90, 99, 88, 82, 94, 75, 93, 97, \n  . 96, 94, 94, 100, 100, 100, 100, 99, 100, 100, 100, 99, 100, 100, \n  . 100, 100, 100, 100, 100, 100, 98, 100, 99, 100, 100, 99, 100, \n  . 100, 100, 100, 99, 100, 100, 100, 99, 100, 99, 100, 100, 100, \n  . 100, 100, 100, 100, 100, 100, 97, 100, 100, 99, 98, 100, 100, \n  . 100, 96, 98, 100, 100, 90, 100, 96, 85, 97, 100, 98, 100, 89, \n  . 99, 82, 100, 100, 100, 100, 100, 100, 100, 100, 89, 100, 92, \n  . 100, 99, 96, 100, 98, 100, 100, 100, 100, 100, 100, 100, 100, \n  . 100, 100, 100, 99, 100, 100, 100, 100, 100, 100, 100, 100, 100, \n  . 100, 100, 100, 100, 98, 100, 98, 100, 100, 100, 100, 100, 100, \n  . 100, 98, 100, 100, 100, 100, 100, 100, 100, 100, 100, 100, 100, \n  . 100, 100, 99, 100, 99, 99, 99, 100, 99, 92, 100, 100, 93, 99, \n  . 95, 96, 99, 99, 99, 100, 97, 100, 100, 99, 98, 93, 100, 99, 98, \n  . 100, 99, 100, 100, 100, 100, 97, 99, 99, 100, 100, 99, 100, 99, \n  . 92, 98, 76, 96, 98, 81, 98, 100, 94, 96, 98, 37, 37, 68, 99, \n  . 91, 79, 90, 84, 96, 100, 40, 80, 92, 87, 26, 83, 43, 46, 98, \n  . 78, 98, 99, 100, 90, 48, 96, 100, 100, 100, 100, 100, 100, 100, \n  . 100, 100, 92, 97, 98, 100, 99, 93, 99, 93, 92, 99, 100, 85, 100, \n  . 96, 98, 13, 100, 100, 89, 66, 93, 99, 47, 100, 100, 99, 55, 91, \n  . 97, 77, 98, 100, 97, 98, 100, 100, 100, 100, 100, 100, 100, 100, \n  . 100, 99, 100, 100, 100, 100, 100, 100, 98, 100, 100, 100, 100, \n  . 99, 100, 99, 100, 99, 100, 99, 100, 99, 99, 100, 100, 100, 100, \n  . 100, 100, 98, 100, 100, 100, 100, 100, 100, 99, 96, 100, 100, \n  . 100, 100, 97, 94, 100, 100, 91, 97, 100, 100, 100, 98, 93, 70, \n  . 100, 95, 76, 99, 95, 100, 95, 99, 98, 98, 92, 100, 97, 100, 100, \n  . 94, 98, 99, 93, 99, 100, 94, 97, 100, 100, 97, 99, 91, 98, 100, \n  . 97, 91, 100, 98, 93, 91, 99, 87, 95, 97, 76, 50, 100, 77, 100, \n  . 88, 87, 89, 100, 98, 51, 84, 97, 98, 76, 89, 98, 96, 91, 56, \n  . 99, 97, 89, 97, 93, 99, 100, 98, 100, 100, 99, 96, 100, 82, 93, \n  . 100, 95, 96, 92, 100, 96, 97, 99, 97, 98, 100, 95, 91, 95, 87, \n  . 74, 97, 91, 81, 99, 84, 100, 100, 99, 100, 100, 99, 71, 100, \n  . 86, 97, 98, 95, 94, 71, 85, 47, 70, 99, 62, 97, 15, 75, 92, 69, \n  . 23, 96, 35, 73, 38, 15, 14, 6, 27, 66, 1, 45, 9, 9, 26, 5, 47, \n  . 80, 50, 66, 35, 80, 24, 93, 5, 8, 75, 55, 100, 100, 100, 99, \n  . 99, 75, 100, 99, 86, 94, 100, 96, 92, 96, 91, 98, 69, 70, 60, \n  . 95, 96, 95, 45, 95, 90, 87, 80, 98, 23, 100, 99, 88, 48, 91, \n  . 95, 85, 97, 96, 72, 92, 100, 98, 100, 100, 98, 100, 99, 100, \n  . 100, 83, 98, 87, 98, 99, 96, 89, 24, 99, 100, 84, 91, 99, 100, \n  . 98, 97, 96, 72, 99, 98, 94, 96, 97, 91, 100, 99, 100, 93, 99, \n  . 100, 94, 98, 99, 94, 99, 100, 100, 100, 100, 100, 87, 100, 96, \n  . 100, 100, 96, 98, 95, 94, 99, 100, 34, 97, 95, 94, 99, 98, 98, \n  . 92, 100, 94, 69, 74, 96, 99, 100, 96, 99, 95, 96, 93, 93, 89, \n  . 48, 100, 98, 97, 100, 100, 100, 99, 100, 100, 99, 100, 94, 100, \n  . 100, 98, 100, 80, 99, 100, 98, 99, 99, 92, 98, 94, 99, 100, 98, \n  . 90, 97, 93, 100, 67, 93, 99, 97, 94, 100, 90, 95, 91, 85, 98, \n  . 99, 100, 100, 100, 98, 100, 100, 100, 98, 100, 100, 100, 100, \n  . 98, 100, 97, 100, 97, 94, 98, 100, 100, 100, 100, 100, 94, 98, \n  . 99, 100, 99, 98, 100, 99, 100, 100, 100, 93, 100, 100, 100, 100, \n  . 100, 100, 100, 100, 99, 100, 100, 100, 100, 100, 99, 100, 100, \n  . 98, 99, 100, 93, 98, 100, 88, 100, 100, 100, 100, 100, 99, 100, \n  . 100, 100, 100, 100, 100, 100, 100, 99, 100, 100, 100, 99, 92, \n  . 100, 99, 99, 99, 100, 100, 100, 100, 100, 100, 100, 100, 100, \n  . 100, 100, 100, 100, 100, 100, 100, 99, 100, 100, 100, 100, 100, \n  . 100, 99, 100, 100, 100, 100, 100, 100, 100, 100, 100, 100, 100, \n  . 100, 100, 100, 100, 99, 100, 100, 100, 100, 100, 99, 97, 100, \n  . 100, 98, 100, 99, 100, 100, 99, 99, 99, 99, 100, 99, 100, 79, \n  . 89, 99, 99, 87, 99, 100, 100, 99, 99, 83, 98, 99, 89, 100, 99, \n  . 99, 97, 81, 85, 99, 99, 100, 100, 99, 100, 100, 98, 90, 99, 99, \n  . 100, 99, 100, 91, 98, 99, 100, 96, 99, 97, 95, 99, 94, 100, 98, \n  . 100, 100, 84, 96, 96, 100, 99, 100, 96, 96, 93, 100, 98, 94, \n  . 86, 100, 100, 100, 99, 86, 100, 100, 100, 99, 100, 99, 100, 100, \n  . 100, 100, 100, 99, 100, 100, 100, 100, 98, 100, 100, 100, 100, \n  . 99, 100, 100, 100, 98, 100, 100, 100, 100, 99, 100, 100, 100, \n  . 100, 100, 100, 100, 100, 100, 100, 100, 97, 92, 100, 100, 96, \n  . 86, 99, 85, 94, 96, 98, 73, 62, 48, 100, 79, 95, 100, 83, 92, \n  . 74, 27, 61, 95, 92, 51, 59, 100, 68, 95, 98, 98, 91, 75, 64, \n  . 92, 94, 95, 78, 99, 98, 84, 91, 93, 99, 98, 98, 98, 89, 50, 100, \n  . 65, 87, 98, 53, 66, 78, 98, 96, 99, 13, 77, 90, 100, 89, 97, \n  . 98, 7, 45, 97, 32, 35, 53, 63, 81, 50, 98, 92, 98, 82, 85, 80, \n  . 82, 45, 100, 96, 98, 100, 97, 98, 98, 100, 96, 97, 100, 86, 88, \n  . 91, 100, 99, 81, 100, 90, 92, 77, 100, 96, 92, 65, 98, 94, 100, \n  . 91, 94, 88, 96, 62, 98, 96, 97, 94, 98, 98, 96, 100, 99, 100, \n  . 100, 99, 100, 100, 99, 100, 100, 100, 98, 100, 100, 97, 100, \n  . 97, 99, 48, 99, 75, 100, 100, 100, 100, 82, 82, 81, 100, 98, \n  . 83, 85, 94, 98, 99, 98, 98, 99, 80, 99, 98, 95, 97, 98, 100, \n  . 100, 100, 100, 100, 100, 100, 100, 100, 100, 100, 100, 100, 100, \n  . 100, 100, 100, 100, 100, 99, 100, 100, 100, 100, 100, 100, 100, \n  . 99, 100, 100, 100, 100, 100, 100, 100, 100, 100, 100, 100, 100, \n  . 100, 100, 100, 99, 98, 100, 100, 98, 98, 98, 87, 98, 90, 98, \n  . 97, 100, 42, 98, 99, 92, 97, 94, 100, 99, 79, 99, 100, 97, 100, \n  . 94, 96, 98, 100, 100, 72, 100, 98, 100, 100, 98, 100, 100, 100, \n  . 100, 100, 98, 100, 100, 100, 100, 99, 100, 99, 99, 100, 100, \n  . 100, 100, 100, 100, 91, 100, 97, 94, 99, 100, 100, 99, 100, 100, \n  . 100, 99, 100, 100, 100, 100, 98, 98, 100, 100, 100, 100, 100, \n  . 100, 100, 100, 100, 99, 99, 100, 100, 98, 100, 100, 98, 100, \n  . 100, 100, 100, 96, 100, 100, 100, 100, 97, 100, 100, 99, 97, \n  . 100, 100, 99, 100, 100, 100, 100, 100, 100, 100, 100, 99, 100, \n  . 100, 100, 99, 100, 100, 100, 100, 100, 100, 100, 100, 99, 100, \n  . 100, 100, 99, 96, 100, 99, 100, 100, 100, 100, 100, 99, 99, 100, \n  . 100, 100, 100, 100, 100, 100, 100, 97, 99, 100, 100, 100, 98, \n  . 96, 96, 85, 100, 97, 91, 86, 94, 48, 66, 74, 96, 3, 49, 41, 100, \n  . 86, 58, 69, 69, 58, 88, 85, 99, 47, 100, 88, 58, 91, 35, 66, \n  . 97, 90, 94, 92, 98, 99, 100, 100, 99, 100, 99, 100, 100, 99, \n  . 100, 100, 95, 100, 100, 92, 74, 100, 93, 90, 98, 99, 100, 99, \n  . 100, 100, 99, 92, 100, 79, 99, 96, 96, 100, 100, 99, 89, 98, \n  . 98, 100, 98, 100, 100, 100, 100, 100, 100, 100, 100, 100, 100, \n  . 100, 99, 100, 100, 99, 100, 100, 100, 99, 100, 100, 100, 100, \n  . 96, 100, 100, 100, 100, 100, 100, 100, 100, 99, 100, 100, 100, \n  . 98, 100, 100, 100, 99, 86, 98, 99, 94, 97, 100, 89, 97, 95, 99, \n  . 95, 99, 100, 100, 98, 86, 94, 88, 96, 94, 93, 97, 98, 75, 48, \n  . 41, 91, 98, 94, 97, 99, 98, 100, 96, 92, 99, 100, 98, 100, 99, \n  . 98, 100, 100, 100, 100, 100, 99, 100, 100, 100, 97, 100, 98, \n  . 98, 100, 100, 100, 100, 89, 100, 100, 97, 100, 100, 98, 100, \n  . 100, 99, 100, 100, 99, 100, 100, 100, 100, 100, 99, 100, 100, \n  . 100, 100, 100, 100, 99, 100, 100, 100, 100, 99, 100, 97, 100, \n  . 100, 100, 100, 100, 100, 100, 100, 99, 100, 100, 100, 100, 100, \n  . 100, 100, 100, 100, 100, 100, 100, 100, 100, 100, 100, 98, 100, \n  . 99, 99, 100, 100, 99, 100, 100, 97, 96, 100, 93, 95, 100, 100, \n  . 100, 100, 99, 98, 99, 100, 100, 99, 100, 90, 100, 99, 99, 100, \n  . 100, 100, 100, 98, 100, 100, 99, 99, 100, 100, 100, 100, 100, \n  . 100, 99, 100, 100, 100, 100, 100, 99, 100, 100, 100, 100, 100, \n  . 100, 100, 96, 100, 100, 100, 100, 100, 100, 100, 100, 99, 100, \n  . 100, 100, 100, 100, 100, 100, 100, 100, 99, 100, 100, 100, 100, \n  . 100, 100, 100, 100, 100, 100, 100, 99, 100, 100, 99, 100, 100, \n  . 100, 100, 100, 98, 96, 100, 100, 100, 100, 100, 100, 100, 100, \n  . 100, 100, 100, 100, 100, 100, 100, 100, 100, 100, 100, 100, 100, \n  . 100, 100, 100, 100, 100, 100, 99, 100, 100, 100, 100, 100, 100, \n  . 96, 100, 100, 100, 99, 100, 99, 100, 100, 100, 100, 98, 100, \n  . 100, 100, 100, 100, 100, 100, 100, 99, 100, 100, 100, 98, 100, \n  . 95, 100, 98, 99, 99, 100, 100, 100, 100, 96, 100, 100, 100, 96, \n  . 97, 100, 98, 100, 100, 100, 100, 100, 100, 99, 99, 100, 99, 100, \n  . 100, 99, 97, 99, 98, 100, 94, 100, 98, 98, 95, 85, 77, 92, 95, \n  . 89, 88, 86, 51, 72, 82, 94, 82, 79, 42, 98, 97, 55, 49, 92, 80, \n  . 22, 95, 13, 71, 44, 93, 97, 76, 72, 91, 97, 62, 100, 94, 100, \n  . 100, 56, 95, 100, 98, 100, 92, 93, 99, 89, 97, 84, 85, 95, 96, \n  . 93, 99, 74, 56, 91, 83, 98, 91, 30, 81, 56, 87, 98, 100, 100, \n  . 97, 97, 74, 99, 100, 100, 88, 100, 100, 100, 100, 100, 100, 100, \n  . 100, 100, 99, 98, 98, 99, 100, 99, 75, 100, 99, 100, 99, 96, \n  . 100, 100, 88, 100, 100, 100, 100, 99, 100, 100, 100, 100, 96, \n  . 100, 93, 91, 97, 93, 39, 74, 100, 90, 25, 79, 93, 42, 92, 91, \n  . 54, 28, 93, 81, 83, 53, 38, 30, 93, 62, 96, 96, 99, 98, 79, 78, \n  . 93, 100, 100, 100, 100, 100, 100, 100, 100, 99, 99, 99, 94, 99, \n  . 71, 99, 100, 100, 78, 93, 100, 96, 99, 99, 99, 97, 100, 100, \n  . 99, 100, 91, 100, 100, 100, 100, 100, 100, 100, 100, 100, 100, \n  . 100, 98, 100, 100, 100, 93, 91, 85, 93, 100, 100, 99, 100, 100, \n  . 100, 91, 92, 98, 98, 99, 99, 100, 100, 100, 100, 99, 99, 70, \n  . 55, 77, 100, 100, 93, 90, 77, 99, 93, 82, 99, 80, 25, 99, 39, \n  . 54, 47, 31, 76, 79, 97, 67, 36, 86, 55, 45, 99, 84, 95, 94, 95, \n  . 100, 91, 97, 93, 100, 99, 98, 99, 95, 74, 89, 97, 97, 96, 96, \n  . 94, 87, 15, 90, 78, 97, 91, 89, 87, 89, 35, 100, 85, 91, 98, \n  . 95, 99, 99, 100, 99, 100, 99, 99, 83, 99, 78, 97, 89, 99, 98, \n  . 99, 98, 98, 97, 100, 87, 98, 94, 99, 98, 97, 100, 100, 100, 98, \n  . 99, 100, 100, 100, 100, 99, 100, 33, 73, 97, 92, 75, 99, 92, \n  . 79, 29, 7, 16, 14, 78, 15, 70, 8, 50, 41, 46, 32, 47, 77, 79, \n  . 4, 92, 44, 58, 36, 98, 94, 81, 97, 100, 93, 98, 98, 96, 58, 66, \n  . 99, 51, 81, 76, 97, 98, 64, 98, 96, 90, 100, 75, 47, 89, 100, \n  . 97, 93, 68, 65, 87, 99, 92, 84, 75, 62, 99, 100, 99, 100, 100, \n  . 100, 100, 99, 100, 92, 91, 94, 95, 100, 97, 99, 100, 97, 92, \n  . 100, 99, 99, 97, 99, 94, 100, 89, 100, 90, 100, 96, 98, 99, 94, \n  . 98, 99, 99, 100, 64, 100, 99, 97, 96, 71, 100, 98, 100, 98, 91, \n  . 86, 9, 94, 96, 100, 89, 78, 99, 92, 93, 96, 87, 100, 58, 92, \n  . 97, 92, 100, 100, 100, 100, 100, 100, 100, 100, 100, 99, 100, \n  . 100, 100, 100, 100, 100, 100, 100, 100, 100, 99, 100, 100, 100, \n  . 100, 100, 100, 100, 100, 100, 100, 100, 100, 100, 100, 100, 100, \n  . 100, 100, 100, 100, 100, 100, 100, 99, 100, 98, 100, 89, 82, \n  . 97, 96, 90, 100, 93, 98, 99, 99, 100, 77, 100, 92, 99, 93, 96, \n  . 19, 93, 76, 89, 68, 69, 93, 99, 80, 99, 60, 100, 99, 99, 98, \n  . 40, 87, 60, 100, 76, 99, 95, 100, 97, 99, 98, 85, 92, 97, 90, \n  . 100, 100, 74, 58, 83, 95, 58, 90, 86, 91, 78, 98, 95, 94, 97, \n  . 69, 82, 94, 81, 84, 100, 89, 99, 83, 100, 90, 80, 87, 100, 96, \n  . 100, 94, 89, 97, 86, 100, 99, 100, 98, 100, 100, 99, 92, 97, \n  . 81, 92, 84, 100, 100, 99, 100, 89, 94, 97, 87, 99, 99, 65, 97, \n  . 97, 95, 92, 55, 67, 80, 95, 96, 63, 87, 85, 98, 77, 98, 90, 93, \n  . 71, 63, 71, 100, 98, 98, 100, 99, 100, 98, 100, 98, 81, 95, 84, \n  . 96, 82, 99, 97, 93, 85, 93, 98, 50, 77, 93, 90, 78, 100, 66, \n  . 36, 95, 88, 100, 94, 83, 100, 96, 99, 98, 99, 92, 84, 63, 87, \n  . 99, 100, 86, 100, 100, 53, 98, 100, 94, 97, 100, 98, 100, 96, \n  . 59, 29, 97, 95, 86, 98, 89, 97, 99, 88, 89, 52, 89, 76, 99, 80, \n  . 57, 89, 95, 94, 85, 75, 68, 88, 97, 38, 70, 99, 97, 99, 100, \n  . 99, 98, 100, 95, 84, 96, 89, 97, 91, 55, 100, 100, 39, 100, 99, \n  . 99, 94, 99, 100, 94, 90, 99, 85, 98, 85, 85, 90, 83, 99, 98, \n  . 97, 99, 96, 91, 95, 98, 91, 97, 69, 100, 97, 97, 100, 100, 100, \n  . 100, 100, 100, 100, 100, 100, 97, 100, 99, 100, 100, 99, 100, \n  . 99, 99, 97, 100, 100, 100, 98, 98, 100, 100, 98, 98, 89, 99, \n  . 99, 100, 100, 86, 100, 99, 99, 100, 99, 100, 100, 99, 100, 100, \n  . 91, 97, 68, 98, 65, 80, 90, 99, 78, 96, 92, 95, 34, 99, 92, 98, \n  . 58, 56, 9, 88, 10, 53, 58, 36, 97, 73, 81, 5, 90, 72, 45, 100, \n  . 57, 100, 71, 99, 92, 83, 94, 99, 20, 83, 99, 100, 100, 88, 100, \n  . 100, 93, 100, 100, 95, 100, 98, 98, 100, 100, 86, 95, 81, 98, \n  . 89, 93, 99, 80, 85, 92, 98, 37, 100, 99, 65, 97, 100, 99, 96, \n  . 85, 91, 100, 100, 77, 99, 98, 100, 96, 100, 100, 100, 98, 99, \n  . 100, 100, 100, 100, 97, 98, 100, 88, 85, 89, 96, 100, 93, 100, \n  . 93, 79, 92, 100, 98, 100, 98, 99, 84, 100, 99, 100, 99, 94, 97, \n  . 97, 96, 99, 98, 100, 100, 95, 100, 100, 100, 100, 100, 99, 100, \n  . 100, 99, 100, 100, 99, 99, 98, 100, 98, 100, 99, 99, 100, 100, \n  . 99, 100, 100, 100, 100, 100, 100, 95, 95, 99, 97, 100, 100, 100, \n  . 100, 100, 99, 100, 100, 99, 100, 100, 99, 99, 100, 100, 84, 100, \n  . 98, 95, 99, 100, 100, 95, 100, 99, 100, 98, 85, 100, 100, 98, \n  . 100, 99, 100, 66, 100, 91, 99, 97, 91, 98, 93, 90, 98, 99, 100, \n  . 100, 100, 98, 96, 100, 100, 100, 99, 99, 100, 66, 97, 100, 95, \n  . 100, 99, 88, 97, 96, 100, 73, 97, 64, 84, 92, 98, 89, 98, 100, \n  . 77, 56, 84, 82, 82, 100, 98, 96, 88, 80, 53, 43, 90, 83, 91, \n  . 92, 78, 87, 100, 89, 89, 100, 95, 100, 99, 100, 99, 98, 100, \n  . 100, 99, 100, 100, 99, 100, 99, 87, 100, 100, 97, 100, 100, 98, \n  . 99, 100, 93, 81, 100, 94, 98, 96, 100, 97, 98, 88, 85, 100, 100, \n  . 100, 100, 99, 98, 98, 97, 93, 100, 87, 100, 100, 98, 95, 87, \n  . 95, 100, 86, 100, 87, 89, 97, 99, 99, 78, 88, 98, 86, 57, 97, \n  . 99, 75, 94, 99, 97, 91, 94, 94, 98, 84, 98, 99, 42, 76, 99, 99, \n  . 100, 84, 96, 96, 94, 97, 96, 100, 98, 96, 91, 97, 92, 92, 85, \n  . 99, 99, 88, 95, 99, 76, 99, 76, 80, 67, 100, 98, 55, 94, 27, \n  . 91, 99, 70, 96, 22, 25, 38, 83, 97, 89, 97, 98, 96, 94, 71, 86, \n  . 97, 92, 88, 100, 100, 100, 99, 98, 100, 88, 98, 96, 100, 96, \n  . 100, 99, 98, 100, 46, 92, 100, 96, 62, 98, 100, 93, 75, 100, \n  . 92, 39, 91, 81, 97, 99, 100, 99, 100, 99, 98, 97, 99, 99, 97, \n  . 89, 53, 97, 100, 100, 94, 99, 93, 90, 51, 96, 97, 100, 91, 87, \n  . 57, 89, 98, 98, 99, 59, 98, 93, 99, 52, 35, 68, 98, 93, 84, 92, \n  . 98, 95, 50, 99, 72, 91, 90, 79, 91, 49, 100, 97, 89, 98, 97, \n  . 100, 100, 100, 100, 100, 100, 100, 100, 100, 100, 100, 100, 100, \n  . 100, 100, 100, 100, 100, 99, 100, 100, 97, 100, 100, 97, 99, \n  . 100, 100, 94, 98, 98, 100, 100, 100, 100, 99, 100, 100, 100, \n  . 100, 100, 100, 100), .Dim = c(3230L, 2L), .Dimnames = list(NULL, \n  .     c(\"perc_1_Zone_while_WG_open\", \"\"))))",
      "12. stop(\"column name \\\"\\\" cannot match any column\")"
     ]
    }
   ],
   "source": [
    "#as in beetle examples\n",
    "set.seed(1234)\n",
    "mod_ = rpt(cbind(perc_1_Zone_while_WG_open, perc_NOT1_Zone_while_WG_open) ~ time + time2 + avgDIB_scale + Treatment + InitialWeight_scale + (1|HenID),\n",
    "               grname=c(\"HenID\"), datatype = \"Proportion\", data=df, nboot = nboot_, npermut = npermut_) \n",
    "mod_\n",
    "sim_res = simulateResiduals(mod_$mod, n=1000)\n",
    "plot(sim_res)\n",
    "#tests if the overall distribution conforms to expectations\n",
    "testUniformity(sim_res)\n",
    "#fits a quantile regression or residuals against a predictor (default predicted value), and tests of this conforms to the \n",
    "#expected quantile\n",
    "testQuantiles(sim_res)\n",
    "\n",
    "#against predictors\n",
    "plotResiduals(sim_res, df$time, quantreg = T)\n",
    "plotResiduals(sim_res, df$time2, quantreg = T)\n",
    "plotResiduals(sim_res, df$avgDIB_scale, quantreg = T)\n",
    "plotResiduals(sim_res, df$temperature_C_avg_scale, quantreg = T)\n",
    "plotResiduals(sim_res, df$InitialWeight_scale, quantreg = T)\n",
    "testCategorical(sim_res, catPred = df$Treatment) #more info than: plotResiduals(sim_res, df$Treatment, quantreg = T)\n",
    "\n",
    "#tests if there are more simulation outliers than expected\n",
    "testOutliers(sim_res)\n",
    "\n",
    "#plot shows the simulated number of zeroes with your actual number shown as red. You have fewer zeroes than expected if the red\n",
    "#line is on the left\n",
    "testZeroInflation(sim_res)\n",
    "\n",
    "#tests if the simulated dispersion is equal to the observed dispersion\n",
    "#This function performs a simulation-based test for over/underdispersion\n",
    "#plot shows your actual dispersion with a histogram of simulated residuals. \n",
    "#Since the red  value is to the left it indicates that the model has under-dispersion\n",
    "testDispersion(sim_res)"
   ]
  },
  {
   "cell_type": "code",
   "execution_count": null,
   "metadata": {},
   "outputs": [],
   "source": []
  },
  {
   "cell_type": "code",
   "execution_count": null,
   "metadata": {},
   "outputs": [],
   "source": []
  },
  {
   "cell_type": "code",
   "execution_count": 118,
   "metadata": {},
   "outputs": [
    {
     "name": "stderr",
     "output_type": "stream",
     "text": [
      "Warning message in checkConv(attr(opt, \"derivs\"), opt$par, ctrl = control$checkConv, :\n",
      "\"Model failed to converge with max|grad| = 0.00208229 (tol = 0.002, component 1)\"\n",
      "Warning message in checkConv(attr(opt, \"derivs\"), opt$par, ctrl = control$checkConv, :\n",
      "\"Model failed to converge with max|grad| = 0.00213309 (tol = 0.002, component 1)\"\n"
     ]
    },
    {
     "data": {
      "text/plain": [
       "\n",
       "ORDINARY NONPARAMETRIC BOOTSTRAP\n",
       "\n",
       "\n",
       "Call:\n",
       "boot(data = df, statistic = li_CORR, R = 1000, formula = PC1 ~ \n",
       "    time + time2 + avgDIB_scale + Treatment + temperature_C_avg_scale + \n",
       "        InitialWeight_scale + (1 + time + time2 | HenID))\n",
       "\n",
       "\n",
       "Bootstrap Statistics :\n",
       "      original      bias    std. error\n",
       "t1* -0.6884144 -0.03079234  0.02623106\n",
       "t2*  0.4052987  0.05795600  0.04515307\n",
       "t3* -0.8944362 -0.01412817  0.01016101"
      ]
     },
     "metadata": {},
     "output_type": "display_data"
    },
    {
     "data": {
      "text/plain": [
       "BOOTSTRAP CONFIDENCE INTERVAL CALCULATIONS\n",
       "Based on 1000 bootstrap replicates\n",
       "\n",
       "CALL : \n",
       "boot.ci(boot.out = output, type = \"perc\")\n",
       "\n",
       "Intervals : \n",
       "Level     Percentile     \n",
       "95%   (-0.7678, -0.6621 )  \n",
       "Calculations and Intervals on Original Scale"
      ]
     },
     "metadata": {},
     "output_type": "display_data"
    },
    {
     "data": {
      "image/png": "[encoded data removed]",
      "text/plain": [
       "Plot with title \"Histogram of t\""
      ]
     },
     "metadata": {
      "image/png": {
       "height": 420,
       "width": 420
      }
     },
     "output_type": "display_data"
    }
   ],
   "source": [
    "# Creating Function to obtain R-Squared from the data\n",
    "li_CORR <- function(formula, data, indices) {\n",
    "    val <- data[indices,] # selecting sample with boot \n",
    "    mod_ = lmer(formula, REML=TRUE, data=val, control = lmerControl(optimizer ='optimx', optCtrl=list(method='nlminb')))\n",
    "    ranef_vals = data.frame(VarCorr(mod_))\n",
    "    return(c(ranef_vals$sdcor[4], ranef_vals$sdcor[5],ranef_vals$sdcor[6]))\n",
    "    #return(ranef_vals$sdcor[4])\n",
    "} \n",
    "# Performing 1500 replications with boot \n",
    "#R: nbr of bootstrap replicates.\n",
    "#statistic: The function should include an indices parameter that the boot() function can use to select cases for each \n",
    "#replication\n",
    "#we can add the parameters that has to be passed to the function that produces the statistic of interest, in this case: formula\n",
    "output <- boot(data=df, statistic=li_CORR, R=1000, formula=PC1 ~ time + time2 + avgDIB_scale + Treatment + temperature_C_avg_scale + InitialWeight_scale + (1 + time + time2|HenID))\n",
    "output\n",
    "# Plotting the output \n",
    "plot(output)\n",
    "\n",
    "# Obtaining a confidence interval of 95%\n",
    "boot.ci(output, type=\"perc\")"
   ]
  },
  {
   "cell_type": "code",
   "execution_count": 98,
   "metadata": {},
   "outputs": [
    {
     "data": {
      "text/html": [
       "<table class=\"dataframe\">\n",
       "<caption>A data.frame: 7 × 5</caption>\n",
       "<thead>\n",
       "\t<tr><th scope=col>grp</th><th scope=col>var1</th><th scope=col>var2</th><th scope=col>vcov</th><th scope=col>sdcor</th></tr>\n",
       "\t<tr><th scope=col>&lt;chr&gt;</th><th scope=col>&lt;chr&gt;</th><th scope=col>&lt;chr&gt;</th><th scope=col>&lt;dbl&gt;</th><th scope=col>&lt;dbl&gt;</th></tr>\n",
       "</thead>\n",
       "<tbody>\n",
       "\t<tr><td>HenID   </td><td>(Intercept)</td><td>NA   </td><td> 1.25023987</td><td> 1.1181413</td></tr>\n",
       "\t<tr><td>HenID   </td><td>time       </td><td>NA   </td><td> 0.79362560</td><td> 0.8908567</td></tr>\n",
       "\t<tr><td>HenID   </td><td>time2      </td><td>NA   </td><td> 0.04674971</td><td> 0.2162168</td></tr>\n",
       "\t<tr><td>HenID   </td><td>(Intercept)</td><td>time </td><td>-0.68573205</td><td>-0.6884144</td></tr>\n",
       "\t<tr><td>HenID   </td><td>(Intercept)</td><td>time2</td><td> 0.09798539</td><td> 0.4052987</td></tr>\n",
       "\t<tr><td>HenID   </td><td>time       </td><td>time2</td><td>-0.17228469</td><td>-0.8944362</td></tr>\n",
       "\t<tr><td>Residual</td><td>NA         </td><td>NA   </td><td> 0.25835531</td><td> 0.5082866</td></tr>\n",
       "</tbody>\n",
       "</table>\n"
      ],
      "text/latex": [
       "A data.frame: 7 × 5\n",
       "\\begin{tabular}{lllll}\n",
       " grp & var1 & var2 & vcov & sdcor\\\\\n",
       " <chr> & <chr> & <chr> & <dbl> & <dbl>\\\\\n",
       "\\hline\n",
       "\t HenID    & (Intercept) & NA    &  1.25023987 &  1.1181413\\\\\n",
       "\t HenID    & time        & NA    &  0.79362560 &  0.8908567\\\\\n",
       "\t HenID    & time2       & NA    &  0.04674971 &  0.2162168\\\\\n",
       "\t HenID    & (Intercept) & time  & -0.68573205 & -0.6884144\\\\\n",
       "\t HenID    & (Intercept) & time2 &  0.09798539 &  0.4052987\\\\\n",
       "\t HenID    & time        & time2 & -0.17228469 & -0.8944362\\\\\n",
       "\t Residual & NA          & NA    &  0.25835531 &  0.5082866\\\\\n",
       "\\end{tabular}\n"
      ],
      "text/markdown": [
       "\n",
       "A data.frame: 7 × 5\n",
       "\n",
       "| grp &lt;chr&gt; | var1 &lt;chr&gt; | var2 &lt;chr&gt; | vcov &lt;dbl&gt; | sdcor &lt;dbl&gt; |\n",
       "|---|---|---|---|---|\n",
       "| HenID    | (Intercept) | NA    |  1.25023987 |  1.1181413 |\n",
       "| HenID    | time        | NA    |  0.79362560 |  0.8908567 |\n",
       "| HenID    | time2       | NA    |  0.04674971 |  0.2162168 |\n",
       "| HenID    | (Intercept) | time  | -0.68573205 | -0.6884144 |\n",
       "| HenID    | (Intercept) | time2 |  0.09798539 |  0.4052987 |\n",
       "| HenID    | time        | time2 | -0.17228469 | -0.8944362 |\n",
       "| Residual | NA          | NA    |  0.25835531 |  0.5082866 |\n",
       "\n"
      ],
      "text/plain": [
       "  grp      var1        var2  vcov        sdcor     \n",
       "1 HenID    (Intercept) NA     1.25023987  1.1181413\n",
       "2 HenID    time        NA     0.79362560  0.8908567\n",
       "3 HenID    time2       NA     0.04674971  0.2162168\n",
       "4 HenID    (Intercept) time  -0.68573205 -0.6884144\n",
       "5 HenID    (Intercept) time2  0.09798539  0.4052987\n",
       "6 HenID    time        time2 -0.17228469 -0.8944362\n",
       "7 Residual NA          NA     0.25835531  0.5082866"
      ]
     },
     "metadata": {},
     "output_type": "display_data"
    },
    {
     "data": {
      "text/html": [
       "-0.688414399322686"
      ],
      "text/latex": [
       "-0.688414399322686"
      ],
      "text/markdown": [
       "-0.688414399322686"
      ],
      "text/plain": [
       "[1] -0.6884144"
      ]
     },
     "metadata": {},
     "output_type": "display_data"
    },
    {
     "data": {
      "text/html": [
       "0.405298678949493"
      ],
      "text/latex": [
       "0.405298678949493"
      ],
      "text/markdown": [
       "0.405298678949493"
      ],
      "text/plain": [
       "[1] 0.4052987"
      ]
     },
     "metadata": {},
     "output_type": "display_data"
    },
    {
     "data": {
      "text/html": [
       "-0.894436187479545"
      ],
      "text/latex": [
       "-0.894436187479545"
      ],
      "text/markdown": [
       "-0.894436187479545"
      ],
      "text/plain": [
       "[1] -0.8944362"
      ]
     },
     "metadata": {},
     "output_type": "display_data"
    }
   ],
   "source": [
    "ranef_vals = data.frame(VarCorr(MPL2))\n",
    "ranef_vals\n",
    "ranef_vals$sdcor[4]#intercept time\n",
    "ranef_vals$sdcor[5]#intercept time2\n",
    "ranef_vals$sdcor[6]#time time2"
   ]
  },
  {
   "cell_type": "markdown",
   "metadata": {},
   "source": [
    "### third order"
   ]
  },
  {
   "cell_type": "code",
   "execution_count": 52,
   "metadata": {},
   "outputs": [
    {
     "data": {
      "text/plain": [
       "Linear mixed model fit by REML. t-tests use Satterthwaite's method [\n",
       "lmerModLmerTest]\n",
       "Formula: \n",
       "PC1 ~ time + time2 + time3 + avgDIB_scale + Treatment + temperature_C_avg_scale +  \n",
       "    InitialWeight_scale + (1 + time + time2 | HenID)\n",
       "   Data: df\n",
       "Control: lmerControl(optimizer = \"optimx\", optCtrl = list(method = \"nlminb\"))\n",
       "\n",
       "REML criterion at convergence: 5568.5\n",
       "\n",
       "Scaled residuals: \n",
       "    Min      1Q  Median      3Q     Max \n",
       "-4.2104 -0.5814 -0.0178  0.5628  4.4951 \n",
       "\n",
       "Random effects:\n",
       " Groups   Name        Variance Std.Dev. Corr       \n",
       " HenID    (Intercept) 1.25130  1.1186              \n",
       "          time        0.79449  0.8913   -0.69      \n",
       "          time2       0.04679  0.2163    0.41 -0.89\n",
       " Residual             0.25839  0.5083              \n",
       "Number of obs: 3230, groups:  HenID, 80\n",
       "\n",
       "Fixed effects:\n",
       "                          Estimate Std. Error         df t value Pr(>|t|)    \n",
       "(Intercept)             -6.848e-01  1.495e-01  1.059e+02  -4.581 1.27e-05 ***\n",
       "time                     1.173e+00  1.324e-01  1.887e+02   8.861 5.85e-16 ***\n",
       "time2                   -2.883e-01  6.134e-02  1.557e+03  -4.699 2.84e-06 ***\n",
       "time3                    7.318e-03  1.053e-02  2.996e+03   0.695  0.48730    \n",
       "avgDIB_scale             4.909e-02  6.985e-02  7.607e+01   0.703  0.48433    \n",
       "TreatmentOFH            -2.907e-01  1.418e-01  7.600e+01  -2.050  0.04379 *  \n",
       "temperature_C_avg_scale -2.810e-02  1.053e-02  2.991e+03  -2.668  0.00766 ** \n",
       "InitialWeight_scale     -6.736e-02  7.128e-02  7.600e+01  -0.945  0.34767    \n",
       "---\n",
       "Signif. codes:  0 '***' 0.001 '**' 0.01 '*' 0.05 '.' 0.1 ' ' 1\n",
       "\n",
       "Correlation of Fixed Effects:\n",
       "            (Intr) time   time2  time3  avDIB_ TrtOFH tm_C__\n",
       "time        -0.578                                          \n",
       "time2        0.301 -0.846                                   \n",
       "time3       -0.155  0.586 -0.901                            \n",
       "avgDIB_scal  0.006 -0.007  0.008 -0.008                     \n",
       "TreatmntOFH -0.484 -0.002  0.003 -0.003 -0.052              \n",
       "tmprtr_C_v_  0.021 -0.044 -0.025  0.117 -0.002 -0.002       \n",
       "IntlWght_sc  0.083  0.000  0.000  0.000  0.111 -0.180  0.000"
      ]
     },
     "metadata": {},
     "output_type": "display_data"
    },
    {
     "data": {
      "text/html": [
       "<table class=\"dataframe\">\n",
       "<caption>A matrix: 1 × 2 of type dbl</caption>\n",
       "<thead>\n",
       "\t<tr><th scope=col>R2m</th><th scope=col>R2c</th></tr>\n",
       "</thead>\n",
       "<tbody>\n",
       "\t<tr><td>0.1360992</td><td>0.7372506</td></tr>\n",
       "</tbody>\n",
       "</table>\n"
      ],
      "text/latex": [
       "A matrix: 1 × 2 of type dbl\n",
       "\\begin{tabular}{ll}\n",
       " R2m & R2c\\\\\n",
       "\\hline\n",
       "\t 0.1360992 & 0.7372506\\\\\n",
       "\\end{tabular}\n"
      ],
      "text/markdown": [
       "\n",
       "A matrix: 1 × 2 of type dbl\n",
       "\n",
       "| R2m | R2c |\n",
       "|---|---|\n",
       "| 0.1360992 | 0.7372506 |\n",
       "\n"
      ],
      "text/plain": [
       "     R2m       R2c      \n",
       "[1,] 0.1360992 0.7372506"
      ]
     },
     "metadata": {},
     "output_type": "display_data"
    },
    {
     "data": {
      "image/png": "[encoded data removed]",
      "text/plain": [
       "Plot with title \"Normal Q-Q Plot\""
      ]
     },
     "metadata": {
      "image/png": {
       "height": 420,
       "width": 420
      }
     },
     "output_type": "display_data"
    },
    {
     "data": {
      "image/png": "[encoded data removed]",
      "text/plain": [
       "Plot with title \"Histogram of resid(MPL3)\""
      ]
     },
     "metadata": {
      "image/png": {
       "height": 420,
       "width": 420
      }
     },
     "output_type": "display_data"
    },
    {
     "data": {
      "image/png": "[encoded data removed]",
      "text/plain": [
       "plot without title"
      ]
     },
     "metadata": {
      "image/png": {
       "height": 420,
       "width": 420
      }
     },
     "output_type": "display_data"
    }
   ],
   "source": [
    "#test whether a nonlinear random slope over DIB improve model fit\n",
    "MPL3 = lmer(PC1 ~ time + time2 + time3 + avgDIB_scale + Treatment + temperature_C_avg_scale + InitialWeight_scale + (1 + time + time2|HenID), \n",
    "                REML=TRUE, data=df, control = lmerControl(optimizer ='optimx', optCtrl=list(method='nlminb')))\n",
    "summary(MPL3)\n",
    "r.squaredGLMM(MPL3)\n",
    "###### normally distributed residuals\n",
    "qqnorm(resid(MPL3))\n",
    "qqline(resid(MPL3))\n",
    "hist(resid(MPL3))\n",
    "######check homogeneity of variance (residuals has constant variance)\n",
    "plot(MPL3)"
   ]
  },
  {
   "cell_type": "markdown",
   "metadata": {},
   "source": [
    "## Comparing models"
   ]
  },
  {
   "cell_type": "code",
   "execution_count": 23,
   "metadata": {},
   "outputs": [
    {
     "data": {
      "text/html": [
       "<table class=\"dataframe\">\n",
       "<caption>A data.frame: 4 × 2</caption>\n",
       "<thead>\n",
       "\t<tr><th></th><th scope=col>df</th><th scope=col>AIC</th></tr>\n",
       "\t<tr><th></th><th scope=col>&lt;dbl&gt;</th><th scope=col>&lt;dbl&gt;</th></tr>\n",
       "</thead>\n",
       "<tbody>\n",
       "\t<tr><th scope=row>MAVG_nopen_noclass</th><td> 9</td><td>6939.407</td></tr>\n",
       "\t<tr><th scope=row>MPL1</th><td>11</td><td>5892.547</td></tr>\n",
       "\t<tr><th scope=row>MPL2</th><td>14</td><td>5589.740</td></tr>\n",
       "\t<tr><th scope=row>MPL3</th><td>15</td><td>5598.526</td></tr>\n",
       "</tbody>\n",
       "</table>\n"
      ],
      "text/latex": [
       "A data.frame: 4 × 2\n",
       "\\begin{tabular}{r|ll}\n",
       "  & df & AIC\\\\\n",
       "  & <dbl> & <dbl>\\\\\n",
       "\\hline\n",
       "\tMAVG\\_nopen\\_noclass &  9 & 6939.407\\\\\n",
       "\tMPL1 & 11 & 5892.547\\\\\n",
       "\tMPL2 & 14 & 5589.740\\\\\n",
       "\tMPL3 & 15 & 5598.526\\\\\n",
       "\\end{tabular}\n"
      ],
      "text/markdown": [
       "\n",
       "A data.frame: 4 × 2\n",
       "\n",
       "| <!--/--> | df &lt;dbl&gt; | AIC &lt;dbl&gt; |\n",
       "|---|---|---|\n",
       "| MAVG_nopen_noclass |  9 | 6939.407 |\n",
       "| MPL1 | 11 | 5892.547 |\n",
       "| MPL2 | 14 | 5589.740 |\n",
       "| MPL3 | 15 | 5598.526 |\n",
       "\n"
      ],
      "text/plain": [
       "                   df AIC     \n",
       "MAVG_nopen_noclass  9 6939.407\n",
       "MPL1               11 5892.547\n",
       "MPL2               14 5589.740\n",
       "MPL3               15 5598.526"
      ]
     },
     "metadata": {},
     "output_type": "display_data"
    }
   ],
   "source": [
    "AIC(MAVG_nopen_noclass, MPL1, MPL2, MPL3)"
   ]
  },
  {
   "cell_type": "code",
   "execution_count": 24,
   "metadata": {},
   "outputs": [
    {
     "data": {
      "text/plain": [
       "'log Lik.' -3460.704 (df=9)"
      ]
     },
     "metadata": {},
     "output_type": "display_data"
    },
    {
     "data": {
      "text/plain": [
       "'log Lik.' -2935.274 (df=11)"
      ]
     },
     "metadata": {},
     "output_type": "display_data"
    },
    {
     "data": {
      "text/html": [
       "<table class=\"dataframe\">\n",
       "<caption>A data.frame: 2 × 2</caption>\n",
       "<thead>\n",
       "\t<tr><th></th><th scope=col>df</th><th scope=col>AIC</th></tr>\n",
       "\t<tr><th></th><th scope=col>&lt;dbl&gt;</th><th scope=col>&lt;dbl&gt;</th></tr>\n",
       "</thead>\n",
       "<tbody>\n",
       "\t<tr><th scope=row>MAVG_nopen_noclass</th><td> 9</td><td>6939.407</td></tr>\n",
       "\t<tr><th scope=row>MPL1</th><td>11</td><td>5892.547</td></tr>\n",
       "</tbody>\n",
       "</table>\n"
      ],
      "text/latex": [
       "A data.frame: 2 × 2\n",
       "\\begin{tabular}{r|ll}\n",
       "  & df & AIC\\\\\n",
       "  & <dbl> & <dbl>\\\\\n",
       "\\hline\n",
       "\tMAVG\\_nopen\\_noclass &  9 & 6939.407\\\\\n",
       "\tMPL1 & 11 & 5892.547\\\\\n",
       "\\end{tabular}\n"
      ],
      "text/markdown": [
       "\n",
       "A data.frame: 2 × 2\n",
       "\n",
       "| <!--/--> | df &lt;dbl&gt; | AIC &lt;dbl&gt; |\n",
       "|---|---|---|\n",
       "| MAVG_nopen_noclass |  9 | 6939.407 |\n",
       "| MPL1 | 11 | 5892.547 |\n",
       "\n"
      ],
      "text/plain": [
       "                   df AIC     \n",
       "MAVG_nopen_noclass  9 6939.407\n",
       "MPL1               11 5892.547"
      ]
     },
     "metadata": {},
     "output_type": "display_data"
    },
    {
     "data": {
      "text/plain": [
       "'log Lik.' 1050.86 (df=9)"
      ]
     },
     "metadata": {},
     "output_type": "display_data"
    },
    {
     "data": {
      "text/plain": [
       "'log Lik.' 0 (df=9)"
      ]
     },
     "metadata": {},
     "output_type": "display_data"
    }
   ],
   "source": [
    "#LRT from anova is not correct anymore as we compare parameters that are on the boundery (random effects)\n",
    "#LRT MAVG2 and MPL1 (i.e. compare  model with the random intercept and the model with random intercept and slope)\n",
    "#Same as my citation from: https://link.springer.com/content/pdf/10.1007%2F978-0-387-87458-6_5.pdf (chapter 5 of the book)\n",
    "summary(MAVG_nopen_noclass)$logLik\n",
    "summary(MPL1)$logLik\n",
    "AIC(MAVG_nopen_noclass, MPL1)\n",
    "L = -2*(summary(MAVG_nopen_noclass)$logLik -summary(MPL1)$logLik)\n",
    "L\n",
    "pval = 0.5 * ((1 - pchisq(L, df=1)) + (1 - pchisq(L, df=2))) \n",
    "pval\n",
    "#if p-value < 0.001. reject H0, This means that adding random slope to the model is a significant improvement"
   ]
  },
  {
   "cell_type": "code",
   "execution_count": 31,
   "metadata": {},
   "outputs": [
    {
     "data": {
      "text/html": [
       "<table class=\"dataframe\">\n",
       "<caption>A data.frame: 2 × 2</caption>\n",
       "<thead>\n",
       "\t<tr><th></th><th scope=col>df</th><th scope=col>AIC</th></tr>\n",
       "\t<tr><th></th><th scope=col>&lt;dbl&gt;</th><th scope=col>&lt;dbl&gt;</th></tr>\n",
       "</thead>\n",
       "<tbody>\n",
       "\t<tr><th scope=row>MPL2</th><td>14</td><td>5589.740</td></tr>\n",
       "\t<tr><th scope=row>MPL1</th><td>11</td><td>5892.547</td></tr>\n",
       "</tbody>\n",
       "</table>\n"
      ],
      "text/latex": [
       "A data.frame: 2 × 2\n",
       "\\begin{tabular}{r|ll}\n",
       "  & df & AIC\\\\\n",
       "  & <dbl> & <dbl>\\\\\n",
       "\\hline\n",
       "\tMPL2 & 14 & 5589.740\\\\\n",
       "\tMPL1 & 11 & 5892.547\\\\\n",
       "\\end{tabular}\n"
      ],
      "text/markdown": [
       "\n",
       "A data.frame: 2 × 2\n",
       "\n",
       "| <!--/--> | df &lt;dbl&gt; | AIC &lt;dbl&gt; |\n",
       "|---|---|---|\n",
       "| MPL2 | 14 | 5589.740 |\n",
       "| MPL1 | 11 | 5892.547 |\n",
       "\n"
      ],
      "text/plain": [
       "     df AIC     \n",
       "MPL2 14 5589.740\n",
       "MPL1 11 5892.547"
      ]
     },
     "metadata": {},
     "output_type": "display_data"
    },
    {
     "data": {
      "text/plain": [
       "'log Lik.' 308.8068 (df=11)"
      ]
     },
     "metadata": {},
     "output_type": "display_data"
    },
    {
     "data": {
      "text/plain": [
       "'log Lik.' 0 (df=11)"
      ]
     },
     "metadata": {},
     "output_type": "display_data"
    }
   ],
   "source": [
    "#LRT MPL1 and MPL2 (i.e. with DPT compared to DPT2)\n",
    "#Same as before as its a special case of only one parameter hitting the boundary\n",
    "#should be correct based on https://stats.stackexchange.com/questions/16013/allowed-comparisons-of-mixed-effects-models-random-effects-primarily/16015#16015\n",
    "AIC(MPL2, MPL1)\n",
    "L = -2*(summary(MPL1)$logLik -summary(MPL2)$logLik)\n",
    "L\n",
    "pval = 0.5 * ((1 - pchisq(L, df=1)) + (1 - pchisq(L, df=2))) \n",
    "pval\n",
    "#if p-value < 0.001. reject H0, This means that adding quadratic term to the model is a significant improvement: use the more complex model!"
   ]
  },
  {
   "cell_type": "code",
   "execution_count": 27,
   "metadata": {},
   "outputs": [
    {
     "data": {
      "text/plain": [
       "'log Lik.' 0 (df=11)"
      ]
     },
     "metadata": {},
     "output_type": "display_data"
    },
    {
     "data": {
      "text/plain": [
       "'log Lik.' 0 (df=14)"
      ]
     },
     "metadata": {},
     "output_type": "display_data"
    }
   ],
   "source": [
    "#from arnold guide, in reference\n",
    "chi2 <-2*(summary(MPL1)$logLik -summary(MAVG_nopen_noclass)$logLik)\n",
    "1-pchisq(chi2, 2)\n",
    "\n",
    "chi2 <-2*(summary(MPL2)$logLik -summary(MPL1)$logLik)\n",
    "1-pchisq(chi2, 2)"
   ]
  },
  {
   "cell_type": "markdown",
   "metadata": {},
   "source": [
    "# Save BLUPS estimates"
   ]
  },
  {
   "cell_type": "code",
   "execution_count": 32,
   "metadata": {},
   "outputs": [
    {
     "data": {
      "text/html": [
       "<table class=\"dataframe\">\n",
       "<caption>A data.frame: 3 × 6</caption>\n",
       "<thead>\n",
       "\t<tr><th></th><th scope=col>groupFctr</th><th scope=col>groupID</th><th scope=col>term</th><th scope=col>mean</th><th scope=col>median</th><th scope=col>sd</th></tr>\n",
       "\t<tr><th></th><th scope=col>&lt;chr&gt;</th><th scope=col>&lt;chr&gt;</th><th scope=col>&lt;chr&gt;</th><th scope=col>&lt;dbl&gt;</th><th scope=col>&lt;dbl&gt;</th><th scope=col>&lt;dbl&gt;</th></tr>\n",
       "</thead>\n",
       "<tbody>\n",
       "\t<tr><th scope=row>1</th><td>HenID</td><td>hen_10 </td><td>(Intercept)</td><td>-0.4629900</td><td>-0.4578683</td><td>0.1929582</td></tr>\n",
       "\t<tr><th scope=row>2</th><td>HenID</td><td>hen_101</td><td>(Intercept)</td><td> 0.5049087</td><td> 0.5040936</td><td>0.1863260</td></tr>\n",
       "\t<tr><th scope=row>3</th><td>HenID</td><td>hen_102</td><td>(Intercept)</td><td>-1.3716680</td><td>-1.3654082</td><td>0.1701152</td></tr>\n",
       "</tbody>\n",
       "</table>\n"
      ],
      "text/latex": [
       "A data.frame: 3 × 6\n",
       "\\begin{tabular}{r|llllll}\n",
       "  & groupFctr & groupID & term & mean & median & sd\\\\\n",
       "  & <chr> & <chr> & <chr> & <dbl> & <dbl> & <dbl>\\\\\n",
       "\\hline\n",
       "\t1 & HenID & hen\\_10  & (Intercept) & -0.4629900 & -0.4578683 & 0.1929582\\\\\n",
       "\t2 & HenID & hen\\_101 & (Intercept) &  0.5049087 &  0.5040936 & 0.1863260\\\\\n",
       "\t3 & HenID & hen\\_102 & (Intercept) & -1.3716680 & -1.3654082 & 0.1701152\\\\\n",
       "\\end{tabular}\n"
      ],
      "text/markdown": [
       "\n",
       "A data.frame: 3 × 6\n",
       "\n",
       "| <!--/--> | groupFctr &lt;chr&gt; | groupID &lt;chr&gt; | term &lt;chr&gt; | mean &lt;dbl&gt; | median &lt;dbl&gt; | sd &lt;dbl&gt; |\n",
       "|---|---|---|---|---|---|---|\n",
       "| 1 | HenID | hen_10  | (Intercept) | -0.4629900 | -0.4578683 | 0.1929582 |\n",
       "| 2 | HenID | hen_101 | (Intercept) |  0.5049087 |  0.5040936 | 0.1863260 |\n",
       "| 3 | HenID | hen_102 | (Intercept) | -1.3716680 | -1.3654082 | 0.1701152 |\n",
       "\n"
      ],
      "text/plain": [
       "  groupFctr groupID term        mean       median     sd       \n",
       "1 HenID     hen_10  (Intercept) -0.4629900 -0.4578683 0.1929582\n",
       "2 HenID     hen_101 (Intercept)  0.5049087  0.5040936 0.1863260\n",
       "3 HenID     hen_102 (Intercept) -1.3716680 -1.3654082 0.1701152"
      ]
     },
     "metadata": {},
     "output_type": "display_data"
    }
   ],
   "source": [
    "#BLUP intercepts: behavioural type individual estiamtes with mer-Tools (obtaining repeated samples from the posterior distribution\n",
    "#of the model from which we can calculate the stdev for each individual)\n",
    "#as PC1 is not interpretable as much as \"total distance travelled\" would, we wont add the population-level estimate\n",
    "#done in \"studing...\"\n",
    "#as for our purpose it wont change anything\n",
    "set.seed(1)\n",
    "simulated_individualbehaviouraltype = REsim(MAVG_nopen_noclass, n.sims = 1000)\n",
    "head(simulated_individualbehaviouraltype,3)\n",
    "write.csv(simulated_individualbehaviouraltype,file.path(path_adapt,'BLUP_RI.csv'),row.names = FALSE)"
   ]
  },
  {
   "cell_type": "code",
   "execution_count": 33,
   "metadata": {},
   "outputs": [
    {
     "data": {
      "text/html": [
       "<table class=\"dataframe\">\n",
       "<caption>A data.frame: 3 × 6</caption>\n",
       "<thead>\n",
       "\t<tr><th></th><th scope=col>groupFctr</th><th scope=col>groupID</th><th scope=col>term</th><th scope=col>mean</th><th scope=col>median</th><th scope=col>sd</th></tr>\n",
       "\t<tr><th></th><th scope=col>&lt;chr&gt;</th><th scope=col>&lt;chr&gt;</th><th scope=col>&lt;chr&gt;</th><th scope=col>&lt;dbl&gt;</th><th scope=col>&lt;dbl&gt;</th><th scope=col>&lt;dbl&gt;</th></tr>\n",
       "</thead>\n",
       "<tbody>\n",
       "\t<tr><th scope=row>1</th><td>HenID</td><td>hen_10 </td><td>(Intercept)</td><td>-0.5861989</td><td>-0.601151</td><td>0.4292578</td></tr>\n",
       "\t<tr><th scope=row>2</th><td>HenID</td><td>hen_101</td><td>(Intercept)</td><td> 1.3328486</td><td> 1.341114</td><td>0.4996878</td></tr>\n",
       "\t<tr><th scope=row>3</th><td>HenID</td><td>hen_102</td><td>(Intercept)</td><td>-1.0508464</td><td>-1.034537</td><td>0.4619583</td></tr>\n",
       "</tbody>\n",
       "</table>\n"
      ],
      "text/latex": [
       "A data.frame: 3 × 6\n",
       "\\begin{tabular}{r|llllll}\n",
       "  & groupFctr & groupID & term & mean & median & sd\\\\\n",
       "  & <chr> & <chr> & <chr> & <dbl> & <dbl> & <dbl>\\\\\n",
       "\\hline\n",
       "\t1 & HenID & hen\\_10  & (Intercept) & -0.5861989 & -0.601151 & 0.4292578\\\\\n",
       "\t2 & HenID & hen\\_101 & (Intercept) &  1.3328486 &  1.341114 & 0.4996878\\\\\n",
       "\t3 & HenID & hen\\_102 & (Intercept) & -1.0508464 & -1.034537 & 0.4619583\\\\\n",
       "\\end{tabular}\n"
      ],
      "text/markdown": [
       "\n",
       "A data.frame: 3 × 6\n",
       "\n",
       "| <!--/--> | groupFctr &lt;chr&gt; | groupID &lt;chr&gt; | term &lt;chr&gt; | mean &lt;dbl&gt; | median &lt;dbl&gt; | sd &lt;dbl&gt; |\n",
       "|---|---|---|---|---|---|---|\n",
       "| 1 | HenID | hen_10  | (Intercept) | -0.5861989 | -0.601151 | 0.4292578 |\n",
       "| 2 | HenID | hen_101 | (Intercept) |  1.3328486 |  1.341114 | 0.4996878 |\n",
       "| 3 | HenID | hen_102 | (Intercept) | -1.0508464 | -1.034537 | 0.4619583 |\n",
       "\n"
      ],
      "text/plain": [
       "  groupFctr groupID term        mean       median    sd       \n",
       "1 HenID     hen_10  (Intercept) -0.5861989 -0.601151 0.4292578\n",
       "2 HenID     hen_101 (Intercept)  1.3328486  1.341114 0.4996878\n",
       "3 HenID     hen_102 (Intercept) -1.0508464 -1.034537 0.4619583"
      ]
     },
     "metadata": {},
     "output_type": "display_data"
    }
   ],
   "source": [
    "#BLUP: individual estimates with uncertainty values\n",
    "set.seed(1)\n",
    "#REsim already synthesis results compare to the sim(). I verified manually\n",
    "simulated_individualplasticity = REsim(MPL2, n.sim = 1000)\n",
    "head(simulated_individualplasticity,3)\n",
    "write.csv(simulated_individualplasticity, file.path(path_adapt,'BLUP_RR.csv'), row.names = FALSE)"
   ]
  },
  {
   "cell_type": "markdown",
   "metadata": {},
   "source": [
    "# Save predictions "
   ]
  },
  {
   "cell_type": "code",
   "execution_count": 34,
   "metadata": {},
   "outputs": [
    {
     "data": {
      "text/html": [
       "<table class=\"dataframe\">\n",
       "<caption>A data.frame: 3 × 35</caption>\n",
       "<thead>\n",
       "\t<tr><th></th><th scope=col>HenID</th><th scope=col>DIB</th><th scope=col>CLASS</th><th scope=col>PenID</th><th scope=col>temperature_C_avg</th><th scope=col>tobeusedPCA</th><th scope=col>InitialWeight</th><th scope=col>Treatment</th><th scope=col>perc_duration_5_Zone</th><th scope=col>perc_duration_4_Zone</th><th scope=col>...</th><th scope=col>PC1</th><th scope=col>cDIB</th><th scope=col>temperature_C_avg_scale</th><th scope=col>time</th><th scope=col>time2</th><th scope=col>time3</th><th scope=col>avgDIB_scale</th><th scope=col>InitialWeight_scale</th><th scope=col>pred_pop</th><th scope=col>pred_HenID</th></tr>\n",
       "\t<tr><th></th><th scope=col>&lt;fct&gt;</th><th scope=col>&lt;int&gt;</th><th scope=col>&lt;fct&gt;</th><th scope=col>&lt;fct&gt;</th><th scope=col>&lt;dbl&gt;</th><th scope=col>&lt;int&gt;</th><th scope=col>&lt;int&gt;</th><th scope=col>&lt;fct&gt;</th><th scope=col>&lt;int&gt;</th><th scope=col>&lt;int&gt;</th><th scope=col>...</th><th scope=col>&lt;dbl&gt;</th><th scope=col>&lt;int&gt;</th><th scope=col>&lt;dbl[,1]&gt;</th><th scope=col>&lt;dbl[,1]&gt;</th><th scope=col>&lt;dbl&gt;</th><th scope=col>&lt;dbl&gt;</th><th scope=col>&lt;dbl[,1]&gt;</th><th scope=col>&lt;dbl[,1]&gt;</th><th scope=col>&lt;dbl&gt;</th><th scope=col>&lt;dbl&gt;</th></tr>\n",
       "</thead>\n",
       "<tbody>\n",
       "\t<tr><th scope=row>1</th><td>hen_134</td><td>11</td><td>MEXP</td><td>pen10</td><td>11.50000</td><td>1</td><td>1112</td><td>TRAN</td><td>100</td><td>0</td><td>...</td><td>-1.738433</td><td>0</td><td> 0.2080966</td><td>0.0000000</td><td>0.000000000</td><td>0.0000000000</td><td>-0.3677554</td><td>-0.9142959</td><td>-0.5819114</td><td>-1.0060080</td></tr>\n",
       "\t<tr><th scope=row>2</th><td>hen_134</td><td>12</td><td>MEXP</td><td>pen10</td><td>10.16667</td><td>0</td><td>1112</td><td>TRAN</td><td> 86</td><td>0</td><td>...</td><td>-1.455477</td><td>1</td><td>-0.2112122</td><td>0.0811546</td><td>0.006586069</td><td>0.0005344898</td><td>-0.3677554</td><td>-0.9142959</td><td>-0.4857389</td><td>-0.9098356</td></tr>\n",
       "\t<tr><th scope=row>3</th><td>hen_134</td><td>13</td><td>MEXP</td><td>pen10</td><td> 9.00000</td><td>0</td><td>1112</td><td>TRAN</td><td>100</td><td>0</td><td>...</td><td>-1.738433</td><td>2</td><td>-0.5781073</td><td>0.1623092</td><td>0.026344277</td><td>0.0042759186</td><td>-0.3677554</td><td>-0.9142959</td><td>-0.3941084</td><td>-0.8182050</td></tr>\n",
       "</tbody>\n",
       "</table>\n"
      ],
      "text/latex": [
       "A data.frame: 3 × 35\n",
       "\\begin{tabular}{r|lllllllllllllllllllll}\n",
       "  & HenID & DIB & CLASS & PenID & temperature\\_C\\_avg & tobeusedPCA & InitialWeight & Treatment & perc\\_duration\\_5\\_Zone & perc\\_duration\\_4\\_Zone & ... & PC1 & cDIB & temperature\\_C\\_avg\\_scale & time & time2 & time3 & avgDIB\\_scale & InitialWeight\\_scale & pred\\_pop & pred\\_HenID\\\\\n",
       "  & <fct> & <int> & <fct> & <fct> & <dbl> & <int> & <int> & <fct> & <int> & <int> & ... & <dbl> & <int> & <dbl{[},1{]}> & <dbl{[},1{]}> & <dbl> & <dbl> & <dbl{[},1{]}> & <dbl{[},1{]}> & <dbl> & <dbl>\\\\\n",
       "\\hline\n",
       "\t1 & hen\\_134 & 11 & MEXP & pen10 & 11.50000 & 1 & 1112 & TRAN & 100 & 0 & ... & -1.738433 & 0 &  0.2080966 & 0.0000000 & 0.000000000 & 0.0000000000 & -0.3677554 & -0.9142959 & -0.5819114 & -1.0060080\\\\\n",
       "\t2 & hen\\_134 & 12 & MEXP & pen10 & 10.16667 & 0 & 1112 & TRAN &  86 & 0 & ... & -1.455477 & 1 & -0.2112122 & 0.0811546 & 0.006586069 & 0.0005344898 & -0.3677554 & -0.9142959 & -0.4857389 & -0.9098356\\\\\n",
       "\t3 & hen\\_134 & 13 & MEXP & pen10 &  9.00000 & 0 & 1112 & TRAN & 100 & 0 & ... & -1.738433 & 2 & -0.5781073 & 0.1623092 & 0.026344277 & 0.0042759186 & -0.3677554 & -0.9142959 & -0.3941084 & -0.8182050\\\\\n",
       "\\end{tabular}\n"
      ],
      "text/markdown": [
       "\n",
       "A data.frame: 3 × 35\n",
       "\n",
       "| <!--/--> | HenID &lt;fct&gt; | DIB &lt;int&gt; | CLASS &lt;fct&gt; | PenID &lt;fct&gt; | temperature_C_avg &lt;dbl&gt; | tobeusedPCA &lt;int&gt; | InitialWeight &lt;int&gt; | Treatment &lt;fct&gt; | perc_duration_5_Zone &lt;int&gt; | perc_duration_4_Zone &lt;int&gt; | ... ... | PC1 &lt;dbl&gt; | cDIB &lt;int&gt; | temperature_C_avg_scale &lt;dbl[,1]&gt; | time &lt;dbl[,1]&gt; | time2 &lt;dbl&gt; | time3 &lt;dbl&gt; | avgDIB_scale &lt;dbl[,1]&gt; | InitialWeight_scale &lt;dbl[,1]&gt; | pred_pop &lt;dbl&gt; | pred_HenID &lt;dbl&gt; |\n",
       "|---|---|---|---|---|---|---|---|---|---|---|---|---|---|---|---|---|---|---|---|---|---|\n",
       "| 1 | hen_134 | 11 | MEXP | pen10 | 11.50000 | 1 | 1112 | TRAN | 100 | 0 | ... | -1.738433 | 0 |  0.2080966 | 0.0000000 | 0.000000000 | 0.0000000000 | -0.3677554 | -0.9142959 | -0.5819114 | -1.0060080 |\n",
       "| 2 | hen_134 | 12 | MEXP | pen10 | 10.16667 | 0 | 1112 | TRAN |  86 | 0 | ... | -1.455477 | 1 | -0.2112122 | 0.0811546 | 0.006586069 | 0.0005344898 | -0.3677554 | -0.9142959 | -0.4857389 | -0.9098356 |\n",
       "| 3 | hen_134 | 13 | MEXP | pen10 |  9.00000 | 0 | 1112 | TRAN | 100 | 0 | ... | -1.738433 | 2 | -0.5781073 | 0.1623092 | 0.026344277 | 0.0042759186 | -0.3677554 | -0.9142959 | -0.3941084 | -0.8182050 |\n",
       "\n"
      ],
      "text/plain": [
       "  HenID   DIB CLASS PenID temperature_C_avg tobeusedPCA InitialWeight Treatment\n",
       "1 hen_134 11  MEXP  pen10 11.50000          1           1112          TRAN     \n",
       "2 hen_134 12  MEXP  pen10 10.16667          0           1112          TRAN     \n",
       "3 hen_134 13  MEXP  pen10  9.00000          0           1112          TRAN     \n",
       "  perc_duration_5_Zone perc_duration_4_Zone ... PC1       cDIB\n",
       "1 100                  0                    ... -1.738433 0   \n",
       "2  86                  0                    ... -1.455477 1   \n",
       "3 100                  0                    ... -1.738433 2   \n",
       "  temperature_C_avg_scale time      time2       time3        avgDIB_scale\n",
       "1  0.2080966              0.0000000 0.000000000 0.0000000000 -0.3677554  \n",
       "2 -0.2112122              0.0811546 0.006586069 0.0005344898 -0.3677554  \n",
       "3 -0.5781073              0.1623092 0.026344277 0.0042759186 -0.3677554  \n",
       "  InitialWeight_scale pred_pop   pred_HenID\n",
       "1 -0.9142959          -0.5819114 -1.0060080\n",
       "2 -0.9142959          -0.4857389 -0.9098356\n",
       "3 -0.9142959          -0.3941084 -0.8182050"
      ]
     },
     "metadata": {},
     "output_type": "display_data"
    }
   ],
   "source": [
    "#daily predicted value, done in \"phenotypic plant...\"\n",
    "df$pred_pop  = predict(MAVG_nopen_noclass, re.form = NA) #no random effect\n",
    "#prediction for the individuals-level \"reaction norm\"\n",
    "df$pred_HenID = predict(MAVG_nopen_noclass, re.form = NULL)\n",
    "write.csv(df, file.path(path_adapt,'Prediction_RI.csv'), row.names = FALSE)\n",
    "head(df,3)"
   ]
  },
  {
   "cell_type": "code",
   "execution_count": 35,
   "metadata": {},
   "outputs": [
    {
     "data": {
      "text/html": [
       "<table class=\"dataframe\">\n",
       "<caption>A data.frame: 3 × 35</caption>\n",
       "<thead>\n",
       "\t<tr><th></th><th scope=col>HenID</th><th scope=col>DIB</th><th scope=col>CLASS</th><th scope=col>PenID</th><th scope=col>temperature_C_avg</th><th scope=col>tobeusedPCA</th><th scope=col>InitialWeight</th><th scope=col>Treatment</th><th scope=col>perc_duration_5_Zone</th><th scope=col>perc_duration_4_Zone</th><th scope=col>...</th><th scope=col>PC1</th><th scope=col>cDIB</th><th scope=col>temperature_C_avg_scale</th><th scope=col>time</th><th scope=col>time2</th><th scope=col>time3</th><th scope=col>avgDIB_scale</th><th scope=col>InitialWeight_scale</th><th scope=col>pred_pop</th><th scope=col>pred_HenID</th></tr>\n",
       "\t<tr><th></th><th scope=col>&lt;fct&gt;</th><th scope=col>&lt;int&gt;</th><th scope=col>&lt;fct&gt;</th><th scope=col>&lt;fct&gt;</th><th scope=col>&lt;dbl&gt;</th><th scope=col>&lt;int&gt;</th><th scope=col>&lt;int&gt;</th><th scope=col>&lt;fct&gt;</th><th scope=col>&lt;int&gt;</th><th scope=col>&lt;int&gt;</th><th scope=col>...</th><th scope=col>&lt;dbl&gt;</th><th scope=col>&lt;int&gt;</th><th scope=col>&lt;dbl[,1]&gt;</th><th scope=col>&lt;dbl[,1]&gt;</th><th scope=col>&lt;dbl&gt;</th><th scope=col>&lt;dbl&gt;</th><th scope=col>&lt;dbl[,1]&gt;</th><th scope=col>&lt;dbl[,1]&gt;</th><th scope=col>&lt;dbl&gt;</th><th scope=col>&lt;dbl&gt;</th></tr>\n",
       "</thead>\n",
       "<tbody>\n",
       "\t<tr><th scope=row>1</th><td>hen_134</td><td>11</td><td>MEXP</td><td>pen10</td><td>11.50000</td><td>1</td><td>1112</td><td>TRAN</td><td>100</td><td>0</td><td>...</td><td>-1.738433</td><td>0</td><td> 0.2080966</td><td>0.0000000</td><td>0.000000000</td><td>0.0000000000</td><td>-0.3677554</td><td>-0.9142959</td><td>-0.5930077</td><td>-1.840952</td></tr>\n",
       "\t<tr><th scope=row>2</th><td>hen_134</td><td>12</td><td>MEXP</td><td>pen10</td><td>10.16667</td><td>0</td><td>1112</td><td>TRAN</td><td> 86</td><td>0</td><td>...</td><td>-1.455477</td><td>1</td><td>-0.2112122</td><td>0.0811546</td><td>0.006586069</td><td>0.0005344898</td><td>-0.3677554</td><td>-0.9142959</td><td>-0.4942147</td><td>-1.706140</td></tr>\n",
       "\t<tr><th scope=row>3</th><td>hen_134</td><td>13</td><td>MEXP</td><td>pen10</td><td> 9.00000</td><td>0</td><td>1112</td><td>TRAN</td><td>100</td><td>0</td><td>...</td><td>-1.738433</td><td>2</td><td>-0.5781073</td><td>0.1623092</td><td>0.026344277</td><td>0.0042759186</td><td>-0.3677554</td><td>-0.9142959</td><td>-0.4000967</td><td>-1.576002</td></tr>\n",
       "</tbody>\n",
       "</table>\n"
      ],
      "text/latex": [
       "A data.frame: 3 × 35\n",
       "\\begin{tabular}{r|lllllllllllllllllllll}\n",
       "  & HenID & DIB & CLASS & PenID & temperature\\_C\\_avg & tobeusedPCA & InitialWeight & Treatment & perc\\_duration\\_5\\_Zone & perc\\_duration\\_4\\_Zone & ... & PC1 & cDIB & temperature\\_C\\_avg\\_scale & time & time2 & time3 & avgDIB\\_scale & InitialWeight\\_scale & pred\\_pop & pred\\_HenID\\\\\n",
       "  & <fct> & <int> & <fct> & <fct> & <dbl> & <int> & <int> & <fct> & <int> & <int> & ... & <dbl> & <int> & <dbl{[},1{]}> & <dbl{[},1{]}> & <dbl> & <dbl> & <dbl{[},1{]}> & <dbl{[},1{]}> & <dbl> & <dbl>\\\\\n",
       "\\hline\n",
       "\t1 & hen\\_134 & 11 & MEXP & pen10 & 11.50000 & 1 & 1112 & TRAN & 100 & 0 & ... & -1.738433 & 0 &  0.2080966 & 0.0000000 & 0.000000000 & 0.0000000000 & -0.3677554 & -0.9142959 & -0.5930077 & -1.840952\\\\\n",
       "\t2 & hen\\_134 & 12 & MEXP & pen10 & 10.16667 & 0 & 1112 & TRAN &  86 & 0 & ... & -1.455477 & 1 & -0.2112122 & 0.0811546 & 0.006586069 & 0.0005344898 & -0.3677554 & -0.9142959 & -0.4942147 & -1.706140\\\\\n",
       "\t3 & hen\\_134 & 13 & MEXP & pen10 &  9.00000 & 0 & 1112 & TRAN & 100 & 0 & ... & -1.738433 & 2 & -0.5781073 & 0.1623092 & 0.026344277 & 0.0042759186 & -0.3677554 & -0.9142959 & -0.4000967 & -1.576002\\\\\n",
       "\\end{tabular}\n"
      ],
      "text/markdown": [
       "\n",
       "A data.frame: 3 × 35\n",
       "\n",
       "| <!--/--> | HenID &lt;fct&gt; | DIB &lt;int&gt; | CLASS &lt;fct&gt; | PenID &lt;fct&gt; | temperature_C_avg &lt;dbl&gt; | tobeusedPCA &lt;int&gt; | InitialWeight &lt;int&gt; | Treatment &lt;fct&gt; | perc_duration_5_Zone &lt;int&gt; | perc_duration_4_Zone &lt;int&gt; | ... ... | PC1 &lt;dbl&gt; | cDIB &lt;int&gt; | temperature_C_avg_scale &lt;dbl[,1]&gt; | time &lt;dbl[,1]&gt; | time2 &lt;dbl&gt; | time3 &lt;dbl&gt; | avgDIB_scale &lt;dbl[,1]&gt; | InitialWeight_scale &lt;dbl[,1]&gt; | pred_pop &lt;dbl&gt; | pred_HenID &lt;dbl&gt; |\n",
       "|---|---|---|---|---|---|---|---|---|---|---|---|---|---|---|---|---|---|---|---|---|---|\n",
       "| 1 | hen_134 | 11 | MEXP | pen10 | 11.50000 | 1 | 1112 | TRAN | 100 | 0 | ... | -1.738433 | 0 |  0.2080966 | 0.0000000 | 0.000000000 | 0.0000000000 | -0.3677554 | -0.9142959 | -0.5930077 | -1.840952 |\n",
       "| 2 | hen_134 | 12 | MEXP | pen10 | 10.16667 | 0 | 1112 | TRAN |  86 | 0 | ... | -1.455477 | 1 | -0.2112122 | 0.0811546 | 0.006586069 | 0.0005344898 | -0.3677554 | -0.9142959 | -0.4942147 | -1.706140 |\n",
       "| 3 | hen_134 | 13 | MEXP | pen10 |  9.00000 | 0 | 1112 | TRAN | 100 | 0 | ... | -1.738433 | 2 | -0.5781073 | 0.1623092 | 0.026344277 | 0.0042759186 | -0.3677554 | -0.9142959 | -0.4000967 | -1.576002 |\n",
       "\n"
      ],
      "text/plain": [
       "  HenID   DIB CLASS PenID temperature_C_avg tobeusedPCA InitialWeight Treatment\n",
       "1 hen_134 11  MEXP  pen10 11.50000          1           1112          TRAN     \n",
       "2 hen_134 12  MEXP  pen10 10.16667          0           1112          TRAN     \n",
       "3 hen_134 13  MEXP  pen10  9.00000          0           1112          TRAN     \n",
       "  perc_duration_5_Zone perc_duration_4_Zone ... PC1       cDIB\n",
       "1 100                  0                    ... -1.738433 0   \n",
       "2  86                  0                    ... -1.455477 1   \n",
       "3 100                  0                    ... -1.738433 2   \n",
       "  temperature_C_avg_scale time      time2       time3        avgDIB_scale\n",
       "1  0.2080966              0.0000000 0.000000000 0.0000000000 -0.3677554  \n",
       "2 -0.2112122              0.0811546 0.006586069 0.0005344898 -0.3677554  \n",
       "3 -0.5781073              0.1623092 0.026344277 0.0042759186 -0.3677554  \n",
       "  InitialWeight_scale pred_pop   pred_HenID\n",
       "1 -0.9142959          -0.5930077 -1.840952 \n",
       "2 -0.9142959          -0.4942147 -1.706140 \n",
       "3 -0.9142959          -0.4000967 -1.576002 "
      ]
     },
     "metadata": {},
     "output_type": "display_data"
    }
   ],
   "source": [
    "#daily predicted value\n",
    "df$pred_pop  = predict(MPL1, re.form = NA) #no random effect\n",
    "#prediction for the individuals-level \"reaction norm\"\n",
    "df$pred_HenID = predict(MPL1, re.form = NULL)\n",
    "write.csv(df, file.path(path_adapt,'Prediction_RR_linear.csv'), row.names = FALSE)\n",
    "head(df,3)"
   ]
  },
  {
   "cell_type": "code",
   "execution_count": 36,
   "metadata": {
    "scrolled": true
   },
   "outputs": [
    {
     "data": {
      "text/html": [
       "<table class=\"dataframe\">\n",
       "<caption>A data.frame: 3 × 35</caption>\n",
       "<thead>\n",
       "\t<tr><th></th><th scope=col>HenID</th><th scope=col>DIB</th><th scope=col>CLASS</th><th scope=col>PenID</th><th scope=col>temperature_C_avg</th><th scope=col>tobeusedPCA</th><th scope=col>InitialWeight</th><th scope=col>Treatment</th><th scope=col>perc_duration_5_Zone</th><th scope=col>perc_duration_4_Zone</th><th scope=col>...</th><th scope=col>PC1</th><th scope=col>cDIB</th><th scope=col>temperature_C_avg_scale</th><th scope=col>time</th><th scope=col>time2</th><th scope=col>time3</th><th scope=col>avgDIB_scale</th><th scope=col>InitialWeight_scale</th><th scope=col>pred_pop</th><th scope=col>pred_HenID</th></tr>\n",
       "\t<tr><th></th><th scope=col>&lt;fct&gt;</th><th scope=col>&lt;int&gt;</th><th scope=col>&lt;fct&gt;</th><th scope=col>&lt;fct&gt;</th><th scope=col>&lt;dbl&gt;</th><th scope=col>&lt;int&gt;</th><th scope=col>&lt;int&gt;</th><th scope=col>&lt;fct&gt;</th><th scope=col>&lt;int&gt;</th><th scope=col>&lt;int&gt;</th><th scope=col>...</th><th scope=col>&lt;dbl&gt;</th><th scope=col>&lt;int&gt;</th><th scope=col>&lt;dbl[,1]&gt;</th><th scope=col>&lt;dbl[,1]&gt;</th><th scope=col>&lt;dbl&gt;</th><th scope=col>&lt;dbl&gt;</th><th scope=col>&lt;dbl[,1]&gt;</th><th scope=col>&lt;dbl[,1]&gt;</th><th scope=col>&lt;dbl&gt;</th><th scope=col>&lt;dbl&gt;</th></tr>\n",
       "</thead>\n",
       "<tbody>\n",
       "\t<tr><th scope=row>1</th><td>hen_134</td><td>11</td><td>MEXP</td><td>pen10</td><td>11.50000</td><td>1</td><td>1112</td><td>TRAN</td><td>100</td><td>0</td><td>...</td><td>-1.738433</td><td>0</td><td> 0.2080966</td><td>0.0000000</td><td>0.000000000</td><td>0.0000000000</td><td>-0.3677554</td><td>-0.9142959</td><td>-0.6314287</td><td>-1.920829</td></tr>\n",
       "\t<tr><th scope=row>2</th><td>hen_134</td><td>12</td><td>MEXP</td><td>pen10</td><td>10.16667</td><td>0</td><td>1112</td><td>TRAN</td><td> 86</td><td>0</td><td>...</td><td>-1.455477</td><td>1</td><td>-0.2112122</td><td>0.0811546</td><td>0.006586069</td><td>0.0005344898</td><td>-0.3677554</td><td>-0.9142959</td><td>-0.5300770</td><td>-1.775826</td></tr>\n",
       "\t<tr><th scope=row>3</th><td>hen_134</td><td>13</td><td>MEXP</td><td>pen10</td><td> 9.00000</td><td>0</td><td>1112</td><td>TRAN</td><td>100</td><td>0</td><td>...</td><td>-1.738433</td><td>2</td><td>-0.5781073</td><td>0.1623092</td><td>0.026344277</td><td>0.0042759186</td><td>-0.3677554</td><td>-0.9142959</td><td>-0.4335341</td><td>-1.635993</td></tr>\n",
       "</tbody>\n",
       "</table>\n"
      ],
      "text/latex": [
       "A data.frame: 3 × 35\n",
       "\\begin{tabular}{r|lllllllllllllllllllll}\n",
       "  & HenID & DIB & CLASS & PenID & temperature\\_C\\_avg & tobeusedPCA & InitialWeight & Treatment & perc\\_duration\\_5\\_Zone & perc\\_duration\\_4\\_Zone & ... & PC1 & cDIB & temperature\\_C\\_avg\\_scale & time & time2 & time3 & avgDIB\\_scale & InitialWeight\\_scale & pred\\_pop & pred\\_HenID\\\\\n",
       "  & <fct> & <int> & <fct> & <fct> & <dbl> & <int> & <int> & <fct> & <int> & <int> & ... & <dbl> & <int> & <dbl{[},1{]}> & <dbl{[},1{]}> & <dbl> & <dbl> & <dbl{[},1{]}> & <dbl{[},1{]}> & <dbl> & <dbl>\\\\\n",
       "\\hline\n",
       "\t1 & hen\\_134 & 11 & MEXP & pen10 & 11.50000 & 1 & 1112 & TRAN & 100 & 0 & ... & -1.738433 & 0 &  0.2080966 & 0.0000000 & 0.000000000 & 0.0000000000 & -0.3677554 & -0.9142959 & -0.6314287 & -1.920829\\\\\n",
       "\t2 & hen\\_134 & 12 & MEXP & pen10 & 10.16667 & 0 & 1112 & TRAN &  86 & 0 & ... & -1.455477 & 1 & -0.2112122 & 0.0811546 & 0.006586069 & 0.0005344898 & -0.3677554 & -0.9142959 & -0.5300770 & -1.775826\\\\\n",
       "\t3 & hen\\_134 & 13 & MEXP & pen10 &  9.00000 & 0 & 1112 & TRAN & 100 & 0 & ... & -1.738433 & 2 & -0.5781073 & 0.1623092 & 0.026344277 & 0.0042759186 & -0.3677554 & -0.9142959 & -0.4335341 & -1.635993\\\\\n",
       "\\end{tabular}\n"
      ],
      "text/markdown": [
       "\n",
       "A data.frame: 3 × 35\n",
       "\n",
       "| <!--/--> | HenID &lt;fct&gt; | DIB &lt;int&gt; | CLASS &lt;fct&gt; | PenID &lt;fct&gt; | temperature_C_avg &lt;dbl&gt; | tobeusedPCA &lt;int&gt; | InitialWeight &lt;int&gt; | Treatment &lt;fct&gt; | perc_duration_5_Zone &lt;int&gt; | perc_duration_4_Zone &lt;int&gt; | ... ... | PC1 &lt;dbl&gt; | cDIB &lt;int&gt; | temperature_C_avg_scale &lt;dbl[,1]&gt; | time &lt;dbl[,1]&gt; | time2 &lt;dbl&gt; | time3 &lt;dbl&gt; | avgDIB_scale &lt;dbl[,1]&gt; | InitialWeight_scale &lt;dbl[,1]&gt; | pred_pop &lt;dbl&gt; | pred_HenID &lt;dbl&gt; |\n",
       "|---|---|---|---|---|---|---|---|---|---|---|---|---|---|---|---|---|---|---|---|---|---|\n",
       "| 1 | hen_134 | 11 | MEXP | pen10 | 11.50000 | 1 | 1112 | TRAN | 100 | 0 | ... | -1.738433 | 0 |  0.2080966 | 0.0000000 | 0.000000000 | 0.0000000000 | -0.3677554 | -0.9142959 | -0.6314287 | -1.920829 |\n",
       "| 2 | hen_134 | 12 | MEXP | pen10 | 10.16667 | 0 | 1112 | TRAN |  86 | 0 | ... | -1.455477 | 1 | -0.2112122 | 0.0811546 | 0.006586069 | 0.0005344898 | -0.3677554 | -0.9142959 | -0.5300770 | -1.775826 |\n",
       "| 3 | hen_134 | 13 | MEXP | pen10 |  9.00000 | 0 | 1112 | TRAN | 100 | 0 | ... | -1.738433 | 2 | -0.5781073 | 0.1623092 | 0.026344277 | 0.0042759186 | -0.3677554 | -0.9142959 | -0.4335341 | -1.635993 |\n",
       "\n"
      ],
      "text/plain": [
       "  HenID   DIB CLASS PenID temperature_C_avg tobeusedPCA InitialWeight Treatment\n",
       "1 hen_134 11  MEXP  pen10 11.50000          1           1112          TRAN     \n",
       "2 hen_134 12  MEXP  pen10 10.16667          0           1112          TRAN     \n",
       "3 hen_134 13  MEXP  pen10  9.00000          0           1112          TRAN     \n",
       "  perc_duration_5_Zone perc_duration_4_Zone ... PC1       cDIB\n",
       "1 100                  0                    ... -1.738433 0   \n",
       "2  86                  0                    ... -1.455477 1   \n",
       "3 100                  0                    ... -1.738433 2   \n",
       "  temperature_C_avg_scale time      time2       time3        avgDIB_scale\n",
       "1  0.2080966              0.0000000 0.000000000 0.0000000000 -0.3677554  \n",
       "2 -0.2112122              0.0811546 0.006586069 0.0005344898 -0.3677554  \n",
       "3 -0.5781073              0.1623092 0.026344277 0.0042759186 -0.3677554  \n",
       "  InitialWeight_scale pred_pop   pred_HenID\n",
       "1 -0.9142959          -0.6314287 -1.920829 \n",
       "2 -0.9142959          -0.5300770 -1.775826 \n",
       "3 -0.9142959          -0.4335341 -1.635993 "
      ]
     },
     "metadata": {},
     "output_type": "display_data"
    }
   ],
   "source": [
    "#daily predicted value\n",
    "df$pred_pop  = predict(MPL2, re.form = NA) #no random effect\n",
    "#prediction for the individuals-level \"reaction norm\"\n",
    "df$pred_HenID = predict(MPL2, re.form = NULL)\n",
    "write.csv(df, file.path(path_adapt,'Prediction_RR_quadratic.csv'), row.names = FALSE)\n",
    "head(df,3)"
   ]
  },
  {
   "cell_type": "markdown",
   "metadata": {},
   "source": [
    "# Save fixed effects info"
   ]
  },
  {
   "cell_type": "code",
   "execution_count": 37,
   "metadata": {},
   "outputs": [],
   "source": [
    "df_fixedeffect_RI = as.data.frame(coef(summary(MAVG_nopen_noclass)))\n",
    "write.csv(df_fixedeffect_RI, file.path(path_adapt,'df_fixedeffect_RI.csv'), row.names = TRUE)\n",
    "\n",
    "df_fixedeffect_RS1 = as.data.frame(coef(summary(MPL1)))\n",
    "write.csv(df_fixedeffect_RS1, file.path(path_adapt,'df_fixedeffect_RS1.csv'), row.names = TRUE)\n",
    "\n",
    "df_fixedeffect_RS2 = as.data.frame(coef(summary(MPL2)))\n",
    "write.csv(df_fixedeffect_RS2, file.path(path_adapt,'df_fixedeffect_RS2.csv'), row.names = TRUE)"
   ]
  },
  {
   "cell_type": "code",
   "execution_count": null,
   "metadata": {},
   "outputs": [],
   "source": []
  },
  {
   "cell_type": "code",
   "execution_count": null,
   "metadata": {},
   "outputs": [],
   "source": []
  },
  {
   "cell_type": "code",
   "execution_count": null,
   "metadata": {},
   "outputs": [],
   "source": []
  },
  {
   "cell_type": "code",
   "execution_count": null,
   "metadata": {},
   "outputs": [],
   "source": []
  },
  {
   "cell_type": "code",
   "execution_count": null,
   "metadata": {},
   "outputs": [],
   "source": []
  }
 ],
 "metadata": {
  "kernelspec": {
   "display_name": " Rkernel ",
   "language": "R",
   "name": "rkernel"
  },
  "language_info": {
   "codemirror_mode": "r",
   "file_extension": ".r",
   "mimetype": "text/x-r-source",
   "name": "R",
   "pygments_lexer": "r",
   "version": "3.6.1"
  }
 },
 "nbformat": 4,
 "nbformat_minor": 4
}
