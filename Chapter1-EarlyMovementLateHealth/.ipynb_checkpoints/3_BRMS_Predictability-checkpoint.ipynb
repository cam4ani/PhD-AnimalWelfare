{
 "cells": [
  {
   "cell_type": "code",
   "execution_count": 1,
   "metadata": {
    "scrolled": true
   },
   "outputs": [
    {
     "name": "stderr",
     "output_type": "stream",
     "text": [
      "Warning message:\n",
      "\"le package 'brms' a été compilé avec la version R 4.1.2\"\n",
      "Le chargement a nécessité le package : Rcpp\n",
      "\n",
      "Warning message:\n",
      "\"le package 'Rcpp' a été compilé avec la version R 4.1.2\"\n",
      "Loading 'brms' package (version 2.16.3). Useful instructions\n",
      "can be found by typing help('brms'). A more detailed introduction\n",
      "to the package is available through vignette('brms_overview').\n",
      "\n",
      "\n",
      "Attachement du package : 'brms'\n",
      "\n",
      "\n",
      "L'objet suivant est masqué depuis 'package:stats':\n",
      "\n",
      "    ar\n",
      "\n",
      "\n",
      "Warning message:\n",
      "\"le package 'MCMCglmm' a été compilé avec la version R 4.1.2\"\n",
      "Le chargement a nécessité le package : Matrix\n",
      "\n",
      "Warning message:\n",
      "\"le package 'Matrix' a été compilé avec la version R 4.1.2\"\n",
      "Le chargement a nécessité le package : coda\n",
      "\n",
      "Warning message:\n",
      "\"le package 'coda' a été compilé avec la version R 4.1.2\"\n",
      "Le chargement a nécessité le package : ape\n",
      "\n",
      "Warning message:\n",
      "\"le package 'ape' a été compilé avec la version R 4.1.2\"\n",
      "\n",
      "Attachement du package : 'MCMCglmm'\n",
      "\n",
      "\n",
      "L'objet suivant est masqué depuis 'package:brms':\n",
      "\n",
      "    me\n",
      "\n",
      "\n"
     ]
    }
   ],
   "source": [
    "library(brms) #predictability: Double hierearchical model\n",
    "library(MCMCglmm) #HPDinterval"
   ]
  },
  {
   "cell_type": "code",
   "execution_count": 2,
   "metadata": {},
   "outputs": [],
   "source": [
    "#install.packages(\"dplyr\")"
   ]
  },
  {
   "cell_type": "code",
   "execution_count": 3,
   "metadata": {},
   "outputs": [],
   "source": [
    "#citation(\"merTools\")"
   ]
  },
  {
   "cell_type": "code",
   "execution_count": 4,
   "metadata": {},
   "outputs": [],
   "source": [
    "library(parallel)\n",
    "my.cores = detectCores()"
   ]
  },
  {
   "cell_type": "raw",
   "metadata": {},
   "source": [
    "Note: go tissue with packages dependencies. THerevore this notebok needs to be run in a separate conda environment and under the kernel named: Rkernel_4\n",
    "using : Conda activate r_for_brm in the anaconda prompt before opening the notebooks"
   ]
  },
  {
   "cell_type": "markdown",
   "metadata": {},
   "source": [
    "# Download data"
   ]
  },
  {
   "cell_type": "code",
   "execution_count": 5,
   "metadata": {
    "scrolled": true
   },
   "outputs": [
    {
     "name": "stdout",
     "output_type": "stream",
     "text": [
      "[1] 3230   33\n"
     ]
    },
    {
     "data": {
      "text/plain": [
       "     HenID           DIB             CLASS          PenID     temperature_C_avg\n",
       " hen_116:  43   Min.   :11.00   EPI     : 478   pen10  :504   Min.   : 4.000   \n",
       " hen_124:  43   1st Qu.:23.00   LEXP    : 965   pen11  :504   1st Qu.: 8.667   \n",
       " hen_127:  43   Median :33.00   LEXPLOST: 366   pen8   :430   Median :11.000   \n",
       " hen_136:  43   Mean   :33.59   MEXP    :1379   pen9   :429   Mean   :10.838   \n",
       " hen_147:  43   3rd Qu.:44.00   MEXPLOST:  42   pen4   :388   3rd Qu.:12.667   \n",
       " hen_151:  43   Max.   :54.00                   pen5   :363   Max.   :19.333   \n",
       " (Other):2972                                   (Other):612                    \n",
       "  tobeusedPCA     InitialWeight  Treatment_encoded    perc_duration_5_Zone\n",
       " Min.   :0.0000   Min.   :1046   Min.   :-1.0000000   Min.   :  0.00      \n",
       " 1st Qu.:0.0000   1st Qu.:1130   1st Qu.:-1.0000000   1st Qu.: 11.00      \n",
       " Median :0.0000   Median :1164   Median :-1.0000000   Median : 33.00      \n",
       " Mean   :0.1734   Mean   :1169   Mean   :-0.0006192   Mean   : 39.21      \n",
       " 3rd Qu.:0.0000   3rd Qu.:1200   3rd Qu.: 1.0000000   3rd Qu.: 66.00      \n",
       " Max.   :1.0000   Max.   :1350   Max.   : 1.0000000   Max.   :100.00      \n",
       "                                                                          \n",
       " perc_duration_4_Zone perc_duration_3_Zone perc_duration_2_Zone\n",
       " Min.   : 0.000       Min.   : 0.00        Min.   : 0.00       \n",
       " 1st Qu.: 4.000       1st Qu.: 7.00        1st Qu.:14.00       \n",
       " Median : 6.000       Median :17.00        Median :32.00       \n",
       " Mean   : 8.136       Mean   :18.27        Mean   :31.24       \n",
       " 3rd Qu.:10.000       3rd Qu.:28.00        3rd Qu.:46.00       \n",
       " Max.   :73.000       Max.   :70.00        Max.   :91.00       \n",
       "                                                               \n",
       " perc_1_Zone_while_WG_open nbr_stays_2_Zone_perh nbr_stays_4_Zone_perh\n",
       " Min.   : 0.000            Min.   :0.0000        Min.   :0.0000       \n",
       " 1st Qu.: 0.000            1st Qu.:0.4545        1st Qu.:0.2857       \n",
       " Median : 1.388            Median :1.0714        Median :0.5714       \n",
       " Mean   : 6.932            Mean   :1.1062        Mean   :0.7059       \n",
       " 3rd Qu.: 9.572            3rd Qu.:1.6667        3rd Qu.:1.0000       \n",
       " Max.   :87.949            Max.   :5.0909        Max.   :5.2500       \n",
       "                                                                      \n",
       " nbr_stays_3_Zone_perh nbr_stays_5_Zone_perh nbr_stays_1_Zone_perh\n",
       " Min.   :0.0000        Min.   :0.0000        Min.   :0.0000       \n",
       " 1st Qu.:0.6923        1st Qu.:0.2000        1st Qu.:0.0000       \n",
       " Median :1.3333        Median :0.3571        Median :0.1622       \n",
       " Mean   :1.3227        Mean   :0.4352        Mean   :0.4060       \n",
       " 3rd Qu.:1.8333        3rd Qu.:0.6000        3rd Qu.:0.6316       \n",
       " Max.   :5.1818        Max.   :3.1667        Max.   :3.5789       \n",
       "                                                                  \n",
       " in_WG_15mnAfterOpening SleepingHeight  vertical_travel_distance_perh\n",
       " Min.   :0.0000         Min.   :0.000   Min.   : 0.000               \n",
       " 1st Qu.:0.0000         1st Qu.:2.000   1st Qu.: 2.286               \n",
       " Median :0.0000         Median :3.000   Median : 3.600               \n",
       " Mean   :0.2065         Mean   :2.481   Mean   : 3.595               \n",
       " 3rd Qu.:0.0000         3rd Qu.:3.000   3rd Qu.: 4.800               \n",
       " Max.   :1.0000         Max.   :3.000   Max.   :12.308               \n",
       "                                                                     \n",
       "     avgDIB         severity        Feathers     Treatment      PC1         \n",
       " Min.   :32.91   Min.   : 6.00   Min.   :35.00   -1:1616   Min.   :-1.9150  \n",
       " 1st Qu.:32.91   1st Qu.:24.00   1st Qu.:58.67   1 :1614   1st Qu.:-0.7772  \n",
       " Median :33.36   Median :36.00   Median :66.33             Median : 0.1694  \n",
       " Mean   :33.59   Mean   :35.72   Mean   :65.81             Mean   : 0.0000  \n",
       " 3rd Qu.:34.00   3rd Qu.:46.00   3rd Qu.:73.67             3rd Qu.: 0.7268  \n",
       " Max.   :35.18   Max.   :84.00   Max.   :86.67             Max.   : 2.7714  \n",
       "                                 NA's   :42                                 \n",
       "      cDIB           cDIB2      temperature_C_avg_scale.V1       time.V1      \n",
       " Min.   :11.00   Min.   : 121   Min.   :-2.1505151         Min.   :0.3073743  \n",
       " 1st Qu.:23.00   1st Qu.: 529   1st Qu.:-0.6829345         1st Qu.:0.6426918  \n",
       " Median :33.00   Median :1089   Median : 0.0508558         Median :0.9221230  \n",
       " Mean   :33.59   Mean   :1280   Mean   : 0.0000000         Mean   :0.9387072  \n",
       " 3rd Qu.:44.00   3rd Qu.:1936   3rd Qu.: 0.5749917         3rd Qu.:1.2294973  \n",
       " Max.   :54.00   Max.   :2916   Max.   : 2.6715354         Max.   :1.5089285  \n",
       "                                                                              \n",
       "     time2           avgDIB_scale.V1    InitialWeight_scale.V1\n",
       " Min.   :0.09448   Min.   :-1.0681873   Min.   :-1.9742093    \n",
       " 1st Qu.:0.41305   1st Qu.:-1.0681873   1st Qu.:-0.6252286    \n",
       " Median :0.85031   Median :-0.3677554   Median :-0.0792126    \n",
       " Mean   :0.99969   Mean   : 0.0000000   Mean   : 0.0000000    \n",
       " 3rd Qu.:1.51166   3rd Qu.: 0.6324925   3rd Qu.: 0.4989220    \n",
       " Max.   :2.27687   Max.   : 2.4750543   Max.   : 2.9078162    \n",
       "                                                              "
      ]
     },
     "metadata": {},
     "output_type": "display_data"
    }
   ],
   "source": [
    "path_ = 'G:/VPHI/Welfare/2- Research Projects/OFHE2.OriginsE2/DataOutput/TrackingSystem/ALLDATA_'\n",
    "path_adapt = file.path(path_,'Adaptability')\n",
    "path_model = file.path(path_adapt,'repeatability_model')\n",
    "df = read.csv(file.path(path_adapt,'df_MVT_4individuality_withPCA.csv'), header = TRUE, sep = \",\")\n",
    "df$HenID = as.factor(df$HenID)   \n",
    "df$PenID = as.factor(df$PenID) \n",
    "df$cDIB = as.integer(df$DIB) \n",
    "df$cDIB2 = poly(df$cDIB, degree=2,raw=TRUE)[,2]\n",
    "df$CLASS = as.factor(df$CLASS) \n",
    "df$Treatment = as.factor(df$Treatment)\n",
    "#scale: mean-centering of the environmental variable so that intercepts reflect average values for the population and ind. \n",
    "df$temperature_C_avg_scale = scale(df$temperature_C_avg, center=TRUE, scale=TRUE)\n",
    "df$time = scale(df$cDIB, center=FALSE, scale=TRUE)\n",
    "df$time2 = poly(df$time, degree=2,raw=TRUE)[,2]\n",
    "df$avgDIB_scale = scale(df$avgDIB, center=TRUE, scale=TRUE)\n",
    "df$InitialWeight_scale = scale(df$InitialWeight, center=TRUE, scale=TRUE)\n",
    "print(dim(df))\n",
    "summary(df)"
   ]
  },
  {
   "cell_type": "code",
   "execution_count": 6,
   "metadata": {},
   "outputs": [
    {
     "data": {
      "text/html": [
       "80"
      ],
      "text/latex": [
       "80"
      ],
      "text/markdown": [
       "80"
      ],
      "text/plain": [
       "[1] 80"
      ]
     },
     "metadata": {},
     "output_type": "display_data"
    }
   ],
   "source": [
    "length(unique(df[['HenID']]))"
   ]
  },
  {
   "cell_type": "markdown",
   "metadata": {},
   "source": [
    "# Predictibility"
   ]
  },
  {
   "cell_type": "code",
   "execution_count": 7,
   "metadata": {},
   "outputs": [
    {
     "data": {
      "text/html": [
       "<table class=\"dataframe\">\n",
       "<caption>A brmsprior: 16 × 9</caption>\n",
       "<thead>\n",
       "\t<tr><th scope=col>prior</th><th scope=col>class</th><th scope=col>coef</th><th scope=col>group</th><th scope=col>resp</th><th scope=col>dpar</th><th scope=col>nlpar</th><th scope=col>bound</th><th scope=col>source</th></tr>\n",
       "\t<tr><th scope=col>&lt;chr&gt;</th><th scope=col>&lt;chr&gt;</th><th scope=col>&lt;chr&gt;</th><th scope=col>&lt;chr&gt;</th><th scope=col>&lt;chr&gt;</th><th scope=col>&lt;chr&gt;</th><th scope=col>&lt;chr&gt;</th><th scope=col>&lt;chr&gt;</th><th scope=col>&lt;chr&gt;</th></tr>\n",
       "</thead>\n",
       "<tbody>\n",
       "\t<tr><td>                      </td><td>b        </td><td>                       </td><td>     </td><td></td><td></td><td></td><td></td><td>default</td></tr>\n",
       "\t<tr><td>                      </td><td>b        </td><td>avgDIB_scale           </td><td>     </td><td></td><td></td><td></td><td></td><td>default</td></tr>\n",
       "\t<tr><td>                      </td><td>b        </td><td>InitialWeight_scale    </td><td>     </td><td></td><td></td><td></td><td></td><td>default</td></tr>\n",
       "\t<tr><td>                      </td><td>b        </td><td>temperature_C_avg_scale</td><td>     </td><td></td><td></td><td></td><td></td><td>default</td></tr>\n",
       "\t<tr><td>                      </td><td>b        </td><td>time                   </td><td>     </td><td></td><td></td><td></td><td></td><td>default</td></tr>\n",
       "\t<tr><td>                      </td><td>b        </td><td>time2                  </td><td>     </td><td></td><td></td><td></td><td></td><td>default</td></tr>\n",
       "\t<tr><td>                      </td><td>b        </td><td>Treatment_encoded      </td><td>     </td><td></td><td></td><td></td><td></td><td>default</td></tr>\n",
       "\t<tr><td>lkj(1)                </td><td>cor      </td><td>                       </td><td>     </td><td></td><td></td><td></td><td></td><td>default</td></tr>\n",
       "\t<tr><td>                      </td><td>cor      </td><td>                       </td><td>HenID</td><td></td><td></td><td></td><td></td><td>default</td></tr>\n",
       "\t<tr><td>student_t(3, 0.2, 2.5)</td><td>Intercept</td><td>                       </td><td>     </td><td></td><td></td><td></td><td></td><td>default</td></tr>\n",
       "\t<tr><td>student_t(3, 0, 2.5)  </td><td>sd       </td><td>                       </td><td>     </td><td></td><td></td><td></td><td></td><td>default</td></tr>\n",
       "\t<tr><td>                      </td><td>sd       </td><td>                       </td><td>HenID</td><td></td><td></td><td></td><td></td><td>default</td></tr>\n",
       "\t<tr><td>                      </td><td>sd       </td><td>Intercept              </td><td>HenID</td><td></td><td></td><td></td><td></td><td>default</td></tr>\n",
       "\t<tr><td>                      </td><td>sd       </td><td>time                   </td><td>HenID</td><td></td><td></td><td></td><td></td><td>default</td></tr>\n",
       "\t<tr><td>                      </td><td>sd       </td><td>time2                  </td><td>HenID</td><td></td><td></td><td></td><td></td><td>default</td></tr>\n",
       "\t<tr><td>student_t(3, 0, 2.5)  </td><td>sigma    </td><td>                       </td><td>     </td><td></td><td></td><td></td><td></td><td>default</td></tr>\n",
       "</tbody>\n",
       "</table>\n"
      ],
      "text/latex": [
       "A brmsprior: 16 × 9\n",
       "\\begin{tabular}{lllllllll}\n",
       " prior & class & coef & group & resp & dpar & nlpar & bound & source\\\\\n",
       " <chr> & <chr> & <chr> & <chr> & <chr> & <chr> & <chr> & <chr> & <chr>\\\\\n",
       "\\hline\n",
       "\t                        & b         &                         &       &  &  &  &  & default\\\\\n",
       "\t                        & b         & avgDIB\\_scale            &       &  &  &  &  & default\\\\\n",
       "\t                        & b         & InitialWeight\\_scale     &       &  &  &  &  & default\\\\\n",
       "\t                        & b         & temperature\\_C\\_avg\\_scale &       &  &  &  &  & default\\\\\n",
       "\t                        & b         & time                    &       &  &  &  &  & default\\\\\n",
       "\t                        & b         & time2                   &       &  &  &  &  & default\\\\\n",
       "\t                        & b         & Treatment\\_encoded       &       &  &  &  &  & default\\\\\n",
       "\t lkj(1)                 & cor       &                         &       &  &  &  &  & default\\\\\n",
       "\t                        & cor       &                         & HenID &  &  &  &  & default\\\\\n",
       "\t student\\_t(3, 0.2, 2.5) & Intercept &                         &       &  &  &  &  & default\\\\\n",
       "\t student\\_t(3, 0, 2.5)   & sd        &                         &       &  &  &  &  & default\\\\\n",
       "\t                        & sd        &                         & HenID &  &  &  &  & default\\\\\n",
       "\t                        & sd        & Intercept               & HenID &  &  &  &  & default\\\\\n",
       "\t                        & sd        & time                    & HenID &  &  &  &  & default\\\\\n",
       "\t                        & sd        & time2                   & HenID &  &  &  &  & default\\\\\n",
       "\t student\\_t(3, 0, 2.5)   & sigma     &                         &       &  &  &  &  & default\\\\\n",
       "\\end{tabular}\n"
      ],
      "text/markdown": [
       "\n",
       "A brmsprior: 16 × 9\n",
       "\n",
       "| prior &lt;chr&gt; | class &lt;chr&gt; | coef &lt;chr&gt; | group &lt;chr&gt; | resp &lt;chr&gt; | dpar &lt;chr&gt; | nlpar &lt;chr&gt; | bound &lt;chr&gt; | source &lt;chr&gt; |\n",
       "|---|---|---|---|---|---|---|---|---|\n",
       "| <!----> | b         | <!----> | <!----> | <!----> | <!----> | <!----> | <!----> | default |\n",
       "| <!----> | b         | avgDIB_scale            | <!----> | <!----> | <!----> | <!----> | <!----> | default |\n",
       "| <!----> | b         | InitialWeight_scale     | <!----> | <!----> | <!----> | <!----> | <!----> | default |\n",
       "| <!----> | b         | temperature_C_avg_scale | <!----> | <!----> | <!----> | <!----> | <!----> | default |\n",
       "| <!----> | b         | time                    | <!----> | <!----> | <!----> | <!----> | <!----> | default |\n",
       "| <!----> | b         | time2                   | <!----> | <!----> | <!----> | <!----> | <!----> | default |\n",
       "| <!----> | b         | Treatment_encoded       | <!----> | <!----> | <!----> | <!----> | <!----> | default |\n",
       "| lkj(1)                 | cor       | <!----> | <!----> | <!----> | <!----> | <!----> | <!----> | default |\n",
       "| <!----> | cor       | <!----> | HenID | <!----> | <!----> | <!----> | <!----> | default |\n",
       "| student_t(3, 0.2, 2.5) | Intercept | <!----> | <!----> | <!----> | <!----> | <!----> | <!----> | default |\n",
       "| student_t(3, 0, 2.5)   | sd        | <!----> | <!----> | <!----> | <!----> | <!----> | <!----> | default |\n",
       "| <!----> | sd        | <!----> | HenID | <!----> | <!----> | <!----> | <!----> | default |\n",
       "| <!----> | sd        | Intercept               | HenID | <!----> | <!----> | <!----> | <!----> | default |\n",
       "| <!----> | sd        | time                    | HenID | <!----> | <!----> | <!----> | <!----> | default |\n",
       "| <!----> | sd        | time2                   | HenID | <!----> | <!----> | <!----> | <!----> | default |\n",
       "| student_t(3, 0, 2.5)   | sigma     | <!----> | <!----> | <!----> | <!----> | <!----> | <!----> | default |\n",
       "\n"
      ],
      "text/plain": [
       "   prior                  class     coef                    group resp dpar\n",
       "1                         b                                                \n",
       "2                         b         avgDIB_scale                           \n",
       "3                         b         InitialWeight_scale                    \n",
       "4                         b         temperature_C_avg_scale                \n",
       "5                         b         time                                   \n",
       "6                         b         time2                                  \n",
       "7                         b         Treatment_encoded                      \n",
       "8  lkj(1)                 cor                                              \n",
       "9                         cor                               HenID          \n",
       "10 student_t(3, 0.2, 2.5) Intercept                                        \n",
       "11 student_t(3, 0, 2.5)   sd                                               \n",
       "12                        sd                                HenID          \n",
       "13                        sd        Intercept               HenID          \n",
       "14                        sd        time                    HenID          \n",
       "15                        sd        time2                   HenID          \n",
       "16 student_t(3, 0, 2.5)   sigma                                            \n",
       "   nlpar bound source \n",
       "1              default\n",
       "2              default\n",
       "3              default\n",
       "4              default\n",
       "5              default\n",
       "6              default\n",
       "7              default\n",
       "8              default\n",
       "9              default\n",
       "10             default\n",
       "11             default\n",
       "12             default\n",
       "13             default\n",
       "14             default\n",
       "15             default\n",
       "16             default"
      ]
     },
     "metadata": {},
     "output_type": "display_data"
    }
   ],
   "source": [
    "#Get information on all parameters (and parameter classes) for which priors may be specified including default priors:\n",
    "get_prior(formula= PC1~ time + time2 + avgDIB_scale + Treatment_encoded + temperature_C_avg_scale + InitialWeight_scale +(1+ time + time2|HenID), \n",
    "          data=df, family = gaussian())"
   ]
  },
  {
   "cell_type": "code",
   "execution_count": null,
   "metadata": {},
   "outputs": [
    {
     "name": "stderr",
     "output_type": "stream",
     "text": [
      "Compiling Stan program...\n",
      "\n",
      "Start sampling\n",
      "\n"
     ]
    }
   ],
   "source": [
    "#help(brms) #to cite STAN for the following info:\n",
    "### bulk-ESS: We recommend requiring that the bulk-ESS is greater than 100 times the number of chains. For example, when running \n",
    "#4 chains, this corresponds to having a rank-normalized effective sample size of at least 400.\n",
    "### R-hat: We recommend running at least four chains by default and only using the sample if R-hat is less than 1.01.\n",
    "#more info: #https://mc-stan.org/misc/warnings.html#bulk-ess%22\n",
    "double_model = bf(PC1~ time + time2 + avgDIB_scale + Treatment_encoded + temperature_C_avg_scale + InitialWeight_scale +(1+time+time2|HenID), \n",
    "                  sigma~(1|HenID))\n",
    "modelPred = brm(double_model, data=df, iter=15000, inits=\"random\", seed=12345, control = list(max_treedepth = 15), \n",
    "                cores=my.cores, chains=10, thin=3)\n",
    "             #prior = c(set_prior(\"student_t(1, 0.01, 0.001)\", coef = \"temperature_C_avg_scale\"),\n",
    "             #         set_prior(\"student_t(1, 0.01, 0.001)\", coef = \"cDIB_scale\")))\n",
    "#modelPred = add_criterion(modelPred, \"waic\")\n",
    "summary(modelPred)\n",
    "pairs(modelPred)\n",
    "plot(modelPred)\n",
    "#head(get_variables(modelPred),10)\n",
    "\n",
    "#coefficient of variation in predictability” (CVP)\n",
    "log.norm.res = exp(posterior_samples(modelPred)$\"sd_HenID__sigma_Intercept\"^2)\n",
    "CVP = sqrt(log.norm.res-1)\n",
    "mean(CVP);HPDinterval(as.mcmc(CVP),0.95)\n",
    "#df_pred = posterior_samples(modelPred) #depreciated but still work well. we will instead use:\n",
    "#extract samples (draw) from the posterior distribution, including all variables\n",
    "df_pred = as_draws(modelPred)\n",
    "write.csv(df_pred, file.path(path_adapt,'BLUPS_variability.csv'), row.names = FALSE)\n",
    "prior_summary(modelPred)"
   ]
  },
  {
   "cell_type": "code",
   "execution_count": null,
   "metadata": {},
   "outputs": [],
   "source": [
    "#coefficient of variation in predictability” (CVP)\n",
    "log.norm.res = exp(posterior_samples(modelPred)$\"sd_HenID__sigma_Intercept\"^2)\n",
    "CVP = sqrt(log.norm.res-1)\n",
    "mean(CVP);HPDinterval(as.mcmc(CVP),0.95)\n",
    "#df_pred = posterior_samples(modelPred) #depreciated but still work well. we will instead use:\n",
    "#extract samples (draw) from the posterior distribution, including all variables\n",
    "df_pred = as_draws(modelPred)\n",
    "write.csv(df_pred, file.path(path_adapt,'BLUPS_variability.csv'), row.names = FALSE)\n",
    "prior_summary(modelPred)"
   ]
  },
  {
   "cell_type": "code",
   "execution_count": null,
   "metadata": {},
   "outputs": [],
   "source": [
    "#mean population-level residual variance\n",
    "fixef(modelPred, pars = \"sigma_Intercept\")[1]"
   ]
  },
  {
   "cell_type": "code",
   "execution_count": null,
   "metadata": {},
   "outputs": [],
   "source": [
    "#add score and save model\n",
    "add_criterion(modelPred, criterion='bayes_R2', file=file.path(path_adapt,'BRMS_Model_variance'))\n",
    "#model can be retrieve like this: \n",
    "#modelPred = readRDS(file.path(path_adapt,'BRMS_Model_variance_avgDIB_scale.rds'))\n",
    "#summary(modelPred)"
   ]
  },
  {
   "cell_type": "code",
   "execution_count": null,
   "metadata": {},
   "outputs": [],
   "source": [
    "#posterior predictive check\n",
    "pp_check(modelPred, ndraws = 100)\n",
    "#-->we don't see any major systematic discrepancies of our data from what can be predicted with modelPred"
   ]
  },
  {
   "cell_type": "code",
   "execution_count": null,
   "metadata": {},
   "outputs": [],
   "source": [
    "##https://bookdown.org/marklhc/notes_bookdown/model-diagnostics.html\n",
    "#additonally marginal model plots could be done with : https://github.com/marklhc/usc-psyc621-notes/blob/master/mmp_brm.R\n",
    "#as explained here: https://bookdown.org/marklhc/notes_bookdown/model-diagnostics.html#diagnostic-tools"
   ]
  },
  {
   "cell_type": "code",
   "execution_count": null,
   "metadata": {},
   "outputs": [],
   "source": []
  },
  {
   "cell_type": "code",
   "execution_count": null,
   "metadata": {},
   "outputs": [],
   "source": []
  },
  {
   "cell_type": "code",
   "execution_count": null,
   "metadata": {},
   "outputs": [],
   "source": []
  },
  {
   "cell_type": "code",
   "execution_count": null,
   "metadata": {},
   "outputs": [],
   "source": []
  },
  {
   "cell_type": "code",
   "execution_count": null,
   "metadata": {},
   "outputs": [],
   "source": []
  },
  {
   "cell_type": "code",
   "execution_count": null,
   "metadata": {},
   "outputs": [],
   "source": []
  },
  {
   "cell_type": "code",
   "execution_count": null,
   "metadata": {},
   "outputs": [],
   "source": []
  }
 ],
 "metadata": {
  "kernelspec": {
   "display_name": " Rkernel_4",
   "language": "R",
   "name": "rkernel_4"
  },
  "language_info": {
   "codemirror_mode": "r",
   "file_extension": ".r",
   "mimetype": "text/x-r-source",
   "name": "R",
   "pygments_lexer": "r",
   "version": "4.1.1"
  }
 },
 "nbformat": 4,
 "nbformat_minor": 4
}
