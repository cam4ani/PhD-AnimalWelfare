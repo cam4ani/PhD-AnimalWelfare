{
 "cells": [
  {
   "cell_type": "code",
   "execution_count": 1,
   "metadata": {
    "scrolled": true
   },
   "outputs": [
    {
     "name": "stderr",
     "output_type": "stream",
     "text": [
      "Warning message:\n",
      "\"le package 'brms' a été compilé avec la version R 4.1.2\"\n",
      "Le chargement a nécessité le package : Rcpp\n",
      "\n",
      "Warning message:\n",
      "\"le package 'Rcpp' a été compilé avec la version R 4.1.2\"\n",
      "Loading 'brms' package (version 2.16.3). Useful instructions\n",
      "can be found by typing help('brms'). A more detailed introduction\n",
      "to the package is available through vignette('brms_overview').\n",
      "\n",
      "\n",
      "Attachement du package : 'brms'\n",
      "\n",
      "\n",
      "L'objet suivant est masqué depuis 'package:stats':\n",
      "\n",
      "    ar\n",
      "\n",
      "\n",
      "Warning message:\n",
      "\"le package 'MCMCglmm' a été compilé avec la version R 4.1.2\"\n",
      "Le chargement a nécessité le package : Matrix\n",
      "\n",
      "Warning message:\n",
      "\"le package 'Matrix' a été compilé avec la version R 4.1.2\"\n",
      "Le chargement a nécessité le package : coda\n",
      "\n",
      "Warning message:\n",
      "\"le package 'coda' a été compilé avec la version R 4.1.2\"\n",
      "Le chargement a nécessité le package : ape\n",
      "\n",
      "Warning message:\n",
      "\"le package 'ape' a été compilé avec la version R 4.1.2\"\n",
      "\n",
      "Attachement du package : 'MCMCglmm'\n",
      "\n",
      "\n",
      "L'objet suivant est masqué depuis 'package:brms':\n",
      "\n",
      "    me\n",
      "\n",
      "\n",
      "Warning message:\n",
      "\"le package 'dplyr' a été compilé avec la version R 4.1.2\"\n",
      "\n",
      "Attachement du package : 'dplyr'\n",
      "\n",
      "\n",
      "Les objets suivants sont masqués depuis 'package:stats':\n",
      "\n",
      "    filter, lag\n",
      "\n",
      "\n",
      "Les objets suivants sont masqués depuis 'package:base':\n",
      "\n",
      "    intersect, setdiff, setequal, union\n",
      "\n",
      "\n"
     ]
    }
   ],
   "source": [
    "library(brms) #predictability: Double hierearchical model\n",
    "library(MCMCglmm) #HPDinterval\n",
    "library(dplyr) #%>%"
   ]
  },
  {
   "cell_type": "code",
   "execution_count": 2,
   "metadata": {},
   "outputs": [],
   "source": [
    "#install.packages(\"dplyr\")"
   ]
  },
  {
   "cell_type": "code",
   "execution_count": 3,
   "metadata": {},
   "outputs": [],
   "source": [
    "#citation(\"merTools\")"
   ]
  },
  {
   "cell_type": "code",
   "execution_count": 4,
   "metadata": {},
   "outputs": [],
   "source": [
    "library(parallel)\n",
    "my.cores = detectCores()"
   ]
  },
  {
   "cell_type": "raw",
   "metadata": {},
   "source": [
    "Note: go tissue with packages dependencies. THerevore this notebok needs to be run in a separate conda environment and under the kernel named: Rkernel_4\n",
    "using : Conda activate r_for_brm in the anaconda prompt before opening the notebooks"
   ]
  },
  {
   "cell_type": "markdown",
   "metadata": {},
   "source": [
    "# Download data"
   ]
  },
  {
   "cell_type": "code",
   "execution_count": 5,
   "metadata": {
    "scrolled": true
   },
   "outputs": [
    {
     "data": {
      "text/html": [
       "<table class=\"dataframe\">\n",
       "<caption>A matrix: 2 × 1 of type dbl</caption>\n",
       "<thead>\n",
       "\t<tr><th></th><th scope=col>TRAN</th></tr>\n",
       "</thead>\n",
       "<tbody>\n",
       "\t<tr><th scope=row>OFH</th><td>0</td></tr>\n",
       "\t<tr><th scope=row>TRAN</th><td>1</td></tr>\n",
       "</tbody>\n",
       "</table>\n"
      ],
      "text/latex": [
       "A matrix: 2 × 1 of type dbl\n",
       "\\begin{tabular}{r|l}\n",
       "  & TRAN\\\\\n",
       "\\hline\n",
       "\tOFH & 0\\\\\n",
       "\tTRAN & 1\\\\\n",
       "\\end{tabular}\n"
      ],
      "text/markdown": [
       "\n",
       "A matrix: 2 × 1 of type dbl\n",
       "\n",
       "| <!--/--> | TRAN |\n",
       "|---|---|\n",
       "| OFH | 0 |\n",
       "| TRAN | 1 |\n",
       "\n"
      ],
      "text/plain": [
       "     TRAN\n",
       "OFH  0   \n",
       "TRAN 1   "
      ]
     },
     "metadata": {},
     "output_type": "display_data"
    },
    {
     "data": {
      "text/html": [
       "<table class=\"dataframe\">\n",
       "<caption>A matrix: 2 × 1 of type dbl</caption>\n",
       "<thead>\n",
       "\t<tr><th></th><th scope=col>OFH</th></tr>\n",
       "</thead>\n",
       "<tbody>\n",
       "\t<tr><th scope=row>TRAN</th><td>0</td></tr>\n",
       "\t<tr><th scope=row>OFH</th><td>1</td></tr>\n",
       "</tbody>\n",
       "</table>\n"
      ],
      "text/latex": [
       "A matrix: 2 × 1 of type dbl\n",
       "\\begin{tabular}{r|l}\n",
       "  & OFH\\\\\n",
       "\\hline\n",
       "\tTRAN & 0\\\\\n",
       "\tOFH & 1\\\\\n",
       "\\end{tabular}\n"
      ],
      "text/markdown": [
       "\n",
       "A matrix: 2 × 1 of type dbl\n",
       "\n",
       "| <!--/--> | OFH |\n",
       "|---|---|\n",
       "| TRAN | 0 |\n",
       "| OFH | 1 |\n",
       "\n"
      ],
      "text/plain": [
       "     OFH\n",
       "TRAN 0  \n",
       "OFH  1  "
      ]
     },
     "metadata": {},
     "output_type": "display_data"
    },
    {
     "data": {
      "text/html": [
       "<table class=\"dataframe\">\n",
       "<caption>A matrix: 3 × 2 of type dbl</caption>\n",
       "<thead>\n",
       "\t<tr><th></th><th scope=col>MEXP</th><th scope=col>REXP</th></tr>\n",
       "</thead>\n",
       "<tbody>\n",
       "\t<tr><th scope=row>LEXP</th><td>0</td><td>0</td></tr>\n",
       "\t<tr><th scope=row>MEXP</th><td>1</td><td>0</td></tr>\n",
       "\t<tr><th scope=row>REXP</th><td>0</td><td>1</td></tr>\n",
       "</tbody>\n",
       "</table>\n"
      ],
      "text/latex": [
       "A matrix: 3 × 2 of type dbl\n",
       "\\begin{tabular}{r|ll}\n",
       "  & MEXP & REXP\\\\\n",
       "\\hline\n",
       "\tLEXP & 0 & 0\\\\\n",
       "\tMEXP & 1 & 0\\\\\n",
       "\tREXP & 0 & 1\\\\\n",
       "\\end{tabular}\n"
      ],
      "text/markdown": [
       "\n",
       "A matrix: 3 × 2 of type dbl\n",
       "\n",
       "| <!--/--> | MEXP | REXP |\n",
       "|---|---|---|\n",
       "| LEXP | 0 | 0 |\n",
       "| MEXP | 1 | 0 |\n",
       "| REXP | 0 | 1 |\n",
       "\n"
      ],
      "text/plain": [
       "     MEXP REXP\n",
       "LEXP 0    0   \n",
       "MEXP 1    0   \n",
       "REXP 0    1   "
      ]
     },
     "metadata": {},
     "output_type": "display_data"
    },
    {
     "data": {
      "text/html": [
       "<table class=\"dataframe\">\n",
       "<caption>A matrix: 3 × 2 of type dbl</caption>\n",
       "<thead>\n",
       "\t<tr><th></th><th scope=col>MEXP</th><th scope=col>REXP</th></tr>\n",
       "</thead>\n",
       "<tbody>\n",
       "\t<tr><th scope=row>LEXP</th><td>0</td><td>0</td></tr>\n",
       "\t<tr><th scope=row>MEXP</th><td>1</td><td>0</td></tr>\n",
       "\t<tr><th scope=row>REXP</th><td>0</td><td>1</td></tr>\n",
       "</tbody>\n",
       "</table>\n"
      ],
      "text/latex": [
       "A matrix: 3 × 2 of type dbl\n",
       "\\begin{tabular}{r|ll}\n",
       "  & MEXP & REXP\\\\\n",
       "\\hline\n",
       "\tLEXP & 0 & 0\\\\\n",
       "\tMEXP & 1 & 0\\\\\n",
       "\tREXP & 0 & 1\\\\\n",
       "\\end{tabular}\n"
      ],
      "text/markdown": [
       "\n",
       "A matrix: 3 × 2 of type dbl\n",
       "\n",
       "| <!--/--> | MEXP | REXP |\n",
       "|---|---|---|\n",
       "| LEXP | 0 | 0 |\n",
       "| MEXP | 1 | 0 |\n",
       "| REXP | 0 | 1 |\n",
       "\n"
      ],
      "text/plain": [
       "     MEXP REXP\n",
       "LEXP 0    0   \n",
       "MEXP 1    0   \n",
       "REXP 0    1   "
      ]
     },
     "metadata": {},
     "output_type": "display_data"
    },
    {
     "name": "stdout",
     "output_type": "stream",
     "text": [
      "[1] 3230   32\n"
     ]
    },
    {
     "data": {
      "text/plain": [
       "     HenID           DIB         CLASS          PenID     temperature_C_avg\n",
       " hen_116:  43   Min.   :11.00   LEXP: 965   pen10  :504   Min.   : 4.000   \n",
       " hen_124:  43   1st Qu.:23.00   MEXP:1379   pen11  :504   1st Qu.: 8.667   \n",
       " hen_127:  43   Median :33.00   REXP: 886   pen8   :430   Median :11.000   \n",
       " hen_136:  43   Mean   :33.59               pen9   :429   Mean   :10.838   \n",
       " hen_147:  43   3rd Qu.:44.00               pen4   :388   3rd Qu.:12.667   \n",
       " hen_151:  43   Max.   :54.00               pen5   :363   Max.   :19.333   \n",
       " (Other):2972                               (Other):612                    \n",
       "  tobeusedPCA     InitialWeight  Treatment   perc_duration_5_Zone\n",
       " Min.   :0.0000   Min.   :1046   TRAN:1616   Min.   :  0.00      \n",
       " 1st Qu.:0.0000   1st Qu.:1130   OFH :1614   1st Qu.: 11.00      \n",
       " Median :0.0000   Median :1164               Median : 33.00      \n",
       " Mean   :0.1734   Mean   :1169               Mean   : 39.21      \n",
       " 3rd Qu.:0.0000   3rd Qu.:1200               3rd Qu.: 66.00      \n",
       " Max.   :1.0000   Max.   :1350               Max.   :100.00      \n",
       "                                                                 \n",
       " perc_duration_4_Zone perc_duration_3_Zone perc_duration_2_Zone\n",
       " Min.   : 0.000       Min.   : 0.00        Min.   : 0.00       \n",
       " 1st Qu.: 4.000       1st Qu.: 7.00        1st Qu.:14.00       \n",
       " Median : 6.000       Median :17.00        Median :32.00       \n",
       " Mean   : 8.136       Mean   :18.27        Mean   :31.24       \n",
       " 3rd Qu.:10.000       3rd Qu.:28.00        3rd Qu.:46.00       \n",
       " Max.   :73.000       Max.   :70.00        Max.   :91.00       \n",
       "                                                               \n",
       " perc_1_Zone_while_WG_open nbr_stays_2_Zone_perh nbr_stays_4_Zone_perh\n",
       " Min.   : 0.000            Min.   :0.0000        Min.   :0.0000       \n",
       " 1st Qu.: 0.000            1st Qu.:0.4545        1st Qu.:0.2857       \n",
       " Median : 1.388            Median :1.0714        Median :0.5714       \n",
       " Mean   : 6.932            Mean   :1.1062        Mean   :0.7059       \n",
       " 3rd Qu.: 9.572            3rd Qu.:1.6667        3rd Qu.:1.0000       \n",
       " Max.   :87.949            Max.   :5.0909        Max.   :5.2500       \n",
       "                                                                      \n",
       " nbr_stays_3_Zone_perh nbr_stays_5_Zone_perh nbr_stays_1_Zone_perh\n",
       " Min.   :0.0000        Min.   :0.0000        Min.   :0.0000       \n",
       " 1st Qu.:0.6923        1st Qu.:0.2000        1st Qu.:0.0000       \n",
       " Median :1.3333        Median :0.3571        Median :0.1622       \n",
       " Mean   :1.3227        Mean   :0.4352        Mean   :0.4060       \n",
       " 3rd Qu.:1.8333        3rd Qu.:0.6000        3rd Qu.:0.6316       \n",
       " Max.   :5.1818        Max.   :3.1667        Max.   :3.5789       \n",
       "                                                                  \n",
       " in_WG_15mnAfterOpening SleepingHeight  vertical_travel_distance_perh\n",
       " Min.   :0.0000         Min.   :0.000   Min.   : 0.000               \n",
       " 1st Qu.:0.0000         1st Qu.:2.000   1st Qu.: 2.286               \n",
       " Median :0.0000         Median :3.000   Median : 3.600               \n",
       " Mean   :0.2065         Mean   :2.481   Mean   : 3.595               \n",
       " 3rd Qu.:0.0000         3rd Qu.:3.000   3rd Qu.: 4.800               \n",
       " Max.   :1.0000         Max.   :3.000   Max.   :12.308               \n",
       "                                                                     \n",
       " DIB_startat11       avgDIB         severity        Feathers    \n",
       " Min.   : 0.00   Min.   :21.91   Min.   : 6.00   Min.   :35.00  \n",
       " 1st Qu.:12.00   1st Qu.:21.91   1st Qu.:24.00   1st Qu.:58.67  \n",
       " Median :22.00   Median :22.36   Median :36.00   Median :66.33  \n",
       " Mean   :22.59   Mean   :22.59   Mean   :35.72   Mean   :65.81  \n",
       " 3rd Qu.:33.00   3rd Qu.:23.00   3rd Qu.:46.00   3rd Qu.:73.67  \n",
       " Max.   :43.00   Max.   :24.18   Max.   :84.00   Max.   :86.67  \n",
       "                                                 NA's   :42     \n",
       "      PC1               cDIB       temperature_C_avg_scale.V1\n",
       " Min.   :-1.7397   Min.   : 0.00   Min.   :-2.1505151        \n",
       " 1st Qu.:-0.6194   1st Qu.:12.00   1st Qu.:-0.6829345        \n",
       " Median : 0.3173   Median :22.00   Median : 0.0508558        \n",
       " Mean   : 0.1554   Mean   :22.59   Mean   : 0.0000000        \n",
       " 3rd Qu.: 0.8750   3rd Qu.:33.00   3rd Qu.: 0.5749917        \n",
       " Max.   : 2.9867   Max.   :43.00   Max.   : 2.6715354        \n",
       "                                                             \n",
       "       time.V1           time2          avgDIB_scale.V1   \n",
       " Min.   :0.0000000   Min.   :0.0000   Min.   :-1.0681873  \n",
       " 1st Qu.:0.4662313   1st Qu.:0.2174   1st Qu.:-1.0681873  \n",
       " Median :0.8547574   Median :0.7306   Median :-0.3677554  \n",
       " Mean   :0.8778164   Mean   :0.9997   Mean   : 0.0000000  \n",
       " 3rd Qu.:1.2821361   3rd Qu.:1.6439   3rd Qu.: 0.6324925  \n",
       " Max.   :1.6706623   Max.   :2.7911   Max.   : 2.4750543  \n",
       "                                                          \n",
       " InitialWeight_scale.V1\n",
       " Min.   :-1.9742093    \n",
       " 1st Qu.:-0.6252286    \n",
       " Median :-0.0792126    \n",
       " Mean   : 0.0000000    \n",
       " 3rd Qu.: 0.4989220    \n",
       " Max.   : 2.9078162    \n",
       "                       "
      ]
     },
     "metadata": {},
     "output_type": "display_data"
    }
   ],
   "source": [
    "path_ = 'G:/VPHI/Welfare/2- Research Projects/OFHE2.OriginsE2/DataOutput/TrackingSystem/ALLDATA_'\n",
    "path_adapt = file.path(path_,'Adaptability')\n",
    "df = read.csv(file.path(path_adapt,'df_MVT_4individuality_withPCA.csv'), header = TRUE, sep = \",\")\n",
    "df$HenID = as.factor(df$HenID)   \n",
    "df$PenID = as.factor(df$PenID) \n",
    "df$cDIB = as.integer(df$DIB_startat11)\n",
    "df$CLASS = as.factor(df$CLASS) \n",
    "df$Treatment = as.factor(df$Treatment)\n",
    "#scale: mean-centering of the environmental variable so that intercepts reflect average values for the population and ind. \n",
    "df$temperature_C_avg_scale = scale(df$temperature_C_avg, center=TRUE, scale=TRUE)\n",
    "df$time = scale(df$cDIB, center=FALSE, scale=TRUE)\n",
    "df$time2 = poly(df$time, degree=2, raw=TRUE)[,2]\n",
    "df$avgDIB_scale = scale(df$avgDIB, center=TRUE, scale=TRUE)\n",
    "df$InitialWeight_scale = scale(df$InitialWeight, center=TRUE, scale=TRUE)\n",
    "\n",
    "#setting reference group\n",
    "contrasts(df$Treatment)\n",
    "df <- df %>% mutate(Treatment = relevel(Treatment, ref = \"TRAN\"))\n",
    "contrasts(df$Treatment)\n",
    "\n",
    "contrasts(df$CLASS)\n",
    "df <- df %>% mutate(CLASS = relevel(CLASS, ref = \"LEXP\"))\n",
    "contrasts(df$CLASS)\n",
    "\n",
    "print(dim(df))\n",
    "summary(df)"
   ]
  },
  {
   "cell_type": "code",
   "execution_count": 6,
   "metadata": {},
   "outputs": [
    {
     "data": {
      "text/html": [
       "80"
      ],
      "text/latex": [
       "80"
      ],
      "text/markdown": [
       "80"
      ],
      "text/plain": [
       "[1] 80"
      ]
     },
     "metadata": {},
     "output_type": "display_data"
    }
   ],
   "source": [
    "length(unique(df[['HenID']]))"
   ]
  },
  {
   "cell_type": "markdown",
   "metadata": {},
   "source": [
    "# Predictibility"
   ]
  },
  {
   "cell_type": "code",
   "execution_count": 7,
   "metadata": {},
   "outputs": [
    {
     "data": {
      "text/html": [
       "<table class=\"dataframe\">\n",
       "<caption>A brmsprior: 16 × 9</caption>\n",
       "<thead>\n",
       "\t<tr><th scope=col>prior</th><th scope=col>class</th><th scope=col>coef</th><th scope=col>group</th><th scope=col>resp</th><th scope=col>dpar</th><th scope=col>nlpar</th><th scope=col>bound</th><th scope=col>source</th></tr>\n",
       "\t<tr><th scope=col>&lt;chr&gt;</th><th scope=col>&lt;chr&gt;</th><th scope=col>&lt;chr&gt;</th><th scope=col>&lt;chr&gt;</th><th scope=col>&lt;chr&gt;</th><th scope=col>&lt;chr&gt;</th><th scope=col>&lt;chr&gt;</th><th scope=col>&lt;chr&gt;</th><th scope=col>&lt;chr&gt;</th></tr>\n",
       "</thead>\n",
       "<tbody>\n",
       "\t<tr><td>                      </td><td>b        </td><td>                       </td><td>     </td><td></td><td></td><td></td><td></td><td>default</td></tr>\n",
       "\t<tr><td>                      </td><td>b        </td><td>avgDIB_scale           </td><td>     </td><td></td><td></td><td></td><td></td><td>default</td></tr>\n",
       "\t<tr><td>                      </td><td>b        </td><td>InitialWeight_scale    </td><td>     </td><td></td><td></td><td></td><td></td><td>default</td></tr>\n",
       "\t<tr><td>                      </td><td>b        </td><td>temperature_C_avg_scale</td><td>     </td><td></td><td></td><td></td><td></td><td>default</td></tr>\n",
       "\t<tr><td>                      </td><td>b        </td><td>time                   </td><td>     </td><td></td><td></td><td></td><td></td><td>default</td></tr>\n",
       "\t<tr><td>                      </td><td>b        </td><td>time2                  </td><td>     </td><td></td><td></td><td></td><td></td><td>default</td></tr>\n",
       "\t<tr><td>                      </td><td>b        </td><td>TreatmentOFH           </td><td>     </td><td></td><td></td><td></td><td></td><td>default</td></tr>\n",
       "\t<tr><td>lkj(1)                </td><td>cor      </td><td>                       </td><td>     </td><td></td><td></td><td></td><td></td><td>default</td></tr>\n",
       "\t<tr><td>                      </td><td>cor      </td><td>                       </td><td>HenID</td><td></td><td></td><td></td><td></td><td>default</td></tr>\n",
       "\t<tr><td>student_t(3, 0.3, 2.5)</td><td>Intercept</td><td>                       </td><td>     </td><td></td><td></td><td></td><td></td><td>default</td></tr>\n",
       "\t<tr><td>student_t(3, 0, 2.5)  </td><td>sd       </td><td>                       </td><td>     </td><td></td><td></td><td></td><td></td><td>default</td></tr>\n",
       "\t<tr><td>                      </td><td>sd       </td><td>                       </td><td>HenID</td><td></td><td></td><td></td><td></td><td>default</td></tr>\n",
       "\t<tr><td>                      </td><td>sd       </td><td>Intercept              </td><td>HenID</td><td></td><td></td><td></td><td></td><td>default</td></tr>\n",
       "\t<tr><td>                      </td><td>sd       </td><td>time                   </td><td>HenID</td><td></td><td></td><td></td><td></td><td>default</td></tr>\n",
       "\t<tr><td>                      </td><td>sd       </td><td>time2                  </td><td>HenID</td><td></td><td></td><td></td><td></td><td>default</td></tr>\n",
       "\t<tr><td>student_t(3, 0, 2.5)  </td><td>sigma    </td><td>                       </td><td>     </td><td></td><td></td><td></td><td></td><td>default</td></tr>\n",
       "</tbody>\n",
       "</table>\n"
      ],
      "text/latex": [
       "A brmsprior: 16 × 9\n",
       "\\begin{tabular}{lllllllll}\n",
       " prior & class & coef & group & resp & dpar & nlpar & bound & source\\\\\n",
       " <chr> & <chr> & <chr> & <chr> & <chr> & <chr> & <chr> & <chr> & <chr>\\\\\n",
       "\\hline\n",
       "\t                        & b         &                         &       &  &  &  &  & default\\\\\n",
       "\t                        & b         & avgDIB\\_scale            &       &  &  &  &  & default\\\\\n",
       "\t                        & b         & InitialWeight\\_scale     &       &  &  &  &  & default\\\\\n",
       "\t                        & b         & temperature\\_C\\_avg\\_scale &       &  &  &  &  & default\\\\\n",
       "\t                        & b         & time                    &       &  &  &  &  & default\\\\\n",
       "\t                        & b         & time2                   &       &  &  &  &  & default\\\\\n",
       "\t                        & b         & TreatmentOFH            &       &  &  &  &  & default\\\\\n",
       "\t lkj(1)                 & cor       &                         &       &  &  &  &  & default\\\\\n",
       "\t                        & cor       &                         & HenID &  &  &  &  & default\\\\\n",
       "\t student\\_t(3, 0.3, 2.5) & Intercept &                         &       &  &  &  &  & default\\\\\n",
       "\t student\\_t(3, 0, 2.5)   & sd        &                         &       &  &  &  &  & default\\\\\n",
       "\t                        & sd        &                         & HenID &  &  &  &  & default\\\\\n",
       "\t                        & sd        & Intercept               & HenID &  &  &  &  & default\\\\\n",
       "\t                        & sd        & time                    & HenID &  &  &  &  & default\\\\\n",
       "\t                        & sd        & time2                   & HenID &  &  &  &  & default\\\\\n",
       "\t student\\_t(3, 0, 2.5)   & sigma     &                         &       &  &  &  &  & default\\\\\n",
       "\\end{tabular}\n"
      ],
      "text/markdown": [
       "\n",
       "A brmsprior: 16 × 9\n",
       "\n",
       "| prior &lt;chr&gt; | class &lt;chr&gt; | coef &lt;chr&gt; | group &lt;chr&gt; | resp &lt;chr&gt; | dpar &lt;chr&gt; | nlpar &lt;chr&gt; | bound &lt;chr&gt; | source &lt;chr&gt; |\n",
       "|---|---|---|---|---|---|---|---|---|\n",
       "| <!----> | b         | <!----> | <!----> | <!----> | <!----> | <!----> | <!----> | default |\n",
       "| <!----> | b         | avgDIB_scale            | <!----> | <!----> | <!----> | <!----> | <!----> | default |\n",
       "| <!----> | b         | InitialWeight_scale     | <!----> | <!----> | <!----> | <!----> | <!----> | default |\n",
       "| <!----> | b         | temperature_C_avg_scale | <!----> | <!----> | <!----> | <!----> | <!----> | default |\n",
       "| <!----> | b         | time                    | <!----> | <!----> | <!----> | <!----> | <!----> | default |\n",
       "| <!----> | b         | time2                   | <!----> | <!----> | <!----> | <!----> | <!----> | default |\n",
       "| <!----> | b         | TreatmentOFH            | <!----> | <!----> | <!----> | <!----> | <!----> | default |\n",
       "| lkj(1)                 | cor       | <!----> | <!----> | <!----> | <!----> | <!----> | <!----> | default |\n",
       "| <!----> | cor       | <!----> | HenID | <!----> | <!----> | <!----> | <!----> | default |\n",
       "| student_t(3, 0.3, 2.5) | Intercept | <!----> | <!----> | <!----> | <!----> | <!----> | <!----> | default |\n",
       "| student_t(3, 0, 2.5)   | sd        | <!----> | <!----> | <!----> | <!----> | <!----> | <!----> | default |\n",
       "| <!----> | sd        | <!----> | HenID | <!----> | <!----> | <!----> | <!----> | default |\n",
       "| <!----> | sd        | Intercept               | HenID | <!----> | <!----> | <!----> | <!----> | default |\n",
       "| <!----> | sd        | time                    | HenID | <!----> | <!----> | <!----> | <!----> | default |\n",
       "| <!----> | sd        | time2                   | HenID | <!----> | <!----> | <!----> | <!----> | default |\n",
       "| student_t(3, 0, 2.5)   | sigma     | <!----> | <!----> | <!----> | <!----> | <!----> | <!----> | default |\n",
       "\n"
      ],
      "text/plain": [
       "   prior                  class     coef                    group resp dpar\n",
       "1                         b                                                \n",
       "2                         b         avgDIB_scale                           \n",
       "3                         b         InitialWeight_scale                    \n",
       "4                         b         temperature_C_avg_scale                \n",
       "5                         b         time                                   \n",
       "6                         b         time2                                  \n",
       "7                         b         TreatmentOFH                           \n",
       "8  lkj(1)                 cor                                              \n",
       "9                         cor                               HenID          \n",
       "10 student_t(3, 0.3, 2.5) Intercept                                        \n",
       "11 student_t(3, 0, 2.5)   sd                                               \n",
       "12                        sd                                HenID          \n",
       "13                        sd        Intercept               HenID          \n",
       "14                        sd        time                    HenID          \n",
       "15                        sd        time2                   HenID          \n",
       "16 student_t(3, 0, 2.5)   sigma                                            \n",
       "   nlpar bound source \n",
       "1              default\n",
       "2              default\n",
       "3              default\n",
       "4              default\n",
       "5              default\n",
       "6              default\n",
       "7              default\n",
       "8              default\n",
       "9              default\n",
       "10             default\n",
       "11             default\n",
       "12             default\n",
       "13             default\n",
       "14             default\n",
       "15             default\n",
       "16             default"
      ]
     },
     "metadata": {},
     "output_type": "display_data"
    }
   ],
   "source": [
    "#Get information on all parameters (and parameter classes) for which priors may be specified including default priors:\n",
    "get_prior(formula= PC1~ time + time2 + avgDIB_scale + Treatment + temperature_C_avg_scale + InitialWeight_scale +(1+ time + time2|HenID), \n",
    "          data=df, family = gaussian())"
   ]
  },
  {
   "cell_type": "code",
   "execution_count": 8,
   "metadata": {},
   "outputs": [
    {
     "name": "stderr",
     "output_type": "stream",
     "text": [
      "Compiling Stan program...\n",
      "\n",
      "Start sampling\n",
      "\n"
     ]
    },
    {
     "data": {
      "text/plain": [
       " Family: gaussian \n",
       "  Links: mu = identity; sigma = log \n",
       "Formula: PC1 ~ time + time2 + avgDIB_scale + Treatment + temperature_C_avg_scale + InitialWeight_scale + (1 + time + time2 | HenID) \n",
       "         sigma ~ (1 | HenID)\n",
       "   Data: df (Number of observations: 3230) \n",
       "  Draws: 10 chains, each with iter = 5000; warmup = 2500; thin = 3;\n",
       "         total post-warmup draws = 8334\n",
       "\n",
       "Group-Level Effects: \n",
       "~HenID (Number of levels: 80) \n",
       "                     Estimate Est.Error l-95% CI u-95% CI Rhat Bulk_ESS\n",
       "sd(Intercept)            1.12      0.10     0.94     1.33 1.00     9948\n",
       "sd(time)                 1.79      0.16     1.49     2.14 1.00    10281\n",
       "sd(time2)                0.90      0.09     0.75     1.09 1.00    10011\n",
       "sd(sigma_Intercept)      0.25      0.03     0.21     0.30 1.00    17191\n",
       "cor(Intercept,time)     -0.66      0.07    -0.78    -0.50 1.00     9368\n",
       "cor(Intercept,time2)     0.35      0.11     0.12     0.54 1.00     9087\n",
       "cor(time,time2)         -0.88      0.03    -0.92    -0.81 1.00    10647\n",
       "                     Tail_ESS\n",
       "sd(Intercept)           15863\n",
       "sd(time)                15987\n",
       "sd(time2)               15544\n",
       "sd(sigma_Intercept)     21723\n",
       "cor(Intercept,time)     15412\n",
       "cor(Intercept,time2)    15411\n",
       "cor(time,time2)         15971\n",
       "\n",
       "Population-Level Effects: \n",
       "                        Estimate Est.Error l-95% CI u-95% CI Rhat Bulk_ESS\n",
       "Intercept                  -0.66      0.15    -0.96    -0.37 1.00     6646\n",
       "sigma_Intercept            -0.73      0.03    -0.79    -0.67 1.00    14873\n",
       "time                        2.31      0.22     1.88     2.75 1.00     7864\n",
       "time2                      -1.07      0.11    -1.30    -0.86 1.00     9165\n",
       "avgDIB_scale                0.04      0.07    -0.10     0.19 1.00     7800\n",
       "TreatmentOFH               -0.29      0.15    -0.58     0.00 1.00     7548\n",
       "temperature_C_avg_scale    -0.03      0.01    -0.05    -0.01 1.00    25397\n",
       "InitialWeight_scale        -0.06      0.08    -0.21     0.09 1.00     8186\n",
       "                        Tail_ESS\n",
       "Intercept                  12699\n",
       "sigma_Intercept            19852\n",
       "time                       13753\n",
       "time2                      15175\n",
       "avgDIB_scale               13437\n",
       "TreatmentOFH               13666\n",
       "temperature_C_avg_scale    24478\n",
       "InitialWeight_scale        12994\n",
       "\n",
       "Draws were sampled using sampling(NUTS). For each parameter, Bulk_ESS\n",
       "and Tail_ESS are effective sample size measures, and Rhat is the potential\n",
       "scale reduction factor on split chains (at convergence, Rhat = 1)."
      ]
     },
     "metadata": {},
     "output_type": "display_data"
    },
    {
     "data": {
      "image/png": "[encoded data removed]",
      "text/plain": [
       "plot without title"
      ]
     },
     "metadata": {
      "image/png": {
       "height": 420,
       "width": 420
      }
     },
     "output_type": "display_data"
    },
    {
     "data": {
      "image/png": "[encoded data removed]",
      "text/plain": [
       "plot without title"
      ]
     },
     "metadata": {
      "image/png": {
       "height": 420,
       "width": 420
      }
     },
     "output_type": "display_data"
    },
    {
     "data": {
      "image/png": "[encoded data removed]",
      "text/plain": [
       "plot without title"
      ]
     },
     "metadata": {
      "image/png": {
       "height": 420,
       "width": 420
      }
     },
     "output_type": "display_data"
    },
    {
     "name": "stderr",
     "output_type": "stream",
     "text": [
      "Warning message:\n",
      "\"Method 'posterior_samples' is deprecated. Please see ?as_draws for recommended alternatives.\"\n"
     ]
    },
    {
     "data": {
      "text/html": [
       "0.255056019491043"
      ],
      "text/latex": [
       "0.255056019491043"
      ],
      "text/markdown": [
       "0.255056019491043"
      ],
      "text/plain": [
       "[1] 0.255056"
      ]
     },
     "metadata": {},
     "output_type": "display_data"
    },
    {
     "data": {
      "text/html": [
       "<table class=\"dataframe\">\n",
       "<caption>A matrix: 1 × 2 of type dbl</caption>\n",
       "<thead>\n",
       "\t<tr><th></th><th scope=col>lower</th><th scope=col>upper</th></tr>\n",
       "</thead>\n",
       "<tbody>\n",
       "\t<tr><th scope=row>var1</th><td>0.2045157</td><td>0.3074373</td></tr>\n",
       "</tbody>\n",
       "</table>\n"
      ],
      "text/latex": [
       "A matrix: 1 × 2 of type dbl\n",
       "\\begin{tabular}{r|ll}\n",
       "  & lower & upper\\\\\n",
       "\\hline\n",
       "\tvar1 & 0.2045157 & 0.3074373\\\\\n",
       "\\end{tabular}\n"
      ],
      "text/markdown": [
       "\n",
       "A matrix: 1 × 2 of type dbl\n",
       "\n",
       "| <!--/--> | lower | upper |\n",
       "|---|---|---|\n",
       "| var1 | 0.2045157 | 0.3074373 |\n",
       "\n"
      ],
      "text/plain": [
       "     lower     upper    \n",
       "var1 0.2045157 0.3074373"
      ]
     },
     "metadata": {},
     "output_type": "display_data"
    },
    {
     "data": {
      "text/html": [
       "<table class=\"dataframe\">\n",
       "<caption>A brmsprior: 19 × 9</caption>\n",
       "<thead>\n",
       "\t<tr><th scope=col>prior</th><th scope=col>class</th><th scope=col>coef</th><th scope=col>group</th><th scope=col>resp</th><th scope=col>dpar</th><th scope=col>nlpar</th><th scope=col>bound</th><th scope=col>source</th></tr>\n",
       "\t<tr><th scope=col>&lt;chr&gt;</th><th scope=col>&lt;chr&gt;</th><th scope=col>&lt;chr&gt;</th><th scope=col>&lt;chr&gt;</th><th scope=col>&lt;chr&gt;</th><th scope=col>&lt;chr&gt;</th><th scope=col>&lt;chr&gt;</th><th scope=col>&lt;chr&gt;</th><th scope=col>&lt;chr&gt;</th></tr>\n",
       "</thead>\n",
       "<tbody>\n",
       "\t<tr><td>                      </td><td>b        </td><td>                       </td><td>     </td><td></td><td>     </td><td></td><td></td><td>default</td></tr>\n",
       "\t<tr><td>                      </td><td>b        </td><td>avgDIB_scale           </td><td>     </td><td></td><td>     </td><td></td><td></td><td>default</td></tr>\n",
       "\t<tr><td>                      </td><td>b        </td><td>InitialWeight_scale    </td><td>     </td><td></td><td>     </td><td></td><td></td><td>default</td></tr>\n",
       "\t<tr><td>                      </td><td>b        </td><td>temperature_C_avg_scale</td><td>     </td><td></td><td>     </td><td></td><td></td><td>default</td></tr>\n",
       "\t<tr><td>                      </td><td>b        </td><td>time                   </td><td>     </td><td></td><td>     </td><td></td><td></td><td>default</td></tr>\n",
       "\t<tr><td>                      </td><td>b        </td><td>time2                  </td><td>     </td><td></td><td>     </td><td></td><td></td><td>default</td></tr>\n",
       "\t<tr><td>                      </td><td>b        </td><td>TreatmentOFH           </td><td>     </td><td></td><td>     </td><td></td><td></td><td>default</td></tr>\n",
       "\t<tr><td>student_t(3, 0.3, 2.5)</td><td>Intercept</td><td>                       </td><td>     </td><td></td><td>     </td><td></td><td></td><td>default</td></tr>\n",
       "\t<tr><td>student_t(3, 0, 2.5)  </td><td>Intercept</td><td>                       </td><td>     </td><td></td><td>sigma</td><td></td><td></td><td>default</td></tr>\n",
       "\t<tr><td>lkj_corr_cholesky(1)  </td><td>L        </td><td>                       </td><td>     </td><td></td><td>     </td><td></td><td></td><td>default</td></tr>\n",
       "\t<tr><td>                      </td><td>L        </td><td>                       </td><td>HenID</td><td></td><td>     </td><td></td><td></td><td>default</td></tr>\n",
       "\t<tr><td>student_t(3, 0, 2.5)  </td><td>sd       </td><td>                       </td><td>     </td><td></td><td>     </td><td></td><td></td><td>default</td></tr>\n",
       "\t<tr><td>student_t(3, 0, 2.5)  </td><td>sd       </td><td>                       </td><td>     </td><td></td><td>sigma</td><td></td><td></td><td>default</td></tr>\n",
       "\t<tr><td>                      </td><td>sd       </td><td>                       </td><td>HenID</td><td></td><td>     </td><td></td><td></td><td>default</td></tr>\n",
       "\t<tr><td>                      </td><td>sd       </td><td>Intercept              </td><td>HenID</td><td></td><td>     </td><td></td><td></td><td>default</td></tr>\n",
       "\t<tr><td>                      </td><td>sd       </td><td>time                   </td><td>HenID</td><td></td><td>     </td><td></td><td></td><td>default</td></tr>\n",
       "\t<tr><td>                      </td><td>sd       </td><td>time2                  </td><td>HenID</td><td></td><td>     </td><td></td><td></td><td>default</td></tr>\n",
       "\t<tr><td>                      </td><td>sd       </td><td>                       </td><td>HenID</td><td></td><td>sigma</td><td></td><td></td><td>default</td></tr>\n",
       "\t<tr><td>                      </td><td>sd       </td><td>Intercept              </td><td>HenID</td><td></td><td>sigma</td><td></td><td></td><td>default</td></tr>\n",
       "</tbody>\n",
       "</table>\n"
      ],
      "text/latex": [
       "A brmsprior: 19 × 9\n",
       "\\begin{tabular}{lllllllll}\n",
       " prior & class & coef & group & resp & dpar & nlpar & bound & source\\\\\n",
       " <chr> & <chr> & <chr> & <chr> & <chr> & <chr> & <chr> & <chr> & <chr>\\\\\n",
       "\\hline\n",
       "\t                        & b         &                         &       &  &       &  &  & default\\\\\n",
       "\t                        & b         & avgDIB\\_scale            &       &  &       &  &  & default\\\\\n",
       "\t                        & b         & InitialWeight\\_scale     &       &  &       &  &  & default\\\\\n",
       "\t                        & b         & temperature\\_C\\_avg\\_scale &       &  &       &  &  & default\\\\\n",
       "\t                        & b         & time                    &       &  &       &  &  & default\\\\\n",
       "\t                        & b         & time2                   &       &  &       &  &  & default\\\\\n",
       "\t                        & b         & TreatmentOFH            &       &  &       &  &  & default\\\\\n",
       "\t student\\_t(3, 0.3, 2.5) & Intercept &                         &       &  &       &  &  & default\\\\\n",
       "\t student\\_t(3, 0, 2.5)   & Intercept &                         &       &  & sigma &  &  & default\\\\\n",
       "\t lkj\\_corr\\_cholesky(1)   & L         &                         &       &  &       &  &  & default\\\\\n",
       "\t                        & L         &                         & HenID &  &       &  &  & default\\\\\n",
       "\t student\\_t(3, 0, 2.5)   & sd        &                         &       &  &       &  &  & default\\\\\n",
       "\t student\\_t(3, 0, 2.5)   & sd        &                         &       &  & sigma &  &  & default\\\\\n",
       "\t                        & sd        &                         & HenID &  &       &  &  & default\\\\\n",
       "\t                        & sd        & Intercept               & HenID &  &       &  &  & default\\\\\n",
       "\t                        & sd        & time                    & HenID &  &       &  &  & default\\\\\n",
       "\t                        & sd        & time2                   & HenID &  &       &  &  & default\\\\\n",
       "\t                        & sd        &                         & HenID &  & sigma &  &  & default\\\\\n",
       "\t                        & sd        & Intercept               & HenID &  & sigma &  &  & default\\\\\n",
       "\\end{tabular}\n"
      ],
      "text/markdown": [
       "\n",
       "A brmsprior: 19 × 9\n",
       "\n",
       "| prior &lt;chr&gt; | class &lt;chr&gt; | coef &lt;chr&gt; | group &lt;chr&gt; | resp &lt;chr&gt; | dpar &lt;chr&gt; | nlpar &lt;chr&gt; | bound &lt;chr&gt; | source &lt;chr&gt; |\n",
       "|---|---|---|---|---|---|---|---|---|\n",
       "| <!----> | b         | <!----> | <!----> | <!----> | <!----> | <!----> | <!----> | default |\n",
       "| <!----> | b         | avgDIB_scale            | <!----> | <!----> | <!----> | <!----> | <!----> | default |\n",
       "| <!----> | b         | InitialWeight_scale     | <!----> | <!----> | <!----> | <!----> | <!----> | default |\n",
       "| <!----> | b         | temperature_C_avg_scale | <!----> | <!----> | <!----> | <!----> | <!----> | default |\n",
       "| <!----> | b         | time                    | <!----> | <!----> | <!----> | <!----> | <!----> | default |\n",
       "| <!----> | b         | time2                   | <!----> | <!----> | <!----> | <!----> | <!----> | default |\n",
       "| <!----> | b         | TreatmentOFH            | <!----> | <!----> | <!----> | <!----> | <!----> | default |\n",
       "| student_t(3, 0.3, 2.5) | Intercept | <!----> | <!----> | <!----> | <!----> | <!----> | <!----> | default |\n",
       "| student_t(3, 0, 2.5)   | Intercept | <!----> | <!----> | <!----> | sigma | <!----> | <!----> | default |\n",
       "| lkj_corr_cholesky(1)   | L         | <!----> | <!----> | <!----> | <!----> | <!----> | <!----> | default |\n",
       "| <!----> | L         | <!----> | HenID | <!----> | <!----> | <!----> | <!----> | default |\n",
       "| student_t(3, 0, 2.5)   | sd        | <!----> | <!----> | <!----> | <!----> | <!----> | <!----> | default |\n",
       "| student_t(3, 0, 2.5)   | sd        | <!----> | <!----> | <!----> | sigma | <!----> | <!----> | default |\n",
       "| <!----> | sd        | <!----> | HenID | <!----> | <!----> | <!----> | <!----> | default |\n",
       "| <!----> | sd        | Intercept               | HenID | <!----> | <!----> | <!----> | <!----> | default |\n",
       "| <!----> | sd        | time                    | HenID | <!----> | <!----> | <!----> | <!----> | default |\n",
       "| <!----> | sd        | time2                   | HenID | <!----> | <!----> | <!----> | <!----> | default |\n",
       "| <!----> | sd        | <!----> | HenID | <!----> | sigma | <!----> | <!----> | default |\n",
       "| <!----> | sd        | Intercept               | HenID | <!----> | sigma | <!----> | <!----> | default |\n",
       "\n"
      ],
      "text/plain": [
       "   prior                  class     coef                    group resp dpar \n",
       "1                         b                                                 \n",
       "2                         b         avgDIB_scale                            \n",
       "3                         b         InitialWeight_scale                     \n",
       "4                         b         temperature_C_avg_scale                 \n",
       "5                         b         time                                    \n",
       "6                         b         time2                                   \n",
       "7                         b         TreatmentOFH                            \n",
       "8  student_t(3, 0.3, 2.5) Intercept                                         \n",
       "9  student_t(3, 0, 2.5)   Intercept                                    sigma\n",
       "10 lkj_corr_cholesky(1)   L                                                 \n",
       "11                        L                                 HenID           \n",
       "12 student_t(3, 0, 2.5)   sd                                                \n",
       "13 student_t(3, 0, 2.5)   sd                                           sigma\n",
       "14                        sd                                HenID           \n",
       "15                        sd        Intercept               HenID           \n",
       "16                        sd        time                    HenID           \n",
       "17                        sd        time2                   HenID           \n",
       "18                        sd                                HenID      sigma\n",
       "19                        sd        Intercept               HenID      sigma\n",
       "   nlpar bound source \n",
       "1              default\n",
       "2              default\n",
       "3              default\n",
       "4              default\n",
       "5              default\n",
       "6              default\n",
       "7              default\n",
       "8              default\n",
       "9              default\n",
       "10             default\n",
       "11             default\n",
       "12             default\n",
       "13             default\n",
       "14             default\n",
       "15             default\n",
       "16             default\n",
       "17             default\n",
       "18             default\n",
       "19             default"
      ]
     },
     "metadata": {},
     "output_type": "display_data"
    },
    {
     "data": {
      "image/png": "[encoded data removed]",
      "text/plain": [
       "plot without title"
      ]
     },
     "metadata": {
      "image/png": {
       "height": 420,
       "width": 420
      }
     },
     "output_type": "display_data"
    }
   ],
   "source": [
    "#help(brms) #to cite STAN for the following info:\n",
    "### bulk-ESS: We recommend requiring that the bulk-ESS is greater than 100 times the number of chains. For example, when running \n",
    "#4 chains, this corresponds to having a rank-normalized effective sample size of at least 400.\n",
    "### R-hat: We recommend running at least four chains by default and only using the sample if R-hat is less than 1.01.\n",
    "#more info: #https://mc-stan.org/misc/warnings.html#bulk-ess%22\n",
    "double_model = bf(PC1~ time + time2 + avgDIB_scale + Treatment + temperature_C_avg_scale + InitialWeight_scale +(1+time+time2|HenID), \n",
    "                  sigma~(1|HenID))\n",
    "modelPred = brm(double_model, data=df, iter=15000, inits=\"random\", seed=12345, control = list(max_treedepth = 15), \n",
    "                cores=my.cores, chains=10, thin=3)\n",
    "             #prior = c(set_prior(\"student_t(1, 0.01, 0.001)\", coef = \"temperature_C_avg_scale\"),\n",
    "             #         set_prior(\"student_t(1, 0.01, 0.001)\", coef = \"cDIB_scale\")))\n",
    "#modelPred = add_criterion(modelPred, \"waic\")\n",
    "summary(modelPred)\n",
    "pairs(modelPred)\n",
    "plot(modelPred)\n",
    "#head(get_variables(modelPred),10)\n",
    "\n",
    "#coefficient of variation in predictability” (CVP)\n",
    "log.norm.res = exp(posterior_samples(modelPred)$\"sd_HenID__sigma_Intercept\"^2)\n",
    "CVP = sqrt(log.norm.res-1)\n",
    "mean(CVP);HPDinterval(as.mcmc(CVP),0.95)\n",
    "#df_pred = posterior_samples(modelPred) #depreciated but still work well. we will instead use:\n",
    "#extract samples (draw) from the posterior distribution, including all variables\n",
    "df_pred = as_draws(modelPred)\n",
    "write.csv(df_pred, file.path(path_adapt,'BLUPS_variability.csv'), row.names = FALSE)\n",
    "prior_summary(modelPred)"
   ]
  },
  {
   "cell_type": "code",
   "execution_count": 9,
   "metadata": {},
   "outputs": [
    {
     "name": "stderr",
     "output_type": "stream",
     "text": [
      "Warning message:\n",
      "\"Method 'posterior_samples' is deprecated. Please see ?as_draws for recommended alternatives.\"\n"
     ]
    },
    {
     "data": {
      "text/html": [
       "0.255056019491043"
      ],
      "text/latex": [
       "0.255056019491043"
      ],
      "text/markdown": [
       "0.255056019491043"
      ],
      "text/plain": [
       "[1] 0.255056"
      ]
     },
     "metadata": {},
     "output_type": "display_data"
    },
    {
     "data": {
      "text/html": [
       "<table class=\"dataframe\">\n",
       "<caption>A matrix: 1 × 2 of type dbl</caption>\n",
       "<thead>\n",
       "\t<tr><th></th><th scope=col>lower</th><th scope=col>upper</th></tr>\n",
       "</thead>\n",
       "<tbody>\n",
       "\t<tr><th scope=row>var1</th><td>0.2045157</td><td>0.3074373</td></tr>\n",
       "</tbody>\n",
       "</table>\n"
      ],
      "text/latex": [
       "A matrix: 1 × 2 of type dbl\n",
       "\\begin{tabular}{r|ll}\n",
       "  & lower & upper\\\\\n",
       "\\hline\n",
       "\tvar1 & 0.2045157 & 0.3074373\\\\\n",
       "\\end{tabular}\n"
      ],
      "text/markdown": [
       "\n",
       "A matrix: 1 × 2 of type dbl\n",
       "\n",
       "| <!--/--> | lower | upper |\n",
       "|---|---|---|\n",
       "| var1 | 0.2045157 | 0.3074373 |\n",
       "\n"
      ],
      "text/plain": [
       "     lower     upper    \n",
       "var1 0.2045157 0.3074373"
      ]
     },
     "metadata": {},
     "output_type": "display_data"
    },
    {
     "data": {
      "text/html": [
       "<table class=\"dataframe\">\n",
       "<caption>A brmsprior: 19 × 9</caption>\n",
       "<thead>\n",
       "\t<tr><th scope=col>prior</th><th scope=col>class</th><th scope=col>coef</th><th scope=col>group</th><th scope=col>resp</th><th scope=col>dpar</th><th scope=col>nlpar</th><th scope=col>bound</th><th scope=col>source</th></tr>\n",
       "\t<tr><th scope=col>&lt;chr&gt;</th><th scope=col>&lt;chr&gt;</th><th scope=col>&lt;chr&gt;</th><th scope=col>&lt;chr&gt;</th><th scope=col>&lt;chr&gt;</th><th scope=col>&lt;chr&gt;</th><th scope=col>&lt;chr&gt;</th><th scope=col>&lt;chr&gt;</th><th scope=col>&lt;chr&gt;</th></tr>\n",
       "</thead>\n",
       "<tbody>\n",
       "\t<tr><td>                      </td><td>b        </td><td>                       </td><td>     </td><td></td><td>     </td><td></td><td></td><td>default</td></tr>\n",
       "\t<tr><td>                      </td><td>b        </td><td>avgDIB_scale           </td><td>     </td><td></td><td>     </td><td></td><td></td><td>default</td></tr>\n",
       "\t<tr><td>                      </td><td>b        </td><td>InitialWeight_scale    </td><td>     </td><td></td><td>     </td><td></td><td></td><td>default</td></tr>\n",
       "\t<tr><td>                      </td><td>b        </td><td>temperature_C_avg_scale</td><td>     </td><td></td><td>     </td><td></td><td></td><td>default</td></tr>\n",
       "\t<tr><td>                      </td><td>b        </td><td>time                   </td><td>     </td><td></td><td>     </td><td></td><td></td><td>default</td></tr>\n",
       "\t<tr><td>                      </td><td>b        </td><td>time2                  </td><td>     </td><td></td><td>     </td><td></td><td></td><td>default</td></tr>\n",
       "\t<tr><td>                      </td><td>b        </td><td>TreatmentOFH           </td><td>     </td><td></td><td>     </td><td></td><td></td><td>default</td></tr>\n",
       "\t<tr><td>student_t(3, 0.3, 2.5)</td><td>Intercept</td><td>                       </td><td>     </td><td></td><td>     </td><td></td><td></td><td>default</td></tr>\n",
       "\t<tr><td>student_t(3, 0, 2.5)  </td><td>Intercept</td><td>                       </td><td>     </td><td></td><td>sigma</td><td></td><td></td><td>default</td></tr>\n",
       "\t<tr><td>lkj_corr_cholesky(1)  </td><td>L        </td><td>                       </td><td>     </td><td></td><td>     </td><td></td><td></td><td>default</td></tr>\n",
       "\t<tr><td>                      </td><td>L        </td><td>                       </td><td>HenID</td><td></td><td>     </td><td></td><td></td><td>default</td></tr>\n",
       "\t<tr><td>student_t(3, 0, 2.5)  </td><td>sd       </td><td>                       </td><td>     </td><td></td><td>     </td><td></td><td></td><td>default</td></tr>\n",
       "\t<tr><td>student_t(3, 0, 2.5)  </td><td>sd       </td><td>                       </td><td>     </td><td></td><td>sigma</td><td></td><td></td><td>default</td></tr>\n",
       "\t<tr><td>                      </td><td>sd       </td><td>                       </td><td>HenID</td><td></td><td>     </td><td></td><td></td><td>default</td></tr>\n",
       "\t<tr><td>                      </td><td>sd       </td><td>Intercept              </td><td>HenID</td><td></td><td>     </td><td></td><td></td><td>default</td></tr>\n",
       "\t<tr><td>                      </td><td>sd       </td><td>time                   </td><td>HenID</td><td></td><td>     </td><td></td><td></td><td>default</td></tr>\n",
       "\t<tr><td>                      </td><td>sd       </td><td>time2                  </td><td>HenID</td><td></td><td>     </td><td></td><td></td><td>default</td></tr>\n",
       "\t<tr><td>                      </td><td>sd       </td><td>                       </td><td>HenID</td><td></td><td>sigma</td><td></td><td></td><td>default</td></tr>\n",
       "\t<tr><td>                      </td><td>sd       </td><td>Intercept              </td><td>HenID</td><td></td><td>sigma</td><td></td><td></td><td>default</td></tr>\n",
       "</tbody>\n",
       "</table>\n"
      ],
      "text/latex": [
       "A brmsprior: 19 × 9\n",
       "\\begin{tabular}{lllllllll}\n",
       " prior & class & coef & group & resp & dpar & nlpar & bound & source\\\\\n",
       " <chr> & <chr> & <chr> & <chr> & <chr> & <chr> & <chr> & <chr> & <chr>\\\\\n",
       "\\hline\n",
       "\t                        & b         &                         &       &  &       &  &  & default\\\\\n",
       "\t                        & b         & avgDIB\\_scale            &       &  &       &  &  & default\\\\\n",
       "\t                        & b         & InitialWeight\\_scale     &       &  &       &  &  & default\\\\\n",
       "\t                        & b         & temperature\\_C\\_avg\\_scale &       &  &       &  &  & default\\\\\n",
       "\t                        & b         & time                    &       &  &       &  &  & default\\\\\n",
       "\t                        & b         & time2                   &       &  &       &  &  & default\\\\\n",
       "\t                        & b         & TreatmentOFH            &       &  &       &  &  & default\\\\\n",
       "\t student\\_t(3, 0.3, 2.5) & Intercept &                         &       &  &       &  &  & default\\\\\n",
       "\t student\\_t(3, 0, 2.5)   & Intercept &                         &       &  & sigma &  &  & default\\\\\n",
       "\t lkj\\_corr\\_cholesky(1)   & L         &                         &       &  &       &  &  & default\\\\\n",
       "\t                        & L         &                         & HenID &  &       &  &  & default\\\\\n",
       "\t student\\_t(3, 0, 2.5)   & sd        &                         &       &  &       &  &  & default\\\\\n",
       "\t student\\_t(3, 0, 2.5)   & sd        &                         &       &  & sigma &  &  & default\\\\\n",
       "\t                        & sd        &                         & HenID &  &       &  &  & default\\\\\n",
       "\t                        & sd        & Intercept               & HenID &  &       &  &  & default\\\\\n",
       "\t                        & sd        & time                    & HenID &  &       &  &  & default\\\\\n",
       "\t                        & sd        & time2                   & HenID &  &       &  &  & default\\\\\n",
       "\t                        & sd        &                         & HenID &  & sigma &  &  & default\\\\\n",
       "\t                        & sd        & Intercept               & HenID &  & sigma &  &  & default\\\\\n",
       "\\end{tabular}\n"
      ],
      "text/markdown": [
       "\n",
       "A brmsprior: 19 × 9\n",
       "\n",
       "| prior &lt;chr&gt; | class &lt;chr&gt; | coef &lt;chr&gt; | group &lt;chr&gt; | resp &lt;chr&gt; | dpar &lt;chr&gt; | nlpar &lt;chr&gt; | bound &lt;chr&gt; | source &lt;chr&gt; |\n",
       "|---|---|---|---|---|---|---|---|---|\n",
       "| <!----> | b         | <!----> | <!----> | <!----> | <!----> | <!----> | <!----> | default |\n",
       "| <!----> | b         | avgDIB_scale            | <!----> | <!----> | <!----> | <!----> | <!----> | default |\n",
       "| <!----> | b         | InitialWeight_scale     | <!----> | <!----> | <!----> | <!----> | <!----> | default |\n",
       "| <!----> | b         | temperature_C_avg_scale | <!----> | <!----> | <!----> | <!----> | <!----> | default |\n",
       "| <!----> | b         | time                    | <!----> | <!----> | <!----> | <!----> | <!----> | default |\n",
       "| <!----> | b         | time2                   | <!----> | <!----> | <!----> | <!----> | <!----> | default |\n",
       "| <!----> | b         | TreatmentOFH            | <!----> | <!----> | <!----> | <!----> | <!----> | default |\n",
       "| student_t(3, 0.3, 2.5) | Intercept | <!----> | <!----> | <!----> | <!----> | <!----> | <!----> | default |\n",
       "| student_t(3, 0, 2.5)   | Intercept | <!----> | <!----> | <!----> | sigma | <!----> | <!----> | default |\n",
       "| lkj_corr_cholesky(1)   | L         | <!----> | <!----> | <!----> | <!----> | <!----> | <!----> | default |\n",
       "| <!----> | L         | <!----> | HenID | <!----> | <!----> | <!----> | <!----> | default |\n",
       "| student_t(3, 0, 2.5)   | sd        | <!----> | <!----> | <!----> | <!----> | <!----> | <!----> | default |\n",
       "| student_t(3, 0, 2.5)   | sd        | <!----> | <!----> | <!----> | sigma | <!----> | <!----> | default |\n",
       "| <!----> | sd        | <!----> | HenID | <!----> | <!----> | <!----> | <!----> | default |\n",
       "| <!----> | sd        | Intercept               | HenID | <!----> | <!----> | <!----> | <!----> | default |\n",
       "| <!----> | sd        | time                    | HenID | <!----> | <!----> | <!----> | <!----> | default |\n",
       "| <!----> | sd        | time2                   | HenID | <!----> | <!----> | <!----> | <!----> | default |\n",
       "| <!----> | sd        | <!----> | HenID | <!----> | sigma | <!----> | <!----> | default |\n",
       "| <!----> | sd        | Intercept               | HenID | <!----> | sigma | <!----> | <!----> | default |\n",
       "\n"
      ],
      "text/plain": [
       "   prior                  class     coef                    group resp dpar \n",
       "1                         b                                                 \n",
       "2                         b         avgDIB_scale                            \n",
       "3                         b         InitialWeight_scale                     \n",
       "4                         b         temperature_C_avg_scale                 \n",
       "5                         b         time                                    \n",
       "6                         b         time2                                   \n",
       "7                         b         TreatmentOFH                            \n",
       "8  student_t(3, 0.3, 2.5) Intercept                                         \n",
       "9  student_t(3, 0, 2.5)   Intercept                                    sigma\n",
       "10 lkj_corr_cholesky(1)   L                                                 \n",
       "11                        L                                 HenID           \n",
       "12 student_t(3, 0, 2.5)   sd                                                \n",
       "13 student_t(3, 0, 2.5)   sd                                           sigma\n",
       "14                        sd                                HenID           \n",
       "15                        sd        Intercept               HenID           \n",
       "16                        sd        time                    HenID           \n",
       "17                        sd        time2                   HenID           \n",
       "18                        sd                                HenID      sigma\n",
       "19                        sd        Intercept               HenID      sigma\n",
       "   nlpar bound source \n",
       "1              default\n",
       "2              default\n",
       "3              default\n",
       "4              default\n",
       "5              default\n",
       "6              default\n",
       "7              default\n",
       "8              default\n",
       "9              default\n",
       "10             default\n",
       "11             default\n",
       "12             default\n",
       "13             default\n",
       "14             default\n",
       "15             default\n",
       "16             default\n",
       "17             default\n",
       "18             default\n",
       "19             default"
      ]
     },
     "metadata": {},
     "output_type": "display_data"
    }
   ],
   "source": [
    "#coefficient of variation in predictability” (CVP)\n",
    "log.norm.res = exp(posterior_samples(modelPred)$\"sd_HenID__sigma_Intercept\"^2)\n",
    "CVP = sqrt(log.norm.res-1)\n",
    "mean(CVP);HPDinterval(as.mcmc(CVP),0.95)\n",
    "#df_pred = posterior_samples(modelPred) #depreciated but still work well. we will instead use:\n",
    "#extract samples (draw) from the posterior distribution, including all variables\n",
    "df_pred = as_draws(modelPred)\n",
    "write.csv(df_pred, file.path(path_adapt,'BLUPS_variability.csv'), row.names = FALSE)\n",
    "prior_summary(modelPred)"
   ]
  },
  {
   "cell_type": "code",
   "execution_count": 10,
   "metadata": {},
   "outputs": [
    {
     "data": {
      "text/html": [
       "-0.73094342337645"
      ],
      "text/latex": [
       "-0.73094342337645"
      ],
      "text/markdown": [
       "-0.73094342337645"
      ],
      "text/plain": [
       "[1] -0.7309434"
      ]
     },
     "metadata": {},
     "output_type": "display_data"
    }
   ],
   "source": [
    "#mean population-level residual variance\n",
    "fixef(modelPred, pars = \"sigma_Intercept\")[1]"
   ]
  },
  {
   "cell_type": "code",
   "execution_count": 11,
   "metadata": {},
   "outputs": [
    {
     "data": {
      "text/plain": [
       " Family: gaussian \n",
       "  Links: mu = identity; sigma = log \n",
       "Formula: PC1 ~ time + time2 + avgDIB_scale + Treatment + temperature_C_avg_scale + InitialWeight_scale + (1 + time + time2 | HenID) \n",
       "         sigma ~ (1 | HenID)\n",
       "   Data: df (Number of observations: 3230) \n",
       "  Draws: 10 chains, each with iter = 5000; warmup = 2500; thin = 3;\n",
       "         total post-warmup draws = 8334\n",
       "\n",
       "Group-Level Effects: \n",
       "~HenID (Number of levels: 80) \n",
       "                     Estimate Est.Error l-95% CI u-95% CI Rhat Bulk_ESS\n",
       "sd(Intercept)            1.12      0.10     0.94     1.33 1.00     9948\n",
       "sd(time)                 1.79      0.16     1.49     2.14 1.00    10281\n",
       "sd(time2)                0.90      0.09     0.75     1.09 1.00    10011\n",
       "sd(sigma_Intercept)      0.25      0.03     0.21     0.30 1.00    17191\n",
       "cor(Intercept,time)     -0.66      0.07    -0.78    -0.50 1.00     9368\n",
       "cor(Intercept,time2)     0.35      0.11     0.12     0.54 1.00     9087\n",
       "cor(time,time2)         -0.88      0.03    -0.92    -0.81 1.00    10647\n",
       "                     Tail_ESS\n",
       "sd(Intercept)           15863\n",
       "sd(time)                15987\n",
       "sd(time2)               15544\n",
       "sd(sigma_Intercept)     21723\n",
       "cor(Intercept,time)     15412\n",
       "cor(Intercept,time2)    15411\n",
       "cor(time,time2)         15971\n",
       "\n",
       "Population-Level Effects: \n",
       "                        Estimate Est.Error l-95% CI u-95% CI Rhat Bulk_ESS\n",
       "Intercept                  -0.66      0.15    -0.96    -0.37 1.00     6646\n",
       "sigma_Intercept            -0.73      0.03    -0.79    -0.67 1.00    14873\n",
       "time                        2.31      0.22     1.88     2.75 1.00     7864\n",
       "time2                      -1.07      0.11    -1.30    -0.86 1.00     9165\n",
       "avgDIB_scale                0.04      0.07    -0.10     0.19 1.00     7800\n",
       "TreatmentOFH               -0.29      0.15    -0.58     0.00 1.00     7548\n",
       "temperature_C_avg_scale    -0.03      0.01    -0.05    -0.01 1.00    25397\n",
       "InitialWeight_scale        -0.06      0.08    -0.21     0.09 1.00     8186\n",
       "                        Tail_ESS\n",
       "Intercept                  12699\n",
       "sigma_Intercept            19852\n",
       "time                       13753\n",
       "time2                      15175\n",
       "avgDIB_scale               13437\n",
       "TreatmentOFH               13666\n",
       "temperature_C_avg_scale    24478\n",
       "InitialWeight_scale        12994\n",
       "\n",
       "Draws were sampled using sampling(NUTS). For each parameter, Bulk_ESS\n",
       "and Tail_ESS are effective sample size measures, and Rhat is the potential\n",
       "scale reduction factor on split chains (at convergence, Rhat = 1)."
      ]
     },
     "metadata": {},
     "output_type": "display_data"
    }
   ],
   "source": [
    "#add score and save model\n",
    "add_criterion(modelPred, criterion='bayes_R2', file=file.path(path_adapt,'BRMS_Model_variance'))\n",
    "#model can be retrieve like this: \n",
    "#modelPred = readRDS(file.path(path_adapt,'BRMS_Model_variance_avgDIB_scale.rds'))\n",
    "#summary(modelPred)"
   ]
  },
  {
   "cell_type": "code",
   "execution_count": 12,
   "metadata": {},
   "outputs": [
    {
     "data": {
      "image/png": "[encoded data removed]",
      "text/plain": [
       "plot without title"
      ]
     },
     "metadata": {
      "image/png": {
       "height": 420,
       "width": 420
      }
     },
     "output_type": "display_data"
    }
   ],
   "source": [
    "#posterior predictive check\n",
    "pp_check(modelPred, ndraws = 100)\n",
    "#-->we don't see any major systematic discrepancies of our data from what can be predicted with modelPred"
   ]
  },
  {
   "cell_type": "code",
   "execution_count": 13,
   "metadata": {},
   "outputs": [],
   "source": [
    "##https://bookdown.org/marklhc/notes_bookdown/model-diagnostics.html\n",
    "#additonally marginal model plots could be done with : https://github.com/marklhc/usc-psyc621-notes/blob/master/mmp_brm.R\n",
    "#as explained here: https://bookdown.org/marklhc/notes_bookdown/model-diagnostics.html#diagnostic-tools"
   ]
  },
  {
   "cell_type": "code",
   "execution_count": null,
   "metadata": {},
   "outputs": [],
   "source": []
  },
  {
   "cell_type": "code",
   "execution_count": null,
   "metadata": {},
   "outputs": [],
   "source": []
  },
  {
   "cell_type": "code",
   "execution_count": null,
   "metadata": {},
   "outputs": [],
   "source": []
  },
  {
   "cell_type": "code",
   "execution_count": null,
   "metadata": {},
   "outputs": [],
   "source": []
  },
  {
   "cell_type": "code",
   "execution_count": null,
   "metadata": {},
   "outputs": [],
   "source": []
  },
  {
   "cell_type": "code",
   "execution_count": null,
   "metadata": {},
   "outputs": [],
   "source": []
  },
  {
   "cell_type": "code",
   "execution_count": null,
   "metadata": {},
   "outputs": [],
   "source": []
  }
 ],
 "metadata": {
  "kernelspec": {
   "display_name": " Rkernel_4",
   "language": "R",
   "name": "rkernel_4"
  },
  "language_info": {
   "codemirror_mode": "r",
   "file_extension": ".r",
   "mimetype": "text/x-r-source",
   "name": "R",
   "pygments_lexer": "r",
   "version": "4.1.1"
  }
 },
 "nbformat": 4,
 "nbformat_minor": 4
}
