{
 "cells": [
  {
   "cell_type": "code",
   "execution_count": 1,
   "id": "f1133e3a",
   "metadata": {},
   "outputs": [
    {
     "name": "stderr",
     "output_type": "stream",
     "text": [
      "Warning message:\n",
      "\"package 'nlme' was built under R version 3.6.3\"\n"
     ]
    }
   ],
   "source": [
    "library(nlme)"
   ]
  },
  {
   "cell_type": "code",
   "execution_count": 42,
   "id": "ace0fc2b",
   "metadata": {},
   "outputs": [
    {
     "data": {
      "text/html": [
       "0.576"
      ],
      "text/latex": [
       "0.576"
      ],
      "text/markdown": [
       "0.576"
      ],
      "text/plain": [
       "[1] 0.576"
      ]
     },
     "metadata": {},
     "output_type": "display_data"
    },
    {
     "data": {
      "text/html": [
       "0.504"
      ],
      "text/latex": [
       "0.504"
      ],
      "text/markdown": [
       "0.504"
      ],
      "text/plain": [
       "[1] 0.504"
      ]
     },
     "metadata": {},
     "output_type": "display_data"
    },
    {
     "data": {
      "text/html": [
       "0.384"
      ],
      "text/latex": [
       "0.384"
      ],
      "text/markdown": [
       "0.384"
      ],
      "text/plain": [
       "[1] 0.384"
      ]
     },
     "metadata": {},
     "output_type": "display_data"
    }
   ],
   "source": [
    "nID <- 50\n",
    "nrep <- 51\n",
    "\n",
    "# State values of desired parameters\n",
    "AR_low <- 0.2\n",
    "AR_med <- 0.4\n",
    "AR_high <- 0.6\n",
    "Ve1 <- 0.6 * (1/sqrt(1 / (1 - AR_low^2)))^2\n",
    "Ve2 <- 0.6 * (1/sqrt(1 / (1 - AR_med^2)))^2\n",
    "Ve3 <- 0.6 * (1/sqrt(1 / (1 - AR_high^2)))^2\n",
    "Vid <- 0.4\n",
    "\n",
    "rep2 <- 1:nrep\n",
    "rep3 <- 1:nrep\n",
    "rep2 <- rep2[rep2 %% 2 == 1]\n",
    "rep3 <- rep3[rep3 %% 5 == 1]\n",
    "Ve1; Ve2; Ve3"
   ]
  },
  {
   "cell_type": "code",
   "execution_count": 4,
   "id": "5a183979",
   "metadata": {},
   "outputs": [],
   "source": [
    "#add trend\n",
    "#x = arima.sim(list(ar=0.3), 100) + 1:100\n",
    "#arima(x, c(1,0,0), xreg=1:100)"
   ]
  },
  {
   "cell_type": "code",
   "execution_count": 43,
   "id": "73c5b802",
   "metadata": {},
   "outputs": [
    {
     "data": {
      "text/html": [
       "<style>\n",
       ".list-inline {list-style: none; margin:0; padding: 0}\n",
       ".list-inline>li {display: inline-block}\n",
       ".list-inline>li:not(:last-child)::after {content: \"\\00b7\"; padding: 0 .5ex}\n",
       "</style>\n",
       "<ol class=list-inline><li>2550</li><li>3</li></ol>\n"
      ],
      "text/latex": [
       "\\begin{enumerate*}\n",
       "\\item 2550\n",
       "\\item 3\n",
       "\\end{enumerate*}\n"
      ],
      "text/markdown": [
       "1. 2550\n",
       "2. 3\n",
       "\n",
       "\n"
      ],
      "text/plain": [
       "[1] 2550    3"
      ]
     },
     "metadata": {},
     "output_type": "display_data"
    },
    {
     "data": {
      "text/html": [
       "<table class=\"dataframe\">\n",
       "<caption>A data.frame: 3 × 3</caption>\n",
       "<thead>\n",
       "\t<tr><th></th><th scope=col>id</th><th scope=col>ID</th><th scope=col>rep</th></tr>\n",
       "\t<tr><th></th><th scope=col>&lt;int&gt;</th><th scope=col>&lt;dbl&gt;</th><th scope=col>&lt;int&gt;</th></tr>\n",
       "</thead>\n",
       "<tbody>\n",
       "\t<tr><th scope=row>1</th><td>1</td><td>-1.352371</td><td>1</td></tr>\n",
       "\t<tr><th scope=row>2</th><td>1</td><td>-1.352371</td><td>2</td></tr>\n",
       "\t<tr><th scope=row>3</th><td>1</td><td>-1.352371</td><td>3</td></tr>\n",
       "</tbody>\n",
       "</table>\n"
      ],
      "text/latex": [
       "A data.frame: 3 × 3\n",
       "\\begin{tabular}{r|lll}\n",
       "  & id & ID & rep\\\\\n",
       "  & <int> & <dbl> & <int>\\\\\n",
       "\\hline\n",
       "\t1 & 1 & -1.352371 & 1\\\\\n",
       "\t2 & 1 & -1.352371 & 2\\\\\n",
       "\t3 & 1 & -1.352371 & 3\\\\\n",
       "\\end{tabular}\n"
      ],
      "text/markdown": [
       "\n",
       "A data.frame: 3 × 3\n",
       "\n",
       "| <!--/--> | id &lt;int&gt; | ID &lt;dbl&gt; | rep &lt;int&gt; |\n",
       "|---|---|---|---|\n",
       "| 1 | 1 | -1.352371 | 1 |\n",
       "| 2 | 1 | -1.352371 | 2 |\n",
       "| 3 | 1 | -1.352371 | 3 |\n",
       "\n"
      ],
      "text/plain": [
       "  id ID        rep\n",
       "1 1  -1.352371 1  \n",
       "2 1  -1.352371 2  \n",
       "3 1  -1.352371 3  "
      ]
     },
     "metadata": {},
     "output_type": "display_data"
    },
    {
     "data": {
      "text/plain": [
       "       id             ID                rep    \n",
       " Min.   : 1.0   Min.   :-1.35237   Min.   : 1  \n",
       " 1st Qu.:13.0   1st Qu.:-0.47798   1st Qu.:13  \n",
       " Median :25.5   Median :-0.03798   Median :26  \n",
       " Mean   :25.5   Mean   :-0.07143   Mean   :26  \n",
       " 3rd Qu.:38.0   3rd Qu.: 0.41156   3rd Qu.:39  \n",
       " Max.   :50.0   Max.   : 1.19377   Max.   :51  "
      ]
     },
     "metadata": {},
     "output_type": "display_data"
    },
    {
     "data": {
      "text/html": [
       "<style>\n",
       ".list-inline {list-style: none; margin:0; padding: 0}\n",
       ".list-inline>li {display: inline-block}\n",
       ".list-inline>li:not(:last-child)::after {content: \"\\00b7\"; padding: 0 .5ex}\n",
       "</style>\n",
       "<ol class=list-inline><li>2550</li><li>6</li></ol>\n"
      ],
      "text/latex": [
       "\\begin{enumerate*}\n",
       "\\item 2550\n",
       "\\item 6\n",
       "\\end{enumerate*}\n"
      ],
      "text/markdown": [
       "1. 2550\n",
       "2. 6\n",
       "\n",
       "\n"
      ],
      "text/plain": [
       "[1] 2550    6"
      ]
     },
     "metadata": {},
     "output_type": "display_data"
    },
    {
     "data": {
      "text/html": [
       "<table class=\"dataframe\">\n",
       "<caption>A data.frame: 3 × 6</caption>\n",
       "<thead>\n",
       "\t<tr><th></th><th scope=col>id</th><th scope=col>ID</th><th scope=col>rep</th><th scope=col>y1</th><th scope=col>y2</th><th scope=col>y3</th></tr>\n",
       "\t<tr><th></th><th scope=col>&lt;int&gt;</th><th scope=col>&lt;dbl&gt;</th><th scope=col>&lt;int&gt;</th><th scope=col>&lt;dbl&gt;</th><th scope=col>&lt;dbl&gt;</th><th scope=col>&lt;dbl&gt;</th></tr>\n",
       "</thead>\n",
       "<tbody>\n",
       "\t<tr><th scope=row>1</th><td>1</td><td>-1.352371</td><td>1</td><td>-0.1637671</td><td>-0.6235192</td><td>-0.9997066</td></tr>\n",
       "\t<tr><th scope=row>2</th><td>1</td><td>-1.352371</td><td>2</td><td>-1.4304237</td><td>-2.2255736</td><td>-2.2706895</td></tr>\n",
       "\t<tr><th scope=row>3</th><td>1</td><td>-1.352371</td><td>3</td><td>-2.2584521</td><td>-1.7398459</td><td>-2.0601983</td></tr>\n",
       "</tbody>\n",
       "</table>\n"
      ],
      "text/latex": [
       "A data.frame: 3 × 6\n",
       "\\begin{tabular}{r|llllll}\n",
       "  & id & ID & rep & y1 & y2 & y3\\\\\n",
       "  & <int> & <dbl> & <int> & <dbl> & <dbl> & <dbl>\\\\\n",
       "\\hline\n",
       "\t1 & 1 & -1.352371 & 1 & -0.1637671 & -0.6235192 & -0.9997066\\\\\n",
       "\t2 & 1 & -1.352371 & 2 & -1.4304237 & -2.2255736 & -2.2706895\\\\\n",
       "\t3 & 1 & -1.352371 & 3 & -2.2584521 & -1.7398459 & -2.0601983\\\\\n",
       "\\end{tabular}\n"
      ],
      "text/markdown": [
       "\n",
       "A data.frame: 3 × 6\n",
       "\n",
       "| <!--/--> | id &lt;int&gt; | ID &lt;dbl&gt; | rep &lt;int&gt; | y1 &lt;dbl&gt; | y2 &lt;dbl&gt; | y3 &lt;dbl&gt; |\n",
       "|---|---|---|---|---|---|---|\n",
       "| 1 | 1 | -1.352371 | 1 | -0.1637671 | -0.6235192 | -0.9997066 |\n",
       "| 2 | 1 | -1.352371 | 2 | -1.4304237 | -2.2255736 | -2.2706895 |\n",
       "| 3 | 1 | -1.352371 | 3 | -2.2584521 | -1.7398459 | -2.0601983 |\n",
       "\n"
      ],
      "text/plain": [
       "  id ID        rep y1         y2         y3        \n",
       "1 1  -1.352371 1   -0.1637671 -0.6235192 -0.9997066\n",
       "2 1  -1.352371 2   -1.4304237 -2.2255736 -2.2706895\n",
       "3 1  -1.352371 3   -2.2584521 -1.7398459 -2.0601983"
      ]
     },
     "metadata": {},
     "output_type": "display_data"
    },
    {
     "data": {
      "text/plain": [
       "       id             ID                rep           y1          \n",
       " Min.   : 1.0   Min.   :-1.35237   Min.   : 1   Min.   :-3.20748  \n",
       " 1st Qu.:13.0   1st Qu.:-0.47798   1st Qu.:13   1st Qu.:-0.74758  \n",
       " Median :25.5   Median :-0.03798   Median :26   Median :-0.09577  \n",
       " Mean   :25.5   Mean   :-0.07143   Mean   :26   Mean   :-0.09836  \n",
       " 3rd Qu.:38.0   3rd Qu.: 0.41156   3rd Qu.:39   3rd Qu.: 0.54485  \n",
       " Max.   :50.0   Max.   : 1.19377   Max.   :51   Max.   : 3.17252  \n",
       "       y2                 y3          \n",
       " Min.   :-3.35017   Min.   :-2.95987  \n",
       " 1st Qu.:-0.70405   1st Qu.:-0.71258  \n",
       " Median :-0.07321   Median :-0.06505  \n",
       " Mean   :-0.04361   Mean   :-0.06588  \n",
       " 3rd Qu.: 0.60585   3rd Qu.: 0.57201  \n",
       " Max.   : 3.41357   Max.   : 3.47314  "
      ]
     },
     "metadata": {},
     "output_type": "display_data"
    },
    {
     "data": {
      "image/png": "[encoded data removed]",
      "text/plain": [
       "plot without title"
      ]
     },
     "metadata": {
      "image/png": {
       "height": 420,
       "width": 420
      }
     },
     "output_type": "display_data"
    }
   ],
   "source": [
    "#set.seed(15) # make sure sampling each time is independent\n",
    "for (i in 1:50){\n",
    "    ID = rnorm(nID, 0,sqrt(Vid)) # Generate BLUPs to simulate from\n",
    "    ds = data.frame( id =sort(rep(c(1:nID),nrep)), ID =sort(rep(ID,nrep)), rep=(rep(c(1:nrep),nID)))\n",
    "    ds = ds[order(ds$id),]\n",
    "    dim(ds)\n",
    "    head(ds, 3)\n",
    "    summary(ds)\n",
    "\n",
    "    #This is followed by simulating the response variable for each individual ‘i’. \n",
    "    #Each individual is simulated as a time series, with an AR1 correlation coefficient \n",
    "    #and the calculated residual standard deviation.\n",
    "    for(i in 1:nID){\n",
    "        ds$y1[ds$id == i] <- ds$ID[ds$id == i] +\n",
    "        arima.sim(model=list(ar=AR_low),n=nrep, sd =sqrt(Ve1), n.start = 200)\n",
    "\n",
    "        ds$y2[ds$id == i] <- ds$ID[ds$id == i] +\n",
    "        arima.sim(model=list(ar=AR_med),n=nrep, sd =sqrt(Ve2), n.start = 200)\n",
    "\n",
    "        ds$y3[ds$id == i] <- ds$ID[ds$id == i] +\n",
    "        arima.sim(model=list(ar=AR_high),n=nrep, sd =sqrt(Ve3), n.start = 200)}\n",
    "\n",
    "    dim(ds)\n",
    "    head(ds, 3)\n",
    "    summary(ds)\n",
    "\n",
    "    #initialise the repeatability matrix\n",
    "    R <-list(r2a =rep(0,nrep), r4a =rep(0,nrep), r6a =rep(0,nrep),\n",
    "             r4b =rep(0,nrep), r4b =rep(0,nrep), r6b =rep(0,nrep),\n",
    "             r2c =rep(0,nrep), r4c =rep(0,nrep), r6c =rep(0,nrep))\n",
    "\n",
    "    for(k in 2:nrep){\n",
    "        mod <-lme(y1 ~ 1, random = ~1|id,data =subset(ds, rep <= k))\n",
    "        mod2<-lme(y2 ~ 1, random = ~1|id,data =subset(ds, rep <= k))\n",
    "        mod3<-lme(y3 ~ 1, random = ~1|id,data =subset(ds, rep <= k))\n",
    "\n",
    "        R$r2a[k] <-as.numeric(VarCorr(mod)[1]) /(as.numeric(VarCorr(mod)[1]) +as.numeric(VarCorr(mod)[2]))\n",
    "        R$r4a[k] <-as.numeric(VarCorr(mod2)[1]) /(as.numeric(VarCorr(mod2)[1])+as.numeric(VarCorr(mod2)[2]))\n",
    "        R$r6a[k] <-as.numeric(VarCorr(mod3)[1]) /(as.numeric(VarCorr(mod3)[1])+as.numeric(VarCorr(mod3)[2]))\n",
    "    }\n",
    "    #plot(R$r2a[2:nrep], ylab ='Repeatability', xlab ='Experiment duration')\n",
    "}\n"
   ]
  },
  {
   "cell_type": "code",
   "execution_count": null,
   "id": "b673f988",
   "metadata": {},
   "outputs": [],
   "source": []
  },
  {
   "cell_type": "code",
   "execution_count": null,
   "id": "b984de3f",
   "metadata": {},
   "outputs": [],
   "source": []
  },
  {
   "cell_type": "code",
   "execution_count": 36,
   "id": "7922ee29",
   "metadata": {},
   "outputs": [
    {
     "ename": "ERROR",
     "evalue": "Error in (function (formula, data = NULL, subset = NULL, na.action = na.fail, : les longueurs des variables diffèrent (trouvé pour 'R$x')\n",
     "output_type": "error",
     "traceback": [
      "Error in (function (formula, data = NULL, subset = NULL, na.action = na.fail, : les longueurs des variables diffèrent (trouvé pour 'R$x')\nTraceback:\n",
      "1. plot(R$r6b ~ R$x, xlab = \"\", type = \"l\", ylim = c(0.59, 0.85), \n .     xlim = c(0, 50), col = \"red\", ylab = \"\", axes = F, lwd = 2)",
      "2. plot.formula(R$r6b ~ R$x, xlab = \"\", type = \"l\", ylim = c(0.59, \n .     0.85), xlim = c(0, 50), col = \"red\", ylab = \"\", axes = F, \n .     lwd = 2)",
      "3. eval(m, eframe)",
      "4. eval(m, eframe)",
      "5. (function (formula, data = NULL, subset = NULL, na.action = na.fail, \n .     drop.unused.levels = FALSE, xlev = NULL, ...) \n . {\n .     possible_newdata <- !missing(data) && is.data.frame(data) && \n .         identical(substitute(data), quote(newdata)) && (nr <- nrow(data)) > \n .         0\n .     if (!missing(formula) && nargs() == 1 && is.list(formula) && \n .         !is.null(m <- formula$model)) \n .         return(m)\n .     if (!missing(formula) && nargs() == 1 && is.list(formula) && \n .         all(c(\"terms\", \"call\") %in% names(formula))) {\n .         fcall <- formula$call\n .         m <- match(c(\"formula\", \"data\", \"subset\", \"weights\", \n .             \"na.action\"), names(fcall), 0)\n .         fcall <- fcall[c(1, m)]\n .         fcall[[1L]] <- quote(stats::model.frame)\n .         env <- environment(formula$terms)\n .         if (is.null(env)) \n .             env <- parent.frame()\n .         return(eval(fcall, env))\n .     }\n .     if (missing(formula)) {\n .         if (!missing(data) && inherits(data, \"data.frame\") && \n .             length(attr(data, \"terms\"))) \n .             return(data)\n .         formula <- as.formula(data)\n .     }\n .     else if (missing(data) && inherits(formula, \"data.frame\")) {\n .         if (length(attr(formula, \"terms\"))) \n .             return(formula)\n .         data <- formula\n .         formula <- as.formula(data)\n .     }\n .     formula <- as.formula(formula)\n .     if (missing(na.action)) {\n .         if (!is.null(naa <- attr(data, \"na.action\")) & mode(naa) != \n .             \"numeric\") \n .             na.action <- naa\n .         else if (!is.null(naa <- getOption(\"na.action\"))) \n .             na.action <- naa\n .     }\n .     if (missing(data)) \n .         data <- environment(formula)\n .     else if (!is.data.frame(data) && !is.environment(data) && \n .         !is.null(attr(data, \"class\"))) \n .         data <- as.data.frame(data)\n .     else if (is.array(data)) \n .         stop(\"'data' must be a data.frame, not a matrix or an array\")\n .     if (!inherits(formula, \"terms\")) \n .         formula <- terms(formula, data = data)\n .     env <- environment(formula)\n .     rownames <- .row_names_info(data, 0L)\n .     vars <- attr(formula, \"variables\")\n .     predvars <- attr(formula, \"predvars\")\n .     if (is.null(predvars)) \n .         predvars <- vars\n .     varnames <- vapply(vars, deparse2, \" \")[-1L]\n .     variables <- eval(predvars, data, env)\n .     resp <- attr(formula, \"response\")\n .     if (is.null(rownames) && resp > 0L) {\n .         lhs <- variables[[resp]]\n .         rownames <- if (is.matrix(lhs)) \n .             rownames(lhs)\n .         else names(lhs)\n .     }\n .     if (possible_newdata && length(variables)) {\n .         nr2 <- max(sapply(variables, NROW))\n .         if (nr2 != nr) \n .             warning(sprintf(paste0(ngettext(nr, \"'newdata' had %d row\", \n .                 \"'newdata' had %d rows\"), \" \", ngettext(nr2, \n .                 \"but variable found had %d row\", \"but variables found have %d rows\")), \n .                 nr, nr2), call. = FALSE, domain = NA)\n .     }\n .     if (is.null(attr(formula, \"predvars\"))) {\n .         for (i in seq_along(varnames)) predvars[[i + 1L]] <- makepredictcall(variables[[i]], \n .             vars[[i + 1L]])\n .         attr(formula, \"predvars\") <- predvars\n .     }\n .     extras <- substitute(list(...))\n .     extranames <- names(extras[-1L])\n .     extras <- eval(extras, data, env)\n .     subset <- eval(substitute(subset), data, env)\n .     data <- .External2(C_modelframe, formula, rownames, variables, \n .         varnames, extras, extranames, subset, na.action)\n .     if (length(xlev)) {\n .         for (nm in names(xlev)) if (!is.null(xl <- xlev[[nm]])) {\n .             xi <- data[[nm]]\n .             if (is.character(xi)) \n .                 xi <- as.factor(xi)\n .             if (!is.factor(xi) || is.null(nxl <- levels(xi))) \n .                 warning(gettextf(\"variable '%s' is not a factor\", \n .                   nm), domain = NA)\n .             else {\n .                 ctr <- attr(xi, \"contrasts\")\n .                 xi <- xi[, drop = TRUE]\n .                 nxl <- levels(xi)\n .                 if (any(m <- is.na(match(nxl, xl)))) \n .                   stop(sprintf(ngettext(length(m), \"factor %s has new level %s\", \n .                     \"factor %s has new levels %s\"), nm, paste(nxl[m], \n .                     collapse = \", \")), domain = NA)\n .                 data[[nm]] <- factor(xi, levels = xl, exclude = NULL)\n .                 if (!identical(attr(data[[nm]], \"contrasts\"), \n .                   ctr)) \n .                   warning(gettext(sprintf(\"contrasts dropped from factor %s\", \n .                     nm), domain = NA), call. = FALSE)\n .             }\n .         }\n .     }\n .     else if (drop.unused.levels) {\n .         for (nm in names(data)) {\n .             x <- data[[nm]]\n .             if (is.factor(x) && length(unique(x[!is.na(x)])) < \n .                 length(levels(x))) {\n .                 ctr <- attr(x, \"contrasts\")\n .                 data[[nm]] <- x[, drop = TRUE]\n .                 if (!identical(attr(data[[nm]], \"contrasts\"), \n .                   ctr)) \n .                   warning(gettext(sprintf(\"contrasts dropped from factor %s due to missing levels\", \n .                     nm), domain = NA), call. = FALSE)\n .             }\n .         }\n .     }\n .     attr(formula, \"dataClasses\") <- vapply(data, .MFclass, \"\")\n .     attr(data, \"terms\") <- formula\n .     data\n . })(formula = R$r6b ~ R$x, na.action = NULL)"
     ]
    }
   ],
   "source": [
    "plot(R$r6b  ~ R$x, xlab ='', type ='l', ylim =c(0.59,0.85), xlim =c(0,50)\n",
    "     ,col = \"red\", ylab ='', axes = F, lwd = 2)\n",
    "lines(R$r4b ~ R$x, type ='l', col ='blue', lwd = 2)\n",
    "lines(R$r2b ~ R$x, type ='l', col ='dark green', lwd = 2)\n",
    "lines(x =c(0, nrep), y =c(0.6,0.6), col='black', lty=2, lwd = 2)\n",
    "\n",
    "axis(1, at =c(0,10,20,30,40,50), labels = F)\n",
    "axis(1, at = 1:nrep, labels = F, tck = 0.015)\n",
    "axis(2, at =c(0.6,  0.7 ,.8, .9))\n",
    "axis(2, at =c(.65, .75, 0.85), labels = F, tck = -0.01)\n",
    "mtext(text ='Repeatability', side = 2, line = 2, cex=1)\n",
    "box()"
   ]
  },
  {
   "cell_type": "code",
   "execution_count": null,
   "id": "604627e9",
   "metadata": {},
   "outputs": [],
   "source": []
  },
  {
   "cell_type": "code",
   "execution_count": null,
   "id": "3777f283",
   "metadata": {},
   "outputs": [],
   "source": []
  },
  {
   "cell_type": "code",
   "execution_count": null,
   "id": "d35f89cf",
   "metadata": {},
   "outputs": [],
   "source": [
    "TODO"
   ]
  },
  {
   "cell_type": "code",
   "execution_count": null,
   "id": "440c5955",
   "metadata": {},
   "outputs": [],
   "source": []
  },
  {
   "cell_type": "code",
   "execution_count": null,
   "id": "dd00ba1d",
   "metadata": {},
   "outputs": [],
   "source": []
  },
  {
   "cell_type": "code",
   "execution_count": null,
   "id": "8ec2b27f",
   "metadata": {},
   "outputs": [],
   "source": [
    "#different sampling frequencies\n",
    "ds2 <-subset(ds, (rep) %% 2 == 1)\n",
    "ds3 <-subset(ds, (rep) %% 5 == 1)\n",
    "head(ds2,3)\n",
    "head(ds3,3)\n",
    "\n",
    "#rep2 ad rep3 are the sample frequencies (1,3,5...) and resp. (1,6,11,...)\n",
    "for(k in rep2){\n",
    "    mod <-lme(y1 ~ 1, random = ~1|id,data =subset(ds2, rep <= k))\n",
    "    mod2<-lme(y2 ~ 1, random = ~1|id,data =subset(ds2, rep <= k))\n",
    "    mod3<-lme(y3 ~ 1, random = ~1|id,data =subset(ds2, rep <= k))\n",
    "    \n",
    "    R$r2b[k] <-as.numeric(VarCorr(mod)[1]) /(as.numeric(VarCorr(mod)[1]) +as.numeric(VarCorr(mod)[2]))\n",
    "    R$r4b[k] <-as.numeric(VarCorr(mod2)[1])/(as.numeric(VarCorr(mod2)[1])+as.numeric(VarCorr(mod2)[2]))\n",
    "    R$r6b[k] <-as.numeric(VarCorr(mod3)[1])/(as.numeric(VarCorr(mod3)[1])+as.numeric(VarCorr(mod3)[2]))\n",
    "}\n",
    "\n",
    "for(k in rep3){\n",
    "    mod <-lme(y1 ~ 1, random = ~1|id,data =subset(ds3, rep <= k))\n",
    "    mod2<-lme(y2 ~ 1, random = ~1|id,data =subset(ds3, rep <= k))\n",
    "    mod3<-lme(y3 ~ 1, random = ~1|id,data =subset(ds3, rep <= k))\n",
    "    \n",
    "    # and spit out the R values into a matrix\n",
    "    R$r2c[k] <-as.numeric(VarCorr(mod)[1]) /(as.numeric(VarCorr(mod)[1]) +as.numeric(VarCorr(mod)[2]))\n",
    "    R$r4c[k] <-as.numeric(VarCorr(mod2)[1])/(as.numeric(VarCorr(mod2)[1])+as.numeric(VarCorr(mod2)[2]))\n",
    "    R$r6c[k] <-as.numeric(VarCorr(mod3)[1])/(as.numeric(VarCorr(mod3)[1])+as.numeric(VarCorr(mod3)[2]))}\n",
    "plot(R$r6c[rep3], ylab ='Repeatability', xlab ='Experiment duration (i.e. nbr data, with interval of 5 in between)')"
   ]
  },
  {
   "cell_type": "code",
   "execution_count": 34,
   "id": "ca1a4244",
   "metadata": {},
   "outputs": [
    {
     "ename": "ERROR",
     "evalue": "Error in (function (formula, data = NULL, subset = NULL, na.action = na.fail, : type (NULL) incorrect pour la variable 'R$RepAR6_a'\n",
     "output_type": "error",
     "traceback": [
      "Error in (function (formula, data = NULL, subset = NULL, na.action = na.fail, : type (NULL) incorrect pour la variable 'R$RepAR6_a'\nTraceback:\n",
      "1. plot(R$RepAR6_a ~ R$x, xlab = \"\", type = \"l\", ylim = c(0.59, \n .     0.85), xlim = c(0, 50), col = \"red\", ylab = \"\", axes = F, \n .     lwd = 2)",
      "2. plot.formula(R$RepAR6_a ~ R$x, xlab = \"\", type = \"l\", ylim = c(0.59, \n .     0.85), xlim = c(0, 50), col = \"red\", ylab = \"\", axes = F, \n .     lwd = 2)",
      "3. eval(m, eframe)",
      "4. eval(m, eframe)",
      "5. (function (formula, data = NULL, subset = NULL, na.action = na.fail, \n .     drop.unused.levels = FALSE, xlev = NULL, ...) \n . {\n .     possible_newdata <- !missing(data) && is.data.frame(data) && \n .         identical(substitute(data), quote(newdata)) && (nr <- nrow(data)) > \n .         0\n .     if (!missing(formula) && nargs() == 1 && is.list(formula) && \n .         !is.null(m <- formula$model)) \n .         return(m)\n .     if (!missing(formula) && nargs() == 1 && is.list(formula) && \n .         all(c(\"terms\", \"call\") %in% names(formula))) {\n .         fcall <- formula$call\n .         m <- match(c(\"formula\", \"data\", \"subset\", \"weights\", \n .             \"na.action\"), names(fcall), 0)\n .         fcall <- fcall[c(1, m)]\n .         fcall[[1L]] <- quote(stats::model.frame)\n .         env <- environment(formula$terms)\n .         if (is.null(env)) \n .             env <- parent.frame()\n .         return(eval(fcall, env))\n .     }\n .     if (missing(formula)) {\n .         if (!missing(data) && inherits(data, \"data.frame\") && \n .             length(attr(data, \"terms\"))) \n .             return(data)\n .         formula <- as.formula(data)\n .     }\n .     else if (missing(data) && inherits(formula, \"data.frame\")) {\n .         if (length(attr(formula, \"terms\"))) \n .             return(formula)\n .         data <- formula\n .         formula <- as.formula(data)\n .     }\n .     formula <- as.formula(formula)\n .     if (missing(na.action)) {\n .         if (!is.null(naa <- attr(data, \"na.action\")) & mode(naa) != \n .             \"numeric\") \n .             na.action <- naa\n .         else if (!is.null(naa <- getOption(\"na.action\"))) \n .             na.action <- naa\n .     }\n .     if (missing(data)) \n .         data <- environment(formula)\n .     else if (!is.data.frame(data) && !is.environment(data) && \n .         !is.null(attr(data, \"class\"))) \n .         data <- as.data.frame(data)\n .     else if (is.array(data)) \n .         stop(\"'data' must be a data.frame, not a matrix or an array\")\n .     if (!inherits(formula, \"terms\")) \n .         formula <- terms(formula, data = data)\n .     env <- environment(formula)\n .     rownames <- .row_names_info(data, 0L)\n .     vars <- attr(formula, \"variables\")\n .     predvars <- attr(formula, \"predvars\")\n .     if (is.null(predvars)) \n .         predvars <- vars\n .     varnames <- vapply(vars, deparse2, \" \")[-1L]\n .     variables <- eval(predvars, data, env)\n .     resp <- attr(formula, \"response\")\n .     if (is.null(rownames) && resp > 0L) {\n .         lhs <- variables[[resp]]\n .         rownames <- if (is.matrix(lhs)) \n .             rownames(lhs)\n .         else names(lhs)\n .     }\n .     if (possible_newdata && length(variables)) {\n .         nr2 <- max(sapply(variables, NROW))\n .         if (nr2 != nr) \n .             warning(sprintf(paste0(ngettext(nr, \"'newdata' had %d row\", \n .                 \"'newdata' had %d rows\"), \" \", ngettext(nr2, \n .                 \"but variable found had %d row\", \"but variables found have %d rows\")), \n .                 nr, nr2), call. = FALSE, domain = NA)\n .     }\n .     if (is.null(attr(formula, \"predvars\"))) {\n .         for (i in seq_along(varnames)) predvars[[i + 1L]] <- makepredictcall(variables[[i]], \n .             vars[[i + 1L]])\n .         attr(formula, \"predvars\") <- predvars\n .     }\n .     extras <- substitute(list(...))\n .     extranames <- names(extras[-1L])\n .     extras <- eval(extras, data, env)\n .     subset <- eval(substitute(subset), data, env)\n .     data <- .External2(C_modelframe, formula, rownames, variables, \n .         varnames, extras, extranames, subset, na.action)\n .     if (length(xlev)) {\n .         for (nm in names(xlev)) if (!is.null(xl <- xlev[[nm]])) {\n .             xi <- data[[nm]]\n .             if (is.character(xi)) \n .                 xi <- as.factor(xi)\n .             if (!is.factor(xi) || is.null(nxl <- levels(xi))) \n .                 warning(gettextf(\"variable '%s' is not a factor\", \n .                   nm), domain = NA)\n .             else {\n .                 ctr <- attr(xi, \"contrasts\")\n .                 xi <- xi[, drop = TRUE]\n .                 nxl <- levels(xi)\n .                 if (any(m <- is.na(match(nxl, xl)))) \n .                   stop(sprintf(ngettext(length(m), \"factor %s has new level %s\", \n .                     \"factor %s has new levels %s\"), nm, paste(nxl[m], \n .                     collapse = \", \")), domain = NA)\n .                 data[[nm]] <- factor(xi, levels = xl, exclude = NULL)\n .                 if (!identical(attr(data[[nm]], \"contrasts\"), \n .                   ctr)) \n .                   warning(gettext(sprintf(\"contrasts dropped from factor %s\", \n .                     nm), domain = NA), call. = FALSE)\n .             }\n .         }\n .     }\n .     else if (drop.unused.levels) {\n .         for (nm in names(data)) {\n .             x <- data[[nm]]\n .             if (is.factor(x) && length(unique(x[!is.na(x)])) < \n .                 length(levels(x))) {\n .                 ctr <- attr(x, \"contrasts\")\n .                 data[[nm]] <- x[, drop = TRUE]\n .                 if (!identical(attr(data[[nm]], \"contrasts\"), \n .                   ctr)) \n .                   warning(gettext(sprintf(\"contrasts dropped from factor %s due to missing levels\", \n .                     nm), domain = NA), call. = FALSE)\n .             }\n .         }\n .     }\n .     attr(formula, \"dataClasses\") <- vapply(data, .MFclass, \"\")\n .     attr(data, \"terms\") <- formula\n .     data\n . })(formula = R$RepAR6_a ~ R$x, na.action = NULL)"
     ]
    }
   ],
   "source": [
    "plot(R6$RepAR6_a  ~ R6$x, xlab ='', type ='l', ylim =c(0.59,0.85), xlim =c(0,50)\n",
    "     ,col = \"red\", ylab ='', axes = F, lwd = 2)\n",
    "lines(R6$RepAR4_a ~ R6$x, type ='l', col ='blue', lwd = 2)\n",
    "lines(R6$RepAR2_a ~ R6$x, type ='l', col ='dark green', lwd = 2)\n",
    "lines(x =c(0, nrep), y =c(0.6,0.6), col='black', lty=2, lwd = 2)\n",
    "\n",
    "axis(1, at =c(0,10,20,30,40,50), labels = F)\n",
    "axis(1, at = 1:nrep, labels = F, tck = 0.015)\n",
    "axis(2, at =c(0.6,  0.7 ,.8, .9))\n",
    "axis(2, at =c(.65, .75, 0.85), labels = F, tck = -0.01)\n",
    "mtext(text ='Repeatability', side = 2, line = 2, cex=1)\n",
    "box()"
   ]
  },
  {
   "cell_type": "code",
   "execution_count": null,
   "id": "54a59a0d",
   "metadata": {},
   "outputs": [],
   "source": [
    "#Ns of samples\n",
    "nID <- 200\n",
    "nrep <- 51\n",
    "niter <- 1000\n",
    "\n",
    "# State values of desired parameters\n",
    "AR1 <- 0.2\n",
    "AR2 <- 0.4\n",
    "AR3 <- 0.6\n",
    "Ve1 <- 0.6 * (1/sqrt(1^2 / (1 - AR1^2)))^2\n",
    "Ve2 <- 0.6 * (1/sqrt(1^2 / (1 - AR2^2)))^2\n",
    "Ve3 <- 0.6 * (1/sqrt(1^2 / (1 - AR3^2)))^2\n",
    "Vid <- 0.4\n",
    "Vslp <- 0.1\n",
    "\n",
    "rep2 <- 1:nrep\n",
    "rep3 <- 1:nrep\n",
    "\n",
    "V_AR2_a <-matrix(nrow = niter, ncol = 25)\n",
    "V_AR4_a <-matrix(nrow = niter, ncol = 25)\n",
    "V_AR6_a <-matrix(nrow = niter, ncol = 25)\n",
    "\n",
    "resid_AR2 <-matrix(nrow = niter, ncol = 25)\n",
    "resid_AR4 <-matrix(nrow = niter, ncol = 25)\n",
    "resid_AR6 <-matrix(nrow = niter, ncol = 25)\n",
    "\n",
    "library(nlme)\n",
    "for(j in 1:niter){\n",
    "    #print(paste('Iteration', j,'out of', niter))\n",
    "    set.seed(j)# make sure sampling each time is independent\n",
    "    ID    <-rnorm(nID, 0,sqrt(Vid))#Generate BLUPs to simulate from\n",
    "    IDs   <-rnorm(nID, 0,sqrt(Vslp))\n",
    "    ds    <-data.frame( id =rep(c(1:nID),nrep), ID =rep(ID,nrep), IDs =rep(IDs,nrep),rep =sort(rep(c(0:(nrep-1)),nID)))\n",
    "    ds <- ds[order(ds$ id),]\n",
    "    \n",
    "    ds$rep_filter <-abs(ds$rep - 25)\n",
    "    ds$rep <- ds$rep - 25\n",
    "    \n",
    "    # Simulate chain of values for each ID. Simulation starts at y = 1, n.start is a burn-in\n",
    "    for(i in 1:nID){\n",
    "        ds$y1[ds$id == i] <- ds$ID[ds$id == i] + ds$IDs[ds$id == i] * (ds$rep[ds$id == i]) +\n",
    "        arima.sim(model=list(ar=AR1),n=nrep, sd =sqrt(Ve1), n.start = 200)\n",
    "        ds$y2[ds$id == i] <- ds$ID[ds$id == i] + ds$IDs[ds$id == i] * (ds$rep[ds$id == i]) +\n",
    "        arima.sim(model=list(ar=AR2),n=nrep, sd =sqrt(Ve2), n.start = 200)\n",
    "        ds$y3[ds$id == i] <- ds$ID[ds$id == i] + ds$IDs[ds$id == i] * (ds$rep[ds$id == i]) +\n",
    "        arima.sim(model=list(ar=AR3),n=nrep, sd =sqrt(Ve3), n.start = 200)\n",
    "    }\n",
    "    \n",
    "    # fit model for each number repeated samples\n",
    "    for(k in 2:25){\n",
    "        try(mod<-lme(y1 ~ 1, random = ~1+rep|id,\n",
    "                     data =subset(ds, rep_filter <= k)), silent = T)\n",
    "        try(mod2<-lme(y2 ~ 1, random = ~1+rep|id,\n",
    "                      data =subset(ds, rep_filter <= k)), silent = T)\n",
    "        try(mod3<-lme(y3 ~ 1, random = ~1+rep|id,\n",
    "                      data =subset(ds, rep_filter <= k)), silent = T)\n",
    "        # and spit out the R values into a matrix\n",
    "        try(V_AR2_a[j,k] <-as.numeric(VarCorr(mod)[2]))\n",
    "        try(V_AR4_a[j,k] <-as.numeric(VarCorr(mod2)[2]))\n",
    "        try(V_AR6_a[j,k] <-as.numeric(VarCorr(mod3)[2]))\n",
    "        try(resid_AR2[j,k] <-as.numeric(VarCorr(mod)[3]))\n",
    "        try(resid_AR4[j,k] <-as.numeric(VarCorr(mod2)[3]))\n",
    "        try(resid_AR6[j,k] <-as.numeric(VarCorr(mod3)[3]))\n",
    "    }\n",
    "}"
   ]
  },
  {
   "cell_type": "code",
   "execution_count": null,
   "id": "3a43cca3",
   "metadata": {},
   "outputs": [],
   "source": []
  },
  {
   "cell_type": "code",
   "execution_count": null,
   "id": "a7a9e4e8",
   "metadata": {},
   "outputs": [],
   "source": []
  },
  {
   "cell_type": "code",
   "execution_count": null,
   "id": "88b050ba",
   "metadata": {},
   "outputs": [],
   "source": []
  },
  {
   "cell_type": "code",
   "execution_count": null,
   "id": "e3ee2a97",
   "metadata": {},
   "outputs": [],
   "source": []
  },
  {
   "cell_type": "code",
   "execution_count": null,
   "id": "daf7639d",
   "metadata": {},
   "outputs": [],
   "source": []
  },
  {
   "cell_type": "code",
   "execution_count": null,
   "id": "033e1b68",
   "metadata": {},
   "outputs": [],
   "source": []
  }
 ],
 "metadata": {
  "kernelspec": {
   "display_name": " Rkernel ",
   "language": "R",
   "name": "rkernel"
  },
  "language_info": {
   "codemirror_mode": "r",
   "file_extension": ".r",
   "mimetype": "text/x-r-source",
   "name": "R",
   "pygments_lexer": "r",
   "version": "3.6.1"
  }
 },
 "nbformat": 4,
 "nbformat_minor": 5
}
