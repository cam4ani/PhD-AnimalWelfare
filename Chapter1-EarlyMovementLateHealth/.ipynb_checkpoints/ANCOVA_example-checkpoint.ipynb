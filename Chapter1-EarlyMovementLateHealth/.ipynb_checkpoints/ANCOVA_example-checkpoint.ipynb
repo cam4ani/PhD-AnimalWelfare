{
 "cells": [
  {
   "cell_type": "code",
   "execution_count": 1,
   "metadata": {},
   "outputs": [
    {
     "name": "stderr",
     "output_type": "stream",
     "text": [
      "This is DHARMa 0.3.3.0. For overview type '?DHARMa'. For recent changes, type news(package = 'DHARMa') Note: Syntax of plotResiduals has changed in 0.3.0, see ?plotResiduals for details\n",
      "\n",
      "-- \u001b[1mAttaching packages\u001b[22m ------------------------------------------------------------------------------- tidyverse 1.3.0 --\n",
      "\n",
      "\u001b[32mv\u001b[39m \u001b[34mggplot2\u001b[39m 3.3.3     \u001b[32mv\u001b[39m \u001b[34mpurrr  \u001b[39m 0.3.4\n",
      "\u001b[32mv\u001b[39m \u001b[34mtibble \u001b[39m 3.0.6     \u001b[32mv\u001b[39m \u001b[34mdplyr  \u001b[39m 1.0.3\n",
      "\u001b[32mv\u001b[39m \u001b[34mtidyr  \u001b[39m 1.1.2     \u001b[32mv\u001b[39m \u001b[34mstringr\u001b[39m 1.4.0\n",
      "\u001b[32mv\u001b[39m \u001b[34mreadr  \u001b[39m 1.4.0     \u001b[32mv\u001b[39m \u001b[34mforcats\u001b[39m 0.5.1\n",
      "\n",
      "-- \u001b[1mConflicts\u001b[22m ---------------------------------------------------------------------------------- tidyverse_conflicts() --\n",
      "\u001b[31mx\u001b[39m \u001b[34mdplyr\u001b[39m::\u001b[32mfilter()\u001b[39m masks \u001b[34mstats\u001b[39m::filter()\n",
      "\u001b[31mx\u001b[39m \u001b[34mdplyr\u001b[39m::\u001b[32mlag()\u001b[39m    masks \u001b[34mstats\u001b[39m::lag()\n",
      "\n",
      "Loading required package: lattice\n",
      "\n",
      "\n",
      "Attaching package: 'caret'\n",
      "\n",
      "\n",
      "The following object is masked from 'package:purrr':\n",
      "\n",
      "    lift\n",
      "\n",
      "\n",
      "\n",
      "Attaching package: 'MASS'\n",
      "\n",
      "\n",
      "The following object is masked from 'package:dplyr':\n",
      "\n",
      "    select\n",
      "\n",
      "\n",
      "Loading required package: Matrix\n",
      "\n",
      "\n",
      "Attaching package: 'Matrix'\n",
      "\n",
      "\n",
      "The following objects are masked from 'package:tidyr':\n",
      "\n",
      "    expand, pack, unpack\n",
      "\n",
      "\n",
      "Registered S3 methods overwritten by 'car':\n",
      "  method                          from\n",
      "  influence.merMod                lme4\n",
      "  cooks.distance.influence.merMod lme4\n",
      "  dfbeta.influence.merMod         lme4\n",
      "  dfbetas.influence.merMod        lme4\n",
      "\n",
      "\n",
      "Attaching package: 'rstatix'\n",
      "\n",
      "\n",
      "The following object is masked from 'package:MASS':\n",
      "\n",
      "    select\n",
      "\n",
      "\n",
      "The following object is masked from 'package:stats':\n",
      "\n",
      "    filter\n",
      "\n",
      "\n",
      "\n",
      "Attaching package: 'lmerTest'\n",
      "\n",
      "\n",
      "The following object is masked from 'package:lme4':\n",
      "\n",
      "    lmer\n",
      "\n",
      "\n",
      "The following object is masked from 'package:stats':\n",
      "\n",
      "    step\n",
      "\n",
      "\n"
     ]
    }
   ],
   "source": [
    "#install.packages(\"emmeans\")\n",
    "library(DHARMa)\n",
    "library(lindia)\n",
    "library(tidyverse)\n",
    "library(caret)\n",
    "library(leaps)\n",
    "library(MASS)\n",
    "library(modEvA)\n",
    "library(dplyr)\n",
    "library(lme4) #random effect\n",
    "library(broom)\n",
    "library(ggpubr) \n",
    "library(rstatix)\n",
    "library(WRS2) #robust ancova\n",
    "library(lmerTest) #like lmer but with p-value\n",
    "library(emmeans)\n",
    "\n",
    "#levenetest\n",
    "library(car)"
   ]
  },
  {
   "cell_type": "raw",
   "metadata": {},
   "source": [
    "https://www.datanovia.com/en/lessons/ancova-in-r/\n",
    "\n",
    "https://statistics.laerd.com/spss-tutorials/ancova-using-spss-statistics.php\n",
    "\"Like the one-way ANOVA, the one-way ANCOVA is used to determine whether there are any significant differences between two or more independent (unrelated) groups on a dependent variable. However, whereas the ANOVA looks for differences in the group means, the ANCOVA looks for differences in adjusted means (i.e., adjusted for the covariate). As such, compared to the one-way ANOVA, the one-way ANCOVA has the additional benefit of allowing you to \"statistically control\" for a third variable (sometimes known as a \"confounding variable\"), which you believe will affect your results. This third variable that could be confounding your results is called the covariate and you include it in your one-way ANCOVA analysis.\""
   ]
  },
  {
   "cell_type": "markdown",
   "metadata": {},
   "source": [
    "# Download data"
   ]
  },
  {
   "cell_type": "code",
   "execution_count": 2,
   "metadata": {},
   "outputs": [
    {
     "name": "stdout",
     "output_type": "stream",
     "text": [
      "[1] 56  6\n"
     ]
    },
    {
     "data": {
      "text/plain": [
       "       X              DOA        Treatment   nbr_birds     Percentagenotmoving\n",
       " Min.   : 0.00   Min.   :119.0   OFH :28   Min.   :16.00   Min.   : 0.000     \n",
       " 1st Qu.:13.75   1st Qu.:125.8   TRAN:28   1st Qu.:63.00   1st Qu.: 4.688     \n",
       " Median :27.50   Median :134.5             Median :64.00   Median :11.719     \n",
       " Mean   :27.50   Mean   :133.9             Mean   :57.88   Mean   :13.962     \n",
       " 3rd Qu.:41.25   3rd Qu.:141.2             3rd Qu.:64.00   3rd Qu.:19.141     \n",
       " Max.   :55.00   Max.   :148.0             Max.   :64.00   Max.   :60.938     \n",
       " SQRTPercentagenotmoving\n",
       " Min.   :0.000          \n",
       " 1st Qu.:2.165          \n",
       " Median :3.421          \n",
       " Mean   :3.312          \n",
       " 3rd Qu.:4.374          \n",
       " Max.   :7.806          "
      ]
     },
     "metadata": {},
     "output_type": "display_data"
    },
    {
     "data": {
      "text/html": [
       "<table class=\"dataframe\">\n",
       "<caption>A data.frame: 6 × 6</caption>\n",
       "<thead>\n",
       "\t<tr><th></th><th scope=col>X</th><th scope=col>DOA</th><th scope=col>Treatment</th><th scope=col>nbr_birds</th><th scope=col>Percentagenotmoving</th><th scope=col>SQRTPercentagenotmoving</th></tr>\n",
       "\t<tr><th></th><th scope=col>&lt;int&gt;</th><th scope=col>&lt;int&gt;</th><th scope=col>&lt;fct&gt;</th><th scope=col>&lt;int&gt;</th><th scope=col>&lt;dbl&gt;</th><th scope=col>&lt;dbl&gt;</th></tr>\n",
       "</thead>\n",
       "<tbody>\n",
       "\t<tr><th scope=row>1</th><td>0</td><td>119</td><td>OFH </td><td>64</td><td>53.1250</td><td>7.288690</td></tr>\n",
       "\t<tr><th scope=row>2</th><td>1</td><td>119</td><td>TRAN</td><td>64</td><td>60.9375</td><td>7.806247</td></tr>\n",
       "\t<tr><th scope=row>3</th><td>2</td><td>120</td><td>OFH </td><td>64</td><td>21.8750</td><td>4.677072</td></tr>\n",
       "\t<tr><th scope=row>4</th><td>3</td><td>120</td><td>TRAN</td><td>64</td><td>14.0625</td><td>3.750000</td></tr>\n",
       "\t<tr><th scope=row>5</th><td>4</td><td>121</td><td>OFH </td><td>64</td><td>20.3125</td><td>4.506939</td></tr>\n",
       "\t<tr><th scope=row>6</th><td>5</td><td>121</td><td>TRAN</td><td>64</td><td>14.0625</td><td>3.750000</td></tr>\n",
       "</tbody>\n",
       "</table>\n"
      ],
      "text/latex": [
       "A data.frame: 6 × 6\n",
       "\\begin{tabular}{r|llllll}\n",
       "  & X & DOA & Treatment & nbr\\_birds & Percentagenotmoving & SQRTPercentagenotmoving\\\\\n",
       "  & <int> & <int> & <fct> & <int> & <dbl> & <dbl>\\\\\n",
       "\\hline\n",
       "\t1 & 0 & 119 & OFH  & 64 & 53.1250 & 7.288690\\\\\n",
       "\t2 & 1 & 119 & TRAN & 64 & 60.9375 & 7.806247\\\\\n",
       "\t3 & 2 & 120 & OFH  & 64 & 21.8750 & 4.677072\\\\\n",
       "\t4 & 3 & 120 & TRAN & 64 & 14.0625 & 3.750000\\\\\n",
       "\t5 & 4 & 121 & OFH  & 64 & 20.3125 & 4.506939\\\\\n",
       "\t6 & 5 & 121 & TRAN & 64 & 14.0625 & 3.750000\\\\\n",
       "\\end{tabular}\n"
      ],
      "text/markdown": [
       "\n",
       "A data.frame: 6 × 6\n",
       "\n",
       "| <!--/--> | X &lt;int&gt; | DOA &lt;int&gt; | Treatment &lt;fct&gt; | nbr_birds &lt;int&gt; | Percentagenotmoving &lt;dbl&gt; | SQRTPercentagenotmoving &lt;dbl&gt; |\n",
       "|---|---|---|---|---|---|---|\n",
       "| 1 | 0 | 119 | OFH  | 64 | 53.1250 | 7.288690 |\n",
       "| 2 | 1 | 119 | TRAN | 64 | 60.9375 | 7.806247 |\n",
       "| 3 | 2 | 120 | OFH  | 64 | 21.8750 | 4.677072 |\n",
       "| 4 | 3 | 120 | TRAN | 64 | 14.0625 | 3.750000 |\n",
       "| 5 | 4 | 121 | OFH  | 64 | 20.3125 | 4.506939 |\n",
       "| 6 | 5 | 121 | TRAN | 64 | 14.0625 | 3.750000 |\n",
       "\n"
      ],
      "text/plain": [
       "  X DOA Treatment nbr_birds Percentagenotmoving SQRTPercentagenotmoving\n",
       "1 0 119 OFH       64        53.1250             7.288690               \n",
       "2 1 119 TRAN      64        60.9375             7.806247               \n",
       "3 2 120 OFH       64        21.8750             4.677072               \n",
       "4 3 120 TRAN      64        14.0625             3.750000               \n",
       "5 4 121 OFH       64        20.3125             4.506939               \n",
       "6 5 121 TRAN      64        14.0625             3.750000               "
      ]
     },
     "metadata": {},
     "output_type": "display_data"
    }
   ],
   "source": [
    "path_ = 'G:/VPHI/Welfare/2- Research Projects/OFHE2.OriginsE2/DataOutput/TrackingSystem/chapter0_final_/visual/Treatment&Classs/adaptability/chapter0_final__percentgaeHensNotMovingTreatment.csv'\n",
    "df = read.csv(path_, header = TRUE, sep = \";\")\n",
    "df$SQRTPercentagenotmoving <- sqrt(df$Percentagenotmoving)\n",
    "df$Treatment = as.factor(df$Treatment)   \n",
    "print(dim(df))\n",
    "summary(df)\n",
    "head(df)"
   ]
  },
  {
   "cell_type": "markdown",
   "metadata": {},
   "source": [
    "# Assumptions"
   ]
  },
  {
   "cell_type": "markdown",
   "metadata": {},
   "source": [
    "### Linearity assumption"
   ]
  },
  {
   "cell_type": "code",
   "execution_count": 3,
   "metadata": {},
   "outputs": [
    {
     "name": "stderr",
     "output_type": "stream",
     "text": [
      "`geom_smooth()` using formula 'y ~ x'\n",
      "\n"
     ]
    },
    {
     "data": {
      "image/png": "[encoded data removed]",
      "text/plain": [
       "plot without title"
      ]
     },
     "metadata": {
      "image/png": {
       "height": 420,
       "width": 420
      }
     },
     "output_type": "display_data"
    }
   ],
   "source": [
    "ggscatter(\n",
    "  df, x = \"DOA\", y = \"SQRTPercentagenotmoving\",\n",
    "  color = \"Treatment\", add = \"reg.line\"\n",
    "  )+\n",
    "  stat_regline_equation(\n",
    "    aes(label =  paste(..eq.label.., ..rr.label.., sep = \"~~~~\"), color = Treatment)\n",
    "    )"
   ]
  },
  {
   "cell_type": "raw",
   "metadata": {},
   "source": [
    "There was a linear relationship between pre-test and post-test anxiety score for each training group, as assessed by visual inspection of a scatter plot."
   ]
  },
  {
   "cell_type": "markdown",
   "metadata": {},
   "source": [
    "### Homogeneity of regression slopes"
   ]
  },
  {
   "cell_type": "code",
   "execution_count": 4,
   "metadata": {},
   "outputs": [
    {
     "name": "stderr",
     "output_type": "stream",
     "text": [
      "Coefficient covariances computed by hccm()\n",
      "\n"
     ]
    },
    {
     "data": {
      "text/html": [
       "<table class=\"dataframe\">\n",
       "<caption>A anova_test: 3 × 7</caption>\n",
       "<thead>\n",
       "\t<tr><th></th><th scope=col>Effect</th><th scope=col>DFn</th><th scope=col>DFd</th><th scope=col>F</th><th scope=col>p</th><th scope=col>p&lt;.05</th><th scope=col>ges</th></tr>\n",
       "\t<tr><th></th><th scope=col>&lt;chr&gt;</th><th scope=col>&lt;dbl&gt;</th><th scope=col>&lt;dbl&gt;</th><th scope=col>&lt;dbl&gt;</th><th scope=col>&lt;dbl&gt;</th><th scope=col>&lt;chr&gt;</th><th scope=col>&lt;dbl&gt;</th></tr>\n",
       "</thead>\n",
       "<tbody>\n",
       "\t<tr><th scope=row>1</th><td>Treatment    </td><td>1</td><td>52</td><td> 31.343</td><td>8.23e-07</td><td>*</td><td>0.376000</td></tr>\n",
       "\t<tr><th scope=row>2</th><td>DOA          </td><td>1</td><td>52</td><td>136.758</td><td>3.56e-16</td><td>*</td><td>0.725000</td></tr>\n",
       "\t<tr><th scope=row>3</th><td>Treatment:DOA</td><td>1</td><td>52</td><td>  0.016</td><td>9.00e-01</td><td> </td><td>0.000305</td></tr>\n",
       "</tbody>\n",
       "</table>\n"
      ],
      "text/latex": [
       "A anova\\_test: 3 × 7\n",
       "\\begin{tabular}{r|lllllll}\n",
       "  & Effect & DFn & DFd & F & p & p<.05 & ges\\\\\n",
       "  & <chr> & <dbl> & <dbl> & <dbl> & <dbl> & <chr> & <dbl>\\\\\n",
       "\\hline\n",
       "\t1 & Treatment     & 1 & 52 &  31.343 & 8.23e-07 & * & 0.376000\\\\\n",
       "\t2 & DOA           & 1 & 52 & 136.758 & 3.56e-16 & * & 0.725000\\\\\n",
       "\t3 & Treatment:DOA & 1 & 52 &   0.016 & 9.00e-01 &   & 0.000305\\\\\n",
       "\\end{tabular}\n"
      ],
      "text/markdown": [
       "\n",
       "A anova_test: 3 × 7\n",
       "\n",
       "| <!--/--> | Effect &lt;chr&gt; | DFn &lt;dbl&gt; | DFd &lt;dbl&gt; | F &lt;dbl&gt; | p &lt;dbl&gt; | p&lt;.05 &lt;chr&gt; | ges &lt;dbl&gt; |\n",
       "|---|---|---|---|---|---|---|---|\n",
       "| 1 | Treatment     | 1 | 52 |  31.343 | 8.23e-07 | * | 0.376000 |\n",
       "| 2 | DOA           | 1 | 52 | 136.758 | 3.56e-16 | * | 0.725000 |\n",
       "| 3 | Treatment:DOA | 1 | 52 |   0.016 | 9.00e-01 | <!----> | 0.000305 |\n",
       "\n"
      ],
      "text/plain": [
       "  Effect        DFn DFd F       p        p<.05 ges     \n",
       "1 Treatment     1   52   31.343 8.23e-07 *     0.376000\n",
       "2 DOA           1   52  136.758 3.56e-16 *     0.725000\n",
       "3 Treatment:DOA 1   52    0.016 9.00e-01       0.000305"
      ]
     },
     "metadata": {},
     "output_type": "display_data"
    }
   ],
   "source": [
    "df %>% anova_test(SQRTPercentagenotmoving ~ Treatment*DOA)"
   ]
  },
  {
   "cell_type": "raw",
   "metadata": {},
   "source": [
    "There was homogeneity of regression slopes as the interaction term is not statistically significant, F(1, 52) = 1.169, p = 0.28"
   ]
  },
  {
   "cell_type": "markdown",
   "metadata": {},
   "source": [
    "### Normality of residuals"
   ]
  },
  {
   "cell_type": "code",
   "execution_count": 5,
   "metadata": {},
   "outputs": [
    {
     "data": {
      "text/html": [
       "<table class=\"dataframe\">\n",
       "<caption>A tibble: 3 × 9</caption>\n",
       "<thead>\n",
       "\t<tr><th scope=col>SQRTPercentagenotmoving</th><th scope=col>DOA</th><th scope=col>Treatment</th><th scope=col>.fitted</th><th scope=col>.resid</th><th scope=col>.hat</th><th scope=col>.sigma</th><th scope=col>.cooksd</th><th scope=col>.std.resid</th></tr>\n",
       "\t<tr><th scope=col>&lt;dbl&gt;</th><th scope=col>&lt;int&gt;</th><th scope=col>&lt;fct&gt;</th><th scope=col>&lt;dbl&gt;</th><th scope=col>&lt;dbl&gt;</th><th scope=col>&lt;dbl&gt;</th><th scope=col>&lt;dbl&gt;</th><th scope=col>&lt;dbl&gt;</th><th scope=col>&lt;dbl&gt;</th></tr>\n",
       "</thead>\n",
       "<tbody>\n",
       "\t<tr><td>7.288690</td><td>119</td><td>OFH </td><td>6.276508</td><td> 1.012182</td><td>0.08706841</td><td>0.8599265</td><td>0.04777896</td><td> 1.225936</td></tr>\n",
       "\t<tr><td>7.806247</td><td>119</td><td>TRAN</td><td>4.971391</td><td> 2.834856</td><td>0.08706841</td><td>0.7692652</td><td>0.37478458</td><td> 3.433526</td></tr>\n",
       "\t<tr><td>4.677072</td><td>120</td><td>OFH </td><td>6.121666</td><td>-1.444594</td><td>0.08041887</td><td>0.8470026</td><td>0.08859416</td><td>-1.743329</td></tr>\n",
       "</tbody>\n",
       "</table>\n"
      ],
      "text/latex": [
       "A tibble: 3 × 9\n",
       "\\begin{tabular}{lllllllll}\n",
       " SQRTPercentagenotmoving & DOA & Treatment & .fitted & .resid & .hat & .sigma & .cooksd & .std.resid\\\\\n",
       " <dbl> & <int> & <fct> & <dbl> & <dbl> & <dbl> & <dbl> & <dbl> & <dbl>\\\\\n",
       "\\hline\n",
       "\t 7.288690 & 119 & OFH  & 6.276508 &  1.012182 & 0.08706841 & 0.8599265 & 0.04777896 &  1.225936\\\\\n",
       "\t 7.806247 & 119 & TRAN & 4.971391 &  2.834856 & 0.08706841 & 0.7692652 & 0.37478458 &  3.433526\\\\\n",
       "\t 4.677072 & 120 & OFH  & 6.121666 & -1.444594 & 0.08041887 & 0.8470026 & 0.08859416 & -1.743329\\\\\n",
       "\\end{tabular}\n"
      ],
      "text/markdown": [
       "\n",
       "A tibble: 3 × 9\n",
       "\n",
       "| SQRTPercentagenotmoving &lt;dbl&gt; | DOA &lt;int&gt; | Treatment &lt;fct&gt; | .fitted &lt;dbl&gt; | .resid &lt;dbl&gt; | .hat &lt;dbl&gt; | .sigma &lt;dbl&gt; | .cooksd &lt;dbl&gt; | .std.resid &lt;dbl&gt; |\n",
       "|---|---|---|---|---|---|---|---|---|\n",
       "| 7.288690 | 119 | OFH  | 6.276508 |  1.012182 | 0.08706841 | 0.8599265 | 0.04777896 |  1.225936 |\n",
       "| 7.806247 | 119 | TRAN | 4.971391 |  2.834856 | 0.08706841 | 0.7692652 | 0.37478458 |  3.433526 |\n",
       "| 4.677072 | 120 | OFH  | 6.121666 | -1.444594 | 0.08041887 | 0.8470026 | 0.08859416 | -1.743329 |\n",
       "\n"
      ],
      "text/plain": [
       "  SQRTPercentagenotmoving DOA Treatment .fitted  .resid    .hat       .sigma   \n",
       "1 7.288690                119 OFH       6.276508  1.012182 0.08706841 0.8599265\n",
       "2 7.806247                119 TRAN      4.971391  2.834856 0.08706841 0.7692652\n",
       "3 4.677072                120 OFH       6.121666 -1.444594 0.08041887 0.8470026\n",
       "  .cooksd    .std.resid\n",
       "1 0.04777896  1.225936 \n",
       "2 0.37478458  3.433526 \n",
       "3 0.08859416 -1.743329 "
      ]
     },
     "metadata": {},
     "output_type": "display_data"
    }
   ],
   "source": [
    "# Fit the model, the covariate goes first\n",
    "model <- lm(SQRTPercentagenotmoving ~ DOA + Treatment, data = df)\n",
    "# Inspect the model diagnostic metrics\n",
    "model.metrics <- augment(model)\n",
    "head(model.metrics, 3)"
   ]
  },
  {
   "cell_type": "code",
   "execution_count": 6,
   "metadata": {},
   "outputs": [
    {
     "data": {
      "text/html": [
       "<table class=\"dataframe\">\n",
       "<caption>A tibble: 1 × 3</caption>\n",
       "<thead>\n",
       "\t<tr><th scope=col>variable</th><th scope=col>statistic</th><th scope=col>p.value</th></tr>\n",
       "\t<tr><th scope=col>&lt;chr&gt;</th><th scope=col>&lt;dbl&gt;</th><th scope=col>&lt;dbl&gt;</th></tr>\n",
       "</thead>\n",
       "<tbody>\n",
       "\t<tr><td>model.metrics$.resid</td><td>0.9746566</td><td>0.2845212</td></tr>\n",
       "</tbody>\n",
       "</table>\n"
      ],
      "text/latex": [
       "A tibble: 1 × 3\n",
       "\\begin{tabular}{lll}\n",
       " variable & statistic & p.value\\\\\n",
       " <chr> & <dbl> & <dbl>\\\\\n",
       "\\hline\n",
       "\t model.metrics\\$.resid & 0.9746566 & 0.2845212\\\\\n",
       "\\end{tabular}\n"
      ],
      "text/markdown": [
       "\n",
       "A tibble: 1 × 3\n",
       "\n",
       "| variable &lt;chr&gt; | statistic &lt;dbl&gt; | p.value &lt;dbl&gt; |\n",
       "|---|---|---|\n",
       "| model.metrics$.resid | 0.9746566 | 0.2845212 |\n",
       "\n"
      ],
      "text/plain": [
       "  variable             statistic p.value  \n",
       "1 model.metrics$.resid 0.9746566 0.2845212"
      ]
     },
     "metadata": {},
     "output_type": "display_data"
    }
   ],
   "source": [
    "# Assess normality of residuals using shapiro wilk test\n",
    "shapiro_test(model.metrics$.resid)"
   ]
  },
  {
   "cell_type": "raw",
   "metadata": {},
   "source": [
    "The Shapiro Wilk test is not significant (p > 0.05), so we CAN assume normality of residuals"
   ]
  },
  {
   "cell_type": "code",
   "execution_count": 7,
   "metadata": {
    "scrolled": true
   },
   "outputs": [
    {
     "data": {
      "image/png": "[encoded data removed]",
      "text/plain": [
       "Plot with title \"\""
      ]
     },
     "metadata": {
      "image/png": {
       "height": 420,
       "width": 420
      }
     },
     "output_type": "display_data"
    },
    {
     "data": {
      "image/png": "[encoded data removed]",
      "text/plain": [
       "Plot with title \"\""
      ]
     },
     "metadata": {
      "image/png": {
       "height": 420,
       "width": 420
      }
     },
     "output_type": "display_data"
    },
    {
     "data": {
      "image/png": "[encoded data removed]",
      "text/plain": [
       "Plot with title \"\""
      ]
     },
     "metadata": {
      "image/png": {
       "height": 420,
       "width": 420
      }
     },
     "output_type": "display_data"
    },
    {
     "data": {
      "image/png": "[encoded data removed]",
      "text/plain": [
       "Plot with title \"\""
      ]
     },
     "metadata": {
      "image/png": {
       "height": 420,
       "width": 420
      }
     },
     "output_type": "display_data"
    }
   ],
   "source": [
    "plot(model)"
   ]
  },
  {
   "cell_type": "markdown",
   "metadata": {},
   "source": [
    "### Homogeneity of variances"
   ]
  },
  {
   "cell_type": "code",
   "execution_count": 14,
   "metadata": {},
   "outputs": [
    {
     "name": "stderr",
     "output_type": "stream",
     "text": [
      "Loading required package: carData\n",
      "\n",
      "\n",
      "Attaching package: 'car'\n",
      "\n",
      "\n",
      "The following object is masked from 'package:dplyr':\n",
      "\n",
      "    recode\n",
      "\n",
      "\n",
      "The following object is masked from 'package:purrr':\n",
      "\n",
      "    some\n",
      "\n",
      "\n"
     ]
    },
    {
     "data": {
      "text/html": [
       "<table class=\"dataframe\">\n",
       "<caption>A anova: 2 × 3</caption>\n",
       "<thead>\n",
       "\t<tr><th></th><th scope=col>Df</th><th scope=col>F value</th><th scope=col>Pr(&gt;F)</th></tr>\n",
       "\t<tr><th></th><th scope=col>&lt;int&gt;</th><th scope=col>&lt;dbl&gt;</th><th scope=col>&lt;dbl&gt;</th></tr>\n",
       "</thead>\n",
       "<tbody>\n",
       "\t<tr><th scope=row>group</th><td> 1</td><td>0.3975178</td><td>0.5310332</td></tr>\n",
       "\t<tr><th scope=row> </th><td>54</td><td>       NA</td><td>       NA</td></tr>\n",
       "</tbody>\n",
       "</table>\n"
      ],
      "text/latex": [
       "A anova: 2 × 3\n",
       "\\begin{tabular}{r|lll}\n",
       "  & Df & F value & Pr(>F)\\\\\n",
       "  & <int> & <dbl> & <dbl>\\\\\n",
       "\\hline\n",
       "\tgroup &  1 & 0.3975178 & 0.5310332\\\\\n",
       "\t  & 54 &        NA &        NA\\\\\n",
       "\\end{tabular}\n"
      ],
      "text/markdown": [
       "\n",
       "A anova: 2 × 3\n",
       "\n",
       "| <!--/--> | Df &lt;int&gt; | F value &lt;dbl&gt; | Pr(&gt;F) &lt;dbl&gt; |\n",
       "|---|---|---|---|\n",
       "| group |  1 | 0.3975178 | 0.5310332 |\n",
       "| <!----> | 54 |        NA |        NA |\n",
       "\n"
      ],
      "text/plain": [
       "      Df F value   Pr(>F)   \n",
       "group  1 0.3975178 0.5310332\n",
       "      54        NA        NA"
      ]
     },
     "metadata": {},
     "output_type": "display_data"
    }
   ],
   "source": [
    "leveneTest(.resid ~ Treatment, data=model.metrics)"
   ]
  },
  {
   "cell_type": "raw",
   "metadata": {},
   "source": [
    "The Levene’s test was not significant (p > 0.05), so we can assume homogeneity of the residual variances for all groups."
   ]
  },
  {
   "cell_type": "markdown",
   "metadata": {},
   "source": [
    "### outliers"
   ]
  },
  {
   "cell_type": "code",
   "execution_count": 15,
   "metadata": {},
   "outputs": [
    {
     "data": {
      "text/html": [
       "<table class=\"dataframe\">\n",
       "<caption>A data.frame: 1 × 9</caption>\n",
       "<thead>\n",
       "\t<tr><th scope=col>SQRTPercentagenotmoving</th><th scope=col>DOA</th><th scope=col>Treatment</th><th scope=col>.fitted</th><th scope=col>.resid</th><th scope=col>.hat</th><th scope=col>.sigma</th><th scope=col>.cooksd</th><th scope=col>.std.resid</th></tr>\n",
       "\t<tr><th scope=col>&lt;dbl&gt;</th><th scope=col>&lt;int&gt;</th><th scope=col>&lt;fct&gt;</th><th scope=col>&lt;dbl&gt;</th><th scope=col>&lt;dbl&gt;</th><th scope=col>&lt;dbl&gt;</th><th scope=col>&lt;dbl&gt;</th><th scope=col>&lt;dbl&gt;</th><th scope=col>&lt;dbl&gt;</th></tr>\n",
       "</thead>\n",
       "<tbody>\n",
       "\t<tr><td>7.806247</td><td>119</td><td>TRAN</td><td>4.971391</td><td>2.834856</td><td>0.08706841</td><td>0.7692652</td><td>0.3747846</td><td>3.433526</td></tr>\n",
       "</tbody>\n",
       "</table>\n"
      ],
      "text/latex": [
       "A data.frame: 1 × 9\n",
       "\\begin{tabular}{lllllllll}\n",
       " SQRTPercentagenotmoving & DOA & Treatment & .fitted & .resid & .hat & .sigma & .cooksd & .std.resid\\\\\n",
       " <dbl> & <int> & <fct> & <dbl> & <dbl> & <dbl> & <dbl> & <dbl> & <dbl>\\\\\n",
       "\\hline\n",
       "\t 7.806247 & 119 & TRAN & 4.971391 & 2.834856 & 0.08706841 & 0.7692652 & 0.3747846 & 3.433526\\\\\n",
       "\\end{tabular}\n"
      ],
      "text/markdown": [
       "\n",
       "A data.frame: 1 × 9\n",
       "\n",
       "| SQRTPercentagenotmoving &lt;dbl&gt; | DOA &lt;int&gt; | Treatment &lt;fct&gt; | .fitted &lt;dbl&gt; | .resid &lt;dbl&gt; | .hat &lt;dbl&gt; | .sigma &lt;dbl&gt; | .cooksd &lt;dbl&gt; | .std.resid &lt;dbl&gt; |\n",
       "|---|---|---|---|---|---|---|---|---|\n",
       "| 7.806247 | 119 | TRAN | 4.971391 | 2.834856 | 0.08706841 | 0.7692652 | 0.3747846 | 3.433526 |\n",
       "\n"
      ],
      "text/plain": [
       "  SQRTPercentagenotmoving DOA Treatment .fitted  .resid   .hat       .sigma   \n",
       "1 7.806247                119 TRAN      4.971391 2.834856 0.08706841 0.7692652\n",
       "  .cooksd   .std.resid\n",
       "1 0.3747846 3.433526  "
      ]
     },
     "metadata": {},
     "output_type": "display_data"
    }
   ],
   "source": [
    "model.metrics %>% \n",
    "  filter(abs(.std.resid) > 3) %>%\n",
    "  as.data.frame()"
   ]
  },
  {
   "cell_type": "markdown",
   "metadata": {},
   "source": [
    "There is one outliers in the data the first day, should I remove it?"
   ]
  },
  {
   "cell_type": "markdown",
   "metadata": {},
   "source": [
    "# ANCOVA"
   ]
  },
  {
   "cell_type": "code",
   "execution_count": 16,
   "metadata": {},
   "outputs": [
    {
     "name": "stderr",
     "output_type": "stream",
     "text": [
      "Coefficient covariances computed by hccm()\n",
      "\n"
     ]
    },
    {
     "data": {
      "text/html": [
       "<table class=\"dataframe\">\n",
       "<caption>A anova_test: 2 × 7</caption>\n",
       "<thead>\n",
       "\t<tr><th></th><th scope=col>Effect</th><th scope=col>DFn</th><th scope=col>DFd</th><th scope=col>F</th><th scope=col>p</th><th scope=col>p&lt;.05</th><th scope=col>ges</th></tr>\n",
       "\t<tr><th></th><th scope=col>&lt;chr&gt;</th><th scope=col>&lt;dbl&gt;</th><th scope=col>&lt;dbl&gt;</th><th scope=col>&lt;dbl&gt;</th><th scope=col>&lt;dbl&gt;</th><th scope=col>&lt;chr&gt;</th><th scope=col>&lt;dbl&gt;</th></tr>\n",
       "</thead>\n",
       "<tbody>\n",
       "\t<tr><th scope=row>1</th><td>DOA      </td><td>1</td><td>53</td><td>139.346</td><td>1.86e-16</td><td>*</td><td>0.724</td></tr>\n",
       "\t<tr><th scope=row>2</th><td>Treatment</td><td>1</td><td>53</td><td> 31.936</td><td>6.46e-07</td><td>*</td><td>0.376</td></tr>\n",
       "</tbody>\n",
       "</table>\n"
      ],
      "text/latex": [
       "A anova\\_test: 2 × 7\n",
       "\\begin{tabular}{r|lllllll}\n",
       "  & Effect & DFn & DFd & F & p & p<.05 & ges\\\\\n",
       "  & <chr> & <dbl> & <dbl> & <dbl> & <dbl> & <chr> & <dbl>\\\\\n",
       "\\hline\n",
       "\t1 & DOA       & 1 & 53 & 139.346 & 1.86e-16 & * & 0.724\\\\\n",
       "\t2 & Treatment & 1 & 53 &  31.936 & 6.46e-07 & * & 0.376\\\\\n",
       "\\end{tabular}\n"
      ],
      "text/markdown": [
       "\n",
       "A anova_test: 2 × 7\n",
       "\n",
       "| <!--/--> | Effect &lt;chr&gt; | DFn &lt;dbl&gt; | DFd &lt;dbl&gt; | F &lt;dbl&gt; | p &lt;dbl&gt; | p&lt;.05 &lt;chr&gt; | ges &lt;dbl&gt; |\n",
       "|---|---|---|---|---|---|---|---|\n",
       "| 1 | DOA       | 1 | 53 | 139.346 | 1.86e-16 | * | 0.724 |\n",
       "| 2 | Treatment | 1 | 53 |  31.936 | 6.46e-07 | * | 0.376 |\n",
       "\n"
      ],
      "text/plain": [
       "  Effect    DFn DFd F       p        p<.05 ges  \n",
       "1 DOA       1   53  139.346 1.86e-16 *     0.724\n",
       "2 Treatment 1   53   31.936 6.46e-07 *     0.376"
      ]
     },
     "metadata": {},
     "output_type": "display_data"
    }
   ],
   "source": [
    "res.aov <- df %>% anova_test(SQRTPercentagenotmoving ~ DOA + Treatment)\n",
    "get_anova_table(res.aov)"
   ]
  },
  {
   "cell_type": "code",
   "execution_count": 23,
   "metadata": {},
   "outputs": [
    {
     "data": {
      "text/plain": [
       "    Effect               DFn         DFd           F         \n",
       " Length:2           Min.   :1   Min.   :53   Min.   : 31.94  \n",
       " Class :character   1st Qu.:1   1st Qu.:53   1st Qu.: 58.79  \n",
       " Mode  :character   Median :1   Median :53   Median : 85.64  \n",
       "                    Mean   :1   Mean   :53   Mean   : 85.64  \n",
       "                    3rd Qu.:1   3rd Qu.:53   3rd Qu.:112.49  \n",
       "                    Max.   :1   Max.   :53   Max.   :139.35  \n",
       "       p                p<.05                ges       \n",
       " Min.   :0.000e+00   Length:2           Min.   :0.376  \n",
       " 1st Qu.:1.615e-07   Class :character   1st Qu.:0.463  \n",
       " Median :3.230e-07   Mode  :character   Median :0.550  \n",
       " Mean   :3.230e-07                      Mean   :0.550  \n",
       " 3rd Qu.:4.845e-07                      3rd Qu.:0.637  \n",
       " Max.   :6.460e-07                      Max.   :0.724  "
      ]
     },
     "metadata": {},
     "output_type": "display_data"
    }
   ],
   "source": [
    "summary(res.aov)"
   ]
  },
  {
   "cell_type": "raw",
   "metadata": {},
   "source": [
    "An ANCOVA was run to determine the effect of the treatment on the percentgae of animals that are not transitioning after controlling for the day of age of the animal.\n",
    "After adjustment for DOA, there was a statistically significant difference in the percentage of hens not moving between the groups OFH and TRAN, F(1, 53) = 17.26, p < 0.0001"
   ]
  },
  {
   "cell_type": "code",
   "execution_count": 17,
   "metadata": {},
   "outputs": [
    {
     "ename": "ERROR",
     "evalue": "Error: Column name `std.error` must not be duplicated.\n",
     "output_type": "error",
     "traceback": [
      "Error: Column name `std.error` must not be duplicated.\nTraceback:\n",
      "1. emmeans_test(SQRTPercentagenotmoving ~ Treatment, covariate = DOA, \n .     data = df, p.adjust.method = \"bonferroni\")",
      "2. pairwise_emmeans_test(res.emmeans, grouping.vars, method = method, \n .     p.adjust.method = p.adjust.method, conf.level = conf.level)",
      "3. tidy(comparisons, conf.int = TRUE, conf.level = conf.level) %>% \n .     add_column(std.error = std.error, .after = \"estimate\")",
      "4. add_column(., std.error = std.error, .after = \"estimate\")",
      "5. set_repaired_names(out, .name_repair)",
      "6. set_names(x, repaired_names(names2(x), .name_repair = .name_repair, \n .     quiet = quiet))",
      "7. repaired_names(names2(x), .name_repair = .name_repair, quiet = quiet)",
      "8. subclass_name_repair_errors(name = name, details = details, vec_as_names(name, \n .     repair = .name_repair, quiet = quiet || !is_character(.name_repair)))",
      "9. withCallingHandlers(expr, vctrs_error_names_cannot_be_empty = function(cnd) {\n .     cnd <- error_column_names_cannot_be_empty(detect_empty_names(name), \n .         parent = cnd)\n .     cnd$body <- details\n .     cnd_signal(cnd)\n . }, vctrs_error_names_cannot_be_dot_dot = function(cnd) {\n .     cnd <- error_column_names_cannot_be_dot_dot(detect_dot_dot(name), \n .         parent = cnd)\n .     cnd_signal(cnd)\n . }, vctrs_error_names_must_be_unique = function(cnd) {\n .     cnd <- error_column_names_must_be_unique(detect_duplicates(name), \n .         parent = cnd)\n .     cnd_signal(cnd)\n . })",
      "10. vec_as_names(name, repair = .name_repair, quiet = quiet || !is_character(.name_repair))",
      "11. (function () \n  . validate_unique(names = names, arg = arg))()",
      "12. validate_unique(names = names, arg = arg)",
      "13. stop_names_must_be_unique(names, arg)",
      "14. stop_names(class = \"vctrs_error_names_must_be_unique\", arg = arg, \n  .     names = names)",
      "15. stop_vctrs(class = c(class, \"vctrs_error_names\"), ...)",
      "16. abort(message, class = c(class, \"vctrs_error\"), ...)",
      "17. signal_abort(cnd)",
      "18. signalCondition(cnd)",
      "19. (function (cnd) \n  . {\n  .     cnd <- error_column_names_must_be_unique(detect_duplicates(name), \n  .         parent = cnd)\n  .     cnd_signal(cnd)\n  . })(structure(list(message = \"\", trace = structure(list(calls = list(\n  .     IRkernel::main(), kernel$run(), IRkernel:::handle_shell(), \n  .     executor$execute(msg), base::tryCatch(evaluate(request$content$code, \n  .         envir = .GlobalEnv, output_handler = oh, stop_on_error = 1L), \n  .         interrupt = function(cond) {\n  .             log_debug(\"Interrupt during execution\")\n  .             interrupted <<- TRUE\n  .         }, error = .self$handle_error), base:::tryCatchList(expr, \n  .         classes, parentenv, handlers), base:::tryCatchOne(tryCatchList(expr, \n  .         names[-nh], parentenv, handlers[-nh]), names[nh], parentenv, \n  .         handlers[[nh]]), base:::doTryCatch(return(expr), name, \n  .         parentenv, handler), base:::tryCatchList(expr, names[-nh], \n  .         parentenv, handlers[-nh]), base:::tryCatchOne(expr, names, \n  .         parentenv, handlers[[1L]]), base:::doTryCatch(return(expr), \n  .         name, parentenv, handler), evaluate::evaluate(request$content$code, \n  .         envir = .GlobalEnv, output_handler = oh, stop_on_error = 1L), \n  .     evaluate:::evaluate_call(expr, parsed$src[[i]], envir = envir, \n  .         enclos = enclos, debug = debug, last = i == length(out), \n  .         use_try = stop_on_error != 2L, keep_warning = keep_warning, \n  .         keep_message = keep_message, output_handler = output_handler, \n  .         include_timing = include_timing), evaluate:::timing_fn(handle(ev <- withCallingHandlers(withVisible(eval(expr, \n  .         envir, enclos)), warning = wHandler, error = eHandler, \n  .         message = mHandler))), evaluate:::handle(ev <- withCallingHandlers(withVisible(eval(expr, \n  .         envir, enclos)), warning = wHandler, error = eHandler, \n  .         message = mHandler)), base::try(f, silent = TRUE), base::tryCatch(expr, \n  .         error = function(e) {\n  .             call <- conditionCall(e)\n  .             if (!is.null(call)) {\n  .                 if (identical(call[[1L]], quote(doTryCatch))) \n  .                   call <- sys.call(-4L)\n  .                 dcall <- deparse(call)[1L]\n  .                 prefix <- paste(\"Error in\", dcall, \": \")\n  .                 LONG <- 75L\n  .                 sm <- strsplit(conditionMessage(e), \"\\n\")[[1L]]\n  .                 w <- 14L + nchar(dcall, type = \"w\") + nchar(sm[1L], \n  .                   type = \"w\")\n  .                 if (is.na(w)) \n  .                   w <- 14L + nchar(dcall, type = \"b\") + nchar(sm[1L], \n  .                     type = \"b\")\n  .                 if (w > LONG) \n  .                   prefix <- paste0(prefix, \"\\n  \")\n  .             }\n  .             else prefix <- \"Error : \"\n  .             msg <- paste0(prefix, conditionMessage(e), \"\\n\")\n  .             .Internal(seterrmessage(msg[1L]))\n  .             if (!silent && isTRUE(getOption(\"show.error.messages\"))) {\n  .                 cat(msg, file = outFile)\n  .                 .Internal(printDeferredWarnings())\n  .             }\n  .             invisible(structure(msg, class = \"try-error\", condition = e))\n  .         }), base:::tryCatchList(expr, classes, parentenv, handlers), \n  .     base:::tryCatchOne(expr, names, parentenv, handlers[[1L]]), \n  .     base:::doTryCatch(return(expr), name, parentenv, handler), \n  .     base::withCallingHandlers(withVisible(eval(expr, envir, enclos)), \n  .         warning = wHandler, error = eHandler, message = mHandler), \n  .     base::withVisible(eval(expr, envir, enclos)), base::eval(expr, \n  .         envir, enclos), base::eval(expr, envir, enclos), rstatix::emmeans_test(SQRTPercentagenotmoving ~ \n  .         Treatment, covariate = DOA, data = df, p.adjust.method = \"bonferroni\"), \n  .     rstatix:::pairwise_emmeans_test(res.emmeans, grouping.vars, \n  .         method = method, p.adjust.method = p.adjust.method, conf.level = conf.level), \n  .     tidy(comparisons, conf.int = TRUE, conf.level = conf.level) %>% \n  .         add_column(std.error = std.error, .after = \"estimate\"), \n  .     tibble::add_column(., std.error = std.error, .after = \"estimate\"), \n  .     tibble:::set_repaired_names(out, .name_repair), rlang::set_names(x, \n  .         repaired_names(names2(x), .name_repair = .name_repair, \n  .             quiet = quiet)), tibble:::repaired_names(names2(x), \n  .         .name_repair = .name_repair, quiet = quiet), tibble:::subclass_name_repair_errors(name = name, \n  .         details = details, vec_as_names(name, repair = .name_repair, \n  .             quiet = quiet || !is_character(.name_repair))), base::withCallingHandlers(expr, \n  .         vctrs_error_names_cannot_be_empty = function(cnd) {\n  .             cnd <- error_column_names_cannot_be_empty(detect_empty_names(name), \n  .                 parent = cnd)\n  .             cnd$body <- details\n  .             cnd_signal(cnd)\n  .         }, vctrs_error_names_cannot_be_dot_dot = function(cnd) {\n  .             cnd <- error_column_names_cannot_be_dot_dot(detect_dot_dot(name), \n  .                 parent = cnd)\n  .             cnd_signal(cnd)\n  .         }, vctrs_error_names_must_be_unique = function(cnd) {\n  .             cnd <- error_column_names_must_be_unique(detect_duplicates(name), \n  .                 parent = cnd)\n  .             cnd_signal(cnd)\n  .         }), vctrs::vec_as_names(name, repair = .name_repair, \n  .         quiet = quiet || !is_character(.name_repair)), (function () \n  .     validate_unique(names = names, arg = arg))(), vctrs:::validate_unique(names = names, \n  .         arg = arg), vctrs:::stop_names_must_be_unique(names, \n  .         arg), vctrs:::stop_names(class = \"vctrs_error_names_must_be_unique\", \n  .         arg = arg, names = names), vctrs:::stop_vctrs(class = c(class, \n  .         \"vctrs_error_names\"), ...)), parents = c(0L, 1L, 2L, \n  . 3L, 4L, 5L, 6L, 7L, 6L, 9L, 10L, 4L, 12L, 13L, 13L, 15L, 16L, \n  . 17L, 18L, 19L, 13L, 13L, 13L, 23L, 0L, 25L, 26L, 0L, 28L, 29L, \n  . 29L, 31L, 32L, 31L, 34L, 35L, 36L, 37L, 38L), indices = 1:39), class = \"rlang_trace\", version = 1L), \n  .     parent = NULL, arg = \"\", names = c(\"term\", \"contrast\", \"null.value\", \n  .     \"estimate\", \"std.error\", \"std.error\", \"df\", \"conf.low\", \"conf.high\", \n  .     \"statistic\", \"p.value\")), class = c(\"vctrs_error_names_must_be_unique\", \n  . \"vctrs_error_names\", \"vctrs_error\", \"rlang_error\", \"error\", \"condition\"\n  . )))",
      "20. cnd_signal(cnd)",
      "21. signal_abort(cnd)"
     ]
    }
   ],
   "source": [
    "emmeans_test(SQRTPercentagenotmoving ~ Treatment, covariate = DOA, data=df, p.adjust.method = \"bonferroni\")"
   ]
  },
  {
   "cell_type": "code",
   "execution_count": 18,
   "metadata": {},
   "outputs": [
    {
     "ename": "ERROR",
     "evalue": "Error: Column name `std.error` must not be duplicated.\n",
     "output_type": "error",
     "traceback": [
      "Error: Column name `std.error` must not be duplicated.\nTraceback:\n",
      "1. df %>% emmeans_test(SQRTPercentagenotmoving ~ Treatment, covariate = DOA, \n .     p.adjust.method = \"bonferroni\")",
      "2. emmeans_test(., SQRTPercentagenotmoving ~ Treatment, covariate = DOA, \n .     p.adjust.method = \"bonferroni\")",
      "3. pairwise_emmeans_test(res.emmeans, grouping.vars, method = method, \n .     p.adjust.method = p.adjust.method, conf.level = conf.level)",
      "4. tidy(comparisons, conf.int = TRUE, conf.level = conf.level) %>% \n .     add_column(std.error = std.error, .after = \"estimate\")",
      "5. add_column(., std.error = std.error, .after = \"estimate\")",
      "6. set_repaired_names(out, .name_repair)",
      "7. set_names(x, repaired_names(names2(x), .name_repair = .name_repair, \n .     quiet = quiet))",
      "8. repaired_names(names2(x), .name_repair = .name_repair, quiet = quiet)",
      "9. subclass_name_repair_errors(name = name, details = details, vec_as_names(name, \n .     repair = .name_repair, quiet = quiet || !is_character(.name_repair)))",
      "10. withCallingHandlers(expr, vctrs_error_names_cannot_be_empty = function(cnd) {\n  .     cnd <- error_column_names_cannot_be_empty(detect_empty_names(name), \n  .         parent = cnd)\n  .     cnd$body <- details\n  .     cnd_signal(cnd)\n  . }, vctrs_error_names_cannot_be_dot_dot = function(cnd) {\n  .     cnd <- error_column_names_cannot_be_dot_dot(detect_dot_dot(name), \n  .         parent = cnd)\n  .     cnd_signal(cnd)\n  . }, vctrs_error_names_must_be_unique = function(cnd) {\n  .     cnd <- error_column_names_must_be_unique(detect_duplicates(name), \n  .         parent = cnd)\n  .     cnd_signal(cnd)\n  . })",
      "11. vec_as_names(name, repair = .name_repair, quiet = quiet || !is_character(.name_repair))",
      "12. (function () \n  . validate_unique(names = names, arg = arg))()",
      "13. validate_unique(names = names, arg = arg)",
      "14. stop_names_must_be_unique(names, arg)",
      "15. stop_names(class = \"vctrs_error_names_must_be_unique\", arg = arg, \n  .     names = names)",
      "16. stop_vctrs(class = c(class, \"vctrs_error_names\"), ...)",
      "17. abort(message, class = c(class, \"vctrs_error\"), ...)",
      "18. signal_abort(cnd)",
      "19. signalCondition(cnd)",
      "20. (function (cnd) \n  . {\n  .     cnd <- error_column_names_must_be_unique(detect_duplicates(name), \n  .         parent = cnd)\n  .     cnd_signal(cnd)\n  . })(structure(list(message = \"\", trace = structure(list(calls = list(\n  .     IRkernel::main(), kernel$run(), IRkernel:::handle_shell(), \n  .     executor$execute(msg), base::tryCatch(evaluate(request$content$code, \n  .         envir = .GlobalEnv, output_handler = oh, stop_on_error = 1L), \n  .         interrupt = function(cond) {\n  .             log_debug(\"Interrupt during execution\")\n  .             interrupted <<- TRUE\n  .         }, error = .self$handle_error), base:::tryCatchList(expr, \n  .         classes, parentenv, handlers), base:::tryCatchOne(tryCatchList(expr, \n  .         names[-nh], parentenv, handlers[-nh]), names[nh], parentenv, \n  .         handlers[[nh]]), base:::doTryCatch(return(expr), name, \n  .         parentenv, handler), base:::tryCatchList(expr, names[-nh], \n  .         parentenv, handlers[-nh]), base:::tryCatchOne(expr, names, \n  .         parentenv, handlers[[1L]]), base:::doTryCatch(return(expr), \n  .         name, parentenv, handler), evaluate::evaluate(request$content$code, \n  .         envir = .GlobalEnv, output_handler = oh, stop_on_error = 1L), \n  .     evaluate:::evaluate_call(expr, parsed$src[[i]], envir = envir, \n  .         enclos = enclos, debug = debug, last = i == length(out), \n  .         use_try = stop_on_error != 2L, keep_warning = keep_warning, \n  .         keep_message = keep_message, output_handler = output_handler, \n  .         include_timing = include_timing), evaluate:::timing_fn(handle(ev <- withCallingHandlers(withVisible(eval(expr, \n  .         envir, enclos)), warning = wHandler, error = eHandler, \n  .         message = mHandler))), evaluate:::handle(ev <- withCallingHandlers(withVisible(eval(expr, \n  .         envir, enclos)), warning = wHandler, error = eHandler, \n  .         message = mHandler)), base::try(f, silent = TRUE), base::tryCatch(expr, \n  .         error = function(e) {\n  .             call <- conditionCall(e)\n  .             if (!is.null(call)) {\n  .                 if (identical(call[[1L]], quote(doTryCatch))) \n  .                   call <- sys.call(-4L)\n  .                 dcall <- deparse(call)[1L]\n  .                 prefix <- paste(\"Error in\", dcall, \": \")\n  .                 LONG <- 75L\n  .                 sm <- strsplit(conditionMessage(e), \"\\n\")[[1L]]\n  .                 w <- 14L + nchar(dcall, type = \"w\") + nchar(sm[1L], \n  .                   type = \"w\")\n  .                 if (is.na(w)) \n  .                   w <- 14L + nchar(dcall, type = \"b\") + nchar(sm[1L], \n  .                     type = \"b\")\n  .                 if (w > LONG) \n  .                   prefix <- paste0(prefix, \"\\n  \")\n  .             }\n  .             else prefix <- \"Error : \"\n  .             msg <- paste0(prefix, conditionMessage(e), \"\\n\")\n  .             .Internal(seterrmessage(msg[1L]))\n  .             if (!silent && isTRUE(getOption(\"show.error.messages\"))) {\n  .                 cat(msg, file = outFile)\n  .                 .Internal(printDeferredWarnings())\n  .             }\n  .             invisible(structure(msg, class = \"try-error\", condition = e))\n  .         }), base:::tryCatchList(expr, classes, parentenv, handlers), \n  .     base:::tryCatchOne(expr, names, parentenv, handlers[[1L]]), \n  .     base:::doTryCatch(return(expr), name, parentenv, handler), \n  .     base::withCallingHandlers(withVisible(eval(expr, envir, enclos)), \n  .         warning = wHandler, error = eHandler, message = mHandler), \n  .     base::withVisible(eval(expr, envir, enclos)), base::eval(expr, \n  .         envir, enclos), base::eval(expr, envir, enclos), df %>% \n  .         emmeans_test(SQRTPercentagenotmoving ~ Treatment, covariate = DOA, \n  .             p.adjust.method = \"bonferroni\"), rstatix::emmeans_test(., \n  .         SQRTPercentagenotmoving ~ Treatment, covariate = DOA, \n  .         p.adjust.method = \"bonferroni\"), rstatix:::pairwise_emmeans_test(res.emmeans, \n  .         grouping.vars, method = method, p.adjust.method = p.adjust.method, \n  .         conf.level = conf.level), tidy(comparisons, conf.int = TRUE, \n  .         conf.level = conf.level) %>% add_column(std.error = std.error, \n  .         .after = \"estimate\"), tibble::add_column(., std.error = std.error, \n  .         .after = \"estimate\"), tibble:::set_repaired_names(out, \n  .         .name_repair), rlang::set_names(x, repaired_names(names2(x), \n  .         .name_repair = .name_repair, quiet = quiet)), tibble:::repaired_names(names2(x), \n  .         .name_repair = .name_repair, quiet = quiet), tibble:::subclass_name_repair_errors(name = name, \n  .         details = details, vec_as_names(name, repair = .name_repair, \n  .             quiet = quiet || !is_character(.name_repair))), base::withCallingHandlers(expr, \n  .         vctrs_error_names_cannot_be_empty = function(cnd) {\n  .             cnd <- error_column_names_cannot_be_empty(detect_empty_names(name), \n  .                 parent = cnd)\n  .             cnd$body <- details\n  .             cnd_signal(cnd)\n  .         }, vctrs_error_names_cannot_be_dot_dot = function(cnd) {\n  .             cnd <- error_column_names_cannot_be_dot_dot(detect_dot_dot(name), \n  .                 parent = cnd)\n  .             cnd_signal(cnd)\n  .         }, vctrs_error_names_must_be_unique = function(cnd) {\n  .             cnd <- error_column_names_must_be_unique(detect_duplicates(name), \n  .                 parent = cnd)\n  .             cnd_signal(cnd)\n  .         }), vctrs::vec_as_names(name, repair = .name_repair, \n  .         quiet = quiet || !is_character(.name_repair)), (function () \n  .     validate_unique(names = names, arg = arg))(), vctrs:::validate_unique(names = names, \n  .         arg = arg), vctrs:::stop_names_must_be_unique(names, \n  .         arg), vctrs:::stop_names(class = \"vctrs_error_names_must_be_unique\", \n  .         arg = arg, names = names), vctrs:::stop_vctrs(class = c(class, \n  .         \"vctrs_error_names\"), ...)), parents = c(0L, 1L, 2L, \n  . 3L, 4L, 5L, 6L, 7L, 6L, 9L, 10L, 4L, 12L, 13L, 13L, 15L, 16L, \n  . 17L, 18L, 19L, 13L, 13L, 13L, 23L, 0L, 0L, 26L, 27L, 0L, 29L, \n  . 30L, 30L, 32L, 33L, 32L, 35L, 36L, 37L, 38L, 39L), indices = 1:40), class = \"rlang_trace\", version = 1L), \n  .     parent = NULL, arg = \"\", names = c(\"term\", \"contrast\", \"null.value\", \n  .     \"estimate\", \"std.error\", \"std.error\", \"df\", \"conf.low\", \"conf.high\", \n  .     \"statistic\", \"p.value\")), class = c(\"vctrs_error_names_must_be_unique\", \n  . \"vctrs_error_names\", \"vctrs_error\", \"rlang_error\", \"error\", \"condition\"\n  . )))",
      "21. cnd_signal(cnd)",
      "22. signal_abort(cnd)"
     ]
    }
   ],
   "source": [
    "pwc <- df %>% \n",
    "  emmeans_test(\n",
    "    SQRTPercentagenotmoving ~ Treatment, covariate = DOA,\n",
    "    p.adjust.method = \"bonferroni\"\n",
    "    )\n",
    "pwc"
   ]
  },
  {
   "cell_type": "code",
   "execution_count": 19,
   "metadata": {},
   "outputs": [
    {
     "data": {
      "text/plain": [
       "R version 4.0.3 (2020-10-10)\n",
       "Platform: x86_64-w64-mingw32/x64 (64-bit)\n",
       "Running under: Windows 10 x64 (build 18363)\n",
       "\n",
       "Matrix products: default\n",
       "\n",
       "locale:\n",
       "[1] LC_COLLATE=French_Switzerland.1252  LC_CTYPE=French_Switzerland.1252   \n",
       "[3] LC_MONETARY=French_Switzerland.1252 LC_NUMERIC=C                       \n",
       "[5] LC_TIME=French_Switzerland.1252    \n",
       "\n",
       "attached base packages:\n",
       "[1] stats     graphics  grDevices utils     datasets  methods   base     \n",
       "\n",
       "other attached packages:\n",
       " [1] car_3.0-10      carData_3.0-4   reshape2_1.4.4  emmeans_1.5.4  \n",
       " [5] lmerTest_3.1-3  WRS2_1.1-0      rstatix_0.6.0   ggpubr_0.4.0   \n",
       " [9] broom_0.7.4     lme4_1.1-26     Matrix_1.2-18   modEvA_2.0     \n",
       "[13] MASS_7.3-53     leaps_3.1       caret_6.0-86    lattice_0.20-41\n",
       "[17] forcats_0.5.1   stringr_1.4.0   dplyr_1.0.3     purrr_0.3.4    \n",
       "[21] readr_1.4.0     tidyr_1.1.2     tibble_3.0.6    ggplot2_3.3.3  \n",
       "[25] tidyverse_1.3.0 lindia_0.9      DHARMa_0.3.3.0 \n",
       "\n",
       "loaded via a namespace (and not attached):\n",
       " [1] minqa_1.2.4          colorspace_2.0-0     ggsignif_0.6.0      \n",
       " [4] ellipsis_0.3.1       class_7.3-17         rio_0.5.16          \n",
       " [7] estimability_1.3     IRdisplay_1.0        base64enc_0.1-3     \n",
       "[10] fs_1.5.0             mc2d_0.1-18          rstudioapi_0.13     \n",
       "[13] farver_2.0.3         mvtnorm_1.1-1        prodlim_2019.11.13  \n",
       "[16] lubridate_1.7.9.2    xml2_1.3.2           codetools_0.2-16    \n",
       "[19] splines_4.0.3        IRkernel_1.1.1       polynom_1.4-0       \n",
       "[22] jsonlite_1.7.2       nloptr_1.2.2.2       pROC_1.17.0.1       \n",
       "[25] dbplyr_2.1.0         compiler_4.0.3       httr_1.4.2          \n",
       "[28] backports_1.2.0      assertthat_0.2.1     cli_2.3.0           \n",
       "[31] htmltools_0.5.1.1    tools_4.0.3          gtable_0.3.0        \n",
       "[34] glue_1.4.2           Rcpp_1.0.6           cellranger_1.1.0    \n",
       "[37] vctrs_0.3.6          nlme_3.1-149         iterators_1.0.13    \n",
       "[40] timeDate_3043.102    gower_0.2.2          ps_1.5.0            \n",
       "[43] openxlsx_4.2.3       rvest_0.3.6          lifecycle_0.2.0     \n",
       "[46] statmod_1.4.35       scales_1.1.1         ipred_0.9-9         \n",
       "[49] hms_1.0.0            curl_4.3             gridExtra_2.3       \n",
       "[52] rpart_4.1-15         reshape_0.8.8        stringi_1.5.3       \n",
       "[55] foreach_1.5.1        boot_1.3-25          zip_2.1.1           \n",
       "[58] lava_1.6.8.1         repr_1.1.3           rlang_0.4.10        \n",
       "[61] pkgconfig_2.0.3      evaluate_0.14        labeling_0.4.2      \n",
       "[64] recipes_0.1.15       tidyselect_1.1.0     plyr_1.8.6          \n",
       "[67] magrittr_2.0.1       R6_2.5.0             generics_0.1.0      \n",
       "[70] pbdZMQ_0.3-4         DBI_1.1.1            mgcv_1.8-33         \n",
       "[73] pillar_1.4.7         haven_2.3.1          foreign_0.8-81      \n",
       "[76] withr_2.4.1          survival_3.2-7       abind_1.4-5         \n",
       "[79] nnet_7.3-14          modelr_0.1.8         crayon_1.4.0        \n",
       "[82] uuid_0.1-4           grid_4.0.3           readxl_1.3.1        \n",
       "[85] data.table_1.13.6    ModelMetrics_1.2.2.2 reprex_1.0.0        \n",
       "[88] digest_0.6.27        xtable_1.8-4         numDeriv_2016.8-1.1 \n",
       "[91] stats4_4.0.3         munsell_0.5.0       "
      ]
     },
     "metadata": {},
     "output_type": "display_data"
    }
   ],
   "source": [
    "sessionInfo()"
   ]
  },
  {
   "cell_type": "code",
   "execution_count": null,
   "metadata": {},
   "outputs": [],
   "source": []
  },
  {
   "cell_type": "code",
   "execution_count": null,
   "metadata": {},
   "outputs": [],
   "source": []
  },
  {
   "cell_type": "code",
   "execution_count": null,
   "metadata": {},
   "outputs": [],
   "source": []
  },
  {
   "cell_type": "code",
   "execution_count": null,
   "metadata": {},
   "outputs": [],
   "source": []
  },
  {
   "cell_type": "code",
   "execution_count": null,
   "metadata": {},
   "outputs": [],
   "source": []
  },
  {
   "cell_type": "code",
   "execution_count": null,
   "metadata": {},
   "outputs": [],
   "source": []
  }
 ],
 "metadata": {
  "kernelspec": {
   "display_name": "R 4.0.3",
   "language": "R",
   "name": "ir35"
  },
  "language_info": {
   "codemirror_mode": "r",
   "file_extension": ".r",
   "mimetype": "text/x-r-source",
   "name": "R",
   "pygments_lexer": "r",
   "version": "4.0.3"
  }
 },
 "nbformat": 4,
 "nbformat_minor": 4
}
