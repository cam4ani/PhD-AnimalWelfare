{
 "cells": [
  {
   "cell_type": "code",
   "execution_count": 2,
   "metadata": {
    "scrolled": true
   },
   "outputs": [
    {
     "name": "stderr",
     "output_type": "stream",
     "text": [
      "Warning message:\n",
      "\"package 'lmerTest' was built under R version 3.6.3\"\n",
      "Loading required package: lme4\n",
      "\n",
      "Warning message:\n",
      "\"package 'lme4' was built under R version 3.6.3\"\n",
      "Loading required package: Matrix\n",
      "\n",
      "Warning message:\n",
      "\"package 'Matrix' was built under R version 3.6.3\"\n",
      "\n",
      "Attaching package: 'lmerTest'\n",
      "\n",
      "\n",
      "The following object is masked from 'package:lme4':\n",
      "\n",
      "    lmer\n",
      "\n",
      "\n",
      "The following object is masked from 'package:stats':\n",
      "\n",
      "    step\n",
      "\n",
      "\n",
      "Warning message:\n",
      "\"package 'MuMIn' was built under R version 3.6.3\"\n",
      "Warning message:\n",
      "\"package 'merTools' was built under R version 3.6.3\"\n",
      "Loading required package: arm\n",
      "\n",
      "Loading required package: MASS\n",
      "\n",
      "Warning message:\n",
      "\"package 'MASS' was built under R version 3.6.3\"\n",
      "\n",
      "arm (Version 1.12-2, built: 2021-10-15)\n",
      "\n",
      "\n",
      "Working directory is C:/Users/camil/Desktop/animals_code/PhD-AnimalWelfare/Chapter1-EarlyMovementLateHealth\n",
      "\n",
      "\n",
      "Warning message:\n",
      "\"package 'dplyr' was built under R version 3.6.3\"\n",
      "\n",
      "Attaching package: 'dplyr'\n",
      "\n",
      "\n",
      "The following object is masked from 'package:MASS':\n",
      "\n",
      "    select\n",
      "\n",
      "\n",
      "The following objects are masked from 'package:stats':\n",
      "\n",
      "    filter, lag\n",
      "\n",
      "\n",
      "The following objects are masked from 'package:base':\n",
      "\n",
      "    intersect, setdiff, setequal, union\n",
      "\n",
      "\n",
      "Warning message:\n",
      "\"package 'boot' was built under R version 3.6.3\"\n",
      "\n",
      "Attaching package: 'boot'\n",
      "\n",
      "\n",
      "The following object is masked from 'package:arm':\n",
      "\n",
      "    logit\n",
      "\n",
      "\n",
      "Warning message:\n",
      "\"package 'stringr' was built under R version 3.6.3\"\n"
     ]
    }
   ],
   "source": [
    "library(lmerTest) #lmer with pvalues\n",
    "library(MuMIn) #R2\n",
    "library(merTools) #sim\n",
    "library(dplyr) #%>%\n",
    "library(boot) #bootstrap IC\n",
    "library(stringr) #str_c to create henID_WOA"
   ]
  },
  {
   "cell_type": "code",
   "execution_count": 3,
   "metadata": {},
   "outputs": [],
   "source": [
    "#install.packages(\"lmerTest\")\n",
    "#library(lmerTest)"
   ]
  },
  {
   "cell_type": "code",
   "execution_count": 4,
   "metadata": {},
   "outputs": [
    {
     "data": {
      "text/plain": [
       "\n",
       "To cite lmerTest in publications use:\n",
       "\n",
       "Kuznetsova A, Brockhoff PB, Christensen RHB (2017). \"lmerTest Package:\n",
       "Tests in Linear Mixed Effects Models.\" _Journal of Statistical\n",
       "Software_, *82*(13), 1-26. doi: 10.18637/jss.v082.i13 (URL:\n",
       "https://doi.org/10.18637/jss.v082.i13).\n",
       "\n",
       "A BibTeX entry for LaTeX users is\n",
       "\n",
       "  @Article{,\n",
       "    title = {{lmerTest} Package: Tests in Linear Mixed Effects Models},\n",
       "    author = {Alexandra Kuznetsova and Per B. Brockhoff and Rune H. B. Christensen},\n",
       "    journal = {Journal of Statistical Software},\n",
       "    year = {2017},\n",
       "    volume = {82},\n",
       "    number = {13},\n",
       "    pages = {1--26},\n",
       "    doi = {10.18637/jss.v082.i13},\n",
       "  }\n"
      ]
     },
     "metadata": {},
     "output_type": "display_data"
    }
   ],
   "source": [
    "citation(\"lmerTest\")"
   ]
  },
  {
   "cell_type": "markdown",
   "metadata": {},
   "source": [
    "library(lme4)\n",
    "library(arm)\n",
    "library(MuMIn)\n",
    "library(tidyverse)\n",
    "library(plyr)\n",
    "library(broom)\n",
    "library(coda)\n",
    "library(grid)\n",
    "library(gridExtra)\n",
    "library(brms)\n",
    "library(broom.mixed)\n",
    "library(merTools)\n",
    "library(tidybayes)\n",
    "library(parallel)"
   ]
  },
  {
   "cell_type": "markdown",
   "metadata": {},
   "source": [
    "# Download data"
   ]
  },
  {
   "cell_type": "code",
   "execution_count": 5,
   "metadata": {
    "scrolled": true
   },
   "outputs": [
    {
     "data": {
      "text/html": [
       "<table class=\"dataframe\">\n",
       "<caption>A matrix: 2 × 1 of type dbl</caption>\n",
       "<thead>\n",
       "\t<tr><th></th><th scope=col>TRAN</th></tr>\n",
       "</thead>\n",
       "<tbody>\n",
       "\t<tr><th scope=row>OFH</th><td>0</td></tr>\n",
       "\t<tr><th scope=row>TRAN</th><td>1</td></tr>\n",
       "</tbody>\n",
       "</table>\n"
      ],
      "text/latex": [
       "A matrix: 2 × 1 of type dbl\n",
       "\\begin{tabular}{r|l}\n",
       "  & TRAN\\\\\n",
       "\\hline\n",
       "\tOFH & 0\\\\\n",
       "\tTRAN & 1\\\\\n",
       "\\end{tabular}\n"
      ],
      "text/markdown": [
       "\n",
       "A matrix: 2 × 1 of type dbl\n",
       "\n",
       "| <!--/--> | TRAN |\n",
       "|---|---|\n",
       "| OFH | 0 |\n",
       "| TRAN | 1 |\n",
       "\n"
      ],
      "text/plain": [
       "     TRAN\n",
       "OFH  0   \n",
       "TRAN 1   "
      ]
     },
     "metadata": {},
     "output_type": "display_data"
    },
    {
     "data": {
      "text/html": [
       "<table class=\"dataframe\">\n",
       "<caption>A matrix: 2 × 1 of type dbl</caption>\n",
       "<thead>\n",
       "\t<tr><th></th><th scope=col>OFH</th></tr>\n",
       "</thead>\n",
       "<tbody>\n",
       "\t<tr><th scope=row>TRAN</th><td>0</td></tr>\n",
       "\t<tr><th scope=row>OFH</th><td>1</td></tr>\n",
       "</tbody>\n",
       "</table>\n"
      ],
      "text/latex": [
       "A matrix: 2 × 1 of type dbl\n",
       "\\begin{tabular}{r|l}\n",
       "  & OFH\\\\\n",
       "\\hline\n",
       "\tTRAN & 0\\\\\n",
       "\tOFH & 1\\\\\n",
       "\\end{tabular}\n"
      ],
      "text/markdown": [
       "\n",
       "A matrix: 2 × 1 of type dbl\n",
       "\n",
       "| <!--/--> | OFH |\n",
       "|---|---|\n",
       "| TRAN | 0 |\n",
       "| OFH | 1 |\n",
       "\n"
      ],
      "text/plain": [
       "     OFH\n",
       "TRAN 0  \n",
       "OFH  1  "
      ]
     },
     "metadata": {},
     "output_type": "display_data"
    },
    {
     "data": {
      "text/html": [
       "<table class=\"dataframe\">\n",
       "<caption>A matrix: 3 × 2 of type dbl</caption>\n",
       "<thead>\n",
       "\t<tr><th></th><th scope=col>MEXP</th><th scope=col>REXP</th></tr>\n",
       "</thead>\n",
       "<tbody>\n",
       "\t<tr><th scope=row>LEXP</th><td>0</td><td>0</td></tr>\n",
       "\t<tr><th scope=row>MEXP</th><td>1</td><td>0</td></tr>\n",
       "\t<tr><th scope=row>REXP</th><td>0</td><td>1</td></tr>\n",
       "</tbody>\n",
       "</table>\n"
      ],
      "text/latex": [
       "A matrix: 3 × 2 of type dbl\n",
       "\\begin{tabular}{r|ll}\n",
       "  & MEXP & REXP\\\\\n",
       "\\hline\n",
       "\tLEXP & 0 & 0\\\\\n",
       "\tMEXP & 1 & 0\\\\\n",
       "\tREXP & 0 & 1\\\\\n",
       "\\end{tabular}\n"
      ],
      "text/markdown": [
       "\n",
       "A matrix: 3 × 2 of type dbl\n",
       "\n",
       "| <!--/--> | MEXP | REXP |\n",
       "|---|---|---|\n",
       "| LEXP | 0 | 0 |\n",
       "| MEXP | 1 | 0 |\n",
       "| REXP | 0 | 1 |\n",
       "\n"
      ],
      "text/plain": [
       "     MEXP REXP\n",
       "LEXP 0    0   \n",
       "MEXP 1    0   \n",
       "REXP 0    1   "
      ]
     },
     "metadata": {},
     "output_type": "display_data"
    },
    {
     "data": {
      "text/html": [
       "<table class=\"dataframe\">\n",
       "<caption>A matrix: 3 × 2 of type dbl</caption>\n",
       "<thead>\n",
       "\t<tr><th></th><th scope=col>MEXP</th><th scope=col>REXP</th></tr>\n",
       "</thead>\n",
       "<tbody>\n",
       "\t<tr><th scope=row>LEXP</th><td>0</td><td>0</td></tr>\n",
       "\t<tr><th scope=row>MEXP</th><td>1</td><td>0</td></tr>\n",
       "\t<tr><th scope=row>REXP</th><td>0</td><td>1</td></tr>\n",
       "</tbody>\n",
       "</table>\n"
      ],
      "text/latex": [
       "A matrix: 3 × 2 of type dbl\n",
       "\\begin{tabular}{r|ll}\n",
       "  & MEXP & REXP\\\\\n",
       "\\hline\n",
       "\tLEXP & 0 & 0\\\\\n",
       "\tMEXP & 1 & 0\\\\\n",
       "\tREXP & 0 & 1\\\\\n",
       "\\end{tabular}\n"
      ],
      "text/markdown": [
       "\n",
       "A matrix: 3 × 2 of type dbl\n",
       "\n",
       "| <!--/--> | MEXP | REXP |\n",
       "|---|---|---|\n",
       "| LEXP | 0 | 0 |\n",
       "| MEXP | 1 | 0 |\n",
       "| REXP | 0 | 1 |\n",
       "\n"
      ],
      "text/plain": [
       "     MEXP REXP\n",
       "LEXP 0    0   \n",
       "MEXP 1    0   \n",
       "REXP 0    1   "
      ]
     },
     "metadata": {},
     "output_type": "display_data"
    },
    {
     "name": "stdout",
     "output_type": "stream",
     "text": [
      "[1] 3230   35\n"
     ]
    },
    {
     "data": {
      "text/plain": [
       "     HenID           DIB         CLASS          PenID     temperature_C_avg\n",
       " hen_116:  43   Min.   :11.00   LEXP: 965   pen10  :504   Min.   : 4.000   \n",
       " hen_124:  43   1st Qu.:23.00   MEXP:1379   pen11  :504   1st Qu.: 8.667   \n",
       " hen_127:  43   Median :33.00   REXP: 886   pen8   :430   Median :11.000   \n",
       " hen_136:  43   Mean   :33.59               pen9   :429   Mean   :10.838   \n",
       " hen_147:  43   3rd Qu.:44.00               pen4   :388   3rd Qu.:12.667   \n",
       " hen_151:  43   Max.   :54.00               pen5   :363   Max.   :19.333   \n",
       " (Other):2972                               (Other):612                    \n",
       "  tobeusedPCA     InitialWeight  Treatment   perc_duration_5_Zone\n",
       " Min.   :0.0000   Min.   :1046   TRAN:1616   Min.   :  0.00      \n",
       " 1st Qu.:0.0000   1st Qu.:1130   OFH :1614   1st Qu.: 11.00      \n",
       " Median :0.0000   Median :1164               Median : 33.00      \n",
       " Mean   :0.1734   Mean   :1169               Mean   : 39.21      \n",
       " 3rd Qu.:0.0000   3rd Qu.:1200               3rd Qu.: 66.00      \n",
       " Max.   :1.0000   Max.   :1350               Max.   :100.00      \n",
       "                                                                 \n",
       " perc_duration_4_Zone perc_duration_3_Zone perc_duration_2_Zone\n",
       " Min.   : 0.000       Min.   : 0.00        Min.   : 0.00       \n",
       " 1st Qu.: 4.000       1st Qu.: 7.00        1st Qu.:14.00       \n",
       " Median : 6.000       Median :17.00        Median :32.00       \n",
       " Mean   : 8.136       Mean   :18.27        Mean   :31.24       \n",
       " 3rd Qu.:10.000       3rd Qu.:28.00        3rd Qu.:46.00       \n",
       " Max.   :73.000       Max.   :70.00        Max.   :91.00       \n",
       "                                                               \n",
       " perc_1_Zone_while_WG_open nbr_stays_2_Zone_perh nbr_stays_4_Zone_perh\n",
       " Min.   : 0.000            Min.   :0.0000        Min.   :0.0000       \n",
       " 1st Qu.: 0.000            1st Qu.:0.4545        1st Qu.:0.2857       \n",
       " Median : 1.388            Median :1.0714        Median :0.5714       \n",
       " Mean   : 6.932            Mean   :1.1062        Mean   :0.7059       \n",
       " 3rd Qu.: 9.572            3rd Qu.:1.6667        3rd Qu.:1.0000       \n",
       " Max.   :87.949            Max.   :5.0909        Max.   :5.2500       \n",
       "                                                                      \n",
       " nbr_stays_3_Zone_perh nbr_stays_5_Zone_perh nbr_stays_1_Zone_perh\n",
       " Min.   :0.0000        Min.   :0.0000        Min.   :0.0000       \n",
       " 1st Qu.:0.6923        1st Qu.:0.2000        1st Qu.:0.0000       \n",
       " Median :1.3333        Median :0.3571        Median :0.1622       \n",
       " Mean   :1.3227        Mean   :0.4352        Mean   :0.4060       \n",
       " 3rd Qu.:1.8333        3rd Qu.:0.6000        3rd Qu.:0.6316       \n",
       " Max.   :5.1818        Max.   :3.1667        Max.   :3.5789       \n",
       "                                                                  \n",
       " in_WG_15mnAfterOpening SleepingHeight  vertical_travel_distance_perh\n",
       " Min.   :0.0000         Min.   :0.000   Min.   : 0.000               \n",
       " 1st Qu.:0.0000         1st Qu.:2.000   1st Qu.: 2.286               \n",
       " Median :0.0000         Median :3.000   Median : 3.600               \n",
       " Mean   :0.2065         Mean   :2.481   Mean   : 3.595               \n",
       " 3rd Qu.:0.0000         3rd Qu.:3.000   3rd Qu.: 4.800               \n",
       " Max.   :1.0000         Max.   :3.000   Max.   :12.308               \n",
       "                                                                     \n",
       " DIB_startat11       avgDIB         severity        Feathers    \n",
       " Min.   : 0.00   Min.   :21.91   Min.   : 6.00   Min.   :35.00  \n",
       " 1st Qu.:12.00   1st Qu.:21.91   1st Qu.:24.00   1st Qu.:58.67  \n",
       " Median :22.00   Median :22.36   Median :36.00   Median :66.33  \n",
       " Mean   :22.59   Mean   :22.59   Mean   :35.72   Mean   :65.81  \n",
       " 3rd Qu.:33.00   3rd Qu.:23.00   3rd Qu.:46.00   3rd Qu.:73.67  \n",
       " Max.   :43.00   Max.   :24.18   Max.   :84.00   Max.   :86.67  \n",
       "                                                 NA's   :42     \n",
       "      PC1               cDIB       temperature_C_avg_scale.V1\n",
       " Min.   :-1.7397   Min.   : 0.00   Min.   :-2.1505151        \n",
       " 1st Qu.:-0.6194   1st Qu.:12.00   1st Qu.:-0.6829345        \n",
       " Median : 0.3173   Median :22.00   Median : 0.0508558        \n",
       " Mean   : 0.1554   Mean   :22.59   Mean   : 0.0000000        \n",
       " 3rd Qu.: 0.8750   3rd Qu.:33.00   3rd Qu.: 0.5749917        \n",
       " Max.   : 2.9867   Max.   :43.00   Max.   : 2.6715354        \n",
       "                                                             \n",
       "      time.V1           time2             time3           avgDIB_scale.V1   \n",
       " Min.   :0.000000   Min.   : 0.0000   Min.   : 0.0000   Min.   :-1.0681873  \n",
       " 1st Qu.:0.973855   1st Qu.: 0.9484   1st Qu.: 0.9236   1st Qu.:-1.0681873  \n",
       " Median :1.785401   Median : 3.1877   Median : 5.6913   Median :-0.3677554  \n",
       " Mean   :1.833566   Mean   : 4.3617   Mean   :11.6090   Mean   : 0.0000000  \n",
       " 3rd Qu.:2.678102   3rd Qu.: 7.1722   3rd Qu.:19.2080   3rd Qu.: 0.6324925  \n",
       " Max.   :3.489648   Max.   :12.1776   Max.   :42.4957   Max.   : 2.4750543  \n",
       "                                                                            \n",
       " InitialWeight_scale.V1      WIB            henID_WOA   \n",
       " Min.   :-1.9742093     Min.   :2.000   4_hen_10 :   7  \n",
       " 1st Qu.:-0.6252286     1st Qu.:4.000   4_hen_102:   7  \n",
       " Median :-0.0792126     Median :5.000   4_hen_112:   7  \n",
       " Mean   : 0.0000000     Mean   :5.222   4_hen_116:   7  \n",
       " 3rd Qu.: 0.4989220     3rd Qu.:7.000   4_hen_118:   7  \n",
       " Max.   : 2.9078162     Max.   :8.000   4_hen_124:   7  \n",
       "                                        (Other)  :3188  "
      ]
     },
     "metadata": {},
     "output_type": "display_data"
    },
    {
     "data": {
      "text/html": [
       "<table class=\"dataframe\">\n",
       "<caption>A data.frame: 3 × 35</caption>\n",
       "<thead>\n",
       "\t<tr><th></th><th scope=col>HenID</th><th scope=col>DIB</th><th scope=col>CLASS</th><th scope=col>PenID</th><th scope=col>temperature_C_avg</th><th scope=col>tobeusedPCA</th><th scope=col>InitialWeight</th><th scope=col>Treatment</th><th scope=col>perc_duration_5_Zone</th><th scope=col>perc_duration_4_Zone</th><th scope=col>...</th><th scope=col>PC1</th><th scope=col>cDIB</th><th scope=col>temperature_C_avg_scale</th><th scope=col>time</th><th scope=col>time2</th><th scope=col>time3</th><th scope=col>avgDIB_scale</th><th scope=col>InitialWeight_scale</th><th scope=col>WIB</th><th scope=col>henID_WOA</th></tr>\n",
       "\t<tr><th></th><th scope=col>&lt;fct&gt;</th><th scope=col>&lt;int&gt;</th><th scope=col>&lt;fct&gt;</th><th scope=col>&lt;fct&gt;</th><th scope=col>&lt;dbl&gt;</th><th scope=col>&lt;int&gt;</th><th scope=col>&lt;int&gt;</th><th scope=col>&lt;fct&gt;</th><th scope=col>&lt;int&gt;</th><th scope=col>&lt;int&gt;</th><th scope=col>...</th><th scope=col>&lt;dbl&gt;</th><th scope=col>&lt;int&gt;</th><th scope=col>&lt;dbl[,1]&gt;</th><th scope=col>&lt;dbl[,1]&gt;</th><th scope=col>&lt;dbl&gt;</th><th scope=col>&lt;dbl&gt;</th><th scope=col>&lt;dbl[,1]&gt;</th><th scope=col>&lt;dbl[,1]&gt;</th><th scope=col>&lt;dbl&gt;</th><th scope=col>&lt;fct&gt;</th></tr>\n",
       "</thead>\n",
       "<tbody>\n",
       "\t<tr><th scope=row>1</th><td>hen_134</td><td>11</td><td>MEXP</td><td>pen10</td><td>11.50000</td><td>1</td><td>1112</td><td>TRAN</td><td>100</td><td>0</td><td>...</td><td>-1.738433</td><td>0</td><td> 0.2080966</td><td>0.0000000</td><td>0.000000000</td><td>0.0000000000</td><td>-0.3677554</td><td>-0.9142959</td><td>2</td><td>2_hen_134</td></tr>\n",
       "\t<tr><th scope=row>2</th><td>hen_134</td><td>12</td><td>MEXP</td><td>pen10</td><td>10.16667</td><td>0</td><td>1112</td><td>TRAN</td><td> 86</td><td>0</td><td>...</td><td>-1.455477</td><td>1</td><td>-0.2112122</td><td>0.0811546</td><td>0.006586069</td><td>0.0005344898</td><td>-0.3677554</td><td>-0.9142959</td><td>2</td><td>2_hen_134</td></tr>\n",
       "\t<tr><th scope=row>3</th><td>hen_134</td><td>13</td><td>MEXP</td><td>pen10</td><td> 9.00000</td><td>0</td><td>1112</td><td>TRAN</td><td>100</td><td>0</td><td>...</td><td>-1.738433</td><td>2</td><td>-0.5781073</td><td>0.1623092</td><td>0.026344277</td><td>0.0042759186</td><td>-0.3677554</td><td>-0.9142959</td><td>2</td><td>2_hen_134</td></tr>\n",
       "</tbody>\n",
       "</table>\n"
      ],
      "text/latex": [
       "A data.frame: 3 × 35\n",
       "\\begin{tabular}{r|lllllllllllllllllllll}\n",
       "  & HenID & DIB & CLASS & PenID & temperature\\_C\\_avg & tobeusedPCA & InitialWeight & Treatment & perc\\_duration\\_5\\_Zone & perc\\_duration\\_4\\_Zone & ... & PC1 & cDIB & temperature\\_C\\_avg\\_scale & time & time2 & time3 & avgDIB\\_scale & InitialWeight\\_scale & WIB & henID\\_WOA\\\\\n",
       "  & <fct> & <int> & <fct> & <fct> & <dbl> & <int> & <int> & <fct> & <int> & <int> & ... & <dbl> & <int> & <dbl{[},1{]}> & <dbl{[},1{]}> & <dbl> & <dbl> & <dbl{[},1{]}> & <dbl{[},1{]}> & <dbl> & <fct>\\\\\n",
       "\\hline\n",
       "\t1 & hen\\_134 & 11 & MEXP & pen10 & 11.50000 & 1 & 1112 & TRAN & 100 & 0 & ... & -1.738433 & 0 &  0.2080966 & 0.0000000 & 0.000000000 & 0.0000000000 & -0.3677554 & -0.9142959 & 2 & 2\\_hen\\_134\\\\\n",
       "\t2 & hen\\_134 & 12 & MEXP & pen10 & 10.16667 & 0 & 1112 & TRAN &  86 & 0 & ... & -1.455477 & 1 & -0.2112122 & 0.0811546 & 0.006586069 & 0.0005344898 & -0.3677554 & -0.9142959 & 2 & 2\\_hen\\_134\\\\\n",
       "\t3 & hen\\_134 & 13 & MEXP & pen10 &  9.00000 & 0 & 1112 & TRAN & 100 & 0 & ... & -1.738433 & 2 & -0.5781073 & 0.1623092 & 0.026344277 & 0.0042759186 & -0.3677554 & -0.9142959 & 2 & 2\\_hen\\_134\\\\\n",
       "\\end{tabular}\n"
      ],
      "text/markdown": [
       "\n",
       "A data.frame: 3 × 35\n",
       "\n",
       "| <!--/--> | HenID &lt;fct&gt; | DIB &lt;int&gt; | CLASS &lt;fct&gt; | PenID &lt;fct&gt; | temperature_C_avg &lt;dbl&gt; | tobeusedPCA &lt;int&gt; | InitialWeight &lt;int&gt; | Treatment &lt;fct&gt; | perc_duration_5_Zone &lt;int&gt; | perc_duration_4_Zone &lt;int&gt; | ... ... | PC1 &lt;dbl&gt; | cDIB &lt;int&gt; | temperature_C_avg_scale &lt;dbl[,1]&gt; | time &lt;dbl[,1]&gt; | time2 &lt;dbl&gt; | time3 &lt;dbl&gt; | avgDIB_scale &lt;dbl[,1]&gt; | InitialWeight_scale &lt;dbl[,1]&gt; | WIB &lt;dbl&gt; | henID_WOA &lt;fct&gt; |\n",
       "|---|---|---|---|---|---|---|---|---|---|---|---|---|---|---|---|---|---|---|---|---|---|\n",
       "| 1 | hen_134 | 11 | MEXP | pen10 | 11.50000 | 1 | 1112 | TRAN | 100 | 0 | ... | -1.738433 | 0 |  0.2080966 | 0.0000000 | 0.000000000 | 0.0000000000 | -0.3677554 | -0.9142959 | 2 | 2_hen_134 |\n",
       "| 2 | hen_134 | 12 | MEXP | pen10 | 10.16667 | 0 | 1112 | TRAN |  86 | 0 | ... | -1.455477 | 1 | -0.2112122 | 0.0811546 | 0.006586069 | 0.0005344898 | -0.3677554 | -0.9142959 | 2 | 2_hen_134 |\n",
       "| 3 | hen_134 | 13 | MEXP | pen10 |  9.00000 | 0 | 1112 | TRAN | 100 | 0 | ... | -1.738433 | 2 | -0.5781073 | 0.1623092 | 0.026344277 | 0.0042759186 | -0.3677554 | -0.9142959 | 2 | 2_hen_134 |\n",
       "\n"
      ],
      "text/plain": [
       "  HenID   DIB CLASS PenID temperature_C_avg tobeusedPCA InitialWeight Treatment\n",
       "1 hen_134 11  MEXP  pen10 11.50000          1           1112          TRAN     \n",
       "2 hen_134 12  MEXP  pen10 10.16667          0           1112          TRAN     \n",
       "3 hen_134 13  MEXP  pen10  9.00000          0           1112          TRAN     \n",
       "  perc_duration_5_Zone perc_duration_4_Zone ... PC1       cDIB\n",
       "1 100                  0                    ... -1.738433 0   \n",
       "2  86                  0                    ... -1.455477 1   \n",
       "3 100                  0                    ... -1.738433 2   \n",
       "  temperature_C_avg_scale time      time2       time3        avgDIB_scale\n",
       "1  0.2080966              0.0000000 0.000000000 0.0000000000 -0.3677554  \n",
       "2 -0.2112122              0.0811546 0.006586069 0.0005344898 -0.3677554  \n",
       "3 -0.5781073              0.1623092 0.026344277 0.0042759186 -0.3677554  \n",
       "  InitialWeight_scale WIB henID_WOA\n",
       "1 -0.9142959          2   2_hen_134\n",
       "2 -0.9142959          2   2_hen_134\n",
       "3 -0.9142959          2   2_hen_134"
      ]
     },
     "metadata": {},
     "output_type": "display_data"
    }
   ],
   "source": [
    "path_ = 'G:/VPHI/Welfare/2- Research Projects/OFHE2.OriginsE2/DataOutput/TrackingSystem/ALLDATA_'\n",
    "path_adapt = file.path(path_,'Adaptability')\n",
    "df = read.csv(file.path(path_adapt,'df_MVT_4individuality_withPCA.csv'), header = TRUE, sep = \",\")\n",
    "df$HenID = as.factor(df$HenID)   \n",
    "df$PenID = as.factor(df$PenID) \n",
    "df$cDIB = as.integer(df$DIB_startat11)\n",
    "df$CLASS = as.factor(df$CLASS) \n",
    "df$Treatment = as.factor(df$Treatment)\n",
    "#scale: mean-centering of the environmental variable so that intercepts reflect average values for the population and ind. \n",
    "df$temperature_C_avg_scale = scale(df$temperature_C_avg, center=TRUE, scale=TRUE)\n",
    "df$time = scale(df$cDIB, center=FALSE, scale=sd(df$cDIB, na.rm = TRUE)) #as not centering, we need to add this\n",
    "df$time2 = poly(df$time, degree=2,raw=TRUE)[,2]\n",
    "df$time3 = poly(df$time, degree=3,raw=TRUE)[,3]\n",
    "df$avgDIB_scale = scale(df$avgDIB, center=TRUE, scale=TRUE)\n",
    "df$InitialWeight_scale = scale(df$InitialWeight, center=TRUE, scale=TRUE)\n",
    "\n",
    "df$WIB = ceiling(df$DIB/7)\n",
    "#df[c('WIB','DIB')]\n",
    "df$henID_WOA = str_c(as.character(df$WIB),'_', df$HenID)\n",
    "#unique(df$henID_WOA)\n",
    "df$henID_WOA = as.factor(df$henID_WOA)\n",
    "\n",
    "#setting reference group\n",
    "contrasts(df$Treatment)\n",
    "df <- df %>% mutate(Treatment = relevel(Treatment, ref = \"TRAN\"))\n",
    "contrasts(df$Treatment)\n",
    "\n",
    "contrasts(df$CLASS)\n",
    "df <- df %>% mutate(CLASS = relevel(CLASS, ref = \"LEXP\"))\n",
    "contrasts(df$CLASS)\n",
    "\n",
    "print(dim(df))\n",
    "summary(df)\n",
    "head(df,3)"
   ]
  },
  {
   "cell_type": "code",
   "execution_count": 6,
   "metadata": {},
   "outputs": [
    {
     "data": {
      "text/html": [
       "1"
      ],
      "text/latex": [
       "1"
      ],
      "text/markdown": [
       "1"
      ],
      "text/plain": [
       "[1] 1"
      ]
     },
     "metadata": {},
     "output_type": "display_data"
    }
   ],
   "source": [
    "sd(df$avgDIB_scale)"
   ]
  },
  {
   "cell_type": "code",
   "execution_count": 7,
   "metadata": {},
   "outputs": [
    {
     "data": {
      "text/html": [
       "1"
      ],
      "text/latex": [
       "1"
      ],
      "text/markdown": [
       "1"
      ],
      "text/plain": [
       "[1] 1"
      ]
     },
     "metadata": {},
     "output_type": "display_data"
    }
   ],
   "source": [
    "sd(df$time)"
   ]
  },
  {
   "cell_type": "code",
   "execution_count": 8,
   "metadata": {},
   "outputs": [
    {
     "data": {
      "text/html": [
       "3.72915250475031"
      ],
      "text/latex": [
       "3.72915250475031"
      ],
      "text/markdown": [
       "3.72915250475031"
      ],
      "text/plain": [
       "[1] 3.729153"
      ]
     },
     "metadata": {},
     "output_type": "display_data"
    }
   ],
   "source": [
    "sd(df$time2)"
   ]
  },
  {
   "cell_type": "code",
   "execution_count": 9,
   "metadata": {},
   "outputs": [
    {
     "data": {
      "text/html": [
       "0.974700318191337"
      ],
      "text/latex": [
       "0.974700318191337"
      ],
      "text/markdown": [
       "0.974700318191337"
      ],
      "text/plain": [
       "[1] 0.9747003"
      ]
     },
     "metadata": {},
     "output_type": "display_data"
    }
   ],
   "source": [
    "sd(df$PC1)"
   ]
  },
  {
   "cell_type": "code",
   "execution_count": 10,
   "metadata": {},
   "outputs": [
    {
     "data": {
      "text/html": [
       "80"
      ],
      "text/latex": [
       "80"
      ],
      "text/markdown": [
       "80"
      ],
      "text/plain": [
       "[1] 80"
      ]
     },
     "metadata": {},
     "output_type": "display_data"
    }
   ],
   "source": [
    "length(unique(df[['HenID']]))"
   ]
  },
  {
   "cell_type": "markdown",
   "metadata": {},
   "source": [
    "# Random Intercept"
   ]
  },
  {
   "cell_type": "code",
   "execution_count": 11,
   "metadata": {},
   "outputs": [
    {
     "data": {
      "text/plain": [
       "Linear mixed model fit by maximum likelihood . t-tests use Satterthwaite's\n",
       "  method [lmerModLmerTest]\n",
       "Formula: \n",
       "PC1 ~ time + time2 + avgDIB_scale + Treatment + CLASS + temperature_C_avg_scale +  \n",
       "    InitialWeight_scale + (1 | PenID/HenID)\n",
       "   Data: df\n",
       "\n",
       "     AIC      BIC   logLik deviance df.resid \n",
       "  6942.2   7015.2  -3459.1   6918.2     3218 \n",
       "\n",
       "Scaled residuals: \n",
       "    Min      1Q  Median      3Q     Max \n",
       "-3.0852 -0.5944  0.0099  0.6232  3.9027 \n",
       "\n",
       "Random effects:\n",
       " Groups      Name        Variance Std.Dev.\n",
       " HenID:PenID (Intercept) 0.343942 0.58647 \n",
       " PenID       (Intercept) 0.006704 0.08188 \n",
       " Residual                0.457636 0.67649 \n",
       "Number of obs: 3230, groups:  HenID:PenID, 80; PenID, 8\n",
       "\n",
       "Fixed effects:\n",
       "                          Estimate Std. Error         df t value Pr(>|t|)    \n",
       "(Intercept)               -0.75936    0.15368   34.90867  -4.941 1.93e-05 ***\n",
       "time                       1.06415    0.05194 3150.30803  20.487  < 2e-16 ***\n",
       "time2                     -0.23692    0.01444 3150.34043 -16.405  < 2e-16 ***\n",
       "avgDIB_scale               0.05770    0.07264    9.58445   0.794   0.4462    \n",
       "TreatmentOFH              -0.31066    0.14790    9.00451  -2.100   0.0651 .  \n",
       "CLASSMEXP                  0.27996    0.15981   74.07642   1.752   0.0839 .  \n",
       "CLASSREXP                  0.09983    0.17691   76.10168   0.564   0.5742    \n",
       "temperature_C_avg_scale   -0.02709    0.01390 3150.24213  -1.948   0.0514 .  \n",
       "InitialWeight_scale       -0.06906    0.06863   75.97998  -1.006   0.3174    \n",
       "---\n",
       "Signif. codes:  0 '***' 0.001 '**' 0.01 '*' 0.05 '.' 0.1 ' ' 1\n",
       "\n",
       "Correlation of Fixed Effects:\n",
       "            (Intr) time   time2  avDIB_ TrtOFH CLASSM CLASSR tm_C__\n",
       "time        -0.223                                                 \n",
       "time2        0.193 -0.971                                          \n",
       "avgDIB_scal  0.027 -0.008  0.006                                   \n",
       "TreatmntOFH -0.523  0.002 -0.003 -0.056                            \n",
       "CLASSMEXP   -0.633  0.000  0.000 -0.017  0.046                     \n",
       "CLASSREXP   -0.570  0.000  0.000 -0.046  0.040  0.531              \n",
       "tmprtr_C_v_  0.050 -0.377  0.450 -0.001 -0.003  0.000  0.000       \n",
       "IntlWght_sc  0.135  0.001 -0.001  0.109 -0.167 -0.090 -0.052  0.000"
      ]
     },
     "metadata": {},
     "output_type": "display_data"
    },
    {
     "name": "stderr",
     "output_type": "stream",
     "text": [
      "Warning message:\n",
      "\"'r.squaredGLMM' now calculates a revised statistic. See the help page.\"\n"
     ]
    },
    {
     "data": {
      "text/html": [
       "<table class=\"dataframe\">\n",
       "<caption>A matrix: 1 × 2 of type dbl</caption>\n",
       "<thead>\n",
       "\t<tr><th scope=col>R2m</th><th scope=col>R2c</th></tr>\n",
       "</thead>\n",
       "<tbody>\n",
       "\t<tr><td>0.1510067</td><td>0.5193136</td></tr>\n",
       "</tbody>\n",
       "</table>\n"
      ],
      "text/latex": [
       "A matrix: 1 × 2 of type dbl\n",
       "\\begin{tabular}{ll}\n",
       " R2m & R2c\\\\\n",
       "\\hline\n",
       "\t 0.1510067 & 0.5193136\\\\\n",
       "\\end{tabular}\n"
      ],
      "text/markdown": [
       "\n",
       "A matrix: 1 × 2 of type dbl\n",
       "\n",
       "| R2m | R2c |\n",
       "|---|---|\n",
       "| 0.1510067 | 0.5193136 |\n",
       "\n"
      ],
      "text/plain": [
       "     R2m       R2c      \n",
       "[1,] 0.1510067 0.5193136"
      ]
     },
     "metadata": {},
     "output_type": "display_data"
    },
    {
     "data": {
      "image/png": "[encoded data removed]",
      "text/plain": [
       "Plot with title \"Normal Q-Q Plot\""
      ]
     },
     "metadata": {
      "image/png": {
       "height": 420,
       "width": 420
      }
     },
     "output_type": "display_data"
    },
    {
     "data": {
      "image/png": "[encoded data removed]",
      "text/plain": [
       "Plot with title \"Histogram of resid(MAVG_pen_class)\""
      ]
     },
     "metadata": {
      "image/png": {
       "height": 420,
       "width": 420
      }
     },
     "output_type": "display_data"
    },
    {
     "data": {
      "image/png": "[encoded data removed]",
      "text/plain": [
       "plot without title"
      ]
     },
     "metadata": {
      "image/png": {
       "height": 420,
       "width": 420
      }
     },
     "output_type": "display_data"
    }
   ],
   "source": [
    "MAVG_pen_class = lmerTest::lmer(PC1 ~ time + time2 + avgDIB_scale + Treatment + CLASS + temperature_C_avg_scale + InitialWeight_scale + (1|PenID/HenID), REML=FALSE, data = df)\n",
    "summary(MAVG_pen_class)\n",
    "r.squaredGLMM(MAVG_pen_class)\n",
    "###### normally distributed residuals\n",
    "qqnorm(resid(MAVG_pen_class))\n",
    "qqline(resid(MAVG_pen_class))\n",
    "hist(resid(MAVG_pen_class))\n",
    "######check homogeneity of variance (residuals has constant variance)\n",
    "plot(MAVG_pen_class)"
   ]
  },
  {
   "cell_type": "code",
   "execution_count": 13,
   "metadata": {},
   "outputs": [
    {
     "data": {
      "text/plain": [
       "Linear mixed model fit by maximum likelihood . t-tests use Satterthwaite's\n",
       "  method [lmerModLmerTest]\n",
       "Formula: \n",
       "PC1 ~ time + time2 + avgDIB_scale + Treatment + temperature_C_avg_scale +  \n",
       "    InitialWeight_scale + (1 | PenID/HenID)\n",
       "   Data: df\n",
       "\n",
       "     AIC      BIC   logLik deviance df.resid \n",
       "  6941.4   7002.2  -3460.7   6921.4     3220 \n",
       "\n",
       "Scaled residuals: \n",
       "    Min      1Q  Median      3Q     Max \n",
       "-3.0862 -0.5986  0.0097  0.6252  3.8943 \n",
       "\n",
       "Random effects:\n",
       " Groups      Name        Variance Std.Dev.\n",
       " HenID:PenID (Intercept) 0.361906 0.60159 \n",
       " PenID       (Intercept) 0.002797 0.05289 \n",
       " Residual                0.457637 0.67649 \n",
       "Number of obs: 3230, groups:  HenID:PenID, 80; PenID, 8\n",
       "\n",
       "Fixed effects:\n",
       "                          Estimate Std. Error         df t value Pr(>|t|)    \n",
       "(Intercept)               -0.60729    0.10877   12.25039  -5.583 0.000111 ***\n",
       "time                       1.06420    0.05194 3150.30994  20.488  < 2e-16 ***\n",
       "time2                     -0.23694    0.01444 3150.34429 -16.406  < 2e-16 ***\n",
       "avgDIB_scale               0.05686    0.07088   10.20354   0.802 0.440767    \n",
       "TreatmentOFH              -0.31898    0.14407    9.53228  -2.214 0.052473 .  \n",
       "temperature_C_avg_scale   -0.02710    0.01390 3150.24073  -1.949 0.051346 .  \n",
       "InitialWeight_scale       -0.05729    0.06996   76.37617  -0.819 0.415365    \n",
       "---\n",
       "Signif. codes:  0 '***' 0.001 '**' 0.01 '*' 0.05 '.' 0.1 ' ' 1\n",
       "\n",
       "Correlation of Fixed Effects:\n",
       "            (Intr) time   time2  avDIB_ TrtOFH tm_C__\n",
       "time        -0.315                                   \n",
       "time2        0.273 -0.971                            \n",
       "avgDIB_scal  0.006 -0.008  0.006                     \n",
       "TreatmntOFH -0.676  0.002 -0.003 -0.053              \n",
       "tmprtr_C_v_  0.071 -0.377  0.450 -0.001 -0.003       \n",
       "IntlWght_sc  0.112  0.001 -0.001  0.110 -0.173  0.000"
      ]
     },
     "metadata": {},
     "output_type": "display_data"
    },
    {
     "data": {
      "text/html": [
       "<table class=\"dataframe\">\n",
       "<caption>A matrix: 1 × 2 of type dbl</caption>\n",
       "<thead>\n",
       "\t<tr><th scope=col>R2m</th><th scope=col>R2c</th></tr>\n",
       "</thead>\n",
       "<tbody>\n",
       "\t<tr><td>0.1352048</td><td>0.5187367</td></tr>\n",
       "</tbody>\n",
       "</table>\n"
      ],
      "text/latex": [
       "A matrix: 1 × 2 of type dbl\n",
       "\\begin{tabular}{ll}\n",
       " R2m & R2c\\\\\n",
       "\\hline\n",
       "\t 0.1352048 & 0.5187367\\\\\n",
       "\\end{tabular}\n"
      ],
      "text/markdown": [
       "\n",
       "A matrix: 1 × 2 of type dbl\n",
       "\n",
       "| R2m | R2c |\n",
       "|---|---|\n",
       "| 0.1352048 | 0.5187367 |\n",
       "\n"
      ],
      "text/plain": [
       "     R2m       R2c      \n",
       "[1,] 0.1352048 0.5187367"
      ]
     },
     "metadata": {},
     "output_type": "display_data"
    },
    {
     "data": {
      "image/png": "[encoded data removed]",
      "text/plain": [
       "Plot with title \"Normal Q-Q Plot\""
      ]
     },
     "metadata": {
      "image/png": {
       "height": 420,
       "width": 420
      }
     },
     "output_type": "display_data"
    },
    {
     "data": {
      "image/png": "[encoded data removed]",
      "text/plain": [
       "Plot with title \"Histogram of resid(MAVG_pen_noclass)\""
      ]
     },
     "metadata": {
      "image/png": {
       "height": 420,
       "width": 420
      }
     },
     "output_type": "display_data"
    },
    {
     "data": {
      "image/png": "[encoded data removed]",
      "text/plain": [
       "plot without title"
      ]
     },
     "metadata": {
      "image/png": {
       "height": 420,
       "width": 420
      }
     },
     "output_type": "display_data"
    }
   ],
   "source": [
    "MAVG_pen_noclass = lmerTest::lmer(PC1 ~ time + time2 + avgDIB_scale + Treatment + temperature_C_avg_scale + InitialWeight_scale + (1|PenID/HenID), REML=FALSE, data = df)\n",
    "summary(MAVG_pen_noclass)\n",
    "r.squaredGLMM(MAVG_pen_noclass)\n",
    "###### normally distributed residuals\n",
    "qqnorm(resid(MAVG_pen_noclass))\n",
    "qqline(resid(MAVG_pen_noclass))\n",
    "hist(resid(MAVG_pen_noclass))\n",
    "######check homogeneity of variance (residuals has constant variance)\n",
    "plot(MAVG_pen_noclass)"
   ]
  },
  {
   "cell_type": "code",
   "execution_count": 34,
   "metadata": {},
   "outputs": [
    {
     "data": {
      "text/html": [
       "0.340126954787557"
      ],
      "text/latex": [
       "0.340126954787557"
      ],
      "text/markdown": [
       "0.340126954787557"
      ],
      "text/plain": [
       "[1] 0.340127"
      ]
     },
     "metadata": {},
     "output_type": "display_data"
    }
   ],
   "source": [
    "0.002797 /(0.002797 +0.361906  +0.457637  ) *100"
   ]
  },
  {
   "cell_type": "code",
   "execution_count": 15,
   "metadata": {},
   "outputs": [
    {
     "data": {
      "text/html": [
       "<table class=\"dataframe\">\n",
       "<caption>A anova: 2 × 8</caption>\n",
       "<thead>\n",
       "\t<tr><th></th><th scope=col>npar</th><th scope=col>AIC</th><th scope=col>BIC</th><th scope=col>logLik</th><th scope=col>deviance</th><th scope=col>Chisq</th><th scope=col>Df</th><th scope=col>Pr(&gt;Chisq)</th></tr>\n",
       "\t<tr><th></th><th scope=col>&lt;dbl&gt;</th><th scope=col>&lt;dbl&gt;</th><th scope=col>&lt;dbl&gt;</th><th scope=col>&lt;dbl&gt;</th><th scope=col>&lt;dbl&gt;</th><th scope=col>&lt;dbl&gt;</th><th scope=col>&lt;dbl&gt;</th><th scope=col>&lt;dbl&gt;</th></tr>\n",
       "</thead>\n",
       "<tbody>\n",
       "\t<tr><th scope=row>MAVG_pen_noclass</th><td>10</td><td>6941.384</td><td>7002.186</td><td>-3460.692</td><td>6921.384</td><td>      NA</td><td>NA</td><td>       NA</td></tr>\n",
       "\t<tr><th scope=row>MAVG_pen_class</th><td>12</td><td>6942.234</td><td>7015.197</td><td>-3459.117</td><td>6918.234</td><td>3.150075</td><td> 2</td><td>0.2069998</td></tr>\n",
       "</tbody>\n",
       "</table>\n"
      ],
      "text/latex": [
       "A anova: 2 × 8\n",
       "\\begin{tabular}{r|llllllll}\n",
       "  & npar & AIC & BIC & logLik & deviance & Chisq & Df & Pr(>Chisq)\\\\\n",
       "  & <dbl> & <dbl> & <dbl> & <dbl> & <dbl> & <dbl> & <dbl> & <dbl>\\\\\n",
       "\\hline\n",
       "\tMAVG\\_pen\\_noclass & 10 & 6941.384 & 7002.186 & -3460.692 & 6921.384 &       NA & NA &        NA\\\\\n",
       "\tMAVG\\_pen\\_class & 12 & 6942.234 & 7015.197 & -3459.117 & 6918.234 & 3.150075 &  2 & 0.2069998\\\\\n",
       "\\end{tabular}\n"
      ],
      "text/markdown": [
       "\n",
       "A anova: 2 × 8\n",
       "\n",
       "| <!--/--> | npar &lt;dbl&gt; | AIC &lt;dbl&gt; | BIC &lt;dbl&gt; | logLik &lt;dbl&gt; | deviance &lt;dbl&gt; | Chisq &lt;dbl&gt; | Df &lt;dbl&gt; | Pr(&gt;Chisq) &lt;dbl&gt; |\n",
       "|---|---|---|---|---|---|---|---|---|\n",
       "| MAVG_pen_noclass | 10 | 6941.384 | 7002.186 | -3460.692 | 6921.384 |       NA | NA |        NA |\n",
       "| MAVG_pen_class | 12 | 6942.234 | 7015.197 | -3459.117 | 6918.234 | 3.150075 |  2 | 0.2069998 |\n",
       "\n"
      ],
      "text/plain": [
       "                 npar AIC      BIC      logLik    deviance Chisq    Df\n",
       "MAVG_pen_noclass 10   6941.384 7002.186 -3460.692 6921.384       NA NA\n",
       "MAVG_pen_class   12   6942.234 7015.197 -3459.117 6918.234 3.150075  2\n",
       "                 Pr(>Chisq)\n",
       "MAVG_pen_noclass        NA \n",
       "MAVG_pen_class   0.2069998 "
      ]
     },
     "metadata": {},
     "output_type": "display_data"
    }
   ],
   "source": [
    "anova(MAVG_pen_class, MAVG_pen_noclass, Test='Chisq')"
   ]
  },
  {
   "cell_type": "code",
   "execution_count": 16,
   "metadata": {},
   "outputs": [
    {
     "data": {
      "text/plain": [
       "Linear mixed model fit by maximum likelihood . t-tests use Satterthwaite's\n",
       "  method [lmerModLmerTest]\n",
       "Formula: \n",
       "PC1 ~ time + time2 + avgDIB_scale + Treatment + CLASS + temperature_C_avg_scale +  \n",
       "    InitialWeight_scale + (1 | HenID)\n",
       "   Data: df\n",
       "\n",
       "     AIC      BIC   logLik deviance df.resid \n",
       "  6940.4   7007.2  -3459.2   6918.4     3219 \n",
       "\n",
       "Scaled residuals: \n",
       "    Min      1Q  Median      3Q     Max \n",
       "-3.0828 -0.5950  0.0099  0.6247  3.9010 \n",
       "\n",
       "Random effects:\n",
       " Groups   Name        Variance Std.Dev.\n",
       " HenID    (Intercept) 0.3507   0.5922  \n",
       " Residual             0.4576   0.6765  \n",
       "Number of obs: 3230, groups:  HenID, 80\n",
       "\n",
       "Fixed effects:\n",
       "                          Estimate Std. Error         df t value Pr(>|t|)    \n",
       "(Intercept)               -0.76147    0.14913   91.04982  -5.106 1.79e-06 ***\n",
       "time                       1.06420    0.05194 3150.36043  20.488  < 2e-16 ***\n",
       "time2                     -0.23694    0.01444 3150.39919 -16.406  < 2e-16 ***\n",
       "avgDIB_scale               0.05524    0.06752   80.07579   0.818   0.4157    \n",
       "TreatmentOFH              -0.30594    0.13711   80.02380  -2.231   0.0284 *  \n",
       "CLASSMEXP                  0.27822    0.16117   80.05015   1.726   0.0882 .  \n",
       "CLASSREXP                  0.11017    0.17812   80.06027   0.619   0.5380    \n",
       "temperature_C_avg_scale   -0.02710    0.01390 3150.28301  -1.949   0.0513 .  \n",
       "InitialWeight_scale       -0.06676    0.06910   80.03958  -0.966   0.3369    \n",
       "---\n",
       "Signif. codes:  0 '***' 0.001 '**' 0.01 '*' 0.05 '.' 0.1 ' ' 1\n",
       "\n",
       "Correlation of Fixed Effects:\n",
       "            (Intr) time   time2  avDIB_ TrtOFH CLASSM CLASSR tm_C__\n",
       "time        -0.229                                                 \n",
       "time2        0.199 -0.971                                          \n",
       "avgDIB_scal  0.027 -0.008  0.006                                   \n",
       "TreatmntOFH -0.507  0.003 -0.003 -0.053                            \n",
       "CLASSMEXP   -0.657  0.000  0.000 -0.014  0.051                     \n",
       "CLASSREXP   -0.591  0.000  0.000 -0.046  0.042  0.532              \n",
       "tmprtr_C_v_  0.051 -0.377  0.450 -0.001 -0.003  0.000  0.000       \n",
       "IntlWght_sc  0.141  0.001 -0.001  0.113 -0.184 -0.089 -0.053  0.000"
      ]
     },
     "metadata": {},
     "output_type": "display_data"
    },
    {
     "data": {
      "text/html": [
       "<table class=\"dataframe\">\n",
       "<caption>A matrix: 1 × 2 of type dbl</caption>\n",
       "<thead>\n",
       "\t<tr><th scope=col>R2m</th><th scope=col>R2c</th></tr>\n",
       "</thead>\n",
       "<tbody>\n",
       "\t<tr><td>0.1492194</td><td>0.5183358</td></tr>\n",
       "</tbody>\n",
       "</table>\n"
      ],
      "text/latex": [
       "A matrix: 1 × 2 of type dbl\n",
       "\\begin{tabular}{ll}\n",
       " R2m & R2c\\\\\n",
       "\\hline\n",
       "\t 0.1492194 & 0.5183358\\\\\n",
       "\\end{tabular}\n"
      ],
      "text/markdown": [
       "\n",
       "A matrix: 1 × 2 of type dbl\n",
       "\n",
       "| R2m | R2c |\n",
       "|---|---|\n",
       "| 0.1492194 | 0.5183358 |\n",
       "\n"
      ],
      "text/plain": [
       "     R2m       R2c      \n",
       "[1,] 0.1492194 0.5183358"
      ]
     },
     "metadata": {},
     "output_type": "display_data"
    },
    {
     "data": {
      "image/png": "[encoded data removed]",
      "text/plain": [
       "Plot with title \"Normal Q-Q Plot\""
      ]
     },
     "metadata": {
      "image/png": {
       "height": 420,
       "width": 420
      }
     },
     "output_type": "display_data"
    },
    {
     "data": {
      "image/png": "[encoded data removed]",
      "text/plain": [
       "Plot with title \"Histogram of resid(MAVG_nopen_class)\""
      ]
     },
     "metadata": {
      "image/png": {
       "height": 420,
       "width": 420
      }
     },
     "output_type": "display_data"
    },
    {
     "data": {
      "image/png": "[encoded data removed]",
      "text/plain": [
       "plot without title"
      ]
     },
     "metadata": {
      "image/png": {
       "height": 420,
       "width": 420
      }
     },
     "output_type": "display_data"
    }
   ],
   "source": [
    "MAVG_nopen_class = lmerTest::lmer(PC1 ~ time + time2 + avgDIB_scale + Treatment + CLASS + temperature_C_avg_scale + InitialWeight_scale + (1|HenID), REML=FALSE, data = df)\n",
    "summary(MAVG_nopen_class)\n",
    "r.squaredGLMM(MAVG_nopen_class)\n",
    "###### normally distributed residuals\n",
    "qqnorm(resid(MAVG_nopen_class))\n",
    "qqline(resid(MAVG_nopen_class))\n",
    "hist(resid(MAVG_nopen_class))\n",
    "######check homogeneity of variance (residuals has constant variance)\n",
    "plot(MAVG_nopen_class)"
   ]
  },
  {
   "cell_type": "code",
   "execution_count": 17,
   "metadata": {
    "scrolled": true
   },
   "outputs": [
    {
     "data": {
      "text/plain": [
       "Linear mixed model fit by maximum likelihood . t-tests use Satterthwaite's\n",
       "  method [lmerModLmerTest]\n",
       "Formula: \n",
       "PC1 ~ time + time2 + avgDIB_scale + Treatment + temperature_C_avg_scale +  \n",
       "    InitialWeight_scale + (1 | HenID)\n",
       "   Data: df\n",
       "\n",
       "     AIC      BIC   logLik deviance df.resid \n",
       "  6939.4   6994.1  -3460.7   6921.4     3221 \n",
       "\n",
       "Scaled residuals: \n",
       "    Min      1Q  Median      3Q     Max \n",
       "-3.0850 -0.5990  0.0092  0.6250  3.8937 \n",
       "\n",
       "Random effects:\n",
       " Groups   Name        Variance Std.Dev.\n",
       " HenID    (Intercept) 0.3647   0.6039  \n",
       " Residual             0.4576   0.6765  \n",
       "Number of obs: 3230, groups:  HenID, 80\n",
       "\n",
       "Fixed effects:\n",
       "                          Estimate Std. Error         df t value Pr(>|t|)    \n",
       "(Intercept)               -0.60731    0.10575  104.23784  -5.743 9.27e-08 ***\n",
       "time                       1.06422    0.05194 3150.33361  20.489  < 2e-16 ***\n",
       "time2                     -0.23694    0.01444 3150.37103 -16.406  < 2e-16 ***\n",
       "avgDIB_scale               0.05577    0.06874   80.05755   0.811   0.4196    \n",
       "TreatmentOFH              -0.31705    0.13953   80.00792  -2.272   0.0258 *  \n",
       "temperature_C_avg_scale   -0.02711    0.01390 3150.25893  -1.950   0.0513 .  \n",
       "InitialWeight_scale       -0.05638    0.07015   80.01039  -0.804   0.4240    \n",
       "---\n",
       "Signif. codes:  0 '***' 0.001 '**' 0.01 '*' 0.05 '.' 0.1 ' ' 1\n",
       "\n",
       "Correlation of Fixed Effects:\n",
       "            (Intr) time   time2  avDIB_ TrtOFH tm_C__\n",
       "time        -0.324                                   \n",
       "time2        0.280 -0.971                            \n",
       "avgDIB_scal  0.007 -0.008  0.006                     \n",
       "TreatmntOFH -0.674  0.003 -0.003 -0.052              \n",
       "tmprtr_C_v_  0.073 -0.377  0.450 -0.001 -0.003       \n",
       "IntlWght_sc  0.116  0.001 -0.001  0.112 -0.180  0.000"
      ]
     },
     "metadata": {},
     "output_type": "display_data"
    },
    {
     "data": {
      "text/html": [
       "<table class=\"dataframe\">\n",
       "<caption>A matrix: 1 × 2 of type dbl</caption>\n",
       "<thead>\n",
       "\t<tr><th scope=col>R2m</th><th scope=col>R2c</th></tr>\n",
       "</thead>\n",
       "<tbody>\n",
       "\t<tr><td>0.1345959</td><td>0.5184085</td></tr>\n",
       "</tbody>\n",
       "</table>\n"
      ],
      "text/latex": [
       "A matrix: 1 × 2 of type dbl\n",
       "\\begin{tabular}{ll}\n",
       " R2m & R2c\\\\\n",
       "\\hline\n",
       "\t 0.1345959 & 0.5184085\\\\\n",
       "\\end{tabular}\n"
      ],
      "text/markdown": [
       "\n",
       "A matrix: 1 × 2 of type dbl\n",
       "\n",
       "| R2m | R2c |\n",
       "|---|---|\n",
       "| 0.1345959 | 0.5184085 |\n",
       "\n"
      ],
      "text/plain": [
       "     R2m       R2c      \n",
       "[1,] 0.1345959 0.5184085"
      ]
     },
     "metadata": {},
     "output_type": "display_data"
    },
    {
     "data": {
      "image/png": "[encoded data removed]",
      "text/plain": [
       "Plot with title \"Normal Q-Q Plot\""
      ]
     },
     "metadata": {
      "image/png": {
       "height": 420,
       "width": 420
      }
     },
     "output_type": "display_data"
    },
    {
     "data": {
      "image/png": "[encoded data removed]",
      "text/plain": [
       "Plot with title \"Histogram of resid(MAVG_nopen_noclass)\""
      ]
     },
     "metadata": {
      "image/png": {
       "height": 420,
       "width": 420
      }
     },
     "output_type": "display_data"
    },
    {
     "data": {
      "image/png": "[encoded data removed]",
      "text/plain": [
       "plot without title"
      ]
     },
     "metadata": {
      "image/png": {
       "height": 420,
       "width": 420
      }
     },
     "output_type": "display_data"
    }
   ],
   "source": [
    "MAVG_nopen_noclass = lmerTest::lmer(PC1 ~ time + time2 + avgDIB_scale + Treatment + temperature_C_avg_scale + InitialWeight_scale + (1|HenID), REML=FALSE, data = df)\n",
    "summary(MAVG_nopen_noclass)\n",
    "r.squaredGLMM(MAVG_nopen_noclass)\n",
    "###### normally distributed residuals\n",
    "qqnorm(resid(MAVG_nopen_noclass))\n",
    "qqline(resid(MAVG_nopen_noclass))\n",
    "hist(resid(MAVG_nopen_noclass))\n",
    "######check homogeneity of variance (residuals has constant variance)\n",
    "plot(MAVG_nopen_noclass)"
   ]
  },
  {
   "cell_type": "code",
   "execution_count": 18,
   "metadata": {},
   "outputs": [
    {
     "data": {
      "text/html": [
       "<table class=\"dataframe\">\n",
       "<caption>A anova: 2 × 8</caption>\n",
       "<thead>\n",
       "\t<tr><th></th><th scope=col>npar</th><th scope=col>AIC</th><th scope=col>BIC</th><th scope=col>logLik</th><th scope=col>deviance</th><th scope=col>Chisq</th><th scope=col>Df</th><th scope=col>Pr(&gt;Chisq)</th></tr>\n",
       "\t<tr><th></th><th scope=col>&lt;dbl&gt;</th><th scope=col>&lt;dbl&gt;</th><th scope=col>&lt;dbl&gt;</th><th scope=col>&lt;dbl&gt;</th><th scope=col>&lt;dbl&gt;</th><th scope=col>&lt;dbl&gt;</th><th scope=col>&lt;dbl&gt;</th><th scope=col>&lt;dbl&gt;</th></tr>\n",
       "</thead>\n",
       "<tbody>\n",
       "\t<tr><th scope=row>MAVG_nopen_noclass</th><td> 9</td><td>6939.407</td><td>6994.129</td><td>-3460.704</td><td>6921.407</td><td>      NA</td><td>NA</td><td>       NA</td></tr>\n",
       "\t<tr><th scope=row>MAVG_nopen_class</th><td>11</td><td>6940.361</td><td>7007.243</td><td>-3459.180</td><td>6918.361</td><td>3.046477</td><td> 2</td><td>0.2180047</td></tr>\n",
       "</tbody>\n",
       "</table>\n"
      ],
      "text/latex": [
       "A anova: 2 × 8\n",
       "\\begin{tabular}{r|llllllll}\n",
       "  & npar & AIC & BIC & logLik & deviance & Chisq & Df & Pr(>Chisq)\\\\\n",
       "  & <dbl> & <dbl> & <dbl> & <dbl> & <dbl> & <dbl> & <dbl> & <dbl>\\\\\n",
       "\\hline\n",
       "\tMAVG\\_nopen\\_noclass &  9 & 6939.407 & 6994.129 & -3460.704 & 6921.407 &       NA & NA &        NA\\\\\n",
       "\tMAVG\\_nopen\\_class & 11 & 6940.361 & 7007.243 & -3459.180 & 6918.361 & 3.046477 &  2 & 0.2180047\\\\\n",
       "\\end{tabular}\n"
      ],
      "text/markdown": [
       "\n",
       "A anova: 2 × 8\n",
       "\n",
       "| <!--/--> | npar &lt;dbl&gt; | AIC &lt;dbl&gt; | BIC &lt;dbl&gt; | logLik &lt;dbl&gt; | deviance &lt;dbl&gt; | Chisq &lt;dbl&gt; | Df &lt;dbl&gt; | Pr(&gt;Chisq) &lt;dbl&gt; |\n",
       "|---|---|---|---|---|---|---|---|---|\n",
       "| MAVG_nopen_noclass |  9 | 6939.407 | 6994.129 | -3460.704 | 6921.407 |       NA | NA |        NA |\n",
       "| MAVG_nopen_class | 11 | 6940.361 | 7007.243 | -3459.180 | 6918.361 | 3.046477 |  2 | 0.2180047 |\n",
       "\n"
      ],
      "text/plain": [
       "                   npar AIC      BIC      logLik    deviance Chisq    Df\n",
       "MAVG_nopen_noclass  9   6939.407 6994.129 -3460.704 6921.407       NA NA\n",
       "MAVG_nopen_class   11   6940.361 7007.243 -3459.180 6918.361 3.046477  2\n",
       "                   Pr(>Chisq)\n",
       "MAVG_nopen_noclass        NA \n",
       "MAVG_nopen_class   0.2180047 "
      ]
     },
     "metadata": {},
     "output_type": "display_data"
    }
   ],
   "source": [
    "anova(MAVG_nopen_class, MAVG_nopen_noclass, Test='Chisq')"
   ]
  },
  {
   "cell_type": "markdown",
   "metadata": {},
   "source": [
    "# Repeatabilities"
   ]
  },
  {
   "cell_type": "code",
   "execution_count": 19,
   "metadata": {
    "scrolled": true
   },
   "outputs": [
    {
     "data": {
      "text/plain": [
       "Linear mixed model fit by maximum likelihood . t-tests use Satterthwaite's\n",
       "  method [lmerModLmerTest]\n",
       "Formula: \n",
       "PC1 ~ time + time2 + avgDIB_scale + Treatment + temperature_C_avg_scale +  \n",
       "    InitialWeight_scale + (1 | HenID)\n",
       "   Data: df\n",
       "\n",
       "     AIC      BIC   logLik deviance df.resid \n",
       "  6939.4   6994.1  -3460.7   6921.4     3221 \n",
       "\n",
       "Scaled residuals: \n",
       "    Min      1Q  Median      3Q     Max \n",
       "-3.0850 -0.5990  0.0092  0.6250  3.8937 \n",
       "\n",
       "Random effects:\n",
       " Groups   Name        Variance Std.Dev.\n",
       " HenID    (Intercept) 0.3647   0.6039  \n",
       " Residual             0.4576   0.6765  \n",
       "Number of obs: 3230, groups:  HenID, 80\n",
       "\n",
       "Fixed effects:\n",
       "                          Estimate Std. Error         df t value Pr(>|t|)    \n",
       "(Intercept)               -0.60731    0.10575  104.23784  -5.743 9.27e-08 ***\n",
       "time                       1.06422    0.05194 3150.33361  20.489  < 2e-16 ***\n",
       "time2                     -0.23694    0.01444 3150.37103 -16.406  < 2e-16 ***\n",
       "avgDIB_scale               0.05577    0.06874   80.05755   0.811   0.4196    \n",
       "TreatmentOFH              -0.31705    0.13953   80.00792  -2.272   0.0258 *  \n",
       "temperature_C_avg_scale   -0.02711    0.01390 3150.25893  -1.950   0.0513 .  \n",
       "InitialWeight_scale       -0.05638    0.07015   80.01039  -0.804   0.4240    \n",
       "---\n",
       "Signif. codes:  0 '***' 0.001 '**' 0.01 '*' 0.05 '.' 0.1 ' ' 1\n",
       "\n",
       "Correlation of Fixed Effects:\n",
       "            (Intr) time   time2  avDIB_ TrtOFH tm_C__\n",
       "time        -0.324                                   \n",
       "time2        0.280 -0.971                            \n",
       "avgDIB_scal  0.007 -0.008  0.006                     \n",
       "TreatmntOFH -0.674  0.003 -0.003 -0.052              \n",
       "tmprtr_C_v_  0.073 -0.377  0.450 -0.001 -0.003       \n",
       "IntlWght_sc  0.116  0.001 -0.001  0.112 -0.180  0.000"
      ]
     },
     "metadata": {},
     "output_type": "display_data"
    }
   ],
   "source": [
    "summary(MAVG_nopen_noclass)"
   ]
  },
  {
   "cell_type": "code",
   "execution_count": 20,
   "metadata": {},
   "outputs": [
    {
     "data": {
      "text/html": [
       "<table class=\"dataframe\">\n",
       "<caption>A anova: 6 × 6</caption>\n",
       "<thead>\n",
       "\t<tr><th></th><th scope=col>Sum Sq</th><th scope=col>Mean Sq</th><th scope=col>NumDF</th><th scope=col>DenDF</th><th scope=col>F value</th><th scope=col>Pr(&gt;F)</th></tr>\n",
       "\t<tr><th></th><th scope=col>&lt;dbl&gt;</th><th scope=col>&lt;dbl&gt;</th><th scope=col>&lt;int&gt;</th><th scope=col>&lt;dbl&gt;</th><th scope=col>&lt;dbl&gt;</th><th scope=col>&lt;dbl&gt;</th></tr>\n",
       "</thead>\n",
       "<tbody>\n",
       "\t<tr><th scope=row>time</th><td>192.1092849</td><td>192.1092849</td><td>1</td><td>3150.33361</td><td>419.7849397</td><td>1.106298e-87</td></tr>\n",
       "\t<tr><th scope=row>time2</th><td>123.1836378</td><td>123.1836378</td><td>1</td><td>3150.37103</td><td>269.1730179</td><td>4.132918e-58</td></tr>\n",
       "\t<tr><th scope=row>avgDIB_scale</th><td>  0.3012748</td><td>  0.3012748</td><td>1</td><td>  80.05755</td><td>  0.6583265</td><td>4.195572e-01</td></tr>\n",
       "\t<tr><th scope=row>Treatment</th><td>  2.3627545</td><td>  2.3627545</td><td>1</td><td>  80.00792</td><td>  5.1629402</td><td>2.575804e-02</td></tr>\n",
       "\t<tr><th scope=row>temperature_C_avg_scale</th><td>  1.7397143</td><td>  1.7397143</td><td>1</td><td>3150.25893</td><td>  3.8015127</td><td>5.129491e-02</td></tr>\n",
       "\t<tr><th scope=row>InitialWeight_scale</th><td>  0.2955856</td><td>  0.2955856</td><td>1</td><td>  80.01039</td><td>  0.6458949</td><td>4.239655e-01</td></tr>\n",
       "</tbody>\n",
       "</table>\n"
      ],
      "text/latex": [
       "A anova: 6 × 6\n",
       "\\begin{tabular}{r|llllll}\n",
       "  & Sum Sq & Mean Sq & NumDF & DenDF & F value & Pr(>F)\\\\\n",
       "  & <dbl> & <dbl> & <int> & <dbl> & <dbl> & <dbl>\\\\\n",
       "\\hline\n",
       "\ttime & 192.1092849 & 192.1092849 & 1 & 3150.33361 & 419.7849397 & 1.106298e-87\\\\\n",
       "\ttime2 & 123.1836378 & 123.1836378 & 1 & 3150.37103 & 269.1730179 & 4.132918e-58\\\\\n",
       "\tavgDIB\\_scale &   0.3012748 &   0.3012748 & 1 &   80.05755 &   0.6583265 & 4.195572e-01\\\\\n",
       "\tTreatment &   2.3627545 &   2.3627545 & 1 &   80.00792 &   5.1629402 & 2.575804e-02\\\\\n",
       "\ttemperature\\_C\\_avg\\_scale &   1.7397143 &   1.7397143 & 1 & 3150.25893 &   3.8015127 & 5.129491e-02\\\\\n",
       "\tInitialWeight\\_scale &   0.2955856 &   0.2955856 & 1 &   80.01039 &   0.6458949 & 4.239655e-01\\\\\n",
       "\\end{tabular}\n"
      ],
      "text/markdown": [
       "\n",
       "A anova: 6 × 6\n",
       "\n",
       "| <!--/--> | Sum Sq &lt;dbl&gt; | Mean Sq &lt;dbl&gt; | NumDF &lt;int&gt; | DenDF &lt;dbl&gt; | F value &lt;dbl&gt; | Pr(&gt;F) &lt;dbl&gt; |\n",
       "|---|---|---|---|---|---|---|\n",
       "| time | 192.1092849 | 192.1092849 | 1 | 3150.33361 | 419.7849397 | 1.106298e-87 |\n",
       "| time2 | 123.1836378 | 123.1836378 | 1 | 3150.37103 | 269.1730179 | 4.132918e-58 |\n",
       "| avgDIB_scale |   0.3012748 |   0.3012748 | 1 |   80.05755 |   0.6583265 | 4.195572e-01 |\n",
       "| Treatment |   2.3627545 |   2.3627545 | 1 |   80.00792 |   5.1629402 | 2.575804e-02 |\n",
       "| temperature_C_avg_scale |   1.7397143 |   1.7397143 | 1 | 3150.25893 |   3.8015127 | 5.129491e-02 |\n",
       "| InitialWeight_scale |   0.2955856 |   0.2955856 | 1 |   80.01039 |   0.6458949 | 4.239655e-01 |\n",
       "\n"
      ],
      "text/plain": [
       "                        Sum Sq      Mean Sq     NumDF DenDF      F value    \n",
       "time                    192.1092849 192.1092849 1     3150.33361 419.7849397\n",
       "time2                   123.1836378 123.1836378 1     3150.37103 269.1730179\n",
       "avgDIB_scale              0.3012748   0.3012748 1       80.05755   0.6583265\n",
       "Treatment                 2.3627545   2.3627545 1       80.00792   5.1629402\n",
       "temperature_C_avg_scale   1.7397143   1.7397143 1     3150.25893   3.8015127\n",
       "InitialWeight_scale       0.2955856   0.2955856 1       80.01039   0.6458949\n",
       "                        Pr(>F)      \n",
       "time                    1.106298e-87\n",
       "time2                   4.132918e-58\n",
       "avgDIB_scale            4.195572e-01\n",
       "Treatment               2.575804e-02\n",
       "temperature_C_avg_scale 5.129491e-02\n",
       "InitialWeight_scale     4.239655e-01"
      ]
     },
     "metadata": {},
     "output_type": "display_data"
    }
   ],
   "source": [
    "anova(MAVG_nopen_noclass)"
   ]
  },
  {
   "cell_type": "code",
   "execution_count": 1,
   "metadata": {},
   "outputs": [
    {
     "data": {
      "text/html": [
       "0.44350406148159"
      ],
      "text/latex": [
       "0.44350406148159"
      ],
      "text/markdown": [
       "0.44350406148159"
      ],
      "text/plain": [
       "[1] 0.4435041"
      ]
     },
     "metadata": {},
     "output_type": "display_data"
    }
   ],
   "source": [
    "0.36472 /(0.36472 + 0.45764)"
   ]
  },
  {
   "cell_type": "code",
   "execution_count": 21,
   "metadata": {},
   "outputs": [
    {
     "name": "stdout",
     "output_type": "stream",
     "text": [
      " Groups   Name        Variance Std.Dev.\n",
      " HenID    (Intercept) 0.36472  0.60392 \n",
      " Residual             0.45764  0.67649 \n"
     ]
    },
    {
     "data": {
      "text/html": [
       "0.443506773841716"
      ],
      "text/latex": [
       "0.443506773841716"
      ],
      "text/markdown": [
       "0.443506773841716"
      ],
      "text/plain": [
       "[1] 0.4435068"
      ]
     },
     "metadata": {},
     "output_type": "display_data"
    },
    {
     "data": {
      "text/html": [
       "<style>\n",
       ".dl-inline {width: auto; margin:0; padding: 0}\n",
       ".dl-inline>dt, .dl-inline>dd {float: none; width: auto; display: inline-block}\n",
       ".dl-inline>dt::after {content: \":\\0020\"; padding-right: .5ex}\n",
       ".dl-inline>dt:not(:first-of-type) {padding-left: .5ex}\n",
       "</style><dl class=dl-inline><dt>2.5%</dt><dd>0.43002885468498</dd><dt>50%</dt><dd>0.453278360577395</dd><dt>97.5%</dt><dd>0.479788284243344</dd></dl>\n"
      ],
      "text/latex": [
       "\\begin{description*}\n",
       "\\item[2.5\\textbackslash{}\\%] 0.43002885468498\n",
       "\\item[50\\textbackslash{}\\%] 0.453278360577395\n",
       "\\item[97.5\\textbackslash{}\\%] 0.479788284243344\n",
       "\\end{description*}\n"
      ],
      "text/markdown": [
       "2.5%\n",
       ":   0.4300288546849850%\n",
       ":   0.45327836057739597.5%\n",
       ":   0.479788284243344\n",
       "\n"
      ],
      "text/plain": [
       "     2.5%       50%     97.5% \n",
       "0.4300289 0.4532784 0.4797883 "
      ]
     },
     "metadata": {},
     "output_type": "display_data"
    }
   ],
   "source": [
    "print(VarCorr(MAVG_nopen_noclass),comp =c(\"Variance\",\"Std.Dev.\"))\n",
    "rep = VarCorr(MAVG_nopen_noclass)$\"HenID\"[1]/\n",
    "(VarCorr(MAVG_nopen_noclass)$\"HenID\"[1]+\n",
    " attr(VarCorr(MAVG_nopen_noclass), \"sc\")^2) # sd^2 = equal to the variance of residual\n",
    "#alternatively: 0.36472/(0.36472+0.45764)\n",
    "rep\n",
    "\n",
    "#or with posterior distribtion with 1000 simulations and credible interval\n",
    "set.seed(1)\n",
    "simulated = sim(MAVG_nopen_noclass, n.sim = 1000)\n",
    "posterior_HenID = apply(simulated@ranef$\"HenID\"[ , , 1],1,var)\n",
    "posterior_residual  = simulated@sigma^2\n",
    "quantile(posterior_HenID/\n",
    "         (posterior_HenID+posterior_residual), prob=c(0.025, 0.5, 0.975))"
   ]
  },
  {
   "cell_type": "markdown",
   "metadata": {},
   "source": [
    "# Short and long term Repeatabilities"
   ]
  },
  {
   "cell_type": "code",
   "execution_count": 22,
   "metadata": {},
   "outputs": [
    {
     "name": "stdout",
     "output_type": "stream",
     "text": [
      " Groups          Name        Variance Std.Dev.\n",
      " henID_WOA:HenID (Intercept) 0.32452  0.56967 \n",
      " HenID           (Intercept) 0.30928  0.55613 \n",
      " Residual                    0.18792  0.43349 \n"
     ]
    },
    {
     "data": {
      "text/html": [
       "0.376384901874096"
      ],
      "text/latex": [
       "0.376384901874096"
      ],
      "text/markdown": [
       "0.376384901874096"
      ],
      "text/plain": [
       "[1] 0.3763849"
      ]
     },
     "metadata": {},
     "output_type": "display_data"
    },
    {
     "data": {
      "text/html": [
       "0.771312345988379"
      ],
      "text/latex": [
       "0.771312345988379"
      ],
      "text/markdown": [
       "0.771312345988379"
      ],
      "text/plain": [
       "[1] 0.7713123"
      ]
     },
     "metadata": {},
     "output_type": "display_data"
    },
    {
     "data": {
      "text/html": [
       "<style>\n",
       ".dl-inline {width: auto; margin:0; padding: 0}\n",
       ".dl-inline>dt, .dl-inline>dd {float: none; width: auto; display: inline-block}\n",
       ".dl-inline>dt::after {content: \":\\0020\"; padding-right: .5ex}\n",
       ".dl-inline>dt:not(:first-of-type) {padding-left: .5ex}\n",
       "</style><dl class=dl-inline><dt>2.5%</dt><dd>0.344792150208024</dd><dt>50%</dt><dd>0.389976516212433</dd><dt>97.5%</dt><dd>0.444235173656825</dd></dl>\n"
      ],
      "text/latex": [
       "\\begin{description*}\n",
       "\\item[2.5\\textbackslash{}\\%] 0.344792150208024\n",
       "\\item[50\\textbackslash{}\\%] 0.389976516212433\n",
       "\\item[97.5\\textbackslash{}\\%] 0.444235173656825\n",
       "\\end{description*}\n"
      ],
      "text/markdown": [
       "2.5%\n",
       ":   0.34479215020802450%\n",
       ":   0.38997651621243397.5%\n",
       ":   0.444235173656825\n",
       "\n"
      ],
      "text/plain": [
       "     2.5%       50%     97.5% \n",
       "0.3447922 0.3899765 0.4442352 "
      ]
     },
     "metadata": {},
     "output_type": "display_data"
    },
    {
     "data": {
      "text/html": [
       "<style>\n",
       ".dl-inline {width: auto; margin:0; padding: 0}\n",
       ".dl-inline>dt, .dl-inline>dd {float: none; width: auto; display: inline-block}\n",
       ".dl-inline>dt::after {content: \":\\0020\"; padding-right: .5ex}\n",
       ".dl-inline>dt:not(:first-of-type) {padding-left: .5ex}\n",
       "</style><dl class=dl-inline><dt>2.5%</dt><dd>0.757390964340871</dd><dt>50%</dt><dd>0.776350961277947</dd><dt>97.5%</dt><dd>0.798105459158437</dd></dl>\n"
      ],
      "text/latex": [
       "\\begin{description*}\n",
       "\\item[2.5\\textbackslash{}\\%] 0.757390964340871\n",
       "\\item[50\\textbackslash{}\\%] 0.776350961277947\n",
       "\\item[97.5\\textbackslash{}\\%] 0.798105459158437\n",
       "\\end{description*}\n"
      ],
      "text/markdown": [
       "2.5%\n",
       ":   0.75739096434087150%\n",
       ":   0.77635096127794797.5%\n",
       ":   0.798105459158437\n",
       "\n"
      ],
      "text/plain": [
       "     2.5%       50%     97.5% \n",
       "0.7573910 0.7763510 0.7981055 "
      ]
     },
     "metadata": {},
     "output_type": "display_data"
    }
   ],
   "source": [
    "model_ = lmerTest::lmer(PC1 ~ time + time2 + avgDIB_scale + Treatment + CLASS + temperature_C_avg_scale + InitialWeight_scale + (1|HenID/henID_WOA), REML=FALSE, data = df)\n",
    "\n",
    "print(VarCorr(model_),comp =c(\"Variance\",\"Std.Dev.\"))\n",
    "\n",
    "#LT\n",
    "rep = VarCorr(model_)$\"HenID\"[1]/\n",
    "(VarCorr(model_)$\"HenID\"[1]+ attr(VarCorr(model_), \"sc\")^2 + VarCorr(model_)$\"henID_WOA:HenID\"[1]) \n",
    "rep\n",
    "\n",
    "#ST\n",
    "rep = (VarCorr(model_)$\"HenID\"[1] + VarCorr(model_)$\"henID_WOA:HenID\"[1])/\n",
    "(VarCorr(model_)$\"HenID\"[1]+ attr(VarCorr(model_), \"sc\")^2 + VarCorr(model_)$\"henID_WOA:HenID\"[1]) \n",
    "rep\n",
    "\n",
    "#with posterior distribtion with 1000 simulations and credible interval\n",
    "set.seed(1)\n",
    "simulated = sim(model_, n.sim = 1000)\n",
    "posterior_HenID = apply(simulated@ranef$\"HenID\"[ , , 1],1,var)\n",
    "posterior_HenIDWOA = apply(simulated@ranef$\"henID_WOA:HenID\"[ , , 1],1,var)\n",
    "posterior_residual  = simulated@sigma^2\n",
    "quantile(posterior_HenID/\n",
    "         (posterior_HenID+posterior_residual+posterior_HenIDWOA), prob=c(0.025, 0.5, 0.975))\n",
    "quantile((posterior_HenID+posterior_HenIDWOA)/\n",
    "         (posterior_HenID+posterior_residual+posterior_HenIDWOA), prob=c(0.025, 0.5, 0.975))"
   ]
  },
  {
   "cell_type": "markdown",
   "metadata": {},
   "source": [
    "# Plasticity"
   ]
  },
  {
   "cell_type": "markdown",
   "metadata": {},
   "source": [
    "### first order"
   ]
  },
  {
   "cell_type": "code",
   "execution_count": 23,
   "metadata": {
    "scrolled": true
   },
   "outputs": [
    {
     "data": {
      "text/plain": [
       "Linear mixed model fit by REML. t-tests use Satterthwaite's method [\n",
       "lmerModLmerTest]\n",
       "Formula: \n",
       "PC1 ~ time + time2 + avgDIB_scale + Treatment + temperature_C_avg_scale +  \n",
       "    InitialWeight_scale + (1 + time | HenID)\n",
       "   Data: df\n",
       "\n",
       "REML criterion at convergence: 5870.5\n",
       "\n",
       "Scaled residuals: \n",
       "    Min      1Q  Median      3Q     Max \n",
       "-3.6631 -0.5933 -0.0186  0.5689  4.5306 \n",
       "\n",
       "Random effects:\n",
       " Groups   Name        Variance Std.Dev. Corr \n",
       " HenID    (Intercept) 1.0358   1.0177        \n",
       "          time        0.1554   0.3942   -0.79\n",
       " Residual             0.3005   0.5482        \n",
       "Number of obs: 3230, groups:  HenID, 80\n",
       "\n",
       "Fixed effects:\n",
       "                          Estimate Std. Error         df t value Pr(>|t|)    \n",
       "(Intercept)               -0.63492    0.13890  109.49435  -4.571 1.28e-05 ***\n",
       "time                       1.09239    0.06116  261.50537  17.860  < 2e-16 ***\n",
       "time2                     -0.24346    0.01176 3071.39261 -20.700  < 2e-16 ***\n",
       "avgDIB_scale               0.06161    0.07018   75.98983   0.878   0.3828    \n",
       "TreatmentOFH              -0.31281    0.14250   76.00017  -2.195   0.0312 *  \n",
       "temperature_C_avg_scale   -0.02801    0.01127 3068.25013  -2.486   0.0130 *  \n",
       "InitialWeight_scale       -0.07700    0.07164   76.00296  -1.075   0.2859    \n",
       "---\n",
       "Signif. codes:  0 '***' 0.001 '**' 0.01 '*' 0.05 '.' 0.1 ' ' 1\n",
       "\n",
       "Correlation of Fixed Effects:\n",
       "            (Intr) time   time2  avDIB_ TrtOFH tm_C__\n",
       "time        -0.609                                   \n",
       "time2        0.176 -0.673                            \n",
       "avgDIB_scal  0.003 -0.003  0.003                     \n",
       "TreatmntOFH -0.524  0.002 -0.003 -0.052              \n",
       "tmprtr_C_v_  0.045 -0.260  0.449 -0.001 -0.002       \n",
       "IntlWght_sc  0.090  0.000 -0.001  0.112 -0.180  0.000"
      ]
     },
     "metadata": {},
     "output_type": "display_data"
    },
    {
     "data": {
      "text/html": [
       "<table class=\"dataframe\">\n",
       "<caption>A matrix: 1 × 2 of type dbl</caption>\n",
       "<thead>\n",
       "\t<tr><th scope=col>R2m</th><th scope=col>R2c</th></tr>\n",
       "</thead>\n",
       "<tbody>\n",
       "\t<tr><td>0.1391946</td><td>0.694731</td></tr>\n",
       "</tbody>\n",
       "</table>\n"
      ],
      "text/latex": [
       "A matrix: 1 × 2 of type dbl\n",
       "\\begin{tabular}{ll}\n",
       " R2m & R2c\\\\\n",
       "\\hline\n",
       "\t 0.1391946 & 0.694731\\\\\n",
       "\\end{tabular}\n"
      ],
      "text/markdown": [
       "\n",
       "A matrix: 1 × 2 of type dbl\n",
       "\n",
       "| R2m | R2c |\n",
       "|---|---|\n",
       "| 0.1391946 | 0.694731 |\n",
       "\n"
      ],
      "text/plain": [
       "     R2m       R2c     \n",
       "[1,] 0.1391946 0.694731"
      ]
     },
     "metadata": {},
     "output_type": "display_data"
    },
    {
     "data": {
      "image/png": "[encoded data removed]",
      "text/plain": [
       "Plot with title \"Normal Q-Q Plot\""
      ]
     },
     "metadata": {
      "image/png": {
       "height": 420,
       "width": 420
      }
     },
     "output_type": "display_data"
    },
    {
     "data": {
      "image/png": "[encoded data removed]",
      "text/plain": [
       "Plot with title \"Histogram of resid(MPL1)\""
      ]
     },
     "metadata": {
      "image/png": {
       "height": 420,
       "width": 420
      }
     },
     "output_type": "display_data"
    },
    {
     "data": {
      "image/png": "[encoded data removed]",
      "text/plain": [
       "plot without title"
      ]
     },
     "metadata": {
      "image/png": {
       "height": 420,
       "width": 420
      }
     },
     "output_type": "display_data"
    }
   ],
   "source": [
    "#random interecepts and slopes over DIB for each animal (interactio between DIB and henID as a random effect)\n",
    "MPL1 = lmer(PC1 ~ time + time2 + avgDIB_scale + Treatment + temperature_C_avg_scale + InitialWeight_scale + (1 + time|HenID), \n",
    "                REML=TRUE, data=df) #, control = lmerControl(optimizer ='optimx', optCtrl=list(method='nlminb')))\n",
    "summary(MPL1)\n",
    "r.squaredGLMM(MPL1)\n",
    "###### normally distributed residuals\n",
    "qqnorm(resid(MPL1))\n",
    "qqline(resid(MPL1))\n",
    "hist(resid(MPL1))\n",
    "######check homogeneity of variance (residuals has constant variance)\n",
    "plot(MPL1)"
   ]
  },
  {
   "cell_type": "code",
   "execution_count": 24,
   "metadata": {},
   "outputs": [
    {
     "data": {
      "text/html": [
       "<table class=\"dataframe\">\n",
       "<caption>A data.frame: 4 × 5</caption>\n",
       "<thead>\n",
       "\t<tr><th scope=col>grp</th><th scope=col>var1</th><th scope=col>var2</th><th scope=col>vcov</th><th scope=col>sdcor</th></tr>\n",
       "\t<tr><th scope=col>&lt;chr&gt;</th><th scope=col>&lt;chr&gt;</th><th scope=col>&lt;chr&gt;</th><th scope=col>&lt;dbl&gt;</th><th scope=col>&lt;dbl&gt;</th></tr>\n",
       "</thead>\n",
       "<tbody>\n",
       "\t<tr><td>HenID   </td><td>(Intercept)</td><td>NA  </td><td> 1.0357617</td><td> 1.0177238</td></tr>\n",
       "\t<tr><td>HenID   </td><td>time       </td><td>NA  </td><td> 0.1553986</td><td> 0.3942063</td></tr>\n",
       "\t<tr><td>HenID   </td><td>(Intercept)</td><td>time</td><td>-0.3181374</td><td>-0.7929782</td></tr>\n",
       "\t<tr><td>Residual</td><td>NA         </td><td>NA  </td><td> 0.3005260</td><td> 0.5482025</td></tr>\n",
       "</tbody>\n",
       "</table>\n"
      ],
      "text/latex": [
       "A data.frame: 4 × 5\n",
       "\\begin{tabular}{lllll}\n",
       " grp & var1 & var2 & vcov & sdcor\\\\\n",
       " <chr> & <chr> & <chr> & <dbl> & <dbl>\\\\\n",
       "\\hline\n",
       "\t HenID    & (Intercept) & NA   &  1.0357617 &  1.0177238\\\\\n",
       "\t HenID    & time        & NA   &  0.1553986 &  0.3942063\\\\\n",
       "\t HenID    & (Intercept) & time & -0.3181374 & -0.7929782\\\\\n",
       "\t Residual & NA          & NA   &  0.3005260 &  0.5482025\\\\\n",
       "\\end{tabular}\n"
      ],
      "text/markdown": [
       "\n",
       "A data.frame: 4 × 5\n",
       "\n",
       "| grp &lt;chr&gt; | var1 &lt;chr&gt; | var2 &lt;chr&gt; | vcov &lt;dbl&gt; | sdcor &lt;dbl&gt; |\n",
       "|---|---|---|---|---|\n",
       "| HenID    | (Intercept) | NA   |  1.0357617 |  1.0177238 |\n",
       "| HenID    | time        | NA   |  0.1553986 |  0.3942063 |\n",
       "| HenID    | (Intercept) | time | -0.3181374 | -0.7929782 |\n",
       "| Residual | NA          | NA   |  0.3005260 |  0.5482025 |\n",
       "\n"
      ],
      "text/plain": [
       "  grp      var1        var2 vcov       sdcor     \n",
       "1 HenID    (Intercept) NA    1.0357617  1.0177238\n",
       "2 HenID    time        NA    0.1553986  0.3942063\n",
       "3 HenID    (Intercept) time -0.3181374 -0.7929782\n",
       "4 Residual NA          NA    0.3005260  0.5482025"
      ]
     },
     "metadata": {},
     "output_type": "display_data"
    },
    {
     "data": {
      "text/html": [
       "-0.792978191526657"
      ],
      "text/latex": [
       "-0.792978191526657"
      ],
      "text/markdown": [
       "-0.792978191526657"
      ],
      "text/plain": [
       "[1] -0.7929782"
      ]
     },
     "metadata": {},
     "output_type": "display_data"
    }
   ],
   "source": [
    "ranef_vals = data.frame(VarCorr(MPL1))\n",
    "ranef_vals\n",
    "ranef_vals$sdcor[3]"
   ]
  },
  {
   "cell_type": "code",
   "execution_count": 25,
   "metadata": {},
   "outputs": [
    {
     "name": "stderr",
     "output_type": "stream",
     "text": [
      "Loading required namespace: optimx\n",
      "\n"
     ]
    },
    {
     "data": {
      "text/plain": [
       "\n",
       "ORDINARY NONPARAMETRIC BOOTSTRAP\n",
       "\n",
       "\n",
       "Call:\n",
       "boot(data = df, statistic = li_CORR, R = 300, formula = PC1 ~ \n",
       "    time + time2 + avgDIB_scale + Treatment + temperature_C_avg_scale + \n",
       "        InitialWeight_scale + (1 + time | HenID))\n",
       "\n",
       "\n",
       "Bootstrap Statistics :\n",
       "      original      bias    std. error\n",
       "t1* -0.7929755 -0.00634922  0.01003476"
      ]
     },
     "metadata": {},
     "output_type": "display_data"
    },
    {
     "data": {
      "text/plain": [
       "BOOTSTRAP CONFIDENCE INTERVAL CALCULATIONS\n",
       "Based on 300 bootstrap replicates\n",
       "\n",
       "CALL : \n",
       "boot.ci(boot.out = output, type = \"perc\")\n",
       "\n",
       "Intervals : \n",
       "Level     Percentile     \n",
       "95%   (-0.818, -0.777 )  \n",
       "Calculations and Intervals on Original Scale\n",
       "Some percentile intervals may be unstable"
      ]
     },
     "metadata": {},
     "output_type": "display_data"
    },
    {
     "data": {
      "image/png": "[encoded data removed]",
      "text/plain": [
       "Plot with title \"Histogram of t\""
      ]
     },
     "metadata": {
      "image/png": {
       "height": 420,
       "width": 420
      }
     },
     "output_type": "display_data"
    }
   ],
   "source": [
    "# creating Function to obtain R-Squared from the data\n",
    "li_CORR <- function(formula, data, indices) {\n",
    "    val <- data[indices,] # selecting sample with boot \n",
    "    mod_ = lmer(formula, REML=TRUE, data=val, control = lmerControl(optimizer ='optimx', optCtrl=list(method='nlminb')))\n",
    "    ranef_vals = data.frame(VarCorr(mod_))\n",
    "    return(ranef_vals$sdcor[3])\n",
    "} \n",
    "# Performing 1500 replications with boot \n",
    "#R: nbr of bootstrap replicates.\n",
    "#statistic: The function should include an indices parameter that the boot() function can use to select cases for each \n",
    "#replication\n",
    "set.seed(1)\n",
    "#we can add the parameters that has to be passed to the function that produces the statistic of interest, in this case: formula\n",
    "output <- boot(data=df, statistic=li_CORR, R=300, formula=PC1 ~ time + time2 + avgDIB_scale + Treatment + temperature_C_avg_scale + InitialWeight_scale + (1 + time|HenID))\n",
    "output\n",
    "# Plotting the output \n",
    "plot(output)\n",
    "\n",
    "# Obtaining a confidence interval of 95%\n",
    "boot.ci(output, type=\"perc\")"
   ]
  },
  {
   "cell_type": "code",
   "execution_count": 26,
   "metadata": {},
   "outputs": [
    {
     "name": "stderr",
     "output_type": "stream",
     "text": [
      "Computing profile confidence intervals ...\n",
      "\n"
     ]
    },
    {
     "data": {
      "text/html": [
       "<table class=\"dataframe\">\n",
       "<caption>A matrix: 11 × 2 of type dbl</caption>\n",
       "<thead>\n",
       "\t<tr><th></th><th scope=col>2.5 %</th><th scope=col>97.5 %</th></tr>\n",
       "</thead>\n",
       "<tbody>\n",
       "\t<tr><th scope=row>sd_(Intercept)|HenID</th><td> 0.85948370</td><td> 1.190041958</td></tr>\n",
       "\t<tr><th scope=row>cor_time.(Intercept)|HenID</th><td>-0.86797694</td><td>-0.698490149</td></tr>\n",
       "\t<tr><th scope=row>sd_time|HenID</th><td> 0.33511132</td><td> 0.464260292</td></tr>\n",
       "\t<tr><th scope=row>sigma</th><td> 0.53459700</td><td> 0.562022873</td></tr>\n",
       "\t<tr><th scope=row>(Intercept)</th><td>-0.90542279</td><td>-0.365071535</td></tr>\n",
       "\t<tr><th scope=row>time</th><td> 0.97252948</td><td> 1.212300050</td></tr>\n",
       "\t<tr><th scope=row>time2</th><td>-0.26650750</td><td>-0.220403661</td></tr>\n",
       "\t<tr><th scope=row>avgDIB_scale</th><td>-0.07445843</td><td> 0.197672889</td></tr>\n",
       "\t<tr><th scope=row>TreatmentOFH</th><td>-0.58841466</td><td>-0.037201038</td></tr>\n",
       "\t<tr><th scope=row>temperature_C_avg_scale</th><td>-0.05009538</td><td>-0.005925275</td></tr>\n",
       "\t<tr><th scope=row>InitialWeight_scale</th><td>-0.21897988</td><td> 0.064980733</td></tr>\n",
       "</tbody>\n",
       "</table>\n"
      ],
      "text/latex": [
       "A matrix: 11 × 2 of type dbl\n",
       "\\begin{tabular}{r|ll}\n",
       "  & 2.5 \\% & 97.5 \\%\\\\\n",
       "\\hline\n",
       "\tsd\\_(Intercept)\\textbar{}HenID &  0.85948370 &  1.190041958\\\\\n",
       "\tcor\\_time.(Intercept)\\textbar{}HenID & -0.86797694 & -0.698490149\\\\\n",
       "\tsd\\_time\\textbar{}HenID &  0.33511132 &  0.464260292\\\\\n",
       "\tsigma &  0.53459700 &  0.562022873\\\\\n",
       "\t(Intercept) & -0.90542279 & -0.365071535\\\\\n",
       "\ttime &  0.97252948 &  1.212300050\\\\\n",
       "\ttime2 & -0.26650750 & -0.220403661\\\\\n",
       "\tavgDIB\\_scale & -0.07445843 &  0.197672889\\\\\n",
       "\tTreatmentOFH & -0.58841466 & -0.037201038\\\\\n",
       "\ttemperature\\_C\\_avg\\_scale & -0.05009538 & -0.005925275\\\\\n",
       "\tInitialWeight\\_scale & -0.21897988 &  0.064980733\\\\\n",
       "\\end{tabular}\n"
      ],
      "text/markdown": [
       "\n",
       "A matrix: 11 × 2 of type dbl\n",
       "\n",
       "| <!--/--> | 2.5 % | 97.5 % |\n",
       "|---|---|---|\n",
       "| sd_(Intercept)|HenID |  0.85948370 |  1.190041958 |\n",
       "| cor_time.(Intercept)|HenID | -0.86797694 | -0.698490149 |\n",
       "| sd_time|HenID |  0.33511132 |  0.464260292 |\n",
       "| sigma |  0.53459700 |  0.562022873 |\n",
       "| (Intercept) | -0.90542279 | -0.365071535 |\n",
       "| time |  0.97252948 |  1.212300050 |\n",
       "| time2 | -0.26650750 | -0.220403661 |\n",
       "| avgDIB_scale | -0.07445843 |  0.197672889 |\n",
       "| TreatmentOFH | -0.58841466 | -0.037201038 |\n",
       "| temperature_C_avg_scale | -0.05009538 | -0.005925275 |\n",
       "| InitialWeight_scale | -0.21897988 |  0.064980733 |\n",
       "\n"
      ],
      "text/plain": [
       "                           2.5 %       97.5 %      \n",
       "sd_(Intercept)|HenID        0.85948370  1.190041958\n",
       "cor_time.(Intercept)|HenID -0.86797694 -0.698490149\n",
       "sd_time|HenID               0.33511132  0.464260292\n",
       "sigma                       0.53459700  0.562022873\n",
       "(Intercept)                -0.90542279 -0.365071535\n",
       "time                        0.97252948  1.212300050\n",
       "time2                      -0.26650750 -0.220403661\n",
       "avgDIB_scale               -0.07445843  0.197672889\n",
       "TreatmentOFH               -0.58841466 -0.037201038\n",
       "temperature_C_avg_scale    -0.05009538 -0.005925275\n",
       "InitialWeight_scale        -0.21897988  0.064980733"
      ]
     },
     "metadata": {},
     "output_type": "display_data"
    }
   ],
   "source": [
    "confint(MPL1, oldNames=FALSE)"
   ]
  },
  {
   "cell_type": "markdown",
   "metadata": {},
   "source": [
    "### second order"
   ]
  },
  {
   "cell_type": "code",
   "execution_count": 27,
   "metadata": {
    "scrolled": true
   },
   "outputs": [
    {
     "data": {
      "text/plain": [
       "Linear mixed model fit by REML. t-tests use Satterthwaite's method [\n",
       "lmerModLmerTest]\n",
       "Formula: \n",
       "PC1 ~ time + time2 + avgDIB_scale + Treatment + temperature_C_avg_scale +  \n",
       "    InitialWeight_scale + (1 + time + time2 | HenID)\n",
       "   Data: df\n",
       "Control: lmerControl(optimizer = \"optimx\", optCtrl = list(method = \"nlminb\"))\n",
       "\n",
       "REML criterion at convergence: 5561.7\n",
       "\n",
       "Scaled residuals: \n",
       "    Min      1Q  Median      3Q     Max \n",
       "-4.2055 -0.5846 -0.0197  0.5667  4.5113 \n",
       "\n",
       "Random effects:\n",
       " Groups   Name        Variance Std.Dev. Corr       \n",
       " HenID    (Intercept) 1.25024  1.1181              \n",
       "          time        0.79363  0.8909   -0.69      \n",
       "          time2       0.04675  0.2162    0.41 -0.89\n",
       " Residual             0.25836  0.5083              \n",
       "Number of obs: 3230, groups:  HenID, 80\n",
       "\n",
       "Fixed effects:\n",
       "                          Estimate Std. Error         df t value Pr(>|t|)    \n",
       "(Intercept)               -0.66875    0.14764  100.98302  -4.530 1.62e-05 ***\n",
       "time                       1.11954    0.10728   82.37110  10.436  < 2e-16 ***\n",
       "time2                     -0.24986    0.02657   85.46672  -9.405 7.77e-15 ***\n",
       "avgDIB_scale               0.04945    0.06984   76.06047   0.708  0.48112    \n",
       "TreatmentOFH              -0.29031    0.14177   76.00209  -2.048  0.04404 *  \n",
       "temperature_C_avg_scale   -0.02895    0.01046 2991.85838  -2.769  0.00566 ** \n",
       "InitialWeight_scale       -0.06729    0.07127   75.99671  -0.944  0.34807    \n",
       "---\n",
       "Signif. codes:  0 '***' 0.001 '**' 0.01 '*' 0.05 '.' 0.1 ' ' 1\n",
       "\n",
       "Correlation of Fixed Effects:\n",
       "            (Intr) time   time2  avDIB_ TrtOFH tm_C__\n",
       "time        -0.608                                   \n",
       "time2        0.377 -0.905                            \n",
       "avgDIB_scal  0.004 -0.003  0.003                     \n",
       "TreatmntOFH -0.491  0.000 -0.001 -0.052              \n",
       "tmprtr_C_v_  0.040 -0.139  0.186 -0.001 -0.002       \n",
       "IntlWght_sc  0.084  0.000  0.000  0.111 -0.180  0.000"
      ]
     },
     "metadata": {},
     "output_type": "display_data"
    },
    {
     "data": {
      "text/html": [
       "<table class=\"dataframe\">\n",
       "<caption>A matrix: 1 × 2 of type dbl</caption>\n",
       "<thead>\n",
       "\t<tr><th scope=col>R2m</th><th scope=col>R2c</th></tr>\n",
       "</thead>\n",
       "<tbody>\n",
       "\t<tr><td>0.1360266</td><td>0.737207</td></tr>\n",
       "</tbody>\n",
       "</table>\n"
      ],
      "text/latex": [
       "A matrix: 1 × 2 of type dbl\n",
       "\\begin{tabular}{ll}\n",
       " R2m & R2c\\\\\n",
       "\\hline\n",
       "\t 0.1360266 & 0.737207\\\\\n",
       "\\end{tabular}\n"
      ],
      "text/markdown": [
       "\n",
       "A matrix: 1 × 2 of type dbl\n",
       "\n",
       "| R2m | R2c |\n",
       "|---|---|\n",
       "| 0.1360266 | 0.737207 |\n",
       "\n"
      ],
      "text/plain": [
       "     R2m       R2c     \n",
       "[1,] 0.1360266 0.737207"
      ]
     },
     "metadata": {},
     "output_type": "display_data"
    },
    {
     "data": {
      "image/png": "[encoded data removed]",
      "text/plain": [
       "Plot with title \"Normal Q-Q Plot\""
      ]
     },
     "metadata": {
      "image/png": {
       "height": 420,
       "width": 420
      }
     },
     "output_type": "display_data"
    },
    {
     "data": {
      "image/png": "[encoded data removed]",
      "text/plain": [
       "Plot with title \"Histogram of resid(MPL2)\""
      ]
     },
     "metadata": {
      "image/png": {
       "height": 420,
       "width": 420
      }
     },
     "output_type": "display_data"
    },
    {
     "data": {
      "image/png": "[encoded data removed]",
      "text/plain": [
       "plot without title"
      ]
     },
     "metadata": {
      "image/png": {
       "height": 420,
       "width": 420
      }
     },
     "output_type": "display_data"
    }
   ],
   "source": [
    "#test whether a nonlinear random slope over DIB improve model fit\n",
    "#https://stat.ethz.ch/pipermail/r-sig-mixed-models/2008q2/000918.html\n",
    "MPL2 = lmer(PC1 ~ time + time2 + avgDIB_scale + Treatment + temperature_C_avg_scale + InitialWeight_scale + (1 + time + time2|HenID), \n",
    "                REML=TRUE, data=df, control = lmerControl(optimizer ='optimx', optCtrl=list(method='nlminb')))\n",
    "summary(MPL2)\n",
    "r.squaredGLMM(MPL2)\n",
    "###### normally distributed residuals\n",
    "qqnorm(resid(MPL2))\n",
    "qqline(resid(MPL2))\n",
    "hist(resid(MPL2))\n",
    "######check homogeneity of variance (residuals has constant variance)\n",
    "plot(MPL2)"
   ]
  },
  {
   "cell_type": "code",
   "execution_count": 28,
   "metadata": {},
   "outputs": [],
   "source": [
    "#https://www.rdocumentation.org/packages/lme4/versions/1.1-26/topics/confint.merMod\n",
    "#confint(MPL2, oldNames=FALSE, method = \"profile\") "
   ]
  },
  {
   "cell_type": "code",
   "execution_count": 29,
   "metadata": {},
   "outputs": [
    {
     "data": {
      "text/plain": [
       "\n",
       "ORDINARY NONPARAMETRIC BOOTSTRAP\n",
       "\n",
       "\n",
       "Call:\n",
       "boot(data = df, statistic = li_CORR, R = 300, formula = PC1 ~ \n",
       "    time + time2 + avgDIB_scale + Treatment + temperature_C_avg_scale + \n",
       "        InitialWeight_scale + (1 + time + time2 | HenID))\n",
       "\n",
       "\n",
       "Bootstrap Statistics :\n",
       "      original      bias    std. error\n",
       "t1* -0.6884144 -0.03018331  0.02550931\n",
       "t2*  0.4052987  0.05698391  0.04389513\n",
       "t3* -0.8944362 -0.01415219  0.01016759"
      ]
     },
     "metadata": {},
     "output_type": "display_data"
    },
    {
     "data": {
      "text/plain": [
       "BOOTSTRAP CONFIDENCE INTERVAL CALCULATIONS\n",
       "Based on 300 bootstrap replicates\n",
       "\n",
       "CALL : \n",
       "boot.ci(boot.out = output, type = \"perc\", index = 1)\n",
       "\n",
       "Intervals : \n",
       "Level     Percentile     \n",
       "95%   (-0.7606, -0.6640 )  \n",
       "Calculations and Intervals on Original Scale\n",
       "Some percentile intervals may be unstable"
      ]
     },
     "metadata": {},
     "output_type": "display_data"
    },
    {
     "data": {
      "text/plain": [
       "BOOTSTRAP CONFIDENCE INTERVAL CALCULATIONS\n",
       "Based on 300 bootstrap replicates\n",
       "\n",
       "CALL : \n",
       "boot.ci(boot.out = output, type = \"perc\", index = 2)\n",
       "\n",
       "Intervals : \n",
       "Level     Percentile     \n",
       "95%   ( 0.3681,  0.5391 )  \n",
       "Calculations and Intervals on Original Scale\n",
       "Some percentile intervals may be unstable"
      ]
     },
     "metadata": {},
     "output_type": "display_data"
    },
    {
     "data": {
      "text/plain": [
       "BOOTSTRAP CONFIDENCE INTERVAL CALCULATIONS\n",
       "Based on 300 bootstrap replicates\n",
       "\n",
       "CALL : \n",
       "boot.ci(boot.out = output, type = \"perc\", index = 3)\n",
       "\n",
       "Intervals : \n",
       "Level     Percentile     \n",
       "95%   (-0.9266, -0.8867 )  \n",
       "Calculations and Intervals on Original Scale\n",
       "Some percentile intervals may be unstable"
      ]
     },
     "metadata": {},
     "output_type": "display_data"
    },
    {
     "data": {
      "image/png": "[encoded data removed]",
      "text/plain": [
       "Plot with title \"Histogram of t\""
      ]
     },
     "metadata": {
      "image/png": {
       "height": 420,
       "width": 420
      }
     },
     "output_type": "display_data"
    }
   ],
   "source": [
    "# Creating Function to obtain R-Squared from the data\n",
    "li_CORR <- function(formula, data, indices) {\n",
    "    val <- data[indices,] # selecting sample with boot \n",
    "    mod_ = lmer(formula, REML=TRUE, data=val, control = lmerControl(optimizer ='optimx', optCtrl=list(method='nlminb')))\n",
    "    ranef_vals = data.frame(VarCorr(mod_))\n",
    "    return(c(ranef_vals$sdcor[4], ranef_vals$sdcor[5],ranef_vals$sdcor[6]))\n",
    "    #return(ranef_vals$sdcor[4])\n",
    "} \n",
    "# Performing 1500 replications with boot \n",
    "#R: nbr of bootstrap replicates.\n",
    "#statistic: The function should include an indices parameter that the boot() function can use to select cases for each \n",
    "#replication\n",
    "set.seed(1)\n",
    "#we can add the parameters that has to be passed to the function that produces the statistic of interest, in this case: formula\n",
    "output <- boot(data=df, statistic=li_CORR, R=300, formula=PC1 ~ time + time2 + avgDIB_scale + Treatment + temperature_C_avg_scale + InitialWeight_scale + (1 + time + time2|HenID))\n",
    "output\n",
    "# Plotting the output \n",
    "plot(output)\n",
    "\n",
    "# Obtaining a confidence interval of 95%\n",
    "boot.ci(output, type=\"perc\", index=1)\n",
    "boot.ci(output, type=\"perc\", index=2)\n",
    "boot.ci(output, type=\"perc\", index=3)"
   ]
  },
  {
   "cell_type": "code",
   "execution_count": 30,
   "metadata": {},
   "outputs": [
    {
     "data": {
      "text/html": [
       "<table class=\"dataframe\">\n",
       "<caption>A data.frame: 7 × 5</caption>\n",
       "<thead>\n",
       "\t<tr><th scope=col>grp</th><th scope=col>var1</th><th scope=col>var2</th><th scope=col>vcov</th><th scope=col>sdcor</th></tr>\n",
       "\t<tr><th scope=col>&lt;chr&gt;</th><th scope=col>&lt;chr&gt;</th><th scope=col>&lt;chr&gt;</th><th scope=col>&lt;dbl&gt;</th><th scope=col>&lt;dbl&gt;</th></tr>\n",
       "</thead>\n",
       "<tbody>\n",
       "\t<tr><td>HenID   </td><td>(Intercept)</td><td>NA   </td><td> 1.25023987</td><td> 1.1181413</td></tr>\n",
       "\t<tr><td>HenID   </td><td>time       </td><td>NA   </td><td> 0.79362560</td><td> 0.8908567</td></tr>\n",
       "\t<tr><td>HenID   </td><td>time2      </td><td>NA   </td><td> 0.04674971</td><td> 0.2162168</td></tr>\n",
       "\t<tr><td>HenID   </td><td>(Intercept)</td><td>time </td><td>-0.68573205</td><td>-0.6884144</td></tr>\n",
       "\t<tr><td>HenID   </td><td>(Intercept)</td><td>time2</td><td> 0.09798539</td><td> 0.4052987</td></tr>\n",
       "\t<tr><td>HenID   </td><td>time       </td><td>time2</td><td>-0.17228469</td><td>-0.8944362</td></tr>\n",
       "\t<tr><td>Residual</td><td>NA         </td><td>NA   </td><td> 0.25835531</td><td> 0.5082866</td></tr>\n",
       "</tbody>\n",
       "</table>\n"
      ],
      "text/latex": [
       "A data.frame: 7 × 5\n",
       "\\begin{tabular}{lllll}\n",
       " grp & var1 & var2 & vcov & sdcor\\\\\n",
       " <chr> & <chr> & <chr> & <dbl> & <dbl>\\\\\n",
       "\\hline\n",
       "\t HenID    & (Intercept) & NA    &  1.25023987 &  1.1181413\\\\\n",
       "\t HenID    & time        & NA    &  0.79362560 &  0.8908567\\\\\n",
       "\t HenID    & time2       & NA    &  0.04674971 &  0.2162168\\\\\n",
       "\t HenID    & (Intercept) & time  & -0.68573205 & -0.6884144\\\\\n",
       "\t HenID    & (Intercept) & time2 &  0.09798539 &  0.4052987\\\\\n",
       "\t HenID    & time        & time2 & -0.17228469 & -0.8944362\\\\\n",
       "\t Residual & NA          & NA    &  0.25835531 &  0.5082866\\\\\n",
       "\\end{tabular}\n"
      ],
      "text/markdown": [
       "\n",
       "A data.frame: 7 × 5\n",
       "\n",
       "| grp &lt;chr&gt; | var1 &lt;chr&gt; | var2 &lt;chr&gt; | vcov &lt;dbl&gt; | sdcor &lt;dbl&gt; |\n",
       "|---|---|---|---|---|\n",
       "| HenID    | (Intercept) | NA    |  1.25023987 |  1.1181413 |\n",
       "| HenID    | time        | NA    |  0.79362560 |  0.8908567 |\n",
       "| HenID    | time2       | NA    |  0.04674971 |  0.2162168 |\n",
       "| HenID    | (Intercept) | time  | -0.68573205 | -0.6884144 |\n",
       "| HenID    | (Intercept) | time2 |  0.09798539 |  0.4052987 |\n",
       "| HenID    | time        | time2 | -0.17228469 | -0.8944362 |\n",
       "| Residual | NA          | NA    |  0.25835531 |  0.5082866 |\n",
       "\n"
      ],
      "text/plain": [
       "  grp      var1        var2  vcov        sdcor     \n",
       "1 HenID    (Intercept) NA     1.25023987  1.1181413\n",
       "2 HenID    time        NA     0.79362560  0.8908567\n",
       "3 HenID    time2       NA     0.04674971  0.2162168\n",
       "4 HenID    (Intercept) time  -0.68573205 -0.6884144\n",
       "5 HenID    (Intercept) time2  0.09798539  0.4052987\n",
       "6 HenID    time        time2 -0.17228469 -0.8944362\n",
       "7 Residual NA          NA     0.25835531  0.5082866"
      ]
     },
     "metadata": {},
     "output_type": "display_data"
    },
    {
     "data": {
      "text/html": [
       "-0.688414399322686"
      ],
      "text/latex": [
       "-0.688414399322686"
      ],
      "text/markdown": [
       "-0.688414399322686"
      ],
      "text/plain": [
       "[1] -0.6884144"
      ]
     },
     "metadata": {},
     "output_type": "display_data"
    },
    {
     "data": {
      "text/html": [
       "0.405298678949493"
      ],
      "text/latex": [
       "0.405298678949493"
      ],
      "text/markdown": [
       "0.405298678949493"
      ],
      "text/plain": [
       "[1] 0.4052987"
      ]
     },
     "metadata": {},
     "output_type": "display_data"
    },
    {
     "data": {
      "text/html": [
       "-0.894436187479545"
      ],
      "text/latex": [
       "-0.894436187479545"
      ],
      "text/markdown": [
       "-0.894436187479545"
      ],
      "text/plain": [
       "[1] -0.8944362"
      ]
     },
     "metadata": {},
     "output_type": "display_data"
    }
   ],
   "source": [
    "ranef_vals = data.frame(VarCorr(MPL2))\n",
    "ranef_vals\n",
    "ranef_vals$sdcor[4]#intercept time\n",
    "ranef_vals$sdcor[5]#intercept time2\n",
    "ranef_vals$sdcor[6]#time time2"
   ]
  },
  {
   "cell_type": "markdown",
   "metadata": {},
   "source": [
    "### third order"
   ]
  },
  {
   "cell_type": "code",
   "execution_count": 31,
   "metadata": {},
   "outputs": [
    {
     "data": {
      "text/plain": [
       "Linear mixed model fit by REML. t-tests use Satterthwaite's method [\n",
       "lmerModLmerTest]\n",
       "Formula: \n",
       "PC1 ~ time + time2 + time3 + avgDIB_scale + Treatment + temperature_C_avg_scale +  \n",
       "    InitialWeight_scale + (1 + time + time2 | HenID)\n",
       "   Data: df\n",
       "Control: lmerControl(optimizer = \"optimx\", optCtrl = list(method = \"nlminb\"))\n",
       "\n",
       "REML criterion at convergence: 5568.5\n",
       "\n",
       "Scaled residuals: \n",
       "    Min      1Q  Median      3Q     Max \n",
       "-4.2104 -0.5814 -0.0178  0.5628  4.4951 \n",
       "\n",
       "Random effects:\n",
       " Groups   Name        Variance Std.Dev. Corr       \n",
       " HenID    (Intercept) 1.25130  1.1186              \n",
       "          time        0.79449  0.8913   -0.69      \n",
       "          time2       0.04679  0.2163    0.41 -0.89\n",
       " Residual             0.25839  0.5083              \n",
       "Number of obs: 3230, groups:  HenID, 80\n",
       "\n",
       "Fixed effects:\n",
       "                          Estimate Std. Error         df t value Pr(>|t|)    \n",
       "(Intercept)             -6.848e-01  1.495e-01  1.059e+02  -4.581 1.27e-05 ***\n",
       "time                     1.173e+00  1.324e-01  1.887e+02   8.861 5.85e-16 ***\n",
       "time2                   -2.883e-01  6.134e-02  1.557e+03  -4.699 2.84e-06 ***\n",
       "time3                    7.318e-03  1.053e-02  2.996e+03   0.695  0.48730    \n",
       "avgDIB_scale             4.909e-02  6.985e-02  7.607e+01   0.703  0.48433    \n",
       "TreatmentOFH            -2.907e-01  1.418e-01  7.600e+01  -2.050  0.04379 *  \n",
       "temperature_C_avg_scale -2.810e-02  1.053e-02  2.991e+03  -2.668  0.00766 ** \n",
       "InitialWeight_scale     -6.736e-02  7.128e-02  7.600e+01  -0.945  0.34767    \n",
       "---\n",
       "Signif. codes:  0 '***' 0.001 '**' 0.01 '*' 0.05 '.' 0.1 ' ' 1\n",
       "\n",
       "Correlation of Fixed Effects:\n",
       "            (Intr) time   time2  time3  avDIB_ TrtOFH tm_C__\n",
       "time        -0.578                                          \n",
       "time2        0.301 -0.846                                   \n",
       "time3       -0.155  0.586 -0.901                            \n",
       "avgDIB_scal  0.006 -0.007  0.008 -0.008                     \n",
       "TreatmntOFH -0.484 -0.002  0.003 -0.003 -0.052              \n",
       "tmprtr_C_v_  0.021 -0.044 -0.025  0.117 -0.002 -0.002       \n",
       "IntlWght_sc  0.083  0.000  0.000  0.000  0.111 -0.180  0.000"
      ]
     },
     "metadata": {},
     "output_type": "display_data"
    },
    {
     "data": {
      "text/html": [
       "<table class=\"dataframe\">\n",
       "<caption>A matrix: 1 × 2 of type dbl</caption>\n",
       "<thead>\n",
       "\t<tr><th scope=col>R2m</th><th scope=col>R2c</th></tr>\n",
       "</thead>\n",
       "<tbody>\n",
       "\t<tr><td>0.1360992</td><td>0.7372506</td></tr>\n",
       "</tbody>\n",
       "</table>\n"
      ],
      "text/latex": [
       "A matrix: 1 × 2 of type dbl\n",
       "\\begin{tabular}{ll}\n",
       " R2m & R2c\\\\\n",
       "\\hline\n",
       "\t 0.1360992 & 0.7372506\\\\\n",
       "\\end{tabular}\n"
      ],
      "text/markdown": [
       "\n",
       "A matrix: 1 × 2 of type dbl\n",
       "\n",
       "| R2m | R2c |\n",
       "|---|---|\n",
       "| 0.1360992 | 0.7372506 |\n",
       "\n"
      ],
      "text/plain": [
       "     R2m       R2c      \n",
       "[1,] 0.1360992 0.7372506"
      ]
     },
     "metadata": {},
     "output_type": "display_data"
    },
    {
     "data": {
      "image/png": "[encoded data removed]",
      "text/plain": [
       "Plot with title \"Normal Q-Q Plot\""
      ]
     },
     "metadata": {
      "image/png": {
       "height": 420,
       "width": 420
      }
     },
     "output_type": "display_data"
    },
    {
     "data": {
      "image/png": "[encoded data removed]",
      "text/plain": [
       "Plot with title \"Histogram of resid(MPL3)\""
      ]
     },
     "metadata": {
      "image/png": {
       "height": 420,
       "width": 420
      }
     },
     "output_type": "display_data"
    },
    {
     "data": {
      "image/png": "[encoded data removed]",
      "text/plain": [
       "plot without title"
      ]
     },
     "metadata": {
      "image/png": {
       "height": 420,
       "width": 420
      }
     },
     "output_type": "display_data"
    }
   ],
   "source": [
    "#test whether a nonlinear random slope over DIB improve model fit\n",
    "MPL3 = lmer(PC1 ~ time + time2 + time3 + avgDIB_scale + Treatment + temperature_C_avg_scale + InitialWeight_scale + (1 + time + time2|HenID), \n",
    "                REML=TRUE, data=df, control = lmerControl(optimizer ='optimx', optCtrl=list(method='nlminb')))\n",
    "summary(MPL3)\n",
    "r.squaredGLMM(MPL3)\n",
    "###### normally distributed residuals\n",
    "qqnorm(resid(MPL3))\n",
    "qqline(resid(MPL3))\n",
    "hist(resid(MPL3))\n",
    "######check homogeneity of variance (residuals has constant variance)\n",
    "plot(MPL3)"
   ]
  },
  {
   "cell_type": "markdown",
   "metadata": {},
   "source": [
    "## Comparing models"
   ]
  },
  {
   "cell_type": "code",
   "execution_count": 32,
   "metadata": {},
   "outputs": [
    {
     "data": {
      "text/plain": [
       "Linear mixed model fit by REML. t-tests use Satterthwaite's method [\n",
       "lmerModLmerTest]\n",
       "Formula: \n",
       "PC1 ~ time + time2 + avgDIB_scale + Treatment + temperature_C_avg_scale +  \n",
       "    InitialWeight_scale + (1 | HenID)\n",
       "   Data: df\n",
       "\n",
       "REML criterion at convergence: 6954.6\n",
       "\n",
       "Scaled residuals: \n",
       "    Min      1Q  Median      3Q     Max \n",
       "-3.0846 -0.5988  0.0091  0.6238  3.8914 \n",
       "\n",
       "Random effects:\n",
       " Groups   Name        Variance Std.Dev.\n",
       " HenID    (Intercept) 0.3845   0.6201  \n",
       " Residual             0.4581   0.6768  \n",
       "Number of obs: 3230, groups:  HenID, 80\n",
       "\n",
       "Fixed effects:\n",
       "                          Estimate Std. Error         df t value Pr(>|t|)    \n",
       "(Intercept)               -0.60730    0.10817   97.82941  -5.614 1.85e-07 ***\n",
       "time                       1.06421    0.05197 3147.31629  20.479  < 2e-16 ***\n",
       "time2                     -0.23694    0.01445 3147.35186 -16.398  < 2e-16 ***\n",
       "avgDIB_scale               0.05577    0.07052   76.05190   0.791   0.4315    \n",
       "TreatmentOFH              -0.31706    0.14316   76.00714  -2.215   0.0298 *  \n",
       "temperature_C_avg_scale   -0.02710    0.01391 3147.24531  -1.949   0.0514 .  \n",
       "InitialWeight_scale       -0.05638    0.07197   76.00939  -0.783   0.4358    \n",
       "---\n",
       "Signif. codes:  0 '***' 0.001 '**' 0.01 '*' 0.05 '.' 0.1 ' ' 1\n",
       "\n",
       "Correlation of Fixed Effects:\n",
       "            (Intr) time   time2  avDIB_ TrtOFH tm_C__\n",
       "time        -0.317                                   \n",
       "time2        0.274 -0.971                            \n",
       "avgDIB_scal  0.007 -0.008  0.006                     \n",
       "TreatmntOFH -0.676  0.002 -0.003 -0.052              \n",
       "tmprtr_C_v_  0.071 -0.377  0.450 -0.001 -0.003       \n",
       "IntlWght_sc  0.116  0.001 -0.001  0.112 -0.180  0.000"
      ]
     },
     "metadata": {},
     "output_type": "display_data"
    },
    {
     "data": {
      "text/html": [
       "<table class=\"dataframe\">\n",
       "<caption>A matrix: 1 × 2 of type dbl</caption>\n",
       "<thead>\n",
       "\t<tr><th scope=col>R2m</th><th scope=col>R2c</th></tr>\n",
       "</thead>\n",
       "<tbody>\n",
       "\t<tr><td>0.1317943</td><td>0.5279932</td></tr>\n",
       "</tbody>\n",
       "</table>\n"
      ],
      "text/latex": [
       "A matrix: 1 × 2 of type dbl\n",
       "\\begin{tabular}{ll}\n",
       " R2m & R2c\\\\\n",
       "\\hline\n",
       "\t 0.1317943 & 0.5279932\\\\\n",
       "\\end{tabular}\n"
      ],
      "text/markdown": [
       "\n",
       "A matrix: 1 × 2 of type dbl\n",
       "\n",
       "| R2m | R2c |\n",
       "|---|---|\n",
       "| 0.1317943 | 0.5279932 |\n",
       "\n"
      ],
      "text/plain": [
       "     R2m       R2c      \n",
       "[1,] 0.1317943 0.5279932"
      ]
     },
     "metadata": {},
     "output_type": "display_data"
    },
    {
     "data": {
      "image/png": "[encoded data removed]",
      "text/plain": [
       "Plot with title \"Normal Q-Q Plot\""
      ]
     },
     "metadata": {
      "image/png": {
       "height": 420,
       "width": 420
      }
     },
     "output_type": "display_data"
    },
    {
     "data": {
      "image/png": "[encoded data removed]",
      "text/plain": [
       "Plot with title \"Histogram of resid(MAVG_compare)\""
      ]
     },
     "metadata": {
      "image/png": {
       "height": 420,
       "width": 420
      }
     },
     "output_type": "display_data"
    },
    {
     "data": {
      "image/png": "[encoded data removed]",
      "text/plain": [
       "plot without title"
      ]
     },
     "metadata": {
      "image/png": {
       "height": 420,
       "width": 420
      }
     },
     "output_type": "display_data"
    }
   ],
   "source": [
    "#to compare with: RI same as previously selected but with RELM = TRUE, beause two models with nested random structures cannot \n",
    "#be done with ML as the estimators for the variance terms are biased under ML \n",
    "MAVG_compare = lmerTest::lmer(PC1 ~ time + time2 + avgDIB_scale + Treatment + temperature_C_avg_scale + InitialWeight_scale + (1|HenID), REML=TRUE, data = df)\n",
    "summary(MAVG_compare)\n",
    "r.squaredGLMM(MAVG_compare)\n",
    "###### normally distributed residuals\n",
    "qqnorm(resid(MAVG_compare))\n",
    "qqline(resid(MAVG_compare))\n",
    "hist(resid(MAVG_compare))\n",
    "######check homogeneity of variance (residuals has constant variance)\n",
    "plot(MAVG_compare)"
   ]
  },
  {
   "cell_type": "code",
   "execution_count": 33,
   "metadata": {
    "scrolled": true
   },
   "outputs": [
    {
     "data": {
      "text/html": [
       "<table class=\"dataframe\">\n",
       "<caption>A data.frame: 4 × 2</caption>\n",
       "<thead>\n",
       "\t<tr><th></th><th scope=col>df</th><th scope=col>AIC</th></tr>\n",
       "\t<tr><th></th><th scope=col>&lt;dbl&gt;</th><th scope=col>&lt;dbl&gt;</th></tr>\n",
       "</thead>\n",
       "<tbody>\n",
       "\t<tr><th scope=row>MAVG_compare</th><td> 9</td><td>6972.565</td></tr>\n",
       "\t<tr><th scope=row>MPL1</th><td>11</td><td>5892.547</td></tr>\n",
       "\t<tr><th scope=row>MPL2</th><td>14</td><td>5589.740</td></tr>\n",
       "\t<tr><th scope=row>MPL3</th><td>15</td><td>5598.526</td></tr>\n",
       "</tbody>\n",
       "</table>\n"
      ],
      "text/latex": [
       "A data.frame: 4 × 2\n",
       "\\begin{tabular}{r|ll}\n",
       "  & df & AIC\\\\\n",
       "  & <dbl> & <dbl>\\\\\n",
       "\\hline\n",
       "\tMAVG\\_compare &  9 & 6972.565\\\\\n",
       "\tMPL1 & 11 & 5892.547\\\\\n",
       "\tMPL2 & 14 & 5589.740\\\\\n",
       "\tMPL3 & 15 & 5598.526\\\\\n",
       "\\end{tabular}\n"
      ],
      "text/markdown": [
       "\n",
       "A data.frame: 4 × 2\n",
       "\n",
       "| <!--/--> | df &lt;dbl&gt; | AIC &lt;dbl&gt; |\n",
       "|---|---|---|\n",
       "| MAVG_compare |  9 | 6972.565 |\n",
       "| MPL1 | 11 | 5892.547 |\n",
       "| MPL2 | 14 | 5589.740 |\n",
       "| MPL3 | 15 | 5598.526 |\n",
       "\n"
      ],
      "text/plain": [
       "             df AIC     \n",
       "MAVG_compare  9 6972.565\n",
       "MPL1         11 5892.547\n",
       "MPL2         14 5589.740\n",
       "MPL3         15 5598.526"
      ]
     },
     "metadata": {},
     "output_type": "display_data"
    }
   ],
   "source": [
    "AIC(MAVG_compare, MPL1, MPL2, MPL3)"
   ]
  },
  {
   "cell_type": "code",
   "execution_count": 38,
   "metadata": {},
   "outputs": [
    {
     "data": {
      "text/plain": [
       "Linear mixed model fit by REML. t-tests use Satterthwaite's method [\n",
       "lmerModLmerTest]\n",
       "Formula: \n",
       "PC1 ~ time + time2 + avgDIB_scale + Treatment + temperature_C_avg_scale +  \n",
       "    InitialWeight_scale + (1 + time + time2 | HenID)\n",
       "   Data: df\n",
       "Control: lmerControl(optimizer = \"optimx\", optCtrl = list(method = \"nlminb\"))\n",
       "\n",
       "REML criterion at convergence: 5561.7\n",
       "\n",
       "Scaled residuals: \n",
       "    Min      1Q  Median      3Q     Max \n",
       "-4.2055 -0.5846 -0.0197  0.5667  4.5113 \n",
       "\n",
       "Random effects:\n",
       " Groups   Name        Variance Std.Dev. Corr       \n",
       " HenID    (Intercept) 1.25024  1.1181              \n",
       "          time        0.79363  0.8909   -0.69      \n",
       "          time2       0.04675  0.2162    0.41 -0.89\n",
       " Residual             0.25836  0.5083              \n",
       "Number of obs: 3230, groups:  HenID, 80\n",
       "\n",
       "Fixed effects:\n",
       "                          Estimate Std. Error         df t value Pr(>|t|)    \n",
       "(Intercept)               -0.66875    0.14764  100.98302  -4.530 1.62e-05 ***\n",
       "time                       1.11954    0.10728   82.37110  10.436  < 2e-16 ***\n",
       "time2                     -0.24986    0.02657   85.46672  -9.405 7.77e-15 ***\n",
       "avgDIB_scale               0.04945    0.06984   76.06047   0.708  0.48112    \n",
       "TreatmentOFH              -0.29031    0.14177   76.00209  -2.048  0.04404 *  \n",
       "temperature_C_avg_scale   -0.02895    0.01046 2991.85838  -2.769  0.00566 ** \n",
       "InitialWeight_scale       -0.06729    0.07127   75.99671  -0.944  0.34807    \n",
       "---\n",
       "Signif. codes:  0 '***' 0.001 '**' 0.01 '*' 0.05 '.' 0.1 ' ' 1\n",
       "\n",
       "Correlation of Fixed Effects:\n",
       "            (Intr) time   time2  avDIB_ TrtOFH tm_C__\n",
       "time        -0.608                                   \n",
       "time2        0.377 -0.905                            \n",
       "avgDIB_scal  0.004 -0.003  0.003                     \n",
       "TreatmntOFH -0.491  0.000 -0.001 -0.052              \n",
       "tmprtr_C_v_  0.040 -0.139  0.186 -0.001 -0.002       \n",
       "IntlWght_sc  0.084  0.000  0.000  0.111 -0.180  0.000"
      ]
     },
     "metadata": {},
     "output_type": "display_data"
    },
    {
     "data": {
      "text/html": [
       "<table class=\"dataframe\">\n",
       "<caption>A matrix: 1 × 2 of type dbl</caption>\n",
       "<thead>\n",
       "\t<tr><th scope=col>R2m</th><th scope=col>R2c</th></tr>\n",
       "</thead>\n",
       "<tbody>\n",
       "\t<tr><td>0.1360266</td><td>0.737207</td></tr>\n",
       "</tbody>\n",
       "</table>\n"
      ],
      "text/latex": [
       "A matrix: 1 × 2 of type dbl\n",
       "\\begin{tabular}{ll}\n",
       " R2m & R2c\\\\\n",
       "\\hline\n",
       "\t 0.1360266 & 0.737207\\\\\n",
       "\\end{tabular}\n"
      ],
      "text/markdown": [
       "\n",
       "A matrix: 1 × 2 of type dbl\n",
       "\n",
       "| R2m | R2c |\n",
       "|---|---|\n",
       "| 0.1360266 | 0.737207 |\n",
       "\n"
      ],
      "text/plain": [
       "     R2m       R2c     \n",
       "[1,] 0.1360266 0.737207"
      ]
     },
     "metadata": {},
     "output_type": "display_data"
    },
    {
     "data": {
      "image/png": "[encoded data removed]",
      "text/plain": [
       "Plot with title \"Normal Q-Q Plot\""
      ]
     },
     "metadata": {
      "image/png": {
       "height": 420,
       "width": 420
      }
     },
     "output_type": "display_data"
    },
    {
     "data": {
      "image/png": "[encoded data removed]",
      "text/plain": [
       "Plot with title \"Histogram of resid(MPL2)\""
      ]
     },
     "metadata": {
      "image/png": {
       "height": 420,
       "width": 420
      }
     },
     "output_type": "display_data"
    },
    {
     "data": {
      "image/png": "[encoded data removed]",
      "text/plain": [
       "plot without title"
      ]
     },
     "metadata": {
      "image/png": {
       "height": 420,
       "width": 420
      }
     },
     "output_type": "display_data"
    }
   ],
   "source": [
    "#test whether a nonlinear random slope over DIB improve model fit\n",
    "#https://stat.ethz.ch/pipermail/r-sig-mixed-models/2008q2/000918.html\n",
    "MPL2_test = lmer(PC1 ~ time + time2 + avgDIB_scale + Treatment + temperature_C_avg_scale + InitialWeight_scale + (1+time+time2|HenID), \n",
    "                REML=TRUE, data=df, control = lmerControl(optimizer ='optimx', optCtrl=list(method='nlminb')))\n",
    "summary(MPL2)\n",
    "r.squaredGLMM(MPL2)\n",
    "###### normally distributed residuals\n",
    "qqnorm(resid(MPL2))\n",
    "qqline(resid(MPL2))\n",
    "hist(resid(MPL2))\n",
    "######check homogeneity of variance (residuals has constant variance)\n",
    "plot(MPL2)"
   ]
  },
  {
   "cell_type": "code",
   "execution_count": 36,
   "metadata": {},
   "outputs": [
    {
     "data": {
      "text/html": [
       "<table class=\"dataframe\">\n",
       "<caption>A data.frame: 5 × 2</caption>\n",
       "<thead>\n",
       "\t<tr><th></th><th scope=col>df</th><th scope=col>AIC</th></tr>\n",
       "\t<tr><th></th><th scope=col>&lt;dbl&gt;</th><th scope=col>&lt;dbl&gt;</th></tr>\n",
       "</thead>\n",
       "<tbody>\n",
       "\t<tr><th scope=row>MAVG_compare</th><td> 9</td><td>6972.565</td></tr>\n",
       "\t<tr><th scope=row>MPL1</th><td>11</td><td>5892.547</td></tr>\n",
       "\t<tr><th scope=row>MPL2</th><td>14</td><td>5589.740</td></tr>\n",
       "\t<tr><th scope=row>MPL3</th><td>15</td><td>5598.526</td></tr>\n",
       "\t<tr><th scope=row>MPL2_test</th><td>14</td><td>5702.295</td></tr>\n",
       "</tbody>\n",
       "</table>\n"
      ],
      "text/latex": [
       "A data.frame: 5 × 2\n",
       "\\begin{tabular}{r|ll}\n",
       "  & df & AIC\\\\\n",
       "  & <dbl> & <dbl>\\\\\n",
       "\\hline\n",
       "\tMAVG\\_compare &  9 & 6972.565\\\\\n",
       "\tMPL1 & 11 & 5892.547\\\\\n",
       "\tMPL2 & 14 & 5589.740\\\\\n",
       "\tMPL3 & 15 & 5598.526\\\\\n",
       "\tMPL2\\_test & 14 & 5702.295\\\\\n",
       "\\end{tabular}\n"
      ],
      "text/markdown": [
       "\n",
       "A data.frame: 5 × 2\n",
       "\n",
       "| <!--/--> | df &lt;dbl&gt; | AIC &lt;dbl&gt; |\n",
       "|---|---|---|\n",
       "| MAVG_compare |  9 | 6972.565 |\n",
       "| MPL1 | 11 | 5892.547 |\n",
       "| MPL2 | 14 | 5589.740 |\n",
       "| MPL3 | 15 | 5598.526 |\n",
       "| MPL2_test | 14 | 5702.295 |\n",
       "\n"
      ],
      "text/plain": [
       "             df AIC     \n",
       "MAVG_compare  9 6972.565\n",
       "MPL1         11 5892.547\n",
       "MPL2         14 5589.740\n",
       "MPL3         15 5598.526\n",
       "MPL2_test    14 5702.295"
      ]
     },
     "metadata": {},
     "output_type": "display_data"
    }
   ],
   "source": [
    "AIC(MAVG_compare, MPL1, MPL2, MPL3, MPL2_test)"
   ]
  },
  {
   "cell_type": "code",
   "execution_count": null,
   "metadata": {},
   "outputs": [],
   "source": []
  },
  {
   "cell_type": "code",
   "execution_count": 49,
   "metadata": {},
   "outputs": [
    {
     "data": {
      "text/html": [
       "<table class=\"dataframe\">\n",
       "<caption>A data.frame: 2 × 2</caption>\n",
       "<thead>\n",
       "\t<tr><th></th><th scope=col>df</th><th scope=col>AIC</th></tr>\n",
       "\t<tr><th></th><th scope=col>&lt;dbl&gt;</th><th scope=col>&lt;dbl&gt;</th></tr>\n",
       "</thead>\n",
       "<tbody>\n",
       "\t<tr><th scope=row>MAVG_compare</th><td> 9</td><td>6972.565</td></tr>\n",
       "\t<tr><th scope=row>MPL1</th><td>11</td><td>5892.547</td></tr>\n",
       "</tbody>\n",
       "</table>\n"
      ],
      "text/latex": [
       "A data.frame: 2 × 2\n",
       "\\begin{tabular}{r|ll}\n",
       "  & df & AIC\\\\\n",
       "  & <dbl> & <dbl>\\\\\n",
       "\\hline\n",
       "\tMAVG\\_compare &  9 & 6972.565\\\\\n",
       "\tMPL1 & 11 & 5892.547\\\\\n",
       "\\end{tabular}\n"
      ],
      "text/markdown": [
       "\n",
       "A data.frame: 2 × 2\n",
       "\n",
       "| <!--/--> | df &lt;dbl&gt; | AIC &lt;dbl&gt; |\n",
       "|---|---|---|\n",
       "| MAVG_compare |  9 | 6972.565 |\n",
       "| MPL1 | 11 | 5892.547 |\n",
       "\n"
      ],
      "text/plain": [
       "             df AIC     \n",
       "MAVG_compare  9 6972.565\n",
       "MPL1         11 5892.547"
      ]
     },
     "metadata": {},
     "output_type": "display_data"
    },
    {
     "data": {
      "text/plain": [
       "'log Lik.' 0 (df=9)"
      ]
     },
     "metadata": {},
     "output_type": "display_data"
    }
   ],
   "source": [
    "#LRT from anova is not correct anymore as we compare parameters that are on the boundery (random effects)\n",
    "#LRT MAVG_compare and MPL1 (i.e. compare  model with the random intercept and the model with random intercept and slope)\n",
    "#Same as the citation https://link.springer.com/content/pdf/10.1007%2F978-0-387-87458-6_5.pdf (chapter 5 of the book)\n",
    "#summary(MAVG_nopen_noclass)$logLik\n",
    "#summary(MPL1)$logLik\n",
    "AIC(MAVG_compare, MPL1)\n",
    "L = -2*(summary(MAVG_compare)$logLik -summary(MPL1)$logLik)\n",
    "pval = 0.5 * ((1 - pchisq(L, df=1)) + (1 - pchisq(L, df=2))) #1-pchisq to have the right side of the curve\n",
    "pval\n",
    "#if p-value < 0.001. reject H0, This means that adding random slope to the model is a significant improvement"
   ]
  },
  {
   "cell_type": "code",
   "execution_count": 51,
   "metadata": {},
   "outputs": [
    {
     "name": "stderr",
     "output_type": "stream",
     "text": [
      "refitting model(s) with ML (instead of REML)\n",
      "\n"
     ]
    },
    {
     "data": {
      "text/html": [
       "<table class=\"dataframe\">\n",
       "<caption>A anova: 2 × 8</caption>\n",
       "<thead>\n",
       "\t<tr><th></th><th scope=col>npar</th><th scope=col>AIC</th><th scope=col>BIC</th><th scope=col>logLik</th><th scope=col>deviance</th><th scope=col>Chisq</th><th scope=col>Df</th><th scope=col>Pr(&gt;Chisq)</th></tr>\n",
       "\t<tr><th></th><th scope=col>&lt;dbl&gt;</th><th scope=col>&lt;dbl&gt;</th><th scope=col>&lt;dbl&gt;</th><th scope=col>&lt;dbl&gt;</th><th scope=col>&lt;dbl&gt;</th><th scope=col>&lt;dbl&gt;</th><th scope=col>&lt;dbl&gt;</th><th scope=col>&lt;dbl&gt;</th></tr>\n",
       "</thead>\n",
       "<tbody>\n",
       "\t<tr><th scope=row>MAVG_compare</th><td> 9</td><td>6939.407</td><td>6994.129</td><td>-3460.704</td><td>6921.407</td><td>      NA</td><td>NA</td><td>           NA</td></tr>\n",
       "\t<tr><th scope=row>MPL1</th><td>11</td><td>5861.176</td><td>5928.059</td><td>-2919.588</td><td>5839.176</td><td>1082.231</td><td> 2</td><td>9.920125e-236</td></tr>\n",
       "</tbody>\n",
       "</table>\n"
      ],
      "text/latex": [
       "A anova: 2 × 8\n",
       "\\begin{tabular}{r|llllllll}\n",
       "  & npar & AIC & BIC & logLik & deviance & Chisq & Df & Pr(>Chisq)\\\\\n",
       "  & <dbl> & <dbl> & <dbl> & <dbl> & <dbl> & <dbl> & <dbl> & <dbl>\\\\\n",
       "\\hline\n",
       "\tMAVG\\_compare &  9 & 6939.407 & 6994.129 & -3460.704 & 6921.407 &       NA & NA &            NA\\\\\n",
       "\tMPL1 & 11 & 5861.176 & 5928.059 & -2919.588 & 5839.176 & 1082.231 &  2 & 9.920125e-236\\\\\n",
       "\\end{tabular}\n"
      ],
      "text/markdown": [
       "\n",
       "A anova: 2 × 8\n",
       "\n",
       "| <!--/--> | npar &lt;dbl&gt; | AIC &lt;dbl&gt; | BIC &lt;dbl&gt; | logLik &lt;dbl&gt; | deviance &lt;dbl&gt; | Chisq &lt;dbl&gt; | Df &lt;dbl&gt; | Pr(&gt;Chisq) &lt;dbl&gt; |\n",
       "|---|---|---|---|---|---|---|---|---|\n",
       "| MAVG_compare |  9 | 6939.407 | 6994.129 | -3460.704 | 6921.407 |       NA | NA |            NA |\n",
       "| MPL1 | 11 | 5861.176 | 5928.059 | -2919.588 | 5839.176 | 1082.231 |  2 | 9.920125e-236 |\n",
       "\n"
      ],
      "text/plain": [
       "             npar AIC      BIC      logLik    deviance Chisq    Df\n",
       "MAVG_compare  9   6939.407 6994.129 -3460.704 6921.407       NA NA\n",
       "MPL1         11   5861.176 5928.059 -2919.588 5839.176 1082.231  2\n",
       "             Pr(>Chisq)   \n",
       "MAVG_compare            NA\n",
       "MPL1         9.920125e-236"
      ]
     },
     "metadata": {},
     "output_type": "display_data"
    }
   ],
   "source": [
    "anova(MAVG_compare,MPL1)"
   ]
  },
  {
   "cell_type": "code",
   "execution_count": 42,
   "metadata": {},
   "outputs": [
    {
     "name": "stderr",
     "output_type": "stream",
     "text": [
      "refitting model(s) with ML (instead of REML)\n",
      "\n"
     ]
    },
    {
     "data": {
      "text/html": [
       "<table class=\"dataframe\">\n",
       "<caption>A anova: 3 × 8</caption>\n",
       "<thead>\n",
       "\t<tr><th></th><th scope=col>npar</th><th scope=col>AIC</th><th scope=col>BIC</th><th scope=col>logLik</th><th scope=col>deviance</th><th scope=col>Chisq</th><th scope=col>Df</th><th scope=col>Pr(&gt;Chisq)</th></tr>\n",
       "\t<tr><th></th><th scope=col>&lt;dbl&gt;</th><th scope=col>&lt;dbl&gt;</th><th scope=col>&lt;dbl&gt;</th><th scope=col>&lt;dbl&gt;</th><th scope=col>&lt;dbl&gt;</th><th scope=col>&lt;dbl&gt;</th><th scope=col>&lt;dbl&gt;</th><th scope=col>&lt;dbl&gt;</th></tr>\n",
       "</thead>\n",
       "<tbody>\n",
       "\t<tr><th scope=row>MAVG_compare</th><td> 9</td><td>6939.407</td><td>6994.129</td><td>-3460.704</td><td>6921.407</td><td>       NA</td><td>NA</td><td>           NA</td></tr>\n",
       "\t<tr><th scope=row>MPL1</th><td>11</td><td>5861.176</td><td>5928.059</td><td>-2919.588</td><td>5839.176</td><td>1082.2310</td><td> 2</td><td>9.920125e-236</td></tr>\n",
       "\t<tr><th scope=row>MPL2</th><td>14</td><td>5560.007</td><td>5645.131</td><td>-2766.004</td><td>5532.007</td><td> 307.1686</td><td> 3</td><td> 2.793936e-66</td></tr>\n",
       "</tbody>\n",
       "</table>\n"
      ],
      "text/latex": [
       "A anova: 3 × 8\n",
       "\\begin{tabular}{r|llllllll}\n",
       "  & npar & AIC & BIC & logLik & deviance & Chisq & Df & Pr(>Chisq)\\\\\n",
       "  & <dbl> & <dbl> & <dbl> & <dbl> & <dbl> & <dbl> & <dbl> & <dbl>\\\\\n",
       "\\hline\n",
       "\tMAVG\\_compare &  9 & 6939.407 & 6994.129 & -3460.704 & 6921.407 &        NA & NA &            NA\\\\\n",
       "\tMPL1 & 11 & 5861.176 & 5928.059 & -2919.588 & 5839.176 & 1082.2310 &  2 & 9.920125e-236\\\\\n",
       "\tMPL2 & 14 & 5560.007 & 5645.131 & -2766.004 & 5532.007 &  307.1686 &  3 &  2.793936e-66\\\\\n",
       "\\end{tabular}\n"
      ],
      "text/markdown": [
       "\n",
       "A anova: 3 × 8\n",
       "\n",
       "| <!--/--> | npar &lt;dbl&gt; | AIC &lt;dbl&gt; | BIC &lt;dbl&gt; | logLik &lt;dbl&gt; | deviance &lt;dbl&gt; | Chisq &lt;dbl&gt; | Df &lt;dbl&gt; | Pr(&gt;Chisq) &lt;dbl&gt; |\n",
       "|---|---|---|---|---|---|---|---|---|\n",
       "| MAVG_compare |  9 | 6939.407 | 6994.129 | -3460.704 | 6921.407 |        NA | NA |            NA |\n",
       "| MPL1 | 11 | 5861.176 | 5928.059 | -2919.588 | 5839.176 | 1082.2310 |  2 | 9.920125e-236 |\n",
       "| MPL2 | 14 | 5560.007 | 5645.131 | -2766.004 | 5532.007 |  307.1686 |  3 |  2.793936e-66 |\n",
       "\n"
      ],
      "text/plain": [
       "             npar AIC      BIC      logLik    deviance Chisq     Df\n",
       "MAVG_compare  9   6939.407 6994.129 -3460.704 6921.407        NA NA\n",
       "MPL1         11   5861.176 5928.059 -2919.588 5839.176 1082.2310  2\n",
       "MPL2         14   5560.007 5645.131 -2766.004 5532.007  307.1686  3\n",
       "             Pr(>Chisq)   \n",
       "MAVG_compare            NA\n",
       "MPL1         9.920125e-236\n",
       "MPL2          2.793936e-66"
      ]
     },
     "metadata": {},
     "output_type": "display_data"
    }
   ],
   "source": [
    "anova(MAVG_compare,MPL1,MPL2)"
   ]
  },
  {
   "cell_type": "code",
   "execution_count": null,
   "metadata": {},
   "outputs": [],
   "source": [
    "#number of parameters: covariates between random effects!\n",
    "#http://www.bristol.ac.uk/cmm/learning/videos/random-slopes.html\n",
    "#https://stats.stackexchange.com/questions/180230/number-of-parameters-in-mixed-model"
   ]
  },
  {
   "cell_type": "code",
   "execution_count": 43,
   "metadata": {},
   "outputs": [
    {
     "data": {
      "text/plain": [
       "'log Lik.' 0 (df=14)"
      ]
     },
     "metadata": {},
     "output_type": "display_data"
    }
   ],
   "source": [
    "#p.23 of supplements of the guide provided in the paper as citation: Arnold, P. A., Kruuk, L. E. B. & Nicotra, A. B. \n",
    "#How to analyse plant phenotypic plasticity in response to a changing climate. New Phytologist 222, 1235–1241 (2019).\n",
    "chi2 = 2*(summary(MPL2)$logLik -summary(MPL1)$logLik) #p.23\n",
    "(1-pchisq(chi2, 3))"
   ]
  },
  {
   "cell_type": "code",
   "execution_count": 64,
   "metadata": {},
   "outputs": [
    {
     "data": {
      "text/plain": [
       "'log Lik.' 0 (df=11)"
      ]
     },
     "metadata": {},
     "output_type": "display_data"
    }
   ],
   "source": [
    "#or same as formula as before give same results too:\n",
    "L = -2*(summary(MPL1)$logLik -summary(MPL2)$logLik)\n",
    "pval = 0.5 * ((1 - pchisq(L, df=2)) + (1 - pchisq(L, df=3))) \n",
    "pval"
   ]
  },
  {
   "cell_type": "markdown",
   "metadata": {},
   "source": [
    "# Save BLUPS estimates"
   ]
  },
  {
   "cell_type": "code",
   "execution_count": 32,
   "metadata": {},
   "outputs": [
    {
     "data": {
      "text/html": [
       "<table class=\"dataframe\">\n",
       "<caption>A data.frame: 3 × 6</caption>\n",
       "<thead>\n",
       "\t<tr><th></th><th scope=col>groupFctr</th><th scope=col>groupID</th><th scope=col>term</th><th scope=col>mean</th><th scope=col>median</th><th scope=col>sd</th></tr>\n",
       "\t<tr><th></th><th scope=col>&lt;chr&gt;</th><th scope=col>&lt;chr&gt;</th><th scope=col>&lt;chr&gt;</th><th scope=col>&lt;dbl&gt;</th><th scope=col>&lt;dbl&gt;</th><th scope=col>&lt;dbl&gt;</th></tr>\n",
       "</thead>\n",
       "<tbody>\n",
       "\t<tr><th scope=row>1</th><td>HenID</td><td>hen_10 </td><td>(Intercept)</td><td>-0.4629900</td><td>-0.4578683</td><td>0.1929582</td></tr>\n",
       "\t<tr><th scope=row>2</th><td>HenID</td><td>hen_101</td><td>(Intercept)</td><td> 0.5049087</td><td> 0.5040936</td><td>0.1863260</td></tr>\n",
       "\t<tr><th scope=row>3</th><td>HenID</td><td>hen_102</td><td>(Intercept)</td><td>-1.3716680</td><td>-1.3654082</td><td>0.1701152</td></tr>\n",
       "</tbody>\n",
       "</table>\n"
      ],
      "text/latex": [
       "A data.frame: 3 × 6\n",
       "\\begin{tabular}{r|llllll}\n",
       "  & groupFctr & groupID & term & mean & median & sd\\\\\n",
       "  & <chr> & <chr> & <chr> & <dbl> & <dbl> & <dbl>\\\\\n",
       "\\hline\n",
       "\t1 & HenID & hen\\_10  & (Intercept) & -0.4629900 & -0.4578683 & 0.1929582\\\\\n",
       "\t2 & HenID & hen\\_101 & (Intercept) &  0.5049087 &  0.5040936 & 0.1863260\\\\\n",
       "\t3 & HenID & hen\\_102 & (Intercept) & -1.3716680 & -1.3654082 & 0.1701152\\\\\n",
       "\\end{tabular}\n"
      ],
      "text/markdown": [
       "\n",
       "A data.frame: 3 × 6\n",
       "\n",
       "| <!--/--> | groupFctr &lt;chr&gt; | groupID &lt;chr&gt; | term &lt;chr&gt; | mean &lt;dbl&gt; | median &lt;dbl&gt; | sd &lt;dbl&gt; |\n",
       "|---|---|---|---|---|---|---|\n",
       "| 1 | HenID | hen_10  | (Intercept) | -0.4629900 | -0.4578683 | 0.1929582 |\n",
       "| 2 | HenID | hen_101 | (Intercept) |  0.5049087 |  0.5040936 | 0.1863260 |\n",
       "| 3 | HenID | hen_102 | (Intercept) | -1.3716680 | -1.3654082 | 0.1701152 |\n",
       "\n"
      ],
      "text/plain": [
       "  groupFctr groupID term        mean       median     sd       \n",
       "1 HenID     hen_10  (Intercept) -0.4629900 -0.4578683 0.1929582\n",
       "2 HenID     hen_101 (Intercept)  0.5049087  0.5040936 0.1863260\n",
       "3 HenID     hen_102 (Intercept) -1.3716680 -1.3654082 0.1701152"
      ]
     },
     "metadata": {},
     "output_type": "display_data"
    }
   ],
   "source": [
    "#BLUP intercepts: behavioural type individual estiamtes with mer-Tools (obtaining repeated samples from the posterior distribution\n",
    "#of the model from which we can calculate the stdev for each individual)\n",
    "#as PC1 is not interpretable as much as \"total distance travelled\" would, we wont add the population-level estimate\n",
    "#done in \"studing...\"\n",
    "#as for our purpose it wont change anything\n",
    "set.seed(1)\n",
    "simulated_individualbehaviouraltype = REsim(MAVG_nopen_noclass, n.sims = 1000)\n",
    "head(simulated_individualbehaviouraltype,3)\n",
    "write.csv(simulated_individualbehaviouraltype,file.path(path_adapt,'BLUP_RI.csv'),row.names = FALSE)"
   ]
  },
  {
   "cell_type": "code",
   "execution_count": 33,
   "metadata": {},
   "outputs": [
    {
     "data": {
      "text/html": [
       "<table class=\"dataframe\">\n",
       "<caption>A data.frame: 3 × 6</caption>\n",
       "<thead>\n",
       "\t<tr><th></th><th scope=col>groupFctr</th><th scope=col>groupID</th><th scope=col>term</th><th scope=col>mean</th><th scope=col>median</th><th scope=col>sd</th></tr>\n",
       "\t<tr><th></th><th scope=col>&lt;chr&gt;</th><th scope=col>&lt;chr&gt;</th><th scope=col>&lt;chr&gt;</th><th scope=col>&lt;dbl&gt;</th><th scope=col>&lt;dbl&gt;</th><th scope=col>&lt;dbl&gt;</th></tr>\n",
       "</thead>\n",
       "<tbody>\n",
       "\t<tr><th scope=row>1</th><td>HenID</td><td>hen_10 </td><td>(Intercept)</td><td>-0.5861989</td><td>-0.601151</td><td>0.4292578</td></tr>\n",
       "\t<tr><th scope=row>2</th><td>HenID</td><td>hen_101</td><td>(Intercept)</td><td> 1.3328486</td><td> 1.341114</td><td>0.4996878</td></tr>\n",
       "\t<tr><th scope=row>3</th><td>HenID</td><td>hen_102</td><td>(Intercept)</td><td>-1.0508464</td><td>-1.034537</td><td>0.4619583</td></tr>\n",
       "</tbody>\n",
       "</table>\n"
      ],
      "text/latex": [
       "A data.frame: 3 × 6\n",
       "\\begin{tabular}{r|llllll}\n",
       "  & groupFctr & groupID & term & mean & median & sd\\\\\n",
       "  & <chr> & <chr> & <chr> & <dbl> & <dbl> & <dbl>\\\\\n",
       "\\hline\n",
       "\t1 & HenID & hen\\_10  & (Intercept) & -0.5861989 & -0.601151 & 0.4292578\\\\\n",
       "\t2 & HenID & hen\\_101 & (Intercept) &  1.3328486 &  1.341114 & 0.4996878\\\\\n",
       "\t3 & HenID & hen\\_102 & (Intercept) & -1.0508464 & -1.034537 & 0.4619583\\\\\n",
       "\\end{tabular}\n"
      ],
      "text/markdown": [
       "\n",
       "A data.frame: 3 × 6\n",
       "\n",
       "| <!--/--> | groupFctr &lt;chr&gt; | groupID &lt;chr&gt; | term &lt;chr&gt; | mean &lt;dbl&gt; | median &lt;dbl&gt; | sd &lt;dbl&gt; |\n",
       "|---|---|---|---|---|---|---|\n",
       "| 1 | HenID | hen_10  | (Intercept) | -0.5861989 | -0.601151 | 0.4292578 |\n",
       "| 2 | HenID | hen_101 | (Intercept) |  1.3328486 |  1.341114 | 0.4996878 |\n",
       "| 3 | HenID | hen_102 | (Intercept) | -1.0508464 | -1.034537 | 0.4619583 |\n",
       "\n"
      ],
      "text/plain": [
       "  groupFctr groupID term        mean       median    sd       \n",
       "1 HenID     hen_10  (Intercept) -0.5861989 -0.601151 0.4292578\n",
       "2 HenID     hen_101 (Intercept)  1.3328486  1.341114 0.4996878\n",
       "3 HenID     hen_102 (Intercept) -1.0508464 -1.034537 0.4619583"
      ]
     },
     "metadata": {},
     "output_type": "display_data"
    }
   ],
   "source": [
    "#BLUP: individual estimates with uncertainty values\n",
    "set.seed(1)\n",
    "#REsim already synthesis results compare to the sim(). I verified manually\n",
    "simulated_individualplasticity = REsim(MPL2, n.sim = 1000)\n",
    "head(simulated_individualplasticity,3)\n",
    "write.csv(simulated_individualplasticity, file.path(path_adapt,'BLUP_RR.csv'), row.names = FALSE)"
   ]
  },
  {
   "cell_type": "markdown",
   "metadata": {},
   "source": [
    "# Save predictions "
   ]
  },
  {
   "cell_type": "code",
   "execution_count": 34,
   "metadata": {},
   "outputs": [
    {
     "data": {
      "text/html": [
       "<table class=\"dataframe\">\n",
       "<caption>A data.frame: 3 × 35</caption>\n",
       "<thead>\n",
       "\t<tr><th></th><th scope=col>HenID</th><th scope=col>DIB</th><th scope=col>CLASS</th><th scope=col>PenID</th><th scope=col>temperature_C_avg</th><th scope=col>tobeusedPCA</th><th scope=col>InitialWeight</th><th scope=col>Treatment</th><th scope=col>perc_duration_5_Zone</th><th scope=col>perc_duration_4_Zone</th><th scope=col>...</th><th scope=col>PC1</th><th scope=col>cDIB</th><th scope=col>temperature_C_avg_scale</th><th scope=col>time</th><th scope=col>time2</th><th scope=col>time3</th><th scope=col>avgDIB_scale</th><th scope=col>InitialWeight_scale</th><th scope=col>pred_pop</th><th scope=col>pred_HenID</th></tr>\n",
       "\t<tr><th></th><th scope=col>&lt;fct&gt;</th><th scope=col>&lt;int&gt;</th><th scope=col>&lt;fct&gt;</th><th scope=col>&lt;fct&gt;</th><th scope=col>&lt;dbl&gt;</th><th scope=col>&lt;int&gt;</th><th scope=col>&lt;int&gt;</th><th scope=col>&lt;fct&gt;</th><th scope=col>&lt;int&gt;</th><th scope=col>&lt;int&gt;</th><th scope=col>...</th><th scope=col>&lt;dbl&gt;</th><th scope=col>&lt;int&gt;</th><th scope=col>&lt;dbl[,1]&gt;</th><th scope=col>&lt;dbl[,1]&gt;</th><th scope=col>&lt;dbl&gt;</th><th scope=col>&lt;dbl&gt;</th><th scope=col>&lt;dbl[,1]&gt;</th><th scope=col>&lt;dbl[,1]&gt;</th><th scope=col>&lt;dbl&gt;</th><th scope=col>&lt;dbl&gt;</th></tr>\n",
       "</thead>\n",
       "<tbody>\n",
       "\t<tr><th scope=row>1</th><td>hen_134</td><td>11</td><td>MEXP</td><td>pen10</td><td>11.50000</td><td>1</td><td>1112</td><td>TRAN</td><td>100</td><td>0</td><td>...</td><td>-1.738433</td><td>0</td><td> 0.2080966</td><td>0.0000000</td><td>0.000000000</td><td>0.0000000000</td><td>-0.3677554</td><td>-0.9142959</td><td>-0.5819114</td><td>-1.0060080</td></tr>\n",
       "\t<tr><th scope=row>2</th><td>hen_134</td><td>12</td><td>MEXP</td><td>pen10</td><td>10.16667</td><td>0</td><td>1112</td><td>TRAN</td><td> 86</td><td>0</td><td>...</td><td>-1.455477</td><td>1</td><td>-0.2112122</td><td>0.0811546</td><td>0.006586069</td><td>0.0005344898</td><td>-0.3677554</td><td>-0.9142959</td><td>-0.4857389</td><td>-0.9098356</td></tr>\n",
       "\t<tr><th scope=row>3</th><td>hen_134</td><td>13</td><td>MEXP</td><td>pen10</td><td> 9.00000</td><td>0</td><td>1112</td><td>TRAN</td><td>100</td><td>0</td><td>...</td><td>-1.738433</td><td>2</td><td>-0.5781073</td><td>0.1623092</td><td>0.026344277</td><td>0.0042759186</td><td>-0.3677554</td><td>-0.9142959</td><td>-0.3941084</td><td>-0.8182050</td></tr>\n",
       "</tbody>\n",
       "</table>\n"
      ],
      "text/latex": [
       "A data.frame: 3 × 35\n",
       "\\begin{tabular}{r|lllllllllllllllllllll}\n",
       "  & HenID & DIB & CLASS & PenID & temperature\\_C\\_avg & tobeusedPCA & InitialWeight & Treatment & perc\\_duration\\_5\\_Zone & perc\\_duration\\_4\\_Zone & ... & PC1 & cDIB & temperature\\_C\\_avg\\_scale & time & time2 & time3 & avgDIB\\_scale & InitialWeight\\_scale & pred\\_pop & pred\\_HenID\\\\\n",
       "  & <fct> & <int> & <fct> & <fct> & <dbl> & <int> & <int> & <fct> & <int> & <int> & ... & <dbl> & <int> & <dbl{[},1{]}> & <dbl{[},1{]}> & <dbl> & <dbl> & <dbl{[},1{]}> & <dbl{[},1{]}> & <dbl> & <dbl>\\\\\n",
       "\\hline\n",
       "\t1 & hen\\_134 & 11 & MEXP & pen10 & 11.50000 & 1 & 1112 & TRAN & 100 & 0 & ... & -1.738433 & 0 &  0.2080966 & 0.0000000 & 0.000000000 & 0.0000000000 & -0.3677554 & -0.9142959 & -0.5819114 & -1.0060080\\\\\n",
       "\t2 & hen\\_134 & 12 & MEXP & pen10 & 10.16667 & 0 & 1112 & TRAN &  86 & 0 & ... & -1.455477 & 1 & -0.2112122 & 0.0811546 & 0.006586069 & 0.0005344898 & -0.3677554 & -0.9142959 & -0.4857389 & -0.9098356\\\\\n",
       "\t3 & hen\\_134 & 13 & MEXP & pen10 &  9.00000 & 0 & 1112 & TRAN & 100 & 0 & ... & -1.738433 & 2 & -0.5781073 & 0.1623092 & 0.026344277 & 0.0042759186 & -0.3677554 & -0.9142959 & -0.3941084 & -0.8182050\\\\\n",
       "\\end{tabular}\n"
      ],
      "text/markdown": [
       "\n",
       "A data.frame: 3 × 35\n",
       "\n",
       "| <!--/--> | HenID &lt;fct&gt; | DIB &lt;int&gt; | CLASS &lt;fct&gt; | PenID &lt;fct&gt; | temperature_C_avg &lt;dbl&gt; | tobeusedPCA &lt;int&gt; | InitialWeight &lt;int&gt; | Treatment &lt;fct&gt; | perc_duration_5_Zone &lt;int&gt; | perc_duration_4_Zone &lt;int&gt; | ... ... | PC1 &lt;dbl&gt; | cDIB &lt;int&gt; | temperature_C_avg_scale &lt;dbl[,1]&gt; | time &lt;dbl[,1]&gt; | time2 &lt;dbl&gt; | time3 &lt;dbl&gt; | avgDIB_scale &lt;dbl[,1]&gt; | InitialWeight_scale &lt;dbl[,1]&gt; | pred_pop &lt;dbl&gt; | pred_HenID &lt;dbl&gt; |\n",
       "|---|---|---|---|---|---|---|---|---|---|---|---|---|---|---|---|---|---|---|---|---|---|\n",
       "| 1 | hen_134 | 11 | MEXP | pen10 | 11.50000 | 1 | 1112 | TRAN | 100 | 0 | ... | -1.738433 | 0 |  0.2080966 | 0.0000000 | 0.000000000 | 0.0000000000 | -0.3677554 | -0.9142959 | -0.5819114 | -1.0060080 |\n",
       "| 2 | hen_134 | 12 | MEXP | pen10 | 10.16667 | 0 | 1112 | TRAN |  86 | 0 | ... | -1.455477 | 1 | -0.2112122 | 0.0811546 | 0.006586069 | 0.0005344898 | -0.3677554 | -0.9142959 | -0.4857389 | -0.9098356 |\n",
       "| 3 | hen_134 | 13 | MEXP | pen10 |  9.00000 | 0 | 1112 | TRAN | 100 | 0 | ... | -1.738433 | 2 | -0.5781073 | 0.1623092 | 0.026344277 | 0.0042759186 | -0.3677554 | -0.9142959 | -0.3941084 | -0.8182050 |\n",
       "\n"
      ],
      "text/plain": [
       "  HenID   DIB CLASS PenID temperature_C_avg tobeusedPCA InitialWeight Treatment\n",
       "1 hen_134 11  MEXP  pen10 11.50000          1           1112          TRAN     \n",
       "2 hen_134 12  MEXP  pen10 10.16667          0           1112          TRAN     \n",
       "3 hen_134 13  MEXP  pen10  9.00000          0           1112          TRAN     \n",
       "  perc_duration_5_Zone perc_duration_4_Zone ... PC1       cDIB\n",
       "1 100                  0                    ... -1.738433 0   \n",
       "2  86                  0                    ... -1.455477 1   \n",
       "3 100                  0                    ... -1.738433 2   \n",
       "  temperature_C_avg_scale time      time2       time3        avgDIB_scale\n",
       "1  0.2080966              0.0000000 0.000000000 0.0000000000 -0.3677554  \n",
       "2 -0.2112122              0.0811546 0.006586069 0.0005344898 -0.3677554  \n",
       "3 -0.5781073              0.1623092 0.026344277 0.0042759186 -0.3677554  \n",
       "  InitialWeight_scale pred_pop   pred_HenID\n",
       "1 -0.9142959          -0.5819114 -1.0060080\n",
       "2 -0.9142959          -0.4857389 -0.9098356\n",
       "3 -0.9142959          -0.3941084 -0.8182050"
      ]
     },
     "metadata": {},
     "output_type": "display_data"
    }
   ],
   "source": [
    "#daily predicted value, done in \"phenotypic plant...\"\n",
    "df$pred_pop  = predict(MAVG_nopen_noclass, re.form = NA) #no random effect\n",
    "#prediction for the individuals-level \"reaction norm\"\n",
    "df$pred_HenID = predict(MAVG_nopen_noclass, re.form = NULL)\n",
    "write.csv(df, file.path(path_adapt,'Prediction_RI.csv'), row.names = FALSE)\n",
    "head(df,3)"
   ]
  },
  {
   "cell_type": "code",
   "execution_count": 35,
   "metadata": {},
   "outputs": [
    {
     "data": {
      "text/html": [
       "<table class=\"dataframe\">\n",
       "<caption>A data.frame: 3 × 35</caption>\n",
       "<thead>\n",
       "\t<tr><th></th><th scope=col>HenID</th><th scope=col>DIB</th><th scope=col>CLASS</th><th scope=col>PenID</th><th scope=col>temperature_C_avg</th><th scope=col>tobeusedPCA</th><th scope=col>InitialWeight</th><th scope=col>Treatment</th><th scope=col>perc_duration_5_Zone</th><th scope=col>perc_duration_4_Zone</th><th scope=col>...</th><th scope=col>PC1</th><th scope=col>cDIB</th><th scope=col>temperature_C_avg_scale</th><th scope=col>time</th><th scope=col>time2</th><th scope=col>time3</th><th scope=col>avgDIB_scale</th><th scope=col>InitialWeight_scale</th><th scope=col>pred_pop</th><th scope=col>pred_HenID</th></tr>\n",
       "\t<tr><th></th><th scope=col>&lt;fct&gt;</th><th scope=col>&lt;int&gt;</th><th scope=col>&lt;fct&gt;</th><th scope=col>&lt;fct&gt;</th><th scope=col>&lt;dbl&gt;</th><th scope=col>&lt;int&gt;</th><th scope=col>&lt;int&gt;</th><th scope=col>&lt;fct&gt;</th><th scope=col>&lt;int&gt;</th><th scope=col>&lt;int&gt;</th><th scope=col>...</th><th scope=col>&lt;dbl&gt;</th><th scope=col>&lt;int&gt;</th><th scope=col>&lt;dbl[,1]&gt;</th><th scope=col>&lt;dbl[,1]&gt;</th><th scope=col>&lt;dbl&gt;</th><th scope=col>&lt;dbl&gt;</th><th scope=col>&lt;dbl[,1]&gt;</th><th scope=col>&lt;dbl[,1]&gt;</th><th scope=col>&lt;dbl&gt;</th><th scope=col>&lt;dbl&gt;</th></tr>\n",
       "</thead>\n",
       "<tbody>\n",
       "\t<tr><th scope=row>1</th><td>hen_134</td><td>11</td><td>MEXP</td><td>pen10</td><td>11.50000</td><td>1</td><td>1112</td><td>TRAN</td><td>100</td><td>0</td><td>...</td><td>-1.738433</td><td>0</td><td> 0.2080966</td><td>0.0000000</td><td>0.000000000</td><td>0.0000000000</td><td>-0.3677554</td><td>-0.9142959</td><td>-0.5930077</td><td>-1.840952</td></tr>\n",
       "\t<tr><th scope=row>2</th><td>hen_134</td><td>12</td><td>MEXP</td><td>pen10</td><td>10.16667</td><td>0</td><td>1112</td><td>TRAN</td><td> 86</td><td>0</td><td>...</td><td>-1.455477</td><td>1</td><td>-0.2112122</td><td>0.0811546</td><td>0.006586069</td><td>0.0005344898</td><td>-0.3677554</td><td>-0.9142959</td><td>-0.4942147</td><td>-1.706140</td></tr>\n",
       "\t<tr><th scope=row>3</th><td>hen_134</td><td>13</td><td>MEXP</td><td>pen10</td><td> 9.00000</td><td>0</td><td>1112</td><td>TRAN</td><td>100</td><td>0</td><td>...</td><td>-1.738433</td><td>2</td><td>-0.5781073</td><td>0.1623092</td><td>0.026344277</td><td>0.0042759186</td><td>-0.3677554</td><td>-0.9142959</td><td>-0.4000967</td><td>-1.576002</td></tr>\n",
       "</tbody>\n",
       "</table>\n"
      ],
      "text/latex": [
       "A data.frame: 3 × 35\n",
       "\\begin{tabular}{r|lllllllllllllllllllll}\n",
       "  & HenID & DIB & CLASS & PenID & temperature\\_C\\_avg & tobeusedPCA & InitialWeight & Treatment & perc\\_duration\\_5\\_Zone & perc\\_duration\\_4\\_Zone & ... & PC1 & cDIB & temperature\\_C\\_avg\\_scale & time & time2 & time3 & avgDIB\\_scale & InitialWeight\\_scale & pred\\_pop & pred\\_HenID\\\\\n",
       "  & <fct> & <int> & <fct> & <fct> & <dbl> & <int> & <int> & <fct> & <int> & <int> & ... & <dbl> & <int> & <dbl{[},1{]}> & <dbl{[},1{]}> & <dbl> & <dbl> & <dbl{[},1{]}> & <dbl{[},1{]}> & <dbl> & <dbl>\\\\\n",
       "\\hline\n",
       "\t1 & hen\\_134 & 11 & MEXP & pen10 & 11.50000 & 1 & 1112 & TRAN & 100 & 0 & ... & -1.738433 & 0 &  0.2080966 & 0.0000000 & 0.000000000 & 0.0000000000 & -0.3677554 & -0.9142959 & -0.5930077 & -1.840952\\\\\n",
       "\t2 & hen\\_134 & 12 & MEXP & pen10 & 10.16667 & 0 & 1112 & TRAN &  86 & 0 & ... & -1.455477 & 1 & -0.2112122 & 0.0811546 & 0.006586069 & 0.0005344898 & -0.3677554 & -0.9142959 & -0.4942147 & -1.706140\\\\\n",
       "\t3 & hen\\_134 & 13 & MEXP & pen10 &  9.00000 & 0 & 1112 & TRAN & 100 & 0 & ... & -1.738433 & 2 & -0.5781073 & 0.1623092 & 0.026344277 & 0.0042759186 & -0.3677554 & -0.9142959 & -0.4000967 & -1.576002\\\\\n",
       "\\end{tabular}\n"
      ],
      "text/markdown": [
       "\n",
       "A data.frame: 3 × 35\n",
       "\n",
       "| <!--/--> | HenID &lt;fct&gt; | DIB &lt;int&gt; | CLASS &lt;fct&gt; | PenID &lt;fct&gt; | temperature_C_avg &lt;dbl&gt; | tobeusedPCA &lt;int&gt; | InitialWeight &lt;int&gt; | Treatment &lt;fct&gt; | perc_duration_5_Zone &lt;int&gt; | perc_duration_4_Zone &lt;int&gt; | ... ... | PC1 &lt;dbl&gt; | cDIB &lt;int&gt; | temperature_C_avg_scale &lt;dbl[,1]&gt; | time &lt;dbl[,1]&gt; | time2 &lt;dbl&gt; | time3 &lt;dbl&gt; | avgDIB_scale &lt;dbl[,1]&gt; | InitialWeight_scale &lt;dbl[,1]&gt; | pred_pop &lt;dbl&gt; | pred_HenID &lt;dbl&gt; |\n",
       "|---|---|---|---|---|---|---|---|---|---|---|---|---|---|---|---|---|---|---|---|---|---|\n",
       "| 1 | hen_134 | 11 | MEXP | pen10 | 11.50000 | 1 | 1112 | TRAN | 100 | 0 | ... | -1.738433 | 0 |  0.2080966 | 0.0000000 | 0.000000000 | 0.0000000000 | -0.3677554 | -0.9142959 | -0.5930077 | -1.840952 |\n",
       "| 2 | hen_134 | 12 | MEXP | pen10 | 10.16667 | 0 | 1112 | TRAN |  86 | 0 | ... | -1.455477 | 1 | -0.2112122 | 0.0811546 | 0.006586069 | 0.0005344898 | -0.3677554 | -0.9142959 | -0.4942147 | -1.706140 |\n",
       "| 3 | hen_134 | 13 | MEXP | pen10 |  9.00000 | 0 | 1112 | TRAN | 100 | 0 | ... | -1.738433 | 2 | -0.5781073 | 0.1623092 | 0.026344277 | 0.0042759186 | -0.3677554 | -0.9142959 | -0.4000967 | -1.576002 |\n",
       "\n"
      ],
      "text/plain": [
       "  HenID   DIB CLASS PenID temperature_C_avg tobeusedPCA InitialWeight Treatment\n",
       "1 hen_134 11  MEXP  pen10 11.50000          1           1112          TRAN     \n",
       "2 hen_134 12  MEXP  pen10 10.16667          0           1112          TRAN     \n",
       "3 hen_134 13  MEXP  pen10  9.00000          0           1112          TRAN     \n",
       "  perc_duration_5_Zone perc_duration_4_Zone ... PC1       cDIB\n",
       "1 100                  0                    ... -1.738433 0   \n",
       "2  86                  0                    ... -1.455477 1   \n",
       "3 100                  0                    ... -1.738433 2   \n",
       "  temperature_C_avg_scale time      time2       time3        avgDIB_scale\n",
       "1  0.2080966              0.0000000 0.000000000 0.0000000000 -0.3677554  \n",
       "2 -0.2112122              0.0811546 0.006586069 0.0005344898 -0.3677554  \n",
       "3 -0.5781073              0.1623092 0.026344277 0.0042759186 -0.3677554  \n",
       "  InitialWeight_scale pred_pop   pred_HenID\n",
       "1 -0.9142959          -0.5930077 -1.840952 \n",
       "2 -0.9142959          -0.4942147 -1.706140 \n",
       "3 -0.9142959          -0.4000967 -1.576002 "
      ]
     },
     "metadata": {},
     "output_type": "display_data"
    }
   ],
   "source": [
    "#daily predicted value\n",
    "df$pred_pop  = predict(MPL1, re.form = NA) #no random effect\n",
    "#prediction for the individuals-level \"reaction norm\"\n",
    "df$pred_HenID = predict(MPL1, re.form = NULL)\n",
    "write.csv(df, file.path(path_adapt,'Prediction_RR_linear.csv'), row.names = FALSE)\n",
    "head(df,3)"
   ]
  },
  {
   "cell_type": "code",
   "execution_count": 36,
   "metadata": {
    "scrolled": true
   },
   "outputs": [
    {
     "data": {
      "text/html": [
       "<table class=\"dataframe\">\n",
       "<caption>A data.frame: 3 × 35</caption>\n",
       "<thead>\n",
       "\t<tr><th></th><th scope=col>HenID</th><th scope=col>DIB</th><th scope=col>CLASS</th><th scope=col>PenID</th><th scope=col>temperature_C_avg</th><th scope=col>tobeusedPCA</th><th scope=col>InitialWeight</th><th scope=col>Treatment</th><th scope=col>perc_duration_5_Zone</th><th scope=col>perc_duration_4_Zone</th><th scope=col>...</th><th scope=col>PC1</th><th scope=col>cDIB</th><th scope=col>temperature_C_avg_scale</th><th scope=col>time</th><th scope=col>time2</th><th scope=col>time3</th><th scope=col>avgDIB_scale</th><th scope=col>InitialWeight_scale</th><th scope=col>pred_pop</th><th scope=col>pred_HenID</th></tr>\n",
       "\t<tr><th></th><th scope=col>&lt;fct&gt;</th><th scope=col>&lt;int&gt;</th><th scope=col>&lt;fct&gt;</th><th scope=col>&lt;fct&gt;</th><th scope=col>&lt;dbl&gt;</th><th scope=col>&lt;int&gt;</th><th scope=col>&lt;int&gt;</th><th scope=col>&lt;fct&gt;</th><th scope=col>&lt;int&gt;</th><th scope=col>&lt;int&gt;</th><th scope=col>...</th><th scope=col>&lt;dbl&gt;</th><th scope=col>&lt;int&gt;</th><th scope=col>&lt;dbl[,1]&gt;</th><th scope=col>&lt;dbl[,1]&gt;</th><th scope=col>&lt;dbl&gt;</th><th scope=col>&lt;dbl&gt;</th><th scope=col>&lt;dbl[,1]&gt;</th><th scope=col>&lt;dbl[,1]&gt;</th><th scope=col>&lt;dbl&gt;</th><th scope=col>&lt;dbl&gt;</th></tr>\n",
       "</thead>\n",
       "<tbody>\n",
       "\t<tr><th scope=row>1</th><td>hen_134</td><td>11</td><td>MEXP</td><td>pen10</td><td>11.50000</td><td>1</td><td>1112</td><td>TRAN</td><td>100</td><td>0</td><td>...</td><td>-1.738433</td><td>0</td><td> 0.2080966</td><td>0.0000000</td><td>0.000000000</td><td>0.0000000000</td><td>-0.3677554</td><td>-0.9142959</td><td>-0.6314287</td><td>-1.920829</td></tr>\n",
       "\t<tr><th scope=row>2</th><td>hen_134</td><td>12</td><td>MEXP</td><td>pen10</td><td>10.16667</td><td>0</td><td>1112</td><td>TRAN</td><td> 86</td><td>0</td><td>...</td><td>-1.455477</td><td>1</td><td>-0.2112122</td><td>0.0811546</td><td>0.006586069</td><td>0.0005344898</td><td>-0.3677554</td><td>-0.9142959</td><td>-0.5300770</td><td>-1.775826</td></tr>\n",
       "\t<tr><th scope=row>3</th><td>hen_134</td><td>13</td><td>MEXP</td><td>pen10</td><td> 9.00000</td><td>0</td><td>1112</td><td>TRAN</td><td>100</td><td>0</td><td>...</td><td>-1.738433</td><td>2</td><td>-0.5781073</td><td>0.1623092</td><td>0.026344277</td><td>0.0042759186</td><td>-0.3677554</td><td>-0.9142959</td><td>-0.4335341</td><td>-1.635993</td></tr>\n",
       "</tbody>\n",
       "</table>\n"
      ],
      "text/latex": [
       "A data.frame: 3 × 35\n",
       "\\begin{tabular}{r|lllllllllllllllllllll}\n",
       "  & HenID & DIB & CLASS & PenID & temperature\\_C\\_avg & tobeusedPCA & InitialWeight & Treatment & perc\\_duration\\_5\\_Zone & perc\\_duration\\_4\\_Zone & ... & PC1 & cDIB & temperature\\_C\\_avg\\_scale & time & time2 & time3 & avgDIB\\_scale & InitialWeight\\_scale & pred\\_pop & pred\\_HenID\\\\\n",
       "  & <fct> & <int> & <fct> & <fct> & <dbl> & <int> & <int> & <fct> & <int> & <int> & ... & <dbl> & <int> & <dbl{[},1{]}> & <dbl{[},1{]}> & <dbl> & <dbl> & <dbl{[},1{]}> & <dbl{[},1{]}> & <dbl> & <dbl>\\\\\n",
       "\\hline\n",
       "\t1 & hen\\_134 & 11 & MEXP & pen10 & 11.50000 & 1 & 1112 & TRAN & 100 & 0 & ... & -1.738433 & 0 &  0.2080966 & 0.0000000 & 0.000000000 & 0.0000000000 & -0.3677554 & -0.9142959 & -0.6314287 & -1.920829\\\\\n",
       "\t2 & hen\\_134 & 12 & MEXP & pen10 & 10.16667 & 0 & 1112 & TRAN &  86 & 0 & ... & -1.455477 & 1 & -0.2112122 & 0.0811546 & 0.006586069 & 0.0005344898 & -0.3677554 & -0.9142959 & -0.5300770 & -1.775826\\\\\n",
       "\t3 & hen\\_134 & 13 & MEXP & pen10 &  9.00000 & 0 & 1112 & TRAN & 100 & 0 & ... & -1.738433 & 2 & -0.5781073 & 0.1623092 & 0.026344277 & 0.0042759186 & -0.3677554 & -0.9142959 & -0.4335341 & -1.635993\\\\\n",
       "\\end{tabular}\n"
      ],
      "text/markdown": [
       "\n",
       "A data.frame: 3 × 35\n",
       "\n",
       "| <!--/--> | HenID &lt;fct&gt; | DIB &lt;int&gt; | CLASS &lt;fct&gt; | PenID &lt;fct&gt; | temperature_C_avg &lt;dbl&gt; | tobeusedPCA &lt;int&gt; | InitialWeight &lt;int&gt; | Treatment &lt;fct&gt; | perc_duration_5_Zone &lt;int&gt; | perc_duration_4_Zone &lt;int&gt; | ... ... | PC1 &lt;dbl&gt; | cDIB &lt;int&gt; | temperature_C_avg_scale &lt;dbl[,1]&gt; | time &lt;dbl[,1]&gt; | time2 &lt;dbl&gt; | time3 &lt;dbl&gt; | avgDIB_scale &lt;dbl[,1]&gt; | InitialWeight_scale &lt;dbl[,1]&gt; | pred_pop &lt;dbl&gt; | pred_HenID &lt;dbl&gt; |\n",
       "|---|---|---|---|---|---|---|---|---|---|---|---|---|---|---|---|---|---|---|---|---|---|\n",
       "| 1 | hen_134 | 11 | MEXP | pen10 | 11.50000 | 1 | 1112 | TRAN | 100 | 0 | ... | -1.738433 | 0 |  0.2080966 | 0.0000000 | 0.000000000 | 0.0000000000 | -0.3677554 | -0.9142959 | -0.6314287 | -1.920829 |\n",
       "| 2 | hen_134 | 12 | MEXP | pen10 | 10.16667 | 0 | 1112 | TRAN |  86 | 0 | ... | -1.455477 | 1 | -0.2112122 | 0.0811546 | 0.006586069 | 0.0005344898 | -0.3677554 | -0.9142959 | -0.5300770 | -1.775826 |\n",
       "| 3 | hen_134 | 13 | MEXP | pen10 |  9.00000 | 0 | 1112 | TRAN | 100 | 0 | ... | -1.738433 | 2 | -0.5781073 | 0.1623092 | 0.026344277 | 0.0042759186 | -0.3677554 | -0.9142959 | -0.4335341 | -1.635993 |\n",
       "\n"
      ],
      "text/plain": [
       "  HenID   DIB CLASS PenID temperature_C_avg tobeusedPCA InitialWeight Treatment\n",
       "1 hen_134 11  MEXP  pen10 11.50000          1           1112          TRAN     \n",
       "2 hen_134 12  MEXP  pen10 10.16667          0           1112          TRAN     \n",
       "3 hen_134 13  MEXP  pen10  9.00000          0           1112          TRAN     \n",
       "  perc_duration_5_Zone perc_duration_4_Zone ... PC1       cDIB\n",
       "1 100                  0                    ... -1.738433 0   \n",
       "2  86                  0                    ... -1.455477 1   \n",
       "3 100                  0                    ... -1.738433 2   \n",
       "  temperature_C_avg_scale time      time2       time3        avgDIB_scale\n",
       "1  0.2080966              0.0000000 0.000000000 0.0000000000 -0.3677554  \n",
       "2 -0.2112122              0.0811546 0.006586069 0.0005344898 -0.3677554  \n",
       "3 -0.5781073              0.1623092 0.026344277 0.0042759186 -0.3677554  \n",
       "  InitialWeight_scale pred_pop   pred_HenID\n",
       "1 -0.9142959          -0.6314287 -1.920829 \n",
       "2 -0.9142959          -0.5300770 -1.775826 \n",
       "3 -0.9142959          -0.4335341 -1.635993 "
      ]
     },
     "metadata": {},
     "output_type": "display_data"
    }
   ],
   "source": [
    "#daily predicted value\n",
    "df$pred_pop  = predict(MPL2, re.form = NA) #no random effect\n",
    "#prediction for the individuals-level \"reaction norm\"\n",
    "df$pred_HenID = predict(MPL2, re.form = NULL)\n",
    "write.csv(df, file.path(path_adapt,'Prediction_RR_quadratic.csv'), row.names = FALSE)\n",
    "head(df,3)"
   ]
  },
  {
   "cell_type": "markdown",
   "metadata": {},
   "source": [
    "# Save fixed effects info"
   ]
  },
  {
   "cell_type": "code",
   "execution_count": 37,
   "metadata": {},
   "outputs": [],
   "source": [
    "df_fixedeffect_RI = as.data.frame(coef(summary(MAVG_nopen_noclass)))\n",
    "write.csv(df_fixedeffect_RI, file.path(path_adapt,'df_fixedeffect_RI.csv'), row.names = TRUE)\n",
    "\n",
    "df_fixedeffect_RS1 = as.data.frame(coef(summary(MPL1)))\n",
    "write.csv(df_fixedeffect_RS1, file.path(path_adapt,'df_fixedeffect_RS1.csv'), row.names = TRUE)\n",
    "\n",
    "df_fixedeffect_RS2 = as.data.frame(coef(summary(MPL2)))\n",
    "write.csv(df_fixedeffect_RS2, file.path(path_adapt,'df_fixedeffect_RS2.csv'), row.names = TRUE)"
   ]
  },
  {
   "cell_type": "code",
   "execution_count": null,
   "metadata": {},
   "outputs": [],
   "source": []
  },
  {
   "cell_type": "code",
   "execution_count": null,
   "metadata": {},
   "outputs": [],
   "source": []
  },
  {
   "cell_type": "code",
   "execution_count": null,
   "metadata": {},
   "outputs": [],
   "source": []
  },
  {
   "cell_type": "code",
   "execution_count": null,
   "metadata": {},
   "outputs": [],
   "source": []
  },
  {
   "cell_type": "code",
   "execution_count": null,
   "metadata": {},
   "outputs": [],
   "source": []
  }
 ],
 "metadata": {
  "kernelspec": {
   "display_name": " Rkernel ",
   "language": "R",
   "name": "rkernel"
  },
  "language_info": {
   "codemirror_mode": "r",
   "file_extension": ".r",
   "mimetype": "text/x-r-source",
   "name": "R",
   "pygments_lexer": "r",
   "version": "3.6.1"
  }
 },
 "nbformat": 4,
 "nbformat_minor": 4
}
