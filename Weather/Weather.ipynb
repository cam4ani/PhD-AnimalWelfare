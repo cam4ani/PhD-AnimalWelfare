{
 "cells": [
  {
   "cell_type": "code",
   "execution_count": 1,
   "metadata": {},
   "outputs": [],
   "source": [
    "#!pip install wolframalpha\n",
    "import datetime as dt\n",
    "import tqdm\n",
    "import os\n",
    "import pandas as pd\n",
    "import glob\n",
    "import numpy as np\n",
    "import sys\n",
    "\n",
    "import wolframalpha\n",
    "app_id = 'JU4PR2-E8JGQVLHXW'\n",
    "client = wolframalpha.Client(app_id)"
   ]
  },
  {
   "cell_type": "code",
   "execution_count": 2,
   "metadata": {},
   "outputs": [
    {
     "name": "stdout",
     "output_type": "stream",
     "text": [
      "3.8.5\n"
     ]
    }
   ],
   "source": [
    "from platform import python_version\n",
    "print(python_version())"
   ]
  },
  {
   "cell_type": "raw",
   "metadata": {},
   "source": [
    "To verify moon data:\n",
    "https://www.calendrier-lunaire.fr/calendrier/octobre-2020/\n",
    "https://www.pleine-lune.org/calendrier-lunaire-2020\n",
    "https://www.timeanddate.com/astronomy/moon/waning-crescent.html"
   ]
  },
  {
   "cell_type": "raw",
   "metadata": {},
   "source": [
    "#url parameter:\n",
    "#https://products.wolframalpha.com/simple-api/documentation/\n",
    "#http://api.wolframalpha.com/v2/query?appid=DEMO&input=population%20france&includepodid=Result\n",
    "http://api.wolframalpha.com/v2/query?appid=JU4PR2-E8JGQVLHXW&input=temperature%20Zollikofen&includepodid=Result"
   ]
  },
  {
   "cell_type": "markdown",
   "metadata": {},
   "source": [
    "#small example\n",
    "query = 'Precipitation amount in Zollikofen on October 6, 2020 1h'\n",
    "res = client.query(query)\n",
    "for t in res.results:\n",
    "    print(t.text)"
   ]
  },
  {
   "cell_type": "markdown",
   "metadata": {},
   "source": [
    "#small example\n",
    "query = 'Precipitation amount in Zollikofen '+d.strftime('%B')+' '+str(d.day)+', '+str(d.year)+' '+str(d.hour)+'h'\n",
    "res = client.query(query)\n",
    "for t in res.results:\n",
    "    print(t.text)"
   ]
  },
  {
   "cell_type": "markdown",
   "metadata": {},
   "source": [
    "#small example\n",
    "d = dt.datetime(2020,1,24,22,44,11)\n",
    "query = 'Moon Phase calculator'+d.strftime('%B')+' '+str(d.day)+', '+str(d.year)+' '+str(d.hour)+'h'\n",
    "res = client.query(query)\n",
    "r = ''\n",
    "for t in res.results:\n",
    "    print(t.text.strip('|').strip(' '))\n",
    "#for verification\n",
    "#https://www.pleine-lune.org/calendrier-lunaire-2020\n",
    "#res"
   ]
  },
  {
   "cell_type": "code",
   "execution_count": 3,
   "metadata": {},
   "outputs": [],
   "source": [
    "li_type = ['Precipitation amount', 'temperature', 'humidity', 'wind speed','Moon Phase calculator'] #pressure\n",
    "#path_ = r'D:\\vm_exchange\\PhD_Data\\Weather'\n",
    "path_ = r'C:\\Users\\camil\\Desktop\\vm_exchange\\PhD_Data\\Weather'"
   ]
  },
  {
   "cell_type": "code",
   "execution_count": 4,
   "metadata": {},
   "outputs": [
    {
     "name": "stdout",
     "output_type": "stream",
     "text": [
      "(5239, 7)\n",
      "We already have 5239 dates of weather\n",
      "(36, 7)\n"
     ]
    },
    {
     "data": {
      "text/html": [
       "<div>\n",
       "<style scoped>\n",
       "    .dataframe tbody tr th:only-of-type {\n",
       "        vertical-align: middle;\n",
       "    }\n",
       "\n",
       "    .dataframe tbody tr th {\n",
       "        vertical-align: top;\n",
       "    }\n",
       "\n",
       "    .dataframe thead th {\n",
       "        text-align: right;\n",
       "    }\n",
       "</style>\n",
       "<table border=\"1\" class=\"dataframe\">\n",
       "  <thead>\n",
       "    <tr style=\"text-align: right;\">\n",
       "      <th></th>\n",
       "      <th>date</th>\n",
       "      <th>temperature</th>\n",
       "      <th>humidity</th>\n",
       "      <th>wind speed</th>\n",
       "      <th>Precipitation amount</th>\n",
       "      <th>query</th>\n",
       "      <th>Moon Phase calculator</th>\n",
       "    </tr>\n",
       "  </thead>\n",
       "  <tbody>\n",
       "    <tr>\n",
       "      <th>5158</th>\n",
       "      <td>2020-11-05 22:00:00</td>\n",
       "      <td>8 °C\\n(10:00 pm CET | Thursday, November 5, 2020)</td>\n",
       "      <td>ERROR</td>\n",
       "      <td>1 m/s\\n(10:00 pm CET | Thursday, November 5, 2...</td>\n",
       "      <td>(unknown)\\n(10:00 pm CET | Thursday, November ...</td>\n",
       "      <td>Moon Phase calculatorNovember 5, 2020 22h</td>\n",
       "      <td>| waning gibbous moon\\n76.55% illuminated</td>\n",
       "    </tr>\n",
       "    <tr>\n",
       "      <th>5159</th>\n",
       "      <td>2020-11-16 19:00:00</td>\n",
       "      <td>7 °C\\n(7:00 pm CET | Monday, November 16, 2020)</td>\n",
       "      <td>ERROR</td>\n",
       "      <td>1 m/s\\n(7:00 pm CET | Monday, November 16, 2020)</td>\n",
       "      <td>(unknown)\\n(7:00 pm CET | Monday, November 16,...</td>\n",
       "      <td>Moon Phase calculatorNovember 16, 2020 19h</td>\n",
       "      <td>| waxing crescent moon\\n3.48% illuminated</td>\n",
       "    </tr>\n",
       "    <tr>\n",
       "      <th>5160</th>\n",
       "      <td>2020-11-16 21:00:00</td>\n",
       "      <td>5 °C\\n(9:00 pm CET | Monday, November 16, 2020)</td>\n",
       "      <td>ERROR</td>\n",
       "      <td>0 m/s\\n(9:00 pm CET | Monday, November 16, 2020)</td>\n",
       "      <td>(unknown)\\n(9:00 pm CET | Monday, November 16,...</td>\n",
       "      <td>Moon Phase calculatorNovember 16, 2020 21h</td>\n",
       "      <td>| waxing crescent moon\\n3.86% illuminated</td>\n",
       "    </tr>\n",
       "    <tr>\n",
       "      <th>5161</th>\n",
       "      <td>2020-12-15 21:00:00</td>\n",
       "      <td>4 °C\\n(9:00 pm CET | Tuesday, December 15, 2020)</td>\n",
       "      <td>ERROR</td>\n",
       "      <td>1 m/s\\n(9:00 pm CET | Tuesday, December 15, 2020)</td>\n",
       "      <td>(unknown)\\n(9:00 pm CET | Tuesday, December 15...</td>\n",
       "      <td>Moon Phase calculatorDecember 15, 2020 21h</td>\n",
       "      <td>| waxing crescent moon\\n1.86% illuminated</td>\n",
       "    </tr>\n",
       "    <tr>\n",
       "      <th>5162</th>\n",
       "      <td>2021-02-08 17:00:00</td>\n",
       "      <td>5 °C\\n(5:00 pm CET | Monday, February 8, 2021)</td>\n",
       "      <td>ERROR</td>\n",
       "      <td>5 m/s\\n(5:00 pm CET | Monday, February 8, 2021)</td>\n",
       "      <td>(unknown)\\n(5:00 pm CET | Monday, February 8, ...</td>\n",
       "      <td>Moon Phase calculatorFebruary 8, 2021 17h</td>\n",
       "      <td>| waning crescent moon\\n11.27% illuminated</td>\n",
       "    </tr>\n",
       "    <tr>\n",
       "      <th>5163</th>\n",
       "      <td>2021-02-08 18:00:00</td>\n",
       "      <td>4 °C\\n(6:00 pm CET | Monday, February 8, 2021)</td>\n",
       "      <td>ERROR</td>\n",
       "      <td>5 m/s\\n(6:00 pm CET | Monday, February 8, 2021)</td>\n",
       "      <td>(unknown)\\n(6:00 pm CET | Monday, February 8, ...</td>\n",
       "      <td>Moon Phase calculatorFebruary 8, 2021 18h</td>\n",
       "      <td>| waning crescent moon\\n10.98% illuminated</td>\n",
       "    </tr>\n",
       "    <tr>\n",
       "      <th>5164</th>\n",
       "      <td>2021-02-08 19:00:00</td>\n",
       "      <td>3 °C\\n(7:00 pm CET | Monday, February 8, 2021)</td>\n",
       "      <td>ERROR</td>\n",
       "      <td>4 m/s\\n(7:00 pm CET | Monday, February 8, 2021)</td>\n",
       "      <td>(unknown)\\n(7:00 pm CET | Monday, February 8, ...</td>\n",
       "      <td>Moon Phase calculatorFebruary 8, 2021 19h</td>\n",
       "      <td>| waning crescent moon\\n10.69% illuminated</td>\n",
       "    </tr>\n",
       "    <tr>\n",
       "      <th>5165</th>\n",
       "      <td>2021-02-08 20:00:00</td>\n",
       "      <td>2 °C\\n(8:00 pm CET | Monday, February 8, 2021)</td>\n",
       "      <td>ERROR</td>\n",
       "      <td>4 m/s\\n(8:00 pm CET | Monday, February 8, 2021)</td>\n",
       "      <td>(unknown)\\n(8:00 pm CET | Monday, February 8, ...</td>\n",
       "      <td>Moon Phase calculatorFebruary 8, 2021 20h</td>\n",
       "      <td>| waning crescent moon\\n10.41% illuminated</td>\n",
       "    </tr>\n",
       "    <tr>\n",
       "      <th>5166</th>\n",
       "      <td>2021-02-09 09:00:00</td>\n",
       "      <td>0 °C\\n(9:00 am CET | Tuesday, February 9, 2021)</td>\n",
       "      <td>ERROR</td>\n",
       "      <td>1 m/s\\n(9:00 am CET | Tuesday, February 9, 2021)</td>\n",
       "      <td>(unknown)\\n(9:00 am CET | Tuesday, February 9,...</td>\n",
       "      <td>Moon Phase calculatorFebruary 9, 2021 9h</td>\n",
       "      <td>| waning crescent moon\\n7.06% illuminated</td>\n",
       "    </tr>\n",
       "    <tr>\n",
       "      <th>5167</th>\n",
       "      <td>2021-02-09 10:00:00</td>\n",
       "      <td>0 °C\\n(10:00 am CET | Tuesday, February 9, 2021)</td>\n",
       "      <td>ERROR</td>\n",
       "      <td>1 m/s\\n(10:00 am CET | Tuesday, February 9, 2021)</td>\n",
       "      <td>(unknown)\\n(10:00 am CET | Tuesday, February 9...</td>\n",
       "      <td>Moon Phase calculatorFebruary 9, 2021 10h</td>\n",
       "      <td>| waning crescent moon\\n6.82% illuminated</td>\n",
       "    </tr>\n",
       "    <tr>\n",
       "      <th>5168</th>\n",
       "      <td>2021-02-09 11:00:00</td>\n",
       "      <td>0 °C\\n(11:00 am CET | Tuesday, February 9, 2021)</td>\n",
       "      <td>ERROR</td>\n",
       "      <td>1 m/s\\n(11:00 am CET | Tuesday, February 9, 2021)</td>\n",
       "      <td>(unknown)\\n(11:00 am CET | Tuesday, February 9...</td>\n",
       "      <td>Moon Phase calculatorFebruary 9, 2021 11h</td>\n",
       "      <td>| waning crescent moon\\n6.60% illuminated</td>\n",
       "    </tr>\n",
       "    <tr>\n",
       "      <th>5169</th>\n",
       "      <td>2021-02-09 12:00:00</td>\n",
       "      <td>0 °C\\n(12:00 pm CET | Tuesday, February 9, 2021)</td>\n",
       "      <td>ERROR</td>\n",
       "      <td>1 m/s\\n(12:00 pm CET | Tuesday, February 9, 2021)</td>\n",
       "      <td>(unknown)\\n(12:00 pm CET | Tuesday, February 9...</td>\n",
       "      <td>Moon Phase calculatorFebruary 9, 2021 12h</td>\n",
       "      <td>| waning crescent moon\\n6.37% illuminated</td>\n",
       "    </tr>\n",
       "    <tr>\n",
       "      <th>5170</th>\n",
       "      <td>2021-02-09 13:00:00</td>\n",
       "      <td>0 °C\\n(1:00 pm CET | Tuesday, February 9, 2021)</td>\n",
       "      <td>ERROR</td>\n",
       "      <td>2 m/s\\n(1:00 pm CET | Tuesday, February 9, 2021)</td>\n",
       "      <td>(unknown)\\n(1:00 pm CET | Tuesday, February 9,...</td>\n",
       "      <td>Moon Phase calculatorFebruary 9, 2021 13h</td>\n",
       "      <td>| waning crescent moon\\n6.15% illuminated</td>\n",
       "    </tr>\n",
       "    <tr>\n",
       "      <th>5171</th>\n",
       "      <td>2021-02-09 15:00:00</td>\n",
       "      <td>0 °C\\n(3:00 pm CET | Tuesday, February 9, 2021)</td>\n",
       "      <td>ERROR</td>\n",
       "      <td>2 m/s\\n(3:00 pm CET | Tuesday, February 9, 2021)</td>\n",
       "      <td>(unknown)\\n(3:00 pm CET | Tuesday, February 9,...</td>\n",
       "      <td>Moon Phase calculatorFebruary 9, 2021 15h</td>\n",
       "      <td>| waning crescent moon\\n5.72% illuminated</td>\n",
       "    </tr>\n",
       "    <tr>\n",
       "      <th>5172</th>\n",
       "      <td>2021-02-09 16:00:00</td>\n",
       "      <td>0 °C\\n(4:00 pm CET | Tuesday, February 9, 2021)</td>\n",
       "      <td>ERROR</td>\n",
       "      <td>2 m/s\\n(4:00 pm CET | Tuesday, February 9, 2021)</td>\n",
       "      <td>(unknown)\\n(4:00 pm CET | Tuesday, February 9,...</td>\n",
       "      <td>Moon Phase calculatorFebruary 9, 2021 16h</td>\n",
       "      <td>| waning crescent moon\\n5.51% illuminated</td>\n",
       "    </tr>\n",
       "    <tr>\n",
       "      <th>5173</th>\n",
       "      <td>2021-02-09 17:00:00</td>\n",
       "      <td>0 °C\\n(5:00 pm CET | Tuesday, February 9, 2021)</td>\n",
       "      <td>ERROR</td>\n",
       "      <td>3 m/s\\n(5:00 pm CET | Tuesday, February 9, 2021)</td>\n",
       "      <td>(unknown)\\n(5:00 pm CET | Tuesday, February 9,...</td>\n",
       "      <td>Moon Phase calculatorFebruary 9, 2021 17h</td>\n",
       "      <td>| waning crescent moon\\n5.31% illuminated</td>\n",
       "    </tr>\n",
       "    <tr>\n",
       "      <th>5174</th>\n",
       "      <td>2021-02-09 18:00:00</td>\n",
       "      <td>0 °C\\n(6:00 pm CET | Tuesday, February 9, 2021)</td>\n",
       "      <td>ERROR</td>\n",
       "      <td>3 m/s\\n(6:00 pm CET | Tuesday, February 9, 2021)</td>\n",
       "      <td>(unknown)\\n(6:00 pm CET | Tuesday, February 9,...</td>\n",
       "      <td>Moon Phase calculatorFebruary 9, 2021 18h</td>\n",
       "      <td>| waning crescent moon\\n5.11% illuminated</td>\n",
       "    </tr>\n",
       "    <tr>\n",
       "      <th>5175</th>\n",
       "      <td>2021-02-09 19:00:00</td>\n",
       "      <td>0 °C\\n(7:00 pm CET | Tuesday, February 9, 2021)</td>\n",
       "      <td>ERROR</td>\n",
       "      <td>3 m/s\\n(7:00 pm CET | Tuesday, February 9, 2021)</td>\n",
       "      <td>(unknown)\\n(7:00 pm CET | Tuesday, February 9,...</td>\n",
       "      <td>Moon Phase calculatorFebruary 9, 2021 19h</td>\n",
       "      <td>| waning crescent moon\\n4.91% illuminated</td>\n",
       "    </tr>\n",
       "    <tr>\n",
       "      <th>5176</th>\n",
       "      <td>2021-02-09 20:00:00</td>\n",
       "      <td>0 °C\\n(8:00 pm CET | Tuesday, February 9, 2021)</td>\n",
       "      <td>ERROR</td>\n",
       "      <td>3 m/s\\n(8:00 pm CET | Tuesday, February 9, 2021)</td>\n",
       "      <td>(unknown)\\n(8:00 pm CET | Tuesday, February 9,...</td>\n",
       "      <td>Moon Phase calculatorFebruary 9, 2021 20h</td>\n",
       "      <td>| waning crescent moon\\n4.72% illuminated</td>\n",
       "    </tr>\n",
       "    <tr>\n",
       "      <th>5177</th>\n",
       "      <td>2021-02-09 21:00:00</td>\n",
       "      <td>0 °C\\n(9:00 pm CET | Tuesday, February 9, 2021)</td>\n",
       "      <td>ERROR</td>\n",
       "      <td>4 m/s\\n(9:00 pm CET | Tuesday, February 9, 2021)</td>\n",
       "      <td>(unknown)\\n(9:00 pm CET | Tuesday, February 9,...</td>\n",
       "      <td>Moon Phase calculatorFebruary 9, 2021 21h</td>\n",
       "      <td>| waning crescent moon\\n4.53% illuminated</td>\n",
       "    </tr>\n",
       "    <tr>\n",
       "      <th>5178</th>\n",
       "      <td>2021-02-09 22:00:00</td>\n",
       "      <td>0 °C\\n(10:00 pm CET | Tuesday, February 9, 2021)</td>\n",
       "      <td>ERROR</td>\n",
       "      <td>4 m/s\\n(10:00 pm CET | Tuesday, February 9, 2021)</td>\n",
       "      <td>(unknown)\\n(10:00 pm CET | Tuesday, February 9...</td>\n",
       "      <td>Moon Phase calculatorFebruary 9, 2021 22h</td>\n",
       "      <td>| waning crescent moon\\n4.34% illuminated</td>\n",
       "    </tr>\n",
       "    <tr>\n",
       "      <th>5179</th>\n",
       "      <td>2021-02-10 10:00:00</td>\n",
       "      <td>0 °C\\n(10:00 am CET | Wednesday, February 10, ...</td>\n",
       "      <td>ERROR</td>\n",
       "      <td>1 m/s\\n(10:00 am CET | Wednesday, February 10,...</td>\n",
       "      <td>(unknown)\\n(10:00 am CET | Wednesday, February...</td>\n",
       "      <td>Moon Phase calculatorFebruary 10, 2021 10h</td>\n",
       "      <td>| waning crescent moon\\n2.43% illuminated</td>\n",
       "    </tr>\n",
       "    <tr>\n",
       "      <th>5180</th>\n",
       "      <td>2021-02-10 11:00:00</td>\n",
       "      <td>0 °C\\n(11:00 am CET | Wednesday, February 10, ...</td>\n",
       "      <td>ERROR</td>\n",
       "      <td>1 m/s\\n(11:00 am CET | Wednesday, February 10,...</td>\n",
       "      <td>(unknown)\\n(11:00 am CET | Wednesday, February...</td>\n",
       "      <td>Moon Phase calculatorFebruary 10, 2021 11h</td>\n",
       "      <td>| waning crescent moon\\n2.30% illuminated</td>\n",
       "    </tr>\n",
       "    <tr>\n",
       "      <th>5181</th>\n",
       "      <td>2021-02-10 12:00:00</td>\n",
       "      <td>0 °C\\n(12:00 pm CET | Wednesday, February 10, ...</td>\n",
       "      <td>ERROR</td>\n",
       "      <td>2 m/s\\n(12:00 pm CET | Wednesday, February 10,...</td>\n",
       "      <td>(unknown)\\n(12:00 pm CET | Wednesday, February...</td>\n",
       "      <td>Moon Phase calculatorFebruary 10, 2021 12h</td>\n",
       "      <td>| waning crescent moon\\n2.17% illuminated</td>\n",
       "    </tr>\n",
       "    <tr>\n",
       "      <th>5182</th>\n",
       "      <td>2021-02-10 13:00:00</td>\n",
       "      <td>0 °C\\n(1:00 pm CET | Wednesday, February 10, 2...</td>\n",
       "      <td>ERROR</td>\n",
       "      <td>2 m/s\\n(1:00 pm CET | Wednesday, February 10, ...</td>\n",
       "      <td>(unknown)\\n(1:00 pm CET | Wednesday, February ...</td>\n",
       "      <td>Moon Phase calculatorFebruary 10, 2021 13h</td>\n",
       "      <td>| waning crescent moon\\n2.04% illuminated</td>\n",
       "    </tr>\n",
       "    <tr>\n",
       "      <th>5183</th>\n",
       "      <td>2021-02-10 14:00:00</td>\n",
       "      <td>-1 °C\\n(2:00 pm CET | Wednesday, February 10, ...</td>\n",
       "      <td>ERROR</td>\n",
       "      <td>2 m/s\\n(2:00 pm CET | Wednesday, February 10, ...</td>\n",
       "      <td>(unknown)\\n(2:00 pm CET | Wednesday, February ...</td>\n",
       "      <td>Moon Phase calculatorFebruary 10, 2021 14h</td>\n",
       "      <td>| waning crescent moon\\n1.92% illuminated</td>\n",
       "    </tr>\n",
       "    <tr>\n",
       "      <th>5184</th>\n",
       "      <td>2021-02-10 15:00:00</td>\n",
       "      <td>-1 °C\\n(3:00 pm CET | Wednesday, February 10, ...</td>\n",
       "      <td>ERROR</td>\n",
       "      <td>3 m/s\\n(3:00 pm CET | Wednesday, February 10, ...</td>\n",
       "      <td>(unknown)\\n(3:00 pm CET | Wednesday, February ...</td>\n",
       "      <td>Moon Phase calculatorFebruary 10, 2021 15h</td>\n",
       "      <td>| waning crescent moon\\n1.80% illuminated</td>\n",
       "    </tr>\n",
       "    <tr>\n",
       "      <th>5185</th>\n",
       "      <td>2021-02-10 16:00:00</td>\n",
       "      <td>-1 °C\\n(4:00 pm CET | Wednesday, February 10, ...</td>\n",
       "      <td>ERROR</td>\n",
       "      <td>3 m/s\\n(4:00 pm CET | Wednesday, February 10, ...</td>\n",
       "      <td>(unknown)\\n(4:00 pm CET | Wednesday, February ...</td>\n",
       "      <td>Moon Phase calculatorFebruary 10, 2021 16h</td>\n",
       "      <td>| waning crescent moon\\n1.69% illuminated</td>\n",
       "    </tr>\n",
       "    <tr>\n",
       "      <th>5186</th>\n",
       "      <td>2021-02-10 17:00:00</td>\n",
       "      <td>-2 °C\\n(5:00 pm CET | Wednesday, February 10, ...</td>\n",
       "      <td>ERROR</td>\n",
       "      <td>3 m/s\\n(5:00 pm CET | Wednesday, February 10, ...</td>\n",
       "      <td>(unknown)\\n(5:00 pm CET | Wednesday, February ...</td>\n",
       "      <td>Moon Phase calculatorFebruary 10, 2021 17h</td>\n",
       "      <td>| waning crescent moon\\n1.58% illuminated</td>\n",
       "    </tr>\n",
       "    <tr>\n",
       "      <th>5187</th>\n",
       "      <td>2021-02-10 18:00:00</td>\n",
       "      <td>-2 °C\\n(6:00 pm CET | Wednesday, February 10, ...</td>\n",
       "      <td>ERROR</td>\n",
       "      <td>3 m/s\\n(6:00 pm CET | Wednesday, February 10, ...</td>\n",
       "      <td>(unknown)\\n(6:00 pm CET | Wednesday, February ...</td>\n",
       "      <td>Moon Phase calculatorFebruary 10, 2021 18h</td>\n",
       "      <td>| waning crescent moon\\n1.48% illuminated</td>\n",
       "    </tr>\n",
       "    <tr>\n",
       "      <th>5188</th>\n",
       "      <td>2021-02-10 19:00:00</td>\n",
       "      <td>-2 °C\\n(7:00 pm CET | Wednesday, February 10, ...</td>\n",
       "      <td>ERROR</td>\n",
       "      <td>4 m/s\\n(7:00 pm CET | Wednesday, February 10, ...</td>\n",
       "      <td>(unknown)\\n(7:00 pm CET | Wednesday, February ...</td>\n",
       "      <td>Moon Phase calculatorFebruary 10, 2021 19h</td>\n",
       "      <td>| waning crescent moon\\n1.38% illuminated</td>\n",
       "    </tr>\n",
       "    <tr>\n",
       "      <th>5189</th>\n",
       "      <td>2021-02-10 20:00:00</td>\n",
       "      <td>-2 °C\\n(8:00 pm CET | Wednesday, February 10, ...</td>\n",
       "      <td>ERROR</td>\n",
       "      <td>4 m/s\\n(8:00 pm CET | Wednesday, February 10, ...</td>\n",
       "      <td>(unknown)\\n(8:00 pm CET | Wednesday, February ...</td>\n",
       "      <td>Moon Phase calculatorFebruary 10, 2021 20h</td>\n",
       "      <td>| waning crescent moon\\n1.28% illuminated</td>\n",
       "    </tr>\n",
       "    <tr>\n",
       "      <th>5190</th>\n",
       "      <td>2021-02-10 21:00:00</td>\n",
       "      <td>-3 °C\\n(9:00 pm CET | Wednesday, February 10, ...</td>\n",
       "      <td>ERROR</td>\n",
       "      <td>4 m/s\\n(9:00 pm CET | Wednesday, February 10, ...</td>\n",
       "      <td>(unknown)\\n(9:00 pm CET | Wednesday, February ...</td>\n",
       "      <td>Moon Phase calculatorFebruary 10, 2021 21h</td>\n",
       "      <td>| waning crescent moon\\n1.19% illuminated</td>\n",
       "    </tr>\n",
       "    <tr>\n",
       "      <th>5191</th>\n",
       "      <td>2021-02-10 22:00:00</td>\n",
       "      <td>-3 °C\\n(10:00 pm CET | Wednesday, February 10,...</td>\n",
       "      <td>ERROR</td>\n",
       "      <td>5 m/s\\n(10:00 pm CET | Wednesday, February 10,...</td>\n",
       "      <td>(unknown)\\n(10:00 pm CET | Wednesday, February...</td>\n",
       "      <td>Moon Phase calculatorFebruary 10, 2021 22h</td>\n",
       "      <td>| waning crescent moon\\n1.10% illuminated</td>\n",
       "    </tr>\n",
       "    <tr>\n",
       "      <th>5192</th>\n",
       "      <td>2021-02-10 23:00:00</td>\n",
       "      <td>-3 °C\\n(11:00 pm CET | Wednesday, February 10,...</td>\n",
       "      <td>ERROR</td>\n",
       "      <td>5 m/s\\n(11:00 pm CET | Wednesday, February 10,...</td>\n",
       "      <td>(unknown)\\n(11:00 pm CET | Wednesday, February...</td>\n",
       "      <td>Moon Phase calculatorFebruary 10, 2021 23h</td>\n",
       "      <td>| waning crescent moon\\n1.01% illuminated</td>\n",
       "    </tr>\n",
       "    <tr>\n",
       "      <th>5193</th>\n",
       "      <td>2021-03-28 01:00:00</td>\n",
       "      <td>1 °C\\n(1:00 am CEST | Sunday, March 28, 2021)</td>\n",
       "      <td>ERROR</td>\n",
       "      <td>1 m/s\\n(1:00 am CEST | Sunday, March 28, 2021)</td>\n",
       "      <td>(unknown)\\n(1:00 am CEST | Sunday, March 28, 2...</td>\n",
       "      <td>Moon Phase calculatorMarch 28, 2021 1h</td>\n",
       "      <td>| waxing gibbous moon\\n98.84% illuminated</td>\n",
       "    </tr>\n",
       "  </tbody>\n",
       "</table>\n",
       "</div>"
      ],
      "text/plain": [
       "                    date                                        temperature  \\\n",
       "5158 2020-11-05 22:00:00  8 °C\\n(10:00 pm CET | Thursday, November 5, 2020)   \n",
       "5159 2020-11-16 19:00:00    7 °C\\n(7:00 pm CET | Monday, November 16, 2020)   \n",
       "5160 2020-11-16 21:00:00    5 °C\\n(9:00 pm CET | Monday, November 16, 2020)   \n",
       "5161 2020-12-15 21:00:00   4 °C\\n(9:00 pm CET | Tuesday, December 15, 2020)   \n",
       "5162 2021-02-08 17:00:00     5 °C\\n(5:00 pm CET | Monday, February 8, 2021)   \n",
       "5163 2021-02-08 18:00:00     4 °C\\n(6:00 pm CET | Monday, February 8, 2021)   \n",
       "5164 2021-02-08 19:00:00     3 °C\\n(7:00 pm CET | Monday, February 8, 2021)   \n",
       "5165 2021-02-08 20:00:00     2 °C\\n(8:00 pm CET | Monday, February 8, 2021)   \n",
       "5166 2021-02-09 09:00:00    0 °C\\n(9:00 am CET | Tuesday, February 9, 2021)   \n",
       "5167 2021-02-09 10:00:00   0 °C\\n(10:00 am CET | Tuesday, February 9, 2021)   \n",
       "5168 2021-02-09 11:00:00   0 °C\\n(11:00 am CET | Tuesday, February 9, 2021)   \n",
       "5169 2021-02-09 12:00:00   0 °C\\n(12:00 pm CET | Tuesday, February 9, 2021)   \n",
       "5170 2021-02-09 13:00:00    0 °C\\n(1:00 pm CET | Tuesday, February 9, 2021)   \n",
       "5171 2021-02-09 15:00:00    0 °C\\n(3:00 pm CET | Tuesday, February 9, 2021)   \n",
       "5172 2021-02-09 16:00:00    0 °C\\n(4:00 pm CET | Tuesday, February 9, 2021)   \n",
       "5173 2021-02-09 17:00:00    0 °C\\n(5:00 pm CET | Tuesday, February 9, 2021)   \n",
       "5174 2021-02-09 18:00:00    0 °C\\n(6:00 pm CET | Tuesday, February 9, 2021)   \n",
       "5175 2021-02-09 19:00:00    0 °C\\n(7:00 pm CET | Tuesday, February 9, 2021)   \n",
       "5176 2021-02-09 20:00:00    0 °C\\n(8:00 pm CET | Tuesday, February 9, 2021)   \n",
       "5177 2021-02-09 21:00:00    0 °C\\n(9:00 pm CET | Tuesday, February 9, 2021)   \n",
       "5178 2021-02-09 22:00:00   0 °C\\n(10:00 pm CET | Tuesday, February 9, 2021)   \n",
       "5179 2021-02-10 10:00:00  0 °C\\n(10:00 am CET | Wednesday, February 10, ...   \n",
       "5180 2021-02-10 11:00:00  0 °C\\n(11:00 am CET | Wednesday, February 10, ...   \n",
       "5181 2021-02-10 12:00:00  0 °C\\n(12:00 pm CET | Wednesday, February 10, ...   \n",
       "5182 2021-02-10 13:00:00  0 °C\\n(1:00 pm CET | Wednesday, February 10, 2...   \n",
       "5183 2021-02-10 14:00:00  -1 °C\\n(2:00 pm CET | Wednesday, February 10, ...   \n",
       "5184 2021-02-10 15:00:00  -1 °C\\n(3:00 pm CET | Wednesday, February 10, ...   \n",
       "5185 2021-02-10 16:00:00  -1 °C\\n(4:00 pm CET | Wednesday, February 10, ...   \n",
       "5186 2021-02-10 17:00:00  -2 °C\\n(5:00 pm CET | Wednesday, February 10, ...   \n",
       "5187 2021-02-10 18:00:00  -2 °C\\n(6:00 pm CET | Wednesday, February 10, ...   \n",
       "5188 2021-02-10 19:00:00  -2 °C\\n(7:00 pm CET | Wednesday, February 10, ...   \n",
       "5189 2021-02-10 20:00:00  -2 °C\\n(8:00 pm CET | Wednesday, February 10, ...   \n",
       "5190 2021-02-10 21:00:00  -3 °C\\n(9:00 pm CET | Wednesday, February 10, ...   \n",
       "5191 2021-02-10 22:00:00  -3 °C\\n(10:00 pm CET | Wednesday, February 10,...   \n",
       "5192 2021-02-10 23:00:00  -3 °C\\n(11:00 pm CET | Wednesday, February 10,...   \n",
       "5193 2021-03-28 01:00:00      1 °C\\n(1:00 am CEST | Sunday, March 28, 2021)   \n",
       "\n",
       "     humidity                                         wind speed  \\\n",
       "5158    ERROR  1 m/s\\n(10:00 pm CET | Thursday, November 5, 2...   \n",
       "5159    ERROR   1 m/s\\n(7:00 pm CET | Monday, November 16, 2020)   \n",
       "5160    ERROR   0 m/s\\n(9:00 pm CET | Monday, November 16, 2020)   \n",
       "5161    ERROR  1 m/s\\n(9:00 pm CET | Tuesday, December 15, 2020)   \n",
       "5162    ERROR    5 m/s\\n(5:00 pm CET | Monday, February 8, 2021)   \n",
       "5163    ERROR    5 m/s\\n(6:00 pm CET | Monday, February 8, 2021)   \n",
       "5164    ERROR    4 m/s\\n(7:00 pm CET | Monday, February 8, 2021)   \n",
       "5165    ERROR    4 m/s\\n(8:00 pm CET | Monday, February 8, 2021)   \n",
       "5166    ERROR   1 m/s\\n(9:00 am CET | Tuesday, February 9, 2021)   \n",
       "5167    ERROR  1 m/s\\n(10:00 am CET | Tuesday, February 9, 2021)   \n",
       "5168    ERROR  1 m/s\\n(11:00 am CET | Tuesday, February 9, 2021)   \n",
       "5169    ERROR  1 m/s\\n(12:00 pm CET | Tuesday, February 9, 2021)   \n",
       "5170    ERROR   2 m/s\\n(1:00 pm CET | Tuesday, February 9, 2021)   \n",
       "5171    ERROR   2 m/s\\n(3:00 pm CET | Tuesday, February 9, 2021)   \n",
       "5172    ERROR   2 m/s\\n(4:00 pm CET | Tuesday, February 9, 2021)   \n",
       "5173    ERROR   3 m/s\\n(5:00 pm CET | Tuesday, February 9, 2021)   \n",
       "5174    ERROR   3 m/s\\n(6:00 pm CET | Tuesday, February 9, 2021)   \n",
       "5175    ERROR   3 m/s\\n(7:00 pm CET | Tuesday, February 9, 2021)   \n",
       "5176    ERROR   3 m/s\\n(8:00 pm CET | Tuesday, February 9, 2021)   \n",
       "5177    ERROR   4 m/s\\n(9:00 pm CET | Tuesday, February 9, 2021)   \n",
       "5178    ERROR  4 m/s\\n(10:00 pm CET | Tuesday, February 9, 2021)   \n",
       "5179    ERROR  1 m/s\\n(10:00 am CET | Wednesday, February 10,...   \n",
       "5180    ERROR  1 m/s\\n(11:00 am CET | Wednesday, February 10,...   \n",
       "5181    ERROR  2 m/s\\n(12:00 pm CET | Wednesday, February 10,...   \n",
       "5182    ERROR  2 m/s\\n(1:00 pm CET | Wednesday, February 10, ...   \n",
       "5183    ERROR  2 m/s\\n(2:00 pm CET | Wednesday, February 10, ...   \n",
       "5184    ERROR  3 m/s\\n(3:00 pm CET | Wednesday, February 10, ...   \n",
       "5185    ERROR  3 m/s\\n(4:00 pm CET | Wednesday, February 10, ...   \n",
       "5186    ERROR  3 m/s\\n(5:00 pm CET | Wednesday, February 10, ...   \n",
       "5187    ERROR  3 m/s\\n(6:00 pm CET | Wednesday, February 10, ...   \n",
       "5188    ERROR  4 m/s\\n(7:00 pm CET | Wednesday, February 10, ...   \n",
       "5189    ERROR  4 m/s\\n(8:00 pm CET | Wednesday, February 10, ...   \n",
       "5190    ERROR  4 m/s\\n(9:00 pm CET | Wednesday, February 10, ...   \n",
       "5191    ERROR  5 m/s\\n(10:00 pm CET | Wednesday, February 10,...   \n",
       "5192    ERROR  5 m/s\\n(11:00 pm CET | Wednesday, February 10,...   \n",
       "5193    ERROR     1 m/s\\n(1:00 am CEST | Sunday, March 28, 2021)   \n",
       "\n",
       "                                   Precipitation amount  \\\n",
       "5158  (unknown)\\n(10:00 pm CET | Thursday, November ...   \n",
       "5159  (unknown)\\n(7:00 pm CET | Monday, November 16,...   \n",
       "5160  (unknown)\\n(9:00 pm CET | Monday, November 16,...   \n",
       "5161  (unknown)\\n(9:00 pm CET | Tuesday, December 15...   \n",
       "5162  (unknown)\\n(5:00 pm CET | Monday, February 8, ...   \n",
       "5163  (unknown)\\n(6:00 pm CET | Monday, February 8, ...   \n",
       "5164  (unknown)\\n(7:00 pm CET | Monday, February 8, ...   \n",
       "5165  (unknown)\\n(8:00 pm CET | Monday, February 8, ...   \n",
       "5166  (unknown)\\n(9:00 am CET | Tuesday, February 9,...   \n",
       "5167  (unknown)\\n(10:00 am CET | Tuesday, February 9...   \n",
       "5168  (unknown)\\n(11:00 am CET | Tuesday, February 9...   \n",
       "5169  (unknown)\\n(12:00 pm CET | Tuesday, February 9...   \n",
       "5170  (unknown)\\n(1:00 pm CET | Tuesday, February 9,...   \n",
       "5171  (unknown)\\n(3:00 pm CET | Tuesday, February 9,...   \n",
       "5172  (unknown)\\n(4:00 pm CET | Tuesday, February 9,...   \n",
       "5173  (unknown)\\n(5:00 pm CET | Tuesday, February 9,...   \n",
       "5174  (unknown)\\n(6:00 pm CET | Tuesday, February 9,...   \n",
       "5175  (unknown)\\n(7:00 pm CET | Tuesday, February 9,...   \n",
       "5176  (unknown)\\n(8:00 pm CET | Tuesday, February 9,...   \n",
       "5177  (unknown)\\n(9:00 pm CET | Tuesday, February 9,...   \n",
       "5178  (unknown)\\n(10:00 pm CET | Tuesday, February 9...   \n",
       "5179  (unknown)\\n(10:00 am CET | Wednesday, February...   \n",
       "5180  (unknown)\\n(11:00 am CET | Wednesday, February...   \n",
       "5181  (unknown)\\n(12:00 pm CET | Wednesday, February...   \n",
       "5182  (unknown)\\n(1:00 pm CET | Wednesday, February ...   \n",
       "5183  (unknown)\\n(2:00 pm CET | Wednesday, February ...   \n",
       "5184  (unknown)\\n(3:00 pm CET | Wednesday, February ...   \n",
       "5185  (unknown)\\n(4:00 pm CET | Wednesday, February ...   \n",
       "5186  (unknown)\\n(5:00 pm CET | Wednesday, February ...   \n",
       "5187  (unknown)\\n(6:00 pm CET | Wednesday, February ...   \n",
       "5188  (unknown)\\n(7:00 pm CET | Wednesday, February ...   \n",
       "5189  (unknown)\\n(8:00 pm CET | Wednesday, February ...   \n",
       "5190  (unknown)\\n(9:00 pm CET | Wednesday, February ...   \n",
       "5191  (unknown)\\n(10:00 pm CET | Wednesday, February...   \n",
       "5192  (unknown)\\n(11:00 pm CET | Wednesday, February...   \n",
       "5193  (unknown)\\n(1:00 am CEST | Sunday, March 28, 2...   \n",
       "\n",
       "                                           query  \\\n",
       "5158   Moon Phase calculatorNovember 5, 2020 22h   \n",
       "5159  Moon Phase calculatorNovember 16, 2020 19h   \n",
       "5160  Moon Phase calculatorNovember 16, 2020 21h   \n",
       "5161  Moon Phase calculatorDecember 15, 2020 21h   \n",
       "5162   Moon Phase calculatorFebruary 8, 2021 17h   \n",
       "5163   Moon Phase calculatorFebruary 8, 2021 18h   \n",
       "5164   Moon Phase calculatorFebruary 8, 2021 19h   \n",
       "5165   Moon Phase calculatorFebruary 8, 2021 20h   \n",
       "5166    Moon Phase calculatorFebruary 9, 2021 9h   \n",
       "5167   Moon Phase calculatorFebruary 9, 2021 10h   \n",
       "5168   Moon Phase calculatorFebruary 9, 2021 11h   \n",
       "5169   Moon Phase calculatorFebruary 9, 2021 12h   \n",
       "5170   Moon Phase calculatorFebruary 9, 2021 13h   \n",
       "5171   Moon Phase calculatorFebruary 9, 2021 15h   \n",
       "5172   Moon Phase calculatorFebruary 9, 2021 16h   \n",
       "5173   Moon Phase calculatorFebruary 9, 2021 17h   \n",
       "5174   Moon Phase calculatorFebruary 9, 2021 18h   \n",
       "5175   Moon Phase calculatorFebruary 9, 2021 19h   \n",
       "5176   Moon Phase calculatorFebruary 9, 2021 20h   \n",
       "5177   Moon Phase calculatorFebruary 9, 2021 21h   \n",
       "5178   Moon Phase calculatorFebruary 9, 2021 22h   \n",
       "5179  Moon Phase calculatorFebruary 10, 2021 10h   \n",
       "5180  Moon Phase calculatorFebruary 10, 2021 11h   \n",
       "5181  Moon Phase calculatorFebruary 10, 2021 12h   \n",
       "5182  Moon Phase calculatorFebruary 10, 2021 13h   \n",
       "5183  Moon Phase calculatorFebruary 10, 2021 14h   \n",
       "5184  Moon Phase calculatorFebruary 10, 2021 15h   \n",
       "5185  Moon Phase calculatorFebruary 10, 2021 16h   \n",
       "5186  Moon Phase calculatorFebruary 10, 2021 17h   \n",
       "5187  Moon Phase calculatorFebruary 10, 2021 18h   \n",
       "5188  Moon Phase calculatorFebruary 10, 2021 19h   \n",
       "5189  Moon Phase calculatorFebruary 10, 2021 20h   \n",
       "5190  Moon Phase calculatorFebruary 10, 2021 21h   \n",
       "5191  Moon Phase calculatorFebruary 10, 2021 22h   \n",
       "5192  Moon Phase calculatorFebruary 10, 2021 23h   \n",
       "5193      Moon Phase calculatorMarch 28, 2021 1h   \n",
       "\n",
       "                           Moon Phase calculator  \n",
       "5158   | waning gibbous moon\\n76.55% illuminated  \n",
       "5159   | waxing crescent moon\\n3.48% illuminated  \n",
       "5160   | waxing crescent moon\\n3.86% illuminated  \n",
       "5161   | waxing crescent moon\\n1.86% illuminated  \n",
       "5162  | waning crescent moon\\n11.27% illuminated  \n",
       "5163  | waning crescent moon\\n10.98% illuminated  \n",
       "5164  | waning crescent moon\\n10.69% illuminated  \n",
       "5165  | waning crescent moon\\n10.41% illuminated  \n",
       "5166   | waning crescent moon\\n7.06% illuminated  \n",
       "5167   | waning crescent moon\\n6.82% illuminated  \n",
       "5168   | waning crescent moon\\n6.60% illuminated  \n",
       "5169   | waning crescent moon\\n6.37% illuminated  \n",
       "5170   | waning crescent moon\\n6.15% illuminated  \n",
       "5171   | waning crescent moon\\n5.72% illuminated  \n",
       "5172   | waning crescent moon\\n5.51% illuminated  \n",
       "5173   | waning crescent moon\\n5.31% illuminated  \n",
       "5174   | waning crescent moon\\n5.11% illuminated  \n",
       "5175   | waning crescent moon\\n4.91% illuminated  \n",
       "5176   | waning crescent moon\\n4.72% illuminated  \n",
       "5177   | waning crescent moon\\n4.53% illuminated  \n",
       "5178   | waning crescent moon\\n4.34% illuminated  \n",
       "5179   | waning crescent moon\\n2.43% illuminated  \n",
       "5180   | waning crescent moon\\n2.30% illuminated  \n",
       "5181   | waning crescent moon\\n2.17% illuminated  \n",
       "5182   | waning crescent moon\\n2.04% illuminated  \n",
       "5183   | waning crescent moon\\n1.92% illuminated  \n",
       "5184   | waning crescent moon\\n1.80% illuminated  \n",
       "5185   | waning crescent moon\\n1.69% illuminated  \n",
       "5186   | waning crescent moon\\n1.58% illuminated  \n",
       "5187   | waning crescent moon\\n1.48% illuminated  \n",
       "5188   | waning crescent moon\\n1.38% illuminated  \n",
       "5189   | waning crescent moon\\n1.28% illuminated  \n",
       "5190   | waning crescent moon\\n1.19% illuminated  \n",
       "5191   | waning crescent moon\\n1.10% illuminated  \n",
       "5192   | waning crescent moon\\n1.01% illuminated  \n",
       "5193   | waxing gibbous moon\\n98.84% illuminated  "
      ]
     },
     "metadata": {},
     "output_type": "display_data"
    },
    {
     "name": "stdout",
     "output_type": "stream",
     "text": [
      "7369\n",
      "2166\n",
      "WARNING: to many calls to be completed these queries!\n",
      "You need 10830 new queries to complete this date interval\n",
      "(5203, 7)\n"
     ]
    },
    {
     "data": {
      "text/html": [
       "<div>\n",
       "<style scoped>\n",
       "    .dataframe tbody tr th:only-of-type {\n",
       "        vertical-align: middle;\n",
       "    }\n",
       "\n",
       "    .dataframe tbody tr th {\n",
       "        vertical-align: top;\n",
       "    }\n",
       "\n",
       "    .dataframe thead th {\n",
       "        text-align: right;\n",
       "    }\n",
       "</style>\n",
       "<table border=\"1\" class=\"dataframe\">\n",
       "  <thead>\n",
       "    <tr style=\"text-align: right;\">\n",
       "      <th></th>\n",
       "      <th>date</th>\n",
       "      <th>temperature</th>\n",
       "      <th>humidity</th>\n",
       "      <th>wind speed</th>\n",
       "      <th>Precipitation amount</th>\n",
       "      <th>query</th>\n",
       "      <th>Moon Phase calculator</th>\n",
       "    </tr>\n",
       "  </thead>\n",
       "  <tbody>\n",
       "    <tr>\n",
       "      <th>5234</th>\n",
       "      <td>2021-05-05 02:00:00</td>\n",
       "      <td>12 °C\\n(2:00 am CEST | Wednesday, May 5, 2021)</td>\n",
       "      <td>average: 58% (58%)\\n(2:00 am CEST | Wednesday,...</td>\n",
       "      <td>5 m/s\\n(2:00 am CEST | Wednesday, May 5, 2021)</td>\n",
       "      <td>no precipitation\\n(2:00 am CEST | Wednesday, M...</td>\n",
       "      <td>Moon Phase calculatorMay 5, 2021 2h</td>\n",
       "      <td>| waning crescent moon\\n37.96% illuminated</td>\n",
       "    </tr>\n",
       "    <tr>\n",
       "      <th>5235</th>\n",
       "      <td>2021-05-05 03:00:00</td>\n",
       "      <td>11 °C\\n(3:00 am CEST | Wednesday, May 5, 2021)</td>\n",
       "      <td>average: 64% (62 to 67%)\\n(3:00 am CEST | Wedn...</td>\n",
       "      <td>4 m/s\\n(3:00 am CEST | Wednesday, May 5, 2021)</td>\n",
       "      <td>rain\\n(3:00 am CEST | Wednesday, May 5, 2021)</td>\n",
       "      <td>Moon Phase calculatorMay 5, 2021 3h</td>\n",
       "      <td>| waning crescent moon\\n37.55% illuminated</td>\n",
       "    </tr>\n",
       "    <tr>\n",
       "      <th>5236</th>\n",
       "      <td>2021-05-05 04:00:00</td>\n",
       "      <td>10 °C\\n(4:00 am CEST | Wednesday, May 5, 2021)</td>\n",
       "      <td>average: 71% (71%)\\n(4:00 am CEST | Wednesday,...</td>\n",
       "      <td>6 m/s\\n(4:00 am CEST | Wednesday, May 5, 2021)</td>\n",
       "      <td>no precipitation\\n(4:00 am CEST | Wednesday, M...</td>\n",
       "      <td>Moon Phase calculatorMay 5, 2021 4h</td>\n",
       "      <td>| waning crescent moon\\n37.13% illuminated</td>\n",
       "    </tr>\n",
       "    <tr>\n",
       "      <th>5237</th>\n",
       "      <td>2021-05-05 05:00:00</td>\n",
       "      <td>10 °C\\n(5:00 am CEST | Wednesday, May 5, 2021)</td>\n",
       "      <td>average: 64% (62 to 66%)\\n(5:00 am CEST | Wedn...</td>\n",
       "      <td>6 m/s\\n(5:00 am CEST | Wednesday, May 5, 2021)</td>\n",
       "      <td>no precipitation\\n(5:00 am CEST | Wednesday, M...</td>\n",
       "      <td>Moon Phase calculatorMay 5, 2021 5h</td>\n",
       "      <td>| waning crescent moon\\n36.72% illuminated</td>\n",
       "    </tr>\n",
       "    <tr>\n",
       "      <th>5238</th>\n",
       "      <td>2021-05-05 06:00:00</td>\n",
       "      <td>9 °C\\n(6:00 am CEST | Wednesday, May 5, 2021)</td>\n",
       "      <td>average: 69% (66 to 71%)\\n(6:00 am CEST | Wedn...</td>\n",
       "      <td>5 m/s\\n(6:00 am CEST | Wednesday, May 5, 2021)</td>\n",
       "      <td>rain\\n(6:00 am CEST | Wednesday, May 5, 2021)</td>\n",
       "      <td>Moon Phase calculatorMay 5, 2021 6h</td>\n",
       "      <td>| waning crescent moon\\n36.31% illuminated</td>\n",
       "    </tr>\n",
       "  </tbody>\n",
       "</table>\n",
       "</div>"
      ],
      "text/plain": [
       "                    date                                     temperature  \\\n",
       "5234 2021-05-05 02:00:00  12 °C\\n(2:00 am CEST | Wednesday, May 5, 2021)   \n",
       "5235 2021-05-05 03:00:00  11 °C\\n(3:00 am CEST | Wednesday, May 5, 2021)   \n",
       "5236 2021-05-05 04:00:00  10 °C\\n(4:00 am CEST | Wednesday, May 5, 2021)   \n",
       "5237 2021-05-05 05:00:00  10 °C\\n(5:00 am CEST | Wednesday, May 5, 2021)   \n",
       "5238 2021-05-05 06:00:00   9 °C\\n(6:00 am CEST | Wednesday, May 5, 2021)   \n",
       "\n",
       "                                               humidity  \\\n",
       "5234  average: 58% (58%)\\n(2:00 am CEST | Wednesday,...   \n",
       "5235  average: 64% (62 to 67%)\\n(3:00 am CEST | Wedn...   \n",
       "5236  average: 71% (71%)\\n(4:00 am CEST | Wednesday,...   \n",
       "5237  average: 64% (62 to 66%)\\n(5:00 am CEST | Wedn...   \n",
       "5238  average: 69% (66 to 71%)\\n(6:00 am CEST | Wedn...   \n",
       "\n",
       "                                          wind speed  \\\n",
       "5234  5 m/s\\n(2:00 am CEST | Wednesday, May 5, 2021)   \n",
       "5235  4 m/s\\n(3:00 am CEST | Wednesday, May 5, 2021)   \n",
       "5236  6 m/s\\n(4:00 am CEST | Wednesday, May 5, 2021)   \n",
       "5237  6 m/s\\n(5:00 am CEST | Wednesday, May 5, 2021)   \n",
       "5238  5 m/s\\n(6:00 am CEST | Wednesday, May 5, 2021)   \n",
       "\n",
       "                                   Precipitation amount  \\\n",
       "5234  no precipitation\\n(2:00 am CEST | Wednesday, M...   \n",
       "5235      rain\\n(3:00 am CEST | Wednesday, May 5, 2021)   \n",
       "5236  no precipitation\\n(4:00 am CEST | Wednesday, M...   \n",
       "5237  no precipitation\\n(5:00 am CEST | Wednesday, M...   \n",
       "5238      rain\\n(6:00 am CEST | Wednesday, May 5, 2021)   \n",
       "\n",
       "                                    query  \\\n",
       "5234  Moon Phase calculatorMay 5, 2021 2h   \n",
       "5235  Moon Phase calculatorMay 5, 2021 3h   \n",
       "5236  Moon Phase calculatorMay 5, 2021 4h   \n",
       "5237  Moon Phase calculatorMay 5, 2021 5h   \n",
       "5238  Moon Phase calculatorMay 5, 2021 6h   \n",
       "\n",
       "                           Moon Phase calculator  \n",
       "5234  | waning crescent moon\\n37.96% illuminated  \n",
       "5235  | waning crescent moon\\n37.55% illuminated  \n",
       "5236  | waning crescent moon\\n37.13% illuminated  \n",
       "5237  | waning crescent moon\\n36.72% illuminated  \n",
       "5238  | waning crescent moon\\n36.31% illuminated  "
      ]
     },
     "execution_count": 4,
     "metadata": {},
     "output_type": "execute_result"
    }
   ],
   "source": [
    "mi = dt.datetime(2020,9,29)\n",
    "#ma = dt.datetime(2019,9,2)\n",
    "ma = dt.datetime(2021,8,2)\n",
    "df = pd.DataFrame(columns=['date', 'temperature', 'humidity', 'wind speed', 'Precipitation amount',\n",
    "                           'Moon Phase calculator','query']) #pressure\n",
    "path_weather = os.path.join(path_,'weather.csv')\n",
    "if len(glob.glob(path_weather))==1:\n",
    "    df = pd.read_csv(path_weather, sep=';', parse_dates=['date'])\n",
    "    #remove the last date, in case we stop in middle of the data to grab\n",
    "    #df = df[df['date']!=max(df['date'].unique())]\n",
    "    df = df.drop_duplicates(subset=None, keep='first', inplace=False)\n",
    "    print(df.shape)\n",
    "    print('We already have %d dates of weather'%df.shape[0])\n",
    "    #mi = max(mi, max(df['date'].tolist())) #not a good idea in case of errors as in that case we would like to try it again \n",
    "print(df[df.isin([\"ERROR\"]).any(axis=1)].shape)\n",
    "display(df[df.isin([\"ERROR\"]).any(axis=1)])\n",
    "df = df[~df.isin([\"ERROR\"]).any(axis=1)]\n",
    "#remove the rows with at least one error\n",
    "Daterange = pd.date_range(start=mi, end=ma, freq='H')   \n",
    "print(len(Daterange))\n",
    "Daterange = [d for d in Daterange if d not in df['date'].unique()]\n",
    "print(len(Daterange))\n",
    "if (len(Daterange)*len(li_type))>=2000:\n",
    "    print('WARNING: to many calls to be completed these queries!')\n",
    "print('You need %d new queries to complete this date interval'%(len(Daterange)*len(li_type)))\n",
    "df = df.sort_values(['date'])\n",
    "print(df.shape)\n",
    "df.tail(5)"
   ]
  },
  {
   "cell_type": "code",
   "execution_count": 5,
   "metadata": {
    "scrolled": true
   },
   "outputs": [
    {
     "name": "stderr",
     "output_type": "stream",
     "text": [
      "\r",
      "  0%|                                                                                         | 0/2166 [00:00<?, ?it/s]"
     ]
    },
    {
     "name": "stdout",
     "output_type": "stream",
     "text": [
      "QUERY:  Precipitation amount in Zollikofen November 5, 2020 22h\n",
      "QUERY:  temperature in Zollikofen November 5, 2020 22h\n",
      "QUERY:  humidity in Zollikofen November 5, 2020 22h\n",
      "ERROR: no data available-------------  humidity in Zollikofen November 5, 2020 22h\n",
      "ERROR:------------- name 'error' is not defined  ----------  humidity in Zollikofen November 5, 2020 22h\n",
      "QUERY:  wind speed in Zollikofen November 5, 2020 22h\n",
      "QUERY:  Moon Phase calculatorNovember 5, 2020 22h\n",
      "(5204, 7)\n"
     ]
    },
    {
     "data": {
      "text/html": [
       "<div>\n",
       "<style scoped>\n",
       "    .dataframe tbody tr th:only-of-type {\n",
       "        vertical-align: middle;\n",
       "    }\n",
       "\n",
       "    .dataframe tbody tr th {\n",
       "        vertical-align: top;\n",
       "    }\n",
       "\n",
       "    .dataframe thead th {\n",
       "        text-align: right;\n",
       "    }\n",
       "</style>\n",
       "<table border=\"1\" class=\"dataframe\">\n",
       "  <thead>\n",
       "    <tr style=\"text-align: right;\">\n",
       "      <th></th>\n",
       "      <th>date</th>\n",
       "      <th>temperature</th>\n",
       "      <th>humidity</th>\n",
       "      <th>wind speed</th>\n",
       "      <th>Precipitation amount</th>\n",
       "      <th>query</th>\n",
       "      <th>Moon Phase calculator</th>\n",
       "    </tr>\n",
       "  </thead>\n",
       "  <tbody>\n",
       "    <tr>\n",
       "      <th>5238</th>\n",
       "      <td>2021-05-05 06:00:00</td>\n",
       "      <td>9 °C\\n(6:00 am CEST | Wednesday, May 5, 2021)</td>\n",
       "      <td>average: 69% (66 to 71%)\\n(6:00 am CEST | Wedn...</td>\n",
       "      <td>5 m/s\\n(6:00 am CEST | Wednesday, May 5, 2021)</td>\n",
       "      <td>rain\\n(6:00 am CEST | Wednesday, May 5, 2021)</td>\n",
       "      <td>Moon Phase calculatorMay 5, 2021 6h</td>\n",
       "      <td>| waning crescent moon\\n36.31% illuminated</td>\n",
       "    </tr>\n",
       "    <tr>\n",
       "      <th>0</th>\n",
       "      <td>2020-11-05 22:00:00</td>\n",
       "      <td>8 °C\\n(10:00 pm CET | Thursday, November 5, 2020)</td>\n",
       "      <td>ERROR</td>\n",
       "      <td>1 m/s\\n(10:00 pm CET | Thursday, November 5, 2...</td>\n",
       "      <td>(unknown)\\n(10:00 pm CET | Thursday, November ...</td>\n",
       "      <td>Moon Phase calculatorNovember 5, 2020 22h</td>\n",
       "      <td>| waning gibbous moon\\n76.55% illuminated</td>\n",
       "    </tr>\n",
       "  </tbody>\n",
       "</table>\n",
       "</div>"
      ],
      "text/plain": [
       "                    date                                        temperature  \\\n",
       "5238 2021-05-05 06:00:00      9 °C\\n(6:00 am CEST | Wednesday, May 5, 2021)   \n",
       "0    2020-11-05 22:00:00  8 °C\\n(10:00 pm CET | Thursday, November 5, 2020)   \n",
       "\n",
       "                                               humidity  \\\n",
       "5238  average: 69% (66 to 71%)\\n(6:00 am CEST | Wedn...   \n",
       "0                                                 ERROR   \n",
       "\n",
       "                                             wind speed  \\\n",
       "5238     5 m/s\\n(6:00 am CEST | Wednesday, May 5, 2021)   \n",
       "0     1 m/s\\n(10:00 pm CET | Thursday, November 5, 2...   \n",
       "\n",
       "                                   Precipitation amount  \\\n",
       "5238      rain\\n(6:00 am CEST | Wednesday, May 5, 2021)   \n",
       "0     (unknown)\\n(10:00 pm CET | Thursday, November ...   \n",
       "\n",
       "                                          query  \\\n",
       "5238        Moon Phase calculatorMay 5, 2021 6h   \n",
       "0     Moon Phase calculatorNovember 5, 2020 22h   \n",
       "\n",
       "                           Moon Phase calculator  \n",
       "5238  | waning crescent moon\\n36.31% illuminated  \n",
       "0      | waning gibbous moon\\n76.55% illuminated  "
      ]
     },
     "metadata": {},
     "output_type": "display_data"
    },
    {
     "name": "stderr",
     "output_type": "stream",
     "text": [
      "\r",
      "  0%|                                                                              | 1/2166 [00:22<13:24:44, 22.30s/it]"
     ]
    },
    {
     "name": "stdout",
     "output_type": "stream",
     "text": [
      "QUERY:  Precipitation amount in Zollikofen November 16, 2020 19h\n",
      "QUERY:  temperature in Zollikofen November 16, 2020 19h\n",
      "QUERY:  humidity in Zollikofen November 16, 2020 19h\n",
      "ERROR: no data available-------------  humidity in Zollikofen November 16, 2020 19h\n",
      "ERROR:------------- name 'error' is not defined  ----------  humidity in Zollikofen November 16, 2020 19h\n",
      "QUERY:  wind speed in Zollikofen November 16, 2020 19h\n",
      "QUERY:  Moon Phase calculatorNovember 16, 2020 19h\n"
     ]
    },
    {
     "name": "stderr",
     "output_type": "stream",
     "text": [
      "\r",
      "  0%|                                                                              | 2/2166 [00:42<13:07:00, 21.82s/it]"
     ]
    },
    {
     "name": "stdout",
     "output_type": "stream",
     "text": [
      "QUERY:  Precipitation amount in Zollikofen November 16, 2020 21h\n",
      "QUERY:  temperature in Zollikofen November 16, 2020 21h\n",
      "QUERY:  humidity in Zollikofen November 16, 2020 21h\n",
      "ERROR: no data available-------------  humidity in Zollikofen November 16, 2020 21h\n",
      "ERROR:------------- name 'error' is not defined  ----------  humidity in Zollikofen November 16, 2020 21h\n",
      "QUERY:  wind speed in Zollikofen November 16, 2020 21h\n",
      "QUERY:  Moon Phase calculatorNovember 16, 2020 21h\n"
     ]
    },
    {
     "name": "stderr",
     "output_type": "stream",
     "text": [
      "\r",
      "  0%|                                                                              | 3/2166 [01:04<13:01:01, 21.67s/it]"
     ]
    },
    {
     "name": "stdout",
     "output_type": "stream",
     "text": [
      "QUERY:  Precipitation amount in Zollikofen December 15, 2020 21h\n",
      "QUERY:  temperature in Zollikofen December 15, 2020 21h\n",
      "QUERY:  humidity in Zollikofen December 15, 2020 21h\n",
      "ERROR: no data available-------------  humidity in Zollikofen December 15, 2020 21h\n",
      "ERROR:------------- name 'error' is not defined  ----------  humidity in Zollikofen December 15, 2020 21h\n",
      "QUERY:  wind speed in Zollikofen December 15, 2020 21h\n",
      "QUERY:  Moon Phase calculatorDecember 15, 2020 21h\n"
     ]
    },
    {
     "name": "stderr",
     "output_type": "stream",
     "text": [
      "\r",
      "  0%|▏                                                                             | 4/2166 [01:25<13:00:01, 21.65s/it]"
     ]
    },
    {
     "name": "stdout",
     "output_type": "stream",
     "text": [
      "QUERY:  Precipitation amount in Zollikofen February 8, 2021 17h\n",
      "QUERY:  temperature in Zollikofen February 8, 2021 17h\n",
      "QUERY:  humidity in Zollikofen February 8, 2021 17h\n",
      "ERROR: no data available-------------  humidity in Zollikofen February 8, 2021 17h\n",
      "ERROR:------------- name 'error' is not defined  ----------  humidity in Zollikofen February 8, 2021 17h\n",
      "QUERY:  wind speed in Zollikofen February 8, 2021 17h\n",
      "QUERY:  Moon Phase calculatorFebruary 8, 2021 17h\n"
     ]
    },
    {
     "name": "stderr",
     "output_type": "stream",
     "text": [
      "\r",
      "  0%|▏                                                                             | 5/2166 [01:47<12:59:13, 21.64s/it]"
     ]
    },
    {
     "name": "stdout",
     "output_type": "stream",
     "text": [
      "QUERY:  Precipitation amount in Zollikofen February 8, 2021 18h\n",
      "QUERY:  temperature in Zollikofen February 8, 2021 18h\n",
      "QUERY:  humidity in Zollikofen February 8, 2021 18h\n",
      "ERROR: no data available-------------  humidity in Zollikofen February 8, 2021 18h\n",
      "ERROR:------------- name 'error' is not defined  ----------  humidity in Zollikofen February 8, 2021 18h\n",
      "QUERY:  wind speed in Zollikofen February 8, 2021 18h\n",
      "QUERY:  Moon Phase calculatorFebruary 8, 2021 18h\n"
     ]
    },
    {
     "name": "stderr",
     "output_type": "stream",
     "text": [
      "\r",
      "  0%|▏                                                                             | 6/2166 [02:08<12:53:01, 21.47s/it]"
     ]
    },
    {
     "name": "stdout",
     "output_type": "stream",
     "text": [
      "QUERY:  Precipitation amount in Zollikofen February 8, 2021 19h\n",
      "QUERY:  temperature in Zollikofen February 8, 2021 19h\n",
      "QUERY:  humidity in Zollikofen February 8, 2021 19h\n",
      "ERROR: no data available-------------  humidity in Zollikofen February 8, 2021 19h\n",
      "ERROR:------------- name 'error' is not defined  ----------  humidity in Zollikofen February 8, 2021 19h\n",
      "QUERY:  wind speed in Zollikofen February 8, 2021 19h\n",
      "QUERY:  Moon Phase calculatorFebruary 8, 2021 19h\n"
     ]
    },
    {
     "name": "stderr",
     "output_type": "stream",
     "text": [
      "\r",
      "  0%|▎                                                                             | 7/2166 [02:31<13:05:09, 21.82s/it]"
     ]
    },
    {
     "name": "stdout",
     "output_type": "stream",
     "text": [
      "QUERY:  Precipitation amount in Zollikofen February 8, 2021 20h\n",
      "QUERY:  temperature in Zollikofen February 8, 2021 20h\n",
      "QUERY:  humidity in Zollikofen February 8, 2021 20h\n",
      "ERROR: no data available-------------  humidity in Zollikofen February 8, 2021 20h\n",
      "ERROR:------------- name 'error' is not defined  ----------  humidity in Zollikofen February 8, 2021 20h\n",
      "QUERY:  wind speed in Zollikofen February 8, 2021 20h\n",
      "QUERY:  Moon Phase calculatorFebruary 8, 2021 20h\n"
     ]
    },
    {
     "name": "stderr",
     "output_type": "stream",
     "text": [
      "\r",
      "  0%|▎                                                                             | 8/2166 [02:52<12:59:10, 21.66s/it]"
     ]
    },
    {
     "name": "stdout",
     "output_type": "stream",
     "text": [
      "QUERY:  Precipitation amount in Zollikofen February 9, 2021 9h\n",
      "QUERY:  temperature in Zollikofen February 9, 2021 9h\n",
      "QUERY:  humidity in Zollikofen February 9, 2021 9h\n",
      "ERROR: no data available-------------  humidity in Zollikofen February 9, 2021 9h\n",
      "ERROR:------------- name 'error' is not defined  ----------  humidity in Zollikofen February 9, 2021 9h\n",
      "QUERY:  wind speed in Zollikofen February 9, 2021 9h\n",
      "QUERY:  Moon Phase calculatorFebruary 9, 2021 9h\n"
     ]
    },
    {
     "name": "stderr",
     "output_type": "stream",
     "text": [
      "\r",
      "  0%|▎                                                                             | 9/2166 [03:14<12:57:05, 21.62s/it]"
     ]
    },
    {
     "name": "stdout",
     "output_type": "stream",
     "text": [
      "QUERY:  Precipitation amount in Zollikofen February 9, 2021 10h\n",
      "QUERY:  temperature in Zollikofen February 9, 2021 10h\n",
      "QUERY:  humidity in Zollikofen February 9, 2021 10h\n",
      "ERROR: no data available-------------  humidity in Zollikofen February 9, 2021 10h\n",
      "ERROR:------------- name 'error' is not defined  ----------  humidity in Zollikofen February 9, 2021 10h\n",
      "QUERY:  wind speed in Zollikofen February 9, 2021 10h\n",
      "QUERY:  Moon Phase calculatorFebruary 9, 2021 10h\n"
     ]
    },
    {
     "name": "stderr",
     "output_type": "stream",
     "text": [
      "\r",
      "  0%|▎                                                                            | 10/2166 [03:36<13:04:30, 21.83s/it]"
     ]
    },
    {
     "name": "stdout",
     "output_type": "stream",
     "text": [
      "QUERY:  Precipitation amount in Zollikofen February 9, 2021 11h\n",
      "QUERY:  temperature in Zollikofen February 9, 2021 11h\n",
      "QUERY:  humidity in Zollikofen February 9, 2021 11h\n",
      "ERROR: no data available-------------  humidity in Zollikofen February 9, 2021 11h\n",
      "ERROR:------------- name 'error' is not defined  ----------  humidity in Zollikofen February 9, 2021 11h\n",
      "QUERY:  wind speed in Zollikofen February 9, 2021 11h\n",
      "QUERY:  Moon Phase calculatorFebruary 9, 2021 11h\n",
      "(5214, 7)\n"
     ]
    },
    {
     "data": {
      "text/html": [
       "<div>\n",
       "<style scoped>\n",
       "    .dataframe tbody tr th:only-of-type {\n",
       "        vertical-align: middle;\n",
       "    }\n",
       "\n",
       "    .dataframe tbody tr th {\n",
       "        vertical-align: top;\n",
       "    }\n",
       "\n",
       "    .dataframe thead th {\n",
       "        text-align: right;\n",
       "    }\n",
       "</style>\n",
       "<table border=\"1\" class=\"dataframe\">\n",
       "  <thead>\n",
       "    <tr style=\"text-align: right;\">\n",
       "      <th></th>\n",
       "      <th>date</th>\n",
       "      <th>temperature</th>\n",
       "      <th>humidity</th>\n",
       "      <th>wind speed</th>\n",
       "      <th>Precipitation amount</th>\n",
       "      <th>query</th>\n",
       "      <th>Moon Phase calculator</th>\n",
       "    </tr>\n",
       "  </thead>\n",
       "  <tbody>\n",
       "    <tr>\n",
       "      <th>8</th>\n",
       "      <td>2021-02-09 10:00:00</td>\n",
       "      <td>0 °C\\n(10:00 am CET | Tuesday, February 9, 2021)</td>\n",
       "      <td>ERROR</td>\n",
       "      <td>1 m/s\\n(10:00 am CET | Tuesday, February 9, 2021)</td>\n",
       "      <td>(unknown)\\n(10:00 am CET | Tuesday, February 9...</td>\n",
       "      <td>Moon Phase calculatorFebruary 9, 2021 10h</td>\n",
       "      <td>| waning crescent moon\\n6.82% illuminated</td>\n",
       "    </tr>\n",
       "    <tr>\n",
       "      <th>9</th>\n",
       "      <td>2021-02-09 11:00:00</td>\n",
       "      <td>0 °C\\n(11:00 am CET | Tuesday, February 9, 2021)</td>\n",
       "      <td>ERROR</td>\n",
       "      <td>1 m/s\\n(11:00 am CET | Tuesday, February 9, 2021)</td>\n",
       "      <td>(unknown)\\n(11:00 am CET | Tuesday, February 9...</td>\n",
       "      <td>Moon Phase calculatorFebruary 9, 2021 11h</td>\n",
       "      <td>| waning crescent moon\\n6.60% illuminated</td>\n",
       "    </tr>\n",
       "  </tbody>\n",
       "</table>\n",
       "</div>"
      ],
      "text/plain": [
       "                 date                                       temperature  \\\n",
       "8 2021-02-09 10:00:00  0 °C\\n(10:00 am CET | Tuesday, February 9, 2021)   \n",
       "9 2021-02-09 11:00:00  0 °C\\n(11:00 am CET | Tuesday, February 9, 2021)   \n",
       "\n",
       "  humidity                                         wind speed  \\\n",
       "8    ERROR  1 m/s\\n(10:00 am CET | Tuesday, February 9, 2021)   \n",
       "9    ERROR  1 m/s\\n(11:00 am CET | Tuesday, February 9, 2021)   \n",
       "\n",
       "                                Precipitation amount  \\\n",
       "8  (unknown)\\n(10:00 am CET | Tuesday, February 9...   \n",
       "9  (unknown)\\n(11:00 am CET | Tuesday, February 9...   \n",
       "\n",
       "                                       query  \\\n",
       "8  Moon Phase calculatorFebruary 9, 2021 10h   \n",
       "9  Moon Phase calculatorFebruary 9, 2021 11h   \n",
       "\n",
       "                       Moon Phase calculator  \n",
       "8  | waning crescent moon\\n6.82% illuminated  \n",
       "9  | waning crescent moon\\n6.60% illuminated  "
      ]
     },
     "metadata": {},
     "output_type": "display_data"
    },
    {
     "name": "stderr",
     "output_type": "stream",
     "text": [
      "\r",
      "  1%|▍                                                                            | 11/2166 [03:59<13:14:57, 22.13s/it]"
     ]
    },
    {
     "name": "stdout",
     "output_type": "stream",
     "text": [
      "QUERY:  Precipitation amount in Zollikofen February 9, 2021 12h\n",
      "QUERY:  temperature in Zollikofen February 9, 2021 12h\n",
      "QUERY:  humidity in Zollikofen February 9, 2021 12h\n",
      "ERROR: no data available-------------  humidity in Zollikofen February 9, 2021 12h\n",
      "ERROR:------------- name 'error' is not defined  ----------  humidity in Zollikofen February 9, 2021 12h\n",
      "QUERY:  wind speed in Zollikofen February 9, 2021 12h\n",
      "QUERY:  Moon Phase calculatorFebruary 9, 2021 12h\n"
     ]
    },
    {
     "name": "stderr",
     "output_type": "stream",
     "text": [
      "\r",
      "  1%|▍                                                                            | 12/2166 [04:20<13:05:52, 21.89s/it]"
     ]
    },
    {
     "name": "stdout",
     "output_type": "stream",
     "text": [
      "QUERY:  Precipitation amount in Zollikofen February 9, 2021 13h\n",
      "QUERY:  temperature in Zollikofen February 9, 2021 13h\n",
      "QUERY:  humidity in Zollikofen February 9, 2021 13h\n",
      "ERROR: no data available-------------  humidity in Zollikofen February 9, 2021 13h\n",
      "ERROR:------------- name 'error' is not defined  ----------  humidity in Zollikofen February 9, 2021 13h\n",
      "QUERY:  wind speed in Zollikofen February 9, 2021 13h\n",
      "QUERY:  Moon Phase calculatorFebruary 9, 2021 13h\n"
     ]
    },
    {
     "name": "stderr",
     "output_type": "stream",
     "text": [
      "\r",
      "  1%|▍                                                                            | 13/2166 [04:41<12:52:03, 21.52s/it]"
     ]
    },
    {
     "name": "stdout",
     "output_type": "stream",
     "text": [
      "QUERY:  Precipitation amount in Zollikofen February 9, 2021 15h\n",
      "QUERY:  temperature in Zollikofen February 9, 2021 15h\n",
      "QUERY:  humidity in Zollikofen February 9, 2021 15h\n",
      "ERROR: no data available-------------  humidity in Zollikofen February 9, 2021 15h\n",
      "ERROR:------------- name 'error' is not defined  ----------  humidity in Zollikofen February 9, 2021 15h\n",
      "QUERY:  wind speed in Zollikofen February 9, 2021 15h\n",
      "QUERY:  Moon Phase calculatorFebruary 9, 2021 15h\n"
     ]
    },
    {
     "name": "stderr",
     "output_type": "stream",
     "text": [
      "\r",
      "  1%|▍                                                                            | 14/2166 [05:02<12:50:24, 21.48s/it]"
     ]
    },
    {
     "name": "stdout",
     "output_type": "stream",
     "text": [
      "QUERY:  Precipitation amount in Zollikofen February 9, 2021 16h\n",
      "QUERY:  temperature in Zollikofen February 9, 2021 16h\n",
      "QUERY:  humidity in Zollikofen February 9, 2021 16h\n",
      "ERROR: no data available-------------  humidity in Zollikofen February 9, 2021 16h\n",
      "ERROR:------------- name 'error' is not defined  ----------  humidity in Zollikofen February 9, 2021 16h\n",
      "QUERY:  wind speed in Zollikofen February 9, 2021 16h\n",
      "QUERY:  Moon Phase calculatorFebruary 9, 2021 16h\n"
     ]
    },
    {
     "name": "stderr",
     "output_type": "stream",
     "text": [
      "\r",
      "  1%|▌                                                                            | 15/2166 [05:25<13:05:15, 21.90s/it]"
     ]
    },
    {
     "name": "stdout",
     "output_type": "stream",
     "text": [
      "QUERY:  Precipitation amount in Zollikofen February 9, 2021 17h\n",
      "QUERY:  temperature in Zollikofen February 9, 2021 17h\n",
      "QUERY:  humidity in Zollikofen February 9, 2021 17h\n",
      "ERROR: no data available-------------  humidity in Zollikofen February 9, 2021 17h\n",
      "ERROR:------------- name 'error' is not defined  ----------  humidity in Zollikofen February 9, 2021 17h\n",
      "QUERY:  wind speed in Zollikofen February 9, 2021 17h\n",
      "QUERY:  Moon Phase calculatorFebruary 9, 2021 17h\n"
     ]
    },
    {
     "name": "stderr",
     "output_type": "stream",
     "text": [
      "\r",
      "  1%|▌                                                                            | 16/2166 [05:48<13:14:44, 22.18s/it]"
     ]
    },
    {
     "name": "stdout",
     "output_type": "stream",
     "text": [
      "QUERY:  Precipitation amount in Zollikofen February 9, 2021 18h\n",
      "QUERY:  temperature in Zollikofen February 9, 2021 18h\n",
      "QUERY:  humidity in Zollikofen February 9, 2021 18h\n",
      "ERROR: no data available-------------  humidity in Zollikofen February 9, 2021 18h\n",
      "ERROR:------------- name 'error' is not defined  ----------  humidity in Zollikofen February 9, 2021 18h\n",
      "QUERY:  wind speed in Zollikofen February 9, 2021 18h\n",
      "QUERY:  Moon Phase calculatorFebruary 9, 2021 18h\n"
     ]
    },
    {
     "name": "stderr",
     "output_type": "stream",
     "text": [
      "\r",
      "  1%|▌                                                                            | 17/2166 [06:10<13:10:55, 22.08s/it]"
     ]
    },
    {
     "name": "stdout",
     "output_type": "stream",
     "text": [
      "QUERY:  Precipitation amount in Zollikofen February 9, 2021 19h\n",
      "QUERY:  temperature in Zollikofen February 9, 2021 19h\n",
      "QUERY:  humidity in Zollikofen February 9, 2021 19h\n",
      "ERROR: no data available-------------  humidity in Zollikofen February 9, 2021 19h\n",
      "ERROR:------------- name 'error' is not defined  ----------  humidity in Zollikofen February 9, 2021 19h\n",
      "QUERY:  wind speed in Zollikofen February 9, 2021 19h\n",
      "QUERY:  Moon Phase calculatorFebruary 9, 2021 19h\n"
     ]
    },
    {
     "name": "stderr",
     "output_type": "stream",
     "text": [
      "\r",
      "  1%|▋                                                                            | 18/2166 [06:32<13:12:44, 22.14s/it]"
     ]
    },
    {
     "name": "stdout",
     "output_type": "stream",
     "text": [
      "QUERY:  Precipitation amount in Zollikofen February 9, 2021 20h\n",
      "QUERY:  temperature in Zollikofen February 9, 2021 20h\n",
      "QUERY:  humidity in Zollikofen February 9, 2021 20h\n",
      "ERROR: no data available-------------  humidity in Zollikofen February 9, 2021 20h\n",
      "ERROR:------------- name 'error' is not defined  ----------  humidity in Zollikofen February 9, 2021 20h\n",
      "QUERY:  wind speed in Zollikofen February 9, 2021 20h\n",
      "QUERY:  Moon Phase calculatorFebruary 9, 2021 20h\n"
     ]
    },
    {
     "name": "stderr",
     "output_type": "stream",
     "text": [
      "\r",
      "  1%|▋                                                                            | 19/2166 [06:53<13:03:52, 21.91s/it]"
     ]
    },
    {
     "name": "stdout",
     "output_type": "stream",
     "text": [
      "QUERY:  Precipitation amount in Zollikofen February 9, 2021 21h\n",
      "QUERY:  temperature in Zollikofen February 9, 2021 21h\n",
      "QUERY:  humidity in Zollikofen February 9, 2021 21h\n",
      "ERROR: no data available-------------  humidity in Zollikofen February 9, 2021 21h\n",
      "ERROR:------------- name 'error' is not defined  ----------  humidity in Zollikofen February 9, 2021 21h\n",
      "QUERY:  wind speed in Zollikofen February 9, 2021 21h\n",
      "QUERY:  Moon Phase calculatorFebruary 9, 2021 21h\n"
     ]
    },
    {
     "name": "stderr",
     "output_type": "stream",
     "text": [
      "\r",
      "  1%|▋                                                                            | 20/2166 [07:16<13:16:31, 22.27s/it]"
     ]
    },
    {
     "name": "stdout",
     "output_type": "stream",
     "text": [
      "QUERY:  Precipitation amount in Zollikofen February 9, 2021 22h\n",
      "QUERY:  temperature in Zollikofen February 9, 2021 22h\n",
      "QUERY:  humidity in Zollikofen February 9, 2021 22h\n",
      "ERROR: no data available-------------  humidity in Zollikofen February 9, 2021 22h\n",
      "ERROR:------------- name 'error' is not defined  ----------  humidity in Zollikofen February 9, 2021 22h\n",
      "QUERY:  wind speed in Zollikofen February 9, 2021 22h\n",
      "QUERY:  Moon Phase calculatorFebruary 9, 2021 22h\n",
      "(5224, 7)\n"
     ]
    },
    {
     "data": {
      "text/html": [
       "<div>\n",
       "<style scoped>\n",
       "    .dataframe tbody tr th:only-of-type {\n",
       "        vertical-align: middle;\n",
       "    }\n",
       "\n",
       "    .dataframe tbody tr th {\n",
       "        vertical-align: top;\n",
       "    }\n",
       "\n",
       "    .dataframe thead th {\n",
       "        text-align: right;\n",
       "    }\n",
       "</style>\n",
       "<table border=\"1\" class=\"dataframe\">\n",
       "  <thead>\n",
       "    <tr style=\"text-align: right;\">\n",
       "      <th></th>\n",
       "      <th>date</th>\n",
       "      <th>temperature</th>\n",
       "      <th>humidity</th>\n",
       "      <th>wind speed</th>\n",
       "      <th>Precipitation amount</th>\n",
       "      <th>query</th>\n",
       "      <th>Moon Phase calculator</th>\n",
       "    </tr>\n",
       "  </thead>\n",
       "  <tbody>\n",
       "    <tr>\n",
       "      <th>8</th>\n",
       "      <td>2021-02-09 21:00:00</td>\n",
       "      <td>0 °C\\n(9:00 pm CET | Tuesday, February 9, 2021)</td>\n",
       "      <td>ERROR</td>\n",
       "      <td>4 m/s\\n(9:00 pm CET | Tuesday, February 9, 2021)</td>\n",
       "      <td>(unknown)\\n(9:00 pm CET | Tuesday, February 9,...</td>\n",
       "      <td>Moon Phase calculatorFebruary 9, 2021 21h</td>\n",
       "      <td>| waning crescent moon\\n4.53% illuminated</td>\n",
       "    </tr>\n",
       "    <tr>\n",
       "      <th>9</th>\n",
       "      <td>2021-02-09 22:00:00</td>\n",
       "      <td>0 °C\\n(10:00 pm CET | Tuesday, February 9, 2021)</td>\n",
       "      <td>ERROR</td>\n",
       "      <td>4 m/s\\n(10:00 pm CET | Tuesday, February 9, 2021)</td>\n",
       "      <td>(unknown)\\n(10:00 pm CET | Tuesday, February 9...</td>\n",
       "      <td>Moon Phase calculatorFebruary 9, 2021 22h</td>\n",
       "      <td>| waning crescent moon\\n4.34% illuminated</td>\n",
       "    </tr>\n",
       "  </tbody>\n",
       "</table>\n",
       "</div>"
      ],
      "text/plain": [
       "                 date                                       temperature  \\\n",
       "8 2021-02-09 21:00:00   0 °C\\n(9:00 pm CET | Tuesday, February 9, 2021)   \n",
       "9 2021-02-09 22:00:00  0 °C\\n(10:00 pm CET | Tuesday, February 9, 2021)   \n",
       "\n",
       "  humidity                                         wind speed  \\\n",
       "8    ERROR   4 m/s\\n(9:00 pm CET | Tuesday, February 9, 2021)   \n",
       "9    ERROR  4 m/s\\n(10:00 pm CET | Tuesday, February 9, 2021)   \n",
       "\n",
       "                                Precipitation amount  \\\n",
       "8  (unknown)\\n(9:00 pm CET | Tuesday, February 9,...   \n",
       "9  (unknown)\\n(10:00 pm CET | Tuesday, February 9...   \n",
       "\n",
       "                                       query  \\\n",
       "8  Moon Phase calculatorFebruary 9, 2021 21h   \n",
       "9  Moon Phase calculatorFebruary 9, 2021 22h   \n",
       "\n",
       "                       Moon Phase calculator  \n",
       "8  | waning crescent moon\\n4.53% illuminated  \n",
       "9  | waning crescent moon\\n4.34% illuminated  "
      ]
     },
     "metadata": {},
     "output_type": "display_data"
    },
    {
     "name": "stderr",
     "output_type": "stream",
     "text": [
      "\r",
      "  1%|▋                                                                            | 21/2166 [07:39<13:14:18, 22.22s/it]"
     ]
    },
    {
     "name": "stdout",
     "output_type": "stream",
     "text": [
      "QUERY:  Precipitation amount in Zollikofen February 10, 2021 10h\n",
      "QUERY:  temperature in Zollikofen February 10, 2021 10h\n",
      "QUERY:  humidity in Zollikofen February 10, 2021 10h\n",
      "ERROR: no data available-------------  humidity in Zollikofen February 10, 2021 10h\n",
      "ERROR:------------- name 'error' is not defined  ----------  humidity in Zollikofen February 10, 2021 10h\n",
      "QUERY:  wind speed in Zollikofen February 10, 2021 10h\n",
      "QUERY:  Moon Phase calculatorFebruary 10, 2021 10h\n"
     ]
    },
    {
     "name": "stderr",
     "output_type": "stream",
     "text": [
      "\r",
      "  1%|▊                                                                            | 22/2166 [08:03<13:33:08, 22.76s/it]"
     ]
    },
    {
     "name": "stdout",
     "output_type": "stream",
     "text": [
      "QUERY:  Precipitation amount in Zollikofen February 10, 2021 11h\n",
      "QUERY:  temperature in Zollikofen February 10, 2021 11h\n",
      "QUERY:  humidity in Zollikofen February 10, 2021 11h\n",
      "ERROR: no data available-------------  humidity in Zollikofen February 10, 2021 11h\n",
      "ERROR:------------- name 'error' is not defined  ----------  humidity in Zollikofen February 10, 2021 11h\n",
      "QUERY:  wind speed in Zollikofen February 10, 2021 11h\n",
      "QUERY:  Moon Phase calculatorFebruary 10, 2021 11h\n"
     ]
    },
    {
     "name": "stderr",
     "output_type": "stream",
     "text": [
      "\r",
      "  1%|▊                                                                            | 23/2166 [08:24<13:22:38, 22.47s/it]"
     ]
    },
    {
     "name": "stdout",
     "output_type": "stream",
     "text": [
      "QUERY:  Precipitation amount in Zollikofen February 10, 2021 12h\n",
      "QUERY:  temperature in Zollikofen February 10, 2021 12h\n",
      "QUERY:  humidity in Zollikofen February 10, 2021 12h\n",
      "ERROR: no data available-------------  humidity in Zollikofen February 10, 2021 12h\n",
      "ERROR:------------- name 'error' is not defined  ----------  humidity in Zollikofen February 10, 2021 12h\n",
      "QUERY:  wind speed in Zollikofen February 10, 2021 12h\n",
      "QUERY:  Moon Phase calculatorFebruary 10, 2021 12h\n"
     ]
    },
    {
     "name": "stderr",
     "output_type": "stream",
     "text": [
      "\r",
      "  1%|▊                                                                            | 24/2166 [08:46<13:18:28, 22.37s/it]"
     ]
    },
    {
     "name": "stdout",
     "output_type": "stream",
     "text": [
      "QUERY:  Precipitation amount in Zollikofen February 10, 2021 13h\n",
      "QUERY:  temperature in Zollikofen February 10, 2021 13h\n",
      "QUERY:  humidity in Zollikofen February 10, 2021 13h\n",
      "ERROR: no data available-------------  humidity in Zollikofen February 10, 2021 13h\n",
      "ERROR:------------- name 'error' is not defined  ----------  humidity in Zollikofen February 10, 2021 13h\n",
      "QUERY:  wind speed in Zollikofen February 10, 2021 13h\n",
      "QUERY:  Moon Phase calculatorFebruary 10, 2021 13h\n"
     ]
    },
    {
     "name": "stderr",
     "output_type": "stream",
     "text": [
      "\r",
      "  1%|▉                                                                            | 25/2166 [09:10<13:27:30, 22.63s/it]"
     ]
    },
    {
     "name": "stdout",
     "output_type": "stream",
     "text": [
      "QUERY:  Precipitation amount in Zollikofen February 10, 2021 14h\n",
      "QUERY:  temperature in Zollikofen February 10, 2021 14h\n",
      "QUERY:  humidity in Zollikofen February 10, 2021 14h\n",
      "ERROR: no data available-------------  humidity in Zollikofen February 10, 2021 14h\n",
      "ERROR:------------- name 'error' is not defined  ----------  humidity in Zollikofen February 10, 2021 14h\n",
      "QUERY:  wind speed in Zollikofen February 10, 2021 14h\n",
      "QUERY:  Moon Phase calculatorFebruary 10, 2021 14h\n"
     ]
    },
    {
     "name": "stderr",
     "output_type": "stream",
     "text": [
      "\r",
      "  1%|▉                                                                            | 26/2166 [09:31<13:18:22, 22.38s/it]"
     ]
    },
    {
     "name": "stdout",
     "output_type": "stream",
     "text": [
      "QUERY:  Precipitation amount in Zollikofen February 10, 2021 15h\n",
      "QUERY:  temperature in Zollikofen February 10, 2021 15h\n",
      "QUERY:  humidity in Zollikofen February 10, 2021 15h\n",
      "ERROR: no data available-------------  humidity in Zollikofen February 10, 2021 15h\n",
      "ERROR:------------- name 'error' is not defined  ----------  humidity in Zollikofen February 10, 2021 15h\n",
      "QUERY:  wind speed in Zollikofen February 10, 2021 15h\n",
      "QUERY:  Moon Phase calculatorFebruary 10, 2021 15h\n"
     ]
    },
    {
     "name": "stderr",
     "output_type": "stream",
     "text": [
      "\r",
      "  1%|▉                                                                            | 27/2166 [09:53<13:06:23, 22.06s/it]"
     ]
    },
    {
     "name": "stdout",
     "output_type": "stream",
     "text": [
      "QUERY:  Precipitation amount in Zollikofen February 10, 2021 16h\n",
      "QUERY:  temperature in Zollikofen February 10, 2021 16h\n",
      "QUERY:  humidity in Zollikofen February 10, 2021 16h\n",
      "ERROR: no data available-------------  humidity in Zollikofen February 10, 2021 16h\n",
      "ERROR:------------- name 'error' is not defined  ----------  humidity in Zollikofen February 10, 2021 16h\n",
      "QUERY:  wind speed in Zollikofen February 10, 2021 16h\n",
      "QUERY:  Moon Phase calculatorFebruary 10, 2021 16h\n"
     ]
    },
    {
     "name": "stderr",
     "output_type": "stream",
     "text": [
      "\r",
      "  1%|▉                                                                            | 28/2166 [10:15<13:04:04, 22.00s/it]"
     ]
    },
    {
     "name": "stdout",
     "output_type": "stream",
     "text": [
      "QUERY:  Precipitation amount in Zollikofen February 10, 2021 17h\n",
      "QUERY:  temperature in Zollikofen February 10, 2021 17h\n",
      "QUERY:  humidity in Zollikofen February 10, 2021 17h\n",
      "ERROR: no data available-------------  humidity in Zollikofen February 10, 2021 17h\n",
      "ERROR:------------- name 'error' is not defined  ----------  humidity in Zollikofen February 10, 2021 17h\n",
      "QUERY:  wind speed in Zollikofen February 10, 2021 17h\n",
      "QUERY:  Moon Phase calculatorFebruary 10, 2021 17h\n"
     ]
    },
    {
     "name": "stderr",
     "output_type": "stream",
     "text": [
      "\r",
      "  1%|█                                                                            | 29/2166 [10:36<12:53:16, 21.71s/it]"
     ]
    },
    {
     "name": "stdout",
     "output_type": "stream",
     "text": [
      "QUERY:  Precipitation amount in Zollikofen February 10, 2021 18h\n",
      "QUERY:  temperature in Zollikofen February 10, 2021 18h\n",
      "QUERY:  humidity in Zollikofen February 10, 2021 18h\n",
      "ERROR: no data available-------------  humidity in Zollikofen February 10, 2021 18h\n",
      "ERROR:------------- name 'error' is not defined  ----------  humidity in Zollikofen February 10, 2021 18h\n",
      "QUERY:  wind speed in Zollikofen February 10, 2021 18h\n",
      "QUERY:  Moon Phase calculatorFebruary 10, 2021 18h\n"
     ]
    },
    {
     "name": "stderr",
     "output_type": "stream",
     "text": [
      "\r",
      "  1%|█                                                                            | 30/2166 [10:57<12:45:52, 21.51s/it]"
     ]
    },
    {
     "name": "stdout",
     "output_type": "stream",
     "text": [
      "QUERY:  Precipitation amount in Zollikofen February 10, 2021 19h\n",
      "QUERY:  temperature in Zollikofen February 10, 2021 19h\n",
      "QUERY:  humidity in Zollikofen February 10, 2021 19h\n",
      "ERROR: no data available-------------  humidity in Zollikofen February 10, 2021 19h\n",
      "ERROR:------------- name 'error' is not defined  ----------  humidity in Zollikofen February 10, 2021 19h\n",
      "QUERY:  wind speed in Zollikofen February 10, 2021 19h\n",
      "QUERY:  Moon Phase calculatorFebruary 10, 2021 19h\n",
      "(5234, 7)\n"
     ]
    },
    {
     "data": {
      "text/html": [
       "<div>\n",
       "<style scoped>\n",
       "    .dataframe tbody tr th:only-of-type {\n",
       "        vertical-align: middle;\n",
       "    }\n",
       "\n",
       "    .dataframe tbody tr th {\n",
       "        vertical-align: top;\n",
       "    }\n",
       "\n",
       "    .dataframe thead th {\n",
       "        text-align: right;\n",
       "    }\n",
       "</style>\n",
       "<table border=\"1\" class=\"dataframe\">\n",
       "  <thead>\n",
       "    <tr style=\"text-align: right;\">\n",
       "      <th></th>\n",
       "      <th>date</th>\n",
       "      <th>temperature</th>\n",
       "      <th>humidity</th>\n",
       "      <th>wind speed</th>\n",
       "      <th>Precipitation amount</th>\n",
       "      <th>query</th>\n",
       "      <th>Moon Phase calculator</th>\n",
       "    </tr>\n",
       "  </thead>\n",
       "  <tbody>\n",
       "    <tr>\n",
       "      <th>8</th>\n",
       "      <td>2021-02-10 18:00:00</td>\n",
       "      <td>-2 °C\\n(6:00 pm CET | Wednesday, February 10, ...</td>\n",
       "      <td>ERROR</td>\n",
       "      <td>3 m/s\\n(6:00 pm CET | Wednesday, February 10, ...</td>\n",
       "      <td>(unknown)\\n(6:00 pm CET | Wednesday, February ...</td>\n",
       "      <td>Moon Phase calculatorFebruary 10, 2021 18h</td>\n",
       "      <td>| waning crescent moon\\n1.48% illuminated</td>\n",
       "    </tr>\n",
       "    <tr>\n",
       "      <th>9</th>\n",
       "      <td>2021-02-10 19:00:00</td>\n",
       "      <td>-2 °C\\n(7:00 pm CET | Wednesday, February 10, ...</td>\n",
       "      <td>ERROR</td>\n",
       "      <td>4 m/s\\n(7:00 pm CET | Wednesday, February 10, ...</td>\n",
       "      <td>(unknown)\\n(7:00 pm CET | Wednesday, February ...</td>\n",
       "      <td>Moon Phase calculatorFebruary 10, 2021 19h</td>\n",
       "      <td>| waning crescent moon\\n1.38% illuminated</td>\n",
       "    </tr>\n",
       "  </tbody>\n",
       "</table>\n",
       "</div>"
      ],
      "text/plain": [
       "                 date                                        temperature  \\\n",
       "8 2021-02-10 18:00:00  -2 °C\\n(6:00 pm CET | Wednesday, February 10, ...   \n",
       "9 2021-02-10 19:00:00  -2 °C\\n(7:00 pm CET | Wednesday, February 10, ...   \n",
       "\n",
       "  humidity                                         wind speed  \\\n",
       "8    ERROR  3 m/s\\n(6:00 pm CET | Wednesday, February 10, ...   \n",
       "9    ERROR  4 m/s\\n(7:00 pm CET | Wednesday, February 10, ...   \n",
       "\n",
       "                                Precipitation amount  \\\n",
       "8  (unknown)\\n(6:00 pm CET | Wednesday, February ...   \n",
       "9  (unknown)\\n(7:00 pm CET | Wednesday, February ...   \n",
       "\n",
       "                                        query  \\\n",
       "8  Moon Phase calculatorFebruary 10, 2021 18h   \n",
       "9  Moon Phase calculatorFebruary 10, 2021 19h   \n",
       "\n",
       "                       Moon Phase calculator  \n",
       "8  | waning crescent moon\\n1.48% illuminated  \n",
       "9  | waning crescent moon\\n1.38% illuminated  "
      ]
     },
     "metadata": {},
     "output_type": "display_data"
    },
    {
     "name": "stderr",
     "output_type": "stream",
     "text": [
      "\r",
      "  1%|█                                                                            | 31/2166 [11:21<13:18:02, 22.43s/it]"
     ]
    },
    {
     "name": "stdout",
     "output_type": "stream",
     "text": [
      "QUERY:  Precipitation amount in Zollikofen February 10, 2021 20h\n",
      "QUERY:  temperature in Zollikofen February 10, 2021 20h\n",
      "QUERY:  humidity in Zollikofen February 10, 2021 20h\n",
      "ERROR: no data available-------------  humidity in Zollikofen February 10, 2021 20h\n",
      "ERROR:------------- name 'error' is not defined  ----------  humidity in Zollikofen February 10, 2021 20h\n",
      "QUERY:  wind speed in Zollikofen February 10, 2021 20h\n",
      "QUERY:  Moon Phase calculatorFebruary 10, 2021 20h\n"
     ]
    },
    {
     "name": "stderr",
     "output_type": "stream",
     "text": [
      "\r",
      "  1%|█▏                                                                           | 32/2166 [11:43<13:09:56, 22.21s/it]"
     ]
    },
    {
     "name": "stdout",
     "output_type": "stream",
     "text": [
      "QUERY:  Precipitation amount in Zollikofen February 10, 2021 21h\n",
      "QUERY:  temperature in Zollikofen February 10, 2021 21h\n",
      "QUERY:  humidity in Zollikofen February 10, 2021 21h\n",
      "ERROR: no data available-------------  humidity in Zollikofen February 10, 2021 21h\n",
      "ERROR:------------- name 'error' is not defined  ----------  humidity in Zollikofen February 10, 2021 21h\n",
      "QUERY:  wind speed in Zollikofen February 10, 2021 21h\n",
      "QUERY:  Moon Phase calculatorFebruary 10, 2021 21h\n"
     ]
    },
    {
     "name": "stderr",
     "output_type": "stream",
     "text": [
      "\r",
      "  2%|█▏                                                                           | 33/2166 [12:04<12:54:01, 21.77s/it]"
     ]
    },
    {
     "name": "stdout",
     "output_type": "stream",
     "text": [
      "QUERY:  Precipitation amount in Zollikofen February 10, 2021 22h\n",
      "QUERY:  temperature in Zollikofen February 10, 2021 22h\n",
      "QUERY:  humidity in Zollikofen February 10, 2021 22h\n",
      "ERROR: no data available-------------  humidity in Zollikofen February 10, 2021 22h\n",
      "ERROR:------------- name 'error' is not defined  ----------  humidity in Zollikofen February 10, 2021 22h\n",
      "QUERY:  wind speed in Zollikofen February 10, 2021 22h\n",
      "QUERY:  Moon Phase calculatorFebruary 10, 2021 22h\n"
     ]
    },
    {
     "name": "stderr",
     "output_type": "stream",
     "text": [
      "\r",
      "  2%|█▏                                                                           | 34/2166 [12:25<12:46:01, 21.56s/it]"
     ]
    },
    {
     "name": "stdout",
     "output_type": "stream",
     "text": [
      "QUERY:  Precipitation amount in Zollikofen February 10, 2021 23h\n",
      "QUERY:  temperature in Zollikofen February 10, 2021 23h\n",
      "QUERY:  humidity in Zollikofen February 10, 2021 23h\n",
      "ERROR: no data available-------------  humidity in Zollikofen February 10, 2021 23h\n",
      "ERROR:------------- name 'error' is not defined  ----------  humidity in Zollikofen February 10, 2021 23h\n",
      "QUERY:  wind speed in Zollikofen February 10, 2021 23h\n",
      "QUERY:  Moon Phase calculatorFebruary 10, 2021 23h\n"
     ]
    },
    {
     "name": "stderr",
     "output_type": "stream",
     "text": [
      "\r",
      "  2%|█▏                                                                           | 35/2166 [12:46<12:42:11, 21.46s/it]"
     ]
    },
    {
     "name": "stdout",
     "output_type": "stream",
     "text": [
      "QUERY:  Precipitation amount in Zollikofen March 28, 2021 1h\n",
      "QUERY:  temperature in Zollikofen March 28, 2021 1h\n",
      "QUERY:  humidity in Zollikofen March 28, 2021 1h\n",
      "ERROR: no data available-------------  humidity in Zollikofen March 28, 2021 1h\n",
      "ERROR:------------- name 'error' is not defined  ----------  humidity in Zollikofen March 28, 2021 1h\n",
      "QUERY:  wind speed in Zollikofen March 28, 2021 1h\n",
      "QUERY:  Moon Phase calculatorMarch 28, 2021 1h\n"
     ]
    },
    {
     "name": "stderr",
     "output_type": "stream",
     "text": [
      "\r",
      "  2%|█▎                                                                           | 36/2166 [13:07<12:33:23, 21.22s/it]"
     ]
    },
    {
     "name": "stdout",
     "output_type": "stream",
     "text": [
      "QUERY:  Precipitation amount in Zollikofen May 5, 2021 7h\n",
      "QUERY:  temperature in Zollikofen May 5, 2021 7h\n",
      "QUERY:  humidity in Zollikofen May 5, 2021 7h\n",
      "QUERY:  wind speed in Zollikofen May 5, 2021 7h\n",
      "QUERY:  Moon Phase calculatorMay 5, 2021 7h\n"
     ]
    },
    {
     "name": "stderr",
     "output_type": "stream",
     "text": [
      "\r",
      "  2%|█▎                                                                           | 37/2166 [13:29<12:42:03, 21.48s/it]"
     ]
    },
    {
     "name": "stdout",
     "output_type": "stream",
     "text": [
      "QUERY:  Precipitation amount in Zollikofen May 5, 2021 8h\n",
      "QUERY:  temperature in Zollikofen May 5, 2021 8h\n",
      "QUERY:  humidity in Zollikofen May 5, 2021 8h\n",
      "QUERY:  wind speed in Zollikofen May 5, 2021 8h\n",
      "QUERY:  Moon Phase calculatorMay 5, 2021 8h\n"
     ]
    },
    {
     "name": "stderr",
     "output_type": "stream",
     "text": [
      "\r",
      "  2%|█▎                                                                           | 38/2166 [13:50<12:42:27, 21.50s/it]"
     ]
    },
    {
     "name": "stdout",
     "output_type": "stream",
     "text": [
      "QUERY:  Precipitation amount in Zollikofen May 5, 2021 9h\n",
      "QUERY:  temperature in Zollikofen May 5, 2021 9h\n",
      "QUERY:  humidity in Zollikofen May 5, 2021 9h\n",
      "QUERY:  wind speed in Zollikofen May 5, 2021 9h\n",
      "QUERY:  Moon Phase calculatorMay 5, 2021 9h\n"
     ]
    },
    {
     "name": "stderr",
     "output_type": "stream",
     "text": [
      "\r",
      "  2%|█▍                                                                           | 39/2166 [14:13<12:51:07, 21.75s/it]"
     ]
    },
    {
     "name": "stdout",
     "output_type": "stream",
     "text": [
      "QUERY:  Precipitation amount in Zollikofen May 5, 2021 10h\n",
      "QUERY:  temperature in Zollikofen May 5, 2021 10h\n",
      "QUERY:  humidity in Zollikofen May 5, 2021 10h\n",
      "QUERY:  wind speed in Zollikofen May 5, 2021 10h\n",
      "QUERY:  Moon Phase calculatorMay 5, 2021 10h\n"
     ]
    },
    {
     "name": "stderr",
     "output_type": "stream",
     "text": [
      "\r",
      "  2%|█▍                                                                           | 40/2166 [14:35<12:51:45, 21.78s/it]"
     ]
    },
    {
     "name": "stdout",
     "output_type": "stream",
     "text": [
      "QUERY:  Precipitation amount in Zollikofen May 5, 2021 11h\n",
      "QUERY:  temperature in Zollikofen May 5, 2021 11h\n",
      "QUERY:  humidity in Zollikofen May 5, 2021 11h\n",
      "QUERY:  wind speed in Zollikofen May 5, 2021 11h\n",
      "QUERY:  Moon Phase calculatorMay 5, 2021 11h\n",
      "(5244, 7)\n"
     ]
    },
    {
     "data": {
      "text/html": [
       "<div>\n",
       "<style scoped>\n",
       "    .dataframe tbody tr th:only-of-type {\n",
       "        vertical-align: middle;\n",
       "    }\n",
       "\n",
       "    .dataframe tbody tr th {\n",
       "        vertical-align: top;\n",
       "    }\n",
       "\n",
       "    .dataframe thead th {\n",
       "        text-align: right;\n",
       "    }\n",
       "</style>\n",
       "<table border=\"1\" class=\"dataframe\">\n",
       "  <thead>\n",
       "    <tr style=\"text-align: right;\">\n",
       "      <th></th>\n",
       "      <th>date</th>\n",
       "      <th>temperature</th>\n",
       "      <th>humidity</th>\n",
       "      <th>wind speed</th>\n",
       "      <th>Precipitation amount</th>\n",
       "      <th>query</th>\n",
       "      <th>Moon Phase calculator</th>\n",
       "    </tr>\n",
       "  </thead>\n",
       "  <tbody>\n",
       "    <tr>\n",
       "      <th>8</th>\n",
       "      <td>2021-05-05 10:00:00</td>\n",
       "      <td>8 °C\\n(10:00 am CEST | Wednesday, May 5, 2021)</td>\n",
       "      <td>average: 66% (66%)\\n(10:00 am CEST | Wednesday...</td>\n",
       "      <td>5 m/s\\n(10:00 am CEST | Wednesday, May 5, 2021)</td>\n",
       "      <td>no precipitation\\n(10:00 am CEST | Wednesday, ...</td>\n",
       "      <td>Moon Phase calculatorMay 5, 2021 10h</td>\n",
       "      <td>| waning crescent moon\\n34.68% illuminated</td>\n",
       "    </tr>\n",
       "    <tr>\n",
       "      <th>9</th>\n",
       "      <td>2021-05-05 11:00:00</td>\n",
       "      <td>9 °C\\n(11:00 am CEST | Wednesday, May 5, 2021)</td>\n",
       "      <td>average: 60% (58 to 62%)\\n(11:00 am CEST | Wed...</td>\n",
       "      <td>6 m/s\\n(11:00 am CEST | Wednesday, May 5, 2021)</td>\n",
       "      <td>no precipitation\\n(11:00 am CEST | Wednesday, ...</td>\n",
       "      <td>Moon Phase calculatorMay 5, 2021 11h</td>\n",
       "      <td>| waning crescent moon\\n34.27% illuminated</td>\n",
       "    </tr>\n",
       "  </tbody>\n",
       "</table>\n",
       "</div>"
      ],
      "text/plain": [
       "                 date                                     temperature  \\\n",
       "8 2021-05-05 10:00:00  8 °C\\n(10:00 am CEST | Wednesday, May 5, 2021)   \n",
       "9 2021-05-05 11:00:00  9 °C\\n(11:00 am CEST | Wednesday, May 5, 2021)   \n",
       "\n",
       "                                            humidity  \\\n",
       "8  average: 66% (66%)\\n(10:00 am CEST | Wednesday...   \n",
       "9  average: 60% (58 to 62%)\\n(11:00 am CEST | Wed...   \n",
       "\n",
       "                                        wind speed  \\\n",
       "8  5 m/s\\n(10:00 am CEST | Wednesday, May 5, 2021)   \n",
       "9  6 m/s\\n(11:00 am CEST | Wednesday, May 5, 2021)   \n",
       "\n",
       "                                Precipitation amount  \\\n",
       "8  no precipitation\\n(10:00 am CEST | Wednesday, ...   \n",
       "9  no precipitation\\n(11:00 am CEST | Wednesday, ...   \n",
       "\n",
       "                                  query  \\\n",
       "8  Moon Phase calculatorMay 5, 2021 10h   \n",
       "9  Moon Phase calculatorMay 5, 2021 11h   \n",
       "\n",
       "                        Moon Phase calculator  \n",
       "8  | waning crescent moon\\n34.68% illuminated  \n",
       "9  | waning crescent moon\\n34.27% illuminated  "
      ]
     },
     "metadata": {},
     "output_type": "display_data"
    },
    {
     "name": "stderr",
     "output_type": "stream",
     "text": [
      "\r",
      "  2%|█▍                                                                           | 41/2166 [14:57<12:56:25, 21.92s/it]"
     ]
    },
    {
     "name": "stdout",
     "output_type": "stream",
     "text": [
      "QUERY:  Precipitation amount in Zollikofen May 5, 2021 12h\n",
      "QUERY:  temperature in Zollikofen May 5, 2021 12h\n",
      "QUERY:  humidity in Zollikofen May 5, 2021 12h\n",
      "QUERY:  wind speed in Zollikofen May 5, 2021 12h\n",
      "QUERY:  Moon Phase calculatorMay 5, 2021 12h\n"
     ]
    },
    {
     "name": "stderr",
     "output_type": "stream",
     "text": [
      "\r",
      "  2%|█▍                                                                           | 42/2166 [15:19<12:59:54, 22.03s/it]"
     ]
    },
    {
     "name": "stdout",
     "output_type": "stream",
     "text": [
      "QUERY:  Precipitation amount in Zollikofen May 5, 2021 13h\n",
      "QUERY:  temperature in Zollikofen May 5, 2021 13h\n",
      "QUERY:  humidity in Zollikofen May 5, 2021 13h\n",
      "QUERY:  wind speed in Zollikofen May 5, 2021 13h\n",
      "QUERY:  Moon Phase calculatorMay 5, 2021 13h\n"
     ]
    },
    {
     "name": "stderr",
     "output_type": "stream",
     "text": [
      "\r",
      "  2%|█▌                                                                           | 43/2166 [15:42<13:09:33, 22.31s/it]"
     ]
    },
    {
     "name": "stdout",
     "output_type": "stream",
     "text": [
      "QUERY:  Precipitation amount in Zollikofen May 5, 2021 14h\n",
      "QUERY:  temperature in Zollikofen May 5, 2021 14h\n",
      "QUERY:  humidity in Zollikofen May 5, 2021 14h\n",
      "QUERY:  wind speed in Zollikofen May 5, 2021 14h\n",
      "QUERY:  Moon Phase calculatorMay 5, 2021 14h\n"
     ]
    },
    {
     "name": "stderr",
     "output_type": "stream",
     "text": [
      "\r",
      "  2%|█▌                                                                           | 44/2166 [16:04<13:05:01, 22.20s/it]"
     ]
    },
    {
     "name": "stdout",
     "output_type": "stream",
     "text": [
      "QUERY:  Precipitation amount in Zollikofen May 5, 2021 15h\n",
      "QUERY:  temperature in Zollikofen May 5, 2021 15h\n",
      "QUERY:  humidity in Zollikofen May 5, 2021 15h\n",
      "QUERY:  wind speed in Zollikofen May 5, 2021 15h\n",
      "QUERY:  Moon Phase calculatorMay 5, 2021 15h\n"
     ]
    },
    {
     "name": "stderr",
     "output_type": "stream",
     "text": [
      "\r",
      "  2%|█▌                                                                           | 45/2166 [16:26<13:05:29, 22.22s/it]"
     ]
    },
    {
     "name": "stdout",
     "output_type": "stream",
     "text": [
      "QUERY:  Precipitation amount in Zollikofen May 5, 2021 16h\n",
      "QUERY:  temperature in Zollikofen May 5, 2021 16h\n",
      "QUERY:  humidity in Zollikofen May 5, 2021 16h\n",
      "QUERY:  wind speed in Zollikofen May 5, 2021 16h\n",
      "QUERY:  Moon Phase calculatorMay 5, 2021 16h\n"
     ]
    },
    {
     "name": "stderr",
     "output_type": "stream",
     "text": [
      "\r",
      "  2%|█▋                                                                           | 46/2166 [16:47<12:53:57, 21.90s/it]"
     ]
    },
    {
     "name": "stdout",
     "output_type": "stream",
     "text": [
      "QUERY:  Precipitation amount in Zollikofen May 5, 2021 17h\n",
      "QUERY:  temperature in Zollikofen May 5, 2021 17h\n",
      "QUERY:  humidity in Zollikofen May 5, 2021 17h\n",
      "QUERY:  wind speed in Zollikofen May 5, 2021 17h\n",
      "QUERY:  Moon Phase calculatorMay 5, 2021 17h\n"
     ]
    },
    {
     "name": "stderr",
     "output_type": "stream",
     "text": [
      "\r",
      "  2%|█▋                                                                           | 47/2166 [17:09<12:55:01, 21.95s/it]"
     ]
    },
    {
     "name": "stdout",
     "output_type": "stream",
     "text": [
      "QUERY:  Precipitation amount in Zollikofen May 5, 2021 18h\n",
      "QUERY:  temperature in Zollikofen May 5, 2021 18h\n",
      "QUERY:  humidity in Zollikofen May 5, 2021 18h\n",
      "QUERY:  wind speed in Zollikofen May 5, 2021 18h\n",
      "QUERY:  Moon Phase calculatorMay 5, 2021 18h\n"
     ]
    },
    {
     "name": "stderr",
     "output_type": "stream",
     "text": [
      "\r",
      "  2%|█▋                                                                           | 48/2166 [17:31<12:48:39, 21.78s/it]"
     ]
    },
    {
     "name": "stdout",
     "output_type": "stream",
     "text": [
      "QUERY:  Precipitation amount in Zollikofen May 5, 2021 19h\n",
      "QUERY:  temperature in Zollikofen May 5, 2021 19h\n",
      "QUERY:  humidity in Zollikofen May 5, 2021 19h\n",
      "QUERY:  wind speed in Zollikofen May 5, 2021 19h\n",
      "QUERY:  Moon Phase calculatorMay 5, 2021 19h\n"
     ]
    },
    {
     "name": "stderr",
     "output_type": "stream",
     "text": [
      "\r",
      "  2%|█▋                                                                           | 49/2166 [17:53<12:47:22, 21.75s/it]"
     ]
    },
    {
     "name": "stdout",
     "output_type": "stream",
     "text": [
      "QUERY:  Precipitation amount in Zollikofen May 5, 2021 20h\n",
      "QUERY:  temperature in Zollikofen May 5, 2021 20h\n",
      "QUERY:  humidity in Zollikofen May 5, 2021 20h\n",
      "QUERY:  wind speed in Zollikofen May 5, 2021 20h\n",
      "QUERY:  Moon Phase calculatorMay 5, 2021 20h\n"
     ]
    },
    {
     "name": "stderr",
     "output_type": "stream",
     "text": [
      "\r",
      "  2%|█▊                                                                           | 50/2166 [18:14<12:46:48, 21.74s/it]"
     ]
    },
    {
     "name": "stdout",
     "output_type": "stream",
     "text": [
      "QUERY:  Precipitation amount in Zollikofen May 5, 2021 21h\n",
      "QUERY:  temperature in Zollikofen May 5, 2021 21h\n",
      "QUERY:  humidity in Zollikofen May 5, 2021 21h\n",
      "QUERY:  wind speed in Zollikofen May 5, 2021 21h\n",
      "QUERY:  Moon Phase calculatorMay 5, 2021 21h\n",
      "(5254, 7)\n"
     ]
    },
    {
     "data": {
      "text/html": [
       "<div>\n",
       "<style scoped>\n",
       "    .dataframe tbody tr th:only-of-type {\n",
       "        vertical-align: middle;\n",
       "    }\n",
       "\n",
       "    .dataframe tbody tr th {\n",
       "        vertical-align: top;\n",
       "    }\n",
       "\n",
       "    .dataframe thead th {\n",
       "        text-align: right;\n",
       "    }\n",
       "</style>\n",
       "<table border=\"1\" class=\"dataframe\">\n",
       "  <thead>\n",
       "    <tr style=\"text-align: right;\">\n",
       "      <th></th>\n",
       "      <th>date</th>\n",
       "      <th>temperature</th>\n",
       "      <th>humidity</th>\n",
       "      <th>wind speed</th>\n",
       "      <th>Precipitation amount</th>\n",
       "      <th>query</th>\n",
       "      <th>Moon Phase calculator</th>\n",
       "    </tr>\n",
       "  </thead>\n",
       "  <tbody>\n",
       "    <tr>\n",
       "      <th>8</th>\n",
       "      <td>2021-05-05 20:00:00</td>\n",
       "      <td>9 °C\\n(8:00 pm CEST | Wednesday, May 5, 2021)</td>\n",
       "      <td>average: 45% (43 to 46%)\\n(8:00 pm CEST | Wedn...</td>\n",
       "      <td>2 m/s\\n(8:00 pm CEST | Wednesday, May 5, 2021)</td>\n",
       "      <td>no precipitation\\n(8:00 pm CEST | Wednesday, M...</td>\n",
       "      <td>Moon Phase calculatorMay 5, 2021 20h</td>\n",
       "      <td>| waning crescent moon\\n30.71% illuminated</td>\n",
       "    </tr>\n",
       "    <tr>\n",
       "      <th>9</th>\n",
       "      <td>2021-05-05 21:00:00</td>\n",
       "      <td>9 °C\\n(9:00 pm CEST | Wednesday, May 5, 2021)</td>\n",
       "      <td>average: 51% (50 to 53%)\\n(9:00 pm CEST | Wedn...</td>\n",
       "      <td>2 m/s\\n(9:00 pm CEST | Wednesday, May 5, 2021)</td>\n",
       "      <td>no precipitation\\n(9:00 pm CEST | Wednesday, M...</td>\n",
       "      <td>Moon Phase calculatorMay 5, 2021 21h</td>\n",
       "      <td>| waning crescent moon\\n30.32% illuminated</td>\n",
       "    </tr>\n",
       "  </tbody>\n",
       "</table>\n",
       "</div>"
      ],
      "text/plain": [
       "                 date                                    temperature  \\\n",
       "8 2021-05-05 20:00:00  9 °C\\n(8:00 pm CEST | Wednesday, May 5, 2021)   \n",
       "9 2021-05-05 21:00:00  9 °C\\n(9:00 pm CEST | Wednesday, May 5, 2021)   \n",
       "\n",
       "                                            humidity  \\\n",
       "8  average: 45% (43 to 46%)\\n(8:00 pm CEST | Wedn...   \n",
       "9  average: 51% (50 to 53%)\\n(9:00 pm CEST | Wedn...   \n",
       "\n",
       "                                       wind speed  \\\n",
       "8  2 m/s\\n(8:00 pm CEST | Wednesday, May 5, 2021)   \n",
       "9  2 m/s\\n(9:00 pm CEST | Wednesday, May 5, 2021)   \n",
       "\n",
       "                                Precipitation amount  \\\n",
       "8  no precipitation\\n(8:00 pm CEST | Wednesday, M...   \n",
       "9  no precipitation\\n(9:00 pm CEST | Wednesday, M...   \n",
       "\n",
       "                                  query  \\\n",
       "8  Moon Phase calculatorMay 5, 2021 20h   \n",
       "9  Moon Phase calculatorMay 5, 2021 21h   \n",
       "\n",
       "                        Moon Phase calculator  \n",
       "8  | waning crescent moon\\n30.71% illuminated  \n",
       "9  | waning crescent moon\\n30.32% illuminated  "
      ]
     },
     "metadata": {},
     "output_type": "display_data"
    },
    {
     "name": "stderr",
     "output_type": "stream",
     "text": [
      "\r",
      "  2%|█▊                                                                           | 51/2166 [18:36<12:44:39, 21.69s/it]"
     ]
    },
    {
     "name": "stdout",
     "output_type": "stream",
     "text": [
      "QUERY:  Precipitation amount in Zollikofen May 5, 2021 22h\n",
      "QUERY:  temperature in Zollikofen May 5, 2021 22h\n",
      "QUERY:  humidity in Zollikofen May 5, 2021 22h\n",
      "QUERY:  wind speed in Zollikofen May 5, 2021 22h\n",
      "QUERY:  Moon Phase calculatorMay 5, 2021 22h\n"
     ]
    },
    {
     "name": "stderr",
     "output_type": "stream",
     "text": [
      "\r",
      "  2%|█▊                                                                           | 52/2166 [18:57<12:39:53, 21.57s/it]"
     ]
    },
    {
     "name": "stdout",
     "output_type": "stream",
     "text": [
      "QUERY:  Precipitation amount in Zollikofen May 5, 2021 23h\n",
      "QUERY:  temperature in Zollikofen May 5, 2021 23h\n",
      "QUERY:  humidity in Zollikofen May 5, 2021 23h\n",
      "QUERY:  wind speed in Zollikofen May 5, 2021 23h\n",
      "QUERY:  Moon Phase calculatorMay 5, 2021 23h\n"
     ]
    },
    {
     "name": "stderr",
     "output_type": "stream",
     "text": [
      "\r",
      "  2%|█▉                                                                           | 53/2166 [19:18<12:33:31, 21.40s/it]"
     ]
    },
    {
     "name": "stdout",
     "output_type": "stream",
     "text": [
      "QUERY:  Precipitation amount in Zollikofen May 6, 2021 0h\n",
      "QUERY:  temperature in Zollikofen May 6, 2021 0h\n",
      "QUERY:  humidity in Zollikofen May 6, 2021 0h\n",
      "QUERY:  wind speed in Zollikofen May 6, 2021 0h\n",
      "QUERY:  Moon Phase calculatorMay 6, 2021 0h\n"
     ]
    },
    {
     "name": "stderr",
     "output_type": "stream",
     "text": [
      "\r",
      "  2%|█▉                                                                           | 54/2166 [19:40<12:34:49, 21.44s/it]"
     ]
    },
    {
     "name": "stdout",
     "output_type": "stream",
     "text": [
      "QUERY:  Precipitation amount in Zollikofen May 6, 2021 1h\n",
      "QUERY:  temperature in Zollikofen May 6, 2021 1h\n",
      "QUERY:  humidity in Zollikofen May 6, 2021 1h\n",
      "QUERY:  wind speed in Zollikofen May 6, 2021 1h\n",
      "QUERY:  Moon Phase calculatorMay 6, 2021 1h\n"
     ]
    },
    {
     "name": "stderr",
     "output_type": "stream",
     "text": [
      "\r",
      "  3%|█▉                                                                           | 55/2166 [20:00<12:27:13, 21.24s/it]"
     ]
    },
    {
     "name": "stdout",
     "output_type": "stream",
     "text": [
      "QUERY:  Precipitation amount in Zollikofen May 6, 2021 2h\n",
      "QUERY:  temperature in Zollikofen May 6, 2021 2h\n",
      "QUERY:  humidity in Zollikofen May 6, 2021 2h\n",
      "QUERY:  wind speed in Zollikofen May 6, 2021 2h\n",
      "QUERY:  Moon Phase calculatorMay 6, 2021 2h\n"
     ]
    },
    {
     "name": "stderr",
     "output_type": "stream",
     "text": [
      "\r",
      "  3%|█▉                                                                           | 56/2166 [20:22<12:30:59, 21.36s/it]"
     ]
    },
    {
     "name": "stdout",
     "output_type": "stream",
     "text": [
      "QUERY:  Precipitation amount in Zollikofen May 6, 2021 3h\n",
      "QUERY:  temperature in Zollikofen May 6, 2021 3h\n",
      "QUERY:  humidity in Zollikofen May 6, 2021 3h\n",
      "QUERY:  wind speed in Zollikofen May 6, 2021 3h\n",
      "QUERY:  Moon Phase calculatorMay 6, 2021 3h\n"
     ]
    },
    {
     "name": "stderr",
     "output_type": "stream",
     "text": [
      "\r",
      "  3%|██                                                                           | 57/2166 [20:45<12:47:06, 21.82s/it]"
     ]
    },
    {
     "name": "stdout",
     "output_type": "stream",
     "text": [
      "QUERY:  Precipitation amount in Zollikofen May 6, 2021 4h\n",
      "QUERY:  temperature in Zollikofen May 6, 2021 4h\n",
      "QUERY:  humidity in Zollikofen May 6, 2021 4h\n",
      "QUERY:  wind speed in Zollikofen May 6, 2021 4h\n",
      "QUERY:  Moon Phase calculatorMay 6, 2021 4h\n"
     ]
    },
    {
     "name": "stderr",
     "output_type": "stream",
     "text": [
      "\r",
      "  3%|██                                                                           | 58/2166 [21:06<12:39:20, 21.61s/it]"
     ]
    },
    {
     "name": "stdout",
     "output_type": "stream",
     "text": [
      "QUERY:  Precipitation amount in Zollikofen May 6, 2021 5h\n",
      "QUERY:  temperature in Zollikofen May 6, 2021 5h\n",
      "QUERY:  humidity in Zollikofen May 6, 2021 5h\n",
      "QUERY:  wind speed in Zollikofen May 6, 2021 5h\n",
      "QUERY:  Moon Phase calculatorMay 6, 2021 5h\n"
     ]
    },
    {
     "name": "stderr",
     "output_type": "stream",
     "text": [
      "\r",
      "  3%|██                                                                           | 59/2166 [21:27<12:30:02, 21.36s/it]"
     ]
    },
    {
     "name": "stdout",
     "output_type": "stream",
     "text": [
      "QUERY:  Precipitation amount in Zollikofen May 6, 2021 6h\n",
      "QUERY:  temperature in Zollikofen May 6, 2021 6h\n",
      "QUERY:  humidity in Zollikofen May 6, 2021 6h\n",
      "QUERY:  wind speed in Zollikofen May 6, 2021 6h\n",
      "QUERY:  Moon Phase calculatorMay 6, 2021 6h\n"
     ]
    },
    {
     "name": "stderr",
     "output_type": "stream",
     "text": [
      "\r",
      "  3%|██▏                                                                          | 60/2166 [21:47<12:19:20, 21.06s/it]"
     ]
    },
    {
     "name": "stdout",
     "output_type": "stream",
     "text": [
      "QUERY:  Precipitation amount in Zollikofen May 6, 2021 7h\n",
      "ERROR:------------- results  ----------  Precipitation amount in Zollikofen May 6, 2021 7h\n",
      "QUERY:  temperature in Zollikofen May 6, 2021 7h\n",
      "QUERY:  humidity in Zollikofen May 6, 2021 7h\n",
      "QUERY:  wind speed in Zollikofen May 6, 2021 7h\n",
      "QUERY:  Moon Phase calculatorMay 6, 2021 7h\n",
      "(5264, 7)\n"
     ]
    },
    {
     "data": {
      "text/html": [
       "<div>\n",
       "<style scoped>\n",
       "    .dataframe tbody tr th:only-of-type {\n",
       "        vertical-align: middle;\n",
       "    }\n",
       "\n",
       "    .dataframe tbody tr th {\n",
       "        vertical-align: top;\n",
       "    }\n",
       "\n",
       "    .dataframe thead th {\n",
       "        text-align: right;\n",
       "    }\n",
       "</style>\n",
       "<table border=\"1\" class=\"dataframe\">\n",
       "  <thead>\n",
       "    <tr style=\"text-align: right;\">\n",
       "      <th></th>\n",
       "      <th>date</th>\n",
       "      <th>temperature</th>\n",
       "      <th>humidity</th>\n",
       "      <th>wind speed</th>\n",
       "      <th>Precipitation amount</th>\n",
       "      <th>query</th>\n",
       "      <th>Moon Phase calculator</th>\n",
       "    </tr>\n",
       "  </thead>\n",
       "  <tbody>\n",
       "    <tr>\n",
       "      <th>8</th>\n",
       "      <td>2021-05-06 06:00:00</td>\n",
       "      <td>6 °C\\n(6:00 am CEST | Thursday, May 6, 2021)</td>\n",
       "      <td>average: 70% (70%)\\n(6:00 am CEST | Thursday, ...</td>\n",
       "      <td>1 m/s\\n(6:00 am CEST | Thursday, May 6, 2021)</td>\n",
       "      <td>no precipitation\\n(6:00 am CEST | Thursday, Ma...</td>\n",
       "      <td>Moon Phase calculatorMay 6, 2021 6h</td>\n",
       "      <td>| waning crescent moon\\n26.91% illuminated</td>\n",
       "    </tr>\n",
       "    <tr>\n",
       "      <th>9</th>\n",
       "      <td>2021-05-06 07:00:00</td>\n",
       "      <td>7 °C\\n(7:00 am CEST | Thursday, May 6, 2021)</td>\n",
       "      <td>average: 70% (70%)\\n(7:00 am CEST | Thursday, ...</td>\n",
       "      <td>2 m/s\\n(7:00 am CEST | Thursday, May 6, 2021)</td>\n",
       "      <td>ERROR</td>\n",
       "      <td>Moon Phase calculatorMay 6, 2021 7h</td>\n",
       "      <td>| waning crescent moon\\n26.55% illuminated</td>\n",
       "    </tr>\n",
       "  </tbody>\n",
       "</table>\n",
       "</div>"
      ],
      "text/plain": [
       "                 date                                   temperature  \\\n",
       "8 2021-05-06 06:00:00  6 °C\\n(6:00 am CEST | Thursday, May 6, 2021)   \n",
       "9 2021-05-06 07:00:00  7 °C\\n(7:00 am CEST | Thursday, May 6, 2021)   \n",
       "\n",
       "                                            humidity  \\\n",
       "8  average: 70% (70%)\\n(6:00 am CEST | Thursday, ...   \n",
       "9  average: 70% (70%)\\n(7:00 am CEST | Thursday, ...   \n",
       "\n",
       "                                      wind speed  \\\n",
       "8  1 m/s\\n(6:00 am CEST | Thursday, May 6, 2021)   \n",
       "9  2 m/s\\n(7:00 am CEST | Thursday, May 6, 2021)   \n",
       "\n",
       "                                Precipitation amount  \\\n",
       "8  no precipitation\\n(6:00 am CEST | Thursday, Ma...   \n",
       "9                                              ERROR   \n",
       "\n",
       "                                 query  \\\n",
       "8  Moon Phase calculatorMay 6, 2021 6h   \n",
       "9  Moon Phase calculatorMay 6, 2021 7h   \n",
       "\n",
       "                        Moon Phase calculator  \n",
       "8  | waning crescent moon\\n26.91% illuminated  \n",
       "9  | waning crescent moon\\n26.55% illuminated  "
      ]
     },
     "metadata": {},
     "output_type": "display_data"
    },
    {
     "name": "stderr",
     "output_type": "stream",
     "text": [
      "\r",
      "  3%|██▏                                                                          | 61/2166 [22:10<12:32:06, 21.44s/it]"
     ]
    },
    {
     "name": "stdout",
     "output_type": "stream",
     "text": [
      "QUERY:  Precipitation amount in Zollikofen May 6, 2021 8h\n",
      "QUERY:  temperature in Zollikofen May 6, 2021 8h\n",
      "QUERY:  humidity in Zollikofen May 6, 2021 8h\n",
      "QUERY:  wind speed in Zollikofen May 6, 2021 8h\n",
      "QUERY:  Moon Phase calculatorMay 6, 2021 8h\n"
     ]
    },
    {
     "name": "stderr",
     "output_type": "stream",
     "text": [
      "\r",
      "  3%|██▏                                                                          | 62/2166 [22:30<12:21:00, 21.13s/it]"
     ]
    },
    {
     "name": "stdout",
     "output_type": "stream",
     "text": [
      "QUERY:  Precipitation amount in Zollikofen May 6, 2021 9h\n",
      "QUERY:  temperature in Zollikofen May 6, 2021 9h\n",
      "QUERY:  humidity in Zollikofen May 6, 2021 9h\n",
      "QUERY:  wind speed in Zollikofen May 6, 2021 9h\n",
      "QUERY:  Moon Phase calculatorMay 6, 2021 9h\n"
     ]
    },
    {
     "name": "stderr",
     "output_type": "stream",
     "text": [
      "\r",
      "  3%|██▏                                                                          | 63/2166 [22:52<12:25:56, 21.28s/it]"
     ]
    },
    {
     "name": "stdout",
     "output_type": "stream",
     "text": [
      "QUERY:  Precipitation amount in Zollikofen May 6, 2021 10h\n",
      "QUERY:  temperature in Zollikofen May 6, 2021 10h\n",
      "QUERY:  humidity in Zollikofen May 6, 2021 10h\n",
      "QUERY:  wind speed in Zollikofen May 6, 2021 10h\n",
      "QUERY:  Moon Phase calculatorMay 6, 2021 10h\n"
     ]
    },
    {
     "name": "stderr",
     "output_type": "stream",
     "text": [
      "\r",
      "  3%|██▎                                                                          | 64/2166 [23:15<12:45:54, 21.86s/it]"
     ]
    },
    {
     "name": "stdout",
     "output_type": "stream",
     "text": [
      "QUERY:  Precipitation amount in Zollikofen May 6, 2021 11h\n",
      "QUERY:  temperature in Zollikofen May 6, 2021 11h\n",
      "QUERY:  humidity in Zollikofen May 6, 2021 11h\n",
      "QUERY:  wind speed in Zollikofen May 6, 2021 11h\n",
      "QUERY:  Moon Phase calculatorMay 6, 2021 11h\n"
     ]
    },
    {
     "name": "stderr",
     "output_type": "stream",
     "text": [
      "\r",
      "  3%|██▎                                                                          | 65/2166 [23:37<12:44:51, 21.84s/it]"
     ]
    },
    {
     "name": "stdout",
     "output_type": "stream",
     "text": [
      "QUERY:  Precipitation amount in Zollikofen May 6, 2021 12h\n",
      "QUERY:  temperature in Zollikofen May 6, 2021 12h\n",
      "QUERY:  humidity in Zollikofen May 6, 2021 12h\n",
      "QUERY:  wind speed in Zollikofen May 6, 2021 12h\n",
      "QUERY:  Moon Phase calculatorMay 6, 2021 12h\n"
     ]
    },
    {
     "name": "stderr",
     "output_type": "stream",
     "text": [
      "\r",
      "  3%|██▎                                                                          | 66/2166 [24:00<13:04:23, 22.41s/it]"
     ]
    },
    {
     "name": "stdout",
     "output_type": "stream",
     "text": [
      "QUERY:  Precipitation amount in Zollikofen May 6, 2021 13h\n",
      "QUERY:  temperature in Zollikofen May 6, 2021 13h\n",
      "QUERY:  humidity in Zollikofen May 6, 2021 13h\n",
      "QUERY:  wind speed in Zollikofen May 6, 2021 13h\n",
      "QUERY:  Moon Phase calculatorMay 6, 2021 13h\n"
     ]
    },
    {
     "name": "stderr",
     "output_type": "stream",
     "text": [
      "\r",
      "  3%|██▍                                                                          | 67/2166 [24:22<12:53:46, 22.12s/it]"
     ]
    },
    {
     "name": "stdout",
     "output_type": "stream",
     "text": [
      "QUERY:  Precipitation amount in Zollikofen May 6, 2021 14h\n",
      "QUERY:  temperature in Zollikofen May 6, 2021 14h\n",
      "QUERY:  humidity in Zollikofen May 6, 2021 14h\n",
      "QUERY:  wind speed in Zollikofen May 6, 2021 14h\n",
      "QUERY:  Moon Phase calculatorMay 6, 2021 14h\n"
     ]
    },
    {
     "name": "stderr",
     "output_type": "stream",
     "text": [
      "\r",
      "  3%|██▍                                                                          | 68/2166 [24:44<12:53:22, 22.12s/it]"
     ]
    },
    {
     "name": "stdout",
     "output_type": "stream",
     "text": [
      "QUERY:  Precipitation amount in Zollikofen May 6, 2021 15h\n",
      "QUERY:  temperature in Zollikofen May 6, 2021 15h\n",
      "QUERY:  humidity in Zollikofen May 6, 2021 15h\n",
      "QUERY:  wind speed in Zollikofen May 6, 2021 15h\n",
      "QUERY:  Moon Phase calculatorMay 6, 2021 15h\n"
     ]
    },
    {
     "name": "stderr",
     "output_type": "stream",
     "text": [
      "\r",
      "  3%|██▍                                                                          | 69/2166 [25:06<12:56:15, 22.21s/it]"
     ]
    },
    {
     "name": "stdout",
     "output_type": "stream",
     "text": [
      "QUERY:  Precipitation amount in Zollikofen May 6, 2021 16h\n",
      "QUERY:  temperature in Zollikofen May 6, 2021 16h\n",
      "QUERY:  humidity in Zollikofen May 6, 2021 16h\n",
      "QUERY:  wind speed in Zollikofen May 6, 2021 16h\n",
      "QUERY:  Moon Phase calculatorMay 6, 2021 16h\n"
     ]
    },
    {
     "name": "stderr",
     "output_type": "stream",
     "text": [
      "\r",
      "  3%|██▍                                                                          | 70/2166 [25:27<12:43:57, 21.87s/it]"
     ]
    },
    {
     "name": "stdout",
     "output_type": "stream",
     "text": [
      "QUERY:  Precipitation amount in Zollikofen May 6, 2021 17h\n",
      "QUERY:  temperature in Zollikofen May 6, 2021 17h\n",
      "QUERY:  humidity in Zollikofen May 6, 2021 17h\n",
      "QUERY:  wind speed in Zollikofen May 6, 2021 17h\n",
      "QUERY:  Moon Phase calculatorMay 6, 2021 17h\n",
      "(5274, 7)\n"
     ]
    },
    {
     "data": {
      "text/html": [
       "<div>\n",
       "<style scoped>\n",
       "    .dataframe tbody tr th:only-of-type {\n",
       "        vertical-align: middle;\n",
       "    }\n",
       "\n",
       "    .dataframe tbody tr th {\n",
       "        vertical-align: top;\n",
       "    }\n",
       "\n",
       "    .dataframe thead th {\n",
       "        text-align: right;\n",
       "    }\n",
       "</style>\n",
       "<table border=\"1\" class=\"dataframe\">\n",
       "  <thead>\n",
       "    <tr style=\"text-align: right;\">\n",
       "      <th></th>\n",
       "      <th>date</th>\n",
       "      <th>temperature</th>\n",
       "      <th>humidity</th>\n",
       "      <th>wind speed</th>\n",
       "      <th>Precipitation amount</th>\n",
       "      <th>query</th>\n",
       "      <th>Moon Phase calculator</th>\n",
       "    </tr>\n",
       "  </thead>\n",
       "  <tbody>\n",
       "    <tr>\n",
       "      <th>8</th>\n",
       "      <td>2021-05-06 16:00:00</td>\n",
       "      <td>9 °C\\n(4:00 pm CEST | Thursday, May 6, 2021)</td>\n",
       "      <td>average: 100% (100%)\\n(4:00 pm CEST | Thursday...</td>\n",
       "      <td>2 m/s\\n(4:00 pm CEST | Thursday, May 6, 2021)</td>\n",
       "      <td>rain\\n(4:00 pm CEST | Thursday, May 6, 2021)</td>\n",
       "      <td>Moon Phase calculatorMay 6, 2021 16h</td>\n",
       "      <td>| waning crescent moon\\n23.31% illuminated</td>\n",
       "    </tr>\n",
       "    <tr>\n",
       "      <th>9</th>\n",
       "      <td>2021-05-06 17:00:00</td>\n",
       "      <td>9 °C\\n(5:00 pm CEST | Thursday, May 6, 2021)</td>\n",
       "      <td>average: 100% (100%)\\n(5:00 pm CEST | Thursday...</td>\n",
       "      <td>3 m/s\\n(5:00 pm CEST | Thursday, May 6, 2021)</td>\n",
       "      <td>rain\\n(5:00 pm CEST | Thursday, May 6, 2021)</td>\n",
       "      <td>Moon Phase calculatorMay 6, 2021 17h</td>\n",
       "      <td>| waning crescent moon\\n22.96% illuminated</td>\n",
       "    </tr>\n",
       "  </tbody>\n",
       "</table>\n",
       "</div>"
      ],
      "text/plain": [
       "                 date                                   temperature  \\\n",
       "8 2021-05-06 16:00:00  9 °C\\n(4:00 pm CEST | Thursday, May 6, 2021)   \n",
       "9 2021-05-06 17:00:00  9 °C\\n(5:00 pm CEST | Thursday, May 6, 2021)   \n",
       "\n",
       "                                            humidity  \\\n",
       "8  average: 100% (100%)\\n(4:00 pm CEST | Thursday...   \n",
       "9  average: 100% (100%)\\n(5:00 pm CEST | Thursday...   \n",
       "\n",
       "                                      wind speed  \\\n",
       "8  2 m/s\\n(4:00 pm CEST | Thursday, May 6, 2021)   \n",
       "9  3 m/s\\n(5:00 pm CEST | Thursday, May 6, 2021)   \n",
       "\n",
       "                           Precipitation amount  \\\n",
       "8  rain\\n(4:00 pm CEST | Thursday, May 6, 2021)   \n",
       "9  rain\\n(5:00 pm CEST | Thursday, May 6, 2021)   \n",
       "\n",
       "                                  query  \\\n",
       "8  Moon Phase calculatorMay 6, 2021 16h   \n",
       "9  Moon Phase calculatorMay 6, 2021 17h   \n",
       "\n",
       "                        Moon Phase calculator  \n",
       "8  | waning crescent moon\\n23.31% illuminated  \n",
       "9  | waning crescent moon\\n22.96% illuminated  "
      ]
     },
     "metadata": {},
     "output_type": "display_data"
    },
    {
     "name": "stderr",
     "output_type": "stream",
     "text": [
      "\r",
      "  3%|██▌                                                                          | 71/2166 [25:49<12:37:51, 21.71s/it]"
     ]
    },
    {
     "name": "stdout",
     "output_type": "stream",
     "text": [
      "QUERY:  Precipitation amount in Zollikofen May 6, 2021 18h\n",
      "ERROR:------------- results  ----------  Precipitation amount in Zollikofen May 6, 2021 18h\n",
      "QUERY:  temperature in Zollikofen May 6, 2021 18h\n",
      "QUERY:  humidity in Zollikofen May 6, 2021 18h\n",
      "QUERY:  wind speed in Zollikofen May 6, 2021 18h\n",
      "QUERY:  Moon Phase calculatorMay 6, 2021 18h\n"
     ]
    },
    {
     "name": "stderr",
     "output_type": "stream",
     "text": [
      "\r",
      "  3%|██▌                                                                          | 72/2166 [26:10<12:37:31, 21.71s/it]"
     ]
    },
    {
     "name": "stdout",
     "output_type": "stream",
     "text": [
      "QUERY:  Precipitation amount in Zollikofen May 6, 2021 19h\n",
      "QUERY:  temperature in Zollikofen May 6, 2021 19h\n",
      "QUERY:  humidity in Zollikofen May 6, 2021 19h\n",
      "QUERY:  wind speed in Zollikofen May 6, 2021 19h\n",
      "QUERY:  Moon Phase calculatorMay 6, 2021 19h\n"
     ]
    },
    {
     "name": "stderr",
     "output_type": "stream",
     "text": [
      "\r",
      "  3%|██▌                                                                          | 73/2166 [26:31<12:27:35, 21.43s/it]"
     ]
    },
    {
     "name": "stdout",
     "output_type": "stream",
     "text": [
      "QUERY:  Precipitation amount in Zollikofen May 6, 2021 20h\n",
      "QUERY:  temperature in Zollikofen May 6, 2021 20h\n",
      "QUERY:  humidity in Zollikofen May 6, 2021 20h\n",
      "QUERY:  wind speed in Zollikofen May 6, 2021 20h\n",
      "QUERY:  Moon Phase calculatorMay 6, 2021 20h\n"
     ]
    },
    {
     "name": "stderr",
     "output_type": "stream",
     "text": [
      "\r",
      "  3%|██▋                                                                          | 74/2166 [26:52<12:25:45, 21.39s/it]"
     ]
    },
    {
     "name": "stdout",
     "output_type": "stream",
     "text": [
      "QUERY:  Precipitation amount in Zollikofen May 6, 2021 21h\n",
      "QUERY:  temperature in Zollikofen May 6, 2021 21h\n",
      "QUERY:  humidity in Zollikofen May 6, 2021 21h\n",
      "QUERY:  wind speed in Zollikofen May 6, 2021 21h\n",
      "QUERY:  Moon Phase calculatorMay 6, 2021 21h\n"
     ]
    },
    {
     "name": "stderr",
     "output_type": "stream",
     "text": [
      "\r",
      "  3%|██▋                                                                          | 75/2166 [27:13<12:17:03, 21.15s/it]"
     ]
    },
    {
     "name": "stdout",
     "output_type": "stream",
     "text": [
      "QUERY:  Precipitation amount in Zollikofen May 6, 2021 22h\n",
      "QUERY:  temperature in Zollikofen May 6, 2021 22h\n",
      "QUERY:  humidity in Zollikofen May 6, 2021 22h\n",
      "QUERY:  wind speed in Zollikofen May 6, 2021 22h\n",
      "QUERY:  Moon Phase calculatorMay 6, 2021 22h\n"
     ]
    },
    {
     "name": "stderr",
     "output_type": "stream",
     "text": [
      "\r",
      "  4%|██▋                                                                          | 76/2166 [27:34<12:09:28, 20.94s/it]"
     ]
    },
    {
     "name": "stdout",
     "output_type": "stream",
     "text": [
      "QUERY:  Precipitation amount in Zollikofen May 6, 2021 23h\n",
      "QUERY:  temperature in Zollikofen May 6, 2021 23h\n",
      "QUERY:  humidity in Zollikofen May 6, 2021 23h\n",
      "QUERY:  wind speed in Zollikofen May 6, 2021 23h\n",
      "QUERY:  Moon Phase calculatorMay 6, 2021 23h\n"
     ]
    },
    {
     "name": "stderr",
     "output_type": "stream",
     "text": [
      "\r",
      "  4%|██▋                                                                          | 77/2166 [27:55<12:17:22, 21.18s/it]"
     ]
    },
    {
     "name": "stdout",
     "output_type": "stream",
     "text": [
      "QUERY:  Precipitation amount in Zollikofen May 7, 2021 0h\n",
      "QUERY:  temperature in Zollikofen May 7, 2021 0h\n",
      "QUERY:  humidity in Zollikofen May 7, 2021 0h\n",
      "QUERY:  wind speed in Zollikofen May 7, 2021 0h\n",
      "QUERY:  Moon Phase calculatorMay 7, 2021 0h\n"
     ]
    },
    {
     "name": "stderr",
     "output_type": "stream",
     "text": [
      "\r",
      "  4%|██▊                                                                          | 78/2166 [28:16<12:13:13, 21.07s/it]"
     ]
    },
    {
     "name": "stdout",
     "output_type": "stream",
     "text": [
      "QUERY:  Precipitation amount in Zollikofen May 7, 2021 1h\n",
      "QUERY:  temperature in Zollikofen May 7, 2021 1h\n",
      "QUERY:  humidity in Zollikofen May 7, 2021 1h\n",
      "QUERY:  wind speed in Zollikofen May 7, 2021 1h\n",
      "QUERY:  Moon Phase calculatorMay 7, 2021 1h\n"
     ]
    },
    {
     "name": "stderr",
     "output_type": "stream",
     "text": [
      "\r",
      "  4%|██▊                                                                          | 79/2166 [28:38<12:21:19, 21.31s/it]"
     ]
    },
    {
     "name": "stdout",
     "output_type": "stream",
     "text": [
      "QUERY:  Precipitation amount in Zollikofen May 7, 2021 2h\n",
      "QUERY:  temperature in Zollikofen May 7, 2021 2h\n",
      "QUERY:  humidity in Zollikofen May 7, 2021 2h\n",
      "QUERY:  wind speed in Zollikofen May 7, 2021 2h\n",
      "QUERY:  Moon Phase calculatorMay 7, 2021 2h\n"
     ]
    },
    {
     "name": "stderr",
     "output_type": "stream",
     "text": [
      "\r",
      "  4%|██▊                                                                          | 80/2166 [28:58<12:08:46, 20.96s/it]"
     ]
    },
    {
     "name": "stdout",
     "output_type": "stream",
     "text": [
      "QUERY:  Precipitation amount in Zollikofen May 7, 2021 3h\n",
      "QUERY:  temperature in Zollikofen May 7, 2021 3h\n",
      "QUERY:  humidity in Zollikofen May 7, 2021 3h\n",
      "QUERY:  wind speed in Zollikofen May 7, 2021 3h\n",
      "QUERY:  Moon Phase calculatorMay 7, 2021 3h\n",
      "(5284, 7)\n"
     ]
    },
    {
     "data": {
      "text/html": [
       "<div>\n",
       "<style scoped>\n",
       "    .dataframe tbody tr th:only-of-type {\n",
       "        vertical-align: middle;\n",
       "    }\n",
       "\n",
       "    .dataframe tbody tr th {\n",
       "        vertical-align: top;\n",
       "    }\n",
       "\n",
       "    .dataframe thead th {\n",
       "        text-align: right;\n",
       "    }\n",
       "</style>\n",
       "<table border=\"1\" class=\"dataframe\">\n",
       "  <thead>\n",
       "    <tr style=\"text-align: right;\">\n",
       "      <th></th>\n",
       "      <th>date</th>\n",
       "      <th>temperature</th>\n",
       "      <th>humidity</th>\n",
       "      <th>wind speed</th>\n",
       "      <th>Precipitation amount</th>\n",
       "      <th>query</th>\n",
       "      <th>Moon Phase calculator</th>\n",
       "    </tr>\n",
       "  </thead>\n",
       "  <tbody>\n",
       "    <tr>\n",
       "      <th>8</th>\n",
       "      <td>2021-05-07 02:00:00</td>\n",
       "      <td>9 °C\\n(2:00 am CEST | Friday, May 7, 2021)</td>\n",
       "      <td>average: 66% (66%)\\n(2:00 am CEST | Friday, Ma...</td>\n",
       "      <td>4 m/s\\n(2:00 am CEST | Friday, May 7, 2021)</td>\n",
       "      <td>no precipitation\\n(2:00 am CEST | Friday, May ...</td>\n",
       "      <td>Moon Phase calculatorMay 7, 2021 2h</td>\n",
       "      <td>| waning crescent moon\\n19.92% illuminated</td>\n",
       "    </tr>\n",
       "    <tr>\n",
       "      <th>9</th>\n",
       "      <td>2021-05-07 03:00:00</td>\n",
       "      <td>9 °C\\n(3:00 am CEST | Friday, May 7, 2021)</td>\n",
       "      <td>average: 71% (66 to 76%)\\n(3:00 am CEST | Frid...</td>\n",
       "      <td>5 m/s\\n(3:00 am CEST | Friday, May 7, 2021)</td>\n",
       "      <td>no precipitation\\n(3:00 am CEST | Friday, May ...</td>\n",
       "      <td>Moon Phase calculatorMay 7, 2021 3h</td>\n",
       "      <td>| waning crescent moon\\n19.60% illuminated</td>\n",
       "    </tr>\n",
       "  </tbody>\n",
       "</table>\n",
       "</div>"
      ],
      "text/plain": [
       "                 date                                 temperature  \\\n",
       "8 2021-05-07 02:00:00  9 °C\\n(2:00 am CEST | Friday, May 7, 2021)   \n",
       "9 2021-05-07 03:00:00  9 °C\\n(3:00 am CEST | Friday, May 7, 2021)   \n",
       "\n",
       "                                            humidity  \\\n",
       "8  average: 66% (66%)\\n(2:00 am CEST | Friday, Ma...   \n",
       "9  average: 71% (66 to 76%)\\n(3:00 am CEST | Frid...   \n",
       "\n",
       "                                    wind speed  \\\n",
       "8  4 m/s\\n(2:00 am CEST | Friday, May 7, 2021)   \n",
       "9  5 m/s\\n(3:00 am CEST | Friday, May 7, 2021)   \n",
       "\n",
       "                                Precipitation amount  \\\n",
       "8  no precipitation\\n(2:00 am CEST | Friday, May ...   \n",
       "9  no precipitation\\n(3:00 am CEST | Friday, May ...   \n",
       "\n",
       "                                 query  \\\n",
       "8  Moon Phase calculatorMay 7, 2021 2h   \n",
       "9  Moon Phase calculatorMay 7, 2021 3h   \n",
       "\n",
       "                        Moon Phase calculator  \n",
       "8  | waning crescent moon\\n19.92% illuminated  \n",
       "9  | waning crescent moon\\n19.60% illuminated  "
      ]
     },
     "metadata": {},
     "output_type": "display_data"
    },
    {
     "name": "stderr",
     "output_type": "stream",
     "text": [
      "\r",
      "  4%|██▉                                                                          | 81/2166 [29:20<12:16:18, 21.19s/it]"
     ]
    },
    {
     "name": "stdout",
     "output_type": "stream",
     "text": [
      "QUERY:  Precipitation amount in Zollikofen May 7, 2021 4h\n",
      "QUERY:  temperature in Zollikofen May 7, 2021 4h\n",
      "QUERY:  humidity in Zollikofen May 7, 2021 4h\n",
      "QUERY:  wind speed in Zollikofen May 7, 2021 4h\n",
      "QUERY:  Moon Phase calculatorMay 7, 2021 4h\n"
     ]
    },
    {
     "name": "stderr",
     "output_type": "stream",
     "text": [
      "\r",
      "  4%|██▉                                                                          | 82/2166 [29:40<12:10:01, 21.02s/it]"
     ]
    },
    {
     "name": "stdout",
     "output_type": "stream",
     "text": [
      "QUERY:  Precipitation amount in Zollikofen May 7, 2021 5h\n",
      "QUERY:  temperature in Zollikofen May 7, 2021 5h\n",
      "QUERY:  humidity in Zollikofen May 7, 2021 5h\n",
      "QUERY:  wind speed in Zollikofen May 7, 2021 5h\n",
      "QUERY:  Moon Phase calculatorMay 7, 2021 5h\n"
     ]
    },
    {
     "name": "stderr",
     "output_type": "stream",
     "text": [
      "\r",
      "  4%|██▉                                                                          | 83/2166 [30:01<12:05:25, 20.90s/it]"
     ]
    },
    {
     "name": "stdout",
     "output_type": "stream",
     "text": [
      "QUERY:  Precipitation amount in Zollikofen May 7, 2021 6h\n",
      "QUERY:  temperature in Zollikofen May 7, 2021 6h\n",
      "QUERY:  humidity in Zollikofen May 7, 2021 6h\n",
      "QUERY:  wind speed in Zollikofen May 7, 2021 6h\n",
      "QUERY:  Moon Phase calculatorMay 7, 2021 6h\n"
     ]
    },
    {
     "name": "stderr",
     "output_type": "stream",
     "text": [
      "\r",
      "  4%|██▉                                                                          | 84/2166 [30:22<12:06:55, 20.95s/it]"
     ]
    },
    {
     "name": "stdout",
     "output_type": "stream",
     "text": [
      "QUERY:  Precipitation amount in Zollikofen May 7, 2021 7h\n",
      "QUERY:  temperature in Zollikofen May 7, 2021 7h\n",
      "QUERY:  humidity in Zollikofen May 7, 2021 7h\n",
      "QUERY:  wind speed in Zollikofen May 7, 2021 7h\n",
      "QUERY:  Moon Phase calculatorMay 7, 2021 7h\n"
     ]
    },
    {
     "name": "stderr",
     "output_type": "stream",
     "text": [
      "\r",
      "  4%|███                                                                          | 85/2166 [30:43<12:10:19, 21.06s/it]"
     ]
    },
    {
     "name": "stdout",
     "output_type": "stream",
     "text": [
      "QUERY:  Precipitation amount in Zollikofen May 7, 2021 8h\n",
      "QUERY:  temperature in Zollikofen May 7, 2021 8h\n",
      "QUERY:  humidity in Zollikofen May 7, 2021 8h\n",
      "QUERY:  wind speed in Zollikofen May 7, 2021 8h\n",
      "QUERY:  Moon Phase calculatorMay 7, 2021 8h\n"
     ]
    },
    {
     "name": "stderr",
     "output_type": "stream",
     "text": [
      "\r",
      "  4%|███                                                                          | 86/2166 [31:04<12:06:53, 20.97s/it]"
     ]
    },
    {
     "name": "stdout",
     "output_type": "stream",
     "text": [
      "QUERY:  Precipitation amount in Zollikofen May 7, 2021 9h\n",
      "QUERY:  temperature in Zollikofen May 7, 2021 9h\n",
      "QUERY:  humidity in Zollikofen May 7, 2021 9h\n",
      "QUERY:  wind speed in Zollikofen May 7, 2021 9h\n",
      "QUERY:  Moon Phase calculatorMay 7, 2021 9h\n"
     ]
    },
    {
     "name": "stderr",
     "output_type": "stream",
     "text": [
      "\r",
      "  4%|███                                                                          | 87/2166 [31:27<12:24:31, 21.49s/it]"
     ]
    },
    {
     "name": "stdout",
     "output_type": "stream",
     "text": [
      "QUERY:  Precipitation amount in Zollikofen May 7, 2021 10h\n",
      "QUERY:  temperature in Zollikofen May 7, 2021 10h\n",
      "QUERY:  humidity in Zollikofen May 7, 2021 10h\n",
      "QUERY:  wind speed in Zollikofen May 7, 2021 10h\n",
      "QUERY:  Moon Phase calculatorMay 7, 2021 10h\n"
     ]
    },
    {
     "name": "stderr",
     "output_type": "stream",
     "text": [
      "\r",
      "  4%|███▏                                                                         | 88/2166 [31:48<12:17:40, 21.30s/it]"
     ]
    },
    {
     "name": "stdout",
     "output_type": "stream",
     "text": [
      "QUERY:  Precipitation amount in Zollikofen May 7, 2021 11h\n",
      "QUERY:  temperature in Zollikofen May 7, 2021 11h\n",
      "QUERY:  humidity in Zollikofen May 7, 2021 11h\n",
      "QUERY:  wind speed in Zollikofen May 7, 2021 11h\n",
      "QUERY:  Moon Phase calculatorMay 7, 2021 11h\n"
     ]
    },
    {
     "name": "stderr",
     "output_type": "stream",
     "text": [
      "\r",
      "  4%|███▏                                                                         | 89/2166 [32:10<12:29:41, 21.66s/it]"
     ]
    },
    {
     "name": "stdout",
     "output_type": "stream",
     "text": [
      "QUERY:  Precipitation amount in Zollikofen May 7, 2021 12h\n",
      "QUERY:  temperature in Zollikofen May 7, 2021 12h\n",
      "QUERY:  humidity in Zollikofen May 7, 2021 12h\n",
      "QUERY:  wind speed in Zollikofen May 7, 2021 12h\n",
      "QUERY:  Moon Phase calculatorMay 7, 2021 12h\n"
     ]
    },
    {
     "name": "stderr",
     "output_type": "stream",
     "text": [
      "\r",
      "  4%|███▏                                                                         | 90/2166 [32:31<12:19:56, 21.39s/it]"
     ]
    },
    {
     "name": "stdout",
     "output_type": "stream",
     "text": [
      "QUERY:  Precipitation amount in Zollikofen May 7, 2021 13h\n",
      "QUERY:  temperature in Zollikofen May 7, 2021 13h\n",
      "QUERY:  humidity in Zollikofen May 7, 2021 13h\n",
      "QUERY:  wind speed in Zollikofen May 7, 2021 13h\n",
      "QUERY:  Moon Phase calculatorMay 7, 2021 13h\n",
      "(5294, 7)\n"
     ]
    },
    {
     "data": {
      "text/html": [
       "<div>\n",
       "<style scoped>\n",
       "    .dataframe tbody tr th:only-of-type {\n",
       "        vertical-align: middle;\n",
       "    }\n",
       "\n",
       "    .dataframe tbody tr th {\n",
       "        vertical-align: top;\n",
       "    }\n",
       "\n",
       "    .dataframe thead th {\n",
       "        text-align: right;\n",
       "    }\n",
       "</style>\n",
       "<table border=\"1\" class=\"dataframe\">\n",
       "  <thead>\n",
       "    <tr style=\"text-align: right;\">\n",
       "      <th></th>\n",
       "      <th>date</th>\n",
       "      <th>temperature</th>\n",
       "      <th>humidity</th>\n",
       "      <th>wind speed</th>\n",
       "      <th>Precipitation amount</th>\n",
       "      <th>query</th>\n",
       "      <th>Moon Phase calculator</th>\n",
       "    </tr>\n",
       "  </thead>\n",
       "  <tbody>\n",
       "    <tr>\n",
       "      <th>8</th>\n",
       "      <td>2021-05-07 12:00:00</td>\n",
       "      <td>9 °C\\n(12:00 pm CEST | Friday, May 7, 2021)</td>\n",
       "      <td>average: 74% (71 to 76%)\\n(12:00 pm CEST | Fri...</td>\n",
       "      <td>4 m/s\\n(12:00 pm CEST | Friday, May 7, 2021)</td>\n",
       "      <td>rain\\n(12:00 pm CEST | Friday, May 7, 2021)</td>\n",
       "      <td>Moon Phase calculatorMay 7, 2021 12h</td>\n",
       "      <td>| waning crescent moon\\n16.76% illuminated</td>\n",
       "    </tr>\n",
       "    <tr>\n",
       "      <th>9</th>\n",
       "      <td>2021-05-07 13:00:00</td>\n",
       "      <td>9 °C\\n(1:00 pm CEST | Friday, May 7, 2021)</td>\n",
       "      <td>average: 71% (71%)\\n(1:00 pm CEST | Friday, Ma...</td>\n",
       "      <td>4 m/s\\n(1:00 pm CEST | Friday, May 7, 2021)</td>\n",
       "      <td>no precipitation\\n(1:00 pm CEST | Friday, May ...</td>\n",
       "      <td>Moon Phase calculatorMay 7, 2021 13h</td>\n",
       "      <td>| waning crescent moon\\n16.45% illuminated</td>\n",
       "    </tr>\n",
       "  </tbody>\n",
       "</table>\n",
       "</div>"
      ],
      "text/plain": [
       "                 date                                  temperature  \\\n",
       "8 2021-05-07 12:00:00  9 °C\\n(12:00 pm CEST | Friday, May 7, 2021)   \n",
       "9 2021-05-07 13:00:00   9 °C\\n(1:00 pm CEST | Friday, May 7, 2021)   \n",
       "\n",
       "                                            humidity  \\\n",
       "8  average: 74% (71 to 76%)\\n(12:00 pm CEST | Fri...   \n",
       "9  average: 71% (71%)\\n(1:00 pm CEST | Friday, Ma...   \n",
       "\n",
       "                                     wind speed  \\\n",
       "8  4 m/s\\n(12:00 pm CEST | Friday, May 7, 2021)   \n",
       "9   4 m/s\\n(1:00 pm CEST | Friday, May 7, 2021)   \n",
       "\n",
       "                                Precipitation amount  \\\n",
       "8        rain\\n(12:00 pm CEST | Friday, May 7, 2021)   \n",
       "9  no precipitation\\n(1:00 pm CEST | Friday, May ...   \n",
       "\n",
       "                                  query  \\\n",
       "8  Moon Phase calculatorMay 7, 2021 12h   \n",
       "9  Moon Phase calculatorMay 7, 2021 13h   \n",
       "\n",
       "                        Moon Phase calculator  \n",
       "8  | waning crescent moon\\n16.76% illuminated  \n",
       "9  | waning crescent moon\\n16.45% illuminated  "
      ]
     },
     "metadata": {},
     "output_type": "display_data"
    },
    {
     "name": "stderr",
     "output_type": "stream",
     "text": [
      "\r",
      "  4%|███▏                                                                         | 91/2166 [32:53<12:25:54, 21.57s/it]"
     ]
    },
    {
     "name": "stdout",
     "output_type": "stream",
     "text": [
      "QUERY:  Precipitation amount in Zollikofen May 7, 2021 14h\n",
      "QUERY:  temperature in Zollikofen May 7, 2021 14h\n",
      "QUERY:  humidity in Zollikofen May 7, 2021 14h\n",
      "QUERY:  wind speed in Zollikofen May 7, 2021 14h\n",
      "QUERY:  Moon Phase calculatorMay 7, 2021 14h\n"
     ]
    },
    {
     "name": "stderr",
     "output_type": "stream",
     "text": [
      "\r",
      "  4%|███▎                                                                         | 92/2166 [33:15<12:28:32, 21.66s/it]"
     ]
    },
    {
     "name": "stdout",
     "output_type": "stream",
     "text": [
      "QUERY:  Precipitation amount in Zollikofen May 7, 2021 15h\n",
      "QUERY:  temperature in Zollikofen May 7, 2021 15h\n",
      "QUERY:  humidity in Zollikofen May 7, 2021 15h\n",
      "QUERY:  wind speed in Zollikofen May 7, 2021 15h\n",
      "QUERY:  Moon Phase calculatorMay 7, 2021 15h\n"
     ]
    },
    {
     "name": "stderr",
     "output_type": "stream",
     "text": [
      "\r",
      "  4%|███▎                                                                         | 93/2166 [33:36<12:26:42, 21.61s/it]"
     ]
    },
    {
     "name": "stdout",
     "output_type": "stream",
     "text": [
      "QUERY:  Precipitation amount in Zollikofen May 7, 2021 16h\n",
      "QUERY:  temperature in Zollikofen May 7, 2021 16h\n",
      "QUERY:  humidity in Zollikofen May 7, 2021 16h\n",
      "QUERY:  wind speed in Zollikofen May 7, 2021 16h\n",
      "QUERY:  Moon Phase calculatorMay 7, 2021 16h\n"
     ]
    },
    {
     "name": "stderr",
     "output_type": "stream",
     "text": [
      "\r",
      "  4%|███▎                                                                         | 94/2166 [33:57<12:14:46, 21.28s/it]"
     ]
    },
    {
     "name": "stdout",
     "output_type": "stream",
     "text": [
      "QUERY:  Precipitation amount in Zollikofen May 7, 2021 17h\n",
      "QUERY:  temperature in Zollikofen May 7, 2021 17h\n",
      "QUERY:  humidity in Zollikofen May 7, 2021 17h\n",
      "QUERY:  wind speed in Zollikofen May 7, 2021 17h\n",
      "QUERY:  Moon Phase calculatorMay 7, 2021 17h\n"
     ]
    },
    {
     "name": "stderr",
     "output_type": "stream",
     "text": [
      "\r",
      "  4%|███▍                                                                         | 95/2166 [34:18<12:10:14, 21.16s/it]"
     ]
    },
    {
     "name": "stdout",
     "output_type": "stream",
     "text": [
      "QUERY:  Precipitation amount in Zollikofen May 7, 2021 18h\n",
      "QUERY:  temperature in Zollikofen May 7, 2021 18h\n",
      "QUERY:  humidity in Zollikofen May 7, 2021 18h\n",
      "QUERY:  wind speed in Zollikofen May 7, 2021 18h\n",
      "QUERY:  Moon Phase calculatorMay 7, 2021 18h\n"
     ]
    },
    {
     "name": "stderr",
     "output_type": "stream",
     "text": [
      "\r",
      "  4%|███▍                                                                         | 96/2166 [34:42<12:38:55, 22.00s/it]"
     ]
    },
    {
     "name": "stdout",
     "output_type": "stream",
     "text": [
      "QUERY:  Precipitation amount in Zollikofen May 7, 2021 19h\n",
      "QUERY:  temperature in Zollikofen May 7, 2021 19h\n",
      "QUERY:  humidity in Zollikofen May 7, 2021 19h\n",
      "QUERY:  wind speed in Zollikofen May 7, 2021 19h\n",
      "QUERY:  Moon Phase calculatorMay 7, 2021 19h\n"
     ]
    },
    {
     "name": "stderr",
     "output_type": "stream",
     "text": [
      "\r",
      "  4%|███▍                                                                         | 97/2166 [35:03<12:33:48, 21.86s/it]"
     ]
    },
    {
     "name": "stdout",
     "output_type": "stream",
     "text": [
      "QUERY:  Precipitation amount in Zollikofen May 7, 2021 20h\n",
      "QUERY:  temperature in Zollikofen May 7, 2021 20h\n",
      "QUERY:  humidity in Zollikofen May 7, 2021 20h\n",
      "QUERY:  wind speed in Zollikofen May 7, 2021 20h\n",
      "QUERY:  Moon Phase calculatorMay 7, 2021 20h\n"
     ]
    },
    {
     "name": "stderr",
     "output_type": "stream",
     "text": [
      "\r",
      "  5%|███▍                                                                         | 98/2166 [35:26<12:44:14, 22.17s/it]"
     ]
    },
    {
     "name": "stdout",
     "output_type": "stream",
     "text": [
      "QUERY:  Precipitation amount in Zollikofen May 7, 2021 21h\n",
      "QUERY:  temperature in Zollikofen May 7, 2021 21h\n",
      "QUERY:  humidity in Zollikofen May 7, 2021 21h\n",
      "QUERY:  wind speed in Zollikofen May 7, 2021 21h\n",
      "QUERY:  Moon Phase calculatorMay 7, 2021 21h\n"
     ]
    },
    {
     "name": "stderr",
     "output_type": "stream",
     "text": [
      "\r",
      "  5%|███▌                                                                         | 99/2166 [35:48<12:40:07, 22.06s/it]"
     ]
    },
    {
     "name": "stdout",
     "output_type": "stream",
     "text": [
      "QUERY:  Precipitation amount in Zollikofen May 7, 2021 22h\n",
      "QUERY:  temperature in Zollikofen May 7, 2021 22h\n",
      "QUERY:  humidity in Zollikofen May 7, 2021 22h\n",
      "QUERY:  wind speed in Zollikofen May 7, 2021 22h\n",
      "QUERY:  Moon Phase calculatorMay 7, 2021 22h\n"
     ]
    },
    {
     "name": "stderr",
     "output_type": "stream",
     "text": [
      "\r",
      "  5%|███▌                                                                        | 100/2166 [36:09<12:30:23, 21.79s/it]"
     ]
    },
    {
     "name": "stdout",
     "output_type": "stream",
     "text": [
      "QUERY:  Precipitation amount in Zollikofen May 7, 2021 23h\n",
      "QUERY:  temperature in Zollikofen May 7, 2021 23h\n",
      "QUERY:  humidity in Zollikofen May 7, 2021 23h\n",
      "QUERY:  wind speed in Zollikofen May 7, 2021 23h\n",
      "QUERY:  Moon Phase calculatorMay 7, 2021 23h\n",
      "(5304, 7)\n"
     ]
    },
    {
     "data": {
      "text/html": [
       "<div>\n",
       "<style scoped>\n",
       "    .dataframe tbody tr th:only-of-type {\n",
       "        vertical-align: middle;\n",
       "    }\n",
       "\n",
       "    .dataframe tbody tr th {\n",
       "        vertical-align: top;\n",
       "    }\n",
       "\n",
       "    .dataframe thead th {\n",
       "        text-align: right;\n",
       "    }\n",
       "</style>\n",
       "<table border=\"1\" class=\"dataframe\">\n",
       "  <thead>\n",
       "    <tr style=\"text-align: right;\">\n",
       "      <th></th>\n",
       "      <th>date</th>\n",
       "      <th>temperature</th>\n",
       "      <th>humidity</th>\n",
       "      <th>wind speed</th>\n",
       "      <th>Precipitation amount</th>\n",
       "      <th>query</th>\n",
       "      <th>Moon Phase calculator</th>\n",
       "    </tr>\n",
       "  </thead>\n",
       "  <tbody>\n",
       "    <tr>\n",
       "      <th>8</th>\n",
       "      <td>2021-05-07 22:00:00</td>\n",
       "      <td>7 °C\\n(10:00 pm CEST | Friday, May 7, 2021)</td>\n",
       "      <td>average: 100% (100%)\\n(10:00 pm CEST | Friday,...</td>\n",
       "      <td>2 m/s\\n(10:00 pm CEST | Friday, May 7, 2021)</td>\n",
       "      <td>no precipitation\\n(10:00 pm CEST | Friday, May...</td>\n",
       "      <td>Moon Phase calculatorMay 7, 2021 22h</td>\n",
       "      <td>| waning crescent moon\\n13.83% illuminated</td>\n",
       "    </tr>\n",
       "    <tr>\n",
       "      <th>9</th>\n",
       "      <td>2021-05-07 23:00:00</td>\n",
       "      <td>7 °C\\n(11:00 pm CEST | Friday, May 7, 2021)</td>\n",
       "      <td>average: 100% (100%)\\n(11:00 pm CEST | Friday,...</td>\n",
       "      <td>2 m/s\\n(11:00 pm CEST | Friday, May 7, 2021)</td>\n",
       "      <td>no precipitation\\n(11:00 pm CEST | Friday, May...</td>\n",
       "      <td>Moon Phase calculatorMay 7, 2021 23h</td>\n",
       "      <td>| waning crescent moon\\n13.55% illuminated</td>\n",
       "    </tr>\n",
       "  </tbody>\n",
       "</table>\n",
       "</div>"
      ],
      "text/plain": [
       "                 date                                  temperature  \\\n",
       "8 2021-05-07 22:00:00  7 °C\\n(10:00 pm CEST | Friday, May 7, 2021)   \n",
       "9 2021-05-07 23:00:00  7 °C\\n(11:00 pm CEST | Friday, May 7, 2021)   \n",
       "\n",
       "                                            humidity  \\\n",
       "8  average: 100% (100%)\\n(10:00 pm CEST | Friday,...   \n",
       "9  average: 100% (100%)\\n(11:00 pm CEST | Friday,...   \n",
       "\n",
       "                                     wind speed  \\\n",
       "8  2 m/s\\n(10:00 pm CEST | Friday, May 7, 2021)   \n",
       "9  2 m/s\\n(11:00 pm CEST | Friday, May 7, 2021)   \n",
       "\n",
       "                                Precipitation amount  \\\n",
       "8  no precipitation\\n(10:00 pm CEST | Friday, May...   \n",
       "9  no precipitation\\n(11:00 pm CEST | Friday, May...   \n",
       "\n",
       "                                  query  \\\n",
       "8  Moon Phase calculatorMay 7, 2021 22h   \n",
       "9  Moon Phase calculatorMay 7, 2021 23h   \n",
       "\n",
       "                        Moon Phase calculator  \n",
       "8  | waning crescent moon\\n13.83% illuminated  \n",
       "9  | waning crescent moon\\n13.55% illuminated  "
      ]
     },
     "metadata": {},
     "output_type": "display_data"
    },
    {
     "name": "stderr",
     "output_type": "stream",
     "text": [
      "\r",
      "  5%|███▌                                                                        | 101/2166 [36:31<12:32:24, 21.86s/it]"
     ]
    },
    {
     "name": "stdout",
     "output_type": "stream",
     "text": [
      "QUERY:  Precipitation amount in Zollikofen May 8, 2021 0h\n",
      "QUERY:  temperature in Zollikofen May 8, 2021 0h\n",
      "QUERY:  humidity in Zollikofen May 8, 2021 0h\n",
      "QUERY:  wind speed in Zollikofen May 8, 2021 0h\n",
      "QUERY:  Moon Phase calculatorMay 8, 2021 0h\n"
     ]
    },
    {
     "name": "stderr",
     "output_type": "stream",
     "text": [
      "\r",
      "  5%|███▌                                                                        | 102/2166 [36:52<12:21:17, 21.55s/it]"
     ]
    },
    {
     "name": "stdout",
     "output_type": "stream",
     "text": [
      "QUERY:  Precipitation amount in Zollikofen May 8, 2021 1h\n",
      "QUERY:  temperature in Zollikofen May 8, 2021 1h\n",
      "QUERY:  humidity in Zollikofen May 8, 2021 1h\n",
      "QUERY:  wind speed in Zollikofen May 8, 2021 1h\n",
      "QUERY:  Moon Phase calculatorMay 8, 2021 1h\n"
     ]
    },
    {
     "name": "stderr",
     "output_type": "stream",
     "text": [
      "\r",
      "  5%|███▌                                                                        | 103/2166 [37:12<12:05:25, 21.10s/it]"
     ]
    },
    {
     "name": "stdout",
     "output_type": "stream",
     "text": [
      "QUERY:  Precipitation amount in Zollikofen May 8, 2021 2h\n",
      "QUERY:  temperature in Zollikofen May 8, 2021 2h\n",
      "QUERY:  humidity in Zollikofen May 8, 2021 2h\n",
      "QUERY:  wind speed in Zollikofen May 8, 2021 2h\n",
      "QUERY:  Moon Phase calculatorMay 8, 2021 2h\n"
     ]
    },
    {
     "name": "stderr",
     "output_type": "stream",
     "text": [
      "\r",
      "  5%|███▋                                                                        | 104/2166 [37:33<12:08:33, 21.20s/it]"
     ]
    },
    {
     "name": "stdout",
     "output_type": "stream",
     "text": [
      "QUERY:  Precipitation amount in Zollikofen May 8, 2021 3h\n",
      "QUERY:  temperature in Zollikofen May 8, 2021 3h\n",
      "QUERY:  humidity in Zollikofen May 8, 2021 3h\n",
      "QUERY:  wind speed in Zollikofen May 8, 2021 3h\n",
      "QUERY:  Moon Phase calculatorMay 8, 2021 3h\n"
     ]
    },
    {
     "name": "stderr",
     "output_type": "stream",
     "text": [
      "\r",
      "  5%|███▋                                                                        | 105/2166 [37:54<12:01:44, 21.01s/it]"
     ]
    },
    {
     "name": "stdout",
     "output_type": "stream",
     "text": [
      "QUERY:  Precipitation amount in Zollikofen May 8, 2021 4h\n",
      "QUERY:  temperature in Zollikofen May 8, 2021 4h\n",
      "QUERY:  humidity in Zollikofen May 8, 2021 4h\n",
      "QUERY:  wind speed in Zollikofen May 8, 2021 4h\n",
      "QUERY:  Moon Phase calculatorMay 8, 2021 4h\n"
     ]
    },
    {
     "name": "stderr",
     "output_type": "stream",
     "text": [
      "\r",
      "  5%|███▋                                                                        | 106/2166 [38:15<12:05:25, 21.13s/it]"
     ]
    },
    {
     "name": "stdout",
     "output_type": "stream",
     "text": [
      "QUERY:  Precipitation amount in Zollikofen May 8, 2021 5h\n",
      "QUERY:  temperature in Zollikofen May 8, 2021 5h\n",
      "QUERY:  humidity in Zollikofen May 8, 2021 5h\n",
      "QUERY:  wind speed in Zollikofen May 8, 2021 5h\n",
      "QUERY:  Moon Phase calculatorMay 8, 2021 5h\n"
     ]
    },
    {
     "name": "stderr",
     "output_type": "stream",
     "text": [
      "\r",
      "  5%|███▊                                                                        | 107/2166 [38:38<12:23:41, 21.67s/it]"
     ]
    },
    {
     "name": "stdout",
     "output_type": "stream",
     "text": [
      "QUERY:  Precipitation amount in Zollikofen May 8, 2021 6h\n",
      "QUERY:  temperature in Zollikofen May 8, 2021 6h\n",
      "QUERY:  humidity in Zollikofen May 8, 2021 6h\n",
      "QUERY:  wind speed in Zollikofen May 8, 2021 6h\n",
      "QUERY:  Moon Phase calculatorMay 8, 2021 6h\n"
     ]
    },
    {
     "name": "stderr",
     "output_type": "stream",
     "text": [
      "\r",
      "  5%|███▊                                                                        | 108/2166 [38:59<12:07:54, 21.22s/it]"
     ]
    },
    {
     "name": "stdout",
     "output_type": "stream",
     "text": [
      "QUERY:  Precipitation amount in Zollikofen May 8, 2021 7h\n",
      "QUERY:  temperature in Zollikofen May 8, 2021 7h\n",
      "QUERY:  humidity in Zollikofen May 8, 2021 7h\n",
      "QUERY:  wind speed in Zollikofen May 8, 2021 7h\n",
      "QUERY:  Moon Phase calculatorMay 8, 2021 7h\n"
     ]
    },
    {
     "name": "stderr",
     "output_type": "stream",
     "text": [
      "\r",
      "  5%|███▊                                                                        | 109/2166 [39:22<12:27:18, 21.80s/it]"
     ]
    },
    {
     "name": "stdout",
     "output_type": "stream",
     "text": [
      "QUERY:  Precipitation amount in Zollikofen May 8, 2021 8h\n",
      "QUERY:  temperature in Zollikofen May 8, 2021 8h\n",
      "QUERY:  humidity in Zollikofen May 8, 2021 8h\n",
      "QUERY:  wind speed in Zollikofen May 8, 2021 8h\n",
      "QUERY:  Moon Phase calculatorMay 8, 2021 8h\n"
     ]
    },
    {
     "name": "stderr",
     "output_type": "stream",
     "text": [
      "\r",
      "  5%|███▊                                                                        | 110/2166 [39:42<12:16:05, 21.48s/it]"
     ]
    },
    {
     "name": "stdout",
     "output_type": "stream",
     "text": [
      "QUERY:  Precipitation amount in Zollikofen May 8, 2021 9h\n",
      "QUERY:  temperature in Zollikofen May 8, 2021 9h\n",
      "QUERY:  humidity in Zollikofen May 8, 2021 9h\n",
      "QUERY:  wind speed in Zollikofen May 8, 2021 9h\n",
      "QUERY:  Moon Phase calculatorMay 8, 2021 9h\n",
      "(5314, 7)\n"
     ]
    },
    {
     "data": {
      "text/html": [
       "<div>\n",
       "<style scoped>\n",
       "    .dataframe tbody tr th:only-of-type {\n",
       "        vertical-align: middle;\n",
       "    }\n",
       "\n",
       "    .dataframe tbody tr th {\n",
       "        vertical-align: top;\n",
       "    }\n",
       "\n",
       "    .dataframe thead th {\n",
       "        text-align: right;\n",
       "    }\n",
       "</style>\n",
       "<table border=\"1\" class=\"dataframe\">\n",
       "  <thead>\n",
       "    <tr style=\"text-align: right;\">\n",
       "      <th></th>\n",
       "      <th>date</th>\n",
       "      <th>temperature</th>\n",
       "      <th>humidity</th>\n",
       "      <th>wind speed</th>\n",
       "      <th>Precipitation amount</th>\n",
       "      <th>query</th>\n",
       "      <th>Moon Phase calculator</th>\n",
       "    </tr>\n",
       "  </thead>\n",
       "  <tbody>\n",
       "    <tr>\n",
       "      <th>8</th>\n",
       "      <td>2021-05-08 08:00:00</td>\n",
       "      <td>7 °C\\n(8:00 am CEST | Saturday, May 8, 2021)</td>\n",
       "      <td>average: 84% (81 to 87%)\\n(8:00 am CEST | Satu...</td>\n",
       "      <td>2 m/s\\n(8:00 am CEST | Saturday, May 8, 2021)</td>\n",
       "      <td>no precipitation\\n(8:00 am CEST | Saturday, Ma...</td>\n",
       "      <td>Moon Phase calculatorMay 8, 2021 8h</td>\n",
       "      <td>| waning crescent moon\\n11.16% illuminated</td>\n",
       "    </tr>\n",
       "    <tr>\n",
       "      <th>9</th>\n",
       "      <td>2021-05-08 09:00:00</td>\n",
       "      <td>9 °C\\n(9:00 am CEST | Saturday, May 8, 2021)</td>\n",
       "      <td>average: 79% (76 to 81%)\\n(9:00 am CEST | Satu...</td>\n",
       "      <td>2 m/s\\n(9:00 am CEST | Saturday, May 8, 2021)</td>\n",
       "      <td>no precipitation\\n(9:00 am CEST | Saturday, Ma...</td>\n",
       "      <td>Moon Phase calculatorMay 8, 2021 9h</td>\n",
       "      <td>| waning crescent moon\\n10.91% illuminated</td>\n",
       "    </tr>\n",
       "  </tbody>\n",
       "</table>\n",
       "</div>"
      ],
      "text/plain": [
       "                 date                                   temperature  \\\n",
       "8 2021-05-08 08:00:00  7 °C\\n(8:00 am CEST | Saturday, May 8, 2021)   \n",
       "9 2021-05-08 09:00:00  9 °C\\n(9:00 am CEST | Saturday, May 8, 2021)   \n",
       "\n",
       "                                            humidity  \\\n",
       "8  average: 84% (81 to 87%)\\n(8:00 am CEST | Satu...   \n",
       "9  average: 79% (76 to 81%)\\n(9:00 am CEST | Satu...   \n",
       "\n",
       "                                      wind speed  \\\n",
       "8  2 m/s\\n(8:00 am CEST | Saturday, May 8, 2021)   \n",
       "9  2 m/s\\n(9:00 am CEST | Saturday, May 8, 2021)   \n",
       "\n",
       "                                Precipitation amount  \\\n",
       "8  no precipitation\\n(8:00 am CEST | Saturday, Ma...   \n",
       "9  no precipitation\\n(9:00 am CEST | Saturday, Ma...   \n",
       "\n",
       "                                 query  \\\n",
       "8  Moon Phase calculatorMay 8, 2021 8h   \n",
       "9  Moon Phase calculatorMay 8, 2021 9h   \n",
       "\n",
       "                        Moon Phase calculator  \n",
       "8  | waning crescent moon\\n11.16% illuminated  \n",
       "9  | waning crescent moon\\n10.91% illuminated  "
      ]
     },
     "metadata": {},
     "output_type": "display_data"
    },
    {
     "name": "stderr",
     "output_type": "stream",
     "text": [
      "\r",
      "  5%|███▉                                                                        | 111/2166 [40:03<12:07:38, 21.25s/it]"
     ]
    },
    {
     "name": "stdout",
     "output_type": "stream",
     "text": [
      "QUERY:  Precipitation amount in Zollikofen May 8, 2021 10h\n",
      "QUERY:  temperature in Zollikofen May 8, 2021 10h\n",
      "QUERY:  humidity in Zollikofen May 8, 2021 10h\n",
      "QUERY:  wind speed in Zollikofen May 8, 2021 10h\n",
      "QUERY:  Moon Phase calculatorMay 8, 2021 10h\n"
     ]
    },
    {
     "name": "stderr",
     "output_type": "stream",
     "text": [
      "\r",
      "  5%|███▉                                                                        | 112/2166 [40:25<12:12:46, 21.41s/it]"
     ]
    },
    {
     "name": "stdout",
     "output_type": "stream",
     "text": [
      "QUERY:  Precipitation amount in Zollikofen May 8, 2021 11h\n",
      "QUERY:  temperature in Zollikofen May 8, 2021 11h\n",
      "QUERY:  humidity in Zollikofen May 8, 2021 11h\n",
      "QUERY:  wind speed in Zollikofen May 8, 2021 11h\n",
      "QUERY:  Moon Phase calculatorMay 8, 2021 11h\n"
     ]
    },
    {
     "name": "stderr",
     "output_type": "stream",
     "text": [
      "\r",
      "  5%|███▉                                                                        | 113/2166 [40:46<12:06:46, 21.24s/it]"
     ]
    },
    {
     "name": "stdout",
     "output_type": "stream",
     "text": [
      "QUERY:  Precipitation amount in Zollikofen May 8, 2021 12h\n",
      "QUERY:  temperature in Zollikofen May 8, 2021 12h\n",
      "QUERY:  humidity in Zollikofen May 8, 2021 12h\n",
      "QUERY:  wind speed in Zollikofen May 8, 2021 12h\n",
      "QUERY:  Moon Phase calculatorMay 8, 2021 12h\n"
     ]
    },
    {
     "name": "stderr",
     "output_type": "stream",
     "text": [
      "\r",
      "  5%|████                                                                        | 114/2166 [41:08<12:16:28, 21.53s/it]"
     ]
    },
    {
     "name": "stdout",
     "output_type": "stream",
     "text": [
      "QUERY:  Precipitation amount in Zollikofen May 8, 2021 13h\n",
      "QUERY:  temperature in Zollikofen May 8, 2021 13h\n",
      "QUERY:  humidity in Zollikofen May 8, 2021 13h\n",
      "QUERY:  wind speed in Zollikofen May 8, 2021 13h\n",
      "QUERY:  Moon Phase calculatorMay 8, 2021 13h\n"
     ]
    },
    {
     "name": "stderr",
     "output_type": "stream",
     "text": [
      "\r",
      "  5%|████                                                                        | 115/2166 [41:28<12:05:18, 21.22s/it]"
     ]
    },
    {
     "name": "stdout",
     "output_type": "stream",
     "text": [
      "QUERY:  Precipitation amount in Zollikofen May 8, 2021 14h\n",
      "QUERY:  temperature in Zollikofen May 8, 2021 14h\n",
      "QUERY:  humidity in Zollikofen May 8, 2021 14h\n",
      "QUERY:  wind speed in Zollikofen May 8, 2021 14h\n",
      "QUERY:  Moon Phase calculatorMay 8, 2021 14h\n"
     ]
    },
    {
     "name": "stderr",
     "output_type": "stream",
     "text": [
      "\r",
      "  5%|████                                                                        | 116/2166 [41:49<11:58:36, 21.03s/it]"
     ]
    },
    {
     "name": "stdout",
     "output_type": "stream",
     "text": [
      "QUERY:  Precipitation amount in Zollikofen May 8, 2021 15h\n",
      "QUERY:  temperature in Zollikofen May 8, 2021 15h\n",
      "QUERY:  humidity in Zollikofen May 8, 2021 15h\n",
      "QUERY:  wind speed in Zollikofen May 8, 2021 15h\n",
      "QUERY:  Moon Phase calculatorMay 8, 2021 15h\n"
     ]
    },
    {
     "name": "stderr",
     "output_type": "stream",
     "text": [
      "\r",
      "  5%|████                                                                        | 117/2166 [42:11<12:11:19, 21.41s/it]"
     ]
    },
    {
     "name": "stdout",
     "output_type": "stream",
     "text": [
      "QUERY:  Precipitation amount in Zollikofen May 8, 2021 16h\n",
      "QUERY:  temperature in Zollikofen May 8, 2021 16h\n",
      "QUERY:  humidity in Zollikofen May 8, 2021 16h\n",
      "QUERY:  wind speed in Zollikofen May 8, 2021 16h\n",
      "QUERY:  Moon Phase calculatorMay 8, 2021 16h\n"
     ]
    },
    {
     "name": "stderr",
     "output_type": "stream",
     "text": [
      "\r",
      "  5%|████▏                                                                       | 118/2166 [42:32<12:07:41, 21.32s/it]"
     ]
    },
    {
     "name": "stdout",
     "output_type": "stream",
     "text": [
      "QUERY:  Precipitation amount in Zollikofen May 8, 2021 17h\n",
      "QUERY:  temperature in Zollikofen May 8, 2021 17h\n",
      "QUERY:  humidity in Zollikofen May 8, 2021 17h\n",
      "QUERY:  wind speed in Zollikofen May 8, 2021 17h\n",
      "QUERY:  Moon Phase calculatorMay 8, 2021 17h\n"
     ]
    },
    {
     "name": "stderr",
     "output_type": "stream",
     "text": [
      "\r",
      "  5%|████▏                                                                       | 119/2166 [42:52<11:51:07, 20.84s/it]"
     ]
    },
    {
     "name": "stdout",
     "output_type": "stream",
     "text": [
      "QUERY:  Precipitation amount in Zollikofen May 8, 2021 18h\n",
      "QUERY:  temperature in Zollikofen May 8, 2021 18h\n",
      "QUERY:  humidity in Zollikofen May 8, 2021 18h\n",
      "QUERY:  wind speed in Zollikofen May 8, 2021 18h\n",
      "QUERY:  Moon Phase calculatorMay 8, 2021 18h\n"
     ]
    },
    {
     "name": "stderr",
     "output_type": "stream",
     "text": [
      "\r",
      "  6%|████▏                                                                       | 120/2166 [43:13<11:53:03, 20.91s/it]"
     ]
    },
    {
     "name": "stdout",
     "output_type": "stream",
     "text": [
      "QUERY:  Precipitation amount in Zollikofen May 8, 2021 19h\n",
      "QUERY:  temperature in Zollikofen May 8, 2021 19h\n",
      "QUERY:  humidity in Zollikofen May 8, 2021 19h\n",
      "QUERY:  wind speed in Zollikofen May 8, 2021 19h\n",
      "QUERY:  Moon Phase calculatorMay 8, 2021 19h\n",
      "(5324, 7)\n"
     ]
    },
    {
     "data": {
      "text/html": [
       "<div>\n",
       "<style scoped>\n",
       "    .dataframe tbody tr th:only-of-type {\n",
       "        vertical-align: middle;\n",
       "    }\n",
       "\n",
       "    .dataframe tbody tr th {\n",
       "        vertical-align: top;\n",
       "    }\n",
       "\n",
       "    .dataframe thead th {\n",
       "        text-align: right;\n",
       "    }\n",
       "</style>\n",
       "<table border=\"1\" class=\"dataframe\">\n",
       "  <thead>\n",
       "    <tr style=\"text-align: right;\">\n",
       "      <th></th>\n",
       "      <th>date</th>\n",
       "      <th>temperature</th>\n",
       "      <th>humidity</th>\n",
       "      <th>wind speed</th>\n",
       "      <th>Precipitation amount</th>\n",
       "      <th>query</th>\n",
       "      <th>Moon Phase calculator</th>\n",
       "    </tr>\n",
       "  </thead>\n",
       "  <tbody>\n",
       "    <tr>\n",
       "      <th>8</th>\n",
       "      <td>2021-05-08 18:00:00</td>\n",
       "      <td>20 °C\\n(6:00 pm CEST | Saturday, May 8, 2021)</td>\n",
       "      <td>average: 38% (33 to 43%)\\n(6:00 pm CEST | Satu...</td>\n",
       "      <td>3 m/s\\n(6:00 pm CEST | Saturday, May 8, 2021)</td>\n",
       "      <td>no precipitation\\n(6:00 pm CEST | Saturday, Ma...</td>\n",
       "      <td>Moon Phase calculatorMay 8, 2021 18h</td>\n",
       "      <td>| waning crescent moon\\n8.76% illuminated</td>\n",
       "    </tr>\n",
       "    <tr>\n",
       "      <th>9</th>\n",
       "      <td>2021-05-08 19:00:00</td>\n",
       "      <td>20 °C\\n(7:00 pm CEST | Saturday, May 8, 2021)</td>\n",
       "      <td>average: 44% (43 to 46%)\\n(7:00 pm CEST | Satu...</td>\n",
       "      <td>2 m/s\\n(7:00 pm CEST | Saturday, May 8, 2021)</td>\n",
       "      <td>no precipitation\\n(7:00 pm CEST | Saturday, Ma...</td>\n",
       "      <td>Moon Phase calculatorMay 8, 2021 19h</td>\n",
       "      <td>| waning crescent moon\\n8.53% illuminated</td>\n",
       "    </tr>\n",
       "  </tbody>\n",
       "</table>\n",
       "</div>"
      ],
      "text/plain": [
       "                 date                                    temperature  \\\n",
       "8 2021-05-08 18:00:00  20 °C\\n(6:00 pm CEST | Saturday, May 8, 2021)   \n",
       "9 2021-05-08 19:00:00  20 °C\\n(7:00 pm CEST | Saturday, May 8, 2021)   \n",
       "\n",
       "                                            humidity  \\\n",
       "8  average: 38% (33 to 43%)\\n(6:00 pm CEST | Satu...   \n",
       "9  average: 44% (43 to 46%)\\n(7:00 pm CEST | Satu...   \n",
       "\n",
       "                                      wind speed  \\\n",
       "8  3 m/s\\n(6:00 pm CEST | Saturday, May 8, 2021)   \n",
       "9  2 m/s\\n(7:00 pm CEST | Saturday, May 8, 2021)   \n",
       "\n",
       "                                Precipitation amount  \\\n",
       "8  no precipitation\\n(6:00 pm CEST | Saturday, Ma...   \n",
       "9  no precipitation\\n(7:00 pm CEST | Saturday, Ma...   \n",
       "\n",
       "                                  query  \\\n",
       "8  Moon Phase calculatorMay 8, 2021 18h   \n",
       "9  Moon Phase calculatorMay 8, 2021 19h   \n",
       "\n",
       "                       Moon Phase calculator  \n",
       "8  | waning crescent moon\\n8.76% illuminated  \n",
       "9  | waning crescent moon\\n8.53% illuminated  "
      ]
     },
     "metadata": {},
     "output_type": "display_data"
    },
    {
     "name": "stderr",
     "output_type": "stream",
     "text": [
      "\r",
      "  6%|████▏                                                                       | 121/2166 [43:33<11:42:31, 20.61s/it]"
     ]
    },
    {
     "name": "stdout",
     "output_type": "stream",
     "text": [
      "QUERY:  Precipitation amount in Zollikofen May 8, 2021 20h\n",
      "QUERY:  temperature in Zollikofen May 8, 2021 20h\n",
      "QUERY:  humidity in Zollikofen May 8, 2021 20h\n",
      "QUERY:  wind speed in Zollikofen May 8, 2021 20h\n",
      "QUERY:  Moon Phase calculatorMay 8, 2021 20h\n"
     ]
    },
    {
     "name": "stderr",
     "output_type": "stream",
     "text": [
      "\r",
      "  6%|████▎                                                                       | 122/2166 [43:53<11:32:28, 20.33s/it]"
     ]
    },
    {
     "name": "stdout",
     "output_type": "stream",
     "text": [
      "QUERY:  Precipitation amount in Zollikofen May 8, 2021 21h\n",
      "QUERY:  temperature in Zollikofen May 8, 2021 21h\n",
      "QUERY:  humidity in Zollikofen May 8, 2021 21h\n",
      "QUERY:  wind speed in Zollikofen May 8, 2021 21h\n",
      "QUERY:  Moon Phase calculatorMay 8, 2021 21h\n"
     ]
    },
    {
     "name": "stderr",
     "output_type": "stream",
     "text": [
      "\r",
      "  6%|████▎                                                                       | 123/2166 [44:12<11:24:36, 20.11s/it]"
     ]
    },
    {
     "name": "stdout",
     "output_type": "stream",
     "text": [
      "QUERY:  Precipitation amount in Zollikofen May 8, 2021 22h\n",
      "QUERY:  temperature in Zollikofen May 8, 2021 22h\n",
      "QUERY:  humidity in Zollikofen May 8, 2021 22h\n",
      "QUERY:  wind speed in Zollikofen May 8, 2021 22h\n",
      "QUERY:  Moon Phase calculatorMay 8, 2021 22h\n"
     ]
    },
    {
     "name": "stderr",
     "output_type": "stream",
     "text": [
      "\r",
      "  6%|████▎                                                                       | 124/2166 [44:32<11:21:52, 20.04s/it]"
     ]
    },
    {
     "name": "stdout",
     "output_type": "stream",
     "text": [
      "QUERY:  Precipitation amount in Zollikofen May 8, 2021 23h\n",
      "QUERY:  temperature in Zollikofen May 8, 2021 23h\n",
      "QUERY:  humidity in Zollikofen May 8, 2021 23h\n",
      "QUERY:  wind speed in Zollikofen May 8, 2021 23h\n",
      "QUERY:  Moon Phase calculatorMay 8, 2021 23h\n"
     ]
    },
    {
     "name": "stderr",
     "output_type": "stream",
     "text": [
      "\r",
      "  6%|████▍                                                                       | 125/2166 [44:53<11:27:49, 20.22s/it]"
     ]
    },
    {
     "name": "stdout",
     "output_type": "stream",
     "text": [
      "QUERY:  Precipitation amount in Zollikofen May 9, 2021 0h\n",
      "QUERY:  temperature in Zollikofen May 9, 2021 0h\n",
      "QUERY:  humidity in Zollikofen May 9, 2021 0h\n",
      "QUERY:  wind speed in Zollikofen May 9, 2021 0h\n",
      "QUERY:  Moon Phase calculatorMay 9, 2021 0h\n"
     ]
    },
    {
     "name": "stderr",
     "output_type": "stream",
     "text": [
      "\r",
      "  6%|████▍                                                                       | 126/2166 [45:13<11:28:03, 20.24s/it]"
     ]
    },
    {
     "name": "stdout",
     "output_type": "stream",
     "text": [
      "QUERY:  Precipitation amount in Zollikofen May 9, 2021 1h\n",
      "QUERY:  temperature in Zollikofen May 9, 2021 1h\n",
      "QUERY:  humidity in Zollikofen May 9, 2021 1h\n",
      "QUERY:  wind speed in Zollikofen May 9, 2021 1h\n",
      "QUERY:  Moon Phase calculatorMay 9, 2021 1h\n"
     ]
    },
    {
     "name": "stderr",
     "output_type": "stream",
     "text": [
      "\r",
      "  6%|████▍                                                                       | 127/2166 [45:34<11:30:01, 20.30s/it]"
     ]
    },
    {
     "name": "stdout",
     "output_type": "stream",
     "text": [
      "QUERY:  Precipitation amount in Zollikofen May 9, 2021 2h\n",
      "QUERY:  temperature in Zollikofen May 9, 2021 2h\n",
      "QUERY:  humidity in Zollikofen May 9, 2021 2h\n",
      "QUERY:  wind speed in Zollikofen May 9, 2021 2h\n",
      "QUERY:  Moon Phase calculatorMay 9, 2021 2h\n"
     ]
    },
    {
     "name": "stderr",
     "output_type": "stream",
     "text": [
      "\r",
      "  6%|████▍                                                                       | 128/2166 [45:54<11:30:36, 20.33s/it]"
     ]
    },
    {
     "name": "stdout",
     "output_type": "stream",
     "text": [
      "QUERY:  Precipitation amount in Zollikofen May 9, 2021 3h\n",
      "QUERY:  temperature in Zollikofen May 9, 2021 3h\n",
      "QUERY:  humidity in Zollikofen May 9, 2021 3h\n",
      "QUERY:  wind speed in Zollikofen May 9, 2021 3h\n",
      "QUERY:  Moon Phase calculatorMay 9, 2021 3h\n"
     ]
    },
    {
     "name": "stderr",
     "output_type": "stream",
     "text": [
      "\r",
      "  6%|████▌                                                                       | 129/2166 [46:15<11:40:07, 20.62s/it]"
     ]
    },
    {
     "name": "stdout",
     "output_type": "stream",
     "text": [
      "QUERY:  Precipitation amount in Zollikofen May 9, 2021 4h\n",
      "QUERY:  temperature in Zollikofen May 9, 2021 4h\n",
      "QUERY:  humidity in Zollikofen May 9, 2021 4h\n",
      "QUERY:  wind speed in Zollikofen May 9, 2021 4h\n",
      "QUERY:  Moon Phase calculatorMay 9, 2021 4h\n"
     ]
    },
    {
     "name": "stderr",
     "output_type": "stream",
     "text": [
      "\r",
      "  6%|████▌                                                                       | 130/2166 [46:37<11:45:37, 20.79s/it]"
     ]
    },
    {
     "name": "stdout",
     "output_type": "stream",
     "text": [
      "QUERY:  Precipitation amount in Zollikofen May 9, 2021 5h\n",
      "QUERY:  temperature in Zollikofen May 9, 2021 5h\n",
      "QUERY:  humidity in Zollikofen May 9, 2021 5h\n",
      "QUERY:  wind speed in Zollikofen May 9, 2021 5h\n",
      "QUERY:  Moon Phase calculatorMay 9, 2021 5h\n",
      "(5334, 7)\n"
     ]
    },
    {
     "data": {
      "text/html": [
       "<div>\n",
       "<style scoped>\n",
       "    .dataframe tbody tr th:only-of-type {\n",
       "        vertical-align: middle;\n",
       "    }\n",
       "\n",
       "    .dataframe tbody tr th {\n",
       "        vertical-align: top;\n",
       "    }\n",
       "\n",
       "    .dataframe thead th {\n",
       "        text-align: right;\n",
       "    }\n",
       "</style>\n",
       "<table border=\"1\" class=\"dataframe\">\n",
       "  <thead>\n",
       "    <tr style=\"text-align: right;\">\n",
       "      <th></th>\n",
       "      <th>date</th>\n",
       "      <th>temperature</th>\n",
       "      <th>humidity</th>\n",
       "      <th>wind speed</th>\n",
       "      <th>Precipitation amount</th>\n",
       "      <th>query</th>\n",
       "      <th>Moon Phase calculator</th>\n",
       "    </tr>\n",
       "  </thead>\n",
       "  <tbody>\n",
       "    <tr>\n",
       "      <th>8</th>\n",
       "      <td>2021-05-09 04:00:00</td>\n",
       "      <td>9 °C\\n(4:00 am CEST | Sunday, May 9, 2021)</td>\n",
       "      <td>average: 93% (93%)\\n(4:00 am CEST | Sunday, Ma...</td>\n",
       "      <td>1 m/s\\n(4:00 am CEST | Sunday, May 9, 2021)</td>\n",
       "      <td>no precipitation\\n(4:00 am CEST | Sunday, May ...</td>\n",
       "      <td>Moon Phase calculatorMay 9, 2021 4h</td>\n",
       "      <td>| waning crescent moon\\n6.63% illuminated</td>\n",
       "    </tr>\n",
       "    <tr>\n",
       "      <th>9</th>\n",
       "      <td>2021-05-09 05:00:00</td>\n",
       "      <td>7 °C\\n(5:00 am CEST | Sunday, May 9, 2021)</td>\n",
       "      <td>average: 93% (93%)\\n(5:00 am CEST | Sunday, Ma...</td>\n",
       "      <td>1 m/s\\n(5:00 am CEST | Sunday, May 9, 2021)</td>\n",
       "      <td>no precipitation\\n(5:00 am CEST | Sunday, May ...</td>\n",
       "      <td>Moon Phase calculatorMay 9, 2021 5h</td>\n",
       "      <td>| waning crescent moon\\n6.43% illuminated</td>\n",
       "    </tr>\n",
       "  </tbody>\n",
       "</table>\n",
       "</div>"
      ],
      "text/plain": [
       "                 date                                 temperature  \\\n",
       "8 2021-05-09 04:00:00  9 °C\\n(4:00 am CEST | Sunday, May 9, 2021)   \n",
       "9 2021-05-09 05:00:00  7 °C\\n(5:00 am CEST | Sunday, May 9, 2021)   \n",
       "\n",
       "                                            humidity  \\\n",
       "8  average: 93% (93%)\\n(4:00 am CEST | Sunday, Ma...   \n",
       "9  average: 93% (93%)\\n(5:00 am CEST | Sunday, Ma...   \n",
       "\n",
       "                                    wind speed  \\\n",
       "8  1 m/s\\n(4:00 am CEST | Sunday, May 9, 2021)   \n",
       "9  1 m/s\\n(5:00 am CEST | Sunday, May 9, 2021)   \n",
       "\n",
       "                                Precipitation amount  \\\n",
       "8  no precipitation\\n(4:00 am CEST | Sunday, May ...   \n",
       "9  no precipitation\\n(5:00 am CEST | Sunday, May ...   \n",
       "\n",
       "                                 query  \\\n",
       "8  Moon Phase calculatorMay 9, 2021 4h   \n",
       "9  Moon Phase calculatorMay 9, 2021 5h   \n",
       "\n",
       "                       Moon Phase calculator  \n",
       "8  | waning crescent moon\\n6.63% illuminated  \n",
       "9  | waning crescent moon\\n6.43% illuminated  "
      ]
     },
     "metadata": {},
     "output_type": "display_data"
    },
    {
     "name": "stderr",
     "output_type": "stream",
     "text": [
      "\r",
      "  6%|████▌                                                                       | 131/2166 [47:00<12:07:46, 21.46s/it]"
     ]
    },
    {
     "name": "stdout",
     "output_type": "stream",
     "text": [
      "QUERY:  Precipitation amount in Zollikofen May 9, 2021 6h\n",
      "QUERY:  temperature in Zollikofen May 9, 2021 6h\n",
      "QUERY:  humidity in Zollikofen May 9, 2021 6h\n",
      "QUERY:  wind speed in Zollikofen May 9, 2021 6h\n",
      "QUERY:  Moon Phase calculatorMay 9, 2021 6h\n"
     ]
    },
    {
     "name": "stderr",
     "output_type": "stream",
     "text": [
      "\r",
      "  6%|████▋                                                                       | 132/2166 [47:21<12:04:04, 21.36s/it]"
     ]
    },
    {
     "name": "stdout",
     "output_type": "stream",
     "text": [
      "QUERY:  Precipitation amount in Zollikofen May 9, 2021 7h\n",
      "QUERY:  temperature in Zollikofen May 9, 2021 7h\n",
      "QUERY:  humidity in Zollikofen May 9, 2021 7h\n",
      "QUERY:  wind speed in Zollikofen May 9, 2021 7h\n",
      "QUERY:  Moon Phase calculatorMay 9, 2021 7h\n"
     ]
    },
    {
     "name": "stderr",
     "output_type": "stream",
     "text": [
      "\r",
      "  6%|████▋                                                                       | 133/2166 [47:41<11:57:54, 21.19s/it]"
     ]
    },
    {
     "name": "stdout",
     "output_type": "stream",
     "text": [
      "QUERY:  Precipitation amount in Zollikofen May 9, 2021 8h\n",
      "QUERY:  temperature in Zollikofen May 9, 2021 8h\n",
      "QUERY:  humidity in Zollikofen May 9, 2021 8h\n",
      "QUERY:  wind speed in Zollikofen May 9, 2021 8h\n",
      "QUERY:  Moon Phase calculatorMay 9, 2021 8h\n"
     ]
    },
    {
     "name": "stderr",
     "output_type": "stream",
     "text": [
      "\r",
      "  6%|████▋                                                                       | 134/2166 [48:03<11:59:44, 21.25s/it]"
     ]
    },
    {
     "name": "stdout",
     "output_type": "stream",
     "text": [
      "QUERY:  Precipitation amount in Zollikofen May 9, 2021 9h\n",
      "QUERY:  temperature in Zollikofen May 9, 2021 9h\n",
      "QUERY:  humidity in Zollikofen May 9, 2021 9h\n",
      "QUERY:  wind speed in Zollikofen May 9, 2021 9h\n",
      "QUERY:  Moon Phase calculatorMay 9, 2021 9h\n"
     ]
    },
    {
     "name": "stderr",
     "output_type": "stream",
     "text": [
      "\r",
      "  6%|████▋                                                                       | 135/2166 [48:23<11:51:54, 21.03s/it]"
     ]
    },
    {
     "name": "stdout",
     "output_type": "stream",
     "text": [
      "QUERY:  Precipitation amount in Zollikofen May 9, 2021 10h\n",
      "QUERY:  temperature in Zollikofen May 9, 2021 10h\n",
      "QUERY:  humidity in Zollikofen May 9, 2021 10h\n",
      "QUERY:  wind speed in Zollikofen May 9, 2021 10h\n",
      "QUERY:  Moon Phase calculatorMay 9, 2021 10h\n"
     ]
    },
    {
     "name": "stderr",
     "output_type": "stream",
     "text": [
      "\r",
      "  6%|████▊                                                                       | 136/2166 [48:46<12:03:15, 21.38s/it]"
     ]
    },
    {
     "name": "stdout",
     "output_type": "stream",
     "text": [
      "QUERY:  Precipitation amount in Zollikofen May 9, 2021 11h\n",
      "QUERY:  temperature in Zollikofen May 9, 2021 11h\n",
      "QUERY:  humidity in Zollikofen May 9, 2021 11h\n",
      "QUERY:  wind speed in Zollikofen May 9, 2021 11h\n",
      "QUERY:  Moon Phase calculatorMay 9, 2021 11h\n"
     ]
    },
    {
     "name": "stderr",
     "output_type": "stream",
     "text": [
      "\r",
      "  6%|████▊                                                                       | 137/2166 [49:08<12:13:32, 21.69s/it]"
     ]
    },
    {
     "name": "stdout",
     "output_type": "stream",
     "text": [
      "QUERY:  Precipitation amount in Zollikofen May 9, 2021 12h\n",
      "QUERY:  temperature in Zollikofen May 9, 2021 12h\n",
      "QUERY:  humidity in Zollikofen May 9, 2021 12h\n",
      "QUERY:  wind speed in Zollikofen May 9, 2021 12h\n",
      "QUERY:  Moon Phase calculatorMay 9, 2021 12h\n"
     ]
    },
    {
     "name": "stderr",
     "output_type": "stream",
     "text": [
      "\r",
      "  6%|████▊                                                                       | 138/2166 [49:29<12:08:09, 21.54s/it]"
     ]
    },
    {
     "name": "stdout",
     "output_type": "stream",
     "text": [
      "QUERY:  Precipitation amount in Zollikofen May 9, 2021 13h\n",
      "QUERY:  temperature in Zollikofen May 9, 2021 13h\n",
      "QUERY:  humidity in Zollikofen May 9, 2021 13h\n",
      "QUERY:  wind speed in Zollikofen May 9, 2021 13h\n",
      "QUERY:  Moon Phase calculatorMay 9, 2021 13h\n"
     ]
    },
    {
     "name": "stderr",
     "output_type": "stream",
     "text": [
      "\r",
      "  6%|████▉                                                                       | 139/2166 [49:50<11:59:05, 21.29s/it]"
     ]
    },
    {
     "name": "stdout",
     "output_type": "stream",
     "text": [
      "QUERY:  Precipitation amount in Zollikofen May 9, 2021 14h\n",
      "QUERY:  temperature in Zollikofen May 9, 2021 14h\n",
      "QUERY:  humidity in Zollikofen May 9, 2021 14h\n",
      "QUERY:  wind speed in Zollikofen May 9, 2021 14h\n",
      "QUERY:  Moon Phase calculatorMay 9, 2021 14h\n"
     ]
    },
    {
     "name": "stderr",
     "output_type": "stream",
     "text": [
      "\r",
      "  6%|████▉                                                                       | 140/2166 [50:11<11:58:52, 21.29s/it]"
     ]
    },
    {
     "name": "stdout",
     "output_type": "stream",
     "text": [
      "QUERY:  Precipitation amount in Zollikofen May 9, 2021 15h\n",
      "QUERY:  temperature in Zollikofen May 9, 2021 15h\n",
      "QUERY:  humidity in Zollikofen May 9, 2021 15h\n",
      "QUERY:  wind speed in Zollikofen May 9, 2021 15h\n",
      "QUERY:  Moon Phase calculatorMay 9, 2021 15h\n",
      "(5344, 7)\n"
     ]
    },
    {
     "data": {
      "text/html": [
       "<div>\n",
       "<style scoped>\n",
       "    .dataframe tbody tr th:only-of-type {\n",
       "        vertical-align: middle;\n",
       "    }\n",
       "\n",
       "    .dataframe tbody tr th {\n",
       "        vertical-align: top;\n",
       "    }\n",
       "\n",
       "    .dataframe thead th {\n",
       "        text-align: right;\n",
       "    }\n",
       "</style>\n",
       "<table border=\"1\" class=\"dataframe\">\n",
       "  <thead>\n",
       "    <tr style=\"text-align: right;\">\n",
       "      <th></th>\n",
       "      <th>date</th>\n",
       "      <th>temperature</th>\n",
       "      <th>humidity</th>\n",
       "      <th>wind speed</th>\n",
       "      <th>Precipitation amount</th>\n",
       "      <th>query</th>\n",
       "      <th>Moon Phase calculator</th>\n",
       "    </tr>\n",
       "  </thead>\n",
       "  <tbody>\n",
       "    <tr>\n",
       "      <th>8</th>\n",
       "      <td>2021-05-09 14:00:00</td>\n",
       "      <td>22 °C\\n(2:00 pm CEST | Sunday, May 9, 2021)</td>\n",
       "      <td>average: 36% (33 to 38%)\\n(2:00 pm CEST | Sund...</td>\n",
       "      <td>1 m/s\\n(2:00 pm CEST | Sunday, May 9, 2021)</td>\n",
       "      <td>no precipitation\\n(2:00 pm CEST | Sunday, May ...</td>\n",
       "      <td>Moon Phase calculatorMay 9, 2021 14h</td>\n",
       "      <td>| waning crescent moon\\n4.78% illuminated</td>\n",
       "    </tr>\n",
       "    <tr>\n",
       "      <th>9</th>\n",
       "      <td>2021-05-09 15:00:00</td>\n",
       "      <td>24 °C\\n(3:00 pm CEST | Sunday, May 9, 2021)</td>\n",
       "      <td>average: 33% (31 to 34%)\\n(3:00 pm CEST | Sund...</td>\n",
       "      <td>2 m/s\\n(3:00 pm CEST | Sunday, May 9, 2021)</td>\n",
       "      <td>no precipitation\\n(3:00 pm CEST | Sunday, May ...</td>\n",
       "      <td>Moon Phase calculatorMay 9, 2021 15h</td>\n",
       "      <td>| waning crescent moon\\n4.61% illuminated</td>\n",
       "    </tr>\n",
       "  </tbody>\n",
       "</table>\n",
       "</div>"
      ],
      "text/plain": [
       "                 date                                  temperature  \\\n",
       "8 2021-05-09 14:00:00  22 °C\\n(2:00 pm CEST | Sunday, May 9, 2021)   \n",
       "9 2021-05-09 15:00:00  24 °C\\n(3:00 pm CEST | Sunday, May 9, 2021)   \n",
       "\n",
       "                                            humidity  \\\n",
       "8  average: 36% (33 to 38%)\\n(2:00 pm CEST | Sund...   \n",
       "9  average: 33% (31 to 34%)\\n(3:00 pm CEST | Sund...   \n",
       "\n",
       "                                    wind speed  \\\n",
       "8  1 m/s\\n(2:00 pm CEST | Sunday, May 9, 2021)   \n",
       "9  2 m/s\\n(3:00 pm CEST | Sunday, May 9, 2021)   \n",
       "\n",
       "                                Precipitation amount  \\\n",
       "8  no precipitation\\n(2:00 pm CEST | Sunday, May ...   \n",
       "9  no precipitation\\n(3:00 pm CEST | Sunday, May ...   \n",
       "\n",
       "                                  query  \\\n",
       "8  Moon Phase calculatorMay 9, 2021 14h   \n",
       "9  Moon Phase calculatorMay 9, 2021 15h   \n",
       "\n",
       "                       Moon Phase calculator  \n",
       "8  | waning crescent moon\\n4.78% illuminated  \n",
       "9  | waning crescent moon\\n4.61% illuminated  "
      ]
     },
     "metadata": {},
     "output_type": "display_data"
    },
    {
     "name": "stderr",
     "output_type": "stream",
     "text": [
      "\r",
      "  7%|████▉                                                                       | 141/2166 [50:32<11:55:10, 21.19s/it]"
     ]
    },
    {
     "name": "stdout",
     "output_type": "stream",
     "text": [
      "QUERY:  Precipitation amount in Zollikofen May 9, 2021 16h\n",
      "QUERY:  temperature in Zollikofen May 9, 2021 16h\n",
      "QUERY:  humidity in Zollikofen May 9, 2021 16h\n",
      "QUERY:  wind speed in Zollikofen May 9, 2021 16h\n",
      "QUERY:  Moon Phase calculatorMay 9, 2021 16h\n"
     ]
    },
    {
     "name": "stderr",
     "output_type": "stream",
     "text": [
      "\r",
      "  7%|████▉                                                                       | 142/2166 [50:52<11:36:38, 20.65s/it]"
     ]
    },
    {
     "name": "stdout",
     "output_type": "stream",
     "text": [
      "QUERY:  Precipitation amount in Zollikofen May 9, 2021 17h\n",
      "QUERY:  temperature in Zollikofen May 9, 2021 17h\n",
      "QUERY:  humidity in Zollikofen May 9, 2021 17h\n",
      "QUERY:  wind speed in Zollikofen May 9, 2021 17h\n",
      "QUERY:  Moon Phase calculatorMay 9, 2021 17h\n"
     ]
    },
    {
     "name": "stderr",
     "output_type": "stream",
     "text": [
      "\r",
      "  7%|█████                                                                       | 143/2166 [51:12<11:33:12, 20.56s/it]"
     ]
    },
    {
     "name": "stdout",
     "output_type": "stream",
     "text": [
      "QUERY:  Precipitation amount in Zollikofen May 9, 2021 18h\n",
      "QUERY:  temperature in Zollikofen May 9, 2021 18h\n",
      "QUERY:  humidity in Zollikofen May 9, 2021 18h\n",
      "QUERY:  wind speed in Zollikofen May 9, 2021 18h\n",
      "QUERY:  Moon Phase calculatorMay 9, 2021 18h\n"
     ]
    },
    {
     "name": "stderr",
     "output_type": "stream",
     "text": [
      "\r",
      "  7%|█████                                                                       | 144/2166 [51:32<11:32:35, 20.55s/it]"
     ]
    },
    {
     "name": "stdout",
     "output_type": "stream",
     "text": [
      "QUERY:  Precipitation amount in Zollikofen May 9, 2021 19h\n",
      "QUERY:  temperature in Zollikofen May 9, 2021 19h\n",
      "QUERY:  humidity in Zollikofen May 9, 2021 19h\n",
      "QUERY:  wind speed in Zollikofen May 9, 2021 19h\n",
      "QUERY:  Moon Phase calculatorMay 9, 2021 19h\n"
     ]
    },
    {
     "name": "stderr",
     "output_type": "stream",
     "text": [
      "\r",
      "  7%|█████                                                                       | 145/2166 [51:53<11:36:25, 20.68s/it]"
     ]
    },
    {
     "name": "stdout",
     "output_type": "stream",
     "text": [
      "QUERY:  Precipitation amount in Zollikofen May 9, 2021 20h\n",
      "QUERY:  temperature in Zollikofen May 9, 2021 20h\n",
      "QUERY:  humidity in Zollikofen May 9, 2021 20h\n",
      "QUERY:  wind speed in Zollikofen May 9, 2021 20h\n",
      "QUERY:  Moon Phase calculatorMay 9, 2021 20h\n"
     ]
    },
    {
     "name": "stderr",
     "output_type": "stream",
     "text": [
      "\r",
      "  7%|█████                                                                       | 146/2166 [52:14<11:31:00, 20.53s/it]"
     ]
    },
    {
     "name": "stdout",
     "output_type": "stream",
     "text": [
      "QUERY:  Precipitation amount in Zollikofen May 9, 2021 21h\n",
      "QUERY:  temperature in Zollikofen May 9, 2021 21h\n",
      "QUERY:  humidity in Zollikofen May 9, 2021 21h\n",
      "QUERY:  wind speed in Zollikofen May 9, 2021 21h\n",
      "QUERY:  Moon Phase calculatorMay 9, 2021 21h\n"
     ]
    },
    {
     "name": "stderr",
     "output_type": "stream",
     "text": [
      "\r",
      "  7%|█████▏                                                                      | 147/2166 [52:36<11:53:23, 21.20s/it]"
     ]
    },
    {
     "name": "stdout",
     "output_type": "stream",
     "text": [
      "QUERY:  Precipitation amount in Zollikofen May 9, 2021 22h\n",
      "QUERY:  temperature in Zollikofen May 9, 2021 22h\n",
      "QUERY:  humidity in Zollikofen May 9, 2021 22h\n",
      "QUERY:  wind speed in Zollikofen May 9, 2021 22h\n",
      "QUERY:  Moon Phase calculatorMay 9, 2021 22h\n"
     ]
    },
    {
     "name": "stderr",
     "output_type": "stream",
     "text": [
      "\r",
      "  7%|█████▏                                                                      | 148/2166 [52:57<11:42:57, 20.90s/it]"
     ]
    },
    {
     "name": "stdout",
     "output_type": "stream",
     "text": [
      "QUERY:  Precipitation amount in Zollikofen May 9, 2021 23h\n",
      "QUERY:  temperature in Zollikofen May 9, 2021 23h\n",
      "QUERY:  humidity in Zollikofen May 9, 2021 23h\n",
      "QUERY:  wind speed in Zollikofen May 9, 2021 23h\n",
      "QUERY:  Moon Phase calculatorMay 9, 2021 23h\n"
     ]
    },
    {
     "name": "stderr",
     "output_type": "stream",
     "text": [
      "\r",
      "  7%|█████▏                                                                      | 149/2166 [53:18<11:52:40, 21.20s/it]"
     ]
    },
    {
     "name": "stdout",
     "output_type": "stream",
     "text": [
      "QUERY:  Precipitation amount in Zollikofen May 10, 2021 0h\n",
      "QUERY:  temperature in Zollikofen May 10, 2021 0h\n",
      "QUERY:  humidity in Zollikofen May 10, 2021 0h\n",
      "QUERY:  wind speed in Zollikofen May 10, 2021 0h\n",
      "QUERY:  Moon Phase calculatorMay 10, 2021 0h\n"
     ]
    },
    {
     "name": "stderr",
     "output_type": "stream",
     "text": [
      "\r",
      "  7%|█████▎                                                                      | 150/2166 [53:39<11:45:43, 21.00s/it]"
     ]
    },
    {
     "name": "stdout",
     "output_type": "stream",
     "text": [
      "QUERY:  Precipitation amount in Zollikofen May 10, 2021 1h\n",
      "QUERY:  temperature in Zollikofen May 10, 2021 1h\n",
      "QUERY:  humidity in Zollikofen May 10, 2021 1h\n",
      "QUERY:  wind speed in Zollikofen May 10, 2021 1h\n",
      "QUERY:  Moon Phase calculatorMay 10, 2021 1h\n",
      "(5354, 7)\n"
     ]
    },
    {
     "data": {
      "text/html": [
       "<div>\n",
       "<style scoped>\n",
       "    .dataframe tbody tr th:only-of-type {\n",
       "        vertical-align: middle;\n",
       "    }\n",
       "\n",
       "    .dataframe tbody tr th {\n",
       "        vertical-align: top;\n",
       "    }\n",
       "\n",
       "    .dataframe thead th {\n",
       "        text-align: right;\n",
       "    }\n",
       "</style>\n",
       "<table border=\"1\" class=\"dataframe\">\n",
       "  <thead>\n",
       "    <tr style=\"text-align: right;\">\n",
       "      <th></th>\n",
       "      <th>date</th>\n",
       "      <th>temperature</th>\n",
       "      <th>humidity</th>\n",
       "      <th>wind speed</th>\n",
       "      <th>Precipitation amount</th>\n",
       "      <th>query</th>\n",
       "      <th>Moon Phase calculator</th>\n",
       "    </tr>\n",
       "  </thead>\n",
       "  <tbody>\n",
       "    <tr>\n",
       "      <th>8</th>\n",
       "      <td>2021-05-10 00:00:00</td>\n",
       "      <td>17 °C\\n(12:00 am CEST | Monday, May 10, 2021)</td>\n",
       "      <td>average: 51% (42 to 59%)\\n(12:00 am CEST | Mon...</td>\n",
       "      <td>2 m/s\\n(12:00 am CEST | Monday, May 10, 2021)</td>\n",
       "      <td>no precipitation\\n(12:00 am CEST | Monday, May...</td>\n",
       "      <td>Moon Phase calculatorMay 10, 2021 0h</td>\n",
       "      <td>| waning crescent moon\\n3.23% illuminated</td>\n",
       "    </tr>\n",
       "    <tr>\n",
       "      <th>9</th>\n",
       "      <td>2021-05-10 01:00:00</td>\n",
       "      <td>15 °C\\n(1:00 am CEST | Monday, May 10, 2021)</td>\n",
       "      <td>average: 61% (55 to 67%)\\n(1:00 am CEST | Mond...</td>\n",
       "      <td>1 m/s\\n(1:00 am CEST | Monday, May 10, 2021)</td>\n",
       "      <td>no precipitation\\n(1:00 am CEST | Monday, May ...</td>\n",
       "      <td>Moon Phase calculatorMay 10, 2021 1h</td>\n",
       "      <td>| waning crescent moon\\n3.09% illuminated</td>\n",
       "    </tr>\n",
       "  </tbody>\n",
       "</table>\n",
       "</div>"
      ],
      "text/plain": [
       "                 date                                    temperature  \\\n",
       "8 2021-05-10 00:00:00  17 °C\\n(12:00 am CEST | Monday, May 10, 2021)   \n",
       "9 2021-05-10 01:00:00   15 °C\\n(1:00 am CEST | Monday, May 10, 2021)   \n",
       "\n",
       "                                            humidity  \\\n",
       "8  average: 51% (42 to 59%)\\n(12:00 am CEST | Mon...   \n",
       "9  average: 61% (55 to 67%)\\n(1:00 am CEST | Mond...   \n",
       "\n",
       "                                      wind speed  \\\n",
       "8  2 m/s\\n(12:00 am CEST | Monday, May 10, 2021)   \n",
       "9   1 m/s\\n(1:00 am CEST | Monday, May 10, 2021)   \n",
       "\n",
       "                                Precipitation amount  \\\n",
       "8  no precipitation\\n(12:00 am CEST | Monday, May...   \n",
       "9  no precipitation\\n(1:00 am CEST | Monday, May ...   \n",
       "\n",
       "                                  query  \\\n",
       "8  Moon Phase calculatorMay 10, 2021 0h   \n",
       "9  Moon Phase calculatorMay 10, 2021 1h   \n",
       "\n",
       "                       Moon Phase calculator  \n",
       "8  | waning crescent moon\\n3.23% illuminated  \n",
       "9  | waning crescent moon\\n3.09% illuminated  "
      ]
     },
     "metadata": {},
     "output_type": "display_data"
    },
    {
     "name": "stderr",
     "output_type": "stream",
     "text": [
      "\r",
      "  7%|█████▎                                                                      | 151/2166 [54:00<11:42:59, 20.93s/it]"
     ]
    },
    {
     "name": "stdout",
     "output_type": "stream",
     "text": [
      "QUERY:  Precipitation amount in Zollikofen May 10, 2021 2h\n",
      "QUERY:  temperature in Zollikofen May 10, 2021 2h\n",
      "QUERY:  humidity in Zollikofen May 10, 2021 2h\n",
      "QUERY:  wind speed in Zollikofen May 10, 2021 2h\n",
      "QUERY:  Moon Phase calculatorMay 10, 2021 2h\n"
     ]
    },
    {
     "name": "stderr",
     "output_type": "stream",
     "text": [
      "\r",
      "  7%|█████▎                                                                      | 152/2166 [54:20<11:37:58, 20.79s/it]"
     ]
    },
    {
     "name": "stdout",
     "output_type": "stream",
     "text": [
      "QUERY:  Precipitation amount in Zollikofen May 10, 2021 3h\n",
      "QUERY:  temperature in Zollikofen May 10, 2021 3h\n",
      "QUERY:  humidity in Zollikofen May 10, 2021 3h\n",
      "QUERY:  wind speed in Zollikofen May 10, 2021 3h\n",
      "QUERY:  Moon Phase calculatorMay 10, 2021 3h\n"
     ]
    },
    {
     "name": "stderr",
     "output_type": "stream",
     "text": [
      "\r",
      "  7%|█████▎                                                                      | 153/2166 [54:42<11:48:49, 21.13s/it]"
     ]
    },
    {
     "name": "stdout",
     "output_type": "stream",
     "text": [
      "QUERY:  Precipitation amount in Zollikofen May 10, 2021 4h\n",
      "QUERY:  temperature in Zollikofen May 10, 2021 4h\n",
      "QUERY:  humidity in Zollikofen May 10, 2021 4h\n",
      "QUERY:  wind speed in Zollikofen May 10, 2021 4h\n",
      "QUERY:  Moon Phase calculatorMay 10, 2021 4h\n"
     ]
    },
    {
     "name": "stderr",
     "output_type": "stream",
     "text": [
      "\r",
      "  7%|█████▍                                                                      | 154/2166 [55:04<11:55:31, 21.34s/it]"
     ]
    },
    {
     "name": "stdout",
     "output_type": "stream",
     "text": [
      "QUERY:  Precipitation amount in Zollikofen May 10, 2021 5h\n",
      "QUERY:  temperature in Zollikofen May 10, 2021 5h\n",
      "QUERY:  humidity in Zollikofen May 10, 2021 5h\n",
      "QUERY:  wind speed in Zollikofen May 10, 2021 5h\n",
      "QUERY:  Moon Phase calculatorMay 10, 2021 5h\n"
     ]
    },
    {
     "name": "stderr",
     "output_type": "stream",
     "text": [
      "\r",
      "  7%|█████▍                                                                      | 155/2166 [55:27<12:11:21, 21.82s/it]"
     ]
    },
    {
     "name": "stdout",
     "output_type": "stream",
     "text": [
      "QUERY:  Precipitation amount in Zollikofen May 10, 2021 6h\n",
      "QUERY:  temperature in Zollikofen May 10, 2021 6h\n",
      "QUERY:  humidity in Zollikofen May 10, 2021 6h\n",
      "QUERY:  wind speed in Zollikofen May 10, 2021 6h\n",
      "QUERY:  Moon Phase calculatorMay 10, 2021 6h\n"
     ]
    },
    {
     "name": "stderr",
     "output_type": "stream",
     "text": [
      "\r",
      "  7%|█████▍                                                                      | 156/2166 [55:48<12:03:42, 21.60s/it]"
     ]
    },
    {
     "name": "stdout",
     "output_type": "stream",
     "text": [
      "QUERY:  Precipitation amount in Zollikofen May 10, 2021 7h\n",
      "QUERY:  temperature in Zollikofen May 10, 2021 7h\n",
      "QUERY:  humidity in Zollikofen May 10, 2021 7h\n",
      "QUERY:  wind speed in Zollikofen May 10, 2021 7h\n",
      "QUERY:  Moon Phase calculatorMay 10, 2021 7h\n"
     ]
    },
    {
     "name": "stderr",
     "output_type": "stream",
     "text": [
      "\r",
      "  7%|█████▌                                                                      | 157/2166 [56:09<11:59:38, 21.49s/it]"
     ]
    },
    {
     "name": "stdout",
     "output_type": "stream",
     "text": [
      "QUERY:  Precipitation amount in Zollikofen May 10, 2021 8h\n",
      "QUERY:  temperature in Zollikofen May 10, 2021 8h\n",
      "QUERY:  humidity in Zollikofen May 10, 2021 8h\n",
      "QUERY:  wind speed in Zollikofen May 10, 2021 8h\n",
      "QUERY:  Moon Phase calculatorMay 10, 2021 8h\n"
     ]
    },
    {
     "name": "stderr",
     "output_type": "stream",
     "text": [
      "\r",
      "  7%|█████▌                                                                      | 158/2166 [56:33<12:20:12, 22.12s/it]"
     ]
    },
    {
     "name": "stdout",
     "output_type": "stream",
     "text": [
      "QUERY:  Precipitation amount in Zollikofen May 10, 2021 9h\n",
      "QUERY:  temperature in Zollikofen May 10, 2021 9h\n",
      "QUERY:  humidity in Zollikofen May 10, 2021 9h\n",
      "QUERY:  wind speed in Zollikofen May 10, 2021 9h\n",
      "QUERY:  Moon Phase calculatorMay 10, 2021 9h\n"
     ]
    },
    {
     "name": "stderr",
     "output_type": "stream",
     "text": [
      "\r",
      "  7%|█████▌                                                                      | 159/2166 [56:54<12:06:49, 21.73s/it]"
     ]
    },
    {
     "name": "stdout",
     "output_type": "stream",
     "text": [
      "QUERY:  Precipitation amount in Zollikofen May 10, 2021 10h\n",
      "QUERY:  temperature in Zollikofen May 10, 2021 10h\n",
      "QUERY:  humidity in Zollikofen May 10, 2021 10h\n",
      "QUERY:  wind speed in Zollikofen May 10, 2021 10h\n",
      "QUERY:  Moon Phase calculatorMay 10, 2021 10h\n"
     ]
    },
    {
     "name": "stderr",
     "output_type": "stream",
     "text": [
      "\r",
      "  7%|█████▌                                                                      | 160/2166 [57:14<11:57:20, 21.46s/it]"
     ]
    },
    {
     "name": "stdout",
     "output_type": "stream",
     "text": [
      "QUERY:  Precipitation amount in Zollikofen May 10, 2021 11h\n",
      "QUERY:  temperature in Zollikofen May 10, 2021 11h\n",
      "QUERY:  humidity in Zollikofen May 10, 2021 11h\n",
      "QUERY:  wind speed in Zollikofen May 10, 2021 11h\n",
      "QUERY:  Moon Phase calculatorMay 10, 2021 11h\n",
      "(5364, 7)\n"
     ]
    },
    {
     "data": {
      "text/html": [
       "<div>\n",
       "<style scoped>\n",
       "    .dataframe tbody tr th:only-of-type {\n",
       "        vertical-align: middle;\n",
       "    }\n",
       "\n",
       "    .dataframe tbody tr th {\n",
       "        vertical-align: top;\n",
       "    }\n",
       "\n",
       "    .dataframe thead th {\n",
       "        text-align: right;\n",
       "    }\n",
       "</style>\n",
       "<table border=\"1\" class=\"dataframe\">\n",
       "  <thead>\n",
       "    <tr style=\"text-align: right;\">\n",
       "      <th></th>\n",
       "      <th>date</th>\n",
       "      <th>temperature</th>\n",
       "      <th>humidity</th>\n",
       "      <th>wind speed</th>\n",
       "      <th>Precipitation amount</th>\n",
       "      <th>query</th>\n",
       "      <th>Moon Phase calculator</th>\n",
       "    </tr>\n",
       "  </thead>\n",
       "  <tbody>\n",
       "    <tr>\n",
       "      <th>8</th>\n",
       "      <td>2021-05-10 10:00:00</td>\n",
       "      <td>15 °C\\n(10:00 am CEST | Monday, May 10, 2021)</td>\n",
       "      <td>average: 77% (72 to 82%)\\n(10:00 am CEST | Mon...</td>\n",
       "      <td>1 m/s\\n(10:00 am CEST | Monday, May 10, 2021)</td>\n",
       "      <td>no precipitation\\n(10:00 am CEST | Monday, May...</td>\n",
       "      <td>Moon Phase calculatorMay 10, 2021 10h</td>\n",
       "      <td>| waning crescent moon\\n1.98% illuminated</td>\n",
       "    </tr>\n",
       "    <tr>\n",
       "      <th>9</th>\n",
       "      <td>2021-05-10 11:00:00</td>\n",
       "      <td>15 °C\\n(11:00 am CEST | Monday, May 10, 2021)</td>\n",
       "      <td>average: 83% (77 to 88%)\\n(11:00 am CEST | Mon...</td>\n",
       "      <td>1 m/s\\n(11:00 am CEST | Monday, May 10, 2021)</td>\n",
       "      <td>no precipitation\\n(11:00 am CEST | Monday, May...</td>\n",
       "      <td>Moon Phase calculatorMay 10, 2021 11h</td>\n",
       "      <td>| waning crescent moon\\n1.87% illuminated</td>\n",
       "    </tr>\n",
       "  </tbody>\n",
       "</table>\n",
       "</div>"
      ],
      "text/plain": [
       "                 date                                    temperature  \\\n",
       "8 2021-05-10 10:00:00  15 °C\\n(10:00 am CEST | Monday, May 10, 2021)   \n",
       "9 2021-05-10 11:00:00  15 °C\\n(11:00 am CEST | Monday, May 10, 2021)   \n",
       "\n",
       "                                            humidity  \\\n",
       "8  average: 77% (72 to 82%)\\n(10:00 am CEST | Mon...   \n",
       "9  average: 83% (77 to 88%)\\n(11:00 am CEST | Mon...   \n",
       "\n",
       "                                      wind speed  \\\n",
       "8  1 m/s\\n(10:00 am CEST | Monday, May 10, 2021)   \n",
       "9  1 m/s\\n(11:00 am CEST | Monday, May 10, 2021)   \n",
       "\n",
       "                                Precipitation amount  \\\n",
       "8  no precipitation\\n(10:00 am CEST | Monday, May...   \n",
       "9  no precipitation\\n(11:00 am CEST | Monday, May...   \n",
       "\n",
       "                                   query  \\\n",
       "8  Moon Phase calculatorMay 10, 2021 10h   \n",
       "9  Moon Phase calculatorMay 10, 2021 11h   \n",
       "\n",
       "                       Moon Phase calculator  \n",
       "8  | waning crescent moon\\n1.98% illuminated  \n",
       "9  | waning crescent moon\\n1.87% illuminated  "
      ]
     },
     "metadata": {},
     "output_type": "display_data"
    },
    {
     "name": "stderr",
     "output_type": "stream",
     "text": [
      "\r",
      "  7%|█████▋                                                                      | 161/2166 [57:37<12:05:42, 21.72s/it]"
     ]
    },
    {
     "name": "stdout",
     "output_type": "stream",
     "text": [
      "QUERY:  Precipitation amount in Zollikofen May 10, 2021 12h\n",
      "QUERY:  temperature in Zollikofen May 10, 2021 12h\n",
      "QUERY:  humidity in Zollikofen May 10, 2021 12h\n",
      "QUERY:  wind speed in Zollikofen May 10, 2021 12h\n",
      "QUERY:  Moon Phase calculatorMay 10, 2021 12h\n"
     ]
    },
    {
     "name": "stderr",
     "output_type": "stream",
     "text": [
      "\r",
      "  7%|█████▋                                                                      | 162/2166 [57:58<11:57:33, 21.48s/it]"
     ]
    },
    {
     "name": "stdout",
     "output_type": "stream",
     "text": [
      "QUERY:  Precipitation amount in Zollikofen May 10, 2021 13h\n",
      "QUERY:  temperature in Zollikofen May 10, 2021 13h\n",
      "QUERY:  humidity in Zollikofen May 10, 2021 13h\n",
      "QUERY:  wind speed in Zollikofen May 10, 2021 13h\n",
      "QUERY:  Moon Phase calculatorMay 10, 2021 13h\n"
     ]
    },
    {
     "name": "stderr",
     "output_type": "stream",
     "text": [
      "\r",
      "  8%|█████▋                                                                      | 163/2166 [58:18<11:47:14, 21.19s/it]"
     ]
    },
    {
     "name": "stdout",
     "output_type": "stream",
     "text": [
      "QUERY:  Precipitation amount in Zollikofen May 10, 2021 14h\n",
      "QUERY:  temperature in Zollikofen May 10, 2021 14h\n",
      "QUERY:  humidity in Zollikofen May 10, 2021 14h\n",
      "QUERY:  wind speed in Zollikofen May 10, 2021 14h\n",
      "QUERY:  Moon Phase calculatorMay 10, 2021 14h\n"
     ]
    },
    {
     "name": "stderr",
     "output_type": "stream",
     "text": [
      "\r",
      "  8%|█████▊                                                                      | 164/2166 [58:42<12:09:34, 21.87s/it]"
     ]
    },
    {
     "name": "stdout",
     "output_type": "stream",
     "text": [
      "QUERY:  Precipitation amount in Zollikofen May 10, 2021 15h\n",
      "QUERY:  temperature in Zollikofen May 10, 2021 15h\n",
      "QUERY:  humidity in Zollikofen May 10, 2021 15h\n",
      "QUERY:  wind speed in Zollikofen May 10, 2021 15h\n",
      "QUERY:  Moon Phase calculatorMay 10, 2021 15h\n"
     ]
    },
    {
     "name": "stderr",
     "output_type": "stream",
     "text": [
      "\r",
      "  8%|█████▊                                                                      | 165/2166 [59:02<11:58:57, 21.56s/it]"
     ]
    },
    {
     "name": "stdout",
     "output_type": "stream",
     "text": [
      "QUERY:  Precipitation amount in Zollikofen May 10, 2021 16h\n",
      "QUERY:  temperature in Zollikofen May 10, 2021 16h\n",
      "QUERY:  humidity in Zollikofen May 10, 2021 16h\n",
      "QUERY:  wind speed in Zollikofen May 10, 2021 16h\n",
      "QUERY:  Moon Phase calculatorMay 10, 2021 16h\n"
     ]
    },
    {
     "name": "stderr",
     "output_type": "stream",
     "text": [
      "\r",
      "  8%|█████▊                                                                      | 166/2166 [59:24<11:55:52, 21.48s/it]"
     ]
    },
    {
     "name": "stdout",
     "output_type": "stream",
     "text": [
      "QUERY:  Precipitation amount in Zollikofen May 10, 2021 17h\n",
      "QUERY:  temperature in Zollikofen May 10, 2021 17h\n",
      "QUERY:  humidity in Zollikofen May 10, 2021 17h\n",
      "QUERY:  wind speed in Zollikofen May 10, 2021 17h\n",
      "QUERY:  Moon Phase calculatorMay 10, 2021 17h\n"
     ]
    },
    {
     "name": "stderr",
     "output_type": "stream",
     "text": [
      "\r",
      "  8%|█████▊                                                                      | 167/2166 [59:44<11:46:09, 21.20s/it]"
     ]
    },
    {
     "name": "stdout",
     "output_type": "stream",
     "text": [
      "QUERY:  Precipitation amount in Zollikofen May 10, 2021 18h\n",
      "QUERY:  temperature in Zollikofen May 10, 2021 18h\n",
      "QUERY:  humidity in Zollikofen May 10, 2021 18h\n",
      "QUERY:  wind speed in Zollikofen May 10, 2021 18h\n",
      "QUERY:  Moon Phase calculatorMay 10, 2021 18h\n"
     ]
    },
    {
     "name": "stderr",
     "output_type": "stream",
     "text": [
      "\r",
      "  8%|█████▋                                                                    | 168/2166 [1:00:06<11:51:45, 21.37s/it]"
     ]
    },
    {
     "name": "stdout",
     "output_type": "stream",
     "text": [
      "QUERY:  Precipitation amount in Zollikofen May 10, 2021 19h\n",
      "QUERY:  temperature in Zollikofen May 10, 2021 19h\n",
      "QUERY:  humidity in Zollikofen May 10, 2021 19h\n",
      "QUERY:  wind speed in Zollikofen May 10, 2021 19h\n",
      "QUERY:  Moon Phase calculatorMay 10, 2021 19h\n"
     ]
    },
    {
     "name": "stderr",
     "output_type": "stream",
     "text": [
      "\r",
      "  8%|█████▊                                                                    | 169/2166 [1:00:27<11:50:22, 21.34s/it]"
     ]
    },
    {
     "name": "stdout",
     "output_type": "stream",
     "text": [
      "QUERY:  Precipitation amount in Zollikofen May 10, 2021 20h\n",
      "QUERY:  temperature in Zollikofen May 10, 2021 20h\n",
      "QUERY:  humidity in Zollikofen May 10, 2021 20h\n",
      "QUERY:  wind speed in Zollikofen May 10, 2021 20h\n",
      "QUERY:  Moon Phase calculatorMay 10, 2021 20h\n"
     ]
    },
    {
     "name": "stderr",
     "output_type": "stream",
     "text": [
      "\r",
      "  8%|█████▊                                                                    | 170/2166 [1:00:48<11:46:32, 21.24s/it]"
     ]
    },
    {
     "name": "stdout",
     "output_type": "stream",
     "text": [
      "QUERY:  Precipitation amount in Zollikofen May 10, 2021 21h\n",
      "QUERY:  temperature in Zollikofen May 10, 2021 21h\n",
      "QUERY:  humidity in Zollikofen May 10, 2021 21h\n",
      "QUERY:  wind speed in Zollikofen May 10, 2021 21h\n",
      "QUERY:  Moon Phase calculatorMay 10, 2021 21h\n",
      "(5374, 7)\n"
     ]
    },
    {
     "data": {
      "text/html": [
       "<div>\n",
       "<style scoped>\n",
       "    .dataframe tbody tr th:only-of-type {\n",
       "        vertical-align: middle;\n",
       "    }\n",
       "\n",
       "    .dataframe tbody tr th {\n",
       "        vertical-align: top;\n",
       "    }\n",
       "\n",
       "    .dataframe thead th {\n",
       "        text-align: right;\n",
       "    }\n",
       "</style>\n",
       "<table border=\"1\" class=\"dataframe\">\n",
       "  <thead>\n",
       "    <tr style=\"text-align: right;\">\n",
       "      <th></th>\n",
       "      <th>date</th>\n",
       "      <th>temperature</th>\n",
       "      <th>humidity</th>\n",
       "      <th>wind speed</th>\n",
       "      <th>Precipitation amount</th>\n",
       "      <th>query</th>\n",
       "      <th>Moon Phase calculator</th>\n",
       "    </tr>\n",
       "  </thead>\n",
       "  <tbody>\n",
       "    <tr>\n",
       "      <th>8</th>\n",
       "      <td>2021-05-10 20:00:00</td>\n",
       "      <td>13 °C\\n(8:00 pm CEST | Monday, May 10, 2021)</td>\n",
       "      <td>average: 91% (88 to 94%)\\n(8:00 pm CEST | Mond...</td>\n",
       "      <td>2 m/s\\n(8:00 pm CEST | Monday, May 10, 2021)</td>\n",
       "      <td>no precipitation\\n(8:00 pm CEST | Monday, May ...</td>\n",
       "      <td>Moon Phase calculatorMay 10, 2021 20h</td>\n",
       "      <td>| waning crescent moon\\n1.03% illuminated</td>\n",
       "    </tr>\n",
       "    <tr>\n",
       "      <th>9</th>\n",
       "      <td>2021-05-10 21:00:00</td>\n",
       "      <td>12 °C\\n(9:00 pm CEST | Monday, May 10, 2021)</td>\n",
       "      <td>average: 94% (94%)\\n(9:00 pm CEST | Monday, Ma...</td>\n",
       "      <td>2 m/s\\n(9:00 pm CEST | Monday, May 10, 2021)</td>\n",
       "      <td>no precipitation\\n(9:00 pm CEST | Monday, May ...</td>\n",
       "      <td>Moon Phase calculatorMay 10, 2021 21h</td>\n",
       "      <td>| waning crescent moon\\n0.95% illuminated</td>\n",
       "    </tr>\n",
       "  </tbody>\n",
       "</table>\n",
       "</div>"
      ],
      "text/plain": [
       "                 date                                   temperature  \\\n",
       "8 2021-05-10 20:00:00  13 °C\\n(8:00 pm CEST | Monday, May 10, 2021)   \n",
       "9 2021-05-10 21:00:00  12 °C\\n(9:00 pm CEST | Monday, May 10, 2021)   \n",
       "\n",
       "                                            humidity  \\\n",
       "8  average: 91% (88 to 94%)\\n(8:00 pm CEST | Mond...   \n",
       "9  average: 94% (94%)\\n(9:00 pm CEST | Monday, Ma...   \n",
       "\n",
       "                                     wind speed  \\\n",
       "8  2 m/s\\n(8:00 pm CEST | Monday, May 10, 2021)   \n",
       "9  2 m/s\\n(9:00 pm CEST | Monday, May 10, 2021)   \n",
       "\n",
       "                                Precipitation amount  \\\n",
       "8  no precipitation\\n(8:00 pm CEST | Monday, May ...   \n",
       "9  no precipitation\\n(9:00 pm CEST | Monday, May ...   \n",
       "\n",
       "                                   query  \\\n",
       "8  Moon Phase calculatorMay 10, 2021 20h   \n",
       "9  Moon Phase calculatorMay 10, 2021 21h   \n",
       "\n",
       "                       Moon Phase calculator  \n",
       "8  | waning crescent moon\\n1.03% illuminated  \n",
       "9  | waning crescent moon\\n0.95% illuminated  "
      ]
     },
     "metadata": {},
     "output_type": "display_data"
    },
    {
     "name": "stderr",
     "output_type": "stream",
     "text": [
      "\r",
      "  8%|█████▊                                                                    | 171/2166 [1:01:10<11:46:59, 21.26s/it]"
     ]
    },
    {
     "name": "stdout",
     "output_type": "stream",
     "text": [
      "QUERY:  Precipitation amount in Zollikofen May 10, 2021 22h\n",
      "QUERY:  temperature in Zollikofen May 10, 2021 22h\n",
      "QUERY:  humidity in Zollikofen May 10, 2021 22h\n",
      "QUERY:  wind speed in Zollikofen May 10, 2021 22h\n",
      "QUERY:  Moon Phase calculatorMay 10, 2021 22h\n"
     ]
    },
    {
     "name": "stderr",
     "output_type": "stream",
     "text": [
      "\r",
      "  8%|█████▉                                                                    | 172/2166 [1:01:30<11:39:00, 21.03s/it]"
     ]
    },
    {
     "name": "stdout",
     "output_type": "stream",
     "text": [
      "QUERY:  Precipitation amount in Zollikofen May 10, 2021 23h\n",
      "QUERY:  temperature in Zollikofen May 10, 2021 23h\n",
      "QUERY:  humidity in Zollikofen May 10, 2021 23h\n",
      "QUERY:  wind speed in Zollikofen May 10, 2021 23h\n",
      "QUERY:  Moon Phase calculatorMay 10, 2021 23h\n"
     ]
    },
    {
     "name": "stderr",
     "output_type": "stream",
     "text": [
      "\r",
      "  8%|█████▉                                                                    | 173/2166 [1:01:51<11:33:38, 20.88s/it]"
     ]
    },
    {
     "name": "stdout",
     "output_type": "stream",
     "text": [
      "QUERY:  Precipitation amount in Zollikofen May 11, 2021 0h\n",
      "QUERY:  temperature in Zollikofen May 11, 2021 0h\n",
      "QUERY:  humidity in Zollikofen May 11, 2021 0h\n",
      "QUERY:  wind speed in Zollikofen May 11, 2021 0h\n",
      "QUERY:  Moon Phase calculatorMay 11, 2021 0h\n"
     ]
    },
    {
     "name": "stderr",
     "output_type": "stream",
     "text": [
      "\r",
      "  8%|█████▉                                                                    | 174/2166 [1:02:12<11:37:21, 21.00s/it]"
     ]
    },
    {
     "name": "stdout",
     "output_type": "stream",
     "text": [
      "QUERY:  Precipitation amount in Zollikofen May 11, 2021 1h\n",
      "QUERY:  temperature in Zollikofen May 11, 2021 1h\n",
      "QUERY:  humidity in Zollikofen May 11, 2021 1h\n",
      "QUERY:  wind speed in Zollikofen May 11, 2021 1h\n",
      "QUERY:  Moon Phase calculatorMay 11, 2021 1h\n"
     ]
    },
    {
     "name": "stderr",
     "output_type": "stream",
     "text": [
      "\r",
      "  8%|█████▉                                                                    | 175/2166 [1:02:34<11:43:44, 21.21s/it]"
     ]
    },
    {
     "name": "stdout",
     "output_type": "stream",
     "text": [
      "QUERY:  Precipitation amount in Zollikofen May 11, 2021 2h\n",
      "QUERY:  temperature in Zollikofen May 11, 2021 2h\n",
      "QUERY:  humidity in Zollikofen May 11, 2021 2h\n",
      "QUERY:  wind speed in Zollikofen May 11, 2021 2h\n",
      "QUERY:  Moon Phase calculatorMay 11, 2021 2h\n"
     ]
    },
    {
     "name": "stderr",
     "output_type": "stream",
     "text": [
      "\r",
      "  8%|██████                                                                    | 176/2166 [1:02:55<11:47:53, 21.34s/it]"
     ]
    },
    {
     "name": "stdout",
     "output_type": "stream",
     "text": [
      "QUERY:  Precipitation amount in Zollikofen May 11, 2021 3h\n",
      "QUERY:  temperature in Zollikofen May 11, 2021 3h\n",
      "QUERY:  humidity in Zollikofen May 11, 2021 3h\n",
      "QUERY:  wind speed in Zollikofen May 11, 2021 3h\n",
      "QUERY:  Moon Phase calculatorMay 11, 2021 3h\n"
     ]
    },
    {
     "name": "stderr",
     "output_type": "stream",
     "text": [
      "\r",
      "  8%|██████                                                                    | 177/2166 [1:03:16<11:37:50, 21.05s/it]"
     ]
    },
    {
     "name": "stdout",
     "output_type": "stream",
     "text": [
      "QUERY:  Precipitation amount in Zollikofen May 11, 2021 4h\n",
      "QUERY:  temperature in Zollikofen May 11, 2021 4h\n",
      "QUERY:  humidity in Zollikofen May 11, 2021 4h\n",
      "QUERY:  wind speed in Zollikofen May 11, 2021 4h\n",
      "QUERY:  Moon Phase calculatorMay 11, 2021 4h\n"
     ]
    },
    {
     "name": "stderr",
     "output_type": "stream",
     "text": [
      "\r",
      "  8%|██████                                                                    | 178/2166 [1:03:37<11:34:50, 20.97s/it]"
     ]
    },
    {
     "name": "stdout",
     "output_type": "stream",
     "text": [
      "QUERY:  Precipitation amount in Zollikofen May 11, 2021 5h\n",
      "QUERY:  temperature in Zollikofen May 11, 2021 5h\n",
      "QUERY:  humidity in Zollikofen May 11, 2021 5h\n",
      "QUERY:  wind speed in Zollikofen May 11, 2021 5h\n",
      "QUERY:  Moon Phase calculatorMay 11, 2021 5h\n"
     ]
    },
    {
     "name": "stderr",
     "output_type": "stream",
     "text": [
      "\r",
      "  8%|██████                                                                    | 179/2166 [1:03:58<11:35:17, 21.00s/it]"
     ]
    },
    {
     "name": "stdout",
     "output_type": "stream",
     "text": [
      "QUERY:  Precipitation amount in Zollikofen May 11, 2021 6h\n",
      "QUERY:  temperature in Zollikofen May 11, 2021 6h\n",
      "QUERY:  humidity in Zollikofen May 11, 2021 6h\n",
      "QUERY:  wind speed in Zollikofen May 11, 2021 6h\n",
      "QUERY:  Moon Phase calculatorMay 11, 2021 6h\n"
     ]
    },
    {
     "name": "stderr",
     "output_type": "stream",
     "text": [
      "\r",
      "  8%|██████▏                                                                   | 180/2166 [1:04:18<11:34:14, 20.97s/it]"
     ]
    },
    {
     "name": "stdout",
     "output_type": "stream",
     "text": [
      "QUERY:  Precipitation amount in Zollikofen May 11, 2021 7h\n",
      "QUERY:  temperature in Zollikofen May 11, 2021 7h\n",
      "QUERY:  humidity in Zollikofen May 11, 2021 7h\n",
      "QUERY:  wind speed in Zollikofen May 11, 2021 7h\n",
      "QUERY:  Moon Phase calculatorMay 11, 2021 7h\n",
      "(5384, 7)\n"
     ]
    },
    {
     "data": {
      "text/html": [
       "<div>\n",
       "<style scoped>\n",
       "    .dataframe tbody tr th:only-of-type {\n",
       "        vertical-align: middle;\n",
       "    }\n",
       "\n",
       "    .dataframe tbody tr th {\n",
       "        vertical-align: top;\n",
       "    }\n",
       "\n",
       "    .dataframe thead th {\n",
       "        text-align: right;\n",
       "    }\n",
       "</style>\n",
       "<table border=\"1\" class=\"dataframe\">\n",
       "  <thead>\n",
       "    <tr style=\"text-align: right;\">\n",
       "      <th></th>\n",
       "      <th>date</th>\n",
       "      <th>temperature</th>\n",
       "      <th>humidity</th>\n",
       "      <th>wind speed</th>\n",
       "      <th>Precipitation amount</th>\n",
       "      <th>query</th>\n",
       "      <th>Moon Phase calculator</th>\n",
       "    </tr>\n",
       "  </thead>\n",
       "  <tbody>\n",
       "    <tr>\n",
       "      <th>8</th>\n",
       "      <td>2021-05-11 06:00:00</td>\n",
       "      <td>11 °C\\n(6:00 am CEST | Tuesday, May 11, 2021)</td>\n",
       "      <td>average: 97% (94 to 100%)\\n(6:00 am CEST | Tue...</td>\n",
       "      <td>0 m/s\\n(6:00 am CEST | Tuesday, May 11, 2021)</td>\n",
       "      <td>no precipitation\\n(6:00 am CEST | Tuesday, May...</td>\n",
       "      <td>Moon Phase calculatorMay 11, 2021 6h</td>\n",
       "      <td>| waning crescent moon\\n0.39% illuminated</td>\n",
       "    </tr>\n",
       "    <tr>\n",
       "      <th>9</th>\n",
       "      <td>2021-05-11 07:00:00</td>\n",
       "      <td>11 °C\\n(7:00 am CEST | Tuesday, May 11, 2021)</td>\n",
       "      <td>average: 100% (100%)\\n(7:00 am CEST | Tuesday,...</td>\n",
       "      <td>1 m/s\\n(7:00 am CEST | Tuesday, May 11, 2021)</td>\n",
       "      <td>rain\\n(7:00 am CEST | Tuesday, May 11, 2021)</td>\n",
       "      <td>Moon Phase calculatorMay 11, 2021 7h</td>\n",
       "      <td>| waning crescent moon\\n0.35% illuminated</td>\n",
       "    </tr>\n",
       "  </tbody>\n",
       "</table>\n",
       "</div>"
      ],
      "text/plain": [
       "                 date                                    temperature  \\\n",
       "8 2021-05-11 06:00:00  11 °C\\n(6:00 am CEST | Tuesday, May 11, 2021)   \n",
       "9 2021-05-11 07:00:00  11 °C\\n(7:00 am CEST | Tuesday, May 11, 2021)   \n",
       "\n",
       "                                            humidity  \\\n",
       "8  average: 97% (94 to 100%)\\n(6:00 am CEST | Tue...   \n",
       "9  average: 100% (100%)\\n(7:00 am CEST | Tuesday,...   \n",
       "\n",
       "                                      wind speed  \\\n",
       "8  0 m/s\\n(6:00 am CEST | Tuesday, May 11, 2021)   \n",
       "9  1 m/s\\n(7:00 am CEST | Tuesday, May 11, 2021)   \n",
       "\n",
       "                                Precipitation amount  \\\n",
       "8  no precipitation\\n(6:00 am CEST | Tuesday, May...   \n",
       "9       rain\\n(7:00 am CEST | Tuesday, May 11, 2021)   \n",
       "\n",
       "                                  query  \\\n",
       "8  Moon Phase calculatorMay 11, 2021 6h   \n",
       "9  Moon Phase calculatorMay 11, 2021 7h   \n",
       "\n",
       "                       Moon Phase calculator  \n",
       "8  | waning crescent moon\\n0.39% illuminated  \n",
       "9  | waning crescent moon\\n0.35% illuminated  "
      ]
     },
     "metadata": {},
     "output_type": "display_data"
    },
    {
     "name": "stderr",
     "output_type": "stream",
     "text": [
      "\r",
      "  8%|██████▏                                                                   | 181/2166 [1:04:39<11:30:00, 20.86s/it]"
     ]
    },
    {
     "name": "stdout",
     "output_type": "stream",
     "text": [
      "QUERY:  Precipitation amount in Zollikofen May 11, 2021 8h\n",
      "QUERY:  temperature in Zollikofen May 11, 2021 8h\n",
      "QUERY:  humidity in Zollikofen May 11, 2021 8h\n",
      "QUERY:  wind speed in Zollikofen May 11, 2021 8h\n",
      "QUERY:  Moon Phase calculatorMay 11, 2021 8h\n"
     ]
    },
    {
     "name": "stderr",
     "output_type": "stream",
     "text": [
      "\r",
      "  8%|██████▏                                                                   | 182/2166 [1:05:00<11:32:52, 20.95s/it]"
     ]
    },
    {
     "name": "stdout",
     "output_type": "stream",
     "text": [
      "QUERY:  Precipitation amount in Zollikofen May 11, 2021 9h\n",
      "QUERY:  temperature in Zollikofen May 11, 2021 9h\n",
      "QUERY:  humidity in Zollikofen May 11, 2021 9h\n",
      "QUERY:  wind speed in Zollikofen May 11, 2021 9h\n",
      "QUERY:  Moon Phase calculatorMay 11, 2021 9h\n"
     ]
    },
    {
     "name": "stderr",
     "output_type": "stream",
     "text": [
      "\r",
      "  8%|██████▎                                                                   | 183/2166 [1:05:22<11:37:07, 21.09s/it]"
     ]
    },
    {
     "name": "stdout",
     "output_type": "stream",
     "text": [
      "QUERY:  Precipitation amount in Zollikofen May 11, 2021 10h\n",
      "QUERY:  temperature in Zollikofen May 11, 2021 10h\n",
      "QUERY:  humidity in Zollikofen May 11, 2021 10h\n",
      "QUERY:  wind speed in Zollikofen May 11, 2021 10h\n",
      "QUERY:  Moon Phase calculatorMay 11, 2021 10h\n"
     ]
    },
    {
     "name": "stderr",
     "output_type": "stream",
     "text": [
      "\r",
      "  8%|██████▎                                                                   | 184/2166 [1:05:43<11:36:02, 21.07s/it]"
     ]
    },
    {
     "name": "stdout",
     "output_type": "stream",
     "text": [
      "QUERY:  Precipitation amount in Zollikofen May 11, 2021 11h\n",
      "QUERY:  temperature in Zollikofen May 11, 2021 11h\n",
      "QUERY:  humidity in Zollikofen May 11, 2021 11h\n",
      "QUERY:  wind speed in Zollikofen May 11, 2021 11h\n",
      "QUERY:  Moon Phase calculatorMay 11, 2021 11h\n"
     ]
    },
    {
     "name": "stderr",
     "output_type": "stream",
     "text": [
      "\r",
      "  9%|██████▎                                                                   | 185/2166 [1:06:03<11:28:50, 20.86s/it]"
     ]
    },
    {
     "name": "stdout",
     "output_type": "stream",
     "text": [
      "QUERY:  Precipitation amount in Zollikofen May 11, 2021 12h\n",
      "QUERY:  temperature in Zollikofen May 11, 2021 12h\n",
      "QUERY:  humidity in Zollikofen May 11, 2021 12h\n",
      "QUERY:  wind speed in Zollikofen May 11, 2021 12h\n",
      "QUERY:  Moon Phase calculatorMay 11, 2021 12h\n"
     ]
    },
    {
     "name": "stderr",
     "output_type": "stream",
     "text": [
      "\r",
      "  9%|██████▎                                                                   | 186/2166 [1:06:24<11:28:26, 20.86s/it]"
     ]
    },
    {
     "name": "stdout",
     "output_type": "stream",
     "text": [
      "QUERY:  Precipitation amount in Zollikofen May 11, 2021 13h\n",
      "QUERY:  temperature in Zollikofen May 11, 2021 13h\n",
      "QUERY:  humidity in Zollikofen May 11, 2021 13h\n",
      "QUERY:  wind speed in Zollikofen May 11, 2021 13h\n",
      "QUERY:  Moon Phase calculatorMay 11, 2021 13h\n"
     ]
    },
    {
     "name": "stderr",
     "output_type": "stream",
     "text": [
      "\r",
      "  9%|██████▍                                                                   | 187/2166 [1:06:45<11:32:50, 21.01s/it]"
     ]
    },
    {
     "name": "stdout",
     "output_type": "stream",
     "text": [
      "QUERY:  Precipitation amount in Zollikofen May 11, 2021 14h\n",
      "QUERY:  temperature in Zollikofen May 11, 2021 14h\n",
      "QUERY:  humidity in Zollikofen May 11, 2021 14h\n",
      "QUERY:  wind speed in Zollikofen May 11, 2021 14h\n",
      "QUERY:  Moon Phase calculatorMay 11, 2021 14h\n"
     ]
    },
    {
     "name": "stderr",
     "output_type": "stream",
     "text": [
      "\r",
      "  9%|██████▍                                                                   | 188/2166 [1:07:08<11:45:28, 21.40s/it]"
     ]
    },
    {
     "name": "stdout",
     "output_type": "stream",
     "text": [
      "QUERY:  Precipitation amount in Zollikofen May 11, 2021 15h\n",
      "QUERY:  temperature in Zollikofen May 11, 2021 15h\n",
      "QUERY:  humidity in Zollikofen May 11, 2021 15h\n",
      "QUERY:  wind speed in Zollikofen May 11, 2021 15h\n",
      "QUERY:  Moon Phase calculatorMay 11, 2021 15h\n"
     ]
    },
    {
     "name": "stderr",
     "output_type": "stream",
     "text": [
      "\r",
      "  9%|██████▍                                                                   | 189/2166 [1:07:33<12:20:23, 22.47s/it]"
     ]
    },
    {
     "name": "stdout",
     "output_type": "stream",
     "text": [
      "QUERY:  Precipitation amount in Zollikofen May 11, 2021 16h\n",
      "QUERY:  temperature in Zollikofen May 11, 2021 16h\n",
      "QUERY:  humidity in Zollikofen May 11, 2021 16h\n",
      "QUERY:  wind speed in Zollikofen May 11, 2021 16h\n",
      "QUERY:  Moon Phase calculatorMay 11, 2021 16h\n"
     ]
    },
    {
     "name": "stderr",
     "output_type": "stream",
     "text": [
      "\r",
      "  9%|██████▍                                                                   | 190/2166 [1:07:54<12:05:57, 22.04s/it]"
     ]
    },
    {
     "name": "stdout",
     "output_type": "stream",
     "text": [
      "QUERY:  Precipitation amount in Zollikofen May 11, 2021 17h\n",
      "QUERY:  temperature in Zollikofen May 11, 2021 17h\n",
      "QUERY:  humidity in Zollikofen May 11, 2021 17h\n",
      "QUERY:  wind speed in Zollikofen May 11, 2021 17h\n",
      "QUERY:  Moon Phase calculatorMay 11, 2021 17h\n",
      "(5394, 7)\n"
     ]
    },
    {
     "data": {
      "text/html": [
       "<div>\n",
       "<style scoped>\n",
       "    .dataframe tbody tr th:only-of-type {\n",
       "        vertical-align: middle;\n",
       "    }\n",
       "\n",
       "    .dataframe tbody tr th {\n",
       "        vertical-align: top;\n",
       "    }\n",
       "\n",
       "    .dataframe thead th {\n",
       "        text-align: right;\n",
       "    }\n",
       "</style>\n",
       "<table border=\"1\" class=\"dataframe\">\n",
       "  <thead>\n",
       "    <tr style=\"text-align: right;\">\n",
       "      <th></th>\n",
       "      <th>date</th>\n",
       "      <th>temperature</th>\n",
       "      <th>humidity</th>\n",
       "      <th>wind speed</th>\n",
       "      <th>Precipitation amount</th>\n",
       "      <th>query</th>\n",
       "      <th>Moon Phase calculator</th>\n",
       "    </tr>\n",
       "  </thead>\n",
       "  <tbody>\n",
       "    <tr>\n",
       "      <th>8</th>\n",
       "      <td>2021-05-11 16:00:00</td>\n",
       "      <td>11 °C\\n(4:00 pm CEST | Tuesday, May 11, 2021)</td>\n",
       "      <td>average: 100% (100%)\\n(4:00 pm CEST | Tuesday,...</td>\n",
       "      <td>2 m/s\\n(4:00 pm CEST | Tuesday, May 11, 2021)</td>\n",
       "      <td>rain\\n(4:00 pm CEST | Tuesday, May 11, 2021)</td>\n",
       "      <td>Moon Phase calculatorMay 11, 2021 16h</td>\n",
       "      <td>| new moon\\n0.07% illuminated</td>\n",
       "    </tr>\n",
       "    <tr>\n",
       "      <th>9</th>\n",
       "      <td>2021-05-11 17:00:00</td>\n",
       "      <td>11 °C\\n(5:00 pm CEST | Tuesday, May 11, 2021)</td>\n",
       "      <td>average: 100% (100%)\\n(5:00 pm CEST | Tuesday,...</td>\n",
       "      <td>2 m/s\\n(5:00 pm CEST | Tuesday, May 11, 2021)</td>\n",
       "      <td>rain\\n(5:00 pm CEST | Tuesday, May 11, 2021)</td>\n",
       "      <td>Moon Phase calculatorMay 11, 2021 17h</td>\n",
       "      <td>| new moon\\n0.05% illuminated</td>\n",
       "    </tr>\n",
       "  </tbody>\n",
       "</table>\n",
       "</div>"
      ],
      "text/plain": [
       "                 date                                    temperature  \\\n",
       "8 2021-05-11 16:00:00  11 °C\\n(4:00 pm CEST | Tuesday, May 11, 2021)   \n",
       "9 2021-05-11 17:00:00  11 °C\\n(5:00 pm CEST | Tuesday, May 11, 2021)   \n",
       "\n",
       "                                            humidity  \\\n",
       "8  average: 100% (100%)\\n(4:00 pm CEST | Tuesday,...   \n",
       "9  average: 100% (100%)\\n(5:00 pm CEST | Tuesday,...   \n",
       "\n",
       "                                      wind speed  \\\n",
       "8  2 m/s\\n(4:00 pm CEST | Tuesday, May 11, 2021)   \n",
       "9  2 m/s\\n(5:00 pm CEST | Tuesday, May 11, 2021)   \n",
       "\n",
       "                           Precipitation amount  \\\n",
       "8  rain\\n(4:00 pm CEST | Tuesday, May 11, 2021)   \n",
       "9  rain\\n(5:00 pm CEST | Tuesday, May 11, 2021)   \n",
       "\n",
       "                                   query          Moon Phase calculator  \n",
       "8  Moon Phase calculatorMay 11, 2021 16h  | new moon\\n0.07% illuminated  \n",
       "9  Moon Phase calculatorMay 11, 2021 17h  | new moon\\n0.05% illuminated  "
      ]
     },
     "metadata": {},
     "output_type": "display_data"
    },
    {
     "name": "stderr",
     "output_type": "stream",
     "text": [
      "\r",
      "  9%|██████▌                                                                   | 191/2166 [1:08:16<12:10:39, 22.20s/it]"
     ]
    },
    {
     "name": "stdout",
     "output_type": "stream",
     "text": [
      "QUERY:  Precipitation amount in Zollikofen May 11, 2021 18h\n",
      "QUERY:  temperature in Zollikofen May 11, 2021 18h\n",
      "QUERY:  humidity in Zollikofen May 11, 2021 18h\n",
      "QUERY:  wind speed in Zollikofen May 11, 2021 18h\n",
      "QUERY:  Moon Phase calculatorMay 11, 2021 18h\n"
     ]
    },
    {
     "name": "stderr",
     "output_type": "stream",
     "text": [
      "\r",
      "  9%|██████▌                                                                   | 192/2166 [1:08:39<12:13:53, 22.31s/it]"
     ]
    },
    {
     "name": "stdout",
     "output_type": "stream",
     "text": [
      "QUERY:  Precipitation amount in Zollikofen May 11, 2021 19h\n",
      "QUERY:  temperature in Zollikofen May 11, 2021 19h\n",
      "QUERY:  humidity in Zollikofen May 11, 2021 19h\n",
      "QUERY:  wind speed in Zollikofen May 11, 2021 19h\n",
      "QUERY:  Moon Phase calculatorMay 11, 2021 19h\n"
     ]
    },
    {
     "name": "stderr",
     "output_type": "stream",
     "text": [
      "\r",
      "  9%|██████▌                                                                   | 193/2166 [1:08:59<11:58:26, 21.85s/it]"
     ]
    },
    {
     "name": "stdout",
     "output_type": "stream",
     "text": [
      "QUERY:  Precipitation amount in Zollikofen May 11, 2021 20h\n",
      "QUERY:  temperature in Zollikofen May 11, 2021 20h\n",
      "QUERY:  humidity in Zollikofen May 11, 2021 20h\n",
      "QUERY:  wind speed in Zollikofen May 11, 2021 20h\n",
      "QUERY:  Moon Phase calculatorMay 11, 2021 20h\n"
     ]
    },
    {
     "name": "stderr",
     "output_type": "stream",
     "text": [
      "\r",
      "  9%|██████▋                                                                   | 194/2166 [1:09:21<11:52:41, 21.68s/it]"
     ]
    },
    {
     "name": "stdout",
     "output_type": "stream",
     "text": [
      "QUERY:  Precipitation amount in Zollikofen May 11, 2021 21h\n",
      "QUERY:  temperature in Zollikofen May 11, 2021 21h\n",
      "QUERY:  humidity in Zollikofen May 11, 2021 21h\n",
      "QUERY:  wind speed in Zollikofen May 11, 2021 21h\n",
      "QUERY:  Moon Phase calculatorMay 11, 2021 21h\n"
     ]
    },
    {
     "name": "stderr",
     "output_type": "stream",
     "text": [
      "\r",
      "  9%|██████▋                                                                   | 195/2166 [1:09:42<11:51:57, 21.67s/it]"
     ]
    },
    {
     "name": "stdout",
     "output_type": "stream",
     "text": [
      "QUERY:  Precipitation amount in Zollikofen May 11, 2021 22h\n",
      "QUERY:  temperature in Zollikofen May 11, 2021 22h\n",
      "QUERY:  humidity in Zollikofen May 11, 2021 22h\n",
      "QUERY:  wind speed in Zollikofen May 11, 2021 22h\n",
      "QUERY:  Moon Phase calculatorMay 11, 2021 22h\n"
     ]
    },
    {
     "name": "stderr",
     "output_type": "stream",
     "text": [
      "\r",
      "  9%|██████▋                                                                   | 196/2166 [1:10:04<11:49:15, 21.60s/it]"
     ]
    },
    {
     "name": "stdout",
     "output_type": "stream",
     "text": [
      "QUERY:  Precipitation amount in Zollikofen May 11, 2021 23h\n",
      "QUERY:  temperature in Zollikofen May 11, 2021 23h\n",
      "QUERY:  humidity in Zollikofen May 11, 2021 23h\n",
      "QUERY:  wind speed in Zollikofen May 11, 2021 23h\n",
      "QUERY:  Moon Phase calculatorMay 11, 2021 23h\n"
     ]
    },
    {
     "name": "stderr",
     "output_type": "stream",
     "text": [
      "\r",
      "  9%|██████▋                                                                   | 197/2166 [1:10:25<11:43:09, 21.43s/it]"
     ]
    },
    {
     "name": "stdout",
     "output_type": "stream",
     "text": [
      "QUERY:  Precipitation amount in Zollikofen May 12, 2021 0h\n",
      "QUERY:  temperature in Zollikofen May 12, 2021 0h\n",
      "QUERY:  humidity in Zollikofen May 12, 2021 0h\n",
      "QUERY:  wind speed in Zollikofen May 12, 2021 0h\n",
      "QUERY:  Moon Phase calculatorMay 12, 2021 0h\n"
     ]
    },
    {
     "name": "stderr",
     "output_type": "stream",
     "text": [
      "\r",
      "  9%|██████▊                                                                   | 198/2166 [1:10:45<11:29:53, 21.03s/it]"
     ]
    },
    {
     "name": "stdout",
     "output_type": "stream",
     "text": [
      "QUERY:  Precipitation amount in Zollikofen May 12, 2021 1h\n",
      "QUERY:  temperature in Zollikofen May 12, 2021 1h\n",
      "QUERY:  humidity in Zollikofen May 12, 2021 1h\n",
      "QUERY:  wind speed in Zollikofen May 12, 2021 1h\n",
      "QUERY:  Moon Phase calculatorMay 12, 2021 1h\n"
     ]
    },
    {
     "name": "stderr",
     "output_type": "stream",
     "text": [
      "\r",
      "  9%|██████▊                                                                   | 199/2166 [1:11:04<11:13:15, 20.54s/it]"
     ]
    },
    {
     "name": "stdout",
     "output_type": "stream",
     "text": [
      "QUERY:  Precipitation amount in Zollikofen May 12, 2021 2h\n",
      "QUERY:  temperature in Zollikofen May 12, 2021 2h\n",
      "QUERY:  humidity in Zollikofen May 12, 2021 2h\n",
      "QUERY:  wind speed in Zollikofen May 12, 2021 2h\n",
      "QUERY:  Moon Phase calculatorMay 12, 2021 2h\n"
     ]
    },
    {
     "name": "stderr",
     "output_type": "stream",
     "text": [
      "\r",
      "  9%|██████▊                                                                   | 200/2166 [1:11:22<10:39:37, 19.52s/it]"
     ]
    },
    {
     "name": "stdout",
     "output_type": "stream",
     "text": [
      "QUERY:  Precipitation amount in Zollikofen May 12, 2021 3h\n",
      "QUERY:  temperature in Zollikofen May 12, 2021 3h\n",
      "QUERY:  humidity in Zollikofen May 12, 2021 3h\n",
      "QUERY:  wind speed in Zollikofen May 12, 2021 3h\n",
      "QUERY:  Moon Phase calculatorMay 12, 2021 3h\n",
      "(5404, 7)\n"
     ]
    },
    {
     "data": {
      "text/html": [
       "<div>\n",
       "<style scoped>\n",
       "    .dataframe tbody tr th:only-of-type {\n",
       "        vertical-align: middle;\n",
       "    }\n",
       "\n",
       "    .dataframe tbody tr th {\n",
       "        vertical-align: top;\n",
       "    }\n",
       "\n",
       "    .dataframe thead th {\n",
       "        text-align: right;\n",
       "    }\n",
       "</style>\n",
       "<table border=\"1\" class=\"dataframe\">\n",
       "  <thead>\n",
       "    <tr style=\"text-align: right;\">\n",
       "      <th></th>\n",
       "      <th>date</th>\n",
       "      <th>temperature</th>\n",
       "      <th>humidity</th>\n",
       "      <th>wind speed</th>\n",
       "      <th>Precipitation amount</th>\n",
       "      <th>query</th>\n",
       "      <th>Moon Phase calculator</th>\n",
       "    </tr>\n",
       "  </thead>\n",
       "  <tbody>\n",
       "    <tr>\n",
       "      <th>8</th>\n",
       "      <td>2021-05-12 02:00:00</td>\n",
       "      <td>9 °C\\n(2:00 am CEST | Wednesday, May 12, 2021)</td>\n",
       "      <td>average: 76% (76%)\\n(2:00 am CEST | Wednesday,...</td>\n",
       "      <td>2 m/s\\n(2:00 am CEST | Wednesday, May 12, 2021)</td>\n",
       "      <td>no precipitation\\n(2:00 am CEST | Wednesday, M...</td>\n",
       "      <td>Moon Phase calculatorMay 12, 2021 2h</td>\n",
       "      <td>| new moon\\n0.06% illuminated</td>\n",
       "    </tr>\n",
       "    <tr>\n",
       "      <th>9</th>\n",
       "      <td>2021-05-12 03:00:00</td>\n",
       "      <td>9 °C\\n(3:00 am CEST | Wednesday, May 12, 2021)</td>\n",
       "      <td>average: 82% (76 to 87%)\\n(3:00 am CEST | Wedn...</td>\n",
       "      <td>2 m/s\\n(3:00 am CEST | Wednesday, May 12, 2021)</td>\n",
       "      <td>no precipitation\\n(3:00 am CEST | Wednesday, M...</td>\n",
       "      <td>Moon Phase calculatorMay 12, 2021 3h</td>\n",
       "      <td>| new moon\\n0.07% illuminated</td>\n",
       "    </tr>\n",
       "  </tbody>\n",
       "</table>\n",
       "</div>"
      ],
      "text/plain": [
       "                 date                                     temperature  \\\n",
       "8 2021-05-12 02:00:00  9 °C\\n(2:00 am CEST | Wednesday, May 12, 2021)   \n",
       "9 2021-05-12 03:00:00  9 °C\\n(3:00 am CEST | Wednesday, May 12, 2021)   \n",
       "\n",
       "                                            humidity  \\\n",
       "8  average: 76% (76%)\\n(2:00 am CEST | Wednesday,...   \n",
       "9  average: 82% (76 to 87%)\\n(3:00 am CEST | Wedn...   \n",
       "\n",
       "                                        wind speed  \\\n",
       "8  2 m/s\\n(2:00 am CEST | Wednesday, May 12, 2021)   \n",
       "9  2 m/s\\n(3:00 am CEST | Wednesday, May 12, 2021)   \n",
       "\n",
       "                                Precipitation amount  \\\n",
       "8  no precipitation\\n(2:00 am CEST | Wednesday, M...   \n",
       "9  no precipitation\\n(3:00 am CEST | Wednesday, M...   \n",
       "\n",
       "                                  query          Moon Phase calculator  \n",
       "8  Moon Phase calculatorMay 12, 2021 2h  | new moon\\n0.06% illuminated  \n",
       "9  Moon Phase calculatorMay 12, 2021 3h  | new moon\\n0.07% illuminated  "
      ]
     },
     "metadata": {},
     "output_type": "display_data"
    },
    {
     "name": "stderr",
     "output_type": "stream",
     "text": [
      "\r",
      "  9%|██████▊                                                                   | 201/2166 [1:11:39<10:18:06, 18.87s/it]"
     ]
    },
    {
     "name": "stdout",
     "output_type": "stream",
     "text": [
      "QUERY:  Precipitation amount in Zollikofen May 12, 2021 4h\n",
      "QUERY:  temperature in Zollikofen May 12, 2021 4h\n",
      "QUERY:  humidity in Zollikofen May 12, 2021 4h\n",
      "QUERY:  wind speed in Zollikofen May 12, 2021 4h\n",
      "QUERY:  Moon Phase calculatorMay 12, 2021 4h\n"
     ]
    },
    {
     "name": "stderr",
     "output_type": "stream",
     "text": [
      "\r",
      "  9%|██████▉                                                                   | 202/2166 [1:11:56<10:00:57, 18.36s/it]"
     ]
    },
    {
     "name": "stdout",
     "output_type": "stream",
     "text": [
      "QUERY:  Precipitation amount in Zollikofen May 12, 2021 5h\n",
      "QUERY:  temperature in Zollikofen May 12, 2021 5h\n",
      "QUERY:  humidity in Zollikofen May 12, 2021 5h\n",
      "QUERY:  wind speed in Zollikofen May 12, 2021 5h\n",
      "QUERY:  Moon Phase calculatorMay 12, 2021 5h\n"
     ]
    },
    {
     "name": "stderr",
     "output_type": "stream",
     "text": [
      "\r",
      "  9%|███████                                                                    | 203/2166 [1:12:13<9:51:27, 18.08s/it]"
     ]
    },
    {
     "name": "stdout",
     "output_type": "stream",
     "text": [
      "QUERY:  Precipitation amount in Zollikofen May 12, 2021 6h\n",
      "QUERY:  temperature in Zollikofen May 12, 2021 6h\n",
      "QUERY:  humidity in Zollikofen May 12, 2021 6h\n",
      "QUERY:  wind speed in Zollikofen May 12, 2021 6h\n",
      "QUERY:  Moon Phase calculatorMay 12, 2021 6h\n"
     ]
    },
    {
     "name": "stderr",
     "output_type": "stream",
     "text": [
      "\r",
      "  9%|███████                                                                    | 204/2166 [1:12:31<9:45:57, 17.92s/it]"
     ]
    },
    {
     "name": "stdout",
     "output_type": "stream",
     "text": [
      "QUERY:  Precipitation amount in Zollikofen May 12, 2021 7h\n",
      "QUERY:  temperature in Zollikofen May 12, 2021 7h\n",
      "QUERY:  humidity in Zollikofen May 12, 2021 7h\n",
      "QUERY:  wind speed in Zollikofen May 12, 2021 7h\n",
      "QUERY:  Moon Phase calculatorMay 12, 2021 7h\n"
     ]
    },
    {
     "name": "stderr",
     "output_type": "stream",
     "text": [
      "\r",
      "  9%|███████                                                                    | 205/2166 [1:12:49<9:48:05, 17.99s/it]"
     ]
    },
    {
     "name": "stdout",
     "output_type": "stream",
     "text": [
      "QUERY:  Precipitation amount in Zollikofen May 12, 2021 8h\n",
      "QUERY:  temperature in Zollikofen May 12, 2021 8h\n",
      "QUERY:  humidity in Zollikofen May 12, 2021 8h\n",
      "QUERY:  wind speed in Zollikofen May 12, 2021 8h\n",
      "QUERY:  Moon Phase calculatorMay 12, 2021 8h\n"
     ]
    },
    {
     "name": "stderr",
     "output_type": "stream",
     "text": [
      "\r",
      " 10%|███████                                                                   | 206/2166 [1:13:10<10:13:08, 18.77s/it]"
     ]
    },
    {
     "name": "stdout",
     "output_type": "stream",
     "text": [
      "QUERY:  Precipitation amount in Zollikofen May 12, 2021 9h\n",
      "QUERY:  temperature in Zollikofen May 12, 2021 9h\n",
      "QUERY:  humidity in Zollikofen May 12, 2021 9h\n",
      "QUERY:  wind speed in Zollikofen May 12, 2021 9h\n",
      "QUERY:  Moon Phase calculatorMay 12, 2021 9h\n"
     ]
    },
    {
     "name": "stderr",
     "output_type": "stream",
     "text": [
      "\r",
      " 10%|███████▏                                                                   | 207/2166 [1:13:27<9:58:06, 18.32s/it]"
     ]
    },
    {
     "name": "stdout",
     "output_type": "stream",
     "text": [
      "QUERY:  Precipitation amount in Zollikofen May 12, 2021 10h\n",
      "QUERY:  temperature in Zollikofen May 12, 2021 10h\n",
      "QUERY:  humidity in Zollikofen May 12, 2021 10h\n",
      "QUERY:  wind speed in Zollikofen May 12, 2021 10h\n",
      "QUERY:  Moon Phase calculatorMay 12, 2021 10h\n"
     ]
    },
    {
     "name": "stderr",
     "output_type": "stream",
     "text": [
      "\r",
      " 10%|███████▏                                                                   | 208/2166 [1:13:44<9:45:57, 17.96s/it]"
     ]
    },
    {
     "name": "stdout",
     "output_type": "stream",
     "text": [
      "QUERY:  Precipitation amount in Zollikofen May 12, 2021 11h\n",
      "QUERY:  temperature in Zollikofen May 12, 2021 11h\n",
      "QUERY:  humidity in Zollikofen May 12, 2021 11h\n",
      "QUERY:  wind speed in Zollikofen May 12, 2021 11h\n",
      "QUERY:  Moon Phase calculatorMay 12, 2021 11h\n"
     ]
    },
    {
     "name": "stderr",
     "output_type": "stream",
     "text": [
      "\r",
      " 10%|███████▏                                                                   | 209/2166 [1:14:01<9:37:14, 17.70s/it]"
     ]
    },
    {
     "name": "stdout",
     "output_type": "stream",
     "text": [
      "QUERY:  Precipitation amount in Zollikofen May 12, 2021 12h\n",
      "QUERY:  temperature in Zollikofen May 12, 2021 12h\n",
      "QUERY:  humidity in Zollikofen May 12, 2021 12h\n",
      "QUERY:  wind speed in Zollikofen May 12, 2021 12h\n",
      "QUERY:  Moon Phase calculatorMay 12, 2021 12h\n"
     ]
    },
    {
     "name": "stderr",
     "output_type": "stream",
     "text": [
      "\r",
      " 10%|███████▎                                                                   | 210/2166 [1:14:19<9:37:15, 17.71s/it]"
     ]
    },
    {
     "name": "stdout",
     "output_type": "stream",
     "text": [
      "QUERY:  Precipitation amount in Zollikofen May 12, 2021 13h\n",
      "QUERY:  temperature in Zollikofen May 12, 2021 13h\n",
      "QUERY:  humidity in Zollikofen May 12, 2021 13h\n",
      "QUERY:  wind speed in Zollikofen May 12, 2021 13h\n",
      "QUERY:  Moon Phase calculatorMay 12, 2021 13h\n",
      "(5414, 7)\n"
     ]
    },
    {
     "data": {
      "text/html": [
       "<div>\n",
       "<style scoped>\n",
       "    .dataframe tbody tr th:only-of-type {\n",
       "        vertical-align: middle;\n",
       "    }\n",
       "\n",
       "    .dataframe tbody tr th {\n",
       "        vertical-align: top;\n",
       "    }\n",
       "\n",
       "    .dataframe thead th {\n",
       "        text-align: right;\n",
       "    }\n",
       "</style>\n",
       "<table border=\"1\" class=\"dataframe\">\n",
       "  <thead>\n",
       "    <tr style=\"text-align: right;\">\n",
       "      <th></th>\n",
       "      <th>date</th>\n",
       "      <th>temperature</th>\n",
       "      <th>humidity</th>\n",
       "      <th>wind speed</th>\n",
       "      <th>Precipitation amount</th>\n",
       "      <th>query</th>\n",
       "      <th>Moon Phase calculator</th>\n",
       "    </tr>\n",
       "  </thead>\n",
       "  <tbody>\n",
       "    <tr>\n",
       "      <th>8</th>\n",
       "      <td>2021-05-12 12:00:00</td>\n",
       "      <td>13 °C\\n(12:00 pm CEST | Wednesday, May 12, 2021)</td>\n",
       "      <td>average: 58% (58%)\\n(12:00 pm CEST | Wednesday...</td>\n",
       "      <td>2 m/s\\n(12:00 pm CEST | Wednesday, May 12, 2021)</td>\n",
       "      <td>no precipitation\\n(12:00 pm CEST | Wednesday, ...</td>\n",
       "      <td>Moon Phase calculatorMay 12, 2021 12h</td>\n",
       "      <td>| waxing crescent moon\\n0.36% illuminated</td>\n",
       "    </tr>\n",
       "    <tr>\n",
       "      <th>9</th>\n",
       "      <td>2021-05-12 13:00:00</td>\n",
       "      <td>14 °C\\n(1:00 pm CEST | Wednesday, May 12, 2021)</td>\n",
       "      <td>average: 59% (55 to 63%)\\n(1:00 pm CEST | Wedn...</td>\n",
       "      <td>2 m/s\\n(1:00 pm CEST | Wednesday, May 12, 2021)</td>\n",
       "      <td>no precipitation\\n(1:00 pm CEST | Wednesday, M...</td>\n",
       "      <td>Moon Phase calculatorMay 12, 2021 13h</td>\n",
       "      <td>| waxing crescent moon\\n0.41% illuminated</td>\n",
       "    </tr>\n",
       "  </tbody>\n",
       "</table>\n",
       "</div>"
      ],
      "text/plain": [
       "                 date                                       temperature  \\\n",
       "8 2021-05-12 12:00:00  13 °C\\n(12:00 pm CEST | Wednesday, May 12, 2021)   \n",
       "9 2021-05-12 13:00:00   14 °C\\n(1:00 pm CEST | Wednesday, May 12, 2021)   \n",
       "\n",
       "                                            humidity  \\\n",
       "8  average: 58% (58%)\\n(12:00 pm CEST | Wednesday...   \n",
       "9  average: 59% (55 to 63%)\\n(1:00 pm CEST | Wedn...   \n",
       "\n",
       "                                         wind speed  \\\n",
       "8  2 m/s\\n(12:00 pm CEST | Wednesday, May 12, 2021)   \n",
       "9   2 m/s\\n(1:00 pm CEST | Wednesday, May 12, 2021)   \n",
       "\n",
       "                                Precipitation amount  \\\n",
       "8  no precipitation\\n(12:00 pm CEST | Wednesday, ...   \n",
       "9  no precipitation\\n(1:00 pm CEST | Wednesday, M...   \n",
       "\n",
       "                                   query  \\\n",
       "8  Moon Phase calculatorMay 12, 2021 12h   \n",
       "9  Moon Phase calculatorMay 12, 2021 13h   \n",
       "\n",
       "                       Moon Phase calculator  \n",
       "8  | waxing crescent moon\\n0.36% illuminated  \n",
       "9  | waxing crescent moon\\n0.41% illuminated  "
      ]
     },
     "metadata": {},
     "output_type": "display_data"
    },
    {
     "name": "stderr",
     "output_type": "stream",
     "text": [
      "\r",
      " 10%|███████▎                                                                   | 211/2166 [1:14:36<9:31:50, 17.55s/it]"
     ]
    },
    {
     "name": "stdout",
     "output_type": "stream",
     "text": [
      "QUERY:  Precipitation amount in Zollikofen May 12, 2021 14h\n",
      "QUERY:  temperature in Zollikofen May 12, 2021 14h\n",
      "QUERY:  humidity in Zollikofen May 12, 2021 14h\n",
      "QUERY:  wind speed in Zollikofen May 12, 2021 14h\n",
      "QUERY:  Moon Phase calculatorMay 12, 2021 14h\n"
     ]
    },
    {
     "name": "stderr",
     "output_type": "stream",
     "text": [
      "\r",
      " 10%|███████▎                                                                   | 212/2166 [1:14:54<9:30:56, 17.53s/it]"
     ]
    },
    {
     "name": "stdout",
     "output_type": "stream",
     "text": [
      "QUERY:  Precipitation amount in Zollikofen May 12, 2021 15h\n",
      "QUERY:  temperature in Zollikofen May 12, 2021 15h\n",
      "QUERY:  humidity in Zollikofen May 12, 2021 15h\n",
      "QUERY:  wind speed in Zollikofen May 12, 2021 15h\n",
      "QUERY:  Moon Phase calculatorMay 12, 2021 15h\n"
     ]
    },
    {
     "name": "stderr",
     "output_type": "stream",
     "text": [
      "\r",
      " 10%|███████▎                                                                  | 213/2166 [1:15:15<10:08:35, 18.70s/it]"
     ]
    },
    {
     "name": "stdout",
     "output_type": "stream",
     "text": [
      "QUERY:  Precipitation amount in Zollikofen May 12, 2021 16h\n",
      "QUERY:  temperature in Zollikofen May 12, 2021 16h\n",
      "QUERY:  humidity in Zollikofen May 12, 2021 16h\n",
      "QUERY:  wind speed in Zollikofen May 12, 2021 16h\n",
      "QUERY:  Moon Phase calculatorMay 12, 2021 16h\n"
     ]
    },
    {
     "name": "stderr",
     "output_type": "stream",
     "text": [
      "\r",
      " 10%|███████▍                                                                   | 214/2166 [1:15:33<9:58:57, 18.41s/it]"
     ]
    },
    {
     "name": "stdout",
     "output_type": "stream",
     "text": [
      "QUERY:  Precipitation amount in Zollikofen May 12, 2021 17h\n",
      "QUERY:  temperature in Zollikofen May 12, 2021 17h\n",
      "QUERY:  humidity in Zollikofen May 12, 2021 17h\n",
      "QUERY:  wind speed in Zollikofen May 12, 2021 17h\n",
      "QUERY:  Moon Phase calculatorMay 12, 2021 17h\n"
     ]
    },
    {
     "name": "stderr",
     "output_type": "stream",
     "text": [
      "\r",
      " 10%|███████▎                                                                  | 215/2166 [1:15:54<10:27:14, 19.29s/it]"
     ]
    },
    {
     "name": "stdout",
     "output_type": "stream",
     "text": [
      "QUERY:  Precipitation amount in Zollikofen May 12, 2021 18h\n",
      "QUERY:  temperature in Zollikofen May 12, 2021 18h\n",
      "QUERY:  humidity in Zollikofen May 12, 2021 18h\n",
      "QUERY:  wind speed in Zollikofen May 12, 2021 18h\n",
      "QUERY:  Moon Phase calculatorMay 12, 2021 18h\n"
     ]
    },
    {
     "name": "stderr",
     "output_type": "stream",
     "text": [
      "\r",
      " 10%|███████▍                                                                  | 216/2166 [1:16:11<10:01:32, 18.51s/it]"
     ]
    },
    {
     "name": "stdout",
     "output_type": "stream",
     "text": [
      "QUERY:  Precipitation amount in Zollikofen May 12, 2021 19h\n",
      "QUERY:  temperature in Zollikofen May 12, 2021 19h\n",
      "QUERY:  humidity in Zollikofen May 12, 2021 19h\n",
      "QUERY:  wind speed in Zollikofen May 12, 2021 19h\n",
      "QUERY:  Moon Phase calculatorMay 12, 2021 19h\n"
     ]
    },
    {
     "name": "stderr",
     "output_type": "stream",
     "text": [
      "\r",
      " 10%|███████▌                                                                   | 217/2166 [1:16:28<9:46:58, 18.07s/it]"
     ]
    },
    {
     "name": "stdout",
     "output_type": "stream",
     "text": [
      "QUERY:  Precipitation amount in Zollikofen May 12, 2021 20h\n",
      "QUERY:  temperature in Zollikofen May 12, 2021 20h\n",
      "QUERY:  humidity in Zollikofen May 12, 2021 20h\n",
      "QUERY:  wind speed in Zollikofen May 12, 2021 20h\n",
      "QUERY:  Moon Phase calculatorMay 12, 2021 20h\n"
     ]
    },
    {
     "name": "stderr",
     "output_type": "stream",
     "text": [
      "\r",
      " 10%|███████▌                                                                   | 218/2166 [1:16:45<9:35:27, 17.72s/it]"
     ]
    },
    {
     "name": "stdout",
     "output_type": "stream",
     "text": [
      "QUERY:  Precipitation amount in Zollikofen May 12, 2021 21h\n",
      "QUERY:  temperature in Zollikofen May 12, 2021 21h\n",
      "QUERY:  humidity in Zollikofen May 12, 2021 21h\n",
      "QUERY:  wind speed in Zollikofen May 12, 2021 21h\n",
      "QUERY:  Moon Phase calculatorMay 12, 2021 21h\n"
     ]
    },
    {
     "name": "stderr",
     "output_type": "stream",
     "text": [
      "\r",
      " 10%|███████▌                                                                   | 219/2166 [1:17:02<9:27:35, 17.49s/it]"
     ]
    },
    {
     "name": "stdout",
     "output_type": "stream",
     "text": [
      "QUERY:  Precipitation amount in Zollikofen May 12, 2021 22h\n",
      "QUERY:  temperature in Zollikofen May 12, 2021 22h\n",
      "QUERY:  humidity in Zollikofen May 12, 2021 22h\n",
      "QUERY:  wind speed in Zollikofen May 12, 2021 22h\n",
      "QUERY:  Moon Phase calculatorMay 12, 2021 22h\n"
     ]
    },
    {
     "name": "stderr",
     "output_type": "stream",
     "text": [
      "\r",
      " 10%|███████▌                                                                   | 220/2166 [1:17:19<9:23:32, 17.38s/it]"
     ]
    },
    {
     "name": "stdout",
     "output_type": "stream",
     "text": [
      "QUERY:  Precipitation amount in Zollikofen May 12, 2021 23h\n",
      "QUERY:  temperature in Zollikofen May 12, 2021 23h\n",
      "QUERY:  humidity in Zollikofen May 12, 2021 23h\n",
      "QUERY:  wind speed in Zollikofen May 12, 2021 23h\n",
      "QUERY:  Moon Phase calculatorMay 12, 2021 23h\n",
      "(5424, 7)\n"
     ]
    },
    {
     "data": {
      "text/html": [
       "<div>\n",
       "<style scoped>\n",
       "    .dataframe tbody tr th:only-of-type {\n",
       "        vertical-align: middle;\n",
       "    }\n",
       "\n",
       "    .dataframe tbody tr th {\n",
       "        vertical-align: top;\n",
       "    }\n",
       "\n",
       "    .dataframe thead th {\n",
       "        text-align: right;\n",
       "    }\n",
       "</style>\n",
       "<table border=\"1\" class=\"dataframe\">\n",
       "  <thead>\n",
       "    <tr style=\"text-align: right;\">\n",
       "      <th></th>\n",
       "      <th>date</th>\n",
       "      <th>temperature</th>\n",
       "      <th>humidity</th>\n",
       "      <th>wind speed</th>\n",
       "      <th>Precipitation amount</th>\n",
       "      <th>query</th>\n",
       "      <th>Moon Phase calculator</th>\n",
       "    </tr>\n",
       "  </thead>\n",
       "  <tbody>\n",
       "    <tr>\n",
       "      <th>8</th>\n",
       "      <td>2021-05-12 22:00:00</td>\n",
       "      <td>9 °C\\n(10:00 pm CEST | Wednesday, May 12, 2021)</td>\n",
       "      <td>average: 93% (93%)\\n(10:00 pm CEST | Wednesday...</td>\n",
       "      <td>1 m/s\\n(10:00 pm CEST | Wednesday, May 12, 2021)</td>\n",
       "      <td>no precipitation\\n(10:00 pm CEST | Wednesday, ...</td>\n",
       "      <td>Moon Phase calculatorMay 12, 2021 22h</td>\n",
       "      <td>| waxing crescent moon\\n0.97% illuminated</td>\n",
       "    </tr>\n",
       "    <tr>\n",
       "      <th>9</th>\n",
       "      <td>2021-05-12 23:00:00</td>\n",
       "      <td>7 °C\\n(11:00 pm CEST | Wednesday, May 12, 2021)</td>\n",
       "      <td>average: 100% (100%)\\n(11:00 pm CEST | Wednesd...</td>\n",
       "      <td>0 m/s\\n(11:00 pm CEST | Wednesday, May 12, 2021)</td>\n",
       "      <td>no precipitation\\n(11:00 pm CEST | Wednesday, ...</td>\n",
       "      <td>Moon Phase calculatorMay 12, 2021 23h</td>\n",
       "      <td>| waxing crescent moon\\n1.05% illuminated</td>\n",
       "    </tr>\n",
       "  </tbody>\n",
       "</table>\n",
       "</div>"
      ],
      "text/plain": [
       "                 date                                      temperature  \\\n",
       "8 2021-05-12 22:00:00  9 °C\\n(10:00 pm CEST | Wednesday, May 12, 2021)   \n",
       "9 2021-05-12 23:00:00  7 °C\\n(11:00 pm CEST | Wednesday, May 12, 2021)   \n",
       "\n",
       "                                            humidity  \\\n",
       "8  average: 93% (93%)\\n(10:00 pm CEST | Wednesday...   \n",
       "9  average: 100% (100%)\\n(11:00 pm CEST | Wednesd...   \n",
       "\n",
       "                                         wind speed  \\\n",
       "8  1 m/s\\n(10:00 pm CEST | Wednesday, May 12, 2021)   \n",
       "9  0 m/s\\n(11:00 pm CEST | Wednesday, May 12, 2021)   \n",
       "\n",
       "                                Precipitation amount  \\\n",
       "8  no precipitation\\n(10:00 pm CEST | Wednesday, ...   \n",
       "9  no precipitation\\n(11:00 pm CEST | Wednesday, ...   \n",
       "\n",
       "                                   query  \\\n",
       "8  Moon Phase calculatorMay 12, 2021 22h   \n",
       "9  Moon Phase calculatorMay 12, 2021 23h   \n",
       "\n",
       "                       Moon Phase calculator  \n",
       "8  | waxing crescent moon\\n0.97% illuminated  \n",
       "9  | waxing crescent moon\\n1.05% illuminated  "
      ]
     },
     "metadata": {},
     "output_type": "display_data"
    },
    {
     "name": "stderr",
     "output_type": "stream",
     "text": [
      "\r",
      " 10%|███████▋                                                                   | 221/2166 [1:17:36<9:22:54, 17.36s/it]"
     ]
    },
    {
     "name": "stdout",
     "output_type": "stream",
     "text": [
      "QUERY:  Precipitation amount in Zollikofen May 13, 2021 0h\n",
      "QUERY:  temperature in Zollikofen May 13, 2021 0h\n",
      "QUERY:  humidity in Zollikofen May 13, 2021 0h\n",
      "QUERY:  wind speed in Zollikofen May 13, 2021 0h\n",
      "QUERY:  Moon Phase calculatorMay 13, 2021 0h\n"
     ]
    },
    {
     "name": "stderr",
     "output_type": "stream",
     "text": [
      "\r",
      " 10%|███████▋                                                                   | 222/2166 [1:17:53<9:17:21, 17.20s/it]"
     ]
    },
    {
     "name": "stdout",
     "output_type": "stream",
     "text": [
      "QUERY:  Precipitation amount in Zollikofen May 13, 2021 1h\n",
      "QUERY:  temperature in Zollikofen May 13, 2021 1h\n",
      "QUERY:  humidity in Zollikofen May 13, 2021 1h\n",
      "QUERY:  wind speed in Zollikofen May 13, 2021 1h\n",
      "QUERY:  Moon Phase calculatorMay 13, 2021 1h\n"
     ]
    },
    {
     "name": "stderr",
     "output_type": "stream",
     "text": [
      "\r",
      " 10%|███████▋                                                                   | 223/2166 [1:18:12<9:34:25, 17.74s/it]"
     ]
    },
    {
     "name": "stdout",
     "output_type": "stream",
     "text": [
      "QUERY:  Precipitation amount in Zollikofen May 13, 2021 2h\n",
      "QUERY:  temperature in Zollikofen May 13, 2021 2h\n",
      "QUERY:  humidity in Zollikofen May 13, 2021 2h\n",
      "QUERY:  wind speed in Zollikofen May 13, 2021 2h\n",
      "QUERY:  Moon Phase calculatorMay 13, 2021 2h\n"
     ]
    },
    {
     "name": "stderr",
     "output_type": "stream",
     "text": [
      "\r",
      " 10%|███████▊                                                                   | 224/2166 [1:18:29<9:28:52, 17.58s/it]"
     ]
    },
    {
     "name": "stdout",
     "output_type": "stream",
     "text": [
      "QUERY:  Precipitation amount in Zollikofen May 13, 2021 3h\n",
      "QUERY:  temperature in Zollikofen May 13, 2021 3h\n",
      "QUERY:  humidity in Zollikofen May 13, 2021 3h\n",
      "QUERY:  wind speed in Zollikofen May 13, 2021 3h\n",
      "QUERY:  Moon Phase calculatorMay 13, 2021 3h\n"
     ]
    },
    {
     "name": "stderr",
     "output_type": "stream",
     "text": [
      "\r",
      " 10%|███████▊                                                                   | 225/2166 [1:18:46<9:23:54, 17.43s/it]"
     ]
    },
    {
     "name": "stdout",
     "output_type": "stream",
     "text": [
      "QUERY:  Precipitation amount in Zollikofen May 13, 2021 4h\n",
      "QUERY:  temperature in Zollikofen May 13, 2021 4h\n",
      "QUERY:  humidity in Zollikofen May 13, 2021 4h\n",
      "QUERY:  wind speed in Zollikofen May 13, 2021 4h\n",
      "QUERY:  Moon Phase calculatorMay 13, 2021 4h\n"
     ]
    },
    {
     "name": "stderr",
     "output_type": "stream",
     "text": [
      "\r",
      " 10%|███████▊                                                                   | 226/2166 [1:19:03<9:17:01, 17.23s/it]"
     ]
    },
    {
     "name": "stdout",
     "output_type": "stream",
     "text": [
      "QUERY:  Precipitation amount in Zollikofen May 13, 2021 5h\n",
      "QUERY:  temperature in Zollikofen May 13, 2021 5h\n",
      "QUERY:  humidity in Zollikofen May 13, 2021 5h\n",
      "QUERY:  wind speed in Zollikofen May 13, 2021 5h\n",
      "QUERY:  Moon Phase calculatorMay 13, 2021 5h\n"
     ]
    },
    {
     "name": "stderr",
     "output_type": "stream",
     "text": [
      "\r",
      " 10%|███████▊                                                                   | 227/2166 [1:19:21<9:20:16, 17.34s/it]"
     ]
    },
    {
     "name": "stdout",
     "output_type": "stream",
     "text": [
      "QUERY:  Precipitation amount in Zollikofen May 13, 2021 6h\n",
      "QUERY:  temperature in Zollikofen May 13, 2021 6h\n",
      "QUERY:  humidity in Zollikofen May 13, 2021 6h\n",
      "QUERY:  wind speed in Zollikofen May 13, 2021 6h\n",
      "QUERY:  Moon Phase calculatorMay 13, 2021 6h\n"
     ]
    },
    {
     "name": "stderr",
     "output_type": "stream",
     "text": [
      "\r",
      " 11%|███████▉                                                                   | 228/2166 [1:19:38<9:19:49, 17.33s/it]"
     ]
    },
    {
     "name": "stdout",
     "output_type": "stream",
     "text": [
      "QUERY:  Precipitation amount in Zollikofen May 13, 2021 7h\n",
      "QUERY:  temperature in Zollikofen May 13, 2021 7h\n",
      "QUERY:  humidity in Zollikofen May 13, 2021 7h\n",
      "QUERY:  wind speed in Zollikofen May 13, 2021 7h\n",
      "QUERY:  Moon Phase calculatorMay 13, 2021 7h\n"
     ]
    },
    {
     "name": "stderr",
     "output_type": "stream",
     "text": [
      "\r",
      " 11%|███████▉                                                                   | 229/2166 [1:19:57<9:39:25, 17.95s/it]"
     ]
    },
    {
     "name": "stdout",
     "output_type": "stream",
     "text": [
      "QUERY:  Precipitation amount in Zollikofen May 13, 2021 8h\n",
      "QUERY:  temperature in Zollikofen May 13, 2021 8h\n",
      "QUERY:  humidity in Zollikofen May 13, 2021 8h\n",
      "QUERY:  wind speed in Zollikofen May 13, 2021 8h\n",
      "QUERY:  Moon Phase calculatorMay 13, 2021 8h\n"
     ]
    },
    {
     "name": "stderr",
     "output_type": "stream",
     "text": [
      "\r",
      " 11%|███████▉                                                                   | 230/2166 [1:20:15<9:36:02, 17.85s/it]"
     ]
    },
    {
     "name": "stdout",
     "output_type": "stream",
     "text": [
      "QUERY:  Precipitation amount in Zollikofen May 13, 2021 9h\n",
      "QUERY:  temperature in Zollikofen May 13, 2021 9h\n",
      "QUERY:  humidity in Zollikofen May 13, 2021 9h\n",
      "QUERY:  wind speed in Zollikofen May 13, 2021 9h\n",
      "QUERY:  Moon Phase calculatorMay 13, 2021 9h\n",
      "(5434, 7)\n"
     ]
    },
    {
     "data": {
      "text/html": [
       "<div>\n",
       "<style scoped>\n",
       "    .dataframe tbody tr th:only-of-type {\n",
       "        vertical-align: middle;\n",
       "    }\n",
       "\n",
       "    .dataframe tbody tr th {\n",
       "        vertical-align: top;\n",
       "    }\n",
       "\n",
       "    .dataframe thead th {\n",
       "        text-align: right;\n",
       "    }\n",
       "</style>\n",
       "<table border=\"1\" class=\"dataframe\">\n",
       "  <thead>\n",
       "    <tr style=\"text-align: right;\">\n",
       "      <th></th>\n",
       "      <th>date</th>\n",
       "      <th>temperature</th>\n",
       "      <th>humidity</th>\n",
       "      <th>wind speed</th>\n",
       "      <th>Precipitation amount</th>\n",
       "      <th>query</th>\n",
       "      <th>Moon Phase calculator</th>\n",
       "    </tr>\n",
       "  </thead>\n",
       "  <tbody>\n",
       "    <tr>\n",
       "      <th>8</th>\n",
       "      <td>2021-05-13 08:00:00</td>\n",
       "      <td>8 °C\\n(8:00 am CEST | Thursday, May 13, 2021)</td>\n",
       "      <td>average: 93% (93%)\\n(8:00 am CEST | Thursday, ...</td>\n",
       "      <td>0 m/s\\n(8:00 am CEST | Thursday, May 13, 2021)</td>\n",
       "      <td>no precipitation\\n(8:00 am CEST | Thursday, Ma...</td>\n",
       "      <td>Moon Phase calculatorMay 13, 2021 8h</td>\n",
       "      <td>| waxing crescent moon\\n1.90% illuminated</td>\n",
       "    </tr>\n",
       "    <tr>\n",
       "      <th>9</th>\n",
       "      <td>2021-05-13 09:00:00</td>\n",
       "      <td>9 °C\\n(9:00 am CEST | Thursday, May 13, 2021)</td>\n",
       "      <td>average: 88% (82 to 93%)\\n(9:00 am CEST | Thur...</td>\n",
       "      <td>2 m/s\\n(9:00 am CEST | Thursday, May 13, 2021)</td>\n",
       "      <td>no precipitation\\n(9:00 am CEST | Thursday, Ma...</td>\n",
       "      <td>Moon Phase calculatorMay 13, 2021 9h</td>\n",
       "      <td>| waxing crescent moon\\n2.01% illuminated</td>\n",
       "    </tr>\n",
       "  </tbody>\n",
       "</table>\n",
       "</div>"
      ],
      "text/plain": [
       "                 date                                    temperature  \\\n",
       "8 2021-05-13 08:00:00  8 °C\\n(8:00 am CEST | Thursday, May 13, 2021)   \n",
       "9 2021-05-13 09:00:00  9 °C\\n(9:00 am CEST | Thursday, May 13, 2021)   \n",
       "\n",
       "                                            humidity  \\\n",
       "8  average: 93% (93%)\\n(8:00 am CEST | Thursday, ...   \n",
       "9  average: 88% (82 to 93%)\\n(9:00 am CEST | Thur...   \n",
       "\n",
       "                                       wind speed  \\\n",
       "8  0 m/s\\n(8:00 am CEST | Thursday, May 13, 2021)   \n",
       "9  2 m/s\\n(9:00 am CEST | Thursday, May 13, 2021)   \n",
       "\n",
       "                                Precipitation amount  \\\n",
       "8  no precipitation\\n(8:00 am CEST | Thursday, Ma...   \n",
       "9  no precipitation\\n(9:00 am CEST | Thursday, Ma...   \n",
       "\n",
       "                                  query  \\\n",
       "8  Moon Phase calculatorMay 13, 2021 8h   \n",
       "9  Moon Phase calculatorMay 13, 2021 9h   \n",
       "\n",
       "                       Moon Phase calculator  \n",
       "8  | waxing crescent moon\\n1.90% illuminated  \n",
       "9  | waxing crescent moon\\n2.01% illuminated  "
      ]
     },
     "metadata": {},
     "output_type": "display_data"
    },
    {
     "name": "stderr",
     "output_type": "stream",
     "text": [
      "\r",
      " 11%|███████▉                                                                   | 231/2166 [1:20:33<9:38:41, 17.94s/it]"
     ]
    },
    {
     "name": "stdout",
     "output_type": "stream",
     "text": [
      "QUERY:  Precipitation amount in Zollikofen May 13, 2021 10h\n",
      "QUERY:  temperature in Zollikofen May 13, 2021 10h\n",
      "QUERY:  humidity in Zollikofen May 13, 2021 10h\n",
      "QUERY:  wind speed in Zollikofen May 13, 2021 10h\n",
      "QUERY:  Moon Phase calculatorMay 13, 2021 10h\n"
     ]
    },
    {
     "name": "stderr",
     "output_type": "stream",
     "text": [
      "\r",
      " 11%|███████▉                                                                  | 232/2166 [1:20:55<10:16:08, 19.12s/it]"
     ]
    },
    {
     "name": "stdout",
     "output_type": "stream",
     "text": [
      "QUERY:  Precipitation amount in Zollikofen May 13, 2021 11h\n",
      "QUERY:  temperature in Zollikofen May 13, 2021 11h\n",
      "QUERY:  humidity in Zollikofen May 13, 2021 11h\n",
      "QUERY:  wind speed in Zollikofen May 13, 2021 11h\n",
      "QUERY:  Moon Phase calculatorMay 13, 2021 11h\n"
     ]
    },
    {
     "name": "stderr",
     "output_type": "stream",
     "text": [
      "\r",
      " 11%|███████▉                                                                  | 233/2166 [1:21:18<10:54:16, 20.31s/it]"
     ]
    },
    {
     "name": "stdout",
     "output_type": "stream",
     "text": [
      "QUERY:  Precipitation amount in Zollikofen May 13, 2021 12h\n",
      "QUERY:  temperature in Zollikofen May 13, 2021 12h\n",
      "QUERY:  humidity in Zollikofen May 13, 2021 12h\n",
      "QUERY:  wind speed in Zollikofen May 13, 2021 12h\n",
      "QUERY:  Moon Phase calculatorMay 13, 2021 12h\n"
     ]
    },
    {
     "name": "stderr",
     "output_type": "stream",
     "text": [
      "\r",
      " 11%|███████▉                                                                  | 234/2166 [1:21:40<11:10:50, 20.83s/it]"
     ]
    },
    {
     "name": "stdout",
     "output_type": "stream",
     "text": [
      "QUERY:  Precipitation amount in Zollikofen May 13, 2021 13h\n",
      "QUERY:  temperature in Zollikofen May 13, 2021 13h\n",
      "QUERY:  humidity in Zollikofen May 13, 2021 13h\n",
      "QUERY:  wind speed in Zollikofen May 13, 2021 13h\n",
      "QUERY:  Moon Phase calculatorMay 13, 2021 13h\n"
     ]
    },
    {
     "name": "stderr",
     "output_type": "stream",
     "text": [
      "\r",
      " 11%|████████                                                                  | 235/2166 [1:22:03<11:31:42, 21.49s/it]"
     ]
    },
    {
     "name": "stdout",
     "output_type": "stream",
     "text": [
      "QUERY:  Precipitation amount in Zollikofen May 13, 2021 14h\n",
      "QUERY:  temperature in Zollikofen May 13, 2021 14h\n",
      "QUERY:  humidity in Zollikofen May 13, 2021 14h\n",
      "QUERY:  wind speed in Zollikofen May 13, 2021 14h\n",
      "QUERY:  Moon Phase calculatorMay 13, 2021 14h\n"
     ]
    },
    {
     "name": "stderr",
     "output_type": "stream",
     "text": [
      "\r",
      " 11%|████████                                                                  | 236/2166 [1:22:26<11:43:23, 21.87s/it]"
     ]
    },
    {
     "name": "stdout",
     "output_type": "stream",
     "text": [
      "QUERY:  Precipitation amount in Zollikofen May 13, 2021 15h\n",
      "QUERY:  temperature in Zollikofen May 13, 2021 15h\n",
      "QUERY:  humidity in Zollikofen May 13, 2021 15h\n",
      "QUERY:  wind speed in Zollikofen May 13, 2021 15h\n",
      "QUERY:  Moon Phase calculatorMay 13, 2021 15h\n"
     ]
    },
    {
     "name": "stderr",
     "output_type": "stream",
     "text": [
      "\r",
      " 11%|████████                                                                  | 237/2166 [1:22:49<11:58:24, 22.35s/it]"
     ]
    },
    {
     "name": "stdout",
     "output_type": "stream",
     "text": [
      "QUERY:  Precipitation amount in Zollikofen May 13, 2021 16h\n",
      "QUERY:  temperature in Zollikofen May 13, 2021 16h\n",
      "QUERY:  humidity in Zollikofen May 13, 2021 16h\n",
      "QUERY:  wind speed in Zollikofen May 13, 2021 16h\n",
      "QUERY:  Moon Phase calculatorMay 13, 2021 16h\n"
     ]
    },
    {
     "name": "stderr",
     "output_type": "stream",
     "text": [
      "\r",
      " 11%|████████▏                                                                 | 238/2166 [1:23:13<12:06:49, 22.62s/it]"
     ]
    },
    {
     "name": "stdout",
     "output_type": "stream",
     "text": [
      "QUERY:  Precipitation amount in Zollikofen May 13, 2021 17h\n",
      "QUERY:  temperature in Zollikofen May 13, 2021 17h\n",
      "QUERY:  humidity in Zollikofen May 13, 2021 17h\n",
      "QUERY:  wind speed in Zollikofen May 13, 2021 17h\n",
      "QUERY:  Moon Phase calculatorMay 13, 2021 17h\n"
     ]
    },
    {
     "name": "stderr",
     "output_type": "stream",
     "text": [
      "\r",
      " 11%|████████▏                                                                 | 239/2166 [1:23:36<12:10:36, 22.75s/it]"
     ]
    },
    {
     "name": "stdout",
     "output_type": "stream",
     "text": [
      "QUERY:  Precipitation amount in Zollikofen May 13, 2021 18h\n",
      "QUERY:  temperature in Zollikofen May 13, 2021 18h\n",
      "QUERY:  humidity in Zollikofen May 13, 2021 18h\n",
      "QUERY:  wind speed in Zollikofen May 13, 2021 18h\n",
      "QUERY:  Moon Phase calculatorMay 13, 2021 18h\n"
     ]
    },
    {
     "name": "stderr",
     "output_type": "stream",
     "text": [
      "\r",
      " 11%|████████▏                                                                 | 240/2166 [1:23:59<12:15:20, 22.91s/it]"
     ]
    },
    {
     "name": "stdout",
     "output_type": "stream",
     "text": [
      "QUERY:  Precipitation amount in Zollikofen May 13, 2021 19h\n",
      "QUERY:  temperature in Zollikofen May 13, 2021 19h\n",
      "QUERY:  humidity in Zollikofen May 13, 2021 19h\n",
      "QUERY:  wind speed in Zollikofen May 13, 2021 19h\n",
      "QUERY:  Moon Phase calculatorMay 13, 2021 19h\n",
      "(5444, 7)\n"
     ]
    },
    {
     "data": {
      "text/html": [
       "<div>\n",
       "<style scoped>\n",
       "    .dataframe tbody tr th:only-of-type {\n",
       "        vertical-align: middle;\n",
       "    }\n",
       "\n",
       "    .dataframe tbody tr th {\n",
       "        vertical-align: top;\n",
       "    }\n",
       "\n",
       "    .dataframe thead th {\n",
       "        text-align: right;\n",
       "    }\n",
       "</style>\n",
       "<table border=\"1\" class=\"dataframe\">\n",
       "  <thead>\n",
       "    <tr style=\"text-align: right;\">\n",
       "      <th></th>\n",
       "      <th>date</th>\n",
       "      <th>temperature</th>\n",
       "      <th>humidity</th>\n",
       "      <th>wind speed</th>\n",
       "      <th>Precipitation amount</th>\n",
       "      <th>query</th>\n",
       "      <th>Moon Phase calculator</th>\n",
       "    </tr>\n",
       "  </thead>\n",
       "  <tbody>\n",
       "    <tr>\n",
       "      <th>8</th>\n",
       "      <td>2021-05-13 18:00:00</td>\n",
       "      <td>12 °C\\n(6:00 pm CEST | Thursday, May 13, 2021)</td>\n",
       "      <td>average: 51% (50 to 51%)\\n(6:00 pm CEST | Thur...</td>\n",
       "      <td>2 m/s\\n(6:00 pm CEST | Thursday, May 13, 2021)</td>\n",
       "      <td>no precipitation\\n(6:00 pm CEST | Thursday, Ma...</td>\n",
       "      <td>Moon Phase calculatorMay 13, 2021 18h</td>\n",
       "      <td>| waxing crescent moon\\n3.12% illuminated</td>\n",
       "    </tr>\n",
       "    <tr>\n",
       "      <th>9</th>\n",
       "      <td>2021-05-13 19:00:00</td>\n",
       "      <td>14 °C\\n(7:00 pm CEST | Thursday, May 13, 2021)</td>\n",
       "      <td>average: 48% (44 to 51%)\\n(7:00 pm CEST | Thur...</td>\n",
       "      <td>2 m/s\\n(7:00 pm CEST | Thursday, May 13, 2021)</td>\n",
       "      <td>no precipitation\\n(7:00 pm CEST | Thursday, Ma...</td>\n",
       "      <td>Moon Phase calculatorMay 13, 2021 19h</td>\n",
       "      <td>| waxing crescent moon\\n3.26% illuminated</td>\n",
       "    </tr>\n",
       "  </tbody>\n",
       "</table>\n",
       "</div>"
      ],
      "text/plain": [
       "                 date                                     temperature  \\\n",
       "8 2021-05-13 18:00:00  12 °C\\n(6:00 pm CEST | Thursday, May 13, 2021)   \n",
       "9 2021-05-13 19:00:00  14 °C\\n(7:00 pm CEST | Thursday, May 13, 2021)   \n",
       "\n",
       "                                            humidity  \\\n",
       "8  average: 51% (50 to 51%)\\n(6:00 pm CEST | Thur...   \n",
       "9  average: 48% (44 to 51%)\\n(7:00 pm CEST | Thur...   \n",
       "\n",
       "                                       wind speed  \\\n",
       "8  2 m/s\\n(6:00 pm CEST | Thursday, May 13, 2021)   \n",
       "9  2 m/s\\n(7:00 pm CEST | Thursday, May 13, 2021)   \n",
       "\n",
       "                                Precipitation amount  \\\n",
       "8  no precipitation\\n(6:00 pm CEST | Thursday, Ma...   \n",
       "9  no precipitation\\n(7:00 pm CEST | Thursday, Ma...   \n",
       "\n",
       "                                   query  \\\n",
       "8  Moon Phase calculatorMay 13, 2021 18h   \n",
       "9  Moon Phase calculatorMay 13, 2021 19h   \n",
       "\n",
       "                       Moon Phase calculator  \n",
       "8  | waxing crescent moon\\n3.12% illuminated  \n",
       "9  | waxing crescent moon\\n3.26% illuminated  "
      ]
     },
     "metadata": {},
     "output_type": "display_data"
    },
    {
     "name": "stderr",
     "output_type": "stream",
     "text": [
      "\r",
      " 11%|████████▏                                                                 | 241/2166 [1:24:21<12:07:23, 22.67s/it]"
     ]
    },
    {
     "name": "stdout",
     "output_type": "stream",
     "text": [
      "QUERY:  Precipitation amount in Zollikofen May 13, 2021 20h\n",
      "QUERY:  temperature in Zollikofen May 13, 2021 20h\n",
      "QUERY:  humidity in Zollikofen May 13, 2021 20h\n",
      "QUERY:  wind speed in Zollikofen May 13, 2021 20h\n",
      "QUERY:  Moon Phase calculatorMay 13, 2021 20h\n"
     ]
    },
    {
     "name": "stderr",
     "output_type": "stream",
     "text": [
      "\r",
      " 11%|████████▎                                                                 | 242/2166 [1:24:44<12:10:45, 22.79s/it]"
     ]
    },
    {
     "name": "stdout",
     "output_type": "stream",
     "text": [
      "QUERY:  Precipitation amount in Zollikofen May 13, 2021 21h\n",
      "QUERY:  temperature in Zollikofen May 13, 2021 21h\n",
      "QUERY:  humidity in Zollikofen May 13, 2021 21h\n",
      "QUERY:  wind speed in Zollikofen May 13, 2021 21h\n",
      "QUERY:  Moon Phase calculatorMay 13, 2021 21h\n"
     ]
    },
    {
     "name": "stderr",
     "output_type": "stream",
     "text": [
      "\r",
      " 11%|████████▎                                                                 | 243/2166 [1:25:07<12:10:24, 22.79s/it]"
     ]
    },
    {
     "name": "stdout",
     "output_type": "stream",
     "text": [
      "QUERY:  Precipitation amount in Zollikofen May 13, 2021 22h\n",
      "QUERY:  temperature in Zollikofen May 13, 2021 22h\n",
      "QUERY:  humidity in Zollikofen May 13, 2021 22h\n",
      "QUERY:  wind speed in Zollikofen May 13, 2021 22h\n",
      "QUERY:  Moon Phase calculatorMay 13, 2021 22h\n"
     ]
    },
    {
     "name": "stderr",
     "output_type": "stream",
     "text": [
      "\r",
      " 11%|████████▎                                                                 | 244/2166 [1:25:31<12:23:47, 23.22s/it]"
     ]
    },
    {
     "name": "stdout",
     "output_type": "stream",
     "text": [
      "QUERY:  Precipitation amount in Zollikofen May 13, 2021 23h\n",
      "QUERY:  temperature in Zollikofen May 13, 2021 23h\n",
      "QUERY:  humidity in Zollikofen May 13, 2021 23h\n",
      "QUERY:  wind speed in Zollikofen May 13, 2021 23h\n",
      "QUERY:  Moon Phase calculatorMay 13, 2021 23h\n"
     ]
    },
    {
     "name": "stderr",
     "output_type": "stream",
     "text": [
      "\r",
      " 11%|████████▎                                                                 | 245/2166 [1:25:54<12:15:08, 22.96s/it]"
     ]
    },
    {
     "name": "stdout",
     "output_type": "stream",
     "text": [
      "QUERY:  Precipitation amount in Zollikofen May 14, 2021 0h\n",
      "QUERY:  temperature in Zollikofen May 14, 2021 0h\n",
      "QUERY:  humidity in Zollikofen May 14, 2021 0h\n",
      "QUERY:  wind speed in Zollikofen May 14, 2021 0h\n",
      "QUERY:  Moon Phase calculatorMay 14, 2021 0h\n"
     ]
    },
    {
     "name": "stderr",
     "output_type": "stream",
     "text": [
      "\r",
      " 11%|████████▍                                                                 | 246/2166 [1:26:15<11:56:14, 22.38s/it]"
     ]
    },
    {
     "name": "stdout",
     "output_type": "stream",
     "text": [
      "QUERY:  Precipitation amount in Zollikofen May 14, 2021 1h\n",
      "QUERY:  temperature in Zollikofen May 14, 2021 1h\n",
      "QUERY:  humidity in Zollikofen May 14, 2021 1h\n",
      "QUERY:  wind speed in Zollikofen May 14, 2021 1h\n",
      "QUERY:  Moon Phase calculatorMay 14, 2021 1h\n"
     ]
    },
    {
     "name": "stderr",
     "output_type": "stream",
     "text": [
      "\r",
      " 11%|████████▍                                                                 | 247/2166 [1:26:36<11:47:58, 22.14s/it]"
     ]
    },
    {
     "name": "stdout",
     "output_type": "stream",
     "text": [
      "QUERY:  Precipitation amount in Zollikofen May 14, 2021 2h\n",
      "QUERY:  temperature in Zollikofen May 14, 2021 2h\n",
      "QUERY:  humidity in Zollikofen May 14, 2021 2h\n",
      "QUERY:  wind speed in Zollikofen May 14, 2021 2h\n",
      "QUERY:  Moon Phase calculatorMay 14, 2021 2h\n"
     ]
    },
    {
     "name": "stderr",
     "output_type": "stream",
     "text": [
      "\r",
      " 11%|████████▍                                                                 | 248/2166 [1:26:59<11:55:26, 22.38s/it]"
     ]
    },
    {
     "name": "stdout",
     "output_type": "stream",
     "text": [
      "QUERY:  Precipitation amount in Zollikofen May 14, 2021 3h\n",
      "QUERY:  temperature in Zollikofen May 14, 2021 3h\n",
      "QUERY:  humidity in Zollikofen May 14, 2021 3h\n",
      "QUERY:  wind speed in Zollikofen May 14, 2021 3h\n",
      "QUERY:  Moon Phase calculatorMay 14, 2021 3h\n"
     ]
    },
    {
     "name": "stderr",
     "output_type": "stream",
     "text": [
      "\r",
      " 11%|████████▌                                                                 | 249/2166 [1:27:20<11:45:19, 22.08s/it]"
     ]
    },
    {
     "name": "stdout",
     "output_type": "stream",
     "text": [
      "QUERY:  Precipitation amount in Zollikofen May 14, 2021 4h\n",
      "QUERY:  temperature in Zollikofen May 14, 2021 4h\n",
      "QUERY:  humidity in Zollikofen May 14, 2021 4h\n",
      "QUERY:  wind speed in Zollikofen May 14, 2021 4h\n",
      "QUERY:  Moon Phase calculatorMay 14, 2021 4h\n"
     ]
    },
    {
     "name": "stderr",
     "output_type": "stream",
     "text": [
      "\r",
      " 12%|████████▌                                                                 | 250/2166 [1:27:42<11:35:28, 21.78s/it]"
     ]
    },
    {
     "name": "stdout",
     "output_type": "stream",
     "text": [
      "QUERY:  Precipitation amount in Zollikofen May 14, 2021 5h\n",
      "QUERY:  temperature in Zollikofen May 14, 2021 5h\n",
      "QUERY:  humidity in Zollikofen May 14, 2021 5h\n",
      "QUERY:  wind speed in Zollikofen May 14, 2021 5h\n",
      "QUERY:  Moon Phase calculatorMay 14, 2021 5h\n",
      "(5454, 7)\n"
     ]
    },
    {
     "data": {
      "text/html": [
       "<div>\n",
       "<style scoped>\n",
       "    .dataframe tbody tr th:only-of-type {\n",
       "        vertical-align: middle;\n",
       "    }\n",
       "\n",
       "    .dataframe tbody tr th {\n",
       "        vertical-align: top;\n",
       "    }\n",
       "\n",
       "    .dataframe thead th {\n",
       "        text-align: right;\n",
       "    }\n",
       "</style>\n",
       "<table border=\"1\" class=\"dataframe\">\n",
       "  <thead>\n",
       "    <tr style=\"text-align: right;\">\n",
       "      <th></th>\n",
       "      <th>date</th>\n",
       "      <th>temperature</th>\n",
       "      <th>humidity</th>\n",
       "      <th>wind speed</th>\n",
       "      <th>Precipitation amount</th>\n",
       "      <th>query</th>\n",
       "      <th>Moon Phase calculator</th>\n",
       "    </tr>\n",
       "  </thead>\n",
       "  <tbody>\n",
       "    <tr>\n",
       "      <th>8</th>\n",
       "      <td>2021-05-14 04:00:00</td>\n",
       "      <td>3 °C\\n(4:00 am CEST | Friday, May 14, 2021)</td>\n",
       "      <td>average: 100% (100%)\\n(4:00 am CEST | Friday, ...</td>\n",
       "      <td>1 m/s\\n(4:00 am CEST | Friday, May 14, 2021)</td>\n",
       "      <td>no precipitation\\n(4:00 am CEST | Friday, May ...</td>\n",
       "      <td>Moon Phase calculatorMay 14, 2021 4h</td>\n",
       "      <td>| waxing crescent moon\\n4.65% illuminated</td>\n",
       "    </tr>\n",
       "    <tr>\n",
       "      <th>9</th>\n",
       "      <td>2021-05-14 05:00:00</td>\n",
       "      <td>2 °C\\n(5:00 am CEST | Friday, May 14, 2021)</td>\n",
       "      <td>average: 100% (100%)\\n(5:00 am CEST | Friday, ...</td>\n",
       "      <td>1 m/s\\n(5:00 am CEST | Friday, May 14, 2021)</td>\n",
       "      <td>no precipitation\\n(5:00 am CEST | Friday, May ...</td>\n",
       "      <td>Moon Phase calculatorMay 14, 2021 5h</td>\n",
       "      <td>| waxing crescent moon\\n4.82% illuminated</td>\n",
       "    </tr>\n",
       "  </tbody>\n",
       "</table>\n",
       "</div>"
      ],
      "text/plain": [
       "                 date                                  temperature  \\\n",
       "8 2021-05-14 04:00:00  3 °C\\n(4:00 am CEST | Friday, May 14, 2021)   \n",
       "9 2021-05-14 05:00:00  2 °C\\n(5:00 am CEST | Friday, May 14, 2021)   \n",
       "\n",
       "                                            humidity  \\\n",
       "8  average: 100% (100%)\\n(4:00 am CEST | Friday, ...   \n",
       "9  average: 100% (100%)\\n(5:00 am CEST | Friday, ...   \n",
       "\n",
       "                                     wind speed  \\\n",
       "8  1 m/s\\n(4:00 am CEST | Friday, May 14, 2021)   \n",
       "9  1 m/s\\n(5:00 am CEST | Friday, May 14, 2021)   \n",
       "\n",
       "                                Precipitation amount  \\\n",
       "8  no precipitation\\n(4:00 am CEST | Friday, May ...   \n",
       "9  no precipitation\\n(5:00 am CEST | Friday, May ...   \n",
       "\n",
       "                                  query  \\\n",
       "8  Moon Phase calculatorMay 14, 2021 4h   \n",
       "9  Moon Phase calculatorMay 14, 2021 5h   \n",
       "\n",
       "                       Moon Phase calculator  \n",
       "8  | waxing crescent moon\\n4.65% illuminated  \n",
       "9  | waxing crescent moon\\n4.82% illuminated  "
      ]
     },
     "metadata": {},
     "output_type": "display_data"
    },
    {
     "name": "stderr",
     "output_type": "stream",
     "text": [
      "\r",
      " 12%|████████▌                                                                 | 251/2166 [1:28:04<11:38:09, 21.87s/it]"
     ]
    },
    {
     "name": "stdout",
     "output_type": "stream",
     "text": [
      "QUERY:  Precipitation amount in Zollikofen May 14, 2021 6h\n",
      "QUERY:  temperature in Zollikofen May 14, 2021 6h\n",
      "QUERY:  humidity in Zollikofen May 14, 2021 6h\n",
      "QUERY:  wind speed in Zollikofen May 14, 2021 6h\n",
      "QUERY:  Moon Phase calculatorMay 14, 2021 6h\n"
     ]
    },
    {
     "name": "stderr",
     "output_type": "stream",
     "text": [
      "\r",
      " 12%|████████▌                                                                 | 252/2166 [1:28:25<11:35:17, 21.80s/it]"
     ]
    },
    {
     "name": "stdout",
     "output_type": "stream",
     "text": [
      "QUERY:  Precipitation amount in Zollikofen May 14, 2021 7h\n",
      "QUERY:  temperature in Zollikofen May 14, 2021 7h\n",
      "QUERY:  humidity in Zollikofen May 14, 2021 7h\n",
      "QUERY:  wind speed in Zollikofen May 14, 2021 7h\n",
      "QUERY:  Moon Phase calculatorMay 14, 2021 7h\n"
     ]
    },
    {
     "name": "stderr",
     "output_type": "stream",
     "text": [
      "\r",
      " 12%|████████▋                                                                 | 253/2166 [1:28:48<11:42:00, 22.02s/it]"
     ]
    },
    {
     "name": "stdout",
     "output_type": "stream",
     "text": [
      "QUERY:  Precipitation amount in Zollikofen May 14, 2021 8h\n",
      "QUERY:  temperature in Zollikofen May 14, 2021 8h\n",
      "QUERY:  humidity in Zollikofen May 14, 2021 8h\n",
      "QUERY:  wind speed in Zollikofen May 14, 2021 8h\n",
      "QUERY:  Moon Phase calculatorMay 14, 2021 8h\n"
     ]
    },
    {
     "name": "stderr",
     "output_type": "stream",
     "text": [
      "\r",
      " 12%|████████▋                                                                 | 254/2166 [1:29:09<11:35:11, 21.82s/it]"
     ]
    },
    {
     "name": "stdout",
     "output_type": "stream",
     "text": [
      "QUERY:  Precipitation amount in Zollikofen May 14, 2021 9h\n",
      "QUERY:  temperature in Zollikofen May 14, 2021 9h\n",
      "QUERY:  humidity in Zollikofen May 14, 2021 9h\n",
      "QUERY:  wind speed in Zollikofen May 14, 2021 9h\n",
      "QUERY:  Moon Phase calculatorMay 14, 2021 9h\n"
     ]
    },
    {
     "name": "stderr",
     "output_type": "stream",
     "text": [
      "\r",
      " 12%|████████▋                                                                 | 255/2166 [1:29:30<11:27:31, 21.59s/it]"
     ]
    },
    {
     "name": "stdout",
     "output_type": "stream",
     "text": [
      "QUERY:  Precipitation amount in Zollikofen May 14, 2021 10h\n",
      "QUERY:  temperature in Zollikofen May 14, 2021 10h\n",
      "QUERY:  humidity in Zollikofen May 14, 2021 10h\n",
      "QUERY:  wind speed in Zollikofen May 14, 2021 10h\n",
      "QUERY:  Moon Phase calculatorMay 14, 2021 10h\n"
     ]
    },
    {
     "name": "stderr",
     "output_type": "stream",
     "text": [
      "\r",
      " 12%|████████▋                                                                 | 256/2166 [1:29:52<11:25:36, 21.54s/it]"
     ]
    },
    {
     "name": "stdout",
     "output_type": "stream",
     "text": [
      "QUERY:  Precipitation amount in Zollikofen May 14, 2021 11h\n",
      "QUERY:  temperature in Zollikofen May 14, 2021 11h\n",
      "QUERY:  humidity in Zollikofen May 14, 2021 11h\n",
      "QUERY:  wind speed in Zollikofen May 14, 2021 11h\n",
      "QUERY:  Moon Phase calculatorMay 14, 2021 11h\n"
     ]
    },
    {
     "name": "stderr",
     "output_type": "stream",
     "text": [
      "\r",
      " 12%|████████▊                                                                 | 257/2166 [1:30:13<11:23:09, 21.47s/it]"
     ]
    },
    {
     "name": "stdout",
     "output_type": "stream",
     "text": [
      "QUERY:  Precipitation amount in Zollikofen May 14, 2021 12h\n",
      "QUERY:  temperature in Zollikofen May 14, 2021 12h\n",
      "QUERY:  humidity in Zollikofen May 14, 2021 12h\n",
      "QUERY:  wind speed in Zollikofen May 14, 2021 12h\n",
      "QUERY:  Moon Phase calculatorMay 14, 2021 12h\n"
     ]
    },
    {
     "name": "stderr",
     "output_type": "stream",
     "text": [
      "\r",
      " 12%|████████▊                                                                 | 258/2166 [1:30:35<11:24:45, 21.53s/it]"
     ]
    },
    {
     "name": "stdout",
     "output_type": "stream",
     "text": [
      "QUERY:  Precipitation amount in Zollikofen May 14, 2021 13h\n",
      "QUERY:  temperature in Zollikofen May 14, 2021 13h\n",
      "QUERY:  humidity in Zollikofen May 14, 2021 13h\n",
      "QUERY:  wind speed in Zollikofen May 14, 2021 13h\n",
      "QUERY:  Moon Phase calculatorMay 14, 2021 13h\n"
     ]
    },
    {
     "name": "stderr",
     "output_type": "stream",
     "text": [
      "\r",
      " 12%|████████▊                                                                 | 259/2166 [1:30:56<11:26:45, 21.61s/it]"
     ]
    },
    {
     "name": "stdout",
     "output_type": "stream",
     "text": [
      "QUERY:  Precipitation amount in Zollikofen May 14, 2021 14h\n",
      "QUERY:  temperature in Zollikofen May 14, 2021 14h\n",
      "QUERY:  humidity in Zollikofen May 14, 2021 14h\n",
      "QUERY:  wind speed in Zollikofen May 14, 2021 14h\n",
      "QUERY:  Moon Phase calculatorMay 14, 2021 14h\n"
     ]
    },
    {
     "name": "stderr",
     "output_type": "stream",
     "text": [
      "\r",
      " 12%|████████▉                                                                 | 260/2166 [1:31:17<11:15:43, 21.27s/it]"
     ]
    },
    {
     "name": "stdout",
     "output_type": "stream",
     "text": [
      "QUERY:  Precipitation amount in Zollikofen May 14, 2021 15h\n",
      "QUERY:  temperature in Zollikofen May 14, 2021 15h\n",
      "QUERY:  humidity in Zollikofen May 14, 2021 15h\n",
      "QUERY:  wind speed in Zollikofen May 14, 2021 15h\n",
      "QUERY:  Moon Phase calculatorMay 14, 2021 15h\n",
      "(5464, 7)\n"
     ]
    },
    {
     "data": {
      "text/html": [
       "<div>\n",
       "<style scoped>\n",
       "    .dataframe tbody tr th:only-of-type {\n",
       "        vertical-align: middle;\n",
       "    }\n",
       "\n",
       "    .dataframe tbody tr th {\n",
       "        vertical-align: top;\n",
       "    }\n",
       "\n",
       "    .dataframe thead th {\n",
       "        text-align: right;\n",
       "    }\n",
       "</style>\n",
       "<table border=\"1\" class=\"dataframe\">\n",
       "  <thead>\n",
       "    <tr style=\"text-align: right;\">\n",
       "      <th></th>\n",
       "      <th>date</th>\n",
       "      <th>temperature</th>\n",
       "      <th>humidity</th>\n",
       "      <th>wind speed</th>\n",
       "      <th>Precipitation amount</th>\n",
       "      <th>query</th>\n",
       "      <th>Moon Phase calculator</th>\n",
       "    </tr>\n",
       "  </thead>\n",
       "  <tbody>\n",
       "    <tr>\n",
       "      <th>8</th>\n",
       "      <td>2021-05-14 14:00:00</td>\n",
       "      <td>13 °C\\n(2:00 pm CEST | Friday, May 14, 2021)</td>\n",
       "      <td>average: 57% (48 to 66%)\\n(2:00 pm CEST | Frid...</td>\n",
       "      <td>6 m/s\\n(2:00 pm CEST | Friday, May 14, 2021)</td>\n",
       "      <td>no precipitation\\n(2:00 pm CEST | Friday, May ...</td>\n",
       "      <td>Moon Phase calculatorMay 14, 2021 14h</td>\n",
       "      <td>| waxing crescent moon\\n6.47% illuminated</td>\n",
       "    </tr>\n",
       "    <tr>\n",
       "      <th>9</th>\n",
       "      <td>2021-05-14 15:00:00</td>\n",
       "      <td>11 °C\\n(3:00 pm CEST | Friday, May 14, 2021)</td>\n",
       "      <td>average: 74% (71 to 76%)\\n(3:00 pm CEST | Frid...</td>\n",
       "      <td>5 m/s\\n(3:00 pm CEST | Friday, May 14, 2021)</td>\n",
       "      <td>no precipitation\\n(3:00 pm CEST | Friday, May ...</td>\n",
       "      <td>Moon Phase calculatorMay 14, 2021 15h</td>\n",
       "      <td>| waxing crescent moon\\n6.67% illuminated</td>\n",
       "    </tr>\n",
       "  </tbody>\n",
       "</table>\n",
       "</div>"
      ],
      "text/plain": [
       "                 date                                   temperature  \\\n",
       "8 2021-05-14 14:00:00  13 °C\\n(2:00 pm CEST | Friday, May 14, 2021)   \n",
       "9 2021-05-14 15:00:00  11 °C\\n(3:00 pm CEST | Friday, May 14, 2021)   \n",
       "\n",
       "                                            humidity  \\\n",
       "8  average: 57% (48 to 66%)\\n(2:00 pm CEST | Frid...   \n",
       "9  average: 74% (71 to 76%)\\n(3:00 pm CEST | Frid...   \n",
       "\n",
       "                                     wind speed  \\\n",
       "8  6 m/s\\n(2:00 pm CEST | Friday, May 14, 2021)   \n",
       "9  5 m/s\\n(3:00 pm CEST | Friday, May 14, 2021)   \n",
       "\n",
       "                                Precipitation amount  \\\n",
       "8  no precipitation\\n(2:00 pm CEST | Friday, May ...   \n",
       "9  no precipitation\\n(3:00 pm CEST | Friday, May ...   \n",
       "\n",
       "                                   query  \\\n",
       "8  Moon Phase calculatorMay 14, 2021 14h   \n",
       "9  Moon Phase calculatorMay 14, 2021 15h   \n",
       "\n",
       "                       Moon Phase calculator  \n",
       "8  | waxing crescent moon\\n6.47% illuminated  \n",
       "9  | waxing crescent moon\\n6.67% illuminated  "
      ]
     },
     "metadata": {},
     "output_type": "display_data"
    },
    {
     "name": "stderr",
     "output_type": "stream",
     "text": [
      "\r",
      " 12%|████████▉                                                                 | 261/2166 [1:31:40<11:35:05, 21.89s/it]"
     ]
    },
    {
     "name": "stdout",
     "output_type": "stream",
     "text": [
      "QUERY:  Precipitation amount in Zollikofen May 14, 2021 16h\n",
      "QUERY:  temperature in Zollikofen May 14, 2021 16h\n",
      "QUERY:  humidity in Zollikofen May 14, 2021 16h\n",
      "QUERY:  wind speed in Zollikofen May 14, 2021 16h\n",
      "QUERY:  Moon Phase calculatorMay 14, 2021 16h\n"
     ]
    },
    {
     "name": "stderr",
     "output_type": "stream",
     "text": [
      "\r",
      " 12%|████████▉                                                                 | 262/2166 [1:32:01<11:29:05, 21.72s/it]"
     ]
    },
    {
     "name": "stdout",
     "output_type": "stream",
     "text": [
      "QUERY:  Precipitation amount in Zollikofen May 14, 2021 17h\n",
      "QUERY:  temperature in Zollikofen May 14, 2021 17h\n",
      "QUERY:  humidity in Zollikofen May 14, 2021 17h\n",
      "QUERY:  wind speed in Zollikofen May 14, 2021 17h\n",
      "QUERY:  Moon Phase calculatorMay 14, 2021 17h\n"
     ]
    },
    {
     "name": "stderr",
     "output_type": "stream",
     "text": [
      "\r",
      " 12%|████████▉                                                                 | 263/2166 [1:32:22<11:15:04, 21.28s/it]"
     ]
    },
    {
     "name": "stdout",
     "output_type": "stream",
     "text": [
      "QUERY:  Precipitation amount in Zollikofen May 14, 2021 18h\n",
      "QUERY:  temperature in Zollikofen May 14, 2021 18h\n",
      "QUERY:  humidity in Zollikofen May 14, 2021 18h\n",
      "QUERY:  wind speed in Zollikofen May 14, 2021 18h\n",
      "QUERY:  Moon Phase calculatorMay 14, 2021 18h\n"
     ]
    },
    {
     "name": "stderr",
     "output_type": "stream",
     "text": [
      "\r",
      " 12%|█████████                                                                 | 264/2166 [1:32:42<11:06:22, 21.02s/it]"
     ]
    },
    {
     "name": "stdout",
     "output_type": "stream",
     "text": [
      "QUERY:  Precipitation amount in Zollikofen May 14, 2021 19h\n",
      "QUERY:  temperature in Zollikofen May 14, 2021 19h\n",
      "ERROR: no data available-------------  temperature in Zollikofen May 14, 2021 19h\n",
      "ERROR:------------- name 'error' is not defined  ----------  temperature in Zollikofen May 14, 2021 19h\n",
      "QUERY:  humidity in Zollikofen May 14, 2021 19h\n",
      "ERROR: no data available-------------  humidity in Zollikofen May 14, 2021 19h\n",
      "ERROR:------------- name 'error' is not defined  ----------  humidity in Zollikofen May 14, 2021 19h\n",
      "QUERY:  wind speed in Zollikofen May 14, 2021 19h\n",
      "ERROR: no data available-------------  wind speed in Zollikofen May 14, 2021 19h\n",
      "ERROR:------------- name 'error' is not defined  ----------  wind speed in Zollikofen May 14, 2021 19h\n",
      "QUERY:  Moon Phase calculatorMay 14, 2021 19h\n"
     ]
    },
    {
     "name": "stderr",
     "output_type": "stream",
     "text": [
      "100%|████████████████████████████████████████████████████████████████████████████| 2166/2166 [1:33:02<00:00,  2.58s/it]"
     ]
    },
    {
     "name": "stdout",
     "output_type": "stream",
     "text": [
      "(5468, 7)\n"
     ]
    },
    {
     "name": "stderr",
     "output_type": "stream",
     "text": [
      "\n"
     ]
    },
    {
     "data": {
      "text/html": [
       "<div>\n",
       "<style scoped>\n",
       "    .dataframe tbody tr th:only-of-type {\n",
       "        vertical-align: middle;\n",
       "    }\n",
       "\n",
       "    .dataframe tbody tr th {\n",
       "        vertical-align: top;\n",
       "    }\n",
       "\n",
       "    .dataframe thead th {\n",
       "        text-align: right;\n",
       "    }\n",
       "</style>\n",
       "<table border=\"1\" class=\"dataframe\">\n",
       "  <thead>\n",
       "    <tr style=\"text-align: right;\">\n",
       "      <th></th>\n",
       "      <th>date</th>\n",
       "      <th>temperature</th>\n",
       "      <th>humidity</th>\n",
       "      <th>wind speed</th>\n",
       "      <th>Precipitation amount</th>\n",
       "      <th>query</th>\n",
       "      <th>Moon Phase calculator</th>\n",
       "    </tr>\n",
       "  </thead>\n",
       "  <tbody>\n",
       "    <tr>\n",
       "      <th>2</th>\n",
       "      <td>2021-05-14 18:00:00</td>\n",
       "      <td>8 °C\\n(6:00 pm CEST | Friday, May 14, 2021)</td>\n",
       "      <td>average: 100% (100%)\\n(6:00 pm CEST | Friday, ...</td>\n",
       "      <td>1 m/s\\n(6:00 pm CEST | Friday, May 14, 2021)</td>\n",
       "      <td>rain\\n(6:00 pm CEST | Friday, May 14, 2021)</td>\n",
       "      <td>Moon Phase calculatorMay 14, 2021 18h</td>\n",
       "      <td>| waxing crescent moon\\n7.28% illuminated</td>\n",
       "    </tr>\n",
       "    <tr>\n",
       "      <th>3</th>\n",
       "      <td>2021-05-14 19:00:00</td>\n",
       "      <td>ERROR</td>\n",
       "      <td>ERROR</td>\n",
       "      <td>ERROR</td>\n",
       "      <td>(unknown)\\n(7:00 pm CEST | Friday, May 14, 2021)</td>\n",
       "      <td>Moon Phase calculatorMay 14, 2021 19h</td>\n",
       "      <td>| waxing crescent moon\\n7.49% illuminated</td>\n",
       "    </tr>\n",
       "  </tbody>\n",
       "</table>\n",
       "</div>"
      ],
      "text/plain": [
       "                 date                                  temperature  \\\n",
       "2 2021-05-14 18:00:00  8 °C\\n(6:00 pm CEST | Friday, May 14, 2021)   \n",
       "3 2021-05-14 19:00:00                                        ERROR   \n",
       "\n",
       "                                            humidity  \\\n",
       "2  average: 100% (100%)\\n(6:00 pm CEST | Friday, ...   \n",
       "3                                              ERROR   \n",
       "\n",
       "                                     wind speed  \\\n",
       "2  1 m/s\\n(6:00 pm CEST | Friday, May 14, 2021)   \n",
       "3                                         ERROR   \n",
       "\n",
       "                               Precipitation amount  \\\n",
       "2       rain\\n(6:00 pm CEST | Friday, May 14, 2021)   \n",
       "3  (unknown)\\n(7:00 pm CEST | Friday, May 14, 2021)   \n",
       "\n",
       "                                   query  \\\n",
       "2  Moon Phase calculatorMay 14, 2021 18h   \n",
       "3  Moon Phase calculatorMay 14, 2021 19h   \n",
       "\n",
       "                       Moon Phase calculator  \n",
       "2  | waxing crescent moon\\n7.28% illuminated  \n",
       "3  | waxing crescent moon\\n7.49% illuminated  "
      ]
     },
     "metadata": {},
     "output_type": "display_data"
    }
   ],
   "source": [
    "#not same as : https://weather.plus/observations-weather-station.php?dest=Bern-Zollikofen&id=066310&type=synop&day=20200713, our\n",
    "#results are less consistent :( \n",
    "#ATTENTION: monthly api calls limited to 2'000\n",
    "#if not working, save query and results: \"ERROR\", but continue the other query from the same date\n",
    "#open if exist\n",
    "li_df = []\n",
    "for i,d in enumerate(tqdm.tqdm(Daterange)):\n",
    "    now_ = dt.datetime.now()\n",
    "    #dont get the data in advance\n",
    "    if d<now_:      \n",
    "        dico = {'date':d}\n",
    "        for type_ in li_type:\n",
    "            try:                    \n",
    "                query = '%s in Zollikofen '%type_+d.strftime('%B')+' '+str(d.day)+', '+str(d.year)+' '+str(d.hour)+'h'\n",
    "                if type_=='Moon Phase calculator':\n",
    "                    query = type_+d.strftime('%B')+' '+str(d.day)+', '+str(d.year)+' '+str(d.hour)+'h'                    \n",
    "                print('QUERY: ',query)\n",
    "                dico['query'] = query\n",
    "                res = client.query(query)\n",
    "                for t in res.results:\n",
    "                    if 'no data available' in t.text:\n",
    "                        print('ERROR: no data available------------- ', query)\n",
    "                        error\n",
    "                    dico[type_] = t.text\n",
    "            except Exception as e:\n",
    "                print('ERROR:-------------', e, ' ---------- ', query)\n",
    "                dico[type_] = 'ERROR'\n",
    "        li_df.append(dico)\n",
    "        dico = {}\n",
    "        if i%10==0:\n",
    "            df_ = pd.DataFrame(li_df)\n",
    "            df = pd.concat([df,df_])\n",
    "            df.to_csv(path_weather, index=False, sep=';')\n",
    "            li_df = []\n",
    "            print(df.shape)\n",
    "            display(df.tail(2))\n",
    "df_ = pd.DataFrame(li_df)\n",
    "df = pd.concat([df,df_])\n",
    "df.to_csv(path_weather, index=False, sep=';')\n",
    "print(df.shape)\n",
    "display(df.tail(2))"
   ]
  },
  {
   "cell_type": "code",
   "execution_count": 6,
   "metadata": {},
   "outputs": [
    {
     "name": "stdout",
     "output_type": "stream",
     "text": [
      "(39, 7)\n"
     ]
    },
    {
     "data": {
      "text/html": [
       "<div>\n",
       "<style scoped>\n",
       "    .dataframe tbody tr th:only-of-type {\n",
       "        vertical-align: middle;\n",
       "    }\n",
       "\n",
       "    .dataframe tbody tr th {\n",
       "        vertical-align: top;\n",
       "    }\n",
       "\n",
       "    .dataframe thead th {\n",
       "        text-align: right;\n",
       "    }\n",
       "</style>\n",
       "<table border=\"1\" class=\"dataframe\">\n",
       "  <thead>\n",
       "    <tr style=\"text-align: right;\">\n",
       "      <th></th>\n",
       "      <th>date</th>\n",
       "      <th>temperature</th>\n",
       "      <th>humidity</th>\n",
       "      <th>wind speed</th>\n",
       "      <th>Precipitation amount</th>\n",
       "      <th>query</th>\n",
       "      <th>Moon Phase calculator</th>\n",
       "    </tr>\n",
       "  </thead>\n",
       "  <tbody>\n",
       "    <tr>\n",
       "      <th>0</th>\n",
       "      <td>2020-11-05 22:00:00</td>\n",
       "      <td>8 °C\\n(10:00 pm CET | Thursday, November 5, 2020)</td>\n",
       "      <td>ERROR</td>\n",
       "      <td>1 m/s\\n(10:00 pm CET | Thursday, November 5, 2...</td>\n",
       "      <td>(unknown)\\n(10:00 pm CET | Thursday, November ...</td>\n",
       "      <td>Moon Phase calculatorNovember 5, 2020 22h</td>\n",
       "      <td>| waning gibbous moon\\n76.55% illuminated</td>\n",
       "    </tr>\n",
       "    <tr>\n",
       "      <th>0</th>\n",
       "      <td>2020-11-16 19:00:00</td>\n",
       "      <td>7 °C\\n(7:00 pm CET | Monday, November 16, 2020)</td>\n",
       "      <td>ERROR</td>\n",
       "      <td>1 m/s\\n(7:00 pm CET | Monday, November 16, 2020)</td>\n",
       "      <td>(unknown)\\n(7:00 pm CET | Monday, November 16,...</td>\n",
       "      <td>Moon Phase calculatorNovember 16, 2020 19h</td>\n",
       "      <td>| waxing crescent moon\\n3.48% illuminated</td>\n",
       "    </tr>\n",
       "    <tr>\n",
       "      <th>1</th>\n",
       "      <td>2020-11-16 21:00:00</td>\n",
       "      <td>5 °C\\n(9:00 pm CET | Monday, November 16, 2020)</td>\n",
       "      <td>ERROR</td>\n",
       "      <td>0 m/s\\n(9:00 pm CET | Monday, November 16, 2020)</td>\n",
       "      <td>(unknown)\\n(9:00 pm CET | Monday, November 16,...</td>\n",
       "      <td>Moon Phase calculatorNovember 16, 2020 21h</td>\n",
       "      <td>| waxing crescent moon\\n3.86% illuminated</td>\n",
       "    </tr>\n",
       "    <tr>\n",
       "      <th>2</th>\n",
       "      <td>2020-12-15 21:00:00</td>\n",
       "      <td>4 °C\\n(9:00 pm CET | Tuesday, December 15, 2020)</td>\n",
       "      <td>ERROR</td>\n",
       "      <td>1 m/s\\n(9:00 pm CET | Tuesday, December 15, 2020)</td>\n",
       "      <td>(unknown)\\n(9:00 pm CET | Tuesday, December 15...</td>\n",
       "      <td>Moon Phase calculatorDecember 15, 2020 21h</td>\n",
       "      <td>| waxing crescent moon\\n1.86% illuminated</td>\n",
       "    </tr>\n",
       "    <tr>\n",
       "      <th>3</th>\n",
       "      <td>2021-02-08 17:00:00</td>\n",
       "      <td>5 °C\\n(5:00 pm CET | Monday, February 8, 2021)</td>\n",
       "      <td>ERROR</td>\n",
       "      <td>5 m/s\\n(5:00 pm CET | Monday, February 8, 2021)</td>\n",
       "      <td>(unknown)\\n(5:00 pm CET | Monday, February 8, ...</td>\n",
       "      <td>Moon Phase calculatorFebruary 8, 2021 17h</td>\n",
       "      <td>| waning crescent moon\\n11.27% illuminated</td>\n",
       "    </tr>\n",
       "    <tr>\n",
       "      <th>4</th>\n",
       "      <td>2021-02-08 18:00:00</td>\n",
       "      <td>4 °C\\n(6:00 pm CET | Monday, February 8, 2021)</td>\n",
       "      <td>ERROR</td>\n",
       "      <td>5 m/s\\n(6:00 pm CET | Monday, February 8, 2021)</td>\n",
       "      <td>(unknown)\\n(6:00 pm CET | Monday, February 8, ...</td>\n",
       "      <td>Moon Phase calculatorFebruary 8, 2021 18h</td>\n",
       "      <td>| waning crescent moon\\n10.98% illuminated</td>\n",
       "    </tr>\n",
       "    <tr>\n",
       "      <th>5</th>\n",
       "      <td>2021-02-08 19:00:00</td>\n",
       "      <td>3 °C\\n(7:00 pm CET | Monday, February 8, 2021)</td>\n",
       "      <td>ERROR</td>\n",
       "      <td>4 m/s\\n(7:00 pm CET | Monday, February 8, 2021)</td>\n",
       "      <td>(unknown)\\n(7:00 pm CET | Monday, February 8, ...</td>\n",
       "      <td>Moon Phase calculatorFebruary 8, 2021 19h</td>\n",
       "      <td>| waning crescent moon\\n10.69% illuminated</td>\n",
       "    </tr>\n",
       "    <tr>\n",
       "      <th>6</th>\n",
       "      <td>2021-02-08 20:00:00</td>\n",
       "      <td>2 °C\\n(8:00 pm CET | Monday, February 8, 2021)</td>\n",
       "      <td>ERROR</td>\n",
       "      <td>4 m/s\\n(8:00 pm CET | Monday, February 8, 2021)</td>\n",
       "      <td>(unknown)\\n(8:00 pm CET | Monday, February 8, ...</td>\n",
       "      <td>Moon Phase calculatorFebruary 8, 2021 20h</td>\n",
       "      <td>| waning crescent moon\\n10.41% illuminated</td>\n",
       "    </tr>\n",
       "    <tr>\n",
       "      <th>7</th>\n",
       "      <td>2021-02-09 09:00:00</td>\n",
       "      <td>0 °C\\n(9:00 am CET | Tuesday, February 9, 2021)</td>\n",
       "      <td>ERROR</td>\n",
       "      <td>1 m/s\\n(9:00 am CET | Tuesday, February 9, 2021)</td>\n",
       "      <td>(unknown)\\n(9:00 am CET | Tuesday, February 9,...</td>\n",
       "      <td>Moon Phase calculatorFebruary 9, 2021 9h</td>\n",
       "      <td>| waning crescent moon\\n7.06% illuminated</td>\n",
       "    </tr>\n",
       "    <tr>\n",
       "      <th>8</th>\n",
       "      <td>2021-02-09 10:00:00</td>\n",
       "      <td>0 °C\\n(10:00 am CET | Tuesday, February 9, 2021)</td>\n",
       "      <td>ERROR</td>\n",
       "      <td>1 m/s\\n(10:00 am CET | Tuesday, February 9, 2021)</td>\n",
       "      <td>(unknown)\\n(10:00 am CET | Tuesday, February 9...</td>\n",
       "      <td>Moon Phase calculatorFebruary 9, 2021 10h</td>\n",
       "      <td>| waning crescent moon\\n6.82% illuminated</td>\n",
       "    </tr>\n",
       "    <tr>\n",
       "      <th>9</th>\n",
       "      <td>2021-02-09 11:00:00</td>\n",
       "      <td>0 °C\\n(11:00 am CET | Tuesday, February 9, 2021)</td>\n",
       "      <td>ERROR</td>\n",
       "      <td>1 m/s\\n(11:00 am CET | Tuesday, February 9, 2021)</td>\n",
       "      <td>(unknown)\\n(11:00 am CET | Tuesday, February 9...</td>\n",
       "      <td>Moon Phase calculatorFebruary 9, 2021 11h</td>\n",
       "      <td>| waning crescent moon\\n6.60% illuminated</td>\n",
       "    </tr>\n",
       "    <tr>\n",
       "      <th>0</th>\n",
       "      <td>2021-02-09 12:00:00</td>\n",
       "      <td>0 °C\\n(12:00 pm CET | Tuesday, February 9, 2021)</td>\n",
       "      <td>ERROR</td>\n",
       "      <td>1 m/s\\n(12:00 pm CET | Tuesday, February 9, 2021)</td>\n",
       "      <td>(unknown)\\n(12:00 pm CET | Tuesday, February 9...</td>\n",
       "      <td>Moon Phase calculatorFebruary 9, 2021 12h</td>\n",
       "      <td>| waning crescent moon\\n6.37% illuminated</td>\n",
       "    </tr>\n",
       "    <tr>\n",
       "      <th>1</th>\n",
       "      <td>2021-02-09 13:00:00</td>\n",
       "      <td>0 °C\\n(1:00 pm CET | Tuesday, February 9, 2021)</td>\n",
       "      <td>ERROR</td>\n",
       "      <td>2 m/s\\n(1:00 pm CET | Tuesday, February 9, 2021)</td>\n",
       "      <td>(unknown)\\n(1:00 pm CET | Tuesday, February 9,...</td>\n",
       "      <td>Moon Phase calculatorFebruary 9, 2021 13h</td>\n",
       "      <td>| waning crescent moon\\n6.15% illuminated</td>\n",
       "    </tr>\n",
       "    <tr>\n",
       "      <th>2</th>\n",
       "      <td>2021-02-09 15:00:00</td>\n",
       "      <td>0 °C\\n(3:00 pm CET | Tuesday, February 9, 2021)</td>\n",
       "      <td>ERROR</td>\n",
       "      <td>2 m/s\\n(3:00 pm CET | Tuesday, February 9, 2021)</td>\n",
       "      <td>(unknown)\\n(3:00 pm CET | Tuesday, February 9,...</td>\n",
       "      <td>Moon Phase calculatorFebruary 9, 2021 15h</td>\n",
       "      <td>| waning crescent moon\\n5.72% illuminated</td>\n",
       "    </tr>\n",
       "    <tr>\n",
       "      <th>3</th>\n",
       "      <td>2021-02-09 16:00:00</td>\n",
       "      <td>0 °C\\n(4:00 pm CET | Tuesday, February 9, 2021)</td>\n",
       "      <td>ERROR</td>\n",
       "      <td>2 m/s\\n(4:00 pm CET | Tuesday, February 9, 2021)</td>\n",
       "      <td>(unknown)\\n(4:00 pm CET | Tuesday, February 9,...</td>\n",
       "      <td>Moon Phase calculatorFebruary 9, 2021 16h</td>\n",
       "      <td>| waning crescent moon\\n5.51% illuminated</td>\n",
       "    </tr>\n",
       "    <tr>\n",
       "      <th>4</th>\n",
       "      <td>2021-02-09 17:00:00</td>\n",
       "      <td>0 °C\\n(5:00 pm CET | Tuesday, February 9, 2021)</td>\n",
       "      <td>ERROR</td>\n",
       "      <td>3 m/s\\n(5:00 pm CET | Tuesday, February 9, 2021)</td>\n",
       "      <td>(unknown)\\n(5:00 pm CET | Tuesday, February 9,...</td>\n",
       "      <td>Moon Phase calculatorFebruary 9, 2021 17h</td>\n",
       "      <td>| waning crescent moon\\n5.31% illuminated</td>\n",
       "    </tr>\n",
       "    <tr>\n",
       "      <th>5</th>\n",
       "      <td>2021-02-09 18:00:00</td>\n",
       "      <td>0 °C\\n(6:00 pm CET | Tuesday, February 9, 2021)</td>\n",
       "      <td>ERROR</td>\n",
       "      <td>3 m/s\\n(6:00 pm CET | Tuesday, February 9, 2021)</td>\n",
       "      <td>(unknown)\\n(6:00 pm CET | Tuesday, February 9,...</td>\n",
       "      <td>Moon Phase calculatorFebruary 9, 2021 18h</td>\n",
       "      <td>| waning crescent moon\\n5.11% illuminated</td>\n",
       "    </tr>\n",
       "    <tr>\n",
       "      <th>6</th>\n",
       "      <td>2021-02-09 19:00:00</td>\n",
       "      <td>0 °C\\n(7:00 pm CET | Tuesday, February 9, 2021)</td>\n",
       "      <td>ERROR</td>\n",
       "      <td>3 m/s\\n(7:00 pm CET | Tuesday, February 9, 2021)</td>\n",
       "      <td>(unknown)\\n(7:00 pm CET | Tuesday, February 9,...</td>\n",
       "      <td>Moon Phase calculatorFebruary 9, 2021 19h</td>\n",
       "      <td>| waning crescent moon\\n4.91% illuminated</td>\n",
       "    </tr>\n",
       "    <tr>\n",
       "      <th>7</th>\n",
       "      <td>2021-02-09 20:00:00</td>\n",
       "      <td>0 °C\\n(8:00 pm CET | Tuesday, February 9, 2021)</td>\n",
       "      <td>ERROR</td>\n",
       "      <td>3 m/s\\n(8:00 pm CET | Tuesday, February 9, 2021)</td>\n",
       "      <td>(unknown)\\n(8:00 pm CET | Tuesday, February 9,...</td>\n",
       "      <td>Moon Phase calculatorFebruary 9, 2021 20h</td>\n",
       "      <td>| waning crescent moon\\n4.72% illuminated</td>\n",
       "    </tr>\n",
       "    <tr>\n",
       "      <th>8</th>\n",
       "      <td>2021-02-09 21:00:00</td>\n",
       "      <td>0 °C\\n(9:00 pm CET | Tuesday, February 9, 2021)</td>\n",
       "      <td>ERROR</td>\n",
       "      <td>4 m/s\\n(9:00 pm CET | Tuesday, February 9, 2021)</td>\n",
       "      <td>(unknown)\\n(9:00 pm CET | Tuesday, February 9,...</td>\n",
       "      <td>Moon Phase calculatorFebruary 9, 2021 21h</td>\n",
       "      <td>| waning crescent moon\\n4.53% illuminated</td>\n",
       "    </tr>\n",
       "    <tr>\n",
       "      <th>9</th>\n",
       "      <td>2021-02-09 22:00:00</td>\n",
       "      <td>0 °C\\n(10:00 pm CET | Tuesday, February 9, 2021)</td>\n",
       "      <td>ERROR</td>\n",
       "      <td>4 m/s\\n(10:00 pm CET | Tuesday, February 9, 2021)</td>\n",
       "      <td>(unknown)\\n(10:00 pm CET | Tuesday, February 9...</td>\n",
       "      <td>Moon Phase calculatorFebruary 9, 2021 22h</td>\n",
       "      <td>| waning crescent moon\\n4.34% illuminated</td>\n",
       "    </tr>\n",
       "    <tr>\n",
       "      <th>0</th>\n",
       "      <td>2021-02-10 10:00:00</td>\n",
       "      <td>0 °C\\n(10:00 am CET | Wednesday, February 10, ...</td>\n",
       "      <td>ERROR</td>\n",
       "      <td>1 m/s\\n(10:00 am CET | Wednesday, February 10,...</td>\n",
       "      <td>(unknown)\\n(10:00 am CET | Wednesday, February...</td>\n",
       "      <td>Moon Phase calculatorFebruary 10, 2021 10h</td>\n",
       "      <td>| waning crescent moon\\n2.43% illuminated</td>\n",
       "    </tr>\n",
       "    <tr>\n",
       "      <th>1</th>\n",
       "      <td>2021-02-10 11:00:00</td>\n",
       "      <td>0 °C\\n(11:00 am CET | Wednesday, February 10, ...</td>\n",
       "      <td>ERROR</td>\n",
       "      <td>1 m/s\\n(11:00 am CET | Wednesday, February 10,...</td>\n",
       "      <td>(unknown)\\n(11:00 am CET | Wednesday, February...</td>\n",
       "      <td>Moon Phase calculatorFebruary 10, 2021 11h</td>\n",
       "      <td>| waning crescent moon\\n2.30% illuminated</td>\n",
       "    </tr>\n",
       "    <tr>\n",
       "      <th>2</th>\n",
       "      <td>2021-02-10 12:00:00</td>\n",
       "      <td>0 °C\\n(12:00 pm CET | Wednesday, February 10, ...</td>\n",
       "      <td>ERROR</td>\n",
       "      <td>2 m/s\\n(12:00 pm CET | Wednesday, February 10,...</td>\n",
       "      <td>(unknown)\\n(12:00 pm CET | Wednesday, February...</td>\n",
       "      <td>Moon Phase calculatorFebruary 10, 2021 12h</td>\n",
       "      <td>| waning crescent moon\\n2.17% illuminated</td>\n",
       "    </tr>\n",
       "    <tr>\n",
       "      <th>3</th>\n",
       "      <td>2021-02-10 13:00:00</td>\n",
       "      <td>0 °C\\n(1:00 pm CET | Wednesday, February 10, 2...</td>\n",
       "      <td>ERROR</td>\n",
       "      <td>2 m/s\\n(1:00 pm CET | Wednesday, February 10, ...</td>\n",
       "      <td>(unknown)\\n(1:00 pm CET | Wednesday, February ...</td>\n",
       "      <td>Moon Phase calculatorFebruary 10, 2021 13h</td>\n",
       "      <td>| waning crescent moon\\n2.04% illuminated</td>\n",
       "    </tr>\n",
       "    <tr>\n",
       "      <th>4</th>\n",
       "      <td>2021-02-10 14:00:00</td>\n",
       "      <td>-1 °C\\n(2:00 pm CET | Wednesday, February 10, ...</td>\n",
       "      <td>ERROR</td>\n",
       "      <td>2 m/s\\n(2:00 pm CET | Wednesday, February 10, ...</td>\n",
       "      <td>(unknown)\\n(2:00 pm CET | Wednesday, February ...</td>\n",
       "      <td>Moon Phase calculatorFebruary 10, 2021 14h</td>\n",
       "      <td>| waning crescent moon\\n1.92% illuminated</td>\n",
       "    </tr>\n",
       "    <tr>\n",
       "      <th>5</th>\n",
       "      <td>2021-02-10 15:00:00</td>\n",
       "      <td>-1 °C\\n(3:00 pm CET | Wednesday, February 10, ...</td>\n",
       "      <td>ERROR</td>\n",
       "      <td>3 m/s\\n(3:00 pm CET | Wednesday, February 10, ...</td>\n",
       "      <td>(unknown)\\n(3:00 pm CET | Wednesday, February ...</td>\n",
       "      <td>Moon Phase calculatorFebruary 10, 2021 15h</td>\n",
       "      <td>| waning crescent moon\\n1.80% illuminated</td>\n",
       "    </tr>\n",
       "    <tr>\n",
       "      <th>6</th>\n",
       "      <td>2021-02-10 16:00:00</td>\n",
       "      <td>-1 °C\\n(4:00 pm CET | Wednesday, February 10, ...</td>\n",
       "      <td>ERROR</td>\n",
       "      <td>3 m/s\\n(4:00 pm CET | Wednesday, February 10, ...</td>\n",
       "      <td>(unknown)\\n(4:00 pm CET | Wednesday, February ...</td>\n",
       "      <td>Moon Phase calculatorFebruary 10, 2021 16h</td>\n",
       "      <td>| waning crescent moon\\n1.69% illuminated</td>\n",
       "    </tr>\n",
       "    <tr>\n",
       "      <th>7</th>\n",
       "      <td>2021-02-10 17:00:00</td>\n",
       "      <td>-2 °C\\n(5:00 pm CET | Wednesday, February 10, ...</td>\n",
       "      <td>ERROR</td>\n",
       "      <td>3 m/s\\n(5:00 pm CET | Wednesday, February 10, ...</td>\n",
       "      <td>(unknown)\\n(5:00 pm CET | Wednesday, February ...</td>\n",
       "      <td>Moon Phase calculatorFebruary 10, 2021 17h</td>\n",
       "      <td>| waning crescent moon\\n1.58% illuminated</td>\n",
       "    </tr>\n",
       "    <tr>\n",
       "      <th>8</th>\n",
       "      <td>2021-02-10 18:00:00</td>\n",
       "      <td>-2 °C\\n(6:00 pm CET | Wednesday, February 10, ...</td>\n",
       "      <td>ERROR</td>\n",
       "      <td>3 m/s\\n(6:00 pm CET | Wednesday, February 10, ...</td>\n",
       "      <td>(unknown)\\n(6:00 pm CET | Wednesday, February ...</td>\n",
       "      <td>Moon Phase calculatorFebruary 10, 2021 18h</td>\n",
       "      <td>| waning crescent moon\\n1.48% illuminated</td>\n",
       "    </tr>\n",
       "    <tr>\n",
       "      <th>9</th>\n",
       "      <td>2021-02-10 19:00:00</td>\n",
       "      <td>-2 °C\\n(7:00 pm CET | Wednesday, February 10, ...</td>\n",
       "      <td>ERROR</td>\n",
       "      <td>4 m/s\\n(7:00 pm CET | Wednesday, February 10, ...</td>\n",
       "      <td>(unknown)\\n(7:00 pm CET | Wednesday, February ...</td>\n",
       "      <td>Moon Phase calculatorFebruary 10, 2021 19h</td>\n",
       "      <td>| waning crescent moon\\n1.38% illuminated</td>\n",
       "    </tr>\n",
       "    <tr>\n",
       "      <th>0</th>\n",
       "      <td>2021-02-10 20:00:00</td>\n",
       "      <td>-2 °C\\n(8:00 pm CET | Wednesday, February 10, ...</td>\n",
       "      <td>ERROR</td>\n",
       "      <td>4 m/s\\n(8:00 pm CET | Wednesday, February 10, ...</td>\n",
       "      <td>(unknown)\\n(8:00 pm CET | Wednesday, February ...</td>\n",
       "      <td>Moon Phase calculatorFebruary 10, 2021 20h</td>\n",
       "      <td>| waning crescent moon\\n1.28% illuminated</td>\n",
       "    </tr>\n",
       "    <tr>\n",
       "      <th>1</th>\n",
       "      <td>2021-02-10 21:00:00</td>\n",
       "      <td>-3 °C\\n(9:00 pm CET | Wednesday, February 10, ...</td>\n",
       "      <td>ERROR</td>\n",
       "      <td>4 m/s\\n(9:00 pm CET | Wednesday, February 10, ...</td>\n",
       "      <td>(unknown)\\n(9:00 pm CET | Wednesday, February ...</td>\n",
       "      <td>Moon Phase calculatorFebruary 10, 2021 21h</td>\n",
       "      <td>| waning crescent moon\\n1.19% illuminated</td>\n",
       "    </tr>\n",
       "    <tr>\n",
       "      <th>2</th>\n",
       "      <td>2021-02-10 22:00:00</td>\n",
       "      <td>-3 °C\\n(10:00 pm CET | Wednesday, February 10,...</td>\n",
       "      <td>ERROR</td>\n",
       "      <td>5 m/s\\n(10:00 pm CET | Wednesday, February 10,...</td>\n",
       "      <td>(unknown)\\n(10:00 pm CET | Wednesday, February...</td>\n",
       "      <td>Moon Phase calculatorFebruary 10, 2021 22h</td>\n",
       "      <td>| waning crescent moon\\n1.10% illuminated</td>\n",
       "    </tr>\n",
       "    <tr>\n",
       "      <th>3</th>\n",
       "      <td>2021-02-10 23:00:00</td>\n",
       "      <td>-3 °C\\n(11:00 pm CET | Wednesday, February 10,...</td>\n",
       "      <td>ERROR</td>\n",
       "      <td>5 m/s\\n(11:00 pm CET | Wednesday, February 10,...</td>\n",
       "      <td>(unknown)\\n(11:00 pm CET | Wednesday, February...</td>\n",
       "      <td>Moon Phase calculatorFebruary 10, 2021 23h</td>\n",
       "      <td>| waning crescent moon\\n1.01% illuminated</td>\n",
       "    </tr>\n",
       "    <tr>\n",
       "      <th>4</th>\n",
       "      <td>2021-03-28 01:00:00</td>\n",
       "      <td>1 °C\\n(1:00 am CEST | Sunday, March 28, 2021)</td>\n",
       "      <td>ERROR</td>\n",
       "      <td>1 m/s\\n(1:00 am CEST | Sunday, March 28, 2021)</td>\n",
       "      <td>(unknown)\\n(1:00 am CEST | Sunday, March 28, 2...</td>\n",
       "      <td>Moon Phase calculatorMarch 28, 2021 1h</td>\n",
       "      <td>| waxing gibbous moon\\n98.84% illuminated</td>\n",
       "    </tr>\n",
       "    <tr>\n",
       "      <th>9</th>\n",
       "      <td>2021-05-06 07:00:00</td>\n",
       "      <td>7 °C\\n(7:00 am CEST | Thursday, May 6, 2021)</td>\n",
       "      <td>average: 70% (70%)\\n(7:00 am CEST | Thursday, ...</td>\n",
       "      <td>2 m/s\\n(7:00 am CEST | Thursday, May 6, 2021)</td>\n",
       "      <td>ERROR</td>\n",
       "      <td>Moon Phase calculatorMay 6, 2021 7h</td>\n",
       "      <td>| waning crescent moon\\n26.55% illuminated</td>\n",
       "    </tr>\n",
       "    <tr>\n",
       "      <th>0</th>\n",
       "      <td>2021-05-06 18:00:00</td>\n",
       "      <td>10 °C\\n(6:00 pm CEST | Thursday, May 6, 2021)</td>\n",
       "      <td>average: 91% (82 to 100%)\\n(6:00 pm CEST | Thu...</td>\n",
       "      <td>5 m/s\\n(6:00 pm CEST | Thursday, May 6, 2021)</td>\n",
       "      <td>ERROR</td>\n",
       "      <td>Moon Phase calculatorMay 6, 2021 18h</td>\n",
       "      <td>| waning crescent moon\\n22.62% illuminated</td>\n",
       "    </tr>\n",
       "    <tr>\n",
       "      <th>3</th>\n",
       "      <td>2021-05-14 19:00:00</td>\n",
       "      <td>ERROR</td>\n",
       "      <td>ERROR</td>\n",
       "      <td>ERROR</td>\n",
       "      <td>(unknown)\\n(7:00 pm CEST | Friday, May 14, 2021)</td>\n",
       "      <td>Moon Phase calculatorMay 14, 2021 19h</td>\n",
       "      <td>| waxing crescent moon\\n7.49% illuminated</td>\n",
       "    </tr>\n",
       "  </tbody>\n",
       "</table>\n",
       "</div>"
      ],
      "text/plain": [
       "                 date                                        temperature  \\\n",
       "0 2020-11-05 22:00:00  8 °C\\n(10:00 pm CET | Thursday, November 5, 2020)   \n",
       "0 2020-11-16 19:00:00    7 °C\\n(7:00 pm CET | Monday, November 16, 2020)   \n",
       "1 2020-11-16 21:00:00    5 °C\\n(9:00 pm CET | Monday, November 16, 2020)   \n",
       "2 2020-12-15 21:00:00   4 °C\\n(9:00 pm CET | Tuesday, December 15, 2020)   \n",
       "3 2021-02-08 17:00:00     5 °C\\n(5:00 pm CET | Monday, February 8, 2021)   \n",
       "4 2021-02-08 18:00:00     4 °C\\n(6:00 pm CET | Monday, February 8, 2021)   \n",
       "5 2021-02-08 19:00:00     3 °C\\n(7:00 pm CET | Monday, February 8, 2021)   \n",
       "6 2021-02-08 20:00:00     2 °C\\n(8:00 pm CET | Monday, February 8, 2021)   \n",
       "7 2021-02-09 09:00:00    0 °C\\n(9:00 am CET | Tuesday, February 9, 2021)   \n",
       "8 2021-02-09 10:00:00   0 °C\\n(10:00 am CET | Tuesday, February 9, 2021)   \n",
       "9 2021-02-09 11:00:00   0 °C\\n(11:00 am CET | Tuesday, February 9, 2021)   \n",
       "0 2021-02-09 12:00:00   0 °C\\n(12:00 pm CET | Tuesday, February 9, 2021)   \n",
       "1 2021-02-09 13:00:00    0 °C\\n(1:00 pm CET | Tuesday, February 9, 2021)   \n",
       "2 2021-02-09 15:00:00    0 °C\\n(3:00 pm CET | Tuesday, February 9, 2021)   \n",
       "3 2021-02-09 16:00:00    0 °C\\n(4:00 pm CET | Tuesday, February 9, 2021)   \n",
       "4 2021-02-09 17:00:00    0 °C\\n(5:00 pm CET | Tuesday, February 9, 2021)   \n",
       "5 2021-02-09 18:00:00    0 °C\\n(6:00 pm CET | Tuesday, February 9, 2021)   \n",
       "6 2021-02-09 19:00:00    0 °C\\n(7:00 pm CET | Tuesday, February 9, 2021)   \n",
       "7 2021-02-09 20:00:00    0 °C\\n(8:00 pm CET | Tuesday, February 9, 2021)   \n",
       "8 2021-02-09 21:00:00    0 °C\\n(9:00 pm CET | Tuesday, February 9, 2021)   \n",
       "9 2021-02-09 22:00:00   0 °C\\n(10:00 pm CET | Tuesday, February 9, 2021)   \n",
       "0 2021-02-10 10:00:00  0 °C\\n(10:00 am CET | Wednesday, February 10, ...   \n",
       "1 2021-02-10 11:00:00  0 °C\\n(11:00 am CET | Wednesday, February 10, ...   \n",
       "2 2021-02-10 12:00:00  0 °C\\n(12:00 pm CET | Wednesday, February 10, ...   \n",
       "3 2021-02-10 13:00:00  0 °C\\n(1:00 pm CET | Wednesday, February 10, 2...   \n",
       "4 2021-02-10 14:00:00  -1 °C\\n(2:00 pm CET | Wednesday, February 10, ...   \n",
       "5 2021-02-10 15:00:00  -1 °C\\n(3:00 pm CET | Wednesday, February 10, ...   \n",
       "6 2021-02-10 16:00:00  -1 °C\\n(4:00 pm CET | Wednesday, February 10, ...   \n",
       "7 2021-02-10 17:00:00  -2 °C\\n(5:00 pm CET | Wednesday, February 10, ...   \n",
       "8 2021-02-10 18:00:00  -2 °C\\n(6:00 pm CET | Wednesday, February 10, ...   \n",
       "9 2021-02-10 19:00:00  -2 °C\\n(7:00 pm CET | Wednesday, February 10, ...   \n",
       "0 2021-02-10 20:00:00  -2 °C\\n(8:00 pm CET | Wednesday, February 10, ...   \n",
       "1 2021-02-10 21:00:00  -3 °C\\n(9:00 pm CET | Wednesday, February 10, ...   \n",
       "2 2021-02-10 22:00:00  -3 °C\\n(10:00 pm CET | Wednesday, February 10,...   \n",
       "3 2021-02-10 23:00:00  -3 °C\\n(11:00 pm CET | Wednesday, February 10,...   \n",
       "4 2021-03-28 01:00:00      1 °C\\n(1:00 am CEST | Sunday, March 28, 2021)   \n",
       "9 2021-05-06 07:00:00       7 °C\\n(7:00 am CEST | Thursday, May 6, 2021)   \n",
       "0 2021-05-06 18:00:00      10 °C\\n(6:00 pm CEST | Thursday, May 6, 2021)   \n",
       "3 2021-05-14 19:00:00                                              ERROR   \n",
       "\n",
       "                                            humidity  \\\n",
       "0                                              ERROR   \n",
       "0                                              ERROR   \n",
       "1                                              ERROR   \n",
       "2                                              ERROR   \n",
       "3                                              ERROR   \n",
       "4                                              ERROR   \n",
       "5                                              ERROR   \n",
       "6                                              ERROR   \n",
       "7                                              ERROR   \n",
       "8                                              ERROR   \n",
       "9                                              ERROR   \n",
       "0                                              ERROR   \n",
       "1                                              ERROR   \n",
       "2                                              ERROR   \n",
       "3                                              ERROR   \n",
       "4                                              ERROR   \n",
       "5                                              ERROR   \n",
       "6                                              ERROR   \n",
       "7                                              ERROR   \n",
       "8                                              ERROR   \n",
       "9                                              ERROR   \n",
       "0                                              ERROR   \n",
       "1                                              ERROR   \n",
       "2                                              ERROR   \n",
       "3                                              ERROR   \n",
       "4                                              ERROR   \n",
       "5                                              ERROR   \n",
       "6                                              ERROR   \n",
       "7                                              ERROR   \n",
       "8                                              ERROR   \n",
       "9                                              ERROR   \n",
       "0                                              ERROR   \n",
       "1                                              ERROR   \n",
       "2                                              ERROR   \n",
       "3                                              ERROR   \n",
       "4                                              ERROR   \n",
       "9  average: 70% (70%)\\n(7:00 am CEST | Thursday, ...   \n",
       "0  average: 91% (82 to 100%)\\n(6:00 pm CEST | Thu...   \n",
       "3                                              ERROR   \n",
       "\n",
       "                                          wind speed  \\\n",
       "0  1 m/s\\n(10:00 pm CET | Thursday, November 5, 2...   \n",
       "0   1 m/s\\n(7:00 pm CET | Monday, November 16, 2020)   \n",
       "1   0 m/s\\n(9:00 pm CET | Monday, November 16, 2020)   \n",
       "2  1 m/s\\n(9:00 pm CET | Tuesday, December 15, 2020)   \n",
       "3    5 m/s\\n(5:00 pm CET | Monday, February 8, 2021)   \n",
       "4    5 m/s\\n(6:00 pm CET | Monday, February 8, 2021)   \n",
       "5    4 m/s\\n(7:00 pm CET | Monday, February 8, 2021)   \n",
       "6    4 m/s\\n(8:00 pm CET | Monday, February 8, 2021)   \n",
       "7   1 m/s\\n(9:00 am CET | Tuesday, February 9, 2021)   \n",
       "8  1 m/s\\n(10:00 am CET | Tuesday, February 9, 2021)   \n",
       "9  1 m/s\\n(11:00 am CET | Tuesday, February 9, 2021)   \n",
       "0  1 m/s\\n(12:00 pm CET | Tuesday, February 9, 2021)   \n",
       "1   2 m/s\\n(1:00 pm CET | Tuesday, February 9, 2021)   \n",
       "2   2 m/s\\n(3:00 pm CET | Tuesday, February 9, 2021)   \n",
       "3   2 m/s\\n(4:00 pm CET | Tuesday, February 9, 2021)   \n",
       "4   3 m/s\\n(5:00 pm CET | Tuesday, February 9, 2021)   \n",
       "5   3 m/s\\n(6:00 pm CET | Tuesday, February 9, 2021)   \n",
       "6   3 m/s\\n(7:00 pm CET | Tuesday, February 9, 2021)   \n",
       "7   3 m/s\\n(8:00 pm CET | Tuesday, February 9, 2021)   \n",
       "8   4 m/s\\n(9:00 pm CET | Tuesday, February 9, 2021)   \n",
       "9  4 m/s\\n(10:00 pm CET | Tuesday, February 9, 2021)   \n",
       "0  1 m/s\\n(10:00 am CET | Wednesday, February 10,...   \n",
       "1  1 m/s\\n(11:00 am CET | Wednesday, February 10,...   \n",
       "2  2 m/s\\n(12:00 pm CET | Wednesday, February 10,...   \n",
       "3  2 m/s\\n(1:00 pm CET | Wednesday, February 10, ...   \n",
       "4  2 m/s\\n(2:00 pm CET | Wednesday, February 10, ...   \n",
       "5  3 m/s\\n(3:00 pm CET | Wednesday, February 10, ...   \n",
       "6  3 m/s\\n(4:00 pm CET | Wednesday, February 10, ...   \n",
       "7  3 m/s\\n(5:00 pm CET | Wednesday, February 10, ...   \n",
       "8  3 m/s\\n(6:00 pm CET | Wednesday, February 10, ...   \n",
       "9  4 m/s\\n(7:00 pm CET | Wednesday, February 10, ...   \n",
       "0  4 m/s\\n(8:00 pm CET | Wednesday, February 10, ...   \n",
       "1  4 m/s\\n(9:00 pm CET | Wednesday, February 10, ...   \n",
       "2  5 m/s\\n(10:00 pm CET | Wednesday, February 10,...   \n",
       "3  5 m/s\\n(11:00 pm CET | Wednesday, February 10,...   \n",
       "4     1 m/s\\n(1:00 am CEST | Sunday, March 28, 2021)   \n",
       "9      2 m/s\\n(7:00 am CEST | Thursday, May 6, 2021)   \n",
       "0      5 m/s\\n(6:00 pm CEST | Thursday, May 6, 2021)   \n",
       "3                                              ERROR   \n",
       "\n",
       "                                Precipitation amount  \\\n",
       "0  (unknown)\\n(10:00 pm CET | Thursday, November ...   \n",
       "0  (unknown)\\n(7:00 pm CET | Monday, November 16,...   \n",
       "1  (unknown)\\n(9:00 pm CET | Monday, November 16,...   \n",
       "2  (unknown)\\n(9:00 pm CET | Tuesday, December 15...   \n",
       "3  (unknown)\\n(5:00 pm CET | Monday, February 8, ...   \n",
       "4  (unknown)\\n(6:00 pm CET | Monday, February 8, ...   \n",
       "5  (unknown)\\n(7:00 pm CET | Monday, February 8, ...   \n",
       "6  (unknown)\\n(8:00 pm CET | Monday, February 8, ...   \n",
       "7  (unknown)\\n(9:00 am CET | Tuesday, February 9,...   \n",
       "8  (unknown)\\n(10:00 am CET | Tuesday, February 9...   \n",
       "9  (unknown)\\n(11:00 am CET | Tuesday, February 9...   \n",
       "0  (unknown)\\n(12:00 pm CET | Tuesday, February 9...   \n",
       "1  (unknown)\\n(1:00 pm CET | Tuesday, February 9,...   \n",
       "2  (unknown)\\n(3:00 pm CET | Tuesday, February 9,...   \n",
       "3  (unknown)\\n(4:00 pm CET | Tuesday, February 9,...   \n",
       "4  (unknown)\\n(5:00 pm CET | Tuesday, February 9,...   \n",
       "5  (unknown)\\n(6:00 pm CET | Tuesday, February 9,...   \n",
       "6  (unknown)\\n(7:00 pm CET | Tuesday, February 9,...   \n",
       "7  (unknown)\\n(8:00 pm CET | Tuesday, February 9,...   \n",
       "8  (unknown)\\n(9:00 pm CET | Tuesday, February 9,...   \n",
       "9  (unknown)\\n(10:00 pm CET | Tuesday, February 9...   \n",
       "0  (unknown)\\n(10:00 am CET | Wednesday, February...   \n",
       "1  (unknown)\\n(11:00 am CET | Wednesday, February...   \n",
       "2  (unknown)\\n(12:00 pm CET | Wednesday, February...   \n",
       "3  (unknown)\\n(1:00 pm CET | Wednesday, February ...   \n",
       "4  (unknown)\\n(2:00 pm CET | Wednesday, February ...   \n",
       "5  (unknown)\\n(3:00 pm CET | Wednesday, February ...   \n",
       "6  (unknown)\\n(4:00 pm CET | Wednesday, February ...   \n",
       "7  (unknown)\\n(5:00 pm CET | Wednesday, February ...   \n",
       "8  (unknown)\\n(6:00 pm CET | Wednesday, February ...   \n",
       "9  (unknown)\\n(7:00 pm CET | Wednesday, February ...   \n",
       "0  (unknown)\\n(8:00 pm CET | Wednesday, February ...   \n",
       "1  (unknown)\\n(9:00 pm CET | Wednesday, February ...   \n",
       "2  (unknown)\\n(10:00 pm CET | Wednesday, February...   \n",
       "3  (unknown)\\n(11:00 pm CET | Wednesday, February...   \n",
       "4  (unknown)\\n(1:00 am CEST | Sunday, March 28, 2...   \n",
       "9                                              ERROR   \n",
       "0                                              ERROR   \n",
       "3   (unknown)\\n(7:00 pm CEST | Friday, May 14, 2021)   \n",
       "\n",
       "                                        query  \\\n",
       "0   Moon Phase calculatorNovember 5, 2020 22h   \n",
       "0  Moon Phase calculatorNovember 16, 2020 19h   \n",
       "1  Moon Phase calculatorNovember 16, 2020 21h   \n",
       "2  Moon Phase calculatorDecember 15, 2020 21h   \n",
       "3   Moon Phase calculatorFebruary 8, 2021 17h   \n",
       "4   Moon Phase calculatorFebruary 8, 2021 18h   \n",
       "5   Moon Phase calculatorFebruary 8, 2021 19h   \n",
       "6   Moon Phase calculatorFebruary 8, 2021 20h   \n",
       "7    Moon Phase calculatorFebruary 9, 2021 9h   \n",
       "8   Moon Phase calculatorFebruary 9, 2021 10h   \n",
       "9   Moon Phase calculatorFebruary 9, 2021 11h   \n",
       "0   Moon Phase calculatorFebruary 9, 2021 12h   \n",
       "1   Moon Phase calculatorFebruary 9, 2021 13h   \n",
       "2   Moon Phase calculatorFebruary 9, 2021 15h   \n",
       "3   Moon Phase calculatorFebruary 9, 2021 16h   \n",
       "4   Moon Phase calculatorFebruary 9, 2021 17h   \n",
       "5   Moon Phase calculatorFebruary 9, 2021 18h   \n",
       "6   Moon Phase calculatorFebruary 9, 2021 19h   \n",
       "7   Moon Phase calculatorFebruary 9, 2021 20h   \n",
       "8   Moon Phase calculatorFebruary 9, 2021 21h   \n",
       "9   Moon Phase calculatorFebruary 9, 2021 22h   \n",
       "0  Moon Phase calculatorFebruary 10, 2021 10h   \n",
       "1  Moon Phase calculatorFebruary 10, 2021 11h   \n",
       "2  Moon Phase calculatorFebruary 10, 2021 12h   \n",
       "3  Moon Phase calculatorFebruary 10, 2021 13h   \n",
       "4  Moon Phase calculatorFebruary 10, 2021 14h   \n",
       "5  Moon Phase calculatorFebruary 10, 2021 15h   \n",
       "6  Moon Phase calculatorFebruary 10, 2021 16h   \n",
       "7  Moon Phase calculatorFebruary 10, 2021 17h   \n",
       "8  Moon Phase calculatorFebruary 10, 2021 18h   \n",
       "9  Moon Phase calculatorFebruary 10, 2021 19h   \n",
       "0  Moon Phase calculatorFebruary 10, 2021 20h   \n",
       "1  Moon Phase calculatorFebruary 10, 2021 21h   \n",
       "2  Moon Phase calculatorFebruary 10, 2021 22h   \n",
       "3  Moon Phase calculatorFebruary 10, 2021 23h   \n",
       "4      Moon Phase calculatorMarch 28, 2021 1h   \n",
       "9         Moon Phase calculatorMay 6, 2021 7h   \n",
       "0        Moon Phase calculatorMay 6, 2021 18h   \n",
       "3       Moon Phase calculatorMay 14, 2021 19h   \n",
       "\n",
       "                        Moon Phase calculator  \n",
       "0   | waning gibbous moon\\n76.55% illuminated  \n",
       "0   | waxing crescent moon\\n3.48% illuminated  \n",
       "1   | waxing crescent moon\\n3.86% illuminated  \n",
       "2   | waxing crescent moon\\n1.86% illuminated  \n",
       "3  | waning crescent moon\\n11.27% illuminated  \n",
       "4  | waning crescent moon\\n10.98% illuminated  \n",
       "5  | waning crescent moon\\n10.69% illuminated  \n",
       "6  | waning crescent moon\\n10.41% illuminated  \n",
       "7   | waning crescent moon\\n7.06% illuminated  \n",
       "8   | waning crescent moon\\n6.82% illuminated  \n",
       "9   | waning crescent moon\\n6.60% illuminated  \n",
       "0   | waning crescent moon\\n6.37% illuminated  \n",
       "1   | waning crescent moon\\n6.15% illuminated  \n",
       "2   | waning crescent moon\\n5.72% illuminated  \n",
       "3   | waning crescent moon\\n5.51% illuminated  \n",
       "4   | waning crescent moon\\n5.31% illuminated  \n",
       "5   | waning crescent moon\\n5.11% illuminated  \n",
       "6   | waning crescent moon\\n4.91% illuminated  \n",
       "7   | waning crescent moon\\n4.72% illuminated  \n",
       "8   | waning crescent moon\\n4.53% illuminated  \n",
       "9   | waning crescent moon\\n4.34% illuminated  \n",
       "0   | waning crescent moon\\n2.43% illuminated  \n",
       "1   | waning crescent moon\\n2.30% illuminated  \n",
       "2   | waning crescent moon\\n2.17% illuminated  \n",
       "3   | waning crescent moon\\n2.04% illuminated  \n",
       "4   | waning crescent moon\\n1.92% illuminated  \n",
       "5   | waning crescent moon\\n1.80% illuminated  \n",
       "6   | waning crescent moon\\n1.69% illuminated  \n",
       "7   | waning crescent moon\\n1.58% illuminated  \n",
       "8   | waning crescent moon\\n1.48% illuminated  \n",
       "9   | waning crescent moon\\n1.38% illuminated  \n",
       "0   | waning crescent moon\\n1.28% illuminated  \n",
       "1   | waning crescent moon\\n1.19% illuminated  \n",
       "2   | waning crescent moon\\n1.10% illuminated  \n",
       "3   | waning crescent moon\\n1.01% illuminated  \n",
       "4   | waxing gibbous moon\\n98.84% illuminated  \n",
       "9  | waning crescent moon\\n26.55% illuminated  \n",
       "0  | waning crescent moon\\n22.62% illuminated  \n",
       "3   | waxing crescent moon\\n7.49% illuminated  "
      ]
     },
     "execution_count": 6,
     "metadata": {},
     "output_type": "execute_result"
    }
   ],
   "source": [
    "print(df[df.isin([\"ERROR\"]).any(axis=1)].shape)\n",
    "df[df.isin([\"ERROR\"]).any(axis=1)]"
   ]
  },
  {
   "cell_type": "markdown",
   "metadata": {},
   "source": [
    "df['day'] = df['date'].map(lambda x: dt.datetime.date(x))\n",
    "df['day'].value_counts()"
   ]
  },
  {
   "cell_type": "markdown",
   "metadata": {},
   "source": [
    "#add lune to weather data\n",
    "#dico_d_m = {}\n",
    "for d in tqdm.tqdm(Daterange):\n",
    "    now_ = dt.datetime.now()\n",
    "    #dont get the data in advance\n",
    "    if d<now_:   \n",
    "        if d not in dico_d_m:\n",
    "            try:\n",
    "                query = 'Moon Phase calculator'+d.strftime('%B')+' '+str(d.day)+', '+str(d.year)+' '+str(d.hour)+'h'\n",
    "                res = client.query(query) \n",
    "                for t in res.results:\n",
    "                    dico_d_m[d] = t.text.strip('|').strip(' ')\n",
    "            except Exception as e:\n",
    "                print('ERROR')\n",
    "                print(e)\n",
    "#df['Moon Phase calculator'] = df['date'].map(lambda x: dico_d_m.get(x, 'ERROR'))\n",
    "#print(df[df['Moonphase']=='ERROR'].shape)\n",
    "df"
   ]
  },
  {
   "cell_type": "markdown",
   "metadata": {},
   "source": [
    "df = df.drop(['MoonName','Moon Phase calculator'],axis=1)"
   ]
  },
  {
   "cell_type": "markdown",
   "metadata": {},
   "source": [
    "# Process"
   ]
  },
  {
   "cell_type": "code",
   "execution_count": 7,
   "metadata": {},
   "outputs": [
    {
     "name": "stdout",
     "output_type": "stream",
     "text": [
      "(5428, 13)\n"
     ]
    },
    {
     "data": {
      "text/html": [
       "<div>\n",
       "<style scoped>\n",
       "    .dataframe tbody tr th:only-of-type {\n",
       "        vertical-align: middle;\n",
       "    }\n",
       "\n",
       "    .dataframe tbody tr th {\n",
       "        vertical-align: top;\n",
       "    }\n",
       "\n",
       "    .dataframe thead th {\n",
       "        text-align: right;\n",
       "    }\n",
       "</style>\n",
       "<table border=\"1\" class=\"dataframe\">\n",
       "  <thead>\n",
       "    <tr style=\"text-align: right;\">\n",
       "      <th></th>\n",
       "      <th>Timestamp</th>\n",
       "      <th>temperature</th>\n",
       "      <th>humidity</th>\n",
       "      <th>wind speed</th>\n",
       "      <th>Precipitation amount</th>\n",
       "      <th>query</th>\n",
       "      <th>Moon Phase calculator</th>\n",
       "      <th>date</th>\n",
       "      <th>hour</th>\n",
       "      <th>temperature_C</th>\n",
       "      <th>wind_speed_mpers</th>\n",
       "      <th>humidity_avgpercent</th>\n",
       "      <th>rain</th>\n",
       "    </tr>\n",
       "  </thead>\n",
       "  <tbody>\n",
       "    <tr>\n",
       "      <th>0</th>\n",
       "      <td>2020-09-29 00:00:00</td>\n",
       "      <td>10 °C\\n(12:00 am CEST | Tuesday, September 29,...</td>\n",
       "      <td>average: 100% (100%)\\n(12:00 am CEST | Tuesday...</td>\n",
       "      <td>2 m/s\\n(12:00 am CEST | Tuesday, September 29,...</td>\n",
       "      <td>rain\\n(12:00 am CEST | Tuesday, September 29, ...</td>\n",
       "      <td>Moon Phase calculatorSeptember 29, 2020 0h</td>\n",
       "      <td>| waxing gibbous moon\\n91.87% illuminated</td>\n",
       "      <td>2020-09-29</td>\n",
       "      <td>0</td>\n",
       "      <td>10</td>\n",
       "      <td>2</td>\n",
       "      <td>100</td>\n",
       "      <td>rain</td>\n",
       "    </tr>\n",
       "    <tr>\n",
       "      <th>1</th>\n",
       "      <td>2020-09-29 01:00:00</td>\n",
       "      <td>10 °C\\n(1:00 am CEST | Tuesday, September 29, ...</td>\n",
       "      <td>average: 100% (100%)\\n(1:00 am CEST | Tuesday,...</td>\n",
       "      <td>3 m/s\\n(1:00 am CEST | Tuesday, September 29, ...</td>\n",
       "      <td>rain\\n(1:00 am CEST | Tuesday, September 29, 2...</td>\n",
       "      <td>Moon Phase calculatorSeptember 29, 2020 1h</td>\n",
       "      <td>| waxing gibbous moon\\n92.09% illuminated</td>\n",
       "      <td>2020-09-29</td>\n",
       "      <td>1</td>\n",
       "      <td>10</td>\n",
       "      <td>3</td>\n",
       "      <td>100</td>\n",
       "      <td>rain</td>\n",
       "    </tr>\n",
       "    <tr>\n",
       "      <th>2</th>\n",
       "      <td>2020-09-29 02:00:00</td>\n",
       "      <td>10 °C\\n(2:00 am CEST | Tuesday, September 29, ...</td>\n",
       "      <td>average: 100% (100%)\\n(2:00 am CEST | Tuesday,...</td>\n",
       "      <td>3 m/s\\n(2:00 am CEST | Tuesday, September 29, ...</td>\n",
       "      <td>rain\\n(2:00 am CEST | Tuesday, September 29, 2...</td>\n",
       "      <td>Moon Phase calculatorSeptember 29, 2020 2h</td>\n",
       "      <td>| waxing gibbous moon\\n92.30% illuminated</td>\n",
       "      <td>2020-09-29</td>\n",
       "      <td>2</td>\n",
       "      <td>10</td>\n",
       "      <td>3</td>\n",
       "      <td>100</td>\n",
       "      <td>rain</td>\n",
       "    </tr>\n",
       "  </tbody>\n",
       "</table>\n",
       "</div>"
      ],
      "text/plain": [
       "            Timestamp                                        temperature  \\\n",
       "0 2020-09-29 00:00:00  10 °C\\n(12:00 am CEST | Tuesday, September 29,...   \n",
       "1 2020-09-29 01:00:00  10 °C\\n(1:00 am CEST | Tuesday, September 29, ...   \n",
       "2 2020-09-29 02:00:00  10 °C\\n(2:00 am CEST | Tuesday, September 29, ...   \n",
       "\n",
       "                                            humidity  \\\n",
       "0  average: 100% (100%)\\n(12:00 am CEST | Tuesday...   \n",
       "1  average: 100% (100%)\\n(1:00 am CEST | Tuesday,...   \n",
       "2  average: 100% (100%)\\n(2:00 am CEST | Tuesday,...   \n",
       "\n",
       "                                          wind speed  \\\n",
       "0  2 m/s\\n(12:00 am CEST | Tuesday, September 29,...   \n",
       "1  3 m/s\\n(1:00 am CEST | Tuesday, September 29, ...   \n",
       "2  3 m/s\\n(2:00 am CEST | Tuesday, September 29, ...   \n",
       "\n",
       "                                Precipitation amount  \\\n",
       "0  rain\\n(12:00 am CEST | Tuesday, September 29, ...   \n",
       "1  rain\\n(1:00 am CEST | Tuesday, September 29, 2...   \n",
       "2  rain\\n(2:00 am CEST | Tuesday, September 29, 2...   \n",
       "\n",
       "                                        query  \\\n",
       "0  Moon Phase calculatorSeptember 29, 2020 0h   \n",
       "1  Moon Phase calculatorSeptember 29, 2020 1h   \n",
       "2  Moon Phase calculatorSeptember 29, 2020 2h   \n",
       "\n",
       "                       Moon Phase calculator       date  hour  temperature_C  \\\n",
       "0  | waxing gibbous moon\\n91.87% illuminated 2020-09-29     0             10   \n",
       "1  | waxing gibbous moon\\n92.09% illuminated 2020-09-29     1             10   \n",
       "2  | waxing gibbous moon\\n92.30% illuminated 2020-09-29     2             10   \n",
       "\n",
       "   wind_speed_mpers  humidity_avgpercent  rain  \n",
       "0                 2                  100  rain  \n",
       "1                 3                  100  rain  \n",
       "2                 3                  100  rain  "
      ]
     },
     "execution_count": 7,
     "metadata": {},
     "output_type": "execute_result"
    }
   ],
   "source": [
    "#add weather as environemntal factor\n",
    "path_ = r'C:\\Users\\camil\\Desktop\\vm_exchange\\PhD_Data\\Weather'\n",
    "path_weather = os.path.join(path_,'weather.csv')\n",
    "df_weather = pd.read_csv(path_weather, sep=';', parse_dates=['date'])\n",
    "df_weather = df_weather.drop_duplicates(subset=None, keep='first', inplace=False)\n",
    "#remove excpetions\n",
    "x = ', 1, 0,  , °, C, \\n, (, 1, 2, :, 0, 0,  , a, m,  , C, E, T , | , F, r, i, d, a, y, ,,  , O, c, t, o, b, e, r,  , 3, 0, ,,  , 2, 0, 2, 0, ),'\n",
    "df_weather['temperature'] = df_weather['temperature'].replace(x, x.replace(', ',''))\n",
    "x = '3×10^0 m/s\\n(1:00 pm CET | Sunday, January 10, 2021)'\n",
    "df_weather['wind speed'] = df_weather['wind speed'].replace(x, 'ERROR')\n",
    "#remove the rows with at least one error\n",
    "df_weather = df_weather[~df_weather.isin([\"ERROR\"]).any(axis=1)]\n",
    "#date\n",
    "df_weather.rename(columns={'date':'Timestamp'}, inplace=True)\n",
    "df_weather['date'] = df_weather['Timestamp'].map(lambda x: dt.datetime(x.year,x.month,x.day))\n",
    "df_weather['hour'] = df_weather['Timestamp'].map(lambda x: x.hour)\n",
    "#add usefull variable\n",
    "df_weather['temperature_C'] = df_weather['temperature'].map(lambda x: int(x.split('\\n')[0].split(' ')[0]))\n",
    "df_weather['wind_speed_mpers'] = df_weather['wind speed'].map(lambda x: int(x.split('\\n')[0].split(' ')[0]))\n",
    "df_weather['humidity_avgpercent'] = df_weather['humidity'].map(lambda x: int(x.split('%')[0].split(' ')[-1].strip()))\n",
    "df_weather['rain'] = df_weather['Precipitation amount'].map(lambda x: x.split('\\n')[0])\n",
    "df_weather['rain'] = df_weather['rain'].replace('rain | snow','snow | rain')\n",
    "df_weather.to_csv(os.path.join(path_,'Weather_process.csv'), index=False, sep=';')\n",
    "print(df_weather.shape)\n",
    "df_weather.head(3)"
   ]
  },
  {
   "cell_type": "code",
   "execution_count": 8,
   "metadata": {},
   "outputs": [
    {
     "data": {
      "text/html": [
       "<div>\n",
       "<style scoped>\n",
       "    .dataframe tbody tr th:only-of-type {\n",
       "        vertical-align: middle;\n",
       "    }\n",
       "\n",
       "    .dataframe tbody tr th {\n",
       "        vertical-align: top;\n",
       "    }\n",
       "\n",
       "    .dataframe thead th {\n",
       "        text-align: right;\n",
       "    }\n",
       "</style>\n",
       "<table border=\"1\" class=\"dataframe\">\n",
       "  <thead>\n",
       "    <tr style=\"text-align: right;\">\n",
       "      <th></th>\n",
       "      <th>Timestamp</th>\n",
       "      <th>temperature</th>\n",
       "      <th>humidity</th>\n",
       "      <th>wind speed</th>\n",
       "      <th>Precipitation amount</th>\n",
       "      <th>query</th>\n",
       "      <th>Moon Phase calculator</th>\n",
       "      <th>date</th>\n",
       "      <th>hour</th>\n",
       "      <th>temperature_C</th>\n",
       "      <th>wind_speed_mpers</th>\n",
       "      <th>humidity_avgpercent</th>\n",
       "      <th>rain</th>\n",
       "      <th>MoonName</th>\n",
       "      <th>Illumination_percentage</th>\n",
       "      <th>croissant_decroissant</th>\n",
       "    </tr>\n",
       "  </thead>\n",
       "  <tbody>\n",
       "    <tr>\n",
       "      <th>0</th>\n",
       "      <td>2020-09-29 00:00:00</td>\n",
       "      <td>10 °C\\n(12:00 am CEST | Tuesday, September 29,...</td>\n",
       "      <td>average: 100% (100%)\\n(12:00 am CEST | Tuesday...</td>\n",
       "      <td>2 m/s\\n(12:00 am CEST | Tuesday, September 29,...</td>\n",
       "      <td>rain\\n(12:00 am CEST | Tuesday, September 29, ...</td>\n",
       "      <td>Moon Phase calculatorSeptember 29, 2020 0h</td>\n",
       "      <td>| waxing gibbous moon\\n91.87% illuminated</td>\n",
       "      <td>2020-09-29</td>\n",
       "      <td>0</td>\n",
       "      <td>10</td>\n",
       "      <td>2</td>\n",
       "      <td>100</td>\n",
       "      <td>rain</td>\n",
       "      <td>waxing gibbous moon</td>\n",
       "      <td>91.87</td>\n",
       "      <td>LC</td>\n",
       "    </tr>\n",
       "    <tr>\n",
       "      <th>1</th>\n",
       "      <td>2020-09-29 01:00:00</td>\n",
       "      <td>10 °C\\n(1:00 am CEST | Tuesday, September 29, ...</td>\n",
       "      <td>average: 100% (100%)\\n(1:00 am CEST | Tuesday,...</td>\n",
       "      <td>3 m/s\\n(1:00 am CEST | Tuesday, September 29, ...</td>\n",
       "      <td>rain\\n(1:00 am CEST | Tuesday, September 29, 2...</td>\n",
       "      <td>Moon Phase calculatorSeptember 29, 2020 1h</td>\n",
       "      <td>| waxing gibbous moon\\n92.09% illuminated</td>\n",
       "      <td>2020-09-29</td>\n",
       "      <td>1</td>\n",
       "      <td>10</td>\n",
       "      <td>3</td>\n",
       "      <td>100</td>\n",
       "      <td>rain</td>\n",
       "      <td>waxing gibbous moon</td>\n",
       "      <td>92.09</td>\n",
       "      <td>LC</td>\n",
       "    </tr>\n",
       "    <tr>\n",
       "      <th>2</th>\n",
       "      <td>2020-09-29 02:00:00</td>\n",
       "      <td>10 °C\\n(2:00 am CEST | Tuesday, September 29, ...</td>\n",
       "      <td>average: 100% (100%)\\n(2:00 am CEST | Tuesday,...</td>\n",
       "      <td>3 m/s\\n(2:00 am CEST | Tuesday, September 29, ...</td>\n",
       "      <td>rain\\n(2:00 am CEST | Tuesday, September 29, 2...</td>\n",
       "      <td>Moon Phase calculatorSeptember 29, 2020 2h</td>\n",
       "      <td>| waxing gibbous moon\\n92.30% illuminated</td>\n",
       "      <td>2020-09-29</td>\n",
       "      <td>2</td>\n",
       "      <td>10</td>\n",
       "      <td>3</td>\n",
       "      <td>100</td>\n",
       "      <td>rain</td>\n",
       "      <td>waxing gibbous moon</td>\n",
       "      <td>92.30</td>\n",
       "      <td>LC</td>\n",
       "    </tr>\n",
       "  </tbody>\n",
       "</table>\n",
       "</div>"
      ],
      "text/plain": [
       "            Timestamp                                        temperature  \\\n",
       "0 2020-09-29 00:00:00  10 °C\\n(12:00 am CEST | Tuesday, September 29,...   \n",
       "1 2020-09-29 01:00:00  10 °C\\n(1:00 am CEST | Tuesday, September 29, ...   \n",
       "2 2020-09-29 02:00:00  10 °C\\n(2:00 am CEST | Tuesday, September 29, ...   \n",
       "\n",
       "                                            humidity  \\\n",
       "0  average: 100% (100%)\\n(12:00 am CEST | Tuesday...   \n",
       "1  average: 100% (100%)\\n(1:00 am CEST | Tuesday,...   \n",
       "2  average: 100% (100%)\\n(2:00 am CEST | Tuesday,...   \n",
       "\n",
       "                                          wind speed  \\\n",
       "0  2 m/s\\n(12:00 am CEST | Tuesday, September 29,...   \n",
       "1  3 m/s\\n(1:00 am CEST | Tuesday, September 29, ...   \n",
       "2  3 m/s\\n(2:00 am CEST | Tuesday, September 29, ...   \n",
       "\n",
       "                                Precipitation amount  \\\n",
       "0  rain\\n(12:00 am CEST | Tuesday, September 29, ...   \n",
       "1  rain\\n(1:00 am CEST | Tuesday, September 29, 2...   \n",
       "2  rain\\n(2:00 am CEST | Tuesday, September 29, 2...   \n",
       "\n",
       "                                        query  \\\n",
       "0  Moon Phase calculatorSeptember 29, 2020 0h   \n",
       "1  Moon Phase calculatorSeptember 29, 2020 1h   \n",
       "2  Moon Phase calculatorSeptember 29, 2020 2h   \n",
       "\n",
       "                       Moon Phase calculator       date  hour  temperature_C  \\\n",
       "0  | waxing gibbous moon\\n91.87% illuminated 2020-09-29     0             10   \n",
       "1  | waxing gibbous moon\\n92.09% illuminated 2020-09-29     1             10   \n",
       "2  | waxing gibbous moon\\n92.30% illuminated 2020-09-29     2             10   \n",
       "\n",
       "   wind_speed_mpers  humidity_avgpercent  rain             MoonName  \\\n",
       "0                 2                  100  rain  waxing gibbous moon   \n",
       "1                 3                  100  rain  waxing gibbous moon   \n",
       "2                 3                  100  rain  waxing gibbous moon   \n",
       "\n",
       "   Illumination_percentage croissant_decroissant  \n",
       "0                    91.87                    LC  \n",
       "1                    92.09                    LC  \n",
       "2                    92.30                    LC  "
      ]
     },
     "execution_count": 8,
     "metadata": {},
     "output_type": "execute_result"
    }
   ],
   "source": [
    "df_weather['MoonName'] = df_weather['Moon Phase calculator'].map(lambda x: x.strip('|').strip(' ').split('\\n')[0] if x!='ERROR' else 'ERROR')\n",
    "df_weather['Illumination_percentage'] = df_weather['Moon Phase calculator'].map(lambda x: float(x.strip('|').strip(' ').split('\\n')[1].replace(' illuminated','').strip('%').strip(' ')) if x!='ERROR' else 'ERROR')\n",
    "#print(df['MoaonName'].value_counts())\n",
    "#df['Illumination_percentage'].value_counts()\n",
    "\n",
    "dico_CD = {'ERROR':'ERROR', \n",
    "           'first quarter moon':'LC', \n",
    "           'full moon':'Lchangement', \n",
    "           'last quarter moon':'DC',\n",
    "           'new moon':'Lchangement', \n",
    "           'waning crescent moon':'DC', \n",
    "           'waning gibbous moon':'DC',\n",
    "           'waxing crescent moon':'LC', \n",
    "           'waxing gibbous moon':'LC'}\n",
    "#it seems that the order of the events are as follow:\n",
    "#full moon, waning gibbous moon, last quarter moon, waning crescent moon, \n",
    "#new moon, waxing crescent moon, first quarter moon, waxing gibbous moon,\n",
    "#full moon,...\n",
    "#defintion: De la Nouvelle Lune (éclat minimum) à la Pleine Lune (éclat maximum) on dit que la Lune est Croissante car \n",
    "#sa partie éclairée grossit de jour en jour. De la Pleine Lune à la Nouvelle Lune, on dit que la Lune est Décroissante.\n",
    "df_weather['croissant_decroissant'] = df_weather['MoonName'].map(lambda x: dico_CD[x])\n",
    "#lucie ascendatne et descendante n'est pas indiqué ici.\n",
    "df_weather.head(3)"
   ]
  },
  {
   "cell_type": "code",
   "execution_count": 9,
   "metadata": {},
   "outputs": [
    {
     "data": {
      "text/plain": [
       "DC             2571\n",
       "LC             2553\n",
       "Lchangement     304\n",
       "Name: croissant_decroissant, dtype: int64"
      ]
     },
     "execution_count": 9,
     "metadata": {},
     "output_type": "execute_result"
    }
   ],
   "source": [
    "df_weather['croissant_decroissant'].value_counts()"
   ]
  },
  {
   "cell_type": "code",
   "execution_count": 10,
   "metadata": {},
   "outputs": [
    {
     "data": {
      "text/html": [
       "<div>\n",
       "<style scoped>\n",
       "    .dataframe tbody tr th:only-of-type {\n",
       "        vertical-align: middle;\n",
       "    }\n",
       "\n",
       "    .dataframe tbody tr th {\n",
       "        vertical-align: top;\n",
       "    }\n",
       "\n",
       "    .dataframe thead th {\n",
       "        text-align: right;\n",
       "    }\n",
       "</style>\n",
       "<table border=\"1\" class=\"dataframe\">\n",
       "  <thead>\n",
       "    <tr style=\"text-align: right;\">\n",
       "      <th></th>\n",
       "      <th>MoonName</th>\n",
       "      <th>Illumination_percentage</th>\n",
       "      <th>min_illumination</th>\n",
       "      <th>max_illumination</th>\n",
       "    </tr>\n",
       "  </thead>\n",
       "  <tbody>\n",
       "    <tr>\n",
       "      <th>0</th>\n",
       "      <td>first quarter moon</td>\n",
       "      <td>[44.7, 45.14, 45.58, 46.02, 46.46, 46.9, 47.34...</td>\n",
       "      <td>44.69</td>\n",
       "      <td>55.24</td>\n",
       "    </tr>\n",
       "    <tr>\n",
       "      <th>1</th>\n",
       "      <td>full moon</td>\n",
       "      <td>[99.74, 99.76, 99.78, 99.79, 99.81, 99.82, 99....</td>\n",
       "      <td>99.72</td>\n",
       "      <td>99.99</td>\n",
       "    </tr>\n",
       "    <tr>\n",
       "      <th>2</th>\n",
       "      <td>last quarter moon</td>\n",
       "      <td>[55.07, 54.65, 54.23, 53.81, 53.39, 52.96, 52....</td>\n",
       "      <td>44.73</td>\n",
       "      <td>55.22</td>\n",
       "    </tr>\n",
       "    <tr>\n",
       "      <th>3</th>\n",
       "      <td>new moon</td>\n",
       "      <td>[0.27, 0.23, 0.21, 0.18, 0.16, 0.15, 0.14, 0.1...</td>\n",
       "      <td>0.00</td>\n",
       "      <td>0.28</td>\n",
       "    </tr>\n",
       "    <tr>\n",
       "      <th>4</th>\n",
       "      <td>waning crescent moon</td>\n",
       "      <td>[44.38, 43.95, 43.51, 43.08, 42.65, 42.21, 41....</td>\n",
       "      <td>0.29</td>\n",
       "      <td>44.68</td>\n",
       "    </tr>\n",
       "    <tr>\n",
       "      <th>5</th>\n",
       "      <td>waning gibbous moon</td>\n",
       "      <td>[99.71, 99.68, 99.65, 99.61, 99.58, 99.54, 99....</td>\n",
       "      <td>55.34</td>\n",
       "      <td>99.72</td>\n",
       "    </tr>\n",
       "    <tr>\n",
       "      <th>6</th>\n",
       "      <td>waxing crescent moon</td>\n",
       "      <td>[0.32, 0.37, 0.42, 0.48, 0.54, 0.61, 0.68, 0.7...</td>\n",
       "      <td>0.28</td>\n",
       "      <td>44.64</td>\n",
       "    </tr>\n",
       "    <tr>\n",
       "      <th>7</th>\n",
       "      <td>waxing gibbous moon</td>\n",
       "      <td>[91.87, 92.09, 92.3, 92.51, 92.73, 92.93, 93.1...</td>\n",
       "      <td>55.34</td>\n",
       "      <td>99.71</td>\n",
       "    </tr>\n",
       "  </tbody>\n",
       "</table>\n",
       "</div>"
      ],
      "text/plain": [
       "               MoonName                            Illumination_percentage  \\\n",
       "0    first quarter moon  [44.7, 45.14, 45.58, 46.02, 46.46, 46.9, 47.34...   \n",
       "1             full moon  [99.74, 99.76, 99.78, 99.79, 99.81, 99.82, 99....   \n",
       "2     last quarter moon  [55.07, 54.65, 54.23, 53.81, 53.39, 52.96, 52....   \n",
       "3              new moon  [0.27, 0.23, 0.21, 0.18, 0.16, 0.15, 0.14, 0.1...   \n",
       "4  waning crescent moon  [44.38, 43.95, 43.51, 43.08, 42.65, 42.21, 41....   \n",
       "5   waning gibbous moon  [99.71, 99.68, 99.65, 99.61, 99.58, 99.54, 99....   \n",
       "6  waxing crescent moon  [0.32, 0.37, 0.42, 0.48, 0.54, 0.61, 0.68, 0.7...   \n",
       "7   waxing gibbous moon  [91.87, 92.09, 92.3, 92.51, 92.73, 92.93, 93.1...   \n",
       "\n",
       "   min_illumination  max_illumination  \n",
       "0             44.69             55.24  \n",
       "1             99.72             99.99  \n",
       "2             44.73             55.22  \n",
       "3              0.00              0.28  \n",
       "4              0.29             44.68  \n",
       "5             55.34             99.72  \n",
       "6              0.28             44.64  \n",
       "7             55.34             99.71  "
      ]
     },
     "execution_count": 10,
     "metadata": {},
     "output_type": "execute_result"
    }
   ],
   "source": [
    "#to get a general udnerstanding of the data\n",
    "df_moon = df_weather.groupby(['MoonName'])['Illumination_percentage'].agg(lambda x: list(x)).reset_index()\n",
    "df_moon['min_illumination'] = df_moon['Illumination_percentage'].map(lambda x: min(x) if x!='ERROR' else 'ERROR' )\n",
    "df_moon['max_illumination'] = df_moon['Illumination_percentage'].map(lambda x: max(x) if x!='ERROR' else 'ERROR' )\n",
    "df_moon"
   ]
  },
  {
   "cell_type": "code",
   "execution_count": 11,
   "metadata": {},
   "outputs": [
    {
     "data": {
      "text/plain": [
       "'Moon Phase calculatorSeptember 29, 2020 0h'"
      ]
     },
     "execution_count": 11,
     "metadata": {},
     "output_type": "execute_result"
    }
   ],
   "source": [
    "df_weather['query'].iloc[0]"
   ]
  },
  {
   "cell_type": "code",
   "execution_count": 12,
   "metadata": {},
   "outputs": [
    {
     "name": "stdout",
     "output_type": "stream",
     "text": [
      "(227, 6)\n"
     ]
    },
    {
     "data": {
      "text/html": [
       "<div>\n",
       "<style scoped>\n",
       "    .dataframe tbody tr th:only-of-type {\n",
       "        vertical-align: middle;\n",
       "    }\n",
       "\n",
       "    .dataframe tbody tr th {\n",
       "        vertical-align: top;\n",
       "    }\n",
       "\n",
       "    .dataframe thead th {\n",
       "        text-align: right;\n",
       "    }\n",
       "</style>\n",
       "<table border=\"1\" class=\"dataframe\">\n",
       "  <thead>\n",
       "    <tr style=\"text-align: right;\">\n",
       "      <th></th>\n",
       "      <th>date</th>\n",
       "      <th>temperature_C</th>\n",
       "      <th>humidity_avgpercent</th>\n",
       "      <th>had_rainorsnow</th>\n",
       "      <th>moon_name</th>\n",
       "      <th>Illumination_percentage</th>\n",
       "    </tr>\n",
       "  </thead>\n",
       "  <tbody>\n",
       "    <tr>\n",
       "      <th>0</th>\n",
       "      <td>2020-09-29</td>\n",
       "      <td>12.000</td>\n",
       "      <td>92.125</td>\n",
       "      <td>0</td>\n",
       "      <td>waxing gibbous moon</td>\n",
       "      <td>94.56625</td>\n",
       "    </tr>\n",
       "    <tr>\n",
       "      <th>1</th>\n",
       "      <td>2020-09-30</td>\n",
       "      <td>12.250</td>\n",
       "      <td>80.125</td>\n",
       "      <td>1</td>\n",
       "      <td>waxing gibbous moon</td>\n",
       "      <td>98.01625</td>\n",
       "    </tr>\n",
       "    <tr>\n",
       "      <th>2</th>\n",
       "      <td>2020-10-01</td>\n",
       "      <td>14.125</td>\n",
       "      <td>74.875</td>\n",
       "      <td>0</td>\n",
       "      <td>waxing gibbous moon</td>\n",
       "      <td>99.66250</td>\n",
       "    </tr>\n",
       "  </tbody>\n",
       "</table>\n",
       "</div>"
      ],
      "text/plain": [
       "        date  temperature_C  humidity_avgpercent  had_rainorsnow  \\\n",
       "0 2020-09-29         12.000               92.125               0   \n",
       "1 2020-09-30         12.250               80.125               1   \n",
       "2 2020-10-01         14.125               74.875               0   \n",
       "\n",
       "             moon_name  Illumination_percentage  \n",
       "0  waxing gibbous moon                 94.56625  \n",
       "1  waxing gibbous moon                 98.01625  \n",
       "2  waxing gibbous moon                 99.66250  "
      ]
     },
     "execution_count": 12,
     "metadata": {},
     "output_type": "execute_result"
    }
   ],
   "source": [
    "df_daily_weather = df_weather[df_weather['hour'].isin([10,11,12,13,14,15,16,17])].copy()\n",
    "df_daily_weather = df_daily_weather.groupby(['date']).agg(\n",
    "    temperature_C=pd.NamedAgg(column='temperature_C', aggfunc=lambda x: np.mean(x)),\n",
    "    humidity_avgpercent=pd.NamedAgg(column='humidity_avgpercent', aggfunc=lambda x: np.mean(x)),\n",
    "    had_rainorsnow=pd.NamedAgg(column='rain', aggfunc=lambda x: int(all([i=='no precipitation' for i in x]))),\n",
    "    moon_name=pd.NamedAgg(column='MoonName', aggfunc=lambda x: list(x)[0]),\n",
    "    Illumination_percentage=pd.NamedAgg(column='Illumination_percentage', aggfunc=lambda x: np.mean(x))).reset_index()\n",
    "df_daily_weather.to_csv(os.path.join(path_,'df_daily_weather.csv'), index=False, sep=';')\n",
    "print(df_daily_weather.shape)\n",
    "df_daily_weather.head(3)"
   ]
  },
  {
   "cell_type": "code",
   "execution_count": 13,
   "metadata": {},
   "outputs": [
    {
     "data": {
      "text/plain": [
       "had_rainorsnow\n",
       "0    81.691406\n",
       "1    66.024869\n",
       "Name: humidity_avgpercent, dtype: float64"
      ]
     },
     "execution_count": 13,
     "metadata": {},
     "output_type": "execute_result"
    }
   ],
   "source": [
    "df_daily_weather.groupby(['had_rainorsnow'])['humidity_avgpercent'].agg(lambda x: np.mean(x))"
   ]
  },
  {
   "cell_type": "code",
   "execution_count": null,
   "metadata": {},
   "outputs": [],
   "source": []
  },
  {
   "cell_type": "code",
   "execution_count": null,
   "metadata": {},
   "outputs": [],
   "source": []
  },
  {
   "cell_type": "code",
   "execution_count": null,
   "metadata": {},
   "outputs": [],
   "source": []
  },
  {
   "cell_type": "code",
   "execution_count": null,
   "metadata": {},
   "outputs": [],
   "source": []
  },
  {
   "cell_type": "code",
   "execution_count": null,
   "metadata": {},
   "outputs": [],
   "source": []
  },
  {
   "cell_type": "code",
   "execution_count": null,
   "metadata": {},
   "outputs": [],
   "source": []
  },
  {
   "cell_type": "code",
   "execution_count": null,
   "metadata": {},
   "outputs": [],
   "source": []
  }
 ],
 "metadata": {
  "kernelspec": {
   "display_name": "Python 3",
   "language": "python",
   "name": "python3"
  },
  "language_info": {
   "codemirror_mode": {
    "name": "ipython",
    "version": 3
   },
   "file_extension": ".py",
   "mimetype": "text/x-python",
   "name": "python",
   "nbconvert_exporter": "python",
   "pygments_lexer": "ipython3",
   "version": "3.8.5"
  }
 },
 "nbformat": 4,
 "nbformat_minor": 2
}
