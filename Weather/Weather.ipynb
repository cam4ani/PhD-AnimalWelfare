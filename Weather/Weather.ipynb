{
 "cells": [
  {
   "cell_type": "code",
   "execution_count": 1,
   "metadata": {},
   "outputs": [],
   "source": [
    "#!pip install wolframalpha\n",
    "import datetime as dt\n",
    "import tqdm\n",
    "import os\n",
    "import pandas as pd\n",
    "import glob\n",
    "import numpy as np\n",
    "import sys\n",
    "\n",
    "import wolframalpha\n",
    "app_id = 'JU4PR2-E8JGQVLHXW'\n",
    "client = wolframalpha.Client(app_id)"
   ]
  },
  {
   "cell_type": "code",
   "execution_count": 2,
   "metadata": {},
   "outputs": [
    {
     "name": "stdout",
     "output_type": "stream",
     "text": [
      "3.8.5\n"
     ]
    }
   ],
   "source": [
    "from platform import python_version\n",
    "print(python_version())"
   ]
  },
  {
   "cell_type": "raw",
   "metadata": {},
   "source": [
    "To verify moon data:\n",
    "https://www.calendrier-lunaire.fr/calendrier/octobre-2020/\n",
    "https://www.pleine-lune.org/calendrier-lunaire-2020\n",
    "https://www.timeanddate.com/astronomy/moon/waning-crescent.html"
   ]
  },
  {
   "cell_type": "raw",
   "metadata": {},
   "source": [
    "#url parameter:\n",
    "#https://products.wolframalpha.com/simple-api/documentation/\n",
    "#http://api.wolframalpha.com/v2/query?appid=DEMO&input=population%20france&includepodid=Result\n",
    "http://api.wolframalpha.com/v2/query?appid=JU4PR2-E8JGQVLHXW&input=temperature%20Zollikofen&includepodid=Result"
   ]
  },
  {
   "cell_type": "markdown",
   "metadata": {},
   "source": [
    "#small example\n",
    "query = 'Precipitation amount in Zollikofen on October 6, 2020 1h'\n",
    "res = client.query(query)\n",
    "for t in res.results:\n",
    "    print(t.text)"
   ]
  },
  {
   "cell_type": "markdown",
   "metadata": {},
   "source": [
    "#small example\n",
    "query = 'Precipitation amount in Zollikofen '+d.strftime('%B')+' '+str(d.day)+', '+str(d.year)+' '+str(d.hour)+'h'\n",
    "res = client.query(query)\n",
    "for t in res.results:\n",
    "    print(t.text)"
   ]
  },
  {
   "cell_type": "markdown",
   "metadata": {},
   "source": [
    "#small example\n",
    "d = dt.datetime(2020,1,24,22,44,11)\n",
    "query = 'Moon Phase calculator'+d.strftime('%B')+' '+str(d.day)+', '+str(d.year)+' '+str(d.hour)+'h'\n",
    "res = client.query(query)\n",
    "r = ''\n",
    "for t in res.results:\n",
    "    print(t.text.strip('|').strip(' '))\n",
    "#for verification\n",
    "#https://www.pleine-lune.org/calendrier-lunaire-2020\n",
    "#res"
   ]
  },
  {
   "cell_type": "code",
   "execution_count": 3,
   "metadata": {},
   "outputs": [],
   "source": [
    "li_type = ['Precipitation amount', 'temperature', 'humidity', 'wind speed','Moon Phase calculator'] #pressure\n",
    "#path_ = r'D:\\vm_exchange\\PhD_Data\\Weather'\n",
    "path_ = r'C:\\Users\\camil\\Desktop\\vm_exchange\\PhD_Data\\Weather'"
   ]
  },
  {
   "cell_type": "code",
   "execution_count": 4,
   "metadata": {},
   "outputs": [
    {
     "name": "stdout",
     "output_type": "stream",
     "text": [
      "(5027, 7)\n",
      "We already have 5027 dates of weather\n",
      "(37, 7)\n"
     ]
    },
    {
     "data": {
      "text/html": [
       "<div>\n",
       "<style scoped>\n",
       "    .dataframe tbody tr th:only-of-type {\n",
       "        vertical-align: middle;\n",
       "    }\n",
       "\n",
       "    .dataframe tbody tr th {\n",
       "        vertical-align: top;\n",
       "    }\n",
       "\n",
       "    .dataframe thead th {\n",
       "        text-align: right;\n",
       "    }\n",
       "</style>\n",
       "<table border=\"1\" class=\"dataframe\">\n",
       "  <thead>\n",
       "    <tr style=\"text-align: right;\">\n",
       "      <th></th>\n",
       "      <th>date</th>\n",
       "      <th>temperature</th>\n",
       "      <th>humidity</th>\n",
       "      <th>wind speed</th>\n",
       "      <th>Precipitation amount</th>\n",
       "      <th>query</th>\n",
       "      <th>Moon Phase calculator</th>\n",
       "    </tr>\n",
       "  </thead>\n",
       "  <tbody>\n",
       "    <tr>\n",
       "      <th>4819</th>\n",
       "      <td>2020-11-05 22:00:00</td>\n",
       "      <td>8 °C\\n(10:00 pm CET | Thursday, November 5, 2020)</td>\n",
       "      <td>ERROR</td>\n",
       "      <td>1 m/s\\n(10:00 pm CET | Thursday, November 5, 2...</td>\n",
       "      <td>ERROR</td>\n",
       "      <td>Moon Phase calculatorNovember 5, 2020 22h</td>\n",
       "      <td>| waning gibbous moon\\n76.55% illuminated</td>\n",
       "    </tr>\n",
       "    <tr>\n",
       "      <th>4820</th>\n",
       "      <td>2020-11-16 19:00:00</td>\n",
       "      <td>7 °C\\n(7:00 pm CET | Monday, November 16, 2020)</td>\n",
       "      <td>ERROR</td>\n",
       "      <td>1 m/s\\n(7:00 pm CET | Monday, November 16, 2020)</td>\n",
       "      <td>ERROR</td>\n",
       "      <td>Moon Phase calculatorNovember 16, 2020 19h</td>\n",
       "      <td>| waxing crescent moon\\n3.48% illuminated</td>\n",
       "    </tr>\n",
       "    <tr>\n",
       "      <th>4822</th>\n",
       "      <td>2020-11-16 21:00:00</td>\n",
       "      <td>5 °C\\n(9:00 pm CET | Monday, November 16, 2020)</td>\n",
       "      <td>ERROR</td>\n",
       "      <td>0 m/s\\n(9:00 pm CET | Monday, November 16, 2020)</td>\n",
       "      <td>(unknown)\\n(9:00 pm CET | Monday, November 16,...</td>\n",
       "      <td>Moon Phase calculatorNovember 16, 2020 21h</td>\n",
       "      <td>| waxing crescent moon\\n3.86% illuminated</td>\n",
       "    </tr>\n",
       "    <tr>\n",
       "      <th>4823</th>\n",
       "      <td>2020-12-15 21:00:00</td>\n",
       "      <td>4 °C\\n(9:00 pm CET | Tuesday, December 15, 2020)</td>\n",
       "      <td>ERROR</td>\n",
       "      <td>1 m/s\\n(9:00 pm CET | Tuesday, December 15, 2020)</td>\n",
       "      <td>(unknown)\\n(9:00 pm CET | Tuesday, December 15...</td>\n",
       "      <td>Moon Phase calculatorDecember 15, 2020 21h</td>\n",
       "      <td>ERROR</td>\n",
       "    </tr>\n",
       "    <tr>\n",
       "      <th>4824</th>\n",
       "      <td>2021-02-08 17:00:00</td>\n",
       "      <td>5 °C\\n(5:00 pm CET | Monday, February 8, 2021)</td>\n",
       "      <td>ERROR</td>\n",
       "      <td>5 m/s\\n(5:00 pm CET | Monday, February 8, 2021)</td>\n",
       "      <td>(unknown)\\n(5:00 pm CET | Monday, February 8, ...</td>\n",
       "      <td>Moon Phase calculatorFebruary 8, 2021 17h</td>\n",
       "      <td>| waning crescent moon\\n11.27% illuminated</td>\n",
       "    </tr>\n",
       "    <tr>\n",
       "      <th>4825</th>\n",
       "      <td>2021-02-08 18:00:00</td>\n",
       "      <td>4 °C\\n(6:00 pm CET | Monday, February 8, 2021)</td>\n",
       "      <td>ERROR</td>\n",
       "      <td>5 m/s\\n(6:00 pm CET | Monday, February 8, 2021)</td>\n",
       "      <td>(unknown)\\n(6:00 pm CET | Monday, February 8, ...</td>\n",
       "      <td>Moon Phase calculatorFebruary 8, 2021 18h</td>\n",
       "      <td>| waning crescent moon\\n10.98% illuminated</td>\n",
       "    </tr>\n",
       "    <tr>\n",
       "      <th>4826</th>\n",
       "      <td>2021-02-08 19:00:00</td>\n",
       "      <td>3 °C\\n(7:00 pm CET | Monday, February 8, 2021)</td>\n",
       "      <td>ERROR</td>\n",
       "      <td>4 m/s\\n(7:00 pm CET | Monday, February 8, 2021)</td>\n",
       "      <td>(unknown)\\n(7:00 pm CET | Monday, February 8, ...</td>\n",
       "      <td>Moon Phase calculatorFebruary 8, 2021 19h</td>\n",
       "      <td>| waning crescent moon\\n10.69% illuminated</td>\n",
       "    </tr>\n",
       "    <tr>\n",
       "      <th>4827</th>\n",
       "      <td>2021-02-08 20:00:00</td>\n",
       "      <td>2 °C\\n(8:00 pm CET | Monday, February 8, 2021)</td>\n",
       "      <td>ERROR</td>\n",
       "      <td>4 m/s\\n(8:00 pm CET | Monday, February 8, 2021)</td>\n",
       "      <td>(unknown)\\n(8:00 pm CET | Monday, February 8, ...</td>\n",
       "      <td>Moon Phase calculatorFebruary 8, 2021 20h</td>\n",
       "      <td>| waning crescent moon\\n10.41% illuminated</td>\n",
       "    </tr>\n",
       "    <tr>\n",
       "      <th>4828</th>\n",
       "      <td>2021-02-09 09:00:00</td>\n",
       "      <td>0 °C\\n(9:00 am CET | Tuesday, February 9, 2021)</td>\n",
       "      <td>ERROR</td>\n",
       "      <td>1 m/s\\n(9:00 am CET | Tuesday, February 9, 2021)</td>\n",
       "      <td>(unknown)\\n(9:00 am CET | Tuesday, February 9,...</td>\n",
       "      <td>Moon Phase calculatorFebruary 9, 2021 9h</td>\n",
       "      <td>| waning crescent moon\\n7.06% illuminated</td>\n",
       "    </tr>\n",
       "    <tr>\n",
       "      <th>4829</th>\n",
       "      <td>2021-02-09 10:00:00</td>\n",
       "      <td>0 °C\\n(10:00 am CET | Tuesday, February 9, 2021)</td>\n",
       "      <td>ERROR</td>\n",
       "      <td>1 m/s\\n(10:00 am CET | Tuesday, February 9, 2021)</td>\n",
       "      <td>(unknown)\\n(10:00 am CET | Tuesday, February 9...</td>\n",
       "      <td>Moon Phase calculatorFebruary 9, 2021 10h</td>\n",
       "      <td>| waning crescent moon\\n6.82% illuminated</td>\n",
       "    </tr>\n",
       "    <tr>\n",
       "      <th>4830</th>\n",
       "      <td>2021-02-09 11:00:00</td>\n",
       "      <td>0 °C\\n(11:00 am CET | Tuesday, February 9, 2021)</td>\n",
       "      <td>ERROR</td>\n",
       "      <td>1 m/s\\n(11:00 am CET | Tuesday, February 9, 2021)</td>\n",
       "      <td>(unknown)\\n(11:00 am CET | Tuesday, February 9...</td>\n",
       "      <td>Moon Phase calculatorFebruary 9, 2021 11h</td>\n",
       "      <td>| waning crescent moon\\n6.60% illuminated</td>\n",
       "    </tr>\n",
       "    <tr>\n",
       "      <th>4831</th>\n",
       "      <td>2021-02-09 12:00:00</td>\n",
       "      <td>0 °C\\n(12:00 pm CET | Tuesday, February 9, 2021)</td>\n",
       "      <td>ERROR</td>\n",
       "      <td>1 m/s\\n(12:00 pm CET | Tuesday, February 9, 2021)</td>\n",
       "      <td>(unknown)\\n(12:00 pm CET | Tuesday, February 9...</td>\n",
       "      <td>Moon Phase calculatorFebruary 9, 2021 12h</td>\n",
       "      <td>| waning crescent moon\\n6.37% illuminated</td>\n",
       "    </tr>\n",
       "    <tr>\n",
       "      <th>4832</th>\n",
       "      <td>2021-02-09 13:00:00</td>\n",
       "      <td>0 °C\\n(1:00 pm CET | Tuesday, February 9, 2021)</td>\n",
       "      <td>ERROR</td>\n",
       "      <td>2 m/s\\n(1:00 pm CET | Tuesday, February 9, 2021)</td>\n",
       "      <td>(unknown)\\n(1:00 pm CET | Tuesday, February 9,...</td>\n",
       "      <td>Moon Phase calculatorFebruary 9, 2021 13h</td>\n",
       "      <td>| waning crescent moon\\n6.15% illuminated</td>\n",
       "    </tr>\n",
       "    <tr>\n",
       "      <th>4833</th>\n",
       "      <td>2021-02-09 15:00:00</td>\n",
       "      <td>0 °C\\n(3:00 pm CET | Tuesday, February 9, 2021)</td>\n",
       "      <td>ERROR</td>\n",
       "      <td>2 m/s\\n(3:00 pm CET | Tuesday, February 9, 2021)</td>\n",
       "      <td>(unknown)\\n(3:00 pm CET | Tuesday, February 9,...</td>\n",
       "      <td>Moon Phase calculatorFebruary 9, 2021 15h</td>\n",
       "      <td>| waning crescent moon\\n5.72% illuminated</td>\n",
       "    </tr>\n",
       "    <tr>\n",
       "      <th>4834</th>\n",
       "      <td>2021-02-09 16:00:00</td>\n",
       "      <td>0 °C\\n(4:00 pm CET | Tuesday, February 9, 2021)</td>\n",
       "      <td>ERROR</td>\n",
       "      <td>2 m/s\\n(4:00 pm CET | Tuesday, February 9, 2021)</td>\n",
       "      <td>(unknown)\\n(4:00 pm CET | Tuesday, February 9,...</td>\n",
       "      <td>Moon Phase calculatorFebruary 9, 2021 16h</td>\n",
       "      <td>| waning crescent moon\\n5.51% illuminated</td>\n",
       "    </tr>\n",
       "    <tr>\n",
       "      <th>4835</th>\n",
       "      <td>2021-02-09 17:00:00</td>\n",
       "      <td>0 °C\\n(5:00 pm CET | Tuesday, February 9, 2021)</td>\n",
       "      <td>ERROR</td>\n",
       "      <td>3 m/s\\n(5:00 pm CET | Tuesday, February 9, 2021)</td>\n",
       "      <td>(unknown)\\n(5:00 pm CET | Tuesday, February 9,...</td>\n",
       "      <td>Moon Phase calculatorFebruary 9, 2021 17h</td>\n",
       "      <td>| waning crescent moon\\n5.31% illuminated</td>\n",
       "    </tr>\n",
       "    <tr>\n",
       "      <th>4836</th>\n",
       "      <td>2021-02-09 18:00:00</td>\n",
       "      <td>0 °C\\n(6:00 pm CET | Tuesday, February 9, 2021)</td>\n",
       "      <td>ERROR</td>\n",
       "      <td>3 m/s\\n(6:00 pm CET | Tuesday, February 9, 2021)</td>\n",
       "      <td>(unknown)\\n(6:00 pm CET | Tuesday, February 9,...</td>\n",
       "      <td>Moon Phase calculatorFebruary 9, 2021 18h</td>\n",
       "      <td>| waning crescent moon\\n5.11% illuminated</td>\n",
       "    </tr>\n",
       "    <tr>\n",
       "      <th>4837</th>\n",
       "      <td>2021-02-09 19:00:00</td>\n",
       "      <td>0 °C\\n(7:00 pm CET | Tuesday, February 9, 2021)</td>\n",
       "      <td>ERROR</td>\n",
       "      <td>3 m/s\\n(7:00 pm CET | Tuesday, February 9, 2021)</td>\n",
       "      <td>(unknown)\\n(7:00 pm CET | Tuesday, February 9,...</td>\n",
       "      <td>Moon Phase calculatorFebruary 9, 2021 19h</td>\n",
       "      <td>| waning crescent moon\\n4.91% illuminated</td>\n",
       "    </tr>\n",
       "    <tr>\n",
       "      <th>4838</th>\n",
       "      <td>2021-02-09 20:00:00</td>\n",
       "      <td>0 °C\\n(8:00 pm CET | Tuesday, February 9, 2021)</td>\n",
       "      <td>ERROR</td>\n",
       "      <td>3 m/s\\n(8:00 pm CET | Tuesday, February 9, 2021)</td>\n",
       "      <td>(unknown)\\n(8:00 pm CET | Tuesday, February 9,...</td>\n",
       "      <td>Moon Phase calculatorFebruary 9, 2021 20h</td>\n",
       "      <td>| waning crescent moon\\n4.72% illuminated</td>\n",
       "    </tr>\n",
       "    <tr>\n",
       "      <th>4839</th>\n",
       "      <td>2021-02-09 21:00:00</td>\n",
       "      <td>0 °C\\n(9:00 pm CET | Tuesday, February 9, 2021)</td>\n",
       "      <td>ERROR</td>\n",
       "      <td>4 m/s\\n(9:00 pm CET | Tuesday, February 9, 2021)</td>\n",
       "      <td>(unknown)\\n(9:00 pm CET | Tuesday, February 9,...</td>\n",
       "      <td>Moon Phase calculatorFebruary 9, 2021 21h</td>\n",
       "      <td>| waning crescent moon\\n4.53% illuminated</td>\n",
       "    </tr>\n",
       "    <tr>\n",
       "      <th>4840</th>\n",
       "      <td>2021-02-09 22:00:00</td>\n",
       "      <td>0 °C\\n(10:00 pm CET | Tuesday, February 9, 2021)</td>\n",
       "      <td>ERROR</td>\n",
       "      <td>4 m/s\\n(10:00 pm CET | Tuesday, February 9, 2021)</td>\n",
       "      <td>(unknown)\\n(10:00 pm CET | Tuesday, February 9...</td>\n",
       "      <td>Moon Phase calculatorFebruary 9, 2021 22h</td>\n",
       "      <td>| waning crescent moon\\n4.34% illuminated</td>\n",
       "    </tr>\n",
       "    <tr>\n",
       "      <th>4841</th>\n",
       "      <td>2021-02-10 10:00:00</td>\n",
       "      <td>0 °C\\n(10:00 am CET | Wednesday, February 10, ...</td>\n",
       "      <td>ERROR</td>\n",
       "      <td>1 m/s\\n(10:00 am CET | Wednesday, February 10,...</td>\n",
       "      <td>(unknown)\\n(10:00 am CET | Wednesday, February...</td>\n",
       "      <td>Moon Phase calculatorFebruary 10, 2021 10h</td>\n",
       "      <td>| waning crescent moon\\n2.43% illuminated</td>\n",
       "    </tr>\n",
       "    <tr>\n",
       "      <th>4842</th>\n",
       "      <td>2021-02-10 11:00:00</td>\n",
       "      <td>0 °C\\n(11:00 am CET | Wednesday, February 10, ...</td>\n",
       "      <td>ERROR</td>\n",
       "      <td>1 m/s\\n(11:00 am CET | Wednesday, February 10,...</td>\n",
       "      <td>(unknown)\\n(11:00 am CET | Wednesday, February...</td>\n",
       "      <td>Moon Phase calculatorFebruary 10, 2021 11h</td>\n",
       "      <td>| waning crescent moon\\n2.30% illuminated</td>\n",
       "    </tr>\n",
       "    <tr>\n",
       "      <th>4843</th>\n",
       "      <td>2021-02-10 12:00:00</td>\n",
       "      <td>0 °C\\n(12:00 pm CET | Wednesday, February 10, ...</td>\n",
       "      <td>ERROR</td>\n",
       "      <td>2 m/s\\n(12:00 pm CET | Wednesday, February 10,...</td>\n",
       "      <td>(unknown)\\n(12:00 pm CET | Wednesday, February...</td>\n",
       "      <td>Moon Phase calculatorFebruary 10, 2021 12h</td>\n",
       "      <td>| waning crescent moon\\n2.17% illuminated</td>\n",
       "    </tr>\n",
       "    <tr>\n",
       "      <th>4844</th>\n",
       "      <td>2021-02-10 13:00:00</td>\n",
       "      <td>0 °C\\n(1:00 pm CET | Wednesday, February 10, 2...</td>\n",
       "      <td>ERROR</td>\n",
       "      <td>2 m/s\\n(1:00 pm CET | Wednesday, February 10, ...</td>\n",
       "      <td>(unknown)\\n(1:00 pm CET | Wednesday, February ...</td>\n",
       "      <td>Moon Phase calculatorFebruary 10, 2021 13h</td>\n",
       "      <td>| waning crescent moon\\n2.04% illuminated</td>\n",
       "    </tr>\n",
       "    <tr>\n",
       "      <th>4845</th>\n",
       "      <td>2021-02-10 14:00:00</td>\n",
       "      <td>-1 °C\\n(2:00 pm CET | Wednesday, February 10, ...</td>\n",
       "      <td>ERROR</td>\n",
       "      <td>2 m/s\\n(2:00 pm CET | Wednesday, February 10, ...</td>\n",
       "      <td>(unknown)\\n(2:00 pm CET | Wednesday, February ...</td>\n",
       "      <td>Moon Phase calculatorFebruary 10, 2021 14h</td>\n",
       "      <td>| waning crescent moon\\n1.92% illuminated</td>\n",
       "    </tr>\n",
       "    <tr>\n",
       "      <th>4846</th>\n",
       "      <td>2021-02-10 15:00:00</td>\n",
       "      <td>-1 °C\\n(3:00 pm CET | Wednesday, February 10, ...</td>\n",
       "      <td>ERROR</td>\n",
       "      <td>3 m/s\\n(3:00 pm CET | Wednesday, February 10, ...</td>\n",
       "      <td>(unknown)\\n(3:00 pm CET | Wednesday, February ...</td>\n",
       "      <td>Moon Phase calculatorFebruary 10, 2021 15h</td>\n",
       "      <td>| waning crescent moon\\n1.80% illuminated</td>\n",
       "    </tr>\n",
       "    <tr>\n",
       "      <th>4847</th>\n",
       "      <td>2021-02-10 16:00:00</td>\n",
       "      <td>-1 °C\\n(4:00 pm CET | Wednesday, February 10, ...</td>\n",
       "      <td>ERROR</td>\n",
       "      <td>3 m/s\\n(4:00 pm CET | Wednesday, February 10, ...</td>\n",
       "      <td>(unknown)\\n(4:00 pm CET | Wednesday, February ...</td>\n",
       "      <td>Moon Phase calculatorFebruary 10, 2021 16h</td>\n",
       "      <td>| waning crescent moon\\n1.69% illuminated</td>\n",
       "    </tr>\n",
       "    <tr>\n",
       "      <th>4848</th>\n",
       "      <td>2021-02-10 17:00:00</td>\n",
       "      <td>-2 °C\\n(5:00 pm CET | Wednesday, February 10, ...</td>\n",
       "      <td>ERROR</td>\n",
       "      <td>3 m/s\\n(5:00 pm CET | Wednesday, February 10, ...</td>\n",
       "      <td>(unknown)\\n(5:00 pm CET | Wednesday, February ...</td>\n",
       "      <td>Moon Phase calculatorFebruary 10, 2021 17h</td>\n",
       "      <td>| waning crescent moon\\n1.58% illuminated</td>\n",
       "    </tr>\n",
       "    <tr>\n",
       "      <th>4849</th>\n",
       "      <td>2021-02-10 18:00:00</td>\n",
       "      <td>-2 °C\\n(6:00 pm CET | Wednesday, February 10, ...</td>\n",
       "      <td>ERROR</td>\n",
       "      <td>3 m/s\\n(6:00 pm CET | Wednesday, February 10, ...</td>\n",
       "      <td>(unknown)\\n(6:00 pm CET | Wednesday, February ...</td>\n",
       "      <td>Moon Phase calculatorFebruary 10, 2021 18h</td>\n",
       "      <td>| waning crescent moon\\n1.48% illuminated</td>\n",
       "    </tr>\n",
       "    <tr>\n",
       "      <th>4850</th>\n",
       "      <td>2021-02-10 19:00:00</td>\n",
       "      <td>-2 °C\\n(7:00 pm CET | Wednesday, February 10, ...</td>\n",
       "      <td>ERROR</td>\n",
       "      <td>4 m/s\\n(7:00 pm CET | Wednesday, February 10, ...</td>\n",
       "      <td>(unknown)\\n(7:00 pm CET | Wednesday, February ...</td>\n",
       "      <td>Moon Phase calculatorFebruary 10, 2021 19h</td>\n",
       "      <td>| waning crescent moon\\n1.38% illuminated</td>\n",
       "    </tr>\n",
       "    <tr>\n",
       "      <th>4851</th>\n",
       "      <td>2021-02-10 20:00:00</td>\n",
       "      <td>-2 °C\\n(8:00 pm CET | Wednesday, February 10, ...</td>\n",
       "      <td>ERROR</td>\n",
       "      <td>4 m/s\\n(8:00 pm CET | Wednesday, February 10, ...</td>\n",
       "      <td>(unknown)\\n(8:00 pm CET | Wednesday, February ...</td>\n",
       "      <td>Moon Phase calculatorFebruary 10, 2021 20h</td>\n",
       "      <td>| waning crescent moon\\n1.28% illuminated</td>\n",
       "    </tr>\n",
       "    <tr>\n",
       "      <th>4852</th>\n",
       "      <td>2021-02-10 21:00:00</td>\n",
       "      <td>-3 °C\\n(9:00 pm CET | Wednesday, February 10, ...</td>\n",
       "      <td>ERROR</td>\n",
       "      <td>4 m/s\\n(9:00 pm CET | Wednesday, February 10, ...</td>\n",
       "      <td>(unknown)\\n(9:00 pm CET | Wednesday, February ...</td>\n",
       "      <td>Moon Phase calculatorFebruary 10, 2021 21h</td>\n",
       "      <td>| waning crescent moon\\n1.19% illuminated</td>\n",
       "    </tr>\n",
       "    <tr>\n",
       "      <th>4853</th>\n",
       "      <td>2021-02-10 22:00:00</td>\n",
       "      <td>-3 °C\\n(10:00 pm CET | Wednesday, February 10,...</td>\n",
       "      <td>ERROR</td>\n",
       "      <td>5 m/s\\n(10:00 pm CET | Wednesday, February 10,...</td>\n",
       "      <td>(unknown)\\n(10:00 pm CET | Wednesday, February...</td>\n",
       "      <td>Moon Phase calculatorFebruary 10, 2021 22h</td>\n",
       "      <td>| waning crescent moon\\n1.10% illuminated</td>\n",
       "    </tr>\n",
       "    <tr>\n",
       "      <th>4854</th>\n",
       "      <td>2021-02-10 23:00:00</td>\n",
       "      <td>-3 °C\\n(11:00 pm CET | Wednesday, February 10,...</td>\n",
       "      <td>ERROR</td>\n",
       "      <td>5 m/s\\n(11:00 pm CET | Wednesday, February 10,...</td>\n",
       "      <td>(unknown)\\n(11:00 pm CET | Wednesday, February...</td>\n",
       "      <td>Moon Phase calculatorFebruary 10, 2021 23h</td>\n",
       "      <td>| waning crescent moon\\n1.01% illuminated</td>\n",
       "    </tr>\n",
       "    <tr>\n",
       "      <th>4855</th>\n",
       "      <td>2021-03-28 01:00:00</td>\n",
       "      <td>1 °C\\n(1:00 am CEST | Sunday, March 28, 2021)</td>\n",
       "      <td>ERROR</td>\n",
       "      <td>1 m/s\\n(1:00 am CEST | Sunday, March 28, 2021)</td>\n",
       "      <td>(unknown)\\n(1:00 am CEST | Sunday, March 28, 2...</td>\n",
       "      <td>Moon Phase calculatorMarch 28, 2021 1h</td>\n",
       "      <td>| waxing gibbous moon\\n98.84% illuminated</td>\n",
       "    </tr>\n",
       "    <tr>\n",
       "      <th>5026</th>\n",
       "      <td>2021-04-26 10:00:00</td>\n",
       "      <td>ERROR</td>\n",
       "      <td>ERROR</td>\n",
       "      <td>ERROR</td>\n",
       "      <td>(unknown)\\n(10:00 am CEST | Monday, April 26, ...</td>\n",
       "      <td>Moon Phase calculatorApril 26, 2021 10h</td>\n",
       "      <td>| waxing gibbous moon\\n98.89% illuminated</td>\n",
       "    </tr>\n",
       "  </tbody>\n",
       "</table>\n",
       "</div>"
      ],
      "text/plain": [
       "                    date                                        temperature  \\\n",
       "4819 2020-11-05 22:00:00  8 °C\\n(10:00 pm CET | Thursday, November 5, 2020)   \n",
       "4820 2020-11-16 19:00:00    7 °C\\n(7:00 pm CET | Monday, November 16, 2020)   \n",
       "4822 2020-11-16 21:00:00    5 °C\\n(9:00 pm CET | Monday, November 16, 2020)   \n",
       "4823 2020-12-15 21:00:00   4 °C\\n(9:00 pm CET | Tuesday, December 15, 2020)   \n",
       "4824 2021-02-08 17:00:00     5 °C\\n(5:00 pm CET | Monday, February 8, 2021)   \n",
       "4825 2021-02-08 18:00:00     4 °C\\n(6:00 pm CET | Monday, February 8, 2021)   \n",
       "4826 2021-02-08 19:00:00     3 °C\\n(7:00 pm CET | Monday, February 8, 2021)   \n",
       "4827 2021-02-08 20:00:00     2 °C\\n(8:00 pm CET | Monday, February 8, 2021)   \n",
       "4828 2021-02-09 09:00:00    0 °C\\n(9:00 am CET | Tuesday, February 9, 2021)   \n",
       "4829 2021-02-09 10:00:00   0 °C\\n(10:00 am CET | Tuesday, February 9, 2021)   \n",
       "4830 2021-02-09 11:00:00   0 °C\\n(11:00 am CET | Tuesday, February 9, 2021)   \n",
       "4831 2021-02-09 12:00:00   0 °C\\n(12:00 pm CET | Tuesday, February 9, 2021)   \n",
       "4832 2021-02-09 13:00:00    0 °C\\n(1:00 pm CET | Tuesday, February 9, 2021)   \n",
       "4833 2021-02-09 15:00:00    0 °C\\n(3:00 pm CET | Tuesday, February 9, 2021)   \n",
       "4834 2021-02-09 16:00:00    0 °C\\n(4:00 pm CET | Tuesday, February 9, 2021)   \n",
       "4835 2021-02-09 17:00:00    0 °C\\n(5:00 pm CET | Tuesday, February 9, 2021)   \n",
       "4836 2021-02-09 18:00:00    0 °C\\n(6:00 pm CET | Tuesday, February 9, 2021)   \n",
       "4837 2021-02-09 19:00:00    0 °C\\n(7:00 pm CET | Tuesday, February 9, 2021)   \n",
       "4838 2021-02-09 20:00:00    0 °C\\n(8:00 pm CET | Tuesday, February 9, 2021)   \n",
       "4839 2021-02-09 21:00:00    0 °C\\n(9:00 pm CET | Tuesday, February 9, 2021)   \n",
       "4840 2021-02-09 22:00:00   0 °C\\n(10:00 pm CET | Tuesday, February 9, 2021)   \n",
       "4841 2021-02-10 10:00:00  0 °C\\n(10:00 am CET | Wednesday, February 10, ...   \n",
       "4842 2021-02-10 11:00:00  0 °C\\n(11:00 am CET | Wednesday, February 10, ...   \n",
       "4843 2021-02-10 12:00:00  0 °C\\n(12:00 pm CET | Wednesday, February 10, ...   \n",
       "4844 2021-02-10 13:00:00  0 °C\\n(1:00 pm CET | Wednesday, February 10, 2...   \n",
       "4845 2021-02-10 14:00:00  -1 °C\\n(2:00 pm CET | Wednesday, February 10, ...   \n",
       "4846 2021-02-10 15:00:00  -1 °C\\n(3:00 pm CET | Wednesday, February 10, ...   \n",
       "4847 2021-02-10 16:00:00  -1 °C\\n(4:00 pm CET | Wednesday, February 10, ...   \n",
       "4848 2021-02-10 17:00:00  -2 °C\\n(5:00 pm CET | Wednesday, February 10, ...   \n",
       "4849 2021-02-10 18:00:00  -2 °C\\n(6:00 pm CET | Wednesday, February 10, ...   \n",
       "4850 2021-02-10 19:00:00  -2 °C\\n(7:00 pm CET | Wednesday, February 10, ...   \n",
       "4851 2021-02-10 20:00:00  -2 °C\\n(8:00 pm CET | Wednesday, February 10, ...   \n",
       "4852 2021-02-10 21:00:00  -3 °C\\n(9:00 pm CET | Wednesday, February 10, ...   \n",
       "4853 2021-02-10 22:00:00  -3 °C\\n(10:00 pm CET | Wednesday, February 10,...   \n",
       "4854 2021-02-10 23:00:00  -3 °C\\n(11:00 pm CET | Wednesday, February 10,...   \n",
       "4855 2021-03-28 01:00:00      1 °C\\n(1:00 am CEST | Sunday, March 28, 2021)   \n",
       "5026 2021-04-26 10:00:00                                              ERROR   \n",
       "\n",
       "     humidity                                         wind speed  \\\n",
       "4819    ERROR  1 m/s\\n(10:00 pm CET | Thursday, November 5, 2...   \n",
       "4820    ERROR   1 m/s\\n(7:00 pm CET | Monday, November 16, 2020)   \n",
       "4822    ERROR   0 m/s\\n(9:00 pm CET | Monday, November 16, 2020)   \n",
       "4823    ERROR  1 m/s\\n(9:00 pm CET | Tuesday, December 15, 2020)   \n",
       "4824    ERROR    5 m/s\\n(5:00 pm CET | Monday, February 8, 2021)   \n",
       "4825    ERROR    5 m/s\\n(6:00 pm CET | Monday, February 8, 2021)   \n",
       "4826    ERROR    4 m/s\\n(7:00 pm CET | Monday, February 8, 2021)   \n",
       "4827    ERROR    4 m/s\\n(8:00 pm CET | Monday, February 8, 2021)   \n",
       "4828    ERROR   1 m/s\\n(9:00 am CET | Tuesday, February 9, 2021)   \n",
       "4829    ERROR  1 m/s\\n(10:00 am CET | Tuesday, February 9, 2021)   \n",
       "4830    ERROR  1 m/s\\n(11:00 am CET | Tuesday, February 9, 2021)   \n",
       "4831    ERROR  1 m/s\\n(12:00 pm CET | Tuesday, February 9, 2021)   \n",
       "4832    ERROR   2 m/s\\n(1:00 pm CET | Tuesday, February 9, 2021)   \n",
       "4833    ERROR   2 m/s\\n(3:00 pm CET | Tuesday, February 9, 2021)   \n",
       "4834    ERROR   2 m/s\\n(4:00 pm CET | Tuesday, February 9, 2021)   \n",
       "4835    ERROR   3 m/s\\n(5:00 pm CET | Tuesday, February 9, 2021)   \n",
       "4836    ERROR   3 m/s\\n(6:00 pm CET | Tuesday, February 9, 2021)   \n",
       "4837    ERROR   3 m/s\\n(7:00 pm CET | Tuesday, February 9, 2021)   \n",
       "4838    ERROR   3 m/s\\n(8:00 pm CET | Tuesday, February 9, 2021)   \n",
       "4839    ERROR   4 m/s\\n(9:00 pm CET | Tuesday, February 9, 2021)   \n",
       "4840    ERROR  4 m/s\\n(10:00 pm CET | Tuesday, February 9, 2021)   \n",
       "4841    ERROR  1 m/s\\n(10:00 am CET | Wednesday, February 10,...   \n",
       "4842    ERROR  1 m/s\\n(11:00 am CET | Wednesday, February 10,...   \n",
       "4843    ERROR  2 m/s\\n(12:00 pm CET | Wednesday, February 10,...   \n",
       "4844    ERROR  2 m/s\\n(1:00 pm CET | Wednesday, February 10, ...   \n",
       "4845    ERROR  2 m/s\\n(2:00 pm CET | Wednesday, February 10, ...   \n",
       "4846    ERROR  3 m/s\\n(3:00 pm CET | Wednesday, February 10, ...   \n",
       "4847    ERROR  3 m/s\\n(4:00 pm CET | Wednesday, February 10, ...   \n",
       "4848    ERROR  3 m/s\\n(5:00 pm CET | Wednesday, February 10, ...   \n",
       "4849    ERROR  3 m/s\\n(6:00 pm CET | Wednesday, February 10, ...   \n",
       "4850    ERROR  4 m/s\\n(7:00 pm CET | Wednesday, February 10, ...   \n",
       "4851    ERROR  4 m/s\\n(8:00 pm CET | Wednesday, February 10, ...   \n",
       "4852    ERROR  4 m/s\\n(9:00 pm CET | Wednesday, February 10, ...   \n",
       "4853    ERROR  5 m/s\\n(10:00 pm CET | Wednesday, February 10,...   \n",
       "4854    ERROR  5 m/s\\n(11:00 pm CET | Wednesday, February 10,...   \n",
       "4855    ERROR     1 m/s\\n(1:00 am CEST | Sunday, March 28, 2021)   \n",
       "5026    ERROR                                              ERROR   \n",
       "\n",
       "                                   Precipitation amount  \\\n",
       "4819                                              ERROR   \n",
       "4820                                              ERROR   \n",
       "4822  (unknown)\\n(9:00 pm CET | Monday, November 16,...   \n",
       "4823  (unknown)\\n(9:00 pm CET | Tuesday, December 15...   \n",
       "4824  (unknown)\\n(5:00 pm CET | Monday, February 8, ...   \n",
       "4825  (unknown)\\n(6:00 pm CET | Monday, February 8, ...   \n",
       "4826  (unknown)\\n(7:00 pm CET | Monday, February 8, ...   \n",
       "4827  (unknown)\\n(8:00 pm CET | Monday, February 8, ...   \n",
       "4828  (unknown)\\n(9:00 am CET | Tuesday, February 9,...   \n",
       "4829  (unknown)\\n(10:00 am CET | Tuesday, February 9...   \n",
       "4830  (unknown)\\n(11:00 am CET | Tuesday, February 9...   \n",
       "4831  (unknown)\\n(12:00 pm CET | Tuesday, February 9...   \n",
       "4832  (unknown)\\n(1:00 pm CET | Tuesday, February 9,...   \n",
       "4833  (unknown)\\n(3:00 pm CET | Tuesday, February 9,...   \n",
       "4834  (unknown)\\n(4:00 pm CET | Tuesday, February 9,...   \n",
       "4835  (unknown)\\n(5:00 pm CET | Tuesday, February 9,...   \n",
       "4836  (unknown)\\n(6:00 pm CET | Tuesday, February 9,...   \n",
       "4837  (unknown)\\n(7:00 pm CET | Tuesday, February 9,...   \n",
       "4838  (unknown)\\n(8:00 pm CET | Tuesday, February 9,...   \n",
       "4839  (unknown)\\n(9:00 pm CET | Tuesday, February 9,...   \n",
       "4840  (unknown)\\n(10:00 pm CET | Tuesday, February 9...   \n",
       "4841  (unknown)\\n(10:00 am CET | Wednesday, February...   \n",
       "4842  (unknown)\\n(11:00 am CET | Wednesday, February...   \n",
       "4843  (unknown)\\n(12:00 pm CET | Wednesday, February...   \n",
       "4844  (unknown)\\n(1:00 pm CET | Wednesday, February ...   \n",
       "4845  (unknown)\\n(2:00 pm CET | Wednesday, February ...   \n",
       "4846  (unknown)\\n(3:00 pm CET | Wednesday, February ...   \n",
       "4847  (unknown)\\n(4:00 pm CET | Wednesday, February ...   \n",
       "4848  (unknown)\\n(5:00 pm CET | Wednesday, February ...   \n",
       "4849  (unknown)\\n(6:00 pm CET | Wednesday, February ...   \n",
       "4850  (unknown)\\n(7:00 pm CET | Wednesday, February ...   \n",
       "4851  (unknown)\\n(8:00 pm CET | Wednesday, February ...   \n",
       "4852  (unknown)\\n(9:00 pm CET | Wednesday, February ...   \n",
       "4853  (unknown)\\n(10:00 pm CET | Wednesday, February...   \n",
       "4854  (unknown)\\n(11:00 pm CET | Wednesday, February...   \n",
       "4855  (unknown)\\n(1:00 am CEST | Sunday, March 28, 2...   \n",
       "5026  (unknown)\\n(10:00 am CEST | Monday, April 26, ...   \n",
       "\n",
       "                                           query  \\\n",
       "4819   Moon Phase calculatorNovember 5, 2020 22h   \n",
       "4820  Moon Phase calculatorNovember 16, 2020 19h   \n",
       "4822  Moon Phase calculatorNovember 16, 2020 21h   \n",
       "4823  Moon Phase calculatorDecember 15, 2020 21h   \n",
       "4824   Moon Phase calculatorFebruary 8, 2021 17h   \n",
       "4825   Moon Phase calculatorFebruary 8, 2021 18h   \n",
       "4826   Moon Phase calculatorFebruary 8, 2021 19h   \n",
       "4827   Moon Phase calculatorFebruary 8, 2021 20h   \n",
       "4828    Moon Phase calculatorFebruary 9, 2021 9h   \n",
       "4829   Moon Phase calculatorFebruary 9, 2021 10h   \n",
       "4830   Moon Phase calculatorFebruary 9, 2021 11h   \n",
       "4831   Moon Phase calculatorFebruary 9, 2021 12h   \n",
       "4832   Moon Phase calculatorFebruary 9, 2021 13h   \n",
       "4833   Moon Phase calculatorFebruary 9, 2021 15h   \n",
       "4834   Moon Phase calculatorFebruary 9, 2021 16h   \n",
       "4835   Moon Phase calculatorFebruary 9, 2021 17h   \n",
       "4836   Moon Phase calculatorFebruary 9, 2021 18h   \n",
       "4837   Moon Phase calculatorFebruary 9, 2021 19h   \n",
       "4838   Moon Phase calculatorFebruary 9, 2021 20h   \n",
       "4839   Moon Phase calculatorFebruary 9, 2021 21h   \n",
       "4840   Moon Phase calculatorFebruary 9, 2021 22h   \n",
       "4841  Moon Phase calculatorFebruary 10, 2021 10h   \n",
       "4842  Moon Phase calculatorFebruary 10, 2021 11h   \n",
       "4843  Moon Phase calculatorFebruary 10, 2021 12h   \n",
       "4844  Moon Phase calculatorFebruary 10, 2021 13h   \n",
       "4845  Moon Phase calculatorFebruary 10, 2021 14h   \n",
       "4846  Moon Phase calculatorFebruary 10, 2021 15h   \n",
       "4847  Moon Phase calculatorFebruary 10, 2021 16h   \n",
       "4848  Moon Phase calculatorFebruary 10, 2021 17h   \n",
       "4849  Moon Phase calculatorFebruary 10, 2021 18h   \n",
       "4850  Moon Phase calculatorFebruary 10, 2021 19h   \n",
       "4851  Moon Phase calculatorFebruary 10, 2021 20h   \n",
       "4852  Moon Phase calculatorFebruary 10, 2021 21h   \n",
       "4853  Moon Phase calculatorFebruary 10, 2021 22h   \n",
       "4854  Moon Phase calculatorFebruary 10, 2021 23h   \n",
       "4855      Moon Phase calculatorMarch 28, 2021 1h   \n",
       "5026     Moon Phase calculatorApril 26, 2021 10h   \n",
       "\n",
       "                           Moon Phase calculator  \n",
       "4819   | waning gibbous moon\\n76.55% illuminated  \n",
       "4820   | waxing crescent moon\\n3.48% illuminated  \n",
       "4822   | waxing crescent moon\\n3.86% illuminated  \n",
       "4823                                       ERROR  \n",
       "4824  | waning crescent moon\\n11.27% illuminated  \n",
       "4825  | waning crescent moon\\n10.98% illuminated  \n",
       "4826  | waning crescent moon\\n10.69% illuminated  \n",
       "4827  | waning crescent moon\\n10.41% illuminated  \n",
       "4828   | waning crescent moon\\n7.06% illuminated  \n",
       "4829   | waning crescent moon\\n6.82% illuminated  \n",
       "4830   | waning crescent moon\\n6.60% illuminated  \n",
       "4831   | waning crescent moon\\n6.37% illuminated  \n",
       "4832   | waning crescent moon\\n6.15% illuminated  \n",
       "4833   | waning crescent moon\\n5.72% illuminated  \n",
       "4834   | waning crescent moon\\n5.51% illuminated  \n",
       "4835   | waning crescent moon\\n5.31% illuminated  \n",
       "4836   | waning crescent moon\\n5.11% illuminated  \n",
       "4837   | waning crescent moon\\n4.91% illuminated  \n",
       "4838   | waning crescent moon\\n4.72% illuminated  \n",
       "4839   | waning crescent moon\\n4.53% illuminated  \n",
       "4840   | waning crescent moon\\n4.34% illuminated  \n",
       "4841   | waning crescent moon\\n2.43% illuminated  \n",
       "4842   | waning crescent moon\\n2.30% illuminated  \n",
       "4843   | waning crescent moon\\n2.17% illuminated  \n",
       "4844   | waning crescent moon\\n2.04% illuminated  \n",
       "4845   | waning crescent moon\\n1.92% illuminated  \n",
       "4846   | waning crescent moon\\n1.80% illuminated  \n",
       "4847   | waning crescent moon\\n1.69% illuminated  \n",
       "4848   | waning crescent moon\\n1.58% illuminated  \n",
       "4849   | waning crescent moon\\n1.48% illuminated  \n",
       "4850   | waning crescent moon\\n1.38% illuminated  \n",
       "4851   | waning crescent moon\\n1.28% illuminated  \n",
       "4852   | waning crescent moon\\n1.19% illuminated  \n",
       "4853   | waning crescent moon\\n1.10% illuminated  \n",
       "4854   | waning crescent moon\\n1.01% illuminated  \n",
       "4855   | waxing gibbous moon\\n98.84% illuminated  \n",
       "5026   | waxing gibbous moon\\n98.89% illuminated  "
      ]
     },
     "metadata": {},
     "output_type": "display_data"
    },
    {
     "name": "stdout",
     "output_type": "stream",
     "text": [
      "7369\n",
      "2379\n",
      "WARNING: to many calls to be completed these queries!\n",
      "You need 11895 new queries to complete this date interval\n",
      "(4990, 7)\n"
     ]
    },
    {
     "data": {
      "text/html": [
       "<div>\n",
       "<style scoped>\n",
       "    .dataframe tbody tr th:only-of-type {\n",
       "        vertical-align: middle;\n",
       "    }\n",
       "\n",
       "    .dataframe tbody tr th {\n",
       "        vertical-align: top;\n",
       "    }\n",
       "\n",
       "    .dataframe thead th {\n",
       "        text-align: right;\n",
       "    }\n",
       "</style>\n",
       "<table border=\"1\" class=\"dataframe\">\n",
       "  <thead>\n",
       "    <tr style=\"text-align: right;\">\n",
       "      <th></th>\n",
       "      <th>date</th>\n",
       "      <th>temperature</th>\n",
       "      <th>humidity</th>\n",
       "      <th>wind speed</th>\n",
       "      <th>Precipitation amount</th>\n",
       "      <th>query</th>\n",
       "      <th>Moon Phase calculator</th>\n",
       "    </tr>\n",
       "  </thead>\n",
       "  <tbody>\n",
       "    <tr>\n",
       "      <th>5021</th>\n",
       "      <td>2021-04-26 05:00:00</td>\n",
       "      <td>6 °C\\n(5:00 am CEST | Monday, April 26, 2021)</td>\n",
       "      <td>average: 87% (81 to 93%)\\n(5:00 am CEST | Mond...</td>\n",
       "      <td>1 m/s\\n(5:00 am CEST | Monday, April 26, 2021)</td>\n",
       "      <td>no precipitation\\n(5:00 am CEST | Monday, Apri...</td>\n",
       "      <td>Moon Phase calculatorApril 26, 2021 5h</td>\n",
       "      <td>| waxing gibbous moon\\n98.30% illuminated</td>\n",
       "    </tr>\n",
       "    <tr>\n",
       "      <th>5022</th>\n",
       "      <td>2021-04-26 06:00:00</td>\n",
       "      <td>6 °C\\n(6:00 am CEST | Monday, April 26, 2021)</td>\n",
       "      <td>average: 71% (66 to 75%)\\n(6:00 am CEST | Mond...</td>\n",
       "      <td>1 m/s\\n(6:00 am CEST | Monday, April 26, 2021)</td>\n",
       "      <td>no precipitation\\n(6:00 am CEST | Monday, Apri...</td>\n",
       "      <td>Moon Phase calculatorApril 26, 2021 6h</td>\n",
       "      <td>| waxing gibbous moon\\n98.43% illuminated</td>\n",
       "    </tr>\n",
       "    <tr>\n",
       "      <th>5023</th>\n",
       "      <td>2021-04-26 07:00:00</td>\n",
       "      <td>7 °C\\n(7:00 am CEST | Monday, April 26, 2021)</td>\n",
       "      <td>average: 66% (61 to 70%)\\n(7:00 am CEST | Mond...</td>\n",
       "      <td>1 m/s\\n(7:00 am CEST | Monday, April 26, 2021)</td>\n",
       "      <td>no precipitation\\n(7:00 am CEST | Monday, Apri...</td>\n",
       "      <td>Moon Phase calculatorApril 26, 2021 7h</td>\n",
       "      <td>| waxing gibbous moon\\n98.55% illuminated</td>\n",
       "    </tr>\n",
       "    <tr>\n",
       "      <th>5024</th>\n",
       "      <td>2021-04-26 08:00:00</td>\n",
       "      <td>8 °C\\n(8:00 am CEST | Monday, April 26, 2021)</td>\n",
       "      <td>average: 62% (57 to 66%)\\n(8:00 am CEST | Mond...</td>\n",
       "      <td>2 m/s\\n(8:00 am CEST | Monday, April 26, 2021)</td>\n",
       "      <td>no precipitation\\n(8:00 am CEST | Monday, Apri...</td>\n",
       "      <td>Moon Phase calculatorApril 26, 2021 8h</td>\n",
       "      <td>| waxing gibbous moon\\n98.67% illuminated</td>\n",
       "    </tr>\n",
       "    <tr>\n",
       "      <th>5025</th>\n",
       "      <td>2021-04-26 09:00:00</td>\n",
       "      <td>9 °C\\n(9:00 am CEST | Monday, April 26, 2021)</td>\n",
       "      <td>average: 52% (50 to 53%)\\n(9:00 am CEST | Mond...</td>\n",
       "      <td>3 m/s\\n(9:00 am CEST | Monday, April 26, 2021)</td>\n",
       "      <td>no precipitation\\n(9:00 am CEST | Monday, Apri...</td>\n",
       "      <td>Moon Phase calculatorApril 26, 2021 9h</td>\n",
       "      <td>| waxing gibbous moon\\n98.78% illuminated</td>\n",
       "    </tr>\n",
       "  </tbody>\n",
       "</table>\n",
       "</div>"
      ],
      "text/plain": [
       "                    date                                    temperature  \\\n",
       "5021 2021-04-26 05:00:00  6 °C\\n(5:00 am CEST | Monday, April 26, 2021)   \n",
       "5022 2021-04-26 06:00:00  6 °C\\n(6:00 am CEST | Monday, April 26, 2021)   \n",
       "5023 2021-04-26 07:00:00  7 °C\\n(7:00 am CEST | Monday, April 26, 2021)   \n",
       "5024 2021-04-26 08:00:00  8 °C\\n(8:00 am CEST | Monday, April 26, 2021)   \n",
       "5025 2021-04-26 09:00:00  9 °C\\n(9:00 am CEST | Monday, April 26, 2021)   \n",
       "\n",
       "                                               humidity  \\\n",
       "5021  average: 87% (81 to 93%)\\n(5:00 am CEST | Mond...   \n",
       "5022  average: 71% (66 to 75%)\\n(6:00 am CEST | Mond...   \n",
       "5023  average: 66% (61 to 70%)\\n(7:00 am CEST | Mond...   \n",
       "5024  average: 62% (57 to 66%)\\n(8:00 am CEST | Mond...   \n",
       "5025  average: 52% (50 to 53%)\\n(9:00 am CEST | Mond...   \n",
       "\n",
       "                                          wind speed  \\\n",
       "5021  1 m/s\\n(5:00 am CEST | Monday, April 26, 2021)   \n",
       "5022  1 m/s\\n(6:00 am CEST | Monday, April 26, 2021)   \n",
       "5023  1 m/s\\n(7:00 am CEST | Monday, April 26, 2021)   \n",
       "5024  2 m/s\\n(8:00 am CEST | Monday, April 26, 2021)   \n",
       "5025  3 m/s\\n(9:00 am CEST | Monday, April 26, 2021)   \n",
       "\n",
       "                                   Precipitation amount  \\\n",
       "5021  no precipitation\\n(5:00 am CEST | Monday, Apri...   \n",
       "5022  no precipitation\\n(6:00 am CEST | Monday, Apri...   \n",
       "5023  no precipitation\\n(7:00 am CEST | Monday, Apri...   \n",
       "5024  no precipitation\\n(8:00 am CEST | Monday, Apri...   \n",
       "5025  no precipitation\\n(9:00 am CEST | Monday, Apri...   \n",
       "\n",
       "                                       query  \\\n",
       "5021  Moon Phase calculatorApril 26, 2021 5h   \n",
       "5022  Moon Phase calculatorApril 26, 2021 6h   \n",
       "5023  Moon Phase calculatorApril 26, 2021 7h   \n",
       "5024  Moon Phase calculatorApril 26, 2021 8h   \n",
       "5025  Moon Phase calculatorApril 26, 2021 9h   \n",
       "\n",
       "                          Moon Phase calculator  \n",
       "5021  | waxing gibbous moon\\n98.30% illuminated  \n",
       "5022  | waxing gibbous moon\\n98.43% illuminated  \n",
       "5023  | waxing gibbous moon\\n98.55% illuminated  \n",
       "5024  | waxing gibbous moon\\n98.67% illuminated  \n",
       "5025  | waxing gibbous moon\\n98.78% illuminated  "
      ]
     },
     "execution_count": 4,
     "metadata": {},
     "output_type": "execute_result"
    }
   ],
   "source": [
    "mi = dt.datetime(2020,9,29)\n",
    "#ma = dt.datetime(2019,9,2)\n",
    "ma = dt.datetime(2021,8,2)\n",
    "df = pd.DataFrame(columns=['date', 'temperature', 'humidity', 'wind speed', 'Precipitation amount',\n",
    "                           'Moon Phase calculator','query']) #pressure\n",
    "path_weather = os.path.join(path_,'weather.csv')\n",
    "if len(glob.glob(path_weather))==1:\n",
    "    df = pd.read_csv(path_weather, sep=';', parse_dates=['date'])\n",
    "    #remove the last date, in case we stop in middle of the data to grab\n",
    "    #df = df[df['date']!=max(df['date'].unique())]\n",
    "    df = df.drop_duplicates(subset=None, keep='first', inplace=False)\n",
    "    print(df.shape)\n",
    "    print('We already have %d dates of weather'%df.shape[0])\n",
    "    #mi = max(mi, max(df['date'].tolist())) #not a good idea in case of errors as in that case we would like to try it again \n",
    "print(df[df.isin([\"ERROR\"]).any(axis=1)].shape)\n",
    "display(df[df.isin([\"ERROR\"]).any(axis=1)])\n",
    "df = df[~df.isin([\"ERROR\"]).any(axis=1)]\n",
    "#remove the rows with at least one error\n",
    "Daterange = pd.date_range(start=mi, end=ma, freq='H')   \n",
    "print(len(Daterange))\n",
    "Daterange = [d for d in Daterange if d not in df['date'].unique()]\n",
    "print(len(Daterange))\n",
    "if (len(Daterange)*len(li_type))>=2000:\n",
    "    print('WARNING: to many calls to be completed these queries!')\n",
    "print('You need %d new queries to complete this date interval'%(len(Daterange)*len(li_type)))\n",
    "df = df.sort_values(['date'])\n",
    "print(df.shape)\n",
    "df.tail(5)"
   ]
  },
  {
   "cell_type": "code",
   "execution_count": 5,
   "metadata": {
    "scrolled": true
   },
   "outputs": [
    {
     "name": "stderr",
     "output_type": "stream",
     "text": [
      "\r",
      "  0%|                                                                                         | 0/2379 [00:00<?, ?it/s]"
     ]
    },
    {
     "name": "stdout",
     "output_type": "stream",
     "text": [
      "QUERY:  Precipitation amount in Zollikofen November 5, 2020 22h\n",
      "QUERY:  temperature in Zollikofen November 5, 2020 22h\n",
      "QUERY:  humidity in Zollikofen November 5, 2020 22h\n",
      "ERROR: no data available-------------  humidity in Zollikofen November 5, 2020 22h\n",
      "ERROR:------------- name 'error' is not defined  ----------  humidity in Zollikofen November 5, 2020 22h\n",
      "QUERY:  wind speed in Zollikofen November 5, 2020 22h\n",
      "QUERY:  Moon Phase calculatorNovember 5, 2020 22h\n",
      "(4991, 7)\n"
     ]
    },
    {
     "data": {
      "text/html": [
       "<div>\n",
       "<style scoped>\n",
       "    .dataframe tbody tr th:only-of-type {\n",
       "        vertical-align: middle;\n",
       "    }\n",
       "\n",
       "    .dataframe tbody tr th {\n",
       "        vertical-align: top;\n",
       "    }\n",
       "\n",
       "    .dataframe thead th {\n",
       "        text-align: right;\n",
       "    }\n",
       "</style>\n",
       "<table border=\"1\" class=\"dataframe\">\n",
       "  <thead>\n",
       "    <tr style=\"text-align: right;\">\n",
       "      <th></th>\n",
       "      <th>date</th>\n",
       "      <th>temperature</th>\n",
       "      <th>humidity</th>\n",
       "      <th>wind speed</th>\n",
       "      <th>Precipitation amount</th>\n",
       "      <th>query</th>\n",
       "      <th>Moon Phase calculator</th>\n",
       "    </tr>\n",
       "  </thead>\n",
       "  <tbody>\n",
       "    <tr>\n",
       "      <th>5025</th>\n",
       "      <td>2021-04-26 09:00:00</td>\n",
       "      <td>9 °C\\n(9:00 am CEST | Monday, April 26, 2021)</td>\n",
       "      <td>average: 52% (50 to 53%)\\n(9:00 am CEST | Mond...</td>\n",
       "      <td>3 m/s\\n(9:00 am CEST | Monday, April 26, 2021)</td>\n",
       "      <td>no precipitation\\n(9:00 am CEST | Monday, Apri...</td>\n",
       "      <td>Moon Phase calculatorApril 26, 2021 9h</td>\n",
       "      <td>| waxing gibbous moon\\n98.78% illuminated</td>\n",
       "    </tr>\n",
       "    <tr>\n",
       "      <th>0</th>\n",
       "      <td>2020-11-05 22:00:00</td>\n",
       "      <td>8 °C\\n(10:00 pm CET | Thursday, November 5, 2020)</td>\n",
       "      <td>ERROR</td>\n",
       "      <td>1 m/s\\n(10:00 pm CET | Thursday, November 5, 2...</td>\n",
       "      <td>(unknown)\\n(10:00 pm CET | Thursday, November ...</td>\n",
       "      <td>Moon Phase calculatorNovember 5, 2020 22h</td>\n",
       "      <td>| waning gibbous moon\\n76.55% illuminated</td>\n",
       "    </tr>\n",
       "  </tbody>\n",
       "</table>\n",
       "</div>"
      ],
      "text/plain": [
       "                    date                                        temperature  \\\n",
       "5025 2021-04-26 09:00:00      9 °C\\n(9:00 am CEST | Monday, April 26, 2021)   \n",
       "0    2020-11-05 22:00:00  8 °C\\n(10:00 pm CET | Thursday, November 5, 2020)   \n",
       "\n",
       "                                               humidity  \\\n",
       "5025  average: 52% (50 to 53%)\\n(9:00 am CEST | Mond...   \n",
       "0                                                 ERROR   \n",
       "\n",
       "                                             wind speed  \\\n",
       "5025     3 m/s\\n(9:00 am CEST | Monday, April 26, 2021)   \n",
       "0     1 m/s\\n(10:00 pm CET | Thursday, November 5, 2...   \n",
       "\n",
       "                                   Precipitation amount  \\\n",
       "5025  no precipitation\\n(9:00 am CEST | Monday, Apri...   \n",
       "0     (unknown)\\n(10:00 pm CET | Thursday, November ...   \n",
       "\n",
       "                                          query  \\\n",
       "5025     Moon Phase calculatorApril 26, 2021 9h   \n",
       "0     Moon Phase calculatorNovember 5, 2020 22h   \n",
       "\n",
       "                          Moon Phase calculator  \n",
       "5025  | waxing gibbous moon\\n98.78% illuminated  \n",
       "0     | waning gibbous moon\\n76.55% illuminated  "
      ]
     },
     "metadata": {},
     "output_type": "display_data"
    },
    {
     "name": "stderr",
     "output_type": "stream",
     "text": [
      "\r",
      "  0%|                                                                              | 1/2379 [00:18<11:58:10, 18.12s/it]"
     ]
    },
    {
     "name": "stdout",
     "output_type": "stream",
     "text": [
      "QUERY:  Precipitation amount in Zollikofen November 16, 2020 19h\n",
      "QUERY:  temperature in Zollikofen November 16, 2020 19h\n",
      "QUERY:  humidity in Zollikofen November 16, 2020 19h\n",
      "ERROR: no data available-------------  humidity in Zollikofen November 16, 2020 19h\n",
      "ERROR:------------- name 'error' is not defined  ----------  humidity in Zollikofen November 16, 2020 19h\n",
      "QUERY:  wind speed in Zollikofen November 16, 2020 19h\n",
      "QUERY:  Moon Phase calculatorNovember 16, 2020 19h\n"
     ]
    },
    {
     "name": "stderr",
     "output_type": "stream",
     "text": [
      "\r",
      "  0%|                                                                              | 2/2379 [00:38<12:19:32, 18.67s/it]"
     ]
    },
    {
     "name": "stdout",
     "output_type": "stream",
     "text": [
      "QUERY:  Precipitation amount in Zollikofen November 16, 2020 21h\n",
      "QUERY:  temperature in Zollikofen November 16, 2020 21h\n",
      "QUERY:  humidity in Zollikofen November 16, 2020 21h\n",
      "ERROR: no data available-------------  humidity in Zollikofen November 16, 2020 21h\n",
      "ERROR:------------- name 'error' is not defined  ----------  humidity in Zollikofen November 16, 2020 21h\n",
      "QUERY:  wind speed in Zollikofen November 16, 2020 21h\n",
      "QUERY:  Moon Phase calculatorNovember 16, 2020 21h\n"
     ]
    },
    {
     "name": "stderr",
     "output_type": "stream",
     "text": [
      "\r",
      "  0%|                                                                              | 3/2379 [00:58<12:39:08, 19.17s/it]"
     ]
    },
    {
     "name": "stdout",
     "output_type": "stream",
     "text": [
      "QUERY:  Precipitation amount in Zollikofen December 15, 2020 21h\n",
      "QUERY:  temperature in Zollikofen December 15, 2020 21h\n",
      "QUERY:  humidity in Zollikofen December 15, 2020 21h\n",
      "ERROR: no data available-------------  humidity in Zollikofen December 15, 2020 21h\n",
      "ERROR:------------- name 'error' is not defined  ----------  humidity in Zollikofen December 15, 2020 21h\n",
      "QUERY:  wind speed in Zollikofen December 15, 2020 21h\n",
      "QUERY:  Moon Phase calculatorDecember 15, 2020 21h\n"
     ]
    },
    {
     "name": "stderr",
     "output_type": "stream",
     "text": [
      "\r",
      "  0%|▏                                                                             | 4/2379 [01:19<12:57:18, 19.64s/it]"
     ]
    },
    {
     "name": "stdout",
     "output_type": "stream",
     "text": [
      "QUERY:  Precipitation amount in Zollikofen February 8, 2021 17h\n",
      "QUERY:  temperature in Zollikofen February 8, 2021 17h\n",
      "QUERY:  humidity in Zollikofen February 8, 2021 17h\n",
      "ERROR: no data available-------------  humidity in Zollikofen February 8, 2021 17h\n",
      "ERROR:------------- name 'error' is not defined  ----------  humidity in Zollikofen February 8, 2021 17h\n",
      "QUERY:  wind speed in Zollikofen February 8, 2021 17h\n",
      "QUERY:  Moon Phase calculatorFebruary 8, 2021 17h\n"
     ]
    },
    {
     "name": "stderr",
     "output_type": "stream",
     "text": [
      "\r",
      "  0%|▏                                                                             | 5/2379 [01:39<13:07:55, 19.91s/it]"
     ]
    },
    {
     "name": "stdout",
     "output_type": "stream",
     "text": [
      "QUERY:  Precipitation amount in Zollikofen February 8, 2021 18h\n",
      "QUERY:  temperature in Zollikofen February 8, 2021 18h\n",
      "QUERY:  humidity in Zollikofen February 8, 2021 18h\n",
      "ERROR: no data available-------------  humidity in Zollikofen February 8, 2021 18h\n",
      "ERROR:------------- name 'error' is not defined  ----------  humidity in Zollikofen February 8, 2021 18h\n",
      "QUERY:  wind speed in Zollikofen February 8, 2021 18h\n",
      "QUERY:  Moon Phase calculatorFebruary 8, 2021 18h\n"
     ]
    },
    {
     "name": "stderr",
     "output_type": "stream",
     "text": [
      "\r",
      "  0%|▏                                                                             | 6/2379 [01:58<12:55:40, 19.61s/it]"
     ]
    },
    {
     "name": "stdout",
     "output_type": "stream",
     "text": [
      "QUERY:  Precipitation amount in Zollikofen February 8, 2021 19h\n",
      "QUERY:  temperature in Zollikofen February 8, 2021 19h\n",
      "QUERY:  humidity in Zollikofen February 8, 2021 19h\n",
      "ERROR: no data available-------------  humidity in Zollikofen February 8, 2021 19h\n",
      "ERROR:------------- name 'error' is not defined  ----------  humidity in Zollikofen February 8, 2021 19h\n",
      "QUERY:  wind speed in Zollikofen February 8, 2021 19h\n",
      "QUERY:  Moon Phase calculatorFebruary 8, 2021 19h\n"
     ]
    },
    {
     "name": "stderr",
     "output_type": "stream",
     "text": [
      "\r",
      "  0%|▏                                                                             | 7/2379 [02:17<12:50:58, 19.50s/it]"
     ]
    },
    {
     "name": "stdout",
     "output_type": "stream",
     "text": [
      "QUERY:  Precipitation amount in Zollikofen February 8, 2021 20h\n",
      "QUERY:  temperature in Zollikofen February 8, 2021 20h\n",
      "QUERY:  humidity in Zollikofen February 8, 2021 20h\n",
      "ERROR: no data available-------------  humidity in Zollikofen February 8, 2021 20h\n",
      "ERROR:------------- name 'error' is not defined  ----------  humidity in Zollikofen February 8, 2021 20h\n",
      "QUERY:  wind speed in Zollikofen February 8, 2021 20h\n",
      "QUERY:  Moon Phase calculatorFebruary 8, 2021 20h\n"
     ]
    },
    {
     "name": "stderr",
     "output_type": "stream",
     "text": [
      "\r",
      "  0%|▎                                                                             | 8/2379 [02:36<12:42:48, 19.30s/it]"
     ]
    },
    {
     "name": "stdout",
     "output_type": "stream",
     "text": [
      "QUERY:  Precipitation amount in Zollikofen February 9, 2021 9h\n",
      "QUERY:  temperature in Zollikofen February 9, 2021 9h\n",
      "QUERY:  humidity in Zollikofen February 9, 2021 9h\n",
      "ERROR: no data available-------------  humidity in Zollikofen February 9, 2021 9h\n",
      "ERROR:------------- name 'error' is not defined  ----------  humidity in Zollikofen February 9, 2021 9h\n",
      "QUERY:  wind speed in Zollikofen February 9, 2021 9h\n",
      "QUERY:  Moon Phase calculatorFebruary 9, 2021 9h\n"
     ]
    },
    {
     "name": "stderr",
     "output_type": "stream",
     "text": [
      "\r",
      "  0%|▎                                                                             | 9/2379 [02:57<12:56:35, 19.66s/it]"
     ]
    },
    {
     "name": "stdout",
     "output_type": "stream",
     "text": [
      "QUERY:  Precipitation amount in Zollikofen February 9, 2021 10h\n",
      "QUERY:  temperature in Zollikofen February 9, 2021 10h\n",
      "QUERY:  humidity in Zollikofen February 9, 2021 10h\n",
      "ERROR: no data available-------------  humidity in Zollikofen February 9, 2021 10h\n",
      "ERROR:------------- name 'error' is not defined  ----------  humidity in Zollikofen February 9, 2021 10h\n",
      "QUERY:  wind speed in Zollikofen February 9, 2021 10h\n",
      "QUERY:  Moon Phase calculatorFebruary 9, 2021 10h\n"
     ]
    },
    {
     "name": "stderr",
     "output_type": "stream",
     "text": [
      "\r",
      "  0%|▎                                                                            | 10/2379 [03:16<12:53:36, 19.59s/it]"
     ]
    },
    {
     "name": "stdout",
     "output_type": "stream",
     "text": [
      "QUERY:  Precipitation amount in Zollikofen February 9, 2021 11h\n",
      "QUERY:  temperature in Zollikofen February 9, 2021 11h\n",
      "QUERY:  humidity in Zollikofen February 9, 2021 11h\n",
      "ERROR: no data available-------------  humidity in Zollikofen February 9, 2021 11h\n",
      "ERROR:------------- name 'error' is not defined  ----------  humidity in Zollikofen February 9, 2021 11h\n",
      "QUERY:  wind speed in Zollikofen February 9, 2021 11h\n",
      "QUERY:  Moon Phase calculatorFebruary 9, 2021 11h\n",
      "(5001, 7)\n"
     ]
    },
    {
     "data": {
      "text/html": [
       "<div>\n",
       "<style scoped>\n",
       "    .dataframe tbody tr th:only-of-type {\n",
       "        vertical-align: middle;\n",
       "    }\n",
       "\n",
       "    .dataframe tbody tr th {\n",
       "        vertical-align: top;\n",
       "    }\n",
       "\n",
       "    .dataframe thead th {\n",
       "        text-align: right;\n",
       "    }\n",
       "</style>\n",
       "<table border=\"1\" class=\"dataframe\">\n",
       "  <thead>\n",
       "    <tr style=\"text-align: right;\">\n",
       "      <th></th>\n",
       "      <th>date</th>\n",
       "      <th>temperature</th>\n",
       "      <th>humidity</th>\n",
       "      <th>wind speed</th>\n",
       "      <th>Precipitation amount</th>\n",
       "      <th>query</th>\n",
       "      <th>Moon Phase calculator</th>\n",
       "    </tr>\n",
       "  </thead>\n",
       "  <tbody>\n",
       "    <tr>\n",
       "      <th>8</th>\n",
       "      <td>2021-02-09 10:00:00</td>\n",
       "      <td>0 °C\\n(10:00 am CET | Tuesday, February 9, 2021)</td>\n",
       "      <td>ERROR</td>\n",
       "      <td>1 m/s\\n(10:00 am CET | Tuesday, February 9, 2021)</td>\n",
       "      <td>(unknown)\\n(10:00 am CET | Tuesday, February 9...</td>\n",
       "      <td>Moon Phase calculatorFebruary 9, 2021 10h</td>\n",
       "      <td>| waning crescent moon\\n6.82% illuminated</td>\n",
       "    </tr>\n",
       "    <tr>\n",
       "      <th>9</th>\n",
       "      <td>2021-02-09 11:00:00</td>\n",
       "      <td>0 °C\\n(11:00 am CET | Tuesday, February 9, 2021)</td>\n",
       "      <td>ERROR</td>\n",
       "      <td>1 m/s\\n(11:00 am CET | Tuesday, February 9, 2021)</td>\n",
       "      <td>(unknown)\\n(11:00 am CET | Tuesday, February 9...</td>\n",
       "      <td>Moon Phase calculatorFebruary 9, 2021 11h</td>\n",
       "      <td>| waning crescent moon\\n6.60% illuminated</td>\n",
       "    </tr>\n",
       "  </tbody>\n",
       "</table>\n",
       "</div>"
      ],
      "text/plain": [
       "                 date                                       temperature  \\\n",
       "8 2021-02-09 10:00:00  0 °C\\n(10:00 am CET | Tuesday, February 9, 2021)   \n",
       "9 2021-02-09 11:00:00  0 °C\\n(11:00 am CET | Tuesday, February 9, 2021)   \n",
       "\n",
       "  humidity                                         wind speed  \\\n",
       "8    ERROR  1 m/s\\n(10:00 am CET | Tuesday, February 9, 2021)   \n",
       "9    ERROR  1 m/s\\n(11:00 am CET | Tuesday, February 9, 2021)   \n",
       "\n",
       "                                Precipitation amount  \\\n",
       "8  (unknown)\\n(10:00 am CET | Tuesday, February 9...   \n",
       "9  (unknown)\\n(11:00 am CET | Tuesday, February 9...   \n",
       "\n",
       "                                       query  \\\n",
       "8  Moon Phase calculatorFebruary 9, 2021 10h   \n",
       "9  Moon Phase calculatorFebruary 9, 2021 11h   \n",
       "\n",
       "                       Moon Phase calculator  \n",
       "8  | waning crescent moon\\n6.82% illuminated  \n",
       "9  | waning crescent moon\\n6.60% illuminated  "
      ]
     },
     "metadata": {},
     "output_type": "display_data"
    },
    {
     "name": "stderr",
     "output_type": "stream",
     "text": [
      "\r",
      "  0%|▎                                                                            | 11/2379 [03:35<12:43:51, 19.35s/it]"
     ]
    },
    {
     "name": "stdout",
     "output_type": "stream",
     "text": [
      "QUERY:  Precipitation amount in Zollikofen February 9, 2021 12h\n",
      "QUERY:  temperature in Zollikofen February 9, 2021 12h\n",
      "QUERY:  humidity in Zollikofen February 9, 2021 12h\n",
      "ERROR: no data available-------------  humidity in Zollikofen February 9, 2021 12h\n",
      "ERROR:------------- name 'error' is not defined  ----------  humidity in Zollikofen February 9, 2021 12h\n",
      "QUERY:  wind speed in Zollikofen February 9, 2021 12h\n",
      "QUERY:  Moon Phase calculatorFebruary 9, 2021 12h\n"
     ]
    },
    {
     "name": "stderr",
     "output_type": "stream",
     "text": [
      "\r",
      "  1%|▍                                                                            | 12/2379 [03:54<12:37:37, 19.20s/it]"
     ]
    },
    {
     "name": "stdout",
     "output_type": "stream",
     "text": [
      "QUERY:  Precipitation amount in Zollikofen February 9, 2021 13h\n",
      "QUERY:  temperature in Zollikofen February 9, 2021 13h\n",
      "QUERY:  humidity in Zollikofen February 9, 2021 13h\n",
      "ERROR: no data available-------------  humidity in Zollikofen February 9, 2021 13h\n",
      "ERROR:------------- name 'error' is not defined  ----------  humidity in Zollikofen February 9, 2021 13h\n",
      "QUERY:  wind speed in Zollikofen February 9, 2021 13h\n",
      "QUERY:  Moon Phase calculatorFebruary 9, 2021 13h\n"
     ]
    },
    {
     "name": "stderr",
     "output_type": "stream",
     "text": [
      "\r",
      "  1%|▍                                                                            | 13/2379 [04:13<12:42:02, 19.32s/it]"
     ]
    },
    {
     "name": "stdout",
     "output_type": "stream",
     "text": [
      "QUERY:  Precipitation amount in Zollikofen February 9, 2021 15h\n",
      "QUERY:  temperature in Zollikofen February 9, 2021 15h\n",
      "QUERY:  humidity in Zollikofen February 9, 2021 15h\n",
      "ERROR: no data available-------------  humidity in Zollikofen February 9, 2021 15h\n",
      "ERROR:------------- name 'error' is not defined  ----------  humidity in Zollikofen February 9, 2021 15h\n",
      "QUERY:  wind speed in Zollikofen February 9, 2021 15h\n",
      "QUERY:  Moon Phase calculatorFebruary 9, 2021 15h\n"
     ]
    },
    {
     "name": "stderr",
     "output_type": "stream",
     "text": [
      "\r",
      "  1%|▍                                                                            | 14/2379 [04:33<12:44:50, 19.40s/it]"
     ]
    },
    {
     "name": "stdout",
     "output_type": "stream",
     "text": [
      "QUERY:  Precipitation amount in Zollikofen February 9, 2021 16h\n",
      "ERROR:------------- results  ----------  Precipitation amount in Zollikofen February 9, 2021 16h\n",
      "QUERY:  temperature in Zollikofen February 9, 2021 16h\n",
      "QUERY:  humidity in Zollikofen February 9, 2021 16h\n",
      "ERROR: no data available-------------  humidity in Zollikofen February 9, 2021 16h\n",
      "ERROR:------------- name 'error' is not defined  ----------  humidity in Zollikofen February 9, 2021 16h\n",
      "QUERY:  wind speed in Zollikofen February 9, 2021 16h\n",
      "QUERY:  Moon Phase calculatorFebruary 9, 2021 16h\n"
     ]
    },
    {
     "name": "stderr",
     "output_type": "stream",
     "text": [
      "\r",
      "  1%|▍                                                                            | 15/2379 [04:55<13:12:00, 20.10s/it]"
     ]
    },
    {
     "name": "stdout",
     "output_type": "stream",
     "text": [
      "QUERY:  Precipitation amount in Zollikofen February 9, 2021 17h\n",
      "QUERY:  temperature in Zollikofen February 9, 2021 17h\n",
      "QUERY:  humidity in Zollikofen February 9, 2021 17h\n",
      "ERROR: no data available-------------  humidity in Zollikofen February 9, 2021 17h\n",
      "ERROR:------------- name 'error' is not defined  ----------  humidity in Zollikofen February 9, 2021 17h\n",
      "QUERY:  wind speed in Zollikofen February 9, 2021 17h\n",
      "QUERY:  Moon Phase calculatorFebruary 9, 2021 17h\n"
     ]
    },
    {
     "name": "stderr",
     "output_type": "stream",
     "text": [
      "\r",
      "  1%|▌                                                                            | 16/2379 [05:15<13:14:26, 20.17s/it]"
     ]
    },
    {
     "name": "stdout",
     "output_type": "stream",
     "text": [
      "QUERY:  Precipitation amount in Zollikofen February 9, 2021 18h\n",
      "QUERY:  temperature in Zollikofen February 9, 2021 18h\n",
      "QUERY:  humidity in Zollikofen February 9, 2021 18h\n",
      "ERROR: no data available-------------  humidity in Zollikofen February 9, 2021 18h\n",
      "ERROR:------------- name 'error' is not defined  ----------  humidity in Zollikofen February 9, 2021 18h\n",
      "QUERY:  wind speed in Zollikofen February 9, 2021 18h\n",
      "QUERY:  Moon Phase calculatorFebruary 9, 2021 18h\n"
     ]
    },
    {
     "name": "stderr",
     "output_type": "stream",
     "text": [
      "\r",
      "  1%|▌                                                                            | 17/2379 [05:36<13:22:52, 20.39s/it]"
     ]
    },
    {
     "name": "stdout",
     "output_type": "stream",
     "text": [
      "QUERY:  Precipitation amount in Zollikofen February 9, 2021 19h\n",
      "QUERY:  temperature in Zollikofen February 9, 2021 19h\n",
      "QUERY:  humidity in Zollikofen February 9, 2021 19h\n",
      "ERROR: no data available-------------  humidity in Zollikofen February 9, 2021 19h\n",
      "ERROR:------------- name 'error' is not defined  ----------  humidity in Zollikofen February 9, 2021 19h\n",
      "QUERY:  wind speed in Zollikofen February 9, 2021 19h\n",
      "QUERY:  Moon Phase calculatorFebruary 9, 2021 19h\n"
     ]
    },
    {
     "name": "stderr",
     "output_type": "stream",
     "text": [
      "\r",
      "  1%|▌                                                                            | 18/2379 [05:55<13:09:58, 20.08s/it]"
     ]
    },
    {
     "name": "stdout",
     "output_type": "stream",
     "text": [
      "QUERY:  Precipitation amount in Zollikofen February 9, 2021 20h\n",
      "QUERY:  temperature in Zollikofen February 9, 2021 20h\n",
      "QUERY:  humidity in Zollikofen February 9, 2021 20h\n",
      "ERROR: no data available-------------  humidity in Zollikofen February 9, 2021 20h\n",
      "ERROR:------------- name 'error' is not defined  ----------  humidity in Zollikofen February 9, 2021 20h\n",
      "QUERY:  wind speed in Zollikofen February 9, 2021 20h\n",
      "QUERY:  Moon Phase calculatorFebruary 9, 2021 20h\n"
     ]
    },
    {
     "name": "stderr",
     "output_type": "stream",
     "text": [
      "\r",
      "  1%|▌                                                                            | 19/2379 [06:14<12:58:17, 19.79s/it]"
     ]
    },
    {
     "name": "stdout",
     "output_type": "stream",
     "text": [
      "QUERY:  Precipitation amount in Zollikofen February 9, 2021 21h\n",
      "QUERY:  temperature in Zollikofen February 9, 2021 21h\n",
      "QUERY:  humidity in Zollikofen February 9, 2021 21h\n",
      "ERROR: no data available-------------  humidity in Zollikofen February 9, 2021 21h\n",
      "ERROR:------------- name 'error' is not defined  ----------  humidity in Zollikofen February 9, 2021 21h\n",
      "QUERY:  wind speed in Zollikofen February 9, 2021 21h\n",
      "QUERY:  Moon Phase calculatorFebruary 9, 2021 21h\n"
     ]
    },
    {
     "name": "stderr",
     "output_type": "stream",
     "text": [
      "\r",
      "  1%|▋                                                                            | 20/2379 [06:33<12:48:10, 19.54s/it]"
     ]
    },
    {
     "name": "stdout",
     "output_type": "stream",
     "text": [
      "QUERY:  Precipitation amount in Zollikofen February 9, 2021 22h\n",
      "QUERY:  temperature in Zollikofen February 9, 2021 22h\n",
      "QUERY:  humidity in Zollikofen February 9, 2021 22h\n",
      "ERROR: no data available-------------  humidity in Zollikofen February 9, 2021 22h\n",
      "ERROR:------------- name 'error' is not defined  ----------  humidity in Zollikofen February 9, 2021 22h\n",
      "QUERY:  wind speed in Zollikofen February 9, 2021 22h\n",
      "QUERY:  Moon Phase calculatorFebruary 9, 2021 22h\n",
      "(5011, 7)\n"
     ]
    },
    {
     "data": {
      "text/html": [
       "<div>\n",
       "<style scoped>\n",
       "    .dataframe tbody tr th:only-of-type {\n",
       "        vertical-align: middle;\n",
       "    }\n",
       "\n",
       "    .dataframe tbody tr th {\n",
       "        vertical-align: top;\n",
       "    }\n",
       "\n",
       "    .dataframe thead th {\n",
       "        text-align: right;\n",
       "    }\n",
       "</style>\n",
       "<table border=\"1\" class=\"dataframe\">\n",
       "  <thead>\n",
       "    <tr style=\"text-align: right;\">\n",
       "      <th></th>\n",
       "      <th>date</th>\n",
       "      <th>temperature</th>\n",
       "      <th>humidity</th>\n",
       "      <th>wind speed</th>\n",
       "      <th>Precipitation amount</th>\n",
       "      <th>query</th>\n",
       "      <th>Moon Phase calculator</th>\n",
       "    </tr>\n",
       "  </thead>\n",
       "  <tbody>\n",
       "    <tr>\n",
       "      <th>8</th>\n",
       "      <td>2021-02-09 21:00:00</td>\n",
       "      <td>0 °C\\n(9:00 pm CET | Tuesday, February 9, 2021)</td>\n",
       "      <td>ERROR</td>\n",
       "      <td>4 m/s\\n(9:00 pm CET | Tuesday, February 9, 2021)</td>\n",
       "      <td>(unknown)\\n(9:00 pm CET | Tuesday, February 9,...</td>\n",
       "      <td>Moon Phase calculatorFebruary 9, 2021 21h</td>\n",
       "      <td>| waning crescent moon\\n4.53% illuminated</td>\n",
       "    </tr>\n",
       "    <tr>\n",
       "      <th>9</th>\n",
       "      <td>2021-02-09 22:00:00</td>\n",
       "      <td>0 °C\\n(10:00 pm CET | Tuesday, February 9, 2021)</td>\n",
       "      <td>ERROR</td>\n",
       "      <td>4 m/s\\n(10:00 pm CET | Tuesday, February 9, 2021)</td>\n",
       "      <td>(unknown)\\n(10:00 pm CET | Tuesday, February 9...</td>\n",
       "      <td>Moon Phase calculatorFebruary 9, 2021 22h</td>\n",
       "      <td>| waning crescent moon\\n4.34% illuminated</td>\n",
       "    </tr>\n",
       "  </tbody>\n",
       "</table>\n",
       "</div>"
      ],
      "text/plain": [
       "                 date                                       temperature  \\\n",
       "8 2021-02-09 21:00:00   0 °C\\n(9:00 pm CET | Tuesday, February 9, 2021)   \n",
       "9 2021-02-09 22:00:00  0 °C\\n(10:00 pm CET | Tuesday, February 9, 2021)   \n",
       "\n",
       "  humidity                                         wind speed  \\\n",
       "8    ERROR   4 m/s\\n(9:00 pm CET | Tuesday, February 9, 2021)   \n",
       "9    ERROR  4 m/s\\n(10:00 pm CET | Tuesday, February 9, 2021)   \n",
       "\n",
       "                                Precipitation amount  \\\n",
       "8  (unknown)\\n(9:00 pm CET | Tuesday, February 9,...   \n",
       "9  (unknown)\\n(10:00 pm CET | Tuesday, February 9...   \n",
       "\n",
       "                                       query  \\\n",
       "8  Moon Phase calculatorFebruary 9, 2021 21h   \n",
       "9  Moon Phase calculatorFebruary 9, 2021 22h   \n",
       "\n",
       "                       Moon Phase calculator  \n",
       "8  | waning crescent moon\\n4.53% illuminated  \n",
       "9  | waning crescent moon\\n4.34% illuminated  "
      ]
     },
     "metadata": {},
     "output_type": "display_data"
    },
    {
     "name": "stderr",
     "output_type": "stream",
     "text": [
      "\r",
      "  1%|▋                                                                            | 21/2379 [06:53<12:43:32, 19.43s/it]"
     ]
    },
    {
     "name": "stdout",
     "output_type": "stream",
     "text": [
      "QUERY:  Precipitation amount in Zollikofen February 10, 2021 10h\n",
      "QUERY:  temperature in Zollikofen February 10, 2021 10h\n",
      "QUERY:  humidity in Zollikofen February 10, 2021 10h\n",
      "ERROR: no data available-------------  humidity in Zollikofen February 10, 2021 10h\n",
      "ERROR:------------- name 'error' is not defined  ----------  humidity in Zollikofen February 10, 2021 10h\n",
      "QUERY:  wind speed in Zollikofen February 10, 2021 10h\n",
      "QUERY:  Moon Phase calculatorFebruary 10, 2021 10h\n"
     ]
    },
    {
     "name": "stderr",
     "output_type": "stream",
     "text": [
      "\r",
      "  1%|▋                                                                            | 22/2379 [07:11<12:36:14, 19.25s/it]"
     ]
    },
    {
     "name": "stdout",
     "output_type": "stream",
     "text": [
      "QUERY:  Precipitation amount in Zollikofen February 10, 2021 11h\n",
      "QUERY:  temperature in Zollikofen February 10, 2021 11h\n",
      "QUERY:  humidity in Zollikofen February 10, 2021 11h\n",
      "ERROR: no data available-------------  humidity in Zollikofen February 10, 2021 11h\n",
      "ERROR:------------- name 'error' is not defined  ----------  humidity in Zollikofen February 10, 2021 11h\n",
      "QUERY:  wind speed in Zollikofen February 10, 2021 11h\n",
      "QUERY:  Moon Phase calculatorFebruary 10, 2021 11h\n"
     ]
    },
    {
     "name": "stderr",
     "output_type": "stream",
     "text": [
      "\r",
      "  1%|▋                                                                            | 23/2379 [07:31<12:42:33, 19.42s/it]"
     ]
    },
    {
     "name": "stdout",
     "output_type": "stream",
     "text": [
      "QUERY:  Precipitation amount in Zollikofen February 10, 2021 12h\n",
      "QUERY:  temperature in Zollikofen February 10, 2021 12h\n",
      "QUERY:  humidity in Zollikofen February 10, 2021 12h\n",
      "ERROR: no data available-------------  humidity in Zollikofen February 10, 2021 12h\n",
      "ERROR:------------- name 'error' is not defined  ----------  humidity in Zollikofen February 10, 2021 12h\n",
      "QUERY:  wind speed in Zollikofen February 10, 2021 12h\n",
      "QUERY:  Moon Phase calculatorFebruary 10, 2021 12h\n"
     ]
    },
    {
     "name": "stderr",
     "output_type": "stream",
     "text": [
      "\r",
      "  1%|▊                                                                            | 24/2379 [07:50<12:36:45, 19.28s/it]"
     ]
    },
    {
     "name": "stdout",
     "output_type": "stream",
     "text": [
      "QUERY:  Precipitation amount in Zollikofen February 10, 2021 13h\n",
      "QUERY:  temperature in Zollikofen February 10, 2021 13h\n",
      "QUERY:  humidity in Zollikofen February 10, 2021 13h\n",
      "ERROR: no data available-------------  humidity in Zollikofen February 10, 2021 13h\n",
      "ERROR:------------- name 'error' is not defined  ----------  humidity in Zollikofen February 10, 2021 13h\n",
      "QUERY:  wind speed in Zollikofen February 10, 2021 13h\n",
      "QUERY:  Moon Phase calculatorFebruary 10, 2021 13h\n"
     ]
    },
    {
     "name": "stderr",
     "output_type": "stream",
     "text": [
      "\r",
      "  1%|▊                                                                            | 25/2379 [08:10<12:37:57, 19.32s/it]"
     ]
    },
    {
     "name": "stdout",
     "output_type": "stream",
     "text": [
      "QUERY:  Precipitation amount in Zollikofen February 10, 2021 14h\n",
      "QUERY:  temperature in Zollikofen February 10, 2021 14h\n",
      "QUERY:  humidity in Zollikofen February 10, 2021 14h\n",
      "ERROR: no data available-------------  humidity in Zollikofen February 10, 2021 14h\n",
      "ERROR:------------- name 'error' is not defined  ----------  humidity in Zollikofen February 10, 2021 14h\n",
      "QUERY:  wind speed in Zollikofen February 10, 2021 14h\n",
      "QUERY:  Moon Phase calculatorFebruary 10, 2021 14h\n"
     ]
    },
    {
     "name": "stderr",
     "output_type": "stream",
     "text": [
      "\r",
      "  1%|▊                                                                            | 26/2379 [08:28<12:28:24, 19.08s/it]"
     ]
    },
    {
     "name": "stdout",
     "output_type": "stream",
     "text": [
      "QUERY:  Precipitation amount in Zollikofen February 10, 2021 15h\n",
      "QUERY:  temperature in Zollikofen February 10, 2021 15h\n",
      "QUERY:  humidity in Zollikofen February 10, 2021 15h\n",
      "ERROR: no data available-------------  humidity in Zollikofen February 10, 2021 15h\n",
      "ERROR:------------- name 'error' is not defined  ----------  humidity in Zollikofen February 10, 2021 15h\n",
      "QUERY:  wind speed in Zollikofen February 10, 2021 15h\n",
      "QUERY:  Moon Phase calculatorFebruary 10, 2021 15h\n"
     ]
    },
    {
     "name": "stderr",
     "output_type": "stream",
     "text": [
      "\r",
      "  1%|▊                                                                            | 27/2379 [08:48<12:34:23, 19.24s/it]"
     ]
    },
    {
     "name": "stdout",
     "output_type": "stream",
     "text": [
      "QUERY:  Precipitation amount in Zollikofen February 10, 2021 16h\n",
      "QUERY:  temperature in Zollikofen February 10, 2021 16h\n",
      "QUERY:  humidity in Zollikofen February 10, 2021 16h\n",
      "ERROR: no data available-------------  humidity in Zollikofen February 10, 2021 16h\n",
      "ERROR:------------- name 'error' is not defined  ----------  humidity in Zollikofen February 10, 2021 16h\n",
      "QUERY:  wind speed in Zollikofen February 10, 2021 16h\n",
      "QUERY:  Moon Phase calculatorFebruary 10, 2021 16h\n"
     ]
    },
    {
     "name": "stderr",
     "output_type": "stream",
     "text": [
      "\r",
      "  1%|▉                                                                            | 28/2379 [09:06<12:27:59, 19.09s/it]"
     ]
    },
    {
     "name": "stdout",
     "output_type": "stream",
     "text": [
      "QUERY:  Precipitation amount in Zollikofen February 10, 2021 17h\n",
      "QUERY:  temperature in Zollikofen February 10, 2021 17h\n",
      "QUERY:  humidity in Zollikofen February 10, 2021 17h\n",
      "ERROR: no data available-------------  humidity in Zollikofen February 10, 2021 17h\n",
      "ERROR:------------- name 'error' is not defined  ----------  humidity in Zollikofen February 10, 2021 17h\n",
      "QUERY:  wind speed in Zollikofen February 10, 2021 17h\n",
      "QUERY:  Moon Phase calculatorFebruary 10, 2021 17h\n"
     ]
    },
    {
     "name": "stderr",
     "output_type": "stream",
     "text": [
      "\r",
      "  1%|▉                                                                            | 29/2379 [09:25<12:21:39, 18.94s/it]"
     ]
    },
    {
     "name": "stdout",
     "output_type": "stream",
     "text": [
      "QUERY:  Precipitation amount in Zollikofen February 10, 2021 18h\n",
      "QUERY:  temperature in Zollikofen February 10, 2021 18h\n",
      "QUERY:  humidity in Zollikofen February 10, 2021 18h\n",
      "ERROR: no data available-------------  humidity in Zollikofen February 10, 2021 18h\n",
      "ERROR:------------- name 'error' is not defined  ----------  humidity in Zollikofen February 10, 2021 18h\n",
      "QUERY:  wind speed in Zollikofen February 10, 2021 18h\n",
      "QUERY:  Moon Phase calculatorFebruary 10, 2021 18h\n"
     ]
    },
    {
     "name": "stderr",
     "output_type": "stream",
     "text": [
      "\r",
      "  1%|▉                                                                            | 30/2379 [09:44<12:24:44, 19.02s/it]"
     ]
    },
    {
     "name": "stdout",
     "output_type": "stream",
     "text": [
      "QUERY:  Precipitation amount in Zollikofen February 10, 2021 19h\n",
      "QUERY:  temperature in Zollikofen February 10, 2021 19h\n",
      "QUERY:  humidity in Zollikofen February 10, 2021 19h\n",
      "ERROR: no data available-------------  humidity in Zollikofen February 10, 2021 19h\n",
      "ERROR:------------- name 'error' is not defined  ----------  humidity in Zollikofen February 10, 2021 19h\n",
      "QUERY:  wind speed in Zollikofen February 10, 2021 19h\n",
      "QUERY:  Moon Phase calculatorFebruary 10, 2021 19h\n",
      "(5021, 7)\n"
     ]
    },
    {
     "data": {
      "text/html": [
       "<div>\n",
       "<style scoped>\n",
       "    .dataframe tbody tr th:only-of-type {\n",
       "        vertical-align: middle;\n",
       "    }\n",
       "\n",
       "    .dataframe tbody tr th {\n",
       "        vertical-align: top;\n",
       "    }\n",
       "\n",
       "    .dataframe thead th {\n",
       "        text-align: right;\n",
       "    }\n",
       "</style>\n",
       "<table border=\"1\" class=\"dataframe\">\n",
       "  <thead>\n",
       "    <tr style=\"text-align: right;\">\n",
       "      <th></th>\n",
       "      <th>date</th>\n",
       "      <th>temperature</th>\n",
       "      <th>humidity</th>\n",
       "      <th>wind speed</th>\n",
       "      <th>Precipitation amount</th>\n",
       "      <th>query</th>\n",
       "      <th>Moon Phase calculator</th>\n",
       "    </tr>\n",
       "  </thead>\n",
       "  <tbody>\n",
       "    <tr>\n",
       "      <th>8</th>\n",
       "      <td>2021-02-10 18:00:00</td>\n",
       "      <td>-2 °C\\n(6:00 pm CET | Wednesday, February 10, ...</td>\n",
       "      <td>ERROR</td>\n",
       "      <td>3 m/s\\n(6:00 pm CET | Wednesday, February 10, ...</td>\n",
       "      <td>(unknown)\\n(6:00 pm CET | Wednesday, February ...</td>\n",
       "      <td>Moon Phase calculatorFebruary 10, 2021 18h</td>\n",
       "      <td>| waning crescent moon\\n1.48% illuminated</td>\n",
       "    </tr>\n",
       "    <tr>\n",
       "      <th>9</th>\n",
       "      <td>2021-02-10 19:00:00</td>\n",
       "      <td>-2 °C\\n(7:00 pm CET | Wednesday, February 10, ...</td>\n",
       "      <td>ERROR</td>\n",
       "      <td>4 m/s\\n(7:00 pm CET | Wednesday, February 10, ...</td>\n",
       "      <td>(unknown)\\n(7:00 pm CET | Wednesday, February ...</td>\n",
       "      <td>Moon Phase calculatorFebruary 10, 2021 19h</td>\n",
       "      <td>| waning crescent moon\\n1.38% illuminated</td>\n",
       "    </tr>\n",
       "  </tbody>\n",
       "</table>\n",
       "</div>"
      ],
      "text/plain": [
       "                 date                                        temperature  \\\n",
       "8 2021-02-10 18:00:00  -2 °C\\n(6:00 pm CET | Wednesday, February 10, ...   \n",
       "9 2021-02-10 19:00:00  -2 °C\\n(7:00 pm CET | Wednesday, February 10, ...   \n",
       "\n",
       "  humidity                                         wind speed  \\\n",
       "8    ERROR  3 m/s\\n(6:00 pm CET | Wednesday, February 10, ...   \n",
       "9    ERROR  4 m/s\\n(7:00 pm CET | Wednesday, February 10, ...   \n",
       "\n",
       "                                Precipitation amount  \\\n",
       "8  (unknown)\\n(6:00 pm CET | Wednesday, February ...   \n",
       "9  (unknown)\\n(7:00 pm CET | Wednesday, February ...   \n",
       "\n",
       "                                        query  \\\n",
       "8  Moon Phase calculatorFebruary 10, 2021 18h   \n",
       "9  Moon Phase calculatorFebruary 10, 2021 19h   \n",
       "\n",
       "                       Moon Phase calculator  \n",
       "8  | waning crescent moon\\n1.48% illuminated  \n",
       "9  | waning crescent moon\\n1.38% illuminated  "
      ]
     },
     "metadata": {},
     "output_type": "display_data"
    },
    {
     "name": "stderr",
     "output_type": "stream",
     "text": [
      "\r",
      "  1%|█                                                                            | 31/2379 [10:03<12:21:04, 18.94s/it]"
     ]
    },
    {
     "name": "stdout",
     "output_type": "stream",
     "text": [
      "QUERY:  Precipitation amount in Zollikofen February 10, 2021 20h\n",
      "QUERY:  temperature in Zollikofen February 10, 2021 20h\n",
      "QUERY:  humidity in Zollikofen February 10, 2021 20h\n",
      "ERROR: no data available-------------  humidity in Zollikofen February 10, 2021 20h\n",
      "ERROR:------------- name 'error' is not defined  ----------  humidity in Zollikofen February 10, 2021 20h\n",
      "QUERY:  wind speed in Zollikofen February 10, 2021 20h\n",
      "QUERY:  Moon Phase calculatorFebruary 10, 2021 20h\n"
     ]
    },
    {
     "name": "stderr",
     "output_type": "stream",
     "text": [
      "\r",
      "  1%|█                                                                            | 32/2379 [10:22<12:19:34, 18.91s/it]"
     ]
    },
    {
     "name": "stdout",
     "output_type": "stream",
     "text": [
      "QUERY:  Precipitation amount in Zollikofen February 10, 2021 21h\n",
      "QUERY:  temperature in Zollikofen February 10, 2021 21h\n",
      "QUERY:  humidity in Zollikofen February 10, 2021 21h\n",
      "ERROR: no data available-------------  humidity in Zollikofen February 10, 2021 21h\n",
      "ERROR:------------- name 'error' is not defined  ----------  humidity in Zollikofen February 10, 2021 21h\n",
      "QUERY:  wind speed in Zollikofen February 10, 2021 21h\n",
      "QUERY:  Moon Phase calculatorFebruary 10, 2021 21h\n"
     ]
    },
    {
     "name": "stderr",
     "output_type": "stream",
     "text": [
      "\r",
      "  1%|█                                                                            | 33/2379 [10:42<12:36:40, 19.35s/it]"
     ]
    },
    {
     "name": "stdout",
     "output_type": "stream",
     "text": [
      "QUERY:  Precipitation amount in Zollikofen February 10, 2021 22h\n",
      "QUERY:  temperature in Zollikofen February 10, 2021 22h\n",
      "QUERY:  humidity in Zollikofen February 10, 2021 22h\n",
      "ERROR: no data available-------------  humidity in Zollikofen February 10, 2021 22h\n",
      "ERROR:------------- name 'error' is not defined  ----------  humidity in Zollikofen February 10, 2021 22h\n",
      "QUERY:  wind speed in Zollikofen February 10, 2021 22h\n",
      "QUERY:  Moon Phase calculatorFebruary 10, 2021 22h\n"
     ]
    },
    {
     "name": "stderr",
     "output_type": "stream",
     "text": [
      "\r",
      "  1%|█                                                                            | 34/2379 [11:02<12:37:32, 19.38s/it]"
     ]
    },
    {
     "name": "stdout",
     "output_type": "stream",
     "text": [
      "QUERY:  Precipitation amount in Zollikofen February 10, 2021 23h\n",
      "QUERY:  temperature in Zollikofen February 10, 2021 23h\n",
      "QUERY:  humidity in Zollikofen February 10, 2021 23h\n",
      "ERROR: no data available-------------  humidity in Zollikofen February 10, 2021 23h\n",
      "ERROR:------------- name 'error' is not defined  ----------  humidity in Zollikofen February 10, 2021 23h\n",
      "QUERY:  wind speed in Zollikofen February 10, 2021 23h\n",
      "QUERY:  Moon Phase calculatorFebruary 10, 2021 23h\n"
     ]
    },
    {
     "name": "stderr",
     "output_type": "stream",
     "text": [
      "\r",
      "  1%|█▏                                                                           | 35/2379 [11:23<12:55:16, 19.84s/it]"
     ]
    },
    {
     "name": "stdout",
     "output_type": "stream",
     "text": [
      "QUERY:  Precipitation amount in Zollikofen March 28, 2021 1h\n",
      "QUERY:  temperature in Zollikofen March 28, 2021 1h\n",
      "QUERY:  humidity in Zollikofen March 28, 2021 1h\n",
      "ERROR: no data available-------------  humidity in Zollikofen March 28, 2021 1h\n",
      "ERROR:------------- name 'error' is not defined  ----------  humidity in Zollikofen March 28, 2021 1h\n",
      "QUERY:  wind speed in Zollikofen March 28, 2021 1h\n",
      "QUERY:  Moon Phase calculatorMarch 28, 2021 1h\n"
     ]
    },
    {
     "name": "stderr",
     "output_type": "stream",
     "text": [
      "\r",
      "  2%|█▏                                                                           | 36/2379 [11:42<12:50:43, 19.74s/it]"
     ]
    },
    {
     "name": "stdout",
     "output_type": "stream",
     "text": [
      "QUERY:  Precipitation amount in Zollikofen April 26, 2021 10h\n",
      "QUERY:  temperature in Zollikofen April 26, 2021 10h\n",
      "QUERY:  humidity in Zollikofen April 26, 2021 10h\n",
      "QUERY:  wind speed in Zollikofen April 26, 2021 10h\n",
      "QUERY:  Moon Phase calculatorApril 26, 2021 10h\n"
     ]
    },
    {
     "name": "stderr",
     "output_type": "stream",
     "text": [
      "\r",
      "  2%|█▏                                                                           | 37/2379 [12:04<13:14:16, 20.35s/it]"
     ]
    },
    {
     "name": "stdout",
     "output_type": "stream",
     "text": [
      "QUERY:  Precipitation amount in Zollikofen April 26, 2021 11h\n",
      "QUERY:  temperature in Zollikofen April 26, 2021 11h\n",
      "QUERY:  humidity in Zollikofen April 26, 2021 11h\n",
      "QUERY:  wind speed in Zollikofen April 26, 2021 11h\n",
      "QUERY:  Moon Phase calculatorApril 26, 2021 11h\n"
     ]
    },
    {
     "name": "stderr",
     "output_type": "stream",
     "text": [
      "\r",
      "  2%|█▏                                                                           | 38/2379 [12:23<13:05:21, 20.13s/it]"
     ]
    },
    {
     "name": "stdout",
     "output_type": "stream",
     "text": [
      "QUERY:  Precipitation amount in Zollikofen April 26, 2021 12h\n",
      "QUERY:  temperature in Zollikofen April 26, 2021 12h\n",
      "QUERY:  humidity in Zollikofen April 26, 2021 12h\n",
      "QUERY:  wind speed in Zollikofen April 26, 2021 12h\n",
      "QUERY:  Moon Phase calculatorApril 26, 2021 12h\n"
     ]
    },
    {
     "name": "stderr",
     "output_type": "stream",
     "text": [
      "\r",
      "  2%|█▎                                                                           | 39/2379 [12:43<12:59:57, 20.00s/it]"
     ]
    },
    {
     "name": "stdout",
     "output_type": "stream",
     "text": [
      "QUERY:  Precipitation amount in Zollikofen April 26, 2021 13h\n",
      "QUERY:  temperature in Zollikofen April 26, 2021 13h\n",
      "QUERY:  humidity in Zollikofen April 26, 2021 13h\n",
      "QUERY:  wind speed in Zollikofen April 26, 2021 13h\n",
      "QUERY:  Moon Phase calculatorApril 26, 2021 13h\n"
     ]
    },
    {
     "name": "stderr",
     "output_type": "stream",
     "text": [
      "\r",
      "  2%|█▎                                                                           | 40/2379 [13:04<13:12:49, 20.34s/it]"
     ]
    },
    {
     "name": "stdout",
     "output_type": "stream",
     "text": [
      "QUERY:  Precipitation amount in Zollikofen April 26, 2021 14h\n",
      "QUERY:  temperature in Zollikofen April 26, 2021 14h\n",
      "QUERY:  humidity in Zollikofen April 26, 2021 14h\n",
      "QUERY:  wind speed in Zollikofen April 26, 2021 14h\n",
      "QUERY:  Moon Phase calculatorApril 26, 2021 14h\n",
      "(5031, 7)\n"
     ]
    },
    {
     "data": {
      "text/html": [
       "<div>\n",
       "<style scoped>\n",
       "    .dataframe tbody tr th:only-of-type {\n",
       "        vertical-align: middle;\n",
       "    }\n",
       "\n",
       "    .dataframe tbody tr th {\n",
       "        vertical-align: top;\n",
       "    }\n",
       "\n",
       "    .dataframe thead th {\n",
       "        text-align: right;\n",
       "    }\n",
       "</style>\n",
       "<table border=\"1\" class=\"dataframe\">\n",
       "  <thead>\n",
       "    <tr style=\"text-align: right;\">\n",
       "      <th></th>\n",
       "      <th>date</th>\n",
       "      <th>temperature</th>\n",
       "      <th>humidity</th>\n",
       "      <th>wind speed</th>\n",
       "      <th>Precipitation amount</th>\n",
       "      <th>query</th>\n",
       "      <th>Moon Phase calculator</th>\n",
       "    </tr>\n",
       "  </thead>\n",
       "  <tbody>\n",
       "    <tr>\n",
       "      <th>8</th>\n",
       "      <td>2021-04-26 13:00:00</td>\n",
       "      <td>15 °C\\n(1:00 pm CEST | Monday, April 26, 2021)</td>\n",
       "      <td>average: 43% (42 to 45%)\\n(1:00 pm CEST | Mond...</td>\n",
       "      <td>4 m/s\\n(1:00 pm CEST | Monday, April 26, 2021)</td>\n",
       "      <td>no precipitation\\n(1:00 pm CEST | Monday, Apri...</td>\n",
       "      <td>Moon Phase calculatorApril 26, 2021 13h</td>\n",
       "      <td>| waxing gibbous moon\\n99.18% illuminated</td>\n",
       "    </tr>\n",
       "    <tr>\n",
       "      <th>9</th>\n",
       "      <td>2021-04-26 14:00:00</td>\n",
       "      <td>16 °C\\n(2:00 pm CEST | Monday, April 26, 2021)</td>\n",
       "      <td>average: 44% (42 to 45%)\\n(2:00 pm CEST | Mond...</td>\n",
       "      <td>5 m/s\\n(2:00 pm CEST | Monday, April 26, 2021)</td>\n",
       "      <td>no precipitation\\n(2:00 pm CEST | Monday, Apri...</td>\n",
       "      <td>Moon Phase calculatorApril 26, 2021 14h</td>\n",
       "      <td>| waxing gibbous moon\\n99.26% illuminated</td>\n",
       "    </tr>\n",
       "  </tbody>\n",
       "</table>\n",
       "</div>"
      ],
      "text/plain": [
       "                 date                                     temperature  \\\n",
       "8 2021-04-26 13:00:00  15 °C\\n(1:00 pm CEST | Monday, April 26, 2021)   \n",
       "9 2021-04-26 14:00:00  16 °C\\n(2:00 pm CEST | Monday, April 26, 2021)   \n",
       "\n",
       "                                            humidity  \\\n",
       "8  average: 43% (42 to 45%)\\n(1:00 pm CEST | Mond...   \n",
       "9  average: 44% (42 to 45%)\\n(2:00 pm CEST | Mond...   \n",
       "\n",
       "                                       wind speed  \\\n",
       "8  4 m/s\\n(1:00 pm CEST | Monday, April 26, 2021)   \n",
       "9  5 m/s\\n(2:00 pm CEST | Monday, April 26, 2021)   \n",
       "\n",
       "                                Precipitation amount  \\\n",
       "8  no precipitation\\n(1:00 pm CEST | Monday, Apri...   \n",
       "9  no precipitation\\n(2:00 pm CEST | Monday, Apri...   \n",
       "\n",
       "                                     query  \\\n",
       "8  Moon Phase calculatorApril 26, 2021 13h   \n",
       "9  Moon Phase calculatorApril 26, 2021 14h   \n",
       "\n",
       "                       Moon Phase calculator  \n",
       "8  | waxing gibbous moon\\n99.18% illuminated  \n",
       "9  | waxing gibbous moon\\n99.26% illuminated  "
      ]
     },
     "metadata": {},
     "output_type": "display_data"
    },
    {
     "name": "stderr",
     "output_type": "stream",
     "text": [
      "\r",
      "  2%|█▎                                                                           | 41/2379 [13:24<13:04:13, 20.13s/it]"
     ]
    },
    {
     "name": "stdout",
     "output_type": "stream",
     "text": [
      "QUERY:  Precipitation amount in Zollikofen April 26, 2021 15h\n",
      "QUERY:  temperature in Zollikofen April 26, 2021 15h\n",
      "QUERY:  humidity in Zollikofen April 26, 2021 15h\n",
      "QUERY:  wind speed in Zollikofen April 26, 2021 15h\n",
      "QUERY:  Moon Phase calculatorApril 26, 2021 15h\n"
     ]
    },
    {
     "name": "stderr",
     "output_type": "stream",
     "text": [
      "\r",
      "  2%|█▎                                                                           | 42/2379 [13:43<12:56:50, 19.94s/it]"
     ]
    },
    {
     "name": "stdout",
     "output_type": "stream",
     "text": [
      "QUERY:  Precipitation amount in Zollikofen April 26, 2021 16h\n",
      "QUERY:  temperature in Zollikofen April 26, 2021 16h\n",
      "QUERY:  humidity in Zollikofen April 26, 2021 16h\n",
      "QUERY:  wind speed in Zollikofen April 26, 2021 16h\n",
      "QUERY:  Moon Phase calculatorApril 26, 2021 16h\n"
     ]
    },
    {
     "name": "stderr",
     "output_type": "stream",
     "text": [
      "\r",
      "  2%|█▍                                                                           | 43/2379 [14:04<13:05:42, 20.18s/it]"
     ]
    },
    {
     "name": "stdout",
     "output_type": "stream",
     "text": [
      "QUERY:  Precipitation amount in Zollikofen April 26, 2021 17h\n",
      "QUERY:  temperature in Zollikofen April 26, 2021 17h\n",
      "QUERY:  humidity in Zollikofen April 26, 2021 17h\n",
      "QUERY:  wind speed in Zollikofen April 26, 2021 17h\n",
      "QUERY:  Moon Phase calculatorApril 26, 2021 17h\n"
     ]
    },
    {
     "name": "stderr",
     "output_type": "stream",
     "text": [
      "\r",
      "  2%|█▍                                                                           | 44/2379 [14:24<12:58:47, 20.01s/it]"
     ]
    },
    {
     "name": "stdout",
     "output_type": "stream",
     "text": [
      "QUERY:  Precipitation amount in Zollikofen April 26, 2021 18h\n",
      "QUERY:  temperature in Zollikofen April 26, 2021 18h\n",
      "QUERY:  humidity in Zollikofen April 26, 2021 18h\n",
      "QUERY:  wind speed in Zollikofen April 26, 2021 18h\n",
      "QUERY:  Moon Phase calculatorApril 26, 2021 18h\n"
     ]
    },
    {
     "name": "stderr",
     "output_type": "stream",
     "text": [
      "\r",
      "  2%|█▍                                                                           | 45/2379 [14:44<13:04:40, 20.17s/it]"
     ]
    },
    {
     "name": "stdout",
     "output_type": "stream",
     "text": [
      "QUERY:  Precipitation amount in Zollikofen April 26, 2021 19h\n",
      "QUERY:  temperature in Zollikofen April 26, 2021 19h\n",
      "QUERY:  humidity in Zollikofen April 26, 2021 19h\n",
      "QUERY:  wind speed in Zollikofen April 26, 2021 19h\n",
      "QUERY:  Moon Phase calculatorApril 26, 2021 19h\n"
     ]
    },
    {
     "name": "stderr",
     "output_type": "stream",
     "text": [
      "\r",
      "  2%|█▍                                                                           | 46/2379 [15:04<12:57:06, 19.99s/it]"
     ]
    },
    {
     "name": "stdout",
     "output_type": "stream",
     "text": [
      "QUERY:  Precipitation amount in Zollikofen April 26, 2021 20h\n",
      "QUERY:  temperature in Zollikofen April 26, 2021 20h\n",
      "QUERY:  humidity in Zollikofen April 26, 2021 20h\n",
      "QUERY:  wind speed in Zollikofen April 26, 2021 20h\n",
      "QUERY:  Moon Phase calculatorApril 26, 2021 20h\n"
     ]
    },
    {
     "name": "stderr",
     "output_type": "stream",
     "text": [
      "\r",
      "  2%|█▌                                                                           | 47/2379 [15:25<13:08:09, 20.28s/it]"
     ]
    },
    {
     "name": "stdout",
     "output_type": "stream",
     "text": [
      "QUERY:  Precipitation amount in Zollikofen April 26, 2021 21h\n",
      "QUERY:  temperature in Zollikofen April 26, 2021 21h\n",
      "QUERY:  humidity in Zollikofen April 26, 2021 21h\n",
      "QUERY:  wind speed in Zollikofen April 26, 2021 21h\n",
      "QUERY:  Moon Phase calculatorApril 26, 2021 21h\n"
     ]
    },
    {
     "name": "stderr",
     "output_type": "stream",
     "text": [
      "\r",
      "  2%|█▌                                                                           | 48/2379 [15:45<13:07:52, 20.28s/it]"
     ]
    },
    {
     "name": "stdout",
     "output_type": "stream",
     "text": [
      "QUERY:  Precipitation amount in Zollikofen April 26, 2021 22h\n",
      "QUERY:  temperature in Zollikofen April 26, 2021 22h\n",
      "QUERY:  humidity in Zollikofen April 26, 2021 22h\n",
      "QUERY:  wind speed in Zollikofen April 26, 2021 22h\n",
      "QUERY:  Moon Phase calculatorApril 26, 2021 22h\n"
     ]
    },
    {
     "name": "stderr",
     "output_type": "stream",
     "text": [
      "\r",
      "  2%|█▌                                                                           | 49/2379 [16:05<12:59:10, 20.06s/it]"
     ]
    },
    {
     "name": "stdout",
     "output_type": "stream",
     "text": [
      "QUERY:  Precipitation amount in Zollikofen April 26, 2021 23h\n",
      "QUERY:  temperature in Zollikofen April 26, 2021 23h\n",
      "QUERY:  humidity in Zollikofen April 26, 2021 23h\n",
      "QUERY:  wind speed in Zollikofen April 26, 2021 23h\n",
      "QUERY:  Moon Phase calculatorApril 26, 2021 23h\n"
     ]
    },
    {
     "name": "stderr",
     "output_type": "stream",
     "text": [
      "\r",
      "  2%|█▌                                                                           | 50/2379 [16:24<12:54:39, 19.96s/it]"
     ]
    },
    {
     "name": "stdout",
     "output_type": "stream",
     "text": [
      "QUERY:  Precipitation amount in Zollikofen April 27, 2021 0h\n",
      "QUERY:  temperature in Zollikofen April 27, 2021 0h\n",
      "QUERY:  humidity in Zollikofen April 27, 2021 0h\n",
      "QUERY:  wind speed in Zollikofen April 27, 2021 0h\n",
      "QUERY:  Moon Phase calculatorApril 27, 2021 0h\n",
      "(5041, 7)\n"
     ]
    },
    {
     "data": {
      "text/html": [
       "<div>\n",
       "<style scoped>\n",
       "    .dataframe tbody tr th:only-of-type {\n",
       "        vertical-align: middle;\n",
       "    }\n",
       "\n",
       "    .dataframe tbody tr th {\n",
       "        vertical-align: top;\n",
       "    }\n",
       "\n",
       "    .dataframe thead th {\n",
       "        text-align: right;\n",
       "    }\n",
       "</style>\n",
       "<table border=\"1\" class=\"dataframe\">\n",
       "  <thead>\n",
       "    <tr style=\"text-align: right;\">\n",
       "      <th></th>\n",
       "      <th>date</th>\n",
       "      <th>temperature</th>\n",
       "      <th>humidity</th>\n",
       "      <th>wind speed</th>\n",
       "      <th>Precipitation amount</th>\n",
       "      <th>query</th>\n",
       "      <th>Moon Phase calculator</th>\n",
       "    </tr>\n",
       "  </thead>\n",
       "  <tbody>\n",
       "    <tr>\n",
       "      <th>8</th>\n",
       "      <td>2021-04-26 23:00:00</td>\n",
       "      <td>10 °C\\n(11:00 pm CEST | Monday, April 26, 2021)</td>\n",
       "      <td>average: 66% (62 to 71%)\\n(11:00 pm CEST | Mon...</td>\n",
       "      <td>4 m/s\\n(11:00 pm CEST | Monday, April 26, 2021)</td>\n",
       "      <td>no precipitation\\n(11:00 pm CEST | Monday, Apr...</td>\n",
       "      <td>Moon Phase calculatorApril 26, 2021 23h</td>\n",
       "      <td>| full moon\\n99.81% illuminated</td>\n",
       "    </tr>\n",
       "    <tr>\n",
       "      <th>9</th>\n",
       "      <td>2021-04-27 00:00:00</td>\n",
       "      <td>9 °C\\n(12:00 am CEST | Tuesday, April 27, 2021)</td>\n",
       "      <td>average: 68% (66 to 71%)\\n(12:00 am CEST | Tue...</td>\n",
       "      <td>3 m/s\\n(12:00 am CEST | Tuesday, April 27, 2021)</td>\n",
       "      <td>no precipitation\\n(12:00 am CEST | Tuesday, Ap...</td>\n",
       "      <td>Moon Phase calculatorApril 27, 2021 0h</td>\n",
       "      <td>| full moon\\n99.84% illuminated</td>\n",
       "    </tr>\n",
       "  </tbody>\n",
       "</table>\n",
       "</div>"
      ],
      "text/plain": [
       "                 date                                      temperature  \\\n",
       "8 2021-04-26 23:00:00  10 °C\\n(11:00 pm CEST | Monday, April 26, 2021)   \n",
       "9 2021-04-27 00:00:00  9 °C\\n(12:00 am CEST | Tuesday, April 27, 2021)   \n",
       "\n",
       "                                            humidity  \\\n",
       "8  average: 66% (62 to 71%)\\n(11:00 pm CEST | Mon...   \n",
       "9  average: 68% (66 to 71%)\\n(12:00 am CEST | Tue...   \n",
       "\n",
       "                                         wind speed  \\\n",
       "8   4 m/s\\n(11:00 pm CEST | Monday, April 26, 2021)   \n",
       "9  3 m/s\\n(12:00 am CEST | Tuesday, April 27, 2021)   \n",
       "\n",
       "                                Precipitation amount  \\\n",
       "8  no precipitation\\n(11:00 pm CEST | Monday, Apr...   \n",
       "9  no precipitation\\n(12:00 am CEST | Tuesday, Ap...   \n",
       "\n",
       "                                     query            Moon Phase calculator  \n",
       "8  Moon Phase calculatorApril 26, 2021 23h  | full moon\\n99.81% illuminated  \n",
       "9   Moon Phase calculatorApril 27, 2021 0h  | full moon\\n99.84% illuminated  "
      ]
     },
     "metadata": {},
     "output_type": "display_data"
    },
    {
     "name": "stderr",
     "output_type": "stream",
     "text": [
      "\r",
      "  2%|█▋                                                                           | 51/2379 [16:45<13:04:19, 20.21s/it]"
     ]
    },
    {
     "name": "stdout",
     "output_type": "stream",
     "text": [
      "QUERY:  Precipitation amount in Zollikofen April 27, 2021 1h\n",
      "QUERY:  temperature in Zollikofen April 27, 2021 1h\n",
      "QUERY:  humidity in Zollikofen April 27, 2021 1h\n",
      "QUERY:  wind speed in Zollikofen April 27, 2021 1h\n",
      "QUERY:  Moon Phase calculatorApril 27, 2021 1h\n"
     ]
    },
    {
     "name": "stderr",
     "output_type": "stream",
     "text": [
      "\r",
      "  2%|█▋                                                                           | 52/2379 [17:05<13:03:53, 20.21s/it]"
     ]
    },
    {
     "name": "stdout",
     "output_type": "stream",
     "text": [
      "QUERY:  Precipitation amount in Zollikofen April 27, 2021 2h\n",
      "QUERY:  temperature in Zollikofen April 27, 2021 2h\n",
      "QUERY:  humidity in Zollikofen April 27, 2021 2h\n",
      "QUERY:  wind speed in Zollikofen April 27, 2021 2h\n",
      "QUERY:  Moon Phase calculatorApril 27, 2021 2h\n"
     ]
    },
    {
     "name": "stderr",
     "output_type": "stream",
     "text": [
      "\r",
      "  2%|█▋                                                                           | 53/2379 [17:26<13:04:37, 20.24s/it]"
     ]
    },
    {
     "name": "stdout",
     "output_type": "stream",
     "text": [
      "QUERY:  Precipitation amount in Zollikofen April 27, 2021 3h\n",
      "QUERY:  temperature in Zollikofen April 27, 2021 3h\n",
      "QUERY:  humidity in Zollikofen April 27, 2021 3h\n",
      "QUERY:  wind speed in Zollikofen April 27, 2021 3h\n",
      "QUERY:  Moon Phase calculatorApril 27, 2021 3h\n"
     ]
    },
    {
     "name": "stderr",
     "output_type": "stream",
     "text": [
      "\r",
      "  2%|█▋                                                                           | 54/2379 [17:45<12:57:27, 20.06s/it]"
     ]
    },
    {
     "name": "stdout",
     "output_type": "stream",
     "text": [
      "QUERY:  Precipitation amount in Zollikofen April 27, 2021 4h\n",
      "QUERY:  temperature in Zollikofen April 27, 2021 4h\n",
      "QUERY:  humidity in Zollikofen April 27, 2021 4h\n",
      "QUERY:  wind speed in Zollikofen April 27, 2021 4h\n",
      "QUERY:  Moon Phase calculatorApril 27, 2021 4h\n"
     ]
    },
    {
     "name": "stderr",
     "output_type": "stream",
     "text": [
      "\r",
      "  2%|█▊                                                                           | 55/2379 [18:07<13:09:54, 20.39s/it]"
     ]
    },
    {
     "name": "stdout",
     "output_type": "stream",
     "text": [
      "QUERY:  Precipitation amount in Zollikofen April 27, 2021 5h\n",
      "QUERY:  temperature in Zollikofen April 27, 2021 5h\n",
      "QUERY:  humidity in Zollikofen April 27, 2021 5h\n",
      "QUERY:  wind speed in Zollikofen April 27, 2021 5h\n",
      "QUERY:  Moon Phase calculatorApril 27, 2021 5h\n"
     ]
    },
    {
     "name": "stderr",
     "output_type": "stream",
     "text": [
      "\r",
      "  2%|█▊                                                                           | 56/2379 [18:28<13:16:32, 20.57s/it]"
     ]
    },
    {
     "name": "stdout",
     "output_type": "stream",
     "text": [
      "QUERY:  Precipitation amount in Zollikofen April 27, 2021 6h\n",
      "QUERY:  temperature in Zollikofen April 27, 2021 6h\n",
      "QUERY:  humidity in Zollikofen April 27, 2021 6h\n",
      "QUERY:  wind speed in Zollikofen April 27, 2021 6h\n",
      "QUERY:  Moon Phase calculatorApril 27, 2021 6h\n"
     ]
    },
    {
     "name": "stderr",
     "output_type": "stream",
     "text": [
      "\r",
      "  2%|█▊                                                                           | 57/2379 [18:48<13:12:15, 20.47s/it]"
     ]
    },
    {
     "name": "stdout",
     "output_type": "stream",
     "text": [
      "QUERY:  Precipitation amount in Zollikofen April 27, 2021 7h\n",
      "QUERY:  temperature in Zollikofen April 27, 2021 7h\n",
      "QUERY:  humidity in Zollikofen April 27, 2021 7h\n",
      "QUERY:  wind speed in Zollikofen April 27, 2021 7h\n",
      "QUERY:  Moon Phase calculatorApril 27, 2021 7h\n"
     ]
    },
    {
     "name": "stderr",
     "output_type": "stream",
     "text": [
      "\r",
      "  2%|█▉                                                                           | 58/2379 [19:08<13:07:52, 20.37s/it]"
     ]
    },
    {
     "name": "stdout",
     "output_type": "stream",
     "text": [
      "QUERY:  Precipitation amount in Zollikofen April 27, 2021 8h\n",
      "QUERY:  temperature in Zollikofen April 27, 2021 8h\n",
      "QUERY:  humidity in Zollikofen April 27, 2021 8h\n",
      "QUERY:  wind speed in Zollikofen April 27, 2021 8h\n",
      "QUERY:  Moon Phase calculatorApril 27, 2021 8h\n"
     ]
    },
    {
     "name": "stderr",
     "output_type": "stream",
     "text": [
      "\r",
      "  2%|█▉                                                                           | 59/2379 [19:28<13:03:48, 20.27s/it]"
     ]
    },
    {
     "name": "stdout",
     "output_type": "stream",
     "text": [
      "QUERY:  Precipitation amount in Zollikofen April 27, 2021 9h\n",
      "QUERY:  temperature in Zollikofen April 27, 2021 9h\n",
      "QUERY:  humidity in Zollikofen April 27, 2021 9h\n",
      "QUERY:  wind speed in Zollikofen April 27, 2021 9h\n",
      "QUERY:  Moon Phase calculatorApril 27, 2021 9h\n"
     ]
    },
    {
     "name": "stderr",
     "output_type": "stream",
     "text": [
      "\r",
      "  3%|█▉                                                                           | 60/2379 [19:47<12:54:46, 20.05s/it]"
     ]
    },
    {
     "name": "stdout",
     "output_type": "stream",
     "text": [
      "QUERY:  Precipitation amount in Zollikofen April 27, 2021 10h\n",
      "QUERY:  temperature in Zollikofen April 27, 2021 10h\n",
      "QUERY:  humidity in Zollikofen April 27, 2021 10h\n",
      "QUERY:  wind speed in Zollikofen April 27, 2021 10h\n",
      "QUERY:  Moon Phase calculatorApril 27, 2021 10h\n",
      "(5051, 7)\n"
     ]
    },
    {
     "data": {
      "text/html": [
       "<div>\n",
       "<style scoped>\n",
       "    .dataframe tbody tr th:only-of-type {\n",
       "        vertical-align: middle;\n",
       "    }\n",
       "\n",
       "    .dataframe tbody tr th {\n",
       "        vertical-align: top;\n",
       "    }\n",
       "\n",
       "    .dataframe thead th {\n",
       "        text-align: right;\n",
       "    }\n",
       "</style>\n",
       "<table border=\"1\" class=\"dataframe\">\n",
       "  <thead>\n",
       "    <tr style=\"text-align: right;\">\n",
       "      <th></th>\n",
       "      <th>date</th>\n",
       "      <th>temperature</th>\n",
       "      <th>humidity</th>\n",
       "      <th>wind speed</th>\n",
       "      <th>Precipitation amount</th>\n",
       "      <th>query</th>\n",
       "      <th>Moon Phase calculator</th>\n",
       "    </tr>\n",
       "  </thead>\n",
       "  <tbody>\n",
       "    <tr>\n",
       "      <th>8</th>\n",
       "      <td>2021-04-27 09:00:00</td>\n",
       "      <td>9 °C\\n(9:00 am CEST | Tuesday, April 27, 2021)</td>\n",
       "      <td>average: 50% (50%)\\n(9:00 am CEST | Tuesday, A...</td>\n",
       "      <td>3 m/s\\n(9:00 am CEST | Tuesday, April 27, 2021)</td>\n",
       "      <td>no precipitation\\n(9:00 am CEST | Tuesday, Apr...</td>\n",
       "      <td>Moon Phase calculatorApril 27, 2021 9h</td>\n",
       "      <td>| full moon\\n99.91% illuminated</td>\n",
       "    </tr>\n",
       "    <tr>\n",
       "      <th>9</th>\n",
       "      <td>2021-04-27 10:00:00</td>\n",
       "      <td>11 °C\\n(10:00 am CEST | Tuesday, April 27, 2021)</td>\n",
       "      <td>average: 45% (44 to 47%)\\n(10:00 am CEST | Tue...</td>\n",
       "      <td>3 m/s\\n(10:00 am CEST | Tuesday, April 27, 2021)</td>\n",
       "      <td>no precipitation\\n(10:00 am CEST | Tuesday, Ap...</td>\n",
       "      <td>Moon Phase calculatorApril 27, 2021 10h</td>\n",
       "      <td>| full moon\\n99.89% illuminated</td>\n",
       "    </tr>\n",
       "  </tbody>\n",
       "</table>\n",
       "</div>"
      ],
      "text/plain": [
       "                 date                                       temperature  \\\n",
       "8 2021-04-27 09:00:00    9 °C\\n(9:00 am CEST | Tuesday, April 27, 2021)   \n",
       "9 2021-04-27 10:00:00  11 °C\\n(10:00 am CEST | Tuesday, April 27, 2021)   \n",
       "\n",
       "                                            humidity  \\\n",
       "8  average: 50% (50%)\\n(9:00 am CEST | Tuesday, A...   \n",
       "9  average: 45% (44 to 47%)\\n(10:00 am CEST | Tue...   \n",
       "\n",
       "                                         wind speed  \\\n",
       "8   3 m/s\\n(9:00 am CEST | Tuesday, April 27, 2021)   \n",
       "9  3 m/s\\n(10:00 am CEST | Tuesday, April 27, 2021)   \n",
       "\n",
       "                                Precipitation amount  \\\n",
       "8  no precipitation\\n(9:00 am CEST | Tuesday, Apr...   \n",
       "9  no precipitation\\n(10:00 am CEST | Tuesday, Ap...   \n",
       "\n",
       "                                     query            Moon Phase calculator  \n",
       "8   Moon Phase calculatorApril 27, 2021 9h  | full moon\\n99.91% illuminated  \n",
       "9  Moon Phase calculatorApril 27, 2021 10h  | full moon\\n99.89% illuminated  "
      ]
     },
     "metadata": {},
     "output_type": "display_data"
    },
    {
     "name": "stderr",
     "output_type": "stream",
     "text": [
      "\r",
      "  3%|█▉                                                                           | 61/2379 [20:08<13:05:58, 20.34s/it]"
     ]
    },
    {
     "name": "stdout",
     "output_type": "stream",
     "text": [
      "QUERY:  Precipitation amount in Zollikofen April 27, 2021 11h\n",
      "QUERY:  temperature in Zollikofen April 27, 2021 11h\n",
      "QUERY:  humidity in Zollikofen April 27, 2021 11h\n",
      "QUERY:  wind speed in Zollikofen April 27, 2021 11h\n",
      "QUERY:  Moon Phase calculatorApril 27, 2021 11h\n"
     ]
    },
    {
     "name": "stderr",
     "output_type": "stream",
     "text": [
      "\r",
      "  3%|██                                                                           | 62/2379 [20:29<13:09:09, 20.44s/it]"
     ]
    },
    {
     "name": "stdout",
     "output_type": "stream",
     "text": [
      "QUERY:  Precipitation amount in Zollikofen April 27, 2021 12h\n",
      "QUERY:  temperature in Zollikofen April 27, 2021 12h\n",
      "QUERY:  humidity in Zollikofen April 27, 2021 12h\n",
      "QUERY:  wind speed in Zollikofen April 27, 2021 12h\n",
      "QUERY:  Moon Phase calculatorApril 27, 2021 12h\n"
     ]
    },
    {
     "name": "stderr",
     "output_type": "stream",
     "text": [
      "\r",
      "  3%|██                                                                           | 63/2379 [20:50<13:18:47, 20.69s/it]"
     ]
    },
    {
     "name": "stdout",
     "output_type": "stream",
     "text": [
      "QUERY:  Precipitation amount in Zollikofen April 27, 2021 13h\n",
      "QUERY:  temperature in Zollikofen April 27, 2021 13h\n",
      "QUERY:  humidity in Zollikofen April 27, 2021 13h\n",
      "QUERY:  wind speed in Zollikofen April 27, 2021 13h\n",
      "QUERY:  Moon Phase calculatorApril 27, 2021 13h\n"
     ]
    },
    {
     "name": "stderr",
     "output_type": "stream",
     "text": [
      "\r",
      "  3%|██                                                                           | 64/2379 [21:11<13:15:53, 20.63s/it]"
     ]
    },
    {
     "name": "stdout",
     "output_type": "stream",
     "text": [
      "QUERY:  Precipitation amount in Zollikofen April 27, 2021 14h\n",
      "QUERY:  temperature in Zollikofen April 27, 2021 14h\n",
      "QUERY:  humidity in Zollikofen April 27, 2021 14h\n",
      "QUERY:  wind speed in Zollikofen April 27, 2021 14h\n",
      "QUERY:  Moon Phase calculatorApril 27, 2021 14h\n"
     ]
    },
    {
     "name": "stderr",
     "output_type": "stream",
     "text": [
      "\r",
      "  3%|██                                                                           | 65/2379 [21:31<13:14:37, 20.60s/it]"
     ]
    },
    {
     "name": "stdout",
     "output_type": "stream",
     "text": [
      "QUERY:  Precipitation amount in Zollikofen April 27, 2021 15h\n",
      "QUERY:  temperature in Zollikofen April 27, 2021 15h\n",
      "QUERY:  humidity in Zollikofen April 27, 2021 15h\n",
      "QUERY:  wind speed in Zollikofen April 27, 2021 15h\n",
      "QUERY:  Moon Phase calculatorApril 27, 2021 15h\n"
     ]
    },
    {
     "name": "stderr",
     "output_type": "stream",
     "text": [
      "\r",
      "  3%|██▏                                                                          | 66/2379 [21:51<13:06:03, 20.39s/it]"
     ]
    },
    {
     "name": "stdout",
     "output_type": "stream",
     "text": [
      "QUERY:  Precipitation amount in Zollikofen April 27, 2021 16h\n",
      "QUERY:  temperature in Zollikofen April 27, 2021 16h\n",
      "QUERY:  humidity in Zollikofen April 27, 2021 16h\n",
      "QUERY:  wind speed in Zollikofen April 27, 2021 16h\n",
      "QUERY:  Moon Phase calculatorApril 27, 2021 16h\n"
     ]
    },
    {
     "name": "stderr",
     "output_type": "stream",
     "text": [
      "\r",
      "  3%|██▏                                                                          | 67/2379 [22:11<12:58:26, 20.20s/it]"
     ]
    },
    {
     "name": "stdout",
     "output_type": "stream",
     "text": [
      "QUERY:  Precipitation amount in Zollikofen April 27, 2021 17h\n",
      "QUERY:  temperature in Zollikofen April 27, 2021 17h\n",
      "QUERY:  humidity in Zollikofen April 27, 2021 17h\n",
      "QUERY:  wind speed in Zollikofen April 27, 2021 17h\n",
      "QUERY:  Moon Phase calculatorApril 27, 2021 17h\n"
     ]
    },
    {
     "name": "stderr",
     "output_type": "stream",
     "text": [
      "\r",
      "  3%|██▏                                                                          | 68/2379 [22:31<12:57:11, 20.18s/it]"
     ]
    },
    {
     "name": "stdout",
     "output_type": "stream",
     "text": [
      "QUERY:  Precipitation amount in Zollikofen April 27, 2021 18h\n",
      "QUERY:  temperature in Zollikofen April 27, 2021 18h\n",
      "QUERY:  humidity in Zollikofen April 27, 2021 18h\n",
      "QUERY:  wind speed in Zollikofen April 27, 2021 18h\n",
      "QUERY:  Moon Phase calculatorApril 27, 2021 18h\n"
     ]
    },
    {
     "name": "stderr",
     "output_type": "stream",
     "text": [
      "\r",
      "  3%|██▏                                                                          | 69/2379 [22:52<13:01:39, 20.30s/it]"
     ]
    },
    {
     "name": "stdout",
     "output_type": "stream",
     "text": [
      "QUERY:  Precipitation amount in Zollikofen April 27, 2021 19h\n",
      "QUERY:  temperature in Zollikofen April 27, 2021 19h\n",
      "QUERY:  humidity in Zollikofen April 27, 2021 19h\n",
      "QUERY:  wind speed in Zollikofen April 27, 2021 19h\n",
      "QUERY:  Moon Phase calculatorApril 27, 2021 19h\n"
     ]
    },
    {
     "name": "stderr",
     "output_type": "stream",
     "text": [
      "\r",
      "  3%|██▎                                                                          | 70/2379 [23:12<13:04:14, 20.38s/it]"
     ]
    },
    {
     "name": "stdout",
     "output_type": "stream",
     "text": [
      "QUERY:  Precipitation amount in Zollikofen April 27, 2021 20h\n",
      "QUERY:  temperature in Zollikofen April 27, 2021 20h\n",
      "QUERY:  humidity in Zollikofen April 27, 2021 20h\n",
      "QUERY:  wind speed in Zollikofen April 27, 2021 20h\n",
      "QUERY:  Moon Phase calculatorApril 27, 2021 20h\n",
      "(5061, 7)\n"
     ]
    },
    {
     "data": {
      "text/html": [
       "<div>\n",
       "<style scoped>\n",
       "    .dataframe tbody tr th:only-of-type {\n",
       "        vertical-align: middle;\n",
       "    }\n",
       "\n",
       "    .dataframe tbody tr th {\n",
       "        vertical-align: top;\n",
       "    }\n",
       "\n",
       "    .dataframe thead th {\n",
       "        text-align: right;\n",
       "    }\n",
       "</style>\n",
       "<table border=\"1\" class=\"dataframe\">\n",
       "  <thead>\n",
       "    <tr style=\"text-align: right;\">\n",
       "      <th></th>\n",
       "      <th>date</th>\n",
       "      <th>temperature</th>\n",
       "      <th>humidity</th>\n",
       "      <th>wind speed</th>\n",
       "      <th>Precipitation amount</th>\n",
       "      <th>query</th>\n",
       "      <th>Moon Phase calculator</th>\n",
       "    </tr>\n",
       "  </thead>\n",
       "  <tbody>\n",
       "    <tr>\n",
       "      <th>8</th>\n",
       "      <td>2021-04-27 19:00:00</td>\n",
       "      <td>17 °C\\n(7:00 pm CEST | Tuesday, April 27, 2021)</td>\n",
       "      <td>average: 36% (32 to 39%)\\n(7:00 pm CEST | Tues...</td>\n",
       "      <td>2 m/s\\n(7:00 pm CEST | Tuesday, April 27, 2021)</td>\n",
       "      <td>no precipitation\\n(7:00 pm CEST | Tuesday, Apr...</td>\n",
       "      <td>Moon Phase calculatorApril 27, 2021 19h</td>\n",
       "      <td>| waning gibbous moon\\n99.48% illuminated</td>\n",
       "    </tr>\n",
       "    <tr>\n",
       "      <th>9</th>\n",
       "      <td>2021-04-27 20:00:00</td>\n",
       "      <td>16 °C\\n(8:00 pm CEST | Tuesday, April 27, 2021)</td>\n",
       "      <td>average: 43% (42 to 45%)\\n(8:00 pm CEST | Tues...</td>\n",
       "      <td>2 m/s\\n(8:00 pm CEST | Tuesday, April 27, 2021)</td>\n",
       "      <td>no precipitation\\n(8:00 pm CEST | Tuesday, Apr...</td>\n",
       "      <td>Moon Phase calculatorApril 27, 2021 20h</td>\n",
       "      <td>| waning gibbous moon\\n99.41% illuminated</td>\n",
       "    </tr>\n",
       "  </tbody>\n",
       "</table>\n",
       "</div>"
      ],
      "text/plain": [
       "                 date                                      temperature  \\\n",
       "8 2021-04-27 19:00:00  17 °C\\n(7:00 pm CEST | Tuesday, April 27, 2021)   \n",
       "9 2021-04-27 20:00:00  16 °C\\n(8:00 pm CEST | Tuesday, April 27, 2021)   \n",
       "\n",
       "                                            humidity  \\\n",
       "8  average: 36% (32 to 39%)\\n(7:00 pm CEST | Tues...   \n",
       "9  average: 43% (42 to 45%)\\n(8:00 pm CEST | Tues...   \n",
       "\n",
       "                                        wind speed  \\\n",
       "8  2 m/s\\n(7:00 pm CEST | Tuesday, April 27, 2021)   \n",
       "9  2 m/s\\n(8:00 pm CEST | Tuesday, April 27, 2021)   \n",
       "\n",
       "                                Precipitation amount  \\\n",
       "8  no precipitation\\n(7:00 pm CEST | Tuesday, Apr...   \n",
       "9  no precipitation\\n(8:00 pm CEST | Tuesday, Apr...   \n",
       "\n",
       "                                     query  \\\n",
       "8  Moon Phase calculatorApril 27, 2021 19h   \n",
       "9  Moon Phase calculatorApril 27, 2021 20h   \n",
       "\n",
       "                       Moon Phase calculator  \n",
       "8  | waning gibbous moon\\n99.48% illuminated  \n",
       "9  | waning gibbous moon\\n99.41% illuminated  "
      ]
     },
     "metadata": {},
     "output_type": "display_data"
    },
    {
     "name": "stderr",
     "output_type": "stream",
     "text": [
      "\r",
      "  3%|██▎                                                                          | 71/2379 [23:33<13:06:07, 20.44s/it]"
     ]
    },
    {
     "name": "stdout",
     "output_type": "stream",
     "text": [
      "QUERY:  Precipitation amount in Zollikofen April 27, 2021 21h\n",
      "QUERY:  temperature in Zollikofen April 27, 2021 21h\n",
      "QUERY:  humidity in Zollikofen April 27, 2021 21h\n",
      "QUERY:  wind speed in Zollikofen April 27, 2021 21h\n",
      "QUERY:  Moon Phase calculatorApril 27, 2021 21h\n"
     ]
    },
    {
     "name": "stderr",
     "output_type": "stream",
     "text": [
      "\r",
      "  3%|██▎                                                                          | 72/2379 [23:53<13:00:05, 20.29s/it]"
     ]
    },
    {
     "name": "stdout",
     "output_type": "stream",
     "text": [
      "QUERY:  Precipitation amount in Zollikofen April 27, 2021 22h\n",
      "QUERY:  temperature in Zollikofen April 27, 2021 22h\n",
      "QUERY:  humidity in Zollikofen April 27, 2021 22h\n",
      "QUERY:  wind speed in Zollikofen April 27, 2021 22h\n",
      "QUERY:  Moon Phase calculatorApril 27, 2021 22h\n"
     ]
    },
    {
     "name": "stderr",
     "output_type": "stream",
     "text": [
      "\r",
      "  3%|██▎                                                                          | 73/2379 [24:14<13:04:52, 20.42s/it]"
     ]
    },
    {
     "name": "stdout",
     "output_type": "stream",
     "text": [
      "QUERY:  Precipitation amount in Zollikofen April 27, 2021 23h\n",
      "QUERY:  temperature in Zollikofen April 27, 2021 23h\n",
      "QUERY:  humidity in Zollikofen April 27, 2021 23h\n",
      "QUERY:  wind speed in Zollikofen April 27, 2021 23h\n",
      "QUERY:  Moon Phase calculatorApril 27, 2021 23h\n"
     ]
    },
    {
     "name": "stderr",
     "output_type": "stream",
     "text": [
      "\r",
      "  3%|██▍                                                                          | 74/2379 [24:34<12:59:15, 20.28s/it]"
     ]
    },
    {
     "name": "stdout",
     "output_type": "stream",
     "text": [
      "QUERY:  Precipitation amount in Zollikofen April 28, 2021 0h\n",
      "QUERY:  temperature in Zollikofen April 28, 2021 0h\n",
      "QUERY:  humidity in Zollikofen April 28, 2021 0h\n",
      "QUERY:  wind speed in Zollikofen April 28, 2021 0h\n",
      "QUERY:  Moon Phase calculatorApril 28, 2021 0h\n"
     ]
    },
    {
     "name": "stderr",
     "output_type": "stream",
     "text": [
      "\r",
      "  3%|██▍                                                                          | 75/2379 [24:53<12:48:36, 20.02s/it]"
     ]
    },
    {
     "name": "stdout",
     "output_type": "stream",
     "text": [
      "QUERY:  Precipitation amount in Zollikofen April 28, 2021 1h\n",
      "QUERY:  temperature in Zollikofen April 28, 2021 1h\n",
      "QUERY:  humidity in Zollikofen April 28, 2021 1h\n",
      "QUERY:  wind speed in Zollikofen April 28, 2021 1h\n",
      "QUERY:  Moon Phase calculatorApril 28, 2021 1h\n"
     ]
    },
    {
     "name": "stderr",
     "output_type": "stream",
     "text": [
      "\r",
      "  3%|██▍                                                                          | 76/2379 [25:13<12:51:05, 20.09s/it]"
     ]
    },
    {
     "name": "stdout",
     "output_type": "stream",
     "text": [
      "QUERY:  Precipitation amount in Zollikofen April 28, 2021 2h\n",
      "QUERY:  temperature in Zollikofen April 28, 2021 2h\n",
      "QUERY:  humidity in Zollikofen April 28, 2021 2h\n",
      "QUERY:  wind speed in Zollikofen April 28, 2021 2h\n",
      "QUERY:  Moon Phase calculatorApril 28, 2021 2h\n"
     ]
    },
    {
     "name": "stderr",
     "output_type": "stream",
     "text": [
      "\r",
      "  3%|██▍                                                                          | 77/2379 [25:32<12:38:17, 19.76s/it]"
     ]
    },
    {
     "name": "stdout",
     "output_type": "stream",
     "text": [
      "QUERY:  Precipitation amount in Zollikofen April 28, 2021 3h\n",
      "QUERY:  temperature in Zollikofen April 28, 2021 3h\n",
      "QUERY:  humidity in Zollikofen April 28, 2021 3h\n",
      "QUERY:  wind speed in Zollikofen April 28, 2021 3h\n",
      "QUERY:  Moon Phase calculatorApril 28, 2021 3h\n"
     ]
    },
    {
     "name": "stderr",
     "output_type": "stream",
     "text": [
      "\r",
      "  3%|██▌                                                                          | 78/2379 [25:48<11:52:33, 18.58s/it]"
     ]
    },
    {
     "name": "stdout",
     "output_type": "stream",
     "text": [
      "QUERY:  Precipitation amount in Zollikofen April 28, 2021 4h\n",
      "QUERY:  temperature in Zollikofen April 28, 2021 4h\n",
      "QUERY:  humidity in Zollikofen April 28, 2021 4h\n",
      "QUERY:  wind speed in Zollikofen April 28, 2021 4h\n",
      "QUERY:  Moon Phase calculatorApril 28, 2021 4h\n"
     ]
    },
    {
     "name": "stderr",
     "output_type": "stream",
     "text": [
      "\r",
      "  3%|██▌                                                                          | 79/2379 [26:04<11:24:03, 17.84s/it]"
     ]
    },
    {
     "name": "stdout",
     "output_type": "stream",
     "text": [
      "QUERY:  Precipitation amount in Zollikofen April 28, 2021 5h\n",
      "QUERY:  temperature in Zollikofen April 28, 2021 5h\n",
      "QUERY:  humidity in Zollikofen April 28, 2021 5h\n",
      "QUERY:  wind speed in Zollikofen April 28, 2021 5h\n",
      "QUERY:  Moon Phase calculatorApril 28, 2021 5h\n"
     ]
    },
    {
     "name": "stderr",
     "output_type": "stream",
     "text": [
      "\r",
      "  3%|██▌                                                                          | 80/2379 [26:20<11:01:01, 17.25s/it]"
     ]
    },
    {
     "name": "stdout",
     "output_type": "stream",
     "text": [
      "QUERY:  Precipitation amount in Zollikofen April 28, 2021 6h\n",
      "QUERY:  temperature in Zollikofen April 28, 2021 6h\n",
      "QUERY:  humidity in Zollikofen April 28, 2021 6h\n",
      "QUERY:  wind speed in Zollikofen April 28, 2021 6h\n",
      "QUERY:  Moon Phase calculatorApril 28, 2021 6h\n",
      "(5071, 7)\n"
     ]
    },
    {
     "data": {
      "text/html": [
       "<div>\n",
       "<style scoped>\n",
       "    .dataframe tbody tr th:only-of-type {\n",
       "        vertical-align: middle;\n",
       "    }\n",
       "\n",
       "    .dataframe tbody tr th {\n",
       "        vertical-align: top;\n",
       "    }\n",
       "\n",
       "    .dataframe thead th {\n",
       "        text-align: right;\n",
       "    }\n",
       "</style>\n",
       "<table border=\"1\" class=\"dataframe\">\n",
       "  <thead>\n",
       "    <tr style=\"text-align: right;\">\n",
       "      <th></th>\n",
       "      <th>date</th>\n",
       "      <th>temperature</th>\n",
       "      <th>humidity</th>\n",
       "      <th>wind speed</th>\n",
       "      <th>Precipitation amount</th>\n",
       "      <th>query</th>\n",
       "      <th>Moon Phase calculator</th>\n",
       "    </tr>\n",
       "  </thead>\n",
       "  <tbody>\n",
       "    <tr>\n",
       "      <th>8</th>\n",
       "      <td>2021-04-28 05:00:00</td>\n",
       "      <td>9 °C\\n(5:00 am CEST | Wednesday, April 28, 2021)</td>\n",
       "      <td>average: 93% (93%)\\n(5:00 am CEST | Wednesday,...</td>\n",
       "      <td>1 m/s\\n(5:00 am CEST | Wednesday, April 28, 2021)</td>\n",
       "      <td>rain\\n(5:00 am CEST | Wednesday, April 28, 2021)</td>\n",
       "      <td>Moon Phase calculatorApril 28, 2021 5h</td>\n",
       "      <td>| waning gibbous moon\\n98.52% illuminated</td>\n",
       "    </tr>\n",
       "    <tr>\n",
       "      <th>9</th>\n",
       "      <td>2021-04-28 06:00:00</td>\n",
       "      <td>9 °C\\n(6:00 am CEST | Wednesday, April 28, 2021)</td>\n",
       "      <td>average: 97% (93 to 100%)\\n(6:00 am CEST | Wed...</td>\n",
       "      <td>1 m/s\\n(6:00 am CEST | Wednesday, April 28, 2021)</td>\n",
       "      <td>no precipitation\\n(6:00 am CEST | Wednesday, A...</td>\n",
       "      <td>Moon Phase calculatorApril 28, 2021 6h</td>\n",
       "      <td>| waning gibbous moon\\n98.39% illuminated</td>\n",
       "    </tr>\n",
       "  </tbody>\n",
       "</table>\n",
       "</div>"
      ],
      "text/plain": [
       "                 date                                       temperature  \\\n",
       "8 2021-04-28 05:00:00  9 °C\\n(5:00 am CEST | Wednesday, April 28, 2021)   \n",
       "9 2021-04-28 06:00:00  9 °C\\n(6:00 am CEST | Wednesday, April 28, 2021)   \n",
       "\n",
       "                                            humidity  \\\n",
       "8  average: 93% (93%)\\n(5:00 am CEST | Wednesday,...   \n",
       "9  average: 97% (93 to 100%)\\n(6:00 am CEST | Wed...   \n",
       "\n",
       "                                          wind speed  \\\n",
       "8  1 m/s\\n(5:00 am CEST | Wednesday, April 28, 2021)   \n",
       "9  1 m/s\\n(6:00 am CEST | Wednesday, April 28, 2021)   \n",
       "\n",
       "                                Precipitation amount  \\\n",
       "8   rain\\n(5:00 am CEST | Wednesday, April 28, 2021)   \n",
       "9  no precipitation\\n(6:00 am CEST | Wednesday, A...   \n",
       "\n",
       "                                    query  \\\n",
       "8  Moon Phase calculatorApril 28, 2021 5h   \n",
       "9  Moon Phase calculatorApril 28, 2021 6h   \n",
       "\n",
       "                       Moon Phase calculator  \n",
       "8  | waning gibbous moon\\n98.52% illuminated  \n",
       "9  | waning gibbous moon\\n98.39% illuminated  "
      ]
     },
     "metadata": {},
     "output_type": "display_data"
    },
    {
     "name": "stderr",
     "output_type": "stream",
     "text": [
      "\r",
      "  3%|██▌                                                                          | 81/2379 [26:36<10:43:00, 16.79s/it]"
     ]
    },
    {
     "name": "stdout",
     "output_type": "stream",
     "text": [
      "QUERY:  Precipitation amount in Zollikofen April 28, 2021 7h\n",
      "QUERY:  temperature in Zollikofen April 28, 2021 7h\n",
      "QUERY:  humidity in Zollikofen April 28, 2021 7h\n",
      "QUERY:  wind speed in Zollikofen April 28, 2021 7h\n",
      "QUERY:  Moon Phase calculatorApril 28, 2021 7h\n"
     ]
    },
    {
     "name": "stderr",
     "output_type": "stream",
     "text": [
      "\r",
      "  3%|██▋                                                                          | 82/2379 [26:52<10:31:41, 16.50s/it]"
     ]
    },
    {
     "name": "stdout",
     "output_type": "stream",
     "text": [
      "QUERY:  Precipitation amount in Zollikofen April 28, 2021 8h\n",
      "QUERY:  temperature in Zollikofen April 28, 2021 8h\n",
      "QUERY:  humidity in Zollikofen April 28, 2021 8h\n",
      "QUERY:  wind speed in Zollikofen April 28, 2021 8h\n",
      "QUERY:  Moon Phase calculatorApril 28, 2021 8h\n"
     ]
    },
    {
     "name": "stderr",
     "output_type": "stream",
     "text": [
      "\r",
      "  3%|██▋                                                                          | 83/2379 [27:08<10:24:42, 16.33s/it]"
     ]
    },
    {
     "name": "stdout",
     "output_type": "stream",
     "text": [
      "QUERY:  Precipitation amount in Zollikofen April 28, 2021 9h\n",
      "QUERY:  temperature in Zollikofen April 28, 2021 9h\n",
      "QUERY:  humidity in Zollikofen April 28, 2021 9h\n",
      "QUERY:  wind speed in Zollikofen April 28, 2021 9h\n",
      "QUERY:  Moon Phase calculatorApril 28, 2021 9h\n"
     ]
    },
    {
     "name": "stderr",
     "output_type": "stream",
     "text": [
      "\r",
      "  4%|██▋                                                                          | 84/2379 [27:24<10:22:21, 16.27s/it]"
     ]
    },
    {
     "name": "stdout",
     "output_type": "stream",
     "text": [
      "QUERY:  Precipitation amount in Zollikofen April 28, 2021 10h\n",
      "QUERY:  temperature in Zollikofen April 28, 2021 10h\n",
      "QUERY:  humidity in Zollikofen April 28, 2021 10h\n",
      "QUERY:  wind speed in Zollikofen April 28, 2021 10h\n",
      "QUERY:  Moon Phase calculatorApril 28, 2021 10h\n"
     ]
    },
    {
     "name": "stderr",
     "output_type": "stream",
     "text": [
      "\r",
      "  4%|██▊                                                                          | 85/2379 [27:39<10:17:13, 16.14s/it]"
     ]
    },
    {
     "name": "stdout",
     "output_type": "stream",
     "text": [
      "QUERY:  Precipitation amount in Zollikofen April 28, 2021 11h\n",
      "QUERY:  temperature in Zollikofen April 28, 2021 11h\n",
      "QUERY:  humidity in Zollikofen April 28, 2021 11h\n",
      "QUERY:  wind speed in Zollikofen April 28, 2021 11h\n",
      "QUERY:  Moon Phase calculatorApril 28, 2021 11h\n"
     ]
    },
    {
     "name": "stderr",
     "output_type": "stream",
     "text": [
      "\r",
      "  4%|██▊                                                                          | 86/2379 [27:58<10:40:21, 16.76s/it]"
     ]
    },
    {
     "name": "stdout",
     "output_type": "stream",
     "text": [
      "QUERY:  Precipitation amount in Zollikofen April 28, 2021 12h\n",
      "QUERY:  temperature in Zollikofen April 28, 2021 12h\n",
      "QUERY:  humidity in Zollikofen April 28, 2021 12h\n",
      "QUERY:  wind speed in Zollikofen April 28, 2021 12h\n",
      "QUERY:  Moon Phase calculatorApril 28, 2021 12h\n"
     ]
    },
    {
     "name": "stderr",
     "output_type": "stream",
     "text": [
      "\r",
      "  4%|██▊                                                                          | 87/2379 [28:13<10:28:48, 16.46s/it]"
     ]
    },
    {
     "name": "stdout",
     "output_type": "stream",
     "text": [
      "QUERY:  Precipitation amount in Zollikofen April 28, 2021 13h\n",
      "QUERY:  temperature in Zollikofen April 28, 2021 13h\n",
      "QUERY:  humidity in Zollikofen April 28, 2021 13h\n",
      "QUERY:  wind speed in Zollikofen April 28, 2021 13h\n",
      "QUERY:  Moon Phase calculatorApril 28, 2021 13h\n"
     ]
    },
    {
     "name": "stderr",
     "output_type": "stream",
     "text": [
      "\r",
      "  4%|██▊                                                                          | 88/2379 [28:30<10:25:10, 16.37s/it]"
     ]
    },
    {
     "name": "stdout",
     "output_type": "stream",
     "text": [
      "QUERY:  Precipitation amount in Zollikofen April 28, 2021 14h\n",
      "QUERY:  temperature in Zollikofen April 28, 2021 14h\n",
      "QUERY:  humidity in Zollikofen April 28, 2021 14h\n",
      "QUERY:  wind speed in Zollikofen April 28, 2021 14h\n",
      "QUERY:  Moon Phase calculatorApril 28, 2021 14h\n"
     ]
    },
    {
     "name": "stderr",
     "output_type": "stream",
     "text": [
      "\r",
      "  4%|██▉                                                                          | 89/2379 [28:46<10:22:16, 16.30s/it]"
     ]
    },
    {
     "name": "stdout",
     "output_type": "stream",
     "text": [
      "QUERY:  Precipitation amount in Zollikofen April 28, 2021 15h\n",
      "QUERY:  temperature in Zollikofen April 28, 2021 15h\n",
      "QUERY:  humidity in Zollikofen April 28, 2021 15h\n",
      "QUERY:  wind speed in Zollikofen April 28, 2021 15h\n",
      "QUERY:  Moon Phase calculatorApril 28, 2021 15h\n"
     ]
    },
    {
     "name": "stderr",
     "output_type": "stream",
     "text": [
      "\r",
      "  4%|██▉                                                                          | 90/2379 [29:03<10:35:07, 16.65s/it]"
     ]
    },
    {
     "name": "stdout",
     "output_type": "stream",
     "text": [
      "QUERY:  Precipitation amount in Zollikofen April 28, 2021 16h\n",
      "QUERY:  temperature in Zollikofen April 28, 2021 16h\n",
      "QUERY:  humidity in Zollikofen April 28, 2021 16h\n",
      "QUERY:  wind speed in Zollikofen April 28, 2021 16h\n",
      "QUERY:  Moon Phase calculatorApril 28, 2021 16h\n",
      "(5081, 7)\n"
     ]
    },
    {
     "data": {
      "text/html": [
       "<div>\n",
       "<style scoped>\n",
       "    .dataframe tbody tr th:only-of-type {\n",
       "        vertical-align: middle;\n",
       "    }\n",
       "\n",
       "    .dataframe tbody tr th {\n",
       "        vertical-align: top;\n",
       "    }\n",
       "\n",
       "    .dataframe thead th {\n",
       "        text-align: right;\n",
       "    }\n",
       "</style>\n",
       "<table border=\"1\" class=\"dataframe\">\n",
       "  <thead>\n",
       "    <tr style=\"text-align: right;\">\n",
       "      <th></th>\n",
       "      <th>date</th>\n",
       "      <th>temperature</th>\n",
       "      <th>humidity</th>\n",
       "      <th>wind speed</th>\n",
       "      <th>Precipitation amount</th>\n",
       "      <th>query</th>\n",
       "      <th>Moon Phase calculator</th>\n",
       "    </tr>\n",
       "  </thead>\n",
       "  <tbody>\n",
       "    <tr>\n",
       "      <th>8</th>\n",
       "      <td>2021-04-28 15:00:00</td>\n",
       "      <td>17 °C\\n(3:00 pm CEST | Wednesday, April 28, 2021)</td>\n",
       "      <td>average: 45% (45%)\\n(3:00 pm CEST | Wednesday,...</td>\n",
       "      <td>4 m/s\\n(3:00 pm CEST | Wednesday, April 28, 2021)</td>\n",
       "      <td>no precipitation\\n(3:00 pm CEST | Wednesday, A...</td>\n",
       "      <td>Moon Phase calculatorApril 28, 2021 15h</td>\n",
       "      <td>| waning gibbous moon\\n97.04% illuminated</td>\n",
       "    </tr>\n",
       "    <tr>\n",
       "      <th>9</th>\n",
       "      <td>2021-04-28 16:00:00</td>\n",
       "      <td>16 °C\\n(4:00 pm CEST | Wednesday, April 28, 2021)</td>\n",
       "      <td>average: 53% (52 to 55%)\\n(4:00 pm CEST | Wedn...</td>\n",
       "      <td>4 m/s\\n(4:00 pm CEST | Wednesday, April 28, 2021)</td>\n",
       "      <td>no precipitation\\n(4:00 pm CEST | Wednesday, A...</td>\n",
       "      <td>Moon Phase calculatorApril 28, 2021 16h</td>\n",
       "      <td>| waning gibbous moon\\n96.86% illuminated</td>\n",
       "    </tr>\n",
       "  </tbody>\n",
       "</table>\n",
       "</div>"
      ],
      "text/plain": [
       "                 date                                        temperature  \\\n",
       "8 2021-04-28 15:00:00  17 °C\\n(3:00 pm CEST | Wednesday, April 28, 2021)   \n",
       "9 2021-04-28 16:00:00  16 °C\\n(4:00 pm CEST | Wednesday, April 28, 2021)   \n",
       "\n",
       "                                            humidity  \\\n",
       "8  average: 45% (45%)\\n(3:00 pm CEST | Wednesday,...   \n",
       "9  average: 53% (52 to 55%)\\n(4:00 pm CEST | Wedn...   \n",
       "\n",
       "                                          wind speed  \\\n",
       "8  4 m/s\\n(3:00 pm CEST | Wednesday, April 28, 2021)   \n",
       "9  4 m/s\\n(4:00 pm CEST | Wednesday, April 28, 2021)   \n",
       "\n",
       "                                Precipitation amount  \\\n",
       "8  no precipitation\\n(3:00 pm CEST | Wednesday, A...   \n",
       "9  no precipitation\\n(4:00 pm CEST | Wednesday, A...   \n",
       "\n",
       "                                     query  \\\n",
       "8  Moon Phase calculatorApril 28, 2021 15h   \n",
       "9  Moon Phase calculatorApril 28, 2021 16h   \n",
       "\n",
       "                       Moon Phase calculator  \n",
       "8  | waning gibbous moon\\n97.04% illuminated  \n",
       "9  | waning gibbous moon\\n96.86% illuminated  "
      ]
     },
     "metadata": {},
     "output_type": "display_data"
    },
    {
     "name": "stderr",
     "output_type": "stream",
     "text": [
      "\r",
      "  4%|██▉                                                                          | 91/2379 [29:19<10:25:53, 16.41s/it]"
     ]
    },
    {
     "name": "stdout",
     "output_type": "stream",
     "text": [
      "QUERY:  Precipitation amount in Zollikofen April 28, 2021 17h\n",
      "QUERY:  temperature in Zollikofen April 28, 2021 17h\n",
      "QUERY:  humidity in Zollikofen April 28, 2021 17h\n",
      "QUERY:  wind speed in Zollikofen April 28, 2021 17h\n",
      "QUERY:  Moon Phase calculatorApril 28, 2021 17h\n"
     ]
    },
    {
     "name": "stderr",
     "output_type": "stream",
     "text": [
      "\r",
      "  4%|██▉                                                                          | 92/2379 [29:36<10:25:45, 16.42s/it]"
     ]
    },
    {
     "name": "stdout",
     "output_type": "stream",
     "text": [
      "QUERY:  Precipitation amount in Zollikofen April 28, 2021 18h\n",
      "QUERY:  temperature in Zollikofen April 28, 2021 18h\n",
      "QUERY:  humidity in Zollikofen April 28, 2021 18h\n",
      "QUERY:  wind speed in Zollikofen April 28, 2021 18h\n",
      "QUERY:  Moon Phase calculatorApril 28, 2021 18h\n"
     ]
    },
    {
     "name": "stderr",
     "output_type": "stream",
     "text": [
      "\r",
      "  4%|███                                                                          | 93/2379 [29:52<10:27:25, 16.47s/it]"
     ]
    },
    {
     "name": "stdout",
     "output_type": "stream",
     "text": [
      "QUERY:  Precipitation amount in Zollikofen April 28, 2021 19h\n",
      "QUERY:  temperature in Zollikofen April 28, 2021 19h\n",
      "QUERY:  humidity in Zollikofen April 28, 2021 19h\n",
      "QUERY:  wind speed in Zollikofen April 28, 2021 19h\n",
      "QUERY:  Moon Phase calculatorApril 28, 2021 19h\n"
     ]
    },
    {
     "name": "stderr",
     "output_type": "stream",
     "text": [
      "\r",
      "  4%|███                                                                          | 94/2379 [30:08<10:17:57, 16.23s/it]"
     ]
    },
    {
     "name": "stdout",
     "output_type": "stream",
     "text": [
      "QUERY:  Precipitation amount in Zollikofen April 28, 2021 20h\n",
      "QUERY:  temperature in Zollikofen April 28, 2021 20h\n",
      "QUERY:  humidity in Zollikofen April 28, 2021 20h\n",
      "QUERY:  wind speed in Zollikofen April 28, 2021 20h\n",
      "QUERY:  Moon Phase calculatorApril 28, 2021 20h\n"
     ]
    },
    {
     "name": "stderr",
     "output_type": "stream",
     "text": [
      "\r",
      "  4%|███                                                                          | 95/2379 [30:28<11:00:24, 17.35s/it]"
     ]
    },
    {
     "name": "stdout",
     "output_type": "stream",
     "text": [
      "QUERY:  Precipitation amount in Zollikofen April 28, 2021 21h\n",
      "QUERY:  temperature in Zollikofen April 28, 2021 21h\n",
      "QUERY:  humidity in Zollikofen April 28, 2021 21h\n",
      "QUERY:  wind speed in Zollikofen April 28, 2021 21h\n",
      "QUERY:  Moon Phase calculatorApril 28, 2021 21h\n"
     ]
    },
    {
     "name": "stderr",
     "output_type": "stream",
     "text": [
      "\r",
      "  4%|███                                                                          | 96/2379 [30:48<11:28:58, 18.11s/it]"
     ]
    },
    {
     "name": "stdout",
     "output_type": "stream",
     "text": [
      "QUERY:  Precipitation amount in Zollikofen April 28, 2021 22h\n",
      "QUERY:  temperature in Zollikofen April 28, 2021 22h\n",
      "QUERY:  humidity in Zollikofen April 28, 2021 22h\n",
      "QUERY:  wind speed in Zollikofen April 28, 2021 22h\n",
      "QUERY:  Moon Phase calculatorApril 28, 2021 22h\n"
     ]
    },
    {
     "name": "stderr",
     "output_type": "stream",
     "text": [
      "\r",
      "  4%|███▏                                                                         | 97/2379 [31:08<11:56:59, 18.85s/it]"
     ]
    },
    {
     "name": "stdout",
     "output_type": "stream",
     "text": [
      "QUERY:  Precipitation amount in Zollikofen April 28, 2021 23h\n",
      "QUERY:  temperature in Zollikofen April 28, 2021 23h\n",
      "QUERY:  humidity in Zollikofen April 28, 2021 23h\n",
      "QUERY:  wind speed in Zollikofen April 28, 2021 23h\n",
      "QUERY:  Moon Phase calculatorApril 28, 2021 23h\n"
     ]
    },
    {
     "name": "stderr",
     "output_type": "stream",
     "text": [
      "\r",
      "  4%|███▏                                                                         | 98/2379 [31:28<12:02:19, 19.00s/it]"
     ]
    },
    {
     "name": "stdout",
     "output_type": "stream",
     "text": [
      "QUERY:  Precipitation amount in Zollikofen April 29, 2021 0h\n",
      "QUERY:  temperature in Zollikofen April 29, 2021 0h\n",
      "QUERY:  humidity in Zollikofen April 29, 2021 0h\n",
      "QUERY:  wind speed in Zollikofen April 29, 2021 0h\n",
      "QUERY:  Moon Phase calculatorApril 29, 2021 0h\n"
     ]
    },
    {
     "name": "stderr",
     "output_type": "stream",
     "text": [
      "\r",
      "  4%|███▏                                                                         | 99/2379 [31:47<12:03:29, 19.04s/it]"
     ]
    },
    {
     "name": "stdout",
     "output_type": "stream",
     "text": [
      "QUERY:  Precipitation amount in Zollikofen April 29, 2021 1h\n",
      "QUERY:  temperature in Zollikofen April 29, 2021 1h\n",
      "QUERY:  humidity in Zollikofen April 29, 2021 1h\n",
      "QUERY:  wind speed in Zollikofen April 29, 2021 1h\n",
      "QUERY:  Moon Phase calculatorApril 29, 2021 1h\n"
     ]
    },
    {
     "name": "stderr",
     "output_type": "stream",
     "text": [
      "\r",
      "  4%|███▏                                                                        | 100/2379 [32:06<12:07:16, 19.15s/it]"
     ]
    },
    {
     "name": "stdout",
     "output_type": "stream",
     "text": [
      "QUERY:  Precipitation amount in Zollikofen April 29, 2021 2h\n",
      "QUERY:  temperature in Zollikofen April 29, 2021 2h\n",
      "QUERY:  humidity in Zollikofen April 29, 2021 2h\n",
      "QUERY:  wind speed in Zollikofen April 29, 2021 2h\n",
      "QUERY:  Moon Phase calculatorApril 29, 2021 2h\n",
      "(5091, 7)\n"
     ]
    },
    {
     "data": {
      "text/html": [
       "<div>\n",
       "<style scoped>\n",
       "    .dataframe tbody tr th:only-of-type {\n",
       "        vertical-align: middle;\n",
       "    }\n",
       "\n",
       "    .dataframe tbody tr th {\n",
       "        vertical-align: top;\n",
       "    }\n",
       "\n",
       "    .dataframe thead th {\n",
       "        text-align: right;\n",
       "    }\n",
       "</style>\n",
       "<table border=\"1\" class=\"dataframe\">\n",
       "  <thead>\n",
       "    <tr style=\"text-align: right;\">\n",
       "      <th></th>\n",
       "      <th>date</th>\n",
       "      <th>temperature</th>\n",
       "      <th>humidity</th>\n",
       "      <th>wind speed</th>\n",
       "      <th>Precipitation amount</th>\n",
       "      <th>query</th>\n",
       "      <th>Moon Phase calculator</th>\n",
       "    </tr>\n",
       "  </thead>\n",
       "  <tbody>\n",
       "    <tr>\n",
       "      <th>8</th>\n",
       "      <td>2021-04-29 01:00:00</td>\n",
       "      <td>11 °C\\n(1:00 am CEST | Thursday, April 29, 2021)</td>\n",
       "      <td>average: 91% (82 to 100%)\\n(1:00 am CEST | Thu...</td>\n",
       "      <td>3 m/s\\n(1:00 am CEST | Thursday, April 29, 2021)</td>\n",
       "      <td>rain\\n(1:00 am CEST | Thursday, April 29, 2021)</td>\n",
       "      <td>Moon Phase calculatorApril 29, 2021 1h</td>\n",
       "      <td>| waning gibbous moon\\n95.07% illuminated</td>\n",
       "    </tr>\n",
       "    <tr>\n",
       "      <th>9</th>\n",
       "      <td>2021-04-29 02:00:00</td>\n",
       "      <td>10 °C\\n(2:00 am CEST | Thursday, April 29, 2021)</td>\n",
       "      <td>average: 87% (87%)\\n(2:00 am CEST | Thursday, ...</td>\n",
       "      <td>2 m/s\\n(2:00 am CEST | Thursday, April 29, 2021)</td>\n",
       "      <td>rain\\n(2:00 am CEST | Thursday, April 29, 2021)</td>\n",
       "      <td>Moon Phase calculatorApril 29, 2021 2h</td>\n",
       "      <td>| waning gibbous moon\\n94.84% illuminated</td>\n",
       "    </tr>\n",
       "  </tbody>\n",
       "</table>\n",
       "</div>"
      ],
      "text/plain": [
       "                 date                                       temperature  \\\n",
       "8 2021-04-29 01:00:00  11 °C\\n(1:00 am CEST | Thursday, April 29, 2021)   \n",
       "9 2021-04-29 02:00:00  10 °C\\n(2:00 am CEST | Thursday, April 29, 2021)   \n",
       "\n",
       "                                            humidity  \\\n",
       "8  average: 91% (82 to 100%)\\n(1:00 am CEST | Thu...   \n",
       "9  average: 87% (87%)\\n(2:00 am CEST | Thursday, ...   \n",
       "\n",
       "                                         wind speed  \\\n",
       "8  3 m/s\\n(1:00 am CEST | Thursday, April 29, 2021)   \n",
       "9  2 m/s\\n(2:00 am CEST | Thursday, April 29, 2021)   \n",
       "\n",
       "                              Precipitation amount  \\\n",
       "8  rain\\n(1:00 am CEST | Thursday, April 29, 2021)   \n",
       "9  rain\\n(2:00 am CEST | Thursday, April 29, 2021)   \n",
       "\n",
       "                                    query  \\\n",
       "8  Moon Phase calculatorApril 29, 2021 1h   \n",
       "9  Moon Phase calculatorApril 29, 2021 2h   \n",
       "\n",
       "                       Moon Phase calculator  \n",
       "8  | waning gibbous moon\\n95.07% illuminated  \n",
       "9  | waning gibbous moon\\n94.84% illuminated  "
      ]
     },
     "metadata": {},
     "output_type": "display_data"
    },
    {
     "name": "stderr",
     "output_type": "stream",
     "text": [
      "\r",
      "  4%|███▏                                                                        | 101/2379 [32:25<12:05:45, 19.12s/it]"
     ]
    },
    {
     "name": "stdout",
     "output_type": "stream",
     "text": [
      "QUERY:  Precipitation amount in Zollikofen April 29, 2021 3h\n",
      "QUERY:  temperature in Zollikofen April 29, 2021 3h\n",
      "QUERY:  humidity in Zollikofen April 29, 2021 3h\n",
      "QUERY:  wind speed in Zollikofen April 29, 2021 3h\n",
      "QUERY:  Moon Phase calculatorApril 29, 2021 3h\n"
     ]
    },
    {
     "name": "stderr",
     "output_type": "stream",
     "text": [
      "\r",
      "  4%|███▎                                                                        | 102/2379 [32:45<12:09:00, 19.21s/it]"
     ]
    },
    {
     "name": "stdout",
     "output_type": "stream",
     "text": [
      "QUERY:  Precipitation amount in Zollikofen April 29, 2021 4h\n",
      "QUERY:  temperature in Zollikofen April 29, 2021 4h\n",
      "QUERY:  humidity in Zollikofen April 29, 2021 4h\n",
      "QUERY:  wind speed in Zollikofen April 29, 2021 4h\n",
      "QUERY:  Moon Phase calculatorApril 29, 2021 4h\n"
     ]
    },
    {
     "name": "stderr",
     "output_type": "stream",
     "text": [
      "\r",
      "  4%|███▎                                                                        | 103/2379 [33:03<12:05:36, 19.13s/it]"
     ]
    },
    {
     "name": "stdout",
     "output_type": "stream",
     "text": [
      "QUERY:  Precipitation amount in Zollikofen April 29, 2021 5h\n",
      "QUERY:  temperature in Zollikofen April 29, 2021 5h\n",
      "QUERY:  humidity in Zollikofen April 29, 2021 5h\n",
      "QUERY:  wind speed in Zollikofen April 29, 2021 5h\n",
      "QUERY:  Moon Phase calculatorApril 29, 2021 5h\n"
     ]
    },
    {
     "name": "stderr",
     "output_type": "stream",
     "text": [
      "\r",
      "  4%|███▎                                                                        | 104/2379 [33:23<12:14:44, 19.38s/it]"
     ]
    },
    {
     "name": "stdout",
     "output_type": "stream",
     "text": [
      "QUERY:  Precipitation amount in Zollikofen April 29, 2021 6h\n",
      "QUERY:  temperature in Zollikofen April 29, 2021 6h\n",
      "QUERY:  humidity in Zollikofen April 29, 2021 6h\n",
      "QUERY:  wind speed in Zollikofen April 29, 2021 6h\n",
      "QUERY:  Moon Phase calculatorApril 29, 2021 6h\n"
     ]
    },
    {
     "name": "stderr",
     "output_type": "stream",
     "text": [
      "\r",
      "  4%|███▎                                                                        | 105/2379 [33:44<12:31:48, 19.84s/it]"
     ]
    },
    {
     "name": "stdout",
     "output_type": "stream",
     "text": [
      "QUERY:  Precipitation amount in Zollikofen April 29, 2021 7h\n",
      "QUERY:  temperature in Zollikofen April 29, 2021 7h\n",
      "QUERY:  humidity in Zollikofen April 29, 2021 7h\n",
      "QUERY:  wind speed in Zollikofen April 29, 2021 7h\n",
      "QUERY:  Moon Phase calculatorApril 29, 2021 7h\n"
     ]
    },
    {
     "name": "stderr",
     "output_type": "stream",
     "text": [
      "\r",
      "  4%|███▍                                                                        | 106/2379 [34:03<12:20:08, 19.54s/it]"
     ]
    },
    {
     "name": "stdout",
     "output_type": "stream",
     "text": [
      "QUERY:  Precipitation amount in Zollikofen April 29, 2021 8h\n",
      "QUERY:  temperature in Zollikofen April 29, 2021 8h\n",
      "QUERY:  humidity in Zollikofen April 29, 2021 8h\n",
      "QUERY:  wind speed in Zollikofen April 29, 2021 8h\n",
      "QUERY:  Moon Phase calculatorApril 29, 2021 8h\n"
     ]
    },
    {
     "name": "stderr",
     "output_type": "stream",
     "text": [
      "\r",
      "  4%|███▍                                                                        | 107/2379 [34:23<12:18:25, 19.50s/it]"
     ]
    },
    {
     "name": "stdout",
     "output_type": "stream",
     "text": [
      "QUERY:  Precipitation amount in Zollikofen April 29, 2021 9h\n",
      "QUERY:  temperature in Zollikofen April 29, 2021 9h\n",
      "QUERY:  humidity in Zollikofen April 29, 2021 9h\n",
      "QUERY:  wind speed in Zollikofen April 29, 2021 9h\n",
      "QUERY:  Moon Phase calculatorApril 29, 2021 9h\n"
     ]
    },
    {
     "name": "stderr",
     "output_type": "stream",
     "text": [
      "\r",
      "  5%|███▍                                                                        | 108/2379 [34:41<12:09:28, 19.27s/it]"
     ]
    },
    {
     "name": "stdout",
     "output_type": "stream",
     "text": [
      "QUERY:  Precipitation amount in Zollikofen April 29, 2021 10h\n",
      "QUERY:  temperature in Zollikofen April 29, 2021 10h\n",
      "QUERY:  humidity in Zollikofen April 29, 2021 10h\n",
      "QUERY:  wind speed in Zollikofen April 29, 2021 10h\n",
      "QUERY:  Moon Phase calculatorApril 29, 2021 10h\n"
     ]
    },
    {
     "name": "stderr",
     "output_type": "stream",
     "text": [
      "\r",
      "  5%|███▍                                                                        | 109/2379 [35:02<12:23:31, 19.65s/it]"
     ]
    },
    {
     "name": "stdout",
     "output_type": "stream",
     "text": [
      "QUERY:  Precipitation amount in Zollikofen April 29, 2021 11h\n",
      "QUERY:  temperature in Zollikofen April 29, 2021 11h\n",
      "QUERY:  humidity in Zollikofen April 29, 2021 11h\n",
      "QUERY:  wind speed in Zollikofen April 29, 2021 11h\n",
      "QUERY:  Moon Phase calculatorApril 29, 2021 11h\n"
     ]
    },
    {
     "name": "stderr",
     "output_type": "stream",
     "text": [
      "\r",
      "  5%|███▌                                                                        | 110/2379 [35:21<12:20:30, 19.58s/it]"
     ]
    },
    {
     "name": "stdout",
     "output_type": "stream",
     "text": [
      "QUERY:  Precipitation amount in Zollikofen April 29, 2021 12h\n",
      "QUERY:  temperature in Zollikofen April 29, 2021 12h\n",
      "QUERY:  humidity in Zollikofen April 29, 2021 12h\n",
      "QUERY:  wind speed in Zollikofen April 29, 2021 12h\n",
      "QUERY:  Moon Phase calculatorApril 29, 2021 12h\n",
      "(5101, 7)\n"
     ]
    },
    {
     "data": {
      "text/html": [
       "<div>\n",
       "<style scoped>\n",
       "    .dataframe tbody tr th:only-of-type {\n",
       "        vertical-align: middle;\n",
       "    }\n",
       "\n",
       "    .dataframe tbody tr th {\n",
       "        vertical-align: top;\n",
       "    }\n",
       "\n",
       "    .dataframe thead th {\n",
       "        text-align: right;\n",
       "    }\n",
       "</style>\n",
       "<table border=\"1\" class=\"dataframe\">\n",
       "  <thead>\n",
       "    <tr style=\"text-align: right;\">\n",
       "      <th></th>\n",
       "      <th>date</th>\n",
       "      <th>temperature</th>\n",
       "      <th>humidity</th>\n",
       "      <th>wind speed</th>\n",
       "      <th>Precipitation amount</th>\n",
       "      <th>query</th>\n",
       "      <th>Moon Phase calculator</th>\n",
       "    </tr>\n",
       "  </thead>\n",
       "  <tbody>\n",
       "    <tr>\n",
       "      <th>8</th>\n",
       "      <td>2021-04-29 11:00:00</td>\n",
       "      <td>12 °C\\n(11:00 am CEST | Thursday, April 29, 2021)</td>\n",
       "      <td>average: 74% (72 to 77%)\\n(11:00 am CEST | Thu...</td>\n",
       "      <td>2 m/s\\n(11:00 am CEST | Thursday, April 29, 2021)</td>\n",
       "      <td>no precipitation\\n(11:00 am CEST | Thursday, A...</td>\n",
       "      <td>Moon Phase calculatorApril 29, 2021 11h</td>\n",
       "      <td>| waning gibbous moon\\n92.64% illuminated</td>\n",
       "    </tr>\n",
       "    <tr>\n",
       "      <th>9</th>\n",
       "      <td>2021-04-29 12:00:00</td>\n",
       "      <td>13 °C\\n(12:00 pm CEST | Thursday, April 29, 2021)</td>\n",
       "      <td>average: 67% (67%)\\n(12:00 pm CEST | Thursday,...</td>\n",
       "      <td>2 m/s\\n(12:00 pm CEST | Thursday, April 29, 2021)</td>\n",
       "      <td>no precipitation\\n(12:00 pm CEST | Thursday, A...</td>\n",
       "      <td>Moon Phase calculatorApril 29, 2021 12h</td>\n",
       "      <td>| waning gibbous moon\\n92.37% illuminated</td>\n",
       "    </tr>\n",
       "  </tbody>\n",
       "</table>\n",
       "</div>"
      ],
      "text/plain": [
       "                 date                                        temperature  \\\n",
       "8 2021-04-29 11:00:00  12 °C\\n(11:00 am CEST | Thursday, April 29, 2021)   \n",
       "9 2021-04-29 12:00:00  13 °C\\n(12:00 pm CEST | Thursday, April 29, 2021)   \n",
       "\n",
       "                                            humidity  \\\n",
       "8  average: 74% (72 to 77%)\\n(11:00 am CEST | Thu...   \n",
       "9  average: 67% (67%)\\n(12:00 pm CEST | Thursday,...   \n",
       "\n",
       "                                          wind speed  \\\n",
       "8  2 m/s\\n(11:00 am CEST | Thursday, April 29, 2021)   \n",
       "9  2 m/s\\n(12:00 pm CEST | Thursday, April 29, 2021)   \n",
       "\n",
       "                                Precipitation amount  \\\n",
       "8  no precipitation\\n(11:00 am CEST | Thursday, A...   \n",
       "9  no precipitation\\n(12:00 pm CEST | Thursday, A...   \n",
       "\n",
       "                                     query  \\\n",
       "8  Moon Phase calculatorApril 29, 2021 11h   \n",
       "9  Moon Phase calculatorApril 29, 2021 12h   \n",
       "\n",
       "                       Moon Phase calculator  \n",
       "8  | waning gibbous moon\\n92.64% illuminated  \n",
       "9  | waning gibbous moon\\n92.37% illuminated  "
      ]
     },
     "metadata": {},
     "output_type": "display_data"
    },
    {
     "name": "stderr",
     "output_type": "stream",
     "text": [
      "\r",
      "  5%|███▌                                                                        | 111/2379 [35:41<12:21:50, 19.63s/it]"
     ]
    },
    {
     "name": "stdout",
     "output_type": "stream",
     "text": [
      "QUERY:  Precipitation amount in Zollikofen April 29, 2021 13h\n",
      "QUERY:  temperature in Zollikofen April 29, 2021 13h\n",
      "QUERY:  humidity in Zollikofen April 29, 2021 13h\n",
      "QUERY:  wind speed in Zollikofen April 29, 2021 13h\n",
      "QUERY:  Moon Phase calculatorApril 29, 2021 13h\n"
     ]
    },
    {
     "name": "stderr",
     "output_type": "stream",
     "text": [
      "\r",
      "  5%|███▌                                                                        | 112/2379 [36:02<12:35:40, 20.00s/it]"
     ]
    },
    {
     "name": "stdout",
     "output_type": "stream",
     "text": [
      "QUERY:  Precipitation amount in Zollikofen April 29, 2021 14h\n",
      "QUERY:  temperature in Zollikofen April 29, 2021 14h\n",
      "QUERY:  humidity in Zollikofen April 29, 2021 14h\n",
      "QUERY:  wind speed in Zollikofen April 29, 2021 14h\n",
      "QUERY:  Moon Phase calculatorApril 29, 2021 14h\n"
     ]
    },
    {
     "name": "stderr",
     "output_type": "stream",
     "text": [
      "\r",
      "  5%|███▌                                                                        | 113/2379 [36:22<12:34:17, 19.97s/it]"
     ]
    },
    {
     "name": "stdout",
     "output_type": "stream",
     "text": [
      "QUERY:  Precipitation amount in Zollikofen April 29, 2021 15h\n",
      "QUERY:  temperature in Zollikofen April 29, 2021 15h\n",
      "QUERY:  humidity in Zollikofen April 29, 2021 15h\n",
      "QUERY:  wind speed in Zollikofen April 29, 2021 15h\n",
      "QUERY:  Moon Phase calculatorApril 29, 2021 15h\n"
     ]
    },
    {
     "name": "stderr",
     "output_type": "stream",
     "text": [
      "\r",
      "  5%|███▋                                                                        | 114/2379 [36:41<12:26:45, 19.78s/it]"
     ]
    },
    {
     "name": "stdout",
     "output_type": "stream",
     "text": [
      "QUERY:  Precipitation amount in Zollikofen April 29, 2021 16h\n",
      "QUERY:  temperature in Zollikofen April 29, 2021 16h\n",
      "QUERY:  humidity in Zollikofen April 29, 2021 16h\n",
      "QUERY:  wind speed in Zollikofen April 29, 2021 16h\n",
      "QUERY:  Moon Phase calculatorApril 29, 2021 16h\n"
     ]
    },
    {
     "name": "stderr",
     "output_type": "stream",
     "text": [
      "\r",
      "  5%|███▋                                                                        | 115/2379 [37:01<12:24:22, 19.73s/it]"
     ]
    },
    {
     "name": "stdout",
     "output_type": "stream",
     "text": [
      "QUERY:  Precipitation amount in Zollikofen April 29, 2021 17h\n",
      "QUERY:  temperature in Zollikofen April 29, 2021 17h\n",
      "QUERY:  humidity in Zollikofen April 29, 2021 17h\n",
      "QUERY:  wind speed in Zollikofen April 29, 2021 17h\n",
      "QUERY:  Moon Phase calculatorApril 29, 2021 17h\n"
     ]
    },
    {
     "name": "stderr",
     "output_type": "stream",
     "text": [
      "\r",
      "  5%|███▋                                                                        | 116/2379 [37:21<12:27:46, 19.83s/it]"
     ]
    },
    {
     "name": "stdout",
     "output_type": "stream",
     "text": [
      "QUERY:  Precipitation amount in Zollikofen April 29, 2021 18h\n",
      "QUERY:  temperature in Zollikofen April 29, 2021 18h\n",
      "QUERY:  humidity in Zollikofen April 29, 2021 18h\n",
      "QUERY:  wind speed in Zollikofen April 29, 2021 18h\n",
      "QUERY:  Moon Phase calculatorApril 29, 2021 18h\n"
     ]
    },
    {
     "name": "stderr",
     "output_type": "stream",
     "text": [
      "\r",
      "  5%|███▋                                                                        | 117/2379 [37:40<12:19:00, 19.60s/it]"
     ]
    },
    {
     "name": "stdout",
     "output_type": "stream",
     "text": [
      "QUERY:  Precipitation amount in Zollikofen April 29, 2021 19h\n",
      "QUERY:  temperature in Zollikofen April 29, 2021 19h\n",
      "QUERY:  humidity in Zollikofen April 29, 2021 19h\n",
      "QUERY:  wind speed in Zollikofen April 29, 2021 19h\n",
      "QUERY:  Moon Phase calculatorApril 29, 2021 19h\n"
     ]
    },
    {
     "name": "stderr",
     "output_type": "stream",
     "text": [
      "\r",
      "  5%|███▊                                                                        | 118/2379 [37:59<12:16:00, 19.53s/it]"
     ]
    },
    {
     "name": "stdout",
     "output_type": "stream",
     "text": [
      "QUERY:  Precipitation amount in Zollikofen April 29, 2021 20h\n",
      "QUERY:  temperature in Zollikofen April 29, 2021 20h\n",
      "QUERY:  humidity in Zollikofen April 29, 2021 20h\n",
      "QUERY:  wind speed in Zollikofen April 29, 2021 20h\n",
      "QUERY:  Moon Phase calculatorApril 29, 2021 20h\n"
     ]
    },
    {
     "name": "stderr",
     "output_type": "stream",
     "text": [
      "\r",
      "  5%|███▊                                                                        | 119/2379 [38:18<12:11:00, 19.41s/it]"
     ]
    },
    {
     "name": "stdout",
     "output_type": "stream",
     "text": [
      "QUERY:  Precipitation amount in Zollikofen April 29, 2021 21h\n",
      "QUERY:  temperature in Zollikofen April 29, 2021 21h\n",
      "QUERY:  humidity in Zollikofen April 29, 2021 21h\n",
      "QUERY:  wind speed in Zollikofen April 29, 2021 21h\n",
      "QUERY:  Moon Phase calculatorApril 29, 2021 21h\n"
     ]
    },
    {
     "name": "stderr",
     "output_type": "stream",
     "text": [
      "\r",
      "  5%|███▊                                                                        | 120/2379 [38:39<12:19:20, 19.64s/it]"
     ]
    },
    {
     "name": "stdout",
     "output_type": "stream",
     "text": [
      "QUERY:  Precipitation amount in Zollikofen April 29, 2021 22h\n",
      "QUERY:  temperature in Zollikofen April 29, 2021 22h\n",
      "QUERY:  humidity in Zollikofen April 29, 2021 22h\n",
      "QUERY:  wind speed in Zollikofen April 29, 2021 22h\n",
      "QUERY:  Moon Phase calculatorApril 29, 2021 22h\n",
      "(5111, 7)\n"
     ]
    },
    {
     "data": {
      "text/html": [
       "<div>\n",
       "<style scoped>\n",
       "    .dataframe tbody tr th:only-of-type {\n",
       "        vertical-align: middle;\n",
       "    }\n",
       "\n",
       "    .dataframe tbody tr th {\n",
       "        vertical-align: top;\n",
       "    }\n",
       "\n",
       "    .dataframe thead th {\n",
       "        text-align: right;\n",
       "    }\n",
       "</style>\n",
       "<table border=\"1\" class=\"dataframe\">\n",
       "  <thead>\n",
       "    <tr style=\"text-align: right;\">\n",
       "      <th></th>\n",
       "      <th>date</th>\n",
       "      <th>temperature</th>\n",
       "      <th>humidity</th>\n",
       "      <th>wind speed</th>\n",
       "      <th>Precipitation amount</th>\n",
       "      <th>query</th>\n",
       "      <th>Moon Phase calculator</th>\n",
       "    </tr>\n",
       "  </thead>\n",
       "  <tbody>\n",
       "    <tr>\n",
       "      <th>8</th>\n",
       "      <td>2021-04-29 21:00:00</td>\n",
       "      <td>11 °C\\n(9:00 pm CEST | Thursday, April 29, 2021)</td>\n",
       "      <td>average: 94% (94%)\\n(9:00 pm CEST | Thursday, ...</td>\n",
       "      <td>2 m/s\\n(9:00 pm CEST | Thursday, April 29, 2021)</td>\n",
       "      <td>no precipitation\\n(9:00 pm CEST | Thursday, Ap...</td>\n",
       "      <td>Moon Phase calculatorApril 29, 2021 21h</td>\n",
       "      <td>| waning gibbous moon\\n89.79% illuminated</td>\n",
       "    </tr>\n",
       "    <tr>\n",
       "      <th>9</th>\n",
       "      <td>2021-04-29 22:00:00</td>\n",
       "      <td>10 °C\\n(10:00 pm CEST | Thursday, April 29, 2021)</td>\n",
       "      <td>average: 100% (100%)\\n(10:00 pm CEST | Thursda...</td>\n",
       "      <td>2 m/s\\n(10:00 pm CEST | Thursday, April 29, 2021)</td>\n",
       "      <td>no precipitation\\n(10:00 pm CEST | Thursday, A...</td>\n",
       "      <td>Moon Phase calculatorApril 29, 2021 22h</td>\n",
       "      <td>| waning gibbous moon\\n89.49% illuminated</td>\n",
       "    </tr>\n",
       "  </tbody>\n",
       "</table>\n",
       "</div>"
      ],
      "text/plain": [
       "                 date                                        temperature  \\\n",
       "8 2021-04-29 21:00:00   11 °C\\n(9:00 pm CEST | Thursday, April 29, 2021)   \n",
       "9 2021-04-29 22:00:00  10 °C\\n(10:00 pm CEST | Thursday, April 29, 2021)   \n",
       "\n",
       "                                            humidity  \\\n",
       "8  average: 94% (94%)\\n(9:00 pm CEST | Thursday, ...   \n",
       "9  average: 100% (100%)\\n(10:00 pm CEST | Thursda...   \n",
       "\n",
       "                                          wind speed  \\\n",
       "8   2 m/s\\n(9:00 pm CEST | Thursday, April 29, 2021)   \n",
       "9  2 m/s\\n(10:00 pm CEST | Thursday, April 29, 2021)   \n",
       "\n",
       "                                Precipitation amount  \\\n",
       "8  no precipitation\\n(9:00 pm CEST | Thursday, Ap...   \n",
       "9  no precipitation\\n(10:00 pm CEST | Thursday, A...   \n",
       "\n",
       "                                     query  \\\n",
       "8  Moon Phase calculatorApril 29, 2021 21h   \n",
       "9  Moon Phase calculatorApril 29, 2021 22h   \n",
       "\n",
       "                       Moon Phase calculator  \n",
       "8  | waning gibbous moon\\n89.79% illuminated  \n",
       "9  | waning gibbous moon\\n89.49% illuminated  "
      ]
     },
     "metadata": {},
     "output_type": "display_data"
    },
    {
     "name": "stderr",
     "output_type": "stream",
     "text": [
      "\r",
      "  5%|███▊                                                                        | 121/2379 [38:58<12:15:28, 19.54s/it]"
     ]
    },
    {
     "name": "stdout",
     "output_type": "stream",
     "text": [
      "QUERY:  Precipitation amount in Zollikofen April 29, 2021 23h\n",
      "QUERY:  temperature in Zollikofen April 29, 2021 23h\n",
      "QUERY:  humidity in Zollikofen April 29, 2021 23h\n",
      "QUERY:  wind speed in Zollikofen April 29, 2021 23h\n",
      "QUERY:  Moon Phase calculatorApril 29, 2021 23h\n"
     ]
    },
    {
     "name": "stderr",
     "output_type": "stream",
     "text": [
      "\r",
      "  5%|███▉                                                                        | 122/2379 [39:17<12:12:02, 19.46s/it]"
     ]
    },
    {
     "name": "stdout",
     "output_type": "stream",
     "text": [
      "QUERY:  Precipitation amount in Zollikofen April 30, 2021 0h\n",
      "QUERY:  temperature in Zollikofen April 30, 2021 0h\n",
      "QUERY:  humidity in Zollikofen April 30, 2021 0h\n",
      "QUERY:  wind speed in Zollikofen April 30, 2021 0h\n",
      "QUERY:  Moon Phase calculatorApril 30, 2021 0h\n"
     ]
    },
    {
     "name": "stderr",
     "output_type": "stream",
     "text": [
      "\r",
      "  5%|███▉                                                                        | 123/2379 [39:36<12:03:42, 19.25s/it]"
     ]
    },
    {
     "name": "stdout",
     "output_type": "stream",
     "text": [
      "QUERY:  Precipitation amount in Zollikofen April 30, 2021 1h\n",
      "QUERY:  temperature in Zollikofen April 30, 2021 1h\n",
      "QUERY:  humidity in Zollikofen April 30, 2021 1h\n",
      "QUERY:  wind speed in Zollikofen April 30, 2021 1h\n",
      "QUERY:  Moon Phase calculatorApril 30, 2021 1h\n"
     ]
    },
    {
     "name": "stderr",
     "output_type": "stream",
     "text": [
      "\r",
      "  5%|███▉                                                                        | 124/2379 [39:56<12:12:52, 19.50s/it]"
     ]
    },
    {
     "name": "stdout",
     "output_type": "stream",
     "text": [
      "QUERY:  Precipitation amount in Zollikofen April 30, 2021 2h\n",
      "QUERY:  temperature in Zollikofen April 30, 2021 2h\n",
      "QUERY:  humidity in Zollikofen April 30, 2021 2h\n",
      "QUERY:  wind speed in Zollikofen April 30, 2021 2h\n",
      "QUERY:  Moon Phase calculatorApril 30, 2021 2h\n"
     ]
    },
    {
     "name": "stderr",
     "output_type": "stream",
     "text": [
      "\r",
      "  5%|███▉                                                                        | 125/2379 [40:16<12:21:21, 19.73s/it]"
     ]
    },
    {
     "name": "stdout",
     "output_type": "stream",
     "text": [
      "QUERY:  Precipitation amount in Zollikofen April 30, 2021 3h\n",
      "QUERY:  temperature in Zollikofen April 30, 2021 3h\n",
      "QUERY:  humidity in Zollikofen April 30, 2021 3h\n",
      "QUERY:  wind speed in Zollikofen April 30, 2021 3h\n",
      "QUERY:  Moon Phase calculatorApril 30, 2021 3h\n"
     ]
    },
    {
     "name": "stderr",
     "output_type": "stream",
     "text": [
      "\r",
      "  5%|████                                                                        | 126/2379 [40:36<12:22:36, 19.78s/it]"
     ]
    },
    {
     "name": "stdout",
     "output_type": "stream",
     "text": [
      "QUERY:  Precipitation amount in Zollikofen April 30, 2021 4h\n",
      "QUERY:  temperature in Zollikofen April 30, 2021 4h\n",
      "QUERY:  humidity in Zollikofen April 30, 2021 4h\n",
      "QUERY:  wind speed in Zollikofen April 30, 2021 4h\n",
      "QUERY:  Moon Phase calculatorApril 30, 2021 4h\n"
     ]
    },
    {
     "name": "stderr",
     "output_type": "stream",
     "text": [
      "\r",
      "  5%|████                                                                        | 127/2379 [40:58<12:43:34, 20.34s/it]"
     ]
    },
    {
     "name": "stdout",
     "output_type": "stream",
     "text": [
      "QUERY:  Precipitation amount in Zollikofen April 30, 2021 5h\n",
      "QUERY:  temperature in Zollikofen April 30, 2021 5h\n",
      "QUERY:  humidity in Zollikofen April 30, 2021 5h\n",
      "QUERY:  wind speed in Zollikofen April 30, 2021 5h\n",
      "QUERY:  Moon Phase calculatorApril 30, 2021 5h\n"
     ]
    },
    {
     "name": "stderr",
     "output_type": "stream",
     "text": [
      "\r",
      "  5%|████                                                                        | 128/2379 [41:18<12:41:09, 20.29s/it]"
     ]
    },
    {
     "name": "stdout",
     "output_type": "stream",
     "text": [
      "QUERY:  Precipitation amount in Zollikofen April 30, 2021 6h\n",
      "QUERY:  temperature in Zollikofen April 30, 2021 6h\n",
      "QUERY:  humidity in Zollikofen April 30, 2021 6h\n",
      "QUERY:  wind speed in Zollikofen April 30, 2021 6h\n",
      "QUERY:  Moon Phase calculatorApril 30, 2021 6h\n"
     ]
    },
    {
     "name": "stderr",
     "output_type": "stream",
     "text": [
      "\r",
      "  5%|████                                                                        | 129/2379 [41:39<12:44:28, 20.39s/it]"
     ]
    },
    {
     "name": "stdout",
     "output_type": "stream",
     "text": [
      "QUERY:  Precipitation amount in Zollikofen April 30, 2021 7h\n",
      "QUERY:  temperature in Zollikofen April 30, 2021 7h\n",
      "QUERY:  humidity in Zollikofen April 30, 2021 7h\n",
      "QUERY:  wind speed in Zollikofen April 30, 2021 7h\n",
      "QUERY:  Moon Phase calculatorApril 30, 2021 7h\n"
     ]
    },
    {
     "name": "stderr",
     "output_type": "stream",
     "text": [
      "\r",
      "  5%|████▏                                                                       | 130/2379 [41:59<12:41:13, 20.31s/it]"
     ]
    },
    {
     "name": "stdout",
     "output_type": "stream",
     "text": [
      "QUERY:  Precipitation amount in Zollikofen April 30, 2021 8h\n",
      "QUERY:  temperature in Zollikofen April 30, 2021 8h\n",
      "QUERY:  humidity in Zollikofen April 30, 2021 8h\n",
      "QUERY:  wind speed in Zollikofen April 30, 2021 8h\n",
      "QUERY:  Moon Phase calculatorApril 30, 2021 8h\n",
      "(5121, 7)\n"
     ]
    },
    {
     "data": {
      "text/html": [
       "<div>\n",
       "<style scoped>\n",
       "    .dataframe tbody tr th:only-of-type {\n",
       "        vertical-align: middle;\n",
       "    }\n",
       "\n",
       "    .dataframe tbody tr th {\n",
       "        vertical-align: top;\n",
       "    }\n",
       "\n",
       "    .dataframe thead th {\n",
       "        text-align: right;\n",
       "    }\n",
       "</style>\n",
       "<table border=\"1\" class=\"dataframe\">\n",
       "  <thead>\n",
       "    <tr style=\"text-align: right;\">\n",
       "      <th></th>\n",
       "      <th>date</th>\n",
       "      <th>temperature</th>\n",
       "      <th>humidity</th>\n",
       "      <th>wind speed</th>\n",
       "      <th>Precipitation amount</th>\n",
       "      <th>query</th>\n",
       "      <th>Moon Phase calculator</th>\n",
       "    </tr>\n",
       "  </thead>\n",
       "  <tbody>\n",
       "    <tr>\n",
       "      <th>8</th>\n",
       "      <td>2021-04-30 07:00:00</td>\n",
       "      <td>8 °C\\n(7:00 am CEST | Friday, April 30, 2021)</td>\n",
       "      <td>average: 100% (100%)\\n(7:00 am CEST | Friday, ...</td>\n",
       "      <td>2 m/s\\n(7:00 am CEST | Friday, April 30, 2021)</td>\n",
       "      <td>no precipitation\\n(7:00 am CEST | Friday, Apri...</td>\n",
       "      <td>Moon Phase calculatorApril 30, 2021 7h</td>\n",
       "      <td>| waning gibbous moon\\n86.57% illuminated</td>\n",
       "    </tr>\n",
       "    <tr>\n",
       "      <th>9</th>\n",
       "      <td>2021-04-30 08:00:00</td>\n",
       "      <td>10 °C\\n(8:00 am CEST | Friday, April 30, 2021)</td>\n",
       "      <td>average: 84% (82 to 87%)\\n(8:00 am CEST | Frid...</td>\n",
       "      <td>2 m/s\\n(8:00 am CEST | Friday, April 30, 2021)</td>\n",
       "      <td>no precipitation\\n(8:00 am CEST | Friday, Apri...</td>\n",
       "      <td>Moon Phase calculatorApril 30, 2021 8h</td>\n",
       "      <td>| waning gibbous moon\\n86.23% illuminated</td>\n",
       "    </tr>\n",
       "  </tbody>\n",
       "</table>\n",
       "</div>"
      ],
      "text/plain": [
       "                 date                                     temperature  \\\n",
       "8 2021-04-30 07:00:00   8 °C\\n(7:00 am CEST | Friday, April 30, 2021)   \n",
       "9 2021-04-30 08:00:00  10 °C\\n(8:00 am CEST | Friday, April 30, 2021)   \n",
       "\n",
       "                                            humidity  \\\n",
       "8  average: 100% (100%)\\n(7:00 am CEST | Friday, ...   \n",
       "9  average: 84% (82 to 87%)\\n(8:00 am CEST | Frid...   \n",
       "\n",
       "                                       wind speed  \\\n",
       "8  2 m/s\\n(7:00 am CEST | Friday, April 30, 2021)   \n",
       "9  2 m/s\\n(8:00 am CEST | Friday, April 30, 2021)   \n",
       "\n",
       "                                Precipitation amount  \\\n",
       "8  no precipitation\\n(7:00 am CEST | Friday, Apri...   \n",
       "9  no precipitation\\n(8:00 am CEST | Friday, Apri...   \n",
       "\n",
       "                                    query  \\\n",
       "8  Moon Phase calculatorApril 30, 2021 7h   \n",
       "9  Moon Phase calculatorApril 30, 2021 8h   \n",
       "\n",
       "                       Moon Phase calculator  \n",
       "8  | waning gibbous moon\\n86.57% illuminated  \n",
       "9  | waning gibbous moon\\n86.23% illuminated  "
      ]
     },
     "metadata": {},
     "output_type": "display_data"
    },
    {
     "name": "stderr",
     "output_type": "stream",
     "text": [
      "\r",
      "  6%|████▏                                                                       | 131/2379 [42:19<12:40:58, 20.31s/it]"
     ]
    },
    {
     "name": "stdout",
     "output_type": "stream",
     "text": [
      "QUERY:  Precipitation amount in Zollikofen April 30, 2021 9h\n",
      "QUERY:  temperature in Zollikofen April 30, 2021 9h\n",
      "QUERY:  humidity in Zollikofen April 30, 2021 9h\n",
      "QUERY:  wind speed in Zollikofen April 30, 2021 9h\n",
      "QUERY:  Moon Phase calculatorApril 30, 2021 9h\n"
     ]
    },
    {
     "name": "stderr",
     "output_type": "stream",
     "text": [
      "\r",
      "  6%|████▏                                                                       | 132/2379 [42:39<12:42:43, 20.37s/it]"
     ]
    },
    {
     "name": "stdout",
     "output_type": "stream",
     "text": [
      "QUERY:  Precipitation amount in Zollikofen April 30, 2021 10h\n",
      "QUERY:  temperature in Zollikofen April 30, 2021 10h\n",
      "QUERY:  humidity in Zollikofen April 30, 2021 10h\n",
      "QUERY:  wind speed in Zollikofen April 30, 2021 10h\n",
      "QUERY:  Moon Phase calculatorApril 30, 2021 10h\n"
     ]
    },
    {
     "name": "stderr",
     "output_type": "stream",
     "text": [
      "\r",
      "  6%|████▏                                                                       | 133/2379 [42:59<12:37:54, 20.25s/it]"
     ]
    },
    {
     "name": "stdout",
     "output_type": "stream",
     "text": [
      "QUERY:  Precipitation amount in Zollikofen April 30, 2021 11h\n",
      "QUERY:  temperature in Zollikofen April 30, 2021 11h\n",
      "QUERY:  humidity in Zollikofen April 30, 2021 11h\n",
      "QUERY:  wind speed in Zollikofen April 30, 2021 11h\n",
      "QUERY:  Moon Phase calculatorApril 30, 2021 11h\n"
     ]
    },
    {
     "name": "stderr",
     "output_type": "stream",
     "text": [
      "\r",
      "  6%|████▎                                                                       | 134/2379 [43:21<12:46:43, 20.49s/it]"
     ]
    },
    {
     "name": "stdout",
     "output_type": "stream",
     "text": [
      "QUERY:  Precipitation amount in Zollikofen April 30, 2021 12h\n",
      "QUERY:  temperature in Zollikofen April 30, 2021 12h\n",
      "QUERY:  humidity in Zollikofen April 30, 2021 12h\n",
      "QUERY:  wind speed in Zollikofen April 30, 2021 12h\n",
      "QUERY:  Moon Phase calculatorApril 30, 2021 12h\n"
     ]
    },
    {
     "name": "stderr",
     "output_type": "stream",
     "text": [
      "\r",
      "  6%|████▎                                                                       | 135/2379 [43:42<13:01:36, 20.90s/it]"
     ]
    },
    {
     "name": "stdout",
     "output_type": "stream",
     "text": [
      "QUERY:  Precipitation amount in Zollikofen April 30, 2021 13h\n",
      "QUERY:  temperature in Zollikofen April 30, 2021 13h\n",
      "QUERY:  humidity in Zollikofen April 30, 2021 13h\n",
      "QUERY:  wind speed in Zollikofen April 30, 2021 13h\n",
      "QUERY:  Moon Phase calculatorApril 30, 2021 13h\n"
     ]
    },
    {
     "name": "stderr",
     "output_type": "stream",
     "text": [
      "\r",
      "  6%|████▎                                                                       | 136/2379 [44:03<12:53:47, 20.70s/it]"
     ]
    },
    {
     "name": "stdout",
     "output_type": "stream",
     "text": [
      "QUERY:  Precipitation amount in Zollikofen April 30, 2021 14h\n",
      "QUERY:  temperature in Zollikofen April 30, 2021 14h\n",
      "QUERY:  humidity in Zollikofen April 30, 2021 14h\n",
      "QUERY:  wind speed in Zollikofen April 30, 2021 14h\n",
      "QUERY:  Moon Phase calculatorApril 30, 2021 14h\n"
     ]
    },
    {
     "name": "stderr",
     "output_type": "stream",
     "text": [
      "\r",
      "  6%|████▍                                                                       | 137/2379 [44:23<12:50:16, 20.61s/it]"
     ]
    },
    {
     "name": "stdout",
     "output_type": "stream",
     "text": [
      "QUERY:  Precipitation amount in Zollikofen April 30, 2021 15h\n",
      "QUERY:  temperature in Zollikofen April 30, 2021 15h\n",
      "QUERY:  humidity in Zollikofen April 30, 2021 15h\n",
      "QUERY:  wind speed in Zollikofen April 30, 2021 15h\n",
      "QUERY:  Moon Phase calculatorApril 30, 2021 15h\n"
     ]
    },
    {
     "name": "stderr",
     "output_type": "stream",
     "text": [
      "\r",
      "  6%|████▍                                                                       | 138/2379 [44:45<13:02:14, 20.94s/it]"
     ]
    },
    {
     "name": "stdout",
     "output_type": "stream",
     "text": [
      "QUERY:  Precipitation amount in Zollikofen April 30, 2021 16h\n",
      "QUERY:  temperature in Zollikofen April 30, 2021 16h\n",
      "QUERY:  humidity in Zollikofen April 30, 2021 16h\n",
      "QUERY:  wind speed in Zollikofen April 30, 2021 16h\n",
      "QUERY:  Moon Phase calculatorApril 30, 2021 16h\n"
     ]
    },
    {
     "name": "stderr",
     "output_type": "stream",
     "text": [
      "\r",
      "  6%|████▍                                                                       | 139/2379 [45:05<12:55:12, 20.76s/it]"
     ]
    },
    {
     "name": "stdout",
     "output_type": "stream",
     "text": [
      "QUERY:  Precipitation amount in Zollikofen April 30, 2021 17h\n",
      "QUERY:  temperature in Zollikofen April 30, 2021 17h\n",
      "QUERY:  humidity in Zollikofen April 30, 2021 17h\n",
      "QUERY:  wind speed in Zollikofen April 30, 2021 17h\n",
      "QUERY:  Moon Phase calculatorApril 30, 2021 17h\n"
     ]
    },
    {
     "name": "stderr",
     "output_type": "stream",
     "text": [
      "\r",
      "  6%|████▍                                                                       | 140/2379 [45:26<12:59:18, 20.88s/it]"
     ]
    },
    {
     "name": "stdout",
     "output_type": "stream",
     "text": [
      "QUERY:  Precipitation amount in Zollikofen April 30, 2021 18h\n",
      "QUERY:  temperature in Zollikofen April 30, 2021 18h\n",
      "QUERY:  humidity in Zollikofen April 30, 2021 18h\n",
      "QUERY:  wind speed in Zollikofen April 30, 2021 18h\n",
      "QUERY:  Moon Phase calculatorApril 30, 2021 18h\n",
      "(5131, 7)\n"
     ]
    },
    {
     "data": {
      "text/html": [
       "<div>\n",
       "<style scoped>\n",
       "    .dataframe tbody tr th:only-of-type {\n",
       "        vertical-align: middle;\n",
       "    }\n",
       "\n",
       "    .dataframe tbody tr th {\n",
       "        vertical-align: top;\n",
       "    }\n",
       "\n",
       "    .dataframe thead th {\n",
       "        text-align: right;\n",
       "    }\n",
       "</style>\n",
       "<table border=\"1\" class=\"dataframe\">\n",
       "  <thead>\n",
       "    <tr style=\"text-align: right;\">\n",
       "      <th></th>\n",
       "      <th>date</th>\n",
       "      <th>temperature</th>\n",
       "      <th>humidity</th>\n",
       "      <th>wind speed</th>\n",
       "      <th>Precipitation amount</th>\n",
       "      <th>query</th>\n",
       "      <th>Moon Phase calculator</th>\n",
       "    </tr>\n",
       "  </thead>\n",
       "  <tbody>\n",
       "    <tr>\n",
       "      <th>8</th>\n",
       "      <td>2021-04-30 17:00:00</td>\n",
       "      <td>9 °C\\n(5:00 pm CEST | Friday, April 30, 2021)</td>\n",
       "      <td>average: 100% (100%)\\n(5:00 pm CEST | Friday, ...</td>\n",
       "      <td>1 m/s\\n(5:00 pm CEST | Friday, April 30, 2021)</td>\n",
       "      <td>rain\\n(5:00 pm CEST | Friday, April 30, 2021)</td>\n",
       "      <td>Moon Phase calculatorApril 30, 2021 17h</td>\n",
       "      <td>| waning gibbous moon\\n83.02% illuminated</td>\n",
       "    </tr>\n",
       "    <tr>\n",
       "      <th>9</th>\n",
       "      <td>2021-04-30 18:00:00</td>\n",
       "      <td>9 °C\\n(6:00 pm CEST | Friday, April 30, 2021)</td>\n",
       "      <td>average: 100% (100%)\\n(6:00 pm CEST | Friday, ...</td>\n",
       "      <td>2 m/s\\n(6:00 pm CEST | Friday, April 30, 2021)</td>\n",
       "      <td>rain\\n(6:00 pm CEST | Friday, April 30, 2021)</td>\n",
       "      <td>Moon Phase calculatorApril 30, 2021 18h</td>\n",
       "      <td>| waning gibbous moon\\n82.65% illuminated</td>\n",
       "    </tr>\n",
       "  </tbody>\n",
       "</table>\n",
       "</div>"
      ],
      "text/plain": [
       "                 date                                    temperature  \\\n",
       "8 2021-04-30 17:00:00  9 °C\\n(5:00 pm CEST | Friday, April 30, 2021)   \n",
       "9 2021-04-30 18:00:00  9 °C\\n(6:00 pm CEST | Friday, April 30, 2021)   \n",
       "\n",
       "                                            humidity  \\\n",
       "8  average: 100% (100%)\\n(5:00 pm CEST | Friday, ...   \n",
       "9  average: 100% (100%)\\n(6:00 pm CEST | Friday, ...   \n",
       "\n",
       "                                       wind speed  \\\n",
       "8  1 m/s\\n(5:00 pm CEST | Friday, April 30, 2021)   \n",
       "9  2 m/s\\n(6:00 pm CEST | Friday, April 30, 2021)   \n",
       "\n",
       "                            Precipitation amount  \\\n",
       "8  rain\\n(5:00 pm CEST | Friday, April 30, 2021)   \n",
       "9  rain\\n(6:00 pm CEST | Friday, April 30, 2021)   \n",
       "\n",
       "                                     query  \\\n",
       "8  Moon Phase calculatorApril 30, 2021 17h   \n",
       "9  Moon Phase calculatorApril 30, 2021 18h   \n",
       "\n",
       "                       Moon Phase calculator  \n",
       "8  | waning gibbous moon\\n83.02% illuminated  \n",
       "9  | waning gibbous moon\\n82.65% illuminated  "
      ]
     },
     "metadata": {},
     "output_type": "display_data"
    },
    {
     "name": "stderr",
     "output_type": "stream",
     "text": [
      "\r",
      "  6%|████▌                                                                       | 141/2379 [45:47<12:59:02, 20.89s/it]"
     ]
    },
    {
     "name": "stdout",
     "output_type": "stream",
     "text": [
      "QUERY:  Precipitation amount in Zollikofen April 30, 2021 19h\n",
      "QUERY:  temperature in Zollikofen April 30, 2021 19h\n",
      "QUERY:  humidity in Zollikofen April 30, 2021 19h\n",
      "QUERY:  wind speed in Zollikofen April 30, 2021 19h\n",
      "QUERY:  Moon Phase calculatorApril 30, 2021 19h\n"
     ]
    },
    {
     "name": "stderr",
     "output_type": "stream",
     "text": [
      "\r",
      "  6%|████▌                                                                       | 142/2379 [46:08<12:58:06, 20.87s/it]"
     ]
    },
    {
     "name": "stdout",
     "output_type": "stream",
     "text": [
      "QUERY:  Precipitation amount in Zollikofen April 30, 2021 20h\n",
      "QUERY:  temperature in Zollikofen April 30, 2021 20h\n",
      "QUERY:  humidity in Zollikofen April 30, 2021 20h\n",
      "QUERY:  wind speed in Zollikofen April 30, 2021 20h\n",
      "QUERY:  Moon Phase calculatorApril 30, 2021 20h\n"
     ]
    },
    {
     "name": "stderr",
     "output_type": "stream",
     "text": [
      "\r",
      "  6%|████▌                                                                       | 143/2379 [46:30<13:10:40, 21.22s/it]"
     ]
    },
    {
     "name": "stdout",
     "output_type": "stream",
     "text": [
      "QUERY:  Precipitation amount in Zollikofen April 30, 2021 21h\n",
      "QUERY:  temperature in Zollikofen April 30, 2021 21h\n",
      "QUERY:  humidity in Zollikofen April 30, 2021 21h\n",
      "QUERY:  wind speed in Zollikofen April 30, 2021 21h\n",
      "QUERY:  Moon Phase calculatorApril 30, 2021 21h\n"
     ]
    },
    {
     "name": "stderr",
     "output_type": "stream",
     "text": [
      "\r",
      "  6%|████▌                                                                       | 144/2379 [46:51<13:03:46, 21.04s/it]"
     ]
    },
    {
     "name": "stdout",
     "output_type": "stream",
     "text": [
      "QUERY:  Precipitation amount in Zollikofen April 30, 2021 22h\n",
      "QUERY:  temperature in Zollikofen April 30, 2021 22h\n",
      "QUERY:  humidity in Zollikofen April 30, 2021 22h\n",
      "QUERY:  wind speed in Zollikofen April 30, 2021 22h\n",
      "QUERY:  Moon Phase calculatorApril 30, 2021 22h\n"
     ]
    },
    {
     "name": "stderr",
     "output_type": "stream",
     "text": [
      "\r",
      "  6%|████▋                                                                       | 145/2379 [47:12<13:10:52, 21.24s/it]"
     ]
    },
    {
     "name": "stdout",
     "output_type": "stream",
     "text": [
      "QUERY:  Precipitation amount in Zollikofen April 30, 2021 23h\n",
      "QUERY:  temperature in Zollikofen April 30, 2021 23h\n",
      "QUERY:  humidity in Zollikofen April 30, 2021 23h\n",
      "QUERY:  wind speed in Zollikofen April 30, 2021 23h\n",
      "QUERY:  Moon Phase calculatorApril 30, 2021 23h\n"
     ]
    },
    {
     "name": "stderr",
     "output_type": "stream",
     "text": [
      "\r",
      "  6%|████▋                                                                       | 146/2379 [47:34<13:12:53, 21.30s/it]"
     ]
    },
    {
     "name": "stdout",
     "output_type": "stream",
     "text": [
      "QUERY:  Precipitation amount in Zollikofen May 1, 2021 0h\n",
      "QUERY:  temperature in Zollikofen May 1, 2021 0h\n",
      "QUERY:  humidity in Zollikofen May 1, 2021 0h\n",
      "QUERY:  wind speed in Zollikofen May 1, 2021 0h\n",
      "QUERY:  Moon Phase calculatorMay 1, 2021 0h\n"
     ]
    },
    {
     "name": "stderr",
     "output_type": "stream",
     "text": [
      "\r",
      "  6%|████▋                                                                       | 147/2379 [47:53<12:54:13, 20.81s/it]"
     ]
    },
    {
     "name": "stdout",
     "output_type": "stream",
     "text": [
      "QUERY:  Precipitation amount in Zollikofen May 1, 2021 1h\n",
      "QUERY:  temperature in Zollikofen May 1, 2021 1h\n",
      "QUERY:  humidity in Zollikofen May 1, 2021 1h\n",
      "QUERY:  wind speed in Zollikofen May 1, 2021 1h\n",
      "QUERY:  Moon Phase calculatorMay 1, 2021 1h\n"
     ]
    },
    {
     "name": "stderr",
     "output_type": "stream",
     "text": [
      "\r",
      "  6%|████▋                                                                       | 148/2379 [48:14<12:55:23, 20.85s/it]"
     ]
    },
    {
     "name": "stdout",
     "output_type": "stream",
     "text": [
      "QUERY:  Precipitation amount in Zollikofen May 1, 2021 2h\n",
      "QUERY:  temperature in Zollikofen May 1, 2021 2h\n",
      "QUERY:  humidity in Zollikofen May 1, 2021 2h\n",
      "QUERY:  wind speed in Zollikofen May 1, 2021 2h\n",
      "QUERY:  Moon Phase calculatorMay 1, 2021 2h\n"
     ]
    },
    {
     "name": "stderr",
     "output_type": "stream",
     "text": [
      "\r",
      "  6%|████▊                                                                       | 149/2379 [48:34<12:42:05, 20.50s/it]"
     ]
    },
    {
     "name": "stdout",
     "output_type": "stream",
     "text": [
      "QUERY:  Precipitation amount in Zollikofen May 1, 2021 3h\n",
      "QUERY:  temperature in Zollikofen May 1, 2021 3h\n",
      "QUERY:  humidity in Zollikofen May 1, 2021 3h\n",
      "QUERY:  wind speed in Zollikofen May 1, 2021 3h\n",
      "QUERY:  Moon Phase calculatorMay 1, 2021 3h\n"
     ]
    },
    {
     "name": "stderr",
     "output_type": "stream",
     "text": [
      "\r",
      "  6%|████▊                                                                       | 150/2379 [48:54<12:33:27, 20.28s/it]"
     ]
    },
    {
     "name": "stdout",
     "output_type": "stream",
     "text": [
      "QUERY:  Precipitation amount in Zollikofen May 1, 2021 4h\n",
      "QUERY:  temperature in Zollikofen May 1, 2021 4h\n",
      "QUERY:  humidity in Zollikofen May 1, 2021 4h\n",
      "QUERY:  wind speed in Zollikofen May 1, 2021 4h\n",
      "QUERY:  Moon Phase calculatorMay 1, 2021 4h\n",
      "(5141, 7)\n"
     ]
    },
    {
     "data": {
      "text/html": [
       "<div>\n",
       "<style scoped>\n",
       "    .dataframe tbody tr th:only-of-type {\n",
       "        vertical-align: middle;\n",
       "    }\n",
       "\n",
       "    .dataframe tbody tr th {\n",
       "        vertical-align: top;\n",
       "    }\n",
       "\n",
       "    .dataframe thead th {\n",
       "        text-align: right;\n",
       "    }\n",
       "</style>\n",
       "<table border=\"1\" class=\"dataframe\">\n",
       "  <thead>\n",
       "    <tr style=\"text-align: right;\">\n",
       "      <th></th>\n",
       "      <th>date</th>\n",
       "      <th>temperature</th>\n",
       "      <th>humidity</th>\n",
       "      <th>wind speed</th>\n",
       "      <th>Precipitation amount</th>\n",
       "      <th>query</th>\n",
       "      <th>Moon Phase calculator</th>\n",
       "    </tr>\n",
       "  </thead>\n",
       "  <tbody>\n",
       "    <tr>\n",
       "      <th>8</th>\n",
       "      <td>2021-05-01 03:00:00</td>\n",
       "      <td>7 °C\\n(3:00 am CEST | Saturday, May 1, 2021)</td>\n",
       "      <td>average: 100% (100%)\\n(3:00 am CEST | Saturday...</td>\n",
       "      <td>2 m/s\\n(3:00 am CEST | Saturday, May 1, 2021)</td>\n",
       "      <td>no precipitation\\n(3:00 am CEST | Saturday, Ma...</td>\n",
       "      <td>Moon Phase calculatorMay 1, 2021 3h</td>\n",
       "      <td>| waning gibbous moon\\n79.20% illuminated</td>\n",
       "    </tr>\n",
       "    <tr>\n",
       "      <th>9</th>\n",
       "      <td>2021-05-01 04:00:00</td>\n",
       "      <td>7 °C\\n(4:00 am CEST | Saturday, May 1, 2021)</td>\n",
       "      <td>average: 100% (100%)\\n(4:00 am CEST | Saturday...</td>\n",
       "      <td>2 m/s\\n(4:00 am CEST | Saturday, May 1, 2021)</td>\n",
       "      <td>no precipitation\\n(4:00 am CEST | Saturday, Ma...</td>\n",
       "      <td>Moon Phase calculatorMay 1, 2021 4h</td>\n",
       "      <td>| waning gibbous moon\\n78.80% illuminated</td>\n",
       "    </tr>\n",
       "  </tbody>\n",
       "</table>\n",
       "</div>"
      ],
      "text/plain": [
       "                 date                                   temperature  \\\n",
       "8 2021-05-01 03:00:00  7 °C\\n(3:00 am CEST | Saturday, May 1, 2021)   \n",
       "9 2021-05-01 04:00:00  7 °C\\n(4:00 am CEST | Saturday, May 1, 2021)   \n",
       "\n",
       "                                            humidity  \\\n",
       "8  average: 100% (100%)\\n(3:00 am CEST | Saturday...   \n",
       "9  average: 100% (100%)\\n(4:00 am CEST | Saturday...   \n",
       "\n",
       "                                      wind speed  \\\n",
       "8  2 m/s\\n(3:00 am CEST | Saturday, May 1, 2021)   \n",
       "9  2 m/s\\n(4:00 am CEST | Saturday, May 1, 2021)   \n",
       "\n",
       "                                Precipitation amount  \\\n",
       "8  no precipitation\\n(3:00 am CEST | Saturday, Ma...   \n",
       "9  no precipitation\\n(4:00 am CEST | Saturday, Ma...   \n",
       "\n",
       "                                 query  \\\n",
       "8  Moon Phase calculatorMay 1, 2021 3h   \n",
       "9  Moon Phase calculatorMay 1, 2021 4h   \n",
       "\n",
       "                       Moon Phase calculator  \n",
       "8  | waning gibbous moon\\n79.20% illuminated  \n",
       "9  | waning gibbous moon\\n78.80% illuminated  "
      ]
     },
     "metadata": {},
     "output_type": "display_data"
    },
    {
     "name": "stderr",
     "output_type": "stream",
     "text": [
      "\r",
      "  6%|████▊                                                                       | 151/2379 [49:15<12:38:31, 20.43s/it]"
     ]
    },
    {
     "name": "stdout",
     "output_type": "stream",
     "text": [
      "QUERY:  Precipitation amount in Zollikofen May 1, 2021 5h\n",
      "QUERY:  temperature in Zollikofen May 1, 2021 5h\n",
      "QUERY:  humidity in Zollikofen May 1, 2021 5h\n",
      "QUERY:  wind speed in Zollikofen May 1, 2021 5h\n",
      "QUERY:  Moon Phase calculatorMay 1, 2021 5h\n"
     ]
    },
    {
     "name": "stderr",
     "output_type": "stream",
     "text": [
      "\r",
      "  6%|████▊                                                                       | 152/2379 [49:37<12:59:38, 21.01s/it]"
     ]
    },
    {
     "name": "stdout",
     "output_type": "stream",
     "text": [
      "QUERY:  Precipitation amount in Zollikofen May 1, 2021 6h\n",
      "QUERY:  temperature in Zollikofen May 1, 2021 6h\n",
      "QUERY:  humidity in Zollikofen May 1, 2021 6h\n",
      "QUERY:  wind speed in Zollikofen May 1, 2021 6h\n",
      "QUERY:  Moon Phase calculatorMay 1, 2021 6h\n"
     ]
    },
    {
     "name": "stderr",
     "output_type": "stream",
     "text": [
      "\r",
      "  6%|████▉                                                                       | 153/2379 [49:57<12:45:27, 20.63s/it]"
     ]
    },
    {
     "name": "stdout",
     "output_type": "stream",
     "text": [
      "QUERY:  Precipitation amount in Zollikofen May 1, 2021 7h\n",
      "QUERY:  temperature in Zollikofen May 1, 2021 7h\n",
      "QUERY:  humidity in Zollikofen May 1, 2021 7h\n",
      "QUERY:  wind speed in Zollikofen May 1, 2021 7h\n",
      "QUERY:  Moon Phase calculatorMay 1, 2021 7h\n"
     ]
    },
    {
     "name": "stderr",
     "output_type": "stream",
     "text": [
      "\r",
      "  6%|████▉                                                                       | 154/2379 [50:18<12:47:12, 20.69s/it]"
     ]
    },
    {
     "name": "stdout",
     "output_type": "stream",
     "text": [
      "QUERY:  Precipitation amount in Zollikofen May 1, 2021 8h\n",
      "QUERY:  temperature in Zollikofen May 1, 2021 8h\n",
      "QUERY:  humidity in Zollikofen May 1, 2021 8h\n",
      "QUERY:  wind speed in Zollikofen May 1, 2021 8h\n",
      "QUERY:  Moon Phase calculatorMay 1, 2021 8h\n"
     ]
    },
    {
     "name": "stderr",
     "output_type": "stream",
     "text": [
      "\r",
      "  7%|████▉                                                                       | 155/2379 [50:36<12:23:14, 20.05s/it]"
     ]
    },
    {
     "name": "stdout",
     "output_type": "stream",
     "text": [
      "QUERY:  Precipitation amount in Zollikofen May 1, 2021 9h\n",
      "QUERY:  temperature in Zollikofen May 1, 2021 9h\n",
      "QUERY:  humidity in Zollikofen May 1, 2021 9h\n",
      "QUERY:  wind speed in Zollikofen May 1, 2021 9h\n",
      "QUERY:  Moon Phase calculatorMay 1, 2021 9h\n"
     ]
    },
    {
     "name": "stderr",
     "output_type": "stream",
     "text": [
      "\r",
      "  7%|████▉                                                                       | 156/2379 [50:53<11:47:22, 19.09s/it]"
     ]
    },
    {
     "name": "stdout",
     "output_type": "stream",
     "text": [
      "QUERY:  Precipitation amount in Zollikofen May 1, 2021 10h\n",
      "QUERY:  temperature in Zollikofen May 1, 2021 10h\n",
      "QUERY:  humidity in Zollikofen May 1, 2021 10h\n",
      "QUERY:  wind speed in Zollikofen May 1, 2021 10h\n",
      "QUERY:  Moon Phase calculatorMay 1, 2021 10h\n"
     ]
    },
    {
     "name": "stderr",
     "output_type": "stream",
     "text": [
      "\r",
      "  7%|█████                                                                       | 157/2379 [51:10<11:29:09, 18.61s/it]"
     ]
    },
    {
     "name": "stdout",
     "output_type": "stream",
     "text": [
      "QUERY:  Precipitation amount in Zollikofen May 1, 2021 11h\n",
      "QUERY:  temperature in Zollikofen May 1, 2021 11h\n",
      "QUERY:  humidity in Zollikofen May 1, 2021 11h\n",
      "QUERY:  wind speed in Zollikofen May 1, 2021 11h\n",
      "QUERY:  Moon Phase calculatorMay 1, 2021 11h\n"
     ]
    },
    {
     "name": "stderr",
     "output_type": "stream",
     "text": [
      "\r",
      "  7%|█████                                                                       | 158/2379 [51:26<10:57:53, 17.77s/it]"
     ]
    },
    {
     "name": "stdout",
     "output_type": "stream",
     "text": [
      "QUERY:  Precipitation amount in Zollikofen May 1, 2021 12h\n",
      "QUERY:  temperature in Zollikofen May 1, 2021 12h\n",
      "QUERY:  humidity in Zollikofen May 1, 2021 12h\n",
      "QUERY:  wind speed in Zollikofen May 1, 2021 12h\n",
      "QUERY:  Moon Phase calculatorMay 1, 2021 12h\n"
     ]
    },
    {
     "name": "stderr",
     "output_type": "stream",
     "text": [
      "\r",
      "  7%|█████                                                                       | 159/2379 [51:43<10:43:24, 17.39s/it]"
     ]
    },
    {
     "name": "stdout",
     "output_type": "stream",
     "text": [
      "QUERY:  Precipitation amount in Zollikofen May 1, 2021 13h\n",
      "QUERY:  temperature in Zollikofen May 1, 2021 13h\n",
      "QUERY:  humidity in Zollikofen May 1, 2021 13h\n",
      "QUERY:  wind speed in Zollikofen May 1, 2021 13h\n",
      "QUERY:  Moon Phase calculatorMay 1, 2021 13h\n"
     ]
    },
    {
     "name": "stderr",
     "output_type": "stream",
     "text": [
      "\r",
      "  7%|█████                                                                       | 160/2379 [52:01<10:50:39, 17.59s/it]"
     ]
    },
    {
     "name": "stdout",
     "output_type": "stream",
     "text": [
      "QUERY:  Precipitation amount in Zollikofen May 1, 2021 14h\n",
      "QUERY:  temperature in Zollikofen May 1, 2021 14h\n",
      "QUERY:  humidity in Zollikofen May 1, 2021 14h\n",
      "QUERY:  wind speed in Zollikofen May 1, 2021 14h\n",
      "QUERY:  Moon Phase calculatorMay 1, 2021 14h\n",
      "(5151, 7)\n"
     ]
    },
    {
     "data": {
      "text/html": [
       "<div>\n",
       "<style scoped>\n",
       "    .dataframe tbody tr th:only-of-type {\n",
       "        vertical-align: middle;\n",
       "    }\n",
       "\n",
       "    .dataframe tbody tr th {\n",
       "        vertical-align: top;\n",
       "    }\n",
       "\n",
       "    .dataframe thead th {\n",
       "        text-align: right;\n",
       "    }\n",
       "</style>\n",
       "<table border=\"1\" class=\"dataframe\">\n",
       "  <thead>\n",
       "    <tr style=\"text-align: right;\">\n",
       "      <th></th>\n",
       "      <th>date</th>\n",
       "      <th>temperature</th>\n",
       "      <th>humidity</th>\n",
       "      <th>wind speed</th>\n",
       "      <th>Precipitation amount</th>\n",
       "      <th>query</th>\n",
       "      <th>Moon Phase calculator</th>\n",
       "    </tr>\n",
       "  </thead>\n",
       "  <tbody>\n",
       "    <tr>\n",
       "      <th>8</th>\n",
       "      <td>2021-05-01 13:00:00</td>\n",
       "      <td>9 °C\\n(1:00 pm CEST | Saturday, May 1, 2021)</td>\n",
       "      <td>average: 93% (93%)\\n(1:00 pm CEST | Saturday, ...</td>\n",
       "      <td>2 m/s\\n(1:00 pm CEST | Saturday, May 1, 2021)</td>\n",
       "      <td>rain\\n(1:00 pm CEST | Saturday, May 1, 2021)</td>\n",
       "      <td>Moon Phase calculatorMay 1, 2021 13h</td>\n",
       "      <td>| waning gibbous moon\\n75.15% illuminated</td>\n",
       "    </tr>\n",
       "    <tr>\n",
       "      <th>9</th>\n",
       "      <td>2021-05-01 14:00:00</td>\n",
       "      <td>9 °C\\n(2:00 pm CEST | Saturday, May 1, 2021)</td>\n",
       "      <td>average: 93% (93%)\\n(2:00 pm CEST | Saturday, ...</td>\n",
       "      <td>2 m/s\\n(2:00 pm CEST | Saturday, May 1, 2021)</td>\n",
       "      <td>rain\\n(2:00 pm CEST | Saturday, May 1, 2021)</td>\n",
       "      <td>Moon Phase calculatorMay 1, 2021 14h</td>\n",
       "      <td>| waning gibbous moon\\n74.73% illuminated</td>\n",
       "    </tr>\n",
       "  </tbody>\n",
       "</table>\n",
       "</div>"
      ],
      "text/plain": [
       "                 date                                   temperature  \\\n",
       "8 2021-05-01 13:00:00  9 °C\\n(1:00 pm CEST | Saturday, May 1, 2021)   \n",
       "9 2021-05-01 14:00:00  9 °C\\n(2:00 pm CEST | Saturday, May 1, 2021)   \n",
       "\n",
       "                                            humidity  \\\n",
       "8  average: 93% (93%)\\n(1:00 pm CEST | Saturday, ...   \n",
       "9  average: 93% (93%)\\n(2:00 pm CEST | Saturday, ...   \n",
       "\n",
       "                                      wind speed  \\\n",
       "8  2 m/s\\n(1:00 pm CEST | Saturday, May 1, 2021)   \n",
       "9  2 m/s\\n(2:00 pm CEST | Saturday, May 1, 2021)   \n",
       "\n",
       "                           Precipitation amount  \\\n",
       "8  rain\\n(1:00 pm CEST | Saturday, May 1, 2021)   \n",
       "9  rain\\n(2:00 pm CEST | Saturday, May 1, 2021)   \n",
       "\n",
       "                                  query  \\\n",
       "8  Moon Phase calculatorMay 1, 2021 13h   \n",
       "9  Moon Phase calculatorMay 1, 2021 14h   \n",
       "\n",
       "                       Moon Phase calculator  \n",
       "8  | waning gibbous moon\\n75.15% illuminated  \n",
       "9  | waning gibbous moon\\n74.73% illuminated  "
      ]
     },
     "metadata": {},
     "output_type": "display_data"
    },
    {
     "name": "stderr",
     "output_type": "stream",
     "text": [
      "\r",
      "  7%|█████▏                                                                      | 161/2379 [52:19<10:53:53, 17.69s/it]"
     ]
    },
    {
     "name": "stdout",
     "output_type": "stream",
     "text": [
      "QUERY:  Precipitation amount in Zollikofen May 1, 2021 15h\n",
      "QUERY:  temperature in Zollikofen May 1, 2021 15h\n",
      "QUERY:  humidity in Zollikofen May 1, 2021 15h\n",
      "QUERY:  wind speed in Zollikofen May 1, 2021 15h\n",
      "QUERY:  Moon Phase calculatorMay 1, 2021 15h\n"
     ]
    },
    {
     "name": "stderr",
     "output_type": "stream",
     "text": [
      "\r",
      "  7%|█████▏                                                                      | 162/2379 [52:35<10:39:49, 17.32s/it]"
     ]
    },
    {
     "name": "stdout",
     "output_type": "stream",
     "text": [
      "QUERY:  Precipitation amount in Zollikofen May 1, 2021 16h\n",
      "QUERY:  temperature in Zollikofen May 1, 2021 16h\n",
      "QUERY:  humidity in Zollikofen May 1, 2021 16h\n",
      "QUERY:  wind speed in Zollikofen May 1, 2021 16h\n",
      "QUERY:  Moon Phase calculatorMay 1, 2021 16h\n"
     ]
    },
    {
     "name": "stderr",
     "output_type": "stream",
     "text": [
      "\r",
      "  7%|█████▏                                                                      | 163/2379 [52:52<10:32:59, 17.14s/it]"
     ]
    },
    {
     "name": "stdout",
     "output_type": "stream",
     "text": [
      "QUERY:  Precipitation amount in Zollikofen May 1, 2021 17h\n",
      "QUERY:  temperature in Zollikofen May 1, 2021 17h\n",
      "QUERY:  humidity in Zollikofen May 1, 2021 17h\n",
      "QUERY:  wind speed in Zollikofen May 1, 2021 17h\n",
      "QUERY:  Moon Phase calculatorMay 1, 2021 17h\n"
     ]
    },
    {
     "name": "stderr",
     "output_type": "stream",
     "text": [
      "\r",
      "  7%|█████▏                                                                      | 164/2379 [53:08<10:19:24, 16.78s/it]"
     ]
    },
    {
     "name": "stdout",
     "output_type": "stream",
     "text": [
      "QUERY:  Precipitation amount in Zollikofen May 1, 2021 18h\n",
      "QUERY:  temperature in Zollikofen May 1, 2021 18h\n",
      "QUERY:  humidity in Zollikofen May 1, 2021 18h\n",
      "QUERY:  wind speed in Zollikofen May 1, 2021 18h\n",
      "QUERY:  Moon Phase calculatorMay 1, 2021 18h\n"
     ]
    },
    {
     "name": "stderr",
     "output_type": "stream",
     "text": [
      "\r",
      "  7%|█████▎                                                                      | 165/2379 [53:24<10:10:20, 16.54s/it]"
     ]
    },
    {
     "name": "stdout",
     "output_type": "stream",
     "text": [
      "QUERY:  Precipitation amount in Zollikofen May 1, 2021 19h\n",
      "QUERY:  temperature in Zollikofen May 1, 2021 19h\n",
      "QUERY:  humidity in Zollikofen May 1, 2021 19h\n",
      "QUERY:  wind speed in Zollikofen May 1, 2021 19h\n",
      "QUERY:  Moon Phase calculatorMay 1, 2021 19h\n"
     ]
    },
    {
     "name": "stderr",
     "output_type": "stream",
     "text": [
      "\r",
      "  7%|█████▎                                                                      | 166/2379 [53:40<10:06:03, 16.43s/it]"
     ]
    },
    {
     "name": "stdout",
     "output_type": "stream",
     "text": [
      "QUERY:  Precipitation amount in Zollikofen May 1, 2021 20h\n",
      "QUERY:  temperature in Zollikofen May 1, 2021 20h\n",
      "QUERY:  humidity in Zollikofen May 1, 2021 20h\n",
      "QUERY:  wind speed in Zollikofen May 1, 2021 20h\n",
      "QUERY:  Moon Phase calculatorMay 1, 2021 20h\n"
     ]
    },
    {
     "name": "stderr",
     "output_type": "stream",
     "text": [
      "\r",
      "  7%|█████▎                                                                      | 167/2379 [53:59<10:37:40, 17.30s/it]"
     ]
    },
    {
     "name": "stdout",
     "output_type": "stream",
     "text": [
      "QUERY:  Precipitation amount in Zollikofen May 1, 2021 21h\n",
      "QUERY:  temperature in Zollikofen May 1, 2021 21h\n",
      "QUERY:  humidity in Zollikofen May 1, 2021 21h\n",
      "QUERY:  wind speed in Zollikofen May 1, 2021 21h\n",
      "QUERY:  Moon Phase calculatorMay 1, 2021 21h\n"
     ]
    },
    {
     "name": "stderr",
     "output_type": "stream",
     "text": [
      "\r",
      "  7%|█████▎                                                                      | 168/2379 [54:15<10:23:49, 16.93s/it]"
     ]
    },
    {
     "name": "stdout",
     "output_type": "stream",
     "text": [
      "QUERY:  Precipitation amount in Zollikofen May 1, 2021 22h\n",
      "QUERY:  temperature in Zollikofen May 1, 2021 22h\n",
      "QUERY:  humidity in Zollikofen May 1, 2021 22h\n",
      "QUERY:  wind speed in Zollikofen May 1, 2021 22h\n",
      "QUERY:  Moon Phase calculatorMay 1, 2021 22h\n"
     ]
    },
    {
     "name": "stderr",
     "output_type": "stream",
     "text": [
      "\r",
      "  7%|█████▍                                                                      | 169/2379 [54:31<10:09:38, 16.55s/it]"
     ]
    },
    {
     "name": "stdout",
     "output_type": "stream",
     "text": [
      "QUERY:  Precipitation amount in Zollikofen May 1, 2021 23h\n",
      "QUERY:  temperature in Zollikofen May 1, 2021 23h\n",
      "QUERY:  humidity in Zollikofen May 1, 2021 23h\n",
      "QUERY:  wind speed in Zollikofen May 1, 2021 23h\n",
      "QUERY:  Moon Phase calculatorMay 1, 2021 23h\n"
     ]
    },
    {
     "name": "stderr",
     "output_type": "stream",
     "text": [
      "\r",
      "  7%|█████▍                                                                      | 170/2379 [54:48<10:09:33, 16.56s/it]"
     ]
    },
    {
     "name": "stdout",
     "output_type": "stream",
     "text": [
      "QUERY:  Precipitation amount in Zollikofen May 2, 2021 0h\n",
      "QUERY:  temperature in Zollikofen May 2, 2021 0h\n",
      "QUERY:  humidity in Zollikofen May 2, 2021 0h\n",
      "QUERY:  wind speed in Zollikofen May 2, 2021 0h\n",
      "QUERY:  Moon Phase calculatorMay 2, 2021 0h\n",
      "(5161, 7)\n"
     ]
    },
    {
     "data": {
      "text/html": [
       "<div>\n",
       "<style scoped>\n",
       "    .dataframe tbody tr th:only-of-type {\n",
       "        vertical-align: middle;\n",
       "    }\n",
       "\n",
       "    .dataframe tbody tr th {\n",
       "        vertical-align: top;\n",
       "    }\n",
       "\n",
       "    .dataframe thead th {\n",
       "        text-align: right;\n",
       "    }\n",
       "</style>\n",
       "<table border=\"1\" class=\"dataframe\">\n",
       "  <thead>\n",
       "    <tr style=\"text-align: right;\">\n",
       "      <th></th>\n",
       "      <th>date</th>\n",
       "      <th>temperature</th>\n",
       "      <th>humidity</th>\n",
       "      <th>wind speed</th>\n",
       "      <th>Precipitation amount</th>\n",
       "      <th>query</th>\n",
       "      <th>Moon Phase calculator</th>\n",
       "    </tr>\n",
       "  </thead>\n",
       "  <tbody>\n",
       "    <tr>\n",
       "      <th>8</th>\n",
       "      <td>2021-05-01 23:00:00</td>\n",
       "      <td>5 °C\\n(11:00 pm CEST | Saturday, May 1, 2021)</td>\n",
       "      <td>average: 100% (100%)\\n(11:00 pm CEST | Saturda...</td>\n",
       "      <td>1 m/s\\n(11:00 pm CEST | Saturday, May 1, 2021)</td>\n",
       "      <td>rain\\n(11:00 pm CEST | Saturday, May 1, 2021)</td>\n",
       "      <td>Moon Phase calculatorMay 1, 2021 23h</td>\n",
       "      <td>| waning gibbous moon\\n70.92% illuminated</td>\n",
       "    </tr>\n",
       "    <tr>\n",
       "      <th>9</th>\n",
       "      <td>2021-05-02 00:00:00</td>\n",
       "      <td>5 °C\\n(12:00 am CEST | Sunday, May 2, 2021)</td>\n",
       "      <td>average: 100% (100%)\\n(12:00 am CEST | Sunday,...</td>\n",
       "      <td>1 m/s\\n(12:00 am CEST | Sunday, May 2, 2021)</td>\n",
       "      <td>rain\\n(12:00 am CEST | Sunday, May 2, 2021)</td>\n",
       "      <td>Moon Phase calculatorMay 2, 2021 0h</td>\n",
       "      <td>| waning gibbous moon\\n70.49% illuminated</td>\n",
       "    </tr>\n",
       "  </tbody>\n",
       "</table>\n",
       "</div>"
      ],
      "text/plain": [
       "                 date                                    temperature  \\\n",
       "8 2021-05-01 23:00:00  5 °C\\n(11:00 pm CEST | Saturday, May 1, 2021)   \n",
       "9 2021-05-02 00:00:00    5 °C\\n(12:00 am CEST | Sunday, May 2, 2021)   \n",
       "\n",
       "                                            humidity  \\\n",
       "8  average: 100% (100%)\\n(11:00 pm CEST | Saturda...   \n",
       "9  average: 100% (100%)\\n(12:00 am CEST | Sunday,...   \n",
       "\n",
       "                                       wind speed  \\\n",
       "8  1 m/s\\n(11:00 pm CEST | Saturday, May 1, 2021)   \n",
       "9    1 m/s\\n(12:00 am CEST | Sunday, May 2, 2021)   \n",
       "\n",
       "                            Precipitation amount  \\\n",
       "8  rain\\n(11:00 pm CEST | Saturday, May 1, 2021)   \n",
       "9    rain\\n(12:00 am CEST | Sunday, May 2, 2021)   \n",
       "\n",
       "                                  query  \\\n",
       "8  Moon Phase calculatorMay 1, 2021 23h   \n",
       "9   Moon Phase calculatorMay 2, 2021 0h   \n",
       "\n",
       "                       Moon Phase calculator  \n",
       "8  | waning gibbous moon\\n70.92% illuminated  \n",
       "9  | waning gibbous moon\\n70.49% illuminated  "
      ]
     },
     "metadata": {},
     "output_type": "display_data"
    },
    {
     "name": "stderr",
     "output_type": "stream",
     "text": [
      "\r",
      "  7%|█████▍                                                                      | 171/2379 [55:06<10:34:31, 17.24s/it]"
     ]
    },
    {
     "name": "stdout",
     "output_type": "stream",
     "text": [
      "QUERY:  Precipitation amount in Zollikofen May 2, 2021 1h\n",
      "QUERY:  temperature in Zollikofen May 2, 2021 1h\n",
      "QUERY:  humidity in Zollikofen May 2, 2021 1h\n",
      "QUERY:  wind speed in Zollikofen May 2, 2021 1h\n",
      "QUERY:  Moon Phase calculatorMay 2, 2021 1h\n"
     ]
    },
    {
     "name": "stderr",
     "output_type": "stream",
     "text": [
      "\r",
      "  7%|█████▍                                                                      | 172/2379 [55:23<10:25:51, 17.01s/it]"
     ]
    },
    {
     "name": "stdout",
     "output_type": "stream",
     "text": [
      "QUERY:  Precipitation amount in Zollikofen May 2, 2021 2h\n",
      "QUERY:  temperature in Zollikofen May 2, 2021 2h\n",
      "QUERY:  humidity in Zollikofen May 2, 2021 2h\n",
      "QUERY:  wind speed in Zollikofen May 2, 2021 2h\n",
      "QUERY:  Moon Phase calculatorMay 2, 2021 2h\n"
     ]
    },
    {
     "name": "stderr",
     "output_type": "stream",
     "text": [
      "\r",
      "  7%|█████▌                                                                      | 173/2379 [55:42<10:51:17, 17.71s/it]"
     ]
    },
    {
     "name": "stdout",
     "output_type": "stream",
     "text": [
      "QUERY:  Precipitation amount in Zollikofen May 2, 2021 3h\n",
      "QUERY:  temperature in Zollikofen May 2, 2021 3h\n",
      "QUERY:  humidity in Zollikofen May 2, 2021 3h\n",
      "QUERY:  wind speed in Zollikofen May 2, 2021 3h\n",
      "QUERY:  Moon Phase calculatorMay 2, 2021 3h\n"
     ]
    },
    {
     "name": "stderr",
     "output_type": "stream",
     "text": [
      "\r",
      "  7%|█████▌                                                                      | 174/2379 [56:03<11:19:09, 18.48s/it]"
     ]
    },
    {
     "name": "stdout",
     "output_type": "stream",
     "text": [
      "QUERY:  Precipitation amount in Zollikofen May 2, 2021 4h\n",
      "QUERY:  temperature in Zollikofen May 2, 2021 4h\n",
      "QUERY:  humidity in Zollikofen May 2, 2021 4h\n",
      "QUERY:  wind speed in Zollikofen May 2, 2021 4h\n",
      "QUERY:  Moon Phase calculatorMay 2, 2021 4h\n"
     ]
    },
    {
     "name": "stderr",
     "output_type": "stream",
     "text": [
      "\r",
      "  7%|█████▌                                                                      | 175/2379 [56:22<11:31:06, 18.81s/it]"
     ]
    },
    {
     "name": "stdout",
     "output_type": "stream",
     "text": [
      "QUERY:  Precipitation amount in Zollikofen May 2, 2021 5h\n",
      "QUERY:  temperature in Zollikofen May 2, 2021 5h\n",
      "QUERY:  humidity in Zollikofen May 2, 2021 5h\n",
      "QUERY:  wind speed in Zollikofen May 2, 2021 5h\n",
      "QUERY:  Moon Phase calculatorMay 2, 2021 5h\n"
     ]
    },
    {
     "name": "stderr",
     "output_type": "stream",
     "text": [
      "\r",
      "  7%|█████▌                                                                      | 176/2379 [56:41<11:34:28, 18.91s/it]"
     ]
    },
    {
     "name": "stdout",
     "output_type": "stream",
     "text": [
      "QUERY:  Precipitation amount in Zollikofen May 2, 2021 6h\n",
      "QUERY:  temperature in Zollikofen May 2, 2021 6h\n",
      "QUERY:  humidity in Zollikofen May 2, 2021 6h\n",
      "QUERY:  wind speed in Zollikofen May 2, 2021 6h\n",
      "QUERY:  Moon Phase calculatorMay 2, 2021 6h\n"
     ]
    },
    {
     "name": "stderr",
     "output_type": "stream",
     "text": [
      "\r",
      "  7%|█████▋                                                                      | 177/2379 [57:02<11:52:37, 19.42s/it]"
     ]
    },
    {
     "name": "stdout",
     "output_type": "stream",
     "text": [
      "QUERY:  Precipitation amount in Zollikofen May 2, 2021 7h\n",
      "QUERY:  temperature in Zollikofen May 2, 2021 7h\n",
      "QUERY:  humidity in Zollikofen May 2, 2021 7h\n",
      "QUERY:  wind speed in Zollikofen May 2, 2021 7h\n",
      "QUERY:  Moon Phase calculatorMay 2, 2021 7h\n"
     ]
    },
    {
     "name": "stderr",
     "output_type": "stream",
     "text": [
      "\r",
      "  7%|█████▋                                                                      | 178/2379 [57:21<11:52:15, 19.42s/it]"
     ]
    },
    {
     "name": "stdout",
     "output_type": "stream",
     "text": [
      "QUERY:  Precipitation amount in Zollikofen May 2, 2021 8h\n",
      "QUERY:  temperature in Zollikofen May 2, 2021 8h\n",
      "QUERY:  humidity in Zollikofen May 2, 2021 8h\n",
      "QUERY:  wind speed in Zollikofen May 2, 2021 8h\n",
      "QUERY:  Moon Phase calculatorMay 2, 2021 8h\n"
     ]
    },
    {
     "name": "stderr",
     "output_type": "stream",
     "text": [
      "\r",
      "  8%|█████▋                                                                      | 179/2379 [57:40<11:48:21, 19.32s/it]"
     ]
    },
    {
     "name": "stdout",
     "output_type": "stream",
     "text": [
      "QUERY:  Precipitation amount in Zollikofen May 2, 2021 9h\n",
      "QUERY:  temperature in Zollikofen May 2, 2021 9h\n",
      "QUERY:  humidity in Zollikofen May 2, 2021 9h\n",
      "QUERY:  wind speed in Zollikofen May 2, 2021 9h\n",
      "QUERY:  Moon Phase calculatorMay 2, 2021 9h\n"
     ]
    },
    {
     "name": "stderr",
     "output_type": "stream",
     "text": [
      "\r",
      "  8%|█████▊                                                                      | 180/2379 [58:01<12:06:28, 19.82s/it]"
     ]
    },
    {
     "name": "stdout",
     "output_type": "stream",
     "text": [
      "QUERY:  Precipitation amount in Zollikofen May 2, 2021 10h\n",
      "QUERY:  temperature in Zollikofen May 2, 2021 10h\n",
      "QUERY:  humidity in Zollikofen May 2, 2021 10h\n",
      "QUERY:  wind speed in Zollikofen May 2, 2021 10h\n",
      "QUERY:  Moon Phase calculatorMay 2, 2021 10h\n",
      "(5171, 7)\n"
     ]
    },
    {
     "data": {
      "text/html": [
       "<div>\n",
       "<style scoped>\n",
       "    .dataframe tbody tr th:only-of-type {\n",
       "        vertical-align: middle;\n",
       "    }\n",
       "\n",
       "    .dataframe tbody tr th {\n",
       "        vertical-align: top;\n",
       "    }\n",
       "\n",
       "    .dataframe thead th {\n",
       "        text-align: right;\n",
       "    }\n",
       "</style>\n",
       "<table border=\"1\" class=\"dataframe\">\n",
       "  <thead>\n",
       "    <tr style=\"text-align: right;\">\n",
       "      <th></th>\n",
       "      <th>date</th>\n",
       "      <th>temperature</th>\n",
       "      <th>humidity</th>\n",
       "      <th>wind speed</th>\n",
       "      <th>Precipitation amount</th>\n",
       "      <th>query</th>\n",
       "      <th>Moon Phase calculator</th>\n",
       "    </tr>\n",
       "  </thead>\n",
       "  <tbody>\n",
       "    <tr>\n",
       "      <th>8</th>\n",
       "      <td>2021-05-02 09:00:00</td>\n",
       "      <td>6 °C\\n(9:00 am CEST | Sunday, May 2, 2021)</td>\n",
       "      <td>average: 93% (93%)\\n(9:00 am CEST | Sunday, Ma...</td>\n",
       "      <td>3 m/s\\n(9:00 am CEST | Sunday, May 2, 2021)</td>\n",
       "      <td>rain\\n(9:00 am CEST | Sunday, May 2, 2021)</td>\n",
       "      <td>Moon Phase calculatorMay 2, 2021 9h</td>\n",
       "      <td>| waning gibbous moon\\n66.57% illuminated</td>\n",
       "    </tr>\n",
       "    <tr>\n",
       "      <th>9</th>\n",
       "      <td>2021-05-02 10:00:00</td>\n",
       "      <td>6 °C\\n(10:00 am CEST | Sunday, May 2, 2021)</td>\n",
       "      <td>average: 97% (93 to 100%)\\n(10:00 am CEST | Su...</td>\n",
       "      <td>3 m/s\\n(10:00 am CEST | Sunday, May 2, 2021)</td>\n",
       "      <td>no precipitation\\n(10:00 am CEST | Sunday, May...</td>\n",
       "      <td>Moon Phase calculatorMay 2, 2021 10h</td>\n",
       "      <td>| waning gibbous moon\\n66.13% illuminated</td>\n",
       "    </tr>\n",
       "  </tbody>\n",
       "</table>\n",
       "</div>"
      ],
      "text/plain": [
       "                 date                                  temperature  \\\n",
       "8 2021-05-02 09:00:00   6 °C\\n(9:00 am CEST | Sunday, May 2, 2021)   \n",
       "9 2021-05-02 10:00:00  6 °C\\n(10:00 am CEST | Sunday, May 2, 2021)   \n",
       "\n",
       "                                            humidity  \\\n",
       "8  average: 93% (93%)\\n(9:00 am CEST | Sunday, Ma...   \n",
       "9  average: 97% (93 to 100%)\\n(10:00 am CEST | Su...   \n",
       "\n",
       "                                     wind speed  \\\n",
       "8   3 m/s\\n(9:00 am CEST | Sunday, May 2, 2021)   \n",
       "9  3 m/s\\n(10:00 am CEST | Sunday, May 2, 2021)   \n",
       "\n",
       "                                Precipitation amount  \\\n",
       "8         rain\\n(9:00 am CEST | Sunday, May 2, 2021)   \n",
       "9  no precipitation\\n(10:00 am CEST | Sunday, May...   \n",
       "\n",
       "                                  query  \\\n",
       "8   Moon Phase calculatorMay 2, 2021 9h   \n",
       "9  Moon Phase calculatorMay 2, 2021 10h   \n",
       "\n",
       "                       Moon Phase calculator  \n",
       "8  | waning gibbous moon\\n66.57% illuminated  \n",
       "9  | waning gibbous moon\\n66.13% illuminated  "
      ]
     },
     "metadata": {},
     "output_type": "display_data"
    },
    {
     "name": "stderr",
     "output_type": "stream",
     "text": [
      "\r",
      "  8%|█████▊                                                                      | 181/2379 [58:21<12:05:54, 19.82s/it]"
     ]
    },
    {
     "name": "stdout",
     "output_type": "stream",
     "text": [
      "QUERY:  Precipitation amount in Zollikofen May 2, 2021 11h\n",
      "QUERY:  temperature in Zollikofen May 2, 2021 11h\n",
      "QUERY:  humidity in Zollikofen May 2, 2021 11h\n",
      "QUERY:  wind speed in Zollikofen May 2, 2021 11h\n",
      "QUERY:  Moon Phase calculatorMay 2, 2021 11h\n"
     ]
    },
    {
     "name": "stderr",
     "output_type": "stream",
     "text": [
      "\r",
      "  8%|█████▊                                                                      | 182/2379 [58:42<12:14:32, 20.06s/it]"
     ]
    },
    {
     "name": "stdout",
     "output_type": "stream",
     "text": [
      "QUERY:  Precipitation amount in Zollikofen May 2, 2021 12h\n",
      "QUERY:  temperature in Zollikofen May 2, 2021 12h\n",
      "QUERY:  humidity in Zollikofen May 2, 2021 12h\n",
      "QUERY:  wind speed in Zollikofen May 2, 2021 12h\n",
      "QUERY:  Moon Phase calculatorMay 2, 2021 12h\n"
     ]
    },
    {
     "name": "stderr",
     "output_type": "stream",
     "text": [
      "\r",
      "  8%|█████▊                                                                      | 183/2379 [59:02<12:10:03, 19.95s/it]"
     ]
    },
    {
     "name": "stdout",
     "output_type": "stream",
     "text": [
      "QUERY:  Precipitation amount in Zollikofen May 2, 2021 13h\n",
      "QUERY:  temperature in Zollikofen May 2, 2021 13h\n",
      "QUERY:  humidity in Zollikofen May 2, 2021 13h\n",
      "QUERY:  wind speed in Zollikofen May 2, 2021 13h\n",
      "QUERY:  Moon Phase calculatorMay 2, 2021 13h\n"
     ]
    },
    {
     "name": "stderr",
     "output_type": "stream",
     "text": [
      "\r",
      "  8%|█████▉                                                                      | 184/2379 [59:22<12:09:59, 19.95s/it]"
     ]
    },
    {
     "name": "stdout",
     "output_type": "stream",
     "text": [
      "QUERY:  Precipitation amount in Zollikofen May 2, 2021 14h\n",
      "QUERY:  temperature in Zollikofen May 2, 2021 14h\n",
      "QUERY:  humidity in Zollikofen May 2, 2021 14h\n",
      "QUERY:  wind speed in Zollikofen May 2, 2021 14h\n",
      "QUERY:  Moon Phase calculatorMay 2, 2021 14h\n"
     ]
    },
    {
     "name": "stderr",
     "output_type": "stream",
     "text": [
      "\r",
      "  8%|█████▉                                                                      | 185/2379 [59:42<12:13:21, 20.06s/it]"
     ]
    },
    {
     "name": "stdout",
     "output_type": "stream",
     "text": [
      "QUERY:  Precipitation amount in Zollikofen May 2, 2021 15h\n",
      "QUERY:  temperature in Zollikofen May 2, 2021 15h\n",
      "QUERY:  humidity in Zollikofen May 2, 2021 15h\n",
      "QUERY:  wind speed in Zollikofen May 2, 2021 15h\n",
      "QUERY:  Moon Phase calculatorMay 2, 2021 15h\n"
     ]
    },
    {
     "name": "stderr",
     "output_type": "stream",
     "text": [
      "\r",
      "  8%|█████▊                                                                    | 186/2379 [1:00:02<12:09:44, 19.97s/it]"
     ]
    },
    {
     "name": "stdout",
     "output_type": "stream",
     "text": [
      "QUERY:  Precipitation amount in Zollikofen May 2, 2021 16h\n",
      "QUERY:  temperature in Zollikofen May 2, 2021 16h\n",
      "QUERY:  humidity in Zollikofen May 2, 2021 16h\n",
      "QUERY:  wind speed in Zollikofen May 2, 2021 16h\n",
      "QUERY:  Moon Phase calculatorMay 2, 2021 16h\n"
     ]
    },
    {
     "name": "stderr",
     "output_type": "stream",
     "text": [
      "\r",
      "  8%|█████▊                                                                    | 187/2379 [1:00:21<12:04:56, 19.84s/it]"
     ]
    },
    {
     "name": "stdout",
     "output_type": "stream",
     "text": [
      "QUERY:  Precipitation amount in Zollikofen May 2, 2021 17h\n",
      "QUERY:  temperature in Zollikofen May 2, 2021 17h\n",
      "QUERY:  humidity in Zollikofen May 2, 2021 17h\n",
      "QUERY:  wind speed in Zollikofen May 2, 2021 17h\n",
      "QUERY:  Moon Phase calculatorMay 2, 2021 17h\n"
     ]
    },
    {
     "name": "stderr",
     "output_type": "stream",
     "text": [
      "\r",
      "  8%|█████▊                                                                    | 188/2379 [1:00:39<11:42:50, 19.25s/it]"
     ]
    },
    {
     "name": "stdout",
     "output_type": "stream",
     "text": [
      "QUERY:  Precipitation amount in Zollikofen May 2, 2021 18h\n",
      "QUERY:  temperature in Zollikofen May 2, 2021 18h\n",
      "QUERY:  humidity in Zollikofen May 2, 2021 18h\n",
      "QUERY:  wind speed in Zollikofen May 2, 2021 18h\n",
      "QUERY:  Moon Phase calculatorMay 2, 2021 18h\n"
     ]
    },
    {
     "name": "stderr",
     "output_type": "stream",
     "text": [
      "\r",
      "  8%|█████▉                                                                    | 189/2379 [1:01:00<12:01:02, 19.75s/it]"
     ]
    },
    {
     "name": "stdout",
     "output_type": "stream",
     "text": [
      "QUERY:  Precipitation amount in Zollikofen May 2, 2021 19h\n",
      "QUERY:  temperature in Zollikofen May 2, 2021 19h\n",
      "QUERY:  humidity in Zollikofen May 2, 2021 19h\n",
      "QUERY:  wind speed in Zollikofen May 2, 2021 19h\n",
      "QUERY:  Moon Phase calculatorMay 2, 2021 19h\n"
     ]
    },
    {
     "name": "stderr",
     "output_type": "stream",
     "text": [
      "\r",
      "  8%|█████▉                                                                    | 190/2379 [1:01:20<11:59:12, 19.71s/it]"
     ]
    },
    {
     "name": "stdout",
     "output_type": "stream",
     "text": [
      "QUERY:  Precipitation amount in Zollikofen May 2, 2021 20h\n",
      "QUERY:  temperature in Zollikofen May 2, 2021 20h\n",
      "QUERY:  humidity in Zollikofen May 2, 2021 20h\n",
      "QUERY:  wind speed in Zollikofen May 2, 2021 20h\n",
      "QUERY:  Moon Phase calculatorMay 2, 2021 20h\n",
      "(5181, 7)\n"
     ]
    },
    {
     "data": {
      "text/html": [
       "<div>\n",
       "<style scoped>\n",
       "    .dataframe tbody tr th:only-of-type {\n",
       "        vertical-align: middle;\n",
       "    }\n",
       "\n",
       "    .dataframe tbody tr th {\n",
       "        vertical-align: top;\n",
       "    }\n",
       "\n",
       "    .dataframe thead th {\n",
       "        text-align: right;\n",
       "    }\n",
       "</style>\n",
       "<table border=\"1\" class=\"dataframe\">\n",
       "  <thead>\n",
       "    <tr style=\"text-align: right;\">\n",
       "      <th></th>\n",
       "      <th>date</th>\n",
       "      <th>temperature</th>\n",
       "      <th>humidity</th>\n",
       "      <th>wind speed</th>\n",
       "      <th>Precipitation amount</th>\n",
       "      <th>query</th>\n",
       "      <th>Moon Phase calculator</th>\n",
       "    </tr>\n",
       "  </thead>\n",
       "  <tbody>\n",
       "    <tr>\n",
       "      <th>8</th>\n",
       "      <td>2021-05-02 19:00:00</td>\n",
       "      <td>6 °C\\n(7:00 pm CEST | Sunday, May 2, 2021)</td>\n",
       "      <td>average: 93% (93%)\\n(7:00 pm CEST | Sunday, Ma...</td>\n",
       "      <td>3 m/s\\n(7:00 pm CEST | Sunday, May 2, 2021)</td>\n",
       "      <td>rain\\n(7:00 pm CEST | Sunday, May 2, 2021)</td>\n",
       "      <td>Moon Phase calculatorMay 2, 2021 19h</td>\n",
       "      <td>| waning gibbous moon\\n62.13% illuminated</td>\n",
       "    </tr>\n",
       "    <tr>\n",
       "      <th>9</th>\n",
       "      <td>2021-05-02 20:00:00</td>\n",
       "      <td>6 °C\\n(8:00 pm CEST | Sunday, May 2, 2021)</td>\n",
       "      <td>average: 87% (87%)\\n(8:00 pm CEST | Sunday, Ma...</td>\n",
       "      <td>2 m/s\\n(8:00 pm CEST | Sunday, May 2, 2021)</td>\n",
       "      <td>rain\\n(8:00 pm CEST | Sunday, May 2, 2021)</td>\n",
       "      <td>Moon Phase calculatorMay 2, 2021 20h</td>\n",
       "      <td>| waning gibbous moon\\n61.68% illuminated</td>\n",
       "    </tr>\n",
       "  </tbody>\n",
       "</table>\n",
       "</div>"
      ],
      "text/plain": [
       "                 date                                 temperature  \\\n",
       "8 2021-05-02 19:00:00  6 °C\\n(7:00 pm CEST | Sunday, May 2, 2021)   \n",
       "9 2021-05-02 20:00:00  6 °C\\n(8:00 pm CEST | Sunday, May 2, 2021)   \n",
       "\n",
       "                                            humidity  \\\n",
       "8  average: 93% (93%)\\n(7:00 pm CEST | Sunday, Ma...   \n",
       "9  average: 87% (87%)\\n(8:00 pm CEST | Sunday, Ma...   \n",
       "\n",
       "                                    wind speed  \\\n",
       "8  3 m/s\\n(7:00 pm CEST | Sunday, May 2, 2021)   \n",
       "9  2 m/s\\n(8:00 pm CEST | Sunday, May 2, 2021)   \n",
       "\n",
       "                         Precipitation amount  \\\n",
       "8  rain\\n(7:00 pm CEST | Sunday, May 2, 2021)   \n",
       "9  rain\\n(8:00 pm CEST | Sunday, May 2, 2021)   \n",
       "\n",
       "                                  query  \\\n",
       "8  Moon Phase calculatorMay 2, 2021 19h   \n",
       "9  Moon Phase calculatorMay 2, 2021 20h   \n",
       "\n",
       "                       Moon Phase calculator  \n",
       "8  | waning gibbous moon\\n62.13% illuminated  \n",
       "9  | waning gibbous moon\\n61.68% illuminated  "
      ]
     },
     "metadata": {},
     "output_type": "display_data"
    },
    {
     "name": "stderr",
     "output_type": "stream",
     "text": [
      "\r",
      "  8%|█████▉                                                                    | 191/2379 [1:01:39<11:57:47, 19.68s/it]"
     ]
    },
    {
     "name": "stdout",
     "output_type": "stream",
     "text": [
      "QUERY:  Precipitation amount in Zollikofen May 2, 2021 21h\n",
      "QUERY:  temperature in Zollikofen May 2, 2021 21h\n",
      "QUERY:  humidity in Zollikofen May 2, 2021 21h\n",
      "QUERY:  wind speed in Zollikofen May 2, 2021 21h\n",
      "QUERY:  Moon Phase calculatorMay 2, 2021 21h\n"
     ]
    },
    {
     "name": "stderr",
     "output_type": "stream",
     "text": [
      "\r",
      "  8%|█████▉                                                                    | 192/2379 [1:01:59<12:04:04, 19.86s/it]"
     ]
    },
    {
     "name": "stdout",
     "output_type": "stream",
     "text": [
      "QUERY:  Precipitation amount in Zollikofen May 2, 2021 22h\n",
      "QUERY:  temperature in Zollikofen May 2, 2021 22h\n",
      "QUERY:  humidity in Zollikofen May 2, 2021 22h\n",
      "QUERY:  wind speed in Zollikofen May 2, 2021 22h\n",
      "QUERY:  Moon Phase calculatorMay 2, 2021 22h\n"
     ]
    },
    {
     "name": "stderr",
     "output_type": "stream",
     "text": [
      "\r",
      "  8%|██████                                                                    | 193/2379 [1:02:19<11:58:35, 19.72s/it]"
     ]
    },
    {
     "name": "stdout",
     "output_type": "stream",
     "text": [
      "QUERY:  Precipitation amount in Zollikofen May 2, 2021 23h\n",
      "QUERY:  temperature in Zollikofen May 2, 2021 23h\n",
      "QUERY:  humidity in Zollikofen May 2, 2021 23h\n",
      "QUERY:  wind speed in Zollikofen May 2, 2021 23h\n",
      "QUERY:  Moon Phase calculatorMay 2, 2021 23h\n"
     ]
    },
    {
     "name": "stderr",
     "output_type": "stream",
     "text": [
      "\r",
      "  8%|██████                                                                    | 194/2379 [1:02:38<11:51:52, 19.55s/it]"
     ]
    },
    {
     "name": "stdout",
     "output_type": "stream",
     "text": [
      "QUERY:  Precipitation amount in Zollikofen May 3, 2021 0h\n",
      "QUERY:  temperature in Zollikofen May 3, 2021 0h\n",
      "QUERY:  humidity in Zollikofen May 3, 2021 0h\n",
      "QUERY:  wind speed in Zollikofen May 3, 2021 0h\n",
      "QUERY:  Moon Phase calculatorMay 3, 2021 0h\n"
     ]
    },
    {
     "name": "stderr",
     "output_type": "stream",
     "text": [
      "\r",
      "  8%|██████                                                                    | 195/2379 [1:02:58<11:55:24, 19.65s/it]"
     ]
    },
    {
     "name": "stdout",
     "output_type": "stream",
     "text": [
      "QUERY:  Precipitation amount in Zollikofen May 3, 2021 1h\n",
      "QUERY:  temperature in Zollikofen May 3, 2021 1h\n",
      "QUERY:  humidity in Zollikofen May 3, 2021 1h\n",
      "QUERY:  wind speed in Zollikofen May 3, 2021 1h\n",
      "QUERY:  Moon Phase calculatorMay 3, 2021 1h\n"
     ]
    },
    {
     "name": "stderr",
     "output_type": "stream",
     "text": [
      "\r",
      "  8%|██████                                                                    | 196/2379 [1:03:17<11:54:45, 19.65s/it]"
     ]
    },
    {
     "name": "stdout",
     "output_type": "stream",
     "text": [
      "QUERY:  Precipitation amount in Zollikofen May 3, 2021 2h\n",
      "QUERY:  temperature in Zollikofen May 3, 2021 2h\n",
      "QUERY:  humidity in Zollikofen May 3, 2021 2h\n",
      "QUERY:  wind speed in Zollikofen May 3, 2021 2h\n",
      "QUERY:  Moon Phase calculatorMay 3, 2021 2h\n"
     ]
    },
    {
     "name": "stderr",
     "output_type": "stream",
     "text": [
      "\r",
      "  8%|██████▏                                                                   | 197/2379 [1:03:38<12:04:11, 19.91s/it]"
     ]
    },
    {
     "name": "stdout",
     "output_type": "stream",
     "text": [
      "QUERY:  Precipitation amount in Zollikofen May 3, 2021 3h\n",
      "QUERY:  temperature in Zollikofen May 3, 2021 3h\n",
      "QUERY:  humidity in Zollikofen May 3, 2021 3h\n",
      "QUERY:  wind speed in Zollikofen May 3, 2021 3h\n",
      "QUERY:  Moon Phase calculatorMay 3, 2021 3h\n"
     ]
    },
    {
     "name": "stderr",
     "output_type": "stream",
     "text": [
      "\r",
      "  8%|██████▏                                                                   | 198/2379 [1:03:57<11:57:35, 19.74s/it]"
     ]
    },
    {
     "name": "stdout",
     "output_type": "stream",
     "text": [
      "QUERY:  Precipitation amount in Zollikofen May 3, 2021 4h\n",
      "QUERY:  temperature in Zollikofen May 3, 2021 4h\n",
      "QUERY:  humidity in Zollikofen May 3, 2021 4h\n",
      "QUERY:  wind speed in Zollikofen May 3, 2021 4h\n",
      "QUERY:  Moon Phase calculatorMay 3, 2021 4h\n"
     ]
    },
    {
     "name": "stderr",
     "output_type": "stream",
     "text": [
      "\r",
      "  8%|██████▏                                                                   | 199/2379 [1:04:16<11:49:10, 19.52s/it]"
     ]
    },
    {
     "name": "stdout",
     "output_type": "stream",
     "text": [
      "QUERY:  Precipitation amount in Zollikofen May 3, 2021 5h\n",
      "QUERY:  temperature in Zollikofen May 3, 2021 5h\n",
      "QUERY:  humidity in Zollikofen May 3, 2021 5h\n",
      "QUERY:  wind speed in Zollikofen May 3, 2021 5h\n",
      "QUERY:  Moon Phase calculatorMay 3, 2021 5h\n"
     ]
    },
    {
     "name": "stderr",
     "output_type": "stream",
     "text": [
      "\r",
      "  8%|██████▏                                                                   | 200/2379 [1:04:35<11:43:21, 19.37s/it]"
     ]
    },
    {
     "name": "stdout",
     "output_type": "stream",
     "text": [
      "QUERY:  Precipitation amount in Zollikofen May 3, 2021 6h\n",
      "QUERY:  temperature in Zollikofen May 3, 2021 6h\n",
      "QUERY:  humidity in Zollikofen May 3, 2021 6h\n",
      "QUERY:  wind speed in Zollikofen May 3, 2021 6h\n",
      "QUERY:  Moon Phase calculatorMay 3, 2021 6h\n",
      "(5191, 7)\n"
     ]
    },
    {
     "data": {
      "text/html": [
       "<div>\n",
       "<style scoped>\n",
       "    .dataframe tbody tr th:only-of-type {\n",
       "        vertical-align: middle;\n",
       "    }\n",
       "\n",
       "    .dataframe tbody tr th {\n",
       "        vertical-align: top;\n",
       "    }\n",
       "\n",
       "    .dataframe thead th {\n",
       "        text-align: right;\n",
       "    }\n",
       "</style>\n",
       "<table border=\"1\" class=\"dataframe\">\n",
       "  <thead>\n",
       "    <tr style=\"text-align: right;\">\n",
       "      <th></th>\n",
       "      <th>date</th>\n",
       "      <th>temperature</th>\n",
       "      <th>humidity</th>\n",
       "      <th>wind speed</th>\n",
       "      <th>Precipitation amount</th>\n",
       "      <th>query</th>\n",
       "      <th>Moon Phase calculator</th>\n",
       "    </tr>\n",
       "  </thead>\n",
       "  <tbody>\n",
       "    <tr>\n",
       "      <th>8</th>\n",
       "      <td>2021-05-03 05:00:00</td>\n",
       "      <td>-1 °C\\n(5:00 am CEST | Monday, May 3, 2021)</td>\n",
       "      <td>average: 100% (100%)\\n(5:00 am CEST | Monday, ...</td>\n",
       "      <td>2 m/s\\n(5:00 am CEST | Monday, May 3, 2021)</td>\n",
       "      <td>no precipitation\\n(5:00 am CEST | Monday, May ...</td>\n",
       "      <td>Moon Phase calculatorMay 3, 2021 5h</td>\n",
       "      <td>| waning gibbous moon\\n57.65% illuminated</td>\n",
       "    </tr>\n",
       "    <tr>\n",
       "      <th>9</th>\n",
       "      <td>2021-05-03 06:00:00</td>\n",
       "      <td>0 °C\\n(6:00 am CEST | Monday, May 3, 2021)</td>\n",
       "      <td>average: 100% (100%)\\n(6:00 am CEST | Monday, ...</td>\n",
       "      <td>1 m/s\\n(6:00 am CEST | Monday, May 3, 2021)</td>\n",
       "      <td>no precipitation\\n(6:00 am CEST | Monday, May ...</td>\n",
       "      <td>Moon Phase calculatorMay 3, 2021 6h</td>\n",
       "      <td>| waning gibbous moon\\n57.20% illuminated</td>\n",
       "    </tr>\n",
       "  </tbody>\n",
       "</table>\n",
       "</div>"
      ],
      "text/plain": [
       "                 date                                  temperature  \\\n",
       "8 2021-05-03 05:00:00  -1 °C\\n(5:00 am CEST | Monday, May 3, 2021)   \n",
       "9 2021-05-03 06:00:00   0 °C\\n(6:00 am CEST | Monday, May 3, 2021)   \n",
       "\n",
       "                                            humidity  \\\n",
       "8  average: 100% (100%)\\n(5:00 am CEST | Monday, ...   \n",
       "9  average: 100% (100%)\\n(6:00 am CEST | Monday, ...   \n",
       "\n",
       "                                    wind speed  \\\n",
       "8  2 m/s\\n(5:00 am CEST | Monday, May 3, 2021)   \n",
       "9  1 m/s\\n(6:00 am CEST | Monday, May 3, 2021)   \n",
       "\n",
       "                                Precipitation amount  \\\n",
       "8  no precipitation\\n(5:00 am CEST | Monday, May ...   \n",
       "9  no precipitation\\n(6:00 am CEST | Monday, May ...   \n",
       "\n",
       "                                 query  \\\n",
       "8  Moon Phase calculatorMay 3, 2021 5h   \n",
       "9  Moon Phase calculatorMay 3, 2021 6h   \n",
       "\n",
       "                       Moon Phase calculator  \n",
       "8  | waning gibbous moon\\n57.65% illuminated  \n",
       "9  | waning gibbous moon\\n57.20% illuminated  "
      ]
     },
     "metadata": {},
     "output_type": "display_data"
    },
    {
     "name": "stderr",
     "output_type": "stream",
     "text": [
      "\r",
      "  8%|██████▎                                                                   | 201/2379 [1:04:56<11:54:26, 19.68s/it]"
     ]
    },
    {
     "name": "stdout",
     "output_type": "stream",
     "text": [
      "QUERY:  Precipitation amount in Zollikofen May 3, 2021 7h\n",
      "QUERY:  temperature in Zollikofen May 3, 2021 7h\n",
      "QUERY:  humidity in Zollikofen May 3, 2021 7h\n",
      "QUERY:  wind speed in Zollikofen May 3, 2021 7h\n",
      "QUERY:  Moon Phase calculatorMay 3, 2021 7h\n"
     ]
    },
    {
     "name": "stderr",
     "output_type": "stream",
     "text": [
      "\r",
      "  8%|██████▎                                                                   | 202/2379 [1:05:16<12:04:55, 19.98s/it]"
     ]
    },
    {
     "name": "stdout",
     "output_type": "stream",
     "text": [
      "QUERY:  Precipitation amount in Zollikofen May 3, 2021 8h\n",
      "QUERY:  temperature in Zollikofen May 3, 2021 8h\n",
      "QUERY:  humidity in Zollikofen May 3, 2021 8h\n",
      "QUERY:  wind speed in Zollikofen May 3, 2021 8h\n",
      "QUERY:  Moon Phase calculatorMay 3, 2021 8h\n"
     ]
    },
    {
     "name": "stderr",
     "output_type": "stream",
     "text": [
      "\r",
      "  9%|██████▎                                                                   | 203/2379 [1:05:36<11:57:03, 19.77s/it]"
     ]
    },
    {
     "name": "stdout",
     "output_type": "stream",
     "text": [
      "QUERY:  Precipitation amount in Zollikofen May 3, 2021 9h\n",
      "ERROR:------------- results  ----------  Precipitation amount in Zollikofen May 3, 2021 9h\n",
      "QUERY:  temperature in Zollikofen May 3, 2021 9h\n",
      "QUERY:  humidity in Zollikofen May 3, 2021 9h\n",
      "QUERY:  wind speed in Zollikofen May 3, 2021 9h\n",
      "QUERY:  Moon Phase calculatorMay 3, 2021 9h\n"
     ]
    },
    {
     "name": "stderr",
     "output_type": "stream",
     "text": [
      "\r",
      "  9%|██████▎                                                                   | 204/2379 [1:05:56<12:06:29, 20.04s/it]"
     ]
    },
    {
     "name": "stdout",
     "output_type": "stream",
     "text": [
      "QUERY:  Precipitation amount in Zollikofen May 3, 2021 10h\n",
      "QUERY:  temperature in Zollikofen May 3, 2021 10h\n",
      "QUERY:  humidity in Zollikofen May 3, 2021 10h\n",
      "QUERY:  wind speed in Zollikofen May 3, 2021 10h\n",
      "QUERY:  Moon Phase calculatorMay 3, 2021 10h\n"
     ]
    },
    {
     "name": "stderr",
     "output_type": "stream",
     "text": [
      "100%|████████████████████████████████████████████████████████████████████████████| 2379/2379 [1:06:17<00:00,  1.67s/it]"
     ]
    },
    {
     "name": "stdout",
     "output_type": "stream",
     "text": [
      "(5195, 7)\n"
     ]
    },
    {
     "name": "stderr",
     "output_type": "stream",
     "text": [
      "\n"
     ]
    },
    {
     "data": {
      "text/html": [
       "<div>\n",
       "<style scoped>\n",
       "    .dataframe tbody tr th:only-of-type {\n",
       "        vertical-align: middle;\n",
       "    }\n",
       "\n",
       "    .dataframe tbody tr th {\n",
       "        vertical-align: top;\n",
       "    }\n",
       "\n",
       "    .dataframe thead th {\n",
       "        text-align: right;\n",
       "    }\n",
       "</style>\n",
       "<table border=\"1\" class=\"dataframe\">\n",
       "  <thead>\n",
       "    <tr style=\"text-align: right;\">\n",
       "      <th></th>\n",
       "      <th>date</th>\n",
       "      <th>temperature</th>\n",
       "      <th>humidity</th>\n",
       "      <th>wind speed</th>\n",
       "      <th>Precipitation amount</th>\n",
       "      <th>query</th>\n",
       "      <th>Moon Phase calculator</th>\n",
       "    </tr>\n",
       "  </thead>\n",
       "  <tbody>\n",
       "    <tr>\n",
       "      <th>2</th>\n",
       "      <td>2021-05-03 09:00:00</td>\n",
       "      <td>7 °C\\n(9:00 am CEST | Monday, May 3, 2021)</td>\n",
       "      <td>average: 76% (76%)\\n(9:00 am CEST | Monday, Ma...</td>\n",
       "      <td>3 m/s\\n(9:00 am CEST | Monday, May 3, 2021)</td>\n",
       "      <td>ERROR</td>\n",
       "      <td>Moon Phase calculatorMay 3, 2021 9h</td>\n",
       "      <td>| waning gibbous moon\\n55.86% illuminated</td>\n",
       "    </tr>\n",
       "    <tr>\n",
       "      <th>3</th>\n",
       "      <td>2021-05-03 10:00:00</td>\n",
       "      <td>8 °C\\n(10:00 am CEST | Monday, May 3, 2021)</td>\n",
       "      <td>average: 71% (71%)\\n(10:00 am CEST | Monday, M...</td>\n",
       "      <td>2 m/s\\n(10:00 am CEST | Monday, May 3, 2021)</td>\n",
       "      <td>no precipitation\\n(10:00 am CEST | Monday, May...</td>\n",
       "      <td>Moon Phase calculatorMay 3, 2021 10h</td>\n",
       "      <td>| waning gibbous moon\\n55.41% illuminated</td>\n",
       "    </tr>\n",
       "  </tbody>\n",
       "</table>\n",
       "</div>"
      ],
      "text/plain": [
       "                 date                                  temperature  \\\n",
       "2 2021-05-03 09:00:00   7 °C\\n(9:00 am CEST | Monday, May 3, 2021)   \n",
       "3 2021-05-03 10:00:00  8 °C\\n(10:00 am CEST | Monday, May 3, 2021)   \n",
       "\n",
       "                                            humidity  \\\n",
       "2  average: 76% (76%)\\n(9:00 am CEST | Monday, Ma...   \n",
       "3  average: 71% (71%)\\n(10:00 am CEST | Monday, M...   \n",
       "\n",
       "                                     wind speed  \\\n",
       "2   3 m/s\\n(9:00 am CEST | Monday, May 3, 2021)   \n",
       "3  2 m/s\\n(10:00 am CEST | Monday, May 3, 2021)   \n",
       "\n",
       "                                Precipitation amount  \\\n",
       "2                                              ERROR   \n",
       "3  no precipitation\\n(10:00 am CEST | Monday, May...   \n",
       "\n",
       "                                  query  \\\n",
       "2   Moon Phase calculatorMay 3, 2021 9h   \n",
       "3  Moon Phase calculatorMay 3, 2021 10h   \n",
       "\n",
       "                       Moon Phase calculator  \n",
       "2  | waning gibbous moon\\n55.86% illuminated  \n",
       "3  | waning gibbous moon\\n55.41% illuminated  "
      ]
     },
     "metadata": {},
     "output_type": "display_data"
    }
   ],
   "source": [
    "#not same as : https://weather.plus/observations-weather-station.php?dest=Bern-Zollikofen&id=066310&type=synop&day=20200713, our\n",
    "#results are less consistent :( \n",
    "#ATTENTION: monthly api calls limited to 2'000\n",
    "#if not working, save query and results: \"ERROR\", but continue the other query from the same date\n",
    "#open if exist\n",
    "li_df = []\n",
    "for i,d in enumerate(tqdm.tqdm(Daterange)):\n",
    "    now_ = dt.datetime.now()\n",
    "    #dont get the data in advance\n",
    "    if d<now_:      \n",
    "        dico = {'date':d}\n",
    "        for type_ in li_type:\n",
    "            try:                    \n",
    "                query = '%s in Zollikofen '%type_+d.strftime('%B')+' '+str(d.day)+', '+str(d.year)+' '+str(d.hour)+'h'\n",
    "                if type_=='Moon Phase calculator':\n",
    "                    query = type_+d.strftime('%B')+' '+str(d.day)+', '+str(d.year)+' '+str(d.hour)+'h'                    \n",
    "                print('QUERY: ',query)\n",
    "                dico['query'] = query\n",
    "                res = client.query(query)\n",
    "                for t in res.results:\n",
    "                    if 'no data available' in t.text:\n",
    "                        print('ERROR: no data available------------- ', query)\n",
    "                        error\n",
    "                    dico[type_] = t.text\n",
    "            except Exception as e:\n",
    "                print('ERROR:-------------', e, ' ---------- ', query)\n",
    "                dico[type_] = 'ERROR'\n",
    "        li_df.append(dico)\n",
    "        dico = {}\n",
    "        if i%10==0:\n",
    "            df_ = pd.DataFrame(li_df)\n",
    "            df = pd.concat([df,df_])\n",
    "            df.to_csv(path_weather, index=False, sep=';')\n",
    "            li_df = []\n",
    "            print(df.shape)\n",
    "            display(df.tail(2))\n",
    "df_ = pd.DataFrame(li_df)\n",
    "df = pd.concat([df,df_])\n",
    "df.to_csv(path_weather, index=False, sep=';')\n",
    "print(df.shape)\n",
    "display(df.tail(2))"
   ]
  },
  {
   "cell_type": "code",
   "execution_count": 6,
   "metadata": {},
   "outputs": [
    {
     "name": "stdout",
     "output_type": "stream",
     "text": [
      "(37, 7)\n"
     ]
    },
    {
     "data": {
      "text/html": [
       "<div>\n",
       "<style scoped>\n",
       "    .dataframe tbody tr th:only-of-type {\n",
       "        vertical-align: middle;\n",
       "    }\n",
       "\n",
       "    .dataframe tbody tr th {\n",
       "        vertical-align: top;\n",
       "    }\n",
       "\n",
       "    .dataframe thead th {\n",
       "        text-align: right;\n",
       "    }\n",
       "</style>\n",
       "<table border=\"1\" class=\"dataframe\">\n",
       "  <thead>\n",
       "    <tr style=\"text-align: right;\">\n",
       "      <th></th>\n",
       "      <th>date</th>\n",
       "      <th>temperature</th>\n",
       "      <th>humidity</th>\n",
       "      <th>wind speed</th>\n",
       "      <th>Precipitation amount</th>\n",
       "      <th>query</th>\n",
       "      <th>Moon Phase calculator</th>\n",
       "    </tr>\n",
       "  </thead>\n",
       "  <tbody>\n",
       "    <tr>\n",
       "      <th>0</th>\n",
       "      <td>2020-11-05 22:00:00</td>\n",
       "      <td>8 °C\\n(10:00 pm CET | Thursday, November 5, 2020)</td>\n",
       "      <td>ERROR</td>\n",
       "      <td>1 m/s\\n(10:00 pm CET | Thursday, November 5, 2...</td>\n",
       "      <td>(unknown)\\n(10:00 pm CET | Thursday, November ...</td>\n",
       "      <td>Moon Phase calculatorNovember 5, 2020 22h</td>\n",
       "      <td>| waning gibbous moon\\n76.55% illuminated</td>\n",
       "    </tr>\n",
       "    <tr>\n",
       "      <th>0</th>\n",
       "      <td>2020-11-16 19:00:00</td>\n",
       "      <td>7 °C\\n(7:00 pm CET | Monday, November 16, 2020)</td>\n",
       "      <td>ERROR</td>\n",
       "      <td>1 m/s\\n(7:00 pm CET | Monday, November 16, 2020)</td>\n",
       "      <td>(unknown)\\n(7:00 pm CET | Monday, November 16,...</td>\n",
       "      <td>Moon Phase calculatorNovember 16, 2020 19h</td>\n",
       "      <td>| waxing crescent moon\\n3.48% illuminated</td>\n",
       "    </tr>\n",
       "    <tr>\n",
       "      <th>1</th>\n",
       "      <td>2020-11-16 21:00:00</td>\n",
       "      <td>5 °C\\n(9:00 pm CET | Monday, November 16, 2020)</td>\n",
       "      <td>ERROR</td>\n",
       "      <td>0 m/s\\n(9:00 pm CET | Monday, November 16, 2020)</td>\n",
       "      <td>(unknown)\\n(9:00 pm CET | Monday, November 16,...</td>\n",
       "      <td>Moon Phase calculatorNovember 16, 2020 21h</td>\n",
       "      <td>| waxing crescent moon\\n3.86% illuminated</td>\n",
       "    </tr>\n",
       "    <tr>\n",
       "      <th>2</th>\n",
       "      <td>2020-12-15 21:00:00</td>\n",
       "      <td>4 °C\\n(9:00 pm CET | Tuesday, December 15, 2020)</td>\n",
       "      <td>ERROR</td>\n",
       "      <td>1 m/s\\n(9:00 pm CET | Tuesday, December 15, 2020)</td>\n",
       "      <td>(unknown)\\n(9:00 pm CET | Tuesday, December 15...</td>\n",
       "      <td>Moon Phase calculatorDecember 15, 2020 21h</td>\n",
       "      <td>| waxing crescent moon\\n1.86% illuminated</td>\n",
       "    </tr>\n",
       "    <tr>\n",
       "      <th>3</th>\n",
       "      <td>2021-02-08 17:00:00</td>\n",
       "      <td>5 °C\\n(5:00 pm CET | Monday, February 8, 2021)</td>\n",
       "      <td>ERROR</td>\n",
       "      <td>5 m/s\\n(5:00 pm CET | Monday, February 8, 2021)</td>\n",
       "      <td>(unknown)\\n(5:00 pm CET | Monday, February 8, ...</td>\n",
       "      <td>Moon Phase calculatorFebruary 8, 2021 17h</td>\n",
       "      <td>| waning crescent moon\\n11.27% illuminated</td>\n",
       "    </tr>\n",
       "    <tr>\n",
       "      <th>4</th>\n",
       "      <td>2021-02-08 18:00:00</td>\n",
       "      <td>4 °C\\n(6:00 pm CET | Monday, February 8, 2021)</td>\n",
       "      <td>ERROR</td>\n",
       "      <td>5 m/s\\n(6:00 pm CET | Monday, February 8, 2021)</td>\n",
       "      <td>(unknown)\\n(6:00 pm CET | Monday, February 8, ...</td>\n",
       "      <td>Moon Phase calculatorFebruary 8, 2021 18h</td>\n",
       "      <td>| waning crescent moon\\n10.98% illuminated</td>\n",
       "    </tr>\n",
       "    <tr>\n",
       "      <th>5</th>\n",
       "      <td>2021-02-08 19:00:00</td>\n",
       "      <td>3 °C\\n(7:00 pm CET | Monday, February 8, 2021)</td>\n",
       "      <td>ERROR</td>\n",
       "      <td>4 m/s\\n(7:00 pm CET | Monday, February 8, 2021)</td>\n",
       "      <td>(unknown)\\n(7:00 pm CET | Monday, February 8, ...</td>\n",
       "      <td>Moon Phase calculatorFebruary 8, 2021 19h</td>\n",
       "      <td>| waning crescent moon\\n10.69% illuminated</td>\n",
       "    </tr>\n",
       "    <tr>\n",
       "      <th>6</th>\n",
       "      <td>2021-02-08 20:00:00</td>\n",
       "      <td>2 °C\\n(8:00 pm CET | Monday, February 8, 2021)</td>\n",
       "      <td>ERROR</td>\n",
       "      <td>4 m/s\\n(8:00 pm CET | Monday, February 8, 2021)</td>\n",
       "      <td>(unknown)\\n(8:00 pm CET | Monday, February 8, ...</td>\n",
       "      <td>Moon Phase calculatorFebruary 8, 2021 20h</td>\n",
       "      <td>| waning crescent moon\\n10.41% illuminated</td>\n",
       "    </tr>\n",
       "    <tr>\n",
       "      <th>7</th>\n",
       "      <td>2021-02-09 09:00:00</td>\n",
       "      <td>0 °C\\n(9:00 am CET | Tuesday, February 9, 2021)</td>\n",
       "      <td>ERROR</td>\n",
       "      <td>1 m/s\\n(9:00 am CET | Tuesday, February 9, 2021)</td>\n",
       "      <td>(unknown)\\n(9:00 am CET | Tuesday, February 9,...</td>\n",
       "      <td>Moon Phase calculatorFebruary 9, 2021 9h</td>\n",
       "      <td>| waning crescent moon\\n7.06% illuminated</td>\n",
       "    </tr>\n",
       "    <tr>\n",
       "      <th>8</th>\n",
       "      <td>2021-02-09 10:00:00</td>\n",
       "      <td>0 °C\\n(10:00 am CET | Tuesday, February 9, 2021)</td>\n",
       "      <td>ERROR</td>\n",
       "      <td>1 m/s\\n(10:00 am CET | Tuesday, February 9, 2021)</td>\n",
       "      <td>(unknown)\\n(10:00 am CET | Tuesday, February 9...</td>\n",
       "      <td>Moon Phase calculatorFebruary 9, 2021 10h</td>\n",
       "      <td>| waning crescent moon\\n6.82% illuminated</td>\n",
       "    </tr>\n",
       "    <tr>\n",
       "      <th>9</th>\n",
       "      <td>2021-02-09 11:00:00</td>\n",
       "      <td>0 °C\\n(11:00 am CET | Tuesday, February 9, 2021)</td>\n",
       "      <td>ERROR</td>\n",
       "      <td>1 m/s\\n(11:00 am CET | Tuesday, February 9, 2021)</td>\n",
       "      <td>(unknown)\\n(11:00 am CET | Tuesday, February 9...</td>\n",
       "      <td>Moon Phase calculatorFebruary 9, 2021 11h</td>\n",
       "      <td>| waning crescent moon\\n6.60% illuminated</td>\n",
       "    </tr>\n",
       "    <tr>\n",
       "      <th>0</th>\n",
       "      <td>2021-02-09 12:00:00</td>\n",
       "      <td>0 °C\\n(12:00 pm CET | Tuesday, February 9, 2021)</td>\n",
       "      <td>ERROR</td>\n",
       "      <td>1 m/s\\n(12:00 pm CET | Tuesday, February 9, 2021)</td>\n",
       "      <td>(unknown)\\n(12:00 pm CET | Tuesday, February 9...</td>\n",
       "      <td>Moon Phase calculatorFebruary 9, 2021 12h</td>\n",
       "      <td>| waning crescent moon\\n6.37% illuminated</td>\n",
       "    </tr>\n",
       "    <tr>\n",
       "      <th>1</th>\n",
       "      <td>2021-02-09 13:00:00</td>\n",
       "      <td>0 °C\\n(1:00 pm CET | Tuesday, February 9, 2021)</td>\n",
       "      <td>ERROR</td>\n",
       "      <td>2 m/s\\n(1:00 pm CET | Tuesday, February 9, 2021)</td>\n",
       "      <td>(unknown)\\n(1:00 pm CET | Tuesday, February 9,...</td>\n",
       "      <td>Moon Phase calculatorFebruary 9, 2021 13h</td>\n",
       "      <td>| waning crescent moon\\n6.15% illuminated</td>\n",
       "    </tr>\n",
       "    <tr>\n",
       "      <th>2</th>\n",
       "      <td>2021-02-09 15:00:00</td>\n",
       "      <td>0 °C\\n(3:00 pm CET | Tuesday, February 9, 2021)</td>\n",
       "      <td>ERROR</td>\n",
       "      <td>2 m/s\\n(3:00 pm CET | Tuesday, February 9, 2021)</td>\n",
       "      <td>(unknown)\\n(3:00 pm CET | Tuesday, February 9,...</td>\n",
       "      <td>Moon Phase calculatorFebruary 9, 2021 15h</td>\n",
       "      <td>| waning crescent moon\\n5.72% illuminated</td>\n",
       "    </tr>\n",
       "    <tr>\n",
       "      <th>3</th>\n",
       "      <td>2021-02-09 16:00:00</td>\n",
       "      <td>0 °C\\n(4:00 pm CET | Tuesday, February 9, 2021)</td>\n",
       "      <td>ERROR</td>\n",
       "      <td>2 m/s\\n(4:00 pm CET | Tuesday, February 9, 2021)</td>\n",
       "      <td>ERROR</td>\n",
       "      <td>Moon Phase calculatorFebruary 9, 2021 16h</td>\n",
       "      <td>| waning crescent moon\\n5.51% illuminated</td>\n",
       "    </tr>\n",
       "    <tr>\n",
       "      <th>4</th>\n",
       "      <td>2021-02-09 17:00:00</td>\n",
       "      <td>0 °C\\n(5:00 pm CET | Tuesday, February 9, 2021)</td>\n",
       "      <td>ERROR</td>\n",
       "      <td>3 m/s\\n(5:00 pm CET | Tuesday, February 9, 2021)</td>\n",
       "      <td>(unknown)\\n(5:00 pm CET | Tuesday, February 9,...</td>\n",
       "      <td>Moon Phase calculatorFebruary 9, 2021 17h</td>\n",
       "      <td>| waning crescent moon\\n5.31% illuminated</td>\n",
       "    </tr>\n",
       "    <tr>\n",
       "      <th>5</th>\n",
       "      <td>2021-02-09 18:00:00</td>\n",
       "      <td>0 °C\\n(6:00 pm CET | Tuesday, February 9, 2021)</td>\n",
       "      <td>ERROR</td>\n",
       "      <td>3 m/s\\n(6:00 pm CET | Tuesday, February 9, 2021)</td>\n",
       "      <td>(unknown)\\n(6:00 pm CET | Tuesday, February 9,...</td>\n",
       "      <td>Moon Phase calculatorFebruary 9, 2021 18h</td>\n",
       "      <td>| waning crescent moon\\n5.11% illuminated</td>\n",
       "    </tr>\n",
       "    <tr>\n",
       "      <th>6</th>\n",
       "      <td>2021-02-09 19:00:00</td>\n",
       "      <td>0 °C\\n(7:00 pm CET | Tuesday, February 9, 2021)</td>\n",
       "      <td>ERROR</td>\n",
       "      <td>3 m/s\\n(7:00 pm CET | Tuesday, February 9, 2021)</td>\n",
       "      <td>(unknown)\\n(7:00 pm CET | Tuesday, February 9,...</td>\n",
       "      <td>Moon Phase calculatorFebruary 9, 2021 19h</td>\n",
       "      <td>| waning crescent moon\\n4.91% illuminated</td>\n",
       "    </tr>\n",
       "    <tr>\n",
       "      <th>7</th>\n",
       "      <td>2021-02-09 20:00:00</td>\n",
       "      <td>0 °C\\n(8:00 pm CET | Tuesday, February 9, 2021)</td>\n",
       "      <td>ERROR</td>\n",
       "      <td>3 m/s\\n(8:00 pm CET | Tuesday, February 9, 2021)</td>\n",
       "      <td>(unknown)\\n(8:00 pm CET | Tuesday, February 9,...</td>\n",
       "      <td>Moon Phase calculatorFebruary 9, 2021 20h</td>\n",
       "      <td>| waning crescent moon\\n4.72% illuminated</td>\n",
       "    </tr>\n",
       "    <tr>\n",
       "      <th>8</th>\n",
       "      <td>2021-02-09 21:00:00</td>\n",
       "      <td>0 °C\\n(9:00 pm CET | Tuesday, February 9, 2021)</td>\n",
       "      <td>ERROR</td>\n",
       "      <td>4 m/s\\n(9:00 pm CET | Tuesday, February 9, 2021)</td>\n",
       "      <td>(unknown)\\n(9:00 pm CET | Tuesday, February 9,...</td>\n",
       "      <td>Moon Phase calculatorFebruary 9, 2021 21h</td>\n",
       "      <td>| waning crescent moon\\n4.53% illuminated</td>\n",
       "    </tr>\n",
       "    <tr>\n",
       "      <th>9</th>\n",
       "      <td>2021-02-09 22:00:00</td>\n",
       "      <td>0 °C\\n(10:00 pm CET | Tuesday, February 9, 2021)</td>\n",
       "      <td>ERROR</td>\n",
       "      <td>4 m/s\\n(10:00 pm CET | Tuesday, February 9, 2021)</td>\n",
       "      <td>(unknown)\\n(10:00 pm CET | Tuesday, February 9...</td>\n",
       "      <td>Moon Phase calculatorFebruary 9, 2021 22h</td>\n",
       "      <td>| waning crescent moon\\n4.34% illuminated</td>\n",
       "    </tr>\n",
       "    <tr>\n",
       "      <th>0</th>\n",
       "      <td>2021-02-10 10:00:00</td>\n",
       "      <td>0 °C\\n(10:00 am CET | Wednesday, February 10, ...</td>\n",
       "      <td>ERROR</td>\n",
       "      <td>1 m/s\\n(10:00 am CET | Wednesday, February 10,...</td>\n",
       "      <td>(unknown)\\n(10:00 am CET | Wednesday, February...</td>\n",
       "      <td>Moon Phase calculatorFebruary 10, 2021 10h</td>\n",
       "      <td>| waning crescent moon\\n2.43% illuminated</td>\n",
       "    </tr>\n",
       "    <tr>\n",
       "      <th>1</th>\n",
       "      <td>2021-02-10 11:00:00</td>\n",
       "      <td>0 °C\\n(11:00 am CET | Wednesday, February 10, ...</td>\n",
       "      <td>ERROR</td>\n",
       "      <td>1 m/s\\n(11:00 am CET | Wednesday, February 10,...</td>\n",
       "      <td>(unknown)\\n(11:00 am CET | Wednesday, February...</td>\n",
       "      <td>Moon Phase calculatorFebruary 10, 2021 11h</td>\n",
       "      <td>| waning crescent moon\\n2.30% illuminated</td>\n",
       "    </tr>\n",
       "    <tr>\n",
       "      <th>2</th>\n",
       "      <td>2021-02-10 12:00:00</td>\n",
       "      <td>0 °C\\n(12:00 pm CET | Wednesday, February 10, ...</td>\n",
       "      <td>ERROR</td>\n",
       "      <td>2 m/s\\n(12:00 pm CET | Wednesday, February 10,...</td>\n",
       "      <td>(unknown)\\n(12:00 pm CET | Wednesday, February...</td>\n",
       "      <td>Moon Phase calculatorFebruary 10, 2021 12h</td>\n",
       "      <td>| waning crescent moon\\n2.17% illuminated</td>\n",
       "    </tr>\n",
       "    <tr>\n",
       "      <th>3</th>\n",
       "      <td>2021-02-10 13:00:00</td>\n",
       "      <td>0 °C\\n(1:00 pm CET | Wednesday, February 10, 2...</td>\n",
       "      <td>ERROR</td>\n",
       "      <td>2 m/s\\n(1:00 pm CET | Wednesday, February 10, ...</td>\n",
       "      <td>(unknown)\\n(1:00 pm CET | Wednesday, February ...</td>\n",
       "      <td>Moon Phase calculatorFebruary 10, 2021 13h</td>\n",
       "      <td>| waning crescent moon\\n2.04% illuminated</td>\n",
       "    </tr>\n",
       "    <tr>\n",
       "      <th>4</th>\n",
       "      <td>2021-02-10 14:00:00</td>\n",
       "      <td>-1 °C\\n(2:00 pm CET | Wednesday, February 10, ...</td>\n",
       "      <td>ERROR</td>\n",
       "      <td>2 m/s\\n(2:00 pm CET | Wednesday, February 10, ...</td>\n",
       "      <td>(unknown)\\n(2:00 pm CET | Wednesday, February ...</td>\n",
       "      <td>Moon Phase calculatorFebruary 10, 2021 14h</td>\n",
       "      <td>| waning crescent moon\\n1.92% illuminated</td>\n",
       "    </tr>\n",
       "    <tr>\n",
       "      <th>5</th>\n",
       "      <td>2021-02-10 15:00:00</td>\n",
       "      <td>-1 °C\\n(3:00 pm CET | Wednesday, February 10, ...</td>\n",
       "      <td>ERROR</td>\n",
       "      <td>3 m/s\\n(3:00 pm CET | Wednesday, February 10, ...</td>\n",
       "      <td>(unknown)\\n(3:00 pm CET | Wednesday, February ...</td>\n",
       "      <td>Moon Phase calculatorFebruary 10, 2021 15h</td>\n",
       "      <td>| waning crescent moon\\n1.80% illuminated</td>\n",
       "    </tr>\n",
       "    <tr>\n",
       "      <th>6</th>\n",
       "      <td>2021-02-10 16:00:00</td>\n",
       "      <td>-1 °C\\n(4:00 pm CET | Wednesday, February 10, ...</td>\n",
       "      <td>ERROR</td>\n",
       "      <td>3 m/s\\n(4:00 pm CET | Wednesday, February 10, ...</td>\n",
       "      <td>(unknown)\\n(4:00 pm CET | Wednesday, February ...</td>\n",
       "      <td>Moon Phase calculatorFebruary 10, 2021 16h</td>\n",
       "      <td>| waning crescent moon\\n1.69% illuminated</td>\n",
       "    </tr>\n",
       "    <tr>\n",
       "      <th>7</th>\n",
       "      <td>2021-02-10 17:00:00</td>\n",
       "      <td>-2 °C\\n(5:00 pm CET | Wednesday, February 10, ...</td>\n",
       "      <td>ERROR</td>\n",
       "      <td>3 m/s\\n(5:00 pm CET | Wednesday, February 10, ...</td>\n",
       "      <td>(unknown)\\n(5:00 pm CET | Wednesday, February ...</td>\n",
       "      <td>Moon Phase calculatorFebruary 10, 2021 17h</td>\n",
       "      <td>| waning crescent moon\\n1.58% illuminated</td>\n",
       "    </tr>\n",
       "    <tr>\n",
       "      <th>8</th>\n",
       "      <td>2021-02-10 18:00:00</td>\n",
       "      <td>-2 °C\\n(6:00 pm CET | Wednesday, February 10, ...</td>\n",
       "      <td>ERROR</td>\n",
       "      <td>3 m/s\\n(6:00 pm CET | Wednesday, February 10, ...</td>\n",
       "      <td>(unknown)\\n(6:00 pm CET | Wednesday, February ...</td>\n",
       "      <td>Moon Phase calculatorFebruary 10, 2021 18h</td>\n",
       "      <td>| waning crescent moon\\n1.48% illuminated</td>\n",
       "    </tr>\n",
       "    <tr>\n",
       "      <th>9</th>\n",
       "      <td>2021-02-10 19:00:00</td>\n",
       "      <td>-2 °C\\n(7:00 pm CET | Wednesday, February 10, ...</td>\n",
       "      <td>ERROR</td>\n",
       "      <td>4 m/s\\n(7:00 pm CET | Wednesday, February 10, ...</td>\n",
       "      <td>(unknown)\\n(7:00 pm CET | Wednesday, February ...</td>\n",
       "      <td>Moon Phase calculatorFebruary 10, 2021 19h</td>\n",
       "      <td>| waning crescent moon\\n1.38% illuminated</td>\n",
       "    </tr>\n",
       "    <tr>\n",
       "      <th>0</th>\n",
       "      <td>2021-02-10 20:00:00</td>\n",
       "      <td>-2 °C\\n(8:00 pm CET | Wednesday, February 10, ...</td>\n",
       "      <td>ERROR</td>\n",
       "      <td>4 m/s\\n(8:00 pm CET | Wednesday, February 10, ...</td>\n",
       "      <td>(unknown)\\n(8:00 pm CET | Wednesday, February ...</td>\n",
       "      <td>Moon Phase calculatorFebruary 10, 2021 20h</td>\n",
       "      <td>| waning crescent moon\\n1.28% illuminated</td>\n",
       "    </tr>\n",
       "    <tr>\n",
       "      <th>1</th>\n",
       "      <td>2021-02-10 21:00:00</td>\n",
       "      <td>-3 °C\\n(9:00 pm CET | Wednesday, February 10, ...</td>\n",
       "      <td>ERROR</td>\n",
       "      <td>4 m/s\\n(9:00 pm CET | Wednesday, February 10, ...</td>\n",
       "      <td>(unknown)\\n(9:00 pm CET | Wednesday, February ...</td>\n",
       "      <td>Moon Phase calculatorFebruary 10, 2021 21h</td>\n",
       "      <td>| waning crescent moon\\n1.19% illuminated</td>\n",
       "    </tr>\n",
       "    <tr>\n",
       "      <th>2</th>\n",
       "      <td>2021-02-10 22:00:00</td>\n",
       "      <td>-3 °C\\n(10:00 pm CET | Wednesday, February 10,...</td>\n",
       "      <td>ERROR</td>\n",
       "      <td>5 m/s\\n(10:00 pm CET | Wednesday, February 10,...</td>\n",
       "      <td>(unknown)\\n(10:00 pm CET | Wednesday, February...</td>\n",
       "      <td>Moon Phase calculatorFebruary 10, 2021 22h</td>\n",
       "      <td>| waning crescent moon\\n1.10% illuminated</td>\n",
       "    </tr>\n",
       "    <tr>\n",
       "      <th>3</th>\n",
       "      <td>2021-02-10 23:00:00</td>\n",
       "      <td>-3 °C\\n(11:00 pm CET | Wednesday, February 10,...</td>\n",
       "      <td>ERROR</td>\n",
       "      <td>5 m/s\\n(11:00 pm CET | Wednesday, February 10,...</td>\n",
       "      <td>(unknown)\\n(11:00 pm CET | Wednesday, February...</td>\n",
       "      <td>Moon Phase calculatorFebruary 10, 2021 23h</td>\n",
       "      <td>| waning crescent moon\\n1.01% illuminated</td>\n",
       "    </tr>\n",
       "    <tr>\n",
       "      <th>4</th>\n",
       "      <td>2021-03-28 01:00:00</td>\n",
       "      <td>1 °C\\n(1:00 am CEST | Sunday, March 28, 2021)</td>\n",
       "      <td>ERROR</td>\n",
       "      <td>1 m/s\\n(1:00 am CEST | Sunday, March 28, 2021)</td>\n",
       "      <td>(unknown)\\n(1:00 am CEST | Sunday, March 28, 2...</td>\n",
       "      <td>Moon Phase calculatorMarch 28, 2021 1h</td>\n",
       "      <td>| waxing gibbous moon\\n98.84% illuminated</td>\n",
       "    </tr>\n",
       "    <tr>\n",
       "      <th>2</th>\n",
       "      <td>2021-05-03 09:00:00</td>\n",
       "      <td>7 °C\\n(9:00 am CEST | Monday, May 3, 2021)</td>\n",
       "      <td>average: 76% (76%)\\n(9:00 am CEST | Monday, Ma...</td>\n",
       "      <td>3 m/s\\n(9:00 am CEST | Monday, May 3, 2021)</td>\n",
       "      <td>ERROR</td>\n",
       "      <td>Moon Phase calculatorMay 3, 2021 9h</td>\n",
       "      <td>| waning gibbous moon\\n55.86% illuminated</td>\n",
       "    </tr>\n",
       "  </tbody>\n",
       "</table>\n",
       "</div>"
      ],
      "text/plain": [
       "                 date                                        temperature  \\\n",
       "0 2020-11-05 22:00:00  8 °C\\n(10:00 pm CET | Thursday, November 5, 2020)   \n",
       "0 2020-11-16 19:00:00    7 °C\\n(7:00 pm CET | Monday, November 16, 2020)   \n",
       "1 2020-11-16 21:00:00    5 °C\\n(9:00 pm CET | Monday, November 16, 2020)   \n",
       "2 2020-12-15 21:00:00   4 °C\\n(9:00 pm CET | Tuesday, December 15, 2020)   \n",
       "3 2021-02-08 17:00:00     5 °C\\n(5:00 pm CET | Monday, February 8, 2021)   \n",
       "4 2021-02-08 18:00:00     4 °C\\n(6:00 pm CET | Monday, February 8, 2021)   \n",
       "5 2021-02-08 19:00:00     3 °C\\n(7:00 pm CET | Monday, February 8, 2021)   \n",
       "6 2021-02-08 20:00:00     2 °C\\n(8:00 pm CET | Monday, February 8, 2021)   \n",
       "7 2021-02-09 09:00:00    0 °C\\n(9:00 am CET | Tuesday, February 9, 2021)   \n",
       "8 2021-02-09 10:00:00   0 °C\\n(10:00 am CET | Tuesday, February 9, 2021)   \n",
       "9 2021-02-09 11:00:00   0 °C\\n(11:00 am CET | Tuesday, February 9, 2021)   \n",
       "0 2021-02-09 12:00:00   0 °C\\n(12:00 pm CET | Tuesday, February 9, 2021)   \n",
       "1 2021-02-09 13:00:00    0 °C\\n(1:00 pm CET | Tuesday, February 9, 2021)   \n",
       "2 2021-02-09 15:00:00    0 °C\\n(3:00 pm CET | Tuesday, February 9, 2021)   \n",
       "3 2021-02-09 16:00:00    0 °C\\n(4:00 pm CET | Tuesday, February 9, 2021)   \n",
       "4 2021-02-09 17:00:00    0 °C\\n(5:00 pm CET | Tuesday, February 9, 2021)   \n",
       "5 2021-02-09 18:00:00    0 °C\\n(6:00 pm CET | Tuesday, February 9, 2021)   \n",
       "6 2021-02-09 19:00:00    0 °C\\n(7:00 pm CET | Tuesday, February 9, 2021)   \n",
       "7 2021-02-09 20:00:00    0 °C\\n(8:00 pm CET | Tuesday, February 9, 2021)   \n",
       "8 2021-02-09 21:00:00    0 °C\\n(9:00 pm CET | Tuesday, February 9, 2021)   \n",
       "9 2021-02-09 22:00:00   0 °C\\n(10:00 pm CET | Tuesday, February 9, 2021)   \n",
       "0 2021-02-10 10:00:00  0 °C\\n(10:00 am CET | Wednesday, February 10, ...   \n",
       "1 2021-02-10 11:00:00  0 °C\\n(11:00 am CET | Wednesday, February 10, ...   \n",
       "2 2021-02-10 12:00:00  0 °C\\n(12:00 pm CET | Wednesday, February 10, ...   \n",
       "3 2021-02-10 13:00:00  0 °C\\n(1:00 pm CET | Wednesday, February 10, 2...   \n",
       "4 2021-02-10 14:00:00  -1 °C\\n(2:00 pm CET | Wednesday, February 10, ...   \n",
       "5 2021-02-10 15:00:00  -1 °C\\n(3:00 pm CET | Wednesday, February 10, ...   \n",
       "6 2021-02-10 16:00:00  -1 °C\\n(4:00 pm CET | Wednesday, February 10, ...   \n",
       "7 2021-02-10 17:00:00  -2 °C\\n(5:00 pm CET | Wednesday, February 10, ...   \n",
       "8 2021-02-10 18:00:00  -2 °C\\n(6:00 pm CET | Wednesday, February 10, ...   \n",
       "9 2021-02-10 19:00:00  -2 °C\\n(7:00 pm CET | Wednesday, February 10, ...   \n",
       "0 2021-02-10 20:00:00  -2 °C\\n(8:00 pm CET | Wednesday, February 10, ...   \n",
       "1 2021-02-10 21:00:00  -3 °C\\n(9:00 pm CET | Wednesday, February 10, ...   \n",
       "2 2021-02-10 22:00:00  -3 °C\\n(10:00 pm CET | Wednesday, February 10,...   \n",
       "3 2021-02-10 23:00:00  -3 °C\\n(11:00 pm CET | Wednesday, February 10,...   \n",
       "4 2021-03-28 01:00:00      1 °C\\n(1:00 am CEST | Sunday, March 28, 2021)   \n",
       "2 2021-05-03 09:00:00         7 °C\\n(9:00 am CEST | Monday, May 3, 2021)   \n",
       "\n",
       "                                            humidity  \\\n",
       "0                                              ERROR   \n",
       "0                                              ERROR   \n",
       "1                                              ERROR   \n",
       "2                                              ERROR   \n",
       "3                                              ERROR   \n",
       "4                                              ERROR   \n",
       "5                                              ERROR   \n",
       "6                                              ERROR   \n",
       "7                                              ERROR   \n",
       "8                                              ERROR   \n",
       "9                                              ERROR   \n",
       "0                                              ERROR   \n",
       "1                                              ERROR   \n",
       "2                                              ERROR   \n",
       "3                                              ERROR   \n",
       "4                                              ERROR   \n",
       "5                                              ERROR   \n",
       "6                                              ERROR   \n",
       "7                                              ERROR   \n",
       "8                                              ERROR   \n",
       "9                                              ERROR   \n",
       "0                                              ERROR   \n",
       "1                                              ERROR   \n",
       "2                                              ERROR   \n",
       "3                                              ERROR   \n",
       "4                                              ERROR   \n",
       "5                                              ERROR   \n",
       "6                                              ERROR   \n",
       "7                                              ERROR   \n",
       "8                                              ERROR   \n",
       "9                                              ERROR   \n",
       "0                                              ERROR   \n",
       "1                                              ERROR   \n",
       "2                                              ERROR   \n",
       "3                                              ERROR   \n",
       "4                                              ERROR   \n",
       "2  average: 76% (76%)\\n(9:00 am CEST | Monday, Ma...   \n",
       "\n",
       "                                          wind speed  \\\n",
       "0  1 m/s\\n(10:00 pm CET | Thursday, November 5, 2...   \n",
       "0   1 m/s\\n(7:00 pm CET | Monday, November 16, 2020)   \n",
       "1   0 m/s\\n(9:00 pm CET | Monday, November 16, 2020)   \n",
       "2  1 m/s\\n(9:00 pm CET | Tuesday, December 15, 2020)   \n",
       "3    5 m/s\\n(5:00 pm CET | Monday, February 8, 2021)   \n",
       "4    5 m/s\\n(6:00 pm CET | Monday, February 8, 2021)   \n",
       "5    4 m/s\\n(7:00 pm CET | Monday, February 8, 2021)   \n",
       "6    4 m/s\\n(8:00 pm CET | Monday, February 8, 2021)   \n",
       "7   1 m/s\\n(9:00 am CET | Tuesday, February 9, 2021)   \n",
       "8  1 m/s\\n(10:00 am CET | Tuesday, February 9, 2021)   \n",
       "9  1 m/s\\n(11:00 am CET | Tuesday, February 9, 2021)   \n",
       "0  1 m/s\\n(12:00 pm CET | Tuesday, February 9, 2021)   \n",
       "1   2 m/s\\n(1:00 pm CET | Tuesday, February 9, 2021)   \n",
       "2   2 m/s\\n(3:00 pm CET | Tuesday, February 9, 2021)   \n",
       "3   2 m/s\\n(4:00 pm CET | Tuesday, February 9, 2021)   \n",
       "4   3 m/s\\n(5:00 pm CET | Tuesday, February 9, 2021)   \n",
       "5   3 m/s\\n(6:00 pm CET | Tuesday, February 9, 2021)   \n",
       "6   3 m/s\\n(7:00 pm CET | Tuesday, February 9, 2021)   \n",
       "7   3 m/s\\n(8:00 pm CET | Tuesday, February 9, 2021)   \n",
       "8   4 m/s\\n(9:00 pm CET | Tuesday, February 9, 2021)   \n",
       "9  4 m/s\\n(10:00 pm CET | Tuesday, February 9, 2021)   \n",
       "0  1 m/s\\n(10:00 am CET | Wednesday, February 10,...   \n",
       "1  1 m/s\\n(11:00 am CET | Wednesday, February 10,...   \n",
       "2  2 m/s\\n(12:00 pm CET | Wednesday, February 10,...   \n",
       "3  2 m/s\\n(1:00 pm CET | Wednesday, February 10, ...   \n",
       "4  2 m/s\\n(2:00 pm CET | Wednesday, February 10, ...   \n",
       "5  3 m/s\\n(3:00 pm CET | Wednesday, February 10, ...   \n",
       "6  3 m/s\\n(4:00 pm CET | Wednesday, February 10, ...   \n",
       "7  3 m/s\\n(5:00 pm CET | Wednesday, February 10, ...   \n",
       "8  3 m/s\\n(6:00 pm CET | Wednesday, February 10, ...   \n",
       "9  4 m/s\\n(7:00 pm CET | Wednesday, February 10, ...   \n",
       "0  4 m/s\\n(8:00 pm CET | Wednesday, February 10, ...   \n",
       "1  4 m/s\\n(9:00 pm CET | Wednesday, February 10, ...   \n",
       "2  5 m/s\\n(10:00 pm CET | Wednesday, February 10,...   \n",
       "3  5 m/s\\n(11:00 pm CET | Wednesday, February 10,...   \n",
       "4     1 m/s\\n(1:00 am CEST | Sunday, March 28, 2021)   \n",
       "2        3 m/s\\n(9:00 am CEST | Monday, May 3, 2021)   \n",
       "\n",
       "                                Precipitation amount  \\\n",
       "0  (unknown)\\n(10:00 pm CET | Thursday, November ...   \n",
       "0  (unknown)\\n(7:00 pm CET | Monday, November 16,...   \n",
       "1  (unknown)\\n(9:00 pm CET | Monday, November 16,...   \n",
       "2  (unknown)\\n(9:00 pm CET | Tuesday, December 15...   \n",
       "3  (unknown)\\n(5:00 pm CET | Monday, February 8, ...   \n",
       "4  (unknown)\\n(6:00 pm CET | Monday, February 8, ...   \n",
       "5  (unknown)\\n(7:00 pm CET | Monday, February 8, ...   \n",
       "6  (unknown)\\n(8:00 pm CET | Monday, February 8, ...   \n",
       "7  (unknown)\\n(9:00 am CET | Tuesday, February 9,...   \n",
       "8  (unknown)\\n(10:00 am CET | Tuesday, February 9...   \n",
       "9  (unknown)\\n(11:00 am CET | Tuesday, February 9...   \n",
       "0  (unknown)\\n(12:00 pm CET | Tuesday, February 9...   \n",
       "1  (unknown)\\n(1:00 pm CET | Tuesday, February 9,...   \n",
       "2  (unknown)\\n(3:00 pm CET | Tuesday, February 9,...   \n",
       "3                                              ERROR   \n",
       "4  (unknown)\\n(5:00 pm CET | Tuesday, February 9,...   \n",
       "5  (unknown)\\n(6:00 pm CET | Tuesday, February 9,...   \n",
       "6  (unknown)\\n(7:00 pm CET | Tuesday, February 9,...   \n",
       "7  (unknown)\\n(8:00 pm CET | Tuesday, February 9,...   \n",
       "8  (unknown)\\n(9:00 pm CET | Tuesday, February 9,...   \n",
       "9  (unknown)\\n(10:00 pm CET | Tuesday, February 9...   \n",
       "0  (unknown)\\n(10:00 am CET | Wednesday, February...   \n",
       "1  (unknown)\\n(11:00 am CET | Wednesday, February...   \n",
       "2  (unknown)\\n(12:00 pm CET | Wednesday, February...   \n",
       "3  (unknown)\\n(1:00 pm CET | Wednesday, February ...   \n",
       "4  (unknown)\\n(2:00 pm CET | Wednesday, February ...   \n",
       "5  (unknown)\\n(3:00 pm CET | Wednesday, February ...   \n",
       "6  (unknown)\\n(4:00 pm CET | Wednesday, February ...   \n",
       "7  (unknown)\\n(5:00 pm CET | Wednesday, February ...   \n",
       "8  (unknown)\\n(6:00 pm CET | Wednesday, February ...   \n",
       "9  (unknown)\\n(7:00 pm CET | Wednesday, February ...   \n",
       "0  (unknown)\\n(8:00 pm CET | Wednesday, February ...   \n",
       "1  (unknown)\\n(9:00 pm CET | Wednesday, February ...   \n",
       "2  (unknown)\\n(10:00 pm CET | Wednesday, February...   \n",
       "3  (unknown)\\n(11:00 pm CET | Wednesday, February...   \n",
       "4  (unknown)\\n(1:00 am CEST | Sunday, March 28, 2...   \n",
       "2                                              ERROR   \n",
       "\n",
       "                                        query  \\\n",
       "0   Moon Phase calculatorNovember 5, 2020 22h   \n",
       "0  Moon Phase calculatorNovember 16, 2020 19h   \n",
       "1  Moon Phase calculatorNovember 16, 2020 21h   \n",
       "2  Moon Phase calculatorDecember 15, 2020 21h   \n",
       "3   Moon Phase calculatorFebruary 8, 2021 17h   \n",
       "4   Moon Phase calculatorFebruary 8, 2021 18h   \n",
       "5   Moon Phase calculatorFebruary 8, 2021 19h   \n",
       "6   Moon Phase calculatorFebruary 8, 2021 20h   \n",
       "7    Moon Phase calculatorFebruary 9, 2021 9h   \n",
       "8   Moon Phase calculatorFebruary 9, 2021 10h   \n",
       "9   Moon Phase calculatorFebruary 9, 2021 11h   \n",
       "0   Moon Phase calculatorFebruary 9, 2021 12h   \n",
       "1   Moon Phase calculatorFebruary 9, 2021 13h   \n",
       "2   Moon Phase calculatorFebruary 9, 2021 15h   \n",
       "3   Moon Phase calculatorFebruary 9, 2021 16h   \n",
       "4   Moon Phase calculatorFebruary 9, 2021 17h   \n",
       "5   Moon Phase calculatorFebruary 9, 2021 18h   \n",
       "6   Moon Phase calculatorFebruary 9, 2021 19h   \n",
       "7   Moon Phase calculatorFebruary 9, 2021 20h   \n",
       "8   Moon Phase calculatorFebruary 9, 2021 21h   \n",
       "9   Moon Phase calculatorFebruary 9, 2021 22h   \n",
       "0  Moon Phase calculatorFebruary 10, 2021 10h   \n",
       "1  Moon Phase calculatorFebruary 10, 2021 11h   \n",
       "2  Moon Phase calculatorFebruary 10, 2021 12h   \n",
       "3  Moon Phase calculatorFebruary 10, 2021 13h   \n",
       "4  Moon Phase calculatorFebruary 10, 2021 14h   \n",
       "5  Moon Phase calculatorFebruary 10, 2021 15h   \n",
       "6  Moon Phase calculatorFebruary 10, 2021 16h   \n",
       "7  Moon Phase calculatorFebruary 10, 2021 17h   \n",
       "8  Moon Phase calculatorFebruary 10, 2021 18h   \n",
       "9  Moon Phase calculatorFebruary 10, 2021 19h   \n",
       "0  Moon Phase calculatorFebruary 10, 2021 20h   \n",
       "1  Moon Phase calculatorFebruary 10, 2021 21h   \n",
       "2  Moon Phase calculatorFebruary 10, 2021 22h   \n",
       "3  Moon Phase calculatorFebruary 10, 2021 23h   \n",
       "4      Moon Phase calculatorMarch 28, 2021 1h   \n",
       "2         Moon Phase calculatorMay 3, 2021 9h   \n",
       "\n",
       "                        Moon Phase calculator  \n",
       "0   | waning gibbous moon\\n76.55% illuminated  \n",
       "0   | waxing crescent moon\\n3.48% illuminated  \n",
       "1   | waxing crescent moon\\n3.86% illuminated  \n",
       "2   | waxing crescent moon\\n1.86% illuminated  \n",
       "3  | waning crescent moon\\n11.27% illuminated  \n",
       "4  | waning crescent moon\\n10.98% illuminated  \n",
       "5  | waning crescent moon\\n10.69% illuminated  \n",
       "6  | waning crescent moon\\n10.41% illuminated  \n",
       "7   | waning crescent moon\\n7.06% illuminated  \n",
       "8   | waning crescent moon\\n6.82% illuminated  \n",
       "9   | waning crescent moon\\n6.60% illuminated  \n",
       "0   | waning crescent moon\\n6.37% illuminated  \n",
       "1   | waning crescent moon\\n6.15% illuminated  \n",
       "2   | waning crescent moon\\n5.72% illuminated  \n",
       "3   | waning crescent moon\\n5.51% illuminated  \n",
       "4   | waning crescent moon\\n5.31% illuminated  \n",
       "5   | waning crescent moon\\n5.11% illuminated  \n",
       "6   | waning crescent moon\\n4.91% illuminated  \n",
       "7   | waning crescent moon\\n4.72% illuminated  \n",
       "8   | waning crescent moon\\n4.53% illuminated  \n",
       "9   | waning crescent moon\\n4.34% illuminated  \n",
       "0   | waning crescent moon\\n2.43% illuminated  \n",
       "1   | waning crescent moon\\n2.30% illuminated  \n",
       "2   | waning crescent moon\\n2.17% illuminated  \n",
       "3   | waning crescent moon\\n2.04% illuminated  \n",
       "4   | waning crescent moon\\n1.92% illuminated  \n",
       "5   | waning crescent moon\\n1.80% illuminated  \n",
       "6   | waning crescent moon\\n1.69% illuminated  \n",
       "7   | waning crescent moon\\n1.58% illuminated  \n",
       "8   | waning crescent moon\\n1.48% illuminated  \n",
       "9   | waning crescent moon\\n1.38% illuminated  \n",
       "0   | waning crescent moon\\n1.28% illuminated  \n",
       "1   | waning crescent moon\\n1.19% illuminated  \n",
       "2   | waning crescent moon\\n1.10% illuminated  \n",
       "3   | waning crescent moon\\n1.01% illuminated  \n",
       "4   | waxing gibbous moon\\n98.84% illuminated  \n",
       "2   | waning gibbous moon\\n55.86% illuminated  "
      ]
     },
     "execution_count": 6,
     "metadata": {},
     "output_type": "execute_result"
    }
   ],
   "source": [
    "print(df[df.isin([\"ERROR\"]).any(axis=1)].shape)\n",
    "df[df.isin([\"ERROR\"]).any(axis=1)]"
   ]
  },
  {
   "cell_type": "markdown",
   "metadata": {},
   "source": [
    "df['day'] = df['date'].map(lambda x: dt.datetime.date(x))\n",
    "df['day'].value_counts()"
   ]
  },
  {
   "cell_type": "markdown",
   "metadata": {},
   "source": [
    "#add lune to weather data\n",
    "#dico_d_m = {}\n",
    "for d in tqdm.tqdm(Daterange):\n",
    "    now_ = dt.datetime.now()\n",
    "    #dont get the data in advance\n",
    "    if d<now_:   \n",
    "        if d not in dico_d_m:\n",
    "            try:\n",
    "                query = 'Moon Phase calculator'+d.strftime('%B')+' '+str(d.day)+', '+str(d.year)+' '+str(d.hour)+'h'\n",
    "                res = client.query(query) \n",
    "                for t in res.results:\n",
    "                    dico_d_m[d] = t.text.strip('|').strip(' ')\n",
    "            except Exception as e:\n",
    "                print('ERROR')\n",
    "                print(e)\n",
    "#df['Moon Phase calculator'] = df['date'].map(lambda x: dico_d_m.get(x, 'ERROR'))\n",
    "#print(df[df['Moonphase']=='ERROR'].shape)\n",
    "df"
   ]
  },
  {
   "cell_type": "markdown",
   "metadata": {},
   "source": [
    "df = df.drop(['MoonName','Moon Phase calculator'],axis=1)"
   ]
  },
  {
   "cell_type": "markdown",
   "metadata": {},
   "source": [
    "# Process"
   ]
  },
  {
   "cell_type": "code",
   "execution_count": 7,
   "metadata": {},
   "outputs": [
    {
     "name": "stdout",
     "output_type": "stream",
     "text": [
      "(5157, 13)\n"
     ]
    },
    {
     "data": {
      "text/html": [
       "<div>\n",
       "<style scoped>\n",
       "    .dataframe tbody tr th:only-of-type {\n",
       "        vertical-align: middle;\n",
       "    }\n",
       "\n",
       "    .dataframe tbody tr th {\n",
       "        vertical-align: top;\n",
       "    }\n",
       "\n",
       "    .dataframe thead th {\n",
       "        text-align: right;\n",
       "    }\n",
       "</style>\n",
       "<table border=\"1\" class=\"dataframe\">\n",
       "  <thead>\n",
       "    <tr style=\"text-align: right;\">\n",
       "      <th></th>\n",
       "      <th>Timestamp</th>\n",
       "      <th>temperature</th>\n",
       "      <th>humidity</th>\n",
       "      <th>wind speed</th>\n",
       "      <th>Precipitation amount</th>\n",
       "      <th>query</th>\n",
       "      <th>Moon Phase calculator</th>\n",
       "      <th>date</th>\n",
       "      <th>hour</th>\n",
       "      <th>temperature_C</th>\n",
       "      <th>wind_speed_mpers</th>\n",
       "      <th>humidity_avgpercent</th>\n",
       "      <th>rain</th>\n",
       "    </tr>\n",
       "  </thead>\n",
       "  <tbody>\n",
       "    <tr>\n",
       "      <th>0</th>\n",
       "      <td>2020-09-29 00:00:00</td>\n",
       "      <td>10 °C\\n(12:00 am CEST | Tuesday, September 29,...</td>\n",
       "      <td>average: 100% (100%)\\n(12:00 am CEST | Tuesday...</td>\n",
       "      <td>2 m/s\\n(12:00 am CEST | Tuesday, September 29,...</td>\n",
       "      <td>rain\\n(12:00 am CEST | Tuesday, September 29, ...</td>\n",
       "      <td>Moon Phase calculatorSeptember 29, 2020 0h</td>\n",
       "      <td>| waxing gibbous moon\\n91.87% illuminated</td>\n",
       "      <td>2020-09-29</td>\n",
       "      <td>0</td>\n",
       "      <td>10</td>\n",
       "      <td>2</td>\n",
       "      <td>100</td>\n",
       "      <td>rain</td>\n",
       "    </tr>\n",
       "    <tr>\n",
       "      <th>1</th>\n",
       "      <td>2020-09-29 01:00:00</td>\n",
       "      <td>10 °C\\n(1:00 am CEST | Tuesday, September 29, ...</td>\n",
       "      <td>average: 100% (100%)\\n(1:00 am CEST | Tuesday,...</td>\n",
       "      <td>3 m/s\\n(1:00 am CEST | Tuesday, September 29, ...</td>\n",
       "      <td>rain\\n(1:00 am CEST | Tuesday, September 29, 2...</td>\n",
       "      <td>Moon Phase calculatorSeptember 29, 2020 1h</td>\n",
       "      <td>| waxing gibbous moon\\n92.09% illuminated</td>\n",
       "      <td>2020-09-29</td>\n",
       "      <td>1</td>\n",
       "      <td>10</td>\n",
       "      <td>3</td>\n",
       "      <td>100</td>\n",
       "      <td>rain</td>\n",
       "    </tr>\n",
       "    <tr>\n",
       "      <th>2</th>\n",
       "      <td>2020-09-29 02:00:00</td>\n",
       "      <td>10 °C\\n(2:00 am CEST | Tuesday, September 29, ...</td>\n",
       "      <td>average: 100% (100%)\\n(2:00 am CEST | Tuesday,...</td>\n",
       "      <td>3 m/s\\n(2:00 am CEST | Tuesday, September 29, ...</td>\n",
       "      <td>rain\\n(2:00 am CEST | Tuesday, September 29, 2...</td>\n",
       "      <td>Moon Phase calculatorSeptember 29, 2020 2h</td>\n",
       "      <td>| waxing gibbous moon\\n92.30% illuminated</td>\n",
       "      <td>2020-09-29</td>\n",
       "      <td>2</td>\n",
       "      <td>10</td>\n",
       "      <td>3</td>\n",
       "      <td>100</td>\n",
       "      <td>rain</td>\n",
       "    </tr>\n",
       "  </tbody>\n",
       "</table>\n",
       "</div>"
      ],
      "text/plain": [
       "            Timestamp                                        temperature  \\\n",
       "0 2020-09-29 00:00:00  10 °C\\n(12:00 am CEST | Tuesday, September 29,...   \n",
       "1 2020-09-29 01:00:00  10 °C\\n(1:00 am CEST | Tuesday, September 29, ...   \n",
       "2 2020-09-29 02:00:00  10 °C\\n(2:00 am CEST | Tuesday, September 29, ...   \n",
       "\n",
       "                                            humidity  \\\n",
       "0  average: 100% (100%)\\n(12:00 am CEST | Tuesday...   \n",
       "1  average: 100% (100%)\\n(1:00 am CEST | Tuesday,...   \n",
       "2  average: 100% (100%)\\n(2:00 am CEST | Tuesday,...   \n",
       "\n",
       "                                          wind speed  \\\n",
       "0  2 m/s\\n(12:00 am CEST | Tuesday, September 29,...   \n",
       "1  3 m/s\\n(1:00 am CEST | Tuesday, September 29, ...   \n",
       "2  3 m/s\\n(2:00 am CEST | Tuesday, September 29, ...   \n",
       "\n",
       "                                Precipitation amount  \\\n",
       "0  rain\\n(12:00 am CEST | Tuesday, September 29, ...   \n",
       "1  rain\\n(1:00 am CEST | Tuesday, September 29, 2...   \n",
       "2  rain\\n(2:00 am CEST | Tuesday, September 29, 2...   \n",
       "\n",
       "                                        query  \\\n",
       "0  Moon Phase calculatorSeptember 29, 2020 0h   \n",
       "1  Moon Phase calculatorSeptember 29, 2020 1h   \n",
       "2  Moon Phase calculatorSeptember 29, 2020 2h   \n",
       "\n",
       "                       Moon Phase calculator       date  hour  temperature_C  \\\n",
       "0  | waxing gibbous moon\\n91.87% illuminated 2020-09-29     0             10   \n",
       "1  | waxing gibbous moon\\n92.09% illuminated 2020-09-29     1             10   \n",
       "2  | waxing gibbous moon\\n92.30% illuminated 2020-09-29     2             10   \n",
       "\n",
       "   wind_speed_mpers  humidity_avgpercent  rain  \n",
       "0                 2                  100  rain  \n",
       "1                 3                  100  rain  \n",
       "2                 3                  100  rain  "
      ]
     },
     "execution_count": 7,
     "metadata": {},
     "output_type": "execute_result"
    }
   ],
   "source": [
    "#add weather as environemntal factor\n",
    "path_ = r'C:\\Users\\camil\\Desktop\\vm_exchange\\PhD_Data\\Weather'\n",
    "path_weather = os.path.join(path_,'weather.csv')\n",
    "df_weather = pd.read_csv(path_weather, sep=';', parse_dates=['date'])\n",
    "df_weather = df_weather.drop_duplicates(subset=None, keep='first', inplace=False)\n",
    "#remove excpetions\n",
    "x = ', 1, 0,  , °, C, \\n, (, 1, 2, :, 0, 0,  , a, m,  , C, E, T , | , F, r, i, d, a, y, ,,  , O, c, t, o, b, e, r,  , 3, 0, ,,  , 2, 0, 2, 0, ),'\n",
    "df_weather['temperature'] = df_weather['temperature'].replace(x, x.replace(', ',''))\n",
    "x = '3×10^0 m/s\\n(1:00 pm CET | Sunday, January 10, 2021)'\n",
    "df_weather['wind speed'] = df_weather['wind speed'].replace(x, 'ERROR')\n",
    "#remove the rows with at least one error\n",
    "df_weather = df_weather[~df_weather.isin([\"ERROR\"]).any(axis=1)]\n",
    "#date\n",
    "df_weather.rename(columns={'date':'Timestamp'}, inplace=True)\n",
    "df_weather['date'] = df_weather['Timestamp'].map(lambda x: dt.datetime(x.year,x.month,x.day))\n",
    "df_weather['hour'] = df_weather['Timestamp'].map(lambda x: x.hour)\n",
    "#add usefull variable\n",
    "df_weather['temperature_C'] = df_weather['temperature'].map(lambda x: int(x.split('\\n')[0].split(' ')[0]))\n",
    "df_weather['wind_speed_mpers'] = df_weather['wind speed'].map(lambda x: int(x.split('\\n')[0].split(' ')[0]))\n",
    "df_weather['humidity_avgpercent'] = df_weather['humidity'].map(lambda x: int(x.split('%')[0].split(' ')[-1].strip()))\n",
    "df_weather['rain'] = df_weather['Precipitation amount'].map(lambda x: x.split('\\n')[0])\n",
    "df_weather['rain'] = df_weather['rain'].replace('rain | snow','snow | rain')\n",
    "df_weather.to_csv(os.path.join(path_,'Weather_process.csv'), index=False, sep=';')\n",
    "print(df_weather.shape)\n",
    "df_weather.head(3)"
   ]
  },
  {
   "cell_type": "code",
   "execution_count": 8,
   "metadata": {},
   "outputs": [
    {
     "data": {
      "text/html": [
       "<div>\n",
       "<style scoped>\n",
       "    .dataframe tbody tr th:only-of-type {\n",
       "        vertical-align: middle;\n",
       "    }\n",
       "\n",
       "    .dataframe tbody tr th {\n",
       "        vertical-align: top;\n",
       "    }\n",
       "\n",
       "    .dataframe thead th {\n",
       "        text-align: right;\n",
       "    }\n",
       "</style>\n",
       "<table border=\"1\" class=\"dataframe\">\n",
       "  <thead>\n",
       "    <tr style=\"text-align: right;\">\n",
       "      <th></th>\n",
       "      <th>Timestamp</th>\n",
       "      <th>temperature</th>\n",
       "      <th>humidity</th>\n",
       "      <th>wind speed</th>\n",
       "      <th>Precipitation amount</th>\n",
       "      <th>query</th>\n",
       "      <th>Moon Phase calculator</th>\n",
       "      <th>date</th>\n",
       "      <th>hour</th>\n",
       "      <th>temperature_C</th>\n",
       "      <th>wind_speed_mpers</th>\n",
       "      <th>humidity_avgpercent</th>\n",
       "      <th>rain</th>\n",
       "      <th>MoonName</th>\n",
       "      <th>Illumination_percentage</th>\n",
       "      <th>croissant_decroissant</th>\n",
       "    </tr>\n",
       "  </thead>\n",
       "  <tbody>\n",
       "    <tr>\n",
       "      <th>0</th>\n",
       "      <td>2020-09-29 00:00:00</td>\n",
       "      <td>10 °C\\n(12:00 am CEST | Tuesday, September 29,...</td>\n",
       "      <td>average: 100% (100%)\\n(12:00 am CEST | Tuesday...</td>\n",
       "      <td>2 m/s\\n(12:00 am CEST | Tuesday, September 29,...</td>\n",
       "      <td>rain\\n(12:00 am CEST | Tuesday, September 29, ...</td>\n",
       "      <td>Moon Phase calculatorSeptember 29, 2020 0h</td>\n",
       "      <td>| waxing gibbous moon\\n91.87% illuminated</td>\n",
       "      <td>2020-09-29</td>\n",
       "      <td>0</td>\n",
       "      <td>10</td>\n",
       "      <td>2</td>\n",
       "      <td>100</td>\n",
       "      <td>rain</td>\n",
       "      <td>waxing gibbous moon</td>\n",
       "      <td>91.87</td>\n",
       "      <td>LC</td>\n",
       "    </tr>\n",
       "    <tr>\n",
       "      <th>1</th>\n",
       "      <td>2020-09-29 01:00:00</td>\n",
       "      <td>10 °C\\n(1:00 am CEST | Tuesday, September 29, ...</td>\n",
       "      <td>average: 100% (100%)\\n(1:00 am CEST | Tuesday,...</td>\n",
       "      <td>3 m/s\\n(1:00 am CEST | Tuesday, September 29, ...</td>\n",
       "      <td>rain\\n(1:00 am CEST | Tuesday, September 29, 2...</td>\n",
       "      <td>Moon Phase calculatorSeptember 29, 2020 1h</td>\n",
       "      <td>| waxing gibbous moon\\n92.09% illuminated</td>\n",
       "      <td>2020-09-29</td>\n",
       "      <td>1</td>\n",
       "      <td>10</td>\n",
       "      <td>3</td>\n",
       "      <td>100</td>\n",
       "      <td>rain</td>\n",
       "      <td>waxing gibbous moon</td>\n",
       "      <td>92.09</td>\n",
       "      <td>LC</td>\n",
       "    </tr>\n",
       "    <tr>\n",
       "      <th>2</th>\n",
       "      <td>2020-09-29 02:00:00</td>\n",
       "      <td>10 °C\\n(2:00 am CEST | Tuesday, September 29, ...</td>\n",
       "      <td>average: 100% (100%)\\n(2:00 am CEST | Tuesday,...</td>\n",
       "      <td>3 m/s\\n(2:00 am CEST | Tuesday, September 29, ...</td>\n",
       "      <td>rain\\n(2:00 am CEST | Tuesday, September 29, 2...</td>\n",
       "      <td>Moon Phase calculatorSeptember 29, 2020 2h</td>\n",
       "      <td>| waxing gibbous moon\\n92.30% illuminated</td>\n",
       "      <td>2020-09-29</td>\n",
       "      <td>2</td>\n",
       "      <td>10</td>\n",
       "      <td>3</td>\n",
       "      <td>100</td>\n",
       "      <td>rain</td>\n",
       "      <td>waxing gibbous moon</td>\n",
       "      <td>92.30</td>\n",
       "      <td>LC</td>\n",
       "    </tr>\n",
       "  </tbody>\n",
       "</table>\n",
       "</div>"
      ],
      "text/plain": [
       "            Timestamp                                        temperature  \\\n",
       "0 2020-09-29 00:00:00  10 °C\\n(12:00 am CEST | Tuesday, September 29,...   \n",
       "1 2020-09-29 01:00:00  10 °C\\n(1:00 am CEST | Tuesday, September 29, ...   \n",
       "2 2020-09-29 02:00:00  10 °C\\n(2:00 am CEST | Tuesday, September 29, ...   \n",
       "\n",
       "                                            humidity  \\\n",
       "0  average: 100% (100%)\\n(12:00 am CEST | Tuesday...   \n",
       "1  average: 100% (100%)\\n(1:00 am CEST | Tuesday,...   \n",
       "2  average: 100% (100%)\\n(2:00 am CEST | Tuesday,...   \n",
       "\n",
       "                                          wind speed  \\\n",
       "0  2 m/s\\n(12:00 am CEST | Tuesday, September 29,...   \n",
       "1  3 m/s\\n(1:00 am CEST | Tuesday, September 29, ...   \n",
       "2  3 m/s\\n(2:00 am CEST | Tuesday, September 29, ...   \n",
       "\n",
       "                                Precipitation amount  \\\n",
       "0  rain\\n(12:00 am CEST | Tuesday, September 29, ...   \n",
       "1  rain\\n(1:00 am CEST | Tuesday, September 29, 2...   \n",
       "2  rain\\n(2:00 am CEST | Tuesday, September 29, 2...   \n",
       "\n",
       "                                        query  \\\n",
       "0  Moon Phase calculatorSeptember 29, 2020 0h   \n",
       "1  Moon Phase calculatorSeptember 29, 2020 1h   \n",
       "2  Moon Phase calculatorSeptember 29, 2020 2h   \n",
       "\n",
       "                       Moon Phase calculator       date  hour  temperature_C  \\\n",
       "0  | waxing gibbous moon\\n91.87% illuminated 2020-09-29     0             10   \n",
       "1  | waxing gibbous moon\\n92.09% illuminated 2020-09-29     1             10   \n",
       "2  | waxing gibbous moon\\n92.30% illuminated 2020-09-29     2             10   \n",
       "\n",
       "   wind_speed_mpers  humidity_avgpercent  rain             MoonName  \\\n",
       "0                 2                  100  rain  waxing gibbous moon   \n",
       "1                 3                  100  rain  waxing gibbous moon   \n",
       "2                 3                  100  rain  waxing gibbous moon   \n",
       "\n",
       "   Illumination_percentage croissant_decroissant  \n",
       "0                    91.87                    LC  \n",
       "1                    92.09                    LC  \n",
       "2                    92.30                    LC  "
      ]
     },
     "execution_count": 8,
     "metadata": {},
     "output_type": "execute_result"
    }
   ],
   "source": [
    "df_weather['MoonName'] = df_weather['Moon Phase calculator'].map(lambda x: x.strip('|').strip(' ').split('\\n')[0] if x!='ERROR' else 'ERROR')\n",
    "df_weather['Illumination_percentage'] = df_weather['Moon Phase calculator'].map(lambda x: float(x.strip('|').strip(' ').split('\\n')[1].replace(' illuminated','').strip('%').strip(' ')) if x!='ERROR' else 'ERROR')\n",
    "#print(df['MoaonName'].value_counts())\n",
    "#df['Illumination_percentage'].value_counts()\n",
    "\n",
    "dico_CD = {'ERROR':'ERROR', \n",
    "           'first quarter moon':'LC', \n",
    "           'full moon':'Lchangement', \n",
    "           'last quarter moon':'DC',\n",
    "           'new moon':'Lchangement', \n",
    "           'waning crescent moon':'DC', \n",
    "           'waning gibbous moon':'DC',\n",
    "           'waxing crescent moon':'LC', \n",
    "           'waxing gibbous moon':'LC'}\n",
    "#it seems that the order of the events are as follow:\n",
    "#full moon, waning gibbous moon, last quarter moon, waning crescent moon, \n",
    "#new moon, waxing crescent moon, first quarter moon, waxing gibbous moon,\n",
    "#full moon,...\n",
    "#defintion: De la Nouvelle Lune (éclat minimum) à la Pleine Lune (éclat maximum) on dit que la Lune est Croissante car \n",
    "#sa partie éclairée grossit de jour en jour. De la Pleine Lune à la Nouvelle Lune, on dit que la Lune est Décroissante.\n",
    "df_weather['croissant_decroissant'] = df_weather['MoonName'].map(lambda x: dico_CD[x])\n",
    "#lucie ascendatne et descendante n'est pas indiqué ici.\n",
    "df_weather.head(3)"
   ]
  },
  {
   "cell_type": "code",
   "execution_count": 9,
   "metadata": {},
   "outputs": [
    {
     "data": {
      "text/plain": [
       "LC             2497\n",
       "DC             2382\n",
       "Lchangement     278\n",
       "Name: croissant_decroissant, dtype: int64"
      ]
     },
     "execution_count": 9,
     "metadata": {},
     "output_type": "execute_result"
    }
   ],
   "source": [
    "df_weather['croissant_decroissant'].value_counts()"
   ]
  },
  {
   "cell_type": "code",
   "execution_count": 10,
   "metadata": {},
   "outputs": [
    {
     "data": {
      "text/html": [
       "<div>\n",
       "<style scoped>\n",
       "    .dataframe tbody tr th:only-of-type {\n",
       "        vertical-align: middle;\n",
       "    }\n",
       "\n",
       "    .dataframe tbody tr th {\n",
       "        vertical-align: top;\n",
       "    }\n",
       "\n",
       "    .dataframe thead th {\n",
       "        text-align: right;\n",
       "    }\n",
       "</style>\n",
       "<table border=\"1\" class=\"dataframe\">\n",
       "  <thead>\n",
       "    <tr style=\"text-align: right;\">\n",
       "      <th></th>\n",
       "      <th>MoonName</th>\n",
       "      <th>Illumination_percentage</th>\n",
       "      <th>min_illumination</th>\n",
       "      <th>max_illumination</th>\n",
       "    </tr>\n",
       "  </thead>\n",
       "  <tbody>\n",
       "    <tr>\n",
       "      <th>0</th>\n",
       "      <td>first quarter moon</td>\n",
       "      <td>[44.7, 45.14, 45.58, 46.02, 46.46, 46.9, 47.34...</td>\n",
       "      <td>44.69</td>\n",
       "      <td>55.24</td>\n",
       "    </tr>\n",
       "    <tr>\n",
       "      <th>1</th>\n",
       "      <td>full moon</td>\n",
       "      <td>[99.74, 99.76, 99.78, 99.79, 99.81, 99.82, 99....</td>\n",
       "      <td>99.72</td>\n",
       "      <td>99.99</td>\n",
       "    </tr>\n",
       "    <tr>\n",
       "      <th>2</th>\n",
       "      <td>last quarter moon</td>\n",
       "      <td>[55.07, 54.65, 54.23, 53.81, 53.39, 52.96, 52....</td>\n",
       "      <td>44.73</td>\n",
       "      <td>55.22</td>\n",
       "    </tr>\n",
       "    <tr>\n",
       "      <th>3</th>\n",
       "      <td>new moon</td>\n",
       "      <td>[0.27, 0.23, 0.21, 0.18, 0.16, 0.15, 0.14, 0.1...</td>\n",
       "      <td>0.00</td>\n",
       "      <td>0.28</td>\n",
       "    </tr>\n",
       "    <tr>\n",
       "      <th>4</th>\n",
       "      <td>waning crescent moon</td>\n",
       "      <td>[44.38, 43.95, 43.51, 43.08, 42.65, 42.21, 41....</td>\n",
       "      <td>0.29</td>\n",
       "      <td>44.68</td>\n",
       "    </tr>\n",
       "    <tr>\n",
       "      <th>5</th>\n",
       "      <td>waning gibbous moon</td>\n",
       "      <td>[99.71, 99.68, 99.65, 99.61, 99.58, 99.54, 99....</td>\n",
       "      <td>55.34</td>\n",
       "      <td>99.72</td>\n",
       "    </tr>\n",
       "    <tr>\n",
       "      <th>6</th>\n",
       "      <td>waxing crescent moon</td>\n",
       "      <td>[0.32, 0.37, 0.42, 0.48, 0.54, 0.61, 0.68, 0.7...</td>\n",
       "      <td>0.28</td>\n",
       "      <td>44.64</td>\n",
       "    </tr>\n",
       "    <tr>\n",
       "      <th>7</th>\n",
       "      <td>waxing gibbous moon</td>\n",
       "      <td>[91.87, 92.09, 92.3, 92.51, 92.73, 92.93, 93.1...</td>\n",
       "      <td>55.34</td>\n",
       "      <td>99.71</td>\n",
       "    </tr>\n",
       "  </tbody>\n",
       "</table>\n",
       "</div>"
      ],
      "text/plain": [
       "               MoonName                            Illumination_percentage  \\\n",
       "0    first quarter moon  [44.7, 45.14, 45.58, 46.02, 46.46, 46.9, 47.34...   \n",
       "1             full moon  [99.74, 99.76, 99.78, 99.79, 99.81, 99.82, 99....   \n",
       "2     last quarter moon  [55.07, 54.65, 54.23, 53.81, 53.39, 52.96, 52....   \n",
       "3              new moon  [0.27, 0.23, 0.21, 0.18, 0.16, 0.15, 0.14, 0.1...   \n",
       "4  waning crescent moon  [44.38, 43.95, 43.51, 43.08, 42.65, 42.21, 41....   \n",
       "5   waning gibbous moon  [99.71, 99.68, 99.65, 99.61, 99.58, 99.54, 99....   \n",
       "6  waxing crescent moon  [0.32, 0.37, 0.42, 0.48, 0.54, 0.61, 0.68, 0.7...   \n",
       "7   waxing gibbous moon  [91.87, 92.09, 92.3, 92.51, 92.73, 92.93, 93.1...   \n",
       "\n",
       "   min_illumination  max_illumination  \n",
       "0             44.69             55.24  \n",
       "1             99.72             99.99  \n",
       "2             44.73             55.22  \n",
       "3              0.00              0.28  \n",
       "4              0.29             44.68  \n",
       "5             55.34             99.72  \n",
       "6              0.28             44.64  \n",
       "7             55.34             99.71  "
      ]
     },
     "execution_count": 10,
     "metadata": {},
     "output_type": "execute_result"
    }
   ],
   "source": [
    "#to get a general udnerstanding of the data\n",
    "df_moon = df_weather.groupby(['MoonName'])['Illumination_percentage'].agg(lambda x: list(x)).reset_index()\n",
    "df_moon['min_illumination'] = df_moon['Illumination_percentage'].map(lambda x: min(x) if x!='ERROR' else 'ERROR' )\n",
    "df_moon['max_illumination'] = df_moon['Illumination_percentage'].map(lambda x: max(x) if x!='ERROR' else 'ERROR' )\n",
    "df_moon"
   ]
  },
  {
   "cell_type": "code",
   "execution_count": 11,
   "metadata": {},
   "outputs": [
    {
     "data": {
      "text/plain": [
       "'Moon Phase calculatorSeptember 29, 2020 0h'"
      ]
     },
     "execution_count": 11,
     "metadata": {},
     "output_type": "execute_result"
    }
   ],
   "source": [
    "df_weather['query'].iloc[0]"
   ]
  },
  {
   "cell_type": "code",
   "execution_count": 12,
   "metadata": {},
   "outputs": [
    {
     "name": "stdout",
     "output_type": "stream",
     "text": [
      "(216, 6)\n"
     ]
    },
    {
     "data": {
      "text/html": [
       "<div>\n",
       "<style scoped>\n",
       "    .dataframe tbody tr th:only-of-type {\n",
       "        vertical-align: middle;\n",
       "    }\n",
       "\n",
       "    .dataframe tbody tr th {\n",
       "        vertical-align: top;\n",
       "    }\n",
       "\n",
       "    .dataframe thead th {\n",
       "        text-align: right;\n",
       "    }\n",
       "</style>\n",
       "<table border=\"1\" class=\"dataframe\">\n",
       "  <thead>\n",
       "    <tr style=\"text-align: right;\">\n",
       "      <th></th>\n",
       "      <th>date</th>\n",
       "      <th>temperature_C</th>\n",
       "      <th>humidity_avgpercent</th>\n",
       "      <th>had_rainorsnow</th>\n",
       "      <th>moon_name</th>\n",
       "      <th>Illumination_percentage</th>\n",
       "    </tr>\n",
       "  </thead>\n",
       "  <tbody>\n",
       "    <tr>\n",
       "      <th>0</th>\n",
       "      <td>2020-09-29</td>\n",
       "      <td>12.000</td>\n",
       "      <td>92.125</td>\n",
       "      <td>0</td>\n",
       "      <td>waxing gibbous moon</td>\n",
       "      <td>94.56625</td>\n",
       "    </tr>\n",
       "    <tr>\n",
       "      <th>1</th>\n",
       "      <td>2020-09-30</td>\n",
       "      <td>12.250</td>\n",
       "      <td>80.125</td>\n",
       "      <td>1</td>\n",
       "      <td>waxing gibbous moon</td>\n",
       "      <td>98.01625</td>\n",
       "    </tr>\n",
       "    <tr>\n",
       "      <th>2</th>\n",
       "      <td>2020-10-01</td>\n",
       "      <td>14.125</td>\n",
       "      <td>74.875</td>\n",
       "      <td>0</td>\n",
       "      <td>waxing gibbous moon</td>\n",
       "      <td>99.66250</td>\n",
       "    </tr>\n",
       "  </tbody>\n",
       "</table>\n",
       "</div>"
      ],
      "text/plain": [
       "        date  temperature_C  humidity_avgpercent  had_rainorsnow  \\\n",
       "0 2020-09-29         12.000               92.125               0   \n",
       "1 2020-09-30         12.250               80.125               1   \n",
       "2 2020-10-01         14.125               74.875               0   \n",
       "\n",
       "             moon_name  Illumination_percentage  \n",
       "0  waxing gibbous moon                 94.56625  \n",
       "1  waxing gibbous moon                 98.01625  \n",
       "2  waxing gibbous moon                 99.66250  "
      ]
     },
     "execution_count": 12,
     "metadata": {},
     "output_type": "execute_result"
    }
   ],
   "source": [
    "df_daily_weather = df_weather[df_weather['hour'].isin([10,11,12,13,14,15,16,17])].copy()\n",
    "df_daily_weather = df_daily_weather.groupby(['date']).agg(\n",
    "    temperature_C=pd.NamedAgg(column='temperature_C', aggfunc=lambda x: np.mean(x)),\n",
    "    humidity_avgpercent=pd.NamedAgg(column='humidity_avgpercent', aggfunc=lambda x: np.mean(x)),\n",
    "    had_rainorsnow=pd.NamedAgg(column='rain', aggfunc=lambda x: int(all([i=='no precipitation' for i in x]))),\n",
    "    moon_name=pd.NamedAgg(column='MoonName', aggfunc=lambda x: list(x)[0]),\n",
    "    Illumination_percentage=pd.NamedAgg(column='Illumination_percentage', aggfunc=lambda x: np.mean(x))).reset_index()\n",
    "df_daily_weather.to_csv(os.path.join(path_,'df_daily_weather.csv'), index=False, sep=';')\n",
    "print(df_daily_weather.shape)\n",
    "df_daily_weather.head(3)"
   ]
  },
  {
   "cell_type": "code",
   "execution_count": 13,
   "metadata": {},
   "outputs": [
    {
     "data": {
      "text/plain": [
       "had_rainorsnow\n",
       "0    82.183190\n",
       "1    66.759042\n",
       "Name: humidity_avgpercent, dtype: float64"
      ]
     },
     "execution_count": 13,
     "metadata": {},
     "output_type": "execute_result"
    }
   ],
   "source": [
    "df_daily_weather.groupby(['had_rainorsnow'])['humidity_avgpercent'].agg(lambda x: np.mean(x))"
   ]
  },
  {
   "cell_type": "code",
   "execution_count": null,
   "metadata": {},
   "outputs": [],
   "source": []
  },
  {
   "cell_type": "code",
   "execution_count": null,
   "metadata": {},
   "outputs": [],
   "source": []
  },
  {
   "cell_type": "code",
   "execution_count": null,
   "metadata": {},
   "outputs": [],
   "source": []
  },
  {
   "cell_type": "code",
   "execution_count": null,
   "metadata": {},
   "outputs": [],
   "source": []
  },
  {
   "cell_type": "code",
   "execution_count": null,
   "metadata": {},
   "outputs": [],
   "source": []
  },
  {
   "cell_type": "code",
   "execution_count": null,
   "metadata": {},
   "outputs": [],
   "source": []
  },
  {
   "cell_type": "code",
   "execution_count": null,
   "metadata": {},
   "outputs": [],
   "source": []
  },
  {
   "cell_type": "code",
   "execution_count": null,
   "metadata": {},
   "outputs": [],
   "source": []
  }
 ],
 "metadata": {
  "kernelspec": {
   "display_name": "Python 3",
   "language": "python",
   "name": "python3"
  },
  "language_info": {
   "codemirror_mode": {
    "name": "ipython",
    "version": 3
   },
   "file_extension": ".py",
   "mimetype": "text/x-python",
   "name": "python",
   "nbconvert_exporter": "python",
   "pygments_lexer": "ipython3",
   "version": "3.8.5"
  }
 },
 "nbformat": 4,
 "nbformat_minor": 2
}
