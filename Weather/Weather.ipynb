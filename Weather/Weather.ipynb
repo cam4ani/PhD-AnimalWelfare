{
 "cells": [
  {
   "cell_type": "code",
   "execution_count": 1,
   "metadata": {},
   "outputs": [],
   "source": [
    "#!pip install wolframalpha\n",
    "import datetime as dt\n",
    "import tqdm\n",
    "import os\n",
    "import pandas as pd\n",
    "import glob\n",
    "import numpy as np\n",
    "import sys\n",
    "\n",
    "import wolframalpha\n",
    "app_id = 'JU4PR2-E8JGQVLHXW'\n",
    "client = wolframalpha.Client(app_id)"
   ]
  },
  {
   "cell_type": "code",
   "execution_count": 2,
   "metadata": {},
   "outputs": [
    {
     "name": "stdout",
     "output_type": "stream",
     "text": [
      "3.8.5\n"
     ]
    }
   ],
   "source": [
    "from platform import python_version\n",
    "print(python_version())"
   ]
  },
  {
   "cell_type": "raw",
   "metadata": {},
   "source": [
    "To verify moon data:\n",
    "https://www.calendrier-lunaire.fr/calendrier/octobre-2020/\n",
    "https://www.pleine-lune.org/calendrier-lunaire-2020\n",
    "https://www.timeanddate.com/astronomy/moon/waning-crescent.html"
   ]
  },
  {
   "cell_type": "raw",
   "metadata": {},
   "source": [
    "#url parameter:\n",
    "#https://products.wolframalpha.com/simple-api/documentation/\n",
    "#http://api.wolframalpha.com/v2/query?appid=DEMO&input=population%20france&includepodid=Result\n",
    "http://api.wolframalpha.com/v2/query?appid=JU4PR2-E8JGQVLHXW&input=temperature%20Zollikofen&includepodid=Result"
   ]
  },
  {
   "cell_type": "markdown",
   "metadata": {},
   "source": [
    "#small example\n",
    "query = 'Precipitation amount in Zollikofen on October 6, 2020 1h'\n",
    "res = client.query(query)\n",
    "for t in res.results:\n",
    "    print(t.text)"
   ]
  },
  {
   "cell_type": "markdown",
   "metadata": {},
   "source": [
    "#small example\n",
    "query = 'Precipitation amount in Zollikofen '+d.strftime('%B')+' '+str(d.day)+', '+str(d.year)+' '+str(d.hour)+'h'\n",
    "res = client.query(query)\n",
    "for t in res.results:\n",
    "    print(t.text)"
   ]
  },
  {
   "cell_type": "markdown",
   "metadata": {},
   "source": [
    "#small example\n",
    "d = dt.datetime(2020,1,24,22,44,11)\n",
    "query = 'Moon Phase calculator'+d.strftime('%B')+' '+str(d.day)+', '+str(d.year)+' '+str(d.hour)+'h'\n",
    "res = client.query(query)\n",
    "r = ''\n",
    "for t in res.results:\n",
    "    print(t.text.strip('|').strip(' '))\n",
    "#for verification\n",
    "#https://www.pleine-lune.org/calendrier-lunaire-2020\n",
    "#res"
   ]
  },
  {
   "cell_type": "code",
   "execution_count": 3,
   "metadata": {},
   "outputs": [],
   "source": [
    "li_type = ['Precipitation amount', 'temperature', 'humidity', 'wind speed','Moon Phase calculator'] #pressure\n",
    "#path_ = r'D:\\vm_exchange\\PhD_Data\\Weather'\n",
    "path_ = r'C:\\Users\\camil\\Desktop\\vm_exchange\\PhD_Data\\Weather'"
   ]
  },
  {
   "cell_type": "code",
   "execution_count": 4,
   "metadata": {},
   "outputs": [
    {
     "name": "stdout",
     "output_type": "stream",
     "text": [
      "(6035, 7)\n",
      "We already have 6035 dates of weather\n",
      "(67, 7)\n"
     ]
    },
    {
     "data": {
      "text/html": [
       "<div>\n",
       "<style scoped>\n",
       "    .dataframe tbody tr th:only-of-type {\n",
       "        vertical-align: middle;\n",
       "    }\n",
       "\n",
       "    .dataframe tbody tr th {\n",
       "        vertical-align: top;\n",
       "    }\n",
       "\n",
       "    .dataframe thead th {\n",
       "        text-align: right;\n",
       "    }\n",
       "</style>\n",
       "<table border=\"1\" class=\"dataframe\">\n",
       "  <thead>\n",
       "    <tr style=\"text-align: right;\">\n",
       "      <th></th>\n",
       "      <th>date</th>\n",
       "      <th>temperature</th>\n",
       "      <th>humidity</th>\n",
       "      <th>wind speed</th>\n",
       "      <th>Precipitation amount</th>\n",
       "      <th>query</th>\n",
       "      <th>Moon Phase calculator</th>\n",
       "    </tr>\n",
       "  </thead>\n",
       "  <tbody>\n",
       "    <tr>\n",
       "      <th>5805</th>\n",
       "      <td>2020-11-05 22:00:00</td>\n",
       "      <td>8 °C\\n(10:00 pm CET | Thursday, November 5, 2020)</td>\n",
       "      <td>ERROR</td>\n",
       "      <td>1 m/s\\n(10:00 pm CET | Thursday, November 5, 2...</td>\n",
       "      <td>(unknown)\\n(10:00 pm CET | Thursday, November ...</td>\n",
       "      <td>Moon Phase calculatorNovember 5, 2020 22h</td>\n",
       "      <td>| waning gibbous moon\\n76.55% illuminated</td>\n",
       "    </tr>\n",
       "    <tr>\n",
       "      <th>5806</th>\n",
       "      <td>2020-11-16 19:00:00</td>\n",
       "      <td>7 °C\\n(7:00 pm CET | Monday, November 16, 2020)</td>\n",
       "      <td>ERROR</td>\n",
       "      <td>1 m/s\\n(7:00 pm CET | Monday, November 16, 2020)</td>\n",
       "      <td>(unknown)\\n(7:00 pm CET | Monday, November 16,...</td>\n",
       "      <td>Moon Phase calculatorNovember 16, 2020 19h</td>\n",
       "      <td>| waxing crescent moon\\n3.48% illuminated</td>\n",
       "    </tr>\n",
       "    <tr>\n",
       "      <th>5807</th>\n",
       "      <td>2020-11-16 21:00:00</td>\n",
       "      <td>5 °C\\n(9:00 pm CET | Monday, November 16, 2020)</td>\n",
       "      <td>ERROR</td>\n",
       "      <td>0 m/s\\n(9:00 pm CET | Monday, November 16, 2020)</td>\n",
       "      <td>(unknown)\\n(9:00 pm CET | Monday, November 16,...</td>\n",
       "      <td>Moon Phase calculatorNovember 16, 2020 21h</td>\n",
       "      <td>| waxing crescent moon\\n3.86% illuminated</td>\n",
       "    </tr>\n",
       "    <tr>\n",
       "      <th>5808</th>\n",
       "      <td>2020-12-15 21:00:00</td>\n",
       "      <td>4 °C\\n(9:00 pm CET | Tuesday, December 15, 2020)</td>\n",
       "      <td>ERROR</td>\n",
       "      <td>1 m/s\\n(9:00 pm CET | Tuesday, December 15, 2020)</td>\n",
       "      <td>(unknown)\\n(9:00 pm CET | Tuesday, December 15...</td>\n",
       "      <td>Moon Phase calculatorDecember 15, 2020 21h</td>\n",
       "      <td>| waxing crescent moon\\n1.86% illuminated</td>\n",
       "    </tr>\n",
       "    <tr>\n",
       "      <th>5809</th>\n",
       "      <td>2021-02-08 17:00:00</td>\n",
       "      <td>5 °C\\n(5:00 pm CET | Monday, February 8, 2021)</td>\n",
       "      <td>ERROR</td>\n",
       "      <td>5 m/s\\n(5:00 pm CET | Monday, February 8, 2021)</td>\n",
       "      <td>(unknown)\\n(5:00 pm CET | Monday, February 8, ...</td>\n",
       "      <td>Moon Phase calculatorFebruary 8, 2021 17h</td>\n",
       "      <td>| waning crescent moon\\n11.27% illuminated</td>\n",
       "    </tr>\n",
       "    <tr>\n",
       "      <th>...</th>\n",
       "      <td>...</td>\n",
       "      <td>...</td>\n",
       "      <td>...</td>\n",
       "      <td>...</td>\n",
       "      <td>...</td>\n",
       "      <td>...</td>\n",
       "      <td>...</td>\n",
       "    </tr>\n",
       "    <tr>\n",
       "      <th>5919</th>\n",
       "      <td>2021-06-02 15:00:00</td>\n",
       "      <td>ERROR</td>\n",
       "      <td>average: 51% (50 to 53%)\\n(3:00 pm CEST | Wedn...</td>\n",
       "      <td>ERROR</td>\n",
       "      <td>no precipitation\\n(3:00 pm CEST | Wednesday, J...</td>\n",
       "      <td>Moon Phase calculatorJune 2, 2021 15h</td>\n",
       "      <td>| last quarter moon\\n47.75% illuminated</td>\n",
       "    </tr>\n",
       "    <tr>\n",
       "      <th>5920</th>\n",
       "      <td>2021-06-02 16:00:00</td>\n",
       "      <td>ERROR</td>\n",
       "      <td>average: 51% (50 to 53%)\\n(4:00 pm CEST | Wedn...</td>\n",
       "      <td>ERROR</td>\n",
       "      <td>no precipitation\\n(4:00 pm CEST | Wednesday, J...</td>\n",
       "      <td>Moon Phase calculatorJune 2, 2021 16h</td>\n",
       "      <td>| last quarter moon\\n47.33% illuminated</td>\n",
       "    </tr>\n",
       "    <tr>\n",
       "      <th>5934</th>\n",
       "      <td>2021-06-03 06:00:00</td>\n",
       "      <td>15 °C\\n(6:00 am CEST | Thursday, June 3, 2021)</td>\n",
       "      <td>average: 100% (100%)\\n(6:00 am CEST | Thursday...</td>\n",
       "      <td>2 m/s\\n(6:00 am CEST | Thursday, June 3, 2021)</td>\n",
       "      <td>ERROR</td>\n",
       "      <td>Moon Phase calculatorJune 3, 2021 6h</td>\n",
       "      <td>| waning crescent moon\\n41.49% illuminated</td>\n",
       "    </tr>\n",
       "    <tr>\n",
       "      <th>5975</th>\n",
       "      <td>2021-06-04 23:00:00</td>\n",
       "      <td>15 °C\\n(11:00 pm CEST | Friday, June 4, 2021)</td>\n",
       "      <td>ERROR</td>\n",
       "      <td>2 m/s\\n(11:00 pm CEST | Friday, June 4, 2021)</td>\n",
       "      <td>rain\\n(11:00 pm CEST | Friday, June 4, 2021)</td>\n",
       "      <td>Moon Phase calculatorJune 4, 2021 23h</td>\n",
       "      <td>| waning crescent moon\\n25.75% illuminated</td>\n",
       "    </tr>\n",
       "    <tr>\n",
       "      <th>6030</th>\n",
       "      <td>2021-06-07 06:00:00</td>\n",
       "      <td>15 °C\\n(6:00 am CEST | Monday, June 7, 2021)</td>\n",
       "      <td>ERROR</td>\n",
       "      <td>0 m/s\\n(6:00 am CEST | Monday, June 7, 2021)</td>\n",
       "      <td>no precipitation\\n(6:00 am CEST | Monday, June...</td>\n",
       "      <td>Moon Phase calculatorJune 7, 2021 6h</td>\n",
       "      <td>| waning crescent moon\\n9.48% illuminated</td>\n",
       "    </tr>\n",
       "  </tbody>\n",
       "</table>\n",
       "<p>67 rows × 7 columns</p>\n",
       "</div>"
      ],
      "text/plain": [
       "                    date                                        temperature  \\\n",
       "5805 2020-11-05 22:00:00  8 °C\\n(10:00 pm CET | Thursday, November 5, 2020)   \n",
       "5806 2020-11-16 19:00:00    7 °C\\n(7:00 pm CET | Monday, November 16, 2020)   \n",
       "5807 2020-11-16 21:00:00    5 °C\\n(9:00 pm CET | Monday, November 16, 2020)   \n",
       "5808 2020-12-15 21:00:00   4 °C\\n(9:00 pm CET | Tuesday, December 15, 2020)   \n",
       "5809 2021-02-08 17:00:00     5 °C\\n(5:00 pm CET | Monday, February 8, 2021)   \n",
       "...                  ...                                                ...   \n",
       "5919 2021-06-02 15:00:00                                              ERROR   \n",
       "5920 2021-06-02 16:00:00                                              ERROR   \n",
       "5934 2021-06-03 06:00:00     15 °C\\n(6:00 am CEST | Thursday, June 3, 2021)   \n",
       "5975 2021-06-04 23:00:00      15 °C\\n(11:00 pm CEST | Friday, June 4, 2021)   \n",
       "6030 2021-06-07 06:00:00       15 °C\\n(6:00 am CEST | Monday, June 7, 2021)   \n",
       "\n",
       "                                               humidity  \\\n",
       "5805                                              ERROR   \n",
       "5806                                              ERROR   \n",
       "5807                                              ERROR   \n",
       "5808                                              ERROR   \n",
       "5809                                              ERROR   \n",
       "...                                                 ...   \n",
       "5919  average: 51% (50 to 53%)\\n(3:00 pm CEST | Wedn...   \n",
       "5920  average: 51% (50 to 53%)\\n(4:00 pm CEST | Wedn...   \n",
       "5934  average: 100% (100%)\\n(6:00 am CEST | Thursday...   \n",
       "5975                                              ERROR   \n",
       "6030                                              ERROR   \n",
       "\n",
       "                                             wind speed  \\\n",
       "5805  1 m/s\\n(10:00 pm CET | Thursday, November 5, 2...   \n",
       "5806   1 m/s\\n(7:00 pm CET | Monday, November 16, 2020)   \n",
       "5807   0 m/s\\n(9:00 pm CET | Monday, November 16, 2020)   \n",
       "5808  1 m/s\\n(9:00 pm CET | Tuesday, December 15, 2020)   \n",
       "5809    5 m/s\\n(5:00 pm CET | Monday, February 8, 2021)   \n",
       "...                                                 ...   \n",
       "5919                                              ERROR   \n",
       "5920                                              ERROR   \n",
       "5934     2 m/s\\n(6:00 am CEST | Thursday, June 3, 2021)   \n",
       "5975      2 m/s\\n(11:00 pm CEST | Friday, June 4, 2021)   \n",
       "6030       0 m/s\\n(6:00 am CEST | Monday, June 7, 2021)   \n",
       "\n",
       "                                   Precipitation amount  \\\n",
       "5805  (unknown)\\n(10:00 pm CET | Thursday, November ...   \n",
       "5806  (unknown)\\n(7:00 pm CET | Monday, November 16,...   \n",
       "5807  (unknown)\\n(9:00 pm CET | Monday, November 16,...   \n",
       "5808  (unknown)\\n(9:00 pm CET | Tuesday, December 15...   \n",
       "5809  (unknown)\\n(5:00 pm CET | Monday, February 8, ...   \n",
       "...                                                 ...   \n",
       "5919  no precipitation\\n(3:00 pm CEST | Wednesday, J...   \n",
       "5920  no precipitation\\n(4:00 pm CEST | Wednesday, J...   \n",
       "5934                                              ERROR   \n",
       "5975       rain\\n(11:00 pm CEST | Friday, June 4, 2021)   \n",
       "6030  no precipitation\\n(6:00 am CEST | Monday, June...   \n",
       "\n",
       "                                           query  \\\n",
       "5805   Moon Phase calculatorNovember 5, 2020 22h   \n",
       "5806  Moon Phase calculatorNovember 16, 2020 19h   \n",
       "5807  Moon Phase calculatorNovember 16, 2020 21h   \n",
       "5808  Moon Phase calculatorDecember 15, 2020 21h   \n",
       "5809   Moon Phase calculatorFebruary 8, 2021 17h   \n",
       "...                                          ...   \n",
       "5919       Moon Phase calculatorJune 2, 2021 15h   \n",
       "5920       Moon Phase calculatorJune 2, 2021 16h   \n",
       "5934        Moon Phase calculatorJune 3, 2021 6h   \n",
       "5975       Moon Phase calculatorJune 4, 2021 23h   \n",
       "6030        Moon Phase calculatorJune 7, 2021 6h   \n",
       "\n",
       "                           Moon Phase calculator  \n",
       "5805   | waning gibbous moon\\n76.55% illuminated  \n",
       "5806   | waxing crescent moon\\n3.48% illuminated  \n",
       "5807   | waxing crescent moon\\n3.86% illuminated  \n",
       "5808   | waxing crescent moon\\n1.86% illuminated  \n",
       "5809  | waning crescent moon\\n11.27% illuminated  \n",
       "...                                          ...  \n",
       "5919     | last quarter moon\\n47.75% illuminated  \n",
       "5920     | last quarter moon\\n47.33% illuminated  \n",
       "5934  | waning crescent moon\\n41.49% illuminated  \n",
       "5975  | waning crescent moon\\n25.75% illuminated  \n",
       "6030   | waning crescent moon\\n9.48% illuminated  \n",
       "\n",
       "[67 rows x 7 columns]"
      ]
     },
     "metadata": {},
     "output_type": "display_data"
    },
    {
     "name": "stdout",
     "output_type": "stream",
     "text": [
      "7369\n",
      "1401\n",
      "WARNING: to many calls to be completed these queries!\n",
      "You need 7005 new queries to complete this date interval\n",
      "(5968, 7)\n"
     ]
    },
    {
     "data": {
      "text/html": [
       "<div>\n",
       "<style scoped>\n",
       "    .dataframe tbody tr th:only-of-type {\n",
       "        vertical-align: middle;\n",
       "    }\n",
       "\n",
       "    .dataframe tbody tr th {\n",
       "        vertical-align: top;\n",
       "    }\n",
       "\n",
       "    .dataframe thead th {\n",
       "        text-align: right;\n",
       "    }\n",
       "</style>\n",
       "<table border=\"1\" class=\"dataframe\">\n",
       "  <thead>\n",
       "    <tr style=\"text-align: right;\">\n",
       "      <th></th>\n",
       "      <th>date</th>\n",
       "      <th>temperature</th>\n",
       "      <th>humidity</th>\n",
       "      <th>wind speed</th>\n",
       "      <th>Precipitation amount</th>\n",
       "      <th>query</th>\n",
       "      <th>Moon Phase calculator</th>\n",
       "    </tr>\n",
       "  </thead>\n",
       "  <tbody>\n",
       "    <tr>\n",
       "      <th>6029</th>\n",
       "      <td>2021-06-07 05:00:00</td>\n",
       "      <td>15 °C\\n(5:00 am CEST | Monday, June 7, 2021)</td>\n",
       "      <td>average: 100% (100%)\\n(5:00 am CEST | Monday, ...</td>\n",
       "      <td>1 m/s\\n(5:00 am CEST | Monday, June 7, 2021)</td>\n",
       "      <td>no precipitation\\n(5:00 am CEST | Monday, June...</td>\n",
       "      <td>Moon Phase calculatorJune 7, 2021 5h</td>\n",
       "      <td>| waning crescent moon\\n9.71% illuminated</td>\n",
       "    </tr>\n",
       "    <tr>\n",
       "      <th>6031</th>\n",
       "      <td>2021-06-07 07:00:00</td>\n",
       "      <td>16 °C\\n(7:00 am CEST | Monday, June 7, 2021)</td>\n",
       "      <td>average: 91% (88 to 94%)\\n(7:00 am CEST | Mond...</td>\n",
       "      <td>0 m/s\\n(7:00 am CEST | Monday, June 7, 2021)</td>\n",
       "      <td>no precipitation\\n(7:00 am CEST | Monday, June...</td>\n",
       "      <td>Moon Phase calculatorJune 7, 2021 7h</td>\n",
       "      <td>| waning crescent moon\\n9.25% illuminated</td>\n",
       "    </tr>\n",
       "    <tr>\n",
       "      <th>6032</th>\n",
       "      <td>2021-06-07 08:00:00</td>\n",
       "      <td>16 °C\\n(8:00 am CEST | Monday, June 7, 2021)</td>\n",
       "      <td>average: 94% (94%)\\n(8:00 am CEST | Monday, Ju...</td>\n",
       "      <td>1 m/s\\n(8:00 am CEST | Monday, June 7, 2021)</td>\n",
       "      <td>no precipitation\\n(8:00 am CEST | Monday, June...</td>\n",
       "      <td>Moon Phase calculatorJune 7, 2021 8h</td>\n",
       "      <td>| waning crescent moon\\n9.02% illuminated</td>\n",
       "    </tr>\n",
       "    <tr>\n",
       "      <th>6033</th>\n",
       "      <td>2021-06-07 09:00:00</td>\n",
       "      <td>16 °C\\n(9:00 am CEST | Monday, June 7, 2021)</td>\n",
       "      <td>average: 91% (88 to 94%)\\n(9:00 am CEST | Mond...</td>\n",
       "      <td>1 m/s\\n(9:00 am CEST | Monday, June 7, 2021)</td>\n",
       "      <td>no precipitation\\n(9:00 am CEST | Monday, June...</td>\n",
       "      <td>Moon Phase calculatorJune 7, 2021 9h</td>\n",
       "      <td>| waning crescent moon\\n8.80% illuminated</td>\n",
       "    </tr>\n",
       "    <tr>\n",
       "      <th>6034</th>\n",
       "      <td>2021-06-07 10:00:00</td>\n",
       "      <td>18 °C\\n(10:00 am CEST | Monday, June 7, 2021)</td>\n",
       "      <td>average: 77% (77%)\\n(10:00 am CEST | Monday, J...</td>\n",
       "      <td>1 m/s\\n(10:00 am CEST | Monday, June 7, 2021)</td>\n",
       "      <td>no precipitation\\n(10:00 am CEST | Monday, Jun...</td>\n",
       "      <td>Moon Phase calculatorJune 7, 2021 10h</td>\n",
       "      <td>| waning crescent moon\\n8.57% illuminated</td>\n",
       "    </tr>\n",
       "  </tbody>\n",
       "</table>\n",
       "</div>"
      ],
      "text/plain": [
       "                    date                                    temperature  \\\n",
       "6029 2021-06-07 05:00:00   15 °C\\n(5:00 am CEST | Monday, June 7, 2021)   \n",
       "6031 2021-06-07 07:00:00   16 °C\\n(7:00 am CEST | Monday, June 7, 2021)   \n",
       "6032 2021-06-07 08:00:00   16 °C\\n(8:00 am CEST | Monday, June 7, 2021)   \n",
       "6033 2021-06-07 09:00:00   16 °C\\n(9:00 am CEST | Monday, June 7, 2021)   \n",
       "6034 2021-06-07 10:00:00  18 °C\\n(10:00 am CEST | Monday, June 7, 2021)   \n",
       "\n",
       "                                               humidity  \\\n",
       "6029  average: 100% (100%)\\n(5:00 am CEST | Monday, ...   \n",
       "6031  average: 91% (88 to 94%)\\n(7:00 am CEST | Mond...   \n",
       "6032  average: 94% (94%)\\n(8:00 am CEST | Monday, Ju...   \n",
       "6033  average: 91% (88 to 94%)\\n(9:00 am CEST | Mond...   \n",
       "6034  average: 77% (77%)\\n(10:00 am CEST | Monday, J...   \n",
       "\n",
       "                                         wind speed  \\\n",
       "6029   1 m/s\\n(5:00 am CEST | Monday, June 7, 2021)   \n",
       "6031   0 m/s\\n(7:00 am CEST | Monday, June 7, 2021)   \n",
       "6032   1 m/s\\n(8:00 am CEST | Monday, June 7, 2021)   \n",
       "6033   1 m/s\\n(9:00 am CEST | Monday, June 7, 2021)   \n",
       "6034  1 m/s\\n(10:00 am CEST | Monday, June 7, 2021)   \n",
       "\n",
       "                                   Precipitation amount  \\\n",
       "6029  no precipitation\\n(5:00 am CEST | Monday, June...   \n",
       "6031  no precipitation\\n(7:00 am CEST | Monday, June...   \n",
       "6032  no precipitation\\n(8:00 am CEST | Monday, June...   \n",
       "6033  no precipitation\\n(9:00 am CEST | Monday, June...   \n",
       "6034  no precipitation\\n(10:00 am CEST | Monday, Jun...   \n",
       "\n",
       "                                      query  \\\n",
       "6029   Moon Phase calculatorJune 7, 2021 5h   \n",
       "6031   Moon Phase calculatorJune 7, 2021 7h   \n",
       "6032   Moon Phase calculatorJune 7, 2021 8h   \n",
       "6033   Moon Phase calculatorJune 7, 2021 9h   \n",
       "6034  Moon Phase calculatorJune 7, 2021 10h   \n",
       "\n",
       "                          Moon Phase calculator  \n",
       "6029  | waning crescent moon\\n9.71% illuminated  \n",
       "6031  | waning crescent moon\\n9.25% illuminated  \n",
       "6032  | waning crescent moon\\n9.02% illuminated  \n",
       "6033  | waning crescent moon\\n8.80% illuminated  \n",
       "6034  | waning crescent moon\\n8.57% illuminated  "
      ]
     },
     "execution_count": 4,
     "metadata": {},
     "output_type": "execute_result"
    }
   ],
   "source": [
    "mi = dt.datetime(2020,9,29)\n",
    "#ma = dt.datetime(2019,9,2)\n",
    "ma = dt.datetime(2021,8,2)\n",
    "df = pd.DataFrame(columns=['date', 'temperature', 'humidity', 'wind speed', 'Precipitation amount',\n",
    "                           'Moon Phase calculator','query']) #pressure\n",
    "path_weather = os.path.join(path_,'weather.csv')\n",
    "if len(glob.glob(path_weather))==1:\n",
    "    df = pd.read_csv(path_weather, sep=';', parse_dates=['date'])\n",
    "    #remove the last date, in case we stop in middle of the data to grab\n",
    "    #df = df[df['date']!=max(df['date'].unique())]\n",
    "    df = df.drop_duplicates(subset=None, keep='first', inplace=False)\n",
    "    print(df.shape)\n",
    "    print('We already have %d dates of weather'%df.shape[0])\n",
    "    #mi = max(mi, max(df['date'].tolist())) #not a good idea in case of errors as in that case we would like to try it again \n",
    "print(df[df.isin([\"ERROR\"]).any(axis=1)].shape)\n",
    "display(df[df.isin([\"ERROR\"]).any(axis=1)])\n",
    "df = df[~df.isin([\"ERROR\"]).any(axis=1)]\n",
    "#remove the rows with at least one error\n",
    "Daterange = pd.date_range(start=mi, end=ma, freq='H')   \n",
    "print(len(Daterange))\n",
    "Daterange = [d for d in Daterange if d not in df['date'].unique()]\n",
    "print(len(Daterange))\n",
    "if (len(Daterange)*len(li_type))>=2000:\n",
    "    print('WARNING: to many calls to be completed these queries!')\n",
    "print('You need %d new queries to complete this date interval'%(len(Daterange)*len(li_type)))\n",
    "df = df.sort_values(['date'])\n",
    "print(df.shape)\n",
    "df.tail(5)"
   ]
  },
  {
   "cell_type": "code",
   "execution_count": 5,
   "metadata": {
    "scrolled": true
   },
   "outputs": [
    {
     "name": "stderr",
     "output_type": "stream",
     "text": [
      "\r",
      "  0%|                                                                                         | 0/1401 [00:00<?, ?it/s]"
     ]
    },
    {
     "name": "stdout",
     "output_type": "stream",
     "text": [
      "QUERY:  Precipitation amount in Zollikofen November 5, 2020 22h\n",
      "QUERY:  temperature in Zollikofen November 5, 2020 22h\n",
      "QUERY:  humidity in Zollikofen November 5, 2020 22h\n",
      "ERROR: no data available-------------  humidity in Zollikofen November 5, 2020 22h\n",
      "ERROR:------------- name 'error' is not defined  ----------  humidity in Zollikofen November 5, 2020 22h\n",
      "QUERY:  wind speed in Zollikofen November 5, 2020 22h\n",
      "QUERY:  Moon Phase calculatorNovember 5, 2020 22h\n",
      "(5969, 7)\n"
     ]
    },
    {
     "data": {
      "text/html": [
       "<div>\n",
       "<style scoped>\n",
       "    .dataframe tbody tr th:only-of-type {\n",
       "        vertical-align: middle;\n",
       "    }\n",
       "\n",
       "    .dataframe tbody tr th {\n",
       "        vertical-align: top;\n",
       "    }\n",
       "\n",
       "    .dataframe thead th {\n",
       "        text-align: right;\n",
       "    }\n",
       "</style>\n",
       "<table border=\"1\" class=\"dataframe\">\n",
       "  <thead>\n",
       "    <tr style=\"text-align: right;\">\n",
       "      <th></th>\n",
       "      <th>date</th>\n",
       "      <th>temperature</th>\n",
       "      <th>humidity</th>\n",
       "      <th>wind speed</th>\n",
       "      <th>Precipitation amount</th>\n",
       "      <th>query</th>\n",
       "      <th>Moon Phase calculator</th>\n",
       "    </tr>\n",
       "  </thead>\n",
       "  <tbody>\n",
       "    <tr>\n",
       "      <th>6034</th>\n",
       "      <td>2021-06-07 10:00:00</td>\n",
       "      <td>18 °C\\n(10:00 am CEST | Monday, June 7, 2021)</td>\n",
       "      <td>average: 77% (77%)\\n(10:00 am CEST | Monday, J...</td>\n",
       "      <td>1 m/s\\n(10:00 am CEST | Monday, June 7, 2021)</td>\n",
       "      <td>no precipitation\\n(10:00 am CEST | Monday, Jun...</td>\n",
       "      <td>Moon Phase calculatorJune 7, 2021 10h</td>\n",
       "      <td>| waning crescent moon\\n8.57% illuminated</td>\n",
       "    </tr>\n",
       "    <tr>\n",
       "      <th>0</th>\n",
       "      <td>2020-11-05 22:00:00</td>\n",
       "      <td>8 °C\\n(10:00 pm CET | Thursday, November 5, 2020)</td>\n",
       "      <td>ERROR</td>\n",
       "      <td>1 m/s\\n(10:00 pm CET | Thursday, November 5, 2...</td>\n",
       "      <td>(unknown)\\n(10:00 pm CET | Thursday, November ...</td>\n",
       "      <td>Moon Phase calculatorNovember 5, 2020 22h</td>\n",
       "      <td>| waning gibbous moon\\n76.55% illuminated</td>\n",
       "    </tr>\n",
       "  </tbody>\n",
       "</table>\n",
       "</div>"
      ],
      "text/plain": [
       "                    date                                        temperature  \\\n",
       "6034 2021-06-07 10:00:00      18 °C\\n(10:00 am CEST | Monday, June 7, 2021)   \n",
       "0    2020-11-05 22:00:00  8 °C\\n(10:00 pm CET | Thursday, November 5, 2020)   \n",
       "\n",
       "                                               humidity  \\\n",
       "6034  average: 77% (77%)\\n(10:00 am CEST | Monday, J...   \n",
       "0                                                 ERROR   \n",
       "\n",
       "                                             wind speed  \\\n",
       "6034      1 m/s\\n(10:00 am CEST | Monday, June 7, 2021)   \n",
       "0     1 m/s\\n(10:00 pm CET | Thursday, November 5, 2...   \n",
       "\n",
       "                                   Precipitation amount  \\\n",
       "6034  no precipitation\\n(10:00 am CEST | Monday, Jun...   \n",
       "0     (unknown)\\n(10:00 pm CET | Thursday, November ...   \n",
       "\n",
       "                                          query  \\\n",
       "6034      Moon Phase calculatorJune 7, 2021 10h   \n",
       "0     Moon Phase calculatorNovember 5, 2020 22h   \n",
       "\n",
       "                          Moon Phase calculator  \n",
       "6034  | waning crescent moon\\n8.57% illuminated  \n",
       "0     | waning gibbous moon\\n76.55% illuminated  "
      ]
     },
     "metadata": {},
     "output_type": "display_data"
    },
    {
     "name": "stderr",
     "output_type": "stream",
     "text": [
      "\r",
      "  0%|                                                                               | 1/1401 [00:17<6:49:53, 17.57s/it]"
     ]
    },
    {
     "name": "stdout",
     "output_type": "stream",
     "text": [
      "QUERY:  Precipitation amount in Zollikofen November 16, 2020 19h\n",
      "QUERY:  temperature in Zollikofen November 16, 2020 19h\n",
      "QUERY:  humidity in Zollikofen November 16, 2020 19h\n",
      "ERROR: no data available-------------  humidity in Zollikofen November 16, 2020 19h\n",
      "ERROR:------------- name 'error' is not defined  ----------  humidity in Zollikofen November 16, 2020 19h\n",
      "QUERY:  wind speed in Zollikofen November 16, 2020 19h\n",
      "QUERY:  Moon Phase calculatorNovember 16, 2020 19h\n"
     ]
    },
    {
     "name": "stderr",
     "output_type": "stream",
     "text": [
      "\r",
      "  0%|                                                                               | 2/1401 [00:37<7:07:31, 18.34s/it]"
     ]
    },
    {
     "name": "stdout",
     "output_type": "stream",
     "text": [
      "QUERY:  Precipitation amount in Zollikofen November 16, 2020 21h\n",
      "QUERY:  temperature in Zollikofen November 16, 2020 21h\n",
      "QUERY:  humidity in Zollikofen November 16, 2020 21h\n",
      "ERROR: no data available-------------  humidity in Zollikofen November 16, 2020 21h\n",
      "ERROR:------------- name 'error' is not defined  ----------  humidity in Zollikofen November 16, 2020 21h\n",
      "QUERY:  wind speed in Zollikofen November 16, 2020 21h\n",
      "QUERY:  Moon Phase calculatorNovember 16, 2020 21h\n"
     ]
    },
    {
     "name": "stderr",
     "output_type": "stream",
     "text": [
      "\r",
      "  0%|▏                                                                              | 3/1401 [00:55<7:02:04, 18.11s/it]"
     ]
    },
    {
     "name": "stdout",
     "output_type": "stream",
     "text": [
      "QUERY:  Precipitation amount in Zollikofen December 15, 2020 21h\n",
      "QUERY:  temperature in Zollikofen December 15, 2020 21h\n",
      "QUERY:  humidity in Zollikofen December 15, 2020 21h\n",
      "ERROR: no data available-------------  humidity in Zollikofen December 15, 2020 21h\n",
      "ERROR:------------- name 'error' is not defined  ----------  humidity in Zollikofen December 15, 2020 21h\n",
      "QUERY:  wind speed in Zollikofen December 15, 2020 21h\n",
      "QUERY:  Moon Phase calculatorDecember 15, 2020 21h\n"
     ]
    },
    {
     "name": "stderr",
     "output_type": "stream",
     "text": [
      "\r",
      "  0%|▏                                                                              | 4/1401 [01:12<6:58:41, 17.98s/it]"
     ]
    },
    {
     "name": "stdout",
     "output_type": "stream",
     "text": [
      "QUERY:  Precipitation amount in Zollikofen February 8, 2021 17h\n",
      "QUERY:  temperature in Zollikofen February 8, 2021 17h\n",
      "QUERY:  humidity in Zollikofen February 8, 2021 17h\n",
      "ERROR: no data available-------------  humidity in Zollikofen February 8, 2021 17h\n",
      "ERROR:------------- name 'error' is not defined  ----------  humidity in Zollikofen February 8, 2021 17h\n",
      "QUERY:  wind speed in Zollikofen February 8, 2021 17h\n",
      "QUERY:  Moon Phase calculatorFebruary 8, 2021 17h\n"
     ]
    },
    {
     "name": "stderr",
     "output_type": "stream",
     "text": [
      "\r",
      "  0%|▎                                                                              | 5/1401 [01:31<7:00:39, 18.08s/it]"
     ]
    },
    {
     "name": "stdout",
     "output_type": "stream",
     "text": [
      "QUERY:  Precipitation amount in Zollikofen February 8, 2021 18h\n",
      "QUERY:  temperature in Zollikofen February 8, 2021 18h\n",
      "QUERY:  humidity in Zollikofen February 8, 2021 18h\n",
      "ERROR: no data available-------------  humidity in Zollikofen February 8, 2021 18h\n",
      "ERROR:------------- name 'error' is not defined  ----------  humidity in Zollikofen February 8, 2021 18h\n",
      "QUERY:  wind speed in Zollikofen February 8, 2021 18h\n",
      "QUERY:  Moon Phase calculatorFebruary 8, 2021 18h\n"
     ]
    },
    {
     "name": "stderr",
     "output_type": "stream",
     "text": [
      "\r",
      "  0%|▎                                                                              | 6/1401 [01:49<6:58:15, 17.99s/it]"
     ]
    },
    {
     "name": "stdout",
     "output_type": "stream",
     "text": [
      "QUERY:  Precipitation amount in Zollikofen February 8, 2021 19h\n",
      "QUERY:  temperature in Zollikofen February 8, 2021 19h\n",
      "QUERY:  humidity in Zollikofen February 8, 2021 19h\n",
      "ERROR: no data available-------------  humidity in Zollikofen February 8, 2021 19h\n",
      "ERROR:------------- name 'error' is not defined  ----------  humidity in Zollikofen February 8, 2021 19h\n",
      "QUERY:  wind speed in Zollikofen February 8, 2021 19h\n",
      "QUERY:  Moon Phase calculatorFebruary 8, 2021 19h\n"
     ]
    },
    {
     "name": "stderr",
     "output_type": "stream",
     "text": [
      "\r",
      "  0%|▍                                                                              | 7/1401 [02:05<6:48:19, 17.57s/it]"
     ]
    },
    {
     "name": "stdout",
     "output_type": "stream",
     "text": [
      "QUERY:  Precipitation amount in Zollikofen February 8, 2021 20h\n",
      "QUERY:  temperature in Zollikofen February 8, 2021 20h\n",
      "QUERY:  humidity in Zollikofen February 8, 2021 20h\n",
      "ERROR: no data available-------------  humidity in Zollikofen February 8, 2021 20h\n",
      "ERROR:------------- name 'error' is not defined  ----------  humidity in Zollikofen February 8, 2021 20h\n",
      "QUERY:  wind speed in Zollikofen February 8, 2021 20h\n",
      "QUERY:  Moon Phase calculatorFebruary 8, 2021 20h\n"
     ]
    },
    {
     "name": "stderr",
     "output_type": "stream",
     "text": [
      "\r",
      "  1%|▍                                                                              | 8/1401 [02:21<6:39:07, 17.19s/it]"
     ]
    },
    {
     "name": "stdout",
     "output_type": "stream",
     "text": [
      "QUERY:  Precipitation amount in Zollikofen February 9, 2021 9h\n",
      "QUERY:  temperature in Zollikofen February 9, 2021 9h\n",
      "QUERY:  humidity in Zollikofen February 9, 2021 9h\n",
      "ERROR: no data available-------------  humidity in Zollikofen February 9, 2021 9h\n",
      "ERROR:------------- name 'error' is not defined  ----------  humidity in Zollikofen February 9, 2021 9h\n",
      "QUERY:  wind speed in Zollikofen February 9, 2021 9h\n",
      "QUERY:  Moon Phase calculatorFebruary 9, 2021 9h\n"
     ]
    },
    {
     "name": "stderr",
     "output_type": "stream",
     "text": [
      "\r",
      "  1%|▌                                                                              | 9/1401 [02:39<6:42:59, 17.37s/it]"
     ]
    },
    {
     "name": "stdout",
     "output_type": "stream",
     "text": [
      "QUERY:  Precipitation amount in Zollikofen February 9, 2021 10h\n",
      "QUERY:  temperature in Zollikofen February 9, 2021 10h\n",
      "QUERY:  humidity in Zollikofen February 9, 2021 10h\n",
      "ERROR: no data available-------------  humidity in Zollikofen February 9, 2021 10h\n",
      "ERROR:------------- name 'error' is not defined  ----------  humidity in Zollikofen February 9, 2021 10h\n",
      "QUERY:  wind speed in Zollikofen February 9, 2021 10h\n",
      "QUERY:  Moon Phase calculatorFebruary 9, 2021 10h\n"
     ]
    },
    {
     "name": "stderr",
     "output_type": "stream",
     "text": [
      "\r",
      "  1%|▌                                                                             | 10/1401 [02:56<6:37:37, 17.15s/it]"
     ]
    },
    {
     "name": "stdout",
     "output_type": "stream",
     "text": [
      "QUERY:  Precipitation amount in Zollikofen February 9, 2021 11h\n",
      "QUERY:  temperature in Zollikofen February 9, 2021 11h\n",
      "QUERY:  humidity in Zollikofen February 9, 2021 11h\n",
      "ERROR: no data available-------------  humidity in Zollikofen February 9, 2021 11h\n",
      "ERROR:------------- name 'error' is not defined  ----------  humidity in Zollikofen February 9, 2021 11h\n",
      "QUERY:  wind speed in Zollikofen February 9, 2021 11h\n",
      "QUERY:  Moon Phase calculatorFebruary 9, 2021 11h\n",
      "(5979, 7)\n"
     ]
    },
    {
     "data": {
      "text/html": [
       "<div>\n",
       "<style scoped>\n",
       "    .dataframe tbody tr th:only-of-type {\n",
       "        vertical-align: middle;\n",
       "    }\n",
       "\n",
       "    .dataframe tbody tr th {\n",
       "        vertical-align: top;\n",
       "    }\n",
       "\n",
       "    .dataframe thead th {\n",
       "        text-align: right;\n",
       "    }\n",
       "</style>\n",
       "<table border=\"1\" class=\"dataframe\">\n",
       "  <thead>\n",
       "    <tr style=\"text-align: right;\">\n",
       "      <th></th>\n",
       "      <th>date</th>\n",
       "      <th>temperature</th>\n",
       "      <th>humidity</th>\n",
       "      <th>wind speed</th>\n",
       "      <th>Precipitation amount</th>\n",
       "      <th>query</th>\n",
       "      <th>Moon Phase calculator</th>\n",
       "    </tr>\n",
       "  </thead>\n",
       "  <tbody>\n",
       "    <tr>\n",
       "      <th>8</th>\n",
       "      <td>2021-02-09 10:00:00</td>\n",
       "      <td>0 °C\\n(10:00 am CET | Tuesday, February 9, 2021)</td>\n",
       "      <td>ERROR</td>\n",
       "      <td>1 m/s\\n(10:00 am CET | Tuesday, February 9, 2021)</td>\n",
       "      <td>(unknown)\\n(10:00 am CET | Tuesday, February 9...</td>\n",
       "      <td>Moon Phase calculatorFebruary 9, 2021 10h</td>\n",
       "      <td>| waning crescent moon\\n6.82% illuminated</td>\n",
       "    </tr>\n",
       "    <tr>\n",
       "      <th>9</th>\n",
       "      <td>2021-02-09 11:00:00</td>\n",
       "      <td>0 °C\\n(11:00 am CET | Tuesday, February 9, 2021)</td>\n",
       "      <td>ERROR</td>\n",
       "      <td>1 m/s\\n(11:00 am CET | Tuesday, February 9, 2021)</td>\n",
       "      <td>(unknown)\\n(11:00 am CET | Tuesday, February 9...</td>\n",
       "      <td>Moon Phase calculatorFebruary 9, 2021 11h</td>\n",
       "      <td>| waning crescent moon\\n6.60% illuminated</td>\n",
       "    </tr>\n",
       "  </tbody>\n",
       "</table>\n",
       "</div>"
      ],
      "text/plain": [
       "                 date                                       temperature  \\\n",
       "8 2021-02-09 10:00:00  0 °C\\n(10:00 am CET | Tuesday, February 9, 2021)   \n",
       "9 2021-02-09 11:00:00  0 °C\\n(11:00 am CET | Tuesday, February 9, 2021)   \n",
       "\n",
       "  humidity                                         wind speed  \\\n",
       "8    ERROR  1 m/s\\n(10:00 am CET | Tuesday, February 9, 2021)   \n",
       "9    ERROR  1 m/s\\n(11:00 am CET | Tuesday, February 9, 2021)   \n",
       "\n",
       "                                Precipitation amount  \\\n",
       "8  (unknown)\\n(10:00 am CET | Tuesday, February 9...   \n",
       "9  (unknown)\\n(11:00 am CET | Tuesday, February 9...   \n",
       "\n",
       "                                       query  \\\n",
       "8  Moon Phase calculatorFebruary 9, 2021 10h   \n",
       "9  Moon Phase calculatorFebruary 9, 2021 11h   \n",
       "\n",
       "                       Moon Phase calculator  \n",
       "8  | waning crescent moon\\n6.82% illuminated  \n",
       "9  | waning crescent moon\\n6.60% illuminated  "
      ]
     },
     "metadata": {},
     "output_type": "display_data"
    },
    {
     "name": "stderr",
     "output_type": "stream",
     "text": [
      "\r",
      "  1%|▌                                                                             | 11/1401 [03:14<6:40:33, 17.29s/it]"
     ]
    },
    {
     "name": "stdout",
     "output_type": "stream",
     "text": [
      "QUERY:  Precipitation amount in Zollikofen February 9, 2021 12h\n",
      "QUERY:  temperature in Zollikofen February 9, 2021 12h\n",
      "QUERY:  humidity in Zollikofen February 9, 2021 12h\n",
      "ERROR: no data available-------------  humidity in Zollikofen February 9, 2021 12h\n",
      "ERROR:------------- name 'error' is not defined  ----------  humidity in Zollikofen February 9, 2021 12h\n",
      "QUERY:  wind speed in Zollikofen February 9, 2021 12h\n",
      "QUERY:  Moon Phase calculatorFebruary 9, 2021 12h\n"
     ]
    },
    {
     "name": "stderr",
     "output_type": "stream",
     "text": [
      "\r",
      "  1%|▋                                                                             | 12/1401 [03:30<6:36:42, 17.14s/it]"
     ]
    },
    {
     "name": "stdout",
     "output_type": "stream",
     "text": [
      "QUERY:  Precipitation amount in Zollikofen February 9, 2021 13h\n",
      "QUERY:  temperature in Zollikofen February 9, 2021 13h\n",
      "QUERY:  humidity in Zollikofen February 9, 2021 13h\n",
      "ERROR: no data available-------------  humidity in Zollikofen February 9, 2021 13h\n",
      "ERROR:------------- name 'error' is not defined  ----------  humidity in Zollikofen February 9, 2021 13h\n",
      "QUERY:  wind speed in Zollikofen February 9, 2021 13h\n",
      "QUERY:  Moon Phase calculatorFebruary 9, 2021 13h\n"
     ]
    },
    {
     "name": "stderr",
     "output_type": "stream",
     "text": [
      "\r",
      "  1%|▋                                                                             | 13/1401 [03:48<6:41:34, 17.36s/it]"
     ]
    },
    {
     "name": "stdout",
     "output_type": "stream",
     "text": [
      "QUERY:  Precipitation amount in Zollikofen February 9, 2021 15h\n",
      "QUERY:  temperature in Zollikofen February 9, 2021 15h\n",
      "QUERY:  humidity in Zollikofen February 9, 2021 15h\n",
      "ERROR: no data available-------------  humidity in Zollikofen February 9, 2021 15h\n",
      "ERROR:------------- name 'error' is not defined  ----------  humidity in Zollikofen February 9, 2021 15h\n",
      "QUERY:  wind speed in Zollikofen February 9, 2021 15h\n",
      "QUERY:  Moon Phase calculatorFebruary 9, 2021 15h\n"
     ]
    },
    {
     "name": "stderr",
     "output_type": "stream",
     "text": [
      "\r",
      "  1%|▊                                                                             | 14/1401 [04:05<6:35:57, 17.13s/it]"
     ]
    },
    {
     "name": "stdout",
     "output_type": "stream",
     "text": [
      "QUERY:  Precipitation amount in Zollikofen February 9, 2021 16h\n",
      "QUERY:  temperature in Zollikofen February 9, 2021 16h\n",
      "QUERY:  humidity in Zollikofen February 9, 2021 16h\n",
      "ERROR: no data available-------------  humidity in Zollikofen February 9, 2021 16h\n",
      "ERROR:------------- name 'error' is not defined  ----------  humidity in Zollikofen February 9, 2021 16h\n",
      "QUERY:  wind speed in Zollikofen February 9, 2021 16h\n",
      "QUERY:  Moon Phase calculatorFebruary 9, 2021 16h\n"
     ]
    },
    {
     "name": "stderr",
     "output_type": "stream",
     "text": [
      "\r",
      "  1%|▊                                                                             | 15/1401 [04:22<6:35:28, 17.12s/it]"
     ]
    },
    {
     "name": "stdout",
     "output_type": "stream",
     "text": [
      "QUERY:  Precipitation amount in Zollikofen February 9, 2021 17h\n",
      "QUERY:  temperature in Zollikofen February 9, 2021 17h\n",
      "QUERY:  humidity in Zollikofen February 9, 2021 17h\n",
      "ERROR: no data available-------------  humidity in Zollikofen February 9, 2021 17h\n",
      "ERROR:------------- name 'error' is not defined  ----------  humidity in Zollikofen February 9, 2021 17h\n",
      "QUERY:  wind speed in Zollikofen February 9, 2021 17h\n",
      "QUERY:  Moon Phase calculatorFebruary 9, 2021 17h\n"
     ]
    },
    {
     "name": "stderr",
     "output_type": "stream",
     "text": [
      "\r",
      "  1%|▉                                                                             | 16/1401 [04:39<6:36:29, 17.18s/it]"
     ]
    },
    {
     "name": "stdout",
     "output_type": "stream",
     "text": [
      "QUERY:  Precipitation amount in Zollikofen February 9, 2021 18h\n",
      "QUERY:  temperature in Zollikofen February 9, 2021 18h\n",
      "QUERY:  humidity in Zollikofen February 9, 2021 18h\n",
      "ERROR: no data available-------------  humidity in Zollikofen February 9, 2021 18h\n",
      "ERROR:------------- name 'error' is not defined  ----------  humidity in Zollikofen February 9, 2021 18h\n",
      "QUERY:  wind speed in Zollikofen February 9, 2021 18h\n",
      "QUERY:  Moon Phase calculatorFebruary 9, 2021 18h\n"
     ]
    },
    {
     "name": "stderr",
     "output_type": "stream",
     "text": [
      "\r",
      "  1%|▉                                                                             | 17/1401 [04:56<6:35:41, 17.15s/it]"
     ]
    },
    {
     "name": "stdout",
     "output_type": "stream",
     "text": [
      "QUERY:  Precipitation amount in Zollikofen February 9, 2021 19h\n",
      "QUERY:  temperature in Zollikofen February 9, 2021 19h\n",
      "QUERY:  humidity in Zollikofen February 9, 2021 19h\n",
      "ERROR: no data available-------------  humidity in Zollikofen February 9, 2021 19h\n",
      "ERROR:------------- name 'error' is not defined  ----------  humidity in Zollikofen February 9, 2021 19h\n",
      "QUERY:  wind speed in Zollikofen February 9, 2021 19h\n",
      "QUERY:  Moon Phase calculatorFebruary 9, 2021 19h\n"
     ]
    },
    {
     "name": "stderr",
     "output_type": "stream",
     "text": [
      "\r",
      "  1%|█                                                                             | 18/1401 [05:17<6:59:05, 18.18s/it]"
     ]
    },
    {
     "name": "stdout",
     "output_type": "stream",
     "text": [
      "QUERY:  Precipitation amount in Zollikofen February 9, 2021 20h\n",
      "QUERY:  temperature in Zollikofen February 9, 2021 20h\n",
      "QUERY:  humidity in Zollikofen February 9, 2021 20h\n",
      "ERROR: no data available-------------  humidity in Zollikofen February 9, 2021 20h\n",
      "ERROR:------------- name 'error' is not defined  ----------  humidity in Zollikofen February 9, 2021 20h\n",
      "QUERY:  wind speed in Zollikofen February 9, 2021 20h\n",
      "QUERY:  Moon Phase calculatorFebruary 9, 2021 20h\n"
     ]
    },
    {
     "name": "stderr",
     "output_type": "stream",
     "text": [
      "\r",
      "  1%|█                                                                             | 19/1401 [05:37<7:13:58, 18.84s/it]"
     ]
    },
    {
     "name": "stdout",
     "output_type": "stream",
     "text": [
      "QUERY:  Precipitation amount in Zollikofen February 9, 2021 21h\n",
      "QUERY:  temperature in Zollikofen February 9, 2021 21h\n",
      "QUERY:  humidity in Zollikofen February 9, 2021 21h\n",
      "ERROR: no data available-------------  humidity in Zollikofen February 9, 2021 21h\n",
      "ERROR:------------- name 'error' is not defined  ----------  humidity in Zollikofen February 9, 2021 21h\n",
      "QUERY:  wind speed in Zollikofen February 9, 2021 21h\n",
      "QUERY:  Moon Phase calculatorFebruary 9, 2021 21h\n"
     ]
    },
    {
     "name": "stderr",
     "output_type": "stream",
     "text": [
      "\r",
      "  1%|█                                                                             | 20/1401 [05:58<7:27:04, 19.42s/it]"
     ]
    },
    {
     "name": "stdout",
     "output_type": "stream",
     "text": [
      "QUERY:  Precipitation amount in Zollikofen February 9, 2021 22h\n",
      "QUERY:  temperature in Zollikofen February 9, 2021 22h\n",
      "QUERY:  humidity in Zollikofen February 9, 2021 22h\n",
      "ERROR: no data available-------------  humidity in Zollikofen February 9, 2021 22h\n",
      "ERROR:------------- name 'error' is not defined  ----------  humidity in Zollikofen February 9, 2021 22h\n",
      "QUERY:  wind speed in Zollikofen February 9, 2021 22h\n",
      "QUERY:  Moon Phase calculatorFebruary 9, 2021 22h\n",
      "(5989, 7)\n"
     ]
    },
    {
     "data": {
      "text/html": [
       "<div>\n",
       "<style scoped>\n",
       "    .dataframe tbody tr th:only-of-type {\n",
       "        vertical-align: middle;\n",
       "    }\n",
       "\n",
       "    .dataframe tbody tr th {\n",
       "        vertical-align: top;\n",
       "    }\n",
       "\n",
       "    .dataframe thead th {\n",
       "        text-align: right;\n",
       "    }\n",
       "</style>\n",
       "<table border=\"1\" class=\"dataframe\">\n",
       "  <thead>\n",
       "    <tr style=\"text-align: right;\">\n",
       "      <th></th>\n",
       "      <th>date</th>\n",
       "      <th>temperature</th>\n",
       "      <th>humidity</th>\n",
       "      <th>wind speed</th>\n",
       "      <th>Precipitation amount</th>\n",
       "      <th>query</th>\n",
       "      <th>Moon Phase calculator</th>\n",
       "    </tr>\n",
       "  </thead>\n",
       "  <tbody>\n",
       "    <tr>\n",
       "      <th>8</th>\n",
       "      <td>2021-02-09 21:00:00</td>\n",
       "      <td>0 °C\\n(9:00 pm CET | Tuesday, February 9, 2021)</td>\n",
       "      <td>ERROR</td>\n",
       "      <td>4 m/s\\n(9:00 pm CET | Tuesday, February 9, 2021)</td>\n",
       "      <td>(unknown)\\n(9:00 pm CET | Tuesday, February 9,...</td>\n",
       "      <td>Moon Phase calculatorFebruary 9, 2021 21h</td>\n",
       "      <td>| waning crescent moon\\n4.53% illuminated</td>\n",
       "    </tr>\n",
       "    <tr>\n",
       "      <th>9</th>\n",
       "      <td>2021-02-09 22:00:00</td>\n",
       "      <td>0 °C\\n(10:00 pm CET | Tuesday, February 9, 2021)</td>\n",
       "      <td>ERROR</td>\n",
       "      <td>4 m/s\\n(10:00 pm CET | Tuesday, February 9, 2021)</td>\n",
       "      <td>(unknown)\\n(10:00 pm CET | Tuesday, February 9...</td>\n",
       "      <td>Moon Phase calculatorFebruary 9, 2021 22h</td>\n",
       "      <td>| waning crescent moon\\n4.34% illuminated</td>\n",
       "    </tr>\n",
       "  </tbody>\n",
       "</table>\n",
       "</div>"
      ],
      "text/plain": [
       "                 date                                       temperature  \\\n",
       "8 2021-02-09 21:00:00   0 °C\\n(9:00 pm CET | Tuesday, February 9, 2021)   \n",
       "9 2021-02-09 22:00:00  0 °C\\n(10:00 pm CET | Tuesday, February 9, 2021)   \n",
       "\n",
       "  humidity                                         wind speed  \\\n",
       "8    ERROR   4 m/s\\n(9:00 pm CET | Tuesday, February 9, 2021)   \n",
       "9    ERROR  4 m/s\\n(10:00 pm CET | Tuesday, February 9, 2021)   \n",
       "\n",
       "                                Precipitation amount  \\\n",
       "8  (unknown)\\n(9:00 pm CET | Tuesday, February 9,...   \n",
       "9  (unknown)\\n(10:00 pm CET | Tuesday, February 9...   \n",
       "\n",
       "                                       query  \\\n",
       "8  Moon Phase calculatorFebruary 9, 2021 21h   \n",
       "9  Moon Phase calculatorFebruary 9, 2021 22h   \n",
       "\n",
       "                       Moon Phase calculator  \n",
       "8  | waning crescent moon\\n4.53% illuminated  \n",
       "9  | waning crescent moon\\n4.34% illuminated  "
      ]
     },
     "metadata": {},
     "output_type": "display_data"
    },
    {
     "name": "stderr",
     "output_type": "stream",
     "text": [
      "\r",
      "  1%|█▏                                                                            | 21/1401 [06:19<7:35:46, 19.82s/it]"
     ]
    },
    {
     "name": "stdout",
     "output_type": "stream",
     "text": [
      "QUERY:  Precipitation amount in Zollikofen February 10, 2021 10h\n",
      "QUERY:  temperature in Zollikofen February 10, 2021 10h\n",
      "QUERY:  humidity in Zollikofen February 10, 2021 10h\n",
      "ERROR: no data available-------------  humidity in Zollikofen February 10, 2021 10h\n",
      "ERROR:------------- name 'error' is not defined  ----------  humidity in Zollikofen February 10, 2021 10h\n",
      "QUERY:  wind speed in Zollikofen February 10, 2021 10h\n",
      "QUERY:  Moon Phase calculatorFebruary 10, 2021 10h\n"
     ]
    },
    {
     "name": "stderr",
     "output_type": "stream",
     "text": [
      "\r",
      "  2%|█▏                                                                            | 22/1401 [06:39<7:41:49, 20.09s/it]"
     ]
    },
    {
     "name": "stdout",
     "output_type": "stream",
     "text": [
      "QUERY:  Precipitation amount in Zollikofen February 10, 2021 11h\n",
      "QUERY:  temperature in Zollikofen February 10, 2021 11h\n",
      "QUERY:  humidity in Zollikofen February 10, 2021 11h\n",
      "ERROR: no data available-------------  humidity in Zollikofen February 10, 2021 11h\n",
      "ERROR:------------- name 'error' is not defined  ----------  humidity in Zollikofen February 10, 2021 11h\n",
      "QUERY:  wind speed in Zollikofen February 10, 2021 11h\n",
      "QUERY:  Moon Phase calculatorFebruary 10, 2021 11h\n"
     ]
    },
    {
     "name": "stderr",
     "output_type": "stream",
     "text": [
      "\r",
      "  2%|█▎                                                                            | 23/1401 [07:00<7:43:14, 20.17s/it]"
     ]
    },
    {
     "name": "stdout",
     "output_type": "stream",
     "text": [
      "QUERY:  Precipitation amount in Zollikofen February 10, 2021 12h\n",
      "QUERY:  temperature in Zollikofen February 10, 2021 12h\n",
      "QUERY:  humidity in Zollikofen February 10, 2021 12h\n",
      "ERROR: no data available-------------  humidity in Zollikofen February 10, 2021 12h\n",
      "ERROR:------------- name 'error' is not defined  ----------  humidity in Zollikofen February 10, 2021 12h\n",
      "QUERY:  wind speed in Zollikofen February 10, 2021 12h\n",
      "QUERY:  Moon Phase calculatorFebruary 10, 2021 12h\n"
     ]
    },
    {
     "name": "stderr",
     "output_type": "stream",
     "text": [
      "\r",
      "  2%|█▎                                                                            | 24/1401 [07:22<7:54:26, 20.67s/it]"
     ]
    },
    {
     "name": "stdout",
     "output_type": "stream",
     "text": [
      "QUERY:  Precipitation amount in Zollikofen February 10, 2021 13h\n",
      "QUERY:  temperature in Zollikofen February 10, 2021 13h\n",
      "QUERY:  humidity in Zollikofen February 10, 2021 13h\n",
      "ERROR: no data available-------------  humidity in Zollikofen February 10, 2021 13h\n",
      "ERROR:------------- name 'error' is not defined  ----------  humidity in Zollikofen February 10, 2021 13h\n",
      "QUERY:  wind speed in Zollikofen February 10, 2021 13h\n",
      "QUERY:  Moon Phase calculatorFebruary 10, 2021 13h\n"
     ]
    },
    {
     "name": "stderr",
     "output_type": "stream",
     "text": [
      "\r",
      "  2%|█▍                                                                            | 25/1401 [07:42<7:54:51, 20.71s/it]"
     ]
    },
    {
     "name": "stdout",
     "output_type": "stream",
     "text": [
      "QUERY:  Precipitation amount in Zollikofen February 10, 2021 14h\n",
      "QUERY:  temperature in Zollikofen February 10, 2021 14h\n",
      "QUERY:  humidity in Zollikofen February 10, 2021 14h\n",
      "ERROR: no data available-------------  humidity in Zollikofen February 10, 2021 14h\n",
      "ERROR:------------- name 'error' is not defined  ----------  humidity in Zollikofen February 10, 2021 14h\n",
      "QUERY:  wind speed in Zollikofen February 10, 2021 14h\n",
      "QUERY:  Moon Phase calculatorFebruary 10, 2021 14h\n"
     ]
    },
    {
     "name": "stderr",
     "output_type": "stream",
     "text": [
      "\r",
      "  2%|█▍                                                                            | 26/1401 [08:03<7:51:34, 20.58s/it]"
     ]
    },
    {
     "name": "stdout",
     "output_type": "stream",
     "text": [
      "QUERY:  Precipitation amount in Zollikofen February 10, 2021 15h\n",
      "QUERY:  temperature in Zollikofen February 10, 2021 15h\n",
      "QUERY:  humidity in Zollikofen February 10, 2021 15h\n",
      "ERROR: no data available-------------  humidity in Zollikofen February 10, 2021 15h\n",
      "ERROR:------------- name 'error' is not defined  ----------  humidity in Zollikofen February 10, 2021 15h\n",
      "QUERY:  wind speed in Zollikofen February 10, 2021 15h\n",
      "QUERY:  Moon Phase calculatorFebruary 10, 2021 15h\n"
     ]
    },
    {
     "name": "stderr",
     "output_type": "stream",
     "text": [
      "\r",
      "  2%|█▌                                                                            | 27/1401 [08:24<7:57:34, 20.85s/it]"
     ]
    },
    {
     "name": "stdout",
     "output_type": "stream",
     "text": [
      "QUERY:  Precipitation amount in Zollikofen February 10, 2021 16h\n",
      "QUERY:  temperature in Zollikofen February 10, 2021 16h\n",
      "QUERY:  humidity in Zollikofen February 10, 2021 16h\n",
      "ERROR: no data available-------------  humidity in Zollikofen February 10, 2021 16h\n",
      "ERROR:------------- name 'error' is not defined  ----------  humidity in Zollikofen February 10, 2021 16h\n",
      "QUERY:  wind speed in Zollikofen February 10, 2021 16h\n",
      "QUERY:  Moon Phase calculatorFebruary 10, 2021 16h\n"
     ]
    },
    {
     "name": "stderr",
     "output_type": "stream",
     "text": [
      "\r",
      "  2%|█▌                                                                            | 28/1401 [08:44<7:49:03, 20.50s/it]"
     ]
    },
    {
     "name": "stdout",
     "output_type": "stream",
     "text": [
      "QUERY:  Precipitation amount in Zollikofen February 10, 2021 17h\n",
      "QUERY:  temperature in Zollikofen February 10, 2021 17h\n",
      "QUERY:  humidity in Zollikofen February 10, 2021 17h\n",
      "ERROR: no data available-------------  humidity in Zollikofen February 10, 2021 17h\n",
      "ERROR:------------- name 'error' is not defined  ----------  humidity in Zollikofen February 10, 2021 17h\n",
      "QUERY:  wind speed in Zollikofen February 10, 2021 17h\n",
      "QUERY:  Moon Phase calculatorFebruary 10, 2021 17h\n"
     ]
    },
    {
     "name": "stderr",
     "output_type": "stream",
     "text": [
      "\r",
      "  2%|█▌                                                                            | 29/1401 [09:04<7:49:17, 20.52s/it]"
     ]
    },
    {
     "name": "stdout",
     "output_type": "stream",
     "text": [
      "QUERY:  Precipitation amount in Zollikofen February 10, 2021 18h\n",
      "QUERY:  temperature in Zollikofen February 10, 2021 18h\n",
      "QUERY:  humidity in Zollikofen February 10, 2021 18h\n",
      "ERROR: no data available-------------  humidity in Zollikofen February 10, 2021 18h\n",
      "ERROR:------------- name 'error' is not defined  ----------  humidity in Zollikofen February 10, 2021 18h\n",
      "QUERY:  wind speed in Zollikofen February 10, 2021 18h\n",
      "QUERY:  Moon Phase calculatorFebruary 10, 2021 18h\n"
     ]
    },
    {
     "name": "stderr",
     "output_type": "stream",
     "text": [
      "\r",
      "  2%|█▋                                                                            | 30/1401 [09:25<7:49:20, 20.54s/it]"
     ]
    },
    {
     "name": "stdout",
     "output_type": "stream",
     "text": [
      "QUERY:  Precipitation amount in Zollikofen February 10, 2021 19h\n",
      "QUERY:  temperature in Zollikofen February 10, 2021 19h\n",
      "QUERY:  humidity in Zollikofen February 10, 2021 19h\n",
      "ERROR: no data available-------------  humidity in Zollikofen February 10, 2021 19h\n",
      "ERROR:------------- name 'error' is not defined  ----------  humidity in Zollikofen February 10, 2021 19h\n",
      "QUERY:  wind speed in Zollikofen February 10, 2021 19h\n",
      "QUERY:  Moon Phase calculatorFebruary 10, 2021 19h\n",
      "(5999, 7)\n"
     ]
    },
    {
     "data": {
      "text/html": [
       "<div>\n",
       "<style scoped>\n",
       "    .dataframe tbody tr th:only-of-type {\n",
       "        vertical-align: middle;\n",
       "    }\n",
       "\n",
       "    .dataframe tbody tr th {\n",
       "        vertical-align: top;\n",
       "    }\n",
       "\n",
       "    .dataframe thead th {\n",
       "        text-align: right;\n",
       "    }\n",
       "</style>\n",
       "<table border=\"1\" class=\"dataframe\">\n",
       "  <thead>\n",
       "    <tr style=\"text-align: right;\">\n",
       "      <th></th>\n",
       "      <th>date</th>\n",
       "      <th>temperature</th>\n",
       "      <th>humidity</th>\n",
       "      <th>wind speed</th>\n",
       "      <th>Precipitation amount</th>\n",
       "      <th>query</th>\n",
       "      <th>Moon Phase calculator</th>\n",
       "    </tr>\n",
       "  </thead>\n",
       "  <tbody>\n",
       "    <tr>\n",
       "      <th>8</th>\n",
       "      <td>2021-02-10 18:00:00</td>\n",
       "      <td>-2 °C\\n(6:00 pm CET | Wednesday, February 10, ...</td>\n",
       "      <td>ERROR</td>\n",
       "      <td>3 m/s\\n(6:00 pm CET | Wednesday, February 10, ...</td>\n",
       "      <td>(unknown)\\n(6:00 pm CET | Wednesday, February ...</td>\n",
       "      <td>Moon Phase calculatorFebruary 10, 2021 18h</td>\n",
       "      <td>| waning crescent moon\\n1.48% illuminated</td>\n",
       "    </tr>\n",
       "    <tr>\n",
       "      <th>9</th>\n",
       "      <td>2021-02-10 19:00:00</td>\n",
       "      <td>-2 °C\\n(7:00 pm CET | Wednesday, February 10, ...</td>\n",
       "      <td>ERROR</td>\n",
       "      <td>4 m/s\\n(7:00 pm CET | Wednesday, February 10, ...</td>\n",
       "      <td>(unknown)\\n(7:00 pm CET | Wednesday, February ...</td>\n",
       "      <td>Moon Phase calculatorFebruary 10, 2021 19h</td>\n",
       "      <td>| waning crescent moon\\n1.38% illuminated</td>\n",
       "    </tr>\n",
       "  </tbody>\n",
       "</table>\n",
       "</div>"
      ],
      "text/plain": [
       "                 date                                        temperature  \\\n",
       "8 2021-02-10 18:00:00  -2 °C\\n(6:00 pm CET | Wednesday, February 10, ...   \n",
       "9 2021-02-10 19:00:00  -2 °C\\n(7:00 pm CET | Wednesday, February 10, ...   \n",
       "\n",
       "  humidity                                         wind speed  \\\n",
       "8    ERROR  3 m/s\\n(6:00 pm CET | Wednesday, February 10, ...   \n",
       "9    ERROR  4 m/s\\n(7:00 pm CET | Wednesday, February 10, ...   \n",
       "\n",
       "                                Precipitation amount  \\\n",
       "8  (unknown)\\n(6:00 pm CET | Wednesday, February ...   \n",
       "9  (unknown)\\n(7:00 pm CET | Wednesday, February ...   \n",
       "\n",
       "                                        query  \\\n",
       "8  Moon Phase calculatorFebruary 10, 2021 18h   \n",
       "9  Moon Phase calculatorFebruary 10, 2021 19h   \n",
       "\n",
       "                       Moon Phase calculator  \n",
       "8  | waning crescent moon\\n1.48% illuminated  \n",
       "9  | waning crescent moon\\n1.38% illuminated  "
      ]
     },
     "metadata": {},
     "output_type": "display_data"
    },
    {
     "name": "stderr",
     "output_type": "stream",
     "text": [
      "\r",
      "  2%|█▋                                                                            | 31/1401 [09:46<7:50:41, 20.61s/it]"
     ]
    },
    {
     "name": "stdout",
     "output_type": "stream",
     "text": [
      "QUERY:  Precipitation amount in Zollikofen February 10, 2021 20h\n",
      "QUERY:  temperature in Zollikofen February 10, 2021 20h\n",
      "QUERY:  humidity in Zollikofen February 10, 2021 20h\n",
      "ERROR: no data available-------------  humidity in Zollikofen February 10, 2021 20h\n",
      "ERROR:------------- name 'error' is not defined  ----------  humidity in Zollikofen February 10, 2021 20h\n",
      "QUERY:  wind speed in Zollikofen February 10, 2021 20h\n",
      "QUERY:  Moon Phase calculatorFebruary 10, 2021 20h\n"
     ]
    },
    {
     "name": "stderr",
     "output_type": "stream",
     "text": [
      "\r",
      "  2%|█▊                                                                            | 32/1401 [10:06<7:46:38, 20.45s/it]"
     ]
    },
    {
     "name": "stdout",
     "output_type": "stream",
     "text": [
      "QUERY:  Precipitation amount in Zollikofen February 10, 2021 21h\n",
      "QUERY:  temperature in Zollikofen February 10, 2021 21h\n",
      "QUERY:  humidity in Zollikofen February 10, 2021 21h\n",
      "ERROR: no data available-------------  humidity in Zollikofen February 10, 2021 21h\n",
      "ERROR:------------- name 'error' is not defined  ----------  humidity in Zollikofen February 10, 2021 21h\n",
      "QUERY:  wind speed in Zollikofen February 10, 2021 21h\n",
      "QUERY:  Moon Phase calculatorFebruary 10, 2021 21h\n"
     ]
    },
    {
     "name": "stderr",
     "output_type": "stream",
     "text": [
      "\r",
      "  2%|█▊                                                                            | 33/1401 [10:27<7:47:12, 20.49s/it]"
     ]
    },
    {
     "name": "stdout",
     "output_type": "stream",
     "text": [
      "QUERY:  Precipitation amount in Zollikofen February 10, 2021 22h\n",
      "QUERY:  temperature in Zollikofen February 10, 2021 22h\n",
      "QUERY:  humidity in Zollikofen February 10, 2021 22h\n",
      "ERROR: no data available-------------  humidity in Zollikofen February 10, 2021 22h\n",
      "ERROR:------------- name 'error' is not defined  ----------  humidity in Zollikofen February 10, 2021 22h\n",
      "QUERY:  wind speed in Zollikofen February 10, 2021 22h\n",
      "QUERY:  Moon Phase calculatorFebruary 10, 2021 22h\n"
     ]
    },
    {
     "name": "stderr",
     "output_type": "stream",
     "text": [
      "\r",
      "  2%|█▉                                                                            | 34/1401 [10:47<7:47:28, 20.52s/it]"
     ]
    },
    {
     "name": "stdout",
     "output_type": "stream",
     "text": [
      "QUERY:  Precipitation amount in Zollikofen February 10, 2021 23h\n",
      "QUERY:  temperature in Zollikofen February 10, 2021 23h\n",
      "QUERY:  humidity in Zollikofen February 10, 2021 23h\n",
      "ERROR: no data available-------------  humidity in Zollikofen February 10, 2021 23h\n",
      "ERROR:------------- name 'error' is not defined  ----------  humidity in Zollikofen February 10, 2021 23h\n",
      "QUERY:  wind speed in Zollikofen February 10, 2021 23h\n",
      "QUERY:  Moon Phase calculatorFebruary 10, 2021 23h\n"
     ]
    },
    {
     "name": "stderr",
     "output_type": "stream",
     "text": [
      "\r",
      "  2%|█▉                                                                            | 35/1401 [11:07<7:45:28, 20.45s/it]"
     ]
    },
    {
     "name": "stdout",
     "output_type": "stream",
     "text": [
      "QUERY:  Precipitation amount in Zollikofen March 28, 2021 1h\n",
      "QUERY:  temperature in Zollikofen March 28, 2021 1h\n",
      "QUERY:  humidity in Zollikofen March 28, 2021 1h\n",
      "ERROR: no data available-------------  humidity in Zollikofen March 28, 2021 1h\n",
      "ERROR:------------- name 'error' is not defined  ----------  humidity in Zollikofen March 28, 2021 1h\n",
      "QUERY:  wind speed in Zollikofen March 28, 2021 1h\n",
      "QUERY:  Moon Phase calculatorMarch 28, 2021 1h\n"
     ]
    },
    {
     "name": "stderr",
     "output_type": "stream",
     "text": [
      "\r",
      "  3%|██                                                                            | 36/1401 [11:27<7:41:54, 20.30s/it]"
     ]
    },
    {
     "name": "stdout",
     "output_type": "stream",
     "text": [
      "QUERY:  Precipitation amount in Zollikofen May 15, 2021 0h\n",
      "QUERY:  temperature in Zollikofen May 15, 2021 0h\n",
      "QUERY:  humidity in Zollikofen May 15, 2021 0h\n",
      "ERROR: no data available-------------  humidity in Zollikofen May 15, 2021 0h\n",
      "ERROR:------------- name 'error' is not defined  ----------  humidity in Zollikofen May 15, 2021 0h\n",
      "QUERY:  wind speed in Zollikofen May 15, 2021 0h\n",
      "QUERY:  Moon Phase calculatorMay 15, 2021 0h\n"
     ]
    },
    {
     "name": "stderr",
     "output_type": "stream",
     "text": [
      "\r",
      "  3%|██                                                                            | 37/1401 [11:49<7:47:39, 20.57s/it]"
     ]
    },
    {
     "name": "stdout",
     "output_type": "stream",
     "text": [
      "QUERY:  Precipitation amount in Zollikofen May 15, 2021 1h\n",
      "QUERY:  temperature in Zollikofen May 15, 2021 1h\n",
      "QUERY:  humidity in Zollikofen May 15, 2021 1h\n",
      "ERROR: no data available-------------  humidity in Zollikofen May 15, 2021 1h\n",
      "ERROR:------------- name 'error' is not defined  ----------  humidity in Zollikofen May 15, 2021 1h\n",
      "QUERY:  wind speed in Zollikofen May 15, 2021 1h\n",
      "QUERY:  Moon Phase calculatorMay 15, 2021 1h\n"
     ]
    },
    {
     "name": "stderr",
     "output_type": "stream",
     "text": [
      "\r",
      "  3%|██                                                                            | 38/1401 [12:09<7:49:29, 20.67s/it]"
     ]
    },
    {
     "name": "stdout",
     "output_type": "stream",
     "text": [
      "QUERY:  Precipitation amount in Zollikofen May 15, 2021 2h\n",
      "QUERY:  temperature in Zollikofen May 15, 2021 2h\n",
      "QUERY:  humidity in Zollikofen May 15, 2021 2h\n",
      "ERROR: no data available-------------  humidity in Zollikofen May 15, 2021 2h\n",
      "ERROR:------------- name 'error' is not defined  ----------  humidity in Zollikofen May 15, 2021 2h\n",
      "QUERY:  wind speed in Zollikofen May 15, 2021 2h\n",
      "QUERY:  Moon Phase calculatorMay 15, 2021 2h\n"
     ]
    },
    {
     "name": "stderr",
     "output_type": "stream",
     "text": [
      "\r",
      "  3%|██▏                                                                           | 39/1401 [12:31<7:56:55, 21.01s/it]"
     ]
    },
    {
     "name": "stdout",
     "output_type": "stream",
     "text": [
      "QUERY:  Precipitation amount in Zollikofen May 15, 2021 3h\n",
      "QUERY:  temperature in Zollikofen May 15, 2021 3h\n",
      "QUERY:  humidity in Zollikofen May 15, 2021 3h\n",
      "ERROR: no data available-------------  humidity in Zollikofen May 15, 2021 3h\n",
      "ERROR:------------- name 'error' is not defined  ----------  humidity in Zollikofen May 15, 2021 3h\n",
      "QUERY:  wind speed in Zollikofen May 15, 2021 3h\n",
      "QUERY:  Moon Phase calculatorMay 15, 2021 3h\n"
     ]
    },
    {
     "name": "stderr",
     "output_type": "stream",
     "text": [
      "\r",
      "  3%|██▏                                                                           | 40/1401 [12:53<8:01:20, 21.22s/it]"
     ]
    },
    {
     "name": "stdout",
     "output_type": "stream",
     "text": [
      "QUERY:  Precipitation amount in Zollikofen May 15, 2021 4h\n",
      "QUERY:  temperature in Zollikofen May 15, 2021 4h\n",
      "QUERY:  humidity in Zollikofen May 15, 2021 4h\n",
      "ERROR: no data available-------------  humidity in Zollikofen May 15, 2021 4h\n",
      "ERROR:------------- name 'error' is not defined  ----------  humidity in Zollikofen May 15, 2021 4h\n",
      "QUERY:  wind speed in Zollikofen May 15, 2021 4h\n",
      "QUERY:  Moon Phase calculatorMay 15, 2021 4h\n",
      "(6009, 7)\n"
     ]
    },
    {
     "data": {
      "text/html": [
       "<div>\n",
       "<style scoped>\n",
       "    .dataframe tbody tr th:only-of-type {\n",
       "        vertical-align: middle;\n",
       "    }\n",
       "\n",
       "    .dataframe tbody tr th {\n",
       "        vertical-align: top;\n",
       "    }\n",
       "\n",
       "    .dataframe thead th {\n",
       "        text-align: right;\n",
       "    }\n",
       "</style>\n",
       "<table border=\"1\" class=\"dataframe\">\n",
       "  <thead>\n",
       "    <tr style=\"text-align: right;\">\n",
       "      <th></th>\n",
       "      <th>date</th>\n",
       "      <th>temperature</th>\n",
       "      <th>humidity</th>\n",
       "      <th>wind speed</th>\n",
       "      <th>Precipitation amount</th>\n",
       "      <th>query</th>\n",
       "      <th>Moon Phase calculator</th>\n",
       "    </tr>\n",
       "  </thead>\n",
       "  <tbody>\n",
       "    <tr>\n",
       "      <th>8</th>\n",
       "      <td>2021-05-15 03:00:00</td>\n",
       "      <td>8 °C\\n(3:00 am CEST | Saturday, May 15, 2021)</td>\n",
       "      <td>ERROR</td>\n",
       "      <td>2 m/s\\n(3:00 am CEST | Saturday, May 15, 2021)</td>\n",
       "      <td>(unknown)\\n(3:00 am CEST | Saturday, May 15, 2...</td>\n",
       "      <td>Moon Phase calculatorMay 15, 2021 3h</td>\n",
       "      <td>| waxing crescent moon\\n9.26% illuminated</td>\n",
       "    </tr>\n",
       "    <tr>\n",
       "      <th>9</th>\n",
       "      <td>2021-05-15 04:00:00</td>\n",
       "      <td>8 °C\\n(4:00 am CEST | Saturday, May 15, 2021)</td>\n",
       "      <td>ERROR</td>\n",
       "      <td>2 m/s\\n(4:00 am CEST | Saturday, May 15, 2021)</td>\n",
       "      <td>(unknown)\\n(4:00 am CEST | Saturday, May 15, 2...</td>\n",
       "      <td>Moon Phase calculatorMay 15, 2021 4h</td>\n",
       "      <td>| waxing crescent moon\\n9.50% illuminated</td>\n",
       "    </tr>\n",
       "  </tbody>\n",
       "</table>\n",
       "</div>"
      ],
      "text/plain": [
       "                 date                                    temperature humidity  \\\n",
       "8 2021-05-15 03:00:00  8 °C\\n(3:00 am CEST | Saturday, May 15, 2021)    ERROR   \n",
       "9 2021-05-15 04:00:00  8 °C\\n(4:00 am CEST | Saturday, May 15, 2021)    ERROR   \n",
       "\n",
       "                                       wind speed  \\\n",
       "8  2 m/s\\n(3:00 am CEST | Saturday, May 15, 2021)   \n",
       "9  2 m/s\\n(4:00 am CEST | Saturday, May 15, 2021)   \n",
       "\n",
       "                                Precipitation amount  \\\n",
       "8  (unknown)\\n(3:00 am CEST | Saturday, May 15, 2...   \n",
       "9  (unknown)\\n(4:00 am CEST | Saturday, May 15, 2...   \n",
       "\n",
       "                                  query  \\\n",
       "8  Moon Phase calculatorMay 15, 2021 3h   \n",
       "9  Moon Phase calculatorMay 15, 2021 4h   \n",
       "\n",
       "                       Moon Phase calculator  \n",
       "8  | waxing crescent moon\\n9.26% illuminated  \n",
       "9  | waxing crescent moon\\n9.50% illuminated  "
      ]
     },
     "metadata": {},
     "output_type": "display_data"
    },
    {
     "name": "stderr",
     "output_type": "stream",
     "text": [
      "\r",
      "  3%|██▎                                                                           | 41/1401 [13:14<8:00:18, 21.19s/it]"
     ]
    },
    {
     "name": "stdout",
     "output_type": "stream",
     "text": [
      "QUERY:  Precipitation amount in Zollikofen May 15, 2021 5h\n",
      "QUERY:  temperature in Zollikofen May 15, 2021 5h\n",
      "QUERY:  humidity in Zollikofen May 15, 2021 5h\n",
      "ERROR: no data available-------------  humidity in Zollikofen May 15, 2021 5h\n",
      "ERROR:------------- name 'error' is not defined  ----------  humidity in Zollikofen May 15, 2021 5h\n",
      "QUERY:  wind speed in Zollikofen May 15, 2021 5h\n",
      "QUERY:  Moon Phase calculatorMay 15, 2021 5h\n"
     ]
    },
    {
     "name": "stderr",
     "output_type": "stream",
     "text": [
      "\r",
      "  3%|██▎                                                                           | 42/1401 [13:35<7:59:24, 21.17s/it]"
     ]
    },
    {
     "name": "stdout",
     "output_type": "stream",
     "text": [
      "QUERY:  Precipitation amount in Zollikofen May 15, 2021 6h\n",
      "QUERY:  temperature in Zollikofen May 15, 2021 6h\n",
      "QUERY:  humidity in Zollikofen May 15, 2021 6h\n",
      "ERROR: no data available-------------  humidity in Zollikofen May 15, 2021 6h\n",
      "ERROR:------------- name 'error' is not defined  ----------  humidity in Zollikofen May 15, 2021 6h\n",
      "QUERY:  wind speed in Zollikofen May 15, 2021 6h\n",
      "QUERY:  Moon Phase calculatorMay 15, 2021 6h\n"
     ]
    },
    {
     "name": "stderr",
     "output_type": "stream",
     "text": [
      "\r",
      "  3%|██▍                                                                           | 43/1401 [13:56<7:54:48, 20.98s/it]"
     ]
    },
    {
     "name": "stdout",
     "output_type": "stream",
     "text": [
      "QUERY:  Precipitation amount in Zollikofen May 15, 2021 7h\n",
      "QUERY:  temperature in Zollikofen May 15, 2021 7h\n",
      "QUERY:  humidity in Zollikofen May 15, 2021 7h\n",
      "ERROR: no data available-------------  humidity in Zollikofen May 15, 2021 7h\n",
      "ERROR:------------- name 'error' is not defined  ----------  humidity in Zollikofen May 15, 2021 7h\n",
      "QUERY:  wind speed in Zollikofen May 15, 2021 7h\n",
      "QUERY:  Moon Phase calculatorMay 15, 2021 7h\n"
     ]
    },
    {
     "name": "stderr",
     "output_type": "stream",
     "text": [
      "\r",
      "  3%|██▍                                                                           | 44/1401 [14:16<7:49:42, 20.77s/it]"
     ]
    },
    {
     "name": "stdout",
     "output_type": "stream",
     "text": [
      "QUERY:  Precipitation amount in Zollikofen May 15, 2021 8h\n",
      "QUERY:  temperature in Zollikofen May 15, 2021 8h\n",
      "QUERY:  humidity in Zollikofen May 15, 2021 8h\n",
      "ERROR: no data available-------------  humidity in Zollikofen May 15, 2021 8h\n",
      "ERROR:------------- name 'error' is not defined  ----------  humidity in Zollikofen May 15, 2021 8h\n",
      "QUERY:  wind speed in Zollikofen May 15, 2021 8h\n",
      "QUERY:  Moon Phase calculatorMay 15, 2021 8h\n"
     ]
    },
    {
     "name": "stderr",
     "output_type": "stream",
     "text": [
      "\r",
      "  3%|██▌                                                                           | 45/1401 [14:37<7:50:09, 20.80s/it]"
     ]
    },
    {
     "name": "stdout",
     "output_type": "stream",
     "text": [
      "QUERY:  Precipitation amount in Zollikofen May 15, 2021 9h\n",
      "QUERY:  temperature in Zollikofen May 15, 2021 9h\n",
      "QUERY:  humidity in Zollikofen May 15, 2021 9h\n",
      "ERROR: no data available-------------  humidity in Zollikofen May 15, 2021 9h\n",
      "ERROR:------------- name 'error' is not defined  ----------  humidity in Zollikofen May 15, 2021 9h\n",
      "QUERY:  wind speed in Zollikofen May 15, 2021 9h\n",
      "QUERY:  Moon Phase calculatorMay 15, 2021 9h\n"
     ]
    },
    {
     "name": "stderr",
     "output_type": "stream",
     "text": [
      "\r",
      "  3%|██▌                                                                           | 46/1401 [14:58<7:52:30, 20.92s/it]"
     ]
    },
    {
     "name": "stdout",
     "output_type": "stream",
     "text": [
      "QUERY:  Precipitation amount in Zollikofen May 15, 2021 10h\n",
      "QUERY:  temperature in Zollikofen May 15, 2021 10h\n",
      "QUERY:  humidity in Zollikofen May 15, 2021 10h\n",
      "ERROR: no data available-------------  humidity in Zollikofen May 15, 2021 10h\n",
      "ERROR:------------- name 'error' is not defined  ----------  humidity in Zollikofen May 15, 2021 10h\n",
      "QUERY:  wind speed in Zollikofen May 15, 2021 10h\n",
      "QUERY:  Moon Phase calculatorMay 15, 2021 10h\n"
     ]
    },
    {
     "name": "stderr",
     "output_type": "stream",
     "text": [
      "\r",
      "  3%|██▌                                                                           | 47/1401 [15:20<7:56:05, 21.10s/it]"
     ]
    },
    {
     "name": "stdout",
     "output_type": "stream",
     "text": [
      "QUERY:  Precipitation amount in Zollikofen May 15, 2021 11h\n",
      "QUERY:  temperature in Zollikofen May 15, 2021 11h\n",
      "QUERY:  humidity in Zollikofen May 15, 2021 11h\n",
      "ERROR: no data available-------------  humidity in Zollikofen May 15, 2021 11h\n",
      "ERROR:------------- name 'error' is not defined  ----------  humidity in Zollikofen May 15, 2021 11h\n",
      "QUERY:  wind speed in Zollikofen May 15, 2021 11h\n",
      "QUERY:  Moon Phase calculatorMay 15, 2021 11h\n"
     ]
    },
    {
     "name": "stderr",
     "output_type": "stream",
     "text": [
      "\r",
      "  3%|██▋                                                                           | 48/1401 [15:40<7:54:20, 21.03s/it]"
     ]
    },
    {
     "name": "stdout",
     "output_type": "stream",
     "text": [
      "QUERY:  Precipitation amount in Zollikofen May 15, 2021 12h\n",
      "QUERY:  temperature in Zollikofen May 15, 2021 12h\n",
      "QUERY:  humidity in Zollikofen May 15, 2021 12h\n",
      "ERROR: no data available-------------  humidity in Zollikofen May 15, 2021 12h\n",
      "ERROR:------------- name 'error' is not defined  ----------  humidity in Zollikofen May 15, 2021 12h\n",
      "QUERY:  wind speed in Zollikofen May 15, 2021 12h\n",
      "QUERY:  Moon Phase calculatorMay 15, 2021 12h\n"
     ]
    },
    {
     "name": "stderr",
     "output_type": "stream",
     "text": [
      "\r",
      "  3%|██▋                                                                           | 49/1401 [16:03<8:01:18, 21.36s/it]"
     ]
    },
    {
     "name": "stdout",
     "output_type": "stream",
     "text": [
      "QUERY:  Precipitation amount in Zollikofen May 15, 2021 13h\n",
      "QUERY:  temperature in Zollikofen May 15, 2021 13h\n",
      "QUERY:  humidity in Zollikofen May 15, 2021 13h\n",
      "ERROR: no data available-------------  humidity in Zollikofen May 15, 2021 13h\n",
      "ERROR:------------- name 'error' is not defined  ----------  humidity in Zollikofen May 15, 2021 13h\n",
      "QUERY:  wind speed in Zollikofen May 15, 2021 13h\n",
      "QUERY:  Moon Phase calculatorMay 15, 2021 13h\n"
     ]
    },
    {
     "name": "stderr",
     "output_type": "stream",
     "text": [
      "\r",
      "  4%|██▊                                                                           | 50/1401 [16:25<8:06:04, 21.59s/it]"
     ]
    },
    {
     "name": "stdout",
     "output_type": "stream",
     "text": [
      "QUERY:  Precipitation amount in Zollikofen May 15, 2021 14h\n",
      "QUERY:  temperature in Zollikofen May 15, 2021 14h\n",
      "QUERY:  humidity in Zollikofen May 15, 2021 14h\n",
      "ERROR: no data available-------------  humidity in Zollikofen May 15, 2021 14h\n",
      "ERROR:------------- name 'error' is not defined  ----------  humidity in Zollikofen May 15, 2021 14h\n",
      "QUERY:  wind speed in Zollikofen May 15, 2021 14h\n",
      "QUERY:  Moon Phase calculatorMay 15, 2021 14h\n",
      "(6019, 7)\n"
     ]
    },
    {
     "data": {
      "text/html": [
       "<div>\n",
       "<style scoped>\n",
       "    .dataframe tbody tr th:only-of-type {\n",
       "        vertical-align: middle;\n",
       "    }\n",
       "\n",
       "    .dataframe tbody tr th {\n",
       "        vertical-align: top;\n",
       "    }\n",
       "\n",
       "    .dataframe thead th {\n",
       "        text-align: right;\n",
       "    }\n",
       "</style>\n",
       "<table border=\"1\" class=\"dataframe\">\n",
       "  <thead>\n",
       "    <tr style=\"text-align: right;\">\n",
       "      <th></th>\n",
       "      <th>date</th>\n",
       "      <th>temperature</th>\n",
       "      <th>humidity</th>\n",
       "      <th>wind speed</th>\n",
       "      <th>Precipitation amount</th>\n",
       "      <th>query</th>\n",
       "      <th>Moon Phase calculator</th>\n",
       "    </tr>\n",
       "  </thead>\n",
       "  <tbody>\n",
       "    <tr>\n",
       "      <th>8</th>\n",
       "      <td>2021-05-15 13:00:00</td>\n",
       "      <td>8 °C\\n(1:00 pm CEST | Saturday, May 15, 2021)</td>\n",
       "      <td>ERROR</td>\n",
       "      <td>2 m/s\\n(1:00 pm CEST | Saturday, May 15, 2021)</td>\n",
       "      <td>(unknown)\\n(1:00 pm CEST | Saturday, May 15, 2...</td>\n",
       "      <td>Moon Phase calculatorMay 15, 2021 13h</td>\n",
       "      <td>| waxing crescent moon\\n11.72% illuminated</td>\n",
       "    </tr>\n",
       "    <tr>\n",
       "      <th>9</th>\n",
       "      <td>2021-05-15 14:00:00</td>\n",
       "      <td>8 °C\\n(2:00 pm CEST | Saturday, May 15, 2021)</td>\n",
       "      <td>ERROR</td>\n",
       "      <td>2 m/s\\n(2:00 pm CEST | Saturday, May 15, 2021)</td>\n",
       "      <td>(unknown)\\n(2:00 pm CEST | Saturday, May 15, 2...</td>\n",
       "      <td>Moon Phase calculatorMay 15, 2021 14h</td>\n",
       "      <td>| waxing crescent moon\\n11.98% illuminated</td>\n",
       "    </tr>\n",
       "  </tbody>\n",
       "</table>\n",
       "</div>"
      ],
      "text/plain": [
       "                 date                                    temperature humidity  \\\n",
       "8 2021-05-15 13:00:00  8 °C\\n(1:00 pm CEST | Saturday, May 15, 2021)    ERROR   \n",
       "9 2021-05-15 14:00:00  8 °C\\n(2:00 pm CEST | Saturday, May 15, 2021)    ERROR   \n",
       "\n",
       "                                       wind speed  \\\n",
       "8  2 m/s\\n(1:00 pm CEST | Saturday, May 15, 2021)   \n",
       "9  2 m/s\\n(2:00 pm CEST | Saturday, May 15, 2021)   \n",
       "\n",
       "                                Precipitation amount  \\\n",
       "8  (unknown)\\n(1:00 pm CEST | Saturday, May 15, 2...   \n",
       "9  (unknown)\\n(2:00 pm CEST | Saturday, May 15, 2...   \n",
       "\n",
       "                                   query  \\\n",
       "8  Moon Phase calculatorMay 15, 2021 13h   \n",
       "9  Moon Phase calculatorMay 15, 2021 14h   \n",
       "\n",
       "                        Moon Phase calculator  \n",
       "8  | waxing crescent moon\\n11.72% illuminated  \n",
       "9  | waxing crescent moon\\n11.98% illuminated  "
      ]
     },
     "metadata": {},
     "output_type": "display_data"
    },
    {
     "name": "stderr",
     "output_type": "stream",
     "text": [
      "\r",
      "  4%|██▊                                                                           | 51/1401 [16:47<8:12:24, 21.88s/it]"
     ]
    },
    {
     "name": "stdout",
     "output_type": "stream",
     "text": [
      "QUERY:  Precipitation amount in Zollikofen May 15, 2021 15h\n",
      "QUERY:  temperature in Zollikofen May 15, 2021 15h\n",
      "QUERY:  humidity in Zollikofen May 15, 2021 15h\n",
      "ERROR: no data available-------------  humidity in Zollikofen May 15, 2021 15h\n",
      "ERROR:------------- name 'error' is not defined  ----------  humidity in Zollikofen May 15, 2021 15h\n",
      "QUERY:  wind speed in Zollikofen May 15, 2021 15h\n",
      "QUERY:  Moon Phase calculatorMay 15, 2021 15h\n"
     ]
    },
    {
     "name": "stderr",
     "output_type": "stream",
     "text": [
      "\r",
      "  4%|██▉                                                                           | 52/1401 [17:09<8:10:32, 21.82s/it]"
     ]
    },
    {
     "name": "stdout",
     "output_type": "stream",
     "text": [
      "QUERY:  Precipitation amount in Zollikofen May 15, 2021 16h\n",
      "QUERY:  temperature in Zollikofen May 15, 2021 16h\n",
      "QUERY:  humidity in Zollikofen May 15, 2021 16h\n",
      "ERROR: no data available-------------  humidity in Zollikofen May 15, 2021 16h\n",
      "ERROR:------------- name 'error' is not defined  ----------  humidity in Zollikofen May 15, 2021 16h\n",
      "QUERY:  wind speed in Zollikofen May 15, 2021 16h\n",
      "QUERY:  Moon Phase calculatorMay 15, 2021 16h\n"
     ]
    },
    {
     "name": "stderr",
     "output_type": "stream",
     "text": [
      "\r",
      "  4%|██▉                                                                           | 53/1401 [17:31<8:10:07, 21.82s/it]"
     ]
    },
    {
     "name": "stdout",
     "output_type": "stream",
     "text": [
      "QUERY:  Precipitation amount in Zollikofen May 15, 2021 17h\n",
      "QUERY:  temperature in Zollikofen May 15, 2021 17h\n",
      "QUERY:  humidity in Zollikofen May 15, 2021 17h\n",
      "ERROR: no data available-------------  humidity in Zollikofen May 15, 2021 17h\n",
      "ERROR:------------- name 'error' is not defined  ----------  humidity in Zollikofen May 15, 2021 17h\n",
      "QUERY:  wind speed in Zollikofen May 15, 2021 17h\n",
      "QUERY:  Moon Phase calculatorMay 15, 2021 17h\n"
     ]
    },
    {
     "name": "stderr",
     "output_type": "stream",
     "text": [
      "\r",
      "  4%|███                                                                           | 54/1401 [17:52<8:07:16, 21.71s/it]"
     ]
    },
    {
     "name": "stdout",
     "output_type": "stream",
     "text": [
      "QUERY:  Precipitation amount in Zollikofen May 15, 2021 18h\n",
      "QUERY:  temperature in Zollikofen May 15, 2021 18h\n",
      "QUERY:  humidity in Zollikofen May 15, 2021 18h\n",
      "ERROR: no data available-------------  humidity in Zollikofen May 15, 2021 18h\n",
      "ERROR:------------- name 'error' is not defined  ----------  humidity in Zollikofen May 15, 2021 18h\n",
      "QUERY:  wind speed in Zollikofen May 15, 2021 18h\n",
      "QUERY:  Moon Phase calculatorMay 15, 2021 18h\n"
     ]
    },
    {
     "name": "stderr",
     "output_type": "stream",
     "text": [
      "\r",
      "  4%|███                                                                           | 55/1401 [18:14<8:07:19, 21.72s/it]"
     ]
    },
    {
     "name": "stdout",
     "output_type": "stream",
     "text": [
      "QUERY:  Precipitation amount in Zollikofen May 15, 2021 19h\n",
      "QUERY:  temperature in Zollikofen May 15, 2021 19h\n",
      "QUERY:  humidity in Zollikofen May 15, 2021 19h\n",
      "ERROR: no data available-------------  humidity in Zollikofen May 15, 2021 19h\n",
      "ERROR:------------- name 'error' is not defined  ----------  humidity in Zollikofen May 15, 2021 19h\n",
      "QUERY:  wind speed in Zollikofen May 15, 2021 19h\n",
      "QUERY:  Moon Phase calculatorMay 15, 2021 19h\n"
     ]
    },
    {
     "name": "stderr",
     "output_type": "stream",
     "text": [
      "\r",
      "  4%|███                                                                           | 56/1401 [18:36<8:07:32, 21.75s/it]"
     ]
    },
    {
     "name": "stdout",
     "output_type": "stream",
     "text": [
      "QUERY:  Precipitation amount in Zollikofen May 15, 2021 20h\n",
      "QUERY:  temperature in Zollikofen May 15, 2021 20h\n",
      "QUERY:  humidity in Zollikofen May 15, 2021 20h\n",
      "ERROR: no data available-------------  humidity in Zollikofen May 15, 2021 20h\n",
      "ERROR:------------- name 'error' is not defined  ----------  humidity in Zollikofen May 15, 2021 20h\n",
      "QUERY:  wind speed in Zollikofen May 15, 2021 20h\n",
      "QUERY:  Moon Phase calculatorMay 15, 2021 20h\n"
     ]
    },
    {
     "name": "stderr",
     "output_type": "stream",
     "text": [
      "\r",
      "  4%|███▏                                                                          | 57/1401 [18:57<8:03:29, 21.58s/it]"
     ]
    },
    {
     "name": "stdout",
     "output_type": "stream",
     "text": [
      "QUERY:  Precipitation amount in Zollikofen May 15, 2021 21h\n",
      "QUERY:  temperature in Zollikofen May 15, 2021 21h\n",
      "QUERY:  humidity in Zollikofen May 15, 2021 21h\n",
      "ERROR: no data available-------------  humidity in Zollikofen May 15, 2021 21h\n",
      "ERROR:------------- name 'error' is not defined  ----------  humidity in Zollikofen May 15, 2021 21h\n",
      "QUERY:  wind speed in Zollikofen May 15, 2021 21h\n",
      "QUERY:  Moon Phase calculatorMay 15, 2021 21h\n"
     ]
    },
    {
     "name": "stderr",
     "output_type": "stream",
     "text": [
      "\r",
      "  4%|███▏                                                                          | 58/1401 [19:18<8:02:35, 21.56s/it]"
     ]
    },
    {
     "name": "stdout",
     "output_type": "stream",
     "text": [
      "QUERY:  Precipitation amount in Zollikofen May 15, 2021 22h\n",
      "QUERY:  temperature in Zollikofen May 15, 2021 22h\n",
      "ERROR: no data available-------------  temperature in Zollikofen May 15, 2021 22h\n",
      "ERROR:------------- name 'error' is not defined  ----------  temperature in Zollikofen May 15, 2021 22h\n",
      "QUERY:  humidity in Zollikofen May 15, 2021 22h\n",
      "ERROR: no data available-------------  humidity in Zollikofen May 15, 2021 22h\n",
      "ERROR:------------- name 'error' is not defined  ----------  humidity in Zollikofen May 15, 2021 22h\n",
      "QUERY:  wind speed in Zollikofen May 15, 2021 22h\n",
      "ERROR: no data available-------------  wind speed in Zollikofen May 15, 2021 22h\n",
      "ERROR:------------- name 'error' is not defined  ----------  wind speed in Zollikofen May 15, 2021 22h\n",
      "QUERY:  Moon Phase calculatorMay 15, 2021 22h\n"
     ]
    },
    {
     "name": "stderr",
     "output_type": "stream",
     "text": [
      "\r",
      "  4%|███▎                                                                          | 59/1401 [19:40<8:03:55, 21.64s/it]"
     ]
    },
    {
     "name": "stdout",
     "output_type": "stream",
     "text": [
      "QUERY:  Precipitation amount in Zollikofen May 15, 2021 23h\n",
      "QUERY:  temperature in Zollikofen May 15, 2021 23h\n",
      "ERROR: no data available-------------  temperature in Zollikofen May 15, 2021 23h\n",
      "ERROR:------------- name 'error' is not defined  ----------  temperature in Zollikofen May 15, 2021 23h\n",
      "QUERY:  humidity in Zollikofen May 15, 2021 23h\n",
      "ERROR: no data available-------------  humidity in Zollikofen May 15, 2021 23h\n",
      "ERROR:------------- name 'error' is not defined  ----------  humidity in Zollikofen May 15, 2021 23h\n",
      "QUERY:  wind speed in Zollikofen May 15, 2021 23h\n",
      "ERROR: no data available-------------  wind speed in Zollikofen May 15, 2021 23h\n",
      "ERROR:------------- name 'error' is not defined  ----------  wind speed in Zollikofen May 15, 2021 23h\n",
      "QUERY:  Moon Phase calculatorMay 15, 2021 23h\n"
     ]
    },
    {
     "name": "stderr",
     "output_type": "stream",
     "text": [
      "\r",
      "  4%|███▎                                                                          | 60/1401 [20:02<8:04:43, 21.69s/it]"
     ]
    },
    {
     "name": "stdout",
     "output_type": "stream",
     "text": [
      "QUERY:  Precipitation amount in Zollikofen June 1, 2021 21h\n",
      "QUERY:  temperature in Zollikofen June 1, 2021 21h\n",
      "QUERY:  humidity in Zollikofen June 1, 2021 21h\n",
      "ERROR: no data available-------------  humidity in Zollikofen June 1, 2021 21h\n",
      "ERROR:------------- name 'error' is not defined  ----------  humidity in Zollikofen June 1, 2021 21h\n",
      "QUERY:  wind speed in Zollikofen June 1, 2021 21h\n",
      "QUERY:  Moon Phase calculatorJune 1, 2021 21h\n",
      "(6029, 7)\n"
     ]
    },
    {
     "data": {
      "text/html": [
       "<div>\n",
       "<style scoped>\n",
       "    .dataframe tbody tr th:only-of-type {\n",
       "        vertical-align: middle;\n",
       "    }\n",
       "\n",
       "    .dataframe tbody tr th {\n",
       "        vertical-align: top;\n",
       "    }\n",
       "\n",
       "    .dataframe thead th {\n",
       "        text-align: right;\n",
       "    }\n",
       "</style>\n",
       "<table border=\"1\" class=\"dataframe\">\n",
       "  <thead>\n",
       "    <tr style=\"text-align: right;\">\n",
       "      <th></th>\n",
       "      <th>date</th>\n",
       "      <th>temperature</th>\n",
       "      <th>humidity</th>\n",
       "      <th>wind speed</th>\n",
       "      <th>Precipitation amount</th>\n",
       "      <th>query</th>\n",
       "      <th>Moon Phase calculator</th>\n",
       "    </tr>\n",
       "  </thead>\n",
       "  <tbody>\n",
       "    <tr>\n",
       "      <th>8</th>\n",
       "      <td>2021-05-15 23:00:00</td>\n",
       "      <td>ERROR</td>\n",
       "      <td>ERROR</td>\n",
       "      <td>ERROR</td>\n",
       "      <td>(unknown)\\n(11:00 pm CEST | Saturday, May 15, ...</td>\n",
       "      <td>Moon Phase calculatorMay 15, 2021 23h</td>\n",
       "      <td>| waxing crescent moon\\n14.45% illuminated</td>\n",
       "    </tr>\n",
       "    <tr>\n",
       "      <th>9</th>\n",
       "      <td>2021-06-01 21:00:00</td>\n",
       "      <td>23 °C\\n(9:00 pm CEST | Tuesday, June 1, 2021)</td>\n",
       "      <td>ERROR</td>\n",
       "      <td>4 m/s\\n(9:00 pm CEST | Tuesday, June 1, 2021)</td>\n",
       "      <td>(unknown)\\n(9:00 pm CEST | Tuesday, June 1, 2021)</td>\n",
       "      <td>Moon Phase calculatorJune 1, 2021 21h</td>\n",
       "      <td>| waning gibbous moon\\n55.45% illuminated</td>\n",
       "    </tr>\n",
       "  </tbody>\n",
       "</table>\n",
       "</div>"
      ],
      "text/plain": [
       "                 date                                    temperature humidity  \\\n",
       "8 2021-05-15 23:00:00                                          ERROR    ERROR   \n",
       "9 2021-06-01 21:00:00  23 °C\\n(9:00 pm CEST | Tuesday, June 1, 2021)    ERROR   \n",
       "\n",
       "                                      wind speed  \\\n",
       "8                                          ERROR   \n",
       "9  4 m/s\\n(9:00 pm CEST | Tuesday, June 1, 2021)   \n",
       "\n",
       "                                Precipitation amount  \\\n",
       "8  (unknown)\\n(11:00 pm CEST | Saturday, May 15, ...   \n",
       "9  (unknown)\\n(9:00 pm CEST | Tuesday, June 1, 2021)   \n",
       "\n",
       "                                   query  \\\n",
       "8  Moon Phase calculatorMay 15, 2021 23h   \n",
       "9  Moon Phase calculatorJune 1, 2021 21h   \n",
       "\n",
       "                        Moon Phase calculator  \n",
       "8  | waxing crescent moon\\n14.45% illuminated  \n",
       "9   | waning gibbous moon\\n55.45% illuminated  "
      ]
     },
     "metadata": {},
     "output_type": "display_data"
    },
    {
     "name": "stderr",
     "output_type": "stream",
     "text": [
      "\r",
      "  4%|███▍                                                                          | 61/1401 [20:23<7:57:18, 21.37s/it]"
     ]
    },
    {
     "name": "stdout",
     "output_type": "stream",
     "text": [
      "QUERY:  Precipitation amount in Zollikofen June 2, 2021 14h\n",
      "QUERY:  temperature in Zollikofen June 2, 2021 14h\n",
      "ERROR: no data available-------------  temperature in Zollikofen June 2, 2021 14h\n",
      "ERROR:------------- name 'error' is not defined  ----------  temperature in Zollikofen June 2, 2021 14h\n",
      "QUERY:  humidity in Zollikofen June 2, 2021 14h\n",
      "QUERY:  wind speed in Zollikofen June 2, 2021 14h\n",
      "ERROR: no data available-------------  wind speed in Zollikofen June 2, 2021 14h\n",
      "ERROR:------------- name 'error' is not defined  ----------  wind speed in Zollikofen June 2, 2021 14h\n",
      "QUERY:  Moon Phase calculatorJune 2, 2021 14h\n"
     ]
    },
    {
     "name": "stderr",
     "output_type": "stream",
     "text": [
      "\r",
      "  4%|███▍                                                                          | 62/1401 [20:43<7:46:31, 20.90s/it]"
     ]
    },
    {
     "name": "stdout",
     "output_type": "stream",
     "text": [
      "QUERY:  Precipitation amount in Zollikofen June 2, 2021 15h\n",
      "QUERY:  temperature in Zollikofen June 2, 2021 15h\n",
      "ERROR: no data available-------------  temperature in Zollikofen June 2, 2021 15h\n",
      "ERROR:------------- name 'error' is not defined  ----------  temperature in Zollikofen June 2, 2021 15h\n",
      "QUERY:  humidity in Zollikofen June 2, 2021 15h\n",
      "QUERY:  wind speed in Zollikofen June 2, 2021 15h\n",
      "ERROR: no data available-------------  wind speed in Zollikofen June 2, 2021 15h\n",
      "ERROR:------------- name 'error' is not defined  ----------  wind speed in Zollikofen June 2, 2021 15h\n",
      "QUERY:  Moon Phase calculatorJune 2, 2021 15h\n"
     ]
    },
    {
     "name": "stderr",
     "output_type": "stream",
     "text": [
      "\r",
      "  4%|███▌                                                                          | 63/1401 [21:03<7:40:18, 20.64s/it]"
     ]
    },
    {
     "name": "stdout",
     "output_type": "stream",
     "text": [
      "QUERY:  Precipitation amount in Zollikofen June 2, 2021 16h\n",
      "QUERY:  temperature in Zollikofen June 2, 2021 16h\n",
      "ERROR: no data available-------------  temperature in Zollikofen June 2, 2021 16h\n",
      "ERROR:------------- name 'error' is not defined  ----------  temperature in Zollikofen June 2, 2021 16h\n",
      "QUERY:  humidity in Zollikofen June 2, 2021 16h\n",
      "QUERY:  wind speed in Zollikofen June 2, 2021 16h\n",
      "ERROR: no data available-------------  wind speed in Zollikofen June 2, 2021 16h\n",
      "ERROR:------------- name 'error' is not defined  ----------  wind speed in Zollikofen June 2, 2021 16h\n",
      "QUERY:  Moon Phase calculatorJune 2, 2021 16h\n"
     ]
    },
    {
     "name": "stderr",
     "output_type": "stream",
     "text": [
      "\r",
      "  5%|███▌                                                                          | 64/1401 [21:23<7:39:51, 20.64s/it]"
     ]
    },
    {
     "name": "stdout",
     "output_type": "stream",
     "text": [
      "QUERY:  Precipitation amount in Zollikofen June 3, 2021 6h\n",
      "QUERY:  temperature in Zollikofen June 3, 2021 6h\n",
      "QUERY:  humidity in Zollikofen June 3, 2021 6h\n",
      "QUERY:  wind speed in Zollikofen June 3, 2021 6h\n",
      "QUERY:  Moon Phase calculatorJune 3, 2021 6h\n"
     ]
    },
    {
     "name": "stderr",
     "output_type": "stream",
     "text": [
      "\r",
      "  5%|███▌                                                                          | 65/1401 [21:46<7:52:49, 21.23s/it]"
     ]
    },
    {
     "name": "stdout",
     "output_type": "stream",
     "text": [
      "QUERY:  Precipitation amount in Zollikofen June 4, 2021 23h\n",
      "QUERY:  temperature in Zollikofen June 4, 2021 23h\n",
      "QUERY:  humidity in Zollikofen June 4, 2021 23h\n",
      "ERROR: no data available-------------  humidity in Zollikofen June 4, 2021 23h\n",
      "ERROR:------------- name 'error' is not defined  ----------  humidity in Zollikofen June 4, 2021 23h\n",
      "QUERY:  wind speed in Zollikofen June 4, 2021 23h\n",
      "QUERY:  Moon Phase calculatorJune 4, 2021 23h\n"
     ]
    },
    {
     "name": "stderr",
     "output_type": "stream",
     "text": [
      "\r",
      "  5%|███▋                                                                          | 66/1401 [22:07<7:52:53, 21.25s/it]"
     ]
    },
    {
     "name": "stdout",
     "output_type": "stream",
     "text": [
      "QUERY:  Precipitation amount in Zollikofen June 7, 2021 6h\n",
      "QUERY:  temperature in Zollikofen June 7, 2021 6h\n",
      "QUERY:  humidity in Zollikofen June 7, 2021 6h\n",
      "QUERY:  wind speed in Zollikofen June 7, 2021 6h\n",
      "QUERY:  Moon Phase calculatorJune 7, 2021 6h\n"
     ]
    },
    {
     "name": "stderr",
     "output_type": "stream",
     "text": [
      "\r",
      "  5%|███▋                                                                          | 67/1401 [22:27<7:46:02, 20.96s/it]"
     ]
    },
    {
     "name": "stdout",
     "output_type": "stream",
     "text": [
      "QUERY:  Precipitation amount in Zollikofen June 7, 2021 11h\n",
      "QUERY:  temperature in Zollikofen June 7, 2021 11h\n",
      "QUERY:  humidity in Zollikofen June 7, 2021 11h\n",
      "QUERY:  wind speed in Zollikofen June 7, 2021 11h\n",
      "QUERY:  Moon Phase calculatorJune 7, 2021 11h\n"
     ]
    },
    {
     "name": "stderr",
     "output_type": "stream",
     "text": [
      "\r",
      "  5%|███▊                                                                          | 68/1401 [22:48<7:43:50, 20.88s/it]"
     ]
    },
    {
     "name": "stdout",
     "output_type": "stream",
     "text": [
      "QUERY:  Precipitation amount in Zollikofen June 7, 2021 12h\n",
      "QUERY:  temperature in Zollikofen June 7, 2021 12h\n",
      "QUERY:  humidity in Zollikofen June 7, 2021 12h\n",
      "QUERY:  wind speed in Zollikofen June 7, 2021 12h\n",
      "QUERY:  Moon Phase calculatorJune 7, 2021 12h\n"
     ]
    },
    {
     "name": "stderr",
     "output_type": "stream",
     "text": [
      "\r",
      "  5%|███▊                                                                          | 69/1401 [23:09<7:44:56, 20.94s/it]"
     ]
    },
    {
     "name": "stdout",
     "output_type": "stream",
     "text": [
      "QUERY:  Precipitation amount in Zollikofen June 7, 2021 13h\n",
      "QUERY:  temperature in Zollikofen June 7, 2021 13h\n",
      "QUERY:  humidity in Zollikofen June 7, 2021 13h\n",
      "QUERY:  wind speed in Zollikofen June 7, 2021 13h\n",
      "QUERY:  Moon Phase calculatorJune 7, 2021 13h\n"
     ]
    },
    {
     "name": "stderr",
     "output_type": "stream",
     "text": [
      "\r",
      "  5%|███▉                                                                          | 70/1401 [23:30<7:44:15, 20.93s/it]"
     ]
    },
    {
     "name": "stdout",
     "output_type": "stream",
     "text": [
      "QUERY:  Precipitation amount in Zollikofen June 7, 2021 14h\n",
      "QUERY:  temperature in Zollikofen June 7, 2021 14h\n",
      "QUERY:  humidity in Zollikofen June 7, 2021 14h\n",
      "QUERY:  wind speed in Zollikofen June 7, 2021 14h\n",
      "QUERY:  Moon Phase calculatorJune 7, 2021 14h\n",
      "(6039, 7)\n"
     ]
    },
    {
     "data": {
      "text/html": [
       "<div>\n",
       "<style scoped>\n",
       "    .dataframe tbody tr th:only-of-type {\n",
       "        vertical-align: middle;\n",
       "    }\n",
       "\n",
       "    .dataframe tbody tr th {\n",
       "        vertical-align: top;\n",
       "    }\n",
       "\n",
       "    .dataframe thead th {\n",
       "        text-align: right;\n",
       "    }\n",
       "</style>\n",
       "<table border=\"1\" class=\"dataframe\">\n",
       "  <thead>\n",
       "    <tr style=\"text-align: right;\">\n",
       "      <th></th>\n",
       "      <th>date</th>\n",
       "      <th>temperature</th>\n",
       "      <th>humidity</th>\n",
       "      <th>wind speed</th>\n",
       "      <th>Precipitation amount</th>\n",
       "      <th>query</th>\n",
       "      <th>Moon Phase calculator</th>\n",
       "    </tr>\n",
       "  </thead>\n",
       "  <tbody>\n",
       "    <tr>\n",
       "      <th>8</th>\n",
       "      <td>2021-06-07 13:00:00</td>\n",
       "      <td>18 °C\\n(1:00 pm CEST | Monday, June 7, 2021)</td>\n",
       "      <td>average: 78% (78%)\\n(1:00 pm CEST | Monday, Ju...</td>\n",
       "      <td>4 m/s\\n(1:00 pm CEST | Monday, June 7, 2021)</td>\n",
       "      <td>no precipitation\\n(1:00 pm CEST | Monday, June...</td>\n",
       "      <td>Moon Phase calculatorJune 7, 2021 13h</td>\n",
       "      <td>| waning crescent moon\\n7.92% illuminated</td>\n",
       "    </tr>\n",
       "    <tr>\n",
       "      <th>9</th>\n",
       "      <td>2021-06-07 14:00:00</td>\n",
       "      <td>19 °C\\n(2:00 pm CEST | Monday, June 7, 2021)</td>\n",
       "      <td>average: 75% (73 to 78%)\\n(2:00 pm CEST | Mond...</td>\n",
       "      <td>4 m/s\\n(2:00 pm CEST | Monday, June 7, 2021)</td>\n",
       "      <td>no precipitation\\n(2:00 pm CEST | Monday, June...</td>\n",
       "      <td>Moon Phase calculatorJune 7, 2021 14h</td>\n",
       "      <td>| waning crescent moon\\n7.71% illuminated</td>\n",
       "    </tr>\n",
       "  </tbody>\n",
       "</table>\n",
       "</div>"
      ],
      "text/plain": [
       "                 date                                   temperature  \\\n",
       "8 2021-06-07 13:00:00  18 °C\\n(1:00 pm CEST | Monday, June 7, 2021)   \n",
       "9 2021-06-07 14:00:00  19 °C\\n(2:00 pm CEST | Monday, June 7, 2021)   \n",
       "\n",
       "                                            humidity  \\\n",
       "8  average: 78% (78%)\\n(1:00 pm CEST | Monday, Ju...   \n",
       "9  average: 75% (73 to 78%)\\n(2:00 pm CEST | Mond...   \n",
       "\n",
       "                                     wind speed  \\\n",
       "8  4 m/s\\n(1:00 pm CEST | Monday, June 7, 2021)   \n",
       "9  4 m/s\\n(2:00 pm CEST | Monday, June 7, 2021)   \n",
       "\n",
       "                                Precipitation amount  \\\n",
       "8  no precipitation\\n(1:00 pm CEST | Monday, June...   \n",
       "9  no precipitation\\n(2:00 pm CEST | Monday, June...   \n",
       "\n",
       "                                   query  \\\n",
       "8  Moon Phase calculatorJune 7, 2021 13h   \n",
       "9  Moon Phase calculatorJune 7, 2021 14h   \n",
       "\n",
       "                       Moon Phase calculator  \n",
       "8  | waning crescent moon\\n7.92% illuminated  \n",
       "9  | waning crescent moon\\n7.71% illuminated  "
      ]
     },
     "metadata": {},
     "output_type": "display_data"
    },
    {
     "name": "stderr",
     "output_type": "stream",
     "text": [
      "\r",
      "  5%|███▉                                                                          | 71/1401 [23:51<7:41:21, 20.81s/it]"
     ]
    },
    {
     "name": "stdout",
     "output_type": "stream",
     "text": [
      "QUERY:  Precipitation amount in Zollikofen June 7, 2021 15h\n",
      "QUERY:  temperature in Zollikofen June 7, 2021 15h\n",
      "QUERY:  humidity in Zollikofen June 7, 2021 15h\n",
      "QUERY:  wind speed in Zollikofen June 7, 2021 15h\n",
      "QUERY:  Moon Phase calculatorJune 7, 2021 15h\n"
     ]
    },
    {
     "name": "stderr",
     "output_type": "stream",
     "text": [
      "\r",
      "  5%|████                                                                          | 72/1401 [24:11<7:39:43, 20.76s/it]"
     ]
    },
    {
     "name": "stdout",
     "output_type": "stream",
     "text": [
      "QUERY:  Precipitation amount in Zollikofen June 7, 2021 16h\n",
      "QUERY:  temperature in Zollikofen June 7, 2021 16h\n",
      "QUERY:  humidity in Zollikofen June 7, 2021 16h\n",
      "QUERY:  wind speed in Zollikofen June 7, 2021 16h\n",
      "QUERY:  Moon Phase calculatorJune 7, 2021 16h\n"
     ]
    },
    {
     "name": "stderr",
     "output_type": "stream",
     "text": [
      "\r",
      "  5%|████                                                                          | 73/1401 [24:32<7:38:13, 20.70s/it]"
     ]
    },
    {
     "name": "stdout",
     "output_type": "stream",
     "text": [
      "QUERY:  Precipitation amount in Zollikofen June 7, 2021 17h\n",
      "QUERY:  temperature in Zollikofen June 7, 2021 17h\n",
      "QUERY:  humidity in Zollikofen June 7, 2021 17h\n",
      "QUERY:  wind speed in Zollikofen June 7, 2021 17h\n",
      "QUERY:  Moon Phase calculatorJune 7, 2021 17h\n"
     ]
    },
    {
     "name": "stderr",
     "output_type": "stream",
     "text": [
      "\r",
      "  5%|████                                                                          | 74/1401 [24:52<7:36:24, 20.64s/it]"
     ]
    },
    {
     "name": "stdout",
     "output_type": "stream",
     "text": [
      "QUERY:  Precipitation amount in Zollikofen June 7, 2021 18h\n",
      "QUERY:  temperature in Zollikofen June 7, 2021 18h\n",
      "QUERY:  humidity in Zollikofen June 7, 2021 18h\n",
      "QUERY:  wind speed in Zollikofen June 7, 2021 18h\n",
      "QUERY:  Moon Phase calculatorJune 7, 2021 18h\n"
     ]
    },
    {
     "name": "stderr",
     "output_type": "stream",
     "text": [
      "\r",
      "  5%|████▏                                                                         | 75/1401 [25:14<7:40:00, 20.81s/it]"
     ]
    },
    {
     "name": "stdout",
     "output_type": "stream",
     "text": [
      "QUERY:  Precipitation amount in Zollikofen June 7, 2021 19h\n",
      "QUERY:  temperature in Zollikofen June 7, 2021 19h\n",
      "QUERY:  humidity in Zollikofen June 7, 2021 19h\n",
      "QUERY:  wind speed in Zollikofen June 7, 2021 19h\n",
      "QUERY:  Moon Phase calculatorJune 7, 2021 19h\n"
     ]
    },
    {
     "name": "stderr",
     "output_type": "stream",
     "text": [
      "\r",
      "  5%|████▏                                                                         | 76/1401 [25:34<7:38:34, 20.77s/it]"
     ]
    },
    {
     "name": "stdout",
     "output_type": "stream",
     "text": [
      "QUERY:  Precipitation amount in Zollikofen June 7, 2021 20h\n",
      "QUERY:  temperature in Zollikofen June 7, 2021 20h\n",
      "QUERY:  humidity in Zollikofen June 7, 2021 20h\n",
      "QUERY:  wind speed in Zollikofen June 7, 2021 20h\n",
      "QUERY:  Moon Phase calculatorJune 7, 2021 20h\n"
     ]
    },
    {
     "name": "stderr",
     "output_type": "stream",
     "text": [
      "\r",
      "  5%|████▎                                                                         | 77/1401 [25:55<7:39:40, 20.83s/it]"
     ]
    },
    {
     "name": "stdout",
     "output_type": "stream",
     "text": [
      "QUERY:  Precipitation amount in Zollikofen June 7, 2021 21h\n",
      "QUERY:  temperature in Zollikofen June 7, 2021 21h\n",
      "QUERY:  humidity in Zollikofen June 7, 2021 21h\n",
      "QUERY:  wind speed in Zollikofen June 7, 2021 21h\n",
      "QUERY:  Moon Phase calculatorJune 7, 2021 21h\n"
     ]
    },
    {
     "name": "stderr",
     "output_type": "stream",
     "text": [
      "\r",
      "  6%|████▎                                                                         | 78/1401 [26:17<7:49:05, 21.27s/it]"
     ]
    },
    {
     "name": "stdout",
     "output_type": "stream",
     "text": [
      "QUERY:  Precipitation amount in Zollikofen June 7, 2021 22h\n",
      "QUERY:  temperature in Zollikofen June 7, 2021 22h\n",
      "QUERY:  humidity in Zollikofen June 7, 2021 22h\n",
      "QUERY:  wind speed in Zollikofen June 7, 2021 22h\n",
      "QUERY:  Moon Phase calculatorJune 7, 2021 22h\n"
     ]
    },
    {
     "name": "stderr",
     "output_type": "stream",
     "text": [
      "\r",
      "  6%|████▍                                                                         | 79/1401 [26:38<7:44:19, 21.07s/it]"
     ]
    },
    {
     "name": "stdout",
     "output_type": "stream",
     "text": [
      "QUERY:  Precipitation amount in Zollikofen June 7, 2021 23h\n",
      "QUERY:  temperature in Zollikofen June 7, 2021 23h\n",
      "QUERY:  humidity in Zollikofen June 7, 2021 23h\n",
      "QUERY:  wind speed in Zollikofen June 7, 2021 23h\n",
      "QUERY:  Moon Phase calculatorJune 7, 2021 23h\n"
     ]
    },
    {
     "name": "stderr",
     "output_type": "stream",
     "text": [
      "\r",
      "  6%|████▍                                                                         | 80/1401 [27:00<7:50:53, 21.39s/it]"
     ]
    },
    {
     "name": "stdout",
     "output_type": "stream",
     "text": [
      "QUERY:  Precipitation amount in Zollikofen June 8, 2021 0h\n",
      "QUERY:  temperature in Zollikofen June 8, 2021 0h\n",
      "QUERY:  humidity in Zollikofen June 8, 2021 0h\n",
      "QUERY:  wind speed in Zollikofen June 8, 2021 0h\n",
      "QUERY:  Moon Phase calculatorJune 8, 2021 0h\n",
      "(6049, 7)\n"
     ]
    },
    {
     "data": {
      "text/html": [
       "<div>\n",
       "<style scoped>\n",
       "    .dataframe tbody tr th:only-of-type {\n",
       "        vertical-align: middle;\n",
       "    }\n",
       "\n",
       "    .dataframe tbody tr th {\n",
       "        vertical-align: top;\n",
       "    }\n",
       "\n",
       "    .dataframe thead th {\n",
       "        text-align: right;\n",
       "    }\n",
       "</style>\n",
       "<table border=\"1\" class=\"dataframe\">\n",
       "  <thead>\n",
       "    <tr style=\"text-align: right;\">\n",
       "      <th></th>\n",
       "      <th>date</th>\n",
       "      <th>temperature</th>\n",
       "      <th>humidity</th>\n",
       "      <th>wind speed</th>\n",
       "      <th>Precipitation amount</th>\n",
       "      <th>query</th>\n",
       "      <th>Moon Phase calculator</th>\n",
       "    </tr>\n",
       "  </thead>\n",
       "  <tbody>\n",
       "    <tr>\n",
       "      <th>8</th>\n",
       "      <td>2021-06-07 23:00:00</td>\n",
       "      <td>16 °C\\n(11:00 pm CEST | Monday, June 7, 2021)</td>\n",
       "      <td>average: 100% (100%)\\n(11:00 pm CEST | Monday,...</td>\n",
       "      <td>1 m/s\\n(11:00 pm CEST | Monday, June 7, 2021)</td>\n",
       "      <td>no precipitation\\n(11:00 pm CEST | Monday, Jun...</td>\n",
       "      <td>Moon Phase calculatorJune 7, 2021 23h</td>\n",
       "      <td>| waning crescent moon\\n5.92% illuminated</td>\n",
       "    </tr>\n",
       "    <tr>\n",
       "      <th>9</th>\n",
       "      <td>2021-06-08 00:00:00</td>\n",
       "      <td>15 °C\\n(12:00 am CEST | Tuesday, June 8, 2021)</td>\n",
       "      <td>average: 100% (100%)\\n(12:00 am CEST | Tuesday...</td>\n",
       "      <td>1 m/s\\n(12:00 am CEST | Tuesday, June 8, 2021)</td>\n",
       "      <td>no precipitation\\n(12:00 am CEST | Tuesday, Ju...</td>\n",
       "      <td>Moon Phase calculatorJune 8, 2021 0h</td>\n",
       "      <td>| waning crescent moon\\n5.73% illuminated</td>\n",
       "    </tr>\n",
       "  </tbody>\n",
       "</table>\n",
       "</div>"
      ],
      "text/plain": [
       "                 date                                     temperature  \\\n",
       "8 2021-06-07 23:00:00   16 °C\\n(11:00 pm CEST | Monday, June 7, 2021)   \n",
       "9 2021-06-08 00:00:00  15 °C\\n(12:00 am CEST | Tuesday, June 8, 2021)   \n",
       "\n",
       "                                            humidity  \\\n",
       "8  average: 100% (100%)\\n(11:00 pm CEST | Monday,...   \n",
       "9  average: 100% (100%)\\n(12:00 am CEST | Tuesday...   \n",
       "\n",
       "                                       wind speed  \\\n",
       "8   1 m/s\\n(11:00 pm CEST | Monday, June 7, 2021)   \n",
       "9  1 m/s\\n(12:00 am CEST | Tuesday, June 8, 2021)   \n",
       "\n",
       "                                Precipitation amount  \\\n",
       "8  no precipitation\\n(11:00 pm CEST | Monday, Jun...   \n",
       "9  no precipitation\\n(12:00 am CEST | Tuesday, Ju...   \n",
       "\n",
       "                                   query  \\\n",
       "8  Moon Phase calculatorJune 7, 2021 23h   \n",
       "9   Moon Phase calculatorJune 8, 2021 0h   \n",
       "\n",
       "                       Moon Phase calculator  \n",
       "8  | waning crescent moon\\n5.92% illuminated  \n",
       "9  | waning crescent moon\\n5.73% illuminated  "
      ]
     },
     "metadata": {},
     "output_type": "display_data"
    },
    {
     "name": "stderr",
     "output_type": "stream",
     "text": [
      "\r",
      "  6%|████▌                                                                         | 81/1401 [27:21<7:46:12, 21.19s/it]"
     ]
    },
    {
     "name": "stdout",
     "output_type": "stream",
     "text": [
      "QUERY:  Precipitation amount in Zollikofen June 8, 2021 1h\n",
      "QUERY:  temperature in Zollikofen June 8, 2021 1h\n",
      "QUERY:  humidity in Zollikofen June 8, 2021 1h\n",
      "QUERY:  wind speed in Zollikofen June 8, 2021 1h\n",
      "QUERY:  Moon Phase calculatorJune 8, 2021 1h\n"
     ]
    },
    {
     "name": "stderr",
     "output_type": "stream",
     "text": [
      "\r",
      "  6%|████▌                                                                         | 82/1401 [27:42<7:47:04, 21.25s/it]"
     ]
    },
    {
     "name": "stdout",
     "output_type": "stream",
     "text": [
      "QUERY:  Precipitation amount in Zollikofen June 8, 2021 2h\n",
      "QUERY:  temperature in Zollikofen June 8, 2021 2h\n",
      "QUERY:  humidity in Zollikofen June 8, 2021 2h\n",
      "QUERY:  wind speed in Zollikofen June 8, 2021 2h\n",
      "QUERY:  Moon Phase calculatorJune 8, 2021 2h\n"
     ]
    },
    {
     "name": "stderr",
     "output_type": "stream",
     "text": [
      "\r",
      "  6%|████▌                                                                         | 83/1401 [28:03<7:40:09, 20.95s/it]"
     ]
    },
    {
     "name": "stdout",
     "output_type": "stream",
     "text": [
      "QUERY:  Precipitation amount in Zollikofen June 8, 2021 3h\n",
      "QUERY:  temperature in Zollikofen June 8, 2021 3h\n",
      "QUERY:  humidity in Zollikofen June 8, 2021 3h\n",
      "QUERY:  wind speed in Zollikofen June 8, 2021 3h\n",
      "QUERY:  Moon Phase calculatorJune 8, 2021 3h\n"
     ]
    },
    {
     "name": "stderr",
     "output_type": "stream",
     "text": [
      "\r",
      "  6%|████▋                                                                         | 84/1401 [28:23<7:37:25, 20.84s/it]"
     ]
    },
    {
     "name": "stdout",
     "output_type": "stream",
     "text": [
      "QUERY:  Precipitation amount in Zollikofen June 8, 2021 4h\n",
      "QUERY:  temperature in Zollikofen June 8, 2021 4h\n",
      "QUERY:  humidity in Zollikofen June 8, 2021 4h\n",
      "QUERY:  wind speed in Zollikofen June 8, 2021 4h\n",
      "QUERY:  Moon Phase calculatorJune 8, 2021 4h\n"
     ]
    },
    {
     "name": "stderr",
     "output_type": "stream",
     "text": [
      "\r",
      "  6%|████▋                                                                         | 85/1401 [28:44<7:40:04, 20.98s/it]"
     ]
    },
    {
     "name": "stdout",
     "output_type": "stream",
     "text": [
      "QUERY:  Precipitation amount in Zollikofen June 8, 2021 5h\n",
      "QUERY:  temperature in Zollikofen June 8, 2021 5h\n",
      "QUERY:  humidity in Zollikofen June 8, 2021 5h\n",
      "QUERY:  wind speed in Zollikofen June 8, 2021 5h\n",
      "QUERY:  Moon Phase calculatorJune 8, 2021 5h\n"
     ]
    },
    {
     "name": "stderr",
     "output_type": "stream",
     "text": [
      "\r",
      "  6%|████▊                                                                         | 86/1401 [29:05<7:39:10, 20.95s/it]"
     ]
    },
    {
     "name": "stdout",
     "output_type": "stream",
     "text": [
      "QUERY:  Precipitation amount in Zollikofen June 8, 2021 6h\n",
      "QUERY:  temperature in Zollikofen June 8, 2021 6h\n",
      "QUERY:  humidity in Zollikofen June 8, 2021 6h\n",
      "QUERY:  wind speed in Zollikofen June 8, 2021 6h\n",
      "QUERY:  Moon Phase calculatorJune 8, 2021 6h\n"
     ]
    },
    {
     "name": "stderr",
     "output_type": "stream",
     "text": [
      "\r",
      "  6%|████▊                                                                         | 87/1401 [29:26<7:37:05, 20.87s/it]"
     ]
    },
    {
     "name": "stdout",
     "output_type": "stream",
     "text": [
      "QUERY:  Precipitation amount in Zollikofen June 8, 2021 7h\n",
      "QUERY:  temperature in Zollikofen June 8, 2021 7h\n",
      "QUERY:  humidity in Zollikofen June 8, 2021 7h\n",
      "QUERY:  wind speed in Zollikofen June 8, 2021 7h\n",
      "QUERY:  Moon Phase calculatorJune 8, 2021 7h\n"
     ]
    },
    {
     "name": "stderr",
     "output_type": "stream",
     "text": [
      "\r",
      "  6%|████▉                                                                         | 88/1401 [29:48<7:43:33, 21.18s/it]"
     ]
    },
    {
     "name": "stdout",
     "output_type": "stream",
     "text": [
      "QUERY:  Precipitation amount in Zollikofen June 8, 2021 8h\n",
      "QUERY:  temperature in Zollikofen June 8, 2021 8h\n",
      "QUERY:  humidity in Zollikofen June 8, 2021 8h\n",
      "QUERY:  wind speed in Zollikofen June 8, 2021 8h\n",
      "QUERY:  Moon Phase calculatorJune 8, 2021 8h\n"
     ]
    },
    {
     "name": "stderr",
     "output_type": "stream",
     "text": [
      "\r",
      "  6%|████▉                                                                         | 89/1401 [30:09<7:43:19, 21.19s/it]"
     ]
    },
    {
     "name": "stdout",
     "output_type": "stream",
     "text": [
      "QUERY:  Precipitation amount in Zollikofen June 8, 2021 9h\n",
      "QUERY:  temperature in Zollikofen June 8, 2021 9h\n",
      "QUERY:  humidity in Zollikofen June 8, 2021 9h\n",
      "QUERY:  wind speed in Zollikofen June 8, 2021 9h\n",
      "QUERY:  Moon Phase calculatorJune 8, 2021 9h\n"
     ]
    },
    {
     "name": "stderr",
     "output_type": "stream",
     "text": [
      "\r",
      "  6%|█████                                                                         | 90/1401 [30:31<7:45:01, 21.28s/it]"
     ]
    },
    {
     "name": "stdout",
     "output_type": "stream",
     "text": [
      "QUERY:  Precipitation amount in Zollikofen June 8, 2021 10h\n",
      "QUERY:  temperature in Zollikofen June 8, 2021 10h\n",
      "QUERY:  humidity in Zollikofen June 8, 2021 10h\n",
      "QUERY:  wind speed in Zollikofen June 8, 2021 10h\n",
      "QUERY:  Moon Phase calculatorJune 8, 2021 10h\n",
      "(6059, 7)\n"
     ]
    },
    {
     "data": {
      "text/html": [
       "<div>\n",
       "<style scoped>\n",
       "    .dataframe tbody tr th:only-of-type {\n",
       "        vertical-align: middle;\n",
       "    }\n",
       "\n",
       "    .dataframe tbody tr th {\n",
       "        vertical-align: top;\n",
       "    }\n",
       "\n",
       "    .dataframe thead th {\n",
       "        text-align: right;\n",
       "    }\n",
       "</style>\n",
       "<table border=\"1\" class=\"dataframe\">\n",
       "  <thead>\n",
       "    <tr style=\"text-align: right;\">\n",
       "      <th></th>\n",
       "      <th>date</th>\n",
       "      <th>temperature</th>\n",
       "      <th>humidity</th>\n",
       "      <th>wind speed</th>\n",
       "      <th>Precipitation amount</th>\n",
       "      <th>query</th>\n",
       "      <th>Moon Phase calculator</th>\n",
       "    </tr>\n",
       "  </thead>\n",
       "  <tbody>\n",
       "    <tr>\n",
       "      <th>8</th>\n",
       "      <td>2021-06-08 09:00:00</td>\n",
       "      <td>17 °C\\n(9:00 am CEST | Tuesday, June 8, 2021)</td>\n",
       "      <td>average: 100% (100%)\\n(9:00 am CEST | Tuesday,...</td>\n",
       "      <td>1 m/s\\n(9:00 am CEST | Tuesday, June 8, 2021)</td>\n",
       "      <td>rain\\n(9:00 am CEST | Tuesday, June 8, 2021)</td>\n",
       "      <td>Moon Phase calculatorJune 8, 2021 9h</td>\n",
       "      <td>| waning crescent moon\\n4.19% illuminated</td>\n",
       "    </tr>\n",
       "    <tr>\n",
       "      <th>9</th>\n",
       "      <td>2021-06-08 10:00:00</td>\n",
       "      <td>17 °C\\n(10:00 am CEST | Tuesday, June 8, 2021)</td>\n",
       "      <td>average: 88% (83 to 94%)\\n(10:00 am CEST | Tue...</td>\n",
       "      <td>2 m/s\\n(10:00 am CEST | Tuesday, June 8, 2021)</td>\n",
       "      <td>no precipitation\\n(10:00 am CEST | Tuesday, Ju...</td>\n",
       "      <td>Moon Phase calculatorJune 8, 2021 10h</td>\n",
       "      <td>| waning crescent moon\\n4.03% illuminated</td>\n",
       "    </tr>\n",
       "  </tbody>\n",
       "</table>\n",
       "</div>"
      ],
      "text/plain": [
       "                 date                                     temperature  \\\n",
       "8 2021-06-08 09:00:00   17 °C\\n(9:00 am CEST | Tuesday, June 8, 2021)   \n",
       "9 2021-06-08 10:00:00  17 °C\\n(10:00 am CEST | Tuesday, June 8, 2021)   \n",
       "\n",
       "                                            humidity  \\\n",
       "8  average: 100% (100%)\\n(9:00 am CEST | Tuesday,...   \n",
       "9  average: 88% (83 to 94%)\\n(10:00 am CEST | Tue...   \n",
       "\n",
       "                                       wind speed  \\\n",
       "8   1 m/s\\n(9:00 am CEST | Tuesday, June 8, 2021)   \n",
       "9  2 m/s\\n(10:00 am CEST | Tuesday, June 8, 2021)   \n",
       "\n",
       "                                Precipitation amount  \\\n",
       "8       rain\\n(9:00 am CEST | Tuesday, June 8, 2021)   \n",
       "9  no precipitation\\n(10:00 am CEST | Tuesday, Ju...   \n",
       "\n",
       "                                   query  \\\n",
       "8   Moon Phase calculatorJune 8, 2021 9h   \n",
       "9  Moon Phase calculatorJune 8, 2021 10h   \n",
       "\n",
       "                       Moon Phase calculator  \n",
       "8  | waning crescent moon\\n4.19% illuminated  \n",
       "9  | waning crescent moon\\n4.03% illuminated  "
      ]
     },
     "metadata": {},
     "output_type": "display_data"
    },
    {
     "name": "stderr",
     "output_type": "stream",
     "text": [
      "\r",
      "  6%|█████                                                                         | 91/1401 [30:52<7:43:28, 21.23s/it]"
     ]
    },
    {
     "name": "stdout",
     "output_type": "stream",
     "text": [
      "QUERY:  Precipitation amount in Zollikofen June 8, 2021 11h\n",
      "QUERY:  temperature in Zollikofen June 8, 2021 11h\n",
      "QUERY:  humidity in Zollikofen June 8, 2021 11h\n",
      "QUERY:  wind speed in Zollikofen June 8, 2021 11h\n",
      "QUERY:  Moon Phase calculatorJune 8, 2021 11h\n"
     ]
    },
    {
     "name": "stderr",
     "output_type": "stream",
     "text": [
      "\r",
      "  7%|█████                                                                         | 92/1401 [31:13<7:41:32, 21.16s/it]"
     ]
    },
    {
     "name": "stdout",
     "output_type": "stream",
     "text": [
      "QUERY:  Precipitation amount in Zollikofen June 8, 2021 12h\n",
      "QUERY:  temperature in Zollikofen June 8, 2021 12h\n",
      "QUERY:  humidity in Zollikofen June 8, 2021 12h\n",
      "QUERY:  wind speed in Zollikofen June 8, 2021 12h\n",
      "QUERY:  Moon Phase calculatorJune 8, 2021 12h\n"
     ]
    },
    {
     "name": "stderr",
     "output_type": "stream",
     "text": [
      "\r",
      "  7%|█████▏                                                                        | 93/1401 [31:34<7:39:29, 21.08s/it]"
     ]
    },
    {
     "name": "stdout",
     "output_type": "stream",
     "text": [
      "QUERY:  Precipitation amount in Zollikofen June 8, 2021 13h\n",
      "QUERY:  temperature in Zollikofen June 8, 2021 13h\n",
      "QUERY:  humidity in Zollikofen June 8, 2021 13h\n",
      "QUERY:  wind speed in Zollikofen June 8, 2021 13h\n",
      "QUERY:  Moon Phase calculatorJune 8, 2021 13h\n"
     ]
    },
    {
     "name": "stderr",
     "output_type": "stream",
     "text": [
      "\r",
      "  7%|█████▏                                                                        | 94/1401 [31:55<7:39:52, 21.11s/it]"
     ]
    },
    {
     "name": "stdout",
     "output_type": "stream",
     "text": [
      "QUERY:  Precipitation amount in Zollikofen June 8, 2021 14h\n",
      "QUERY:  temperature in Zollikofen June 8, 2021 14h\n",
      "QUERY:  humidity in Zollikofen June 8, 2021 14h\n",
      "QUERY:  wind speed in Zollikofen June 8, 2021 14h\n",
      "QUERY:  Moon Phase calculatorJune 8, 2021 14h\n"
     ]
    },
    {
     "name": "stderr",
     "output_type": "stream",
     "text": [
      "\r",
      "  7%|█████▎                                                                        | 95/1401 [32:16<7:38:06, 21.05s/it]"
     ]
    },
    {
     "name": "stdout",
     "output_type": "stream",
     "text": [
      "QUERY:  Precipitation amount in Zollikofen June 8, 2021 15h\n",
      "QUERY:  temperature in Zollikofen June 8, 2021 15h\n",
      "QUERY:  humidity in Zollikofen June 8, 2021 15h\n",
      "QUERY:  wind speed in Zollikofen June 8, 2021 15h\n",
      "QUERY:  Moon Phase calculatorJune 8, 2021 15h\n"
     ]
    },
    {
     "name": "stderr",
     "output_type": "stream",
     "text": [
      "\r",
      "  7%|█████▎                                                                        | 96/1401 [32:38<7:44:44, 21.37s/it]"
     ]
    },
    {
     "name": "stdout",
     "output_type": "stream",
     "text": [
      "QUERY:  Precipitation amount in Zollikofen June 8, 2021 16h\n",
      "QUERY:  temperature in Zollikofen June 8, 2021 16h\n",
      "QUERY:  humidity in Zollikofen June 8, 2021 16h\n",
      "QUERY:  wind speed in Zollikofen June 8, 2021 16h\n",
      "QUERY:  Moon Phase calculatorJune 8, 2021 16h\n"
     ]
    },
    {
     "name": "stderr",
     "output_type": "stream",
     "text": [
      "\r",
      "  7%|█████▍                                                                        | 97/1401 [32:58<7:39:16, 21.13s/it]"
     ]
    },
    {
     "name": "stdout",
     "output_type": "stream",
     "text": [
      "QUERY:  Precipitation amount in Zollikofen June 8, 2021 17h\n",
      "QUERY:  temperature in Zollikofen June 8, 2021 17h\n",
      "QUERY:  humidity in Zollikofen June 8, 2021 17h\n",
      "QUERY:  wind speed in Zollikofen June 8, 2021 17h\n",
      "QUERY:  Moon Phase calculatorJune 8, 2021 17h\n"
     ]
    },
    {
     "name": "stderr",
     "output_type": "stream",
     "text": [
      "\r",
      "  7%|█████▍                                                                        | 98/1401 [33:21<7:51:21, 21.70s/it]"
     ]
    },
    {
     "name": "stdout",
     "output_type": "stream",
     "text": [
      "QUERY:  Precipitation amount in Zollikofen June 8, 2021 18h\n",
      "QUERY:  temperature in Zollikofen June 8, 2021 18h\n",
      "QUERY:  humidity in Zollikofen June 8, 2021 18h\n",
      "QUERY:  wind speed in Zollikofen June 8, 2021 18h\n",
      "QUERY:  Moon Phase calculatorJune 8, 2021 18h\n"
     ]
    },
    {
     "name": "stderr",
     "output_type": "stream",
     "text": [
      "\r",
      "  7%|█████▌                                                                        | 99/1401 [33:42<7:45:56, 21.47s/it]"
     ]
    },
    {
     "name": "stdout",
     "output_type": "stream",
     "text": [
      "QUERY:  Precipitation amount in Zollikofen June 8, 2021 19h\n",
      "QUERY:  temperature in Zollikofen June 8, 2021 19h\n",
      "QUERY:  humidity in Zollikofen June 8, 2021 19h\n",
      "QUERY:  wind speed in Zollikofen June 8, 2021 19h\n",
      "QUERY:  Moon Phase calculatorJune 8, 2021 19h\n"
     ]
    },
    {
     "name": "stderr",
     "output_type": "stream",
     "text": [
      "\r",
      "  7%|█████▍                                                                       | 100/1401 [34:03<7:39:32, 21.19s/it]"
     ]
    },
    {
     "name": "stdout",
     "output_type": "stream",
     "text": [
      "QUERY:  Precipitation amount in Zollikofen June 8, 2021 20h\n",
      "QUERY:  temperature in Zollikofen June 8, 2021 20h\n",
      "QUERY:  humidity in Zollikofen June 8, 2021 20h\n",
      "ERROR: no data available-------------  humidity in Zollikofen June 8, 2021 20h\n",
      "ERROR:------------- name 'error' is not defined  ----------  humidity in Zollikofen June 8, 2021 20h\n",
      "QUERY:  wind speed in Zollikofen June 8, 2021 20h\n",
      "QUERY:  Moon Phase calculatorJune 8, 2021 20h\n",
      "(6069, 7)\n"
     ]
    },
    {
     "data": {
      "text/html": [
       "<div>\n",
       "<style scoped>\n",
       "    .dataframe tbody tr th:only-of-type {\n",
       "        vertical-align: middle;\n",
       "    }\n",
       "\n",
       "    .dataframe tbody tr th {\n",
       "        vertical-align: top;\n",
       "    }\n",
       "\n",
       "    .dataframe thead th {\n",
       "        text-align: right;\n",
       "    }\n",
       "</style>\n",
       "<table border=\"1\" class=\"dataframe\">\n",
       "  <thead>\n",
       "    <tr style=\"text-align: right;\">\n",
       "      <th></th>\n",
       "      <th>date</th>\n",
       "      <th>temperature</th>\n",
       "      <th>humidity</th>\n",
       "      <th>wind speed</th>\n",
       "      <th>Precipitation amount</th>\n",
       "      <th>query</th>\n",
       "      <th>Moon Phase calculator</th>\n",
       "    </tr>\n",
       "  </thead>\n",
       "  <tbody>\n",
       "    <tr>\n",
       "      <th>8</th>\n",
       "      <td>2021-06-08 19:00:00</td>\n",
       "      <td>16 °C\\n(7:00 pm CEST | Tuesday, June 8, 2021)</td>\n",
       "      <td>average: 100% (100%)\\n(7:00 pm CEST | Tuesday,...</td>\n",
       "      <td>0 m/s\\n(7:00 pm CEST | Tuesday, June 8, 2021)</td>\n",
       "      <td>rain\\n(7:00 pm CEST | Tuesday, June 8, 2021)</td>\n",
       "      <td>Moon Phase calculatorJune 8, 2021 19h</td>\n",
       "      <td>| waning crescent moon\\n2.75% illuminated</td>\n",
       "    </tr>\n",
       "    <tr>\n",
       "      <th>9</th>\n",
       "      <td>2021-06-08 20:00:00</td>\n",
       "      <td>17 °C\\n(8:00 pm CEST | Tuesday, June 8, 2021)</td>\n",
       "      <td>ERROR</td>\n",
       "      <td>0 m/s\\n(8:00 pm CEST | Tuesday, June 8, 2021)</td>\n",
       "      <td>rain\\n(8:00 pm CEST | Tuesday, June 8, 2021)</td>\n",
       "      <td>Moon Phase calculatorJune 8, 2021 20h</td>\n",
       "      <td>| waning crescent moon\\n2.62% illuminated</td>\n",
       "    </tr>\n",
       "  </tbody>\n",
       "</table>\n",
       "</div>"
      ],
      "text/plain": [
       "                 date                                    temperature  \\\n",
       "8 2021-06-08 19:00:00  16 °C\\n(7:00 pm CEST | Tuesday, June 8, 2021)   \n",
       "9 2021-06-08 20:00:00  17 °C\\n(8:00 pm CEST | Tuesday, June 8, 2021)   \n",
       "\n",
       "                                            humidity  \\\n",
       "8  average: 100% (100%)\\n(7:00 pm CEST | Tuesday,...   \n",
       "9                                              ERROR   \n",
       "\n",
       "                                      wind speed  \\\n",
       "8  0 m/s\\n(7:00 pm CEST | Tuesday, June 8, 2021)   \n",
       "9  0 m/s\\n(8:00 pm CEST | Tuesday, June 8, 2021)   \n",
       "\n",
       "                           Precipitation amount  \\\n",
       "8  rain\\n(7:00 pm CEST | Tuesday, June 8, 2021)   \n",
       "9  rain\\n(8:00 pm CEST | Tuesday, June 8, 2021)   \n",
       "\n",
       "                                   query  \\\n",
       "8  Moon Phase calculatorJune 8, 2021 19h   \n",
       "9  Moon Phase calculatorJune 8, 2021 20h   \n",
       "\n",
       "                       Moon Phase calculator  \n",
       "8  | waning crescent moon\\n2.75% illuminated  \n",
       "9  | waning crescent moon\\n2.62% illuminated  "
      ]
     },
     "metadata": {},
     "output_type": "display_data"
    },
    {
     "name": "stderr",
     "output_type": "stream",
     "text": [
      "\r",
      "  7%|█████▌                                                                       | 101/1401 [34:24<7:38:15, 21.15s/it]"
     ]
    },
    {
     "name": "stdout",
     "output_type": "stream",
     "text": [
      "QUERY:  Precipitation amount in Zollikofen June 8, 2021 21h\n",
      "QUERY:  temperature in Zollikofen June 8, 2021 21h\n",
      "QUERY:  humidity in Zollikofen June 8, 2021 21h\n",
      "QUERY:  wind speed in Zollikofen June 8, 2021 21h\n",
      "QUERY:  Moon Phase calculatorJune 8, 2021 21h\n"
     ]
    },
    {
     "name": "stderr",
     "output_type": "stream",
     "text": [
      "\r",
      "  7%|█████▌                                                                       | 102/1401 [34:45<7:35:10, 21.02s/it]"
     ]
    },
    {
     "name": "stdout",
     "output_type": "stream",
     "text": [
      "QUERY:  Precipitation amount in Zollikofen June 8, 2021 22h\n",
      "QUERY:  temperature in Zollikofen June 8, 2021 22h\n",
      "QUERY:  humidity in Zollikofen June 8, 2021 22h\n",
      "QUERY:  wind speed in Zollikofen June 8, 2021 22h\n",
      "QUERY:  Moon Phase calculatorJune 8, 2021 22h\n"
     ]
    },
    {
     "name": "stderr",
     "output_type": "stream",
     "text": [
      "\r",
      "  7%|█████▋                                                                       | 103/1401 [35:05<7:31:25, 20.87s/it]"
     ]
    },
    {
     "name": "stdout",
     "output_type": "stream",
     "text": [
      "QUERY:  Precipitation amount in Zollikofen June 8, 2021 23h\n",
      "QUERY:  temperature in Zollikofen June 8, 2021 23h\n",
      "QUERY:  humidity in Zollikofen June 8, 2021 23h\n",
      "QUERY:  wind speed in Zollikofen June 8, 2021 23h\n",
      "QUERY:  Moon Phase calculatorJune 8, 2021 23h\n"
     ]
    },
    {
     "name": "stderr",
     "output_type": "stream",
     "text": [
      "\r",
      "  7%|█████▋                                                                       | 104/1401 [35:26<7:27:46, 20.71s/it]"
     ]
    },
    {
     "name": "stdout",
     "output_type": "stream",
     "text": [
      "QUERY:  Precipitation amount in Zollikofen June 9, 2021 0h\n",
      "QUERY:  temperature in Zollikofen June 9, 2021 0h\n",
      "QUERY:  humidity in Zollikofen June 9, 2021 0h\n",
      "QUERY:  wind speed in Zollikofen June 9, 2021 0h\n",
      "QUERY:  Moon Phase calculatorJune 9, 2021 0h\n"
     ]
    },
    {
     "name": "stderr",
     "output_type": "stream",
     "text": [
      "\r",
      "  7%|█████▊                                                                       | 105/1401 [35:46<7:26:34, 20.68s/it]"
     ]
    },
    {
     "name": "stdout",
     "output_type": "stream",
     "text": [
      "QUERY:  Precipitation amount in Zollikofen June 9, 2021 1h\n",
      "QUERY:  temperature in Zollikofen June 9, 2021 1h\n",
      "QUERY:  humidity in Zollikofen June 9, 2021 1h\n",
      "QUERY:  wind speed in Zollikofen June 9, 2021 1h\n",
      "QUERY:  Moon Phase calculatorJune 9, 2021 1h\n"
     ]
    },
    {
     "name": "stderr",
     "output_type": "stream",
     "text": [
      "\r",
      "  8%|█████▊                                                                       | 106/1401 [36:07<7:29:37, 20.83s/it]"
     ]
    },
    {
     "name": "stdout",
     "output_type": "stream",
     "text": [
      "QUERY:  Precipitation amount in Zollikofen June 9, 2021 2h\n",
      "QUERY:  temperature in Zollikofen June 9, 2021 2h\n",
      "QUERY:  humidity in Zollikofen June 9, 2021 2h\n",
      "QUERY:  wind speed in Zollikofen June 9, 2021 2h\n",
      "QUERY:  Moon Phase calculatorJune 9, 2021 2h\n"
     ]
    },
    {
     "name": "stderr",
     "output_type": "stream",
     "text": [
      "\r",
      "  8%|█████▉                                                                       | 107/1401 [36:28<7:25:46, 20.67s/it]"
     ]
    },
    {
     "name": "stdout",
     "output_type": "stream",
     "text": [
      "QUERY:  Precipitation amount in Zollikofen June 9, 2021 3h\n",
      "QUERY:  temperature in Zollikofen June 9, 2021 3h\n",
      "QUERY:  humidity in Zollikofen June 9, 2021 3h\n",
      "QUERY:  wind speed in Zollikofen June 9, 2021 3h\n",
      "QUERY:  Moon Phase calculatorJune 9, 2021 3h\n"
     ]
    },
    {
     "name": "stderr",
     "output_type": "stream",
     "text": [
      "\r",
      "  8%|█████▉                                                                       | 108/1401 [36:49<7:29:59, 20.88s/it]"
     ]
    },
    {
     "name": "stdout",
     "output_type": "stream",
     "text": [
      "QUERY:  Precipitation amount in Zollikofen June 9, 2021 4h\n",
      "QUERY:  temperature in Zollikofen June 9, 2021 4h\n",
      "QUERY:  humidity in Zollikofen June 9, 2021 4h\n",
      "QUERY:  wind speed in Zollikofen June 9, 2021 4h\n",
      "QUERY:  Moon Phase calculatorJune 9, 2021 4h\n"
     ]
    },
    {
     "name": "stderr",
     "output_type": "stream",
     "text": [
      "\r",
      "  8%|█████▉                                                                       | 109/1401 [37:10<7:30:26, 20.92s/it]"
     ]
    },
    {
     "name": "stdout",
     "output_type": "stream",
     "text": [
      "QUERY:  Precipitation amount in Zollikofen June 9, 2021 5h\n",
      "QUERY:  temperature in Zollikofen June 9, 2021 5h\n",
      "QUERY:  humidity in Zollikofen June 9, 2021 5h\n",
      "QUERY:  wind speed in Zollikofen June 9, 2021 5h\n",
      "QUERY:  Moon Phase calculatorJune 9, 2021 5h\n"
     ]
    },
    {
     "name": "stderr",
     "output_type": "stream",
     "text": [
      "\r",
      "  8%|██████                                                                       | 110/1401 [37:30<7:25:56, 20.73s/it]"
     ]
    },
    {
     "name": "stdout",
     "output_type": "stream",
     "text": [
      "QUERY:  Precipitation amount in Zollikofen June 9, 2021 6h\n",
      "QUERY:  temperature in Zollikofen June 9, 2021 6h\n",
      "QUERY:  humidity in Zollikofen June 9, 2021 6h\n",
      "QUERY:  wind speed in Zollikofen June 9, 2021 6h\n",
      "QUERY:  Moon Phase calculatorJune 9, 2021 6h\n",
      "(6079, 7)\n"
     ]
    },
    {
     "data": {
      "text/html": [
       "<div>\n",
       "<style scoped>\n",
       "    .dataframe tbody tr th:only-of-type {\n",
       "        vertical-align: middle;\n",
       "    }\n",
       "\n",
       "    .dataframe tbody tr th {\n",
       "        vertical-align: top;\n",
       "    }\n",
       "\n",
       "    .dataframe thead th {\n",
       "        text-align: right;\n",
       "    }\n",
       "</style>\n",
       "<table border=\"1\" class=\"dataframe\">\n",
       "  <thead>\n",
       "    <tr style=\"text-align: right;\">\n",
       "      <th></th>\n",
       "      <th>date</th>\n",
       "      <th>temperature</th>\n",
       "      <th>humidity</th>\n",
       "      <th>wind speed</th>\n",
       "      <th>Precipitation amount</th>\n",
       "      <th>query</th>\n",
       "      <th>Moon Phase calculator</th>\n",
       "    </tr>\n",
       "  </thead>\n",
       "  <tbody>\n",
       "    <tr>\n",
       "      <th>8</th>\n",
       "      <td>2021-06-09 05:00:00</td>\n",
       "      <td>14 °C\\n(5:00 am CEST | Wednesday, June 9, 2021)</td>\n",
       "      <td>average: 100% (100%)\\n(5:00 am CEST | Wednesda...</td>\n",
       "      <td>1 m/s\\n(5:00 am CEST | Wednesday, June 9, 2021)</td>\n",
       "      <td>no precipitation\\n(5:00 am CEST | Wednesday, J...</td>\n",
       "      <td>Moon Phase calculatorJune 9, 2021 5h</td>\n",
       "      <td>| waning crescent moon\\n1.60% illuminated</td>\n",
       "    </tr>\n",
       "    <tr>\n",
       "      <th>9</th>\n",
       "      <td>2021-06-09 06:00:00</td>\n",
       "      <td>15 °C\\n(6:00 am CEST | Wednesday, June 9, 2021)</td>\n",
       "      <td>average: 100% (100%)\\n(6:00 am CEST | Wednesda...</td>\n",
       "      <td>1 m/s\\n(6:00 am CEST | Wednesday, June 9, 2021)</td>\n",
       "      <td>no precipitation\\n(6:00 am CEST | Wednesday, J...</td>\n",
       "      <td>Moon Phase calculatorJune 9, 2021 6h</td>\n",
       "      <td>| waning crescent moon\\n1.50% illuminated</td>\n",
       "    </tr>\n",
       "  </tbody>\n",
       "</table>\n",
       "</div>"
      ],
      "text/plain": [
       "                 date                                      temperature  \\\n",
       "8 2021-06-09 05:00:00  14 °C\\n(5:00 am CEST | Wednesday, June 9, 2021)   \n",
       "9 2021-06-09 06:00:00  15 °C\\n(6:00 am CEST | Wednesday, June 9, 2021)   \n",
       "\n",
       "                                            humidity  \\\n",
       "8  average: 100% (100%)\\n(5:00 am CEST | Wednesda...   \n",
       "9  average: 100% (100%)\\n(6:00 am CEST | Wednesda...   \n",
       "\n",
       "                                        wind speed  \\\n",
       "8  1 m/s\\n(5:00 am CEST | Wednesday, June 9, 2021)   \n",
       "9  1 m/s\\n(6:00 am CEST | Wednesday, June 9, 2021)   \n",
       "\n",
       "                                Precipitation amount  \\\n",
       "8  no precipitation\\n(5:00 am CEST | Wednesday, J...   \n",
       "9  no precipitation\\n(6:00 am CEST | Wednesday, J...   \n",
       "\n",
       "                                  query  \\\n",
       "8  Moon Phase calculatorJune 9, 2021 5h   \n",
       "9  Moon Phase calculatorJune 9, 2021 6h   \n",
       "\n",
       "                       Moon Phase calculator  \n",
       "8  | waning crescent moon\\n1.60% illuminated  \n",
       "9  | waning crescent moon\\n1.50% illuminated  "
      ]
     },
     "metadata": {},
     "output_type": "display_data"
    },
    {
     "name": "stderr",
     "output_type": "stream",
     "text": [
      "\r",
      "  8%|██████                                                                       | 111/1401 [37:52<7:33:32, 21.09s/it]"
     ]
    },
    {
     "name": "stdout",
     "output_type": "stream",
     "text": [
      "QUERY:  Precipitation amount in Zollikofen June 9, 2021 7h\n",
      "QUERY:  temperature in Zollikofen June 9, 2021 7h\n",
      "QUERY:  humidity in Zollikofen June 9, 2021 7h\n",
      "QUERY:  wind speed in Zollikofen June 9, 2021 7h\n",
      "QUERY:  Moon Phase calculatorJune 9, 2021 7h\n"
     ]
    },
    {
     "name": "stderr",
     "output_type": "stream",
     "text": [
      "\r",
      "  8%|██████▏                                                                      | 112/1401 [38:13<7:32:53, 21.08s/it]"
     ]
    },
    {
     "name": "stdout",
     "output_type": "stream",
     "text": [
      "QUERY:  Precipitation amount in Zollikofen June 9, 2021 8h\n",
      "QUERY:  temperature in Zollikofen June 9, 2021 8h\n",
      "QUERY:  humidity in Zollikofen June 9, 2021 8h\n",
      "QUERY:  wind speed in Zollikofen June 9, 2021 8h\n",
      "QUERY:  Moon Phase calculatorJune 9, 2021 8h\n"
     ]
    },
    {
     "name": "stderr",
     "output_type": "stream",
     "text": [
      "\r",
      "  8%|██████▏                                                                      | 113/1401 [38:34<7:28:18, 20.88s/it]"
     ]
    },
    {
     "name": "stdout",
     "output_type": "stream",
     "text": [
      "QUERY:  Precipitation amount in Zollikofen June 9, 2021 9h\n",
      "QUERY:  temperature in Zollikofen June 9, 2021 9h\n",
      "QUERY:  humidity in Zollikofen June 9, 2021 9h\n",
      "QUERY:  wind speed in Zollikofen June 9, 2021 9h\n",
      "QUERY:  Moon Phase calculatorJune 9, 2021 9h\n"
     ]
    },
    {
     "name": "stderr",
     "output_type": "stream",
     "text": [
      "\r",
      "  8%|██████▎                                                                      | 114/1401 [38:55<7:29:01, 20.93s/it]"
     ]
    },
    {
     "name": "stdout",
     "output_type": "stream",
     "text": [
      "QUERY:  Precipitation amount in Zollikofen June 9, 2021 10h\n",
      "QUERY:  temperature in Zollikofen June 9, 2021 10h\n",
      "QUERY:  humidity in Zollikofen June 9, 2021 10h\n",
      "QUERY:  wind speed in Zollikofen June 9, 2021 10h\n",
      "QUERY:  Moon Phase calculatorJune 9, 2021 10h\n"
     ]
    },
    {
     "name": "stderr",
     "output_type": "stream",
     "text": [
      "\r",
      "  8%|██████▎                                                                      | 115/1401 [39:17<7:34:18, 21.20s/it]"
     ]
    },
    {
     "name": "stdout",
     "output_type": "stream",
     "text": [
      "QUERY:  Precipitation amount in Zollikofen June 9, 2021 11h\n",
      "QUERY:  temperature in Zollikofen June 9, 2021 11h\n",
      "QUERY:  humidity in Zollikofen June 9, 2021 11h\n",
      "QUERY:  wind speed in Zollikofen June 9, 2021 11h\n",
      "QUERY:  Moon Phase calculatorJune 9, 2021 11h\n"
     ]
    },
    {
     "name": "stderr",
     "output_type": "stream",
     "text": [
      "\r",
      "  8%|██████▍                                                                      | 116/1401 [39:38<7:33:51, 21.19s/it]"
     ]
    },
    {
     "name": "stdout",
     "output_type": "stream",
     "text": [
      "QUERY:  Precipitation amount in Zollikofen June 9, 2021 12h\n",
      "QUERY:  temperature in Zollikofen June 9, 2021 12h\n",
      "QUERY:  humidity in Zollikofen June 9, 2021 12h\n",
      "QUERY:  wind speed in Zollikofen June 9, 2021 12h\n",
      "QUERY:  Moon Phase calculatorJune 9, 2021 12h\n"
     ]
    },
    {
     "name": "stderr",
     "output_type": "stream",
     "text": [
      "\r",
      "  8%|██████▍                                                                      | 117/1401 [39:58<7:29:41, 21.01s/it]"
     ]
    },
    {
     "name": "stdout",
     "output_type": "stream",
     "text": [
      "QUERY:  Precipitation amount in Zollikofen June 9, 2021 13h\n",
      "QUERY:  temperature in Zollikofen June 9, 2021 13h\n",
      "QUERY:  humidity in Zollikofen June 9, 2021 13h\n",
      "QUERY:  wind speed in Zollikofen June 9, 2021 13h\n",
      "QUERY:  Moon Phase calculatorJune 9, 2021 13h\n"
     ]
    },
    {
     "name": "stderr",
     "output_type": "stream",
     "text": [
      "\r",
      "  8%|██████▍                                                                      | 118/1401 [40:19<7:28:34, 20.98s/it]"
     ]
    },
    {
     "name": "stdout",
     "output_type": "stream",
     "text": [
      "QUERY:  Precipitation amount in Zollikofen June 9, 2021 14h\n",
      "QUERY:  temperature in Zollikofen June 9, 2021 14h\n",
      "QUERY:  humidity in Zollikofen June 9, 2021 14h\n",
      "QUERY:  wind speed in Zollikofen June 9, 2021 14h\n",
      "QUERY:  Moon Phase calculatorJune 9, 2021 14h\n"
     ]
    },
    {
     "name": "stderr",
     "output_type": "stream",
     "text": [
      "\r",
      "  8%|██████▌                                                                      | 119/1401 [40:40<7:27:36, 20.95s/it]"
     ]
    },
    {
     "name": "stdout",
     "output_type": "stream",
     "text": [
      "QUERY:  Precipitation amount in Zollikofen June 9, 2021 15h\n",
      "QUERY:  temperature in Zollikofen June 9, 2021 15h\n",
      "QUERY:  humidity in Zollikofen June 9, 2021 15h\n",
      "QUERY:  wind speed in Zollikofen June 9, 2021 15h\n",
      "QUERY:  Moon Phase calculatorJune 9, 2021 15h\n"
     ]
    },
    {
     "name": "stderr",
     "output_type": "stream",
     "text": [
      "\r",
      "  9%|██████▌                                                                      | 120/1401 [41:01<7:24:56, 20.84s/it]"
     ]
    },
    {
     "name": "stdout",
     "output_type": "stream",
     "text": [
      "QUERY:  Precipitation amount in Zollikofen June 9, 2021 16h\n",
      "QUERY:  temperature in Zollikofen June 9, 2021 16h\n",
      "QUERY:  humidity in Zollikofen June 9, 2021 16h\n",
      "QUERY:  wind speed in Zollikofen June 9, 2021 16h\n",
      "QUERY:  Moon Phase calculatorJune 9, 2021 16h\n",
      "(6089, 7)\n"
     ]
    },
    {
     "data": {
      "text/html": [
       "<div>\n",
       "<style scoped>\n",
       "    .dataframe tbody tr th:only-of-type {\n",
       "        vertical-align: middle;\n",
       "    }\n",
       "\n",
       "    .dataframe tbody tr th {\n",
       "        vertical-align: top;\n",
       "    }\n",
       "\n",
       "    .dataframe thead th {\n",
       "        text-align: right;\n",
       "    }\n",
       "</style>\n",
       "<table border=\"1\" class=\"dataframe\">\n",
       "  <thead>\n",
       "    <tr style=\"text-align: right;\">\n",
       "      <th></th>\n",
       "      <th>date</th>\n",
       "      <th>temperature</th>\n",
       "      <th>humidity</th>\n",
       "      <th>wind speed</th>\n",
       "      <th>Precipitation amount</th>\n",
       "      <th>query</th>\n",
       "      <th>Moon Phase calculator</th>\n",
       "    </tr>\n",
       "  </thead>\n",
       "  <tbody>\n",
       "    <tr>\n",
       "      <th>8</th>\n",
       "      <td>2021-06-09 15:00:00</td>\n",
       "      <td>22 °C\\n(3:00 pm CEST | Wednesday, June 9, 2021)</td>\n",
       "      <td>average: 81% (73 to 88%)\\n(3:00 pm CEST | Wedn...</td>\n",
       "      <td>3 m/s\\n(3:00 pm CEST | Wednesday, June 9, 2021)</td>\n",
       "      <td>rain\\n(3:00 pm CEST | Wednesday, June 9, 2021)</td>\n",
       "      <td>Moon Phase calculatorJune 9, 2021 15h</td>\n",
       "      <td>| waning crescent moon\\n0.76% illuminated</td>\n",
       "    </tr>\n",
       "    <tr>\n",
       "      <th>9</th>\n",
       "      <td>2021-06-09 16:00:00</td>\n",
       "      <td>21 °C\\n(4:00 pm CEST | Wednesday, June 9, 2021)</td>\n",
       "      <td>average: 94% (88 to 100%)\\n(4:00 pm CEST | Wed...</td>\n",
       "      <td>3 m/s\\n(4:00 pm CEST | Wednesday, June 9, 2021)</td>\n",
       "      <td>no precipitation\\n(4:00 pm CEST | Wednesday, J...</td>\n",
       "      <td>Moon Phase calculatorJune 9, 2021 16h</td>\n",
       "      <td>| waning crescent moon\\n0.69% illuminated</td>\n",
       "    </tr>\n",
       "  </tbody>\n",
       "</table>\n",
       "</div>"
      ],
      "text/plain": [
       "                 date                                      temperature  \\\n",
       "8 2021-06-09 15:00:00  22 °C\\n(3:00 pm CEST | Wednesday, June 9, 2021)   \n",
       "9 2021-06-09 16:00:00  21 °C\\n(4:00 pm CEST | Wednesday, June 9, 2021)   \n",
       "\n",
       "                                            humidity  \\\n",
       "8  average: 81% (73 to 88%)\\n(3:00 pm CEST | Wedn...   \n",
       "9  average: 94% (88 to 100%)\\n(4:00 pm CEST | Wed...   \n",
       "\n",
       "                                        wind speed  \\\n",
       "8  3 m/s\\n(3:00 pm CEST | Wednesday, June 9, 2021)   \n",
       "9  3 m/s\\n(4:00 pm CEST | Wednesday, June 9, 2021)   \n",
       "\n",
       "                                Precipitation amount  \\\n",
       "8     rain\\n(3:00 pm CEST | Wednesday, June 9, 2021)   \n",
       "9  no precipitation\\n(4:00 pm CEST | Wednesday, J...   \n",
       "\n",
       "                                   query  \\\n",
       "8  Moon Phase calculatorJune 9, 2021 15h   \n",
       "9  Moon Phase calculatorJune 9, 2021 16h   \n",
       "\n",
       "                       Moon Phase calculator  \n",
       "8  | waning crescent moon\\n0.76% illuminated  \n",
       "9  | waning crescent moon\\n0.69% illuminated  "
      ]
     },
     "metadata": {},
     "output_type": "display_data"
    },
    {
     "name": "stderr",
     "output_type": "stream",
     "text": [
      "\r",
      "  9%|██████▋                                                                      | 121/1401 [41:22<7:27:52, 20.99s/it]"
     ]
    },
    {
     "name": "stdout",
     "output_type": "stream",
     "text": [
      "QUERY:  Precipitation amount in Zollikofen June 9, 2021 17h\n",
      "QUERY:  temperature in Zollikofen June 9, 2021 17h\n",
      "QUERY:  humidity in Zollikofen June 9, 2021 17h\n",
      "QUERY:  wind speed in Zollikofen June 9, 2021 17h\n",
      "QUERY:  Moon Phase calculatorJune 9, 2021 17h\n"
     ]
    },
    {
     "name": "stderr",
     "output_type": "stream",
     "text": [
      "\r",
      "  9%|██████▋                                                                      | 122/1401 [41:43<7:29:49, 21.10s/it]"
     ]
    },
    {
     "name": "stdout",
     "output_type": "stream",
     "text": [
      "QUERY:  Precipitation amount in Zollikofen June 9, 2021 18h\n",
      "QUERY:  temperature in Zollikofen June 9, 2021 18h\n",
      "QUERY:  humidity in Zollikofen June 9, 2021 18h\n",
      "QUERY:  wind speed in Zollikofen June 9, 2021 18h\n",
      "QUERY:  Moon Phase calculatorJune 9, 2021 18h\n"
     ]
    },
    {
     "name": "stderr",
     "output_type": "stream",
     "text": [
      "\r",
      "  9%|██████▊                                                                      | 123/1401 [42:04<7:26:47, 20.98s/it]"
     ]
    },
    {
     "name": "stdout",
     "output_type": "stream",
     "text": [
      "QUERY:  Precipitation amount in Zollikofen June 9, 2021 19h\n",
      "QUERY:  temperature in Zollikofen June 9, 2021 19h\n",
      "QUERY:  humidity in Zollikofen June 9, 2021 19h\n",
      "QUERY:  wind speed in Zollikofen June 9, 2021 19h\n",
      "QUERY:  Moon Phase calculatorJune 9, 2021 19h\n"
     ]
    },
    {
     "name": "stderr",
     "output_type": "stream",
     "text": [
      "\r",
      "  9%|██████▊                                                                      | 124/1401 [42:26<7:29:10, 21.10s/it]"
     ]
    },
    {
     "name": "stdout",
     "output_type": "stream",
     "text": [
      "QUERY:  Precipitation amount in Zollikofen June 9, 2021 20h\n",
      "QUERY:  temperature in Zollikofen June 9, 2021 20h\n",
      "QUERY:  humidity in Zollikofen June 9, 2021 20h\n",
      "QUERY:  wind speed in Zollikofen June 9, 2021 20h\n",
      "QUERY:  Moon Phase calculatorJune 9, 2021 20h\n"
     ]
    },
    {
     "name": "stderr",
     "output_type": "stream",
     "text": [
      "\r",
      "  9%|██████▊                                                                      | 125/1401 [42:46<7:27:33, 21.05s/it]"
     ]
    },
    {
     "name": "stdout",
     "output_type": "stream",
     "text": [
      "QUERY:  Precipitation amount in Zollikofen June 9, 2021 21h\n",
      "QUERY:  temperature in Zollikofen June 9, 2021 21h\n",
      "QUERY:  humidity in Zollikofen June 9, 2021 21h\n",
      "QUERY:  wind speed in Zollikofen June 9, 2021 21h\n",
      "QUERY:  Moon Phase calculatorJune 9, 2021 21h\n"
     ]
    },
    {
     "name": "stderr",
     "output_type": "stream",
     "text": [
      "\r",
      "  9%|██████▉                                                                      | 126/1401 [43:07<7:27:07, 21.04s/it]"
     ]
    },
    {
     "name": "stdout",
     "output_type": "stream",
     "text": [
      "QUERY:  Precipitation amount in Zollikofen June 9, 2021 22h\n",
      "QUERY:  temperature in Zollikofen June 9, 2021 22h\n",
      "QUERY:  humidity in Zollikofen June 9, 2021 22h\n",
      "QUERY:  wind speed in Zollikofen June 9, 2021 22h\n",
      "QUERY:  Moon Phase calculatorJune 9, 2021 22h\n"
     ]
    },
    {
     "name": "stderr",
     "output_type": "stream",
     "text": [
      "\r",
      "  9%|██████▉                                                                      | 127/1401 [43:28<7:22:09, 20.82s/it]"
     ]
    },
    {
     "name": "stdout",
     "output_type": "stream",
     "text": [
      "QUERY:  Precipitation amount in Zollikofen June 9, 2021 23h\n",
      "QUERY:  temperature in Zollikofen June 9, 2021 23h\n",
      "QUERY:  humidity in Zollikofen June 9, 2021 23h\n",
      "QUERY:  wind speed in Zollikofen June 9, 2021 23h\n",
      "QUERY:  Moon Phase calculatorJune 9, 2021 23h\n"
     ]
    },
    {
     "name": "stderr",
     "output_type": "stream",
     "text": [
      "\r",
      "  9%|███████                                                                      | 128/1401 [43:48<7:20:57, 20.78s/it]"
     ]
    },
    {
     "name": "stdout",
     "output_type": "stream",
     "text": [
      "QUERY:  Precipitation amount in Zollikofen June 10, 2021 0h\n",
      "QUERY:  temperature in Zollikofen June 10, 2021 0h\n",
      "QUERY:  humidity in Zollikofen June 10, 2021 0h\n",
      "QUERY:  wind speed in Zollikofen June 10, 2021 0h\n",
      "QUERY:  Moon Phase calculatorJune 10, 2021 0h\n"
     ]
    },
    {
     "name": "stderr",
     "output_type": "stream",
     "text": [
      "\r",
      "  9%|███████                                                                      | 129/1401 [44:10<7:22:18, 20.86s/it]"
     ]
    },
    {
     "name": "stdout",
     "output_type": "stream",
     "text": [
      "QUERY:  Precipitation amount in Zollikofen June 10, 2021 1h\n",
      "QUERY:  temperature in Zollikofen June 10, 2021 1h\n",
      "QUERY:  humidity in Zollikofen June 10, 2021 1h\n",
      "QUERY:  wind speed in Zollikofen June 10, 2021 1h\n",
      "QUERY:  Moon Phase calculatorJune 10, 2021 1h\n"
     ]
    },
    {
     "name": "stderr",
     "output_type": "stream",
     "text": [
      "\r",
      "  9%|███████▏                                                                     | 130/1401 [44:32<7:34:29, 21.45s/it]"
     ]
    },
    {
     "name": "stdout",
     "output_type": "stream",
     "text": [
      "QUERY:  Precipitation amount in Zollikofen June 10, 2021 2h\n",
      "QUERY:  temperature in Zollikofen June 10, 2021 2h\n",
      "QUERY:  humidity in Zollikofen June 10, 2021 2h\n",
      "QUERY:  wind speed in Zollikofen June 10, 2021 2h\n",
      "QUERY:  Moon Phase calculatorJune 10, 2021 2h\n",
      "(6099, 7)\n"
     ]
    },
    {
     "data": {
      "text/html": [
       "<div>\n",
       "<style scoped>\n",
       "    .dataframe tbody tr th:only-of-type {\n",
       "        vertical-align: middle;\n",
       "    }\n",
       "\n",
       "    .dataframe tbody tr th {\n",
       "        vertical-align: top;\n",
       "    }\n",
       "\n",
       "    .dataframe thead th {\n",
       "        text-align: right;\n",
       "    }\n",
       "</style>\n",
       "<table border=\"1\" class=\"dataframe\">\n",
       "  <thead>\n",
       "    <tr style=\"text-align: right;\">\n",
       "      <th></th>\n",
       "      <th>date</th>\n",
       "      <th>temperature</th>\n",
       "      <th>humidity</th>\n",
       "      <th>wind speed</th>\n",
       "      <th>Precipitation amount</th>\n",
       "      <th>query</th>\n",
       "      <th>Moon Phase calculator</th>\n",
       "    </tr>\n",
       "  </thead>\n",
       "  <tbody>\n",
       "    <tr>\n",
       "      <th>8</th>\n",
       "      <td>2021-06-10 01:00:00</td>\n",
       "      <td>14 °C\\n(1:00 am CEST | Thursday, June 10, 2021)</td>\n",
       "      <td>average: 100% (100%)\\n(1:00 am CEST | Thursday...</td>\n",
       "      <td>2 m/s\\n(1:00 am CEST | Thursday, June 10, 2021)</td>\n",
       "      <td>no precipitation\\n(1:00 am CEST | Thursday, Ju...</td>\n",
       "      <td>Moon Phase calculatorJune 10, 2021 1h</td>\n",
       "      <td>| new moon\\n0.22% illuminated</td>\n",
       "    </tr>\n",
       "    <tr>\n",
       "      <th>9</th>\n",
       "      <td>2021-06-10 02:00:00</td>\n",
       "      <td>14 °C\\n(2:00 am CEST | Thursday, June 10, 2021)</td>\n",
       "      <td>average: 100% (100%)\\n(2:00 am CEST | Thursday...</td>\n",
       "      <td>1 m/s\\n(2:00 am CEST | Thursday, June 10, 2021)</td>\n",
       "      <td>no precipitation\\n(2:00 am CEST | Thursday, Ju...</td>\n",
       "      <td>Moon Phase calculatorJune 10, 2021 2h</td>\n",
       "      <td>| new moon\\n0.19% illuminated</td>\n",
       "    </tr>\n",
       "  </tbody>\n",
       "</table>\n",
       "</div>"
      ],
      "text/plain": [
       "                 date                                      temperature  \\\n",
       "8 2021-06-10 01:00:00  14 °C\\n(1:00 am CEST | Thursday, June 10, 2021)   \n",
       "9 2021-06-10 02:00:00  14 °C\\n(2:00 am CEST | Thursday, June 10, 2021)   \n",
       "\n",
       "                                            humidity  \\\n",
       "8  average: 100% (100%)\\n(1:00 am CEST | Thursday...   \n",
       "9  average: 100% (100%)\\n(2:00 am CEST | Thursday...   \n",
       "\n",
       "                                        wind speed  \\\n",
       "8  2 m/s\\n(1:00 am CEST | Thursday, June 10, 2021)   \n",
       "9  1 m/s\\n(2:00 am CEST | Thursday, June 10, 2021)   \n",
       "\n",
       "                                Precipitation amount  \\\n",
       "8  no precipitation\\n(1:00 am CEST | Thursday, Ju...   \n",
       "9  no precipitation\\n(2:00 am CEST | Thursday, Ju...   \n",
       "\n",
       "                                   query          Moon Phase calculator  \n",
       "8  Moon Phase calculatorJune 10, 2021 1h  | new moon\\n0.22% illuminated  \n",
       "9  Moon Phase calculatorJune 10, 2021 2h  | new moon\\n0.19% illuminated  "
      ]
     },
     "metadata": {},
     "output_type": "display_data"
    },
    {
     "name": "stderr",
     "output_type": "stream",
     "text": [
      "\r",
      "  9%|███████▏                                                                     | 131/1401 [44:54<7:33:04, 21.40s/it]"
     ]
    },
    {
     "name": "stdout",
     "output_type": "stream",
     "text": [
      "QUERY:  Precipitation amount in Zollikofen June 10, 2021 3h\n",
      "QUERY:  temperature in Zollikofen June 10, 2021 3h\n",
      "QUERY:  humidity in Zollikofen June 10, 2021 3h\n",
      "QUERY:  wind speed in Zollikofen June 10, 2021 3h\n",
      "QUERY:  Moon Phase calculatorJune 10, 2021 3h\n"
     ]
    },
    {
     "name": "stderr",
     "output_type": "stream",
     "text": [
      "\r",
      "  9%|███████▎                                                                     | 132/1401 [45:15<7:32:50, 21.41s/it]"
     ]
    },
    {
     "name": "stdout",
     "output_type": "stream",
     "text": [
      "QUERY:  Precipitation amount in Zollikofen June 10, 2021 4h\n",
      "QUERY:  temperature in Zollikofen June 10, 2021 4h\n",
      "QUERY:  humidity in Zollikofen June 10, 2021 4h\n",
      "QUERY:  wind speed in Zollikofen June 10, 2021 4h\n",
      "QUERY:  Moon Phase calculatorJune 10, 2021 4h\n"
     ]
    },
    {
     "name": "stderr",
     "output_type": "stream",
     "text": [
      "\r",
      "  9%|███████▎                                                                     | 133/1401 [45:35<7:24:43, 21.04s/it]"
     ]
    },
    {
     "name": "stdout",
     "output_type": "stream",
     "text": [
      "QUERY:  Precipitation amount in Zollikofen June 10, 2021 5h\n",
      "QUERY:  temperature in Zollikofen June 10, 2021 5h\n",
      "QUERY:  humidity in Zollikofen June 10, 2021 5h\n",
      "QUERY:  wind speed in Zollikofen June 10, 2021 5h\n",
      "QUERY:  Moon Phase calculatorJune 10, 2021 5h\n"
     ]
    },
    {
     "name": "stderr",
     "output_type": "stream",
     "text": [
      "\r",
      " 10%|███████▎                                                                     | 134/1401 [45:56<7:23:17, 20.99s/it]"
     ]
    },
    {
     "name": "stdout",
     "output_type": "stream",
     "text": [
      "QUERY:  Precipitation amount in Zollikofen June 10, 2021 6h\n",
      "QUERY:  temperature in Zollikofen June 10, 2021 6h\n",
      "QUERY:  humidity in Zollikofen June 10, 2021 6h\n",
      "QUERY:  wind speed in Zollikofen June 10, 2021 6h\n",
      "QUERY:  Moon Phase calculatorJune 10, 2021 6h\n"
     ]
    },
    {
     "name": "stderr",
     "output_type": "stream",
     "text": [
      "\r",
      " 10%|███████▍                                                                     | 135/1401 [46:16<7:15:44, 20.65s/it]"
     ]
    },
    {
     "name": "stdout",
     "output_type": "stream",
     "text": [
      "QUERY:  Precipitation amount in Zollikofen June 10, 2021 7h\n",
      "QUERY:  temperature in Zollikofen June 10, 2021 7h\n",
      "QUERY:  humidity in Zollikofen June 10, 2021 7h\n",
      "QUERY:  wind speed in Zollikofen June 10, 2021 7h\n",
      "QUERY:  Moon Phase calculatorJune 10, 2021 7h\n"
     ]
    },
    {
     "name": "stderr",
     "output_type": "stream",
     "text": [
      "\r",
      " 10%|███████▍                                                                     | 136/1401 [46:37<7:15:54, 20.68s/it]"
     ]
    },
    {
     "name": "stdout",
     "output_type": "stream",
     "text": [
      "QUERY:  Precipitation amount in Zollikofen June 10, 2021 8h\n",
      "QUERY:  temperature in Zollikofen June 10, 2021 8h\n",
      "QUERY:  humidity in Zollikofen June 10, 2021 8h\n",
      "QUERY:  wind speed in Zollikofen June 10, 2021 8h\n",
      "QUERY:  Moon Phase calculatorJune 10, 2021 8h\n"
     ]
    },
    {
     "name": "stderr",
     "output_type": "stream",
     "text": [
      "\r",
      " 10%|███████▌                                                                     | 137/1401 [46:57<7:11:29, 20.48s/it]"
     ]
    },
    {
     "name": "stdout",
     "output_type": "stream",
     "text": [
      "QUERY:  Precipitation amount in Zollikofen June 10, 2021 9h\n",
      "QUERY:  temperature in Zollikofen June 10, 2021 9h\n",
      "QUERY:  humidity in Zollikofen June 10, 2021 9h\n",
      "QUERY:  wind speed in Zollikofen June 10, 2021 9h\n",
      "QUERY:  Moon Phase calculatorJune 10, 2021 9h\n"
     ]
    },
    {
     "name": "stderr",
     "output_type": "stream",
     "text": [
      "\r",
      " 10%|███████▌                                                                     | 138/1401 [47:17<7:12:02, 20.52s/it]"
     ]
    },
    {
     "name": "stdout",
     "output_type": "stream",
     "text": [
      "QUERY:  Precipitation amount in Zollikofen June 10, 2021 10h\n",
      "QUERY:  temperature in Zollikofen June 10, 2021 10h\n",
      "QUERY:  humidity in Zollikofen June 10, 2021 10h\n",
      "QUERY:  wind speed in Zollikofen June 10, 2021 10h\n",
      "QUERY:  Moon Phase calculatorJune 10, 2021 10h\n"
     ]
    },
    {
     "name": "stderr",
     "output_type": "stream",
     "text": [
      "\r",
      " 10%|███████▋                                                                     | 139/1401 [47:39<7:17:52, 20.82s/it]"
     ]
    },
    {
     "name": "stdout",
     "output_type": "stream",
     "text": [
      "QUERY:  Precipitation amount in Zollikofen June 10, 2021 11h\n",
      "QUERY:  temperature in Zollikofen June 10, 2021 11h\n",
      "QUERY:  humidity in Zollikofen June 10, 2021 11h\n",
      "QUERY:  wind speed in Zollikofen June 10, 2021 11h\n",
      "QUERY:  Moon Phase calculatorJune 10, 2021 11h\n"
     ]
    },
    {
     "name": "stderr",
     "output_type": "stream",
     "text": [
      "\r",
      " 10%|███████▋                                                                     | 140/1401 [48:01<7:25:43, 21.21s/it]"
     ]
    },
    {
     "name": "stdout",
     "output_type": "stream",
     "text": [
      "QUERY:  Precipitation amount in Zollikofen June 10, 2021 12h\n",
      "QUERY:  temperature in Zollikofen June 10, 2021 12h\n",
      "QUERY:  humidity in Zollikofen June 10, 2021 12h\n",
      "QUERY:  wind speed in Zollikofen June 10, 2021 12h\n",
      "QUERY:  Moon Phase calculatorJune 10, 2021 12h\n",
      "(6109, 7)\n"
     ]
    },
    {
     "data": {
      "text/html": [
       "<div>\n",
       "<style scoped>\n",
       "    .dataframe tbody tr th:only-of-type {\n",
       "        vertical-align: middle;\n",
       "    }\n",
       "\n",
       "    .dataframe tbody tr th {\n",
       "        vertical-align: top;\n",
       "    }\n",
       "\n",
       "    .dataframe thead th {\n",
       "        text-align: right;\n",
       "    }\n",
       "</style>\n",
       "<table border=\"1\" class=\"dataframe\">\n",
       "  <thead>\n",
       "    <tr style=\"text-align: right;\">\n",
       "      <th></th>\n",
       "      <th>date</th>\n",
       "      <th>temperature</th>\n",
       "      <th>humidity</th>\n",
       "      <th>wind speed</th>\n",
       "      <th>Precipitation amount</th>\n",
       "      <th>query</th>\n",
       "      <th>Moon Phase calculator</th>\n",
       "    </tr>\n",
       "  </thead>\n",
       "  <tbody>\n",
       "    <tr>\n",
       "      <th>8</th>\n",
       "      <td>2021-06-10 11:00:00</td>\n",
       "      <td>20 °C\\n(11:00 am CEST | Thursday, June 10, 2021)</td>\n",
       "      <td>average: 64% (64 to 65%)\\n(11:00 am CEST | Thu...</td>\n",
       "      <td>3 m/s\\n(11:00 am CEST | Thursday, June 10, 2021)</td>\n",
       "      <td>no precipitation\\n(11:00 am CEST | Thursday, J...</td>\n",
       "      <td>Moon Phase calculatorJune 10, 2021 11h</td>\n",
       "      <td>| new moon\\n0.01% illuminated</td>\n",
       "    </tr>\n",
       "    <tr>\n",
       "      <th>9</th>\n",
       "      <td>2021-06-10 12:00:00</td>\n",
       "      <td>21 °C\\n(12:00 pm CEST | Thursday, June 10, 2021)</td>\n",
       "      <td>average: 65% (65%)\\n(12:00 pm CEST | Thursday,...</td>\n",
       "      <td>3 m/s\\n(12:00 pm CEST | Thursday, June 10, 2021)</td>\n",
       "      <td>no precipitation\\n(12:00 pm CEST | Thursday, J...</td>\n",
       "      <td>Moon Phase calculatorJune 10, 2021 12h</td>\n",
       "      <td>| new moon\\n0.01% illuminated</td>\n",
       "    </tr>\n",
       "  </tbody>\n",
       "</table>\n",
       "</div>"
      ],
      "text/plain": [
       "                 date                                       temperature  \\\n",
       "8 2021-06-10 11:00:00  20 °C\\n(11:00 am CEST | Thursday, June 10, 2021)   \n",
       "9 2021-06-10 12:00:00  21 °C\\n(12:00 pm CEST | Thursday, June 10, 2021)   \n",
       "\n",
       "                                            humidity  \\\n",
       "8  average: 64% (64 to 65%)\\n(11:00 am CEST | Thu...   \n",
       "9  average: 65% (65%)\\n(12:00 pm CEST | Thursday,...   \n",
       "\n",
       "                                         wind speed  \\\n",
       "8  3 m/s\\n(11:00 am CEST | Thursday, June 10, 2021)   \n",
       "9  3 m/s\\n(12:00 pm CEST | Thursday, June 10, 2021)   \n",
       "\n",
       "                                Precipitation amount  \\\n",
       "8  no precipitation\\n(11:00 am CEST | Thursday, J...   \n",
       "9  no precipitation\\n(12:00 pm CEST | Thursday, J...   \n",
       "\n",
       "                                    query          Moon Phase calculator  \n",
       "8  Moon Phase calculatorJune 10, 2021 11h  | new moon\\n0.01% illuminated  \n",
       "9  Moon Phase calculatorJune 10, 2021 12h  | new moon\\n0.01% illuminated  "
      ]
     },
     "metadata": {},
     "output_type": "display_data"
    },
    {
     "name": "stderr",
     "output_type": "stream",
     "text": [
      "\r",
      " 10%|███████▋                                                                     | 141/1401 [48:22<7:22:24, 21.07s/it]"
     ]
    },
    {
     "name": "stdout",
     "output_type": "stream",
     "text": [
      "QUERY:  Precipitation amount in Zollikofen June 10, 2021 13h\n",
      "QUERY:  temperature in Zollikofen June 10, 2021 13h\n",
      "QUERY:  humidity in Zollikofen June 10, 2021 13h\n",
      "QUERY:  wind speed in Zollikofen June 10, 2021 13h\n",
      "QUERY:  Moon Phase calculatorJune 10, 2021 13h\n"
     ]
    },
    {
     "name": "stderr",
     "output_type": "stream",
     "text": [
      "\r",
      " 10%|███████▊                                                                     | 142/1401 [48:43<7:21:53, 21.06s/it]"
     ]
    },
    {
     "name": "stdout",
     "output_type": "stream",
     "text": [
      "QUERY:  Precipitation amount in Zollikofen June 10, 2021 14h\n",
      "QUERY:  temperature in Zollikofen June 10, 2021 14h\n",
      "QUERY:  humidity in Zollikofen June 10, 2021 14h\n",
      "QUERY:  wind speed in Zollikofen June 10, 2021 14h\n",
      "QUERY:  Moon Phase calculatorJune 10, 2021 14h\n"
     ]
    },
    {
     "name": "stderr",
     "output_type": "stream",
     "text": [
      "\r",
      " 10%|███████▊                                                                     | 143/1401 [49:03<7:14:40, 20.73s/it]"
     ]
    },
    {
     "name": "stdout",
     "output_type": "stream",
     "text": [
      "QUERY:  Precipitation amount in Zollikofen June 10, 2021 15h\n",
      "QUERY:  temperature in Zollikofen June 10, 2021 15h\n",
      "QUERY:  humidity in Zollikofen June 10, 2021 15h\n",
      "QUERY:  wind speed in Zollikofen June 10, 2021 15h\n",
      "QUERY:  Moon Phase calculatorJune 10, 2021 15h\n"
     ]
    },
    {
     "name": "stderr",
     "output_type": "stream",
     "text": [
      "\r",
      " 10%|███████▉                                                                     | 144/1401 [49:23<7:14:30, 20.74s/it]"
     ]
    },
    {
     "name": "stdout",
     "output_type": "stream",
     "text": [
      "QUERY:  Precipitation amount in Zollikofen June 10, 2021 16h\n",
      "QUERY:  temperature in Zollikofen June 10, 2021 16h\n",
      "QUERY:  humidity in Zollikofen June 10, 2021 16h\n",
      "QUERY:  wind speed in Zollikofen June 10, 2021 16h\n",
      "QUERY:  Moon Phase calculatorJune 10, 2021 16h\n"
     ]
    },
    {
     "name": "stderr",
     "output_type": "stream",
     "text": [
      "\r",
      " 10%|███████▉                                                                     | 145/1401 [49:44<7:12:04, 20.64s/it]"
     ]
    },
    {
     "name": "stdout",
     "output_type": "stream",
     "text": [
      "QUERY:  Precipitation amount in Zollikofen June 10, 2021 17h\n",
      "QUERY:  temperature in Zollikofen June 10, 2021 17h\n",
      "QUERY:  humidity in Zollikofen June 10, 2021 17h\n",
      "QUERY:  wind speed in Zollikofen June 10, 2021 17h\n",
      "QUERY:  Moon Phase calculatorJune 10, 2021 17h\n"
     ]
    },
    {
     "name": "stderr",
     "output_type": "stream",
     "text": [
      "\r",
      " 10%|████████                                                                     | 146/1401 [50:04<7:09:26, 20.53s/it]"
     ]
    },
    {
     "name": "stdout",
     "output_type": "stream",
     "text": [
      "QUERY:  Precipitation amount in Zollikofen June 10, 2021 18h\n",
      "QUERY:  temperature in Zollikofen June 10, 2021 18h\n",
      "QUERY:  humidity in Zollikofen June 10, 2021 18h\n",
      "QUERY:  wind speed in Zollikofen June 10, 2021 18h\n",
      "QUERY:  Moon Phase calculatorJune 10, 2021 18h\n"
     ]
    },
    {
     "name": "stderr",
     "output_type": "stream",
     "text": [
      "\r",
      " 10%|████████                                                                     | 147/1401 [50:25<7:09:25, 20.55s/it]"
     ]
    },
    {
     "name": "stdout",
     "output_type": "stream",
     "text": [
      "QUERY:  Precipitation amount in Zollikofen June 10, 2021 19h\n",
      "QUERY:  temperature in Zollikofen June 10, 2021 19h\n",
      "QUERY:  humidity in Zollikofen June 10, 2021 19h\n",
      "QUERY:  wind speed in Zollikofen June 10, 2021 19h\n",
      "QUERY:  Moon Phase calculatorJune 10, 2021 19h\n"
     ]
    },
    {
     "name": "stderr",
     "output_type": "stream",
     "text": [
      "\r",
      " 11%|████████▏                                                                    | 148/1401 [50:46<7:15:04, 20.83s/it]"
     ]
    },
    {
     "name": "stdout",
     "output_type": "stream",
     "text": [
      "QUERY:  Precipitation amount in Zollikofen June 10, 2021 20h\n",
      "QUERY:  temperature in Zollikofen June 10, 2021 20h\n",
      "QUERY:  humidity in Zollikofen June 10, 2021 20h\n",
      "QUERY:  wind speed in Zollikofen June 10, 2021 20h\n",
      "QUERY:  Moon Phase calculatorJune 10, 2021 20h\n"
     ]
    },
    {
     "name": "stderr",
     "output_type": "stream",
     "text": [
      "\r",
      " 11%|████████▏                                                                    | 149/1401 [51:07<7:12:30, 20.73s/it]"
     ]
    },
    {
     "name": "stdout",
     "output_type": "stream",
     "text": [
      "QUERY:  Precipitation amount in Zollikofen June 10, 2021 21h\n",
      "QUERY:  temperature in Zollikofen June 10, 2021 21h\n",
      "QUERY:  humidity in Zollikofen June 10, 2021 21h\n",
      "QUERY:  wind speed in Zollikofen June 10, 2021 21h\n",
      "QUERY:  Moon Phase calculatorJune 10, 2021 21h\n"
     ]
    },
    {
     "name": "stderr",
     "output_type": "stream",
     "text": [
      "\r",
      " 11%|████████▏                                                                    | 150/1401 [51:27<7:09:21, 20.59s/it]"
     ]
    },
    {
     "name": "stdout",
     "output_type": "stream",
     "text": [
      "QUERY:  Precipitation amount in Zollikofen June 10, 2021 22h\n",
      "QUERY:  temperature in Zollikofen June 10, 2021 22h\n",
      "QUERY:  humidity in Zollikofen June 10, 2021 22h\n",
      "QUERY:  wind speed in Zollikofen June 10, 2021 22h\n",
      "QUERY:  Moon Phase calculatorJune 10, 2021 22h\n",
      "(6119, 7)\n"
     ]
    },
    {
     "data": {
      "text/html": [
       "<div>\n",
       "<style scoped>\n",
       "    .dataframe tbody tr th:only-of-type {\n",
       "        vertical-align: middle;\n",
       "    }\n",
       "\n",
       "    .dataframe tbody tr th {\n",
       "        vertical-align: top;\n",
       "    }\n",
       "\n",
       "    .dataframe thead th {\n",
       "        text-align: right;\n",
       "    }\n",
       "</style>\n",
       "<table border=\"1\" class=\"dataframe\">\n",
       "  <thead>\n",
       "    <tr style=\"text-align: right;\">\n",
       "      <th></th>\n",
       "      <th>date</th>\n",
       "      <th>temperature</th>\n",
       "      <th>humidity</th>\n",
       "      <th>wind speed</th>\n",
       "      <th>Precipitation amount</th>\n",
       "      <th>query</th>\n",
       "      <th>Moon Phase calculator</th>\n",
       "    </tr>\n",
       "  </thead>\n",
       "  <tbody>\n",
       "    <tr>\n",
       "      <th>8</th>\n",
       "      <td>2021-06-10 21:00:00</td>\n",
       "      <td>19 °C\\n(9:00 pm CEST | Thursday, June 10, 2021)</td>\n",
       "      <td>average: 84% (68 to 100%)\\n(9:00 pm CEST | Thu...</td>\n",
       "      <td>1 m/s\\n(9:00 pm CEST | Thursday, June 10, 2021)</td>\n",
       "      <td>no precipitation\\n(9:00 pm CEST | Thursday, Ju...</td>\n",
       "      <td>Moon Phase calculatorJune 10, 2021 21h</td>\n",
       "      <td>| new moon\\n0.12% illuminated</td>\n",
       "    </tr>\n",
       "    <tr>\n",
       "      <th>9</th>\n",
       "      <td>2021-06-10 22:00:00</td>\n",
       "      <td>17 °C\\n(10:00 pm CEST | Thursday, June 10, 2021)</td>\n",
       "      <td>average: 97% (94 to 100%)\\n(10:00 pm CEST | Th...</td>\n",
       "      <td>1 m/s\\n(10:00 pm CEST | Thursday, June 10, 2021)</td>\n",
       "      <td>no precipitation\\n(10:00 pm CEST | Thursday, J...</td>\n",
       "      <td>Moon Phase calculatorJune 10, 2021 22h</td>\n",
       "      <td>| new moon\\n0.14% illuminated</td>\n",
       "    </tr>\n",
       "  </tbody>\n",
       "</table>\n",
       "</div>"
      ],
      "text/plain": [
       "                 date                                       temperature  \\\n",
       "8 2021-06-10 21:00:00   19 °C\\n(9:00 pm CEST | Thursday, June 10, 2021)   \n",
       "9 2021-06-10 22:00:00  17 °C\\n(10:00 pm CEST | Thursday, June 10, 2021)   \n",
       "\n",
       "                                            humidity  \\\n",
       "8  average: 84% (68 to 100%)\\n(9:00 pm CEST | Thu...   \n",
       "9  average: 97% (94 to 100%)\\n(10:00 pm CEST | Th...   \n",
       "\n",
       "                                         wind speed  \\\n",
       "8   1 m/s\\n(9:00 pm CEST | Thursday, June 10, 2021)   \n",
       "9  1 m/s\\n(10:00 pm CEST | Thursday, June 10, 2021)   \n",
       "\n",
       "                                Precipitation amount  \\\n",
       "8  no precipitation\\n(9:00 pm CEST | Thursday, Ju...   \n",
       "9  no precipitation\\n(10:00 pm CEST | Thursday, J...   \n",
       "\n",
       "                                    query          Moon Phase calculator  \n",
       "8  Moon Phase calculatorJune 10, 2021 21h  | new moon\\n0.12% illuminated  \n",
       "9  Moon Phase calculatorJune 10, 2021 22h  | new moon\\n0.14% illuminated  "
      ]
     },
     "metadata": {},
     "output_type": "display_data"
    },
    {
     "name": "stderr",
     "output_type": "stream",
     "text": [
      "\r",
      " 11%|████████▎                                                                    | 151/1401 [51:48<7:13:35, 20.81s/it]"
     ]
    },
    {
     "name": "stdout",
     "output_type": "stream",
     "text": [
      "QUERY:  Precipitation amount in Zollikofen June 10, 2021 23h\n",
      "QUERY:  temperature in Zollikofen June 10, 2021 23h\n",
      "QUERY:  humidity in Zollikofen June 10, 2021 23h\n",
      "QUERY:  wind speed in Zollikofen June 10, 2021 23h\n",
      "QUERY:  Moon Phase calculatorJune 10, 2021 23h\n"
     ]
    },
    {
     "name": "stderr",
     "output_type": "stream",
     "text": [
      "\r",
      " 11%|████████▎                                                                    | 152/1401 [52:09<7:11:38, 20.74s/it]"
     ]
    },
    {
     "name": "stdout",
     "output_type": "stream",
     "text": [
      "QUERY:  Precipitation amount in Zollikofen June 11, 2021 0h\n",
      "QUERY:  temperature in Zollikofen June 11, 2021 0h\n",
      "QUERY:  humidity in Zollikofen June 11, 2021 0h\n",
      "QUERY:  wind speed in Zollikofen June 11, 2021 0h\n",
      "QUERY:  Moon Phase calculatorJune 11, 2021 0h\n"
     ]
    },
    {
     "name": "stderr",
     "output_type": "stream",
     "text": [
      "\r",
      " 11%|████████▍                                                                    | 153/1401 [52:29<7:10:21, 20.69s/it]"
     ]
    },
    {
     "name": "stdout",
     "output_type": "stream",
     "text": [
      "QUERY:  Precipitation amount in Zollikofen June 11, 2021 1h\n",
      "QUERY:  temperature in Zollikofen June 11, 2021 1h\n",
      "QUERY:  humidity in Zollikofen June 11, 2021 1h\n",
      "QUERY:  wind speed in Zollikofen June 11, 2021 1h\n",
      "QUERY:  Moon Phase calculatorJune 11, 2021 1h\n"
     ]
    },
    {
     "name": "stderr",
     "output_type": "stream",
     "text": [
      "\r",
      " 11%|████████▍                                                                    | 154/1401 [52:51<7:13:10, 20.84s/it]"
     ]
    },
    {
     "name": "stdout",
     "output_type": "stream",
     "text": [
      "QUERY:  Precipitation amount in Zollikofen June 11, 2021 2h\n",
      "QUERY:  temperature in Zollikofen June 11, 2021 2h\n",
      "QUERY:  humidity in Zollikofen June 11, 2021 2h\n",
      "QUERY:  wind speed in Zollikofen June 11, 2021 2h\n",
      "QUERY:  Moon Phase calculatorJune 11, 2021 2h\n"
     ]
    },
    {
     "name": "stderr",
     "output_type": "stream",
     "text": [
      "\r",
      " 11%|████████▌                                                                    | 155/1401 [53:11<7:06:44, 20.55s/it]"
     ]
    },
    {
     "name": "stdout",
     "output_type": "stream",
     "text": [
      "QUERY:  Precipitation amount in Zollikofen June 11, 2021 3h\n",
      "QUERY:  temperature in Zollikofen June 11, 2021 3h\n",
      "QUERY:  humidity in Zollikofen June 11, 2021 3h\n",
      "QUERY:  wind speed in Zollikofen June 11, 2021 3h\n",
      "QUERY:  Moon Phase calculatorJune 11, 2021 3h\n"
     ]
    },
    {
     "name": "stderr",
     "output_type": "stream",
     "text": [
      "\r",
      " 11%|████████▌                                                                    | 156/1401 [53:30<7:00:13, 20.25s/it]"
     ]
    },
    {
     "name": "stdout",
     "output_type": "stream",
     "text": [
      "QUERY:  Precipitation amount in Zollikofen June 11, 2021 4h\n",
      "QUERY:  temperature in Zollikofen June 11, 2021 4h\n",
      "QUERY:  humidity in Zollikofen June 11, 2021 4h\n",
      "QUERY:  wind speed in Zollikofen June 11, 2021 4h\n",
      "QUERY:  Moon Phase calculatorJune 11, 2021 4h\n"
     ]
    },
    {
     "name": "stderr",
     "output_type": "stream",
     "text": [
      "\r",
      " 11%|████████▋                                                                    | 157/1401 [53:52<7:07:02, 20.60s/it]"
     ]
    },
    {
     "name": "stdout",
     "output_type": "stream",
     "text": [
      "QUERY:  Precipitation amount in Zollikofen June 11, 2021 5h\n",
      "QUERY:  temperature in Zollikofen June 11, 2021 5h\n",
      "QUERY:  humidity in Zollikofen June 11, 2021 5h\n",
      "QUERY:  wind speed in Zollikofen June 11, 2021 5h\n",
      "QUERY:  Moon Phase calculatorJune 11, 2021 5h\n"
     ]
    },
    {
     "name": "stderr",
     "output_type": "stream",
     "text": [
      "\r",
      " 11%|████████▋                                                                    | 158/1401 [54:12<7:04:42, 20.50s/it]"
     ]
    },
    {
     "name": "stdout",
     "output_type": "stream",
     "text": [
      "QUERY:  Precipitation amount in Zollikofen June 11, 2021 6h\n",
      "QUERY:  temperature in Zollikofen June 11, 2021 6h\n",
      "QUERY:  humidity in Zollikofen June 11, 2021 6h\n",
      "QUERY:  wind speed in Zollikofen June 11, 2021 6h\n",
      "QUERY:  Moon Phase calculatorJune 11, 2021 6h\n"
     ]
    },
    {
     "name": "stderr",
     "output_type": "stream",
     "text": [
      "\r",
      " 11%|████████▋                                                                    | 159/1401 [54:33<7:06:47, 20.62s/it]"
     ]
    },
    {
     "name": "stdout",
     "output_type": "stream",
     "text": [
      "QUERY:  Precipitation amount in Zollikofen June 11, 2021 7h\n",
      "QUERY:  temperature in Zollikofen June 11, 2021 7h\n",
      "QUERY:  humidity in Zollikofen June 11, 2021 7h\n",
      "QUERY:  wind speed in Zollikofen June 11, 2021 7h\n",
      "QUERY:  Moon Phase calculatorJune 11, 2021 7h\n"
     ]
    },
    {
     "name": "stderr",
     "output_type": "stream",
     "text": [
      "\r",
      " 11%|████████▊                                                                    | 160/1401 [54:56<7:24:47, 21.51s/it]"
     ]
    },
    {
     "name": "stdout",
     "output_type": "stream",
     "text": [
      "QUERY:  Precipitation amount in Zollikofen June 11, 2021 8h\n",
      "QUERY:  temperature in Zollikofen June 11, 2021 8h\n",
      "QUERY:  humidity in Zollikofen June 11, 2021 8h\n",
      "QUERY:  wind speed in Zollikofen June 11, 2021 8h\n",
      "QUERY:  Moon Phase calculatorJune 11, 2021 8h\n",
      "(6129, 7)\n"
     ]
    },
    {
     "data": {
      "text/html": [
       "<div>\n",
       "<style scoped>\n",
       "    .dataframe tbody tr th:only-of-type {\n",
       "        vertical-align: middle;\n",
       "    }\n",
       "\n",
       "    .dataframe tbody tr th {\n",
       "        vertical-align: top;\n",
       "    }\n",
       "\n",
       "    .dataframe thead th {\n",
       "        text-align: right;\n",
       "    }\n",
       "</style>\n",
       "<table border=\"1\" class=\"dataframe\">\n",
       "  <thead>\n",
       "    <tr style=\"text-align: right;\">\n",
       "      <th></th>\n",
       "      <th>date</th>\n",
       "      <th>temperature</th>\n",
       "      <th>humidity</th>\n",
       "      <th>wind speed</th>\n",
       "      <th>Precipitation amount</th>\n",
       "      <th>query</th>\n",
       "      <th>Moon Phase calculator</th>\n",
       "    </tr>\n",
       "  </thead>\n",
       "  <tbody>\n",
       "    <tr>\n",
       "      <th>8</th>\n",
       "      <td>2021-06-11 07:00:00</td>\n",
       "      <td>15 °C\\n(7:00 am CEST | Friday, June 11, 2021)</td>\n",
       "      <td>average: 97% (94 to 100%)\\n(7:00 am CEST | Fri...</td>\n",
       "      <td>0 m/s\\n(7:00 am CEST | Friday, June 11, 2021)</td>\n",
       "      <td>no precipitation\\n(7:00 am CEST | Friday, June...</td>\n",
       "      <td>Moon Phase calculatorJune 11, 2021 7h</td>\n",
       "      <td>| waxing crescent moon\\n0.55% illuminated</td>\n",
       "    </tr>\n",
       "    <tr>\n",
       "      <th>9</th>\n",
       "      <td>2021-06-11 08:00:00</td>\n",
       "      <td>17 °C\\n(8:00 am CEST | Friday, June 11, 2021)</td>\n",
       "      <td>average: 80% (77 to 83%)\\n(8:00 am CEST | Frid...</td>\n",
       "      <td>0 m/s\\n(8:00 am CEST | Friday, June 11, 2021)</td>\n",
       "      <td>no precipitation\\n(8:00 am CEST | Friday, June...</td>\n",
       "      <td>Moon Phase calculatorJune 11, 2021 8h</td>\n",
       "      <td>| waxing crescent moon\\n0.61% illuminated</td>\n",
       "    </tr>\n",
       "  </tbody>\n",
       "</table>\n",
       "</div>"
      ],
      "text/plain": [
       "                 date                                    temperature  \\\n",
       "8 2021-06-11 07:00:00  15 °C\\n(7:00 am CEST | Friday, June 11, 2021)   \n",
       "9 2021-06-11 08:00:00  17 °C\\n(8:00 am CEST | Friday, June 11, 2021)   \n",
       "\n",
       "                                            humidity  \\\n",
       "8  average: 97% (94 to 100%)\\n(7:00 am CEST | Fri...   \n",
       "9  average: 80% (77 to 83%)\\n(8:00 am CEST | Frid...   \n",
       "\n",
       "                                      wind speed  \\\n",
       "8  0 m/s\\n(7:00 am CEST | Friday, June 11, 2021)   \n",
       "9  0 m/s\\n(8:00 am CEST | Friday, June 11, 2021)   \n",
       "\n",
       "                                Precipitation amount  \\\n",
       "8  no precipitation\\n(7:00 am CEST | Friday, June...   \n",
       "9  no precipitation\\n(8:00 am CEST | Friday, June...   \n",
       "\n",
       "                                   query  \\\n",
       "8  Moon Phase calculatorJune 11, 2021 7h   \n",
       "9  Moon Phase calculatorJune 11, 2021 8h   \n",
       "\n",
       "                       Moon Phase calculator  \n",
       "8  | waxing crescent moon\\n0.55% illuminated  \n",
       "9  | waxing crescent moon\\n0.61% illuminated  "
      ]
     },
     "metadata": {},
     "output_type": "display_data"
    },
    {
     "name": "stderr",
     "output_type": "stream",
     "text": [
      "\r",
      " 11%|████████▊                                                                    | 161/1401 [55:16<7:16:26, 21.12s/it]"
     ]
    },
    {
     "name": "stdout",
     "output_type": "stream",
     "text": [
      "QUERY:  Precipitation amount in Zollikofen June 11, 2021 9h\n",
      "QUERY:  temperature in Zollikofen June 11, 2021 9h\n",
      "QUERY:  humidity in Zollikofen June 11, 2021 9h\n",
      "QUERY:  wind speed in Zollikofen June 11, 2021 9h\n",
      "QUERY:  Moon Phase calculatorJune 11, 2021 9h\n"
     ]
    },
    {
     "name": "stderr",
     "output_type": "stream",
     "text": [
      "\r",
      " 12%|████████▉                                                                    | 162/1401 [55:35<7:00:18, 20.35s/it]"
     ]
    },
    {
     "name": "stdout",
     "output_type": "stream",
     "text": [
      "QUERY:  Precipitation amount in Zollikofen June 11, 2021 10h\n",
      "QUERY:  temperature in Zollikofen June 11, 2021 10h\n",
      "QUERY:  humidity in Zollikofen June 11, 2021 10h\n",
      "QUERY:  wind speed in Zollikofen June 11, 2021 10h\n",
      "QUERY:  Moon Phase calculatorJune 11, 2021 10h\n"
     ]
    },
    {
     "name": "stderr",
     "output_type": "stream",
     "text": [
      "\r",
      " 12%|████████▉                                                                    | 163/1401 [55:52<6:38:35, 19.32s/it]"
     ]
    },
    {
     "name": "stdout",
     "output_type": "stream",
     "text": [
      "QUERY:  Precipitation amount in Zollikofen June 11, 2021 11h\n",
      "QUERY:  temperature in Zollikofen June 11, 2021 11h\n",
      "QUERY:  humidity in Zollikofen June 11, 2021 11h\n",
      "QUERY:  wind speed in Zollikofen June 11, 2021 11h\n",
      "QUERY:  Moon Phase calculatorJune 11, 2021 11h\n"
     ]
    },
    {
     "name": "stderr",
     "output_type": "stream",
     "text": [
      "\r",
      " 12%|█████████                                                                    | 164/1401 [56:09<6:25:10, 18.68s/it]"
     ]
    },
    {
     "name": "stdout",
     "output_type": "stream",
     "text": [
      "QUERY:  Precipitation amount in Zollikofen June 11, 2021 12h\n",
      "QUERY:  temperature in Zollikofen June 11, 2021 12h\n",
      "QUERY:  humidity in Zollikofen June 11, 2021 12h\n",
      "QUERY:  wind speed in Zollikofen June 11, 2021 12h\n",
      "QUERY:  Moon Phase calculatorJune 11, 2021 12h\n"
     ]
    },
    {
     "name": "stderr",
     "output_type": "stream",
     "text": [
      "\r",
      " 12%|█████████                                                                    | 165/1401 [56:26<6:15:04, 18.21s/it]"
     ]
    },
    {
     "name": "stdout",
     "output_type": "stream",
     "text": [
      "QUERY:  Precipitation amount in Zollikofen June 11, 2021 13h\n",
      "QUERY:  temperature in Zollikofen June 11, 2021 13h\n",
      "QUERY:  humidity in Zollikofen June 11, 2021 13h\n",
      "QUERY:  wind speed in Zollikofen June 11, 2021 13h\n",
      "QUERY:  Moon Phase calculatorJune 11, 2021 13h\n"
     ]
    },
    {
     "name": "stderr",
     "output_type": "stream",
     "text": [
      "\r",
      " 12%|█████████                                                                    | 166/1401 [56:45<6:16:48, 18.31s/it]"
     ]
    },
    {
     "name": "stdout",
     "output_type": "stream",
     "text": [
      "QUERY:  Precipitation amount in Zollikofen June 11, 2021 14h\n",
      "QUERY:  temperature in Zollikofen June 11, 2021 14h\n",
      "QUERY:  humidity in Zollikofen June 11, 2021 14h\n",
      "QUERY:  wind speed in Zollikofen June 11, 2021 14h\n",
      "QUERY:  Moon Phase calculatorJune 11, 2021 14h\n"
     ]
    },
    {
     "name": "stderr",
     "output_type": "stream",
     "text": [
      "\r",
      " 12%|█████████▏                                                                   | 167/1401 [57:02<6:11:34, 18.07s/it]"
     ]
    },
    {
     "name": "stdout",
     "output_type": "stream",
     "text": [
      "QUERY:  Precipitation amount in Zollikofen June 11, 2021 15h\n",
      "QUERY:  temperature in Zollikofen June 11, 2021 15h\n",
      "QUERY:  humidity in Zollikofen June 11, 2021 15h\n",
      "QUERY:  wind speed in Zollikofen June 11, 2021 15h\n",
      "QUERY:  Moon Phase calculatorJune 11, 2021 15h\n"
     ]
    },
    {
     "name": "stderr",
     "output_type": "stream",
     "text": [
      "\r",
      " 12%|█████████▏                                                                   | 168/1401 [57:19<6:05:57, 17.81s/it]"
     ]
    },
    {
     "name": "stdout",
     "output_type": "stream",
     "text": [
      "QUERY:  Precipitation amount in Zollikofen June 11, 2021 16h\n",
      "QUERY:  temperature in Zollikofen June 11, 2021 16h\n",
      "QUERY:  humidity in Zollikofen June 11, 2021 16h\n",
      "QUERY:  wind speed in Zollikofen June 11, 2021 16h\n",
      "QUERY:  Moon Phase calculatorJune 11, 2021 16h\n"
     ]
    },
    {
     "name": "stderr",
     "output_type": "stream",
     "text": [
      "\r",
      " 12%|█████████▎                                                                   | 169/1401 [57:37<6:05:05, 17.78s/it]"
     ]
    },
    {
     "name": "stdout",
     "output_type": "stream",
     "text": [
      "QUERY:  Precipitation amount in Zollikofen June 11, 2021 17h\n",
      "QUERY:  temperature in Zollikofen June 11, 2021 17h\n",
      "QUERY:  humidity in Zollikofen June 11, 2021 17h\n",
      "QUERY:  wind speed in Zollikofen June 11, 2021 17h\n",
      "QUERY:  Moon Phase calculatorJune 11, 2021 17h\n"
     ]
    },
    {
     "name": "stderr",
     "output_type": "stream",
     "text": [
      "\r",
      " 12%|█████████▎                                                                   | 170/1401 [57:55<6:06:49, 17.88s/it]"
     ]
    },
    {
     "name": "stdout",
     "output_type": "stream",
     "text": [
      "QUERY:  Precipitation amount in Zollikofen June 11, 2021 18h\n",
      "QUERY:  temperature in Zollikofen June 11, 2021 18h\n",
      "QUERY:  humidity in Zollikofen June 11, 2021 18h\n",
      "QUERY:  wind speed in Zollikofen June 11, 2021 18h\n",
      "QUERY:  Moon Phase calculatorJune 11, 2021 18h\n",
      "(6139, 7)\n"
     ]
    },
    {
     "data": {
      "text/html": [
       "<div>\n",
       "<style scoped>\n",
       "    .dataframe tbody tr th:only-of-type {\n",
       "        vertical-align: middle;\n",
       "    }\n",
       "\n",
       "    .dataframe tbody tr th {\n",
       "        vertical-align: top;\n",
       "    }\n",
       "\n",
       "    .dataframe thead th {\n",
       "        text-align: right;\n",
       "    }\n",
       "</style>\n",
       "<table border=\"1\" class=\"dataframe\">\n",
       "  <thead>\n",
       "    <tr style=\"text-align: right;\">\n",
       "      <th></th>\n",
       "      <th>date</th>\n",
       "      <th>temperature</th>\n",
       "      <th>humidity</th>\n",
       "      <th>wind speed</th>\n",
       "      <th>Precipitation amount</th>\n",
       "      <th>query</th>\n",
       "      <th>Moon Phase calculator</th>\n",
       "    </tr>\n",
       "  </thead>\n",
       "  <tbody>\n",
       "    <tr>\n",
       "      <th>8</th>\n",
       "      <td>2021-06-11 17:00:00</td>\n",
       "      <td>25 °C\\n(5:00 pm CEST | Friday, June 11, 2021)</td>\n",
       "      <td>average: 40% (39 to 42%)\\n(5:00 pm CEST | Frid...</td>\n",
       "      <td>3 m/s\\n(5:00 pm CEST | Friday, June 11, 2021)</td>\n",
       "      <td>no precipitation\\n(5:00 pm CEST | Friday, June...</td>\n",
       "      <td>Moon Phase calculatorJune 11, 2021 17h</td>\n",
       "      <td>| waxing crescent moon\\n1.30% illuminated</td>\n",
       "    </tr>\n",
       "    <tr>\n",
       "      <th>9</th>\n",
       "      <td>2021-06-11 18:00:00</td>\n",
       "      <td>25 °C\\n(6:00 pm CEST | Friday, June 11, 2021)</td>\n",
       "      <td>average: 42% (42%)\\n(6:00 pm CEST | Friday, Ju...</td>\n",
       "      <td>3 m/s\\n(6:00 pm CEST | Friday, June 11, 2021)</td>\n",
       "      <td>no precipitation\\n(6:00 pm CEST | Friday, June...</td>\n",
       "      <td>Moon Phase calculatorJune 11, 2021 18h</td>\n",
       "      <td>| waxing crescent moon\\n1.40% illuminated</td>\n",
       "    </tr>\n",
       "  </tbody>\n",
       "</table>\n",
       "</div>"
      ],
      "text/plain": [
       "                 date                                    temperature  \\\n",
       "8 2021-06-11 17:00:00  25 °C\\n(5:00 pm CEST | Friday, June 11, 2021)   \n",
       "9 2021-06-11 18:00:00  25 °C\\n(6:00 pm CEST | Friday, June 11, 2021)   \n",
       "\n",
       "                                            humidity  \\\n",
       "8  average: 40% (39 to 42%)\\n(5:00 pm CEST | Frid...   \n",
       "9  average: 42% (42%)\\n(6:00 pm CEST | Friday, Ju...   \n",
       "\n",
       "                                      wind speed  \\\n",
       "8  3 m/s\\n(5:00 pm CEST | Friday, June 11, 2021)   \n",
       "9  3 m/s\\n(6:00 pm CEST | Friday, June 11, 2021)   \n",
       "\n",
       "                                Precipitation amount  \\\n",
       "8  no precipitation\\n(5:00 pm CEST | Friday, June...   \n",
       "9  no precipitation\\n(6:00 pm CEST | Friday, June...   \n",
       "\n",
       "                                    query  \\\n",
       "8  Moon Phase calculatorJune 11, 2021 17h   \n",
       "9  Moon Phase calculatorJune 11, 2021 18h   \n",
       "\n",
       "                       Moon Phase calculator  \n",
       "8  | waxing crescent moon\\n1.30% illuminated  \n",
       "9  | waxing crescent moon\\n1.40% illuminated  "
      ]
     },
     "metadata": {},
     "output_type": "display_data"
    },
    {
     "name": "stderr",
     "output_type": "stream",
     "text": [
      "\r",
      " 12%|█████████▍                                                                   | 171/1401 [58:13<6:05:54, 17.85s/it]"
     ]
    },
    {
     "name": "stdout",
     "output_type": "stream",
     "text": [
      "QUERY:  Precipitation amount in Zollikofen June 11, 2021 19h\n",
      "QUERY:  temperature in Zollikofen June 11, 2021 19h\n",
      "QUERY:  humidity in Zollikofen June 11, 2021 19h\n",
      "QUERY:  wind speed in Zollikofen June 11, 2021 19h\n",
      "QUERY:  Moon Phase calculatorJune 11, 2021 19h\n"
     ]
    },
    {
     "name": "stderr",
     "output_type": "stream",
     "text": [
      "\r",
      " 12%|█████████▍                                                                   | 172/1401 [58:30<6:00:43, 17.61s/it]"
     ]
    },
    {
     "name": "stdout",
     "output_type": "stream",
     "text": [
      "QUERY:  Precipitation amount in Zollikofen June 11, 2021 20h\n",
      "QUERY:  temperature in Zollikofen June 11, 2021 20h\n",
      "QUERY:  humidity in Zollikofen June 11, 2021 20h\n",
      "QUERY:  wind speed in Zollikofen June 11, 2021 20h\n",
      "QUERY:  Moon Phase calculatorJune 11, 2021 20h\n"
     ]
    },
    {
     "name": "stderr",
     "output_type": "stream",
     "text": [
      "\r",
      " 12%|█████████▌                                                                   | 173/1401 [58:47<5:57:55, 17.49s/it]"
     ]
    },
    {
     "name": "stdout",
     "output_type": "stream",
     "text": [
      "QUERY:  Precipitation amount in Zollikofen June 11, 2021 21h\n",
      "QUERY:  temperature in Zollikofen June 11, 2021 21h\n",
      "QUERY:  humidity in Zollikofen June 11, 2021 21h\n",
      "QUERY:  wind speed in Zollikofen June 11, 2021 21h\n",
      "QUERY:  Moon Phase calculatorJune 11, 2021 21h\n"
     ]
    },
    {
     "name": "stderr",
     "output_type": "stream",
     "text": [
      "\r",
      " 12%|█████████▌                                                                   | 174/1401 [59:05<5:55:41, 17.39s/it]"
     ]
    },
    {
     "name": "stdout",
     "output_type": "stream",
     "text": [
      "QUERY:  Precipitation amount in Zollikofen June 11, 2021 22h\n",
      "QUERY:  temperature in Zollikofen June 11, 2021 22h\n",
      "QUERY:  humidity in Zollikofen June 11, 2021 22h\n",
      "QUERY:  wind speed in Zollikofen June 11, 2021 22h\n",
      "QUERY:  Moon Phase calculatorJune 11, 2021 22h\n"
     ]
    },
    {
     "name": "stderr",
     "output_type": "stream",
     "text": [
      "\r",
      " 12%|█████████▌                                                                   | 175/1401 [59:22<5:54:26, 17.35s/it]"
     ]
    },
    {
     "name": "stdout",
     "output_type": "stream",
     "text": [
      "QUERY:  Precipitation amount in Zollikofen June 11, 2021 23h\n",
      "QUERY:  temperature in Zollikofen June 11, 2021 23h\n",
      "QUERY:  humidity in Zollikofen June 11, 2021 23h\n",
      "QUERY:  wind speed in Zollikofen June 11, 2021 23h\n",
      "QUERY:  Moon Phase calculatorJune 11, 2021 23h\n"
     ]
    },
    {
     "name": "stderr",
     "output_type": "stream",
     "text": [
      "\r",
      " 13%|█████████▋                                                                   | 176/1401 [59:40<6:02:40, 17.76s/it]"
     ]
    },
    {
     "name": "stdout",
     "output_type": "stream",
     "text": [
      "QUERY:  Precipitation amount in Zollikofen June 12, 2021 0h\n",
      "QUERY:  temperature in Zollikofen June 12, 2021 0h\n",
      "QUERY:  humidity in Zollikofen June 12, 2021 0h\n",
      "QUERY:  wind speed in Zollikofen June 12, 2021 0h\n",
      "QUERY:  Moon Phase calculatorJune 12, 2021 0h\n"
     ]
    },
    {
     "name": "stderr",
     "output_type": "stream",
     "text": [
      "\r",
      " 13%|█████████▋                                                                   | 177/1401 [59:57<5:55:01, 17.40s/it]"
     ]
    },
    {
     "name": "stdout",
     "output_type": "stream",
     "text": [
      "QUERY:  Precipitation amount in Zollikofen June 12, 2021 1h\n",
      "QUERY:  temperature in Zollikofen June 12, 2021 1h\n",
      "QUERY:  humidity in Zollikofen June 12, 2021 1h\n",
      "QUERY:  wind speed in Zollikofen June 12, 2021 1h\n",
      "QUERY:  Moon Phase calculatorJune 12, 2021 1h\n"
     ]
    },
    {
     "name": "stderr",
     "output_type": "stream",
     "text": [
      "\r",
      " 13%|█████████▌                                                                 | 178/1401 [1:00:14<5:49:55, 17.17s/it]"
     ]
    },
    {
     "name": "stdout",
     "output_type": "stream",
     "text": [
      "QUERY:  Precipitation amount in Zollikofen June 12, 2021 2h\n",
      "QUERY:  temperature in Zollikofen June 12, 2021 2h\n",
      "QUERY:  humidity in Zollikofen June 12, 2021 2h\n",
      "QUERY:  wind speed in Zollikofen June 12, 2021 2h\n",
      "QUERY:  Moon Phase calculatorJune 12, 2021 2h\n"
     ]
    },
    {
     "name": "stderr",
     "output_type": "stream",
     "text": [
      "\r",
      " 13%|█████████▌                                                                 | 179/1401 [1:00:31<5:52:21, 17.30s/it]"
     ]
    },
    {
     "name": "stdout",
     "output_type": "stream",
     "text": [
      "QUERY:  Precipitation amount in Zollikofen June 12, 2021 3h\n",
      "QUERY:  temperature in Zollikofen June 12, 2021 3h\n",
      "QUERY:  humidity in Zollikofen June 12, 2021 3h\n",
      "QUERY:  wind speed in Zollikofen June 12, 2021 3h\n",
      "QUERY:  Moon Phase calculatorJune 12, 2021 3h\n"
     ]
    },
    {
     "name": "stderr",
     "output_type": "stream",
     "text": [
      "\r",
      " 13%|█████████▋                                                                 | 180/1401 [1:00:52<6:12:36, 18.31s/it]"
     ]
    },
    {
     "name": "stdout",
     "output_type": "stream",
     "text": [
      "QUERY:  Precipitation amount in Zollikofen June 12, 2021 4h\n",
      "QUERY:  temperature in Zollikofen June 12, 2021 4h\n",
      "QUERY:  humidity in Zollikofen June 12, 2021 4h\n",
      "QUERY:  wind speed in Zollikofen June 12, 2021 4h\n",
      "QUERY:  Moon Phase calculatorJune 12, 2021 4h\n",
      "(6149, 7)\n"
     ]
    },
    {
     "data": {
      "text/html": [
       "<div>\n",
       "<style scoped>\n",
       "    .dataframe tbody tr th:only-of-type {\n",
       "        vertical-align: middle;\n",
       "    }\n",
       "\n",
       "    .dataframe tbody tr th {\n",
       "        vertical-align: top;\n",
       "    }\n",
       "\n",
       "    .dataframe thead th {\n",
       "        text-align: right;\n",
       "    }\n",
       "</style>\n",
       "<table border=\"1\" class=\"dataframe\">\n",
       "  <thead>\n",
       "    <tr style=\"text-align: right;\">\n",
       "      <th></th>\n",
       "      <th>date</th>\n",
       "      <th>temperature</th>\n",
       "      <th>humidity</th>\n",
       "      <th>wind speed</th>\n",
       "      <th>Precipitation amount</th>\n",
       "      <th>query</th>\n",
       "      <th>Moon Phase calculator</th>\n",
       "    </tr>\n",
       "  </thead>\n",
       "  <tbody>\n",
       "    <tr>\n",
       "      <th>8</th>\n",
       "      <td>2021-06-12 03:00:00</td>\n",
       "      <td>13 °C\\n(3:00 am CEST | Saturday, June 12, 2021)</td>\n",
       "      <td>average: 88% (88%)\\n(3:00 am CEST | Saturday, ...</td>\n",
       "      <td>2 m/s\\n(3:00 am CEST | Saturday, June 12, 2021)</td>\n",
       "      <td>no precipitation\\n(3:00 am CEST | Saturday, Ju...</td>\n",
       "      <td>Moon Phase calculatorJune 12, 2021 3h</td>\n",
       "      <td>| waxing crescent moon\\n2.39% illuminated</td>\n",
       "    </tr>\n",
       "    <tr>\n",
       "      <th>9</th>\n",
       "      <td>2021-06-12 04:00:00</td>\n",
       "      <td>12 °C\\n(4:00 am CEST | Saturday, June 12, 2021)</td>\n",
       "      <td>average: 94% (94%)\\n(4:00 am CEST | Saturday, ...</td>\n",
       "      <td>1 m/s\\n(4:00 am CEST | Saturday, June 12, 2021)</td>\n",
       "      <td>no precipitation\\n(4:00 am CEST | Saturday, Ju...</td>\n",
       "      <td>Moon Phase calculatorJune 12, 2021 4h</td>\n",
       "      <td>| waxing crescent moon\\n2.51% illuminated</td>\n",
       "    </tr>\n",
       "  </tbody>\n",
       "</table>\n",
       "</div>"
      ],
      "text/plain": [
       "                 date                                      temperature  \\\n",
       "8 2021-06-12 03:00:00  13 °C\\n(3:00 am CEST | Saturday, June 12, 2021)   \n",
       "9 2021-06-12 04:00:00  12 °C\\n(4:00 am CEST | Saturday, June 12, 2021)   \n",
       "\n",
       "                                            humidity  \\\n",
       "8  average: 88% (88%)\\n(3:00 am CEST | Saturday, ...   \n",
       "9  average: 94% (94%)\\n(4:00 am CEST | Saturday, ...   \n",
       "\n",
       "                                        wind speed  \\\n",
       "8  2 m/s\\n(3:00 am CEST | Saturday, June 12, 2021)   \n",
       "9  1 m/s\\n(4:00 am CEST | Saturday, June 12, 2021)   \n",
       "\n",
       "                                Precipitation amount  \\\n",
       "8  no precipitation\\n(3:00 am CEST | Saturday, Ju...   \n",
       "9  no precipitation\\n(4:00 am CEST | Saturday, Ju...   \n",
       "\n",
       "                                   query  \\\n",
       "8  Moon Phase calculatorJune 12, 2021 3h   \n",
       "9  Moon Phase calculatorJune 12, 2021 4h   \n",
       "\n",
       "                       Moon Phase calculator  \n",
       "8  | waxing crescent moon\\n2.39% illuminated  \n",
       "9  | waxing crescent moon\\n2.51% illuminated  "
      ]
     },
     "metadata": {},
     "output_type": "display_data"
    },
    {
     "name": "stderr",
     "output_type": "stream",
     "text": [
      "\r",
      " 13%|█████████▋                                                                 | 181/1401 [1:01:13<6:30:58, 19.23s/it]"
     ]
    },
    {
     "name": "stdout",
     "output_type": "stream",
     "text": [
      "QUERY:  Precipitation amount in Zollikofen June 12, 2021 5h\n",
      "QUERY:  temperature in Zollikofen June 12, 2021 5h\n",
      "QUERY:  humidity in Zollikofen June 12, 2021 5h\n",
      "QUERY:  wind speed in Zollikofen June 12, 2021 5h\n",
      "QUERY:  Moon Phase calculatorJune 12, 2021 5h\n"
     ]
    },
    {
     "name": "stderr",
     "output_type": "stream",
     "text": [
      "\r",
      " 13%|█████████▋                                                                 | 182/1401 [1:01:34<6:42:20, 19.80s/it]"
     ]
    },
    {
     "name": "stdout",
     "output_type": "stream",
     "text": [
      "QUERY:  Precipitation amount in Zollikofen June 12, 2021 6h\n",
      "QUERY:  temperature in Zollikofen June 12, 2021 6h\n",
      "QUERY:  humidity in Zollikofen June 12, 2021 6h\n",
      "QUERY:  wind speed in Zollikofen June 12, 2021 6h\n",
      "QUERY:  Moon Phase calculatorJune 12, 2021 6h\n"
     ]
    },
    {
     "name": "stderr",
     "output_type": "stream",
     "text": [
      "\r",
      " 13%|█████████▊                                                                 | 183/1401 [1:01:56<6:55:01, 20.44s/it]"
     ]
    },
    {
     "name": "stdout",
     "output_type": "stream",
     "text": [
      "QUERY:  Precipitation amount in Zollikofen June 12, 2021 7h\n",
      "QUERY:  temperature in Zollikofen June 12, 2021 7h\n",
      "QUERY:  humidity in Zollikofen June 12, 2021 7h\n",
      "QUERY:  wind speed in Zollikofen June 12, 2021 7h\n",
      "QUERY:  Moon Phase calculatorJune 12, 2021 7h\n"
     ]
    },
    {
     "name": "stderr",
     "output_type": "stream",
     "text": [
      "\r",
      " 13%|█████████▊                                                                 | 184/1401 [1:02:18<7:00:21, 20.72s/it]"
     ]
    },
    {
     "name": "stdout",
     "output_type": "stream",
     "text": [
      "QUERY:  Precipitation amount in Zollikofen June 12, 2021 8h\n",
      "QUERY:  temperature in Zollikofen June 12, 2021 8h\n",
      "QUERY:  humidity in Zollikofen June 12, 2021 8h\n",
      "QUERY:  wind speed in Zollikofen June 12, 2021 8h\n",
      "QUERY:  Moon Phase calculatorJune 12, 2021 8h\n"
     ]
    },
    {
     "name": "stderr",
     "output_type": "stream",
     "text": [
      "\r",
      " 13%|█████████▉                                                                 | 185/1401 [1:02:38<6:57:17, 20.59s/it]"
     ]
    },
    {
     "name": "stdout",
     "output_type": "stream",
     "text": [
      "QUERY:  Precipitation amount in Zollikofen June 12, 2021 9h\n",
      "QUERY:  temperature in Zollikofen June 12, 2021 9h\n",
      "QUERY:  humidity in Zollikofen June 12, 2021 9h\n",
      "QUERY:  wind speed in Zollikofen June 12, 2021 9h\n",
      "QUERY:  Moon Phase calculatorJune 12, 2021 9h\n"
     ]
    },
    {
     "name": "stderr",
     "output_type": "stream",
     "text": [
      "\r",
      " 13%|█████████▉                                                                 | 186/1401 [1:02:59<6:57:31, 20.62s/it]"
     ]
    },
    {
     "name": "stdout",
     "output_type": "stream",
     "text": [
      "QUERY:  Precipitation amount in Zollikofen June 12, 2021 10h\n",
      "QUERY:  temperature in Zollikofen June 12, 2021 10h\n",
      "QUERY:  humidity in Zollikofen June 12, 2021 10h\n",
      "QUERY:  wind speed in Zollikofen June 12, 2021 10h\n",
      "QUERY:  Moon Phase calculatorJune 12, 2021 10h\n"
     ]
    },
    {
     "name": "stderr",
     "output_type": "stream",
     "text": [
      "\r",
      " 13%|██████████                                                                 | 187/1401 [1:03:20<6:58:12, 20.67s/it]"
     ]
    },
    {
     "name": "stdout",
     "output_type": "stream",
     "text": [
      "QUERY:  Precipitation amount in Zollikofen June 12, 2021 11h\n",
      "QUERY:  temperature in Zollikofen June 12, 2021 11h\n",
      "QUERY:  humidity in Zollikofen June 12, 2021 11h\n",
      "QUERY:  wind speed in Zollikofen June 12, 2021 11h\n",
      "QUERY:  Moon Phase calculatorJune 12, 2021 11h\n"
     ]
    },
    {
     "name": "stderr",
     "output_type": "stream",
     "text": [
      "\r",
      " 13%|██████████                                                                 | 188/1401 [1:03:40<6:58:34, 20.70s/it]"
     ]
    },
    {
     "name": "stdout",
     "output_type": "stream",
     "text": [
      "QUERY:  Precipitation amount in Zollikofen June 12, 2021 12h\n",
      "QUERY:  temperature in Zollikofen June 12, 2021 12h\n",
      "QUERY:  humidity in Zollikofen June 12, 2021 12h\n",
      "QUERY:  wind speed in Zollikofen June 12, 2021 12h\n",
      "QUERY:  Moon Phase calculatorJune 12, 2021 12h\n"
     ]
    },
    {
     "name": "stderr",
     "output_type": "stream",
     "text": [
      "\r",
      " 13%|██████████                                                                 | 189/1401 [1:04:01<6:59:58, 20.79s/it]"
     ]
    },
    {
     "name": "stdout",
     "output_type": "stream",
     "text": [
      "QUERY:  Precipitation amount in Zollikofen June 12, 2021 13h\n",
      "QUERY:  temperature in Zollikofen June 12, 2021 13h\n",
      "QUERY:  humidity in Zollikofen June 12, 2021 13h\n",
      "QUERY:  wind speed in Zollikofen June 12, 2021 13h\n",
      "QUERY:  Moon Phase calculatorJune 12, 2021 13h\n"
     ]
    },
    {
     "name": "stderr",
     "output_type": "stream",
     "text": [
      "\r",
      " 14%|██████████▏                                                                | 190/1401 [1:04:22<7:00:14, 20.82s/it]"
     ]
    },
    {
     "name": "stdout",
     "output_type": "stream",
     "text": [
      "QUERY:  Precipitation amount in Zollikofen June 12, 2021 14h\n",
      "QUERY:  temperature in Zollikofen June 12, 2021 14h\n",
      "QUERY:  humidity in Zollikofen June 12, 2021 14h\n",
      "QUERY:  wind speed in Zollikofen June 12, 2021 14h\n",
      "QUERY:  Moon Phase calculatorJune 12, 2021 14h\n",
      "(6159, 7)\n"
     ]
    },
    {
     "data": {
      "text/html": [
       "<div>\n",
       "<style scoped>\n",
       "    .dataframe tbody tr th:only-of-type {\n",
       "        vertical-align: middle;\n",
       "    }\n",
       "\n",
       "    .dataframe tbody tr th {\n",
       "        vertical-align: top;\n",
       "    }\n",
       "\n",
       "    .dataframe thead th {\n",
       "        text-align: right;\n",
       "    }\n",
       "</style>\n",
       "<table border=\"1\" class=\"dataframe\">\n",
       "  <thead>\n",
       "    <tr style=\"text-align: right;\">\n",
       "      <th></th>\n",
       "      <th>date</th>\n",
       "      <th>temperature</th>\n",
       "      <th>humidity</th>\n",
       "      <th>wind speed</th>\n",
       "      <th>Precipitation amount</th>\n",
       "      <th>query</th>\n",
       "      <th>Moon Phase calculator</th>\n",
       "    </tr>\n",
       "  </thead>\n",
       "  <tbody>\n",
       "    <tr>\n",
       "      <th>8</th>\n",
       "      <td>2021-06-12 13:00:00</td>\n",
       "      <td>26 °C\\n(1:00 pm CEST | Saturday, June 12, 2021)</td>\n",
       "      <td>average: 39% (39%)\\n(1:00 pm CEST | Saturday, ...</td>\n",
       "      <td>1 m/s\\n(1:00 pm CEST | Saturday, June 12, 2021)</td>\n",
       "      <td>no precipitation\\n(1:00 pm CEST | Saturday, Ju...</td>\n",
       "      <td>Moon Phase calculatorJune 12, 2021 13h</td>\n",
       "      <td>| waxing crescent moon\\n3.79% illuminated</td>\n",
       "    </tr>\n",
       "    <tr>\n",
       "      <th>9</th>\n",
       "      <td>2021-06-12 14:00:00</td>\n",
       "      <td>27 °C\\n(2:00 pm CEST | Saturday, June 12, 2021)</td>\n",
       "      <td>average: 37% (37%)\\n(2:00 pm CEST | Saturday, ...</td>\n",
       "      <td>2 m/s\\n(2:00 pm CEST | Saturday, June 12, 2021)</td>\n",
       "      <td>no precipitation\\n(2:00 pm CEST | Saturday, Ju...</td>\n",
       "      <td>Moon Phase calculatorJune 12, 2021 14h</td>\n",
       "      <td>| waxing crescent moon\\n3.95% illuminated</td>\n",
       "    </tr>\n",
       "  </tbody>\n",
       "</table>\n",
       "</div>"
      ],
      "text/plain": [
       "                 date                                      temperature  \\\n",
       "8 2021-06-12 13:00:00  26 °C\\n(1:00 pm CEST | Saturday, June 12, 2021)   \n",
       "9 2021-06-12 14:00:00  27 °C\\n(2:00 pm CEST | Saturday, June 12, 2021)   \n",
       "\n",
       "                                            humidity  \\\n",
       "8  average: 39% (39%)\\n(1:00 pm CEST | Saturday, ...   \n",
       "9  average: 37% (37%)\\n(2:00 pm CEST | Saturday, ...   \n",
       "\n",
       "                                        wind speed  \\\n",
       "8  1 m/s\\n(1:00 pm CEST | Saturday, June 12, 2021)   \n",
       "9  2 m/s\\n(2:00 pm CEST | Saturday, June 12, 2021)   \n",
       "\n",
       "                                Precipitation amount  \\\n",
       "8  no precipitation\\n(1:00 pm CEST | Saturday, Ju...   \n",
       "9  no precipitation\\n(2:00 pm CEST | Saturday, Ju...   \n",
       "\n",
       "                                    query  \\\n",
       "8  Moon Phase calculatorJune 12, 2021 13h   \n",
       "9  Moon Phase calculatorJune 12, 2021 14h   \n",
       "\n",
       "                       Moon Phase calculator  \n",
       "8  | waxing crescent moon\\n3.79% illuminated  \n",
       "9  | waxing crescent moon\\n3.95% illuminated  "
      ]
     },
     "metadata": {},
     "output_type": "display_data"
    },
    {
     "name": "stderr",
     "output_type": "stream",
     "text": [
      "\r",
      " 14%|██████████▏                                                                | 191/1401 [1:04:43<7:00:45, 20.86s/it]"
     ]
    },
    {
     "name": "stdout",
     "output_type": "stream",
     "text": [
      "QUERY:  Precipitation amount in Zollikofen June 12, 2021 15h\n",
      "QUERY:  temperature in Zollikofen June 12, 2021 15h\n",
      "QUERY:  humidity in Zollikofen June 12, 2021 15h\n",
      "QUERY:  wind speed in Zollikofen June 12, 2021 15h\n",
      "QUERY:  Moon Phase calculatorJune 12, 2021 15h\n"
     ]
    },
    {
     "name": "stderr",
     "output_type": "stream",
     "text": [
      "\r",
      " 14%|██████████▎                                                                | 192/1401 [1:05:05<7:07:32, 21.22s/it]"
     ]
    },
    {
     "name": "stdout",
     "output_type": "stream",
     "text": [
      "QUERY:  Precipitation amount in Zollikofen June 12, 2021 16h\n",
      "QUERY:  temperature in Zollikofen June 12, 2021 16h\n",
      "QUERY:  humidity in Zollikofen June 12, 2021 16h\n",
      "QUERY:  wind speed in Zollikofen June 12, 2021 16h\n",
      "QUERY:  Moon Phase calculatorJune 12, 2021 16h\n"
     ]
    },
    {
     "name": "stderr",
     "output_type": "stream",
     "text": [
      "\r",
      " 14%|██████████▎                                                                | 193/1401 [1:05:26<7:04:59, 21.11s/it]"
     ]
    },
    {
     "name": "stdout",
     "output_type": "stream",
     "text": [
      "QUERY:  Precipitation amount in Zollikofen June 12, 2021 17h\n",
      "QUERY:  temperature in Zollikofen June 12, 2021 17h\n",
      "QUERY:  humidity in Zollikofen June 12, 2021 17h\n",
      "QUERY:  wind speed in Zollikofen June 12, 2021 17h\n",
      "QUERY:  Moon Phase calculatorJune 12, 2021 17h\n"
     ]
    },
    {
     "name": "stderr",
     "output_type": "stream",
     "text": [
      "\r",
      " 14%|██████████▍                                                                | 194/1401 [1:05:44<6:46:51, 20.22s/it]"
     ]
    },
    {
     "name": "stdout",
     "output_type": "stream",
     "text": [
      "QUERY:  Precipitation amount in Zollikofen June 12, 2021 18h\n",
      "QUERY:  temperature in Zollikofen June 12, 2021 18h\n",
      "QUERY:  humidity in Zollikofen June 12, 2021 18h\n",
      "QUERY:  wind speed in Zollikofen June 12, 2021 18h\n",
      "QUERY:  Moon Phase calculatorJune 12, 2021 18h\n"
     ]
    },
    {
     "name": "stderr",
     "output_type": "stream",
     "text": [
      "\r",
      " 14%|██████████▍                                                                | 195/1401 [1:06:06<6:57:55, 20.79s/it]"
     ]
    },
    {
     "name": "stdout",
     "output_type": "stream",
     "text": [
      "QUERY:  Precipitation amount in Zollikofen June 12, 2021 19h\n",
      "QUERY:  temperature in Zollikofen June 12, 2021 19h\n",
      "QUERY:  humidity in Zollikofen June 12, 2021 19h\n",
      "QUERY:  wind speed in Zollikofen June 12, 2021 19h\n",
      "QUERY:  Moon Phase calculatorJune 12, 2021 19h\n"
     ]
    },
    {
     "name": "stderr",
     "output_type": "stream",
     "text": [
      "\r",
      " 14%|██████████▍                                                                | 196/1401 [1:06:28<7:03:44, 21.10s/it]"
     ]
    },
    {
     "name": "stdout",
     "output_type": "stream",
     "text": [
      "QUERY:  Precipitation amount in Zollikofen June 12, 2021 20h\n",
      "QUERY:  temperature in Zollikofen June 12, 2021 20h\n",
      "QUERY:  humidity in Zollikofen June 12, 2021 20h\n",
      "QUERY:  wind speed in Zollikofen June 12, 2021 20h\n",
      "QUERY:  Moon Phase calculatorJune 12, 2021 20h\n"
     ]
    },
    {
     "name": "stderr",
     "output_type": "stream",
     "text": [
      "\r",
      " 14%|██████████▌                                                                | 197/1401 [1:06:50<7:07:39, 21.31s/it]"
     ]
    },
    {
     "name": "stdout",
     "output_type": "stream",
     "text": [
      "QUERY:  Precipitation amount in Zollikofen June 12, 2021 21h\n",
      "QUERY:  temperature in Zollikofen June 12, 2021 21h\n",
      "QUERY:  humidity in Zollikofen June 12, 2021 21h\n",
      "QUERY:  wind speed in Zollikofen June 12, 2021 21h\n",
      "QUERY:  Moon Phase calculatorJune 12, 2021 21h\n"
     ]
    },
    {
     "name": "stderr",
     "output_type": "stream",
     "text": [
      "\r",
      " 14%|██████████▌                                                                | 198/1401 [1:07:12<7:10:18, 21.46s/it]"
     ]
    },
    {
     "name": "stdout",
     "output_type": "stream",
     "text": [
      "QUERY:  Precipitation amount in Zollikofen June 12, 2021 22h\n",
      "QUERY:  temperature in Zollikofen June 12, 2021 22h\n",
      "QUERY:  humidity in Zollikofen June 12, 2021 22h\n",
      "QUERY:  wind speed in Zollikofen June 12, 2021 22h\n",
      "QUERY:  Moon Phase calculatorJune 12, 2021 22h\n"
     ]
    },
    {
     "name": "stderr",
     "output_type": "stream",
     "text": [
      "\r",
      " 14%|██████████▋                                                                | 199/1401 [1:07:34<7:13:54, 21.66s/it]"
     ]
    },
    {
     "name": "stdout",
     "output_type": "stream",
     "text": [
      "QUERY:  Precipitation amount in Zollikofen June 12, 2021 23h\n",
      "QUERY:  temperature in Zollikofen June 12, 2021 23h\n",
      "QUERY:  humidity in Zollikofen June 12, 2021 23h\n",
      "QUERY:  wind speed in Zollikofen June 12, 2021 23h\n",
      "QUERY:  Moon Phase calculatorJune 12, 2021 23h\n"
     ]
    },
    {
     "name": "stderr",
     "output_type": "stream",
     "text": [
      "\r",
      " 14%|██████████▋                                                                | 200/1401 [1:07:56<7:17:25, 21.85s/it]"
     ]
    },
    {
     "name": "stdout",
     "output_type": "stream",
     "text": [
      "QUERY:  Precipitation amount in Zollikofen June 13, 2021 0h\n",
      "QUERY:  temperature in Zollikofen June 13, 2021 0h\n",
      "QUERY:  humidity in Zollikofen June 13, 2021 0h\n",
      "QUERY:  wind speed in Zollikofen June 13, 2021 0h\n",
      "QUERY:  Moon Phase calculatorJune 13, 2021 0h\n",
      "(6169, 7)\n"
     ]
    },
    {
     "data": {
      "text/html": [
       "<div>\n",
       "<style scoped>\n",
       "    .dataframe tbody tr th:only-of-type {\n",
       "        vertical-align: middle;\n",
       "    }\n",
       "\n",
       "    .dataframe tbody tr th {\n",
       "        vertical-align: top;\n",
       "    }\n",
       "\n",
       "    .dataframe thead th {\n",
       "        text-align: right;\n",
       "    }\n",
       "</style>\n",
       "<table border=\"1\" class=\"dataframe\">\n",
       "  <thead>\n",
       "    <tr style=\"text-align: right;\">\n",
       "      <th></th>\n",
       "      <th>date</th>\n",
       "      <th>temperature</th>\n",
       "      <th>humidity</th>\n",
       "      <th>wind speed</th>\n",
       "      <th>Precipitation amount</th>\n",
       "      <th>query</th>\n",
       "      <th>Moon Phase calculator</th>\n",
       "    </tr>\n",
       "  </thead>\n",
       "  <tbody>\n",
       "    <tr>\n",
       "      <th>8</th>\n",
       "      <td>2021-06-12 23:00:00</td>\n",
       "      <td>16 °C\\n(11:00 pm CEST | Saturday, June 12, 2021)</td>\n",
       "      <td>average: 88% (88%)\\n(11:00 pm CEST | Saturday,...</td>\n",
       "      <td>1 m/s\\n(11:00 pm CEST | Saturday, June 12, 2021)</td>\n",
       "      <td>no precipitation\\n(11:00 pm CEST | Saturday, J...</td>\n",
       "      <td>Moon Phase calculatorJune 12, 2021 23h</td>\n",
       "      <td>| waxing crescent moon\\n5.51% illuminated</td>\n",
       "    </tr>\n",
       "    <tr>\n",
       "      <th>9</th>\n",
       "      <td>2021-06-13 00:00:00</td>\n",
       "      <td>16 °C\\n(12:00 am CEST | Sunday, June 13, 2021)</td>\n",
       "      <td>average: 94% (94%)\\n(12:00 am CEST | Sunday, J...</td>\n",
       "      <td>1 m/s\\n(12:00 am CEST | Sunday, June 13, 2021)</td>\n",
       "      <td>no precipitation\\n(12:00 am CEST | Sunday, Jun...</td>\n",
       "      <td>Moon Phase calculatorJune 13, 2021 0h</td>\n",
       "      <td>| waxing crescent moon\\n5.70% illuminated</td>\n",
       "    </tr>\n",
       "  </tbody>\n",
       "</table>\n",
       "</div>"
      ],
      "text/plain": [
       "                 date                                       temperature  \\\n",
       "8 2021-06-12 23:00:00  16 °C\\n(11:00 pm CEST | Saturday, June 12, 2021)   \n",
       "9 2021-06-13 00:00:00    16 °C\\n(12:00 am CEST | Sunday, June 13, 2021)   \n",
       "\n",
       "                                            humidity  \\\n",
       "8  average: 88% (88%)\\n(11:00 pm CEST | Saturday,...   \n",
       "9  average: 94% (94%)\\n(12:00 am CEST | Sunday, J...   \n",
       "\n",
       "                                         wind speed  \\\n",
       "8  1 m/s\\n(11:00 pm CEST | Saturday, June 12, 2021)   \n",
       "9    1 m/s\\n(12:00 am CEST | Sunday, June 13, 2021)   \n",
       "\n",
       "                                Precipitation amount  \\\n",
       "8  no precipitation\\n(11:00 pm CEST | Saturday, J...   \n",
       "9  no precipitation\\n(12:00 am CEST | Sunday, Jun...   \n",
       "\n",
       "                                    query  \\\n",
       "8  Moon Phase calculatorJune 12, 2021 23h   \n",
       "9   Moon Phase calculatorJune 13, 2021 0h   \n",
       "\n",
       "                       Moon Phase calculator  \n",
       "8  | waxing crescent moon\\n5.51% illuminated  \n",
       "9  | waxing crescent moon\\n5.70% illuminated  "
      ]
     },
     "metadata": {},
     "output_type": "display_data"
    },
    {
     "name": "stderr",
     "output_type": "stream",
     "text": [
      "\r",
      " 14%|██████████▊                                                                | 201/1401 [1:08:18<7:14:42, 21.74s/it]"
     ]
    },
    {
     "name": "stdout",
     "output_type": "stream",
     "text": [
      "QUERY:  Precipitation amount in Zollikofen June 13, 2021 1h\n",
      "QUERY:  temperature in Zollikofen June 13, 2021 1h\n",
      "QUERY:  humidity in Zollikofen June 13, 2021 1h\n",
      "QUERY:  wind speed in Zollikofen June 13, 2021 1h\n",
      "QUERY:  Moon Phase calculatorJune 13, 2021 1h\n"
     ]
    },
    {
     "name": "stderr",
     "output_type": "stream",
     "text": [
      "\r",
      " 14%|██████████▊                                                                | 202/1401 [1:08:39<7:12:05, 21.62s/it]"
     ]
    },
    {
     "name": "stdout",
     "output_type": "stream",
     "text": [
      "QUERY:  Precipitation amount in Zollikofen June 13, 2021 2h\n",
      "QUERY:  temperature in Zollikofen June 13, 2021 2h\n",
      "QUERY:  humidity in Zollikofen June 13, 2021 2h\n",
      "QUERY:  wind speed in Zollikofen June 13, 2021 2h\n",
      "QUERY:  Moon Phase calculatorJune 13, 2021 2h\n"
     ]
    },
    {
     "name": "stderr",
     "output_type": "stream",
     "text": [
      "\r",
      " 14%|██████████▊                                                                | 203/1401 [1:09:00<7:09:11, 21.50s/it]"
     ]
    },
    {
     "name": "stdout",
     "output_type": "stream",
     "text": [
      "QUERY:  Precipitation amount in Zollikofen June 13, 2021 3h\n",
      "QUERY:  temperature in Zollikofen June 13, 2021 3h\n",
      "QUERY:  humidity in Zollikofen June 13, 2021 3h\n",
      "QUERY:  wind speed in Zollikofen June 13, 2021 3h\n",
      "QUERY:  Moon Phase calculatorJune 13, 2021 3h\n"
     ]
    },
    {
     "name": "stderr",
     "output_type": "stream",
     "text": [
      "\r",
      " 15%|██████████▉                                                                | 204/1401 [1:09:22<7:12:34, 21.68s/it]"
     ]
    },
    {
     "name": "stdout",
     "output_type": "stream",
     "text": [
      "QUERY:  Precipitation amount in Zollikofen June 13, 2021 4h\n",
      "QUERY:  temperature in Zollikofen June 13, 2021 4h\n",
      "QUERY:  humidity in Zollikofen June 13, 2021 4h\n",
      "QUERY:  wind speed in Zollikofen June 13, 2021 4h\n",
      "QUERY:  Moon Phase calculatorJune 13, 2021 4h\n"
     ]
    },
    {
     "name": "stderr",
     "output_type": "stream",
     "text": [
      "\r",
      " 15%|██████████▉                                                                | 205/1401 [1:09:44<7:09:17, 21.54s/it]"
     ]
    },
    {
     "name": "stdout",
     "output_type": "stream",
     "text": [
      "QUERY:  Precipitation amount in Zollikofen June 13, 2021 5h\n",
      "QUERY:  temperature in Zollikofen June 13, 2021 5h\n",
      "QUERY:  humidity in Zollikofen June 13, 2021 5h\n",
      "QUERY:  wind speed in Zollikofen June 13, 2021 5h\n",
      "QUERY:  Moon Phase calculatorJune 13, 2021 5h\n"
     ]
    },
    {
     "name": "stderr",
     "output_type": "stream",
     "text": [
      "\r",
      " 15%|███████████                                                                | 206/1401 [1:10:05<7:06:54, 21.43s/it]"
     ]
    },
    {
     "name": "stdout",
     "output_type": "stream",
     "text": [
      "QUERY:  Precipitation amount in Zollikofen June 13, 2021 6h\n",
      "QUERY:  temperature in Zollikofen June 13, 2021 6h\n",
      "QUERY:  humidity in Zollikofen June 13, 2021 6h\n",
      "QUERY:  wind speed in Zollikofen June 13, 2021 6h\n",
      "QUERY:  Moon Phase calculatorJune 13, 2021 6h\n"
     ]
    },
    {
     "name": "stderr",
     "output_type": "stream",
     "text": [
      "\r",
      " 15%|███████████                                                                | 207/1401 [1:10:27<7:10:01, 21.61s/it]"
     ]
    },
    {
     "name": "stdout",
     "output_type": "stream",
     "text": [
      "QUERY:  Precipitation amount in Zollikofen June 13, 2021 7h\n",
      "QUERY:  temperature in Zollikofen June 13, 2021 7h\n",
      "QUERY:  humidity in Zollikofen June 13, 2021 7h\n",
      "QUERY:  wind speed in Zollikofen June 13, 2021 7h\n",
      "QUERY:  Moon Phase calculatorJune 13, 2021 7h\n"
     ]
    },
    {
     "name": "stderr",
     "output_type": "stream",
     "text": [
      "\r",
      " 15%|███████████▏                                                               | 208/1401 [1:10:48<7:09:37, 21.61s/it]"
     ]
    },
    {
     "name": "stdout",
     "output_type": "stream",
     "text": [
      "QUERY:  Precipitation amount in Zollikofen June 13, 2021 8h\n",
      "QUERY:  temperature in Zollikofen June 13, 2021 8h\n",
      "QUERY:  humidity in Zollikofen June 13, 2021 8h\n",
      "QUERY:  wind speed in Zollikofen June 13, 2021 8h\n",
      "QUERY:  Moon Phase calculatorJune 13, 2021 8h\n"
     ]
    },
    {
     "name": "stderr",
     "output_type": "stream",
     "text": [
      "\r",
      " 15%|███████████▏                                                               | 209/1401 [1:11:09<7:06:11, 21.45s/it]"
     ]
    },
    {
     "name": "stdout",
     "output_type": "stream",
     "text": [
      "QUERY:  Precipitation amount in Zollikofen June 13, 2021 9h\n",
      "QUERY:  temperature in Zollikofen June 13, 2021 9h\n",
      "QUERY:  humidity in Zollikofen June 13, 2021 9h\n",
      "QUERY:  wind speed in Zollikofen June 13, 2021 9h\n",
      "QUERY:  Moon Phase calculatorJune 13, 2021 9h\n"
     ]
    },
    {
     "name": "stderr",
     "output_type": "stream",
     "text": [
      "\r",
      " 15%|███████████▏                                                               | 210/1401 [1:11:33<7:17:03, 22.02s/it]"
     ]
    },
    {
     "name": "stdout",
     "output_type": "stream",
     "text": [
      "QUERY:  Precipitation amount in Zollikofen June 13, 2021 10h\n",
      "QUERY:  temperature in Zollikofen June 13, 2021 10h\n",
      "QUERY:  humidity in Zollikofen June 13, 2021 10h\n",
      "QUERY:  wind speed in Zollikofen June 13, 2021 10h\n",
      "QUERY:  Moon Phase calculatorJune 13, 2021 10h\n",
      "(6179, 7)\n"
     ]
    },
    {
     "data": {
      "text/html": [
       "<div>\n",
       "<style scoped>\n",
       "    .dataframe tbody tr th:only-of-type {\n",
       "        vertical-align: middle;\n",
       "    }\n",
       "\n",
       "    .dataframe tbody tr th {\n",
       "        vertical-align: top;\n",
       "    }\n",
       "\n",
       "    .dataframe thead th {\n",
       "        text-align: right;\n",
       "    }\n",
       "</style>\n",
       "<table border=\"1\" class=\"dataframe\">\n",
       "  <thead>\n",
       "    <tr style=\"text-align: right;\">\n",
       "      <th></th>\n",
       "      <th>date</th>\n",
       "      <th>temperature</th>\n",
       "      <th>humidity</th>\n",
       "      <th>wind speed</th>\n",
       "      <th>Precipitation amount</th>\n",
       "      <th>query</th>\n",
       "      <th>Moon Phase calculator</th>\n",
       "    </tr>\n",
       "  </thead>\n",
       "  <tbody>\n",
       "    <tr>\n",
       "      <th>8</th>\n",
       "      <td>2021-06-13 09:00:00</td>\n",
       "      <td>21 °C\\n(9:00 am CEST | Sunday, June 13, 2021)</td>\n",
       "      <td>average: 65% (61 to 69%)\\n(9:00 am CEST | Sund...</td>\n",
       "      <td>1 m/s\\n(9:00 am CEST | Sunday, June 13, 2021)</td>\n",
       "      <td>no precipitation\\n(9:00 am CEST | Sunday, June...</td>\n",
       "      <td>Moon Phase calculatorJune 13, 2021 9h</td>\n",
       "      <td>| waxing crescent moon\\n7.55% illuminated</td>\n",
       "    </tr>\n",
       "    <tr>\n",
       "      <th>9</th>\n",
       "      <td>2021-06-13 10:00:00</td>\n",
       "      <td>23 °C\\n(10:00 am CEST | Sunday, June 13, 2021)</td>\n",
       "      <td>average: 57% (57%)\\n(10:00 am CEST | Sunday, J...</td>\n",
       "      <td>2 m/s\\n(10:00 am CEST | Sunday, June 13, 2021)</td>\n",
       "      <td>no precipitation\\n(10:00 am CEST | Sunday, Jun...</td>\n",
       "      <td>Moon Phase calculatorJune 13, 2021 10h</td>\n",
       "      <td>| waxing crescent moon\\n7.77% illuminated</td>\n",
       "    </tr>\n",
       "  </tbody>\n",
       "</table>\n",
       "</div>"
      ],
      "text/plain": [
       "                 date                                     temperature  \\\n",
       "8 2021-06-13 09:00:00   21 °C\\n(9:00 am CEST | Sunday, June 13, 2021)   \n",
       "9 2021-06-13 10:00:00  23 °C\\n(10:00 am CEST | Sunday, June 13, 2021)   \n",
       "\n",
       "                                            humidity  \\\n",
       "8  average: 65% (61 to 69%)\\n(9:00 am CEST | Sund...   \n",
       "9  average: 57% (57%)\\n(10:00 am CEST | Sunday, J...   \n",
       "\n",
       "                                       wind speed  \\\n",
       "8   1 m/s\\n(9:00 am CEST | Sunday, June 13, 2021)   \n",
       "9  2 m/s\\n(10:00 am CEST | Sunday, June 13, 2021)   \n",
       "\n",
       "                                Precipitation amount  \\\n",
       "8  no precipitation\\n(9:00 am CEST | Sunday, June...   \n",
       "9  no precipitation\\n(10:00 am CEST | Sunday, Jun...   \n",
       "\n",
       "                                    query  \\\n",
       "8   Moon Phase calculatorJune 13, 2021 9h   \n",
       "9  Moon Phase calculatorJune 13, 2021 10h   \n",
       "\n",
       "                       Moon Phase calculator  \n",
       "8  | waxing crescent moon\\n7.55% illuminated  \n",
       "9  | waxing crescent moon\\n7.77% illuminated  "
      ]
     },
     "metadata": {},
     "output_type": "display_data"
    },
    {
     "name": "stderr",
     "output_type": "stream",
     "text": [
      "\r",
      " 15%|███████████▎                                                               | 211/1401 [1:11:55<7:17:27, 22.06s/it]"
     ]
    },
    {
     "name": "stdout",
     "output_type": "stream",
     "text": [
      "QUERY:  Precipitation amount in Zollikofen June 13, 2021 11h\n",
      "QUERY:  temperature in Zollikofen June 13, 2021 11h\n",
      "QUERY:  humidity in Zollikofen June 13, 2021 11h\n",
      "QUERY:  wind speed in Zollikofen June 13, 2021 11h\n",
      "QUERY:  Moon Phase calculatorJune 13, 2021 11h\n"
     ]
    },
    {
     "name": "stderr",
     "output_type": "stream",
     "text": [
      "\r",
      " 15%|███████████▎                                                               | 212/1401 [1:12:17<7:17:59, 22.10s/it]"
     ]
    },
    {
     "name": "stdout",
     "output_type": "stream",
     "text": [
      "QUERY:  Precipitation amount in Zollikofen June 13, 2021 12h\n",
      "QUERY:  temperature in Zollikofen June 13, 2021 12h\n",
      "QUERY:  humidity in Zollikofen June 13, 2021 12h\n",
      "QUERY:  wind speed in Zollikofen June 13, 2021 12h\n",
      "QUERY:  Moon Phase calculatorJune 13, 2021 12h\n"
     ]
    },
    {
     "name": "stderr",
     "output_type": "stream",
     "text": [
      "\r",
      " 15%|███████████▍                                                               | 213/1401 [1:12:40<7:20:10, 22.23s/it]"
     ]
    },
    {
     "name": "stdout",
     "output_type": "stream",
     "text": [
      "QUERY:  Precipitation amount in Zollikofen June 13, 2021 13h\n",
      "QUERY:  temperature in Zollikofen June 13, 2021 13h\n",
      "QUERY:  humidity in Zollikofen June 13, 2021 13h\n",
      "QUERY:  wind speed in Zollikofen June 13, 2021 13h\n",
      "QUERY:  Moon Phase calculatorJune 13, 2021 13h\n"
     ]
    },
    {
     "name": "stderr",
     "output_type": "stream",
     "text": [
      "\r",
      " 15%|███████████▍                                                               | 214/1401 [1:13:02<7:22:09, 22.35s/it]"
     ]
    },
    {
     "name": "stdout",
     "output_type": "stream",
     "text": [
      "QUERY:  Precipitation amount in Zollikofen June 13, 2021 14h\n",
      "QUERY:  temperature in Zollikofen June 13, 2021 14h\n",
      "QUERY:  humidity in Zollikofen June 13, 2021 14h\n",
      "QUERY:  wind speed in Zollikofen June 13, 2021 14h\n",
      "QUERY:  Moon Phase calculatorJune 13, 2021 14h\n"
     ]
    },
    {
     "name": "stderr",
     "output_type": "stream",
     "text": [
      "\r",
      " 15%|███████████▌                                                               | 215/1401 [1:13:24<7:16:46, 22.10s/it]"
     ]
    },
    {
     "name": "stdout",
     "output_type": "stream",
     "text": [
      "QUERY:  Precipitation amount in Zollikofen June 13, 2021 15h\n",
      "QUERY:  temperature in Zollikofen June 13, 2021 15h\n",
      "QUERY:  humidity in Zollikofen June 13, 2021 15h\n",
      "QUERY:  wind speed in Zollikofen June 13, 2021 15h\n",
      "QUERY:  Moon Phase calculatorJune 13, 2021 15h\n"
     ]
    },
    {
     "name": "stderr",
     "output_type": "stream",
     "text": [
      "\r",
      " 15%|███████████▌                                                               | 216/1401 [1:13:45<7:11:05, 21.83s/it]"
     ]
    },
    {
     "name": "stdout",
     "output_type": "stream",
     "text": [
      "QUERY:  Precipitation amount in Zollikofen June 13, 2021 16h\n",
      "QUERY:  temperature in Zollikofen June 13, 2021 16h\n",
      "QUERY:  humidity in Zollikofen June 13, 2021 16h\n",
      "QUERY:  wind speed in Zollikofen June 13, 2021 16h\n",
      "QUERY:  Moon Phase calculatorJune 13, 2021 16h\n"
     ]
    },
    {
     "name": "stderr",
     "output_type": "stream",
     "text": [
      "\r",
      " 15%|███████████▌                                                               | 217/1401 [1:14:06<7:05:09, 21.55s/it]"
     ]
    },
    {
     "name": "stdout",
     "output_type": "stream",
     "text": [
      "QUERY:  Precipitation amount in Zollikofen June 13, 2021 17h\n",
      "QUERY:  temperature in Zollikofen June 13, 2021 17h\n",
      "QUERY:  humidity in Zollikofen June 13, 2021 17h\n",
      "QUERY:  wind speed in Zollikofen June 13, 2021 17h\n",
      "QUERY:  Moon Phase calculatorJune 13, 2021 17h\n"
     ]
    },
    {
     "name": "stderr",
     "output_type": "stream",
     "text": [
      "\r",
      " 16%|███████████▋                                                               | 218/1401 [1:14:28<7:05:14, 21.57s/it]"
     ]
    },
    {
     "name": "stdout",
     "output_type": "stream",
     "text": [
      "QUERY:  Precipitation amount in Zollikofen June 13, 2021 18h\n",
      "QUERY:  temperature in Zollikofen June 13, 2021 18h\n",
      "QUERY:  humidity in Zollikofen June 13, 2021 18h\n",
      "QUERY:  wind speed in Zollikofen June 13, 2021 18h\n",
      "QUERY:  Moon Phase calculatorJune 13, 2021 18h\n"
     ]
    },
    {
     "name": "stderr",
     "output_type": "stream",
     "text": [
      "\r",
      " 16%|███████████▋                                                               | 219/1401 [1:14:49<7:03:48, 21.51s/it]"
     ]
    },
    {
     "name": "stdout",
     "output_type": "stream",
     "text": [
      "QUERY:  Precipitation amount in Zollikofen June 13, 2021 19h\n",
      "QUERY:  temperature in Zollikofen June 13, 2021 19h\n",
      "QUERY:  humidity in Zollikofen June 13, 2021 19h\n",
      "QUERY:  wind speed in Zollikofen June 13, 2021 19h\n",
      "QUERY:  Moon Phase calculatorJune 13, 2021 19h\n"
     ]
    },
    {
     "name": "stderr",
     "output_type": "stream",
     "text": [
      "\r",
      " 16%|███████████▊                                                               | 220/1401 [1:15:12<7:10:40, 21.88s/it]"
     ]
    },
    {
     "name": "stdout",
     "output_type": "stream",
     "text": [
      "QUERY:  Precipitation amount in Zollikofen June 13, 2021 20h\n",
      "QUERY:  temperature in Zollikofen June 13, 2021 20h\n",
      "QUERY:  humidity in Zollikofen June 13, 2021 20h\n",
      "QUERY:  wind speed in Zollikofen June 13, 2021 20h\n",
      "QUERY:  Moon Phase calculatorJune 13, 2021 20h\n",
      "(6189, 7)\n"
     ]
    },
    {
     "data": {
      "text/html": [
       "<div>\n",
       "<style scoped>\n",
       "    .dataframe tbody tr th:only-of-type {\n",
       "        vertical-align: middle;\n",
       "    }\n",
       "\n",
       "    .dataframe tbody tr th {\n",
       "        vertical-align: top;\n",
       "    }\n",
       "\n",
       "    .dataframe thead th {\n",
       "        text-align: right;\n",
       "    }\n",
       "</style>\n",
       "<table border=\"1\" class=\"dataframe\">\n",
       "  <thead>\n",
       "    <tr style=\"text-align: right;\">\n",
       "      <th></th>\n",
       "      <th>date</th>\n",
       "      <th>temperature</th>\n",
       "      <th>humidity</th>\n",
       "      <th>wind speed</th>\n",
       "      <th>Precipitation amount</th>\n",
       "      <th>query</th>\n",
       "      <th>Moon Phase calculator</th>\n",
       "    </tr>\n",
       "  </thead>\n",
       "  <tbody>\n",
       "    <tr>\n",
       "      <th>8</th>\n",
       "      <td>2021-06-13 19:00:00</td>\n",
       "      <td>25 °C\\n(7:00 pm CEST | Sunday, June 13, 2021)</td>\n",
       "      <td>average: 41% (41%)\\n(7:00 pm CEST | Sunday, Ju...</td>\n",
       "      <td>3 m/s\\n(7:00 pm CEST | Sunday, June 13, 2021)</td>\n",
       "      <td>no precipitation\\n(7:00 pm CEST | Sunday, June...</td>\n",
       "      <td>Moon Phase calculatorJune 13, 2021 19h</td>\n",
       "      <td>| waxing crescent moon\\n9.89% illuminated</td>\n",
       "    </tr>\n",
       "    <tr>\n",
       "      <th>9</th>\n",
       "      <td>2021-06-13 20:00:00</td>\n",
       "      <td>24 °C\\n(8:00 pm CEST | Sunday, June 13, 2021)</td>\n",
       "      <td>average: 42% (41 to 44%)\\n(8:00 pm CEST | Sund...</td>\n",
       "      <td>2 m/s\\n(8:00 pm CEST | Sunday, June 13, 2021)</td>\n",
       "      <td>no precipitation\\n(8:00 pm CEST | Sunday, June...</td>\n",
       "      <td>Moon Phase calculatorJune 13, 2021 20h</td>\n",
       "      <td>| waxing crescent moon\\n10.14% illuminated</td>\n",
       "    </tr>\n",
       "  </tbody>\n",
       "</table>\n",
       "</div>"
      ],
      "text/plain": [
       "                 date                                    temperature  \\\n",
       "8 2021-06-13 19:00:00  25 °C\\n(7:00 pm CEST | Sunday, June 13, 2021)   \n",
       "9 2021-06-13 20:00:00  24 °C\\n(8:00 pm CEST | Sunday, June 13, 2021)   \n",
       "\n",
       "                                            humidity  \\\n",
       "8  average: 41% (41%)\\n(7:00 pm CEST | Sunday, Ju...   \n",
       "9  average: 42% (41 to 44%)\\n(8:00 pm CEST | Sund...   \n",
       "\n",
       "                                      wind speed  \\\n",
       "8  3 m/s\\n(7:00 pm CEST | Sunday, June 13, 2021)   \n",
       "9  2 m/s\\n(8:00 pm CEST | Sunday, June 13, 2021)   \n",
       "\n",
       "                                Precipitation amount  \\\n",
       "8  no precipitation\\n(7:00 pm CEST | Sunday, June...   \n",
       "9  no precipitation\\n(8:00 pm CEST | Sunday, June...   \n",
       "\n",
       "                                    query  \\\n",
       "8  Moon Phase calculatorJune 13, 2021 19h   \n",
       "9  Moon Phase calculatorJune 13, 2021 20h   \n",
       "\n",
       "                        Moon Phase calculator  \n",
       "8   | waxing crescent moon\\n9.89% illuminated  \n",
       "9  | waxing crescent moon\\n10.14% illuminated  "
      ]
     },
     "metadata": {},
     "output_type": "display_data"
    },
    {
     "name": "stderr",
     "output_type": "stream",
     "text": [
      "\r",
      " 16%|███████████▊                                                               | 221/1401 [1:15:33<7:09:02, 21.82s/it]"
     ]
    },
    {
     "name": "stdout",
     "output_type": "stream",
     "text": [
      "QUERY:  Precipitation amount in Zollikofen June 13, 2021 21h\n",
      "QUERY:  temperature in Zollikofen June 13, 2021 21h\n",
      "QUERY:  humidity in Zollikofen June 13, 2021 21h\n",
      "QUERY:  wind speed in Zollikofen June 13, 2021 21h\n",
      "QUERY:  Moon Phase calculatorJune 13, 2021 21h\n"
     ]
    },
    {
     "name": "stderr",
     "output_type": "stream",
     "text": [
      "\r",
      " 16%|███████████▉                                                               | 222/1401 [1:15:51<6:47:11, 20.72s/it]"
     ]
    },
    {
     "name": "stdout",
     "output_type": "stream",
     "text": [
      "QUERY:  Precipitation amount in Zollikofen June 13, 2021 22h\n",
      "QUERY:  temperature in Zollikofen June 13, 2021 22h\n",
      "QUERY:  humidity in Zollikofen June 13, 2021 22h\n",
      "QUERY:  wind speed in Zollikofen June 13, 2021 22h\n",
      "QUERY:  Moon Phase calculatorJune 13, 2021 22h\n"
     ]
    },
    {
     "name": "stderr",
     "output_type": "stream",
     "text": [
      "\r",
      " 16%|███████████▉                                                               | 223/1401 [1:16:09<6:30:05, 19.87s/it]"
     ]
    },
    {
     "name": "stdout",
     "output_type": "stream",
     "text": [
      "QUERY:  Precipitation amount in Zollikofen June 13, 2021 23h\n",
      "QUERY:  temperature in Zollikofen June 13, 2021 23h\n",
      "QUERY:  humidity in Zollikofen June 13, 2021 23h\n",
      "QUERY:  wind speed in Zollikofen June 13, 2021 23h\n",
      "QUERY:  Moon Phase calculatorJune 13, 2021 23h\n"
     ]
    },
    {
     "name": "stderr",
     "output_type": "stream",
     "text": [
      "\r",
      " 16%|███████████▉                                                               | 224/1401 [1:16:27<6:15:30, 19.14s/it]"
     ]
    },
    {
     "name": "stdout",
     "output_type": "stream",
     "text": [
      "QUERY:  Precipitation amount in Zollikofen June 14, 2021 0h\n",
      "QUERY:  temperature in Zollikofen June 14, 2021 0h\n",
      "QUERY:  humidity in Zollikofen June 14, 2021 0h\n",
      "QUERY:  wind speed in Zollikofen June 14, 2021 0h\n",
      "QUERY:  Moon Phase calculatorJune 14, 2021 0h\n"
     ]
    },
    {
     "name": "stderr",
     "output_type": "stream",
     "text": [
      "\r",
      " 16%|████████████                                                               | 225/1401 [1:16:44<6:01:23, 18.44s/it]"
     ]
    },
    {
     "name": "stdout",
     "output_type": "stream",
     "text": [
      "QUERY:  Precipitation amount in Zollikofen June 14, 2021 1h\n",
      "QUERY:  temperature in Zollikofen June 14, 2021 1h\n",
      "QUERY:  humidity in Zollikofen June 14, 2021 1h\n",
      "QUERY:  wind speed in Zollikofen June 14, 2021 1h\n",
      "QUERY:  Moon Phase calculatorJune 14, 2021 1h\n"
     ]
    },
    {
     "name": "stderr",
     "output_type": "stream",
     "text": [
      "\r",
      " 16%|████████████                                                               | 226/1401 [1:17:01<5:56:50, 18.22s/it]"
     ]
    },
    {
     "name": "stdout",
     "output_type": "stream",
     "text": [
      "QUERY:  Precipitation amount in Zollikofen June 14, 2021 2h\n",
      "QUERY:  temperature in Zollikofen June 14, 2021 2h\n",
      "QUERY:  humidity in Zollikofen June 14, 2021 2h\n",
      "QUERY:  wind speed in Zollikofen June 14, 2021 2h\n",
      "QUERY:  Moon Phase calculatorJune 14, 2021 2h\n"
     ]
    },
    {
     "name": "stderr",
     "output_type": "stream",
     "text": [
      "\r",
      " 16%|████████████▏                                                              | 227/1401 [1:17:19<5:54:10, 18.10s/it]"
     ]
    },
    {
     "name": "stdout",
     "output_type": "stream",
     "text": [
      "QUERY:  Precipitation amount in Zollikofen June 14, 2021 3h\n",
      "QUERY:  temperature in Zollikofen June 14, 2021 3h\n",
      "QUERY:  humidity in Zollikofen June 14, 2021 3h\n",
      "QUERY:  wind speed in Zollikofen June 14, 2021 3h\n",
      "QUERY:  Moon Phase calculatorJune 14, 2021 3h\n"
     ]
    },
    {
     "name": "stderr",
     "output_type": "stream",
     "text": [
      "\r",
      " 16%|████████████▏                                                              | 228/1401 [1:17:36<5:48:35, 17.83s/it]"
     ]
    },
    {
     "name": "stdout",
     "output_type": "stream",
     "text": [
      "QUERY:  Precipitation amount in Zollikofen June 14, 2021 4h\n",
      "QUERY:  temperature in Zollikofen June 14, 2021 4h\n",
      "QUERY:  humidity in Zollikofen June 14, 2021 4h\n",
      "QUERY:  wind speed in Zollikofen June 14, 2021 4h\n",
      "QUERY:  Moon Phase calculatorJune 14, 2021 4h\n"
     ]
    },
    {
     "name": "stderr",
     "output_type": "stream",
     "text": [
      "\r",
      " 16%|████████████▎                                                              | 229/1401 [1:17:54<5:49:58, 17.92s/it]"
     ]
    },
    {
     "name": "stdout",
     "output_type": "stream",
     "text": [
      "QUERY:  Precipitation amount in Zollikofen June 14, 2021 5h\n",
      "QUERY:  temperature in Zollikofen June 14, 2021 5h\n",
      "QUERY:  humidity in Zollikofen June 14, 2021 5h\n",
      "QUERY:  wind speed in Zollikofen June 14, 2021 5h\n",
      "QUERY:  Moon Phase calculatorJune 14, 2021 5h\n"
     ]
    },
    {
     "name": "stderr",
     "output_type": "stream",
     "text": [
      "\r",
      " 16%|████████████▎                                                              | 230/1401 [1:18:12<5:45:33, 17.71s/it]"
     ]
    },
    {
     "name": "stdout",
     "output_type": "stream",
     "text": [
      "QUERY:  Precipitation amount in Zollikofen June 14, 2021 6h\n",
      "QUERY:  temperature in Zollikofen June 14, 2021 6h\n",
      "QUERY:  humidity in Zollikofen June 14, 2021 6h\n",
      "QUERY:  wind speed in Zollikofen June 14, 2021 6h\n",
      "QUERY:  Moon Phase calculatorJune 14, 2021 6h\n",
      "(6199, 7)\n"
     ]
    },
    {
     "data": {
      "text/html": [
       "<div>\n",
       "<style scoped>\n",
       "    .dataframe tbody tr th:only-of-type {\n",
       "        vertical-align: middle;\n",
       "    }\n",
       "\n",
       "    .dataframe tbody tr th {\n",
       "        vertical-align: top;\n",
       "    }\n",
       "\n",
       "    .dataframe thead th {\n",
       "        text-align: right;\n",
       "    }\n",
       "</style>\n",
       "<table border=\"1\" class=\"dataframe\">\n",
       "  <thead>\n",
       "    <tr style=\"text-align: right;\">\n",
       "      <th></th>\n",
       "      <th>date</th>\n",
       "      <th>temperature</th>\n",
       "      <th>humidity</th>\n",
       "      <th>wind speed</th>\n",
       "      <th>Precipitation amount</th>\n",
       "      <th>query</th>\n",
       "      <th>Moon Phase calculator</th>\n",
       "    </tr>\n",
       "  </thead>\n",
       "  <tbody>\n",
       "    <tr>\n",
       "      <th>8</th>\n",
       "      <td>2021-06-14 05:00:00</td>\n",
       "      <td>10 °C\\n(5:00 am CEST | Monday, June 14, 2021)</td>\n",
       "      <td>average: 97% (94 to 100%)\\n(5:00 am CEST | Mon...</td>\n",
       "      <td>1 m/s\\n(5:00 am CEST | Monday, June 14, 2021)</td>\n",
       "      <td>no precipitation\\n(5:00 am CEST | Monday, June...</td>\n",
       "      <td>Moon Phase calculatorJune 14, 2021 5h</td>\n",
       "      <td>| waxing crescent moon\\n12.53% illuminated</td>\n",
       "    </tr>\n",
       "    <tr>\n",
       "      <th>9</th>\n",
       "      <td>2021-06-14 06:00:00</td>\n",
       "      <td>11 °C\\n(6:00 am CEST | Monday, June 14, 2021)</td>\n",
       "      <td>average: 94% (88 to 100%)\\n(6:00 am CEST | Mon...</td>\n",
       "      <td>1 m/s\\n(6:00 am CEST | Monday, June 14, 2021)</td>\n",
       "      <td>no precipitation\\n(6:00 am CEST | Monday, June...</td>\n",
       "      <td>Moon Phase calculatorJune 14, 2021 6h</td>\n",
       "      <td>| waxing crescent moon\\n12.81% illuminated</td>\n",
       "    </tr>\n",
       "  </tbody>\n",
       "</table>\n",
       "</div>"
      ],
      "text/plain": [
       "                 date                                    temperature  \\\n",
       "8 2021-06-14 05:00:00  10 °C\\n(5:00 am CEST | Monday, June 14, 2021)   \n",
       "9 2021-06-14 06:00:00  11 °C\\n(6:00 am CEST | Monday, June 14, 2021)   \n",
       "\n",
       "                                            humidity  \\\n",
       "8  average: 97% (94 to 100%)\\n(5:00 am CEST | Mon...   \n",
       "9  average: 94% (88 to 100%)\\n(6:00 am CEST | Mon...   \n",
       "\n",
       "                                      wind speed  \\\n",
       "8  1 m/s\\n(5:00 am CEST | Monday, June 14, 2021)   \n",
       "9  1 m/s\\n(6:00 am CEST | Monday, June 14, 2021)   \n",
       "\n",
       "                                Precipitation amount  \\\n",
       "8  no precipitation\\n(5:00 am CEST | Monday, June...   \n",
       "9  no precipitation\\n(6:00 am CEST | Monday, June...   \n",
       "\n",
       "                                   query  \\\n",
       "8  Moon Phase calculatorJune 14, 2021 5h   \n",
       "9  Moon Phase calculatorJune 14, 2021 6h   \n",
       "\n",
       "                        Moon Phase calculator  \n",
       "8  | waxing crescent moon\\n12.53% illuminated  \n",
       "9  | waxing crescent moon\\n12.81% illuminated  "
      ]
     },
     "metadata": {},
     "output_type": "display_data"
    },
    {
     "name": "stderr",
     "output_type": "stream",
     "text": [
      "\r",
      " 16%|████████████▎                                                              | 231/1401 [1:18:29<5:44:58, 17.69s/it]"
     ]
    },
    {
     "name": "stdout",
     "output_type": "stream",
     "text": [
      "QUERY:  Precipitation amount in Zollikofen June 14, 2021 7h\n",
      "QUERY:  temperature in Zollikofen June 14, 2021 7h\n",
      "QUERY:  humidity in Zollikofen June 14, 2021 7h\n",
      "QUERY:  wind speed in Zollikofen June 14, 2021 7h\n",
      "QUERY:  Moon Phase calculatorJune 14, 2021 7h\n"
     ]
    },
    {
     "name": "stderr",
     "output_type": "stream",
     "text": [
      "\r",
      " 17%|████████████▍                                                              | 232/1401 [1:18:46<5:36:47, 17.29s/it]"
     ]
    },
    {
     "name": "stdout",
     "output_type": "stream",
     "text": [
      "QUERY:  Precipitation amount in Zollikofen June 14, 2021 8h\n",
      "QUERY:  temperature in Zollikofen June 14, 2021 8h\n",
      "QUERY:  humidity in Zollikofen June 14, 2021 8h\n",
      "QUERY:  wind speed in Zollikofen June 14, 2021 8h\n",
      "QUERY:  Moon Phase calculatorJune 14, 2021 8h\n"
     ]
    },
    {
     "name": "stderr",
     "output_type": "stream",
     "text": [
      "\r",
      " 17%|████████████▍                                                              | 233/1401 [1:19:02<5:29:26, 16.92s/it]"
     ]
    },
    {
     "name": "stdout",
     "output_type": "stream",
     "text": [
      "QUERY:  Precipitation amount in Zollikofen June 14, 2021 9h\n",
      "QUERY:  temperature in Zollikofen June 14, 2021 9h\n",
      "QUERY:  humidity in Zollikofen June 14, 2021 9h\n",
      "QUERY:  wind speed in Zollikofen June 14, 2021 9h\n",
      "QUERY:  Moon Phase calculatorJune 14, 2021 9h\n"
     ]
    },
    {
     "name": "stderr",
     "output_type": "stream",
     "text": [
      "100%|████████████████████████████████████████████████████████████████████████████| 1401/1401 [1:19:19<00:00,  3.40s/it]"
     ]
    },
    {
     "name": "stdout",
     "output_type": "stream",
     "text": [
      "(6202, 7)\n"
     ]
    },
    {
     "name": "stderr",
     "output_type": "stream",
     "text": [
      "\n"
     ]
    },
    {
     "data": {
      "text/html": [
       "<div>\n",
       "<style scoped>\n",
       "    .dataframe tbody tr th:only-of-type {\n",
       "        vertical-align: middle;\n",
       "    }\n",
       "\n",
       "    .dataframe tbody tr th {\n",
       "        vertical-align: top;\n",
       "    }\n",
       "\n",
       "    .dataframe thead th {\n",
       "        text-align: right;\n",
       "    }\n",
       "</style>\n",
       "<table border=\"1\" class=\"dataframe\">\n",
       "  <thead>\n",
       "    <tr style=\"text-align: right;\">\n",
       "      <th></th>\n",
       "      <th>date</th>\n",
       "      <th>temperature</th>\n",
       "      <th>humidity</th>\n",
       "      <th>wind speed</th>\n",
       "      <th>Precipitation amount</th>\n",
       "      <th>query</th>\n",
       "      <th>Moon Phase calculator</th>\n",
       "    </tr>\n",
       "  </thead>\n",
       "  <tbody>\n",
       "    <tr>\n",
       "      <th>1</th>\n",
       "      <td>2021-06-14 08:00:00</td>\n",
       "      <td>16 °C\\n(8:00 am CEST | Monday, June 14, 2021)</td>\n",
       "      <td>average: 70% (68 to 72%)\\n(8:00 am CEST | Mond...</td>\n",
       "      <td>1 m/s\\n(8:00 am CEST | Monday, June 14, 2021)</td>\n",
       "      <td>no precipitation\\n(8:00 am CEST | Monday, June...</td>\n",
       "      <td>Moon Phase calculatorJune 14, 2021 8h</td>\n",
       "      <td>| waxing crescent moon\\n13.38% illuminated</td>\n",
       "    </tr>\n",
       "    <tr>\n",
       "      <th>2</th>\n",
       "      <td>2021-06-14 09:00:00</td>\n",
       "      <td>18 °C\\n(9:00 am CEST | Monday, June 14, 2021)</td>\n",
       "      <td>average: 64% (64%)\\n(9:00 am CEST | Monday, Ju...</td>\n",
       "      <td>1 m/s\\n(9:00 am CEST | Monday, June 14, 2021)</td>\n",
       "      <td>no precipitation\\n(9:00 am CEST | Monday, June...</td>\n",
       "      <td>Moon Phase calculatorJune 14, 2021 9h</td>\n",
       "      <td>| waxing crescent moon\\n13.67% illuminated</td>\n",
       "    </tr>\n",
       "  </tbody>\n",
       "</table>\n",
       "</div>"
      ],
      "text/plain": [
       "                 date                                    temperature  \\\n",
       "1 2021-06-14 08:00:00  16 °C\\n(8:00 am CEST | Monday, June 14, 2021)   \n",
       "2 2021-06-14 09:00:00  18 °C\\n(9:00 am CEST | Monday, June 14, 2021)   \n",
       "\n",
       "                                            humidity  \\\n",
       "1  average: 70% (68 to 72%)\\n(8:00 am CEST | Mond...   \n",
       "2  average: 64% (64%)\\n(9:00 am CEST | Monday, Ju...   \n",
       "\n",
       "                                      wind speed  \\\n",
       "1  1 m/s\\n(8:00 am CEST | Monday, June 14, 2021)   \n",
       "2  1 m/s\\n(9:00 am CEST | Monday, June 14, 2021)   \n",
       "\n",
       "                                Precipitation amount  \\\n",
       "1  no precipitation\\n(8:00 am CEST | Monday, June...   \n",
       "2  no precipitation\\n(9:00 am CEST | Monday, June...   \n",
       "\n",
       "                                   query  \\\n",
       "1  Moon Phase calculatorJune 14, 2021 8h   \n",
       "2  Moon Phase calculatorJune 14, 2021 9h   \n",
       "\n",
       "                        Moon Phase calculator  \n",
       "1  | waxing crescent moon\\n13.38% illuminated  \n",
       "2  | waxing crescent moon\\n13.67% illuminated  "
      ]
     },
     "metadata": {},
     "output_type": "display_data"
    }
   ],
   "source": [
    "#not same as : https://weather.plus/observations-weather-station.php?dest=Bern-Zollikofen&id=066310&type=synop&day=20200713, our\n",
    "#results are less consistent :( \n",
    "#ATTENTION: monthly api calls limited to 2'000\n",
    "#if not working, save query and results: \"ERROR\", but continue the other query from the same date\n",
    "#open if exist\n",
    "li_df = []\n",
    "for i,d in enumerate(tqdm.tqdm(Daterange)):\n",
    "    now_ = dt.datetime.now()\n",
    "    #dont get the data in advance\n",
    "    if d<now_:      \n",
    "        dico = {'date':d}\n",
    "        for type_ in li_type:\n",
    "            try:                    \n",
    "                query = '%s in Zollikofen '%type_+d.strftime('%B')+' '+str(d.day)+', '+str(d.year)+' '+str(d.hour)+'h'\n",
    "                if type_=='Moon Phase calculator':\n",
    "                    query = type_+d.strftime('%B')+' '+str(d.day)+', '+str(d.year)+' '+str(d.hour)+'h'                    \n",
    "                print('QUERY: ',query)\n",
    "                dico['query'] = query\n",
    "                res = client.query(query)\n",
    "                for t in res.results:\n",
    "                    if 'no data available' in t.text:\n",
    "                        print('ERROR: no data available------------- ', query)\n",
    "                        error\n",
    "                    dico[type_] = t.text\n",
    "            except Exception as e:\n",
    "                print('ERROR:-------------', e, ' ---------- ', query)\n",
    "                dico[type_] = 'ERROR'\n",
    "        li_df.append(dico)\n",
    "        dico = {}\n",
    "        if i%10==0:\n",
    "            df_ = pd.DataFrame(li_df)\n",
    "            df = pd.concat([df,df_])\n",
    "            df.to_csv(path_weather, index=False, sep=';')\n",
    "            li_df = []\n",
    "            print(df.shape)\n",
    "            display(df.tail(2))\n",
    "df_ = pd.DataFrame(li_df)\n",
    "df = pd.concat([df,df_])\n",
    "df.to_csv(path_weather, index=False, sep=';')\n",
    "print(df.shape)\n",
    "display(df.tail(2))"
   ]
  },
  {
   "cell_type": "code",
   "execution_count": 6,
   "metadata": {},
   "outputs": [
    {
     "name": "stdout",
     "output_type": "stream",
     "text": [
      "(66, 7)\n"
     ]
    },
    {
     "data": {
      "text/html": [
       "<div>\n",
       "<style scoped>\n",
       "    .dataframe tbody tr th:only-of-type {\n",
       "        vertical-align: middle;\n",
       "    }\n",
       "\n",
       "    .dataframe tbody tr th {\n",
       "        vertical-align: top;\n",
       "    }\n",
       "\n",
       "    .dataframe thead th {\n",
       "        text-align: right;\n",
       "    }\n",
       "</style>\n",
       "<table border=\"1\" class=\"dataframe\">\n",
       "  <thead>\n",
       "    <tr style=\"text-align: right;\">\n",
       "      <th></th>\n",
       "      <th>date</th>\n",
       "      <th>temperature</th>\n",
       "      <th>humidity</th>\n",
       "      <th>wind speed</th>\n",
       "      <th>Precipitation amount</th>\n",
       "      <th>query</th>\n",
       "      <th>Moon Phase calculator</th>\n",
       "    </tr>\n",
       "  </thead>\n",
       "  <tbody>\n",
       "    <tr>\n",
       "      <th>0</th>\n",
       "      <td>2020-11-05 22:00:00</td>\n",
       "      <td>8 °C\\n(10:00 pm CET | Thursday, November 5, 2020)</td>\n",
       "      <td>ERROR</td>\n",
       "      <td>1 m/s\\n(10:00 pm CET | Thursday, November 5, 2...</td>\n",
       "      <td>(unknown)\\n(10:00 pm CET | Thursday, November ...</td>\n",
       "      <td>Moon Phase calculatorNovember 5, 2020 22h</td>\n",
       "      <td>| waning gibbous moon\\n76.55% illuminated</td>\n",
       "    </tr>\n",
       "    <tr>\n",
       "      <th>0</th>\n",
       "      <td>2020-11-16 19:00:00</td>\n",
       "      <td>7 °C\\n(7:00 pm CET | Monday, November 16, 2020)</td>\n",
       "      <td>ERROR</td>\n",
       "      <td>1 m/s\\n(7:00 pm CET | Monday, November 16, 2020)</td>\n",
       "      <td>(unknown)\\n(7:00 pm CET | Monday, November 16,...</td>\n",
       "      <td>Moon Phase calculatorNovember 16, 2020 19h</td>\n",
       "      <td>| waxing crescent moon\\n3.48% illuminated</td>\n",
       "    </tr>\n",
       "    <tr>\n",
       "      <th>1</th>\n",
       "      <td>2020-11-16 21:00:00</td>\n",
       "      <td>5 °C\\n(9:00 pm CET | Monday, November 16, 2020)</td>\n",
       "      <td>ERROR</td>\n",
       "      <td>0 m/s\\n(9:00 pm CET | Monday, November 16, 2020)</td>\n",
       "      <td>(unknown)\\n(9:00 pm CET | Monday, November 16,...</td>\n",
       "      <td>Moon Phase calculatorNovember 16, 2020 21h</td>\n",
       "      <td>| waxing crescent moon\\n3.86% illuminated</td>\n",
       "    </tr>\n",
       "    <tr>\n",
       "      <th>2</th>\n",
       "      <td>2020-12-15 21:00:00</td>\n",
       "      <td>4 °C\\n(9:00 pm CET | Tuesday, December 15, 2020)</td>\n",
       "      <td>ERROR</td>\n",
       "      <td>1 m/s\\n(9:00 pm CET | Tuesday, December 15, 2020)</td>\n",
       "      <td>(unknown)\\n(9:00 pm CET | Tuesday, December 15...</td>\n",
       "      <td>Moon Phase calculatorDecember 15, 2020 21h</td>\n",
       "      <td>| waxing crescent moon\\n1.86% illuminated</td>\n",
       "    </tr>\n",
       "    <tr>\n",
       "      <th>3</th>\n",
       "      <td>2021-02-08 17:00:00</td>\n",
       "      <td>5 °C\\n(5:00 pm CET | Monday, February 8, 2021)</td>\n",
       "      <td>ERROR</td>\n",
       "      <td>5 m/s\\n(5:00 pm CET | Monday, February 8, 2021)</td>\n",
       "      <td>(unknown)\\n(5:00 pm CET | Monday, February 8, ...</td>\n",
       "      <td>Moon Phase calculatorFebruary 8, 2021 17h</td>\n",
       "      <td>| waning crescent moon\\n11.27% illuminated</td>\n",
       "    </tr>\n",
       "    <tr>\n",
       "      <th>...</th>\n",
       "      <td>...</td>\n",
       "      <td>...</td>\n",
       "      <td>...</td>\n",
       "      <td>...</td>\n",
       "      <td>...</td>\n",
       "      <td>...</td>\n",
       "      <td>...</td>\n",
       "    </tr>\n",
       "    <tr>\n",
       "      <th>0</th>\n",
       "      <td>2021-06-02 14:00:00</td>\n",
       "      <td>ERROR</td>\n",
       "      <td>average: 52% (50 to 53%)\\n(2:00 pm CEST | Wedn...</td>\n",
       "      <td>ERROR</td>\n",
       "      <td>no precipitation\\n(2:00 pm CEST | Wednesday, J...</td>\n",
       "      <td>Moon Phase calculatorJune 2, 2021 14h</td>\n",
       "      <td>| last quarter moon\\n48.18% illuminated</td>\n",
       "    </tr>\n",
       "    <tr>\n",
       "      <th>1</th>\n",
       "      <td>2021-06-02 15:00:00</td>\n",
       "      <td>ERROR</td>\n",
       "      <td>average: 51% (50 to 53%)\\n(3:00 pm CEST | Wedn...</td>\n",
       "      <td>ERROR</td>\n",
       "      <td>no precipitation\\n(3:00 pm CEST | Wednesday, J...</td>\n",
       "      <td>Moon Phase calculatorJune 2, 2021 15h</td>\n",
       "      <td>| last quarter moon\\n47.75% illuminated</td>\n",
       "    </tr>\n",
       "    <tr>\n",
       "      <th>2</th>\n",
       "      <td>2021-06-02 16:00:00</td>\n",
       "      <td>ERROR</td>\n",
       "      <td>average: 51% (50 to 53%)\\n(4:00 pm CEST | Wedn...</td>\n",
       "      <td>ERROR</td>\n",
       "      <td>no precipitation\\n(4:00 pm CEST | Wednesday, J...</td>\n",
       "      <td>Moon Phase calculatorJune 2, 2021 16h</td>\n",
       "      <td>| last quarter moon\\n47.33% illuminated</td>\n",
       "    </tr>\n",
       "    <tr>\n",
       "      <th>4</th>\n",
       "      <td>2021-06-04 23:00:00</td>\n",
       "      <td>16 °C\\n(11:00 pm CEST | Friday, June 4, 2021)</td>\n",
       "      <td>ERROR</td>\n",
       "      <td>3 m/s\\n(11:00 pm CEST | Friday, June 4, 2021)</td>\n",
       "      <td>rain\\n(11:00 pm CEST | Friday, June 4, 2021)</td>\n",
       "      <td>Moon Phase calculatorJune 4, 2021 23h</td>\n",
       "      <td>| waning crescent moon\\n25.75% illuminated</td>\n",
       "    </tr>\n",
       "    <tr>\n",
       "      <th>9</th>\n",
       "      <td>2021-06-08 20:00:00</td>\n",
       "      <td>17 °C\\n(8:00 pm CEST | Tuesday, June 8, 2021)</td>\n",
       "      <td>ERROR</td>\n",
       "      <td>0 m/s\\n(8:00 pm CEST | Tuesday, June 8, 2021)</td>\n",
       "      <td>rain\\n(8:00 pm CEST | Tuesday, June 8, 2021)</td>\n",
       "      <td>Moon Phase calculatorJune 8, 2021 20h</td>\n",
       "      <td>| waning crescent moon\\n2.62% illuminated</td>\n",
       "    </tr>\n",
       "  </tbody>\n",
       "</table>\n",
       "<p>66 rows × 7 columns</p>\n",
       "</div>"
      ],
      "text/plain": [
       "                  date                                        temperature  \\\n",
       "0  2020-11-05 22:00:00  8 °C\\n(10:00 pm CET | Thursday, November 5, 2020)   \n",
       "0  2020-11-16 19:00:00    7 °C\\n(7:00 pm CET | Monday, November 16, 2020)   \n",
       "1  2020-11-16 21:00:00    5 °C\\n(9:00 pm CET | Monday, November 16, 2020)   \n",
       "2  2020-12-15 21:00:00   4 °C\\n(9:00 pm CET | Tuesday, December 15, 2020)   \n",
       "3  2021-02-08 17:00:00     5 °C\\n(5:00 pm CET | Monday, February 8, 2021)   \n",
       "..                 ...                                                ...   \n",
       "0  2021-06-02 14:00:00                                              ERROR   \n",
       "1  2021-06-02 15:00:00                                              ERROR   \n",
       "2  2021-06-02 16:00:00                                              ERROR   \n",
       "4  2021-06-04 23:00:00      16 °C\\n(11:00 pm CEST | Friday, June 4, 2021)   \n",
       "9  2021-06-08 20:00:00      17 °C\\n(8:00 pm CEST | Tuesday, June 8, 2021)   \n",
       "\n",
       "                                             humidity  \\\n",
       "0                                               ERROR   \n",
       "0                                               ERROR   \n",
       "1                                               ERROR   \n",
       "2                                               ERROR   \n",
       "3                                               ERROR   \n",
       "..                                                ...   \n",
       "0   average: 52% (50 to 53%)\\n(2:00 pm CEST | Wedn...   \n",
       "1   average: 51% (50 to 53%)\\n(3:00 pm CEST | Wedn...   \n",
       "2   average: 51% (50 to 53%)\\n(4:00 pm CEST | Wedn...   \n",
       "4                                               ERROR   \n",
       "9                                               ERROR   \n",
       "\n",
       "                                           wind speed  \\\n",
       "0   1 m/s\\n(10:00 pm CET | Thursday, November 5, 2...   \n",
       "0    1 m/s\\n(7:00 pm CET | Monday, November 16, 2020)   \n",
       "1    0 m/s\\n(9:00 pm CET | Monday, November 16, 2020)   \n",
       "2   1 m/s\\n(9:00 pm CET | Tuesday, December 15, 2020)   \n",
       "3     5 m/s\\n(5:00 pm CET | Monday, February 8, 2021)   \n",
       "..                                                ...   \n",
       "0                                               ERROR   \n",
       "1                                               ERROR   \n",
       "2                                               ERROR   \n",
       "4       3 m/s\\n(11:00 pm CEST | Friday, June 4, 2021)   \n",
       "9       0 m/s\\n(8:00 pm CEST | Tuesday, June 8, 2021)   \n",
       "\n",
       "                                 Precipitation amount  \\\n",
       "0   (unknown)\\n(10:00 pm CET | Thursday, November ...   \n",
       "0   (unknown)\\n(7:00 pm CET | Monday, November 16,...   \n",
       "1   (unknown)\\n(9:00 pm CET | Monday, November 16,...   \n",
       "2   (unknown)\\n(9:00 pm CET | Tuesday, December 15...   \n",
       "3   (unknown)\\n(5:00 pm CET | Monday, February 8, ...   \n",
       "..                                                ...   \n",
       "0   no precipitation\\n(2:00 pm CEST | Wednesday, J...   \n",
       "1   no precipitation\\n(3:00 pm CEST | Wednesday, J...   \n",
       "2   no precipitation\\n(4:00 pm CEST | Wednesday, J...   \n",
       "4        rain\\n(11:00 pm CEST | Friday, June 4, 2021)   \n",
       "9        rain\\n(8:00 pm CEST | Tuesday, June 8, 2021)   \n",
       "\n",
       "                                         query  \\\n",
       "0    Moon Phase calculatorNovember 5, 2020 22h   \n",
       "0   Moon Phase calculatorNovember 16, 2020 19h   \n",
       "1   Moon Phase calculatorNovember 16, 2020 21h   \n",
       "2   Moon Phase calculatorDecember 15, 2020 21h   \n",
       "3    Moon Phase calculatorFebruary 8, 2021 17h   \n",
       "..                                         ...   \n",
       "0        Moon Phase calculatorJune 2, 2021 14h   \n",
       "1        Moon Phase calculatorJune 2, 2021 15h   \n",
       "2        Moon Phase calculatorJune 2, 2021 16h   \n",
       "4        Moon Phase calculatorJune 4, 2021 23h   \n",
       "9        Moon Phase calculatorJune 8, 2021 20h   \n",
       "\n",
       "                         Moon Phase calculator  \n",
       "0    | waning gibbous moon\\n76.55% illuminated  \n",
       "0    | waxing crescent moon\\n3.48% illuminated  \n",
       "1    | waxing crescent moon\\n3.86% illuminated  \n",
       "2    | waxing crescent moon\\n1.86% illuminated  \n",
       "3   | waning crescent moon\\n11.27% illuminated  \n",
       "..                                         ...  \n",
       "0      | last quarter moon\\n48.18% illuminated  \n",
       "1      | last quarter moon\\n47.75% illuminated  \n",
       "2      | last quarter moon\\n47.33% illuminated  \n",
       "4   | waning crescent moon\\n25.75% illuminated  \n",
       "9    | waning crescent moon\\n2.62% illuminated  \n",
       "\n",
       "[66 rows x 7 columns]"
      ]
     },
     "execution_count": 6,
     "metadata": {},
     "output_type": "execute_result"
    }
   ],
   "source": [
    "print(df[df.isin([\"ERROR\"]).any(axis=1)].shape)\n",
    "df[df.isin([\"ERROR\"]).any(axis=1)]"
   ]
  },
  {
   "cell_type": "markdown",
   "metadata": {},
   "source": [
    "df['day'] = df['date'].map(lambda x: dt.datetime.date(x))\n",
    "df['day'].value_counts()"
   ]
  },
  {
   "cell_type": "markdown",
   "metadata": {},
   "source": [
    "#add lune to weather data\n",
    "#dico_d_m = {}\n",
    "for d in tqdm.tqdm(Daterange):\n",
    "    now_ = dt.datetime.now()\n",
    "    #dont get the data in advance\n",
    "    if d<now_:   \n",
    "        if d not in dico_d_m:\n",
    "            try:\n",
    "                query = 'Moon Phase calculator'+d.strftime('%B')+' '+str(d.day)+', '+str(d.year)+' '+str(d.hour)+'h'\n",
    "                res = client.query(query) \n",
    "                for t in res.results:\n",
    "                    dico_d_m[d] = t.text.strip('|').strip(' ')\n",
    "            except Exception as e:\n",
    "                print('ERROR')\n",
    "                print(e)\n",
    "#df['Moon Phase calculator'] = df['date'].map(lambda x: dico_d_m.get(x, 'ERROR'))\n",
    "#print(df[df['Moonphase']=='ERROR'].shape)\n",
    "df"
   ]
  },
  {
   "cell_type": "markdown",
   "metadata": {},
   "source": [
    "df = df.drop(['MoonName','Moon Phase calculator'],axis=1)"
   ]
  },
  {
   "cell_type": "markdown",
   "metadata": {},
   "source": [
    "# Process"
   ]
  },
  {
   "cell_type": "code",
   "execution_count": 7,
   "metadata": {},
   "outputs": [
    {
     "name": "stdout",
     "output_type": "stream",
     "text": [
      "(6135, 13)\n"
     ]
    },
    {
     "data": {
      "text/html": [
       "<div>\n",
       "<style scoped>\n",
       "    .dataframe tbody tr th:only-of-type {\n",
       "        vertical-align: middle;\n",
       "    }\n",
       "\n",
       "    .dataframe tbody tr th {\n",
       "        vertical-align: top;\n",
       "    }\n",
       "\n",
       "    .dataframe thead th {\n",
       "        text-align: right;\n",
       "    }\n",
       "</style>\n",
       "<table border=\"1\" class=\"dataframe\">\n",
       "  <thead>\n",
       "    <tr style=\"text-align: right;\">\n",
       "      <th></th>\n",
       "      <th>Timestamp</th>\n",
       "      <th>temperature</th>\n",
       "      <th>humidity</th>\n",
       "      <th>wind speed</th>\n",
       "      <th>Precipitation amount</th>\n",
       "      <th>query</th>\n",
       "      <th>Moon Phase calculator</th>\n",
       "      <th>date</th>\n",
       "      <th>hour</th>\n",
       "      <th>temperature_C</th>\n",
       "      <th>wind_speed_mpers</th>\n",
       "      <th>humidity_avgpercent</th>\n",
       "      <th>rain</th>\n",
       "    </tr>\n",
       "  </thead>\n",
       "  <tbody>\n",
       "    <tr>\n",
       "      <th>0</th>\n",
       "      <td>2020-09-29 00:00:00</td>\n",
       "      <td>10 °C\\n(12:00 am CEST | Tuesday, September 29,...</td>\n",
       "      <td>average: 100% (100%)\\n(12:00 am CEST | Tuesday...</td>\n",
       "      <td>2 m/s\\n(12:00 am CEST | Tuesday, September 29,...</td>\n",
       "      <td>rain\\n(12:00 am CEST | Tuesday, September 29, ...</td>\n",
       "      <td>Moon Phase calculatorSeptember 29, 2020 0h</td>\n",
       "      <td>| waxing gibbous moon\\n91.87% illuminated</td>\n",
       "      <td>2020-09-29</td>\n",
       "      <td>0</td>\n",
       "      <td>10</td>\n",
       "      <td>2</td>\n",
       "      <td>100</td>\n",
       "      <td>rain</td>\n",
       "    </tr>\n",
       "    <tr>\n",
       "      <th>1</th>\n",
       "      <td>2020-09-29 01:00:00</td>\n",
       "      <td>10 °C\\n(1:00 am CEST | Tuesday, September 29, ...</td>\n",
       "      <td>average: 100% (100%)\\n(1:00 am CEST | Tuesday,...</td>\n",
       "      <td>3 m/s\\n(1:00 am CEST | Tuesday, September 29, ...</td>\n",
       "      <td>rain\\n(1:00 am CEST | Tuesday, September 29, 2...</td>\n",
       "      <td>Moon Phase calculatorSeptember 29, 2020 1h</td>\n",
       "      <td>| waxing gibbous moon\\n92.09% illuminated</td>\n",
       "      <td>2020-09-29</td>\n",
       "      <td>1</td>\n",
       "      <td>10</td>\n",
       "      <td>3</td>\n",
       "      <td>100</td>\n",
       "      <td>rain</td>\n",
       "    </tr>\n",
       "    <tr>\n",
       "      <th>2</th>\n",
       "      <td>2020-09-29 02:00:00</td>\n",
       "      <td>10 °C\\n(2:00 am CEST | Tuesday, September 29, ...</td>\n",
       "      <td>average: 100% (100%)\\n(2:00 am CEST | Tuesday,...</td>\n",
       "      <td>3 m/s\\n(2:00 am CEST | Tuesday, September 29, ...</td>\n",
       "      <td>rain\\n(2:00 am CEST | Tuesday, September 29, 2...</td>\n",
       "      <td>Moon Phase calculatorSeptember 29, 2020 2h</td>\n",
       "      <td>| waxing gibbous moon\\n92.30% illuminated</td>\n",
       "      <td>2020-09-29</td>\n",
       "      <td>2</td>\n",
       "      <td>10</td>\n",
       "      <td>3</td>\n",
       "      <td>100</td>\n",
       "      <td>rain</td>\n",
       "    </tr>\n",
       "  </tbody>\n",
       "</table>\n",
       "</div>"
      ],
      "text/plain": [
       "            Timestamp                                        temperature  \\\n",
       "0 2020-09-29 00:00:00  10 °C\\n(12:00 am CEST | Tuesday, September 29,...   \n",
       "1 2020-09-29 01:00:00  10 °C\\n(1:00 am CEST | Tuesday, September 29, ...   \n",
       "2 2020-09-29 02:00:00  10 °C\\n(2:00 am CEST | Tuesday, September 29, ...   \n",
       "\n",
       "                                            humidity  \\\n",
       "0  average: 100% (100%)\\n(12:00 am CEST | Tuesday...   \n",
       "1  average: 100% (100%)\\n(1:00 am CEST | Tuesday,...   \n",
       "2  average: 100% (100%)\\n(2:00 am CEST | Tuesday,...   \n",
       "\n",
       "                                          wind speed  \\\n",
       "0  2 m/s\\n(12:00 am CEST | Tuesday, September 29,...   \n",
       "1  3 m/s\\n(1:00 am CEST | Tuesday, September 29, ...   \n",
       "2  3 m/s\\n(2:00 am CEST | Tuesday, September 29, ...   \n",
       "\n",
       "                                Precipitation amount  \\\n",
       "0  rain\\n(12:00 am CEST | Tuesday, September 29, ...   \n",
       "1  rain\\n(1:00 am CEST | Tuesday, September 29, 2...   \n",
       "2  rain\\n(2:00 am CEST | Tuesday, September 29, 2...   \n",
       "\n",
       "                                        query  \\\n",
       "0  Moon Phase calculatorSeptember 29, 2020 0h   \n",
       "1  Moon Phase calculatorSeptember 29, 2020 1h   \n",
       "2  Moon Phase calculatorSeptember 29, 2020 2h   \n",
       "\n",
       "                       Moon Phase calculator       date  hour  temperature_C  \\\n",
       "0  | waxing gibbous moon\\n91.87% illuminated 2020-09-29     0             10   \n",
       "1  | waxing gibbous moon\\n92.09% illuminated 2020-09-29     1             10   \n",
       "2  | waxing gibbous moon\\n92.30% illuminated 2020-09-29     2             10   \n",
       "\n",
       "   wind_speed_mpers  humidity_avgpercent  rain  \n",
       "0                 2                  100  rain  \n",
       "1                 3                  100  rain  \n",
       "2                 3                  100  rain  "
      ]
     },
     "execution_count": 7,
     "metadata": {},
     "output_type": "execute_result"
    }
   ],
   "source": [
    "#add weather as environemntal factor\n",
    "path_ = r'C:\\Users\\camil\\Desktop\\vm_exchange\\PhD_Data\\Weather'\n",
    "path_weather = os.path.join(path_,'weather.csv')\n",
    "df_weather = pd.read_csv(path_weather, sep=';', parse_dates=['date'])\n",
    "df_weather = df_weather.drop_duplicates(subset=None, keep='first', inplace=False)\n",
    "#remove excpetions\n",
    "x = ', 1, 0,  , °, C, \\n, (, 1, 2, :, 0, 0,  , a, m,  , C, E, T , | , F, r, i, d, a, y, ,,  , O, c, t, o, b, e, r,  , 3, 0, ,,  , 2, 0, 2, 0, ),'\n",
    "df_weather['temperature'] = df_weather['temperature'].replace(x, x.replace(', ',''))\n",
    "x = '3×10^0 m/s\\n(1:00 pm CET | Sunday, January 10, 2021)'\n",
    "df_weather['wind speed'] = df_weather['wind speed'].replace(x, 'ERROR')\n",
    "#remove the rows with at least one error\n",
    "df_weather = df_weather[~df_weather.isin([\"ERROR\"]).any(axis=1)]\n",
    "#date\n",
    "df_weather.rename(columns={'date':'Timestamp'}, inplace=True)\n",
    "df_weather['date'] = df_weather['Timestamp'].map(lambda x: dt.datetime(x.year,x.month,x.day))\n",
    "df_weather['hour'] = df_weather['Timestamp'].map(lambda x: x.hour)\n",
    "#add usefull variable\n",
    "df_weather['temperature_C'] = df_weather['temperature'].map(lambda x: int(x.split('\\n')[0].split(' ')[0]))\n",
    "df_weather['wind_speed_mpers'] = df_weather['wind speed'].map(lambda x: int(x.split('\\n')[0].split(' ')[0]))\n",
    "df_weather['humidity_avgpercent'] = df_weather['humidity'].map(lambda x: int(x.split('%')[0].split(' ')[-1].strip()))\n",
    "df_weather['rain'] = df_weather['Precipitation amount'].map(lambda x: x.split('\\n')[0])\n",
    "df_weather['rain'] = df_weather['rain'].replace('rain | snow','snow | rain')\n",
    "df_weather.to_csv(os.path.join(path_,'Weather_process.csv'), index=False, sep=';')\n",
    "print(df_weather.shape)\n",
    "df_weather.head(3)"
   ]
  },
  {
   "cell_type": "code",
   "execution_count": 8,
   "metadata": {},
   "outputs": [
    {
     "data": {
      "text/html": [
       "<div>\n",
       "<style scoped>\n",
       "    .dataframe tbody tr th:only-of-type {\n",
       "        vertical-align: middle;\n",
       "    }\n",
       "\n",
       "    .dataframe tbody tr th {\n",
       "        vertical-align: top;\n",
       "    }\n",
       "\n",
       "    .dataframe thead th {\n",
       "        text-align: right;\n",
       "    }\n",
       "</style>\n",
       "<table border=\"1\" class=\"dataframe\">\n",
       "  <thead>\n",
       "    <tr style=\"text-align: right;\">\n",
       "      <th></th>\n",
       "      <th>Timestamp</th>\n",
       "      <th>temperature</th>\n",
       "      <th>humidity</th>\n",
       "      <th>wind speed</th>\n",
       "      <th>Precipitation amount</th>\n",
       "      <th>query</th>\n",
       "      <th>Moon Phase calculator</th>\n",
       "      <th>date</th>\n",
       "      <th>hour</th>\n",
       "      <th>temperature_C</th>\n",
       "      <th>wind_speed_mpers</th>\n",
       "      <th>humidity_avgpercent</th>\n",
       "      <th>rain</th>\n",
       "      <th>MoonName</th>\n",
       "      <th>Illumination_percentage</th>\n",
       "      <th>croissant_decroissant</th>\n",
       "    </tr>\n",
       "  </thead>\n",
       "  <tbody>\n",
       "    <tr>\n",
       "      <th>0</th>\n",
       "      <td>2020-09-29 00:00:00</td>\n",
       "      <td>10 °C\\n(12:00 am CEST | Tuesday, September 29,...</td>\n",
       "      <td>average: 100% (100%)\\n(12:00 am CEST | Tuesday...</td>\n",
       "      <td>2 m/s\\n(12:00 am CEST | Tuesday, September 29,...</td>\n",
       "      <td>rain\\n(12:00 am CEST | Tuesday, September 29, ...</td>\n",
       "      <td>Moon Phase calculatorSeptember 29, 2020 0h</td>\n",
       "      <td>| waxing gibbous moon\\n91.87% illuminated</td>\n",
       "      <td>2020-09-29</td>\n",
       "      <td>0</td>\n",
       "      <td>10</td>\n",
       "      <td>2</td>\n",
       "      <td>100</td>\n",
       "      <td>rain</td>\n",
       "      <td>waxing gibbous moon</td>\n",
       "      <td>91.87</td>\n",
       "      <td>LC</td>\n",
       "    </tr>\n",
       "    <tr>\n",
       "      <th>1</th>\n",
       "      <td>2020-09-29 01:00:00</td>\n",
       "      <td>10 °C\\n(1:00 am CEST | Tuesday, September 29, ...</td>\n",
       "      <td>average: 100% (100%)\\n(1:00 am CEST | Tuesday,...</td>\n",
       "      <td>3 m/s\\n(1:00 am CEST | Tuesday, September 29, ...</td>\n",
       "      <td>rain\\n(1:00 am CEST | Tuesday, September 29, 2...</td>\n",
       "      <td>Moon Phase calculatorSeptember 29, 2020 1h</td>\n",
       "      <td>| waxing gibbous moon\\n92.09% illuminated</td>\n",
       "      <td>2020-09-29</td>\n",
       "      <td>1</td>\n",
       "      <td>10</td>\n",
       "      <td>3</td>\n",
       "      <td>100</td>\n",
       "      <td>rain</td>\n",
       "      <td>waxing gibbous moon</td>\n",
       "      <td>92.09</td>\n",
       "      <td>LC</td>\n",
       "    </tr>\n",
       "    <tr>\n",
       "      <th>2</th>\n",
       "      <td>2020-09-29 02:00:00</td>\n",
       "      <td>10 °C\\n(2:00 am CEST | Tuesday, September 29, ...</td>\n",
       "      <td>average: 100% (100%)\\n(2:00 am CEST | Tuesday,...</td>\n",
       "      <td>3 m/s\\n(2:00 am CEST | Tuesday, September 29, ...</td>\n",
       "      <td>rain\\n(2:00 am CEST | Tuesday, September 29, 2...</td>\n",
       "      <td>Moon Phase calculatorSeptember 29, 2020 2h</td>\n",
       "      <td>| waxing gibbous moon\\n92.30% illuminated</td>\n",
       "      <td>2020-09-29</td>\n",
       "      <td>2</td>\n",
       "      <td>10</td>\n",
       "      <td>3</td>\n",
       "      <td>100</td>\n",
       "      <td>rain</td>\n",
       "      <td>waxing gibbous moon</td>\n",
       "      <td>92.30</td>\n",
       "      <td>LC</td>\n",
       "    </tr>\n",
       "  </tbody>\n",
       "</table>\n",
       "</div>"
      ],
      "text/plain": [
       "            Timestamp                                        temperature  \\\n",
       "0 2020-09-29 00:00:00  10 °C\\n(12:00 am CEST | Tuesday, September 29,...   \n",
       "1 2020-09-29 01:00:00  10 °C\\n(1:00 am CEST | Tuesday, September 29, ...   \n",
       "2 2020-09-29 02:00:00  10 °C\\n(2:00 am CEST | Tuesday, September 29, ...   \n",
       "\n",
       "                                            humidity  \\\n",
       "0  average: 100% (100%)\\n(12:00 am CEST | Tuesday...   \n",
       "1  average: 100% (100%)\\n(1:00 am CEST | Tuesday,...   \n",
       "2  average: 100% (100%)\\n(2:00 am CEST | Tuesday,...   \n",
       "\n",
       "                                          wind speed  \\\n",
       "0  2 m/s\\n(12:00 am CEST | Tuesday, September 29,...   \n",
       "1  3 m/s\\n(1:00 am CEST | Tuesday, September 29, ...   \n",
       "2  3 m/s\\n(2:00 am CEST | Tuesday, September 29, ...   \n",
       "\n",
       "                                Precipitation amount  \\\n",
       "0  rain\\n(12:00 am CEST | Tuesday, September 29, ...   \n",
       "1  rain\\n(1:00 am CEST | Tuesday, September 29, 2...   \n",
       "2  rain\\n(2:00 am CEST | Tuesday, September 29, 2...   \n",
       "\n",
       "                                        query  \\\n",
       "0  Moon Phase calculatorSeptember 29, 2020 0h   \n",
       "1  Moon Phase calculatorSeptember 29, 2020 1h   \n",
       "2  Moon Phase calculatorSeptember 29, 2020 2h   \n",
       "\n",
       "                       Moon Phase calculator       date  hour  temperature_C  \\\n",
       "0  | waxing gibbous moon\\n91.87% illuminated 2020-09-29     0             10   \n",
       "1  | waxing gibbous moon\\n92.09% illuminated 2020-09-29     1             10   \n",
       "2  | waxing gibbous moon\\n92.30% illuminated 2020-09-29     2             10   \n",
       "\n",
       "   wind_speed_mpers  humidity_avgpercent  rain             MoonName  \\\n",
       "0                 2                  100  rain  waxing gibbous moon   \n",
       "1                 3                  100  rain  waxing gibbous moon   \n",
       "2                 3                  100  rain  waxing gibbous moon   \n",
       "\n",
       "   Illumination_percentage croissant_decroissant  \n",
       "0                    91.87                    LC  \n",
       "1                    92.09                    LC  \n",
       "2                    92.30                    LC  "
      ]
     },
     "execution_count": 8,
     "metadata": {},
     "output_type": "execute_result"
    }
   ],
   "source": [
    "df_weather['MoonName'] = df_weather['Moon Phase calculator'].map(lambda x: x.strip('|').strip(' ').split('\\n')[0] if x!='ERROR' else 'ERROR')\n",
    "df_weather['Illumination_percentage'] = df_weather['Moon Phase calculator'].map(lambda x: float(x.strip('|').strip(' ').split('\\n')[1].replace(' illuminated','').strip('%').strip(' ')) if x!='ERROR' else 'ERROR')\n",
    "#print(df['MoaonName'].value_counts())\n",
    "#df['Illumination_percentage'].value_counts()\n",
    "\n",
    "dico_CD = {'ERROR':'ERROR', \n",
    "           'first quarter moon':'LC', \n",
    "           'full moon':'Lchangement', \n",
    "           'last quarter moon':'DC',\n",
    "           'new moon':'Lchangement', \n",
    "           'waning crescent moon':'DC', \n",
    "           'waning gibbous moon':'DC',\n",
    "           'waxing crescent moon':'LC', \n",
    "           'waxing gibbous moon':'LC'}\n",
    "#it seems that the order of the events are as follow:\n",
    "#full moon, waning gibbous moon, last quarter moon, waning crescent moon, \n",
    "#new moon, waxing crescent moon, first quarter moon, waxing gibbous moon,\n",
    "#full moon,...\n",
    "#defintion: De la Nouvelle Lune (éclat minimum) à la Pleine Lune (éclat maximum) on dit que la Lune est Croissante car \n",
    "#sa partie éclairée grossit de jour en jour. De la Pleine Lune à la Nouvelle Lune, on dit que la Lune est Décroissante.\n",
    "df_weather['croissant_decroissant'] = df_weather['MoonName'].map(lambda x: dico_CD[x])\n",
    "#lucie ascendatne et descendante n'est pas indiqué ici.\n",
    "df_weather.head(3)"
   ]
  },
  {
   "cell_type": "code",
   "execution_count": 9,
   "metadata": {},
   "outputs": [
    {
     "data": {
      "text/plain": [
       "DC             2903\n",
       "LC             2882\n",
       "Lchangement     350\n",
       "Name: croissant_decroissant, dtype: int64"
      ]
     },
     "execution_count": 9,
     "metadata": {},
     "output_type": "execute_result"
    }
   ],
   "source": [
    "df_weather['croissant_decroissant'].value_counts()"
   ]
  },
  {
   "cell_type": "code",
   "execution_count": 10,
   "metadata": {},
   "outputs": [
    {
     "data": {
      "text/html": [
       "<div>\n",
       "<style scoped>\n",
       "    .dataframe tbody tr th:only-of-type {\n",
       "        vertical-align: middle;\n",
       "    }\n",
       "\n",
       "    .dataframe tbody tr th {\n",
       "        vertical-align: top;\n",
       "    }\n",
       "\n",
       "    .dataframe thead th {\n",
       "        text-align: right;\n",
       "    }\n",
       "</style>\n",
       "<table border=\"1\" class=\"dataframe\">\n",
       "  <thead>\n",
       "    <tr style=\"text-align: right;\">\n",
       "      <th></th>\n",
       "      <th>MoonName</th>\n",
       "      <th>Illumination_percentage</th>\n",
       "      <th>min_illumination</th>\n",
       "      <th>max_illumination</th>\n",
       "    </tr>\n",
       "  </thead>\n",
       "  <tbody>\n",
       "    <tr>\n",
       "      <th>0</th>\n",
       "      <td>first quarter moon</td>\n",
       "      <td>[44.7, 45.14, 45.58, 46.02, 46.46, 46.9, 47.34...</td>\n",
       "      <td>44.69</td>\n",
       "      <td>55.24</td>\n",
       "    </tr>\n",
       "    <tr>\n",
       "      <th>1</th>\n",
       "      <td>full moon</td>\n",
       "      <td>[99.74, 99.76, 99.78, 99.79, 99.81, 99.82, 99....</td>\n",
       "      <td>99.72</td>\n",
       "      <td>100.00</td>\n",
       "    </tr>\n",
       "    <tr>\n",
       "      <th>2</th>\n",
       "      <td>last quarter moon</td>\n",
       "      <td>[55.07, 54.65, 54.23, 53.81, 53.39, 52.96, 52....</td>\n",
       "      <td>44.73</td>\n",
       "      <td>55.22</td>\n",
       "    </tr>\n",
       "    <tr>\n",
       "      <th>3</th>\n",
       "      <td>new moon</td>\n",
       "      <td>[0.27, 0.23, 0.21, 0.18, 0.16, 0.15, 0.14, 0.1...</td>\n",
       "      <td>0.00</td>\n",
       "      <td>0.28</td>\n",
       "    </tr>\n",
       "    <tr>\n",
       "      <th>4</th>\n",
       "      <td>waning crescent moon</td>\n",
       "      <td>[44.38, 43.95, 43.51, 43.08, 42.65, 42.21, 41....</td>\n",
       "      <td>0.29</td>\n",
       "      <td>44.68</td>\n",
       "    </tr>\n",
       "    <tr>\n",
       "      <th>5</th>\n",
       "      <td>waning gibbous moon</td>\n",
       "      <td>[99.71, 99.68, 99.65, 99.61, 99.58, 99.54, 99....</td>\n",
       "      <td>55.34</td>\n",
       "      <td>99.72</td>\n",
       "    </tr>\n",
       "    <tr>\n",
       "      <th>6</th>\n",
       "      <td>waxing crescent moon</td>\n",
       "      <td>[0.32, 0.37, 0.42, 0.48, 0.54, 0.61, 0.68, 0.7...</td>\n",
       "      <td>0.28</td>\n",
       "      <td>44.64</td>\n",
       "    </tr>\n",
       "    <tr>\n",
       "      <th>7</th>\n",
       "      <td>waxing gibbous moon</td>\n",
       "      <td>[91.87, 92.09, 92.3, 92.51, 92.73, 92.93, 93.1...</td>\n",
       "      <td>55.34</td>\n",
       "      <td>99.71</td>\n",
       "    </tr>\n",
       "  </tbody>\n",
       "</table>\n",
       "</div>"
      ],
      "text/plain": [
       "               MoonName                            Illumination_percentage  \\\n",
       "0    first quarter moon  [44.7, 45.14, 45.58, 46.02, 46.46, 46.9, 47.34...   \n",
       "1             full moon  [99.74, 99.76, 99.78, 99.79, 99.81, 99.82, 99....   \n",
       "2     last quarter moon  [55.07, 54.65, 54.23, 53.81, 53.39, 52.96, 52....   \n",
       "3              new moon  [0.27, 0.23, 0.21, 0.18, 0.16, 0.15, 0.14, 0.1...   \n",
       "4  waning crescent moon  [44.38, 43.95, 43.51, 43.08, 42.65, 42.21, 41....   \n",
       "5   waning gibbous moon  [99.71, 99.68, 99.65, 99.61, 99.58, 99.54, 99....   \n",
       "6  waxing crescent moon  [0.32, 0.37, 0.42, 0.48, 0.54, 0.61, 0.68, 0.7...   \n",
       "7   waxing gibbous moon  [91.87, 92.09, 92.3, 92.51, 92.73, 92.93, 93.1...   \n",
       "\n",
       "   min_illumination  max_illumination  \n",
       "0             44.69             55.24  \n",
       "1             99.72            100.00  \n",
       "2             44.73             55.22  \n",
       "3              0.00              0.28  \n",
       "4              0.29             44.68  \n",
       "5             55.34             99.72  \n",
       "6              0.28             44.64  \n",
       "7             55.34             99.71  "
      ]
     },
     "execution_count": 10,
     "metadata": {},
     "output_type": "execute_result"
    }
   ],
   "source": [
    "#to get a general udnerstanding of the data\n",
    "df_moon = df_weather.groupby(['MoonName'])['Illumination_percentage'].agg(lambda x: list(x)).reset_index()\n",
    "df_moon['min_illumination'] = df_moon['Illumination_percentage'].map(lambda x: min(x) if x!='ERROR' else 'ERROR' )\n",
    "df_moon['max_illumination'] = df_moon['Illumination_percentage'].map(lambda x: max(x) if x!='ERROR' else 'ERROR' )\n",
    "df_moon"
   ]
  },
  {
   "cell_type": "code",
   "execution_count": 11,
   "metadata": {},
   "outputs": [
    {
     "data": {
      "text/plain": [
       "'Moon Phase calculatorSeptember 29, 2020 0h'"
      ]
     },
     "execution_count": 11,
     "metadata": {},
     "output_type": "execute_result"
    }
   ],
   "source": [
    "df_weather['query'].iloc[0]"
   ]
  },
  {
   "cell_type": "code",
   "execution_count": 12,
   "metadata": {},
   "outputs": [
    {
     "name": "stdout",
     "output_type": "stream",
     "text": [
      "(256, 6)\n"
     ]
    },
    {
     "data": {
      "text/html": [
       "<div>\n",
       "<style scoped>\n",
       "    .dataframe tbody tr th:only-of-type {\n",
       "        vertical-align: middle;\n",
       "    }\n",
       "\n",
       "    .dataframe tbody tr th {\n",
       "        vertical-align: top;\n",
       "    }\n",
       "\n",
       "    .dataframe thead th {\n",
       "        text-align: right;\n",
       "    }\n",
       "</style>\n",
       "<table border=\"1\" class=\"dataframe\">\n",
       "  <thead>\n",
       "    <tr style=\"text-align: right;\">\n",
       "      <th></th>\n",
       "      <th>date</th>\n",
       "      <th>temperature_C</th>\n",
       "      <th>humidity_avgpercent</th>\n",
       "      <th>had_rainorsnow</th>\n",
       "      <th>moon_name</th>\n",
       "      <th>Illumination_percentage</th>\n",
       "    </tr>\n",
       "  </thead>\n",
       "  <tbody>\n",
       "    <tr>\n",
       "      <th>0</th>\n",
       "      <td>2020-09-29</td>\n",
       "      <td>12.000</td>\n",
       "      <td>92.125</td>\n",
       "      <td>0</td>\n",
       "      <td>waxing gibbous moon</td>\n",
       "      <td>94.56625</td>\n",
       "    </tr>\n",
       "    <tr>\n",
       "      <th>1</th>\n",
       "      <td>2020-09-30</td>\n",
       "      <td>12.250</td>\n",
       "      <td>80.125</td>\n",
       "      <td>1</td>\n",
       "      <td>waxing gibbous moon</td>\n",
       "      <td>98.01625</td>\n",
       "    </tr>\n",
       "    <tr>\n",
       "      <th>2</th>\n",
       "      <td>2020-10-01</td>\n",
       "      <td>14.125</td>\n",
       "      <td>74.875</td>\n",
       "      <td>0</td>\n",
       "      <td>waxing gibbous moon</td>\n",
       "      <td>99.66250</td>\n",
       "    </tr>\n",
       "  </tbody>\n",
       "</table>\n",
       "</div>"
      ],
      "text/plain": [
       "        date  temperature_C  humidity_avgpercent  had_rainorsnow  \\\n",
       "0 2020-09-29         12.000               92.125               0   \n",
       "1 2020-09-30         12.250               80.125               1   \n",
       "2 2020-10-01         14.125               74.875               0   \n",
       "\n",
       "             moon_name  Illumination_percentage  \n",
       "0  waxing gibbous moon                 94.56625  \n",
       "1  waxing gibbous moon                 98.01625  \n",
       "2  waxing gibbous moon                 99.66250  "
      ]
     },
     "execution_count": 12,
     "metadata": {},
     "output_type": "execute_result"
    }
   ],
   "source": [
    "df_daily_weather = df_weather[df_weather['hour'].isin([10,11,12,13,14,15,16,17])].copy()\n",
    "df_daily_weather = df_daily_weather.groupby(['date']).agg(\n",
    "    temperature_C=pd.NamedAgg(column='temperature_C', aggfunc=lambda x: np.mean(x)),\n",
    "    humidity_avgpercent=pd.NamedAgg(column='humidity_avgpercent', aggfunc=lambda x: np.mean(x)),\n",
    "    had_rainorsnow=pd.NamedAgg(column='rain', aggfunc=lambda x: int(all([i=='no precipitation' for i in x]))),\n",
    "    moon_name=pd.NamedAgg(column='MoonName', aggfunc=lambda x: list(x)[0]),\n",
    "    Illumination_percentage=pd.NamedAgg(column='Illumination_percentage', aggfunc=lambda x: np.mean(x))).reset_index()\n",
    "df_daily_weather.to_csv(os.path.join(path_,'df_daily_weather.csv'), index=False, sep=';')\n",
    "print(df_daily_weather.shape)\n",
    "df_daily_weather.head(3)"
   ]
  },
  {
   "cell_type": "code",
   "execution_count": 13,
   "metadata": {},
   "outputs": [
    {
     "data": {
      "text/plain": [
       "had_rainorsnow\n",
       "0    81.246575\n",
       "1    64.568462\n",
       "Name: humidity_avgpercent, dtype: float64"
      ]
     },
     "execution_count": 13,
     "metadata": {},
     "output_type": "execute_result"
    }
   ],
   "source": [
    "df_daily_weather.groupby(['had_rainorsnow'])['humidity_avgpercent'].agg(lambda x: np.mean(x))"
   ]
  },
  {
   "cell_type": "code",
   "execution_count": null,
   "metadata": {},
   "outputs": [],
   "source": []
  },
  {
   "cell_type": "code",
   "execution_count": null,
   "metadata": {},
   "outputs": [],
   "source": []
  },
  {
   "cell_type": "code",
   "execution_count": null,
   "metadata": {},
   "outputs": [],
   "source": []
  },
  {
   "cell_type": "code",
   "execution_count": null,
   "metadata": {},
   "outputs": [],
   "source": []
  },
  {
   "cell_type": "code",
   "execution_count": null,
   "metadata": {},
   "outputs": [],
   "source": []
  },
  {
   "cell_type": "code",
   "execution_count": null,
   "metadata": {},
   "outputs": [],
   "source": []
  },
  {
   "cell_type": "code",
   "execution_count": null,
   "metadata": {},
   "outputs": [],
   "source": []
  }
 ],
 "metadata": {
  "kernelspec": {
   "display_name": "Python 3",
   "language": "python",
   "name": "python3"
  },
  "language_info": {
   "codemirror_mode": {
    "name": "ipython",
    "version": 3
   },
   "file_extension": ".py",
   "mimetype": "text/x-python",
   "name": "python",
   "nbconvert_exporter": "python",
   "pygments_lexer": "ipython3",
   "version": "3.8.5"
  }
 },
 "nbformat": 4,
 "nbformat_minor": 2
}
