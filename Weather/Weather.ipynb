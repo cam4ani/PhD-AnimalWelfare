{
 "cells": [
  {
   "cell_type": "code",
   "execution_count": 1,
   "metadata": {},
   "outputs": [],
   "source": [
    "#!pip install wolframalpha\n",
    "import datetime as dt\n",
    "import tqdm\n",
    "import os\n",
    "import pandas as pd\n",
    "import glob\n",
    "import numpy as np\n",
    "import sys\n",
    "\n",
    "import wolframalpha\n",
    "app_id = 'JU4PR2-E8JGQVLHXW'\n",
    "client = wolframalpha.Client(app_id)"
   ]
  },
  {
   "cell_type": "code",
   "execution_count": 2,
   "metadata": {},
   "outputs": [
    {
     "name": "stdout",
     "output_type": "stream",
     "text": [
      "3.8.5\n"
     ]
    }
   ],
   "source": [
    "from platform import python_version\n",
    "print(python_version())"
   ]
  },
  {
   "cell_type": "raw",
   "metadata": {},
   "source": [
    "To verify moon data:\n",
    "https://www.calendrier-lunaire.fr/calendrier/octobre-2020/\n",
    "https://www.pleine-lune.org/calendrier-lunaire-2020\n",
    "https://www.timeanddate.com/astronomy/moon/waning-crescent.html"
   ]
  },
  {
   "cell_type": "raw",
   "metadata": {},
   "source": [
    "#url parameter:\n",
    "#https://products.wolframalpha.com/simple-api/documentation/\n",
    "#http://api.wolframalpha.com/v2/query?appid=DEMO&input=population%20france&includepodid=Result\n",
    "http://api.wolframalpha.com/v2/query?appid=JU4PR2-E8JGQVLHXW&input=temperature%20Zollikofen&includepodid=Result"
   ]
  },
  {
   "cell_type": "markdown",
   "metadata": {},
   "source": [
    "#small example\n",
    "query = 'Precipitation amount in Zollikofen on October 6, 2020 1h'\n",
    "res = client.query(query)\n",
    "for t in res.results:\n",
    "    print(t.text)"
   ]
  },
  {
   "cell_type": "markdown",
   "metadata": {},
   "source": [
    "#small example\n",
    "query = 'Precipitation amount in Zollikofen '+d.strftime('%B')+' '+str(d.day)+', '+str(d.year)+' '+str(d.hour)+'h'\n",
    "res = client.query(query)\n",
    "for t in res.results:\n",
    "    print(t.text)"
   ]
  },
  {
   "cell_type": "markdown",
   "metadata": {},
   "source": [
    "#small example\n",
    "d = dt.datetime(2020,1,24,22,44,11)\n",
    "query = 'Moon Phase calculator'+d.strftime('%B')+' '+str(d.day)+', '+str(d.year)+' '+str(d.hour)+'h'\n",
    "res = client.query(query)\n",
    "r = ''\n",
    "for t in res.results:\n",
    "    print(t.text.strip('|').strip(' '))\n",
    "#for verification\n",
    "#https://www.pleine-lune.org/calendrier-lunaire-2020\n",
    "#res"
   ]
  },
  {
   "cell_type": "code",
   "execution_count": 3,
   "metadata": {},
   "outputs": [],
   "source": [
    "li_type = ['Precipitation amount', 'temperature', 'humidity', 'wind speed','Moon Phase calculator'] #pressure\n",
    "#path_ = r'D:\\vm_exchange\\PhD_Data\\Weather'\n",
    "path_ = r'C:\\Users\\camil\\Desktop\\vm_exchange\\PhD_Data\\Weather'"
   ]
  },
  {
   "cell_type": "code",
   "execution_count": 4,
   "metadata": {},
   "outputs": [
    {
     "name": "stdout",
     "output_type": "stream",
     "text": [
      "(7221, 7)\n",
      "We already have 7221 dates of weather\n",
      "(73, 7)\n"
     ]
    },
    {
     "data": {
      "text/html": [
       "<div>\n",
       "<style scoped>\n",
       "    .dataframe tbody tr th:only-of-type {\n",
       "        vertical-align: middle;\n",
       "    }\n",
       "\n",
       "    .dataframe tbody tr th {\n",
       "        vertical-align: top;\n",
       "    }\n",
       "\n",
       "    .dataframe thead th {\n",
       "        text-align: right;\n",
       "    }\n",
       "</style>\n",
       "<table border=\"1\" class=\"dataframe\">\n",
       "  <thead>\n",
       "    <tr style=\"text-align: right;\">\n",
       "      <th></th>\n",
       "      <th>date</th>\n",
       "      <th>temperature</th>\n",
       "      <th>humidity</th>\n",
       "      <th>wind speed</th>\n",
       "      <th>Precipitation amount</th>\n",
       "      <th>query</th>\n",
       "      <th>Moon Phase calculator</th>\n",
       "    </tr>\n",
       "  </thead>\n",
       "  <tbody>\n",
       "    <tr>\n",
       "      <th>6972</th>\n",
       "      <td>2020-11-05 22:00:00</td>\n",
       "      <td>8 °C\\n(10:00 pm CET | Thursday, November 5, 2020)</td>\n",
       "      <td>ERROR</td>\n",
       "      <td>1 m/s\\n(10:00 pm CET | Thursday, November 5, 2...</td>\n",
       "      <td>(unknown)\\n(10:00 pm CET | Thursday, November ...</td>\n",
       "      <td>Moon Phase calculatorNovember 5, 2020 22h</td>\n",
       "      <td>| waning gibbous moon\\n76.55% illuminated</td>\n",
       "    </tr>\n",
       "    <tr>\n",
       "      <th>6973</th>\n",
       "      <td>2020-11-16 19:00:00</td>\n",
       "      <td>7 °C\\n(7:00 pm CET | Monday, November 16, 2020)</td>\n",
       "      <td>ERROR</td>\n",
       "      <td>1 m/s\\n(7:00 pm CET | Monday, November 16, 2020)</td>\n",
       "      <td>(unknown)\\n(7:00 pm CET | Monday, November 16,...</td>\n",
       "      <td>Moon Phase calculatorNovember 16, 2020 19h</td>\n",
       "      <td>| waxing crescent moon\\n3.48% illuminated</td>\n",
       "    </tr>\n",
       "    <tr>\n",
       "      <th>6974</th>\n",
       "      <td>2020-11-16 21:00:00</td>\n",
       "      <td>5 °C\\n(9:00 pm CET | Monday, November 16, 2020)</td>\n",
       "      <td>ERROR</td>\n",
       "      <td>0 m/s\\n(9:00 pm CET | Monday, November 16, 2020)</td>\n",
       "      <td>(unknown)\\n(9:00 pm CET | Monday, November 16,...</td>\n",
       "      <td>Moon Phase calculatorNovember 16, 2020 21h</td>\n",
       "      <td>| waxing crescent moon\\n3.86% illuminated</td>\n",
       "    </tr>\n",
       "    <tr>\n",
       "      <th>6975</th>\n",
       "      <td>2020-12-15 21:00:00</td>\n",
       "      <td>4 °C\\n(9:00 pm CET | Tuesday, December 15, 2020)</td>\n",
       "      <td>ERROR</td>\n",
       "      <td>1 m/s\\n(9:00 pm CET | Tuesday, December 15, 2020)</td>\n",
       "      <td>(unknown)\\n(9:00 pm CET | Tuesday, December 15...</td>\n",
       "      <td>Moon Phase calculatorDecember 15, 2020 21h</td>\n",
       "      <td>| waxing crescent moon\\n1.86% illuminated</td>\n",
       "    </tr>\n",
       "    <tr>\n",
       "      <th>6976</th>\n",
       "      <td>2021-02-08 17:00:00</td>\n",
       "      <td>5 °C\\n(5:00 pm CET | Monday, February 8, 2021)</td>\n",
       "      <td>ERROR</td>\n",
       "      <td>5 m/s\\n(5:00 pm CET | Monday, February 8, 2021)</td>\n",
       "      <td>(unknown)\\n(5:00 pm CET | Monday, February 8, ...</td>\n",
       "      <td>Moon Phase calculatorFebruary 8, 2021 17h</td>\n",
       "      <td>| waning crescent moon\\n11.27% illuminated</td>\n",
       "    </tr>\n",
       "    <tr>\n",
       "      <th>...</th>\n",
       "      <td>...</td>\n",
       "      <td>...</td>\n",
       "      <td>...</td>\n",
       "      <td>...</td>\n",
       "      <td>...</td>\n",
       "      <td>...</td>\n",
       "      <td>...</td>\n",
       "    </tr>\n",
       "    <tr>\n",
       "      <th>7134</th>\n",
       "      <td>2021-07-23 06:00:00</td>\n",
       "      <td>16 °C\\n(6:00 am CEST | Friday, July 23, 2021)</td>\n",
       "      <td>ERROR</td>\n",
       "      <td>0 m/s\\n(6:00 am CEST | Friday, July 23, 2021)</td>\n",
       "      <td>no precipitation\\n(6:00 am CEST | Friday, July...</td>\n",
       "      <td>Moon Phase calculatorJuly 23, 2021 6h</td>\n",
       "      <td>| waxing gibbous moon\\n98.71% illuminated</td>\n",
       "    </tr>\n",
       "    <tr>\n",
       "      <th>7170</th>\n",
       "      <td>2021-07-24 18:00:00</td>\n",
       "      <td>22 °C\\n(6:00 pm CEST | Saturday, July 24, 2021)</td>\n",
       "      <td>ERROR</td>\n",
       "      <td>2 m/s\\n(6:00 pm CEST | Saturday, July 24, 2021)</td>\n",
       "      <td>no precipitation\\n(6:00 pm CEST | Saturday, Ju...</td>\n",
       "      <td>Moon Phase calculatorJuly 24, 2021 18h</td>\n",
       "      <td>| waning gibbous moon\\n99.44% illuminated</td>\n",
       "    </tr>\n",
       "    <tr>\n",
       "      <th>7171</th>\n",
       "      <td>2021-07-24 19:00:00</td>\n",
       "      <td>21 °C\\n(7:00 pm CEST | Saturday, July 24, 2021)</td>\n",
       "      <td>ERROR</td>\n",
       "      <td>1 m/s\\n(7:00 pm CEST | Saturday, July 24, 2021)</td>\n",
       "      <td>no precipitation\\n(7:00 pm CEST | Saturday, Ju...</td>\n",
       "      <td>Moon Phase calculatorJuly 24, 2021 19h</td>\n",
       "      <td>| waning gibbous moon\\n99.37% illuminated</td>\n",
       "    </tr>\n",
       "    <tr>\n",
       "      <th>7172</th>\n",
       "      <td>2021-07-24 20:00:00</td>\n",
       "      <td>21 °C\\n(8:00 pm CEST | Saturday, July 24, 2021)</td>\n",
       "      <td>ERROR</td>\n",
       "      <td>2 m/s\\n(8:00 pm CEST | Saturday, July 24, 2021)</td>\n",
       "      <td>no precipitation\\n(8:00 pm CEST | Saturday, Ju...</td>\n",
       "      <td>Moon Phase calculatorJuly 24, 2021 20h</td>\n",
       "      <td>| waning gibbous moon\\n99.30% illuminated</td>\n",
       "    </tr>\n",
       "    <tr>\n",
       "      <th>7220</th>\n",
       "      <td>2021-07-26 20:00:00</td>\n",
       "      <td>ERROR</td>\n",
       "      <td>ERROR</td>\n",
       "      <td>ERROR</td>\n",
       "      <td>rain\\n(8:00 pm CEST | Monday, July 26, 2021)</td>\n",
       "      <td>Moon Phase calculatorJuly 26, 2021 20h</td>\n",
       "      <td>| waning gibbous moon\\n91.22% illuminated</td>\n",
       "    </tr>\n",
       "  </tbody>\n",
       "</table>\n",
       "<p>73 rows × 7 columns</p>\n",
       "</div>"
      ],
      "text/plain": [
       "                    date                                        temperature  \\\n",
       "6972 2020-11-05 22:00:00  8 °C\\n(10:00 pm CET | Thursday, November 5, 2020)   \n",
       "6973 2020-11-16 19:00:00    7 °C\\n(7:00 pm CET | Monday, November 16, 2020)   \n",
       "6974 2020-11-16 21:00:00    5 °C\\n(9:00 pm CET | Monday, November 16, 2020)   \n",
       "6975 2020-12-15 21:00:00   4 °C\\n(9:00 pm CET | Tuesday, December 15, 2020)   \n",
       "6976 2021-02-08 17:00:00     5 °C\\n(5:00 pm CET | Monday, February 8, 2021)   \n",
       "...                  ...                                                ...   \n",
       "7134 2021-07-23 06:00:00      16 °C\\n(6:00 am CEST | Friday, July 23, 2021)   \n",
       "7170 2021-07-24 18:00:00    22 °C\\n(6:00 pm CEST | Saturday, July 24, 2021)   \n",
       "7171 2021-07-24 19:00:00    21 °C\\n(7:00 pm CEST | Saturday, July 24, 2021)   \n",
       "7172 2021-07-24 20:00:00    21 °C\\n(8:00 pm CEST | Saturday, July 24, 2021)   \n",
       "7220 2021-07-26 20:00:00                                              ERROR   \n",
       "\n",
       "     humidity                                         wind speed  \\\n",
       "6972    ERROR  1 m/s\\n(10:00 pm CET | Thursday, November 5, 2...   \n",
       "6973    ERROR   1 m/s\\n(7:00 pm CET | Monday, November 16, 2020)   \n",
       "6974    ERROR   0 m/s\\n(9:00 pm CET | Monday, November 16, 2020)   \n",
       "6975    ERROR  1 m/s\\n(9:00 pm CET | Tuesday, December 15, 2020)   \n",
       "6976    ERROR    5 m/s\\n(5:00 pm CET | Monday, February 8, 2021)   \n",
       "...       ...                                                ...   \n",
       "7134    ERROR      0 m/s\\n(6:00 am CEST | Friday, July 23, 2021)   \n",
       "7170    ERROR    2 m/s\\n(6:00 pm CEST | Saturday, July 24, 2021)   \n",
       "7171    ERROR    1 m/s\\n(7:00 pm CEST | Saturday, July 24, 2021)   \n",
       "7172    ERROR    2 m/s\\n(8:00 pm CEST | Saturday, July 24, 2021)   \n",
       "7220    ERROR                                              ERROR   \n",
       "\n",
       "                                   Precipitation amount  \\\n",
       "6972  (unknown)\\n(10:00 pm CET | Thursday, November ...   \n",
       "6973  (unknown)\\n(7:00 pm CET | Monday, November 16,...   \n",
       "6974  (unknown)\\n(9:00 pm CET | Monday, November 16,...   \n",
       "6975  (unknown)\\n(9:00 pm CET | Tuesday, December 15...   \n",
       "6976  (unknown)\\n(5:00 pm CET | Monday, February 8, ...   \n",
       "...                                                 ...   \n",
       "7134  no precipitation\\n(6:00 am CEST | Friday, July...   \n",
       "7170  no precipitation\\n(6:00 pm CEST | Saturday, Ju...   \n",
       "7171  no precipitation\\n(7:00 pm CEST | Saturday, Ju...   \n",
       "7172  no precipitation\\n(8:00 pm CEST | Saturday, Ju...   \n",
       "7220       rain\\n(8:00 pm CEST | Monday, July 26, 2021)   \n",
       "\n",
       "                                           query  \\\n",
       "6972   Moon Phase calculatorNovember 5, 2020 22h   \n",
       "6973  Moon Phase calculatorNovember 16, 2020 19h   \n",
       "6974  Moon Phase calculatorNovember 16, 2020 21h   \n",
       "6975  Moon Phase calculatorDecember 15, 2020 21h   \n",
       "6976   Moon Phase calculatorFebruary 8, 2021 17h   \n",
       "...                                          ...   \n",
       "7134       Moon Phase calculatorJuly 23, 2021 6h   \n",
       "7170      Moon Phase calculatorJuly 24, 2021 18h   \n",
       "7171      Moon Phase calculatorJuly 24, 2021 19h   \n",
       "7172      Moon Phase calculatorJuly 24, 2021 20h   \n",
       "7220      Moon Phase calculatorJuly 26, 2021 20h   \n",
       "\n",
       "                           Moon Phase calculator  \n",
       "6972   | waning gibbous moon\\n76.55% illuminated  \n",
       "6973   | waxing crescent moon\\n3.48% illuminated  \n",
       "6974   | waxing crescent moon\\n3.86% illuminated  \n",
       "6975   | waxing crescent moon\\n1.86% illuminated  \n",
       "6976  | waning crescent moon\\n11.27% illuminated  \n",
       "...                                          ...  \n",
       "7134   | waxing gibbous moon\\n98.71% illuminated  \n",
       "7170   | waning gibbous moon\\n99.44% illuminated  \n",
       "7171   | waning gibbous moon\\n99.37% illuminated  \n",
       "7172   | waning gibbous moon\\n99.30% illuminated  \n",
       "7220   | waning gibbous moon\\n91.22% illuminated  \n",
       "\n",
       "[73 rows x 7 columns]"
      ]
     },
     "metadata": {},
     "output_type": "display_data"
    },
    {
     "name": "stdout",
     "output_type": "stream",
     "text": [
      "7369\n",
      "221\n",
      "You need 1105 new queries to complete this date interval\n",
      "(7148, 7)\n"
     ]
    },
    {
     "data": {
      "text/html": [
       "<div>\n",
       "<style scoped>\n",
       "    .dataframe tbody tr th:only-of-type {\n",
       "        vertical-align: middle;\n",
       "    }\n",
       "\n",
       "    .dataframe tbody tr th {\n",
       "        vertical-align: top;\n",
       "    }\n",
       "\n",
       "    .dataframe thead th {\n",
       "        text-align: right;\n",
       "    }\n",
       "</style>\n",
       "<table border=\"1\" class=\"dataframe\">\n",
       "  <thead>\n",
       "    <tr style=\"text-align: right;\">\n",
       "      <th></th>\n",
       "      <th>date</th>\n",
       "      <th>temperature</th>\n",
       "      <th>humidity</th>\n",
       "      <th>wind speed</th>\n",
       "      <th>Precipitation amount</th>\n",
       "      <th>query</th>\n",
       "      <th>Moon Phase calculator</th>\n",
       "    </tr>\n",
       "  </thead>\n",
       "  <tbody>\n",
       "    <tr>\n",
       "      <th>7215</th>\n",
       "      <td>2021-07-26 15:00:00</td>\n",
       "      <td>21 °C\\n(3:00 pm CEST | Monday, July 26, 2021)</td>\n",
       "      <td>average: 80% (78 to 83%)\\n(3:00 pm CEST | Mond...</td>\n",
       "      <td>5 m/s\\n(3:00 pm CEST | Monday, July 26, 2021)</td>\n",
       "      <td>no precipitation\\n(3:00 pm CEST | Monday, July...</td>\n",
       "      <td>Moon Phase calculatorJuly 26, 2021 15h</td>\n",
       "      <td>| waning gibbous moon\\n92.44% illuminated</td>\n",
       "    </tr>\n",
       "    <tr>\n",
       "      <th>7216</th>\n",
       "      <td>2021-07-26 16:00:00</td>\n",
       "      <td>22 °C\\n(4:00 pm CEST | Monday, July 26, 2021)</td>\n",
       "      <td>average: 73% (69 to 78%)\\n(4:00 pm CEST | Mond...</td>\n",
       "      <td>5 m/s\\n(4:00 pm CEST | Monday, July 26, 2021)</td>\n",
       "      <td>no precipitation\\n(4:00 pm CEST | Monday, July...</td>\n",
       "      <td>Moon Phase calculatorJuly 26, 2021 16h</td>\n",
       "      <td>| waning gibbous moon\\n92.20% illuminated</td>\n",
       "    </tr>\n",
       "    <tr>\n",
       "      <th>7217</th>\n",
       "      <td>2021-07-26 17:00:00</td>\n",
       "      <td>22 °C\\n(5:00 pm CEST | Monday, July 26, 2021)</td>\n",
       "      <td>average: 73% (73%)\\n(5:00 pm CEST | Monday, Ju...</td>\n",
       "      <td>7 m/s\\n(5:00 pm CEST | Monday, July 26, 2021)</td>\n",
       "      <td>no precipitation\\n(5:00 pm CEST | Monday, July...</td>\n",
       "      <td>Moon Phase calculatorJuly 26, 2021 17h</td>\n",
       "      <td>| waning gibbous moon\\n91.96% illuminated</td>\n",
       "    </tr>\n",
       "    <tr>\n",
       "      <th>7218</th>\n",
       "      <td>2021-07-26 18:00:00</td>\n",
       "      <td>19 °C\\n(6:00 pm CEST | Monday, July 26, 2021)</td>\n",
       "      <td>average: 78% (78%)\\n(6:00 pm CEST | Monday, Ju...</td>\n",
       "      <td>4 m/s\\n(6:00 pm CEST | Monday, July 26, 2021)</td>\n",
       "      <td>no precipitation\\n(6:00 pm CEST | Monday, July...</td>\n",
       "      <td>Moon Phase calculatorJuly 26, 2021 18h</td>\n",
       "      <td>| waning gibbous moon\\n91.72% illuminated</td>\n",
       "    </tr>\n",
       "    <tr>\n",
       "      <th>7219</th>\n",
       "      <td>2021-07-26 19:00:00</td>\n",
       "      <td>19 °C\\n(7:00 pm CEST | Monday, July 26, 2021)</td>\n",
       "      <td>average: 78% (78%)\\n(7:00 pm CEST | Monday, Ju...</td>\n",
       "      <td>4 m/s\\n(7:00 pm CEST | Monday, July 26, 2021)</td>\n",
       "      <td>no precipitation\\n(7:00 pm CEST | Monday, July...</td>\n",
       "      <td>Moon Phase calculatorJuly 26, 2021 19h</td>\n",
       "      <td>| waning gibbous moon\\n91.47% illuminated</td>\n",
       "    </tr>\n",
       "  </tbody>\n",
       "</table>\n",
       "</div>"
      ],
      "text/plain": [
       "                    date                                    temperature  \\\n",
       "7215 2021-07-26 15:00:00  21 °C\\n(3:00 pm CEST | Monday, July 26, 2021)   \n",
       "7216 2021-07-26 16:00:00  22 °C\\n(4:00 pm CEST | Monday, July 26, 2021)   \n",
       "7217 2021-07-26 17:00:00  22 °C\\n(5:00 pm CEST | Monday, July 26, 2021)   \n",
       "7218 2021-07-26 18:00:00  19 °C\\n(6:00 pm CEST | Monday, July 26, 2021)   \n",
       "7219 2021-07-26 19:00:00  19 °C\\n(7:00 pm CEST | Monday, July 26, 2021)   \n",
       "\n",
       "                                               humidity  \\\n",
       "7215  average: 80% (78 to 83%)\\n(3:00 pm CEST | Mond...   \n",
       "7216  average: 73% (69 to 78%)\\n(4:00 pm CEST | Mond...   \n",
       "7217  average: 73% (73%)\\n(5:00 pm CEST | Monday, Ju...   \n",
       "7218  average: 78% (78%)\\n(6:00 pm CEST | Monday, Ju...   \n",
       "7219  average: 78% (78%)\\n(7:00 pm CEST | Monday, Ju...   \n",
       "\n",
       "                                         wind speed  \\\n",
       "7215  5 m/s\\n(3:00 pm CEST | Monday, July 26, 2021)   \n",
       "7216  5 m/s\\n(4:00 pm CEST | Monday, July 26, 2021)   \n",
       "7217  7 m/s\\n(5:00 pm CEST | Monday, July 26, 2021)   \n",
       "7218  4 m/s\\n(6:00 pm CEST | Monday, July 26, 2021)   \n",
       "7219  4 m/s\\n(7:00 pm CEST | Monday, July 26, 2021)   \n",
       "\n",
       "                                   Precipitation amount  \\\n",
       "7215  no precipitation\\n(3:00 pm CEST | Monday, July...   \n",
       "7216  no precipitation\\n(4:00 pm CEST | Monday, July...   \n",
       "7217  no precipitation\\n(5:00 pm CEST | Monday, July...   \n",
       "7218  no precipitation\\n(6:00 pm CEST | Monday, July...   \n",
       "7219  no precipitation\\n(7:00 pm CEST | Monday, July...   \n",
       "\n",
       "                                       query  \\\n",
       "7215  Moon Phase calculatorJuly 26, 2021 15h   \n",
       "7216  Moon Phase calculatorJuly 26, 2021 16h   \n",
       "7217  Moon Phase calculatorJuly 26, 2021 17h   \n",
       "7218  Moon Phase calculatorJuly 26, 2021 18h   \n",
       "7219  Moon Phase calculatorJuly 26, 2021 19h   \n",
       "\n",
       "                          Moon Phase calculator  \n",
       "7215  | waning gibbous moon\\n92.44% illuminated  \n",
       "7216  | waning gibbous moon\\n92.20% illuminated  \n",
       "7217  | waning gibbous moon\\n91.96% illuminated  \n",
       "7218  | waning gibbous moon\\n91.72% illuminated  \n",
       "7219  | waning gibbous moon\\n91.47% illuminated  "
      ]
     },
     "execution_count": 4,
     "metadata": {},
     "output_type": "execute_result"
    }
   ],
   "source": [
    "mi = dt.datetime(2020,9,29)\n",
    "#ma = dt.datetime(2019,9,2)\n",
    "ma = dt.datetime(2021,8,2)\n",
    "df = pd.DataFrame(columns=['date', 'temperature', 'humidity', 'wind speed', 'Precipitation amount',\n",
    "                           'Moon Phase calculator','query']) #pressure\n",
    "path_weather = os.path.join(path_,'weather.csv')\n",
    "if len(glob.glob(path_weather))==1:\n",
    "    df = pd.read_csv(path_weather, sep=';', parse_dates=['date'])\n",
    "    #remove the last date, in case we stop in middle of the data to grab\n",
    "    #df = df[df['date']!=max(df['date'].unique())]\n",
    "    df = df.drop_duplicates(subset=None, keep='first', inplace=False)\n",
    "    print(df.shape)\n",
    "    print('We already have %d dates of weather'%df.shape[0])\n",
    "    #mi = max(mi, max(df['date'].tolist())) #not a good idea in case of errors as in that case we would like to try it again \n",
    "print(df[df.isin([\"ERROR\"]).any(axis=1)].shape)\n",
    "display(df[df.isin([\"ERROR\"]).any(axis=1)])\n",
    "df = df[~df.isin([\"ERROR\"]).any(axis=1)]\n",
    "#remove the rows with at least one error\n",
    "Daterange = pd.date_range(start=mi, end=ma, freq='H')   \n",
    "print(len(Daterange))\n",
    "Daterange = [d for d in Daterange if d not in df['date'].unique()]\n",
    "print(len(Daterange))\n",
    "if (len(Daterange)*len(li_type))>=2000:\n",
    "    print('WARNING: to many calls to be completed these queries!')\n",
    "print('You need %d new queries to complete this date interval'%(len(Daterange)*len(li_type)))\n",
    "df = df.sort_values(['date'])\n",
    "print(df.shape)\n",
    "df.tail(5)"
   ]
  },
  {
   "cell_type": "code",
   "execution_count": 5,
   "metadata": {
    "scrolled": true
   },
   "outputs": [
    {
     "name": "stderr",
     "output_type": "stream",
     "text": [
      "\r",
      "  0%|                                                                                          | 0/221 [00:00<?, ?it/s]"
     ]
    },
    {
     "name": "stdout",
     "output_type": "stream",
     "text": [
      "QUERY:  Precipitation amount in Zollikofen November 5, 2020 22h\n",
      "QUERY:  temperature in Zollikofen November 5, 2020 22h\n",
      "QUERY:  humidity in Zollikofen November 5, 2020 22h\n",
      "ERROR: no data available-------------  humidity in Zollikofen November 5, 2020 22h\n",
      "ERROR:------------- name 'error' is not defined  ----------  humidity in Zollikofen November 5, 2020 22h\n",
      "QUERY:  wind speed in Zollikofen November 5, 2020 22h\n",
      "QUERY:  Moon Phase calculatorNovember 5, 2020 22h\n",
      "(7149, 7)\n"
     ]
    },
    {
     "data": {
      "text/html": [
       "<div>\n",
       "<style scoped>\n",
       "    .dataframe tbody tr th:only-of-type {\n",
       "        vertical-align: middle;\n",
       "    }\n",
       "\n",
       "    .dataframe tbody tr th {\n",
       "        vertical-align: top;\n",
       "    }\n",
       "\n",
       "    .dataframe thead th {\n",
       "        text-align: right;\n",
       "    }\n",
       "</style>\n",
       "<table border=\"1\" class=\"dataframe\">\n",
       "  <thead>\n",
       "    <tr style=\"text-align: right;\">\n",
       "      <th></th>\n",
       "      <th>date</th>\n",
       "      <th>temperature</th>\n",
       "      <th>humidity</th>\n",
       "      <th>wind speed</th>\n",
       "      <th>Precipitation amount</th>\n",
       "      <th>query</th>\n",
       "      <th>Moon Phase calculator</th>\n",
       "    </tr>\n",
       "  </thead>\n",
       "  <tbody>\n",
       "    <tr>\n",
       "      <th>7219</th>\n",
       "      <td>2021-07-26 19:00:00</td>\n",
       "      <td>19 °C\\n(7:00 pm CEST | Monday, July 26, 2021)</td>\n",
       "      <td>average: 78% (78%)\\n(7:00 pm CEST | Monday, Ju...</td>\n",
       "      <td>4 m/s\\n(7:00 pm CEST | Monday, July 26, 2021)</td>\n",
       "      <td>no precipitation\\n(7:00 pm CEST | Monday, July...</td>\n",
       "      <td>Moon Phase calculatorJuly 26, 2021 19h</td>\n",
       "      <td>| waning gibbous moon\\n91.47% illuminated</td>\n",
       "    </tr>\n",
       "    <tr>\n",
       "      <th>0</th>\n",
       "      <td>2020-11-05 22:00:00</td>\n",
       "      <td>8 °C\\n(10:00 pm CET | Thursday, November 5, 2020)</td>\n",
       "      <td>ERROR</td>\n",
       "      <td>1 m/s\\n(10:00 pm CET | Thursday, November 5, 2...</td>\n",
       "      <td>(unknown)\\n(10:00 pm CET | Thursday, November ...</td>\n",
       "      <td>Moon Phase calculatorNovember 5, 2020 22h</td>\n",
       "      <td>| waning gibbous moon\\n76.55% illuminated</td>\n",
       "    </tr>\n",
       "  </tbody>\n",
       "</table>\n",
       "</div>"
      ],
      "text/plain": [
       "                    date                                        temperature  \\\n",
       "7219 2021-07-26 19:00:00      19 °C\\n(7:00 pm CEST | Monday, July 26, 2021)   \n",
       "0    2020-11-05 22:00:00  8 °C\\n(10:00 pm CET | Thursday, November 5, 2020)   \n",
       "\n",
       "                                               humidity  \\\n",
       "7219  average: 78% (78%)\\n(7:00 pm CEST | Monday, Ju...   \n",
       "0                                                 ERROR   \n",
       "\n",
       "                                             wind speed  \\\n",
       "7219      4 m/s\\n(7:00 pm CEST | Monday, July 26, 2021)   \n",
       "0     1 m/s\\n(10:00 pm CET | Thursday, November 5, 2...   \n",
       "\n",
       "                                   Precipitation amount  \\\n",
       "7219  no precipitation\\n(7:00 pm CEST | Monday, July...   \n",
       "0     (unknown)\\n(10:00 pm CET | Thursday, November ...   \n",
       "\n",
       "                                          query  \\\n",
       "7219     Moon Phase calculatorJuly 26, 2021 19h   \n",
       "0     Moon Phase calculatorNovember 5, 2020 22h   \n",
       "\n",
       "                          Moon Phase calculator  \n",
       "7219  | waning gibbous moon\\n91.47% illuminated  \n",
       "0     | waning gibbous moon\\n76.55% illuminated  "
      ]
     },
     "metadata": {},
     "output_type": "display_data"
    },
    {
     "name": "stderr",
     "output_type": "stream",
     "text": [
      "\r",
      "  0%|▎                                                                               | 1/221 [00:21<1:19:53, 21.79s/it]"
     ]
    },
    {
     "name": "stdout",
     "output_type": "stream",
     "text": [
      "QUERY:  Precipitation amount in Zollikofen November 16, 2020 19h\n",
      "QUERY:  temperature in Zollikofen November 16, 2020 19h\n",
      "QUERY:  humidity in Zollikofen November 16, 2020 19h\n",
      "ERROR: no data available-------------  humidity in Zollikofen November 16, 2020 19h\n",
      "ERROR:------------- name 'error' is not defined  ----------  humidity in Zollikofen November 16, 2020 19h\n",
      "QUERY:  wind speed in Zollikofen November 16, 2020 19h\n",
      "QUERY:  Moon Phase calculatorNovember 16, 2020 19h\n"
     ]
    },
    {
     "name": "stderr",
     "output_type": "stream",
     "text": [
      "\r",
      "  1%|▋                                                                               | 2/221 [00:42<1:18:22, 21.47s/it]"
     ]
    },
    {
     "name": "stdout",
     "output_type": "stream",
     "text": [
      "QUERY:  Precipitation amount in Zollikofen November 16, 2020 21h\n",
      "QUERY:  temperature in Zollikofen November 16, 2020 21h\n",
      "QUERY:  humidity in Zollikofen November 16, 2020 21h\n",
      "ERROR: no data available-------------  humidity in Zollikofen November 16, 2020 21h\n",
      "ERROR:------------- name 'error' is not defined  ----------  humidity in Zollikofen November 16, 2020 21h\n",
      "QUERY:  wind speed in Zollikofen November 16, 2020 21h\n",
      "QUERY:  Moon Phase calculatorNovember 16, 2020 21h\n"
     ]
    },
    {
     "name": "stderr",
     "output_type": "stream",
     "text": [
      "\r",
      "  1%|█                                                                               | 3/221 [01:03<1:17:23, 21.30s/it]"
     ]
    },
    {
     "name": "stdout",
     "output_type": "stream",
     "text": [
      "QUERY:  Precipitation amount in Zollikofen December 15, 2020 21h\n",
      "QUERY:  temperature in Zollikofen December 15, 2020 21h\n",
      "QUERY:  humidity in Zollikofen December 15, 2020 21h\n",
      "ERROR: no data available-------------  humidity in Zollikofen December 15, 2020 21h\n",
      "ERROR:------------- name 'error' is not defined  ----------  humidity in Zollikofen December 15, 2020 21h\n",
      "QUERY:  wind speed in Zollikofen December 15, 2020 21h\n",
      "QUERY:  Moon Phase calculatorDecember 15, 2020 21h\n"
     ]
    },
    {
     "name": "stderr",
     "output_type": "stream",
     "text": [
      "\r",
      "  2%|█▍                                                                              | 4/221 [01:24<1:16:54, 21.27s/it]"
     ]
    },
    {
     "name": "stdout",
     "output_type": "stream",
     "text": [
      "QUERY:  Precipitation amount in Zollikofen February 8, 2021 17h\n",
      "QUERY:  temperature in Zollikofen February 8, 2021 17h\n",
      "QUERY:  humidity in Zollikofen February 8, 2021 17h\n",
      "ERROR: no data available-------------  humidity in Zollikofen February 8, 2021 17h\n",
      "ERROR:------------- name 'error' is not defined  ----------  humidity in Zollikofen February 8, 2021 17h\n",
      "QUERY:  wind speed in Zollikofen February 8, 2021 17h\n",
      "QUERY:  Moon Phase calculatorFebruary 8, 2021 17h\n"
     ]
    },
    {
     "name": "stderr",
     "output_type": "stream",
     "text": [
      "\r",
      "  2%|█▊                                                                              | 5/221 [01:45<1:16:16, 21.19s/it]"
     ]
    },
    {
     "name": "stdout",
     "output_type": "stream",
     "text": [
      "QUERY:  Precipitation amount in Zollikofen February 8, 2021 18h\n",
      "QUERY:  temperature in Zollikofen February 8, 2021 18h\n",
      "QUERY:  humidity in Zollikofen February 8, 2021 18h\n",
      "ERROR: no data available-------------  humidity in Zollikofen February 8, 2021 18h\n",
      "ERROR:------------- name 'error' is not defined  ----------  humidity in Zollikofen February 8, 2021 18h\n",
      "QUERY:  wind speed in Zollikofen February 8, 2021 18h\n",
      "QUERY:  Moon Phase calculatorFebruary 8, 2021 18h\n"
     ]
    },
    {
     "name": "stderr",
     "output_type": "stream",
     "text": [
      "\r",
      "  3%|██▏                                                                             | 6/221 [02:06<1:15:06, 20.96s/it]"
     ]
    },
    {
     "name": "stdout",
     "output_type": "stream",
     "text": [
      "QUERY:  Precipitation amount in Zollikofen February 8, 2021 19h\n",
      "QUERY:  temperature in Zollikofen February 8, 2021 19h\n",
      "QUERY:  humidity in Zollikofen February 8, 2021 19h\n",
      "ERROR: no data available-------------  humidity in Zollikofen February 8, 2021 19h\n",
      "ERROR:------------- name 'error' is not defined  ----------  humidity in Zollikofen February 8, 2021 19h\n",
      "QUERY:  wind speed in Zollikofen February 8, 2021 19h\n",
      "QUERY:  Moon Phase calculatorFebruary 8, 2021 19h\n"
     ]
    },
    {
     "name": "stderr",
     "output_type": "stream",
     "text": [
      "\r",
      "  3%|██▌                                                                             | 7/221 [02:28<1:16:09, 21.35s/it]"
     ]
    },
    {
     "name": "stdout",
     "output_type": "stream",
     "text": [
      "QUERY:  Precipitation amount in Zollikofen February 8, 2021 20h\n",
      "QUERY:  temperature in Zollikofen February 8, 2021 20h\n",
      "QUERY:  humidity in Zollikofen February 8, 2021 20h\n",
      "ERROR: no data available-------------  humidity in Zollikofen February 8, 2021 20h\n",
      "ERROR:------------- name 'error' is not defined  ----------  humidity in Zollikofen February 8, 2021 20h\n",
      "QUERY:  wind speed in Zollikofen February 8, 2021 20h\n",
      "QUERY:  Moon Phase calculatorFebruary 8, 2021 20h\n"
     ]
    },
    {
     "name": "stderr",
     "output_type": "stream",
     "text": [
      "\r",
      "  4%|██▉                                                                             | 8/221 [02:49<1:15:51, 21.37s/it]"
     ]
    },
    {
     "name": "stdout",
     "output_type": "stream",
     "text": [
      "QUERY:  Precipitation amount in Zollikofen February 9, 2021 9h\n",
      "QUERY:  temperature in Zollikofen February 9, 2021 9h\n",
      "QUERY:  humidity in Zollikofen February 9, 2021 9h\n",
      "ERROR: no data available-------------  humidity in Zollikofen February 9, 2021 9h\n",
      "ERROR:------------- name 'error' is not defined  ----------  humidity in Zollikofen February 9, 2021 9h\n",
      "QUERY:  wind speed in Zollikofen February 9, 2021 9h\n",
      "QUERY:  Moon Phase calculatorFebruary 9, 2021 9h\n"
     ]
    },
    {
     "name": "stderr",
     "output_type": "stream",
     "text": [
      "\r",
      "  4%|███▎                                                                            | 9/221 [03:10<1:14:39, 21.13s/it]"
     ]
    },
    {
     "name": "stdout",
     "output_type": "stream",
     "text": [
      "QUERY:  Precipitation amount in Zollikofen February 9, 2021 10h\n",
      "QUERY:  temperature in Zollikofen February 9, 2021 10h\n",
      "QUERY:  humidity in Zollikofen February 9, 2021 10h\n",
      "ERROR: no data available-------------  humidity in Zollikofen February 9, 2021 10h\n",
      "ERROR:------------- name 'error' is not defined  ----------  humidity in Zollikofen February 9, 2021 10h\n",
      "QUERY:  wind speed in Zollikofen February 9, 2021 10h\n",
      "QUERY:  Moon Phase calculatorFebruary 9, 2021 10h\n"
     ]
    },
    {
     "name": "stderr",
     "output_type": "stream",
     "text": [
      "\r",
      "  5%|███▌                                                                           | 10/221 [03:32<1:15:01, 21.34s/it]"
     ]
    },
    {
     "name": "stdout",
     "output_type": "stream",
     "text": [
      "QUERY:  Precipitation amount in Zollikofen February 9, 2021 11h\n",
      "QUERY:  temperature in Zollikofen February 9, 2021 11h\n",
      "QUERY:  humidity in Zollikofen February 9, 2021 11h\n",
      "ERROR: no data available-------------  humidity in Zollikofen February 9, 2021 11h\n",
      "ERROR:------------- name 'error' is not defined  ----------  humidity in Zollikofen February 9, 2021 11h\n",
      "QUERY:  wind speed in Zollikofen February 9, 2021 11h\n",
      "QUERY:  Moon Phase calculatorFebruary 9, 2021 11h\n",
      "(7159, 7)\n"
     ]
    },
    {
     "data": {
      "text/html": [
       "<div>\n",
       "<style scoped>\n",
       "    .dataframe tbody tr th:only-of-type {\n",
       "        vertical-align: middle;\n",
       "    }\n",
       "\n",
       "    .dataframe tbody tr th {\n",
       "        vertical-align: top;\n",
       "    }\n",
       "\n",
       "    .dataframe thead th {\n",
       "        text-align: right;\n",
       "    }\n",
       "</style>\n",
       "<table border=\"1\" class=\"dataframe\">\n",
       "  <thead>\n",
       "    <tr style=\"text-align: right;\">\n",
       "      <th></th>\n",
       "      <th>date</th>\n",
       "      <th>temperature</th>\n",
       "      <th>humidity</th>\n",
       "      <th>wind speed</th>\n",
       "      <th>Precipitation amount</th>\n",
       "      <th>query</th>\n",
       "      <th>Moon Phase calculator</th>\n",
       "    </tr>\n",
       "  </thead>\n",
       "  <tbody>\n",
       "    <tr>\n",
       "      <th>8</th>\n",
       "      <td>2021-02-09 10:00:00</td>\n",
       "      <td>0 °C\\n(10:00 am CET | Tuesday, February 9, 2021)</td>\n",
       "      <td>ERROR</td>\n",
       "      <td>1 m/s\\n(10:00 am CET | Tuesday, February 9, 2021)</td>\n",
       "      <td>(unknown)\\n(10:00 am CET | Tuesday, February 9...</td>\n",
       "      <td>Moon Phase calculatorFebruary 9, 2021 10h</td>\n",
       "      <td>| waning crescent moon\\n6.82% illuminated</td>\n",
       "    </tr>\n",
       "    <tr>\n",
       "      <th>9</th>\n",
       "      <td>2021-02-09 11:00:00</td>\n",
       "      <td>0 °C\\n(11:00 am CET | Tuesday, February 9, 2021)</td>\n",
       "      <td>ERROR</td>\n",
       "      <td>1 m/s\\n(11:00 am CET | Tuesday, February 9, 2021)</td>\n",
       "      <td>(unknown)\\n(11:00 am CET | Tuesday, February 9...</td>\n",
       "      <td>Moon Phase calculatorFebruary 9, 2021 11h</td>\n",
       "      <td>| waning crescent moon\\n6.60% illuminated</td>\n",
       "    </tr>\n",
       "  </tbody>\n",
       "</table>\n",
       "</div>"
      ],
      "text/plain": [
       "                 date                                       temperature  \\\n",
       "8 2021-02-09 10:00:00  0 °C\\n(10:00 am CET | Tuesday, February 9, 2021)   \n",
       "9 2021-02-09 11:00:00  0 °C\\n(11:00 am CET | Tuesday, February 9, 2021)   \n",
       "\n",
       "  humidity                                         wind speed  \\\n",
       "8    ERROR  1 m/s\\n(10:00 am CET | Tuesday, February 9, 2021)   \n",
       "9    ERROR  1 m/s\\n(11:00 am CET | Tuesday, February 9, 2021)   \n",
       "\n",
       "                                Precipitation amount  \\\n",
       "8  (unknown)\\n(10:00 am CET | Tuesday, February 9...   \n",
       "9  (unknown)\\n(11:00 am CET | Tuesday, February 9...   \n",
       "\n",
       "                                       query  \\\n",
       "8  Moon Phase calculatorFebruary 9, 2021 10h   \n",
       "9  Moon Phase calculatorFebruary 9, 2021 11h   \n",
       "\n",
       "                       Moon Phase calculator  \n",
       "8  | waning crescent moon\\n6.82% illuminated  \n",
       "9  | waning crescent moon\\n6.60% illuminated  "
      ]
     },
     "metadata": {},
     "output_type": "display_data"
    },
    {
     "name": "stderr",
     "output_type": "stream",
     "text": [
      "\r",
      "  5%|███▉                                                                           | 11/221 [03:52<1:14:02, 21.16s/it]"
     ]
    },
    {
     "name": "stdout",
     "output_type": "stream",
     "text": [
      "QUERY:  Precipitation amount in Zollikofen February 9, 2021 12h\n",
      "QUERY:  temperature in Zollikofen February 9, 2021 12h\n",
      "QUERY:  humidity in Zollikofen February 9, 2021 12h\n",
      "ERROR: no data available-------------  humidity in Zollikofen February 9, 2021 12h\n",
      "ERROR:------------- name 'error' is not defined  ----------  humidity in Zollikofen February 9, 2021 12h\n",
      "QUERY:  wind speed in Zollikofen February 9, 2021 12h\n",
      "QUERY:  Moon Phase calculatorFebruary 9, 2021 12h\n"
     ]
    },
    {
     "name": "stderr",
     "output_type": "stream",
     "text": [
      "\r",
      "  5%|████▎                                                                          | 12/221 [04:12<1:12:17, 20.75s/it]"
     ]
    },
    {
     "name": "stdout",
     "output_type": "stream",
     "text": [
      "QUERY:  Precipitation amount in Zollikofen February 9, 2021 13h\n",
      "QUERY:  temperature in Zollikofen February 9, 2021 13h\n",
      "QUERY:  humidity in Zollikofen February 9, 2021 13h\n",
      "ERROR: no data available-------------  humidity in Zollikofen February 9, 2021 13h\n",
      "ERROR:------------- name 'error' is not defined  ----------  humidity in Zollikofen February 9, 2021 13h\n",
      "QUERY:  wind speed in Zollikofen February 9, 2021 13h\n",
      "QUERY:  Moon Phase calculatorFebruary 9, 2021 13h\n"
     ]
    },
    {
     "name": "stderr",
     "output_type": "stream",
     "text": [
      "\r",
      "  6%|████▋                                                                          | 13/221 [04:33<1:11:45, 20.70s/it]"
     ]
    },
    {
     "name": "stdout",
     "output_type": "stream",
     "text": [
      "QUERY:  Precipitation amount in Zollikofen February 9, 2021 15h\n",
      "QUERY:  temperature in Zollikofen February 9, 2021 15h\n",
      "QUERY:  humidity in Zollikofen February 9, 2021 15h\n",
      "ERROR: no data available-------------  humidity in Zollikofen February 9, 2021 15h\n",
      "ERROR:------------- name 'error' is not defined  ----------  humidity in Zollikofen February 9, 2021 15h\n",
      "QUERY:  wind speed in Zollikofen February 9, 2021 15h\n",
      "QUERY:  Moon Phase calculatorFebruary 9, 2021 15h\n"
     ]
    },
    {
     "name": "stderr",
     "output_type": "stream",
     "text": [
      "\r",
      "  6%|█████                                                                          | 14/221 [04:53<1:10:58, 20.57s/it]"
     ]
    },
    {
     "name": "stdout",
     "output_type": "stream",
     "text": [
      "QUERY:  Precipitation amount in Zollikofen February 9, 2021 16h\n",
      "QUERY:  temperature in Zollikofen February 9, 2021 16h\n",
      "QUERY:  humidity in Zollikofen February 9, 2021 16h\n",
      "ERROR: no data available-------------  humidity in Zollikofen February 9, 2021 16h\n",
      "ERROR:------------- name 'error' is not defined  ----------  humidity in Zollikofen February 9, 2021 16h\n",
      "QUERY:  wind speed in Zollikofen February 9, 2021 16h\n",
      "QUERY:  Moon Phase calculatorFebruary 9, 2021 16h\n"
     ]
    },
    {
     "name": "stderr",
     "output_type": "stream",
     "text": [
      "\r",
      "  7%|█████▎                                                                         | 15/221 [05:15<1:11:34, 20.85s/it]"
     ]
    },
    {
     "name": "stdout",
     "output_type": "stream",
     "text": [
      "QUERY:  Precipitation amount in Zollikofen February 9, 2021 17h\n",
      "QUERY:  temperature in Zollikofen February 9, 2021 17h\n",
      "QUERY:  humidity in Zollikofen February 9, 2021 17h\n",
      "ERROR: no data available-------------  humidity in Zollikofen February 9, 2021 17h\n",
      "ERROR:------------- name 'error' is not defined  ----------  humidity in Zollikofen February 9, 2021 17h\n",
      "QUERY:  wind speed in Zollikofen February 9, 2021 17h\n",
      "QUERY:  Moon Phase calculatorFebruary 9, 2021 17h\n"
     ]
    },
    {
     "name": "stderr",
     "output_type": "stream",
     "text": [
      "\r",
      "  7%|█████▋                                                                         | 16/221 [05:35<1:10:39, 20.68s/it]"
     ]
    },
    {
     "name": "stdout",
     "output_type": "stream",
     "text": [
      "QUERY:  Precipitation amount in Zollikofen February 9, 2021 18h\n",
      "QUERY:  temperature in Zollikofen February 9, 2021 18h\n",
      "QUERY:  humidity in Zollikofen February 9, 2021 18h\n",
      "ERROR: no data available-------------  humidity in Zollikofen February 9, 2021 18h\n",
      "ERROR:------------- name 'error' is not defined  ----------  humidity in Zollikofen February 9, 2021 18h\n",
      "QUERY:  wind speed in Zollikofen February 9, 2021 18h\n",
      "QUERY:  Moon Phase calculatorFebruary 9, 2021 18h\n"
     ]
    },
    {
     "name": "stderr",
     "output_type": "stream",
     "text": [
      "\r",
      "  8%|██████                                                                         | 17/221 [05:55<1:09:54, 20.56s/it]"
     ]
    },
    {
     "name": "stdout",
     "output_type": "stream",
     "text": [
      "QUERY:  Precipitation amount in Zollikofen February 9, 2021 19h\n",
      "QUERY:  temperature in Zollikofen February 9, 2021 19h\n",
      "QUERY:  humidity in Zollikofen February 9, 2021 19h\n",
      "ERROR: no data available-------------  humidity in Zollikofen February 9, 2021 19h\n",
      "ERROR:------------- name 'error' is not defined  ----------  humidity in Zollikofen February 9, 2021 19h\n",
      "QUERY:  wind speed in Zollikofen February 9, 2021 19h\n",
      "QUERY:  Moon Phase calculatorFebruary 9, 2021 19h\n"
     ]
    },
    {
     "name": "stderr",
     "output_type": "stream",
     "text": [
      "\r",
      "  8%|██████▍                                                                        | 18/221 [06:15<1:09:16, 20.47s/it]"
     ]
    },
    {
     "name": "stdout",
     "output_type": "stream",
     "text": [
      "QUERY:  Precipitation amount in Zollikofen February 9, 2021 20h\n",
      "QUERY:  temperature in Zollikofen February 9, 2021 20h\n",
      "QUERY:  humidity in Zollikofen February 9, 2021 20h\n",
      "ERROR: no data available-------------  humidity in Zollikofen February 9, 2021 20h\n",
      "ERROR:------------- name 'error' is not defined  ----------  humidity in Zollikofen February 9, 2021 20h\n",
      "QUERY:  wind speed in Zollikofen February 9, 2021 20h\n",
      "QUERY:  Moon Phase calculatorFebruary 9, 2021 20h\n"
     ]
    },
    {
     "name": "stderr",
     "output_type": "stream",
     "text": [
      "\r",
      "  9%|██████▊                                                                        | 19/221 [06:35<1:08:25, 20.32s/it]"
     ]
    },
    {
     "name": "stdout",
     "output_type": "stream",
     "text": [
      "QUERY:  Precipitation amount in Zollikofen February 9, 2021 21h\n",
      "QUERY:  temperature in Zollikofen February 9, 2021 21h\n",
      "QUERY:  humidity in Zollikofen February 9, 2021 21h\n",
      "ERROR: no data available-------------  humidity in Zollikofen February 9, 2021 21h\n",
      "ERROR:------------- name 'error' is not defined  ----------  humidity in Zollikofen February 9, 2021 21h\n",
      "QUERY:  wind speed in Zollikofen February 9, 2021 21h\n",
      "QUERY:  Moon Phase calculatorFebruary 9, 2021 21h\n"
     ]
    },
    {
     "name": "stderr",
     "output_type": "stream",
     "text": [
      "\r",
      "  9%|███████▏                                                                       | 20/221 [06:55<1:07:43, 20.22s/it]"
     ]
    },
    {
     "name": "stdout",
     "output_type": "stream",
     "text": [
      "QUERY:  Precipitation amount in Zollikofen February 9, 2021 22h\n",
      "QUERY:  temperature in Zollikofen February 9, 2021 22h\n",
      "QUERY:  humidity in Zollikofen February 9, 2021 22h\n",
      "ERROR: no data available-------------  humidity in Zollikofen February 9, 2021 22h\n",
      "ERROR:------------- name 'error' is not defined  ----------  humidity in Zollikofen February 9, 2021 22h\n",
      "QUERY:  wind speed in Zollikofen February 9, 2021 22h\n",
      "QUERY:  Moon Phase calculatorFebruary 9, 2021 22h\n",
      "(7169, 7)\n"
     ]
    },
    {
     "data": {
      "text/html": [
       "<div>\n",
       "<style scoped>\n",
       "    .dataframe tbody tr th:only-of-type {\n",
       "        vertical-align: middle;\n",
       "    }\n",
       "\n",
       "    .dataframe tbody tr th {\n",
       "        vertical-align: top;\n",
       "    }\n",
       "\n",
       "    .dataframe thead th {\n",
       "        text-align: right;\n",
       "    }\n",
       "</style>\n",
       "<table border=\"1\" class=\"dataframe\">\n",
       "  <thead>\n",
       "    <tr style=\"text-align: right;\">\n",
       "      <th></th>\n",
       "      <th>date</th>\n",
       "      <th>temperature</th>\n",
       "      <th>humidity</th>\n",
       "      <th>wind speed</th>\n",
       "      <th>Precipitation amount</th>\n",
       "      <th>query</th>\n",
       "      <th>Moon Phase calculator</th>\n",
       "    </tr>\n",
       "  </thead>\n",
       "  <tbody>\n",
       "    <tr>\n",
       "      <th>8</th>\n",
       "      <td>2021-02-09 21:00:00</td>\n",
       "      <td>0 °C\\n(9:00 pm CET | Tuesday, February 9, 2021)</td>\n",
       "      <td>ERROR</td>\n",
       "      <td>4 m/s\\n(9:00 pm CET | Tuesday, February 9, 2021)</td>\n",
       "      <td>(unknown)\\n(9:00 pm CET | Tuesday, February 9,...</td>\n",
       "      <td>Moon Phase calculatorFebruary 9, 2021 21h</td>\n",
       "      <td>| waning crescent moon\\n4.53% illuminated</td>\n",
       "    </tr>\n",
       "    <tr>\n",
       "      <th>9</th>\n",
       "      <td>2021-02-09 22:00:00</td>\n",
       "      <td>0 °C\\n(10:00 pm CET | Tuesday, February 9, 2021)</td>\n",
       "      <td>ERROR</td>\n",
       "      <td>4 m/s\\n(10:00 pm CET | Tuesday, February 9, 2021)</td>\n",
       "      <td>(unknown)\\n(10:00 pm CET | Tuesday, February 9...</td>\n",
       "      <td>Moon Phase calculatorFebruary 9, 2021 22h</td>\n",
       "      <td>| waning crescent moon\\n4.34% illuminated</td>\n",
       "    </tr>\n",
       "  </tbody>\n",
       "</table>\n",
       "</div>"
      ],
      "text/plain": [
       "                 date                                       temperature  \\\n",
       "8 2021-02-09 21:00:00   0 °C\\n(9:00 pm CET | Tuesday, February 9, 2021)   \n",
       "9 2021-02-09 22:00:00  0 °C\\n(10:00 pm CET | Tuesday, February 9, 2021)   \n",
       "\n",
       "  humidity                                         wind speed  \\\n",
       "8    ERROR   4 m/s\\n(9:00 pm CET | Tuesday, February 9, 2021)   \n",
       "9    ERROR  4 m/s\\n(10:00 pm CET | Tuesday, February 9, 2021)   \n",
       "\n",
       "                                Precipitation amount  \\\n",
       "8  (unknown)\\n(9:00 pm CET | Tuesday, February 9,...   \n",
       "9  (unknown)\\n(10:00 pm CET | Tuesday, February 9...   \n",
       "\n",
       "                                       query  \\\n",
       "8  Moon Phase calculatorFebruary 9, 2021 21h   \n",
       "9  Moon Phase calculatorFebruary 9, 2021 22h   \n",
       "\n",
       "                       Moon Phase calculator  \n",
       "8  | waning crescent moon\\n4.53% illuminated  \n",
       "9  | waning crescent moon\\n4.34% illuminated  "
      ]
     },
     "metadata": {},
     "output_type": "display_data"
    },
    {
     "name": "stderr",
     "output_type": "stream",
     "text": [
      "\r",
      " 10%|███████▌                                                                       | 21/221 [07:16<1:07:24, 20.22s/it]"
     ]
    },
    {
     "name": "stdout",
     "output_type": "stream",
     "text": [
      "QUERY:  Precipitation amount in Zollikofen February 10, 2021 10h\n",
      "QUERY:  temperature in Zollikofen February 10, 2021 10h\n",
      "QUERY:  humidity in Zollikofen February 10, 2021 10h\n",
      "ERROR: no data available-------------  humidity in Zollikofen February 10, 2021 10h\n",
      "ERROR:------------- name 'error' is not defined  ----------  humidity in Zollikofen February 10, 2021 10h\n",
      "QUERY:  wind speed in Zollikofen February 10, 2021 10h\n",
      "QUERY:  Moon Phase calculatorFebruary 10, 2021 10h\n"
     ]
    },
    {
     "name": "stderr",
     "output_type": "stream",
     "text": [
      "\r",
      " 10%|███████▊                                                                       | 22/221 [07:36<1:07:46, 20.43s/it]"
     ]
    },
    {
     "name": "stdout",
     "output_type": "stream",
     "text": [
      "QUERY:  Precipitation amount in Zollikofen February 10, 2021 11h\n",
      "QUERY:  temperature in Zollikofen February 10, 2021 11h\n",
      "QUERY:  humidity in Zollikofen February 10, 2021 11h\n",
      "ERROR: no data available-------------  humidity in Zollikofen February 10, 2021 11h\n",
      "ERROR:------------- name 'error' is not defined  ----------  humidity in Zollikofen February 10, 2021 11h\n",
      "QUERY:  wind speed in Zollikofen February 10, 2021 11h\n",
      "QUERY:  Moon Phase calculatorFebruary 10, 2021 11h\n"
     ]
    },
    {
     "name": "stderr",
     "output_type": "stream",
     "text": [
      "\r",
      " 10%|████████▏                                                                      | 23/221 [07:57<1:07:49, 20.56s/it]"
     ]
    },
    {
     "name": "stdout",
     "output_type": "stream",
     "text": [
      "QUERY:  Precipitation amount in Zollikofen February 10, 2021 12h\n",
      "QUERY:  temperature in Zollikofen February 10, 2021 12h\n",
      "QUERY:  humidity in Zollikofen February 10, 2021 12h\n",
      "ERROR: no data available-------------  humidity in Zollikofen February 10, 2021 12h\n",
      "ERROR:------------- name 'error' is not defined  ----------  humidity in Zollikofen February 10, 2021 12h\n",
      "QUERY:  wind speed in Zollikofen February 10, 2021 12h\n",
      "QUERY:  Moon Phase calculatorFebruary 10, 2021 12h\n"
     ]
    },
    {
     "name": "stderr",
     "output_type": "stream",
     "text": [
      "\r",
      " 11%|████████▌                                                                      | 24/221 [08:18<1:07:34, 20.58s/it]"
     ]
    },
    {
     "name": "stdout",
     "output_type": "stream",
     "text": [
      "QUERY:  Precipitation amount in Zollikofen February 10, 2021 13h\n",
      "QUERY:  temperature in Zollikofen February 10, 2021 13h\n",
      "QUERY:  humidity in Zollikofen February 10, 2021 13h\n",
      "ERROR: no data available-------------  humidity in Zollikofen February 10, 2021 13h\n",
      "ERROR:------------- name 'error' is not defined  ----------  humidity in Zollikofen February 10, 2021 13h\n",
      "QUERY:  wind speed in Zollikofen February 10, 2021 13h\n",
      "QUERY:  Moon Phase calculatorFebruary 10, 2021 13h\n"
     ]
    },
    {
     "name": "stderr",
     "output_type": "stream",
     "text": [
      "\r",
      " 11%|████████▉                                                                      | 25/221 [08:38<1:06:40, 20.41s/it]"
     ]
    },
    {
     "name": "stdout",
     "output_type": "stream",
     "text": [
      "QUERY:  Precipitation amount in Zollikofen February 10, 2021 14h\n",
      "QUERY:  temperature in Zollikofen February 10, 2021 14h\n",
      "QUERY:  humidity in Zollikofen February 10, 2021 14h\n",
      "ERROR: no data available-------------  humidity in Zollikofen February 10, 2021 14h\n",
      "ERROR:------------- name 'error' is not defined  ----------  humidity in Zollikofen February 10, 2021 14h\n",
      "QUERY:  wind speed in Zollikofen February 10, 2021 14h\n",
      "QUERY:  Moon Phase calculatorFebruary 10, 2021 14h\n"
     ]
    },
    {
     "name": "stderr",
     "output_type": "stream",
     "text": [
      "\r",
      " 12%|█████████▎                                                                     | 26/221 [08:58<1:06:07, 20.35s/it]"
     ]
    },
    {
     "name": "stdout",
     "output_type": "stream",
     "text": [
      "QUERY:  Precipitation amount in Zollikofen February 10, 2021 15h\n",
      "QUERY:  temperature in Zollikofen February 10, 2021 15h\n",
      "QUERY:  humidity in Zollikofen February 10, 2021 15h\n",
      "ERROR: no data available-------------  humidity in Zollikofen February 10, 2021 15h\n",
      "ERROR:------------- name 'error' is not defined  ----------  humidity in Zollikofen February 10, 2021 15h\n",
      "QUERY:  wind speed in Zollikofen February 10, 2021 15h\n",
      "QUERY:  Moon Phase calculatorFebruary 10, 2021 15h\n"
     ]
    },
    {
     "name": "stderr",
     "output_type": "stream",
     "text": [
      "\r",
      " 12%|█████████▋                                                                     | 27/221 [09:19<1:06:35, 20.60s/it]"
     ]
    },
    {
     "name": "stdout",
     "output_type": "stream",
     "text": [
      "QUERY:  Precipitation amount in Zollikofen February 10, 2021 16h\n",
      "QUERY:  temperature in Zollikofen February 10, 2021 16h\n",
      "QUERY:  humidity in Zollikofen February 10, 2021 16h\n",
      "ERROR: no data available-------------  humidity in Zollikofen February 10, 2021 16h\n",
      "ERROR:------------- name 'error' is not defined  ----------  humidity in Zollikofen February 10, 2021 16h\n",
      "QUERY:  wind speed in Zollikofen February 10, 2021 16h\n",
      "QUERY:  Moon Phase calculatorFebruary 10, 2021 16h\n"
     ]
    },
    {
     "name": "stderr",
     "output_type": "stream",
     "text": [
      "\r",
      " 13%|██████████                                                                     | 28/221 [09:39<1:05:47, 20.45s/it]"
     ]
    },
    {
     "name": "stdout",
     "output_type": "stream",
     "text": [
      "QUERY:  Precipitation amount in Zollikofen February 10, 2021 17h\n",
      "QUERY:  temperature in Zollikofen February 10, 2021 17h\n",
      "QUERY:  humidity in Zollikofen February 10, 2021 17h\n",
      "ERROR: no data available-------------  humidity in Zollikofen February 10, 2021 17h\n",
      "ERROR:------------- name 'error' is not defined  ----------  humidity in Zollikofen February 10, 2021 17h\n",
      "QUERY:  wind speed in Zollikofen February 10, 2021 17h\n",
      "QUERY:  Moon Phase calculatorFebruary 10, 2021 17h\n"
     ]
    },
    {
     "name": "stderr",
     "output_type": "stream",
     "text": [
      "\r",
      " 13%|██████████▎                                                                    | 29/221 [09:59<1:05:03, 20.33s/it]"
     ]
    },
    {
     "name": "stdout",
     "output_type": "stream",
     "text": [
      "QUERY:  Precipitation amount in Zollikofen February 10, 2021 18h\n",
      "QUERY:  temperature in Zollikofen February 10, 2021 18h\n",
      "QUERY:  humidity in Zollikofen February 10, 2021 18h\n",
      "ERROR: no data available-------------  humidity in Zollikofen February 10, 2021 18h\n",
      "ERROR:------------- name 'error' is not defined  ----------  humidity in Zollikofen February 10, 2021 18h\n",
      "QUERY:  wind speed in Zollikofen February 10, 2021 18h\n",
      "QUERY:  Moon Phase calculatorFebruary 10, 2021 18h\n"
     ]
    },
    {
     "name": "stderr",
     "output_type": "stream",
     "text": [
      "\r",
      " 14%|██████████▋                                                                    | 30/221 [10:20<1:04:46, 20.35s/it]"
     ]
    },
    {
     "name": "stdout",
     "output_type": "stream",
     "text": [
      "QUERY:  Precipitation amount in Zollikofen February 10, 2021 19h\n",
      "QUERY:  temperature in Zollikofen February 10, 2021 19h\n",
      "QUERY:  humidity in Zollikofen February 10, 2021 19h\n",
      "ERROR: no data available-------------  humidity in Zollikofen February 10, 2021 19h\n",
      "ERROR:------------- name 'error' is not defined  ----------  humidity in Zollikofen February 10, 2021 19h\n",
      "QUERY:  wind speed in Zollikofen February 10, 2021 19h\n",
      "QUERY:  Moon Phase calculatorFebruary 10, 2021 19h\n",
      "(7179, 7)\n"
     ]
    },
    {
     "data": {
      "text/html": [
       "<div>\n",
       "<style scoped>\n",
       "    .dataframe tbody tr th:only-of-type {\n",
       "        vertical-align: middle;\n",
       "    }\n",
       "\n",
       "    .dataframe tbody tr th {\n",
       "        vertical-align: top;\n",
       "    }\n",
       "\n",
       "    .dataframe thead th {\n",
       "        text-align: right;\n",
       "    }\n",
       "</style>\n",
       "<table border=\"1\" class=\"dataframe\">\n",
       "  <thead>\n",
       "    <tr style=\"text-align: right;\">\n",
       "      <th></th>\n",
       "      <th>date</th>\n",
       "      <th>temperature</th>\n",
       "      <th>humidity</th>\n",
       "      <th>wind speed</th>\n",
       "      <th>Precipitation amount</th>\n",
       "      <th>query</th>\n",
       "      <th>Moon Phase calculator</th>\n",
       "    </tr>\n",
       "  </thead>\n",
       "  <tbody>\n",
       "    <tr>\n",
       "      <th>8</th>\n",
       "      <td>2021-02-10 18:00:00</td>\n",
       "      <td>-2 °C\\n(6:00 pm CET | Wednesday, February 10, ...</td>\n",
       "      <td>ERROR</td>\n",
       "      <td>3 m/s\\n(6:00 pm CET | Wednesday, February 10, ...</td>\n",
       "      <td>(unknown)\\n(6:00 pm CET | Wednesday, February ...</td>\n",
       "      <td>Moon Phase calculatorFebruary 10, 2021 18h</td>\n",
       "      <td>| waning crescent moon\\n1.48% illuminated</td>\n",
       "    </tr>\n",
       "    <tr>\n",
       "      <th>9</th>\n",
       "      <td>2021-02-10 19:00:00</td>\n",
       "      <td>-2 °C\\n(7:00 pm CET | Wednesday, February 10, ...</td>\n",
       "      <td>ERROR</td>\n",
       "      <td>4 m/s\\n(7:00 pm CET | Wednesday, February 10, ...</td>\n",
       "      <td>(unknown)\\n(7:00 pm CET | Wednesday, February ...</td>\n",
       "      <td>Moon Phase calculatorFebruary 10, 2021 19h</td>\n",
       "      <td>| waning crescent moon\\n1.38% illuminated</td>\n",
       "    </tr>\n",
       "  </tbody>\n",
       "</table>\n",
       "</div>"
      ],
      "text/plain": [
       "                 date                                        temperature  \\\n",
       "8 2021-02-10 18:00:00  -2 °C\\n(6:00 pm CET | Wednesday, February 10, ...   \n",
       "9 2021-02-10 19:00:00  -2 °C\\n(7:00 pm CET | Wednesday, February 10, ...   \n",
       "\n",
       "  humidity                                         wind speed  \\\n",
       "8    ERROR  3 m/s\\n(6:00 pm CET | Wednesday, February 10, ...   \n",
       "9    ERROR  4 m/s\\n(7:00 pm CET | Wednesday, February 10, ...   \n",
       "\n",
       "                                Precipitation amount  \\\n",
       "8  (unknown)\\n(6:00 pm CET | Wednesday, February ...   \n",
       "9  (unknown)\\n(7:00 pm CET | Wednesday, February ...   \n",
       "\n",
       "                                        query  \\\n",
       "8  Moon Phase calculatorFebruary 10, 2021 18h   \n",
       "9  Moon Phase calculatorFebruary 10, 2021 19h   \n",
       "\n",
       "                       Moon Phase calculator  \n",
       "8  | waning crescent moon\\n1.48% illuminated  \n",
       "9  | waning crescent moon\\n1.38% illuminated  "
      ]
     },
     "metadata": {},
     "output_type": "display_data"
    },
    {
     "name": "stderr",
     "output_type": "stream",
     "text": [
      "\r",
      " 14%|███████████                                                                    | 31/221 [10:40<1:04:38, 20.41s/it]"
     ]
    },
    {
     "name": "stdout",
     "output_type": "stream",
     "text": [
      "QUERY:  Precipitation amount in Zollikofen February 10, 2021 20h\n",
      "QUERY:  temperature in Zollikofen February 10, 2021 20h\n",
      "QUERY:  humidity in Zollikofen February 10, 2021 20h\n",
      "ERROR: no data available-------------  humidity in Zollikofen February 10, 2021 20h\n",
      "ERROR:------------- name 'error' is not defined  ----------  humidity in Zollikofen February 10, 2021 20h\n",
      "QUERY:  wind speed in Zollikofen February 10, 2021 20h\n",
      "QUERY:  Moon Phase calculatorFebruary 10, 2021 20h\n"
     ]
    },
    {
     "name": "stderr",
     "output_type": "stream",
     "text": [
      "\r",
      " 14%|███████████▍                                                                   | 32/221 [11:00<1:03:48, 20.26s/it]"
     ]
    },
    {
     "name": "stdout",
     "output_type": "stream",
     "text": [
      "QUERY:  Precipitation amount in Zollikofen February 10, 2021 21h\n",
      "QUERY:  temperature in Zollikofen February 10, 2021 21h\n",
      "QUERY:  humidity in Zollikofen February 10, 2021 21h\n",
      "ERROR: no data available-------------  humidity in Zollikofen February 10, 2021 21h\n",
      "ERROR:------------- name 'error' is not defined  ----------  humidity in Zollikofen February 10, 2021 21h\n",
      "QUERY:  wind speed in Zollikofen February 10, 2021 21h\n",
      "QUERY:  Moon Phase calculatorFebruary 10, 2021 21h\n"
     ]
    },
    {
     "name": "stderr",
     "output_type": "stream",
     "text": [
      "\r",
      " 15%|███████████▊                                                                   | 33/221 [11:20<1:03:00, 20.11s/it]"
     ]
    },
    {
     "name": "stdout",
     "output_type": "stream",
     "text": [
      "QUERY:  Precipitation amount in Zollikofen February 10, 2021 22h\n",
      "QUERY:  temperature in Zollikofen February 10, 2021 22h\n",
      "QUERY:  humidity in Zollikofen February 10, 2021 22h\n",
      "ERROR: no data available-------------  humidity in Zollikofen February 10, 2021 22h\n",
      "ERROR:------------- name 'error' is not defined  ----------  humidity in Zollikofen February 10, 2021 22h\n",
      "QUERY:  wind speed in Zollikofen February 10, 2021 22h\n",
      "QUERY:  Moon Phase calculatorFebruary 10, 2021 22h\n"
     ]
    },
    {
     "name": "stderr",
     "output_type": "stream",
     "text": [
      "\r",
      " 15%|████████████▏                                                                  | 34/221 [11:40<1:02:32, 20.07s/it]"
     ]
    },
    {
     "name": "stdout",
     "output_type": "stream",
     "text": [
      "QUERY:  Precipitation amount in Zollikofen February 10, 2021 23h\n",
      "QUERY:  temperature in Zollikofen February 10, 2021 23h\n",
      "QUERY:  humidity in Zollikofen February 10, 2021 23h\n",
      "ERROR: no data available-------------  humidity in Zollikofen February 10, 2021 23h\n",
      "ERROR:------------- name 'error' is not defined  ----------  humidity in Zollikofen February 10, 2021 23h\n",
      "QUERY:  wind speed in Zollikofen February 10, 2021 23h\n",
      "QUERY:  Moon Phase calculatorFebruary 10, 2021 23h\n"
     ]
    },
    {
     "name": "stderr",
     "output_type": "stream",
     "text": [
      "\r",
      " 16%|████████████▌                                                                  | 35/221 [12:00<1:02:07, 20.04s/it]"
     ]
    },
    {
     "name": "stdout",
     "output_type": "stream",
     "text": [
      "QUERY:  Precipitation amount in Zollikofen March 28, 2021 1h\n",
      "QUERY:  temperature in Zollikofen March 28, 2021 1h\n",
      "QUERY:  humidity in Zollikofen March 28, 2021 1h\n",
      "ERROR: no data available-------------  humidity in Zollikofen March 28, 2021 1h\n",
      "ERROR:------------- name 'error' is not defined  ----------  humidity in Zollikofen March 28, 2021 1h\n",
      "QUERY:  wind speed in Zollikofen March 28, 2021 1h\n",
      "QUERY:  Moon Phase calculatorMarch 28, 2021 1h\n"
     ]
    },
    {
     "name": "stderr",
     "output_type": "stream",
     "text": [
      "\r",
      " 16%|████████████▊                                                                  | 36/221 [12:19<1:01:05, 19.81s/it]"
     ]
    },
    {
     "name": "stdout",
     "output_type": "stream",
     "text": [
      "QUERY:  Precipitation amount in Zollikofen May 15, 2021 0h\n",
      "QUERY:  temperature in Zollikofen May 15, 2021 0h\n",
      "QUERY:  humidity in Zollikofen May 15, 2021 0h\n",
      "ERROR: no data available-------------  humidity in Zollikofen May 15, 2021 0h\n",
      "ERROR:------------- name 'error' is not defined  ----------  humidity in Zollikofen May 15, 2021 0h\n",
      "QUERY:  wind speed in Zollikofen May 15, 2021 0h\n",
      "QUERY:  Moon Phase calculatorMay 15, 2021 0h\n"
     ]
    },
    {
     "name": "stderr",
     "output_type": "stream",
     "text": [
      "\r",
      " 17%|█████████████▏                                                                 | 37/221 [12:40<1:01:05, 19.92s/it]"
     ]
    },
    {
     "name": "stdout",
     "output_type": "stream",
     "text": [
      "QUERY:  Precipitation amount in Zollikofen May 15, 2021 1h\n",
      "QUERY:  temperature in Zollikofen May 15, 2021 1h\n",
      "QUERY:  humidity in Zollikofen May 15, 2021 1h\n",
      "ERROR: no data available-------------  humidity in Zollikofen May 15, 2021 1h\n",
      "ERROR:------------- name 'error' is not defined  ----------  humidity in Zollikofen May 15, 2021 1h\n",
      "QUERY:  wind speed in Zollikofen May 15, 2021 1h\n",
      "QUERY:  Moon Phase calculatorMay 15, 2021 1h\n"
     ]
    },
    {
     "name": "stderr",
     "output_type": "stream",
     "text": [
      "\r",
      " 17%|█████████████▌                                                                 | 38/221 [13:00<1:01:31, 20.17s/it]"
     ]
    },
    {
     "name": "stdout",
     "output_type": "stream",
     "text": [
      "QUERY:  Precipitation amount in Zollikofen May 15, 2021 2h\n",
      "QUERY:  temperature in Zollikofen May 15, 2021 2h\n",
      "QUERY:  humidity in Zollikofen May 15, 2021 2h\n",
      "ERROR: no data available-------------  humidity in Zollikofen May 15, 2021 2h\n",
      "ERROR:------------- name 'error' is not defined  ----------  humidity in Zollikofen May 15, 2021 2h\n",
      "QUERY:  wind speed in Zollikofen May 15, 2021 2h\n",
      "QUERY:  Moon Phase calculatorMay 15, 2021 2h\n"
     ]
    },
    {
     "name": "stderr",
     "output_type": "stream",
     "text": [
      "\r",
      " 18%|█████████████▉                                                                 | 39/221 [13:21<1:01:50, 20.39s/it]"
     ]
    },
    {
     "name": "stdout",
     "output_type": "stream",
     "text": [
      "QUERY:  Precipitation amount in Zollikofen May 15, 2021 3h\n",
      "QUERY:  temperature in Zollikofen May 15, 2021 3h\n",
      "QUERY:  humidity in Zollikofen May 15, 2021 3h\n",
      "ERROR: no data available-------------  humidity in Zollikofen May 15, 2021 3h\n",
      "ERROR:------------- name 'error' is not defined  ----------  humidity in Zollikofen May 15, 2021 3h\n",
      "QUERY:  wind speed in Zollikofen May 15, 2021 3h\n",
      "QUERY:  Moon Phase calculatorMay 15, 2021 3h\n"
     ]
    },
    {
     "name": "stderr",
     "output_type": "stream",
     "text": [
      "\r",
      " 18%|██████████████▎                                                                | 40/221 [13:43<1:02:32, 20.73s/it]"
     ]
    },
    {
     "name": "stdout",
     "output_type": "stream",
     "text": [
      "QUERY:  Precipitation amount in Zollikofen May 15, 2021 4h\n",
      "QUERY:  temperature in Zollikofen May 15, 2021 4h\n",
      "QUERY:  humidity in Zollikofen May 15, 2021 4h\n",
      "ERROR: no data available-------------  humidity in Zollikofen May 15, 2021 4h\n",
      "ERROR:------------- name 'error' is not defined  ----------  humidity in Zollikofen May 15, 2021 4h\n",
      "QUERY:  wind speed in Zollikofen May 15, 2021 4h\n",
      "QUERY:  Moon Phase calculatorMay 15, 2021 4h\n",
      "(7189, 7)\n"
     ]
    },
    {
     "data": {
      "text/html": [
       "<div>\n",
       "<style scoped>\n",
       "    .dataframe tbody tr th:only-of-type {\n",
       "        vertical-align: middle;\n",
       "    }\n",
       "\n",
       "    .dataframe tbody tr th {\n",
       "        vertical-align: top;\n",
       "    }\n",
       "\n",
       "    .dataframe thead th {\n",
       "        text-align: right;\n",
       "    }\n",
       "</style>\n",
       "<table border=\"1\" class=\"dataframe\">\n",
       "  <thead>\n",
       "    <tr style=\"text-align: right;\">\n",
       "      <th></th>\n",
       "      <th>date</th>\n",
       "      <th>temperature</th>\n",
       "      <th>humidity</th>\n",
       "      <th>wind speed</th>\n",
       "      <th>Precipitation amount</th>\n",
       "      <th>query</th>\n",
       "      <th>Moon Phase calculator</th>\n",
       "    </tr>\n",
       "  </thead>\n",
       "  <tbody>\n",
       "    <tr>\n",
       "      <th>8</th>\n",
       "      <td>2021-05-15 03:00:00</td>\n",
       "      <td>8 °C\\n(3:00 am CEST | Saturday, May 15, 2021)</td>\n",
       "      <td>ERROR</td>\n",
       "      <td>2 m/s\\n(3:00 am CEST | Saturday, May 15, 2021)</td>\n",
       "      <td>(unknown)\\n(3:00 am CEST | Saturday, May 15, 2...</td>\n",
       "      <td>Moon Phase calculatorMay 15, 2021 3h</td>\n",
       "      <td>| waxing crescent moon\\n9.26% illuminated</td>\n",
       "    </tr>\n",
       "    <tr>\n",
       "      <th>9</th>\n",
       "      <td>2021-05-15 04:00:00</td>\n",
       "      <td>8 °C\\n(4:00 am CEST | Saturday, May 15, 2021)</td>\n",
       "      <td>ERROR</td>\n",
       "      <td>2 m/s\\n(4:00 am CEST | Saturday, May 15, 2021)</td>\n",
       "      <td>(unknown)\\n(4:00 am CEST | Saturday, May 15, 2...</td>\n",
       "      <td>Moon Phase calculatorMay 15, 2021 4h</td>\n",
       "      <td>| waxing crescent moon\\n9.50% illuminated</td>\n",
       "    </tr>\n",
       "  </tbody>\n",
       "</table>\n",
       "</div>"
      ],
      "text/plain": [
       "                 date                                    temperature humidity  \\\n",
       "8 2021-05-15 03:00:00  8 °C\\n(3:00 am CEST | Saturday, May 15, 2021)    ERROR   \n",
       "9 2021-05-15 04:00:00  8 °C\\n(4:00 am CEST | Saturday, May 15, 2021)    ERROR   \n",
       "\n",
       "                                       wind speed  \\\n",
       "8  2 m/s\\n(3:00 am CEST | Saturday, May 15, 2021)   \n",
       "9  2 m/s\\n(4:00 am CEST | Saturday, May 15, 2021)   \n",
       "\n",
       "                                Precipitation amount  \\\n",
       "8  (unknown)\\n(3:00 am CEST | Saturday, May 15, 2...   \n",
       "9  (unknown)\\n(4:00 am CEST | Saturday, May 15, 2...   \n",
       "\n",
       "                                  query  \\\n",
       "8  Moon Phase calculatorMay 15, 2021 3h   \n",
       "9  Moon Phase calculatorMay 15, 2021 4h   \n",
       "\n",
       "                       Moon Phase calculator  \n",
       "8  | waxing crescent moon\\n9.26% illuminated  \n",
       "9  | waxing crescent moon\\n9.50% illuminated  "
      ]
     },
     "metadata": {},
     "output_type": "display_data"
    },
    {
     "name": "stderr",
     "output_type": "stream",
     "text": [
      "\r",
      " 19%|██████████████▋                                                                | 41/221 [14:03<1:01:37, 20.54s/it]"
     ]
    },
    {
     "name": "stdout",
     "output_type": "stream",
     "text": [
      "QUERY:  Precipitation amount in Zollikofen May 15, 2021 5h\n",
      "QUERY:  temperature in Zollikofen May 15, 2021 5h\n",
      "QUERY:  humidity in Zollikofen May 15, 2021 5h\n",
      "ERROR: no data available-------------  humidity in Zollikofen May 15, 2021 5h\n",
      "ERROR:------------- name 'error' is not defined  ----------  humidity in Zollikofen May 15, 2021 5h\n",
      "QUERY:  wind speed in Zollikofen May 15, 2021 5h\n",
      "QUERY:  Moon Phase calculatorMay 15, 2021 5h\n"
     ]
    },
    {
     "name": "stderr",
     "output_type": "stream",
     "text": [
      "\r",
      " 19%|███████████████                                                                | 42/221 [14:25<1:03:11, 21.18s/it]"
     ]
    },
    {
     "name": "stdout",
     "output_type": "stream",
     "text": [
      "QUERY:  Precipitation amount in Zollikofen May 15, 2021 6h\n",
      "QUERY:  temperature in Zollikofen May 15, 2021 6h\n",
      "QUERY:  humidity in Zollikofen May 15, 2021 6h\n",
      "ERROR: no data available-------------  humidity in Zollikofen May 15, 2021 6h\n",
      "ERROR:------------- name 'error' is not defined  ----------  humidity in Zollikofen May 15, 2021 6h\n",
      "QUERY:  wind speed in Zollikofen May 15, 2021 6h\n",
      "QUERY:  Moon Phase calculatorMay 15, 2021 6h\n"
     ]
    },
    {
     "name": "stderr",
     "output_type": "stream",
     "text": [
      "\r",
      " 19%|███████████████▎                                                               | 43/221 [14:46<1:02:01, 20.91s/it]"
     ]
    },
    {
     "name": "stdout",
     "output_type": "stream",
     "text": [
      "QUERY:  Precipitation amount in Zollikofen May 15, 2021 7h\n",
      "QUERY:  temperature in Zollikofen May 15, 2021 7h\n",
      "QUERY:  humidity in Zollikofen May 15, 2021 7h\n",
      "ERROR: no data available-------------  humidity in Zollikofen May 15, 2021 7h\n",
      "ERROR:------------- name 'error' is not defined  ----------  humidity in Zollikofen May 15, 2021 7h\n",
      "QUERY:  wind speed in Zollikofen May 15, 2021 7h\n",
      "QUERY:  Moon Phase calculatorMay 15, 2021 7h\n"
     ]
    },
    {
     "name": "stderr",
     "output_type": "stream",
     "text": [
      "\r",
      " 20%|███████████████▋                                                               | 44/221 [15:06<1:01:25, 20.82s/it]"
     ]
    },
    {
     "name": "stdout",
     "output_type": "stream",
     "text": [
      "QUERY:  Precipitation amount in Zollikofen May 15, 2021 8h\n",
      "QUERY:  temperature in Zollikofen May 15, 2021 8h\n",
      "QUERY:  humidity in Zollikofen May 15, 2021 8h\n",
      "ERROR: no data available-------------  humidity in Zollikofen May 15, 2021 8h\n",
      "ERROR:------------- name 'error' is not defined  ----------  humidity in Zollikofen May 15, 2021 8h\n",
      "QUERY:  wind speed in Zollikofen May 15, 2021 8h\n",
      "QUERY:  Moon Phase calculatorMay 15, 2021 8h\n"
     ]
    },
    {
     "name": "stderr",
     "output_type": "stream",
     "text": [
      "\r",
      " 20%|████████████████                                                               | 45/221 [15:30<1:03:11, 21.54s/it]"
     ]
    },
    {
     "name": "stdout",
     "output_type": "stream",
     "text": [
      "QUERY:  Precipitation amount in Zollikofen May 15, 2021 9h\n",
      "QUERY:  temperature in Zollikofen May 15, 2021 9h\n",
      "QUERY:  humidity in Zollikofen May 15, 2021 9h\n",
      "ERROR:------------- results  ----------  humidity in Zollikofen May 15, 2021 9h\n",
      "QUERY:  wind speed in Zollikofen May 15, 2021 9h\n",
      "QUERY:  Moon Phase calculatorMay 15, 2021 9h\n"
     ]
    },
    {
     "name": "stderr",
     "output_type": "stream",
     "text": [
      "\r",
      " 21%|████████████████▍                                                              | 46/221 [15:52<1:03:51, 21.90s/it]"
     ]
    },
    {
     "name": "stdout",
     "output_type": "stream",
     "text": [
      "QUERY:  Precipitation amount in Zollikofen May 15, 2021 10h\n",
      "QUERY:  temperature in Zollikofen May 15, 2021 10h\n",
      "ERROR:------------- results  ----------  temperature in Zollikofen May 15, 2021 10h\n",
      "QUERY:  humidity in Zollikofen May 15, 2021 10h\n",
      "ERROR: no data available-------------  humidity in Zollikofen May 15, 2021 10h\n",
      "ERROR:------------- name 'error' is not defined  ----------  humidity in Zollikofen May 15, 2021 10h\n",
      "QUERY:  wind speed in Zollikofen May 15, 2021 10h\n",
      "QUERY:  Moon Phase calculatorMay 15, 2021 10h\n"
     ]
    },
    {
     "name": "stderr",
     "output_type": "stream",
     "text": [
      "\r",
      " 21%|████████████████▊                                                              | 47/221 [16:14<1:03:09, 21.78s/it]"
     ]
    },
    {
     "name": "stdout",
     "output_type": "stream",
     "text": [
      "QUERY:  Precipitation amount in Zollikofen May 15, 2021 11h\n",
      "QUERY:  temperature in Zollikofen May 15, 2021 11h\n",
      "QUERY:  humidity in Zollikofen May 15, 2021 11h\n",
      "ERROR: no data available-------------  humidity in Zollikofen May 15, 2021 11h\n",
      "ERROR:------------- name 'error' is not defined  ----------  humidity in Zollikofen May 15, 2021 11h\n",
      "QUERY:  wind speed in Zollikofen May 15, 2021 11h\n",
      "QUERY:  Moon Phase calculatorMay 15, 2021 11h\n"
     ]
    },
    {
     "name": "stderr",
     "output_type": "stream",
     "text": [
      "\r",
      " 22%|█████████████████▏                                                             | 48/221 [16:34<1:01:13, 21.24s/it]"
     ]
    },
    {
     "name": "stdout",
     "output_type": "stream",
     "text": [
      "QUERY:  Precipitation amount in Zollikofen May 15, 2021 12h\n",
      "QUERY:  temperature in Zollikofen May 15, 2021 12h\n",
      "ERROR:------------- results  ----------  temperature in Zollikofen May 15, 2021 12h\n",
      "QUERY:  humidity in Zollikofen May 15, 2021 12h\n",
      "ERROR:------------- results  ----------  humidity in Zollikofen May 15, 2021 12h\n",
      "QUERY:  wind speed in Zollikofen May 15, 2021 12h\n",
      "QUERY:  Moon Phase calculatorMay 15, 2021 12h\n"
     ]
    },
    {
     "name": "stderr",
     "output_type": "stream",
     "text": [
      "\r",
      " 22%|█████████████████▌                                                             | 49/221 [16:57<1:02:41, 21.87s/it]"
     ]
    },
    {
     "name": "stdout",
     "output_type": "stream",
     "text": [
      "QUERY:  Precipitation amount in Zollikofen May 15, 2021 13h\n",
      "ERROR:------------- results  ----------  Precipitation amount in Zollikofen May 15, 2021 13h\n",
      "QUERY:  temperature in Zollikofen May 15, 2021 13h\n",
      "QUERY:  humidity in Zollikofen May 15, 2021 13h\n",
      "ERROR: no data available-------------  humidity in Zollikofen May 15, 2021 13h\n",
      "ERROR:------------- name 'error' is not defined  ----------  humidity in Zollikofen May 15, 2021 13h\n",
      "QUERY:  wind speed in Zollikofen May 15, 2021 13h\n",
      "QUERY:  Moon Phase calculatorMay 15, 2021 13h\n"
     ]
    },
    {
     "name": "stderr",
     "output_type": "stream",
     "text": [
      "\r",
      " 23%|█████████████████▊                                                             | 50/221 [17:21<1:03:44, 22.37s/it]"
     ]
    },
    {
     "name": "stdout",
     "output_type": "stream",
     "text": [
      "QUERY:  Precipitation amount in Zollikofen May 15, 2021 14h\n",
      "QUERY:  temperature in Zollikofen May 15, 2021 14h\n",
      "QUERY:  humidity in Zollikofen May 15, 2021 14h\n",
      "ERROR: no data available-------------  humidity in Zollikofen May 15, 2021 14h\n",
      "ERROR:------------- name 'error' is not defined  ----------  humidity in Zollikofen May 15, 2021 14h\n",
      "QUERY:  wind speed in Zollikofen May 15, 2021 14h\n",
      "QUERY:  Moon Phase calculatorMay 15, 2021 14h\n",
      "(7199, 7)\n"
     ]
    },
    {
     "data": {
      "text/html": [
       "<div>\n",
       "<style scoped>\n",
       "    .dataframe tbody tr th:only-of-type {\n",
       "        vertical-align: middle;\n",
       "    }\n",
       "\n",
       "    .dataframe tbody tr th {\n",
       "        vertical-align: top;\n",
       "    }\n",
       "\n",
       "    .dataframe thead th {\n",
       "        text-align: right;\n",
       "    }\n",
       "</style>\n",
       "<table border=\"1\" class=\"dataframe\">\n",
       "  <thead>\n",
       "    <tr style=\"text-align: right;\">\n",
       "      <th></th>\n",
       "      <th>date</th>\n",
       "      <th>temperature</th>\n",
       "      <th>humidity</th>\n",
       "      <th>wind speed</th>\n",
       "      <th>Precipitation amount</th>\n",
       "      <th>query</th>\n",
       "      <th>Moon Phase calculator</th>\n",
       "    </tr>\n",
       "  </thead>\n",
       "  <tbody>\n",
       "    <tr>\n",
       "      <th>8</th>\n",
       "      <td>2021-05-15 13:00:00</td>\n",
       "      <td>8 °C\\n(1:00 pm CEST | Saturday, May 15, 2021)</td>\n",
       "      <td>ERROR</td>\n",
       "      <td>2 m/s\\n(1:00 pm CEST | Saturday, May 15, 2021)</td>\n",
       "      <td>ERROR</td>\n",
       "      <td>Moon Phase calculatorMay 15, 2021 13h</td>\n",
       "      <td>| waxing crescent moon\\n11.72% illuminated</td>\n",
       "    </tr>\n",
       "    <tr>\n",
       "      <th>9</th>\n",
       "      <td>2021-05-15 14:00:00</td>\n",
       "      <td>8 °C\\n(2:00 pm CEST | Saturday, May 15, 2021)</td>\n",
       "      <td>ERROR</td>\n",
       "      <td>2 m/s\\n(2:00 pm CEST | Saturday, May 15, 2021)</td>\n",
       "      <td>(unknown)\\n(2:00 pm CEST | Saturday, May 15, 2...</td>\n",
       "      <td>Moon Phase calculatorMay 15, 2021 14h</td>\n",
       "      <td>| waxing crescent moon\\n11.98% illuminated</td>\n",
       "    </tr>\n",
       "  </tbody>\n",
       "</table>\n",
       "</div>"
      ],
      "text/plain": [
       "                 date                                    temperature humidity  \\\n",
       "8 2021-05-15 13:00:00  8 °C\\n(1:00 pm CEST | Saturday, May 15, 2021)    ERROR   \n",
       "9 2021-05-15 14:00:00  8 °C\\n(2:00 pm CEST | Saturday, May 15, 2021)    ERROR   \n",
       "\n",
       "                                       wind speed  \\\n",
       "8  2 m/s\\n(1:00 pm CEST | Saturday, May 15, 2021)   \n",
       "9  2 m/s\\n(2:00 pm CEST | Saturday, May 15, 2021)   \n",
       "\n",
       "                                Precipitation amount  \\\n",
       "8                                              ERROR   \n",
       "9  (unknown)\\n(2:00 pm CEST | Saturday, May 15, 2...   \n",
       "\n",
       "                                   query  \\\n",
       "8  Moon Phase calculatorMay 15, 2021 13h   \n",
       "9  Moon Phase calculatorMay 15, 2021 14h   \n",
       "\n",
       "                        Moon Phase calculator  \n",
       "8  | waxing crescent moon\\n11.72% illuminated  \n",
       "9  | waxing crescent moon\\n11.98% illuminated  "
      ]
     },
     "metadata": {},
     "output_type": "display_data"
    },
    {
     "name": "stderr",
     "output_type": "stream",
     "text": [
      "\r",
      " 23%|██████████████████▏                                                            | 51/221 [17:41<1:02:01, 21.89s/it]"
     ]
    },
    {
     "name": "stdout",
     "output_type": "stream",
     "text": [
      "QUERY:  Precipitation amount in Zollikofen May 15, 2021 15h\n",
      "QUERY:  temperature in Zollikofen May 15, 2021 15h\n",
      "QUERY:  humidity in Zollikofen May 15, 2021 15h\n",
      "ERROR: no data available-------------  humidity in Zollikofen May 15, 2021 15h\n",
      "ERROR:------------- name 'error' is not defined  ----------  humidity in Zollikofen May 15, 2021 15h\n",
      "QUERY:  wind speed in Zollikofen May 15, 2021 15h\n",
      "ERROR:------------- results  ----------  wind speed in Zollikofen May 15, 2021 15h\n",
      "QUERY:  Moon Phase calculatorMay 15, 2021 15h\n"
     ]
    },
    {
     "name": "stderr",
     "output_type": "stream",
     "text": [
      "\r",
      " 24%|██████████████████▌                                                            | 52/221 [18:04<1:02:34, 22.21s/it]"
     ]
    },
    {
     "name": "stdout",
     "output_type": "stream",
     "text": [
      "QUERY:  Precipitation amount in Zollikofen May 15, 2021 16h\n",
      "QUERY:  temperature in Zollikofen May 15, 2021 16h\n",
      "QUERY:  humidity in Zollikofen May 15, 2021 16h\n",
      "ERROR: no data available-------------  humidity in Zollikofen May 15, 2021 16h\n",
      "ERROR:------------- name 'error' is not defined  ----------  humidity in Zollikofen May 15, 2021 16h\n",
      "QUERY:  wind speed in Zollikofen May 15, 2021 16h\n",
      "QUERY:  Moon Phase calculatorMay 15, 2021 16h\n"
     ]
    },
    {
     "name": "stderr",
     "output_type": "stream",
     "text": [
      "\r",
      " 24%|██████████████████▉                                                            | 53/221 [18:25<1:01:15, 21.88s/it]"
     ]
    },
    {
     "name": "stdout",
     "output_type": "stream",
     "text": [
      "QUERY:  Precipitation amount in Zollikofen May 15, 2021 17h\n",
      "ERROR:------------- results  ----------  Precipitation amount in Zollikofen May 15, 2021 17h\n",
      "QUERY:  temperature in Zollikofen May 15, 2021 17h\n",
      "QUERY:  humidity in Zollikofen May 15, 2021 17h\n",
      "ERROR: no data available-------------  humidity in Zollikofen May 15, 2021 17h\n",
      "ERROR:------------- name 'error' is not defined  ----------  humidity in Zollikofen May 15, 2021 17h\n",
      "QUERY:  wind speed in Zollikofen May 15, 2021 17h\n",
      "QUERY:  Moon Phase calculatorMay 15, 2021 17h\n"
     ]
    },
    {
     "name": "stderr",
     "output_type": "stream",
     "text": [
      "\r",
      " 24%|███████████████████▎                                                           | 54/221 [18:46<1:00:07, 21.60s/it]"
     ]
    },
    {
     "name": "stdout",
     "output_type": "stream",
     "text": [
      "QUERY:  Precipitation amount in Zollikofen May 15, 2021 18h\n",
      "QUERY:  temperature in Zollikofen May 15, 2021 18h\n",
      "QUERY:  humidity in Zollikofen May 15, 2021 18h\n",
      "ERROR: no data available-------------  humidity in Zollikofen May 15, 2021 18h\n",
      "ERROR:------------- name 'error' is not defined  ----------  humidity in Zollikofen May 15, 2021 18h\n",
      "QUERY:  wind speed in Zollikofen May 15, 2021 18h\n",
      "ERROR:------------- results  ----------  wind speed in Zollikofen May 15, 2021 18h\n",
      "QUERY:  Moon Phase calculatorMay 15, 2021 18h\n"
     ]
    },
    {
     "name": "stderr",
     "output_type": "stream",
     "text": [
      "\r",
      " 25%|████████████████████▏                                                            | 55/221 [19:08<59:25, 21.48s/it]"
     ]
    },
    {
     "name": "stdout",
     "output_type": "stream",
     "text": [
      "QUERY:  Precipitation amount in Zollikofen May 15, 2021 19h\n",
      "QUERY:  temperature in Zollikofen May 15, 2021 19h\n",
      "QUERY:  humidity in Zollikofen May 15, 2021 19h\n",
      "ERROR: no data available-------------  humidity in Zollikofen May 15, 2021 19h\n",
      "ERROR:------------- name 'error' is not defined  ----------  humidity in Zollikofen May 15, 2021 19h\n",
      "QUERY:  wind speed in Zollikofen May 15, 2021 19h\n",
      "QUERY:  Moon Phase calculatorMay 15, 2021 19h\n"
     ]
    },
    {
     "name": "stderr",
     "output_type": "stream",
     "text": [
      "\r",
      " 25%|████████████████████▌                                                            | 56/221 [19:28<57:48, 21.02s/it]"
     ]
    },
    {
     "name": "stdout",
     "output_type": "stream",
     "text": [
      "QUERY:  Precipitation amount in Zollikofen May 15, 2021 20h\n",
      "QUERY:  temperature in Zollikofen May 15, 2021 20h\n",
      "QUERY:  humidity in Zollikofen May 15, 2021 20h\n",
      "ERROR: no data available-------------  humidity in Zollikofen May 15, 2021 20h\n",
      "ERROR:------------- name 'error' is not defined  ----------  humidity in Zollikofen May 15, 2021 20h\n",
      "QUERY:  wind speed in Zollikofen May 15, 2021 20h\n",
      "QUERY:  Moon Phase calculatorMay 15, 2021 20h\n"
     ]
    },
    {
     "name": "stderr",
     "output_type": "stream",
     "text": [
      "\r",
      " 26%|████████████████████▉                                                            | 57/221 [19:48<57:13, 20.94s/it]"
     ]
    },
    {
     "name": "stdout",
     "output_type": "stream",
     "text": [
      "QUERY:  Precipitation amount in Zollikofen May 15, 2021 21h\n",
      "QUERY:  temperature in Zollikofen May 15, 2021 21h\n",
      "QUERY:  humidity in Zollikofen May 15, 2021 21h\n",
      "ERROR: no data available-------------  humidity in Zollikofen May 15, 2021 21h\n",
      "ERROR:------------- name 'error' is not defined  ----------  humidity in Zollikofen May 15, 2021 21h\n",
      "QUERY:  wind speed in Zollikofen May 15, 2021 21h\n",
      "QUERY:  Moon Phase calculatorMay 15, 2021 21h\n"
     ]
    },
    {
     "name": "stderr",
     "output_type": "stream",
     "text": [
      "\r",
      " 26%|█████████████████████▎                                                           | 58/221 [20:09<56:35, 20.83s/it]"
     ]
    },
    {
     "name": "stdout",
     "output_type": "stream",
     "text": [
      "QUERY:  Precipitation amount in Zollikofen May 15, 2021 22h\n",
      "QUERY:  temperature in Zollikofen May 15, 2021 22h\n",
      "ERROR: no data available-------------  temperature in Zollikofen May 15, 2021 22h\n",
      "ERROR:------------- name 'error' is not defined  ----------  temperature in Zollikofen May 15, 2021 22h\n",
      "QUERY:  humidity in Zollikofen May 15, 2021 22h\n",
      "ERROR: no data available-------------  humidity in Zollikofen May 15, 2021 22h\n",
      "ERROR:------------- name 'error' is not defined  ----------  humidity in Zollikofen May 15, 2021 22h\n",
      "QUERY:  wind speed in Zollikofen May 15, 2021 22h\n",
      "ERROR: no data available-------------  wind speed in Zollikofen May 15, 2021 22h\n",
      "ERROR:------------- name 'error' is not defined  ----------  wind speed in Zollikofen May 15, 2021 22h\n",
      "QUERY:  Moon Phase calculatorMay 15, 2021 22h\n"
     ]
    },
    {
     "name": "stderr",
     "output_type": "stream",
     "text": [
      "\r",
      " 27%|█████████████████████▌                                                           | 59/221 [20:27<53:58, 19.99s/it]"
     ]
    },
    {
     "name": "stdout",
     "output_type": "stream",
     "text": [
      "QUERY:  Precipitation amount in Zollikofen May 15, 2021 23h\n",
      "QUERY:  temperature in Zollikofen May 15, 2021 23h\n",
      "ERROR: no data available-------------  temperature in Zollikofen May 15, 2021 23h\n",
      "ERROR:------------- name 'error' is not defined  ----------  temperature in Zollikofen May 15, 2021 23h\n",
      "QUERY:  humidity in Zollikofen May 15, 2021 23h\n",
      "ERROR: no data available-------------  humidity in Zollikofen May 15, 2021 23h\n",
      "ERROR:------------- name 'error' is not defined  ----------  humidity in Zollikofen May 15, 2021 23h\n",
      "QUERY:  wind speed in Zollikofen May 15, 2021 23h\n",
      "ERROR: no data available-------------  wind speed in Zollikofen May 15, 2021 23h\n",
      "ERROR:------------- name 'error' is not defined  ----------  wind speed in Zollikofen May 15, 2021 23h\n",
      "QUERY:  Moon Phase calculatorMay 15, 2021 23h\n"
     ]
    },
    {
     "name": "stderr",
     "output_type": "stream",
     "text": [
      "\r",
      " 27%|█████████████████████▉                                                           | 60/221 [20:45<52:08, 19.43s/it]"
     ]
    },
    {
     "name": "stdout",
     "output_type": "stream",
     "text": [
      "QUERY:  Precipitation amount in Zollikofen June 1, 2021 21h\n",
      "QUERY:  temperature in Zollikofen June 1, 2021 21h\n",
      "QUERY:  humidity in Zollikofen June 1, 2021 21h\n",
      "ERROR: no data available-------------  humidity in Zollikofen June 1, 2021 21h\n",
      "ERROR:------------- name 'error' is not defined  ----------  humidity in Zollikofen June 1, 2021 21h\n",
      "QUERY:  wind speed in Zollikofen June 1, 2021 21h\n",
      "QUERY:  Moon Phase calculatorJune 1, 2021 21h\n",
      "(7209, 7)\n"
     ]
    },
    {
     "data": {
      "text/html": [
       "<div>\n",
       "<style scoped>\n",
       "    .dataframe tbody tr th:only-of-type {\n",
       "        vertical-align: middle;\n",
       "    }\n",
       "\n",
       "    .dataframe tbody tr th {\n",
       "        vertical-align: top;\n",
       "    }\n",
       "\n",
       "    .dataframe thead th {\n",
       "        text-align: right;\n",
       "    }\n",
       "</style>\n",
       "<table border=\"1\" class=\"dataframe\">\n",
       "  <thead>\n",
       "    <tr style=\"text-align: right;\">\n",
       "      <th></th>\n",
       "      <th>date</th>\n",
       "      <th>temperature</th>\n",
       "      <th>humidity</th>\n",
       "      <th>wind speed</th>\n",
       "      <th>Precipitation amount</th>\n",
       "      <th>query</th>\n",
       "      <th>Moon Phase calculator</th>\n",
       "    </tr>\n",
       "  </thead>\n",
       "  <tbody>\n",
       "    <tr>\n",
       "      <th>8</th>\n",
       "      <td>2021-05-15 23:00:00</td>\n",
       "      <td>ERROR</td>\n",
       "      <td>ERROR</td>\n",
       "      <td>ERROR</td>\n",
       "      <td>(unknown)\\n(11:00 pm CEST | Saturday, May 15, ...</td>\n",
       "      <td>Moon Phase calculatorMay 15, 2021 23h</td>\n",
       "      <td>| waxing crescent moon\\n14.45% illuminated</td>\n",
       "    </tr>\n",
       "    <tr>\n",
       "      <th>9</th>\n",
       "      <td>2021-06-01 21:00:00</td>\n",
       "      <td>23 °C\\n(9:00 pm CEST | Tuesday, June 1, 2021)</td>\n",
       "      <td>ERROR</td>\n",
       "      <td>4 m/s\\n(9:00 pm CEST | Tuesday, June 1, 2021)</td>\n",
       "      <td>(unknown)\\n(9:00 pm CEST | Tuesday, June 1, 2021)</td>\n",
       "      <td>Moon Phase calculatorJune 1, 2021 21h</td>\n",
       "      <td>| waning gibbous moon\\n55.45% illuminated</td>\n",
       "    </tr>\n",
       "  </tbody>\n",
       "</table>\n",
       "</div>"
      ],
      "text/plain": [
       "                 date                                    temperature humidity  \\\n",
       "8 2021-05-15 23:00:00                                          ERROR    ERROR   \n",
       "9 2021-06-01 21:00:00  23 °C\\n(9:00 pm CEST | Tuesday, June 1, 2021)    ERROR   \n",
       "\n",
       "                                      wind speed  \\\n",
       "8                                          ERROR   \n",
       "9  4 m/s\\n(9:00 pm CEST | Tuesday, June 1, 2021)   \n",
       "\n",
       "                                Precipitation amount  \\\n",
       "8  (unknown)\\n(11:00 pm CEST | Saturday, May 15, ...   \n",
       "9  (unknown)\\n(9:00 pm CEST | Tuesday, June 1, 2021)   \n",
       "\n",
       "                                   query  \\\n",
       "8  Moon Phase calculatorMay 15, 2021 23h   \n",
       "9  Moon Phase calculatorJune 1, 2021 21h   \n",
       "\n",
       "                        Moon Phase calculator  \n",
       "8  | waxing crescent moon\\n14.45% illuminated  \n",
       "9   | waning gibbous moon\\n55.45% illuminated  "
      ]
     },
     "metadata": {},
     "output_type": "display_data"
    },
    {
     "name": "stderr",
     "output_type": "stream",
     "text": [
      "\r",
      " 28%|██████████████████████▎                                                          | 61/221 [21:05<52:18, 19.62s/it]"
     ]
    },
    {
     "name": "stdout",
     "output_type": "stream",
     "text": [
      "QUERY:  Precipitation amount in Zollikofen June 2, 2021 14h\n",
      "QUERY:  temperature in Zollikofen June 2, 2021 14h\n",
      "ERROR: no data available-------------  temperature in Zollikofen June 2, 2021 14h\n",
      "ERROR:------------- name 'error' is not defined  ----------  temperature in Zollikofen June 2, 2021 14h\n",
      "QUERY:  humidity in Zollikofen June 2, 2021 14h\n",
      "QUERY:  wind speed in Zollikofen June 2, 2021 14h\n",
      "ERROR: no data available-------------  wind speed in Zollikofen June 2, 2021 14h\n",
      "ERROR:------------- name 'error' is not defined  ----------  wind speed in Zollikofen June 2, 2021 14h\n",
      "QUERY:  Moon Phase calculatorJune 2, 2021 14h\n"
     ]
    },
    {
     "name": "stderr",
     "output_type": "stream",
     "text": [
      "\r",
      " 28%|██████████████████████▋                                                          | 62/221 [21:23<50:14, 18.96s/it]"
     ]
    },
    {
     "name": "stdout",
     "output_type": "stream",
     "text": [
      "QUERY:  Precipitation amount in Zollikofen June 2, 2021 15h\n",
      "QUERY:  temperature in Zollikofen June 2, 2021 15h\n",
      "ERROR: no data available-------------  temperature in Zollikofen June 2, 2021 15h\n",
      "ERROR:------------- name 'error' is not defined  ----------  temperature in Zollikofen June 2, 2021 15h\n",
      "QUERY:  humidity in Zollikofen June 2, 2021 15h\n",
      "QUERY:  wind speed in Zollikofen June 2, 2021 15h\n",
      "ERROR: no data available-------------  wind speed in Zollikofen June 2, 2021 15h\n",
      "ERROR:------------- name 'error' is not defined  ----------  wind speed in Zollikofen June 2, 2021 15h\n",
      "QUERY:  Moon Phase calculatorJune 2, 2021 15h\n"
     ]
    },
    {
     "name": "stderr",
     "output_type": "stream",
     "text": [
      "\r",
      " 29%|███████████████████████                                                          | 63/221 [21:41<49:45, 18.89s/it]"
     ]
    },
    {
     "name": "stdout",
     "output_type": "stream",
     "text": [
      "QUERY:  Precipitation amount in Zollikofen June 2, 2021 16h\n",
      "QUERY:  temperature in Zollikofen June 2, 2021 16h\n",
      "ERROR: no data available-------------  temperature in Zollikofen June 2, 2021 16h\n",
      "ERROR:------------- name 'error' is not defined  ----------  temperature in Zollikofen June 2, 2021 16h\n",
      "QUERY:  humidity in Zollikofen June 2, 2021 16h\n",
      "QUERY:  wind speed in Zollikofen June 2, 2021 16h\n",
      "ERROR: no data available-------------  wind speed in Zollikofen June 2, 2021 16h\n",
      "ERROR:------------- name 'error' is not defined  ----------  wind speed in Zollikofen June 2, 2021 16h\n",
      "QUERY:  Moon Phase calculatorJune 2, 2021 16h\n"
     ]
    },
    {
     "name": "stderr",
     "output_type": "stream",
     "text": [
      "\r",
      " 29%|███████████████████████▍                                                         | 64/221 [21:58<47:37, 18.20s/it]"
     ]
    },
    {
     "name": "stdout",
     "output_type": "stream",
     "text": [
      "QUERY:  Precipitation amount in Zollikofen June 4, 2021 23h\n",
      "QUERY:  temperature in Zollikofen June 4, 2021 23h\n",
      "QUERY:  humidity in Zollikofen June 4, 2021 23h\n",
      "ERROR: no data available-------------  humidity in Zollikofen June 4, 2021 23h\n",
      "ERROR:------------- name 'error' is not defined  ----------  humidity in Zollikofen June 4, 2021 23h\n",
      "QUERY:  wind speed in Zollikofen June 4, 2021 23h\n",
      "QUERY:  Moon Phase calculatorJune 4, 2021 23h\n"
     ]
    },
    {
     "name": "stderr",
     "output_type": "stream",
     "text": [
      "\r",
      " 29%|███████████████████████▊                                                         | 65/221 [22:16<47:01, 18.09s/it]"
     ]
    },
    {
     "name": "stdout",
     "output_type": "stream",
     "text": [
      "QUERY:  Precipitation amount in Zollikofen June 8, 2021 20h\n",
      "QUERY:  temperature in Zollikofen June 8, 2021 20h\n",
      "QUERY:  humidity in Zollikofen June 8, 2021 20h\n",
      "ERROR: no data available-------------  humidity in Zollikofen June 8, 2021 20h\n",
      "ERROR:------------- name 'error' is not defined  ----------  humidity in Zollikofen June 8, 2021 20h\n",
      "QUERY:  wind speed in Zollikofen June 8, 2021 20h\n",
      "QUERY:  Moon Phase calculatorJune 8, 2021 20h\n"
     ]
    },
    {
     "name": "stderr",
     "output_type": "stream",
     "text": [
      "\r",
      " 30%|████████████████████████▏                                                        | 66/221 [22:33<46:11, 17.88s/it]"
     ]
    },
    {
     "name": "stdout",
     "output_type": "stream",
     "text": [
      "QUERY:  Precipitation amount in Zollikofen June 22, 2021 6h\n",
      "QUERY:  temperature in Zollikofen June 22, 2021 6h\n",
      "QUERY:  humidity in Zollikofen June 22, 2021 6h\n",
      "ERROR: no data available-------------  humidity in Zollikofen June 22, 2021 6h\n",
      "ERROR:------------- name 'error' is not defined  ----------  humidity in Zollikofen June 22, 2021 6h\n",
      "QUERY:  wind speed in Zollikofen June 22, 2021 6h\n",
      "QUERY:  Moon Phase calculatorJune 22, 2021 6h\n"
     ]
    },
    {
     "name": "stderr",
     "output_type": "stream",
     "text": [
      "\r",
      " 30%|████████████████████████▌                                                        | 67/221 [22:51<45:35, 17.76s/it]"
     ]
    },
    {
     "name": "stdout",
     "output_type": "stream",
     "text": [
      "QUERY:  Precipitation amount in Zollikofen July 20, 2021 4h\n",
      "QUERY:  temperature in Zollikofen July 20, 2021 4h\n",
      "QUERY:  humidity in Zollikofen July 20, 2021 4h\n",
      "QUERY:  wind speed in Zollikofen July 20, 2021 4h\n",
      "QUERY:  Moon Phase calculatorJuly 20, 2021 4h\n"
     ]
    },
    {
     "name": "stderr",
     "output_type": "stream",
     "text": [
      "\r",
      " 31%|████████████████████████▉                                                        | 68/221 [23:07<43:57, 17.24s/it]"
     ]
    },
    {
     "name": "stdout",
     "output_type": "stream",
     "text": [
      "QUERY:  Precipitation amount in Zollikofen July 23, 2021 6h\n",
      "QUERY:  temperature in Zollikofen July 23, 2021 6h\n",
      "QUERY:  humidity in Zollikofen July 23, 2021 6h\n",
      "QUERY:  wind speed in Zollikofen July 23, 2021 6h\n",
      "QUERY:  Moon Phase calculatorJuly 23, 2021 6h\n"
     ]
    },
    {
     "name": "stderr",
     "output_type": "stream",
     "text": [
      "\r",
      " 31%|█████████████████████████▎                                                       | 69/221 [23:23<43:04, 17.00s/it]"
     ]
    },
    {
     "name": "stdout",
     "output_type": "stream",
     "text": [
      "QUERY:  Precipitation amount in Zollikofen July 24, 2021 18h\n",
      "QUERY:  temperature in Zollikofen July 24, 2021 18h\n",
      "QUERY:  humidity in Zollikofen July 24, 2021 18h\n",
      "ERROR: no data available-------------  humidity in Zollikofen July 24, 2021 18h\n",
      "ERROR:------------- name 'error' is not defined  ----------  humidity in Zollikofen July 24, 2021 18h\n",
      "QUERY:  wind speed in Zollikofen July 24, 2021 18h\n",
      "QUERY:  Moon Phase calculatorJuly 24, 2021 18h\n"
     ]
    },
    {
     "name": "stderr",
     "output_type": "stream",
     "text": [
      "\r",
      " 32%|█████████████████████████▋                                                       | 70/221 [23:41<43:13, 17.17s/it]"
     ]
    },
    {
     "name": "stdout",
     "output_type": "stream",
     "text": [
      "QUERY:  Precipitation amount in Zollikofen July 24, 2021 19h\n",
      "QUERY:  temperature in Zollikofen July 24, 2021 19h\n",
      "QUERY:  humidity in Zollikofen July 24, 2021 19h\n",
      "ERROR: no data available-------------  humidity in Zollikofen July 24, 2021 19h\n",
      "ERROR:------------- name 'error' is not defined  ----------  humidity in Zollikofen July 24, 2021 19h\n",
      "QUERY:  wind speed in Zollikofen July 24, 2021 19h\n",
      "QUERY:  Moon Phase calculatorJuly 24, 2021 19h\n",
      "(7219, 7)\n"
     ]
    },
    {
     "data": {
      "text/html": [
       "<div>\n",
       "<style scoped>\n",
       "    .dataframe tbody tr th:only-of-type {\n",
       "        vertical-align: middle;\n",
       "    }\n",
       "\n",
       "    .dataframe tbody tr th {\n",
       "        vertical-align: top;\n",
       "    }\n",
       "\n",
       "    .dataframe thead th {\n",
       "        text-align: right;\n",
       "    }\n",
       "</style>\n",
       "<table border=\"1\" class=\"dataframe\">\n",
       "  <thead>\n",
       "    <tr style=\"text-align: right;\">\n",
       "      <th></th>\n",
       "      <th>date</th>\n",
       "      <th>temperature</th>\n",
       "      <th>humidity</th>\n",
       "      <th>wind speed</th>\n",
       "      <th>Precipitation amount</th>\n",
       "      <th>query</th>\n",
       "      <th>Moon Phase calculator</th>\n",
       "    </tr>\n",
       "  </thead>\n",
       "  <tbody>\n",
       "    <tr>\n",
       "      <th>8</th>\n",
       "      <td>2021-07-24 18:00:00</td>\n",
       "      <td>23 °C\\n(6:00 pm CEST | Saturday, July 24, 2021)</td>\n",
       "      <td>ERROR</td>\n",
       "      <td>1 m/s\\n(6:00 pm CEST | Saturday, July 24, 2021)</td>\n",
       "      <td>no precipitation\\n(6:00 pm CEST | Saturday, Ju...</td>\n",
       "      <td>Moon Phase calculatorJuly 24, 2021 18h</td>\n",
       "      <td>| waning gibbous moon\\n99.44% illuminated</td>\n",
       "    </tr>\n",
       "    <tr>\n",
       "      <th>9</th>\n",
       "      <td>2021-07-24 19:00:00</td>\n",
       "      <td>22 °C\\n(7:00 pm CEST | Saturday, July 24, 2021)</td>\n",
       "      <td>ERROR</td>\n",
       "      <td>1 m/s\\n(7:00 pm CEST | Saturday, July 24, 2021)</td>\n",
       "      <td>no precipitation\\n(7:00 pm CEST | Saturday, Ju...</td>\n",
       "      <td>Moon Phase calculatorJuly 24, 2021 19h</td>\n",
       "      <td>| waning gibbous moon\\n99.37% illuminated</td>\n",
       "    </tr>\n",
       "  </tbody>\n",
       "</table>\n",
       "</div>"
      ],
      "text/plain": [
       "                 date                                      temperature  \\\n",
       "8 2021-07-24 18:00:00  23 °C\\n(6:00 pm CEST | Saturday, July 24, 2021)   \n",
       "9 2021-07-24 19:00:00  22 °C\\n(7:00 pm CEST | Saturday, July 24, 2021)   \n",
       "\n",
       "  humidity                                       wind speed  \\\n",
       "8    ERROR  1 m/s\\n(6:00 pm CEST | Saturday, July 24, 2021)   \n",
       "9    ERROR  1 m/s\\n(7:00 pm CEST | Saturday, July 24, 2021)   \n",
       "\n",
       "                                Precipitation amount  \\\n",
       "8  no precipitation\\n(6:00 pm CEST | Saturday, Ju...   \n",
       "9  no precipitation\\n(7:00 pm CEST | Saturday, Ju...   \n",
       "\n",
       "                                    query  \\\n",
       "8  Moon Phase calculatorJuly 24, 2021 18h   \n",
       "9  Moon Phase calculatorJuly 24, 2021 19h   \n",
       "\n",
       "                       Moon Phase calculator  \n",
       "8  | waning gibbous moon\\n99.44% illuminated  \n",
       "9  | waning gibbous moon\\n99.37% illuminated  "
      ]
     },
     "metadata": {},
     "output_type": "display_data"
    },
    {
     "name": "stderr",
     "output_type": "stream",
     "text": [
      "\r",
      " 32%|██████████████████████████                                                       | 71/221 [23:58<42:54, 17.17s/it]"
     ]
    },
    {
     "name": "stdout",
     "output_type": "stream",
     "text": [
      "QUERY:  Precipitation amount in Zollikofen July 24, 2021 20h\n",
      "QUERY:  temperature in Zollikofen July 24, 2021 20h\n",
      "QUERY:  humidity in Zollikofen July 24, 2021 20h\n",
      "ERROR: no data available-------------  humidity in Zollikofen July 24, 2021 20h\n",
      "ERROR:------------- name 'error' is not defined  ----------  humidity in Zollikofen July 24, 2021 20h\n",
      "QUERY:  wind speed in Zollikofen July 24, 2021 20h\n",
      "QUERY:  Moon Phase calculatorJuly 24, 2021 20h\n"
     ]
    },
    {
     "name": "stderr",
     "output_type": "stream",
     "text": [
      "\r",
      " 33%|██████████████████████████▍                                                      | 72/221 [24:15<42:32, 17.13s/it]"
     ]
    },
    {
     "name": "stdout",
     "output_type": "stream",
     "text": [
      "QUERY:  Precipitation amount in Zollikofen July 26, 2021 20h\n",
      "QUERY:  temperature in Zollikofen July 26, 2021 20h\n",
      "QUERY:  humidity in Zollikofen July 26, 2021 20h\n",
      "QUERY:  wind speed in Zollikofen July 26, 2021 20h\n",
      "QUERY:  Moon Phase calculatorJuly 26, 2021 20h\n"
     ]
    },
    {
     "name": "stderr",
     "output_type": "stream",
     "text": [
      "\r",
      " 33%|██████████████████████████▊                                                      | 73/221 [24:32<42:04, 17.06s/it]"
     ]
    },
    {
     "name": "stdout",
     "output_type": "stream",
     "text": [
      "QUERY:  Precipitation amount in Zollikofen July 26, 2021 21h\n",
      "QUERY:  temperature in Zollikofen July 26, 2021 21h\n",
      "QUERY:  humidity in Zollikofen July 26, 2021 21h\n",
      "QUERY:  wind speed in Zollikofen July 26, 2021 21h\n",
      "QUERY:  Moon Phase calculatorJuly 26, 2021 21h\n"
     ]
    },
    {
     "name": "stderr",
     "output_type": "stream",
     "text": [
      "\r",
      " 33%|███████████████████████████                                                      | 74/221 [24:49<41:43, 17.03s/it]"
     ]
    },
    {
     "name": "stdout",
     "output_type": "stream",
     "text": [
      "QUERY:  Precipitation amount in Zollikofen July 26, 2021 22h\n",
      "QUERY:  temperature in Zollikofen July 26, 2021 22h\n",
      "QUERY:  humidity in Zollikofen July 26, 2021 22h\n",
      "QUERY:  wind speed in Zollikofen July 26, 2021 22h\n",
      "QUERY:  Moon Phase calculatorJuly 26, 2021 22h\n"
     ]
    },
    {
     "name": "stderr",
     "output_type": "stream",
     "text": [
      "\r",
      " 34%|███████████████████████████▍                                                     | 75/221 [25:05<41:11, 16.93s/it]"
     ]
    },
    {
     "name": "stdout",
     "output_type": "stream",
     "text": [
      "QUERY:  Precipitation amount in Zollikofen July 26, 2021 23h\n",
      "QUERY:  temperature in Zollikofen July 26, 2021 23h\n",
      "QUERY:  humidity in Zollikofen July 26, 2021 23h\n",
      "QUERY:  wind speed in Zollikofen July 26, 2021 23h\n",
      "QUERY:  Moon Phase calculatorJuly 26, 2021 23h\n"
     ]
    },
    {
     "name": "stderr",
     "output_type": "stream",
     "text": [
      "\r",
      " 34%|███████████████████████████▊                                                     | 76/221 [25:26<43:27, 17.98s/it]"
     ]
    },
    {
     "name": "stdout",
     "output_type": "stream",
     "text": [
      "QUERY:  Precipitation amount in Zollikofen July 27, 2021 0h\n",
      "QUERY:  temperature in Zollikofen July 27, 2021 0h\n",
      "QUERY:  humidity in Zollikofen July 27, 2021 0h\n",
      "QUERY:  wind speed in Zollikofen July 27, 2021 0h\n",
      "QUERY:  Moon Phase calculatorJuly 27, 2021 0h\n"
     ]
    },
    {
     "name": "stderr",
     "output_type": "stream",
     "text": [
      "\r",
      " 35%|████████████████████████████▏                                                    | 77/221 [25:47<45:31, 18.97s/it]"
     ]
    },
    {
     "name": "stdout",
     "output_type": "stream",
     "text": [
      "QUERY:  Precipitation amount in Zollikofen July 27, 2021 1h\n",
      "QUERY:  temperature in Zollikofen July 27, 2021 1h\n",
      "QUERY:  humidity in Zollikofen July 27, 2021 1h\n",
      "QUERY:  wind speed in Zollikofen July 27, 2021 1h\n",
      "QUERY:  Moon Phase calculatorJuly 27, 2021 1h\n"
     ]
    },
    {
     "name": "stderr",
     "output_type": "stream",
     "text": [
      "\r",
      " 35%|████████████████████████████▌                                                    | 78/221 [26:07<45:49, 19.23s/it]"
     ]
    },
    {
     "name": "stdout",
     "output_type": "stream",
     "text": [
      "QUERY:  Precipitation amount in Zollikofen July 27, 2021 2h\n",
      "QUERY:  temperature in Zollikofen July 27, 2021 2h\n",
      "QUERY:  humidity in Zollikofen July 27, 2021 2h\n",
      "QUERY:  wind speed in Zollikofen July 27, 2021 2h\n",
      "QUERY:  Moon Phase calculatorJuly 27, 2021 2h\n"
     ]
    },
    {
     "name": "stderr",
     "output_type": "stream",
     "text": [
      "\r",
      " 36%|████████████████████████████▉                                                    | 79/221 [26:28<46:35, 19.68s/it]"
     ]
    },
    {
     "name": "stdout",
     "output_type": "stream",
     "text": [
      "QUERY:  Precipitation amount in Zollikofen July 27, 2021 3h\n",
      "QUERY:  temperature in Zollikofen July 27, 2021 3h\n",
      "QUERY:  humidity in Zollikofen July 27, 2021 3h\n",
      "QUERY:  wind speed in Zollikofen July 27, 2021 3h\n",
      "QUERY:  Moon Phase calculatorJuly 27, 2021 3h\n"
     ]
    },
    {
     "name": "stderr",
     "output_type": "stream",
     "text": [
      "\r",
      " 36%|█████████████████████████████▎                                                   | 80/221 [26:48<46:24, 19.75s/it]"
     ]
    },
    {
     "name": "stdout",
     "output_type": "stream",
     "text": [
      "QUERY:  Precipitation amount in Zollikofen July 27, 2021 4h\n",
      "QUERY:  temperature in Zollikofen July 27, 2021 4h\n",
      "QUERY:  humidity in Zollikofen July 27, 2021 4h\n",
      "QUERY:  wind speed in Zollikofen July 27, 2021 4h\n",
      "QUERY:  Moon Phase calculatorJuly 27, 2021 4h\n",
      "(7229, 7)\n"
     ]
    },
    {
     "data": {
      "text/html": [
       "<div>\n",
       "<style scoped>\n",
       "    .dataframe tbody tr th:only-of-type {\n",
       "        vertical-align: middle;\n",
       "    }\n",
       "\n",
       "    .dataframe tbody tr th {\n",
       "        vertical-align: top;\n",
       "    }\n",
       "\n",
       "    .dataframe thead th {\n",
       "        text-align: right;\n",
       "    }\n",
       "</style>\n",
       "<table border=\"1\" class=\"dataframe\">\n",
       "  <thead>\n",
       "    <tr style=\"text-align: right;\">\n",
       "      <th></th>\n",
       "      <th>date</th>\n",
       "      <th>temperature</th>\n",
       "      <th>humidity</th>\n",
       "      <th>wind speed</th>\n",
       "      <th>Precipitation amount</th>\n",
       "      <th>query</th>\n",
       "      <th>Moon Phase calculator</th>\n",
       "    </tr>\n",
       "  </thead>\n",
       "  <tbody>\n",
       "    <tr>\n",
       "      <th>8</th>\n",
       "      <td>2021-07-27 03:00:00</td>\n",
       "      <td>16 °C\\n(3:00 am CEST | Tuesday, July 27, 2021)</td>\n",
       "      <td>average: 100% (100%)\\n(3:00 am CEST | Tuesday,...</td>\n",
       "      <td>2 m/s\\n(3:00 am CEST | Tuesday, July 27, 2021)</td>\n",
       "      <td>no precipitation\\n(3:00 am CEST | Tuesday, Jul...</td>\n",
       "      <td>Moon Phase calculatorJuly 27, 2021 3h</td>\n",
       "      <td>| waning gibbous moon\\n89.37% illuminated</td>\n",
       "    </tr>\n",
       "    <tr>\n",
       "      <th>9</th>\n",
       "      <td>2021-07-27 04:00:00</td>\n",
       "      <td>15 °C\\n(4:00 am CEST | Tuesday, July 27, 2021)</td>\n",
       "      <td>average: 97% (94 to 100%)\\n(4:00 am CEST | Tue...</td>\n",
       "      <td>1 m/s\\n(4:00 am CEST | Tuesday, July 27, 2021)</td>\n",
       "      <td>no precipitation\\n(4:00 am CEST | Tuesday, Jul...</td>\n",
       "      <td>Moon Phase calculatorJuly 27, 2021 4h</td>\n",
       "      <td>| waning gibbous moon\\n89.10% illuminated</td>\n",
       "    </tr>\n",
       "  </tbody>\n",
       "</table>\n",
       "</div>"
      ],
      "text/plain": [
       "                 date                                     temperature  \\\n",
       "8 2021-07-27 03:00:00  16 °C\\n(3:00 am CEST | Tuesday, July 27, 2021)   \n",
       "9 2021-07-27 04:00:00  15 °C\\n(4:00 am CEST | Tuesday, July 27, 2021)   \n",
       "\n",
       "                                            humidity  \\\n",
       "8  average: 100% (100%)\\n(3:00 am CEST | Tuesday,...   \n",
       "9  average: 97% (94 to 100%)\\n(4:00 am CEST | Tue...   \n",
       "\n",
       "                                       wind speed  \\\n",
       "8  2 m/s\\n(3:00 am CEST | Tuesday, July 27, 2021)   \n",
       "9  1 m/s\\n(4:00 am CEST | Tuesday, July 27, 2021)   \n",
       "\n",
       "                                Precipitation amount  \\\n",
       "8  no precipitation\\n(3:00 am CEST | Tuesday, Jul...   \n",
       "9  no precipitation\\n(4:00 am CEST | Tuesday, Jul...   \n",
       "\n",
       "                                   query  \\\n",
       "8  Moon Phase calculatorJuly 27, 2021 3h   \n",
       "9  Moon Phase calculatorJuly 27, 2021 4h   \n",
       "\n",
       "                       Moon Phase calculator  \n",
       "8  | waning gibbous moon\\n89.37% illuminated  \n",
       "9  | waning gibbous moon\\n89.10% illuminated  "
      ]
     },
     "metadata": {},
     "output_type": "display_data"
    },
    {
     "name": "stderr",
     "output_type": "stream",
     "text": [
      "\r",
      " 37%|█████████████████████████████▋                                                   | 81/221 [27:08<46:19, 19.85s/it]"
     ]
    },
    {
     "name": "stdout",
     "output_type": "stream",
     "text": [
      "QUERY:  Precipitation amount in Zollikofen July 27, 2021 5h\n",
      "QUERY:  temperature in Zollikofen July 27, 2021 5h\n",
      "QUERY:  humidity in Zollikofen July 27, 2021 5h\n",
      "QUERY:  wind speed in Zollikofen July 27, 2021 5h\n",
      "QUERY:  Moon Phase calculatorJuly 27, 2021 5h\n"
     ]
    },
    {
     "name": "stderr",
     "output_type": "stream",
     "text": [
      "\r",
      " 37%|██████████████████████████████                                                   | 82/221 [27:28<46:37, 20.13s/it]"
     ]
    },
    {
     "name": "stdout",
     "output_type": "stream",
     "text": [
      "QUERY:  Precipitation amount in Zollikofen July 27, 2021 6h\n",
      "QUERY:  temperature in Zollikofen July 27, 2021 6h\n",
      "QUERY:  humidity in Zollikofen July 27, 2021 6h\n",
      "QUERY:  wind speed in Zollikofen July 27, 2021 6h\n",
      "QUERY:  Moon Phase calculatorJuly 27, 2021 6h\n"
     ]
    },
    {
     "name": "stderr",
     "output_type": "stream",
     "text": [
      "\r",
      " 38%|██████████████████████████████▍                                                  | 83/221 [27:49<46:36, 20.27s/it]"
     ]
    },
    {
     "name": "stdout",
     "output_type": "stream",
     "text": [
      "QUERY:  Precipitation amount in Zollikofen July 27, 2021 7h\n",
      "QUERY:  temperature in Zollikofen July 27, 2021 7h\n",
      "QUERY:  humidity in Zollikofen July 27, 2021 7h\n",
      "QUERY:  wind speed in Zollikofen July 27, 2021 7h\n",
      "QUERY:  Moon Phase calculatorJuly 27, 2021 7h\n"
     ]
    },
    {
     "name": "stderr",
     "output_type": "stream",
     "text": [
      "\r",
      " 38%|██████████████████████████████▊                                                  | 84/221 [28:09<45:54, 20.11s/it]"
     ]
    },
    {
     "name": "stdout",
     "output_type": "stream",
     "text": [
      "QUERY:  Precipitation amount in Zollikofen July 27, 2021 8h\n",
      "QUERY:  temperature in Zollikofen July 27, 2021 8h\n",
      "QUERY:  humidity in Zollikofen July 27, 2021 8h\n",
      "QUERY:  wind speed in Zollikofen July 27, 2021 8h\n",
      "QUERY:  Moon Phase calculatorJuly 27, 2021 8h\n"
     ]
    },
    {
     "name": "stderr",
     "output_type": "stream",
     "text": [
      "\r",
      " 38%|███████████████████████████████▏                                                 | 85/221 [28:29<46:01, 20.31s/it]"
     ]
    },
    {
     "name": "stdout",
     "output_type": "stream",
     "text": [
      "QUERY:  Precipitation amount in Zollikofen July 27, 2021 9h\n",
      "QUERY:  temperature in Zollikofen July 27, 2021 9h\n",
      "QUERY:  humidity in Zollikofen July 27, 2021 9h\n",
      "QUERY:  wind speed in Zollikofen July 27, 2021 9h\n",
      "QUERY:  Moon Phase calculatorJuly 27, 2021 9h\n"
     ]
    },
    {
     "name": "stderr",
     "output_type": "stream",
     "text": [
      "\r",
      " 39%|███████████████████████████████▌                                                 | 86/221 [28:50<45:31, 20.23s/it]"
     ]
    },
    {
     "name": "stdout",
     "output_type": "stream",
     "text": [
      "QUERY:  Precipitation amount in Zollikofen July 27, 2021 10h\n",
      "QUERY:  temperature in Zollikofen July 27, 2021 10h\n",
      "QUERY:  humidity in Zollikofen July 27, 2021 10h\n",
      "QUERY:  wind speed in Zollikofen July 27, 2021 10h\n",
      "QUERY:  Moon Phase calculatorJuly 27, 2021 10h\n"
     ]
    },
    {
     "name": "stderr",
     "output_type": "stream",
     "text": [
      "\r",
      " 39%|███████████████████████████████▉                                                 | 87/221 [29:10<45:15, 20.26s/it]"
     ]
    },
    {
     "name": "stdout",
     "output_type": "stream",
     "text": [
      "QUERY:  Precipitation amount in Zollikofen July 27, 2021 11h\n",
      "QUERY:  temperature in Zollikofen July 27, 2021 11h\n",
      "QUERY:  humidity in Zollikofen July 27, 2021 11h\n",
      "QUERY:  wind speed in Zollikofen July 27, 2021 11h\n",
      "QUERY:  Moon Phase calculatorJuly 27, 2021 11h\n"
     ]
    },
    {
     "name": "stderr",
     "output_type": "stream",
     "text": [
      "\r",
      " 40%|████████████████████████████████▎                                                | 88/221 [29:31<45:15, 20.42s/it]"
     ]
    },
    {
     "name": "stdout",
     "output_type": "stream",
     "text": [
      "QUERY:  Precipitation amount in Zollikofen July 27, 2021 12h\n",
      "QUERY:  temperature in Zollikofen July 27, 2021 12h\n",
      "QUERY:  humidity in Zollikofen July 27, 2021 12h\n",
      "QUERY:  wind speed in Zollikofen July 27, 2021 12h\n",
      "QUERY:  Moon Phase calculatorJuly 27, 2021 12h\n"
     ]
    },
    {
     "name": "stderr",
     "output_type": "stream",
     "text": [
      "\r",
      " 40%|████████████████████████████████▌                                                | 89/221 [29:51<44:56, 20.43s/it]"
     ]
    },
    {
     "name": "stdout",
     "output_type": "stream",
     "text": [
      "QUERY:  Precipitation amount in Zollikofen July 27, 2021 13h\n",
      "QUERY:  temperature in Zollikofen July 27, 2021 13h\n",
      "QUERY:  humidity in Zollikofen July 27, 2021 13h\n",
      "QUERY:  wind speed in Zollikofen July 27, 2021 13h\n",
      "QUERY:  Moon Phase calculatorJuly 27, 2021 13h\n"
     ]
    },
    {
     "name": "stderr",
     "output_type": "stream",
     "text": [
      "\r",
      " 41%|████████████████████████████████▉                                                | 90/221 [30:12<44:57, 20.59s/it]"
     ]
    },
    {
     "name": "stdout",
     "output_type": "stream",
     "text": [
      "QUERY:  Precipitation amount in Zollikofen July 27, 2021 14h\n",
      "QUERY:  temperature in Zollikofen July 27, 2021 14h\n",
      "QUERY:  humidity in Zollikofen July 27, 2021 14h\n",
      "QUERY:  wind speed in Zollikofen July 27, 2021 14h\n",
      "QUERY:  Moon Phase calculatorJuly 27, 2021 14h\n",
      "(7239, 7)\n"
     ]
    },
    {
     "data": {
      "text/html": [
       "<div>\n",
       "<style scoped>\n",
       "    .dataframe tbody tr th:only-of-type {\n",
       "        vertical-align: middle;\n",
       "    }\n",
       "\n",
       "    .dataframe tbody tr th {\n",
       "        vertical-align: top;\n",
       "    }\n",
       "\n",
       "    .dataframe thead th {\n",
       "        text-align: right;\n",
       "    }\n",
       "</style>\n",
       "<table border=\"1\" class=\"dataframe\">\n",
       "  <thead>\n",
       "    <tr style=\"text-align: right;\">\n",
       "      <th></th>\n",
       "      <th>date</th>\n",
       "      <th>temperature</th>\n",
       "      <th>humidity</th>\n",
       "      <th>wind speed</th>\n",
       "      <th>Precipitation amount</th>\n",
       "      <th>query</th>\n",
       "      <th>Moon Phase calculator</th>\n",
       "    </tr>\n",
       "  </thead>\n",
       "  <tbody>\n",
       "    <tr>\n",
       "      <th>8</th>\n",
       "      <td>2021-07-27 13:00:00</td>\n",
       "      <td>23 °C\\n(1:00 pm CEST | Tuesday, July 27, 2021)</td>\n",
       "      <td>average: 52% (50 to 54%)\\n(1:00 pm CEST | Tues...</td>\n",
       "      <td>1 m/s\\n(1:00 pm CEST | Tuesday, July 27, 2021)</td>\n",
       "      <td>no precipitation\\n(1:00 pm CEST | Tuesday, Jul...</td>\n",
       "      <td>Moon Phase calculatorJuly 27, 2021 13h</td>\n",
       "      <td>| waning gibbous moon\\n86.51% illuminated</td>\n",
       "    </tr>\n",
       "    <tr>\n",
       "      <th>9</th>\n",
       "      <td>2021-07-27 14:00:00</td>\n",
       "      <td>24 °C\\n(2:00 pm CEST | Tuesday, July 27, 2021)</td>\n",
       "      <td>average: 54% (54%)\\n(2:00 pm CEST | Tuesday, J...</td>\n",
       "      <td>1 m/s\\n(2:00 pm CEST | Tuesday, July 27, 2021)</td>\n",
       "      <td>no precipitation\\n(2:00 pm CEST | Tuesday, Jul...</td>\n",
       "      <td>Moon Phase calculatorJuly 27, 2021 14h</td>\n",
       "      <td>| waning gibbous moon\\n86.20% illuminated</td>\n",
       "    </tr>\n",
       "  </tbody>\n",
       "</table>\n",
       "</div>"
      ],
      "text/plain": [
       "                 date                                     temperature  \\\n",
       "8 2021-07-27 13:00:00  23 °C\\n(1:00 pm CEST | Tuesday, July 27, 2021)   \n",
       "9 2021-07-27 14:00:00  24 °C\\n(2:00 pm CEST | Tuesday, July 27, 2021)   \n",
       "\n",
       "                                            humidity  \\\n",
       "8  average: 52% (50 to 54%)\\n(1:00 pm CEST | Tues...   \n",
       "9  average: 54% (54%)\\n(2:00 pm CEST | Tuesday, J...   \n",
       "\n",
       "                                       wind speed  \\\n",
       "8  1 m/s\\n(1:00 pm CEST | Tuesday, July 27, 2021)   \n",
       "9  1 m/s\\n(2:00 pm CEST | Tuesday, July 27, 2021)   \n",
       "\n",
       "                                Precipitation amount  \\\n",
       "8  no precipitation\\n(1:00 pm CEST | Tuesday, Jul...   \n",
       "9  no precipitation\\n(2:00 pm CEST | Tuesday, Jul...   \n",
       "\n",
       "                                    query  \\\n",
       "8  Moon Phase calculatorJuly 27, 2021 13h   \n",
       "9  Moon Phase calculatorJuly 27, 2021 14h   \n",
       "\n",
       "                       Moon Phase calculator  \n",
       "8  | waning gibbous moon\\n86.51% illuminated  \n",
       "9  | waning gibbous moon\\n86.20% illuminated  "
      ]
     },
     "metadata": {},
     "output_type": "display_data"
    },
    {
     "name": "stderr",
     "output_type": "stream",
     "text": [
      "\r",
      " 41%|█████████████████████████████████▎                                               | 91/221 [30:33<44:42, 20.63s/it]"
     ]
    },
    {
     "name": "stdout",
     "output_type": "stream",
     "text": [
      "QUERY:  Precipitation amount in Zollikofen July 27, 2021 15h\n",
      "QUERY:  temperature in Zollikofen July 27, 2021 15h\n",
      "QUERY:  humidity in Zollikofen July 27, 2021 15h\n",
      "QUERY:  wind speed in Zollikofen July 27, 2021 15h\n",
      "QUERY:  Moon Phase calculatorJuly 27, 2021 15h\n"
     ]
    },
    {
     "name": "stderr",
     "output_type": "stream",
     "text": [
      "\r",
      " 42%|█████████████████████████████████▋                                               | 92/221 [30:54<44:39, 20.77s/it]"
     ]
    },
    {
     "name": "stdout",
     "output_type": "stream",
     "text": [
      "QUERY:  Precipitation amount in Zollikofen July 27, 2021 16h\n",
      "QUERY:  temperature in Zollikofen July 27, 2021 16h\n",
      "QUERY:  humidity in Zollikofen July 27, 2021 16h\n",
      "QUERY:  wind speed in Zollikofen July 27, 2021 16h\n",
      "QUERY:  Moon Phase calculatorJuly 27, 2021 16h\n"
     ]
    },
    {
     "name": "stderr",
     "output_type": "stream",
     "text": [
      "\r",
      " 42%|██████████████████████████████████                                               | 93/221 [31:15<44:35, 20.90s/it]"
     ]
    },
    {
     "name": "stdout",
     "output_type": "stream",
     "text": [
      "QUERY:  Precipitation amount in Zollikofen July 27, 2021 17h\n",
      "QUERY:  temperature in Zollikofen July 27, 2021 17h\n",
      "QUERY:  humidity in Zollikofen July 27, 2021 17h\n",
      "QUERY:  wind speed in Zollikofen July 27, 2021 17h\n",
      "QUERY:  Moon Phase calculatorJuly 27, 2021 17h\n"
     ]
    },
    {
     "name": "stderr",
     "output_type": "stream",
     "text": [
      "\r",
      " 43%|██████████████████████████████████▍                                              | 94/221 [31:36<44:13, 20.90s/it]"
     ]
    },
    {
     "name": "stdout",
     "output_type": "stream",
     "text": [
      "QUERY:  Precipitation amount in Zollikofen July 27, 2021 18h\n",
      "QUERY:  temperature in Zollikofen July 27, 2021 18h\n",
      "QUERY:  humidity in Zollikofen July 27, 2021 18h\n",
      "QUERY:  wind speed in Zollikofen July 27, 2021 18h\n",
      "QUERY:  Moon Phase calculatorJuly 27, 2021 18h\n"
     ]
    },
    {
     "name": "stderr",
     "output_type": "stream",
     "text": [
      "\r",
      " 43%|██████████████████████████████████▊                                              | 95/221 [31:57<44:12, 21.05s/it]"
     ]
    },
    {
     "name": "stdout",
     "output_type": "stream",
     "text": [
      "QUERY:  Precipitation amount in Zollikofen July 27, 2021 19h\n",
      "QUERY:  temperature in Zollikofen July 27, 2021 19h\n",
      "QUERY:  humidity in Zollikofen July 27, 2021 19h\n",
      "QUERY:  wind speed in Zollikofen July 27, 2021 19h\n",
      "QUERY:  Moon Phase calculatorJuly 27, 2021 19h\n"
     ]
    },
    {
     "name": "stderr",
     "output_type": "stream",
     "text": [
      "\r",
      " 43%|███████████████████████████████████▏                                             | 96/221 [32:18<43:52, 21.06s/it]"
     ]
    },
    {
     "name": "stdout",
     "output_type": "stream",
     "text": [
      "QUERY:  Precipitation amount in Zollikofen July 27, 2021 20h\n",
      "QUERY:  temperature in Zollikofen July 27, 2021 20h\n",
      "QUERY:  humidity in Zollikofen July 27, 2021 20h\n",
      "QUERY:  wind speed in Zollikofen July 27, 2021 20h\n",
      "QUERY:  Moon Phase calculatorJuly 27, 2021 20h\n"
     ]
    },
    {
     "name": "stderr",
     "output_type": "stream",
     "text": [
      "\r",
      " 44%|███████████████████████████████████▌                                             | 97/221 [32:40<43:31, 21.06s/it]"
     ]
    },
    {
     "name": "stdout",
     "output_type": "stream",
     "text": [
      "QUERY:  Precipitation amount in Zollikofen July 27, 2021 21h\n",
      "QUERY:  temperature in Zollikofen July 27, 2021 21h\n",
      "QUERY:  humidity in Zollikofen July 27, 2021 21h\n",
      "QUERY:  wind speed in Zollikofen July 27, 2021 21h\n",
      "QUERY:  Moon Phase calculatorJuly 27, 2021 21h\n"
     ]
    },
    {
     "name": "stderr",
     "output_type": "stream",
     "text": [
      "\r",
      " 44%|███████████████████████████████████▉                                             | 98/221 [33:01<43:17, 21.11s/it]"
     ]
    },
    {
     "name": "stdout",
     "output_type": "stream",
     "text": [
      "QUERY:  Precipitation amount in Zollikofen July 27, 2021 22h\n",
      "QUERY:  temperature in Zollikofen July 27, 2021 22h\n",
      "QUERY:  humidity in Zollikofen July 27, 2021 22h\n",
      "QUERY:  wind speed in Zollikofen July 27, 2021 22h\n",
      "QUERY:  Moon Phase calculatorJuly 27, 2021 22h\n"
     ]
    },
    {
     "name": "stderr",
     "output_type": "stream",
     "text": [
      "\r",
      " 45%|████████████████████████████████████▎                                            | 99/221 [33:22<42:47, 21.04s/it]"
     ]
    },
    {
     "name": "stdout",
     "output_type": "stream",
     "text": [
      "QUERY:  Precipitation amount in Zollikofen July 27, 2021 23h\n",
      "QUERY:  temperature in Zollikofen July 27, 2021 23h\n",
      "QUERY:  humidity in Zollikofen July 27, 2021 23h\n",
      "QUERY:  wind speed in Zollikofen July 27, 2021 23h\n",
      "QUERY:  Moon Phase calculatorJuly 27, 2021 23h\n"
     ]
    },
    {
     "name": "stderr",
     "output_type": "stream",
     "text": [
      "\r",
      " 45%|████████████████████████████████████▏                                           | 100/221 [33:42<42:10, 20.91s/it]"
     ]
    },
    {
     "name": "stdout",
     "output_type": "stream",
     "text": [
      "QUERY:  Precipitation amount in Zollikofen July 28, 2021 0h\n",
      "QUERY:  temperature in Zollikofen July 28, 2021 0h\n",
      "QUERY:  humidity in Zollikofen July 28, 2021 0h\n",
      "QUERY:  wind speed in Zollikofen July 28, 2021 0h\n",
      "QUERY:  Moon Phase calculatorJuly 28, 2021 0h\n",
      "(7249, 7)\n"
     ]
    },
    {
     "data": {
      "text/html": [
       "<div>\n",
       "<style scoped>\n",
       "    .dataframe tbody tr th:only-of-type {\n",
       "        vertical-align: middle;\n",
       "    }\n",
       "\n",
       "    .dataframe tbody tr th {\n",
       "        vertical-align: top;\n",
       "    }\n",
       "\n",
       "    .dataframe thead th {\n",
       "        text-align: right;\n",
       "    }\n",
       "</style>\n",
       "<table border=\"1\" class=\"dataframe\">\n",
       "  <thead>\n",
       "    <tr style=\"text-align: right;\">\n",
       "      <th></th>\n",
       "      <th>date</th>\n",
       "      <th>temperature</th>\n",
       "      <th>humidity</th>\n",
       "      <th>wind speed</th>\n",
       "      <th>Precipitation amount</th>\n",
       "      <th>query</th>\n",
       "      <th>Moon Phase calculator</th>\n",
       "    </tr>\n",
       "  </thead>\n",
       "  <tbody>\n",
       "    <tr>\n",
       "      <th>8</th>\n",
       "      <td>2021-07-27 23:00:00</td>\n",
       "      <td>19 °C\\n(11:00 pm CEST | Tuesday, July 27, 2021)</td>\n",
       "      <td>average: 83% (83%)\\n(11:00 pm CEST | Tuesday, ...</td>\n",
       "      <td>3 m/s\\n(11:00 pm CEST | Tuesday, July 27, 2021)</td>\n",
       "      <td>no precipitation\\n(11:00 pm CEST | Tuesday, Ju...</td>\n",
       "      <td>Moon Phase calculatorJuly 27, 2021 23h</td>\n",
       "      <td>| waning gibbous moon\\n83.39% illuminated</td>\n",
       "    </tr>\n",
       "    <tr>\n",
       "      <th>9</th>\n",
       "      <td>2021-07-28 00:00:00</td>\n",
       "      <td>18 °C\\n(12:00 am CEST | Wednesday, July 28, 2021)</td>\n",
       "      <td>average: 83% (83%)\\n(12:00 am CEST | Wednesday...</td>\n",
       "      <td>3 m/s\\n(12:00 am CEST | Wednesday, July 28, 2021)</td>\n",
       "      <td>rain\\n(12:00 am CEST | Wednesday, July 28, 2021)</td>\n",
       "      <td>Moon Phase calculatorJuly 28, 2021 0h</td>\n",
       "      <td>| waning gibbous moon\\n83.07% illuminated</td>\n",
       "    </tr>\n",
       "  </tbody>\n",
       "</table>\n",
       "</div>"
      ],
      "text/plain": [
       "                 date                                        temperature  \\\n",
       "8 2021-07-27 23:00:00    19 °C\\n(11:00 pm CEST | Tuesday, July 27, 2021)   \n",
       "9 2021-07-28 00:00:00  18 °C\\n(12:00 am CEST | Wednesday, July 28, 2021)   \n",
       "\n",
       "                                            humidity  \\\n",
       "8  average: 83% (83%)\\n(11:00 pm CEST | Tuesday, ...   \n",
       "9  average: 83% (83%)\\n(12:00 am CEST | Wednesday...   \n",
       "\n",
       "                                          wind speed  \\\n",
       "8    3 m/s\\n(11:00 pm CEST | Tuesday, July 27, 2021)   \n",
       "9  3 m/s\\n(12:00 am CEST | Wednesday, July 28, 2021)   \n",
       "\n",
       "                                Precipitation amount  \\\n",
       "8  no precipitation\\n(11:00 pm CEST | Tuesday, Ju...   \n",
       "9   rain\\n(12:00 am CEST | Wednesday, July 28, 2021)   \n",
       "\n",
       "                                    query  \\\n",
       "8  Moon Phase calculatorJuly 27, 2021 23h   \n",
       "9   Moon Phase calculatorJuly 28, 2021 0h   \n",
       "\n",
       "                       Moon Phase calculator  \n",
       "8  | waning gibbous moon\\n83.39% illuminated  \n",
       "9  | waning gibbous moon\\n83.07% illuminated  "
      ]
     },
     "metadata": {},
     "output_type": "display_data"
    },
    {
     "name": "stderr",
     "output_type": "stream",
     "text": [
      "\r",
      " 46%|████████████████████████████████████▌                                           | 101/221 [34:03<41:41, 20.84s/it]"
     ]
    },
    {
     "name": "stdout",
     "output_type": "stream",
     "text": [
      "QUERY:  Precipitation amount in Zollikofen July 28, 2021 1h\n",
      "QUERY:  temperature in Zollikofen July 28, 2021 1h\n",
      "QUERY:  humidity in Zollikofen July 28, 2021 1h\n",
      "QUERY:  wind speed in Zollikofen July 28, 2021 1h\n",
      "QUERY:  Moon Phase calculatorJuly 28, 2021 1h\n"
     ]
    },
    {
     "name": "stderr",
     "output_type": "stream",
     "text": [
      "\r",
      " 46%|████████████████████████████████████▉                                           | 102/221 [34:25<41:47, 21.07s/it]"
     ]
    },
    {
     "name": "stdout",
     "output_type": "stream",
     "text": [
      "QUERY:  Precipitation amount in Zollikofen July 28, 2021 2h\n",
      "QUERY:  temperature in Zollikofen July 28, 2021 2h\n",
      "QUERY:  humidity in Zollikofen July 28, 2021 2h\n",
      "QUERY:  wind speed in Zollikofen July 28, 2021 2h\n",
      "QUERY:  Moon Phase calculatorJuly 28, 2021 2h\n"
     ]
    },
    {
     "name": "stderr",
     "output_type": "stream",
     "text": [
      "\r",
      " 47%|█████████████████████████████████████▎                                          | 103/221 [34:45<40:59, 20.84s/it]"
     ]
    },
    {
     "name": "stdout",
     "output_type": "stream",
     "text": [
      "QUERY:  Precipitation amount in Zollikofen July 28, 2021 3h\n",
      "QUERY:  temperature in Zollikofen July 28, 2021 3h\n",
      "QUERY:  humidity in Zollikofen July 28, 2021 3h\n",
      "QUERY:  wind speed in Zollikofen July 28, 2021 3h\n",
      "QUERY:  Moon Phase calculatorJuly 28, 2021 3h\n"
     ]
    },
    {
     "name": "stderr",
     "output_type": "stream",
     "text": [
      "\r",
      " 47%|█████████████████████████████████████▋                                          | 104/221 [35:06<40:46, 20.91s/it]"
     ]
    },
    {
     "name": "stdout",
     "output_type": "stream",
     "text": [
      "QUERY:  Precipitation amount in Zollikofen July 28, 2021 4h\n",
      "QUERY:  temperature in Zollikofen July 28, 2021 4h\n",
      "QUERY:  humidity in Zollikofen July 28, 2021 4h\n",
      "QUERY:  wind speed in Zollikofen July 28, 2021 4h\n",
      "QUERY:  Moon Phase calculatorJuly 28, 2021 4h\n"
     ]
    },
    {
     "name": "stderr",
     "output_type": "stream",
     "text": [
      "\r",
      " 48%|██████████████████████████████████████                                          | 105/221 [35:27<40:21, 20.87s/it]"
     ]
    },
    {
     "name": "stdout",
     "output_type": "stream",
     "text": [
      "QUERY:  Precipitation amount in Zollikofen July 28, 2021 5h\n",
      "QUERY:  temperature in Zollikofen July 28, 2021 5h\n",
      "QUERY:  humidity in Zollikofen July 28, 2021 5h\n",
      "QUERY:  wind speed in Zollikofen July 28, 2021 5h\n",
      "QUERY:  Moon Phase calculatorJuly 28, 2021 5h\n"
     ]
    },
    {
     "name": "stderr",
     "output_type": "stream",
     "text": [
      "\r",
      " 48%|██████████████████████████████████████▎                                         | 106/221 [35:48<40:00, 20.88s/it]"
     ]
    },
    {
     "name": "stdout",
     "output_type": "stream",
     "text": [
      "QUERY:  Precipitation amount in Zollikofen July 28, 2021 6h\n",
      "QUERY:  temperature in Zollikofen July 28, 2021 6h\n",
      "QUERY:  humidity in Zollikofen July 28, 2021 6h\n",
      "QUERY:  wind speed in Zollikofen July 28, 2021 6h\n",
      "QUERY:  Moon Phase calculatorJuly 28, 2021 6h\n"
     ]
    },
    {
     "name": "stderr",
     "output_type": "stream",
     "text": [
      "\r",
      " 48%|██████████████████████████████████████▋                                         | 107/221 [36:09<39:56, 21.03s/it]"
     ]
    },
    {
     "name": "stdout",
     "output_type": "stream",
     "text": [
      "QUERY:  Precipitation amount in Zollikofen July 28, 2021 7h\n",
      "QUERY:  temperature in Zollikofen July 28, 2021 7h\n",
      "QUERY:  humidity in Zollikofen July 28, 2021 7h\n",
      "QUERY:  wind speed in Zollikofen July 28, 2021 7h\n",
      "QUERY:  Moon Phase calculatorJuly 28, 2021 7h\n"
     ]
    },
    {
     "name": "stderr",
     "output_type": "stream",
     "text": [
      "\r",
      " 49%|███████████████████████████████████████                                         | 108/221 [36:30<39:46, 21.12s/it]"
     ]
    },
    {
     "name": "stdout",
     "output_type": "stream",
     "text": [
      "QUERY:  Precipitation amount in Zollikofen July 28, 2021 8h\n",
      "QUERY:  temperature in Zollikofen July 28, 2021 8h\n",
      "QUERY:  humidity in Zollikofen July 28, 2021 8h\n",
      "QUERY:  wind speed in Zollikofen July 28, 2021 8h\n",
      "QUERY:  Moon Phase calculatorJuly 28, 2021 8h\n"
     ]
    },
    {
     "name": "stderr",
     "output_type": "stream",
     "text": [
      "\r",
      " 49%|███████████████████████████████████████▍                                        | 109/221 [36:51<38:55, 20.85s/it]"
     ]
    },
    {
     "name": "stdout",
     "output_type": "stream",
     "text": [
      "QUERY:  Precipitation amount in Zollikofen July 28, 2021 9h\n",
      "QUERY:  temperature in Zollikofen July 28, 2021 9h\n",
      "QUERY:  humidity in Zollikofen July 28, 2021 9h\n",
      "QUERY:  wind speed in Zollikofen July 28, 2021 9h\n",
      "QUERY:  Moon Phase calculatorJuly 28, 2021 9h\n"
     ]
    },
    {
     "name": "stderr",
     "output_type": "stream",
     "text": [
      "\r",
      " 50%|███████████████████████████████████████▊                                        | 110/221 [37:12<39:08, 21.16s/it]"
     ]
    },
    {
     "name": "stdout",
     "output_type": "stream",
     "text": [
      "QUERY:  Precipitation amount in Zollikofen July 28, 2021 10h\n",
      "QUERY:  temperature in Zollikofen July 28, 2021 10h\n",
      "QUERY:  humidity in Zollikofen July 28, 2021 10h\n",
      "QUERY:  wind speed in Zollikofen July 28, 2021 10h\n",
      "QUERY:  Moon Phase calculatorJuly 28, 2021 10h\n",
      "(7259, 7)\n"
     ]
    },
    {
     "data": {
      "text/html": [
       "<div>\n",
       "<style scoped>\n",
       "    .dataframe tbody tr th:only-of-type {\n",
       "        vertical-align: middle;\n",
       "    }\n",
       "\n",
       "    .dataframe tbody tr th {\n",
       "        vertical-align: top;\n",
       "    }\n",
       "\n",
       "    .dataframe thead th {\n",
       "        text-align: right;\n",
       "    }\n",
       "</style>\n",
       "<table border=\"1\" class=\"dataframe\">\n",
       "  <thead>\n",
       "    <tr style=\"text-align: right;\">\n",
       "      <th></th>\n",
       "      <th>date</th>\n",
       "      <th>temperature</th>\n",
       "      <th>humidity</th>\n",
       "      <th>wind speed</th>\n",
       "      <th>Precipitation amount</th>\n",
       "      <th>query</th>\n",
       "      <th>Moon Phase calculator</th>\n",
       "    </tr>\n",
       "  </thead>\n",
       "  <tbody>\n",
       "    <tr>\n",
       "      <th>8</th>\n",
       "      <td>2021-07-28 09:00:00</td>\n",
       "      <td>16 °C\\n(9:00 am CEST | Wednesday, July 28, 2021)</td>\n",
       "      <td>average: 94% (94%)\\n(9:00 am CEST | Wednesday,...</td>\n",
       "      <td>1 m/s\\n(9:00 am CEST | Wednesday, July 28, 2021)</td>\n",
       "      <td>rain\\n(9:00 am CEST | Wednesday, July 28, 2021)</td>\n",
       "      <td>Moon Phase calculatorJuly 28, 2021 9h</td>\n",
       "      <td>| waning gibbous moon\\n80.07% illuminated</td>\n",
       "    </tr>\n",
       "    <tr>\n",
       "      <th>9</th>\n",
       "      <td>2021-07-28 10:00:00</td>\n",
       "      <td>16 °C\\n(10:00 am CEST | Wednesday, July 28, 2021)</td>\n",
       "      <td>average: 91% (88 to 94%)\\n(10:00 am CEST | Wed...</td>\n",
       "      <td>1 m/s\\n(10:00 am CEST | Wednesday, July 28, 2021)</td>\n",
       "      <td>no precipitation\\n(10:00 am CEST | Wednesday, ...</td>\n",
       "      <td>Moon Phase calculatorJuly 28, 2021 10h</td>\n",
       "      <td>| waning gibbous moon\\n79.73% illuminated</td>\n",
       "    </tr>\n",
       "  </tbody>\n",
       "</table>\n",
       "</div>"
      ],
      "text/plain": [
       "                 date                                        temperature  \\\n",
       "8 2021-07-28 09:00:00   16 °C\\n(9:00 am CEST | Wednesday, July 28, 2021)   \n",
       "9 2021-07-28 10:00:00  16 °C\\n(10:00 am CEST | Wednesday, July 28, 2021)   \n",
       "\n",
       "                                            humidity  \\\n",
       "8  average: 94% (94%)\\n(9:00 am CEST | Wednesday,...   \n",
       "9  average: 91% (88 to 94%)\\n(10:00 am CEST | Wed...   \n",
       "\n",
       "                                          wind speed  \\\n",
       "8   1 m/s\\n(9:00 am CEST | Wednesday, July 28, 2021)   \n",
       "9  1 m/s\\n(10:00 am CEST | Wednesday, July 28, 2021)   \n",
       "\n",
       "                                Precipitation amount  \\\n",
       "8    rain\\n(9:00 am CEST | Wednesday, July 28, 2021)   \n",
       "9  no precipitation\\n(10:00 am CEST | Wednesday, ...   \n",
       "\n",
       "                                    query  \\\n",
       "8   Moon Phase calculatorJuly 28, 2021 9h   \n",
       "9  Moon Phase calculatorJuly 28, 2021 10h   \n",
       "\n",
       "                       Moon Phase calculator  \n",
       "8  | waning gibbous moon\\n80.07% illuminated  \n",
       "9  | waning gibbous moon\\n79.73% illuminated  "
      ]
     },
     "metadata": {},
     "output_type": "display_data"
    },
    {
     "name": "stderr",
     "output_type": "stream",
     "text": [
      "\r",
      " 50%|████████████████████████████████████████▏                                       | 111/221 [37:34<39:11, 21.38s/it]"
     ]
    },
    {
     "name": "stdout",
     "output_type": "stream",
     "text": [
      "QUERY:  Precipitation amount in Zollikofen July 28, 2021 11h\n",
      "QUERY:  temperature in Zollikofen July 28, 2021 11h\n",
      "QUERY:  humidity in Zollikofen July 28, 2021 11h\n",
      "QUERY:  wind speed in Zollikofen July 28, 2021 11h\n",
      "QUERY:  Moon Phase calculatorJuly 28, 2021 11h\n"
     ]
    },
    {
     "name": "stderr",
     "output_type": "stream",
     "text": [
      "\r",
      " 51%|████████████████████████████████████████▌                                       | 112/221 [37:56<38:51, 21.39s/it]"
     ]
    },
    {
     "name": "stdout",
     "output_type": "stream",
     "text": [
      "QUERY:  Precipitation amount in Zollikofen July 28, 2021 12h\n",
      "QUERY:  temperature in Zollikofen July 28, 2021 12h\n",
      "QUERY:  humidity in Zollikofen July 28, 2021 12h\n",
      "QUERY:  wind speed in Zollikofen July 28, 2021 12h\n",
      "QUERY:  Moon Phase calculatorJuly 28, 2021 12h\n"
     ]
    },
    {
     "name": "stderr",
     "output_type": "stream",
     "text": [
      "\r",
      " 51%|████████████████████████████████████████▉                                       | 113/221 [38:18<38:44, 21.52s/it]"
     ]
    },
    {
     "name": "stdout",
     "output_type": "stream",
     "text": [
      "QUERY:  Precipitation amount in Zollikofen July 28, 2021 13h\n",
      "QUERY:  temperature in Zollikofen July 28, 2021 13h\n",
      "QUERY:  humidity in Zollikofen July 28, 2021 13h\n",
      "QUERY:  wind speed in Zollikofen July 28, 2021 13h\n",
      "QUERY:  Moon Phase calculatorJuly 28, 2021 13h\n"
     ]
    },
    {
     "name": "stderr",
     "output_type": "stream",
     "text": [
      "\r",
      " 52%|█████████████████████████████████████████▎                                      | 114/221 [38:38<38:01, 21.33s/it]"
     ]
    },
    {
     "name": "stdout",
     "output_type": "stream",
     "text": [
      "QUERY:  Precipitation amount in Zollikofen July 28, 2021 14h\n",
      "QUERY:  temperature in Zollikofen July 28, 2021 14h\n",
      "QUERY:  humidity in Zollikofen July 28, 2021 14h\n",
      "QUERY:  wind speed in Zollikofen July 28, 2021 14h\n",
      "QUERY:  Moon Phase calculatorJuly 28, 2021 14h\n"
     ]
    },
    {
     "name": "stderr",
     "output_type": "stream",
     "text": [
      "\r",
      " 52%|█████████████████████████████████████████▋                                      | 115/221 [38:59<37:32, 21.25s/it]"
     ]
    },
    {
     "name": "stdout",
     "output_type": "stream",
     "text": [
      "QUERY:  Precipitation amount in Zollikofen July 28, 2021 15h\n",
      "QUERY:  temperature in Zollikofen July 28, 2021 15h\n",
      "QUERY:  humidity in Zollikofen July 28, 2021 15h\n",
      "QUERY:  wind speed in Zollikofen July 28, 2021 15h\n",
      "QUERY:  Moon Phase calculatorJuly 28, 2021 15h\n"
     ]
    },
    {
     "name": "stderr",
     "output_type": "stream",
     "text": [
      "\r",
      " 52%|█████████████████████████████████████████▉                                      | 116/221 [39:21<37:13, 21.27s/it]"
     ]
    },
    {
     "name": "stdout",
     "output_type": "stream",
     "text": [
      "QUERY:  Precipitation amount in Zollikofen July 28, 2021 16h\n",
      "QUERY:  temperature in Zollikofen July 28, 2021 16h\n",
      "QUERY:  humidity in Zollikofen July 28, 2021 16h\n",
      "QUERY:  wind speed in Zollikofen July 28, 2021 16h\n",
      "QUERY:  Moon Phase calculatorJuly 28, 2021 16h\n"
     ]
    },
    {
     "name": "stderr",
     "output_type": "stream",
     "text": [
      "\r",
      " 53%|██████████████████████████████████████████▎                                     | 117/221 [39:41<36:31, 21.07s/it]"
     ]
    },
    {
     "name": "stdout",
     "output_type": "stream",
     "text": [
      "QUERY:  Precipitation amount in Zollikofen July 28, 2021 17h\n",
      "QUERY:  temperature in Zollikofen July 28, 2021 17h\n",
      "QUERY:  humidity in Zollikofen July 28, 2021 17h\n",
      "QUERY:  wind speed in Zollikofen July 28, 2021 17h\n",
      "QUERY:  Moon Phase calculatorJuly 28, 2021 17h\n"
     ]
    },
    {
     "name": "stderr",
     "output_type": "stream",
     "text": [
      "\r",
      " 53%|██████████████████████████████████████████▋                                     | 118/221 [40:03<36:24, 21.21s/it]"
     ]
    },
    {
     "name": "stdout",
     "output_type": "stream",
     "text": [
      "QUERY:  Precipitation amount in Zollikofen July 28, 2021 18h\n",
      "QUERY:  temperature in Zollikofen July 28, 2021 18h\n",
      "QUERY:  humidity in Zollikofen July 28, 2021 18h\n",
      "QUERY:  wind speed in Zollikofen July 28, 2021 18h\n",
      "QUERY:  Moon Phase calculatorJuly 28, 2021 18h\n"
     ]
    },
    {
     "name": "stderr",
     "output_type": "stream",
     "text": [
      "\r",
      " 54%|███████████████████████████████████████████                                     | 119/221 [40:25<36:29, 21.47s/it]"
     ]
    },
    {
     "name": "stdout",
     "output_type": "stream",
     "text": [
      "QUERY:  Precipitation amount in Zollikofen July 28, 2021 19h\n",
      "QUERY:  temperature in Zollikofen July 28, 2021 19h\n",
      "QUERY:  humidity in Zollikofen July 28, 2021 19h\n",
      "QUERY:  wind speed in Zollikofen July 28, 2021 19h\n",
      "QUERY:  Moon Phase calculatorJuly 28, 2021 19h\n"
     ]
    },
    {
     "name": "stderr",
     "output_type": "stream",
     "text": [
      "\r",
      " 54%|███████████████████████████████████████████▍                                    | 120/221 [40:43<34:23, 20.43s/it]"
     ]
    },
    {
     "name": "stdout",
     "output_type": "stream",
     "text": [
      "QUERY:  Precipitation amount in Zollikofen July 28, 2021 20h\n",
      "QUERY:  temperature in Zollikofen July 28, 2021 20h\n",
      "QUERY:  humidity in Zollikofen July 28, 2021 20h\n",
      "QUERY:  wind speed in Zollikofen July 28, 2021 20h\n",
      "QUERY:  Moon Phase calculatorJuly 28, 2021 20h\n",
      "(7269, 7)\n"
     ]
    },
    {
     "data": {
      "text/html": [
       "<div>\n",
       "<style scoped>\n",
       "    .dataframe tbody tr th:only-of-type {\n",
       "        vertical-align: middle;\n",
       "    }\n",
       "\n",
       "    .dataframe tbody tr th {\n",
       "        vertical-align: top;\n",
       "    }\n",
       "\n",
       "    .dataframe thead th {\n",
       "        text-align: right;\n",
       "    }\n",
       "</style>\n",
       "<table border=\"1\" class=\"dataframe\">\n",
       "  <thead>\n",
       "    <tr style=\"text-align: right;\">\n",
       "      <th></th>\n",
       "      <th>date</th>\n",
       "      <th>temperature</th>\n",
       "      <th>humidity</th>\n",
       "      <th>wind speed</th>\n",
       "      <th>Precipitation amount</th>\n",
       "      <th>query</th>\n",
       "      <th>Moon Phase calculator</th>\n",
       "    </tr>\n",
       "  </thead>\n",
       "  <tbody>\n",
       "    <tr>\n",
       "      <th>8</th>\n",
       "      <td>2021-07-28 19:00:00</td>\n",
       "      <td>22 °C\\n(7:00 pm CEST | Wednesday, July 28, 2021)</td>\n",
       "      <td>average: 69% (65 to 73%)\\n(7:00 pm CEST | Wedn...</td>\n",
       "      <td>1 m/s\\n(7:00 pm CEST | Wednesday, July 28, 2021)</td>\n",
       "      <td>no precipitation\\n(7:00 pm CEST | Wednesday, J...</td>\n",
       "      <td>Moon Phase calculatorJuly 28, 2021 19h</td>\n",
       "      <td>| waning gibbous moon\\n76.58% illuminated</td>\n",
       "    </tr>\n",
       "    <tr>\n",
       "      <th>9</th>\n",
       "      <td>2021-07-28 20:00:00</td>\n",
       "      <td>21 °C\\n(8:00 pm CEST | Wednesday, July 28, 2021)</td>\n",
       "      <td>average: 88% (88%)\\n(8:00 pm CEST | Wednesday,...</td>\n",
       "      <td>1 m/s\\n(8:00 pm CEST | Wednesday, July 28, 2021)</td>\n",
       "      <td>no precipitation\\n(8:00 pm CEST | Wednesday, J...</td>\n",
       "      <td>Moon Phase calculatorJuly 28, 2021 20h</td>\n",
       "      <td>| waning gibbous moon\\n76.22% illuminated</td>\n",
       "    </tr>\n",
       "  </tbody>\n",
       "</table>\n",
       "</div>"
      ],
      "text/plain": [
       "                 date                                       temperature  \\\n",
       "8 2021-07-28 19:00:00  22 °C\\n(7:00 pm CEST | Wednesday, July 28, 2021)   \n",
       "9 2021-07-28 20:00:00  21 °C\\n(8:00 pm CEST | Wednesday, July 28, 2021)   \n",
       "\n",
       "                                            humidity  \\\n",
       "8  average: 69% (65 to 73%)\\n(7:00 pm CEST | Wedn...   \n",
       "9  average: 88% (88%)\\n(8:00 pm CEST | Wednesday,...   \n",
       "\n",
       "                                         wind speed  \\\n",
       "8  1 m/s\\n(7:00 pm CEST | Wednesday, July 28, 2021)   \n",
       "9  1 m/s\\n(8:00 pm CEST | Wednesday, July 28, 2021)   \n",
       "\n",
       "                                Precipitation amount  \\\n",
       "8  no precipitation\\n(7:00 pm CEST | Wednesday, J...   \n",
       "9  no precipitation\\n(8:00 pm CEST | Wednesday, J...   \n",
       "\n",
       "                                    query  \\\n",
       "8  Moon Phase calculatorJuly 28, 2021 19h   \n",
       "9  Moon Phase calculatorJuly 28, 2021 20h   \n",
       "\n",
       "                       Moon Phase calculator  \n",
       "8  | waning gibbous moon\\n76.58% illuminated  \n",
       "9  | waning gibbous moon\\n76.22% illuminated  "
      ]
     },
     "metadata": {},
     "output_type": "display_data"
    },
    {
     "name": "stderr",
     "output_type": "stream",
     "text": [
      "\r",
      " 55%|███████████████████████████████████████████▊                                    | 121/221 [41:01<32:50, 19.71s/it]"
     ]
    },
    {
     "name": "stdout",
     "output_type": "stream",
     "text": [
      "QUERY:  Precipitation amount in Zollikofen July 28, 2021 21h\n",
      "QUERY:  temperature in Zollikofen July 28, 2021 21h\n",
      "QUERY:  humidity in Zollikofen July 28, 2021 21h\n",
      "QUERY:  wind speed in Zollikofen July 28, 2021 21h\n",
      "QUERY:  Moon Phase calculatorJuly 28, 2021 21h\n"
     ]
    },
    {
     "name": "stderr",
     "output_type": "stream",
     "text": [
      "\r",
      " 55%|████████████████████████████████████████████▏                                   | 122/221 [41:18<31:23, 19.02s/it]"
     ]
    },
    {
     "name": "stdout",
     "output_type": "stream",
     "text": [
      "QUERY:  Precipitation amount in Zollikofen July 28, 2021 22h\n",
      "QUERY:  temperature in Zollikofen July 28, 2021 22h\n",
      "QUERY:  humidity in Zollikofen July 28, 2021 22h\n",
      "QUERY:  wind speed in Zollikofen July 28, 2021 22h\n",
      "QUERY:  Moon Phase calculatorJuly 28, 2021 22h\n"
     ]
    },
    {
     "name": "stderr",
     "output_type": "stream",
     "text": [
      "\r",
      " 56%|████████████████████████████████████████████▌                                   | 123/221 [41:35<29:52, 18.29s/it]"
     ]
    },
    {
     "name": "stdout",
     "output_type": "stream",
     "text": [
      "QUERY:  Precipitation amount in Zollikofen July 28, 2021 23h\n",
      "QUERY:  temperature in Zollikofen July 28, 2021 23h\n",
      "QUERY:  humidity in Zollikofen July 28, 2021 23h\n",
      "QUERY:  wind speed in Zollikofen July 28, 2021 23h\n",
      "QUERY:  Moon Phase calculatorJuly 28, 2021 23h\n"
     ]
    },
    {
     "name": "stderr",
     "output_type": "stream",
     "text": [
      "\r",
      " 56%|████████████████████████████████████████████▉                                   | 124/221 [41:54<30:05, 18.61s/it]"
     ]
    },
    {
     "name": "stdout",
     "output_type": "stream",
     "text": [
      "QUERY:  Precipitation amount in Zollikofen July 29, 2021 0h\n",
      "QUERY:  temperature in Zollikofen July 29, 2021 0h\n",
      "QUERY:  humidity in Zollikofen July 29, 2021 0h\n",
      "QUERY:  wind speed in Zollikofen July 29, 2021 0h\n",
      "QUERY:  Moon Phase calculatorJuly 29, 2021 0h\n"
     ]
    },
    {
     "name": "stderr",
     "output_type": "stream",
     "text": [
      "\r",
      " 57%|█████████████████████████████████████████████▏                                  | 125/221 [42:11<28:48, 18.00s/it]"
     ]
    },
    {
     "name": "stdout",
     "output_type": "stream",
     "text": [
      "QUERY:  Precipitation amount in Zollikofen July 29, 2021 1h\n",
      "QUERY:  temperature in Zollikofen July 29, 2021 1h\n",
      "QUERY:  humidity in Zollikofen July 29, 2021 1h\n",
      "QUERY:  wind speed in Zollikofen July 29, 2021 1h\n",
      "QUERY:  Moon Phase calculatorJuly 29, 2021 1h\n"
     ]
    },
    {
     "name": "stderr",
     "output_type": "stream",
     "text": [
      "\r",
      " 57%|█████████████████████████████████████████████▌                                  | 126/221 [42:27<27:41, 17.49s/it]"
     ]
    },
    {
     "name": "stdout",
     "output_type": "stream",
     "text": [
      "QUERY:  Precipitation amount in Zollikofen July 29, 2021 2h\n",
      "QUERY:  temperature in Zollikofen July 29, 2021 2h\n",
      "QUERY:  humidity in Zollikofen July 29, 2021 2h\n",
      "QUERY:  wind speed in Zollikofen July 29, 2021 2h\n",
      "QUERY:  Moon Phase calculatorJuly 29, 2021 2h\n"
     ]
    },
    {
     "name": "stderr",
     "output_type": "stream",
     "text": [
      "\r",
      " 57%|█████████████████████████████████████████████▉                                  | 127/221 [42:45<27:41, 17.68s/it]"
     ]
    },
    {
     "name": "stdout",
     "output_type": "stream",
     "text": [
      "QUERY:  Precipitation amount in Zollikofen July 29, 2021 3h\n",
      "QUERY:  temperature in Zollikofen July 29, 2021 3h\n",
      "QUERY:  humidity in Zollikofen July 29, 2021 3h\n",
      "QUERY:  wind speed in Zollikofen July 29, 2021 3h\n",
      "QUERY:  Moon Phase calculatorJuly 29, 2021 3h\n"
     ]
    },
    {
     "name": "stderr",
     "output_type": "stream",
     "text": [
      "\r",
      " 58%|██████████████████████████████████████████████▎                                 | 128/221 [43:02<27:02, 17.44s/it]"
     ]
    },
    {
     "name": "stdout",
     "output_type": "stream",
     "text": [
      "QUERY:  Precipitation amount in Zollikofen July 29, 2021 4h\n",
      "QUERY:  temperature in Zollikofen July 29, 2021 4h\n",
      "QUERY:  humidity in Zollikofen July 29, 2021 4h\n",
      "QUERY:  wind speed in Zollikofen July 29, 2021 4h\n",
      "QUERY:  Moon Phase calculatorJuly 29, 2021 4h\n"
     ]
    },
    {
     "name": "stderr",
     "output_type": "stream",
     "text": [
      "\r",
      " 58%|██████████████████████████████████████████████▋                                 | 129/221 [43:19<26:37, 17.36s/it]"
     ]
    },
    {
     "name": "stdout",
     "output_type": "stream",
     "text": [
      "QUERY:  Precipitation amount in Zollikofen July 29, 2021 5h\n",
      "QUERY:  temperature in Zollikofen July 29, 2021 5h\n",
      "QUERY:  humidity in Zollikofen July 29, 2021 5h\n",
      "QUERY:  wind speed in Zollikofen July 29, 2021 5h\n",
      "QUERY:  Moon Phase calculatorJuly 29, 2021 5h\n"
     ]
    },
    {
     "name": "stderr",
     "output_type": "stream",
     "text": [
      "\r",
      " 59%|███████████████████████████████████████████████                                 | 130/221 [43:36<26:08, 17.23s/it]"
     ]
    },
    {
     "name": "stdout",
     "output_type": "stream",
     "text": [
      "QUERY:  Precipitation amount in Zollikofen July 29, 2021 6h\n",
      "QUERY:  temperature in Zollikofen July 29, 2021 6h\n",
      "QUERY:  humidity in Zollikofen July 29, 2021 6h\n",
      "QUERY:  wind speed in Zollikofen July 29, 2021 6h\n",
      "QUERY:  Moon Phase calculatorJuly 29, 2021 6h\n",
      "(7279, 7)\n"
     ]
    },
    {
     "data": {
      "text/html": [
       "<div>\n",
       "<style scoped>\n",
       "    .dataframe tbody tr th:only-of-type {\n",
       "        vertical-align: middle;\n",
       "    }\n",
       "\n",
       "    .dataframe tbody tr th {\n",
       "        vertical-align: top;\n",
       "    }\n",
       "\n",
       "    .dataframe thead th {\n",
       "        text-align: right;\n",
       "    }\n",
       "</style>\n",
       "<table border=\"1\" class=\"dataframe\">\n",
       "  <thead>\n",
       "    <tr style=\"text-align: right;\">\n",
       "      <th></th>\n",
       "      <th>date</th>\n",
       "      <th>temperature</th>\n",
       "      <th>humidity</th>\n",
       "      <th>wind speed</th>\n",
       "      <th>Precipitation amount</th>\n",
       "      <th>query</th>\n",
       "      <th>Moon Phase calculator</th>\n",
       "    </tr>\n",
       "  </thead>\n",
       "  <tbody>\n",
       "    <tr>\n",
       "      <th>8</th>\n",
       "      <td>2021-07-29 05:00:00</td>\n",
       "      <td>15 °C\\n(5:00 am CEST | Thursday, July 29, 2021)</td>\n",
       "      <td>average: 97% (94 to 100%)\\n(5:00 am CEST | Thu...</td>\n",
       "      <td>0 m/s\\n(5:00 am CEST | Thursday, July 29, 2021)</td>\n",
       "      <td>no precipitation\\n(5:00 am CEST | Thursday, Ju...</td>\n",
       "      <td>Moon Phase calculatorJuly 29, 2021 5h</td>\n",
       "      <td>| waning gibbous moon\\n72.93% illuminated</td>\n",
       "    </tr>\n",
       "    <tr>\n",
       "      <th>9</th>\n",
       "      <td>2021-07-29 06:00:00</td>\n",
       "      <td>15 °C\\n(6:00 am CEST | Thursday, July 29, 2021)</td>\n",
       "      <td>average: 94% (94%)\\n(6:00 am CEST | Thursday, ...</td>\n",
       "      <td>1 m/s\\n(6:00 am CEST | Thursday, July 29, 2021)</td>\n",
       "      <td>no precipitation\\n(6:00 am CEST | Thursday, Ju...</td>\n",
       "      <td>Moon Phase calculatorJuly 29, 2021 6h</td>\n",
       "      <td>| waning gibbous moon\\n72.56% illuminated</td>\n",
       "    </tr>\n",
       "  </tbody>\n",
       "</table>\n",
       "</div>"
      ],
      "text/plain": [
       "                 date                                      temperature  \\\n",
       "8 2021-07-29 05:00:00  15 °C\\n(5:00 am CEST | Thursday, July 29, 2021)   \n",
       "9 2021-07-29 06:00:00  15 °C\\n(6:00 am CEST | Thursday, July 29, 2021)   \n",
       "\n",
       "                                            humidity  \\\n",
       "8  average: 97% (94 to 100%)\\n(5:00 am CEST | Thu...   \n",
       "9  average: 94% (94%)\\n(6:00 am CEST | Thursday, ...   \n",
       "\n",
       "                                        wind speed  \\\n",
       "8  0 m/s\\n(5:00 am CEST | Thursday, July 29, 2021)   \n",
       "9  1 m/s\\n(6:00 am CEST | Thursday, July 29, 2021)   \n",
       "\n",
       "                                Precipitation amount  \\\n",
       "8  no precipitation\\n(5:00 am CEST | Thursday, Ju...   \n",
       "9  no precipitation\\n(6:00 am CEST | Thursday, Ju...   \n",
       "\n",
       "                                   query  \\\n",
       "8  Moon Phase calculatorJuly 29, 2021 5h   \n",
       "9  Moon Phase calculatorJuly 29, 2021 6h   \n",
       "\n",
       "                       Moon Phase calculator  \n",
       "8  | waning gibbous moon\\n72.93% illuminated  \n",
       "9  | waning gibbous moon\\n72.56% illuminated  "
      ]
     },
     "metadata": {},
     "output_type": "display_data"
    },
    {
     "name": "stderr",
     "output_type": "stream",
     "text": [
      "\r",
      " 59%|███████████████████████████████████████████████▍                                | 131/221 [43:54<25:55, 17.28s/it]"
     ]
    },
    {
     "name": "stdout",
     "output_type": "stream",
     "text": [
      "QUERY:  Precipitation amount in Zollikofen July 29, 2021 7h\n",
      "QUERY:  temperature in Zollikofen July 29, 2021 7h\n",
      "QUERY:  humidity in Zollikofen July 29, 2021 7h\n",
      "QUERY:  wind speed in Zollikofen July 29, 2021 7h\n",
      "QUERY:  Moon Phase calculatorJuly 29, 2021 7h\n"
     ]
    },
    {
     "name": "stderr",
     "output_type": "stream",
     "text": [
      "\r",
      " 60%|███████████████████████████████████████████████▊                                | 132/221 [44:11<25:38, 17.29s/it]"
     ]
    },
    {
     "name": "stdout",
     "output_type": "stream",
     "text": [
      "QUERY:  Precipitation amount in Zollikofen July 29, 2021 8h\n",
      "QUERY:  temperature in Zollikofen July 29, 2021 8h\n",
      "QUERY:  humidity in Zollikofen July 29, 2021 8h\n",
      "QUERY:  wind speed in Zollikofen July 29, 2021 8h\n",
      "QUERY:  Moon Phase calculatorJuly 29, 2021 8h\n"
     ]
    },
    {
     "name": "stderr",
     "output_type": "stream",
     "text": [
      "\r",
      " 60%|████████████████████████████████████████████████▏                               | 133/221 [44:28<25:01, 17.06s/it]"
     ]
    },
    {
     "name": "stdout",
     "output_type": "stream",
     "text": [
      "QUERY:  Precipitation amount in Zollikofen July 29, 2021 9h\n",
      "QUERY:  temperature in Zollikofen July 29, 2021 9h\n",
      "QUERY:  humidity in Zollikofen July 29, 2021 9h\n",
      "QUERY:  wind speed in Zollikofen July 29, 2021 9h\n",
      "QUERY:  Moon Phase calculatorJuly 29, 2021 9h\n"
     ]
    },
    {
     "name": "stderr",
     "output_type": "stream",
     "text": [
      "\r",
      " 61%|████████████████████████████████████████████████▌                               | 134/221 [44:44<24:25, 16.85s/it]"
     ]
    },
    {
     "name": "stdout",
     "output_type": "stream",
     "text": [
      "QUERY:  Precipitation amount in Zollikofen July 29, 2021 10h\n",
      "QUERY:  temperature in Zollikofen July 29, 2021 10h\n",
      "QUERY:  humidity in Zollikofen July 29, 2021 10h\n",
      "QUERY:  wind speed in Zollikofen July 29, 2021 10h\n",
      "QUERY:  Moon Phase calculatorJuly 29, 2021 10h\n"
     ]
    },
    {
     "name": "stderr",
     "output_type": "stream",
     "text": [
      "\r",
      " 61%|████████████████████████████████████████████████▊                               | 135/221 [45:02<24:36, 17.17s/it]"
     ]
    },
    {
     "name": "stdout",
     "output_type": "stream",
     "text": [
      "QUERY:  Precipitation amount in Zollikofen July 29, 2021 11h\n",
      "QUERY:  temperature in Zollikofen July 29, 2021 11h\n",
      "QUERY:  humidity in Zollikofen July 29, 2021 11h\n",
      "QUERY:  wind speed in Zollikofen July 29, 2021 11h\n",
      "QUERY:  Moon Phase calculatorJuly 29, 2021 11h\n"
     ]
    },
    {
     "name": "stderr",
     "output_type": "stream",
     "text": [
      "\r",
      " 62%|█████████████████████████████████████████████████▏                              | 136/221 [45:19<24:17, 17.15s/it]"
     ]
    },
    {
     "name": "stdout",
     "output_type": "stream",
     "text": [
      "QUERY:  Precipitation amount in Zollikofen July 29, 2021 12h\n",
      "QUERY:  temperature in Zollikofen July 29, 2021 12h\n",
      "QUERY:  humidity in Zollikofen July 29, 2021 12h\n",
      "QUERY:  wind speed in Zollikofen July 29, 2021 12h\n",
      "QUERY:  Moon Phase calculatorJuly 29, 2021 12h\n"
     ]
    },
    {
     "name": "stderr",
     "output_type": "stream",
     "text": [
      "\r",
      " 62%|█████████████████████████████████████████████████▌                              | 137/221 [45:40<25:33, 18.25s/it]"
     ]
    },
    {
     "name": "stdout",
     "output_type": "stream",
     "text": [
      "QUERY:  Precipitation amount in Zollikofen July 29, 2021 13h\n",
      "QUERY:  temperature in Zollikofen July 29, 2021 13h\n",
      "QUERY:  humidity in Zollikofen July 29, 2021 13h\n",
      "QUERY:  wind speed in Zollikofen July 29, 2021 13h\n",
      "QUERY:  Moon Phase calculatorJuly 29, 2021 13h\n"
     ]
    },
    {
     "name": "stderr",
     "output_type": "stream",
     "text": [
      "\r",
      " 62%|█████████████████████████████████████████████████▉                              | 138/221 [46:01<26:29, 19.15s/it]"
     ]
    },
    {
     "name": "stdout",
     "output_type": "stream",
     "text": [
      "QUERY:  Precipitation amount in Zollikofen July 29, 2021 14h\n",
      "QUERY:  temperature in Zollikofen July 29, 2021 14h\n",
      "QUERY:  humidity in Zollikofen July 29, 2021 14h\n",
      "QUERY:  wind speed in Zollikofen July 29, 2021 14h\n",
      "QUERY:  Moon Phase calculatorJuly 29, 2021 14h\n"
     ]
    },
    {
     "name": "stderr",
     "output_type": "stream",
     "text": [
      "\r",
      " 63%|██████████████████████████████████████████████████▎                             | 139/221 [46:23<27:27, 20.09s/it]"
     ]
    },
    {
     "name": "stdout",
     "output_type": "stream",
     "text": [
      "QUERY:  Precipitation amount in Zollikofen July 29, 2021 15h\n",
      "QUERY:  temperature in Zollikofen July 29, 2021 15h\n",
      "QUERY:  humidity in Zollikofen July 29, 2021 15h\n",
      "QUERY:  wind speed in Zollikofen July 29, 2021 15h\n",
      "QUERY:  Moon Phase calculatorJuly 29, 2021 15h\n"
     ]
    },
    {
     "name": "stderr",
     "output_type": "stream",
     "text": [
      "\r",
      " 63%|██████████████████████████████████████████████████▋                             | 140/221 [46:44<27:30, 20.38s/it]"
     ]
    },
    {
     "name": "stdout",
     "output_type": "stream",
     "text": [
      "QUERY:  Precipitation amount in Zollikofen July 29, 2021 16h\n",
      "QUERY:  temperature in Zollikofen July 29, 2021 16h\n",
      "QUERY:  humidity in Zollikofen July 29, 2021 16h\n",
      "QUERY:  wind speed in Zollikofen July 29, 2021 16h\n",
      "QUERY:  Moon Phase calculatorJuly 29, 2021 16h\n",
      "(7289, 7)\n"
     ]
    },
    {
     "data": {
      "text/html": [
       "<div>\n",
       "<style scoped>\n",
       "    .dataframe tbody tr th:only-of-type {\n",
       "        vertical-align: middle;\n",
       "    }\n",
       "\n",
       "    .dataframe tbody tr th {\n",
       "        vertical-align: top;\n",
       "    }\n",
       "\n",
       "    .dataframe thead th {\n",
       "        text-align: right;\n",
       "    }\n",
       "</style>\n",
       "<table border=\"1\" class=\"dataframe\">\n",
       "  <thead>\n",
       "    <tr style=\"text-align: right;\">\n",
       "      <th></th>\n",
       "      <th>date</th>\n",
       "      <th>temperature</th>\n",
       "      <th>humidity</th>\n",
       "      <th>wind speed</th>\n",
       "      <th>Precipitation amount</th>\n",
       "      <th>query</th>\n",
       "      <th>Moon Phase calculator</th>\n",
       "    </tr>\n",
       "  </thead>\n",
       "  <tbody>\n",
       "    <tr>\n",
       "      <th>8</th>\n",
       "      <td>2021-07-29 15:00:00</td>\n",
       "      <td>24 °C\\n(3:00 pm CEST | Thursday, July 29, 2021)</td>\n",
       "      <td>average: 56% (54 to 57%)\\n(3:00 pm CEST | Thur...</td>\n",
       "      <td>2 m/s\\n(3:00 pm CEST | Thursday, July 29, 2021)</td>\n",
       "      <td>no precipitation\\n(3:00 pm CEST | Thursday, Ju...</td>\n",
       "      <td>Moon Phase calculatorJuly 29, 2021 15h</td>\n",
       "      <td>| waning gibbous moon\\n69.16% illuminated</td>\n",
       "    </tr>\n",
       "    <tr>\n",
       "      <th>9</th>\n",
       "      <td>2021-07-29 16:00:00</td>\n",
       "      <td>25 °C\\n(4:00 pm CEST | Thursday, July 29, 2021)</td>\n",
       "      <td>average: 52% (51 to 54%)\\n(4:00 pm CEST | Thur...</td>\n",
       "      <td>2 m/s\\n(4:00 pm CEST | Thursday, July 29, 2021)</td>\n",
       "      <td>no precipitation\\n(4:00 pm CEST | Thursday, Ju...</td>\n",
       "      <td>Moon Phase calculatorJuly 29, 2021 16h</td>\n",
       "      <td>| waning gibbous moon\\n68.78% illuminated</td>\n",
       "    </tr>\n",
       "  </tbody>\n",
       "</table>\n",
       "</div>"
      ],
      "text/plain": [
       "                 date                                      temperature  \\\n",
       "8 2021-07-29 15:00:00  24 °C\\n(3:00 pm CEST | Thursday, July 29, 2021)   \n",
       "9 2021-07-29 16:00:00  25 °C\\n(4:00 pm CEST | Thursday, July 29, 2021)   \n",
       "\n",
       "                                            humidity  \\\n",
       "8  average: 56% (54 to 57%)\\n(3:00 pm CEST | Thur...   \n",
       "9  average: 52% (51 to 54%)\\n(4:00 pm CEST | Thur...   \n",
       "\n",
       "                                        wind speed  \\\n",
       "8  2 m/s\\n(3:00 pm CEST | Thursday, July 29, 2021)   \n",
       "9  2 m/s\\n(4:00 pm CEST | Thursday, July 29, 2021)   \n",
       "\n",
       "                                Precipitation amount  \\\n",
       "8  no precipitation\\n(3:00 pm CEST | Thursday, Ju...   \n",
       "9  no precipitation\\n(4:00 pm CEST | Thursday, Ju...   \n",
       "\n",
       "                                    query  \\\n",
       "8  Moon Phase calculatorJuly 29, 2021 15h   \n",
       "9  Moon Phase calculatorJuly 29, 2021 16h   \n",
       "\n",
       "                       Moon Phase calculator  \n",
       "8  | waning gibbous moon\\n69.16% illuminated  \n",
       "9  | waning gibbous moon\\n68.78% illuminated  "
      ]
     },
     "metadata": {},
     "output_type": "display_data"
    },
    {
     "name": "stderr",
     "output_type": "stream",
     "text": [
      "\r",
      " 64%|███████████████████████████████████████████████████                             | 141/221 [47:06<27:46, 20.83s/it]"
     ]
    },
    {
     "name": "stdout",
     "output_type": "stream",
     "text": [
      "QUERY:  Precipitation amount in Zollikofen July 29, 2021 17h\n",
      "QUERY:  temperature in Zollikofen July 29, 2021 17h\n",
      "QUERY:  humidity in Zollikofen July 29, 2021 17h\n",
      "QUERY:  wind speed in Zollikofen July 29, 2021 17h\n",
      "QUERY:  Moon Phase calculatorJuly 29, 2021 17h\n"
     ]
    },
    {
     "name": "stderr",
     "output_type": "stream",
     "text": [
      "\r",
      " 64%|███████████████████████████████████████████████████▍                            | 142/221 [47:28<27:39, 21.01s/it]"
     ]
    },
    {
     "name": "stdout",
     "output_type": "stream",
     "text": [
      "QUERY:  Precipitation amount in Zollikofen July 29, 2021 18h\n",
      "QUERY:  temperature in Zollikofen July 29, 2021 18h\n",
      "QUERY:  humidity in Zollikofen July 29, 2021 18h\n",
      "QUERY:  wind speed in Zollikofen July 29, 2021 18h\n",
      "QUERY:  Moon Phase calculatorJuly 29, 2021 18h\n"
     ]
    },
    {
     "name": "stderr",
     "output_type": "stream",
     "text": [
      "\r",
      " 65%|███████████████████████████████████████████████████▊                            | 143/221 [47:49<27:30, 21.16s/it]"
     ]
    },
    {
     "name": "stdout",
     "output_type": "stream",
     "text": [
      "QUERY:  Precipitation amount in Zollikofen July 29, 2021 19h\n",
      "QUERY:  temperature in Zollikofen July 29, 2021 19h\n",
      "QUERY:  humidity in Zollikofen July 29, 2021 19h\n",
      "QUERY:  wind speed in Zollikofen July 29, 2021 19h\n",
      "QUERY:  Moon Phase calculatorJuly 29, 2021 19h\n"
     ]
    },
    {
     "name": "stderr",
     "output_type": "stream",
     "text": [
      "\r",
      " 65%|████████████████████████████████████████████████████▏                           | 144/221 [48:10<26:52, 20.95s/it]"
     ]
    },
    {
     "name": "stdout",
     "output_type": "stream",
     "text": [
      "QUERY:  Precipitation amount in Zollikofen July 29, 2021 20h\n",
      "QUERY:  temperature in Zollikofen July 29, 2021 20h\n",
      "QUERY:  humidity in Zollikofen July 29, 2021 20h\n",
      "QUERY:  wind speed in Zollikofen July 29, 2021 20h\n",
      "QUERY:  Moon Phase calculatorJuly 29, 2021 20h\n"
     ]
    },
    {
     "name": "stderr",
     "output_type": "stream",
     "text": [
      "\r",
      " 66%|████████████████████████████████████████████████████▍                           | 145/221 [48:32<26:59, 21.30s/it]"
     ]
    },
    {
     "name": "stdout",
     "output_type": "stream",
     "text": [
      "QUERY:  Precipitation amount in Zollikofen July 29, 2021 21h\n",
      "QUERY:  temperature in Zollikofen July 29, 2021 21h\n",
      "QUERY:  humidity in Zollikofen July 29, 2021 21h\n",
      "QUERY:  wind speed in Zollikofen July 29, 2021 21h\n",
      "QUERY:  Moon Phase calculatorJuly 29, 2021 21h\n"
     ]
    },
    {
     "name": "stderr",
     "output_type": "stream",
     "text": [
      "\r",
      " 66%|████████████████████████████████████████████████████▊                           | 146/221 [48:54<27:05, 21.67s/it]"
     ]
    },
    {
     "name": "stdout",
     "output_type": "stream",
     "text": [
      "QUERY:  Precipitation amount in Zollikofen July 29, 2021 22h\n",
      "QUERY:  temperature in Zollikofen July 29, 2021 22h\n",
      "QUERY:  humidity in Zollikofen July 29, 2021 22h\n",
      "QUERY:  wind speed in Zollikofen July 29, 2021 22h\n",
      "QUERY:  Moon Phase calculatorJuly 29, 2021 22h\n"
     ]
    },
    {
     "name": "stderr",
     "output_type": "stream",
     "text": [
      "\r",
      " 67%|█████████████████████████████████████████████████████▏                          | 147/221 [49:16<26:37, 21.58s/it]"
     ]
    },
    {
     "name": "stdout",
     "output_type": "stream",
     "text": [
      "QUERY:  Precipitation amount in Zollikofen July 29, 2021 23h\n",
      "QUERY:  temperature in Zollikofen July 29, 2021 23h\n",
      "QUERY:  humidity in Zollikofen July 29, 2021 23h\n",
      "ERROR: no data available-------------  humidity in Zollikofen July 29, 2021 23h\n",
      "ERROR:------------- name 'error' is not defined  ----------  humidity in Zollikofen July 29, 2021 23h\n",
      "QUERY:  wind speed in Zollikofen July 29, 2021 23h\n",
      "QUERY:  Moon Phase calculatorJuly 29, 2021 23h\n"
     ]
    },
    {
     "name": "stderr",
     "output_type": "stream",
     "text": [
      "\r",
      " 67%|█████████████████████████████████████████████████████▌                          | 148/221 [49:36<25:39, 21.09s/it]"
     ]
    },
    {
     "name": "stdout",
     "output_type": "stream",
     "text": [
      "QUERY:  Precipitation amount in Zollikofen July 30, 2021 0h\n",
      "QUERY:  temperature in Zollikofen July 30, 2021 0h\n",
      "QUERY:  humidity in Zollikofen July 30, 2021 0h\n",
      "ERROR: no data available-------------  humidity in Zollikofen July 30, 2021 0h\n",
      "ERROR:------------- name 'error' is not defined  ----------  humidity in Zollikofen July 30, 2021 0h\n",
      "QUERY:  wind speed in Zollikofen July 30, 2021 0h\n",
      "QUERY:  Moon Phase calculatorJuly 30, 2021 0h\n"
     ]
    },
    {
     "name": "stderr",
     "output_type": "stream",
     "text": [
      "\r",
      " 67%|█████████████████████████████████████████████████████▉                          | 149/221 [49:55<24:44, 20.62s/it]"
     ]
    },
    {
     "name": "stdout",
     "output_type": "stream",
     "text": [
      "QUERY:  Precipitation amount in Zollikofen July 30, 2021 1h\n",
      "QUERY:  temperature in Zollikofen July 30, 2021 1h\n",
      "QUERY:  humidity in Zollikofen July 30, 2021 1h\n",
      "QUERY:  wind speed in Zollikofen July 30, 2021 1h\n",
      "QUERY:  Moon Phase calculatorJuly 30, 2021 1h\n"
     ]
    },
    {
     "name": "stderr",
     "output_type": "stream",
     "text": [
      "\r",
      " 68%|██████████████████████████████████████████████████████▎                         | 150/221 [50:15<24:16, 20.51s/it]"
     ]
    },
    {
     "name": "stdout",
     "output_type": "stream",
     "text": [
      "QUERY:  Precipitation amount in Zollikofen July 30, 2021 2h\n",
      "QUERY:  temperature in Zollikofen July 30, 2021 2h\n",
      "QUERY:  humidity in Zollikofen July 30, 2021 2h\n",
      "QUERY:  wind speed in Zollikofen July 30, 2021 2h\n",
      "QUERY:  Moon Phase calculatorJuly 30, 2021 2h\n",
      "(7299, 7)\n"
     ]
    },
    {
     "data": {
      "text/html": [
       "<div>\n",
       "<style scoped>\n",
       "    .dataframe tbody tr th:only-of-type {\n",
       "        vertical-align: middle;\n",
       "    }\n",
       "\n",
       "    .dataframe tbody tr th {\n",
       "        vertical-align: top;\n",
       "    }\n",
       "\n",
       "    .dataframe thead th {\n",
       "        text-align: right;\n",
       "    }\n",
       "</style>\n",
       "<table border=\"1\" class=\"dataframe\">\n",
       "  <thead>\n",
       "    <tr style=\"text-align: right;\">\n",
       "      <th></th>\n",
       "      <th>date</th>\n",
       "      <th>temperature</th>\n",
       "      <th>humidity</th>\n",
       "      <th>wind speed</th>\n",
       "      <th>Precipitation amount</th>\n",
       "      <th>query</th>\n",
       "      <th>Moon Phase calculator</th>\n",
       "    </tr>\n",
       "  </thead>\n",
       "  <tbody>\n",
       "    <tr>\n",
       "      <th>8</th>\n",
       "      <td>2021-07-30 01:00:00</td>\n",
       "      <td>17 °C\\n(1:00 am CEST | Friday, July 30, 2021)</td>\n",
       "      <td>average: 97% (94 to 100%)\\n(1:00 am CEST | Fri...</td>\n",
       "      <td>1 m/s\\n(1:00 am CEST | Friday, July 30, 2021)</td>\n",
       "      <td>no precipitation\\n(1:00 am CEST | Friday, July...</td>\n",
       "      <td>Moon Phase calculatorJuly 30, 2021 1h</td>\n",
       "      <td>| waning gibbous moon\\n65.30% illuminated</td>\n",
       "    </tr>\n",
       "    <tr>\n",
       "      <th>9</th>\n",
       "      <td>2021-07-30 02:00:00</td>\n",
       "      <td>17 °C\\n(2:00 am CEST | Friday, July 30, 2021)</td>\n",
       "      <td>average: 88% (88%)\\n(2:00 am CEST | Friday, Ju...</td>\n",
       "      <td>1 m/s\\n(2:00 am CEST | Friday, July 30, 2021)</td>\n",
       "      <td>rain\\n(2:00 am CEST | Friday, July 30, 2021)</td>\n",
       "      <td>Moon Phase calculatorJuly 30, 2021 2h</td>\n",
       "      <td>| waning gibbous moon\\n64.91% illuminated</td>\n",
       "    </tr>\n",
       "  </tbody>\n",
       "</table>\n",
       "</div>"
      ],
      "text/plain": [
       "                 date                                    temperature  \\\n",
       "8 2021-07-30 01:00:00  17 °C\\n(1:00 am CEST | Friday, July 30, 2021)   \n",
       "9 2021-07-30 02:00:00  17 °C\\n(2:00 am CEST | Friday, July 30, 2021)   \n",
       "\n",
       "                                            humidity  \\\n",
       "8  average: 97% (94 to 100%)\\n(1:00 am CEST | Fri...   \n",
       "9  average: 88% (88%)\\n(2:00 am CEST | Friday, Ju...   \n",
       "\n",
       "                                      wind speed  \\\n",
       "8  1 m/s\\n(1:00 am CEST | Friday, July 30, 2021)   \n",
       "9  1 m/s\\n(2:00 am CEST | Friday, July 30, 2021)   \n",
       "\n",
       "                                Precipitation amount  \\\n",
       "8  no precipitation\\n(1:00 am CEST | Friday, July...   \n",
       "9       rain\\n(2:00 am CEST | Friday, July 30, 2021)   \n",
       "\n",
       "                                   query  \\\n",
       "8  Moon Phase calculatorJuly 30, 2021 1h   \n",
       "9  Moon Phase calculatorJuly 30, 2021 2h   \n",
       "\n",
       "                       Moon Phase calculator  \n",
       "8  | waning gibbous moon\\n65.30% illuminated  \n",
       "9  | waning gibbous moon\\n64.91% illuminated  "
      ]
     },
     "metadata": {},
     "output_type": "display_data"
    },
    {
     "name": "stderr",
     "output_type": "stream",
     "text": [
      "\r",
      " 68%|██████████████████████████████████████████████████████▋                         | 151/221 [50:36<23:46, 20.38s/it]"
     ]
    },
    {
     "name": "stdout",
     "output_type": "stream",
     "text": [
      "QUERY:  Precipitation amount in Zollikofen July 30, 2021 3h\n",
      "QUERY:  temperature in Zollikofen July 30, 2021 3h\n",
      "QUERY:  humidity in Zollikofen July 30, 2021 3h\n",
      "QUERY:  wind speed in Zollikofen July 30, 2021 3h\n",
      "QUERY:  Moon Phase calculatorJuly 30, 2021 3h\n"
     ]
    },
    {
     "name": "stderr",
     "output_type": "stream",
     "text": [
      "\r",
      " 69%|███████████████████████████████████████████████████████                         | 152/221 [50:57<23:47, 20.69s/it]"
     ]
    },
    {
     "name": "stdout",
     "output_type": "stream",
     "text": [
      "QUERY:  Precipitation amount in Zollikofen July 30, 2021 4h\n",
      "QUERY:  temperature in Zollikofen July 30, 2021 4h\n",
      "QUERY:  humidity in Zollikofen July 30, 2021 4h\n",
      "QUERY:  wind speed in Zollikofen July 30, 2021 4h\n",
      "QUERY:  Moon Phase calculatorJuly 30, 2021 4h\n"
     ]
    },
    {
     "name": "stderr",
     "output_type": "stream",
     "text": [
      "\r",
      " 69%|███████████████████████████████████████████████████████▍                        | 153/221 [51:17<23:24, 20.65s/it]"
     ]
    },
    {
     "name": "stdout",
     "output_type": "stream",
     "text": [
      "QUERY:  Precipitation amount in Zollikofen July 30, 2021 5h\n",
      "QUERY:  temperature in Zollikofen July 30, 2021 5h\n",
      "QUERY:  humidity in Zollikofen July 30, 2021 5h\n",
      "QUERY:  wind speed in Zollikofen July 30, 2021 5h\n",
      "QUERY:  Moon Phase calculatorJuly 30, 2021 5h\n"
     ]
    },
    {
     "name": "stderr",
     "output_type": "stream",
     "text": [
      "\r",
      " 70%|███████████████████████████████████████████████████████▋                        | 154/221 [51:38<23:02, 20.64s/it]"
     ]
    },
    {
     "name": "stdout",
     "output_type": "stream",
     "text": [
      "QUERY:  Precipitation amount in Zollikofen July 30, 2021 6h\n",
      "QUERY:  temperature in Zollikofen July 30, 2021 6h\n",
      "QUERY:  humidity in Zollikofen July 30, 2021 6h\n",
      "QUERY:  wind speed in Zollikofen July 30, 2021 6h\n",
      "QUERY:  Moon Phase calculatorJuly 30, 2021 6h\n"
     ]
    },
    {
     "name": "stderr",
     "output_type": "stream",
     "text": [
      "\r",
      " 70%|████████████████████████████████████████████████████████                        | 155/221 [51:59<22:47, 20.71s/it]"
     ]
    },
    {
     "name": "stdout",
     "output_type": "stream",
     "text": [
      "QUERY:  Precipitation amount in Zollikofen July 30, 2021 7h\n",
      "QUERY:  temperature in Zollikofen July 30, 2021 7h\n",
      "QUERY:  humidity in Zollikofen July 30, 2021 7h\n",
      "QUERY:  wind speed in Zollikofen July 30, 2021 7h\n",
      "QUERY:  Moon Phase calculatorJuly 30, 2021 7h\n"
     ]
    },
    {
     "name": "stderr",
     "output_type": "stream",
     "text": [
      "\r",
      " 71%|████████████████████████████████████████████████████████▍                       | 156/221 [52:20<22:37, 20.89s/it]"
     ]
    },
    {
     "name": "stdout",
     "output_type": "stream",
     "text": [
      "QUERY:  Precipitation amount in Zollikofen July 30, 2021 8h\n",
      "QUERY:  temperature in Zollikofen July 30, 2021 8h\n",
      "QUERY:  humidity in Zollikofen July 30, 2021 8h\n",
      "QUERY:  wind speed in Zollikofen July 30, 2021 8h\n",
      "QUERY:  Moon Phase calculatorJuly 30, 2021 8h\n"
     ]
    },
    {
     "name": "stderr",
     "output_type": "stream",
     "text": [
      "\r",
      " 71%|████████████████████████████████████████████████████████▊                       | 157/221 [52:41<22:20, 20.95s/it]"
     ]
    },
    {
     "name": "stdout",
     "output_type": "stream",
     "text": [
      "QUERY:  Precipitation amount in Zollikofen July 30, 2021 9h\n",
      "QUERY:  temperature in Zollikofen July 30, 2021 9h\n",
      "QUERY:  humidity in Zollikofen July 30, 2021 9h\n",
      "QUERY:  wind speed in Zollikofen July 30, 2021 9h\n",
      "QUERY:  Moon Phase calculatorJuly 30, 2021 9h\n"
     ]
    },
    {
     "name": "stderr",
     "output_type": "stream",
     "text": [
      "\r",
      " 71%|█████████████████████████████████████████████████████████▏                      | 158/221 [53:02<21:56, 20.90s/it]"
     ]
    },
    {
     "name": "stdout",
     "output_type": "stream",
     "text": [
      "QUERY:  Precipitation amount in Zollikofen July 30, 2021 10h\n",
      "QUERY:  temperature in Zollikofen July 30, 2021 10h\n",
      "QUERY:  humidity in Zollikofen July 30, 2021 10h\n",
      "QUERY:  wind speed in Zollikofen July 30, 2021 10h\n",
      "QUERY:  Moon Phase calculatorJuly 30, 2021 10h\n"
     ]
    },
    {
     "name": "stderr",
     "output_type": "stream",
     "text": [
      "\r",
      " 72%|█████████████████████████████████████████████████████████▌                      | 159/221 [53:23<21:29, 20.81s/it]"
     ]
    },
    {
     "name": "stdout",
     "output_type": "stream",
     "text": [
      "QUERY:  Precipitation amount in Zollikofen July 30, 2021 11h\n",
      "QUERY:  temperature in Zollikofen July 30, 2021 11h\n",
      "QUERY:  humidity in Zollikofen July 30, 2021 11h\n",
      "QUERY:  wind speed in Zollikofen July 30, 2021 11h\n",
      "QUERY:  Moon Phase calculatorJuly 30, 2021 11h\n"
     ]
    },
    {
     "name": "stderr",
     "output_type": "stream",
     "text": [
      "\r",
      " 72%|█████████████████████████████████████████████████████████▉                      | 160/221 [53:44<21:18, 20.95s/it]"
     ]
    },
    {
     "name": "stdout",
     "output_type": "stream",
     "text": [
      "QUERY:  Precipitation amount in Zollikofen July 30, 2021 12h\n",
      "QUERY:  temperature in Zollikofen July 30, 2021 12h\n",
      "QUERY:  humidity in Zollikofen July 30, 2021 12h\n",
      "QUERY:  wind speed in Zollikofen July 30, 2021 12h\n",
      "QUERY:  Moon Phase calculatorJuly 30, 2021 12h\n",
      "(7309, 7)\n"
     ]
    },
    {
     "data": {
      "text/html": [
       "<div>\n",
       "<style scoped>\n",
       "    .dataframe tbody tr th:only-of-type {\n",
       "        vertical-align: middle;\n",
       "    }\n",
       "\n",
       "    .dataframe tbody tr th {\n",
       "        vertical-align: top;\n",
       "    }\n",
       "\n",
       "    .dataframe thead th {\n",
       "        text-align: right;\n",
       "    }\n",
       "</style>\n",
       "<table border=\"1\" class=\"dataframe\">\n",
       "  <thead>\n",
       "    <tr style=\"text-align: right;\">\n",
       "      <th></th>\n",
       "      <th>date</th>\n",
       "      <th>temperature</th>\n",
       "      <th>humidity</th>\n",
       "      <th>wind speed</th>\n",
       "      <th>Precipitation amount</th>\n",
       "      <th>query</th>\n",
       "      <th>Moon Phase calculator</th>\n",
       "    </tr>\n",
       "  </thead>\n",
       "  <tbody>\n",
       "    <tr>\n",
       "      <th>8</th>\n",
       "      <td>2021-07-30 11:00:00</td>\n",
       "      <td>21 °C\\n(11:00 am CEST | Friday, July 30, 2021)</td>\n",
       "      <td>average: 69% (69%)\\n(11:00 am CEST | Friday, J...</td>\n",
       "      <td>2 m/s\\n(11:00 am CEST | Friday, July 30, 2021)</td>\n",
       "      <td>no precipitation\\n(11:00 am CEST | Friday, Jul...</td>\n",
       "      <td>Moon Phase calculatorJuly 30, 2021 11h</td>\n",
       "      <td>| waning gibbous moon\\n61.38% illuminated</td>\n",
       "    </tr>\n",
       "    <tr>\n",
       "      <th>9</th>\n",
       "      <td>2021-07-30 12:00:00</td>\n",
       "      <td>23 °C\\n(12:00 pm CEST | Friday, July 30, 2021)</td>\n",
       "      <td>average: 65% (65%)\\n(12:00 pm CEST | Friday, J...</td>\n",
       "      <td>2 m/s\\n(12:00 pm CEST | Friday, July 30, 2021)</td>\n",
       "      <td>no precipitation\\n(12:00 pm CEST | Friday, Jul...</td>\n",
       "      <td>Moon Phase calculatorJuly 30, 2021 12h</td>\n",
       "      <td>| waning gibbous moon\\n60.99% illuminated</td>\n",
       "    </tr>\n",
       "  </tbody>\n",
       "</table>\n",
       "</div>"
      ],
      "text/plain": [
       "                 date                                     temperature  \\\n",
       "8 2021-07-30 11:00:00  21 °C\\n(11:00 am CEST | Friday, July 30, 2021)   \n",
       "9 2021-07-30 12:00:00  23 °C\\n(12:00 pm CEST | Friday, July 30, 2021)   \n",
       "\n",
       "                                            humidity  \\\n",
       "8  average: 69% (69%)\\n(11:00 am CEST | Friday, J...   \n",
       "9  average: 65% (65%)\\n(12:00 pm CEST | Friday, J...   \n",
       "\n",
       "                                       wind speed  \\\n",
       "8  2 m/s\\n(11:00 am CEST | Friday, July 30, 2021)   \n",
       "9  2 m/s\\n(12:00 pm CEST | Friday, July 30, 2021)   \n",
       "\n",
       "                                Precipitation amount  \\\n",
       "8  no precipitation\\n(11:00 am CEST | Friday, Jul...   \n",
       "9  no precipitation\\n(12:00 pm CEST | Friday, Jul...   \n",
       "\n",
       "                                    query  \\\n",
       "8  Moon Phase calculatorJuly 30, 2021 11h   \n",
       "9  Moon Phase calculatorJuly 30, 2021 12h   \n",
       "\n",
       "                       Moon Phase calculator  \n",
       "8  | waning gibbous moon\\n61.38% illuminated  \n",
       "9  | waning gibbous moon\\n60.99% illuminated  "
      ]
     },
     "metadata": {},
     "output_type": "display_data"
    },
    {
     "name": "stderr",
     "output_type": "stream",
     "text": [
      "\r",
      " 73%|██████████████████████████████████████████████████████████▎                     | 161/221 [54:07<21:28, 21.48s/it]"
     ]
    },
    {
     "name": "stdout",
     "output_type": "stream",
     "text": [
      "QUERY:  Precipitation amount in Zollikofen July 30, 2021 13h\n",
      "QUERY:  temperature in Zollikofen July 30, 2021 13h\n",
      "QUERY:  humidity in Zollikofen July 30, 2021 13h\n",
      "QUERY:  wind speed in Zollikofen July 30, 2021 13h\n",
      "QUERY:  Moon Phase calculatorJuly 30, 2021 13h\n"
     ]
    },
    {
     "name": "stderr",
     "output_type": "stream",
     "text": [
      "\r",
      " 73%|██████████████████████████████████████████████████████████▋                     | 162/221 [54:28<21:08, 21.50s/it]"
     ]
    },
    {
     "name": "stdout",
     "output_type": "stream",
     "text": [
      "QUERY:  Precipitation amount in Zollikofen July 30, 2021 14h\n",
      "QUERY:  temperature in Zollikofen July 30, 2021 14h\n",
      "QUERY:  humidity in Zollikofen July 30, 2021 14h\n",
      "QUERY:  wind speed in Zollikofen July 30, 2021 14h\n",
      "QUERY:  Moon Phase calculatorJuly 30, 2021 14h\n"
     ]
    },
    {
     "name": "stderr",
     "output_type": "stream",
     "text": [
      "\r",
      " 74%|███████████████████████████████████████████████████████████                     | 163/221 [54:49<20:41, 21.40s/it]"
     ]
    },
    {
     "name": "stdout",
     "output_type": "stream",
     "text": [
      "QUERY:  Precipitation amount in Zollikofen July 30, 2021 15h\n",
      "QUERY:  temperature in Zollikofen July 30, 2021 15h\n",
      "QUERY:  humidity in Zollikofen July 30, 2021 15h\n",
      "QUERY:  wind speed in Zollikofen July 30, 2021 15h\n",
      "QUERY:  Moon Phase calculatorJuly 30, 2021 15h\n"
     ]
    },
    {
     "name": "stderr",
     "output_type": "stream",
     "text": [
      "\r",
      " 74%|███████████████████████████████████████████████████████████▎                    | 164/221 [55:13<20:51, 21.96s/it]"
     ]
    },
    {
     "name": "stdout",
     "output_type": "stream",
     "text": [
      "QUERY:  Precipitation amount in Zollikofen July 30, 2021 16h\n",
      "QUERY:  temperature in Zollikofen July 30, 2021 16h\n",
      "QUERY:  humidity in Zollikofen July 30, 2021 16h\n",
      "QUERY:  wind speed in Zollikofen July 30, 2021 16h\n",
      "QUERY:  Moon Phase calculatorJuly 30, 2021 16h\n"
     ]
    },
    {
     "name": "stderr",
     "output_type": "stream",
     "text": [
      "\r",
      " 75%|███████████████████████████████████████████████████████████▋                    | 165/221 [55:33<20:04, 21.51s/it]"
     ]
    },
    {
     "name": "stdout",
     "output_type": "stream",
     "text": [
      "QUERY:  Precipitation amount in Zollikofen July 30, 2021 17h\n",
      "QUERY:  temperature in Zollikofen July 30, 2021 17h\n",
      "QUERY:  humidity in Zollikofen July 30, 2021 17h\n",
      "QUERY:  wind speed in Zollikofen July 30, 2021 17h\n",
      "QUERY:  Moon Phase calculatorJuly 30, 2021 17h\n"
     ]
    },
    {
     "name": "stderr",
     "output_type": "stream",
     "text": [
      "\r",
      " 75%|████████████████████████████████████████████████████████████                    | 166/221 [55:54<19:34, 21.36s/it]"
     ]
    },
    {
     "name": "stdout",
     "output_type": "stream",
     "text": [
      "QUERY:  Precipitation amount in Zollikofen July 30, 2021 18h\n",
      "QUERY:  temperature in Zollikofen July 30, 2021 18h\n",
      "QUERY:  humidity in Zollikofen July 30, 2021 18h\n",
      "QUERY:  wind speed in Zollikofen July 30, 2021 18h\n",
      "QUERY:  Moon Phase calculatorJuly 30, 2021 18h\n"
     ]
    },
    {
     "name": "stderr",
     "output_type": "stream",
     "text": [
      "\r",
      " 76%|████████████████████████████████████████████████████████████▍                   | 167/221 [56:15<19:02, 21.16s/it]"
     ]
    },
    {
     "name": "stdout",
     "output_type": "stream",
     "text": [
      "QUERY:  Precipitation amount in Zollikofen July 30, 2021 19h\n",
      "QUERY:  temperature in Zollikofen July 30, 2021 19h\n",
      "QUERY:  humidity in Zollikofen July 30, 2021 19h\n",
      "QUERY:  wind speed in Zollikofen July 30, 2021 19h\n",
      "QUERY:  Moon Phase calculatorJuly 30, 2021 19h\n"
     ]
    },
    {
     "name": "stderr",
     "output_type": "stream",
     "text": [
      "\r",
      " 76%|████████████████████████████████████████████████████████████▊                   | 168/221 [56:35<18:28, 20.92s/it]"
     ]
    },
    {
     "name": "stdout",
     "output_type": "stream",
     "text": [
      "QUERY:  Precipitation amount in Zollikofen July 30, 2021 20h\n",
      "QUERY:  temperature in Zollikofen July 30, 2021 20h\n",
      "QUERY:  humidity in Zollikofen July 30, 2021 20h\n",
      "QUERY:  wind speed in Zollikofen July 30, 2021 20h\n",
      "QUERY:  Moon Phase calculatorJuly 30, 2021 20h\n"
     ]
    },
    {
     "name": "stderr",
     "output_type": "stream",
     "text": [
      "\r",
      " 76%|█████████████████████████████████████████████████████████████▏                  | 169/221 [56:56<18:01, 20.81s/it]"
     ]
    },
    {
     "name": "stdout",
     "output_type": "stream",
     "text": [
      "QUERY:  Precipitation amount in Zollikofen July 30, 2021 21h\n",
      "QUERY:  temperature in Zollikofen July 30, 2021 21h\n",
      "QUERY:  humidity in Zollikofen July 30, 2021 21h\n",
      "ERROR:------------- results  ----------  humidity in Zollikofen July 30, 2021 21h\n",
      "QUERY:  wind speed in Zollikofen July 30, 2021 21h\n",
      "QUERY:  Moon Phase calculatorJuly 30, 2021 21h\n"
     ]
    },
    {
     "name": "stderr",
     "output_type": "stream",
     "text": [
      "\r",
      " 77%|█████████████████████████████████████████████████████████████▌                  | 170/221 [57:18<18:05, 21.28s/it]"
     ]
    },
    {
     "name": "stdout",
     "output_type": "stream",
     "text": [
      "QUERY:  Precipitation amount in Zollikofen July 30, 2021 22h\n",
      "QUERY:  temperature in Zollikofen July 30, 2021 22h\n",
      "QUERY:  humidity in Zollikofen July 30, 2021 22h\n",
      "QUERY:  wind speed in Zollikofen July 30, 2021 22h\n",
      "QUERY:  Moon Phase calculatorJuly 30, 2021 22h\n",
      "(7319, 7)\n"
     ]
    },
    {
     "data": {
      "text/html": [
       "<div>\n",
       "<style scoped>\n",
       "    .dataframe tbody tr th:only-of-type {\n",
       "        vertical-align: middle;\n",
       "    }\n",
       "\n",
       "    .dataframe tbody tr th {\n",
       "        vertical-align: top;\n",
       "    }\n",
       "\n",
       "    .dataframe thead th {\n",
       "        text-align: right;\n",
       "    }\n",
       "</style>\n",
       "<table border=\"1\" class=\"dataframe\">\n",
       "  <thead>\n",
       "    <tr style=\"text-align: right;\">\n",
       "      <th></th>\n",
       "      <th>date</th>\n",
       "      <th>temperature</th>\n",
       "      <th>humidity</th>\n",
       "      <th>wind speed</th>\n",
       "      <th>Precipitation amount</th>\n",
       "      <th>query</th>\n",
       "      <th>Moon Phase calculator</th>\n",
       "    </tr>\n",
       "  </thead>\n",
       "  <tbody>\n",
       "    <tr>\n",
       "      <th>8</th>\n",
       "      <td>2021-07-30 21:00:00</td>\n",
       "      <td>19 °C\\n(9:00 pm CEST | Friday, July 30, 2021)</td>\n",
       "      <td>ERROR</td>\n",
       "      <td>1 m/s\\n(9:00 pm CEST | Friday, July 30, 2021)</td>\n",
       "      <td>rain\\n(9:00 pm CEST | Friday, July 30, 2021)</td>\n",
       "      <td>Moon Phase calculatorJuly 30, 2021 21h</td>\n",
       "      <td>| waning gibbous moon\\n57.41% illuminated</td>\n",
       "    </tr>\n",
       "    <tr>\n",
       "      <th>9</th>\n",
       "      <td>2021-07-30 22:00:00</td>\n",
       "      <td>19 °C\\n(10:00 pm CEST | Friday, July 30, 2021)</td>\n",
       "      <td>average: 88% (88%)\\n(10:00 pm CEST | Friday, J...</td>\n",
       "      <td>1 m/s\\n(10:00 pm CEST | Friday, July 30, 2021)</td>\n",
       "      <td>rain\\n(10:00 pm CEST | Friday, July 30, 2021)</td>\n",
       "      <td>Moon Phase calculatorJuly 30, 2021 22h</td>\n",
       "      <td>| waning gibbous moon\\n57.02% illuminated</td>\n",
       "    </tr>\n",
       "  </tbody>\n",
       "</table>\n",
       "</div>"
      ],
      "text/plain": [
       "                 date                                     temperature  \\\n",
       "8 2021-07-30 21:00:00   19 °C\\n(9:00 pm CEST | Friday, July 30, 2021)   \n",
       "9 2021-07-30 22:00:00  19 °C\\n(10:00 pm CEST | Friday, July 30, 2021)   \n",
       "\n",
       "                                            humidity  \\\n",
       "8                                              ERROR   \n",
       "9  average: 88% (88%)\\n(10:00 pm CEST | Friday, J...   \n",
       "\n",
       "                                       wind speed  \\\n",
       "8   1 m/s\\n(9:00 pm CEST | Friday, July 30, 2021)   \n",
       "9  1 m/s\\n(10:00 pm CEST | Friday, July 30, 2021)   \n",
       "\n",
       "                            Precipitation amount  \\\n",
       "8   rain\\n(9:00 pm CEST | Friday, July 30, 2021)   \n",
       "9  rain\\n(10:00 pm CEST | Friday, July 30, 2021)   \n",
       "\n",
       "                                    query  \\\n",
       "8  Moon Phase calculatorJuly 30, 2021 21h   \n",
       "9  Moon Phase calculatorJuly 30, 2021 22h   \n",
       "\n",
       "                       Moon Phase calculator  \n",
       "8  | waning gibbous moon\\n57.41% illuminated  \n",
       "9  | waning gibbous moon\\n57.02% illuminated  "
      ]
     },
     "metadata": {},
     "output_type": "display_data"
    },
    {
     "name": "stderr",
     "output_type": "stream",
     "text": [
      "\r",
      " 77%|█████████████████████████████████████████████████████████████▉                  | 171/221 [57:40<17:47, 21.35s/it]"
     ]
    },
    {
     "name": "stdout",
     "output_type": "stream",
     "text": [
      "QUERY:  Precipitation amount in Zollikofen July 30, 2021 23h\n",
      "QUERY:  temperature in Zollikofen July 30, 2021 23h\n",
      "ERROR:------------- results  ----------  temperature in Zollikofen July 30, 2021 23h\n",
      "QUERY:  humidity in Zollikofen July 30, 2021 23h\n",
      "QUERY:  wind speed in Zollikofen July 30, 2021 23h\n",
      "QUERY:  Moon Phase calculatorJuly 30, 2021 23h\n"
     ]
    },
    {
     "name": "stderr",
     "output_type": "stream",
     "text": [
      "\r",
      " 78%|██████████████████████████████████████████████████████████████▎                 | 172/221 [58:02<17:38, 21.61s/it]"
     ]
    },
    {
     "name": "stdout",
     "output_type": "stream",
     "text": [
      "QUERY:  Precipitation amount in Zollikofen July 31, 2021 0h\n",
      "QUERY:  temperature in Zollikofen July 31, 2021 0h\n",
      "QUERY:  humidity in Zollikofen July 31, 2021 0h\n",
      "QUERY:  wind speed in Zollikofen July 31, 2021 0h\n",
      "ERROR:------------- results  ----------  wind speed in Zollikofen July 31, 2021 0h\n",
      "QUERY:  Moon Phase calculatorJuly 31, 2021 0h\n"
     ]
    },
    {
     "name": "stderr",
     "output_type": "stream",
     "text": [
      "\r",
      " 78%|██████████████████████████████████████████████████████████████▌                 | 173/221 [58:23<17:10, 21.47s/it]"
     ]
    },
    {
     "name": "stdout",
     "output_type": "stream",
     "text": [
      "QUERY:  Precipitation amount in Zollikofen July 31, 2021 1h\n",
      "QUERY:  temperature in Zollikofen July 31, 2021 1h\n",
      "QUERY:  humidity in Zollikofen July 31, 2021 1h\n",
      "QUERY:  wind speed in Zollikofen July 31, 2021 1h\n",
      "QUERY:  Moon Phase calculatorJuly 31, 2021 1h\n"
     ]
    },
    {
     "name": "stderr",
     "output_type": "stream",
     "text": [
      "\r",
      " 79%|██████████████████████████████████████████████████████████████▉                 | 174/221 [58:44<16:40, 21.28s/it]"
     ]
    },
    {
     "name": "stdout",
     "output_type": "stream",
     "text": [
      "QUERY:  Precipitation amount in Zollikofen July 31, 2021 2h\n",
      "QUERY:  temperature in Zollikofen July 31, 2021 2h\n",
      "QUERY:  humidity in Zollikofen July 31, 2021 2h\n",
      "QUERY:  wind speed in Zollikofen July 31, 2021 2h\n",
      "QUERY:  Moon Phase calculatorJuly 31, 2021 2h\n"
     ]
    },
    {
     "name": "stderr",
     "output_type": "stream",
     "text": [
      "\r",
      " 79%|███████████████████████████████████████████████████████████████▎                | 175/221 [59:05<16:13, 21.16s/it]"
     ]
    },
    {
     "name": "stdout",
     "output_type": "stream",
     "text": [
      "QUERY:  Precipitation amount in Zollikofen July 31, 2021 3h\n",
      "QUERY:  temperature in Zollikofen July 31, 2021 3h\n",
      "QUERY:  humidity in Zollikofen July 31, 2021 3h\n",
      "QUERY:  wind speed in Zollikofen July 31, 2021 3h\n",
      "QUERY:  Moon Phase calculatorJuly 31, 2021 3h\n"
     ]
    },
    {
     "name": "stderr",
     "output_type": "stream",
     "text": [
      "\r",
      " 80%|███████████████████████████████████████████████████████████████▋                | 176/221 [59:25<15:44, 20.99s/it]"
     ]
    },
    {
     "name": "stdout",
     "output_type": "stream",
     "text": [
      "QUERY:  Precipitation amount in Zollikofen July 31, 2021 4h\n",
      "QUERY:  temperature in Zollikofen July 31, 2021 4h\n",
      "QUERY:  humidity in Zollikofen July 31, 2021 4h\n",
      "QUERY:  wind speed in Zollikofen July 31, 2021 4h\n",
      "QUERY:  Moon Phase calculatorJuly 31, 2021 4h\n"
     ]
    },
    {
     "name": "stderr",
     "output_type": "stream",
     "text": [
      "\r",
      " 80%|████████████████████████████████████████████████████████████████                | 177/221 [59:46<15:18, 20.87s/it]"
     ]
    },
    {
     "name": "stdout",
     "output_type": "stream",
     "text": [
      "QUERY:  Precipitation amount in Zollikofen July 31, 2021 5h\n",
      "QUERY:  temperature in Zollikofen July 31, 2021 5h\n",
      "QUERY:  humidity in Zollikofen July 31, 2021 5h\n",
      "QUERY:  wind speed in Zollikofen July 31, 2021 5h\n",
      "QUERY:  Moon Phase calculatorJuly 31, 2021 5h\n"
     ]
    },
    {
     "name": "stderr",
     "output_type": "stream",
     "text": [
      "\r",
      " 81%|██████████████████████████████████████████████████████████████▊               | 178/221 [1:00:06<14:49, 20.70s/it]"
     ]
    },
    {
     "name": "stdout",
     "output_type": "stream",
     "text": [
      "QUERY:  Precipitation amount in Zollikofen July 31, 2021 6h\n",
      "QUERY:  temperature in Zollikofen July 31, 2021 6h\n",
      "QUERY:  humidity in Zollikofen July 31, 2021 6h\n",
      "QUERY:  wind speed in Zollikofen July 31, 2021 6h\n",
      "QUERY:  Moon Phase calculatorJuly 31, 2021 6h\n"
     ]
    },
    {
     "name": "stderr",
     "output_type": "stream",
     "text": [
      "\r",
      " 81%|███████████████████████████████████████████████████████████████▏              | 179/221 [1:00:25<14:09, 20.21s/it]"
     ]
    },
    {
     "name": "stdout",
     "output_type": "stream",
     "text": [
      "QUERY:  Precipitation amount in Zollikofen July 31, 2021 7h\n",
      "QUERY:  temperature in Zollikofen July 31, 2021 7h\n",
      "QUERY:  humidity in Zollikofen July 31, 2021 7h\n",
      "QUERY:  wind speed in Zollikofen July 31, 2021 7h\n",
      "QUERY:  Moon Phase calculatorJuly 31, 2021 7h\n"
     ]
    },
    {
     "name": "stderr",
     "output_type": "stream",
     "text": [
      "\r",
      " 81%|███████████████████████████████████████████████████████████████▌              | 180/221 [1:00:42<12:59, 19.02s/it]"
     ]
    },
    {
     "name": "stdout",
     "output_type": "stream",
     "text": [
      "QUERY:  Precipitation amount in Zollikofen July 31, 2021 8h\n",
      "QUERY:  temperature in Zollikofen July 31, 2021 8h\n",
      "QUERY:  humidity in Zollikofen July 31, 2021 8h\n",
      "QUERY:  wind speed in Zollikofen July 31, 2021 8h\n",
      "QUERY:  Moon Phase calculatorJuly 31, 2021 8h\n",
      "(7329, 7)\n"
     ]
    },
    {
     "data": {
      "text/html": [
       "<div>\n",
       "<style scoped>\n",
       "    .dataframe tbody tr th:only-of-type {\n",
       "        vertical-align: middle;\n",
       "    }\n",
       "\n",
       "    .dataframe tbody tr th {\n",
       "        vertical-align: top;\n",
       "    }\n",
       "\n",
       "    .dataframe thead th {\n",
       "        text-align: right;\n",
       "    }\n",
       "</style>\n",
       "<table border=\"1\" class=\"dataframe\">\n",
       "  <thead>\n",
       "    <tr style=\"text-align: right;\">\n",
       "      <th></th>\n",
       "      <th>date</th>\n",
       "      <th>temperature</th>\n",
       "      <th>humidity</th>\n",
       "      <th>wind speed</th>\n",
       "      <th>Precipitation amount</th>\n",
       "      <th>query</th>\n",
       "      <th>Moon Phase calculator</th>\n",
       "    </tr>\n",
       "  </thead>\n",
       "  <tbody>\n",
       "    <tr>\n",
       "      <th>8</th>\n",
       "      <td>2021-07-31 07:00:00</td>\n",
       "      <td>16 °C\\n(7:00 am CEST | Saturday, July 31, 2021)</td>\n",
       "      <td>average: 97% (94 to 100%)\\n(7:00 am CEST | Sat...</td>\n",
       "      <td>0 m/s\\n(7:00 am CEST | Saturday, July 31, 2021)</td>\n",
       "      <td>no precipitation\\n(7:00 am CEST | Saturday, Ju...</td>\n",
       "      <td>Moon Phase calculatorJuly 31, 2021 7h</td>\n",
       "      <td>| last quarter moon\\n53.43% illuminated</td>\n",
       "    </tr>\n",
       "    <tr>\n",
       "      <th>9</th>\n",
       "      <td>2021-07-31 08:00:00</td>\n",
       "      <td>18 °C\\n(8:00 am CEST | Saturday, July 31, 2021)</td>\n",
       "      <td>average: 88% (88%)\\n(8:00 am CEST | Saturday, ...</td>\n",
       "      <td>1 m/s\\n(8:00 am CEST | Saturday, July 31, 2021)</td>\n",
       "      <td>no precipitation\\n(8:00 am CEST | Saturday, Ju...</td>\n",
       "      <td>Moon Phase calculatorJuly 31, 2021 8h</td>\n",
       "      <td>| last quarter moon\\n53.03% illuminated</td>\n",
       "    </tr>\n",
       "  </tbody>\n",
       "</table>\n",
       "</div>"
      ],
      "text/plain": [
       "                 date                                      temperature  \\\n",
       "8 2021-07-31 07:00:00  16 °C\\n(7:00 am CEST | Saturday, July 31, 2021)   \n",
       "9 2021-07-31 08:00:00  18 °C\\n(8:00 am CEST | Saturday, July 31, 2021)   \n",
       "\n",
       "                                            humidity  \\\n",
       "8  average: 97% (94 to 100%)\\n(7:00 am CEST | Sat...   \n",
       "9  average: 88% (88%)\\n(8:00 am CEST | Saturday, ...   \n",
       "\n",
       "                                        wind speed  \\\n",
       "8  0 m/s\\n(7:00 am CEST | Saturday, July 31, 2021)   \n",
       "9  1 m/s\\n(8:00 am CEST | Saturday, July 31, 2021)   \n",
       "\n",
       "                                Precipitation amount  \\\n",
       "8  no precipitation\\n(7:00 am CEST | Saturday, Ju...   \n",
       "9  no precipitation\\n(8:00 am CEST | Saturday, Ju...   \n",
       "\n",
       "                                   query  \\\n",
       "8  Moon Phase calculatorJuly 31, 2021 7h   \n",
       "9  Moon Phase calculatorJuly 31, 2021 8h   \n",
       "\n",
       "                     Moon Phase calculator  \n",
       "8  | last quarter moon\\n53.43% illuminated  \n",
       "9  | last quarter moon\\n53.03% illuminated  "
      ]
     },
     "metadata": {},
     "output_type": "display_data"
    },
    {
     "name": "stderr",
     "output_type": "stream",
     "text": [
      "\r",
      " 82%|███████████████████████████████████████████████████████████████▉              | 181/221 [1:01:00<12:33, 18.84s/it]"
     ]
    },
    {
     "name": "stdout",
     "output_type": "stream",
     "text": [
      "QUERY:  Precipitation amount in Zollikofen July 31, 2021 9h\n",
      "QUERY:  temperature in Zollikofen July 31, 2021 9h\n",
      "QUERY:  humidity in Zollikofen July 31, 2021 9h\n",
      "QUERY:  wind speed in Zollikofen July 31, 2021 9h\n",
      "QUERY:  Moon Phase calculatorJuly 31, 2021 9h\n"
     ]
    },
    {
     "name": "stderr",
     "output_type": "stream",
     "text": [
      "\r",
      " 82%|████████████████████████████████████████████████████████████████▏             | 182/221 [1:01:16<11:39, 17.94s/it]"
     ]
    },
    {
     "name": "stdout",
     "output_type": "stream",
     "text": [
      "QUERY:  Precipitation amount in Zollikofen July 31, 2021 10h\n",
      "QUERY:  temperature in Zollikofen July 31, 2021 10h\n",
      "QUERY:  humidity in Zollikofen July 31, 2021 10h\n",
      "QUERY:  wind speed in Zollikofen July 31, 2021 10h\n",
      "QUERY:  Moon Phase calculatorJuly 31, 2021 10h\n"
     ]
    },
    {
     "name": "stderr",
     "output_type": "stream",
     "text": [
      "\r",
      " 83%|████████████████████████████████████████████████████████████████▌             | 183/221 [1:01:32<11:02, 17.43s/it]"
     ]
    },
    {
     "name": "stdout",
     "output_type": "stream",
     "text": [
      "QUERY:  Precipitation amount in Zollikofen July 31, 2021 11h\n",
      "QUERY:  temperature in Zollikofen July 31, 2021 11h\n",
      "QUERY:  humidity in Zollikofen July 31, 2021 11h\n",
      "QUERY:  wind speed in Zollikofen July 31, 2021 11h\n",
      "QUERY:  Moon Phase calculatorJuly 31, 2021 11h\n"
     ]
    },
    {
     "name": "stderr",
     "output_type": "stream",
     "text": [
      "\r",
      " 83%|████████████████████████████████████████████████████████████████▉             | 184/221 [1:01:49<10:43, 17.38s/it]"
     ]
    },
    {
     "name": "stdout",
     "output_type": "stream",
     "text": [
      "QUERY:  Precipitation amount in Zollikofen July 31, 2021 12h\n",
      "QUERY:  temperature in Zollikofen July 31, 2021 12h\n",
      "QUERY:  humidity in Zollikofen July 31, 2021 12h\n",
      "QUERY:  wind speed in Zollikofen July 31, 2021 12h\n",
      "QUERY:  Moon Phase calculatorJuly 31, 2021 12h\n"
     ]
    },
    {
     "name": "stderr",
     "output_type": "stream",
     "text": [
      "\r",
      " 84%|█████████████████████████████████████████████████████████████████▎            | 185/221 [1:02:05<10:12, 17.01s/it]"
     ]
    },
    {
     "name": "stdout",
     "output_type": "stream",
     "text": [
      "QUERY:  Precipitation amount in Zollikofen July 31, 2021 13h\n",
      "QUERY:  temperature in Zollikofen July 31, 2021 13h\n",
      "QUERY:  humidity in Zollikofen July 31, 2021 13h\n",
      "QUERY:  wind speed in Zollikofen July 31, 2021 13h\n",
      "QUERY:  Moon Phase calculatorJuly 31, 2021 13h\n"
     ]
    },
    {
     "name": "stderr",
     "output_type": "stream",
     "text": [
      "\r",
      " 84%|█████████████████████████████████████████████████████████████████▋            | 186/221 [1:02:22<09:47, 16.79s/it]"
     ]
    },
    {
     "name": "stdout",
     "output_type": "stream",
     "text": [
      "QUERY:  Precipitation amount in Zollikofen July 31, 2021 14h\n",
      "QUERY:  temperature in Zollikofen July 31, 2021 14h\n",
      "QUERY:  humidity in Zollikofen July 31, 2021 14h\n",
      "QUERY:  wind speed in Zollikofen July 31, 2021 14h\n",
      "QUERY:  Moon Phase calculatorJuly 31, 2021 14h\n"
     ]
    },
    {
     "name": "stderr",
     "output_type": "stream",
     "text": [
      "\r",
      " 85%|██████████████████████████████████████████████████████████████████            | 187/221 [1:02:38<09:25, 16.62s/it]"
     ]
    },
    {
     "name": "stdout",
     "output_type": "stream",
     "text": [
      "QUERY:  Precipitation amount in Zollikofen July 31, 2021 15h\n",
      "QUERY:  temperature in Zollikofen July 31, 2021 15h\n",
      "QUERY:  humidity in Zollikofen July 31, 2021 15h\n",
      "QUERY:  wind speed in Zollikofen July 31, 2021 15h\n",
      "QUERY:  Moon Phase calculatorJuly 31, 2021 15h\n"
     ]
    },
    {
     "name": "stderr",
     "output_type": "stream",
     "text": [
      "\r",
      " 85%|██████████████████████████████████████████████████████████████████▎           | 188/221 [1:02:54<09:01, 16.42s/it]"
     ]
    },
    {
     "name": "stdout",
     "output_type": "stream",
     "text": [
      "QUERY:  Precipitation amount in Zollikofen July 31, 2021 16h\n",
      "QUERY:  temperature in Zollikofen July 31, 2021 16h\n",
      "QUERY:  humidity in Zollikofen July 31, 2021 16h\n",
      "QUERY:  wind speed in Zollikofen July 31, 2021 16h\n",
      "QUERY:  Moon Phase calculatorJuly 31, 2021 16h\n"
     ]
    },
    {
     "name": "stderr",
     "output_type": "stream",
     "text": [
      "\r",
      " 86%|██████████████████████████████████████████████████████████████████▋           | 189/221 [1:03:10<08:42, 16.31s/it]"
     ]
    },
    {
     "name": "stdout",
     "output_type": "stream",
     "text": [
      "QUERY:  Precipitation amount in Zollikofen July 31, 2021 17h\n",
      "QUERY:  temperature in Zollikofen July 31, 2021 17h\n",
      "QUERY:  humidity in Zollikofen July 31, 2021 17h\n",
      "QUERY:  wind speed in Zollikofen July 31, 2021 17h\n",
      "QUERY:  Moon Phase calculatorJuly 31, 2021 17h\n"
     ]
    },
    {
     "name": "stderr",
     "output_type": "stream",
     "text": [
      "\r",
      " 86%|███████████████████████████████████████████████████████████████████           | 190/221 [1:03:26<08:23, 16.25s/it]"
     ]
    },
    {
     "name": "stdout",
     "output_type": "stream",
     "text": [
      "QUERY:  Precipitation amount in Zollikofen July 31, 2021 18h\n",
      "QUERY:  temperature in Zollikofen July 31, 2021 18h\n",
      "QUERY:  humidity in Zollikofen July 31, 2021 18h\n",
      "QUERY:  wind speed in Zollikofen July 31, 2021 18h\n",
      "QUERY:  Moon Phase calculatorJuly 31, 2021 18h\n",
      "(7339, 7)\n"
     ]
    },
    {
     "data": {
      "text/html": [
       "<div>\n",
       "<style scoped>\n",
       "    .dataframe tbody tr th:only-of-type {\n",
       "        vertical-align: middle;\n",
       "    }\n",
       "\n",
       "    .dataframe tbody tr th {\n",
       "        vertical-align: top;\n",
       "    }\n",
       "\n",
       "    .dataframe thead th {\n",
       "        text-align: right;\n",
       "    }\n",
       "</style>\n",
       "<table border=\"1\" class=\"dataframe\">\n",
       "  <thead>\n",
       "    <tr style=\"text-align: right;\">\n",
       "      <th></th>\n",
       "      <th>date</th>\n",
       "      <th>temperature</th>\n",
       "      <th>humidity</th>\n",
       "      <th>wind speed</th>\n",
       "      <th>Precipitation amount</th>\n",
       "      <th>query</th>\n",
       "      <th>Moon Phase calculator</th>\n",
       "    </tr>\n",
       "  </thead>\n",
       "  <tbody>\n",
       "    <tr>\n",
       "      <th>8</th>\n",
       "      <td>2021-07-31 17:00:00</td>\n",
       "      <td>21 °C\\n(5:00 pm CEST | Saturday, July 31, 2021)</td>\n",
       "      <td>average: 64% (64%)\\n(5:00 pm CEST | Saturday, ...</td>\n",
       "      <td>3 m/s\\n(5:00 pm CEST | Saturday, July 31, 2021)</td>\n",
       "      <td>no precipitation\\n(5:00 pm CEST | Saturday, Ju...</td>\n",
       "      <td>Moon Phase calculatorJuly 31, 2021 17h</td>\n",
       "      <td>| last quarter moon\\n49.44% illuminated</td>\n",
       "    </tr>\n",
       "    <tr>\n",
       "      <th>9</th>\n",
       "      <td>2021-07-31 18:00:00</td>\n",
       "      <td>21 °C\\n(6:00 pm CEST | Saturday, July 31, 2021)</td>\n",
       "      <td>average: 69% (68 to 69%)\\n(6:00 pm CEST | Satu...</td>\n",
       "      <td>3 m/s\\n(6:00 pm CEST | Saturday, July 31, 2021)</td>\n",
       "      <td>no precipitation\\n(6:00 pm CEST | Saturday, Ju...</td>\n",
       "      <td>Moon Phase calculatorJuly 31, 2021 18h</td>\n",
       "      <td>| last quarter moon\\n49.04% illuminated</td>\n",
       "    </tr>\n",
       "  </tbody>\n",
       "</table>\n",
       "</div>"
      ],
      "text/plain": [
       "                 date                                      temperature  \\\n",
       "8 2021-07-31 17:00:00  21 °C\\n(5:00 pm CEST | Saturday, July 31, 2021)   \n",
       "9 2021-07-31 18:00:00  21 °C\\n(6:00 pm CEST | Saturday, July 31, 2021)   \n",
       "\n",
       "                                            humidity  \\\n",
       "8  average: 64% (64%)\\n(5:00 pm CEST | Saturday, ...   \n",
       "9  average: 69% (68 to 69%)\\n(6:00 pm CEST | Satu...   \n",
       "\n",
       "                                        wind speed  \\\n",
       "8  3 m/s\\n(5:00 pm CEST | Saturday, July 31, 2021)   \n",
       "9  3 m/s\\n(6:00 pm CEST | Saturday, July 31, 2021)   \n",
       "\n",
       "                                Precipitation amount  \\\n",
       "8  no precipitation\\n(5:00 pm CEST | Saturday, Ju...   \n",
       "9  no precipitation\\n(6:00 pm CEST | Saturday, Ju...   \n",
       "\n",
       "                                    query  \\\n",
       "8  Moon Phase calculatorJuly 31, 2021 17h   \n",
       "9  Moon Phase calculatorJuly 31, 2021 18h   \n",
       "\n",
       "                     Moon Phase calculator  \n",
       "8  | last quarter moon\\n49.44% illuminated  \n",
       "9  | last quarter moon\\n49.04% illuminated  "
      ]
     },
     "metadata": {},
     "output_type": "display_data"
    },
    {
     "name": "stderr",
     "output_type": "stream",
     "text": [
      "\r",
      " 86%|███████████████████████████████████████████████████████████████████▍          | 191/221 [1:03:43<08:17, 16.59s/it]"
     ]
    },
    {
     "name": "stdout",
     "output_type": "stream",
     "text": [
      "QUERY:  Precipitation amount in Zollikofen July 31, 2021 19h\n",
      "QUERY:  temperature in Zollikofen July 31, 2021 19h\n",
      "QUERY:  humidity in Zollikofen July 31, 2021 19h\n",
      "QUERY:  wind speed in Zollikofen July 31, 2021 19h\n",
      "QUERY:  Moon Phase calculatorJuly 31, 2021 19h\n"
     ]
    },
    {
     "name": "stderr",
     "output_type": "stream",
     "text": [
      "\r",
      " 87%|███████████████████████████████████████████████████████████████████▊          | 192/221 [1:03:59<07:54, 16.35s/it]"
     ]
    },
    {
     "name": "stdout",
     "output_type": "stream",
     "text": [
      "QUERY:  Precipitation amount in Zollikofen July 31, 2021 20h\n",
      "QUERY:  temperature in Zollikofen July 31, 2021 20h\n",
      "QUERY:  humidity in Zollikofen July 31, 2021 20h\n",
      "QUERY:  wind speed in Zollikofen July 31, 2021 20h\n",
      "QUERY:  Moon Phase calculatorJuly 31, 2021 20h\n"
     ]
    },
    {
     "name": "stderr",
     "output_type": "stream",
     "text": [
      "\r",
      " 87%|████████████████████████████████████████████████████████████████████          | 193/221 [1:04:15<07:31, 16.11s/it]"
     ]
    },
    {
     "name": "stdout",
     "output_type": "stream",
     "text": [
      "QUERY:  Precipitation amount in Zollikofen July 31, 2021 21h\n",
      "QUERY:  temperature in Zollikofen July 31, 2021 21h\n",
      "QUERY:  humidity in Zollikofen July 31, 2021 21h\n",
      "QUERY:  wind speed in Zollikofen July 31, 2021 21h\n",
      "QUERY:  Moon Phase calculatorJuly 31, 2021 21h\n"
     ]
    },
    {
     "name": "stderr",
     "output_type": "stream",
     "text": [
      "\r",
      " 88%|████████████████████████████████████████████████████████████████████▍         | 194/221 [1:04:31<07:17, 16.21s/it]"
     ]
    },
    {
     "name": "stdout",
     "output_type": "stream",
     "text": [
      "QUERY:  Precipitation amount in Zollikofen July 31, 2021 22h\n",
      "QUERY:  temperature in Zollikofen July 31, 2021 22h\n",
      "QUERY:  humidity in Zollikofen July 31, 2021 22h\n",
      "QUERY:  wind speed in Zollikofen July 31, 2021 22h\n",
      "QUERY:  Moon Phase calculatorJuly 31, 2021 22h\n"
     ]
    },
    {
     "name": "stderr",
     "output_type": "stream",
     "text": [
      "\r",
      " 88%|████████████████████████████████████████████████████████████████████▊         | 195/221 [1:04:48<07:05, 16.36s/it]"
     ]
    },
    {
     "name": "stdout",
     "output_type": "stream",
     "text": [
      "QUERY:  Precipitation amount in Zollikofen July 31, 2021 23h\n",
      "QUERY:  temperature in Zollikofen July 31, 2021 23h\n",
      "QUERY:  humidity in Zollikofen July 31, 2021 23h\n",
      "QUERY:  wind speed in Zollikofen July 31, 2021 23h\n",
      "QUERY:  Moon Phase calculatorJuly 31, 2021 23h\n"
     ]
    },
    {
     "name": "stderr",
     "output_type": "stream",
     "text": [
      "\r",
      " 89%|█████████████████████████████████████████████████████████████████████▏        | 196/221 [1:05:05<06:50, 16.43s/it]"
     ]
    },
    {
     "name": "stdout",
     "output_type": "stream",
     "text": [
      "QUERY:  Precipitation amount in Zollikofen August 1, 2021 0h\n",
      "QUERY:  temperature in Zollikofen August 1, 2021 0h\n",
      "QUERY:  humidity in Zollikofen August 1, 2021 0h\n",
      "QUERY:  wind speed in Zollikofen August 1, 2021 0h\n",
      "QUERY:  Moon Phase calculatorAugust 1, 2021 0h\n"
     ]
    },
    {
     "name": "stderr",
     "output_type": "stream",
     "text": [
      "\r",
      " 89%|█████████████████████████████████████████████████████████████████████▌        | 197/221 [1:05:21<06:31, 16.32s/it]"
     ]
    },
    {
     "name": "stdout",
     "output_type": "stream",
     "text": [
      "QUERY:  Precipitation amount in Zollikofen August 1, 2021 1h\n",
      "QUERY:  temperature in Zollikofen August 1, 2021 1h\n",
      "QUERY:  humidity in Zollikofen August 1, 2021 1h\n",
      "QUERY:  wind speed in Zollikofen August 1, 2021 1h\n",
      "QUERY:  Moon Phase calculatorAugust 1, 2021 1h\n"
     ]
    },
    {
     "name": "stderr",
     "output_type": "stream",
     "text": [
      "\r",
      " 90%|█████████████████████████████████████████████████████████████████████▉        | 198/221 [1:05:40<06:38, 17.31s/it]"
     ]
    },
    {
     "name": "stdout",
     "output_type": "stream",
     "text": [
      "QUERY:  Precipitation amount in Zollikofen August 1, 2021 2h\n",
      "QUERY:  temperature in Zollikofen August 1, 2021 2h\n",
      "QUERY:  humidity in Zollikofen August 1, 2021 2h\n",
      "QUERY:  wind speed in Zollikofen August 1, 2021 2h\n",
      "QUERY:  Moon Phase calculatorAugust 1, 2021 2h\n"
     ]
    },
    {
     "name": "stderr",
     "output_type": "stream",
     "text": [
      "\r",
      " 90%|██████████████████████████████████████████████████████████████████████▏       | 199/221 [1:05:57<06:15, 17.05s/it]"
     ]
    },
    {
     "name": "stdout",
     "output_type": "stream",
     "text": [
      "QUERY:  Precipitation amount in Zollikofen August 1, 2021 3h\n",
      "QUERY:  temperature in Zollikofen August 1, 2021 3h\n",
      "QUERY:  humidity in Zollikofen August 1, 2021 3h\n",
      "QUERY:  wind speed in Zollikofen August 1, 2021 3h\n",
      "QUERY:  Moon Phase calculatorAugust 1, 2021 3h\n"
     ]
    },
    {
     "name": "stderr",
     "output_type": "stream",
     "text": [
      "\r",
      " 90%|██████████████████████████████████████████████████████████████████████▌       | 200/221 [1:06:13<05:55, 16.93s/it]"
     ]
    },
    {
     "name": "stdout",
     "output_type": "stream",
     "text": [
      "QUERY:  Precipitation amount in Zollikofen August 1, 2021 4h\n",
      "QUERY:  temperature in Zollikofen August 1, 2021 4h\n",
      "QUERY:  humidity in Zollikofen August 1, 2021 4h\n",
      "QUERY:  wind speed in Zollikofen August 1, 2021 4h\n",
      "QUERY:  Moon Phase calculatorAugust 1, 2021 4h\n",
      "(7349, 7)\n"
     ]
    },
    {
     "data": {
      "text/html": [
       "<div>\n",
       "<style scoped>\n",
       "    .dataframe tbody tr th:only-of-type {\n",
       "        vertical-align: middle;\n",
       "    }\n",
       "\n",
       "    .dataframe tbody tr th {\n",
       "        vertical-align: top;\n",
       "    }\n",
       "\n",
       "    .dataframe thead th {\n",
       "        text-align: right;\n",
       "    }\n",
       "</style>\n",
       "<table border=\"1\" class=\"dataframe\">\n",
       "  <thead>\n",
       "    <tr style=\"text-align: right;\">\n",
       "      <th></th>\n",
       "      <th>date</th>\n",
       "      <th>temperature</th>\n",
       "      <th>humidity</th>\n",
       "      <th>wind speed</th>\n",
       "      <th>Precipitation amount</th>\n",
       "      <th>query</th>\n",
       "      <th>Moon Phase calculator</th>\n",
       "    </tr>\n",
       "  </thead>\n",
       "  <tbody>\n",
       "    <tr>\n",
       "      <th>8</th>\n",
       "      <td>2021-08-01 03:00:00</td>\n",
       "      <td>14 °C\\n(3:00 am CEST | Sunday, August 1, 2021)</td>\n",
       "      <td>average: 94% (94%)\\n(3:00 am CEST | Sunday, Au...</td>\n",
       "      <td>1 m/s\\n(3:00 am CEST | Sunday, August 1, 2021)</td>\n",
       "      <td>rain\\n(3:00 am CEST | Sunday, August 1, 2021)</td>\n",
       "      <td>Moon Phase calculatorAugust 1, 2021 3h</td>\n",
       "      <td>| last quarter moon\\n45.48% illuminated</td>\n",
       "    </tr>\n",
       "    <tr>\n",
       "      <th>9</th>\n",
       "      <td>2021-08-01 04:00:00</td>\n",
       "      <td>14 °C\\n(4:00 am CEST | Sunday, August 1, 2021)</td>\n",
       "      <td>average: 94% (94%)\\n(4:00 am CEST | Sunday, Au...</td>\n",
       "      <td>2 m/s\\n(4:00 am CEST | Sunday, August 1, 2021)</td>\n",
       "      <td>rain\\n(4:00 am CEST | Sunday, August 1, 2021)</td>\n",
       "      <td>Moon Phase calculatorAugust 1, 2021 4h</td>\n",
       "      <td>| last quarter moon\\n45.08% illuminated</td>\n",
       "    </tr>\n",
       "  </tbody>\n",
       "</table>\n",
       "</div>"
      ],
      "text/plain": [
       "                 date                                     temperature  \\\n",
       "8 2021-08-01 03:00:00  14 °C\\n(3:00 am CEST | Sunday, August 1, 2021)   \n",
       "9 2021-08-01 04:00:00  14 °C\\n(4:00 am CEST | Sunday, August 1, 2021)   \n",
       "\n",
       "                                            humidity  \\\n",
       "8  average: 94% (94%)\\n(3:00 am CEST | Sunday, Au...   \n",
       "9  average: 94% (94%)\\n(4:00 am CEST | Sunday, Au...   \n",
       "\n",
       "                                       wind speed  \\\n",
       "8  1 m/s\\n(3:00 am CEST | Sunday, August 1, 2021)   \n",
       "9  2 m/s\\n(4:00 am CEST | Sunday, August 1, 2021)   \n",
       "\n",
       "                            Precipitation amount  \\\n",
       "8  rain\\n(3:00 am CEST | Sunday, August 1, 2021)   \n",
       "9  rain\\n(4:00 am CEST | Sunday, August 1, 2021)   \n",
       "\n",
       "                                    query  \\\n",
       "8  Moon Phase calculatorAugust 1, 2021 3h   \n",
       "9  Moon Phase calculatorAugust 1, 2021 4h   \n",
       "\n",
       "                     Moon Phase calculator  \n",
       "8  | last quarter moon\\n45.48% illuminated  \n",
       "9  | last quarter moon\\n45.08% illuminated  "
      ]
     },
     "metadata": {},
     "output_type": "display_data"
    },
    {
     "name": "stderr",
     "output_type": "stream",
     "text": [
      "\r",
      " 91%|██████████████████████████████████████████████████████████████████████▉       | 201/221 [1:06:30<05:35, 16.76s/it]"
     ]
    },
    {
     "name": "stdout",
     "output_type": "stream",
     "text": [
      "QUERY:  Precipitation amount in Zollikofen August 1, 2021 5h\n",
      "QUERY:  temperature in Zollikofen August 1, 2021 5h\n",
      "QUERY:  humidity in Zollikofen August 1, 2021 5h\n",
      "QUERY:  wind speed in Zollikofen August 1, 2021 5h\n",
      "QUERY:  Moon Phase calculatorAugust 1, 2021 5h\n"
     ]
    },
    {
     "name": "stderr",
     "output_type": "stream",
     "text": [
      "\r",
      " 91%|███████████████████████████████████████████████████████████████████████▎      | 202/221 [1:06:47<05:20, 16.86s/it]"
     ]
    },
    {
     "name": "stdout",
     "output_type": "stream",
     "text": [
      "QUERY:  Precipitation amount in Zollikofen August 1, 2021 6h\n",
      "QUERY:  temperature in Zollikofen August 1, 2021 6h\n",
      "QUERY:  humidity in Zollikofen August 1, 2021 6h\n",
      "QUERY:  wind speed in Zollikofen August 1, 2021 6h\n",
      "QUERY:  Moon Phase calculatorAugust 1, 2021 6h\n"
     ]
    },
    {
     "name": "stderr",
     "output_type": "stream",
     "text": [
      "\r",
      " 92%|███████████████████████████████████████████████████████████████████████▋      | 203/221 [1:07:05<05:09, 17.18s/it]"
     ]
    },
    {
     "name": "stdout",
     "output_type": "stream",
     "text": [
      "QUERY:  Precipitation amount in Zollikofen August 1, 2021 7h\n",
      "QUERY:  temperature in Zollikofen August 1, 2021 7h\n",
      "QUERY:  humidity in Zollikofen August 1, 2021 7h\n",
      "QUERY:  wind speed in Zollikofen August 1, 2021 7h\n",
      "QUERY:  Moon Phase calculatorAugust 1, 2021 7h\n"
     ]
    },
    {
     "name": "stderr",
     "output_type": "stream",
     "text": [
      "\r",
      " 92%|████████████████████████████████████████████████████████████████████████      | 204/221 [1:07:21<04:47, 16.92s/it]"
     ]
    },
    {
     "name": "stdout",
     "output_type": "stream",
     "text": [
      "QUERY:  Precipitation amount in Zollikofen August 1, 2021 8h\n",
      "QUERY:  temperature in Zollikofen August 1, 2021 8h\n",
      "QUERY:  humidity in Zollikofen August 1, 2021 8h\n",
      "QUERY:  wind speed in Zollikofen August 1, 2021 8h\n",
      "QUERY:  Moon Phase calculatorAugust 1, 2021 8h\n"
     ]
    },
    {
     "name": "stderr",
     "output_type": "stream",
     "text": [
      "\r",
      " 93%|████████████████████████████████████████████████████████████████████████▎     | 205/221 [1:07:38<04:29, 16.82s/it]"
     ]
    },
    {
     "name": "stdout",
     "output_type": "stream",
     "text": [
      "QUERY:  Precipitation amount in Zollikofen August 1, 2021 9h\n",
      "QUERY:  temperature in Zollikofen August 1, 2021 9h\n",
      "QUERY:  humidity in Zollikofen August 1, 2021 9h\n",
      "QUERY:  wind speed in Zollikofen August 1, 2021 9h\n",
      "QUERY:  Moon Phase calculatorAugust 1, 2021 9h\n"
     ]
    },
    {
     "name": "stderr",
     "output_type": "stream",
     "text": [
      "\r",
      " 93%|████████████████████████████████████████████████████████████████████████▋     | 206/221 [1:07:56<04:21, 17.41s/it]"
     ]
    },
    {
     "name": "stdout",
     "output_type": "stream",
     "text": [
      "QUERY:  Precipitation amount in Zollikofen August 1, 2021 10h\n",
      "QUERY:  temperature in Zollikofen August 1, 2021 10h\n",
      "QUERY:  humidity in Zollikofen August 1, 2021 10h\n",
      "QUERY:  wind speed in Zollikofen August 1, 2021 10h\n",
      "QUERY:  Moon Phase calculatorAugust 1, 2021 10h\n"
     ]
    },
    {
     "name": "stderr",
     "output_type": "stream",
     "text": [
      "\r",
      " 94%|█████████████████████████████████████████████████████████████████████████     | 207/221 [1:08:13<04:00, 17.19s/it]"
     ]
    },
    {
     "name": "stdout",
     "output_type": "stream",
     "text": [
      "QUERY:  Precipitation amount in Zollikofen August 1, 2021 11h\n",
      "QUERY:  temperature in Zollikofen August 1, 2021 11h\n",
      "QUERY:  humidity in Zollikofen August 1, 2021 11h\n",
      "QUERY:  wind speed in Zollikofen August 1, 2021 11h\n",
      "QUERY:  Moon Phase calculatorAugust 1, 2021 11h\n"
     ]
    },
    {
     "name": "stderr",
     "output_type": "stream",
     "text": [
      "\r",
      " 94%|█████████████████████████████████████████████████████████████████████████▍    | 208/221 [1:08:30<03:41, 17.01s/it]"
     ]
    },
    {
     "name": "stdout",
     "output_type": "stream",
     "text": [
      "QUERY:  Precipitation amount in Zollikofen August 1, 2021 12h\n",
      "QUERY:  temperature in Zollikofen August 1, 2021 12h\n",
      "QUERY:  humidity in Zollikofen August 1, 2021 12h\n",
      "QUERY:  wind speed in Zollikofen August 1, 2021 12h\n",
      "QUERY:  Moon Phase calculatorAugust 1, 2021 12h\n"
     ]
    },
    {
     "name": "stderr",
     "output_type": "stream",
     "text": [
      "\r",
      " 95%|█████████████████████████████████████████████████████████████████████████▊    | 209/221 [1:08:48<03:28, 17.34s/it]"
     ]
    },
    {
     "name": "stdout",
     "output_type": "stream",
     "text": [
      "QUERY:  Precipitation amount in Zollikofen August 1, 2021 13h\n",
      "QUERY:  temperature in Zollikofen August 1, 2021 13h\n",
      "QUERY:  humidity in Zollikofen August 1, 2021 13h\n",
      "QUERY:  wind speed in Zollikofen August 1, 2021 13h\n",
      "QUERY:  Moon Phase calculatorAugust 1, 2021 13h\n"
     ]
    },
    {
     "name": "stderr",
     "output_type": "stream",
     "text": [
      "\r",
      " 95%|██████████████████████████████████████████████████████████████████████████    | 210/221 [1:09:05<03:08, 17.16s/it]"
     ]
    },
    {
     "name": "stdout",
     "output_type": "stream",
     "text": [
      "QUERY:  Precipitation amount in Zollikofen August 1, 2021 14h\n",
      "QUERY:  temperature in Zollikofen August 1, 2021 14h\n",
      "QUERY:  humidity in Zollikofen August 1, 2021 14h\n",
      "QUERY:  wind speed in Zollikofen August 1, 2021 14h\n",
      "QUERY:  Moon Phase calculatorAugust 1, 2021 14h\n",
      "(7359, 7)\n"
     ]
    },
    {
     "data": {
      "text/html": [
       "<div>\n",
       "<style scoped>\n",
       "    .dataframe tbody tr th:only-of-type {\n",
       "        vertical-align: middle;\n",
       "    }\n",
       "\n",
       "    .dataframe tbody tr th {\n",
       "        vertical-align: top;\n",
       "    }\n",
       "\n",
       "    .dataframe thead th {\n",
       "        text-align: right;\n",
       "    }\n",
       "</style>\n",
       "<table border=\"1\" class=\"dataframe\">\n",
       "  <thead>\n",
       "    <tr style=\"text-align: right;\">\n",
       "      <th></th>\n",
       "      <th>date</th>\n",
       "      <th>temperature</th>\n",
       "      <th>humidity</th>\n",
       "      <th>wind speed</th>\n",
       "      <th>Precipitation amount</th>\n",
       "      <th>query</th>\n",
       "      <th>Moon Phase calculator</th>\n",
       "    </tr>\n",
       "  </thead>\n",
       "  <tbody>\n",
       "    <tr>\n",
       "      <th>8</th>\n",
       "      <td>2021-08-01 13:00:00</td>\n",
       "      <td>15 °C\\n(1:00 pm CEST | Sunday, August 1, 2021)</td>\n",
       "      <td>average: 82% (82%)\\n(1:00 pm CEST | Sunday, Au...</td>\n",
       "      <td>1 m/s\\n(1:00 pm CEST | Sunday, August 1, 2021)</td>\n",
       "      <td>rain\\n(1:00 pm CEST | Sunday, August 1, 2021)</td>\n",
       "      <td>Moon Phase calculatorAugust 1, 2021 13h</td>\n",
       "      <td>| waning crescent moon\\n41.56% illuminated</td>\n",
       "    </tr>\n",
       "    <tr>\n",
       "      <th>9</th>\n",
       "      <td>2021-08-01 14:00:00</td>\n",
       "      <td>16 °C\\n(2:00 pm CEST | Sunday, August 1, 2021)</td>\n",
       "      <td>average: 80% (77 to 82%)\\n(2:00 pm CEST | Sund...</td>\n",
       "      <td>2 m/s\\n(2:00 pm CEST | Sunday, August 1, 2021)</td>\n",
       "      <td>no precipitation\\n(2:00 pm CEST | Sunday, Augu...</td>\n",
       "      <td>Moon Phase calculatorAugust 1, 2021 14h</td>\n",
       "      <td>| waning crescent moon\\n41.17% illuminated</td>\n",
       "    </tr>\n",
       "  </tbody>\n",
       "</table>\n",
       "</div>"
      ],
      "text/plain": [
       "                 date                                     temperature  \\\n",
       "8 2021-08-01 13:00:00  15 °C\\n(1:00 pm CEST | Sunday, August 1, 2021)   \n",
       "9 2021-08-01 14:00:00  16 °C\\n(2:00 pm CEST | Sunday, August 1, 2021)   \n",
       "\n",
       "                                            humidity  \\\n",
       "8  average: 82% (82%)\\n(1:00 pm CEST | Sunday, Au...   \n",
       "9  average: 80% (77 to 82%)\\n(2:00 pm CEST | Sund...   \n",
       "\n",
       "                                       wind speed  \\\n",
       "8  1 m/s\\n(1:00 pm CEST | Sunday, August 1, 2021)   \n",
       "9  2 m/s\\n(2:00 pm CEST | Sunday, August 1, 2021)   \n",
       "\n",
       "                                Precipitation amount  \\\n",
       "8      rain\\n(1:00 pm CEST | Sunday, August 1, 2021)   \n",
       "9  no precipitation\\n(2:00 pm CEST | Sunday, Augu...   \n",
       "\n",
       "                                     query  \\\n",
       "8  Moon Phase calculatorAugust 1, 2021 13h   \n",
       "9  Moon Phase calculatorAugust 1, 2021 14h   \n",
       "\n",
       "                        Moon Phase calculator  \n",
       "8  | waning crescent moon\\n41.56% illuminated  \n",
       "9  | waning crescent moon\\n41.17% illuminated  "
      ]
     },
     "metadata": {},
     "output_type": "display_data"
    },
    {
     "name": "stderr",
     "output_type": "stream",
     "text": [
      "\r",
      " 95%|██████████████████████████████████████████████████████████████████████████▍   | 211/221 [1:09:21<02:48, 16.85s/it]"
     ]
    },
    {
     "name": "stdout",
     "output_type": "stream",
     "text": [
      "QUERY:  Precipitation amount in Zollikofen August 1, 2021 15h\n",
      "QUERY:  temperature in Zollikofen August 1, 2021 15h\n",
      "QUERY:  humidity in Zollikofen August 1, 2021 15h\n",
      "QUERY:  wind speed in Zollikofen August 1, 2021 15h\n",
      "QUERY:  Moon Phase calculatorAugust 1, 2021 15h\n"
     ]
    },
    {
     "name": "stderr",
     "output_type": "stream",
     "text": [
      "\r",
      " 96%|██████████████████████████████████████████████████████████████████████████▊   | 212/221 [1:09:37<02:29, 16.66s/it]"
     ]
    },
    {
     "name": "stdout",
     "output_type": "stream",
     "text": [
      "QUERY:  Precipitation amount in Zollikofen August 1, 2021 16h\n",
      "QUERY:  temperature in Zollikofen August 1, 2021 16h\n",
      "QUERY:  humidity in Zollikofen August 1, 2021 16h\n",
      "QUERY:  wind speed in Zollikofen August 1, 2021 16h\n",
      "QUERY:  Moon Phase calculatorAugust 1, 2021 16h\n"
     ]
    },
    {
     "name": "stderr",
     "output_type": "stream",
     "text": [
      "\r",
      " 96%|███████████████████████████████████████████████████████████████████████████▏  | 213/221 [1:09:55<02:16, 17.11s/it]"
     ]
    },
    {
     "name": "stdout",
     "output_type": "stream",
     "text": [
      "QUERY:  Precipitation amount in Zollikofen August 1, 2021 17h\n",
      "QUERY:  temperature in Zollikofen August 1, 2021 17h\n",
      "QUERY:  humidity in Zollikofen August 1, 2021 17h\n",
      "QUERY:  wind speed in Zollikofen August 1, 2021 17h\n",
      "QUERY:  Moon Phase calculatorAugust 1, 2021 17h\n"
     ]
    },
    {
     "name": "stderr",
     "output_type": "stream",
     "text": [
      "\r",
      " 97%|███████████████████████████████████████████████████████████████████████████▌  | 214/221 [1:10:11<01:58, 16.90s/it]"
     ]
    },
    {
     "name": "stdout",
     "output_type": "stream",
     "text": [
      "QUERY:  Precipitation amount in Zollikofen August 1, 2021 18h\n",
      "QUERY:  temperature in Zollikofen August 1, 2021 18h\n",
      "QUERY:  humidity in Zollikofen August 1, 2021 18h\n",
      "QUERY:  wind speed in Zollikofen August 1, 2021 18h\n",
      "QUERY:  Moon Phase calculatorAugust 1, 2021 18h\n"
     ]
    },
    {
     "name": "stderr",
     "output_type": "stream",
     "text": [
      "\r",
      " 97%|███████████████████████████████████████████████████████████████████████████▉  | 215/221 [1:10:28<01:41, 16.90s/it]"
     ]
    },
    {
     "name": "stdout",
     "output_type": "stream",
     "text": [
      "QUERY:  Precipitation amount in Zollikofen August 1, 2021 19h\n",
      "QUERY:  temperature in Zollikofen August 1, 2021 19h\n",
      "QUERY:  humidity in Zollikofen August 1, 2021 19h\n",
      "QUERY:  wind speed in Zollikofen August 1, 2021 19h\n",
      "QUERY:  Moon Phase calculatorAugust 1, 2021 19h\n"
     ]
    },
    {
     "name": "stderr",
     "output_type": "stream",
     "text": [
      "\r",
      " 98%|████████████████████████████████████████████████████████████████████████████▏ | 216/221 [1:10:49<01:30, 18.17s/it]"
     ]
    },
    {
     "name": "stdout",
     "output_type": "stream",
     "text": [
      "QUERY:  Precipitation amount in Zollikofen August 1, 2021 20h\n",
      "QUERY:  temperature in Zollikofen August 1, 2021 20h\n",
      "QUERY:  humidity in Zollikofen August 1, 2021 20h\n",
      "QUERY:  wind speed in Zollikofen August 1, 2021 20h\n",
      "QUERY:  Moon Phase calculatorAugust 1, 2021 20h\n"
     ]
    },
    {
     "name": "stderr",
     "output_type": "stream",
     "text": [
      "\r",
      " 98%|████████████████████████████████████████████████████████████████████████████▌ | 217/221 [1:11:11<01:16, 19.17s/it]"
     ]
    },
    {
     "name": "stdout",
     "output_type": "stream",
     "text": [
      "QUERY:  Precipitation amount in Zollikofen August 1, 2021 21h\n",
      "QUERY:  temperature in Zollikofen August 1, 2021 21h\n",
      "QUERY:  humidity in Zollikofen August 1, 2021 21h\n",
      "QUERY:  wind speed in Zollikofen August 1, 2021 21h\n",
      "QUERY:  Moon Phase calculatorAugust 1, 2021 21h\n"
     ]
    },
    {
     "name": "stderr",
     "output_type": "stream",
     "text": [
      "\r",
      " 99%|████████████████████████████████████████████████████████████████████████████▉ | 218/221 [1:11:32<00:59, 19.70s/it]"
     ]
    },
    {
     "name": "stdout",
     "output_type": "stream",
     "text": [
      "QUERY:  Precipitation amount in Zollikofen August 1, 2021 22h\n",
      "QUERY:  temperature in Zollikofen August 1, 2021 22h\n",
      "QUERY:  humidity in Zollikofen August 1, 2021 22h\n",
      "QUERY:  wind speed in Zollikofen August 1, 2021 22h\n",
      "QUERY:  Moon Phase calculatorAugust 1, 2021 22h\n"
     ]
    },
    {
     "name": "stderr",
     "output_type": "stream",
     "text": [
      "\r",
      " 99%|█████████████████████████████████████████████████████████████████████████████▎| 219/221 [1:11:53<00:40, 20.07s/it]"
     ]
    },
    {
     "name": "stdout",
     "output_type": "stream",
     "text": [
      "QUERY:  Precipitation amount in Zollikofen August 1, 2021 23h\n",
      "QUERY:  temperature in Zollikofen August 1, 2021 23h\n",
      "QUERY:  humidity in Zollikofen August 1, 2021 23h\n",
      "QUERY:  wind speed in Zollikofen August 1, 2021 23h\n",
      "QUERY:  Moon Phase calculatorAugust 1, 2021 23h\n"
     ]
    },
    {
     "name": "stderr",
     "output_type": "stream",
     "text": [
      "\r",
      "100%|█████████████████████████████████████████████████████████████████████████████▋| 220/221 [1:12:14<00:20, 20.27s/it]"
     ]
    },
    {
     "name": "stdout",
     "output_type": "stream",
     "text": [
      "QUERY:  Precipitation amount in Zollikofen August 2, 2021 0h\n",
      "QUERY:  temperature in Zollikofen August 2, 2021 0h\n",
      "QUERY:  humidity in Zollikofen August 2, 2021 0h\n",
      "QUERY:  wind speed in Zollikofen August 2, 2021 0h\n",
      "QUERY:  Moon Phase calculatorAugust 2, 2021 0h\n",
      "(7369, 7)\n"
     ]
    },
    {
     "data": {
      "text/html": [
       "<div>\n",
       "<style scoped>\n",
       "    .dataframe tbody tr th:only-of-type {\n",
       "        vertical-align: middle;\n",
       "    }\n",
       "\n",
       "    .dataframe tbody tr th {\n",
       "        vertical-align: top;\n",
       "    }\n",
       "\n",
       "    .dataframe thead th {\n",
       "        text-align: right;\n",
       "    }\n",
       "</style>\n",
       "<table border=\"1\" class=\"dataframe\">\n",
       "  <thead>\n",
       "    <tr style=\"text-align: right;\">\n",
       "      <th></th>\n",
       "      <th>date</th>\n",
       "      <th>temperature</th>\n",
       "      <th>humidity</th>\n",
       "      <th>wind speed</th>\n",
       "      <th>Precipitation amount</th>\n",
       "      <th>query</th>\n",
       "      <th>Moon Phase calculator</th>\n",
       "    </tr>\n",
       "  </thead>\n",
       "  <tbody>\n",
       "    <tr>\n",
       "      <th>8</th>\n",
       "      <td>2021-08-01 23:00:00</td>\n",
       "      <td>11 °C\\n(11:00 pm CEST | Sunday, August 1, 2021)</td>\n",
       "      <td>average: 100% (100%)\\n(11:00 pm CEST | Sunday,...</td>\n",
       "      <td>1 m/s\\n(11:00 pm CEST | Sunday, August 1, 2021)</td>\n",
       "      <td>no precipitation\\n(11:00 pm CEST | Sunday, Aug...</td>\n",
       "      <td>Moon Phase calculatorAugust 1, 2021 23h</td>\n",
       "      <td>| waning crescent moon\\n37.69% illuminated</td>\n",
       "    </tr>\n",
       "    <tr>\n",
       "      <th>9</th>\n",
       "      <td>2021-08-02 00:00:00</td>\n",
       "      <td>11 °C\\n(12:00 am CEST | Monday, August 2, 2021)</td>\n",
       "      <td>average: 94% (94%)\\n(12:00 am CEST | Monday, A...</td>\n",
       "      <td>1 m/s\\n(12:00 am CEST | Monday, August 2, 2021)</td>\n",
       "      <td>no precipitation\\n(12:00 am CEST | Monday, Aug...</td>\n",
       "      <td>Moon Phase calculatorAugust 2, 2021 0h</td>\n",
       "      <td>| waning crescent moon\\n37.31% illuminated</td>\n",
       "    </tr>\n",
       "  </tbody>\n",
       "</table>\n",
       "</div>"
      ],
      "text/plain": [
       "                 date                                      temperature  \\\n",
       "8 2021-08-01 23:00:00  11 °C\\n(11:00 pm CEST | Sunday, August 1, 2021)   \n",
       "9 2021-08-02 00:00:00  11 °C\\n(12:00 am CEST | Monday, August 2, 2021)   \n",
       "\n",
       "                                            humidity  \\\n",
       "8  average: 100% (100%)\\n(11:00 pm CEST | Sunday,...   \n",
       "9  average: 94% (94%)\\n(12:00 am CEST | Monday, A...   \n",
       "\n",
       "                                        wind speed  \\\n",
       "8  1 m/s\\n(11:00 pm CEST | Sunday, August 1, 2021)   \n",
       "9  1 m/s\\n(12:00 am CEST | Monday, August 2, 2021)   \n",
       "\n",
       "                                Precipitation amount  \\\n",
       "8  no precipitation\\n(11:00 pm CEST | Sunday, Aug...   \n",
       "9  no precipitation\\n(12:00 am CEST | Monday, Aug...   \n",
       "\n",
       "                                     query  \\\n",
       "8  Moon Phase calculatorAugust 1, 2021 23h   \n",
       "9   Moon Phase calculatorAugust 2, 2021 0h   \n",
       "\n",
       "                        Moon Phase calculator  \n",
       "8  | waning crescent moon\\n37.69% illuminated  \n",
       "9  | waning crescent moon\\n37.31% illuminated  "
      ]
     },
     "metadata": {},
     "output_type": "display_data"
    },
    {
     "name": "stderr",
     "output_type": "stream",
     "text": [
      "100%|██████████████████████████████████████████████████████████████████████████████| 221/221 [1:12:34<00:00, 19.70s/it]"
     ]
    },
    {
     "name": "stdout",
     "output_type": "stream",
     "text": [
      "(7369, 7)\n"
     ]
    },
    {
     "name": "stderr",
     "output_type": "stream",
     "text": [
      "\n"
     ]
    },
    {
     "data": {
      "text/html": [
       "<div>\n",
       "<style scoped>\n",
       "    .dataframe tbody tr th:only-of-type {\n",
       "        vertical-align: middle;\n",
       "    }\n",
       "\n",
       "    .dataframe tbody tr th {\n",
       "        vertical-align: top;\n",
       "    }\n",
       "\n",
       "    .dataframe thead th {\n",
       "        text-align: right;\n",
       "    }\n",
       "</style>\n",
       "<table border=\"1\" class=\"dataframe\">\n",
       "  <thead>\n",
       "    <tr style=\"text-align: right;\">\n",
       "      <th></th>\n",
       "      <th>date</th>\n",
       "      <th>temperature</th>\n",
       "      <th>humidity</th>\n",
       "      <th>wind speed</th>\n",
       "      <th>Precipitation amount</th>\n",
       "      <th>query</th>\n",
       "      <th>Moon Phase calculator</th>\n",
       "    </tr>\n",
       "  </thead>\n",
       "  <tbody>\n",
       "    <tr>\n",
       "      <th>8</th>\n",
       "      <td>2021-08-01 23:00:00</td>\n",
       "      <td>11 °C\\n(11:00 pm CEST | Sunday, August 1, 2021)</td>\n",
       "      <td>average: 100% (100%)\\n(11:00 pm CEST | Sunday,...</td>\n",
       "      <td>1 m/s\\n(11:00 pm CEST | Sunday, August 1, 2021)</td>\n",
       "      <td>no precipitation\\n(11:00 pm CEST | Sunday, Aug...</td>\n",
       "      <td>Moon Phase calculatorAugust 1, 2021 23h</td>\n",
       "      <td>| waning crescent moon\\n37.69% illuminated</td>\n",
       "    </tr>\n",
       "    <tr>\n",
       "      <th>9</th>\n",
       "      <td>2021-08-02 00:00:00</td>\n",
       "      <td>11 °C\\n(12:00 am CEST | Monday, August 2, 2021)</td>\n",
       "      <td>average: 94% (94%)\\n(12:00 am CEST | Monday, A...</td>\n",
       "      <td>1 m/s\\n(12:00 am CEST | Monday, August 2, 2021)</td>\n",
       "      <td>no precipitation\\n(12:00 am CEST | Monday, Aug...</td>\n",
       "      <td>Moon Phase calculatorAugust 2, 2021 0h</td>\n",
       "      <td>| waning crescent moon\\n37.31% illuminated</td>\n",
       "    </tr>\n",
       "  </tbody>\n",
       "</table>\n",
       "</div>"
      ],
      "text/plain": [
       "                 date                                      temperature  \\\n",
       "8 2021-08-01 23:00:00  11 °C\\n(11:00 pm CEST | Sunday, August 1, 2021)   \n",
       "9 2021-08-02 00:00:00  11 °C\\n(12:00 am CEST | Monday, August 2, 2021)   \n",
       "\n",
       "                                            humidity  \\\n",
       "8  average: 100% (100%)\\n(11:00 pm CEST | Sunday,...   \n",
       "9  average: 94% (94%)\\n(12:00 am CEST | Monday, A...   \n",
       "\n",
       "                                        wind speed  \\\n",
       "8  1 m/s\\n(11:00 pm CEST | Sunday, August 1, 2021)   \n",
       "9  1 m/s\\n(12:00 am CEST | Monday, August 2, 2021)   \n",
       "\n",
       "                                Precipitation amount  \\\n",
       "8  no precipitation\\n(11:00 pm CEST | Sunday, Aug...   \n",
       "9  no precipitation\\n(12:00 am CEST | Monday, Aug...   \n",
       "\n",
       "                                     query  \\\n",
       "8  Moon Phase calculatorAugust 1, 2021 23h   \n",
       "9   Moon Phase calculatorAugust 2, 2021 0h   \n",
       "\n",
       "                        Moon Phase calculator  \n",
       "8  | waning crescent moon\\n37.69% illuminated  \n",
       "9  | waning crescent moon\\n37.31% illuminated  "
      ]
     },
     "metadata": {},
     "output_type": "display_data"
    }
   ],
   "source": [
    "#not same as : https://weather.plus/observations-weather-station.php?dest=Bern-Zollikofen&id=066310&type=synop&day=20200713, our\n",
    "#results are less consistent :( \n",
    "#ATTENTION: monthly api calls limited to 2'000\n",
    "#if not working, save query and results: \"ERROR\", but continue the other query from the same date\n",
    "#open if exist\n",
    "li_df = []\n",
    "for i,d in enumerate(tqdm.tqdm(Daterange)):\n",
    "    now_ = dt.datetime.now()\n",
    "    #dont get the data in advance\n",
    "    if d<now_:      \n",
    "        dico = {'date':d}\n",
    "        for type_ in li_type:\n",
    "            try:                    \n",
    "                query = '%s in Zollikofen '%type_+d.strftime('%B')+' '+str(d.day)+', '+str(d.year)+' '+str(d.hour)+'h'\n",
    "                if type_=='Moon Phase calculator':\n",
    "                    query = type_+d.strftime('%B')+' '+str(d.day)+', '+str(d.year)+' '+str(d.hour)+'h'                    \n",
    "                print('QUERY: ',query)\n",
    "                dico['query'] = query\n",
    "                res = client.query(query)\n",
    "                for t in res.results:\n",
    "                    if 'no data available' in t.text:\n",
    "                        print('ERROR: no data available------------- ', query)\n",
    "                        error\n",
    "                    dico[type_] = t.text\n",
    "            except Exception as e:\n",
    "                print('ERROR:-------------', e, ' ---------- ', query)\n",
    "                dico[type_] = 'ERROR'\n",
    "        li_df.append(dico)\n",
    "        dico = {}\n",
    "        if i%10==0:\n",
    "            df_ = pd.DataFrame(li_df)\n",
    "            df = pd.concat([df,df_])\n",
    "            df.to_csv(path_weather, index=False, sep=';')\n",
    "            li_df = []\n",
    "            print(df.shape)\n",
    "            display(df.tail(2))\n",
    "df_ = pd.DataFrame(li_df)\n",
    "df = pd.concat([df,df_])\n",
    "df.to_csv(path_weather, index=False, sep=';')\n",
    "print(df.shape)\n",
    "display(df.tail(2))"
   ]
  },
  {
   "cell_type": "code",
   "execution_count": 6,
   "metadata": {},
   "outputs": [
    {
     "name": "stdout",
     "output_type": "stream",
     "text": [
      "(75, 7)\n"
     ]
    },
    {
     "data": {
      "text/html": [
       "<div>\n",
       "<style scoped>\n",
       "    .dataframe tbody tr th:only-of-type {\n",
       "        vertical-align: middle;\n",
       "    }\n",
       "\n",
       "    .dataframe tbody tr th {\n",
       "        vertical-align: top;\n",
       "    }\n",
       "\n",
       "    .dataframe thead th {\n",
       "        text-align: right;\n",
       "    }\n",
       "</style>\n",
       "<table border=\"1\" class=\"dataframe\">\n",
       "  <thead>\n",
       "    <tr style=\"text-align: right;\">\n",
       "      <th></th>\n",
       "      <th>date</th>\n",
       "      <th>temperature</th>\n",
       "      <th>humidity</th>\n",
       "      <th>wind speed</th>\n",
       "      <th>Precipitation amount</th>\n",
       "      <th>query</th>\n",
       "      <th>Moon Phase calculator</th>\n",
       "    </tr>\n",
       "  </thead>\n",
       "  <tbody>\n",
       "    <tr>\n",
       "      <th>0</th>\n",
       "      <td>2020-11-05 22:00:00</td>\n",
       "      <td>8 °C\\n(10:00 pm CET | Thursday, November 5, 2020)</td>\n",
       "      <td>ERROR</td>\n",
       "      <td>1 m/s\\n(10:00 pm CET | Thursday, November 5, 2...</td>\n",
       "      <td>(unknown)\\n(10:00 pm CET | Thursday, November ...</td>\n",
       "      <td>Moon Phase calculatorNovember 5, 2020 22h</td>\n",
       "      <td>| waning gibbous moon\\n76.55% illuminated</td>\n",
       "    </tr>\n",
       "    <tr>\n",
       "      <th>0</th>\n",
       "      <td>2020-11-16 19:00:00</td>\n",
       "      <td>7 °C\\n(7:00 pm CET | Monday, November 16, 2020)</td>\n",
       "      <td>ERROR</td>\n",
       "      <td>1 m/s\\n(7:00 pm CET | Monday, November 16, 2020)</td>\n",
       "      <td>(unknown)\\n(7:00 pm CET | Monday, November 16,...</td>\n",
       "      <td>Moon Phase calculatorNovember 16, 2020 19h</td>\n",
       "      <td>| waxing crescent moon\\n3.48% illuminated</td>\n",
       "    </tr>\n",
       "    <tr>\n",
       "      <th>1</th>\n",
       "      <td>2020-11-16 21:00:00</td>\n",
       "      <td>5 °C\\n(9:00 pm CET | Monday, November 16, 2020)</td>\n",
       "      <td>ERROR</td>\n",
       "      <td>0 m/s\\n(9:00 pm CET | Monday, November 16, 2020)</td>\n",
       "      <td>(unknown)\\n(9:00 pm CET | Monday, November 16,...</td>\n",
       "      <td>Moon Phase calculatorNovember 16, 2020 21h</td>\n",
       "      <td>| waxing crescent moon\\n3.86% illuminated</td>\n",
       "    </tr>\n",
       "    <tr>\n",
       "      <th>2</th>\n",
       "      <td>2020-12-15 21:00:00</td>\n",
       "      <td>4 °C\\n(9:00 pm CET | Tuesday, December 15, 2020)</td>\n",
       "      <td>ERROR</td>\n",
       "      <td>1 m/s\\n(9:00 pm CET | Tuesday, December 15, 2020)</td>\n",
       "      <td>(unknown)\\n(9:00 pm CET | Tuesday, December 15...</td>\n",
       "      <td>Moon Phase calculatorDecember 15, 2020 21h</td>\n",
       "      <td>| waxing crescent moon\\n1.86% illuminated</td>\n",
       "    </tr>\n",
       "    <tr>\n",
       "      <th>3</th>\n",
       "      <td>2021-02-08 17:00:00</td>\n",
       "      <td>5 °C\\n(5:00 pm CET | Monday, February 8, 2021)</td>\n",
       "      <td>ERROR</td>\n",
       "      <td>5 m/s\\n(5:00 pm CET | Monday, February 8, 2021)</td>\n",
       "      <td>(unknown)\\n(5:00 pm CET | Monday, February 8, ...</td>\n",
       "      <td>Moon Phase calculatorFebruary 8, 2021 17h</td>\n",
       "      <td>| waning crescent moon\\n11.27% illuminated</td>\n",
       "    </tr>\n",
       "    <tr>\n",
       "      <th>...</th>\n",
       "      <td>...</td>\n",
       "      <td>...</td>\n",
       "      <td>...</td>\n",
       "      <td>...</td>\n",
       "      <td>...</td>\n",
       "      <td>...</td>\n",
       "      <td>...</td>\n",
       "    </tr>\n",
       "    <tr>\n",
       "      <th>6</th>\n",
       "      <td>2021-07-29 23:00:00</td>\n",
       "      <td>18 °C\\n(11:00 pm CEST | Thursday, July 29, 2021)</td>\n",
       "      <td>ERROR</td>\n",
       "      <td>2 m/s\\n(11:00 pm CEST | Thursday, July 29, 2021)</td>\n",
       "      <td>no precipitation\\n(11:00 pm CEST | Thursday, J...</td>\n",
       "      <td>Moon Phase calculatorJuly 29, 2021 23h</td>\n",
       "      <td>| waning gibbous moon\\n66.08% illuminated</td>\n",
       "    </tr>\n",
       "    <tr>\n",
       "      <th>7</th>\n",
       "      <td>2021-07-30 00:00:00</td>\n",
       "      <td>18 °C\\n(12:00 am CEST | Friday, July 30, 2021)</td>\n",
       "      <td>ERROR</td>\n",
       "      <td>1 m/s\\n(12:00 am CEST | Friday, July 30, 2021)</td>\n",
       "      <td>no precipitation\\n(12:00 am CEST | Friday, Jul...</td>\n",
       "      <td>Moon Phase calculatorJuly 30, 2021 0h</td>\n",
       "      <td>| waning gibbous moon\\n65.69% illuminated</td>\n",
       "    </tr>\n",
       "    <tr>\n",
       "      <th>8</th>\n",
       "      <td>2021-07-30 21:00:00</td>\n",
       "      <td>19 °C\\n(9:00 pm CEST | Friday, July 30, 2021)</td>\n",
       "      <td>ERROR</td>\n",
       "      <td>1 m/s\\n(9:00 pm CEST | Friday, July 30, 2021)</td>\n",
       "      <td>rain\\n(9:00 pm CEST | Friday, July 30, 2021)</td>\n",
       "      <td>Moon Phase calculatorJuly 30, 2021 21h</td>\n",
       "      <td>| waning gibbous moon\\n57.41% illuminated</td>\n",
       "    </tr>\n",
       "    <tr>\n",
       "      <th>0</th>\n",
       "      <td>2021-07-30 23:00:00</td>\n",
       "      <td>ERROR</td>\n",
       "      <td>average: 97% (94 to 100%)\\n(11:00 pm CEST | Fr...</td>\n",
       "      <td>1 m/s\\n(11:00 pm CEST | Friday, July 30, 2021)</td>\n",
       "      <td>no precipitation\\n(11:00 pm CEST | Friday, Jul...</td>\n",
       "      <td>Moon Phase calculatorJuly 30, 2021 23h</td>\n",
       "      <td>| waning gibbous moon\\n56.62% illuminated</td>\n",
       "    </tr>\n",
       "    <tr>\n",
       "      <th>1</th>\n",
       "      <td>2021-07-31 00:00:00</td>\n",
       "      <td>18 °C\\n(12:00 am CEST | Saturday, July 31, 2021)</td>\n",
       "      <td>average: 97% (94 to 100%)\\n(12:00 am CEST | Sa...</td>\n",
       "      <td>ERROR</td>\n",
       "      <td>no precipitation\\n(12:00 am CEST | Saturday, J...</td>\n",
       "      <td>Moon Phase calculatorJuly 31, 2021 0h</td>\n",
       "      <td>| waning gibbous moon\\n56.22% illuminated</td>\n",
       "    </tr>\n",
       "  </tbody>\n",
       "</table>\n",
       "<p>75 rows × 7 columns</p>\n",
       "</div>"
      ],
      "text/plain": [
       "                  date                                        temperature  \\\n",
       "0  2020-11-05 22:00:00  8 °C\\n(10:00 pm CET | Thursday, November 5, 2020)   \n",
       "0  2020-11-16 19:00:00    7 °C\\n(7:00 pm CET | Monday, November 16, 2020)   \n",
       "1  2020-11-16 21:00:00    5 °C\\n(9:00 pm CET | Monday, November 16, 2020)   \n",
       "2  2020-12-15 21:00:00   4 °C\\n(9:00 pm CET | Tuesday, December 15, 2020)   \n",
       "3  2021-02-08 17:00:00     5 °C\\n(5:00 pm CET | Monday, February 8, 2021)   \n",
       "..                 ...                                                ...   \n",
       "6  2021-07-29 23:00:00   18 °C\\n(11:00 pm CEST | Thursday, July 29, 2021)   \n",
       "7  2021-07-30 00:00:00     18 °C\\n(12:00 am CEST | Friday, July 30, 2021)   \n",
       "8  2021-07-30 21:00:00      19 °C\\n(9:00 pm CEST | Friday, July 30, 2021)   \n",
       "0  2021-07-30 23:00:00                                              ERROR   \n",
       "1  2021-07-31 00:00:00   18 °C\\n(12:00 am CEST | Saturday, July 31, 2021)   \n",
       "\n",
       "                                             humidity  \\\n",
       "0                                               ERROR   \n",
       "0                                               ERROR   \n",
       "1                                               ERROR   \n",
       "2                                               ERROR   \n",
       "3                                               ERROR   \n",
       "..                                                ...   \n",
       "6                                               ERROR   \n",
       "7                                               ERROR   \n",
       "8                                               ERROR   \n",
       "0   average: 97% (94 to 100%)\\n(11:00 pm CEST | Fr...   \n",
       "1   average: 97% (94 to 100%)\\n(12:00 am CEST | Sa...   \n",
       "\n",
       "                                           wind speed  \\\n",
       "0   1 m/s\\n(10:00 pm CET | Thursday, November 5, 2...   \n",
       "0    1 m/s\\n(7:00 pm CET | Monday, November 16, 2020)   \n",
       "1    0 m/s\\n(9:00 pm CET | Monday, November 16, 2020)   \n",
       "2   1 m/s\\n(9:00 pm CET | Tuesday, December 15, 2020)   \n",
       "3     5 m/s\\n(5:00 pm CET | Monday, February 8, 2021)   \n",
       "..                                                ...   \n",
       "6    2 m/s\\n(11:00 pm CEST | Thursday, July 29, 2021)   \n",
       "7      1 m/s\\n(12:00 am CEST | Friday, July 30, 2021)   \n",
       "8       1 m/s\\n(9:00 pm CEST | Friday, July 30, 2021)   \n",
       "0      1 m/s\\n(11:00 pm CEST | Friday, July 30, 2021)   \n",
       "1                                               ERROR   \n",
       "\n",
       "                                 Precipitation amount  \\\n",
       "0   (unknown)\\n(10:00 pm CET | Thursday, November ...   \n",
       "0   (unknown)\\n(7:00 pm CET | Monday, November 16,...   \n",
       "1   (unknown)\\n(9:00 pm CET | Monday, November 16,...   \n",
       "2   (unknown)\\n(9:00 pm CET | Tuesday, December 15...   \n",
       "3   (unknown)\\n(5:00 pm CET | Monday, February 8, ...   \n",
       "..                                                ...   \n",
       "6   no precipitation\\n(11:00 pm CEST | Thursday, J...   \n",
       "7   no precipitation\\n(12:00 am CEST | Friday, Jul...   \n",
       "8        rain\\n(9:00 pm CEST | Friday, July 30, 2021)   \n",
       "0   no precipitation\\n(11:00 pm CEST | Friday, Jul...   \n",
       "1   no precipitation\\n(12:00 am CEST | Saturday, J...   \n",
       "\n",
       "                                         query  \\\n",
       "0    Moon Phase calculatorNovember 5, 2020 22h   \n",
       "0   Moon Phase calculatorNovember 16, 2020 19h   \n",
       "1   Moon Phase calculatorNovember 16, 2020 21h   \n",
       "2   Moon Phase calculatorDecember 15, 2020 21h   \n",
       "3    Moon Phase calculatorFebruary 8, 2021 17h   \n",
       "..                                         ...   \n",
       "6       Moon Phase calculatorJuly 29, 2021 23h   \n",
       "7        Moon Phase calculatorJuly 30, 2021 0h   \n",
       "8       Moon Phase calculatorJuly 30, 2021 21h   \n",
       "0       Moon Phase calculatorJuly 30, 2021 23h   \n",
       "1        Moon Phase calculatorJuly 31, 2021 0h   \n",
       "\n",
       "                         Moon Phase calculator  \n",
       "0    | waning gibbous moon\\n76.55% illuminated  \n",
       "0    | waxing crescent moon\\n3.48% illuminated  \n",
       "1    | waxing crescent moon\\n3.86% illuminated  \n",
       "2    | waxing crescent moon\\n1.86% illuminated  \n",
       "3   | waning crescent moon\\n11.27% illuminated  \n",
       "..                                         ...  \n",
       "6    | waning gibbous moon\\n66.08% illuminated  \n",
       "7    | waning gibbous moon\\n65.69% illuminated  \n",
       "8    | waning gibbous moon\\n57.41% illuminated  \n",
       "0    | waning gibbous moon\\n56.62% illuminated  \n",
       "1    | waning gibbous moon\\n56.22% illuminated  \n",
       "\n",
       "[75 rows x 7 columns]"
      ]
     },
     "execution_count": 6,
     "metadata": {},
     "output_type": "execute_result"
    }
   ],
   "source": [
    "print(df[df.isin([\"ERROR\"]).any(axis=1)].shape)\n",
    "df[df.isin([\"ERROR\"]).any(axis=1)]"
   ]
  },
  {
   "cell_type": "markdown",
   "metadata": {},
   "source": [
    "df['day'] = df['date'].map(lambda x: dt.datetime.date(x))\n",
    "df['day'].value_counts()"
   ]
  },
  {
   "cell_type": "markdown",
   "metadata": {},
   "source": [
    "#add lune to weather data\n",
    "#dico_d_m = {}\n",
    "for d in tqdm.tqdm(Daterange):\n",
    "    now_ = dt.datetime.now()\n",
    "    #dont get the data in advance\n",
    "    if d<now_:   \n",
    "        if d not in dico_d_m:\n",
    "            try:\n",
    "                query = 'Moon Phase calculator'+d.strftime('%B')+' '+str(d.day)+', '+str(d.year)+' '+str(d.hour)+'h'\n",
    "                res = client.query(query) \n",
    "                for t in res.results:\n",
    "                    dico_d_m[d] = t.text.strip('|').strip(' ')\n",
    "            except Exception as e:\n",
    "                print('ERROR')\n",
    "                print(e)\n",
    "#df['Moon Phase calculator'] = df['date'].map(lambda x: dico_d_m.get(x, 'ERROR'))\n",
    "#print(df[df['Moonphase']=='ERROR'].shape)\n",
    "df"
   ]
  },
  {
   "cell_type": "markdown",
   "metadata": {},
   "source": [
    "df = df.drop(['MoonName','Moon Phase calculator'],axis=1)"
   ]
  },
  {
   "cell_type": "markdown",
   "metadata": {},
   "source": [
    "# Process"
   ]
  },
  {
   "cell_type": "code",
   "execution_count": 7,
   "metadata": {},
   "outputs": [
    {
     "name": "stdout",
     "output_type": "stream",
     "text": [
      "(7293, 13)\n"
     ]
    },
    {
     "data": {
      "text/html": [
       "<div>\n",
       "<style scoped>\n",
       "    .dataframe tbody tr th:only-of-type {\n",
       "        vertical-align: middle;\n",
       "    }\n",
       "\n",
       "    .dataframe tbody tr th {\n",
       "        vertical-align: top;\n",
       "    }\n",
       "\n",
       "    .dataframe thead th {\n",
       "        text-align: right;\n",
       "    }\n",
       "</style>\n",
       "<table border=\"1\" class=\"dataframe\">\n",
       "  <thead>\n",
       "    <tr style=\"text-align: right;\">\n",
       "      <th></th>\n",
       "      <th>Timestamp</th>\n",
       "      <th>temperature</th>\n",
       "      <th>humidity</th>\n",
       "      <th>wind speed</th>\n",
       "      <th>Precipitation amount</th>\n",
       "      <th>query</th>\n",
       "      <th>Moon Phase calculator</th>\n",
       "      <th>date</th>\n",
       "      <th>hour</th>\n",
       "      <th>temperature_C</th>\n",
       "      <th>wind_speed_mpers</th>\n",
       "      <th>humidity_avgpercent</th>\n",
       "      <th>rain</th>\n",
       "    </tr>\n",
       "  </thead>\n",
       "  <tbody>\n",
       "    <tr>\n",
       "      <th>0</th>\n",
       "      <td>2020-09-29 00:00:00</td>\n",
       "      <td>10 °C\\n(12:00 am CEST | Tuesday, September 29,...</td>\n",
       "      <td>average: 100% (100%)\\n(12:00 am CEST | Tuesday...</td>\n",
       "      <td>2 m/s\\n(12:00 am CEST | Tuesday, September 29,...</td>\n",
       "      <td>rain\\n(12:00 am CEST | Tuesday, September 29, ...</td>\n",
       "      <td>Moon Phase calculatorSeptember 29, 2020 0h</td>\n",
       "      <td>| waxing gibbous moon\\n91.87% illuminated</td>\n",
       "      <td>2020-09-29</td>\n",
       "      <td>0</td>\n",
       "      <td>10</td>\n",
       "      <td>2</td>\n",
       "      <td>100</td>\n",
       "      <td>rain</td>\n",
       "    </tr>\n",
       "    <tr>\n",
       "      <th>1</th>\n",
       "      <td>2020-09-29 01:00:00</td>\n",
       "      <td>10 °C\\n(1:00 am CEST | Tuesday, September 29, ...</td>\n",
       "      <td>average: 100% (100%)\\n(1:00 am CEST | Tuesday,...</td>\n",
       "      <td>3 m/s\\n(1:00 am CEST | Tuesday, September 29, ...</td>\n",
       "      <td>rain\\n(1:00 am CEST | Tuesday, September 29, 2...</td>\n",
       "      <td>Moon Phase calculatorSeptember 29, 2020 1h</td>\n",
       "      <td>| waxing gibbous moon\\n92.09% illuminated</td>\n",
       "      <td>2020-09-29</td>\n",
       "      <td>1</td>\n",
       "      <td>10</td>\n",
       "      <td>3</td>\n",
       "      <td>100</td>\n",
       "      <td>rain</td>\n",
       "    </tr>\n",
       "    <tr>\n",
       "      <th>2</th>\n",
       "      <td>2020-09-29 02:00:00</td>\n",
       "      <td>10 °C\\n(2:00 am CEST | Tuesday, September 29, ...</td>\n",
       "      <td>average: 100% (100%)\\n(2:00 am CEST | Tuesday,...</td>\n",
       "      <td>3 m/s\\n(2:00 am CEST | Tuesday, September 29, ...</td>\n",
       "      <td>rain\\n(2:00 am CEST | Tuesday, September 29, 2...</td>\n",
       "      <td>Moon Phase calculatorSeptember 29, 2020 2h</td>\n",
       "      <td>| waxing gibbous moon\\n92.30% illuminated</td>\n",
       "      <td>2020-09-29</td>\n",
       "      <td>2</td>\n",
       "      <td>10</td>\n",
       "      <td>3</td>\n",
       "      <td>100</td>\n",
       "      <td>rain</td>\n",
       "    </tr>\n",
       "  </tbody>\n",
       "</table>\n",
       "</div>"
      ],
      "text/plain": [
       "            Timestamp                                        temperature  \\\n",
       "0 2020-09-29 00:00:00  10 °C\\n(12:00 am CEST | Tuesday, September 29,...   \n",
       "1 2020-09-29 01:00:00  10 °C\\n(1:00 am CEST | Tuesday, September 29, ...   \n",
       "2 2020-09-29 02:00:00  10 °C\\n(2:00 am CEST | Tuesday, September 29, ...   \n",
       "\n",
       "                                            humidity  \\\n",
       "0  average: 100% (100%)\\n(12:00 am CEST | Tuesday...   \n",
       "1  average: 100% (100%)\\n(1:00 am CEST | Tuesday,...   \n",
       "2  average: 100% (100%)\\n(2:00 am CEST | Tuesday,...   \n",
       "\n",
       "                                          wind speed  \\\n",
       "0  2 m/s\\n(12:00 am CEST | Tuesday, September 29,...   \n",
       "1  3 m/s\\n(1:00 am CEST | Tuesday, September 29, ...   \n",
       "2  3 m/s\\n(2:00 am CEST | Tuesday, September 29, ...   \n",
       "\n",
       "                                Precipitation amount  \\\n",
       "0  rain\\n(12:00 am CEST | Tuesday, September 29, ...   \n",
       "1  rain\\n(1:00 am CEST | Tuesday, September 29, 2...   \n",
       "2  rain\\n(2:00 am CEST | Tuesday, September 29, 2...   \n",
       "\n",
       "                                        query  \\\n",
       "0  Moon Phase calculatorSeptember 29, 2020 0h   \n",
       "1  Moon Phase calculatorSeptember 29, 2020 1h   \n",
       "2  Moon Phase calculatorSeptember 29, 2020 2h   \n",
       "\n",
       "                       Moon Phase calculator       date  hour  temperature_C  \\\n",
       "0  | waxing gibbous moon\\n91.87% illuminated 2020-09-29     0             10   \n",
       "1  | waxing gibbous moon\\n92.09% illuminated 2020-09-29     1             10   \n",
       "2  | waxing gibbous moon\\n92.30% illuminated 2020-09-29     2             10   \n",
       "\n",
       "   wind_speed_mpers  humidity_avgpercent  rain  \n",
       "0                 2                  100  rain  \n",
       "1                 3                  100  rain  \n",
       "2                 3                  100  rain  "
      ]
     },
     "execution_count": 7,
     "metadata": {},
     "output_type": "execute_result"
    }
   ],
   "source": [
    "#add weather as environemntal factor\n",
    "path_ = r'C:\\Users\\camil\\Desktop\\vm_exchange\\PhD_Data\\Weather'\n",
    "path_weather = os.path.join(path_,'weather.csv')\n",
    "df_weather = pd.read_csv(path_weather, sep=';', parse_dates=['date'])\n",
    "df_weather = df_weather.drop_duplicates(subset=None, keep='first', inplace=False)\n",
    "#remove excpetions\n",
    "x = ', 1, 0,  , °, C, \\n, (, 1, 2, :, 0, 0,  , a, m,  , C, E, T , | , F, r, i, d, a, y, ,,  , O, c, t, o, b, e, r,  , 3, 0, ,,  , 2, 0, 2, 0, ),'\n",
    "df_weather['temperature'] = df_weather['temperature'].replace(x, x.replace(', ',''))\n",
    "x = '3×10^0 m/s\\n(1:00 pm CET | Sunday, January 10, 2021)'\n",
    "df_weather['wind speed'] = df_weather['wind speed'].replace(x, 'ERROR')\n",
    "#remove the rows with at least one error\n",
    "df_weather = df_weather[~df_weather.isin([\"ERROR\"]).any(axis=1)]\n",
    "#date\n",
    "df_weather.rename(columns={'date':'Timestamp'}, inplace=True)\n",
    "df_weather['date'] = df_weather['Timestamp'].map(lambda x: dt.datetime(x.year,x.month,x.day))\n",
    "df_weather['hour'] = df_weather['Timestamp'].map(lambda x: x.hour)\n",
    "#add usefull variable\n",
    "df_weather['temperature_C'] = df_weather['temperature'].map(lambda x: int(x.split('\\n')[0].split(' ')[0]))\n",
    "df_weather['wind_speed_mpers'] = df_weather['wind speed'].map(lambda x: int(x.split('\\n')[0].split(' ')[0]))\n",
    "df_weather['humidity_avgpercent'] = df_weather['humidity'].map(lambda x: int(x.split('%')[0].split(' ')[-1].strip()))\n",
    "df_weather['rain'] = df_weather['Precipitation amount'].map(lambda x: x.split('\\n')[0])\n",
    "df_weather['rain'] = df_weather['rain'].replace('rain | snow','snow | rain')\n",
    "df_weather.to_csv(os.path.join(path_,'Weather_process.csv'), index=False, sep=';')\n",
    "print(df_weather.shape)\n",
    "df_weather.head(3)"
   ]
  },
  {
   "cell_type": "code",
   "execution_count": 8,
   "metadata": {},
   "outputs": [
    {
     "data": {
      "text/html": [
       "<div>\n",
       "<style scoped>\n",
       "    .dataframe tbody tr th:only-of-type {\n",
       "        vertical-align: middle;\n",
       "    }\n",
       "\n",
       "    .dataframe tbody tr th {\n",
       "        vertical-align: top;\n",
       "    }\n",
       "\n",
       "    .dataframe thead th {\n",
       "        text-align: right;\n",
       "    }\n",
       "</style>\n",
       "<table border=\"1\" class=\"dataframe\">\n",
       "  <thead>\n",
       "    <tr style=\"text-align: right;\">\n",
       "      <th></th>\n",
       "      <th>Timestamp</th>\n",
       "      <th>temperature</th>\n",
       "      <th>humidity</th>\n",
       "      <th>wind speed</th>\n",
       "      <th>Precipitation amount</th>\n",
       "      <th>query</th>\n",
       "      <th>Moon Phase calculator</th>\n",
       "      <th>date</th>\n",
       "      <th>hour</th>\n",
       "      <th>temperature_C</th>\n",
       "      <th>wind_speed_mpers</th>\n",
       "      <th>humidity_avgpercent</th>\n",
       "      <th>rain</th>\n",
       "      <th>MoonName</th>\n",
       "      <th>Illumination_percentage</th>\n",
       "      <th>croissant_decroissant</th>\n",
       "    </tr>\n",
       "  </thead>\n",
       "  <tbody>\n",
       "    <tr>\n",
       "      <th>0</th>\n",
       "      <td>2020-09-29 00:00:00</td>\n",
       "      <td>10 °C\\n(12:00 am CEST | Tuesday, September 29,...</td>\n",
       "      <td>average: 100% (100%)\\n(12:00 am CEST | Tuesday...</td>\n",
       "      <td>2 m/s\\n(12:00 am CEST | Tuesday, September 29,...</td>\n",
       "      <td>rain\\n(12:00 am CEST | Tuesday, September 29, ...</td>\n",
       "      <td>Moon Phase calculatorSeptember 29, 2020 0h</td>\n",
       "      <td>| waxing gibbous moon\\n91.87% illuminated</td>\n",
       "      <td>2020-09-29</td>\n",
       "      <td>0</td>\n",
       "      <td>10</td>\n",
       "      <td>2</td>\n",
       "      <td>100</td>\n",
       "      <td>rain</td>\n",
       "      <td>waxing gibbous moon</td>\n",
       "      <td>91.87</td>\n",
       "      <td>LC</td>\n",
       "    </tr>\n",
       "    <tr>\n",
       "      <th>1</th>\n",
       "      <td>2020-09-29 01:00:00</td>\n",
       "      <td>10 °C\\n(1:00 am CEST | Tuesday, September 29, ...</td>\n",
       "      <td>average: 100% (100%)\\n(1:00 am CEST | Tuesday,...</td>\n",
       "      <td>3 m/s\\n(1:00 am CEST | Tuesday, September 29, ...</td>\n",
       "      <td>rain\\n(1:00 am CEST | Tuesday, September 29, 2...</td>\n",
       "      <td>Moon Phase calculatorSeptember 29, 2020 1h</td>\n",
       "      <td>| waxing gibbous moon\\n92.09% illuminated</td>\n",
       "      <td>2020-09-29</td>\n",
       "      <td>1</td>\n",
       "      <td>10</td>\n",
       "      <td>3</td>\n",
       "      <td>100</td>\n",
       "      <td>rain</td>\n",
       "      <td>waxing gibbous moon</td>\n",
       "      <td>92.09</td>\n",
       "      <td>LC</td>\n",
       "    </tr>\n",
       "    <tr>\n",
       "      <th>2</th>\n",
       "      <td>2020-09-29 02:00:00</td>\n",
       "      <td>10 °C\\n(2:00 am CEST | Tuesday, September 29, ...</td>\n",
       "      <td>average: 100% (100%)\\n(2:00 am CEST | Tuesday,...</td>\n",
       "      <td>3 m/s\\n(2:00 am CEST | Tuesday, September 29, ...</td>\n",
       "      <td>rain\\n(2:00 am CEST | Tuesday, September 29, 2...</td>\n",
       "      <td>Moon Phase calculatorSeptember 29, 2020 2h</td>\n",
       "      <td>| waxing gibbous moon\\n92.30% illuminated</td>\n",
       "      <td>2020-09-29</td>\n",
       "      <td>2</td>\n",
       "      <td>10</td>\n",
       "      <td>3</td>\n",
       "      <td>100</td>\n",
       "      <td>rain</td>\n",
       "      <td>waxing gibbous moon</td>\n",
       "      <td>92.30</td>\n",
       "      <td>LC</td>\n",
       "    </tr>\n",
       "  </tbody>\n",
       "</table>\n",
       "</div>"
      ],
      "text/plain": [
       "            Timestamp                                        temperature  \\\n",
       "0 2020-09-29 00:00:00  10 °C\\n(12:00 am CEST | Tuesday, September 29,...   \n",
       "1 2020-09-29 01:00:00  10 °C\\n(1:00 am CEST | Tuesday, September 29, ...   \n",
       "2 2020-09-29 02:00:00  10 °C\\n(2:00 am CEST | Tuesday, September 29, ...   \n",
       "\n",
       "                                            humidity  \\\n",
       "0  average: 100% (100%)\\n(12:00 am CEST | Tuesday...   \n",
       "1  average: 100% (100%)\\n(1:00 am CEST | Tuesday,...   \n",
       "2  average: 100% (100%)\\n(2:00 am CEST | Tuesday,...   \n",
       "\n",
       "                                          wind speed  \\\n",
       "0  2 m/s\\n(12:00 am CEST | Tuesday, September 29,...   \n",
       "1  3 m/s\\n(1:00 am CEST | Tuesday, September 29, ...   \n",
       "2  3 m/s\\n(2:00 am CEST | Tuesday, September 29, ...   \n",
       "\n",
       "                                Precipitation amount  \\\n",
       "0  rain\\n(12:00 am CEST | Tuesday, September 29, ...   \n",
       "1  rain\\n(1:00 am CEST | Tuesday, September 29, 2...   \n",
       "2  rain\\n(2:00 am CEST | Tuesday, September 29, 2...   \n",
       "\n",
       "                                        query  \\\n",
       "0  Moon Phase calculatorSeptember 29, 2020 0h   \n",
       "1  Moon Phase calculatorSeptember 29, 2020 1h   \n",
       "2  Moon Phase calculatorSeptember 29, 2020 2h   \n",
       "\n",
       "                       Moon Phase calculator       date  hour  temperature_C  \\\n",
       "0  | waxing gibbous moon\\n91.87% illuminated 2020-09-29     0             10   \n",
       "1  | waxing gibbous moon\\n92.09% illuminated 2020-09-29     1             10   \n",
       "2  | waxing gibbous moon\\n92.30% illuminated 2020-09-29     2             10   \n",
       "\n",
       "   wind_speed_mpers  humidity_avgpercent  rain             MoonName  \\\n",
       "0                 2                  100  rain  waxing gibbous moon   \n",
       "1                 3                  100  rain  waxing gibbous moon   \n",
       "2                 3                  100  rain  waxing gibbous moon   \n",
       "\n",
       "   Illumination_percentage croissant_decroissant  \n",
       "0                    91.87                    LC  \n",
       "1                    92.09                    LC  \n",
       "2                    92.30                    LC  "
      ]
     },
     "execution_count": 8,
     "metadata": {},
     "output_type": "execute_result"
    }
   ],
   "source": [
    "df_weather['MoonName'] = df_weather['Moon Phase calculator'].map(lambda x: x.strip('|').strip(' ').split('\\n')[0] if x!='ERROR' else 'ERROR')\n",
    "df_weather['Illumination_percentage'] = df_weather['Moon Phase calculator'].map(lambda x: float(x.strip('|').strip(' ').split('\\n')[1].replace(' illuminated','').strip('%').strip(' ')) if x!='ERROR' else 'ERROR')\n",
    "#print(df['MoaonName'].value_counts())\n",
    "#df['Illumination_percentage'].value_counts()\n",
    "\n",
    "dico_CD = {'ERROR':'ERROR', \n",
    "           'first quarter moon':'LC', \n",
    "           'full moon':'Lchangement', \n",
    "           'last quarter moon':'DC',\n",
    "           'new moon':'Lchangement', \n",
    "           'waning crescent moon':'DC', \n",
    "           'waning gibbous moon':'DC',\n",
    "           'waxing crescent moon':'LC', \n",
    "           'waxing gibbous moon':'LC'}\n",
    "#it seems that the order of the events are as follow:\n",
    "#full moon, waning gibbous moon, last quarter moon, waning crescent moon, \n",
    "#new moon, waxing crescent moon, first quarter moon, waxing gibbous moon,\n",
    "#full moon,...\n",
    "#defintion: De la Nouvelle Lune (éclat minimum) à la Pleine Lune (éclat maximum) on dit que la Lune est Croissante car \n",
    "#sa partie éclairée grossit de jour en jour. De la Pleine Lune à la Nouvelle Lune, on dit que la Lune est Décroissante.\n",
    "df_weather['croissant_decroissant'] = df_weather['MoonName'].map(lambda x: dico_CD[x])\n",
    "#lucie ascendatne et descendante n'est pas indiqué ici.\n",
    "df_weather.head(3)"
   ]
  },
  {
   "cell_type": "code",
   "execution_count": 9,
   "metadata": {},
   "outputs": [
    {
     "data": {
      "text/plain": [
       "DC             3444\n",
       "LC             3440\n",
       "Lchangement     409\n",
       "Name: croissant_decroissant, dtype: int64"
      ]
     },
     "execution_count": 9,
     "metadata": {},
     "output_type": "execute_result"
    }
   ],
   "source": [
    "df_weather['croissant_decroissant'].value_counts()"
   ]
  },
  {
   "cell_type": "code",
   "execution_count": 10,
   "metadata": {},
   "outputs": [
    {
     "data": {
      "text/html": [
       "<div>\n",
       "<style scoped>\n",
       "    .dataframe tbody tr th:only-of-type {\n",
       "        vertical-align: middle;\n",
       "    }\n",
       "\n",
       "    .dataframe tbody tr th {\n",
       "        vertical-align: top;\n",
       "    }\n",
       "\n",
       "    .dataframe thead th {\n",
       "        text-align: right;\n",
       "    }\n",
       "</style>\n",
       "<table border=\"1\" class=\"dataframe\">\n",
       "  <thead>\n",
       "    <tr style=\"text-align: right;\">\n",
       "      <th></th>\n",
       "      <th>MoonName</th>\n",
       "      <th>Illumination_percentage</th>\n",
       "      <th>min_illumination</th>\n",
       "      <th>max_illumination</th>\n",
       "    </tr>\n",
       "  </thead>\n",
       "  <tbody>\n",
       "    <tr>\n",
       "      <th>0</th>\n",
       "      <td>first quarter moon</td>\n",
       "      <td>[44.7, 45.14, 45.58, 46.02, 46.46, 46.9, 47.34...</td>\n",
       "      <td>44.69</td>\n",
       "      <td>55.25</td>\n",
       "    </tr>\n",
       "    <tr>\n",
       "      <th>1</th>\n",
       "      <td>full moon</td>\n",
       "      <td>[99.74, 99.76, 99.78, 99.79, 99.81, 99.82, 99....</td>\n",
       "      <td>99.72</td>\n",
       "      <td>100.00</td>\n",
       "    </tr>\n",
       "    <tr>\n",
       "      <th>2</th>\n",
       "      <td>last quarter moon</td>\n",
       "      <td>[55.07, 54.65, 54.23, 53.81, 53.39, 52.96, 52....</td>\n",
       "      <td>44.73</td>\n",
       "      <td>55.22</td>\n",
       "    </tr>\n",
       "    <tr>\n",
       "      <th>3</th>\n",
       "      <td>new moon</td>\n",
       "      <td>[0.27, 0.23, 0.21, 0.18, 0.16, 0.15, 0.14, 0.1...</td>\n",
       "      <td>0.00</td>\n",
       "      <td>0.28</td>\n",
       "    </tr>\n",
       "    <tr>\n",
       "      <th>4</th>\n",
       "      <td>waning crescent moon</td>\n",
       "      <td>[44.38, 43.95, 43.51, 43.08, 42.65, 42.21, 41....</td>\n",
       "      <td>0.29</td>\n",
       "      <td>44.69</td>\n",
       "    </tr>\n",
       "    <tr>\n",
       "      <th>5</th>\n",
       "      <td>waning gibbous moon</td>\n",
       "      <td>[99.71, 99.68, 99.65, 99.61, 99.58, 99.54, 99....</td>\n",
       "      <td>55.34</td>\n",
       "      <td>99.72</td>\n",
       "    </tr>\n",
       "    <tr>\n",
       "      <th>6</th>\n",
       "      <td>waxing crescent moon</td>\n",
       "      <td>[0.32, 0.37, 0.42, 0.48, 0.54, 0.61, 0.68, 0.7...</td>\n",
       "      <td>0.28</td>\n",
       "      <td>44.69</td>\n",
       "    </tr>\n",
       "    <tr>\n",
       "      <th>7</th>\n",
       "      <td>waxing gibbous moon</td>\n",
       "      <td>[91.87, 92.09, 92.3, 92.51, 92.73, 92.93, 93.1...</td>\n",
       "      <td>55.34</td>\n",
       "      <td>99.71</td>\n",
       "    </tr>\n",
       "  </tbody>\n",
       "</table>\n",
       "</div>"
      ],
      "text/plain": [
       "               MoonName                            Illumination_percentage  \\\n",
       "0    first quarter moon  [44.7, 45.14, 45.58, 46.02, 46.46, 46.9, 47.34...   \n",
       "1             full moon  [99.74, 99.76, 99.78, 99.79, 99.81, 99.82, 99....   \n",
       "2     last quarter moon  [55.07, 54.65, 54.23, 53.81, 53.39, 52.96, 52....   \n",
       "3              new moon  [0.27, 0.23, 0.21, 0.18, 0.16, 0.15, 0.14, 0.1...   \n",
       "4  waning crescent moon  [44.38, 43.95, 43.51, 43.08, 42.65, 42.21, 41....   \n",
       "5   waning gibbous moon  [99.71, 99.68, 99.65, 99.61, 99.58, 99.54, 99....   \n",
       "6  waxing crescent moon  [0.32, 0.37, 0.42, 0.48, 0.54, 0.61, 0.68, 0.7...   \n",
       "7   waxing gibbous moon  [91.87, 92.09, 92.3, 92.51, 92.73, 92.93, 93.1...   \n",
       "\n",
       "   min_illumination  max_illumination  \n",
       "0             44.69             55.25  \n",
       "1             99.72            100.00  \n",
       "2             44.73             55.22  \n",
       "3              0.00              0.28  \n",
       "4              0.29             44.69  \n",
       "5             55.34             99.72  \n",
       "6              0.28             44.69  \n",
       "7             55.34             99.71  "
      ]
     },
     "execution_count": 10,
     "metadata": {},
     "output_type": "execute_result"
    }
   ],
   "source": [
    "#to get a general udnerstanding of the data\n",
    "df_moon = df_weather.groupby(['MoonName'])['Illumination_percentage'].agg(lambda x: list(x)).reset_index()\n",
    "df_moon['min_illumination'] = df_moon['Illumination_percentage'].map(lambda x: min(x) if x!='ERROR' else 'ERROR' )\n",
    "df_moon['max_illumination'] = df_moon['Illumination_percentage'].map(lambda x: max(x) if x!='ERROR' else 'ERROR' )\n",
    "df_moon"
   ]
  },
  {
   "cell_type": "code",
   "execution_count": 11,
   "metadata": {},
   "outputs": [
    {
     "data": {
      "text/plain": [
       "'Moon Phase calculatorSeptember 29, 2020 0h'"
      ]
     },
     "execution_count": 11,
     "metadata": {},
     "output_type": "execute_result"
    }
   ],
   "source": [
    "df_weather['query'].iloc[0]"
   ]
  },
  {
   "cell_type": "code",
   "execution_count": 12,
   "metadata": {},
   "outputs": [
    {
     "name": "stdout",
     "output_type": "stream",
     "text": [
      "(305, 6)\n"
     ]
    },
    {
     "data": {
      "text/html": [
       "<div>\n",
       "<style scoped>\n",
       "    .dataframe tbody tr th:only-of-type {\n",
       "        vertical-align: middle;\n",
       "    }\n",
       "\n",
       "    .dataframe tbody tr th {\n",
       "        vertical-align: top;\n",
       "    }\n",
       "\n",
       "    .dataframe thead th {\n",
       "        text-align: right;\n",
       "    }\n",
       "</style>\n",
       "<table border=\"1\" class=\"dataframe\">\n",
       "  <thead>\n",
       "    <tr style=\"text-align: right;\">\n",
       "      <th></th>\n",
       "      <th>date</th>\n",
       "      <th>temperature_C</th>\n",
       "      <th>humidity_avgpercent</th>\n",
       "      <th>had_rainorsnow</th>\n",
       "      <th>moon_name</th>\n",
       "      <th>Illumination_percentage</th>\n",
       "    </tr>\n",
       "  </thead>\n",
       "  <tbody>\n",
       "    <tr>\n",
       "      <th>0</th>\n",
       "      <td>2020-09-29</td>\n",
       "      <td>12.000</td>\n",
       "      <td>92.125</td>\n",
       "      <td>0</td>\n",
       "      <td>waxing gibbous moon</td>\n",
       "      <td>94.56625</td>\n",
       "    </tr>\n",
       "    <tr>\n",
       "      <th>1</th>\n",
       "      <td>2020-09-30</td>\n",
       "      <td>12.250</td>\n",
       "      <td>80.125</td>\n",
       "      <td>1</td>\n",
       "      <td>waxing gibbous moon</td>\n",
       "      <td>98.01625</td>\n",
       "    </tr>\n",
       "    <tr>\n",
       "      <th>2</th>\n",
       "      <td>2020-10-01</td>\n",
       "      <td>14.125</td>\n",
       "      <td>74.875</td>\n",
       "      <td>0</td>\n",
       "      <td>waxing gibbous moon</td>\n",
       "      <td>99.66250</td>\n",
       "    </tr>\n",
       "  </tbody>\n",
       "</table>\n",
       "</div>"
      ],
      "text/plain": [
       "        date  temperature_C  humidity_avgpercent  had_rainorsnow  \\\n",
       "0 2020-09-29         12.000               92.125               0   \n",
       "1 2020-09-30         12.250               80.125               1   \n",
       "2 2020-10-01         14.125               74.875               0   \n",
       "\n",
       "             moon_name  Illumination_percentage  \n",
       "0  waxing gibbous moon                 94.56625  \n",
       "1  waxing gibbous moon                 98.01625  \n",
       "2  waxing gibbous moon                 99.66250  "
      ]
     },
     "execution_count": 12,
     "metadata": {},
     "output_type": "execute_result"
    }
   ],
   "source": [
    "df_daily_weather = df_weather[df_weather['hour'].isin([10,11,12,13,14,15,16,17])].copy()\n",
    "df_daily_weather = df_daily_weather.groupby(['date']).agg(\n",
    "    temperature_C=pd.NamedAgg(column='temperature_C', aggfunc=lambda x: np.mean(x)),\n",
    "    humidity_avgpercent=pd.NamedAgg(column='humidity_avgpercent', aggfunc=lambda x: np.mean(x)),\n",
    "    had_rainorsnow=pd.NamedAgg(column='rain', aggfunc=lambda x: int(all([i=='no precipitation' for i in x]))),\n",
    "    moon_name=pd.NamedAgg(column='MoonName', aggfunc=lambda x: list(x)[0]),\n",
    "    Illumination_percentage=pd.NamedAgg(column='Illumination_percentage', aggfunc=lambda x: np.mean(x))).reset_index()\n",
    "df_daily_weather.to_csv(os.path.join(path_,'df_daily_weather.csv'), index=False, sep=';')\n",
    "print(df_daily_weather.shape)\n",
    "df_daily_weather.head(3)"
   ]
  },
  {
   "cell_type": "code",
   "execution_count": 13,
   "metadata": {},
   "outputs": [
    {
     "data": {
      "text/plain": [
       "had_rainorsnow\n",
       "0    80.189560\n",
       "1    63.503638\n",
       "Name: humidity_avgpercent, dtype: float64"
      ]
     },
     "execution_count": 13,
     "metadata": {},
     "output_type": "execute_result"
    }
   ],
   "source": [
    "df_daily_weather.groupby(['had_rainorsnow'])['humidity_avgpercent'].agg(lambda x: np.mean(x))"
   ]
  },
  {
   "cell_type": "code",
   "execution_count": null,
   "metadata": {},
   "outputs": [],
   "source": []
  },
  {
   "cell_type": "code",
   "execution_count": null,
   "metadata": {},
   "outputs": [],
   "source": []
  },
  {
   "cell_type": "code",
   "execution_count": null,
   "metadata": {},
   "outputs": [],
   "source": []
  },
  {
   "cell_type": "code",
   "execution_count": null,
   "metadata": {},
   "outputs": [],
   "source": []
  },
  {
   "cell_type": "code",
   "execution_count": null,
   "metadata": {},
   "outputs": [],
   "source": []
  },
  {
   "cell_type": "code",
   "execution_count": null,
   "metadata": {},
   "outputs": [],
   "source": []
  },
  {
   "cell_type": "code",
   "execution_count": null,
   "metadata": {},
   "outputs": [],
   "source": []
  }
 ],
 "metadata": {
  "kernelspec": {
   "display_name": "Python 3 (ipykernel)",
   "language": "python",
   "name": "python3"
  },
  "language_info": {
   "codemirror_mode": {
    "name": "ipython",
    "version": 3
   },
   "file_extension": ".py",
   "mimetype": "text/x-python",
   "name": "python",
   "nbconvert_exporter": "python",
   "pygments_lexer": "ipython3",
   "version": "3.8.12"
  }
 },
 "nbformat": 4,
 "nbformat_minor": 2
}
