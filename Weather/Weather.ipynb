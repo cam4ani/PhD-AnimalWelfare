{
 "cells": [
  {
   "cell_type": "code",
   "execution_count": 1,
   "metadata": {},
   "outputs": [],
   "source": [
    "#!pip install wolframalpha\n",
    "import datetime as dt\n",
    "import tqdm\n",
    "import os\n",
    "import pandas as pd\n",
    "import glob\n",
    "import numpy as np\n",
    "import sys\n",
    "\n",
    "import wolframalpha\n",
    "app_id = 'JU4PR2-E8JGQVLHXW'\n",
    "client = wolframalpha.Client(app_id)"
   ]
  },
  {
   "cell_type": "code",
   "execution_count": 2,
   "metadata": {},
   "outputs": [
    {
     "name": "stdout",
     "output_type": "stream",
     "text": [
      "3.8.5\n"
     ]
    }
   ],
   "source": [
    "from platform import python_version\n",
    "print(python_version())"
   ]
  },
  {
   "cell_type": "raw",
   "metadata": {},
   "source": [
    "To verify moon data:\n",
    "https://www.calendrier-lunaire.fr/calendrier/octobre-2020/\n",
    "https://www.pleine-lune.org/calendrier-lunaire-2020\n",
    "https://www.timeanddate.com/astronomy/moon/waning-crescent.html"
   ]
  },
  {
   "cell_type": "raw",
   "metadata": {},
   "source": [
    "#url parameter:\n",
    "#https://products.wolframalpha.com/simple-api/documentation/\n",
    "#http://api.wolframalpha.com/v2/query?appid=DEMO&input=population%20france&includepodid=Result\n",
    "http://api.wolframalpha.com/v2/query?appid=JU4PR2-E8JGQVLHXW&input=temperature%20Zollikofen&includepodid=Result"
   ]
  },
  {
   "cell_type": "markdown",
   "metadata": {},
   "source": [
    "#small example\n",
    "query = 'Precipitation amount in Zollikofen on October 6, 2020 1h'\n",
    "res = client.query(query)\n",
    "for t in res.results:\n",
    "    print(t.text)"
   ]
  },
  {
   "cell_type": "markdown",
   "metadata": {},
   "source": [
    "#small example\n",
    "query = 'Precipitation amount in Zollikofen '+d.strftime('%B')+' '+str(d.day)+', '+str(d.year)+' '+str(d.hour)+'h'\n",
    "res = client.query(query)\n",
    "for t in res.results:\n",
    "    print(t.text)"
   ]
  },
  {
   "cell_type": "markdown",
   "metadata": {},
   "source": [
    "#small example\n",
    "d = dt.datetime(2020,1,24,22,44,11)\n",
    "query = 'Moon Phase calculator'+d.strftime('%B')+' '+str(d.day)+', '+str(d.year)+' '+str(d.hour)+'h'\n",
    "res = client.query(query)\n",
    "r = ''\n",
    "for t in res.results:\n",
    "    print(t.text.strip('|').strip(' '))\n",
    "#for verification\n",
    "#https://www.pleine-lune.org/calendrier-lunaire-2020\n",
    "#res"
   ]
  },
  {
   "cell_type": "code",
   "execution_count": 3,
   "metadata": {},
   "outputs": [],
   "source": [
    "li_type = ['Precipitation amount', 'temperature', 'humidity', 'wind speed','Moon Phase calculator'] #pressure\n",
    "#path_ = r'D:\\vm_exchange\\PhD_Data\\Weather'\n",
    "path_ = r'C:\\Users\\camil\\Desktop\\vm_exchange\\PhD_Data\\Weather'"
   ]
  },
  {
   "cell_type": "code",
   "execution_count": 4,
   "metadata": {},
   "outputs": [
    {
     "name": "stdout",
     "output_type": "stream",
     "text": [
      "(5468, 7)\n",
      "We already have 5468 dates of weather\n",
      "(39, 7)\n"
     ]
    },
    {
     "data": {
      "text/html": [
       "<div>\n",
       "<style scoped>\n",
       "    .dataframe tbody tr th:only-of-type {\n",
       "        vertical-align: middle;\n",
       "    }\n",
       "\n",
       "    .dataframe tbody tr th {\n",
       "        vertical-align: top;\n",
       "    }\n",
       "\n",
       "    .dataframe thead th {\n",
       "        text-align: right;\n",
       "    }\n",
       "</style>\n",
       "<table border=\"1\" class=\"dataframe\">\n",
       "  <thead>\n",
       "    <tr style=\"text-align: right;\">\n",
       "      <th></th>\n",
       "      <th>date</th>\n",
       "      <th>temperature</th>\n",
       "      <th>humidity</th>\n",
       "      <th>wind speed</th>\n",
       "      <th>Precipitation amount</th>\n",
       "      <th>query</th>\n",
       "      <th>Moon Phase calculator</th>\n",
       "    </tr>\n",
       "  </thead>\n",
       "  <tbody>\n",
       "    <tr>\n",
       "      <th>5203</th>\n",
       "      <td>2020-11-05 22:00:00</td>\n",
       "      <td>8 °C\\n(10:00 pm CET | Thursday, November 5, 2020)</td>\n",
       "      <td>ERROR</td>\n",
       "      <td>1 m/s\\n(10:00 pm CET | Thursday, November 5, 2...</td>\n",
       "      <td>(unknown)\\n(10:00 pm CET | Thursday, November ...</td>\n",
       "      <td>Moon Phase calculatorNovember 5, 2020 22h</td>\n",
       "      <td>| waning gibbous moon\\n76.55% illuminated</td>\n",
       "    </tr>\n",
       "    <tr>\n",
       "      <th>5204</th>\n",
       "      <td>2020-11-16 19:00:00</td>\n",
       "      <td>7 °C\\n(7:00 pm CET | Monday, November 16, 2020)</td>\n",
       "      <td>ERROR</td>\n",
       "      <td>1 m/s\\n(7:00 pm CET | Monday, November 16, 2020)</td>\n",
       "      <td>(unknown)\\n(7:00 pm CET | Monday, November 16,...</td>\n",
       "      <td>Moon Phase calculatorNovember 16, 2020 19h</td>\n",
       "      <td>| waxing crescent moon\\n3.48% illuminated</td>\n",
       "    </tr>\n",
       "    <tr>\n",
       "      <th>5205</th>\n",
       "      <td>2020-11-16 21:00:00</td>\n",
       "      <td>5 °C\\n(9:00 pm CET | Monday, November 16, 2020)</td>\n",
       "      <td>ERROR</td>\n",
       "      <td>0 m/s\\n(9:00 pm CET | Monday, November 16, 2020)</td>\n",
       "      <td>(unknown)\\n(9:00 pm CET | Monday, November 16,...</td>\n",
       "      <td>Moon Phase calculatorNovember 16, 2020 21h</td>\n",
       "      <td>| waxing crescent moon\\n3.86% illuminated</td>\n",
       "    </tr>\n",
       "    <tr>\n",
       "      <th>5206</th>\n",
       "      <td>2020-12-15 21:00:00</td>\n",
       "      <td>4 °C\\n(9:00 pm CET | Tuesday, December 15, 2020)</td>\n",
       "      <td>ERROR</td>\n",
       "      <td>1 m/s\\n(9:00 pm CET | Tuesday, December 15, 2020)</td>\n",
       "      <td>(unknown)\\n(9:00 pm CET | Tuesday, December 15...</td>\n",
       "      <td>Moon Phase calculatorDecember 15, 2020 21h</td>\n",
       "      <td>| waxing crescent moon\\n1.86% illuminated</td>\n",
       "    </tr>\n",
       "    <tr>\n",
       "      <th>5207</th>\n",
       "      <td>2021-02-08 17:00:00</td>\n",
       "      <td>5 °C\\n(5:00 pm CET | Monday, February 8, 2021)</td>\n",
       "      <td>ERROR</td>\n",
       "      <td>5 m/s\\n(5:00 pm CET | Monday, February 8, 2021)</td>\n",
       "      <td>(unknown)\\n(5:00 pm CET | Monday, February 8, ...</td>\n",
       "      <td>Moon Phase calculatorFebruary 8, 2021 17h</td>\n",
       "      <td>| waning crescent moon\\n11.27% illuminated</td>\n",
       "    </tr>\n",
       "    <tr>\n",
       "      <th>5208</th>\n",
       "      <td>2021-02-08 18:00:00</td>\n",
       "      <td>4 °C\\n(6:00 pm CET | Monday, February 8, 2021)</td>\n",
       "      <td>ERROR</td>\n",
       "      <td>5 m/s\\n(6:00 pm CET | Monday, February 8, 2021)</td>\n",
       "      <td>(unknown)\\n(6:00 pm CET | Monday, February 8, ...</td>\n",
       "      <td>Moon Phase calculatorFebruary 8, 2021 18h</td>\n",
       "      <td>| waning crescent moon\\n10.98% illuminated</td>\n",
       "    </tr>\n",
       "    <tr>\n",
       "      <th>5209</th>\n",
       "      <td>2021-02-08 19:00:00</td>\n",
       "      <td>3 °C\\n(7:00 pm CET | Monday, February 8, 2021)</td>\n",
       "      <td>ERROR</td>\n",
       "      <td>4 m/s\\n(7:00 pm CET | Monday, February 8, 2021)</td>\n",
       "      <td>(unknown)\\n(7:00 pm CET | Monday, February 8, ...</td>\n",
       "      <td>Moon Phase calculatorFebruary 8, 2021 19h</td>\n",
       "      <td>| waning crescent moon\\n10.69% illuminated</td>\n",
       "    </tr>\n",
       "    <tr>\n",
       "      <th>5210</th>\n",
       "      <td>2021-02-08 20:00:00</td>\n",
       "      <td>2 °C\\n(8:00 pm CET | Monday, February 8, 2021)</td>\n",
       "      <td>ERROR</td>\n",
       "      <td>4 m/s\\n(8:00 pm CET | Monday, February 8, 2021)</td>\n",
       "      <td>(unknown)\\n(8:00 pm CET | Monday, February 8, ...</td>\n",
       "      <td>Moon Phase calculatorFebruary 8, 2021 20h</td>\n",
       "      <td>| waning crescent moon\\n10.41% illuminated</td>\n",
       "    </tr>\n",
       "    <tr>\n",
       "      <th>5211</th>\n",
       "      <td>2021-02-09 09:00:00</td>\n",
       "      <td>0 °C\\n(9:00 am CET | Tuesday, February 9, 2021)</td>\n",
       "      <td>ERROR</td>\n",
       "      <td>1 m/s\\n(9:00 am CET | Tuesday, February 9, 2021)</td>\n",
       "      <td>(unknown)\\n(9:00 am CET | Tuesday, February 9,...</td>\n",
       "      <td>Moon Phase calculatorFebruary 9, 2021 9h</td>\n",
       "      <td>| waning crescent moon\\n7.06% illuminated</td>\n",
       "    </tr>\n",
       "    <tr>\n",
       "      <th>5212</th>\n",
       "      <td>2021-02-09 10:00:00</td>\n",
       "      <td>0 °C\\n(10:00 am CET | Tuesday, February 9, 2021)</td>\n",
       "      <td>ERROR</td>\n",
       "      <td>1 m/s\\n(10:00 am CET | Tuesday, February 9, 2021)</td>\n",
       "      <td>(unknown)\\n(10:00 am CET | Tuesday, February 9...</td>\n",
       "      <td>Moon Phase calculatorFebruary 9, 2021 10h</td>\n",
       "      <td>| waning crescent moon\\n6.82% illuminated</td>\n",
       "    </tr>\n",
       "    <tr>\n",
       "      <th>5213</th>\n",
       "      <td>2021-02-09 11:00:00</td>\n",
       "      <td>0 °C\\n(11:00 am CET | Tuesday, February 9, 2021)</td>\n",
       "      <td>ERROR</td>\n",
       "      <td>1 m/s\\n(11:00 am CET | Tuesday, February 9, 2021)</td>\n",
       "      <td>(unknown)\\n(11:00 am CET | Tuesday, February 9...</td>\n",
       "      <td>Moon Phase calculatorFebruary 9, 2021 11h</td>\n",
       "      <td>| waning crescent moon\\n6.60% illuminated</td>\n",
       "    </tr>\n",
       "    <tr>\n",
       "      <th>5214</th>\n",
       "      <td>2021-02-09 12:00:00</td>\n",
       "      <td>0 °C\\n(12:00 pm CET | Tuesday, February 9, 2021)</td>\n",
       "      <td>ERROR</td>\n",
       "      <td>1 m/s\\n(12:00 pm CET | Tuesday, February 9, 2021)</td>\n",
       "      <td>(unknown)\\n(12:00 pm CET | Tuesday, February 9...</td>\n",
       "      <td>Moon Phase calculatorFebruary 9, 2021 12h</td>\n",
       "      <td>| waning crescent moon\\n6.37% illuminated</td>\n",
       "    </tr>\n",
       "    <tr>\n",
       "      <th>5215</th>\n",
       "      <td>2021-02-09 13:00:00</td>\n",
       "      <td>0 °C\\n(1:00 pm CET | Tuesday, February 9, 2021)</td>\n",
       "      <td>ERROR</td>\n",
       "      <td>2 m/s\\n(1:00 pm CET | Tuesday, February 9, 2021)</td>\n",
       "      <td>(unknown)\\n(1:00 pm CET | Tuesday, February 9,...</td>\n",
       "      <td>Moon Phase calculatorFebruary 9, 2021 13h</td>\n",
       "      <td>| waning crescent moon\\n6.15% illuminated</td>\n",
       "    </tr>\n",
       "    <tr>\n",
       "      <th>5216</th>\n",
       "      <td>2021-02-09 15:00:00</td>\n",
       "      <td>0 °C\\n(3:00 pm CET | Tuesday, February 9, 2021)</td>\n",
       "      <td>ERROR</td>\n",
       "      <td>2 m/s\\n(3:00 pm CET | Tuesday, February 9, 2021)</td>\n",
       "      <td>(unknown)\\n(3:00 pm CET | Tuesday, February 9,...</td>\n",
       "      <td>Moon Phase calculatorFebruary 9, 2021 15h</td>\n",
       "      <td>| waning crescent moon\\n5.72% illuminated</td>\n",
       "    </tr>\n",
       "    <tr>\n",
       "      <th>5217</th>\n",
       "      <td>2021-02-09 16:00:00</td>\n",
       "      <td>0 °C\\n(4:00 pm CET | Tuesday, February 9, 2021)</td>\n",
       "      <td>ERROR</td>\n",
       "      <td>2 m/s\\n(4:00 pm CET | Tuesday, February 9, 2021)</td>\n",
       "      <td>(unknown)\\n(4:00 pm CET | Tuesday, February 9,...</td>\n",
       "      <td>Moon Phase calculatorFebruary 9, 2021 16h</td>\n",
       "      <td>| waning crescent moon\\n5.51% illuminated</td>\n",
       "    </tr>\n",
       "    <tr>\n",
       "      <th>5218</th>\n",
       "      <td>2021-02-09 17:00:00</td>\n",
       "      <td>0 °C\\n(5:00 pm CET | Tuesday, February 9, 2021)</td>\n",
       "      <td>ERROR</td>\n",
       "      <td>3 m/s\\n(5:00 pm CET | Tuesday, February 9, 2021)</td>\n",
       "      <td>(unknown)\\n(5:00 pm CET | Tuesday, February 9,...</td>\n",
       "      <td>Moon Phase calculatorFebruary 9, 2021 17h</td>\n",
       "      <td>| waning crescent moon\\n5.31% illuminated</td>\n",
       "    </tr>\n",
       "    <tr>\n",
       "      <th>5219</th>\n",
       "      <td>2021-02-09 18:00:00</td>\n",
       "      <td>0 °C\\n(6:00 pm CET | Tuesday, February 9, 2021)</td>\n",
       "      <td>ERROR</td>\n",
       "      <td>3 m/s\\n(6:00 pm CET | Tuesday, February 9, 2021)</td>\n",
       "      <td>(unknown)\\n(6:00 pm CET | Tuesday, February 9,...</td>\n",
       "      <td>Moon Phase calculatorFebruary 9, 2021 18h</td>\n",
       "      <td>| waning crescent moon\\n5.11% illuminated</td>\n",
       "    </tr>\n",
       "    <tr>\n",
       "      <th>5220</th>\n",
       "      <td>2021-02-09 19:00:00</td>\n",
       "      <td>0 °C\\n(7:00 pm CET | Tuesday, February 9, 2021)</td>\n",
       "      <td>ERROR</td>\n",
       "      <td>3 m/s\\n(7:00 pm CET | Tuesday, February 9, 2021)</td>\n",
       "      <td>(unknown)\\n(7:00 pm CET | Tuesday, February 9,...</td>\n",
       "      <td>Moon Phase calculatorFebruary 9, 2021 19h</td>\n",
       "      <td>| waning crescent moon\\n4.91% illuminated</td>\n",
       "    </tr>\n",
       "    <tr>\n",
       "      <th>5221</th>\n",
       "      <td>2021-02-09 20:00:00</td>\n",
       "      <td>0 °C\\n(8:00 pm CET | Tuesday, February 9, 2021)</td>\n",
       "      <td>ERROR</td>\n",
       "      <td>3 m/s\\n(8:00 pm CET | Tuesday, February 9, 2021)</td>\n",
       "      <td>(unknown)\\n(8:00 pm CET | Tuesday, February 9,...</td>\n",
       "      <td>Moon Phase calculatorFebruary 9, 2021 20h</td>\n",
       "      <td>| waning crescent moon\\n4.72% illuminated</td>\n",
       "    </tr>\n",
       "    <tr>\n",
       "      <th>5222</th>\n",
       "      <td>2021-02-09 21:00:00</td>\n",
       "      <td>0 °C\\n(9:00 pm CET | Tuesday, February 9, 2021)</td>\n",
       "      <td>ERROR</td>\n",
       "      <td>4 m/s\\n(9:00 pm CET | Tuesday, February 9, 2021)</td>\n",
       "      <td>(unknown)\\n(9:00 pm CET | Tuesday, February 9,...</td>\n",
       "      <td>Moon Phase calculatorFebruary 9, 2021 21h</td>\n",
       "      <td>| waning crescent moon\\n4.53% illuminated</td>\n",
       "    </tr>\n",
       "    <tr>\n",
       "      <th>5223</th>\n",
       "      <td>2021-02-09 22:00:00</td>\n",
       "      <td>0 °C\\n(10:00 pm CET | Tuesday, February 9, 2021)</td>\n",
       "      <td>ERROR</td>\n",
       "      <td>4 m/s\\n(10:00 pm CET | Tuesday, February 9, 2021)</td>\n",
       "      <td>(unknown)\\n(10:00 pm CET | Tuesday, February 9...</td>\n",
       "      <td>Moon Phase calculatorFebruary 9, 2021 22h</td>\n",
       "      <td>| waning crescent moon\\n4.34% illuminated</td>\n",
       "    </tr>\n",
       "    <tr>\n",
       "      <th>5224</th>\n",
       "      <td>2021-02-10 10:00:00</td>\n",
       "      <td>0 °C\\n(10:00 am CET | Wednesday, February 10, ...</td>\n",
       "      <td>ERROR</td>\n",
       "      <td>1 m/s\\n(10:00 am CET | Wednesday, February 10,...</td>\n",
       "      <td>(unknown)\\n(10:00 am CET | Wednesday, February...</td>\n",
       "      <td>Moon Phase calculatorFebruary 10, 2021 10h</td>\n",
       "      <td>| waning crescent moon\\n2.43% illuminated</td>\n",
       "    </tr>\n",
       "    <tr>\n",
       "      <th>5225</th>\n",
       "      <td>2021-02-10 11:00:00</td>\n",
       "      <td>0 °C\\n(11:00 am CET | Wednesday, February 10, ...</td>\n",
       "      <td>ERROR</td>\n",
       "      <td>1 m/s\\n(11:00 am CET | Wednesday, February 10,...</td>\n",
       "      <td>(unknown)\\n(11:00 am CET | Wednesday, February...</td>\n",
       "      <td>Moon Phase calculatorFebruary 10, 2021 11h</td>\n",
       "      <td>| waning crescent moon\\n2.30% illuminated</td>\n",
       "    </tr>\n",
       "    <tr>\n",
       "      <th>5226</th>\n",
       "      <td>2021-02-10 12:00:00</td>\n",
       "      <td>0 °C\\n(12:00 pm CET | Wednesday, February 10, ...</td>\n",
       "      <td>ERROR</td>\n",
       "      <td>2 m/s\\n(12:00 pm CET | Wednesday, February 10,...</td>\n",
       "      <td>(unknown)\\n(12:00 pm CET | Wednesday, February...</td>\n",
       "      <td>Moon Phase calculatorFebruary 10, 2021 12h</td>\n",
       "      <td>| waning crescent moon\\n2.17% illuminated</td>\n",
       "    </tr>\n",
       "    <tr>\n",
       "      <th>5227</th>\n",
       "      <td>2021-02-10 13:00:00</td>\n",
       "      <td>0 °C\\n(1:00 pm CET | Wednesday, February 10, 2...</td>\n",
       "      <td>ERROR</td>\n",
       "      <td>2 m/s\\n(1:00 pm CET | Wednesday, February 10, ...</td>\n",
       "      <td>(unknown)\\n(1:00 pm CET | Wednesday, February ...</td>\n",
       "      <td>Moon Phase calculatorFebruary 10, 2021 13h</td>\n",
       "      <td>| waning crescent moon\\n2.04% illuminated</td>\n",
       "    </tr>\n",
       "    <tr>\n",
       "      <th>5228</th>\n",
       "      <td>2021-02-10 14:00:00</td>\n",
       "      <td>-1 °C\\n(2:00 pm CET | Wednesday, February 10, ...</td>\n",
       "      <td>ERROR</td>\n",
       "      <td>2 m/s\\n(2:00 pm CET | Wednesday, February 10, ...</td>\n",
       "      <td>(unknown)\\n(2:00 pm CET | Wednesday, February ...</td>\n",
       "      <td>Moon Phase calculatorFebruary 10, 2021 14h</td>\n",
       "      <td>| waning crescent moon\\n1.92% illuminated</td>\n",
       "    </tr>\n",
       "    <tr>\n",
       "      <th>5229</th>\n",
       "      <td>2021-02-10 15:00:00</td>\n",
       "      <td>-1 °C\\n(3:00 pm CET | Wednesday, February 10, ...</td>\n",
       "      <td>ERROR</td>\n",
       "      <td>3 m/s\\n(3:00 pm CET | Wednesday, February 10, ...</td>\n",
       "      <td>(unknown)\\n(3:00 pm CET | Wednesday, February ...</td>\n",
       "      <td>Moon Phase calculatorFebruary 10, 2021 15h</td>\n",
       "      <td>| waning crescent moon\\n1.80% illuminated</td>\n",
       "    </tr>\n",
       "    <tr>\n",
       "      <th>5230</th>\n",
       "      <td>2021-02-10 16:00:00</td>\n",
       "      <td>-1 °C\\n(4:00 pm CET | Wednesday, February 10, ...</td>\n",
       "      <td>ERROR</td>\n",
       "      <td>3 m/s\\n(4:00 pm CET | Wednesday, February 10, ...</td>\n",
       "      <td>(unknown)\\n(4:00 pm CET | Wednesday, February ...</td>\n",
       "      <td>Moon Phase calculatorFebruary 10, 2021 16h</td>\n",
       "      <td>| waning crescent moon\\n1.69% illuminated</td>\n",
       "    </tr>\n",
       "    <tr>\n",
       "      <th>5231</th>\n",
       "      <td>2021-02-10 17:00:00</td>\n",
       "      <td>-2 °C\\n(5:00 pm CET | Wednesday, February 10, ...</td>\n",
       "      <td>ERROR</td>\n",
       "      <td>3 m/s\\n(5:00 pm CET | Wednesday, February 10, ...</td>\n",
       "      <td>(unknown)\\n(5:00 pm CET | Wednesday, February ...</td>\n",
       "      <td>Moon Phase calculatorFebruary 10, 2021 17h</td>\n",
       "      <td>| waning crescent moon\\n1.58% illuminated</td>\n",
       "    </tr>\n",
       "    <tr>\n",
       "      <th>5232</th>\n",
       "      <td>2021-02-10 18:00:00</td>\n",
       "      <td>-2 °C\\n(6:00 pm CET | Wednesday, February 10, ...</td>\n",
       "      <td>ERROR</td>\n",
       "      <td>3 m/s\\n(6:00 pm CET | Wednesday, February 10, ...</td>\n",
       "      <td>(unknown)\\n(6:00 pm CET | Wednesday, February ...</td>\n",
       "      <td>Moon Phase calculatorFebruary 10, 2021 18h</td>\n",
       "      <td>| waning crescent moon\\n1.48% illuminated</td>\n",
       "    </tr>\n",
       "    <tr>\n",
       "      <th>5233</th>\n",
       "      <td>2021-02-10 19:00:00</td>\n",
       "      <td>-2 °C\\n(7:00 pm CET | Wednesday, February 10, ...</td>\n",
       "      <td>ERROR</td>\n",
       "      <td>4 m/s\\n(7:00 pm CET | Wednesday, February 10, ...</td>\n",
       "      <td>(unknown)\\n(7:00 pm CET | Wednesday, February ...</td>\n",
       "      <td>Moon Phase calculatorFebruary 10, 2021 19h</td>\n",
       "      <td>| waning crescent moon\\n1.38% illuminated</td>\n",
       "    </tr>\n",
       "    <tr>\n",
       "      <th>5234</th>\n",
       "      <td>2021-02-10 20:00:00</td>\n",
       "      <td>-2 °C\\n(8:00 pm CET | Wednesday, February 10, ...</td>\n",
       "      <td>ERROR</td>\n",
       "      <td>4 m/s\\n(8:00 pm CET | Wednesday, February 10, ...</td>\n",
       "      <td>(unknown)\\n(8:00 pm CET | Wednesday, February ...</td>\n",
       "      <td>Moon Phase calculatorFebruary 10, 2021 20h</td>\n",
       "      <td>| waning crescent moon\\n1.28% illuminated</td>\n",
       "    </tr>\n",
       "    <tr>\n",
       "      <th>5235</th>\n",
       "      <td>2021-02-10 21:00:00</td>\n",
       "      <td>-3 °C\\n(9:00 pm CET | Wednesday, February 10, ...</td>\n",
       "      <td>ERROR</td>\n",
       "      <td>4 m/s\\n(9:00 pm CET | Wednesday, February 10, ...</td>\n",
       "      <td>(unknown)\\n(9:00 pm CET | Wednesday, February ...</td>\n",
       "      <td>Moon Phase calculatorFebruary 10, 2021 21h</td>\n",
       "      <td>| waning crescent moon\\n1.19% illuminated</td>\n",
       "    </tr>\n",
       "    <tr>\n",
       "      <th>5236</th>\n",
       "      <td>2021-02-10 22:00:00</td>\n",
       "      <td>-3 °C\\n(10:00 pm CET | Wednesday, February 10,...</td>\n",
       "      <td>ERROR</td>\n",
       "      <td>5 m/s\\n(10:00 pm CET | Wednesday, February 10,...</td>\n",
       "      <td>(unknown)\\n(10:00 pm CET | Wednesday, February...</td>\n",
       "      <td>Moon Phase calculatorFebruary 10, 2021 22h</td>\n",
       "      <td>| waning crescent moon\\n1.10% illuminated</td>\n",
       "    </tr>\n",
       "    <tr>\n",
       "      <th>5237</th>\n",
       "      <td>2021-02-10 23:00:00</td>\n",
       "      <td>-3 °C\\n(11:00 pm CET | Wednesday, February 10,...</td>\n",
       "      <td>ERROR</td>\n",
       "      <td>5 m/s\\n(11:00 pm CET | Wednesday, February 10,...</td>\n",
       "      <td>(unknown)\\n(11:00 pm CET | Wednesday, February...</td>\n",
       "      <td>Moon Phase calculatorFebruary 10, 2021 23h</td>\n",
       "      <td>| waning crescent moon\\n1.01% illuminated</td>\n",
       "    </tr>\n",
       "    <tr>\n",
       "      <th>5238</th>\n",
       "      <td>2021-03-28 01:00:00</td>\n",
       "      <td>1 °C\\n(1:00 am CEST | Sunday, March 28, 2021)</td>\n",
       "      <td>ERROR</td>\n",
       "      <td>1 m/s\\n(1:00 am CEST | Sunday, March 28, 2021)</td>\n",
       "      <td>(unknown)\\n(1:00 am CEST | Sunday, March 28, 2...</td>\n",
       "      <td>Moon Phase calculatorMarch 28, 2021 1h</td>\n",
       "      <td>| waxing gibbous moon\\n98.84% illuminated</td>\n",
       "    </tr>\n",
       "    <tr>\n",
       "      <th>5263</th>\n",
       "      <td>2021-05-06 07:00:00</td>\n",
       "      <td>7 °C\\n(7:00 am CEST | Thursday, May 6, 2021)</td>\n",
       "      <td>average: 70% (70%)\\n(7:00 am CEST | Thursday, ...</td>\n",
       "      <td>2 m/s\\n(7:00 am CEST | Thursday, May 6, 2021)</td>\n",
       "      <td>ERROR</td>\n",
       "      <td>Moon Phase calculatorMay 6, 2021 7h</td>\n",
       "      <td>| waning crescent moon\\n26.55% illuminated</td>\n",
       "    </tr>\n",
       "    <tr>\n",
       "      <th>5274</th>\n",
       "      <td>2021-05-06 18:00:00</td>\n",
       "      <td>10 °C\\n(6:00 pm CEST | Thursday, May 6, 2021)</td>\n",
       "      <td>average: 91% (82 to 100%)\\n(6:00 pm CEST | Thu...</td>\n",
       "      <td>5 m/s\\n(6:00 pm CEST | Thursday, May 6, 2021)</td>\n",
       "      <td>ERROR</td>\n",
       "      <td>Moon Phase calculatorMay 6, 2021 18h</td>\n",
       "      <td>| waning crescent moon\\n22.62% illuminated</td>\n",
       "    </tr>\n",
       "    <tr>\n",
       "      <th>5467</th>\n",
       "      <td>2021-05-14 19:00:00</td>\n",
       "      <td>ERROR</td>\n",
       "      <td>ERROR</td>\n",
       "      <td>ERROR</td>\n",
       "      <td>(unknown)\\n(7:00 pm CEST | Friday, May 14, 2021)</td>\n",
       "      <td>Moon Phase calculatorMay 14, 2021 19h</td>\n",
       "      <td>| waxing crescent moon\\n7.49% illuminated</td>\n",
       "    </tr>\n",
       "  </tbody>\n",
       "</table>\n",
       "</div>"
      ],
      "text/plain": [
       "                    date                                        temperature  \\\n",
       "5203 2020-11-05 22:00:00  8 °C\\n(10:00 pm CET | Thursday, November 5, 2020)   \n",
       "5204 2020-11-16 19:00:00    7 °C\\n(7:00 pm CET | Monday, November 16, 2020)   \n",
       "5205 2020-11-16 21:00:00    5 °C\\n(9:00 pm CET | Monday, November 16, 2020)   \n",
       "5206 2020-12-15 21:00:00   4 °C\\n(9:00 pm CET | Tuesday, December 15, 2020)   \n",
       "5207 2021-02-08 17:00:00     5 °C\\n(5:00 pm CET | Monday, February 8, 2021)   \n",
       "5208 2021-02-08 18:00:00     4 °C\\n(6:00 pm CET | Monday, February 8, 2021)   \n",
       "5209 2021-02-08 19:00:00     3 °C\\n(7:00 pm CET | Monday, February 8, 2021)   \n",
       "5210 2021-02-08 20:00:00     2 °C\\n(8:00 pm CET | Monday, February 8, 2021)   \n",
       "5211 2021-02-09 09:00:00    0 °C\\n(9:00 am CET | Tuesday, February 9, 2021)   \n",
       "5212 2021-02-09 10:00:00   0 °C\\n(10:00 am CET | Tuesday, February 9, 2021)   \n",
       "5213 2021-02-09 11:00:00   0 °C\\n(11:00 am CET | Tuesday, February 9, 2021)   \n",
       "5214 2021-02-09 12:00:00   0 °C\\n(12:00 pm CET | Tuesday, February 9, 2021)   \n",
       "5215 2021-02-09 13:00:00    0 °C\\n(1:00 pm CET | Tuesday, February 9, 2021)   \n",
       "5216 2021-02-09 15:00:00    0 °C\\n(3:00 pm CET | Tuesday, February 9, 2021)   \n",
       "5217 2021-02-09 16:00:00    0 °C\\n(4:00 pm CET | Tuesday, February 9, 2021)   \n",
       "5218 2021-02-09 17:00:00    0 °C\\n(5:00 pm CET | Tuesday, February 9, 2021)   \n",
       "5219 2021-02-09 18:00:00    0 °C\\n(6:00 pm CET | Tuesday, February 9, 2021)   \n",
       "5220 2021-02-09 19:00:00    0 °C\\n(7:00 pm CET | Tuesday, February 9, 2021)   \n",
       "5221 2021-02-09 20:00:00    0 °C\\n(8:00 pm CET | Tuesday, February 9, 2021)   \n",
       "5222 2021-02-09 21:00:00    0 °C\\n(9:00 pm CET | Tuesday, February 9, 2021)   \n",
       "5223 2021-02-09 22:00:00   0 °C\\n(10:00 pm CET | Tuesday, February 9, 2021)   \n",
       "5224 2021-02-10 10:00:00  0 °C\\n(10:00 am CET | Wednesday, February 10, ...   \n",
       "5225 2021-02-10 11:00:00  0 °C\\n(11:00 am CET | Wednesday, February 10, ...   \n",
       "5226 2021-02-10 12:00:00  0 °C\\n(12:00 pm CET | Wednesday, February 10, ...   \n",
       "5227 2021-02-10 13:00:00  0 °C\\n(1:00 pm CET | Wednesday, February 10, 2...   \n",
       "5228 2021-02-10 14:00:00  -1 °C\\n(2:00 pm CET | Wednesday, February 10, ...   \n",
       "5229 2021-02-10 15:00:00  -1 °C\\n(3:00 pm CET | Wednesday, February 10, ...   \n",
       "5230 2021-02-10 16:00:00  -1 °C\\n(4:00 pm CET | Wednesday, February 10, ...   \n",
       "5231 2021-02-10 17:00:00  -2 °C\\n(5:00 pm CET | Wednesday, February 10, ...   \n",
       "5232 2021-02-10 18:00:00  -2 °C\\n(6:00 pm CET | Wednesday, February 10, ...   \n",
       "5233 2021-02-10 19:00:00  -2 °C\\n(7:00 pm CET | Wednesday, February 10, ...   \n",
       "5234 2021-02-10 20:00:00  -2 °C\\n(8:00 pm CET | Wednesday, February 10, ...   \n",
       "5235 2021-02-10 21:00:00  -3 °C\\n(9:00 pm CET | Wednesday, February 10, ...   \n",
       "5236 2021-02-10 22:00:00  -3 °C\\n(10:00 pm CET | Wednesday, February 10,...   \n",
       "5237 2021-02-10 23:00:00  -3 °C\\n(11:00 pm CET | Wednesday, February 10,...   \n",
       "5238 2021-03-28 01:00:00      1 °C\\n(1:00 am CEST | Sunday, March 28, 2021)   \n",
       "5263 2021-05-06 07:00:00       7 °C\\n(7:00 am CEST | Thursday, May 6, 2021)   \n",
       "5274 2021-05-06 18:00:00      10 °C\\n(6:00 pm CEST | Thursday, May 6, 2021)   \n",
       "5467 2021-05-14 19:00:00                                              ERROR   \n",
       "\n",
       "                                               humidity  \\\n",
       "5203                                              ERROR   \n",
       "5204                                              ERROR   \n",
       "5205                                              ERROR   \n",
       "5206                                              ERROR   \n",
       "5207                                              ERROR   \n",
       "5208                                              ERROR   \n",
       "5209                                              ERROR   \n",
       "5210                                              ERROR   \n",
       "5211                                              ERROR   \n",
       "5212                                              ERROR   \n",
       "5213                                              ERROR   \n",
       "5214                                              ERROR   \n",
       "5215                                              ERROR   \n",
       "5216                                              ERROR   \n",
       "5217                                              ERROR   \n",
       "5218                                              ERROR   \n",
       "5219                                              ERROR   \n",
       "5220                                              ERROR   \n",
       "5221                                              ERROR   \n",
       "5222                                              ERROR   \n",
       "5223                                              ERROR   \n",
       "5224                                              ERROR   \n",
       "5225                                              ERROR   \n",
       "5226                                              ERROR   \n",
       "5227                                              ERROR   \n",
       "5228                                              ERROR   \n",
       "5229                                              ERROR   \n",
       "5230                                              ERROR   \n",
       "5231                                              ERROR   \n",
       "5232                                              ERROR   \n",
       "5233                                              ERROR   \n",
       "5234                                              ERROR   \n",
       "5235                                              ERROR   \n",
       "5236                                              ERROR   \n",
       "5237                                              ERROR   \n",
       "5238                                              ERROR   \n",
       "5263  average: 70% (70%)\\n(7:00 am CEST | Thursday, ...   \n",
       "5274  average: 91% (82 to 100%)\\n(6:00 pm CEST | Thu...   \n",
       "5467                                              ERROR   \n",
       "\n",
       "                                             wind speed  \\\n",
       "5203  1 m/s\\n(10:00 pm CET | Thursday, November 5, 2...   \n",
       "5204   1 m/s\\n(7:00 pm CET | Monday, November 16, 2020)   \n",
       "5205   0 m/s\\n(9:00 pm CET | Monday, November 16, 2020)   \n",
       "5206  1 m/s\\n(9:00 pm CET | Tuesday, December 15, 2020)   \n",
       "5207    5 m/s\\n(5:00 pm CET | Monday, February 8, 2021)   \n",
       "5208    5 m/s\\n(6:00 pm CET | Monday, February 8, 2021)   \n",
       "5209    4 m/s\\n(7:00 pm CET | Monday, February 8, 2021)   \n",
       "5210    4 m/s\\n(8:00 pm CET | Monday, February 8, 2021)   \n",
       "5211   1 m/s\\n(9:00 am CET | Tuesday, February 9, 2021)   \n",
       "5212  1 m/s\\n(10:00 am CET | Tuesday, February 9, 2021)   \n",
       "5213  1 m/s\\n(11:00 am CET | Tuesday, February 9, 2021)   \n",
       "5214  1 m/s\\n(12:00 pm CET | Tuesday, February 9, 2021)   \n",
       "5215   2 m/s\\n(1:00 pm CET | Tuesday, February 9, 2021)   \n",
       "5216   2 m/s\\n(3:00 pm CET | Tuesday, February 9, 2021)   \n",
       "5217   2 m/s\\n(4:00 pm CET | Tuesday, February 9, 2021)   \n",
       "5218   3 m/s\\n(5:00 pm CET | Tuesday, February 9, 2021)   \n",
       "5219   3 m/s\\n(6:00 pm CET | Tuesday, February 9, 2021)   \n",
       "5220   3 m/s\\n(7:00 pm CET | Tuesday, February 9, 2021)   \n",
       "5221   3 m/s\\n(8:00 pm CET | Tuesday, February 9, 2021)   \n",
       "5222   4 m/s\\n(9:00 pm CET | Tuesday, February 9, 2021)   \n",
       "5223  4 m/s\\n(10:00 pm CET | Tuesday, February 9, 2021)   \n",
       "5224  1 m/s\\n(10:00 am CET | Wednesday, February 10,...   \n",
       "5225  1 m/s\\n(11:00 am CET | Wednesday, February 10,...   \n",
       "5226  2 m/s\\n(12:00 pm CET | Wednesday, February 10,...   \n",
       "5227  2 m/s\\n(1:00 pm CET | Wednesday, February 10, ...   \n",
       "5228  2 m/s\\n(2:00 pm CET | Wednesday, February 10, ...   \n",
       "5229  3 m/s\\n(3:00 pm CET | Wednesday, February 10, ...   \n",
       "5230  3 m/s\\n(4:00 pm CET | Wednesday, February 10, ...   \n",
       "5231  3 m/s\\n(5:00 pm CET | Wednesday, February 10, ...   \n",
       "5232  3 m/s\\n(6:00 pm CET | Wednesday, February 10, ...   \n",
       "5233  4 m/s\\n(7:00 pm CET | Wednesday, February 10, ...   \n",
       "5234  4 m/s\\n(8:00 pm CET | Wednesday, February 10, ...   \n",
       "5235  4 m/s\\n(9:00 pm CET | Wednesday, February 10, ...   \n",
       "5236  5 m/s\\n(10:00 pm CET | Wednesday, February 10,...   \n",
       "5237  5 m/s\\n(11:00 pm CET | Wednesday, February 10,...   \n",
       "5238     1 m/s\\n(1:00 am CEST | Sunday, March 28, 2021)   \n",
       "5263      2 m/s\\n(7:00 am CEST | Thursday, May 6, 2021)   \n",
       "5274      5 m/s\\n(6:00 pm CEST | Thursday, May 6, 2021)   \n",
       "5467                                              ERROR   \n",
       "\n",
       "                                   Precipitation amount  \\\n",
       "5203  (unknown)\\n(10:00 pm CET | Thursday, November ...   \n",
       "5204  (unknown)\\n(7:00 pm CET | Monday, November 16,...   \n",
       "5205  (unknown)\\n(9:00 pm CET | Monday, November 16,...   \n",
       "5206  (unknown)\\n(9:00 pm CET | Tuesday, December 15...   \n",
       "5207  (unknown)\\n(5:00 pm CET | Monday, February 8, ...   \n",
       "5208  (unknown)\\n(6:00 pm CET | Monday, February 8, ...   \n",
       "5209  (unknown)\\n(7:00 pm CET | Monday, February 8, ...   \n",
       "5210  (unknown)\\n(8:00 pm CET | Monday, February 8, ...   \n",
       "5211  (unknown)\\n(9:00 am CET | Tuesday, February 9,...   \n",
       "5212  (unknown)\\n(10:00 am CET | Tuesday, February 9...   \n",
       "5213  (unknown)\\n(11:00 am CET | Tuesday, February 9...   \n",
       "5214  (unknown)\\n(12:00 pm CET | Tuesday, February 9...   \n",
       "5215  (unknown)\\n(1:00 pm CET | Tuesday, February 9,...   \n",
       "5216  (unknown)\\n(3:00 pm CET | Tuesday, February 9,...   \n",
       "5217  (unknown)\\n(4:00 pm CET | Tuesday, February 9,...   \n",
       "5218  (unknown)\\n(5:00 pm CET | Tuesday, February 9,...   \n",
       "5219  (unknown)\\n(6:00 pm CET | Tuesday, February 9,...   \n",
       "5220  (unknown)\\n(7:00 pm CET | Tuesday, February 9,...   \n",
       "5221  (unknown)\\n(8:00 pm CET | Tuesday, February 9,...   \n",
       "5222  (unknown)\\n(9:00 pm CET | Tuesday, February 9,...   \n",
       "5223  (unknown)\\n(10:00 pm CET | Tuesday, February 9...   \n",
       "5224  (unknown)\\n(10:00 am CET | Wednesday, February...   \n",
       "5225  (unknown)\\n(11:00 am CET | Wednesday, February...   \n",
       "5226  (unknown)\\n(12:00 pm CET | Wednesday, February...   \n",
       "5227  (unknown)\\n(1:00 pm CET | Wednesday, February ...   \n",
       "5228  (unknown)\\n(2:00 pm CET | Wednesday, February ...   \n",
       "5229  (unknown)\\n(3:00 pm CET | Wednesday, February ...   \n",
       "5230  (unknown)\\n(4:00 pm CET | Wednesday, February ...   \n",
       "5231  (unknown)\\n(5:00 pm CET | Wednesday, February ...   \n",
       "5232  (unknown)\\n(6:00 pm CET | Wednesday, February ...   \n",
       "5233  (unknown)\\n(7:00 pm CET | Wednesday, February ...   \n",
       "5234  (unknown)\\n(8:00 pm CET | Wednesday, February ...   \n",
       "5235  (unknown)\\n(9:00 pm CET | Wednesday, February ...   \n",
       "5236  (unknown)\\n(10:00 pm CET | Wednesday, February...   \n",
       "5237  (unknown)\\n(11:00 pm CET | Wednesday, February...   \n",
       "5238  (unknown)\\n(1:00 am CEST | Sunday, March 28, 2...   \n",
       "5263                                              ERROR   \n",
       "5274                                              ERROR   \n",
       "5467   (unknown)\\n(7:00 pm CEST | Friday, May 14, 2021)   \n",
       "\n",
       "                                           query  \\\n",
       "5203   Moon Phase calculatorNovember 5, 2020 22h   \n",
       "5204  Moon Phase calculatorNovember 16, 2020 19h   \n",
       "5205  Moon Phase calculatorNovember 16, 2020 21h   \n",
       "5206  Moon Phase calculatorDecember 15, 2020 21h   \n",
       "5207   Moon Phase calculatorFebruary 8, 2021 17h   \n",
       "5208   Moon Phase calculatorFebruary 8, 2021 18h   \n",
       "5209   Moon Phase calculatorFebruary 8, 2021 19h   \n",
       "5210   Moon Phase calculatorFebruary 8, 2021 20h   \n",
       "5211    Moon Phase calculatorFebruary 9, 2021 9h   \n",
       "5212   Moon Phase calculatorFebruary 9, 2021 10h   \n",
       "5213   Moon Phase calculatorFebruary 9, 2021 11h   \n",
       "5214   Moon Phase calculatorFebruary 9, 2021 12h   \n",
       "5215   Moon Phase calculatorFebruary 9, 2021 13h   \n",
       "5216   Moon Phase calculatorFebruary 9, 2021 15h   \n",
       "5217   Moon Phase calculatorFebruary 9, 2021 16h   \n",
       "5218   Moon Phase calculatorFebruary 9, 2021 17h   \n",
       "5219   Moon Phase calculatorFebruary 9, 2021 18h   \n",
       "5220   Moon Phase calculatorFebruary 9, 2021 19h   \n",
       "5221   Moon Phase calculatorFebruary 9, 2021 20h   \n",
       "5222   Moon Phase calculatorFebruary 9, 2021 21h   \n",
       "5223   Moon Phase calculatorFebruary 9, 2021 22h   \n",
       "5224  Moon Phase calculatorFebruary 10, 2021 10h   \n",
       "5225  Moon Phase calculatorFebruary 10, 2021 11h   \n",
       "5226  Moon Phase calculatorFebruary 10, 2021 12h   \n",
       "5227  Moon Phase calculatorFebruary 10, 2021 13h   \n",
       "5228  Moon Phase calculatorFebruary 10, 2021 14h   \n",
       "5229  Moon Phase calculatorFebruary 10, 2021 15h   \n",
       "5230  Moon Phase calculatorFebruary 10, 2021 16h   \n",
       "5231  Moon Phase calculatorFebruary 10, 2021 17h   \n",
       "5232  Moon Phase calculatorFebruary 10, 2021 18h   \n",
       "5233  Moon Phase calculatorFebruary 10, 2021 19h   \n",
       "5234  Moon Phase calculatorFebruary 10, 2021 20h   \n",
       "5235  Moon Phase calculatorFebruary 10, 2021 21h   \n",
       "5236  Moon Phase calculatorFebruary 10, 2021 22h   \n",
       "5237  Moon Phase calculatorFebruary 10, 2021 23h   \n",
       "5238      Moon Phase calculatorMarch 28, 2021 1h   \n",
       "5263         Moon Phase calculatorMay 6, 2021 7h   \n",
       "5274        Moon Phase calculatorMay 6, 2021 18h   \n",
       "5467       Moon Phase calculatorMay 14, 2021 19h   \n",
       "\n",
       "                           Moon Phase calculator  \n",
       "5203   | waning gibbous moon\\n76.55% illuminated  \n",
       "5204   | waxing crescent moon\\n3.48% illuminated  \n",
       "5205   | waxing crescent moon\\n3.86% illuminated  \n",
       "5206   | waxing crescent moon\\n1.86% illuminated  \n",
       "5207  | waning crescent moon\\n11.27% illuminated  \n",
       "5208  | waning crescent moon\\n10.98% illuminated  \n",
       "5209  | waning crescent moon\\n10.69% illuminated  \n",
       "5210  | waning crescent moon\\n10.41% illuminated  \n",
       "5211   | waning crescent moon\\n7.06% illuminated  \n",
       "5212   | waning crescent moon\\n6.82% illuminated  \n",
       "5213   | waning crescent moon\\n6.60% illuminated  \n",
       "5214   | waning crescent moon\\n6.37% illuminated  \n",
       "5215   | waning crescent moon\\n6.15% illuminated  \n",
       "5216   | waning crescent moon\\n5.72% illuminated  \n",
       "5217   | waning crescent moon\\n5.51% illuminated  \n",
       "5218   | waning crescent moon\\n5.31% illuminated  \n",
       "5219   | waning crescent moon\\n5.11% illuminated  \n",
       "5220   | waning crescent moon\\n4.91% illuminated  \n",
       "5221   | waning crescent moon\\n4.72% illuminated  \n",
       "5222   | waning crescent moon\\n4.53% illuminated  \n",
       "5223   | waning crescent moon\\n4.34% illuminated  \n",
       "5224   | waning crescent moon\\n2.43% illuminated  \n",
       "5225   | waning crescent moon\\n2.30% illuminated  \n",
       "5226   | waning crescent moon\\n2.17% illuminated  \n",
       "5227   | waning crescent moon\\n2.04% illuminated  \n",
       "5228   | waning crescent moon\\n1.92% illuminated  \n",
       "5229   | waning crescent moon\\n1.80% illuminated  \n",
       "5230   | waning crescent moon\\n1.69% illuminated  \n",
       "5231   | waning crescent moon\\n1.58% illuminated  \n",
       "5232   | waning crescent moon\\n1.48% illuminated  \n",
       "5233   | waning crescent moon\\n1.38% illuminated  \n",
       "5234   | waning crescent moon\\n1.28% illuminated  \n",
       "5235   | waning crescent moon\\n1.19% illuminated  \n",
       "5236   | waning crescent moon\\n1.10% illuminated  \n",
       "5237   | waning crescent moon\\n1.01% illuminated  \n",
       "5238   | waxing gibbous moon\\n98.84% illuminated  \n",
       "5263  | waning crescent moon\\n26.55% illuminated  \n",
       "5274  | waning crescent moon\\n22.62% illuminated  \n",
       "5467   | waxing crescent moon\\n7.49% illuminated  "
      ]
     },
     "metadata": {},
     "output_type": "display_data"
    },
    {
     "name": "stdout",
     "output_type": "stream",
     "text": [
      "7369\n",
      "1940\n",
      "WARNING: to many calls to be completed these queries!\n",
      "You need 9700 new queries to complete this date interval\n",
      "(5429, 7)\n"
     ]
    },
    {
     "data": {
      "text/html": [
       "<div>\n",
       "<style scoped>\n",
       "    .dataframe tbody tr th:only-of-type {\n",
       "        vertical-align: middle;\n",
       "    }\n",
       "\n",
       "    .dataframe tbody tr th {\n",
       "        vertical-align: top;\n",
       "    }\n",
       "\n",
       "    .dataframe thead th {\n",
       "        text-align: right;\n",
       "    }\n",
       "</style>\n",
       "<table border=\"1\" class=\"dataframe\">\n",
       "  <thead>\n",
       "    <tr style=\"text-align: right;\">\n",
       "      <th></th>\n",
       "      <th>date</th>\n",
       "      <th>temperature</th>\n",
       "      <th>humidity</th>\n",
       "      <th>wind speed</th>\n",
       "      <th>Precipitation amount</th>\n",
       "      <th>query</th>\n",
       "      <th>Moon Phase calculator</th>\n",
       "    </tr>\n",
       "  </thead>\n",
       "  <tbody>\n",
       "    <tr>\n",
       "      <th>5462</th>\n",
       "      <td>2021-05-14 14:00:00</td>\n",
       "      <td>13 °C\\n(2:00 pm CEST | Friday, May 14, 2021)</td>\n",
       "      <td>average: 57% (48 to 66%)\\n(2:00 pm CEST | Frid...</td>\n",
       "      <td>6 m/s\\n(2:00 pm CEST | Friday, May 14, 2021)</td>\n",
       "      <td>no precipitation\\n(2:00 pm CEST | Friday, May ...</td>\n",
       "      <td>Moon Phase calculatorMay 14, 2021 14h</td>\n",
       "      <td>| waxing crescent moon\\n6.47% illuminated</td>\n",
       "    </tr>\n",
       "    <tr>\n",
       "      <th>5463</th>\n",
       "      <td>2021-05-14 15:00:00</td>\n",
       "      <td>11 °C\\n(3:00 pm CEST | Friday, May 14, 2021)</td>\n",
       "      <td>average: 74% (71 to 76%)\\n(3:00 pm CEST | Frid...</td>\n",
       "      <td>5 m/s\\n(3:00 pm CEST | Friday, May 14, 2021)</td>\n",
       "      <td>no precipitation\\n(3:00 pm CEST | Friday, May ...</td>\n",
       "      <td>Moon Phase calculatorMay 14, 2021 15h</td>\n",
       "      <td>| waxing crescent moon\\n6.67% illuminated</td>\n",
       "    </tr>\n",
       "    <tr>\n",
       "      <th>5464</th>\n",
       "      <td>2021-05-14 16:00:00</td>\n",
       "      <td>11 °C\\n(4:00 pm CEST | Friday, May 14, 2021)</td>\n",
       "      <td>average: 77% (71 to 82%)\\n(4:00 pm CEST | Frid...</td>\n",
       "      <td>2 m/s\\n(4:00 pm CEST | Friday, May 14, 2021)</td>\n",
       "      <td>no precipitation\\n(4:00 pm CEST | Friday, May ...</td>\n",
       "      <td>Moon Phase calculatorMay 14, 2021 16h</td>\n",
       "      <td>| waxing crescent moon\\n6.87% illuminated</td>\n",
       "    </tr>\n",
       "    <tr>\n",
       "      <th>5465</th>\n",
       "      <td>2021-05-14 17:00:00</td>\n",
       "      <td>10 °C\\n(5:00 pm CEST | Friday, May 14, 2021)</td>\n",
       "      <td>average: 90% (87 to 93%)\\n(5:00 pm CEST | Frid...</td>\n",
       "      <td>3 m/s\\n(5:00 pm CEST | Friday, May 14, 2021)</td>\n",
       "      <td>rain\\n(5:00 pm CEST | Friday, May 14, 2021)</td>\n",
       "      <td>Moon Phase calculatorMay 14, 2021 17h</td>\n",
       "      <td>| waxing crescent moon\\n7.07% illuminated</td>\n",
       "    </tr>\n",
       "    <tr>\n",
       "      <th>5466</th>\n",
       "      <td>2021-05-14 18:00:00</td>\n",
       "      <td>8 °C\\n(6:00 pm CEST | Friday, May 14, 2021)</td>\n",
       "      <td>average: 100% (100%)\\n(6:00 pm CEST | Friday, ...</td>\n",
       "      <td>1 m/s\\n(6:00 pm CEST | Friday, May 14, 2021)</td>\n",
       "      <td>rain\\n(6:00 pm CEST | Friday, May 14, 2021)</td>\n",
       "      <td>Moon Phase calculatorMay 14, 2021 18h</td>\n",
       "      <td>| waxing crescent moon\\n7.28% illuminated</td>\n",
       "    </tr>\n",
       "  </tbody>\n",
       "</table>\n",
       "</div>"
      ],
      "text/plain": [
       "                    date                                   temperature  \\\n",
       "5462 2021-05-14 14:00:00  13 °C\\n(2:00 pm CEST | Friday, May 14, 2021)   \n",
       "5463 2021-05-14 15:00:00  11 °C\\n(3:00 pm CEST | Friday, May 14, 2021)   \n",
       "5464 2021-05-14 16:00:00  11 °C\\n(4:00 pm CEST | Friday, May 14, 2021)   \n",
       "5465 2021-05-14 17:00:00  10 °C\\n(5:00 pm CEST | Friday, May 14, 2021)   \n",
       "5466 2021-05-14 18:00:00   8 °C\\n(6:00 pm CEST | Friday, May 14, 2021)   \n",
       "\n",
       "                                               humidity  \\\n",
       "5462  average: 57% (48 to 66%)\\n(2:00 pm CEST | Frid...   \n",
       "5463  average: 74% (71 to 76%)\\n(3:00 pm CEST | Frid...   \n",
       "5464  average: 77% (71 to 82%)\\n(4:00 pm CEST | Frid...   \n",
       "5465  average: 90% (87 to 93%)\\n(5:00 pm CEST | Frid...   \n",
       "5466  average: 100% (100%)\\n(6:00 pm CEST | Friday, ...   \n",
       "\n",
       "                                        wind speed  \\\n",
       "5462  6 m/s\\n(2:00 pm CEST | Friday, May 14, 2021)   \n",
       "5463  5 m/s\\n(3:00 pm CEST | Friday, May 14, 2021)   \n",
       "5464  2 m/s\\n(4:00 pm CEST | Friday, May 14, 2021)   \n",
       "5465  3 m/s\\n(5:00 pm CEST | Friday, May 14, 2021)   \n",
       "5466  1 m/s\\n(6:00 pm CEST | Friday, May 14, 2021)   \n",
       "\n",
       "                                   Precipitation amount  \\\n",
       "5462  no precipitation\\n(2:00 pm CEST | Friday, May ...   \n",
       "5463  no precipitation\\n(3:00 pm CEST | Friday, May ...   \n",
       "5464  no precipitation\\n(4:00 pm CEST | Friday, May ...   \n",
       "5465        rain\\n(5:00 pm CEST | Friday, May 14, 2021)   \n",
       "5466        rain\\n(6:00 pm CEST | Friday, May 14, 2021)   \n",
       "\n",
       "                                      query  \\\n",
       "5462  Moon Phase calculatorMay 14, 2021 14h   \n",
       "5463  Moon Phase calculatorMay 14, 2021 15h   \n",
       "5464  Moon Phase calculatorMay 14, 2021 16h   \n",
       "5465  Moon Phase calculatorMay 14, 2021 17h   \n",
       "5466  Moon Phase calculatorMay 14, 2021 18h   \n",
       "\n",
       "                          Moon Phase calculator  \n",
       "5462  | waxing crescent moon\\n6.47% illuminated  \n",
       "5463  | waxing crescent moon\\n6.67% illuminated  \n",
       "5464  | waxing crescent moon\\n6.87% illuminated  \n",
       "5465  | waxing crescent moon\\n7.07% illuminated  \n",
       "5466  | waxing crescent moon\\n7.28% illuminated  "
      ]
     },
     "execution_count": 4,
     "metadata": {},
     "output_type": "execute_result"
    }
   ],
   "source": [
    "mi = dt.datetime(2020,9,29)\n",
    "#ma = dt.datetime(2019,9,2)\n",
    "ma = dt.datetime(2021,8,2)\n",
    "df = pd.DataFrame(columns=['date', 'temperature', 'humidity', 'wind speed', 'Precipitation amount',\n",
    "                           'Moon Phase calculator','query']) #pressure\n",
    "path_weather = os.path.join(path_,'weather.csv')\n",
    "if len(glob.glob(path_weather))==1:\n",
    "    df = pd.read_csv(path_weather, sep=';', parse_dates=['date'])\n",
    "    #remove the last date, in case we stop in middle of the data to grab\n",
    "    #df = df[df['date']!=max(df['date'].unique())]\n",
    "    df = df.drop_duplicates(subset=None, keep='first', inplace=False)\n",
    "    print(df.shape)\n",
    "    print('We already have %d dates of weather'%df.shape[0])\n",
    "    #mi = max(mi, max(df['date'].tolist())) #not a good idea in case of errors as in that case we would like to try it again \n",
    "print(df[df.isin([\"ERROR\"]).any(axis=1)].shape)\n",
    "display(df[df.isin([\"ERROR\"]).any(axis=1)])\n",
    "df = df[~df.isin([\"ERROR\"]).any(axis=1)]\n",
    "#remove the rows with at least one error\n",
    "Daterange = pd.date_range(start=mi, end=ma, freq='H')   \n",
    "print(len(Daterange))\n",
    "Daterange = [d for d in Daterange if d not in df['date'].unique()]\n",
    "print(len(Daterange))\n",
    "if (len(Daterange)*len(li_type))>=2000:\n",
    "    print('WARNING: to many calls to be completed these queries!')\n",
    "print('You need %d new queries to complete this date interval'%(len(Daterange)*len(li_type)))\n",
    "df = df.sort_values(['date'])\n",
    "print(df.shape)\n",
    "df.tail(5)"
   ]
  },
  {
   "cell_type": "code",
   "execution_count": 5,
   "metadata": {
    "scrolled": true
   },
   "outputs": [
    {
     "name": "stderr",
     "output_type": "stream",
     "text": [
      "\r",
      "  0%|                                                                                         | 0/1940 [00:00<?, ?it/s]"
     ]
    },
    {
     "name": "stdout",
     "output_type": "stream",
     "text": [
      "QUERY:  Precipitation amount in Zollikofen November 5, 2020 22h\n",
      "QUERY:  temperature in Zollikofen November 5, 2020 22h\n",
      "QUERY:  humidity in Zollikofen November 5, 2020 22h\n",
      "ERROR: no data available-------------  humidity in Zollikofen November 5, 2020 22h\n",
      "ERROR:------------- name 'error' is not defined  ----------  humidity in Zollikofen November 5, 2020 22h\n",
      "QUERY:  wind speed in Zollikofen November 5, 2020 22h\n",
      "QUERY:  Moon Phase calculatorNovember 5, 2020 22h\n",
      "(5430, 7)\n"
     ]
    },
    {
     "data": {
      "text/html": [
       "<div>\n",
       "<style scoped>\n",
       "    .dataframe tbody tr th:only-of-type {\n",
       "        vertical-align: middle;\n",
       "    }\n",
       "\n",
       "    .dataframe tbody tr th {\n",
       "        vertical-align: top;\n",
       "    }\n",
       "\n",
       "    .dataframe thead th {\n",
       "        text-align: right;\n",
       "    }\n",
       "</style>\n",
       "<table border=\"1\" class=\"dataframe\">\n",
       "  <thead>\n",
       "    <tr style=\"text-align: right;\">\n",
       "      <th></th>\n",
       "      <th>date</th>\n",
       "      <th>temperature</th>\n",
       "      <th>humidity</th>\n",
       "      <th>wind speed</th>\n",
       "      <th>Precipitation amount</th>\n",
       "      <th>query</th>\n",
       "      <th>Moon Phase calculator</th>\n",
       "    </tr>\n",
       "  </thead>\n",
       "  <tbody>\n",
       "    <tr>\n",
       "      <th>5466</th>\n",
       "      <td>2021-05-14 18:00:00</td>\n",
       "      <td>8 °C\\n(6:00 pm CEST | Friday, May 14, 2021)</td>\n",
       "      <td>average: 100% (100%)\\n(6:00 pm CEST | Friday, ...</td>\n",
       "      <td>1 m/s\\n(6:00 pm CEST | Friday, May 14, 2021)</td>\n",
       "      <td>rain\\n(6:00 pm CEST | Friday, May 14, 2021)</td>\n",
       "      <td>Moon Phase calculatorMay 14, 2021 18h</td>\n",
       "      <td>| waxing crescent moon\\n7.28% illuminated</td>\n",
       "    </tr>\n",
       "    <tr>\n",
       "      <th>0</th>\n",
       "      <td>2020-11-05 22:00:00</td>\n",
       "      <td>8 °C\\n(10:00 pm CET | Thursday, November 5, 2020)</td>\n",
       "      <td>ERROR</td>\n",
       "      <td>1 m/s\\n(10:00 pm CET | Thursday, November 5, 2...</td>\n",
       "      <td>(unknown)\\n(10:00 pm CET | Thursday, November ...</td>\n",
       "      <td>Moon Phase calculatorNovember 5, 2020 22h</td>\n",
       "      <td>| waning gibbous moon\\n76.55% illuminated</td>\n",
       "    </tr>\n",
       "  </tbody>\n",
       "</table>\n",
       "</div>"
      ],
      "text/plain": [
       "                    date                                        temperature  \\\n",
       "5466 2021-05-14 18:00:00        8 °C\\n(6:00 pm CEST | Friday, May 14, 2021)   \n",
       "0    2020-11-05 22:00:00  8 °C\\n(10:00 pm CET | Thursday, November 5, 2020)   \n",
       "\n",
       "                                               humidity  \\\n",
       "5466  average: 100% (100%)\\n(6:00 pm CEST | Friday, ...   \n",
       "0                                                 ERROR   \n",
       "\n",
       "                                             wind speed  \\\n",
       "5466       1 m/s\\n(6:00 pm CEST | Friday, May 14, 2021)   \n",
       "0     1 m/s\\n(10:00 pm CET | Thursday, November 5, 2...   \n",
       "\n",
       "                                   Precipitation amount  \\\n",
       "5466        rain\\n(6:00 pm CEST | Friday, May 14, 2021)   \n",
       "0     (unknown)\\n(10:00 pm CET | Thursday, November ...   \n",
       "\n",
       "                                          query  \\\n",
       "5466      Moon Phase calculatorMay 14, 2021 18h   \n",
       "0     Moon Phase calculatorNovember 5, 2020 22h   \n",
       "\n",
       "                          Moon Phase calculator  \n",
       "5466  | waxing crescent moon\\n7.28% illuminated  \n",
       "0     | waning gibbous moon\\n76.55% illuminated  "
      ]
     },
     "metadata": {},
     "output_type": "display_data"
    },
    {
     "name": "stderr",
     "output_type": "stream",
     "text": [
      "\r",
      "  0%|                                                                              | 1/1940 [00:20<11:15:36, 20.91s/it]"
     ]
    },
    {
     "name": "stdout",
     "output_type": "stream",
     "text": [
      "QUERY:  Precipitation amount in Zollikofen November 16, 2020 19h\n",
      "QUERY:  temperature in Zollikofen November 16, 2020 19h\n",
      "QUERY:  humidity in Zollikofen November 16, 2020 19h\n",
      "ERROR: no data available-------------  humidity in Zollikofen November 16, 2020 19h\n",
      "ERROR:------------- name 'error' is not defined  ----------  humidity in Zollikofen November 16, 2020 19h\n",
      "QUERY:  wind speed in Zollikofen November 16, 2020 19h\n",
      "QUERY:  Moon Phase calculatorNovember 16, 2020 19h\n"
     ]
    },
    {
     "name": "stderr",
     "output_type": "stream",
     "text": [
      "\r",
      "  0%|                                                                              | 2/1940 [00:40<11:06:07, 20.62s/it]"
     ]
    },
    {
     "name": "stdout",
     "output_type": "stream",
     "text": [
      "QUERY:  Precipitation amount in Zollikofen November 16, 2020 21h\n",
      "QUERY:  temperature in Zollikofen November 16, 2020 21h\n",
      "QUERY:  humidity in Zollikofen November 16, 2020 21h\n",
      "ERROR: no data available-------------  humidity in Zollikofen November 16, 2020 21h\n",
      "ERROR:------------- name 'error' is not defined  ----------  humidity in Zollikofen November 16, 2020 21h\n",
      "QUERY:  wind speed in Zollikofen November 16, 2020 21h\n",
      "QUERY:  Moon Phase calculatorNovember 16, 2020 21h\n"
     ]
    },
    {
     "name": "stderr",
     "output_type": "stream",
     "text": [
      "\r",
      "  0%|                                                                              | 3/1940 [01:00<10:56:07, 20.32s/it]"
     ]
    },
    {
     "name": "stdout",
     "output_type": "stream",
     "text": [
      "QUERY:  Precipitation amount in Zollikofen December 15, 2020 21h\n",
      "QUERY:  temperature in Zollikofen December 15, 2020 21h\n",
      "QUERY:  humidity in Zollikofen December 15, 2020 21h\n",
      "ERROR: no data available-------------  humidity in Zollikofen December 15, 2020 21h\n",
      "ERROR:------------- name 'error' is not defined  ----------  humidity in Zollikofen December 15, 2020 21h\n",
      "QUERY:  wind speed in Zollikofen December 15, 2020 21h\n",
      "QUERY:  Moon Phase calculatorDecember 15, 2020 21h\n"
     ]
    },
    {
     "name": "stderr",
     "output_type": "stream",
     "text": [
      "\r",
      "  0%|▏                                                                             | 4/1940 [01:22<11:10:33, 20.78s/it]"
     ]
    },
    {
     "name": "stdout",
     "output_type": "stream",
     "text": [
      "QUERY:  Precipitation amount in Zollikofen February 8, 2021 17h\n",
      "QUERY:  temperature in Zollikofen February 8, 2021 17h\n",
      "QUERY:  humidity in Zollikofen February 8, 2021 17h\n",
      "ERROR: no data available-------------  humidity in Zollikofen February 8, 2021 17h\n",
      "ERROR:------------- name 'error' is not defined  ----------  humidity in Zollikofen February 8, 2021 17h\n",
      "QUERY:  wind speed in Zollikofen February 8, 2021 17h\n",
      "QUERY:  Moon Phase calculatorFebruary 8, 2021 17h\n"
     ]
    },
    {
     "name": "stderr",
     "output_type": "stream",
     "text": [
      "\r",
      "  0%|▏                                                                             | 5/1940 [01:41<10:54:40, 20.30s/it]"
     ]
    },
    {
     "name": "stdout",
     "output_type": "stream",
     "text": [
      "QUERY:  Precipitation amount in Zollikofen February 8, 2021 18h\n",
      "QUERY:  temperature in Zollikofen February 8, 2021 18h\n",
      "QUERY:  humidity in Zollikofen February 8, 2021 18h\n",
      "ERROR: no data available-------------  humidity in Zollikofen February 8, 2021 18h\n",
      "ERROR:------------- name 'error' is not defined  ----------  humidity in Zollikofen February 8, 2021 18h\n",
      "QUERY:  wind speed in Zollikofen February 8, 2021 18h\n",
      "QUERY:  Moon Phase calculatorFebruary 8, 2021 18h\n"
     ]
    },
    {
     "name": "stderr",
     "output_type": "stream",
     "text": [
      "\r",
      "  0%|▏                                                                             | 6/1940 [02:01<10:49:34, 20.15s/it]"
     ]
    },
    {
     "name": "stdout",
     "output_type": "stream",
     "text": [
      "QUERY:  Precipitation amount in Zollikofen February 8, 2021 19h\n",
      "QUERY:  temperature in Zollikofen February 8, 2021 19h\n",
      "QUERY:  humidity in Zollikofen February 8, 2021 19h\n",
      "ERROR: no data available-------------  humidity in Zollikofen February 8, 2021 19h\n",
      "ERROR:------------- name 'error' is not defined  ----------  humidity in Zollikofen February 8, 2021 19h\n",
      "QUERY:  wind speed in Zollikofen February 8, 2021 19h\n",
      "QUERY:  Moon Phase calculatorFebruary 8, 2021 19h\n"
     ]
    },
    {
     "name": "stderr",
     "output_type": "stream",
     "text": [
      "\r",
      "  0%|▎                                                                             | 7/1940 [02:20<10:37:58, 19.80s/it]"
     ]
    },
    {
     "name": "stdout",
     "output_type": "stream",
     "text": [
      "QUERY:  Precipitation amount in Zollikofen February 8, 2021 20h\n",
      "QUERY:  temperature in Zollikofen February 8, 2021 20h\n",
      "QUERY:  humidity in Zollikofen February 8, 2021 20h\n",
      "ERROR: no data available-------------  humidity in Zollikofen February 8, 2021 20h\n",
      "ERROR:------------- name 'error' is not defined  ----------  humidity in Zollikofen February 8, 2021 20h\n",
      "QUERY:  wind speed in Zollikofen February 8, 2021 20h\n",
      "QUERY:  Moon Phase calculatorFebruary 8, 2021 20h\n"
     ]
    },
    {
     "name": "stderr",
     "output_type": "stream",
     "text": [
      "\r",
      "  0%|▎                                                                             | 8/1940 [02:40<10:41:19, 19.92s/it]"
     ]
    },
    {
     "name": "stdout",
     "output_type": "stream",
     "text": [
      "QUERY:  Precipitation amount in Zollikofen February 9, 2021 9h\n",
      "QUERY:  temperature in Zollikofen February 9, 2021 9h\n",
      "QUERY:  humidity in Zollikofen February 9, 2021 9h\n",
      "ERROR: no data available-------------  humidity in Zollikofen February 9, 2021 9h\n",
      "ERROR:------------- name 'error' is not defined  ----------  humidity in Zollikofen February 9, 2021 9h\n",
      "QUERY:  wind speed in Zollikofen February 9, 2021 9h\n",
      "QUERY:  Moon Phase calculatorFebruary 9, 2021 9h\n"
     ]
    },
    {
     "name": "stderr",
     "output_type": "stream",
     "text": [
      "\r",
      "  0%|▎                                                                             | 9/1940 [02:59<10:28:48, 19.54s/it]"
     ]
    },
    {
     "name": "stdout",
     "output_type": "stream",
     "text": [
      "QUERY:  Precipitation amount in Zollikofen February 9, 2021 10h\n",
      "QUERY:  temperature in Zollikofen February 9, 2021 10h\n",
      "QUERY:  humidity in Zollikofen February 9, 2021 10h\n",
      "ERROR: no data available-------------  humidity in Zollikofen February 9, 2021 10h\n",
      "ERROR:------------- name 'error' is not defined  ----------  humidity in Zollikofen February 9, 2021 10h\n",
      "QUERY:  wind speed in Zollikofen February 9, 2021 10h\n",
      "QUERY:  Moon Phase calculatorFebruary 9, 2021 10h\n"
     ]
    },
    {
     "name": "stderr",
     "output_type": "stream",
     "text": [
      "\r",
      "  1%|▍                                                                            | 10/1940 [03:18<10:24:45, 19.42s/it]"
     ]
    },
    {
     "name": "stdout",
     "output_type": "stream",
     "text": [
      "QUERY:  Precipitation amount in Zollikofen February 9, 2021 11h\n",
      "QUERY:  temperature in Zollikofen February 9, 2021 11h\n",
      "QUERY:  humidity in Zollikofen February 9, 2021 11h\n",
      "ERROR: no data available-------------  humidity in Zollikofen February 9, 2021 11h\n",
      "ERROR:------------- name 'error' is not defined  ----------  humidity in Zollikofen February 9, 2021 11h\n",
      "QUERY:  wind speed in Zollikofen February 9, 2021 11h\n",
      "QUERY:  Moon Phase calculatorFebruary 9, 2021 11h\n",
      "(5440, 7)\n"
     ]
    },
    {
     "data": {
      "text/html": [
       "<div>\n",
       "<style scoped>\n",
       "    .dataframe tbody tr th:only-of-type {\n",
       "        vertical-align: middle;\n",
       "    }\n",
       "\n",
       "    .dataframe tbody tr th {\n",
       "        vertical-align: top;\n",
       "    }\n",
       "\n",
       "    .dataframe thead th {\n",
       "        text-align: right;\n",
       "    }\n",
       "</style>\n",
       "<table border=\"1\" class=\"dataframe\">\n",
       "  <thead>\n",
       "    <tr style=\"text-align: right;\">\n",
       "      <th></th>\n",
       "      <th>date</th>\n",
       "      <th>temperature</th>\n",
       "      <th>humidity</th>\n",
       "      <th>wind speed</th>\n",
       "      <th>Precipitation amount</th>\n",
       "      <th>query</th>\n",
       "      <th>Moon Phase calculator</th>\n",
       "    </tr>\n",
       "  </thead>\n",
       "  <tbody>\n",
       "    <tr>\n",
       "      <th>8</th>\n",
       "      <td>2021-02-09 10:00:00</td>\n",
       "      <td>0 °C\\n(10:00 am CET | Tuesday, February 9, 2021)</td>\n",
       "      <td>ERROR</td>\n",
       "      <td>1 m/s\\n(10:00 am CET | Tuesday, February 9, 2021)</td>\n",
       "      <td>(unknown)\\n(10:00 am CET | Tuesday, February 9...</td>\n",
       "      <td>Moon Phase calculatorFebruary 9, 2021 10h</td>\n",
       "      <td>| waning crescent moon\\n6.82% illuminated</td>\n",
       "    </tr>\n",
       "    <tr>\n",
       "      <th>9</th>\n",
       "      <td>2021-02-09 11:00:00</td>\n",
       "      <td>0 °C\\n(11:00 am CET | Tuesday, February 9, 2021)</td>\n",
       "      <td>ERROR</td>\n",
       "      <td>1 m/s\\n(11:00 am CET | Tuesday, February 9, 2021)</td>\n",
       "      <td>(unknown)\\n(11:00 am CET | Tuesday, February 9...</td>\n",
       "      <td>Moon Phase calculatorFebruary 9, 2021 11h</td>\n",
       "      <td>| waning crescent moon\\n6.60% illuminated</td>\n",
       "    </tr>\n",
       "  </tbody>\n",
       "</table>\n",
       "</div>"
      ],
      "text/plain": [
       "                 date                                       temperature  \\\n",
       "8 2021-02-09 10:00:00  0 °C\\n(10:00 am CET | Tuesday, February 9, 2021)   \n",
       "9 2021-02-09 11:00:00  0 °C\\n(11:00 am CET | Tuesday, February 9, 2021)   \n",
       "\n",
       "  humidity                                         wind speed  \\\n",
       "8    ERROR  1 m/s\\n(10:00 am CET | Tuesday, February 9, 2021)   \n",
       "9    ERROR  1 m/s\\n(11:00 am CET | Tuesday, February 9, 2021)   \n",
       "\n",
       "                                Precipitation amount  \\\n",
       "8  (unknown)\\n(10:00 am CET | Tuesday, February 9...   \n",
       "9  (unknown)\\n(11:00 am CET | Tuesday, February 9...   \n",
       "\n",
       "                                       query  \\\n",
       "8  Moon Phase calculatorFebruary 9, 2021 10h   \n",
       "9  Moon Phase calculatorFebruary 9, 2021 11h   \n",
       "\n",
       "                       Moon Phase calculator  \n",
       "8  | waning crescent moon\\n6.82% illuminated  \n",
       "9  | waning crescent moon\\n6.60% illuminated  "
      ]
     },
     "metadata": {},
     "output_type": "display_data"
    },
    {
     "name": "stderr",
     "output_type": "stream",
     "text": [
      "\r",
      "  1%|▍                                                                            | 11/1940 [03:39<10:39:48, 19.90s/it]"
     ]
    },
    {
     "name": "stdout",
     "output_type": "stream",
     "text": [
      "QUERY:  Precipitation amount in Zollikofen February 9, 2021 12h\n",
      "QUERY:  temperature in Zollikofen February 9, 2021 12h\n",
      "QUERY:  humidity in Zollikofen February 9, 2021 12h\n",
      "ERROR: no data available-------------  humidity in Zollikofen February 9, 2021 12h\n",
      "ERROR:------------- name 'error' is not defined  ----------  humidity in Zollikofen February 9, 2021 12h\n",
      "QUERY:  wind speed in Zollikofen February 9, 2021 12h\n",
      "QUERY:  Moon Phase calculatorFebruary 9, 2021 12h\n"
     ]
    },
    {
     "name": "stderr",
     "output_type": "stream",
     "text": [
      "\r",
      "  1%|▍                                                                            | 12/1940 [03:58<10:30:07, 19.61s/it]"
     ]
    },
    {
     "name": "stdout",
     "output_type": "stream",
     "text": [
      "QUERY:  Precipitation amount in Zollikofen February 9, 2021 13h\n",
      "QUERY:  temperature in Zollikofen February 9, 2021 13h\n",
      "QUERY:  humidity in Zollikofen February 9, 2021 13h\n",
      "ERROR: no data available-------------  humidity in Zollikofen February 9, 2021 13h\n",
      "ERROR:------------- name 'error' is not defined  ----------  humidity in Zollikofen February 9, 2021 13h\n",
      "QUERY:  wind speed in Zollikofen February 9, 2021 13h\n",
      "QUERY:  Moon Phase calculatorFebruary 9, 2021 13h\n"
     ]
    },
    {
     "name": "stderr",
     "output_type": "stream",
     "text": [
      "\r",
      "  1%|▌                                                                            | 13/1940 [04:17<10:24:45, 19.45s/it]"
     ]
    },
    {
     "name": "stdout",
     "output_type": "stream",
     "text": [
      "QUERY:  Precipitation amount in Zollikofen February 9, 2021 15h\n",
      "QUERY:  temperature in Zollikofen February 9, 2021 15h\n",
      "QUERY:  humidity in Zollikofen February 9, 2021 15h\n",
      "ERROR: no data available-------------  humidity in Zollikofen February 9, 2021 15h\n",
      "ERROR:------------- name 'error' is not defined  ----------  humidity in Zollikofen February 9, 2021 15h\n",
      "QUERY:  wind speed in Zollikofen February 9, 2021 15h\n",
      "QUERY:  Moon Phase calculatorFebruary 9, 2021 15h\n"
     ]
    },
    {
     "name": "stderr",
     "output_type": "stream",
     "text": [
      "\r",
      "  1%|▌                                                                            | 14/1940 [04:38<10:38:07, 19.88s/it]"
     ]
    },
    {
     "name": "stdout",
     "output_type": "stream",
     "text": [
      "QUERY:  Precipitation amount in Zollikofen February 9, 2021 16h\n",
      "QUERY:  temperature in Zollikofen February 9, 2021 16h\n",
      "QUERY:  humidity in Zollikofen February 9, 2021 16h\n",
      "ERROR: no data available-------------  humidity in Zollikofen February 9, 2021 16h\n",
      "ERROR:------------- name 'error' is not defined  ----------  humidity in Zollikofen February 9, 2021 16h\n",
      "QUERY:  wind speed in Zollikofen February 9, 2021 16h\n",
      "QUERY:  Moon Phase calculatorFebruary 9, 2021 16h\n"
     ]
    },
    {
     "name": "stderr",
     "output_type": "stream",
     "text": [
      "\r",
      "  1%|▌                                                                            | 15/1940 [04:58<10:39:35, 19.94s/it]"
     ]
    },
    {
     "name": "stdout",
     "output_type": "stream",
     "text": [
      "QUERY:  Precipitation amount in Zollikofen February 9, 2021 17h\n",
      "QUERY:  temperature in Zollikofen February 9, 2021 17h\n",
      "QUERY:  humidity in Zollikofen February 9, 2021 17h\n",
      "ERROR: no data available-------------  humidity in Zollikofen February 9, 2021 17h\n",
      "ERROR:------------- name 'error' is not defined  ----------  humidity in Zollikofen February 9, 2021 17h\n",
      "QUERY:  wind speed in Zollikofen February 9, 2021 17h\n",
      "QUERY:  Moon Phase calculatorFebruary 9, 2021 17h\n"
     ]
    },
    {
     "name": "stderr",
     "output_type": "stream",
     "text": [
      "\r",
      "  1%|▋                                                                            | 16/1940 [05:16<10:18:45, 19.30s/it]"
     ]
    },
    {
     "name": "stdout",
     "output_type": "stream",
     "text": [
      "QUERY:  Precipitation amount in Zollikofen February 9, 2021 18h\n",
      "QUERY:  temperature in Zollikofen February 9, 2021 18h\n",
      "QUERY:  humidity in Zollikofen February 9, 2021 18h\n",
      "ERROR: no data available-------------  humidity in Zollikofen February 9, 2021 18h\n",
      "ERROR:------------- name 'error' is not defined  ----------  humidity in Zollikofen February 9, 2021 18h\n",
      "QUERY:  wind speed in Zollikofen February 9, 2021 18h\n",
      "QUERY:  Moon Phase calculatorFebruary 9, 2021 18h\n"
     ]
    },
    {
     "name": "stderr",
     "output_type": "stream",
     "text": [
      "\r",
      "  1%|▋                                                                            | 17/1940 [05:38<10:51:51, 20.34s/it]"
     ]
    },
    {
     "name": "stdout",
     "output_type": "stream",
     "text": [
      "QUERY:  Precipitation amount in Zollikofen February 9, 2021 19h\n",
      "QUERY:  temperature in Zollikofen February 9, 2021 19h\n",
      "QUERY:  humidity in Zollikofen February 9, 2021 19h\n",
      "ERROR: no data available-------------  humidity in Zollikofen February 9, 2021 19h\n",
      "ERROR:------------- name 'error' is not defined  ----------  humidity in Zollikofen February 9, 2021 19h\n",
      "QUERY:  wind speed in Zollikofen February 9, 2021 19h\n",
      "QUERY:  Moon Phase calculatorFebruary 9, 2021 19h\n"
     ]
    },
    {
     "name": "stderr",
     "output_type": "stream",
     "text": [
      "\r",
      "  1%|▋                                                                            | 18/1940 [05:59<10:54:08, 20.42s/it]"
     ]
    },
    {
     "name": "stdout",
     "output_type": "stream",
     "text": [
      "QUERY:  Precipitation amount in Zollikofen February 9, 2021 20h\n",
      "QUERY:  temperature in Zollikofen February 9, 2021 20h\n",
      "QUERY:  humidity in Zollikofen February 9, 2021 20h\n",
      "ERROR: no data available-------------  humidity in Zollikofen February 9, 2021 20h\n",
      "ERROR:------------- name 'error' is not defined  ----------  humidity in Zollikofen February 9, 2021 20h\n",
      "QUERY:  wind speed in Zollikofen February 9, 2021 20h\n",
      "QUERY:  Moon Phase calculatorFebruary 9, 2021 20h\n"
     ]
    },
    {
     "name": "stderr",
     "output_type": "stream",
     "text": [
      "\r",
      "  1%|▊                                                                            | 19/1940 [06:20<10:58:45, 20.58s/it]"
     ]
    },
    {
     "name": "stdout",
     "output_type": "stream",
     "text": [
      "QUERY:  Precipitation amount in Zollikofen February 9, 2021 21h\n",
      "QUERY:  temperature in Zollikofen February 9, 2021 21h\n",
      "QUERY:  humidity in Zollikofen February 9, 2021 21h\n",
      "ERROR: no data available-------------  humidity in Zollikofen February 9, 2021 21h\n",
      "ERROR:------------- name 'error' is not defined  ----------  humidity in Zollikofen February 9, 2021 21h\n",
      "QUERY:  wind speed in Zollikofen February 9, 2021 21h\n",
      "QUERY:  Moon Phase calculatorFebruary 9, 2021 21h\n"
     ]
    },
    {
     "name": "stderr",
     "output_type": "stream",
     "text": [
      "\r",
      "  1%|▊                                                                            | 20/1940 [06:40<10:50:16, 20.32s/it]"
     ]
    },
    {
     "name": "stdout",
     "output_type": "stream",
     "text": [
      "QUERY:  Precipitation amount in Zollikofen February 9, 2021 22h\n",
      "QUERY:  temperature in Zollikofen February 9, 2021 22h\n",
      "QUERY:  humidity in Zollikofen February 9, 2021 22h\n",
      "ERROR: no data available-------------  humidity in Zollikofen February 9, 2021 22h\n",
      "ERROR:------------- name 'error' is not defined  ----------  humidity in Zollikofen February 9, 2021 22h\n",
      "QUERY:  wind speed in Zollikofen February 9, 2021 22h\n",
      "QUERY:  Moon Phase calculatorFebruary 9, 2021 22h\n",
      "(5450, 7)\n"
     ]
    },
    {
     "data": {
      "text/html": [
       "<div>\n",
       "<style scoped>\n",
       "    .dataframe tbody tr th:only-of-type {\n",
       "        vertical-align: middle;\n",
       "    }\n",
       "\n",
       "    .dataframe tbody tr th {\n",
       "        vertical-align: top;\n",
       "    }\n",
       "\n",
       "    .dataframe thead th {\n",
       "        text-align: right;\n",
       "    }\n",
       "</style>\n",
       "<table border=\"1\" class=\"dataframe\">\n",
       "  <thead>\n",
       "    <tr style=\"text-align: right;\">\n",
       "      <th></th>\n",
       "      <th>date</th>\n",
       "      <th>temperature</th>\n",
       "      <th>humidity</th>\n",
       "      <th>wind speed</th>\n",
       "      <th>Precipitation amount</th>\n",
       "      <th>query</th>\n",
       "      <th>Moon Phase calculator</th>\n",
       "    </tr>\n",
       "  </thead>\n",
       "  <tbody>\n",
       "    <tr>\n",
       "      <th>8</th>\n",
       "      <td>2021-02-09 21:00:00</td>\n",
       "      <td>0 °C\\n(9:00 pm CET | Tuesday, February 9, 2021)</td>\n",
       "      <td>ERROR</td>\n",
       "      <td>4 m/s\\n(9:00 pm CET | Tuesday, February 9, 2021)</td>\n",
       "      <td>(unknown)\\n(9:00 pm CET | Tuesday, February 9,...</td>\n",
       "      <td>Moon Phase calculatorFebruary 9, 2021 21h</td>\n",
       "      <td>| waning crescent moon\\n4.53% illuminated</td>\n",
       "    </tr>\n",
       "    <tr>\n",
       "      <th>9</th>\n",
       "      <td>2021-02-09 22:00:00</td>\n",
       "      <td>0 °C\\n(10:00 pm CET | Tuesday, February 9, 2021)</td>\n",
       "      <td>ERROR</td>\n",
       "      <td>4 m/s\\n(10:00 pm CET | Tuesday, February 9, 2021)</td>\n",
       "      <td>(unknown)\\n(10:00 pm CET | Tuesday, February 9...</td>\n",
       "      <td>Moon Phase calculatorFebruary 9, 2021 22h</td>\n",
       "      <td>| waning crescent moon\\n4.34% illuminated</td>\n",
       "    </tr>\n",
       "  </tbody>\n",
       "</table>\n",
       "</div>"
      ],
      "text/plain": [
       "                 date                                       temperature  \\\n",
       "8 2021-02-09 21:00:00   0 °C\\n(9:00 pm CET | Tuesday, February 9, 2021)   \n",
       "9 2021-02-09 22:00:00  0 °C\\n(10:00 pm CET | Tuesday, February 9, 2021)   \n",
       "\n",
       "  humidity                                         wind speed  \\\n",
       "8    ERROR   4 m/s\\n(9:00 pm CET | Tuesday, February 9, 2021)   \n",
       "9    ERROR  4 m/s\\n(10:00 pm CET | Tuesday, February 9, 2021)   \n",
       "\n",
       "                                Precipitation amount  \\\n",
       "8  (unknown)\\n(9:00 pm CET | Tuesday, February 9,...   \n",
       "9  (unknown)\\n(10:00 pm CET | Tuesday, February 9...   \n",
       "\n",
       "                                       query  \\\n",
       "8  Moon Phase calculatorFebruary 9, 2021 21h   \n",
       "9  Moon Phase calculatorFebruary 9, 2021 22h   \n",
       "\n",
       "                       Moon Phase calculator  \n",
       "8  | waning crescent moon\\n4.53% illuminated  \n",
       "9  | waning crescent moon\\n4.34% illuminated  "
      ]
     },
     "metadata": {},
     "output_type": "display_data"
    },
    {
     "name": "stderr",
     "output_type": "stream",
     "text": [
      "\r",
      "  1%|▊                                                                            | 21/1940 [07:00<10:52:28, 20.40s/it]"
     ]
    },
    {
     "name": "stdout",
     "output_type": "stream",
     "text": [
      "QUERY:  Precipitation amount in Zollikofen February 10, 2021 10h\n",
      "QUERY:  temperature in Zollikofen February 10, 2021 10h\n",
      "QUERY:  humidity in Zollikofen February 10, 2021 10h\n",
      "ERROR: no data available-------------  humidity in Zollikofen February 10, 2021 10h\n",
      "ERROR:------------- name 'error' is not defined  ----------  humidity in Zollikofen February 10, 2021 10h\n",
      "QUERY:  wind speed in Zollikofen February 10, 2021 10h\n",
      "QUERY:  Moon Phase calculatorFebruary 10, 2021 10h\n"
     ]
    },
    {
     "name": "stderr",
     "output_type": "stream",
     "text": [
      "\r",
      "  1%|▊                                                                            | 22/1940 [07:21<10:54:34, 20.48s/it]"
     ]
    },
    {
     "name": "stdout",
     "output_type": "stream",
     "text": [
      "QUERY:  Precipitation amount in Zollikofen February 10, 2021 11h\n",
      "QUERY:  temperature in Zollikofen February 10, 2021 11h\n",
      "QUERY:  humidity in Zollikofen February 10, 2021 11h\n",
      "ERROR: no data available-------------  humidity in Zollikofen February 10, 2021 11h\n",
      "ERROR:------------- name 'error' is not defined  ----------  humidity in Zollikofen February 10, 2021 11h\n",
      "QUERY:  wind speed in Zollikofen February 10, 2021 11h\n",
      "QUERY:  Moon Phase calculatorFebruary 10, 2021 11h\n"
     ]
    },
    {
     "name": "stderr",
     "output_type": "stream",
     "text": [
      "\r",
      "  1%|▉                                                                            | 23/1940 [07:41<10:53:47, 20.46s/it]"
     ]
    },
    {
     "name": "stdout",
     "output_type": "stream",
     "text": [
      "QUERY:  Precipitation amount in Zollikofen February 10, 2021 12h\n",
      "QUERY:  temperature in Zollikofen February 10, 2021 12h\n",
      "QUERY:  humidity in Zollikofen February 10, 2021 12h\n",
      "ERROR: no data available-------------  humidity in Zollikofen February 10, 2021 12h\n",
      "ERROR:------------- name 'error' is not defined  ----------  humidity in Zollikofen February 10, 2021 12h\n",
      "QUERY:  wind speed in Zollikofen February 10, 2021 12h\n",
      "QUERY:  Moon Phase calculatorFebruary 10, 2021 12h\n"
     ]
    },
    {
     "name": "stderr",
     "output_type": "stream",
     "text": [
      "\r",
      "  1%|▉                                                                            | 24/1940 [08:01<10:47:57, 20.29s/it]"
     ]
    },
    {
     "name": "stdout",
     "output_type": "stream",
     "text": [
      "QUERY:  Precipitation amount in Zollikofen February 10, 2021 13h\n",
      "QUERY:  temperature in Zollikofen February 10, 2021 13h\n",
      "QUERY:  humidity in Zollikofen February 10, 2021 13h\n",
      "ERROR: no data available-------------  humidity in Zollikofen February 10, 2021 13h\n",
      "ERROR:------------- name 'error' is not defined  ----------  humidity in Zollikofen February 10, 2021 13h\n",
      "QUERY:  wind speed in Zollikofen February 10, 2021 13h\n",
      "QUERY:  Moon Phase calculatorFebruary 10, 2021 13h\n"
     ]
    },
    {
     "name": "stderr",
     "output_type": "stream",
     "text": [
      "\r",
      "  1%|▉                                                                            | 25/1940 [08:21<10:43:42, 20.17s/it]"
     ]
    },
    {
     "name": "stdout",
     "output_type": "stream",
     "text": [
      "QUERY:  Precipitation amount in Zollikofen February 10, 2021 14h\n",
      "QUERY:  temperature in Zollikofen February 10, 2021 14h\n",
      "QUERY:  humidity in Zollikofen February 10, 2021 14h\n",
      "ERROR: no data available-------------  humidity in Zollikofen February 10, 2021 14h\n",
      "ERROR:------------- name 'error' is not defined  ----------  humidity in Zollikofen February 10, 2021 14h\n",
      "QUERY:  wind speed in Zollikofen February 10, 2021 14h\n",
      "QUERY:  Moon Phase calculatorFebruary 10, 2021 14h\n"
     ]
    },
    {
     "name": "stderr",
     "output_type": "stream",
     "text": [
      "\r",
      "  1%|█                                                                            | 26/1940 [08:41<10:43:47, 20.18s/it]"
     ]
    },
    {
     "name": "stdout",
     "output_type": "stream",
     "text": [
      "QUERY:  Precipitation amount in Zollikofen February 10, 2021 15h\n",
      "QUERY:  temperature in Zollikofen February 10, 2021 15h\n",
      "QUERY:  humidity in Zollikofen February 10, 2021 15h\n",
      "ERROR: no data available-------------  humidity in Zollikofen February 10, 2021 15h\n",
      "ERROR:------------- name 'error' is not defined  ----------  humidity in Zollikofen February 10, 2021 15h\n",
      "QUERY:  wind speed in Zollikofen February 10, 2021 15h\n",
      "QUERY:  Moon Phase calculatorFebruary 10, 2021 15h\n"
     ]
    },
    {
     "name": "stderr",
     "output_type": "stream",
     "text": [
      "\r",
      "  1%|█                                                                            | 27/1940 [09:01<10:38:45, 20.03s/it]"
     ]
    },
    {
     "name": "stdout",
     "output_type": "stream",
     "text": [
      "QUERY:  Precipitation amount in Zollikofen February 10, 2021 16h\n",
      "QUERY:  temperature in Zollikofen February 10, 2021 16h\n",
      "QUERY:  humidity in Zollikofen February 10, 2021 16h\n",
      "ERROR: no data available-------------  humidity in Zollikofen February 10, 2021 16h\n",
      "ERROR:------------- name 'error' is not defined  ----------  humidity in Zollikofen February 10, 2021 16h\n",
      "QUERY:  wind speed in Zollikofen February 10, 2021 16h\n",
      "QUERY:  Moon Phase calculatorFebruary 10, 2021 16h\n"
     ]
    },
    {
     "name": "stderr",
     "output_type": "stream",
     "text": [
      "\r",
      "  1%|█                                                                            | 28/1940 [09:21<10:41:38, 20.14s/it]"
     ]
    },
    {
     "name": "stdout",
     "output_type": "stream",
     "text": [
      "QUERY:  Precipitation amount in Zollikofen February 10, 2021 17h\n",
      "QUERY:  temperature in Zollikofen February 10, 2021 17h\n",
      "QUERY:  humidity in Zollikofen February 10, 2021 17h\n",
      "ERROR: no data available-------------  humidity in Zollikofen February 10, 2021 17h\n",
      "ERROR:------------- name 'error' is not defined  ----------  humidity in Zollikofen February 10, 2021 17h\n",
      "QUERY:  wind speed in Zollikofen February 10, 2021 17h\n",
      "QUERY:  Moon Phase calculatorFebruary 10, 2021 17h\n"
     ]
    },
    {
     "name": "stderr",
     "output_type": "stream",
     "text": [
      "\r",
      "  1%|█▏                                                                           | 29/1940 [09:41<10:35:04, 19.94s/it]"
     ]
    },
    {
     "name": "stdout",
     "output_type": "stream",
     "text": [
      "QUERY:  Precipitation amount in Zollikofen February 10, 2021 18h\n",
      "QUERY:  temperature in Zollikofen February 10, 2021 18h\n",
      "QUERY:  humidity in Zollikofen February 10, 2021 18h\n",
      "ERROR: no data available-------------  humidity in Zollikofen February 10, 2021 18h\n",
      "ERROR:------------- name 'error' is not defined  ----------  humidity in Zollikofen February 10, 2021 18h\n",
      "QUERY:  wind speed in Zollikofen February 10, 2021 18h\n",
      "QUERY:  Moon Phase calculatorFebruary 10, 2021 18h\n"
     ]
    },
    {
     "name": "stderr",
     "output_type": "stream",
     "text": [
      "\r",
      "  2%|█▏                                                                           | 30/1940 [10:01<10:32:24, 19.87s/it]"
     ]
    },
    {
     "name": "stdout",
     "output_type": "stream",
     "text": [
      "QUERY:  Precipitation amount in Zollikofen February 10, 2021 19h\n",
      "QUERY:  temperature in Zollikofen February 10, 2021 19h\n",
      "QUERY:  humidity in Zollikofen February 10, 2021 19h\n",
      "ERROR: no data available-------------  humidity in Zollikofen February 10, 2021 19h\n",
      "ERROR:------------- name 'error' is not defined  ----------  humidity in Zollikofen February 10, 2021 19h\n",
      "QUERY:  wind speed in Zollikofen February 10, 2021 19h\n",
      "QUERY:  Moon Phase calculatorFebruary 10, 2021 19h\n",
      "(5460, 7)\n"
     ]
    },
    {
     "data": {
      "text/html": [
       "<div>\n",
       "<style scoped>\n",
       "    .dataframe tbody tr th:only-of-type {\n",
       "        vertical-align: middle;\n",
       "    }\n",
       "\n",
       "    .dataframe tbody tr th {\n",
       "        vertical-align: top;\n",
       "    }\n",
       "\n",
       "    .dataframe thead th {\n",
       "        text-align: right;\n",
       "    }\n",
       "</style>\n",
       "<table border=\"1\" class=\"dataframe\">\n",
       "  <thead>\n",
       "    <tr style=\"text-align: right;\">\n",
       "      <th></th>\n",
       "      <th>date</th>\n",
       "      <th>temperature</th>\n",
       "      <th>humidity</th>\n",
       "      <th>wind speed</th>\n",
       "      <th>Precipitation amount</th>\n",
       "      <th>query</th>\n",
       "      <th>Moon Phase calculator</th>\n",
       "    </tr>\n",
       "  </thead>\n",
       "  <tbody>\n",
       "    <tr>\n",
       "      <th>8</th>\n",
       "      <td>2021-02-10 18:00:00</td>\n",
       "      <td>-2 °C\\n(6:00 pm CET | Wednesday, February 10, ...</td>\n",
       "      <td>ERROR</td>\n",
       "      <td>3 m/s\\n(6:00 pm CET | Wednesday, February 10, ...</td>\n",
       "      <td>(unknown)\\n(6:00 pm CET | Wednesday, February ...</td>\n",
       "      <td>Moon Phase calculatorFebruary 10, 2021 18h</td>\n",
       "      <td>| waning crescent moon\\n1.48% illuminated</td>\n",
       "    </tr>\n",
       "    <tr>\n",
       "      <th>9</th>\n",
       "      <td>2021-02-10 19:00:00</td>\n",
       "      <td>-2 °C\\n(7:00 pm CET | Wednesday, February 10, ...</td>\n",
       "      <td>ERROR</td>\n",
       "      <td>4 m/s\\n(7:00 pm CET | Wednesday, February 10, ...</td>\n",
       "      <td>(unknown)\\n(7:00 pm CET | Wednesday, February ...</td>\n",
       "      <td>Moon Phase calculatorFebruary 10, 2021 19h</td>\n",
       "      <td>| waning crescent moon\\n1.38% illuminated</td>\n",
       "    </tr>\n",
       "  </tbody>\n",
       "</table>\n",
       "</div>"
      ],
      "text/plain": [
       "                 date                                        temperature  \\\n",
       "8 2021-02-10 18:00:00  -2 °C\\n(6:00 pm CET | Wednesday, February 10, ...   \n",
       "9 2021-02-10 19:00:00  -2 °C\\n(7:00 pm CET | Wednesday, February 10, ...   \n",
       "\n",
       "  humidity                                         wind speed  \\\n",
       "8    ERROR  3 m/s\\n(6:00 pm CET | Wednesday, February 10, ...   \n",
       "9    ERROR  4 m/s\\n(7:00 pm CET | Wednesday, February 10, ...   \n",
       "\n",
       "                                Precipitation amount  \\\n",
       "8  (unknown)\\n(6:00 pm CET | Wednesday, February ...   \n",
       "9  (unknown)\\n(7:00 pm CET | Wednesday, February ...   \n",
       "\n",
       "                                        query  \\\n",
       "8  Moon Phase calculatorFebruary 10, 2021 18h   \n",
       "9  Moon Phase calculatorFebruary 10, 2021 19h   \n",
       "\n",
       "                       Moon Phase calculator  \n",
       "8  | waning crescent moon\\n1.48% illuminated  \n",
       "9  | waning crescent moon\\n1.38% illuminated  "
      ]
     },
     "metadata": {},
     "output_type": "display_data"
    },
    {
     "name": "stderr",
     "output_type": "stream",
     "text": [
      "\r",
      "  2%|█▏                                                                           | 31/1940 [10:20<10:24:04, 19.61s/it]"
     ]
    },
    {
     "name": "stdout",
     "output_type": "stream",
     "text": [
      "QUERY:  Precipitation amount in Zollikofen February 10, 2021 20h\n",
      "QUERY:  temperature in Zollikofen February 10, 2021 20h\n",
      "QUERY:  humidity in Zollikofen February 10, 2021 20h\n",
      "ERROR: no data available-------------  humidity in Zollikofen February 10, 2021 20h\n",
      "ERROR:------------- name 'error' is not defined  ----------  humidity in Zollikofen February 10, 2021 20h\n",
      "QUERY:  wind speed in Zollikofen February 10, 2021 20h\n",
      "QUERY:  Moon Phase calculatorFebruary 10, 2021 20h\n"
     ]
    },
    {
     "name": "stderr",
     "output_type": "stream",
     "text": [
      "\r",
      "  2%|█▎                                                                           | 32/1940 [10:37<10:04:59, 19.02s/it]"
     ]
    },
    {
     "name": "stdout",
     "output_type": "stream",
     "text": [
      "QUERY:  Precipitation amount in Zollikofen February 10, 2021 21h\n",
      "QUERY:  temperature in Zollikofen February 10, 2021 21h\n",
      "QUERY:  humidity in Zollikofen February 10, 2021 21h\n",
      "ERROR: no data available-------------  humidity in Zollikofen February 10, 2021 21h\n",
      "ERROR:------------- name 'error' is not defined  ----------  humidity in Zollikofen February 10, 2021 21h\n",
      "QUERY:  wind speed in Zollikofen February 10, 2021 21h\n",
      "QUERY:  Moon Phase calculatorFebruary 10, 2021 21h\n"
     ]
    },
    {
     "name": "stderr",
     "output_type": "stream",
     "text": [
      "\r",
      "  2%|█▎                                                                            | 33/1940 [10:53<9:34:35, 18.08s/it]"
     ]
    },
    {
     "name": "stdout",
     "output_type": "stream",
     "text": [
      "QUERY:  Precipitation amount in Zollikofen February 10, 2021 22h\n",
      "QUERY:  temperature in Zollikofen February 10, 2021 22h\n",
      "QUERY:  humidity in Zollikofen February 10, 2021 22h\n",
      "ERROR: no data available-------------  humidity in Zollikofen February 10, 2021 22h\n",
      "ERROR:------------- name 'error' is not defined  ----------  humidity in Zollikofen February 10, 2021 22h\n",
      "QUERY:  wind speed in Zollikofen February 10, 2021 22h\n",
      "QUERY:  Moon Phase calculatorFebruary 10, 2021 22h\n"
     ]
    },
    {
     "name": "stderr",
     "output_type": "stream",
     "text": [
      "\r",
      "  2%|█▎                                                                            | 34/1940 [11:09<9:16:12, 17.51s/it]"
     ]
    },
    {
     "name": "stdout",
     "output_type": "stream",
     "text": [
      "QUERY:  Precipitation amount in Zollikofen February 10, 2021 23h\n",
      "QUERY:  temperature in Zollikofen February 10, 2021 23h\n",
      "QUERY:  humidity in Zollikofen February 10, 2021 23h\n",
      "ERROR: no data available-------------  humidity in Zollikofen February 10, 2021 23h\n",
      "ERROR:------------- name 'error' is not defined  ----------  humidity in Zollikofen February 10, 2021 23h\n",
      "QUERY:  wind speed in Zollikofen February 10, 2021 23h\n",
      "QUERY:  Moon Phase calculatorFebruary 10, 2021 23h\n"
     ]
    },
    {
     "name": "stderr",
     "output_type": "stream",
     "text": [
      "\r",
      "  2%|█▍                                                                            | 35/1940 [11:26<9:13:22, 17.43s/it]"
     ]
    },
    {
     "name": "stdout",
     "output_type": "stream",
     "text": [
      "QUERY:  Precipitation amount in Zollikofen March 28, 2021 1h\n",
      "QUERY:  temperature in Zollikofen March 28, 2021 1h\n",
      "QUERY:  humidity in Zollikofen March 28, 2021 1h\n",
      "ERROR: no data available-------------  humidity in Zollikofen March 28, 2021 1h\n",
      "ERROR:------------- name 'error' is not defined  ----------  humidity in Zollikofen March 28, 2021 1h\n",
      "QUERY:  wind speed in Zollikofen March 28, 2021 1h\n",
      "QUERY:  Moon Phase calculatorMarch 28, 2021 1h\n"
     ]
    },
    {
     "name": "stderr",
     "output_type": "stream",
     "text": [
      "\r",
      "  2%|█▍                                                                            | 36/1940 [11:42<8:56:24, 16.90s/it]"
     ]
    },
    {
     "name": "stdout",
     "output_type": "stream",
     "text": [
      "QUERY:  Precipitation amount in Zollikofen May 6, 2021 7h\n",
      "QUERY:  temperature in Zollikofen May 6, 2021 7h\n",
      "QUERY:  humidity in Zollikofen May 6, 2021 7h\n",
      "QUERY:  wind speed in Zollikofen May 6, 2021 7h\n",
      "QUERY:  Moon Phase calculatorMay 6, 2021 7h\n"
     ]
    },
    {
     "name": "stderr",
     "output_type": "stream",
     "text": [
      "\r",
      "  2%|█▍                                                                            | 37/1940 [11:58<8:49:50, 16.71s/it]"
     ]
    },
    {
     "name": "stdout",
     "output_type": "stream",
     "text": [
      "QUERY:  Precipitation amount in Zollikofen May 6, 2021 18h\n",
      "QUERY:  temperature in Zollikofen May 6, 2021 18h\n",
      "QUERY:  humidity in Zollikofen May 6, 2021 18h\n",
      "QUERY:  wind speed in Zollikofen May 6, 2021 18h\n",
      "QUERY:  Moon Phase calculatorMay 6, 2021 18h\n"
     ]
    },
    {
     "name": "stderr",
     "output_type": "stream",
     "text": [
      "\r",
      "  2%|█▌                                                                            | 38/1940 [12:15<8:48:27, 16.67s/it]"
     ]
    },
    {
     "name": "stdout",
     "output_type": "stream",
     "text": [
      "QUERY:  Precipitation amount in Zollikofen May 14, 2021 19h\n",
      "QUERY:  temperature in Zollikofen May 14, 2021 19h\n",
      "QUERY:  humidity in Zollikofen May 14, 2021 19h\n",
      "QUERY:  wind speed in Zollikofen May 14, 2021 19h\n",
      "QUERY:  Moon Phase calculatorMay 14, 2021 19h\n"
     ]
    },
    {
     "name": "stderr",
     "output_type": "stream",
     "text": [
      "\r",
      "  2%|█▌                                                                            | 39/1940 [12:35<9:16:20, 17.56s/it]"
     ]
    },
    {
     "name": "stdout",
     "output_type": "stream",
     "text": [
      "QUERY:  Precipitation amount in Zollikofen May 14, 2021 20h\n",
      "QUERY:  temperature in Zollikofen May 14, 2021 20h\n",
      "QUERY:  humidity in Zollikofen May 14, 2021 20h\n",
      "QUERY:  wind speed in Zollikofen May 14, 2021 20h\n",
      "QUERY:  Moon Phase calculatorMay 14, 2021 20h\n"
     ]
    },
    {
     "name": "stderr",
     "output_type": "stream",
     "text": [
      "\r",
      "  2%|█▌                                                                            | 40/1940 [12:52<9:15:55, 17.56s/it]"
     ]
    },
    {
     "name": "stdout",
     "output_type": "stream",
     "text": [
      "QUERY:  Precipitation amount in Zollikofen May 14, 2021 21h\n",
      "QUERY:  temperature in Zollikofen May 14, 2021 21h\n",
      "QUERY:  humidity in Zollikofen May 14, 2021 21h\n",
      "QUERY:  wind speed in Zollikofen May 14, 2021 21h\n",
      "QUERY:  Moon Phase calculatorMay 14, 2021 21h\n",
      "(5470, 7)\n"
     ]
    },
    {
     "data": {
      "text/html": [
       "<div>\n",
       "<style scoped>\n",
       "    .dataframe tbody tr th:only-of-type {\n",
       "        vertical-align: middle;\n",
       "    }\n",
       "\n",
       "    .dataframe tbody tr th {\n",
       "        vertical-align: top;\n",
       "    }\n",
       "\n",
       "    .dataframe thead th {\n",
       "        text-align: right;\n",
       "    }\n",
       "</style>\n",
       "<table border=\"1\" class=\"dataframe\">\n",
       "  <thead>\n",
       "    <tr style=\"text-align: right;\">\n",
       "      <th></th>\n",
       "      <th>date</th>\n",
       "      <th>temperature</th>\n",
       "      <th>humidity</th>\n",
       "      <th>wind speed</th>\n",
       "      <th>Precipitation amount</th>\n",
       "      <th>query</th>\n",
       "      <th>Moon Phase calculator</th>\n",
       "    </tr>\n",
       "  </thead>\n",
       "  <tbody>\n",
       "    <tr>\n",
       "      <th>8</th>\n",
       "      <td>2021-05-14 20:00:00</td>\n",
       "      <td>9 °C\\n(8:00 pm CEST | Friday, May 14, 2021)</td>\n",
       "      <td>average: 88% (82 to 93%)\\n(8:00 pm CEST | Frid...</td>\n",
       "      <td>3 m/s\\n(8:00 pm CEST | Friday, May 14, 2021)</td>\n",
       "      <td>no precipitation\\n(8:00 pm CEST | Friday, May ...</td>\n",
       "      <td>Moon Phase calculatorMay 14, 2021 20h</td>\n",
       "      <td>| waxing crescent moon\\n7.70% illuminated</td>\n",
       "    </tr>\n",
       "    <tr>\n",
       "      <th>9</th>\n",
       "      <td>2021-05-14 21:00:00</td>\n",
       "      <td>8 °C\\n(9:00 pm CEST | Friday, May 14, 2021)</td>\n",
       "      <td>average: 100% (100%)\\n(9:00 pm CEST | Friday, ...</td>\n",
       "      <td>2 m/s\\n(9:00 pm CEST | Friday, May 14, 2021)</td>\n",
       "      <td>no precipitation\\n(9:00 pm CEST | Friday, May ...</td>\n",
       "      <td>Moon Phase calculatorMay 14, 2021 21h</td>\n",
       "      <td>| waxing crescent moon\\n7.92% illuminated</td>\n",
       "    </tr>\n",
       "  </tbody>\n",
       "</table>\n",
       "</div>"
      ],
      "text/plain": [
       "                 date                                  temperature  \\\n",
       "8 2021-05-14 20:00:00  9 °C\\n(8:00 pm CEST | Friday, May 14, 2021)   \n",
       "9 2021-05-14 21:00:00  8 °C\\n(9:00 pm CEST | Friday, May 14, 2021)   \n",
       "\n",
       "                                            humidity  \\\n",
       "8  average: 88% (82 to 93%)\\n(8:00 pm CEST | Frid...   \n",
       "9  average: 100% (100%)\\n(9:00 pm CEST | Friday, ...   \n",
       "\n",
       "                                     wind speed  \\\n",
       "8  3 m/s\\n(8:00 pm CEST | Friday, May 14, 2021)   \n",
       "9  2 m/s\\n(9:00 pm CEST | Friday, May 14, 2021)   \n",
       "\n",
       "                                Precipitation amount  \\\n",
       "8  no precipitation\\n(8:00 pm CEST | Friday, May ...   \n",
       "9  no precipitation\\n(9:00 pm CEST | Friday, May ...   \n",
       "\n",
       "                                   query  \\\n",
       "8  Moon Phase calculatorMay 14, 2021 20h   \n",
       "9  Moon Phase calculatorMay 14, 2021 21h   \n",
       "\n",
       "                       Moon Phase calculator  \n",
       "8  | waxing crescent moon\\n7.70% illuminated  \n",
       "9  | waxing crescent moon\\n7.92% illuminated  "
      ]
     },
     "metadata": {},
     "output_type": "display_data"
    },
    {
     "name": "stderr",
     "output_type": "stream",
     "text": [
      "\r",
      "  2%|█▋                                                                            | 41/1940 [13:09<9:05:00, 17.22s/it]"
     ]
    },
    {
     "name": "stdout",
     "output_type": "stream",
     "text": [
      "QUERY:  Precipitation amount in Zollikofen May 14, 2021 22h\n",
      "QUERY:  temperature in Zollikofen May 14, 2021 22h\n",
      "QUERY:  humidity in Zollikofen May 14, 2021 22h\n",
      "QUERY:  wind speed in Zollikofen May 14, 2021 22h\n",
      "QUERY:  Moon Phase calculatorMay 14, 2021 22h\n"
     ]
    },
    {
     "name": "stderr",
     "output_type": "stream",
     "text": [
      "\r",
      "  2%|█▋                                                                            | 42/1940 [13:27<9:14:30, 17.53s/it]"
     ]
    },
    {
     "name": "stdout",
     "output_type": "stream",
     "text": [
      "QUERY:  Precipitation amount in Zollikofen May 14, 2021 23h\n",
      "QUERY:  temperature in Zollikofen May 14, 2021 23h\n",
      "QUERY:  humidity in Zollikofen May 14, 2021 23h\n",
      "QUERY:  wind speed in Zollikofen May 14, 2021 23h\n",
      "QUERY:  Moon Phase calculatorMay 14, 2021 23h\n"
     ]
    },
    {
     "name": "stderr",
     "output_type": "stream",
     "text": [
      "\r",
      "  2%|█▋                                                                            | 43/1940 [13:44<9:08:36, 17.35s/it]"
     ]
    },
    {
     "name": "stdout",
     "output_type": "stream",
     "text": [
      "QUERY:  Precipitation amount in Zollikofen May 15, 2021 0h\n",
      "QUERY:  temperature in Zollikofen May 15, 2021 0h\n",
      "QUERY:  humidity in Zollikofen May 15, 2021 0h\n",
      "ERROR: no data available-------------  humidity in Zollikofen May 15, 2021 0h\n",
      "ERROR:------------- name 'error' is not defined  ----------  humidity in Zollikofen May 15, 2021 0h\n",
      "QUERY:  wind speed in Zollikofen May 15, 2021 0h\n",
      "QUERY:  Moon Phase calculatorMay 15, 2021 0h\n"
     ]
    },
    {
     "name": "stderr",
     "output_type": "stream",
     "text": [
      "\r",
      "  2%|█▊                                                                            | 44/1940 [14:01<9:08:21, 17.35s/it]"
     ]
    },
    {
     "name": "stdout",
     "output_type": "stream",
     "text": [
      "QUERY:  Precipitation amount in Zollikofen May 15, 2021 1h\n",
      "QUERY:  temperature in Zollikofen May 15, 2021 1h\n",
      "QUERY:  humidity in Zollikofen May 15, 2021 1h\n",
      "ERROR: no data available-------------  humidity in Zollikofen May 15, 2021 1h\n",
      "ERROR:------------- name 'error' is not defined  ----------  humidity in Zollikofen May 15, 2021 1h\n",
      "QUERY:  wind speed in Zollikofen May 15, 2021 1h\n",
      "QUERY:  Moon Phase calculatorMay 15, 2021 1h\n"
     ]
    },
    {
     "name": "stderr",
     "output_type": "stream",
     "text": [
      "\r",
      "  2%|█▊                                                                            | 45/1940 [14:17<8:55:48, 16.96s/it]"
     ]
    },
    {
     "name": "stdout",
     "output_type": "stream",
     "text": [
      "QUERY:  Precipitation amount in Zollikofen May 15, 2021 2h\n",
      "QUERY:  temperature in Zollikofen May 15, 2021 2h\n",
      "QUERY:  humidity in Zollikofen May 15, 2021 2h\n",
      "ERROR: no data available-------------  humidity in Zollikofen May 15, 2021 2h\n",
      "ERROR:------------- name 'error' is not defined  ----------  humidity in Zollikofen May 15, 2021 2h\n",
      "QUERY:  wind speed in Zollikofen May 15, 2021 2h\n",
      "QUERY:  Moon Phase calculatorMay 15, 2021 2h\n"
     ]
    },
    {
     "name": "stderr",
     "output_type": "stream",
     "text": [
      "\r",
      "  2%|█▊                                                                            | 46/1940 [14:33<8:47:04, 16.70s/it]"
     ]
    },
    {
     "name": "stdout",
     "output_type": "stream",
     "text": [
      "QUERY:  Precipitation amount in Zollikofen May 15, 2021 3h\n",
      "QUERY:  temperature in Zollikofen May 15, 2021 3h\n",
      "QUERY:  humidity in Zollikofen May 15, 2021 3h\n",
      "ERROR: no data available-------------  humidity in Zollikofen May 15, 2021 3h\n",
      "ERROR:------------- name 'error' is not defined  ----------  humidity in Zollikofen May 15, 2021 3h\n",
      "QUERY:  wind speed in Zollikofen May 15, 2021 3h\n",
      "QUERY:  Moon Phase calculatorMay 15, 2021 3h\n"
     ]
    },
    {
     "name": "stderr",
     "output_type": "stream",
     "text": [
      "\r",
      "  2%|█▉                                                                            | 47/1940 [14:50<8:46:57, 16.70s/it]"
     ]
    },
    {
     "name": "stdout",
     "output_type": "stream",
     "text": [
      "QUERY:  Precipitation amount in Zollikofen May 15, 2021 4h\n",
      "QUERY:  temperature in Zollikofen May 15, 2021 4h\n",
      "QUERY:  humidity in Zollikofen May 15, 2021 4h\n",
      "ERROR: no data available-------------  humidity in Zollikofen May 15, 2021 4h\n",
      "ERROR:------------- name 'error' is not defined  ----------  humidity in Zollikofen May 15, 2021 4h\n",
      "QUERY:  wind speed in Zollikofen May 15, 2021 4h\n",
      "QUERY:  Moon Phase calculatorMay 15, 2021 4h\n"
     ]
    },
    {
     "name": "stderr",
     "output_type": "stream",
     "text": [
      "\r",
      "  2%|█▉                                                                            | 48/1940 [15:07<8:45:27, 16.66s/it]"
     ]
    },
    {
     "name": "stdout",
     "output_type": "stream",
     "text": [
      "QUERY:  Precipitation amount in Zollikofen May 15, 2021 5h\n",
      "QUERY:  temperature in Zollikofen May 15, 2021 5h\n",
      "QUERY:  humidity in Zollikofen May 15, 2021 5h\n",
      "ERROR: no data available-------------  humidity in Zollikofen May 15, 2021 5h\n",
      "ERROR:------------- name 'error' is not defined  ----------  humidity in Zollikofen May 15, 2021 5h\n",
      "QUERY:  wind speed in Zollikofen May 15, 2021 5h\n",
      "QUERY:  Moon Phase calculatorMay 15, 2021 5h\n"
     ]
    },
    {
     "name": "stderr",
     "output_type": "stream",
     "text": [
      "\r",
      "  3%|█▉                                                                            | 49/1940 [15:27<9:24:17, 17.90s/it]"
     ]
    },
    {
     "name": "stdout",
     "output_type": "stream",
     "text": [
      "QUERY:  Precipitation amount in Zollikofen May 15, 2021 6h\n",
      "QUERY:  temperature in Zollikofen May 15, 2021 6h\n",
      "QUERY:  humidity in Zollikofen May 15, 2021 6h\n",
      "ERROR: no data available-------------  humidity in Zollikofen May 15, 2021 6h\n",
      "ERROR:------------- name 'error' is not defined  ----------  humidity in Zollikofen May 15, 2021 6h\n",
      "QUERY:  wind speed in Zollikofen May 15, 2021 6h\n",
      "QUERY:  Moon Phase calculatorMay 15, 2021 6h\n"
     ]
    },
    {
     "name": "stderr",
     "output_type": "stream",
     "text": [
      "\r",
      "  3%|██                                                                            | 50/1940 [15:47<9:39:14, 18.39s/it]"
     ]
    },
    {
     "name": "stdout",
     "output_type": "stream",
     "text": [
      "QUERY:  Precipitation amount in Zollikofen May 15, 2021 7h\n",
      "QUERY:  temperature in Zollikofen May 15, 2021 7h\n",
      "QUERY:  humidity in Zollikofen May 15, 2021 7h\n",
      "ERROR: no data available-------------  humidity in Zollikofen May 15, 2021 7h\n",
      "ERROR:------------- name 'error' is not defined  ----------  humidity in Zollikofen May 15, 2021 7h\n",
      "QUERY:  wind speed in Zollikofen May 15, 2021 7h\n",
      "QUERY:  Moon Phase calculatorMay 15, 2021 7h\n",
      "(5480, 7)\n"
     ]
    },
    {
     "data": {
      "text/html": [
       "<div>\n",
       "<style scoped>\n",
       "    .dataframe tbody tr th:only-of-type {\n",
       "        vertical-align: middle;\n",
       "    }\n",
       "\n",
       "    .dataframe tbody tr th {\n",
       "        vertical-align: top;\n",
       "    }\n",
       "\n",
       "    .dataframe thead th {\n",
       "        text-align: right;\n",
       "    }\n",
       "</style>\n",
       "<table border=\"1\" class=\"dataframe\">\n",
       "  <thead>\n",
       "    <tr style=\"text-align: right;\">\n",
       "      <th></th>\n",
       "      <th>date</th>\n",
       "      <th>temperature</th>\n",
       "      <th>humidity</th>\n",
       "      <th>wind speed</th>\n",
       "      <th>Precipitation amount</th>\n",
       "      <th>query</th>\n",
       "      <th>Moon Phase calculator</th>\n",
       "    </tr>\n",
       "  </thead>\n",
       "  <tbody>\n",
       "    <tr>\n",
       "      <th>8</th>\n",
       "      <td>2021-05-15 06:00:00</td>\n",
       "      <td>8 °C\\n(6:00 am CEST | Saturday, May 15, 2021)</td>\n",
       "      <td>ERROR</td>\n",
       "      <td>2 m/s\\n(6:00 am CEST | Saturday, May 15, 2021)</td>\n",
       "      <td>(unknown)\\n(6:00 am CEST | Saturday, May 15, 2...</td>\n",
       "      <td>Moon Phase calculatorMay 15, 2021 6h</td>\n",
       "      <td>| waxing crescent moon\\n9.97% illuminated</td>\n",
       "    </tr>\n",
       "    <tr>\n",
       "      <th>9</th>\n",
       "      <td>2021-05-15 07:00:00</td>\n",
       "      <td>8 °C\\n(7:00 am CEST | Saturday, May 15, 2021)</td>\n",
       "      <td>ERROR</td>\n",
       "      <td>2 m/s\\n(7:00 am CEST | Saturday, May 15, 2021)</td>\n",
       "      <td>(unknown)\\n(7:00 am CEST | Saturday, May 15, 2...</td>\n",
       "      <td>Moon Phase calculatorMay 15, 2021 7h</td>\n",
       "      <td>| waxing crescent moon\\n10.21% illuminated</td>\n",
       "    </tr>\n",
       "  </tbody>\n",
       "</table>\n",
       "</div>"
      ],
      "text/plain": [
       "                 date                                    temperature humidity  \\\n",
       "8 2021-05-15 06:00:00  8 °C\\n(6:00 am CEST | Saturday, May 15, 2021)    ERROR   \n",
       "9 2021-05-15 07:00:00  8 °C\\n(7:00 am CEST | Saturday, May 15, 2021)    ERROR   \n",
       "\n",
       "                                       wind speed  \\\n",
       "8  2 m/s\\n(6:00 am CEST | Saturday, May 15, 2021)   \n",
       "9  2 m/s\\n(7:00 am CEST | Saturday, May 15, 2021)   \n",
       "\n",
       "                                Precipitation amount  \\\n",
       "8  (unknown)\\n(6:00 am CEST | Saturday, May 15, 2...   \n",
       "9  (unknown)\\n(7:00 am CEST | Saturday, May 15, 2...   \n",
       "\n",
       "                                  query  \\\n",
       "8  Moon Phase calculatorMay 15, 2021 6h   \n",
       "9  Moon Phase calculatorMay 15, 2021 7h   \n",
       "\n",
       "                        Moon Phase calculator  \n",
       "8   | waxing crescent moon\\n9.97% illuminated  \n",
       "9  | waxing crescent moon\\n10.21% illuminated  "
      ]
     },
     "metadata": {},
     "output_type": "display_data"
    },
    {
     "name": "stderr",
     "output_type": "stream",
     "text": [
      "\r",
      "  3%|██                                                                           | 51/1940 [16:08<10:06:08, 19.25s/it]"
     ]
    },
    {
     "name": "stdout",
     "output_type": "stream",
     "text": [
      "QUERY:  Precipitation amount in Zollikofen May 15, 2021 8h\n",
      "QUERY:  temperature in Zollikofen May 15, 2021 8h\n",
      "QUERY:  humidity in Zollikofen May 15, 2021 8h\n",
      "ERROR: no data available-------------  humidity in Zollikofen May 15, 2021 8h\n",
      "ERROR:------------- name 'error' is not defined  ----------  humidity in Zollikofen May 15, 2021 8h\n",
      "QUERY:  wind speed in Zollikofen May 15, 2021 8h\n",
      "QUERY:  Moon Phase calculatorMay 15, 2021 8h\n"
     ]
    },
    {
     "name": "stderr",
     "output_type": "stream",
     "text": [
      "\r",
      "  3%|██                                                                           | 52/1940 [16:29<10:21:32, 19.75s/it]"
     ]
    },
    {
     "name": "stdout",
     "output_type": "stream",
     "text": [
      "QUERY:  Precipitation amount in Zollikofen May 15, 2021 9h\n",
      "QUERY:  temperature in Zollikofen May 15, 2021 9h\n",
      "QUERY:  humidity in Zollikofen May 15, 2021 9h\n",
      "ERROR: no data available-------------  humidity in Zollikofen May 15, 2021 9h\n",
      "ERROR:------------- name 'error' is not defined  ----------  humidity in Zollikofen May 15, 2021 9h\n",
      "QUERY:  wind speed in Zollikofen May 15, 2021 9h\n",
      "QUERY:  Moon Phase calculatorMay 15, 2021 9h\n"
     ]
    },
    {
     "name": "stderr",
     "output_type": "stream",
     "text": [
      "\r",
      "  3%|██                                                                           | 53/1940 [16:52<10:49:12, 20.64s/it]"
     ]
    },
    {
     "name": "stdout",
     "output_type": "stream",
     "text": [
      "QUERY:  Precipitation amount in Zollikofen May 15, 2021 10h\n",
      "QUERY:  temperature in Zollikofen May 15, 2021 10h\n",
      "QUERY:  humidity in Zollikofen May 15, 2021 10h\n",
      "ERROR: no data available-------------  humidity in Zollikofen May 15, 2021 10h\n",
      "ERROR:------------- name 'error' is not defined  ----------  humidity in Zollikofen May 15, 2021 10h\n",
      "QUERY:  wind speed in Zollikofen May 15, 2021 10h\n",
      "QUERY:  Moon Phase calculatorMay 15, 2021 10h\n"
     ]
    },
    {
     "name": "stderr",
     "output_type": "stream",
     "text": [
      "\r",
      "  3%|██▏                                                                          | 54/1940 [17:12<10:42:05, 20.43s/it]"
     ]
    },
    {
     "name": "stdout",
     "output_type": "stream",
     "text": [
      "QUERY:  Precipitation amount in Zollikofen May 15, 2021 11h\n",
      "QUERY:  temperature in Zollikofen May 15, 2021 11h\n",
      "QUERY:  humidity in Zollikofen May 15, 2021 11h\n",
      "ERROR: no data available-------------  humidity in Zollikofen May 15, 2021 11h\n",
      "ERROR:------------- name 'error' is not defined  ----------  humidity in Zollikofen May 15, 2021 11h\n",
      "QUERY:  wind speed in Zollikofen May 15, 2021 11h\n",
      "QUERY:  Moon Phase calculatorMay 15, 2021 11h\n"
     ]
    },
    {
     "name": "stderr",
     "output_type": "stream",
     "text": [
      "\r",
      "  3%|██▏                                                                          | 55/1940 [17:31<10:32:58, 20.15s/it]"
     ]
    },
    {
     "name": "stdout",
     "output_type": "stream",
     "text": [
      "QUERY:  Precipitation amount in Zollikofen May 15, 2021 12h\n",
      "QUERY:  temperature in Zollikofen May 15, 2021 12h\n",
      "QUERY:  humidity in Zollikofen May 15, 2021 12h\n",
      "ERROR: no data available-------------  humidity in Zollikofen May 15, 2021 12h\n",
      "ERROR:------------- name 'error' is not defined  ----------  humidity in Zollikofen May 15, 2021 12h\n",
      "QUERY:  wind speed in Zollikofen May 15, 2021 12h\n",
      "QUERY:  Moon Phase calculatorMay 15, 2021 12h\n"
     ]
    },
    {
     "name": "stderr",
     "output_type": "stream",
     "text": [
      "\r",
      "  3%|██▏                                                                          | 56/1940 [17:52<10:34:08, 20.20s/it]"
     ]
    },
    {
     "name": "stdout",
     "output_type": "stream",
     "text": [
      "QUERY:  Precipitation amount in Zollikofen May 15, 2021 13h\n",
      "QUERY:  temperature in Zollikofen May 15, 2021 13h\n",
      "QUERY:  humidity in Zollikofen May 15, 2021 13h\n",
      "ERROR: no data available-------------  humidity in Zollikofen May 15, 2021 13h\n",
      "ERROR:------------- name 'error' is not defined  ----------  humidity in Zollikofen May 15, 2021 13h\n",
      "QUERY:  wind speed in Zollikofen May 15, 2021 13h\n",
      "QUERY:  Moon Phase calculatorMay 15, 2021 13h\n"
     ]
    },
    {
     "name": "stderr",
     "output_type": "stream",
     "text": [
      "\r",
      "  3%|██▎                                                                          | 57/1940 [18:12<10:31:52, 20.13s/it]"
     ]
    },
    {
     "name": "stdout",
     "output_type": "stream",
     "text": [
      "QUERY:  Precipitation amount in Zollikofen May 15, 2021 14h\n",
      "QUERY:  temperature in Zollikofen May 15, 2021 14h\n",
      "QUERY:  humidity in Zollikofen May 15, 2021 14h\n",
      "ERROR: no data available-------------  humidity in Zollikofen May 15, 2021 14h\n",
      "ERROR:------------- name 'error' is not defined  ----------  humidity in Zollikofen May 15, 2021 14h\n",
      "QUERY:  wind speed in Zollikofen May 15, 2021 14h\n",
      "QUERY:  Moon Phase calculatorMay 15, 2021 14h\n"
     ]
    },
    {
     "name": "stderr",
     "output_type": "stream",
     "text": [
      "\r",
      "  3%|██▎                                                                          | 58/1940 [18:31<10:29:11, 20.06s/it]"
     ]
    },
    {
     "name": "stdout",
     "output_type": "stream",
     "text": [
      "QUERY:  Precipitation amount in Zollikofen May 15, 2021 15h\n",
      "QUERY:  temperature in Zollikofen May 15, 2021 15h\n",
      "QUERY:  humidity in Zollikofen May 15, 2021 15h\n",
      "ERROR: no data available-------------  humidity in Zollikofen May 15, 2021 15h\n",
      "ERROR:------------- name 'error' is not defined  ----------  humidity in Zollikofen May 15, 2021 15h\n",
      "QUERY:  wind speed in Zollikofen May 15, 2021 15h\n",
      "QUERY:  Moon Phase calculatorMay 15, 2021 15h\n"
     ]
    },
    {
     "name": "stderr",
     "output_type": "stream",
     "text": [
      "\r",
      "  3%|██▎                                                                          | 59/1940 [18:53<10:43:14, 20.52s/it]"
     ]
    },
    {
     "name": "stdout",
     "output_type": "stream",
     "text": [
      "QUERY:  Precipitation amount in Zollikofen May 15, 2021 16h\n",
      "QUERY:  temperature in Zollikofen May 15, 2021 16h\n",
      "QUERY:  humidity in Zollikofen May 15, 2021 16h\n",
      "ERROR: no data available-------------  humidity in Zollikofen May 15, 2021 16h\n",
      "ERROR:------------- name 'error' is not defined  ----------  humidity in Zollikofen May 15, 2021 16h\n",
      "QUERY:  wind speed in Zollikofen May 15, 2021 16h\n",
      "QUERY:  Moon Phase calculatorMay 15, 2021 16h\n"
     ]
    },
    {
     "name": "stderr",
     "output_type": "stream",
     "text": [
      "\r",
      "  3%|██▍                                                                          | 60/1940 [19:13<10:39:38, 20.41s/it]"
     ]
    },
    {
     "name": "stdout",
     "output_type": "stream",
     "text": [
      "QUERY:  Precipitation amount in Zollikofen May 15, 2021 17h\n",
      "QUERY:  temperature in Zollikofen May 15, 2021 17h\n",
      "QUERY:  humidity in Zollikofen May 15, 2021 17h\n",
      "ERROR: no data available-------------  humidity in Zollikofen May 15, 2021 17h\n",
      "ERROR:------------- name 'error' is not defined  ----------  humidity in Zollikofen May 15, 2021 17h\n",
      "QUERY:  wind speed in Zollikofen May 15, 2021 17h\n",
      "QUERY:  Moon Phase calculatorMay 15, 2021 17h\n",
      "(5490, 7)\n"
     ]
    },
    {
     "data": {
      "text/html": [
       "<div>\n",
       "<style scoped>\n",
       "    .dataframe tbody tr th:only-of-type {\n",
       "        vertical-align: middle;\n",
       "    }\n",
       "\n",
       "    .dataframe tbody tr th {\n",
       "        vertical-align: top;\n",
       "    }\n",
       "\n",
       "    .dataframe thead th {\n",
       "        text-align: right;\n",
       "    }\n",
       "</style>\n",
       "<table border=\"1\" class=\"dataframe\">\n",
       "  <thead>\n",
       "    <tr style=\"text-align: right;\">\n",
       "      <th></th>\n",
       "      <th>date</th>\n",
       "      <th>temperature</th>\n",
       "      <th>humidity</th>\n",
       "      <th>wind speed</th>\n",
       "      <th>Precipitation amount</th>\n",
       "      <th>query</th>\n",
       "      <th>Moon Phase calculator</th>\n",
       "    </tr>\n",
       "  </thead>\n",
       "  <tbody>\n",
       "    <tr>\n",
       "      <th>8</th>\n",
       "      <td>2021-05-15 16:00:00</td>\n",
       "      <td>8 °C\\n(4:00 pm CEST | Saturday, May 15, 2021)</td>\n",
       "      <td>ERROR</td>\n",
       "      <td>2 m/s\\n(4:00 pm CEST | Saturday, May 15, 2021)</td>\n",
       "      <td>(unknown)\\n(4:00 pm CEST | Saturday, May 15, 2...</td>\n",
       "      <td>Moon Phase calculatorMay 15, 2021 16h</td>\n",
       "      <td>| waxing crescent moon\\n12.51% illuminated</td>\n",
       "    </tr>\n",
       "    <tr>\n",
       "      <th>9</th>\n",
       "      <td>2021-05-15 17:00:00</td>\n",
       "      <td>8 °C\\n(5:00 pm CEST | Saturday, May 15, 2021)</td>\n",
       "      <td>ERROR</td>\n",
       "      <td>2 m/s\\n(5:00 pm CEST | Saturday, May 15, 2021)</td>\n",
       "      <td>(unknown)\\n(5:00 pm CEST | Saturday, May 15, 2...</td>\n",
       "      <td>Moon Phase calculatorMay 15, 2021 17h</td>\n",
       "      <td>| waxing crescent moon\\n12.78% illuminated</td>\n",
       "    </tr>\n",
       "  </tbody>\n",
       "</table>\n",
       "</div>"
      ],
      "text/plain": [
       "                 date                                    temperature humidity  \\\n",
       "8 2021-05-15 16:00:00  8 °C\\n(4:00 pm CEST | Saturday, May 15, 2021)    ERROR   \n",
       "9 2021-05-15 17:00:00  8 °C\\n(5:00 pm CEST | Saturday, May 15, 2021)    ERROR   \n",
       "\n",
       "                                       wind speed  \\\n",
       "8  2 m/s\\n(4:00 pm CEST | Saturday, May 15, 2021)   \n",
       "9  2 m/s\\n(5:00 pm CEST | Saturday, May 15, 2021)   \n",
       "\n",
       "                                Precipitation amount  \\\n",
       "8  (unknown)\\n(4:00 pm CEST | Saturday, May 15, 2...   \n",
       "9  (unknown)\\n(5:00 pm CEST | Saturday, May 15, 2...   \n",
       "\n",
       "                                   query  \\\n",
       "8  Moon Phase calculatorMay 15, 2021 16h   \n",
       "9  Moon Phase calculatorMay 15, 2021 17h   \n",
       "\n",
       "                        Moon Phase calculator  \n",
       "8  | waxing crescent moon\\n12.51% illuminated  \n",
       "9  | waxing crescent moon\\n12.78% illuminated  "
      ]
     },
     "metadata": {},
     "output_type": "display_data"
    },
    {
     "name": "stderr",
     "output_type": "stream",
     "text": [
      "\r",
      "  3%|██▍                                                                          | 61/1940 [19:36<11:02:02, 21.14s/it]"
     ]
    },
    {
     "name": "stdout",
     "output_type": "stream",
     "text": [
      "QUERY:  Precipitation amount in Zollikofen May 15, 2021 18h\n",
      "QUERY:  temperature in Zollikofen May 15, 2021 18h\n",
      "QUERY:  humidity in Zollikofen May 15, 2021 18h\n",
      "ERROR: no data available-------------  humidity in Zollikofen May 15, 2021 18h\n",
      "ERROR:------------- name 'error' is not defined  ----------  humidity in Zollikofen May 15, 2021 18h\n",
      "QUERY:  wind speed in Zollikofen May 15, 2021 18h\n",
      "QUERY:  Moon Phase calculatorMay 15, 2021 18h\n"
     ]
    },
    {
     "name": "stderr",
     "output_type": "stream",
     "text": [
      "\r",
      "  3%|██▍                                                                          | 62/1940 [19:56<10:52:43, 20.85s/it]"
     ]
    },
    {
     "name": "stdout",
     "output_type": "stream",
     "text": [
      "QUERY:  Precipitation amount in Zollikofen May 15, 2021 19h\n",
      "QUERY:  temperature in Zollikofen May 15, 2021 19h\n",
      "QUERY:  humidity in Zollikofen May 15, 2021 19h\n",
      "ERROR: no data available-------------  humidity in Zollikofen May 15, 2021 19h\n",
      "ERROR:------------- name 'error' is not defined  ----------  humidity in Zollikofen May 15, 2021 19h\n",
      "QUERY:  wind speed in Zollikofen May 15, 2021 19h\n",
      "QUERY:  Moon Phase calculatorMay 15, 2021 19h\n"
     ]
    },
    {
     "name": "stderr",
     "output_type": "stream",
     "text": [
      "\r",
      "  3%|██▌                                                                          | 63/1940 [20:17<10:55:43, 20.96s/it]"
     ]
    },
    {
     "name": "stdout",
     "output_type": "stream",
     "text": [
      "QUERY:  Precipitation amount in Zollikofen May 15, 2021 20h\n",
      "QUERY:  temperature in Zollikofen May 15, 2021 20h\n",
      "QUERY:  humidity in Zollikofen May 15, 2021 20h\n",
      "ERROR: no data available-------------  humidity in Zollikofen May 15, 2021 20h\n",
      "ERROR:------------- name 'error' is not defined  ----------  humidity in Zollikofen May 15, 2021 20h\n",
      "QUERY:  wind speed in Zollikofen May 15, 2021 20h\n",
      "QUERY:  Moon Phase calculatorMay 15, 2021 20h\n"
     ]
    },
    {
     "name": "stderr",
     "output_type": "stream",
     "text": [
      "\r",
      "  3%|██▌                                                                          | 64/1940 [20:37<10:44:25, 20.61s/it]"
     ]
    },
    {
     "name": "stdout",
     "output_type": "stream",
     "text": [
      "QUERY:  Precipitation amount in Zollikofen May 15, 2021 21h\n",
      "QUERY:  temperature in Zollikofen May 15, 2021 21h\n",
      "QUERY:  humidity in Zollikofen May 15, 2021 21h\n",
      "ERROR: no data available-------------  humidity in Zollikofen May 15, 2021 21h\n",
      "ERROR:------------- name 'error' is not defined  ----------  humidity in Zollikofen May 15, 2021 21h\n",
      "QUERY:  wind speed in Zollikofen May 15, 2021 21h\n",
      "QUERY:  Moon Phase calculatorMay 15, 2021 21h\n"
     ]
    },
    {
     "name": "stderr",
     "output_type": "stream",
     "text": [
      "\r",
      "  3%|██▌                                                                          | 65/1940 [20:58<10:45:44, 20.66s/it]"
     ]
    },
    {
     "name": "stdout",
     "output_type": "stream",
     "text": [
      "QUERY:  Precipitation amount in Zollikofen May 15, 2021 22h\n",
      "QUERY:  temperature in Zollikofen May 15, 2021 22h\n",
      "ERROR: no data available-------------  temperature in Zollikofen May 15, 2021 22h\n",
      "ERROR:------------- name 'error' is not defined  ----------  temperature in Zollikofen May 15, 2021 22h\n",
      "QUERY:  humidity in Zollikofen May 15, 2021 22h\n",
      "ERROR: no data available-------------  humidity in Zollikofen May 15, 2021 22h\n",
      "ERROR:------------- name 'error' is not defined  ----------  humidity in Zollikofen May 15, 2021 22h\n",
      "QUERY:  wind speed in Zollikofen May 15, 2021 22h\n",
      "ERROR: no data available-------------  wind speed in Zollikofen May 15, 2021 22h\n",
      "ERROR:------------- name 'error' is not defined  ----------  wind speed in Zollikofen May 15, 2021 22h\n",
      "QUERY:  Moon Phase calculatorMay 15, 2021 22h\n"
     ]
    },
    {
     "name": "stderr",
     "output_type": "stream",
     "text": [
      "\r",
      "  3%|██▌                                                                          | 66/1940 [21:19<10:44:23, 20.63s/it]"
     ]
    },
    {
     "name": "stdout",
     "output_type": "stream",
     "text": [
      "QUERY:  Precipitation amount in Zollikofen May 15, 2021 23h\n",
      "QUERY:  temperature in Zollikofen May 15, 2021 23h\n",
      "ERROR: no data available-------------  temperature in Zollikofen May 15, 2021 23h\n",
      "ERROR:------------- name 'error' is not defined  ----------  temperature in Zollikofen May 15, 2021 23h\n",
      "QUERY:  humidity in Zollikofen May 15, 2021 23h\n",
      "ERROR: no data available-------------  humidity in Zollikofen May 15, 2021 23h\n",
      "ERROR:------------- name 'error' is not defined  ----------  humidity in Zollikofen May 15, 2021 23h\n",
      "QUERY:  wind speed in Zollikofen May 15, 2021 23h\n",
      "ERROR: no data available-------------  wind speed in Zollikofen May 15, 2021 23h\n",
      "ERROR:------------- name 'error' is not defined  ----------  wind speed in Zollikofen May 15, 2021 23h\n",
      "QUERY:  Moon Phase calculatorMay 15, 2021 23h\n"
     ]
    },
    {
     "name": "stderr",
     "output_type": "stream",
     "text": [
      "\r",
      "  3%|██▋                                                                          | 67/1940 [21:40<10:50:34, 20.84s/it]"
     ]
    },
    {
     "name": "stdout",
     "output_type": "stream",
     "text": [
      "QUERY:  Precipitation amount in Zollikofen May 16, 2021 0h\n",
      "QUERY:  temperature in Zollikofen May 16, 2021 0h\n",
      "QUERY:  humidity in Zollikofen May 16, 2021 0h\n",
      "QUERY:  wind speed in Zollikofen May 16, 2021 0h\n",
      "QUERY:  Moon Phase calculatorMay 16, 2021 0h\n"
     ]
    },
    {
     "name": "stderr",
     "output_type": "stream",
     "text": [
      "\r",
      "  4%|██▋                                                                          | 68/1940 [21:59<10:38:17, 20.46s/it]"
     ]
    },
    {
     "name": "stdout",
     "output_type": "stream",
     "text": [
      "QUERY:  Precipitation amount in Zollikofen May 16, 2021 1h\n",
      "QUERY:  temperature in Zollikofen May 16, 2021 1h\n",
      "QUERY:  humidity in Zollikofen May 16, 2021 1h\n",
      "QUERY:  wind speed in Zollikofen May 16, 2021 1h\n",
      "QUERY:  Moon Phase calculatorMay 16, 2021 1h\n"
     ]
    },
    {
     "name": "stderr",
     "output_type": "stream",
     "text": [
      "\r",
      "  4%|██▋                                                                          | 69/1940 [22:19<10:29:59, 20.20s/it]"
     ]
    },
    {
     "name": "stdout",
     "output_type": "stream",
     "text": [
      "QUERY:  Precipitation amount in Zollikofen May 16, 2021 2h\n",
      "QUERY:  temperature in Zollikofen May 16, 2021 2h\n",
      "QUERY:  humidity in Zollikofen May 16, 2021 2h\n",
      "QUERY:  wind speed in Zollikofen May 16, 2021 2h\n",
      "QUERY:  Moon Phase calculatorMay 16, 2021 2h\n"
     ]
    },
    {
     "name": "stderr",
     "output_type": "stream",
     "text": [
      "\r",
      "  4%|██▊                                                                          | 70/1940 [22:38<10:21:46, 19.95s/it]"
     ]
    },
    {
     "name": "stdout",
     "output_type": "stream",
     "text": [
      "QUERY:  Precipitation amount in Zollikofen May 16, 2021 3h\n",
      "QUERY:  temperature in Zollikofen May 16, 2021 3h\n",
      "QUERY:  humidity in Zollikofen May 16, 2021 3h\n",
      "QUERY:  wind speed in Zollikofen May 16, 2021 3h\n",
      "QUERY:  Moon Phase calculatorMay 16, 2021 3h\n",
      "(5500, 7)\n"
     ]
    },
    {
     "data": {
      "text/html": [
       "<div>\n",
       "<style scoped>\n",
       "    .dataframe tbody tr th:only-of-type {\n",
       "        vertical-align: middle;\n",
       "    }\n",
       "\n",
       "    .dataframe tbody tr th {\n",
       "        vertical-align: top;\n",
       "    }\n",
       "\n",
       "    .dataframe thead th {\n",
       "        text-align: right;\n",
       "    }\n",
       "</style>\n",
       "<table border=\"1\" class=\"dataframe\">\n",
       "  <thead>\n",
       "    <tr style=\"text-align: right;\">\n",
       "      <th></th>\n",
       "      <th>date</th>\n",
       "      <th>temperature</th>\n",
       "      <th>humidity</th>\n",
       "      <th>wind speed</th>\n",
       "      <th>Precipitation amount</th>\n",
       "      <th>query</th>\n",
       "      <th>Moon Phase calculator</th>\n",
       "    </tr>\n",
       "  </thead>\n",
       "  <tbody>\n",
       "    <tr>\n",
       "      <th>8</th>\n",
       "      <td>2021-05-16 02:00:00</td>\n",
       "      <td>8 °C\\n(2:00 am CEST | Sunday, May 16, 2021)</td>\n",
       "      <td>average: 100% (100%)\\n(2:00 am CEST | Sunday, ...</td>\n",
       "      <td>2 m/s\\n(2:00 am CEST | Sunday, May 16, 2021)</td>\n",
       "      <td>no precipitation\\n(2:00 am CEST | Sunday, May ...</td>\n",
       "      <td>Moon Phase calculatorMay 16, 2021 2h</td>\n",
       "      <td>| waxing crescent moon\\n15.31% illuminated</td>\n",
       "    </tr>\n",
       "    <tr>\n",
       "      <th>9</th>\n",
       "      <td>2021-05-16 03:00:00</td>\n",
       "      <td>8 °C\\n(3:00 am CEST | Sunday, May 16, 2021)</td>\n",
       "      <td>average: 100% (100%)\\n(3:00 am CEST | Sunday, ...</td>\n",
       "      <td>2 m/s\\n(3:00 am CEST | Sunday, May 16, 2021)</td>\n",
       "      <td>no precipitation\\n(3:00 am CEST | Sunday, May ...</td>\n",
       "      <td>Moon Phase calculatorMay 16, 2021 3h</td>\n",
       "      <td>| waxing crescent moon\\n15.60% illuminated</td>\n",
       "    </tr>\n",
       "  </tbody>\n",
       "</table>\n",
       "</div>"
      ],
      "text/plain": [
       "                 date                                  temperature  \\\n",
       "8 2021-05-16 02:00:00  8 °C\\n(2:00 am CEST | Sunday, May 16, 2021)   \n",
       "9 2021-05-16 03:00:00  8 °C\\n(3:00 am CEST | Sunday, May 16, 2021)   \n",
       "\n",
       "                                            humidity  \\\n",
       "8  average: 100% (100%)\\n(2:00 am CEST | Sunday, ...   \n",
       "9  average: 100% (100%)\\n(3:00 am CEST | Sunday, ...   \n",
       "\n",
       "                                     wind speed  \\\n",
       "8  2 m/s\\n(2:00 am CEST | Sunday, May 16, 2021)   \n",
       "9  2 m/s\\n(3:00 am CEST | Sunday, May 16, 2021)   \n",
       "\n",
       "                                Precipitation amount  \\\n",
       "8  no precipitation\\n(2:00 am CEST | Sunday, May ...   \n",
       "9  no precipitation\\n(3:00 am CEST | Sunday, May ...   \n",
       "\n",
       "                                  query  \\\n",
       "8  Moon Phase calculatorMay 16, 2021 2h   \n",
       "9  Moon Phase calculatorMay 16, 2021 3h   \n",
       "\n",
       "                        Moon Phase calculator  \n",
       "8  | waxing crescent moon\\n15.31% illuminated  \n",
       "9  | waxing crescent moon\\n15.60% illuminated  "
      ]
     },
     "metadata": {},
     "output_type": "display_data"
    },
    {
     "name": "stderr",
     "output_type": "stream",
     "text": [
      "\r",
      "  4%|██▊                                                                          | 71/1940 [22:58<10:18:32, 19.86s/it]"
     ]
    },
    {
     "name": "stdout",
     "output_type": "stream",
     "text": [
      "QUERY:  Precipitation amount in Zollikofen May 16, 2021 4h\n",
      "QUERY:  temperature in Zollikofen May 16, 2021 4h\n",
      "QUERY:  humidity in Zollikofen May 16, 2021 4h\n",
      "QUERY:  wind speed in Zollikofen May 16, 2021 4h\n",
      "QUERY:  Moon Phase calculatorMay 16, 2021 4h\n"
     ]
    },
    {
     "name": "stderr",
     "output_type": "stream",
     "text": [
      "\r",
      "  4%|██▊                                                                          | 72/1940 [23:17<10:13:21, 19.70s/it]"
     ]
    },
    {
     "name": "stdout",
     "output_type": "stream",
     "text": [
      "QUERY:  Precipitation amount in Zollikofen May 16, 2021 5h\n",
      "QUERY:  temperature in Zollikofen May 16, 2021 5h\n",
      "QUERY:  humidity in Zollikofen May 16, 2021 5h\n",
      "QUERY:  wind speed in Zollikofen May 16, 2021 5h\n",
      "QUERY:  Moon Phase calculatorMay 16, 2021 5h\n"
     ]
    },
    {
     "name": "stderr",
     "output_type": "stream",
     "text": [
      "\r",
      "  4%|██▉                                                                          | 73/1940 [23:36<10:05:59, 19.47s/it]"
     ]
    },
    {
     "name": "stdout",
     "output_type": "stream",
     "text": [
      "QUERY:  Precipitation amount in Zollikofen May 16, 2021 6h\n",
      "QUERY:  temperature in Zollikofen May 16, 2021 6h\n",
      "QUERY:  humidity in Zollikofen May 16, 2021 6h\n",
      "QUERY:  wind speed in Zollikofen May 16, 2021 6h\n",
      "QUERY:  Moon Phase calculatorMay 16, 2021 6h\n"
     ]
    },
    {
     "name": "stderr",
     "output_type": "stream",
     "text": [
      "\r",
      "  4%|██▉                                                                          | 74/1940 [23:55<10:02:02, 19.36s/it]"
     ]
    },
    {
     "name": "stdout",
     "output_type": "stream",
     "text": [
      "QUERY:  Precipitation amount in Zollikofen May 16, 2021 7h\n",
      "QUERY:  temperature in Zollikofen May 16, 2021 7h\n",
      "QUERY:  humidity in Zollikofen May 16, 2021 7h\n",
      "QUERY:  wind speed in Zollikofen May 16, 2021 7h\n",
      "QUERY:  Moon Phase calculatorMay 16, 2021 7h\n"
     ]
    },
    {
     "name": "stderr",
     "output_type": "stream",
     "text": [
      "\r",
      "  4%|██▉                                                                          | 75/1940 [24:15<10:00:42, 19.33s/it]"
     ]
    },
    {
     "name": "stdout",
     "output_type": "stream",
     "text": [
      "QUERY:  Precipitation amount in Zollikofen May 16, 2021 8h\n",
      "QUERY:  temperature in Zollikofen May 16, 2021 8h\n",
      "QUERY:  humidity in Zollikofen May 16, 2021 8h\n",
      "QUERY:  wind speed in Zollikofen May 16, 2021 8h\n",
      "QUERY:  Moon Phase calculatorMay 16, 2021 8h\n"
     ]
    },
    {
     "name": "stderr",
     "output_type": "stream",
     "text": [
      "\r",
      "  4%|███                                                                          | 76/1940 [24:36<10:21:04, 19.99s/it]"
     ]
    },
    {
     "name": "stdout",
     "output_type": "stream",
     "text": [
      "QUERY:  Precipitation amount in Zollikofen May 16, 2021 9h\n",
      "QUERY:  temperature in Zollikofen May 16, 2021 9h\n",
      "QUERY:  humidity in Zollikofen May 16, 2021 9h\n",
      "QUERY:  wind speed in Zollikofen May 16, 2021 9h\n",
      "QUERY:  Moon Phase calculatorMay 16, 2021 9h\n"
     ]
    },
    {
     "name": "stderr",
     "output_type": "stream",
     "text": [
      "\r",
      "  4%|███                                                                          | 77/1940 [24:56<10:17:13, 19.88s/it]"
     ]
    },
    {
     "name": "stdout",
     "output_type": "stream",
     "text": [
      "QUERY:  Precipitation amount in Zollikofen May 16, 2021 10h\n",
      "QUERY:  temperature in Zollikofen May 16, 2021 10h\n",
      "QUERY:  humidity in Zollikofen May 16, 2021 10h\n",
      "QUERY:  wind speed in Zollikofen May 16, 2021 10h\n",
      "QUERY:  Moon Phase calculatorMay 16, 2021 10h\n"
     ]
    },
    {
     "name": "stderr",
     "output_type": "stream",
     "text": [
      "\r",
      "  4%|███                                                                          | 78/1940 [25:16<10:21:53, 20.04s/it]"
     ]
    },
    {
     "name": "stdout",
     "output_type": "stream",
     "text": [
      "QUERY:  Precipitation amount in Zollikofen May 16, 2021 11h\n",
      "QUERY:  temperature in Zollikofen May 16, 2021 11h\n",
      "QUERY:  humidity in Zollikofen May 16, 2021 11h\n",
      "QUERY:  wind speed in Zollikofen May 16, 2021 11h\n",
      "QUERY:  Moon Phase calculatorMay 16, 2021 11h\n"
     ]
    },
    {
     "name": "stderr",
     "output_type": "stream",
     "text": [
      "\r",
      "  4%|███▏                                                                         | 79/1940 [25:35<10:13:04, 19.77s/it]"
     ]
    },
    {
     "name": "stdout",
     "output_type": "stream",
     "text": [
      "QUERY:  Precipitation amount in Zollikofen May 16, 2021 12h\n",
      "QUERY:  temperature in Zollikofen May 16, 2021 12h\n",
      "QUERY:  humidity in Zollikofen May 16, 2021 12h\n",
      "QUERY:  wind speed in Zollikofen May 16, 2021 12h\n",
      "QUERY:  Moon Phase calculatorMay 16, 2021 12h\n"
     ]
    },
    {
     "name": "stderr",
     "output_type": "stream",
     "text": [
      "\r",
      "  4%|███▏                                                                          | 80/1940 [25:52<9:45:10, 18.88s/it]"
     ]
    },
    {
     "name": "stdout",
     "output_type": "stream",
     "text": [
      "QUERY:  Precipitation amount in Zollikofen May 16, 2021 13h\n",
      "QUERY:  temperature in Zollikofen May 16, 2021 13h\n",
      "QUERY:  humidity in Zollikofen May 16, 2021 13h\n",
      "QUERY:  wind speed in Zollikofen May 16, 2021 13h\n",
      "QUERY:  Moon Phase calculatorMay 16, 2021 13h\n",
      "(5510, 7)\n"
     ]
    },
    {
     "data": {
      "text/html": [
       "<div>\n",
       "<style scoped>\n",
       "    .dataframe tbody tr th:only-of-type {\n",
       "        vertical-align: middle;\n",
       "    }\n",
       "\n",
       "    .dataframe tbody tr th {\n",
       "        vertical-align: top;\n",
       "    }\n",
       "\n",
       "    .dataframe thead th {\n",
       "        text-align: right;\n",
       "    }\n",
       "</style>\n",
       "<table border=\"1\" class=\"dataframe\">\n",
       "  <thead>\n",
       "    <tr style=\"text-align: right;\">\n",
       "      <th></th>\n",
       "      <th>date</th>\n",
       "      <th>temperature</th>\n",
       "      <th>humidity</th>\n",
       "      <th>wind speed</th>\n",
       "      <th>Precipitation amount</th>\n",
       "      <th>query</th>\n",
       "      <th>Moon Phase calculator</th>\n",
       "    </tr>\n",
       "  </thead>\n",
       "  <tbody>\n",
       "    <tr>\n",
       "      <th>8</th>\n",
       "      <td>2021-05-16 12:00:00</td>\n",
       "      <td>10 °C\\n(12:00 pm CEST | Sunday, May 16, 2021)</td>\n",
       "      <td>average: 100% (100%)\\n(12:00 pm CEST | Sunday,...</td>\n",
       "      <td>2 m/s\\n(12:00 pm CEST | Sunday, May 16, 2021)</td>\n",
       "      <td>rain\\n(12:00 pm CEST | Sunday, May 16, 2021)</td>\n",
       "      <td>Moon Phase calculatorMay 16, 2021 12h</td>\n",
       "      <td>| waxing crescent moon\\n18.35% illuminated</td>\n",
       "    </tr>\n",
       "    <tr>\n",
       "      <th>9</th>\n",
       "      <td>2021-05-16 13:00:00</td>\n",
       "      <td>10 °C\\n(1:00 pm CEST | Sunday, May 16, 2021)</td>\n",
       "      <td>average: 91% (87 to 94%)\\n(1:00 pm CEST | Sund...</td>\n",
       "      <td>2 m/s\\n(1:00 pm CEST | Sunday, May 16, 2021)</td>\n",
       "      <td>rain\\n(1:00 pm CEST | Sunday, May 16, 2021)</td>\n",
       "      <td>Moon Phase calculatorMay 16, 2021 13h</td>\n",
       "      <td>| waxing crescent moon\\n18.67% illuminated</td>\n",
       "    </tr>\n",
       "  </tbody>\n",
       "</table>\n",
       "</div>"
      ],
      "text/plain": [
       "                 date                                    temperature  \\\n",
       "8 2021-05-16 12:00:00  10 °C\\n(12:00 pm CEST | Sunday, May 16, 2021)   \n",
       "9 2021-05-16 13:00:00   10 °C\\n(1:00 pm CEST | Sunday, May 16, 2021)   \n",
       "\n",
       "                                            humidity  \\\n",
       "8  average: 100% (100%)\\n(12:00 pm CEST | Sunday,...   \n",
       "9  average: 91% (87 to 94%)\\n(1:00 pm CEST | Sund...   \n",
       "\n",
       "                                      wind speed  \\\n",
       "8  2 m/s\\n(12:00 pm CEST | Sunday, May 16, 2021)   \n",
       "9   2 m/s\\n(1:00 pm CEST | Sunday, May 16, 2021)   \n",
       "\n",
       "                           Precipitation amount  \\\n",
       "8  rain\\n(12:00 pm CEST | Sunday, May 16, 2021)   \n",
       "9   rain\\n(1:00 pm CEST | Sunday, May 16, 2021)   \n",
       "\n",
       "                                   query  \\\n",
       "8  Moon Phase calculatorMay 16, 2021 12h   \n",
       "9  Moon Phase calculatorMay 16, 2021 13h   \n",
       "\n",
       "                        Moon Phase calculator  \n",
       "8  | waxing crescent moon\\n18.35% illuminated  \n",
       "9  | waxing crescent moon\\n18.67% illuminated  "
      ]
     },
     "metadata": {},
     "output_type": "display_data"
    },
    {
     "name": "stderr",
     "output_type": "stream",
     "text": [
      "\r",
      "  4%|███▎                                                                          | 81/1940 [26:09<9:26:36, 18.29s/it]"
     ]
    },
    {
     "name": "stdout",
     "output_type": "stream",
     "text": [
      "QUERY:  Precipitation amount in Zollikofen May 16, 2021 14h\n",
      "QUERY:  temperature in Zollikofen May 16, 2021 14h\n",
      "QUERY:  humidity in Zollikofen May 16, 2021 14h\n",
      "QUERY:  wind speed in Zollikofen May 16, 2021 14h\n",
      "QUERY:  Moon Phase calculatorMay 16, 2021 14h\n"
     ]
    },
    {
     "name": "stderr",
     "output_type": "stream",
     "text": [
      "\r",
      "  4%|███▎                                                                          | 82/1940 [26:25<9:04:36, 17.59s/it]"
     ]
    },
    {
     "name": "stdout",
     "output_type": "stream",
     "text": [
      "QUERY:  Precipitation amount in Zollikofen May 16, 2021 15h\n",
      "QUERY:  temperature in Zollikofen May 16, 2021 15h\n",
      "QUERY:  humidity in Zollikofen May 16, 2021 15h\n",
      "QUERY:  wind speed in Zollikofen May 16, 2021 15h\n",
      "QUERY:  Moon Phase calculatorMay 16, 2021 15h\n"
     ]
    },
    {
     "name": "stderr",
     "output_type": "stream",
     "text": [
      "\r",
      "  4%|███▎                                                                          | 83/1940 [26:42<9:00:23, 17.46s/it]"
     ]
    },
    {
     "name": "stdout",
     "output_type": "stream",
     "text": [
      "QUERY:  Precipitation amount in Zollikofen May 16, 2021 16h\n",
      "QUERY:  temperature in Zollikofen May 16, 2021 16h\n",
      "QUERY:  humidity in Zollikofen May 16, 2021 16h\n",
      "QUERY:  wind speed in Zollikofen May 16, 2021 16h\n",
      "QUERY:  Moon Phase calculatorMay 16, 2021 16h\n"
     ]
    },
    {
     "name": "stderr",
     "output_type": "stream",
     "text": [
      "\r",
      "  4%|███▍                                                                          | 84/1940 [26:58<8:48:20, 17.08s/it]"
     ]
    },
    {
     "name": "stdout",
     "output_type": "stream",
     "text": [
      "QUERY:  Precipitation amount in Zollikofen May 16, 2021 17h\n",
      "QUERY:  temperature in Zollikofen May 16, 2021 17h\n",
      "QUERY:  humidity in Zollikofen May 16, 2021 17h\n",
      "QUERY:  wind speed in Zollikofen May 16, 2021 17h\n",
      "QUERY:  Moon Phase calculatorMay 16, 2021 17h\n"
     ]
    },
    {
     "name": "stderr",
     "output_type": "stream",
     "text": [
      "\r",
      "  4%|███▍                                                                          | 85/1940 [27:15<8:40:37, 16.84s/it]"
     ]
    },
    {
     "name": "stdout",
     "output_type": "stream",
     "text": [
      "QUERY:  Precipitation amount in Zollikofen May 16, 2021 18h\n",
      "QUERY:  temperature in Zollikofen May 16, 2021 18h\n",
      "QUERY:  humidity in Zollikofen May 16, 2021 18h\n",
      "QUERY:  wind speed in Zollikofen May 16, 2021 18h\n",
      "QUERY:  Moon Phase calculatorMay 16, 2021 18h\n"
     ]
    },
    {
     "name": "stderr",
     "output_type": "stream",
     "text": [
      "\r",
      "  4%|███▍                                                                          | 86/1940 [27:32<8:46:15, 17.03s/it]"
     ]
    },
    {
     "name": "stdout",
     "output_type": "stream",
     "text": [
      "QUERY:  Precipitation amount in Zollikofen May 16, 2021 19h\n",
      "QUERY:  temperature in Zollikofen May 16, 2021 19h\n",
      "QUERY:  humidity in Zollikofen May 16, 2021 19h\n",
      "QUERY:  wind speed in Zollikofen May 16, 2021 19h\n",
      "QUERY:  Moon Phase calculatorMay 16, 2021 19h\n"
     ]
    },
    {
     "name": "stderr",
     "output_type": "stream",
     "text": [
      "\r",
      "  4%|███▍                                                                          | 87/1940 [27:49<8:41:11, 16.88s/it]"
     ]
    },
    {
     "name": "stdout",
     "output_type": "stream",
     "text": [
      "QUERY:  Precipitation amount in Zollikofen May 16, 2021 20h\n",
      "QUERY:  temperature in Zollikofen May 16, 2021 20h\n",
      "QUERY:  humidity in Zollikofen May 16, 2021 20h\n",
      "QUERY:  wind speed in Zollikofen May 16, 2021 20h\n",
      "QUERY:  Moon Phase calculatorMay 16, 2021 20h\n"
     ]
    },
    {
     "name": "stderr",
     "output_type": "stream",
     "text": [
      "\r",
      "  5%|███▌                                                                          | 88/1940 [28:05<8:39:57, 16.85s/it]"
     ]
    },
    {
     "name": "stdout",
     "output_type": "stream",
     "text": [
      "QUERY:  Precipitation amount in Zollikofen May 16, 2021 21h\n",
      "QUERY:  temperature in Zollikofen May 16, 2021 21h\n",
      "QUERY:  humidity in Zollikofen May 16, 2021 21h\n",
      "QUERY:  wind speed in Zollikofen May 16, 2021 21h\n",
      "QUERY:  Moon Phase calculatorMay 16, 2021 21h\n"
     ]
    },
    {
     "name": "stderr",
     "output_type": "stream",
     "text": [
      "\r",
      "  5%|███▌                                                                          | 89/1940 [28:22<8:35:51, 16.72s/it]"
     ]
    },
    {
     "name": "stdout",
     "output_type": "stream",
     "text": [
      "QUERY:  Precipitation amount in Zollikofen May 16, 2021 22h\n",
      "QUERY:  temperature in Zollikofen May 16, 2021 22h\n",
      "QUERY:  humidity in Zollikofen May 16, 2021 22h\n",
      "QUERY:  wind speed in Zollikofen May 16, 2021 22h\n",
      "QUERY:  Moon Phase calculatorMay 16, 2021 22h\n"
     ]
    },
    {
     "name": "stderr",
     "output_type": "stream",
     "text": [
      "\r",
      "  5%|███▌                                                                          | 90/1940 [28:40<8:46:40, 17.08s/it]"
     ]
    },
    {
     "name": "stdout",
     "output_type": "stream",
     "text": [
      "QUERY:  Precipitation amount in Zollikofen May 16, 2021 23h\n",
      "QUERY:  temperature in Zollikofen May 16, 2021 23h\n",
      "QUERY:  humidity in Zollikofen May 16, 2021 23h\n",
      "QUERY:  wind speed in Zollikofen May 16, 2021 23h\n",
      "QUERY:  Moon Phase calculatorMay 16, 2021 23h\n",
      "(5520, 7)\n"
     ]
    },
    {
     "data": {
      "text/html": [
       "<div>\n",
       "<style scoped>\n",
       "    .dataframe tbody tr th:only-of-type {\n",
       "        vertical-align: middle;\n",
       "    }\n",
       "\n",
       "    .dataframe tbody tr th {\n",
       "        vertical-align: top;\n",
       "    }\n",
       "\n",
       "    .dataframe thead th {\n",
       "        text-align: right;\n",
       "    }\n",
       "</style>\n",
       "<table border=\"1\" class=\"dataframe\">\n",
       "  <thead>\n",
       "    <tr style=\"text-align: right;\">\n",
       "      <th></th>\n",
       "      <th>date</th>\n",
       "      <th>temperature</th>\n",
       "      <th>humidity</th>\n",
       "      <th>wind speed</th>\n",
       "      <th>Precipitation amount</th>\n",
       "      <th>query</th>\n",
       "      <th>Moon Phase calculator</th>\n",
       "    </tr>\n",
       "  </thead>\n",
       "  <tbody>\n",
       "    <tr>\n",
       "      <th>8</th>\n",
       "      <td>2021-05-16 22:00:00</td>\n",
       "      <td>10 °C\\n(10:00 pm CEST | Sunday, May 16, 2021)</td>\n",
       "      <td>average: 91% (82 to 100%)\\n(10:00 pm CEST | Su...</td>\n",
       "      <td>1 m/s\\n(10:00 pm CEST | Sunday, May 16, 2021)</td>\n",
       "      <td>rain\\n(10:00 pm CEST | Sunday, May 16, 2021)</td>\n",
       "      <td>Moon Phase calculatorMay 16, 2021 22h</td>\n",
       "      <td>| waxing crescent moon\\n21.63% illuminated</td>\n",
       "    </tr>\n",
       "    <tr>\n",
       "      <th>9</th>\n",
       "      <td>2021-05-16 23:00:00</td>\n",
       "      <td>9 °C\\n(11:00 pm CEST | Sunday, May 16, 2021)</td>\n",
       "      <td>average: 82% (82%)\\n(11:00 pm CEST | Sunday, M...</td>\n",
       "      <td>1 m/s\\n(11:00 pm CEST | Sunday, May 16, 2021)</td>\n",
       "      <td>no precipitation\\n(11:00 pm CEST | Sunday, May...</td>\n",
       "      <td>Moon Phase calculatorMay 16, 2021 23h</td>\n",
       "      <td>| waxing crescent moon\\n21.97% illuminated</td>\n",
       "    </tr>\n",
       "  </tbody>\n",
       "</table>\n",
       "</div>"
      ],
      "text/plain": [
       "                 date                                    temperature  \\\n",
       "8 2021-05-16 22:00:00  10 °C\\n(10:00 pm CEST | Sunday, May 16, 2021)   \n",
       "9 2021-05-16 23:00:00   9 °C\\n(11:00 pm CEST | Sunday, May 16, 2021)   \n",
       "\n",
       "                                            humidity  \\\n",
       "8  average: 91% (82 to 100%)\\n(10:00 pm CEST | Su...   \n",
       "9  average: 82% (82%)\\n(11:00 pm CEST | Sunday, M...   \n",
       "\n",
       "                                      wind speed  \\\n",
       "8  1 m/s\\n(10:00 pm CEST | Sunday, May 16, 2021)   \n",
       "9  1 m/s\\n(11:00 pm CEST | Sunday, May 16, 2021)   \n",
       "\n",
       "                                Precipitation amount  \\\n",
       "8       rain\\n(10:00 pm CEST | Sunday, May 16, 2021)   \n",
       "9  no precipitation\\n(11:00 pm CEST | Sunday, May...   \n",
       "\n",
       "                                   query  \\\n",
       "8  Moon Phase calculatorMay 16, 2021 22h   \n",
       "9  Moon Phase calculatorMay 16, 2021 23h   \n",
       "\n",
       "                        Moon Phase calculator  \n",
       "8  | waxing crescent moon\\n21.63% illuminated  \n",
       "9  | waxing crescent moon\\n21.97% illuminated  "
      ]
     },
     "metadata": {},
     "output_type": "display_data"
    },
    {
     "name": "stderr",
     "output_type": "stream",
     "text": [
      "\r",
      "  5%|███▋                                                                          | 91/1940 [28:56<8:38:48, 16.84s/it]"
     ]
    },
    {
     "name": "stdout",
     "output_type": "stream",
     "text": [
      "QUERY:  Precipitation amount in Zollikofen May 17, 2021 0h\n",
      "QUERY:  temperature in Zollikofen May 17, 2021 0h\n",
      "QUERY:  humidity in Zollikofen May 17, 2021 0h\n",
      "QUERY:  wind speed in Zollikofen May 17, 2021 0h\n",
      "QUERY:  Moon Phase calculatorMay 17, 2021 0h\n"
     ]
    },
    {
     "name": "stderr",
     "output_type": "stream",
     "text": [
      "\r",
      "  5%|███▋                                                                          | 92/1940 [29:12<8:27:11, 16.47s/it]"
     ]
    },
    {
     "name": "stdout",
     "output_type": "stream",
     "text": [
      "QUERY:  Precipitation amount in Zollikofen May 17, 2021 1h\n",
      "QUERY:  temperature in Zollikofen May 17, 2021 1h\n",
      "QUERY:  humidity in Zollikofen May 17, 2021 1h\n",
      "QUERY:  wind speed in Zollikofen May 17, 2021 1h\n",
      "QUERY:  Moon Phase calculatorMay 17, 2021 1h\n"
     ]
    },
    {
     "name": "stderr",
     "output_type": "stream",
     "text": [
      "\r",
      "  5%|███▋                                                                          | 93/1940 [29:28<8:23:25, 16.35s/it]"
     ]
    },
    {
     "name": "stdout",
     "output_type": "stream",
     "text": [
      "QUERY:  Precipitation amount in Zollikofen May 17, 2021 2h\n",
      "QUERY:  temperature in Zollikofen May 17, 2021 2h\n",
      "QUERY:  humidity in Zollikofen May 17, 2021 2h\n",
      "QUERY:  wind speed in Zollikofen May 17, 2021 2h\n",
      "QUERY:  Moon Phase calculatorMay 17, 2021 2h\n"
     ]
    },
    {
     "name": "stderr",
     "output_type": "stream",
     "text": [
      "\r",
      "  5%|███▊                                                                          | 94/1940 [29:44<8:18:45, 16.21s/it]"
     ]
    },
    {
     "name": "stdout",
     "output_type": "stream",
     "text": [
      "QUERY:  Precipitation amount in Zollikofen May 17, 2021 3h\n",
      "QUERY:  temperature in Zollikofen May 17, 2021 3h\n",
      "QUERY:  humidity in Zollikofen May 17, 2021 3h\n",
      "QUERY:  wind speed in Zollikofen May 17, 2021 3h\n",
      "QUERY:  Moon Phase calculatorMay 17, 2021 3h\n"
     ]
    },
    {
     "name": "stderr",
     "output_type": "stream",
     "text": [
      "\r",
      "  5%|███▊                                                                          | 95/1940 [30:00<8:17:43, 16.19s/it]"
     ]
    },
    {
     "name": "stdout",
     "output_type": "stream",
     "text": [
      "QUERY:  Precipitation amount in Zollikofen May 17, 2021 4h\n",
      "QUERY:  temperature in Zollikofen May 17, 2021 4h\n",
      "QUERY:  humidity in Zollikofen May 17, 2021 4h\n",
      "QUERY:  wind speed in Zollikofen May 17, 2021 4h\n",
      "QUERY:  Moon Phase calculatorMay 17, 2021 4h\n"
     ]
    },
    {
     "name": "stderr",
     "output_type": "stream",
     "text": [
      "\r",
      "  5%|███▊                                                                          | 96/1940 [30:17<8:26:02, 16.47s/it]"
     ]
    },
    {
     "name": "stdout",
     "output_type": "stream",
     "text": [
      "QUERY:  Precipitation amount in Zollikofen May 17, 2021 5h\n",
      "QUERY:  temperature in Zollikofen May 17, 2021 5h\n",
      "QUERY:  humidity in Zollikofen May 17, 2021 5h\n",
      "QUERY:  wind speed in Zollikofen May 17, 2021 5h\n",
      "QUERY:  Moon Phase calculatorMay 17, 2021 5h\n"
     ]
    },
    {
     "name": "stderr",
     "output_type": "stream",
     "text": [
      "\r",
      "  5%|███▉                                                                          | 97/1940 [30:37<9:01:29, 17.63s/it]"
     ]
    },
    {
     "name": "stdout",
     "output_type": "stream",
     "text": [
      "QUERY:  Precipitation amount in Zollikofen May 17, 2021 6h\n",
      "QUERY:  temperature in Zollikofen May 17, 2021 6h\n",
      "QUERY:  humidity in Zollikofen May 17, 2021 6h\n",
      "QUERY:  wind speed in Zollikofen May 17, 2021 6h\n",
      "QUERY:  Moon Phase calculatorMay 17, 2021 6h\n"
     ]
    },
    {
     "name": "stderr",
     "output_type": "stream",
     "text": [
      "\r",
      "  5%|███▉                                                                          | 98/1940 [30:56<9:16:22, 18.12s/it]"
     ]
    },
    {
     "name": "stdout",
     "output_type": "stream",
     "text": [
      "QUERY:  Precipitation amount in Zollikofen May 17, 2021 7h\n",
      "QUERY:  temperature in Zollikofen May 17, 2021 7h\n",
      "QUERY:  humidity in Zollikofen May 17, 2021 7h\n",
      "QUERY:  wind speed in Zollikofen May 17, 2021 7h\n",
      "QUERY:  Moon Phase calculatorMay 17, 2021 7h\n"
     ]
    },
    {
     "name": "stderr",
     "output_type": "stream",
     "text": [
      "\r",
      "  5%|███▉                                                                          | 99/1940 [31:16<9:31:49, 18.64s/it]"
     ]
    },
    {
     "name": "stdout",
     "output_type": "stream",
     "text": [
      "QUERY:  Precipitation amount in Zollikofen May 17, 2021 8h\n",
      "QUERY:  temperature in Zollikofen May 17, 2021 8h\n",
      "QUERY:  humidity in Zollikofen May 17, 2021 8h\n",
      "QUERY:  wind speed in Zollikofen May 17, 2021 8h\n",
      "QUERY:  Moon Phase calculatorMay 17, 2021 8h\n"
     ]
    },
    {
     "name": "stderr",
     "output_type": "stream",
     "text": [
      "\r",
      "  5%|███▉                                                                         | 100/1940 [31:37<9:51:39, 19.29s/it]"
     ]
    },
    {
     "name": "stdout",
     "output_type": "stream",
     "text": [
      "QUERY:  Precipitation amount in Zollikofen May 17, 2021 9h\n",
      "QUERY:  temperature in Zollikofen May 17, 2021 9h\n",
      "QUERY:  humidity in Zollikofen May 17, 2021 9h\n",
      "QUERY:  wind speed in Zollikofen May 17, 2021 9h\n",
      "QUERY:  Moon Phase calculatorMay 17, 2021 9h\n",
      "(5530, 7)\n"
     ]
    },
    {
     "data": {
      "text/html": [
       "<div>\n",
       "<style scoped>\n",
       "    .dataframe tbody tr th:only-of-type {\n",
       "        vertical-align: middle;\n",
       "    }\n",
       "\n",
       "    .dataframe tbody tr th {\n",
       "        vertical-align: top;\n",
       "    }\n",
       "\n",
       "    .dataframe thead th {\n",
       "        text-align: right;\n",
       "    }\n",
       "</style>\n",
       "<table border=\"1\" class=\"dataframe\">\n",
       "  <thead>\n",
       "    <tr style=\"text-align: right;\">\n",
       "      <th></th>\n",
       "      <th>date</th>\n",
       "      <th>temperature</th>\n",
       "      <th>humidity</th>\n",
       "      <th>wind speed</th>\n",
       "      <th>Precipitation amount</th>\n",
       "      <th>query</th>\n",
       "      <th>Moon Phase calculator</th>\n",
       "    </tr>\n",
       "  </thead>\n",
       "  <tbody>\n",
       "    <tr>\n",
       "      <th>8</th>\n",
       "      <td>2021-05-17 08:00:00</td>\n",
       "      <td>8 °C\\n(8:00 am CEST | Monday, May 17, 2021)</td>\n",
       "      <td>average: 76% (71 to 81%)\\n(8:00 am CEST | Mond...</td>\n",
       "      <td>3 m/s\\n(8:00 am CEST | Monday, May 17, 2021)</td>\n",
       "      <td>rain\\n(8:00 am CEST | Monday, May 17, 2021)</td>\n",
       "      <td>Moon Phase calculatorMay 17, 2021 8h</td>\n",
       "      <td>| waxing crescent moon\\n25.12% illuminated</td>\n",
       "    </tr>\n",
       "    <tr>\n",
       "      <th>9</th>\n",
       "      <td>2021-05-17 09:00:00</td>\n",
       "      <td>9 °C\\n(9:00 am CEST | Monday, May 17, 2021)</td>\n",
       "      <td>average: 71% (71%)\\n(9:00 am CEST | Monday, Ma...</td>\n",
       "      <td>4 m/s\\n(9:00 am CEST | Monday, May 17, 2021)</td>\n",
       "      <td>no precipitation\\n(9:00 am CEST | Monday, May ...</td>\n",
       "      <td>Moon Phase calculatorMay 17, 2021 9h</td>\n",
       "      <td>| waxing crescent moon\\n25.48% illuminated</td>\n",
       "    </tr>\n",
       "  </tbody>\n",
       "</table>\n",
       "</div>"
      ],
      "text/plain": [
       "                 date                                  temperature  \\\n",
       "8 2021-05-17 08:00:00  8 °C\\n(8:00 am CEST | Monday, May 17, 2021)   \n",
       "9 2021-05-17 09:00:00  9 °C\\n(9:00 am CEST | Monday, May 17, 2021)   \n",
       "\n",
       "                                            humidity  \\\n",
       "8  average: 76% (71 to 81%)\\n(8:00 am CEST | Mond...   \n",
       "9  average: 71% (71%)\\n(9:00 am CEST | Monday, Ma...   \n",
       "\n",
       "                                     wind speed  \\\n",
       "8  3 m/s\\n(8:00 am CEST | Monday, May 17, 2021)   \n",
       "9  4 m/s\\n(9:00 am CEST | Monday, May 17, 2021)   \n",
       "\n",
       "                                Precipitation amount  \\\n",
       "8        rain\\n(8:00 am CEST | Monday, May 17, 2021)   \n",
       "9  no precipitation\\n(9:00 am CEST | Monday, May ...   \n",
       "\n",
       "                                  query  \\\n",
       "8  Moon Phase calculatorMay 17, 2021 8h   \n",
       "9  Moon Phase calculatorMay 17, 2021 9h   \n",
       "\n",
       "                        Moon Phase calculator  \n",
       "8  | waxing crescent moon\\n25.12% illuminated  \n",
       "9  | waxing crescent moon\\n25.48% illuminated  "
      ]
     },
     "metadata": {},
     "output_type": "display_data"
    },
    {
     "name": "stderr",
     "output_type": "stream",
     "text": [
      "\r",
      "  5%|████                                                                         | 101/1940 [31:57<9:53:37, 19.37s/it]"
     ]
    },
    {
     "name": "stdout",
     "output_type": "stream",
     "text": [
      "QUERY:  Precipitation amount in Zollikofen May 17, 2021 10h\n",
      "QUERY:  temperature in Zollikofen May 17, 2021 10h\n",
      "QUERY:  humidity in Zollikofen May 17, 2021 10h\n",
      "QUERY:  wind speed in Zollikofen May 17, 2021 10h\n",
      "QUERY:  Moon Phase calculatorMay 17, 2021 10h\n"
     ]
    },
    {
     "name": "stderr",
     "output_type": "stream",
     "text": [
      "\r",
      "  5%|████                                                                         | 102/1940 [32:16<9:55:02, 19.42s/it]"
     ]
    },
    {
     "name": "stdout",
     "output_type": "stream",
     "text": [
      "QUERY:  Precipitation amount in Zollikofen May 17, 2021 11h\n",
      "QUERY:  temperature in Zollikofen May 17, 2021 11h\n",
      "QUERY:  humidity in Zollikofen May 17, 2021 11h\n",
      "QUERY:  wind speed in Zollikofen May 17, 2021 11h\n",
      "QUERY:  Moon Phase calculatorMay 17, 2021 11h\n"
     ]
    },
    {
     "name": "stderr",
     "output_type": "stream",
     "text": [
      "\r",
      "  5%|████                                                                        | 103/1940 [32:38<10:14:43, 20.08s/it]"
     ]
    },
    {
     "name": "stdout",
     "output_type": "stream",
     "text": [
      "QUERY:  Precipitation amount in Zollikofen May 17, 2021 12h\n",
      "QUERY:  temperature in Zollikofen May 17, 2021 12h\n",
      "QUERY:  humidity in Zollikofen May 17, 2021 12h\n",
      "QUERY:  wind speed in Zollikofen May 17, 2021 12h\n",
      "QUERY:  Moon Phase calculatorMay 17, 2021 12h\n"
     ]
    },
    {
     "name": "stderr",
     "output_type": "stream",
     "text": [
      "\r",
      "  5%|████                                                                        | 104/1940 [32:58<10:13:13, 20.04s/it]"
     ]
    },
    {
     "name": "stdout",
     "output_type": "stream",
     "text": [
      "QUERY:  Precipitation amount in Zollikofen May 17, 2021 13h\n",
      "QUERY:  temperature in Zollikofen May 17, 2021 13h\n",
      "QUERY:  humidity in Zollikofen May 17, 2021 13h\n",
      "QUERY:  wind speed in Zollikofen May 17, 2021 13h\n",
      "QUERY:  Moon Phase calculatorMay 17, 2021 13h\n"
     ]
    },
    {
     "name": "stderr",
     "output_type": "stream",
     "text": [
      "\r",
      "  5%|████                                                                        | 105/1940 [33:18<10:11:32, 20.00s/it]"
     ]
    },
    {
     "name": "stdout",
     "output_type": "stream",
     "text": [
      "QUERY:  Precipitation amount in Zollikofen May 17, 2021 14h\n",
      "QUERY:  temperature in Zollikofen May 17, 2021 14h\n",
      "QUERY:  humidity in Zollikofen May 17, 2021 14h\n",
      "QUERY:  wind speed in Zollikofen May 17, 2021 14h\n",
      "QUERY:  Moon Phase calculatorMay 17, 2021 14h\n"
     ]
    },
    {
     "name": "stderr",
     "output_type": "stream",
     "text": [
      "\r",
      "  5%|████▏                                                                       | 106/1940 [33:38<10:14:29, 20.10s/it]"
     ]
    },
    {
     "name": "stdout",
     "output_type": "stream",
     "text": [
      "QUERY:  Precipitation amount in Zollikofen May 17, 2021 15h\n",
      "QUERY:  temperature in Zollikofen May 17, 2021 15h\n",
      "QUERY:  humidity in Zollikofen May 17, 2021 15h\n",
      "QUERY:  wind speed in Zollikofen May 17, 2021 15h\n",
      "QUERY:  Moon Phase calculatorMay 17, 2021 15h\n"
     ]
    },
    {
     "name": "stderr",
     "output_type": "stream",
     "text": [
      "\r",
      "  6%|████▏                                                                       | 107/1940 [33:58<10:12:09, 20.04s/it]"
     ]
    },
    {
     "name": "stdout",
     "output_type": "stream",
     "text": [
      "QUERY:  Precipitation amount in Zollikofen May 17, 2021 16h\n",
      "QUERY:  temperature in Zollikofen May 17, 2021 16h\n",
      "QUERY:  humidity in Zollikofen May 17, 2021 16h\n",
      "QUERY:  wind speed in Zollikofen May 17, 2021 16h\n",
      "QUERY:  Moon Phase calculatorMay 17, 2021 16h\n"
     ]
    },
    {
     "name": "stderr",
     "output_type": "stream",
     "text": [
      "\r",
      "  6%|████▏                                                                       | 108/1940 [34:18<10:08:22, 19.92s/it]"
     ]
    },
    {
     "name": "stdout",
     "output_type": "stream",
     "text": [
      "QUERY:  Precipitation amount in Zollikofen May 17, 2021 17h\n",
      "QUERY:  temperature in Zollikofen May 17, 2021 17h\n",
      "QUERY:  humidity in Zollikofen May 17, 2021 17h\n",
      "QUERY:  wind speed in Zollikofen May 17, 2021 17h\n",
      "QUERY:  Moon Phase calculatorMay 17, 2021 17h\n"
     ]
    },
    {
     "name": "stderr",
     "output_type": "stream",
     "text": [
      "\r",
      "  6%|████▎                                                                       | 109/1940 [34:38<10:16:01, 20.19s/it]"
     ]
    },
    {
     "name": "stdout",
     "output_type": "stream",
     "text": [
      "QUERY:  Precipitation amount in Zollikofen May 17, 2021 18h\n",
      "QUERY:  temperature in Zollikofen May 17, 2021 18h\n",
      "QUERY:  humidity in Zollikofen May 17, 2021 18h\n",
      "QUERY:  wind speed in Zollikofen May 17, 2021 18h\n",
      "QUERY:  Moon Phase calculatorMay 17, 2021 18h\n"
     ]
    },
    {
     "name": "stderr",
     "output_type": "stream",
     "text": [
      "\r",
      "  6%|████▎                                                                       | 110/1940 [34:58<10:10:35, 20.02s/it]"
     ]
    },
    {
     "name": "stdout",
     "output_type": "stream",
     "text": [
      "QUERY:  Precipitation amount in Zollikofen May 17, 2021 19h\n",
      "QUERY:  temperature in Zollikofen May 17, 2021 19h\n",
      "QUERY:  humidity in Zollikofen May 17, 2021 19h\n",
      "QUERY:  wind speed in Zollikofen May 17, 2021 19h\n",
      "QUERY:  Moon Phase calculatorMay 17, 2021 19h\n",
      "(5540, 7)\n"
     ]
    },
    {
     "data": {
      "text/html": [
       "<div>\n",
       "<style scoped>\n",
       "    .dataframe tbody tr th:only-of-type {\n",
       "        vertical-align: middle;\n",
       "    }\n",
       "\n",
       "    .dataframe tbody tr th {\n",
       "        vertical-align: top;\n",
       "    }\n",
       "\n",
       "    .dataframe thead th {\n",
       "        text-align: right;\n",
       "    }\n",
       "</style>\n",
       "<table border=\"1\" class=\"dataframe\">\n",
       "  <thead>\n",
       "    <tr style=\"text-align: right;\">\n",
       "      <th></th>\n",
       "      <th>date</th>\n",
       "      <th>temperature</th>\n",
       "      <th>humidity</th>\n",
       "      <th>wind speed</th>\n",
       "      <th>Precipitation amount</th>\n",
       "      <th>query</th>\n",
       "      <th>Moon Phase calculator</th>\n",
       "    </tr>\n",
       "  </thead>\n",
       "  <tbody>\n",
       "    <tr>\n",
       "      <th>8</th>\n",
       "      <td>2021-05-17 18:00:00</td>\n",
       "      <td>12 °C\\n(6:00 pm CEST | Monday, May 17, 2021)</td>\n",
       "      <td>average: 60% (58 to 62%)\\n(6:00 pm CEST | Mond...</td>\n",
       "      <td>6 m/s\\n(6:00 pm CEST | Monday, May 17, 2021)</td>\n",
       "      <td>no precipitation\\n(6:00 pm CEST | Monday, May ...</td>\n",
       "      <td>Moon Phase calculatorMay 17, 2021 18h</td>\n",
       "      <td>| waxing crescent moon\\n28.82% illuminated</td>\n",
       "    </tr>\n",
       "    <tr>\n",
       "      <th>9</th>\n",
       "      <td>2021-05-17 19:00:00</td>\n",
       "      <td>11 °C\\n(7:00 pm CEST | Monday, May 17, 2021)</td>\n",
       "      <td>average: 62% (62%)\\n(7:00 pm CEST | Monday, Ma...</td>\n",
       "      <td>5 m/s\\n(7:00 pm CEST | Monday, May 17, 2021)</td>\n",
       "      <td>rain\\n(7:00 pm CEST | Monday, May 17, 2021)</td>\n",
       "      <td>Moon Phase calculatorMay 17, 2021 19h</td>\n",
       "      <td>| waxing crescent moon\\n29.20% illuminated</td>\n",
       "    </tr>\n",
       "  </tbody>\n",
       "</table>\n",
       "</div>"
      ],
      "text/plain": [
       "                 date                                   temperature  \\\n",
       "8 2021-05-17 18:00:00  12 °C\\n(6:00 pm CEST | Monday, May 17, 2021)   \n",
       "9 2021-05-17 19:00:00  11 °C\\n(7:00 pm CEST | Monday, May 17, 2021)   \n",
       "\n",
       "                                            humidity  \\\n",
       "8  average: 60% (58 to 62%)\\n(6:00 pm CEST | Mond...   \n",
       "9  average: 62% (62%)\\n(7:00 pm CEST | Monday, Ma...   \n",
       "\n",
       "                                     wind speed  \\\n",
       "8  6 m/s\\n(6:00 pm CEST | Monday, May 17, 2021)   \n",
       "9  5 m/s\\n(7:00 pm CEST | Monday, May 17, 2021)   \n",
       "\n",
       "                                Precipitation amount  \\\n",
       "8  no precipitation\\n(6:00 pm CEST | Monday, May ...   \n",
       "9        rain\\n(7:00 pm CEST | Monday, May 17, 2021)   \n",
       "\n",
       "                                   query  \\\n",
       "8  Moon Phase calculatorMay 17, 2021 18h   \n",
       "9  Moon Phase calculatorMay 17, 2021 19h   \n",
       "\n",
       "                        Moon Phase calculator  \n",
       "8  | waxing crescent moon\\n28.82% illuminated  \n",
       "9  | waxing crescent moon\\n29.20% illuminated  "
      ]
     },
     "metadata": {},
     "output_type": "display_data"
    },
    {
     "name": "stderr",
     "output_type": "stream",
     "text": [
      "\r",
      "  6%|████▎                                                                       | 111/1940 [35:18<10:06:27, 19.89s/it]"
     ]
    },
    {
     "name": "stdout",
     "output_type": "stream",
     "text": [
      "QUERY:  Precipitation amount in Zollikofen May 17, 2021 20h\n",
      "QUERY:  temperature in Zollikofen May 17, 2021 20h\n",
      "QUERY:  humidity in Zollikofen May 17, 2021 20h\n",
      "QUERY:  wind speed in Zollikofen May 17, 2021 20h\n",
      "QUERY:  Moon Phase calculatorMay 17, 2021 20h\n"
     ]
    },
    {
     "name": "stderr",
     "output_type": "stream",
     "text": [
      "\r",
      "  6%|████▍                                                                        | 112/1940 [35:35<9:46:10, 19.24s/it]"
     ]
    },
    {
     "name": "stdout",
     "output_type": "stream",
     "text": [
      "QUERY:  Precipitation amount in Zollikofen May 17, 2021 21h\n",
      "QUERY:  temperature in Zollikofen May 17, 2021 21h\n",
      "QUERY:  humidity in Zollikofen May 17, 2021 21h\n",
      "QUERY:  wind speed in Zollikofen May 17, 2021 21h\n",
      "QUERY:  Moon Phase calculatorMay 17, 2021 21h\n"
     ]
    },
    {
     "name": "stderr",
     "output_type": "stream",
     "text": [
      "\r",
      "  6%|████▍                                                                        | 113/1940 [35:55<9:54:13, 19.51s/it]"
     ]
    },
    {
     "name": "stdout",
     "output_type": "stream",
     "text": [
      "QUERY:  Precipitation amount in Zollikofen May 17, 2021 22h\n",
      "QUERY:  temperature in Zollikofen May 17, 2021 22h\n",
      "QUERY:  humidity in Zollikofen May 17, 2021 22h\n",
      "QUERY:  wind speed in Zollikofen May 17, 2021 22h\n",
      "QUERY:  Moon Phase calculatorMay 17, 2021 22h\n"
     ]
    },
    {
     "name": "stderr",
     "output_type": "stream",
     "text": [
      "\r",
      "  6%|████▍                                                                       | 114/1940 [36:16<10:00:01, 19.72s/it]"
     ]
    },
    {
     "name": "stdout",
     "output_type": "stream",
     "text": [
      "QUERY:  Precipitation amount in Zollikofen May 17, 2021 23h\n",
      "QUERY:  temperature in Zollikofen May 17, 2021 23h\n",
      "QUERY:  humidity in Zollikofen May 17, 2021 23h\n",
      "QUERY:  wind speed in Zollikofen May 17, 2021 23h\n",
      "QUERY:  Moon Phase calculatorMay 17, 2021 23h\n"
     ]
    },
    {
     "name": "stderr",
     "output_type": "stream",
     "text": [
      "\r",
      "  6%|████▌                                                                        | 115/1940 [36:35<9:59:28, 19.71s/it]"
     ]
    },
    {
     "name": "stdout",
     "output_type": "stream",
     "text": [
      "QUERY:  Precipitation amount in Zollikofen May 18, 2021 0h\n",
      "QUERY:  temperature in Zollikofen May 18, 2021 0h\n",
      "QUERY:  humidity in Zollikofen May 18, 2021 0h\n",
      "QUERY:  wind speed in Zollikofen May 18, 2021 0h\n",
      "QUERY:  Moon Phase calculatorMay 18, 2021 0h\n"
     ]
    },
    {
     "name": "stderr",
     "output_type": "stream",
     "text": [
      "\r",
      "  6%|████▌                                                                        | 116/1940 [36:55<9:53:54, 19.54s/it]"
     ]
    },
    {
     "name": "stdout",
     "output_type": "stream",
     "text": [
      "QUERY:  Precipitation amount in Zollikofen May 18, 2021 1h\n",
      "QUERY:  temperature in Zollikofen May 18, 2021 1h\n",
      "QUERY:  humidity in Zollikofen May 18, 2021 1h\n",
      "QUERY:  wind speed in Zollikofen May 18, 2021 1h\n",
      "QUERY:  Moon Phase calculatorMay 18, 2021 1h\n"
     ]
    },
    {
     "name": "stderr",
     "output_type": "stream",
     "text": [
      "\r",
      "  6%|████▌                                                                       | 117/1940 [37:16<10:08:29, 20.03s/it]"
     ]
    },
    {
     "name": "stdout",
     "output_type": "stream",
     "text": [
      "QUERY:  Precipitation amount in Zollikofen May 18, 2021 2h\n",
      "QUERY:  temperature in Zollikofen May 18, 2021 2h\n",
      "QUERY:  humidity in Zollikofen May 18, 2021 2h\n",
      "QUERY:  wind speed in Zollikofen May 18, 2021 2h\n",
      "QUERY:  Moon Phase calculatorMay 18, 2021 2h\n"
     ]
    },
    {
     "name": "stderr",
     "output_type": "stream",
     "text": [
      "\r",
      "  6%|████▌                                                                       | 118/1940 [37:35<10:00:19, 19.77s/it]"
     ]
    },
    {
     "name": "stdout",
     "output_type": "stream",
     "text": [
      "QUERY:  Precipitation amount in Zollikofen May 18, 2021 3h\n",
      "QUERY:  temperature in Zollikofen May 18, 2021 3h\n",
      "QUERY:  humidity in Zollikofen May 18, 2021 3h\n",
      "QUERY:  wind speed in Zollikofen May 18, 2021 3h\n",
      "QUERY:  Moon Phase calculatorMay 18, 2021 3h\n"
     ]
    },
    {
     "name": "stderr",
     "output_type": "stream",
     "text": [
      "\r",
      "  6%|████▋                                                                        | 119/1940 [37:54<9:58:31, 19.72s/it]"
     ]
    },
    {
     "name": "stdout",
     "output_type": "stream",
     "text": [
      "QUERY:  Precipitation amount in Zollikofen May 18, 2021 4h\n",
      "QUERY:  temperature in Zollikofen May 18, 2021 4h\n",
      "QUERY:  humidity in Zollikofen May 18, 2021 4h\n",
      "QUERY:  wind speed in Zollikofen May 18, 2021 4h\n",
      "QUERY:  Moon Phase calculatorMay 18, 2021 4h\n"
     ]
    },
    {
     "name": "stderr",
     "output_type": "stream",
     "text": [
      "\r",
      "  6%|████▊                                                                        | 120/1940 [38:14<9:55:27, 19.63s/it]"
     ]
    },
    {
     "name": "stdout",
     "output_type": "stream",
     "text": [
      "QUERY:  Precipitation amount in Zollikofen May 18, 2021 5h\n",
      "QUERY:  temperature in Zollikofen May 18, 2021 5h\n",
      "QUERY:  humidity in Zollikofen May 18, 2021 5h\n",
      "QUERY:  wind speed in Zollikofen May 18, 2021 5h\n",
      "QUERY:  Moon Phase calculatorMay 18, 2021 5h\n",
      "(5550, 7)\n"
     ]
    },
    {
     "data": {
      "text/html": [
       "<div>\n",
       "<style scoped>\n",
       "    .dataframe tbody tr th:only-of-type {\n",
       "        vertical-align: middle;\n",
       "    }\n",
       "\n",
       "    .dataframe tbody tr th {\n",
       "        vertical-align: top;\n",
       "    }\n",
       "\n",
       "    .dataframe thead th {\n",
       "        text-align: right;\n",
       "    }\n",
       "</style>\n",
       "<table border=\"1\" class=\"dataframe\">\n",
       "  <thead>\n",
       "    <tr style=\"text-align: right;\">\n",
       "      <th></th>\n",
       "      <th>date</th>\n",
       "      <th>temperature</th>\n",
       "      <th>humidity</th>\n",
       "      <th>wind speed</th>\n",
       "      <th>Precipitation amount</th>\n",
       "      <th>query</th>\n",
       "      <th>Moon Phase calculator</th>\n",
       "    </tr>\n",
       "  </thead>\n",
       "  <tbody>\n",
       "    <tr>\n",
       "      <th>8</th>\n",
       "      <td>2021-05-18 04:00:00</td>\n",
       "      <td>8 °C\\n(4:00 am CEST | Tuesday, May 18, 2021)</td>\n",
       "      <td>average: 76% (76%)\\n(4:00 am CEST | Tuesday, M...</td>\n",
       "      <td>2 m/s\\n(4:00 am CEST | Tuesday, May 18, 2021)</td>\n",
       "      <td>no precipitation\\n(4:00 am CEST | Tuesday, May...</td>\n",
       "      <td>Moon Phase calculatorMay 18, 2021 4h</td>\n",
       "      <td>| waxing crescent moon\\n32.69% illuminated</td>\n",
       "    </tr>\n",
       "    <tr>\n",
       "      <th>9</th>\n",
       "      <td>2021-05-18 05:00:00</td>\n",
       "      <td>8 °C\\n(5:00 am CEST | Tuesday, May 18, 2021)</td>\n",
       "      <td>average: 79% (76 to 81%)\\n(5:00 am CEST | Tues...</td>\n",
       "      <td>2 m/s\\n(5:00 am CEST | Tuesday, May 18, 2021)</td>\n",
       "      <td>no precipitation\\n(5:00 am CEST | Tuesday, May...</td>\n",
       "      <td>Moon Phase calculatorMay 18, 2021 5h</td>\n",
       "      <td>| waxing crescent moon\\n33.09% illuminated</td>\n",
       "    </tr>\n",
       "  </tbody>\n",
       "</table>\n",
       "</div>"
      ],
      "text/plain": [
       "                 date                                   temperature  \\\n",
       "8 2021-05-18 04:00:00  8 °C\\n(4:00 am CEST | Tuesday, May 18, 2021)   \n",
       "9 2021-05-18 05:00:00  8 °C\\n(5:00 am CEST | Tuesday, May 18, 2021)   \n",
       "\n",
       "                                            humidity  \\\n",
       "8  average: 76% (76%)\\n(4:00 am CEST | Tuesday, M...   \n",
       "9  average: 79% (76 to 81%)\\n(5:00 am CEST | Tues...   \n",
       "\n",
       "                                      wind speed  \\\n",
       "8  2 m/s\\n(4:00 am CEST | Tuesday, May 18, 2021)   \n",
       "9  2 m/s\\n(5:00 am CEST | Tuesday, May 18, 2021)   \n",
       "\n",
       "                                Precipitation amount  \\\n",
       "8  no precipitation\\n(4:00 am CEST | Tuesday, May...   \n",
       "9  no precipitation\\n(5:00 am CEST | Tuesday, May...   \n",
       "\n",
       "                                  query  \\\n",
       "8  Moon Phase calculatorMay 18, 2021 4h   \n",
       "9  Moon Phase calculatorMay 18, 2021 5h   \n",
       "\n",
       "                        Moon Phase calculator  \n",
       "8  | waxing crescent moon\\n32.69% illuminated  \n",
       "9  | waxing crescent moon\\n33.09% illuminated  "
      ]
     },
     "metadata": {},
     "output_type": "display_data"
    },
    {
     "name": "stderr",
     "output_type": "stream",
     "text": [
      "\r",
      "  6%|████▋                                                                       | 121/1940 [38:37<10:25:46, 20.64s/it]"
     ]
    },
    {
     "name": "stdout",
     "output_type": "stream",
     "text": [
      "QUERY:  Precipitation amount in Zollikofen May 18, 2021 6h\n",
      "QUERY:  temperature in Zollikofen May 18, 2021 6h\n",
      "QUERY:  humidity in Zollikofen May 18, 2021 6h\n",
      "QUERY:  wind speed in Zollikofen May 18, 2021 6h\n",
      "QUERY:  Moon Phase calculatorMay 18, 2021 6h\n"
     ]
    },
    {
     "name": "stderr",
     "output_type": "stream",
     "text": [
      "\r",
      "  6%|████▊                                                                       | 122/1940 [39:02<11:04:21, 21.93s/it]"
     ]
    },
    {
     "name": "stdout",
     "output_type": "stream",
     "text": [
      "QUERY:  Precipitation amount in Zollikofen May 18, 2021 7h\n",
      "QUERY:  temperature in Zollikofen May 18, 2021 7h\n",
      "QUERY:  humidity in Zollikofen May 18, 2021 7h\n",
      "QUERY:  wind speed in Zollikofen May 18, 2021 7h\n",
      "QUERY:  Moon Phase calculatorMay 18, 2021 7h\n"
     ]
    },
    {
     "name": "stderr",
     "output_type": "stream",
     "text": [
      "\r",
      "  6%|████▊                                                                       | 123/1940 [39:21<10:41:32, 21.18s/it]"
     ]
    },
    {
     "name": "stdout",
     "output_type": "stream",
     "text": [
      "QUERY:  Precipitation amount in Zollikofen May 18, 2021 8h\n",
      "QUERY:  temperature in Zollikofen May 18, 2021 8h\n",
      "QUERY:  humidity in Zollikofen May 18, 2021 8h\n",
      "QUERY:  wind speed in Zollikofen May 18, 2021 8h\n",
      "QUERY:  Moon Phase calculatorMay 18, 2021 8h\n"
     ]
    },
    {
     "name": "stderr",
     "output_type": "stream",
     "text": [
      "\r",
      "  6%|████▊                                                                       | 124/1940 [39:41<10:29:01, 20.78s/it]"
     ]
    },
    {
     "name": "stdout",
     "output_type": "stream",
     "text": [
      "QUERY:  Precipitation amount in Zollikofen May 18, 2021 9h\n",
      "QUERY:  temperature in Zollikofen May 18, 2021 9h\n",
      "QUERY:  humidity in Zollikofen May 18, 2021 9h\n",
      "QUERY:  wind speed in Zollikofen May 18, 2021 9h\n",
      "QUERY:  Moon Phase calculatorMay 18, 2021 9h\n"
     ]
    },
    {
     "name": "stderr",
     "output_type": "stream",
     "text": [
      "\r",
      "  6%|████▉                                                                       | 125/1940 [40:01<10:23:31, 20.61s/it]"
     ]
    },
    {
     "name": "stdout",
     "output_type": "stream",
     "text": [
      "QUERY:  Precipitation amount in Zollikofen May 18, 2021 10h\n",
      "QUERY:  temperature in Zollikofen May 18, 2021 10h\n",
      "QUERY:  humidity in Zollikofen May 18, 2021 10h\n",
      "QUERY:  wind speed in Zollikofen May 18, 2021 10h\n",
      "QUERY:  Moon Phase calculatorMay 18, 2021 10h\n"
     ]
    },
    {
     "name": "stderr",
     "output_type": "stream",
     "text": [
      "\r",
      "  6%|████▉                                                                       | 126/1940 [40:23<10:29:09, 20.81s/it]"
     ]
    },
    {
     "name": "stdout",
     "output_type": "stream",
     "text": [
      "QUERY:  Precipitation amount in Zollikofen May 18, 2021 11h\n",
      "QUERY:  temperature in Zollikofen May 18, 2021 11h\n",
      "QUERY:  humidity in Zollikofen May 18, 2021 11h\n",
      "QUERY:  wind speed in Zollikofen May 18, 2021 11h\n",
      "QUERY:  Moon Phase calculatorMay 18, 2021 11h\n"
     ]
    },
    {
     "name": "stderr",
     "output_type": "stream",
     "text": [
      "\r",
      "  7%|████▉                                                                       | 127/1940 [40:44<10:34:00, 20.98s/it]"
     ]
    },
    {
     "name": "stdout",
     "output_type": "stream",
     "text": [
      "QUERY:  Precipitation amount in Zollikofen May 18, 2021 12h\n",
      "QUERY:  temperature in Zollikofen May 18, 2021 12h\n",
      "QUERY:  humidity in Zollikofen May 18, 2021 12h\n",
      "QUERY:  wind speed in Zollikofen May 18, 2021 12h\n",
      "QUERY:  Moon Phase calculatorMay 18, 2021 12h\n"
     ]
    },
    {
     "name": "stderr",
     "output_type": "stream",
     "text": [
      "\r",
      "  7%|█████                                                                       | 128/1940 [41:05<10:35:21, 21.04s/it]"
     ]
    },
    {
     "name": "stdout",
     "output_type": "stream",
     "text": [
      "QUERY:  Precipitation amount in Zollikofen May 18, 2021 13h\n",
      "QUERY:  temperature in Zollikofen May 18, 2021 13h\n",
      "QUERY:  humidity in Zollikofen May 18, 2021 13h\n",
      "QUERY:  wind speed in Zollikofen May 18, 2021 13h\n",
      "QUERY:  Moon Phase calculatorMay 18, 2021 13h\n"
     ]
    },
    {
     "name": "stderr",
     "output_type": "stream",
     "text": [
      "\r",
      "  7%|█████                                                                       | 129/1940 [41:25<10:27:59, 20.81s/it]"
     ]
    },
    {
     "name": "stdout",
     "output_type": "stream",
     "text": [
      "QUERY:  Precipitation amount in Zollikofen May 18, 2021 14h\n",
      "QUERY:  temperature in Zollikofen May 18, 2021 14h\n",
      "QUERY:  humidity in Zollikofen May 18, 2021 14h\n",
      "QUERY:  wind speed in Zollikofen May 18, 2021 14h\n",
      "QUERY:  Moon Phase calculatorMay 18, 2021 14h\n"
     ]
    },
    {
     "name": "stderr",
     "output_type": "stream",
     "text": [
      "\r",
      "  7%|█████                                                                       | 130/1940 [41:47<10:34:08, 21.02s/it]"
     ]
    },
    {
     "name": "stdout",
     "output_type": "stream",
     "text": [
      "QUERY:  Precipitation amount in Zollikofen May 18, 2021 15h\n",
      "QUERY:  temperature in Zollikofen May 18, 2021 15h\n",
      "QUERY:  humidity in Zollikofen May 18, 2021 15h\n",
      "QUERY:  wind speed in Zollikofen May 18, 2021 15h\n",
      "QUERY:  Moon Phase calculatorMay 18, 2021 15h\n",
      "(5560, 7)\n"
     ]
    },
    {
     "data": {
      "text/html": [
       "<div>\n",
       "<style scoped>\n",
       "    .dataframe tbody tr th:only-of-type {\n",
       "        vertical-align: middle;\n",
       "    }\n",
       "\n",
       "    .dataframe tbody tr th {\n",
       "        vertical-align: top;\n",
       "    }\n",
       "\n",
       "    .dataframe thead th {\n",
       "        text-align: right;\n",
       "    }\n",
       "</style>\n",
       "<table border=\"1\" class=\"dataframe\">\n",
       "  <thead>\n",
       "    <tr style=\"text-align: right;\">\n",
       "      <th></th>\n",
       "      <th>date</th>\n",
       "      <th>temperature</th>\n",
       "      <th>humidity</th>\n",
       "      <th>wind speed</th>\n",
       "      <th>Precipitation amount</th>\n",
       "      <th>query</th>\n",
       "      <th>Moon Phase calculator</th>\n",
       "    </tr>\n",
       "  </thead>\n",
       "  <tbody>\n",
       "    <tr>\n",
       "      <th>8</th>\n",
       "      <td>2021-05-18 14:00:00</td>\n",
       "      <td>14 °C\\n(2:00 pm CEST | Tuesday, May 18, 2021)</td>\n",
       "      <td>average: 46% (44 to 48%)\\n(2:00 pm CEST | Tues...</td>\n",
       "      <td>4 m/s\\n(2:00 pm CEST | Tuesday, May 18, 2021)</td>\n",
       "      <td>no precipitation\\n(2:00 pm CEST | Tuesday, May...</td>\n",
       "      <td>Moon Phase calculatorMay 18, 2021 14h</td>\n",
       "      <td>| waxing crescent moon\\n36.73% illuminated</td>\n",
       "    </tr>\n",
       "    <tr>\n",
       "      <th>9</th>\n",
       "      <td>2021-05-18 15:00:00</td>\n",
       "      <td>15 °C\\n(3:00 pm CEST | Tuesday, May 18, 2021)</td>\n",
       "      <td>average: 45% (42 to 48%)\\n(3:00 pm CEST | Tues...</td>\n",
       "      <td>3 m/s\\n(3:00 pm CEST | Tuesday, May 18, 2021)</td>\n",
       "      <td>no precipitation\\n(3:00 pm CEST | Tuesday, May...</td>\n",
       "      <td>Moon Phase calculatorMay 18, 2021 15h</td>\n",
       "      <td>| waxing crescent moon\\n37.14% illuminated</td>\n",
       "    </tr>\n",
       "  </tbody>\n",
       "</table>\n",
       "</div>"
      ],
      "text/plain": [
       "                 date                                    temperature  \\\n",
       "8 2021-05-18 14:00:00  14 °C\\n(2:00 pm CEST | Tuesday, May 18, 2021)   \n",
       "9 2021-05-18 15:00:00  15 °C\\n(3:00 pm CEST | Tuesday, May 18, 2021)   \n",
       "\n",
       "                                            humidity  \\\n",
       "8  average: 46% (44 to 48%)\\n(2:00 pm CEST | Tues...   \n",
       "9  average: 45% (42 to 48%)\\n(3:00 pm CEST | Tues...   \n",
       "\n",
       "                                      wind speed  \\\n",
       "8  4 m/s\\n(2:00 pm CEST | Tuesday, May 18, 2021)   \n",
       "9  3 m/s\\n(3:00 pm CEST | Tuesday, May 18, 2021)   \n",
       "\n",
       "                                Precipitation amount  \\\n",
       "8  no precipitation\\n(2:00 pm CEST | Tuesday, May...   \n",
       "9  no precipitation\\n(3:00 pm CEST | Tuesday, May...   \n",
       "\n",
       "                                   query  \\\n",
       "8  Moon Phase calculatorMay 18, 2021 14h   \n",
       "9  Moon Phase calculatorMay 18, 2021 15h   \n",
       "\n",
       "                        Moon Phase calculator  \n",
       "8  | waxing crescent moon\\n36.73% illuminated  \n",
       "9  | waxing crescent moon\\n37.14% illuminated  "
      ]
     },
     "metadata": {},
     "output_type": "display_data"
    },
    {
     "name": "stderr",
     "output_type": "stream",
     "text": [
      "\r",
      "  7%|█████▏                                                                      | 131/1940 [42:08<10:30:09, 20.90s/it]"
     ]
    },
    {
     "name": "stdout",
     "output_type": "stream",
     "text": [
      "QUERY:  Precipitation amount in Zollikofen May 18, 2021 16h\n",
      "QUERY:  temperature in Zollikofen May 18, 2021 16h\n",
      "QUERY:  humidity in Zollikofen May 18, 2021 16h\n",
      "QUERY:  wind speed in Zollikofen May 18, 2021 16h\n",
      "QUERY:  Moon Phase calculatorMay 18, 2021 16h\n"
     ]
    },
    {
     "name": "stderr",
     "output_type": "stream",
     "text": [
      "\r",
      "  7%|█████▏                                                                      | 132/1940 [42:28<10:28:25, 20.85s/it]"
     ]
    },
    {
     "name": "stdout",
     "output_type": "stream",
     "text": [
      "QUERY:  Precipitation amount in Zollikofen May 18, 2021 17h\n",
      "QUERY:  temperature in Zollikofen May 18, 2021 17h\n",
      "QUERY:  humidity in Zollikofen May 18, 2021 17h\n",
      "QUERY:  wind speed in Zollikofen May 18, 2021 17h\n",
      "QUERY:  Moon Phase calculatorMay 18, 2021 17h\n"
     ]
    },
    {
     "name": "stderr",
     "output_type": "stream",
     "text": [
      "\r",
      "  7%|█████▏                                                                      | 133/1940 [42:49<10:23:08, 20.69s/it]"
     ]
    },
    {
     "name": "stdout",
     "output_type": "stream",
     "text": [
      "QUERY:  Precipitation amount in Zollikofen May 18, 2021 18h\n",
      "QUERY:  temperature in Zollikofen May 18, 2021 18h\n",
      "QUERY:  humidity in Zollikofen May 18, 2021 18h\n",
      "QUERY:  wind speed in Zollikofen May 18, 2021 18h\n",
      "QUERY:  Moon Phase calculatorMay 18, 2021 18h\n"
     ]
    },
    {
     "name": "stderr",
     "output_type": "stream",
     "text": [
      "\r",
      "  7%|█████▏                                                                      | 134/1940 [43:10<10:26:32, 20.82s/it]"
     ]
    },
    {
     "name": "stdout",
     "output_type": "stream",
     "text": [
      "QUERY:  Precipitation amount in Zollikofen May 18, 2021 19h\n",
      "QUERY:  temperature in Zollikofen May 18, 2021 19h\n",
      "QUERY:  humidity in Zollikofen May 18, 2021 19h\n",
      "QUERY:  wind speed in Zollikofen May 18, 2021 19h\n",
      "QUERY:  Moon Phase calculatorMay 18, 2021 19h\n"
     ]
    },
    {
     "name": "stderr",
     "output_type": "stream",
     "text": [
      "\r",
      "  7%|█████▎                                                                      | 135/1940 [43:32<10:40:53, 21.30s/it]"
     ]
    },
    {
     "name": "stdout",
     "output_type": "stream",
     "text": [
      "QUERY:  Precipitation amount in Zollikofen May 18, 2021 20h\n",
      "QUERY:  temperature in Zollikofen May 18, 2021 20h\n",
      "QUERY:  humidity in Zollikofen May 18, 2021 20h\n",
      "QUERY:  wind speed in Zollikofen May 18, 2021 20h\n",
      "QUERY:  Moon Phase calculatorMay 18, 2021 20h\n"
     ]
    },
    {
     "name": "stderr",
     "output_type": "stream",
     "text": [
      "\r",
      "  7%|█████▎                                                                      | 136/1940 [43:54<10:45:05, 21.46s/it]"
     ]
    },
    {
     "name": "stdout",
     "output_type": "stream",
     "text": [
      "QUERY:  Precipitation amount in Zollikofen May 18, 2021 21h\n",
      "QUERY:  temperature in Zollikofen May 18, 2021 21h\n",
      "QUERY:  humidity in Zollikofen May 18, 2021 21h\n",
      "QUERY:  wind speed in Zollikofen May 18, 2021 21h\n",
      "QUERY:  Moon Phase calculatorMay 18, 2021 21h\n"
     ]
    },
    {
     "name": "stderr",
     "output_type": "stream",
     "text": [
      "\r",
      "  7%|█████▎                                                                      | 137/1940 [44:16<10:48:59, 21.60s/it]"
     ]
    },
    {
     "name": "stdout",
     "output_type": "stream",
     "text": [
      "QUERY:  Precipitation amount in Zollikofen May 18, 2021 22h\n",
      "QUERY:  temperature in Zollikofen May 18, 2021 22h\n",
      "QUERY:  humidity in Zollikofen May 18, 2021 22h\n",
      "QUERY:  wind speed in Zollikofen May 18, 2021 22h\n",
      "QUERY:  Moon Phase calculatorMay 18, 2021 22h\n"
     ]
    },
    {
     "name": "stderr",
     "output_type": "stream",
     "text": [
      "\r",
      "  7%|█████▍                                                                      | 138/1940 [44:37<10:46:45, 21.53s/it]"
     ]
    },
    {
     "name": "stdout",
     "output_type": "stream",
     "text": [
      "QUERY:  Precipitation amount in Zollikofen May 18, 2021 23h\n",
      "QUERY:  temperature in Zollikofen May 18, 2021 23h\n",
      "QUERY:  humidity in Zollikofen May 18, 2021 23h\n",
      "QUERY:  wind speed in Zollikofen May 18, 2021 23h\n",
      "QUERY:  Moon Phase calculatorMay 18, 2021 23h\n"
     ]
    },
    {
     "name": "stderr",
     "output_type": "stream",
     "text": [
      "\r",
      "  7%|█████▍                                                                      | 139/1940 [44:59<10:51:47, 21.71s/it]"
     ]
    },
    {
     "name": "stdout",
     "output_type": "stream",
     "text": [
      "QUERY:  Precipitation amount in Zollikofen May 19, 2021 0h\n",
      "QUERY:  temperature in Zollikofen May 19, 2021 0h\n",
      "QUERY:  humidity in Zollikofen May 19, 2021 0h\n",
      "QUERY:  wind speed in Zollikofen May 19, 2021 0h\n",
      "QUERY:  Moon Phase calculatorMay 19, 2021 0h\n"
     ]
    },
    {
     "name": "stderr",
     "output_type": "stream",
     "text": [
      "\r",
      "  7%|█████▍                                                                      | 140/1940 [45:21<10:50:20, 21.68s/it]"
     ]
    },
    {
     "name": "stdout",
     "output_type": "stream",
     "text": [
      "QUERY:  Precipitation amount in Zollikofen May 19, 2021 1h\n",
      "QUERY:  temperature in Zollikofen May 19, 2021 1h\n",
      "QUERY:  humidity in Zollikofen May 19, 2021 1h\n",
      "QUERY:  wind speed in Zollikofen May 19, 2021 1h\n",
      "QUERY:  Moon Phase calculatorMay 19, 2021 1h\n",
      "(5570, 7)\n"
     ]
    },
    {
     "data": {
      "text/html": [
       "<div>\n",
       "<style scoped>\n",
       "    .dataframe tbody tr th:only-of-type {\n",
       "        vertical-align: middle;\n",
       "    }\n",
       "\n",
       "    .dataframe tbody tr th {\n",
       "        vertical-align: top;\n",
       "    }\n",
       "\n",
       "    .dataframe thead th {\n",
       "        text-align: right;\n",
       "    }\n",
       "</style>\n",
       "<table border=\"1\" class=\"dataframe\">\n",
       "  <thead>\n",
       "    <tr style=\"text-align: right;\">\n",
       "      <th></th>\n",
       "      <th>date</th>\n",
       "      <th>temperature</th>\n",
       "      <th>humidity</th>\n",
       "      <th>wind speed</th>\n",
       "      <th>Precipitation amount</th>\n",
       "      <th>query</th>\n",
       "      <th>Moon Phase calculator</th>\n",
       "    </tr>\n",
       "  </thead>\n",
       "  <tbody>\n",
       "    <tr>\n",
       "      <th>8</th>\n",
       "      <td>2021-05-19 00:00:00</td>\n",
       "      <td>8 °C\\n(12:00 am CEST | Wednesday, May 19, 2021)</td>\n",
       "      <td>average: 93% (93%)\\n(12:00 am CEST | Wednesday...</td>\n",
       "      <td>2 m/s\\n(12:00 am CEST | Wednesday, May 19, 2021)</td>\n",
       "      <td>rain\\n(12:00 am CEST | Wednesday, May 19, 2021)</td>\n",
       "      <td>Moon Phase calculatorMay 19, 2021 0h</td>\n",
       "      <td>| waxing crescent moon\\n40.91% illuminated</td>\n",
       "    </tr>\n",
       "    <tr>\n",
       "      <th>9</th>\n",
       "      <td>2021-05-19 01:00:00</td>\n",
       "      <td>8 °C\\n(1:00 am CEST | Wednesday, May 19, 2021)</td>\n",
       "      <td>average: 93% (93%)\\n(1:00 am CEST | Wednesday,...</td>\n",
       "      <td>2 m/s\\n(1:00 am CEST | Wednesday, May 19, 2021)</td>\n",
       "      <td>no precipitation\\n(1:00 am CEST | Wednesday, M...</td>\n",
       "      <td>Moon Phase calculatorMay 19, 2021 1h</td>\n",
       "      <td>| waxing crescent moon\\n41.33% illuminated</td>\n",
       "    </tr>\n",
       "  </tbody>\n",
       "</table>\n",
       "</div>"
      ],
      "text/plain": [
       "                 date                                      temperature  \\\n",
       "8 2021-05-19 00:00:00  8 °C\\n(12:00 am CEST | Wednesday, May 19, 2021)   \n",
       "9 2021-05-19 01:00:00   8 °C\\n(1:00 am CEST | Wednesday, May 19, 2021)   \n",
       "\n",
       "                                            humidity  \\\n",
       "8  average: 93% (93%)\\n(12:00 am CEST | Wednesday...   \n",
       "9  average: 93% (93%)\\n(1:00 am CEST | Wednesday,...   \n",
       "\n",
       "                                         wind speed  \\\n",
       "8  2 m/s\\n(12:00 am CEST | Wednesday, May 19, 2021)   \n",
       "9   2 m/s\\n(1:00 am CEST | Wednesday, May 19, 2021)   \n",
       "\n",
       "                                Precipitation amount  \\\n",
       "8    rain\\n(12:00 am CEST | Wednesday, May 19, 2021)   \n",
       "9  no precipitation\\n(1:00 am CEST | Wednesday, M...   \n",
       "\n",
       "                                  query  \\\n",
       "8  Moon Phase calculatorMay 19, 2021 0h   \n",
       "9  Moon Phase calculatorMay 19, 2021 1h   \n",
       "\n",
       "                        Moon Phase calculator  \n",
       "8  | waxing crescent moon\\n40.91% illuminated  \n",
       "9  | waxing crescent moon\\n41.33% illuminated  "
      ]
     },
     "metadata": {},
     "output_type": "display_data"
    },
    {
     "name": "stderr",
     "output_type": "stream",
     "text": [
      "\r",
      "  7%|█████▌                                                                      | 141/1940 [45:42<10:48:01, 21.61s/it]"
     ]
    },
    {
     "name": "stdout",
     "output_type": "stream",
     "text": [
      "QUERY:  Precipitation amount in Zollikofen May 19, 2021 2h\n",
      "QUERY:  temperature in Zollikofen May 19, 2021 2h\n",
      "QUERY:  humidity in Zollikofen May 19, 2021 2h\n",
      "QUERY:  wind speed in Zollikofen May 19, 2021 2h\n",
      "QUERY:  Moon Phase calculatorMay 19, 2021 2h\n"
     ]
    },
    {
     "name": "stderr",
     "output_type": "stream",
     "text": [
      "\r",
      "  7%|█████▌                                                                      | 142/1940 [46:03<10:40:38, 21.38s/it]"
     ]
    },
    {
     "name": "stdout",
     "output_type": "stream",
     "text": [
      "QUERY:  Precipitation amount in Zollikofen May 19, 2021 3h\n",
      "QUERY:  temperature in Zollikofen May 19, 2021 3h\n",
      "QUERY:  humidity in Zollikofen May 19, 2021 3h\n",
      "QUERY:  wind speed in Zollikofen May 19, 2021 3h\n",
      "QUERY:  Moon Phase calculatorMay 19, 2021 3h\n"
     ]
    },
    {
     "name": "stderr",
     "output_type": "stream",
     "text": [
      "\r",
      "  7%|█████▌                                                                      | 143/1940 [46:27<10:59:48, 22.03s/it]"
     ]
    },
    {
     "name": "stdout",
     "output_type": "stream",
     "text": [
      "QUERY:  Precipitation amount in Zollikofen May 19, 2021 4h\n",
      "QUERY:  temperature in Zollikofen May 19, 2021 4h\n",
      "QUERY:  humidity in Zollikofen May 19, 2021 4h\n",
      "QUERY:  wind speed in Zollikofen May 19, 2021 4h\n",
      "QUERY:  Moon Phase calculatorMay 19, 2021 4h\n"
     ]
    },
    {
     "name": "stderr",
     "output_type": "stream",
     "text": [
      "\r",
      "  7%|█████▋                                                                      | 144/1940 [46:52<11:31:30, 23.10s/it]"
     ]
    },
    {
     "name": "stdout",
     "output_type": "stream",
     "text": [
      "QUERY:  Precipitation amount in Zollikofen May 19, 2021 5h\n",
      "QUERY:  temperature in Zollikofen May 19, 2021 5h\n",
      "QUERY:  humidity in Zollikofen May 19, 2021 5h\n",
      "QUERY:  wind speed in Zollikofen May 19, 2021 5h\n",
      "QUERY:  Moon Phase calculatorMay 19, 2021 5h\n"
     ]
    },
    {
     "name": "stderr",
     "output_type": "stream",
     "text": [
      "\r",
      "  7%|█████▋                                                                      | 145/1940 [47:15<11:27:49, 22.99s/it]"
     ]
    },
    {
     "name": "stdout",
     "output_type": "stream",
     "text": [
      "QUERY:  Precipitation amount in Zollikofen May 19, 2021 6h\n",
      "QUERY:  temperature in Zollikofen May 19, 2021 6h\n",
      "QUERY:  humidity in Zollikofen May 19, 2021 6h\n",
      "QUERY:  wind speed in Zollikofen May 19, 2021 6h\n",
      "QUERY:  Moon Phase calculatorMay 19, 2021 6h\n"
     ]
    },
    {
     "name": "stderr",
     "output_type": "stream",
     "text": [
      "\r",
      "  8%|█████▋                                                                      | 146/1940 [47:36<11:10:25, 22.42s/it]"
     ]
    },
    {
     "name": "stdout",
     "output_type": "stream",
     "text": [
      "QUERY:  Precipitation amount in Zollikofen May 19, 2021 7h\n",
      "QUERY:  temperature in Zollikofen May 19, 2021 7h\n",
      "QUERY:  humidity in Zollikofen May 19, 2021 7h\n",
      "QUERY:  wind speed in Zollikofen May 19, 2021 7h\n",
      "QUERY:  Moon Phase calculatorMay 19, 2021 7h\n"
     ]
    },
    {
     "name": "stderr",
     "output_type": "stream",
     "text": [
      "\r",
      "  8%|█████▊                                                                      | 147/1940 [47:58<10:59:59, 22.09s/it]"
     ]
    },
    {
     "name": "stdout",
     "output_type": "stream",
     "text": [
      "QUERY:  Precipitation amount in Zollikofen May 19, 2021 8h\n",
      "QUERY:  temperature in Zollikofen May 19, 2021 8h\n",
      "QUERY:  humidity in Zollikofen May 19, 2021 8h\n",
      "QUERY:  wind speed in Zollikofen May 19, 2021 8h\n",
      "QUERY:  Moon Phase calculatorMay 19, 2021 8h\n"
     ]
    },
    {
     "name": "stderr",
     "output_type": "stream",
     "text": [
      "\r",
      "  8%|█████▊                                                                      | 148/1940 [48:19<10:55:39, 21.95s/it]"
     ]
    },
    {
     "name": "stdout",
     "output_type": "stream",
     "text": [
      "QUERY:  Precipitation amount in Zollikofen May 19, 2021 9h\n",
      "QUERY:  temperature in Zollikofen May 19, 2021 9h\n",
      "QUERY:  humidity in Zollikofen May 19, 2021 9h\n",
      "QUERY:  wind speed in Zollikofen May 19, 2021 9h\n",
      "QUERY:  Moon Phase calculatorMay 19, 2021 9h\n"
     ]
    },
    {
     "name": "stderr",
     "output_type": "stream",
     "text": [
      "\r",
      "  8%|█████▊                                                                      | 149/1940 [48:40<10:45:35, 21.63s/it]"
     ]
    },
    {
     "name": "stdout",
     "output_type": "stream",
     "text": [
      "QUERY:  Precipitation amount in Zollikofen May 19, 2021 10h\n",
      "QUERY:  temperature in Zollikofen May 19, 2021 10h\n",
      "QUERY:  humidity in Zollikofen May 19, 2021 10h\n",
      "QUERY:  wind speed in Zollikofen May 19, 2021 10h\n",
      "QUERY:  Moon Phase calculatorMay 19, 2021 10h\n"
     ]
    },
    {
     "name": "stderr",
     "output_type": "stream",
     "text": [
      "\r",
      "  8%|█████▉                                                                      | 150/1940 [49:02<10:51:18, 21.83s/it]"
     ]
    },
    {
     "name": "stdout",
     "output_type": "stream",
     "text": [
      "QUERY:  Precipitation amount in Zollikofen May 19, 2021 11h\n",
      "QUERY:  temperature in Zollikofen May 19, 2021 11h\n",
      "QUERY:  humidity in Zollikofen May 19, 2021 11h\n",
      "QUERY:  wind speed in Zollikofen May 19, 2021 11h\n",
      "QUERY:  Moon Phase calculatorMay 19, 2021 11h\n",
      "(5580, 7)\n"
     ]
    },
    {
     "data": {
      "text/html": [
       "<div>\n",
       "<style scoped>\n",
       "    .dataframe tbody tr th:only-of-type {\n",
       "        vertical-align: middle;\n",
       "    }\n",
       "\n",
       "    .dataframe tbody tr th {\n",
       "        vertical-align: top;\n",
       "    }\n",
       "\n",
       "    .dataframe thead th {\n",
       "        text-align: right;\n",
       "    }\n",
       "</style>\n",
       "<table border=\"1\" class=\"dataframe\">\n",
       "  <thead>\n",
       "    <tr style=\"text-align: right;\">\n",
       "      <th></th>\n",
       "      <th>date</th>\n",
       "      <th>temperature</th>\n",
       "      <th>humidity</th>\n",
       "      <th>wind speed</th>\n",
       "      <th>Precipitation amount</th>\n",
       "      <th>query</th>\n",
       "      <th>Moon Phase calculator</th>\n",
       "    </tr>\n",
       "  </thead>\n",
       "  <tbody>\n",
       "    <tr>\n",
       "      <th>8</th>\n",
       "      <td>2021-05-19 10:00:00</td>\n",
       "      <td>9 °C\\n(10:00 am CEST | Wednesday, May 19, 2021)</td>\n",
       "      <td>average: 87% (81 to 93%)\\n(10:00 am CEST | Wed...</td>\n",
       "      <td>1 m/s\\n(10:00 am CEST | Wednesday, May 19, 2021)</td>\n",
       "      <td>rain\\n(10:00 am CEST | Wednesday, May 19, 2021)</td>\n",
       "      <td>Moon Phase calculatorMay 19, 2021 10h</td>\n",
       "      <td>| first quarter moon\\n45.21% illuminated</td>\n",
       "    </tr>\n",
       "    <tr>\n",
       "      <th>9</th>\n",
       "      <td>2021-05-19 11:00:00</td>\n",
       "      <td>9 °C\\n(11:00 am CEST | Wednesday, May 19, 2021)</td>\n",
       "      <td>average: 93% (93%)\\n(11:00 am CEST | Wednesday...</td>\n",
       "      <td>1 m/s\\n(11:00 am CEST | Wednesday, May 19, 2021)</td>\n",
       "      <td>rain\\n(11:00 am CEST | Wednesday, May 19, 2021)</td>\n",
       "      <td>Moon Phase calculatorMay 19, 2021 11h</td>\n",
       "      <td>| first quarter moon\\n45.64% illuminated</td>\n",
       "    </tr>\n",
       "  </tbody>\n",
       "</table>\n",
       "</div>"
      ],
      "text/plain": [
       "                 date                                      temperature  \\\n",
       "8 2021-05-19 10:00:00  9 °C\\n(10:00 am CEST | Wednesday, May 19, 2021)   \n",
       "9 2021-05-19 11:00:00  9 °C\\n(11:00 am CEST | Wednesday, May 19, 2021)   \n",
       "\n",
       "                                            humidity  \\\n",
       "8  average: 87% (81 to 93%)\\n(10:00 am CEST | Wed...   \n",
       "9  average: 93% (93%)\\n(11:00 am CEST | Wednesday...   \n",
       "\n",
       "                                         wind speed  \\\n",
       "8  1 m/s\\n(10:00 am CEST | Wednesday, May 19, 2021)   \n",
       "9  1 m/s\\n(11:00 am CEST | Wednesday, May 19, 2021)   \n",
       "\n",
       "                              Precipitation amount  \\\n",
       "8  rain\\n(10:00 am CEST | Wednesday, May 19, 2021)   \n",
       "9  rain\\n(11:00 am CEST | Wednesday, May 19, 2021)   \n",
       "\n",
       "                                   query  \\\n",
       "8  Moon Phase calculatorMay 19, 2021 10h   \n",
       "9  Moon Phase calculatorMay 19, 2021 11h   \n",
       "\n",
       "                      Moon Phase calculator  \n",
       "8  | first quarter moon\\n45.21% illuminated  \n",
       "9  | first quarter moon\\n45.64% illuminated  "
      ]
     },
     "metadata": {},
     "output_type": "display_data"
    },
    {
     "name": "stderr",
     "output_type": "stream",
     "text": [
      "\r",
      "  8%|█████▉                                                                      | 151/1940 [49:23<10:43:53, 21.60s/it]"
     ]
    },
    {
     "name": "stdout",
     "output_type": "stream",
     "text": [
      "QUERY:  Precipitation amount in Zollikofen May 19, 2021 12h\n",
      "QUERY:  temperature in Zollikofen May 19, 2021 12h\n",
      "QUERY:  humidity in Zollikofen May 19, 2021 12h\n",
      "QUERY:  wind speed in Zollikofen May 19, 2021 12h\n",
      "QUERY:  Moon Phase calculatorMay 19, 2021 12h\n"
     ]
    },
    {
     "name": "stderr",
     "output_type": "stream",
     "text": [
      "\r",
      "  8%|█████▉                                                                      | 152/1940 [49:44<10:36:46, 21.37s/it]"
     ]
    },
    {
     "name": "stdout",
     "output_type": "stream",
     "text": [
      "QUERY:  Precipitation amount in Zollikofen May 19, 2021 13h\n",
      "QUERY:  temperature in Zollikofen May 19, 2021 13h\n",
      "QUERY:  humidity in Zollikofen May 19, 2021 13h\n",
      "QUERY:  wind speed in Zollikofen May 19, 2021 13h\n",
      "QUERY:  Moon Phase calculatorMay 19, 2021 13h\n"
     ]
    },
    {
     "name": "stderr",
     "output_type": "stream",
     "text": [
      "\r",
      "  8%|█████▉                                                                      | 153/1940 [50:05<10:33:58, 21.29s/it]"
     ]
    },
    {
     "name": "stdout",
     "output_type": "stream",
     "text": [
      "QUERY:  Precipitation amount in Zollikofen May 19, 2021 14h\n",
      "QUERY:  temperature in Zollikofen May 19, 2021 14h\n",
      "QUERY:  humidity in Zollikofen May 19, 2021 14h\n",
      "QUERY:  wind speed in Zollikofen May 19, 2021 14h\n",
      "QUERY:  Moon Phase calculatorMay 19, 2021 14h\n"
     ]
    },
    {
     "name": "stderr",
     "output_type": "stream",
     "text": [
      "\r",
      "  8%|██████                                                                      | 154/1940 [50:26<10:24:37, 20.98s/it]"
     ]
    },
    {
     "name": "stdout",
     "output_type": "stream",
     "text": [
      "QUERY:  Precipitation amount in Zollikofen May 19, 2021 15h\n",
      "QUERY:  temperature in Zollikofen May 19, 2021 15h\n",
      "QUERY:  humidity in Zollikofen May 19, 2021 15h\n",
      "QUERY:  wind speed in Zollikofen May 19, 2021 15h\n",
      "QUERY:  Moon Phase calculatorMay 19, 2021 15h\n"
     ]
    },
    {
     "name": "stderr",
     "output_type": "stream",
     "text": [
      "\r",
      "  8%|██████                                                                      | 155/1940 [50:47<10:23:24, 20.95s/it]"
     ]
    },
    {
     "name": "stdout",
     "output_type": "stream",
     "text": [
      "QUERY:  Precipitation amount in Zollikofen May 19, 2021 16h\n",
      "QUERY:  temperature in Zollikofen May 19, 2021 16h\n",
      "QUERY:  humidity in Zollikofen May 19, 2021 16h\n",
      "QUERY:  wind speed in Zollikofen May 19, 2021 16h\n",
      "QUERY:  Moon Phase calculatorMay 19, 2021 16h\n"
     ]
    },
    {
     "name": "stderr",
     "output_type": "stream",
     "text": [
      "\r",
      "  8%|██████                                                                      | 156/1940 [51:07<10:19:44, 20.84s/it]"
     ]
    },
    {
     "name": "stdout",
     "output_type": "stream",
     "text": [
      "QUERY:  Precipitation amount in Zollikofen May 19, 2021 17h\n",
      "QUERY:  temperature in Zollikofen May 19, 2021 17h\n",
      "QUERY:  humidity in Zollikofen May 19, 2021 17h\n",
      "QUERY:  wind speed in Zollikofen May 19, 2021 17h\n",
      "QUERY:  Moon Phase calculatorMay 19, 2021 17h\n"
     ]
    },
    {
     "name": "stderr",
     "output_type": "stream",
     "text": [
      "\r",
      "  8%|██████▏                                                                     | 157/1940 [51:29<10:26:02, 21.07s/it]"
     ]
    },
    {
     "name": "stdout",
     "output_type": "stream",
     "text": [
      "QUERY:  Precipitation amount in Zollikofen May 19, 2021 18h\n",
      "QUERY:  temperature in Zollikofen May 19, 2021 18h\n",
      "QUERY:  humidity in Zollikofen May 19, 2021 18h\n",
      "QUERY:  wind speed in Zollikofen May 19, 2021 18h\n",
      "QUERY:  Moon Phase calculatorMay 19, 2021 18h\n"
     ]
    },
    {
     "name": "stderr",
     "output_type": "stream",
     "text": [
      "\r",
      "  8%|██████▏                                                                     | 158/1940 [51:51<10:37:02, 21.45s/it]"
     ]
    },
    {
     "name": "stdout",
     "output_type": "stream",
     "text": [
      "QUERY:  Precipitation amount in Zollikofen May 19, 2021 19h\n",
      "QUERY:  temperature in Zollikofen May 19, 2021 19h\n",
      "QUERY:  humidity in Zollikofen May 19, 2021 19h\n",
      "QUERY:  wind speed in Zollikofen May 19, 2021 19h\n",
      "QUERY:  Moon Phase calculatorMay 19, 2021 19h\n"
     ]
    },
    {
     "name": "stderr",
     "output_type": "stream",
     "text": [
      "\r",
      "  8%|██████▏                                                                     | 159/1940 [52:12<10:28:58, 21.19s/it]"
     ]
    },
    {
     "name": "stdout",
     "output_type": "stream",
     "text": [
      "QUERY:  Precipitation amount in Zollikofen May 19, 2021 20h\n",
      "QUERY:  temperature in Zollikofen May 19, 2021 20h\n",
      "QUERY:  humidity in Zollikofen May 19, 2021 20h\n",
      "QUERY:  wind speed in Zollikofen May 19, 2021 20h\n",
      "QUERY:  Moon Phase calculatorMay 19, 2021 20h\n"
     ]
    },
    {
     "name": "stderr",
     "output_type": "stream",
     "text": [
      "\r",
      "  8%|██████▎                                                                     | 160/1940 [52:34<10:39:37, 21.56s/it]"
     ]
    },
    {
     "name": "stdout",
     "output_type": "stream",
     "text": [
      "QUERY:  Precipitation amount in Zollikofen May 19, 2021 21h\n",
      "QUERY:  temperature in Zollikofen May 19, 2021 21h\n",
      "QUERY:  humidity in Zollikofen May 19, 2021 21h\n",
      "QUERY:  wind speed in Zollikofen May 19, 2021 21h\n",
      "QUERY:  Moon Phase calculatorMay 19, 2021 21h\n",
      "(5590, 7)\n"
     ]
    },
    {
     "data": {
      "text/html": [
       "<div>\n",
       "<style scoped>\n",
       "    .dataframe tbody tr th:only-of-type {\n",
       "        vertical-align: middle;\n",
       "    }\n",
       "\n",
       "    .dataframe tbody tr th {\n",
       "        vertical-align: top;\n",
       "    }\n",
       "\n",
       "    .dataframe thead th {\n",
       "        text-align: right;\n",
       "    }\n",
       "</style>\n",
       "<table border=\"1\" class=\"dataframe\">\n",
       "  <thead>\n",
       "    <tr style=\"text-align: right;\">\n",
       "      <th></th>\n",
       "      <th>date</th>\n",
       "      <th>temperature</th>\n",
       "      <th>humidity</th>\n",
       "      <th>wind speed</th>\n",
       "      <th>Precipitation amount</th>\n",
       "      <th>query</th>\n",
       "      <th>Moon Phase calculator</th>\n",
       "    </tr>\n",
       "  </thead>\n",
       "  <tbody>\n",
       "    <tr>\n",
       "      <th>8</th>\n",
       "      <td>2021-05-19 20:00:00</td>\n",
       "      <td>8 °C\\n(8:00 pm CEST | Wednesday, May 19, 2021)</td>\n",
       "      <td>average: 79% (76 to 81%)\\n(8:00 pm CEST | Wedn...</td>\n",
       "      <td>3 m/s\\n(8:00 pm CEST | Wednesday, May 19, 2021)</td>\n",
       "      <td>no precipitation\\n(8:00 pm CEST | Wednesday, M...</td>\n",
       "      <td>Moon Phase calculatorMay 19, 2021 20h</td>\n",
       "      <td>| first quarter moon\\n49.59% illuminated</td>\n",
       "    </tr>\n",
       "    <tr>\n",
       "      <th>9</th>\n",
       "      <td>2021-05-19 21:00:00</td>\n",
       "      <td>8 °C\\n(9:00 pm CEST | Wednesday, May 19, 2021)</td>\n",
       "      <td>average: 84% (81 to 87%)\\n(9:00 pm CEST | Wedn...</td>\n",
       "      <td>2 m/s\\n(9:00 pm CEST | Wednesday, May 19, 2021)</td>\n",
       "      <td>no precipitation\\n(9:00 pm CEST | Wednesday, M...</td>\n",
       "      <td>Moon Phase calculatorMay 19, 2021 21h</td>\n",
       "      <td>| first quarter moon\\n50.03% illuminated</td>\n",
       "    </tr>\n",
       "  </tbody>\n",
       "</table>\n",
       "</div>"
      ],
      "text/plain": [
       "                 date                                     temperature  \\\n",
       "8 2021-05-19 20:00:00  8 °C\\n(8:00 pm CEST | Wednesday, May 19, 2021)   \n",
       "9 2021-05-19 21:00:00  8 °C\\n(9:00 pm CEST | Wednesday, May 19, 2021)   \n",
       "\n",
       "                                            humidity  \\\n",
       "8  average: 79% (76 to 81%)\\n(8:00 pm CEST | Wedn...   \n",
       "9  average: 84% (81 to 87%)\\n(9:00 pm CEST | Wedn...   \n",
       "\n",
       "                                        wind speed  \\\n",
       "8  3 m/s\\n(8:00 pm CEST | Wednesday, May 19, 2021)   \n",
       "9  2 m/s\\n(9:00 pm CEST | Wednesday, May 19, 2021)   \n",
       "\n",
       "                                Precipitation amount  \\\n",
       "8  no precipitation\\n(8:00 pm CEST | Wednesday, M...   \n",
       "9  no precipitation\\n(9:00 pm CEST | Wednesday, M...   \n",
       "\n",
       "                                   query  \\\n",
       "8  Moon Phase calculatorMay 19, 2021 20h   \n",
       "9  Moon Phase calculatorMay 19, 2021 21h   \n",
       "\n",
       "                      Moon Phase calculator  \n",
       "8  | first quarter moon\\n49.59% illuminated  \n",
       "9  | first quarter moon\\n50.03% illuminated  "
      ]
     },
     "metadata": {},
     "output_type": "display_data"
    },
    {
     "name": "stderr",
     "output_type": "stream",
     "text": [
      "\r",
      "  8%|██████▎                                                                     | 161/1940 [52:56<10:44:35, 21.74s/it]"
     ]
    },
    {
     "name": "stdout",
     "output_type": "stream",
     "text": [
      "QUERY:  Precipitation amount in Zollikofen May 19, 2021 22h\n",
      "QUERY:  temperature in Zollikofen May 19, 2021 22h\n",
      "QUERY:  humidity in Zollikofen May 19, 2021 22h\n",
      "QUERY:  wind speed in Zollikofen May 19, 2021 22h\n",
      "QUERY:  Moon Phase calculatorMay 19, 2021 22h\n"
     ]
    },
    {
     "name": "stderr",
     "output_type": "stream",
     "text": [
      "\r",
      "  8%|██████▎                                                                     | 162/1940 [53:17<10:35:37, 21.45s/it]"
     ]
    },
    {
     "name": "stdout",
     "output_type": "stream",
     "text": [
      "QUERY:  Precipitation amount in Zollikofen May 19, 2021 23h\n",
      "QUERY:  temperature in Zollikofen May 19, 2021 23h\n",
      "QUERY:  humidity in Zollikofen May 19, 2021 23h\n",
      "QUERY:  wind speed in Zollikofen May 19, 2021 23h\n",
      "QUERY:  Moon Phase calculatorMay 19, 2021 23h\n"
     ]
    },
    {
     "name": "stderr",
     "output_type": "stream",
     "text": [
      "\r",
      "  8%|██████▍                                                                     | 163/1940 [53:39<10:36:25, 21.49s/it]"
     ]
    },
    {
     "name": "stdout",
     "output_type": "stream",
     "text": [
      "QUERY:  Precipitation amount in Zollikofen May 20, 2021 0h\n",
      "QUERY:  temperature in Zollikofen May 20, 2021 0h\n",
      "QUERY:  humidity in Zollikofen May 20, 2021 0h\n",
      "QUERY:  wind speed in Zollikofen May 20, 2021 0h\n",
      "QUERY:  Moon Phase calculatorMay 20, 2021 0h\n"
     ]
    },
    {
     "name": "stderr",
     "output_type": "stream",
     "text": [
      "\r",
      "  8%|██████▍                                                                     | 164/1940 [53:59<10:25:19, 21.13s/it]"
     ]
    },
    {
     "name": "stdout",
     "output_type": "stream",
     "text": [
      "QUERY:  Precipitation amount in Zollikofen May 20, 2021 1h\n",
      "QUERY:  temperature in Zollikofen May 20, 2021 1h\n",
      "QUERY:  humidity in Zollikofen May 20, 2021 1h\n",
      "QUERY:  wind speed in Zollikofen May 20, 2021 1h\n",
      "QUERY:  Moon Phase calculatorMay 20, 2021 1h\n"
     ]
    },
    {
     "name": "stderr",
     "output_type": "stream",
     "text": [
      "\r",
      "  9%|██████▍                                                                     | 165/1940 [54:21<10:36:29, 21.52s/it]"
     ]
    },
    {
     "name": "stdout",
     "output_type": "stream",
     "text": [
      "QUERY:  Precipitation amount in Zollikofen May 20, 2021 2h\n",
      "QUERY:  temperature in Zollikofen May 20, 2021 2h\n",
      "QUERY:  humidity in Zollikofen May 20, 2021 2h\n",
      "QUERY:  wind speed in Zollikofen May 20, 2021 2h\n",
      "QUERY:  Moon Phase calculatorMay 20, 2021 2h\n"
     ]
    },
    {
     "name": "stderr",
     "output_type": "stream",
     "text": [
      "\r",
      "  9%|██████▌                                                                     | 166/1940 [54:42<10:31:29, 21.36s/it]"
     ]
    },
    {
     "name": "stdout",
     "output_type": "stream",
     "text": [
      "QUERY:  Precipitation amount in Zollikofen May 20, 2021 3h\n",
      "QUERY:  temperature in Zollikofen May 20, 2021 3h\n",
      "QUERY:  humidity in Zollikofen May 20, 2021 3h\n",
      "QUERY:  wind speed in Zollikofen May 20, 2021 3h\n",
      "QUERY:  Moon Phase calculatorMay 20, 2021 3h\n"
     ]
    },
    {
     "name": "stderr",
     "output_type": "stream",
     "text": [
      "\r",
      "  9%|██████▌                                                                     | 167/1940 [55:03<10:29:43, 21.31s/it]"
     ]
    },
    {
     "name": "stdout",
     "output_type": "stream",
     "text": [
      "QUERY:  Precipitation amount in Zollikofen May 20, 2021 4h\n",
      "QUERY:  temperature in Zollikofen May 20, 2021 4h\n",
      "QUERY:  humidity in Zollikofen May 20, 2021 4h\n",
      "QUERY:  wind speed in Zollikofen May 20, 2021 4h\n",
      "QUERY:  Moon Phase calculatorMay 20, 2021 4h\n"
     ]
    },
    {
     "name": "stderr",
     "output_type": "stream",
     "text": [
      "\r",
      "  9%|██████▌                                                                     | 168/1940 [55:25<10:27:27, 21.25s/it]"
     ]
    },
    {
     "name": "stdout",
     "output_type": "stream",
     "text": [
      "QUERY:  Precipitation amount in Zollikofen May 20, 2021 5h\n",
      "QUERY:  temperature in Zollikofen May 20, 2021 5h\n",
      "QUERY:  humidity in Zollikofen May 20, 2021 5h\n",
      "QUERY:  wind speed in Zollikofen May 20, 2021 5h\n",
      "QUERY:  Moon Phase calculatorMay 20, 2021 5h\n"
     ]
    },
    {
     "name": "stderr",
     "output_type": "stream",
     "text": [
      "\r",
      "  9%|██████▌                                                                     | 169/1940 [55:45<10:23:55, 21.14s/it]"
     ]
    },
    {
     "name": "stdout",
     "output_type": "stream",
     "text": [
      "QUERY:  Precipitation amount in Zollikofen May 20, 2021 6h\n",
      "QUERY:  temperature in Zollikofen May 20, 2021 6h\n",
      "QUERY:  humidity in Zollikofen May 20, 2021 6h\n",
      "QUERY:  wind speed in Zollikofen May 20, 2021 6h\n",
      "QUERY:  Moon Phase calculatorMay 20, 2021 6h\n"
     ]
    },
    {
     "name": "stderr",
     "output_type": "stream",
     "text": [
      "\r",
      "  9%|██████▋                                                                     | 170/1940 [56:07<10:24:06, 21.16s/it]"
     ]
    },
    {
     "name": "stdout",
     "output_type": "stream",
     "text": [
      "QUERY:  Precipitation amount in Zollikofen May 20, 2021 7h\n",
      "QUERY:  temperature in Zollikofen May 20, 2021 7h\n",
      "QUERY:  humidity in Zollikofen May 20, 2021 7h\n",
      "QUERY:  wind speed in Zollikofen May 20, 2021 7h\n",
      "QUERY:  Moon Phase calculatorMay 20, 2021 7h\n",
      "(5600, 7)\n"
     ]
    },
    {
     "data": {
      "text/html": [
       "<div>\n",
       "<style scoped>\n",
       "    .dataframe tbody tr th:only-of-type {\n",
       "        vertical-align: middle;\n",
       "    }\n",
       "\n",
       "    .dataframe tbody tr th {\n",
       "        vertical-align: top;\n",
       "    }\n",
       "\n",
       "    .dataframe thead th {\n",
       "        text-align: right;\n",
       "    }\n",
       "</style>\n",
       "<table border=\"1\" class=\"dataframe\">\n",
       "  <thead>\n",
       "    <tr style=\"text-align: right;\">\n",
       "      <th></th>\n",
       "      <th>date</th>\n",
       "      <th>temperature</th>\n",
       "      <th>humidity</th>\n",
       "      <th>wind speed</th>\n",
       "      <th>Precipitation amount</th>\n",
       "      <th>query</th>\n",
       "      <th>Moon Phase calculator</th>\n",
       "    </tr>\n",
       "  </thead>\n",
       "  <tbody>\n",
       "    <tr>\n",
       "      <th>8</th>\n",
       "      <td>2021-05-20 06:00:00</td>\n",
       "      <td>7 °C\\n(6:00 am CEST | Thursday, May 20, 2021)</td>\n",
       "      <td>average: 87% (81 to 93%)\\n(6:00 am CEST | Thur...</td>\n",
       "      <td>1 m/s\\n(6:00 am CEST | Thursday, May 20, 2021)</td>\n",
       "      <td>no precipitation\\n(6:00 am CEST | Thursday, Ma...</td>\n",
       "      <td>Moon Phase calculatorMay 20, 2021 6h</td>\n",
       "      <td>| first quarter moon\\n54.04% illuminated</td>\n",
       "    </tr>\n",
       "    <tr>\n",
       "      <th>9</th>\n",
       "      <td>2021-05-20 07:00:00</td>\n",
       "      <td>7 °C\\n(7:00 am CEST | Thursday, May 20, 2021)</td>\n",
       "      <td>average: 90% (87 to 93%)\\n(7:00 am CEST | Thur...</td>\n",
       "      <td>1 m/s\\n(7:00 am CEST | Thursday, May 20, 2021)</td>\n",
       "      <td>rain\\n(7:00 am CEST | Thursday, May 20, 2021)</td>\n",
       "      <td>Moon Phase calculatorMay 20, 2021 7h</td>\n",
       "      <td>| first quarter moon\\n54.48% illuminated</td>\n",
       "    </tr>\n",
       "  </tbody>\n",
       "</table>\n",
       "</div>"
      ],
      "text/plain": [
       "                 date                                    temperature  \\\n",
       "8 2021-05-20 06:00:00  7 °C\\n(6:00 am CEST | Thursday, May 20, 2021)   \n",
       "9 2021-05-20 07:00:00  7 °C\\n(7:00 am CEST | Thursday, May 20, 2021)   \n",
       "\n",
       "                                            humidity  \\\n",
       "8  average: 87% (81 to 93%)\\n(6:00 am CEST | Thur...   \n",
       "9  average: 90% (87 to 93%)\\n(7:00 am CEST | Thur...   \n",
       "\n",
       "                                       wind speed  \\\n",
       "8  1 m/s\\n(6:00 am CEST | Thursday, May 20, 2021)   \n",
       "9  1 m/s\\n(7:00 am CEST | Thursday, May 20, 2021)   \n",
       "\n",
       "                                Precipitation amount  \\\n",
       "8  no precipitation\\n(6:00 am CEST | Thursday, Ma...   \n",
       "9      rain\\n(7:00 am CEST | Thursday, May 20, 2021)   \n",
       "\n",
       "                                  query  \\\n",
       "8  Moon Phase calculatorMay 20, 2021 6h   \n",
       "9  Moon Phase calculatorMay 20, 2021 7h   \n",
       "\n",
       "                      Moon Phase calculator  \n",
       "8  | first quarter moon\\n54.04% illuminated  \n",
       "9  | first quarter moon\\n54.48% illuminated  "
      ]
     },
     "metadata": {},
     "output_type": "display_data"
    },
    {
     "name": "stderr",
     "output_type": "stream",
     "text": [
      "\r",
      "  9%|██████▋                                                                     | 171/1940 [56:28<10:28:10, 21.31s/it]"
     ]
    },
    {
     "name": "stdout",
     "output_type": "stream",
     "text": [
      "QUERY:  Precipitation amount in Zollikofen May 20, 2021 8h\n",
      "QUERY:  temperature in Zollikofen May 20, 2021 8h\n",
      "QUERY:  humidity in Zollikofen May 20, 2021 8h\n",
      "QUERY:  wind speed in Zollikofen May 20, 2021 8h\n",
      "QUERY:  Moon Phase calculatorMay 20, 2021 8h\n"
     ]
    },
    {
     "name": "stderr",
     "output_type": "stream",
     "text": [
      "\r",
      "  9%|██████▋                                                                     | 172/1940 [56:49<10:19:30, 21.02s/it]"
     ]
    },
    {
     "name": "stdout",
     "output_type": "stream",
     "text": [
      "QUERY:  Precipitation amount in Zollikofen May 20, 2021 9h\n",
      "QUERY:  temperature in Zollikofen May 20, 2021 9h\n",
      "QUERY:  humidity in Zollikofen May 20, 2021 9h\n",
      "QUERY:  wind speed in Zollikofen May 20, 2021 9h\n",
      "QUERY:  Moon Phase calculatorMay 20, 2021 9h\n"
     ]
    },
    {
     "name": "stderr",
     "output_type": "stream",
     "text": [
      "\r",
      "  9%|██████▊                                                                     | 173/1940 [57:09<10:17:19, 20.96s/it]"
     ]
    },
    {
     "name": "stdout",
     "output_type": "stream",
     "text": [
      "QUERY:  Precipitation amount in Zollikofen May 20, 2021 10h\n",
      "QUERY:  temperature in Zollikofen May 20, 2021 10h\n",
      "QUERY:  humidity in Zollikofen May 20, 2021 10h\n",
      "QUERY:  wind speed in Zollikofen May 20, 2021 10h\n",
      "QUERY:  Moon Phase calculatorMay 20, 2021 10h\n"
     ]
    },
    {
     "name": "stderr",
     "output_type": "stream",
     "text": [
      "\r",
      "  9%|██████▊                                                                     | 174/1940 [57:32<10:31:09, 21.44s/it]"
     ]
    },
    {
     "name": "stdout",
     "output_type": "stream",
     "text": [
      "QUERY:  Precipitation amount in Zollikofen May 20, 2021 11h\n",
      "QUERY:  temperature in Zollikofen May 20, 2021 11h\n",
      "QUERY:  humidity in Zollikofen May 20, 2021 11h\n",
      "QUERY:  wind speed in Zollikofen May 20, 2021 11h\n",
      "QUERY:  Moon Phase calculatorMay 20, 2021 11h\n"
     ]
    },
    {
     "name": "stderr",
     "output_type": "stream",
     "text": [
      "\r",
      "  9%|██████▊                                                                     | 175/1940 [57:53<10:22:32, 21.16s/it]"
     ]
    },
    {
     "name": "stdout",
     "output_type": "stream",
     "text": [
      "QUERY:  Precipitation amount in Zollikofen May 20, 2021 12h\n",
      "QUERY:  temperature in Zollikofen May 20, 2021 12h\n",
      "QUERY:  humidity in Zollikofen May 20, 2021 12h\n",
      "QUERY:  wind speed in Zollikofen May 20, 2021 12h\n",
      "QUERY:  Moon Phase calculatorMay 20, 2021 12h\n"
     ]
    },
    {
     "name": "stderr",
     "output_type": "stream",
     "text": [
      "\r",
      "  9%|██████▉                                                                     | 176/1940 [58:14<10:28:33, 21.38s/it]"
     ]
    },
    {
     "name": "stdout",
     "output_type": "stream",
     "text": [
      "QUERY:  Precipitation amount in Zollikofen May 20, 2021 13h\n",
      "QUERY:  temperature in Zollikofen May 20, 2021 13h\n",
      "QUERY:  humidity in Zollikofen May 20, 2021 13h\n",
      "QUERY:  wind speed in Zollikofen May 20, 2021 13h\n",
      "QUERY:  Moon Phase calculatorMay 20, 2021 13h\n"
     ]
    },
    {
     "name": "stderr",
     "output_type": "stream",
     "text": [
      "\r",
      "  9%|██████▉                                                                     | 177/1940 [58:36<10:27:42, 21.36s/it]"
     ]
    },
    {
     "name": "stdout",
     "output_type": "stream",
     "text": [
      "QUERY:  Precipitation amount in Zollikofen May 20, 2021 14h\n",
      "QUERY:  temperature in Zollikofen May 20, 2021 14h\n",
      "QUERY:  humidity in Zollikofen May 20, 2021 14h\n",
      "QUERY:  wind speed in Zollikofen May 20, 2021 14h\n",
      "QUERY:  Moon Phase calculatorMay 20, 2021 14h\n"
     ]
    },
    {
     "name": "stderr",
     "output_type": "stream",
     "text": [
      "\r",
      "  9%|██████▉                                                                     | 178/1940 [58:57<10:24:48, 21.28s/it]"
     ]
    },
    {
     "name": "stdout",
     "output_type": "stream",
     "text": [
      "QUERY:  Precipitation amount in Zollikofen May 20, 2021 15h\n",
      "QUERY:  temperature in Zollikofen May 20, 2021 15h\n",
      "QUERY:  humidity in Zollikofen May 20, 2021 15h\n",
      "QUERY:  wind speed in Zollikofen May 20, 2021 15h\n",
      "QUERY:  Moon Phase calculatorMay 20, 2021 15h\n"
     ]
    },
    {
     "name": "stderr",
     "output_type": "stream",
     "text": [
      "\r",
      "  9%|███████                                                                     | 179/1940 [59:18<10:21:01, 21.16s/it]"
     ]
    },
    {
     "name": "stdout",
     "output_type": "stream",
     "text": [
      "QUERY:  Precipitation amount in Zollikofen May 20, 2021 16h\n",
      "QUERY:  temperature in Zollikofen May 20, 2021 16h\n",
      "QUERY:  humidity in Zollikofen May 20, 2021 16h\n",
      "QUERY:  wind speed in Zollikofen May 20, 2021 16h\n",
      "QUERY:  Moon Phase calculatorMay 20, 2021 16h\n"
     ]
    },
    {
     "name": "stderr",
     "output_type": "stream",
     "text": [
      "\r",
      "  9%|███████                                                                     | 180/1940 [59:38<10:16:30, 21.02s/it]"
     ]
    },
    {
     "name": "stdout",
     "output_type": "stream",
     "text": [
      "QUERY:  Precipitation amount in Zollikofen May 20, 2021 17h\n",
      "QUERY:  temperature in Zollikofen May 20, 2021 17h\n",
      "QUERY:  humidity in Zollikofen May 20, 2021 17h\n",
      "QUERY:  wind speed in Zollikofen May 20, 2021 17h\n",
      "QUERY:  Moon Phase calculatorMay 20, 2021 17h\n",
      "(5610, 7)\n"
     ]
    },
    {
     "data": {
      "text/html": [
       "<div>\n",
       "<style scoped>\n",
       "    .dataframe tbody tr th:only-of-type {\n",
       "        vertical-align: middle;\n",
       "    }\n",
       "\n",
       "    .dataframe tbody tr th {\n",
       "        vertical-align: top;\n",
       "    }\n",
       "\n",
       "    .dataframe thead th {\n",
       "        text-align: right;\n",
       "    }\n",
       "</style>\n",
       "<table border=\"1\" class=\"dataframe\">\n",
       "  <thead>\n",
       "    <tr style=\"text-align: right;\">\n",
       "      <th></th>\n",
       "      <th>date</th>\n",
       "      <th>temperature</th>\n",
       "      <th>humidity</th>\n",
       "      <th>wind speed</th>\n",
       "      <th>Precipitation amount</th>\n",
       "      <th>query</th>\n",
       "      <th>Moon Phase calculator</th>\n",
       "    </tr>\n",
       "  </thead>\n",
       "  <tbody>\n",
       "    <tr>\n",
       "      <th>8</th>\n",
       "      <td>2021-05-20 16:00:00</td>\n",
       "      <td>15 °C\\n(4:00 pm CEST | Thursday, May 20, 2021)</td>\n",
       "      <td>average: 46% (45 to 48%)\\n(4:00 pm CEST | Thur...</td>\n",
       "      <td>2 m/s\\n(4:00 pm CEST | Thursday, May 20, 2021)</td>\n",
       "      <td>no precipitation\\n(4:00 pm CEST | Thursday, Ma...</td>\n",
       "      <td>Moon Phase calculatorMay 20, 2021 16h</td>\n",
       "      <td>| waxing gibbous moon\\n58.51% illuminated</td>\n",
       "    </tr>\n",
       "    <tr>\n",
       "      <th>9</th>\n",
       "      <td>2021-05-20 17:00:00</td>\n",
       "      <td>15 °C\\n(5:00 pm CEST | Thursday, May 20, 2021)</td>\n",
       "      <td>average: 43% (42 to 45%)\\n(5:00 pm CEST | Thur...</td>\n",
       "      <td>2 m/s\\n(5:00 pm CEST | Thursday, May 20, 2021)</td>\n",
       "      <td>no precipitation\\n(5:00 pm CEST | Thursday, Ma...</td>\n",
       "      <td>Moon Phase calculatorMay 20, 2021 17h</td>\n",
       "      <td>| waxing gibbous moon\\n58.96% illuminated</td>\n",
       "    </tr>\n",
       "  </tbody>\n",
       "</table>\n",
       "</div>"
      ],
      "text/plain": [
       "                 date                                     temperature  \\\n",
       "8 2021-05-20 16:00:00  15 °C\\n(4:00 pm CEST | Thursday, May 20, 2021)   \n",
       "9 2021-05-20 17:00:00  15 °C\\n(5:00 pm CEST | Thursday, May 20, 2021)   \n",
       "\n",
       "                                            humidity  \\\n",
       "8  average: 46% (45 to 48%)\\n(4:00 pm CEST | Thur...   \n",
       "9  average: 43% (42 to 45%)\\n(5:00 pm CEST | Thur...   \n",
       "\n",
       "                                       wind speed  \\\n",
       "8  2 m/s\\n(4:00 pm CEST | Thursday, May 20, 2021)   \n",
       "9  2 m/s\\n(5:00 pm CEST | Thursday, May 20, 2021)   \n",
       "\n",
       "                                Precipitation amount  \\\n",
       "8  no precipitation\\n(4:00 pm CEST | Thursday, Ma...   \n",
       "9  no precipitation\\n(5:00 pm CEST | Thursday, Ma...   \n",
       "\n",
       "                                   query  \\\n",
       "8  Moon Phase calculatorMay 20, 2021 16h   \n",
       "9  Moon Phase calculatorMay 20, 2021 17h   \n",
       "\n",
       "                       Moon Phase calculator  \n",
       "8  | waxing gibbous moon\\n58.51% illuminated  \n",
       "9  | waxing gibbous moon\\n58.96% illuminated  "
      ]
     },
     "metadata": {},
     "output_type": "display_data"
    },
    {
     "name": "stderr",
     "output_type": "stream",
     "text": [
      "\r",
      "  9%|██████▉                                                                   | 181/1940 [1:00:00<10:21:35, 21.20s/it]"
     ]
    },
    {
     "name": "stdout",
     "output_type": "stream",
     "text": [
      "QUERY:  Precipitation amount in Zollikofen May 20, 2021 18h\n",
      "QUERY:  temperature in Zollikofen May 20, 2021 18h\n",
      "QUERY:  humidity in Zollikofen May 20, 2021 18h\n",
      "QUERY:  wind speed in Zollikofen May 20, 2021 18h\n",
      "QUERY:  Moon Phase calculatorMay 20, 2021 18h\n"
     ]
    },
    {
     "name": "stderr",
     "output_type": "stream",
     "text": [
      "\r",
      "  9%|██████▉                                                                   | 182/1940 [1:00:21<10:16:26, 21.04s/it]"
     ]
    },
    {
     "name": "stdout",
     "output_type": "stream",
     "text": [
      "QUERY:  Precipitation amount in Zollikofen May 20, 2021 19h\n",
      "QUERY:  temperature in Zollikofen May 20, 2021 19h\n",
      "QUERY:  humidity in Zollikofen May 20, 2021 19h\n",
      "QUERY:  wind speed in Zollikofen May 20, 2021 19h\n",
      "QUERY:  Moon Phase calculatorMay 20, 2021 19h\n"
     ]
    },
    {
     "name": "stderr",
     "output_type": "stream",
     "text": [
      "\r",
      "  9%|██████▉                                                                   | 183/1940 [1:00:41<10:06:39, 20.72s/it]"
     ]
    },
    {
     "name": "stdout",
     "output_type": "stream",
     "text": [
      "QUERY:  Precipitation amount in Zollikofen May 20, 2021 20h\n",
      "QUERY:  temperature in Zollikofen May 20, 2021 20h\n",
      "QUERY:  humidity in Zollikofen May 20, 2021 20h\n",
      "QUERY:  wind speed in Zollikofen May 20, 2021 20h\n",
      "QUERY:  Moon Phase calculatorMay 20, 2021 20h\n"
     ]
    },
    {
     "name": "stderr",
     "output_type": "stream",
     "text": [
      "\r",
      "  9%|███████                                                                    | 184/1940 [1:00:58<9:38:09, 19.75s/it]"
     ]
    },
    {
     "name": "stdout",
     "output_type": "stream",
     "text": [
      "QUERY:  Precipitation amount in Zollikofen May 20, 2021 21h\n",
      "QUERY:  temperature in Zollikofen May 20, 2021 21h\n",
      "QUERY:  humidity in Zollikofen May 20, 2021 21h\n",
      "QUERY:  wind speed in Zollikofen May 20, 2021 21h\n",
      "QUERY:  Moon Phase calculatorMay 20, 2021 21h\n"
     ]
    },
    {
     "name": "stderr",
     "output_type": "stream",
     "text": [
      "\r",
      " 10%|███████▏                                                                   | 185/1940 [1:01:15<9:13:39, 18.93s/it]"
     ]
    },
    {
     "name": "stdout",
     "output_type": "stream",
     "text": [
      "QUERY:  Precipitation amount in Zollikofen May 20, 2021 22h\n",
      "QUERY:  temperature in Zollikofen May 20, 2021 22h\n",
      "QUERY:  humidity in Zollikofen May 20, 2021 22h\n",
      "QUERY:  wind speed in Zollikofen May 20, 2021 22h\n",
      "QUERY:  Moon Phase calculatorMay 20, 2021 22h\n"
     ]
    },
    {
     "name": "stderr",
     "output_type": "stream",
     "text": [
      "\r",
      " 10%|███████▏                                                                   | 186/1940 [1:01:34<9:13:29, 18.93s/it]"
     ]
    },
    {
     "name": "stdout",
     "output_type": "stream",
     "text": [
      "QUERY:  Precipitation amount in Zollikofen May 20, 2021 23h\n",
      "QUERY:  temperature in Zollikofen May 20, 2021 23h\n",
      "QUERY:  humidity in Zollikofen May 20, 2021 23h\n",
      "QUERY:  wind speed in Zollikofen May 20, 2021 23h\n",
      "QUERY:  Moon Phase calculatorMay 20, 2021 23h\n"
     ]
    },
    {
     "name": "stderr",
     "output_type": "stream",
     "text": [
      "\r",
      " 10%|███████▏                                                                   | 187/1940 [1:01:55<9:33:01, 19.61s/it]"
     ]
    },
    {
     "name": "stdout",
     "output_type": "stream",
     "text": [
      "QUERY:  Precipitation amount in Zollikofen May 21, 2021 0h\n",
      "QUERY:  temperature in Zollikofen May 21, 2021 0h\n",
      "QUERY:  humidity in Zollikofen May 21, 2021 0h\n",
      "QUERY:  wind speed in Zollikofen May 21, 2021 0h\n",
      "QUERY:  Moon Phase calculatorMay 21, 2021 0h\n"
     ]
    },
    {
     "name": "stderr",
     "output_type": "stream",
     "text": [
      "\r",
      " 10%|███████▎                                                                   | 188/1940 [1:02:13<9:18:00, 19.11s/it]"
     ]
    },
    {
     "name": "stdout",
     "output_type": "stream",
     "text": [
      "QUERY:  Precipitation amount in Zollikofen May 21, 2021 1h\n",
      "QUERY:  temperature in Zollikofen May 21, 2021 1h\n",
      "QUERY:  humidity in Zollikofen May 21, 2021 1h\n",
      "QUERY:  wind speed in Zollikofen May 21, 2021 1h\n",
      "QUERY:  Moon Phase calculatorMay 21, 2021 1h\n"
     ]
    },
    {
     "name": "stderr",
     "output_type": "stream",
     "text": [
      "\r",
      " 10%|███████▎                                                                   | 189/1940 [1:02:33<9:19:47, 19.18s/it]"
     ]
    },
    {
     "name": "stdout",
     "output_type": "stream",
     "text": [
      "QUERY:  Precipitation amount in Zollikofen May 21, 2021 2h\n",
      "QUERY:  temperature in Zollikofen May 21, 2021 2h\n",
      "QUERY:  humidity in Zollikofen May 21, 2021 2h\n",
      "QUERY:  wind speed in Zollikofen May 21, 2021 2h\n",
      "QUERY:  Moon Phase calculatorMay 21, 2021 2h\n"
     ]
    },
    {
     "name": "stderr",
     "output_type": "stream",
     "text": [
      "\r",
      " 10%|███████▎                                                                   | 190/1940 [1:02:50<9:02:32, 18.60s/it]"
     ]
    },
    {
     "name": "stdout",
     "output_type": "stream",
     "text": [
      "QUERY:  Precipitation amount in Zollikofen May 21, 2021 3h\n",
      "QUERY:  temperature in Zollikofen May 21, 2021 3h\n",
      "QUERY:  humidity in Zollikofen May 21, 2021 3h\n",
      "QUERY:  wind speed in Zollikofen May 21, 2021 3h\n",
      "QUERY:  Moon Phase calculatorMay 21, 2021 3h\n",
      "(5620, 7)\n"
     ]
    },
    {
     "data": {
      "text/html": [
       "<div>\n",
       "<style scoped>\n",
       "    .dataframe tbody tr th:only-of-type {\n",
       "        vertical-align: middle;\n",
       "    }\n",
       "\n",
       "    .dataframe tbody tr th {\n",
       "        vertical-align: top;\n",
       "    }\n",
       "\n",
       "    .dataframe thead th {\n",
       "        text-align: right;\n",
       "    }\n",
       "</style>\n",
       "<table border=\"1\" class=\"dataframe\">\n",
       "  <thead>\n",
       "    <tr style=\"text-align: right;\">\n",
       "      <th></th>\n",
       "      <th>date</th>\n",
       "      <th>temperature</th>\n",
       "      <th>humidity</th>\n",
       "      <th>wind speed</th>\n",
       "      <th>Precipitation amount</th>\n",
       "      <th>query</th>\n",
       "      <th>Moon Phase calculator</th>\n",
       "    </tr>\n",
       "  </thead>\n",
       "  <tbody>\n",
       "    <tr>\n",
       "      <th>8</th>\n",
       "      <td>2021-05-21 02:00:00</td>\n",
       "      <td>9 °C\\n(2:00 am CEST | Friday, May 21, 2021)</td>\n",
       "      <td>average: 100% (100%)\\n(2:00 am CEST | Friday, ...</td>\n",
       "      <td>1 m/s\\n(2:00 am CEST | Friday, May 21, 2021)</td>\n",
       "      <td>no precipitation\\n(2:00 am CEST | Friday, May ...</td>\n",
       "      <td>Moon Phase calculatorMay 21, 2021 2h</td>\n",
       "      <td>| waxing gibbous moon\\n62.98% illuminated</td>\n",
       "    </tr>\n",
       "    <tr>\n",
       "      <th>9</th>\n",
       "      <td>2021-05-21 03:00:00</td>\n",
       "      <td>9 °C\\n(3:00 am CEST | Friday, May 21, 2021)</td>\n",
       "      <td>average: 100% (100%)\\n(3:00 am CEST | Friday, ...</td>\n",
       "      <td>0 m/s\\n(3:00 am CEST | Friday, May 21, 2021)</td>\n",
       "      <td>no precipitation\\n(3:00 am CEST | Friday, May ...</td>\n",
       "      <td>Moon Phase calculatorMay 21, 2021 3h</td>\n",
       "      <td>| waxing gibbous moon\\n63.42% illuminated</td>\n",
       "    </tr>\n",
       "  </tbody>\n",
       "</table>\n",
       "</div>"
      ],
      "text/plain": [
       "                 date                                  temperature  \\\n",
       "8 2021-05-21 02:00:00  9 °C\\n(2:00 am CEST | Friday, May 21, 2021)   \n",
       "9 2021-05-21 03:00:00  9 °C\\n(3:00 am CEST | Friday, May 21, 2021)   \n",
       "\n",
       "                                            humidity  \\\n",
       "8  average: 100% (100%)\\n(2:00 am CEST | Friday, ...   \n",
       "9  average: 100% (100%)\\n(3:00 am CEST | Friday, ...   \n",
       "\n",
       "                                     wind speed  \\\n",
       "8  1 m/s\\n(2:00 am CEST | Friday, May 21, 2021)   \n",
       "9  0 m/s\\n(3:00 am CEST | Friday, May 21, 2021)   \n",
       "\n",
       "                                Precipitation amount  \\\n",
       "8  no precipitation\\n(2:00 am CEST | Friday, May ...   \n",
       "9  no precipitation\\n(3:00 am CEST | Friday, May ...   \n",
       "\n",
       "                                  query  \\\n",
       "8  Moon Phase calculatorMay 21, 2021 2h   \n",
       "9  Moon Phase calculatorMay 21, 2021 3h   \n",
       "\n",
       "                       Moon Phase calculator  \n",
       "8  | waxing gibbous moon\\n62.98% illuminated  \n",
       "9  | waxing gibbous moon\\n63.42% illuminated  "
      ]
     },
     "metadata": {},
     "output_type": "display_data"
    },
    {
     "name": "stderr",
     "output_type": "stream",
     "text": [
      "\r",
      " 10%|███████▍                                                                   | 191/1940 [1:03:09<9:02:42, 18.62s/it]"
     ]
    },
    {
     "name": "stdout",
     "output_type": "stream",
     "text": [
      "QUERY:  Precipitation amount in Zollikofen May 21, 2021 4h\n",
      "QUERY:  temperature in Zollikofen May 21, 2021 4h\n",
      "QUERY:  humidity in Zollikofen May 21, 2021 4h\n",
      "QUERY:  wind speed in Zollikofen May 21, 2021 4h\n",
      "QUERY:  Moon Phase calculatorMay 21, 2021 4h\n"
     ]
    },
    {
     "name": "stderr",
     "output_type": "stream",
     "text": [
      "\r",
      " 10%|███████▍                                                                   | 192/1940 [1:03:27<9:00:06, 18.54s/it]"
     ]
    },
    {
     "name": "stdout",
     "output_type": "stream",
     "text": [
      "QUERY:  Precipitation amount in Zollikofen May 21, 2021 5h\n",
      "QUERY:  temperature in Zollikofen May 21, 2021 5h\n",
      "QUERY:  humidity in Zollikofen May 21, 2021 5h\n",
      "QUERY:  wind speed in Zollikofen May 21, 2021 5h\n",
      "QUERY:  Moon Phase calculatorMay 21, 2021 5h\n"
     ]
    },
    {
     "name": "stderr",
     "output_type": "stream",
     "text": [
      "\r",
      " 10%|███████▍                                                                   | 193/1940 [1:03:45<8:59:15, 18.52s/it]"
     ]
    },
    {
     "name": "stdout",
     "output_type": "stream",
     "text": [
      "QUERY:  Precipitation amount in Zollikofen May 21, 2021 6h\n",
      "QUERY:  temperature in Zollikofen May 21, 2021 6h\n",
      "QUERY:  humidity in Zollikofen May 21, 2021 6h\n",
      "QUERY:  wind speed in Zollikofen May 21, 2021 6h\n",
      "QUERY:  Moon Phase calculatorMay 21, 2021 6h\n"
     ]
    },
    {
     "name": "stderr",
     "output_type": "stream",
     "text": [
      "\r",
      " 10%|███████▌                                                                   | 194/1940 [1:04:03<8:47:34, 18.13s/it]"
     ]
    },
    {
     "name": "stdout",
     "output_type": "stream",
     "text": [
      "QUERY:  Precipitation amount in Zollikofen May 21, 2021 7h\n",
      "QUERY:  temperature in Zollikofen May 21, 2021 7h\n",
      "QUERY:  humidity in Zollikofen May 21, 2021 7h\n",
      "QUERY:  wind speed in Zollikofen May 21, 2021 7h\n",
      "QUERY:  Moon Phase calculatorMay 21, 2021 7h\n"
     ]
    },
    {
     "name": "stderr",
     "output_type": "stream",
     "text": [
      "\r",
      " 10%|███████▌                                                                   | 195/1940 [1:04:21<8:49:25, 18.20s/it]"
     ]
    },
    {
     "name": "stdout",
     "output_type": "stream",
     "text": [
      "QUERY:  Precipitation amount in Zollikofen May 21, 2021 8h\n",
      "QUERY:  temperature in Zollikofen May 21, 2021 8h\n",
      "QUERY:  humidity in Zollikofen May 21, 2021 8h\n",
      "QUERY:  wind speed in Zollikofen May 21, 2021 8h\n",
      "QUERY:  Moon Phase calculatorMay 21, 2021 8h\n"
     ]
    },
    {
     "name": "stderr",
     "output_type": "stream",
     "text": [
      "\r",
      " 10%|███████▌                                                                   | 196/1940 [1:04:38<8:35:55, 17.75s/it]"
     ]
    },
    {
     "name": "stdout",
     "output_type": "stream",
     "text": [
      "QUERY:  Precipitation amount in Zollikofen May 21, 2021 9h\n",
      "QUERY:  temperature in Zollikofen May 21, 2021 9h\n",
      "QUERY:  humidity in Zollikofen May 21, 2021 9h\n",
      "QUERY:  wind speed in Zollikofen May 21, 2021 9h\n",
      "QUERY:  Moon Phase calculatorMay 21, 2021 9h\n"
     ]
    },
    {
     "name": "stderr",
     "output_type": "stream",
     "text": [
      "\r",
      " 10%|███████▌                                                                   | 197/1940 [1:04:54<8:26:24, 17.43s/it]"
     ]
    },
    {
     "name": "stdout",
     "output_type": "stream",
     "text": [
      "QUERY:  Precipitation amount in Zollikofen May 21, 2021 10h\n",
      "QUERY:  temperature in Zollikofen May 21, 2021 10h\n",
      "QUERY:  humidity in Zollikofen May 21, 2021 10h\n",
      "QUERY:  wind speed in Zollikofen May 21, 2021 10h\n",
      "QUERY:  Moon Phase calculatorMay 21, 2021 10h\n"
     ]
    },
    {
     "name": "stderr",
     "output_type": "stream",
     "text": [
      "\r",
      " 10%|███████▋                                                                   | 198/1940 [1:05:12<8:27:40, 17.49s/it]"
     ]
    },
    {
     "name": "stdout",
     "output_type": "stream",
     "text": [
      "QUERY:  Precipitation amount in Zollikofen May 21, 2021 11h\n",
      "QUERY:  temperature in Zollikofen May 21, 2021 11h\n",
      "QUERY:  humidity in Zollikofen May 21, 2021 11h\n",
      "QUERY:  wind speed in Zollikofen May 21, 2021 11h\n",
      "QUERY:  Moon Phase calculatorMay 21, 2021 11h\n"
     ]
    },
    {
     "name": "stderr",
     "output_type": "stream",
     "text": [
      "\r",
      " 10%|███████▋                                                                   | 199/1940 [1:05:31<8:37:25, 17.83s/it]"
     ]
    },
    {
     "name": "stdout",
     "output_type": "stream",
     "text": [
      "QUERY:  Precipitation amount in Zollikofen May 21, 2021 12h\n",
      "QUERY:  temperature in Zollikofen May 21, 2021 12h\n",
      "QUERY:  humidity in Zollikofen May 21, 2021 12h\n",
      "QUERY:  wind speed in Zollikofen May 21, 2021 12h\n",
      "QUERY:  Moon Phase calculatorMay 21, 2021 12h\n"
     ]
    },
    {
     "name": "stderr",
     "output_type": "stream",
     "text": [
      "\r",
      " 10%|███████▋                                                                   | 200/1940 [1:05:52<9:09:57, 18.96s/it]"
     ]
    },
    {
     "name": "stdout",
     "output_type": "stream",
     "text": [
      "QUERY:  Precipitation amount in Zollikofen May 21, 2021 13h\n",
      "QUERY:  temperature in Zollikofen May 21, 2021 13h\n",
      "QUERY:  humidity in Zollikofen May 21, 2021 13h\n",
      "QUERY:  wind speed in Zollikofen May 21, 2021 13h\n",
      "QUERY:  Moon Phase calculatorMay 21, 2021 13h\n",
      "(5630, 7)\n"
     ]
    },
    {
     "data": {
      "text/html": [
       "<div>\n",
       "<style scoped>\n",
       "    .dataframe tbody tr th:only-of-type {\n",
       "        vertical-align: middle;\n",
       "    }\n",
       "\n",
       "    .dataframe tbody tr th {\n",
       "        vertical-align: top;\n",
       "    }\n",
       "\n",
       "    .dataframe thead th {\n",
       "        text-align: right;\n",
       "    }\n",
       "</style>\n",
       "<table border=\"1\" class=\"dataframe\">\n",
       "  <thead>\n",
       "    <tr style=\"text-align: right;\">\n",
       "      <th></th>\n",
       "      <th>date</th>\n",
       "      <th>temperature</th>\n",
       "      <th>humidity</th>\n",
       "      <th>wind speed</th>\n",
       "      <th>Precipitation amount</th>\n",
       "      <th>query</th>\n",
       "      <th>Moon Phase calculator</th>\n",
       "    </tr>\n",
       "  </thead>\n",
       "  <tbody>\n",
       "    <tr>\n",
       "      <th>8</th>\n",
       "      <td>2021-05-21 12:00:00</td>\n",
       "      <td>11 °C\\n(12:00 pm CEST | Friday, May 21, 2021)</td>\n",
       "      <td>average: 88% (88%)\\n(12:00 pm CEST | Friday, M...</td>\n",
       "      <td>3 m/s\\n(12:00 pm CEST | Friday, May 21, 2021)</td>\n",
       "      <td>rain\\n(12:00 pm CEST | Friday, May 21, 2021)</td>\n",
       "      <td>Moon Phase calculatorMay 21, 2021 12h</td>\n",
       "      <td>| waxing gibbous moon\\n67.40% illuminated</td>\n",
       "    </tr>\n",
       "    <tr>\n",
       "      <th>9</th>\n",
       "      <td>2021-05-21 13:00:00</td>\n",
       "      <td>12 °C\\n(1:00 pm CEST | Friday, May 21, 2021)</td>\n",
       "      <td>average: 85% (82 to 88%)\\n(1:00 pm CEST | Frid...</td>\n",
       "      <td>2 m/s\\n(1:00 pm CEST | Friday, May 21, 2021)</td>\n",
       "      <td>no precipitation\\n(1:00 pm CEST | Friday, May ...</td>\n",
       "      <td>Moon Phase calculatorMay 21, 2021 13h</td>\n",
       "      <td>| waxing gibbous moon\\n67.83% illuminated</td>\n",
       "    </tr>\n",
       "  </tbody>\n",
       "</table>\n",
       "</div>"
      ],
      "text/plain": [
       "                 date                                    temperature  \\\n",
       "8 2021-05-21 12:00:00  11 °C\\n(12:00 pm CEST | Friday, May 21, 2021)   \n",
       "9 2021-05-21 13:00:00   12 °C\\n(1:00 pm CEST | Friday, May 21, 2021)   \n",
       "\n",
       "                                            humidity  \\\n",
       "8  average: 88% (88%)\\n(12:00 pm CEST | Friday, M...   \n",
       "9  average: 85% (82 to 88%)\\n(1:00 pm CEST | Frid...   \n",
       "\n",
       "                                      wind speed  \\\n",
       "8  3 m/s\\n(12:00 pm CEST | Friday, May 21, 2021)   \n",
       "9   2 m/s\\n(1:00 pm CEST | Friday, May 21, 2021)   \n",
       "\n",
       "                                Precipitation amount  \\\n",
       "8       rain\\n(12:00 pm CEST | Friday, May 21, 2021)   \n",
       "9  no precipitation\\n(1:00 pm CEST | Friday, May ...   \n",
       "\n",
       "                                   query  \\\n",
       "8  Moon Phase calculatorMay 21, 2021 12h   \n",
       "9  Moon Phase calculatorMay 21, 2021 13h   \n",
       "\n",
       "                       Moon Phase calculator  \n",
       "8  | waxing gibbous moon\\n67.40% illuminated  \n",
       "9  | waxing gibbous moon\\n67.83% illuminated  "
      ]
     },
     "metadata": {},
     "output_type": "display_data"
    },
    {
     "name": "stderr",
     "output_type": "stream",
     "text": [
      "\r",
      " 10%|███████▊                                                                   | 201/1940 [1:06:13<9:26:06, 19.53s/it]"
     ]
    },
    {
     "name": "stdout",
     "output_type": "stream",
     "text": [
      "QUERY:  Precipitation amount in Zollikofen May 21, 2021 14h\n",
      "QUERY:  temperature in Zollikofen May 21, 2021 14h\n",
      "QUERY:  humidity in Zollikofen May 21, 2021 14h\n",
      "QUERY:  wind speed in Zollikofen May 21, 2021 14h\n",
      "QUERY:  Moon Phase calculatorMay 21, 2021 14h\n"
     ]
    },
    {
     "name": "stderr",
     "output_type": "stream",
     "text": [
      "\r",
      " 10%|███████▊                                                                   | 202/1940 [1:06:35<9:42:40, 20.12s/it]"
     ]
    },
    {
     "name": "stdout",
     "output_type": "stream",
     "text": [
      "QUERY:  Precipitation amount in Zollikofen May 21, 2021 15h\n",
      "QUERY:  temperature in Zollikofen May 21, 2021 15h\n",
      "QUERY:  humidity in Zollikofen May 21, 2021 15h\n",
      "QUERY:  wind speed in Zollikofen May 21, 2021 15h\n",
      "QUERY:  Moon Phase calculatorMay 21, 2021 15h\n"
     ]
    },
    {
     "name": "stderr",
     "output_type": "stream",
     "text": [
      "\r",
      " 10%|███████▊                                                                   | 203/1940 [1:06:56<9:54:57, 20.55s/it]"
     ]
    },
    {
     "name": "stdout",
     "output_type": "stream",
     "text": [
      "QUERY:  Precipitation amount in Zollikofen May 21, 2021 16h\n",
      "QUERY:  temperature in Zollikofen May 21, 2021 16h\n",
      "QUERY:  humidity in Zollikofen May 21, 2021 16h\n",
      "QUERY:  wind speed in Zollikofen May 21, 2021 16h\n",
      "QUERY:  Moon Phase calculatorMay 21, 2021 16h\n"
     ]
    },
    {
     "name": "stderr",
     "output_type": "stream",
     "text": [
      "\r",
      " 11%|███████▊                                                                  | 204/1940 [1:07:18<10:02:50, 20.84s/it]"
     ]
    },
    {
     "name": "stdout",
     "output_type": "stream",
     "text": [
      "QUERY:  Precipitation amount in Zollikofen May 21, 2021 17h\n",
      "QUERY:  temperature in Zollikofen May 21, 2021 17h\n",
      "QUERY:  humidity in Zollikofen May 21, 2021 17h\n",
      "QUERY:  wind speed in Zollikofen May 21, 2021 17h\n",
      "QUERY:  Moon Phase calculatorMay 21, 2021 17h\n"
     ]
    },
    {
     "name": "stderr",
     "output_type": "stream",
     "text": [
      "\r",
      " 11%|███████▊                                                                  | 205/1940 [1:07:38<10:03:00, 20.85s/it]"
     ]
    },
    {
     "name": "stdout",
     "output_type": "stream",
     "text": [
      "QUERY:  Precipitation amount in Zollikofen May 21, 2021 18h\n",
      "QUERY:  temperature in Zollikofen May 21, 2021 18h\n",
      "QUERY:  humidity in Zollikofen May 21, 2021 18h\n",
      "QUERY:  wind speed in Zollikofen May 21, 2021 18h\n",
      "QUERY:  Moon Phase calculatorMay 21, 2021 18h\n"
     ]
    },
    {
     "name": "stderr",
     "output_type": "stream",
     "text": [
      "\r",
      " 11%|███████▊                                                                  | 206/1940 [1:07:59<10:02:58, 20.86s/it]"
     ]
    },
    {
     "name": "stdout",
     "output_type": "stream",
     "text": [
      "QUERY:  Precipitation amount in Zollikofen May 21, 2021 19h\n",
      "QUERY:  temperature in Zollikofen May 21, 2021 19h\n",
      "QUERY:  humidity in Zollikofen May 21, 2021 19h\n",
      "QUERY:  wind speed in Zollikofen May 21, 2021 19h\n",
      "QUERY:  Moon Phase calculatorMay 21, 2021 19h\n"
     ]
    },
    {
     "name": "stderr",
     "output_type": "stream",
     "text": [
      "\r",
      " 11%|███████▉                                                                  | 207/1940 [1:08:21<10:09:56, 21.12s/it]"
     ]
    },
    {
     "name": "stdout",
     "output_type": "stream",
     "text": [
      "QUERY:  Precipitation amount in Zollikofen May 21, 2021 20h\n",
      "QUERY:  temperature in Zollikofen May 21, 2021 20h\n",
      "QUERY:  humidity in Zollikofen May 21, 2021 20h\n",
      "QUERY:  wind speed in Zollikofen May 21, 2021 20h\n",
      "QUERY:  Moon Phase calculatorMay 21, 2021 20h\n"
     ]
    },
    {
     "name": "stderr",
     "output_type": "stream",
     "text": [
      "\r",
      " 11%|███████▉                                                                  | 208/1940 [1:08:42<10:11:20, 21.18s/it]"
     ]
    },
    {
     "name": "stdout",
     "output_type": "stream",
     "text": [
      "QUERY:  Precipitation amount in Zollikofen May 21, 2021 21h\n",
      "QUERY:  temperature in Zollikofen May 21, 2021 21h\n",
      "QUERY:  humidity in Zollikofen May 21, 2021 21h\n",
      "QUERY:  wind speed in Zollikofen May 21, 2021 21h\n",
      "QUERY:  Moon Phase calculatorMay 21, 2021 21h\n"
     ]
    },
    {
     "name": "stderr",
     "output_type": "stream",
     "text": [
      "\r",
      " 11%|███████▉                                                                  | 209/1940 [1:09:04<10:11:57, 21.21s/it]"
     ]
    },
    {
     "name": "stdout",
     "output_type": "stream",
     "text": [
      "QUERY:  Precipitation amount in Zollikofen May 21, 2021 22h\n",
      "QUERY:  temperature in Zollikofen May 21, 2021 22h\n",
      "QUERY:  humidity in Zollikofen May 21, 2021 22h\n",
      "QUERY:  wind speed in Zollikofen May 21, 2021 22h\n",
      "QUERY:  Moon Phase calculatorMay 21, 2021 22h\n"
     ]
    },
    {
     "name": "stderr",
     "output_type": "stream",
     "text": [
      "\r",
      " 11%|████████                                                                  | 210/1940 [1:09:25<10:10:30, 21.17s/it]"
     ]
    },
    {
     "name": "stdout",
     "output_type": "stream",
     "text": [
      "QUERY:  Precipitation amount in Zollikofen May 21, 2021 23h\n",
      "QUERY:  temperature in Zollikofen May 21, 2021 23h\n",
      "QUERY:  humidity in Zollikofen May 21, 2021 23h\n",
      "QUERY:  wind speed in Zollikofen May 21, 2021 23h\n",
      "QUERY:  Moon Phase calculatorMay 21, 2021 23h\n",
      "(5640, 7)\n"
     ]
    },
    {
     "data": {
      "text/html": [
       "<div>\n",
       "<style scoped>\n",
       "    .dataframe tbody tr th:only-of-type {\n",
       "        vertical-align: middle;\n",
       "    }\n",
       "\n",
       "    .dataframe tbody tr th {\n",
       "        vertical-align: top;\n",
       "    }\n",
       "\n",
       "    .dataframe thead th {\n",
       "        text-align: right;\n",
       "    }\n",
       "</style>\n",
       "<table border=\"1\" class=\"dataframe\">\n",
       "  <thead>\n",
       "    <tr style=\"text-align: right;\">\n",
       "      <th></th>\n",
       "      <th>date</th>\n",
       "      <th>temperature</th>\n",
       "      <th>humidity</th>\n",
       "      <th>wind speed</th>\n",
       "      <th>Precipitation amount</th>\n",
       "      <th>query</th>\n",
       "      <th>Moon Phase calculator</th>\n",
       "    </tr>\n",
       "  </thead>\n",
       "  <tbody>\n",
       "    <tr>\n",
       "      <th>8</th>\n",
       "      <td>2021-05-21 22:00:00</td>\n",
       "      <td>8 °C\\n(10:00 pm CEST | Friday, May 21, 2021)</td>\n",
       "      <td>average: 100% (100%)\\n(10:00 pm CEST | Friday,...</td>\n",
       "      <td>3 m/s\\n(10:00 pm CEST | Friday, May 21, 2021)</td>\n",
       "      <td>rain\\n(10:00 pm CEST | Friday, May 21, 2021)</td>\n",
       "      <td>Moon Phase calculatorMay 21, 2021 22h</td>\n",
       "      <td>| waxing gibbous moon\\n71.73% illuminated</td>\n",
       "    </tr>\n",
       "    <tr>\n",
       "      <th>9</th>\n",
       "      <td>2021-05-21 23:00:00</td>\n",
       "      <td>8 °C\\n(11:00 pm CEST | Friday, May 21, 2021)</td>\n",
       "      <td>average: 100% (100%)\\n(11:00 pm CEST | Friday,...</td>\n",
       "      <td>2 m/s\\n(11:00 pm CEST | Friday, May 21, 2021)</td>\n",
       "      <td>rain\\n(11:00 pm CEST | Friday, May 21, 2021)</td>\n",
       "      <td>Moon Phase calculatorMay 21, 2021 23h</td>\n",
       "      <td>| waxing gibbous moon\\n72.15% illuminated</td>\n",
       "    </tr>\n",
       "  </tbody>\n",
       "</table>\n",
       "</div>"
      ],
      "text/plain": [
       "                 date                                   temperature  \\\n",
       "8 2021-05-21 22:00:00  8 °C\\n(10:00 pm CEST | Friday, May 21, 2021)   \n",
       "9 2021-05-21 23:00:00  8 °C\\n(11:00 pm CEST | Friday, May 21, 2021)   \n",
       "\n",
       "                                            humidity  \\\n",
       "8  average: 100% (100%)\\n(10:00 pm CEST | Friday,...   \n",
       "9  average: 100% (100%)\\n(11:00 pm CEST | Friday,...   \n",
       "\n",
       "                                      wind speed  \\\n",
       "8  3 m/s\\n(10:00 pm CEST | Friday, May 21, 2021)   \n",
       "9  2 m/s\\n(11:00 pm CEST | Friday, May 21, 2021)   \n",
       "\n",
       "                           Precipitation amount  \\\n",
       "8  rain\\n(10:00 pm CEST | Friday, May 21, 2021)   \n",
       "9  rain\\n(11:00 pm CEST | Friday, May 21, 2021)   \n",
       "\n",
       "                                   query  \\\n",
       "8  Moon Phase calculatorMay 21, 2021 22h   \n",
       "9  Moon Phase calculatorMay 21, 2021 23h   \n",
       "\n",
       "                       Moon Phase calculator  \n",
       "8  | waxing gibbous moon\\n71.73% illuminated  \n",
       "9  | waxing gibbous moon\\n72.15% illuminated  "
      ]
     },
     "metadata": {},
     "output_type": "display_data"
    },
    {
     "name": "stderr",
     "output_type": "stream",
     "text": [
      "\r",
      " 11%|████████                                                                  | 211/1940 [1:09:46<10:14:38, 21.33s/it]"
     ]
    },
    {
     "name": "stdout",
     "output_type": "stream",
     "text": [
      "QUERY:  Precipitation amount in Zollikofen May 22, 2021 0h\n",
      "QUERY:  temperature in Zollikofen May 22, 2021 0h\n",
      "QUERY:  humidity in Zollikofen May 22, 2021 0h\n",
      "QUERY:  wind speed in Zollikofen May 22, 2021 0h\n",
      "QUERY:  Moon Phase calculatorMay 22, 2021 0h\n"
     ]
    },
    {
     "name": "stderr",
     "output_type": "stream",
     "text": [
      "\r",
      " 11%|████████                                                                  | 212/1940 [1:10:07<10:06:12, 21.05s/it]"
     ]
    },
    {
     "name": "stdout",
     "output_type": "stream",
     "text": [
      "QUERY:  Precipitation amount in Zollikofen May 22, 2021 1h\n",
      "QUERY:  temperature in Zollikofen May 22, 2021 1h\n",
      "QUERY:  humidity in Zollikofen May 22, 2021 1h\n",
      "QUERY:  wind speed in Zollikofen May 22, 2021 1h\n",
      "QUERY:  Moon Phase calculatorMay 22, 2021 1h\n"
     ]
    },
    {
     "name": "stderr",
     "output_type": "stream",
     "text": [
      "\r",
      " 11%|████████                                                                  | 213/1940 [1:10:28<10:04:29, 21.00s/it]"
     ]
    },
    {
     "name": "stdout",
     "output_type": "stream",
     "text": [
      "QUERY:  Precipitation amount in Zollikofen May 22, 2021 2h\n",
      "QUERY:  temperature in Zollikofen May 22, 2021 2h\n",
      "QUERY:  humidity in Zollikofen May 22, 2021 2h\n",
      "QUERY:  wind speed in Zollikofen May 22, 2021 2h\n",
      "QUERY:  Moon Phase calculatorMay 22, 2021 2h\n"
     ]
    },
    {
     "name": "stderr",
     "output_type": "stream",
     "text": [
      "\r",
      " 11%|████████▏                                                                 | 214/1940 [1:10:49<10:08:28, 21.15s/it]"
     ]
    },
    {
     "name": "stdout",
     "output_type": "stream",
     "text": [
      "QUERY:  Precipitation amount in Zollikofen May 22, 2021 3h\n",
      "QUERY:  temperature in Zollikofen May 22, 2021 3h\n",
      "QUERY:  humidity in Zollikofen May 22, 2021 3h\n",
      "QUERY:  wind speed in Zollikofen May 22, 2021 3h\n",
      "QUERY:  Moon Phase calculatorMay 22, 2021 3h\n"
     ]
    },
    {
     "name": "stderr",
     "output_type": "stream",
     "text": [
      "\r",
      " 11%|████████▏                                                                 | 215/1940 [1:11:10<10:06:55, 21.11s/it]"
     ]
    },
    {
     "name": "stdout",
     "output_type": "stream",
     "text": [
      "QUERY:  Precipitation amount in Zollikofen May 22, 2021 4h\n",
      "QUERY:  temperature in Zollikofen May 22, 2021 4h\n",
      "QUERY:  humidity in Zollikofen May 22, 2021 4h\n",
      "QUERY:  wind speed in Zollikofen May 22, 2021 4h\n",
      "QUERY:  Moon Phase calculatorMay 22, 2021 4h\n"
     ]
    },
    {
     "name": "stderr",
     "output_type": "stream",
     "text": [
      "\r",
      " 11%|████████▏                                                                 | 216/1940 [1:11:32<10:10:36, 21.25s/it]"
     ]
    },
    {
     "name": "stdout",
     "output_type": "stream",
     "text": [
      "QUERY:  Precipitation amount in Zollikofen May 22, 2021 5h\n",
      "QUERY:  temperature in Zollikofen May 22, 2021 5h\n",
      "QUERY:  humidity in Zollikofen May 22, 2021 5h\n",
      "QUERY:  wind speed in Zollikofen May 22, 2021 5h\n",
      "QUERY:  Moon Phase calculatorMay 22, 2021 5h\n"
     ]
    },
    {
     "name": "stderr",
     "output_type": "stream",
     "text": [
      "\r",
      " 11%|████████▎                                                                 | 217/1940 [1:11:55<10:22:30, 21.68s/it]"
     ]
    },
    {
     "name": "stdout",
     "output_type": "stream",
     "text": [
      "QUERY:  Precipitation amount in Zollikofen May 22, 2021 6h\n",
      "QUERY:  temperature in Zollikofen May 22, 2021 6h\n",
      "QUERY:  humidity in Zollikofen May 22, 2021 6h\n",
      "QUERY:  wind speed in Zollikofen May 22, 2021 6h\n",
      "QUERY:  Moon Phase calculatorMay 22, 2021 6h\n"
     ]
    },
    {
     "name": "stderr",
     "output_type": "stream",
     "text": [
      "\r",
      " 11%|████████▎                                                                 | 218/1940 [1:12:15<10:13:06, 21.36s/it]"
     ]
    },
    {
     "name": "stdout",
     "output_type": "stream",
     "text": [
      "QUERY:  Precipitation amount in Zollikofen May 22, 2021 7h\n",
      "QUERY:  temperature in Zollikofen May 22, 2021 7h\n",
      "QUERY:  humidity in Zollikofen May 22, 2021 7h\n",
      "QUERY:  wind speed in Zollikofen May 22, 2021 7h\n",
      "QUERY:  Moon Phase calculatorMay 22, 2021 7h\n"
     ]
    },
    {
     "name": "stderr",
     "output_type": "stream",
     "text": [
      "\r",
      " 11%|████████▎                                                                 | 219/1940 [1:12:36<10:12:25, 21.35s/it]"
     ]
    },
    {
     "name": "stdout",
     "output_type": "stream",
     "text": [
      "QUERY:  Precipitation amount in Zollikofen May 22, 2021 8h\n",
      "QUERY:  temperature in Zollikofen May 22, 2021 8h\n",
      "QUERY:  humidity in Zollikofen May 22, 2021 8h\n",
      "QUERY:  wind speed in Zollikofen May 22, 2021 8h\n",
      "QUERY:  Moon Phase calculatorMay 22, 2021 8h\n"
     ]
    },
    {
     "name": "stderr",
     "output_type": "stream",
     "text": [
      "\r",
      " 11%|████████▍                                                                 | 220/1940 [1:12:58<10:09:50, 21.27s/it]"
     ]
    },
    {
     "name": "stdout",
     "output_type": "stream",
     "text": [
      "QUERY:  Precipitation amount in Zollikofen May 22, 2021 9h\n",
      "QUERY:  temperature in Zollikofen May 22, 2021 9h\n",
      "QUERY:  humidity in Zollikofen May 22, 2021 9h\n",
      "QUERY:  wind speed in Zollikofen May 22, 2021 9h\n",
      "QUERY:  Moon Phase calculatorMay 22, 2021 9h\n",
      "(5650, 7)\n"
     ]
    },
    {
     "data": {
      "text/html": [
       "<div>\n",
       "<style scoped>\n",
       "    .dataframe tbody tr th:only-of-type {\n",
       "        vertical-align: middle;\n",
       "    }\n",
       "\n",
       "    .dataframe tbody tr th {\n",
       "        vertical-align: top;\n",
       "    }\n",
       "\n",
       "    .dataframe thead th {\n",
       "        text-align: right;\n",
       "    }\n",
       "</style>\n",
       "<table border=\"1\" class=\"dataframe\">\n",
       "  <thead>\n",
       "    <tr style=\"text-align: right;\">\n",
       "      <th></th>\n",
       "      <th>date</th>\n",
       "      <th>temperature</th>\n",
       "      <th>humidity</th>\n",
       "      <th>wind speed</th>\n",
       "      <th>Precipitation amount</th>\n",
       "      <th>query</th>\n",
       "      <th>Moon Phase calculator</th>\n",
       "    </tr>\n",
       "  </thead>\n",
       "  <tbody>\n",
       "    <tr>\n",
       "      <th>8</th>\n",
       "      <td>2021-05-22 08:00:00</td>\n",
       "      <td>10 °C\\n(8:00 am CEST | Saturday, May 22, 2021)</td>\n",
       "      <td>average: 74% (71 to 76%)\\n(8:00 am CEST | Satu...</td>\n",
       "      <td>3 m/s\\n(8:00 am CEST | Saturday, May 22, 2021)</td>\n",
       "      <td>no precipitation\\n(8:00 am CEST | Saturday, Ma...</td>\n",
       "      <td>Moon Phase calculatorMay 22, 2021 8h</td>\n",
       "      <td>| waxing gibbous moon\\n75.92% illuminated</td>\n",
       "    </tr>\n",
       "    <tr>\n",
       "      <th>9</th>\n",
       "      <td>2021-05-22 09:00:00</td>\n",
       "      <td>11 °C\\n(9:00 am CEST | Saturday, May 22, 2021)</td>\n",
       "      <td>average: 67% (66 to 67%)\\n(9:00 am CEST | Satu...</td>\n",
       "      <td>4 m/s\\n(9:00 am CEST | Saturday, May 22, 2021)</td>\n",
       "      <td>no precipitation\\n(9:00 am CEST | Saturday, Ma...</td>\n",
       "      <td>Moon Phase calculatorMay 22, 2021 9h</td>\n",
       "      <td>| waxing gibbous moon\\n76.33% illuminated</td>\n",
       "    </tr>\n",
       "  </tbody>\n",
       "</table>\n",
       "</div>"
      ],
      "text/plain": [
       "                 date                                     temperature  \\\n",
       "8 2021-05-22 08:00:00  10 °C\\n(8:00 am CEST | Saturday, May 22, 2021)   \n",
       "9 2021-05-22 09:00:00  11 °C\\n(9:00 am CEST | Saturday, May 22, 2021)   \n",
       "\n",
       "                                            humidity  \\\n",
       "8  average: 74% (71 to 76%)\\n(8:00 am CEST | Satu...   \n",
       "9  average: 67% (66 to 67%)\\n(9:00 am CEST | Satu...   \n",
       "\n",
       "                                       wind speed  \\\n",
       "8  3 m/s\\n(8:00 am CEST | Saturday, May 22, 2021)   \n",
       "9  4 m/s\\n(9:00 am CEST | Saturday, May 22, 2021)   \n",
       "\n",
       "                                Precipitation amount  \\\n",
       "8  no precipitation\\n(8:00 am CEST | Saturday, Ma...   \n",
       "9  no precipitation\\n(9:00 am CEST | Saturday, Ma...   \n",
       "\n",
       "                                  query  \\\n",
       "8  Moon Phase calculatorMay 22, 2021 8h   \n",
       "9  Moon Phase calculatorMay 22, 2021 9h   \n",
       "\n",
       "                       Moon Phase calculator  \n",
       "8  | waxing gibbous moon\\n75.92% illuminated  \n",
       "9  | waxing gibbous moon\\n76.33% illuminated  "
      ]
     },
     "metadata": {},
     "output_type": "display_data"
    },
    {
     "name": "stderr",
     "output_type": "stream",
     "text": [
      "\r",
      " 11%|████████▍                                                                 | 221/1940 [1:13:20<10:15:35, 21.49s/it]"
     ]
    },
    {
     "name": "stdout",
     "output_type": "stream",
     "text": [
      "QUERY:  Precipitation amount in Zollikofen May 22, 2021 10h\n",
      "QUERY:  temperature in Zollikofen May 22, 2021 10h\n",
      "QUERY:  humidity in Zollikofen May 22, 2021 10h\n",
      "QUERY:  wind speed in Zollikofen May 22, 2021 10h\n",
      "QUERY:  Moon Phase calculatorMay 22, 2021 10h\n"
     ]
    },
    {
     "name": "stderr",
     "output_type": "stream",
     "text": [
      "\r",
      " 11%|████████▍                                                                 | 222/1940 [1:13:41<10:12:09, 21.38s/it]"
     ]
    },
    {
     "name": "stdout",
     "output_type": "stream",
     "text": [
      "QUERY:  Precipitation amount in Zollikofen May 22, 2021 11h\n",
      "QUERY:  temperature in Zollikofen May 22, 2021 11h\n",
      "QUERY:  humidity in Zollikofen May 22, 2021 11h\n",
      "QUERY:  wind speed in Zollikofen May 22, 2021 11h\n",
      "QUERY:  Moon Phase calculatorMay 22, 2021 11h\n"
     ]
    },
    {
     "name": "stderr",
     "output_type": "stream",
     "text": [
      "\r",
      " 11%|████████▌                                                                 | 223/1940 [1:14:02<10:10:48, 21.34s/it]"
     ]
    },
    {
     "name": "stdout",
     "output_type": "stream",
     "text": [
      "QUERY:  Precipitation amount in Zollikofen May 22, 2021 12h\n",
      "QUERY:  temperature in Zollikofen May 22, 2021 12h\n",
      "QUERY:  humidity in Zollikofen May 22, 2021 12h\n",
      "QUERY:  wind speed in Zollikofen May 22, 2021 12h\n",
      "QUERY:  Moon Phase calculatorMay 22, 2021 12h\n"
     ]
    },
    {
     "name": "stderr",
     "output_type": "stream",
     "text": [
      "\r",
      " 12%|████████▌                                                                 | 224/1940 [1:14:23<10:09:29, 21.31s/it]"
     ]
    },
    {
     "name": "stdout",
     "output_type": "stream",
     "text": [
      "QUERY:  Precipitation amount in Zollikofen May 22, 2021 13h\n",
      "QUERY:  temperature in Zollikofen May 22, 2021 13h\n",
      "QUERY:  humidity in Zollikofen May 22, 2021 13h\n",
      "QUERY:  wind speed in Zollikofen May 22, 2021 13h\n",
      "QUERY:  Moon Phase calculatorMay 22, 2021 13h\n"
     ]
    },
    {
     "name": "stderr",
     "output_type": "stream",
     "text": [
      "\r",
      " 12%|████████▌                                                                 | 225/1940 [1:14:44<10:04:39, 21.15s/it]"
     ]
    },
    {
     "name": "stdout",
     "output_type": "stream",
     "text": [
      "QUERY:  Precipitation amount in Zollikofen May 22, 2021 14h\n",
      "QUERY:  temperature in Zollikofen May 22, 2021 14h\n",
      "QUERY:  humidity in Zollikofen May 22, 2021 14h\n",
      "QUERY:  wind speed in Zollikofen May 22, 2021 14h\n",
      "QUERY:  Moon Phase calculatorMay 22, 2021 14h\n"
     ]
    },
    {
     "name": "stderr",
     "output_type": "stream",
     "text": [
      "\r",
      " 12%|████████▌                                                                 | 226/1940 [1:15:06<10:09:56, 21.35s/it]"
     ]
    },
    {
     "name": "stdout",
     "output_type": "stream",
     "text": [
      "QUERY:  Precipitation amount in Zollikofen May 22, 2021 15h\n",
      "QUERY:  temperature in Zollikofen May 22, 2021 15h\n",
      "QUERY:  humidity in Zollikofen May 22, 2021 15h\n",
      "QUERY:  wind speed in Zollikofen May 22, 2021 15h\n",
      "QUERY:  Moon Phase calculatorMay 22, 2021 15h\n"
     ]
    },
    {
     "name": "stderr",
     "output_type": "stream",
     "text": [
      "\r",
      " 12%|████████▋                                                                 | 227/1940 [1:15:27<10:07:22, 21.27s/it]"
     ]
    },
    {
     "name": "stdout",
     "output_type": "stream",
     "text": [
      "QUERY:  Precipitation amount in Zollikofen May 22, 2021 16h\n",
      "QUERY:  temperature in Zollikofen May 22, 2021 16h\n",
      "QUERY:  humidity in Zollikofen May 22, 2021 16h\n",
      "QUERY:  wind speed in Zollikofen May 22, 2021 16h\n",
      "QUERY:  Moon Phase calculatorMay 22, 2021 16h\n"
     ]
    },
    {
     "name": "stderr",
     "output_type": "stream",
     "text": [
      "\r",
      " 12%|████████▋                                                                 | 228/1940 [1:15:48<10:09:52, 21.37s/it]"
     ]
    },
    {
     "name": "stdout",
     "output_type": "stream",
     "text": [
      "QUERY:  Precipitation amount in Zollikofen May 22, 2021 17h\n",
      "QUERY:  temperature in Zollikofen May 22, 2021 17h\n",
      "QUERY:  humidity in Zollikofen May 22, 2021 17h\n",
      "QUERY:  wind speed in Zollikofen May 22, 2021 17h\n",
      "QUERY:  Moon Phase calculatorMay 22, 2021 17h\n"
     ]
    },
    {
     "name": "stderr",
     "output_type": "stream",
     "text": [
      "\r",
      " 12%|████████▊                                                                  | 229/1940 [1:16:07<9:47:51, 20.61s/it]"
     ]
    },
    {
     "name": "stdout",
     "output_type": "stream",
     "text": [
      "QUERY:  Precipitation amount in Zollikofen May 22, 2021 18h\n",
      "QUERY:  temperature in Zollikofen May 22, 2021 18h\n",
      "QUERY:  humidity in Zollikofen May 22, 2021 18h\n",
      "QUERY:  wind speed in Zollikofen May 22, 2021 18h\n",
      "QUERY:  Moon Phase calculatorMay 22, 2021 18h\n"
     ]
    },
    {
     "name": "stderr",
     "output_type": "stream",
     "text": [
      "\r",
      " 12%|████████▉                                                                  | 230/1940 [1:16:26<9:34:44, 20.17s/it]"
     ]
    },
    {
     "name": "stdout",
     "output_type": "stream",
     "text": [
      "QUERY:  Precipitation amount in Zollikofen May 22, 2021 19h\n",
      "QUERY:  temperature in Zollikofen May 22, 2021 19h\n",
      "QUERY:  humidity in Zollikofen May 22, 2021 19h\n",
      "QUERY:  wind speed in Zollikofen May 22, 2021 19h\n",
      "QUERY:  Moon Phase calculatorMay 22, 2021 19h\n",
      "(5660, 7)\n"
     ]
    },
    {
     "data": {
      "text/html": [
       "<div>\n",
       "<style scoped>\n",
       "    .dataframe tbody tr th:only-of-type {\n",
       "        vertical-align: middle;\n",
       "    }\n",
       "\n",
       "    .dataframe tbody tr th {\n",
       "        vertical-align: top;\n",
       "    }\n",
       "\n",
       "    .dataframe thead th {\n",
       "        text-align: right;\n",
       "    }\n",
       "</style>\n",
       "<table border=\"1\" class=\"dataframe\">\n",
       "  <thead>\n",
       "    <tr style=\"text-align: right;\">\n",
       "      <th></th>\n",
       "      <th>date</th>\n",
       "      <th>temperature</th>\n",
       "      <th>humidity</th>\n",
       "      <th>wind speed</th>\n",
       "      <th>Precipitation amount</th>\n",
       "      <th>query</th>\n",
       "      <th>Moon Phase calculator</th>\n",
       "    </tr>\n",
       "  </thead>\n",
       "  <tbody>\n",
       "    <tr>\n",
       "      <th>8</th>\n",
       "      <td>2021-05-22 18:00:00</td>\n",
       "      <td>18 °C\\n(6:00 pm CEST | Saturday, May 22, 2021)</td>\n",
       "      <td>average: 37% (34 to 39%)\\n(6:00 pm CEST | Satu...</td>\n",
       "      <td>6 m/s\\n(6:00 pm CEST | Saturday, May 22, 2021)</td>\n",
       "      <td>no precipitation\\n(6:00 pm CEST | Saturday, Ma...</td>\n",
       "      <td>Moon Phase calculatorMay 22, 2021 18h</td>\n",
       "      <td>| waxing gibbous moon\\n79.93% illuminated</td>\n",
       "    </tr>\n",
       "    <tr>\n",
       "      <th>9</th>\n",
       "      <td>2021-05-22 19:00:00</td>\n",
       "      <td>17 °C\\n(7:00 pm CEST | Saturday, May 22, 2021)</td>\n",
       "      <td>average: 41% (39 to 42%)\\n(7:00 pm CEST | Satu...</td>\n",
       "      <td>4 m/s\\n(7:00 pm CEST | Saturday, May 22, 2021)</td>\n",
       "      <td>no precipitation\\n(7:00 pm CEST | Saturday, Ma...</td>\n",
       "      <td>Moon Phase calculatorMay 22, 2021 19h</td>\n",
       "      <td>| waxing gibbous moon\\n80.32% illuminated</td>\n",
       "    </tr>\n",
       "  </tbody>\n",
       "</table>\n",
       "</div>"
      ],
      "text/plain": [
       "                 date                                     temperature  \\\n",
       "8 2021-05-22 18:00:00  18 °C\\n(6:00 pm CEST | Saturday, May 22, 2021)   \n",
       "9 2021-05-22 19:00:00  17 °C\\n(7:00 pm CEST | Saturday, May 22, 2021)   \n",
       "\n",
       "                                            humidity  \\\n",
       "8  average: 37% (34 to 39%)\\n(6:00 pm CEST | Satu...   \n",
       "9  average: 41% (39 to 42%)\\n(7:00 pm CEST | Satu...   \n",
       "\n",
       "                                       wind speed  \\\n",
       "8  6 m/s\\n(6:00 pm CEST | Saturday, May 22, 2021)   \n",
       "9  4 m/s\\n(7:00 pm CEST | Saturday, May 22, 2021)   \n",
       "\n",
       "                                Precipitation amount  \\\n",
       "8  no precipitation\\n(6:00 pm CEST | Saturday, Ma...   \n",
       "9  no precipitation\\n(7:00 pm CEST | Saturday, Ma...   \n",
       "\n",
       "                                   query  \\\n",
       "8  Moon Phase calculatorMay 22, 2021 18h   \n",
       "9  Moon Phase calculatorMay 22, 2021 19h   \n",
       "\n",
       "                       Moon Phase calculator  \n",
       "8  | waxing gibbous moon\\n79.93% illuminated  \n",
       "9  | waxing gibbous moon\\n80.32% illuminated  "
      ]
     },
     "metadata": {},
     "output_type": "display_data"
    },
    {
     "name": "stderr",
     "output_type": "stream",
     "text": [
      "\r",
      " 12%|████████▉                                                                  | 231/1940 [1:16:44<9:14:10, 19.46s/it]"
     ]
    },
    {
     "name": "stdout",
     "output_type": "stream",
     "text": [
      "QUERY:  Precipitation amount in Zollikofen May 22, 2021 20h\n",
      "QUERY:  temperature in Zollikofen May 22, 2021 20h\n",
      "QUERY:  humidity in Zollikofen May 22, 2021 20h\n",
      "QUERY:  wind speed in Zollikofen May 22, 2021 20h\n",
      "QUERY:  Moon Phase calculatorMay 22, 2021 20h\n"
     ]
    },
    {
     "name": "stderr",
     "output_type": "stream",
     "text": [
      "\r",
      " 12%|████████▉                                                                  | 232/1940 [1:17:02<8:55:53, 18.83s/it]"
     ]
    },
    {
     "name": "stdout",
     "output_type": "stream",
     "text": [
      "QUERY:  Precipitation amount in Zollikofen May 22, 2021 21h\n",
      "QUERY:  temperature in Zollikofen May 22, 2021 21h\n",
      "QUERY:  humidity in Zollikofen May 22, 2021 21h\n",
      "QUERY:  wind speed in Zollikofen May 22, 2021 21h\n",
      "QUERY:  Moon Phase calculatorMay 22, 2021 21h\n"
     ]
    },
    {
     "name": "stderr",
     "output_type": "stream",
     "text": [
      "\r",
      " 12%|█████████                                                                  | 233/1940 [1:17:20<8:52:14, 18.71s/it]"
     ]
    },
    {
     "name": "stdout",
     "output_type": "stream",
     "text": [
      "QUERY:  Precipitation amount in Zollikofen May 22, 2021 22h\n",
      "QUERY:  temperature in Zollikofen May 22, 2021 22h\n",
      "QUERY:  humidity in Zollikofen May 22, 2021 22h\n",
      "QUERY:  wind speed in Zollikofen May 22, 2021 22h\n",
      "QUERY:  Moon Phase calculatorMay 22, 2021 22h\n"
     ]
    },
    {
     "name": "stderr",
     "output_type": "stream",
     "text": [
      "\r",
      " 12%|█████████                                                                  | 234/1940 [1:17:38<8:47:49, 18.56s/it]"
     ]
    },
    {
     "name": "stdout",
     "output_type": "stream",
     "text": [
      "QUERY:  Precipitation amount in Zollikofen May 22, 2021 23h\n",
      "QUERY:  temperature in Zollikofen May 22, 2021 23h\n",
      "QUERY:  humidity in Zollikofen May 22, 2021 23h\n",
      "QUERY:  wind speed in Zollikofen May 22, 2021 23h\n",
      "QUERY:  Moon Phase calculatorMay 22, 2021 23h\n"
     ]
    },
    {
     "name": "stderr",
     "output_type": "stream",
     "text": [
      "\r",
      " 12%|█████████                                                                  | 235/1940 [1:17:57<8:45:30, 18.49s/it]"
     ]
    },
    {
     "name": "stdout",
     "output_type": "stream",
     "text": [
      "QUERY:  Precipitation amount in Zollikofen May 23, 2021 0h\n",
      "QUERY:  temperature in Zollikofen May 23, 2021 0h\n",
      "QUERY:  humidity in Zollikofen May 23, 2021 0h\n",
      "QUERY:  wind speed in Zollikofen May 23, 2021 0h\n",
      "QUERY:  Moon Phase calculatorMay 23, 2021 0h\n"
     ]
    },
    {
     "name": "stderr",
     "output_type": "stream",
     "text": [
      "\r",
      " 12%|█████████                                                                  | 236/1940 [1:18:14<8:39:27, 18.29s/it]"
     ]
    },
    {
     "name": "stdout",
     "output_type": "stream",
     "text": [
      "QUERY:  Precipitation amount in Zollikofen May 23, 2021 1h\n",
      "QUERY:  temperature in Zollikofen May 23, 2021 1h\n",
      "QUERY:  humidity in Zollikofen May 23, 2021 1h\n",
      "QUERY:  wind speed in Zollikofen May 23, 2021 1h\n",
      "QUERY:  Moon Phase calculatorMay 23, 2021 1h\n"
     ]
    },
    {
     "name": "stderr",
     "output_type": "stream",
     "text": [
      "\r",
      " 12%|█████████▏                                                                 | 237/1940 [1:18:33<8:39:35, 18.31s/it]"
     ]
    },
    {
     "name": "stdout",
     "output_type": "stream",
     "text": [
      "QUERY:  Precipitation amount in Zollikofen May 23, 2021 2h\n",
      "QUERY:  temperature in Zollikofen May 23, 2021 2h\n",
      "QUERY:  humidity in Zollikofen May 23, 2021 2h\n",
      "QUERY:  wind speed in Zollikofen May 23, 2021 2h\n",
      "QUERY:  Moon Phase calculatorMay 23, 2021 2h\n"
     ]
    },
    {
     "name": "stderr",
     "output_type": "stream",
     "text": [
      "\r",
      " 12%|█████████▏                                                                 | 238/1940 [1:18:50<8:30:39, 18.00s/it]"
     ]
    },
    {
     "name": "stdout",
     "output_type": "stream",
     "text": [
      "QUERY:  Precipitation amount in Zollikofen May 23, 2021 3h\n",
      "QUERY:  temperature in Zollikofen May 23, 2021 3h\n",
      "QUERY:  humidity in Zollikofen May 23, 2021 3h\n",
      "QUERY:  wind speed in Zollikofen May 23, 2021 3h\n",
      "QUERY:  Moon Phase calculatorMay 23, 2021 3h\n"
     ]
    },
    {
     "name": "stderr",
     "output_type": "stream",
     "text": [
      "\r",
      " 12%|█████████▏                                                                 | 239/1940 [1:19:08<8:28:54, 17.95s/it]"
     ]
    },
    {
     "name": "stdout",
     "output_type": "stream",
     "text": [
      "QUERY:  Precipitation amount in Zollikofen May 23, 2021 4h\n",
      "QUERY:  temperature in Zollikofen May 23, 2021 4h\n",
      "QUERY:  humidity in Zollikofen May 23, 2021 4h\n",
      "QUERY:  wind speed in Zollikofen May 23, 2021 4h\n",
      "QUERY:  Moon Phase calculatorMay 23, 2021 4h\n"
     ]
    },
    {
     "name": "stderr",
     "output_type": "stream",
     "text": [
      "\r",
      " 12%|█████████▎                                                                 | 240/1940 [1:19:27<8:41:08, 18.39s/it]"
     ]
    },
    {
     "name": "stdout",
     "output_type": "stream",
     "text": [
      "QUERY:  Precipitation amount in Zollikofen May 23, 2021 5h\n",
      "QUERY:  temperature in Zollikofen May 23, 2021 5h\n",
      "QUERY:  humidity in Zollikofen May 23, 2021 5h\n",
      "QUERY:  wind speed in Zollikofen May 23, 2021 5h\n",
      "QUERY:  Moon Phase calculatorMay 23, 2021 5h\n",
      "(5670, 7)\n"
     ]
    },
    {
     "data": {
      "text/html": [
       "<div>\n",
       "<style scoped>\n",
       "    .dataframe tbody tr th:only-of-type {\n",
       "        vertical-align: middle;\n",
       "    }\n",
       "\n",
       "    .dataframe tbody tr th {\n",
       "        vertical-align: top;\n",
       "    }\n",
       "\n",
       "    .dataframe thead th {\n",
       "        text-align: right;\n",
       "    }\n",
       "</style>\n",
       "<table border=\"1\" class=\"dataframe\">\n",
       "  <thead>\n",
       "    <tr style=\"text-align: right;\">\n",
       "      <th></th>\n",
       "      <th>date</th>\n",
       "      <th>temperature</th>\n",
       "      <th>humidity</th>\n",
       "      <th>wind speed</th>\n",
       "      <th>Precipitation amount</th>\n",
       "      <th>query</th>\n",
       "      <th>Moon Phase calculator</th>\n",
       "    </tr>\n",
       "  </thead>\n",
       "  <tbody>\n",
       "    <tr>\n",
       "      <th>8</th>\n",
       "      <td>2021-05-23 04:00:00</td>\n",
       "      <td>8 °C\\n(4:00 am CEST | Sunday, May 23, 2021)</td>\n",
       "      <td>average: 90% (87 to 93%)\\n(4:00 am CEST | Sund...</td>\n",
       "      <td>3 m/s\\n(4:00 am CEST | Sunday, May 23, 2021)</td>\n",
       "      <td>rain\\n(4:00 am CEST | Sunday, May 23, 2021)</td>\n",
       "      <td>Moon Phase calculatorMay 23, 2021 4h</td>\n",
       "      <td>| waxing gibbous moon\\n83.71% illuminated</td>\n",
       "    </tr>\n",
       "    <tr>\n",
       "      <th>9</th>\n",
       "      <td>2021-05-23 05:00:00</td>\n",
       "      <td>8 °C\\n(5:00 am CEST | Sunday, May 23, 2021)</td>\n",
       "      <td>average: 87% (87%)\\n(5:00 am CEST | Sunday, Ma...</td>\n",
       "      <td>2 m/s\\n(5:00 am CEST | Sunday, May 23, 2021)</td>\n",
       "      <td>rain\\n(5:00 am CEST | Sunday, May 23, 2021)</td>\n",
       "      <td>Moon Phase calculatorMay 23, 2021 5h</td>\n",
       "      <td>| waxing gibbous moon\\n84.07% illuminated</td>\n",
       "    </tr>\n",
       "  </tbody>\n",
       "</table>\n",
       "</div>"
      ],
      "text/plain": [
       "                 date                                  temperature  \\\n",
       "8 2021-05-23 04:00:00  8 °C\\n(4:00 am CEST | Sunday, May 23, 2021)   \n",
       "9 2021-05-23 05:00:00  8 °C\\n(5:00 am CEST | Sunday, May 23, 2021)   \n",
       "\n",
       "                                            humidity  \\\n",
       "8  average: 90% (87 to 93%)\\n(4:00 am CEST | Sund...   \n",
       "9  average: 87% (87%)\\n(5:00 am CEST | Sunday, Ma...   \n",
       "\n",
       "                                     wind speed  \\\n",
       "8  3 m/s\\n(4:00 am CEST | Sunday, May 23, 2021)   \n",
       "9  2 m/s\\n(5:00 am CEST | Sunday, May 23, 2021)   \n",
       "\n",
       "                          Precipitation amount  \\\n",
       "8  rain\\n(4:00 am CEST | Sunday, May 23, 2021)   \n",
       "9  rain\\n(5:00 am CEST | Sunday, May 23, 2021)   \n",
       "\n",
       "                                  query  \\\n",
       "8  Moon Phase calculatorMay 23, 2021 4h   \n",
       "9  Moon Phase calculatorMay 23, 2021 5h   \n",
       "\n",
       "                       Moon Phase calculator  \n",
       "8  | waxing gibbous moon\\n83.71% illuminated  \n",
       "9  | waxing gibbous moon\\n84.07% illuminated  "
      ]
     },
     "metadata": {},
     "output_type": "display_data"
    },
    {
     "name": "stderr",
     "output_type": "stream",
     "text": [
      "\r",
      " 12%|█████████▎                                                                 | 241/1940 [1:19:44<8:30:44, 18.04s/it]"
     ]
    },
    {
     "name": "stdout",
     "output_type": "stream",
     "text": [
      "QUERY:  Precipitation amount in Zollikofen May 23, 2021 6h\n",
      "QUERY:  temperature in Zollikofen May 23, 2021 6h\n",
      "QUERY:  humidity in Zollikofen May 23, 2021 6h\n",
      "QUERY:  wind speed in Zollikofen May 23, 2021 6h\n",
      "QUERY:  Moon Phase calculatorMay 23, 2021 6h\n"
     ]
    },
    {
     "name": "stderr",
     "output_type": "stream",
     "text": [
      "\r",
      " 12%|█████████▎                                                                 | 242/1940 [1:20:02<8:24:35, 17.83s/it]"
     ]
    },
    {
     "name": "stdout",
     "output_type": "stream",
     "text": [
      "QUERY:  Precipitation amount in Zollikofen May 23, 2021 7h\n",
      "QUERY:  temperature in Zollikofen May 23, 2021 7h\n",
      "QUERY:  humidity in Zollikofen May 23, 2021 7h\n",
      "QUERY:  wind speed in Zollikofen May 23, 2021 7h\n",
      "QUERY:  Moon Phase calculatorMay 23, 2021 7h\n"
     ]
    },
    {
     "name": "stderr",
     "output_type": "stream",
     "text": [
      "\r",
      " 13%|█████████▍                                                                 | 243/1940 [1:20:20<8:24:50, 17.85s/it]"
     ]
    },
    {
     "name": "stdout",
     "output_type": "stream",
     "text": [
      "QUERY:  Precipitation amount in Zollikofen May 23, 2021 8h\n",
      "ERROR:------------- results  ----------  Precipitation amount in Zollikofen May 23, 2021 8h\n",
      "QUERY:  temperature in Zollikofen May 23, 2021 8h\n",
      "QUERY:  humidity in Zollikofen May 23, 2021 8h\n",
      "QUERY:  wind speed in Zollikofen May 23, 2021 8h\n",
      "QUERY:  Moon Phase calculatorMay 23, 2021 8h\n"
     ]
    },
    {
     "name": "stderr",
     "output_type": "stream",
     "text": [
      "\r",
      " 13%|█████████▍                                                                 | 244/1940 [1:20:39<8:37:41, 18.31s/it]"
     ]
    },
    {
     "name": "stdout",
     "output_type": "stream",
     "text": [
      "QUERY:  Precipitation amount in Zollikofen May 23, 2021 9h\n",
      "QUERY:  temperature in Zollikofen May 23, 2021 9h\n",
      "QUERY:  humidity in Zollikofen May 23, 2021 9h\n",
      "QUERY:  wind speed in Zollikofen May 23, 2021 9h\n",
      "QUERY:  Moon Phase calculatorMay 23, 2021 9h\n"
     ]
    },
    {
     "name": "stderr",
     "output_type": "stream",
     "text": [
      "\r",
      " 13%|█████████▍                                                                 | 245/1940 [1:21:01<9:09:15, 19.44s/it]"
     ]
    },
    {
     "name": "stdout",
     "output_type": "stream",
     "text": [
      "QUERY:  Precipitation amount in Zollikofen May 23, 2021 10h\n",
      "QUERY:  temperature in Zollikofen May 23, 2021 10h\n",
      "QUERY:  humidity in Zollikofen May 23, 2021 10h\n",
      "QUERY:  wind speed in Zollikofen May 23, 2021 10h\n",
      "QUERY:  Moon Phase calculatorMay 23, 2021 10h\n"
     ]
    },
    {
     "name": "stderr",
     "output_type": "stream",
     "text": [
      "\r",
      " 13%|█████████▌                                                                 | 246/1940 [1:21:25<9:44:36, 20.71s/it]"
     ]
    },
    {
     "name": "stdout",
     "output_type": "stream",
     "text": [
      "QUERY:  Precipitation amount in Zollikofen May 23, 2021 11h\n",
      "QUERY:  temperature in Zollikofen May 23, 2021 11h\n",
      "QUERY:  humidity in Zollikofen May 23, 2021 11h\n",
      "QUERY:  wind speed in Zollikofen May 23, 2021 11h\n",
      "QUERY:  Moon Phase calculatorMay 23, 2021 11h\n"
     ]
    },
    {
     "name": "stderr",
     "output_type": "stream",
     "text": [
      "\r",
      " 13%|█████████▌                                                                 | 247/1940 [1:21:46<9:51:00, 20.95s/it]"
     ]
    },
    {
     "name": "stdout",
     "output_type": "stream",
     "text": [
      "QUERY:  Precipitation amount in Zollikofen May 23, 2021 12h\n",
      "QUERY:  temperature in Zollikofen May 23, 2021 12h\n",
      "QUERY:  humidity in Zollikofen May 23, 2021 12h\n",
      "QUERY:  wind speed in Zollikofen May 23, 2021 12h\n",
      "QUERY:  Moon Phase calculatorMay 23, 2021 12h\n"
     ]
    },
    {
     "name": "stderr",
     "output_type": "stream",
     "text": [
      "\r",
      " 13%|█████████▌                                                                 | 248/1940 [1:22:08<9:57:59, 21.21s/it]"
     ]
    },
    {
     "name": "stdout",
     "output_type": "stream",
     "text": [
      "QUERY:  Precipitation amount in Zollikofen May 23, 2021 13h\n",
      "QUERY:  temperature in Zollikofen May 23, 2021 13h\n",
      "QUERY:  humidity in Zollikofen May 23, 2021 13h\n",
      "QUERY:  wind speed in Zollikofen May 23, 2021 13h\n",
      "QUERY:  Moon Phase calculatorMay 23, 2021 13h\n"
     ]
    },
    {
     "name": "stderr",
     "output_type": "stream",
     "text": [
      "\r",
      " 13%|█████████▍                                                                | 249/1940 [1:22:32<10:18:19, 21.94s/it]"
     ]
    },
    {
     "name": "stdout",
     "output_type": "stream",
     "text": [
      "QUERY:  Precipitation amount in Zollikofen May 23, 2021 14h\n",
      "QUERY:  temperature in Zollikofen May 23, 2021 14h\n",
      "QUERY:  humidity in Zollikofen May 23, 2021 14h\n",
      "QUERY:  wind speed in Zollikofen May 23, 2021 14h\n",
      "QUERY:  Moon Phase calculatorMay 23, 2021 14h\n"
     ]
    },
    {
     "name": "stderr",
     "output_type": "stream",
     "text": [
      "\r",
      " 13%|█████████▌                                                                | 250/1940 [1:22:53<10:12:34, 21.75s/it]"
     ]
    },
    {
     "name": "stdout",
     "output_type": "stream",
     "text": [
      "QUERY:  Precipitation amount in Zollikofen May 23, 2021 15h\n",
      "QUERY:  temperature in Zollikofen May 23, 2021 15h\n",
      "QUERY:  humidity in Zollikofen May 23, 2021 15h\n",
      "QUERY:  wind speed in Zollikofen May 23, 2021 15h\n",
      "QUERY:  Moon Phase calculatorMay 23, 2021 15h\n",
      "(5680, 7)\n"
     ]
    },
    {
     "data": {
      "text/html": [
       "<div>\n",
       "<style scoped>\n",
       "    .dataframe tbody tr th:only-of-type {\n",
       "        vertical-align: middle;\n",
       "    }\n",
       "\n",
       "    .dataframe tbody tr th {\n",
       "        vertical-align: top;\n",
       "    }\n",
       "\n",
       "    .dataframe thead th {\n",
       "        text-align: right;\n",
       "    }\n",
       "</style>\n",
       "<table border=\"1\" class=\"dataframe\">\n",
       "  <thead>\n",
       "    <tr style=\"text-align: right;\">\n",
       "      <th></th>\n",
       "      <th>date</th>\n",
       "      <th>temperature</th>\n",
       "      <th>humidity</th>\n",
       "      <th>wind speed</th>\n",
       "      <th>Precipitation amount</th>\n",
       "      <th>query</th>\n",
       "      <th>Moon Phase calculator</th>\n",
       "    </tr>\n",
       "  </thead>\n",
       "  <tbody>\n",
       "    <tr>\n",
       "      <th>8</th>\n",
       "      <td>2021-05-23 14:00:00</td>\n",
       "      <td>15 °C\\n(2:00 pm CEST | Sunday, May 23, 2021)</td>\n",
       "      <td>average: 48% (44 to 51%)\\n(2:00 pm CEST | Sund...</td>\n",
       "      <td>5 m/s\\n(2:00 pm CEST | Sunday, May 23, 2021)</td>\n",
       "      <td>no precipitation\\n(2:00 pm CEST | Sunday, May ...</td>\n",
       "      <td>Moon Phase calculatorMay 23, 2021 14h</td>\n",
       "      <td>| waxing gibbous moon\\n87.20% illuminated</td>\n",
       "    </tr>\n",
       "    <tr>\n",
       "      <th>9</th>\n",
       "      <td>2021-05-23 15:00:00</td>\n",
       "      <td>17 °C\\n(3:00 pm CEST | Sunday, May 23, 2021)</td>\n",
       "      <td>average: 43% (42 to 45%)\\n(3:00 pm CEST | Sund...</td>\n",
       "      <td>3 m/s\\n(3:00 pm CEST | Sunday, May 23, 2021)</td>\n",
       "      <td>no precipitation\\n(3:00 pm CEST | Sunday, May ...</td>\n",
       "      <td>Moon Phase calculatorMay 23, 2021 15h</td>\n",
       "      <td>| waxing gibbous moon\\n87.54% illuminated</td>\n",
       "    </tr>\n",
       "  </tbody>\n",
       "</table>\n",
       "</div>"
      ],
      "text/plain": [
       "                 date                                   temperature  \\\n",
       "8 2021-05-23 14:00:00  15 °C\\n(2:00 pm CEST | Sunday, May 23, 2021)   \n",
       "9 2021-05-23 15:00:00  17 °C\\n(3:00 pm CEST | Sunday, May 23, 2021)   \n",
       "\n",
       "                                            humidity  \\\n",
       "8  average: 48% (44 to 51%)\\n(2:00 pm CEST | Sund...   \n",
       "9  average: 43% (42 to 45%)\\n(3:00 pm CEST | Sund...   \n",
       "\n",
       "                                     wind speed  \\\n",
       "8  5 m/s\\n(2:00 pm CEST | Sunday, May 23, 2021)   \n",
       "9  3 m/s\\n(3:00 pm CEST | Sunday, May 23, 2021)   \n",
       "\n",
       "                                Precipitation amount  \\\n",
       "8  no precipitation\\n(2:00 pm CEST | Sunday, May ...   \n",
       "9  no precipitation\\n(3:00 pm CEST | Sunday, May ...   \n",
       "\n",
       "                                   query  \\\n",
       "8  Moon Phase calculatorMay 23, 2021 14h   \n",
       "9  Moon Phase calculatorMay 23, 2021 15h   \n",
       "\n",
       "                       Moon Phase calculator  \n",
       "8  | waxing gibbous moon\\n87.20% illuminated  \n",
       "9  | waxing gibbous moon\\n87.54% illuminated  "
      ]
     },
     "metadata": {},
     "output_type": "display_data"
    },
    {
     "name": "stderr",
     "output_type": "stream",
     "text": [
      "\r",
      " 13%|█████████▌                                                                | 251/1940 [1:23:15<10:10:34, 21.69s/it]"
     ]
    },
    {
     "name": "stdout",
     "output_type": "stream",
     "text": [
      "QUERY:  Precipitation amount in Zollikofen May 23, 2021 16h\n",
      "QUERY:  temperature in Zollikofen May 23, 2021 16h\n",
      "QUERY:  humidity in Zollikofen May 23, 2021 16h\n",
      "QUERY:  wind speed in Zollikofen May 23, 2021 16h\n",
      "QUERY:  Moon Phase calculatorMay 23, 2021 16h\n"
     ]
    },
    {
     "name": "stderr",
     "output_type": "stream",
     "text": [
      "\r",
      " 13%|█████████▌                                                                | 252/1940 [1:23:38<10:20:19, 22.05s/it]"
     ]
    },
    {
     "name": "stdout",
     "output_type": "stream",
     "text": [
      "QUERY:  Precipitation amount in Zollikofen May 23, 2021 17h\n",
      "QUERY:  temperature in Zollikofen May 23, 2021 17h\n",
      "QUERY:  humidity in Zollikofen May 23, 2021 17h\n",
      "QUERY:  wind speed in Zollikofen May 23, 2021 17h\n",
      "QUERY:  Moon Phase calculatorMay 23, 2021 17h\n"
     ]
    },
    {
     "name": "stderr",
     "output_type": "stream",
     "text": [
      "\r",
      " 13%|█████████▋                                                                | 253/1940 [1:23:59<10:17:05, 21.95s/it]"
     ]
    },
    {
     "name": "stdout",
     "output_type": "stream",
     "text": [
      "QUERY:  Precipitation amount in Zollikofen May 23, 2021 18h\n",
      "QUERY:  temperature in Zollikofen May 23, 2021 18h\n",
      "QUERY:  humidity in Zollikofen May 23, 2021 18h\n",
      "QUERY:  wind speed in Zollikofen May 23, 2021 18h\n",
      "QUERY:  Moon Phase calculatorMay 23, 2021 18h\n"
     ]
    },
    {
     "name": "stderr",
     "output_type": "stream",
     "text": [
      "\r",
      " 13%|█████████▋                                                                | 254/1940 [1:24:20<10:03:29, 21.48s/it]"
     ]
    },
    {
     "name": "stdout",
     "output_type": "stream",
     "text": [
      "QUERY:  Precipitation amount in Zollikofen May 23, 2021 19h\n",
      "QUERY:  temperature in Zollikofen May 23, 2021 19h\n",
      "QUERY:  humidity in Zollikofen May 23, 2021 19h\n",
      "QUERY:  wind speed in Zollikofen May 23, 2021 19h\n",
      "QUERY:  Moon Phase calculatorMay 23, 2021 19h\n"
     ]
    },
    {
     "name": "stderr",
     "output_type": "stream",
     "text": [
      "\r",
      " 13%|█████████▋                                                                | 255/1940 [1:24:41<10:05:57, 21.58s/it]"
     ]
    },
    {
     "name": "stdout",
     "output_type": "stream",
     "text": [
      "QUERY:  Precipitation amount in Zollikofen May 23, 2021 20h\n",
      "QUERY:  temperature in Zollikofen May 23, 2021 20h\n",
      "QUERY:  humidity in Zollikofen May 23, 2021 20h\n",
      "QUERY:  wind speed in Zollikofen May 23, 2021 20h\n",
      "QUERY:  Moon Phase calculatorMay 23, 2021 20h\n"
     ]
    },
    {
     "name": "stderr",
     "output_type": "stream",
     "text": [
      "\r",
      " 13%|█████████▊                                                                | 256/1940 [1:25:03<10:04:06, 21.52s/it]"
     ]
    },
    {
     "name": "stdout",
     "output_type": "stream",
     "text": [
      "QUERY:  Precipitation amount in Zollikofen May 23, 2021 21h\n",
      "QUERY:  temperature in Zollikofen May 23, 2021 21h\n",
      "QUERY:  humidity in Zollikofen May 23, 2021 21h\n",
      "QUERY:  wind speed in Zollikofen May 23, 2021 21h\n",
      "QUERY:  Moon Phase calculatorMay 23, 2021 21h\n"
     ]
    },
    {
     "name": "stderr",
     "output_type": "stream",
     "text": [
      "\r",
      " 13%|█████████▉                                                                 | 257/1940 [1:25:24<9:59:17, 21.36s/it]"
     ]
    },
    {
     "name": "stdout",
     "output_type": "stream",
     "text": [
      "QUERY:  Precipitation amount in Zollikofen May 23, 2021 22h\n",
      "QUERY:  temperature in Zollikofen May 23, 2021 22h\n",
      "QUERY:  humidity in Zollikofen May 23, 2021 22h\n",
      "QUERY:  wind speed in Zollikofen May 23, 2021 22h\n",
      "QUERY:  Moon Phase calculatorMay 23, 2021 22h\n"
     ]
    },
    {
     "name": "stderr",
     "output_type": "stream",
     "text": [
      "\r",
      " 13%|█████████▉                                                                 | 258/1940 [1:25:44<9:44:37, 20.85s/it]"
     ]
    },
    {
     "name": "stdout",
     "output_type": "stream",
     "text": [
      "QUERY:  Precipitation amount in Zollikofen May 23, 2021 23h\n",
      "QUERY:  temperature in Zollikofen May 23, 2021 23h\n",
      "QUERY:  humidity in Zollikofen May 23, 2021 23h\n",
      "QUERY:  wind speed in Zollikofen May 23, 2021 23h\n",
      "QUERY:  Moon Phase calculatorMay 23, 2021 23h\n"
     ]
    },
    {
     "name": "stderr",
     "output_type": "stream",
     "text": [
      "\r",
      " 13%|██████████                                                                 | 259/1940 [1:26:03<9:36:49, 20.59s/it]"
     ]
    },
    {
     "name": "stdout",
     "output_type": "stream",
     "text": [
      "QUERY:  Precipitation amount in Zollikofen May 24, 2021 0h\n",
      "QUERY:  temperature in Zollikofen May 24, 2021 0h\n",
      "QUERY:  humidity in Zollikofen May 24, 2021 0h\n",
      "QUERY:  wind speed in Zollikofen May 24, 2021 0h\n",
      "QUERY:  Moon Phase calculatorMay 24, 2021 0h\n"
     ]
    },
    {
     "name": "stderr",
     "output_type": "stream",
     "text": [
      "\r",
      " 13%|██████████                                                                 | 260/1940 [1:26:26<9:50:11, 21.08s/it]"
     ]
    },
    {
     "name": "stdout",
     "output_type": "stream",
     "text": [
      "QUERY:  Precipitation amount in Zollikofen May 24, 2021 1h\n",
      "QUERY:  temperature in Zollikofen May 24, 2021 1h\n",
      "QUERY:  humidity in Zollikofen May 24, 2021 1h\n",
      "QUERY:  wind speed in Zollikofen May 24, 2021 1h\n",
      "QUERY:  Moon Phase calculatorMay 24, 2021 1h\n",
      "(5690, 7)\n"
     ]
    },
    {
     "data": {
      "text/html": [
       "<div>\n",
       "<style scoped>\n",
       "    .dataframe tbody tr th:only-of-type {\n",
       "        vertical-align: middle;\n",
       "    }\n",
       "\n",
       "    .dataframe tbody tr th {\n",
       "        vertical-align: top;\n",
       "    }\n",
       "\n",
       "    .dataframe thead th {\n",
       "        text-align: right;\n",
       "    }\n",
       "</style>\n",
       "<table border=\"1\" class=\"dataframe\">\n",
       "  <thead>\n",
       "    <tr style=\"text-align: right;\">\n",
       "      <th></th>\n",
       "      <th>date</th>\n",
       "      <th>temperature</th>\n",
       "      <th>humidity</th>\n",
       "      <th>wind speed</th>\n",
       "      <th>Precipitation amount</th>\n",
       "      <th>query</th>\n",
       "      <th>Moon Phase calculator</th>\n",
       "    </tr>\n",
       "  </thead>\n",
       "  <tbody>\n",
       "    <tr>\n",
       "      <th>8</th>\n",
       "      <td>2021-05-24 00:00:00</td>\n",
       "      <td>8 °C\\n(12:00 am CEST | Monday, May 24, 2021)</td>\n",
       "      <td>average: 93% (93%)\\n(12:00 am CEST | Monday, M...</td>\n",
       "      <td>2 m/s\\n(12:00 am CEST | Monday, May 24, 2021)</td>\n",
       "      <td>no precipitation\\n(12:00 am CEST | Monday, May...</td>\n",
       "      <td>Moon Phase calculatorMay 24, 2021 0h</td>\n",
       "      <td>| waxing gibbous moon\\n90.37% illuminated</td>\n",
       "    </tr>\n",
       "    <tr>\n",
       "      <th>9</th>\n",
       "      <td>2021-05-24 01:00:00</td>\n",
       "      <td>8 °C\\n(1:00 am CEST | Monday, May 24, 2021)</td>\n",
       "      <td>average: 93% (93%)\\n(1:00 am CEST | Monday, Ma...</td>\n",
       "      <td>3 m/s\\n(1:00 am CEST | Monday, May 24, 2021)</td>\n",
       "      <td>no precipitation\\n(1:00 am CEST | Monday, May ...</td>\n",
       "      <td>Moon Phase calculatorMay 24, 2021 1h</td>\n",
       "      <td>| waxing gibbous moon\\n90.66% illuminated</td>\n",
       "    </tr>\n",
       "  </tbody>\n",
       "</table>\n",
       "</div>"
      ],
      "text/plain": [
       "                 date                                   temperature  \\\n",
       "8 2021-05-24 00:00:00  8 °C\\n(12:00 am CEST | Monday, May 24, 2021)   \n",
       "9 2021-05-24 01:00:00   8 °C\\n(1:00 am CEST | Monday, May 24, 2021)   \n",
       "\n",
       "                                            humidity  \\\n",
       "8  average: 93% (93%)\\n(12:00 am CEST | Monday, M...   \n",
       "9  average: 93% (93%)\\n(1:00 am CEST | Monday, Ma...   \n",
       "\n",
       "                                      wind speed  \\\n",
       "8  2 m/s\\n(12:00 am CEST | Monday, May 24, 2021)   \n",
       "9   3 m/s\\n(1:00 am CEST | Monday, May 24, 2021)   \n",
       "\n",
       "                                Precipitation amount  \\\n",
       "8  no precipitation\\n(12:00 am CEST | Monday, May...   \n",
       "9  no precipitation\\n(1:00 am CEST | Monday, May ...   \n",
       "\n",
       "                                  query  \\\n",
       "8  Moon Phase calculatorMay 24, 2021 0h   \n",
       "9  Moon Phase calculatorMay 24, 2021 1h   \n",
       "\n",
       "                       Moon Phase calculator  \n",
       "8  | waxing gibbous moon\\n90.37% illuminated  \n",
       "9  | waxing gibbous moon\\n90.66% illuminated  "
      ]
     },
     "metadata": {},
     "output_type": "display_data"
    },
    {
     "name": "stderr",
     "output_type": "stream",
     "text": [
      "\r",
      " 13%|█████████▉                                                                | 261/1940 [1:26:49<10:07:43, 21.72s/it]"
     ]
    },
    {
     "name": "stdout",
     "output_type": "stream",
     "text": [
      "QUERY:  Precipitation amount in Zollikofen May 24, 2021 2h\n",
      "QUERY:  temperature in Zollikofen May 24, 2021 2h\n",
      "QUERY:  humidity in Zollikofen May 24, 2021 2h\n",
      "QUERY:  wind speed in Zollikofen May 24, 2021 2h\n",
      "QUERY:  Moon Phase calculatorMay 24, 2021 2h\n"
     ]
    },
    {
     "name": "stderr",
     "output_type": "stream",
     "text": [
      "\r",
      " 14%|█████████▉                                                                | 262/1940 [1:27:12<10:15:20, 22.00s/it]"
     ]
    },
    {
     "name": "stdout",
     "output_type": "stream",
     "text": [
      "QUERY:  Precipitation amount in Zollikofen May 24, 2021 3h\n",
      "QUERY:  temperature in Zollikofen May 24, 2021 3h\n",
      "QUERY:  humidity in Zollikofen May 24, 2021 3h\n",
      "QUERY:  wind speed in Zollikofen May 24, 2021 3h\n",
      "QUERY:  Moon Phase calculatorMay 24, 2021 3h\n"
     ]
    },
    {
     "name": "stderr",
     "output_type": "stream",
     "text": [
      "\r",
      " 14%|██████████                                                                | 263/1940 [1:27:34<10:19:22, 22.16s/it]"
     ]
    },
    {
     "name": "stdout",
     "output_type": "stream",
     "text": [
      "QUERY:  Precipitation amount in Zollikofen May 24, 2021 4h\n",
      "QUERY:  temperature in Zollikofen May 24, 2021 4h\n",
      "QUERY:  humidity in Zollikofen May 24, 2021 4h\n",
      "QUERY:  wind speed in Zollikofen May 24, 2021 4h\n",
      "QUERY:  Moon Phase calculatorMay 24, 2021 4h\n"
     ]
    },
    {
     "name": "stderr",
     "output_type": "stream",
     "text": [
      "\r",
      " 14%|██████████                                                                | 264/1940 [1:27:57<10:27:28, 22.46s/it]"
     ]
    },
    {
     "name": "stdout",
     "output_type": "stream",
     "text": [
      "QUERY:  Precipitation amount in Zollikofen May 24, 2021 5h\n",
      "QUERY:  temperature in Zollikofen May 24, 2021 5h\n",
      "QUERY:  humidity in Zollikofen May 24, 2021 5h\n",
      "QUERY:  wind speed in Zollikofen May 24, 2021 5h\n",
      "QUERY:  Moon Phase calculatorMay 24, 2021 5h\n"
     ]
    },
    {
     "name": "stderr",
     "output_type": "stream",
     "text": [
      "\r",
      " 14%|██████████                                                                | 265/1940 [1:28:19<10:20:33, 22.23s/it]"
     ]
    },
    {
     "name": "stdout",
     "output_type": "stream",
     "text": [
      "QUERY:  Precipitation amount in Zollikofen May 24, 2021 6h\n",
      "QUERY:  temperature in Zollikofen May 24, 2021 6h\n",
      "QUERY:  humidity in Zollikofen May 24, 2021 6h\n",
      "QUERY:  wind speed in Zollikofen May 24, 2021 6h\n",
      "QUERY:  Moon Phase calculatorMay 24, 2021 6h\n"
     ]
    },
    {
     "name": "stderr",
     "output_type": "stream",
     "text": [
      "\r",
      " 14%|██████████▏                                                               | 266/1940 [1:28:41<10:19:15, 22.20s/it]"
     ]
    },
    {
     "name": "stdout",
     "output_type": "stream",
     "text": [
      "QUERY:  Precipitation amount in Zollikofen May 24, 2021 7h\n",
      "QUERY:  temperature in Zollikofen May 24, 2021 7h\n",
      "QUERY:  humidity in Zollikofen May 24, 2021 7h\n",
      "QUERY:  wind speed in Zollikofen May 24, 2021 7h\n",
      "QUERY:  Moon Phase calculatorMay 24, 2021 7h\n"
     ]
    },
    {
     "name": "stderr",
     "output_type": "stream",
     "text": [
      "\r",
      " 14%|██████████▏                                                               | 267/1940 [1:29:04<10:25:57, 22.45s/it]"
     ]
    },
    {
     "name": "stdout",
     "output_type": "stream",
     "text": [
      "QUERY:  Precipitation amount in Zollikofen May 24, 2021 8h\n",
      "QUERY:  temperature in Zollikofen May 24, 2021 8h\n",
      "QUERY:  humidity in Zollikofen May 24, 2021 8h\n",
      "QUERY:  wind speed in Zollikofen May 24, 2021 8h\n",
      "QUERY:  Moon Phase calculatorMay 24, 2021 8h\n"
     ]
    },
    {
     "name": "stderr",
     "output_type": "stream",
     "text": [
      "\r",
      " 14%|██████████▏                                                               | 268/1940 [1:29:27<10:27:56, 22.53s/it]"
     ]
    },
    {
     "name": "stdout",
     "output_type": "stream",
     "text": [
      "QUERY:  Precipitation amount in Zollikofen May 24, 2021 9h\n",
      "QUERY:  temperature in Zollikofen May 24, 2021 9h\n",
      "QUERY:  humidity in Zollikofen May 24, 2021 9h\n",
      "QUERY:  wind speed in Zollikofen May 24, 2021 9h\n",
      "QUERY:  Moon Phase calculatorMay 24, 2021 9h\n"
     ]
    },
    {
     "name": "stderr",
     "output_type": "stream",
     "text": [
      "\r",
      " 14%|██████████▎                                                               | 269/1940 [1:29:52<10:49:46, 23.33s/it]"
     ]
    },
    {
     "name": "stdout",
     "output_type": "stream",
     "text": [
      "QUERY:  Precipitation amount in Zollikofen May 24, 2021 10h\n",
      "QUERY:  temperature in Zollikofen May 24, 2021 10h\n",
      "QUERY:  humidity in Zollikofen May 24, 2021 10h\n",
      "QUERY:  wind speed in Zollikofen May 24, 2021 10h\n",
      "QUERY:  Moon Phase calculatorMay 24, 2021 10h\n"
     ]
    },
    {
     "name": "stderr",
     "output_type": "stream",
     "text": [
      "\r",
      " 14%|██████████▎                                                               | 270/1940 [1:30:15<10:44:21, 23.15s/it]"
     ]
    },
    {
     "name": "stdout",
     "output_type": "stream",
     "text": [
      "QUERY:  Precipitation amount in Zollikofen May 24, 2021 11h\n",
      "QUERY:  temperature in Zollikofen May 24, 2021 11h\n",
      "QUERY:  humidity in Zollikofen May 24, 2021 11h\n",
      "QUERY:  wind speed in Zollikofen May 24, 2021 11h\n",
      "QUERY:  Moon Phase calculatorMay 24, 2021 11h\n",
      "(5700, 7)\n"
     ]
    },
    {
     "data": {
      "text/html": [
       "<div>\n",
       "<style scoped>\n",
       "    .dataframe tbody tr th:only-of-type {\n",
       "        vertical-align: middle;\n",
       "    }\n",
       "\n",
       "    .dataframe tbody tr th {\n",
       "        vertical-align: top;\n",
       "    }\n",
       "\n",
       "    .dataframe thead th {\n",
       "        text-align: right;\n",
       "    }\n",
       "</style>\n",
       "<table border=\"1\" class=\"dataframe\">\n",
       "  <thead>\n",
       "    <tr style=\"text-align: right;\">\n",
       "      <th></th>\n",
       "      <th>date</th>\n",
       "      <th>temperature</th>\n",
       "      <th>humidity</th>\n",
       "      <th>wind speed</th>\n",
       "      <th>Precipitation amount</th>\n",
       "      <th>query</th>\n",
       "      <th>Moon Phase calculator</th>\n",
       "    </tr>\n",
       "  </thead>\n",
       "  <tbody>\n",
       "    <tr>\n",
       "      <th>8</th>\n",
       "      <td>2021-05-24 10:00:00</td>\n",
       "      <td>10 °C\\n(10:00 am CEST | Monday, May 24, 2021)</td>\n",
       "      <td>average: 82% (82%)\\n(10:00 am CEST | Monday, M...</td>\n",
       "      <td>0 m/s\\n(10:00 am CEST | Monday, May 24, 2021)</td>\n",
       "      <td>no precipitation\\n(10:00 am CEST | Monday, May...</td>\n",
       "      <td>Moon Phase calculatorMay 24, 2021 10h</td>\n",
       "      <td>| waxing gibbous moon\\n93.15% illuminated</td>\n",
       "    </tr>\n",
       "    <tr>\n",
       "      <th>9</th>\n",
       "      <td>2021-05-24 11:00:00</td>\n",
       "      <td>11 °C\\n(11:00 am CEST | Monday, May 24, 2021)</td>\n",
       "      <td>average: 79% (77 to 82%)\\n(11:00 am CEST | Mon...</td>\n",
       "      <td>1 m/s\\n(11:00 am CEST | Monday, May 24, 2021)</td>\n",
       "      <td>no precipitation\\n(11:00 am CEST | Monday, May...</td>\n",
       "      <td>Moon Phase calculatorMay 24, 2021 11h</td>\n",
       "      <td>| waxing gibbous moon\\n93.40% illuminated</td>\n",
       "    </tr>\n",
       "  </tbody>\n",
       "</table>\n",
       "</div>"
      ],
      "text/plain": [
       "                 date                                    temperature  \\\n",
       "8 2021-05-24 10:00:00  10 °C\\n(10:00 am CEST | Monday, May 24, 2021)   \n",
       "9 2021-05-24 11:00:00  11 °C\\n(11:00 am CEST | Monday, May 24, 2021)   \n",
       "\n",
       "                                            humidity  \\\n",
       "8  average: 82% (82%)\\n(10:00 am CEST | Monday, M...   \n",
       "9  average: 79% (77 to 82%)\\n(11:00 am CEST | Mon...   \n",
       "\n",
       "                                      wind speed  \\\n",
       "8  0 m/s\\n(10:00 am CEST | Monday, May 24, 2021)   \n",
       "9  1 m/s\\n(11:00 am CEST | Monday, May 24, 2021)   \n",
       "\n",
       "                                Precipitation amount  \\\n",
       "8  no precipitation\\n(10:00 am CEST | Monday, May...   \n",
       "9  no precipitation\\n(11:00 am CEST | Monday, May...   \n",
       "\n",
       "                                   query  \\\n",
       "8  Moon Phase calculatorMay 24, 2021 10h   \n",
       "9  Moon Phase calculatorMay 24, 2021 11h   \n",
       "\n",
       "                       Moon Phase calculator  \n",
       "8  | waxing gibbous moon\\n93.15% illuminated  \n",
       "9  | waxing gibbous moon\\n93.40% illuminated  "
      ]
     },
     "metadata": {},
     "output_type": "display_data"
    },
    {
     "name": "stderr",
     "output_type": "stream",
     "text": [
      "\r",
      " 14%|██████████▎                                                               | 271/1940 [1:30:38<10:46:51, 23.25s/it]"
     ]
    },
    {
     "name": "stdout",
     "output_type": "stream",
     "text": [
      "QUERY:  Precipitation amount in Zollikofen May 24, 2021 12h\n",
      "QUERY:  temperature in Zollikofen May 24, 2021 12h\n",
      "QUERY:  humidity in Zollikofen May 24, 2021 12h\n",
      "QUERY:  wind speed in Zollikofen May 24, 2021 12h\n",
      "QUERY:  Moon Phase calculatorMay 24, 2021 12h\n"
     ]
    },
    {
     "name": "stderr",
     "output_type": "stream",
     "text": [
      "\r",
      " 14%|██████████▍                                                               | 272/1940 [1:30:57<10:05:53, 21.79s/it]"
     ]
    },
    {
     "name": "stdout",
     "output_type": "stream",
     "text": [
      "QUERY:  Precipitation amount in Zollikofen May 24, 2021 13h\n",
      "QUERY:  temperature in Zollikofen May 24, 2021 13h\n",
      "QUERY:  humidity in Zollikofen May 24, 2021 13h\n",
      "QUERY:  wind speed in Zollikofen May 24, 2021 13h\n",
      "QUERY:  Moon Phase calculatorMay 24, 2021 13h\n"
     ]
    },
    {
     "name": "stderr",
     "output_type": "stream",
     "text": [
      "\r",
      " 14%|██████████▍                                                               | 273/1940 [1:31:20<10:19:20, 22.29s/it]"
     ]
    },
    {
     "name": "stdout",
     "output_type": "stream",
     "text": [
      "QUERY:  Precipitation amount in Zollikofen May 24, 2021 14h\n",
      "QUERY:  temperature in Zollikofen May 24, 2021 14h\n",
      "QUERY:  humidity in Zollikofen May 24, 2021 14h\n",
      "QUERY:  wind speed in Zollikofen May 24, 2021 14h\n",
      "QUERY:  Moon Phase calculatorMay 24, 2021 14h\n"
     ]
    },
    {
     "name": "stderr",
     "output_type": "stream",
     "text": [
      "\r",
      " 14%|██████████▍                                                               | 274/1940 [1:31:42<10:15:49, 22.18s/it]"
     ]
    },
    {
     "name": "stdout",
     "output_type": "stream",
     "text": [
      "QUERY:  Precipitation amount in Zollikofen May 24, 2021 15h\n",
      "QUERY:  temperature in Zollikofen May 24, 2021 15h\n",
      "QUERY:  humidity in Zollikofen May 24, 2021 15h\n",
      "QUERY:  wind speed in Zollikofen May 24, 2021 15h\n",
      "QUERY:  Moon Phase calculatorMay 24, 2021 15h\n"
     ]
    },
    {
     "name": "stderr",
     "output_type": "stream",
     "text": [
      "\r",
      " 14%|██████████▍                                                               | 275/1940 [1:32:05<10:20:03, 22.34s/it]"
     ]
    },
    {
     "name": "stdout",
     "output_type": "stream",
     "text": [
      "QUERY:  Precipitation amount in Zollikofen May 24, 2021 16h\n",
      "QUERY:  temperature in Zollikofen May 24, 2021 16h\n",
      "QUERY:  humidity in Zollikofen May 24, 2021 16h\n",
      "QUERY:  wind speed in Zollikofen May 24, 2021 16h\n",
      "QUERY:  Moon Phase calculatorMay 24, 2021 16h\n"
     ]
    },
    {
     "name": "stderr",
     "output_type": "stream",
     "text": [
      "\r",
      " 14%|██████████▌                                                               | 276/1940 [1:32:27<10:17:48, 22.28s/it]"
     ]
    },
    {
     "name": "stdout",
     "output_type": "stream",
     "text": [
      "QUERY:  Precipitation amount in Zollikofen May 24, 2021 17h\n",
      "QUERY:  temperature in Zollikofen May 24, 2021 17h\n",
      "QUERY:  humidity in Zollikofen May 24, 2021 17h\n",
      "QUERY:  wind speed in Zollikofen May 24, 2021 17h\n",
      "QUERY:  Moon Phase calculatorMay 24, 2021 17h\n"
     ]
    },
    {
     "name": "stderr",
     "output_type": "stream",
     "text": [
      "\r",
      " 14%|██████████▌                                                               | 277/1940 [1:32:50<10:20:23, 22.38s/it]"
     ]
    },
    {
     "name": "stdout",
     "output_type": "stream",
     "text": [
      "QUERY:  Precipitation amount in Zollikofen May 24, 2021 18h\n",
      "QUERY:  temperature in Zollikofen May 24, 2021 18h\n",
      "QUERY:  humidity in Zollikofen May 24, 2021 18h\n",
      "QUERY:  wind speed in Zollikofen May 24, 2021 18h\n",
      "QUERY:  Moon Phase calculatorMay 24, 2021 18h\n"
     ]
    },
    {
     "name": "stderr",
     "output_type": "stream",
     "text": [
      "\r",
      " 14%|██████████▌                                                               | 278/1940 [1:33:12<10:18:31, 22.33s/it]"
     ]
    },
    {
     "name": "stdout",
     "output_type": "stream",
     "text": [
      "QUERY:  Precipitation amount in Zollikofen May 24, 2021 19h\n",
      "QUERY:  temperature in Zollikofen May 24, 2021 19h\n",
      "QUERY:  humidity in Zollikofen May 24, 2021 19h\n",
      "QUERY:  wind speed in Zollikofen May 24, 2021 19h\n",
      "QUERY:  Moon Phase calculatorMay 24, 2021 19h\n"
     ]
    },
    {
     "name": "stderr",
     "output_type": "stream",
     "text": [
      "\r",
      " 14%|██████████▋                                                               | 279/1940 [1:33:34<10:20:21, 22.41s/it]"
     ]
    },
    {
     "name": "stdout",
     "output_type": "stream",
     "text": [
      "QUERY:  Precipitation amount in Zollikofen May 24, 2021 20h\n",
      "QUERY:  temperature in Zollikofen May 24, 2021 20h\n",
      "QUERY:  humidity in Zollikofen May 24, 2021 20h\n",
      "QUERY:  wind speed in Zollikofen May 24, 2021 20h\n",
      "QUERY:  Moon Phase calculatorMay 24, 2021 20h\n"
     ]
    },
    {
     "name": "stderr",
     "output_type": "stream",
     "text": [
      "\r",
      " 14%|██████████▋                                                               | 280/1940 [1:33:58<10:30:40, 22.80s/it]"
     ]
    },
    {
     "name": "stdout",
     "output_type": "stream",
     "text": [
      "QUERY:  Precipitation amount in Zollikofen May 24, 2021 21h\n",
      "QUERY:  temperature in Zollikofen May 24, 2021 21h\n",
      "QUERY:  humidity in Zollikofen May 24, 2021 21h\n",
      "QUERY:  wind speed in Zollikofen May 24, 2021 21h\n",
      "QUERY:  Moon Phase calculatorMay 24, 2021 21h\n",
      "(5710, 7)\n"
     ]
    },
    {
     "data": {
      "text/html": [
       "<div>\n",
       "<style scoped>\n",
       "    .dataframe tbody tr th:only-of-type {\n",
       "        vertical-align: middle;\n",
       "    }\n",
       "\n",
       "    .dataframe tbody tr th {\n",
       "        vertical-align: top;\n",
       "    }\n",
       "\n",
       "    .dataframe thead th {\n",
       "        text-align: right;\n",
       "    }\n",
       "</style>\n",
       "<table border=\"1\" class=\"dataframe\">\n",
       "  <thead>\n",
       "    <tr style=\"text-align: right;\">\n",
       "      <th></th>\n",
       "      <th>date</th>\n",
       "      <th>temperature</th>\n",
       "      <th>humidity</th>\n",
       "      <th>wind speed</th>\n",
       "      <th>Precipitation amount</th>\n",
       "      <th>query</th>\n",
       "      <th>Moon Phase calculator</th>\n",
       "    </tr>\n",
       "  </thead>\n",
       "  <tbody>\n",
       "    <tr>\n",
       "      <th>8</th>\n",
       "      <td>2021-05-24 20:00:00</td>\n",
       "      <td>14 °C\\n(8:00 pm CEST | Monday, May 24, 2021)</td>\n",
       "      <td>average: 51% (47 to 55%)\\n(8:00 pm CEST | Mond...</td>\n",
       "      <td>5 m/s\\n(8:00 pm CEST | Monday, May 24, 2021)</td>\n",
       "      <td>no precipitation\\n(8:00 pm CEST | Monday, May ...</td>\n",
       "      <td>Moon Phase calculatorMay 24, 2021 20h</td>\n",
       "      <td>| waxing gibbous moon\\n95.50% illuminated</td>\n",
       "    </tr>\n",
       "    <tr>\n",
       "      <th>9</th>\n",
       "      <td>2021-05-24 21:00:00</td>\n",
       "      <td>14 °C\\n(9:00 pm CEST | Monday, May 24, 2021)</td>\n",
       "      <td>average: 53% (51 to 54%)\\n(9:00 pm CEST | Mond...</td>\n",
       "      <td>5 m/s\\n(9:00 pm CEST | Monday, May 24, 2021)</td>\n",
       "      <td>no precipitation\\n(9:00 pm CEST | Monday, May ...</td>\n",
       "      <td>Moon Phase calculatorMay 24, 2021 21h</td>\n",
       "      <td>| waxing gibbous moon\\n95.71% illuminated</td>\n",
       "    </tr>\n",
       "  </tbody>\n",
       "</table>\n",
       "</div>"
      ],
      "text/plain": [
       "                 date                                   temperature  \\\n",
       "8 2021-05-24 20:00:00  14 °C\\n(8:00 pm CEST | Monday, May 24, 2021)   \n",
       "9 2021-05-24 21:00:00  14 °C\\n(9:00 pm CEST | Monday, May 24, 2021)   \n",
       "\n",
       "                                            humidity  \\\n",
       "8  average: 51% (47 to 55%)\\n(8:00 pm CEST | Mond...   \n",
       "9  average: 53% (51 to 54%)\\n(9:00 pm CEST | Mond...   \n",
       "\n",
       "                                     wind speed  \\\n",
       "8  5 m/s\\n(8:00 pm CEST | Monday, May 24, 2021)   \n",
       "9  5 m/s\\n(9:00 pm CEST | Monday, May 24, 2021)   \n",
       "\n",
       "                                Precipitation amount  \\\n",
       "8  no precipitation\\n(8:00 pm CEST | Monday, May ...   \n",
       "9  no precipitation\\n(9:00 pm CEST | Monday, May ...   \n",
       "\n",
       "                                   query  \\\n",
       "8  Moon Phase calculatorMay 24, 2021 20h   \n",
       "9  Moon Phase calculatorMay 24, 2021 21h   \n",
       "\n",
       "                       Moon Phase calculator  \n",
       "8  | waxing gibbous moon\\n95.50% illuminated  \n",
       "9  | waxing gibbous moon\\n95.71% illuminated  "
      ]
     },
     "metadata": {},
     "output_type": "display_data"
    },
    {
     "name": "stderr",
     "output_type": "stream",
     "text": [
      "\r",
      " 14%|██████████▋                                                               | 281/1940 [1:34:21<10:34:01, 22.93s/it]"
     ]
    },
    {
     "name": "stdout",
     "output_type": "stream",
     "text": [
      "QUERY:  Precipitation amount in Zollikofen May 24, 2021 22h\n",
      "QUERY:  temperature in Zollikofen May 24, 2021 22h\n",
      "QUERY:  humidity in Zollikofen May 24, 2021 22h\n",
      "QUERY:  wind speed in Zollikofen May 24, 2021 22h\n",
      "QUERY:  Moon Phase calculatorMay 24, 2021 22h\n"
     ]
    },
    {
     "name": "stderr",
     "output_type": "stream",
     "text": [
      "\r",
      " 15%|██████████▊                                                               | 282/1940 [1:34:43<10:22:45, 22.54s/it]"
     ]
    },
    {
     "name": "stdout",
     "output_type": "stream",
     "text": [
      "QUERY:  Precipitation amount in Zollikofen May 24, 2021 23h\n",
      "QUERY:  temperature in Zollikofen May 24, 2021 23h\n",
      "QUERY:  humidity in Zollikofen May 24, 2021 23h\n",
      "QUERY:  wind speed in Zollikofen May 24, 2021 23h\n",
      "QUERY:  Moon Phase calculatorMay 24, 2021 23h\n"
     ]
    },
    {
     "name": "stderr",
     "output_type": "stream",
     "text": [
      "\r",
      " 15%|██████████▊                                                               | 283/1940 [1:35:05<10:19:46, 22.44s/it]"
     ]
    },
    {
     "name": "stdout",
     "output_type": "stream",
     "text": [
      "QUERY:  Precipitation amount in Zollikofen May 25, 2021 0h\n",
      "QUERY:  temperature in Zollikofen May 25, 2021 0h\n",
      "QUERY:  humidity in Zollikofen May 25, 2021 0h\n",
      "QUERY:  wind speed in Zollikofen May 25, 2021 0h\n",
      "QUERY:  Moon Phase calculatorMay 25, 2021 0h\n"
     ]
    },
    {
     "name": "stderr",
     "output_type": "stream",
     "text": [
      "\r",
      " 15%|██████████▊                                                               | 284/1940 [1:35:26<10:06:31, 21.98s/it]"
     ]
    },
    {
     "name": "stdout",
     "output_type": "stream",
     "text": [
      "QUERY:  Precipitation amount in Zollikofen May 25, 2021 1h\n",
      "QUERY:  temperature in Zollikofen May 25, 2021 1h\n",
      "QUERY:  humidity in Zollikofen May 25, 2021 1h\n",
      "QUERY:  wind speed in Zollikofen May 25, 2021 1h\n",
      "QUERY:  Moon Phase calculatorMay 25, 2021 1h\n"
     ]
    },
    {
     "name": "stderr",
     "output_type": "stream",
     "text": [
      "\r",
      " 15%|██████████▊                                                               | 285/1940 [1:35:48<10:04:49, 21.93s/it]"
     ]
    },
    {
     "name": "stdout",
     "output_type": "stream",
     "text": [
      "QUERY:  Precipitation amount in Zollikofen May 25, 2021 2h\n",
      "QUERY:  temperature in Zollikofen May 25, 2021 2h\n",
      "QUERY:  humidity in Zollikofen May 25, 2021 2h\n",
      "QUERY:  wind speed in Zollikofen May 25, 2021 2h\n",
      "QUERY:  Moon Phase calculatorMay 25, 2021 2h\n"
     ]
    },
    {
     "name": "stderr",
     "output_type": "stream",
     "text": [
      "\r",
      " 15%|███████████                                                                | 286/1940 [1:36:07<9:45:42, 21.25s/it]"
     ]
    },
    {
     "name": "stdout",
     "output_type": "stream",
     "text": [
      "QUERY:  Precipitation amount in Zollikofen May 25, 2021 3h\n",
      "QUERY:  temperature in Zollikofen May 25, 2021 3h\n",
      "QUERY:  humidity in Zollikofen May 25, 2021 3h\n",
      "QUERY:  wind speed in Zollikofen May 25, 2021 3h\n",
      "QUERY:  Moon Phase calculatorMay 25, 2021 3h\n"
     ]
    },
    {
     "name": "stderr",
     "output_type": "stream",
     "text": [
      "\r",
      " 15%|███████████                                                                | 287/1940 [1:36:27<9:31:23, 20.74s/it]"
     ]
    },
    {
     "name": "stdout",
     "output_type": "stream",
     "text": [
      "QUERY:  Precipitation amount in Zollikofen May 25, 2021 4h\n",
      "QUERY:  temperature in Zollikofen May 25, 2021 4h\n",
      "QUERY:  humidity in Zollikofen May 25, 2021 4h\n",
      "QUERY:  wind speed in Zollikofen May 25, 2021 4h\n",
      "QUERY:  Moon Phase calculatorMay 25, 2021 4h\n"
     ]
    },
    {
     "name": "stderr",
     "output_type": "stream",
     "text": [
      "\r",
      " 15%|███████████▏                                                               | 288/1940 [1:36:45<9:06:54, 19.86s/it]"
     ]
    },
    {
     "name": "stdout",
     "output_type": "stream",
     "text": [
      "QUERY:  Precipitation amount in Zollikofen May 25, 2021 5h\n",
      "QUERY:  temperature in Zollikofen May 25, 2021 5h\n",
      "QUERY:  humidity in Zollikofen May 25, 2021 5h\n",
      "QUERY:  wind speed in Zollikofen May 25, 2021 5h\n",
      "QUERY:  Moon Phase calculatorMay 25, 2021 5h\n"
     ]
    },
    {
     "name": "stderr",
     "output_type": "stream",
     "text": [
      "\r",
      " 15%|███████████▏                                                               | 289/1940 [1:37:04<8:58:09, 19.56s/it]"
     ]
    },
    {
     "name": "stdout",
     "output_type": "stream",
     "text": [
      "QUERY:  Precipitation amount in Zollikofen May 25, 2021 6h\n",
      "QUERY:  temperature in Zollikofen May 25, 2021 6h\n",
      "QUERY:  humidity in Zollikofen May 25, 2021 6h\n",
      "QUERY:  wind speed in Zollikofen May 25, 2021 6h\n",
      "QUERY:  Moon Phase calculatorMay 25, 2021 6h\n"
     ]
    },
    {
     "name": "stderr",
     "output_type": "stream",
     "text": [
      "\r",
      " 15%|███████████▏                                                               | 290/1940 [1:37:21<8:40:57, 18.94s/it]"
     ]
    },
    {
     "name": "stdout",
     "output_type": "stream",
     "text": [
      "QUERY:  Precipitation amount in Zollikofen May 25, 2021 7h\n",
      "QUERY:  temperature in Zollikofen May 25, 2021 7h\n",
      "QUERY:  humidity in Zollikofen May 25, 2021 7h\n",
      "QUERY:  wind speed in Zollikofen May 25, 2021 7h\n",
      "QUERY:  Moon Phase calculatorMay 25, 2021 7h\n",
      "(5720, 7)\n"
     ]
    },
    {
     "data": {
      "text/html": [
       "<div>\n",
       "<style scoped>\n",
       "    .dataframe tbody tr th:only-of-type {\n",
       "        vertical-align: middle;\n",
       "    }\n",
       "\n",
       "    .dataframe tbody tr th {\n",
       "        vertical-align: top;\n",
       "    }\n",
       "\n",
       "    .dataframe thead th {\n",
       "        text-align: right;\n",
       "    }\n",
       "</style>\n",
       "<table border=\"1\" class=\"dataframe\">\n",
       "  <thead>\n",
       "    <tr style=\"text-align: right;\">\n",
       "      <th></th>\n",
       "      <th>date</th>\n",
       "      <th>temperature</th>\n",
       "      <th>humidity</th>\n",
       "      <th>wind speed</th>\n",
       "      <th>Precipitation amount</th>\n",
       "      <th>query</th>\n",
       "      <th>Moon Phase calculator</th>\n",
       "    </tr>\n",
       "  </thead>\n",
       "  <tbody>\n",
       "    <tr>\n",
       "      <th>8</th>\n",
       "      <td>2021-05-25 06:00:00</td>\n",
       "      <td>8 °C\\n(6:00 am CEST | Tuesday, May 25, 2021)</td>\n",
       "      <td>average: 74% (66 to 81%)\\n(6:00 am CEST | Tues...</td>\n",
       "      <td>3 m/s\\n(6:00 am CEST | Tuesday, May 25, 2021)</td>\n",
       "      <td>no precipitation\\n(6:00 am CEST | Tuesday, May...</td>\n",
       "      <td>Moon Phase calculatorMay 25, 2021 6h</td>\n",
       "      <td>| waxing gibbous moon\\n97.39% illuminated</td>\n",
       "    </tr>\n",
       "    <tr>\n",
       "      <th>9</th>\n",
       "      <td>2021-05-25 07:00:00</td>\n",
       "      <td>8 °C\\n(7:00 am CEST | Tuesday, May 25, 2021)</td>\n",
       "      <td>average: 73% (71 to 76%)\\n(7:00 am CEST | Tues...</td>\n",
       "      <td>5 m/s\\n(7:00 am CEST | Tuesday, May 25, 2021)</td>\n",
       "      <td>no precipitation\\n(7:00 am CEST | Tuesday, May...</td>\n",
       "      <td>Moon Phase calculatorMay 25, 2021 7h</td>\n",
       "      <td>| waxing gibbous moon\\n97.55% illuminated</td>\n",
       "    </tr>\n",
       "  </tbody>\n",
       "</table>\n",
       "</div>"
      ],
      "text/plain": [
       "                 date                                   temperature  \\\n",
       "8 2021-05-25 06:00:00  8 °C\\n(6:00 am CEST | Tuesday, May 25, 2021)   \n",
       "9 2021-05-25 07:00:00  8 °C\\n(7:00 am CEST | Tuesday, May 25, 2021)   \n",
       "\n",
       "                                            humidity  \\\n",
       "8  average: 74% (66 to 81%)\\n(6:00 am CEST | Tues...   \n",
       "9  average: 73% (71 to 76%)\\n(7:00 am CEST | Tues...   \n",
       "\n",
       "                                      wind speed  \\\n",
       "8  3 m/s\\n(6:00 am CEST | Tuesday, May 25, 2021)   \n",
       "9  5 m/s\\n(7:00 am CEST | Tuesday, May 25, 2021)   \n",
       "\n",
       "                                Precipitation amount  \\\n",
       "8  no precipitation\\n(6:00 am CEST | Tuesday, May...   \n",
       "9  no precipitation\\n(7:00 am CEST | Tuesday, May...   \n",
       "\n",
       "                                  query  \\\n",
       "8  Moon Phase calculatorMay 25, 2021 6h   \n",
       "9  Moon Phase calculatorMay 25, 2021 7h   \n",
       "\n",
       "                       Moon Phase calculator  \n",
       "8  | waxing gibbous moon\\n97.39% illuminated  \n",
       "9  | waxing gibbous moon\\n97.55% illuminated  "
      ]
     },
     "metadata": {},
     "output_type": "display_data"
    },
    {
     "name": "stderr",
     "output_type": "stream",
     "text": [
      "\r",
      " 15%|███████████▎                                                               | 291/1940 [1:37:41<8:46:28, 19.16s/it]"
     ]
    },
    {
     "name": "stdout",
     "output_type": "stream",
     "text": [
      "QUERY:  Precipitation amount in Zollikofen May 25, 2021 8h\n",
      "QUERY:  temperature in Zollikofen May 25, 2021 8h\n",
      "QUERY:  humidity in Zollikofen May 25, 2021 8h\n",
      "QUERY:  wind speed in Zollikofen May 25, 2021 8h\n",
      "QUERY:  Moon Phase calculatorMay 25, 2021 8h\n"
     ]
    },
    {
     "name": "stderr",
     "output_type": "stream",
     "text": [
      "\r",
      " 15%|███████████▎                                                               | 292/1940 [1:37:57<8:23:05, 18.32s/it]"
     ]
    },
    {
     "name": "stdout",
     "output_type": "stream",
     "text": [
      "QUERY:  Precipitation amount in Zollikofen May 25, 2021 9h\n",
      "QUERY:  temperature in Zollikofen May 25, 2021 9h\n",
      "ERROR: no data available-------------  temperature in Zollikofen May 25, 2021 9h\n",
      "ERROR:------------- name 'error' is not defined  ----------  temperature in Zollikofen May 25, 2021 9h\n",
      "QUERY:  humidity in Zollikofen May 25, 2021 9h\n",
      "ERROR: no data available-------------  humidity in Zollikofen May 25, 2021 9h\n",
      "ERROR:------------- name 'error' is not defined  ----------  humidity in Zollikofen May 25, 2021 9h\n",
      "QUERY:  wind speed in Zollikofen May 25, 2021 9h\n",
      "ERROR: no data available-------------  wind speed in Zollikofen May 25, 2021 9h\n",
      "ERROR:------------- name 'error' is not defined  ----------  wind speed in Zollikofen May 25, 2021 9h\n",
      "QUERY:  Moon Phase calculatorMay 25, 2021 9h\n"
     ]
    },
    {
     "name": "stderr",
     "output_type": "stream",
     "text": [
      "\r",
      " 15%|███████████▎                                                               | 293/1940 [1:38:14<8:08:00, 17.78s/it]"
     ]
    },
    {
     "name": "stdout",
     "output_type": "stream",
     "text": [
      "QUERY:  Precipitation amount in Zollikofen May 25, 2021 10h\n",
      "QUERY:  temperature in Zollikofen May 25, 2021 10h\n",
      "ERROR: no data available-------------  temperature in Zollikofen May 25, 2021 10h\n",
      "ERROR:------------- name 'error' is not defined  ----------  temperature in Zollikofen May 25, 2021 10h\n",
      "QUERY:  humidity in Zollikofen May 25, 2021 10h\n",
      "ERROR: no data available-------------  humidity in Zollikofen May 25, 2021 10h\n",
      "ERROR:------------- name 'error' is not defined  ----------  humidity in Zollikofen May 25, 2021 10h\n",
      "QUERY:  wind speed in Zollikofen May 25, 2021 10h\n",
      "ERROR: no data available-------------  wind speed in Zollikofen May 25, 2021 10h\n",
      "ERROR:------------- name 'error' is not defined  ----------  wind speed in Zollikofen May 25, 2021 10h\n",
      "QUERY:  Moon Phase calculatorMay 25, 2021 10h\n"
     ]
    },
    {
     "name": "stderr",
     "output_type": "stream",
     "text": [
      "\r",
      " 15%|███████████▎                                                               | 294/1940 [1:38:31<8:03:00, 17.61s/it]"
     ]
    },
    {
     "name": "stdout",
     "output_type": "stream",
     "text": [
      "QUERY:  Precipitation amount in Zollikofen May 25, 2021 11h\n",
      "QUERY:  temperature in Zollikofen May 25, 2021 11h\n",
      "ERROR: no data available-------------  temperature in Zollikofen May 25, 2021 11h\n",
      "ERROR:------------- name 'error' is not defined  ----------  temperature in Zollikofen May 25, 2021 11h\n",
      "QUERY:  humidity in Zollikofen May 25, 2021 11h\n",
      "ERROR: no data available-------------  humidity in Zollikofen May 25, 2021 11h\n",
      "ERROR:------------- name 'error' is not defined  ----------  humidity in Zollikofen May 25, 2021 11h\n",
      "QUERY:  wind speed in Zollikofen May 25, 2021 11h\n",
      "ERROR: no data available-------------  wind speed in Zollikofen May 25, 2021 11h\n",
      "ERROR:------------- name 'error' is not defined  ----------  wind speed in Zollikofen May 25, 2021 11h\n",
      "QUERY:  Moon Phase calculatorMay 25, 2021 11h\n"
     ]
    },
    {
     "name": "stderr",
     "output_type": "stream",
     "text": [
      "\r",
      " 15%|███████████▍                                                               | 295/1940 [1:38:48<8:00:14, 17.52s/it]"
     ]
    },
    {
     "name": "stdout",
     "output_type": "stream",
     "text": [
      "QUERY:  Precipitation amount in Zollikofen May 25, 2021 12h\n",
      "QUERY:  temperature in Zollikofen May 25, 2021 12h\n",
      "ERROR: no data available-------------  temperature in Zollikofen May 25, 2021 12h\n",
      "ERROR:------------- name 'error' is not defined  ----------  temperature in Zollikofen May 25, 2021 12h\n",
      "QUERY:  humidity in Zollikofen May 25, 2021 12h\n",
      "ERROR: no data available-------------  humidity in Zollikofen May 25, 2021 12h\n",
      "ERROR:------------- name 'error' is not defined  ----------  humidity in Zollikofen May 25, 2021 12h\n",
      "QUERY:  wind speed in Zollikofen May 25, 2021 12h\n",
      "ERROR: no data available-------------  wind speed in Zollikofen May 25, 2021 12h\n",
      "ERROR:------------- name 'error' is not defined  ----------  wind speed in Zollikofen May 25, 2021 12h\n",
      "QUERY:  Moon Phase calculatorMay 25, 2021 12h\n"
     ]
    },
    {
     "name": "stderr",
     "output_type": "stream",
     "text": [
      "100%|████████████████████████████████████████████████████████████████████████████| 1940/1940 [1:39:06<00:00,  3.07s/it]"
     ]
    },
    {
     "name": "stdout",
     "output_type": "stream",
     "text": [
      "(5725, 7)\n"
     ]
    },
    {
     "name": "stderr",
     "output_type": "stream",
     "text": [
      "\n"
     ]
    },
    {
     "data": {
      "text/html": [
       "<div>\n",
       "<style scoped>\n",
       "    .dataframe tbody tr th:only-of-type {\n",
       "        vertical-align: middle;\n",
       "    }\n",
       "\n",
       "    .dataframe tbody tr th {\n",
       "        vertical-align: top;\n",
       "    }\n",
       "\n",
       "    .dataframe thead th {\n",
       "        text-align: right;\n",
       "    }\n",
       "</style>\n",
       "<table border=\"1\" class=\"dataframe\">\n",
       "  <thead>\n",
       "    <tr style=\"text-align: right;\">\n",
       "      <th></th>\n",
       "      <th>date</th>\n",
       "      <th>temperature</th>\n",
       "      <th>humidity</th>\n",
       "      <th>wind speed</th>\n",
       "      <th>Precipitation amount</th>\n",
       "      <th>query</th>\n",
       "      <th>Moon Phase calculator</th>\n",
       "    </tr>\n",
       "  </thead>\n",
       "  <tbody>\n",
       "    <tr>\n",
       "      <th>3</th>\n",
       "      <td>2021-05-25 11:00:00</td>\n",
       "      <td>ERROR</td>\n",
       "      <td>ERROR</td>\n",
       "      <td>ERROR</td>\n",
       "      <td>(unknown)\\n(11:00 am CEST | Tuesday, May 25, 2...</td>\n",
       "      <td>Moon Phase calculatorMay 25, 2021 11h</td>\n",
       "      <td>| waxing gibbous moon\\n98.15% illuminated</td>\n",
       "    </tr>\n",
       "    <tr>\n",
       "      <th>4</th>\n",
       "      <td>2021-05-25 12:00:00</td>\n",
       "      <td>ERROR</td>\n",
       "      <td>ERROR</td>\n",
       "      <td>ERROR</td>\n",
       "      <td>(unknown)\\n(12:00 pm CEST | Tuesday, May 25, 2...</td>\n",
       "      <td>Moon Phase calculatorMay 25, 2021 12h</td>\n",
       "      <td>| waxing gibbous moon\\n98.29% illuminated</td>\n",
       "    </tr>\n",
       "  </tbody>\n",
       "</table>\n",
       "</div>"
      ],
      "text/plain": [
       "                 date temperature humidity wind speed  \\\n",
       "3 2021-05-25 11:00:00       ERROR    ERROR      ERROR   \n",
       "4 2021-05-25 12:00:00       ERROR    ERROR      ERROR   \n",
       "\n",
       "                                Precipitation amount  \\\n",
       "3  (unknown)\\n(11:00 am CEST | Tuesday, May 25, 2...   \n",
       "4  (unknown)\\n(12:00 pm CEST | Tuesday, May 25, 2...   \n",
       "\n",
       "                                   query  \\\n",
       "3  Moon Phase calculatorMay 25, 2021 11h   \n",
       "4  Moon Phase calculatorMay 25, 2021 12h   \n",
       "\n",
       "                       Moon Phase calculator  \n",
       "3  | waxing gibbous moon\\n98.15% illuminated  \n",
       "4  | waxing gibbous moon\\n98.29% illuminated  "
      ]
     },
     "metadata": {},
     "output_type": "display_data"
    }
   ],
   "source": [
    "#not same as : https://weather.plus/observations-weather-station.php?dest=Bern-Zollikofen&id=066310&type=synop&day=20200713, our\n",
    "#results are less consistent :( \n",
    "#ATTENTION: monthly api calls limited to 2'000\n",
    "#if not working, save query and results: \"ERROR\", but continue the other query from the same date\n",
    "#open if exist\n",
    "li_df = []\n",
    "for i,d in enumerate(tqdm.tqdm(Daterange)):\n",
    "    now_ = dt.datetime.now()\n",
    "    #dont get the data in advance\n",
    "    if d<now_:      \n",
    "        dico = {'date':d}\n",
    "        for type_ in li_type:\n",
    "            try:                    \n",
    "                query = '%s in Zollikofen '%type_+d.strftime('%B')+' '+str(d.day)+', '+str(d.year)+' '+str(d.hour)+'h'\n",
    "                if type_=='Moon Phase calculator':\n",
    "                    query = type_+d.strftime('%B')+' '+str(d.day)+', '+str(d.year)+' '+str(d.hour)+'h'                    \n",
    "                print('QUERY: ',query)\n",
    "                dico['query'] = query\n",
    "                res = client.query(query)\n",
    "                for t in res.results:\n",
    "                    if 'no data available' in t.text:\n",
    "                        print('ERROR: no data available------------- ', query)\n",
    "                        error\n",
    "                    dico[type_] = t.text\n",
    "            except Exception as e:\n",
    "                print('ERROR:-------------', e, ' ---------- ', query)\n",
    "                dico[type_] = 'ERROR'\n",
    "        li_df.append(dico)\n",
    "        dico = {}\n",
    "        if i%10==0:\n",
    "            df_ = pd.DataFrame(li_df)\n",
    "            df = pd.concat([df,df_])\n",
    "            df.to_csv(path_weather, index=False, sep=';')\n",
    "            li_df = []\n",
    "            print(df.shape)\n",
    "            display(df.tail(2))\n",
    "df_ = pd.DataFrame(li_df)\n",
    "df = pd.concat([df,df_])\n",
    "df.to_csv(path_weather, index=False, sep=';')\n",
    "print(df.shape)\n",
    "display(df.tail(2))"
   ]
  },
  {
   "cell_type": "code",
   "execution_count": 6,
   "metadata": {},
   "outputs": [
    {
     "name": "stdout",
     "output_type": "stream",
     "text": [
      "(65, 7)\n"
     ]
    },
    {
     "data": {
      "text/html": [
       "<div>\n",
       "<style scoped>\n",
       "    .dataframe tbody tr th:only-of-type {\n",
       "        vertical-align: middle;\n",
       "    }\n",
       "\n",
       "    .dataframe tbody tr th {\n",
       "        vertical-align: top;\n",
       "    }\n",
       "\n",
       "    .dataframe thead th {\n",
       "        text-align: right;\n",
       "    }\n",
       "</style>\n",
       "<table border=\"1\" class=\"dataframe\">\n",
       "  <thead>\n",
       "    <tr style=\"text-align: right;\">\n",
       "      <th></th>\n",
       "      <th>date</th>\n",
       "      <th>temperature</th>\n",
       "      <th>humidity</th>\n",
       "      <th>wind speed</th>\n",
       "      <th>Precipitation amount</th>\n",
       "      <th>query</th>\n",
       "      <th>Moon Phase calculator</th>\n",
       "    </tr>\n",
       "  </thead>\n",
       "  <tbody>\n",
       "    <tr>\n",
       "      <th>0</th>\n",
       "      <td>2020-11-05 22:00:00</td>\n",
       "      <td>8 °C\\n(10:00 pm CET | Thursday, November 5, 2020)</td>\n",
       "      <td>ERROR</td>\n",
       "      <td>1 m/s\\n(10:00 pm CET | Thursday, November 5, 2...</td>\n",
       "      <td>(unknown)\\n(10:00 pm CET | Thursday, November ...</td>\n",
       "      <td>Moon Phase calculatorNovember 5, 2020 22h</td>\n",
       "      <td>| waning gibbous moon\\n76.55% illuminated</td>\n",
       "    </tr>\n",
       "    <tr>\n",
       "      <th>0</th>\n",
       "      <td>2020-11-16 19:00:00</td>\n",
       "      <td>7 °C\\n(7:00 pm CET | Monday, November 16, 2020)</td>\n",
       "      <td>ERROR</td>\n",
       "      <td>1 m/s\\n(7:00 pm CET | Monday, November 16, 2020)</td>\n",
       "      <td>(unknown)\\n(7:00 pm CET | Monday, November 16,...</td>\n",
       "      <td>Moon Phase calculatorNovember 16, 2020 19h</td>\n",
       "      <td>| waxing crescent moon\\n3.48% illuminated</td>\n",
       "    </tr>\n",
       "    <tr>\n",
       "      <th>1</th>\n",
       "      <td>2020-11-16 21:00:00</td>\n",
       "      <td>5 °C\\n(9:00 pm CET | Monday, November 16, 2020)</td>\n",
       "      <td>ERROR</td>\n",
       "      <td>0 m/s\\n(9:00 pm CET | Monday, November 16, 2020)</td>\n",
       "      <td>(unknown)\\n(9:00 pm CET | Monday, November 16,...</td>\n",
       "      <td>Moon Phase calculatorNovember 16, 2020 21h</td>\n",
       "      <td>| waxing crescent moon\\n3.86% illuminated</td>\n",
       "    </tr>\n",
       "    <tr>\n",
       "      <th>2</th>\n",
       "      <td>2020-12-15 21:00:00</td>\n",
       "      <td>4 °C\\n(9:00 pm CET | Tuesday, December 15, 2020)</td>\n",
       "      <td>ERROR</td>\n",
       "      <td>1 m/s\\n(9:00 pm CET | Tuesday, December 15, 2020)</td>\n",
       "      <td>(unknown)\\n(9:00 pm CET | Tuesday, December 15...</td>\n",
       "      <td>Moon Phase calculatorDecember 15, 2020 21h</td>\n",
       "      <td>| waxing crescent moon\\n1.86% illuminated</td>\n",
       "    </tr>\n",
       "    <tr>\n",
       "      <th>3</th>\n",
       "      <td>2021-02-08 17:00:00</td>\n",
       "      <td>5 °C\\n(5:00 pm CET | Monday, February 8, 2021)</td>\n",
       "      <td>ERROR</td>\n",
       "      <td>5 m/s\\n(5:00 pm CET | Monday, February 8, 2021)</td>\n",
       "      <td>(unknown)\\n(5:00 pm CET | Monday, February 8, ...</td>\n",
       "      <td>Moon Phase calculatorFebruary 8, 2021 17h</td>\n",
       "      <td>| waning crescent moon\\n11.27% illuminated</td>\n",
       "    </tr>\n",
       "    <tr>\n",
       "      <th>...</th>\n",
       "      <td>...</td>\n",
       "      <td>...</td>\n",
       "      <td>...</td>\n",
       "      <td>...</td>\n",
       "      <td>...</td>\n",
       "      <td>...</td>\n",
       "      <td>...</td>\n",
       "    </tr>\n",
       "    <tr>\n",
       "      <th>2</th>\n",
       "      <td>2021-05-23 08:00:00</td>\n",
       "      <td>9 °C\\n(8:00 am CEST | Sunday, May 23, 2021)</td>\n",
       "      <td>average: 87% (87%)\\n(8:00 am CEST | Sunday, Ma...</td>\n",
       "      <td>2 m/s\\n(8:00 am CEST | Sunday, May 23, 2021)</td>\n",
       "      <td>ERROR</td>\n",
       "      <td>Moon Phase calculatorMay 23, 2021 8h</td>\n",
       "      <td>| waxing gibbous moon\\n85.14% illuminated</td>\n",
       "    </tr>\n",
       "    <tr>\n",
       "      <th>1</th>\n",
       "      <td>2021-05-25 09:00:00</td>\n",
       "      <td>ERROR</td>\n",
       "      <td>ERROR</td>\n",
       "      <td>ERROR</td>\n",
       "      <td>(unknown)\\n(9:00 am CEST | Tuesday, May 25, 2021)</td>\n",
       "      <td>Moon Phase calculatorMay 25, 2021 9h</td>\n",
       "      <td>| waxing gibbous moon\\n97.86% illuminated</td>\n",
       "    </tr>\n",
       "    <tr>\n",
       "      <th>2</th>\n",
       "      <td>2021-05-25 10:00:00</td>\n",
       "      <td>ERROR</td>\n",
       "      <td>ERROR</td>\n",
       "      <td>ERROR</td>\n",
       "      <td>(unknown)\\n(10:00 am CEST | Tuesday, May 25, 2...</td>\n",
       "      <td>Moon Phase calculatorMay 25, 2021 10h</td>\n",
       "      <td>| waxing gibbous moon\\n98.01% illuminated</td>\n",
       "    </tr>\n",
       "    <tr>\n",
       "      <th>3</th>\n",
       "      <td>2021-05-25 11:00:00</td>\n",
       "      <td>ERROR</td>\n",
       "      <td>ERROR</td>\n",
       "      <td>ERROR</td>\n",
       "      <td>(unknown)\\n(11:00 am CEST | Tuesday, May 25, 2...</td>\n",
       "      <td>Moon Phase calculatorMay 25, 2021 11h</td>\n",
       "      <td>| waxing gibbous moon\\n98.15% illuminated</td>\n",
       "    </tr>\n",
       "    <tr>\n",
       "      <th>4</th>\n",
       "      <td>2021-05-25 12:00:00</td>\n",
       "      <td>ERROR</td>\n",
       "      <td>ERROR</td>\n",
       "      <td>ERROR</td>\n",
       "      <td>(unknown)\\n(12:00 pm CEST | Tuesday, May 25, 2...</td>\n",
       "      <td>Moon Phase calculatorMay 25, 2021 12h</td>\n",
       "      <td>| waxing gibbous moon\\n98.29% illuminated</td>\n",
       "    </tr>\n",
       "  </tbody>\n",
       "</table>\n",
       "<p>65 rows × 7 columns</p>\n",
       "</div>"
      ],
      "text/plain": [
       "                  date                                        temperature  \\\n",
       "0  2020-11-05 22:00:00  8 °C\\n(10:00 pm CET | Thursday, November 5, 2020)   \n",
       "0  2020-11-16 19:00:00    7 °C\\n(7:00 pm CET | Monday, November 16, 2020)   \n",
       "1  2020-11-16 21:00:00    5 °C\\n(9:00 pm CET | Monday, November 16, 2020)   \n",
       "2  2020-12-15 21:00:00   4 °C\\n(9:00 pm CET | Tuesday, December 15, 2020)   \n",
       "3  2021-02-08 17:00:00     5 °C\\n(5:00 pm CET | Monday, February 8, 2021)   \n",
       "..                 ...                                                ...   \n",
       "2  2021-05-23 08:00:00        9 °C\\n(8:00 am CEST | Sunday, May 23, 2021)   \n",
       "1  2021-05-25 09:00:00                                              ERROR   \n",
       "2  2021-05-25 10:00:00                                              ERROR   \n",
       "3  2021-05-25 11:00:00                                              ERROR   \n",
       "4  2021-05-25 12:00:00                                              ERROR   \n",
       "\n",
       "                                             humidity  \\\n",
       "0                                               ERROR   \n",
       "0                                               ERROR   \n",
       "1                                               ERROR   \n",
       "2                                               ERROR   \n",
       "3                                               ERROR   \n",
       "..                                                ...   \n",
       "2   average: 87% (87%)\\n(8:00 am CEST | Sunday, Ma...   \n",
       "1                                               ERROR   \n",
       "2                                               ERROR   \n",
       "3                                               ERROR   \n",
       "4                                               ERROR   \n",
       "\n",
       "                                           wind speed  \\\n",
       "0   1 m/s\\n(10:00 pm CET | Thursday, November 5, 2...   \n",
       "0    1 m/s\\n(7:00 pm CET | Monday, November 16, 2020)   \n",
       "1    0 m/s\\n(9:00 pm CET | Monday, November 16, 2020)   \n",
       "2   1 m/s\\n(9:00 pm CET | Tuesday, December 15, 2020)   \n",
       "3     5 m/s\\n(5:00 pm CET | Monday, February 8, 2021)   \n",
       "..                                                ...   \n",
       "2        2 m/s\\n(8:00 am CEST | Sunday, May 23, 2021)   \n",
       "1                                               ERROR   \n",
       "2                                               ERROR   \n",
       "3                                               ERROR   \n",
       "4                                               ERROR   \n",
       "\n",
       "                                 Precipitation amount  \\\n",
       "0   (unknown)\\n(10:00 pm CET | Thursday, November ...   \n",
       "0   (unknown)\\n(7:00 pm CET | Monday, November 16,...   \n",
       "1   (unknown)\\n(9:00 pm CET | Monday, November 16,...   \n",
       "2   (unknown)\\n(9:00 pm CET | Tuesday, December 15...   \n",
       "3   (unknown)\\n(5:00 pm CET | Monday, February 8, ...   \n",
       "..                                                ...   \n",
       "2                                               ERROR   \n",
       "1   (unknown)\\n(9:00 am CEST | Tuesday, May 25, 2021)   \n",
       "2   (unknown)\\n(10:00 am CEST | Tuesday, May 25, 2...   \n",
       "3   (unknown)\\n(11:00 am CEST | Tuesday, May 25, 2...   \n",
       "4   (unknown)\\n(12:00 pm CEST | Tuesday, May 25, 2...   \n",
       "\n",
       "                                         query  \\\n",
       "0    Moon Phase calculatorNovember 5, 2020 22h   \n",
       "0   Moon Phase calculatorNovember 16, 2020 19h   \n",
       "1   Moon Phase calculatorNovember 16, 2020 21h   \n",
       "2   Moon Phase calculatorDecember 15, 2020 21h   \n",
       "3    Moon Phase calculatorFebruary 8, 2021 17h   \n",
       "..                                         ...   \n",
       "2         Moon Phase calculatorMay 23, 2021 8h   \n",
       "1         Moon Phase calculatorMay 25, 2021 9h   \n",
       "2        Moon Phase calculatorMay 25, 2021 10h   \n",
       "3        Moon Phase calculatorMay 25, 2021 11h   \n",
       "4        Moon Phase calculatorMay 25, 2021 12h   \n",
       "\n",
       "                         Moon Phase calculator  \n",
       "0    | waning gibbous moon\\n76.55% illuminated  \n",
       "0    | waxing crescent moon\\n3.48% illuminated  \n",
       "1    | waxing crescent moon\\n3.86% illuminated  \n",
       "2    | waxing crescent moon\\n1.86% illuminated  \n",
       "3   | waning crescent moon\\n11.27% illuminated  \n",
       "..                                         ...  \n",
       "2    | waxing gibbous moon\\n85.14% illuminated  \n",
       "1    | waxing gibbous moon\\n97.86% illuminated  \n",
       "2    | waxing gibbous moon\\n98.01% illuminated  \n",
       "3    | waxing gibbous moon\\n98.15% illuminated  \n",
       "4    | waxing gibbous moon\\n98.29% illuminated  \n",
       "\n",
       "[65 rows x 7 columns]"
      ]
     },
     "execution_count": 6,
     "metadata": {},
     "output_type": "execute_result"
    }
   ],
   "source": [
    "print(df[df.isin([\"ERROR\"]).any(axis=1)].shape)\n",
    "df[df.isin([\"ERROR\"]).any(axis=1)]"
   ]
  },
  {
   "cell_type": "markdown",
   "metadata": {},
   "source": [
    "df['day'] = df['date'].map(lambda x: dt.datetime.date(x))\n",
    "df['day'].value_counts()"
   ]
  },
  {
   "cell_type": "markdown",
   "metadata": {},
   "source": [
    "#add lune to weather data\n",
    "#dico_d_m = {}\n",
    "for d in tqdm.tqdm(Daterange):\n",
    "    now_ = dt.datetime.now()\n",
    "    #dont get the data in advance\n",
    "    if d<now_:   \n",
    "        if d not in dico_d_m:\n",
    "            try:\n",
    "                query = 'Moon Phase calculator'+d.strftime('%B')+' '+str(d.day)+', '+str(d.year)+' '+str(d.hour)+'h'\n",
    "                res = client.query(query) \n",
    "                for t in res.results:\n",
    "                    dico_d_m[d] = t.text.strip('|').strip(' ')\n",
    "            except Exception as e:\n",
    "                print('ERROR')\n",
    "                print(e)\n",
    "#df['Moon Phase calculator'] = df['date'].map(lambda x: dico_d_m.get(x, 'ERROR'))\n",
    "#print(df[df['Moonphase']=='ERROR'].shape)\n",
    "df"
   ]
  },
  {
   "cell_type": "markdown",
   "metadata": {},
   "source": [
    "df = df.drop(['MoonName','Moon Phase calculator'],axis=1)"
   ]
  },
  {
   "cell_type": "markdown",
   "metadata": {},
   "source": [
    "# Process"
   ]
  },
  {
   "cell_type": "code",
   "execution_count": 7,
   "metadata": {},
   "outputs": [
    {
     "name": "stdout",
     "output_type": "stream",
     "text": [
      "(5659, 13)\n"
     ]
    },
    {
     "data": {
      "text/html": [
       "<div>\n",
       "<style scoped>\n",
       "    .dataframe tbody tr th:only-of-type {\n",
       "        vertical-align: middle;\n",
       "    }\n",
       "\n",
       "    .dataframe tbody tr th {\n",
       "        vertical-align: top;\n",
       "    }\n",
       "\n",
       "    .dataframe thead th {\n",
       "        text-align: right;\n",
       "    }\n",
       "</style>\n",
       "<table border=\"1\" class=\"dataframe\">\n",
       "  <thead>\n",
       "    <tr style=\"text-align: right;\">\n",
       "      <th></th>\n",
       "      <th>Timestamp</th>\n",
       "      <th>temperature</th>\n",
       "      <th>humidity</th>\n",
       "      <th>wind speed</th>\n",
       "      <th>Precipitation amount</th>\n",
       "      <th>query</th>\n",
       "      <th>Moon Phase calculator</th>\n",
       "      <th>date</th>\n",
       "      <th>hour</th>\n",
       "      <th>temperature_C</th>\n",
       "      <th>wind_speed_mpers</th>\n",
       "      <th>humidity_avgpercent</th>\n",
       "      <th>rain</th>\n",
       "    </tr>\n",
       "  </thead>\n",
       "  <tbody>\n",
       "    <tr>\n",
       "      <th>0</th>\n",
       "      <td>2020-09-29 00:00:00</td>\n",
       "      <td>10 °C\\n(12:00 am CEST | Tuesday, September 29,...</td>\n",
       "      <td>average: 100% (100%)\\n(12:00 am CEST | Tuesday...</td>\n",
       "      <td>2 m/s\\n(12:00 am CEST | Tuesday, September 29,...</td>\n",
       "      <td>rain\\n(12:00 am CEST | Tuesday, September 29, ...</td>\n",
       "      <td>Moon Phase calculatorSeptember 29, 2020 0h</td>\n",
       "      <td>| waxing gibbous moon\\n91.87% illuminated</td>\n",
       "      <td>2020-09-29</td>\n",
       "      <td>0</td>\n",
       "      <td>10</td>\n",
       "      <td>2</td>\n",
       "      <td>100</td>\n",
       "      <td>rain</td>\n",
       "    </tr>\n",
       "    <tr>\n",
       "      <th>1</th>\n",
       "      <td>2020-09-29 01:00:00</td>\n",
       "      <td>10 °C\\n(1:00 am CEST | Tuesday, September 29, ...</td>\n",
       "      <td>average: 100% (100%)\\n(1:00 am CEST | Tuesday,...</td>\n",
       "      <td>3 m/s\\n(1:00 am CEST | Tuesday, September 29, ...</td>\n",
       "      <td>rain\\n(1:00 am CEST | Tuesday, September 29, 2...</td>\n",
       "      <td>Moon Phase calculatorSeptember 29, 2020 1h</td>\n",
       "      <td>| waxing gibbous moon\\n92.09% illuminated</td>\n",
       "      <td>2020-09-29</td>\n",
       "      <td>1</td>\n",
       "      <td>10</td>\n",
       "      <td>3</td>\n",
       "      <td>100</td>\n",
       "      <td>rain</td>\n",
       "    </tr>\n",
       "    <tr>\n",
       "      <th>2</th>\n",
       "      <td>2020-09-29 02:00:00</td>\n",
       "      <td>10 °C\\n(2:00 am CEST | Tuesday, September 29, ...</td>\n",
       "      <td>average: 100% (100%)\\n(2:00 am CEST | Tuesday,...</td>\n",
       "      <td>3 m/s\\n(2:00 am CEST | Tuesday, September 29, ...</td>\n",
       "      <td>rain\\n(2:00 am CEST | Tuesday, September 29, 2...</td>\n",
       "      <td>Moon Phase calculatorSeptember 29, 2020 2h</td>\n",
       "      <td>| waxing gibbous moon\\n92.30% illuminated</td>\n",
       "      <td>2020-09-29</td>\n",
       "      <td>2</td>\n",
       "      <td>10</td>\n",
       "      <td>3</td>\n",
       "      <td>100</td>\n",
       "      <td>rain</td>\n",
       "    </tr>\n",
       "  </tbody>\n",
       "</table>\n",
       "</div>"
      ],
      "text/plain": [
       "            Timestamp                                        temperature  \\\n",
       "0 2020-09-29 00:00:00  10 °C\\n(12:00 am CEST | Tuesday, September 29,...   \n",
       "1 2020-09-29 01:00:00  10 °C\\n(1:00 am CEST | Tuesday, September 29, ...   \n",
       "2 2020-09-29 02:00:00  10 °C\\n(2:00 am CEST | Tuesday, September 29, ...   \n",
       "\n",
       "                                            humidity  \\\n",
       "0  average: 100% (100%)\\n(12:00 am CEST | Tuesday...   \n",
       "1  average: 100% (100%)\\n(1:00 am CEST | Tuesday,...   \n",
       "2  average: 100% (100%)\\n(2:00 am CEST | Tuesday,...   \n",
       "\n",
       "                                          wind speed  \\\n",
       "0  2 m/s\\n(12:00 am CEST | Tuesday, September 29,...   \n",
       "1  3 m/s\\n(1:00 am CEST | Tuesday, September 29, ...   \n",
       "2  3 m/s\\n(2:00 am CEST | Tuesday, September 29, ...   \n",
       "\n",
       "                                Precipitation amount  \\\n",
       "0  rain\\n(12:00 am CEST | Tuesday, September 29, ...   \n",
       "1  rain\\n(1:00 am CEST | Tuesday, September 29, 2...   \n",
       "2  rain\\n(2:00 am CEST | Tuesday, September 29, 2...   \n",
       "\n",
       "                                        query  \\\n",
       "0  Moon Phase calculatorSeptember 29, 2020 0h   \n",
       "1  Moon Phase calculatorSeptember 29, 2020 1h   \n",
       "2  Moon Phase calculatorSeptember 29, 2020 2h   \n",
       "\n",
       "                       Moon Phase calculator       date  hour  temperature_C  \\\n",
       "0  | waxing gibbous moon\\n91.87% illuminated 2020-09-29     0             10   \n",
       "1  | waxing gibbous moon\\n92.09% illuminated 2020-09-29     1             10   \n",
       "2  | waxing gibbous moon\\n92.30% illuminated 2020-09-29     2             10   \n",
       "\n",
       "   wind_speed_mpers  humidity_avgpercent  rain  \n",
       "0                 2                  100  rain  \n",
       "1                 3                  100  rain  \n",
       "2                 3                  100  rain  "
      ]
     },
     "execution_count": 7,
     "metadata": {},
     "output_type": "execute_result"
    }
   ],
   "source": [
    "#add weather as environemntal factor\n",
    "path_ = r'C:\\Users\\camil\\Desktop\\vm_exchange\\PhD_Data\\Weather'\n",
    "path_weather = os.path.join(path_,'weather.csv')\n",
    "df_weather = pd.read_csv(path_weather, sep=';', parse_dates=['date'])\n",
    "df_weather = df_weather.drop_duplicates(subset=None, keep='first', inplace=False)\n",
    "#remove excpetions\n",
    "x = ', 1, 0,  , °, C, \\n, (, 1, 2, :, 0, 0,  , a, m,  , C, E, T , | , F, r, i, d, a, y, ,,  , O, c, t, o, b, e, r,  , 3, 0, ,,  , 2, 0, 2, 0, ),'\n",
    "df_weather['temperature'] = df_weather['temperature'].replace(x, x.replace(', ',''))\n",
    "x = '3×10^0 m/s\\n(1:00 pm CET | Sunday, January 10, 2021)'\n",
    "df_weather['wind speed'] = df_weather['wind speed'].replace(x, 'ERROR')\n",
    "#remove the rows with at least one error\n",
    "df_weather = df_weather[~df_weather.isin([\"ERROR\"]).any(axis=1)]\n",
    "#date\n",
    "df_weather.rename(columns={'date':'Timestamp'}, inplace=True)\n",
    "df_weather['date'] = df_weather['Timestamp'].map(lambda x: dt.datetime(x.year,x.month,x.day))\n",
    "df_weather['hour'] = df_weather['Timestamp'].map(lambda x: x.hour)\n",
    "#add usefull variable\n",
    "df_weather['temperature_C'] = df_weather['temperature'].map(lambda x: int(x.split('\\n')[0].split(' ')[0]))\n",
    "df_weather['wind_speed_mpers'] = df_weather['wind speed'].map(lambda x: int(x.split('\\n')[0].split(' ')[0]))\n",
    "df_weather['humidity_avgpercent'] = df_weather['humidity'].map(lambda x: int(x.split('%')[0].split(' ')[-1].strip()))\n",
    "df_weather['rain'] = df_weather['Precipitation amount'].map(lambda x: x.split('\\n')[0])\n",
    "df_weather['rain'] = df_weather['rain'].replace('rain | snow','snow | rain')\n",
    "df_weather.to_csv(os.path.join(path_,'Weather_process.csv'), index=False, sep=';')\n",
    "print(df_weather.shape)\n",
    "df_weather.head(3)"
   ]
  },
  {
   "cell_type": "code",
   "execution_count": 8,
   "metadata": {},
   "outputs": [
    {
     "data": {
      "text/html": [
       "<div>\n",
       "<style scoped>\n",
       "    .dataframe tbody tr th:only-of-type {\n",
       "        vertical-align: middle;\n",
       "    }\n",
       "\n",
       "    .dataframe tbody tr th {\n",
       "        vertical-align: top;\n",
       "    }\n",
       "\n",
       "    .dataframe thead th {\n",
       "        text-align: right;\n",
       "    }\n",
       "</style>\n",
       "<table border=\"1\" class=\"dataframe\">\n",
       "  <thead>\n",
       "    <tr style=\"text-align: right;\">\n",
       "      <th></th>\n",
       "      <th>Timestamp</th>\n",
       "      <th>temperature</th>\n",
       "      <th>humidity</th>\n",
       "      <th>wind speed</th>\n",
       "      <th>Precipitation amount</th>\n",
       "      <th>query</th>\n",
       "      <th>Moon Phase calculator</th>\n",
       "      <th>date</th>\n",
       "      <th>hour</th>\n",
       "      <th>temperature_C</th>\n",
       "      <th>wind_speed_mpers</th>\n",
       "      <th>humidity_avgpercent</th>\n",
       "      <th>rain</th>\n",
       "      <th>MoonName</th>\n",
       "      <th>Illumination_percentage</th>\n",
       "      <th>croissant_decroissant</th>\n",
       "    </tr>\n",
       "  </thead>\n",
       "  <tbody>\n",
       "    <tr>\n",
       "      <th>0</th>\n",
       "      <td>2020-09-29 00:00:00</td>\n",
       "      <td>10 °C\\n(12:00 am CEST | Tuesday, September 29,...</td>\n",
       "      <td>average: 100% (100%)\\n(12:00 am CEST | Tuesday...</td>\n",
       "      <td>2 m/s\\n(12:00 am CEST | Tuesday, September 29,...</td>\n",
       "      <td>rain\\n(12:00 am CEST | Tuesday, September 29, ...</td>\n",
       "      <td>Moon Phase calculatorSeptember 29, 2020 0h</td>\n",
       "      <td>| waxing gibbous moon\\n91.87% illuminated</td>\n",
       "      <td>2020-09-29</td>\n",
       "      <td>0</td>\n",
       "      <td>10</td>\n",
       "      <td>2</td>\n",
       "      <td>100</td>\n",
       "      <td>rain</td>\n",
       "      <td>waxing gibbous moon</td>\n",
       "      <td>91.87</td>\n",
       "      <td>LC</td>\n",
       "    </tr>\n",
       "    <tr>\n",
       "      <th>1</th>\n",
       "      <td>2020-09-29 01:00:00</td>\n",
       "      <td>10 °C\\n(1:00 am CEST | Tuesday, September 29, ...</td>\n",
       "      <td>average: 100% (100%)\\n(1:00 am CEST | Tuesday,...</td>\n",
       "      <td>3 m/s\\n(1:00 am CEST | Tuesday, September 29, ...</td>\n",
       "      <td>rain\\n(1:00 am CEST | Tuesday, September 29, 2...</td>\n",
       "      <td>Moon Phase calculatorSeptember 29, 2020 1h</td>\n",
       "      <td>| waxing gibbous moon\\n92.09% illuminated</td>\n",
       "      <td>2020-09-29</td>\n",
       "      <td>1</td>\n",
       "      <td>10</td>\n",
       "      <td>3</td>\n",
       "      <td>100</td>\n",
       "      <td>rain</td>\n",
       "      <td>waxing gibbous moon</td>\n",
       "      <td>92.09</td>\n",
       "      <td>LC</td>\n",
       "    </tr>\n",
       "    <tr>\n",
       "      <th>2</th>\n",
       "      <td>2020-09-29 02:00:00</td>\n",
       "      <td>10 °C\\n(2:00 am CEST | Tuesday, September 29, ...</td>\n",
       "      <td>average: 100% (100%)\\n(2:00 am CEST | Tuesday,...</td>\n",
       "      <td>3 m/s\\n(2:00 am CEST | Tuesday, September 29, ...</td>\n",
       "      <td>rain\\n(2:00 am CEST | Tuesday, September 29, 2...</td>\n",
       "      <td>Moon Phase calculatorSeptember 29, 2020 2h</td>\n",
       "      <td>| waxing gibbous moon\\n92.30% illuminated</td>\n",
       "      <td>2020-09-29</td>\n",
       "      <td>2</td>\n",
       "      <td>10</td>\n",
       "      <td>3</td>\n",
       "      <td>100</td>\n",
       "      <td>rain</td>\n",
       "      <td>waxing gibbous moon</td>\n",
       "      <td>92.30</td>\n",
       "      <td>LC</td>\n",
       "    </tr>\n",
       "  </tbody>\n",
       "</table>\n",
       "</div>"
      ],
      "text/plain": [
       "            Timestamp                                        temperature  \\\n",
       "0 2020-09-29 00:00:00  10 °C\\n(12:00 am CEST | Tuesday, September 29,...   \n",
       "1 2020-09-29 01:00:00  10 °C\\n(1:00 am CEST | Tuesday, September 29, ...   \n",
       "2 2020-09-29 02:00:00  10 °C\\n(2:00 am CEST | Tuesday, September 29, ...   \n",
       "\n",
       "                                            humidity  \\\n",
       "0  average: 100% (100%)\\n(12:00 am CEST | Tuesday...   \n",
       "1  average: 100% (100%)\\n(1:00 am CEST | Tuesday,...   \n",
       "2  average: 100% (100%)\\n(2:00 am CEST | Tuesday,...   \n",
       "\n",
       "                                          wind speed  \\\n",
       "0  2 m/s\\n(12:00 am CEST | Tuesday, September 29,...   \n",
       "1  3 m/s\\n(1:00 am CEST | Tuesday, September 29, ...   \n",
       "2  3 m/s\\n(2:00 am CEST | Tuesday, September 29, ...   \n",
       "\n",
       "                                Precipitation amount  \\\n",
       "0  rain\\n(12:00 am CEST | Tuesday, September 29, ...   \n",
       "1  rain\\n(1:00 am CEST | Tuesday, September 29, 2...   \n",
       "2  rain\\n(2:00 am CEST | Tuesday, September 29, 2...   \n",
       "\n",
       "                                        query  \\\n",
       "0  Moon Phase calculatorSeptember 29, 2020 0h   \n",
       "1  Moon Phase calculatorSeptember 29, 2020 1h   \n",
       "2  Moon Phase calculatorSeptember 29, 2020 2h   \n",
       "\n",
       "                       Moon Phase calculator       date  hour  temperature_C  \\\n",
       "0  | waxing gibbous moon\\n91.87% illuminated 2020-09-29     0             10   \n",
       "1  | waxing gibbous moon\\n92.09% illuminated 2020-09-29     1             10   \n",
       "2  | waxing gibbous moon\\n92.30% illuminated 2020-09-29     2             10   \n",
       "\n",
       "   wind_speed_mpers  humidity_avgpercent  rain             MoonName  \\\n",
       "0                 2                  100  rain  waxing gibbous moon   \n",
       "1                 3                  100  rain  waxing gibbous moon   \n",
       "2                 3                  100  rain  waxing gibbous moon   \n",
       "\n",
       "   Illumination_percentage croissant_decroissant  \n",
       "0                    91.87                    LC  \n",
       "1                    92.09                    LC  \n",
       "2                    92.30                    LC  "
      ]
     },
     "execution_count": 8,
     "metadata": {},
     "output_type": "execute_result"
    }
   ],
   "source": [
    "df_weather['MoonName'] = df_weather['Moon Phase calculator'].map(lambda x: x.strip('|').strip(' ').split('\\n')[0] if x!='ERROR' else 'ERROR')\n",
    "df_weather['Illumination_percentage'] = df_weather['Moon Phase calculator'].map(lambda x: float(x.strip('|').strip(' ').split('\\n')[1].replace(' illuminated','').strip('%').strip(' ')) if x!='ERROR' else 'ERROR')\n",
    "#print(df['MoaonName'].value_counts())\n",
    "#df['Illumination_percentage'].value_counts()\n",
    "\n",
    "dico_CD = {'ERROR':'ERROR', \n",
    "           'first quarter moon':'LC', \n",
    "           'full moon':'Lchangement', \n",
    "           'last quarter moon':'DC',\n",
    "           'new moon':'Lchangement', \n",
    "           'waning crescent moon':'DC', \n",
    "           'waning gibbous moon':'DC',\n",
    "           'waxing crescent moon':'LC', \n",
    "           'waxing gibbous moon':'LC'}\n",
    "#it seems that the order of the events are as follow:\n",
    "#full moon, waning gibbous moon, last quarter moon, waning crescent moon, \n",
    "#new moon, waxing crescent moon, first quarter moon, waxing gibbous moon,\n",
    "#full moon,...\n",
    "#defintion: De la Nouvelle Lune (éclat minimum) à la Pleine Lune (éclat maximum) on dit que la Lune est Croissante car \n",
    "#sa partie éclairée grossit de jour en jour. De la Pleine Lune à la Nouvelle Lune, on dit que la Lune est Décroissante.\n",
    "df_weather['croissant_decroissant'] = df_weather['MoonName'].map(lambda x: dico_CD[x])\n",
    "#lucie ascendatne et descendante n'est pas indiqué ici.\n",
    "df_weather.head(3)"
   ]
  },
  {
   "cell_type": "code",
   "execution_count": 9,
   "metadata": {},
   "outputs": [
    {
     "data": {
      "text/plain": [
       "LC             2782\n",
       "DC             2573\n",
       "Lchangement     304\n",
       "Name: croissant_decroissant, dtype: int64"
      ]
     },
     "execution_count": 9,
     "metadata": {},
     "output_type": "execute_result"
    }
   ],
   "source": [
    "df_weather['croissant_decroissant'].value_counts()"
   ]
  },
  {
   "cell_type": "code",
   "execution_count": 10,
   "metadata": {},
   "outputs": [
    {
     "data": {
      "text/html": [
       "<div>\n",
       "<style scoped>\n",
       "    .dataframe tbody tr th:only-of-type {\n",
       "        vertical-align: middle;\n",
       "    }\n",
       "\n",
       "    .dataframe tbody tr th {\n",
       "        vertical-align: top;\n",
       "    }\n",
       "\n",
       "    .dataframe thead th {\n",
       "        text-align: right;\n",
       "    }\n",
       "</style>\n",
       "<table border=\"1\" class=\"dataframe\">\n",
       "  <thead>\n",
       "    <tr style=\"text-align: right;\">\n",
       "      <th></th>\n",
       "      <th>MoonName</th>\n",
       "      <th>Illumination_percentage</th>\n",
       "      <th>min_illumination</th>\n",
       "      <th>max_illumination</th>\n",
       "    </tr>\n",
       "  </thead>\n",
       "  <tbody>\n",
       "    <tr>\n",
       "      <th>0</th>\n",
       "      <td>first quarter moon</td>\n",
       "      <td>[44.7, 45.14, 45.58, 46.02, 46.46, 46.9, 47.34...</td>\n",
       "      <td>44.69</td>\n",
       "      <td>55.24</td>\n",
       "    </tr>\n",
       "    <tr>\n",
       "      <th>1</th>\n",
       "      <td>full moon</td>\n",
       "      <td>[99.74, 99.76, 99.78, 99.79, 99.81, 99.82, 99....</td>\n",
       "      <td>99.72</td>\n",
       "      <td>99.99</td>\n",
       "    </tr>\n",
       "    <tr>\n",
       "      <th>2</th>\n",
       "      <td>last quarter moon</td>\n",
       "      <td>[55.07, 54.65, 54.23, 53.81, 53.39, 52.96, 52....</td>\n",
       "      <td>44.73</td>\n",
       "      <td>55.22</td>\n",
       "    </tr>\n",
       "    <tr>\n",
       "      <th>3</th>\n",
       "      <td>new moon</td>\n",
       "      <td>[0.27, 0.23, 0.21, 0.18, 0.16, 0.15, 0.14, 0.1...</td>\n",
       "      <td>0.00</td>\n",
       "      <td>0.28</td>\n",
       "    </tr>\n",
       "    <tr>\n",
       "      <th>4</th>\n",
       "      <td>waning crescent moon</td>\n",
       "      <td>[44.38, 43.95, 43.51, 43.08, 42.65, 42.21, 41....</td>\n",
       "      <td>0.29</td>\n",
       "      <td>44.68</td>\n",
       "    </tr>\n",
       "    <tr>\n",
       "      <th>5</th>\n",
       "      <td>waning gibbous moon</td>\n",
       "      <td>[99.71, 99.68, 99.65, 99.61, 99.58, 99.54, 99....</td>\n",
       "      <td>55.34</td>\n",
       "      <td>99.72</td>\n",
       "    </tr>\n",
       "    <tr>\n",
       "      <th>6</th>\n",
       "      <td>waxing crescent moon</td>\n",
       "      <td>[0.32, 0.37, 0.42, 0.48, 0.54, 0.61, 0.68, 0.7...</td>\n",
       "      <td>0.28</td>\n",
       "      <td>44.64</td>\n",
       "    </tr>\n",
       "    <tr>\n",
       "      <th>7</th>\n",
       "      <td>waxing gibbous moon</td>\n",
       "      <td>[91.87, 92.09, 92.3, 92.51, 92.73, 92.93, 93.1...</td>\n",
       "      <td>55.34</td>\n",
       "      <td>99.71</td>\n",
       "    </tr>\n",
       "  </tbody>\n",
       "</table>\n",
       "</div>"
      ],
      "text/plain": [
       "               MoonName                            Illumination_percentage  \\\n",
       "0    first quarter moon  [44.7, 45.14, 45.58, 46.02, 46.46, 46.9, 47.34...   \n",
       "1             full moon  [99.74, 99.76, 99.78, 99.79, 99.81, 99.82, 99....   \n",
       "2     last quarter moon  [55.07, 54.65, 54.23, 53.81, 53.39, 52.96, 52....   \n",
       "3              new moon  [0.27, 0.23, 0.21, 0.18, 0.16, 0.15, 0.14, 0.1...   \n",
       "4  waning crescent moon  [44.38, 43.95, 43.51, 43.08, 42.65, 42.21, 41....   \n",
       "5   waning gibbous moon  [99.71, 99.68, 99.65, 99.61, 99.58, 99.54, 99....   \n",
       "6  waxing crescent moon  [0.32, 0.37, 0.42, 0.48, 0.54, 0.61, 0.68, 0.7...   \n",
       "7   waxing gibbous moon  [91.87, 92.09, 92.3, 92.51, 92.73, 92.93, 93.1...   \n",
       "\n",
       "   min_illumination  max_illumination  \n",
       "0             44.69             55.24  \n",
       "1             99.72             99.99  \n",
       "2             44.73             55.22  \n",
       "3              0.00              0.28  \n",
       "4              0.29             44.68  \n",
       "5             55.34             99.72  \n",
       "6              0.28             44.64  \n",
       "7             55.34             99.71  "
      ]
     },
     "execution_count": 10,
     "metadata": {},
     "output_type": "execute_result"
    }
   ],
   "source": [
    "#to get a general udnerstanding of the data\n",
    "df_moon = df_weather.groupby(['MoonName'])['Illumination_percentage'].agg(lambda x: list(x)).reset_index()\n",
    "df_moon['min_illumination'] = df_moon['Illumination_percentage'].map(lambda x: min(x) if x!='ERROR' else 'ERROR' )\n",
    "df_moon['max_illumination'] = df_moon['Illumination_percentage'].map(lambda x: max(x) if x!='ERROR' else 'ERROR' )\n",
    "df_moon"
   ]
  },
  {
   "cell_type": "code",
   "execution_count": 11,
   "metadata": {},
   "outputs": [
    {
     "data": {
      "text/plain": [
       "'Moon Phase calculatorSeptember 29, 2020 0h'"
      ]
     },
     "execution_count": 11,
     "metadata": {},
     "output_type": "execute_result"
    }
   ],
   "source": [
    "df_weather['query'].iloc[0]"
   ]
  },
  {
   "cell_type": "code",
   "execution_count": 12,
   "metadata": {},
   "outputs": [
    {
     "name": "stdout",
     "output_type": "stream",
     "text": [
      "(236, 6)\n"
     ]
    },
    {
     "data": {
      "text/html": [
       "<div>\n",
       "<style scoped>\n",
       "    .dataframe tbody tr th:only-of-type {\n",
       "        vertical-align: middle;\n",
       "    }\n",
       "\n",
       "    .dataframe tbody tr th {\n",
       "        vertical-align: top;\n",
       "    }\n",
       "\n",
       "    .dataframe thead th {\n",
       "        text-align: right;\n",
       "    }\n",
       "</style>\n",
       "<table border=\"1\" class=\"dataframe\">\n",
       "  <thead>\n",
       "    <tr style=\"text-align: right;\">\n",
       "      <th></th>\n",
       "      <th>date</th>\n",
       "      <th>temperature_C</th>\n",
       "      <th>humidity_avgpercent</th>\n",
       "      <th>had_rainorsnow</th>\n",
       "      <th>moon_name</th>\n",
       "      <th>Illumination_percentage</th>\n",
       "    </tr>\n",
       "  </thead>\n",
       "  <tbody>\n",
       "    <tr>\n",
       "      <th>0</th>\n",
       "      <td>2020-09-29</td>\n",
       "      <td>12.000</td>\n",
       "      <td>92.125</td>\n",
       "      <td>0</td>\n",
       "      <td>waxing gibbous moon</td>\n",
       "      <td>94.56625</td>\n",
       "    </tr>\n",
       "    <tr>\n",
       "      <th>1</th>\n",
       "      <td>2020-09-30</td>\n",
       "      <td>12.250</td>\n",
       "      <td>80.125</td>\n",
       "      <td>1</td>\n",
       "      <td>waxing gibbous moon</td>\n",
       "      <td>98.01625</td>\n",
       "    </tr>\n",
       "    <tr>\n",
       "      <th>2</th>\n",
       "      <td>2020-10-01</td>\n",
       "      <td>14.125</td>\n",
       "      <td>74.875</td>\n",
       "      <td>0</td>\n",
       "      <td>waxing gibbous moon</td>\n",
       "      <td>99.66250</td>\n",
       "    </tr>\n",
       "  </tbody>\n",
       "</table>\n",
       "</div>"
      ],
      "text/plain": [
       "        date  temperature_C  humidity_avgpercent  had_rainorsnow  \\\n",
       "0 2020-09-29         12.000               92.125               0   \n",
       "1 2020-09-30         12.250               80.125               1   \n",
       "2 2020-10-01         14.125               74.875               0   \n",
       "\n",
       "             moon_name  Illumination_percentage  \n",
       "0  waxing gibbous moon                 94.56625  \n",
       "1  waxing gibbous moon                 98.01625  \n",
       "2  waxing gibbous moon                 99.66250  "
      ]
     },
     "execution_count": 12,
     "metadata": {},
     "output_type": "execute_result"
    }
   ],
   "source": [
    "df_daily_weather = df_weather[df_weather['hour'].isin([10,11,12,13,14,15,16,17])].copy()\n",
    "df_daily_weather = df_daily_weather.groupby(['date']).agg(\n",
    "    temperature_C=pd.NamedAgg(column='temperature_C', aggfunc=lambda x: np.mean(x)),\n",
    "    humidity_avgpercent=pd.NamedAgg(column='humidity_avgpercent', aggfunc=lambda x: np.mean(x)),\n",
    "    had_rainorsnow=pd.NamedAgg(column='rain', aggfunc=lambda x: int(all([i=='no precipitation' for i in x]))),\n",
    "    moon_name=pd.NamedAgg(column='MoonName', aggfunc=lambda x: list(x)[0]),\n",
    "    Illumination_percentage=pd.NamedAgg(column='Illumination_percentage', aggfunc=lambda x: np.mean(x))).reset_index()\n",
    "df_daily_weather.to_csv(os.path.join(path_,'df_daily_weather.csv'), index=False, sep=';')\n",
    "print(df_daily_weather.shape)\n",
    "df_daily_weather.head(3)"
   ]
  },
  {
   "cell_type": "code",
   "execution_count": 13,
   "metadata": {},
   "outputs": [
    {
     "data": {
      "text/plain": [
       "had_rainorsnow\n",
       "0    81.434783\n",
       "1    65.636548\n",
       "Name: humidity_avgpercent, dtype: float64"
      ]
     },
     "execution_count": 13,
     "metadata": {},
     "output_type": "execute_result"
    }
   ],
   "source": [
    "df_daily_weather.groupby(['had_rainorsnow'])['humidity_avgpercent'].agg(lambda x: np.mean(x))"
   ]
  },
  {
   "cell_type": "code",
   "execution_count": null,
   "metadata": {},
   "outputs": [],
   "source": []
  },
  {
   "cell_type": "code",
   "execution_count": null,
   "metadata": {},
   "outputs": [],
   "source": []
  },
  {
   "cell_type": "code",
   "execution_count": null,
   "metadata": {},
   "outputs": [],
   "source": []
  },
  {
   "cell_type": "code",
   "execution_count": null,
   "metadata": {},
   "outputs": [],
   "source": []
  },
  {
   "cell_type": "code",
   "execution_count": null,
   "metadata": {},
   "outputs": [],
   "source": []
  },
  {
   "cell_type": "code",
   "execution_count": null,
   "metadata": {},
   "outputs": [],
   "source": []
  },
  {
   "cell_type": "code",
   "execution_count": null,
   "metadata": {},
   "outputs": [],
   "source": []
  }
 ],
 "metadata": {
  "kernelspec": {
   "display_name": "Python 3",
   "language": "python",
   "name": "python3"
  },
  "language_info": {
   "codemirror_mode": {
    "name": "ipython",
    "version": 3
   },
   "file_extension": ".py",
   "mimetype": "text/x-python",
   "name": "python",
   "nbconvert_exporter": "python",
   "pygments_lexer": "ipython3",
   "version": "3.8.5"
  }
 },
 "nbformat": 4,
 "nbformat_minor": 2
}
