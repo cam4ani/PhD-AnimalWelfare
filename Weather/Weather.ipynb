{
 "cells": [
  {
   "cell_type": "code",
   "execution_count": 1,
   "metadata": {},
   "outputs": [],
   "source": [
    "#!pip install wolframalpha\n",
    "import datetime as dt\n",
    "import tqdm\n",
    "import os\n",
    "import pandas as pd\n",
    "import glob\n",
    "import numpy as np\n",
    "import sys\n",
    "\n",
    "import wolframalpha\n",
    "app_id = 'JU4PR2-E8JGQVLHXW'\n",
    "client = wolframalpha.Client(app_id)"
   ]
  },
  {
   "cell_type": "code",
   "execution_count": 2,
   "metadata": {},
   "outputs": [
    {
     "name": "stdout",
     "output_type": "stream",
     "text": [
      "3.8.5\n"
     ]
    }
   ],
   "source": [
    "from platform import python_version\n",
    "print(python_version())"
   ]
  },
  {
   "cell_type": "raw",
   "metadata": {},
   "source": [
    "To verify moon data:\n",
    "https://www.calendrier-lunaire.fr/calendrier/octobre-2020/\n",
    "https://www.pleine-lune.org/calendrier-lunaire-2020\n",
    "https://www.timeanddate.com/astronomy/moon/waning-crescent.html"
   ]
  },
  {
   "cell_type": "raw",
   "metadata": {},
   "source": [
    "#url parameter:\n",
    "#https://products.wolframalpha.com/simple-api/documentation/\n",
    "#http://api.wolframalpha.com/v2/query?appid=DEMO&input=population%20france&includepodid=Result\n",
    "http://api.wolframalpha.com/v2/query?appid=JU4PR2-E8JGQVLHXW&input=temperature%20Zollikofen&includepodid=Result"
   ]
  },
  {
   "cell_type": "markdown",
   "metadata": {},
   "source": [
    "#small example\n",
    "query = 'Precipitation amount in Zollikofen on October 6, 2020 1h'\n",
    "res = client.query(query)\n",
    "for t in res.results:\n",
    "    print(t.text)"
   ]
  },
  {
   "cell_type": "markdown",
   "metadata": {},
   "source": [
    "#small example\n",
    "query = 'Precipitation amount in Zollikofen '+d.strftime('%B')+' '+str(d.day)+', '+str(d.year)+' '+str(d.hour)+'h'\n",
    "res = client.query(query)\n",
    "for t in res.results:\n",
    "    print(t.text)"
   ]
  },
  {
   "cell_type": "markdown",
   "metadata": {},
   "source": [
    "#small example\n",
    "d = dt.datetime(2020,1,24,22,44,11)\n",
    "query = 'Moon Phase calculator'+d.strftime('%B')+' '+str(d.day)+', '+str(d.year)+' '+str(d.hour)+'h'\n",
    "res = client.query(query)\n",
    "r = ''\n",
    "for t in res.results:\n",
    "    print(t.text.strip('|').strip(' '))\n",
    "#for verification\n",
    "#https://www.pleine-lune.org/calendrier-lunaire-2020\n",
    "#res"
   ]
  },
  {
   "cell_type": "code",
   "execution_count": 3,
   "metadata": {},
   "outputs": [],
   "source": [
    "li_type = ['Precipitation amount', 'temperature', 'humidity', 'wind speed','Moon Phase calculator'] #pressure\n",
    "#path_ = r'D:\\vm_exchange\\PhD_Data\\Weather'\n",
    "path_ = r'C:\\Users\\camil\\Desktop\\vm_exchange\\PhD_Data\\Weather'"
   ]
  },
  {
   "cell_type": "code",
   "execution_count": 4,
   "metadata": {},
   "outputs": [
    {
     "name": "stdout",
     "output_type": "stream",
     "text": [
      "(5725, 7)\n",
      "We already have 5725 dates of weather\n",
      "(65, 7)\n"
     ]
    },
    {
     "data": {
      "text/html": [
       "<div>\n",
       "<style scoped>\n",
       "    .dataframe tbody tr th:only-of-type {\n",
       "        vertical-align: middle;\n",
       "    }\n",
       "\n",
       "    .dataframe tbody tr th {\n",
       "        vertical-align: top;\n",
       "    }\n",
       "\n",
       "    .dataframe thead th {\n",
       "        text-align: right;\n",
       "    }\n",
       "</style>\n",
       "<table border=\"1\" class=\"dataframe\">\n",
       "  <thead>\n",
       "    <tr style=\"text-align: right;\">\n",
       "      <th></th>\n",
       "      <th>date</th>\n",
       "      <th>temperature</th>\n",
       "      <th>humidity</th>\n",
       "      <th>wind speed</th>\n",
       "      <th>Precipitation amount</th>\n",
       "      <th>query</th>\n",
       "      <th>Moon Phase calculator</th>\n",
       "    </tr>\n",
       "  </thead>\n",
       "  <tbody>\n",
       "    <tr>\n",
       "      <th>5429</th>\n",
       "      <td>2020-11-05 22:00:00</td>\n",
       "      <td>8 °C\\n(10:00 pm CET | Thursday, November 5, 2020)</td>\n",
       "      <td>ERROR</td>\n",
       "      <td>1 m/s\\n(10:00 pm CET | Thursday, November 5, 2...</td>\n",
       "      <td>(unknown)\\n(10:00 pm CET | Thursday, November ...</td>\n",
       "      <td>Moon Phase calculatorNovember 5, 2020 22h</td>\n",
       "      <td>| waning gibbous moon\\n76.55% illuminated</td>\n",
       "    </tr>\n",
       "    <tr>\n",
       "      <th>5430</th>\n",
       "      <td>2020-11-16 19:00:00</td>\n",
       "      <td>7 °C\\n(7:00 pm CET | Monday, November 16, 2020)</td>\n",
       "      <td>ERROR</td>\n",
       "      <td>1 m/s\\n(7:00 pm CET | Monday, November 16, 2020)</td>\n",
       "      <td>(unknown)\\n(7:00 pm CET | Monday, November 16,...</td>\n",
       "      <td>Moon Phase calculatorNovember 16, 2020 19h</td>\n",
       "      <td>| waxing crescent moon\\n3.48% illuminated</td>\n",
       "    </tr>\n",
       "    <tr>\n",
       "      <th>5431</th>\n",
       "      <td>2020-11-16 21:00:00</td>\n",
       "      <td>5 °C\\n(9:00 pm CET | Monday, November 16, 2020)</td>\n",
       "      <td>ERROR</td>\n",
       "      <td>0 m/s\\n(9:00 pm CET | Monday, November 16, 2020)</td>\n",
       "      <td>(unknown)\\n(9:00 pm CET | Monday, November 16,...</td>\n",
       "      <td>Moon Phase calculatorNovember 16, 2020 21h</td>\n",
       "      <td>| waxing crescent moon\\n3.86% illuminated</td>\n",
       "    </tr>\n",
       "    <tr>\n",
       "      <th>5432</th>\n",
       "      <td>2020-12-15 21:00:00</td>\n",
       "      <td>4 °C\\n(9:00 pm CET | Tuesday, December 15, 2020)</td>\n",
       "      <td>ERROR</td>\n",
       "      <td>1 m/s\\n(9:00 pm CET | Tuesday, December 15, 2020)</td>\n",
       "      <td>(unknown)\\n(9:00 pm CET | Tuesday, December 15...</td>\n",
       "      <td>Moon Phase calculatorDecember 15, 2020 21h</td>\n",
       "      <td>| waxing crescent moon\\n1.86% illuminated</td>\n",
       "    </tr>\n",
       "    <tr>\n",
       "      <th>5433</th>\n",
       "      <td>2021-02-08 17:00:00</td>\n",
       "      <td>5 °C\\n(5:00 pm CET | Monday, February 8, 2021)</td>\n",
       "      <td>ERROR</td>\n",
       "      <td>5 m/s\\n(5:00 pm CET | Monday, February 8, 2021)</td>\n",
       "      <td>(unknown)\\n(5:00 pm CET | Monday, February 8, ...</td>\n",
       "      <td>Moon Phase calculatorFebruary 8, 2021 17h</td>\n",
       "      <td>| waning crescent moon\\n11.27% illuminated</td>\n",
       "    </tr>\n",
       "    <tr>\n",
       "      <th>...</th>\n",
       "      <td>...</td>\n",
       "      <td>...</td>\n",
       "      <td>...</td>\n",
       "      <td>...</td>\n",
       "      <td>...</td>\n",
       "      <td>...</td>\n",
       "      <td>...</td>\n",
       "    </tr>\n",
       "    <tr>\n",
       "      <th>5672</th>\n",
       "      <td>2021-05-23 08:00:00</td>\n",
       "      <td>9 °C\\n(8:00 am CEST | Sunday, May 23, 2021)</td>\n",
       "      <td>average: 87% (87%)\\n(8:00 am CEST | Sunday, Ma...</td>\n",
       "      <td>2 m/s\\n(8:00 am CEST | Sunday, May 23, 2021)</td>\n",
       "      <td>ERROR</td>\n",
       "      <td>Moon Phase calculatorMay 23, 2021 8h</td>\n",
       "      <td>| waxing gibbous moon\\n85.14% illuminated</td>\n",
       "    </tr>\n",
       "    <tr>\n",
       "      <th>5721</th>\n",
       "      <td>2021-05-25 09:00:00</td>\n",
       "      <td>ERROR</td>\n",
       "      <td>ERROR</td>\n",
       "      <td>ERROR</td>\n",
       "      <td>(unknown)\\n(9:00 am CEST | Tuesday, May 25, 2021)</td>\n",
       "      <td>Moon Phase calculatorMay 25, 2021 9h</td>\n",
       "      <td>| waxing gibbous moon\\n97.86% illuminated</td>\n",
       "    </tr>\n",
       "    <tr>\n",
       "      <th>5722</th>\n",
       "      <td>2021-05-25 10:00:00</td>\n",
       "      <td>ERROR</td>\n",
       "      <td>ERROR</td>\n",
       "      <td>ERROR</td>\n",
       "      <td>(unknown)\\n(10:00 am CEST | Tuesday, May 25, 2...</td>\n",
       "      <td>Moon Phase calculatorMay 25, 2021 10h</td>\n",
       "      <td>| waxing gibbous moon\\n98.01% illuminated</td>\n",
       "    </tr>\n",
       "    <tr>\n",
       "      <th>5723</th>\n",
       "      <td>2021-05-25 11:00:00</td>\n",
       "      <td>ERROR</td>\n",
       "      <td>ERROR</td>\n",
       "      <td>ERROR</td>\n",
       "      <td>(unknown)\\n(11:00 am CEST | Tuesday, May 25, 2...</td>\n",
       "      <td>Moon Phase calculatorMay 25, 2021 11h</td>\n",
       "      <td>| waxing gibbous moon\\n98.15% illuminated</td>\n",
       "    </tr>\n",
       "    <tr>\n",
       "      <th>5724</th>\n",
       "      <td>2021-05-25 12:00:00</td>\n",
       "      <td>ERROR</td>\n",
       "      <td>ERROR</td>\n",
       "      <td>ERROR</td>\n",
       "      <td>(unknown)\\n(12:00 pm CEST | Tuesday, May 25, 2...</td>\n",
       "      <td>Moon Phase calculatorMay 25, 2021 12h</td>\n",
       "      <td>| waxing gibbous moon\\n98.29% illuminated</td>\n",
       "    </tr>\n",
       "  </tbody>\n",
       "</table>\n",
       "<p>65 rows × 7 columns</p>\n",
       "</div>"
      ],
      "text/plain": [
       "                    date                                        temperature  \\\n",
       "5429 2020-11-05 22:00:00  8 °C\\n(10:00 pm CET | Thursday, November 5, 2020)   \n",
       "5430 2020-11-16 19:00:00    7 °C\\n(7:00 pm CET | Monday, November 16, 2020)   \n",
       "5431 2020-11-16 21:00:00    5 °C\\n(9:00 pm CET | Monday, November 16, 2020)   \n",
       "5432 2020-12-15 21:00:00   4 °C\\n(9:00 pm CET | Tuesday, December 15, 2020)   \n",
       "5433 2021-02-08 17:00:00     5 °C\\n(5:00 pm CET | Monday, February 8, 2021)   \n",
       "...                  ...                                                ...   \n",
       "5672 2021-05-23 08:00:00        9 °C\\n(8:00 am CEST | Sunday, May 23, 2021)   \n",
       "5721 2021-05-25 09:00:00                                              ERROR   \n",
       "5722 2021-05-25 10:00:00                                              ERROR   \n",
       "5723 2021-05-25 11:00:00                                              ERROR   \n",
       "5724 2021-05-25 12:00:00                                              ERROR   \n",
       "\n",
       "                                               humidity  \\\n",
       "5429                                              ERROR   \n",
       "5430                                              ERROR   \n",
       "5431                                              ERROR   \n",
       "5432                                              ERROR   \n",
       "5433                                              ERROR   \n",
       "...                                                 ...   \n",
       "5672  average: 87% (87%)\\n(8:00 am CEST | Sunday, Ma...   \n",
       "5721                                              ERROR   \n",
       "5722                                              ERROR   \n",
       "5723                                              ERROR   \n",
       "5724                                              ERROR   \n",
       "\n",
       "                                             wind speed  \\\n",
       "5429  1 m/s\\n(10:00 pm CET | Thursday, November 5, 2...   \n",
       "5430   1 m/s\\n(7:00 pm CET | Monday, November 16, 2020)   \n",
       "5431   0 m/s\\n(9:00 pm CET | Monday, November 16, 2020)   \n",
       "5432  1 m/s\\n(9:00 pm CET | Tuesday, December 15, 2020)   \n",
       "5433    5 m/s\\n(5:00 pm CET | Monday, February 8, 2021)   \n",
       "...                                                 ...   \n",
       "5672       2 m/s\\n(8:00 am CEST | Sunday, May 23, 2021)   \n",
       "5721                                              ERROR   \n",
       "5722                                              ERROR   \n",
       "5723                                              ERROR   \n",
       "5724                                              ERROR   \n",
       "\n",
       "                                   Precipitation amount  \\\n",
       "5429  (unknown)\\n(10:00 pm CET | Thursday, November ...   \n",
       "5430  (unknown)\\n(7:00 pm CET | Monday, November 16,...   \n",
       "5431  (unknown)\\n(9:00 pm CET | Monday, November 16,...   \n",
       "5432  (unknown)\\n(9:00 pm CET | Tuesday, December 15...   \n",
       "5433  (unknown)\\n(5:00 pm CET | Monday, February 8, ...   \n",
       "...                                                 ...   \n",
       "5672                                              ERROR   \n",
       "5721  (unknown)\\n(9:00 am CEST | Tuesday, May 25, 2021)   \n",
       "5722  (unknown)\\n(10:00 am CEST | Tuesday, May 25, 2...   \n",
       "5723  (unknown)\\n(11:00 am CEST | Tuesday, May 25, 2...   \n",
       "5724  (unknown)\\n(12:00 pm CEST | Tuesday, May 25, 2...   \n",
       "\n",
       "                                           query  \\\n",
       "5429   Moon Phase calculatorNovember 5, 2020 22h   \n",
       "5430  Moon Phase calculatorNovember 16, 2020 19h   \n",
       "5431  Moon Phase calculatorNovember 16, 2020 21h   \n",
       "5432  Moon Phase calculatorDecember 15, 2020 21h   \n",
       "5433   Moon Phase calculatorFebruary 8, 2021 17h   \n",
       "...                                          ...   \n",
       "5672        Moon Phase calculatorMay 23, 2021 8h   \n",
       "5721        Moon Phase calculatorMay 25, 2021 9h   \n",
       "5722       Moon Phase calculatorMay 25, 2021 10h   \n",
       "5723       Moon Phase calculatorMay 25, 2021 11h   \n",
       "5724       Moon Phase calculatorMay 25, 2021 12h   \n",
       "\n",
       "                           Moon Phase calculator  \n",
       "5429   | waning gibbous moon\\n76.55% illuminated  \n",
       "5430   | waxing crescent moon\\n3.48% illuminated  \n",
       "5431   | waxing crescent moon\\n3.86% illuminated  \n",
       "5432   | waxing crescent moon\\n1.86% illuminated  \n",
       "5433  | waning crescent moon\\n11.27% illuminated  \n",
       "...                                          ...  \n",
       "5672   | waxing gibbous moon\\n85.14% illuminated  \n",
       "5721   | waxing gibbous moon\\n97.86% illuminated  \n",
       "5722   | waxing gibbous moon\\n98.01% illuminated  \n",
       "5723   | waxing gibbous moon\\n98.15% illuminated  \n",
       "5724   | waxing gibbous moon\\n98.29% illuminated  \n",
       "\n",
       "[65 rows x 7 columns]"
      ]
     },
     "metadata": {},
     "output_type": "display_data"
    },
    {
     "name": "stdout",
     "output_type": "stream",
     "text": [
      "7369\n",
      "1709\n",
      "WARNING: to many calls to be completed these queries!\n",
      "You need 8545 new queries to complete this date interval\n",
      "(5660, 7)\n"
     ]
    },
    {
     "data": {
      "text/html": [
       "<div>\n",
       "<style scoped>\n",
       "    .dataframe tbody tr th:only-of-type {\n",
       "        vertical-align: middle;\n",
       "    }\n",
       "\n",
       "    .dataframe tbody tr th {\n",
       "        vertical-align: top;\n",
       "    }\n",
       "\n",
       "    .dataframe thead th {\n",
       "        text-align: right;\n",
       "    }\n",
       "</style>\n",
       "<table border=\"1\" class=\"dataframe\">\n",
       "  <thead>\n",
       "    <tr style=\"text-align: right;\">\n",
       "      <th></th>\n",
       "      <th>date</th>\n",
       "      <th>temperature</th>\n",
       "      <th>humidity</th>\n",
       "      <th>wind speed</th>\n",
       "      <th>Precipitation amount</th>\n",
       "      <th>query</th>\n",
       "      <th>Moon Phase calculator</th>\n",
       "    </tr>\n",
       "  </thead>\n",
       "  <tbody>\n",
       "    <tr>\n",
       "      <th>5716</th>\n",
       "      <td>2021-05-25 04:00:00</td>\n",
       "      <td>8 °C\\n(4:00 am CEST | Tuesday, May 25, 2021)</td>\n",
       "      <td>average: 68% (66 to 71%)\\n(4:00 am CEST | Tues...</td>\n",
       "      <td>2 m/s\\n(4:00 am CEST | Tuesday, May 25, 2021)</td>\n",
       "      <td>no precipitation\\n(4:00 am CEST | Tuesday, May...</td>\n",
       "      <td>Moon Phase calculatorMay 25, 2021 4h</td>\n",
       "      <td>| waxing gibbous moon\\n97.05% illuminated</td>\n",
       "    </tr>\n",
       "    <tr>\n",
       "      <th>5717</th>\n",
       "      <td>2021-05-25 05:00:00</td>\n",
       "      <td>8 °C\\n(5:00 am CEST | Tuesday, May 25, 2021)</td>\n",
       "      <td>average: 71% (71%)\\n(5:00 am CEST | Tuesday, M...</td>\n",
       "      <td>3 m/s\\n(5:00 am CEST | Tuesday, May 25, 2021)</td>\n",
       "      <td>no precipitation\\n(5:00 am CEST | Tuesday, May...</td>\n",
       "      <td>Moon Phase calculatorMay 25, 2021 5h</td>\n",
       "      <td>| waxing gibbous moon\\n97.22% illuminated</td>\n",
       "    </tr>\n",
       "    <tr>\n",
       "      <th>5718</th>\n",
       "      <td>2021-05-25 06:00:00</td>\n",
       "      <td>8 °C\\n(6:00 am CEST | Tuesday, May 25, 2021)</td>\n",
       "      <td>average: 74% (66 to 81%)\\n(6:00 am CEST | Tues...</td>\n",
       "      <td>3 m/s\\n(6:00 am CEST | Tuesday, May 25, 2021)</td>\n",
       "      <td>no precipitation\\n(6:00 am CEST | Tuesday, May...</td>\n",
       "      <td>Moon Phase calculatorMay 25, 2021 6h</td>\n",
       "      <td>| waxing gibbous moon\\n97.39% illuminated</td>\n",
       "    </tr>\n",
       "    <tr>\n",
       "      <th>5719</th>\n",
       "      <td>2021-05-25 07:00:00</td>\n",
       "      <td>8 °C\\n(7:00 am CEST | Tuesday, May 25, 2021)</td>\n",
       "      <td>average: 73% (71 to 76%)\\n(7:00 am CEST | Tues...</td>\n",
       "      <td>5 m/s\\n(7:00 am CEST | Tuesday, May 25, 2021)</td>\n",
       "      <td>no precipitation\\n(7:00 am CEST | Tuesday, May...</td>\n",
       "      <td>Moon Phase calculatorMay 25, 2021 7h</td>\n",
       "      <td>| waxing gibbous moon\\n97.55% illuminated</td>\n",
       "    </tr>\n",
       "    <tr>\n",
       "      <th>5720</th>\n",
       "      <td>2021-05-25 08:00:00</td>\n",
       "      <td>8 °C\\n(8:00 am CEST | Tuesday, May 25, 2021)</td>\n",
       "      <td>average: 79% (71 to 87%)\\n(8:00 am CEST | Tues...</td>\n",
       "      <td>7 m/s\\n(8:00 am CEST | Tuesday, May 25, 2021)</td>\n",
       "      <td>rain\\n(8:00 am CEST | Tuesday, May 25, 2021)</td>\n",
       "      <td>Moon Phase calculatorMay 25, 2021 8h</td>\n",
       "      <td>| waxing gibbous moon\\n97.71% illuminated</td>\n",
       "    </tr>\n",
       "  </tbody>\n",
       "</table>\n",
       "</div>"
      ],
      "text/plain": [
       "                    date                                   temperature  \\\n",
       "5716 2021-05-25 04:00:00  8 °C\\n(4:00 am CEST | Tuesday, May 25, 2021)   \n",
       "5717 2021-05-25 05:00:00  8 °C\\n(5:00 am CEST | Tuesday, May 25, 2021)   \n",
       "5718 2021-05-25 06:00:00  8 °C\\n(6:00 am CEST | Tuesday, May 25, 2021)   \n",
       "5719 2021-05-25 07:00:00  8 °C\\n(7:00 am CEST | Tuesday, May 25, 2021)   \n",
       "5720 2021-05-25 08:00:00  8 °C\\n(8:00 am CEST | Tuesday, May 25, 2021)   \n",
       "\n",
       "                                               humidity  \\\n",
       "5716  average: 68% (66 to 71%)\\n(4:00 am CEST | Tues...   \n",
       "5717  average: 71% (71%)\\n(5:00 am CEST | Tuesday, M...   \n",
       "5718  average: 74% (66 to 81%)\\n(6:00 am CEST | Tues...   \n",
       "5719  average: 73% (71 to 76%)\\n(7:00 am CEST | Tues...   \n",
       "5720  average: 79% (71 to 87%)\\n(8:00 am CEST | Tues...   \n",
       "\n",
       "                                         wind speed  \\\n",
       "5716  2 m/s\\n(4:00 am CEST | Tuesday, May 25, 2021)   \n",
       "5717  3 m/s\\n(5:00 am CEST | Tuesday, May 25, 2021)   \n",
       "5718  3 m/s\\n(6:00 am CEST | Tuesday, May 25, 2021)   \n",
       "5719  5 m/s\\n(7:00 am CEST | Tuesday, May 25, 2021)   \n",
       "5720  7 m/s\\n(8:00 am CEST | Tuesday, May 25, 2021)   \n",
       "\n",
       "                                   Precipitation amount  \\\n",
       "5716  no precipitation\\n(4:00 am CEST | Tuesday, May...   \n",
       "5717  no precipitation\\n(5:00 am CEST | Tuesday, May...   \n",
       "5718  no precipitation\\n(6:00 am CEST | Tuesday, May...   \n",
       "5719  no precipitation\\n(7:00 am CEST | Tuesday, May...   \n",
       "5720       rain\\n(8:00 am CEST | Tuesday, May 25, 2021)   \n",
       "\n",
       "                                     query  \\\n",
       "5716  Moon Phase calculatorMay 25, 2021 4h   \n",
       "5717  Moon Phase calculatorMay 25, 2021 5h   \n",
       "5718  Moon Phase calculatorMay 25, 2021 6h   \n",
       "5719  Moon Phase calculatorMay 25, 2021 7h   \n",
       "5720  Moon Phase calculatorMay 25, 2021 8h   \n",
       "\n",
       "                          Moon Phase calculator  \n",
       "5716  | waxing gibbous moon\\n97.05% illuminated  \n",
       "5717  | waxing gibbous moon\\n97.22% illuminated  \n",
       "5718  | waxing gibbous moon\\n97.39% illuminated  \n",
       "5719  | waxing gibbous moon\\n97.55% illuminated  \n",
       "5720  | waxing gibbous moon\\n97.71% illuminated  "
      ]
     },
     "execution_count": 4,
     "metadata": {},
     "output_type": "execute_result"
    }
   ],
   "source": [
    "mi = dt.datetime(2020,9,29)\n",
    "#ma = dt.datetime(2019,9,2)\n",
    "ma = dt.datetime(2021,8,2)\n",
    "df = pd.DataFrame(columns=['date', 'temperature', 'humidity', 'wind speed', 'Precipitation amount',\n",
    "                           'Moon Phase calculator','query']) #pressure\n",
    "path_weather = os.path.join(path_,'weather.csv')\n",
    "if len(glob.glob(path_weather))==1:\n",
    "    df = pd.read_csv(path_weather, sep=';', parse_dates=['date'])\n",
    "    #remove the last date, in case we stop in middle of the data to grab\n",
    "    #df = df[df['date']!=max(df['date'].unique())]\n",
    "    df = df.drop_duplicates(subset=None, keep='first', inplace=False)\n",
    "    print(df.shape)\n",
    "    print('We already have %d dates of weather'%df.shape[0])\n",
    "    #mi = max(mi, max(df['date'].tolist())) #not a good idea in case of errors as in that case we would like to try it again \n",
    "print(df[df.isin([\"ERROR\"]).any(axis=1)].shape)\n",
    "display(df[df.isin([\"ERROR\"]).any(axis=1)])\n",
    "df = df[~df.isin([\"ERROR\"]).any(axis=1)]\n",
    "#remove the rows with at least one error\n",
    "Daterange = pd.date_range(start=mi, end=ma, freq='H')   \n",
    "print(len(Daterange))\n",
    "Daterange = [d for d in Daterange if d not in df['date'].unique()]\n",
    "print(len(Daterange))\n",
    "if (len(Daterange)*len(li_type))>=2000:\n",
    "    print('WARNING: to many calls to be completed these queries!')\n",
    "print('You need %d new queries to complete this date interval'%(len(Daterange)*len(li_type)))\n",
    "df = df.sort_values(['date'])\n",
    "print(df.shape)\n",
    "df.tail(5)"
   ]
  },
  {
   "cell_type": "code",
   "execution_count": 5,
   "metadata": {
    "scrolled": true
   },
   "outputs": [
    {
     "name": "stderr",
     "output_type": "stream",
     "text": [
      "\r",
      "  0%|                                                                                         | 0/1709 [00:00<?, ?it/s]"
     ]
    },
    {
     "name": "stdout",
     "output_type": "stream",
     "text": [
      "QUERY:  Precipitation amount in Zollikofen November 5, 2020 22h\n",
      "QUERY:  temperature in Zollikofen November 5, 2020 22h\n",
      "QUERY:  humidity in Zollikofen November 5, 2020 22h\n",
      "ERROR: no data available-------------  humidity in Zollikofen November 5, 2020 22h\n",
      "ERROR:------------- name 'error' is not defined  ----------  humidity in Zollikofen November 5, 2020 22h\n",
      "QUERY:  wind speed in Zollikofen November 5, 2020 22h\n",
      "QUERY:  Moon Phase calculatorNovember 5, 2020 22h\n",
      "(5661, 7)\n"
     ]
    },
    {
     "data": {
      "text/html": [
       "<div>\n",
       "<style scoped>\n",
       "    .dataframe tbody tr th:only-of-type {\n",
       "        vertical-align: middle;\n",
       "    }\n",
       "\n",
       "    .dataframe tbody tr th {\n",
       "        vertical-align: top;\n",
       "    }\n",
       "\n",
       "    .dataframe thead th {\n",
       "        text-align: right;\n",
       "    }\n",
       "</style>\n",
       "<table border=\"1\" class=\"dataframe\">\n",
       "  <thead>\n",
       "    <tr style=\"text-align: right;\">\n",
       "      <th></th>\n",
       "      <th>date</th>\n",
       "      <th>temperature</th>\n",
       "      <th>humidity</th>\n",
       "      <th>wind speed</th>\n",
       "      <th>Precipitation amount</th>\n",
       "      <th>query</th>\n",
       "      <th>Moon Phase calculator</th>\n",
       "    </tr>\n",
       "  </thead>\n",
       "  <tbody>\n",
       "    <tr>\n",
       "      <th>5720</th>\n",
       "      <td>2021-05-25 08:00:00</td>\n",
       "      <td>8 °C\\n(8:00 am CEST | Tuesday, May 25, 2021)</td>\n",
       "      <td>average: 79% (71 to 87%)\\n(8:00 am CEST | Tues...</td>\n",
       "      <td>7 m/s\\n(8:00 am CEST | Tuesday, May 25, 2021)</td>\n",
       "      <td>rain\\n(8:00 am CEST | Tuesday, May 25, 2021)</td>\n",
       "      <td>Moon Phase calculatorMay 25, 2021 8h</td>\n",
       "      <td>| waxing gibbous moon\\n97.71% illuminated</td>\n",
       "    </tr>\n",
       "    <tr>\n",
       "      <th>0</th>\n",
       "      <td>2020-11-05 22:00:00</td>\n",
       "      <td>8 °C\\n(10:00 pm CET | Thursday, November 5, 2020)</td>\n",
       "      <td>ERROR</td>\n",
       "      <td>1 m/s\\n(10:00 pm CET | Thursday, November 5, 2...</td>\n",
       "      <td>(unknown)\\n(10:00 pm CET | Thursday, November ...</td>\n",
       "      <td>Moon Phase calculatorNovember 5, 2020 22h</td>\n",
       "      <td>| waning gibbous moon\\n76.55% illuminated</td>\n",
       "    </tr>\n",
       "  </tbody>\n",
       "</table>\n",
       "</div>"
      ],
      "text/plain": [
       "                    date                                        temperature  \\\n",
       "5720 2021-05-25 08:00:00       8 °C\\n(8:00 am CEST | Tuesday, May 25, 2021)   \n",
       "0    2020-11-05 22:00:00  8 °C\\n(10:00 pm CET | Thursday, November 5, 2020)   \n",
       "\n",
       "                                               humidity  \\\n",
       "5720  average: 79% (71 to 87%)\\n(8:00 am CEST | Tues...   \n",
       "0                                                 ERROR   \n",
       "\n",
       "                                             wind speed  \\\n",
       "5720      7 m/s\\n(8:00 am CEST | Tuesday, May 25, 2021)   \n",
       "0     1 m/s\\n(10:00 pm CET | Thursday, November 5, 2...   \n",
       "\n",
       "                                   Precipitation amount  \\\n",
       "5720       rain\\n(8:00 am CEST | Tuesday, May 25, 2021)   \n",
       "0     (unknown)\\n(10:00 pm CET | Thursday, November ...   \n",
       "\n",
       "                                          query  \\\n",
       "5720       Moon Phase calculatorMay 25, 2021 8h   \n",
       "0     Moon Phase calculatorNovember 5, 2020 22h   \n",
       "\n",
       "                          Moon Phase calculator  \n",
       "5720  | waxing gibbous moon\\n97.71% illuminated  \n",
       "0     | waning gibbous moon\\n76.55% illuminated  "
      ]
     },
     "metadata": {},
     "output_type": "display_data"
    },
    {
     "name": "stderr",
     "output_type": "stream",
     "text": [
      "\r",
      "  0%|                                                                              | 1/1709 [00:21<10:08:50, 21.39s/it]"
     ]
    },
    {
     "name": "stdout",
     "output_type": "stream",
     "text": [
      "QUERY:  Precipitation amount in Zollikofen November 16, 2020 19h\n",
      "QUERY:  temperature in Zollikofen November 16, 2020 19h\n",
      "QUERY:  humidity in Zollikofen November 16, 2020 19h\n",
      "ERROR: no data available-------------  humidity in Zollikofen November 16, 2020 19h\n",
      "ERROR:------------- name 'error' is not defined  ----------  humidity in Zollikofen November 16, 2020 19h\n",
      "QUERY:  wind speed in Zollikofen November 16, 2020 19h\n",
      "QUERY:  Moon Phase calculatorNovember 16, 2020 19h\n"
     ]
    },
    {
     "name": "stderr",
     "output_type": "stream",
     "text": [
      "\r",
      "  0%|                                                                              | 2/1709 [00:42<10:07:01, 21.34s/it]"
     ]
    },
    {
     "name": "stdout",
     "output_type": "stream",
     "text": [
      "QUERY:  Precipitation amount in Zollikofen November 16, 2020 21h\n",
      "QUERY:  temperature in Zollikofen November 16, 2020 21h\n",
      "QUERY:  humidity in Zollikofen November 16, 2020 21h\n",
      "ERROR: no data available-------------  humidity in Zollikofen November 16, 2020 21h\n",
      "ERROR:------------- name 'error' is not defined  ----------  humidity in Zollikofen November 16, 2020 21h\n",
      "QUERY:  wind speed in Zollikofen November 16, 2020 21h\n",
      "QUERY:  Moon Phase calculatorNovember 16, 2020 21h\n"
     ]
    },
    {
     "name": "stderr",
     "output_type": "stream",
     "text": [
      "\r",
      "  0%|▏                                                                             | 3/1709 [01:03<10:01:17, 21.15s/it]"
     ]
    },
    {
     "name": "stdout",
     "output_type": "stream",
     "text": [
      "QUERY:  Precipitation amount in Zollikofen December 15, 2020 21h\n",
      "QUERY:  temperature in Zollikofen December 15, 2020 21h\n",
      "QUERY:  humidity in Zollikofen December 15, 2020 21h\n",
      "ERROR: no data available-------------  humidity in Zollikofen December 15, 2020 21h\n",
      "ERROR:------------- name 'error' is not defined  ----------  humidity in Zollikofen December 15, 2020 21h\n",
      "QUERY:  wind speed in Zollikofen December 15, 2020 21h\n",
      "QUERY:  Moon Phase calculatorDecember 15, 2020 21h\n"
     ]
    },
    {
     "name": "stderr",
     "output_type": "stream",
     "text": [
      "\r",
      "  0%|▏                                                                              | 4/1709 [01:23<9:54:48, 20.93s/it]"
     ]
    },
    {
     "name": "stdout",
     "output_type": "stream",
     "text": [
      "QUERY:  Precipitation amount in Zollikofen February 8, 2021 17h\n",
      "QUERY:  temperature in Zollikofen February 8, 2021 17h\n",
      "QUERY:  humidity in Zollikofen February 8, 2021 17h\n",
      "ERROR: no data available-------------  humidity in Zollikofen February 8, 2021 17h\n",
      "ERROR:------------- name 'error' is not defined  ----------  humidity in Zollikofen February 8, 2021 17h\n",
      "QUERY:  wind speed in Zollikofen February 8, 2021 17h\n",
      "QUERY:  Moon Phase calculatorFebruary 8, 2021 17h\n"
     ]
    },
    {
     "name": "stderr",
     "output_type": "stream",
     "text": [
      "\r",
      "  0%|▏                                                                              | 5/1709 [01:43<9:47:36, 20.69s/it]"
     ]
    },
    {
     "name": "stdout",
     "output_type": "stream",
     "text": [
      "QUERY:  Precipitation amount in Zollikofen February 8, 2021 18h\n",
      "QUERY:  temperature in Zollikofen February 8, 2021 18h\n",
      "QUERY:  humidity in Zollikofen February 8, 2021 18h\n",
      "ERROR: no data available-------------  humidity in Zollikofen February 8, 2021 18h\n",
      "ERROR:------------- name 'error' is not defined  ----------  humidity in Zollikofen February 8, 2021 18h\n",
      "QUERY:  wind speed in Zollikofen February 8, 2021 18h\n",
      "QUERY:  Moon Phase calculatorFebruary 8, 2021 18h\n"
     ]
    },
    {
     "name": "stderr",
     "output_type": "stream",
     "text": [
      "\r",
      "  0%|▎                                                                              | 6/1709 [02:04<9:45:15, 20.62s/it]"
     ]
    },
    {
     "name": "stdout",
     "output_type": "stream",
     "text": [
      "QUERY:  Precipitation amount in Zollikofen February 8, 2021 19h\n",
      "QUERY:  temperature in Zollikofen February 8, 2021 19h\n",
      "QUERY:  humidity in Zollikofen February 8, 2021 19h\n",
      "ERROR: no data available-------------  humidity in Zollikofen February 8, 2021 19h\n",
      "ERROR:------------- name 'error' is not defined  ----------  humidity in Zollikofen February 8, 2021 19h\n",
      "QUERY:  wind speed in Zollikofen February 8, 2021 19h\n",
      "QUERY:  Moon Phase calculatorFebruary 8, 2021 19h\n"
     ]
    },
    {
     "name": "stderr",
     "output_type": "stream",
     "text": [
      "\r",
      "  0%|▎                                                                             | 7/1709 [02:27<10:05:30, 21.35s/it]"
     ]
    },
    {
     "name": "stdout",
     "output_type": "stream",
     "text": [
      "QUERY:  Precipitation amount in Zollikofen February 8, 2021 20h\n",
      "QUERY:  temperature in Zollikofen February 8, 2021 20h\n",
      "QUERY:  humidity in Zollikofen February 8, 2021 20h\n",
      "ERROR: no data available-------------  humidity in Zollikofen February 8, 2021 20h\n",
      "ERROR:------------- name 'error' is not defined  ----------  humidity in Zollikofen February 8, 2021 20h\n",
      "QUERY:  wind speed in Zollikofen February 8, 2021 20h\n",
      "QUERY:  Moon Phase calculatorFebruary 8, 2021 20h\n"
     ]
    },
    {
     "name": "stderr",
     "output_type": "stream",
     "text": [
      "\r",
      "  0%|▎                                                                             | 8/1709 [02:48<10:03:01, 21.27s/it]"
     ]
    },
    {
     "name": "stdout",
     "output_type": "stream",
     "text": [
      "QUERY:  Precipitation amount in Zollikofen February 9, 2021 9h\n",
      "QUERY:  temperature in Zollikofen February 9, 2021 9h\n",
      "QUERY:  humidity in Zollikofen February 9, 2021 9h\n",
      "ERROR: no data available-------------  humidity in Zollikofen February 9, 2021 9h\n",
      "ERROR:------------- name 'error' is not defined  ----------  humidity in Zollikofen February 9, 2021 9h\n",
      "QUERY:  wind speed in Zollikofen February 9, 2021 9h\n",
      "QUERY:  Moon Phase calculatorFebruary 9, 2021 9h\n"
     ]
    },
    {
     "name": "stderr",
     "output_type": "stream",
     "text": [
      "\r",
      "  1%|▍                                                                             | 9/1709 [03:12<10:29:11, 22.21s/it]"
     ]
    },
    {
     "name": "stdout",
     "output_type": "stream",
     "text": [
      "QUERY:  Precipitation amount in Zollikofen February 9, 2021 10h\n",
      "QUERY:  temperature in Zollikofen February 9, 2021 10h\n",
      "QUERY:  humidity in Zollikofen February 9, 2021 10h\n",
      "ERROR: no data available-------------  humidity in Zollikofen February 9, 2021 10h\n",
      "ERROR:------------- name 'error' is not defined  ----------  humidity in Zollikofen February 9, 2021 10h\n",
      "QUERY:  wind speed in Zollikofen February 9, 2021 10h\n",
      "QUERY:  Moon Phase calculatorFebruary 9, 2021 10h\n"
     ]
    },
    {
     "name": "stderr",
     "output_type": "stream",
     "text": [
      "\r",
      "  1%|▍                                                                            | 10/1709 [03:33<10:16:33, 21.77s/it]"
     ]
    },
    {
     "name": "stdout",
     "output_type": "stream",
     "text": [
      "QUERY:  Precipitation amount in Zollikofen February 9, 2021 11h\n",
      "QUERY:  temperature in Zollikofen February 9, 2021 11h\n",
      "QUERY:  humidity in Zollikofen February 9, 2021 11h\n",
      "ERROR: no data available-------------  humidity in Zollikofen February 9, 2021 11h\n",
      "ERROR:------------- name 'error' is not defined  ----------  humidity in Zollikofen February 9, 2021 11h\n",
      "QUERY:  wind speed in Zollikofen February 9, 2021 11h\n",
      "QUERY:  Moon Phase calculatorFebruary 9, 2021 11h\n",
      "(5671, 7)\n"
     ]
    },
    {
     "data": {
      "text/html": [
       "<div>\n",
       "<style scoped>\n",
       "    .dataframe tbody tr th:only-of-type {\n",
       "        vertical-align: middle;\n",
       "    }\n",
       "\n",
       "    .dataframe tbody tr th {\n",
       "        vertical-align: top;\n",
       "    }\n",
       "\n",
       "    .dataframe thead th {\n",
       "        text-align: right;\n",
       "    }\n",
       "</style>\n",
       "<table border=\"1\" class=\"dataframe\">\n",
       "  <thead>\n",
       "    <tr style=\"text-align: right;\">\n",
       "      <th></th>\n",
       "      <th>date</th>\n",
       "      <th>temperature</th>\n",
       "      <th>humidity</th>\n",
       "      <th>wind speed</th>\n",
       "      <th>Precipitation amount</th>\n",
       "      <th>query</th>\n",
       "      <th>Moon Phase calculator</th>\n",
       "    </tr>\n",
       "  </thead>\n",
       "  <tbody>\n",
       "    <tr>\n",
       "      <th>8</th>\n",
       "      <td>2021-02-09 10:00:00</td>\n",
       "      <td>0 °C\\n(10:00 am CET | Tuesday, February 9, 2021)</td>\n",
       "      <td>ERROR</td>\n",
       "      <td>1 m/s\\n(10:00 am CET | Tuesday, February 9, 2021)</td>\n",
       "      <td>(unknown)\\n(10:00 am CET | Tuesday, February 9...</td>\n",
       "      <td>Moon Phase calculatorFebruary 9, 2021 10h</td>\n",
       "      <td>| waning crescent moon\\n6.82% illuminated</td>\n",
       "    </tr>\n",
       "    <tr>\n",
       "      <th>9</th>\n",
       "      <td>2021-02-09 11:00:00</td>\n",
       "      <td>0 °C\\n(11:00 am CET | Tuesday, February 9, 2021)</td>\n",
       "      <td>ERROR</td>\n",
       "      <td>1 m/s\\n(11:00 am CET | Tuesday, February 9, 2021)</td>\n",
       "      <td>(unknown)\\n(11:00 am CET | Tuesday, February 9...</td>\n",
       "      <td>Moon Phase calculatorFebruary 9, 2021 11h</td>\n",
       "      <td>| waning crescent moon\\n6.60% illuminated</td>\n",
       "    </tr>\n",
       "  </tbody>\n",
       "</table>\n",
       "</div>"
      ],
      "text/plain": [
       "                 date                                       temperature  \\\n",
       "8 2021-02-09 10:00:00  0 °C\\n(10:00 am CET | Tuesday, February 9, 2021)   \n",
       "9 2021-02-09 11:00:00  0 °C\\n(11:00 am CET | Tuesday, February 9, 2021)   \n",
       "\n",
       "  humidity                                         wind speed  \\\n",
       "8    ERROR  1 m/s\\n(10:00 am CET | Tuesday, February 9, 2021)   \n",
       "9    ERROR  1 m/s\\n(11:00 am CET | Tuesday, February 9, 2021)   \n",
       "\n",
       "                                Precipitation amount  \\\n",
       "8  (unknown)\\n(10:00 am CET | Tuesday, February 9...   \n",
       "9  (unknown)\\n(11:00 am CET | Tuesday, February 9...   \n",
       "\n",
       "                                       query  \\\n",
       "8  Moon Phase calculatorFebruary 9, 2021 10h   \n",
       "9  Moon Phase calculatorFebruary 9, 2021 11h   \n",
       "\n",
       "                       Moon Phase calculator  \n",
       "8  | waning crescent moon\\n6.82% illuminated  \n",
       "9  | waning crescent moon\\n6.60% illuminated  "
      ]
     },
     "metadata": {},
     "output_type": "display_data"
    },
    {
     "name": "stderr",
     "output_type": "stream",
     "text": [
      "\r",
      "  1%|▍                                                                            | 11/1709 [03:54<10:09:20, 21.53s/it]"
     ]
    },
    {
     "name": "stdout",
     "output_type": "stream",
     "text": [
      "QUERY:  Precipitation amount in Zollikofen February 9, 2021 12h\n",
      "QUERY:  temperature in Zollikofen February 9, 2021 12h\n",
      "QUERY:  humidity in Zollikofen February 9, 2021 12h\n",
      "ERROR: no data available-------------  humidity in Zollikofen February 9, 2021 12h\n",
      "ERROR:------------- name 'error' is not defined  ----------  humidity in Zollikofen February 9, 2021 12h\n",
      "QUERY:  wind speed in Zollikofen February 9, 2021 12h\n",
      "QUERY:  Moon Phase calculatorFebruary 9, 2021 12h\n"
     ]
    },
    {
     "name": "stderr",
     "output_type": "stream",
     "text": [
      "\r",
      "  1%|▌                                                                            | 12/1709 [04:16<10:10:45, 21.59s/it]"
     ]
    },
    {
     "name": "stdout",
     "output_type": "stream",
     "text": [
      "QUERY:  Precipitation amount in Zollikofen February 9, 2021 13h\n",
      "QUERY:  temperature in Zollikofen February 9, 2021 13h\n",
      "QUERY:  humidity in Zollikofen February 9, 2021 13h\n",
      "ERROR: no data available-------------  humidity in Zollikofen February 9, 2021 13h\n",
      "ERROR:------------- name 'error' is not defined  ----------  humidity in Zollikofen February 9, 2021 13h\n",
      "QUERY:  wind speed in Zollikofen February 9, 2021 13h\n",
      "QUERY:  Moon Phase calculatorFebruary 9, 2021 13h\n"
     ]
    },
    {
     "name": "stderr",
     "output_type": "stream",
     "text": [
      "\r",
      "  1%|▌                                                                            | 13/1709 [04:37<10:07:01, 21.47s/it]"
     ]
    },
    {
     "name": "stdout",
     "output_type": "stream",
     "text": [
      "QUERY:  Precipitation amount in Zollikofen February 9, 2021 15h\n",
      "QUERY:  temperature in Zollikofen February 9, 2021 15h\n",
      "QUERY:  humidity in Zollikofen February 9, 2021 15h\n",
      "ERROR: no data available-------------  humidity in Zollikofen February 9, 2021 15h\n",
      "ERROR:------------- name 'error' is not defined  ----------  humidity in Zollikofen February 9, 2021 15h\n",
      "QUERY:  wind speed in Zollikofen February 9, 2021 15h\n",
      "QUERY:  Moon Phase calculatorFebruary 9, 2021 15h\n"
     ]
    },
    {
     "name": "stderr",
     "output_type": "stream",
     "text": [
      "\r",
      "  1%|▋                                                                             | 14/1709 [04:57<9:57:15, 21.14s/it]"
     ]
    },
    {
     "name": "stdout",
     "output_type": "stream",
     "text": [
      "QUERY:  Precipitation amount in Zollikofen February 9, 2021 16h\n",
      "QUERY:  temperature in Zollikofen February 9, 2021 16h\n",
      "QUERY:  humidity in Zollikofen February 9, 2021 16h\n",
      "ERROR: no data available-------------  humidity in Zollikofen February 9, 2021 16h\n",
      "ERROR:------------- name 'error' is not defined  ----------  humidity in Zollikofen February 9, 2021 16h\n",
      "QUERY:  wind speed in Zollikofen February 9, 2021 16h\n",
      "QUERY:  Moon Phase calculatorFebruary 9, 2021 16h\n"
     ]
    },
    {
     "name": "stderr",
     "output_type": "stream",
     "text": [
      "\r",
      "  1%|▋                                                                            | 15/1709 [05:19<10:04:25, 21.41s/it]"
     ]
    },
    {
     "name": "stdout",
     "output_type": "stream",
     "text": [
      "QUERY:  Precipitation amount in Zollikofen February 9, 2021 17h\n",
      "QUERY:  temperature in Zollikofen February 9, 2021 17h\n",
      "QUERY:  humidity in Zollikofen February 9, 2021 17h\n",
      "ERROR: no data available-------------  humidity in Zollikofen February 9, 2021 17h\n",
      "ERROR:------------- name 'error' is not defined  ----------  humidity in Zollikofen February 9, 2021 17h\n",
      "QUERY:  wind speed in Zollikofen February 9, 2021 17h\n",
      "QUERY:  Moon Phase calculatorFebruary 9, 2021 17h\n"
     ]
    },
    {
     "name": "stderr",
     "output_type": "stream",
     "text": [
      "\r",
      "  1%|▋                                                                             | 16/1709 [05:40<9:55:16, 21.10s/it]"
     ]
    },
    {
     "name": "stdout",
     "output_type": "stream",
     "text": [
      "QUERY:  Precipitation amount in Zollikofen February 9, 2021 18h\n",
      "QUERY:  temperature in Zollikofen February 9, 2021 18h\n",
      "QUERY:  humidity in Zollikofen February 9, 2021 18h\n",
      "ERROR:------------- results  ----------  humidity in Zollikofen February 9, 2021 18h\n",
      "QUERY:  wind speed in Zollikofen February 9, 2021 18h\n",
      "QUERY:  Moon Phase calculatorFebruary 9, 2021 18h\n"
     ]
    },
    {
     "name": "stderr",
     "output_type": "stream",
     "text": [
      "\r",
      "  1%|▊                                                                             | 17/1709 [06:01<9:54:58, 21.10s/it]"
     ]
    },
    {
     "name": "stdout",
     "output_type": "stream",
     "text": [
      "QUERY:  Precipitation amount in Zollikofen February 9, 2021 19h\n",
      "ERROR:------------- results  ----------  Precipitation amount in Zollikofen February 9, 2021 19h\n",
      "QUERY:  temperature in Zollikofen February 9, 2021 19h\n",
      "QUERY:  humidity in Zollikofen February 9, 2021 19h\n",
      "ERROR: no data available-------------  humidity in Zollikofen February 9, 2021 19h\n",
      "ERROR:------------- name 'error' is not defined  ----------  humidity in Zollikofen February 9, 2021 19h\n",
      "QUERY:  wind speed in Zollikofen February 9, 2021 19h\n",
      "QUERY:  Moon Phase calculatorFebruary 9, 2021 19h\n"
     ]
    },
    {
     "name": "stderr",
     "output_type": "stream",
     "text": [
      "\r",
      "  1%|▊                                                                            | 18/1709 [06:23<10:04:06, 21.44s/it]"
     ]
    },
    {
     "name": "stdout",
     "output_type": "stream",
     "text": [
      "QUERY:  Precipitation amount in Zollikofen February 9, 2021 20h\n",
      "QUERY:  temperature in Zollikofen February 9, 2021 20h\n",
      "QUERY:  humidity in Zollikofen February 9, 2021 20h\n",
      "ERROR: no data available-------------  humidity in Zollikofen February 9, 2021 20h\n",
      "ERROR:------------- name 'error' is not defined  ----------  humidity in Zollikofen February 9, 2021 20h\n",
      "QUERY:  wind speed in Zollikofen February 9, 2021 20h\n",
      "QUERY:  Moon Phase calculatorFebruary 9, 2021 20h\n"
     ]
    },
    {
     "name": "stderr",
     "output_type": "stream",
     "text": [
      "\r",
      "  1%|▊                                                                             | 19/1709 [06:43<9:54:49, 21.12s/it]"
     ]
    },
    {
     "name": "stdout",
     "output_type": "stream",
     "text": [
      "QUERY:  Precipitation amount in Zollikofen February 9, 2021 21h\n",
      "QUERY:  temperature in Zollikofen February 9, 2021 21h\n",
      "QUERY:  humidity in Zollikofen February 9, 2021 21h\n",
      "ERROR:------------- results  ----------  humidity in Zollikofen February 9, 2021 21h\n",
      "QUERY:  wind speed in Zollikofen February 9, 2021 21h\n",
      "QUERY:  Moon Phase calculatorFebruary 9, 2021 21h\n"
     ]
    },
    {
     "name": "stderr",
     "output_type": "stream",
     "text": [
      "\r",
      "  1%|▉                                                                             | 20/1709 [07:05<9:56:00, 21.17s/it]"
     ]
    },
    {
     "name": "stdout",
     "output_type": "stream",
     "text": [
      "QUERY:  Precipitation amount in Zollikofen February 9, 2021 22h\n",
      "QUERY:  temperature in Zollikofen February 9, 2021 22h\n",
      "QUERY:  humidity in Zollikofen February 9, 2021 22h\n",
      "ERROR: no data available-------------  humidity in Zollikofen February 9, 2021 22h\n",
      "ERROR:------------- name 'error' is not defined  ----------  humidity in Zollikofen February 9, 2021 22h\n",
      "QUERY:  wind speed in Zollikofen February 9, 2021 22h\n",
      "QUERY:  Moon Phase calculatorFebruary 9, 2021 22h\n",
      "(5681, 7)\n"
     ]
    },
    {
     "data": {
      "text/html": [
       "<div>\n",
       "<style scoped>\n",
       "    .dataframe tbody tr th:only-of-type {\n",
       "        vertical-align: middle;\n",
       "    }\n",
       "\n",
       "    .dataframe tbody tr th {\n",
       "        vertical-align: top;\n",
       "    }\n",
       "\n",
       "    .dataframe thead th {\n",
       "        text-align: right;\n",
       "    }\n",
       "</style>\n",
       "<table border=\"1\" class=\"dataframe\">\n",
       "  <thead>\n",
       "    <tr style=\"text-align: right;\">\n",
       "      <th></th>\n",
       "      <th>date</th>\n",
       "      <th>temperature</th>\n",
       "      <th>humidity</th>\n",
       "      <th>wind speed</th>\n",
       "      <th>Precipitation amount</th>\n",
       "      <th>query</th>\n",
       "      <th>Moon Phase calculator</th>\n",
       "    </tr>\n",
       "  </thead>\n",
       "  <tbody>\n",
       "    <tr>\n",
       "      <th>8</th>\n",
       "      <td>2021-02-09 21:00:00</td>\n",
       "      <td>0 °C\\n(9:00 pm CET | Tuesday, February 9, 2021)</td>\n",
       "      <td>ERROR</td>\n",
       "      <td>4 m/s\\n(9:00 pm CET | Tuesday, February 9, 2021)</td>\n",
       "      <td>(unknown)\\n(9:00 pm CET | Tuesday, February 9,...</td>\n",
       "      <td>Moon Phase calculatorFebruary 9, 2021 21h</td>\n",
       "      <td>| waning crescent moon\\n4.53% illuminated</td>\n",
       "    </tr>\n",
       "    <tr>\n",
       "      <th>9</th>\n",
       "      <td>2021-02-09 22:00:00</td>\n",
       "      <td>0 °C\\n(10:00 pm CET | Tuesday, February 9, 2021)</td>\n",
       "      <td>ERROR</td>\n",
       "      <td>4 m/s\\n(10:00 pm CET | Tuesday, February 9, 2021)</td>\n",
       "      <td>(unknown)\\n(10:00 pm CET | Tuesday, February 9...</td>\n",
       "      <td>Moon Phase calculatorFebruary 9, 2021 22h</td>\n",
       "      <td>| waning crescent moon\\n4.34% illuminated</td>\n",
       "    </tr>\n",
       "  </tbody>\n",
       "</table>\n",
       "</div>"
      ],
      "text/plain": [
       "                 date                                       temperature  \\\n",
       "8 2021-02-09 21:00:00   0 °C\\n(9:00 pm CET | Tuesday, February 9, 2021)   \n",
       "9 2021-02-09 22:00:00  0 °C\\n(10:00 pm CET | Tuesday, February 9, 2021)   \n",
       "\n",
       "  humidity                                         wind speed  \\\n",
       "8    ERROR   4 m/s\\n(9:00 pm CET | Tuesday, February 9, 2021)   \n",
       "9    ERROR  4 m/s\\n(10:00 pm CET | Tuesday, February 9, 2021)   \n",
       "\n",
       "                                Precipitation amount  \\\n",
       "8  (unknown)\\n(9:00 pm CET | Tuesday, February 9,...   \n",
       "9  (unknown)\\n(10:00 pm CET | Tuesday, February 9...   \n",
       "\n",
       "                                       query  \\\n",
       "8  Moon Phase calculatorFebruary 9, 2021 21h   \n",
       "9  Moon Phase calculatorFebruary 9, 2021 22h   \n",
       "\n",
       "                       Moon Phase calculator  \n",
       "8  | waning crescent moon\\n4.53% illuminated  \n",
       "9  | waning crescent moon\\n4.34% illuminated  "
      ]
     },
     "metadata": {},
     "output_type": "display_data"
    },
    {
     "name": "stderr",
     "output_type": "stream",
     "text": [
      "\r",
      "  1%|▉                                                                             | 21/1709 [07:25<9:49:31, 20.95s/it]"
     ]
    },
    {
     "name": "stdout",
     "output_type": "stream",
     "text": [
      "QUERY:  Precipitation amount in Zollikofen February 10, 2021 10h\n",
      "QUERY:  temperature in Zollikofen February 10, 2021 10h\n",
      "QUERY:  humidity in Zollikofen February 10, 2021 10h\n",
      "ERROR: no data available-------------  humidity in Zollikofen February 10, 2021 10h\n",
      "ERROR:------------- name 'error' is not defined  ----------  humidity in Zollikofen February 10, 2021 10h\n",
      "QUERY:  wind speed in Zollikofen February 10, 2021 10h\n",
      "QUERY:  Moon Phase calculatorFebruary 10, 2021 10h\n"
     ]
    },
    {
     "name": "stderr",
     "output_type": "stream",
     "text": [
      "\r",
      "  1%|█                                                                             | 22/1709 [07:46<9:44:36, 20.79s/it]"
     ]
    },
    {
     "name": "stdout",
     "output_type": "stream",
     "text": [
      "QUERY:  Precipitation amount in Zollikofen February 10, 2021 11h\n",
      "QUERY:  temperature in Zollikofen February 10, 2021 11h\n",
      "QUERY:  humidity in Zollikofen February 10, 2021 11h\n",
      "ERROR: no data available-------------  humidity in Zollikofen February 10, 2021 11h\n",
      "ERROR:------------- name 'error' is not defined  ----------  humidity in Zollikofen February 10, 2021 11h\n",
      "QUERY:  wind speed in Zollikofen February 10, 2021 11h\n",
      "QUERY:  Moon Phase calculatorFebruary 10, 2021 11h\n"
     ]
    },
    {
     "name": "stderr",
     "output_type": "stream",
     "text": [
      "\r",
      "  1%|█                                                                             | 23/1709 [08:07<9:48:31, 20.94s/it]"
     ]
    },
    {
     "name": "stdout",
     "output_type": "stream",
     "text": [
      "QUERY:  Precipitation amount in Zollikofen February 10, 2021 12h\n",
      "QUERY:  temperature in Zollikofen February 10, 2021 12h\n",
      "ERROR:------------- results  ----------  temperature in Zollikofen February 10, 2021 12h\n",
      "QUERY:  humidity in Zollikofen February 10, 2021 12h\n",
      "ERROR: no data available-------------  humidity in Zollikofen February 10, 2021 12h\n",
      "ERROR:------------- name 'error' is not defined  ----------  humidity in Zollikofen February 10, 2021 12h\n",
      "QUERY:  wind speed in Zollikofen February 10, 2021 12h\n",
      "ERROR:------------- results  ----------  wind speed in Zollikofen February 10, 2021 12h\n",
      "QUERY:  Moon Phase calculatorFebruary 10, 2021 12h\n"
     ]
    },
    {
     "name": "stderr",
     "output_type": "stream",
     "text": [
      "\r",
      "  1%|█                                                                             | 24/1709 [08:29<9:57:19, 21.27s/it]"
     ]
    },
    {
     "name": "stdout",
     "output_type": "stream",
     "text": [
      "QUERY:  Precipitation amount in Zollikofen February 10, 2021 13h\n",
      "QUERY:  temperature in Zollikofen February 10, 2021 13h\n",
      "QUERY:  humidity in Zollikofen February 10, 2021 13h\n",
      "ERROR: no data available-------------  humidity in Zollikofen February 10, 2021 13h\n",
      "ERROR:------------- name 'error' is not defined  ----------  humidity in Zollikofen February 10, 2021 13h\n",
      "QUERY:  wind speed in Zollikofen February 10, 2021 13h\n",
      "QUERY:  Moon Phase calculatorFebruary 10, 2021 13h\n"
     ]
    },
    {
     "name": "stderr",
     "output_type": "stream",
     "text": [
      "\r",
      "  1%|█▏                                                                            | 25/1709 [08:50<9:51:50, 21.09s/it]"
     ]
    },
    {
     "name": "stdout",
     "output_type": "stream",
     "text": [
      "QUERY:  Precipitation amount in Zollikofen February 10, 2021 14h\n",
      "QUERY:  temperature in Zollikofen February 10, 2021 14h\n",
      "QUERY:  humidity in Zollikofen February 10, 2021 14h\n",
      "ERROR: no data available-------------  humidity in Zollikofen February 10, 2021 14h\n",
      "ERROR:------------- name 'error' is not defined  ----------  humidity in Zollikofen February 10, 2021 14h\n",
      "QUERY:  wind speed in Zollikofen February 10, 2021 14h\n",
      "QUERY:  Moon Phase calculatorFebruary 10, 2021 14h\n"
     ]
    },
    {
     "name": "stderr",
     "output_type": "stream",
     "text": [
      "\r",
      "  2%|█▏                                                                            | 26/1709 [09:12<9:59:24, 21.37s/it]"
     ]
    },
    {
     "name": "stdout",
     "output_type": "stream",
     "text": [
      "QUERY:  Precipitation amount in Zollikofen February 10, 2021 15h\n",
      "QUERY:  temperature in Zollikofen February 10, 2021 15h\n",
      "QUERY:  humidity in Zollikofen February 10, 2021 15h\n",
      "ERROR: no data available-------------  humidity in Zollikofen February 10, 2021 15h\n",
      "ERROR:------------- name 'error' is not defined  ----------  humidity in Zollikofen February 10, 2021 15h\n",
      "QUERY:  wind speed in Zollikofen February 10, 2021 15h\n",
      "QUERY:  Moon Phase calculatorFebruary 10, 2021 15h\n"
     ]
    },
    {
     "name": "stderr",
     "output_type": "stream",
     "text": [
      "\r",
      "  2%|█▏                                                                            | 27/1709 [09:32<9:47:17, 20.95s/it]"
     ]
    },
    {
     "name": "stdout",
     "output_type": "stream",
     "text": [
      "QUERY:  Precipitation amount in Zollikofen February 10, 2021 16h\n",
      "QUERY:  temperature in Zollikofen February 10, 2021 16h\n",
      "QUERY:  humidity in Zollikofen February 10, 2021 16h\n",
      "ERROR: no data available-------------  humidity in Zollikofen February 10, 2021 16h\n",
      "ERROR:------------- name 'error' is not defined  ----------  humidity in Zollikofen February 10, 2021 16h\n",
      "QUERY:  wind speed in Zollikofen February 10, 2021 16h\n",
      "QUERY:  Moon Phase calculatorFebruary 10, 2021 16h\n"
     ]
    },
    {
     "name": "stderr",
     "output_type": "stream",
     "text": [
      "\r",
      "  2%|█▎                                                                            | 28/1709 [09:51<9:34:23, 20.50s/it]"
     ]
    },
    {
     "name": "stdout",
     "output_type": "stream",
     "text": [
      "QUERY:  Precipitation amount in Zollikofen February 10, 2021 17h\n",
      "QUERY:  temperature in Zollikofen February 10, 2021 17h\n",
      "QUERY:  humidity in Zollikofen February 10, 2021 17h\n",
      "ERROR: no data available-------------  humidity in Zollikofen February 10, 2021 17h\n",
      "ERROR:------------- name 'error' is not defined  ----------  humidity in Zollikofen February 10, 2021 17h\n",
      "QUERY:  wind speed in Zollikofen February 10, 2021 17h\n",
      "QUERY:  Moon Phase calculatorFebruary 10, 2021 17h\n"
     ]
    },
    {
     "name": "stderr",
     "output_type": "stream",
     "text": [
      "\r",
      "  2%|█▎                                                                            | 29/1709 [10:13<9:44:40, 20.88s/it]"
     ]
    },
    {
     "name": "stdout",
     "output_type": "stream",
     "text": [
      "QUERY:  Precipitation amount in Zollikofen February 10, 2021 18h\n",
      "QUERY:  temperature in Zollikofen February 10, 2021 18h\n",
      "QUERY:  humidity in Zollikofen February 10, 2021 18h\n",
      "ERROR: no data available-------------  humidity in Zollikofen February 10, 2021 18h\n",
      "ERROR:------------- name 'error' is not defined  ----------  humidity in Zollikofen February 10, 2021 18h\n",
      "QUERY:  wind speed in Zollikofen February 10, 2021 18h\n",
      "QUERY:  Moon Phase calculatorFebruary 10, 2021 18h\n"
     ]
    },
    {
     "name": "stderr",
     "output_type": "stream",
     "text": [
      "\r",
      "  2%|█▎                                                                            | 30/1709 [10:33<9:37:13, 20.63s/it]"
     ]
    },
    {
     "name": "stdout",
     "output_type": "stream",
     "text": [
      "QUERY:  Precipitation amount in Zollikofen February 10, 2021 19h\n",
      "QUERY:  temperature in Zollikofen February 10, 2021 19h\n",
      "QUERY:  humidity in Zollikofen February 10, 2021 19h\n",
      "ERROR: no data available-------------  humidity in Zollikofen February 10, 2021 19h\n",
      "ERROR:------------- name 'error' is not defined  ----------  humidity in Zollikofen February 10, 2021 19h\n",
      "QUERY:  wind speed in Zollikofen February 10, 2021 19h\n",
      "QUERY:  Moon Phase calculatorFebruary 10, 2021 19h\n",
      "(5691, 7)\n"
     ]
    },
    {
     "data": {
      "text/html": [
       "<div>\n",
       "<style scoped>\n",
       "    .dataframe tbody tr th:only-of-type {\n",
       "        vertical-align: middle;\n",
       "    }\n",
       "\n",
       "    .dataframe tbody tr th {\n",
       "        vertical-align: top;\n",
       "    }\n",
       "\n",
       "    .dataframe thead th {\n",
       "        text-align: right;\n",
       "    }\n",
       "</style>\n",
       "<table border=\"1\" class=\"dataframe\">\n",
       "  <thead>\n",
       "    <tr style=\"text-align: right;\">\n",
       "      <th></th>\n",
       "      <th>date</th>\n",
       "      <th>temperature</th>\n",
       "      <th>humidity</th>\n",
       "      <th>wind speed</th>\n",
       "      <th>Precipitation amount</th>\n",
       "      <th>query</th>\n",
       "      <th>Moon Phase calculator</th>\n",
       "    </tr>\n",
       "  </thead>\n",
       "  <tbody>\n",
       "    <tr>\n",
       "      <th>8</th>\n",
       "      <td>2021-02-10 18:00:00</td>\n",
       "      <td>-2 °C\\n(6:00 pm CET | Wednesday, February 10, ...</td>\n",
       "      <td>ERROR</td>\n",
       "      <td>3 m/s\\n(6:00 pm CET | Wednesday, February 10, ...</td>\n",
       "      <td>(unknown)\\n(6:00 pm CET | Wednesday, February ...</td>\n",
       "      <td>Moon Phase calculatorFebruary 10, 2021 18h</td>\n",
       "      <td>| waning crescent moon\\n1.48% illuminated</td>\n",
       "    </tr>\n",
       "    <tr>\n",
       "      <th>9</th>\n",
       "      <td>2021-02-10 19:00:00</td>\n",
       "      <td>-2 °C\\n(7:00 pm CET | Wednesday, February 10, ...</td>\n",
       "      <td>ERROR</td>\n",
       "      <td>4 m/s\\n(7:00 pm CET | Wednesday, February 10, ...</td>\n",
       "      <td>(unknown)\\n(7:00 pm CET | Wednesday, February ...</td>\n",
       "      <td>Moon Phase calculatorFebruary 10, 2021 19h</td>\n",
       "      <td>| waning crescent moon\\n1.38% illuminated</td>\n",
       "    </tr>\n",
       "  </tbody>\n",
       "</table>\n",
       "</div>"
      ],
      "text/plain": [
       "                 date                                        temperature  \\\n",
       "8 2021-02-10 18:00:00  -2 °C\\n(6:00 pm CET | Wednesday, February 10, ...   \n",
       "9 2021-02-10 19:00:00  -2 °C\\n(7:00 pm CET | Wednesday, February 10, ...   \n",
       "\n",
       "  humidity                                         wind speed  \\\n",
       "8    ERROR  3 m/s\\n(6:00 pm CET | Wednesday, February 10, ...   \n",
       "9    ERROR  4 m/s\\n(7:00 pm CET | Wednesday, February 10, ...   \n",
       "\n",
       "                                Precipitation amount  \\\n",
       "8  (unknown)\\n(6:00 pm CET | Wednesday, February ...   \n",
       "9  (unknown)\\n(7:00 pm CET | Wednesday, February ...   \n",
       "\n",
       "                                        query  \\\n",
       "8  Moon Phase calculatorFebruary 10, 2021 18h   \n",
       "9  Moon Phase calculatorFebruary 10, 2021 19h   \n",
       "\n",
       "                       Moon Phase calculator  \n",
       "8  | waning crescent moon\\n1.48% illuminated  \n",
       "9  | waning crescent moon\\n1.38% illuminated  "
      ]
     },
     "metadata": {},
     "output_type": "display_data"
    },
    {
     "name": "stderr",
     "output_type": "stream",
     "text": [
      "\r",
      "  2%|█▍                                                                            | 31/1709 [10:54<9:37:17, 20.64s/it]"
     ]
    },
    {
     "name": "stdout",
     "output_type": "stream",
     "text": [
      "QUERY:  Precipitation amount in Zollikofen February 10, 2021 20h\n",
      "QUERY:  temperature in Zollikofen February 10, 2021 20h\n",
      "QUERY:  humidity in Zollikofen February 10, 2021 20h\n",
      "ERROR: no data available-------------  humidity in Zollikofen February 10, 2021 20h\n",
      "ERROR:------------- name 'error' is not defined  ----------  humidity in Zollikofen February 10, 2021 20h\n",
      "QUERY:  wind speed in Zollikofen February 10, 2021 20h\n",
      "QUERY:  Moon Phase calculatorFebruary 10, 2021 20h\n"
     ]
    },
    {
     "name": "stderr",
     "output_type": "stream",
     "text": [
      "\r",
      "  2%|█▍                                                                            | 32/1709 [11:14<9:35:58, 20.61s/it]"
     ]
    },
    {
     "name": "stdout",
     "output_type": "stream",
     "text": [
      "QUERY:  Precipitation amount in Zollikofen February 10, 2021 21h\n",
      "QUERY:  temperature in Zollikofen February 10, 2021 21h\n",
      "QUERY:  humidity in Zollikofen February 10, 2021 21h\n",
      "ERROR: no data available-------------  humidity in Zollikofen February 10, 2021 21h\n",
      "ERROR:------------- name 'error' is not defined  ----------  humidity in Zollikofen February 10, 2021 21h\n",
      "QUERY:  wind speed in Zollikofen February 10, 2021 21h\n",
      "QUERY:  Moon Phase calculatorFebruary 10, 2021 21h\n"
     ]
    },
    {
     "name": "stderr",
     "output_type": "stream",
     "text": [
      "\r",
      "  2%|█▌                                                                            | 33/1709 [11:34<9:31:28, 20.46s/it]"
     ]
    },
    {
     "name": "stdout",
     "output_type": "stream",
     "text": [
      "QUERY:  Precipitation amount in Zollikofen February 10, 2021 22h\n",
      "QUERY:  temperature in Zollikofen February 10, 2021 22h\n",
      "QUERY:  humidity in Zollikofen February 10, 2021 22h\n",
      "ERROR: no data available-------------  humidity in Zollikofen February 10, 2021 22h\n",
      "ERROR:------------- name 'error' is not defined  ----------  humidity in Zollikofen February 10, 2021 22h\n",
      "QUERY:  wind speed in Zollikofen February 10, 2021 22h\n",
      "QUERY:  Moon Phase calculatorFebruary 10, 2021 22h\n"
     ]
    },
    {
     "name": "stderr",
     "output_type": "stream",
     "text": [
      "\r",
      "  2%|█▌                                                                            | 34/1709 [11:56<9:41:36, 20.83s/it]"
     ]
    },
    {
     "name": "stdout",
     "output_type": "stream",
     "text": [
      "QUERY:  Precipitation amount in Zollikofen February 10, 2021 23h\n",
      "QUERY:  temperature in Zollikofen February 10, 2021 23h\n",
      "QUERY:  humidity in Zollikofen February 10, 2021 23h\n",
      "ERROR: no data available-------------  humidity in Zollikofen February 10, 2021 23h\n",
      "ERROR:------------- name 'error' is not defined  ----------  humidity in Zollikofen February 10, 2021 23h\n",
      "QUERY:  wind speed in Zollikofen February 10, 2021 23h\n",
      "QUERY:  Moon Phase calculatorFebruary 10, 2021 23h\n"
     ]
    },
    {
     "name": "stderr",
     "output_type": "stream",
     "text": [
      "\r",
      "  2%|█▌                                                                            | 35/1709 [12:16<9:32:19, 20.51s/it]"
     ]
    },
    {
     "name": "stdout",
     "output_type": "stream",
     "text": [
      "QUERY:  Precipitation amount in Zollikofen March 28, 2021 1h\n",
      "QUERY:  temperature in Zollikofen March 28, 2021 1h\n",
      "QUERY:  humidity in Zollikofen March 28, 2021 1h\n",
      "ERROR: no data available-------------  humidity in Zollikofen March 28, 2021 1h\n",
      "ERROR:------------- name 'error' is not defined  ----------  humidity in Zollikofen March 28, 2021 1h\n",
      "QUERY:  wind speed in Zollikofen March 28, 2021 1h\n",
      "QUERY:  Moon Phase calculatorMarch 28, 2021 1h\n"
     ]
    },
    {
     "name": "stderr",
     "output_type": "stream",
     "text": [
      "\r",
      "  2%|█▋                                                                            | 36/1709 [12:36<9:27:24, 20.35s/it]"
     ]
    },
    {
     "name": "stdout",
     "output_type": "stream",
     "text": [
      "QUERY:  Precipitation amount in Zollikofen May 15, 2021 0h\n",
      "QUERY:  temperature in Zollikofen May 15, 2021 0h\n",
      "QUERY:  humidity in Zollikofen May 15, 2021 0h\n",
      "ERROR: no data available-------------  humidity in Zollikofen May 15, 2021 0h\n",
      "ERROR:------------- name 'error' is not defined  ----------  humidity in Zollikofen May 15, 2021 0h\n",
      "QUERY:  wind speed in Zollikofen May 15, 2021 0h\n",
      "QUERY:  Moon Phase calculatorMay 15, 2021 0h\n"
     ]
    },
    {
     "name": "stderr",
     "output_type": "stream",
     "text": [
      "\r",
      "  2%|█▋                                                                            | 37/1709 [12:58<9:41:52, 20.88s/it]"
     ]
    },
    {
     "name": "stdout",
     "output_type": "stream",
     "text": [
      "QUERY:  Precipitation amount in Zollikofen May 15, 2021 1h\n",
      "QUERY:  temperature in Zollikofen May 15, 2021 1h\n",
      "QUERY:  humidity in Zollikofen May 15, 2021 1h\n",
      "ERROR: no data available-------------  humidity in Zollikofen May 15, 2021 1h\n",
      "ERROR:------------- name 'error' is not defined  ----------  humidity in Zollikofen May 15, 2021 1h\n",
      "QUERY:  wind speed in Zollikofen May 15, 2021 1h\n",
      "QUERY:  Moon Phase calculatorMay 15, 2021 1h\n"
     ]
    },
    {
     "name": "stderr",
     "output_type": "stream",
     "text": [
      "\r",
      "  2%|█▋                                                                            | 38/1709 [13:19<9:41:37, 20.88s/it]"
     ]
    },
    {
     "name": "stdout",
     "output_type": "stream",
     "text": [
      "QUERY:  Precipitation amount in Zollikofen May 15, 2021 2h\n",
      "QUERY:  temperature in Zollikofen May 15, 2021 2h\n",
      "QUERY:  humidity in Zollikofen May 15, 2021 2h\n",
      "ERROR: no data available-------------  humidity in Zollikofen May 15, 2021 2h\n",
      "ERROR:------------- name 'error' is not defined  ----------  humidity in Zollikofen May 15, 2021 2h\n",
      "QUERY:  wind speed in Zollikofen May 15, 2021 2h\n",
      "QUERY:  Moon Phase calculatorMay 15, 2021 2h\n"
     ]
    },
    {
     "name": "stderr",
     "output_type": "stream",
     "text": [
      "\r",
      "  2%|█▊                                                                            | 39/1709 [13:40<9:41:18, 20.89s/it]"
     ]
    },
    {
     "name": "stdout",
     "output_type": "stream",
     "text": [
      "QUERY:  Precipitation amount in Zollikofen May 15, 2021 3h\n",
      "QUERY:  temperature in Zollikofen May 15, 2021 3h\n",
      "QUERY:  humidity in Zollikofen May 15, 2021 3h\n",
      "ERROR: no data available-------------  humidity in Zollikofen May 15, 2021 3h\n",
      "ERROR:------------- name 'error' is not defined  ----------  humidity in Zollikofen May 15, 2021 3h\n",
      "QUERY:  wind speed in Zollikofen May 15, 2021 3h\n",
      "QUERY:  Moon Phase calculatorMay 15, 2021 3h\n"
     ]
    },
    {
     "name": "stderr",
     "output_type": "stream",
     "text": [
      "\r",
      "  2%|█▊                                                                            | 40/1709 [14:00<9:37:02, 20.74s/it]"
     ]
    },
    {
     "name": "stdout",
     "output_type": "stream",
     "text": [
      "QUERY:  Precipitation amount in Zollikofen May 15, 2021 4h\n",
      "QUERY:  temperature in Zollikofen May 15, 2021 4h\n",
      "QUERY:  humidity in Zollikofen May 15, 2021 4h\n",
      "ERROR: no data available-------------  humidity in Zollikofen May 15, 2021 4h\n",
      "ERROR:------------- name 'error' is not defined  ----------  humidity in Zollikofen May 15, 2021 4h\n",
      "QUERY:  wind speed in Zollikofen May 15, 2021 4h\n",
      "QUERY:  Moon Phase calculatorMay 15, 2021 4h\n",
      "(5701, 7)\n"
     ]
    },
    {
     "data": {
      "text/html": [
       "<div>\n",
       "<style scoped>\n",
       "    .dataframe tbody tr th:only-of-type {\n",
       "        vertical-align: middle;\n",
       "    }\n",
       "\n",
       "    .dataframe tbody tr th {\n",
       "        vertical-align: top;\n",
       "    }\n",
       "\n",
       "    .dataframe thead th {\n",
       "        text-align: right;\n",
       "    }\n",
       "</style>\n",
       "<table border=\"1\" class=\"dataframe\">\n",
       "  <thead>\n",
       "    <tr style=\"text-align: right;\">\n",
       "      <th></th>\n",
       "      <th>date</th>\n",
       "      <th>temperature</th>\n",
       "      <th>humidity</th>\n",
       "      <th>wind speed</th>\n",
       "      <th>Precipitation amount</th>\n",
       "      <th>query</th>\n",
       "      <th>Moon Phase calculator</th>\n",
       "    </tr>\n",
       "  </thead>\n",
       "  <tbody>\n",
       "    <tr>\n",
       "      <th>8</th>\n",
       "      <td>2021-05-15 03:00:00</td>\n",
       "      <td>8 °C\\n(3:00 am CEST | Saturday, May 15, 2021)</td>\n",
       "      <td>ERROR</td>\n",
       "      <td>2 m/s\\n(3:00 am CEST | Saturday, May 15, 2021)</td>\n",
       "      <td>(unknown)\\n(3:00 am CEST | Saturday, May 15, 2...</td>\n",
       "      <td>Moon Phase calculatorMay 15, 2021 3h</td>\n",
       "      <td>| waxing crescent moon\\n9.26% illuminated</td>\n",
       "    </tr>\n",
       "    <tr>\n",
       "      <th>9</th>\n",
       "      <td>2021-05-15 04:00:00</td>\n",
       "      <td>8 °C\\n(4:00 am CEST | Saturday, May 15, 2021)</td>\n",
       "      <td>ERROR</td>\n",
       "      <td>2 m/s\\n(4:00 am CEST | Saturday, May 15, 2021)</td>\n",
       "      <td>(unknown)\\n(4:00 am CEST | Saturday, May 15, 2...</td>\n",
       "      <td>Moon Phase calculatorMay 15, 2021 4h</td>\n",
       "      <td>| waxing crescent moon\\n9.50% illuminated</td>\n",
       "    </tr>\n",
       "  </tbody>\n",
       "</table>\n",
       "</div>"
      ],
      "text/plain": [
       "                 date                                    temperature humidity  \\\n",
       "8 2021-05-15 03:00:00  8 °C\\n(3:00 am CEST | Saturday, May 15, 2021)    ERROR   \n",
       "9 2021-05-15 04:00:00  8 °C\\n(4:00 am CEST | Saturday, May 15, 2021)    ERROR   \n",
       "\n",
       "                                       wind speed  \\\n",
       "8  2 m/s\\n(3:00 am CEST | Saturday, May 15, 2021)   \n",
       "9  2 m/s\\n(4:00 am CEST | Saturday, May 15, 2021)   \n",
       "\n",
       "                                Precipitation amount  \\\n",
       "8  (unknown)\\n(3:00 am CEST | Saturday, May 15, 2...   \n",
       "9  (unknown)\\n(4:00 am CEST | Saturday, May 15, 2...   \n",
       "\n",
       "                                  query  \\\n",
       "8  Moon Phase calculatorMay 15, 2021 3h   \n",
       "9  Moon Phase calculatorMay 15, 2021 4h   \n",
       "\n",
       "                       Moon Phase calculator  \n",
       "8  | waxing crescent moon\\n9.26% illuminated  \n",
       "9  | waxing crescent moon\\n9.50% illuminated  "
      ]
     },
     "metadata": {},
     "output_type": "display_data"
    },
    {
     "name": "stderr",
     "output_type": "stream",
     "text": [
      "\r",
      "  2%|█▊                                                                            | 41/1709 [14:21<9:37:53, 20.79s/it]"
     ]
    },
    {
     "name": "stdout",
     "output_type": "stream",
     "text": [
      "QUERY:  Precipitation amount in Zollikofen May 15, 2021 5h\n",
      "QUERY:  temperature in Zollikofen May 15, 2021 5h\n",
      "QUERY:  humidity in Zollikofen May 15, 2021 5h\n",
      "ERROR: no data available-------------  humidity in Zollikofen May 15, 2021 5h\n",
      "ERROR:------------- name 'error' is not defined  ----------  humidity in Zollikofen May 15, 2021 5h\n",
      "QUERY:  wind speed in Zollikofen May 15, 2021 5h\n",
      "QUERY:  Moon Phase calculatorMay 15, 2021 5h\n"
     ]
    },
    {
     "name": "stderr",
     "output_type": "stream",
     "text": [
      "\r",
      "  2%|█▉                                                                            | 42/1709 [14:42<9:38:46, 20.83s/it]"
     ]
    },
    {
     "name": "stdout",
     "output_type": "stream",
     "text": [
      "QUERY:  Precipitation amount in Zollikofen May 15, 2021 6h\n",
      "QUERY:  temperature in Zollikofen May 15, 2021 6h\n",
      "QUERY:  humidity in Zollikofen May 15, 2021 6h\n",
      "ERROR: no data available-------------  humidity in Zollikofen May 15, 2021 6h\n",
      "ERROR:------------- name 'error' is not defined  ----------  humidity in Zollikofen May 15, 2021 6h\n",
      "QUERY:  wind speed in Zollikofen May 15, 2021 6h\n",
      "QUERY:  Moon Phase calculatorMay 15, 2021 6h\n"
     ]
    },
    {
     "name": "stderr",
     "output_type": "stream",
     "text": [
      "\r",
      "  3%|█▉                                                                            | 43/1709 [15:03<9:39:57, 20.89s/it]"
     ]
    },
    {
     "name": "stdout",
     "output_type": "stream",
     "text": [
      "QUERY:  Precipitation amount in Zollikofen May 15, 2021 7h\n",
      "QUERY:  temperature in Zollikofen May 15, 2021 7h\n",
      "ERROR:------------- results  ----------  temperature in Zollikofen May 15, 2021 7h\n",
      "QUERY:  humidity in Zollikofen May 15, 2021 7h\n",
      "ERROR: no data available-------------  humidity in Zollikofen May 15, 2021 7h\n",
      "ERROR:------------- name 'error' is not defined  ----------  humidity in Zollikofen May 15, 2021 7h\n",
      "QUERY:  wind speed in Zollikofen May 15, 2021 7h\n",
      "QUERY:  Moon Phase calculatorMay 15, 2021 7h\n"
     ]
    },
    {
     "name": "stderr",
     "output_type": "stream",
     "text": [
      "\r",
      "  3%|██                                                                            | 44/1709 [15:24<9:39:37, 20.89s/it]"
     ]
    },
    {
     "name": "stdout",
     "output_type": "stream",
     "text": [
      "QUERY:  Precipitation amount in Zollikofen May 15, 2021 8h\n",
      "QUERY:  temperature in Zollikofen May 15, 2021 8h\n",
      "QUERY:  humidity in Zollikofen May 15, 2021 8h\n",
      "ERROR: no data available-------------  humidity in Zollikofen May 15, 2021 8h\n",
      "ERROR:------------- name 'error' is not defined  ----------  humidity in Zollikofen May 15, 2021 8h\n",
      "QUERY:  wind speed in Zollikofen May 15, 2021 8h\n",
      "QUERY:  Moon Phase calculatorMay 15, 2021 8h\n"
     ]
    },
    {
     "name": "stderr",
     "output_type": "stream",
     "text": [
      "\r",
      "  3%|██                                                                            | 45/1709 [15:42<9:13:43, 19.97s/it]"
     ]
    },
    {
     "name": "stdout",
     "output_type": "stream",
     "text": [
      "QUERY:  Precipitation amount in Zollikofen May 15, 2021 9h\n",
      "QUERY:  temperature in Zollikofen May 15, 2021 9h\n",
      "QUERY:  humidity in Zollikofen May 15, 2021 9h\n",
      "ERROR: no data available-------------  humidity in Zollikofen May 15, 2021 9h\n",
      "ERROR:------------- name 'error' is not defined  ----------  humidity in Zollikofen May 15, 2021 9h\n",
      "QUERY:  wind speed in Zollikofen May 15, 2021 9h\n",
      "QUERY:  Moon Phase calculatorMay 15, 2021 9h\n"
     ]
    },
    {
     "name": "stderr",
     "output_type": "stream",
     "text": [
      "\r",
      "  3%|██                                                                            | 46/1709 [15:59<8:50:26, 19.14s/it]"
     ]
    },
    {
     "name": "stdout",
     "output_type": "stream",
     "text": [
      "QUERY:  Precipitation amount in Zollikofen May 15, 2021 10h\n",
      "QUERY:  temperature in Zollikofen May 15, 2021 10h\n",
      "QUERY:  humidity in Zollikofen May 15, 2021 10h\n",
      "ERROR: no data available-------------  humidity in Zollikofen May 15, 2021 10h\n",
      "ERROR:------------- name 'error' is not defined  ----------  humidity in Zollikofen May 15, 2021 10h\n",
      "QUERY:  wind speed in Zollikofen May 15, 2021 10h\n",
      "QUERY:  Moon Phase calculatorMay 15, 2021 10h\n"
     ]
    },
    {
     "name": "stderr",
     "output_type": "stream",
     "text": [
      "\r",
      "  3%|██▏                                                                           | 47/1709 [16:16<8:37:26, 18.68s/it]"
     ]
    },
    {
     "name": "stdout",
     "output_type": "stream",
     "text": [
      "QUERY:  Precipitation amount in Zollikofen May 15, 2021 11h\n",
      "QUERY:  temperature in Zollikofen May 15, 2021 11h\n",
      "QUERY:  humidity in Zollikofen May 15, 2021 11h\n",
      "ERROR: no data available-------------  humidity in Zollikofen May 15, 2021 11h\n",
      "ERROR:------------- name 'error' is not defined  ----------  humidity in Zollikofen May 15, 2021 11h\n",
      "QUERY:  wind speed in Zollikofen May 15, 2021 11h\n",
      "QUERY:  Moon Phase calculatorMay 15, 2021 11h\n"
     ]
    },
    {
     "name": "stderr",
     "output_type": "stream",
     "text": [
      "\r",
      "  3%|██▏                                                                           | 48/1709 [16:33<8:19:47, 18.05s/it]"
     ]
    },
    {
     "name": "stdout",
     "output_type": "stream",
     "text": [
      "QUERY:  Precipitation amount in Zollikofen May 15, 2021 12h\n",
      "QUERY:  temperature in Zollikofen May 15, 2021 12h\n",
      "QUERY:  humidity in Zollikofen May 15, 2021 12h\n",
      "ERROR: no data available-------------  humidity in Zollikofen May 15, 2021 12h\n",
      "ERROR:------------- name 'error' is not defined  ----------  humidity in Zollikofen May 15, 2021 12h\n",
      "QUERY:  wind speed in Zollikofen May 15, 2021 12h\n",
      "QUERY:  Moon Phase calculatorMay 15, 2021 12h\n"
     ]
    },
    {
     "name": "stderr",
     "output_type": "stream",
     "text": [
      "\r",
      "  3%|██▏                                                                           | 49/1709 [16:51<8:19:11, 18.04s/it]"
     ]
    },
    {
     "name": "stdout",
     "output_type": "stream",
     "text": [
      "QUERY:  Precipitation amount in Zollikofen May 15, 2021 13h\n",
      "QUERY:  temperature in Zollikofen May 15, 2021 13h\n",
      "QUERY:  humidity in Zollikofen May 15, 2021 13h\n",
      "ERROR: no data available-------------  humidity in Zollikofen May 15, 2021 13h\n",
      "ERROR:------------- name 'error' is not defined  ----------  humidity in Zollikofen May 15, 2021 13h\n",
      "QUERY:  wind speed in Zollikofen May 15, 2021 13h\n",
      "QUERY:  Moon Phase calculatorMay 15, 2021 13h\n"
     ]
    },
    {
     "name": "stderr",
     "output_type": "stream",
     "text": [
      "\r",
      "  3%|██▎                                                                           | 50/1709 [17:08<8:10:14, 17.73s/it]"
     ]
    },
    {
     "name": "stdout",
     "output_type": "stream",
     "text": [
      "QUERY:  Precipitation amount in Zollikofen May 15, 2021 14h\n",
      "QUERY:  temperature in Zollikofen May 15, 2021 14h\n",
      "QUERY:  humidity in Zollikofen May 15, 2021 14h\n",
      "ERROR: no data available-------------  humidity in Zollikofen May 15, 2021 14h\n",
      "ERROR:------------- name 'error' is not defined  ----------  humidity in Zollikofen May 15, 2021 14h\n",
      "QUERY:  wind speed in Zollikofen May 15, 2021 14h\n",
      "QUERY:  Moon Phase calculatorMay 15, 2021 14h\n",
      "(5711, 7)\n"
     ]
    },
    {
     "data": {
      "text/html": [
       "<div>\n",
       "<style scoped>\n",
       "    .dataframe tbody tr th:only-of-type {\n",
       "        vertical-align: middle;\n",
       "    }\n",
       "\n",
       "    .dataframe tbody tr th {\n",
       "        vertical-align: top;\n",
       "    }\n",
       "\n",
       "    .dataframe thead th {\n",
       "        text-align: right;\n",
       "    }\n",
       "</style>\n",
       "<table border=\"1\" class=\"dataframe\">\n",
       "  <thead>\n",
       "    <tr style=\"text-align: right;\">\n",
       "      <th></th>\n",
       "      <th>date</th>\n",
       "      <th>temperature</th>\n",
       "      <th>humidity</th>\n",
       "      <th>wind speed</th>\n",
       "      <th>Precipitation amount</th>\n",
       "      <th>query</th>\n",
       "      <th>Moon Phase calculator</th>\n",
       "    </tr>\n",
       "  </thead>\n",
       "  <tbody>\n",
       "    <tr>\n",
       "      <th>8</th>\n",
       "      <td>2021-05-15 13:00:00</td>\n",
       "      <td>8 °C\\n(1:00 pm CEST | Saturday, May 15, 2021)</td>\n",
       "      <td>ERROR</td>\n",
       "      <td>2 m/s\\n(1:00 pm CEST | Saturday, May 15, 2021)</td>\n",
       "      <td>(unknown)\\n(1:00 pm CEST | Saturday, May 15, 2...</td>\n",
       "      <td>Moon Phase calculatorMay 15, 2021 13h</td>\n",
       "      <td>| waxing crescent moon\\n11.72% illuminated</td>\n",
       "    </tr>\n",
       "    <tr>\n",
       "      <th>9</th>\n",
       "      <td>2021-05-15 14:00:00</td>\n",
       "      <td>8 °C\\n(2:00 pm CEST | Saturday, May 15, 2021)</td>\n",
       "      <td>ERROR</td>\n",
       "      <td>2 m/s\\n(2:00 pm CEST | Saturday, May 15, 2021)</td>\n",
       "      <td>(unknown)\\n(2:00 pm CEST | Saturday, May 15, 2...</td>\n",
       "      <td>Moon Phase calculatorMay 15, 2021 14h</td>\n",
       "      <td>| waxing crescent moon\\n11.98% illuminated</td>\n",
       "    </tr>\n",
       "  </tbody>\n",
       "</table>\n",
       "</div>"
      ],
      "text/plain": [
       "                 date                                    temperature humidity  \\\n",
       "8 2021-05-15 13:00:00  8 °C\\n(1:00 pm CEST | Saturday, May 15, 2021)    ERROR   \n",
       "9 2021-05-15 14:00:00  8 °C\\n(2:00 pm CEST | Saturday, May 15, 2021)    ERROR   \n",
       "\n",
       "                                       wind speed  \\\n",
       "8  2 m/s\\n(1:00 pm CEST | Saturday, May 15, 2021)   \n",
       "9  2 m/s\\n(2:00 pm CEST | Saturday, May 15, 2021)   \n",
       "\n",
       "                                Precipitation amount  \\\n",
       "8  (unknown)\\n(1:00 pm CEST | Saturday, May 15, 2...   \n",
       "9  (unknown)\\n(2:00 pm CEST | Saturday, May 15, 2...   \n",
       "\n",
       "                                   query  \\\n",
       "8  Moon Phase calculatorMay 15, 2021 13h   \n",
       "9  Moon Phase calculatorMay 15, 2021 14h   \n",
       "\n",
       "                        Moon Phase calculator  \n",
       "8  | waxing crescent moon\\n11.72% illuminated  \n",
       "9  | waxing crescent moon\\n11.98% illuminated  "
      ]
     },
     "metadata": {},
     "output_type": "display_data"
    },
    {
     "name": "stderr",
     "output_type": "stream",
     "text": [
      "\r",
      "  3%|██▎                                                                           | 51/1709 [17:25<8:00:54, 17.40s/it]"
     ]
    },
    {
     "name": "stdout",
     "output_type": "stream",
     "text": [
      "QUERY:  Precipitation amount in Zollikofen May 15, 2021 15h\n",
      "QUERY:  temperature in Zollikofen May 15, 2021 15h\n",
      "QUERY:  humidity in Zollikofen May 15, 2021 15h\n",
      "ERROR: no data available-------------  humidity in Zollikofen May 15, 2021 15h\n",
      "ERROR:------------- name 'error' is not defined  ----------  humidity in Zollikofen May 15, 2021 15h\n",
      "QUERY:  wind speed in Zollikofen May 15, 2021 15h\n",
      "QUERY:  Moon Phase calculatorMay 15, 2021 15h\n"
     ]
    },
    {
     "name": "stderr",
     "output_type": "stream",
     "text": [
      "\r",
      "  3%|██▎                                                                           | 52/1709 [17:42<8:01:04, 17.42s/it]"
     ]
    },
    {
     "name": "stdout",
     "output_type": "stream",
     "text": [
      "QUERY:  Precipitation amount in Zollikofen May 15, 2021 16h\n",
      "QUERY:  temperature in Zollikofen May 15, 2021 16h\n",
      "QUERY:  humidity in Zollikofen May 15, 2021 16h\n",
      "ERROR: no data available-------------  humidity in Zollikofen May 15, 2021 16h\n",
      "ERROR:------------- name 'error' is not defined  ----------  humidity in Zollikofen May 15, 2021 16h\n",
      "QUERY:  wind speed in Zollikofen May 15, 2021 16h\n",
      "QUERY:  Moon Phase calculatorMay 15, 2021 16h\n"
     ]
    },
    {
     "name": "stderr",
     "output_type": "stream",
     "text": [
      "\r",
      "  3%|██▍                                                                           | 53/1709 [18:00<8:03:14, 17.51s/it]"
     ]
    },
    {
     "name": "stdout",
     "output_type": "stream",
     "text": [
      "QUERY:  Precipitation amount in Zollikofen May 15, 2021 17h\n",
      "QUERY:  temperature in Zollikofen May 15, 2021 17h\n",
      "QUERY:  humidity in Zollikofen May 15, 2021 17h\n",
      "ERROR: no data available-------------  humidity in Zollikofen May 15, 2021 17h\n",
      "ERROR:------------- name 'error' is not defined  ----------  humidity in Zollikofen May 15, 2021 17h\n",
      "QUERY:  wind speed in Zollikofen May 15, 2021 17h\n",
      "QUERY:  Moon Phase calculatorMay 15, 2021 17h\n"
     ]
    },
    {
     "name": "stderr",
     "output_type": "stream",
     "text": [
      "\r",
      "  3%|██▍                                                                           | 54/1709 [18:17<8:03:47, 17.54s/it]"
     ]
    },
    {
     "name": "stdout",
     "output_type": "stream",
     "text": [
      "QUERY:  Precipitation amount in Zollikofen May 15, 2021 18h\n",
      "QUERY:  temperature in Zollikofen May 15, 2021 18h\n",
      "QUERY:  humidity in Zollikofen May 15, 2021 18h\n",
      "ERROR: no data available-------------  humidity in Zollikofen May 15, 2021 18h\n",
      "ERROR:------------- name 'error' is not defined  ----------  humidity in Zollikofen May 15, 2021 18h\n",
      "QUERY:  wind speed in Zollikofen May 15, 2021 18h\n",
      "QUERY:  Moon Phase calculatorMay 15, 2021 18h\n"
     ]
    },
    {
     "name": "stderr",
     "output_type": "stream",
     "text": [
      "\r",
      "  3%|██▌                                                                           | 55/1709 [18:35<8:02:26, 17.50s/it]"
     ]
    },
    {
     "name": "stdout",
     "output_type": "stream",
     "text": [
      "QUERY:  Precipitation amount in Zollikofen May 15, 2021 19h\n",
      "QUERY:  temperature in Zollikofen May 15, 2021 19h\n",
      "QUERY:  humidity in Zollikofen May 15, 2021 19h\n",
      "ERROR: no data available-------------  humidity in Zollikofen May 15, 2021 19h\n",
      "ERROR:------------- name 'error' is not defined  ----------  humidity in Zollikofen May 15, 2021 19h\n",
      "QUERY:  wind speed in Zollikofen May 15, 2021 19h\n",
      "QUERY:  Moon Phase calculatorMay 15, 2021 19h\n"
     ]
    },
    {
     "name": "stderr",
     "output_type": "stream",
     "text": [
      "\r",
      "  3%|██▌                                                                           | 56/1709 [18:52<8:01:22, 17.47s/it]"
     ]
    },
    {
     "name": "stdout",
     "output_type": "stream",
     "text": [
      "QUERY:  Precipitation amount in Zollikofen May 15, 2021 20h\n",
      "QUERY:  temperature in Zollikofen May 15, 2021 20h\n",
      "QUERY:  humidity in Zollikofen May 15, 2021 20h\n",
      "ERROR: no data available-------------  humidity in Zollikofen May 15, 2021 20h\n",
      "ERROR:------------- name 'error' is not defined  ----------  humidity in Zollikofen May 15, 2021 20h\n",
      "QUERY:  wind speed in Zollikofen May 15, 2021 20h\n",
      "QUERY:  Moon Phase calculatorMay 15, 2021 20h\n"
     ]
    },
    {
     "name": "stderr",
     "output_type": "stream",
     "text": [
      "\r",
      "  3%|██▌                                                                           | 57/1709 [19:10<8:03:05, 17.55s/it]"
     ]
    },
    {
     "name": "stdout",
     "output_type": "stream",
     "text": [
      "QUERY:  Precipitation amount in Zollikofen May 15, 2021 21h\n",
      "QUERY:  temperature in Zollikofen May 15, 2021 21h\n",
      "QUERY:  humidity in Zollikofen May 15, 2021 21h\n",
      "ERROR: no data available-------------  humidity in Zollikofen May 15, 2021 21h\n",
      "ERROR:------------- name 'error' is not defined  ----------  humidity in Zollikofen May 15, 2021 21h\n",
      "QUERY:  wind speed in Zollikofen May 15, 2021 21h\n",
      "QUERY:  Moon Phase calculatorMay 15, 2021 21h\n"
     ]
    },
    {
     "name": "stderr",
     "output_type": "stream",
     "text": [
      "\r",
      "  3%|██▋                                                                           | 58/1709 [19:28<8:04:10, 17.60s/it]"
     ]
    },
    {
     "name": "stdout",
     "output_type": "stream",
     "text": [
      "QUERY:  Precipitation amount in Zollikofen May 15, 2021 22h\n",
      "QUERY:  temperature in Zollikofen May 15, 2021 22h\n",
      "ERROR: no data available-------------  temperature in Zollikofen May 15, 2021 22h\n",
      "ERROR:------------- name 'error' is not defined  ----------  temperature in Zollikofen May 15, 2021 22h\n",
      "QUERY:  humidity in Zollikofen May 15, 2021 22h\n",
      "ERROR: no data available-------------  humidity in Zollikofen May 15, 2021 22h\n",
      "ERROR:------------- name 'error' is not defined  ----------  humidity in Zollikofen May 15, 2021 22h\n",
      "QUERY:  wind speed in Zollikofen May 15, 2021 22h\n",
      "ERROR: no data available-------------  wind speed in Zollikofen May 15, 2021 22h\n",
      "ERROR:------------- name 'error' is not defined  ----------  wind speed in Zollikofen May 15, 2021 22h\n",
      "QUERY:  Moon Phase calculatorMay 15, 2021 22h\n"
     ]
    },
    {
     "name": "stderr",
     "output_type": "stream",
     "text": [
      "\r",
      "  3%|██▋                                                                           | 59/1709 [19:45<8:00:40, 17.48s/it]"
     ]
    },
    {
     "name": "stdout",
     "output_type": "stream",
     "text": [
      "QUERY:  Precipitation amount in Zollikofen May 15, 2021 23h\n",
      "QUERY:  temperature in Zollikofen May 15, 2021 23h\n",
      "ERROR: no data available-------------  temperature in Zollikofen May 15, 2021 23h\n",
      "ERROR:------------- name 'error' is not defined  ----------  temperature in Zollikofen May 15, 2021 23h\n",
      "QUERY:  humidity in Zollikofen May 15, 2021 23h\n",
      "ERROR: no data available-------------  humidity in Zollikofen May 15, 2021 23h\n",
      "ERROR:------------- name 'error' is not defined  ----------  humidity in Zollikofen May 15, 2021 23h\n",
      "QUERY:  wind speed in Zollikofen May 15, 2021 23h\n",
      "ERROR: no data available-------------  wind speed in Zollikofen May 15, 2021 23h\n",
      "ERROR:------------- name 'error' is not defined  ----------  wind speed in Zollikofen May 15, 2021 23h\n",
      "QUERY:  Moon Phase calculatorMay 15, 2021 23h\n"
     ]
    },
    {
     "name": "stderr",
     "output_type": "stream",
     "text": [
      "\r",
      "  4%|██▋                                                                           | 60/1709 [20:04<8:14:09, 17.98s/it]"
     ]
    },
    {
     "name": "stdout",
     "output_type": "stream",
     "text": [
      "QUERY:  Precipitation amount in Zollikofen May 23, 2021 8h\n",
      "QUERY:  temperature in Zollikofen May 23, 2021 8h\n",
      "QUERY:  humidity in Zollikofen May 23, 2021 8h\n",
      "QUERY:  wind speed in Zollikofen May 23, 2021 8h\n",
      "QUERY:  Moon Phase calculatorMay 23, 2021 8h\n",
      "(5721, 7)\n"
     ]
    },
    {
     "data": {
      "text/html": [
       "<div>\n",
       "<style scoped>\n",
       "    .dataframe tbody tr th:only-of-type {\n",
       "        vertical-align: middle;\n",
       "    }\n",
       "\n",
       "    .dataframe tbody tr th {\n",
       "        vertical-align: top;\n",
       "    }\n",
       "\n",
       "    .dataframe thead th {\n",
       "        text-align: right;\n",
       "    }\n",
       "</style>\n",
       "<table border=\"1\" class=\"dataframe\">\n",
       "  <thead>\n",
       "    <tr style=\"text-align: right;\">\n",
       "      <th></th>\n",
       "      <th>date</th>\n",
       "      <th>temperature</th>\n",
       "      <th>humidity</th>\n",
       "      <th>wind speed</th>\n",
       "      <th>Precipitation amount</th>\n",
       "      <th>query</th>\n",
       "      <th>Moon Phase calculator</th>\n",
       "    </tr>\n",
       "  </thead>\n",
       "  <tbody>\n",
       "    <tr>\n",
       "      <th>8</th>\n",
       "      <td>2021-05-15 23:00:00</td>\n",
       "      <td>ERROR</td>\n",
       "      <td>ERROR</td>\n",
       "      <td>ERROR</td>\n",
       "      <td>(unknown)\\n(11:00 pm CEST | Saturday, May 15, ...</td>\n",
       "      <td>Moon Phase calculatorMay 15, 2021 23h</td>\n",
       "      <td>| waxing crescent moon\\n14.45% illuminated</td>\n",
       "    </tr>\n",
       "    <tr>\n",
       "      <th>9</th>\n",
       "      <td>2021-05-23 08:00:00</td>\n",
       "      <td>9 °C\\n(8:00 am CEST | Sunday, May 23, 2021)</td>\n",
       "      <td>average: 87% (87%)\\n(8:00 am CEST | Sunday, Ma...</td>\n",
       "      <td>1 m/s\\n(8:00 am CEST | Sunday, May 23, 2021)</td>\n",
       "      <td>no precipitation\\n(8:00 am CEST | Sunday, May ...</td>\n",
       "      <td>Moon Phase calculatorMay 23, 2021 8h</td>\n",
       "      <td>| waxing gibbous moon\\n85.14% illuminated</td>\n",
       "    </tr>\n",
       "  </tbody>\n",
       "</table>\n",
       "</div>"
      ],
      "text/plain": [
       "                 date                                  temperature  \\\n",
       "8 2021-05-15 23:00:00                                        ERROR   \n",
       "9 2021-05-23 08:00:00  9 °C\\n(8:00 am CEST | Sunday, May 23, 2021)   \n",
       "\n",
       "                                            humidity  \\\n",
       "8                                              ERROR   \n",
       "9  average: 87% (87%)\\n(8:00 am CEST | Sunday, Ma...   \n",
       "\n",
       "                                     wind speed  \\\n",
       "8                                         ERROR   \n",
       "9  1 m/s\\n(8:00 am CEST | Sunday, May 23, 2021)   \n",
       "\n",
       "                                Precipitation amount  \\\n",
       "8  (unknown)\\n(11:00 pm CEST | Saturday, May 15, ...   \n",
       "9  no precipitation\\n(8:00 am CEST | Sunday, May ...   \n",
       "\n",
       "                                   query  \\\n",
       "8  Moon Phase calculatorMay 15, 2021 23h   \n",
       "9   Moon Phase calculatorMay 23, 2021 8h   \n",
       "\n",
       "                        Moon Phase calculator  \n",
       "8  | waxing crescent moon\\n14.45% illuminated  \n",
       "9   | waxing gibbous moon\\n85.14% illuminated  "
      ]
     },
     "metadata": {},
     "output_type": "display_data"
    },
    {
     "name": "stderr",
     "output_type": "stream",
     "text": [
      "\r",
      "  4%|██▊                                                                           | 61/1709 [20:26<8:50:52, 19.33s/it]"
     ]
    },
    {
     "name": "stdout",
     "output_type": "stream",
     "text": [
      "QUERY:  Precipitation amount in Zollikofen May 25, 2021 9h\n",
      "QUERY:  temperature in Zollikofen May 25, 2021 9h\n",
      "QUERY:  humidity in Zollikofen May 25, 2021 9h\n",
      "QUERY:  wind speed in Zollikofen May 25, 2021 9h\n",
      "QUERY:  Moon Phase calculatorMay 25, 2021 9h\n"
     ]
    },
    {
     "name": "stderr",
     "output_type": "stream",
     "text": [
      "\r",
      "  4%|██▊                                                                           | 62/1709 [20:48<9:12:16, 20.12s/it]"
     ]
    },
    {
     "name": "stdout",
     "output_type": "stream",
     "text": [
      "QUERY:  Precipitation amount in Zollikofen May 25, 2021 10h\n",
      "QUERY:  temperature in Zollikofen May 25, 2021 10h\n",
      "QUERY:  humidity in Zollikofen May 25, 2021 10h\n",
      "QUERY:  wind speed in Zollikofen May 25, 2021 10h\n",
      "QUERY:  Moon Phase calculatorMay 25, 2021 10h\n"
     ]
    },
    {
     "name": "stderr",
     "output_type": "stream",
     "text": [
      "\r",
      "  4%|██▉                                                                           | 63/1709 [21:11<9:30:56, 20.81s/it]"
     ]
    },
    {
     "name": "stdout",
     "output_type": "stream",
     "text": [
      "QUERY:  Precipitation amount in Zollikofen May 25, 2021 11h\n",
      "QUERY:  temperature in Zollikofen May 25, 2021 11h\n",
      "QUERY:  humidity in Zollikofen May 25, 2021 11h\n",
      "QUERY:  wind speed in Zollikofen May 25, 2021 11h\n",
      "QUERY:  Moon Phase calculatorMay 25, 2021 11h\n"
     ]
    },
    {
     "name": "stderr",
     "output_type": "stream",
     "text": [
      "\r",
      "  4%|██▉                                                                           | 64/1709 [21:33<9:39:40, 21.14s/it]"
     ]
    },
    {
     "name": "stdout",
     "output_type": "stream",
     "text": [
      "QUERY:  Precipitation amount in Zollikofen May 25, 2021 12h\n",
      "QUERY:  temperature in Zollikofen May 25, 2021 12h\n",
      "QUERY:  humidity in Zollikofen May 25, 2021 12h\n",
      "QUERY:  wind speed in Zollikofen May 25, 2021 12h\n",
      "QUERY:  Moon Phase calculatorMay 25, 2021 12h\n"
     ]
    },
    {
     "name": "stderr",
     "output_type": "stream",
     "text": [
      "\r",
      "  4%|██▉                                                                           | 65/1709 [21:55<9:49:00, 21.50s/it]"
     ]
    },
    {
     "name": "stdout",
     "output_type": "stream",
     "text": [
      "QUERY:  Precipitation amount in Zollikofen May 25, 2021 13h\n",
      "QUERY:  temperature in Zollikofen May 25, 2021 13h\n",
      "QUERY:  humidity in Zollikofen May 25, 2021 13h\n",
      "QUERY:  wind speed in Zollikofen May 25, 2021 13h\n",
      "QUERY:  Moon Phase calculatorMay 25, 2021 13h\n"
     ]
    },
    {
     "name": "stderr",
     "output_type": "stream",
     "text": [
      "\r",
      "  4%|███                                                                           | 66/1709 [22:17<9:53:41, 21.68s/it]"
     ]
    },
    {
     "name": "stdout",
     "output_type": "stream",
     "text": [
      "QUERY:  Precipitation amount in Zollikofen May 25, 2021 14h\n",
      "QUERY:  temperature in Zollikofen May 25, 2021 14h\n",
      "QUERY:  humidity in Zollikofen May 25, 2021 14h\n",
      "QUERY:  wind speed in Zollikofen May 25, 2021 14h\n",
      "QUERY:  Moon Phase calculatorMay 25, 2021 14h\n"
     ]
    },
    {
     "name": "stderr",
     "output_type": "stream",
     "text": [
      "\r",
      "  4%|███                                                                           | 67/1709 [22:40<9:59:31, 21.91s/it]"
     ]
    },
    {
     "name": "stdout",
     "output_type": "stream",
     "text": [
      "QUERY:  Precipitation amount in Zollikofen May 25, 2021 15h\n",
      "QUERY:  temperature in Zollikofen May 25, 2021 15h\n",
      "QUERY:  humidity in Zollikofen May 25, 2021 15h\n",
      "QUERY:  wind speed in Zollikofen May 25, 2021 15h\n",
      "QUERY:  Moon Phase calculatorMay 25, 2021 15h\n"
     ]
    },
    {
     "name": "stderr",
     "output_type": "stream",
     "text": [
      "\r",
      "  4%|███                                                                           | 68/1709 [23:01<9:58:22, 21.88s/it]"
     ]
    },
    {
     "name": "stdout",
     "output_type": "stream",
     "text": [
      "QUERY:  Precipitation amount in Zollikofen May 25, 2021 16h\n",
      "QUERY:  temperature in Zollikofen May 25, 2021 16h\n",
      "QUERY:  humidity in Zollikofen May 25, 2021 16h\n",
      "QUERY:  wind speed in Zollikofen May 25, 2021 16h\n",
      "QUERY:  Moon Phase calculatorMay 25, 2021 16h\n"
     ]
    },
    {
     "name": "stderr",
     "output_type": "stream",
     "text": [
      "\r",
      "  4%|███▏                                                                          | 69/1709 [23:23<9:59:08, 21.92s/it]"
     ]
    },
    {
     "name": "stdout",
     "output_type": "stream",
     "text": [
      "QUERY:  Precipitation amount in Zollikofen May 25, 2021 17h\n",
      "QUERY:  temperature in Zollikofen May 25, 2021 17h\n",
      "QUERY:  humidity in Zollikofen May 25, 2021 17h\n",
      "QUERY:  wind speed in Zollikofen May 25, 2021 17h\n",
      "QUERY:  Moon Phase calculatorMay 25, 2021 17h\n"
     ]
    },
    {
     "name": "stderr",
     "output_type": "stream",
     "text": [
      "\r",
      "  4%|███▏                                                                          | 70/1709 [23:45<9:52:01, 21.67s/it]"
     ]
    },
    {
     "name": "stdout",
     "output_type": "stream",
     "text": [
      "QUERY:  Precipitation amount in Zollikofen May 25, 2021 18h\n",
      "QUERY:  temperature in Zollikofen May 25, 2021 18h\n",
      "QUERY:  humidity in Zollikofen May 25, 2021 18h\n",
      "QUERY:  wind speed in Zollikofen May 25, 2021 18h\n",
      "QUERY:  Moon Phase calculatorMay 25, 2021 18h\n",
      "(5731, 7)\n"
     ]
    },
    {
     "data": {
      "text/html": [
       "<div>\n",
       "<style scoped>\n",
       "    .dataframe tbody tr th:only-of-type {\n",
       "        vertical-align: middle;\n",
       "    }\n",
       "\n",
       "    .dataframe tbody tr th {\n",
       "        vertical-align: top;\n",
       "    }\n",
       "\n",
       "    .dataframe thead th {\n",
       "        text-align: right;\n",
       "    }\n",
       "</style>\n",
       "<table border=\"1\" class=\"dataframe\">\n",
       "  <thead>\n",
       "    <tr style=\"text-align: right;\">\n",
       "      <th></th>\n",
       "      <th>date</th>\n",
       "      <th>temperature</th>\n",
       "      <th>humidity</th>\n",
       "      <th>wind speed</th>\n",
       "      <th>Precipitation amount</th>\n",
       "      <th>query</th>\n",
       "      <th>Moon Phase calculator</th>\n",
       "    </tr>\n",
       "  </thead>\n",
       "  <tbody>\n",
       "    <tr>\n",
       "      <th>8</th>\n",
       "      <td>2021-05-25 17:00:00</td>\n",
       "      <td>15 °C\\n(5:00 pm CEST | Tuesday, May 25, 2021)</td>\n",
       "      <td>average: 39% (36 to 41%)\\n(5:00 pm CEST | Tues...</td>\n",
       "      <td>5 m/s\\n(5:00 pm CEST | Tuesday, May 25, 2021)</td>\n",
       "      <td>no precipitation\\n(5:00 pm CEST | Tuesday, May...</td>\n",
       "      <td>Moon Phase calculatorMay 25, 2021 17h</td>\n",
       "      <td>| waxing gibbous moon\\n98.89% illuminated</td>\n",
       "    </tr>\n",
       "    <tr>\n",
       "      <th>9</th>\n",
       "      <td>2021-05-25 18:00:00</td>\n",
       "      <td>14 °C\\n(6:00 pm CEST | Tuesday, May 25, 2021)</td>\n",
       "      <td>average: 39% (39%)\\n(6:00 pm CEST | Tuesday, M...</td>\n",
       "      <td>5 m/s\\n(6:00 pm CEST | Tuesday, May 25, 2021)</td>\n",
       "      <td>no precipitation\\n(6:00 pm CEST | Tuesday, May...</td>\n",
       "      <td>Moon Phase calculatorMay 25, 2021 18h</td>\n",
       "      <td>| waxing gibbous moon\\n99.00% illuminated</td>\n",
       "    </tr>\n",
       "  </tbody>\n",
       "</table>\n",
       "</div>"
      ],
      "text/plain": [
       "                 date                                    temperature  \\\n",
       "8 2021-05-25 17:00:00  15 °C\\n(5:00 pm CEST | Tuesday, May 25, 2021)   \n",
       "9 2021-05-25 18:00:00  14 °C\\n(6:00 pm CEST | Tuesday, May 25, 2021)   \n",
       "\n",
       "                                            humidity  \\\n",
       "8  average: 39% (36 to 41%)\\n(5:00 pm CEST | Tues...   \n",
       "9  average: 39% (39%)\\n(6:00 pm CEST | Tuesday, M...   \n",
       "\n",
       "                                      wind speed  \\\n",
       "8  5 m/s\\n(5:00 pm CEST | Tuesday, May 25, 2021)   \n",
       "9  5 m/s\\n(6:00 pm CEST | Tuesday, May 25, 2021)   \n",
       "\n",
       "                                Precipitation amount  \\\n",
       "8  no precipitation\\n(5:00 pm CEST | Tuesday, May...   \n",
       "9  no precipitation\\n(6:00 pm CEST | Tuesday, May...   \n",
       "\n",
       "                                   query  \\\n",
       "8  Moon Phase calculatorMay 25, 2021 17h   \n",
       "9  Moon Phase calculatorMay 25, 2021 18h   \n",
       "\n",
       "                       Moon Phase calculator  \n",
       "8  | waxing gibbous moon\\n98.89% illuminated  \n",
       "9  | waxing gibbous moon\\n99.00% illuminated  "
      ]
     },
     "metadata": {},
     "output_type": "display_data"
    },
    {
     "name": "stderr",
     "output_type": "stream",
     "text": [
      "\r",
      "  4%|███▏                                                                          | 71/1709 [24:06<9:52:35, 21.71s/it]"
     ]
    },
    {
     "name": "stdout",
     "output_type": "stream",
     "text": [
      "QUERY:  Precipitation amount in Zollikofen May 25, 2021 19h\n",
      "QUERY:  temperature in Zollikofen May 25, 2021 19h\n",
      "QUERY:  humidity in Zollikofen May 25, 2021 19h\n",
      "QUERY:  wind speed in Zollikofen May 25, 2021 19h\n",
      "QUERY:  Moon Phase calculatorMay 25, 2021 19h\n"
     ]
    },
    {
     "name": "stderr",
     "output_type": "stream",
     "text": [
      "\r",
      "  4%|███▏                                                                         | 72/1709 [24:33<10:33:31, 23.22s/it]"
     ]
    },
    {
     "name": "stdout",
     "output_type": "stream",
     "text": [
      "QUERY:  Precipitation amount in Zollikofen May 25, 2021 20h\n",
      "QUERY:  temperature in Zollikofen May 25, 2021 20h\n",
      "QUERY:  humidity in Zollikofen May 25, 2021 20h\n",
      "QUERY:  wind speed in Zollikofen May 25, 2021 20h\n",
      "QUERY:  Moon Phase calculatorMay 25, 2021 20h\n"
     ]
    },
    {
     "name": "stderr",
     "output_type": "stream",
     "text": [
      "\r",
      "  4%|███▎                                                                         | 73/1709 [24:55<10:25:40, 22.95s/it]"
     ]
    },
    {
     "name": "stdout",
     "output_type": "stream",
     "text": [
      "QUERY:  Precipitation amount in Zollikofen May 25, 2021 21h\n",
      "QUERY:  temperature in Zollikofen May 25, 2021 21h\n",
      "QUERY:  humidity in Zollikofen May 25, 2021 21h\n",
      "QUERY:  wind speed in Zollikofen May 25, 2021 21h\n",
      "QUERY:  Moon Phase calculatorMay 25, 2021 21h\n"
     ]
    },
    {
     "name": "stderr",
     "output_type": "stream",
     "text": [
      "\r",
      "  4%|███▎                                                                         | 74/1709 [25:17<10:11:55, 22.46s/it]"
     ]
    },
    {
     "name": "stdout",
     "output_type": "stream",
     "text": [
      "QUERY:  Precipitation amount in Zollikofen May 25, 2021 22h\n",
      "QUERY:  temperature in Zollikofen May 25, 2021 22h\n",
      "QUERY:  humidity in Zollikofen May 25, 2021 22h\n",
      "QUERY:  wind speed in Zollikofen May 25, 2021 22h\n",
      "QUERY:  Moon Phase calculatorMay 25, 2021 22h\n"
     ]
    },
    {
     "name": "stderr",
     "output_type": "stream",
     "text": [
      "\r",
      "  4%|███▍                                                                         | 75/1709 [25:38<10:02:58, 22.14s/it]"
     ]
    },
    {
     "name": "stdout",
     "output_type": "stream",
     "text": [
      "QUERY:  Precipitation amount in Zollikofen May 25, 2021 23h\n",
      "QUERY:  temperature in Zollikofen May 25, 2021 23h\n",
      "QUERY:  humidity in Zollikofen May 25, 2021 23h\n",
      "QUERY:  wind speed in Zollikofen May 25, 2021 23h\n",
      "QUERY:  Moon Phase calculatorMay 25, 2021 23h\n"
     ]
    },
    {
     "name": "stderr",
     "output_type": "stream",
     "text": [
      "\r",
      "  4%|███▍                                                                          | 76/1709 [25:59<9:50:05, 21.68s/it]"
     ]
    },
    {
     "name": "stdout",
     "output_type": "stream",
     "text": [
      "QUERY:  Precipitation amount in Zollikofen May 26, 2021 0h\n",
      "QUERY:  temperature in Zollikofen May 26, 2021 0h\n",
      "QUERY:  humidity in Zollikofen May 26, 2021 0h\n",
      "QUERY:  wind speed in Zollikofen May 26, 2021 0h\n",
      "QUERY:  Moon Phase calculatorMay 26, 2021 0h\n"
     ]
    },
    {
     "name": "stderr",
     "output_type": "stream",
     "text": [
      "\r",
      "  5%|███▌                                                                          | 77/1709 [26:19<9:41:29, 21.38s/it]"
     ]
    },
    {
     "name": "stdout",
     "output_type": "stream",
     "text": [
      "QUERY:  Precipitation amount in Zollikofen May 26, 2021 1h\n",
      "QUERY:  temperature in Zollikofen May 26, 2021 1h\n",
      "QUERY:  humidity in Zollikofen May 26, 2021 1h\n",
      "QUERY:  wind speed in Zollikofen May 26, 2021 1h\n",
      "QUERY:  Moon Phase calculatorMay 26, 2021 1h\n"
     ]
    },
    {
     "name": "stderr",
     "output_type": "stream",
     "text": [
      "\r",
      "  5%|███▌                                                                          | 78/1709 [26:41<9:42:48, 21.44s/it]"
     ]
    },
    {
     "name": "stdout",
     "output_type": "stream",
     "text": [
      "QUERY:  Precipitation amount in Zollikofen May 26, 2021 2h\n",
      "QUERY:  temperature in Zollikofen May 26, 2021 2h\n",
      "QUERY:  humidity in Zollikofen May 26, 2021 2h\n",
      "QUERY:  wind speed in Zollikofen May 26, 2021 2h\n",
      "QUERY:  Moon Phase calculatorMay 26, 2021 2h\n"
     ]
    },
    {
     "name": "stderr",
     "output_type": "stream",
     "text": [
      "\r",
      "  5%|███▌                                                                          | 79/1709 [27:02<9:37:25, 21.25s/it]"
     ]
    },
    {
     "name": "stdout",
     "output_type": "stream",
     "text": [
      "QUERY:  Precipitation amount in Zollikofen May 26, 2021 3h\n",
      "QUERY:  temperature in Zollikofen May 26, 2021 3h\n",
      "QUERY:  humidity in Zollikofen May 26, 2021 3h\n",
      "QUERY:  wind speed in Zollikofen May 26, 2021 3h\n",
      "QUERY:  Moon Phase calculatorMay 26, 2021 3h\n"
     ]
    },
    {
     "name": "stderr",
     "output_type": "stream",
     "text": [
      "\r",
      "  5%|███▋                                                                          | 80/1709 [27:24<9:41:33, 21.42s/it]"
     ]
    },
    {
     "name": "stdout",
     "output_type": "stream",
     "text": [
      "QUERY:  Precipitation amount in Zollikofen May 26, 2021 4h\n",
      "QUERY:  temperature in Zollikofen May 26, 2021 4h\n",
      "QUERY:  humidity in Zollikofen May 26, 2021 4h\n",
      "QUERY:  wind speed in Zollikofen May 26, 2021 4h\n",
      "QUERY:  Moon Phase calculatorMay 26, 2021 4h\n",
      "(5741, 7)\n"
     ]
    },
    {
     "data": {
      "text/html": [
       "<div>\n",
       "<style scoped>\n",
       "    .dataframe tbody tr th:only-of-type {\n",
       "        vertical-align: middle;\n",
       "    }\n",
       "\n",
       "    .dataframe tbody tr th {\n",
       "        vertical-align: top;\n",
       "    }\n",
       "\n",
       "    .dataframe thead th {\n",
       "        text-align: right;\n",
       "    }\n",
       "</style>\n",
       "<table border=\"1\" class=\"dataframe\">\n",
       "  <thead>\n",
       "    <tr style=\"text-align: right;\">\n",
       "      <th></th>\n",
       "      <th>date</th>\n",
       "      <th>temperature</th>\n",
       "      <th>humidity</th>\n",
       "      <th>wind speed</th>\n",
       "      <th>Precipitation amount</th>\n",
       "      <th>query</th>\n",
       "      <th>Moon Phase calculator</th>\n",
       "    </tr>\n",
       "  </thead>\n",
       "  <tbody>\n",
       "    <tr>\n",
       "      <th>8</th>\n",
       "      <td>2021-05-26 03:00:00</td>\n",
       "      <td>8 °C\\n(3:00 am CEST | Wednesday, May 26, 2021)</td>\n",
       "      <td>average: 100% (100%)\\n(3:00 am CEST | Wednesda...</td>\n",
       "      <td>1 m/s\\n(3:00 am CEST | Wednesday, May 26, 2021)</td>\n",
       "      <td>no precipitation\\n(3:00 am CEST | Wednesday, M...</td>\n",
       "      <td>Moon Phase calculatorMay 26, 2021 3h</td>\n",
       "      <td>| waxing gibbous moon\\n99.71% illuminated</td>\n",
       "    </tr>\n",
       "    <tr>\n",
       "      <th>9</th>\n",
       "      <td>2021-05-26 04:00:00</td>\n",
       "      <td>8 °C\\n(4:00 am CEST | Wednesday, May 26, 2021)</td>\n",
       "      <td>average: 90% (87 to 93%)\\n(4:00 am CEST | Wedn...</td>\n",
       "      <td>2 m/s\\n(4:00 am CEST | Wednesday, May 26, 2021)</td>\n",
       "      <td>no precipitation\\n(4:00 am CEST | Wednesday, M...</td>\n",
       "      <td>Moon Phase calculatorMay 26, 2021 4h</td>\n",
       "      <td>| full moon\\n99.77% illuminated</td>\n",
       "    </tr>\n",
       "  </tbody>\n",
       "</table>\n",
       "</div>"
      ],
      "text/plain": [
       "                 date                                     temperature  \\\n",
       "8 2021-05-26 03:00:00  8 °C\\n(3:00 am CEST | Wednesday, May 26, 2021)   \n",
       "9 2021-05-26 04:00:00  8 °C\\n(4:00 am CEST | Wednesday, May 26, 2021)   \n",
       "\n",
       "                                            humidity  \\\n",
       "8  average: 100% (100%)\\n(3:00 am CEST | Wednesda...   \n",
       "9  average: 90% (87 to 93%)\\n(4:00 am CEST | Wedn...   \n",
       "\n",
       "                                        wind speed  \\\n",
       "8  1 m/s\\n(3:00 am CEST | Wednesday, May 26, 2021)   \n",
       "9  2 m/s\\n(4:00 am CEST | Wednesday, May 26, 2021)   \n",
       "\n",
       "                                Precipitation amount  \\\n",
       "8  no precipitation\\n(3:00 am CEST | Wednesday, M...   \n",
       "9  no precipitation\\n(4:00 am CEST | Wednesday, M...   \n",
       "\n",
       "                                  query  \\\n",
       "8  Moon Phase calculatorMay 26, 2021 3h   \n",
       "9  Moon Phase calculatorMay 26, 2021 4h   \n",
       "\n",
       "                       Moon Phase calculator  \n",
       "8  | waxing gibbous moon\\n99.71% illuminated  \n",
       "9            | full moon\\n99.77% illuminated  "
      ]
     },
     "metadata": {},
     "output_type": "display_data"
    },
    {
     "name": "stderr",
     "output_type": "stream",
     "text": [
      "\r",
      "  5%|███▋                                                                          | 81/1709 [27:45<9:37:19, 21.28s/it]"
     ]
    },
    {
     "name": "stdout",
     "output_type": "stream",
     "text": [
      "QUERY:  Precipitation amount in Zollikofen May 26, 2021 5h\n",
      "QUERY:  temperature in Zollikofen May 26, 2021 5h\n",
      "QUERY:  humidity in Zollikofen May 26, 2021 5h\n",
      "QUERY:  wind speed in Zollikofen May 26, 2021 5h\n",
      "QUERY:  Moon Phase calculatorMay 26, 2021 5h\n"
     ]
    },
    {
     "name": "stderr",
     "output_type": "stream",
     "text": [
      "\r",
      "  5%|███▋                                                                          | 82/1709 [28:05<9:28:17, 20.96s/it]"
     ]
    },
    {
     "name": "stdout",
     "output_type": "stream",
     "text": [
      "QUERY:  Precipitation amount in Zollikofen May 26, 2021 6h\n",
      "QUERY:  temperature in Zollikofen May 26, 2021 6h\n",
      "QUERY:  humidity in Zollikofen May 26, 2021 6h\n",
      "QUERY:  wind speed in Zollikofen May 26, 2021 6h\n",
      "QUERY:  Moon Phase calculatorMay 26, 2021 6h\n"
     ]
    },
    {
     "name": "stderr",
     "output_type": "stream",
     "text": [
      "\r",
      "  5%|███▊                                                                          | 83/1709 [28:26<9:30:39, 21.06s/it]"
     ]
    },
    {
     "name": "stdout",
     "output_type": "stream",
     "text": [
      "QUERY:  Precipitation amount in Zollikofen May 26, 2021 7h\n",
      "QUERY:  temperature in Zollikofen May 26, 2021 7h\n",
      "QUERY:  humidity in Zollikofen May 26, 2021 7h\n",
      "QUERY:  wind speed in Zollikofen May 26, 2021 7h\n",
      "QUERY:  Moon Phase calculatorMay 26, 2021 7h\n"
     ]
    },
    {
     "name": "stderr",
     "output_type": "stream",
     "text": [
      "\r",
      "  5%|███▊                                                                          | 84/1709 [28:47<9:32:17, 21.13s/it]"
     ]
    },
    {
     "name": "stdout",
     "output_type": "stream",
     "text": [
      "QUERY:  Precipitation amount in Zollikofen May 26, 2021 8h\n",
      "QUERY:  temperature in Zollikofen May 26, 2021 8h\n",
      "QUERY:  humidity in Zollikofen May 26, 2021 8h\n",
      "ERROR:------------- results  ----------  humidity in Zollikofen May 26, 2021 8h\n",
      "QUERY:  wind speed in Zollikofen May 26, 2021 8h\n",
      "QUERY:  Moon Phase calculatorMay 26, 2021 8h\n"
     ]
    },
    {
     "name": "stderr",
     "output_type": "stream",
     "text": [
      "\r",
      "  5%|███▊                                                                         | 85/1709 [29:14<10:14:11, 22.69s/it]"
     ]
    },
    {
     "name": "stdout",
     "output_type": "stream",
     "text": [
      "QUERY:  Precipitation amount in Zollikofen May 26, 2021 9h\n",
      "QUERY:  temperature in Zollikofen May 26, 2021 9h\n",
      "QUERY:  humidity in Zollikofen May 26, 2021 9h\n",
      "QUERY:  wind speed in Zollikofen May 26, 2021 9h\n",
      "QUERY:  Moon Phase calculatorMay 26, 2021 9h\n"
     ]
    },
    {
     "name": "stderr",
     "output_type": "stream",
     "text": [
      "\r",
      "  5%|███▊                                                                         | 86/1709 [29:35<10:01:12, 22.23s/it]"
     ]
    },
    {
     "name": "stdout",
     "output_type": "stream",
     "text": [
      "QUERY:  Precipitation amount in Zollikofen May 26, 2021 10h\n",
      "QUERY:  temperature in Zollikofen May 26, 2021 10h\n",
      "QUERY:  humidity in Zollikofen May 26, 2021 10h\n",
      "QUERY:  wind speed in Zollikofen May 26, 2021 10h\n",
      "QUERY:  Moon Phase calculatorMay 26, 2021 10h\n"
     ]
    },
    {
     "name": "stderr",
     "output_type": "stream",
     "text": [
      "\r",
      "  5%|███▉                                                                          | 87/1709 [29:56<9:53:36, 21.96s/it]"
     ]
    },
    {
     "name": "stdout",
     "output_type": "stream",
     "text": [
      "QUERY:  Precipitation amount in Zollikofen May 26, 2021 11h\n",
      "QUERY:  temperature in Zollikofen May 26, 2021 11h\n",
      "QUERY:  humidity in Zollikofen May 26, 2021 11h\n",
      "QUERY:  wind speed in Zollikofen May 26, 2021 11h\n",
      "QUERY:  Moon Phase calculatorMay 26, 2021 11h\n"
     ]
    },
    {
     "name": "stderr",
     "output_type": "stream",
     "text": [
      "\r",
      "  5%|████                                                                          | 88/1709 [30:17<9:47:14, 21.74s/it]"
     ]
    },
    {
     "name": "stdout",
     "output_type": "stream",
     "text": [
      "QUERY:  Precipitation amount in Zollikofen May 26, 2021 12h\n",
      "QUERY:  temperature in Zollikofen May 26, 2021 12h\n",
      "QUERY:  humidity in Zollikofen May 26, 2021 12h\n",
      "QUERY:  wind speed in Zollikofen May 26, 2021 12h\n",
      "QUERY:  Moon Phase calculatorMay 26, 2021 12h\n"
     ]
    },
    {
     "name": "stderr",
     "output_type": "stream",
     "text": [
      "\r",
      "  5%|████                                                                          | 89/1709 [30:38<9:40:00, 21.48s/it]"
     ]
    },
    {
     "name": "stdout",
     "output_type": "stream",
     "text": [
      "QUERY:  Precipitation amount in Zollikofen May 26, 2021 13h\n",
      "QUERY:  temperature in Zollikofen May 26, 2021 13h\n",
      "QUERY:  humidity in Zollikofen May 26, 2021 13h\n",
      "QUERY:  wind speed in Zollikofen May 26, 2021 13h\n",
      "QUERY:  Moon Phase calculatorMay 26, 2021 13h\n"
     ]
    },
    {
     "name": "stderr",
     "output_type": "stream",
     "text": [
      "\r",
      "  5%|████                                                                          | 90/1709 [31:00<9:40:32, 21.52s/it]"
     ]
    },
    {
     "name": "stdout",
     "output_type": "stream",
     "text": [
      "QUERY:  Precipitation amount in Zollikofen May 26, 2021 14h\n",
      "QUERY:  temperature in Zollikofen May 26, 2021 14h\n",
      "QUERY:  humidity in Zollikofen May 26, 2021 14h\n",
      "QUERY:  wind speed in Zollikofen May 26, 2021 14h\n",
      "QUERY:  Moon Phase calculatorMay 26, 2021 14h\n",
      "(5751, 7)\n"
     ]
    },
    {
     "data": {
      "text/html": [
       "<div>\n",
       "<style scoped>\n",
       "    .dataframe tbody tr th:only-of-type {\n",
       "        vertical-align: middle;\n",
       "    }\n",
       "\n",
       "    .dataframe tbody tr th {\n",
       "        vertical-align: top;\n",
       "    }\n",
       "\n",
       "    .dataframe thead th {\n",
       "        text-align: right;\n",
       "    }\n",
       "</style>\n",
       "<table border=\"1\" class=\"dataframe\">\n",
       "  <thead>\n",
       "    <tr style=\"text-align: right;\">\n",
       "      <th></th>\n",
       "      <th>date</th>\n",
       "      <th>temperature</th>\n",
       "      <th>humidity</th>\n",
       "      <th>wind speed</th>\n",
       "      <th>Precipitation amount</th>\n",
       "      <th>query</th>\n",
       "      <th>Moon Phase calculator</th>\n",
       "    </tr>\n",
       "  </thead>\n",
       "  <tbody>\n",
       "    <tr>\n",
       "      <th>8</th>\n",
       "      <td>2021-05-26 13:00:00</td>\n",
       "      <td>15 °C\\n(1:00 pm CEST | Wednesday, May 26, 2021)</td>\n",
       "      <td>average: 50% (48 to 51%)\\n(1:00 pm CEST | Wedn...</td>\n",
       "      <td>6 m/s\\n(1:00 pm CEST | Wednesday, May 26, 2021)</td>\n",
       "      <td>no precipitation\\n(1:00 pm CEST | Wednesday, M...</td>\n",
       "      <td>Moon Phase calculatorMay 26, 2021 13h</td>\n",
       "      <td>| full moon\\n100.00% illuminated</td>\n",
       "    </tr>\n",
       "    <tr>\n",
       "      <th>9</th>\n",
       "      <td>2021-05-26 14:00:00</td>\n",
       "      <td>16 °C\\n(2:00 pm CEST | Wednesday, May 26, 2021)</td>\n",
       "      <td>average: 45% (45%)\\n(2:00 pm CEST | Wednesday,...</td>\n",
       "      <td>4 m/s\\n(2:00 pm CEST | Wednesday, May 26, 2021)</td>\n",
       "      <td>no precipitation\\n(2:00 pm CEST | Wednesday, M...</td>\n",
       "      <td>Moon Phase calculatorMay 26, 2021 14h</td>\n",
       "      <td>| full moon\\n100.00% illuminated</td>\n",
       "    </tr>\n",
       "  </tbody>\n",
       "</table>\n",
       "</div>"
      ],
      "text/plain": [
       "                 date                                      temperature  \\\n",
       "8 2021-05-26 13:00:00  15 °C\\n(1:00 pm CEST | Wednesday, May 26, 2021)   \n",
       "9 2021-05-26 14:00:00  16 °C\\n(2:00 pm CEST | Wednesday, May 26, 2021)   \n",
       "\n",
       "                                            humidity  \\\n",
       "8  average: 50% (48 to 51%)\\n(1:00 pm CEST | Wedn...   \n",
       "9  average: 45% (45%)\\n(2:00 pm CEST | Wednesday,...   \n",
       "\n",
       "                                        wind speed  \\\n",
       "8  6 m/s\\n(1:00 pm CEST | Wednesday, May 26, 2021)   \n",
       "9  4 m/s\\n(2:00 pm CEST | Wednesday, May 26, 2021)   \n",
       "\n",
       "                                Precipitation amount  \\\n",
       "8  no precipitation\\n(1:00 pm CEST | Wednesday, M...   \n",
       "9  no precipitation\\n(2:00 pm CEST | Wednesday, M...   \n",
       "\n",
       "                                   query             Moon Phase calculator  \n",
       "8  Moon Phase calculatorMay 26, 2021 13h  | full moon\\n100.00% illuminated  \n",
       "9  Moon Phase calculatorMay 26, 2021 14h  | full moon\\n100.00% illuminated  "
      ]
     },
     "metadata": {},
     "output_type": "display_data"
    },
    {
     "name": "stderr",
     "output_type": "stream",
     "text": [
      "\r",
      "  5%|████▏                                                                         | 91/1709 [31:22<9:44:35, 21.68s/it]"
     ]
    },
    {
     "name": "stdout",
     "output_type": "stream",
     "text": [
      "QUERY:  Precipitation amount in Zollikofen May 26, 2021 15h\n",
      "QUERY:  temperature in Zollikofen May 26, 2021 15h\n",
      "QUERY:  humidity in Zollikofen May 26, 2021 15h\n",
      "QUERY:  wind speed in Zollikofen May 26, 2021 15h\n",
      "QUERY:  Moon Phase calculatorMay 26, 2021 15h\n"
     ]
    },
    {
     "name": "stderr",
     "output_type": "stream",
     "text": [
      "\r",
      "  5%|████▏                                                                         | 92/1709 [31:43<9:38:59, 21.48s/it]"
     ]
    },
    {
     "name": "stdout",
     "output_type": "stream",
     "text": [
      "QUERY:  Precipitation amount in Zollikofen May 26, 2021 16h\n",
      "QUERY:  temperature in Zollikofen May 26, 2021 16h\n",
      "QUERY:  humidity in Zollikofen May 26, 2021 16h\n",
      "QUERY:  wind speed in Zollikofen May 26, 2021 16h\n",
      "QUERY:  Moon Phase calculatorMay 26, 2021 16h\n"
     ]
    },
    {
     "name": "stderr",
     "output_type": "stream",
     "text": [
      "\r",
      "  5%|████▏                                                                         | 93/1709 [32:04<9:37:19, 21.44s/it]"
     ]
    },
    {
     "name": "stdout",
     "output_type": "stream",
     "text": [
      "QUERY:  Precipitation amount in Zollikofen May 26, 2021 17h\n",
      "QUERY:  temperature in Zollikofen May 26, 2021 17h\n",
      "QUERY:  humidity in Zollikofen May 26, 2021 17h\n",
      "QUERY:  wind speed in Zollikofen May 26, 2021 17h\n",
      "QUERY:  Moon Phase calculatorMay 26, 2021 17h\n"
     ]
    },
    {
     "name": "stderr",
     "output_type": "stream",
     "text": [
      "\r",
      "  6%|████▎                                                                         | 94/1709 [32:26<9:38:20, 21.49s/it]"
     ]
    },
    {
     "name": "stdout",
     "output_type": "stream",
     "text": [
      "QUERY:  Precipitation amount in Zollikofen May 26, 2021 18h\n",
      "QUERY:  temperature in Zollikofen May 26, 2021 18h\n",
      "QUERY:  humidity in Zollikofen May 26, 2021 18h\n",
      "QUERY:  wind speed in Zollikofen May 26, 2021 18h\n",
      "QUERY:  Moon Phase calculatorMay 26, 2021 18h\n"
     ]
    },
    {
     "name": "stderr",
     "output_type": "stream",
     "text": [
      "\r",
      "  6%|████▎                                                                         | 95/1709 [32:47<9:37:18, 21.46s/it]"
     ]
    },
    {
     "name": "stdout",
     "output_type": "stream",
     "text": [
      "QUERY:  Precipitation amount in Zollikofen May 26, 2021 19h\n",
      "QUERY:  temperature in Zollikofen May 26, 2021 19h\n",
      "QUERY:  humidity in Zollikofen May 26, 2021 19h\n",
      "QUERY:  wind speed in Zollikofen May 26, 2021 19h\n",
      "QUERY:  Moon Phase calculatorMay 26, 2021 19h\n"
     ]
    },
    {
     "name": "stderr",
     "output_type": "stream",
     "text": [
      "\r",
      "  6%|████▍                                                                         | 96/1709 [33:08<9:32:20, 21.29s/it]"
     ]
    },
    {
     "name": "stdout",
     "output_type": "stream",
     "text": [
      "QUERY:  Precipitation amount in Zollikofen May 26, 2021 20h\n",
      "QUERY:  temperature in Zollikofen May 26, 2021 20h\n",
      "QUERY:  humidity in Zollikofen May 26, 2021 20h\n",
      "QUERY:  wind speed in Zollikofen May 26, 2021 20h\n",
      "QUERY:  Moon Phase calculatorMay 26, 2021 20h\n"
     ]
    },
    {
     "name": "stderr",
     "output_type": "stream",
     "text": [
      "\r",
      "  6%|████▍                                                                         | 97/1709 [33:30<9:35:20, 21.41s/it]"
     ]
    },
    {
     "name": "stdout",
     "output_type": "stream",
     "text": [
      "QUERY:  Precipitation amount in Zollikofen May 26, 2021 21h\n",
      "QUERY:  temperature in Zollikofen May 26, 2021 21h\n",
      "QUERY:  humidity in Zollikofen May 26, 2021 21h\n",
      "QUERY:  wind speed in Zollikofen May 26, 2021 21h\n",
      "QUERY:  Moon Phase calculatorMay 26, 2021 21h\n"
     ]
    },
    {
     "name": "stderr",
     "output_type": "stream",
     "text": [
      "\r",
      "  6%|████▍                                                                         | 98/1709 [33:51<9:32:26, 21.32s/it]"
     ]
    },
    {
     "name": "stdout",
     "output_type": "stream",
     "text": [
      "QUERY:  Precipitation amount in Zollikofen May 26, 2021 22h\n",
      "QUERY:  temperature in Zollikofen May 26, 2021 22h\n",
      "QUERY:  humidity in Zollikofen May 26, 2021 22h\n",
      "QUERY:  wind speed in Zollikofen May 26, 2021 22h\n",
      "QUERY:  Moon Phase calculatorMay 26, 2021 22h\n"
     ]
    },
    {
     "name": "stderr",
     "output_type": "stream",
     "text": [
      "\r",
      "  6%|████▌                                                                         | 99/1709 [34:12<9:30:19, 21.25s/it]"
     ]
    },
    {
     "name": "stdout",
     "output_type": "stream",
     "text": [
      "QUERY:  Precipitation amount in Zollikofen May 26, 2021 23h\n",
      "QUERY:  temperature in Zollikofen May 26, 2021 23h\n",
      "QUERY:  humidity in Zollikofen May 26, 2021 23h\n",
      "QUERY:  wind speed in Zollikofen May 26, 2021 23h\n",
      "QUERY:  Moon Phase calculatorMay 26, 2021 23h\n"
     ]
    },
    {
     "name": "stderr",
     "output_type": "stream",
     "text": [
      "\r",
      "  6%|████▌                                                                        | 100/1709 [34:33<9:29:08, 21.22s/it]"
     ]
    },
    {
     "name": "stdout",
     "output_type": "stream",
     "text": [
      "QUERY:  Precipitation amount in Zollikofen May 27, 2021 0h\n",
      "QUERY:  temperature in Zollikofen May 27, 2021 0h\n",
      "QUERY:  humidity in Zollikofen May 27, 2021 0h\n",
      "QUERY:  wind speed in Zollikofen May 27, 2021 0h\n",
      "QUERY:  Moon Phase calculatorMay 27, 2021 0h\n",
      "(5761, 7)\n"
     ]
    },
    {
     "data": {
      "text/html": [
       "<div>\n",
       "<style scoped>\n",
       "    .dataframe tbody tr th:only-of-type {\n",
       "        vertical-align: middle;\n",
       "    }\n",
       "\n",
       "    .dataframe tbody tr th {\n",
       "        vertical-align: top;\n",
       "    }\n",
       "\n",
       "    .dataframe thead th {\n",
       "        text-align: right;\n",
       "    }\n",
       "</style>\n",
       "<table border=\"1\" class=\"dataframe\">\n",
       "  <thead>\n",
       "    <tr style=\"text-align: right;\">\n",
       "      <th></th>\n",
       "      <th>date</th>\n",
       "      <th>temperature</th>\n",
       "      <th>humidity</th>\n",
       "      <th>wind speed</th>\n",
       "      <th>Precipitation amount</th>\n",
       "      <th>query</th>\n",
       "      <th>Moon Phase calculator</th>\n",
       "    </tr>\n",
       "  </thead>\n",
       "  <tbody>\n",
       "    <tr>\n",
       "      <th>8</th>\n",
       "      <td>2021-05-26 23:00:00</td>\n",
       "      <td>13 °C\\n(11:00 pm CEST | Wednesday, May 26, 2021)</td>\n",
       "      <td>average: 67% (67%)\\n(11:00 pm CEST | Wednesday...</td>\n",
       "      <td>1 m/s\\n(11:00 pm CEST | Wednesday, May 26, 2021)</td>\n",
       "      <td>no precipitation\\n(11:00 pm CEST | Wednesday, ...</td>\n",
       "      <td>Moon Phase calculatorMay 26, 2021 23h</td>\n",
       "      <td>| full moon\\n99.75% illuminated</td>\n",
       "    </tr>\n",
       "    <tr>\n",
       "      <th>9</th>\n",
       "      <td>2021-05-27 00:00:00</td>\n",
       "      <td>12 °C\\n(12:00 am CEST | Thursday, May 27, 2021)</td>\n",
       "      <td>average: 88% (82 to 94%)\\n(12:00 am CEST | Thu...</td>\n",
       "      <td>0 m/s\\n(12:00 am CEST | Thursday, May 27, 2021)</td>\n",
       "      <td>no precipitation\\n(12:00 am CEST | Thursday, M...</td>\n",
       "      <td>Moon Phase calculatorMay 27, 2021 0h</td>\n",
       "      <td>| waning gibbous moon\\n99.69% illuminated</td>\n",
       "    </tr>\n",
       "  </tbody>\n",
       "</table>\n",
       "</div>"
      ],
      "text/plain": [
       "                 date                                       temperature  \\\n",
       "8 2021-05-26 23:00:00  13 °C\\n(11:00 pm CEST | Wednesday, May 26, 2021)   \n",
       "9 2021-05-27 00:00:00   12 °C\\n(12:00 am CEST | Thursday, May 27, 2021)   \n",
       "\n",
       "                                            humidity  \\\n",
       "8  average: 67% (67%)\\n(11:00 pm CEST | Wednesday...   \n",
       "9  average: 88% (82 to 94%)\\n(12:00 am CEST | Thu...   \n",
       "\n",
       "                                         wind speed  \\\n",
       "8  1 m/s\\n(11:00 pm CEST | Wednesday, May 26, 2021)   \n",
       "9   0 m/s\\n(12:00 am CEST | Thursday, May 27, 2021)   \n",
       "\n",
       "                                Precipitation amount  \\\n",
       "8  no precipitation\\n(11:00 pm CEST | Wednesday, ...   \n",
       "9  no precipitation\\n(12:00 am CEST | Thursday, M...   \n",
       "\n",
       "                                   query  \\\n",
       "8  Moon Phase calculatorMay 26, 2021 23h   \n",
       "9   Moon Phase calculatorMay 27, 2021 0h   \n",
       "\n",
       "                       Moon Phase calculator  \n",
       "8            | full moon\\n99.75% illuminated  \n",
       "9  | waning gibbous moon\\n99.69% illuminated  "
      ]
     },
     "metadata": {},
     "output_type": "display_data"
    },
    {
     "name": "stderr",
     "output_type": "stream",
     "text": [
      "\r",
      "  6%|████▌                                                                        | 101/1709 [34:53<9:19:20, 20.87s/it]"
     ]
    },
    {
     "name": "stdout",
     "output_type": "stream",
     "text": [
      "QUERY:  Precipitation amount in Zollikofen May 27, 2021 1h\n",
      "QUERY:  temperature in Zollikofen May 27, 2021 1h\n",
      "QUERY:  humidity in Zollikofen May 27, 2021 1h\n",
      "QUERY:  wind speed in Zollikofen May 27, 2021 1h\n",
      "QUERY:  Moon Phase calculatorMay 27, 2021 1h\n"
     ]
    },
    {
     "name": "stderr",
     "output_type": "stream",
     "text": [
      "\r",
      "  6%|████▌                                                                        | 102/1709 [35:15<9:26:54, 21.17s/it]"
     ]
    },
    {
     "name": "stdout",
     "output_type": "stream",
     "text": [
      "QUERY:  Precipitation amount in Zollikofen May 27, 2021 2h\n",
      "QUERY:  temperature in Zollikofen May 27, 2021 2h\n",
      "QUERY:  humidity in Zollikofen May 27, 2021 2h\n",
      "QUERY:  wind speed in Zollikofen May 27, 2021 2h\n",
      "QUERY:  Moon Phase calculatorMay 27, 2021 2h\n"
     ]
    },
    {
     "name": "stderr",
     "output_type": "stream",
     "text": [
      "\r",
      "  6%|████▋                                                                        | 103/1709 [35:36<9:24:11, 21.08s/it]"
     ]
    },
    {
     "name": "stdout",
     "output_type": "stream",
     "text": [
      "QUERY:  Precipitation amount in Zollikofen May 27, 2021 3h\n",
      "QUERY:  temperature in Zollikofen May 27, 2021 3h\n",
      "QUERY:  humidity in Zollikofen May 27, 2021 3h\n",
      "QUERY:  wind speed in Zollikofen May 27, 2021 3h\n",
      "QUERY:  Moon Phase calculatorMay 27, 2021 3h\n"
     ]
    },
    {
     "name": "stderr",
     "output_type": "stream",
     "text": [
      "\r",
      "  6%|████▋                                                                        | 104/1709 [35:57<9:26:40, 21.18s/it]"
     ]
    },
    {
     "name": "stdout",
     "output_type": "stream",
     "text": [
      "QUERY:  Precipitation amount in Zollikofen May 27, 2021 4h\n",
      "QUERY:  temperature in Zollikofen May 27, 2021 4h\n",
      "QUERY:  humidity in Zollikofen May 27, 2021 4h\n",
      "QUERY:  wind speed in Zollikofen May 27, 2021 4h\n",
      "QUERY:  Moon Phase calculatorMay 27, 2021 4h\n"
     ]
    },
    {
     "name": "stderr",
     "output_type": "stream",
     "text": [
      "\r",
      "  6%|████▋                                                                        | 105/1709 [36:19<9:32:44, 21.42s/it]"
     ]
    },
    {
     "name": "stdout",
     "output_type": "stream",
     "text": [
      "QUERY:  Precipitation amount in Zollikofen May 27, 2021 5h\n",
      "QUERY:  temperature in Zollikofen May 27, 2021 5h\n",
      "QUERY:  humidity in Zollikofen May 27, 2021 5h\n",
      "QUERY:  wind speed in Zollikofen May 27, 2021 5h\n",
      "QUERY:  Moon Phase calculatorMay 27, 2021 5h\n"
     ]
    },
    {
     "name": "stderr",
     "output_type": "stream",
     "text": [
      "\r",
      "  6%|████▊                                                                        | 106/1709 [36:39<9:19:21, 20.94s/it]"
     ]
    },
    {
     "name": "stdout",
     "output_type": "stream",
     "text": [
      "QUERY:  Precipitation amount in Zollikofen May 27, 2021 6h\n",
      "QUERY:  temperature in Zollikofen May 27, 2021 6h\n",
      "QUERY:  humidity in Zollikofen May 27, 2021 6h\n",
      "QUERY:  wind speed in Zollikofen May 27, 2021 6h\n",
      "QUERY:  Moon Phase calculatorMay 27, 2021 6h\n"
     ]
    },
    {
     "name": "stderr",
     "output_type": "stream",
     "text": [
      "\r",
      "  6%|████▊                                                                        | 107/1709 [36:59<9:07:36, 20.51s/it]"
     ]
    },
    {
     "name": "stdout",
     "output_type": "stream",
     "text": [
      "QUERY:  Precipitation amount in Zollikofen May 27, 2021 7h\n",
      "QUERY:  temperature in Zollikofen May 27, 2021 7h\n",
      "QUERY:  humidity in Zollikofen May 27, 2021 7h\n",
      "QUERY:  wind speed in Zollikofen May 27, 2021 7h\n",
      "QUERY:  Moon Phase calculatorMay 27, 2021 7h\n"
     ]
    },
    {
     "name": "stderr",
     "output_type": "stream",
     "text": [
      "\r",
      "  6%|████▊                                                                        | 108/1709 [37:19<9:04:16, 20.40s/it]"
     ]
    },
    {
     "name": "stdout",
     "output_type": "stream",
     "text": [
      "QUERY:  Precipitation amount in Zollikofen May 27, 2021 8h\n",
      "QUERY:  temperature in Zollikofen May 27, 2021 8h\n",
      "QUERY:  humidity in Zollikofen May 27, 2021 8h\n",
      "QUERY:  wind speed in Zollikofen May 27, 2021 8h\n",
      "QUERY:  Moon Phase calculatorMay 27, 2021 8h\n"
     ]
    },
    {
     "name": "stderr",
     "output_type": "stream",
     "text": [
      "\r",
      "  6%|████▉                                                                        | 109/1709 [37:39<9:01:59, 20.32s/it]"
     ]
    },
    {
     "name": "stdout",
     "output_type": "stream",
     "text": [
      "QUERY:  Precipitation amount in Zollikofen May 27, 2021 9h\n",
      "QUERY:  temperature in Zollikofen May 27, 2021 9h\n",
      "QUERY:  humidity in Zollikofen May 27, 2021 9h\n",
      "QUERY:  wind speed in Zollikofen May 27, 2021 9h\n",
      "QUERY:  Moon Phase calculatorMay 27, 2021 9h\n"
     ]
    },
    {
     "name": "stderr",
     "output_type": "stream",
     "text": [
      "\r",
      "  6%|████▉                                                                        | 110/1709 [38:00<9:09:27, 20.62s/it]"
     ]
    },
    {
     "name": "stdout",
     "output_type": "stream",
     "text": [
      "QUERY:  Precipitation amount in Zollikofen May 27, 2021 10h\n",
      "QUERY:  temperature in Zollikofen May 27, 2021 10h\n",
      "QUERY:  humidity in Zollikofen May 27, 2021 10h\n",
      "QUERY:  wind speed in Zollikofen May 27, 2021 10h\n",
      "QUERY:  Moon Phase calculatorMay 27, 2021 10h\n",
      "(5771, 7)\n"
     ]
    },
    {
     "data": {
      "text/html": [
       "<div>\n",
       "<style scoped>\n",
       "    .dataframe tbody tr th:only-of-type {\n",
       "        vertical-align: middle;\n",
       "    }\n",
       "\n",
       "    .dataframe tbody tr th {\n",
       "        vertical-align: top;\n",
       "    }\n",
       "\n",
       "    .dataframe thead th {\n",
       "        text-align: right;\n",
       "    }\n",
       "</style>\n",
       "<table border=\"1\" class=\"dataframe\">\n",
       "  <thead>\n",
       "    <tr style=\"text-align: right;\">\n",
       "      <th></th>\n",
       "      <th>date</th>\n",
       "      <th>temperature</th>\n",
       "      <th>humidity</th>\n",
       "      <th>wind speed</th>\n",
       "      <th>Precipitation amount</th>\n",
       "      <th>query</th>\n",
       "      <th>Moon Phase calculator</th>\n",
       "    </tr>\n",
       "  </thead>\n",
       "  <tbody>\n",
       "    <tr>\n",
       "      <th>8</th>\n",
       "      <td>2021-05-27 09:00:00</td>\n",
       "      <td>11 °C\\n(9:00 am CEST | Thursday, May 27, 2021)</td>\n",
       "      <td>average: 77% (77%)\\n(9:00 am CEST | Thursday, ...</td>\n",
       "      <td>5 m/s\\n(9:00 am CEST | Thursday, May 27, 2021)</td>\n",
       "      <td>no precipitation\\n(9:00 am CEST | Thursday, Ma...</td>\n",
       "      <td>Moon Phase calculatorMay 27, 2021 9h</td>\n",
       "      <td>| waning gibbous moon\\n98.97% illuminated</td>\n",
       "    </tr>\n",
       "    <tr>\n",
       "      <th>9</th>\n",
       "      <td>2021-05-27 10:00:00</td>\n",
       "      <td>10 °C\\n(10:00 am CEST | Thursday, May 27, 2021)</td>\n",
       "      <td>average: 82% (82%)\\n(10:00 am CEST | Thursday,...</td>\n",
       "      <td>5 m/s\\n(10:00 am CEST | Thursday, May 27, 2021)</td>\n",
       "      <td>no precipitation\\n(10:00 am CEST | Thursday, M...</td>\n",
       "      <td>Moon Phase calculatorMay 27, 2021 10h</td>\n",
       "      <td>| waning gibbous moon\\n98.86% illuminated</td>\n",
       "    </tr>\n",
       "  </tbody>\n",
       "</table>\n",
       "</div>"
      ],
      "text/plain": [
       "                 date                                      temperature  \\\n",
       "8 2021-05-27 09:00:00   11 °C\\n(9:00 am CEST | Thursday, May 27, 2021)   \n",
       "9 2021-05-27 10:00:00  10 °C\\n(10:00 am CEST | Thursday, May 27, 2021)   \n",
       "\n",
       "                                            humidity  \\\n",
       "8  average: 77% (77%)\\n(9:00 am CEST | Thursday, ...   \n",
       "9  average: 82% (82%)\\n(10:00 am CEST | Thursday,...   \n",
       "\n",
       "                                        wind speed  \\\n",
       "8   5 m/s\\n(9:00 am CEST | Thursday, May 27, 2021)   \n",
       "9  5 m/s\\n(10:00 am CEST | Thursday, May 27, 2021)   \n",
       "\n",
       "                                Precipitation amount  \\\n",
       "8  no precipitation\\n(9:00 am CEST | Thursday, Ma...   \n",
       "9  no precipitation\\n(10:00 am CEST | Thursday, M...   \n",
       "\n",
       "                                   query  \\\n",
       "8   Moon Phase calculatorMay 27, 2021 9h   \n",
       "9  Moon Phase calculatorMay 27, 2021 10h   \n",
       "\n",
       "                       Moon Phase calculator  \n",
       "8  | waning gibbous moon\\n98.97% illuminated  \n",
       "9  | waning gibbous moon\\n98.86% illuminated  "
      ]
     },
     "metadata": {},
     "output_type": "display_data"
    },
    {
     "name": "stderr",
     "output_type": "stream",
     "text": [
      "\r",
      "  6%|█████                                                                        | 111/1709 [38:21<9:09:23, 20.63s/it]"
     ]
    },
    {
     "name": "stdout",
     "output_type": "stream",
     "text": [
      "QUERY:  Precipitation amount in Zollikofen May 27, 2021 11h\n",
      "QUERY:  temperature in Zollikofen May 27, 2021 11h\n",
      "QUERY:  humidity in Zollikofen May 27, 2021 11h\n",
      "QUERY:  wind speed in Zollikofen May 27, 2021 11h\n",
      "QUERY:  Moon Phase calculatorMay 27, 2021 11h\n"
     ]
    },
    {
     "name": "stderr",
     "output_type": "stream",
     "text": [
      "\r",
      "  7%|█████                                                                        | 112/1709 [38:42<9:13:45, 20.81s/it]"
     ]
    },
    {
     "name": "stdout",
     "output_type": "stream",
     "text": [
      "QUERY:  Precipitation amount in Zollikofen May 27, 2021 12h\n",
      "QUERY:  temperature in Zollikofen May 27, 2021 12h\n",
      "QUERY:  humidity in Zollikofen May 27, 2021 12h\n",
      "QUERY:  wind speed in Zollikofen May 27, 2021 12h\n",
      "QUERY:  Moon Phase calculatorMay 27, 2021 12h\n"
     ]
    },
    {
     "name": "stderr",
     "output_type": "stream",
     "text": [
      "\r",
      "  7%|█████                                                                        | 113/1709 [39:03<9:13:36, 20.81s/it]"
     ]
    },
    {
     "name": "stdout",
     "output_type": "stream",
     "text": [
      "QUERY:  Precipitation amount in Zollikofen May 27, 2021 13h\n",
      "QUERY:  temperature in Zollikofen May 27, 2021 13h\n",
      "QUERY:  humidity in Zollikofen May 27, 2021 13h\n",
      "QUERY:  wind speed in Zollikofen May 27, 2021 13h\n",
      "QUERY:  Moon Phase calculatorMay 27, 2021 13h\n"
     ]
    },
    {
     "name": "stderr",
     "output_type": "stream",
     "text": [
      "\r",
      "  7%|█████▏                                                                       | 114/1709 [39:24<9:11:10, 20.73s/it]"
     ]
    },
    {
     "name": "stdout",
     "output_type": "stream",
     "text": [
      "QUERY:  Precipitation amount in Zollikofen May 27, 2021 14h\n",
      "QUERY:  temperature in Zollikofen May 27, 2021 14h\n",
      "QUERY:  humidity in Zollikofen May 27, 2021 14h\n",
      "QUERY:  wind speed in Zollikofen May 27, 2021 14h\n",
      "QUERY:  Moon Phase calculatorMay 27, 2021 14h\n"
     ]
    },
    {
     "name": "stderr",
     "output_type": "stream",
     "text": [
      "\r",
      "  7%|█████▏                                                                       | 115/1709 [39:44<9:09:33, 20.69s/it]"
     ]
    },
    {
     "name": "stdout",
     "output_type": "stream",
     "text": [
      "QUERY:  Precipitation amount in Zollikofen May 27, 2021 15h\n",
      "QUERY:  temperature in Zollikofen May 27, 2021 15h\n",
      "QUERY:  humidity in Zollikofen May 27, 2021 15h\n",
      "QUERY:  wind speed in Zollikofen May 27, 2021 15h\n",
      "QUERY:  Moon Phase calculatorMay 27, 2021 15h\n"
     ]
    },
    {
     "name": "stderr",
     "output_type": "stream",
     "text": [
      "\r",
      "  7%|█████▏                                                                       | 116/1709 [40:05<9:13:28, 20.85s/it]"
     ]
    },
    {
     "name": "stdout",
     "output_type": "stream",
     "text": [
      "QUERY:  Precipitation amount in Zollikofen May 27, 2021 16h\n",
      "QUERY:  temperature in Zollikofen May 27, 2021 16h\n",
      "QUERY:  humidity in Zollikofen May 27, 2021 16h\n",
      "QUERY:  wind speed in Zollikofen May 27, 2021 16h\n",
      "QUERY:  Moon Phase calculatorMay 27, 2021 16h\n"
     ]
    },
    {
     "name": "stderr",
     "output_type": "stream",
     "text": [
      "\r",
      "  7%|█████▎                                                                       | 117/1709 [40:27<9:15:47, 20.95s/it]"
     ]
    },
    {
     "name": "stdout",
     "output_type": "stream",
     "text": [
      "QUERY:  Precipitation amount in Zollikofen May 27, 2021 17h\n",
      "QUERY:  temperature in Zollikofen May 27, 2021 17h\n",
      "QUERY:  humidity in Zollikofen May 27, 2021 17h\n",
      "QUERY:  wind speed in Zollikofen May 27, 2021 17h\n",
      "QUERY:  Moon Phase calculatorMay 27, 2021 17h\n"
     ]
    },
    {
     "name": "stderr",
     "output_type": "stream",
     "text": [
      "\r",
      "  7%|█████▎                                                                       | 118/1709 [40:47<9:10:10, 20.75s/it]"
     ]
    },
    {
     "name": "stdout",
     "output_type": "stream",
     "text": [
      "QUERY:  Precipitation amount in Zollikofen May 27, 2021 18h\n",
      "QUERY:  temperature in Zollikofen May 27, 2021 18h\n",
      "QUERY:  humidity in Zollikofen May 27, 2021 18h\n",
      "QUERY:  wind speed in Zollikofen May 27, 2021 18h\n",
      "QUERY:  Moon Phase calculatorMay 27, 2021 18h\n"
     ]
    },
    {
     "name": "stderr",
     "output_type": "stream",
     "text": [
      "\r",
      "  7%|█████▎                                                                       | 119/1709 [41:09<9:20:39, 21.16s/it]"
     ]
    },
    {
     "name": "stdout",
     "output_type": "stream",
     "text": [
      "QUERY:  Precipitation amount in Zollikofen May 27, 2021 19h\n",
      "QUERY:  temperature in Zollikofen May 27, 2021 19h\n",
      "QUERY:  humidity in Zollikofen May 27, 2021 19h\n",
      "QUERY:  wind speed in Zollikofen May 27, 2021 19h\n",
      "QUERY:  Moon Phase calculatorMay 27, 2021 19h\n"
     ]
    },
    {
     "name": "stderr",
     "output_type": "stream",
     "text": [
      "\r",
      "  7%|█████▍                                                                       | 120/1709 [41:29<9:14:55, 20.95s/it]"
     ]
    },
    {
     "name": "stdout",
     "output_type": "stream",
     "text": [
      "QUERY:  Precipitation amount in Zollikofen May 27, 2021 20h\n",
      "QUERY:  temperature in Zollikofen May 27, 2021 20h\n",
      "QUERY:  humidity in Zollikofen May 27, 2021 20h\n",
      "QUERY:  wind speed in Zollikofen May 27, 2021 20h\n",
      "QUERY:  Moon Phase calculatorMay 27, 2021 20h\n",
      "(5781, 7)\n"
     ]
    },
    {
     "data": {
      "text/html": [
       "<div>\n",
       "<style scoped>\n",
       "    .dataframe tbody tr th:only-of-type {\n",
       "        vertical-align: middle;\n",
       "    }\n",
       "\n",
       "    .dataframe tbody tr th {\n",
       "        vertical-align: top;\n",
       "    }\n",
       "\n",
       "    .dataframe thead th {\n",
       "        text-align: right;\n",
       "    }\n",
       "</style>\n",
       "<table border=\"1\" class=\"dataframe\">\n",
       "  <thead>\n",
       "    <tr style=\"text-align: right;\">\n",
       "      <th></th>\n",
       "      <th>date</th>\n",
       "      <th>temperature</th>\n",
       "      <th>humidity</th>\n",
       "      <th>wind speed</th>\n",
       "      <th>Precipitation amount</th>\n",
       "      <th>query</th>\n",
       "      <th>Moon Phase calculator</th>\n",
       "    </tr>\n",
       "  </thead>\n",
       "  <tbody>\n",
       "    <tr>\n",
       "      <th>8</th>\n",
       "      <td>2021-05-27 19:00:00</td>\n",
       "      <td>15 °C\\n(7:00 pm CEST | Thursday, May 27, 2021)</td>\n",
       "      <td>average: 65% (63 to 67%)\\n(7:00 pm CEST | Thur...</td>\n",
       "      <td>3 m/s\\n(7:00 pm CEST | Thursday, May 27, 2021)</td>\n",
       "      <td>no precipitation\\n(7:00 pm CEST | Thursday, Ma...</td>\n",
       "      <td>Moon Phase calculatorMay 27, 2021 19h</td>\n",
       "      <td>| waning gibbous moon\\n97.67% illuminated</td>\n",
       "    </tr>\n",
       "    <tr>\n",
       "      <th>9</th>\n",
       "      <td>2021-05-27 20:00:00</td>\n",
       "      <td>14 °C\\n(8:00 pm CEST | Thursday, May 27, 2021)</td>\n",
       "      <td>average: 63% (59 to 67%)\\n(8:00 pm CEST | Thur...</td>\n",
       "      <td>3 m/s\\n(8:00 pm CEST | Thursday, May 27, 2021)</td>\n",
       "      <td>no precipitation\\n(8:00 pm CEST | Thursday, Ma...</td>\n",
       "      <td>Moon Phase calculatorMay 27, 2021 20h</td>\n",
       "      <td>| waning gibbous moon\\n97.52% illuminated</td>\n",
       "    </tr>\n",
       "  </tbody>\n",
       "</table>\n",
       "</div>"
      ],
      "text/plain": [
       "                 date                                     temperature  \\\n",
       "8 2021-05-27 19:00:00  15 °C\\n(7:00 pm CEST | Thursday, May 27, 2021)   \n",
       "9 2021-05-27 20:00:00  14 °C\\n(8:00 pm CEST | Thursday, May 27, 2021)   \n",
       "\n",
       "                                            humidity  \\\n",
       "8  average: 65% (63 to 67%)\\n(7:00 pm CEST | Thur...   \n",
       "9  average: 63% (59 to 67%)\\n(8:00 pm CEST | Thur...   \n",
       "\n",
       "                                       wind speed  \\\n",
       "8  3 m/s\\n(7:00 pm CEST | Thursday, May 27, 2021)   \n",
       "9  3 m/s\\n(8:00 pm CEST | Thursday, May 27, 2021)   \n",
       "\n",
       "                                Precipitation amount  \\\n",
       "8  no precipitation\\n(7:00 pm CEST | Thursday, Ma...   \n",
       "9  no precipitation\\n(8:00 pm CEST | Thursday, Ma...   \n",
       "\n",
       "                                   query  \\\n",
       "8  Moon Phase calculatorMay 27, 2021 19h   \n",
       "9  Moon Phase calculatorMay 27, 2021 20h   \n",
       "\n",
       "                       Moon Phase calculator  \n",
       "8  | waning gibbous moon\\n97.67% illuminated  \n",
       "9  | waning gibbous moon\\n97.52% illuminated  "
      ]
     },
     "metadata": {},
     "output_type": "display_data"
    },
    {
     "name": "stderr",
     "output_type": "stream",
     "text": [
      "\r",
      "  7%|█████▍                                                                       | 121/1709 [41:50<9:11:13, 20.83s/it]"
     ]
    },
    {
     "name": "stdout",
     "output_type": "stream",
     "text": [
      "QUERY:  Precipitation amount in Zollikofen May 27, 2021 21h\n",
      "QUERY:  temperature in Zollikofen May 27, 2021 21h\n",
      "QUERY:  humidity in Zollikofen May 27, 2021 21h\n",
      "QUERY:  wind speed in Zollikofen May 27, 2021 21h\n",
      "QUERY:  Moon Phase calculatorMay 27, 2021 21h\n"
     ]
    },
    {
     "name": "stderr",
     "output_type": "stream",
     "text": [
      "\r",
      "  7%|█████▍                                                                       | 122/1709 [42:11<9:12:58, 20.91s/it]"
     ]
    },
    {
     "name": "stdout",
     "output_type": "stream",
     "text": [
      "QUERY:  Precipitation amount in Zollikofen May 27, 2021 22h\n",
      "QUERY:  temperature in Zollikofen May 27, 2021 22h\n",
      "QUERY:  humidity in Zollikofen May 27, 2021 22h\n",
      "QUERY:  wind speed in Zollikofen May 27, 2021 22h\n",
      "QUERY:  Moon Phase calculatorMay 27, 2021 22h\n"
     ]
    },
    {
     "name": "stderr",
     "output_type": "stream",
     "text": [
      "\r",
      "  7%|█████▌                                                                       | 123/1709 [42:31<9:02:28, 20.52s/it]"
     ]
    },
    {
     "name": "stdout",
     "output_type": "stream",
     "text": [
      "QUERY:  Precipitation amount in Zollikofen May 27, 2021 23h\n",
      "QUERY:  temperature in Zollikofen May 27, 2021 23h\n",
      "QUERY:  humidity in Zollikofen May 27, 2021 23h\n",
      "QUERY:  wind speed in Zollikofen May 27, 2021 23h\n",
      "QUERY:  Moon Phase calculatorMay 27, 2021 23h\n"
     ]
    },
    {
     "name": "stderr",
     "output_type": "stream",
     "text": [
      "\r",
      "  7%|█████▌                                                                       | 124/1709 [42:53<9:17:56, 21.12s/it]"
     ]
    },
    {
     "name": "stdout",
     "output_type": "stream",
     "text": [
      "QUERY:  Precipitation amount in Zollikofen May 28, 2021 0h\n",
      "QUERY:  temperature in Zollikofen May 28, 2021 0h\n",
      "QUERY:  humidity in Zollikofen May 28, 2021 0h\n",
      "QUERY:  wind speed in Zollikofen May 28, 2021 0h\n",
      "QUERY:  Moon Phase calculatorMay 28, 2021 0h\n"
     ]
    },
    {
     "name": "stderr",
     "output_type": "stream",
     "text": [
      "\r",
      "  7%|█████▋                                                                       | 125/1709 [43:13<9:07:36, 20.74s/it]"
     ]
    },
    {
     "name": "stdout",
     "output_type": "stream",
     "text": [
      "QUERY:  Precipitation amount in Zollikofen May 28, 2021 1h\n",
      "QUERY:  temperature in Zollikofen May 28, 2021 1h\n",
      "QUERY:  humidity in Zollikofen May 28, 2021 1h\n",
      "QUERY:  wind speed in Zollikofen May 28, 2021 1h\n",
      "QUERY:  Moon Phase calculatorMay 28, 2021 1h\n"
     ]
    },
    {
     "name": "stderr",
     "output_type": "stream",
     "text": [
      "\r",
      "  7%|█████▋                                                                       | 126/1709 [43:33<9:01:09, 20.51s/it]"
     ]
    },
    {
     "name": "stdout",
     "output_type": "stream",
     "text": [
      "QUERY:  Precipitation amount in Zollikofen May 28, 2021 2h\n",
      "QUERY:  temperature in Zollikofen May 28, 2021 2h\n",
      "QUERY:  humidity in Zollikofen May 28, 2021 2h\n",
      "QUERY:  wind speed in Zollikofen May 28, 2021 2h\n",
      "QUERY:  Moon Phase calculatorMay 28, 2021 2h\n"
     ]
    },
    {
     "name": "stderr",
     "output_type": "stream",
     "text": [
      "\r",
      "  7%|█████▋                                                                       | 127/1709 [43:55<9:11:06, 20.90s/it]"
     ]
    },
    {
     "name": "stdout",
     "output_type": "stream",
     "text": [
      "QUERY:  Precipitation amount in Zollikofen May 28, 2021 3h\n",
      "QUERY:  temperature in Zollikofen May 28, 2021 3h\n",
      "QUERY:  humidity in Zollikofen May 28, 2021 3h\n",
      "QUERY:  wind speed in Zollikofen May 28, 2021 3h\n",
      "QUERY:  Moon Phase calculatorMay 28, 2021 3h\n"
     ]
    },
    {
     "name": "stderr",
     "output_type": "stream",
     "text": [
      "\r",
      "  7%|█████▊                                                                       | 128/1709 [44:16<9:09:15, 20.84s/it]"
     ]
    },
    {
     "name": "stdout",
     "output_type": "stream",
     "text": [
      "QUERY:  Precipitation amount in Zollikofen May 28, 2021 4h\n",
      "QUERY:  temperature in Zollikofen May 28, 2021 4h\n",
      "QUERY:  humidity in Zollikofen May 28, 2021 4h\n",
      "QUERY:  wind speed in Zollikofen May 28, 2021 4h\n",
      "QUERY:  Moon Phase calculatorMay 28, 2021 4h\n"
     ]
    },
    {
     "name": "stderr",
     "output_type": "stream",
     "text": [
      "\r",
      "  8%|█████▊                                                                       | 129/1709 [44:35<9:00:09, 20.51s/it]"
     ]
    },
    {
     "name": "stdout",
     "output_type": "stream",
     "text": [
      "QUERY:  Precipitation amount in Zollikofen May 28, 2021 5h\n",
      "QUERY:  temperature in Zollikofen May 28, 2021 5h\n",
      "QUERY:  humidity in Zollikofen May 28, 2021 5h\n",
      "QUERY:  wind speed in Zollikofen May 28, 2021 5h\n",
      "QUERY:  Moon Phase calculatorMay 28, 2021 5h\n"
     ]
    },
    {
     "name": "stderr",
     "output_type": "stream",
     "text": [
      "\r",
      "  8%|█████▊                                                                       | 130/1709 [44:56<9:02:47, 20.63s/it]"
     ]
    },
    {
     "name": "stdout",
     "output_type": "stream",
     "text": [
      "QUERY:  Precipitation amount in Zollikofen May 28, 2021 6h\n",
      "QUERY:  temperature in Zollikofen May 28, 2021 6h\n",
      "QUERY:  humidity in Zollikofen May 28, 2021 6h\n",
      "QUERY:  wind speed in Zollikofen May 28, 2021 6h\n",
      "QUERY:  Moon Phase calculatorMay 28, 2021 6h\n",
      "(5791, 7)\n"
     ]
    },
    {
     "data": {
      "text/html": [
       "<div>\n",
       "<style scoped>\n",
       "    .dataframe tbody tr th:only-of-type {\n",
       "        vertical-align: middle;\n",
       "    }\n",
       "\n",
       "    .dataframe tbody tr th {\n",
       "        vertical-align: top;\n",
       "    }\n",
       "\n",
       "    .dataframe thead th {\n",
       "        text-align: right;\n",
       "    }\n",
       "</style>\n",
       "<table border=\"1\" class=\"dataframe\">\n",
       "  <thead>\n",
       "    <tr style=\"text-align: right;\">\n",
       "      <th></th>\n",
       "      <th>date</th>\n",
       "      <th>temperature</th>\n",
       "      <th>humidity</th>\n",
       "      <th>wind speed</th>\n",
       "      <th>Precipitation amount</th>\n",
       "      <th>query</th>\n",
       "      <th>Moon Phase calculator</th>\n",
       "    </tr>\n",
       "  </thead>\n",
       "  <tbody>\n",
       "    <tr>\n",
       "      <th>8</th>\n",
       "      <td>2021-05-28 05:00:00</td>\n",
       "      <td>5 °C\\n(5:00 am CEST | Friday, May 28, 2021)</td>\n",
       "      <td>average: 100% (100%)\\n(5:00 am CEST | Friday, ...</td>\n",
       "      <td>1 m/s\\n(5:00 am CEST | Friday, May 28, 2021)</td>\n",
       "      <td>no precipitation\\n(5:00 am CEST | Friday, May ...</td>\n",
       "      <td>Moon Phase calculatorMay 28, 2021 5h</td>\n",
       "      <td>| waning gibbous moon\\n95.90% illuminated</td>\n",
       "    </tr>\n",
       "    <tr>\n",
       "      <th>9</th>\n",
       "      <td>2021-05-28 06:00:00</td>\n",
       "      <td>5 °C\\n(6:00 am CEST | Friday, May 28, 2021)</td>\n",
       "      <td>average: 100% (100%)\\n(6:00 am CEST | Friday, ...</td>\n",
       "      <td>1 m/s\\n(6:00 am CEST | Friday, May 28, 2021)</td>\n",
       "      <td>no precipitation\\n(6:00 am CEST | Friday, May ...</td>\n",
       "      <td>Moon Phase calculatorMay 28, 2021 6h</td>\n",
       "      <td>| waning gibbous moon\\n95.70% illuminated</td>\n",
       "    </tr>\n",
       "  </tbody>\n",
       "</table>\n",
       "</div>"
      ],
      "text/plain": [
       "                 date                                  temperature  \\\n",
       "8 2021-05-28 05:00:00  5 °C\\n(5:00 am CEST | Friday, May 28, 2021)   \n",
       "9 2021-05-28 06:00:00  5 °C\\n(6:00 am CEST | Friday, May 28, 2021)   \n",
       "\n",
       "                                            humidity  \\\n",
       "8  average: 100% (100%)\\n(5:00 am CEST | Friday, ...   \n",
       "9  average: 100% (100%)\\n(6:00 am CEST | Friday, ...   \n",
       "\n",
       "                                     wind speed  \\\n",
       "8  1 m/s\\n(5:00 am CEST | Friday, May 28, 2021)   \n",
       "9  1 m/s\\n(6:00 am CEST | Friday, May 28, 2021)   \n",
       "\n",
       "                                Precipitation amount  \\\n",
       "8  no precipitation\\n(5:00 am CEST | Friday, May ...   \n",
       "9  no precipitation\\n(6:00 am CEST | Friday, May ...   \n",
       "\n",
       "                                  query  \\\n",
       "8  Moon Phase calculatorMay 28, 2021 5h   \n",
       "9  Moon Phase calculatorMay 28, 2021 6h   \n",
       "\n",
       "                       Moon Phase calculator  \n",
       "8  | waning gibbous moon\\n95.90% illuminated  \n",
       "9  | waning gibbous moon\\n95.70% illuminated  "
      ]
     },
     "metadata": {},
     "output_type": "display_data"
    },
    {
     "name": "stderr",
     "output_type": "stream",
     "text": [
      "\r",
      "  8%|█████▉                                                                       | 131/1709 [45:16<8:54:23, 20.32s/it]"
     ]
    },
    {
     "name": "stdout",
     "output_type": "stream",
     "text": [
      "QUERY:  Precipitation amount in Zollikofen May 28, 2021 7h\n",
      "QUERY:  temperature in Zollikofen May 28, 2021 7h\n",
      "QUERY:  humidity in Zollikofen May 28, 2021 7h\n",
      "QUERY:  wind speed in Zollikofen May 28, 2021 7h\n",
      "QUERY:  Moon Phase calculatorMay 28, 2021 7h\n"
     ]
    },
    {
     "name": "stderr",
     "output_type": "stream",
     "text": [
      "\r",
      "  8%|█████▉                                                                       | 132/1709 [45:35<8:42:52, 19.89s/it]"
     ]
    },
    {
     "name": "stdout",
     "output_type": "stream",
     "text": [
      "QUERY:  Precipitation amount in Zollikofen May 28, 2021 8h\n",
      "QUERY:  temperature in Zollikofen May 28, 2021 8h\n",
      "QUERY:  humidity in Zollikofen May 28, 2021 8h\n",
      "QUERY:  wind speed in Zollikofen May 28, 2021 8h\n",
      "QUERY:  Moon Phase calculatorMay 28, 2021 8h\n"
     ]
    },
    {
     "name": "stderr",
     "output_type": "stream",
     "text": [
      "\r",
      "  8%|█████▉                                                                       | 133/1709 [45:55<8:43:57, 19.95s/it]"
     ]
    },
    {
     "name": "stdout",
     "output_type": "stream",
     "text": [
      "QUERY:  Precipitation amount in Zollikofen May 28, 2021 9h\n",
      "QUERY:  temperature in Zollikofen May 28, 2021 9h\n",
      "QUERY:  humidity in Zollikofen May 28, 2021 9h\n",
      "QUERY:  wind speed in Zollikofen May 28, 2021 9h\n",
      "QUERY:  Moon Phase calculatorMay 28, 2021 9h\n"
     ]
    },
    {
     "name": "stderr",
     "output_type": "stream",
     "text": [
      "\r",
      "  8%|██████                                                                       | 134/1709 [46:16<8:55:02, 20.38s/it]"
     ]
    },
    {
     "name": "stdout",
     "output_type": "stream",
     "text": [
      "QUERY:  Precipitation amount in Zollikofen May 28, 2021 10h\n",
      "QUERY:  temperature in Zollikofen May 28, 2021 10h\n",
      "QUERY:  humidity in Zollikofen May 28, 2021 10h\n",
      "QUERY:  wind speed in Zollikofen May 28, 2021 10h\n",
      "QUERY:  Moon Phase calculatorMay 28, 2021 10h\n"
     ]
    },
    {
     "name": "stderr",
     "output_type": "stream",
     "text": [
      "\r",
      "  8%|██████                                                                       | 135/1709 [46:38<9:03:31, 20.72s/it]"
     ]
    },
    {
     "name": "stdout",
     "output_type": "stream",
     "text": [
      "QUERY:  Precipitation amount in Zollikofen May 28, 2021 11h\n",
      "QUERY:  temperature in Zollikofen May 28, 2021 11h\n",
      "QUERY:  humidity in Zollikofen May 28, 2021 11h\n",
      "QUERY:  wind speed in Zollikofen May 28, 2021 11h\n",
      "QUERY:  Moon Phase calculatorMay 28, 2021 11h\n"
     ]
    },
    {
     "name": "stderr",
     "output_type": "stream",
     "text": [
      "\r",
      "  8%|██████▏                                                                      | 136/1709 [47:00<9:14:11, 21.14s/it]"
     ]
    },
    {
     "name": "stdout",
     "output_type": "stream",
     "text": [
      "QUERY:  Precipitation amount in Zollikofen May 28, 2021 12h\n",
      "QUERY:  temperature in Zollikofen May 28, 2021 12h\n",
      "QUERY:  humidity in Zollikofen May 28, 2021 12h\n",
      "QUERY:  wind speed in Zollikofen May 28, 2021 12h\n",
      "QUERY:  Moon Phase calculatorMay 28, 2021 12h\n"
     ]
    },
    {
     "name": "stderr",
     "output_type": "stream",
     "text": [
      "\r",
      "  8%|██████▏                                                                      | 137/1709 [47:22<9:26:22, 21.62s/it]"
     ]
    },
    {
     "name": "stdout",
     "output_type": "stream",
     "text": [
      "QUERY:  Precipitation amount in Zollikofen May 28, 2021 13h\n",
      "QUERY:  temperature in Zollikofen May 28, 2021 13h\n",
      "QUERY:  humidity in Zollikofen May 28, 2021 13h\n",
      "QUERY:  wind speed in Zollikofen May 28, 2021 13h\n",
      "QUERY:  Moon Phase calculatorMay 28, 2021 13h\n"
     ]
    },
    {
     "name": "stderr",
     "output_type": "stream",
     "text": [
      "\r",
      "  8%|██████▏                                                                      | 138/1709 [47:44<9:25:07, 21.58s/it]"
     ]
    },
    {
     "name": "stdout",
     "output_type": "stream",
     "text": [
      "QUERY:  Precipitation amount in Zollikofen May 28, 2021 14h\n",
      "QUERY:  temperature in Zollikofen May 28, 2021 14h\n",
      "QUERY:  humidity in Zollikofen May 28, 2021 14h\n",
      "QUERY:  wind speed in Zollikofen May 28, 2021 14h\n",
      "QUERY:  Moon Phase calculatorMay 28, 2021 14h\n"
     ]
    },
    {
     "name": "stderr",
     "output_type": "stream",
     "text": [
      "\r",
      "  8%|██████▎                                                                      | 139/1709 [48:05<9:24:08, 21.56s/it]"
     ]
    },
    {
     "name": "stdout",
     "output_type": "stream",
     "text": [
      "QUERY:  Precipitation amount in Zollikofen May 28, 2021 15h\n",
      "QUERY:  temperature in Zollikofen May 28, 2021 15h\n",
      "QUERY:  humidity in Zollikofen May 28, 2021 15h\n",
      "QUERY:  wind speed in Zollikofen May 28, 2021 15h\n",
      "QUERY:  Moon Phase calculatorMay 28, 2021 15h\n"
     ]
    },
    {
     "name": "stderr",
     "output_type": "stream",
     "text": [
      "\r",
      "  8%|██████▎                                                                      | 140/1709 [48:27<9:26:34, 21.67s/it]"
     ]
    },
    {
     "name": "stdout",
     "output_type": "stream",
     "text": [
      "QUERY:  Precipitation amount in Zollikofen May 28, 2021 16h\n",
      "QUERY:  temperature in Zollikofen May 28, 2021 16h\n",
      "QUERY:  humidity in Zollikofen May 28, 2021 16h\n",
      "QUERY:  wind speed in Zollikofen May 28, 2021 16h\n",
      "QUERY:  Moon Phase calculatorMay 28, 2021 16h\n",
      "(5801, 7)\n"
     ]
    },
    {
     "data": {
      "text/html": [
       "<div>\n",
       "<style scoped>\n",
       "    .dataframe tbody tr th:only-of-type {\n",
       "        vertical-align: middle;\n",
       "    }\n",
       "\n",
       "    .dataframe tbody tr th {\n",
       "        vertical-align: top;\n",
       "    }\n",
       "\n",
       "    .dataframe thead th {\n",
       "        text-align: right;\n",
       "    }\n",
       "</style>\n",
       "<table border=\"1\" class=\"dataframe\">\n",
       "  <thead>\n",
       "    <tr style=\"text-align: right;\">\n",
       "      <th></th>\n",
       "      <th>date</th>\n",
       "      <th>temperature</th>\n",
       "      <th>humidity</th>\n",
       "      <th>wind speed</th>\n",
       "      <th>Precipitation amount</th>\n",
       "      <th>query</th>\n",
       "      <th>Moon Phase calculator</th>\n",
       "    </tr>\n",
       "  </thead>\n",
       "  <tbody>\n",
       "    <tr>\n",
       "      <th>8</th>\n",
       "      <td>2021-05-28 15:00:00</td>\n",
       "      <td>20 °C\\n(3:00 pm CEST | Friday, May 28, 2021)</td>\n",
       "      <td>average: 42% (41 to 43%)\\n(3:00 pm CEST | Frid...</td>\n",
       "      <td>4 m/s\\n(3:00 pm CEST | Friday, May 28, 2021)</td>\n",
       "      <td>no precipitation\\n(3:00 pm CEST | Friday, May ...</td>\n",
       "      <td>Moon Phase calculatorMay 28, 2021 15h</td>\n",
       "      <td>| waning gibbous moon\\n93.67% illuminated</td>\n",
       "    </tr>\n",
       "    <tr>\n",
       "      <th>9</th>\n",
       "      <td>2021-05-28 16:00:00</td>\n",
       "      <td>20 °C\\n(4:00 pm CEST | Friday, May 28, 2021)</td>\n",
       "      <td>average: 45% (43 to 46%)\\n(4:00 pm CEST | Frid...</td>\n",
       "      <td>4 m/s\\n(4:00 pm CEST | Friday, May 28, 2021)</td>\n",
       "      <td>no precipitation\\n(4:00 pm CEST | Friday, May ...</td>\n",
       "      <td>Moon Phase calculatorMay 28, 2021 16h</td>\n",
       "      <td>| waning gibbous moon\\n93.43% illuminated</td>\n",
       "    </tr>\n",
       "  </tbody>\n",
       "</table>\n",
       "</div>"
      ],
      "text/plain": [
       "                 date                                   temperature  \\\n",
       "8 2021-05-28 15:00:00  20 °C\\n(3:00 pm CEST | Friday, May 28, 2021)   \n",
       "9 2021-05-28 16:00:00  20 °C\\n(4:00 pm CEST | Friday, May 28, 2021)   \n",
       "\n",
       "                                            humidity  \\\n",
       "8  average: 42% (41 to 43%)\\n(3:00 pm CEST | Frid...   \n",
       "9  average: 45% (43 to 46%)\\n(4:00 pm CEST | Frid...   \n",
       "\n",
       "                                     wind speed  \\\n",
       "8  4 m/s\\n(3:00 pm CEST | Friday, May 28, 2021)   \n",
       "9  4 m/s\\n(4:00 pm CEST | Friday, May 28, 2021)   \n",
       "\n",
       "                                Precipitation amount  \\\n",
       "8  no precipitation\\n(3:00 pm CEST | Friday, May ...   \n",
       "9  no precipitation\\n(4:00 pm CEST | Friday, May ...   \n",
       "\n",
       "                                   query  \\\n",
       "8  Moon Phase calculatorMay 28, 2021 15h   \n",
       "9  Moon Phase calculatorMay 28, 2021 16h   \n",
       "\n",
       "                       Moon Phase calculator  \n",
       "8  | waning gibbous moon\\n93.67% illuminated  \n",
       "9  | waning gibbous moon\\n93.43% illuminated  "
      ]
     },
     "metadata": {},
     "output_type": "display_data"
    },
    {
     "name": "stderr",
     "output_type": "stream",
     "text": [
      "\r",
      "  8%|██████▎                                                                      | 141/1709 [48:48<9:21:26, 21.48s/it]"
     ]
    },
    {
     "name": "stdout",
     "output_type": "stream",
     "text": [
      "QUERY:  Precipitation amount in Zollikofen May 28, 2021 17h\n",
      "QUERY:  temperature in Zollikofen May 28, 2021 17h\n",
      "QUERY:  humidity in Zollikofen May 28, 2021 17h\n",
      "QUERY:  wind speed in Zollikofen May 28, 2021 17h\n",
      "QUERY:  Moon Phase calculatorMay 28, 2021 17h\n"
     ]
    },
    {
     "name": "stderr",
     "output_type": "stream",
     "text": [
      "\r",
      "  8%|██████▍                                                                      | 142/1709 [49:10<9:21:35, 21.50s/it]"
     ]
    },
    {
     "name": "stdout",
     "output_type": "stream",
     "text": [
      "QUERY:  Precipitation amount in Zollikofen May 28, 2021 18h\n",
      "QUERY:  temperature in Zollikofen May 28, 2021 18h\n",
      "QUERY:  humidity in Zollikofen May 28, 2021 18h\n",
      "QUERY:  wind speed in Zollikofen May 28, 2021 18h\n",
      "QUERY:  Moon Phase calculatorMay 28, 2021 18h\n"
     ]
    },
    {
     "name": "stderr",
     "output_type": "stream",
     "text": [
      "\r",
      "  8%|██████▍                                                                      | 143/1709 [49:31<9:18:14, 21.39s/it]"
     ]
    },
    {
     "name": "stdout",
     "output_type": "stream",
     "text": [
      "QUERY:  Precipitation amount in Zollikofen May 28, 2021 19h\n",
      "QUERY:  temperature in Zollikofen May 28, 2021 19h\n",
      "QUERY:  humidity in Zollikofen May 28, 2021 19h\n",
      "QUERY:  wind speed in Zollikofen May 28, 2021 19h\n",
      "QUERY:  Moon Phase calculatorMay 28, 2021 19h\n"
     ]
    },
    {
     "name": "stderr",
     "output_type": "stream",
     "text": [
      "\r",
      "  8%|██████▍                                                                      | 144/1709 [49:53<9:21:42, 21.54s/it]"
     ]
    },
    {
     "name": "stdout",
     "output_type": "stream",
     "text": [
      "QUERY:  Precipitation amount in Zollikofen May 28, 2021 20h\n",
      "QUERY:  temperature in Zollikofen May 28, 2021 20h\n",
      "QUERY:  humidity in Zollikofen May 28, 2021 20h\n",
      "QUERY:  wind speed in Zollikofen May 28, 2021 20h\n",
      "QUERY:  Moon Phase calculatorMay 28, 2021 20h\n"
     ]
    },
    {
     "name": "stderr",
     "output_type": "stream",
     "text": [
      "\r",
      "  8%|██████▌                                                                      | 145/1709 [50:14<9:15:09, 21.30s/it]"
     ]
    },
    {
     "name": "stdout",
     "output_type": "stream",
     "text": [
      "QUERY:  Precipitation amount in Zollikofen May 28, 2021 21h\n",
      "QUERY:  temperature in Zollikofen May 28, 2021 21h\n",
      "QUERY:  humidity in Zollikofen May 28, 2021 21h\n",
      "QUERY:  wind speed in Zollikofen May 28, 2021 21h\n",
      "QUERY:  Moon Phase calculatorMay 28, 2021 21h\n"
     ]
    },
    {
     "name": "stderr",
     "output_type": "stream",
     "text": [
      "\r",
      "  9%|██████▌                                                                      | 146/1709 [50:33<9:00:48, 20.76s/it]"
     ]
    },
    {
     "name": "stdout",
     "output_type": "stream",
     "text": [
      "QUERY:  Precipitation amount in Zollikofen May 28, 2021 22h\n",
      "QUERY:  temperature in Zollikofen May 28, 2021 22h\n",
      "QUERY:  humidity in Zollikofen May 28, 2021 22h\n",
      "QUERY:  wind speed in Zollikofen May 28, 2021 22h\n",
      "QUERY:  Moon Phase calculatorMay 28, 2021 22h\n"
     ]
    },
    {
     "name": "stderr",
     "output_type": "stream",
     "text": [
      "\r",
      "  9%|██████▌                                                                      | 147/1709 [50:52<8:47:51, 20.28s/it]"
     ]
    },
    {
     "name": "stdout",
     "output_type": "stream",
     "text": [
      "QUERY:  Precipitation amount in Zollikofen May 28, 2021 23h\n",
      "QUERY:  temperature in Zollikofen May 28, 2021 23h\n",
      "QUERY:  humidity in Zollikofen May 28, 2021 23h\n",
      "QUERY:  wind speed in Zollikofen May 28, 2021 23h\n",
      "QUERY:  Moon Phase calculatorMay 28, 2021 23h\n"
     ]
    },
    {
     "name": "stderr",
     "output_type": "stream",
     "text": [
      "\r",
      "  9%|██████▋                                                                      | 148/1709 [51:10<8:22:44, 19.32s/it]"
     ]
    },
    {
     "name": "stdout",
     "output_type": "stream",
     "text": [
      "QUERY:  Precipitation amount in Zollikofen May 29, 2021 0h\n",
      "QUERY:  temperature in Zollikofen May 29, 2021 0h\n",
      "QUERY:  humidity in Zollikofen May 29, 2021 0h\n",
      "QUERY:  wind speed in Zollikofen May 29, 2021 0h\n",
      "QUERY:  Moon Phase calculatorMay 29, 2021 0h\n"
     ]
    },
    {
     "name": "stderr",
     "output_type": "stream",
     "text": [
      "\r",
      "  9%|██████▋                                                                      | 149/1709 [51:27<8:05:52, 18.69s/it]"
     ]
    },
    {
     "name": "stdout",
     "output_type": "stream",
     "text": [
      "QUERY:  Precipitation amount in Zollikofen May 29, 2021 1h\n",
      "QUERY:  temperature in Zollikofen May 29, 2021 1h\n",
      "QUERY:  humidity in Zollikofen May 29, 2021 1h\n",
      "QUERY:  wind speed in Zollikofen May 29, 2021 1h\n",
      "QUERY:  Moon Phase calculatorMay 29, 2021 1h\n"
     ]
    },
    {
     "name": "stderr",
     "output_type": "stream",
     "text": [
      "\r",
      "  9%|██████▊                                                                      | 150/1709 [51:45<8:03:34, 18.61s/it]"
     ]
    },
    {
     "name": "stdout",
     "output_type": "stream",
     "text": [
      "QUERY:  Precipitation amount in Zollikofen May 29, 2021 2h\n",
      "QUERY:  temperature in Zollikofen May 29, 2021 2h\n",
      "QUERY:  humidity in Zollikofen May 29, 2021 2h\n",
      "QUERY:  wind speed in Zollikofen May 29, 2021 2h\n",
      "QUERY:  Moon Phase calculatorMay 29, 2021 2h\n",
      "(5811, 7)\n"
     ]
    },
    {
     "data": {
      "text/html": [
       "<div>\n",
       "<style scoped>\n",
       "    .dataframe tbody tr th:only-of-type {\n",
       "        vertical-align: middle;\n",
       "    }\n",
       "\n",
       "    .dataframe tbody tr th {\n",
       "        vertical-align: top;\n",
       "    }\n",
       "\n",
       "    .dataframe thead th {\n",
       "        text-align: right;\n",
       "    }\n",
       "</style>\n",
       "<table border=\"1\" class=\"dataframe\">\n",
       "  <thead>\n",
       "    <tr style=\"text-align: right;\">\n",
       "      <th></th>\n",
       "      <th>date</th>\n",
       "      <th>temperature</th>\n",
       "      <th>humidity</th>\n",
       "      <th>wind speed</th>\n",
       "      <th>Precipitation amount</th>\n",
       "      <th>query</th>\n",
       "      <th>Moon Phase calculator</th>\n",
       "    </tr>\n",
       "  </thead>\n",
       "  <tbody>\n",
       "    <tr>\n",
       "      <th>8</th>\n",
       "      <td>2021-05-29 01:00:00</td>\n",
       "      <td>8 °C\\n(1:00 am CEST | Saturday, May 29, 2021)</td>\n",
       "      <td>average: 97% (93 to 100%)\\n(1:00 am CEST | Sat...</td>\n",
       "      <td>1 m/s\\n(1:00 am CEST | Saturday, May 29, 2021)</td>\n",
       "      <td>no precipitation\\n(1:00 am CEST | Saturday, Ma...</td>\n",
       "      <td>Moon Phase calculatorMay 29, 2021 1h</td>\n",
       "      <td>| waning gibbous moon\\n91.03% illuminated</td>\n",
       "    </tr>\n",
       "    <tr>\n",
       "      <th>9</th>\n",
       "      <td>2021-05-29 02:00:00</td>\n",
       "      <td>8 °C\\n(2:00 am CEST | Saturday, May 29, 2021)</td>\n",
       "      <td>average: 100% (100%)\\n(2:00 am CEST | Saturday...</td>\n",
       "      <td>0 m/s\\n(2:00 am CEST | Saturday, May 29, 2021)</td>\n",
       "      <td>no precipitation\\n(2:00 am CEST | Saturday, Ma...</td>\n",
       "      <td>Moon Phase calculatorMay 29, 2021 2h</td>\n",
       "      <td>| waning gibbous moon\\n90.75% illuminated</td>\n",
       "    </tr>\n",
       "  </tbody>\n",
       "</table>\n",
       "</div>"
      ],
      "text/plain": [
       "                 date                                    temperature  \\\n",
       "8 2021-05-29 01:00:00  8 °C\\n(1:00 am CEST | Saturday, May 29, 2021)   \n",
       "9 2021-05-29 02:00:00  8 °C\\n(2:00 am CEST | Saturday, May 29, 2021)   \n",
       "\n",
       "                                            humidity  \\\n",
       "8  average: 97% (93 to 100%)\\n(1:00 am CEST | Sat...   \n",
       "9  average: 100% (100%)\\n(2:00 am CEST | Saturday...   \n",
       "\n",
       "                                       wind speed  \\\n",
       "8  1 m/s\\n(1:00 am CEST | Saturday, May 29, 2021)   \n",
       "9  0 m/s\\n(2:00 am CEST | Saturday, May 29, 2021)   \n",
       "\n",
       "                                Precipitation amount  \\\n",
       "8  no precipitation\\n(1:00 am CEST | Saturday, Ma...   \n",
       "9  no precipitation\\n(2:00 am CEST | Saturday, Ma...   \n",
       "\n",
       "                                  query  \\\n",
       "8  Moon Phase calculatorMay 29, 2021 1h   \n",
       "9  Moon Phase calculatorMay 29, 2021 2h   \n",
       "\n",
       "                       Moon Phase calculator  \n",
       "8  | waning gibbous moon\\n91.03% illuminated  \n",
       "9  | waning gibbous moon\\n90.75% illuminated  "
      ]
     },
     "metadata": {},
     "output_type": "display_data"
    },
    {
     "name": "stderr",
     "output_type": "stream",
     "text": [
      "\r",
      "  9%|██████▊                                                                      | 151/1709 [52:03<7:54:13, 18.26s/it]"
     ]
    },
    {
     "name": "stdout",
     "output_type": "stream",
     "text": [
      "QUERY:  Precipitation amount in Zollikofen May 29, 2021 3h\n",
      "QUERY:  temperature in Zollikofen May 29, 2021 3h\n",
      "QUERY:  humidity in Zollikofen May 29, 2021 3h\n",
      "QUERY:  wind speed in Zollikofen May 29, 2021 3h\n",
      "QUERY:  Moon Phase calculatorMay 29, 2021 3h\n"
     ]
    },
    {
     "name": "stderr",
     "output_type": "stream",
     "text": [
      "\r",
      "  9%|██████▊                                                                      | 152/1709 [52:20<7:48:30, 18.05s/it]"
     ]
    },
    {
     "name": "stdout",
     "output_type": "stream",
     "text": [
      "QUERY:  Precipitation amount in Zollikofen May 29, 2021 4h\n",
      "QUERY:  temperature in Zollikofen May 29, 2021 4h\n",
      "QUERY:  humidity in Zollikofen May 29, 2021 4h\n",
      "QUERY:  wind speed in Zollikofen May 29, 2021 4h\n",
      "QUERY:  Moon Phase calculatorMay 29, 2021 4h\n"
     ]
    },
    {
     "name": "stderr",
     "output_type": "stream",
     "text": [
      "\r",
      "  9%|██████▉                                                                      | 153/1709 [52:37<7:39:13, 17.71s/it]"
     ]
    },
    {
     "name": "stdout",
     "output_type": "stream",
     "text": [
      "QUERY:  Precipitation amount in Zollikofen May 29, 2021 5h\n",
      "QUERY:  temperature in Zollikofen May 29, 2021 5h\n",
      "QUERY:  humidity in Zollikofen May 29, 2021 5h\n",
      "QUERY:  wind speed in Zollikofen May 29, 2021 5h\n",
      "QUERY:  Moon Phase calculatorMay 29, 2021 5h\n"
     ]
    },
    {
     "name": "stderr",
     "output_type": "stream",
     "text": [
      "\r",
      "  9%|██████▉                                                                      | 154/1709 [52:54<7:34:59, 17.56s/it]"
     ]
    },
    {
     "name": "stdout",
     "output_type": "stream",
     "text": [
      "QUERY:  Precipitation amount in Zollikofen May 29, 2021 6h\n",
      "QUERY:  temperature in Zollikofen May 29, 2021 6h\n",
      "QUERY:  humidity in Zollikofen May 29, 2021 6h\n",
      "QUERY:  wind speed in Zollikofen May 29, 2021 6h\n",
      "QUERY:  Moon Phase calculatorMay 29, 2021 6h\n"
     ]
    },
    {
     "name": "stderr",
     "output_type": "stream",
     "text": [
      "\r",
      "  9%|██████▉                                                                      | 155/1709 [53:12<7:38:07, 17.69s/it]"
     ]
    },
    {
     "name": "stdout",
     "output_type": "stream",
     "text": [
      "QUERY:  Precipitation amount in Zollikofen May 29, 2021 7h\n",
      "QUERY:  temperature in Zollikofen May 29, 2021 7h\n",
      "QUERY:  humidity in Zollikofen May 29, 2021 7h\n",
      "QUERY:  wind speed in Zollikofen May 29, 2021 7h\n",
      "QUERY:  Moon Phase calculatorMay 29, 2021 7h\n"
     ]
    },
    {
     "name": "stderr",
     "output_type": "stream",
     "text": [
      "\r",
      "  9%|███████                                                                      | 156/1709 [53:30<7:37:27, 17.67s/it]"
     ]
    },
    {
     "name": "stdout",
     "output_type": "stream",
     "text": [
      "QUERY:  Precipitation amount in Zollikofen May 29, 2021 8h\n",
      "QUERY:  temperature in Zollikofen May 29, 2021 8h\n",
      "QUERY:  humidity in Zollikofen May 29, 2021 8h\n",
      "QUERY:  wind speed in Zollikofen May 29, 2021 8h\n",
      "QUERY:  Moon Phase calculatorMay 29, 2021 8h\n"
     ]
    },
    {
     "name": "stderr",
     "output_type": "stream",
     "text": [
      "\r",
      "  9%|███████                                                                      | 157/1709 [53:48<7:40:40, 17.81s/it]"
     ]
    },
    {
     "name": "stdout",
     "output_type": "stream",
     "text": [
      "QUERY:  Precipitation amount in Zollikofen May 29, 2021 9h\n",
      "QUERY:  temperature in Zollikofen May 29, 2021 9h\n",
      "QUERY:  humidity in Zollikofen May 29, 2021 9h\n",
      "QUERY:  wind speed in Zollikofen May 29, 2021 9h\n",
      "QUERY:  Moon Phase calculatorMay 29, 2021 9h\n"
     ]
    },
    {
     "name": "stderr",
     "output_type": "stream",
     "text": [
      "\r",
      "  9%|███████                                                                      | 158/1709 [54:07<7:47:34, 18.09s/it]"
     ]
    },
    {
     "name": "stdout",
     "output_type": "stream",
     "text": [
      "QUERY:  Precipitation amount in Zollikofen May 29, 2021 10h\n",
      "QUERY:  temperature in Zollikofen May 29, 2021 10h\n",
      "QUERY:  humidity in Zollikofen May 29, 2021 10h\n",
      "QUERY:  wind speed in Zollikofen May 29, 2021 10h\n",
      "QUERY:  Moon Phase calculatorMay 29, 2021 10h\n"
     ]
    },
    {
     "name": "stderr",
     "output_type": "stream",
     "text": [
      "\r",
      "  9%|███████▏                                                                     | 159/1709 [54:25<7:49:56, 18.19s/it]"
     ]
    },
    {
     "name": "stdout",
     "output_type": "stream",
     "text": [
      "QUERY:  Precipitation amount in Zollikofen May 29, 2021 11h\n",
      "QUERY:  temperature in Zollikofen May 29, 2021 11h\n",
      "QUERY:  humidity in Zollikofen May 29, 2021 11h\n",
      "QUERY:  wind speed in Zollikofen May 29, 2021 11h\n",
      "QUERY:  Moon Phase calculatorMay 29, 2021 11h\n"
     ]
    },
    {
     "name": "stderr",
     "output_type": "stream",
     "text": [
      "\r",
      "  9%|███████▏                                                                     | 160/1709 [54:43<7:47:47, 18.12s/it]"
     ]
    },
    {
     "name": "stdout",
     "output_type": "stream",
     "text": [
      "QUERY:  Precipitation amount in Zollikofen May 29, 2021 12h\n",
      "QUERY:  temperature in Zollikofen May 29, 2021 12h\n",
      "QUERY:  humidity in Zollikofen May 29, 2021 12h\n",
      "QUERY:  wind speed in Zollikofen May 29, 2021 12h\n",
      "QUERY:  Moon Phase calculatorMay 29, 2021 12h\n",
      "(5821, 7)\n"
     ]
    },
    {
     "data": {
      "text/html": [
       "<div>\n",
       "<style scoped>\n",
       "    .dataframe tbody tr th:only-of-type {\n",
       "        vertical-align: middle;\n",
       "    }\n",
       "\n",
       "    .dataframe tbody tr th {\n",
       "        vertical-align: top;\n",
       "    }\n",
       "\n",
       "    .dataframe thead th {\n",
       "        text-align: right;\n",
       "    }\n",
       "</style>\n",
       "<table border=\"1\" class=\"dataframe\">\n",
       "  <thead>\n",
       "    <tr style=\"text-align: right;\">\n",
       "      <th></th>\n",
       "      <th>date</th>\n",
       "      <th>temperature</th>\n",
       "      <th>humidity</th>\n",
       "      <th>wind speed</th>\n",
       "      <th>Precipitation amount</th>\n",
       "      <th>query</th>\n",
       "      <th>Moon Phase calculator</th>\n",
       "    </tr>\n",
       "  </thead>\n",
       "  <tbody>\n",
       "    <tr>\n",
       "      <th>8</th>\n",
       "      <td>2021-05-29 11:00:00</td>\n",
       "      <td>17 °C\\n(11:00 am CEST | Saturday, May 29, 2021)</td>\n",
       "      <td>average: 66% (64 to 68%)\\n(11:00 am CEST | Sat...</td>\n",
       "      <td>2 m/s\\n(11:00 am CEST | Saturday, May 29, 2021)</td>\n",
       "      <td>no precipitation\\n(11:00 am CEST | Saturday, M...</td>\n",
       "      <td>Moon Phase calculatorMay 29, 2021 11h</td>\n",
       "      <td>| waning gibbous moon\\n88.03% illuminated</td>\n",
       "    </tr>\n",
       "    <tr>\n",
       "      <th>9</th>\n",
       "      <td>2021-05-29 12:00:00</td>\n",
       "      <td>18 °C\\n(12:00 pm CEST | Saturday, May 29, 2021)</td>\n",
       "      <td>average: 62% (60 to 64%)\\n(12:00 pm CEST | Sat...</td>\n",
       "      <td>3 m/s\\n(12:00 pm CEST | Saturday, May 29, 2021)</td>\n",
       "      <td>no precipitation\\n(12:00 pm CEST | Saturday, M...</td>\n",
       "      <td>Moon Phase calculatorMay 29, 2021 12h</td>\n",
       "      <td>| waning gibbous moon\\n87.71% illuminated</td>\n",
       "    </tr>\n",
       "  </tbody>\n",
       "</table>\n",
       "</div>"
      ],
      "text/plain": [
       "                 date                                      temperature  \\\n",
       "8 2021-05-29 11:00:00  17 °C\\n(11:00 am CEST | Saturday, May 29, 2021)   \n",
       "9 2021-05-29 12:00:00  18 °C\\n(12:00 pm CEST | Saturday, May 29, 2021)   \n",
       "\n",
       "                                            humidity  \\\n",
       "8  average: 66% (64 to 68%)\\n(11:00 am CEST | Sat...   \n",
       "9  average: 62% (60 to 64%)\\n(12:00 pm CEST | Sat...   \n",
       "\n",
       "                                        wind speed  \\\n",
       "8  2 m/s\\n(11:00 am CEST | Saturday, May 29, 2021)   \n",
       "9  3 m/s\\n(12:00 pm CEST | Saturday, May 29, 2021)   \n",
       "\n",
       "                                Precipitation amount  \\\n",
       "8  no precipitation\\n(11:00 am CEST | Saturday, M...   \n",
       "9  no precipitation\\n(12:00 pm CEST | Saturday, M...   \n",
       "\n",
       "                                   query  \\\n",
       "8  Moon Phase calculatorMay 29, 2021 11h   \n",
       "9  Moon Phase calculatorMay 29, 2021 12h   \n",
       "\n",
       "                       Moon Phase calculator  \n",
       "8  | waning gibbous moon\\n88.03% illuminated  \n",
       "9  | waning gibbous moon\\n87.71% illuminated  "
      ]
     },
     "metadata": {},
     "output_type": "display_data"
    },
    {
     "name": "stderr",
     "output_type": "stream",
     "text": [
      "\r",
      "  9%|███████▎                                                                     | 161/1709 [55:01<7:42:54, 17.94s/it]"
     ]
    },
    {
     "name": "stdout",
     "output_type": "stream",
     "text": [
      "QUERY:  Precipitation amount in Zollikofen May 29, 2021 13h\n",
      "QUERY:  temperature in Zollikofen May 29, 2021 13h\n",
      "QUERY:  humidity in Zollikofen May 29, 2021 13h\n",
      "QUERY:  wind speed in Zollikofen May 29, 2021 13h\n",
      "QUERY:  Moon Phase calculatorMay 29, 2021 13h\n"
     ]
    },
    {
     "name": "stderr",
     "output_type": "stream",
     "text": [
      "\r",
      "  9%|███████▎                                                                     | 162/1709 [55:21<7:59:29, 18.60s/it]"
     ]
    },
    {
     "name": "stdout",
     "output_type": "stream",
     "text": [
      "QUERY:  Precipitation amount in Zollikofen May 29, 2021 14h\n",
      "QUERY:  temperature in Zollikofen May 29, 2021 14h\n",
      "QUERY:  humidity in Zollikofen May 29, 2021 14h\n",
      "QUERY:  wind speed in Zollikofen May 29, 2021 14h\n",
      "QUERY:  Moon Phase calculatorMay 29, 2021 14h\n"
     ]
    },
    {
     "name": "stderr",
     "output_type": "stream",
     "text": [
      "\r",
      " 10%|███████▎                                                                     | 163/1709 [55:43<8:24:01, 19.56s/it]"
     ]
    },
    {
     "name": "stdout",
     "output_type": "stream",
     "text": [
      "QUERY:  Precipitation amount in Zollikofen May 29, 2021 15h\n",
      "QUERY:  temperature in Zollikofen May 29, 2021 15h\n",
      "QUERY:  humidity in Zollikofen May 29, 2021 15h\n",
      "QUERY:  wind speed in Zollikofen May 29, 2021 15h\n",
      "QUERY:  Moon Phase calculatorMay 29, 2021 15h\n"
     ]
    },
    {
     "name": "stderr",
     "output_type": "stream",
     "text": [
      "\r",
      " 10%|███████▍                                                                     | 164/1709 [56:04<8:41:25, 20.25s/it]"
     ]
    },
    {
     "name": "stdout",
     "output_type": "stream",
     "text": [
      "QUERY:  Precipitation amount in Zollikofen May 29, 2021 16h\n",
      "QUERY:  temperature in Zollikofen May 29, 2021 16h\n",
      "QUERY:  humidity in Zollikofen May 29, 2021 16h\n",
      "QUERY:  wind speed in Zollikofen May 29, 2021 16h\n",
      "QUERY:  Moon Phase calculatorMay 29, 2021 16h\n"
     ]
    },
    {
     "name": "stderr",
     "output_type": "stream",
     "text": [
      "\r",
      " 10%|███████▍                                                                     | 165/1709 [56:26<8:50:15, 20.61s/it]"
     ]
    },
    {
     "name": "stdout",
     "output_type": "stream",
     "text": [
      "QUERY:  Precipitation amount in Zollikofen May 29, 2021 17h\n",
      "QUERY:  temperature in Zollikofen May 29, 2021 17h\n",
      "QUERY:  humidity in Zollikofen May 29, 2021 17h\n",
      "QUERY:  wind speed in Zollikofen May 29, 2021 17h\n",
      "QUERY:  Moon Phase calculatorMay 29, 2021 17h\n"
     ]
    },
    {
     "name": "stderr",
     "output_type": "stream",
     "text": [
      "\r",
      " 10%|███████▍                                                                     | 166/1709 [56:49<9:05:43, 21.22s/it]"
     ]
    },
    {
     "name": "stdout",
     "output_type": "stream",
     "text": [
      "QUERY:  Precipitation amount in Zollikofen May 29, 2021 18h\n",
      "QUERY:  temperature in Zollikofen May 29, 2021 18h\n",
      "QUERY:  humidity in Zollikofen May 29, 2021 18h\n",
      "QUERY:  wind speed in Zollikofen May 29, 2021 18h\n",
      "QUERY:  Moon Phase calculatorMay 29, 2021 18h\n"
     ]
    },
    {
     "name": "stderr",
     "output_type": "stream",
     "text": [
      "\r",
      " 10%|███████▌                                                                     | 167/1709 [57:10<9:05:10, 21.21s/it]"
     ]
    },
    {
     "name": "stdout",
     "output_type": "stream",
     "text": [
      "QUERY:  Precipitation amount in Zollikofen May 29, 2021 19h\n",
      "QUERY:  temperature in Zollikofen May 29, 2021 19h\n",
      "QUERY:  humidity in Zollikofen May 29, 2021 19h\n",
      "QUERY:  wind speed in Zollikofen May 29, 2021 19h\n",
      "QUERY:  Moon Phase calculatorMay 29, 2021 19h\n"
     ]
    },
    {
     "name": "stderr",
     "output_type": "stream",
     "text": [
      "\r",
      " 10%|███████▌                                                                     | 168/1709 [57:31<9:05:29, 21.24s/it]"
     ]
    },
    {
     "name": "stdout",
     "output_type": "stream",
     "text": [
      "QUERY:  Precipitation amount in Zollikofen May 29, 2021 20h\n",
      "QUERY:  temperature in Zollikofen May 29, 2021 20h\n",
      "QUERY:  humidity in Zollikofen May 29, 2021 20h\n",
      "QUERY:  wind speed in Zollikofen May 29, 2021 20h\n",
      "QUERY:  Moon Phase calculatorMay 29, 2021 20h\n"
     ]
    },
    {
     "name": "stderr",
     "output_type": "stream",
     "text": [
      "\r",
      " 10%|███████▌                                                                     | 169/1709 [57:52<9:03:52, 21.19s/it]"
     ]
    },
    {
     "name": "stdout",
     "output_type": "stream",
     "text": [
      "QUERY:  Precipitation amount in Zollikofen May 29, 2021 21h\n",
      "QUERY:  temperature in Zollikofen May 29, 2021 21h\n",
      "QUERY:  humidity in Zollikofen May 29, 2021 21h\n",
      "QUERY:  wind speed in Zollikofen May 29, 2021 21h\n",
      "QUERY:  Moon Phase calculatorMay 29, 2021 21h\n"
     ]
    },
    {
     "name": "stderr",
     "output_type": "stream",
     "text": [
      "\r",
      " 10%|███████▋                                                                     | 170/1709 [58:13<9:02:09, 21.14s/it]"
     ]
    },
    {
     "name": "stdout",
     "output_type": "stream",
     "text": [
      "QUERY:  Precipitation amount in Zollikofen May 29, 2021 22h\n",
      "QUERY:  temperature in Zollikofen May 29, 2021 22h\n",
      "QUERY:  humidity in Zollikofen May 29, 2021 22h\n",
      "QUERY:  wind speed in Zollikofen May 29, 2021 22h\n",
      "QUERY:  Moon Phase calculatorMay 29, 2021 22h\n",
      "(5831, 7)\n"
     ]
    },
    {
     "data": {
      "text/html": [
       "<div>\n",
       "<style scoped>\n",
       "    .dataframe tbody tr th:only-of-type {\n",
       "        vertical-align: middle;\n",
       "    }\n",
       "\n",
       "    .dataframe tbody tr th {\n",
       "        vertical-align: top;\n",
       "    }\n",
       "\n",
       "    .dataframe thead th {\n",
       "        text-align: right;\n",
       "    }\n",
       "</style>\n",
       "<table border=\"1\" class=\"dataframe\">\n",
       "  <thead>\n",
       "    <tr style=\"text-align: right;\">\n",
       "      <th></th>\n",
       "      <th>date</th>\n",
       "      <th>temperature</th>\n",
       "      <th>humidity</th>\n",
       "      <th>wind speed</th>\n",
       "      <th>Precipitation amount</th>\n",
       "      <th>query</th>\n",
       "      <th>Moon Phase calculator</th>\n",
       "    </tr>\n",
       "  </thead>\n",
       "  <tbody>\n",
       "    <tr>\n",
       "      <th>8</th>\n",
       "      <td>2021-05-29 21:00:00</td>\n",
       "      <td>14 °C\\n(9:00 pm CEST | Saturday, May 29, 2021)</td>\n",
       "      <td>average: 57% (48 to 67%)\\n(9:00 pm CEST | Satu...</td>\n",
       "      <td>1 m/s\\n(9:00 pm CEST | Saturday, May 29, 2021)</td>\n",
       "      <td>no precipitation\\n(9:00 pm CEST | Saturday, Ma...</td>\n",
       "      <td>Moon Phase calculatorMay 29, 2021 21h</td>\n",
       "      <td>| waning gibbous moon\\n84.70% illuminated</td>\n",
       "    </tr>\n",
       "    <tr>\n",
       "      <th>9</th>\n",
       "      <td>2021-05-29 22:00:00</td>\n",
       "      <td>10 °C\\n(10:00 pm CEST | Saturday, May 29, 2021)</td>\n",
       "      <td>average: 84% (82 to 87%)\\n(10:00 pm CEST | Sat...</td>\n",
       "      <td>1 m/s\\n(10:00 pm CEST | Saturday, May 29, 2021)</td>\n",
       "      <td>no precipitation\\n(10:00 pm CEST | Saturday, M...</td>\n",
       "      <td>Moon Phase calculatorMay 29, 2021 22h</td>\n",
       "      <td>| waning gibbous moon\\n84.35% illuminated</td>\n",
       "    </tr>\n",
       "  </tbody>\n",
       "</table>\n",
       "</div>"
      ],
      "text/plain": [
       "                 date                                      temperature  \\\n",
       "8 2021-05-29 21:00:00   14 °C\\n(9:00 pm CEST | Saturday, May 29, 2021)   \n",
       "9 2021-05-29 22:00:00  10 °C\\n(10:00 pm CEST | Saturday, May 29, 2021)   \n",
       "\n",
       "                                            humidity  \\\n",
       "8  average: 57% (48 to 67%)\\n(9:00 pm CEST | Satu...   \n",
       "9  average: 84% (82 to 87%)\\n(10:00 pm CEST | Sat...   \n",
       "\n",
       "                                        wind speed  \\\n",
       "8   1 m/s\\n(9:00 pm CEST | Saturday, May 29, 2021)   \n",
       "9  1 m/s\\n(10:00 pm CEST | Saturday, May 29, 2021)   \n",
       "\n",
       "                                Precipitation amount  \\\n",
       "8  no precipitation\\n(9:00 pm CEST | Saturday, Ma...   \n",
       "9  no precipitation\\n(10:00 pm CEST | Saturday, M...   \n",
       "\n",
       "                                   query  \\\n",
       "8  Moon Phase calculatorMay 29, 2021 21h   \n",
       "9  Moon Phase calculatorMay 29, 2021 22h   \n",
       "\n",
       "                       Moon Phase calculator  \n",
       "8  | waning gibbous moon\\n84.70% illuminated  \n",
       "9  | waning gibbous moon\\n84.35% illuminated  "
      ]
     },
     "metadata": {},
     "output_type": "display_data"
    },
    {
     "name": "stderr",
     "output_type": "stream",
     "text": [
      "\r",
      " 10%|███████▋                                                                     | 171/1709 [58:36<9:12:31, 21.56s/it]"
     ]
    },
    {
     "name": "stdout",
     "output_type": "stream",
     "text": [
      "QUERY:  Precipitation amount in Zollikofen May 29, 2021 23h\n",
      "QUERY:  temperature in Zollikofen May 29, 2021 23h\n",
      "QUERY:  humidity in Zollikofen May 29, 2021 23h\n",
      "QUERY:  wind speed in Zollikofen May 29, 2021 23h\n",
      "QUERY:  Moon Phase calculatorMay 29, 2021 23h\n"
     ]
    },
    {
     "name": "stderr",
     "output_type": "stream",
     "text": [
      "\r",
      " 10%|███████▋                                                                     | 172/1709 [58:58<9:15:41, 21.69s/it]"
     ]
    },
    {
     "name": "stdout",
     "output_type": "stream",
     "text": [
      "QUERY:  Precipitation amount in Zollikofen May 30, 2021 0h\n",
      "QUERY:  temperature in Zollikofen May 30, 2021 0h\n",
      "QUERY:  humidity in Zollikofen May 30, 2021 0h\n",
      "QUERY:  wind speed in Zollikofen May 30, 2021 0h\n",
      "QUERY:  Moon Phase calculatorMay 30, 2021 0h\n"
     ]
    },
    {
     "name": "stderr",
     "output_type": "stream",
     "text": [
      "\r",
      " 10%|███████▊                                                                     | 173/1709 [59:19<9:09:09, 21.45s/it]"
     ]
    },
    {
     "name": "stdout",
     "output_type": "stream",
     "text": [
      "QUERY:  Precipitation amount in Zollikofen May 30, 2021 1h\n",
      "QUERY:  temperature in Zollikofen May 30, 2021 1h\n",
      "QUERY:  humidity in Zollikofen May 30, 2021 1h\n",
      "QUERY:  wind speed in Zollikofen May 30, 2021 1h\n",
      "QUERY:  Moon Phase calculatorMay 30, 2021 1h\n"
     ]
    },
    {
     "name": "stderr",
     "output_type": "stream",
     "text": [
      "\r",
      " 10%|███████▊                                                                     | 174/1709 [59:40<9:07:38, 21.41s/it]"
     ]
    },
    {
     "name": "stdout",
     "output_type": "stream",
     "text": [
      "QUERY:  Precipitation amount in Zollikofen May 30, 2021 2h\n",
      "QUERY:  temperature in Zollikofen May 30, 2021 2h\n",
      "QUERY:  humidity in Zollikofen May 30, 2021 2h\n",
      "QUERY:  wind speed in Zollikofen May 30, 2021 2h\n",
      "QUERY:  Moon Phase calculatorMay 30, 2021 2h\n"
     ]
    },
    {
     "name": "stderr",
     "output_type": "stream",
     "text": [
      "\r",
      " 10%|███████▋                                                                   | 175/1709 [1:00:01<9:02:31, 21.22s/it]"
     ]
    },
    {
     "name": "stdout",
     "output_type": "stream",
     "text": [
      "QUERY:  Precipitation amount in Zollikofen May 30, 2021 3h\n",
      "QUERY:  temperature in Zollikofen May 30, 2021 3h\n",
      "QUERY:  humidity in Zollikofen May 30, 2021 3h\n",
      "QUERY:  wind speed in Zollikofen May 30, 2021 3h\n",
      "QUERY:  Moon Phase calculatorMay 30, 2021 3h\n"
     ]
    },
    {
     "name": "stderr",
     "output_type": "stream",
     "text": [
      "\r",
      " 10%|███████▋                                                                   | 176/1709 [1:00:23<9:11:24, 21.58s/it]"
     ]
    },
    {
     "name": "stdout",
     "output_type": "stream",
     "text": [
      "QUERY:  Precipitation amount in Zollikofen May 30, 2021 4h\n",
      "QUERY:  temperature in Zollikofen May 30, 2021 4h\n",
      "QUERY:  humidity in Zollikofen May 30, 2021 4h\n",
      "QUERY:  wind speed in Zollikofen May 30, 2021 4h\n",
      "QUERY:  Moon Phase calculatorMay 30, 2021 4h\n"
     ]
    },
    {
     "name": "stderr",
     "output_type": "stream",
     "text": [
      "\r",
      " 10%|███████▊                                                                   | 177/1709 [1:00:43<8:59:29, 21.13s/it]"
     ]
    },
    {
     "name": "stdout",
     "output_type": "stream",
     "text": [
      "QUERY:  Precipitation amount in Zollikofen May 30, 2021 5h\n",
      "QUERY:  temperature in Zollikofen May 30, 2021 5h\n",
      "QUERY:  humidity in Zollikofen May 30, 2021 5h\n",
      "QUERY:  wind speed in Zollikofen May 30, 2021 5h\n",
      "QUERY:  Moon Phase calculatorMay 30, 2021 5h\n"
     ]
    },
    {
     "name": "stderr",
     "output_type": "stream",
     "text": [
      "\r",
      " 10%|███████▊                                                                   | 178/1709 [1:01:01<8:36:42, 20.25s/it]"
     ]
    },
    {
     "name": "stdout",
     "output_type": "stream",
     "text": [
      "QUERY:  Precipitation amount in Zollikofen May 30, 2021 6h\n",
      "QUERY:  temperature in Zollikofen May 30, 2021 6h\n",
      "QUERY:  humidity in Zollikofen May 30, 2021 6h\n",
      "QUERY:  wind speed in Zollikofen May 30, 2021 6h\n",
      "QUERY:  Moon Phase calculatorMay 30, 2021 6h\n"
     ]
    },
    {
     "name": "stderr",
     "output_type": "stream",
     "text": [
      "\r",
      " 10%|███████▊                                                                   | 179/1709 [1:01:19<8:18:46, 19.56s/it]"
     ]
    },
    {
     "name": "stdout",
     "output_type": "stream",
     "text": [
      "QUERY:  Precipitation amount in Zollikofen May 30, 2021 7h\n",
      "QUERY:  temperature in Zollikofen May 30, 2021 7h\n",
      "QUERY:  humidity in Zollikofen May 30, 2021 7h\n",
      "QUERY:  wind speed in Zollikofen May 30, 2021 7h\n",
      "QUERY:  Moon Phase calculatorMay 30, 2021 7h\n"
     ]
    },
    {
     "name": "stderr",
     "output_type": "stream",
     "text": [
      "\r",
      " 11%|███████▉                                                                   | 180/1709 [1:01:37<8:05:07, 19.04s/it]"
     ]
    },
    {
     "name": "stdout",
     "output_type": "stream",
     "text": [
      "QUERY:  Precipitation amount in Zollikofen May 30, 2021 8h\n",
      "QUERY:  temperature in Zollikofen May 30, 2021 8h\n",
      "QUERY:  humidity in Zollikofen May 30, 2021 8h\n",
      "QUERY:  wind speed in Zollikofen May 30, 2021 8h\n",
      "QUERY:  Moon Phase calculatorMay 30, 2021 8h\n",
      "(5841, 7)\n"
     ]
    },
    {
     "data": {
      "text/html": [
       "<div>\n",
       "<style scoped>\n",
       "    .dataframe tbody tr th:only-of-type {\n",
       "        vertical-align: middle;\n",
       "    }\n",
       "\n",
       "    .dataframe tbody tr th {\n",
       "        vertical-align: top;\n",
       "    }\n",
       "\n",
       "    .dataframe thead th {\n",
       "        text-align: right;\n",
       "    }\n",
       "</style>\n",
       "<table border=\"1\" class=\"dataframe\">\n",
       "  <thead>\n",
       "    <tr style=\"text-align: right;\">\n",
       "      <th></th>\n",
       "      <th>date</th>\n",
       "      <th>temperature</th>\n",
       "      <th>humidity</th>\n",
       "      <th>wind speed</th>\n",
       "      <th>Precipitation amount</th>\n",
       "      <th>query</th>\n",
       "      <th>Moon Phase calculator</th>\n",
       "    </tr>\n",
       "  </thead>\n",
       "  <tbody>\n",
       "    <tr>\n",
       "      <th>8</th>\n",
       "      <td>2021-05-30 07:00:00</td>\n",
       "      <td>9 °C\\n(7:00 am CEST | Sunday, May 30, 2021)</td>\n",
       "      <td>average: 84% (81 to 87%)\\n(7:00 am CEST | Sund...</td>\n",
       "      <td>0 m/s\\n(7:00 am CEST | Sunday, May 30, 2021)</td>\n",
       "      <td>no precipitation\\n(7:00 am CEST | Sunday, May ...</td>\n",
       "      <td>Moon Phase calculatorMay 30, 2021 7h</td>\n",
       "      <td>| waning gibbous moon\\n81.11% illuminated</td>\n",
       "    </tr>\n",
       "    <tr>\n",
       "      <th>9</th>\n",
       "      <td>2021-05-30 08:00:00</td>\n",
       "      <td>11 °C\\n(8:00 am CEST | Sunday, May 30, 2021)</td>\n",
       "      <td>average: 76% (76%)\\n(8:00 am CEST | Sunday, Ma...</td>\n",
       "      <td>0 m/s\\n(8:00 am CEST | Sunday, May 30, 2021)</td>\n",
       "      <td>no precipitation\\n(8:00 am CEST | Sunday, May ...</td>\n",
       "      <td>Moon Phase calculatorMay 30, 2021 8h</td>\n",
       "      <td>| waning gibbous moon\\n80.73% illuminated</td>\n",
       "    </tr>\n",
       "  </tbody>\n",
       "</table>\n",
       "</div>"
      ],
      "text/plain": [
       "                 date                                   temperature  \\\n",
       "8 2021-05-30 07:00:00   9 °C\\n(7:00 am CEST | Sunday, May 30, 2021)   \n",
       "9 2021-05-30 08:00:00  11 °C\\n(8:00 am CEST | Sunday, May 30, 2021)   \n",
       "\n",
       "                                            humidity  \\\n",
       "8  average: 84% (81 to 87%)\\n(7:00 am CEST | Sund...   \n",
       "9  average: 76% (76%)\\n(8:00 am CEST | Sunday, Ma...   \n",
       "\n",
       "                                     wind speed  \\\n",
       "8  0 m/s\\n(7:00 am CEST | Sunday, May 30, 2021)   \n",
       "9  0 m/s\\n(8:00 am CEST | Sunday, May 30, 2021)   \n",
       "\n",
       "                                Precipitation amount  \\\n",
       "8  no precipitation\\n(7:00 am CEST | Sunday, May ...   \n",
       "9  no precipitation\\n(8:00 am CEST | Sunday, May ...   \n",
       "\n",
       "                                  query  \\\n",
       "8  Moon Phase calculatorMay 30, 2021 7h   \n",
       "9  Moon Phase calculatorMay 30, 2021 8h   \n",
       "\n",
       "                       Moon Phase calculator  \n",
       "8  | waning gibbous moon\\n81.11% illuminated  \n",
       "9  | waning gibbous moon\\n80.73% illuminated  "
      ]
     },
     "metadata": {},
     "output_type": "display_data"
    },
    {
     "name": "stderr",
     "output_type": "stream",
     "text": [
      "\r",
      " 11%|███████▉                                                                   | 181/1709 [1:01:56<8:03:40, 18.99s/it]"
     ]
    },
    {
     "name": "stdout",
     "output_type": "stream",
     "text": [
      "QUERY:  Precipitation amount in Zollikofen May 30, 2021 9h\n",
      "QUERY:  temperature in Zollikofen May 30, 2021 9h\n",
      "QUERY:  humidity in Zollikofen May 30, 2021 9h\n",
      "QUERY:  wind speed in Zollikofen May 30, 2021 9h\n",
      "QUERY:  Moon Phase calculatorMay 30, 2021 9h\n"
     ]
    },
    {
     "name": "stderr",
     "output_type": "stream",
     "text": [
      "\r",
      " 11%|███████▉                                                                   | 182/1709 [1:02:13<7:51:07, 18.51s/it]"
     ]
    },
    {
     "name": "stdout",
     "output_type": "stream",
     "text": [
      "QUERY:  Precipitation amount in Zollikofen May 30, 2021 10h\n",
      "QUERY:  temperature in Zollikofen May 30, 2021 10h\n",
      "QUERY:  humidity in Zollikofen May 30, 2021 10h\n",
      "QUERY:  wind speed in Zollikofen May 30, 2021 10h\n",
      "QUERY:  Moon Phase calculatorMay 30, 2021 10h\n"
     ]
    },
    {
     "name": "stderr",
     "output_type": "stream",
     "text": [
      "\r",
      " 11%|████████                                                                   | 183/1709 [1:02:32<7:49:12, 18.45s/it]"
     ]
    },
    {
     "name": "stdout",
     "output_type": "stream",
     "text": [
      "QUERY:  Precipitation amount in Zollikofen May 30, 2021 11h\n",
      "QUERY:  temperature in Zollikofen May 30, 2021 11h\n",
      "QUERY:  humidity in Zollikofen May 30, 2021 11h\n",
      "QUERY:  wind speed in Zollikofen May 30, 2021 11h\n",
      "QUERY:  Moon Phase calculatorMay 30, 2021 11h\n"
     ]
    },
    {
     "name": "stderr",
     "output_type": "stream",
     "text": [
      "\r",
      " 11%|████████                                                                   | 184/1709 [1:02:52<8:04:22, 19.06s/it]"
     ]
    },
    {
     "name": "stdout",
     "output_type": "stream",
     "text": [
      "QUERY:  Precipitation amount in Zollikofen May 30, 2021 12h\n",
      "QUERY:  temperature in Zollikofen May 30, 2021 12h\n",
      "QUERY:  humidity in Zollikofen May 30, 2021 12h\n",
      "QUERY:  wind speed in Zollikofen May 30, 2021 12h\n",
      "QUERY:  Moon Phase calculatorMay 30, 2021 12h\n"
     ]
    },
    {
     "name": "stderr",
     "output_type": "stream",
     "text": [
      "\r",
      " 11%|████████                                                                   | 185/1709 [1:03:10<7:51:31, 18.56s/it]"
     ]
    },
    {
     "name": "stdout",
     "output_type": "stream",
     "text": [
      "QUERY:  Precipitation amount in Zollikofen May 30, 2021 13h\n",
      "QUERY:  temperature in Zollikofen May 30, 2021 13h\n",
      "QUERY:  humidity in Zollikofen May 30, 2021 13h\n",
      "QUERY:  wind speed in Zollikofen May 30, 2021 13h\n",
      "QUERY:  Moon Phase calculatorMay 30, 2021 13h\n"
     ]
    },
    {
     "name": "stderr",
     "output_type": "stream",
     "text": [
      "\r",
      " 11%|████████▏                                                                  | 186/1709 [1:03:27<7:41:28, 18.18s/it]"
     ]
    },
    {
     "name": "stdout",
     "output_type": "stream",
     "text": [
      "QUERY:  Precipitation amount in Zollikofen May 30, 2021 14h\n",
      "QUERY:  temperature in Zollikofen May 30, 2021 14h\n",
      "QUERY:  humidity in Zollikofen May 30, 2021 14h\n",
      "QUERY:  wind speed in Zollikofen May 30, 2021 14h\n",
      "QUERY:  Moon Phase calculatorMay 30, 2021 14h\n"
     ]
    },
    {
     "name": "stderr",
     "output_type": "stream",
     "text": [
      "\r",
      " 11%|████████▏                                                                  | 187/1709 [1:03:44<7:33:06, 17.86s/it]"
     ]
    },
    {
     "name": "stdout",
     "output_type": "stream",
     "text": [
      "QUERY:  Precipitation amount in Zollikofen May 30, 2021 15h\n",
      "QUERY:  temperature in Zollikofen May 30, 2021 15h\n",
      "QUERY:  humidity in Zollikofen May 30, 2021 15h\n",
      "QUERY:  wind speed in Zollikofen May 30, 2021 15h\n",
      "QUERY:  Moon Phase calculatorMay 30, 2021 15h\n"
     ]
    },
    {
     "name": "stderr",
     "output_type": "stream",
     "text": [
      "\r",
      " 11%|████████▎                                                                  | 188/1709 [1:04:04<7:46:29, 18.40s/it]"
     ]
    },
    {
     "name": "stdout",
     "output_type": "stream",
     "text": [
      "QUERY:  Precipitation amount in Zollikofen May 30, 2021 16h\n",
      "QUERY:  temperature in Zollikofen May 30, 2021 16h\n",
      "QUERY:  humidity in Zollikofen May 30, 2021 16h\n",
      "QUERY:  wind speed in Zollikofen May 30, 2021 16h\n",
      "QUERY:  Moon Phase calculatorMay 30, 2021 16h\n"
     ]
    },
    {
     "name": "stderr",
     "output_type": "stream",
     "text": [
      "\r",
      " 11%|████████▎                                                                  | 189/1709 [1:04:23<7:53:25, 18.69s/it]"
     ]
    },
    {
     "name": "stdout",
     "output_type": "stream",
     "text": [
      "QUERY:  Precipitation amount in Zollikofen May 30, 2021 17h\n",
      "QUERY:  temperature in Zollikofen May 30, 2021 17h\n",
      "QUERY:  humidity in Zollikofen May 30, 2021 17h\n",
      "QUERY:  wind speed in Zollikofen May 30, 2021 17h\n",
      "QUERY:  Moon Phase calculatorMay 30, 2021 17h\n"
     ]
    },
    {
     "name": "stderr",
     "output_type": "stream",
     "text": [
      "\r",
      " 11%|████████▎                                                                  | 190/1709 [1:04:41<7:44:10, 18.33s/it]"
     ]
    },
    {
     "name": "stdout",
     "output_type": "stream",
     "text": [
      "QUERY:  Precipitation amount in Zollikofen May 30, 2021 18h\n",
      "QUERY:  temperature in Zollikofen May 30, 2021 18h\n",
      "QUERY:  humidity in Zollikofen May 30, 2021 18h\n",
      "QUERY:  wind speed in Zollikofen May 30, 2021 18h\n",
      "QUERY:  Moon Phase calculatorMay 30, 2021 18h\n",
      "(5851, 7)\n"
     ]
    },
    {
     "data": {
      "text/html": [
       "<div>\n",
       "<style scoped>\n",
       "    .dataframe tbody tr th:only-of-type {\n",
       "        vertical-align: middle;\n",
       "    }\n",
       "\n",
       "    .dataframe tbody tr th {\n",
       "        vertical-align: top;\n",
       "    }\n",
       "\n",
       "    .dataframe thead th {\n",
       "        text-align: right;\n",
       "    }\n",
       "</style>\n",
       "<table border=\"1\" class=\"dataframe\">\n",
       "  <thead>\n",
       "    <tr style=\"text-align: right;\">\n",
       "      <th></th>\n",
       "      <th>date</th>\n",
       "      <th>temperature</th>\n",
       "      <th>humidity</th>\n",
       "      <th>wind speed</th>\n",
       "      <th>Precipitation amount</th>\n",
       "      <th>query</th>\n",
       "      <th>Moon Phase calculator</th>\n",
       "    </tr>\n",
       "  </thead>\n",
       "  <tbody>\n",
       "    <tr>\n",
       "      <th>8</th>\n",
       "      <td>2021-05-30 17:00:00</td>\n",
       "      <td>20 °C\\n(5:00 pm CEST | Sunday, May 30, 2021)</td>\n",
       "      <td>average: 37% (37%)\\n(5:00 pm CEST | Sunday, Ma...</td>\n",
       "      <td>4 m/s\\n(5:00 pm CEST | Sunday, May 30, 2021)</td>\n",
       "      <td>no precipitation\\n(5:00 pm CEST | Sunday, May ...</td>\n",
       "      <td>Moon Phase calculatorMay 30, 2021 17h</td>\n",
       "      <td>| waning gibbous moon\\n77.28% illuminated</td>\n",
       "    </tr>\n",
       "    <tr>\n",
       "      <th>9</th>\n",
       "      <td>2021-05-30 18:00:00</td>\n",
       "      <td>20 °C\\n(6:00 pm CEST | Sunday, May 30, 2021)</td>\n",
       "      <td>average: 39% (37 to 40%)\\n(6:00 pm CEST | Sund...</td>\n",
       "      <td>4 m/s\\n(6:00 pm CEST | Sunday, May 30, 2021)</td>\n",
       "      <td>no precipitation\\n(6:00 pm CEST | Sunday, May ...</td>\n",
       "      <td>Moon Phase calculatorMay 30, 2021 18h</td>\n",
       "      <td>| waning gibbous moon\\n76.89% illuminated</td>\n",
       "    </tr>\n",
       "  </tbody>\n",
       "</table>\n",
       "</div>"
      ],
      "text/plain": [
       "                 date                                   temperature  \\\n",
       "8 2021-05-30 17:00:00  20 °C\\n(5:00 pm CEST | Sunday, May 30, 2021)   \n",
       "9 2021-05-30 18:00:00  20 °C\\n(6:00 pm CEST | Sunday, May 30, 2021)   \n",
       "\n",
       "                                            humidity  \\\n",
       "8  average: 37% (37%)\\n(5:00 pm CEST | Sunday, Ma...   \n",
       "9  average: 39% (37 to 40%)\\n(6:00 pm CEST | Sund...   \n",
       "\n",
       "                                     wind speed  \\\n",
       "8  4 m/s\\n(5:00 pm CEST | Sunday, May 30, 2021)   \n",
       "9  4 m/s\\n(6:00 pm CEST | Sunday, May 30, 2021)   \n",
       "\n",
       "                                Precipitation amount  \\\n",
       "8  no precipitation\\n(5:00 pm CEST | Sunday, May ...   \n",
       "9  no precipitation\\n(6:00 pm CEST | Sunday, May ...   \n",
       "\n",
       "                                   query  \\\n",
       "8  Moon Phase calculatorMay 30, 2021 17h   \n",
       "9  Moon Phase calculatorMay 30, 2021 18h   \n",
       "\n",
       "                       Moon Phase calculator  \n",
       "8  | waning gibbous moon\\n77.28% illuminated  \n",
       "9  | waning gibbous moon\\n76.89% illuminated  "
      ]
     },
     "metadata": {},
     "output_type": "display_data"
    },
    {
     "name": "stderr",
     "output_type": "stream",
     "text": [
      "\r",
      " 11%|████████▍                                                                  | 191/1709 [1:05:01<8:02:04, 19.05s/it]"
     ]
    },
    {
     "name": "stdout",
     "output_type": "stream",
     "text": [
      "QUERY:  Precipitation amount in Zollikofen May 30, 2021 19h\n",
      "QUERY:  temperature in Zollikofen May 30, 2021 19h\n",
      "QUERY:  humidity in Zollikofen May 30, 2021 19h\n",
      "QUERY:  wind speed in Zollikofen May 30, 2021 19h\n",
      "QUERY:  Moon Phase calculatorMay 30, 2021 19h\n"
     ]
    },
    {
     "name": "stderr",
     "output_type": "stream",
     "text": [
      "\r",
      " 11%|████████▍                                                                  | 192/1709 [1:05:20<8:00:33, 19.01s/it]"
     ]
    },
    {
     "name": "stdout",
     "output_type": "stream",
     "text": [
      "QUERY:  Precipitation amount in Zollikofen May 30, 2021 20h\n",
      "QUERY:  temperature in Zollikofen May 30, 2021 20h\n",
      "QUERY:  humidity in Zollikofen May 30, 2021 20h\n",
      "QUERY:  wind speed in Zollikofen May 30, 2021 20h\n",
      "QUERY:  Moon Phase calculatorMay 30, 2021 20h\n"
     ]
    },
    {
     "name": "stderr",
     "output_type": "stream",
     "text": [
      "\r",
      " 11%|████████▍                                                                  | 193/1709 [1:05:42<8:19:11, 19.76s/it]"
     ]
    },
    {
     "name": "stdout",
     "output_type": "stream",
     "text": [
      "QUERY:  Precipitation amount in Zollikofen May 30, 2021 21h\n",
      "QUERY:  temperature in Zollikofen May 30, 2021 21h\n",
      "QUERY:  humidity in Zollikofen May 30, 2021 21h\n",
      "QUERY:  wind speed in Zollikofen May 30, 2021 21h\n",
      "QUERY:  Moon Phase calculatorMay 30, 2021 21h\n"
     ]
    },
    {
     "name": "stderr",
     "output_type": "stream",
     "text": [
      "\r",
      " 11%|████████▌                                                                  | 194/1709 [1:06:06<8:50:41, 21.02s/it]"
     ]
    },
    {
     "name": "stdout",
     "output_type": "stream",
     "text": [
      "QUERY:  Precipitation amount in Zollikofen May 30, 2021 22h\n",
      "QUERY:  temperature in Zollikofen May 30, 2021 22h\n",
      "QUERY:  humidity in Zollikofen May 30, 2021 22h\n",
      "QUERY:  wind speed in Zollikofen May 30, 2021 22h\n",
      "QUERY:  Moon Phase calculatorMay 30, 2021 22h\n"
     ]
    },
    {
     "name": "stderr",
     "output_type": "stream",
     "text": [
      "\r",
      " 11%|████████▌                                                                  | 195/1709 [1:06:28<9:03:20, 21.53s/it]"
     ]
    },
    {
     "name": "stdout",
     "output_type": "stream",
     "text": [
      "QUERY:  Precipitation amount in Zollikofen May 30, 2021 23h\n",
      "QUERY:  temperature in Zollikofen May 30, 2021 23h\n",
      "QUERY:  humidity in Zollikofen May 30, 2021 23h\n",
      "QUERY:  wind speed in Zollikofen May 30, 2021 23h\n",
      "QUERY:  Moon Phase calculatorMay 30, 2021 23h\n"
     ]
    },
    {
     "name": "stderr",
     "output_type": "stream",
     "text": [
      "\r",
      " 11%|████████▌                                                                  | 196/1709 [1:06:50<9:00:26, 21.43s/it]"
     ]
    },
    {
     "name": "stdout",
     "output_type": "stream",
     "text": [
      "QUERY:  Precipitation amount in Zollikofen May 31, 2021 0h\n",
      "QUERY:  temperature in Zollikofen May 31, 2021 0h\n",
      "QUERY:  humidity in Zollikofen May 31, 2021 0h\n",
      "QUERY:  wind speed in Zollikofen May 31, 2021 0h\n",
      "QUERY:  Moon Phase calculatorMay 31, 2021 0h\n"
     ]
    },
    {
     "name": "stderr",
     "output_type": "stream",
     "text": [
      "\r",
      " 12%|████████▋                                                                  | 197/1709 [1:07:11<8:56:49, 21.30s/it]"
     ]
    },
    {
     "name": "stdout",
     "output_type": "stream",
     "text": [
      "QUERY:  Precipitation amount in Zollikofen May 31, 2021 1h\n",
      "QUERY:  temperature in Zollikofen May 31, 2021 1h\n",
      "QUERY:  humidity in Zollikofen May 31, 2021 1h\n",
      "QUERY:  wind speed in Zollikofen May 31, 2021 1h\n",
      "QUERY:  Moon Phase calculatorMay 31, 2021 1h\n"
     ]
    },
    {
     "name": "stderr",
     "output_type": "stream",
     "text": [
      "\r",
      " 12%|████████▋                                                                  | 198/1709 [1:07:32<8:54:49, 21.24s/it]"
     ]
    },
    {
     "name": "stdout",
     "output_type": "stream",
     "text": [
      "QUERY:  Precipitation amount in Zollikofen May 31, 2021 2h\n",
      "QUERY:  temperature in Zollikofen May 31, 2021 2h\n",
      "QUERY:  humidity in Zollikofen May 31, 2021 2h\n",
      "QUERY:  wind speed in Zollikofen May 31, 2021 2h\n",
      "QUERY:  Moon Phase calculatorMay 31, 2021 2h\n"
     ]
    },
    {
     "name": "stderr",
     "output_type": "stream",
     "text": [
      "\r",
      " 12%|████████▋                                                                  | 199/1709 [1:07:54<9:01:54, 21.53s/it]"
     ]
    },
    {
     "name": "stdout",
     "output_type": "stream",
     "text": [
      "QUERY:  Precipitation amount in Zollikofen May 31, 2021 3h\n",
      "QUERY:  temperature in Zollikofen May 31, 2021 3h\n",
      "QUERY:  humidity in Zollikofen May 31, 2021 3h\n",
      "QUERY:  wind speed in Zollikofen May 31, 2021 3h\n",
      "QUERY:  Moon Phase calculatorMay 31, 2021 3h\n"
     ]
    },
    {
     "name": "stderr",
     "output_type": "stream",
     "text": [
      "\r",
      " 12%|████████▊                                                                  | 200/1709 [1:08:15<8:55:55, 21.31s/it]"
     ]
    },
    {
     "name": "stdout",
     "output_type": "stream",
     "text": [
      "QUERY:  Precipitation amount in Zollikofen May 31, 2021 4h\n",
      "QUERY:  temperature in Zollikofen May 31, 2021 4h\n",
      "QUERY:  humidity in Zollikofen May 31, 2021 4h\n",
      "QUERY:  wind speed in Zollikofen May 31, 2021 4h\n",
      "QUERY:  Moon Phase calculatorMay 31, 2021 4h\n",
      "(5861, 7)\n"
     ]
    },
    {
     "data": {
      "text/html": [
       "<div>\n",
       "<style scoped>\n",
       "    .dataframe tbody tr th:only-of-type {\n",
       "        vertical-align: middle;\n",
       "    }\n",
       "\n",
       "    .dataframe tbody tr th {\n",
       "        vertical-align: top;\n",
       "    }\n",
       "\n",
       "    .dataframe thead th {\n",
       "        text-align: right;\n",
       "    }\n",
       "</style>\n",
       "<table border=\"1\" class=\"dataframe\">\n",
       "  <thead>\n",
       "    <tr style=\"text-align: right;\">\n",
       "      <th></th>\n",
       "      <th>date</th>\n",
       "      <th>temperature</th>\n",
       "      <th>humidity</th>\n",
       "      <th>wind speed</th>\n",
       "      <th>Precipitation amount</th>\n",
       "      <th>query</th>\n",
       "      <th>Moon Phase calculator</th>\n",
       "    </tr>\n",
       "  </thead>\n",
       "  <tbody>\n",
       "    <tr>\n",
       "      <th>8</th>\n",
       "      <td>2021-05-31 03:00:00</td>\n",
       "      <td>5 °C\\n(3:00 am CEST | Monday, May 31, 2021)</td>\n",
       "      <td>average: 100% (100%)\\n(3:00 am CEST | Monday, ...</td>\n",
       "      <td>0 m/s\\n(3:00 am CEST | Monday, May 31, 2021)</td>\n",
       "      <td>no precipitation\\n(3:00 am CEST | Monday, May ...</td>\n",
       "      <td>Moon Phase calculatorMay 31, 2021 3h</td>\n",
       "      <td>| waning gibbous moon\\n73.28% illuminated</td>\n",
       "    </tr>\n",
       "    <tr>\n",
       "      <th>9</th>\n",
       "      <td>2021-05-31 04:00:00</td>\n",
       "      <td>5 °C\\n(4:00 am CEST | Monday, May 31, 2021)</td>\n",
       "      <td>average: 100% (100%)\\n(4:00 am CEST | Monday, ...</td>\n",
       "      <td>0 m/s\\n(4:00 am CEST | Monday, May 31, 2021)</td>\n",
       "      <td>no precipitation\\n(4:00 am CEST | Monday, May ...</td>\n",
       "      <td>Moon Phase calculatorMay 31, 2021 4h</td>\n",
       "      <td>| waning gibbous moon\\n72.87% illuminated</td>\n",
       "    </tr>\n",
       "  </tbody>\n",
       "</table>\n",
       "</div>"
      ],
      "text/plain": [
       "                 date                                  temperature  \\\n",
       "8 2021-05-31 03:00:00  5 °C\\n(3:00 am CEST | Monday, May 31, 2021)   \n",
       "9 2021-05-31 04:00:00  5 °C\\n(4:00 am CEST | Monday, May 31, 2021)   \n",
       "\n",
       "                                            humidity  \\\n",
       "8  average: 100% (100%)\\n(3:00 am CEST | Monday, ...   \n",
       "9  average: 100% (100%)\\n(4:00 am CEST | Monday, ...   \n",
       "\n",
       "                                     wind speed  \\\n",
       "8  0 m/s\\n(3:00 am CEST | Monday, May 31, 2021)   \n",
       "9  0 m/s\\n(4:00 am CEST | Monday, May 31, 2021)   \n",
       "\n",
       "                                Precipitation amount  \\\n",
       "8  no precipitation\\n(3:00 am CEST | Monday, May ...   \n",
       "9  no precipitation\\n(4:00 am CEST | Monday, May ...   \n",
       "\n",
       "                                  query  \\\n",
       "8  Moon Phase calculatorMay 31, 2021 3h   \n",
       "9  Moon Phase calculatorMay 31, 2021 4h   \n",
       "\n",
       "                       Moon Phase calculator  \n",
       "8  | waning gibbous moon\\n73.28% illuminated  \n",
       "9  | waning gibbous moon\\n72.87% illuminated  "
      ]
     },
     "metadata": {},
     "output_type": "display_data"
    },
    {
     "name": "stderr",
     "output_type": "stream",
     "text": [
      "\r",
      " 12%|████████▊                                                                  | 201/1709 [1:08:36<8:56:35, 21.35s/it]"
     ]
    },
    {
     "name": "stdout",
     "output_type": "stream",
     "text": [
      "QUERY:  Precipitation amount in Zollikofen May 31, 2021 5h\n",
      "QUERY:  temperature in Zollikofen May 31, 2021 5h\n",
      "QUERY:  humidity in Zollikofen May 31, 2021 5h\n",
      "QUERY:  wind speed in Zollikofen May 31, 2021 5h\n",
      "QUERY:  Moon Phase calculatorMay 31, 2021 5h\n"
     ]
    },
    {
     "name": "stderr",
     "output_type": "stream",
     "text": [
      "\r",
      " 12%|████████▊                                                                  | 202/1709 [1:08:57<8:50:54, 21.14s/it]"
     ]
    },
    {
     "name": "stdout",
     "output_type": "stream",
     "text": [
      "QUERY:  Precipitation amount in Zollikofen May 31, 2021 6h\n",
      "QUERY:  temperature in Zollikofen May 31, 2021 6h\n",
      "QUERY:  humidity in Zollikofen May 31, 2021 6h\n",
      "QUERY:  wind speed in Zollikofen May 31, 2021 6h\n",
      "QUERY:  Moon Phase calculatorMay 31, 2021 6h\n"
     ]
    },
    {
     "name": "stderr",
     "output_type": "stream",
     "text": [
      "\r",
      " 12%|████████▉                                                                  | 203/1709 [1:09:19<9:01:31, 21.57s/it]"
     ]
    },
    {
     "name": "stdout",
     "output_type": "stream",
     "text": [
      "QUERY:  Precipitation amount in Zollikofen May 31, 2021 7h\n",
      "QUERY:  temperature in Zollikofen May 31, 2021 7h\n",
      "QUERY:  humidity in Zollikofen May 31, 2021 7h\n",
      "QUERY:  wind speed in Zollikofen May 31, 2021 7h\n",
      "QUERY:  Moon Phase calculatorMay 31, 2021 7h\n"
     ]
    },
    {
     "name": "stderr",
     "output_type": "stream",
     "text": [
      "\r",
      " 12%|████████▉                                                                  | 204/1709 [1:09:40<8:57:02, 21.41s/it]"
     ]
    },
    {
     "name": "stdout",
     "output_type": "stream",
     "text": [
      "QUERY:  Precipitation amount in Zollikofen May 31, 2021 8h\n",
      "QUERY:  temperature in Zollikofen May 31, 2021 8h\n",
      "QUERY:  humidity in Zollikofen May 31, 2021 8h\n",
      "QUERY:  wind speed in Zollikofen May 31, 2021 8h\n",
      "QUERY:  Moon Phase calculatorMay 31, 2021 8h\n"
     ]
    },
    {
     "name": "stderr",
     "output_type": "stream",
     "text": [
      "\r",
      " 12%|████████▉                                                                  | 205/1709 [1:10:00<8:41:14, 20.79s/it]"
     ]
    },
    {
     "name": "stdout",
     "output_type": "stream",
     "text": [
      "QUERY:  Precipitation amount in Zollikofen May 31, 2021 9h\n",
      "QUERY:  temperature in Zollikofen May 31, 2021 9h\n",
      "QUERY:  humidity in Zollikofen May 31, 2021 9h\n",
      "QUERY:  wind speed in Zollikofen May 31, 2021 9h\n",
      "QUERY:  Moon Phase calculatorMay 31, 2021 9h\n"
     ]
    },
    {
     "name": "stderr",
     "output_type": "stream",
     "text": [
      "\r",
      " 12%|█████████                                                                  | 206/1709 [1:10:20<8:36:23, 20.61s/it]"
     ]
    },
    {
     "name": "stdout",
     "output_type": "stream",
     "text": [
      "QUERY:  Precipitation amount in Zollikofen May 31, 2021 10h\n",
      "QUERY:  temperature in Zollikofen May 31, 2021 10h\n",
      "ERROR: no data available-------------  temperature in Zollikofen May 31, 2021 10h\n",
      "ERROR:------------- name 'error' is not defined  ----------  temperature in Zollikofen May 31, 2021 10h\n",
      "QUERY:  humidity in Zollikofen May 31, 2021 10h\n",
      "ERROR: no data available-------------  humidity in Zollikofen May 31, 2021 10h\n",
      "ERROR:------------- name 'error' is not defined  ----------  humidity in Zollikofen May 31, 2021 10h\n",
      "QUERY:  wind speed in Zollikofen May 31, 2021 10h\n",
      "ERROR: no data available-------------  wind speed in Zollikofen May 31, 2021 10h\n",
      "ERROR:------------- name 'error' is not defined  ----------  wind speed in Zollikofen May 31, 2021 10h\n",
      "QUERY:  Moon Phase calculatorMay 31, 2021 10h\n"
     ]
    },
    {
     "name": "stderr",
     "output_type": "stream",
     "text": [
      "100%|████████████████████████████████████████████████████████████████████████████| 1709/1709 [1:10:37<00:00,  2.48s/it]"
     ]
    },
    {
     "name": "stdout",
     "output_type": "stream",
     "text": [
      "(5867, 7)\n"
     ]
    },
    {
     "name": "stderr",
     "output_type": "stream",
     "text": [
      "\n"
     ]
    },
    {
     "data": {
      "text/html": [
       "<div>\n",
       "<style scoped>\n",
       "    .dataframe tbody tr th:only-of-type {\n",
       "        vertical-align: middle;\n",
       "    }\n",
       "\n",
       "    .dataframe tbody tr th {\n",
       "        vertical-align: top;\n",
       "    }\n",
       "\n",
       "    .dataframe thead th {\n",
       "        text-align: right;\n",
       "    }\n",
       "</style>\n",
       "<table border=\"1\" class=\"dataframe\">\n",
       "  <thead>\n",
       "    <tr style=\"text-align: right;\">\n",
       "      <th></th>\n",
       "      <th>date</th>\n",
       "      <th>temperature</th>\n",
       "      <th>humidity</th>\n",
       "      <th>wind speed</th>\n",
       "      <th>Precipitation amount</th>\n",
       "      <th>query</th>\n",
       "      <th>Moon Phase calculator</th>\n",
       "    </tr>\n",
       "  </thead>\n",
       "  <tbody>\n",
       "    <tr>\n",
       "      <th>4</th>\n",
       "      <td>2021-05-31 09:00:00</td>\n",
       "      <td>13 °C\\n(9:00 am CEST | Monday, May 31, 2021)</td>\n",
       "      <td>average: 62% (62%)\\n(9:00 am CEST | Monday, Ma...</td>\n",
       "      <td>1 m/s\\n(9:00 am CEST | Monday, May 31, 2021)</td>\n",
       "      <td>no precipitation\\n(9:00 am CEST | Monday, May ...</td>\n",
       "      <td>Moon Phase calculatorMay 31, 2021 9h</td>\n",
       "      <td>| waning gibbous moon\\n70.81% illuminated</td>\n",
       "    </tr>\n",
       "    <tr>\n",
       "      <th>5</th>\n",
       "      <td>2021-05-31 10:00:00</td>\n",
       "      <td>ERROR</td>\n",
       "      <td>ERROR</td>\n",
       "      <td>ERROR</td>\n",
       "      <td>(unknown)\\n(10:00 am CEST | Monday, May 31, 2021)</td>\n",
       "      <td>Moon Phase calculatorMay 31, 2021 10h</td>\n",
       "      <td>| waning gibbous moon\\n70.40% illuminated</td>\n",
       "    </tr>\n",
       "  </tbody>\n",
       "</table>\n",
       "</div>"
      ],
      "text/plain": [
       "                 date                                   temperature  \\\n",
       "4 2021-05-31 09:00:00  13 °C\\n(9:00 am CEST | Monday, May 31, 2021)   \n",
       "5 2021-05-31 10:00:00                                         ERROR   \n",
       "\n",
       "                                            humidity  \\\n",
       "4  average: 62% (62%)\\n(9:00 am CEST | Monday, Ma...   \n",
       "5                                              ERROR   \n",
       "\n",
       "                                     wind speed  \\\n",
       "4  1 m/s\\n(9:00 am CEST | Monday, May 31, 2021)   \n",
       "5                                         ERROR   \n",
       "\n",
       "                                Precipitation amount  \\\n",
       "4  no precipitation\\n(9:00 am CEST | Monday, May ...   \n",
       "5  (unknown)\\n(10:00 am CEST | Monday, May 31, 2021)   \n",
       "\n",
       "                                   query  \\\n",
       "4   Moon Phase calculatorMay 31, 2021 9h   \n",
       "5  Moon Phase calculatorMay 31, 2021 10h   \n",
       "\n",
       "                       Moon Phase calculator  \n",
       "4  | waning gibbous moon\\n70.81% illuminated  \n",
       "5  | waning gibbous moon\\n70.40% illuminated  "
      ]
     },
     "metadata": {},
     "output_type": "display_data"
    }
   ],
   "source": [
    "#not same as : https://weather.plus/observations-weather-station.php?dest=Bern-Zollikofen&id=066310&type=synop&day=20200713, our\n",
    "#results are less consistent :( \n",
    "#ATTENTION: monthly api calls limited to 2'000\n",
    "#if not working, save query and results: \"ERROR\", but continue the other query from the same date\n",
    "#open if exist\n",
    "li_df = []\n",
    "for i,d in enumerate(tqdm.tqdm(Daterange)):\n",
    "    now_ = dt.datetime.now()\n",
    "    #dont get the data in advance\n",
    "    if d<now_:      \n",
    "        dico = {'date':d}\n",
    "        for type_ in li_type:\n",
    "            try:                    \n",
    "                query = '%s in Zollikofen '%type_+d.strftime('%B')+' '+str(d.day)+', '+str(d.year)+' '+str(d.hour)+'h'\n",
    "                if type_=='Moon Phase calculator':\n",
    "                    query = type_+d.strftime('%B')+' '+str(d.day)+', '+str(d.year)+' '+str(d.hour)+'h'                    \n",
    "                print('QUERY: ',query)\n",
    "                dico['query'] = query\n",
    "                res = client.query(query)\n",
    "                for t in res.results:\n",
    "                    if 'no data available' in t.text:\n",
    "                        print('ERROR: no data available------------- ', query)\n",
    "                        error\n",
    "                    dico[type_] = t.text\n",
    "            except Exception as e:\n",
    "                print('ERROR:-------------', e, ' ---------- ', query)\n",
    "                dico[type_] = 'ERROR'\n",
    "        li_df.append(dico)\n",
    "        dico = {}\n",
    "        if i%10==0:\n",
    "            df_ = pd.DataFrame(li_df)\n",
    "            df = pd.concat([df,df_])\n",
    "            df.to_csv(path_weather, index=False, sep=';')\n",
    "            li_df = []\n",
    "            print(df.shape)\n",
    "            display(df.tail(2))\n",
    "df_ = pd.DataFrame(li_df)\n",
    "df = pd.concat([df,df_])\n",
    "df.to_csv(path_weather, index=False, sep=';')\n",
    "print(df.shape)\n",
    "display(df.tail(2))"
   ]
  },
  {
   "cell_type": "code",
   "execution_count": 6,
   "metadata": {},
   "outputs": [
    {
     "name": "stdout",
     "output_type": "stream",
     "text": [
      "(62, 7)\n"
     ]
    },
    {
     "data": {
      "text/html": [
       "<div>\n",
       "<style scoped>\n",
       "    .dataframe tbody tr th:only-of-type {\n",
       "        vertical-align: middle;\n",
       "    }\n",
       "\n",
       "    .dataframe tbody tr th {\n",
       "        vertical-align: top;\n",
       "    }\n",
       "\n",
       "    .dataframe thead th {\n",
       "        text-align: right;\n",
       "    }\n",
       "</style>\n",
       "<table border=\"1\" class=\"dataframe\">\n",
       "  <thead>\n",
       "    <tr style=\"text-align: right;\">\n",
       "      <th></th>\n",
       "      <th>date</th>\n",
       "      <th>temperature</th>\n",
       "      <th>humidity</th>\n",
       "      <th>wind speed</th>\n",
       "      <th>Precipitation amount</th>\n",
       "      <th>query</th>\n",
       "      <th>Moon Phase calculator</th>\n",
       "    </tr>\n",
       "  </thead>\n",
       "  <tbody>\n",
       "    <tr>\n",
       "      <th>0</th>\n",
       "      <td>2020-11-05 22:00:00</td>\n",
       "      <td>8 °C\\n(10:00 pm CET | Thursday, November 5, 2020)</td>\n",
       "      <td>ERROR</td>\n",
       "      <td>1 m/s\\n(10:00 pm CET | Thursday, November 5, 2...</td>\n",
       "      <td>(unknown)\\n(10:00 pm CET | Thursday, November ...</td>\n",
       "      <td>Moon Phase calculatorNovember 5, 2020 22h</td>\n",
       "      <td>| waning gibbous moon\\n76.55% illuminated</td>\n",
       "    </tr>\n",
       "    <tr>\n",
       "      <th>0</th>\n",
       "      <td>2020-11-16 19:00:00</td>\n",
       "      <td>7 °C\\n(7:00 pm CET | Monday, November 16, 2020)</td>\n",
       "      <td>ERROR</td>\n",
       "      <td>1 m/s\\n(7:00 pm CET | Monday, November 16, 2020)</td>\n",
       "      <td>(unknown)\\n(7:00 pm CET | Monday, November 16,...</td>\n",
       "      <td>Moon Phase calculatorNovember 16, 2020 19h</td>\n",
       "      <td>| waxing crescent moon\\n3.48% illuminated</td>\n",
       "    </tr>\n",
       "    <tr>\n",
       "      <th>1</th>\n",
       "      <td>2020-11-16 21:00:00</td>\n",
       "      <td>5 °C\\n(9:00 pm CET | Monday, November 16, 2020)</td>\n",
       "      <td>ERROR</td>\n",
       "      <td>0 m/s\\n(9:00 pm CET | Monday, November 16, 2020)</td>\n",
       "      <td>(unknown)\\n(9:00 pm CET | Monday, November 16,...</td>\n",
       "      <td>Moon Phase calculatorNovember 16, 2020 21h</td>\n",
       "      <td>| waxing crescent moon\\n3.86% illuminated</td>\n",
       "    </tr>\n",
       "    <tr>\n",
       "      <th>2</th>\n",
       "      <td>2020-12-15 21:00:00</td>\n",
       "      <td>4 °C\\n(9:00 pm CET | Tuesday, December 15, 2020)</td>\n",
       "      <td>ERROR</td>\n",
       "      <td>1 m/s\\n(9:00 pm CET | Tuesday, December 15, 2020)</td>\n",
       "      <td>(unknown)\\n(9:00 pm CET | Tuesday, December 15...</td>\n",
       "      <td>Moon Phase calculatorDecember 15, 2020 21h</td>\n",
       "      <td>| waxing crescent moon\\n1.86% illuminated</td>\n",
       "    </tr>\n",
       "    <tr>\n",
       "      <th>3</th>\n",
       "      <td>2021-02-08 17:00:00</td>\n",
       "      <td>5 °C\\n(5:00 pm CET | Monday, February 8, 2021)</td>\n",
       "      <td>ERROR</td>\n",
       "      <td>5 m/s\\n(5:00 pm CET | Monday, February 8, 2021)</td>\n",
       "      <td>(unknown)\\n(5:00 pm CET | Monday, February 8, ...</td>\n",
       "      <td>Moon Phase calculatorFebruary 8, 2021 17h</td>\n",
       "      <td>| waning crescent moon\\n11.27% illuminated</td>\n",
       "    </tr>\n",
       "    <tr>\n",
       "      <th>...</th>\n",
       "      <td>...</td>\n",
       "      <td>...</td>\n",
       "      <td>...</td>\n",
       "      <td>...</td>\n",
       "      <td>...</td>\n",
       "      <td>...</td>\n",
       "      <td>...</td>\n",
       "    </tr>\n",
       "    <tr>\n",
       "      <th>6</th>\n",
       "      <td>2021-05-15 21:00:00</td>\n",
       "      <td>8 °C\\n(9:00 pm CEST | Saturday, May 15, 2021)</td>\n",
       "      <td>ERROR</td>\n",
       "      <td>2 m/s\\n(9:00 pm CEST | Saturday, May 15, 2021)</td>\n",
       "      <td>(unknown)\\n(9:00 pm CEST | Saturday, May 15, 2...</td>\n",
       "      <td>Moon Phase calculatorMay 15, 2021 21h</td>\n",
       "      <td>| waxing crescent moon\\n13.88% illuminated</td>\n",
       "    </tr>\n",
       "    <tr>\n",
       "      <th>7</th>\n",
       "      <td>2021-05-15 22:00:00</td>\n",
       "      <td>ERROR</td>\n",
       "      <td>ERROR</td>\n",
       "      <td>ERROR</td>\n",
       "      <td>(unknown)\\n(10:00 pm CEST | Saturday, May 15, ...</td>\n",
       "      <td>Moon Phase calculatorMay 15, 2021 22h</td>\n",
       "      <td>| waxing crescent moon\\n14.16% illuminated</td>\n",
       "    </tr>\n",
       "    <tr>\n",
       "      <th>8</th>\n",
       "      <td>2021-05-15 23:00:00</td>\n",
       "      <td>ERROR</td>\n",
       "      <td>ERROR</td>\n",
       "      <td>ERROR</td>\n",
       "      <td>(unknown)\\n(11:00 pm CEST | Saturday, May 15, ...</td>\n",
       "      <td>Moon Phase calculatorMay 15, 2021 23h</td>\n",
       "      <td>| waxing crescent moon\\n14.45% illuminated</td>\n",
       "    </tr>\n",
       "    <tr>\n",
       "      <th>3</th>\n",
       "      <td>2021-05-26 08:00:00</td>\n",
       "      <td>11 °C\\n(8:00 am CEST | Wednesday, May 26, 2021)</td>\n",
       "      <td>ERROR</td>\n",
       "      <td>4 m/s\\n(8:00 am CEST | Wednesday, May 26, 2021)</td>\n",
       "      <td>no precipitation\\n(8:00 am CEST | Wednesday, M...</td>\n",
       "      <td>Moon Phase calculatorMay 26, 2021 8h</td>\n",
       "      <td>| full moon\\n99.92% illuminated</td>\n",
       "    </tr>\n",
       "    <tr>\n",
       "      <th>5</th>\n",
       "      <td>2021-05-31 10:00:00</td>\n",
       "      <td>ERROR</td>\n",
       "      <td>ERROR</td>\n",
       "      <td>ERROR</td>\n",
       "      <td>(unknown)\\n(10:00 am CEST | Monday, May 31, 2021)</td>\n",
       "      <td>Moon Phase calculatorMay 31, 2021 10h</td>\n",
       "      <td>| waning gibbous moon\\n70.40% illuminated</td>\n",
       "    </tr>\n",
       "  </tbody>\n",
       "</table>\n",
       "<p>62 rows × 7 columns</p>\n",
       "</div>"
      ],
      "text/plain": [
       "                  date                                        temperature  \\\n",
       "0  2020-11-05 22:00:00  8 °C\\n(10:00 pm CET | Thursday, November 5, 2020)   \n",
       "0  2020-11-16 19:00:00    7 °C\\n(7:00 pm CET | Monday, November 16, 2020)   \n",
       "1  2020-11-16 21:00:00    5 °C\\n(9:00 pm CET | Monday, November 16, 2020)   \n",
       "2  2020-12-15 21:00:00   4 °C\\n(9:00 pm CET | Tuesday, December 15, 2020)   \n",
       "3  2021-02-08 17:00:00     5 °C\\n(5:00 pm CET | Monday, February 8, 2021)   \n",
       "..                 ...                                                ...   \n",
       "6  2021-05-15 21:00:00      8 °C\\n(9:00 pm CEST | Saturday, May 15, 2021)   \n",
       "7  2021-05-15 22:00:00                                              ERROR   \n",
       "8  2021-05-15 23:00:00                                              ERROR   \n",
       "3  2021-05-26 08:00:00    11 °C\\n(8:00 am CEST | Wednesday, May 26, 2021)   \n",
       "5  2021-05-31 10:00:00                                              ERROR   \n",
       "\n",
       "   humidity                                         wind speed  \\\n",
       "0     ERROR  1 m/s\\n(10:00 pm CET | Thursday, November 5, 2...   \n",
       "0     ERROR   1 m/s\\n(7:00 pm CET | Monday, November 16, 2020)   \n",
       "1     ERROR   0 m/s\\n(9:00 pm CET | Monday, November 16, 2020)   \n",
       "2     ERROR  1 m/s\\n(9:00 pm CET | Tuesday, December 15, 2020)   \n",
       "3     ERROR    5 m/s\\n(5:00 pm CET | Monday, February 8, 2021)   \n",
       "..      ...                                                ...   \n",
       "6     ERROR     2 m/s\\n(9:00 pm CEST | Saturday, May 15, 2021)   \n",
       "7     ERROR                                              ERROR   \n",
       "8     ERROR                                              ERROR   \n",
       "3     ERROR    4 m/s\\n(8:00 am CEST | Wednesday, May 26, 2021)   \n",
       "5     ERROR                                              ERROR   \n",
       "\n",
       "                                 Precipitation amount  \\\n",
       "0   (unknown)\\n(10:00 pm CET | Thursday, November ...   \n",
       "0   (unknown)\\n(7:00 pm CET | Monday, November 16,...   \n",
       "1   (unknown)\\n(9:00 pm CET | Monday, November 16,...   \n",
       "2   (unknown)\\n(9:00 pm CET | Tuesday, December 15...   \n",
       "3   (unknown)\\n(5:00 pm CET | Monday, February 8, ...   \n",
       "..                                                ...   \n",
       "6   (unknown)\\n(9:00 pm CEST | Saturday, May 15, 2...   \n",
       "7   (unknown)\\n(10:00 pm CEST | Saturday, May 15, ...   \n",
       "8   (unknown)\\n(11:00 pm CEST | Saturday, May 15, ...   \n",
       "3   no precipitation\\n(8:00 am CEST | Wednesday, M...   \n",
       "5   (unknown)\\n(10:00 am CEST | Monday, May 31, 2021)   \n",
       "\n",
       "                                         query  \\\n",
       "0    Moon Phase calculatorNovember 5, 2020 22h   \n",
       "0   Moon Phase calculatorNovember 16, 2020 19h   \n",
       "1   Moon Phase calculatorNovember 16, 2020 21h   \n",
       "2   Moon Phase calculatorDecember 15, 2020 21h   \n",
       "3    Moon Phase calculatorFebruary 8, 2021 17h   \n",
       "..                                         ...   \n",
       "6        Moon Phase calculatorMay 15, 2021 21h   \n",
       "7        Moon Phase calculatorMay 15, 2021 22h   \n",
       "8        Moon Phase calculatorMay 15, 2021 23h   \n",
       "3         Moon Phase calculatorMay 26, 2021 8h   \n",
       "5        Moon Phase calculatorMay 31, 2021 10h   \n",
       "\n",
       "                         Moon Phase calculator  \n",
       "0    | waning gibbous moon\\n76.55% illuminated  \n",
       "0    | waxing crescent moon\\n3.48% illuminated  \n",
       "1    | waxing crescent moon\\n3.86% illuminated  \n",
       "2    | waxing crescent moon\\n1.86% illuminated  \n",
       "3   | waning crescent moon\\n11.27% illuminated  \n",
       "..                                         ...  \n",
       "6   | waxing crescent moon\\n13.88% illuminated  \n",
       "7   | waxing crescent moon\\n14.16% illuminated  \n",
       "8   | waxing crescent moon\\n14.45% illuminated  \n",
       "3              | full moon\\n99.92% illuminated  \n",
       "5    | waning gibbous moon\\n70.40% illuminated  \n",
       "\n",
       "[62 rows x 7 columns]"
      ]
     },
     "execution_count": 6,
     "metadata": {},
     "output_type": "execute_result"
    }
   ],
   "source": [
    "print(df[df.isin([\"ERROR\"]).any(axis=1)].shape)\n",
    "df[df.isin([\"ERROR\"]).any(axis=1)]"
   ]
  },
  {
   "cell_type": "markdown",
   "metadata": {},
   "source": [
    "df['day'] = df['date'].map(lambda x: dt.datetime.date(x))\n",
    "df['day'].value_counts()"
   ]
  },
  {
   "cell_type": "markdown",
   "metadata": {},
   "source": [
    "#add lune to weather data\n",
    "#dico_d_m = {}\n",
    "for d in tqdm.tqdm(Daterange):\n",
    "    now_ = dt.datetime.now()\n",
    "    #dont get the data in advance\n",
    "    if d<now_:   \n",
    "        if d not in dico_d_m:\n",
    "            try:\n",
    "                query = 'Moon Phase calculator'+d.strftime('%B')+' '+str(d.day)+', '+str(d.year)+' '+str(d.hour)+'h'\n",
    "                res = client.query(query) \n",
    "                for t in res.results:\n",
    "                    dico_d_m[d] = t.text.strip('|').strip(' ')\n",
    "            except Exception as e:\n",
    "                print('ERROR')\n",
    "                print(e)\n",
    "#df['Moon Phase calculator'] = df['date'].map(lambda x: dico_d_m.get(x, 'ERROR'))\n",
    "#print(df[df['Moonphase']=='ERROR'].shape)\n",
    "df"
   ]
  },
  {
   "cell_type": "markdown",
   "metadata": {},
   "source": [
    "df = df.drop(['MoonName','Moon Phase calculator'],axis=1)"
   ]
  },
  {
   "cell_type": "markdown",
   "metadata": {},
   "source": [
    "# Process"
   ]
  },
  {
   "cell_type": "code",
   "execution_count": 7,
   "metadata": {},
   "outputs": [
    {
     "name": "stdout",
     "output_type": "stream",
     "text": [
      "(5804, 13)\n"
     ]
    },
    {
     "data": {
      "text/html": [
       "<div>\n",
       "<style scoped>\n",
       "    .dataframe tbody tr th:only-of-type {\n",
       "        vertical-align: middle;\n",
       "    }\n",
       "\n",
       "    .dataframe tbody tr th {\n",
       "        vertical-align: top;\n",
       "    }\n",
       "\n",
       "    .dataframe thead th {\n",
       "        text-align: right;\n",
       "    }\n",
       "</style>\n",
       "<table border=\"1\" class=\"dataframe\">\n",
       "  <thead>\n",
       "    <tr style=\"text-align: right;\">\n",
       "      <th></th>\n",
       "      <th>Timestamp</th>\n",
       "      <th>temperature</th>\n",
       "      <th>humidity</th>\n",
       "      <th>wind speed</th>\n",
       "      <th>Precipitation amount</th>\n",
       "      <th>query</th>\n",
       "      <th>Moon Phase calculator</th>\n",
       "      <th>date</th>\n",
       "      <th>hour</th>\n",
       "      <th>temperature_C</th>\n",
       "      <th>wind_speed_mpers</th>\n",
       "      <th>humidity_avgpercent</th>\n",
       "      <th>rain</th>\n",
       "    </tr>\n",
       "  </thead>\n",
       "  <tbody>\n",
       "    <tr>\n",
       "      <th>0</th>\n",
       "      <td>2020-09-29 00:00:00</td>\n",
       "      <td>10 °C\\n(12:00 am CEST | Tuesday, September 29,...</td>\n",
       "      <td>average: 100% (100%)\\n(12:00 am CEST | Tuesday...</td>\n",
       "      <td>2 m/s\\n(12:00 am CEST | Tuesday, September 29,...</td>\n",
       "      <td>rain\\n(12:00 am CEST | Tuesday, September 29, ...</td>\n",
       "      <td>Moon Phase calculatorSeptember 29, 2020 0h</td>\n",
       "      <td>| waxing gibbous moon\\n91.87% illuminated</td>\n",
       "      <td>2020-09-29</td>\n",
       "      <td>0</td>\n",
       "      <td>10</td>\n",
       "      <td>2</td>\n",
       "      <td>100</td>\n",
       "      <td>rain</td>\n",
       "    </tr>\n",
       "    <tr>\n",
       "      <th>1</th>\n",
       "      <td>2020-09-29 01:00:00</td>\n",
       "      <td>10 °C\\n(1:00 am CEST | Tuesday, September 29, ...</td>\n",
       "      <td>average: 100% (100%)\\n(1:00 am CEST | Tuesday,...</td>\n",
       "      <td>3 m/s\\n(1:00 am CEST | Tuesday, September 29, ...</td>\n",
       "      <td>rain\\n(1:00 am CEST | Tuesday, September 29, 2...</td>\n",
       "      <td>Moon Phase calculatorSeptember 29, 2020 1h</td>\n",
       "      <td>| waxing gibbous moon\\n92.09% illuminated</td>\n",
       "      <td>2020-09-29</td>\n",
       "      <td>1</td>\n",
       "      <td>10</td>\n",
       "      <td>3</td>\n",
       "      <td>100</td>\n",
       "      <td>rain</td>\n",
       "    </tr>\n",
       "    <tr>\n",
       "      <th>2</th>\n",
       "      <td>2020-09-29 02:00:00</td>\n",
       "      <td>10 °C\\n(2:00 am CEST | Tuesday, September 29, ...</td>\n",
       "      <td>average: 100% (100%)\\n(2:00 am CEST | Tuesday,...</td>\n",
       "      <td>3 m/s\\n(2:00 am CEST | Tuesday, September 29, ...</td>\n",
       "      <td>rain\\n(2:00 am CEST | Tuesday, September 29, 2...</td>\n",
       "      <td>Moon Phase calculatorSeptember 29, 2020 2h</td>\n",
       "      <td>| waxing gibbous moon\\n92.30% illuminated</td>\n",
       "      <td>2020-09-29</td>\n",
       "      <td>2</td>\n",
       "      <td>10</td>\n",
       "      <td>3</td>\n",
       "      <td>100</td>\n",
       "      <td>rain</td>\n",
       "    </tr>\n",
       "  </tbody>\n",
       "</table>\n",
       "</div>"
      ],
      "text/plain": [
       "            Timestamp                                        temperature  \\\n",
       "0 2020-09-29 00:00:00  10 °C\\n(12:00 am CEST | Tuesday, September 29,...   \n",
       "1 2020-09-29 01:00:00  10 °C\\n(1:00 am CEST | Tuesday, September 29, ...   \n",
       "2 2020-09-29 02:00:00  10 °C\\n(2:00 am CEST | Tuesday, September 29, ...   \n",
       "\n",
       "                                            humidity  \\\n",
       "0  average: 100% (100%)\\n(12:00 am CEST | Tuesday...   \n",
       "1  average: 100% (100%)\\n(1:00 am CEST | Tuesday,...   \n",
       "2  average: 100% (100%)\\n(2:00 am CEST | Tuesday,...   \n",
       "\n",
       "                                          wind speed  \\\n",
       "0  2 m/s\\n(12:00 am CEST | Tuesday, September 29,...   \n",
       "1  3 m/s\\n(1:00 am CEST | Tuesday, September 29, ...   \n",
       "2  3 m/s\\n(2:00 am CEST | Tuesday, September 29, ...   \n",
       "\n",
       "                                Precipitation amount  \\\n",
       "0  rain\\n(12:00 am CEST | Tuesday, September 29, ...   \n",
       "1  rain\\n(1:00 am CEST | Tuesday, September 29, 2...   \n",
       "2  rain\\n(2:00 am CEST | Tuesday, September 29, 2...   \n",
       "\n",
       "                                        query  \\\n",
       "0  Moon Phase calculatorSeptember 29, 2020 0h   \n",
       "1  Moon Phase calculatorSeptember 29, 2020 1h   \n",
       "2  Moon Phase calculatorSeptember 29, 2020 2h   \n",
       "\n",
       "                       Moon Phase calculator       date  hour  temperature_C  \\\n",
       "0  | waxing gibbous moon\\n91.87% illuminated 2020-09-29     0             10   \n",
       "1  | waxing gibbous moon\\n92.09% illuminated 2020-09-29     1             10   \n",
       "2  | waxing gibbous moon\\n92.30% illuminated 2020-09-29     2             10   \n",
       "\n",
       "   wind_speed_mpers  humidity_avgpercent  rain  \n",
       "0                 2                  100  rain  \n",
       "1                 3                  100  rain  \n",
       "2                 3                  100  rain  "
      ]
     },
     "execution_count": 7,
     "metadata": {},
     "output_type": "execute_result"
    }
   ],
   "source": [
    "#add weather as environemntal factor\n",
    "path_ = r'C:\\Users\\camil\\Desktop\\vm_exchange\\PhD_Data\\Weather'\n",
    "path_weather = os.path.join(path_,'weather.csv')\n",
    "df_weather = pd.read_csv(path_weather, sep=';', parse_dates=['date'])\n",
    "df_weather = df_weather.drop_duplicates(subset=None, keep='first', inplace=False)\n",
    "#remove excpetions\n",
    "x = ', 1, 0,  , °, C, \\n, (, 1, 2, :, 0, 0,  , a, m,  , C, E, T , | , F, r, i, d, a, y, ,,  , O, c, t, o, b, e, r,  , 3, 0, ,,  , 2, 0, 2, 0, ),'\n",
    "df_weather['temperature'] = df_weather['temperature'].replace(x, x.replace(', ',''))\n",
    "x = '3×10^0 m/s\\n(1:00 pm CET | Sunday, January 10, 2021)'\n",
    "df_weather['wind speed'] = df_weather['wind speed'].replace(x, 'ERROR')\n",
    "#remove the rows with at least one error\n",
    "df_weather = df_weather[~df_weather.isin([\"ERROR\"]).any(axis=1)]\n",
    "#date\n",
    "df_weather.rename(columns={'date':'Timestamp'}, inplace=True)\n",
    "df_weather['date'] = df_weather['Timestamp'].map(lambda x: dt.datetime(x.year,x.month,x.day))\n",
    "df_weather['hour'] = df_weather['Timestamp'].map(lambda x: x.hour)\n",
    "#add usefull variable\n",
    "df_weather['temperature_C'] = df_weather['temperature'].map(lambda x: int(x.split('\\n')[0].split(' ')[0]))\n",
    "df_weather['wind_speed_mpers'] = df_weather['wind speed'].map(lambda x: int(x.split('\\n')[0].split(' ')[0]))\n",
    "df_weather['humidity_avgpercent'] = df_weather['humidity'].map(lambda x: int(x.split('%')[0].split(' ')[-1].strip()))\n",
    "df_weather['rain'] = df_weather['Precipitation amount'].map(lambda x: x.split('\\n')[0])\n",
    "df_weather['rain'] = df_weather['rain'].replace('rain | snow','snow | rain')\n",
    "df_weather.to_csv(os.path.join(path_,'Weather_process.csv'), index=False, sep=';')\n",
    "print(df_weather.shape)\n",
    "df_weather.head(3)"
   ]
  },
  {
   "cell_type": "code",
   "execution_count": 8,
   "metadata": {},
   "outputs": [
    {
     "data": {
      "text/html": [
       "<div>\n",
       "<style scoped>\n",
       "    .dataframe tbody tr th:only-of-type {\n",
       "        vertical-align: middle;\n",
       "    }\n",
       "\n",
       "    .dataframe tbody tr th {\n",
       "        vertical-align: top;\n",
       "    }\n",
       "\n",
       "    .dataframe thead th {\n",
       "        text-align: right;\n",
       "    }\n",
       "</style>\n",
       "<table border=\"1\" class=\"dataframe\">\n",
       "  <thead>\n",
       "    <tr style=\"text-align: right;\">\n",
       "      <th></th>\n",
       "      <th>Timestamp</th>\n",
       "      <th>temperature</th>\n",
       "      <th>humidity</th>\n",
       "      <th>wind speed</th>\n",
       "      <th>Precipitation amount</th>\n",
       "      <th>query</th>\n",
       "      <th>Moon Phase calculator</th>\n",
       "      <th>date</th>\n",
       "      <th>hour</th>\n",
       "      <th>temperature_C</th>\n",
       "      <th>wind_speed_mpers</th>\n",
       "      <th>humidity_avgpercent</th>\n",
       "      <th>rain</th>\n",
       "      <th>MoonName</th>\n",
       "      <th>Illumination_percentage</th>\n",
       "      <th>croissant_decroissant</th>\n",
       "    </tr>\n",
       "  </thead>\n",
       "  <tbody>\n",
       "    <tr>\n",
       "      <th>0</th>\n",
       "      <td>2020-09-29 00:00:00</td>\n",
       "      <td>10 °C\\n(12:00 am CEST | Tuesday, September 29,...</td>\n",
       "      <td>average: 100% (100%)\\n(12:00 am CEST | Tuesday...</td>\n",
       "      <td>2 m/s\\n(12:00 am CEST | Tuesday, September 29,...</td>\n",
       "      <td>rain\\n(12:00 am CEST | Tuesday, September 29, ...</td>\n",
       "      <td>Moon Phase calculatorSeptember 29, 2020 0h</td>\n",
       "      <td>| waxing gibbous moon\\n91.87% illuminated</td>\n",
       "      <td>2020-09-29</td>\n",
       "      <td>0</td>\n",
       "      <td>10</td>\n",
       "      <td>2</td>\n",
       "      <td>100</td>\n",
       "      <td>rain</td>\n",
       "      <td>waxing gibbous moon</td>\n",
       "      <td>91.87</td>\n",
       "      <td>LC</td>\n",
       "    </tr>\n",
       "    <tr>\n",
       "      <th>1</th>\n",
       "      <td>2020-09-29 01:00:00</td>\n",
       "      <td>10 °C\\n(1:00 am CEST | Tuesday, September 29, ...</td>\n",
       "      <td>average: 100% (100%)\\n(1:00 am CEST | Tuesday,...</td>\n",
       "      <td>3 m/s\\n(1:00 am CEST | Tuesday, September 29, ...</td>\n",
       "      <td>rain\\n(1:00 am CEST | Tuesday, September 29, 2...</td>\n",
       "      <td>Moon Phase calculatorSeptember 29, 2020 1h</td>\n",
       "      <td>| waxing gibbous moon\\n92.09% illuminated</td>\n",
       "      <td>2020-09-29</td>\n",
       "      <td>1</td>\n",
       "      <td>10</td>\n",
       "      <td>3</td>\n",
       "      <td>100</td>\n",
       "      <td>rain</td>\n",
       "      <td>waxing gibbous moon</td>\n",
       "      <td>92.09</td>\n",
       "      <td>LC</td>\n",
       "    </tr>\n",
       "    <tr>\n",
       "      <th>2</th>\n",
       "      <td>2020-09-29 02:00:00</td>\n",
       "      <td>10 °C\\n(2:00 am CEST | Tuesday, September 29, ...</td>\n",
       "      <td>average: 100% (100%)\\n(2:00 am CEST | Tuesday,...</td>\n",
       "      <td>3 m/s\\n(2:00 am CEST | Tuesday, September 29, ...</td>\n",
       "      <td>rain\\n(2:00 am CEST | Tuesday, September 29, 2...</td>\n",
       "      <td>Moon Phase calculatorSeptember 29, 2020 2h</td>\n",
       "      <td>| waxing gibbous moon\\n92.30% illuminated</td>\n",
       "      <td>2020-09-29</td>\n",
       "      <td>2</td>\n",
       "      <td>10</td>\n",
       "      <td>3</td>\n",
       "      <td>100</td>\n",
       "      <td>rain</td>\n",
       "      <td>waxing gibbous moon</td>\n",
       "      <td>92.30</td>\n",
       "      <td>LC</td>\n",
       "    </tr>\n",
       "  </tbody>\n",
       "</table>\n",
       "</div>"
      ],
      "text/plain": [
       "            Timestamp                                        temperature  \\\n",
       "0 2020-09-29 00:00:00  10 °C\\n(12:00 am CEST | Tuesday, September 29,...   \n",
       "1 2020-09-29 01:00:00  10 °C\\n(1:00 am CEST | Tuesday, September 29, ...   \n",
       "2 2020-09-29 02:00:00  10 °C\\n(2:00 am CEST | Tuesday, September 29, ...   \n",
       "\n",
       "                                            humidity  \\\n",
       "0  average: 100% (100%)\\n(12:00 am CEST | Tuesday...   \n",
       "1  average: 100% (100%)\\n(1:00 am CEST | Tuesday,...   \n",
       "2  average: 100% (100%)\\n(2:00 am CEST | Tuesday,...   \n",
       "\n",
       "                                          wind speed  \\\n",
       "0  2 m/s\\n(12:00 am CEST | Tuesday, September 29,...   \n",
       "1  3 m/s\\n(1:00 am CEST | Tuesday, September 29, ...   \n",
       "2  3 m/s\\n(2:00 am CEST | Tuesday, September 29, ...   \n",
       "\n",
       "                                Precipitation amount  \\\n",
       "0  rain\\n(12:00 am CEST | Tuesday, September 29, ...   \n",
       "1  rain\\n(1:00 am CEST | Tuesday, September 29, 2...   \n",
       "2  rain\\n(2:00 am CEST | Tuesday, September 29, 2...   \n",
       "\n",
       "                                        query  \\\n",
       "0  Moon Phase calculatorSeptember 29, 2020 0h   \n",
       "1  Moon Phase calculatorSeptember 29, 2020 1h   \n",
       "2  Moon Phase calculatorSeptember 29, 2020 2h   \n",
       "\n",
       "                       Moon Phase calculator       date  hour  temperature_C  \\\n",
       "0  | waxing gibbous moon\\n91.87% illuminated 2020-09-29     0             10   \n",
       "1  | waxing gibbous moon\\n92.09% illuminated 2020-09-29     1             10   \n",
       "2  | waxing gibbous moon\\n92.30% illuminated 2020-09-29     2             10   \n",
       "\n",
       "   wind_speed_mpers  humidity_avgpercent  rain             MoonName  \\\n",
       "0                 2                  100  rain  waxing gibbous moon   \n",
       "1                 3                  100  rain  waxing gibbous moon   \n",
       "2                 3                  100  rain  waxing gibbous moon   \n",
       "\n",
       "   Illumination_percentage croissant_decroissant  \n",
       "0                    91.87                    LC  \n",
       "1                    92.09                    LC  \n",
       "2                    92.30                    LC  "
      ]
     },
     "execution_count": 8,
     "metadata": {},
     "output_type": "execute_result"
    }
   ],
   "source": [
    "df_weather['MoonName'] = df_weather['Moon Phase calculator'].map(lambda x: x.strip('|').strip(' ').split('\\n')[0] if x!='ERROR' else 'ERROR')\n",
    "df_weather['Illumination_percentage'] = df_weather['Moon Phase calculator'].map(lambda x: float(x.strip('|').strip(' ').split('\\n')[1].replace(' illuminated','').strip('%').strip(' ')) if x!='ERROR' else 'ERROR')\n",
    "#print(df['MoaonName'].value_counts())\n",
    "#df['Illumination_percentage'].value_counts()\n",
    "\n",
    "dico_CD = {'ERROR':'ERROR', \n",
    "           'first quarter moon':'LC', \n",
    "           'full moon':'Lchangement', \n",
    "           'last quarter moon':'DC',\n",
    "           'new moon':'Lchangement', \n",
    "           'waning crescent moon':'DC', \n",
    "           'waning gibbous moon':'DC',\n",
    "           'waxing crescent moon':'LC', \n",
    "           'waxing gibbous moon':'LC'}\n",
    "#it seems that the order of the events are as follow:\n",
    "#full moon, waning gibbous moon, last quarter moon, waning crescent moon, \n",
    "#new moon, waxing crescent moon, first quarter moon, waxing gibbous moon,\n",
    "#full moon,...\n",
    "#defintion: De la Nouvelle Lune (éclat minimum) à la Pleine Lune (éclat maximum) on dit que la Lune est Croissante car \n",
    "#sa partie éclairée grossit de jour en jour. De la Pleine Lune à la Nouvelle Lune, on dit que la Lune est Décroissante.\n",
    "df_weather['croissant_decroissant'] = df_weather['MoonName'].map(lambda x: dico_CD[x])\n",
    "#lucie ascendatne et descendante n'est pas indiqué ici.\n",
    "df_weather.head(3)"
   ]
  },
  {
   "cell_type": "code",
   "execution_count": 9,
   "metadata": {},
   "outputs": [
    {
     "data": {
      "text/plain": [
       "LC             2802\n",
       "DC             2679\n",
       "Lchangement     323\n",
       "Name: croissant_decroissant, dtype: int64"
      ]
     },
     "execution_count": 9,
     "metadata": {},
     "output_type": "execute_result"
    }
   ],
   "source": [
    "df_weather['croissant_decroissant'].value_counts()"
   ]
  },
  {
   "cell_type": "code",
   "execution_count": 10,
   "metadata": {},
   "outputs": [
    {
     "data": {
      "text/html": [
       "<div>\n",
       "<style scoped>\n",
       "    .dataframe tbody tr th:only-of-type {\n",
       "        vertical-align: middle;\n",
       "    }\n",
       "\n",
       "    .dataframe tbody tr th {\n",
       "        vertical-align: top;\n",
       "    }\n",
       "\n",
       "    .dataframe thead th {\n",
       "        text-align: right;\n",
       "    }\n",
       "</style>\n",
       "<table border=\"1\" class=\"dataframe\">\n",
       "  <thead>\n",
       "    <tr style=\"text-align: right;\">\n",
       "      <th></th>\n",
       "      <th>MoonName</th>\n",
       "      <th>Illumination_percentage</th>\n",
       "      <th>min_illumination</th>\n",
       "      <th>max_illumination</th>\n",
       "    </tr>\n",
       "  </thead>\n",
       "  <tbody>\n",
       "    <tr>\n",
       "      <th>0</th>\n",
       "      <td>first quarter moon</td>\n",
       "      <td>[44.7, 45.14, 45.58, 46.02, 46.46, 46.9, 47.34...</td>\n",
       "      <td>44.69</td>\n",
       "      <td>55.24</td>\n",
       "    </tr>\n",
       "    <tr>\n",
       "      <th>1</th>\n",
       "      <td>full moon</td>\n",
       "      <td>[99.74, 99.76, 99.78, 99.79, 99.81, 99.82, 99....</td>\n",
       "      <td>99.72</td>\n",
       "      <td>100.00</td>\n",
       "    </tr>\n",
       "    <tr>\n",
       "      <th>2</th>\n",
       "      <td>last quarter moon</td>\n",
       "      <td>[55.07, 54.65, 54.23, 53.81, 53.39, 52.96, 52....</td>\n",
       "      <td>44.73</td>\n",
       "      <td>55.22</td>\n",
       "    </tr>\n",
       "    <tr>\n",
       "      <th>3</th>\n",
       "      <td>new moon</td>\n",
       "      <td>[0.27, 0.23, 0.21, 0.18, 0.16, 0.15, 0.14, 0.1...</td>\n",
       "      <td>0.00</td>\n",
       "      <td>0.28</td>\n",
       "    </tr>\n",
       "    <tr>\n",
       "      <th>4</th>\n",
       "      <td>waning crescent moon</td>\n",
       "      <td>[44.38, 43.95, 43.51, 43.08, 42.65, 42.21, 41....</td>\n",
       "      <td>0.29</td>\n",
       "      <td>44.68</td>\n",
       "    </tr>\n",
       "    <tr>\n",
       "      <th>5</th>\n",
       "      <td>waning gibbous moon</td>\n",
       "      <td>[99.71, 99.68, 99.65, 99.61, 99.58, 99.54, 99....</td>\n",
       "      <td>55.34</td>\n",
       "      <td>99.72</td>\n",
       "    </tr>\n",
       "    <tr>\n",
       "      <th>6</th>\n",
       "      <td>waxing crescent moon</td>\n",
       "      <td>[0.32, 0.37, 0.42, 0.48, 0.54, 0.61, 0.68, 0.7...</td>\n",
       "      <td>0.28</td>\n",
       "      <td>44.64</td>\n",
       "    </tr>\n",
       "    <tr>\n",
       "      <th>7</th>\n",
       "      <td>waxing gibbous moon</td>\n",
       "      <td>[91.87, 92.09, 92.3, 92.51, 92.73, 92.93, 93.1...</td>\n",
       "      <td>55.34</td>\n",
       "      <td>99.71</td>\n",
       "    </tr>\n",
       "  </tbody>\n",
       "</table>\n",
       "</div>"
      ],
      "text/plain": [
       "               MoonName                            Illumination_percentage  \\\n",
       "0    first quarter moon  [44.7, 45.14, 45.58, 46.02, 46.46, 46.9, 47.34...   \n",
       "1             full moon  [99.74, 99.76, 99.78, 99.79, 99.81, 99.82, 99....   \n",
       "2     last quarter moon  [55.07, 54.65, 54.23, 53.81, 53.39, 52.96, 52....   \n",
       "3              new moon  [0.27, 0.23, 0.21, 0.18, 0.16, 0.15, 0.14, 0.1...   \n",
       "4  waning crescent moon  [44.38, 43.95, 43.51, 43.08, 42.65, 42.21, 41....   \n",
       "5   waning gibbous moon  [99.71, 99.68, 99.65, 99.61, 99.58, 99.54, 99....   \n",
       "6  waxing crescent moon  [0.32, 0.37, 0.42, 0.48, 0.54, 0.61, 0.68, 0.7...   \n",
       "7   waxing gibbous moon  [91.87, 92.09, 92.3, 92.51, 92.73, 92.93, 93.1...   \n",
       "\n",
       "   min_illumination  max_illumination  \n",
       "0             44.69             55.24  \n",
       "1             99.72            100.00  \n",
       "2             44.73             55.22  \n",
       "3              0.00              0.28  \n",
       "4              0.29             44.68  \n",
       "5             55.34             99.72  \n",
       "6              0.28             44.64  \n",
       "7             55.34             99.71  "
      ]
     },
     "execution_count": 10,
     "metadata": {},
     "output_type": "execute_result"
    }
   ],
   "source": [
    "#to get a general udnerstanding of the data\n",
    "df_moon = df_weather.groupby(['MoonName'])['Illumination_percentage'].agg(lambda x: list(x)).reset_index()\n",
    "df_moon['min_illumination'] = df_moon['Illumination_percentage'].map(lambda x: min(x) if x!='ERROR' else 'ERROR' )\n",
    "df_moon['max_illumination'] = df_moon['Illumination_percentage'].map(lambda x: max(x) if x!='ERROR' else 'ERROR' )\n",
    "df_moon"
   ]
  },
  {
   "cell_type": "code",
   "execution_count": 11,
   "metadata": {},
   "outputs": [
    {
     "data": {
      "text/plain": [
       "'Moon Phase calculatorSeptember 29, 2020 0h'"
      ]
     },
     "execution_count": 11,
     "metadata": {},
     "output_type": "execute_result"
    }
   ],
   "source": [
    "df_weather['query'].iloc[0]"
   ]
  },
  {
   "cell_type": "code",
   "execution_count": 12,
   "metadata": {},
   "outputs": [
    {
     "name": "stdout",
     "output_type": "stream",
     "text": [
      "(242, 6)\n"
     ]
    },
    {
     "data": {
      "text/html": [
       "<div>\n",
       "<style scoped>\n",
       "    .dataframe tbody tr th:only-of-type {\n",
       "        vertical-align: middle;\n",
       "    }\n",
       "\n",
       "    .dataframe tbody tr th {\n",
       "        vertical-align: top;\n",
       "    }\n",
       "\n",
       "    .dataframe thead th {\n",
       "        text-align: right;\n",
       "    }\n",
       "</style>\n",
       "<table border=\"1\" class=\"dataframe\">\n",
       "  <thead>\n",
       "    <tr style=\"text-align: right;\">\n",
       "      <th></th>\n",
       "      <th>date</th>\n",
       "      <th>temperature_C</th>\n",
       "      <th>humidity_avgpercent</th>\n",
       "      <th>had_rainorsnow</th>\n",
       "      <th>moon_name</th>\n",
       "      <th>Illumination_percentage</th>\n",
       "    </tr>\n",
       "  </thead>\n",
       "  <tbody>\n",
       "    <tr>\n",
       "      <th>0</th>\n",
       "      <td>2020-09-29</td>\n",
       "      <td>12.000</td>\n",
       "      <td>92.125</td>\n",
       "      <td>0</td>\n",
       "      <td>waxing gibbous moon</td>\n",
       "      <td>94.56625</td>\n",
       "    </tr>\n",
       "    <tr>\n",
       "      <th>1</th>\n",
       "      <td>2020-09-30</td>\n",
       "      <td>12.250</td>\n",
       "      <td>80.125</td>\n",
       "      <td>1</td>\n",
       "      <td>waxing gibbous moon</td>\n",
       "      <td>98.01625</td>\n",
       "    </tr>\n",
       "    <tr>\n",
       "      <th>2</th>\n",
       "      <td>2020-10-01</td>\n",
       "      <td>14.125</td>\n",
       "      <td>74.875</td>\n",
       "      <td>0</td>\n",
       "      <td>waxing gibbous moon</td>\n",
       "      <td>99.66250</td>\n",
       "    </tr>\n",
       "  </tbody>\n",
       "</table>\n",
       "</div>"
      ],
      "text/plain": [
       "        date  temperature_C  humidity_avgpercent  had_rainorsnow  \\\n",
       "0 2020-09-29         12.000               92.125               0   \n",
       "1 2020-09-30         12.250               80.125               1   \n",
       "2 2020-10-01         14.125               74.875               0   \n",
       "\n",
       "             moon_name  Illumination_percentage  \n",
       "0  waxing gibbous moon                 94.56625  \n",
       "1  waxing gibbous moon                 98.01625  \n",
       "2  waxing gibbous moon                 99.66250  "
      ]
     },
     "execution_count": 12,
     "metadata": {},
     "output_type": "execute_result"
    }
   ],
   "source": [
    "df_daily_weather = df_weather[df_weather['hour'].isin([10,11,12,13,14,15,16,17])].copy()\n",
    "df_daily_weather = df_daily_weather.groupby(['date']).agg(\n",
    "    temperature_C=pd.NamedAgg(column='temperature_C', aggfunc=lambda x: np.mean(x)),\n",
    "    humidity_avgpercent=pd.NamedAgg(column='humidity_avgpercent', aggfunc=lambda x: np.mean(x)),\n",
    "    had_rainorsnow=pd.NamedAgg(column='rain', aggfunc=lambda x: int(all([i=='no precipitation' for i in x]))),\n",
    "    moon_name=pd.NamedAgg(column='MoonName', aggfunc=lambda x: list(x)[0]),\n",
    "    Illumination_percentage=pd.NamedAgg(column='Illumination_percentage', aggfunc=lambda x: np.mean(x))).reset_index()\n",
    "df_daily_weather.to_csv(os.path.join(path_,'df_daily_weather.csv'), index=False, sep=';')\n",
    "print(df_daily_weather.shape)\n",
    "df_daily_weather.head(3)"
   ]
  },
  {
   "cell_type": "code",
   "execution_count": 13,
   "metadata": {},
   "outputs": [
    {
     "data": {
      "text/plain": [
       "had_rainorsnow\n",
       "0    81.226786\n",
       "1    65.135486\n",
       "Name: humidity_avgpercent, dtype: float64"
      ]
     },
     "execution_count": 13,
     "metadata": {},
     "output_type": "execute_result"
    }
   ],
   "source": [
    "df_daily_weather.groupby(['had_rainorsnow'])['humidity_avgpercent'].agg(lambda x: np.mean(x))"
   ]
  },
  {
   "cell_type": "code",
   "execution_count": null,
   "metadata": {},
   "outputs": [],
   "source": []
  },
  {
   "cell_type": "code",
   "execution_count": null,
   "metadata": {},
   "outputs": [],
   "source": []
  },
  {
   "cell_type": "code",
   "execution_count": null,
   "metadata": {},
   "outputs": [],
   "source": []
  },
  {
   "cell_type": "code",
   "execution_count": null,
   "metadata": {},
   "outputs": [],
   "source": []
  },
  {
   "cell_type": "code",
   "execution_count": null,
   "metadata": {},
   "outputs": [],
   "source": []
  },
  {
   "cell_type": "code",
   "execution_count": null,
   "metadata": {},
   "outputs": [],
   "source": []
  },
  {
   "cell_type": "code",
   "execution_count": null,
   "metadata": {},
   "outputs": [],
   "source": []
  }
 ],
 "metadata": {
  "kernelspec": {
   "display_name": "Python 3",
   "language": "python",
   "name": "python3"
  },
  "language_info": {
   "codemirror_mode": {
    "name": "ipython",
    "version": 3
   },
   "file_extension": ".py",
   "mimetype": "text/x-python",
   "name": "python",
   "nbconvert_exporter": "python",
   "pygments_lexer": "ipython3",
   "version": "3.8.5"
  }
 },
 "nbformat": 4,
 "nbformat_minor": 2
}
