{
 "cells": [
  {
   "cell_type": "code",
   "execution_count": 1,
   "metadata": {},
   "outputs": [],
   "source": [
    "#!pip install wolframalpha\n",
    "import datetime as dt\n",
    "import tqdm\n",
    "import os\n",
    "import pandas as pd\n",
    "import glob\n",
    "import numpy as np\n",
    "import sys\n",
    "\n",
    "import wolframalpha\n",
    "app_id = 'JU4PR2-E8JGQVLHXW'\n",
    "client = wolframalpha.Client(app_id)"
   ]
  },
  {
   "cell_type": "code",
   "execution_count": 2,
   "metadata": {},
   "outputs": [
    {
     "name": "stdout",
     "output_type": "stream",
     "text": [
      "3.8.5\n"
     ]
    }
   ],
   "source": [
    "from platform import python_version\n",
    "print(python_version())"
   ]
  },
  {
   "cell_type": "raw",
   "metadata": {},
   "source": [
    "To verify moon data:\n",
    "https://www.calendrier-lunaire.fr/calendrier/octobre-2020/\n",
    "https://www.pleine-lune.org/calendrier-lunaire-2020\n",
    "https://www.timeanddate.com/astronomy/moon/waning-crescent.html"
   ]
  },
  {
   "cell_type": "raw",
   "metadata": {},
   "source": [
    "#url parameter:\n",
    "#https://products.wolframalpha.com/simple-api/documentation/\n",
    "#http://api.wolframalpha.com/v2/query?appid=DEMO&input=population%20france&includepodid=Result\n",
    "http://api.wolframalpha.com/v2/query?appid=JU4PR2-E8JGQVLHXW&input=temperature%20Zollikofen&includepodid=Result"
   ]
  },
  {
   "cell_type": "markdown",
   "metadata": {},
   "source": [
    "#small example\n",
    "query = 'Precipitation amount in Zollikofen on October 6, 2020 1h'\n",
    "res = client.query(query)\n",
    "for t in res.results:\n",
    "    print(t.text)"
   ]
  },
  {
   "cell_type": "markdown",
   "metadata": {},
   "source": [
    "#small example\n",
    "query = 'Precipitation amount in Zollikofen '+d.strftime('%B')+' '+str(d.day)+', '+str(d.year)+' '+str(d.hour)+'h'\n",
    "res = client.query(query)\n",
    "for t in res.results:\n",
    "    print(t.text)"
   ]
  },
  {
   "cell_type": "markdown",
   "metadata": {},
   "source": [
    "#small example\n",
    "d = dt.datetime(2020,1,24,22,44,11)\n",
    "query = 'Moon Phase calculator'+d.strftime('%B')+' '+str(d.day)+', '+str(d.year)+' '+str(d.hour)+'h'\n",
    "res = client.query(query)\n",
    "r = ''\n",
    "for t in res.results:\n",
    "    print(t.text.strip('|').strip(' '))\n",
    "#for verification\n",
    "#https://www.pleine-lune.org/calendrier-lunaire-2020\n",
    "#res"
   ]
  },
  {
   "cell_type": "code",
   "execution_count": 3,
   "metadata": {},
   "outputs": [],
   "source": [
    "li_type = ['Precipitation amount', 'temperature', 'humidity', 'wind speed','Moon Phase calculator'] #pressure\n",
    "#path_ = r'D:\\vm_exchange\\PhD_Data\\Weather'\n",
    "path_ = r'C:\\Users\\camil\\Desktop\\vm_exchange\\PhD_Data\\Weather'"
   ]
  },
  {
   "cell_type": "code",
   "execution_count": 4,
   "metadata": {},
   "outputs": [
    {
     "name": "stdout",
     "output_type": "stream",
     "text": [
      "(6876, 7)\n",
      "We already have 6876 dates of weather\n",
      "(68, 7)\n"
     ]
    },
    {
     "data": {
      "text/html": [
       "<div>\n",
       "<style scoped>\n",
       "    .dataframe tbody tr th:only-of-type {\n",
       "        vertical-align: middle;\n",
       "    }\n",
       "\n",
       "    .dataframe tbody tr th {\n",
       "        vertical-align: top;\n",
       "    }\n",
       "\n",
       "    .dataframe thead th {\n",
       "        text-align: right;\n",
       "    }\n",
       "</style>\n",
       "<table border=\"1\" class=\"dataframe\">\n",
       "  <thead>\n",
       "    <tr style=\"text-align: right;\">\n",
       "      <th></th>\n",
       "      <th>date</th>\n",
       "      <th>temperature</th>\n",
       "      <th>humidity</th>\n",
       "      <th>wind speed</th>\n",
       "      <th>Precipitation amount</th>\n",
       "      <th>query</th>\n",
       "      <th>Moon Phase calculator</th>\n",
       "    </tr>\n",
       "  </thead>\n",
       "  <tbody>\n",
       "    <tr>\n",
       "      <th>6516</th>\n",
       "      <td>2020-11-05 22:00:00</td>\n",
       "      <td>8 °C\\n(10:00 pm CET | Thursday, November 5, 2020)</td>\n",
       "      <td>ERROR</td>\n",
       "      <td>1 m/s\\n(10:00 pm CET | Thursday, November 5, 2...</td>\n",
       "      <td>(unknown)\\n(10:00 pm CET | Thursday, November ...</td>\n",
       "      <td>Moon Phase calculatorNovember 5, 2020 22h</td>\n",
       "      <td>| waning gibbous moon\\n76.55% illuminated</td>\n",
       "    </tr>\n",
       "    <tr>\n",
       "      <th>6517</th>\n",
       "      <td>2020-11-16 19:00:00</td>\n",
       "      <td>7 °C\\n(7:00 pm CET | Monday, November 16, 2020)</td>\n",
       "      <td>ERROR</td>\n",
       "      <td>1 m/s\\n(7:00 pm CET | Monday, November 16, 2020)</td>\n",
       "      <td>(unknown)\\n(7:00 pm CET | Monday, November 16,...</td>\n",
       "      <td>Moon Phase calculatorNovember 16, 2020 19h</td>\n",
       "      <td>| waxing crescent moon\\n3.48% illuminated</td>\n",
       "    </tr>\n",
       "    <tr>\n",
       "      <th>6518</th>\n",
       "      <td>2020-11-16 21:00:00</td>\n",
       "      <td>5 °C\\n(9:00 pm CET | Monday, November 16, 2020)</td>\n",
       "      <td>ERROR</td>\n",
       "      <td>0 m/s\\n(9:00 pm CET | Monday, November 16, 2020)</td>\n",
       "      <td>(unknown)\\n(9:00 pm CET | Monday, November 16,...</td>\n",
       "      <td>Moon Phase calculatorNovember 16, 2020 21h</td>\n",
       "      <td>| waxing crescent moon\\n3.86% illuminated</td>\n",
       "    </tr>\n",
       "    <tr>\n",
       "      <th>6519</th>\n",
       "      <td>2020-12-15 21:00:00</td>\n",
       "      <td>4 °C\\n(9:00 pm CET | Tuesday, December 15, 2020)</td>\n",
       "      <td>ERROR</td>\n",
       "      <td>1 m/s\\n(9:00 pm CET | Tuesday, December 15, 2020)</td>\n",
       "      <td>(unknown)\\n(9:00 pm CET | Tuesday, December 15...</td>\n",
       "      <td>Moon Phase calculatorDecember 15, 2020 21h</td>\n",
       "      <td>| waxing crescent moon\\n1.86% illuminated</td>\n",
       "    </tr>\n",
       "    <tr>\n",
       "      <th>6520</th>\n",
       "      <td>2021-02-08 17:00:00</td>\n",
       "      <td>5 °C\\n(5:00 pm CET | Monday, February 8, 2021)</td>\n",
       "      <td>ERROR</td>\n",
       "      <td>5 m/s\\n(5:00 pm CET | Monday, February 8, 2021)</td>\n",
       "      <td>(unknown)\\n(5:00 pm CET | Monday, February 8, ...</td>\n",
       "      <td>Moon Phase calculatorFebruary 8, 2021 17h</td>\n",
       "      <td>| waning crescent moon\\n11.27% illuminated</td>\n",
       "    </tr>\n",
       "    <tr>\n",
       "      <th>...</th>\n",
       "      <td>...</td>\n",
       "      <td>...</td>\n",
       "      <td>...</td>\n",
       "      <td>...</td>\n",
       "      <td>...</td>\n",
       "      <td>...</td>\n",
       "      <td>...</td>\n",
       "    </tr>\n",
       "    <tr>\n",
       "      <th>6579</th>\n",
       "      <td>2021-06-02 16:00:00</td>\n",
       "      <td>ERROR</td>\n",
       "      <td>average: 51% (50 to 53%)\\n(4:00 pm CEST | Wedn...</td>\n",
       "      <td>ERROR</td>\n",
       "      <td>no precipitation\\n(4:00 pm CEST | Wednesday, J...</td>\n",
       "      <td>Moon Phase calculatorJune 2, 2021 16h</td>\n",
       "      <td>| last quarter moon\\n47.33% illuminated</td>\n",
       "    </tr>\n",
       "    <tr>\n",
       "      <th>6580</th>\n",
       "      <td>2021-06-04 23:00:00</td>\n",
       "      <td>16 °C\\n(11:00 pm CEST | Friday, June 4, 2021)</td>\n",
       "      <td>ERROR</td>\n",
       "      <td>3 m/s\\n(11:00 pm CEST | Friday, June 4, 2021)</td>\n",
       "      <td>rain\\n(11:00 pm CEST | Friday, June 4, 2021)</td>\n",
       "      <td>Moon Phase calculatorJune 4, 2021 23h</td>\n",
       "      <td>| waning crescent moon\\n25.75% illuminated</td>\n",
       "    </tr>\n",
       "    <tr>\n",
       "      <th>6581</th>\n",
       "      <td>2021-06-08 20:00:00</td>\n",
       "      <td>17 °C\\n(8:00 pm CEST | Tuesday, June 8, 2021)</td>\n",
       "      <td>ERROR</td>\n",
       "      <td>0 m/s\\n(8:00 pm CEST | Tuesday, June 8, 2021)</td>\n",
       "      <td>rain\\n(8:00 pm CEST | Tuesday, June 8, 2021)</td>\n",
       "      <td>Moon Phase calculatorJune 8, 2021 20h</td>\n",
       "      <td>| waning crescent moon\\n2.62% illuminated</td>\n",
       "    </tr>\n",
       "    <tr>\n",
       "      <th>6585</th>\n",
       "      <td>2021-06-22 06:00:00</td>\n",
       "      <td>15 °C\\n(6:00 am CEST | Tuesday, June 22, 2021)</td>\n",
       "      <td>ERROR</td>\n",
       "      <td>1 m/s\\n(6:00 am CEST | Tuesday, June 22, 2021)</td>\n",
       "      <td>no precipitation\\n(6:00 am CEST | Tuesday, Jun...</td>\n",
       "      <td>Moon Phase calculatorJune 22, 2021 6h</td>\n",
       "      <td>| waxing gibbous moon\\n90.22% illuminated</td>\n",
       "    </tr>\n",
       "    <tr>\n",
       "      <th>6875</th>\n",
       "      <td>2021-07-12 11:00:00</td>\n",
       "      <td>ERROR</td>\n",
       "      <td>ERROR</td>\n",
       "      <td>ERROR</td>\n",
       "      <td>no precipitation\\n(11:00 am CEST | Monday, Jul...</td>\n",
       "      <td>Moon Phase calculatorJuly 12, 2021 11h</td>\n",
       "      <td>| waxing crescent moon\\n5.65% illuminated</td>\n",
       "    </tr>\n",
       "  </tbody>\n",
       "</table>\n",
       "<p>68 rows × 7 columns</p>\n",
       "</div>"
      ],
      "text/plain": [
       "                    date                                        temperature  \\\n",
       "6516 2020-11-05 22:00:00  8 °C\\n(10:00 pm CET | Thursday, November 5, 2020)   \n",
       "6517 2020-11-16 19:00:00    7 °C\\n(7:00 pm CET | Monday, November 16, 2020)   \n",
       "6518 2020-11-16 21:00:00    5 °C\\n(9:00 pm CET | Monday, November 16, 2020)   \n",
       "6519 2020-12-15 21:00:00   4 °C\\n(9:00 pm CET | Tuesday, December 15, 2020)   \n",
       "6520 2021-02-08 17:00:00     5 °C\\n(5:00 pm CET | Monday, February 8, 2021)   \n",
       "...                  ...                                                ...   \n",
       "6579 2021-06-02 16:00:00                                              ERROR   \n",
       "6580 2021-06-04 23:00:00      16 °C\\n(11:00 pm CEST | Friday, June 4, 2021)   \n",
       "6581 2021-06-08 20:00:00      17 °C\\n(8:00 pm CEST | Tuesday, June 8, 2021)   \n",
       "6585 2021-06-22 06:00:00     15 °C\\n(6:00 am CEST | Tuesday, June 22, 2021)   \n",
       "6875 2021-07-12 11:00:00                                              ERROR   \n",
       "\n",
       "                                               humidity  \\\n",
       "6516                                              ERROR   \n",
       "6517                                              ERROR   \n",
       "6518                                              ERROR   \n",
       "6519                                              ERROR   \n",
       "6520                                              ERROR   \n",
       "...                                                 ...   \n",
       "6579  average: 51% (50 to 53%)\\n(4:00 pm CEST | Wedn...   \n",
       "6580                                              ERROR   \n",
       "6581                                              ERROR   \n",
       "6585                                              ERROR   \n",
       "6875                                              ERROR   \n",
       "\n",
       "                                             wind speed  \\\n",
       "6516  1 m/s\\n(10:00 pm CET | Thursday, November 5, 2...   \n",
       "6517   1 m/s\\n(7:00 pm CET | Monday, November 16, 2020)   \n",
       "6518   0 m/s\\n(9:00 pm CET | Monday, November 16, 2020)   \n",
       "6519  1 m/s\\n(9:00 pm CET | Tuesday, December 15, 2020)   \n",
       "6520    5 m/s\\n(5:00 pm CET | Monday, February 8, 2021)   \n",
       "...                                                 ...   \n",
       "6579                                              ERROR   \n",
       "6580      3 m/s\\n(11:00 pm CEST | Friday, June 4, 2021)   \n",
       "6581      0 m/s\\n(8:00 pm CEST | Tuesday, June 8, 2021)   \n",
       "6585     1 m/s\\n(6:00 am CEST | Tuesday, June 22, 2021)   \n",
       "6875                                              ERROR   \n",
       "\n",
       "                                   Precipitation amount  \\\n",
       "6516  (unknown)\\n(10:00 pm CET | Thursday, November ...   \n",
       "6517  (unknown)\\n(7:00 pm CET | Monday, November 16,...   \n",
       "6518  (unknown)\\n(9:00 pm CET | Monday, November 16,...   \n",
       "6519  (unknown)\\n(9:00 pm CET | Tuesday, December 15...   \n",
       "6520  (unknown)\\n(5:00 pm CET | Monday, February 8, ...   \n",
       "...                                                 ...   \n",
       "6579  no precipitation\\n(4:00 pm CEST | Wednesday, J...   \n",
       "6580       rain\\n(11:00 pm CEST | Friday, June 4, 2021)   \n",
       "6581       rain\\n(8:00 pm CEST | Tuesday, June 8, 2021)   \n",
       "6585  no precipitation\\n(6:00 am CEST | Tuesday, Jun...   \n",
       "6875  no precipitation\\n(11:00 am CEST | Monday, Jul...   \n",
       "\n",
       "                                           query  \\\n",
       "6516   Moon Phase calculatorNovember 5, 2020 22h   \n",
       "6517  Moon Phase calculatorNovember 16, 2020 19h   \n",
       "6518  Moon Phase calculatorNovember 16, 2020 21h   \n",
       "6519  Moon Phase calculatorDecember 15, 2020 21h   \n",
       "6520   Moon Phase calculatorFebruary 8, 2021 17h   \n",
       "...                                          ...   \n",
       "6579       Moon Phase calculatorJune 2, 2021 16h   \n",
       "6580       Moon Phase calculatorJune 4, 2021 23h   \n",
       "6581       Moon Phase calculatorJune 8, 2021 20h   \n",
       "6585       Moon Phase calculatorJune 22, 2021 6h   \n",
       "6875      Moon Phase calculatorJuly 12, 2021 11h   \n",
       "\n",
       "                           Moon Phase calculator  \n",
       "6516   | waning gibbous moon\\n76.55% illuminated  \n",
       "6517   | waxing crescent moon\\n3.48% illuminated  \n",
       "6518   | waxing crescent moon\\n3.86% illuminated  \n",
       "6519   | waxing crescent moon\\n1.86% illuminated  \n",
       "6520  | waning crescent moon\\n11.27% illuminated  \n",
       "...                                          ...  \n",
       "6579     | last quarter moon\\n47.33% illuminated  \n",
       "6580  | waning crescent moon\\n25.75% illuminated  \n",
       "6581   | waning crescent moon\\n2.62% illuminated  \n",
       "6585   | waxing gibbous moon\\n90.22% illuminated  \n",
       "6875   | waxing crescent moon\\n5.65% illuminated  \n",
       "\n",
       "[68 rows x 7 columns]"
      ]
     },
     "metadata": {},
     "output_type": "display_data"
    },
    {
     "name": "stdout",
     "output_type": "stream",
     "text": [
      "7369\n",
      "561\n",
      "WARNING: to many calls to be completed these queries!\n",
      "You need 2805 new queries to complete this date interval\n",
      "(6808, 7)\n"
     ]
    },
    {
     "data": {
      "text/html": [
       "<div>\n",
       "<style scoped>\n",
       "    .dataframe tbody tr th:only-of-type {\n",
       "        vertical-align: middle;\n",
       "    }\n",
       "\n",
       "    .dataframe tbody tr th {\n",
       "        vertical-align: top;\n",
       "    }\n",
       "\n",
       "    .dataframe thead th {\n",
       "        text-align: right;\n",
       "    }\n",
       "</style>\n",
       "<table border=\"1\" class=\"dataframe\">\n",
       "  <thead>\n",
       "    <tr style=\"text-align: right;\">\n",
       "      <th></th>\n",
       "      <th>date</th>\n",
       "      <th>temperature</th>\n",
       "      <th>humidity</th>\n",
       "      <th>wind speed</th>\n",
       "      <th>Precipitation amount</th>\n",
       "      <th>query</th>\n",
       "      <th>Moon Phase calculator</th>\n",
       "    </tr>\n",
       "  </thead>\n",
       "  <tbody>\n",
       "    <tr>\n",
       "      <th>6870</th>\n",
       "      <td>2021-07-12 06:00:00</td>\n",
       "      <td>12 °C\\n(6:00 am CEST | Monday, July 12, 2021)</td>\n",
       "      <td>average: 97% (94 to 100%)\\n(6:00 am CEST | Mon...</td>\n",
       "      <td>2 m/s\\n(6:00 am CEST | Monday, July 12, 2021)</td>\n",
       "      <td>no precipitation\\n(6:00 am CEST | Monday, July...</td>\n",
       "      <td>Moon Phase calculatorJuly 12, 2021 6h</td>\n",
       "      <td>| waxing crescent moon\\n4.70% illuminated</td>\n",
       "    </tr>\n",
       "    <tr>\n",
       "      <th>6871</th>\n",
       "      <td>2021-07-12 07:00:00</td>\n",
       "      <td>14 °C\\n(7:00 am CEST | Monday, July 12, 2021)</td>\n",
       "      <td>average: 94% (94%)\\n(7:00 am CEST | Monday, Ju...</td>\n",
       "      <td>3 m/s\\n(7:00 am CEST | Monday, July 12, 2021)</td>\n",
       "      <td>no precipitation\\n(7:00 am CEST | Monday, July...</td>\n",
       "      <td>Moon Phase calculatorJuly 12, 2021 7h</td>\n",
       "      <td>| waxing crescent moon\\n4.89% illuminated</td>\n",
       "    </tr>\n",
       "    <tr>\n",
       "      <th>6872</th>\n",
       "      <td>2021-07-12 08:00:00</td>\n",
       "      <td>17 °C\\n(8:00 am CEST | Monday, July 12, 2021)</td>\n",
       "      <td>average: 85% (83 to 88%)\\n(8:00 am CEST | Mond...</td>\n",
       "      <td>3 m/s\\n(8:00 am CEST | Monday, July 12, 2021)</td>\n",
       "      <td>no precipitation\\n(8:00 am CEST | Monday, July...</td>\n",
       "      <td>Moon Phase calculatorJuly 12, 2021 8h</td>\n",
       "      <td>| waxing crescent moon\\n5.07% illuminated</td>\n",
       "    </tr>\n",
       "    <tr>\n",
       "      <th>6873</th>\n",
       "      <td>2021-07-12 09:00:00</td>\n",
       "      <td>18 °C\\n(9:00 am CEST | Monday, July 12, 2021)</td>\n",
       "      <td>average: 75% (73 to 77%)\\n(9:00 am CEST | Mond...</td>\n",
       "      <td>1 m/s\\n(9:00 am CEST | Monday, July 12, 2021)</td>\n",
       "      <td>no precipitation\\n(9:00 am CEST | Monday, July...</td>\n",
       "      <td>Moon Phase calculatorJuly 12, 2021 9h</td>\n",
       "      <td>| waxing crescent moon\\n5.26% illuminated</td>\n",
       "    </tr>\n",
       "    <tr>\n",
       "      <th>6874</th>\n",
       "      <td>2021-07-12 10:00:00</td>\n",
       "      <td>20 °C\\n(10:00 am CEST | Monday, July 12, 2021)</td>\n",
       "      <td>average: 66% (64 to 68%)\\n(10:00 am CEST | Mon...</td>\n",
       "      <td>2 m/s\\n(10:00 am CEST | Monday, July 12, 2021)</td>\n",
       "      <td>no precipitation\\n(10:00 am CEST | Monday, Jul...</td>\n",
       "      <td>Moon Phase calculatorJuly 12, 2021 10h</td>\n",
       "      <td>| waxing crescent moon\\n5.45% illuminated</td>\n",
       "    </tr>\n",
       "  </tbody>\n",
       "</table>\n",
       "</div>"
      ],
      "text/plain": [
       "                    date                                     temperature  \\\n",
       "6870 2021-07-12 06:00:00   12 °C\\n(6:00 am CEST | Monday, July 12, 2021)   \n",
       "6871 2021-07-12 07:00:00   14 °C\\n(7:00 am CEST | Monday, July 12, 2021)   \n",
       "6872 2021-07-12 08:00:00   17 °C\\n(8:00 am CEST | Monday, July 12, 2021)   \n",
       "6873 2021-07-12 09:00:00   18 °C\\n(9:00 am CEST | Monday, July 12, 2021)   \n",
       "6874 2021-07-12 10:00:00  20 °C\\n(10:00 am CEST | Monday, July 12, 2021)   \n",
       "\n",
       "                                               humidity  \\\n",
       "6870  average: 97% (94 to 100%)\\n(6:00 am CEST | Mon...   \n",
       "6871  average: 94% (94%)\\n(7:00 am CEST | Monday, Ju...   \n",
       "6872  average: 85% (83 to 88%)\\n(8:00 am CEST | Mond...   \n",
       "6873  average: 75% (73 to 77%)\\n(9:00 am CEST | Mond...   \n",
       "6874  average: 66% (64 to 68%)\\n(10:00 am CEST | Mon...   \n",
       "\n",
       "                                          wind speed  \\\n",
       "6870   2 m/s\\n(6:00 am CEST | Monday, July 12, 2021)   \n",
       "6871   3 m/s\\n(7:00 am CEST | Monday, July 12, 2021)   \n",
       "6872   3 m/s\\n(8:00 am CEST | Monday, July 12, 2021)   \n",
       "6873   1 m/s\\n(9:00 am CEST | Monday, July 12, 2021)   \n",
       "6874  2 m/s\\n(10:00 am CEST | Monday, July 12, 2021)   \n",
       "\n",
       "                                   Precipitation amount  \\\n",
       "6870  no precipitation\\n(6:00 am CEST | Monday, July...   \n",
       "6871  no precipitation\\n(7:00 am CEST | Monday, July...   \n",
       "6872  no precipitation\\n(8:00 am CEST | Monday, July...   \n",
       "6873  no precipitation\\n(9:00 am CEST | Monday, July...   \n",
       "6874  no precipitation\\n(10:00 am CEST | Monday, Jul...   \n",
       "\n",
       "                                       query  \\\n",
       "6870   Moon Phase calculatorJuly 12, 2021 6h   \n",
       "6871   Moon Phase calculatorJuly 12, 2021 7h   \n",
       "6872   Moon Phase calculatorJuly 12, 2021 8h   \n",
       "6873   Moon Phase calculatorJuly 12, 2021 9h   \n",
       "6874  Moon Phase calculatorJuly 12, 2021 10h   \n",
       "\n",
       "                          Moon Phase calculator  \n",
       "6870  | waxing crescent moon\\n4.70% illuminated  \n",
       "6871  | waxing crescent moon\\n4.89% illuminated  \n",
       "6872  | waxing crescent moon\\n5.07% illuminated  \n",
       "6873  | waxing crescent moon\\n5.26% illuminated  \n",
       "6874  | waxing crescent moon\\n5.45% illuminated  "
      ]
     },
     "execution_count": 4,
     "metadata": {},
     "output_type": "execute_result"
    }
   ],
   "source": [
    "mi = dt.datetime(2020,9,29)\n",
    "#ma = dt.datetime(2019,9,2)\n",
    "ma = dt.datetime(2021,8,2)\n",
    "df = pd.DataFrame(columns=['date', 'temperature', 'humidity', 'wind speed', 'Precipitation amount',\n",
    "                           'Moon Phase calculator','query']) #pressure\n",
    "path_weather = os.path.join(path_,'weather.csv')\n",
    "if len(glob.glob(path_weather))==1:\n",
    "    df = pd.read_csv(path_weather, sep=';', parse_dates=['date'])\n",
    "    #remove the last date, in case we stop in middle of the data to grab\n",
    "    #df = df[df['date']!=max(df['date'].unique())]\n",
    "    df = df.drop_duplicates(subset=None, keep='first', inplace=False)\n",
    "    print(df.shape)\n",
    "    print('We already have %d dates of weather'%df.shape[0])\n",
    "    #mi = max(mi, max(df['date'].tolist())) #not a good idea in case of errors as in that case we would like to try it again \n",
    "print(df[df.isin([\"ERROR\"]).any(axis=1)].shape)\n",
    "display(df[df.isin([\"ERROR\"]).any(axis=1)])\n",
    "df = df[~df.isin([\"ERROR\"]).any(axis=1)]\n",
    "#remove the rows with at least one error\n",
    "Daterange = pd.date_range(start=mi, end=ma, freq='H')   \n",
    "print(len(Daterange))\n",
    "Daterange = [d for d in Daterange if d not in df['date'].unique()]\n",
    "print(len(Daterange))\n",
    "if (len(Daterange)*len(li_type))>=2000:\n",
    "    print('WARNING: to many calls to be completed these queries!')\n",
    "print('You need %d new queries to complete this date interval'%(len(Daterange)*len(li_type)))\n",
    "df = df.sort_values(['date'])\n",
    "print(df.shape)\n",
    "df.tail(5)"
   ]
  },
  {
   "cell_type": "code",
   "execution_count": 5,
   "metadata": {
    "scrolled": true
   },
   "outputs": [
    {
     "name": "stderr",
     "output_type": "stream",
     "text": [
      "\r",
      "  0%|                                                                                          | 0/561 [00:00<?, ?it/s]"
     ]
    },
    {
     "name": "stdout",
     "output_type": "stream",
     "text": [
      "QUERY:  Precipitation amount in Zollikofen November 5, 2020 22h\n",
      "QUERY:  temperature in Zollikofen November 5, 2020 22h\n",
      "QUERY:  humidity in Zollikofen November 5, 2020 22h\n",
      "ERROR: no data available-------------  humidity in Zollikofen November 5, 2020 22h\n",
      "ERROR:------------- name 'error' is not defined  ----------  humidity in Zollikofen November 5, 2020 22h\n",
      "QUERY:  wind speed in Zollikofen November 5, 2020 22h\n",
      "QUERY:  Moon Phase calculatorNovember 5, 2020 22h\n",
      "(6809, 7)\n"
     ]
    },
    {
     "data": {
      "text/html": [
       "<div>\n",
       "<style scoped>\n",
       "    .dataframe tbody tr th:only-of-type {\n",
       "        vertical-align: middle;\n",
       "    }\n",
       "\n",
       "    .dataframe tbody tr th {\n",
       "        vertical-align: top;\n",
       "    }\n",
       "\n",
       "    .dataframe thead th {\n",
       "        text-align: right;\n",
       "    }\n",
       "</style>\n",
       "<table border=\"1\" class=\"dataframe\">\n",
       "  <thead>\n",
       "    <tr style=\"text-align: right;\">\n",
       "      <th></th>\n",
       "      <th>date</th>\n",
       "      <th>temperature</th>\n",
       "      <th>humidity</th>\n",
       "      <th>wind speed</th>\n",
       "      <th>Precipitation amount</th>\n",
       "      <th>query</th>\n",
       "      <th>Moon Phase calculator</th>\n",
       "    </tr>\n",
       "  </thead>\n",
       "  <tbody>\n",
       "    <tr>\n",
       "      <th>6874</th>\n",
       "      <td>2021-07-12 10:00:00</td>\n",
       "      <td>20 °C\\n(10:00 am CEST | Monday, July 12, 2021)</td>\n",
       "      <td>average: 66% (64 to 68%)\\n(10:00 am CEST | Mon...</td>\n",
       "      <td>2 m/s\\n(10:00 am CEST | Monday, July 12, 2021)</td>\n",
       "      <td>no precipitation\\n(10:00 am CEST | Monday, Jul...</td>\n",
       "      <td>Moon Phase calculatorJuly 12, 2021 10h</td>\n",
       "      <td>| waxing crescent moon\\n5.45% illuminated</td>\n",
       "    </tr>\n",
       "    <tr>\n",
       "      <th>0</th>\n",
       "      <td>2020-11-05 22:00:00</td>\n",
       "      <td>8 °C\\n(10:00 pm CET | Thursday, November 5, 2020)</td>\n",
       "      <td>ERROR</td>\n",
       "      <td>1 m/s\\n(10:00 pm CET | Thursday, November 5, 2...</td>\n",
       "      <td>(unknown)\\n(10:00 pm CET | Thursday, November ...</td>\n",
       "      <td>Moon Phase calculatorNovember 5, 2020 22h</td>\n",
       "      <td>| waning gibbous moon\\n76.55% illuminated</td>\n",
       "    </tr>\n",
       "  </tbody>\n",
       "</table>\n",
       "</div>"
      ],
      "text/plain": [
       "                    date                                        temperature  \\\n",
       "6874 2021-07-12 10:00:00     20 °C\\n(10:00 am CEST | Monday, July 12, 2021)   \n",
       "0    2020-11-05 22:00:00  8 °C\\n(10:00 pm CET | Thursday, November 5, 2020)   \n",
       "\n",
       "                                               humidity  \\\n",
       "6874  average: 66% (64 to 68%)\\n(10:00 am CEST | Mon...   \n",
       "0                                                 ERROR   \n",
       "\n",
       "                                             wind speed  \\\n",
       "6874     2 m/s\\n(10:00 am CEST | Monday, July 12, 2021)   \n",
       "0     1 m/s\\n(10:00 pm CET | Thursday, November 5, 2...   \n",
       "\n",
       "                                   Precipitation amount  \\\n",
       "6874  no precipitation\\n(10:00 am CEST | Monday, Jul...   \n",
       "0     (unknown)\\n(10:00 pm CET | Thursday, November ...   \n",
       "\n",
       "                                          query  \\\n",
       "6874     Moon Phase calculatorJuly 12, 2021 10h   \n",
       "0     Moon Phase calculatorNovember 5, 2020 22h   \n",
       "\n",
       "                          Moon Phase calculator  \n",
       "6874  | waxing crescent moon\\n5.45% illuminated  \n",
       "0     | waning gibbous moon\\n76.55% illuminated  "
      ]
     },
     "metadata": {},
     "output_type": "display_data"
    },
    {
     "name": "stderr",
     "output_type": "stream",
     "text": [
      "\r",
      "  0%|▏                                                                               | 1/561 [00:23<3:36:39, 23.21s/it]"
     ]
    },
    {
     "name": "stdout",
     "output_type": "stream",
     "text": [
      "QUERY:  Precipitation amount in Zollikofen November 16, 2020 19h\n",
      "QUERY:  temperature in Zollikofen November 16, 2020 19h\n",
      "QUERY:  humidity in Zollikofen November 16, 2020 19h\n",
      "ERROR: no data available-------------  humidity in Zollikofen November 16, 2020 19h\n",
      "ERROR:------------- name 'error' is not defined  ----------  humidity in Zollikofen November 16, 2020 19h\n",
      "QUERY:  wind speed in Zollikofen November 16, 2020 19h\n",
      "QUERY:  Moon Phase calculatorNovember 16, 2020 19h\n"
     ]
    },
    {
     "name": "stderr",
     "output_type": "stream",
     "text": [
      "\r",
      "  0%|▎                                                                               | 2/561 [00:44<3:31:38, 22.72s/it]"
     ]
    },
    {
     "name": "stdout",
     "output_type": "stream",
     "text": [
      "QUERY:  Precipitation amount in Zollikofen November 16, 2020 21h\n",
      "QUERY:  temperature in Zollikofen November 16, 2020 21h\n",
      "QUERY:  humidity in Zollikofen November 16, 2020 21h\n",
      "ERROR: no data available-------------  humidity in Zollikofen November 16, 2020 21h\n",
      "ERROR:------------- name 'error' is not defined  ----------  humidity in Zollikofen November 16, 2020 21h\n",
      "QUERY:  wind speed in Zollikofen November 16, 2020 21h\n",
      "QUERY:  Moon Phase calculatorNovember 16, 2020 21h\n"
     ]
    },
    {
     "name": "stderr",
     "output_type": "stream",
     "text": [
      "\r",
      "  1%|▍                                                                               | 3/561 [01:04<3:23:35, 21.89s/it]"
     ]
    },
    {
     "name": "stdout",
     "output_type": "stream",
     "text": [
      "QUERY:  Precipitation amount in Zollikofen December 15, 2020 21h\n",
      "QUERY:  temperature in Zollikofen December 15, 2020 21h\n",
      "QUERY:  humidity in Zollikofen December 15, 2020 21h\n",
      "ERROR: no data available-------------  humidity in Zollikofen December 15, 2020 21h\n",
      "ERROR:------------- name 'error' is not defined  ----------  humidity in Zollikofen December 15, 2020 21h\n",
      "QUERY:  wind speed in Zollikofen December 15, 2020 21h\n",
      "QUERY:  Moon Phase calculatorDecember 15, 2020 21h\n"
     ]
    },
    {
     "name": "stderr",
     "output_type": "stream",
     "text": [
      "\r",
      "  1%|▌                                                                               | 4/561 [01:26<3:22:14, 21.79s/it]"
     ]
    },
    {
     "name": "stdout",
     "output_type": "stream",
     "text": [
      "QUERY:  Precipitation amount in Zollikofen February 8, 2021 17h\n",
      "QUERY:  temperature in Zollikofen February 8, 2021 17h\n",
      "QUERY:  humidity in Zollikofen February 8, 2021 17h\n",
      "ERROR: no data available-------------  humidity in Zollikofen February 8, 2021 17h\n",
      "ERROR:------------- name 'error' is not defined  ----------  humidity in Zollikofen February 8, 2021 17h\n",
      "QUERY:  wind speed in Zollikofen February 8, 2021 17h\n",
      "QUERY:  Moon Phase calculatorFebruary 8, 2021 17h\n"
     ]
    },
    {
     "name": "stderr",
     "output_type": "stream",
     "text": [
      "\r",
      "  1%|▋                                                                               | 5/561 [01:46<3:16:49, 21.24s/it]"
     ]
    },
    {
     "name": "stdout",
     "output_type": "stream",
     "text": [
      "QUERY:  Precipitation amount in Zollikofen February 8, 2021 18h\n",
      "QUERY:  temperature in Zollikofen February 8, 2021 18h\n",
      "QUERY:  humidity in Zollikofen February 8, 2021 18h\n",
      "ERROR: no data available-------------  humidity in Zollikofen February 8, 2021 18h\n",
      "ERROR:------------- name 'error' is not defined  ----------  humidity in Zollikofen February 8, 2021 18h\n",
      "QUERY:  wind speed in Zollikofen February 8, 2021 18h\n",
      "QUERY:  Moon Phase calculatorFebruary 8, 2021 18h\n"
     ]
    },
    {
     "name": "stderr",
     "output_type": "stream",
     "text": [
      "\r",
      "  1%|▊                                                                               | 6/561 [02:07<3:15:49, 21.17s/it]"
     ]
    },
    {
     "name": "stdout",
     "output_type": "stream",
     "text": [
      "QUERY:  Precipitation amount in Zollikofen February 8, 2021 19h\n",
      "QUERY:  temperature in Zollikofen February 8, 2021 19h\n",
      "QUERY:  humidity in Zollikofen February 8, 2021 19h\n",
      "ERROR: no data available-------------  humidity in Zollikofen February 8, 2021 19h\n",
      "ERROR:------------- name 'error' is not defined  ----------  humidity in Zollikofen February 8, 2021 19h\n",
      "QUERY:  wind speed in Zollikofen February 8, 2021 19h\n",
      "QUERY:  Moon Phase calculatorFebruary 8, 2021 19h\n"
     ]
    },
    {
     "name": "stderr",
     "output_type": "stream",
     "text": [
      "\r",
      "  1%|▉                                                                               | 7/561 [02:29<3:17:35, 21.40s/it]"
     ]
    },
    {
     "name": "stdout",
     "output_type": "stream",
     "text": [
      "QUERY:  Precipitation amount in Zollikofen February 8, 2021 20h\n",
      "QUERY:  temperature in Zollikofen February 8, 2021 20h\n",
      "QUERY:  humidity in Zollikofen February 8, 2021 20h\n",
      "ERROR: no data available-------------  humidity in Zollikofen February 8, 2021 20h\n",
      "ERROR:------------- name 'error' is not defined  ----------  humidity in Zollikofen February 8, 2021 20h\n",
      "QUERY:  wind speed in Zollikofen February 8, 2021 20h\n",
      "QUERY:  Moon Phase calculatorFebruary 8, 2021 20h\n"
     ]
    },
    {
     "name": "stderr",
     "output_type": "stream",
     "text": [
      "\r",
      "  1%|█▏                                                                              | 8/561 [02:49<3:13:52, 21.03s/it]"
     ]
    },
    {
     "name": "stdout",
     "output_type": "stream",
     "text": [
      "QUERY:  Precipitation amount in Zollikofen February 9, 2021 9h\n",
      "QUERY:  temperature in Zollikofen February 9, 2021 9h\n",
      "QUERY:  humidity in Zollikofen February 9, 2021 9h\n",
      "ERROR: no data available-------------  humidity in Zollikofen February 9, 2021 9h\n",
      "ERROR:------------- name 'error' is not defined  ----------  humidity in Zollikofen February 9, 2021 9h\n",
      "QUERY:  wind speed in Zollikofen February 9, 2021 9h\n",
      "QUERY:  Moon Phase calculatorFebruary 9, 2021 9h\n"
     ]
    },
    {
     "name": "stderr",
     "output_type": "stream",
     "text": [
      "\r",
      "  2%|█▎                                                                              | 9/561 [03:08<3:09:13, 20.57s/it]"
     ]
    },
    {
     "name": "stdout",
     "output_type": "stream",
     "text": [
      "QUERY:  Precipitation amount in Zollikofen February 9, 2021 10h\n",
      "QUERY:  temperature in Zollikofen February 9, 2021 10h\n",
      "QUERY:  humidity in Zollikofen February 9, 2021 10h\n",
      "ERROR: no data available-------------  humidity in Zollikofen February 9, 2021 10h\n",
      "ERROR:------------- name 'error' is not defined  ----------  humidity in Zollikofen February 9, 2021 10h\n",
      "QUERY:  wind speed in Zollikofen February 9, 2021 10h\n",
      "QUERY:  Moon Phase calculatorFebruary 9, 2021 10h\n"
     ]
    },
    {
     "name": "stderr",
     "output_type": "stream",
     "text": [
      "\r",
      "  2%|█▍                                                                             | 10/561 [03:29<3:08:58, 20.58s/it]"
     ]
    },
    {
     "name": "stdout",
     "output_type": "stream",
     "text": [
      "QUERY:  Precipitation amount in Zollikofen February 9, 2021 11h\n",
      "QUERY:  temperature in Zollikofen February 9, 2021 11h\n",
      "QUERY:  humidity in Zollikofen February 9, 2021 11h\n",
      "ERROR: no data available-------------  humidity in Zollikofen February 9, 2021 11h\n",
      "ERROR:------------- name 'error' is not defined  ----------  humidity in Zollikofen February 9, 2021 11h\n",
      "QUERY:  wind speed in Zollikofen February 9, 2021 11h\n",
      "QUERY:  Moon Phase calculatorFebruary 9, 2021 11h\n",
      "(6819, 7)\n"
     ]
    },
    {
     "data": {
      "text/html": [
       "<div>\n",
       "<style scoped>\n",
       "    .dataframe tbody tr th:only-of-type {\n",
       "        vertical-align: middle;\n",
       "    }\n",
       "\n",
       "    .dataframe tbody tr th {\n",
       "        vertical-align: top;\n",
       "    }\n",
       "\n",
       "    .dataframe thead th {\n",
       "        text-align: right;\n",
       "    }\n",
       "</style>\n",
       "<table border=\"1\" class=\"dataframe\">\n",
       "  <thead>\n",
       "    <tr style=\"text-align: right;\">\n",
       "      <th></th>\n",
       "      <th>date</th>\n",
       "      <th>temperature</th>\n",
       "      <th>humidity</th>\n",
       "      <th>wind speed</th>\n",
       "      <th>Precipitation amount</th>\n",
       "      <th>query</th>\n",
       "      <th>Moon Phase calculator</th>\n",
       "    </tr>\n",
       "  </thead>\n",
       "  <tbody>\n",
       "    <tr>\n",
       "      <th>8</th>\n",
       "      <td>2021-02-09 10:00:00</td>\n",
       "      <td>0 °C\\n(10:00 am CET | Tuesday, February 9, 2021)</td>\n",
       "      <td>ERROR</td>\n",
       "      <td>1 m/s\\n(10:00 am CET | Tuesday, February 9, 2021)</td>\n",
       "      <td>(unknown)\\n(10:00 am CET | Tuesday, February 9...</td>\n",
       "      <td>Moon Phase calculatorFebruary 9, 2021 10h</td>\n",
       "      <td>| waning crescent moon\\n6.82% illuminated</td>\n",
       "    </tr>\n",
       "    <tr>\n",
       "      <th>9</th>\n",
       "      <td>2021-02-09 11:00:00</td>\n",
       "      <td>0 °C\\n(11:00 am CET | Tuesday, February 9, 2021)</td>\n",
       "      <td>ERROR</td>\n",
       "      <td>1 m/s\\n(11:00 am CET | Tuesday, February 9, 2021)</td>\n",
       "      <td>(unknown)\\n(11:00 am CET | Tuesday, February 9...</td>\n",
       "      <td>Moon Phase calculatorFebruary 9, 2021 11h</td>\n",
       "      <td>| waning crescent moon\\n6.60% illuminated</td>\n",
       "    </tr>\n",
       "  </tbody>\n",
       "</table>\n",
       "</div>"
      ],
      "text/plain": [
       "                 date                                       temperature  \\\n",
       "8 2021-02-09 10:00:00  0 °C\\n(10:00 am CET | Tuesday, February 9, 2021)   \n",
       "9 2021-02-09 11:00:00  0 °C\\n(11:00 am CET | Tuesday, February 9, 2021)   \n",
       "\n",
       "  humidity                                         wind speed  \\\n",
       "8    ERROR  1 m/s\\n(10:00 am CET | Tuesday, February 9, 2021)   \n",
       "9    ERROR  1 m/s\\n(11:00 am CET | Tuesday, February 9, 2021)   \n",
       "\n",
       "                                Precipitation amount  \\\n",
       "8  (unknown)\\n(10:00 am CET | Tuesday, February 9...   \n",
       "9  (unknown)\\n(11:00 am CET | Tuesday, February 9...   \n",
       "\n",
       "                                       query  \\\n",
       "8  Moon Phase calculatorFebruary 9, 2021 10h   \n",
       "9  Moon Phase calculatorFebruary 9, 2021 11h   \n",
       "\n",
       "                       Moon Phase calculator  \n",
       "8  | waning crescent moon\\n6.82% illuminated  \n",
       "9  | waning crescent moon\\n6.60% illuminated  "
      ]
     },
     "metadata": {},
     "output_type": "display_data"
    },
    {
     "name": "stderr",
     "output_type": "stream",
     "text": [
      "\r",
      "  2%|█▌                                                                             | 11/561 [03:49<3:06:43, 20.37s/it]"
     ]
    },
    {
     "name": "stdout",
     "output_type": "stream",
     "text": [
      "QUERY:  Precipitation amount in Zollikofen February 9, 2021 12h\n",
      "QUERY:  temperature in Zollikofen February 9, 2021 12h\n",
      "QUERY:  humidity in Zollikofen February 9, 2021 12h\n",
      "ERROR: no data available-------------  humidity in Zollikofen February 9, 2021 12h\n",
      "ERROR:------------- name 'error' is not defined  ----------  humidity in Zollikofen February 9, 2021 12h\n",
      "QUERY:  wind speed in Zollikofen February 9, 2021 12h\n",
      "QUERY:  Moon Phase calculatorFebruary 9, 2021 12h\n"
     ]
    },
    {
     "name": "stderr",
     "output_type": "stream",
     "text": [
      "\r",
      "  2%|█▋                                                                             | 12/561 [04:08<3:03:17, 20.03s/it]"
     ]
    },
    {
     "name": "stdout",
     "output_type": "stream",
     "text": [
      "QUERY:  Precipitation amount in Zollikofen February 9, 2021 13h\n",
      "QUERY:  temperature in Zollikofen February 9, 2021 13h\n",
      "QUERY:  humidity in Zollikofen February 9, 2021 13h\n",
      "ERROR: no data available-------------  humidity in Zollikofen February 9, 2021 13h\n",
      "ERROR:------------- name 'error' is not defined  ----------  humidity in Zollikofen February 9, 2021 13h\n",
      "QUERY:  wind speed in Zollikofen February 9, 2021 13h\n",
      "QUERY:  Moon Phase calculatorFebruary 9, 2021 13h\n"
     ]
    },
    {
     "name": "stderr",
     "output_type": "stream",
     "text": [
      "\r",
      "  2%|█▊                                                                             | 13/561 [04:28<3:01:29, 19.87s/it]"
     ]
    },
    {
     "name": "stdout",
     "output_type": "stream",
     "text": [
      "QUERY:  Precipitation amount in Zollikofen February 9, 2021 15h\n",
      "QUERY:  temperature in Zollikofen February 9, 2021 15h\n",
      "QUERY:  humidity in Zollikofen February 9, 2021 15h\n",
      "ERROR: no data available-------------  humidity in Zollikofen February 9, 2021 15h\n",
      "ERROR:------------- name 'error' is not defined  ----------  humidity in Zollikofen February 9, 2021 15h\n",
      "QUERY:  wind speed in Zollikofen February 9, 2021 15h\n",
      "QUERY:  Moon Phase calculatorFebruary 9, 2021 15h\n"
     ]
    },
    {
     "name": "stderr",
     "output_type": "stream",
     "text": [
      "\r",
      "  2%|█▉                                                                             | 14/561 [04:47<2:59:01, 19.64s/it]"
     ]
    },
    {
     "name": "stdout",
     "output_type": "stream",
     "text": [
      "QUERY:  Precipitation amount in Zollikofen February 9, 2021 16h\n",
      "QUERY:  temperature in Zollikofen February 9, 2021 16h\n",
      "QUERY:  humidity in Zollikofen February 9, 2021 16h\n",
      "ERROR: no data available-------------  humidity in Zollikofen February 9, 2021 16h\n",
      "ERROR:------------- name 'error' is not defined  ----------  humidity in Zollikofen February 9, 2021 16h\n",
      "QUERY:  wind speed in Zollikofen February 9, 2021 16h\n",
      "QUERY:  Moon Phase calculatorFebruary 9, 2021 16h\n"
     ]
    },
    {
     "name": "stderr",
     "output_type": "stream",
     "text": [
      "\r",
      "  3%|██                                                                             | 15/561 [05:08<3:03:54, 20.21s/it]"
     ]
    },
    {
     "name": "stdout",
     "output_type": "stream",
     "text": [
      "QUERY:  Precipitation amount in Zollikofen February 9, 2021 17h\n",
      "QUERY:  temperature in Zollikofen February 9, 2021 17h\n",
      "QUERY:  humidity in Zollikofen February 9, 2021 17h\n",
      "ERROR: no data available-------------  humidity in Zollikofen February 9, 2021 17h\n",
      "ERROR:------------- name 'error' is not defined  ----------  humidity in Zollikofen February 9, 2021 17h\n",
      "QUERY:  wind speed in Zollikofen February 9, 2021 17h\n",
      "QUERY:  Moon Phase calculatorFebruary 9, 2021 17h\n"
     ]
    },
    {
     "name": "stderr",
     "output_type": "stream",
     "text": [
      "\r",
      "  3%|██▎                                                                            | 16/561 [05:27<3:00:13, 19.84s/it]"
     ]
    },
    {
     "name": "stdout",
     "output_type": "stream",
     "text": [
      "QUERY:  Precipitation amount in Zollikofen February 9, 2021 18h\n",
      "QUERY:  temperature in Zollikofen February 9, 2021 18h\n",
      "QUERY:  humidity in Zollikofen February 9, 2021 18h\n",
      "ERROR: no data available-------------  humidity in Zollikofen February 9, 2021 18h\n",
      "ERROR:------------- name 'error' is not defined  ----------  humidity in Zollikofen February 9, 2021 18h\n",
      "QUERY:  wind speed in Zollikofen February 9, 2021 18h\n",
      "QUERY:  Moon Phase calculatorFebruary 9, 2021 18h\n"
     ]
    },
    {
     "name": "stderr",
     "output_type": "stream",
     "text": [
      "\r",
      "  3%|██▍                                                                            | 17/561 [05:43<2:49:21, 18.68s/it]"
     ]
    },
    {
     "name": "stdout",
     "output_type": "stream",
     "text": [
      "QUERY:  Precipitation amount in Zollikofen February 9, 2021 19h\n",
      "QUERY:  temperature in Zollikofen February 9, 2021 19h\n",
      "QUERY:  humidity in Zollikofen February 9, 2021 19h\n",
      "ERROR: no data available-------------  humidity in Zollikofen February 9, 2021 19h\n",
      "ERROR:------------- name 'error' is not defined  ----------  humidity in Zollikofen February 9, 2021 19h\n",
      "QUERY:  wind speed in Zollikofen February 9, 2021 19h\n",
      "QUERY:  Moon Phase calculatorFebruary 9, 2021 19h\n"
     ]
    },
    {
     "name": "stderr",
     "output_type": "stream",
     "text": [
      "\r",
      "  3%|██▌                                                                            | 18/561 [06:00<2:44:06, 18.13s/it]"
     ]
    },
    {
     "name": "stdout",
     "output_type": "stream",
     "text": [
      "QUERY:  Precipitation amount in Zollikofen February 9, 2021 20h\n",
      "QUERY:  temperature in Zollikofen February 9, 2021 20h\n",
      "QUERY:  humidity in Zollikofen February 9, 2021 20h\n",
      "ERROR: no data available-------------  humidity in Zollikofen February 9, 2021 20h\n",
      "ERROR:------------- name 'error' is not defined  ----------  humidity in Zollikofen February 9, 2021 20h\n",
      "QUERY:  wind speed in Zollikofen February 9, 2021 20h\n",
      "QUERY:  Moon Phase calculatorFebruary 9, 2021 20h\n"
     ]
    },
    {
     "name": "stderr",
     "output_type": "stream",
     "text": [
      "\r",
      "  3%|██▋                                                                            | 19/561 [06:18<2:44:16, 18.18s/it]"
     ]
    },
    {
     "name": "stdout",
     "output_type": "stream",
     "text": [
      "QUERY:  Precipitation amount in Zollikofen February 9, 2021 21h\n",
      "QUERY:  temperature in Zollikofen February 9, 2021 21h\n",
      "QUERY:  humidity in Zollikofen February 9, 2021 21h\n",
      "ERROR: no data available-------------  humidity in Zollikofen February 9, 2021 21h\n",
      "ERROR:------------- name 'error' is not defined  ----------  humidity in Zollikofen February 9, 2021 21h\n",
      "QUERY:  wind speed in Zollikofen February 9, 2021 21h\n",
      "QUERY:  Moon Phase calculatorFebruary 9, 2021 21h\n"
     ]
    },
    {
     "name": "stderr",
     "output_type": "stream",
     "text": [
      "\r",
      "  4%|██▊                                                                            | 20/561 [06:34<2:38:07, 17.54s/it]"
     ]
    },
    {
     "name": "stdout",
     "output_type": "stream",
     "text": [
      "QUERY:  Precipitation amount in Zollikofen February 9, 2021 22h\n",
      "QUERY:  temperature in Zollikofen February 9, 2021 22h\n",
      "QUERY:  humidity in Zollikofen February 9, 2021 22h\n",
      "ERROR: no data available-------------  humidity in Zollikofen February 9, 2021 22h\n",
      "ERROR:------------- name 'error' is not defined  ----------  humidity in Zollikofen February 9, 2021 22h\n",
      "QUERY:  wind speed in Zollikofen February 9, 2021 22h\n",
      "QUERY:  Moon Phase calculatorFebruary 9, 2021 22h\n",
      "(6829, 7)\n"
     ]
    },
    {
     "data": {
      "text/html": [
       "<div>\n",
       "<style scoped>\n",
       "    .dataframe tbody tr th:only-of-type {\n",
       "        vertical-align: middle;\n",
       "    }\n",
       "\n",
       "    .dataframe tbody tr th {\n",
       "        vertical-align: top;\n",
       "    }\n",
       "\n",
       "    .dataframe thead th {\n",
       "        text-align: right;\n",
       "    }\n",
       "</style>\n",
       "<table border=\"1\" class=\"dataframe\">\n",
       "  <thead>\n",
       "    <tr style=\"text-align: right;\">\n",
       "      <th></th>\n",
       "      <th>date</th>\n",
       "      <th>temperature</th>\n",
       "      <th>humidity</th>\n",
       "      <th>wind speed</th>\n",
       "      <th>Precipitation amount</th>\n",
       "      <th>query</th>\n",
       "      <th>Moon Phase calculator</th>\n",
       "    </tr>\n",
       "  </thead>\n",
       "  <tbody>\n",
       "    <tr>\n",
       "      <th>8</th>\n",
       "      <td>2021-02-09 21:00:00</td>\n",
       "      <td>0 °C\\n(9:00 pm CET | Tuesday, February 9, 2021)</td>\n",
       "      <td>ERROR</td>\n",
       "      <td>4 m/s\\n(9:00 pm CET | Tuesday, February 9, 2021)</td>\n",
       "      <td>(unknown)\\n(9:00 pm CET | Tuesday, February 9,...</td>\n",
       "      <td>Moon Phase calculatorFebruary 9, 2021 21h</td>\n",
       "      <td>| waning crescent moon\\n4.53% illuminated</td>\n",
       "    </tr>\n",
       "    <tr>\n",
       "      <th>9</th>\n",
       "      <td>2021-02-09 22:00:00</td>\n",
       "      <td>0 °C\\n(10:00 pm CET | Tuesday, February 9, 2021)</td>\n",
       "      <td>ERROR</td>\n",
       "      <td>4 m/s\\n(10:00 pm CET | Tuesday, February 9, 2021)</td>\n",
       "      <td>(unknown)\\n(10:00 pm CET | Tuesday, February 9...</td>\n",
       "      <td>Moon Phase calculatorFebruary 9, 2021 22h</td>\n",
       "      <td>| waning crescent moon\\n4.34% illuminated</td>\n",
       "    </tr>\n",
       "  </tbody>\n",
       "</table>\n",
       "</div>"
      ],
      "text/plain": [
       "                 date                                       temperature  \\\n",
       "8 2021-02-09 21:00:00   0 °C\\n(9:00 pm CET | Tuesday, February 9, 2021)   \n",
       "9 2021-02-09 22:00:00  0 °C\\n(10:00 pm CET | Tuesday, February 9, 2021)   \n",
       "\n",
       "  humidity                                         wind speed  \\\n",
       "8    ERROR   4 m/s\\n(9:00 pm CET | Tuesday, February 9, 2021)   \n",
       "9    ERROR  4 m/s\\n(10:00 pm CET | Tuesday, February 9, 2021)   \n",
       "\n",
       "                                Precipitation amount  \\\n",
       "8  (unknown)\\n(9:00 pm CET | Tuesday, February 9,...   \n",
       "9  (unknown)\\n(10:00 pm CET | Tuesday, February 9...   \n",
       "\n",
       "                                       query  \\\n",
       "8  Moon Phase calculatorFebruary 9, 2021 21h   \n",
       "9  Moon Phase calculatorFebruary 9, 2021 22h   \n",
       "\n",
       "                       Moon Phase calculator  \n",
       "8  | waning crescent moon\\n4.53% illuminated  \n",
       "9  | waning crescent moon\\n4.34% illuminated  "
      ]
     },
     "metadata": {},
     "output_type": "display_data"
    },
    {
     "name": "stderr",
     "output_type": "stream",
     "text": [
      "\r",
      "  4%|██▉                                                                            | 21/561 [06:51<2:36:42, 17.41s/it]"
     ]
    },
    {
     "name": "stdout",
     "output_type": "stream",
     "text": [
      "QUERY:  Precipitation amount in Zollikofen February 10, 2021 10h\n",
      "QUERY:  temperature in Zollikofen February 10, 2021 10h\n",
      "QUERY:  humidity in Zollikofen February 10, 2021 10h\n",
      "ERROR: no data available-------------  humidity in Zollikofen February 10, 2021 10h\n",
      "ERROR:------------- name 'error' is not defined  ----------  humidity in Zollikofen February 10, 2021 10h\n",
      "QUERY:  wind speed in Zollikofen February 10, 2021 10h\n",
      "QUERY:  Moon Phase calculatorFebruary 10, 2021 10h\n"
     ]
    },
    {
     "name": "stderr",
     "output_type": "stream",
     "text": [
      "\r",
      "  4%|███                                                                            | 22/561 [07:07<2:32:34, 16.99s/it]"
     ]
    },
    {
     "name": "stdout",
     "output_type": "stream",
     "text": [
      "QUERY:  Precipitation amount in Zollikofen February 10, 2021 11h\n",
      "QUERY:  temperature in Zollikofen February 10, 2021 11h\n",
      "QUERY:  humidity in Zollikofen February 10, 2021 11h\n",
      "ERROR: no data available-------------  humidity in Zollikofen February 10, 2021 11h\n",
      "ERROR:------------- name 'error' is not defined  ----------  humidity in Zollikofen February 10, 2021 11h\n",
      "QUERY:  wind speed in Zollikofen February 10, 2021 11h\n",
      "QUERY:  Moon Phase calculatorFebruary 10, 2021 11h\n"
     ]
    },
    {
     "name": "stderr",
     "output_type": "stream",
     "text": [
      "\r",
      "  4%|███▏                                                                           | 23/561 [07:23<2:29:33, 16.68s/it]"
     ]
    },
    {
     "name": "stdout",
     "output_type": "stream",
     "text": [
      "QUERY:  Precipitation amount in Zollikofen February 10, 2021 12h\n",
      "QUERY:  temperature in Zollikofen February 10, 2021 12h\n",
      "QUERY:  humidity in Zollikofen February 10, 2021 12h\n",
      "ERROR: no data available-------------  humidity in Zollikofen February 10, 2021 12h\n",
      "ERROR:------------- name 'error' is not defined  ----------  humidity in Zollikofen February 10, 2021 12h\n",
      "QUERY:  wind speed in Zollikofen February 10, 2021 12h\n",
      "QUERY:  Moon Phase calculatorFebruary 10, 2021 12h\n"
     ]
    },
    {
     "name": "stderr",
     "output_type": "stream",
     "text": [
      "\r",
      "  4%|███▍                                                                           | 24/561 [07:40<2:28:05, 16.55s/it]"
     ]
    },
    {
     "name": "stdout",
     "output_type": "stream",
     "text": [
      "QUERY:  Precipitation amount in Zollikofen February 10, 2021 13h\n",
      "QUERY:  temperature in Zollikofen February 10, 2021 13h\n",
      "QUERY:  humidity in Zollikofen February 10, 2021 13h\n",
      "ERROR: no data available-------------  humidity in Zollikofen February 10, 2021 13h\n",
      "ERROR:------------- name 'error' is not defined  ----------  humidity in Zollikofen February 10, 2021 13h\n",
      "QUERY:  wind speed in Zollikofen February 10, 2021 13h\n",
      "QUERY:  Moon Phase calculatorFebruary 10, 2021 13h\n"
     ]
    },
    {
     "name": "stderr",
     "output_type": "stream",
     "text": [
      "\r",
      "  4%|███▌                                                                           | 25/561 [07:56<2:26:31, 16.40s/it]"
     ]
    },
    {
     "name": "stdout",
     "output_type": "stream",
     "text": [
      "QUERY:  Precipitation amount in Zollikofen February 10, 2021 14h\n",
      "QUERY:  temperature in Zollikofen February 10, 2021 14h\n",
      "QUERY:  humidity in Zollikofen February 10, 2021 14h\n",
      "ERROR: no data available-------------  humidity in Zollikofen February 10, 2021 14h\n",
      "ERROR:------------- name 'error' is not defined  ----------  humidity in Zollikofen February 10, 2021 14h\n",
      "QUERY:  wind speed in Zollikofen February 10, 2021 14h\n",
      "QUERY:  Moon Phase calculatorFebruary 10, 2021 14h\n"
     ]
    },
    {
     "name": "stderr",
     "output_type": "stream",
     "text": [
      "\r",
      "  5%|███▋                                                                           | 26/561 [08:12<2:24:56, 16.25s/it]"
     ]
    },
    {
     "name": "stdout",
     "output_type": "stream",
     "text": [
      "QUERY:  Precipitation amount in Zollikofen February 10, 2021 15h\n",
      "QUERY:  temperature in Zollikofen February 10, 2021 15h\n",
      "QUERY:  humidity in Zollikofen February 10, 2021 15h\n",
      "ERROR: no data available-------------  humidity in Zollikofen February 10, 2021 15h\n",
      "ERROR:------------- name 'error' is not defined  ----------  humidity in Zollikofen February 10, 2021 15h\n",
      "QUERY:  wind speed in Zollikofen February 10, 2021 15h\n",
      "QUERY:  Moon Phase calculatorFebruary 10, 2021 15h\n"
     ]
    },
    {
     "name": "stderr",
     "output_type": "stream",
     "text": [
      "\r",
      "  5%|███▊                                                                           | 27/561 [08:28<2:24:10, 16.20s/it]"
     ]
    },
    {
     "name": "stdout",
     "output_type": "stream",
     "text": [
      "QUERY:  Precipitation amount in Zollikofen February 10, 2021 16h\n",
      "QUERY:  temperature in Zollikofen February 10, 2021 16h\n",
      "QUERY:  humidity in Zollikofen February 10, 2021 16h\n",
      "ERROR: no data available-------------  humidity in Zollikofen February 10, 2021 16h\n",
      "ERROR:------------- name 'error' is not defined  ----------  humidity in Zollikofen February 10, 2021 16h\n",
      "QUERY:  wind speed in Zollikofen February 10, 2021 16h\n",
      "QUERY:  Moon Phase calculatorFebruary 10, 2021 16h\n"
     ]
    },
    {
     "name": "stderr",
     "output_type": "stream",
     "text": [
      "\r",
      "  5%|███▉                                                                           | 28/561 [08:44<2:23:33, 16.16s/it]"
     ]
    },
    {
     "name": "stdout",
     "output_type": "stream",
     "text": [
      "QUERY:  Precipitation amount in Zollikofen February 10, 2021 17h\n",
      "QUERY:  temperature in Zollikofen February 10, 2021 17h\n",
      "QUERY:  humidity in Zollikofen February 10, 2021 17h\n",
      "ERROR: no data available-------------  humidity in Zollikofen February 10, 2021 17h\n",
      "ERROR:------------- name 'error' is not defined  ----------  humidity in Zollikofen February 10, 2021 17h\n",
      "QUERY:  wind speed in Zollikofen February 10, 2021 17h\n",
      "QUERY:  Moon Phase calculatorFebruary 10, 2021 17h\n"
     ]
    },
    {
     "name": "stderr",
     "output_type": "stream",
     "text": [
      "\r",
      "  5%|████                                                                           | 29/561 [09:00<2:22:19, 16.05s/it]"
     ]
    },
    {
     "name": "stdout",
     "output_type": "stream",
     "text": [
      "QUERY:  Precipitation amount in Zollikofen February 10, 2021 18h\n",
      "QUERY:  temperature in Zollikofen February 10, 2021 18h\n",
      "QUERY:  humidity in Zollikofen February 10, 2021 18h\n",
      "ERROR: no data available-------------  humidity in Zollikofen February 10, 2021 18h\n",
      "ERROR:------------- name 'error' is not defined  ----------  humidity in Zollikofen February 10, 2021 18h\n",
      "QUERY:  wind speed in Zollikofen February 10, 2021 18h\n",
      "QUERY:  Moon Phase calculatorFebruary 10, 2021 18h\n"
     ]
    },
    {
     "name": "stderr",
     "output_type": "stream",
     "text": [
      "\r",
      "  5%|████▏                                                                          | 30/561 [09:19<2:30:56, 17.05s/it]"
     ]
    },
    {
     "name": "stdout",
     "output_type": "stream",
     "text": [
      "QUERY:  Precipitation amount in Zollikofen February 10, 2021 19h\n",
      "QUERY:  temperature in Zollikofen February 10, 2021 19h\n",
      "QUERY:  humidity in Zollikofen February 10, 2021 19h\n",
      "ERROR: no data available-------------  humidity in Zollikofen February 10, 2021 19h\n",
      "ERROR:------------- name 'error' is not defined  ----------  humidity in Zollikofen February 10, 2021 19h\n",
      "QUERY:  wind speed in Zollikofen February 10, 2021 19h\n",
      "QUERY:  Moon Phase calculatorFebruary 10, 2021 19h\n",
      "(6839, 7)\n"
     ]
    },
    {
     "data": {
      "text/html": [
       "<div>\n",
       "<style scoped>\n",
       "    .dataframe tbody tr th:only-of-type {\n",
       "        vertical-align: middle;\n",
       "    }\n",
       "\n",
       "    .dataframe tbody tr th {\n",
       "        vertical-align: top;\n",
       "    }\n",
       "\n",
       "    .dataframe thead th {\n",
       "        text-align: right;\n",
       "    }\n",
       "</style>\n",
       "<table border=\"1\" class=\"dataframe\">\n",
       "  <thead>\n",
       "    <tr style=\"text-align: right;\">\n",
       "      <th></th>\n",
       "      <th>date</th>\n",
       "      <th>temperature</th>\n",
       "      <th>humidity</th>\n",
       "      <th>wind speed</th>\n",
       "      <th>Precipitation amount</th>\n",
       "      <th>query</th>\n",
       "      <th>Moon Phase calculator</th>\n",
       "    </tr>\n",
       "  </thead>\n",
       "  <tbody>\n",
       "    <tr>\n",
       "      <th>8</th>\n",
       "      <td>2021-02-10 18:00:00</td>\n",
       "      <td>-2 °C\\n(6:00 pm CET | Wednesday, February 10, ...</td>\n",
       "      <td>ERROR</td>\n",
       "      <td>3 m/s\\n(6:00 pm CET | Wednesday, February 10, ...</td>\n",
       "      <td>(unknown)\\n(6:00 pm CET | Wednesday, February ...</td>\n",
       "      <td>Moon Phase calculatorFebruary 10, 2021 18h</td>\n",
       "      <td>| waning crescent moon\\n1.48% illuminated</td>\n",
       "    </tr>\n",
       "    <tr>\n",
       "      <th>9</th>\n",
       "      <td>2021-02-10 19:00:00</td>\n",
       "      <td>-2 °C\\n(7:00 pm CET | Wednesday, February 10, ...</td>\n",
       "      <td>ERROR</td>\n",
       "      <td>4 m/s\\n(7:00 pm CET | Wednesday, February 10, ...</td>\n",
       "      <td>(unknown)\\n(7:00 pm CET | Wednesday, February ...</td>\n",
       "      <td>Moon Phase calculatorFebruary 10, 2021 19h</td>\n",
       "      <td>| waning crescent moon\\n1.38% illuminated</td>\n",
       "    </tr>\n",
       "  </tbody>\n",
       "</table>\n",
       "</div>"
      ],
      "text/plain": [
       "                 date                                        temperature  \\\n",
       "8 2021-02-10 18:00:00  -2 °C\\n(6:00 pm CET | Wednesday, February 10, ...   \n",
       "9 2021-02-10 19:00:00  -2 °C\\n(7:00 pm CET | Wednesday, February 10, ...   \n",
       "\n",
       "  humidity                                         wind speed  \\\n",
       "8    ERROR  3 m/s\\n(6:00 pm CET | Wednesday, February 10, ...   \n",
       "9    ERROR  4 m/s\\n(7:00 pm CET | Wednesday, February 10, ...   \n",
       "\n",
       "                                Precipitation amount  \\\n",
       "8  (unknown)\\n(6:00 pm CET | Wednesday, February ...   \n",
       "9  (unknown)\\n(7:00 pm CET | Wednesday, February ...   \n",
       "\n",
       "                                        query  \\\n",
       "8  Moon Phase calculatorFebruary 10, 2021 18h   \n",
       "9  Moon Phase calculatorFebruary 10, 2021 19h   \n",
       "\n",
       "                       Moon Phase calculator  \n",
       "8  | waning crescent moon\\n1.48% illuminated  \n",
       "9  | waning crescent moon\\n1.38% illuminated  "
      ]
     },
     "metadata": {},
     "output_type": "display_data"
    },
    {
     "name": "stderr",
     "output_type": "stream",
     "text": [
      "\r",
      "  6%|████▎                                                                          | 31/561 [09:34<2:26:27, 16.58s/it]"
     ]
    },
    {
     "name": "stdout",
     "output_type": "stream",
     "text": [
      "QUERY:  Precipitation amount in Zollikofen February 10, 2021 20h\n",
      "QUERY:  temperature in Zollikofen February 10, 2021 20h\n",
      "QUERY:  humidity in Zollikofen February 10, 2021 20h\n",
      "ERROR: no data available-------------  humidity in Zollikofen February 10, 2021 20h\n",
      "ERROR:------------- name 'error' is not defined  ----------  humidity in Zollikofen February 10, 2021 20h\n",
      "QUERY:  wind speed in Zollikofen February 10, 2021 20h\n",
      "QUERY:  Moon Phase calculatorFebruary 10, 2021 20h\n"
     ]
    },
    {
     "name": "stderr",
     "output_type": "stream",
     "text": [
      "\r",
      "  6%|████▌                                                                          | 32/561 [09:50<2:24:12, 16.36s/it]"
     ]
    },
    {
     "name": "stdout",
     "output_type": "stream",
     "text": [
      "QUERY:  Precipitation amount in Zollikofen February 10, 2021 21h\n",
      "QUERY:  temperature in Zollikofen February 10, 2021 21h\n",
      "QUERY:  humidity in Zollikofen February 10, 2021 21h\n",
      "ERROR: no data available-------------  humidity in Zollikofen February 10, 2021 21h\n",
      "ERROR:------------- name 'error' is not defined  ----------  humidity in Zollikofen February 10, 2021 21h\n",
      "QUERY:  wind speed in Zollikofen February 10, 2021 21h\n",
      "QUERY:  Moon Phase calculatorFebruary 10, 2021 21h\n"
     ]
    },
    {
     "name": "stderr",
     "output_type": "stream",
     "text": [
      "\r",
      "  6%|████▋                                                                          | 33/561 [10:09<2:29:34, 17.00s/it]"
     ]
    },
    {
     "name": "stdout",
     "output_type": "stream",
     "text": [
      "QUERY:  Precipitation amount in Zollikofen February 10, 2021 22h\n",
      "QUERY:  temperature in Zollikofen February 10, 2021 22h\n",
      "QUERY:  humidity in Zollikofen February 10, 2021 22h\n",
      "ERROR: no data available-------------  humidity in Zollikofen February 10, 2021 22h\n",
      "ERROR:------------- name 'error' is not defined  ----------  humidity in Zollikofen February 10, 2021 22h\n",
      "QUERY:  wind speed in Zollikofen February 10, 2021 22h\n",
      "QUERY:  Moon Phase calculatorFebruary 10, 2021 22h\n"
     ]
    },
    {
     "name": "stderr",
     "output_type": "stream",
     "text": [
      "\r",
      "  6%|████▊                                                                          | 34/561 [10:29<2:37:42, 17.95s/it]"
     ]
    },
    {
     "name": "stdout",
     "output_type": "stream",
     "text": [
      "QUERY:  Precipitation amount in Zollikofen February 10, 2021 23h\n",
      "QUERY:  temperature in Zollikofen February 10, 2021 23h\n",
      "QUERY:  humidity in Zollikofen February 10, 2021 23h\n",
      "ERROR: no data available-------------  humidity in Zollikofen February 10, 2021 23h\n",
      "ERROR:------------- name 'error' is not defined  ----------  humidity in Zollikofen February 10, 2021 23h\n",
      "QUERY:  wind speed in Zollikofen February 10, 2021 23h\n",
      "QUERY:  Moon Phase calculatorFebruary 10, 2021 23h\n"
     ]
    },
    {
     "name": "stderr",
     "output_type": "stream",
     "text": [
      "\r",
      "  6%|████▉                                                                          | 35/561 [10:45<2:33:35, 17.52s/it]"
     ]
    },
    {
     "name": "stdout",
     "output_type": "stream",
     "text": [
      "QUERY:  Precipitation amount in Zollikofen March 28, 2021 1h\n",
      "QUERY:  temperature in Zollikofen March 28, 2021 1h\n",
      "QUERY:  humidity in Zollikofen March 28, 2021 1h\n",
      "ERROR: no data available-------------  humidity in Zollikofen March 28, 2021 1h\n",
      "ERROR:------------- name 'error' is not defined  ----------  humidity in Zollikofen March 28, 2021 1h\n",
      "QUERY:  wind speed in Zollikofen March 28, 2021 1h\n",
      "QUERY:  Moon Phase calculatorMarch 28, 2021 1h\n"
     ]
    },
    {
     "name": "stderr",
     "output_type": "stream",
     "text": [
      "\r",
      "  6%|█████                                                                          | 36/561 [11:01<2:27:47, 16.89s/it]"
     ]
    },
    {
     "name": "stdout",
     "output_type": "stream",
     "text": [
      "QUERY:  Precipitation amount in Zollikofen May 15, 2021 0h\n",
      "QUERY:  temperature in Zollikofen May 15, 2021 0h\n",
      "QUERY:  humidity in Zollikofen May 15, 2021 0h\n",
      "ERROR: no data available-------------  humidity in Zollikofen May 15, 2021 0h\n",
      "ERROR:------------- name 'error' is not defined  ----------  humidity in Zollikofen May 15, 2021 0h\n",
      "QUERY:  wind speed in Zollikofen May 15, 2021 0h\n",
      "QUERY:  Moon Phase calculatorMay 15, 2021 0h\n"
     ]
    },
    {
     "name": "stderr",
     "output_type": "stream",
     "text": [
      "\r",
      "  7%|█████▏                                                                         | 37/561 [11:17<2:25:45, 16.69s/it]"
     ]
    },
    {
     "name": "stdout",
     "output_type": "stream",
     "text": [
      "QUERY:  Precipitation amount in Zollikofen May 15, 2021 1h\n",
      "QUERY:  temperature in Zollikofen May 15, 2021 1h\n",
      "QUERY:  humidity in Zollikofen May 15, 2021 1h\n",
      "ERROR: no data available-------------  humidity in Zollikofen May 15, 2021 1h\n",
      "ERROR:------------- name 'error' is not defined  ----------  humidity in Zollikofen May 15, 2021 1h\n",
      "QUERY:  wind speed in Zollikofen May 15, 2021 1h\n",
      "QUERY:  Moon Phase calculatorMay 15, 2021 1h\n"
     ]
    },
    {
     "name": "stderr",
     "output_type": "stream",
     "text": [
      "\r",
      "  7%|█████▎                                                                         | 38/561 [11:34<2:26:16, 16.78s/it]"
     ]
    },
    {
     "name": "stdout",
     "output_type": "stream",
     "text": [
      "QUERY:  Precipitation amount in Zollikofen May 15, 2021 2h\n",
      "QUERY:  temperature in Zollikofen May 15, 2021 2h\n",
      "QUERY:  humidity in Zollikofen May 15, 2021 2h\n",
      "ERROR: no data available-------------  humidity in Zollikofen May 15, 2021 2h\n",
      "ERROR:------------- name 'error' is not defined  ----------  humidity in Zollikofen May 15, 2021 2h\n",
      "QUERY:  wind speed in Zollikofen May 15, 2021 2h\n",
      "QUERY:  Moon Phase calculatorMay 15, 2021 2h\n"
     ]
    },
    {
     "name": "stderr",
     "output_type": "stream",
     "text": [
      "\r",
      "  7%|█████▍                                                                         | 39/561 [11:50<2:23:40, 16.51s/it]"
     ]
    },
    {
     "name": "stdout",
     "output_type": "stream",
     "text": [
      "QUERY:  Precipitation amount in Zollikofen May 15, 2021 3h\n",
      "QUERY:  temperature in Zollikofen May 15, 2021 3h\n",
      "QUERY:  humidity in Zollikofen May 15, 2021 3h\n",
      "ERROR: no data available-------------  humidity in Zollikofen May 15, 2021 3h\n",
      "ERROR:------------- name 'error' is not defined  ----------  humidity in Zollikofen May 15, 2021 3h\n",
      "QUERY:  wind speed in Zollikofen May 15, 2021 3h\n",
      "QUERY:  Moon Phase calculatorMay 15, 2021 3h\n"
     ]
    },
    {
     "name": "stderr",
     "output_type": "stream",
     "text": [
      "\r",
      "  7%|█████▋                                                                         | 40/561 [12:07<2:25:24, 16.75s/it]"
     ]
    },
    {
     "name": "stdout",
     "output_type": "stream",
     "text": [
      "QUERY:  Precipitation amount in Zollikofen May 15, 2021 4h\n",
      "QUERY:  temperature in Zollikofen May 15, 2021 4h\n",
      "QUERY:  humidity in Zollikofen May 15, 2021 4h\n",
      "ERROR: no data available-------------  humidity in Zollikofen May 15, 2021 4h\n",
      "ERROR:------------- name 'error' is not defined  ----------  humidity in Zollikofen May 15, 2021 4h\n",
      "QUERY:  wind speed in Zollikofen May 15, 2021 4h\n",
      "QUERY:  Moon Phase calculatorMay 15, 2021 4h\n",
      "(6849, 7)\n"
     ]
    },
    {
     "data": {
      "text/html": [
       "<div>\n",
       "<style scoped>\n",
       "    .dataframe tbody tr th:only-of-type {\n",
       "        vertical-align: middle;\n",
       "    }\n",
       "\n",
       "    .dataframe tbody tr th {\n",
       "        vertical-align: top;\n",
       "    }\n",
       "\n",
       "    .dataframe thead th {\n",
       "        text-align: right;\n",
       "    }\n",
       "</style>\n",
       "<table border=\"1\" class=\"dataframe\">\n",
       "  <thead>\n",
       "    <tr style=\"text-align: right;\">\n",
       "      <th></th>\n",
       "      <th>date</th>\n",
       "      <th>temperature</th>\n",
       "      <th>humidity</th>\n",
       "      <th>wind speed</th>\n",
       "      <th>Precipitation amount</th>\n",
       "      <th>query</th>\n",
       "      <th>Moon Phase calculator</th>\n",
       "    </tr>\n",
       "  </thead>\n",
       "  <tbody>\n",
       "    <tr>\n",
       "      <th>8</th>\n",
       "      <td>2021-05-15 03:00:00</td>\n",
       "      <td>8 °C\\n(3:00 am CEST | Saturday, May 15, 2021)</td>\n",
       "      <td>ERROR</td>\n",
       "      <td>2 m/s\\n(3:00 am CEST | Saturday, May 15, 2021)</td>\n",
       "      <td>(unknown)\\n(3:00 am CEST | Saturday, May 15, 2...</td>\n",
       "      <td>Moon Phase calculatorMay 15, 2021 3h</td>\n",
       "      <td>| waxing crescent moon\\n9.26% illuminated</td>\n",
       "    </tr>\n",
       "    <tr>\n",
       "      <th>9</th>\n",
       "      <td>2021-05-15 04:00:00</td>\n",
       "      <td>8 °C\\n(4:00 am CEST | Saturday, May 15, 2021)</td>\n",
       "      <td>ERROR</td>\n",
       "      <td>2 m/s\\n(4:00 am CEST | Saturday, May 15, 2021)</td>\n",
       "      <td>(unknown)\\n(4:00 am CEST | Saturday, May 15, 2...</td>\n",
       "      <td>Moon Phase calculatorMay 15, 2021 4h</td>\n",
       "      <td>| waxing crescent moon\\n9.50% illuminated</td>\n",
       "    </tr>\n",
       "  </tbody>\n",
       "</table>\n",
       "</div>"
      ],
      "text/plain": [
       "                 date                                    temperature humidity  \\\n",
       "8 2021-05-15 03:00:00  8 °C\\n(3:00 am CEST | Saturday, May 15, 2021)    ERROR   \n",
       "9 2021-05-15 04:00:00  8 °C\\n(4:00 am CEST | Saturday, May 15, 2021)    ERROR   \n",
       "\n",
       "                                       wind speed  \\\n",
       "8  2 m/s\\n(3:00 am CEST | Saturday, May 15, 2021)   \n",
       "9  2 m/s\\n(4:00 am CEST | Saturday, May 15, 2021)   \n",
       "\n",
       "                                Precipitation amount  \\\n",
       "8  (unknown)\\n(3:00 am CEST | Saturday, May 15, 2...   \n",
       "9  (unknown)\\n(4:00 am CEST | Saturday, May 15, 2...   \n",
       "\n",
       "                                  query  \\\n",
       "8  Moon Phase calculatorMay 15, 2021 3h   \n",
       "9  Moon Phase calculatorMay 15, 2021 4h   \n",
       "\n",
       "                       Moon Phase calculator  \n",
       "8  | waxing crescent moon\\n9.26% illuminated  \n",
       "9  | waxing crescent moon\\n9.50% illuminated  "
      ]
     },
     "metadata": {},
     "output_type": "display_data"
    },
    {
     "name": "stderr",
     "output_type": "stream",
     "text": [
      "\r",
      "  7%|█████▊                                                                         | 41/561 [12:24<2:24:20, 16.66s/it]"
     ]
    },
    {
     "name": "stdout",
     "output_type": "stream",
     "text": [
      "QUERY:  Precipitation amount in Zollikofen May 15, 2021 5h\n",
      "QUERY:  temperature in Zollikofen May 15, 2021 5h\n",
      "QUERY:  humidity in Zollikofen May 15, 2021 5h\n",
      "ERROR: no data available-------------  humidity in Zollikofen May 15, 2021 5h\n",
      "ERROR:------------- name 'error' is not defined  ----------  humidity in Zollikofen May 15, 2021 5h\n",
      "QUERY:  wind speed in Zollikofen May 15, 2021 5h\n",
      "QUERY:  Moon Phase calculatorMay 15, 2021 5h\n"
     ]
    },
    {
     "name": "stderr",
     "output_type": "stream",
     "text": [
      "\r",
      "  7%|█████▉                                                                         | 42/561 [12:40<2:22:24, 16.46s/it]"
     ]
    },
    {
     "name": "stdout",
     "output_type": "stream",
     "text": [
      "QUERY:  Precipitation amount in Zollikofen May 15, 2021 6h\n",
      "QUERY:  temperature in Zollikofen May 15, 2021 6h\n",
      "QUERY:  humidity in Zollikofen May 15, 2021 6h\n",
      "ERROR: no data available-------------  humidity in Zollikofen May 15, 2021 6h\n",
      "ERROR:------------- name 'error' is not defined  ----------  humidity in Zollikofen May 15, 2021 6h\n",
      "QUERY:  wind speed in Zollikofen May 15, 2021 6h\n",
      "QUERY:  Moon Phase calculatorMay 15, 2021 6h\n"
     ]
    },
    {
     "name": "stderr",
     "output_type": "stream",
     "text": [
      "\r",
      "  8%|██████                                                                         | 43/561 [12:56<2:20:31, 16.28s/it]"
     ]
    },
    {
     "name": "stdout",
     "output_type": "stream",
     "text": [
      "QUERY:  Precipitation amount in Zollikofen May 15, 2021 7h\n",
      "QUERY:  temperature in Zollikofen May 15, 2021 7h\n",
      "QUERY:  humidity in Zollikofen May 15, 2021 7h\n",
      "ERROR: no data available-------------  humidity in Zollikofen May 15, 2021 7h\n",
      "ERROR:------------- name 'error' is not defined  ----------  humidity in Zollikofen May 15, 2021 7h\n",
      "QUERY:  wind speed in Zollikofen May 15, 2021 7h\n",
      "QUERY:  Moon Phase calculatorMay 15, 2021 7h\n"
     ]
    },
    {
     "name": "stderr",
     "output_type": "stream",
     "text": [
      "\r",
      "  8%|██████▏                                                                        | 44/561 [13:12<2:19:31, 16.19s/it]"
     ]
    },
    {
     "name": "stdout",
     "output_type": "stream",
     "text": [
      "QUERY:  Precipitation amount in Zollikofen May 15, 2021 8h\n",
      "QUERY:  temperature in Zollikofen May 15, 2021 8h\n",
      "QUERY:  humidity in Zollikofen May 15, 2021 8h\n",
      "ERROR: no data available-------------  humidity in Zollikofen May 15, 2021 8h\n",
      "ERROR:------------- name 'error' is not defined  ----------  humidity in Zollikofen May 15, 2021 8h\n",
      "QUERY:  wind speed in Zollikofen May 15, 2021 8h\n",
      "QUERY:  Moon Phase calculatorMay 15, 2021 8h\n"
     ]
    },
    {
     "name": "stderr",
     "output_type": "stream",
     "text": [
      "\r",
      "  8%|██████▎                                                                        | 45/561 [13:28<2:20:07, 16.29s/it]"
     ]
    },
    {
     "name": "stdout",
     "output_type": "stream",
     "text": [
      "QUERY:  Precipitation amount in Zollikofen May 15, 2021 9h\n",
      "QUERY:  temperature in Zollikofen May 15, 2021 9h\n",
      "QUERY:  humidity in Zollikofen May 15, 2021 9h\n",
      "ERROR: no data available-------------  humidity in Zollikofen May 15, 2021 9h\n",
      "ERROR:------------- name 'error' is not defined  ----------  humidity in Zollikofen May 15, 2021 9h\n",
      "QUERY:  wind speed in Zollikofen May 15, 2021 9h\n",
      "QUERY:  Moon Phase calculatorMay 15, 2021 9h\n"
     ]
    },
    {
     "name": "stderr",
     "output_type": "stream",
     "text": [
      "\r",
      "  8%|██████▍                                                                        | 46/561 [13:44<2:18:13, 16.10s/it]"
     ]
    },
    {
     "name": "stdout",
     "output_type": "stream",
     "text": [
      "QUERY:  Precipitation amount in Zollikofen May 15, 2021 10h\n",
      "QUERY:  temperature in Zollikofen May 15, 2021 10h\n",
      "QUERY:  humidity in Zollikofen May 15, 2021 10h\n",
      "ERROR: no data available-------------  humidity in Zollikofen May 15, 2021 10h\n",
      "ERROR:------------- name 'error' is not defined  ----------  humidity in Zollikofen May 15, 2021 10h\n",
      "QUERY:  wind speed in Zollikofen May 15, 2021 10h\n",
      "QUERY:  Moon Phase calculatorMay 15, 2021 10h\n"
     ]
    },
    {
     "name": "stderr",
     "output_type": "stream",
     "text": [
      "\r",
      "  8%|██████▌                                                                        | 47/561 [14:00<2:18:21, 16.15s/it]"
     ]
    },
    {
     "name": "stdout",
     "output_type": "stream",
     "text": [
      "QUERY:  Precipitation amount in Zollikofen May 15, 2021 11h\n",
      "QUERY:  temperature in Zollikofen May 15, 2021 11h\n",
      "QUERY:  humidity in Zollikofen May 15, 2021 11h\n",
      "ERROR: no data available-------------  humidity in Zollikofen May 15, 2021 11h\n",
      "ERROR:------------- name 'error' is not defined  ----------  humidity in Zollikofen May 15, 2021 11h\n",
      "QUERY:  wind speed in Zollikofen May 15, 2021 11h\n",
      "QUERY:  Moon Phase calculatorMay 15, 2021 11h\n"
     ]
    },
    {
     "name": "stderr",
     "output_type": "stream",
     "text": [
      "\r",
      "  9%|██████▊                                                                        | 48/561 [14:17<2:20:23, 16.42s/it]"
     ]
    },
    {
     "name": "stdout",
     "output_type": "stream",
     "text": [
      "QUERY:  Precipitation amount in Zollikofen May 15, 2021 12h\n",
      "QUERY:  temperature in Zollikofen May 15, 2021 12h\n",
      "QUERY:  humidity in Zollikofen May 15, 2021 12h\n",
      "ERROR: no data available-------------  humidity in Zollikofen May 15, 2021 12h\n",
      "ERROR:------------- name 'error' is not defined  ----------  humidity in Zollikofen May 15, 2021 12h\n",
      "QUERY:  wind speed in Zollikofen May 15, 2021 12h\n",
      "QUERY:  Moon Phase calculatorMay 15, 2021 12h\n"
     ]
    },
    {
     "name": "stderr",
     "output_type": "stream",
     "text": [
      "\r",
      "  9%|██████▉                                                                        | 49/561 [14:34<2:21:41, 16.60s/it]"
     ]
    },
    {
     "name": "stdout",
     "output_type": "stream",
     "text": [
      "QUERY:  Precipitation amount in Zollikofen May 15, 2021 13h\n",
      "QUERY:  temperature in Zollikofen May 15, 2021 13h\n",
      "QUERY:  humidity in Zollikofen May 15, 2021 13h\n",
      "ERROR: no data available-------------  humidity in Zollikofen May 15, 2021 13h\n",
      "ERROR:------------- name 'error' is not defined  ----------  humidity in Zollikofen May 15, 2021 13h\n",
      "QUERY:  wind speed in Zollikofen May 15, 2021 13h\n",
      "QUERY:  Moon Phase calculatorMay 15, 2021 13h\n"
     ]
    },
    {
     "name": "stderr",
     "output_type": "stream",
     "text": [
      "\r",
      "  9%|███████                                                                        | 50/561 [14:51<2:21:04, 16.57s/it]"
     ]
    },
    {
     "name": "stdout",
     "output_type": "stream",
     "text": [
      "QUERY:  Precipitation amount in Zollikofen May 15, 2021 14h\n",
      "QUERY:  temperature in Zollikofen May 15, 2021 14h\n",
      "QUERY:  humidity in Zollikofen May 15, 2021 14h\n",
      "ERROR: no data available-------------  humidity in Zollikofen May 15, 2021 14h\n",
      "ERROR:------------- name 'error' is not defined  ----------  humidity in Zollikofen May 15, 2021 14h\n",
      "QUERY:  wind speed in Zollikofen May 15, 2021 14h\n",
      "QUERY:  Moon Phase calculatorMay 15, 2021 14h\n",
      "(6859, 7)\n"
     ]
    },
    {
     "data": {
      "text/html": [
       "<div>\n",
       "<style scoped>\n",
       "    .dataframe tbody tr th:only-of-type {\n",
       "        vertical-align: middle;\n",
       "    }\n",
       "\n",
       "    .dataframe tbody tr th {\n",
       "        vertical-align: top;\n",
       "    }\n",
       "\n",
       "    .dataframe thead th {\n",
       "        text-align: right;\n",
       "    }\n",
       "</style>\n",
       "<table border=\"1\" class=\"dataframe\">\n",
       "  <thead>\n",
       "    <tr style=\"text-align: right;\">\n",
       "      <th></th>\n",
       "      <th>date</th>\n",
       "      <th>temperature</th>\n",
       "      <th>humidity</th>\n",
       "      <th>wind speed</th>\n",
       "      <th>Precipitation amount</th>\n",
       "      <th>query</th>\n",
       "      <th>Moon Phase calculator</th>\n",
       "    </tr>\n",
       "  </thead>\n",
       "  <tbody>\n",
       "    <tr>\n",
       "      <th>8</th>\n",
       "      <td>2021-05-15 13:00:00</td>\n",
       "      <td>8 °C\\n(1:00 pm CEST | Saturday, May 15, 2021)</td>\n",
       "      <td>ERROR</td>\n",
       "      <td>2 m/s\\n(1:00 pm CEST | Saturday, May 15, 2021)</td>\n",
       "      <td>(unknown)\\n(1:00 pm CEST | Saturday, May 15, 2...</td>\n",
       "      <td>Moon Phase calculatorMay 15, 2021 13h</td>\n",
       "      <td>| waxing crescent moon\\n11.72% illuminated</td>\n",
       "    </tr>\n",
       "    <tr>\n",
       "      <th>9</th>\n",
       "      <td>2021-05-15 14:00:00</td>\n",
       "      <td>8 °C\\n(2:00 pm CEST | Saturday, May 15, 2021)</td>\n",
       "      <td>ERROR</td>\n",
       "      <td>2 m/s\\n(2:00 pm CEST | Saturday, May 15, 2021)</td>\n",
       "      <td>(unknown)\\n(2:00 pm CEST | Saturday, May 15, 2...</td>\n",
       "      <td>Moon Phase calculatorMay 15, 2021 14h</td>\n",
       "      <td>| waxing crescent moon\\n11.98% illuminated</td>\n",
       "    </tr>\n",
       "  </tbody>\n",
       "</table>\n",
       "</div>"
      ],
      "text/plain": [
       "                 date                                    temperature humidity  \\\n",
       "8 2021-05-15 13:00:00  8 °C\\n(1:00 pm CEST | Saturday, May 15, 2021)    ERROR   \n",
       "9 2021-05-15 14:00:00  8 °C\\n(2:00 pm CEST | Saturday, May 15, 2021)    ERROR   \n",
       "\n",
       "                                       wind speed  \\\n",
       "8  2 m/s\\n(1:00 pm CEST | Saturday, May 15, 2021)   \n",
       "9  2 m/s\\n(2:00 pm CEST | Saturday, May 15, 2021)   \n",
       "\n",
       "                                Precipitation amount  \\\n",
       "8  (unknown)\\n(1:00 pm CEST | Saturday, May 15, 2...   \n",
       "9  (unknown)\\n(2:00 pm CEST | Saturday, May 15, 2...   \n",
       "\n",
       "                                   query  \\\n",
       "8  Moon Phase calculatorMay 15, 2021 13h   \n",
       "9  Moon Phase calculatorMay 15, 2021 14h   \n",
       "\n",
       "                        Moon Phase calculator  \n",
       "8  | waxing crescent moon\\n11.72% illuminated  \n",
       "9  | waxing crescent moon\\n11.98% illuminated  "
      ]
     },
     "metadata": {},
     "output_type": "display_data"
    },
    {
     "name": "stderr",
     "output_type": "stream",
     "text": [
      "\r",
      "  9%|███████▏                                                                       | 51/561 [15:07<2:20:15, 16.50s/it]"
     ]
    },
    {
     "name": "stdout",
     "output_type": "stream",
     "text": [
      "QUERY:  Precipitation amount in Zollikofen May 15, 2021 15h\n",
      "QUERY:  temperature in Zollikofen May 15, 2021 15h\n",
      "QUERY:  humidity in Zollikofen May 15, 2021 15h\n",
      "ERROR: no data available-------------  humidity in Zollikofen May 15, 2021 15h\n",
      "ERROR:------------- name 'error' is not defined  ----------  humidity in Zollikofen May 15, 2021 15h\n",
      "QUERY:  wind speed in Zollikofen May 15, 2021 15h\n",
      "QUERY:  Moon Phase calculatorMay 15, 2021 15h\n"
     ]
    },
    {
     "name": "stderr",
     "output_type": "stream",
     "text": [
      "\r",
      "  9%|███████▎                                                                       | 52/561 [15:31<2:38:29, 18.68s/it]"
     ]
    },
    {
     "name": "stdout",
     "output_type": "stream",
     "text": [
      "QUERY:  Precipitation amount in Zollikofen May 15, 2021 16h\n",
      "QUERY:  temperature in Zollikofen May 15, 2021 16h\n",
      "QUERY:  humidity in Zollikofen May 15, 2021 16h\n",
      "ERROR: no data available-------------  humidity in Zollikofen May 15, 2021 16h\n",
      "ERROR:------------- name 'error' is not defined  ----------  humidity in Zollikofen May 15, 2021 16h\n",
      "QUERY:  wind speed in Zollikofen May 15, 2021 16h\n",
      "QUERY:  Moon Phase calculatorMay 15, 2021 16h\n"
     ]
    },
    {
     "name": "stderr",
     "output_type": "stream",
     "text": [
      "\r",
      "  9%|███████▍                                                                       | 53/561 [15:51<2:42:36, 19.21s/it]"
     ]
    },
    {
     "name": "stdout",
     "output_type": "stream",
     "text": [
      "QUERY:  Precipitation amount in Zollikofen May 15, 2021 17h\n",
      "QUERY:  temperature in Zollikofen May 15, 2021 17h\n",
      "QUERY:  humidity in Zollikofen May 15, 2021 17h\n",
      "ERROR: no data available-------------  humidity in Zollikofen May 15, 2021 17h\n",
      "ERROR:------------- name 'error' is not defined  ----------  humidity in Zollikofen May 15, 2021 17h\n",
      "QUERY:  wind speed in Zollikofen May 15, 2021 17h\n",
      "QUERY:  Moon Phase calculatorMay 15, 2021 17h\n"
     ]
    },
    {
     "name": "stderr",
     "output_type": "stream",
     "text": [
      "\r",
      " 10%|███████▌                                                                       | 54/561 [16:12<2:45:41, 19.61s/it]"
     ]
    },
    {
     "name": "stdout",
     "output_type": "stream",
     "text": [
      "QUERY:  Precipitation amount in Zollikofen May 15, 2021 18h\n",
      "QUERY:  temperature in Zollikofen May 15, 2021 18h\n",
      "QUERY:  humidity in Zollikofen May 15, 2021 18h\n",
      "ERROR: no data available-------------  humidity in Zollikofen May 15, 2021 18h\n",
      "ERROR:------------- name 'error' is not defined  ----------  humidity in Zollikofen May 15, 2021 18h\n",
      "QUERY:  wind speed in Zollikofen May 15, 2021 18h\n",
      "QUERY:  Moon Phase calculatorMay 15, 2021 18h\n"
     ]
    },
    {
     "name": "stderr",
     "output_type": "stream",
     "text": [
      "\r",
      " 10%|███████▋                                                                       | 55/561 [16:34<2:52:21, 20.44s/it]"
     ]
    },
    {
     "name": "stdout",
     "output_type": "stream",
     "text": [
      "QUERY:  Precipitation amount in Zollikofen May 15, 2021 19h\n",
      "QUERY:  temperature in Zollikofen May 15, 2021 19h\n",
      "QUERY:  humidity in Zollikofen May 15, 2021 19h\n",
      "ERROR: no data available-------------  humidity in Zollikofen May 15, 2021 19h\n",
      "ERROR:------------- name 'error' is not defined  ----------  humidity in Zollikofen May 15, 2021 19h\n",
      "QUERY:  wind speed in Zollikofen May 15, 2021 19h\n",
      "QUERY:  Moon Phase calculatorMay 15, 2021 19h\n"
     ]
    },
    {
     "name": "stderr",
     "output_type": "stream",
     "text": [
      "\r",
      " 10%|███████▉                                                                       | 56/561 [16:55<2:52:23, 20.48s/it]"
     ]
    },
    {
     "name": "stdout",
     "output_type": "stream",
     "text": [
      "QUERY:  Precipitation amount in Zollikofen May 15, 2021 20h\n",
      "QUERY:  temperature in Zollikofen May 15, 2021 20h\n",
      "QUERY:  humidity in Zollikofen May 15, 2021 20h\n",
      "ERROR: no data available-------------  humidity in Zollikofen May 15, 2021 20h\n",
      "ERROR:------------- name 'error' is not defined  ----------  humidity in Zollikofen May 15, 2021 20h\n",
      "QUERY:  wind speed in Zollikofen May 15, 2021 20h\n",
      "QUERY:  Moon Phase calculatorMay 15, 2021 20h\n"
     ]
    },
    {
     "name": "stderr",
     "output_type": "stream",
     "text": [
      "\r",
      " 10%|████████                                                                       | 57/561 [17:17<2:56:40, 21.03s/it]"
     ]
    },
    {
     "name": "stdout",
     "output_type": "stream",
     "text": [
      "QUERY:  Precipitation amount in Zollikofen May 15, 2021 21h\n",
      "QUERY:  temperature in Zollikofen May 15, 2021 21h\n",
      "QUERY:  humidity in Zollikofen May 15, 2021 21h\n",
      "ERROR: no data available-------------  humidity in Zollikofen May 15, 2021 21h\n",
      "ERROR:------------- name 'error' is not defined  ----------  humidity in Zollikofen May 15, 2021 21h\n",
      "QUERY:  wind speed in Zollikofen May 15, 2021 21h\n",
      "QUERY:  Moon Phase calculatorMay 15, 2021 21h\n"
     ]
    },
    {
     "name": "stderr",
     "output_type": "stream",
     "text": [
      "\r",
      " 10%|████████▏                                                                      | 58/561 [17:39<2:59:15, 21.38s/it]"
     ]
    },
    {
     "name": "stdout",
     "output_type": "stream",
     "text": [
      "QUERY:  Precipitation amount in Zollikofen May 15, 2021 22h\n",
      "QUERY:  temperature in Zollikofen May 15, 2021 22h\n",
      "ERROR: no data available-------------  temperature in Zollikofen May 15, 2021 22h\n",
      "ERROR:------------- name 'error' is not defined  ----------  temperature in Zollikofen May 15, 2021 22h\n",
      "QUERY:  humidity in Zollikofen May 15, 2021 22h\n",
      "ERROR: no data available-------------  humidity in Zollikofen May 15, 2021 22h\n",
      "ERROR:------------- name 'error' is not defined  ----------  humidity in Zollikofen May 15, 2021 22h\n",
      "QUERY:  wind speed in Zollikofen May 15, 2021 22h\n",
      "ERROR: no data available-------------  wind speed in Zollikofen May 15, 2021 22h\n",
      "ERROR:------------- name 'error' is not defined  ----------  wind speed in Zollikofen May 15, 2021 22h\n",
      "QUERY:  Moon Phase calculatorMay 15, 2021 22h\n"
     ]
    },
    {
     "name": "stderr",
     "output_type": "stream",
     "text": [
      "\r",
      " 11%|████████▎                                                                      | 59/561 [17:59<2:55:27, 20.97s/it]"
     ]
    },
    {
     "name": "stdout",
     "output_type": "stream",
     "text": [
      "QUERY:  Precipitation amount in Zollikofen May 15, 2021 23h\n",
      "QUERY:  temperature in Zollikofen May 15, 2021 23h\n",
      "ERROR: no data available-------------  temperature in Zollikofen May 15, 2021 23h\n",
      "ERROR:------------- name 'error' is not defined  ----------  temperature in Zollikofen May 15, 2021 23h\n",
      "QUERY:  humidity in Zollikofen May 15, 2021 23h\n",
      "ERROR: no data available-------------  humidity in Zollikofen May 15, 2021 23h\n",
      "ERROR:------------- name 'error' is not defined  ----------  humidity in Zollikofen May 15, 2021 23h\n",
      "QUERY:  wind speed in Zollikofen May 15, 2021 23h\n",
      "ERROR: no data available-------------  wind speed in Zollikofen May 15, 2021 23h\n",
      "ERROR:------------- name 'error' is not defined  ----------  wind speed in Zollikofen May 15, 2021 23h\n",
      "QUERY:  Moon Phase calculatorMay 15, 2021 23h\n"
     ]
    },
    {
     "name": "stderr",
     "output_type": "stream",
     "text": [
      "\r",
      " 11%|████████▍                                                                      | 60/561 [18:20<2:55:18, 21.00s/it]"
     ]
    },
    {
     "name": "stdout",
     "output_type": "stream",
     "text": [
      "QUERY:  Precipitation amount in Zollikofen June 1, 2021 21h\n",
      "QUERY:  temperature in Zollikofen June 1, 2021 21h\n",
      "QUERY:  humidity in Zollikofen June 1, 2021 21h\n",
      "ERROR: no data available-------------  humidity in Zollikofen June 1, 2021 21h\n",
      "ERROR:------------- name 'error' is not defined  ----------  humidity in Zollikofen June 1, 2021 21h\n",
      "QUERY:  wind speed in Zollikofen June 1, 2021 21h\n",
      "QUERY:  Moon Phase calculatorJune 1, 2021 21h\n",
      "(6869, 7)\n"
     ]
    },
    {
     "data": {
      "text/html": [
       "<div>\n",
       "<style scoped>\n",
       "    .dataframe tbody tr th:only-of-type {\n",
       "        vertical-align: middle;\n",
       "    }\n",
       "\n",
       "    .dataframe tbody tr th {\n",
       "        vertical-align: top;\n",
       "    }\n",
       "\n",
       "    .dataframe thead th {\n",
       "        text-align: right;\n",
       "    }\n",
       "</style>\n",
       "<table border=\"1\" class=\"dataframe\">\n",
       "  <thead>\n",
       "    <tr style=\"text-align: right;\">\n",
       "      <th></th>\n",
       "      <th>date</th>\n",
       "      <th>temperature</th>\n",
       "      <th>humidity</th>\n",
       "      <th>wind speed</th>\n",
       "      <th>Precipitation amount</th>\n",
       "      <th>query</th>\n",
       "      <th>Moon Phase calculator</th>\n",
       "    </tr>\n",
       "  </thead>\n",
       "  <tbody>\n",
       "    <tr>\n",
       "      <th>8</th>\n",
       "      <td>2021-05-15 23:00:00</td>\n",
       "      <td>ERROR</td>\n",
       "      <td>ERROR</td>\n",
       "      <td>ERROR</td>\n",
       "      <td>(unknown)\\n(11:00 pm CEST | Saturday, May 15, ...</td>\n",
       "      <td>Moon Phase calculatorMay 15, 2021 23h</td>\n",
       "      <td>| waxing crescent moon\\n14.45% illuminated</td>\n",
       "    </tr>\n",
       "    <tr>\n",
       "      <th>9</th>\n",
       "      <td>2021-06-01 21:00:00</td>\n",
       "      <td>23 °C\\n(9:00 pm CEST | Tuesday, June 1, 2021)</td>\n",
       "      <td>ERROR</td>\n",
       "      <td>4 m/s\\n(9:00 pm CEST | Tuesday, June 1, 2021)</td>\n",
       "      <td>(unknown)\\n(9:00 pm CEST | Tuesday, June 1, 2021)</td>\n",
       "      <td>Moon Phase calculatorJune 1, 2021 21h</td>\n",
       "      <td>| waning gibbous moon\\n55.45% illuminated</td>\n",
       "    </tr>\n",
       "  </tbody>\n",
       "</table>\n",
       "</div>"
      ],
      "text/plain": [
       "                 date                                    temperature humidity  \\\n",
       "8 2021-05-15 23:00:00                                          ERROR    ERROR   \n",
       "9 2021-06-01 21:00:00  23 °C\\n(9:00 pm CEST | Tuesday, June 1, 2021)    ERROR   \n",
       "\n",
       "                                      wind speed  \\\n",
       "8                                          ERROR   \n",
       "9  4 m/s\\n(9:00 pm CEST | Tuesday, June 1, 2021)   \n",
       "\n",
       "                                Precipitation amount  \\\n",
       "8  (unknown)\\n(11:00 pm CEST | Saturday, May 15, ...   \n",
       "9  (unknown)\\n(9:00 pm CEST | Tuesday, June 1, 2021)   \n",
       "\n",
       "                                   query  \\\n",
       "8  Moon Phase calculatorMay 15, 2021 23h   \n",
       "9  Moon Phase calculatorJune 1, 2021 21h   \n",
       "\n",
       "                        Moon Phase calculator  \n",
       "8  | waxing crescent moon\\n14.45% illuminated  \n",
       "9   | waning gibbous moon\\n55.45% illuminated  "
      ]
     },
     "metadata": {},
     "output_type": "display_data"
    },
    {
     "name": "stderr",
     "output_type": "stream",
     "text": [
      "\r",
      " 11%|████████▌                                                                      | 61/561 [18:42<2:56:17, 21.16s/it]"
     ]
    },
    {
     "name": "stdout",
     "output_type": "stream",
     "text": [
      "QUERY:  Precipitation amount in Zollikofen June 2, 2021 14h\n",
      "QUERY:  temperature in Zollikofen June 2, 2021 14h\n",
      "ERROR: no data available-------------  temperature in Zollikofen June 2, 2021 14h\n",
      "ERROR:------------- name 'error' is not defined  ----------  temperature in Zollikofen June 2, 2021 14h\n",
      "QUERY:  humidity in Zollikofen June 2, 2021 14h\n",
      "QUERY:  wind speed in Zollikofen June 2, 2021 14h\n",
      "ERROR: no data available-------------  wind speed in Zollikofen June 2, 2021 14h\n",
      "ERROR:------------- name 'error' is not defined  ----------  wind speed in Zollikofen June 2, 2021 14h\n",
      "QUERY:  Moon Phase calculatorJune 2, 2021 14h\n"
     ]
    },
    {
     "name": "stderr",
     "output_type": "stream",
     "text": [
      "\r",
      " 11%|████████▋                                                                      | 62/561 [19:02<2:52:29, 20.74s/it]"
     ]
    },
    {
     "name": "stdout",
     "output_type": "stream",
     "text": [
      "QUERY:  Precipitation amount in Zollikofen June 2, 2021 15h\n",
      "QUERY:  temperature in Zollikofen June 2, 2021 15h\n",
      "ERROR: no data available-------------  temperature in Zollikofen June 2, 2021 15h\n",
      "ERROR:------------- name 'error' is not defined  ----------  temperature in Zollikofen June 2, 2021 15h\n",
      "QUERY:  humidity in Zollikofen June 2, 2021 15h\n",
      "QUERY:  wind speed in Zollikofen June 2, 2021 15h\n",
      "ERROR: no data available-------------  wind speed in Zollikofen June 2, 2021 15h\n",
      "ERROR:------------- name 'error' is not defined  ----------  wind speed in Zollikofen June 2, 2021 15h\n",
      "QUERY:  Moon Phase calculatorJune 2, 2021 15h\n"
     ]
    },
    {
     "name": "stderr",
     "output_type": "stream",
     "text": [
      "\r",
      " 11%|████████▊                                                                      | 63/561 [19:21<2:48:41, 20.32s/it]"
     ]
    },
    {
     "name": "stdout",
     "output_type": "stream",
     "text": [
      "QUERY:  Precipitation amount in Zollikofen June 2, 2021 16h\n",
      "QUERY:  temperature in Zollikofen June 2, 2021 16h\n",
      "ERROR: no data available-------------  temperature in Zollikofen June 2, 2021 16h\n",
      "ERROR:------------- name 'error' is not defined  ----------  temperature in Zollikofen June 2, 2021 16h\n",
      "QUERY:  humidity in Zollikofen June 2, 2021 16h\n",
      "QUERY:  wind speed in Zollikofen June 2, 2021 16h\n",
      "ERROR: no data available-------------  wind speed in Zollikofen June 2, 2021 16h\n",
      "ERROR:------------- name 'error' is not defined  ----------  wind speed in Zollikofen June 2, 2021 16h\n",
      "QUERY:  Moon Phase calculatorJune 2, 2021 16h\n"
     ]
    },
    {
     "name": "stderr",
     "output_type": "stream",
     "text": [
      "\r",
      " 11%|█████████                                                                      | 64/561 [19:41<2:47:42, 20.25s/it]"
     ]
    },
    {
     "name": "stdout",
     "output_type": "stream",
     "text": [
      "QUERY:  Precipitation amount in Zollikofen June 4, 2021 23h\n",
      "QUERY:  temperature in Zollikofen June 4, 2021 23h\n",
      "QUERY:  humidity in Zollikofen June 4, 2021 23h\n",
      "ERROR: no data available-------------  humidity in Zollikofen June 4, 2021 23h\n",
      "ERROR:------------- name 'error' is not defined  ----------  humidity in Zollikofen June 4, 2021 23h\n",
      "QUERY:  wind speed in Zollikofen June 4, 2021 23h\n",
      "QUERY:  Moon Phase calculatorJune 4, 2021 23h\n"
     ]
    },
    {
     "name": "stderr",
     "output_type": "stream",
     "text": [
      "\r",
      " 12%|█████████▏                                                                     | 65/561 [20:01<2:46:36, 20.15s/it]"
     ]
    },
    {
     "name": "stdout",
     "output_type": "stream",
     "text": [
      "QUERY:  Precipitation amount in Zollikofen June 8, 2021 20h\n",
      "QUERY:  temperature in Zollikofen June 8, 2021 20h\n",
      "QUERY:  humidity in Zollikofen June 8, 2021 20h\n",
      "ERROR: no data available-------------  humidity in Zollikofen June 8, 2021 20h\n",
      "ERROR:------------- name 'error' is not defined  ----------  humidity in Zollikofen June 8, 2021 20h\n",
      "QUERY:  wind speed in Zollikofen June 8, 2021 20h\n",
      "QUERY:  Moon Phase calculatorJune 8, 2021 20h\n"
     ]
    },
    {
     "name": "stderr",
     "output_type": "stream",
     "text": [
      "\r",
      " 12%|█████████▎                                                                     | 66/561 [20:21<2:45:41, 20.08s/it]"
     ]
    },
    {
     "name": "stdout",
     "output_type": "stream",
     "text": [
      "QUERY:  Precipitation amount in Zollikofen June 22, 2021 6h\n",
      "QUERY:  temperature in Zollikofen June 22, 2021 6h\n",
      "QUERY:  humidity in Zollikofen June 22, 2021 6h\n",
      "ERROR: no data available-------------  humidity in Zollikofen June 22, 2021 6h\n",
      "ERROR:------------- name 'error' is not defined  ----------  humidity in Zollikofen June 22, 2021 6h\n",
      "QUERY:  wind speed in Zollikofen June 22, 2021 6h\n",
      "QUERY:  Moon Phase calculatorJune 22, 2021 6h\n"
     ]
    },
    {
     "name": "stderr",
     "output_type": "stream",
     "text": [
      "\r",
      " 12%|█████████▍                                                                     | 67/561 [20:41<2:44:28, 19.98s/it]"
     ]
    },
    {
     "name": "stdout",
     "output_type": "stream",
     "text": [
      "QUERY:  Precipitation amount in Zollikofen July 12, 2021 11h\n",
      "QUERY:  temperature in Zollikofen July 12, 2021 11h\n",
      "QUERY:  humidity in Zollikofen July 12, 2021 11h\n",
      "QUERY:  wind speed in Zollikofen July 12, 2021 11h\n",
      "QUERY:  Moon Phase calculatorJuly 12, 2021 11h\n"
     ]
    },
    {
     "name": "stderr",
     "output_type": "stream",
     "text": [
      "\r",
      " 12%|█████████▌                                                                     | 68/561 [21:00<2:43:38, 19.92s/it]"
     ]
    },
    {
     "name": "stdout",
     "output_type": "stream",
     "text": [
      "QUERY:  Precipitation amount in Zollikofen July 12, 2021 12h\n",
      "QUERY:  temperature in Zollikofen July 12, 2021 12h\n",
      "QUERY:  humidity in Zollikofen July 12, 2021 12h\n",
      "QUERY:  wind speed in Zollikofen July 12, 2021 12h\n",
      "QUERY:  Moon Phase calculatorJuly 12, 2021 12h\n"
     ]
    },
    {
     "name": "stderr",
     "output_type": "stream",
     "text": [
      "\r",
      " 12%|█████████▋                                                                     | 69/561 [21:22<2:47:45, 20.46s/it]"
     ]
    },
    {
     "name": "stdout",
     "output_type": "stream",
     "text": [
      "QUERY:  Precipitation amount in Zollikofen July 12, 2021 13h\n",
      "QUERY:  temperature in Zollikofen July 12, 2021 13h\n",
      "QUERY:  humidity in Zollikofen July 12, 2021 13h\n",
      "QUERY:  wind speed in Zollikofen July 12, 2021 13h\n",
      "QUERY:  Moon Phase calculatorJuly 12, 2021 13h\n"
     ]
    },
    {
     "name": "stderr",
     "output_type": "stream",
     "text": [
      "\r",
      " 12%|█████████▊                                                                     | 70/561 [21:42<2:45:58, 20.28s/it]"
     ]
    },
    {
     "name": "stdout",
     "output_type": "stream",
     "text": [
      "QUERY:  Precipitation amount in Zollikofen July 12, 2021 14h\n",
      "QUERY:  temperature in Zollikofen July 12, 2021 14h\n",
      "QUERY:  humidity in Zollikofen July 12, 2021 14h\n",
      "QUERY:  wind speed in Zollikofen July 12, 2021 14h\n",
      "QUERY:  Moon Phase calculatorJuly 12, 2021 14h\n",
      "(6879, 7)\n"
     ]
    },
    {
     "data": {
      "text/html": [
       "<div>\n",
       "<style scoped>\n",
       "    .dataframe tbody tr th:only-of-type {\n",
       "        vertical-align: middle;\n",
       "    }\n",
       "\n",
       "    .dataframe tbody tr th {\n",
       "        vertical-align: top;\n",
       "    }\n",
       "\n",
       "    .dataframe thead th {\n",
       "        text-align: right;\n",
       "    }\n",
       "</style>\n",
       "<table border=\"1\" class=\"dataframe\">\n",
       "  <thead>\n",
       "    <tr style=\"text-align: right;\">\n",
       "      <th></th>\n",
       "      <th>date</th>\n",
       "      <th>temperature</th>\n",
       "      <th>humidity</th>\n",
       "      <th>wind speed</th>\n",
       "      <th>Precipitation amount</th>\n",
       "      <th>query</th>\n",
       "      <th>Moon Phase calculator</th>\n",
       "    </tr>\n",
       "  </thead>\n",
       "  <tbody>\n",
       "    <tr>\n",
       "      <th>8</th>\n",
       "      <td>2021-07-12 13:00:00</td>\n",
       "      <td>23 °C\\n(1:00 pm CEST | Monday, July 12, 2021)</td>\n",
       "      <td>average: 54% (54%)\\n(1:00 pm CEST | Monday, Ju...</td>\n",
       "      <td>1 m/s\\n(1:00 pm CEST | Monday, July 12, 2021)</td>\n",
       "      <td>no precipitation\\n(1:00 pm CEST | Monday, July...</td>\n",
       "      <td>Moon Phase calculatorJuly 12, 2021 13h</td>\n",
       "      <td>| waxing crescent moon\\n6.05% illuminated</td>\n",
       "    </tr>\n",
       "    <tr>\n",
       "      <th>9</th>\n",
       "      <td>2021-07-12 14:00:00</td>\n",
       "      <td>23 °C\\n(2:00 pm CEST | Monday, July 12, 2021)</td>\n",
       "      <td>average: 56% (54 to 57%)\\n(2:00 pm CEST | Mond...</td>\n",
       "      <td>1 m/s\\n(2:00 pm CEST | Monday, July 12, 2021)</td>\n",
       "      <td>no precipitation\\n(2:00 pm CEST | Monday, July...</td>\n",
       "      <td>Moon Phase calculatorJuly 12, 2021 14h</td>\n",
       "      <td>| waxing crescent moon\\n6.26% illuminated</td>\n",
       "    </tr>\n",
       "  </tbody>\n",
       "</table>\n",
       "</div>"
      ],
      "text/plain": [
       "                 date                                    temperature  \\\n",
       "8 2021-07-12 13:00:00  23 °C\\n(1:00 pm CEST | Monday, July 12, 2021)   \n",
       "9 2021-07-12 14:00:00  23 °C\\n(2:00 pm CEST | Monday, July 12, 2021)   \n",
       "\n",
       "                                            humidity  \\\n",
       "8  average: 54% (54%)\\n(1:00 pm CEST | Monday, Ju...   \n",
       "9  average: 56% (54 to 57%)\\n(2:00 pm CEST | Mond...   \n",
       "\n",
       "                                      wind speed  \\\n",
       "8  1 m/s\\n(1:00 pm CEST | Monday, July 12, 2021)   \n",
       "9  1 m/s\\n(2:00 pm CEST | Monday, July 12, 2021)   \n",
       "\n",
       "                                Precipitation amount  \\\n",
       "8  no precipitation\\n(1:00 pm CEST | Monday, July...   \n",
       "9  no precipitation\\n(2:00 pm CEST | Monday, July...   \n",
       "\n",
       "                                    query  \\\n",
       "8  Moon Phase calculatorJuly 12, 2021 13h   \n",
       "9  Moon Phase calculatorJuly 12, 2021 14h   \n",
       "\n",
       "                       Moon Phase calculator  \n",
       "8  | waxing crescent moon\\n6.05% illuminated  \n",
       "9  | waxing crescent moon\\n6.26% illuminated  "
      ]
     },
     "metadata": {},
     "output_type": "display_data"
    },
    {
     "name": "stderr",
     "output_type": "stream",
     "text": [
      "\r",
      " 13%|█████████▉                                                                     | 71/561 [22:02<2:45:51, 20.31s/it]"
     ]
    },
    {
     "name": "stdout",
     "output_type": "stream",
     "text": [
      "QUERY:  Precipitation amount in Zollikofen July 12, 2021 15h\n",
      "QUERY:  temperature in Zollikofen July 12, 2021 15h\n",
      "QUERY:  humidity in Zollikofen July 12, 2021 15h\n",
      "QUERY:  wind speed in Zollikofen July 12, 2021 15h\n",
      "QUERY:  Moon Phase calculatorJuly 12, 2021 15h\n"
     ]
    },
    {
     "name": "stderr",
     "output_type": "stream",
     "text": [
      "\r",
      " 13%|██████████▏                                                                    | 72/561 [22:23<2:46:25, 20.42s/it]"
     ]
    },
    {
     "name": "stdout",
     "output_type": "stream",
     "text": [
      "QUERY:  Precipitation amount in Zollikofen July 12, 2021 16h\n",
      "QUERY:  temperature in Zollikofen July 12, 2021 16h\n",
      "QUERY:  humidity in Zollikofen July 12, 2021 16h\n",
      "QUERY:  wind speed in Zollikofen July 12, 2021 16h\n",
      "QUERY:  Moon Phase calculatorJuly 12, 2021 16h\n"
     ]
    },
    {
     "name": "stderr",
     "output_type": "stream",
     "text": [
      "\r",
      " 13%|██████████▎                                                                    | 73/561 [22:42<2:43:52, 20.15s/it]"
     ]
    },
    {
     "name": "stdout",
     "output_type": "stream",
     "text": [
      "QUERY:  Precipitation amount in Zollikofen July 12, 2021 17h\n",
      "QUERY:  temperature in Zollikofen July 12, 2021 17h\n",
      "QUERY:  humidity in Zollikofen July 12, 2021 17h\n",
      "QUERY:  wind speed in Zollikofen July 12, 2021 17h\n",
      "QUERY:  Moon Phase calculatorJuly 12, 2021 17h\n"
     ]
    },
    {
     "name": "stderr",
     "output_type": "stream",
     "text": [
      "\r",
      " 13%|██████████▍                                                                    | 74/561 [23:02<2:41:18, 19.87s/it]"
     ]
    },
    {
     "name": "stdout",
     "output_type": "stream",
     "text": [
      "QUERY:  Precipitation amount in Zollikofen July 12, 2021 18h\n",
      "QUERY:  temperature in Zollikofen July 12, 2021 18h\n",
      "QUERY:  humidity in Zollikofen July 12, 2021 18h\n",
      "QUERY:  wind speed in Zollikofen July 12, 2021 18h\n",
      "QUERY:  Moon Phase calculatorJuly 12, 2021 18h\n"
     ]
    },
    {
     "name": "stderr",
     "output_type": "stream",
     "text": [
      "\r",
      " 13%|██████████▌                                                                    | 75/561 [23:21<2:40:39, 19.84s/it]"
     ]
    },
    {
     "name": "stdout",
     "output_type": "stream",
     "text": [
      "QUERY:  Precipitation amount in Zollikofen July 12, 2021 19h\n",
      "QUERY:  temperature in Zollikofen July 12, 2021 19h\n",
      "QUERY:  humidity in Zollikofen July 12, 2021 19h\n",
      "QUERY:  wind speed in Zollikofen July 12, 2021 19h\n",
      "QUERY:  Moon Phase calculatorJuly 12, 2021 19h\n"
     ]
    },
    {
     "name": "stderr",
     "output_type": "stream",
     "text": [
      "\r",
      " 14%|██████████▋                                                                    | 76/561 [23:41<2:39:44, 19.76s/it]"
     ]
    },
    {
     "name": "stdout",
     "output_type": "stream",
     "text": [
      "QUERY:  Precipitation amount in Zollikofen July 12, 2021 20h\n",
      "QUERY:  temperature in Zollikofen July 12, 2021 20h\n",
      "QUERY:  humidity in Zollikofen July 12, 2021 20h\n",
      "QUERY:  wind speed in Zollikofen July 12, 2021 20h\n",
      "QUERY:  Moon Phase calculatorJuly 12, 2021 20h\n"
     ]
    },
    {
     "name": "stderr",
     "output_type": "stream",
     "text": [
      "\r",
      " 14%|██████████▊                                                                    | 77/561 [24:02<2:42:56, 20.20s/it]"
     ]
    },
    {
     "name": "stdout",
     "output_type": "stream",
     "text": [
      "QUERY:  Precipitation amount in Zollikofen July 12, 2021 21h\n",
      "QUERY:  temperature in Zollikofen July 12, 2021 21h\n",
      "QUERY:  humidity in Zollikofen July 12, 2021 21h\n",
      "QUERY:  wind speed in Zollikofen July 12, 2021 21h\n",
      "QUERY:  Moon Phase calculatorJuly 12, 2021 21h\n"
     ]
    },
    {
     "name": "stderr",
     "output_type": "stream",
     "text": [
      "\r",
      " 14%|██████████▉                                                                    | 78/561 [24:22<2:41:18, 20.04s/it]"
     ]
    },
    {
     "name": "stdout",
     "output_type": "stream",
     "text": [
      "QUERY:  Precipitation amount in Zollikofen July 12, 2021 22h\n",
      "QUERY:  temperature in Zollikofen July 12, 2021 22h\n",
      "QUERY:  humidity in Zollikofen July 12, 2021 22h\n",
      "QUERY:  wind speed in Zollikofen July 12, 2021 22h\n",
      "QUERY:  Moon Phase calculatorJuly 12, 2021 22h\n"
     ]
    },
    {
     "name": "stderr",
     "output_type": "stream",
     "text": [
      "\r",
      " 14%|███████████                                                                    | 79/561 [24:42<2:39:55, 19.91s/it]"
     ]
    },
    {
     "name": "stdout",
     "output_type": "stream",
     "text": [
      "QUERY:  Precipitation amount in Zollikofen July 12, 2021 23h\n",
      "QUERY:  temperature in Zollikofen July 12, 2021 23h\n",
      "QUERY:  humidity in Zollikofen July 12, 2021 23h\n",
      "QUERY:  wind speed in Zollikofen July 12, 2021 23h\n",
      "QUERY:  Moon Phase calculatorJuly 12, 2021 23h\n"
     ]
    },
    {
     "name": "stderr",
     "output_type": "stream",
     "text": [
      "\r",
      " 14%|███████████▎                                                                   | 80/561 [25:01<2:38:52, 19.82s/it]"
     ]
    },
    {
     "name": "stdout",
     "output_type": "stream",
     "text": [
      "QUERY:  Precipitation amount in Zollikofen July 13, 2021 0h\n",
      "QUERY:  temperature in Zollikofen July 13, 2021 0h\n",
      "QUERY:  humidity in Zollikofen July 13, 2021 0h\n",
      "QUERY:  wind speed in Zollikofen July 13, 2021 0h\n",
      "QUERY:  Moon Phase calculatorJuly 13, 2021 0h\n",
      "(6889, 7)\n"
     ]
    },
    {
     "data": {
      "text/html": [
       "<div>\n",
       "<style scoped>\n",
       "    .dataframe tbody tr th:only-of-type {\n",
       "        vertical-align: middle;\n",
       "    }\n",
       "\n",
       "    .dataframe tbody tr th {\n",
       "        vertical-align: top;\n",
       "    }\n",
       "\n",
       "    .dataframe thead th {\n",
       "        text-align: right;\n",
       "    }\n",
       "</style>\n",
       "<table border=\"1\" class=\"dataframe\">\n",
       "  <thead>\n",
       "    <tr style=\"text-align: right;\">\n",
       "      <th></th>\n",
       "      <th>date</th>\n",
       "      <th>temperature</th>\n",
       "      <th>humidity</th>\n",
       "      <th>wind speed</th>\n",
       "      <th>Precipitation amount</th>\n",
       "      <th>query</th>\n",
       "      <th>Moon Phase calculator</th>\n",
       "    </tr>\n",
       "  </thead>\n",
       "  <tbody>\n",
       "    <tr>\n",
       "      <th>8</th>\n",
       "      <td>2021-07-12 23:00:00</td>\n",
       "      <td>18 °C\\n(11:00 pm CEST | Monday, July 12, 2021)</td>\n",
       "      <td>average: 97% (94 to 100%)\\n(11:00 pm CEST | Mo...</td>\n",
       "      <td>3 m/s\\n(11:00 pm CEST | Monday, July 12, 2021)</td>\n",
       "      <td>no precipitation\\n(11:00 pm CEST | Monday, Jul...</td>\n",
       "      <td>Moon Phase calculatorJuly 12, 2021 23h</td>\n",
       "      <td>| waxing crescent moon\\n8.28% illuminated</td>\n",
       "    </tr>\n",
       "    <tr>\n",
       "      <th>9</th>\n",
       "      <td>2021-07-13 00:00:00</td>\n",
       "      <td>17 °C\\n(12:00 am CEST | Tuesday, July 13, 2021)</td>\n",
       "      <td>average: 94% (94%)\\n(12:00 am CEST | Tuesday, ...</td>\n",
       "      <td>3 m/s\\n(12:00 am CEST | Tuesday, July 13, 2021)</td>\n",
       "      <td>no precipitation\\n(12:00 am CEST | Tuesday, Ju...</td>\n",
       "      <td>Moon Phase calculatorJuly 13, 2021 0h</td>\n",
       "      <td>| waxing crescent moon\\n8.52% illuminated</td>\n",
       "    </tr>\n",
       "  </tbody>\n",
       "</table>\n",
       "</div>"
      ],
      "text/plain": [
       "                 date                                      temperature  \\\n",
       "8 2021-07-12 23:00:00   18 °C\\n(11:00 pm CEST | Monday, July 12, 2021)   \n",
       "9 2021-07-13 00:00:00  17 °C\\n(12:00 am CEST | Tuesday, July 13, 2021)   \n",
       "\n",
       "                                            humidity  \\\n",
       "8  average: 97% (94 to 100%)\\n(11:00 pm CEST | Mo...   \n",
       "9  average: 94% (94%)\\n(12:00 am CEST | Tuesday, ...   \n",
       "\n",
       "                                        wind speed  \\\n",
       "8   3 m/s\\n(11:00 pm CEST | Monday, July 12, 2021)   \n",
       "9  3 m/s\\n(12:00 am CEST | Tuesday, July 13, 2021)   \n",
       "\n",
       "                                Precipitation amount  \\\n",
       "8  no precipitation\\n(11:00 pm CEST | Monday, Jul...   \n",
       "9  no precipitation\\n(12:00 am CEST | Tuesday, Ju...   \n",
       "\n",
       "                                    query  \\\n",
       "8  Moon Phase calculatorJuly 12, 2021 23h   \n",
       "9   Moon Phase calculatorJuly 13, 2021 0h   \n",
       "\n",
       "                       Moon Phase calculator  \n",
       "8  | waxing crescent moon\\n8.28% illuminated  \n",
       "9  | waxing crescent moon\\n8.52% illuminated  "
      ]
     },
     "metadata": {},
     "output_type": "display_data"
    },
    {
     "name": "stderr",
     "output_type": "stream",
     "text": [
      "\r",
      " 14%|███████████▍                                                                   | 81/561 [25:21<2:37:45, 19.72s/it]"
     ]
    },
    {
     "name": "stdout",
     "output_type": "stream",
     "text": [
      "QUERY:  Precipitation amount in Zollikofen July 13, 2021 1h\n",
      "QUERY:  temperature in Zollikofen July 13, 2021 1h\n",
      "QUERY:  humidity in Zollikofen July 13, 2021 1h\n",
      "QUERY:  wind speed in Zollikofen July 13, 2021 1h\n",
      "QUERY:  Moon Phase calculatorJuly 13, 2021 1h\n"
     ]
    },
    {
     "name": "stderr",
     "output_type": "stream",
     "text": [
      "\r",
      " 15%|███████████▌                                                                   | 82/561 [25:40<2:37:40, 19.75s/it]"
     ]
    },
    {
     "name": "stdout",
     "output_type": "stream",
     "text": [
      "QUERY:  Precipitation amount in Zollikofen July 13, 2021 2h\n",
      "QUERY:  temperature in Zollikofen July 13, 2021 2h\n",
      "QUERY:  humidity in Zollikofen July 13, 2021 2h\n",
      "QUERY:  wind speed in Zollikofen July 13, 2021 2h\n",
      "ERROR:------------- results  ----------  wind speed in Zollikofen July 13, 2021 2h\n",
      "QUERY:  Moon Phase calculatorJuly 13, 2021 2h\n"
     ]
    },
    {
     "name": "stderr",
     "output_type": "stream",
     "text": [
      "\r",
      " 15%|███████████▋                                                                   | 83/561 [26:04<2:46:39, 20.92s/it]"
     ]
    },
    {
     "name": "stdout",
     "output_type": "stream",
     "text": [
      "QUERY:  Precipitation amount in Zollikofen July 13, 2021 3h\n",
      "QUERY:  temperature in Zollikofen July 13, 2021 3h\n",
      "QUERY:  humidity in Zollikofen July 13, 2021 3h\n",
      "QUERY:  wind speed in Zollikofen July 13, 2021 3h\n",
      "QUERY:  Moon Phase calculatorJuly 13, 2021 3h\n"
     ]
    },
    {
     "name": "stderr",
     "output_type": "stream",
     "text": [
      "\r",
      " 15%|███████████▊                                                                   | 84/561 [26:24<2:43:49, 20.61s/it]"
     ]
    },
    {
     "name": "stdout",
     "output_type": "stream",
     "text": [
      "QUERY:  Precipitation amount in Zollikofen July 13, 2021 4h\n",
      "QUERY:  temperature in Zollikofen July 13, 2021 4h\n",
      "QUERY:  humidity in Zollikofen July 13, 2021 4h\n",
      "QUERY:  wind speed in Zollikofen July 13, 2021 4h\n",
      "QUERY:  Moon Phase calculatorJuly 13, 2021 4h\n"
     ]
    },
    {
     "name": "stderr",
     "output_type": "stream",
     "text": [
      "\r",
      " 15%|███████████▉                                                                   | 85/561 [26:43<2:40:55, 20.28s/it]"
     ]
    },
    {
     "name": "stdout",
     "output_type": "stream",
     "text": [
      "QUERY:  Precipitation amount in Zollikofen July 13, 2021 5h\n",
      "QUERY:  temperature in Zollikofen July 13, 2021 5h\n",
      "QUERY:  humidity in Zollikofen July 13, 2021 5h\n",
      "QUERY:  wind speed in Zollikofen July 13, 2021 5h\n",
      "QUERY:  Moon Phase calculatorJuly 13, 2021 5h\n"
     ]
    },
    {
     "name": "stderr",
     "output_type": "stream",
     "text": [
      "\r",
      " 15%|████████████                                                                   | 86/561 [27:03<2:39:15, 20.12s/it]"
     ]
    },
    {
     "name": "stdout",
     "output_type": "stream",
     "text": [
      "QUERY:  Precipitation amount in Zollikofen July 13, 2021 6h\n",
      "QUERY:  temperature in Zollikofen July 13, 2021 6h\n",
      "QUERY:  humidity in Zollikofen July 13, 2021 6h\n",
      "QUERY:  wind speed in Zollikofen July 13, 2021 6h\n",
      "QUERY:  Moon Phase calculatorJuly 13, 2021 6h\n"
     ]
    },
    {
     "name": "stderr",
     "output_type": "stream",
     "text": [
      "\r",
      " 16%|████████████▎                                                                  | 87/561 [27:23<2:37:05, 19.89s/it]"
     ]
    },
    {
     "name": "stdout",
     "output_type": "stream",
     "text": [
      "QUERY:  Precipitation amount in Zollikofen July 13, 2021 7h\n",
      "QUERY:  temperature in Zollikofen July 13, 2021 7h\n",
      "QUERY:  humidity in Zollikofen July 13, 2021 7h\n",
      "QUERY:  wind speed in Zollikofen July 13, 2021 7h\n",
      "QUERY:  Moon Phase calculatorJuly 13, 2021 7h\n"
     ]
    },
    {
     "name": "stderr",
     "output_type": "stream",
     "text": [
      "\r",
      " 16%|████████████▍                                                                  | 88/561 [27:43<2:37:57, 20.04s/it]"
     ]
    },
    {
     "name": "stdout",
     "output_type": "stream",
     "text": [
      "QUERY:  Precipitation amount in Zollikofen July 13, 2021 8h\n",
      "QUERY:  temperature in Zollikofen July 13, 2021 8h\n",
      "QUERY:  humidity in Zollikofen July 13, 2021 8h\n",
      "ERROR:------------- results  ----------  humidity in Zollikofen July 13, 2021 8h\n",
      "QUERY:  wind speed in Zollikofen July 13, 2021 8h\n",
      "QUERY:  Moon Phase calculatorJuly 13, 2021 8h\n"
     ]
    },
    {
     "name": "stderr",
     "output_type": "stream",
     "text": [
      "\r",
      " 16%|████████████▌                                                                  | 89/561 [28:04<2:40:38, 20.42s/it]"
     ]
    },
    {
     "name": "stdout",
     "output_type": "stream",
     "text": [
      "QUERY:  Precipitation amount in Zollikofen July 13, 2021 9h\n",
      "QUERY:  temperature in Zollikofen July 13, 2021 9h\n",
      "QUERY:  humidity in Zollikofen July 13, 2021 9h\n",
      "QUERY:  wind speed in Zollikofen July 13, 2021 9h\n",
      "QUERY:  Moon Phase calculatorJuly 13, 2021 9h\n"
     ]
    },
    {
     "name": "stderr",
     "output_type": "stream",
     "text": [
      "\r",
      " 16%|████████████▋                                                                  | 90/561 [28:24<2:38:52, 20.24s/it]"
     ]
    },
    {
     "name": "stdout",
     "output_type": "stream",
     "text": [
      "QUERY:  Precipitation amount in Zollikofen July 13, 2021 10h\n",
      "QUERY:  temperature in Zollikofen July 13, 2021 10h\n",
      "QUERY:  humidity in Zollikofen July 13, 2021 10h\n",
      "QUERY:  wind speed in Zollikofen July 13, 2021 10h\n",
      "QUERY:  Moon Phase calculatorJuly 13, 2021 10h\n",
      "(6899, 7)\n"
     ]
    },
    {
     "data": {
      "text/html": [
       "<div>\n",
       "<style scoped>\n",
       "    .dataframe tbody tr th:only-of-type {\n",
       "        vertical-align: middle;\n",
       "    }\n",
       "\n",
       "    .dataframe tbody tr th {\n",
       "        vertical-align: top;\n",
       "    }\n",
       "\n",
       "    .dataframe thead th {\n",
       "        text-align: right;\n",
       "    }\n",
       "</style>\n",
       "<table border=\"1\" class=\"dataframe\">\n",
       "  <thead>\n",
       "    <tr style=\"text-align: right;\">\n",
       "      <th></th>\n",
       "      <th>date</th>\n",
       "      <th>temperature</th>\n",
       "      <th>humidity</th>\n",
       "      <th>wind speed</th>\n",
       "      <th>Precipitation amount</th>\n",
       "      <th>query</th>\n",
       "      <th>Moon Phase calculator</th>\n",
       "    </tr>\n",
       "  </thead>\n",
       "  <tbody>\n",
       "    <tr>\n",
       "      <th>8</th>\n",
       "      <td>2021-07-13 09:00:00</td>\n",
       "      <td>12 °C\\n(9:00 am CEST | Tuesday, July 13, 2021)</td>\n",
       "      <td>average: 94% (94%)\\n(9:00 am CEST | Tuesday, J...</td>\n",
       "      <td>2 m/s\\n(9:00 am CEST | Tuesday, July 13, 2021)</td>\n",
       "      <td>rain\\n(9:00 am CEST | Tuesday, July 13, 2021)</td>\n",
       "      <td>Moon Phase calculatorJuly 13, 2021 9h</td>\n",
       "      <td>| waxing crescent moon\\n10.84% illuminated</td>\n",
       "    </tr>\n",
       "    <tr>\n",
       "      <th>9</th>\n",
       "      <td>2021-07-13 10:00:00</td>\n",
       "      <td>12 °C\\n(10:00 am CEST | Tuesday, July 13, 2021)</td>\n",
       "      <td>average: 97% (94 to 100%)\\n(10:00 am CEST | Tu...</td>\n",
       "      <td>1 m/s\\n(10:00 am CEST | Tuesday, July 13, 2021)</td>\n",
       "      <td>rain\\n(10:00 am CEST | Tuesday, July 13, 2021)</td>\n",
       "      <td>Moon Phase calculatorJuly 13, 2021 10h</td>\n",
       "      <td>| waxing crescent moon\\n11.11% illuminated</td>\n",
       "    </tr>\n",
       "  </tbody>\n",
       "</table>\n",
       "</div>"
      ],
      "text/plain": [
       "                 date                                      temperature  \\\n",
       "8 2021-07-13 09:00:00   12 °C\\n(9:00 am CEST | Tuesday, July 13, 2021)   \n",
       "9 2021-07-13 10:00:00  12 °C\\n(10:00 am CEST | Tuesday, July 13, 2021)   \n",
       "\n",
       "                                            humidity  \\\n",
       "8  average: 94% (94%)\\n(9:00 am CEST | Tuesday, J...   \n",
       "9  average: 97% (94 to 100%)\\n(10:00 am CEST | Tu...   \n",
       "\n",
       "                                        wind speed  \\\n",
       "8   2 m/s\\n(9:00 am CEST | Tuesday, July 13, 2021)   \n",
       "9  1 m/s\\n(10:00 am CEST | Tuesday, July 13, 2021)   \n",
       "\n",
       "                             Precipitation amount  \\\n",
       "8   rain\\n(9:00 am CEST | Tuesday, July 13, 2021)   \n",
       "9  rain\\n(10:00 am CEST | Tuesday, July 13, 2021)   \n",
       "\n",
       "                                    query  \\\n",
       "8   Moon Phase calculatorJuly 13, 2021 9h   \n",
       "9  Moon Phase calculatorJuly 13, 2021 10h   \n",
       "\n",
       "                        Moon Phase calculator  \n",
       "8  | waxing crescent moon\\n10.84% illuminated  \n",
       "9  | waxing crescent moon\\n11.11% illuminated  "
      ]
     },
     "metadata": {},
     "output_type": "display_data"
    },
    {
     "name": "stderr",
     "output_type": "stream",
     "text": [
      "\r",
      " 16%|████████████▊                                                                  | 91/561 [28:47<2:45:29, 21.13s/it]"
     ]
    },
    {
     "name": "stdout",
     "output_type": "stream",
     "text": [
      "QUERY:  Precipitation amount in Zollikofen July 13, 2021 11h\n",
      "QUERY:  temperature in Zollikofen July 13, 2021 11h\n",
      "QUERY:  humidity in Zollikofen July 13, 2021 11h\n",
      "QUERY:  wind speed in Zollikofen July 13, 2021 11h\n",
      "QUERY:  Moon Phase calculatorJuly 13, 2021 11h\n"
     ]
    },
    {
     "name": "stderr",
     "output_type": "stream",
     "text": [
      "\r",
      " 16%|████████████▉                                                                  | 92/561 [29:09<2:47:39, 21.45s/it]"
     ]
    },
    {
     "name": "stdout",
     "output_type": "stream",
     "text": [
      "QUERY:  Precipitation amount in Zollikofen July 13, 2021 12h\n",
      "QUERY:  temperature in Zollikofen July 13, 2021 12h\n",
      "QUERY:  humidity in Zollikofen July 13, 2021 12h\n",
      "QUERY:  wind speed in Zollikofen July 13, 2021 12h\n",
      "QUERY:  Moon Phase calculatorJuly 13, 2021 12h\n"
     ]
    },
    {
     "name": "stderr",
     "output_type": "stream",
     "text": [
      "\r",
      " 17%|█████████████                                                                  | 93/561 [29:29<2:43:55, 21.02s/it]"
     ]
    },
    {
     "name": "stdout",
     "output_type": "stream",
     "text": [
      "QUERY:  Precipitation amount in Zollikofen July 13, 2021 13h\n",
      "QUERY:  temperature in Zollikofen July 13, 2021 13h\n",
      "QUERY:  humidity in Zollikofen July 13, 2021 13h\n",
      "QUERY:  wind speed in Zollikofen July 13, 2021 13h\n",
      "QUERY:  Moon Phase calculatorJuly 13, 2021 13h\n"
     ]
    },
    {
     "name": "stderr",
     "output_type": "stream",
     "text": [
      "\r",
      " 17%|█████████████▏                                                                 | 94/561 [29:49<2:40:57, 20.68s/it]"
     ]
    },
    {
     "name": "stdout",
     "output_type": "stream",
     "text": [
      "QUERY:  Precipitation amount in Zollikofen July 13, 2021 14h\n",
      "QUERY:  temperature in Zollikofen July 13, 2021 14h\n",
      "QUERY:  humidity in Zollikofen July 13, 2021 14h\n",
      "QUERY:  wind speed in Zollikofen July 13, 2021 14h\n",
      "QUERY:  Moon Phase calculatorJuly 13, 2021 14h\n"
     ]
    },
    {
     "name": "stderr",
     "output_type": "stream",
     "text": [
      "\r",
      " 17%|█████████████▍                                                                 | 95/561 [30:12<2:45:40, 21.33s/it]"
     ]
    },
    {
     "name": "stdout",
     "output_type": "stream",
     "text": [
      "QUERY:  Precipitation amount in Zollikofen July 13, 2021 15h\n",
      "QUERY:  temperature in Zollikofen July 13, 2021 15h\n",
      "QUERY:  humidity in Zollikofen July 13, 2021 15h\n",
      "QUERY:  wind speed in Zollikofen July 13, 2021 15h\n",
      "QUERY:  Moon Phase calculatorJuly 13, 2021 15h\n"
     ]
    },
    {
     "name": "stderr",
     "output_type": "stream",
     "text": [
      "\r",
      " 17%|█████████████▌                                                                 | 96/561 [30:32<2:42:17, 20.94s/it]"
     ]
    },
    {
     "name": "stdout",
     "output_type": "stream",
     "text": [
      "QUERY:  Precipitation amount in Zollikofen July 13, 2021 16h\n",
      "QUERY:  temperature in Zollikofen July 13, 2021 16h\n",
      "QUERY:  humidity in Zollikofen July 13, 2021 16h\n",
      "QUERY:  wind speed in Zollikofen July 13, 2021 16h\n",
      "QUERY:  Moon Phase calculatorJuly 13, 2021 16h\n"
     ]
    },
    {
     "name": "stderr",
     "output_type": "stream",
     "text": [
      "\r",
      " 17%|█████████████▋                                                                 | 97/561 [30:53<2:41:00, 20.82s/it]"
     ]
    },
    {
     "name": "stdout",
     "output_type": "stream",
     "text": [
      "QUERY:  Precipitation amount in Zollikofen July 13, 2021 17h\n",
      "QUERY:  temperature in Zollikofen July 13, 2021 17h\n",
      "QUERY:  humidity in Zollikofen July 13, 2021 17h\n",
      "QUERY:  wind speed in Zollikofen July 13, 2021 17h\n",
      "QUERY:  Moon Phase calculatorJuly 13, 2021 17h\n"
     ]
    },
    {
     "name": "stderr",
     "output_type": "stream",
     "text": [
      "\r",
      " 17%|█████████████▊                                                                 | 98/561 [31:13<2:39:53, 20.72s/it]"
     ]
    },
    {
     "name": "stdout",
     "output_type": "stream",
     "text": [
      "QUERY:  Precipitation amount in Zollikofen July 13, 2021 18h\n",
      "QUERY:  temperature in Zollikofen July 13, 2021 18h\n",
      "QUERY:  humidity in Zollikofen July 13, 2021 18h\n",
      "QUERY:  wind speed in Zollikofen July 13, 2021 18h\n",
      "QUERY:  Moon Phase calculatorJuly 13, 2021 18h\n"
     ]
    },
    {
     "name": "stderr",
     "output_type": "stream",
     "text": [
      "\r",
      " 18%|█████████████▉                                                                 | 99/561 [31:34<2:39:16, 20.69s/it]"
     ]
    },
    {
     "name": "stdout",
     "output_type": "stream",
     "text": [
      "QUERY:  Precipitation amount in Zollikofen July 13, 2021 19h\n",
      "QUERY:  temperature in Zollikofen July 13, 2021 19h\n",
      "QUERY:  humidity in Zollikofen July 13, 2021 19h\n",
      "QUERY:  wind speed in Zollikofen July 13, 2021 19h\n",
      "QUERY:  Moon Phase calculatorJuly 13, 2021 19h\n"
     ]
    },
    {
     "name": "stderr",
     "output_type": "stream",
     "text": [
      "\r",
      " 18%|█████████████▉                                                                | 100/561 [31:54<2:38:43, 20.66s/it]"
     ]
    },
    {
     "name": "stdout",
     "output_type": "stream",
     "text": [
      "QUERY:  Precipitation amount in Zollikofen July 13, 2021 20h\n",
      "QUERY:  temperature in Zollikofen July 13, 2021 20h\n",
      "QUERY:  humidity in Zollikofen July 13, 2021 20h\n",
      "QUERY:  wind speed in Zollikofen July 13, 2021 20h\n",
      "QUERY:  Moon Phase calculatorJuly 13, 2021 20h\n",
      "(6909, 7)\n"
     ]
    },
    {
     "data": {
      "text/html": [
       "<div>\n",
       "<style scoped>\n",
       "    .dataframe tbody tr th:only-of-type {\n",
       "        vertical-align: middle;\n",
       "    }\n",
       "\n",
       "    .dataframe tbody tr th {\n",
       "        vertical-align: top;\n",
       "    }\n",
       "\n",
       "    .dataframe thead th {\n",
       "        text-align: right;\n",
       "    }\n",
       "</style>\n",
       "<table border=\"1\" class=\"dataframe\">\n",
       "  <thead>\n",
       "    <tr style=\"text-align: right;\">\n",
       "      <th></th>\n",
       "      <th>date</th>\n",
       "      <th>temperature</th>\n",
       "      <th>humidity</th>\n",
       "      <th>wind speed</th>\n",
       "      <th>Precipitation amount</th>\n",
       "      <th>query</th>\n",
       "      <th>Moon Phase calculator</th>\n",
       "    </tr>\n",
       "  </thead>\n",
       "  <tbody>\n",
       "    <tr>\n",
       "      <th>8</th>\n",
       "      <td>2021-07-13 19:00:00</td>\n",
       "      <td>13 °C\\n(7:00 pm CEST | Tuesday, July 13, 2021)</td>\n",
       "      <td>average: 94% (94%)\\n(7:00 pm CEST | Tuesday, J...</td>\n",
       "      <td>3 m/s\\n(7:00 pm CEST | Tuesday, July 13, 2021)</td>\n",
       "      <td>rain\\n(7:00 pm CEST | Tuesday, July 13, 2021)</td>\n",
       "      <td>Moon Phase calculatorJuly 13, 2021 19h</td>\n",
       "      <td>| waxing crescent moon\\n13.71% illuminated</td>\n",
       "    </tr>\n",
       "    <tr>\n",
       "      <th>9</th>\n",
       "      <td>2021-07-13 20:00:00</td>\n",
       "      <td>13 °C\\n(8:00 pm CEST | Tuesday, July 13, 2021)</td>\n",
       "      <td>average: 91% (88 to 94%)\\n(8:00 pm CEST | Tues...</td>\n",
       "      <td>2 m/s\\n(8:00 pm CEST | Tuesday, July 13, 2021)</td>\n",
       "      <td>rain\\n(8:00 pm CEST | Tuesday, July 13, 2021)</td>\n",
       "      <td>Moon Phase calculatorJuly 13, 2021 20h</td>\n",
       "      <td>| waxing crescent moon\\n14.02% illuminated</td>\n",
       "    </tr>\n",
       "  </tbody>\n",
       "</table>\n",
       "</div>"
      ],
      "text/plain": [
       "                 date                                     temperature  \\\n",
       "8 2021-07-13 19:00:00  13 °C\\n(7:00 pm CEST | Tuesday, July 13, 2021)   \n",
       "9 2021-07-13 20:00:00  13 °C\\n(8:00 pm CEST | Tuesday, July 13, 2021)   \n",
       "\n",
       "                                            humidity  \\\n",
       "8  average: 94% (94%)\\n(7:00 pm CEST | Tuesday, J...   \n",
       "9  average: 91% (88 to 94%)\\n(8:00 pm CEST | Tues...   \n",
       "\n",
       "                                       wind speed  \\\n",
       "8  3 m/s\\n(7:00 pm CEST | Tuesday, July 13, 2021)   \n",
       "9  2 m/s\\n(8:00 pm CEST | Tuesday, July 13, 2021)   \n",
       "\n",
       "                            Precipitation amount  \\\n",
       "8  rain\\n(7:00 pm CEST | Tuesday, July 13, 2021)   \n",
       "9  rain\\n(8:00 pm CEST | Tuesday, July 13, 2021)   \n",
       "\n",
       "                                    query  \\\n",
       "8  Moon Phase calculatorJuly 13, 2021 19h   \n",
       "9  Moon Phase calculatorJuly 13, 2021 20h   \n",
       "\n",
       "                        Moon Phase calculator  \n",
       "8  | waxing crescent moon\\n13.71% illuminated  \n",
       "9  | waxing crescent moon\\n14.02% illuminated  "
      ]
     },
     "metadata": {},
     "output_type": "display_data"
    },
    {
     "name": "stderr",
     "output_type": "stream",
     "text": [
      "\r",
      " 18%|██████████████                                                                | 101/561 [32:16<2:41:06, 21.01s/it]"
     ]
    },
    {
     "name": "stdout",
     "output_type": "stream",
     "text": [
      "QUERY:  Precipitation amount in Zollikofen July 13, 2021 21h\n",
      "QUERY:  temperature in Zollikofen July 13, 2021 21h\n",
      "QUERY:  humidity in Zollikofen July 13, 2021 21h\n",
      "QUERY:  wind speed in Zollikofen July 13, 2021 21h\n",
      "QUERY:  Moon Phase calculatorJuly 13, 2021 21h\n"
     ]
    },
    {
     "name": "stderr",
     "output_type": "stream",
     "text": [
      "\r",
      " 18%|██████████████▏                                                               | 102/561 [32:37<2:39:32, 20.86s/it]"
     ]
    },
    {
     "name": "stdout",
     "output_type": "stream",
     "text": [
      "QUERY:  Precipitation amount in Zollikofen July 13, 2021 22h\n",
      "QUERY:  temperature in Zollikofen July 13, 2021 22h\n",
      "QUERY:  humidity in Zollikofen July 13, 2021 22h\n",
      "QUERY:  wind speed in Zollikofen July 13, 2021 22h\n",
      "QUERY:  Moon Phase calculatorJuly 13, 2021 22h\n"
     ]
    },
    {
     "name": "stderr",
     "output_type": "stream",
     "text": [
      "\r",
      " 18%|██████████████▎                                                               | 103/561 [32:58<2:40:27, 21.02s/it]"
     ]
    },
    {
     "name": "stdout",
     "output_type": "stream",
     "text": [
      "QUERY:  Precipitation amount in Zollikofen July 13, 2021 23h\n",
      "QUERY:  temperature in Zollikofen July 13, 2021 23h\n",
      "QUERY:  humidity in Zollikofen July 13, 2021 23h\n",
      "QUERY:  wind speed in Zollikofen July 13, 2021 23h\n",
      "QUERY:  Moon Phase calculatorJuly 13, 2021 23h\n"
     ]
    },
    {
     "name": "stderr",
     "output_type": "stream",
     "text": [
      "\r",
      " 19%|██████████████▍                                                               | 104/561 [33:20<2:40:59, 21.14s/it]"
     ]
    },
    {
     "name": "stdout",
     "output_type": "stream",
     "text": [
      "QUERY:  Precipitation amount in Zollikofen July 14, 2021 0h\n",
      "QUERY:  temperature in Zollikofen July 14, 2021 0h\n",
      "QUERY:  humidity in Zollikofen July 14, 2021 0h\n",
      "QUERY:  wind speed in Zollikofen July 14, 2021 0h\n",
      "QUERY:  Moon Phase calculatorJuly 14, 2021 0h\n"
     ]
    },
    {
     "name": "stderr",
     "output_type": "stream",
     "text": [
      "\r",
      " 19%|██████████████▌                                                               | 105/561 [33:40<2:38:58, 20.92s/it]"
     ]
    },
    {
     "name": "stdout",
     "output_type": "stream",
     "text": [
      "QUERY:  Precipitation amount in Zollikofen July 14, 2021 1h\n",
      "QUERY:  temperature in Zollikofen July 14, 2021 1h\n",
      "QUERY:  humidity in Zollikofen July 14, 2021 1h\n",
      "QUERY:  wind speed in Zollikofen July 14, 2021 1h\n",
      "QUERY:  Moon Phase calculatorJuly 14, 2021 1h\n"
     ]
    },
    {
     "name": "stderr",
     "output_type": "stream",
     "text": [
      "\r",
      " 19%|██████████████▋                                                               | 106/561 [34:00<2:36:42, 20.67s/it]"
     ]
    },
    {
     "name": "stdout",
     "output_type": "stream",
     "text": [
      "QUERY:  Precipitation amount in Zollikofen July 14, 2021 2h\n",
      "QUERY:  temperature in Zollikofen July 14, 2021 2h\n",
      "QUERY:  humidity in Zollikofen July 14, 2021 2h\n",
      "QUERY:  wind speed in Zollikofen July 14, 2021 2h\n",
      "QUERY:  Moon Phase calculatorJuly 14, 2021 2h\n"
     ]
    },
    {
     "name": "stderr",
     "output_type": "stream",
     "text": [
      "\r",
      " 19%|██████████████▉                                                               | 107/561 [34:20<2:33:58, 20.35s/it]"
     ]
    },
    {
     "name": "stdout",
     "output_type": "stream",
     "text": [
      "QUERY:  Precipitation amount in Zollikofen July 14, 2021 3h\n",
      "QUERY:  temperature in Zollikofen July 14, 2021 3h\n",
      "QUERY:  humidity in Zollikofen July 14, 2021 3h\n",
      "QUERY:  wind speed in Zollikofen July 14, 2021 3h\n",
      "QUERY:  Moon Phase calculatorJuly 14, 2021 3h\n"
     ]
    },
    {
     "name": "stderr",
     "output_type": "stream",
     "text": [
      "\r",
      " 19%|███████████████                                                               | 108/561 [34:41<2:35:21, 20.58s/it]"
     ]
    },
    {
     "name": "stdout",
     "output_type": "stream",
     "text": [
      "QUERY:  Precipitation amount in Zollikofen July 14, 2021 4h\n",
      "QUERY:  temperature in Zollikofen July 14, 2021 4h\n",
      "QUERY:  humidity in Zollikofen July 14, 2021 4h\n",
      "QUERY:  wind speed in Zollikofen July 14, 2021 4h\n",
      "QUERY:  Moon Phase calculatorJuly 14, 2021 4h\n"
     ]
    },
    {
     "name": "stderr",
     "output_type": "stream",
     "text": [
      "\r",
      " 19%|███████████████▏                                                              | 109/561 [35:01<2:33:03, 20.32s/it]"
     ]
    },
    {
     "name": "stdout",
     "output_type": "stream",
     "text": [
      "QUERY:  Precipitation amount in Zollikofen July 14, 2021 5h\n",
      "QUERY:  temperature in Zollikofen July 14, 2021 5h\n",
      "QUERY:  humidity in Zollikofen July 14, 2021 5h\n",
      "QUERY:  wind speed in Zollikofen July 14, 2021 5h\n",
      "QUERY:  Moon Phase calculatorJuly 14, 2021 5h\n"
     ]
    },
    {
     "name": "stderr",
     "output_type": "stream",
     "text": [
      "\r",
      " 20%|███████████████▎                                                              | 110/561 [35:21<2:32:54, 20.34s/it]"
     ]
    },
    {
     "name": "stdout",
     "output_type": "stream",
     "text": [
      "QUERY:  Precipitation amount in Zollikofen July 14, 2021 6h\n",
      "QUERY:  temperature in Zollikofen July 14, 2021 6h\n",
      "QUERY:  humidity in Zollikofen July 14, 2021 6h\n",
      "QUERY:  wind speed in Zollikofen July 14, 2021 6h\n",
      "QUERY:  Moon Phase calculatorJuly 14, 2021 6h\n",
      "(6919, 7)\n"
     ]
    },
    {
     "data": {
      "text/html": [
       "<div>\n",
       "<style scoped>\n",
       "    .dataframe tbody tr th:only-of-type {\n",
       "        vertical-align: middle;\n",
       "    }\n",
       "\n",
       "    .dataframe tbody tr th {\n",
       "        vertical-align: top;\n",
       "    }\n",
       "\n",
       "    .dataframe thead th {\n",
       "        text-align: right;\n",
       "    }\n",
       "</style>\n",
       "<table border=\"1\" class=\"dataframe\">\n",
       "  <thead>\n",
       "    <tr style=\"text-align: right;\">\n",
       "      <th></th>\n",
       "      <th>date</th>\n",
       "      <th>temperature</th>\n",
       "      <th>humidity</th>\n",
       "      <th>wind speed</th>\n",
       "      <th>Precipitation amount</th>\n",
       "      <th>query</th>\n",
       "      <th>Moon Phase calculator</th>\n",
       "    </tr>\n",
       "  </thead>\n",
       "  <tbody>\n",
       "    <tr>\n",
       "      <th>8</th>\n",
       "      <td>2021-07-14 05:00:00</td>\n",
       "      <td>12 °C\\n(5:00 am CEST | Wednesday, July 14, 2021)</td>\n",
       "      <td>average: 91% (88 to 94%)\\n(5:00 am CEST | Wedn...</td>\n",
       "      <td>2 m/s\\n(5:00 am CEST | Wednesday, July 14, 2021)</td>\n",
       "      <td>no precipitation\\n(5:00 am CEST | Wednesday, J...</td>\n",
       "      <td>Moon Phase calculatorJuly 14, 2021 5h</td>\n",
       "      <td>| waxing crescent moon\\n16.90% illuminated</td>\n",
       "    </tr>\n",
       "    <tr>\n",
       "      <th>9</th>\n",
       "      <td>2021-07-14 06:00:00</td>\n",
       "      <td>12 °C\\n(6:00 am CEST | Wednesday, July 14, 2021)</td>\n",
       "      <td>average: 94% (94%)\\n(6:00 am CEST | Wednesday,...</td>\n",
       "      <td>2 m/s\\n(6:00 am CEST | Wednesday, July 14, 2021)</td>\n",
       "      <td>rain\\n(6:00 am CEST | Wednesday, July 14, 2021)</td>\n",
       "      <td>Moon Phase calculatorJuly 14, 2021 6h</td>\n",
       "      <td>| waxing crescent moon\\n17.23% illuminated</td>\n",
       "    </tr>\n",
       "  </tbody>\n",
       "</table>\n",
       "</div>"
      ],
      "text/plain": [
       "                 date                                       temperature  \\\n",
       "8 2021-07-14 05:00:00  12 °C\\n(5:00 am CEST | Wednesday, July 14, 2021)   \n",
       "9 2021-07-14 06:00:00  12 °C\\n(6:00 am CEST | Wednesday, July 14, 2021)   \n",
       "\n",
       "                                            humidity  \\\n",
       "8  average: 91% (88 to 94%)\\n(5:00 am CEST | Wedn...   \n",
       "9  average: 94% (94%)\\n(6:00 am CEST | Wednesday,...   \n",
       "\n",
       "                                         wind speed  \\\n",
       "8  2 m/s\\n(5:00 am CEST | Wednesday, July 14, 2021)   \n",
       "9  2 m/s\\n(6:00 am CEST | Wednesday, July 14, 2021)   \n",
       "\n",
       "                                Precipitation amount  \\\n",
       "8  no precipitation\\n(5:00 am CEST | Wednesday, J...   \n",
       "9    rain\\n(6:00 am CEST | Wednesday, July 14, 2021)   \n",
       "\n",
       "                                   query  \\\n",
       "8  Moon Phase calculatorJuly 14, 2021 5h   \n",
       "9  Moon Phase calculatorJuly 14, 2021 6h   \n",
       "\n",
       "                        Moon Phase calculator  \n",
       "8  | waxing crescent moon\\n16.90% illuminated  \n",
       "9  | waxing crescent moon\\n17.23% illuminated  "
      ]
     },
     "metadata": {},
     "output_type": "display_data"
    },
    {
     "name": "stderr",
     "output_type": "stream",
     "text": [
      "\r",
      " 20%|███████████████▍                                                              | 111/561 [35:41<2:31:57, 20.26s/it]"
     ]
    },
    {
     "name": "stdout",
     "output_type": "stream",
     "text": [
      "QUERY:  Precipitation amount in Zollikofen July 14, 2021 7h\n",
      "QUERY:  temperature in Zollikofen July 14, 2021 7h\n",
      "QUERY:  humidity in Zollikofen July 14, 2021 7h\n",
      "QUERY:  wind speed in Zollikofen July 14, 2021 7h\n",
      "QUERY:  Moon Phase calculatorJuly 14, 2021 7h\n"
     ]
    },
    {
     "name": "stderr",
     "output_type": "stream",
     "text": [
      "\r",
      " 20%|███████████████▌                                                              | 112/561 [36:00<2:29:40, 20.00s/it]"
     ]
    },
    {
     "name": "stdout",
     "output_type": "stream",
     "text": [
      "QUERY:  Precipitation amount in Zollikofen July 14, 2021 8h\n",
      "QUERY:  temperature in Zollikofen July 14, 2021 8h\n",
      "QUERY:  humidity in Zollikofen July 14, 2021 8h\n",
      "QUERY:  wind speed in Zollikofen July 14, 2021 8h\n",
      "QUERY:  Moon Phase calculatorJuly 14, 2021 8h\n"
     ]
    },
    {
     "name": "stderr",
     "output_type": "stream",
     "text": [
      "\r",
      " 20%|███████████████▋                                                              | 113/561 [36:20<2:29:24, 20.01s/it]"
     ]
    },
    {
     "name": "stdout",
     "output_type": "stream",
     "text": [
      "QUERY:  Precipitation amount in Zollikofen July 14, 2021 9h\n",
      "QUERY:  temperature in Zollikofen July 14, 2021 9h\n",
      "QUERY:  humidity in Zollikofen July 14, 2021 9h\n",
      "QUERY:  wind speed in Zollikofen July 14, 2021 9h\n",
      "QUERY:  Moon Phase calculatorJuly 14, 2021 9h\n"
     ]
    },
    {
     "name": "stderr",
     "output_type": "stream",
     "text": [
      "\r",
      " 20%|███████████████▊                                                              | 114/561 [36:40<2:27:09, 19.75s/it]"
     ]
    },
    {
     "name": "stdout",
     "output_type": "stream",
     "text": [
      "QUERY:  Precipitation amount in Zollikofen July 14, 2021 10h\n",
      "QUERY:  temperature in Zollikofen July 14, 2021 10h\n",
      "QUERY:  humidity in Zollikofen July 14, 2021 10h\n",
      "QUERY:  wind speed in Zollikofen July 14, 2021 10h\n",
      "QUERY:  Moon Phase calculatorJuly 14, 2021 10h\n"
     ]
    },
    {
     "name": "stderr",
     "output_type": "stream",
     "text": [
      "\r",
      " 20%|███████████████▉                                                              | 115/561 [36:59<2:26:53, 19.76s/it]"
     ]
    },
    {
     "name": "stdout",
     "output_type": "stream",
     "text": [
      "QUERY:  Precipitation amount in Zollikofen July 14, 2021 11h\n",
      "QUERY:  temperature in Zollikofen July 14, 2021 11h\n",
      "QUERY:  humidity in Zollikofen July 14, 2021 11h\n",
      "QUERY:  wind speed in Zollikofen July 14, 2021 11h\n",
      "QUERY:  Moon Phase calculatorJuly 14, 2021 11h\n"
     ]
    },
    {
     "name": "stderr",
     "output_type": "stream",
     "text": [
      "\r",
      " 21%|████████████████▏                                                             | 116/561 [37:21<2:29:52, 20.21s/it]"
     ]
    },
    {
     "name": "stdout",
     "output_type": "stream",
     "text": [
      "QUERY:  Precipitation amount in Zollikofen July 14, 2021 12h\n",
      "QUERY:  temperature in Zollikofen July 14, 2021 12h\n",
      "QUERY:  humidity in Zollikofen July 14, 2021 12h\n",
      "QUERY:  wind speed in Zollikofen July 14, 2021 12h\n",
      "QUERY:  Moon Phase calculatorJuly 14, 2021 12h\n"
     ]
    },
    {
     "name": "stderr",
     "output_type": "stream",
     "text": [
      "\r",
      " 21%|████████████████▎                                                             | 117/561 [37:40<2:28:16, 20.04s/it]"
     ]
    },
    {
     "name": "stdout",
     "output_type": "stream",
     "text": [
      "QUERY:  Precipitation amount in Zollikofen July 14, 2021 13h\n",
      "QUERY:  temperature in Zollikofen July 14, 2021 13h\n",
      "QUERY:  humidity in Zollikofen July 14, 2021 13h\n",
      "QUERY:  wind speed in Zollikofen July 14, 2021 13h\n",
      "QUERY:  Moon Phase calculatorJuly 14, 2021 13h\n"
     ]
    },
    {
     "name": "stderr",
     "output_type": "stream",
     "text": [
      "\r",
      " 21%|████████████████▍                                                             | 118/561 [38:00<2:26:52, 19.89s/it]"
     ]
    },
    {
     "name": "stdout",
     "output_type": "stream",
     "text": [
      "QUERY:  Precipitation amount in Zollikofen July 14, 2021 14h\n",
      "QUERY:  temperature in Zollikofen July 14, 2021 14h\n",
      "QUERY:  humidity in Zollikofen July 14, 2021 14h\n",
      "QUERY:  wind speed in Zollikofen July 14, 2021 14h\n",
      "QUERY:  Moon Phase calculatorJuly 14, 2021 14h\n"
     ]
    },
    {
     "name": "stderr",
     "output_type": "stream",
     "text": [
      "\r",
      " 21%|████████████████▌                                                             | 119/561 [38:19<2:25:17, 19.72s/it]"
     ]
    },
    {
     "name": "stdout",
     "output_type": "stream",
     "text": [
      "QUERY:  Precipitation amount in Zollikofen July 14, 2021 15h\n",
      "QUERY:  temperature in Zollikofen July 14, 2021 15h\n",
      "QUERY:  humidity in Zollikofen July 14, 2021 15h\n",
      "QUERY:  wind speed in Zollikofen July 14, 2021 15h\n",
      "QUERY:  Moon Phase calculatorJuly 14, 2021 15h\n"
     ]
    },
    {
     "name": "stderr",
     "output_type": "stream",
     "text": [
      "\r",
      " 21%|████████████████▋                                                             | 120/561 [38:39<2:24:44, 19.69s/it]"
     ]
    },
    {
     "name": "stdout",
     "output_type": "stream",
     "text": [
      "QUERY:  Precipitation amount in Zollikofen July 14, 2021 16h\n",
      "QUERY:  temperature in Zollikofen July 14, 2021 16h\n",
      "QUERY:  humidity in Zollikofen July 14, 2021 16h\n",
      "QUERY:  wind speed in Zollikofen July 14, 2021 16h\n",
      "QUERY:  Moon Phase calculatorJuly 14, 2021 16h\n",
      "(6929, 7)\n"
     ]
    },
    {
     "data": {
      "text/html": [
       "<div>\n",
       "<style scoped>\n",
       "    .dataframe tbody tr th:only-of-type {\n",
       "        vertical-align: middle;\n",
       "    }\n",
       "\n",
       "    .dataframe tbody tr th {\n",
       "        vertical-align: top;\n",
       "    }\n",
       "\n",
       "    .dataframe thead th {\n",
       "        text-align: right;\n",
       "    }\n",
       "</style>\n",
       "<table border=\"1\" class=\"dataframe\">\n",
       "  <thead>\n",
       "    <tr style=\"text-align: right;\">\n",
       "      <th></th>\n",
       "      <th>date</th>\n",
       "      <th>temperature</th>\n",
       "      <th>humidity</th>\n",
       "      <th>wind speed</th>\n",
       "      <th>Precipitation amount</th>\n",
       "      <th>query</th>\n",
       "      <th>Moon Phase calculator</th>\n",
       "    </tr>\n",
       "  </thead>\n",
       "  <tbody>\n",
       "    <tr>\n",
       "      <th>8</th>\n",
       "      <td>2021-07-14 15:00:00</td>\n",
       "      <td>18 °C\\n(3:00 pm CEST | Wednesday, July 14, 2021)</td>\n",
       "      <td>average: 64% (60 to 68%)\\n(3:00 pm CEST | Wedn...</td>\n",
       "      <td>5 m/s\\n(3:00 pm CEST | Wednesday, July 14, 2021)</td>\n",
       "      <td>no precipitation\\n(3:00 pm CEST | Wednesday, J...</td>\n",
       "      <td>Moon Phase calculatorJuly 14, 2021 15h</td>\n",
       "      <td>| waxing crescent moon\\n20.37% illuminated</td>\n",
       "    </tr>\n",
       "    <tr>\n",
       "      <th>9</th>\n",
       "      <td>2021-07-14 16:00:00</td>\n",
       "      <td>17 °C\\n(4:00 pm CEST | Wednesday, July 14, 2021)</td>\n",
       "      <td>average: 66% (64 to 68%)\\n(4:00 pm CEST | Wedn...</td>\n",
       "      <td>4 m/s\\n(4:00 pm CEST | Wednesday, July 14, 2021)</td>\n",
       "      <td>no precipitation\\n(4:00 pm CEST | Wednesday, J...</td>\n",
       "      <td>Moon Phase calculatorJuly 14, 2021 16h</td>\n",
       "      <td>| waxing crescent moon\\n20.73% illuminated</td>\n",
       "    </tr>\n",
       "  </tbody>\n",
       "</table>\n",
       "</div>"
      ],
      "text/plain": [
       "                 date                                       temperature  \\\n",
       "8 2021-07-14 15:00:00  18 °C\\n(3:00 pm CEST | Wednesday, July 14, 2021)   \n",
       "9 2021-07-14 16:00:00  17 °C\\n(4:00 pm CEST | Wednesday, July 14, 2021)   \n",
       "\n",
       "                                            humidity  \\\n",
       "8  average: 64% (60 to 68%)\\n(3:00 pm CEST | Wedn...   \n",
       "9  average: 66% (64 to 68%)\\n(4:00 pm CEST | Wedn...   \n",
       "\n",
       "                                         wind speed  \\\n",
       "8  5 m/s\\n(3:00 pm CEST | Wednesday, July 14, 2021)   \n",
       "9  4 m/s\\n(4:00 pm CEST | Wednesday, July 14, 2021)   \n",
       "\n",
       "                                Precipitation amount  \\\n",
       "8  no precipitation\\n(3:00 pm CEST | Wednesday, J...   \n",
       "9  no precipitation\\n(4:00 pm CEST | Wednesday, J...   \n",
       "\n",
       "                                    query  \\\n",
       "8  Moon Phase calculatorJuly 14, 2021 15h   \n",
       "9  Moon Phase calculatorJuly 14, 2021 16h   \n",
       "\n",
       "                        Moon Phase calculator  \n",
       "8  | waxing crescent moon\\n20.37% illuminated  \n",
       "9  | waxing crescent moon\\n20.73% illuminated  "
      ]
     },
     "metadata": {},
     "output_type": "display_data"
    },
    {
     "name": "stderr",
     "output_type": "stream",
     "text": [
      "\r",
      " 22%|████████████████▊                                                             | 121/561 [38:59<2:26:07, 19.93s/it]"
     ]
    },
    {
     "name": "stdout",
     "output_type": "stream",
     "text": [
      "QUERY:  Precipitation amount in Zollikofen July 14, 2021 17h\n",
      "QUERY:  temperature in Zollikofen July 14, 2021 17h\n",
      "QUERY:  humidity in Zollikofen July 14, 2021 17h\n",
      "QUERY:  wind speed in Zollikofen July 14, 2021 17h\n",
      "QUERY:  Moon Phase calculatorJuly 14, 2021 17h\n"
     ]
    },
    {
     "name": "stderr",
     "output_type": "stream",
     "text": [
      "\r",
      " 22%|████████████████▉                                                             | 122/561 [39:19<2:24:38, 19.77s/it]"
     ]
    },
    {
     "name": "stdout",
     "output_type": "stream",
     "text": [
      "QUERY:  Precipitation amount in Zollikofen July 14, 2021 18h\n",
      "QUERY:  temperature in Zollikofen July 14, 2021 18h\n",
      "QUERY:  humidity in Zollikofen July 14, 2021 18h\n",
      "QUERY:  wind speed in Zollikofen July 14, 2021 18h\n",
      "QUERY:  Moon Phase calculatorJuly 14, 2021 18h\n"
     ]
    },
    {
     "name": "stderr",
     "output_type": "stream",
     "text": [
      "\r",
      " 22%|█████████████████                                                             | 123/561 [39:38<2:23:17, 19.63s/it]"
     ]
    },
    {
     "name": "stdout",
     "output_type": "stream",
     "text": [
      "QUERY:  Precipitation amount in Zollikofen July 14, 2021 19h\n",
      "QUERY:  temperature in Zollikofen July 14, 2021 19h\n",
      "QUERY:  humidity in Zollikofen July 14, 2021 19h\n",
      "QUERY:  wind speed in Zollikofen July 14, 2021 19h\n",
      "QUERY:  Moon Phase calculatorJuly 14, 2021 19h\n"
     ]
    },
    {
     "name": "stderr",
     "output_type": "stream",
     "text": [
      "\r",
      " 22%|█████████████████▏                                                            | 124/561 [39:57<2:22:28, 19.56s/it]"
     ]
    },
    {
     "name": "stdout",
     "output_type": "stream",
     "text": [
      "QUERY:  Precipitation amount in Zollikofen July 14, 2021 20h\n",
      "QUERY:  temperature in Zollikofen July 14, 2021 20h\n",
      "QUERY:  humidity in Zollikofen July 14, 2021 20h\n",
      "QUERY:  wind speed in Zollikofen July 14, 2021 20h\n",
      "QUERY:  Moon Phase calculatorJuly 14, 2021 20h\n"
     ]
    },
    {
     "name": "stderr",
     "output_type": "stream",
     "text": [
      "\r",
      " 22%|█████████████████▍                                                            | 125/561 [40:16<2:20:10, 19.29s/it]"
     ]
    },
    {
     "name": "stdout",
     "output_type": "stream",
     "text": [
      "QUERY:  Precipitation amount in Zollikofen July 14, 2021 21h\n",
      "QUERY:  temperature in Zollikofen July 14, 2021 21h\n",
      "QUERY:  humidity in Zollikofen July 14, 2021 21h\n",
      "QUERY:  wind speed in Zollikofen July 14, 2021 21h\n",
      "QUERY:  Moon Phase calculatorJuly 14, 2021 21h\n"
     ]
    },
    {
     "name": "stderr",
     "output_type": "stream",
     "text": [
      "\r",
      " 22%|█████████████████▌                                                            | 126/561 [40:31<2:09:44, 17.90s/it]"
     ]
    },
    {
     "name": "stdout",
     "output_type": "stream",
     "text": [
      "QUERY:  Precipitation amount in Zollikofen July 14, 2021 22h\n",
      "QUERY:  temperature in Zollikofen July 14, 2021 22h\n",
      "QUERY:  humidity in Zollikofen July 14, 2021 22h\n",
      "QUERY:  wind speed in Zollikofen July 14, 2021 22h\n",
      "QUERY:  Moon Phase calculatorJuly 14, 2021 22h\n"
     ]
    },
    {
     "name": "stderr",
     "output_type": "stream",
     "text": [
      "\r",
      " 23%|█████████████████▋                                                            | 127/561 [40:50<2:12:46, 18.36s/it]"
     ]
    },
    {
     "name": "stdout",
     "output_type": "stream",
     "text": [
      "QUERY:  Precipitation amount in Zollikofen July 14, 2021 23h\n",
      "QUERY:  temperature in Zollikofen July 14, 2021 23h\n",
      "QUERY:  humidity in Zollikofen July 14, 2021 23h\n",
      "QUERY:  wind speed in Zollikofen July 14, 2021 23h\n",
      "QUERY:  Moon Phase calculatorJuly 14, 2021 23h\n"
     ]
    },
    {
     "name": "stderr",
     "output_type": "stream",
     "text": [
      "\r",
      " 23%|█████████████████▊                                                            | 128/561 [41:11<2:18:01, 19.13s/it]"
     ]
    },
    {
     "name": "stdout",
     "output_type": "stream",
     "text": [
      "QUERY:  Precipitation amount in Zollikofen July 15, 2021 0h\n",
      "QUERY:  temperature in Zollikofen July 15, 2021 0h\n",
      "QUERY:  humidity in Zollikofen July 15, 2021 0h\n",
      "QUERY:  wind speed in Zollikofen July 15, 2021 0h\n",
      "QUERY:  Moon Phase calculatorJuly 15, 2021 0h\n"
     ]
    },
    {
     "name": "stderr",
     "output_type": "stream",
     "text": [
      "\r",
      " 23%|█████████████████▉                                                            | 129/561 [41:30<2:17:04, 19.04s/it]"
     ]
    },
    {
     "name": "stdout",
     "output_type": "stream",
     "text": [
      "QUERY:  Precipitation amount in Zollikofen July 15, 2021 1h\n",
      "QUERY:  temperature in Zollikofen July 15, 2021 1h\n",
      "QUERY:  humidity in Zollikofen July 15, 2021 1h\n",
      "QUERY:  wind speed in Zollikofen July 15, 2021 1h\n",
      "QUERY:  Moon Phase calculatorJuly 15, 2021 1h\n"
     ]
    },
    {
     "name": "stderr",
     "output_type": "stream",
     "text": [
      "\r",
      " 23%|██████████████████                                                            | 130/561 [41:49<2:18:02, 19.22s/it]"
     ]
    },
    {
     "name": "stdout",
     "output_type": "stream",
     "text": [
      "QUERY:  Precipitation amount in Zollikofen July 15, 2021 2h\n",
      "QUERY:  temperature in Zollikofen July 15, 2021 2h\n",
      "QUERY:  humidity in Zollikofen July 15, 2021 2h\n",
      "QUERY:  wind speed in Zollikofen July 15, 2021 2h\n",
      "QUERY:  Moon Phase calculatorJuly 15, 2021 2h\n",
      "(6939, 7)\n"
     ]
    },
    {
     "data": {
      "text/html": [
       "<div>\n",
       "<style scoped>\n",
       "    .dataframe tbody tr th:only-of-type {\n",
       "        vertical-align: middle;\n",
       "    }\n",
       "\n",
       "    .dataframe tbody tr th {\n",
       "        vertical-align: top;\n",
       "    }\n",
       "\n",
       "    .dataframe thead th {\n",
       "        text-align: right;\n",
       "    }\n",
       "</style>\n",
       "<table border=\"1\" class=\"dataframe\">\n",
       "  <thead>\n",
       "    <tr style=\"text-align: right;\">\n",
       "      <th></th>\n",
       "      <th>date</th>\n",
       "      <th>temperature</th>\n",
       "      <th>humidity</th>\n",
       "      <th>wind speed</th>\n",
       "      <th>Precipitation amount</th>\n",
       "      <th>query</th>\n",
       "      <th>Moon Phase calculator</th>\n",
       "    </tr>\n",
       "  </thead>\n",
       "  <tbody>\n",
       "    <tr>\n",
       "      <th>8</th>\n",
       "      <td>2021-07-15 01:00:00</td>\n",
       "      <td>13 °C\\n(1:00 am CEST | Thursday, July 15, 2021)</td>\n",
       "      <td>average: 88% (88%)\\n(1:00 am CEST | Thursday, ...</td>\n",
       "      <td>3 m/s\\n(1:00 am CEST | Thursday, July 15, 2021)</td>\n",
       "      <td>rain\\n(1:00 am CEST | Thursday, July 15, 2021)</td>\n",
       "      <td>Moon Phase calculatorJuly 15, 2021 1h</td>\n",
       "      <td>| waxing crescent moon\\n24.11% illuminated</td>\n",
       "    </tr>\n",
       "    <tr>\n",
       "      <th>9</th>\n",
       "      <td>2021-07-15 02:00:00</td>\n",
       "      <td>14 °C\\n(2:00 am CEST | Thursday, July 15, 2021)</td>\n",
       "      <td>average: 94% (94%)\\n(2:00 am CEST | Thursday, ...</td>\n",
       "      <td>3 m/s\\n(2:00 am CEST | Thursday, July 15, 2021)</td>\n",
       "      <td>rain\\n(2:00 am CEST | Thursday, July 15, 2021)</td>\n",
       "      <td>Moon Phase calculatorJuly 15, 2021 2h</td>\n",
       "      <td>| waxing crescent moon\\n24.50% illuminated</td>\n",
       "    </tr>\n",
       "  </tbody>\n",
       "</table>\n",
       "</div>"
      ],
      "text/plain": [
       "                 date                                      temperature  \\\n",
       "8 2021-07-15 01:00:00  13 °C\\n(1:00 am CEST | Thursday, July 15, 2021)   \n",
       "9 2021-07-15 02:00:00  14 °C\\n(2:00 am CEST | Thursday, July 15, 2021)   \n",
       "\n",
       "                                            humidity  \\\n",
       "8  average: 88% (88%)\\n(1:00 am CEST | Thursday, ...   \n",
       "9  average: 94% (94%)\\n(2:00 am CEST | Thursday, ...   \n",
       "\n",
       "                                        wind speed  \\\n",
       "8  3 m/s\\n(1:00 am CEST | Thursday, July 15, 2021)   \n",
       "9  3 m/s\\n(2:00 am CEST | Thursday, July 15, 2021)   \n",
       "\n",
       "                             Precipitation amount  \\\n",
       "8  rain\\n(1:00 am CEST | Thursday, July 15, 2021)   \n",
       "9  rain\\n(2:00 am CEST | Thursday, July 15, 2021)   \n",
       "\n",
       "                                   query  \\\n",
       "8  Moon Phase calculatorJuly 15, 2021 1h   \n",
       "9  Moon Phase calculatorJuly 15, 2021 2h   \n",
       "\n",
       "                        Moon Phase calculator  \n",
       "8  | waxing crescent moon\\n24.11% illuminated  \n",
       "9  | waxing crescent moon\\n24.50% illuminated  "
      ]
     },
     "metadata": {},
     "output_type": "display_data"
    },
    {
     "name": "stderr",
     "output_type": "stream",
     "text": [
      "\r",
      " 23%|██████████████████▏                                                           | 131/561 [42:09<2:17:30, 19.19s/it]"
     ]
    },
    {
     "name": "stdout",
     "output_type": "stream",
     "text": [
      "QUERY:  Precipitation amount in Zollikofen July 15, 2021 3h\n",
      "QUERY:  temperature in Zollikofen July 15, 2021 3h\n",
      "QUERY:  humidity in Zollikofen July 15, 2021 3h\n",
      "QUERY:  wind speed in Zollikofen July 15, 2021 3h\n",
      "QUERY:  Moon Phase calculatorJuly 15, 2021 3h\n"
     ]
    },
    {
     "name": "stderr",
     "output_type": "stream",
     "text": [
      "\r",
      " 24%|██████████████████▎                                                           | 132/561 [42:30<2:21:28, 19.79s/it]"
     ]
    },
    {
     "name": "stdout",
     "output_type": "stream",
     "text": [
      "QUERY:  Precipitation amount in Zollikofen July 15, 2021 4h\n",
      "QUERY:  temperature in Zollikofen July 15, 2021 4h\n",
      "QUERY:  humidity in Zollikofen July 15, 2021 4h\n",
      "QUERY:  wind speed in Zollikofen July 15, 2021 4h\n",
      "QUERY:  Moon Phase calculatorJuly 15, 2021 4h\n"
     ]
    },
    {
     "name": "stderr",
     "output_type": "stream",
     "text": [
      "\r",
      " 24%|██████████████████▍                                                           | 133/561 [42:50<2:21:26, 19.83s/it]"
     ]
    },
    {
     "name": "stdout",
     "output_type": "stream",
     "text": [
      "QUERY:  Precipitation amount in Zollikofen July 15, 2021 5h\n",
      "QUERY:  temperature in Zollikofen July 15, 2021 5h\n",
      "QUERY:  humidity in Zollikofen July 15, 2021 5h\n",
      "QUERY:  wind speed in Zollikofen July 15, 2021 5h\n",
      "QUERY:  Moon Phase calculatorJuly 15, 2021 5h\n"
     ]
    },
    {
     "name": "stderr",
     "output_type": "stream",
     "text": [
      "\r",
      " 24%|██████████████████▋                                                           | 134/561 [43:09<2:19:56, 19.66s/it]"
     ]
    },
    {
     "name": "stdout",
     "output_type": "stream",
     "text": [
      "QUERY:  Precipitation amount in Zollikofen July 15, 2021 6h\n",
      "QUERY:  temperature in Zollikofen July 15, 2021 6h\n",
      "QUERY:  humidity in Zollikofen July 15, 2021 6h\n",
      "QUERY:  wind speed in Zollikofen July 15, 2021 6h\n",
      "QUERY:  Moon Phase calculatorJuly 15, 2021 6h\n"
     ]
    },
    {
     "name": "stderr",
     "output_type": "stream",
     "text": [
      "\r",
      " 24%|██████████████████▊                                                           | 135/561 [43:28<2:18:43, 19.54s/it]"
     ]
    },
    {
     "name": "stdout",
     "output_type": "stream",
     "text": [
      "QUERY:  Precipitation amount in Zollikofen July 15, 2021 7h\n",
      "QUERY:  temperature in Zollikofen July 15, 2021 7h\n",
      "QUERY:  humidity in Zollikofen July 15, 2021 7h\n",
      "QUERY:  wind speed in Zollikofen July 15, 2021 7h\n",
      "QUERY:  Moon Phase calculatorJuly 15, 2021 7h\n"
     ]
    },
    {
     "name": "stderr",
     "output_type": "stream",
     "text": [
      "\r",
      " 24%|██████████████████▉                                                           | 136/561 [43:48<2:18:16, 19.52s/it]"
     ]
    },
    {
     "name": "stdout",
     "output_type": "stream",
     "text": [
      "QUERY:  Precipitation amount in Zollikofen July 15, 2021 8h\n",
      "QUERY:  temperature in Zollikofen July 15, 2021 8h\n",
      "QUERY:  humidity in Zollikofen July 15, 2021 8h\n",
      "QUERY:  wind speed in Zollikofen July 15, 2021 8h\n",
      "QUERY:  Moon Phase calculatorJuly 15, 2021 8h\n"
     ]
    },
    {
     "name": "stderr",
     "output_type": "stream",
     "text": [
      "\r",
      " 24%|███████████████████                                                           | 137/561 [44:08<2:18:42, 19.63s/it]"
     ]
    },
    {
     "name": "stdout",
     "output_type": "stream",
     "text": [
      "QUERY:  Precipitation amount in Zollikofen July 15, 2021 9h\n",
      "QUERY:  temperature in Zollikofen July 15, 2021 9h\n",
      "QUERY:  humidity in Zollikofen July 15, 2021 9h\n",
      "QUERY:  wind speed in Zollikofen July 15, 2021 9h\n",
      "QUERY:  Moon Phase calculatorJuly 15, 2021 9h\n"
     ]
    },
    {
     "name": "stderr",
     "output_type": "stream",
     "text": [
      "\r",
      " 25%|███████████████████▏                                                          | 138/561 [44:27<2:18:27, 19.64s/it]"
     ]
    },
    {
     "name": "stdout",
     "output_type": "stream",
     "text": [
      "QUERY:  Precipitation amount in Zollikofen July 15, 2021 10h\n",
      "QUERY:  temperature in Zollikofen July 15, 2021 10h\n",
      "QUERY:  humidity in Zollikofen July 15, 2021 10h\n",
      "QUERY:  wind speed in Zollikofen July 15, 2021 10h\n",
      "QUERY:  Moon Phase calculatorJuly 15, 2021 10h\n"
     ]
    },
    {
     "name": "stderr",
     "output_type": "stream",
     "text": [
      "\r",
      " 25%|███████████████████▎                                                          | 139/561 [44:47<2:18:11, 19.65s/it]"
     ]
    },
    {
     "name": "stdout",
     "output_type": "stream",
     "text": [
      "QUERY:  Precipitation amount in Zollikofen July 15, 2021 11h\n",
      "QUERY:  temperature in Zollikofen July 15, 2021 11h\n",
      "QUERY:  humidity in Zollikofen July 15, 2021 11h\n",
      "QUERY:  wind speed in Zollikofen July 15, 2021 11h\n",
      "QUERY:  Moon Phase calculatorJuly 15, 2021 11h\n"
     ]
    },
    {
     "name": "stderr",
     "output_type": "stream",
     "text": [
      "\r",
      " 25%|███████████████████▍                                                          | 140/561 [45:07<2:19:05, 19.82s/it]"
     ]
    },
    {
     "name": "stdout",
     "output_type": "stream",
     "text": [
      "QUERY:  Precipitation amount in Zollikofen July 15, 2021 12h\n",
      "QUERY:  temperature in Zollikofen July 15, 2021 12h\n",
      "QUERY:  humidity in Zollikofen July 15, 2021 12h\n",
      "QUERY:  wind speed in Zollikofen July 15, 2021 12h\n",
      "QUERY:  Moon Phase calculatorJuly 15, 2021 12h\n",
      "(6949, 7)\n"
     ]
    },
    {
     "data": {
      "text/html": [
       "<div>\n",
       "<style scoped>\n",
       "    .dataframe tbody tr th:only-of-type {\n",
       "        vertical-align: middle;\n",
       "    }\n",
       "\n",
       "    .dataframe tbody tr th {\n",
       "        vertical-align: top;\n",
       "    }\n",
       "\n",
       "    .dataframe thead th {\n",
       "        text-align: right;\n",
       "    }\n",
       "</style>\n",
       "<table border=\"1\" class=\"dataframe\">\n",
       "  <thead>\n",
       "    <tr style=\"text-align: right;\">\n",
       "      <th></th>\n",
       "      <th>date</th>\n",
       "      <th>temperature</th>\n",
       "      <th>humidity</th>\n",
       "      <th>wind speed</th>\n",
       "      <th>Precipitation amount</th>\n",
       "      <th>query</th>\n",
       "      <th>Moon Phase calculator</th>\n",
       "    </tr>\n",
       "  </thead>\n",
       "  <tbody>\n",
       "    <tr>\n",
       "      <th>8</th>\n",
       "      <td>2021-07-15 11:00:00</td>\n",
       "      <td>16 °C\\n(11:00 am CEST | Thursday, July 15, 2021)</td>\n",
       "      <td>average: 68% (68%)\\n(11:00 am CEST | Thursday,...</td>\n",
       "      <td>5 m/s\\n(11:00 am CEST | Thursday, July 15, 2021)</td>\n",
       "      <td>no precipitation\\n(11:00 am CEST | Thursday, J...</td>\n",
       "      <td>Moon Phase calculatorJuly 15, 2021 11h</td>\n",
       "      <td>| waxing crescent moon\\n28.09% illuminated</td>\n",
       "    </tr>\n",
       "    <tr>\n",
       "      <th>9</th>\n",
       "      <td>2021-07-15 12:00:00</td>\n",
       "      <td>17 °C\\n(12:00 pm CEST | Thursday, July 15, 2021)</td>\n",
       "      <td>average: 73% (73%)\\n(12:00 pm CEST | Thursday,...</td>\n",
       "      <td>5 m/s\\n(12:00 pm CEST | Thursday, July 15, 2021)</td>\n",
       "      <td>no precipitation\\n(12:00 pm CEST | Thursday, J...</td>\n",
       "      <td>Moon Phase calculatorJuly 15, 2021 12h</td>\n",
       "      <td>| waxing crescent moon\\n28.50% illuminated</td>\n",
       "    </tr>\n",
       "  </tbody>\n",
       "</table>\n",
       "</div>"
      ],
      "text/plain": [
       "                 date                                       temperature  \\\n",
       "8 2021-07-15 11:00:00  16 °C\\n(11:00 am CEST | Thursday, July 15, 2021)   \n",
       "9 2021-07-15 12:00:00  17 °C\\n(12:00 pm CEST | Thursday, July 15, 2021)   \n",
       "\n",
       "                                            humidity  \\\n",
       "8  average: 68% (68%)\\n(11:00 am CEST | Thursday,...   \n",
       "9  average: 73% (73%)\\n(12:00 pm CEST | Thursday,...   \n",
       "\n",
       "                                         wind speed  \\\n",
       "8  5 m/s\\n(11:00 am CEST | Thursday, July 15, 2021)   \n",
       "9  5 m/s\\n(12:00 pm CEST | Thursday, July 15, 2021)   \n",
       "\n",
       "                                Precipitation amount  \\\n",
       "8  no precipitation\\n(11:00 am CEST | Thursday, J...   \n",
       "9  no precipitation\\n(12:00 pm CEST | Thursday, J...   \n",
       "\n",
       "                                    query  \\\n",
       "8  Moon Phase calculatorJuly 15, 2021 11h   \n",
       "9  Moon Phase calculatorJuly 15, 2021 12h   \n",
       "\n",
       "                        Moon Phase calculator  \n",
       "8  | waxing crescent moon\\n28.09% illuminated  \n",
       "9  | waxing crescent moon\\n28.50% illuminated  "
      ]
     },
     "metadata": {},
     "output_type": "display_data"
    },
    {
     "name": "stderr",
     "output_type": "stream",
     "text": [
      "\r",
      " 25%|███████████████████▌                                                          | 141/561 [45:26<2:15:51, 19.41s/it]"
     ]
    },
    {
     "name": "stdout",
     "output_type": "stream",
     "text": [
      "QUERY:  Precipitation amount in Zollikofen July 15, 2021 13h\n",
      "QUERY:  temperature in Zollikofen July 15, 2021 13h\n",
      "QUERY:  humidity in Zollikofen July 15, 2021 13h\n",
      "QUERY:  wind speed in Zollikofen July 15, 2021 13h\n",
      "QUERY:  Moon Phase calculatorJuly 15, 2021 13h\n"
     ]
    },
    {
     "name": "stderr",
     "output_type": "stream",
     "text": [
      "\r",
      " 25%|███████████████████▋                                                          | 142/561 [45:42<2:08:18, 18.37s/it]"
     ]
    },
    {
     "name": "stdout",
     "output_type": "stream",
     "text": [
      "QUERY:  Precipitation amount in Zollikofen July 15, 2021 14h\n",
      "QUERY:  temperature in Zollikofen July 15, 2021 14h\n",
      "QUERY:  humidity in Zollikofen July 15, 2021 14h\n",
      "QUERY:  wind speed in Zollikofen July 15, 2021 14h\n",
      "QUERY:  Moon Phase calculatorJuly 15, 2021 14h\n"
     ]
    },
    {
     "name": "stderr",
     "output_type": "stream",
     "text": [
      "\r",
      " 25%|███████████████████▉                                                          | 143/561 [45:58<2:04:18, 17.84s/it]"
     ]
    },
    {
     "name": "stdout",
     "output_type": "stream",
     "text": [
      "QUERY:  Precipitation amount in Zollikofen July 15, 2021 15h\n",
      "ERROR:------------- results  ----------  Precipitation amount in Zollikofen July 15, 2021 15h\n",
      "QUERY:  temperature in Zollikofen July 15, 2021 15h\n",
      "QUERY:  humidity in Zollikofen July 15, 2021 15h\n",
      "QUERY:  wind speed in Zollikofen July 15, 2021 15h\n",
      "QUERY:  Moon Phase calculatorJuly 15, 2021 15h\n"
     ]
    },
    {
     "name": "stderr",
     "output_type": "stream",
     "text": [
      "\r",
      " 26%|████████████████████                                                          | 144/561 [46:16<2:03:28, 17.77s/it]"
     ]
    },
    {
     "name": "stdout",
     "output_type": "stream",
     "text": [
      "QUERY:  Precipitation amount in Zollikofen July 15, 2021 16h\n",
      "QUERY:  temperature in Zollikofen July 15, 2021 16h\n",
      "QUERY:  humidity in Zollikofen July 15, 2021 16h\n",
      "QUERY:  wind speed in Zollikofen July 15, 2021 16h\n",
      "QUERY:  Moon Phase calculatorJuly 15, 2021 16h\n"
     ]
    },
    {
     "name": "stderr",
     "output_type": "stream",
     "text": [
      "\r",
      " 26%|████████████████████▏                                                         | 145/561 [46:32<1:59:01, 17.17s/it]"
     ]
    },
    {
     "name": "stdout",
     "output_type": "stream",
     "text": [
      "QUERY:  Precipitation amount in Zollikofen July 15, 2021 17h\n",
      "QUERY:  temperature in Zollikofen July 15, 2021 17h\n",
      "QUERY:  humidity in Zollikofen July 15, 2021 17h\n",
      "QUERY:  wind speed in Zollikofen July 15, 2021 17h\n",
      "QUERY:  Moon Phase calculatorJuly 15, 2021 17h\n"
     ]
    },
    {
     "name": "stderr",
     "output_type": "stream",
     "text": [
      "\r",
      " 26%|████████████████████▎                                                         | 146/561 [46:48<1:58:20, 17.11s/it]"
     ]
    },
    {
     "name": "stdout",
     "output_type": "stream",
     "text": [
      "QUERY:  Precipitation amount in Zollikofen July 15, 2021 18h\n",
      "QUERY:  temperature in Zollikofen July 15, 2021 18h\n",
      "QUERY:  humidity in Zollikofen July 15, 2021 18h\n",
      "QUERY:  wind speed in Zollikofen July 15, 2021 18h\n",
      "QUERY:  Moon Phase calculatorJuly 15, 2021 18h\n"
     ]
    },
    {
     "name": "stderr",
     "output_type": "stream",
     "text": [
      "\r",
      " 26%|████████████████████▍                                                         | 147/561 [47:05<1:57:21, 17.01s/it]"
     ]
    },
    {
     "name": "stdout",
     "output_type": "stream",
     "text": [
      "QUERY:  Precipitation amount in Zollikofen July 15, 2021 19h\n",
      "QUERY:  temperature in Zollikofen July 15, 2021 19h\n",
      "QUERY:  humidity in Zollikofen July 15, 2021 19h\n",
      "QUERY:  wind speed in Zollikofen July 15, 2021 19h\n",
      "QUERY:  Moon Phase calculatorJuly 15, 2021 19h\n"
     ]
    },
    {
     "name": "stderr",
     "output_type": "stream",
     "text": [
      "\r",
      " 26%|████████████████████▌                                                         | 148/561 [47:21<1:54:37, 16.65s/it]"
     ]
    },
    {
     "name": "stdout",
     "output_type": "stream",
     "text": [
      "QUERY:  Precipitation amount in Zollikofen July 15, 2021 20h\n",
      "QUERY:  temperature in Zollikofen July 15, 2021 20h\n",
      "QUERY:  humidity in Zollikofen July 15, 2021 20h\n",
      "QUERY:  wind speed in Zollikofen July 15, 2021 20h\n",
      "QUERY:  Moon Phase calculatorJuly 15, 2021 20h\n"
     ]
    },
    {
     "name": "stderr",
     "output_type": "stream",
     "text": [
      "\r",
      " 27%|████████████████████▋                                                         | 149/561 [47:37<1:53:07, 16.47s/it]"
     ]
    },
    {
     "name": "stdout",
     "output_type": "stream",
     "text": [
      "QUERY:  Precipitation amount in Zollikofen July 15, 2021 21h\n",
      "QUERY:  temperature in Zollikofen July 15, 2021 21h\n",
      "QUERY:  humidity in Zollikofen July 15, 2021 21h\n",
      "QUERY:  wind speed in Zollikofen July 15, 2021 21h\n",
      "QUERY:  Moon Phase calculatorJuly 15, 2021 21h\n"
     ]
    },
    {
     "name": "stderr",
     "output_type": "stream",
     "text": [
      "\r",
      " 27%|████████████████████▊                                                         | 150/561 [47:55<1:55:14, 16.82s/it]"
     ]
    },
    {
     "name": "stdout",
     "output_type": "stream",
     "text": [
      "QUERY:  Precipitation amount in Zollikofen July 15, 2021 22h\n",
      "QUERY:  temperature in Zollikofen July 15, 2021 22h\n",
      "QUERY:  humidity in Zollikofen July 15, 2021 22h\n",
      "QUERY:  wind speed in Zollikofen July 15, 2021 22h\n",
      "QUERY:  Moon Phase calculatorJuly 15, 2021 22h\n",
      "(6959, 7)\n"
     ]
    },
    {
     "data": {
      "text/html": [
       "<div>\n",
       "<style scoped>\n",
       "    .dataframe tbody tr th:only-of-type {\n",
       "        vertical-align: middle;\n",
       "    }\n",
       "\n",
       "    .dataframe tbody tr th {\n",
       "        vertical-align: top;\n",
       "    }\n",
       "\n",
       "    .dataframe thead th {\n",
       "        text-align: right;\n",
       "    }\n",
       "</style>\n",
       "<table border=\"1\" class=\"dataframe\">\n",
       "  <thead>\n",
       "    <tr style=\"text-align: right;\">\n",
       "      <th></th>\n",
       "      <th>date</th>\n",
       "      <th>temperature</th>\n",
       "      <th>humidity</th>\n",
       "      <th>wind speed</th>\n",
       "      <th>Precipitation amount</th>\n",
       "      <th>query</th>\n",
       "      <th>Moon Phase calculator</th>\n",
       "    </tr>\n",
       "  </thead>\n",
       "  <tbody>\n",
       "    <tr>\n",
       "      <th>8</th>\n",
       "      <td>2021-07-15 21:00:00</td>\n",
       "      <td>15 °C\\n(9:00 pm CEST | Thursday, July 15, 2021)</td>\n",
       "      <td>average: 94% (94%)\\n(9:00 pm CEST | Thursday, ...</td>\n",
       "      <td>2 m/s\\n(9:00 pm CEST | Thursday, July 15, 2021)</td>\n",
       "      <td>no precipitation\\n(9:00 pm CEST | Thursday, Ju...</td>\n",
       "      <td>Moon Phase calculatorJuly 15, 2021 21h</td>\n",
       "      <td>| waxing crescent moon\\n32.28% illuminated</td>\n",
       "    </tr>\n",
       "    <tr>\n",
       "      <th>9</th>\n",
       "      <td>2021-07-15 22:00:00</td>\n",
       "      <td>15 °C\\n(10:00 pm CEST | Thursday, July 15, 2021)</td>\n",
       "      <td>average: 94% (94%)\\n(10:00 pm CEST | Thursday,...</td>\n",
       "      <td>1 m/s\\n(10:00 pm CEST | Thursday, July 15, 2021)</td>\n",
       "      <td>no precipitation\\n(10:00 pm CEST | Thursday, J...</td>\n",
       "      <td>Moon Phase calculatorJuly 15, 2021 22h</td>\n",
       "      <td>| waxing crescent moon\\n32.71% illuminated</td>\n",
       "    </tr>\n",
       "  </tbody>\n",
       "</table>\n",
       "</div>"
      ],
      "text/plain": [
       "                 date                                       temperature  \\\n",
       "8 2021-07-15 21:00:00   15 °C\\n(9:00 pm CEST | Thursday, July 15, 2021)   \n",
       "9 2021-07-15 22:00:00  15 °C\\n(10:00 pm CEST | Thursday, July 15, 2021)   \n",
       "\n",
       "                                            humidity  \\\n",
       "8  average: 94% (94%)\\n(9:00 pm CEST | Thursday, ...   \n",
       "9  average: 94% (94%)\\n(10:00 pm CEST | Thursday,...   \n",
       "\n",
       "                                         wind speed  \\\n",
       "8   2 m/s\\n(9:00 pm CEST | Thursday, July 15, 2021)   \n",
       "9  1 m/s\\n(10:00 pm CEST | Thursday, July 15, 2021)   \n",
       "\n",
       "                                Precipitation amount  \\\n",
       "8  no precipitation\\n(9:00 pm CEST | Thursday, Ju...   \n",
       "9  no precipitation\\n(10:00 pm CEST | Thursday, J...   \n",
       "\n",
       "                                    query  \\\n",
       "8  Moon Phase calculatorJuly 15, 2021 21h   \n",
       "9  Moon Phase calculatorJuly 15, 2021 22h   \n",
       "\n",
       "                        Moon Phase calculator  \n",
       "8  | waxing crescent moon\\n32.28% illuminated  \n",
       "9  | waxing crescent moon\\n32.71% illuminated  "
      ]
     },
     "metadata": {},
     "output_type": "display_data"
    },
    {
     "name": "stderr",
     "output_type": "stream",
     "text": [
      "\r",
      " 27%|████████████████████▉                                                         | 151/561 [48:12<1:54:58, 16.83s/it]"
     ]
    },
    {
     "name": "stdout",
     "output_type": "stream",
     "text": [
      "QUERY:  Precipitation amount in Zollikofen July 15, 2021 23h\n",
      "QUERY:  temperature in Zollikofen July 15, 2021 23h\n",
      "QUERY:  humidity in Zollikofen July 15, 2021 23h\n",
      "QUERY:  wind speed in Zollikofen July 15, 2021 23h\n",
      "QUERY:  Moon Phase calculatorJuly 15, 2021 23h\n"
     ]
    },
    {
     "name": "stderr",
     "output_type": "stream",
     "text": [
      "\r",
      " 27%|█████████████████████▏                                                        | 152/561 [48:28<1:52:57, 16.57s/it]"
     ]
    },
    {
     "name": "stdout",
     "output_type": "stream",
     "text": [
      "QUERY:  Precipitation amount in Zollikofen July 16, 2021 0h\n",
      "QUERY:  temperature in Zollikofen July 16, 2021 0h\n",
      "QUERY:  humidity in Zollikofen July 16, 2021 0h\n",
      "QUERY:  wind speed in Zollikofen July 16, 2021 0h\n",
      "QUERY:  Moon Phase calculatorJuly 16, 2021 0h\n"
     ]
    },
    {
     "name": "stderr",
     "output_type": "stream",
     "text": [
      "\r",
      " 27%|█████████████████████▎                                                        | 153/561 [48:43<1:50:12, 16.21s/it]"
     ]
    },
    {
     "name": "stdout",
     "output_type": "stream",
     "text": [
      "QUERY:  Precipitation amount in Zollikofen July 16, 2021 1h\n",
      "QUERY:  temperature in Zollikofen July 16, 2021 1h\n",
      "QUERY:  humidity in Zollikofen July 16, 2021 1h\n",
      "QUERY:  wind speed in Zollikofen July 16, 2021 1h\n",
      "QUERY:  Moon Phase calculatorJuly 16, 2021 1h\n"
     ]
    },
    {
     "name": "stderr",
     "output_type": "stream",
     "text": [
      "\r",
      " 27%|█████████████████████▍                                                        | 154/561 [49:00<1:50:56, 16.35s/it]"
     ]
    },
    {
     "name": "stdout",
     "output_type": "stream",
     "text": [
      "QUERY:  Precipitation amount in Zollikofen July 16, 2021 2h\n",
      "QUERY:  temperature in Zollikofen July 16, 2021 2h\n",
      "QUERY:  humidity in Zollikofen July 16, 2021 2h\n",
      "QUERY:  wind speed in Zollikofen July 16, 2021 2h\n",
      "QUERY:  Moon Phase calculatorJuly 16, 2021 2h\n"
     ]
    },
    {
     "name": "stderr",
     "output_type": "stream",
     "text": [
      "\r",
      " 28%|█████████████████████▌                                                        | 155/561 [49:16<1:49:47, 16.23s/it]"
     ]
    },
    {
     "name": "stdout",
     "output_type": "stream",
     "text": [
      "QUERY:  Precipitation amount in Zollikofen July 16, 2021 3h\n",
      "QUERY:  temperature in Zollikofen July 16, 2021 3h\n",
      "QUERY:  humidity in Zollikofen July 16, 2021 3h\n",
      "QUERY:  wind speed in Zollikofen July 16, 2021 3h\n",
      "QUERY:  Moon Phase calculatorJuly 16, 2021 3h\n"
     ]
    },
    {
     "name": "stderr",
     "output_type": "stream",
     "text": [
      "\r",
      " 28%|█████████████████████▋                                                        | 156/561 [49:31<1:48:15, 16.04s/it]"
     ]
    },
    {
     "name": "stdout",
     "output_type": "stream",
     "text": [
      "QUERY:  Precipitation amount in Zollikofen July 16, 2021 4h\n",
      "QUERY:  temperature in Zollikofen July 16, 2021 4h\n",
      "QUERY:  humidity in Zollikofen July 16, 2021 4h\n",
      "QUERY:  wind speed in Zollikofen July 16, 2021 4h\n",
      "QUERY:  Moon Phase calculatorJuly 16, 2021 4h\n"
     ]
    },
    {
     "name": "stderr",
     "output_type": "stream",
     "text": [
      "\r",
      " 28%|█████████████████████▊                                                        | 157/561 [49:47<1:47:17, 15.93s/it]"
     ]
    },
    {
     "name": "stdout",
     "output_type": "stream",
     "text": [
      "QUERY:  Precipitation amount in Zollikofen July 16, 2021 5h\n",
      "QUERY:  temperature in Zollikofen July 16, 2021 5h\n",
      "QUERY:  humidity in Zollikofen July 16, 2021 5h\n",
      "QUERY:  wind speed in Zollikofen July 16, 2021 5h\n",
      "QUERY:  Moon Phase calculatorJuly 16, 2021 5h\n"
     ]
    },
    {
     "name": "stderr",
     "output_type": "stream",
     "text": [
      "\r",
      " 28%|█████████████████████▉                                                        | 158/561 [50:03<1:46:29, 15.85s/it]"
     ]
    },
    {
     "name": "stdout",
     "output_type": "stream",
     "text": [
      "QUERY:  Precipitation amount in Zollikofen July 16, 2021 6h\n",
      "QUERY:  temperature in Zollikofen July 16, 2021 6h\n",
      "QUERY:  humidity in Zollikofen July 16, 2021 6h\n",
      "QUERY:  wind speed in Zollikofen July 16, 2021 6h\n",
      "QUERY:  Moon Phase calculatorJuly 16, 2021 6h\n"
     ]
    },
    {
     "name": "stderr",
     "output_type": "stream",
     "text": [
      "\r",
      " 28%|██████████████████████                                                        | 159/561 [50:21<1:50:52, 16.55s/it]"
     ]
    },
    {
     "name": "stdout",
     "output_type": "stream",
     "text": [
      "QUERY:  Precipitation amount in Zollikofen July 16, 2021 7h\n",
      "QUERY:  temperature in Zollikofen July 16, 2021 7h\n",
      "QUERY:  humidity in Zollikofen July 16, 2021 7h\n",
      "QUERY:  wind speed in Zollikofen July 16, 2021 7h\n",
      "QUERY:  Moon Phase calculatorJuly 16, 2021 7h\n"
     ]
    },
    {
     "name": "stderr",
     "output_type": "stream",
     "text": [
      "\r",
      " 29%|██████████████████████▏                                                       | 160/561 [50:40<1:57:03, 17.52s/it]"
     ]
    },
    {
     "name": "stdout",
     "output_type": "stream",
     "text": [
      "QUERY:  Precipitation amount in Zollikofen July 16, 2021 8h\n",
      "QUERY:  temperature in Zollikofen July 16, 2021 8h\n",
      "QUERY:  humidity in Zollikofen July 16, 2021 8h\n",
      "QUERY:  wind speed in Zollikofen July 16, 2021 8h\n",
      "QUERY:  Moon Phase calculatorJuly 16, 2021 8h\n",
      "(6969, 7)\n"
     ]
    },
    {
     "data": {
      "text/html": [
       "<div>\n",
       "<style scoped>\n",
       "    .dataframe tbody tr th:only-of-type {\n",
       "        vertical-align: middle;\n",
       "    }\n",
       "\n",
       "    .dataframe tbody tr th {\n",
       "        vertical-align: top;\n",
       "    }\n",
       "\n",
       "    .dataframe thead th {\n",
       "        text-align: right;\n",
       "    }\n",
       "</style>\n",
       "<table border=\"1\" class=\"dataframe\">\n",
       "  <thead>\n",
       "    <tr style=\"text-align: right;\">\n",
       "      <th></th>\n",
       "      <th>date</th>\n",
       "      <th>temperature</th>\n",
       "      <th>humidity</th>\n",
       "      <th>wind speed</th>\n",
       "      <th>Precipitation amount</th>\n",
       "      <th>query</th>\n",
       "      <th>Moon Phase calculator</th>\n",
       "    </tr>\n",
       "  </thead>\n",
       "  <tbody>\n",
       "    <tr>\n",
       "      <th>8</th>\n",
       "      <td>2021-07-16 07:00:00</td>\n",
       "      <td>15 °C\\n(7:00 am CEST | Friday, July 16, 2021)</td>\n",
       "      <td>average: 97% (94 to 100%)\\n(7:00 am CEST | Fri...</td>\n",
       "      <td>0 m/s\\n(7:00 am CEST | Friday, July 16, 2021)</td>\n",
       "      <td>rain\\n(7:00 am CEST | Friday, July 16, 2021)</td>\n",
       "      <td>Moon Phase calculatorJuly 16, 2021 7h</td>\n",
       "      <td>| waxing crescent moon\\n36.65% illuminated</td>\n",
       "    </tr>\n",
       "    <tr>\n",
       "      <th>9</th>\n",
       "      <td>2021-07-16 08:00:00</td>\n",
       "      <td>16 °C\\n(8:00 am CEST | Friday, July 16, 2021)</td>\n",
       "      <td>average: 97% (94 to 100%)\\n(8:00 am CEST | Fri...</td>\n",
       "      <td>1 m/s\\n(8:00 am CEST | Friday, July 16, 2021)</td>\n",
       "      <td>no precipitation\\n(8:00 am CEST | Friday, July...</td>\n",
       "      <td>Moon Phase calculatorJuly 16, 2021 8h</td>\n",
       "      <td>| waxing crescent moon\\n37.10% illuminated</td>\n",
       "    </tr>\n",
       "  </tbody>\n",
       "</table>\n",
       "</div>"
      ],
      "text/plain": [
       "                 date                                    temperature  \\\n",
       "8 2021-07-16 07:00:00  15 °C\\n(7:00 am CEST | Friday, July 16, 2021)   \n",
       "9 2021-07-16 08:00:00  16 °C\\n(8:00 am CEST | Friday, July 16, 2021)   \n",
       "\n",
       "                                            humidity  \\\n",
       "8  average: 97% (94 to 100%)\\n(7:00 am CEST | Fri...   \n",
       "9  average: 97% (94 to 100%)\\n(8:00 am CEST | Fri...   \n",
       "\n",
       "                                      wind speed  \\\n",
       "8  0 m/s\\n(7:00 am CEST | Friday, July 16, 2021)   \n",
       "9  1 m/s\\n(8:00 am CEST | Friday, July 16, 2021)   \n",
       "\n",
       "                                Precipitation amount  \\\n",
       "8       rain\\n(7:00 am CEST | Friday, July 16, 2021)   \n",
       "9  no precipitation\\n(8:00 am CEST | Friday, July...   \n",
       "\n",
       "                                   query  \\\n",
       "8  Moon Phase calculatorJuly 16, 2021 7h   \n",
       "9  Moon Phase calculatorJuly 16, 2021 8h   \n",
       "\n",
       "                        Moon Phase calculator  \n",
       "8  | waxing crescent moon\\n36.65% illuminated  \n",
       "9  | waxing crescent moon\\n37.10% illuminated  "
      ]
     },
     "metadata": {},
     "output_type": "display_data"
    },
    {
     "name": "stderr",
     "output_type": "stream",
     "text": [
      "\r",
      " 29%|██████████████████████▍                                                       | 161/561 [51:01<2:02:05, 18.31s/it]"
     ]
    },
    {
     "name": "stdout",
     "output_type": "stream",
     "text": [
      "QUERY:  Precipitation amount in Zollikofen July 16, 2021 9h\n",
      "QUERY:  temperature in Zollikofen July 16, 2021 9h\n",
      "QUERY:  humidity in Zollikofen July 16, 2021 9h\n",
      "QUERY:  wind speed in Zollikofen July 16, 2021 9h\n",
      "QUERY:  Moon Phase calculatorJuly 16, 2021 9h\n"
     ]
    },
    {
     "name": "stderr",
     "output_type": "stream",
     "text": [
      "\r",
      " 29%|██████████████████████▌                                                       | 162/561 [51:20<2:04:14, 18.68s/it]"
     ]
    },
    {
     "name": "stdout",
     "output_type": "stream",
     "text": [
      "QUERY:  Precipitation amount in Zollikofen July 16, 2021 10h\n",
      "QUERY:  temperature in Zollikofen July 16, 2021 10h\n",
      "QUERY:  humidity in Zollikofen July 16, 2021 10h\n",
      "QUERY:  wind speed in Zollikofen July 16, 2021 10h\n",
      "QUERY:  Moon Phase calculatorJuly 16, 2021 10h\n"
     ]
    },
    {
     "name": "stderr",
     "output_type": "stream",
     "text": [
      "\r",
      " 29%|██████████████████████▋                                                       | 163/561 [51:40<2:06:13, 19.03s/it]"
     ]
    },
    {
     "name": "stdout",
     "output_type": "stream",
     "text": [
      "QUERY:  Precipitation amount in Zollikofen July 16, 2021 11h\n",
      "QUERY:  temperature in Zollikofen July 16, 2021 11h\n",
      "QUERY:  humidity in Zollikofen July 16, 2021 11h\n",
      "QUERY:  wind speed in Zollikofen July 16, 2021 11h\n",
      "QUERY:  Moon Phase calculatorJuly 16, 2021 11h\n"
     ]
    },
    {
     "name": "stderr",
     "output_type": "stream",
     "text": [
      "\r",
      " 29%|██████████████████████▊                                                       | 164/561 [52:00<2:07:03, 19.20s/it]"
     ]
    },
    {
     "name": "stdout",
     "output_type": "stream",
     "text": [
      "QUERY:  Precipitation amount in Zollikofen July 16, 2021 12h\n",
      "QUERY:  temperature in Zollikofen July 16, 2021 12h\n",
      "QUERY:  humidity in Zollikofen July 16, 2021 12h\n",
      "QUERY:  wind speed in Zollikofen July 16, 2021 12h\n",
      "QUERY:  Moon Phase calculatorJuly 16, 2021 12h\n"
     ]
    },
    {
     "name": "stderr",
     "output_type": "stream",
     "text": [
      "\r",
      " 29%|██████████████████████▉                                                       | 165/561 [52:19<2:07:51, 19.37s/it]"
     ]
    },
    {
     "name": "stdout",
     "output_type": "stream",
     "text": [
      "QUERY:  Precipitation amount in Zollikofen July 16, 2021 13h\n",
      "QUERY:  temperature in Zollikofen July 16, 2021 13h\n",
      "QUERY:  humidity in Zollikofen July 16, 2021 13h\n",
      "QUERY:  wind speed in Zollikofen July 16, 2021 13h\n",
      "QUERY:  Moon Phase calculatorJuly 16, 2021 13h\n"
     ]
    },
    {
     "name": "stderr",
     "output_type": "stream",
     "text": [
      "\r",
      " 30%|███████████████████████                                                       | 166/561 [52:39<2:08:27, 19.51s/it]"
     ]
    },
    {
     "name": "stdout",
     "output_type": "stream",
     "text": [
      "QUERY:  Precipitation amount in Zollikofen July 16, 2021 14h\n",
      "QUERY:  temperature in Zollikofen July 16, 2021 14h\n",
      "QUERY:  humidity in Zollikofen July 16, 2021 14h\n",
      "QUERY:  wind speed in Zollikofen July 16, 2021 14h\n",
      "QUERY:  Moon Phase calculatorJuly 16, 2021 14h\n"
     ]
    },
    {
     "name": "stderr",
     "output_type": "stream",
     "text": [
      "\r",
      " 30%|███████████████████████▏                                                      | 167/561 [53:00<2:10:42, 19.91s/it]"
     ]
    },
    {
     "name": "stdout",
     "output_type": "stream",
     "text": [
      "QUERY:  Precipitation amount in Zollikofen July 16, 2021 15h\n",
      "QUERY:  temperature in Zollikofen July 16, 2021 15h\n",
      "QUERY:  humidity in Zollikofen July 16, 2021 15h\n",
      "QUERY:  wind speed in Zollikofen July 16, 2021 15h\n",
      "QUERY:  Moon Phase calculatorJuly 16, 2021 15h\n"
     ]
    },
    {
     "name": "stderr",
     "output_type": "stream",
     "text": [
      "\r",
      " 30%|███████████████████████▎                                                      | 168/561 [53:20<2:11:22, 20.06s/it]"
     ]
    },
    {
     "name": "stdout",
     "output_type": "stream",
     "text": [
      "QUERY:  Precipitation amount in Zollikofen July 16, 2021 16h\n",
      "QUERY:  temperature in Zollikofen July 16, 2021 16h\n",
      "QUERY:  humidity in Zollikofen July 16, 2021 16h\n",
      "QUERY:  wind speed in Zollikofen July 16, 2021 16h\n",
      "QUERY:  Moon Phase calculatorJuly 16, 2021 16h\n"
     ]
    },
    {
     "name": "stderr",
     "output_type": "stream",
     "text": [
      "\r",
      " 30%|███████████████████████▍                                                      | 169/561 [53:41<2:11:11, 20.08s/it]"
     ]
    },
    {
     "name": "stdout",
     "output_type": "stream",
     "text": [
      "QUERY:  Precipitation amount in Zollikofen July 16, 2021 17h\n",
      "QUERY:  temperature in Zollikofen July 16, 2021 17h\n",
      "QUERY:  humidity in Zollikofen July 16, 2021 17h\n",
      "QUERY:  wind speed in Zollikofen July 16, 2021 17h\n",
      "QUERY:  Moon Phase calculatorJuly 16, 2021 17h\n"
     ]
    },
    {
     "name": "stderr",
     "output_type": "stream",
     "text": [
      "\r",
      " 30%|███████████████████████▋                                                      | 170/561 [54:00<2:10:26, 20.02s/it]"
     ]
    },
    {
     "name": "stdout",
     "output_type": "stream",
     "text": [
      "QUERY:  Precipitation amount in Zollikofen July 16, 2021 18h\n",
      "QUERY:  temperature in Zollikofen July 16, 2021 18h\n",
      "QUERY:  humidity in Zollikofen July 16, 2021 18h\n",
      "QUERY:  wind speed in Zollikofen July 16, 2021 18h\n",
      "QUERY:  Moon Phase calculatorJuly 16, 2021 18h\n",
      "(6979, 7)\n"
     ]
    },
    {
     "data": {
      "text/html": [
       "<div>\n",
       "<style scoped>\n",
       "    .dataframe tbody tr th:only-of-type {\n",
       "        vertical-align: middle;\n",
       "    }\n",
       "\n",
       "    .dataframe tbody tr th {\n",
       "        vertical-align: top;\n",
       "    }\n",
       "\n",
       "    .dataframe thead th {\n",
       "        text-align: right;\n",
       "    }\n",
       "</style>\n",
       "<table border=\"1\" class=\"dataframe\">\n",
       "  <thead>\n",
       "    <tr style=\"text-align: right;\">\n",
       "      <th></th>\n",
       "      <th>date</th>\n",
       "      <th>temperature</th>\n",
       "      <th>humidity</th>\n",
       "      <th>wind speed</th>\n",
       "      <th>Precipitation amount</th>\n",
       "      <th>query</th>\n",
       "      <th>Moon Phase calculator</th>\n",
       "    </tr>\n",
       "  </thead>\n",
       "  <tbody>\n",
       "    <tr>\n",
       "      <th>8</th>\n",
       "      <td>2021-07-16 17:00:00</td>\n",
       "      <td>19 °C\\n(5:00 pm CEST | Friday, July 16, 2021)</td>\n",
       "      <td>average: 88% (88%)\\n(5:00 pm CEST | Friday, Ju...</td>\n",
       "      <td>1 m/s\\n(5:00 pm CEST | Friday, July 16, 2021)</td>\n",
       "      <td>rain\\n(5:00 pm CEST | Friday, July 16, 2021)</td>\n",
       "      <td>Moon Phase calculatorJuly 16, 2021 17h</td>\n",
       "      <td>| waxing crescent moon\\n41.17% illuminated</td>\n",
       "    </tr>\n",
       "    <tr>\n",
       "      <th>9</th>\n",
       "      <td>2021-07-16 18:00:00</td>\n",
       "      <td>19 °C\\n(6:00 pm CEST | Friday, July 16, 2021)</td>\n",
       "      <td>average: 80% (78 to 83%)\\n(6:00 pm CEST | Frid...</td>\n",
       "      <td>2 m/s\\n(6:00 pm CEST | Friday, July 16, 2021)</td>\n",
       "      <td>no precipitation\\n(6:00 pm CEST | Friday, July...</td>\n",
       "      <td>Moon Phase calculatorJuly 16, 2021 18h</td>\n",
       "      <td>| waxing crescent moon\\n41.63% illuminated</td>\n",
       "    </tr>\n",
       "  </tbody>\n",
       "</table>\n",
       "</div>"
      ],
      "text/plain": [
       "                 date                                    temperature  \\\n",
       "8 2021-07-16 17:00:00  19 °C\\n(5:00 pm CEST | Friday, July 16, 2021)   \n",
       "9 2021-07-16 18:00:00  19 °C\\n(6:00 pm CEST | Friday, July 16, 2021)   \n",
       "\n",
       "                                            humidity  \\\n",
       "8  average: 88% (88%)\\n(5:00 pm CEST | Friday, Ju...   \n",
       "9  average: 80% (78 to 83%)\\n(6:00 pm CEST | Frid...   \n",
       "\n",
       "                                      wind speed  \\\n",
       "8  1 m/s\\n(5:00 pm CEST | Friday, July 16, 2021)   \n",
       "9  2 m/s\\n(6:00 pm CEST | Friday, July 16, 2021)   \n",
       "\n",
       "                                Precipitation amount  \\\n",
       "8       rain\\n(5:00 pm CEST | Friday, July 16, 2021)   \n",
       "9  no precipitation\\n(6:00 pm CEST | Friday, July...   \n",
       "\n",
       "                                    query  \\\n",
       "8  Moon Phase calculatorJuly 16, 2021 17h   \n",
       "9  Moon Phase calculatorJuly 16, 2021 18h   \n",
       "\n",
       "                        Moon Phase calculator  \n",
       "8  | waxing crescent moon\\n41.17% illuminated  \n",
       "9  | waxing crescent moon\\n41.63% illuminated  "
      ]
     },
     "metadata": {},
     "output_type": "display_data"
    },
    {
     "name": "stderr",
     "output_type": "stream",
     "text": [
      "\r",
      " 30%|███████████████████████▊                                                      | 171/561 [54:20<2:09:52, 19.98s/it]"
     ]
    },
    {
     "name": "stdout",
     "output_type": "stream",
     "text": [
      "QUERY:  Precipitation amount in Zollikofen July 16, 2021 19h\n",
      "QUERY:  temperature in Zollikofen July 16, 2021 19h\n",
      "QUERY:  humidity in Zollikofen July 16, 2021 19h\n",
      "QUERY:  wind speed in Zollikofen July 16, 2021 19h\n",
      "QUERY:  Moon Phase calculatorJuly 16, 2021 19h\n"
     ]
    },
    {
     "name": "stderr",
     "output_type": "stream",
     "text": [
      "\r",
      " 31%|███████████████████████▉                                                      | 172/561 [54:40<2:09:16, 19.94s/it]"
     ]
    },
    {
     "name": "stdout",
     "output_type": "stream",
     "text": [
      "QUERY:  Precipitation amount in Zollikofen July 16, 2021 20h\n",
      "QUERY:  temperature in Zollikofen July 16, 2021 20h\n",
      "QUERY:  humidity in Zollikofen July 16, 2021 20h\n",
      "QUERY:  wind speed in Zollikofen July 16, 2021 20h\n",
      "QUERY:  Moon Phase calculatorJuly 16, 2021 20h\n"
     ]
    },
    {
     "name": "stderr",
     "output_type": "stream",
     "text": [
      "\r",
      " 31%|████████████████████████                                                      | 173/561 [55:00<2:08:20, 19.85s/it]"
     ]
    },
    {
     "name": "stdout",
     "output_type": "stream",
     "text": [
      "QUERY:  Precipitation amount in Zollikofen July 16, 2021 21h\n",
      "QUERY:  temperature in Zollikofen July 16, 2021 21h\n",
      "QUERY:  humidity in Zollikofen July 16, 2021 21h\n",
      "QUERY:  wind speed in Zollikofen July 16, 2021 21h\n",
      "QUERY:  Moon Phase calculatorJuly 16, 2021 21h\n"
     ]
    },
    {
     "name": "stderr",
     "output_type": "stream",
     "text": [
      "\r",
      " 31%|████████████████████████▏                                                     | 174/561 [55:20<2:07:56, 19.84s/it]"
     ]
    },
    {
     "name": "stdout",
     "output_type": "stream",
     "text": [
      "QUERY:  Precipitation amount in Zollikofen July 16, 2021 22h\n",
      "QUERY:  temperature in Zollikofen July 16, 2021 22h\n",
      "QUERY:  humidity in Zollikofen July 16, 2021 22h\n",
      "QUERY:  wind speed in Zollikofen July 16, 2021 22h\n",
      "QUERY:  Moon Phase calculatorJuly 16, 2021 22h\n"
     ]
    },
    {
     "name": "stderr",
     "output_type": "stream",
     "text": [
      "\r",
      " 31%|████████████████████████▎                                                     | 175/561 [55:41<2:10:15, 20.25s/it]"
     ]
    },
    {
     "name": "stdout",
     "output_type": "stream",
     "text": [
      "QUERY:  Precipitation amount in Zollikofen July 16, 2021 23h\n",
      "QUERY:  temperature in Zollikofen July 16, 2021 23h\n",
      "QUERY:  humidity in Zollikofen July 16, 2021 23h\n",
      "QUERY:  wind speed in Zollikofen July 16, 2021 23h\n",
      "QUERY:  Moon Phase calculatorJuly 16, 2021 23h\n"
     ]
    },
    {
     "name": "stderr",
     "output_type": "stream",
     "text": [
      "\r",
      " 31%|████████████████████████▍                                                     | 176/561 [56:01<2:10:21, 20.32s/it]"
     ]
    },
    {
     "name": "stdout",
     "output_type": "stream",
     "text": [
      "QUERY:  Precipitation amount in Zollikofen July 17, 2021 0h\n",
      "QUERY:  temperature in Zollikofen July 17, 2021 0h\n",
      "QUERY:  humidity in Zollikofen July 17, 2021 0h\n",
      "QUERY:  wind speed in Zollikofen July 17, 2021 0h\n",
      "QUERY:  Moon Phase calculatorJuly 17, 2021 0h\n"
     ]
    },
    {
     "name": "stderr",
     "output_type": "stream",
     "text": [
      "\r",
      " 32%|████████████████████████▌                                                     | 177/561 [56:21<2:08:02, 20.01s/it]"
     ]
    },
    {
     "name": "stdout",
     "output_type": "stream",
     "text": [
      "QUERY:  Precipitation amount in Zollikofen July 17, 2021 1h\n",
      "QUERY:  temperature in Zollikofen July 17, 2021 1h\n",
      "QUERY:  humidity in Zollikofen July 17, 2021 1h\n",
      "QUERY:  wind speed in Zollikofen July 17, 2021 1h\n",
      "QUERY:  Moon Phase calculatorJuly 17, 2021 1h\n"
     ]
    },
    {
     "name": "stderr",
     "output_type": "stream",
     "text": [
      "\r",
      " 32%|████████████████████████▋                                                     | 178/561 [56:41<2:07:59, 20.05s/it]"
     ]
    },
    {
     "name": "stdout",
     "output_type": "stream",
     "text": [
      "QUERY:  Precipitation amount in Zollikofen July 17, 2021 2h\n",
      "QUERY:  temperature in Zollikofen July 17, 2021 2h\n",
      "QUERY:  humidity in Zollikofen July 17, 2021 2h\n",
      "QUERY:  wind speed in Zollikofen July 17, 2021 2h\n",
      "QUERY:  Moon Phase calculatorJuly 17, 2021 2h\n"
     ]
    },
    {
     "name": "stderr",
     "output_type": "stream",
     "text": [
      "\r",
      " 32%|████████████████████████▉                                                     | 179/561 [57:00<2:06:33, 19.88s/it]"
     ]
    },
    {
     "name": "stdout",
     "output_type": "stream",
     "text": [
      "QUERY:  Precipitation amount in Zollikofen July 17, 2021 3h\n",
      "QUERY:  temperature in Zollikofen July 17, 2021 3h\n",
      "QUERY:  humidity in Zollikofen July 17, 2021 3h\n",
      "QUERY:  wind speed in Zollikofen July 17, 2021 3h\n",
      "QUERY:  Moon Phase calculatorJuly 17, 2021 3h\n"
     ]
    },
    {
     "name": "stderr",
     "output_type": "stream",
     "text": [
      "\r",
      " 32%|█████████████████████████                                                     | 180/561 [57:20<2:05:16, 19.73s/it]"
     ]
    },
    {
     "name": "stdout",
     "output_type": "stream",
     "text": [
      "QUERY:  Precipitation amount in Zollikofen July 17, 2021 4h\n",
      "QUERY:  temperature in Zollikofen July 17, 2021 4h\n",
      "QUERY:  humidity in Zollikofen July 17, 2021 4h\n",
      "QUERY:  wind speed in Zollikofen July 17, 2021 4h\n",
      "QUERY:  Moon Phase calculatorJuly 17, 2021 4h\n",
      "(6989, 7)\n"
     ]
    },
    {
     "data": {
      "text/html": [
       "<div>\n",
       "<style scoped>\n",
       "    .dataframe tbody tr th:only-of-type {\n",
       "        vertical-align: middle;\n",
       "    }\n",
       "\n",
       "    .dataframe tbody tr th {\n",
       "        vertical-align: top;\n",
       "    }\n",
       "\n",
       "    .dataframe thead th {\n",
       "        text-align: right;\n",
       "    }\n",
       "</style>\n",
       "<table border=\"1\" class=\"dataframe\">\n",
       "  <thead>\n",
       "    <tr style=\"text-align: right;\">\n",
       "      <th></th>\n",
       "      <th>date</th>\n",
       "      <th>temperature</th>\n",
       "      <th>humidity</th>\n",
       "      <th>wind speed</th>\n",
       "      <th>Precipitation amount</th>\n",
       "      <th>query</th>\n",
       "      <th>Moon Phase calculator</th>\n",
       "    </tr>\n",
       "  </thead>\n",
       "  <tbody>\n",
       "    <tr>\n",
       "      <th>8</th>\n",
       "      <td>2021-07-17 03:00:00</td>\n",
       "      <td>13 °C\\n(3:00 am CEST | Saturday, July 17, 2021)</td>\n",
       "      <td>average: 100% (100%)\\n(3:00 am CEST | Saturday...</td>\n",
       "      <td>1 m/s\\n(3:00 am CEST | Saturday, July 17, 2021)</td>\n",
       "      <td>no precipitation\\n(3:00 am CEST | Saturday, Ju...</td>\n",
       "      <td>Moon Phase calculatorJuly 17, 2021 3h</td>\n",
       "      <td>| first quarter moon\\n45.81% illuminated</td>\n",
       "    </tr>\n",
       "    <tr>\n",
       "      <th>9</th>\n",
       "      <td>2021-07-17 04:00:00</td>\n",
       "      <td>14 °C\\n(4:00 am CEST | Saturday, July 17, 2021)</td>\n",
       "      <td>average: 94% (94%)\\n(4:00 am CEST | Saturday, ...</td>\n",
       "      <td>2 m/s\\n(4:00 am CEST | Saturday, July 17, 2021)</td>\n",
       "      <td>no precipitation\\n(4:00 am CEST | Saturday, Ju...</td>\n",
       "      <td>Moon Phase calculatorJuly 17, 2021 4h</td>\n",
       "      <td>| first quarter moon\\n46.27% illuminated</td>\n",
       "    </tr>\n",
       "  </tbody>\n",
       "</table>\n",
       "</div>"
      ],
      "text/plain": [
       "                 date                                      temperature  \\\n",
       "8 2021-07-17 03:00:00  13 °C\\n(3:00 am CEST | Saturday, July 17, 2021)   \n",
       "9 2021-07-17 04:00:00  14 °C\\n(4:00 am CEST | Saturday, July 17, 2021)   \n",
       "\n",
       "                                            humidity  \\\n",
       "8  average: 100% (100%)\\n(3:00 am CEST | Saturday...   \n",
       "9  average: 94% (94%)\\n(4:00 am CEST | Saturday, ...   \n",
       "\n",
       "                                        wind speed  \\\n",
       "8  1 m/s\\n(3:00 am CEST | Saturday, July 17, 2021)   \n",
       "9  2 m/s\\n(4:00 am CEST | Saturday, July 17, 2021)   \n",
       "\n",
       "                                Precipitation amount  \\\n",
       "8  no precipitation\\n(3:00 am CEST | Saturday, Ju...   \n",
       "9  no precipitation\\n(4:00 am CEST | Saturday, Ju...   \n",
       "\n",
       "                                   query  \\\n",
       "8  Moon Phase calculatorJuly 17, 2021 3h   \n",
       "9  Moon Phase calculatorJuly 17, 2021 4h   \n",
       "\n",
       "                      Moon Phase calculator  \n",
       "8  | first quarter moon\\n45.81% illuminated  \n",
       "9  | first quarter moon\\n46.27% illuminated  "
      ]
     },
     "metadata": {},
     "output_type": "display_data"
    },
    {
     "name": "stderr",
     "output_type": "stream",
     "text": [
      "\r",
      " 32%|█████████████████████████▏                                                    | 181/561 [57:40<2:05:22, 19.79s/it]"
     ]
    },
    {
     "name": "stdout",
     "output_type": "stream",
     "text": [
      "QUERY:  Precipitation amount in Zollikofen July 17, 2021 5h\n",
      "QUERY:  temperature in Zollikofen July 17, 2021 5h\n",
      "QUERY:  humidity in Zollikofen July 17, 2021 5h\n",
      "QUERY:  wind speed in Zollikofen July 17, 2021 5h\n",
      "QUERY:  Moon Phase calculatorJuly 17, 2021 5h\n"
     ]
    },
    {
     "name": "stderr",
     "output_type": "stream",
     "text": [
      "\r",
      " 32%|█████████████████████████▎                                                    | 182/561 [58:01<2:07:14, 20.14s/it]"
     ]
    },
    {
     "name": "stdout",
     "output_type": "stream",
     "text": [
      "QUERY:  Precipitation amount in Zollikofen July 17, 2021 6h\n",
      "QUERY:  temperature in Zollikofen July 17, 2021 6h\n",
      "QUERY:  humidity in Zollikofen July 17, 2021 6h\n",
      "QUERY:  wind speed in Zollikofen July 17, 2021 6h\n",
      "QUERY:  Moon Phase calculatorJuly 17, 2021 6h\n"
     ]
    },
    {
     "name": "stderr",
     "output_type": "stream",
     "text": [
      "\r",
      " 33%|█████████████████████████▍                                                    | 183/561 [58:20<2:05:28, 19.92s/it]"
     ]
    },
    {
     "name": "stdout",
     "output_type": "stream",
     "text": [
      "QUERY:  Precipitation amount in Zollikofen July 17, 2021 7h\n",
      "QUERY:  temperature in Zollikofen July 17, 2021 7h\n",
      "QUERY:  humidity in Zollikofen July 17, 2021 7h\n",
      "QUERY:  wind speed in Zollikofen July 17, 2021 7h\n",
      "QUERY:  Moon Phase calculatorJuly 17, 2021 7h\n"
     ]
    },
    {
     "name": "stderr",
     "output_type": "stream",
     "text": [
      "\r",
      " 33%|█████████████████████████▌                                                    | 184/561 [58:41<2:07:05, 20.23s/it]"
     ]
    },
    {
     "name": "stdout",
     "output_type": "stream",
     "text": [
      "QUERY:  Precipitation amount in Zollikofen July 17, 2021 8h\n",
      "QUERY:  temperature in Zollikofen July 17, 2021 8h\n",
      "QUERY:  humidity in Zollikofen July 17, 2021 8h\n",
      "QUERY:  wind speed in Zollikofen July 17, 2021 8h\n",
      "QUERY:  Moon Phase calculatorJuly 17, 2021 8h\n"
     ]
    },
    {
     "name": "stderr",
     "output_type": "stream",
     "text": [
      "\r",
      " 33%|█████████████████████████▋                                                    | 185/561 [59:00<2:04:58, 19.94s/it]"
     ]
    },
    {
     "name": "stdout",
     "output_type": "stream",
     "text": [
      "QUERY:  Precipitation amount in Zollikofen July 17, 2021 9h\n",
      "QUERY:  temperature in Zollikofen July 17, 2021 9h\n",
      "QUERY:  humidity in Zollikofen July 17, 2021 9h\n",
      "QUERY:  wind speed in Zollikofen July 17, 2021 9h\n",
      "QUERY:  Moon Phase calculatorJuly 17, 2021 9h\n"
     ]
    },
    {
     "name": "stderr",
     "output_type": "stream",
     "text": [
      "\r",
      " 33%|█████████████████████████▊                                                    | 186/561 [59:20<2:03:45, 19.80s/it]"
     ]
    },
    {
     "name": "stdout",
     "output_type": "stream",
     "text": [
      "QUERY:  Precipitation amount in Zollikofen July 17, 2021 10h\n",
      "QUERY:  temperature in Zollikofen July 17, 2021 10h\n",
      "QUERY:  humidity in Zollikofen July 17, 2021 10h\n",
      "QUERY:  wind speed in Zollikofen July 17, 2021 10h\n",
      "QUERY:  Moon Phase calculatorJuly 17, 2021 10h\n"
     ]
    },
    {
     "name": "stderr",
     "output_type": "stream",
     "text": [
      "\r",
      " 33%|██████████████████████████                                                    | 187/561 [59:41<2:05:52, 20.19s/it]"
     ]
    },
    {
     "name": "stdout",
     "output_type": "stream",
     "text": [
      "QUERY:  Precipitation amount in Zollikofen July 17, 2021 11h\n",
      "QUERY:  temperature in Zollikofen July 17, 2021 11h\n",
      "QUERY:  humidity in Zollikofen July 17, 2021 11h\n",
      "QUERY:  wind speed in Zollikofen July 17, 2021 11h\n",
      "QUERY:  Moon Phase calculatorJuly 17, 2021 11h\n"
     ]
    },
    {
     "name": "stderr",
     "output_type": "stream",
     "text": [
      "\r",
      " 34%|█████████████████████████▍                                                  | 188/561 [1:00:00<2:04:20, 20.00s/it]"
     ]
    },
    {
     "name": "stdout",
     "output_type": "stream",
     "text": [
      "QUERY:  Precipitation amount in Zollikofen July 17, 2021 12h\n",
      "QUERY:  temperature in Zollikofen July 17, 2021 12h\n",
      "QUERY:  humidity in Zollikofen July 17, 2021 12h\n",
      "QUERY:  wind speed in Zollikofen July 17, 2021 12h\n",
      "QUERY:  Moon Phase calculatorJuly 17, 2021 12h\n"
     ]
    },
    {
     "name": "stderr",
     "output_type": "stream",
     "text": [
      "\r",
      " 34%|█████████████████████████▌                                                  | 189/561 [1:00:20<2:03:13, 19.87s/it]"
     ]
    },
    {
     "name": "stdout",
     "output_type": "stream",
     "text": [
      "QUERY:  Precipitation amount in Zollikofen July 17, 2021 13h\n",
      "QUERY:  temperature in Zollikofen July 17, 2021 13h\n",
      "QUERY:  humidity in Zollikofen July 17, 2021 13h\n",
      "QUERY:  wind speed in Zollikofen July 17, 2021 13h\n",
      "QUERY:  Moon Phase calculatorJuly 17, 2021 13h\n"
     ]
    },
    {
     "name": "stderr",
     "output_type": "stream",
     "text": [
      "\r",
      " 34%|█████████████████████████▋                                                  | 190/561 [1:00:40<2:04:03, 20.06s/it]"
     ]
    },
    {
     "name": "stdout",
     "output_type": "stream",
     "text": [
      "QUERY:  Precipitation amount in Zollikofen July 17, 2021 14h\n",
      "QUERY:  temperature in Zollikofen July 17, 2021 14h\n",
      "QUERY:  humidity in Zollikofen July 17, 2021 14h\n",
      "QUERY:  wind speed in Zollikofen July 17, 2021 14h\n",
      "QUERY:  Moon Phase calculatorJuly 17, 2021 14h\n",
      "(6999, 7)\n"
     ]
    },
    {
     "data": {
      "text/html": [
       "<div>\n",
       "<style scoped>\n",
       "    .dataframe tbody tr th:only-of-type {\n",
       "        vertical-align: middle;\n",
       "    }\n",
       "\n",
       "    .dataframe tbody tr th {\n",
       "        vertical-align: top;\n",
       "    }\n",
       "\n",
       "    .dataframe thead th {\n",
       "        text-align: right;\n",
       "    }\n",
       "</style>\n",
       "<table border=\"1\" class=\"dataframe\">\n",
       "  <thead>\n",
       "    <tr style=\"text-align: right;\">\n",
       "      <th></th>\n",
       "      <th>date</th>\n",
       "      <th>temperature</th>\n",
       "      <th>humidity</th>\n",
       "      <th>wind speed</th>\n",
       "      <th>Precipitation amount</th>\n",
       "      <th>query</th>\n",
       "      <th>Moon Phase calculator</th>\n",
       "    </tr>\n",
       "  </thead>\n",
       "  <tbody>\n",
       "    <tr>\n",
       "      <th>8</th>\n",
       "      <td>2021-07-17 13:00:00</td>\n",
       "      <td>20 °C\\n(1:00 pm CEST | Saturday, July 17, 2021)</td>\n",
       "      <td>average: 78% (78%)\\n(1:00 pm CEST | Saturday, ...</td>\n",
       "      <td>4 m/s\\n(1:00 pm CEST | Saturday, July 17, 2021)</td>\n",
       "      <td>no precipitation\\n(1:00 pm CEST | Saturday, Ju...</td>\n",
       "      <td>Moon Phase calculatorJuly 17, 2021 13h</td>\n",
       "      <td>| first quarter moon\\n50.51% illuminated</td>\n",
       "    </tr>\n",
       "    <tr>\n",
       "      <th>9</th>\n",
       "      <td>2021-07-17 14:00:00</td>\n",
       "      <td>20 °C\\n(2:00 pm CEST | Saturday, July 17, 2021)</td>\n",
       "      <td>average: 75% (73 to 78%)\\n(2:00 pm CEST | Satu...</td>\n",
       "      <td>3 m/s\\n(2:00 pm CEST | Saturday, July 17, 2021)</td>\n",
       "      <td>no precipitation\\n(2:00 pm CEST | Saturday, Ju...</td>\n",
       "      <td>Moon Phase calculatorJuly 17, 2021 14h</td>\n",
       "      <td>| first quarter moon\\n50.98% illuminated</td>\n",
       "    </tr>\n",
       "  </tbody>\n",
       "</table>\n",
       "</div>"
      ],
      "text/plain": [
       "                 date                                      temperature  \\\n",
       "8 2021-07-17 13:00:00  20 °C\\n(1:00 pm CEST | Saturday, July 17, 2021)   \n",
       "9 2021-07-17 14:00:00  20 °C\\n(2:00 pm CEST | Saturday, July 17, 2021)   \n",
       "\n",
       "                                            humidity  \\\n",
       "8  average: 78% (78%)\\n(1:00 pm CEST | Saturday, ...   \n",
       "9  average: 75% (73 to 78%)\\n(2:00 pm CEST | Satu...   \n",
       "\n",
       "                                        wind speed  \\\n",
       "8  4 m/s\\n(1:00 pm CEST | Saturday, July 17, 2021)   \n",
       "9  3 m/s\\n(2:00 pm CEST | Saturday, July 17, 2021)   \n",
       "\n",
       "                                Precipitation amount  \\\n",
       "8  no precipitation\\n(1:00 pm CEST | Saturday, Ju...   \n",
       "9  no precipitation\\n(2:00 pm CEST | Saturday, Ju...   \n",
       "\n",
       "                                    query  \\\n",
       "8  Moon Phase calculatorJuly 17, 2021 13h   \n",
       "9  Moon Phase calculatorJuly 17, 2021 14h   \n",
       "\n",
       "                      Moon Phase calculator  \n",
       "8  | first quarter moon\\n50.51% illuminated  \n",
       "9  | first quarter moon\\n50.98% illuminated  "
      ]
     },
     "metadata": {},
     "output_type": "display_data"
    },
    {
     "name": "stderr",
     "output_type": "stream",
     "text": [
      "\r",
      " 34%|█████████████████████████▉                                                  | 191/561 [1:01:01<2:05:29, 20.35s/it]"
     ]
    },
    {
     "name": "stdout",
     "output_type": "stream",
     "text": [
      "QUERY:  Precipitation amount in Zollikofen July 17, 2021 15h\n",
      "QUERY:  temperature in Zollikofen July 17, 2021 15h\n",
      "QUERY:  humidity in Zollikofen July 17, 2021 15h\n",
      "QUERY:  wind speed in Zollikofen July 17, 2021 15h\n",
      "QUERY:  Moon Phase calculatorJuly 17, 2021 15h\n"
     ]
    },
    {
     "name": "stderr",
     "output_type": "stream",
     "text": [
      "\r",
      " 34%|██████████████████████████                                                  | 192/561 [1:01:23<2:07:37, 20.75s/it]"
     ]
    },
    {
     "name": "stdout",
     "output_type": "stream",
     "text": [
      "QUERY:  Precipitation amount in Zollikofen July 17, 2021 16h\n",
      "QUERY:  temperature in Zollikofen July 17, 2021 16h\n",
      "QUERY:  humidity in Zollikofen July 17, 2021 16h\n",
      "QUERY:  wind speed in Zollikofen July 17, 2021 16h\n",
      "QUERY:  Moon Phase calculatorJuly 17, 2021 16h\n"
     ]
    },
    {
     "name": "stderr",
     "output_type": "stream",
     "text": [
      "\r",
      " 34%|██████████████████████████▏                                                 | 193/561 [1:01:44<2:07:04, 20.72s/it]"
     ]
    },
    {
     "name": "stdout",
     "output_type": "stream",
     "text": [
      "QUERY:  Precipitation amount in Zollikofen July 17, 2021 17h\n",
      "QUERY:  temperature in Zollikofen July 17, 2021 17h\n",
      "QUERY:  humidity in Zollikofen July 17, 2021 17h\n",
      "QUERY:  wind speed in Zollikofen July 17, 2021 17h\n",
      "QUERY:  Moon Phase calculatorJuly 17, 2021 17h\n"
     ]
    },
    {
     "name": "stderr",
     "output_type": "stream",
     "text": [
      "\r",
      " 35%|██████████████████████████▎                                                 | 194/561 [1:02:04<2:06:36, 20.70s/it]"
     ]
    },
    {
     "name": "stdout",
     "output_type": "stream",
     "text": [
      "QUERY:  Precipitation amount in Zollikofen July 17, 2021 18h\n",
      "QUERY:  temperature in Zollikofen July 17, 2021 18h\n",
      "QUERY:  humidity in Zollikofen July 17, 2021 18h\n",
      "QUERY:  wind speed in Zollikofen July 17, 2021 18h\n",
      "QUERY:  Moon Phase calculatorJuly 17, 2021 18h\n"
     ]
    },
    {
     "name": "stderr",
     "output_type": "stream",
     "text": [
      "\r",
      " 35%|██████████████████████████▍                                                 | 195/561 [1:02:26<2:08:06, 21.00s/it]"
     ]
    },
    {
     "name": "stdout",
     "output_type": "stream",
     "text": [
      "QUERY:  Precipitation amount in Zollikofen July 17, 2021 19h\n",
      "QUERY:  temperature in Zollikofen July 17, 2021 19h\n",
      "QUERY:  humidity in Zollikofen July 17, 2021 19h\n",
      "QUERY:  wind speed in Zollikofen July 17, 2021 19h\n",
      "QUERY:  Moon Phase calculatorJuly 17, 2021 19h\n"
     ]
    },
    {
     "name": "stderr",
     "output_type": "stream",
     "text": [
      "\r",
      " 35%|██████████████████████████▌                                                 | 196/561 [1:02:46<2:05:54, 20.70s/it]"
     ]
    },
    {
     "name": "stdout",
     "output_type": "stream",
     "text": [
      "QUERY:  Precipitation amount in Zollikofen July 17, 2021 20h\n",
      "QUERY:  temperature in Zollikofen July 17, 2021 20h\n",
      "QUERY:  humidity in Zollikofen July 17, 2021 20h\n",
      "QUERY:  wind speed in Zollikofen July 17, 2021 20h\n",
      "QUERY:  Moon Phase calculatorJuly 17, 2021 20h\n"
     ]
    },
    {
     "name": "stderr",
     "output_type": "stream",
     "text": [
      "\r",
      " 35%|██████████████████████████▋                                                 | 197/561 [1:03:06<2:04:54, 20.59s/it]"
     ]
    },
    {
     "name": "stdout",
     "output_type": "stream",
     "text": [
      "QUERY:  Precipitation amount in Zollikofen July 17, 2021 21h\n",
      "QUERY:  temperature in Zollikofen July 17, 2021 21h\n",
      "QUERY:  humidity in Zollikofen July 17, 2021 21h\n",
      "QUERY:  wind speed in Zollikofen July 17, 2021 21h\n",
      "QUERY:  Moon Phase calculatorJuly 17, 2021 21h\n"
     ]
    },
    {
     "name": "stderr",
     "output_type": "stream",
     "text": [
      "\r",
      " 35%|██████████████████████████▊                                                 | 198/561 [1:03:27<2:05:03, 20.67s/it]"
     ]
    },
    {
     "name": "stdout",
     "output_type": "stream",
     "text": [
      "QUERY:  Precipitation amount in Zollikofen July 17, 2021 22h\n",
      "QUERY:  temperature in Zollikofen July 17, 2021 22h\n",
      "QUERY:  humidity in Zollikofen July 17, 2021 22h\n",
      "QUERY:  wind speed in Zollikofen July 17, 2021 22h\n",
      "QUERY:  Moon Phase calculatorJuly 17, 2021 22h\n"
     ]
    },
    {
     "name": "stderr",
     "output_type": "stream",
     "text": [
      "\r",
      " 35%|██████████████████████████▉                                                 | 199/561 [1:03:49<2:06:36, 20.99s/it]"
     ]
    },
    {
     "name": "stdout",
     "output_type": "stream",
     "text": [
      "QUERY:  Precipitation amount in Zollikofen July 17, 2021 23h\n",
      "QUERY:  temperature in Zollikofen July 17, 2021 23h\n",
      "QUERY:  humidity in Zollikofen July 17, 2021 23h\n",
      "QUERY:  wind speed in Zollikofen July 17, 2021 23h\n",
      "QUERY:  Moon Phase calculatorJuly 17, 2021 23h\n"
     ]
    },
    {
     "name": "stderr",
     "output_type": "stream",
     "text": [
      "\r",
      " 36%|███████████████████████████                                                 | 200/561 [1:04:10<2:06:41, 21.06s/it]"
     ]
    },
    {
     "name": "stdout",
     "output_type": "stream",
     "text": [
      "QUERY:  Precipitation amount in Zollikofen July 18, 2021 0h\n",
      "QUERY:  temperature in Zollikofen July 18, 2021 0h\n",
      "QUERY:  humidity in Zollikofen July 18, 2021 0h\n",
      "QUERY:  wind speed in Zollikofen July 18, 2021 0h\n",
      "QUERY:  Moon Phase calculatorJuly 18, 2021 0h\n",
      "(7009, 7)\n"
     ]
    },
    {
     "data": {
      "text/html": [
       "<div>\n",
       "<style scoped>\n",
       "    .dataframe tbody tr th:only-of-type {\n",
       "        vertical-align: middle;\n",
       "    }\n",
       "\n",
       "    .dataframe tbody tr th {\n",
       "        vertical-align: top;\n",
       "    }\n",
       "\n",
       "    .dataframe thead th {\n",
       "        text-align: right;\n",
       "    }\n",
       "</style>\n",
       "<table border=\"1\" class=\"dataframe\">\n",
       "  <thead>\n",
       "    <tr style=\"text-align: right;\">\n",
       "      <th></th>\n",
       "      <th>date</th>\n",
       "      <th>temperature</th>\n",
       "      <th>humidity</th>\n",
       "      <th>wind speed</th>\n",
       "      <th>Precipitation amount</th>\n",
       "      <th>query</th>\n",
       "      <th>Moon Phase calculator</th>\n",
       "    </tr>\n",
       "  </thead>\n",
       "  <tbody>\n",
       "    <tr>\n",
       "      <th>8</th>\n",
       "      <td>2021-07-17 23:00:00</td>\n",
       "      <td>18 °C\\n(11:00 pm CEST | Saturday, July 17, 2021)</td>\n",
       "      <td>average: 91% (88 to 94%)\\n(11:00 pm CEST | Sat...</td>\n",
       "      <td>1 m/s\\n(11:00 pm CEST | Saturday, July 17, 2021)</td>\n",
       "      <td>no precipitation\\n(11:00 pm CEST | Saturday, J...</td>\n",
       "      <td>Moon Phase calculatorJuly 17, 2021 23h</td>\n",
       "      <td>| first quarter moon\\n55.25% illuminated</td>\n",
       "    </tr>\n",
       "    <tr>\n",
       "      <th>9</th>\n",
       "      <td>2021-07-18 00:00:00</td>\n",
       "      <td>18 °C\\n(12:00 am CEST | Sunday, July 18, 2021)</td>\n",
       "      <td>average: 94% (94%)\\n(12:00 am CEST | Sunday, J...</td>\n",
       "      <td>1 m/s\\n(12:00 am CEST | Sunday, July 18, 2021)</td>\n",
       "      <td>rain\\n(12:00 am CEST | Sunday, July 18, 2021)</td>\n",
       "      <td>Moon Phase calculatorJuly 18, 2021 0h</td>\n",
       "      <td>| waxing gibbous moon\\n55.72% illuminated</td>\n",
       "    </tr>\n",
       "  </tbody>\n",
       "</table>\n",
       "</div>"
      ],
      "text/plain": [
       "                 date                                       temperature  \\\n",
       "8 2021-07-17 23:00:00  18 °C\\n(11:00 pm CEST | Saturday, July 17, 2021)   \n",
       "9 2021-07-18 00:00:00    18 °C\\n(12:00 am CEST | Sunday, July 18, 2021)   \n",
       "\n",
       "                                            humidity  \\\n",
       "8  average: 91% (88 to 94%)\\n(11:00 pm CEST | Sat...   \n",
       "9  average: 94% (94%)\\n(12:00 am CEST | Sunday, J...   \n",
       "\n",
       "                                         wind speed  \\\n",
       "8  1 m/s\\n(11:00 pm CEST | Saturday, July 17, 2021)   \n",
       "9    1 m/s\\n(12:00 am CEST | Sunday, July 18, 2021)   \n",
       "\n",
       "                                Precipitation amount  \\\n",
       "8  no precipitation\\n(11:00 pm CEST | Saturday, J...   \n",
       "9      rain\\n(12:00 am CEST | Sunday, July 18, 2021)   \n",
       "\n",
       "                                    query  \\\n",
       "8  Moon Phase calculatorJuly 17, 2021 23h   \n",
       "9   Moon Phase calculatorJuly 18, 2021 0h   \n",
       "\n",
       "                       Moon Phase calculator  \n",
       "8   | first quarter moon\\n55.25% illuminated  \n",
       "9  | waxing gibbous moon\\n55.72% illuminated  "
      ]
     },
     "metadata": {},
     "output_type": "display_data"
    },
    {
     "name": "stderr",
     "output_type": "stream",
     "text": [
      "\r",
      " 36%|███████████████████████████▏                                                | 201/561 [1:04:33<2:10:11, 21.70s/it]"
     ]
    },
    {
     "name": "stdout",
     "output_type": "stream",
     "text": [
      "QUERY:  Precipitation amount in Zollikofen July 18, 2021 1h\n",
      "QUERY:  temperature in Zollikofen July 18, 2021 1h\n",
      "QUERY:  humidity in Zollikofen July 18, 2021 1h\n",
      "QUERY:  wind speed in Zollikofen July 18, 2021 1h\n",
      "QUERY:  Moon Phase calculatorJuly 18, 2021 1h\n"
     ]
    },
    {
     "name": "stderr",
     "output_type": "stream",
     "text": [
      "\r",
      " 36%|███████████████████████████▎                                                | 202/561 [1:04:55<2:10:00, 21.73s/it]"
     ]
    },
    {
     "name": "stdout",
     "output_type": "stream",
     "text": [
      "QUERY:  Precipitation amount in Zollikofen July 18, 2021 2h\n",
      "QUERY:  temperature in Zollikofen July 18, 2021 2h\n",
      "QUERY:  humidity in Zollikofen July 18, 2021 2h\n",
      "QUERY:  wind speed in Zollikofen July 18, 2021 2h\n",
      "QUERY:  Moon Phase calculatorJuly 18, 2021 2h\n"
     ]
    },
    {
     "name": "stderr",
     "output_type": "stream",
     "text": [
      "\r",
      " 36%|███████████████████████████▌                                                | 203/561 [1:05:16<2:08:31, 21.54s/it]"
     ]
    },
    {
     "name": "stdout",
     "output_type": "stream",
     "text": [
      "QUERY:  Precipitation amount in Zollikofen July 18, 2021 3h\n",
      "QUERY:  temperature in Zollikofen July 18, 2021 3h\n",
      "QUERY:  humidity in Zollikofen July 18, 2021 3h\n",
      "QUERY:  wind speed in Zollikofen July 18, 2021 3h\n",
      "QUERY:  Moon Phase calculatorJuly 18, 2021 3h\n"
     ]
    },
    {
     "name": "stderr",
     "output_type": "stream",
     "text": [
      "\r",
      " 36%|███████████████████████████▋                                                | 204/561 [1:05:35<2:02:26, 20.58s/it]"
     ]
    },
    {
     "name": "stdout",
     "output_type": "stream",
     "text": [
      "QUERY:  Precipitation amount in Zollikofen July 18, 2021 4h\n",
      "QUERY:  temperature in Zollikofen July 18, 2021 4h\n",
      "QUERY:  humidity in Zollikofen July 18, 2021 4h\n",
      "QUERY:  wind speed in Zollikofen July 18, 2021 4h\n",
      "QUERY:  Moon Phase calculatorJuly 18, 2021 4h\n"
     ]
    },
    {
     "name": "stderr",
     "output_type": "stream",
     "text": [
      "\r",
      " 37%|███████████████████████████▊                                                | 205/561 [1:05:51<1:54:58, 19.38s/it]"
     ]
    },
    {
     "name": "stdout",
     "output_type": "stream",
     "text": [
      "QUERY:  Precipitation amount in Zollikofen July 18, 2021 5h\n",
      "QUERY:  temperature in Zollikofen July 18, 2021 5h\n",
      "QUERY:  humidity in Zollikofen July 18, 2021 5h\n",
      "QUERY:  wind speed in Zollikofen July 18, 2021 5h\n",
      "QUERY:  Moon Phase calculatorJuly 18, 2021 5h\n"
     ]
    },
    {
     "name": "stderr",
     "output_type": "stream",
     "text": [
      "\r",
      " 37%|███████████████████████████▉                                                | 206/561 [1:06:08<1:49:27, 18.50s/it]"
     ]
    },
    {
     "name": "stdout",
     "output_type": "stream",
     "text": [
      "QUERY:  Precipitation amount in Zollikofen July 18, 2021 6h\n",
      "QUERY:  temperature in Zollikofen July 18, 2021 6h\n",
      "QUERY:  humidity in Zollikofen July 18, 2021 6h\n",
      "QUERY:  wind speed in Zollikofen July 18, 2021 6h\n",
      "QUERY:  Moon Phase calculatorJuly 18, 2021 6h\n"
     ]
    },
    {
     "name": "stderr",
     "output_type": "stream",
     "text": [
      "\r",
      " 37%|████████████████████████████                                                | 207/561 [1:06:24<1:45:18, 17.85s/it]"
     ]
    },
    {
     "name": "stdout",
     "output_type": "stream",
     "text": [
      "QUERY:  Precipitation amount in Zollikofen July 18, 2021 7h\n",
      "QUERY:  temperature in Zollikofen July 18, 2021 7h\n",
      "QUERY:  humidity in Zollikofen July 18, 2021 7h\n",
      "QUERY:  wind speed in Zollikofen July 18, 2021 7h\n",
      "QUERY:  Moon Phase calculatorJuly 18, 2021 7h\n"
     ]
    },
    {
     "name": "stderr",
     "output_type": "stream",
     "text": [
      "\r",
      " 37%|████████████████████████████▏                                               | 208/561 [1:06:41<1:43:31, 17.60s/it]"
     ]
    },
    {
     "name": "stdout",
     "output_type": "stream",
     "text": [
      "QUERY:  Precipitation amount in Zollikofen July 18, 2021 8h\n",
      "QUERY:  temperature in Zollikofen July 18, 2021 8h\n",
      "QUERY:  humidity in Zollikofen July 18, 2021 8h\n",
      "QUERY:  wind speed in Zollikofen July 18, 2021 8h\n",
      "QUERY:  Moon Phase calculatorJuly 18, 2021 8h\n"
     ]
    },
    {
     "name": "stderr",
     "output_type": "stream",
     "text": [
      "\r",
      " 37%|████████████████████████████▎                                               | 209/561 [1:06:58<1:41:59, 17.39s/it]"
     ]
    },
    {
     "name": "stdout",
     "output_type": "stream",
     "text": [
      "QUERY:  Precipitation amount in Zollikofen July 18, 2021 9h\n",
      "QUERY:  temperature in Zollikofen July 18, 2021 9h\n",
      "QUERY:  humidity in Zollikofen July 18, 2021 9h\n",
      "QUERY:  wind speed in Zollikofen July 18, 2021 9h\n",
      "QUERY:  Moon Phase calculatorJuly 18, 2021 9h\n"
     ]
    },
    {
     "name": "stderr",
     "output_type": "stream",
     "text": [
      "\r",
      " 37%|████████████████████████████▍                                               | 210/561 [1:07:14<1:40:16, 17.14s/it]"
     ]
    },
    {
     "name": "stdout",
     "output_type": "stream",
     "text": [
      "QUERY:  Precipitation amount in Zollikofen July 18, 2021 10h\n",
      "QUERY:  temperature in Zollikofen July 18, 2021 10h\n",
      "QUERY:  humidity in Zollikofen July 18, 2021 10h\n",
      "QUERY:  wind speed in Zollikofen July 18, 2021 10h\n",
      "QUERY:  Moon Phase calculatorJuly 18, 2021 10h\n",
      "(7019, 7)\n"
     ]
    },
    {
     "data": {
      "text/html": [
       "<div>\n",
       "<style scoped>\n",
       "    .dataframe tbody tr th:only-of-type {\n",
       "        vertical-align: middle;\n",
       "    }\n",
       "\n",
       "    .dataframe tbody tr th {\n",
       "        vertical-align: top;\n",
       "    }\n",
       "\n",
       "    .dataframe thead th {\n",
       "        text-align: right;\n",
       "    }\n",
       "</style>\n",
       "<table border=\"1\" class=\"dataframe\">\n",
       "  <thead>\n",
       "    <tr style=\"text-align: right;\">\n",
       "      <th></th>\n",
       "      <th>date</th>\n",
       "      <th>temperature</th>\n",
       "      <th>humidity</th>\n",
       "      <th>wind speed</th>\n",
       "      <th>Precipitation amount</th>\n",
       "      <th>query</th>\n",
       "      <th>Moon Phase calculator</th>\n",
       "    </tr>\n",
       "  </thead>\n",
       "  <tbody>\n",
       "    <tr>\n",
       "      <th>8</th>\n",
       "      <td>2021-07-18 09:00:00</td>\n",
       "      <td>21 °C\\n(9:00 am CEST | Sunday, July 18, 2021)</td>\n",
       "      <td>average: 78% (78%)\\n(9:00 am CEST | Sunday, Ju...</td>\n",
       "      <td>3 m/s\\n(9:00 am CEST | Sunday, July 18, 2021)</td>\n",
       "      <td>no precipitation\\n(9:00 am CEST | Sunday, July...</td>\n",
       "      <td>Moon Phase calculatorJuly 18, 2021 9h</td>\n",
       "      <td>| waxing gibbous moon\\n59.97% illuminated</td>\n",
       "    </tr>\n",
       "    <tr>\n",
       "      <th>9</th>\n",
       "      <td>2021-07-18 10:00:00</td>\n",
       "      <td>21 °C\\n(10:00 am CEST | Sunday, July 18, 2021)</td>\n",
       "      <td>average: 73% (69 to 78%)\\n(10:00 am CEST | Sun...</td>\n",
       "      <td>3 m/s\\n(10:00 am CEST | Sunday, July 18, 2021)</td>\n",
       "      <td>no precipitation\\n(10:00 am CEST | Sunday, Jul...</td>\n",
       "      <td>Moon Phase calculatorJuly 18, 2021 10h</td>\n",
       "      <td>| waxing gibbous moon\\n60.44% illuminated</td>\n",
       "    </tr>\n",
       "  </tbody>\n",
       "</table>\n",
       "</div>"
      ],
      "text/plain": [
       "                 date                                     temperature  \\\n",
       "8 2021-07-18 09:00:00   21 °C\\n(9:00 am CEST | Sunday, July 18, 2021)   \n",
       "9 2021-07-18 10:00:00  21 °C\\n(10:00 am CEST | Sunday, July 18, 2021)   \n",
       "\n",
       "                                            humidity  \\\n",
       "8  average: 78% (78%)\\n(9:00 am CEST | Sunday, Ju...   \n",
       "9  average: 73% (69 to 78%)\\n(10:00 am CEST | Sun...   \n",
       "\n",
       "                                       wind speed  \\\n",
       "8   3 m/s\\n(9:00 am CEST | Sunday, July 18, 2021)   \n",
       "9  3 m/s\\n(10:00 am CEST | Sunday, July 18, 2021)   \n",
       "\n",
       "                                Precipitation amount  \\\n",
       "8  no precipitation\\n(9:00 am CEST | Sunday, July...   \n",
       "9  no precipitation\\n(10:00 am CEST | Sunday, Jul...   \n",
       "\n",
       "                                    query  \\\n",
       "8   Moon Phase calculatorJuly 18, 2021 9h   \n",
       "9  Moon Phase calculatorJuly 18, 2021 10h   \n",
       "\n",
       "                       Moon Phase calculator  \n",
       "8  | waxing gibbous moon\\n59.97% illuminated  \n",
       "9  | waxing gibbous moon\\n60.44% illuminated  "
      ]
     },
     "metadata": {},
     "output_type": "display_data"
    },
    {
     "name": "stderr",
     "output_type": "stream",
     "text": [
      "\r",
      " 38%|████████████████████████████▌                                               | 211/561 [1:07:31<1:38:56, 16.96s/it]"
     ]
    },
    {
     "name": "stdout",
     "output_type": "stream",
     "text": [
      "QUERY:  Precipitation amount in Zollikofen July 18, 2021 11h\n",
      "QUERY:  temperature in Zollikofen July 18, 2021 11h\n",
      "QUERY:  humidity in Zollikofen July 18, 2021 11h\n",
      "QUERY:  wind speed in Zollikofen July 18, 2021 11h\n",
      "QUERY:  Moon Phase calculatorJuly 18, 2021 11h\n"
     ]
    },
    {
     "name": "stderr",
     "output_type": "stream",
     "text": [
      "\r",
      " 38%|████████████████████████████▋                                               | 212/561 [1:07:48<1:38:12, 16.88s/it]"
     ]
    },
    {
     "name": "stdout",
     "output_type": "stream",
     "text": [
      "QUERY:  Precipitation amount in Zollikofen July 18, 2021 12h\n",
      "QUERY:  temperature in Zollikofen July 18, 2021 12h\n",
      "QUERY:  humidity in Zollikofen July 18, 2021 12h\n",
      "QUERY:  wind speed in Zollikofen July 18, 2021 12h\n",
      "QUERY:  Moon Phase calculatorJuly 18, 2021 12h\n"
     ]
    },
    {
     "name": "stderr",
     "output_type": "stream",
     "text": [
      "\r",
      " 38%|████████████████████████████▊                                               | 213/561 [1:08:07<1:41:19, 17.47s/it]"
     ]
    },
    {
     "name": "stdout",
     "output_type": "stream",
     "text": [
      "QUERY:  Precipitation amount in Zollikofen July 18, 2021 13h\n",
      "QUERY:  temperature in Zollikofen July 18, 2021 13h\n",
      "QUERY:  humidity in Zollikofen July 18, 2021 13h\n",
      "QUERY:  wind speed in Zollikofen July 18, 2021 13h\n",
      "QUERY:  Moon Phase calculatorJuly 18, 2021 13h\n"
     ]
    },
    {
     "name": "stderr",
     "output_type": "stream",
     "text": [
      "\r",
      " 38%|████████████████████████████▉                                               | 214/561 [1:08:23<1:39:03, 17.13s/it]"
     ]
    },
    {
     "name": "stdout",
     "output_type": "stream",
     "text": [
      "QUERY:  Precipitation amount in Zollikofen July 18, 2021 14h\n",
      "QUERY:  temperature in Zollikofen July 18, 2021 14h\n",
      "QUERY:  humidity in Zollikofen July 18, 2021 14h\n",
      "QUERY:  wind speed in Zollikofen July 18, 2021 14h\n",
      "QUERY:  Moon Phase calculatorJuly 18, 2021 14h\n"
     ]
    },
    {
     "name": "stderr",
     "output_type": "stream",
     "text": [
      "\r",
      " 38%|█████████████████████████████▏                                              | 215/561 [1:08:39<1:37:47, 16.96s/it]"
     ]
    },
    {
     "name": "stdout",
     "output_type": "stream",
     "text": [
      "QUERY:  Precipitation amount in Zollikofen July 18, 2021 15h\n",
      "QUERY:  temperature in Zollikofen July 18, 2021 15h\n",
      "QUERY:  humidity in Zollikofen July 18, 2021 15h\n",
      "QUERY:  wind speed in Zollikofen July 18, 2021 15h\n",
      "QUERY:  Moon Phase calculatorJuly 18, 2021 15h\n"
     ]
    },
    {
     "name": "stderr",
     "output_type": "stream",
     "text": [
      "\r",
      " 39%|█████████████████████████████▎                                              | 216/561 [1:08:56<1:37:00, 16.87s/it]"
     ]
    },
    {
     "name": "stdout",
     "output_type": "stream",
     "text": [
      "QUERY:  Precipitation amount in Zollikofen July 18, 2021 16h\n",
      "QUERY:  temperature in Zollikofen July 18, 2021 16h\n",
      "QUERY:  humidity in Zollikofen July 18, 2021 16h\n",
      "QUERY:  wind speed in Zollikofen July 18, 2021 16h\n",
      "QUERY:  Moon Phase calculatorJuly 18, 2021 16h\n"
     ]
    },
    {
     "name": "stderr",
     "output_type": "stream",
     "text": [
      "\r",
      " 39%|█████████████████████████████▍                                              | 217/561 [1:09:14<1:38:26, 17.17s/it]"
     ]
    },
    {
     "name": "stdout",
     "output_type": "stream",
     "text": [
      "QUERY:  Precipitation amount in Zollikofen July 18, 2021 17h\n",
      "QUERY:  temperature in Zollikofen July 18, 2021 17h\n",
      "QUERY:  humidity in Zollikofen July 18, 2021 17h\n",
      "QUERY:  wind speed in Zollikofen July 18, 2021 17h\n",
      "QUERY:  Moon Phase calculatorJuly 18, 2021 17h\n"
     ]
    },
    {
     "name": "stderr",
     "output_type": "stream",
     "text": [
      "\r",
      " 39%|█████████████████████████████▌                                              | 218/561 [1:09:31<1:37:16, 17.02s/it]"
     ]
    },
    {
     "name": "stdout",
     "output_type": "stream",
     "text": [
      "QUERY:  Precipitation amount in Zollikofen July 18, 2021 18h\n",
      "QUERY:  temperature in Zollikofen July 18, 2021 18h\n",
      "QUERY:  humidity in Zollikofen July 18, 2021 18h\n",
      "QUERY:  wind speed in Zollikofen July 18, 2021 18h\n",
      "QUERY:  Moon Phase calculatorJuly 18, 2021 18h\n"
     ]
    },
    {
     "name": "stderr",
     "output_type": "stream",
     "text": [
      "\r",
      " 39%|█████████████████████████████▋                                              | 219/561 [1:09:47<1:36:12, 16.88s/it]"
     ]
    },
    {
     "name": "stdout",
     "output_type": "stream",
     "text": [
      "QUERY:  Precipitation amount in Zollikofen July 18, 2021 19h\n",
      "QUERY:  temperature in Zollikofen July 18, 2021 19h\n",
      "QUERY:  humidity in Zollikofen July 18, 2021 19h\n",
      "QUERY:  wind speed in Zollikofen July 18, 2021 19h\n",
      "QUERY:  Moon Phase calculatorJuly 18, 2021 19h\n"
     ]
    },
    {
     "name": "stderr",
     "output_type": "stream",
     "text": [
      "\r",
      " 39%|█████████████████████████████▊                                              | 220/561 [1:10:06<1:39:57, 17.59s/it]"
     ]
    },
    {
     "name": "stdout",
     "output_type": "stream",
     "text": [
      "QUERY:  Precipitation amount in Zollikofen July 18, 2021 20h\n",
      "QUERY:  temperature in Zollikofen July 18, 2021 20h\n",
      "QUERY:  humidity in Zollikofen July 18, 2021 20h\n",
      "QUERY:  wind speed in Zollikofen July 18, 2021 20h\n",
      "QUERY:  Moon Phase calculatorJuly 18, 2021 20h\n",
      "(7029, 7)\n"
     ]
    },
    {
     "data": {
      "text/html": [
       "<div>\n",
       "<style scoped>\n",
       "    .dataframe tbody tr th:only-of-type {\n",
       "        vertical-align: middle;\n",
       "    }\n",
       "\n",
       "    .dataframe tbody tr th {\n",
       "        vertical-align: top;\n",
       "    }\n",
       "\n",
       "    .dataframe thead th {\n",
       "        text-align: right;\n",
       "    }\n",
       "</style>\n",
       "<table border=\"1\" class=\"dataframe\">\n",
       "  <thead>\n",
       "    <tr style=\"text-align: right;\">\n",
       "      <th></th>\n",
       "      <th>date</th>\n",
       "      <th>temperature</th>\n",
       "      <th>humidity</th>\n",
       "      <th>wind speed</th>\n",
       "      <th>Precipitation amount</th>\n",
       "      <th>query</th>\n",
       "      <th>Moon Phase calculator</th>\n",
       "    </tr>\n",
       "  </thead>\n",
       "  <tbody>\n",
       "    <tr>\n",
       "      <th>8</th>\n",
       "      <td>2021-07-18 19:00:00</td>\n",
       "      <td>24 °C\\n(7:00 pm CEST | Sunday, July 18, 2021)</td>\n",
       "      <td>average: 57% (57%)\\n(7:00 pm CEST | Sunday, Ju...</td>\n",
       "      <td>4 m/s\\n(7:00 pm CEST | Sunday, July 18, 2021)</td>\n",
       "      <td>no precipitation\\n(7:00 pm CEST | Sunday, July...</td>\n",
       "      <td>Moon Phase calculatorJuly 18, 2021 19h</td>\n",
       "      <td>| waxing gibbous moon\\n64.63% illuminated</td>\n",
       "    </tr>\n",
       "    <tr>\n",
       "      <th>9</th>\n",
       "      <td>2021-07-18 20:00:00</td>\n",
       "      <td>23 °C\\n(8:00 pm CEST | Sunday, July 18, 2021)</td>\n",
       "      <td>average: 63% (61 to 65%)\\n(8:00 pm CEST | Sund...</td>\n",
       "      <td>3 m/s\\n(8:00 pm CEST | Sunday, July 18, 2021)</td>\n",
       "      <td>no precipitation\\n(8:00 pm CEST | Sunday, July...</td>\n",
       "      <td>Moon Phase calculatorJuly 18, 2021 20h</td>\n",
       "      <td>| waxing gibbous moon\\n65.09% illuminated</td>\n",
       "    </tr>\n",
       "  </tbody>\n",
       "</table>\n",
       "</div>"
      ],
      "text/plain": [
       "                 date                                    temperature  \\\n",
       "8 2021-07-18 19:00:00  24 °C\\n(7:00 pm CEST | Sunday, July 18, 2021)   \n",
       "9 2021-07-18 20:00:00  23 °C\\n(8:00 pm CEST | Sunday, July 18, 2021)   \n",
       "\n",
       "                                            humidity  \\\n",
       "8  average: 57% (57%)\\n(7:00 pm CEST | Sunday, Ju...   \n",
       "9  average: 63% (61 to 65%)\\n(8:00 pm CEST | Sund...   \n",
       "\n",
       "                                      wind speed  \\\n",
       "8  4 m/s\\n(7:00 pm CEST | Sunday, July 18, 2021)   \n",
       "9  3 m/s\\n(8:00 pm CEST | Sunday, July 18, 2021)   \n",
       "\n",
       "                                Precipitation amount  \\\n",
       "8  no precipitation\\n(7:00 pm CEST | Sunday, July...   \n",
       "9  no precipitation\\n(8:00 pm CEST | Sunday, July...   \n",
       "\n",
       "                                    query  \\\n",
       "8  Moon Phase calculatorJuly 18, 2021 19h   \n",
       "9  Moon Phase calculatorJuly 18, 2021 20h   \n",
       "\n",
       "                       Moon Phase calculator  \n",
       "8  | waxing gibbous moon\\n64.63% illuminated  \n",
       "9  | waxing gibbous moon\\n65.09% illuminated  "
      ]
     },
     "metadata": {},
     "output_type": "display_data"
    },
    {
     "name": "stderr",
     "output_type": "stream",
     "text": [
      "\r",
      " 39%|█████████████████████████████▉                                              | 221/561 [1:10:25<1:41:36, 17.93s/it]"
     ]
    },
    {
     "name": "stdout",
     "output_type": "stream",
     "text": [
      "QUERY:  Precipitation amount in Zollikofen July 18, 2021 21h\n",
      "QUERY:  temperature in Zollikofen July 18, 2021 21h\n",
      "QUERY:  humidity in Zollikofen July 18, 2021 21h\n",
      "QUERY:  wind speed in Zollikofen July 18, 2021 21h\n",
      "QUERY:  Moon Phase calculatorJuly 18, 2021 21h\n"
     ]
    },
    {
     "name": "stderr",
     "output_type": "stream",
     "text": [
      "\r",
      " 40%|██████████████████████████████                                              | 222/561 [1:10:46<1:46:56, 18.93s/it]"
     ]
    },
    {
     "name": "stdout",
     "output_type": "stream",
     "text": [
      "QUERY:  Precipitation amount in Zollikofen July 18, 2021 22h\n",
      "QUERY:  temperature in Zollikofen July 18, 2021 22h\n",
      "QUERY:  humidity in Zollikofen July 18, 2021 22h\n",
      "QUERY:  wind speed in Zollikofen July 18, 2021 22h\n",
      "QUERY:  Moon Phase calculatorJuly 18, 2021 22h\n"
     ]
    },
    {
     "name": "stderr",
     "output_type": "stream",
     "text": [
      "\r",
      " 40%|██████████████████████████████▏                                             | 223/561 [1:11:06<1:48:03, 19.18s/it]"
     ]
    },
    {
     "name": "stdout",
     "output_type": "stream",
     "text": [
      "QUERY:  Precipitation amount in Zollikofen July 18, 2021 23h\n",
      "QUERY:  temperature in Zollikofen July 18, 2021 23h\n",
      "QUERY:  humidity in Zollikofen July 18, 2021 23h\n",
      "QUERY:  wind speed in Zollikofen July 18, 2021 23h\n",
      "QUERY:  Moon Phase calculatorJuly 18, 2021 23h\n"
     ]
    },
    {
     "name": "stderr",
     "output_type": "stream",
     "text": [
      "\r",
      " 40%|██████████████████████████████▎                                             | 224/561 [1:11:26<1:49:29, 19.49s/it]"
     ]
    },
    {
     "name": "stdout",
     "output_type": "stream",
     "text": [
      "QUERY:  Precipitation amount in Zollikofen July 19, 2021 0h\n",
      "QUERY:  temperature in Zollikofen July 19, 2021 0h\n",
      "QUERY:  humidity in Zollikofen July 19, 2021 0h\n",
      "QUERY:  wind speed in Zollikofen July 19, 2021 0h\n",
      "QUERY:  Moon Phase calculatorJuly 19, 2021 0h\n"
     ]
    },
    {
     "name": "stderr",
     "output_type": "stream",
     "text": [
      "\r",
      " 40%|██████████████████████████████▍                                             | 225/561 [1:11:47<1:50:31, 19.74s/it]"
     ]
    },
    {
     "name": "stdout",
     "output_type": "stream",
     "text": [
      "QUERY:  Precipitation amount in Zollikofen July 19, 2021 1h\n",
      "QUERY:  temperature in Zollikofen July 19, 2021 1h\n",
      "QUERY:  humidity in Zollikofen July 19, 2021 1h\n",
      "QUERY:  wind speed in Zollikofen July 19, 2021 1h\n",
      "QUERY:  Moon Phase calculatorJuly 19, 2021 1h\n"
     ]
    },
    {
     "name": "stderr",
     "output_type": "stream",
     "text": [
      "\r",
      " 40%|██████████████████████████████▌                                             | 226/561 [1:12:07<1:51:40, 20.00s/it]"
     ]
    },
    {
     "name": "stdout",
     "output_type": "stream",
     "text": [
      "QUERY:  Precipitation amount in Zollikofen July 19, 2021 2h\n",
      "QUERY:  temperature in Zollikofen July 19, 2021 2h\n",
      "QUERY:  humidity in Zollikofen July 19, 2021 2h\n",
      "QUERY:  wind speed in Zollikofen July 19, 2021 2h\n",
      "QUERY:  Moon Phase calculatorJuly 19, 2021 2h\n"
     ]
    },
    {
     "name": "stderr",
     "output_type": "stream",
     "text": [
      "\r",
      " 40%|██████████████████████████████▊                                             | 227/561 [1:12:29<1:54:23, 20.55s/it]"
     ]
    },
    {
     "name": "stdout",
     "output_type": "stream",
     "text": [
      "QUERY:  Precipitation amount in Zollikofen July 19, 2021 3h\n",
      "QUERY:  temperature in Zollikofen July 19, 2021 3h\n",
      "QUERY:  humidity in Zollikofen July 19, 2021 3h\n",
      "QUERY:  wind speed in Zollikofen July 19, 2021 3h\n",
      "QUERY:  Moon Phase calculatorJuly 19, 2021 3h\n"
     ]
    },
    {
     "name": "stderr",
     "output_type": "stream",
     "text": [
      "\r",
      " 41%|██████████████████████████████▉                                             | 228/561 [1:12:49<1:53:06, 20.38s/it]"
     ]
    },
    {
     "name": "stdout",
     "output_type": "stream",
     "text": [
      "QUERY:  Precipitation amount in Zollikofen July 19, 2021 4h\n",
      "QUERY:  temperature in Zollikofen July 19, 2021 4h\n",
      "QUERY:  humidity in Zollikofen July 19, 2021 4h\n",
      "QUERY:  wind speed in Zollikofen July 19, 2021 4h\n",
      "QUERY:  Moon Phase calculatorJuly 19, 2021 4h\n"
     ]
    },
    {
     "name": "stderr",
     "output_type": "stream",
     "text": [
      "\r",
      " 41%|███████████████████████████████                                             | 229/561 [1:13:09<1:51:53, 20.22s/it]"
     ]
    },
    {
     "name": "stdout",
     "output_type": "stream",
     "text": [
      "QUERY:  Precipitation amount in Zollikofen July 19, 2021 5h\n",
      "QUERY:  temperature in Zollikofen July 19, 2021 5h\n",
      "QUERY:  humidity in Zollikofen July 19, 2021 5h\n",
      "QUERY:  wind speed in Zollikofen July 19, 2021 5h\n",
      "QUERY:  Moon Phase calculatorJuly 19, 2021 5h\n"
     ]
    },
    {
     "name": "stderr",
     "output_type": "stream",
     "text": [
      "\r",
      " 41%|███████████████████████████████▏                                            | 230/561 [1:13:29<1:51:28, 20.21s/it]"
     ]
    },
    {
     "name": "stdout",
     "output_type": "stream",
     "text": [
      "QUERY:  Precipitation amount in Zollikofen July 19, 2021 6h\n",
      "QUERY:  temperature in Zollikofen July 19, 2021 6h\n",
      "QUERY:  humidity in Zollikofen July 19, 2021 6h\n",
      "QUERY:  wind speed in Zollikofen July 19, 2021 6h\n",
      "QUERY:  Moon Phase calculatorJuly 19, 2021 6h\n",
      "(7039, 7)\n"
     ]
    },
    {
     "data": {
      "text/html": [
       "<div>\n",
       "<style scoped>\n",
       "    .dataframe tbody tr th:only-of-type {\n",
       "        vertical-align: middle;\n",
       "    }\n",
       "\n",
       "    .dataframe tbody tr th {\n",
       "        vertical-align: top;\n",
       "    }\n",
       "\n",
       "    .dataframe thead th {\n",
       "        text-align: right;\n",
       "    }\n",
       "</style>\n",
       "<table border=\"1\" class=\"dataframe\">\n",
       "  <thead>\n",
       "    <tr style=\"text-align: right;\">\n",
       "      <th></th>\n",
       "      <th>date</th>\n",
       "      <th>temperature</th>\n",
       "      <th>humidity</th>\n",
       "      <th>wind speed</th>\n",
       "      <th>Precipitation amount</th>\n",
       "      <th>query</th>\n",
       "      <th>Moon Phase calculator</th>\n",
       "    </tr>\n",
       "  </thead>\n",
       "  <tbody>\n",
       "    <tr>\n",
       "      <th>8</th>\n",
       "      <td>2021-07-19 05:00:00</td>\n",
       "      <td>12 °C\\n(5:00 am CEST | Monday, July 19, 2021)</td>\n",
       "      <td>average: 100% (100%)\\n(5:00 am CEST | Monday, ...</td>\n",
       "      <td>1 m/s\\n(5:00 am CEST | Monday, July 19, 2021)</td>\n",
       "      <td>no precipitation\\n(5:00 am CEST | Monday, July...</td>\n",
       "      <td>Moon Phase calculatorJuly 19, 2021 5h</td>\n",
       "      <td>| waxing gibbous moon\\n69.19% illuminated</td>\n",
       "    </tr>\n",
       "    <tr>\n",
       "      <th>9</th>\n",
       "      <td>2021-07-19 06:00:00</td>\n",
       "      <td>12 °C\\n(6:00 am CEST | Monday, July 19, 2021)</td>\n",
       "      <td>average: 100% (100%)\\n(6:00 am CEST | Monday, ...</td>\n",
       "      <td>0 m/s\\n(6:00 am CEST | Monday, July 19, 2021)</td>\n",
       "      <td>no precipitation\\n(6:00 am CEST | Monday, July...</td>\n",
       "      <td>Moon Phase calculatorJuly 19, 2021 6h</td>\n",
       "      <td>| waxing gibbous moon\\n69.64% illuminated</td>\n",
       "    </tr>\n",
       "  </tbody>\n",
       "</table>\n",
       "</div>"
      ],
      "text/plain": [
       "                 date                                    temperature  \\\n",
       "8 2021-07-19 05:00:00  12 °C\\n(5:00 am CEST | Monday, July 19, 2021)   \n",
       "9 2021-07-19 06:00:00  12 °C\\n(6:00 am CEST | Monday, July 19, 2021)   \n",
       "\n",
       "                                            humidity  \\\n",
       "8  average: 100% (100%)\\n(5:00 am CEST | Monday, ...   \n",
       "9  average: 100% (100%)\\n(6:00 am CEST | Monday, ...   \n",
       "\n",
       "                                      wind speed  \\\n",
       "8  1 m/s\\n(5:00 am CEST | Monday, July 19, 2021)   \n",
       "9  0 m/s\\n(6:00 am CEST | Monday, July 19, 2021)   \n",
       "\n",
       "                                Precipitation amount  \\\n",
       "8  no precipitation\\n(5:00 am CEST | Monday, July...   \n",
       "9  no precipitation\\n(6:00 am CEST | Monday, July...   \n",
       "\n",
       "                                   query  \\\n",
       "8  Moon Phase calculatorJuly 19, 2021 5h   \n",
       "9  Moon Phase calculatorJuly 19, 2021 6h   \n",
       "\n",
       "                       Moon Phase calculator  \n",
       "8  | waxing gibbous moon\\n69.19% illuminated  \n",
       "9  | waxing gibbous moon\\n69.64% illuminated  "
      ]
     },
     "metadata": {},
     "output_type": "display_data"
    },
    {
     "name": "stderr",
     "output_type": "stream",
     "text": [
      "\r",
      " 41%|███████████████████████████████▎                                            | 231/561 [1:13:51<1:53:35, 20.65s/it]"
     ]
    },
    {
     "name": "stdout",
     "output_type": "stream",
     "text": [
      "QUERY:  Precipitation amount in Zollikofen July 19, 2021 7h\n",
      "QUERY:  temperature in Zollikofen July 19, 2021 7h\n",
      "QUERY:  humidity in Zollikofen July 19, 2021 7h\n",
      "QUERY:  wind speed in Zollikofen July 19, 2021 7h\n",
      "QUERY:  Moon Phase calculatorJuly 19, 2021 7h\n"
     ]
    },
    {
     "name": "stderr",
     "output_type": "stream",
     "text": [
      "\r",
      " 41%|███████████████████████████████▍                                            | 232/561 [1:14:11<1:51:56, 20.41s/it]"
     ]
    },
    {
     "name": "stdout",
     "output_type": "stream",
     "text": [
      "QUERY:  Precipitation amount in Zollikofen July 19, 2021 8h\n",
      "QUERY:  temperature in Zollikofen July 19, 2021 8h\n",
      "QUERY:  humidity in Zollikofen July 19, 2021 8h\n",
      "QUERY:  wind speed in Zollikofen July 19, 2021 8h\n",
      "QUERY:  Moon Phase calculatorJuly 19, 2021 8h\n"
     ]
    },
    {
     "name": "stderr",
     "output_type": "stream",
     "text": [
      "\r",
      " 42%|███████████████████████████████▌                                            | 233/561 [1:14:29<1:47:54, 19.74s/it]"
     ]
    },
    {
     "name": "stdout",
     "output_type": "stream",
     "text": [
      "QUERY:  Precipitation amount in Zollikofen July 19, 2021 9h\n",
      "QUERY:  temperature in Zollikofen July 19, 2021 9h\n",
      "QUERY:  humidity in Zollikofen July 19, 2021 9h\n",
      "QUERY:  wind speed in Zollikofen July 19, 2021 9h\n",
      "QUERY:  Moon Phase calculatorJuly 19, 2021 9h\n"
     ]
    },
    {
     "name": "stderr",
     "output_type": "stream",
     "text": [
      "\r",
      " 42%|███████████████████████████████▋                                            | 234/561 [1:14:47<1:45:25, 19.34s/it]"
     ]
    },
    {
     "name": "stdout",
     "output_type": "stream",
     "text": [
      "QUERY:  Precipitation amount in Zollikofen July 19, 2021 10h\n",
      "QUERY:  temperature in Zollikofen July 19, 2021 10h\n",
      "ERROR: no data available-------------  temperature in Zollikofen July 19, 2021 10h\n",
      "ERROR:------------- name 'error' is not defined  ----------  temperature in Zollikofen July 19, 2021 10h\n",
      "QUERY:  humidity in Zollikofen July 19, 2021 10h\n",
      "ERROR: no data available-------------  humidity in Zollikofen July 19, 2021 10h\n",
      "ERROR:------------- name 'error' is not defined  ----------  humidity in Zollikofen July 19, 2021 10h\n",
      "QUERY:  wind speed in Zollikofen July 19, 2021 10h\n",
      "ERROR: no data available-------------  wind speed in Zollikofen July 19, 2021 10h\n",
      "ERROR:------------- name 'error' is not defined  ----------  wind speed in Zollikofen July 19, 2021 10h\n",
      "QUERY:  Moon Phase calculatorJuly 19, 2021 10h\n"
     ]
    },
    {
     "name": "stderr",
     "output_type": "stream",
     "text": [
      "100%|██████████████████████████████████████████████████████████████████████████████| 561/561 [1:15:06<00:00,  8.03s/it]"
     ]
    },
    {
     "name": "stdout",
     "output_type": "stream",
     "text": [
      "(7043, 7)\n"
     ]
    },
    {
     "name": "stderr",
     "output_type": "stream",
     "text": [
      "\n"
     ]
    },
    {
     "data": {
      "text/html": [
       "<div>\n",
       "<style scoped>\n",
       "    .dataframe tbody tr th:only-of-type {\n",
       "        vertical-align: middle;\n",
       "    }\n",
       "\n",
       "    .dataframe tbody tr th {\n",
       "        vertical-align: top;\n",
       "    }\n",
       "\n",
       "    .dataframe thead th {\n",
       "        text-align: right;\n",
       "    }\n",
       "</style>\n",
       "<table border=\"1\" class=\"dataframe\">\n",
       "  <thead>\n",
       "    <tr style=\"text-align: right;\">\n",
       "      <th></th>\n",
       "      <th>date</th>\n",
       "      <th>temperature</th>\n",
       "      <th>humidity</th>\n",
       "      <th>wind speed</th>\n",
       "      <th>Precipitation amount</th>\n",
       "      <th>query</th>\n",
       "      <th>Moon Phase calculator</th>\n",
       "    </tr>\n",
       "  </thead>\n",
       "  <tbody>\n",
       "    <tr>\n",
       "      <th>2</th>\n",
       "      <td>2021-07-19 09:00:00</td>\n",
       "      <td>20 °C\\n(9:00 am CEST | Monday, July 19, 2021)</td>\n",
       "      <td>average: 73% (69 to 78%)\\n(9:00 am CEST | Mond...</td>\n",
       "      <td>2 m/s\\n(9:00 am CEST | Monday, July 19, 2021)</td>\n",
       "      <td>no precipitation\\n(9:00 am CEST | Monday, July...</td>\n",
       "      <td>Moon Phase calculatorJuly 19, 2021 9h</td>\n",
       "      <td>| waxing gibbous moon\\n70.97% illuminated</td>\n",
       "    </tr>\n",
       "    <tr>\n",
       "      <th>3</th>\n",
       "      <td>2021-07-19 10:00:00</td>\n",
       "      <td>ERROR</td>\n",
       "      <td>ERROR</td>\n",
       "      <td>ERROR</td>\n",
       "      <td>(unknown)\\n(10:00 am CEST | Monday, July 19, 2...</td>\n",
       "      <td>Moon Phase calculatorJuly 19, 2021 10h</td>\n",
       "      <td>| waxing gibbous moon\\n71.41% illuminated</td>\n",
       "    </tr>\n",
       "  </tbody>\n",
       "</table>\n",
       "</div>"
      ],
      "text/plain": [
       "                 date                                    temperature  \\\n",
       "2 2021-07-19 09:00:00  20 °C\\n(9:00 am CEST | Monday, July 19, 2021)   \n",
       "3 2021-07-19 10:00:00                                          ERROR   \n",
       "\n",
       "                                            humidity  \\\n",
       "2  average: 73% (69 to 78%)\\n(9:00 am CEST | Mond...   \n",
       "3                                              ERROR   \n",
       "\n",
       "                                      wind speed  \\\n",
       "2  2 m/s\\n(9:00 am CEST | Monday, July 19, 2021)   \n",
       "3                                          ERROR   \n",
       "\n",
       "                                Precipitation amount  \\\n",
       "2  no precipitation\\n(9:00 am CEST | Monday, July...   \n",
       "3  (unknown)\\n(10:00 am CEST | Monday, July 19, 2...   \n",
       "\n",
       "                                    query  \\\n",
       "2   Moon Phase calculatorJuly 19, 2021 9h   \n",
       "3  Moon Phase calculatorJuly 19, 2021 10h   \n",
       "\n",
       "                       Moon Phase calculator  \n",
       "2  | waxing gibbous moon\\n70.97% illuminated  \n",
       "3  | waxing gibbous moon\\n71.41% illuminated  "
      ]
     },
     "metadata": {},
     "output_type": "display_data"
    }
   ],
   "source": [
    "#not same as : https://weather.plus/observations-weather-station.php?dest=Bern-Zollikofen&id=066310&type=synop&day=20200713, our\n",
    "#results are less consistent :( \n",
    "#ATTENTION: monthly api calls limited to 2'000\n",
    "#if not working, save query and results: \"ERROR\", but continue the other query from the same date\n",
    "#open if exist\n",
    "li_df = []\n",
    "for i,d in enumerate(tqdm.tqdm(Daterange)):\n",
    "    now_ = dt.datetime.now()\n",
    "    #dont get the data in advance\n",
    "    if d<now_:      \n",
    "        dico = {'date':d}\n",
    "        for type_ in li_type:\n",
    "            try:                    \n",
    "                query = '%s in Zollikofen '%type_+d.strftime('%B')+' '+str(d.day)+', '+str(d.year)+' '+str(d.hour)+'h'\n",
    "                if type_=='Moon Phase calculator':\n",
    "                    query = type_+d.strftime('%B')+' '+str(d.day)+', '+str(d.year)+' '+str(d.hour)+'h'                    \n",
    "                print('QUERY: ',query)\n",
    "                dico['query'] = query\n",
    "                res = client.query(query)\n",
    "                for t in res.results:\n",
    "                    if 'no data available' in t.text:\n",
    "                        print('ERROR: no data available------------- ', query)\n",
    "                        error\n",
    "                    dico[type_] = t.text\n",
    "            except Exception as e:\n",
    "                print('ERROR:-------------', e, ' ---------- ', query)\n",
    "                dico[type_] = 'ERROR'\n",
    "        li_df.append(dico)\n",
    "        dico = {}\n",
    "        if i%10==0:\n",
    "            df_ = pd.DataFrame(li_df)\n",
    "            df = pd.concat([df,df_])\n",
    "            df.to_csv(path_weather, index=False, sep=';')\n",
    "            li_df = []\n",
    "            print(df.shape)\n",
    "            display(df.tail(2))\n",
    "df_ = pd.DataFrame(li_df)\n",
    "df = pd.concat([df,df_])\n",
    "df.to_csv(path_weather, index=False, sep=';')\n",
    "print(df.shape)\n",
    "display(df.tail(2))"
   ]
  },
  {
   "cell_type": "code",
   "execution_count": 6,
   "metadata": {},
   "outputs": [
    {
     "name": "stdout",
     "output_type": "stream",
     "text": [
      "(71, 7)\n"
     ]
    },
    {
     "data": {
      "text/html": [
       "<div>\n",
       "<style scoped>\n",
       "    .dataframe tbody tr th:only-of-type {\n",
       "        vertical-align: middle;\n",
       "    }\n",
       "\n",
       "    .dataframe tbody tr th {\n",
       "        vertical-align: top;\n",
       "    }\n",
       "\n",
       "    .dataframe thead th {\n",
       "        text-align: right;\n",
       "    }\n",
       "</style>\n",
       "<table border=\"1\" class=\"dataframe\">\n",
       "  <thead>\n",
       "    <tr style=\"text-align: right;\">\n",
       "      <th></th>\n",
       "      <th>date</th>\n",
       "      <th>temperature</th>\n",
       "      <th>humidity</th>\n",
       "      <th>wind speed</th>\n",
       "      <th>Precipitation amount</th>\n",
       "      <th>query</th>\n",
       "      <th>Moon Phase calculator</th>\n",
       "    </tr>\n",
       "  </thead>\n",
       "  <tbody>\n",
       "    <tr>\n",
       "      <th>0</th>\n",
       "      <td>2020-11-05 22:00:00</td>\n",
       "      <td>8 °C\\n(10:00 pm CET | Thursday, November 5, 2020)</td>\n",
       "      <td>ERROR</td>\n",
       "      <td>1 m/s\\n(10:00 pm CET | Thursday, November 5, 2...</td>\n",
       "      <td>(unknown)\\n(10:00 pm CET | Thursday, November ...</td>\n",
       "      <td>Moon Phase calculatorNovember 5, 2020 22h</td>\n",
       "      <td>| waning gibbous moon\\n76.55% illuminated</td>\n",
       "    </tr>\n",
       "    <tr>\n",
       "      <th>0</th>\n",
       "      <td>2020-11-16 19:00:00</td>\n",
       "      <td>7 °C\\n(7:00 pm CET | Monday, November 16, 2020)</td>\n",
       "      <td>ERROR</td>\n",
       "      <td>1 m/s\\n(7:00 pm CET | Monday, November 16, 2020)</td>\n",
       "      <td>(unknown)\\n(7:00 pm CET | Monday, November 16,...</td>\n",
       "      <td>Moon Phase calculatorNovember 16, 2020 19h</td>\n",
       "      <td>| waxing crescent moon\\n3.48% illuminated</td>\n",
       "    </tr>\n",
       "    <tr>\n",
       "      <th>1</th>\n",
       "      <td>2020-11-16 21:00:00</td>\n",
       "      <td>5 °C\\n(9:00 pm CET | Monday, November 16, 2020)</td>\n",
       "      <td>ERROR</td>\n",
       "      <td>0 m/s\\n(9:00 pm CET | Monday, November 16, 2020)</td>\n",
       "      <td>(unknown)\\n(9:00 pm CET | Monday, November 16,...</td>\n",
       "      <td>Moon Phase calculatorNovember 16, 2020 21h</td>\n",
       "      <td>| waxing crescent moon\\n3.86% illuminated</td>\n",
       "    </tr>\n",
       "    <tr>\n",
       "      <th>2</th>\n",
       "      <td>2020-12-15 21:00:00</td>\n",
       "      <td>4 °C\\n(9:00 pm CET | Tuesday, December 15, 2020)</td>\n",
       "      <td>ERROR</td>\n",
       "      <td>1 m/s\\n(9:00 pm CET | Tuesday, December 15, 2020)</td>\n",
       "      <td>(unknown)\\n(9:00 pm CET | Tuesday, December 15...</td>\n",
       "      <td>Moon Phase calculatorDecember 15, 2020 21h</td>\n",
       "      <td>| waxing crescent moon\\n1.86% illuminated</td>\n",
       "    </tr>\n",
       "    <tr>\n",
       "      <th>3</th>\n",
       "      <td>2021-02-08 17:00:00</td>\n",
       "      <td>5 °C\\n(5:00 pm CET | Monday, February 8, 2021)</td>\n",
       "      <td>ERROR</td>\n",
       "      <td>5 m/s\\n(5:00 pm CET | Monday, February 8, 2021)</td>\n",
       "      <td>(unknown)\\n(5:00 pm CET | Monday, February 8, ...</td>\n",
       "      <td>Moon Phase calculatorFebruary 8, 2021 17h</td>\n",
       "      <td>| waning crescent moon\\n11.27% illuminated</td>\n",
       "    </tr>\n",
       "    <tr>\n",
       "      <th>...</th>\n",
       "      <td>...</td>\n",
       "      <td>...</td>\n",
       "      <td>...</td>\n",
       "      <td>...</td>\n",
       "      <td>...</td>\n",
       "      <td>...</td>\n",
       "      <td>...</td>\n",
       "    </tr>\n",
       "    <tr>\n",
       "      <th>5</th>\n",
       "      <td>2021-06-22 06:00:00</td>\n",
       "      <td>15 °C\\n(6:00 am CEST | Tuesday, June 22, 2021)</td>\n",
       "      <td>ERROR</td>\n",
       "      <td>1 m/s\\n(6:00 am CEST | Tuesday, June 22, 2021)</td>\n",
       "      <td>no precipitation\\n(6:00 am CEST | Tuesday, Jun...</td>\n",
       "      <td>Moon Phase calculatorJune 22, 2021 6h</td>\n",
       "      <td>| waxing gibbous moon\\n90.22% illuminated</td>\n",
       "    </tr>\n",
       "    <tr>\n",
       "      <th>1</th>\n",
       "      <td>2021-07-13 02:00:00</td>\n",
       "      <td>16 °C\\n(2:00 am CEST | Tuesday, July 13, 2021)</td>\n",
       "      <td>average: 100% (100%)\\n(2:00 am CEST | Tuesday,...</td>\n",
       "      <td>ERROR</td>\n",
       "      <td>no precipitation\\n(2:00 am CEST | Tuesday, Jul...</td>\n",
       "      <td>Moon Phase calculatorJuly 13, 2021 2h</td>\n",
       "      <td>| waxing crescent moon\\n9.01% illuminated</td>\n",
       "    </tr>\n",
       "    <tr>\n",
       "      <th>7</th>\n",
       "      <td>2021-07-13 08:00:00</td>\n",
       "      <td>13 °C\\n(8:00 am CEST | Tuesday, July 13, 2021)</td>\n",
       "      <td>ERROR</td>\n",
       "      <td>2 m/s\\n(8:00 am CEST | Tuesday, July 13, 2021)</td>\n",
       "      <td>rain\\n(8:00 am CEST | Tuesday, July 13, 2021)</td>\n",
       "      <td>Moon Phase calculatorJuly 13, 2021 8h</td>\n",
       "      <td>| waxing crescent moon\\n10.56% illuminated</td>\n",
       "    </tr>\n",
       "    <tr>\n",
       "      <th>2</th>\n",
       "      <td>2021-07-15 15:00:00</td>\n",
       "      <td>16 °C\\n(3:00 pm CEST | Thursday, July 15, 2021)</td>\n",
       "      <td>average: 80% (77 to 83%)\\n(3:00 pm CEST | Thur...</td>\n",
       "      <td>4 m/s\\n(3:00 pm CEST | Thursday, July 15, 2021)</td>\n",
       "      <td>ERROR</td>\n",
       "      <td>Moon Phase calculatorJuly 15, 2021 15h</td>\n",
       "      <td>| waxing crescent moon\\n29.74% illuminated</td>\n",
       "    </tr>\n",
       "    <tr>\n",
       "      <th>3</th>\n",
       "      <td>2021-07-19 10:00:00</td>\n",
       "      <td>ERROR</td>\n",
       "      <td>ERROR</td>\n",
       "      <td>ERROR</td>\n",
       "      <td>(unknown)\\n(10:00 am CEST | Monday, July 19, 2...</td>\n",
       "      <td>Moon Phase calculatorJuly 19, 2021 10h</td>\n",
       "      <td>| waxing gibbous moon\\n71.41% illuminated</td>\n",
       "    </tr>\n",
       "  </tbody>\n",
       "</table>\n",
       "<p>71 rows × 7 columns</p>\n",
       "</div>"
      ],
      "text/plain": [
       "                  date                                        temperature  \\\n",
       "0  2020-11-05 22:00:00  8 °C\\n(10:00 pm CET | Thursday, November 5, 2020)   \n",
       "0  2020-11-16 19:00:00    7 °C\\n(7:00 pm CET | Monday, November 16, 2020)   \n",
       "1  2020-11-16 21:00:00    5 °C\\n(9:00 pm CET | Monday, November 16, 2020)   \n",
       "2  2020-12-15 21:00:00   4 °C\\n(9:00 pm CET | Tuesday, December 15, 2020)   \n",
       "3  2021-02-08 17:00:00     5 °C\\n(5:00 pm CET | Monday, February 8, 2021)   \n",
       "..                 ...                                                ...   \n",
       "5  2021-06-22 06:00:00     15 °C\\n(6:00 am CEST | Tuesday, June 22, 2021)   \n",
       "1  2021-07-13 02:00:00     16 °C\\n(2:00 am CEST | Tuesday, July 13, 2021)   \n",
       "7  2021-07-13 08:00:00     13 °C\\n(8:00 am CEST | Tuesday, July 13, 2021)   \n",
       "2  2021-07-15 15:00:00    16 °C\\n(3:00 pm CEST | Thursday, July 15, 2021)   \n",
       "3  2021-07-19 10:00:00                                              ERROR   \n",
       "\n",
       "                                             humidity  \\\n",
       "0                                               ERROR   \n",
       "0                                               ERROR   \n",
       "1                                               ERROR   \n",
       "2                                               ERROR   \n",
       "3                                               ERROR   \n",
       "..                                                ...   \n",
       "5                                               ERROR   \n",
       "1   average: 100% (100%)\\n(2:00 am CEST | Tuesday,...   \n",
       "7                                               ERROR   \n",
       "2   average: 80% (77 to 83%)\\n(3:00 pm CEST | Thur...   \n",
       "3                                               ERROR   \n",
       "\n",
       "                                           wind speed  \\\n",
       "0   1 m/s\\n(10:00 pm CET | Thursday, November 5, 2...   \n",
       "0    1 m/s\\n(7:00 pm CET | Monday, November 16, 2020)   \n",
       "1    0 m/s\\n(9:00 pm CET | Monday, November 16, 2020)   \n",
       "2   1 m/s\\n(9:00 pm CET | Tuesday, December 15, 2020)   \n",
       "3     5 m/s\\n(5:00 pm CET | Monday, February 8, 2021)   \n",
       "..                                                ...   \n",
       "5      1 m/s\\n(6:00 am CEST | Tuesday, June 22, 2021)   \n",
       "1                                               ERROR   \n",
       "7      2 m/s\\n(8:00 am CEST | Tuesday, July 13, 2021)   \n",
       "2     4 m/s\\n(3:00 pm CEST | Thursday, July 15, 2021)   \n",
       "3                                               ERROR   \n",
       "\n",
       "                                 Precipitation amount  \\\n",
       "0   (unknown)\\n(10:00 pm CET | Thursday, November ...   \n",
       "0   (unknown)\\n(7:00 pm CET | Monday, November 16,...   \n",
       "1   (unknown)\\n(9:00 pm CET | Monday, November 16,...   \n",
       "2   (unknown)\\n(9:00 pm CET | Tuesday, December 15...   \n",
       "3   (unknown)\\n(5:00 pm CET | Monday, February 8, ...   \n",
       "..                                                ...   \n",
       "5   no precipitation\\n(6:00 am CEST | Tuesday, Jun...   \n",
       "1   no precipitation\\n(2:00 am CEST | Tuesday, Jul...   \n",
       "7       rain\\n(8:00 am CEST | Tuesday, July 13, 2021)   \n",
       "2                                               ERROR   \n",
       "3   (unknown)\\n(10:00 am CEST | Monday, July 19, 2...   \n",
       "\n",
       "                                         query  \\\n",
       "0    Moon Phase calculatorNovember 5, 2020 22h   \n",
       "0   Moon Phase calculatorNovember 16, 2020 19h   \n",
       "1   Moon Phase calculatorNovember 16, 2020 21h   \n",
       "2   Moon Phase calculatorDecember 15, 2020 21h   \n",
       "3    Moon Phase calculatorFebruary 8, 2021 17h   \n",
       "..                                         ...   \n",
       "5        Moon Phase calculatorJune 22, 2021 6h   \n",
       "1        Moon Phase calculatorJuly 13, 2021 2h   \n",
       "7        Moon Phase calculatorJuly 13, 2021 8h   \n",
       "2       Moon Phase calculatorJuly 15, 2021 15h   \n",
       "3       Moon Phase calculatorJuly 19, 2021 10h   \n",
       "\n",
       "                         Moon Phase calculator  \n",
       "0    | waning gibbous moon\\n76.55% illuminated  \n",
       "0    | waxing crescent moon\\n3.48% illuminated  \n",
       "1    | waxing crescent moon\\n3.86% illuminated  \n",
       "2    | waxing crescent moon\\n1.86% illuminated  \n",
       "3   | waning crescent moon\\n11.27% illuminated  \n",
       "..                                         ...  \n",
       "5    | waxing gibbous moon\\n90.22% illuminated  \n",
       "1    | waxing crescent moon\\n9.01% illuminated  \n",
       "7   | waxing crescent moon\\n10.56% illuminated  \n",
       "2   | waxing crescent moon\\n29.74% illuminated  \n",
       "3    | waxing gibbous moon\\n71.41% illuminated  \n",
       "\n",
       "[71 rows x 7 columns]"
      ]
     },
     "execution_count": 6,
     "metadata": {},
     "output_type": "execute_result"
    }
   ],
   "source": [
    "print(df[df.isin([\"ERROR\"]).any(axis=1)].shape)\n",
    "df[df.isin([\"ERROR\"]).any(axis=1)]"
   ]
  },
  {
   "cell_type": "markdown",
   "metadata": {},
   "source": [
    "df['day'] = df['date'].map(lambda x: dt.datetime.date(x))\n",
    "df['day'].value_counts()"
   ]
  },
  {
   "cell_type": "markdown",
   "metadata": {},
   "source": [
    "#add lune to weather data\n",
    "#dico_d_m = {}\n",
    "for d in tqdm.tqdm(Daterange):\n",
    "    now_ = dt.datetime.now()\n",
    "    #dont get the data in advance\n",
    "    if d<now_:   \n",
    "        if d not in dico_d_m:\n",
    "            try:\n",
    "                query = 'Moon Phase calculator'+d.strftime('%B')+' '+str(d.day)+', '+str(d.year)+' '+str(d.hour)+'h'\n",
    "                res = client.query(query) \n",
    "                for t in res.results:\n",
    "                    dico_d_m[d] = t.text.strip('|').strip(' ')\n",
    "            except Exception as e:\n",
    "                print('ERROR')\n",
    "                print(e)\n",
    "#df['Moon Phase calculator'] = df['date'].map(lambda x: dico_d_m.get(x, 'ERROR'))\n",
    "#print(df[df['Moonphase']=='ERROR'].shape)\n",
    "df"
   ]
  },
  {
   "cell_type": "markdown",
   "metadata": {},
   "source": [
    "df = df.drop(['MoonName','Moon Phase calculator'],axis=1)"
   ]
  },
  {
   "cell_type": "markdown",
   "metadata": {},
   "source": [
    "# Process"
   ]
  },
  {
   "cell_type": "code",
   "execution_count": 7,
   "metadata": {},
   "outputs": [
    {
     "name": "stdout",
     "output_type": "stream",
     "text": [
      "(6971, 13)\n"
     ]
    },
    {
     "data": {
      "text/html": [
       "<div>\n",
       "<style scoped>\n",
       "    .dataframe tbody tr th:only-of-type {\n",
       "        vertical-align: middle;\n",
       "    }\n",
       "\n",
       "    .dataframe tbody tr th {\n",
       "        vertical-align: top;\n",
       "    }\n",
       "\n",
       "    .dataframe thead th {\n",
       "        text-align: right;\n",
       "    }\n",
       "</style>\n",
       "<table border=\"1\" class=\"dataframe\">\n",
       "  <thead>\n",
       "    <tr style=\"text-align: right;\">\n",
       "      <th></th>\n",
       "      <th>Timestamp</th>\n",
       "      <th>temperature</th>\n",
       "      <th>humidity</th>\n",
       "      <th>wind speed</th>\n",
       "      <th>Precipitation amount</th>\n",
       "      <th>query</th>\n",
       "      <th>Moon Phase calculator</th>\n",
       "      <th>date</th>\n",
       "      <th>hour</th>\n",
       "      <th>temperature_C</th>\n",
       "      <th>wind_speed_mpers</th>\n",
       "      <th>humidity_avgpercent</th>\n",
       "      <th>rain</th>\n",
       "    </tr>\n",
       "  </thead>\n",
       "  <tbody>\n",
       "    <tr>\n",
       "      <th>0</th>\n",
       "      <td>2020-09-29 00:00:00</td>\n",
       "      <td>10 °C\\n(12:00 am CEST | Tuesday, September 29,...</td>\n",
       "      <td>average: 100% (100%)\\n(12:00 am CEST | Tuesday...</td>\n",
       "      <td>2 m/s\\n(12:00 am CEST | Tuesday, September 29,...</td>\n",
       "      <td>rain\\n(12:00 am CEST | Tuesday, September 29, ...</td>\n",
       "      <td>Moon Phase calculatorSeptember 29, 2020 0h</td>\n",
       "      <td>| waxing gibbous moon\\n91.87% illuminated</td>\n",
       "      <td>2020-09-29</td>\n",
       "      <td>0</td>\n",
       "      <td>10</td>\n",
       "      <td>2</td>\n",
       "      <td>100</td>\n",
       "      <td>rain</td>\n",
       "    </tr>\n",
       "    <tr>\n",
       "      <th>1</th>\n",
       "      <td>2020-09-29 01:00:00</td>\n",
       "      <td>10 °C\\n(1:00 am CEST | Tuesday, September 29, ...</td>\n",
       "      <td>average: 100% (100%)\\n(1:00 am CEST | Tuesday,...</td>\n",
       "      <td>3 m/s\\n(1:00 am CEST | Tuesday, September 29, ...</td>\n",
       "      <td>rain\\n(1:00 am CEST | Tuesday, September 29, 2...</td>\n",
       "      <td>Moon Phase calculatorSeptember 29, 2020 1h</td>\n",
       "      <td>| waxing gibbous moon\\n92.09% illuminated</td>\n",
       "      <td>2020-09-29</td>\n",
       "      <td>1</td>\n",
       "      <td>10</td>\n",
       "      <td>3</td>\n",
       "      <td>100</td>\n",
       "      <td>rain</td>\n",
       "    </tr>\n",
       "    <tr>\n",
       "      <th>2</th>\n",
       "      <td>2020-09-29 02:00:00</td>\n",
       "      <td>10 °C\\n(2:00 am CEST | Tuesday, September 29, ...</td>\n",
       "      <td>average: 100% (100%)\\n(2:00 am CEST | Tuesday,...</td>\n",
       "      <td>3 m/s\\n(2:00 am CEST | Tuesday, September 29, ...</td>\n",
       "      <td>rain\\n(2:00 am CEST | Tuesday, September 29, 2...</td>\n",
       "      <td>Moon Phase calculatorSeptember 29, 2020 2h</td>\n",
       "      <td>| waxing gibbous moon\\n92.30% illuminated</td>\n",
       "      <td>2020-09-29</td>\n",
       "      <td>2</td>\n",
       "      <td>10</td>\n",
       "      <td>3</td>\n",
       "      <td>100</td>\n",
       "      <td>rain</td>\n",
       "    </tr>\n",
       "  </tbody>\n",
       "</table>\n",
       "</div>"
      ],
      "text/plain": [
       "            Timestamp                                        temperature  \\\n",
       "0 2020-09-29 00:00:00  10 °C\\n(12:00 am CEST | Tuesday, September 29,...   \n",
       "1 2020-09-29 01:00:00  10 °C\\n(1:00 am CEST | Tuesday, September 29, ...   \n",
       "2 2020-09-29 02:00:00  10 °C\\n(2:00 am CEST | Tuesday, September 29, ...   \n",
       "\n",
       "                                            humidity  \\\n",
       "0  average: 100% (100%)\\n(12:00 am CEST | Tuesday...   \n",
       "1  average: 100% (100%)\\n(1:00 am CEST | Tuesday,...   \n",
       "2  average: 100% (100%)\\n(2:00 am CEST | Tuesday,...   \n",
       "\n",
       "                                          wind speed  \\\n",
       "0  2 m/s\\n(12:00 am CEST | Tuesday, September 29,...   \n",
       "1  3 m/s\\n(1:00 am CEST | Tuesday, September 29, ...   \n",
       "2  3 m/s\\n(2:00 am CEST | Tuesday, September 29, ...   \n",
       "\n",
       "                                Precipitation amount  \\\n",
       "0  rain\\n(12:00 am CEST | Tuesday, September 29, ...   \n",
       "1  rain\\n(1:00 am CEST | Tuesday, September 29, 2...   \n",
       "2  rain\\n(2:00 am CEST | Tuesday, September 29, 2...   \n",
       "\n",
       "                                        query  \\\n",
       "0  Moon Phase calculatorSeptember 29, 2020 0h   \n",
       "1  Moon Phase calculatorSeptember 29, 2020 1h   \n",
       "2  Moon Phase calculatorSeptember 29, 2020 2h   \n",
       "\n",
       "                       Moon Phase calculator       date  hour  temperature_C  \\\n",
       "0  | waxing gibbous moon\\n91.87% illuminated 2020-09-29     0             10   \n",
       "1  | waxing gibbous moon\\n92.09% illuminated 2020-09-29     1             10   \n",
       "2  | waxing gibbous moon\\n92.30% illuminated 2020-09-29     2             10   \n",
       "\n",
       "   wind_speed_mpers  humidity_avgpercent  rain  \n",
       "0                 2                  100  rain  \n",
       "1                 3                  100  rain  \n",
       "2                 3                  100  rain  "
      ]
     },
     "execution_count": 7,
     "metadata": {},
     "output_type": "execute_result"
    }
   ],
   "source": [
    "#add weather as environemntal factor\n",
    "path_ = r'C:\\Users\\camil\\Desktop\\vm_exchange\\PhD_Data\\Weather'\n",
    "path_weather = os.path.join(path_,'weather.csv')\n",
    "df_weather = pd.read_csv(path_weather, sep=';', parse_dates=['date'])\n",
    "df_weather = df_weather.drop_duplicates(subset=None, keep='first', inplace=False)\n",
    "#remove excpetions\n",
    "x = ', 1, 0,  , °, C, \\n, (, 1, 2, :, 0, 0,  , a, m,  , C, E, T , | , F, r, i, d, a, y, ,,  , O, c, t, o, b, e, r,  , 3, 0, ,,  , 2, 0, 2, 0, ),'\n",
    "df_weather['temperature'] = df_weather['temperature'].replace(x, x.replace(', ',''))\n",
    "x = '3×10^0 m/s\\n(1:00 pm CET | Sunday, January 10, 2021)'\n",
    "df_weather['wind speed'] = df_weather['wind speed'].replace(x, 'ERROR')\n",
    "#remove the rows with at least one error\n",
    "df_weather = df_weather[~df_weather.isin([\"ERROR\"]).any(axis=1)]\n",
    "#date\n",
    "df_weather.rename(columns={'date':'Timestamp'}, inplace=True)\n",
    "df_weather['date'] = df_weather['Timestamp'].map(lambda x: dt.datetime(x.year,x.month,x.day))\n",
    "df_weather['hour'] = df_weather['Timestamp'].map(lambda x: x.hour)\n",
    "#add usefull variable\n",
    "df_weather['temperature_C'] = df_weather['temperature'].map(lambda x: int(x.split('\\n')[0].split(' ')[0]))\n",
    "df_weather['wind_speed_mpers'] = df_weather['wind speed'].map(lambda x: int(x.split('\\n')[0].split(' ')[0]))\n",
    "df_weather['humidity_avgpercent'] = df_weather['humidity'].map(lambda x: int(x.split('%')[0].split(' ')[-1].strip()))\n",
    "df_weather['rain'] = df_weather['Precipitation amount'].map(lambda x: x.split('\\n')[0])\n",
    "df_weather['rain'] = df_weather['rain'].replace('rain | snow','snow | rain')\n",
    "df_weather.to_csv(os.path.join(path_,'Weather_process.csv'), index=False, sep=';')\n",
    "print(df_weather.shape)\n",
    "df_weather.head(3)"
   ]
  },
  {
   "cell_type": "code",
   "execution_count": 8,
   "metadata": {},
   "outputs": [
    {
     "data": {
      "text/html": [
       "<div>\n",
       "<style scoped>\n",
       "    .dataframe tbody tr th:only-of-type {\n",
       "        vertical-align: middle;\n",
       "    }\n",
       "\n",
       "    .dataframe tbody tr th {\n",
       "        vertical-align: top;\n",
       "    }\n",
       "\n",
       "    .dataframe thead th {\n",
       "        text-align: right;\n",
       "    }\n",
       "</style>\n",
       "<table border=\"1\" class=\"dataframe\">\n",
       "  <thead>\n",
       "    <tr style=\"text-align: right;\">\n",
       "      <th></th>\n",
       "      <th>Timestamp</th>\n",
       "      <th>temperature</th>\n",
       "      <th>humidity</th>\n",
       "      <th>wind speed</th>\n",
       "      <th>Precipitation amount</th>\n",
       "      <th>query</th>\n",
       "      <th>Moon Phase calculator</th>\n",
       "      <th>date</th>\n",
       "      <th>hour</th>\n",
       "      <th>temperature_C</th>\n",
       "      <th>wind_speed_mpers</th>\n",
       "      <th>humidity_avgpercent</th>\n",
       "      <th>rain</th>\n",
       "      <th>MoonName</th>\n",
       "      <th>Illumination_percentage</th>\n",
       "      <th>croissant_decroissant</th>\n",
       "    </tr>\n",
       "  </thead>\n",
       "  <tbody>\n",
       "    <tr>\n",
       "      <th>0</th>\n",
       "      <td>2020-09-29 00:00:00</td>\n",
       "      <td>10 °C\\n(12:00 am CEST | Tuesday, September 29,...</td>\n",
       "      <td>average: 100% (100%)\\n(12:00 am CEST | Tuesday...</td>\n",
       "      <td>2 m/s\\n(12:00 am CEST | Tuesday, September 29,...</td>\n",
       "      <td>rain\\n(12:00 am CEST | Tuesday, September 29, ...</td>\n",
       "      <td>Moon Phase calculatorSeptember 29, 2020 0h</td>\n",
       "      <td>| waxing gibbous moon\\n91.87% illuminated</td>\n",
       "      <td>2020-09-29</td>\n",
       "      <td>0</td>\n",
       "      <td>10</td>\n",
       "      <td>2</td>\n",
       "      <td>100</td>\n",
       "      <td>rain</td>\n",
       "      <td>waxing gibbous moon</td>\n",
       "      <td>91.87</td>\n",
       "      <td>LC</td>\n",
       "    </tr>\n",
       "    <tr>\n",
       "      <th>1</th>\n",
       "      <td>2020-09-29 01:00:00</td>\n",
       "      <td>10 °C\\n(1:00 am CEST | Tuesday, September 29, ...</td>\n",
       "      <td>average: 100% (100%)\\n(1:00 am CEST | Tuesday,...</td>\n",
       "      <td>3 m/s\\n(1:00 am CEST | Tuesday, September 29, ...</td>\n",
       "      <td>rain\\n(1:00 am CEST | Tuesday, September 29, 2...</td>\n",
       "      <td>Moon Phase calculatorSeptember 29, 2020 1h</td>\n",
       "      <td>| waxing gibbous moon\\n92.09% illuminated</td>\n",
       "      <td>2020-09-29</td>\n",
       "      <td>1</td>\n",
       "      <td>10</td>\n",
       "      <td>3</td>\n",
       "      <td>100</td>\n",
       "      <td>rain</td>\n",
       "      <td>waxing gibbous moon</td>\n",
       "      <td>92.09</td>\n",
       "      <td>LC</td>\n",
       "    </tr>\n",
       "    <tr>\n",
       "      <th>2</th>\n",
       "      <td>2020-09-29 02:00:00</td>\n",
       "      <td>10 °C\\n(2:00 am CEST | Tuesday, September 29, ...</td>\n",
       "      <td>average: 100% (100%)\\n(2:00 am CEST | Tuesday,...</td>\n",
       "      <td>3 m/s\\n(2:00 am CEST | Tuesday, September 29, ...</td>\n",
       "      <td>rain\\n(2:00 am CEST | Tuesday, September 29, 2...</td>\n",
       "      <td>Moon Phase calculatorSeptember 29, 2020 2h</td>\n",
       "      <td>| waxing gibbous moon\\n92.30% illuminated</td>\n",
       "      <td>2020-09-29</td>\n",
       "      <td>2</td>\n",
       "      <td>10</td>\n",
       "      <td>3</td>\n",
       "      <td>100</td>\n",
       "      <td>rain</td>\n",
       "      <td>waxing gibbous moon</td>\n",
       "      <td>92.30</td>\n",
       "      <td>LC</td>\n",
       "    </tr>\n",
       "  </tbody>\n",
       "</table>\n",
       "</div>"
      ],
      "text/plain": [
       "            Timestamp                                        temperature  \\\n",
       "0 2020-09-29 00:00:00  10 °C\\n(12:00 am CEST | Tuesday, September 29,...   \n",
       "1 2020-09-29 01:00:00  10 °C\\n(1:00 am CEST | Tuesday, September 29, ...   \n",
       "2 2020-09-29 02:00:00  10 °C\\n(2:00 am CEST | Tuesday, September 29, ...   \n",
       "\n",
       "                                            humidity  \\\n",
       "0  average: 100% (100%)\\n(12:00 am CEST | Tuesday...   \n",
       "1  average: 100% (100%)\\n(1:00 am CEST | Tuesday,...   \n",
       "2  average: 100% (100%)\\n(2:00 am CEST | Tuesday,...   \n",
       "\n",
       "                                          wind speed  \\\n",
       "0  2 m/s\\n(12:00 am CEST | Tuesday, September 29,...   \n",
       "1  3 m/s\\n(1:00 am CEST | Tuesday, September 29, ...   \n",
       "2  3 m/s\\n(2:00 am CEST | Tuesday, September 29, ...   \n",
       "\n",
       "                                Precipitation amount  \\\n",
       "0  rain\\n(12:00 am CEST | Tuesday, September 29, ...   \n",
       "1  rain\\n(1:00 am CEST | Tuesday, September 29, 2...   \n",
       "2  rain\\n(2:00 am CEST | Tuesday, September 29, 2...   \n",
       "\n",
       "                                        query  \\\n",
       "0  Moon Phase calculatorSeptember 29, 2020 0h   \n",
       "1  Moon Phase calculatorSeptember 29, 2020 1h   \n",
       "2  Moon Phase calculatorSeptember 29, 2020 2h   \n",
       "\n",
       "                       Moon Phase calculator       date  hour  temperature_C  \\\n",
       "0  | waxing gibbous moon\\n91.87% illuminated 2020-09-29     0             10   \n",
       "1  | waxing gibbous moon\\n92.09% illuminated 2020-09-29     1             10   \n",
       "2  | waxing gibbous moon\\n92.30% illuminated 2020-09-29     2             10   \n",
       "\n",
       "   wind_speed_mpers  humidity_avgpercent  rain             MoonName  \\\n",
       "0                 2                  100  rain  waxing gibbous moon   \n",
       "1                 3                  100  rain  waxing gibbous moon   \n",
       "2                 3                  100  rain  waxing gibbous moon   \n",
       "\n",
       "   Illumination_percentage croissant_decroissant  \n",
       "0                    91.87                    LC  \n",
       "1                    92.09                    LC  \n",
       "2                    92.30                    LC  "
      ]
     },
     "execution_count": 8,
     "metadata": {},
     "output_type": "execute_result"
    }
   ],
   "source": [
    "df_weather['MoonName'] = df_weather['Moon Phase calculator'].map(lambda x: x.strip('|').strip(' ').split('\\n')[0] if x!='ERROR' else 'ERROR')\n",
    "df_weather['Illumination_percentage'] = df_weather['Moon Phase calculator'].map(lambda x: float(x.strip('|').strip(' ').split('\\n')[1].replace(' illuminated','').strip('%').strip(' ')) if x!='ERROR' else 'ERROR')\n",
    "#print(df['MoaonName'].value_counts())\n",
    "#df['Illumination_percentage'].value_counts()\n",
    "\n",
    "dico_CD = {'ERROR':'ERROR', \n",
    "           'first quarter moon':'LC', \n",
    "           'full moon':'Lchangement', \n",
    "           'last quarter moon':'DC',\n",
    "           'new moon':'Lchangement', \n",
    "           'waning crescent moon':'DC', \n",
    "           'waning gibbous moon':'DC',\n",
    "           'waxing crescent moon':'LC', \n",
    "           'waxing gibbous moon':'LC'}\n",
    "#it seems that the order of the events are as follow:\n",
    "#full moon, waning gibbous moon, last quarter moon, waning crescent moon, \n",
    "#new moon, waxing crescent moon, first quarter moon, waxing gibbous moon,\n",
    "#full moon,...\n",
    "#defintion: De la Nouvelle Lune (éclat minimum) à la Pleine Lune (éclat maximum) on dit que la Lune est Croissante car \n",
    "#sa partie éclairée grossit de jour en jour. De la Pleine Lune à la Nouvelle Lune, on dit que la Lune est Décroissante.\n",
    "df_weather['croissant_decroissant'] = df_weather['MoonName'].map(lambda x: dico_CD[x])\n",
    "#lucie ascendatne et descendante n'est pas indiqué ici.\n",
    "df_weather.head(3)"
   ]
  },
  {
   "cell_type": "code",
   "execution_count": 9,
   "metadata": {},
   "outputs": [
    {
     "data": {
      "text/plain": [
       "LC             3331\n",
       "DC             3248\n",
       "Lchangement     392\n",
       "Name: croissant_decroissant, dtype: int64"
      ]
     },
     "execution_count": 9,
     "metadata": {},
     "output_type": "execute_result"
    }
   ],
   "source": [
    "df_weather['croissant_decroissant'].value_counts()"
   ]
  },
  {
   "cell_type": "code",
   "execution_count": 10,
   "metadata": {},
   "outputs": [
    {
     "data": {
      "text/html": [
       "<div>\n",
       "<style scoped>\n",
       "    .dataframe tbody tr th:only-of-type {\n",
       "        vertical-align: middle;\n",
       "    }\n",
       "\n",
       "    .dataframe tbody tr th {\n",
       "        vertical-align: top;\n",
       "    }\n",
       "\n",
       "    .dataframe thead th {\n",
       "        text-align: right;\n",
       "    }\n",
       "</style>\n",
       "<table border=\"1\" class=\"dataframe\">\n",
       "  <thead>\n",
       "    <tr style=\"text-align: right;\">\n",
       "      <th></th>\n",
       "      <th>MoonName</th>\n",
       "      <th>Illumination_percentage</th>\n",
       "      <th>min_illumination</th>\n",
       "      <th>max_illumination</th>\n",
       "    </tr>\n",
       "  </thead>\n",
       "  <tbody>\n",
       "    <tr>\n",
       "      <th>0</th>\n",
       "      <td>first quarter moon</td>\n",
       "      <td>[44.7, 45.14, 45.58, 46.02, 46.46, 46.9, 47.34...</td>\n",
       "      <td>44.69</td>\n",
       "      <td>55.25</td>\n",
       "    </tr>\n",
       "    <tr>\n",
       "      <th>1</th>\n",
       "      <td>full moon</td>\n",
       "      <td>[99.74, 99.76, 99.78, 99.79, 99.81, 99.82, 99....</td>\n",
       "      <td>99.72</td>\n",
       "      <td>100.00</td>\n",
       "    </tr>\n",
       "    <tr>\n",
       "      <th>2</th>\n",
       "      <td>last quarter moon</td>\n",
       "      <td>[55.07, 54.65, 54.23, 53.81, 53.39, 52.96, 52....</td>\n",
       "      <td>44.73</td>\n",
       "      <td>55.22</td>\n",
       "    </tr>\n",
       "    <tr>\n",
       "      <th>3</th>\n",
       "      <td>new moon</td>\n",
       "      <td>[0.27, 0.23, 0.21, 0.18, 0.16, 0.15, 0.14, 0.1...</td>\n",
       "      <td>0.00</td>\n",
       "      <td>0.28</td>\n",
       "    </tr>\n",
       "    <tr>\n",
       "      <th>4</th>\n",
       "      <td>waning crescent moon</td>\n",
       "      <td>[44.38, 43.95, 43.51, 43.08, 42.65, 42.21, 41....</td>\n",
       "      <td>0.29</td>\n",
       "      <td>44.68</td>\n",
       "    </tr>\n",
       "    <tr>\n",
       "      <th>5</th>\n",
       "      <td>waning gibbous moon</td>\n",
       "      <td>[99.71, 99.68, 99.65, 99.61, 99.58, 99.54, 99....</td>\n",
       "      <td>55.34</td>\n",
       "      <td>99.72</td>\n",
       "    </tr>\n",
       "    <tr>\n",
       "      <th>6</th>\n",
       "      <td>waxing crescent moon</td>\n",
       "      <td>[0.32, 0.37, 0.42, 0.48, 0.54, 0.61, 0.68, 0.7...</td>\n",
       "      <td>0.28</td>\n",
       "      <td>44.69</td>\n",
       "    </tr>\n",
       "    <tr>\n",
       "      <th>7</th>\n",
       "      <td>waxing gibbous moon</td>\n",
       "      <td>[91.87, 92.09, 92.3, 92.51, 92.73, 92.93, 93.1...</td>\n",
       "      <td>55.34</td>\n",
       "      <td>99.71</td>\n",
       "    </tr>\n",
       "  </tbody>\n",
       "</table>\n",
       "</div>"
      ],
      "text/plain": [
       "               MoonName                            Illumination_percentage  \\\n",
       "0    first quarter moon  [44.7, 45.14, 45.58, 46.02, 46.46, 46.9, 47.34...   \n",
       "1             full moon  [99.74, 99.76, 99.78, 99.79, 99.81, 99.82, 99....   \n",
       "2     last quarter moon  [55.07, 54.65, 54.23, 53.81, 53.39, 52.96, 52....   \n",
       "3              new moon  [0.27, 0.23, 0.21, 0.18, 0.16, 0.15, 0.14, 0.1...   \n",
       "4  waning crescent moon  [44.38, 43.95, 43.51, 43.08, 42.65, 42.21, 41....   \n",
       "5   waning gibbous moon  [99.71, 99.68, 99.65, 99.61, 99.58, 99.54, 99....   \n",
       "6  waxing crescent moon  [0.32, 0.37, 0.42, 0.48, 0.54, 0.61, 0.68, 0.7...   \n",
       "7   waxing gibbous moon  [91.87, 92.09, 92.3, 92.51, 92.73, 92.93, 93.1...   \n",
       "\n",
       "   min_illumination  max_illumination  \n",
       "0             44.69             55.25  \n",
       "1             99.72            100.00  \n",
       "2             44.73             55.22  \n",
       "3              0.00              0.28  \n",
       "4              0.29             44.68  \n",
       "5             55.34             99.72  \n",
       "6              0.28             44.69  \n",
       "7             55.34             99.71  "
      ]
     },
     "execution_count": 10,
     "metadata": {},
     "output_type": "execute_result"
    }
   ],
   "source": [
    "#to get a general udnerstanding of the data\n",
    "df_moon = df_weather.groupby(['MoonName'])['Illumination_percentage'].agg(lambda x: list(x)).reset_index()\n",
    "df_moon['min_illumination'] = df_moon['Illumination_percentage'].map(lambda x: min(x) if x!='ERROR' else 'ERROR' )\n",
    "df_moon['max_illumination'] = df_moon['Illumination_percentage'].map(lambda x: max(x) if x!='ERROR' else 'ERROR' )\n",
    "df_moon"
   ]
  },
  {
   "cell_type": "code",
   "execution_count": 11,
   "metadata": {},
   "outputs": [
    {
     "data": {
      "text/plain": [
       "'Moon Phase calculatorSeptember 29, 2020 0h'"
      ]
     },
     "execution_count": 11,
     "metadata": {},
     "output_type": "execute_result"
    }
   ],
   "source": [
    "df_weather['query'].iloc[0]"
   ]
  },
  {
   "cell_type": "code",
   "execution_count": 12,
   "metadata": {},
   "outputs": [
    {
     "name": "stdout",
     "output_type": "stream",
     "text": [
      "(291, 6)\n"
     ]
    },
    {
     "data": {
      "text/html": [
       "<div>\n",
       "<style scoped>\n",
       "    .dataframe tbody tr th:only-of-type {\n",
       "        vertical-align: middle;\n",
       "    }\n",
       "\n",
       "    .dataframe tbody tr th {\n",
       "        vertical-align: top;\n",
       "    }\n",
       "\n",
       "    .dataframe thead th {\n",
       "        text-align: right;\n",
       "    }\n",
       "</style>\n",
       "<table border=\"1\" class=\"dataframe\">\n",
       "  <thead>\n",
       "    <tr style=\"text-align: right;\">\n",
       "      <th></th>\n",
       "      <th>date</th>\n",
       "      <th>temperature_C</th>\n",
       "      <th>humidity_avgpercent</th>\n",
       "      <th>had_rainorsnow</th>\n",
       "      <th>moon_name</th>\n",
       "      <th>Illumination_percentage</th>\n",
       "    </tr>\n",
       "  </thead>\n",
       "  <tbody>\n",
       "    <tr>\n",
       "      <th>0</th>\n",
       "      <td>2020-09-29</td>\n",
       "      <td>12.000</td>\n",
       "      <td>92.125</td>\n",
       "      <td>0</td>\n",
       "      <td>waxing gibbous moon</td>\n",
       "      <td>94.56625</td>\n",
       "    </tr>\n",
       "    <tr>\n",
       "      <th>1</th>\n",
       "      <td>2020-09-30</td>\n",
       "      <td>12.250</td>\n",
       "      <td>80.125</td>\n",
       "      <td>1</td>\n",
       "      <td>waxing gibbous moon</td>\n",
       "      <td>98.01625</td>\n",
       "    </tr>\n",
       "    <tr>\n",
       "      <th>2</th>\n",
       "      <td>2020-10-01</td>\n",
       "      <td>14.125</td>\n",
       "      <td>74.875</td>\n",
       "      <td>0</td>\n",
       "      <td>waxing gibbous moon</td>\n",
       "      <td>99.66250</td>\n",
       "    </tr>\n",
       "  </tbody>\n",
       "</table>\n",
       "</div>"
      ],
      "text/plain": [
       "        date  temperature_C  humidity_avgpercent  had_rainorsnow  \\\n",
       "0 2020-09-29         12.000               92.125               0   \n",
       "1 2020-09-30         12.250               80.125               1   \n",
       "2 2020-10-01         14.125               74.875               0   \n",
       "\n",
       "             moon_name  Illumination_percentage  \n",
       "0  waxing gibbous moon                 94.56625  \n",
       "1  waxing gibbous moon                 98.01625  \n",
       "2  waxing gibbous moon                 99.66250  "
      ]
     },
     "execution_count": 12,
     "metadata": {},
     "output_type": "execute_result"
    }
   ],
   "source": [
    "df_daily_weather = df_weather[df_weather['hour'].isin([10,11,12,13,14,15,16,17])].copy()\n",
    "df_daily_weather = df_daily_weather.groupby(['date']).agg(\n",
    "    temperature_C=pd.NamedAgg(column='temperature_C', aggfunc=lambda x: np.mean(x)),\n",
    "    humidity_avgpercent=pd.NamedAgg(column='humidity_avgpercent', aggfunc=lambda x: np.mean(x)),\n",
    "    had_rainorsnow=pd.NamedAgg(column='rain', aggfunc=lambda x: int(all([i=='no precipitation' for i in x]))),\n",
    "    moon_name=pd.NamedAgg(column='MoonName', aggfunc=lambda x: list(x)[0]),\n",
    "    Illumination_percentage=pd.NamedAgg(column='Illumination_percentage', aggfunc=lambda x: np.mean(x))).reset_index()\n",
    "df_daily_weather.to_csv(os.path.join(path_,'df_daily_weather.csv'), index=False, sep=';')\n",
    "print(df_daily_weather.shape)\n",
    "df_daily_weather.head(3)"
   ]
  },
  {
   "cell_type": "code",
   "execution_count": 13,
   "metadata": {},
   "outputs": [
    {
     "data": {
      "text/plain": [
       "had_rainorsnow\n",
       "0    80.492733\n",
       "1    63.784286\n",
       "Name: humidity_avgpercent, dtype: float64"
      ]
     },
     "execution_count": 13,
     "metadata": {},
     "output_type": "execute_result"
    }
   ],
   "source": [
    "df_daily_weather.groupby(['had_rainorsnow'])['humidity_avgpercent'].agg(lambda x: np.mean(x))"
   ]
  },
  {
   "cell_type": "code",
   "execution_count": null,
   "metadata": {},
   "outputs": [],
   "source": []
  },
  {
   "cell_type": "code",
   "execution_count": null,
   "metadata": {},
   "outputs": [],
   "source": []
  },
  {
   "cell_type": "code",
   "execution_count": null,
   "metadata": {},
   "outputs": [],
   "source": []
  },
  {
   "cell_type": "code",
   "execution_count": null,
   "metadata": {},
   "outputs": [],
   "source": []
  },
  {
   "cell_type": "code",
   "execution_count": null,
   "metadata": {},
   "outputs": [],
   "source": []
  },
  {
   "cell_type": "code",
   "execution_count": null,
   "metadata": {},
   "outputs": [],
   "source": []
  },
  {
   "cell_type": "code",
   "execution_count": null,
   "metadata": {},
   "outputs": [],
   "source": []
  }
 ],
 "metadata": {
  "kernelspec": {
   "display_name": "Python 3",
   "language": "python",
   "name": "python3"
  },
  "language_info": {
   "codemirror_mode": {
    "name": "ipython",
    "version": 3
   },
   "file_extension": ".py",
   "mimetype": "text/x-python",
   "name": "python",
   "nbconvert_exporter": "python",
   "pygments_lexer": "ipython3",
   "version": "3.8.5"
  }
 },
 "nbformat": 4,
 "nbformat_minor": 2
}
