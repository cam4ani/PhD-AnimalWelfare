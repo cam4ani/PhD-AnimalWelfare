{
 "cells": [
  {
   "cell_type": "code",
   "execution_count": 1,
   "metadata": {},
   "outputs": [],
   "source": [
    "#!pip install wolframalpha\n",
    "import datetime as dt\n",
    "import tqdm\n",
    "import os\n",
    "import pandas as pd\n",
    "import glob\n",
    "import numpy as np\n",
    "import sys\n",
    "\n",
    "import wolframalpha\n",
    "app_id = 'JU4PR2-E8JGQVLHXW'\n",
    "client = wolframalpha.Client(app_id)"
   ]
  },
  {
   "cell_type": "code",
   "execution_count": 2,
   "metadata": {},
   "outputs": [
    {
     "name": "stdout",
     "output_type": "stream",
     "text": [
      "3.8.5\n"
     ]
    }
   ],
   "source": [
    "from platform import python_version\n",
    "print(python_version())"
   ]
  },
  {
   "cell_type": "raw",
   "metadata": {},
   "source": [
    "To verify moon data:\n",
    "https://www.calendrier-lunaire.fr/calendrier/octobre-2020/\n",
    "https://www.pleine-lune.org/calendrier-lunaire-2020\n",
    "https://www.timeanddate.com/astronomy/moon/waning-crescent.html"
   ]
  },
  {
   "cell_type": "raw",
   "metadata": {},
   "source": [
    "#url parameter:\n",
    "#https://products.wolframalpha.com/simple-api/documentation/\n",
    "#http://api.wolframalpha.com/v2/query?appid=DEMO&input=population%20france&includepodid=Result\n",
    "http://api.wolframalpha.com/v2/query?appid=JU4PR2-E8JGQVLHXW&input=temperature%20Zollikofen&includepodid=Result"
   ]
  },
  {
   "cell_type": "markdown",
   "metadata": {},
   "source": [
    "#small example\n",
    "query = 'Precipitation amount in Zollikofen on October 6, 2020 1h'\n",
    "res = client.query(query)\n",
    "for t in res.results:\n",
    "    print(t.text)"
   ]
  },
  {
   "cell_type": "markdown",
   "metadata": {},
   "source": [
    "#small example\n",
    "query = 'Precipitation amount in Zollikofen '+d.strftime('%B')+' '+str(d.day)+', '+str(d.year)+' '+str(d.hour)+'h'\n",
    "res = client.query(query)\n",
    "for t in res.results:\n",
    "    print(t.text)"
   ]
  },
  {
   "cell_type": "markdown",
   "metadata": {},
   "source": [
    "#small example\n",
    "d = dt.datetime(2020,1,24,22,44,11)\n",
    "query = 'Moon Phase calculator'+d.strftime('%B')+' '+str(d.day)+', '+str(d.year)+' '+str(d.hour)+'h'\n",
    "res = client.query(query)\n",
    "r = ''\n",
    "for t in res.results:\n",
    "    print(t.text.strip('|').strip(' '))\n",
    "#for verification\n",
    "#https://www.pleine-lune.org/calendrier-lunaire-2020\n",
    "#res"
   ]
  },
  {
   "cell_type": "code",
   "execution_count": 3,
   "metadata": {},
   "outputs": [],
   "source": [
    "li_type = ['Precipitation amount', 'temperature', 'humidity', 'wind speed','Moon Phase calculator'] #pressure\n",
    "#path_ = r'D:\\vm_exchange\\PhD_Data\\Weather'\n",
    "path_ = r'C:\\Users\\camil\\Desktop\\vm_exchange\\PhD_Data\\Weather'"
   ]
  },
  {
   "cell_type": "code",
   "execution_count": 4,
   "metadata": {},
   "outputs": [
    {
     "name": "stdout",
     "output_type": "stream",
     "text": [
      "(4858, 7)\n",
      "We already have 4858 dates of weather\n",
      "(39, 7)\n"
     ]
    },
    {
     "data": {
      "text/html": [
       "<div>\n",
       "<style scoped>\n",
       "    .dataframe tbody tr th:only-of-type {\n",
       "        vertical-align: middle;\n",
       "    }\n",
       "\n",
       "    .dataframe tbody tr th {\n",
       "        vertical-align: top;\n",
       "    }\n",
       "\n",
       "    .dataframe thead th {\n",
       "        text-align: right;\n",
       "    }\n",
       "</style>\n",
       "<table border=\"1\" class=\"dataframe\">\n",
       "  <thead>\n",
       "    <tr style=\"text-align: right;\">\n",
       "      <th></th>\n",
       "      <th>date</th>\n",
       "      <th>temperature</th>\n",
       "      <th>humidity</th>\n",
       "      <th>wind speed</th>\n",
       "      <th>Precipitation amount</th>\n",
       "      <th>query</th>\n",
       "      <th>Moon Phase calculator</th>\n",
       "    </tr>\n",
       "  </thead>\n",
       "  <tbody>\n",
       "    <tr>\n",
       "      <th>4674</th>\n",
       "      <td>2020-11-05 22:00:00</td>\n",
       "      <td>8 °C\\n(10:00 pm CET | Thursday, November 5, 2020)</td>\n",
       "      <td>ERROR</td>\n",
       "      <td>1 m/s\\n(10:00 pm CET | Thursday, November 5, 2...</td>\n",
       "      <td>(unknown)\\n(10:00 pm CET | Thursday, November ...</td>\n",
       "      <td>Moon Phase calculatorNovember 5, 2020 22h</td>\n",
       "      <td>| waning gibbous moon\\n76.55% illuminated</td>\n",
       "    </tr>\n",
       "    <tr>\n",
       "      <th>4675</th>\n",
       "      <td>2020-11-16 19:00:00</td>\n",
       "      <td>7 °C\\n(7:00 pm CET | Monday, November 16, 2020)</td>\n",
       "      <td>ERROR</td>\n",
       "      <td>1 m/s\\n(7:00 pm CET | Monday, November 16, 2020)</td>\n",
       "      <td>(unknown)\\n(7:00 pm CET | Monday, November 16,...</td>\n",
       "      <td>Moon Phase calculatorNovember 16, 2020 19h</td>\n",
       "      <td>| waxing crescent moon\\n3.48% illuminated</td>\n",
       "    </tr>\n",
       "    <tr>\n",
       "      <th>4676</th>\n",
       "      <td>2020-11-16 20:00:00</td>\n",
       "      <td>6 °C\\n(8:00 pm CET | Monday, November 16, 2020)</td>\n",
       "      <td>ERROR</td>\n",
       "      <td>0 m/s\\n(8:00 pm CET | Monday, November 16, 2020)</td>\n",
       "      <td>(unknown)\\n(8:00 pm CET | Monday, November 16,...</td>\n",
       "      <td>Moon Phase calculatorNovember 16, 2020 20h</td>\n",
       "      <td>| waxing crescent moon\\n3.67% illuminated</td>\n",
       "    </tr>\n",
       "    <tr>\n",
       "      <th>4677</th>\n",
       "      <td>2020-11-16 21:00:00</td>\n",
       "      <td>5 °C\\n(9:00 pm CET | Monday, November 16, 2020)</td>\n",
       "      <td>ERROR</td>\n",
       "      <td>0 m/s\\n(9:00 pm CET | Monday, November 16, 2020)</td>\n",
       "      <td>(unknown)\\n(9:00 pm CET | Monday, November 16,...</td>\n",
       "      <td>Moon Phase calculatorNovember 16, 2020 21h</td>\n",
       "      <td>| waxing crescent moon\\n3.86% illuminated</td>\n",
       "    </tr>\n",
       "    <tr>\n",
       "      <th>4678</th>\n",
       "      <td>2020-12-15 21:00:00</td>\n",
       "      <td>4 °C\\n(9:00 pm CET | Tuesday, December 15, 2020)</td>\n",
       "      <td>ERROR</td>\n",
       "      <td>1 m/s\\n(9:00 pm CET | Tuesday, December 15, 2020)</td>\n",
       "      <td>(unknown)\\n(9:00 pm CET | Tuesday, December 15...</td>\n",
       "      <td>Moon Phase calculatorDecember 15, 2020 21h</td>\n",
       "      <td>| waxing crescent moon\\n1.86% illuminated</td>\n",
       "    </tr>\n",
       "    <tr>\n",
       "      <th>4679</th>\n",
       "      <td>2021-02-08 17:00:00</td>\n",
       "      <td>5 °C\\n(5:00 pm CET | Monday, February 8, 2021)</td>\n",
       "      <td>ERROR</td>\n",
       "      <td>5 m/s\\n(5:00 pm CET | Monday, February 8, 2021)</td>\n",
       "      <td>(unknown)\\n(5:00 pm CET | Monday, February 8, ...</td>\n",
       "      <td>Moon Phase calculatorFebruary 8, 2021 17h</td>\n",
       "      <td>| waning crescent moon\\n11.27% illuminated</td>\n",
       "    </tr>\n",
       "    <tr>\n",
       "      <th>4680</th>\n",
       "      <td>2021-02-08 18:00:00</td>\n",
       "      <td>4 °C\\n(6:00 pm CET | Monday, February 8, 2021)</td>\n",
       "      <td>ERROR</td>\n",
       "      <td>5 m/s\\n(6:00 pm CET | Monday, February 8, 2021)</td>\n",
       "      <td>(unknown)\\n(6:00 pm CET | Monday, February 8, ...</td>\n",
       "      <td>Moon Phase calculatorFebruary 8, 2021 18h</td>\n",
       "      <td>| waning crescent moon\\n10.98% illuminated</td>\n",
       "    </tr>\n",
       "    <tr>\n",
       "      <th>4681</th>\n",
       "      <td>2021-02-08 19:00:00</td>\n",
       "      <td>3 °C\\n(7:00 pm CET | Monday, February 8, 2021)</td>\n",
       "      <td>ERROR</td>\n",
       "      <td>4 m/s\\n(7:00 pm CET | Monday, February 8, 2021)</td>\n",
       "      <td>(unknown)\\n(7:00 pm CET | Monday, February 8, ...</td>\n",
       "      <td>Moon Phase calculatorFebruary 8, 2021 19h</td>\n",
       "      <td>| waning crescent moon\\n10.69% illuminated</td>\n",
       "    </tr>\n",
       "    <tr>\n",
       "      <th>4682</th>\n",
       "      <td>2021-02-08 20:00:00</td>\n",
       "      <td>2 °C\\n(8:00 pm CET | Monday, February 8, 2021)</td>\n",
       "      <td>ERROR</td>\n",
       "      <td>4 m/s\\n(8:00 pm CET | Monday, February 8, 2021)</td>\n",
       "      <td>(unknown)\\n(8:00 pm CET | Monday, February 8, ...</td>\n",
       "      <td>Moon Phase calculatorFebruary 8, 2021 20h</td>\n",
       "      <td>| waning crescent moon\\n10.41% illuminated</td>\n",
       "    </tr>\n",
       "    <tr>\n",
       "      <th>4683</th>\n",
       "      <td>2021-02-09 09:00:00</td>\n",
       "      <td>0 °C\\n(9:00 am CET | Tuesday, February 9, 2021)</td>\n",
       "      <td>ERROR</td>\n",
       "      <td>1 m/s\\n(9:00 am CET | Tuesday, February 9, 2021)</td>\n",
       "      <td>(unknown)\\n(9:00 am CET | Tuesday, February 9,...</td>\n",
       "      <td>Moon Phase calculatorFebruary 9, 2021 9h</td>\n",
       "      <td>| waning crescent moon\\n7.06% illuminated</td>\n",
       "    </tr>\n",
       "    <tr>\n",
       "      <th>4684</th>\n",
       "      <td>2021-02-09 10:00:00</td>\n",
       "      <td>0 °C\\n(10:00 am CET | Tuesday, February 9, 2021)</td>\n",
       "      <td>ERROR</td>\n",
       "      <td>1 m/s\\n(10:00 am CET | Tuesday, February 9, 2021)</td>\n",
       "      <td>(unknown)\\n(10:00 am CET | Tuesday, February 9...</td>\n",
       "      <td>Moon Phase calculatorFebruary 9, 2021 10h</td>\n",
       "      <td>| waning crescent moon\\n6.82% illuminated</td>\n",
       "    </tr>\n",
       "    <tr>\n",
       "      <th>4685</th>\n",
       "      <td>2021-02-09 11:00:00</td>\n",
       "      <td>0 °C\\n(11:00 am CET | Tuesday, February 9, 2021)</td>\n",
       "      <td>ERROR</td>\n",
       "      <td>1 m/s\\n(11:00 am CET | Tuesday, February 9, 2021)</td>\n",
       "      <td>(unknown)\\n(11:00 am CET | Tuesday, February 9...</td>\n",
       "      <td>Moon Phase calculatorFebruary 9, 2021 11h</td>\n",
       "      <td>| waning crescent moon\\n6.60% illuminated</td>\n",
       "    </tr>\n",
       "    <tr>\n",
       "      <th>4686</th>\n",
       "      <td>2021-02-09 12:00:00</td>\n",
       "      <td>0 °C\\n(12:00 pm CET | Tuesday, February 9, 2021)</td>\n",
       "      <td>ERROR</td>\n",
       "      <td>1 m/s\\n(12:00 pm CET | Tuesday, February 9, 2021)</td>\n",
       "      <td>(unknown)\\n(12:00 pm CET | Tuesday, February 9...</td>\n",
       "      <td>Moon Phase calculatorFebruary 9, 2021 12h</td>\n",
       "      <td>| waning crescent moon\\n6.37% illuminated</td>\n",
       "    </tr>\n",
       "    <tr>\n",
       "      <th>4687</th>\n",
       "      <td>2021-02-09 13:00:00</td>\n",
       "      <td>0 °C\\n(1:00 pm CET | Tuesday, February 9, 2021)</td>\n",
       "      <td>ERROR</td>\n",
       "      <td>2 m/s\\n(1:00 pm CET | Tuesday, February 9, 2021)</td>\n",
       "      <td>(unknown)\\n(1:00 pm CET | Tuesday, February 9,...</td>\n",
       "      <td>Moon Phase calculatorFebruary 9, 2021 13h</td>\n",
       "      <td>| waning crescent moon\\n6.15% illuminated</td>\n",
       "    </tr>\n",
       "    <tr>\n",
       "      <th>4688</th>\n",
       "      <td>2021-02-09 15:00:00</td>\n",
       "      <td>0 °C\\n(3:00 pm CET | Tuesday, February 9, 2021)</td>\n",
       "      <td>ERROR</td>\n",
       "      <td>2 m/s\\n(3:00 pm CET | Tuesday, February 9, 2021)</td>\n",
       "      <td>(unknown)\\n(3:00 pm CET | Tuesday, February 9,...</td>\n",
       "      <td>Moon Phase calculatorFebruary 9, 2021 15h</td>\n",
       "      <td>| waning crescent moon\\n5.72% illuminated</td>\n",
       "    </tr>\n",
       "    <tr>\n",
       "      <th>4689</th>\n",
       "      <td>2021-02-09 16:00:00</td>\n",
       "      <td>0 °C\\n(4:00 pm CET | Tuesday, February 9, 2021)</td>\n",
       "      <td>ERROR</td>\n",
       "      <td>2 m/s\\n(4:00 pm CET | Tuesday, February 9, 2021)</td>\n",
       "      <td>(unknown)\\n(4:00 pm CET | Tuesday, February 9,...</td>\n",
       "      <td>Moon Phase calculatorFebruary 9, 2021 16h</td>\n",
       "      <td>| waning crescent moon\\n5.51% illuminated</td>\n",
       "    </tr>\n",
       "    <tr>\n",
       "      <th>4690</th>\n",
       "      <td>2021-02-09 17:00:00</td>\n",
       "      <td>0 °C\\n(5:00 pm CET | Tuesday, February 9, 2021)</td>\n",
       "      <td>ERROR</td>\n",
       "      <td>3 m/s\\n(5:00 pm CET | Tuesday, February 9, 2021)</td>\n",
       "      <td>(unknown)\\n(5:00 pm CET | Tuesday, February 9,...</td>\n",
       "      <td>Moon Phase calculatorFebruary 9, 2021 17h</td>\n",
       "      <td>| waning crescent moon\\n5.31% illuminated</td>\n",
       "    </tr>\n",
       "    <tr>\n",
       "      <th>4691</th>\n",
       "      <td>2021-02-09 18:00:00</td>\n",
       "      <td>0 °C\\n(6:00 pm CET | Tuesday, February 9, 2021)</td>\n",
       "      <td>ERROR</td>\n",
       "      <td>3 m/s\\n(6:00 pm CET | Tuesday, February 9, 2021)</td>\n",
       "      <td>(unknown)\\n(6:00 pm CET | Tuesday, February 9,...</td>\n",
       "      <td>Moon Phase calculatorFebruary 9, 2021 18h</td>\n",
       "      <td>| waning crescent moon\\n5.11% illuminated</td>\n",
       "    </tr>\n",
       "    <tr>\n",
       "      <th>4692</th>\n",
       "      <td>2021-02-09 19:00:00</td>\n",
       "      <td>0 °C\\n(7:00 pm CET | Tuesday, February 9, 2021)</td>\n",
       "      <td>ERROR</td>\n",
       "      <td>3 m/s\\n(7:00 pm CET | Tuesday, February 9, 2021)</td>\n",
       "      <td>(unknown)\\n(7:00 pm CET | Tuesday, February 9,...</td>\n",
       "      <td>Moon Phase calculatorFebruary 9, 2021 19h</td>\n",
       "      <td>| waning crescent moon\\n4.91% illuminated</td>\n",
       "    </tr>\n",
       "    <tr>\n",
       "      <th>4693</th>\n",
       "      <td>2021-02-09 20:00:00</td>\n",
       "      <td>0 °C\\n(8:00 pm CET | Tuesday, February 9, 2021)</td>\n",
       "      <td>ERROR</td>\n",
       "      <td>3 m/s\\n(8:00 pm CET | Tuesday, February 9, 2021)</td>\n",
       "      <td>(unknown)\\n(8:00 pm CET | Tuesday, February 9,...</td>\n",
       "      <td>Moon Phase calculatorFebruary 9, 2021 20h</td>\n",
       "      <td>| waning crescent moon\\n4.72% illuminated</td>\n",
       "    </tr>\n",
       "    <tr>\n",
       "      <th>4694</th>\n",
       "      <td>2021-02-09 21:00:00</td>\n",
       "      <td>0 °C\\n(9:00 pm CET | Tuesday, February 9, 2021)</td>\n",
       "      <td>ERROR</td>\n",
       "      <td>4 m/s\\n(9:00 pm CET | Tuesday, February 9, 2021)</td>\n",
       "      <td>(unknown)\\n(9:00 pm CET | Tuesday, February 9,...</td>\n",
       "      <td>Moon Phase calculatorFebruary 9, 2021 21h</td>\n",
       "      <td>| waning crescent moon\\n4.53% illuminated</td>\n",
       "    </tr>\n",
       "    <tr>\n",
       "      <th>4695</th>\n",
       "      <td>2021-02-09 22:00:00</td>\n",
       "      <td>0 °C\\n(10:00 pm CET | Tuesday, February 9, 2021)</td>\n",
       "      <td>ERROR</td>\n",
       "      <td>4 m/s\\n(10:00 pm CET | Tuesday, February 9, 2021)</td>\n",
       "      <td>(unknown)\\n(10:00 pm CET | Tuesday, February 9...</td>\n",
       "      <td>Moon Phase calculatorFebruary 9, 2021 22h</td>\n",
       "      <td>| waning crescent moon\\n4.34% illuminated</td>\n",
       "    </tr>\n",
       "    <tr>\n",
       "      <th>4696</th>\n",
       "      <td>2021-02-10 10:00:00</td>\n",
       "      <td>0 °C\\n(10:00 am CET | Wednesday, February 10, ...</td>\n",
       "      <td>ERROR</td>\n",
       "      <td>1 m/s\\n(10:00 am CET | Wednesday, February 10,...</td>\n",
       "      <td>(unknown)\\n(10:00 am CET | Wednesday, February...</td>\n",
       "      <td>Moon Phase calculatorFebruary 10, 2021 10h</td>\n",
       "      <td>| waning crescent moon\\n2.43% illuminated</td>\n",
       "    </tr>\n",
       "    <tr>\n",
       "      <th>4697</th>\n",
       "      <td>2021-02-10 11:00:00</td>\n",
       "      <td>0 °C\\n(11:00 am CET | Wednesday, February 10, ...</td>\n",
       "      <td>ERROR</td>\n",
       "      <td>1 m/s\\n(11:00 am CET | Wednesday, February 10,...</td>\n",
       "      <td>(unknown)\\n(11:00 am CET | Wednesday, February...</td>\n",
       "      <td>Moon Phase calculatorFebruary 10, 2021 11h</td>\n",
       "      <td>| waning crescent moon\\n2.30% illuminated</td>\n",
       "    </tr>\n",
       "    <tr>\n",
       "      <th>4698</th>\n",
       "      <td>2021-02-10 12:00:00</td>\n",
       "      <td>0 °C\\n(12:00 pm CET | Wednesday, February 10, ...</td>\n",
       "      <td>ERROR</td>\n",
       "      <td>2 m/s\\n(12:00 pm CET | Wednesday, February 10,...</td>\n",
       "      <td>(unknown)\\n(12:00 pm CET | Wednesday, February...</td>\n",
       "      <td>Moon Phase calculatorFebruary 10, 2021 12h</td>\n",
       "      <td>| waning crescent moon\\n2.17% illuminated</td>\n",
       "    </tr>\n",
       "    <tr>\n",
       "      <th>4699</th>\n",
       "      <td>2021-02-10 13:00:00</td>\n",
       "      <td>0 °C\\n(1:00 pm CET | Wednesday, February 10, 2...</td>\n",
       "      <td>ERROR</td>\n",
       "      <td>2 m/s\\n(1:00 pm CET | Wednesday, February 10, ...</td>\n",
       "      <td>(unknown)\\n(1:00 pm CET | Wednesday, February ...</td>\n",
       "      <td>Moon Phase calculatorFebruary 10, 2021 13h</td>\n",
       "      <td>| waning crescent moon\\n2.04% illuminated</td>\n",
       "    </tr>\n",
       "    <tr>\n",
       "      <th>4700</th>\n",
       "      <td>2021-02-10 14:00:00</td>\n",
       "      <td>-1 °C\\n(2:00 pm CET | Wednesday, February 10, ...</td>\n",
       "      <td>ERROR</td>\n",
       "      <td>2 m/s\\n(2:00 pm CET | Wednesday, February 10, ...</td>\n",
       "      <td>(unknown)\\n(2:00 pm CET | Wednesday, February ...</td>\n",
       "      <td>Moon Phase calculatorFebruary 10, 2021 14h</td>\n",
       "      <td>| waning crescent moon\\n1.92% illuminated</td>\n",
       "    </tr>\n",
       "    <tr>\n",
       "      <th>4701</th>\n",
       "      <td>2021-02-10 15:00:00</td>\n",
       "      <td>-1 °C\\n(3:00 pm CET | Wednesday, February 10, ...</td>\n",
       "      <td>ERROR</td>\n",
       "      <td>3 m/s\\n(3:00 pm CET | Wednesday, February 10, ...</td>\n",
       "      <td>(unknown)\\n(3:00 pm CET | Wednesday, February ...</td>\n",
       "      <td>Moon Phase calculatorFebruary 10, 2021 15h</td>\n",
       "      <td>| waning crescent moon\\n1.80% illuminated</td>\n",
       "    </tr>\n",
       "    <tr>\n",
       "      <th>4702</th>\n",
       "      <td>2021-02-10 16:00:00</td>\n",
       "      <td>-1 °C\\n(4:00 pm CET | Wednesday, February 10, ...</td>\n",
       "      <td>ERROR</td>\n",
       "      <td>3 m/s\\n(4:00 pm CET | Wednesday, February 10, ...</td>\n",
       "      <td>(unknown)\\n(4:00 pm CET | Wednesday, February ...</td>\n",
       "      <td>Moon Phase calculatorFebruary 10, 2021 16h</td>\n",
       "      <td>| waning crescent moon\\n1.69% illuminated</td>\n",
       "    </tr>\n",
       "    <tr>\n",
       "      <th>4703</th>\n",
       "      <td>2021-02-10 17:00:00</td>\n",
       "      <td>-2 °C\\n(5:00 pm CET | Wednesday, February 10, ...</td>\n",
       "      <td>ERROR</td>\n",
       "      <td>3 m/s\\n(5:00 pm CET | Wednesday, February 10, ...</td>\n",
       "      <td>(unknown)\\n(5:00 pm CET | Wednesday, February ...</td>\n",
       "      <td>Moon Phase calculatorFebruary 10, 2021 17h</td>\n",
       "      <td>| waning crescent moon\\n1.58% illuminated</td>\n",
       "    </tr>\n",
       "    <tr>\n",
       "      <th>4704</th>\n",
       "      <td>2021-02-10 18:00:00</td>\n",
       "      <td>-2 °C\\n(6:00 pm CET | Wednesday, February 10, ...</td>\n",
       "      <td>ERROR</td>\n",
       "      <td>3 m/s\\n(6:00 pm CET | Wednesday, February 10, ...</td>\n",
       "      <td>(unknown)\\n(6:00 pm CET | Wednesday, February ...</td>\n",
       "      <td>Moon Phase calculatorFebruary 10, 2021 18h</td>\n",
       "      <td>| waning crescent moon\\n1.48% illuminated</td>\n",
       "    </tr>\n",
       "    <tr>\n",
       "      <th>4705</th>\n",
       "      <td>2021-02-10 19:00:00</td>\n",
       "      <td>-2 °C\\n(7:00 pm CET | Wednesday, February 10, ...</td>\n",
       "      <td>ERROR</td>\n",
       "      <td>4 m/s\\n(7:00 pm CET | Wednesday, February 10, ...</td>\n",
       "      <td>(unknown)\\n(7:00 pm CET | Wednesday, February ...</td>\n",
       "      <td>Moon Phase calculatorFebruary 10, 2021 19h</td>\n",
       "      <td>| waning crescent moon\\n1.38% illuminated</td>\n",
       "    </tr>\n",
       "    <tr>\n",
       "      <th>4706</th>\n",
       "      <td>2021-02-10 20:00:00</td>\n",
       "      <td>-2 °C\\n(8:00 pm CET | Wednesday, February 10, ...</td>\n",
       "      <td>ERROR</td>\n",
       "      <td>4 m/s\\n(8:00 pm CET | Wednesday, February 10, ...</td>\n",
       "      <td>(unknown)\\n(8:00 pm CET | Wednesday, February ...</td>\n",
       "      <td>Moon Phase calculatorFebruary 10, 2021 20h</td>\n",
       "      <td>| waning crescent moon\\n1.28% illuminated</td>\n",
       "    </tr>\n",
       "    <tr>\n",
       "      <th>4707</th>\n",
       "      <td>2021-02-10 21:00:00</td>\n",
       "      <td>-3 °C\\n(9:00 pm CET | Wednesday, February 10, ...</td>\n",
       "      <td>ERROR</td>\n",
       "      <td>4 m/s\\n(9:00 pm CET | Wednesday, February 10, ...</td>\n",
       "      <td>(unknown)\\n(9:00 pm CET | Wednesday, February ...</td>\n",
       "      <td>Moon Phase calculatorFebruary 10, 2021 21h</td>\n",
       "      <td>| waning crescent moon\\n1.19% illuminated</td>\n",
       "    </tr>\n",
       "    <tr>\n",
       "      <th>4708</th>\n",
       "      <td>2021-02-10 22:00:00</td>\n",
       "      <td>-3 °C\\n(10:00 pm CET | Wednesday, February 10,...</td>\n",
       "      <td>ERROR</td>\n",
       "      <td>5 m/s\\n(10:00 pm CET | Wednesday, February 10,...</td>\n",
       "      <td>(unknown)\\n(10:00 pm CET | Wednesday, February...</td>\n",
       "      <td>Moon Phase calculatorFebruary 10, 2021 22h</td>\n",
       "      <td>| waning crescent moon\\n1.10% illuminated</td>\n",
       "    </tr>\n",
       "    <tr>\n",
       "      <th>4709</th>\n",
       "      <td>2021-02-10 23:00:00</td>\n",
       "      <td>-3 °C\\n(11:00 pm CET | Wednesday, February 10,...</td>\n",
       "      <td>ERROR</td>\n",
       "      <td>5 m/s\\n(11:00 pm CET | Wednesday, February 10,...</td>\n",
       "      <td>(unknown)\\n(11:00 pm CET | Wednesday, February...</td>\n",
       "      <td>Moon Phase calculatorFebruary 10, 2021 23h</td>\n",
       "      <td>| waning crescent moon\\n1.01% illuminated</td>\n",
       "    </tr>\n",
       "    <tr>\n",
       "      <th>4710</th>\n",
       "      <td>2021-03-28 01:00:00</td>\n",
       "      <td>1 °C\\n(1:00 am CEST | Sunday, March 28, 2021)</td>\n",
       "      <td>ERROR</td>\n",
       "      <td>1 m/s\\n(1:00 am CEST | Sunday, March 28, 2021)</td>\n",
       "      <td>(unknown)\\n(1:00 am CEST | Sunday, March 28, 2...</td>\n",
       "      <td>Moon Phase calculatorMarch 28, 2021 1h</td>\n",
       "      <td>| waxing gibbous moon\\n98.84% illuminated</td>\n",
       "    </tr>\n",
       "    <tr>\n",
       "      <th>4748</th>\n",
       "      <td>2021-04-14 20:00:00</td>\n",
       "      <td>4 °C\\n(8:00 pm CEST | Wednesday, April 14, 2021)</td>\n",
       "      <td>average: 42% (39 to 45%)\\n(8:00 pm CEST | Wedn...</td>\n",
       "      <td>3 m/s\\n(8:00 pm CEST | Wednesday, April 14, 2021)</td>\n",
       "      <td>ERROR</td>\n",
       "      <td>Moon Phase calculatorApril 14, 2021 20h</td>\n",
       "      <td>| waxing crescent moon\\n6.24% illuminated</td>\n",
       "    </tr>\n",
       "    <tr>\n",
       "      <th>4798</th>\n",
       "      <td>2021-04-16 22:00:00</td>\n",
       "      <td>6 °C\\n(10:00 pm CEST | Friday, April 16, 2021)</td>\n",
       "      <td>ERROR</td>\n",
       "      <td>2 m/s\\n(10:00 pm CEST | Friday, April 16, 2021)</td>\n",
       "      <td>no precipitation\\n(10:00 pm CEST | Friday, Apr...</td>\n",
       "      <td>Moon Phase calculatorApril 16, 2021 22h</td>\n",
       "      <td>| waxing crescent moon\\n18.85% illuminated</td>\n",
       "    </tr>\n",
       "  </tbody>\n",
       "</table>\n",
       "</div>"
      ],
      "text/plain": [
       "                    date                                        temperature  \\\n",
       "4674 2020-11-05 22:00:00  8 °C\\n(10:00 pm CET | Thursday, November 5, 2020)   \n",
       "4675 2020-11-16 19:00:00    7 °C\\n(7:00 pm CET | Monday, November 16, 2020)   \n",
       "4676 2020-11-16 20:00:00    6 °C\\n(8:00 pm CET | Monday, November 16, 2020)   \n",
       "4677 2020-11-16 21:00:00    5 °C\\n(9:00 pm CET | Monday, November 16, 2020)   \n",
       "4678 2020-12-15 21:00:00   4 °C\\n(9:00 pm CET | Tuesday, December 15, 2020)   \n",
       "4679 2021-02-08 17:00:00     5 °C\\n(5:00 pm CET | Monday, February 8, 2021)   \n",
       "4680 2021-02-08 18:00:00     4 °C\\n(6:00 pm CET | Monday, February 8, 2021)   \n",
       "4681 2021-02-08 19:00:00     3 °C\\n(7:00 pm CET | Monday, February 8, 2021)   \n",
       "4682 2021-02-08 20:00:00     2 °C\\n(8:00 pm CET | Monday, February 8, 2021)   \n",
       "4683 2021-02-09 09:00:00    0 °C\\n(9:00 am CET | Tuesday, February 9, 2021)   \n",
       "4684 2021-02-09 10:00:00   0 °C\\n(10:00 am CET | Tuesday, February 9, 2021)   \n",
       "4685 2021-02-09 11:00:00   0 °C\\n(11:00 am CET | Tuesday, February 9, 2021)   \n",
       "4686 2021-02-09 12:00:00   0 °C\\n(12:00 pm CET | Tuesday, February 9, 2021)   \n",
       "4687 2021-02-09 13:00:00    0 °C\\n(1:00 pm CET | Tuesday, February 9, 2021)   \n",
       "4688 2021-02-09 15:00:00    0 °C\\n(3:00 pm CET | Tuesday, February 9, 2021)   \n",
       "4689 2021-02-09 16:00:00    0 °C\\n(4:00 pm CET | Tuesday, February 9, 2021)   \n",
       "4690 2021-02-09 17:00:00    0 °C\\n(5:00 pm CET | Tuesday, February 9, 2021)   \n",
       "4691 2021-02-09 18:00:00    0 °C\\n(6:00 pm CET | Tuesday, February 9, 2021)   \n",
       "4692 2021-02-09 19:00:00    0 °C\\n(7:00 pm CET | Tuesday, February 9, 2021)   \n",
       "4693 2021-02-09 20:00:00    0 °C\\n(8:00 pm CET | Tuesday, February 9, 2021)   \n",
       "4694 2021-02-09 21:00:00    0 °C\\n(9:00 pm CET | Tuesday, February 9, 2021)   \n",
       "4695 2021-02-09 22:00:00   0 °C\\n(10:00 pm CET | Tuesday, February 9, 2021)   \n",
       "4696 2021-02-10 10:00:00  0 °C\\n(10:00 am CET | Wednesday, February 10, ...   \n",
       "4697 2021-02-10 11:00:00  0 °C\\n(11:00 am CET | Wednesday, February 10, ...   \n",
       "4698 2021-02-10 12:00:00  0 °C\\n(12:00 pm CET | Wednesday, February 10, ...   \n",
       "4699 2021-02-10 13:00:00  0 °C\\n(1:00 pm CET | Wednesday, February 10, 2...   \n",
       "4700 2021-02-10 14:00:00  -1 °C\\n(2:00 pm CET | Wednesday, February 10, ...   \n",
       "4701 2021-02-10 15:00:00  -1 °C\\n(3:00 pm CET | Wednesday, February 10, ...   \n",
       "4702 2021-02-10 16:00:00  -1 °C\\n(4:00 pm CET | Wednesday, February 10, ...   \n",
       "4703 2021-02-10 17:00:00  -2 °C\\n(5:00 pm CET | Wednesday, February 10, ...   \n",
       "4704 2021-02-10 18:00:00  -2 °C\\n(6:00 pm CET | Wednesday, February 10, ...   \n",
       "4705 2021-02-10 19:00:00  -2 °C\\n(7:00 pm CET | Wednesday, February 10, ...   \n",
       "4706 2021-02-10 20:00:00  -2 °C\\n(8:00 pm CET | Wednesday, February 10, ...   \n",
       "4707 2021-02-10 21:00:00  -3 °C\\n(9:00 pm CET | Wednesday, February 10, ...   \n",
       "4708 2021-02-10 22:00:00  -3 °C\\n(10:00 pm CET | Wednesday, February 10,...   \n",
       "4709 2021-02-10 23:00:00  -3 °C\\n(11:00 pm CET | Wednesday, February 10,...   \n",
       "4710 2021-03-28 01:00:00      1 °C\\n(1:00 am CEST | Sunday, March 28, 2021)   \n",
       "4748 2021-04-14 20:00:00   4 °C\\n(8:00 pm CEST | Wednesday, April 14, 2021)   \n",
       "4798 2021-04-16 22:00:00     6 °C\\n(10:00 pm CEST | Friday, April 16, 2021)   \n",
       "\n",
       "                                               humidity  \\\n",
       "4674                                              ERROR   \n",
       "4675                                              ERROR   \n",
       "4676                                              ERROR   \n",
       "4677                                              ERROR   \n",
       "4678                                              ERROR   \n",
       "4679                                              ERROR   \n",
       "4680                                              ERROR   \n",
       "4681                                              ERROR   \n",
       "4682                                              ERROR   \n",
       "4683                                              ERROR   \n",
       "4684                                              ERROR   \n",
       "4685                                              ERROR   \n",
       "4686                                              ERROR   \n",
       "4687                                              ERROR   \n",
       "4688                                              ERROR   \n",
       "4689                                              ERROR   \n",
       "4690                                              ERROR   \n",
       "4691                                              ERROR   \n",
       "4692                                              ERROR   \n",
       "4693                                              ERROR   \n",
       "4694                                              ERROR   \n",
       "4695                                              ERROR   \n",
       "4696                                              ERROR   \n",
       "4697                                              ERROR   \n",
       "4698                                              ERROR   \n",
       "4699                                              ERROR   \n",
       "4700                                              ERROR   \n",
       "4701                                              ERROR   \n",
       "4702                                              ERROR   \n",
       "4703                                              ERROR   \n",
       "4704                                              ERROR   \n",
       "4705                                              ERROR   \n",
       "4706                                              ERROR   \n",
       "4707                                              ERROR   \n",
       "4708                                              ERROR   \n",
       "4709                                              ERROR   \n",
       "4710                                              ERROR   \n",
       "4748  average: 42% (39 to 45%)\\n(8:00 pm CEST | Wedn...   \n",
       "4798                                              ERROR   \n",
       "\n",
       "                                             wind speed  \\\n",
       "4674  1 m/s\\n(10:00 pm CET | Thursday, November 5, 2...   \n",
       "4675   1 m/s\\n(7:00 pm CET | Monday, November 16, 2020)   \n",
       "4676   0 m/s\\n(8:00 pm CET | Monday, November 16, 2020)   \n",
       "4677   0 m/s\\n(9:00 pm CET | Monday, November 16, 2020)   \n",
       "4678  1 m/s\\n(9:00 pm CET | Tuesday, December 15, 2020)   \n",
       "4679    5 m/s\\n(5:00 pm CET | Monday, February 8, 2021)   \n",
       "4680    5 m/s\\n(6:00 pm CET | Monday, February 8, 2021)   \n",
       "4681    4 m/s\\n(7:00 pm CET | Monday, February 8, 2021)   \n",
       "4682    4 m/s\\n(8:00 pm CET | Monday, February 8, 2021)   \n",
       "4683   1 m/s\\n(9:00 am CET | Tuesday, February 9, 2021)   \n",
       "4684  1 m/s\\n(10:00 am CET | Tuesday, February 9, 2021)   \n",
       "4685  1 m/s\\n(11:00 am CET | Tuesday, February 9, 2021)   \n",
       "4686  1 m/s\\n(12:00 pm CET | Tuesday, February 9, 2021)   \n",
       "4687   2 m/s\\n(1:00 pm CET | Tuesday, February 9, 2021)   \n",
       "4688   2 m/s\\n(3:00 pm CET | Tuesday, February 9, 2021)   \n",
       "4689   2 m/s\\n(4:00 pm CET | Tuesday, February 9, 2021)   \n",
       "4690   3 m/s\\n(5:00 pm CET | Tuesday, February 9, 2021)   \n",
       "4691   3 m/s\\n(6:00 pm CET | Tuesday, February 9, 2021)   \n",
       "4692   3 m/s\\n(7:00 pm CET | Tuesday, February 9, 2021)   \n",
       "4693   3 m/s\\n(8:00 pm CET | Tuesday, February 9, 2021)   \n",
       "4694   4 m/s\\n(9:00 pm CET | Tuesday, February 9, 2021)   \n",
       "4695  4 m/s\\n(10:00 pm CET | Tuesday, February 9, 2021)   \n",
       "4696  1 m/s\\n(10:00 am CET | Wednesday, February 10,...   \n",
       "4697  1 m/s\\n(11:00 am CET | Wednesday, February 10,...   \n",
       "4698  2 m/s\\n(12:00 pm CET | Wednesday, February 10,...   \n",
       "4699  2 m/s\\n(1:00 pm CET | Wednesday, February 10, ...   \n",
       "4700  2 m/s\\n(2:00 pm CET | Wednesday, February 10, ...   \n",
       "4701  3 m/s\\n(3:00 pm CET | Wednesday, February 10, ...   \n",
       "4702  3 m/s\\n(4:00 pm CET | Wednesday, February 10, ...   \n",
       "4703  3 m/s\\n(5:00 pm CET | Wednesday, February 10, ...   \n",
       "4704  3 m/s\\n(6:00 pm CET | Wednesday, February 10, ...   \n",
       "4705  4 m/s\\n(7:00 pm CET | Wednesday, February 10, ...   \n",
       "4706  4 m/s\\n(8:00 pm CET | Wednesday, February 10, ...   \n",
       "4707  4 m/s\\n(9:00 pm CET | Wednesday, February 10, ...   \n",
       "4708  5 m/s\\n(10:00 pm CET | Wednesday, February 10,...   \n",
       "4709  5 m/s\\n(11:00 pm CET | Wednesday, February 10,...   \n",
       "4710     1 m/s\\n(1:00 am CEST | Sunday, March 28, 2021)   \n",
       "4748  3 m/s\\n(8:00 pm CEST | Wednesday, April 14, 2021)   \n",
       "4798    2 m/s\\n(10:00 pm CEST | Friday, April 16, 2021)   \n",
       "\n",
       "                                   Precipitation amount  \\\n",
       "4674  (unknown)\\n(10:00 pm CET | Thursday, November ...   \n",
       "4675  (unknown)\\n(7:00 pm CET | Monday, November 16,...   \n",
       "4676  (unknown)\\n(8:00 pm CET | Monday, November 16,...   \n",
       "4677  (unknown)\\n(9:00 pm CET | Monday, November 16,...   \n",
       "4678  (unknown)\\n(9:00 pm CET | Tuesday, December 15...   \n",
       "4679  (unknown)\\n(5:00 pm CET | Monday, February 8, ...   \n",
       "4680  (unknown)\\n(6:00 pm CET | Monday, February 8, ...   \n",
       "4681  (unknown)\\n(7:00 pm CET | Monday, February 8, ...   \n",
       "4682  (unknown)\\n(8:00 pm CET | Monday, February 8, ...   \n",
       "4683  (unknown)\\n(9:00 am CET | Tuesday, February 9,...   \n",
       "4684  (unknown)\\n(10:00 am CET | Tuesday, February 9...   \n",
       "4685  (unknown)\\n(11:00 am CET | Tuesday, February 9...   \n",
       "4686  (unknown)\\n(12:00 pm CET | Tuesday, February 9...   \n",
       "4687  (unknown)\\n(1:00 pm CET | Tuesday, February 9,...   \n",
       "4688  (unknown)\\n(3:00 pm CET | Tuesday, February 9,...   \n",
       "4689  (unknown)\\n(4:00 pm CET | Tuesday, February 9,...   \n",
       "4690  (unknown)\\n(5:00 pm CET | Tuesday, February 9,...   \n",
       "4691  (unknown)\\n(6:00 pm CET | Tuesday, February 9,...   \n",
       "4692  (unknown)\\n(7:00 pm CET | Tuesday, February 9,...   \n",
       "4693  (unknown)\\n(8:00 pm CET | Tuesday, February 9,...   \n",
       "4694  (unknown)\\n(9:00 pm CET | Tuesday, February 9,...   \n",
       "4695  (unknown)\\n(10:00 pm CET | Tuesday, February 9...   \n",
       "4696  (unknown)\\n(10:00 am CET | Wednesday, February...   \n",
       "4697  (unknown)\\n(11:00 am CET | Wednesday, February...   \n",
       "4698  (unknown)\\n(12:00 pm CET | Wednesday, February...   \n",
       "4699  (unknown)\\n(1:00 pm CET | Wednesday, February ...   \n",
       "4700  (unknown)\\n(2:00 pm CET | Wednesday, February ...   \n",
       "4701  (unknown)\\n(3:00 pm CET | Wednesday, February ...   \n",
       "4702  (unknown)\\n(4:00 pm CET | Wednesday, February ...   \n",
       "4703  (unknown)\\n(5:00 pm CET | Wednesday, February ...   \n",
       "4704  (unknown)\\n(6:00 pm CET | Wednesday, February ...   \n",
       "4705  (unknown)\\n(7:00 pm CET | Wednesday, February ...   \n",
       "4706  (unknown)\\n(8:00 pm CET | Wednesday, February ...   \n",
       "4707  (unknown)\\n(9:00 pm CET | Wednesday, February ...   \n",
       "4708  (unknown)\\n(10:00 pm CET | Wednesday, February...   \n",
       "4709  (unknown)\\n(11:00 pm CET | Wednesday, February...   \n",
       "4710  (unknown)\\n(1:00 am CEST | Sunday, March 28, 2...   \n",
       "4748                                              ERROR   \n",
       "4798  no precipitation\\n(10:00 pm CEST | Friday, Apr...   \n",
       "\n",
       "                                           query  \\\n",
       "4674   Moon Phase calculatorNovember 5, 2020 22h   \n",
       "4675  Moon Phase calculatorNovember 16, 2020 19h   \n",
       "4676  Moon Phase calculatorNovember 16, 2020 20h   \n",
       "4677  Moon Phase calculatorNovember 16, 2020 21h   \n",
       "4678  Moon Phase calculatorDecember 15, 2020 21h   \n",
       "4679   Moon Phase calculatorFebruary 8, 2021 17h   \n",
       "4680   Moon Phase calculatorFebruary 8, 2021 18h   \n",
       "4681   Moon Phase calculatorFebruary 8, 2021 19h   \n",
       "4682   Moon Phase calculatorFebruary 8, 2021 20h   \n",
       "4683    Moon Phase calculatorFebruary 9, 2021 9h   \n",
       "4684   Moon Phase calculatorFebruary 9, 2021 10h   \n",
       "4685   Moon Phase calculatorFebruary 9, 2021 11h   \n",
       "4686   Moon Phase calculatorFebruary 9, 2021 12h   \n",
       "4687   Moon Phase calculatorFebruary 9, 2021 13h   \n",
       "4688   Moon Phase calculatorFebruary 9, 2021 15h   \n",
       "4689   Moon Phase calculatorFebruary 9, 2021 16h   \n",
       "4690   Moon Phase calculatorFebruary 9, 2021 17h   \n",
       "4691   Moon Phase calculatorFebruary 9, 2021 18h   \n",
       "4692   Moon Phase calculatorFebruary 9, 2021 19h   \n",
       "4693   Moon Phase calculatorFebruary 9, 2021 20h   \n",
       "4694   Moon Phase calculatorFebruary 9, 2021 21h   \n",
       "4695   Moon Phase calculatorFebruary 9, 2021 22h   \n",
       "4696  Moon Phase calculatorFebruary 10, 2021 10h   \n",
       "4697  Moon Phase calculatorFebruary 10, 2021 11h   \n",
       "4698  Moon Phase calculatorFebruary 10, 2021 12h   \n",
       "4699  Moon Phase calculatorFebruary 10, 2021 13h   \n",
       "4700  Moon Phase calculatorFebruary 10, 2021 14h   \n",
       "4701  Moon Phase calculatorFebruary 10, 2021 15h   \n",
       "4702  Moon Phase calculatorFebruary 10, 2021 16h   \n",
       "4703  Moon Phase calculatorFebruary 10, 2021 17h   \n",
       "4704  Moon Phase calculatorFebruary 10, 2021 18h   \n",
       "4705  Moon Phase calculatorFebruary 10, 2021 19h   \n",
       "4706  Moon Phase calculatorFebruary 10, 2021 20h   \n",
       "4707  Moon Phase calculatorFebruary 10, 2021 21h   \n",
       "4708  Moon Phase calculatorFebruary 10, 2021 22h   \n",
       "4709  Moon Phase calculatorFebruary 10, 2021 23h   \n",
       "4710      Moon Phase calculatorMarch 28, 2021 1h   \n",
       "4748     Moon Phase calculatorApril 14, 2021 20h   \n",
       "4798     Moon Phase calculatorApril 16, 2021 22h   \n",
       "\n",
       "                           Moon Phase calculator  \n",
       "4674   | waning gibbous moon\\n76.55% illuminated  \n",
       "4675   | waxing crescent moon\\n3.48% illuminated  \n",
       "4676   | waxing crescent moon\\n3.67% illuminated  \n",
       "4677   | waxing crescent moon\\n3.86% illuminated  \n",
       "4678   | waxing crescent moon\\n1.86% illuminated  \n",
       "4679  | waning crescent moon\\n11.27% illuminated  \n",
       "4680  | waning crescent moon\\n10.98% illuminated  \n",
       "4681  | waning crescent moon\\n10.69% illuminated  \n",
       "4682  | waning crescent moon\\n10.41% illuminated  \n",
       "4683   | waning crescent moon\\n7.06% illuminated  \n",
       "4684   | waning crescent moon\\n6.82% illuminated  \n",
       "4685   | waning crescent moon\\n6.60% illuminated  \n",
       "4686   | waning crescent moon\\n6.37% illuminated  \n",
       "4687   | waning crescent moon\\n6.15% illuminated  \n",
       "4688   | waning crescent moon\\n5.72% illuminated  \n",
       "4689   | waning crescent moon\\n5.51% illuminated  \n",
       "4690   | waning crescent moon\\n5.31% illuminated  \n",
       "4691   | waning crescent moon\\n5.11% illuminated  \n",
       "4692   | waning crescent moon\\n4.91% illuminated  \n",
       "4693   | waning crescent moon\\n4.72% illuminated  \n",
       "4694   | waning crescent moon\\n4.53% illuminated  \n",
       "4695   | waning crescent moon\\n4.34% illuminated  \n",
       "4696   | waning crescent moon\\n2.43% illuminated  \n",
       "4697   | waning crescent moon\\n2.30% illuminated  \n",
       "4698   | waning crescent moon\\n2.17% illuminated  \n",
       "4699   | waning crescent moon\\n2.04% illuminated  \n",
       "4700   | waning crescent moon\\n1.92% illuminated  \n",
       "4701   | waning crescent moon\\n1.80% illuminated  \n",
       "4702   | waning crescent moon\\n1.69% illuminated  \n",
       "4703   | waning crescent moon\\n1.58% illuminated  \n",
       "4704   | waning crescent moon\\n1.48% illuminated  \n",
       "4705   | waning crescent moon\\n1.38% illuminated  \n",
       "4706   | waning crescent moon\\n1.28% illuminated  \n",
       "4707   | waning crescent moon\\n1.19% illuminated  \n",
       "4708   | waning crescent moon\\n1.10% illuminated  \n",
       "4709   | waning crescent moon\\n1.01% illuminated  \n",
       "4710   | waxing gibbous moon\\n98.84% illuminated  \n",
       "4748   | waxing crescent moon\\n6.24% illuminated  \n",
       "4798  | waxing crescent moon\\n18.85% illuminated  "
      ]
     },
     "metadata": {},
     "output_type": "display_data"
    },
    {
     "name": "stdout",
     "output_type": "stream",
     "text": [
      "7369\n",
      "2550\n",
      "WARNING: to many calls to be completed these queries!\n",
      "You need 12750 new queries to complete this date interval\n",
      "(4819, 7)\n"
     ]
    },
    {
     "data": {
      "text/html": [
       "<div>\n",
       "<style scoped>\n",
       "    .dataframe tbody tr th:only-of-type {\n",
       "        vertical-align: middle;\n",
       "    }\n",
       "\n",
       "    .dataframe tbody tr th {\n",
       "        vertical-align: top;\n",
       "    }\n",
       "\n",
       "    .dataframe thead th {\n",
       "        text-align: right;\n",
       "    }\n",
       "</style>\n",
       "<table border=\"1\" class=\"dataframe\">\n",
       "  <thead>\n",
       "    <tr style=\"text-align: right;\">\n",
       "      <th></th>\n",
       "      <th>date</th>\n",
       "      <th>temperature</th>\n",
       "      <th>humidity</th>\n",
       "      <th>wind speed</th>\n",
       "      <th>Precipitation amount</th>\n",
       "      <th>query</th>\n",
       "      <th>Moon Phase calculator</th>\n",
       "    </tr>\n",
       "  </thead>\n",
       "  <tbody>\n",
       "    <tr>\n",
       "      <th>4853</th>\n",
       "      <td>2021-04-19 05:00:00</td>\n",
       "      <td>-2 °C\\n(5:00 am CEST | Monday, April 19, 2021)</td>\n",
       "      <td>average: 100% (100%)\\n(5:00 am CEST | Monday, ...</td>\n",
       "      <td>1 m/s\\n(5:00 am CEST | Monday, April 19, 2021)</td>\n",
       "      <td>no precipitation\\n(5:00 am CEST | Monday, Apri...</td>\n",
       "      <td>Moon Phase calculatorApril 19, 2021 5h</td>\n",
       "      <td>| waxing crescent moon\\n38.58% illuminated</td>\n",
       "    </tr>\n",
       "    <tr>\n",
       "      <th>4854</th>\n",
       "      <td>2021-04-19 06:00:00</td>\n",
       "      <td>-2 °C\\n(6:00 am CEST | Monday, April 19, 2021)</td>\n",
       "      <td>average: 100% (100%)\\n(6:00 am CEST | Monday, ...</td>\n",
       "      <td>1 m/s\\n(6:00 am CEST | Monday, April 19, 2021)</td>\n",
       "      <td>no precipitation\\n(6:00 am CEST | Monday, Apri...</td>\n",
       "      <td>Moon Phase calculatorApril 19, 2021 6h</td>\n",
       "      <td>| waxing crescent moon\\n38.98% illuminated</td>\n",
       "    </tr>\n",
       "    <tr>\n",
       "      <th>4855</th>\n",
       "      <td>2021-04-19 07:00:00</td>\n",
       "      <td>-1 °C\\n(7:00 am CEST | Monday, April 19, 2021)</td>\n",
       "      <td>average: 100% (100%)\\n(7:00 am CEST | Monday, ...</td>\n",
       "      <td>1 m/s\\n(7:00 am CEST | Monday, April 19, 2021)</td>\n",
       "      <td>no precipitation\\n(7:00 am CEST | Monday, Apri...</td>\n",
       "      <td>Moon Phase calculatorApril 19, 2021 7h</td>\n",
       "      <td>| waxing crescent moon\\n39.39% illuminated</td>\n",
       "    </tr>\n",
       "    <tr>\n",
       "      <th>4856</th>\n",
       "      <td>2021-04-19 08:00:00</td>\n",
       "      <td>2 °C\\n(8:00 am CEST | Monday, April 19, 2021)</td>\n",
       "      <td>average: 93% (87 to 100%)\\n(8:00 am CEST | Mon...</td>\n",
       "      <td>1 m/s\\n(8:00 am CEST | Monday, April 19, 2021)</td>\n",
       "      <td>no precipitation\\n(8:00 am CEST | Monday, Apri...</td>\n",
       "      <td>Moon Phase calculatorApril 19, 2021 8h</td>\n",
       "      <td>| waxing crescent moon\\n39.79% illuminated</td>\n",
       "    </tr>\n",
       "    <tr>\n",
       "      <th>4857</th>\n",
       "      <td>2021-04-19 09:00:00</td>\n",
       "      <td>4 °C\\n(9:00 am CEST | Monday, April 19, 2021)</td>\n",
       "      <td>average: 81% (81%)\\n(9:00 am CEST | Monday, Ap...</td>\n",
       "      <td>1 m/s\\n(9:00 am CEST | Monday, April 19, 2021)</td>\n",
       "      <td>no precipitation\\n(9:00 am CEST | Monday, Apri...</td>\n",
       "      <td>Moon Phase calculatorApril 19, 2021 9h</td>\n",
       "      <td>| waxing crescent moon\\n40.19% illuminated</td>\n",
       "    </tr>\n",
       "  </tbody>\n",
       "</table>\n",
       "</div>"
      ],
      "text/plain": [
       "                    date                                     temperature  \\\n",
       "4853 2021-04-19 05:00:00  -2 °C\\n(5:00 am CEST | Monday, April 19, 2021)   \n",
       "4854 2021-04-19 06:00:00  -2 °C\\n(6:00 am CEST | Monday, April 19, 2021)   \n",
       "4855 2021-04-19 07:00:00  -1 °C\\n(7:00 am CEST | Monday, April 19, 2021)   \n",
       "4856 2021-04-19 08:00:00   2 °C\\n(8:00 am CEST | Monday, April 19, 2021)   \n",
       "4857 2021-04-19 09:00:00   4 °C\\n(9:00 am CEST | Monday, April 19, 2021)   \n",
       "\n",
       "                                               humidity  \\\n",
       "4853  average: 100% (100%)\\n(5:00 am CEST | Monday, ...   \n",
       "4854  average: 100% (100%)\\n(6:00 am CEST | Monday, ...   \n",
       "4855  average: 100% (100%)\\n(7:00 am CEST | Monday, ...   \n",
       "4856  average: 93% (87 to 100%)\\n(8:00 am CEST | Mon...   \n",
       "4857  average: 81% (81%)\\n(9:00 am CEST | Monday, Ap...   \n",
       "\n",
       "                                          wind speed  \\\n",
       "4853  1 m/s\\n(5:00 am CEST | Monday, April 19, 2021)   \n",
       "4854  1 m/s\\n(6:00 am CEST | Monday, April 19, 2021)   \n",
       "4855  1 m/s\\n(7:00 am CEST | Monday, April 19, 2021)   \n",
       "4856  1 m/s\\n(8:00 am CEST | Monday, April 19, 2021)   \n",
       "4857  1 m/s\\n(9:00 am CEST | Monday, April 19, 2021)   \n",
       "\n",
       "                                   Precipitation amount  \\\n",
       "4853  no precipitation\\n(5:00 am CEST | Monday, Apri...   \n",
       "4854  no precipitation\\n(6:00 am CEST | Monday, Apri...   \n",
       "4855  no precipitation\\n(7:00 am CEST | Monday, Apri...   \n",
       "4856  no precipitation\\n(8:00 am CEST | Monday, Apri...   \n",
       "4857  no precipitation\\n(9:00 am CEST | Monday, Apri...   \n",
       "\n",
       "                                       query  \\\n",
       "4853  Moon Phase calculatorApril 19, 2021 5h   \n",
       "4854  Moon Phase calculatorApril 19, 2021 6h   \n",
       "4855  Moon Phase calculatorApril 19, 2021 7h   \n",
       "4856  Moon Phase calculatorApril 19, 2021 8h   \n",
       "4857  Moon Phase calculatorApril 19, 2021 9h   \n",
       "\n",
       "                           Moon Phase calculator  \n",
       "4853  | waxing crescent moon\\n38.58% illuminated  \n",
       "4854  | waxing crescent moon\\n38.98% illuminated  \n",
       "4855  | waxing crescent moon\\n39.39% illuminated  \n",
       "4856  | waxing crescent moon\\n39.79% illuminated  \n",
       "4857  | waxing crescent moon\\n40.19% illuminated  "
      ]
     },
     "execution_count": 4,
     "metadata": {},
     "output_type": "execute_result"
    }
   ],
   "source": [
    "mi = dt.datetime(2020,9,29)\n",
    "#ma = dt.datetime(2019,9,2)\n",
    "ma = dt.datetime(2021,8,2)\n",
    "df = pd.DataFrame(columns=['date', 'temperature', 'humidity', 'wind speed', 'Precipitation amount',\n",
    "                           'Moon Phase calculator','query']) #pressure\n",
    "path_weather = os.path.join(path_,'weather.csv')\n",
    "if len(glob.glob(path_weather))==1:\n",
    "    df = pd.read_csv(path_weather, sep=';', parse_dates=['date'])\n",
    "    #remove the last date, in case we stop in middle of the data to grab\n",
    "    #df = df[df['date']!=max(df['date'].unique())]\n",
    "    df = df.drop_duplicates(subset=None, keep='first', inplace=False)\n",
    "    print(df.shape)\n",
    "    print('We already have %d dates of weather'%df.shape[0])\n",
    "    #mi = max(mi, max(df['date'].tolist())) #not a good idea in case of errors as in that case we would like to try it again \n",
    "print(df[df.isin([\"ERROR\"]).any(axis=1)].shape)\n",
    "display(df[df.isin([\"ERROR\"]).any(axis=1)])\n",
    "df = df[~df.isin([\"ERROR\"]).any(axis=1)]\n",
    "#remove the rows with at least one error\n",
    "Daterange = pd.date_range(start=mi, end=ma, freq='H')   \n",
    "print(len(Daterange))\n",
    "Daterange = [d for d in Daterange if d not in df['date'].unique()]\n",
    "print(len(Daterange))\n",
    "if (len(Daterange)*len(li_type))>=2000:\n",
    "    print('WARNING: to many calls to be completed these queries!')\n",
    "print('You need %d new queries to complete this date interval'%(len(Daterange)*len(li_type)))\n",
    "df = df.sort_values(['date'])\n",
    "print(df.shape)\n",
    "df.tail(5)"
   ]
  },
  {
   "cell_type": "code",
   "execution_count": 5,
   "metadata": {
    "scrolled": true
   },
   "outputs": [
    {
     "name": "stderr",
     "output_type": "stream",
     "text": [
      "\r",
      "  0%|                                                                                         | 0/2550 [00:00<?, ?it/s]"
     ]
    },
    {
     "name": "stdout",
     "output_type": "stream",
     "text": [
      "QUERY:  Precipitation amount in Zollikofen November 5, 2020 22h\n",
      "ERROR:------------- results  ----------  Precipitation amount in Zollikofen November 5, 2020 22h\n",
      "QUERY:  temperature in Zollikofen November 5, 2020 22h\n",
      "QUERY:  humidity in Zollikofen November 5, 2020 22h\n",
      "ERROR: no data available-------------  humidity in Zollikofen November 5, 2020 22h\n",
      "ERROR:------------- name 'error' is not defined  ----------  humidity in Zollikofen November 5, 2020 22h\n",
      "QUERY:  wind speed in Zollikofen November 5, 2020 22h\n",
      "QUERY:  Moon Phase calculatorNovember 5, 2020 22h\n",
      "(4820, 7)\n"
     ]
    },
    {
     "data": {
      "text/html": [
       "<div>\n",
       "<style scoped>\n",
       "    .dataframe tbody tr th:only-of-type {\n",
       "        vertical-align: middle;\n",
       "    }\n",
       "\n",
       "    .dataframe tbody tr th {\n",
       "        vertical-align: top;\n",
       "    }\n",
       "\n",
       "    .dataframe thead th {\n",
       "        text-align: right;\n",
       "    }\n",
       "</style>\n",
       "<table border=\"1\" class=\"dataframe\">\n",
       "  <thead>\n",
       "    <tr style=\"text-align: right;\">\n",
       "      <th></th>\n",
       "      <th>date</th>\n",
       "      <th>temperature</th>\n",
       "      <th>humidity</th>\n",
       "      <th>wind speed</th>\n",
       "      <th>Precipitation amount</th>\n",
       "      <th>query</th>\n",
       "      <th>Moon Phase calculator</th>\n",
       "    </tr>\n",
       "  </thead>\n",
       "  <tbody>\n",
       "    <tr>\n",
       "      <th>4857</th>\n",
       "      <td>2021-04-19 09:00:00</td>\n",
       "      <td>4 °C\\n(9:00 am CEST | Monday, April 19, 2021)</td>\n",
       "      <td>average: 81% (81%)\\n(9:00 am CEST | Monday, Ap...</td>\n",
       "      <td>1 m/s\\n(9:00 am CEST | Monday, April 19, 2021)</td>\n",
       "      <td>no precipitation\\n(9:00 am CEST | Monday, Apri...</td>\n",
       "      <td>Moon Phase calculatorApril 19, 2021 9h</td>\n",
       "      <td>| waxing crescent moon\\n40.19% illuminated</td>\n",
       "    </tr>\n",
       "    <tr>\n",
       "      <th>0</th>\n",
       "      <td>2020-11-05 22:00:00</td>\n",
       "      <td>8 °C\\n(10:00 pm CET | Thursday, November 5, 2020)</td>\n",
       "      <td>ERROR</td>\n",
       "      <td>1 m/s\\n(10:00 pm CET | Thursday, November 5, 2...</td>\n",
       "      <td>ERROR</td>\n",
       "      <td>Moon Phase calculatorNovember 5, 2020 22h</td>\n",
       "      <td>| waning gibbous moon\\n76.55% illuminated</td>\n",
       "    </tr>\n",
       "  </tbody>\n",
       "</table>\n",
       "</div>"
      ],
      "text/plain": [
       "                    date                                        temperature  \\\n",
       "4857 2021-04-19 09:00:00      4 °C\\n(9:00 am CEST | Monday, April 19, 2021)   \n",
       "0    2020-11-05 22:00:00  8 °C\\n(10:00 pm CET | Thursday, November 5, 2020)   \n",
       "\n",
       "                                               humidity  \\\n",
       "4857  average: 81% (81%)\\n(9:00 am CEST | Monday, Ap...   \n",
       "0                                                 ERROR   \n",
       "\n",
       "                                             wind speed  \\\n",
       "4857     1 m/s\\n(9:00 am CEST | Monday, April 19, 2021)   \n",
       "0     1 m/s\\n(10:00 pm CET | Thursday, November 5, 2...   \n",
       "\n",
       "                                   Precipitation amount  \\\n",
       "4857  no precipitation\\n(9:00 am CEST | Monday, Apri...   \n",
       "0                                                 ERROR   \n",
       "\n",
       "                                          query  \\\n",
       "4857     Moon Phase calculatorApril 19, 2021 9h   \n",
       "0     Moon Phase calculatorNovember 5, 2020 22h   \n",
       "\n",
       "                           Moon Phase calculator  \n",
       "4857  | waxing crescent moon\\n40.19% illuminated  \n",
       "0      | waning gibbous moon\\n76.55% illuminated  "
      ]
     },
     "metadata": {},
     "output_type": "display_data"
    },
    {
     "name": "stderr",
     "output_type": "stream",
     "text": [
      "\r",
      "  0%|                                                                              | 1/2550 [00:24<17:17:12, 24.41s/it]"
     ]
    },
    {
     "name": "stdout",
     "output_type": "stream",
     "text": [
      "QUERY:  Precipitation amount in Zollikofen November 16, 2020 19h\n",
      "ERROR:------------- results  ----------  Precipitation amount in Zollikofen November 16, 2020 19h\n",
      "QUERY:  temperature in Zollikofen November 16, 2020 19h\n",
      "QUERY:  humidity in Zollikofen November 16, 2020 19h\n",
      "ERROR: no data available-------------  humidity in Zollikofen November 16, 2020 19h\n",
      "ERROR:------------- name 'error' is not defined  ----------  humidity in Zollikofen November 16, 2020 19h\n",
      "QUERY:  wind speed in Zollikofen November 16, 2020 19h\n",
      "QUERY:  Moon Phase calculatorNovember 16, 2020 19h\n"
     ]
    },
    {
     "name": "stderr",
     "output_type": "stream",
     "text": [
      "\r",
      "  0%|                                                                              | 2/2550 [00:49<17:31:11, 24.75s/it]"
     ]
    },
    {
     "name": "stdout",
     "output_type": "stream",
     "text": [
      "QUERY:  Precipitation amount in Zollikofen November 16, 2020 20h\n",
      "QUERY:  temperature in Zollikofen November 16, 2020 20h\n",
      "QUERY:  humidity in Zollikofen November 16, 2020 20h\n",
      "QUERY:  wind speed in Zollikofen November 16, 2020 20h\n",
      "QUERY:  Moon Phase calculatorNovember 16, 2020 20h\n"
     ]
    },
    {
     "name": "stderr",
     "output_type": "stream",
     "text": [
      "\r",
      "  0%|                                                                              | 3/2550 [01:14<17:31:18, 24.77s/it]"
     ]
    },
    {
     "name": "stdout",
     "output_type": "stream",
     "text": [
      "QUERY:  Precipitation amount in Zollikofen November 16, 2020 21h\n",
      "QUERY:  temperature in Zollikofen November 16, 2020 21h\n",
      "QUERY:  humidity in Zollikofen November 16, 2020 21h\n",
      "ERROR: no data available-------------  humidity in Zollikofen November 16, 2020 21h\n",
      "ERROR:------------- name 'error' is not defined  ----------  humidity in Zollikofen November 16, 2020 21h\n",
      "QUERY:  wind speed in Zollikofen November 16, 2020 21h\n",
      "QUERY:  Moon Phase calculatorNovember 16, 2020 21h\n"
     ]
    },
    {
     "name": "stderr",
     "output_type": "stream",
     "text": [
      "\r",
      "  0%|                                                                              | 4/2550 [01:35<16:36:54, 23.49s/it]"
     ]
    },
    {
     "name": "stdout",
     "output_type": "stream",
     "text": [
      "QUERY:  Precipitation amount in Zollikofen December 15, 2020 21h\n",
      "QUERY:  temperature in Zollikofen December 15, 2020 21h\n",
      "QUERY:  humidity in Zollikofen December 15, 2020 21h\n",
      "ERROR: no data available-------------  humidity in Zollikofen December 15, 2020 21h\n",
      "ERROR:------------- name 'error' is not defined  ----------  humidity in Zollikofen December 15, 2020 21h\n",
      "QUERY:  wind speed in Zollikofen December 15, 2020 21h\n",
      "QUERY:  Moon Phase calculatorDecember 15, 2020 21h\n"
     ]
    },
    {
     "name": "stderr",
     "output_type": "stream",
     "text": [
      "\r",
      "  0%|▏                                                                             | 5/2550 [02:29<23:12:07, 32.82s/it]"
     ]
    },
    {
     "name": "stdout",
     "output_type": "stream",
     "text": [
      "ERROR:------------- HTTP Error 403: Forbidden  ----------  Moon Phase calculatorDecember 15, 2020 21h\n",
      "QUERY:  Precipitation amount in Zollikofen February 8, 2021 17h\n",
      "QUERY:  temperature in Zollikofen February 8, 2021 17h\n",
      "QUERY:  humidity in Zollikofen February 8, 2021 17h\n",
      "ERROR: no data available-------------  humidity in Zollikofen February 8, 2021 17h\n",
      "ERROR:------------- name 'error' is not defined  ----------  humidity in Zollikofen February 8, 2021 17h\n",
      "QUERY:  wind speed in Zollikofen February 8, 2021 17h\n",
      "QUERY:  Moon Phase calculatorFebruary 8, 2021 17h\n"
     ]
    },
    {
     "name": "stderr",
     "output_type": "stream",
     "text": [
      "\r",
      "  0%|▏                                                                             | 6/2550 [02:50<20:34:55, 29.13s/it]"
     ]
    },
    {
     "name": "stdout",
     "output_type": "stream",
     "text": [
      "QUERY:  Precipitation amount in Zollikofen February 8, 2021 18h\n",
      "QUERY:  temperature in Zollikofen February 8, 2021 18h\n",
      "QUERY:  humidity in Zollikofen February 8, 2021 18h\n",
      "ERROR: no data available-------------  humidity in Zollikofen February 8, 2021 18h\n",
      "ERROR:------------- name 'error' is not defined  ----------  humidity in Zollikofen February 8, 2021 18h\n",
      "QUERY:  wind speed in Zollikofen February 8, 2021 18h\n",
      "QUERY:  Moon Phase calculatorFebruary 8, 2021 18h\n"
     ]
    },
    {
     "name": "stderr",
     "output_type": "stream",
     "text": [
      "\r",
      "  0%|▏                                                                             | 7/2550 [03:11<18:55:53, 26.80s/it]"
     ]
    },
    {
     "name": "stdout",
     "output_type": "stream",
     "text": [
      "QUERY:  Precipitation amount in Zollikofen February 8, 2021 19h\n",
      "QUERY:  temperature in Zollikofen February 8, 2021 19h\n",
      "QUERY:  humidity in Zollikofen February 8, 2021 19h\n",
      "ERROR: no data available-------------  humidity in Zollikofen February 8, 2021 19h\n",
      "ERROR:------------- name 'error' is not defined  ----------  humidity in Zollikofen February 8, 2021 19h\n",
      "QUERY:  wind speed in Zollikofen February 8, 2021 19h\n",
      "QUERY:  Moon Phase calculatorFebruary 8, 2021 19h\n"
     ]
    },
    {
     "name": "stderr",
     "output_type": "stream",
     "text": [
      "\r",
      "  0%|▏                                                                             | 8/2550 [03:32<17:35:27, 24.91s/it]"
     ]
    },
    {
     "name": "stdout",
     "output_type": "stream",
     "text": [
      "QUERY:  Precipitation amount in Zollikofen February 8, 2021 20h\n",
      "QUERY:  temperature in Zollikofen February 8, 2021 20h\n",
      "QUERY:  humidity in Zollikofen February 8, 2021 20h\n",
      "ERROR: no data available-------------  humidity in Zollikofen February 8, 2021 20h\n",
      "ERROR:------------- name 'error' is not defined  ----------  humidity in Zollikofen February 8, 2021 20h\n",
      "QUERY:  wind speed in Zollikofen February 8, 2021 20h\n",
      "QUERY:  Moon Phase calculatorFebruary 8, 2021 20h\n"
     ]
    },
    {
     "name": "stderr",
     "output_type": "stream",
     "text": [
      "\r",
      "  0%|▎                                                                             | 9/2550 [03:52<16:34:29, 23.48s/it]"
     ]
    },
    {
     "name": "stdout",
     "output_type": "stream",
     "text": [
      "QUERY:  Precipitation amount in Zollikofen February 9, 2021 9h\n",
      "QUERY:  temperature in Zollikofen February 9, 2021 9h\n",
      "QUERY:  humidity in Zollikofen February 9, 2021 9h\n",
      "ERROR: no data available-------------  humidity in Zollikofen February 9, 2021 9h\n",
      "ERROR:------------- name 'error' is not defined  ----------  humidity in Zollikofen February 9, 2021 9h\n",
      "QUERY:  wind speed in Zollikofen February 9, 2021 9h\n",
      "QUERY:  Moon Phase calculatorFebruary 9, 2021 9h\n"
     ]
    },
    {
     "name": "stderr",
     "output_type": "stream",
     "text": [
      "\r",
      "  0%|▎                                                                            | 10/2550 [04:14<16:11:36, 22.95s/it]"
     ]
    },
    {
     "name": "stdout",
     "output_type": "stream",
     "text": [
      "QUERY:  Precipitation amount in Zollikofen February 9, 2021 10h\n",
      "QUERY:  temperature in Zollikofen February 9, 2021 10h\n",
      "QUERY:  humidity in Zollikofen February 9, 2021 10h\n",
      "ERROR: no data available-------------  humidity in Zollikofen February 9, 2021 10h\n",
      "ERROR:------------- name 'error' is not defined  ----------  humidity in Zollikofen February 9, 2021 10h\n",
      "QUERY:  wind speed in Zollikofen February 9, 2021 10h\n",
      "QUERY:  Moon Phase calculatorFebruary 9, 2021 10h\n",
      "(4830, 7)\n"
     ]
    },
    {
     "data": {
      "text/html": [
       "<div>\n",
       "<style scoped>\n",
       "    .dataframe tbody tr th:only-of-type {\n",
       "        vertical-align: middle;\n",
       "    }\n",
       "\n",
       "    .dataframe tbody tr th {\n",
       "        vertical-align: top;\n",
       "    }\n",
       "\n",
       "    .dataframe thead th {\n",
       "        text-align: right;\n",
       "    }\n",
       "</style>\n",
       "<table border=\"1\" class=\"dataframe\">\n",
       "  <thead>\n",
       "    <tr style=\"text-align: right;\">\n",
       "      <th></th>\n",
       "      <th>date</th>\n",
       "      <th>temperature</th>\n",
       "      <th>humidity</th>\n",
       "      <th>wind speed</th>\n",
       "      <th>Precipitation amount</th>\n",
       "      <th>query</th>\n",
       "      <th>Moon Phase calculator</th>\n",
       "    </tr>\n",
       "  </thead>\n",
       "  <tbody>\n",
       "    <tr>\n",
       "      <th>8</th>\n",
       "      <td>2021-02-09 09:00:00</td>\n",
       "      <td>0 °C\\n(9:00 am CET | Tuesday, February 9, 2021)</td>\n",
       "      <td>ERROR</td>\n",
       "      <td>1 m/s\\n(9:00 am CET | Tuesday, February 9, 2021)</td>\n",
       "      <td>(unknown)\\n(9:00 am CET | Tuesday, February 9,...</td>\n",
       "      <td>Moon Phase calculatorFebruary 9, 2021 9h</td>\n",
       "      <td>| waning crescent moon\\n7.06% illuminated</td>\n",
       "    </tr>\n",
       "    <tr>\n",
       "      <th>9</th>\n",
       "      <td>2021-02-09 10:00:00</td>\n",
       "      <td>0 °C\\n(10:00 am CET | Tuesday, February 9, 2021)</td>\n",
       "      <td>ERROR</td>\n",
       "      <td>1 m/s\\n(10:00 am CET | Tuesday, February 9, 2021)</td>\n",
       "      <td>(unknown)\\n(10:00 am CET | Tuesday, February 9...</td>\n",
       "      <td>Moon Phase calculatorFebruary 9, 2021 10h</td>\n",
       "      <td>| waning crescent moon\\n6.82% illuminated</td>\n",
       "    </tr>\n",
       "  </tbody>\n",
       "</table>\n",
       "</div>"
      ],
      "text/plain": [
       "                 date                                       temperature  \\\n",
       "8 2021-02-09 09:00:00   0 °C\\n(9:00 am CET | Tuesday, February 9, 2021)   \n",
       "9 2021-02-09 10:00:00  0 °C\\n(10:00 am CET | Tuesday, February 9, 2021)   \n",
       "\n",
       "  humidity                                         wind speed  \\\n",
       "8    ERROR   1 m/s\\n(9:00 am CET | Tuesday, February 9, 2021)   \n",
       "9    ERROR  1 m/s\\n(10:00 am CET | Tuesday, February 9, 2021)   \n",
       "\n",
       "                                Precipitation amount  \\\n",
       "8  (unknown)\\n(9:00 am CET | Tuesday, February 9,...   \n",
       "9  (unknown)\\n(10:00 am CET | Tuesday, February 9...   \n",
       "\n",
       "                                       query  \\\n",
       "8   Moon Phase calculatorFebruary 9, 2021 9h   \n",
       "9  Moon Phase calculatorFebruary 9, 2021 10h   \n",
       "\n",
       "                       Moon Phase calculator  \n",
       "8  | waning crescent moon\\n7.06% illuminated  \n",
       "9  | waning crescent moon\\n6.82% illuminated  "
      ]
     },
     "metadata": {},
     "output_type": "display_data"
    },
    {
     "name": "stderr",
     "output_type": "stream",
     "text": [
      "\r",
      "  0%|▎                                                                            | 11/2550 [04:33<15:32:13, 22.03s/it]"
     ]
    },
    {
     "name": "stdout",
     "output_type": "stream",
     "text": [
      "QUERY:  Precipitation amount in Zollikofen February 9, 2021 11h\n",
      "QUERY:  temperature in Zollikofen February 9, 2021 11h\n",
      "QUERY:  humidity in Zollikofen February 9, 2021 11h\n",
      "ERROR: no data available-------------  humidity in Zollikofen February 9, 2021 11h\n",
      "ERROR:------------- name 'error' is not defined  ----------  humidity in Zollikofen February 9, 2021 11h\n",
      "QUERY:  wind speed in Zollikofen February 9, 2021 11h\n",
      "QUERY:  Moon Phase calculatorFebruary 9, 2021 11h\n"
     ]
    },
    {
     "name": "stderr",
     "output_type": "stream",
     "text": [
      "\r",
      "  0%|▎                                                                            | 12/2550 [04:53<15:03:26, 21.36s/it]"
     ]
    },
    {
     "name": "stdout",
     "output_type": "stream",
     "text": [
      "QUERY:  Precipitation amount in Zollikofen February 9, 2021 12h\n",
      "QUERY:  temperature in Zollikofen February 9, 2021 12h\n",
      "QUERY:  humidity in Zollikofen February 9, 2021 12h\n",
      "ERROR: no data available-------------  humidity in Zollikofen February 9, 2021 12h\n",
      "ERROR:------------- name 'error' is not defined  ----------  humidity in Zollikofen February 9, 2021 12h\n",
      "QUERY:  wind speed in Zollikofen February 9, 2021 12h\n",
      "QUERY:  Moon Phase calculatorFebruary 9, 2021 12h\n"
     ]
    },
    {
     "name": "stderr",
     "output_type": "stream",
     "text": [
      "\r",
      "  1%|▍                                                                            | 13/2550 [05:13<14:37:47, 20.76s/it]"
     ]
    },
    {
     "name": "stdout",
     "output_type": "stream",
     "text": [
      "QUERY:  Precipitation amount in Zollikofen February 9, 2021 13h\n",
      "QUERY:  temperature in Zollikofen February 9, 2021 13h\n",
      "QUERY:  humidity in Zollikofen February 9, 2021 13h\n",
      "ERROR: no data available-------------  humidity in Zollikofen February 9, 2021 13h\n",
      "ERROR:------------- name 'error' is not defined  ----------  humidity in Zollikofen February 9, 2021 13h\n",
      "QUERY:  wind speed in Zollikofen February 9, 2021 13h\n",
      "QUERY:  Moon Phase calculatorFebruary 9, 2021 13h\n"
     ]
    },
    {
     "name": "stderr",
     "output_type": "stream",
     "text": [
      "\r",
      "  1%|▍                                                                            | 14/2550 [05:34<14:41:02, 20.84s/it]"
     ]
    },
    {
     "name": "stdout",
     "output_type": "stream",
     "text": [
      "QUERY:  Precipitation amount in Zollikofen February 9, 2021 15h\n",
      "QUERY:  temperature in Zollikofen February 9, 2021 15h\n",
      "QUERY:  humidity in Zollikofen February 9, 2021 15h\n",
      "ERROR: no data available-------------  humidity in Zollikofen February 9, 2021 15h\n",
      "ERROR:------------- name 'error' is not defined  ----------  humidity in Zollikofen February 9, 2021 15h\n",
      "QUERY:  wind speed in Zollikofen February 9, 2021 15h\n",
      "QUERY:  Moon Phase calculatorFebruary 9, 2021 15h\n"
     ]
    },
    {
     "name": "stderr",
     "output_type": "stream",
     "text": [
      "\r",
      "  1%|▍                                                                            | 15/2550 [05:55<14:50:15, 21.07s/it]"
     ]
    },
    {
     "name": "stdout",
     "output_type": "stream",
     "text": [
      "QUERY:  Precipitation amount in Zollikofen February 9, 2021 16h\n",
      "QUERY:  temperature in Zollikofen February 9, 2021 16h\n",
      "QUERY:  humidity in Zollikofen February 9, 2021 16h\n",
      "ERROR: no data available-------------  humidity in Zollikofen February 9, 2021 16h\n",
      "ERROR:------------- name 'error' is not defined  ----------  humidity in Zollikofen February 9, 2021 16h\n",
      "QUERY:  wind speed in Zollikofen February 9, 2021 16h\n",
      "QUERY:  Moon Phase calculatorFebruary 9, 2021 16h\n"
     ]
    },
    {
     "name": "stderr",
     "output_type": "stream",
     "text": [
      "\r",
      "  1%|▍                                                                            | 16/2550 [06:15<14:28:24, 20.56s/it]"
     ]
    },
    {
     "name": "stdout",
     "output_type": "stream",
     "text": [
      "QUERY:  Precipitation amount in Zollikofen February 9, 2021 17h\n",
      "QUERY:  temperature in Zollikofen February 9, 2021 17h\n",
      "QUERY:  humidity in Zollikofen February 9, 2021 17h\n",
      "ERROR: no data available-------------  humidity in Zollikofen February 9, 2021 17h\n",
      "ERROR:------------- name 'error' is not defined  ----------  humidity in Zollikofen February 9, 2021 17h\n",
      "QUERY:  wind speed in Zollikofen February 9, 2021 17h\n",
      "QUERY:  Moon Phase calculatorFebruary 9, 2021 17h\n"
     ]
    },
    {
     "name": "stderr",
     "output_type": "stream",
     "text": [
      "\r",
      "  1%|▌                                                                            | 17/2550 [06:34<14:13:28, 20.22s/it]"
     ]
    },
    {
     "name": "stdout",
     "output_type": "stream",
     "text": [
      "QUERY:  Precipitation amount in Zollikofen February 9, 2021 18h\n",
      "QUERY:  temperature in Zollikofen February 9, 2021 18h\n",
      "QUERY:  humidity in Zollikofen February 9, 2021 18h\n",
      "ERROR: no data available-------------  humidity in Zollikofen February 9, 2021 18h\n",
      "ERROR:------------- name 'error' is not defined  ----------  humidity in Zollikofen February 9, 2021 18h\n",
      "QUERY:  wind speed in Zollikofen February 9, 2021 18h\n",
      "QUERY:  Moon Phase calculatorFebruary 9, 2021 18h\n"
     ]
    },
    {
     "name": "stderr",
     "output_type": "stream",
     "text": [
      "\r",
      "  1%|▌                                                                            | 18/2550 [06:54<14:04:33, 20.01s/it]"
     ]
    },
    {
     "name": "stdout",
     "output_type": "stream",
     "text": [
      "QUERY:  Precipitation amount in Zollikofen February 9, 2021 19h\n",
      "QUERY:  temperature in Zollikofen February 9, 2021 19h\n",
      "QUERY:  humidity in Zollikofen February 9, 2021 19h\n",
      "ERROR: no data available-------------  humidity in Zollikofen February 9, 2021 19h\n",
      "ERROR:------------- name 'error' is not defined  ----------  humidity in Zollikofen February 9, 2021 19h\n",
      "QUERY:  wind speed in Zollikofen February 9, 2021 19h\n",
      "QUERY:  Moon Phase calculatorFebruary 9, 2021 19h\n"
     ]
    },
    {
     "name": "stderr",
     "output_type": "stream",
     "text": [
      "\r",
      "  1%|▌                                                                            | 19/2550 [07:13<13:59:10, 19.89s/it]"
     ]
    },
    {
     "name": "stdout",
     "output_type": "stream",
     "text": [
      "QUERY:  Precipitation amount in Zollikofen February 9, 2021 20h\n",
      "QUERY:  temperature in Zollikofen February 9, 2021 20h\n",
      "QUERY:  humidity in Zollikofen February 9, 2021 20h\n",
      "ERROR: no data available-------------  humidity in Zollikofen February 9, 2021 20h\n",
      "ERROR:------------- name 'error' is not defined  ----------  humidity in Zollikofen February 9, 2021 20h\n",
      "QUERY:  wind speed in Zollikofen February 9, 2021 20h\n",
      "QUERY:  Moon Phase calculatorFebruary 9, 2021 20h\n"
     ]
    },
    {
     "name": "stderr",
     "output_type": "stream",
     "text": [
      "\r",
      "  1%|▌                                                                            | 20/2550 [07:33<13:58:41, 19.89s/it]"
     ]
    },
    {
     "name": "stdout",
     "output_type": "stream",
     "text": [
      "QUERY:  Precipitation amount in Zollikofen February 9, 2021 21h\n",
      "QUERY:  temperature in Zollikofen February 9, 2021 21h\n",
      "QUERY:  humidity in Zollikofen February 9, 2021 21h\n",
      "ERROR: no data available-------------  humidity in Zollikofen February 9, 2021 21h\n",
      "ERROR:------------- name 'error' is not defined  ----------  humidity in Zollikofen February 9, 2021 21h\n",
      "QUERY:  wind speed in Zollikofen February 9, 2021 21h\n",
      "QUERY:  Moon Phase calculatorFebruary 9, 2021 21h\n",
      "(4840, 7)\n"
     ]
    },
    {
     "data": {
      "text/html": [
       "<div>\n",
       "<style scoped>\n",
       "    .dataframe tbody tr th:only-of-type {\n",
       "        vertical-align: middle;\n",
       "    }\n",
       "\n",
       "    .dataframe tbody tr th {\n",
       "        vertical-align: top;\n",
       "    }\n",
       "\n",
       "    .dataframe thead th {\n",
       "        text-align: right;\n",
       "    }\n",
       "</style>\n",
       "<table border=\"1\" class=\"dataframe\">\n",
       "  <thead>\n",
       "    <tr style=\"text-align: right;\">\n",
       "      <th></th>\n",
       "      <th>date</th>\n",
       "      <th>temperature</th>\n",
       "      <th>humidity</th>\n",
       "      <th>wind speed</th>\n",
       "      <th>Precipitation amount</th>\n",
       "      <th>query</th>\n",
       "      <th>Moon Phase calculator</th>\n",
       "    </tr>\n",
       "  </thead>\n",
       "  <tbody>\n",
       "    <tr>\n",
       "      <th>8</th>\n",
       "      <td>2021-02-09 20:00:00</td>\n",
       "      <td>0 °C\\n(8:00 pm CET | Tuesday, February 9, 2021)</td>\n",
       "      <td>ERROR</td>\n",
       "      <td>3 m/s\\n(8:00 pm CET | Tuesday, February 9, 2021)</td>\n",
       "      <td>(unknown)\\n(8:00 pm CET | Tuesday, February 9,...</td>\n",
       "      <td>Moon Phase calculatorFebruary 9, 2021 20h</td>\n",
       "      <td>| waning crescent moon\\n4.72% illuminated</td>\n",
       "    </tr>\n",
       "    <tr>\n",
       "      <th>9</th>\n",
       "      <td>2021-02-09 21:00:00</td>\n",
       "      <td>0 °C\\n(9:00 pm CET | Tuesday, February 9, 2021)</td>\n",
       "      <td>ERROR</td>\n",
       "      <td>4 m/s\\n(9:00 pm CET | Tuesday, February 9, 2021)</td>\n",
       "      <td>(unknown)\\n(9:00 pm CET | Tuesday, February 9,...</td>\n",
       "      <td>Moon Phase calculatorFebruary 9, 2021 21h</td>\n",
       "      <td>| waning crescent moon\\n4.53% illuminated</td>\n",
       "    </tr>\n",
       "  </tbody>\n",
       "</table>\n",
       "</div>"
      ],
      "text/plain": [
       "                 date                                      temperature  \\\n",
       "8 2021-02-09 20:00:00  0 °C\\n(8:00 pm CET | Tuesday, February 9, 2021)   \n",
       "9 2021-02-09 21:00:00  0 °C\\n(9:00 pm CET | Tuesday, February 9, 2021)   \n",
       "\n",
       "  humidity                                        wind speed  \\\n",
       "8    ERROR  3 m/s\\n(8:00 pm CET | Tuesday, February 9, 2021)   \n",
       "9    ERROR  4 m/s\\n(9:00 pm CET | Tuesday, February 9, 2021)   \n",
       "\n",
       "                                Precipitation amount  \\\n",
       "8  (unknown)\\n(8:00 pm CET | Tuesday, February 9,...   \n",
       "9  (unknown)\\n(9:00 pm CET | Tuesday, February 9,...   \n",
       "\n",
       "                                       query  \\\n",
       "8  Moon Phase calculatorFebruary 9, 2021 20h   \n",
       "9  Moon Phase calculatorFebruary 9, 2021 21h   \n",
       "\n",
       "                       Moon Phase calculator  \n",
       "8  | waning crescent moon\\n4.72% illuminated  \n",
       "9  | waning crescent moon\\n4.53% illuminated  "
      ]
     },
     "metadata": {},
     "output_type": "display_data"
    },
    {
     "name": "stderr",
     "output_type": "stream",
     "text": [
      "\r",
      "  1%|▋                                                                            | 21/2550 [07:53<14:01:10, 19.96s/it]"
     ]
    },
    {
     "name": "stdout",
     "output_type": "stream",
     "text": [
      "QUERY:  Precipitation amount in Zollikofen February 9, 2021 22h\n",
      "QUERY:  temperature in Zollikofen February 9, 2021 22h\n",
      "QUERY:  humidity in Zollikofen February 9, 2021 22h\n",
      "ERROR: no data available-------------  humidity in Zollikofen February 9, 2021 22h\n",
      "ERROR:------------- name 'error' is not defined  ----------  humidity in Zollikofen February 9, 2021 22h\n",
      "QUERY:  wind speed in Zollikofen February 9, 2021 22h\n",
      "QUERY:  Moon Phase calculatorFebruary 9, 2021 22h\n"
     ]
    },
    {
     "name": "stderr",
     "output_type": "stream",
     "text": [
      "\r",
      "  1%|▋                                                                            | 22/2550 [08:13<13:55:44, 19.84s/it]"
     ]
    },
    {
     "name": "stdout",
     "output_type": "stream",
     "text": [
      "QUERY:  Precipitation amount in Zollikofen February 10, 2021 10h\n",
      "QUERY:  temperature in Zollikofen February 10, 2021 10h\n",
      "QUERY:  humidity in Zollikofen February 10, 2021 10h\n",
      "ERROR: no data available-------------  humidity in Zollikofen February 10, 2021 10h\n",
      "ERROR:------------- name 'error' is not defined  ----------  humidity in Zollikofen February 10, 2021 10h\n",
      "QUERY:  wind speed in Zollikofen February 10, 2021 10h\n",
      "QUERY:  Moon Phase calculatorFebruary 10, 2021 10h\n"
     ]
    },
    {
     "name": "stderr",
     "output_type": "stream",
     "text": [
      "\r",
      "  1%|▋                                                                            | 23/2550 [08:33<13:54:22, 19.81s/it]"
     ]
    },
    {
     "name": "stdout",
     "output_type": "stream",
     "text": [
      "QUERY:  Precipitation amount in Zollikofen February 10, 2021 11h\n",
      "QUERY:  temperature in Zollikofen February 10, 2021 11h\n",
      "QUERY:  humidity in Zollikofen February 10, 2021 11h\n",
      "ERROR: no data available-------------  humidity in Zollikofen February 10, 2021 11h\n",
      "ERROR:------------- name 'error' is not defined  ----------  humidity in Zollikofen February 10, 2021 11h\n",
      "QUERY:  wind speed in Zollikofen February 10, 2021 11h\n",
      "QUERY:  Moon Phase calculatorFebruary 10, 2021 11h\n"
     ]
    },
    {
     "name": "stderr",
     "output_type": "stream",
     "text": [
      "\r",
      "  1%|▋                                                                            | 24/2550 [08:53<13:56:11, 19.86s/it]"
     ]
    },
    {
     "name": "stdout",
     "output_type": "stream",
     "text": [
      "QUERY:  Precipitation amount in Zollikofen February 10, 2021 12h\n",
      "QUERY:  temperature in Zollikofen February 10, 2021 12h\n",
      "QUERY:  humidity in Zollikofen February 10, 2021 12h\n",
      "ERROR: no data available-------------  humidity in Zollikofen February 10, 2021 12h\n",
      "ERROR:------------- name 'error' is not defined  ----------  humidity in Zollikofen February 10, 2021 12h\n",
      "QUERY:  wind speed in Zollikofen February 10, 2021 12h\n",
      "QUERY:  Moon Phase calculatorFebruary 10, 2021 12h\n"
     ]
    },
    {
     "name": "stderr",
     "output_type": "stream",
     "text": [
      "\r",
      "  1%|▊                                                                            | 25/2550 [09:13<14:06:51, 20.12s/it]"
     ]
    },
    {
     "name": "stdout",
     "output_type": "stream",
     "text": [
      "QUERY:  Precipitation amount in Zollikofen February 10, 2021 13h\n",
      "QUERY:  temperature in Zollikofen February 10, 2021 13h\n",
      "QUERY:  humidity in Zollikofen February 10, 2021 13h\n",
      "ERROR: no data available-------------  humidity in Zollikofen February 10, 2021 13h\n",
      "ERROR:------------- name 'error' is not defined  ----------  humidity in Zollikofen February 10, 2021 13h\n",
      "QUERY:  wind speed in Zollikofen February 10, 2021 13h\n",
      "QUERY:  Moon Phase calculatorFebruary 10, 2021 13h\n"
     ]
    },
    {
     "name": "stderr",
     "output_type": "stream",
     "text": [
      "\r",
      "  1%|▊                                                                            | 26/2550 [09:34<14:16:26, 20.36s/it]"
     ]
    },
    {
     "name": "stdout",
     "output_type": "stream",
     "text": [
      "QUERY:  Precipitation amount in Zollikofen February 10, 2021 14h\n",
      "QUERY:  temperature in Zollikofen February 10, 2021 14h\n",
      "QUERY:  humidity in Zollikofen February 10, 2021 14h\n",
      "ERROR: no data available-------------  humidity in Zollikofen February 10, 2021 14h\n",
      "ERROR:------------- name 'error' is not defined  ----------  humidity in Zollikofen February 10, 2021 14h\n",
      "QUERY:  wind speed in Zollikofen February 10, 2021 14h\n",
      "QUERY:  Moon Phase calculatorFebruary 10, 2021 14h\n"
     ]
    },
    {
     "name": "stderr",
     "output_type": "stream",
     "text": [
      "\r",
      "  1%|▊                                                                            | 27/2550 [09:54<14:03:52, 20.07s/it]"
     ]
    },
    {
     "name": "stdout",
     "output_type": "stream",
     "text": [
      "QUERY:  Precipitation amount in Zollikofen February 10, 2021 15h\n",
      "QUERY:  temperature in Zollikofen February 10, 2021 15h\n",
      "QUERY:  humidity in Zollikofen February 10, 2021 15h\n",
      "ERROR: no data available-------------  humidity in Zollikofen February 10, 2021 15h\n",
      "ERROR:------------- name 'error' is not defined  ----------  humidity in Zollikofen February 10, 2021 15h\n",
      "QUERY:  wind speed in Zollikofen February 10, 2021 15h\n",
      "QUERY:  Moon Phase calculatorFebruary 10, 2021 15h\n"
     ]
    },
    {
     "name": "stderr",
     "output_type": "stream",
     "text": [
      "\r",
      "  1%|▊                                                                            | 28/2550 [10:13<13:55:13, 19.87s/it]"
     ]
    },
    {
     "name": "stdout",
     "output_type": "stream",
     "text": [
      "QUERY:  Precipitation amount in Zollikofen February 10, 2021 16h\n",
      "QUERY:  temperature in Zollikofen February 10, 2021 16h\n",
      "QUERY:  humidity in Zollikofen February 10, 2021 16h\n",
      "ERROR: no data available-------------  humidity in Zollikofen February 10, 2021 16h\n",
      "ERROR:------------- name 'error' is not defined  ----------  humidity in Zollikofen February 10, 2021 16h\n",
      "QUERY:  wind speed in Zollikofen February 10, 2021 16h\n",
      "QUERY:  Moon Phase calculatorFebruary 10, 2021 16h\n"
     ]
    },
    {
     "name": "stderr",
     "output_type": "stream",
     "text": [
      "\r",
      "  1%|▉                                                                            | 29/2550 [10:33<14:01:33, 20.03s/it]"
     ]
    },
    {
     "name": "stdout",
     "output_type": "stream",
     "text": [
      "QUERY:  Precipitation amount in Zollikofen February 10, 2021 17h\n",
      "QUERY:  temperature in Zollikofen February 10, 2021 17h\n",
      "QUERY:  humidity in Zollikofen February 10, 2021 17h\n",
      "ERROR: no data available-------------  humidity in Zollikofen February 10, 2021 17h\n",
      "ERROR:------------- name 'error' is not defined  ----------  humidity in Zollikofen February 10, 2021 17h\n",
      "QUERY:  wind speed in Zollikofen February 10, 2021 17h\n",
      "QUERY:  Moon Phase calculatorFebruary 10, 2021 17h\n"
     ]
    },
    {
     "name": "stderr",
     "output_type": "stream",
     "text": [
      "\r",
      "  1%|▉                                                                            | 30/2550 [10:53<13:55:18, 19.89s/it]"
     ]
    },
    {
     "name": "stdout",
     "output_type": "stream",
     "text": [
      "QUERY:  Precipitation amount in Zollikofen February 10, 2021 18h\n",
      "QUERY:  temperature in Zollikofen February 10, 2021 18h\n",
      "QUERY:  humidity in Zollikofen February 10, 2021 18h\n",
      "ERROR: no data available-------------  humidity in Zollikofen February 10, 2021 18h\n",
      "ERROR:------------- name 'error' is not defined  ----------  humidity in Zollikofen February 10, 2021 18h\n",
      "QUERY:  wind speed in Zollikofen February 10, 2021 18h\n",
      "QUERY:  Moon Phase calculatorFebruary 10, 2021 18h\n",
      "(4850, 7)\n"
     ]
    },
    {
     "data": {
      "text/html": [
       "<div>\n",
       "<style scoped>\n",
       "    .dataframe tbody tr th:only-of-type {\n",
       "        vertical-align: middle;\n",
       "    }\n",
       "\n",
       "    .dataframe tbody tr th {\n",
       "        vertical-align: top;\n",
       "    }\n",
       "\n",
       "    .dataframe thead th {\n",
       "        text-align: right;\n",
       "    }\n",
       "</style>\n",
       "<table border=\"1\" class=\"dataframe\">\n",
       "  <thead>\n",
       "    <tr style=\"text-align: right;\">\n",
       "      <th></th>\n",
       "      <th>date</th>\n",
       "      <th>temperature</th>\n",
       "      <th>humidity</th>\n",
       "      <th>wind speed</th>\n",
       "      <th>Precipitation amount</th>\n",
       "      <th>query</th>\n",
       "      <th>Moon Phase calculator</th>\n",
       "    </tr>\n",
       "  </thead>\n",
       "  <tbody>\n",
       "    <tr>\n",
       "      <th>8</th>\n",
       "      <td>2021-02-10 17:00:00</td>\n",
       "      <td>-2 °C\\n(5:00 pm CET | Wednesday, February 10, ...</td>\n",
       "      <td>ERROR</td>\n",
       "      <td>3 m/s\\n(5:00 pm CET | Wednesday, February 10, ...</td>\n",
       "      <td>(unknown)\\n(5:00 pm CET | Wednesday, February ...</td>\n",
       "      <td>Moon Phase calculatorFebruary 10, 2021 17h</td>\n",
       "      <td>| waning crescent moon\\n1.58% illuminated</td>\n",
       "    </tr>\n",
       "    <tr>\n",
       "      <th>9</th>\n",
       "      <td>2021-02-10 18:00:00</td>\n",
       "      <td>-2 °C\\n(6:00 pm CET | Wednesday, February 10, ...</td>\n",
       "      <td>ERROR</td>\n",
       "      <td>3 m/s\\n(6:00 pm CET | Wednesday, February 10, ...</td>\n",
       "      <td>(unknown)\\n(6:00 pm CET | Wednesday, February ...</td>\n",
       "      <td>Moon Phase calculatorFebruary 10, 2021 18h</td>\n",
       "      <td>| waning crescent moon\\n1.48% illuminated</td>\n",
       "    </tr>\n",
       "  </tbody>\n",
       "</table>\n",
       "</div>"
      ],
      "text/plain": [
       "                 date                                        temperature  \\\n",
       "8 2021-02-10 17:00:00  -2 °C\\n(5:00 pm CET | Wednesday, February 10, ...   \n",
       "9 2021-02-10 18:00:00  -2 °C\\n(6:00 pm CET | Wednesday, February 10, ...   \n",
       "\n",
       "  humidity                                         wind speed  \\\n",
       "8    ERROR  3 m/s\\n(5:00 pm CET | Wednesday, February 10, ...   \n",
       "9    ERROR  3 m/s\\n(6:00 pm CET | Wednesday, February 10, ...   \n",
       "\n",
       "                                Precipitation amount  \\\n",
       "8  (unknown)\\n(5:00 pm CET | Wednesday, February ...   \n",
       "9  (unknown)\\n(6:00 pm CET | Wednesday, February ...   \n",
       "\n",
       "                                        query  \\\n",
       "8  Moon Phase calculatorFebruary 10, 2021 17h   \n",
       "9  Moon Phase calculatorFebruary 10, 2021 18h   \n",
       "\n",
       "                       Moon Phase calculator  \n",
       "8  | waning crescent moon\\n1.58% illuminated  \n",
       "9  | waning crescent moon\\n1.48% illuminated  "
      ]
     },
     "metadata": {},
     "output_type": "display_data"
    },
    {
     "name": "stderr",
     "output_type": "stream",
     "text": [
      "\r",
      "  1%|▉                                                                            | 31/2550 [11:13<13:58:47, 19.98s/it]"
     ]
    },
    {
     "name": "stdout",
     "output_type": "stream",
     "text": [
      "QUERY:  Precipitation amount in Zollikofen February 10, 2021 19h\n",
      "QUERY:  temperature in Zollikofen February 10, 2021 19h\n",
      "QUERY:  humidity in Zollikofen February 10, 2021 19h\n",
      "ERROR: no data available-------------  humidity in Zollikofen February 10, 2021 19h\n",
      "ERROR:------------- name 'error' is not defined  ----------  humidity in Zollikofen February 10, 2021 19h\n",
      "QUERY:  wind speed in Zollikofen February 10, 2021 19h\n",
      "QUERY:  Moon Phase calculatorFebruary 10, 2021 19h\n"
     ]
    },
    {
     "name": "stderr",
     "output_type": "stream",
     "text": [
      "\r",
      "  1%|▉                                                                            | 32/2550 [11:35<14:25:22, 20.62s/it]"
     ]
    },
    {
     "name": "stdout",
     "output_type": "stream",
     "text": [
      "QUERY:  Precipitation amount in Zollikofen February 10, 2021 20h\n",
      "QUERY:  temperature in Zollikofen February 10, 2021 20h\n",
      "QUERY:  humidity in Zollikofen February 10, 2021 20h\n",
      "ERROR: no data available-------------  humidity in Zollikofen February 10, 2021 20h\n",
      "ERROR:------------- name 'error' is not defined  ----------  humidity in Zollikofen February 10, 2021 20h\n",
      "QUERY:  wind speed in Zollikofen February 10, 2021 20h\n",
      "QUERY:  Moon Phase calculatorFebruary 10, 2021 20h\n"
     ]
    },
    {
     "name": "stderr",
     "output_type": "stream",
     "text": [
      "\r",
      "  1%|▉                                                                            | 33/2550 [11:55<14:17:36, 20.44s/it]"
     ]
    },
    {
     "name": "stdout",
     "output_type": "stream",
     "text": [
      "QUERY:  Precipitation amount in Zollikofen February 10, 2021 21h\n",
      "QUERY:  temperature in Zollikofen February 10, 2021 21h\n",
      "QUERY:  humidity in Zollikofen February 10, 2021 21h\n",
      "ERROR: no data available-------------  humidity in Zollikofen February 10, 2021 21h\n",
      "ERROR:------------- name 'error' is not defined  ----------  humidity in Zollikofen February 10, 2021 21h\n",
      "QUERY:  wind speed in Zollikofen February 10, 2021 21h\n",
      "QUERY:  Moon Phase calculatorFebruary 10, 2021 21h\n"
     ]
    },
    {
     "name": "stderr",
     "output_type": "stream",
     "text": [
      "\r",
      "  1%|█                                                                            | 34/2550 [12:14<13:59:46, 20.03s/it]"
     ]
    },
    {
     "name": "stdout",
     "output_type": "stream",
     "text": [
      "QUERY:  Precipitation amount in Zollikofen February 10, 2021 22h\n",
      "QUERY:  temperature in Zollikofen February 10, 2021 22h\n",
      "QUERY:  humidity in Zollikofen February 10, 2021 22h\n",
      "ERROR: no data available-------------  humidity in Zollikofen February 10, 2021 22h\n",
      "ERROR:------------- name 'error' is not defined  ----------  humidity in Zollikofen February 10, 2021 22h\n",
      "QUERY:  wind speed in Zollikofen February 10, 2021 22h\n",
      "QUERY:  Moon Phase calculatorFebruary 10, 2021 22h\n"
     ]
    },
    {
     "name": "stderr",
     "output_type": "stream",
     "text": [
      "\r",
      "  1%|█                                                                            | 35/2550 [12:35<14:07:42, 20.22s/it]"
     ]
    },
    {
     "name": "stdout",
     "output_type": "stream",
     "text": [
      "QUERY:  Precipitation amount in Zollikofen February 10, 2021 23h\n",
      "QUERY:  temperature in Zollikofen February 10, 2021 23h\n",
      "QUERY:  humidity in Zollikofen February 10, 2021 23h\n",
      "ERROR: no data available-------------  humidity in Zollikofen February 10, 2021 23h\n",
      "ERROR:------------- name 'error' is not defined  ----------  humidity in Zollikofen February 10, 2021 23h\n",
      "QUERY:  wind speed in Zollikofen February 10, 2021 23h\n",
      "QUERY:  Moon Phase calculatorFebruary 10, 2021 23h\n"
     ]
    },
    {
     "name": "stderr",
     "output_type": "stream",
     "text": [
      "\r",
      "  1%|█                                                                            | 36/2550 [12:55<14:04:35, 20.16s/it]"
     ]
    },
    {
     "name": "stdout",
     "output_type": "stream",
     "text": [
      "QUERY:  Precipitation amount in Zollikofen March 28, 2021 1h\n",
      "QUERY:  temperature in Zollikofen March 28, 2021 1h\n",
      "QUERY:  humidity in Zollikofen March 28, 2021 1h\n",
      "ERROR: no data available-------------  humidity in Zollikofen March 28, 2021 1h\n",
      "ERROR:------------- name 'error' is not defined  ----------  humidity in Zollikofen March 28, 2021 1h\n",
      "QUERY:  wind speed in Zollikofen March 28, 2021 1h\n",
      "QUERY:  Moon Phase calculatorMarch 28, 2021 1h\n"
     ]
    },
    {
     "name": "stderr",
     "output_type": "stream",
     "text": [
      "\r",
      "  1%|█                                                                            | 37/2550 [13:13<13:40:24, 19.59s/it]"
     ]
    },
    {
     "name": "stdout",
     "output_type": "stream",
     "text": [
      "QUERY:  Precipitation amount in Zollikofen April 14, 2021 20h\n",
      "QUERY:  temperature in Zollikofen April 14, 2021 20h\n",
      "QUERY:  humidity in Zollikofen April 14, 2021 20h\n",
      "QUERY:  wind speed in Zollikofen April 14, 2021 20h\n",
      "QUERY:  Moon Phase calculatorApril 14, 2021 20h\n"
     ]
    },
    {
     "name": "stderr",
     "output_type": "stream",
     "text": [
      "\r",
      "  1%|█▏                                                                           | 38/2550 [13:33<13:47:20, 19.76s/it]"
     ]
    },
    {
     "name": "stdout",
     "output_type": "stream",
     "text": [
      "QUERY:  Precipitation amount in Zollikofen April 16, 2021 22h\n",
      "QUERY:  temperature in Zollikofen April 16, 2021 22h\n",
      "QUERY:  humidity in Zollikofen April 16, 2021 22h\n",
      "QUERY:  wind speed in Zollikofen April 16, 2021 22h\n",
      "QUERY:  Moon Phase calculatorApril 16, 2021 22h\n"
     ]
    },
    {
     "name": "stderr",
     "output_type": "stream",
     "text": [
      "\r",
      "  2%|█▏                                                                           | 39/2550 [13:52<13:37:23, 19.53s/it]"
     ]
    },
    {
     "name": "stdout",
     "output_type": "stream",
     "text": [
      "QUERY:  Precipitation amount in Zollikofen April 19, 2021 10h\n",
      "QUERY:  temperature in Zollikofen April 19, 2021 10h\n",
      "QUERY:  humidity in Zollikofen April 19, 2021 10h\n",
      "QUERY:  wind speed in Zollikofen April 19, 2021 10h\n",
      "QUERY:  Moon Phase calculatorApril 19, 2021 10h\n"
     ]
    },
    {
     "name": "stderr",
     "output_type": "stream",
     "text": [
      "\r",
      "  2%|█▏                                                                           | 40/2550 [14:12<13:39:13, 19.58s/it]"
     ]
    },
    {
     "name": "stdout",
     "output_type": "stream",
     "text": [
      "QUERY:  Precipitation amount in Zollikofen April 19, 2021 11h\n",
      "QUERY:  temperature in Zollikofen April 19, 2021 11h\n",
      "QUERY:  humidity in Zollikofen April 19, 2021 11h\n",
      "QUERY:  wind speed in Zollikofen April 19, 2021 11h\n",
      "QUERY:  Moon Phase calculatorApril 19, 2021 11h\n",
      "(4860, 7)\n"
     ]
    },
    {
     "data": {
      "text/html": [
       "<div>\n",
       "<style scoped>\n",
       "    .dataframe tbody tr th:only-of-type {\n",
       "        vertical-align: middle;\n",
       "    }\n",
       "\n",
       "    .dataframe tbody tr th {\n",
       "        vertical-align: top;\n",
       "    }\n",
       "\n",
       "    .dataframe thead th {\n",
       "        text-align: right;\n",
       "    }\n",
       "</style>\n",
       "<table border=\"1\" class=\"dataframe\">\n",
       "  <thead>\n",
       "    <tr style=\"text-align: right;\">\n",
       "      <th></th>\n",
       "      <th>date</th>\n",
       "      <th>temperature</th>\n",
       "      <th>humidity</th>\n",
       "      <th>wind speed</th>\n",
       "      <th>Precipitation amount</th>\n",
       "      <th>query</th>\n",
       "      <th>Moon Phase calculator</th>\n",
       "    </tr>\n",
       "  </thead>\n",
       "  <tbody>\n",
       "    <tr>\n",
       "      <th>8</th>\n",
       "      <td>2021-04-19 10:00:00</td>\n",
       "      <td>8 °C\\n(10:00 am CEST | Monday, April 19, 2021)</td>\n",
       "      <td>average: 64% (62 to 66%)\\n(10:00 am CEST | Mon...</td>\n",
       "      <td>1 m/s\\n(10:00 am CEST | Monday, April 19, 2021)</td>\n",
       "      <td>no precipitation\\n(10:00 am CEST | Monday, Apr...</td>\n",
       "      <td>Moon Phase calculatorApril 19, 2021 10h</td>\n",
       "      <td>| waxing crescent moon\\n40.60% illuminated</td>\n",
       "    </tr>\n",
       "    <tr>\n",
       "      <th>9</th>\n",
       "      <td>2021-04-19 11:00:00</td>\n",
       "      <td>9 °C\\n(11:00 am CEST | Monday, April 19, 2021)</td>\n",
       "      <td>average: 54% (50 to 58%)\\n(11:00 am CEST | Mon...</td>\n",
       "      <td>2 m/s\\n(11:00 am CEST | Monday, April 19, 2021)</td>\n",
       "      <td>no precipitation\\n(11:00 am CEST | Monday, Apr...</td>\n",
       "      <td>Moon Phase calculatorApril 19, 2021 11h</td>\n",
       "      <td>| waxing crescent moon\\n41.00% illuminated</td>\n",
       "    </tr>\n",
       "  </tbody>\n",
       "</table>\n",
       "</div>"
      ],
      "text/plain": [
       "                 date                                     temperature  \\\n",
       "8 2021-04-19 10:00:00  8 °C\\n(10:00 am CEST | Monday, April 19, 2021)   \n",
       "9 2021-04-19 11:00:00  9 °C\\n(11:00 am CEST | Monday, April 19, 2021)   \n",
       "\n",
       "                                            humidity  \\\n",
       "8  average: 64% (62 to 66%)\\n(10:00 am CEST | Mon...   \n",
       "9  average: 54% (50 to 58%)\\n(11:00 am CEST | Mon...   \n",
       "\n",
       "                                        wind speed  \\\n",
       "8  1 m/s\\n(10:00 am CEST | Monday, April 19, 2021)   \n",
       "9  2 m/s\\n(11:00 am CEST | Monday, April 19, 2021)   \n",
       "\n",
       "                                Precipitation amount  \\\n",
       "8  no precipitation\\n(10:00 am CEST | Monday, Apr...   \n",
       "9  no precipitation\\n(11:00 am CEST | Monday, Apr...   \n",
       "\n",
       "                                     query  \\\n",
       "8  Moon Phase calculatorApril 19, 2021 10h   \n",
       "9  Moon Phase calculatorApril 19, 2021 11h   \n",
       "\n",
       "                        Moon Phase calculator  \n",
       "8  | waxing crescent moon\\n40.60% illuminated  \n",
       "9  | waxing crescent moon\\n41.00% illuminated  "
      ]
     },
     "metadata": {},
     "output_type": "display_data"
    },
    {
     "name": "stderr",
     "output_type": "stream",
     "text": [
      "\r",
      "  2%|█▏                                                                           | 41/2550 [14:32<13:43:40, 19.70s/it]"
     ]
    },
    {
     "name": "stdout",
     "output_type": "stream",
     "text": [
      "QUERY:  Precipitation amount in Zollikofen April 19, 2021 12h\n",
      "QUERY:  temperature in Zollikofen April 19, 2021 12h\n",
      "QUERY:  humidity in Zollikofen April 19, 2021 12h\n",
      "QUERY:  wind speed in Zollikofen April 19, 2021 12h\n",
      "QUERY:  Moon Phase calculatorApril 19, 2021 12h\n"
     ]
    },
    {
     "name": "stderr",
     "output_type": "stream",
     "text": [
      "\r",
      "  2%|█▎                                                                           | 42/2550 [14:51<13:38:08, 19.57s/it]"
     ]
    },
    {
     "name": "stdout",
     "output_type": "stream",
     "text": [
      "QUERY:  Precipitation amount in Zollikofen April 19, 2021 13h\n",
      "QUERY:  temperature in Zollikofen April 19, 2021 13h\n",
      "QUERY:  humidity in Zollikofen April 19, 2021 13h\n",
      "QUERY:  wind speed in Zollikofen April 19, 2021 13h\n",
      "QUERY:  Moon Phase calculatorApril 19, 2021 13h\n"
     ]
    },
    {
     "name": "stderr",
     "output_type": "stream",
     "text": [
      "\r",
      "  2%|█▎                                                                           | 43/2550 [15:10<13:21:11, 19.17s/it]"
     ]
    },
    {
     "name": "stdout",
     "output_type": "stream",
     "text": [
      "QUERY:  Precipitation amount in Zollikofen April 19, 2021 14h\n",
      "QUERY:  temperature in Zollikofen April 19, 2021 14h\n",
      "QUERY:  humidity in Zollikofen April 19, 2021 14h\n",
      "QUERY:  wind speed in Zollikofen April 19, 2021 14h\n",
      "QUERY:  Moon Phase calculatorApril 19, 2021 14h\n"
     ]
    },
    {
     "name": "stderr",
     "output_type": "stream",
     "text": [
      "\r",
      "  2%|█▎                                                                           | 44/2550 [15:29<13:24:37, 19.26s/it]"
     ]
    },
    {
     "name": "stdout",
     "output_type": "stream",
     "text": [
      "QUERY:  Precipitation amount in Zollikofen April 19, 2021 15h\n",
      "QUERY:  temperature in Zollikofen April 19, 2021 15h\n",
      "QUERY:  humidity in Zollikofen April 19, 2021 15h\n",
      "QUERY:  wind speed in Zollikofen April 19, 2021 15h\n",
      "QUERY:  Moon Phase calculatorApril 19, 2021 15h\n"
     ]
    },
    {
     "name": "stderr",
     "output_type": "stream",
     "text": [
      "\r",
      "  2%|█▎                                                                           | 45/2550 [15:49<13:32:25, 19.46s/it]"
     ]
    },
    {
     "name": "stdout",
     "output_type": "stream",
     "text": [
      "QUERY:  Precipitation amount in Zollikofen April 19, 2021 16h\n",
      "QUERY:  temperature in Zollikofen April 19, 2021 16h\n",
      "QUERY:  humidity in Zollikofen April 19, 2021 16h\n",
      "QUERY:  wind speed in Zollikofen April 19, 2021 16h\n",
      "QUERY:  Moon Phase calculatorApril 19, 2021 16h\n"
     ]
    },
    {
     "name": "stderr",
     "output_type": "stream",
     "text": [
      "\r",
      "  2%|█▍                                                                           | 46/2550 [16:08<13:24:09, 19.27s/it]"
     ]
    },
    {
     "name": "stdout",
     "output_type": "stream",
     "text": [
      "QUERY:  Precipitation amount in Zollikofen April 19, 2021 17h\n",
      "QUERY:  temperature in Zollikofen April 19, 2021 17h\n",
      "QUERY:  humidity in Zollikofen April 19, 2021 17h\n",
      "QUERY:  wind speed in Zollikofen April 19, 2021 17h\n",
      "QUERY:  Moon Phase calculatorApril 19, 2021 17h\n"
     ]
    },
    {
     "name": "stderr",
     "output_type": "stream",
     "text": [
      "\r",
      "  2%|█▍                                                                           | 47/2550 [16:28<13:29:47, 19.41s/it]"
     ]
    },
    {
     "name": "stdout",
     "output_type": "stream",
     "text": [
      "QUERY:  Precipitation amount in Zollikofen April 19, 2021 18h\n",
      "QUERY:  temperature in Zollikofen April 19, 2021 18h\n",
      "QUERY:  humidity in Zollikofen April 19, 2021 18h\n",
      "QUERY:  wind speed in Zollikofen April 19, 2021 18h\n",
      "QUERY:  Moon Phase calculatorApril 19, 2021 18h\n"
     ]
    },
    {
     "name": "stderr",
     "output_type": "stream",
     "text": [
      "\r",
      "  2%|█▍                                                                           | 48/2550 [16:48<13:44:17, 19.77s/it]"
     ]
    },
    {
     "name": "stdout",
     "output_type": "stream",
     "text": [
      "QUERY:  Precipitation amount in Zollikofen April 19, 2021 19h\n",
      "QUERY:  temperature in Zollikofen April 19, 2021 19h\n",
      "QUERY:  humidity in Zollikofen April 19, 2021 19h\n",
      "QUERY:  wind speed in Zollikofen April 19, 2021 19h\n",
      "QUERY:  Moon Phase calculatorApril 19, 2021 19h\n"
     ]
    },
    {
     "name": "stderr",
     "output_type": "stream",
     "text": [
      "\r",
      "  2%|█▍                                                                           | 49/2550 [17:08<13:46:18, 19.82s/it]"
     ]
    },
    {
     "name": "stdout",
     "output_type": "stream",
     "text": [
      "QUERY:  Precipitation amount in Zollikofen April 19, 2021 20h\n",
      "QUERY:  temperature in Zollikofen April 19, 2021 20h\n",
      "QUERY:  humidity in Zollikofen April 19, 2021 20h\n",
      "QUERY:  wind speed in Zollikofen April 19, 2021 20h\n",
      "QUERY:  Moon Phase calculatorApril 19, 2021 20h\n"
     ]
    },
    {
     "name": "stderr",
     "output_type": "stream",
     "text": [
      "\r",
      "  2%|█▌                                                                           | 50/2550 [17:27<13:30:55, 19.46s/it]"
     ]
    },
    {
     "name": "stdout",
     "output_type": "stream",
     "text": [
      "QUERY:  Precipitation amount in Zollikofen April 19, 2021 21h\n",
      "QUERY:  temperature in Zollikofen April 19, 2021 21h\n",
      "QUERY:  humidity in Zollikofen April 19, 2021 21h\n",
      "QUERY:  wind speed in Zollikofen April 19, 2021 21h\n",
      "QUERY:  Moon Phase calculatorApril 19, 2021 21h\n",
      "(4870, 7)\n"
     ]
    },
    {
     "data": {
      "text/html": [
       "<div>\n",
       "<style scoped>\n",
       "    .dataframe tbody tr th:only-of-type {\n",
       "        vertical-align: middle;\n",
       "    }\n",
       "\n",
       "    .dataframe tbody tr th {\n",
       "        vertical-align: top;\n",
       "    }\n",
       "\n",
       "    .dataframe thead th {\n",
       "        text-align: right;\n",
       "    }\n",
       "</style>\n",
       "<table border=\"1\" class=\"dataframe\">\n",
       "  <thead>\n",
       "    <tr style=\"text-align: right;\">\n",
       "      <th></th>\n",
       "      <th>date</th>\n",
       "      <th>temperature</th>\n",
       "      <th>humidity</th>\n",
       "      <th>wind speed</th>\n",
       "      <th>Precipitation amount</th>\n",
       "      <th>query</th>\n",
       "      <th>Moon Phase calculator</th>\n",
       "    </tr>\n",
       "  </thead>\n",
       "  <tbody>\n",
       "    <tr>\n",
       "      <th>8</th>\n",
       "      <td>2021-04-19 20:00:00</td>\n",
       "      <td>8 °C\\n(8:00 pm CEST | Monday, April 19, 2021)</td>\n",
       "      <td>average: 56% (50 to 61%)\\n(8:00 pm CEST | Mond...</td>\n",
       "      <td>1 m/s\\n(8:00 pm CEST | Monday, April 19, 2021)</td>\n",
       "      <td>no precipitation\\n(8:00 pm CEST | Monday, Apri...</td>\n",
       "      <td>Moon Phase calculatorApril 19, 2021 20h</td>\n",
       "      <td>| first quarter moon\\n44.69% illuminated</td>\n",
       "    </tr>\n",
       "    <tr>\n",
       "      <th>9</th>\n",
       "      <td>2021-04-19 21:00:00</td>\n",
       "      <td>7 °C\\n(9:00 pm CEST | Monday, April 19, 2021)</td>\n",
       "      <td>average: 78% (75 to 81%)\\n(9:00 pm CEST | Mond...</td>\n",
       "      <td>1 m/s\\n(9:00 pm CEST | Monday, April 19, 2021)</td>\n",
       "      <td>no precipitation\\n(9:00 pm CEST | Monday, Apri...</td>\n",
       "      <td>Moon Phase calculatorApril 19, 2021 21h</td>\n",
       "      <td>| first quarter moon\\n45.11% illuminated</td>\n",
       "    </tr>\n",
       "  </tbody>\n",
       "</table>\n",
       "</div>"
      ],
      "text/plain": [
       "                 date                                    temperature  \\\n",
       "8 2021-04-19 20:00:00  8 °C\\n(8:00 pm CEST | Monday, April 19, 2021)   \n",
       "9 2021-04-19 21:00:00  7 °C\\n(9:00 pm CEST | Monday, April 19, 2021)   \n",
       "\n",
       "                                            humidity  \\\n",
       "8  average: 56% (50 to 61%)\\n(8:00 pm CEST | Mond...   \n",
       "9  average: 78% (75 to 81%)\\n(9:00 pm CEST | Mond...   \n",
       "\n",
       "                                       wind speed  \\\n",
       "8  1 m/s\\n(8:00 pm CEST | Monday, April 19, 2021)   \n",
       "9  1 m/s\\n(9:00 pm CEST | Monday, April 19, 2021)   \n",
       "\n",
       "                                Precipitation amount  \\\n",
       "8  no precipitation\\n(8:00 pm CEST | Monday, Apri...   \n",
       "9  no precipitation\\n(9:00 pm CEST | Monday, Apri...   \n",
       "\n",
       "                                     query  \\\n",
       "8  Moon Phase calculatorApril 19, 2021 20h   \n",
       "9  Moon Phase calculatorApril 19, 2021 21h   \n",
       "\n",
       "                      Moon Phase calculator  \n",
       "8  | first quarter moon\\n44.69% illuminated  \n",
       "9  | first quarter moon\\n45.11% illuminated  "
      ]
     },
     "metadata": {},
     "output_type": "display_data"
    },
    {
     "name": "stderr",
     "output_type": "stream",
     "text": [
      "\r",
      "  2%|█▌                                                                           | 51/2550 [17:49<14:00:53, 20.19s/it]"
     ]
    },
    {
     "name": "stdout",
     "output_type": "stream",
     "text": [
      "QUERY:  Precipitation amount in Zollikofen April 19, 2021 22h\n",
      "QUERY:  temperature in Zollikofen April 19, 2021 22h\n",
      "QUERY:  humidity in Zollikofen April 19, 2021 22h\n",
      "QUERY:  wind speed in Zollikofen April 19, 2021 22h\n",
      "QUERY:  Moon Phase calculatorApril 19, 2021 22h\n"
     ]
    },
    {
     "name": "stderr",
     "output_type": "stream",
     "text": [
      "\r",
      "  2%|█▌                                                                           | 52/2550 [18:10<14:11:34, 20.45s/it]"
     ]
    },
    {
     "name": "stdout",
     "output_type": "stream",
     "text": [
      "QUERY:  Precipitation amount in Zollikofen April 19, 2021 23h\n",
      "QUERY:  temperature in Zollikofen April 19, 2021 23h\n",
      "QUERY:  humidity in Zollikofen April 19, 2021 23h\n",
      "QUERY:  wind speed in Zollikofen April 19, 2021 23h\n",
      "QUERY:  Moon Phase calculatorApril 19, 2021 23h\n"
     ]
    },
    {
     "name": "stderr",
     "output_type": "stream",
     "text": [
      "\r",
      "  2%|█▌                                                                           | 53/2550 [18:29<13:56:50, 20.11s/it]"
     ]
    },
    {
     "name": "stdout",
     "output_type": "stream",
     "text": [
      "QUERY:  Precipitation amount in Zollikofen April 20, 2021 0h\n",
      "QUERY:  temperature in Zollikofen April 20, 2021 0h\n",
      "QUERY:  humidity in Zollikofen April 20, 2021 0h\n",
      "QUERY:  wind speed in Zollikofen April 20, 2021 0h\n",
      "QUERY:  Moon Phase calculatorApril 20, 2021 0h\n"
     ]
    },
    {
     "name": "stderr",
     "output_type": "stream",
     "text": [
      "\r",
      "  2%|█▋                                                                           | 54/2550 [18:47<13:35:01, 19.59s/it]"
     ]
    },
    {
     "name": "stdout",
     "output_type": "stream",
     "text": [
      "QUERY:  Precipitation amount in Zollikofen April 20, 2021 1h\n",
      "QUERY:  temperature in Zollikofen April 20, 2021 1h\n",
      "QUERY:  humidity in Zollikofen April 20, 2021 1h\n",
      "QUERY:  wind speed in Zollikofen April 20, 2021 1h\n",
      "QUERY:  Moon Phase calculatorApril 20, 2021 1h\n"
     ]
    },
    {
     "name": "stderr",
     "output_type": "stream",
     "text": [
      "\r",
      "  2%|█▋                                                                           | 55/2550 [19:06<13:24:40, 19.35s/it]"
     ]
    },
    {
     "name": "stdout",
     "output_type": "stream",
     "text": [
      "QUERY:  Precipitation amount in Zollikofen April 20, 2021 2h\n",
      "QUERY:  temperature in Zollikofen April 20, 2021 2h\n",
      "QUERY:  humidity in Zollikofen April 20, 2021 2h\n",
      "QUERY:  wind speed in Zollikofen April 20, 2021 2h\n",
      "QUERY:  Moon Phase calculatorApril 20, 2021 2h\n"
     ]
    },
    {
     "name": "stderr",
     "output_type": "stream",
     "text": [
      "\r",
      "  2%|█▋                                                                           | 56/2550 [19:25<13:12:43, 19.07s/it]"
     ]
    },
    {
     "name": "stdout",
     "output_type": "stream",
     "text": [
      "QUERY:  Precipitation amount in Zollikofen April 20, 2021 3h\n",
      "QUERY:  temperature in Zollikofen April 20, 2021 3h\n",
      "QUERY:  humidity in Zollikofen April 20, 2021 3h\n",
      "QUERY:  wind speed in Zollikofen April 20, 2021 3h\n",
      "QUERY:  Moon Phase calculatorApril 20, 2021 3h\n"
     ]
    },
    {
     "name": "stderr",
     "output_type": "stream",
     "text": [
      "\r",
      "  2%|█▋                                                                           | 57/2550 [19:44<13:12:03, 19.06s/it]"
     ]
    },
    {
     "name": "stdout",
     "output_type": "stream",
     "text": [
      "QUERY:  Precipitation amount in Zollikofen April 20, 2021 4h\n",
      "QUERY:  temperature in Zollikofen April 20, 2021 4h\n",
      "QUERY:  humidity in Zollikofen April 20, 2021 4h\n",
      "QUERY:  wind speed in Zollikofen April 20, 2021 4h\n",
      "QUERY:  Moon Phase calculatorApril 20, 2021 4h\n"
     ]
    },
    {
     "name": "stderr",
     "output_type": "stream",
     "text": [
      "\r",
      "  2%|█▊                                                                           | 58/2550 [20:02<13:03:50, 18.87s/it]"
     ]
    },
    {
     "name": "stdout",
     "output_type": "stream",
     "text": [
      "QUERY:  Precipitation amount in Zollikofen April 20, 2021 5h\n",
      "QUERY:  temperature in Zollikofen April 20, 2021 5h\n",
      "QUERY:  humidity in Zollikofen April 20, 2021 5h\n",
      "QUERY:  wind speed in Zollikofen April 20, 2021 5h\n",
      "QUERY:  Moon Phase calculatorApril 20, 2021 5h\n"
     ]
    },
    {
     "name": "stderr",
     "output_type": "stream",
     "text": [
      "\r",
      "  2%|█▊                                                                           | 59/2550 [20:23<13:27:15, 19.44s/it]"
     ]
    },
    {
     "name": "stdout",
     "output_type": "stream",
     "text": [
      "QUERY:  Precipitation amount in Zollikofen April 20, 2021 6h\n",
      "QUERY:  temperature in Zollikofen April 20, 2021 6h\n",
      "QUERY:  humidity in Zollikofen April 20, 2021 6h\n",
      "QUERY:  wind speed in Zollikofen April 20, 2021 6h\n",
      "QUERY:  Moon Phase calculatorApril 20, 2021 6h\n"
     ]
    },
    {
     "name": "stderr",
     "output_type": "stream",
     "text": [
      "\r",
      "  2%|█▊                                                                           | 60/2550 [20:42<13:26:10, 19.43s/it]"
     ]
    },
    {
     "name": "stdout",
     "output_type": "stream",
     "text": [
      "QUERY:  Precipitation amount in Zollikofen April 20, 2021 7h\n",
      "QUERY:  temperature in Zollikofen April 20, 2021 7h\n",
      "QUERY:  humidity in Zollikofen April 20, 2021 7h\n",
      "QUERY:  wind speed in Zollikofen April 20, 2021 7h\n",
      "QUERY:  Moon Phase calculatorApril 20, 2021 7h\n",
      "(4880, 7)\n"
     ]
    },
    {
     "data": {
      "text/html": [
       "<div>\n",
       "<style scoped>\n",
       "    .dataframe tbody tr th:only-of-type {\n",
       "        vertical-align: middle;\n",
       "    }\n",
       "\n",
       "    .dataframe tbody tr th {\n",
       "        vertical-align: top;\n",
       "    }\n",
       "\n",
       "    .dataframe thead th {\n",
       "        text-align: right;\n",
       "    }\n",
       "</style>\n",
       "<table border=\"1\" class=\"dataframe\">\n",
       "  <thead>\n",
       "    <tr style=\"text-align: right;\">\n",
       "      <th></th>\n",
       "      <th>date</th>\n",
       "      <th>temperature</th>\n",
       "      <th>humidity</th>\n",
       "      <th>wind speed</th>\n",
       "      <th>Precipitation amount</th>\n",
       "      <th>query</th>\n",
       "      <th>Moon Phase calculator</th>\n",
       "    </tr>\n",
       "  </thead>\n",
       "  <tbody>\n",
       "    <tr>\n",
       "      <th>8</th>\n",
       "      <td>2021-04-20 06:00:00</td>\n",
       "      <td>3 °C\\n(6:00 am CEST | Tuesday, April 20, 2021)</td>\n",
       "      <td>average: 97% (93 to 100%)\\n(6:00 am CEST | Tue...</td>\n",
       "      <td>0 m/s\\n(6:00 am CEST | Tuesday, April 20, 2021)</td>\n",
       "      <td>no precipitation\\n(6:00 am CEST | Tuesday, Apr...</td>\n",
       "      <td>Moon Phase calculatorApril 20, 2021 6h</td>\n",
       "      <td>| first quarter moon\\n48.87% illuminated</td>\n",
       "    </tr>\n",
       "    <tr>\n",
       "      <th>9</th>\n",
       "      <td>2021-04-20 07:00:00</td>\n",
       "      <td>3 °C\\n(7:00 am CEST | Tuesday, April 20, 2021)</td>\n",
       "      <td>average: 97% (93 to 100%)\\n(7:00 am CEST | Tue...</td>\n",
       "      <td>0 m/s\\n(7:00 am CEST | Tuesday, April 20, 2021)</td>\n",
       "      <td>no precipitation\\n(7:00 am CEST | Tuesday, Apr...</td>\n",
       "      <td>Moon Phase calculatorApril 20, 2021 7h</td>\n",
       "      <td>| first quarter moon\\n49.29% illuminated</td>\n",
       "    </tr>\n",
       "  </tbody>\n",
       "</table>\n",
       "</div>"
      ],
      "text/plain": [
       "                 date                                     temperature  \\\n",
       "8 2021-04-20 06:00:00  3 °C\\n(6:00 am CEST | Tuesday, April 20, 2021)   \n",
       "9 2021-04-20 07:00:00  3 °C\\n(7:00 am CEST | Tuesday, April 20, 2021)   \n",
       "\n",
       "                                            humidity  \\\n",
       "8  average: 97% (93 to 100%)\\n(6:00 am CEST | Tue...   \n",
       "9  average: 97% (93 to 100%)\\n(7:00 am CEST | Tue...   \n",
       "\n",
       "                                        wind speed  \\\n",
       "8  0 m/s\\n(6:00 am CEST | Tuesday, April 20, 2021)   \n",
       "9  0 m/s\\n(7:00 am CEST | Tuesday, April 20, 2021)   \n",
       "\n",
       "                                Precipitation amount  \\\n",
       "8  no precipitation\\n(6:00 am CEST | Tuesday, Apr...   \n",
       "9  no precipitation\\n(7:00 am CEST | Tuesday, Apr...   \n",
       "\n",
       "                                    query  \\\n",
       "8  Moon Phase calculatorApril 20, 2021 6h   \n",
       "9  Moon Phase calculatorApril 20, 2021 7h   \n",
       "\n",
       "                      Moon Phase calculator  \n",
       "8  | first quarter moon\\n48.87% illuminated  \n",
       "9  | first quarter moon\\n49.29% illuminated  "
      ]
     },
     "metadata": {},
     "output_type": "display_data"
    },
    {
     "name": "stderr",
     "output_type": "stream",
     "text": [
      "\r",
      "  2%|█▊                                                                           | 61/2550 [21:02<13:30:26, 19.54s/it]"
     ]
    },
    {
     "name": "stdout",
     "output_type": "stream",
     "text": [
      "QUERY:  Precipitation amount in Zollikofen April 20, 2021 8h\n",
      "QUERY:  temperature in Zollikofen April 20, 2021 8h\n",
      "QUERY:  humidity in Zollikofen April 20, 2021 8h\n",
      "QUERY:  wind speed in Zollikofen April 20, 2021 8h\n",
      "QUERY:  Moon Phase calculatorApril 20, 2021 8h\n"
     ]
    },
    {
     "name": "stderr",
     "output_type": "stream",
     "text": [
      "\r",
      "  2%|█▊                                                                           | 62/2550 [21:22<13:41:31, 19.81s/it]"
     ]
    },
    {
     "name": "stdout",
     "output_type": "stream",
     "text": [
      "QUERY:  Precipitation amount in Zollikofen April 20, 2021 9h\n",
      "QUERY:  temperature in Zollikofen April 20, 2021 9h\n",
      "QUERY:  humidity in Zollikofen April 20, 2021 9h\n",
      "QUERY:  wind speed in Zollikofen April 20, 2021 9h\n",
      "QUERY:  Moon Phase calculatorApril 20, 2021 9h\n"
     ]
    },
    {
     "name": "stderr",
     "output_type": "stream",
     "text": [
      "\r",
      "  2%|█▉                                                                           | 63/2550 [21:42<13:40:27, 19.79s/it]"
     ]
    },
    {
     "name": "stdout",
     "output_type": "stream",
     "text": [
      "QUERY:  Precipitation amount in Zollikofen April 20, 2021 10h\n",
      "QUERY:  temperature in Zollikofen April 20, 2021 10h\n",
      "QUERY:  humidity in Zollikofen April 20, 2021 10h\n",
      "QUERY:  wind speed in Zollikofen April 20, 2021 10h\n",
      "QUERY:  Moon Phase calculatorApril 20, 2021 10h\n"
     ]
    },
    {
     "name": "stderr",
     "output_type": "stream",
     "text": [
      "\r",
      "  3%|█▉                                                                           | 64/2550 [22:02<13:42:37, 19.85s/it]"
     ]
    },
    {
     "name": "stdout",
     "output_type": "stream",
     "text": [
      "QUERY:  Precipitation amount in Zollikofen April 20, 2021 11h\n",
      "QUERY:  temperature in Zollikofen April 20, 2021 11h\n",
      "QUERY:  humidity in Zollikofen April 20, 2021 11h\n",
      "QUERY:  wind speed in Zollikofen April 20, 2021 11h\n",
      "QUERY:  Moon Phase calculatorApril 20, 2021 11h\n"
     ]
    },
    {
     "name": "stderr",
     "output_type": "stream",
     "text": [
      "\r",
      "  3%|█▉                                                                           | 65/2550 [22:23<13:55:23, 20.17s/it]"
     ]
    },
    {
     "name": "stdout",
     "output_type": "stream",
     "text": [
      "QUERY:  Precipitation amount in Zollikofen April 20, 2021 12h\n",
      "QUERY:  temperature in Zollikofen April 20, 2021 12h\n",
      "QUERY:  humidity in Zollikofen April 20, 2021 12h\n",
      "QUERY:  wind speed in Zollikofen April 20, 2021 12h\n",
      "QUERY:  Moon Phase calculatorApril 20, 2021 12h\n"
     ]
    },
    {
     "name": "stderr",
     "output_type": "stream",
     "text": [
      "\r",
      "  3%|█▉                                                                           | 66/2550 [22:44<14:07:31, 20.47s/it]"
     ]
    },
    {
     "name": "stdout",
     "output_type": "stream",
     "text": [
      "QUERY:  Precipitation amount in Zollikofen April 20, 2021 13h\n",
      "QUERY:  temperature in Zollikofen April 20, 2021 13h\n",
      "QUERY:  humidity in Zollikofen April 20, 2021 13h\n",
      "QUERY:  wind speed in Zollikofen April 20, 2021 13h\n",
      "QUERY:  Moon Phase calculatorApril 20, 2021 13h\n"
     ]
    },
    {
     "name": "stderr",
     "output_type": "stream",
     "text": [
      "\r",
      "  3%|██                                                                           | 67/2550 [23:05<14:06:12, 20.45s/it]"
     ]
    },
    {
     "name": "stdout",
     "output_type": "stream",
     "text": [
      "QUERY:  Precipitation amount in Zollikofen April 20, 2021 14h\n",
      "QUERY:  temperature in Zollikofen April 20, 2021 14h\n",
      "QUERY:  humidity in Zollikofen April 20, 2021 14h\n",
      "QUERY:  wind speed in Zollikofen April 20, 2021 14h\n",
      "QUERY:  Moon Phase calculatorApril 20, 2021 14h\n"
     ]
    },
    {
     "name": "stderr",
     "output_type": "stream",
     "text": [
      "\r",
      "  3%|██                                                                           | 68/2550 [23:24<13:57:05, 20.24s/it]"
     ]
    },
    {
     "name": "stdout",
     "output_type": "stream",
     "text": [
      "QUERY:  Precipitation amount in Zollikofen April 20, 2021 15h\n",
      "QUERY:  temperature in Zollikofen April 20, 2021 15h\n",
      "QUERY:  humidity in Zollikofen April 20, 2021 15h\n",
      "QUERY:  wind speed in Zollikofen April 20, 2021 15h\n",
      "QUERY:  Moon Phase calculatorApril 20, 2021 15h\n"
     ]
    },
    {
     "name": "stderr",
     "output_type": "stream",
     "text": [
      "\r",
      "  3%|██                                                                           | 69/2550 [23:45<14:03:01, 20.39s/it]"
     ]
    },
    {
     "name": "stdout",
     "output_type": "stream",
     "text": [
      "QUERY:  Precipitation amount in Zollikofen April 20, 2021 16h\n",
      "QUERY:  temperature in Zollikofen April 20, 2021 16h\n",
      "QUERY:  humidity in Zollikofen April 20, 2021 16h\n",
      "QUERY:  wind speed in Zollikofen April 20, 2021 16h\n",
      "QUERY:  Moon Phase calculatorApril 20, 2021 16h\n"
     ]
    },
    {
     "name": "stderr",
     "output_type": "stream",
     "text": [
      "\r",
      "  3%|██                                                                           | 70/2550 [24:05<13:57:09, 20.25s/it]"
     ]
    },
    {
     "name": "stdout",
     "output_type": "stream",
     "text": [
      "QUERY:  Precipitation amount in Zollikofen April 20, 2021 17h\n",
      "QUERY:  temperature in Zollikofen April 20, 2021 17h\n",
      "QUERY:  humidity in Zollikofen April 20, 2021 17h\n",
      "QUERY:  wind speed in Zollikofen April 20, 2021 17h\n",
      "QUERY:  Moon Phase calculatorApril 20, 2021 17h\n",
      "(4890, 7)\n"
     ]
    },
    {
     "data": {
      "text/html": [
       "<div>\n",
       "<style scoped>\n",
       "    .dataframe tbody tr th:only-of-type {\n",
       "        vertical-align: middle;\n",
       "    }\n",
       "\n",
       "    .dataframe tbody tr th {\n",
       "        vertical-align: top;\n",
       "    }\n",
       "\n",
       "    .dataframe thead th {\n",
       "        text-align: right;\n",
       "    }\n",
       "</style>\n",
       "<table border=\"1\" class=\"dataframe\">\n",
       "  <thead>\n",
       "    <tr style=\"text-align: right;\">\n",
       "      <th></th>\n",
       "      <th>date</th>\n",
       "      <th>temperature</th>\n",
       "      <th>humidity</th>\n",
       "      <th>wind speed</th>\n",
       "      <th>Precipitation amount</th>\n",
       "      <th>query</th>\n",
       "      <th>Moon Phase calculator</th>\n",
       "    </tr>\n",
       "  </thead>\n",
       "  <tbody>\n",
       "    <tr>\n",
       "      <th>8</th>\n",
       "      <td>2021-04-20 16:00:00</td>\n",
       "      <td>14 °C\\n(4:00 pm CEST | Tuesday, April 20, 2021)</td>\n",
       "      <td>average: 49% (44 to 54%)\\n(4:00 pm CEST | Tues...</td>\n",
       "      <td>3 m/s\\n(4:00 pm CEST | Tuesday, April 20, 2021)</td>\n",
       "      <td>rain\\n(4:00 pm CEST | Tuesday, April 20, 2021)</td>\n",
       "      <td>Moon Phase calculatorApril 20, 2021 16h</td>\n",
       "      <td>| first quarter moon\\n53.11% illuminated</td>\n",
       "    </tr>\n",
       "    <tr>\n",
       "      <th>9</th>\n",
       "      <td>2021-04-20 17:00:00</td>\n",
       "      <td>14 °C\\n(5:00 pm CEST | Tuesday, April 20, 2021)</td>\n",
       "      <td>average: 47% (47%)\\n(5:00 pm CEST | Tuesday, A...</td>\n",
       "      <td>3 m/s\\n(5:00 pm CEST | Tuesday, April 20, 2021)</td>\n",
       "      <td>no precipitation\\n(5:00 pm CEST | Tuesday, Apr...</td>\n",
       "      <td>Moon Phase calculatorApril 20, 2021 17h</td>\n",
       "      <td>| first quarter moon\\n53.54% illuminated</td>\n",
       "    </tr>\n",
       "  </tbody>\n",
       "</table>\n",
       "</div>"
      ],
      "text/plain": [
       "                 date                                      temperature  \\\n",
       "8 2021-04-20 16:00:00  14 °C\\n(4:00 pm CEST | Tuesday, April 20, 2021)   \n",
       "9 2021-04-20 17:00:00  14 °C\\n(5:00 pm CEST | Tuesday, April 20, 2021)   \n",
       "\n",
       "                                            humidity  \\\n",
       "8  average: 49% (44 to 54%)\\n(4:00 pm CEST | Tues...   \n",
       "9  average: 47% (47%)\\n(5:00 pm CEST | Tuesday, A...   \n",
       "\n",
       "                                        wind speed  \\\n",
       "8  3 m/s\\n(4:00 pm CEST | Tuesday, April 20, 2021)   \n",
       "9  3 m/s\\n(5:00 pm CEST | Tuesday, April 20, 2021)   \n",
       "\n",
       "                                Precipitation amount  \\\n",
       "8     rain\\n(4:00 pm CEST | Tuesday, April 20, 2021)   \n",
       "9  no precipitation\\n(5:00 pm CEST | Tuesday, Apr...   \n",
       "\n",
       "                                     query  \\\n",
       "8  Moon Phase calculatorApril 20, 2021 16h   \n",
       "9  Moon Phase calculatorApril 20, 2021 17h   \n",
       "\n",
       "                      Moon Phase calculator  \n",
       "8  | first quarter moon\\n53.11% illuminated  \n",
       "9  | first quarter moon\\n53.54% illuminated  "
      ]
     },
     "metadata": {},
     "output_type": "display_data"
    },
    {
     "name": "stderr",
     "output_type": "stream",
     "text": [
      "\r",
      "  3%|██▏                                                                          | 71/2550 [24:25<13:52:23, 20.15s/it]"
     ]
    },
    {
     "name": "stdout",
     "output_type": "stream",
     "text": [
      "QUERY:  Precipitation amount in Zollikofen April 20, 2021 18h\n",
      "QUERY:  temperature in Zollikofen April 20, 2021 18h\n",
      "QUERY:  humidity in Zollikofen April 20, 2021 18h\n",
      "QUERY:  wind speed in Zollikofen April 20, 2021 18h\n",
      "QUERY:  Moon Phase calculatorApril 20, 2021 18h\n"
     ]
    },
    {
     "name": "stderr",
     "output_type": "stream",
     "text": [
      "\r",
      "  3%|██▏                                                                          | 72/2550 [24:45<13:53:31, 20.18s/it]"
     ]
    },
    {
     "name": "stdout",
     "output_type": "stream",
     "text": [
      "QUERY:  Precipitation amount in Zollikofen April 20, 2021 19h\n",
      "QUERY:  temperature in Zollikofen April 20, 2021 19h\n",
      "QUERY:  humidity in Zollikofen April 20, 2021 19h\n",
      "QUERY:  wind speed in Zollikofen April 20, 2021 19h\n",
      "QUERY:  Moon Phase calculatorApril 20, 2021 19h\n"
     ]
    },
    {
     "name": "stderr",
     "output_type": "stream",
     "text": [
      "\r",
      "  3%|██▏                                                                          | 73/2550 [25:06<13:54:10, 20.21s/it]"
     ]
    },
    {
     "name": "stdout",
     "output_type": "stream",
     "text": [
      "QUERY:  Precipitation amount in Zollikofen April 20, 2021 20h\n",
      "QUERY:  temperature in Zollikofen April 20, 2021 20h\n",
      "QUERY:  humidity in Zollikofen April 20, 2021 20h\n",
      "QUERY:  wind speed in Zollikofen April 20, 2021 20h\n",
      "QUERY:  Moon Phase calculatorApril 20, 2021 20h\n"
     ]
    },
    {
     "name": "stderr",
     "output_type": "stream",
     "text": [
      "\r",
      "  3%|██▏                                                                          | 74/2550 [25:25<13:42:35, 19.93s/it]"
     ]
    },
    {
     "name": "stdout",
     "output_type": "stream",
     "text": [
      "QUERY:  Precipitation amount in Zollikofen April 20, 2021 21h\n",
      "QUERY:  temperature in Zollikofen April 20, 2021 21h\n",
      "QUERY:  humidity in Zollikofen April 20, 2021 21h\n",
      "QUERY:  wind speed in Zollikofen April 20, 2021 21h\n",
      "QUERY:  Moon Phase calculatorApril 20, 2021 21h\n"
     ]
    },
    {
     "name": "stderr",
     "output_type": "stream",
     "text": [
      "\r",
      "  3%|██▎                                                                          | 75/2550 [25:44<13:35:04, 19.76s/it]"
     ]
    },
    {
     "name": "stdout",
     "output_type": "stream",
     "text": [
      "QUERY:  Precipitation amount in Zollikofen April 20, 2021 22h\n",
      "QUERY:  temperature in Zollikofen April 20, 2021 22h\n",
      "QUERY:  humidity in Zollikofen April 20, 2021 22h\n",
      "QUERY:  wind speed in Zollikofen April 20, 2021 22h\n",
      "QUERY:  Moon Phase calculatorApril 20, 2021 22h\n"
     ]
    },
    {
     "name": "stderr",
     "output_type": "stream",
     "text": [
      "\r",
      "  3%|██▎                                                                          | 76/2550 [26:05<13:43:19, 19.97s/it]"
     ]
    },
    {
     "name": "stdout",
     "output_type": "stream",
     "text": [
      "QUERY:  Precipitation amount in Zollikofen April 20, 2021 23h\n",
      "QUERY:  temperature in Zollikofen April 20, 2021 23h\n",
      "QUERY:  humidity in Zollikofen April 20, 2021 23h\n",
      "QUERY:  wind speed in Zollikofen April 20, 2021 23h\n",
      "QUERY:  Moon Phase calculatorApril 20, 2021 23h\n"
     ]
    },
    {
     "name": "stderr",
     "output_type": "stream",
     "text": [
      "\r",
      "  3%|██▎                                                                          | 77/2550 [26:25<13:49:51, 20.13s/it]"
     ]
    },
    {
     "name": "stdout",
     "output_type": "stream",
     "text": [
      "QUERY:  Precipitation amount in Zollikofen April 21, 2021 0h\n",
      "QUERY:  temperature in Zollikofen April 21, 2021 0h\n",
      "QUERY:  humidity in Zollikofen April 21, 2021 0h\n",
      "QUERY:  wind speed in Zollikofen April 21, 2021 0h\n",
      "QUERY:  Moon Phase calculatorApril 21, 2021 0h\n"
     ]
    },
    {
     "name": "stderr",
     "output_type": "stream",
     "text": [
      "\r",
      "  3%|██▎                                                                          | 78/2550 [26:45<13:39:44, 19.90s/it]"
     ]
    },
    {
     "name": "stdout",
     "output_type": "stream",
     "text": [
      "QUERY:  Precipitation amount in Zollikofen April 21, 2021 1h\n",
      "QUERY:  temperature in Zollikofen April 21, 2021 1h\n",
      "QUERY:  humidity in Zollikofen April 21, 2021 1h\n",
      "QUERY:  wind speed in Zollikofen April 21, 2021 1h\n",
      "QUERY:  Moon Phase calculatorApril 21, 2021 1h\n"
     ]
    },
    {
     "name": "stderr",
     "output_type": "stream",
     "text": [
      "\r",
      "  3%|██▍                                                                          | 79/2550 [27:03<13:26:50, 19.59s/it]"
     ]
    },
    {
     "name": "stdout",
     "output_type": "stream",
     "text": [
      "QUERY:  Precipitation amount in Zollikofen April 21, 2021 2h\n",
      "QUERY:  temperature in Zollikofen April 21, 2021 2h\n",
      "QUERY:  humidity in Zollikofen April 21, 2021 2h\n",
      "QUERY:  wind speed in Zollikofen April 21, 2021 2h\n",
      "QUERY:  Moon Phase calculatorApril 21, 2021 2h\n"
     ]
    },
    {
     "name": "stderr",
     "output_type": "stream",
     "text": [
      "\r",
      "  3%|██▍                                                                          | 80/2550 [27:23<13:20:43, 19.45s/it]"
     ]
    },
    {
     "name": "stdout",
     "output_type": "stream",
     "text": [
      "QUERY:  Precipitation amount in Zollikofen April 21, 2021 3h\n",
      "QUERY:  temperature in Zollikofen April 21, 2021 3h\n",
      "QUERY:  humidity in Zollikofen April 21, 2021 3h\n",
      "QUERY:  wind speed in Zollikofen April 21, 2021 3h\n",
      "QUERY:  Moon Phase calculatorApril 21, 2021 3h\n",
      "(4900, 7)\n"
     ]
    },
    {
     "data": {
      "text/html": [
       "<div>\n",
       "<style scoped>\n",
       "    .dataframe tbody tr th:only-of-type {\n",
       "        vertical-align: middle;\n",
       "    }\n",
       "\n",
       "    .dataframe tbody tr th {\n",
       "        vertical-align: top;\n",
       "    }\n",
       "\n",
       "    .dataframe thead th {\n",
       "        text-align: right;\n",
       "    }\n",
       "</style>\n",
       "<table border=\"1\" class=\"dataframe\">\n",
       "  <thead>\n",
       "    <tr style=\"text-align: right;\">\n",
       "      <th></th>\n",
       "      <th>date</th>\n",
       "      <th>temperature</th>\n",
       "      <th>humidity</th>\n",
       "      <th>wind speed</th>\n",
       "      <th>Precipitation amount</th>\n",
       "      <th>query</th>\n",
       "      <th>Moon Phase calculator</th>\n",
       "    </tr>\n",
       "  </thead>\n",
       "  <tbody>\n",
       "    <tr>\n",
       "      <th>8</th>\n",
       "      <td>2021-04-21 02:00:00</td>\n",
       "      <td>5 °C\\n(2:00 am CEST | Wednesday, April 21, 2021)</td>\n",
       "      <td>average: 97% (93 to 100%)\\n(2:00 am CEST | Wed...</td>\n",
       "      <td>1 m/s\\n(2:00 am CEST | Wednesday, April 21, 2021)</td>\n",
       "      <td>no precipitation\\n(2:00 am CEST | Wednesday, A...</td>\n",
       "      <td>Moon Phase calculatorApril 21, 2021 2h</td>\n",
       "      <td>| waxing gibbous moon\\n57.38% illuminated</td>\n",
       "    </tr>\n",
       "    <tr>\n",
       "      <th>9</th>\n",
       "      <td>2021-04-21 03:00:00</td>\n",
       "      <td>4 °C\\n(3:00 am CEST | Wednesday, April 21, 2021)</td>\n",
       "      <td>average: 97% (93 to 100%)\\n(3:00 am CEST | Wed...</td>\n",
       "      <td>1 m/s\\n(3:00 am CEST | Wednesday, April 21, 2021)</td>\n",
       "      <td>no precipitation\\n(3:00 am CEST | Wednesday, A...</td>\n",
       "      <td>Moon Phase calculatorApril 21, 2021 3h</td>\n",
       "      <td>| waxing gibbous moon\\n57.81% illuminated</td>\n",
       "    </tr>\n",
       "  </tbody>\n",
       "</table>\n",
       "</div>"
      ],
      "text/plain": [
       "                 date                                       temperature  \\\n",
       "8 2021-04-21 02:00:00  5 °C\\n(2:00 am CEST | Wednesday, April 21, 2021)   \n",
       "9 2021-04-21 03:00:00  4 °C\\n(3:00 am CEST | Wednesday, April 21, 2021)   \n",
       "\n",
       "                                            humidity  \\\n",
       "8  average: 97% (93 to 100%)\\n(2:00 am CEST | Wed...   \n",
       "9  average: 97% (93 to 100%)\\n(3:00 am CEST | Wed...   \n",
       "\n",
       "                                          wind speed  \\\n",
       "8  1 m/s\\n(2:00 am CEST | Wednesday, April 21, 2021)   \n",
       "9  1 m/s\\n(3:00 am CEST | Wednesday, April 21, 2021)   \n",
       "\n",
       "                                Precipitation amount  \\\n",
       "8  no precipitation\\n(2:00 am CEST | Wednesday, A...   \n",
       "9  no precipitation\\n(3:00 am CEST | Wednesday, A...   \n",
       "\n",
       "                                    query  \\\n",
       "8  Moon Phase calculatorApril 21, 2021 2h   \n",
       "9  Moon Phase calculatorApril 21, 2021 3h   \n",
       "\n",
       "                       Moon Phase calculator  \n",
       "8  | waxing gibbous moon\\n57.38% illuminated  \n",
       "9  | waxing gibbous moon\\n57.81% illuminated  "
      ]
     },
     "metadata": {},
     "output_type": "display_data"
    },
    {
     "name": "stderr",
     "output_type": "stream",
     "text": [
      "\r",
      "  3%|██▍                                                                          | 81/2550 [27:42<13:25:46, 19.58s/it]"
     ]
    },
    {
     "name": "stdout",
     "output_type": "stream",
     "text": [
      "QUERY:  Precipitation amount in Zollikofen April 21, 2021 4h\n",
      "QUERY:  temperature in Zollikofen April 21, 2021 4h\n",
      "QUERY:  humidity in Zollikofen April 21, 2021 4h\n",
      "QUERY:  wind speed in Zollikofen April 21, 2021 4h\n",
      "QUERY:  Moon Phase calculatorApril 21, 2021 4h\n"
     ]
    },
    {
     "name": "stderr",
     "output_type": "stream",
     "text": [
      "\r",
      "  3%|██▍                                                                          | 82/2550 [28:02<13:23:24, 19.53s/it]"
     ]
    },
    {
     "name": "stdout",
     "output_type": "stream",
     "text": [
      "QUERY:  Precipitation amount in Zollikofen April 21, 2021 5h\n",
      "QUERY:  temperature in Zollikofen April 21, 2021 5h\n",
      "QUERY:  humidity in Zollikofen April 21, 2021 5h\n",
      "QUERY:  wind speed in Zollikofen April 21, 2021 5h\n",
      "QUERY:  Moon Phase calculatorApril 21, 2021 5h\n"
     ]
    },
    {
     "name": "stderr",
     "output_type": "stream",
     "text": [
      "\r",
      "  3%|██▌                                                                          | 83/2550 [28:23<13:49:27, 20.17s/it]"
     ]
    },
    {
     "name": "stdout",
     "output_type": "stream",
     "text": [
      "QUERY:  Precipitation amount in Zollikofen April 21, 2021 6h\n",
      "QUERY:  temperature in Zollikofen April 21, 2021 6h\n",
      "QUERY:  humidity in Zollikofen April 21, 2021 6h\n",
      "QUERY:  wind speed in Zollikofen April 21, 2021 6h\n",
      "QUERY:  Moon Phase calculatorApril 21, 2021 6h\n"
     ]
    },
    {
     "name": "stderr",
     "output_type": "stream",
     "text": [
      "\r",
      "  3%|██▌                                                                          | 84/2550 [28:44<13:57:37, 20.38s/it]"
     ]
    },
    {
     "name": "stdout",
     "output_type": "stream",
     "text": [
      "QUERY:  Precipitation amount in Zollikofen April 21, 2021 7h\n",
      "QUERY:  temperature in Zollikofen April 21, 2021 7h\n",
      "QUERY:  humidity in Zollikofen April 21, 2021 7h\n",
      "QUERY:  wind speed in Zollikofen April 21, 2021 7h\n",
      "QUERY:  Moon Phase calculatorApril 21, 2021 7h\n"
     ]
    },
    {
     "name": "stderr",
     "output_type": "stream",
     "text": [
      "\r",
      "  3%|██▌                                                                          | 85/2550 [29:04<13:51:10, 20.23s/it]"
     ]
    },
    {
     "name": "stdout",
     "output_type": "stream",
     "text": [
      "QUERY:  Precipitation amount in Zollikofen April 21, 2021 8h\n",
      "QUERY:  temperature in Zollikofen April 21, 2021 8h\n",
      "QUERY:  humidity in Zollikofen April 21, 2021 8h\n",
      "QUERY:  wind speed in Zollikofen April 21, 2021 8h\n",
      "QUERY:  Moon Phase calculatorApril 21, 2021 8h\n"
     ]
    },
    {
     "name": "stderr",
     "output_type": "stream",
     "text": [
      "\r",
      "  3%|██▌                                                                          | 86/2550 [29:24<13:49:56, 20.21s/it]"
     ]
    },
    {
     "name": "stdout",
     "output_type": "stream",
     "text": [
      "QUERY:  Precipitation amount in Zollikofen April 21, 2021 9h\n",
      "QUERY:  temperature in Zollikofen April 21, 2021 9h\n",
      "QUERY:  humidity in Zollikofen April 21, 2021 9h\n",
      "QUERY:  wind speed in Zollikofen April 21, 2021 9h\n",
      "QUERY:  Moon Phase calculatorApril 21, 2021 9h\n"
     ]
    },
    {
     "name": "stderr",
     "output_type": "stream",
     "text": [
      "\r",
      "  3%|██▋                                                                          | 87/2550 [29:45<13:49:47, 20.21s/it]"
     ]
    },
    {
     "name": "stdout",
     "output_type": "stream",
     "text": [
      "QUERY:  Precipitation amount in Zollikofen April 21, 2021 10h\n",
      "QUERY:  temperature in Zollikofen April 21, 2021 10h\n",
      "QUERY:  humidity in Zollikofen April 21, 2021 10h\n",
      "QUERY:  wind speed in Zollikofen April 21, 2021 10h\n",
      "QUERY:  Moon Phase calculatorApril 21, 2021 10h\n"
     ]
    },
    {
     "name": "stderr",
     "output_type": "stream",
     "text": [
      "\r",
      "  3%|██▋                                                                          | 88/2550 [30:06<14:00:41, 20.49s/it]"
     ]
    },
    {
     "name": "stdout",
     "output_type": "stream",
     "text": [
      "QUERY:  Precipitation amount in Zollikofen April 21, 2021 11h\n",
      "QUERY:  temperature in Zollikofen April 21, 2021 11h\n",
      "QUERY:  humidity in Zollikofen April 21, 2021 11h\n",
      "QUERY:  wind speed in Zollikofen April 21, 2021 11h\n",
      "QUERY:  Moon Phase calculatorApril 21, 2021 11h\n"
     ]
    },
    {
     "name": "stderr",
     "output_type": "stream",
     "text": [
      "\r",
      "  3%|██▋                                                                          | 89/2550 [30:25<13:51:15, 20.27s/it]"
     ]
    },
    {
     "name": "stdout",
     "output_type": "stream",
     "text": [
      "QUERY:  Precipitation amount in Zollikofen April 21, 2021 12h\n",
      "QUERY:  temperature in Zollikofen April 21, 2021 12h\n",
      "QUERY:  humidity in Zollikofen April 21, 2021 12h\n",
      "QUERY:  wind speed in Zollikofen April 21, 2021 12h\n",
      "QUERY:  Moon Phase calculatorApril 21, 2021 12h\n"
     ]
    },
    {
     "name": "stderr",
     "output_type": "stream",
     "text": [
      "\r",
      "  4%|██▋                                                                          | 90/2550 [30:47<14:04:52, 20.61s/it]"
     ]
    },
    {
     "name": "stdout",
     "output_type": "stream",
     "text": [
      "QUERY:  Precipitation amount in Zollikofen April 21, 2021 13h\n",
      "QUERY:  temperature in Zollikofen April 21, 2021 13h\n",
      "QUERY:  humidity in Zollikofen April 21, 2021 13h\n",
      "QUERY:  wind speed in Zollikofen April 21, 2021 13h\n",
      "QUERY:  Moon Phase calculatorApril 21, 2021 13h\n",
      "(4910, 7)\n"
     ]
    },
    {
     "data": {
      "text/html": [
       "<div>\n",
       "<style scoped>\n",
       "    .dataframe tbody tr th:only-of-type {\n",
       "        vertical-align: middle;\n",
       "    }\n",
       "\n",
       "    .dataframe tbody tr th {\n",
       "        vertical-align: top;\n",
       "    }\n",
       "\n",
       "    .dataframe thead th {\n",
       "        text-align: right;\n",
       "    }\n",
       "</style>\n",
       "<table border=\"1\" class=\"dataframe\">\n",
       "  <thead>\n",
       "    <tr style=\"text-align: right;\">\n",
       "      <th></th>\n",
       "      <th>date</th>\n",
       "      <th>temperature</th>\n",
       "      <th>humidity</th>\n",
       "      <th>wind speed</th>\n",
       "      <th>Precipitation amount</th>\n",
       "      <th>query</th>\n",
       "      <th>Moon Phase calculator</th>\n",
       "    </tr>\n",
       "  </thead>\n",
       "  <tbody>\n",
       "    <tr>\n",
       "      <th>8</th>\n",
       "      <td>2021-04-21 12:00:00</td>\n",
       "      <td>13 °C\\n(12:00 pm CEST | Wednesday, April 21, 2...</td>\n",
       "      <td>average: 48% (44 to 51%)\\n(12:00 pm CEST | Wed...</td>\n",
       "      <td>3 m/s\\n(12:00 pm CEST | Wednesday, April 21, 2...</td>\n",
       "      <td>no precipitation\\n(12:00 pm CEST | Wednesday, ...</td>\n",
       "      <td>Moon Phase calculatorApril 21, 2021 12h</td>\n",
       "      <td>| waxing gibbous moon\\n61.65% illuminated</td>\n",
       "    </tr>\n",
       "    <tr>\n",
       "      <th>9</th>\n",
       "      <td>2021-04-21 13:00:00</td>\n",
       "      <td>14 °C\\n(1:00 pm CEST | Wednesday, April 21, 2021)</td>\n",
       "      <td>average: 46% (44 to 48%)\\n(1:00 pm CEST | Wedn...</td>\n",
       "      <td>2 m/s\\n(1:00 pm CEST | Wednesday, April 21, 2021)</td>\n",
       "      <td>no precipitation\\n(1:00 pm CEST | Wednesday, A...</td>\n",
       "      <td>Moon Phase calculatorApril 21, 2021 13h</td>\n",
       "      <td>| waxing gibbous moon\\n62.08% illuminated</td>\n",
       "    </tr>\n",
       "  </tbody>\n",
       "</table>\n",
       "</div>"
      ],
      "text/plain": [
       "                 date                                        temperature  \\\n",
       "8 2021-04-21 12:00:00  13 °C\\n(12:00 pm CEST | Wednesday, April 21, 2...   \n",
       "9 2021-04-21 13:00:00  14 °C\\n(1:00 pm CEST | Wednesday, April 21, 2021)   \n",
       "\n",
       "                                            humidity  \\\n",
       "8  average: 48% (44 to 51%)\\n(12:00 pm CEST | Wed...   \n",
       "9  average: 46% (44 to 48%)\\n(1:00 pm CEST | Wedn...   \n",
       "\n",
       "                                          wind speed  \\\n",
       "8  3 m/s\\n(12:00 pm CEST | Wednesday, April 21, 2...   \n",
       "9  2 m/s\\n(1:00 pm CEST | Wednesday, April 21, 2021)   \n",
       "\n",
       "                                Precipitation amount  \\\n",
       "8  no precipitation\\n(12:00 pm CEST | Wednesday, ...   \n",
       "9  no precipitation\\n(1:00 pm CEST | Wednesday, A...   \n",
       "\n",
       "                                     query  \\\n",
       "8  Moon Phase calculatorApril 21, 2021 12h   \n",
       "9  Moon Phase calculatorApril 21, 2021 13h   \n",
       "\n",
       "                       Moon Phase calculator  \n",
       "8  | waxing gibbous moon\\n61.65% illuminated  \n",
       "9  | waxing gibbous moon\\n62.08% illuminated  "
      ]
     },
     "metadata": {},
     "output_type": "display_data"
    },
    {
     "name": "stderr",
     "output_type": "stream",
     "text": [
      "\r",
      "  4%|██▋                                                                          | 91/2550 [31:09<14:22:37, 21.05s/it]"
     ]
    },
    {
     "name": "stdout",
     "output_type": "stream",
     "text": [
      "QUERY:  Precipitation amount in Zollikofen April 21, 2021 14h\n",
      "QUERY:  temperature in Zollikofen April 21, 2021 14h\n",
      "QUERY:  humidity in Zollikofen April 21, 2021 14h\n",
      "QUERY:  wind speed in Zollikofen April 21, 2021 14h\n",
      "QUERY:  Moon Phase calculatorApril 21, 2021 14h\n"
     ]
    },
    {
     "name": "stderr",
     "output_type": "stream",
     "text": [
      "\r",
      "  4%|██▊                                                                          | 92/2550 [31:30<14:21:56, 21.04s/it]"
     ]
    },
    {
     "name": "stdout",
     "output_type": "stream",
     "text": [
      "QUERY:  Precipitation amount in Zollikofen April 21, 2021 15h\n",
      "QUERY:  temperature in Zollikofen April 21, 2021 15h\n",
      "QUERY:  humidity in Zollikofen April 21, 2021 15h\n",
      "QUERY:  wind speed in Zollikofen April 21, 2021 15h\n",
      "QUERY:  Moon Phase calculatorApril 21, 2021 15h\n"
     ]
    },
    {
     "name": "stderr",
     "output_type": "stream",
     "text": [
      "\r",
      "  4%|██▊                                                                          | 93/2550 [31:51<14:19:31, 20.99s/it]"
     ]
    },
    {
     "name": "stdout",
     "output_type": "stream",
     "text": [
      "QUERY:  Precipitation amount in Zollikofen April 21, 2021 16h\n",
      "QUERY:  temperature in Zollikofen April 21, 2021 16h\n",
      "QUERY:  humidity in Zollikofen April 21, 2021 16h\n",
      "QUERY:  wind speed in Zollikofen April 21, 2021 16h\n",
      "QUERY:  Moon Phase calculatorApril 21, 2021 16h\n"
     ]
    },
    {
     "name": "stderr",
     "output_type": "stream",
     "text": [
      "\r",
      "  4%|██▊                                                                          | 94/2550 [32:11<14:04:21, 20.63s/it]"
     ]
    },
    {
     "name": "stdout",
     "output_type": "stream",
     "text": [
      "QUERY:  Precipitation amount in Zollikofen April 21, 2021 17h\n",
      "QUERY:  temperature in Zollikofen April 21, 2021 17h\n",
      "QUERY:  humidity in Zollikofen April 21, 2021 17h\n",
      "QUERY:  wind speed in Zollikofen April 21, 2021 17h\n",
      "QUERY:  Moon Phase calculatorApril 21, 2021 17h\n"
     ]
    },
    {
     "name": "stderr",
     "output_type": "stream",
     "text": [
      "\r",
      "  4%|██▊                                                                          | 95/2550 [32:31<13:57:35, 20.47s/it]"
     ]
    },
    {
     "name": "stdout",
     "output_type": "stream",
     "text": [
      "QUERY:  Precipitation amount in Zollikofen April 21, 2021 18h\n",
      "QUERY:  temperature in Zollikofen April 21, 2021 18h\n",
      "QUERY:  humidity in Zollikofen April 21, 2021 18h\n",
      "QUERY:  wind speed in Zollikofen April 21, 2021 18h\n",
      "QUERY:  Moon Phase calculatorApril 21, 2021 18h\n"
     ]
    },
    {
     "name": "stderr",
     "output_type": "stream",
     "text": [
      "\r",
      "  4%|██▉                                                                          | 96/2550 [32:51<13:48:44, 20.26s/it]"
     ]
    },
    {
     "name": "stdout",
     "output_type": "stream",
     "text": [
      "QUERY:  Precipitation amount in Zollikofen April 21, 2021 19h\n",
      "QUERY:  temperature in Zollikofen April 21, 2021 19h\n",
      "QUERY:  humidity in Zollikofen April 21, 2021 19h\n",
      "QUERY:  wind speed in Zollikofen April 21, 2021 19h\n",
      "QUERY:  Moon Phase calculatorApril 21, 2021 19h\n"
     ]
    },
    {
     "name": "stderr",
     "output_type": "stream",
     "text": [
      "\r",
      "  4%|██▉                                                                          | 97/2550 [33:12<14:03:57, 20.64s/it]"
     ]
    },
    {
     "name": "stdout",
     "output_type": "stream",
     "text": [
      "QUERY:  Precipitation amount in Zollikofen April 21, 2021 20h\n",
      "QUERY:  temperature in Zollikofen April 21, 2021 20h\n",
      "QUERY:  humidity in Zollikofen April 21, 2021 20h\n",
      "QUERY:  wind speed in Zollikofen April 21, 2021 20h\n",
      "QUERY:  Moon Phase calculatorApril 21, 2021 20h\n"
     ]
    },
    {
     "name": "stderr",
     "output_type": "stream",
     "text": [
      "\r",
      "  4%|██▉                                                                          | 98/2550 [33:32<13:57:51, 20.50s/it]"
     ]
    },
    {
     "name": "stdout",
     "output_type": "stream",
     "text": [
      "QUERY:  Precipitation amount in Zollikofen April 21, 2021 21h\n",
      "QUERY:  temperature in Zollikofen April 21, 2021 21h\n",
      "QUERY:  humidity in Zollikofen April 21, 2021 21h\n",
      "QUERY:  wind speed in Zollikofen April 21, 2021 21h\n",
      "QUERY:  Moon Phase calculatorApril 21, 2021 21h\n"
     ]
    },
    {
     "name": "stderr",
     "output_type": "stream",
     "text": [
      "\r",
      "  4%|██▉                                                                          | 99/2550 [33:52<13:51:12, 20.35s/it]"
     ]
    },
    {
     "name": "stdout",
     "output_type": "stream",
     "text": [
      "QUERY:  Precipitation amount in Zollikofen April 21, 2021 22h\n",
      "QUERY:  temperature in Zollikofen April 21, 2021 22h\n",
      "QUERY:  humidity in Zollikofen April 21, 2021 22h\n",
      "QUERY:  wind speed in Zollikofen April 21, 2021 22h\n",
      "QUERY:  Moon Phase calculatorApril 21, 2021 22h\n"
     ]
    },
    {
     "name": "stderr",
     "output_type": "stream",
     "text": [
      "\r",
      "  4%|██▉                                                                         | 100/2550 [34:14<14:08:48, 20.79s/it]"
     ]
    },
    {
     "name": "stdout",
     "output_type": "stream",
     "text": [
      "QUERY:  Precipitation amount in Zollikofen April 21, 2021 23h\n",
      "QUERY:  temperature in Zollikofen April 21, 2021 23h\n",
      "QUERY:  humidity in Zollikofen April 21, 2021 23h\n",
      "QUERY:  wind speed in Zollikofen April 21, 2021 23h\n",
      "QUERY:  Moon Phase calculatorApril 21, 2021 23h\n",
      "(4920, 7)\n"
     ]
    },
    {
     "data": {
      "text/html": [
       "<div>\n",
       "<style scoped>\n",
       "    .dataframe tbody tr th:only-of-type {\n",
       "        vertical-align: middle;\n",
       "    }\n",
       "\n",
       "    .dataframe tbody tr th {\n",
       "        vertical-align: top;\n",
       "    }\n",
       "\n",
       "    .dataframe thead th {\n",
       "        text-align: right;\n",
       "    }\n",
       "</style>\n",
       "<table border=\"1\" class=\"dataframe\">\n",
       "  <thead>\n",
       "    <tr style=\"text-align: right;\">\n",
       "      <th></th>\n",
       "      <th>date</th>\n",
       "      <th>temperature</th>\n",
       "      <th>humidity</th>\n",
       "      <th>wind speed</th>\n",
       "      <th>Precipitation amount</th>\n",
       "      <th>query</th>\n",
       "      <th>Moon Phase calculator</th>\n",
       "    </tr>\n",
       "  </thead>\n",
       "  <tbody>\n",
       "    <tr>\n",
       "      <th>8</th>\n",
       "      <td>2021-04-21 22:00:00</td>\n",
       "      <td>7 °C\\n(10:00 pm CEST | Wednesday, April 21, 2021)</td>\n",
       "      <td>average: 90% (87 to 93%)\\n(10:00 pm CEST | Wed...</td>\n",
       "      <td>1 m/s\\n(10:00 pm CEST | Wednesday, April 21, 2...</td>\n",
       "      <td>no precipitation\\n(10:00 pm CEST | Wednesday, ...</td>\n",
       "      <td>Moon Phase calculatorApril 21, 2021 22h</td>\n",
       "      <td>| waxing gibbous moon\\n65.89% illuminated</td>\n",
       "    </tr>\n",
       "    <tr>\n",
       "      <th>9</th>\n",
       "      <td>2021-04-21 23:00:00</td>\n",
       "      <td>6 °C\\n(11:00 pm CEST | Wednesday, April 21, 2021)</td>\n",
       "      <td>average: 97% (93 to 100%)\\n(11:00 pm CEST | We...</td>\n",
       "      <td>0 m/s\\n(11:00 pm CEST | Wednesday, April 21, 2...</td>\n",
       "      <td>no precipitation\\n(11:00 pm CEST | Wednesday, ...</td>\n",
       "      <td>Moon Phase calculatorApril 21, 2021 23h</td>\n",
       "      <td>| waxing gibbous moon\\n66.32% illuminated</td>\n",
       "    </tr>\n",
       "  </tbody>\n",
       "</table>\n",
       "</div>"
      ],
      "text/plain": [
       "                 date                                        temperature  \\\n",
       "8 2021-04-21 22:00:00  7 °C\\n(10:00 pm CEST | Wednesday, April 21, 2021)   \n",
       "9 2021-04-21 23:00:00  6 °C\\n(11:00 pm CEST | Wednesday, April 21, 2021)   \n",
       "\n",
       "                                            humidity  \\\n",
       "8  average: 90% (87 to 93%)\\n(10:00 pm CEST | Wed...   \n",
       "9  average: 97% (93 to 100%)\\n(11:00 pm CEST | We...   \n",
       "\n",
       "                                          wind speed  \\\n",
       "8  1 m/s\\n(10:00 pm CEST | Wednesday, April 21, 2...   \n",
       "9  0 m/s\\n(11:00 pm CEST | Wednesday, April 21, 2...   \n",
       "\n",
       "                                Precipitation amount  \\\n",
       "8  no precipitation\\n(10:00 pm CEST | Wednesday, ...   \n",
       "9  no precipitation\\n(11:00 pm CEST | Wednesday, ...   \n",
       "\n",
       "                                     query  \\\n",
       "8  Moon Phase calculatorApril 21, 2021 22h   \n",
       "9  Moon Phase calculatorApril 21, 2021 23h   \n",
       "\n",
       "                       Moon Phase calculator  \n",
       "8  | waxing gibbous moon\\n65.89% illuminated  \n",
       "9  | waxing gibbous moon\\n66.32% illuminated  "
      ]
     },
     "metadata": {},
     "output_type": "display_data"
    },
    {
     "name": "stderr",
     "output_type": "stream",
     "text": [
      "\r",
      "  4%|███                                                                         | 101/2550 [34:35<14:15:13, 20.95s/it]"
     ]
    },
    {
     "name": "stdout",
     "output_type": "stream",
     "text": [
      "QUERY:  Precipitation amount in Zollikofen April 22, 2021 0h\n",
      "QUERY:  temperature in Zollikofen April 22, 2021 0h\n",
      "QUERY:  humidity in Zollikofen April 22, 2021 0h\n",
      "QUERY:  wind speed in Zollikofen April 22, 2021 0h\n",
      "QUERY:  Moon Phase calculatorApril 22, 2021 0h\n"
     ]
    },
    {
     "name": "stderr",
     "output_type": "stream",
     "text": [
      "\r",
      "  4%|███                                                                         | 102/2550 [34:57<14:24:53, 21.20s/it]"
     ]
    },
    {
     "name": "stdout",
     "output_type": "stream",
     "text": [
      "QUERY:  Precipitation amount in Zollikofen April 22, 2021 1h\n",
      "QUERY:  temperature in Zollikofen April 22, 2021 1h\n",
      "QUERY:  humidity in Zollikofen April 22, 2021 1h\n",
      "QUERY:  wind speed in Zollikofen April 22, 2021 1h\n",
      "QUERY:  Moon Phase calculatorApril 22, 2021 1h\n"
     ]
    },
    {
     "name": "stderr",
     "output_type": "stream",
     "text": [
      "\r",
      "  4%|███                                                                         | 103/2550 [35:18<14:15:46, 20.98s/it]"
     ]
    },
    {
     "name": "stdout",
     "output_type": "stream",
     "text": [
      "QUERY:  Precipitation amount in Zollikofen April 22, 2021 2h\n",
      "QUERY:  temperature in Zollikofen April 22, 2021 2h\n",
      "QUERY:  humidity in Zollikofen April 22, 2021 2h\n",
      "QUERY:  wind speed in Zollikofen April 22, 2021 2h\n",
      "QUERY:  Moon Phase calculatorApril 22, 2021 2h\n"
     ]
    },
    {
     "name": "stderr",
     "output_type": "stream",
     "text": [
      "\r",
      "  4%|███                                                                         | 104/2550 [35:38<14:09:15, 20.83s/it]"
     ]
    },
    {
     "name": "stdout",
     "output_type": "stream",
     "text": [
      "QUERY:  Precipitation amount in Zollikofen April 22, 2021 3h\n",
      "QUERY:  temperature in Zollikofen April 22, 2021 3h\n",
      "QUERY:  humidity in Zollikofen April 22, 2021 3h\n",
      "QUERY:  wind speed in Zollikofen April 22, 2021 3h\n",
      "QUERY:  Moon Phase calculatorApril 22, 2021 3h\n"
     ]
    },
    {
     "name": "stderr",
     "output_type": "stream",
     "text": [
      "\r",
      "  4%|███▏                                                                        | 105/2550 [35:59<14:06:57, 20.78s/it]"
     ]
    },
    {
     "name": "stdout",
     "output_type": "stream",
     "text": [
      "QUERY:  Precipitation amount in Zollikofen April 22, 2021 4h\n",
      "QUERY:  temperature in Zollikofen April 22, 2021 4h\n",
      "QUERY:  humidity in Zollikofen April 22, 2021 4h\n",
      "QUERY:  wind speed in Zollikofen April 22, 2021 4h\n",
      "QUERY:  Moon Phase calculatorApril 22, 2021 4h\n"
     ]
    },
    {
     "name": "stderr",
     "output_type": "stream",
     "text": [
      "\r",
      "  4%|███▏                                                                        | 106/2550 [36:19<13:54:17, 20.48s/it]"
     ]
    },
    {
     "name": "stdout",
     "output_type": "stream",
     "text": [
      "QUERY:  Precipitation amount in Zollikofen April 22, 2021 5h\n",
      "QUERY:  temperature in Zollikofen April 22, 2021 5h\n",
      "QUERY:  humidity in Zollikofen April 22, 2021 5h\n",
      "QUERY:  wind speed in Zollikofen April 22, 2021 5h\n",
      "QUERY:  Moon Phase calculatorApril 22, 2021 5h\n"
     ]
    },
    {
     "name": "stderr",
     "output_type": "stream",
     "text": [
      "\r",
      "  4%|███▏                                                                        | 107/2550 [36:39<13:51:13, 20.41s/it]"
     ]
    },
    {
     "name": "stdout",
     "output_type": "stream",
     "text": [
      "QUERY:  Precipitation amount in Zollikofen April 22, 2021 6h\n",
      "QUERY:  temperature in Zollikofen April 22, 2021 6h\n",
      "QUERY:  humidity in Zollikofen April 22, 2021 6h\n",
      "QUERY:  wind speed in Zollikofen April 22, 2021 6h\n",
      "QUERY:  Moon Phase calculatorApril 22, 2021 6h\n"
     ]
    },
    {
     "name": "stderr",
     "output_type": "stream",
     "text": [
      "\r",
      "  4%|███▏                                                                        | 108/2550 [37:01<14:09:18, 20.87s/it]"
     ]
    },
    {
     "name": "stdout",
     "output_type": "stream",
     "text": [
      "QUERY:  Precipitation amount in Zollikofen April 22, 2021 7h\n",
      "QUERY:  temperature in Zollikofen April 22, 2021 7h\n",
      "QUERY:  humidity in Zollikofen April 22, 2021 7h\n",
      "QUERY:  wind speed in Zollikofen April 22, 2021 7h\n",
      "QUERY:  Moon Phase calculatorApril 22, 2021 7h\n"
     ]
    },
    {
     "name": "stderr",
     "output_type": "stream",
     "text": [
      "\r",
      "  4%|███▏                                                                        | 109/2550 [37:20<13:54:19, 20.51s/it]"
     ]
    },
    {
     "name": "stdout",
     "output_type": "stream",
     "text": [
      "QUERY:  Precipitation amount in Zollikofen April 22, 2021 8h\n",
      "QUERY:  temperature in Zollikofen April 22, 2021 8h\n",
      "QUERY:  humidity in Zollikofen April 22, 2021 8h\n",
      "QUERY:  wind speed in Zollikofen April 22, 2021 8h\n",
      "QUERY:  Moon Phase calculatorApril 22, 2021 8h\n"
     ]
    },
    {
     "name": "stderr",
     "output_type": "stream",
     "text": [
      "\r",
      "  4%|███▎                                                                        | 110/2550 [37:41<13:56:09, 20.56s/it]"
     ]
    },
    {
     "name": "stdout",
     "output_type": "stream",
     "text": [
      "QUERY:  Precipitation amount in Zollikofen April 22, 2021 9h\n",
      "QUERY:  temperature in Zollikofen April 22, 2021 9h\n",
      "QUERY:  humidity in Zollikofen April 22, 2021 9h\n",
      "QUERY:  wind speed in Zollikofen April 22, 2021 9h\n",
      "QUERY:  Moon Phase calculatorApril 22, 2021 9h\n",
      "(4930, 7)\n"
     ]
    },
    {
     "data": {
      "text/html": [
       "<div>\n",
       "<style scoped>\n",
       "    .dataframe tbody tr th:only-of-type {\n",
       "        vertical-align: middle;\n",
       "    }\n",
       "\n",
       "    .dataframe tbody tr th {\n",
       "        vertical-align: top;\n",
       "    }\n",
       "\n",
       "    .dataframe thead th {\n",
       "        text-align: right;\n",
       "    }\n",
       "</style>\n",
       "<table border=\"1\" class=\"dataframe\">\n",
       "  <thead>\n",
       "    <tr style=\"text-align: right;\">\n",
       "      <th></th>\n",
       "      <th>date</th>\n",
       "      <th>temperature</th>\n",
       "      <th>humidity</th>\n",
       "      <th>wind speed</th>\n",
       "      <th>Precipitation amount</th>\n",
       "      <th>query</th>\n",
       "      <th>Moon Phase calculator</th>\n",
       "    </tr>\n",
       "  </thead>\n",
       "  <tbody>\n",
       "    <tr>\n",
       "      <th>8</th>\n",
       "      <td>2021-04-22 08:00:00</td>\n",
       "      <td>7 °C\\n(8:00 am CEST | Thursday, April 22, 2021)</td>\n",
       "      <td>average: 94% (87 to 100%)\\n(8:00 am CEST | Thu...</td>\n",
       "      <td>1 m/s\\n(8:00 am CEST | Thursday, April 22, 2021)</td>\n",
       "      <td>no precipitation\\n(8:00 am CEST | Thursday, Ap...</td>\n",
       "      <td>Moon Phase calculatorApril 22, 2021 8h</td>\n",
       "      <td>| waxing gibbous moon\\n70.07% illuminated</td>\n",
       "    </tr>\n",
       "    <tr>\n",
       "      <th>9</th>\n",
       "      <td>2021-04-22 09:00:00</td>\n",
       "      <td>9 °C\\n(9:00 am CEST | Thursday, April 22, 2021)</td>\n",
       "      <td>average: 76% (71 to 81%)\\n(9:00 am CEST | Thur...</td>\n",
       "      <td>1 m/s\\n(9:00 am CEST | Thursday, April 22, 2021)</td>\n",
       "      <td>no precipitation\\n(9:00 am CEST | Thursday, Ap...</td>\n",
       "      <td>Moon Phase calculatorApril 22, 2021 9h</td>\n",
       "      <td>| waxing gibbous moon\\n70.49% illuminated</td>\n",
       "    </tr>\n",
       "  </tbody>\n",
       "</table>\n",
       "</div>"
      ],
      "text/plain": [
       "                 date                                      temperature  \\\n",
       "8 2021-04-22 08:00:00  7 °C\\n(8:00 am CEST | Thursday, April 22, 2021)   \n",
       "9 2021-04-22 09:00:00  9 °C\\n(9:00 am CEST | Thursday, April 22, 2021)   \n",
       "\n",
       "                                            humidity  \\\n",
       "8  average: 94% (87 to 100%)\\n(8:00 am CEST | Thu...   \n",
       "9  average: 76% (71 to 81%)\\n(9:00 am CEST | Thur...   \n",
       "\n",
       "                                         wind speed  \\\n",
       "8  1 m/s\\n(8:00 am CEST | Thursday, April 22, 2021)   \n",
       "9  1 m/s\\n(9:00 am CEST | Thursday, April 22, 2021)   \n",
       "\n",
       "                                Precipitation amount  \\\n",
       "8  no precipitation\\n(8:00 am CEST | Thursday, Ap...   \n",
       "9  no precipitation\\n(9:00 am CEST | Thursday, Ap...   \n",
       "\n",
       "                                    query  \\\n",
       "8  Moon Phase calculatorApril 22, 2021 8h   \n",
       "9  Moon Phase calculatorApril 22, 2021 9h   \n",
       "\n",
       "                       Moon Phase calculator  \n",
       "8  | waxing gibbous moon\\n70.07% illuminated  \n",
       "9  | waxing gibbous moon\\n70.49% illuminated  "
      ]
     },
     "metadata": {},
     "output_type": "display_data"
    },
    {
     "name": "stderr",
     "output_type": "stream",
     "text": [
      "\r",
      "  4%|███▎                                                                        | 111/2550 [38:01<13:50:24, 20.43s/it]"
     ]
    },
    {
     "name": "stdout",
     "output_type": "stream",
     "text": [
      "QUERY:  Precipitation amount in Zollikofen April 22, 2021 10h\n",
      "QUERY:  temperature in Zollikofen April 22, 2021 10h\n",
      "QUERY:  humidity in Zollikofen April 22, 2021 10h\n",
      "QUERY:  wind speed in Zollikofen April 22, 2021 10h\n",
      "QUERY:  Moon Phase calculatorApril 22, 2021 10h\n"
     ]
    },
    {
     "name": "stderr",
     "output_type": "stream",
     "text": [
      "\r",
      "  4%|███▎                                                                        | 112/2550 [38:21<13:46:23, 20.34s/it]"
     ]
    },
    {
     "name": "stdout",
     "output_type": "stream",
     "text": [
      "QUERY:  Precipitation amount in Zollikofen April 22, 2021 11h\n",
      "QUERY:  temperature in Zollikofen April 22, 2021 11h\n",
      "QUERY:  humidity in Zollikofen April 22, 2021 11h\n",
      "QUERY:  wind speed in Zollikofen April 22, 2021 11h\n",
      "QUERY:  Moon Phase calculatorApril 22, 2021 11h\n"
     ]
    },
    {
     "name": "stderr",
     "output_type": "stream",
     "text": [
      "\r",
      "  4%|███▎                                                                        | 113/2550 [38:43<14:05:12, 20.81s/it]"
     ]
    },
    {
     "name": "stdout",
     "output_type": "stream",
     "text": [
      "QUERY:  Precipitation amount in Zollikofen April 22, 2021 12h\n",
      "QUERY:  temperature in Zollikofen April 22, 2021 12h\n",
      "QUERY:  humidity in Zollikofen April 22, 2021 12h\n",
      "QUERY:  wind speed in Zollikofen April 22, 2021 12h\n",
      "QUERY:  Moon Phase calculatorApril 22, 2021 12h\n"
     ]
    },
    {
     "name": "stderr",
     "output_type": "stream",
     "text": [
      "\r",
      "  4%|███▍                                                                        | 114/2550 [39:04<13:59:38, 20.68s/it]"
     ]
    },
    {
     "name": "stdout",
     "output_type": "stream",
     "text": [
      "QUERY:  Precipitation amount in Zollikofen April 22, 2021 13h\n",
      "QUERY:  temperature in Zollikofen April 22, 2021 13h\n",
      "QUERY:  humidity in Zollikofen April 22, 2021 13h\n",
      "QUERY:  wind speed in Zollikofen April 22, 2021 13h\n",
      "QUERY:  Moon Phase calculatorApril 22, 2021 13h\n"
     ]
    },
    {
     "name": "stderr",
     "output_type": "stream",
     "text": [
      "\r",
      "  5%|███▍                                                                        | 115/2550 [39:24<13:55:37, 20.59s/it]"
     ]
    },
    {
     "name": "stdout",
     "output_type": "stream",
     "text": [
      "QUERY:  Precipitation amount in Zollikofen April 22, 2021 14h\n",
      "QUERY:  temperature in Zollikofen April 22, 2021 14h\n",
      "QUERY:  humidity in Zollikofen April 22, 2021 14h\n",
      "QUERY:  wind speed in Zollikofen April 22, 2021 14h\n",
      "QUERY:  Moon Phase calculatorApril 22, 2021 14h\n"
     ]
    },
    {
     "name": "stderr",
     "output_type": "stream",
     "text": [
      "\r",
      "  5%|███▍                                                                        | 116/2550 [39:46<14:08:31, 20.92s/it]"
     ]
    },
    {
     "name": "stdout",
     "output_type": "stream",
     "text": [
      "QUERY:  Precipitation amount in Zollikofen April 22, 2021 15h\n",
      "QUERY:  temperature in Zollikofen April 22, 2021 15h\n",
      "QUERY:  humidity in Zollikofen April 22, 2021 15h\n",
      "QUERY:  wind speed in Zollikofen April 22, 2021 15h\n",
      "QUERY:  Moon Phase calculatorApril 22, 2021 15h\n"
     ]
    },
    {
     "name": "stderr",
     "output_type": "stream",
     "text": [
      "\r",
      "  5%|███▍                                                                        | 117/2550 [40:07<14:09:28, 20.95s/it]"
     ]
    },
    {
     "name": "stdout",
     "output_type": "stream",
     "text": [
      "QUERY:  Precipitation amount in Zollikofen April 22, 2021 16h\n",
      "QUERY:  temperature in Zollikofen April 22, 2021 16h\n",
      "QUERY:  humidity in Zollikofen April 22, 2021 16h\n",
      "QUERY:  wind speed in Zollikofen April 22, 2021 16h\n",
      "QUERY:  Moon Phase calculatorApril 22, 2021 16h\n"
     ]
    },
    {
     "name": "stderr",
     "output_type": "stream",
     "text": [
      "\r",
      "  5%|███▌                                                                        | 118/2550 [40:28<14:08:23, 20.93s/it]"
     ]
    },
    {
     "name": "stdout",
     "output_type": "stream",
     "text": [
      "QUERY:  Precipitation amount in Zollikofen April 22, 2021 17h\n",
      "QUERY:  temperature in Zollikofen April 22, 2021 17h\n",
      "QUERY:  humidity in Zollikofen April 22, 2021 17h\n",
      "QUERY:  wind speed in Zollikofen April 22, 2021 17h\n",
      "QUERY:  Moon Phase calculatorApril 22, 2021 17h\n"
     ]
    },
    {
     "name": "stderr",
     "output_type": "stream",
     "text": [
      "\r",
      "  5%|███▌                                                                        | 119/2550 [40:45<13:22:45, 19.81s/it]"
     ]
    },
    {
     "name": "stdout",
     "output_type": "stream",
     "text": [
      "QUERY:  Precipitation amount in Zollikofen April 22, 2021 18h\n",
      "QUERY:  temperature in Zollikofen April 22, 2021 18h\n",
      "QUERY:  humidity in Zollikofen April 22, 2021 18h\n",
      "QUERY:  wind speed in Zollikofen April 22, 2021 18h\n",
      "QUERY:  Moon Phase calculatorApril 22, 2021 18h\n"
     ]
    },
    {
     "name": "stderr",
     "output_type": "stream",
     "text": [
      "\r",
      "  5%|███▌                                                                        | 120/2550 [41:03<13:05:36, 19.40s/it]"
     ]
    },
    {
     "name": "stdout",
     "output_type": "stream",
     "text": [
      "QUERY:  Precipitation amount in Zollikofen April 22, 2021 19h\n",
      "QUERY:  temperature in Zollikofen April 22, 2021 19h\n",
      "QUERY:  humidity in Zollikofen April 22, 2021 19h\n",
      "QUERY:  wind speed in Zollikofen April 22, 2021 19h\n",
      "QUERY:  Moon Phase calculatorApril 22, 2021 19h\n",
      "(4940, 7)\n"
     ]
    },
    {
     "data": {
      "text/html": [
       "<div>\n",
       "<style scoped>\n",
       "    .dataframe tbody tr th:only-of-type {\n",
       "        vertical-align: middle;\n",
       "    }\n",
       "\n",
       "    .dataframe tbody tr th {\n",
       "        vertical-align: top;\n",
       "    }\n",
       "\n",
       "    .dataframe thead th {\n",
       "        text-align: right;\n",
       "    }\n",
       "</style>\n",
       "<table border=\"1\" class=\"dataframe\">\n",
       "  <thead>\n",
       "    <tr style=\"text-align: right;\">\n",
       "      <th></th>\n",
       "      <th>date</th>\n",
       "      <th>temperature</th>\n",
       "      <th>humidity</th>\n",
       "      <th>wind speed</th>\n",
       "      <th>Precipitation amount</th>\n",
       "      <th>query</th>\n",
       "      <th>Moon Phase calculator</th>\n",
       "    </tr>\n",
       "  </thead>\n",
       "  <tbody>\n",
       "    <tr>\n",
       "      <th>8</th>\n",
       "      <td>2021-04-22 18:00:00</td>\n",
       "      <td>15 °C\\n(6:00 pm CEST | Thursday, April 22, 2021)</td>\n",
       "      <td>average: 48% (48%)\\n(6:00 pm CEST | Thursday, ...</td>\n",
       "      <td>5 m/s\\n(6:00 pm CEST | Thursday, April 22, 2021)</td>\n",
       "      <td>no precipitation\\n(6:00 pm CEST | Thursday, Ap...</td>\n",
       "      <td>Moon Phase calculatorApril 22, 2021 18h</td>\n",
       "      <td>| waxing gibbous moon\\n74.15% illuminated</td>\n",
       "    </tr>\n",
       "    <tr>\n",
       "      <th>9</th>\n",
       "      <td>2021-04-22 19:00:00</td>\n",
       "      <td>14 °C\\n(7:00 pm CEST | Thursday, April 22, 2021)</td>\n",
       "      <td>average: 48% (47 to 48%)\\n(7:00 pm CEST | Thur...</td>\n",
       "      <td>4 m/s\\n(7:00 pm CEST | Thursday, April 22, 2021)</td>\n",
       "      <td>no precipitation\\n(7:00 pm CEST | Thursday, Ap...</td>\n",
       "      <td>Moon Phase calculatorApril 22, 2021 19h</td>\n",
       "      <td>| waxing gibbous moon\\n74.55% illuminated</td>\n",
       "    </tr>\n",
       "  </tbody>\n",
       "</table>\n",
       "</div>"
      ],
      "text/plain": [
       "                 date                                       temperature  \\\n",
       "8 2021-04-22 18:00:00  15 °C\\n(6:00 pm CEST | Thursday, April 22, 2021)   \n",
       "9 2021-04-22 19:00:00  14 °C\\n(7:00 pm CEST | Thursday, April 22, 2021)   \n",
       "\n",
       "                                            humidity  \\\n",
       "8  average: 48% (48%)\\n(6:00 pm CEST | Thursday, ...   \n",
       "9  average: 48% (47 to 48%)\\n(7:00 pm CEST | Thur...   \n",
       "\n",
       "                                         wind speed  \\\n",
       "8  5 m/s\\n(6:00 pm CEST | Thursday, April 22, 2021)   \n",
       "9  4 m/s\\n(7:00 pm CEST | Thursday, April 22, 2021)   \n",
       "\n",
       "                                Precipitation amount  \\\n",
       "8  no precipitation\\n(6:00 pm CEST | Thursday, Ap...   \n",
       "9  no precipitation\\n(7:00 pm CEST | Thursday, Ap...   \n",
       "\n",
       "                                     query  \\\n",
       "8  Moon Phase calculatorApril 22, 2021 18h   \n",
       "9  Moon Phase calculatorApril 22, 2021 19h   \n",
       "\n",
       "                       Moon Phase calculator  \n",
       "8  | waxing gibbous moon\\n74.15% illuminated  \n",
       "9  | waxing gibbous moon\\n74.55% illuminated  "
      ]
     },
     "metadata": {},
     "output_type": "display_data"
    },
    {
     "name": "stderr",
     "output_type": "stream",
     "text": [
      "\r",
      "  5%|███▌                                                                        | 121/2550 [41:20<12:27:49, 18.47s/it]"
     ]
    },
    {
     "name": "stdout",
     "output_type": "stream",
     "text": [
      "QUERY:  Precipitation amount in Zollikofen April 22, 2021 20h\n",
      "QUERY:  temperature in Zollikofen April 22, 2021 20h\n",
      "QUERY:  humidity in Zollikofen April 22, 2021 20h\n",
      "QUERY:  wind speed in Zollikofen April 22, 2021 20h\n",
      "QUERY:  Moon Phase calculatorApril 22, 2021 20h\n"
     ]
    },
    {
     "name": "stderr",
     "output_type": "stream",
     "text": [
      "\r",
      "  5%|███▋                                                                        | 122/2550 [41:37<12:10:55, 18.06s/it]"
     ]
    },
    {
     "name": "stdout",
     "output_type": "stream",
     "text": [
      "QUERY:  Precipitation amount in Zollikofen April 22, 2021 21h\n",
      "QUERY:  temperature in Zollikofen April 22, 2021 21h\n",
      "QUERY:  humidity in Zollikofen April 22, 2021 21h\n",
      "QUERY:  wind speed in Zollikofen April 22, 2021 21h\n",
      "QUERY:  Moon Phase calculatorApril 22, 2021 21h\n"
     ]
    },
    {
     "name": "stderr",
     "output_type": "stream",
     "text": [
      "\r",
      "  5%|███▋                                                                        | 123/2550 [41:56<12:31:00, 18.57s/it]"
     ]
    },
    {
     "name": "stdout",
     "output_type": "stream",
     "text": [
      "QUERY:  Precipitation amount in Zollikofen April 22, 2021 22h\n",
      "QUERY:  temperature in Zollikofen April 22, 2021 22h\n",
      "QUERY:  humidity in Zollikofen April 22, 2021 22h\n",
      "QUERY:  wind speed in Zollikofen April 22, 2021 22h\n",
      "QUERY:  Moon Phase calculatorApril 22, 2021 22h\n"
     ]
    },
    {
     "name": "stderr",
     "output_type": "stream",
     "text": [
      "\r",
      "  5%|███▋                                                                        | 124/2550 [42:14<12:14:01, 18.15s/it]"
     ]
    },
    {
     "name": "stdout",
     "output_type": "stream",
     "text": [
      "QUERY:  Precipitation amount in Zollikofen April 22, 2021 23h\n",
      "QUERY:  temperature in Zollikofen April 22, 2021 23h\n",
      "QUERY:  humidity in Zollikofen April 22, 2021 23h\n",
      "QUERY:  wind speed in Zollikofen April 22, 2021 23h\n",
      "QUERY:  Moon Phase calculatorApril 22, 2021 23h\n"
     ]
    },
    {
     "name": "stderr",
     "output_type": "stream",
     "text": [
      "\r",
      "  5%|███▋                                                                        | 125/2550 [42:35<12:51:32, 19.09s/it]"
     ]
    },
    {
     "name": "stdout",
     "output_type": "stream",
     "text": [
      "QUERY:  Precipitation amount in Zollikofen April 23, 2021 0h\n",
      "QUERY:  temperature in Zollikofen April 23, 2021 0h\n",
      "QUERY:  humidity in Zollikofen April 23, 2021 0h\n",
      "QUERY:  wind speed in Zollikofen April 23, 2021 0h\n",
      "QUERY:  Moon Phase calculatorApril 23, 2021 0h\n"
     ]
    },
    {
     "name": "stderr",
     "output_type": "stream",
     "text": [
      "\r",
      "  5%|███▊                                                                        | 126/2550 [42:54<12:46:01, 18.96s/it]"
     ]
    },
    {
     "name": "stdout",
     "output_type": "stream",
     "text": [
      "QUERY:  Precipitation amount in Zollikofen April 23, 2021 1h\n",
      "QUERY:  temperature in Zollikofen April 23, 2021 1h\n",
      "QUERY:  humidity in Zollikofen April 23, 2021 1h\n",
      "QUERY:  wind speed in Zollikofen April 23, 2021 1h\n",
      "QUERY:  Moon Phase calculatorApril 23, 2021 1h\n"
     ]
    },
    {
     "name": "stderr",
     "output_type": "stream",
     "text": [
      "\r",
      "  5%|███▊                                                                        | 127/2550 [43:11<12:30:38, 18.59s/it]"
     ]
    },
    {
     "name": "stdout",
     "output_type": "stream",
     "text": [
      "QUERY:  Precipitation amount in Zollikofen April 23, 2021 2h\n",
      "QUERY:  temperature in Zollikofen April 23, 2021 2h\n",
      "QUERY:  humidity in Zollikofen April 23, 2021 2h\n",
      "QUERY:  wind speed in Zollikofen April 23, 2021 2h\n",
      "QUERY:  Moon Phase calculatorApril 23, 2021 2h\n"
     ]
    },
    {
     "name": "stderr",
     "output_type": "stream",
     "text": [
      "\r",
      "  5%|███▊                                                                        | 128/2550 [43:28<12:07:20, 18.02s/it]"
     ]
    },
    {
     "name": "stdout",
     "output_type": "stream",
     "text": [
      "QUERY:  Precipitation amount in Zollikofen April 23, 2021 3h\n",
      "QUERY:  temperature in Zollikofen April 23, 2021 3h\n",
      "QUERY:  humidity in Zollikofen April 23, 2021 3h\n",
      "QUERY:  wind speed in Zollikofen April 23, 2021 3h\n",
      "QUERY:  Moon Phase calculatorApril 23, 2021 3h\n"
     ]
    },
    {
     "name": "stderr",
     "output_type": "stream",
     "text": [
      "\r",
      "  5%|███▊                                                                        | 129/2550 [43:47<12:17:34, 18.28s/it]"
     ]
    },
    {
     "name": "stdout",
     "output_type": "stream",
     "text": [
      "QUERY:  Precipitation amount in Zollikofen April 23, 2021 4h\n",
      "QUERY:  temperature in Zollikofen April 23, 2021 4h\n",
      "QUERY:  humidity in Zollikofen April 23, 2021 4h\n",
      "QUERY:  wind speed in Zollikofen April 23, 2021 4h\n",
      "QUERY:  Moon Phase calculatorApril 23, 2021 4h\n"
     ]
    },
    {
     "name": "stderr",
     "output_type": "stream",
     "text": [
      "\r",
      "  5%|███▊                                                                        | 130/2550 [44:04<12:09:55, 18.10s/it]"
     ]
    },
    {
     "name": "stdout",
     "output_type": "stream",
     "text": [
      "QUERY:  Precipitation amount in Zollikofen April 23, 2021 5h\n",
      "QUERY:  temperature in Zollikofen April 23, 2021 5h\n",
      "QUERY:  humidity in Zollikofen April 23, 2021 5h\n",
      "QUERY:  wind speed in Zollikofen April 23, 2021 5h\n",
      "QUERY:  Moon Phase calculatorApril 23, 2021 5h\n",
      "(4950, 7)\n"
     ]
    },
    {
     "data": {
      "text/html": [
       "<div>\n",
       "<style scoped>\n",
       "    .dataframe tbody tr th:only-of-type {\n",
       "        vertical-align: middle;\n",
       "    }\n",
       "\n",
       "    .dataframe tbody tr th {\n",
       "        vertical-align: top;\n",
       "    }\n",
       "\n",
       "    .dataframe thead th {\n",
       "        text-align: right;\n",
       "    }\n",
       "</style>\n",
       "<table border=\"1\" class=\"dataframe\">\n",
       "  <thead>\n",
       "    <tr style=\"text-align: right;\">\n",
       "      <th></th>\n",
       "      <th>date</th>\n",
       "      <th>temperature</th>\n",
       "      <th>humidity</th>\n",
       "      <th>wind speed</th>\n",
       "      <th>Precipitation amount</th>\n",
       "      <th>query</th>\n",
       "      <th>Moon Phase calculator</th>\n",
       "    </tr>\n",
       "  </thead>\n",
       "  <tbody>\n",
       "    <tr>\n",
       "      <th>8</th>\n",
       "      <td>2021-04-23 04:00:00</td>\n",
       "      <td>1 °C\\n(4:00 am CEST | Friday, April 23, 2021)</td>\n",
       "      <td>average: 100% (100%)\\n(4:00 am CEST | Friday, ...</td>\n",
       "      <td>0 m/s\\n(4:00 am CEST | Friday, April 23, 2021)</td>\n",
       "      <td>no precipitation\\n(4:00 am CEST | Friday, Apri...</td>\n",
       "      <td>Moon Phase calculatorApril 23, 2021 4h</td>\n",
       "      <td>| waxing gibbous moon\\n78.09% illuminated</td>\n",
       "    </tr>\n",
       "    <tr>\n",
       "      <th>9</th>\n",
       "      <td>2021-04-23 05:00:00</td>\n",
       "      <td>1 °C\\n(5:00 am CEST | Friday, April 23, 2021)</td>\n",
       "      <td>average: 100% (100%)\\n(5:00 am CEST | Friday, ...</td>\n",
       "      <td>0 m/s\\n(5:00 am CEST | Friday, April 23, 2021)</td>\n",
       "      <td>no precipitation\\n(5:00 am CEST | Friday, Apri...</td>\n",
       "      <td>Moon Phase calculatorApril 23, 2021 5h</td>\n",
       "      <td>| waxing gibbous moon\\n78.48% illuminated</td>\n",
       "    </tr>\n",
       "  </tbody>\n",
       "</table>\n",
       "</div>"
      ],
      "text/plain": [
       "                 date                                    temperature  \\\n",
       "8 2021-04-23 04:00:00  1 °C\\n(4:00 am CEST | Friday, April 23, 2021)   \n",
       "9 2021-04-23 05:00:00  1 °C\\n(5:00 am CEST | Friday, April 23, 2021)   \n",
       "\n",
       "                                            humidity  \\\n",
       "8  average: 100% (100%)\\n(4:00 am CEST | Friday, ...   \n",
       "9  average: 100% (100%)\\n(5:00 am CEST | Friday, ...   \n",
       "\n",
       "                                       wind speed  \\\n",
       "8  0 m/s\\n(4:00 am CEST | Friday, April 23, 2021)   \n",
       "9  0 m/s\\n(5:00 am CEST | Friday, April 23, 2021)   \n",
       "\n",
       "                                Precipitation amount  \\\n",
       "8  no precipitation\\n(4:00 am CEST | Friday, Apri...   \n",
       "9  no precipitation\\n(5:00 am CEST | Friday, Apri...   \n",
       "\n",
       "                                    query  \\\n",
       "8  Moon Phase calculatorApril 23, 2021 4h   \n",
       "9  Moon Phase calculatorApril 23, 2021 5h   \n",
       "\n",
       "                       Moon Phase calculator  \n",
       "8  | waxing gibbous moon\\n78.09% illuminated  \n",
       "9  | waxing gibbous moon\\n78.48% illuminated  "
      ]
     },
     "metadata": {},
     "output_type": "display_data"
    },
    {
     "name": "stderr",
     "output_type": "stream",
     "text": [
      "\r",
      "  5%|███▉                                                                        | 131/2550 [44:23<12:16:37, 18.27s/it]"
     ]
    },
    {
     "name": "stdout",
     "output_type": "stream",
     "text": [
      "QUERY:  Precipitation amount in Zollikofen April 23, 2021 6h\n",
      "QUERY:  temperature in Zollikofen April 23, 2021 6h\n",
      "QUERY:  humidity in Zollikofen April 23, 2021 6h\n",
      "QUERY:  wind speed in Zollikofen April 23, 2021 6h\n",
      "QUERY:  Moon Phase calculatorApril 23, 2021 6h\n"
     ]
    },
    {
     "name": "stderr",
     "output_type": "stream",
     "text": [
      "\r",
      "  5%|███▉                                                                        | 132/2550 [44:41<12:06:56, 18.04s/it]"
     ]
    },
    {
     "name": "stdout",
     "output_type": "stream",
     "text": [
      "QUERY:  Precipitation amount in Zollikofen April 23, 2021 7h\n",
      "QUERY:  temperature in Zollikofen April 23, 2021 7h\n",
      "QUERY:  humidity in Zollikofen April 23, 2021 7h\n",
      "QUERY:  wind speed in Zollikofen April 23, 2021 7h\n",
      "QUERY:  Moon Phase calculatorApril 23, 2021 7h\n"
     ]
    },
    {
     "name": "stderr",
     "output_type": "stream",
     "text": [
      "\r",
      "  5%|███▉                                                                        | 133/2550 [45:00<12:24:43, 18.49s/it]"
     ]
    },
    {
     "name": "stdout",
     "output_type": "stream",
     "text": [
      "QUERY:  Precipitation amount in Zollikofen April 23, 2021 8h\n",
      "QUERY:  temperature in Zollikofen April 23, 2021 8h\n",
      "QUERY:  humidity in Zollikofen April 23, 2021 8h\n",
      "QUERY:  wind speed in Zollikofen April 23, 2021 8h\n",
      "QUERY:  Moon Phase calculatorApril 23, 2021 8h\n"
     ]
    },
    {
     "name": "stderr",
     "output_type": "stream",
     "text": [
      "\r",
      "  5%|███▉                                                                        | 134/2550 [45:19<12:26:13, 18.53s/it]"
     ]
    },
    {
     "name": "stdout",
     "output_type": "stream",
     "text": [
      "QUERY:  Precipitation amount in Zollikofen April 23, 2021 9h\n",
      "QUERY:  temperature in Zollikofen April 23, 2021 9h\n",
      "QUERY:  humidity in Zollikofen April 23, 2021 9h\n",
      "QUERY:  wind speed in Zollikofen April 23, 2021 9h\n",
      "QUERY:  Moon Phase calculatorApril 23, 2021 9h\n"
     ]
    },
    {
     "name": "stderr",
     "output_type": "stream",
     "text": [
      "\r",
      "  5%|████                                                                        | 135/2550 [45:41<13:05:30, 19.52s/it]"
     ]
    },
    {
     "name": "stdout",
     "output_type": "stream",
     "text": [
      "QUERY:  Precipitation amount in Zollikofen April 23, 2021 10h\n",
      "QUERY:  temperature in Zollikofen April 23, 2021 10h\n",
      "QUERY:  humidity in Zollikofen April 23, 2021 10h\n",
      "QUERY:  wind speed in Zollikofen April 23, 2021 10h\n",
      "QUERY:  Moon Phase calculatorApril 23, 2021 10h\n"
     ]
    },
    {
     "name": "stderr",
     "output_type": "stream",
     "text": [
      "\r",
      "  5%|████                                                                        | 136/2550 [46:04<13:55:09, 20.76s/it]"
     ]
    },
    {
     "name": "stdout",
     "output_type": "stream",
     "text": [
      "QUERY:  Precipitation amount in Zollikofen April 23, 2021 11h\n",
      "QUERY:  temperature in Zollikofen April 23, 2021 11h\n",
      "QUERY:  humidity in Zollikofen April 23, 2021 11h\n",
      "QUERY:  wind speed in Zollikofen April 23, 2021 11h\n",
      "QUERY:  Moon Phase calculatorApril 23, 2021 11h\n"
     ]
    },
    {
     "name": "stderr",
     "output_type": "stream",
     "text": [
      "\r",
      "  5%|████                                                                        | 137/2550 [46:26<14:03:48, 20.98s/it]"
     ]
    },
    {
     "name": "stdout",
     "output_type": "stream",
     "text": [
      "QUERY:  Precipitation amount in Zollikofen April 23, 2021 12h\n",
      "QUERY:  temperature in Zollikofen April 23, 2021 12h\n",
      "QUERY:  humidity in Zollikofen April 23, 2021 12h\n",
      "QUERY:  wind speed in Zollikofen April 23, 2021 12h\n",
      "QUERY:  Moon Phase calculatorApril 23, 2021 12h\n"
     ]
    },
    {
     "name": "stderr",
     "output_type": "stream",
     "text": [
      "\r",
      "  5%|████                                                                        | 138/2550 [46:48<14:19:39, 21.38s/it]"
     ]
    },
    {
     "name": "stdout",
     "output_type": "stream",
     "text": [
      "QUERY:  Precipitation amount in Zollikofen April 23, 2021 13h\n",
      "QUERY:  temperature in Zollikofen April 23, 2021 13h\n",
      "QUERY:  humidity in Zollikofen April 23, 2021 13h\n",
      "QUERY:  wind speed in Zollikofen April 23, 2021 13h\n",
      "QUERY:  Moon Phase calculatorApril 23, 2021 13h\n"
     ]
    },
    {
     "name": "stderr",
     "output_type": "stream",
     "text": [
      "\r",
      "  5%|████▏                                                                       | 139/2550 [47:10<14:21:55, 21.45s/it]"
     ]
    },
    {
     "name": "stdout",
     "output_type": "stream",
     "text": [
      "QUERY:  Precipitation amount in Zollikofen April 23, 2021 14h\n",
      "QUERY:  temperature in Zollikofen April 23, 2021 14h\n",
      "QUERY:  humidity in Zollikofen April 23, 2021 14h\n",
      "QUERY:  wind speed in Zollikofen April 23, 2021 14h\n",
      "QUERY:  Moon Phase calculatorApril 23, 2021 14h\n"
     ]
    },
    {
     "name": "stderr",
     "output_type": "stream",
     "text": [
      "\r",
      "  5%|████▏                                                                       | 140/2550 [47:32<14:36:11, 21.81s/it]"
     ]
    },
    {
     "name": "stdout",
     "output_type": "stream",
     "text": [
      "QUERY:  Precipitation amount in Zollikofen April 23, 2021 15h\n",
      "QUERY:  temperature in Zollikofen April 23, 2021 15h\n",
      "QUERY:  humidity in Zollikofen April 23, 2021 15h\n",
      "QUERY:  wind speed in Zollikofen April 23, 2021 15h\n",
      "QUERY:  Moon Phase calculatorApril 23, 2021 15h\n",
      "(4960, 7)\n"
     ]
    },
    {
     "data": {
      "text/html": [
       "<div>\n",
       "<style scoped>\n",
       "    .dataframe tbody tr th:only-of-type {\n",
       "        vertical-align: middle;\n",
       "    }\n",
       "\n",
       "    .dataframe tbody tr th {\n",
       "        vertical-align: top;\n",
       "    }\n",
       "\n",
       "    .dataframe thead th {\n",
       "        text-align: right;\n",
       "    }\n",
       "</style>\n",
       "<table border=\"1\" class=\"dataframe\">\n",
       "  <thead>\n",
       "    <tr style=\"text-align: right;\">\n",
       "      <th></th>\n",
       "      <th>date</th>\n",
       "      <th>temperature</th>\n",
       "      <th>humidity</th>\n",
       "      <th>wind speed</th>\n",
       "      <th>Precipitation amount</th>\n",
       "      <th>query</th>\n",
       "      <th>Moon Phase calculator</th>\n",
       "    </tr>\n",
       "  </thead>\n",
       "  <tbody>\n",
       "    <tr>\n",
       "      <th>8</th>\n",
       "      <td>2021-04-23 14:00:00</td>\n",
       "      <td>17 °C\\n(2:00 pm CEST | Friday, April 23, 2021)</td>\n",
       "      <td>average: 38% (37 to 39%)\\n(2:00 pm CEST | Frid...</td>\n",
       "      <td>4 m/s\\n(2:00 pm CEST | Friday, April 23, 2021)</td>\n",
       "      <td>no precipitation\\n(2:00 pm CEST | Friday, Apri...</td>\n",
       "      <td>Moon Phase calculatorApril 23, 2021 14h</td>\n",
       "      <td>| waxing gibbous moon\\n81.84% illuminated</td>\n",
       "    </tr>\n",
       "    <tr>\n",
       "      <th>9</th>\n",
       "      <td>2021-04-23 15:00:00</td>\n",
       "      <td>18 °C\\n(3:00 pm CEST | Friday, April 23, 2021)</td>\n",
       "      <td>average: 34% (34%)\\n(3:00 pm CEST | Friday, Ap...</td>\n",
       "      <td>4 m/s\\n(3:00 pm CEST | Friday, April 23, 2021)</td>\n",
       "      <td>no precipitation\\n(3:00 pm CEST | Friday, Apri...</td>\n",
       "      <td>Moon Phase calculatorApril 23, 2021 15h</td>\n",
       "      <td>| waxing gibbous moon\\n82.21% illuminated</td>\n",
       "    </tr>\n",
       "  </tbody>\n",
       "</table>\n",
       "</div>"
      ],
      "text/plain": [
       "                 date                                     temperature  \\\n",
       "8 2021-04-23 14:00:00  17 °C\\n(2:00 pm CEST | Friday, April 23, 2021)   \n",
       "9 2021-04-23 15:00:00  18 °C\\n(3:00 pm CEST | Friday, April 23, 2021)   \n",
       "\n",
       "                                            humidity  \\\n",
       "8  average: 38% (37 to 39%)\\n(2:00 pm CEST | Frid...   \n",
       "9  average: 34% (34%)\\n(3:00 pm CEST | Friday, Ap...   \n",
       "\n",
       "                                       wind speed  \\\n",
       "8  4 m/s\\n(2:00 pm CEST | Friday, April 23, 2021)   \n",
       "9  4 m/s\\n(3:00 pm CEST | Friday, April 23, 2021)   \n",
       "\n",
       "                                Precipitation amount  \\\n",
       "8  no precipitation\\n(2:00 pm CEST | Friday, Apri...   \n",
       "9  no precipitation\\n(3:00 pm CEST | Friday, Apri...   \n",
       "\n",
       "                                     query  \\\n",
       "8  Moon Phase calculatorApril 23, 2021 14h   \n",
       "9  Moon Phase calculatorApril 23, 2021 15h   \n",
       "\n",
       "                       Moon Phase calculator  \n",
       "8  | waxing gibbous moon\\n81.84% illuminated  \n",
       "9  | waxing gibbous moon\\n82.21% illuminated  "
      ]
     },
     "metadata": {},
     "output_type": "display_data"
    },
    {
     "name": "stderr",
     "output_type": "stream",
     "text": [
      "\r",
      "  6%|████▏                                                                       | 141/2550 [47:55<14:42:07, 21.97s/it]"
     ]
    },
    {
     "name": "stdout",
     "output_type": "stream",
     "text": [
      "QUERY:  Precipitation amount in Zollikofen April 23, 2021 16h\n",
      "QUERY:  temperature in Zollikofen April 23, 2021 16h\n",
      "QUERY:  humidity in Zollikofen April 23, 2021 16h\n",
      "QUERY:  wind speed in Zollikofen April 23, 2021 16h\n",
      "QUERY:  Moon Phase calculatorApril 23, 2021 16h\n"
     ]
    },
    {
     "name": "stderr",
     "output_type": "stream",
     "text": [
      "\r",
      "  6%|████▏                                                                       | 142/2550 [48:17<14:41:47, 21.97s/it]"
     ]
    },
    {
     "name": "stdout",
     "output_type": "stream",
     "text": [
      "QUERY:  Precipitation amount in Zollikofen April 23, 2021 17h\n",
      "QUERY:  temperature in Zollikofen April 23, 2021 17h\n",
      "QUERY:  humidity in Zollikofen April 23, 2021 17h\n",
      "QUERY:  wind speed in Zollikofen April 23, 2021 17h\n",
      "QUERY:  Moon Phase calculatorApril 23, 2021 17h\n"
     ]
    },
    {
     "name": "stderr",
     "output_type": "stream",
     "text": [
      "\r",
      "  6%|████▎                                                                       | 143/2550 [48:39<14:44:51, 22.06s/it]"
     ]
    },
    {
     "name": "stdout",
     "output_type": "stream",
     "text": [
      "QUERY:  Precipitation amount in Zollikofen April 23, 2021 18h\n",
      "QUERY:  temperature in Zollikofen April 23, 2021 18h\n",
      "QUERY:  humidity in Zollikofen April 23, 2021 18h\n",
      "QUERY:  wind speed in Zollikofen April 23, 2021 18h\n",
      "QUERY:  Moon Phase calculatorApril 23, 2021 18h\n"
     ]
    },
    {
     "name": "stderr",
     "output_type": "stream",
     "text": [
      "\r",
      "  6%|████▎                                                                       | 144/2550 [49:03<15:05:45, 22.59s/it]"
     ]
    },
    {
     "name": "stdout",
     "output_type": "stream",
     "text": [
      "QUERY:  Precipitation amount in Zollikofen April 23, 2021 19h\n",
      "QUERY:  temperature in Zollikofen April 23, 2021 19h\n",
      "QUERY:  humidity in Zollikofen April 23, 2021 19h\n",
      "QUERY:  wind speed in Zollikofen April 23, 2021 19h\n",
      "QUERY:  Moon Phase calculatorApril 23, 2021 19h\n"
     ]
    },
    {
     "name": "stderr",
     "output_type": "stream",
     "text": [
      "\r",
      "  6%|████▎                                                                       | 145/2550 [49:25<14:56:33, 22.37s/it]"
     ]
    },
    {
     "name": "stdout",
     "output_type": "stream",
     "text": [
      "QUERY:  Precipitation amount in Zollikofen April 23, 2021 20h\n",
      "QUERY:  temperature in Zollikofen April 23, 2021 20h\n",
      "QUERY:  humidity in Zollikofen April 23, 2021 20h\n",
      "QUERY:  wind speed in Zollikofen April 23, 2021 20h\n",
      "QUERY:  Moon Phase calculatorApril 23, 2021 20h\n"
     ]
    },
    {
     "name": "stderr",
     "output_type": "stream",
     "text": [
      "\r",
      "  6%|████▎                                                                       | 146/2550 [49:45<14:35:24, 21.85s/it]"
     ]
    },
    {
     "name": "stdout",
     "output_type": "stream",
     "text": [
      "QUERY:  Precipitation amount in Zollikofen April 23, 2021 21h\n",
      "QUERY:  temperature in Zollikofen April 23, 2021 21h\n",
      "QUERY:  humidity in Zollikofen April 23, 2021 21h\n",
      "QUERY:  wind speed in Zollikofen April 23, 2021 21h\n",
      "QUERY:  Moon Phase calculatorApril 23, 2021 21h\n"
     ]
    },
    {
     "name": "stderr",
     "output_type": "stream",
     "text": [
      "\r",
      "  6%|████▍                                                                       | 147/2550 [50:07<14:33:00, 21.80s/it]"
     ]
    },
    {
     "name": "stdout",
     "output_type": "stream",
     "text": [
      "QUERY:  Precipitation amount in Zollikofen April 23, 2021 22h\n",
      "QUERY:  temperature in Zollikofen April 23, 2021 22h\n",
      "QUERY:  humidity in Zollikofen April 23, 2021 22h\n",
      "QUERY:  wind speed in Zollikofen April 23, 2021 22h\n",
      "QUERY:  Moon Phase calculatorApril 23, 2021 22h\n"
     ]
    },
    {
     "name": "stderr",
     "output_type": "stream",
     "text": [
      "\r",
      "  6%|████▍                                                                       | 148/2550 [50:29<14:33:10, 21.81s/it]"
     ]
    },
    {
     "name": "stdout",
     "output_type": "stream",
     "text": [
      "QUERY:  Precipitation amount in Zollikofen April 23, 2021 23h\n",
      "QUERY:  temperature in Zollikofen April 23, 2021 23h\n",
      "QUERY:  humidity in Zollikofen April 23, 2021 23h\n",
      "QUERY:  wind speed in Zollikofen April 23, 2021 23h\n",
      "QUERY:  Moon Phase calculatorApril 23, 2021 23h\n"
     ]
    },
    {
     "name": "stderr",
     "output_type": "stream",
     "text": [
      "\r",
      "  6%|████▍                                                                       | 149/2550 [50:47<13:48:35, 20.71s/it]"
     ]
    },
    {
     "name": "stdout",
     "output_type": "stream",
     "text": [
      "QUERY:  Precipitation amount in Zollikofen April 24, 2021 0h\n",
      "QUERY:  temperature in Zollikofen April 24, 2021 0h\n",
      "QUERY:  humidity in Zollikofen April 24, 2021 0h\n",
      "QUERY:  wind speed in Zollikofen April 24, 2021 0h\n",
      "QUERY:  Moon Phase calculatorApril 24, 2021 0h\n"
     ]
    },
    {
     "name": "stderr",
     "output_type": "stream",
     "text": [
      "\r",
      "  6%|████▍                                                                       | 150/2550 [51:05<13:13:35, 19.84s/it]"
     ]
    },
    {
     "name": "stdout",
     "output_type": "stream",
     "text": [
      "QUERY:  Precipitation amount in Zollikofen April 24, 2021 1h\n",
      "QUERY:  temperature in Zollikofen April 24, 2021 1h\n",
      "QUERY:  humidity in Zollikofen April 24, 2021 1h\n",
      "QUERY:  wind speed in Zollikofen April 24, 2021 1h\n",
      "QUERY:  Moon Phase calculatorApril 24, 2021 1h\n",
      "(4970, 7)\n"
     ]
    },
    {
     "data": {
      "text/html": [
       "<div>\n",
       "<style scoped>\n",
       "    .dataframe tbody tr th:only-of-type {\n",
       "        vertical-align: middle;\n",
       "    }\n",
       "\n",
       "    .dataframe tbody tr th {\n",
       "        vertical-align: top;\n",
       "    }\n",
       "\n",
       "    .dataframe thead th {\n",
       "        text-align: right;\n",
       "    }\n",
       "</style>\n",
       "<table border=\"1\" class=\"dataframe\">\n",
       "  <thead>\n",
       "    <tr style=\"text-align: right;\">\n",
       "      <th></th>\n",
       "      <th>date</th>\n",
       "      <th>temperature</th>\n",
       "      <th>humidity</th>\n",
       "      <th>wind speed</th>\n",
       "      <th>Precipitation amount</th>\n",
       "      <th>query</th>\n",
       "      <th>Moon Phase calculator</th>\n",
       "    </tr>\n",
       "  </thead>\n",
       "  <tbody>\n",
       "    <tr>\n",
       "      <th>8</th>\n",
       "      <td>2021-04-24 00:00:00</td>\n",
       "      <td>4 °C\\n(12:00 am CEST | Saturday, April 24, 2021)</td>\n",
       "      <td>average: 75% (70 to 81%)\\n(12:00 am CEST | Sat...</td>\n",
       "      <td>1 m/s\\n(12:00 am CEST | Saturday, April 24, 2021)</td>\n",
       "      <td>no precipitation\\n(12:00 am CEST | Saturday, A...</td>\n",
       "      <td>Moon Phase calculatorApril 24, 2021 0h</td>\n",
       "      <td>| waxing gibbous moon\\n85.36% illuminated</td>\n",
       "    </tr>\n",
       "    <tr>\n",
       "      <th>9</th>\n",
       "      <td>2021-04-24 01:00:00</td>\n",
       "      <td>3 °C\\n(1:00 am CEST | Saturday, April 24, 2021)</td>\n",
       "      <td>average: 81% (81%)\\n(1:00 am CEST | Saturday, ...</td>\n",
       "      <td>1 m/s\\n(1:00 am CEST | Saturday, April 24, 2021)</td>\n",
       "      <td>no precipitation\\n(1:00 am CEST | Saturday, Ap...</td>\n",
       "      <td>Moon Phase calculatorApril 24, 2021 1h</td>\n",
       "      <td>| waxing gibbous moon\\n85.70% illuminated</td>\n",
       "    </tr>\n",
       "  </tbody>\n",
       "</table>\n",
       "</div>"
      ],
      "text/plain": [
       "                 date                                       temperature  \\\n",
       "8 2021-04-24 00:00:00  4 °C\\n(12:00 am CEST | Saturday, April 24, 2021)   \n",
       "9 2021-04-24 01:00:00   3 °C\\n(1:00 am CEST | Saturday, April 24, 2021)   \n",
       "\n",
       "                                            humidity  \\\n",
       "8  average: 75% (70 to 81%)\\n(12:00 am CEST | Sat...   \n",
       "9  average: 81% (81%)\\n(1:00 am CEST | Saturday, ...   \n",
       "\n",
       "                                          wind speed  \\\n",
       "8  1 m/s\\n(12:00 am CEST | Saturday, April 24, 2021)   \n",
       "9   1 m/s\\n(1:00 am CEST | Saturday, April 24, 2021)   \n",
       "\n",
       "                                Precipitation amount  \\\n",
       "8  no precipitation\\n(12:00 am CEST | Saturday, A...   \n",
       "9  no precipitation\\n(1:00 am CEST | Saturday, Ap...   \n",
       "\n",
       "                                    query  \\\n",
       "8  Moon Phase calculatorApril 24, 2021 0h   \n",
       "9  Moon Phase calculatorApril 24, 2021 1h   \n",
       "\n",
       "                       Moon Phase calculator  \n",
       "8  | waxing gibbous moon\\n85.36% illuminated  \n",
       "9  | waxing gibbous moon\\n85.70% illuminated  "
      ]
     },
     "metadata": {},
     "output_type": "display_data"
    },
    {
     "name": "stderr",
     "output_type": "stream",
     "text": [
      "\r",
      "  6%|████▌                                                                       | 151/2550 [51:24<13:01:35, 19.55s/it]"
     ]
    },
    {
     "name": "stdout",
     "output_type": "stream",
     "text": [
      "QUERY:  Precipitation amount in Zollikofen April 24, 2021 2h\n",
      "QUERY:  temperature in Zollikofen April 24, 2021 2h\n",
      "QUERY:  humidity in Zollikofen April 24, 2021 2h\n",
      "QUERY:  wind speed in Zollikofen April 24, 2021 2h\n",
      "QUERY:  Moon Phase calculatorApril 24, 2021 2h\n"
     ]
    },
    {
     "name": "stderr",
     "output_type": "stream",
     "text": [
      "\r",
      "  6%|████▌                                                                       | 152/2550 [51:42<12:49:17, 19.25s/it]"
     ]
    },
    {
     "name": "stdout",
     "output_type": "stream",
     "text": [
      "QUERY:  Precipitation amount in Zollikofen April 24, 2021 3h\n",
      "QUERY:  temperature in Zollikofen April 24, 2021 3h\n",
      "QUERY:  humidity in Zollikofen April 24, 2021 3h\n",
      "QUERY:  wind speed in Zollikofen April 24, 2021 3h\n",
      "QUERY:  Moon Phase calculatorApril 24, 2021 3h\n"
     ]
    },
    {
     "name": "stderr",
     "output_type": "stream",
     "text": [
      "\r",
      "  6%|████▌                                                                       | 153/2550 [51:59<12:19:49, 18.52s/it]"
     ]
    },
    {
     "name": "stdout",
     "output_type": "stream",
     "text": [
      "QUERY:  Precipitation amount in Zollikofen April 24, 2021 4h\n",
      "QUERY:  temperature in Zollikofen April 24, 2021 4h\n",
      "QUERY:  humidity in Zollikofen April 24, 2021 4h\n",
      "QUERY:  wind speed in Zollikofen April 24, 2021 4h\n",
      "QUERY:  Moon Phase calculatorApril 24, 2021 4h\n"
     ]
    },
    {
     "name": "stderr",
     "output_type": "stream",
     "text": [
      "\r",
      "  6%|████▌                                                                       | 154/2550 [52:16<12:05:27, 18.17s/it]"
     ]
    },
    {
     "name": "stdout",
     "output_type": "stream",
     "text": [
      "QUERY:  Precipitation amount in Zollikofen April 24, 2021 5h\n",
      "QUERY:  temperature in Zollikofen April 24, 2021 5h\n",
      "QUERY:  humidity in Zollikofen April 24, 2021 5h\n",
      "QUERY:  wind speed in Zollikofen April 24, 2021 5h\n",
      "QUERY:  Moon Phase calculatorApril 24, 2021 5h\n"
     ]
    },
    {
     "name": "stderr",
     "output_type": "stream",
     "text": [
      "\r",
      "  6%|████▌                                                                       | 155/2550 [52:33<11:51:10, 17.82s/it]"
     ]
    },
    {
     "name": "stdout",
     "output_type": "stream",
     "text": [
      "QUERY:  Precipitation amount in Zollikofen April 24, 2021 6h\n",
      "QUERY:  temperature in Zollikofen April 24, 2021 6h\n",
      "QUERY:  humidity in Zollikofen April 24, 2021 6h\n",
      "QUERY:  wind speed in Zollikofen April 24, 2021 6h\n",
      "QUERY:  Moon Phase calculatorApril 24, 2021 6h\n"
     ]
    },
    {
     "name": "stderr",
     "output_type": "stream",
     "text": [
      "\r",
      "  6%|████▋                                                                       | 156/2550 [52:50<11:42:19, 17.60s/it]"
     ]
    },
    {
     "name": "stdout",
     "output_type": "stream",
     "text": [
      "QUERY:  Precipitation amount in Zollikofen April 24, 2021 7h\n",
      "QUERY:  temperature in Zollikofen April 24, 2021 7h\n",
      "QUERY:  humidity in Zollikofen April 24, 2021 7h\n",
      "QUERY:  wind speed in Zollikofen April 24, 2021 7h\n",
      "QUERY:  Moon Phase calculatorApril 24, 2021 7h\n"
     ]
    },
    {
     "name": "stderr",
     "output_type": "stream",
     "text": [
      "\r",
      "  6%|████▋                                                                       | 157/2550 [53:09<11:59:19, 18.04s/it]"
     ]
    },
    {
     "name": "stdout",
     "output_type": "stream",
     "text": [
      "QUERY:  Precipitation amount in Zollikofen April 24, 2021 8h\n",
      "QUERY:  temperature in Zollikofen April 24, 2021 8h\n",
      "QUERY:  humidity in Zollikofen April 24, 2021 8h\n",
      "QUERY:  wind speed in Zollikofen April 24, 2021 8h\n",
      "QUERY:  Moon Phase calculatorApril 24, 2021 8h\n"
     ]
    },
    {
     "name": "stderr",
     "output_type": "stream",
     "text": [
      "\r",
      "  6%|████▋                                                                       | 158/2550 [53:27<11:50:59, 17.83s/it]"
     ]
    },
    {
     "name": "stdout",
     "output_type": "stream",
     "text": [
      "QUERY:  Precipitation amount in Zollikofen April 24, 2021 9h\n",
      "QUERY:  temperature in Zollikofen April 24, 2021 9h\n",
      "QUERY:  humidity in Zollikofen April 24, 2021 9h\n",
      "QUERY:  wind speed in Zollikofen April 24, 2021 9h\n",
      "QUERY:  Moon Phase calculatorApril 24, 2021 9h\n"
     ]
    },
    {
     "name": "stderr",
     "output_type": "stream",
     "text": [
      "\r",
      "  6%|████▋                                                                       | 159/2550 [53:47<12:21:36, 18.61s/it]"
     ]
    },
    {
     "name": "stdout",
     "output_type": "stream",
     "text": [
      "QUERY:  Precipitation amount in Zollikofen April 24, 2021 10h\n",
      "QUERY:  temperature in Zollikofen April 24, 2021 10h\n",
      "QUERY:  humidity in Zollikofen April 24, 2021 10h\n",
      "QUERY:  wind speed in Zollikofen April 24, 2021 10h\n",
      "QUERY:  Moon Phase calculatorApril 24, 2021 10h\n"
     ]
    },
    {
     "name": "stderr",
     "output_type": "stream",
     "text": [
      "\r",
      "  6%|████▊                                                                       | 160/2550 [54:05<12:15:31, 18.47s/it]"
     ]
    },
    {
     "name": "stdout",
     "output_type": "stream",
     "text": [
      "QUERY:  Precipitation amount in Zollikofen April 24, 2021 11h\n",
      "QUERY:  temperature in Zollikofen April 24, 2021 11h\n",
      "QUERY:  humidity in Zollikofen April 24, 2021 11h\n",
      "QUERY:  wind speed in Zollikofen April 24, 2021 11h\n",
      "QUERY:  Moon Phase calculatorApril 24, 2021 11h\n",
      "(4980, 7)\n"
     ]
    },
    {
     "data": {
      "text/html": [
       "<div>\n",
       "<style scoped>\n",
       "    .dataframe tbody tr th:only-of-type {\n",
       "        vertical-align: middle;\n",
       "    }\n",
       "\n",
       "    .dataframe tbody tr th {\n",
       "        vertical-align: top;\n",
       "    }\n",
       "\n",
       "    .dataframe thead th {\n",
       "        text-align: right;\n",
       "    }\n",
       "</style>\n",
       "<table border=\"1\" class=\"dataframe\">\n",
       "  <thead>\n",
       "    <tr style=\"text-align: right;\">\n",
       "      <th></th>\n",
       "      <th>date</th>\n",
       "      <th>temperature</th>\n",
       "      <th>humidity</th>\n",
       "      <th>wind speed</th>\n",
       "      <th>Precipitation amount</th>\n",
       "      <th>query</th>\n",
       "      <th>Moon Phase calculator</th>\n",
       "    </tr>\n",
       "  </thead>\n",
       "  <tbody>\n",
       "    <tr>\n",
       "      <th>8</th>\n",
       "      <td>2021-04-24 10:00:00</td>\n",
       "      <td>13 °C\\n(10:00 am CEST | Saturday, April 24, 2021)</td>\n",
       "      <td>average: 53% (51 to 54%)\\n(10:00 am CEST | Sat...</td>\n",
       "      <td>1 m/s\\n(10:00 am CEST | Saturday, April 24, 2021)</td>\n",
       "      <td>no precipitation\\n(10:00 am CEST | Saturday, A...</td>\n",
       "      <td>Moon Phase calculatorApril 24, 2021 10h</td>\n",
       "      <td>| waxing gibbous moon\\n88.61% illuminated</td>\n",
       "    </tr>\n",
       "    <tr>\n",
       "      <th>9</th>\n",
       "      <td>2021-04-24 11:00:00</td>\n",
       "      <td>15 °C\\n(11:00 am CEST | Saturday, April 24, 2021)</td>\n",
       "      <td>average: 43% (42 to 44%)\\n(11:00 am CEST | Sat...</td>\n",
       "      <td>2 m/s\\n(11:00 am CEST | Saturday, April 24, 2021)</td>\n",
       "      <td>no precipitation\\n(11:00 am CEST | Saturday, A...</td>\n",
       "      <td>Moon Phase calculatorApril 24, 2021 11h</td>\n",
       "      <td>| waxing gibbous moon\\n88.92% illuminated</td>\n",
       "    </tr>\n",
       "  </tbody>\n",
       "</table>\n",
       "</div>"
      ],
      "text/plain": [
       "                 date                                        temperature  \\\n",
       "8 2021-04-24 10:00:00  13 °C\\n(10:00 am CEST | Saturday, April 24, 2021)   \n",
       "9 2021-04-24 11:00:00  15 °C\\n(11:00 am CEST | Saturday, April 24, 2021)   \n",
       "\n",
       "                                            humidity  \\\n",
       "8  average: 53% (51 to 54%)\\n(10:00 am CEST | Sat...   \n",
       "9  average: 43% (42 to 44%)\\n(11:00 am CEST | Sat...   \n",
       "\n",
       "                                          wind speed  \\\n",
       "8  1 m/s\\n(10:00 am CEST | Saturday, April 24, 2021)   \n",
       "9  2 m/s\\n(11:00 am CEST | Saturday, April 24, 2021)   \n",
       "\n",
       "                                Precipitation amount  \\\n",
       "8  no precipitation\\n(10:00 am CEST | Saturday, A...   \n",
       "9  no precipitation\\n(11:00 am CEST | Saturday, A...   \n",
       "\n",
       "                                     query  \\\n",
       "8  Moon Phase calculatorApril 24, 2021 10h   \n",
       "9  Moon Phase calculatorApril 24, 2021 11h   \n",
       "\n",
       "                       Moon Phase calculator  \n",
       "8  | waxing gibbous moon\\n88.61% illuminated  \n",
       "9  | waxing gibbous moon\\n88.92% illuminated  "
      ]
     },
     "metadata": {},
     "output_type": "display_data"
    },
    {
     "name": "stderr",
     "output_type": "stream",
     "text": [
      "\r",
      "  6%|████▊                                                                       | 161/2550 [54:25<12:27:56, 18.78s/it]"
     ]
    },
    {
     "name": "stdout",
     "output_type": "stream",
     "text": [
      "QUERY:  Precipitation amount in Zollikofen April 24, 2021 12h\n",
      "QUERY:  temperature in Zollikofen April 24, 2021 12h\n",
      "QUERY:  humidity in Zollikofen April 24, 2021 12h\n",
      "QUERY:  wind speed in Zollikofen April 24, 2021 12h\n",
      "QUERY:  Moon Phase calculatorApril 24, 2021 12h\n"
     ]
    },
    {
     "name": "stderr",
     "output_type": "stream",
     "text": [
      "\r",
      "  6%|████▊                                                                       | 162/2550 [54:44<12:35:58, 18.99s/it]"
     ]
    },
    {
     "name": "stdout",
     "output_type": "stream",
     "text": [
      "QUERY:  Precipitation amount in Zollikofen April 24, 2021 13h\n",
      "QUERY:  temperature in Zollikofen April 24, 2021 13h\n",
      "QUERY:  humidity in Zollikofen April 24, 2021 13h\n",
      "QUERY:  wind speed in Zollikofen April 24, 2021 13h\n",
      "QUERY:  Moon Phase calculatorApril 24, 2021 13h\n"
     ]
    },
    {
     "name": "stderr",
     "output_type": "stream",
     "text": [
      "\r",
      "  6%|████▊                                                                       | 163/2550 [55:01<12:10:35, 18.36s/it]"
     ]
    },
    {
     "name": "stdout",
     "output_type": "stream",
     "text": [
      "QUERY:  Precipitation amount in Zollikofen April 24, 2021 14h\n",
      "QUERY:  temperature in Zollikofen April 24, 2021 14h\n",
      "QUERY:  humidity in Zollikofen April 24, 2021 14h\n",
      "QUERY:  wind speed in Zollikofen April 24, 2021 14h\n",
      "QUERY:  Moon Phase calculatorApril 24, 2021 14h\n"
     ]
    },
    {
     "name": "stderr",
     "output_type": "stream",
     "text": [
      "\r",
      "  6%|████▉                                                                       | 164/2550 [55:21<12:25:56, 18.76s/it]"
     ]
    },
    {
     "name": "stdout",
     "output_type": "stream",
     "text": [
      "QUERY:  Precipitation amount in Zollikofen April 24, 2021 15h\n",
      "QUERY:  temperature in Zollikofen April 24, 2021 15h\n",
      "QUERY:  humidity in Zollikofen April 24, 2021 15h\n",
      "QUERY:  wind speed in Zollikofen April 24, 2021 15h\n",
      "QUERY:  Moon Phase calculatorApril 24, 2021 15h\n"
     ]
    },
    {
     "name": "stderr",
     "output_type": "stream",
     "text": [
      "\r",
      "  6%|████▉                                                                       | 165/2550 [55:42<12:52:00, 19.42s/it]"
     ]
    },
    {
     "name": "stdout",
     "output_type": "stream",
     "text": [
      "QUERY:  Precipitation amount in Zollikofen April 24, 2021 16h\n",
      "QUERY:  temperature in Zollikofen April 24, 2021 16h\n",
      "QUERY:  humidity in Zollikofen April 24, 2021 16h\n",
      "QUERY:  wind speed in Zollikofen April 24, 2021 16h\n",
      "QUERY:  Moon Phase calculatorApril 24, 2021 16h\n"
     ]
    },
    {
     "name": "stderr",
     "output_type": "stream",
     "text": [
      "\r",
      "  7%|████▉                                                                       | 166/2550 [56:03<13:15:24, 20.02s/it]"
     ]
    },
    {
     "name": "stdout",
     "output_type": "stream",
     "text": [
      "QUERY:  Precipitation amount in Zollikofen April 24, 2021 17h\n",
      "QUERY:  temperature in Zollikofen April 24, 2021 17h\n",
      "QUERY:  humidity in Zollikofen April 24, 2021 17h\n",
      "QUERY:  wind speed in Zollikofen April 24, 2021 17h\n",
      "QUERY:  Moon Phase calculatorApril 24, 2021 17h\n"
     ]
    },
    {
     "name": "stderr",
     "output_type": "stream",
     "text": [
      "\r",
      "  7%|████▉                                                                       | 167/2550 [56:24<13:21:47, 20.19s/it]"
     ]
    },
    {
     "name": "stdout",
     "output_type": "stream",
     "text": [
      "QUERY:  Precipitation amount in Zollikofen April 24, 2021 18h\n",
      "QUERY:  temperature in Zollikofen April 24, 2021 18h\n",
      "QUERY:  humidity in Zollikofen April 24, 2021 18h\n",
      "QUERY:  wind speed in Zollikofen April 24, 2021 18h\n",
      "QUERY:  Moon Phase calculatorApril 24, 2021 18h\n"
     ]
    },
    {
     "name": "stderr",
     "output_type": "stream",
     "text": [
      "\r",
      "  7%|█████                                                                       | 168/2550 [56:46<13:40:45, 20.67s/it]"
     ]
    },
    {
     "name": "stdout",
     "output_type": "stream",
     "text": [
      "QUERY:  Precipitation amount in Zollikofen April 24, 2021 19h\n",
      "QUERY:  temperature in Zollikofen April 24, 2021 19h\n",
      "QUERY:  humidity in Zollikofen April 24, 2021 19h\n",
      "QUERY:  wind speed in Zollikofen April 24, 2021 19h\n",
      "QUERY:  Moon Phase calculatorApril 24, 2021 19h\n"
     ]
    },
    {
     "name": "stderr",
     "output_type": "stream",
     "text": [
      "\r",
      "  7%|█████                                                                       | 169/2550 [57:07<13:46:49, 20.84s/it]"
     ]
    },
    {
     "name": "stdout",
     "output_type": "stream",
     "text": [
      "QUERY:  Precipitation amount in Zollikofen April 24, 2021 20h\n",
      "QUERY:  temperature in Zollikofen April 24, 2021 20h\n",
      "QUERY:  humidity in Zollikofen April 24, 2021 20h\n",
      "QUERY:  wind speed in Zollikofen April 24, 2021 20h\n",
      "QUERY:  Moon Phase calculatorApril 24, 2021 20h\n"
     ]
    },
    {
     "name": "stderr",
     "output_type": "stream",
     "text": [
      "\r",
      "  7%|█████                                                                       | 170/2550 [57:28<13:46:58, 20.85s/it]"
     ]
    },
    {
     "name": "stdout",
     "output_type": "stream",
     "text": [
      "QUERY:  Precipitation amount in Zollikofen April 24, 2021 21h\n",
      "QUERY:  temperature in Zollikofen April 24, 2021 21h\n",
      "QUERY:  humidity in Zollikofen April 24, 2021 21h\n",
      "QUERY:  wind speed in Zollikofen April 24, 2021 21h\n",
      "QUERY:  Moon Phase calculatorApril 24, 2021 21h\n",
      "(4990, 7)\n"
     ]
    },
    {
     "data": {
      "text/html": [
       "<div>\n",
       "<style scoped>\n",
       "    .dataframe tbody tr th:only-of-type {\n",
       "        vertical-align: middle;\n",
       "    }\n",
       "\n",
       "    .dataframe tbody tr th {\n",
       "        vertical-align: top;\n",
       "    }\n",
       "\n",
       "    .dataframe thead th {\n",
       "        text-align: right;\n",
       "    }\n",
       "</style>\n",
       "<table border=\"1\" class=\"dataframe\">\n",
       "  <thead>\n",
       "    <tr style=\"text-align: right;\">\n",
       "      <th></th>\n",
       "      <th>date</th>\n",
       "      <th>temperature</th>\n",
       "      <th>humidity</th>\n",
       "      <th>wind speed</th>\n",
       "      <th>Precipitation amount</th>\n",
       "      <th>query</th>\n",
       "      <th>Moon Phase calculator</th>\n",
       "    </tr>\n",
       "  </thead>\n",
       "  <tbody>\n",
       "    <tr>\n",
       "      <th>8</th>\n",
       "      <td>2021-04-24 20:00:00</td>\n",
       "      <td>16 °C\\n(8:00 pm CEST | Saturday, April 24, 2021)</td>\n",
       "      <td>average: 49% (39 to 59%)\\n(8:00 pm CEST | Satu...</td>\n",
       "      <td>2 m/s\\n(8:00 pm CEST | Saturday, April 24, 2021)</td>\n",
       "      <td>no precipitation\\n(8:00 pm CEST | Saturday, Ap...</td>\n",
       "      <td>Moon Phase calculatorApril 24, 2021 20h</td>\n",
       "      <td>| waxing gibbous moon\\n91.53% illuminated</td>\n",
       "    </tr>\n",
       "    <tr>\n",
       "      <th>9</th>\n",
       "      <td>2021-04-24 21:00:00</td>\n",
       "      <td>11 °C\\n(9:00 pm CEST | Saturday, April 24, 2021)</td>\n",
       "      <td>average: 71% (66 to 76%)\\n(9:00 pm CEST | Satu...</td>\n",
       "      <td>1 m/s\\n(9:00 pm CEST | Saturday, April 24, 2021)</td>\n",
       "      <td>no precipitation\\n(9:00 pm CEST | Saturday, Ap...</td>\n",
       "      <td>Moon Phase calculatorApril 24, 2021 21h</td>\n",
       "      <td>| waxing gibbous moon\\n91.80% illuminated</td>\n",
       "    </tr>\n",
       "  </tbody>\n",
       "</table>\n",
       "</div>"
      ],
      "text/plain": [
       "                 date                                       temperature  \\\n",
       "8 2021-04-24 20:00:00  16 °C\\n(8:00 pm CEST | Saturday, April 24, 2021)   \n",
       "9 2021-04-24 21:00:00  11 °C\\n(9:00 pm CEST | Saturday, April 24, 2021)   \n",
       "\n",
       "                                            humidity  \\\n",
       "8  average: 49% (39 to 59%)\\n(8:00 pm CEST | Satu...   \n",
       "9  average: 71% (66 to 76%)\\n(9:00 pm CEST | Satu...   \n",
       "\n",
       "                                         wind speed  \\\n",
       "8  2 m/s\\n(8:00 pm CEST | Saturday, April 24, 2021)   \n",
       "9  1 m/s\\n(9:00 pm CEST | Saturday, April 24, 2021)   \n",
       "\n",
       "                                Precipitation amount  \\\n",
       "8  no precipitation\\n(8:00 pm CEST | Saturday, Ap...   \n",
       "9  no precipitation\\n(9:00 pm CEST | Saturday, Ap...   \n",
       "\n",
       "                                     query  \\\n",
       "8  Moon Phase calculatorApril 24, 2021 20h   \n",
       "9  Moon Phase calculatorApril 24, 2021 21h   \n",
       "\n",
       "                       Moon Phase calculator  \n",
       "8  | waxing gibbous moon\\n91.53% illuminated  \n",
       "9  | waxing gibbous moon\\n91.80% illuminated  "
      ]
     },
     "metadata": {},
     "output_type": "display_data"
    },
    {
     "name": "stderr",
     "output_type": "stream",
     "text": [
      "\r",
      "  7%|█████                                                                       | 171/2550 [57:50<14:03:22, 21.27s/it]"
     ]
    },
    {
     "name": "stdout",
     "output_type": "stream",
     "text": [
      "QUERY:  Precipitation amount in Zollikofen April 24, 2021 22h\n",
      "QUERY:  temperature in Zollikofen April 24, 2021 22h\n",
      "QUERY:  humidity in Zollikofen April 24, 2021 22h\n",
      "QUERY:  wind speed in Zollikofen April 24, 2021 22h\n",
      "QUERY:  Moon Phase calculatorApril 24, 2021 22h\n"
     ]
    },
    {
     "name": "stderr",
     "output_type": "stream",
     "text": [
      "\r",
      "  7%|█████▏                                                                      | 172/2550 [58:13<14:18:45, 21.67s/it]"
     ]
    },
    {
     "name": "stdout",
     "output_type": "stream",
     "text": [
      "QUERY:  Precipitation amount in Zollikofen April 24, 2021 23h\n",
      "QUERY:  temperature in Zollikofen April 24, 2021 23h\n",
      "QUERY:  humidity in Zollikofen April 24, 2021 23h\n",
      "QUERY:  wind speed in Zollikofen April 24, 2021 23h\n",
      "QUERY:  Moon Phase calculatorApril 24, 2021 23h\n"
     ]
    },
    {
     "name": "stderr",
     "output_type": "stream",
     "text": [
      "\r",
      "  7%|█████▏                                                                      | 173/2550 [58:35<14:31:06, 21.99s/it]"
     ]
    },
    {
     "name": "stdout",
     "output_type": "stream",
     "text": [
      "QUERY:  Precipitation amount in Zollikofen April 25, 2021 0h\n",
      "QUERY:  temperature in Zollikofen April 25, 2021 0h\n",
      "QUERY:  humidity in Zollikofen April 25, 2021 0h\n",
      "QUERY:  wind speed in Zollikofen April 25, 2021 0h\n",
      "QUERY:  Moon Phase calculatorApril 25, 2021 0h\n"
     ]
    },
    {
     "name": "stderr",
     "output_type": "stream",
     "text": [
      "\r",
      "  7%|█████▏                                                                      | 174/2550 [58:58<14:35:53, 22.12s/it]"
     ]
    },
    {
     "name": "stdout",
     "output_type": "stream",
     "text": [
      "QUERY:  Precipitation amount in Zollikofen April 25, 2021 1h\n",
      "QUERY:  temperature in Zollikofen April 25, 2021 1h\n",
      "QUERY:  humidity in Zollikofen April 25, 2021 1h\n",
      "QUERY:  wind speed in Zollikofen April 25, 2021 1h\n",
      "QUERY:  Moon Phase calculatorApril 25, 2021 1h\n"
     ]
    },
    {
     "name": "stderr",
     "output_type": "stream",
     "text": [
      "\r",
      "  7%|█████▏                                                                      | 175/2550 [59:19<14:25:48, 21.87s/it]"
     ]
    },
    {
     "name": "stdout",
     "output_type": "stream",
     "text": [
      "QUERY:  Precipitation amount in Zollikofen April 25, 2021 2h\n",
      "QUERY:  temperature in Zollikofen April 25, 2021 2h\n",
      "QUERY:  humidity in Zollikofen April 25, 2021 2h\n",
      "QUERY:  wind speed in Zollikofen April 25, 2021 2h\n",
      "QUERY:  Moon Phase calculatorApril 25, 2021 2h\n"
     ]
    },
    {
     "name": "stderr",
     "output_type": "stream",
     "text": [
      "\r",
      "  7%|█████▏                                                                      | 176/2550 [59:41<14:30:48, 22.01s/it]"
     ]
    },
    {
     "name": "stdout",
     "output_type": "stream",
     "text": [
      "QUERY:  Precipitation amount in Zollikofen April 25, 2021 3h\n",
      "QUERY:  temperature in Zollikofen April 25, 2021 3h\n",
      "QUERY:  humidity in Zollikofen April 25, 2021 3h\n",
      "QUERY:  wind speed in Zollikofen April 25, 2021 3h\n",
      "QUERY:  Moon Phase calculatorApril 25, 2021 3h\n"
     ]
    },
    {
     "name": "stderr",
     "output_type": "stream",
     "text": [
      "\r",
      "  7%|█████▏                                                                    | 177/2550 [1:00:03<14:24:29, 21.86s/it]"
     ]
    },
    {
     "name": "stdout",
     "output_type": "stream",
     "text": [
      "QUERY:  Precipitation amount in Zollikofen April 25, 2021 4h\n",
      "QUERY:  temperature in Zollikofen April 25, 2021 4h\n",
      "QUERY:  humidity in Zollikofen April 25, 2021 4h\n",
      "QUERY:  wind speed in Zollikofen April 25, 2021 4h\n",
      "QUERY:  Moon Phase calculatorApril 25, 2021 4h\n"
     ]
    },
    {
     "name": "stderr",
     "output_type": "stream",
     "text": [
      "\r",
      "  7%|█████▏                                                                    | 178/2550 [1:00:24<14:11:23, 21.54s/it]"
     ]
    },
    {
     "name": "stdout",
     "output_type": "stream",
     "text": [
      "QUERY:  Precipitation amount in Zollikofen April 25, 2021 5h\n",
      "QUERY:  temperature in Zollikofen April 25, 2021 5h\n",
      "QUERY:  humidity in Zollikofen April 25, 2021 5h\n",
      "QUERY:  wind speed in Zollikofen April 25, 2021 5h\n",
      "QUERY:  Moon Phase calculatorApril 25, 2021 5h\n"
     ]
    },
    {
     "name": "stderr",
     "output_type": "stream",
     "text": [
      "\r",
      "  7%|█████▏                                                                    | 179/2550 [1:00:43<13:46:35, 20.92s/it]"
     ]
    },
    {
     "name": "stdout",
     "output_type": "stream",
     "text": [
      "QUERY:  Precipitation amount in Zollikofen April 25, 2021 6h\n",
      "QUERY:  temperature in Zollikofen April 25, 2021 6h\n",
      "QUERY:  humidity in Zollikofen April 25, 2021 6h\n",
      "QUERY:  wind speed in Zollikofen April 25, 2021 6h\n",
      "QUERY:  Moon Phase calculatorApril 25, 2021 6h\n"
     ]
    },
    {
     "name": "stderr",
     "output_type": "stream",
     "text": [
      "\r",
      "  7%|█████▏                                                                    | 180/2550 [1:01:06<14:09:58, 21.52s/it]"
     ]
    },
    {
     "name": "stdout",
     "output_type": "stream",
     "text": [
      "QUERY:  Precipitation amount in Zollikofen April 25, 2021 7h\n",
      "QUERY:  temperature in Zollikofen April 25, 2021 7h\n",
      "QUERY:  humidity in Zollikofen April 25, 2021 7h\n",
      "QUERY:  wind speed in Zollikofen April 25, 2021 7h\n",
      "QUERY:  Moon Phase calculatorApril 25, 2021 7h\n",
      "(5000, 7)\n"
     ]
    },
    {
     "data": {
      "text/html": [
       "<div>\n",
       "<style scoped>\n",
       "    .dataframe tbody tr th:only-of-type {\n",
       "        vertical-align: middle;\n",
       "    }\n",
       "\n",
       "    .dataframe tbody tr th {\n",
       "        vertical-align: top;\n",
       "    }\n",
       "\n",
       "    .dataframe thead th {\n",
       "        text-align: right;\n",
       "    }\n",
       "</style>\n",
       "<table border=\"1\" class=\"dataframe\">\n",
       "  <thead>\n",
       "    <tr style=\"text-align: right;\">\n",
       "      <th></th>\n",
       "      <th>date</th>\n",
       "      <th>temperature</th>\n",
       "      <th>humidity</th>\n",
       "      <th>wind speed</th>\n",
       "      <th>Precipitation amount</th>\n",
       "      <th>query</th>\n",
       "      <th>Moon Phase calculator</th>\n",
       "    </tr>\n",
       "  </thead>\n",
       "  <tbody>\n",
       "    <tr>\n",
       "      <th>8</th>\n",
       "      <td>2021-04-25 06:00:00</td>\n",
       "      <td>4 °C\\n(6:00 am CEST | Sunday, April 25, 2021)</td>\n",
       "      <td>average: 100% (100%)\\n(6:00 am CEST | Sunday, ...</td>\n",
       "      <td>1 m/s\\n(6:00 am CEST | Sunday, April 25, 2021)</td>\n",
       "      <td>no precipitation\\n(6:00 am CEST | Sunday, Apri...</td>\n",
       "      <td>Moon Phase calculatorApril 25, 2021 6h</td>\n",
       "      <td>| waxing gibbous moon\\n94.08% illuminated</td>\n",
       "    </tr>\n",
       "    <tr>\n",
       "      <th>9</th>\n",
       "      <td>2021-04-25 07:00:00</td>\n",
       "      <td>5 °C\\n(7:00 am CEST | Sunday, April 25, 2021)</td>\n",
       "      <td>average: 94% (87 to 100%)\\n(7:00 am CEST | Sun...</td>\n",
       "      <td>2 m/s\\n(7:00 am CEST | Sunday, April 25, 2021)</td>\n",
       "      <td>no precipitation\\n(7:00 am CEST | Sunday, Apri...</td>\n",
       "      <td>Moon Phase calculatorApril 25, 2021 7h</td>\n",
       "      <td>| waxing gibbous moon\\n94.31% illuminated</td>\n",
       "    </tr>\n",
       "  </tbody>\n",
       "</table>\n",
       "</div>"
      ],
      "text/plain": [
       "                 date                                    temperature  \\\n",
       "8 2021-04-25 06:00:00  4 °C\\n(6:00 am CEST | Sunday, April 25, 2021)   \n",
       "9 2021-04-25 07:00:00  5 °C\\n(7:00 am CEST | Sunday, April 25, 2021)   \n",
       "\n",
       "                                            humidity  \\\n",
       "8  average: 100% (100%)\\n(6:00 am CEST | Sunday, ...   \n",
       "9  average: 94% (87 to 100%)\\n(7:00 am CEST | Sun...   \n",
       "\n",
       "                                       wind speed  \\\n",
       "8  1 m/s\\n(6:00 am CEST | Sunday, April 25, 2021)   \n",
       "9  2 m/s\\n(7:00 am CEST | Sunday, April 25, 2021)   \n",
       "\n",
       "                                Precipitation amount  \\\n",
       "8  no precipitation\\n(6:00 am CEST | Sunday, Apri...   \n",
       "9  no precipitation\\n(7:00 am CEST | Sunday, Apri...   \n",
       "\n",
       "                                    query  \\\n",
       "8  Moon Phase calculatorApril 25, 2021 6h   \n",
       "9  Moon Phase calculatorApril 25, 2021 7h   \n",
       "\n",
       "                       Moon Phase calculator  \n",
       "8  | waxing gibbous moon\\n94.08% illuminated  \n",
       "9  | waxing gibbous moon\\n94.31% illuminated  "
      ]
     },
     "metadata": {},
     "output_type": "display_data"
    },
    {
     "name": "stderr",
     "output_type": "stream",
     "text": [
      "\r",
      "  7%|█████▎                                                                    | 181/2550 [1:01:29<14:23:17, 21.86s/it]"
     ]
    },
    {
     "name": "stdout",
     "output_type": "stream",
     "text": [
      "QUERY:  Precipitation amount in Zollikofen April 25, 2021 8h\n",
      "QUERY:  temperature in Zollikofen April 25, 2021 8h\n",
      "QUERY:  humidity in Zollikofen April 25, 2021 8h\n",
      "QUERY:  wind speed in Zollikofen April 25, 2021 8h\n",
      "QUERY:  Moon Phase calculatorApril 25, 2021 8h\n"
     ]
    },
    {
     "name": "stderr",
     "output_type": "stream",
     "text": [
      "\r",
      "  7%|█████▎                                                                    | 182/2550 [1:01:51<14:24:13, 21.90s/it]"
     ]
    },
    {
     "name": "stdout",
     "output_type": "stream",
     "text": [
      "QUERY:  Precipitation amount in Zollikofen April 25, 2021 9h\n",
      "QUERY:  temperature in Zollikofen April 25, 2021 9h\n",
      "QUERY:  humidity in Zollikofen April 25, 2021 9h\n",
      "QUERY:  wind speed in Zollikofen April 25, 2021 9h\n",
      "QUERY:  Moon Phase calculatorApril 25, 2021 9h\n"
     ]
    },
    {
     "name": "stderr",
     "output_type": "stream",
     "text": [
      "\r",
      "  7%|█████▎                                                                    | 183/2550 [1:02:13<14:26:28, 21.96s/it]"
     ]
    },
    {
     "name": "stdout",
     "output_type": "stream",
     "text": [
      "QUERY:  Precipitation amount in Zollikofen April 25, 2021 10h\n",
      "QUERY:  temperature in Zollikofen April 25, 2021 10h\n",
      "QUERY:  humidity in Zollikofen April 25, 2021 10h\n",
      "QUERY:  wind speed in Zollikofen April 25, 2021 10h\n",
      "QUERY:  Moon Phase calculatorApril 25, 2021 10h\n"
     ]
    },
    {
     "name": "stderr",
     "output_type": "stream",
     "text": [
      "\r",
      "  7%|█████▎                                                                    | 184/2550 [1:02:35<14:31:33, 22.10s/it]"
     ]
    },
    {
     "name": "stdout",
     "output_type": "stream",
     "text": [
      "QUERY:  Precipitation amount in Zollikofen April 25, 2021 11h\n",
      "QUERY:  temperature in Zollikofen April 25, 2021 11h\n",
      "QUERY:  humidity in Zollikofen April 25, 2021 11h\n",
      "QUERY:  wind speed in Zollikofen April 25, 2021 11h\n",
      "QUERY:  Moon Phase calculatorApril 25, 2021 11h\n"
     ]
    },
    {
     "name": "stderr",
     "output_type": "stream",
     "text": [
      "\r",
      "  7%|█████▎                                                                    | 185/2550 [1:02:57<14:26:49, 21.99s/it]"
     ]
    },
    {
     "name": "stdout",
     "output_type": "stream",
     "text": [
      "QUERY:  Precipitation amount in Zollikofen April 25, 2021 12h\n",
      "QUERY:  temperature in Zollikofen April 25, 2021 12h\n",
      "QUERY:  humidity in Zollikofen April 25, 2021 12h\n",
      "QUERY:  wind speed in Zollikofen April 25, 2021 12h\n",
      "QUERY:  Moon Phase calculatorApril 25, 2021 12h\n"
     ]
    },
    {
     "name": "stderr",
     "output_type": "stream",
     "text": [
      "\r",
      "  7%|█████▍                                                                    | 186/2550 [1:03:19<14:28:56, 22.05s/it]"
     ]
    },
    {
     "name": "stdout",
     "output_type": "stream",
     "text": [
      "QUERY:  Precipitation amount in Zollikofen April 25, 2021 13h\n",
      "QUERY:  temperature in Zollikofen April 25, 2021 13h\n",
      "QUERY:  humidity in Zollikofen April 25, 2021 13h\n",
      "QUERY:  wind speed in Zollikofen April 25, 2021 13h\n",
      "QUERY:  Moon Phase calculatorApril 25, 2021 13h\n"
     ]
    },
    {
     "name": "stderr",
     "output_type": "stream",
     "text": [
      "\r",
      "  7%|█████▍                                                                    | 187/2550 [1:03:41<14:28:09, 22.04s/it]"
     ]
    },
    {
     "name": "stdout",
     "output_type": "stream",
     "text": [
      "QUERY:  Precipitation amount in Zollikofen April 25, 2021 14h\n",
      "QUERY:  temperature in Zollikofen April 25, 2021 14h\n",
      "QUERY:  humidity in Zollikofen April 25, 2021 14h\n",
      "QUERY:  wind speed in Zollikofen April 25, 2021 14h\n",
      "QUERY:  Moon Phase calculatorApril 25, 2021 14h\n"
     ]
    },
    {
     "name": "stderr",
     "output_type": "stream",
     "text": [
      "\r",
      "  7%|█████▍                                                                    | 188/2550 [1:04:04<14:34:39, 22.22s/it]"
     ]
    },
    {
     "name": "stdout",
     "output_type": "stream",
     "text": [
      "QUERY:  Precipitation amount in Zollikofen April 25, 2021 15h\n",
      "QUERY:  temperature in Zollikofen April 25, 2021 15h\n",
      "QUERY:  humidity in Zollikofen April 25, 2021 15h\n",
      "QUERY:  wind speed in Zollikofen April 25, 2021 15h\n",
      "QUERY:  Moon Phase calculatorApril 25, 2021 15h\n"
     ]
    },
    {
     "name": "stderr",
     "output_type": "stream",
     "text": [
      "\r",
      "  7%|█████▍                                                                    | 189/2550 [1:04:26<14:28:17, 22.07s/it]"
     ]
    },
    {
     "name": "stdout",
     "output_type": "stream",
     "text": [
      "QUERY:  Precipitation amount in Zollikofen April 25, 2021 16h\n",
      "QUERY:  temperature in Zollikofen April 25, 2021 16h\n",
      "QUERY:  humidity in Zollikofen April 25, 2021 16h\n",
      "QUERY:  wind speed in Zollikofen April 25, 2021 16h\n",
      "QUERY:  Moon Phase calculatorApril 25, 2021 16h\n"
     ]
    },
    {
     "name": "stderr",
     "output_type": "stream",
     "text": [
      "\r",
      "  7%|█████▌                                                                    | 190/2550 [1:04:47<14:21:17, 21.90s/it]"
     ]
    },
    {
     "name": "stdout",
     "output_type": "stream",
     "text": [
      "QUERY:  Precipitation amount in Zollikofen April 25, 2021 17h\n",
      "QUERY:  temperature in Zollikofen April 25, 2021 17h\n",
      "QUERY:  humidity in Zollikofen April 25, 2021 17h\n",
      "QUERY:  wind speed in Zollikofen April 25, 2021 17h\n",
      "QUERY:  Moon Phase calculatorApril 25, 2021 17h\n",
      "(5010, 7)\n"
     ]
    },
    {
     "data": {
      "text/html": [
       "<div>\n",
       "<style scoped>\n",
       "    .dataframe tbody tr th:only-of-type {\n",
       "        vertical-align: middle;\n",
       "    }\n",
       "\n",
       "    .dataframe tbody tr th {\n",
       "        vertical-align: top;\n",
       "    }\n",
       "\n",
       "    .dataframe thead th {\n",
       "        text-align: right;\n",
       "    }\n",
       "</style>\n",
       "<table border=\"1\" class=\"dataframe\">\n",
       "  <thead>\n",
       "    <tr style=\"text-align: right;\">\n",
       "      <th></th>\n",
       "      <th>date</th>\n",
       "      <th>temperature</th>\n",
       "      <th>humidity</th>\n",
       "      <th>wind speed</th>\n",
       "      <th>Precipitation amount</th>\n",
       "      <th>query</th>\n",
       "      <th>Moon Phase calculator</th>\n",
       "    </tr>\n",
       "  </thead>\n",
       "  <tbody>\n",
       "    <tr>\n",
       "      <th>8</th>\n",
       "      <td>2021-04-25 16:00:00</td>\n",
       "      <td>20 °C\\n(4:00 pm CEST | Sunday, April 25, 2021)</td>\n",
       "      <td>average: 33% (30 to 35%)\\n(4:00 pm CEST | Sund...</td>\n",
       "      <td>3 m/s\\n(4:00 pm CEST | Sunday, April 25, 2021)</td>\n",
       "      <td>no precipitation\\n(4:00 pm CEST | Sunday, Apri...</td>\n",
       "      <td>Moon Phase calculatorApril 25, 2021 16h</td>\n",
       "      <td>| waxing gibbous moon\\n96.21% illuminated</td>\n",
       "    </tr>\n",
       "    <tr>\n",
       "      <th>9</th>\n",
       "      <td>2021-04-25 17:00:00</td>\n",
       "      <td>20 °C\\n(5:00 pm CEST | Sunday, April 25, 2021)</td>\n",
       "      <td>average: 31% (30 to 32%)\\n(5:00 pm CEST | Sund...</td>\n",
       "      <td>4 m/s\\n(5:00 pm CEST | Sunday, April 25, 2021)</td>\n",
       "      <td>no precipitation\\n(5:00 pm CEST | Sunday, Apri...</td>\n",
       "      <td>Moon Phase calculatorApril 25, 2021 17h</td>\n",
       "      <td>| waxing gibbous moon\\n96.40% illuminated</td>\n",
       "    </tr>\n",
       "  </tbody>\n",
       "</table>\n",
       "</div>"
      ],
      "text/plain": [
       "                 date                                     temperature  \\\n",
       "8 2021-04-25 16:00:00  20 °C\\n(4:00 pm CEST | Sunday, April 25, 2021)   \n",
       "9 2021-04-25 17:00:00  20 °C\\n(5:00 pm CEST | Sunday, April 25, 2021)   \n",
       "\n",
       "                                            humidity  \\\n",
       "8  average: 33% (30 to 35%)\\n(4:00 pm CEST | Sund...   \n",
       "9  average: 31% (30 to 32%)\\n(5:00 pm CEST | Sund...   \n",
       "\n",
       "                                       wind speed  \\\n",
       "8  3 m/s\\n(4:00 pm CEST | Sunday, April 25, 2021)   \n",
       "9  4 m/s\\n(5:00 pm CEST | Sunday, April 25, 2021)   \n",
       "\n",
       "                                Precipitation amount  \\\n",
       "8  no precipitation\\n(4:00 pm CEST | Sunday, Apri...   \n",
       "9  no precipitation\\n(5:00 pm CEST | Sunday, Apri...   \n",
       "\n",
       "                                     query  \\\n",
       "8  Moon Phase calculatorApril 25, 2021 16h   \n",
       "9  Moon Phase calculatorApril 25, 2021 17h   \n",
       "\n",
       "                       Moon Phase calculator  \n",
       "8  | waxing gibbous moon\\n96.21% illuminated  \n",
       "9  | waxing gibbous moon\\n96.40% illuminated  "
      ]
     },
     "metadata": {},
     "output_type": "display_data"
    },
    {
     "name": "stderr",
     "output_type": "stream",
     "text": [
      "\r",
      "  7%|█████▌                                                                    | 191/2550 [1:05:10<14:32:28, 22.19s/it]"
     ]
    },
    {
     "name": "stdout",
     "output_type": "stream",
     "text": [
      "QUERY:  Precipitation amount in Zollikofen April 25, 2021 18h\n",
      "QUERY:  temperature in Zollikofen April 25, 2021 18h\n",
      "QUERY:  humidity in Zollikofen April 25, 2021 18h\n",
      "QUERY:  wind speed in Zollikofen April 25, 2021 18h\n",
      "QUERY:  Moon Phase calculatorApril 25, 2021 18h\n"
     ]
    },
    {
     "name": "stderr",
     "output_type": "stream",
     "text": [
      "\r",
      "  8%|█████▌                                                                    | 192/2550 [1:05:34<14:58:33, 22.86s/it]"
     ]
    },
    {
     "name": "stdout",
     "output_type": "stream",
     "text": [
      "QUERY:  Precipitation amount in Zollikofen April 25, 2021 19h\n",
      "QUERY:  temperature in Zollikofen April 25, 2021 19h\n",
      "QUERY:  humidity in Zollikofen April 25, 2021 19h\n",
      "QUERY:  wind speed in Zollikofen April 25, 2021 19h\n",
      "QUERY:  Moon Phase calculatorApril 25, 2021 19h\n"
     ]
    },
    {
     "name": "stderr",
     "output_type": "stream",
     "text": [
      "\r",
      "  8%|█████▌                                                                    | 193/2550 [1:05:56<14:42:10, 22.46s/it]"
     ]
    },
    {
     "name": "stdout",
     "output_type": "stream",
     "text": [
      "QUERY:  Precipitation amount in Zollikofen April 25, 2021 20h\n",
      "QUERY:  temperature in Zollikofen April 25, 2021 20h\n",
      "QUERY:  humidity in Zollikofen April 25, 2021 20h\n",
      "QUERY:  wind speed in Zollikofen April 25, 2021 20h\n",
      "QUERY:  Moon Phase calculatorApril 25, 2021 20h\n"
     ]
    },
    {
     "name": "stderr",
     "output_type": "stream",
     "text": [
      "\r",
      "  8%|█████▋                                                                    | 194/2550 [1:06:17<14:29:44, 22.15s/it]"
     ]
    },
    {
     "name": "stdout",
     "output_type": "stream",
     "text": [
      "QUERY:  Precipitation amount in Zollikofen April 25, 2021 21h\n",
      "QUERY:  temperature in Zollikofen April 25, 2021 21h\n",
      "QUERY:  humidity in Zollikofen April 25, 2021 21h\n",
      "QUERY:  wind speed in Zollikofen April 25, 2021 21h\n",
      "QUERY:  Moon Phase calculatorApril 25, 2021 21h\n"
     ]
    },
    {
     "name": "stderr",
     "output_type": "stream",
     "text": [
      "\r",
      "  8%|█████▋                                                                    | 195/2550 [1:06:39<14:26:11, 22.07s/it]"
     ]
    },
    {
     "name": "stdout",
     "output_type": "stream",
     "text": [
      "QUERY:  Precipitation amount in Zollikofen April 25, 2021 22h\n",
      "QUERY:  temperature in Zollikofen April 25, 2021 22h\n",
      "QUERY:  humidity in Zollikofen April 25, 2021 22h\n",
      "QUERY:  wind speed in Zollikofen April 25, 2021 22h\n",
      "QUERY:  Moon Phase calculatorApril 25, 2021 22h\n"
     ]
    },
    {
     "name": "stderr",
     "output_type": "stream",
     "text": [
      "\r",
      "  8%|█████▋                                                                    | 196/2550 [1:07:01<14:22:48, 21.99s/it]"
     ]
    },
    {
     "name": "stdout",
     "output_type": "stream",
     "text": [
      "QUERY:  Precipitation amount in Zollikofen April 25, 2021 23h\n",
      "QUERY:  temperature in Zollikofen April 25, 2021 23h\n",
      "QUERY:  humidity in Zollikofen April 25, 2021 23h\n",
      "QUERY:  wind speed in Zollikofen April 25, 2021 23h\n",
      "QUERY:  Moon Phase calculatorApril 25, 2021 23h\n"
     ]
    },
    {
     "name": "stderr",
     "output_type": "stream",
     "text": [
      "\r",
      "  8%|█████▋                                                                    | 197/2550 [1:07:23<14:16:42, 21.85s/it]"
     ]
    },
    {
     "name": "stdout",
     "output_type": "stream",
     "text": [
      "QUERY:  Precipitation amount in Zollikofen April 26, 2021 0h\n",
      "QUERY:  temperature in Zollikofen April 26, 2021 0h\n",
      "QUERY:  humidity in Zollikofen April 26, 2021 0h\n",
      "QUERY:  wind speed in Zollikofen April 26, 2021 0h\n",
      "QUERY:  Moon Phase calculatorApril 26, 2021 0h\n"
     ]
    },
    {
     "name": "stderr",
     "output_type": "stream",
     "text": [
      "\r",
      "  8%|█████▋                                                                    | 198/2550 [1:07:46<14:30:23, 22.20s/it]"
     ]
    },
    {
     "name": "stdout",
     "output_type": "stream",
     "text": [
      "QUERY:  Precipitation amount in Zollikofen April 26, 2021 1h\n",
      "QUERY:  temperature in Zollikofen April 26, 2021 1h\n",
      "QUERY:  humidity in Zollikofen April 26, 2021 1h\n",
      "QUERY:  wind speed in Zollikofen April 26, 2021 1h\n",
      "QUERY:  Moon Phase calculatorApril 26, 2021 1h\n"
     ]
    },
    {
     "name": "stderr",
     "output_type": "stream",
     "text": [
      "\r",
      "  8%|█████▊                                                                    | 199/2550 [1:08:07<14:17:24, 21.88s/it]"
     ]
    },
    {
     "name": "stdout",
     "output_type": "stream",
     "text": [
      "QUERY:  Precipitation amount in Zollikofen April 26, 2021 2h\n",
      "QUERY:  temperature in Zollikofen April 26, 2021 2h\n",
      "QUERY:  humidity in Zollikofen April 26, 2021 2h\n",
      "QUERY:  wind speed in Zollikofen April 26, 2021 2h\n",
      "QUERY:  Moon Phase calculatorApril 26, 2021 2h\n"
     ]
    },
    {
     "name": "stderr",
     "output_type": "stream",
     "text": [
      "\r",
      "  8%|█████▊                                                                    | 200/2550 [1:08:28<14:13:23, 21.79s/it]"
     ]
    },
    {
     "name": "stdout",
     "output_type": "stream",
     "text": [
      "QUERY:  Precipitation amount in Zollikofen April 26, 2021 3h\n",
      "QUERY:  temperature in Zollikofen April 26, 2021 3h\n",
      "QUERY:  humidity in Zollikofen April 26, 2021 3h\n",
      "QUERY:  wind speed in Zollikofen April 26, 2021 3h\n",
      "QUERY:  Moon Phase calculatorApril 26, 2021 3h\n",
      "(5020, 7)\n"
     ]
    },
    {
     "data": {
      "text/html": [
       "<div>\n",
       "<style scoped>\n",
       "    .dataframe tbody tr th:only-of-type {\n",
       "        vertical-align: middle;\n",
       "    }\n",
       "\n",
       "    .dataframe tbody tr th {\n",
       "        vertical-align: top;\n",
       "    }\n",
       "\n",
       "    .dataframe thead th {\n",
       "        text-align: right;\n",
       "    }\n",
       "</style>\n",
       "<table border=\"1\" class=\"dataframe\">\n",
       "  <thead>\n",
       "    <tr style=\"text-align: right;\">\n",
       "      <th></th>\n",
       "      <th>date</th>\n",
       "      <th>temperature</th>\n",
       "      <th>humidity</th>\n",
       "      <th>wind speed</th>\n",
       "      <th>Precipitation amount</th>\n",
       "      <th>query</th>\n",
       "      <th>Moon Phase calculator</th>\n",
       "    </tr>\n",
       "  </thead>\n",
       "  <tbody>\n",
       "    <tr>\n",
       "      <th>8</th>\n",
       "      <td>2021-04-26 02:00:00</td>\n",
       "      <td>8 °C\\n(2:00 am CEST | Monday, April 26, 2021)</td>\n",
       "      <td>average: 68% (66 to 70%)\\n(2:00 am CEST | Mond...</td>\n",
       "      <td>2 m/s\\n(2:00 am CEST | Monday, April 26, 2021)</td>\n",
       "      <td>no precipitation\\n(2:00 am CEST | Monday, Apri...</td>\n",
       "      <td>Moon Phase calculatorApril 26, 2021 2h</td>\n",
       "      <td>| waxing gibbous moon\\n97.89% illuminated</td>\n",
       "    </tr>\n",
       "    <tr>\n",
       "      <th>9</th>\n",
       "      <td>2021-04-26 03:00:00</td>\n",
       "      <td>6 °C\\n(3:00 am CEST | Monday, April 26, 2021)</td>\n",
       "      <td>average: 87% (87%)\\n(3:00 am CEST | Monday, Ap...</td>\n",
       "      <td>1 m/s\\n(3:00 am CEST | Monday, April 26, 2021)</td>\n",
       "      <td>no precipitation\\n(3:00 am CEST | Monday, Apri...</td>\n",
       "      <td>Moon Phase calculatorApril 26, 2021 3h</td>\n",
       "      <td>| waxing gibbous moon\\n98.03% illuminated</td>\n",
       "    </tr>\n",
       "  </tbody>\n",
       "</table>\n",
       "</div>"
      ],
      "text/plain": [
       "                 date                                    temperature  \\\n",
       "8 2021-04-26 02:00:00  8 °C\\n(2:00 am CEST | Monday, April 26, 2021)   \n",
       "9 2021-04-26 03:00:00  6 °C\\n(3:00 am CEST | Monday, April 26, 2021)   \n",
       "\n",
       "                                            humidity  \\\n",
       "8  average: 68% (66 to 70%)\\n(2:00 am CEST | Mond...   \n",
       "9  average: 87% (87%)\\n(3:00 am CEST | Monday, Ap...   \n",
       "\n",
       "                                       wind speed  \\\n",
       "8  2 m/s\\n(2:00 am CEST | Monday, April 26, 2021)   \n",
       "9  1 m/s\\n(3:00 am CEST | Monday, April 26, 2021)   \n",
       "\n",
       "                                Precipitation amount  \\\n",
       "8  no precipitation\\n(2:00 am CEST | Monday, Apri...   \n",
       "9  no precipitation\\n(3:00 am CEST | Monday, Apri...   \n",
       "\n",
       "                                    query  \\\n",
       "8  Moon Phase calculatorApril 26, 2021 2h   \n",
       "9  Moon Phase calculatorApril 26, 2021 3h   \n",
       "\n",
       "                       Moon Phase calculator  \n",
       "8  | waxing gibbous moon\\n97.89% illuminated  \n",
       "9  | waxing gibbous moon\\n98.03% illuminated  "
      ]
     },
     "metadata": {},
     "output_type": "display_data"
    },
    {
     "name": "stderr",
     "output_type": "stream",
     "text": [
      "\r",
      "  8%|█████▊                                                                    | 201/2550 [1:08:50<14:13:06, 21.79s/it]"
     ]
    },
    {
     "name": "stdout",
     "output_type": "stream",
     "text": [
      "QUERY:  Precipitation amount in Zollikofen April 26, 2021 4h\n",
      "QUERY:  temperature in Zollikofen April 26, 2021 4h\n",
      "QUERY:  humidity in Zollikofen April 26, 2021 4h\n",
      "QUERY:  wind speed in Zollikofen April 26, 2021 4h\n",
      "QUERY:  Moon Phase calculatorApril 26, 2021 4h\n"
     ]
    },
    {
     "name": "stderr",
     "output_type": "stream",
     "text": [
      "\r",
      "  8%|█████▊                                                                    | 202/2550 [1:09:13<14:25:11, 22.11s/it]"
     ]
    },
    {
     "name": "stdout",
     "output_type": "stream",
     "text": [
      "QUERY:  Precipitation amount in Zollikofen April 26, 2021 5h\n",
      "QUERY:  temperature in Zollikofen April 26, 2021 5h\n",
      "QUERY:  humidity in Zollikofen April 26, 2021 5h\n",
      "QUERY:  wind speed in Zollikofen April 26, 2021 5h\n",
      "QUERY:  Moon Phase calculatorApril 26, 2021 5h\n"
     ]
    },
    {
     "name": "stderr",
     "output_type": "stream",
     "text": [
      "\r",
      "  8%|█████▉                                                                    | 203/2550 [1:09:35<14:23:44, 22.08s/it]"
     ]
    },
    {
     "name": "stdout",
     "output_type": "stream",
     "text": [
      "QUERY:  Precipitation amount in Zollikofen April 26, 2021 6h\n",
      "QUERY:  temperature in Zollikofen April 26, 2021 6h\n",
      "QUERY:  humidity in Zollikofen April 26, 2021 6h\n",
      "QUERY:  wind speed in Zollikofen April 26, 2021 6h\n",
      "QUERY:  Moon Phase calculatorApril 26, 2021 6h\n"
     ]
    },
    {
     "name": "stderr",
     "output_type": "stream",
     "text": [
      "\r",
      "  8%|█████▉                                                                    | 204/2550 [1:09:56<14:05:47, 21.63s/it]"
     ]
    },
    {
     "name": "stdout",
     "output_type": "stream",
     "text": [
      "QUERY:  Precipitation amount in Zollikofen April 26, 2021 7h\n",
      "QUERY:  temperature in Zollikofen April 26, 2021 7h\n",
      "QUERY:  humidity in Zollikofen April 26, 2021 7h\n",
      "QUERY:  wind speed in Zollikofen April 26, 2021 7h\n",
      "QUERY:  Moon Phase calculatorApril 26, 2021 7h\n"
     ]
    },
    {
     "name": "stderr",
     "output_type": "stream",
     "text": [
      "\r",
      "  8%|█████▉                                                                    | 205/2550 [1:10:16<13:56:42, 21.41s/it]"
     ]
    },
    {
     "name": "stdout",
     "output_type": "stream",
     "text": [
      "QUERY:  Precipitation amount in Zollikofen April 26, 2021 8h\n",
      "QUERY:  temperature in Zollikofen April 26, 2021 8h\n",
      "QUERY:  humidity in Zollikofen April 26, 2021 8h\n",
      "QUERY:  wind speed in Zollikofen April 26, 2021 8h\n",
      "QUERY:  Moon Phase calculatorApril 26, 2021 8h\n"
     ]
    },
    {
     "name": "stderr",
     "output_type": "stream",
     "text": [
      "\r",
      "  8%|█████▉                                                                    | 206/2550 [1:10:37<13:40:42, 21.01s/it]"
     ]
    },
    {
     "name": "stdout",
     "output_type": "stream",
     "text": [
      "QUERY:  Precipitation amount in Zollikofen April 26, 2021 9h\n",
      "QUERY:  temperature in Zollikofen April 26, 2021 9h\n",
      "QUERY:  humidity in Zollikofen April 26, 2021 9h\n",
      "QUERY:  wind speed in Zollikofen April 26, 2021 9h\n",
      "QUERY:  Moon Phase calculatorApril 26, 2021 9h\n"
     ]
    },
    {
     "name": "stderr",
     "output_type": "stream",
     "text": [
      "\r",
      "  8%|██████                                                                    | 207/2550 [1:10:54<12:54:36, 19.84s/it]"
     ]
    },
    {
     "name": "stdout",
     "output_type": "stream",
     "text": [
      "QUERY:  Precipitation amount in Zollikofen April 26, 2021 10h\n",
      "QUERY:  temperature in Zollikofen April 26, 2021 10h\n",
      "ERROR: no data available-------------  temperature in Zollikofen April 26, 2021 10h\n",
      "ERROR:------------- name 'error' is not defined  ----------  temperature in Zollikofen April 26, 2021 10h\n",
      "QUERY:  humidity in Zollikofen April 26, 2021 10h\n",
      "ERROR: no data available-------------  humidity in Zollikofen April 26, 2021 10h\n",
      "ERROR:------------- name 'error' is not defined  ----------  humidity in Zollikofen April 26, 2021 10h\n",
      "QUERY:  wind speed in Zollikofen April 26, 2021 10h\n",
      "ERROR: no data available-------------  wind speed in Zollikofen April 26, 2021 10h\n",
      "ERROR:------------- name 'error' is not defined  ----------  wind speed in Zollikofen April 26, 2021 10h\n",
      "QUERY:  Moon Phase calculatorApril 26, 2021 10h\n"
     ]
    },
    {
     "name": "stderr",
     "output_type": "stream",
     "text": [
      "100%|████████████████████████████████████████████████████████████████████████████| 2550/2550 [1:11:11<00:00,  1.68s/it]"
     ]
    },
    {
     "name": "stdout",
     "output_type": "stream",
     "text": [
      "(5027, 7)\n"
     ]
    },
    {
     "name": "stderr",
     "output_type": "stream",
     "text": [
      "\n"
     ]
    },
    {
     "data": {
      "text/html": [
       "<div>\n",
       "<style scoped>\n",
       "    .dataframe tbody tr th:only-of-type {\n",
       "        vertical-align: middle;\n",
       "    }\n",
       "\n",
       "    .dataframe tbody tr th {\n",
       "        vertical-align: top;\n",
       "    }\n",
       "\n",
       "    .dataframe thead th {\n",
       "        text-align: right;\n",
       "    }\n",
       "</style>\n",
       "<table border=\"1\" class=\"dataframe\">\n",
       "  <thead>\n",
       "    <tr style=\"text-align: right;\">\n",
       "      <th></th>\n",
       "      <th>date</th>\n",
       "      <th>temperature</th>\n",
       "      <th>humidity</th>\n",
       "      <th>wind speed</th>\n",
       "      <th>Precipitation amount</th>\n",
       "      <th>query</th>\n",
       "      <th>Moon Phase calculator</th>\n",
       "    </tr>\n",
       "  </thead>\n",
       "  <tbody>\n",
       "    <tr>\n",
       "      <th>5</th>\n",
       "      <td>2021-04-26 09:00:00</td>\n",
       "      <td>9 °C\\n(9:00 am CEST | Monday, April 26, 2021)</td>\n",
       "      <td>average: 52% (50 to 53%)\\n(9:00 am CEST | Mond...</td>\n",
       "      <td>3 m/s\\n(9:00 am CEST | Monday, April 26, 2021)</td>\n",
       "      <td>no precipitation\\n(9:00 am CEST | Monday, Apri...</td>\n",
       "      <td>Moon Phase calculatorApril 26, 2021 9h</td>\n",
       "      <td>| waxing gibbous moon\\n98.78% illuminated</td>\n",
       "    </tr>\n",
       "    <tr>\n",
       "      <th>6</th>\n",
       "      <td>2021-04-26 10:00:00</td>\n",
       "      <td>ERROR</td>\n",
       "      <td>ERROR</td>\n",
       "      <td>ERROR</td>\n",
       "      <td>(unknown)\\n(10:00 am CEST | Monday, April 26, ...</td>\n",
       "      <td>Moon Phase calculatorApril 26, 2021 10h</td>\n",
       "      <td>| waxing gibbous moon\\n98.89% illuminated</td>\n",
       "    </tr>\n",
       "  </tbody>\n",
       "</table>\n",
       "</div>"
      ],
      "text/plain": [
       "                 date                                    temperature  \\\n",
       "5 2021-04-26 09:00:00  9 °C\\n(9:00 am CEST | Monday, April 26, 2021)   \n",
       "6 2021-04-26 10:00:00                                          ERROR   \n",
       "\n",
       "                                            humidity  \\\n",
       "5  average: 52% (50 to 53%)\\n(9:00 am CEST | Mond...   \n",
       "6                                              ERROR   \n",
       "\n",
       "                                       wind speed  \\\n",
       "5  3 m/s\\n(9:00 am CEST | Monday, April 26, 2021)   \n",
       "6                                           ERROR   \n",
       "\n",
       "                                Precipitation amount  \\\n",
       "5  no precipitation\\n(9:00 am CEST | Monday, Apri...   \n",
       "6  (unknown)\\n(10:00 am CEST | Monday, April 26, ...   \n",
       "\n",
       "                                     query  \\\n",
       "5   Moon Phase calculatorApril 26, 2021 9h   \n",
       "6  Moon Phase calculatorApril 26, 2021 10h   \n",
       "\n",
       "                       Moon Phase calculator  \n",
       "5  | waxing gibbous moon\\n98.78% illuminated  \n",
       "6  | waxing gibbous moon\\n98.89% illuminated  "
      ]
     },
     "metadata": {},
     "output_type": "display_data"
    }
   ],
   "source": [
    "#not same as : https://weather.plus/observations-weather-station.php?dest=Bern-Zollikofen&id=066310&type=synop&day=20200713, our\n",
    "#results are less consistent :( \n",
    "#ATTENTION: monthly api calls limited to 2'000\n",
    "#if not working, save query and results: \"ERROR\", but continue the other query from the same date\n",
    "#open if exist\n",
    "li_df = []\n",
    "for i,d in enumerate(tqdm.tqdm(Daterange)):\n",
    "    now_ = dt.datetime.now()\n",
    "    #dont get the data in advance\n",
    "    if d<now_:      \n",
    "        dico = {'date':d}\n",
    "        for type_ in li_type:\n",
    "            try:                    \n",
    "                query = '%s in Zollikofen '%type_+d.strftime('%B')+' '+str(d.day)+', '+str(d.year)+' '+str(d.hour)+'h'\n",
    "                if type_=='Moon Phase calculator':\n",
    "                    query = type_+d.strftime('%B')+' '+str(d.day)+', '+str(d.year)+' '+str(d.hour)+'h'                    \n",
    "                print('QUERY: ',query)\n",
    "                dico['query'] = query\n",
    "                res = client.query(query)\n",
    "                for t in res.results:\n",
    "                    if 'no data available' in t.text:\n",
    "                        print('ERROR: no data available------------- ', query)\n",
    "                        error\n",
    "                    dico[type_] = t.text\n",
    "            except Exception as e:\n",
    "                print('ERROR:-------------', e, ' ---------- ', query)\n",
    "                dico[type_] = 'ERROR'\n",
    "        li_df.append(dico)\n",
    "        dico = {}\n",
    "        if i%10==0:\n",
    "            df_ = pd.DataFrame(li_df)\n",
    "            df = pd.concat([df,df_])\n",
    "            df.to_csv(path_weather, index=False, sep=';')\n",
    "            li_df = []\n",
    "            print(df.shape)\n",
    "            display(df.tail(2))\n",
    "df_ = pd.DataFrame(li_df)\n",
    "df = pd.concat([df,df_])\n",
    "df.to_csv(path_weather, index=False, sep=';')\n",
    "print(df.shape)\n",
    "display(df.tail(2))"
   ]
  },
  {
   "cell_type": "code",
   "execution_count": 6,
   "metadata": {},
   "outputs": [
    {
     "name": "stdout",
     "output_type": "stream",
     "text": [
      "(37, 7)\n"
     ]
    },
    {
     "data": {
      "text/html": [
       "<div>\n",
       "<style scoped>\n",
       "    .dataframe tbody tr th:only-of-type {\n",
       "        vertical-align: middle;\n",
       "    }\n",
       "\n",
       "    .dataframe tbody tr th {\n",
       "        vertical-align: top;\n",
       "    }\n",
       "\n",
       "    .dataframe thead th {\n",
       "        text-align: right;\n",
       "    }\n",
       "</style>\n",
       "<table border=\"1\" class=\"dataframe\">\n",
       "  <thead>\n",
       "    <tr style=\"text-align: right;\">\n",
       "      <th></th>\n",
       "      <th>date</th>\n",
       "      <th>temperature</th>\n",
       "      <th>humidity</th>\n",
       "      <th>wind speed</th>\n",
       "      <th>Precipitation amount</th>\n",
       "      <th>query</th>\n",
       "      <th>Moon Phase calculator</th>\n",
       "    </tr>\n",
       "  </thead>\n",
       "  <tbody>\n",
       "    <tr>\n",
       "      <th>0</th>\n",
       "      <td>2020-11-05 22:00:00</td>\n",
       "      <td>8 °C\\n(10:00 pm CET | Thursday, November 5, 2020)</td>\n",
       "      <td>ERROR</td>\n",
       "      <td>1 m/s\\n(10:00 pm CET | Thursday, November 5, 2...</td>\n",
       "      <td>ERROR</td>\n",
       "      <td>Moon Phase calculatorNovember 5, 2020 22h</td>\n",
       "      <td>| waning gibbous moon\\n76.55% illuminated</td>\n",
       "    </tr>\n",
       "    <tr>\n",
       "      <th>0</th>\n",
       "      <td>2020-11-16 19:00:00</td>\n",
       "      <td>7 °C\\n(7:00 pm CET | Monday, November 16, 2020)</td>\n",
       "      <td>ERROR</td>\n",
       "      <td>1 m/s\\n(7:00 pm CET | Monday, November 16, 2020)</td>\n",
       "      <td>ERROR</td>\n",
       "      <td>Moon Phase calculatorNovember 16, 2020 19h</td>\n",
       "      <td>| waxing crescent moon\\n3.48% illuminated</td>\n",
       "    </tr>\n",
       "    <tr>\n",
       "      <th>2</th>\n",
       "      <td>2020-11-16 21:00:00</td>\n",
       "      <td>5 °C\\n(9:00 pm CET | Monday, November 16, 2020)</td>\n",
       "      <td>ERROR</td>\n",
       "      <td>0 m/s\\n(9:00 pm CET | Monday, November 16, 2020)</td>\n",
       "      <td>(unknown)\\n(9:00 pm CET | Monday, November 16,...</td>\n",
       "      <td>Moon Phase calculatorNovember 16, 2020 21h</td>\n",
       "      <td>| waxing crescent moon\\n3.86% illuminated</td>\n",
       "    </tr>\n",
       "    <tr>\n",
       "      <th>3</th>\n",
       "      <td>2020-12-15 21:00:00</td>\n",
       "      <td>4 °C\\n(9:00 pm CET | Tuesday, December 15, 2020)</td>\n",
       "      <td>ERROR</td>\n",
       "      <td>1 m/s\\n(9:00 pm CET | Tuesday, December 15, 2020)</td>\n",
       "      <td>(unknown)\\n(9:00 pm CET | Tuesday, December 15...</td>\n",
       "      <td>Moon Phase calculatorDecember 15, 2020 21h</td>\n",
       "      <td>ERROR</td>\n",
       "    </tr>\n",
       "    <tr>\n",
       "      <th>4</th>\n",
       "      <td>2021-02-08 17:00:00</td>\n",
       "      <td>5 °C\\n(5:00 pm CET | Monday, February 8, 2021)</td>\n",
       "      <td>ERROR</td>\n",
       "      <td>5 m/s\\n(5:00 pm CET | Monday, February 8, 2021)</td>\n",
       "      <td>(unknown)\\n(5:00 pm CET | Monday, February 8, ...</td>\n",
       "      <td>Moon Phase calculatorFebruary 8, 2021 17h</td>\n",
       "      <td>| waning crescent moon\\n11.27% illuminated</td>\n",
       "    </tr>\n",
       "    <tr>\n",
       "      <th>5</th>\n",
       "      <td>2021-02-08 18:00:00</td>\n",
       "      <td>4 °C\\n(6:00 pm CET | Monday, February 8, 2021)</td>\n",
       "      <td>ERROR</td>\n",
       "      <td>5 m/s\\n(6:00 pm CET | Monday, February 8, 2021)</td>\n",
       "      <td>(unknown)\\n(6:00 pm CET | Monday, February 8, ...</td>\n",
       "      <td>Moon Phase calculatorFebruary 8, 2021 18h</td>\n",
       "      <td>| waning crescent moon\\n10.98% illuminated</td>\n",
       "    </tr>\n",
       "    <tr>\n",
       "      <th>6</th>\n",
       "      <td>2021-02-08 19:00:00</td>\n",
       "      <td>3 °C\\n(7:00 pm CET | Monday, February 8, 2021)</td>\n",
       "      <td>ERROR</td>\n",
       "      <td>4 m/s\\n(7:00 pm CET | Monday, February 8, 2021)</td>\n",
       "      <td>(unknown)\\n(7:00 pm CET | Monday, February 8, ...</td>\n",
       "      <td>Moon Phase calculatorFebruary 8, 2021 19h</td>\n",
       "      <td>| waning crescent moon\\n10.69% illuminated</td>\n",
       "    </tr>\n",
       "    <tr>\n",
       "      <th>7</th>\n",
       "      <td>2021-02-08 20:00:00</td>\n",
       "      <td>2 °C\\n(8:00 pm CET | Monday, February 8, 2021)</td>\n",
       "      <td>ERROR</td>\n",
       "      <td>4 m/s\\n(8:00 pm CET | Monday, February 8, 2021)</td>\n",
       "      <td>(unknown)\\n(8:00 pm CET | Monday, February 8, ...</td>\n",
       "      <td>Moon Phase calculatorFebruary 8, 2021 20h</td>\n",
       "      <td>| waning crescent moon\\n10.41% illuminated</td>\n",
       "    </tr>\n",
       "    <tr>\n",
       "      <th>8</th>\n",
       "      <td>2021-02-09 09:00:00</td>\n",
       "      <td>0 °C\\n(9:00 am CET | Tuesday, February 9, 2021)</td>\n",
       "      <td>ERROR</td>\n",
       "      <td>1 m/s\\n(9:00 am CET | Tuesday, February 9, 2021)</td>\n",
       "      <td>(unknown)\\n(9:00 am CET | Tuesday, February 9,...</td>\n",
       "      <td>Moon Phase calculatorFebruary 9, 2021 9h</td>\n",
       "      <td>| waning crescent moon\\n7.06% illuminated</td>\n",
       "    </tr>\n",
       "    <tr>\n",
       "      <th>9</th>\n",
       "      <td>2021-02-09 10:00:00</td>\n",
       "      <td>0 °C\\n(10:00 am CET | Tuesday, February 9, 2021)</td>\n",
       "      <td>ERROR</td>\n",
       "      <td>1 m/s\\n(10:00 am CET | Tuesday, February 9, 2021)</td>\n",
       "      <td>(unknown)\\n(10:00 am CET | Tuesday, February 9...</td>\n",
       "      <td>Moon Phase calculatorFebruary 9, 2021 10h</td>\n",
       "      <td>| waning crescent moon\\n6.82% illuminated</td>\n",
       "    </tr>\n",
       "    <tr>\n",
       "      <th>0</th>\n",
       "      <td>2021-02-09 11:00:00</td>\n",
       "      <td>0 °C\\n(11:00 am CET | Tuesday, February 9, 2021)</td>\n",
       "      <td>ERROR</td>\n",
       "      <td>1 m/s\\n(11:00 am CET | Tuesday, February 9, 2021)</td>\n",
       "      <td>(unknown)\\n(11:00 am CET | Tuesday, February 9...</td>\n",
       "      <td>Moon Phase calculatorFebruary 9, 2021 11h</td>\n",
       "      <td>| waning crescent moon\\n6.60% illuminated</td>\n",
       "    </tr>\n",
       "    <tr>\n",
       "      <th>1</th>\n",
       "      <td>2021-02-09 12:00:00</td>\n",
       "      <td>0 °C\\n(12:00 pm CET | Tuesday, February 9, 2021)</td>\n",
       "      <td>ERROR</td>\n",
       "      <td>1 m/s\\n(12:00 pm CET | Tuesday, February 9, 2021)</td>\n",
       "      <td>(unknown)\\n(12:00 pm CET | Tuesday, February 9...</td>\n",
       "      <td>Moon Phase calculatorFebruary 9, 2021 12h</td>\n",
       "      <td>| waning crescent moon\\n6.37% illuminated</td>\n",
       "    </tr>\n",
       "    <tr>\n",
       "      <th>2</th>\n",
       "      <td>2021-02-09 13:00:00</td>\n",
       "      <td>0 °C\\n(1:00 pm CET | Tuesday, February 9, 2021)</td>\n",
       "      <td>ERROR</td>\n",
       "      <td>2 m/s\\n(1:00 pm CET | Tuesday, February 9, 2021)</td>\n",
       "      <td>(unknown)\\n(1:00 pm CET | Tuesday, February 9,...</td>\n",
       "      <td>Moon Phase calculatorFebruary 9, 2021 13h</td>\n",
       "      <td>| waning crescent moon\\n6.15% illuminated</td>\n",
       "    </tr>\n",
       "    <tr>\n",
       "      <th>3</th>\n",
       "      <td>2021-02-09 15:00:00</td>\n",
       "      <td>0 °C\\n(3:00 pm CET | Tuesday, February 9, 2021)</td>\n",
       "      <td>ERROR</td>\n",
       "      <td>2 m/s\\n(3:00 pm CET | Tuesday, February 9, 2021)</td>\n",
       "      <td>(unknown)\\n(3:00 pm CET | Tuesday, February 9,...</td>\n",
       "      <td>Moon Phase calculatorFebruary 9, 2021 15h</td>\n",
       "      <td>| waning crescent moon\\n5.72% illuminated</td>\n",
       "    </tr>\n",
       "    <tr>\n",
       "      <th>4</th>\n",
       "      <td>2021-02-09 16:00:00</td>\n",
       "      <td>0 °C\\n(4:00 pm CET | Tuesday, February 9, 2021)</td>\n",
       "      <td>ERROR</td>\n",
       "      <td>2 m/s\\n(4:00 pm CET | Tuesday, February 9, 2021)</td>\n",
       "      <td>(unknown)\\n(4:00 pm CET | Tuesday, February 9,...</td>\n",
       "      <td>Moon Phase calculatorFebruary 9, 2021 16h</td>\n",
       "      <td>| waning crescent moon\\n5.51% illuminated</td>\n",
       "    </tr>\n",
       "    <tr>\n",
       "      <th>5</th>\n",
       "      <td>2021-02-09 17:00:00</td>\n",
       "      <td>0 °C\\n(5:00 pm CET | Tuesday, February 9, 2021)</td>\n",
       "      <td>ERROR</td>\n",
       "      <td>3 m/s\\n(5:00 pm CET | Tuesday, February 9, 2021)</td>\n",
       "      <td>(unknown)\\n(5:00 pm CET | Tuesday, February 9,...</td>\n",
       "      <td>Moon Phase calculatorFebruary 9, 2021 17h</td>\n",
       "      <td>| waning crescent moon\\n5.31% illuminated</td>\n",
       "    </tr>\n",
       "    <tr>\n",
       "      <th>6</th>\n",
       "      <td>2021-02-09 18:00:00</td>\n",
       "      <td>0 °C\\n(6:00 pm CET | Tuesday, February 9, 2021)</td>\n",
       "      <td>ERROR</td>\n",
       "      <td>3 m/s\\n(6:00 pm CET | Tuesday, February 9, 2021)</td>\n",
       "      <td>(unknown)\\n(6:00 pm CET | Tuesday, February 9,...</td>\n",
       "      <td>Moon Phase calculatorFebruary 9, 2021 18h</td>\n",
       "      <td>| waning crescent moon\\n5.11% illuminated</td>\n",
       "    </tr>\n",
       "    <tr>\n",
       "      <th>7</th>\n",
       "      <td>2021-02-09 19:00:00</td>\n",
       "      <td>0 °C\\n(7:00 pm CET | Tuesday, February 9, 2021)</td>\n",
       "      <td>ERROR</td>\n",
       "      <td>3 m/s\\n(7:00 pm CET | Tuesday, February 9, 2021)</td>\n",
       "      <td>(unknown)\\n(7:00 pm CET | Tuesday, February 9,...</td>\n",
       "      <td>Moon Phase calculatorFebruary 9, 2021 19h</td>\n",
       "      <td>| waning crescent moon\\n4.91% illuminated</td>\n",
       "    </tr>\n",
       "    <tr>\n",
       "      <th>8</th>\n",
       "      <td>2021-02-09 20:00:00</td>\n",
       "      <td>0 °C\\n(8:00 pm CET | Tuesday, February 9, 2021)</td>\n",
       "      <td>ERROR</td>\n",
       "      <td>3 m/s\\n(8:00 pm CET | Tuesday, February 9, 2021)</td>\n",
       "      <td>(unknown)\\n(8:00 pm CET | Tuesday, February 9,...</td>\n",
       "      <td>Moon Phase calculatorFebruary 9, 2021 20h</td>\n",
       "      <td>| waning crescent moon\\n4.72% illuminated</td>\n",
       "    </tr>\n",
       "    <tr>\n",
       "      <th>9</th>\n",
       "      <td>2021-02-09 21:00:00</td>\n",
       "      <td>0 °C\\n(9:00 pm CET | Tuesday, February 9, 2021)</td>\n",
       "      <td>ERROR</td>\n",
       "      <td>4 m/s\\n(9:00 pm CET | Tuesday, February 9, 2021)</td>\n",
       "      <td>(unknown)\\n(9:00 pm CET | Tuesday, February 9,...</td>\n",
       "      <td>Moon Phase calculatorFebruary 9, 2021 21h</td>\n",
       "      <td>| waning crescent moon\\n4.53% illuminated</td>\n",
       "    </tr>\n",
       "    <tr>\n",
       "      <th>0</th>\n",
       "      <td>2021-02-09 22:00:00</td>\n",
       "      <td>0 °C\\n(10:00 pm CET | Tuesday, February 9, 2021)</td>\n",
       "      <td>ERROR</td>\n",
       "      <td>4 m/s\\n(10:00 pm CET | Tuesday, February 9, 2021)</td>\n",
       "      <td>(unknown)\\n(10:00 pm CET | Tuesday, February 9...</td>\n",
       "      <td>Moon Phase calculatorFebruary 9, 2021 22h</td>\n",
       "      <td>| waning crescent moon\\n4.34% illuminated</td>\n",
       "    </tr>\n",
       "    <tr>\n",
       "      <th>1</th>\n",
       "      <td>2021-02-10 10:00:00</td>\n",
       "      <td>0 °C\\n(10:00 am CET | Wednesday, February 10, ...</td>\n",
       "      <td>ERROR</td>\n",
       "      <td>1 m/s\\n(10:00 am CET | Wednesday, February 10,...</td>\n",
       "      <td>(unknown)\\n(10:00 am CET | Wednesday, February...</td>\n",
       "      <td>Moon Phase calculatorFebruary 10, 2021 10h</td>\n",
       "      <td>| waning crescent moon\\n2.43% illuminated</td>\n",
       "    </tr>\n",
       "    <tr>\n",
       "      <th>2</th>\n",
       "      <td>2021-02-10 11:00:00</td>\n",
       "      <td>0 °C\\n(11:00 am CET | Wednesday, February 10, ...</td>\n",
       "      <td>ERROR</td>\n",
       "      <td>1 m/s\\n(11:00 am CET | Wednesday, February 10,...</td>\n",
       "      <td>(unknown)\\n(11:00 am CET | Wednesday, February...</td>\n",
       "      <td>Moon Phase calculatorFebruary 10, 2021 11h</td>\n",
       "      <td>| waning crescent moon\\n2.30% illuminated</td>\n",
       "    </tr>\n",
       "    <tr>\n",
       "      <th>3</th>\n",
       "      <td>2021-02-10 12:00:00</td>\n",
       "      <td>0 °C\\n(12:00 pm CET | Wednesday, February 10, ...</td>\n",
       "      <td>ERROR</td>\n",
       "      <td>2 m/s\\n(12:00 pm CET | Wednesday, February 10,...</td>\n",
       "      <td>(unknown)\\n(12:00 pm CET | Wednesday, February...</td>\n",
       "      <td>Moon Phase calculatorFebruary 10, 2021 12h</td>\n",
       "      <td>| waning crescent moon\\n2.17% illuminated</td>\n",
       "    </tr>\n",
       "    <tr>\n",
       "      <th>4</th>\n",
       "      <td>2021-02-10 13:00:00</td>\n",
       "      <td>0 °C\\n(1:00 pm CET | Wednesday, February 10, 2...</td>\n",
       "      <td>ERROR</td>\n",
       "      <td>2 m/s\\n(1:00 pm CET | Wednesday, February 10, ...</td>\n",
       "      <td>(unknown)\\n(1:00 pm CET | Wednesday, February ...</td>\n",
       "      <td>Moon Phase calculatorFebruary 10, 2021 13h</td>\n",
       "      <td>| waning crescent moon\\n2.04% illuminated</td>\n",
       "    </tr>\n",
       "    <tr>\n",
       "      <th>5</th>\n",
       "      <td>2021-02-10 14:00:00</td>\n",
       "      <td>-1 °C\\n(2:00 pm CET | Wednesday, February 10, ...</td>\n",
       "      <td>ERROR</td>\n",
       "      <td>2 m/s\\n(2:00 pm CET | Wednesday, February 10, ...</td>\n",
       "      <td>(unknown)\\n(2:00 pm CET | Wednesday, February ...</td>\n",
       "      <td>Moon Phase calculatorFebruary 10, 2021 14h</td>\n",
       "      <td>| waning crescent moon\\n1.92% illuminated</td>\n",
       "    </tr>\n",
       "    <tr>\n",
       "      <th>6</th>\n",
       "      <td>2021-02-10 15:00:00</td>\n",
       "      <td>-1 °C\\n(3:00 pm CET | Wednesday, February 10, ...</td>\n",
       "      <td>ERROR</td>\n",
       "      <td>3 m/s\\n(3:00 pm CET | Wednesday, February 10, ...</td>\n",
       "      <td>(unknown)\\n(3:00 pm CET | Wednesday, February ...</td>\n",
       "      <td>Moon Phase calculatorFebruary 10, 2021 15h</td>\n",
       "      <td>| waning crescent moon\\n1.80% illuminated</td>\n",
       "    </tr>\n",
       "    <tr>\n",
       "      <th>7</th>\n",
       "      <td>2021-02-10 16:00:00</td>\n",
       "      <td>-1 °C\\n(4:00 pm CET | Wednesday, February 10, ...</td>\n",
       "      <td>ERROR</td>\n",
       "      <td>3 m/s\\n(4:00 pm CET | Wednesday, February 10, ...</td>\n",
       "      <td>(unknown)\\n(4:00 pm CET | Wednesday, February ...</td>\n",
       "      <td>Moon Phase calculatorFebruary 10, 2021 16h</td>\n",
       "      <td>| waning crescent moon\\n1.69% illuminated</td>\n",
       "    </tr>\n",
       "    <tr>\n",
       "      <th>8</th>\n",
       "      <td>2021-02-10 17:00:00</td>\n",
       "      <td>-2 °C\\n(5:00 pm CET | Wednesday, February 10, ...</td>\n",
       "      <td>ERROR</td>\n",
       "      <td>3 m/s\\n(5:00 pm CET | Wednesday, February 10, ...</td>\n",
       "      <td>(unknown)\\n(5:00 pm CET | Wednesday, February ...</td>\n",
       "      <td>Moon Phase calculatorFebruary 10, 2021 17h</td>\n",
       "      <td>| waning crescent moon\\n1.58% illuminated</td>\n",
       "    </tr>\n",
       "    <tr>\n",
       "      <th>9</th>\n",
       "      <td>2021-02-10 18:00:00</td>\n",
       "      <td>-2 °C\\n(6:00 pm CET | Wednesday, February 10, ...</td>\n",
       "      <td>ERROR</td>\n",
       "      <td>3 m/s\\n(6:00 pm CET | Wednesday, February 10, ...</td>\n",
       "      <td>(unknown)\\n(6:00 pm CET | Wednesday, February ...</td>\n",
       "      <td>Moon Phase calculatorFebruary 10, 2021 18h</td>\n",
       "      <td>| waning crescent moon\\n1.48% illuminated</td>\n",
       "    </tr>\n",
       "    <tr>\n",
       "      <th>0</th>\n",
       "      <td>2021-02-10 19:00:00</td>\n",
       "      <td>-2 °C\\n(7:00 pm CET | Wednesday, February 10, ...</td>\n",
       "      <td>ERROR</td>\n",
       "      <td>4 m/s\\n(7:00 pm CET | Wednesday, February 10, ...</td>\n",
       "      <td>(unknown)\\n(7:00 pm CET | Wednesday, February ...</td>\n",
       "      <td>Moon Phase calculatorFebruary 10, 2021 19h</td>\n",
       "      <td>| waning crescent moon\\n1.38% illuminated</td>\n",
       "    </tr>\n",
       "    <tr>\n",
       "      <th>1</th>\n",
       "      <td>2021-02-10 20:00:00</td>\n",
       "      <td>-2 °C\\n(8:00 pm CET | Wednesday, February 10, ...</td>\n",
       "      <td>ERROR</td>\n",
       "      <td>4 m/s\\n(8:00 pm CET | Wednesday, February 10, ...</td>\n",
       "      <td>(unknown)\\n(8:00 pm CET | Wednesday, February ...</td>\n",
       "      <td>Moon Phase calculatorFebruary 10, 2021 20h</td>\n",
       "      <td>| waning crescent moon\\n1.28% illuminated</td>\n",
       "    </tr>\n",
       "    <tr>\n",
       "      <th>2</th>\n",
       "      <td>2021-02-10 21:00:00</td>\n",
       "      <td>-3 °C\\n(9:00 pm CET | Wednesday, February 10, ...</td>\n",
       "      <td>ERROR</td>\n",
       "      <td>4 m/s\\n(9:00 pm CET | Wednesday, February 10, ...</td>\n",
       "      <td>(unknown)\\n(9:00 pm CET | Wednesday, February ...</td>\n",
       "      <td>Moon Phase calculatorFebruary 10, 2021 21h</td>\n",
       "      <td>| waning crescent moon\\n1.19% illuminated</td>\n",
       "    </tr>\n",
       "    <tr>\n",
       "      <th>3</th>\n",
       "      <td>2021-02-10 22:00:00</td>\n",
       "      <td>-3 °C\\n(10:00 pm CET | Wednesday, February 10,...</td>\n",
       "      <td>ERROR</td>\n",
       "      <td>5 m/s\\n(10:00 pm CET | Wednesday, February 10,...</td>\n",
       "      <td>(unknown)\\n(10:00 pm CET | Wednesday, February...</td>\n",
       "      <td>Moon Phase calculatorFebruary 10, 2021 22h</td>\n",
       "      <td>| waning crescent moon\\n1.10% illuminated</td>\n",
       "    </tr>\n",
       "    <tr>\n",
       "      <th>4</th>\n",
       "      <td>2021-02-10 23:00:00</td>\n",
       "      <td>-3 °C\\n(11:00 pm CET | Wednesday, February 10,...</td>\n",
       "      <td>ERROR</td>\n",
       "      <td>5 m/s\\n(11:00 pm CET | Wednesday, February 10,...</td>\n",
       "      <td>(unknown)\\n(11:00 pm CET | Wednesday, February...</td>\n",
       "      <td>Moon Phase calculatorFebruary 10, 2021 23h</td>\n",
       "      <td>| waning crescent moon\\n1.01% illuminated</td>\n",
       "    </tr>\n",
       "    <tr>\n",
       "      <th>5</th>\n",
       "      <td>2021-03-28 01:00:00</td>\n",
       "      <td>1 °C\\n(1:00 am CEST | Sunday, March 28, 2021)</td>\n",
       "      <td>ERROR</td>\n",
       "      <td>1 m/s\\n(1:00 am CEST | Sunday, March 28, 2021)</td>\n",
       "      <td>(unknown)\\n(1:00 am CEST | Sunday, March 28, 2...</td>\n",
       "      <td>Moon Phase calculatorMarch 28, 2021 1h</td>\n",
       "      <td>| waxing gibbous moon\\n98.84% illuminated</td>\n",
       "    </tr>\n",
       "    <tr>\n",
       "      <th>6</th>\n",
       "      <td>2021-04-26 10:00:00</td>\n",
       "      <td>ERROR</td>\n",
       "      <td>ERROR</td>\n",
       "      <td>ERROR</td>\n",
       "      <td>(unknown)\\n(10:00 am CEST | Monday, April 26, ...</td>\n",
       "      <td>Moon Phase calculatorApril 26, 2021 10h</td>\n",
       "      <td>| waxing gibbous moon\\n98.89% illuminated</td>\n",
       "    </tr>\n",
       "  </tbody>\n",
       "</table>\n",
       "</div>"
      ],
      "text/plain": [
       "                 date                                        temperature  \\\n",
       "0 2020-11-05 22:00:00  8 °C\\n(10:00 pm CET | Thursday, November 5, 2020)   \n",
       "0 2020-11-16 19:00:00    7 °C\\n(7:00 pm CET | Monday, November 16, 2020)   \n",
       "2 2020-11-16 21:00:00    5 °C\\n(9:00 pm CET | Monday, November 16, 2020)   \n",
       "3 2020-12-15 21:00:00   4 °C\\n(9:00 pm CET | Tuesday, December 15, 2020)   \n",
       "4 2021-02-08 17:00:00     5 °C\\n(5:00 pm CET | Monday, February 8, 2021)   \n",
       "5 2021-02-08 18:00:00     4 °C\\n(6:00 pm CET | Monday, February 8, 2021)   \n",
       "6 2021-02-08 19:00:00     3 °C\\n(7:00 pm CET | Monday, February 8, 2021)   \n",
       "7 2021-02-08 20:00:00     2 °C\\n(8:00 pm CET | Monday, February 8, 2021)   \n",
       "8 2021-02-09 09:00:00    0 °C\\n(9:00 am CET | Tuesday, February 9, 2021)   \n",
       "9 2021-02-09 10:00:00   0 °C\\n(10:00 am CET | Tuesday, February 9, 2021)   \n",
       "0 2021-02-09 11:00:00   0 °C\\n(11:00 am CET | Tuesday, February 9, 2021)   \n",
       "1 2021-02-09 12:00:00   0 °C\\n(12:00 pm CET | Tuesday, February 9, 2021)   \n",
       "2 2021-02-09 13:00:00    0 °C\\n(1:00 pm CET | Tuesday, February 9, 2021)   \n",
       "3 2021-02-09 15:00:00    0 °C\\n(3:00 pm CET | Tuesday, February 9, 2021)   \n",
       "4 2021-02-09 16:00:00    0 °C\\n(4:00 pm CET | Tuesday, February 9, 2021)   \n",
       "5 2021-02-09 17:00:00    0 °C\\n(5:00 pm CET | Tuesday, February 9, 2021)   \n",
       "6 2021-02-09 18:00:00    0 °C\\n(6:00 pm CET | Tuesday, February 9, 2021)   \n",
       "7 2021-02-09 19:00:00    0 °C\\n(7:00 pm CET | Tuesday, February 9, 2021)   \n",
       "8 2021-02-09 20:00:00    0 °C\\n(8:00 pm CET | Tuesday, February 9, 2021)   \n",
       "9 2021-02-09 21:00:00    0 °C\\n(9:00 pm CET | Tuesday, February 9, 2021)   \n",
       "0 2021-02-09 22:00:00   0 °C\\n(10:00 pm CET | Tuesday, February 9, 2021)   \n",
       "1 2021-02-10 10:00:00  0 °C\\n(10:00 am CET | Wednesday, February 10, ...   \n",
       "2 2021-02-10 11:00:00  0 °C\\n(11:00 am CET | Wednesday, February 10, ...   \n",
       "3 2021-02-10 12:00:00  0 °C\\n(12:00 pm CET | Wednesday, February 10, ...   \n",
       "4 2021-02-10 13:00:00  0 °C\\n(1:00 pm CET | Wednesday, February 10, 2...   \n",
       "5 2021-02-10 14:00:00  -1 °C\\n(2:00 pm CET | Wednesday, February 10, ...   \n",
       "6 2021-02-10 15:00:00  -1 °C\\n(3:00 pm CET | Wednesday, February 10, ...   \n",
       "7 2021-02-10 16:00:00  -1 °C\\n(4:00 pm CET | Wednesday, February 10, ...   \n",
       "8 2021-02-10 17:00:00  -2 °C\\n(5:00 pm CET | Wednesday, February 10, ...   \n",
       "9 2021-02-10 18:00:00  -2 °C\\n(6:00 pm CET | Wednesday, February 10, ...   \n",
       "0 2021-02-10 19:00:00  -2 °C\\n(7:00 pm CET | Wednesday, February 10, ...   \n",
       "1 2021-02-10 20:00:00  -2 °C\\n(8:00 pm CET | Wednesday, February 10, ...   \n",
       "2 2021-02-10 21:00:00  -3 °C\\n(9:00 pm CET | Wednesday, February 10, ...   \n",
       "3 2021-02-10 22:00:00  -3 °C\\n(10:00 pm CET | Wednesday, February 10,...   \n",
       "4 2021-02-10 23:00:00  -3 °C\\n(11:00 pm CET | Wednesday, February 10,...   \n",
       "5 2021-03-28 01:00:00      1 °C\\n(1:00 am CEST | Sunday, March 28, 2021)   \n",
       "6 2021-04-26 10:00:00                                              ERROR   \n",
       "\n",
       "  humidity                                         wind speed  \\\n",
       "0    ERROR  1 m/s\\n(10:00 pm CET | Thursday, November 5, 2...   \n",
       "0    ERROR   1 m/s\\n(7:00 pm CET | Monday, November 16, 2020)   \n",
       "2    ERROR   0 m/s\\n(9:00 pm CET | Monday, November 16, 2020)   \n",
       "3    ERROR  1 m/s\\n(9:00 pm CET | Tuesday, December 15, 2020)   \n",
       "4    ERROR    5 m/s\\n(5:00 pm CET | Monday, February 8, 2021)   \n",
       "5    ERROR    5 m/s\\n(6:00 pm CET | Monday, February 8, 2021)   \n",
       "6    ERROR    4 m/s\\n(7:00 pm CET | Monday, February 8, 2021)   \n",
       "7    ERROR    4 m/s\\n(8:00 pm CET | Monday, February 8, 2021)   \n",
       "8    ERROR   1 m/s\\n(9:00 am CET | Tuesday, February 9, 2021)   \n",
       "9    ERROR  1 m/s\\n(10:00 am CET | Tuesday, February 9, 2021)   \n",
       "0    ERROR  1 m/s\\n(11:00 am CET | Tuesday, February 9, 2021)   \n",
       "1    ERROR  1 m/s\\n(12:00 pm CET | Tuesday, February 9, 2021)   \n",
       "2    ERROR   2 m/s\\n(1:00 pm CET | Tuesday, February 9, 2021)   \n",
       "3    ERROR   2 m/s\\n(3:00 pm CET | Tuesday, February 9, 2021)   \n",
       "4    ERROR   2 m/s\\n(4:00 pm CET | Tuesday, February 9, 2021)   \n",
       "5    ERROR   3 m/s\\n(5:00 pm CET | Tuesday, February 9, 2021)   \n",
       "6    ERROR   3 m/s\\n(6:00 pm CET | Tuesday, February 9, 2021)   \n",
       "7    ERROR   3 m/s\\n(7:00 pm CET | Tuesday, February 9, 2021)   \n",
       "8    ERROR   3 m/s\\n(8:00 pm CET | Tuesday, February 9, 2021)   \n",
       "9    ERROR   4 m/s\\n(9:00 pm CET | Tuesday, February 9, 2021)   \n",
       "0    ERROR  4 m/s\\n(10:00 pm CET | Tuesday, February 9, 2021)   \n",
       "1    ERROR  1 m/s\\n(10:00 am CET | Wednesday, February 10,...   \n",
       "2    ERROR  1 m/s\\n(11:00 am CET | Wednesday, February 10,...   \n",
       "3    ERROR  2 m/s\\n(12:00 pm CET | Wednesday, February 10,...   \n",
       "4    ERROR  2 m/s\\n(1:00 pm CET | Wednesday, February 10, ...   \n",
       "5    ERROR  2 m/s\\n(2:00 pm CET | Wednesday, February 10, ...   \n",
       "6    ERROR  3 m/s\\n(3:00 pm CET | Wednesday, February 10, ...   \n",
       "7    ERROR  3 m/s\\n(4:00 pm CET | Wednesday, February 10, ...   \n",
       "8    ERROR  3 m/s\\n(5:00 pm CET | Wednesday, February 10, ...   \n",
       "9    ERROR  3 m/s\\n(6:00 pm CET | Wednesday, February 10, ...   \n",
       "0    ERROR  4 m/s\\n(7:00 pm CET | Wednesday, February 10, ...   \n",
       "1    ERROR  4 m/s\\n(8:00 pm CET | Wednesday, February 10, ...   \n",
       "2    ERROR  4 m/s\\n(9:00 pm CET | Wednesday, February 10, ...   \n",
       "3    ERROR  5 m/s\\n(10:00 pm CET | Wednesday, February 10,...   \n",
       "4    ERROR  5 m/s\\n(11:00 pm CET | Wednesday, February 10,...   \n",
       "5    ERROR     1 m/s\\n(1:00 am CEST | Sunday, March 28, 2021)   \n",
       "6    ERROR                                              ERROR   \n",
       "\n",
       "                                Precipitation amount  \\\n",
       "0                                              ERROR   \n",
       "0                                              ERROR   \n",
       "2  (unknown)\\n(9:00 pm CET | Monday, November 16,...   \n",
       "3  (unknown)\\n(9:00 pm CET | Tuesday, December 15...   \n",
       "4  (unknown)\\n(5:00 pm CET | Monday, February 8, ...   \n",
       "5  (unknown)\\n(6:00 pm CET | Monday, February 8, ...   \n",
       "6  (unknown)\\n(7:00 pm CET | Monday, February 8, ...   \n",
       "7  (unknown)\\n(8:00 pm CET | Monday, February 8, ...   \n",
       "8  (unknown)\\n(9:00 am CET | Tuesday, February 9,...   \n",
       "9  (unknown)\\n(10:00 am CET | Tuesday, February 9...   \n",
       "0  (unknown)\\n(11:00 am CET | Tuesday, February 9...   \n",
       "1  (unknown)\\n(12:00 pm CET | Tuesday, February 9...   \n",
       "2  (unknown)\\n(1:00 pm CET | Tuesday, February 9,...   \n",
       "3  (unknown)\\n(3:00 pm CET | Tuesday, February 9,...   \n",
       "4  (unknown)\\n(4:00 pm CET | Tuesday, February 9,...   \n",
       "5  (unknown)\\n(5:00 pm CET | Tuesday, February 9,...   \n",
       "6  (unknown)\\n(6:00 pm CET | Tuesday, February 9,...   \n",
       "7  (unknown)\\n(7:00 pm CET | Tuesday, February 9,...   \n",
       "8  (unknown)\\n(8:00 pm CET | Tuesday, February 9,...   \n",
       "9  (unknown)\\n(9:00 pm CET | Tuesday, February 9,...   \n",
       "0  (unknown)\\n(10:00 pm CET | Tuesday, February 9...   \n",
       "1  (unknown)\\n(10:00 am CET | Wednesday, February...   \n",
       "2  (unknown)\\n(11:00 am CET | Wednesday, February...   \n",
       "3  (unknown)\\n(12:00 pm CET | Wednesday, February...   \n",
       "4  (unknown)\\n(1:00 pm CET | Wednesday, February ...   \n",
       "5  (unknown)\\n(2:00 pm CET | Wednesday, February ...   \n",
       "6  (unknown)\\n(3:00 pm CET | Wednesday, February ...   \n",
       "7  (unknown)\\n(4:00 pm CET | Wednesday, February ...   \n",
       "8  (unknown)\\n(5:00 pm CET | Wednesday, February ...   \n",
       "9  (unknown)\\n(6:00 pm CET | Wednesday, February ...   \n",
       "0  (unknown)\\n(7:00 pm CET | Wednesday, February ...   \n",
       "1  (unknown)\\n(8:00 pm CET | Wednesday, February ...   \n",
       "2  (unknown)\\n(9:00 pm CET | Wednesday, February ...   \n",
       "3  (unknown)\\n(10:00 pm CET | Wednesday, February...   \n",
       "4  (unknown)\\n(11:00 pm CET | Wednesday, February...   \n",
       "5  (unknown)\\n(1:00 am CEST | Sunday, March 28, 2...   \n",
       "6  (unknown)\\n(10:00 am CEST | Monday, April 26, ...   \n",
       "\n",
       "                                        query  \\\n",
       "0   Moon Phase calculatorNovember 5, 2020 22h   \n",
       "0  Moon Phase calculatorNovember 16, 2020 19h   \n",
       "2  Moon Phase calculatorNovember 16, 2020 21h   \n",
       "3  Moon Phase calculatorDecember 15, 2020 21h   \n",
       "4   Moon Phase calculatorFebruary 8, 2021 17h   \n",
       "5   Moon Phase calculatorFebruary 8, 2021 18h   \n",
       "6   Moon Phase calculatorFebruary 8, 2021 19h   \n",
       "7   Moon Phase calculatorFebruary 8, 2021 20h   \n",
       "8    Moon Phase calculatorFebruary 9, 2021 9h   \n",
       "9   Moon Phase calculatorFebruary 9, 2021 10h   \n",
       "0   Moon Phase calculatorFebruary 9, 2021 11h   \n",
       "1   Moon Phase calculatorFebruary 9, 2021 12h   \n",
       "2   Moon Phase calculatorFebruary 9, 2021 13h   \n",
       "3   Moon Phase calculatorFebruary 9, 2021 15h   \n",
       "4   Moon Phase calculatorFebruary 9, 2021 16h   \n",
       "5   Moon Phase calculatorFebruary 9, 2021 17h   \n",
       "6   Moon Phase calculatorFebruary 9, 2021 18h   \n",
       "7   Moon Phase calculatorFebruary 9, 2021 19h   \n",
       "8   Moon Phase calculatorFebruary 9, 2021 20h   \n",
       "9   Moon Phase calculatorFebruary 9, 2021 21h   \n",
       "0   Moon Phase calculatorFebruary 9, 2021 22h   \n",
       "1  Moon Phase calculatorFebruary 10, 2021 10h   \n",
       "2  Moon Phase calculatorFebruary 10, 2021 11h   \n",
       "3  Moon Phase calculatorFebruary 10, 2021 12h   \n",
       "4  Moon Phase calculatorFebruary 10, 2021 13h   \n",
       "5  Moon Phase calculatorFebruary 10, 2021 14h   \n",
       "6  Moon Phase calculatorFebruary 10, 2021 15h   \n",
       "7  Moon Phase calculatorFebruary 10, 2021 16h   \n",
       "8  Moon Phase calculatorFebruary 10, 2021 17h   \n",
       "9  Moon Phase calculatorFebruary 10, 2021 18h   \n",
       "0  Moon Phase calculatorFebruary 10, 2021 19h   \n",
       "1  Moon Phase calculatorFebruary 10, 2021 20h   \n",
       "2  Moon Phase calculatorFebruary 10, 2021 21h   \n",
       "3  Moon Phase calculatorFebruary 10, 2021 22h   \n",
       "4  Moon Phase calculatorFebruary 10, 2021 23h   \n",
       "5      Moon Phase calculatorMarch 28, 2021 1h   \n",
       "6     Moon Phase calculatorApril 26, 2021 10h   \n",
       "\n",
       "                        Moon Phase calculator  \n",
       "0   | waning gibbous moon\\n76.55% illuminated  \n",
       "0   | waxing crescent moon\\n3.48% illuminated  \n",
       "2   | waxing crescent moon\\n3.86% illuminated  \n",
       "3                                       ERROR  \n",
       "4  | waning crescent moon\\n11.27% illuminated  \n",
       "5  | waning crescent moon\\n10.98% illuminated  \n",
       "6  | waning crescent moon\\n10.69% illuminated  \n",
       "7  | waning crescent moon\\n10.41% illuminated  \n",
       "8   | waning crescent moon\\n7.06% illuminated  \n",
       "9   | waning crescent moon\\n6.82% illuminated  \n",
       "0   | waning crescent moon\\n6.60% illuminated  \n",
       "1   | waning crescent moon\\n6.37% illuminated  \n",
       "2   | waning crescent moon\\n6.15% illuminated  \n",
       "3   | waning crescent moon\\n5.72% illuminated  \n",
       "4   | waning crescent moon\\n5.51% illuminated  \n",
       "5   | waning crescent moon\\n5.31% illuminated  \n",
       "6   | waning crescent moon\\n5.11% illuminated  \n",
       "7   | waning crescent moon\\n4.91% illuminated  \n",
       "8   | waning crescent moon\\n4.72% illuminated  \n",
       "9   | waning crescent moon\\n4.53% illuminated  \n",
       "0   | waning crescent moon\\n4.34% illuminated  \n",
       "1   | waning crescent moon\\n2.43% illuminated  \n",
       "2   | waning crescent moon\\n2.30% illuminated  \n",
       "3   | waning crescent moon\\n2.17% illuminated  \n",
       "4   | waning crescent moon\\n2.04% illuminated  \n",
       "5   | waning crescent moon\\n1.92% illuminated  \n",
       "6   | waning crescent moon\\n1.80% illuminated  \n",
       "7   | waning crescent moon\\n1.69% illuminated  \n",
       "8   | waning crescent moon\\n1.58% illuminated  \n",
       "9   | waning crescent moon\\n1.48% illuminated  \n",
       "0   | waning crescent moon\\n1.38% illuminated  \n",
       "1   | waning crescent moon\\n1.28% illuminated  \n",
       "2   | waning crescent moon\\n1.19% illuminated  \n",
       "3   | waning crescent moon\\n1.10% illuminated  \n",
       "4   | waning crescent moon\\n1.01% illuminated  \n",
       "5   | waxing gibbous moon\\n98.84% illuminated  \n",
       "6   | waxing gibbous moon\\n98.89% illuminated  "
      ]
     },
     "execution_count": 6,
     "metadata": {},
     "output_type": "execute_result"
    }
   ],
   "source": [
    "print(df[df.isin([\"ERROR\"]).any(axis=1)].shape)\n",
    "df[df.isin([\"ERROR\"]).any(axis=1)]"
   ]
  },
  {
   "cell_type": "markdown",
   "metadata": {},
   "source": [
    "df['day'] = df['date'].map(lambda x: dt.datetime.date(x))\n",
    "df['day'].value_counts()"
   ]
  },
  {
   "cell_type": "markdown",
   "metadata": {},
   "source": [
    "#add lune to weather data\n",
    "#dico_d_m = {}\n",
    "for d in tqdm.tqdm(Daterange):\n",
    "    now_ = dt.datetime.now()\n",
    "    #dont get the data in advance\n",
    "    if d<now_:   \n",
    "        if d not in dico_d_m:\n",
    "            try:\n",
    "                query = 'Moon Phase calculator'+d.strftime('%B')+' '+str(d.day)+', '+str(d.year)+' '+str(d.hour)+'h'\n",
    "                res = client.query(query) \n",
    "                for t in res.results:\n",
    "                    dico_d_m[d] = t.text.strip('|').strip(' ')\n",
    "            except Exception as e:\n",
    "                print('ERROR')\n",
    "                print(e)\n",
    "#df['Moon Phase calculator'] = df['date'].map(lambda x: dico_d_m.get(x, 'ERROR'))\n",
    "#print(df[df['Moonphase']=='ERROR'].shape)\n",
    "df"
   ]
  },
  {
   "cell_type": "markdown",
   "metadata": {},
   "source": [
    "df = df.drop(['MoonName','Moon Phase calculator'],axis=1)"
   ]
  },
  {
   "cell_type": "markdown",
   "metadata": {},
   "source": [
    "# Process"
   ]
  },
  {
   "cell_type": "code",
   "execution_count": 7,
   "metadata": {},
   "outputs": [
    {
     "name": "stdout",
     "output_type": "stream",
     "text": [
      "(4989, 13)\n"
     ]
    },
    {
     "data": {
      "text/html": [
       "<div>\n",
       "<style scoped>\n",
       "    .dataframe tbody tr th:only-of-type {\n",
       "        vertical-align: middle;\n",
       "    }\n",
       "\n",
       "    .dataframe tbody tr th {\n",
       "        vertical-align: top;\n",
       "    }\n",
       "\n",
       "    .dataframe thead th {\n",
       "        text-align: right;\n",
       "    }\n",
       "</style>\n",
       "<table border=\"1\" class=\"dataframe\">\n",
       "  <thead>\n",
       "    <tr style=\"text-align: right;\">\n",
       "      <th></th>\n",
       "      <th>Timestamp</th>\n",
       "      <th>temperature</th>\n",
       "      <th>humidity</th>\n",
       "      <th>wind speed</th>\n",
       "      <th>Precipitation amount</th>\n",
       "      <th>query</th>\n",
       "      <th>Moon Phase calculator</th>\n",
       "      <th>date</th>\n",
       "      <th>hour</th>\n",
       "      <th>temperature_C</th>\n",
       "      <th>wind_speed_mpers</th>\n",
       "      <th>humidity_avgpercent</th>\n",
       "      <th>rain</th>\n",
       "    </tr>\n",
       "  </thead>\n",
       "  <tbody>\n",
       "    <tr>\n",
       "      <th>0</th>\n",
       "      <td>2020-09-29 00:00:00</td>\n",
       "      <td>10 °C\\n(12:00 am CEST | Tuesday, September 29,...</td>\n",
       "      <td>average: 100% (100%)\\n(12:00 am CEST | Tuesday...</td>\n",
       "      <td>2 m/s\\n(12:00 am CEST | Tuesday, September 29,...</td>\n",
       "      <td>rain\\n(12:00 am CEST | Tuesday, September 29, ...</td>\n",
       "      <td>Moon Phase calculatorSeptember 29, 2020 0h</td>\n",
       "      <td>| waxing gibbous moon\\n91.87% illuminated</td>\n",
       "      <td>2020-09-29</td>\n",
       "      <td>0</td>\n",
       "      <td>10</td>\n",
       "      <td>2</td>\n",
       "      <td>100</td>\n",
       "      <td>rain</td>\n",
       "    </tr>\n",
       "    <tr>\n",
       "      <th>1</th>\n",
       "      <td>2020-09-29 01:00:00</td>\n",
       "      <td>10 °C\\n(1:00 am CEST | Tuesday, September 29, ...</td>\n",
       "      <td>average: 100% (100%)\\n(1:00 am CEST | Tuesday,...</td>\n",
       "      <td>3 m/s\\n(1:00 am CEST | Tuesday, September 29, ...</td>\n",
       "      <td>rain\\n(1:00 am CEST | Tuesday, September 29, 2...</td>\n",
       "      <td>Moon Phase calculatorSeptember 29, 2020 1h</td>\n",
       "      <td>| waxing gibbous moon\\n92.09% illuminated</td>\n",
       "      <td>2020-09-29</td>\n",
       "      <td>1</td>\n",
       "      <td>10</td>\n",
       "      <td>3</td>\n",
       "      <td>100</td>\n",
       "      <td>rain</td>\n",
       "    </tr>\n",
       "    <tr>\n",
       "      <th>2</th>\n",
       "      <td>2020-09-29 02:00:00</td>\n",
       "      <td>10 °C\\n(2:00 am CEST | Tuesday, September 29, ...</td>\n",
       "      <td>average: 100% (100%)\\n(2:00 am CEST | Tuesday,...</td>\n",
       "      <td>3 m/s\\n(2:00 am CEST | Tuesday, September 29, ...</td>\n",
       "      <td>rain\\n(2:00 am CEST | Tuesday, September 29, 2...</td>\n",
       "      <td>Moon Phase calculatorSeptember 29, 2020 2h</td>\n",
       "      <td>| waxing gibbous moon\\n92.30% illuminated</td>\n",
       "      <td>2020-09-29</td>\n",
       "      <td>2</td>\n",
       "      <td>10</td>\n",
       "      <td>3</td>\n",
       "      <td>100</td>\n",
       "      <td>rain</td>\n",
       "    </tr>\n",
       "  </tbody>\n",
       "</table>\n",
       "</div>"
      ],
      "text/plain": [
       "            Timestamp                                        temperature  \\\n",
       "0 2020-09-29 00:00:00  10 °C\\n(12:00 am CEST | Tuesday, September 29,...   \n",
       "1 2020-09-29 01:00:00  10 °C\\n(1:00 am CEST | Tuesday, September 29, ...   \n",
       "2 2020-09-29 02:00:00  10 °C\\n(2:00 am CEST | Tuesday, September 29, ...   \n",
       "\n",
       "                                            humidity  \\\n",
       "0  average: 100% (100%)\\n(12:00 am CEST | Tuesday...   \n",
       "1  average: 100% (100%)\\n(1:00 am CEST | Tuesday,...   \n",
       "2  average: 100% (100%)\\n(2:00 am CEST | Tuesday,...   \n",
       "\n",
       "                                          wind speed  \\\n",
       "0  2 m/s\\n(12:00 am CEST | Tuesday, September 29,...   \n",
       "1  3 m/s\\n(1:00 am CEST | Tuesday, September 29, ...   \n",
       "2  3 m/s\\n(2:00 am CEST | Tuesday, September 29, ...   \n",
       "\n",
       "                                Precipitation amount  \\\n",
       "0  rain\\n(12:00 am CEST | Tuesday, September 29, ...   \n",
       "1  rain\\n(1:00 am CEST | Tuesday, September 29, 2...   \n",
       "2  rain\\n(2:00 am CEST | Tuesday, September 29, 2...   \n",
       "\n",
       "                                        query  \\\n",
       "0  Moon Phase calculatorSeptember 29, 2020 0h   \n",
       "1  Moon Phase calculatorSeptember 29, 2020 1h   \n",
       "2  Moon Phase calculatorSeptember 29, 2020 2h   \n",
       "\n",
       "                       Moon Phase calculator       date  hour  temperature_C  \\\n",
       "0  | waxing gibbous moon\\n91.87% illuminated 2020-09-29     0             10   \n",
       "1  | waxing gibbous moon\\n92.09% illuminated 2020-09-29     1             10   \n",
       "2  | waxing gibbous moon\\n92.30% illuminated 2020-09-29     2             10   \n",
       "\n",
       "   wind_speed_mpers  humidity_avgpercent  rain  \n",
       "0                 2                  100  rain  \n",
       "1                 3                  100  rain  \n",
       "2                 3                  100  rain  "
      ]
     },
     "execution_count": 7,
     "metadata": {},
     "output_type": "execute_result"
    }
   ],
   "source": [
    "#add weather as environemntal factor\n",
    "path_ = r'C:\\Users\\camil\\Desktop\\vm_exchange\\PhD_Data\\Weather'\n",
    "path_weather = os.path.join(path_,'weather.csv')\n",
    "df_weather = pd.read_csv(path_weather, sep=';', parse_dates=['date'])\n",
    "df_weather = df_weather.drop_duplicates(subset=None, keep='first', inplace=False)\n",
    "#remove excpetions\n",
    "x = ', 1, 0,  , °, C, \\n, (, 1, 2, :, 0, 0,  , a, m,  , C, E, T , | , F, r, i, d, a, y, ,,  , O, c, t, o, b, e, r,  , 3, 0, ,,  , 2, 0, 2, 0, ),'\n",
    "df_weather['temperature'] = df_weather['temperature'].replace(x, x.replace(', ',''))\n",
    "x = '3×10^0 m/s\\n(1:00 pm CET | Sunday, January 10, 2021)'\n",
    "df_weather['wind speed'] = df_weather['wind speed'].replace(x, 'ERROR')\n",
    "#remove the rows with at least one error\n",
    "df_weather = df_weather[~df_weather.isin([\"ERROR\"]).any(axis=1)]\n",
    "#date\n",
    "df_weather.rename(columns={'date':'Timestamp'}, inplace=True)\n",
    "df_weather['date'] = df_weather['Timestamp'].map(lambda x: dt.datetime(x.year,x.month,x.day))\n",
    "df_weather['hour'] = df_weather['Timestamp'].map(lambda x: x.hour)\n",
    "#add usefull variable\n",
    "df_weather['temperature_C'] = df_weather['temperature'].map(lambda x: int(x.split('\\n')[0].split(' ')[0]))\n",
    "df_weather['wind_speed_mpers'] = df_weather['wind speed'].map(lambda x: int(x.split('\\n')[0].split(' ')[0]))\n",
    "df_weather['humidity_avgpercent'] = df_weather['humidity'].map(lambda x: int(x.split('%')[0].split(' ')[-1].strip()))\n",
    "df_weather['rain'] = df_weather['Precipitation amount'].map(lambda x: x.split('\\n')[0])\n",
    "df_weather['rain'] = df_weather['rain'].replace('rain | snow','snow | rain')\n",
    "df_weather.to_csv(os.path.join(path_,'Weather_process.csv'), index=False, sep=';')\n",
    "print(df_weather.shape)\n",
    "df_weather.head(3)"
   ]
  },
  {
   "cell_type": "code",
   "execution_count": 8,
   "metadata": {},
   "outputs": [
    {
     "data": {
      "text/html": [
       "<div>\n",
       "<style scoped>\n",
       "    .dataframe tbody tr th:only-of-type {\n",
       "        vertical-align: middle;\n",
       "    }\n",
       "\n",
       "    .dataframe tbody tr th {\n",
       "        vertical-align: top;\n",
       "    }\n",
       "\n",
       "    .dataframe thead th {\n",
       "        text-align: right;\n",
       "    }\n",
       "</style>\n",
       "<table border=\"1\" class=\"dataframe\">\n",
       "  <thead>\n",
       "    <tr style=\"text-align: right;\">\n",
       "      <th></th>\n",
       "      <th>Timestamp</th>\n",
       "      <th>temperature</th>\n",
       "      <th>humidity</th>\n",
       "      <th>wind speed</th>\n",
       "      <th>Precipitation amount</th>\n",
       "      <th>query</th>\n",
       "      <th>Moon Phase calculator</th>\n",
       "      <th>date</th>\n",
       "      <th>hour</th>\n",
       "      <th>temperature_C</th>\n",
       "      <th>wind_speed_mpers</th>\n",
       "      <th>humidity_avgpercent</th>\n",
       "      <th>rain</th>\n",
       "      <th>MoonName</th>\n",
       "      <th>Illumination_percentage</th>\n",
       "      <th>croissant_decroissant</th>\n",
       "    </tr>\n",
       "  </thead>\n",
       "  <tbody>\n",
       "    <tr>\n",
       "      <th>0</th>\n",
       "      <td>2020-09-29 00:00:00</td>\n",
       "      <td>10 °C\\n(12:00 am CEST | Tuesday, September 29,...</td>\n",
       "      <td>average: 100% (100%)\\n(12:00 am CEST | Tuesday...</td>\n",
       "      <td>2 m/s\\n(12:00 am CEST | Tuesday, September 29,...</td>\n",
       "      <td>rain\\n(12:00 am CEST | Tuesday, September 29, ...</td>\n",
       "      <td>Moon Phase calculatorSeptember 29, 2020 0h</td>\n",
       "      <td>| waxing gibbous moon\\n91.87% illuminated</td>\n",
       "      <td>2020-09-29</td>\n",
       "      <td>0</td>\n",
       "      <td>10</td>\n",
       "      <td>2</td>\n",
       "      <td>100</td>\n",
       "      <td>rain</td>\n",
       "      <td>waxing gibbous moon</td>\n",
       "      <td>91.87</td>\n",
       "      <td>LC</td>\n",
       "    </tr>\n",
       "    <tr>\n",
       "      <th>1</th>\n",
       "      <td>2020-09-29 01:00:00</td>\n",
       "      <td>10 °C\\n(1:00 am CEST | Tuesday, September 29, ...</td>\n",
       "      <td>average: 100% (100%)\\n(1:00 am CEST | Tuesday,...</td>\n",
       "      <td>3 m/s\\n(1:00 am CEST | Tuesday, September 29, ...</td>\n",
       "      <td>rain\\n(1:00 am CEST | Tuesday, September 29, 2...</td>\n",
       "      <td>Moon Phase calculatorSeptember 29, 2020 1h</td>\n",
       "      <td>| waxing gibbous moon\\n92.09% illuminated</td>\n",
       "      <td>2020-09-29</td>\n",
       "      <td>1</td>\n",
       "      <td>10</td>\n",
       "      <td>3</td>\n",
       "      <td>100</td>\n",
       "      <td>rain</td>\n",
       "      <td>waxing gibbous moon</td>\n",
       "      <td>92.09</td>\n",
       "      <td>LC</td>\n",
       "    </tr>\n",
       "    <tr>\n",
       "      <th>2</th>\n",
       "      <td>2020-09-29 02:00:00</td>\n",
       "      <td>10 °C\\n(2:00 am CEST | Tuesday, September 29, ...</td>\n",
       "      <td>average: 100% (100%)\\n(2:00 am CEST | Tuesday,...</td>\n",
       "      <td>3 m/s\\n(2:00 am CEST | Tuesday, September 29, ...</td>\n",
       "      <td>rain\\n(2:00 am CEST | Tuesday, September 29, 2...</td>\n",
       "      <td>Moon Phase calculatorSeptember 29, 2020 2h</td>\n",
       "      <td>| waxing gibbous moon\\n92.30% illuminated</td>\n",
       "      <td>2020-09-29</td>\n",
       "      <td>2</td>\n",
       "      <td>10</td>\n",
       "      <td>3</td>\n",
       "      <td>100</td>\n",
       "      <td>rain</td>\n",
       "      <td>waxing gibbous moon</td>\n",
       "      <td>92.30</td>\n",
       "      <td>LC</td>\n",
       "    </tr>\n",
       "  </tbody>\n",
       "</table>\n",
       "</div>"
      ],
      "text/plain": [
       "            Timestamp                                        temperature  \\\n",
       "0 2020-09-29 00:00:00  10 °C\\n(12:00 am CEST | Tuesday, September 29,...   \n",
       "1 2020-09-29 01:00:00  10 °C\\n(1:00 am CEST | Tuesday, September 29, ...   \n",
       "2 2020-09-29 02:00:00  10 °C\\n(2:00 am CEST | Tuesday, September 29, ...   \n",
       "\n",
       "                                            humidity  \\\n",
       "0  average: 100% (100%)\\n(12:00 am CEST | Tuesday...   \n",
       "1  average: 100% (100%)\\n(1:00 am CEST | Tuesday,...   \n",
       "2  average: 100% (100%)\\n(2:00 am CEST | Tuesday,...   \n",
       "\n",
       "                                          wind speed  \\\n",
       "0  2 m/s\\n(12:00 am CEST | Tuesday, September 29,...   \n",
       "1  3 m/s\\n(1:00 am CEST | Tuesday, September 29, ...   \n",
       "2  3 m/s\\n(2:00 am CEST | Tuesday, September 29, ...   \n",
       "\n",
       "                                Precipitation amount  \\\n",
       "0  rain\\n(12:00 am CEST | Tuesday, September 29, ...   \n",
       "1  rain\\n(1:00 am CEST | Tuesday, September 29, 2...   \n",
       "2  rain\\n(2:00 am CEST | Tuesday, September 29, 2...   \n",
       "\n",
       "                                        query  \\\n",
       "0  Moon Phase calculatorSeptember 29, 2020 0h   \n",
       "1  Moon Phase calculatorSeptember 29, 2020 1h   \n",
       "2  Moon Phase calculatorSeptember 29, 2020 2h   \n",
       "\n",
       "                       Moon Phase calculator       date  hour  temperature_C  \\\n",
       "0  | waxing gibbous moon\\n91.87% illuminated 2020-09-29     0             10   \n",
       "1  | waxing gibbous moon\\n92.09% illuminated 2020-09-29     1             10   \n",
       "2  | waxing gibbous moon\\n92.30% illuminated 2020-09-29     2             10   \n",
       "\n",
       "   wind_speed_mpers  humidity_avgpercent  rain             MoonName  \\\n",
       "0                 2                  100  rain  waxing gibbous moon   \n",
       "1                 3                  100  rain  waxing gibbous moon   \n",
       "2                 3                  100  rain  waxing gibbous moon   \n",
       "\n",
       "   Illumination_percentage croissant_decroissant  \n",
       "0                    91.87                    LC  \n",
       "1                    92.09                    LC  \n",
       "2                    92.30                    LC  "
      ]
     },
     "execution_count": 8,
     "metadata": {},
     "output_type": "execute_result"
    }
   ],
   "source": [
    "df_weather['MoonName'] = df_weather['Moon Phase calculator'].map(lambda x: x.strip('|').strip(' ').split('\\n')[0] if x!='ERROR' else 'ERROR')\n",
    "df_weather['Illumination_percentage'] = df_weather['Moon Phase calculator'].map(lambda x: float(x.strip('|').strip(' ').split('\\n')[1].replace(' illuminated','').strip('%').strip(' ')) if x!='ERROR' else 'ERROR')\n",
    "#print(df['MoaonName'].value_counts())\n",
    "#df['Illumination_percentage'].value_counts()\n",
    "\n",
    "dico_CD = {'ERROR':'ERROR', \n",
    "           'first quarter moon':'LC', \n",
    "           'full moon':'Lchangement', \n",
    "           'last quarter moon':'DC',\n",
    "           'new moon':'Lchangement', \n",
    "           'waning crescent moon':'DC', \n",
    "           'waning gibbous moon':'DC',\n",
    "           'waxing crescent moon':'LC', \n",
    "           'waxing gibbous moon':'LC'}\n",
    "#it seems that the order of the events are as follow:\n",
    "#full moon, waning gibbous moon, last quarter moon, waning crescent moon, \n",
    "#new moon, waxing crescent moon, first quarter moon, waxing gibbous moon,\n",
    "#full moon,...\n",
    "#defintion: De la Nouvelle Lune (éclat minimum) à la Pleine Lune (éclat maximum) on dit que la Lune est Croissante car \n",
    "#sa partie éclairée grossit de jour en jour. De la Pleine Lune à la Nouvelle Lune, on dit que la Lune est Décroissante.\n",
    "df_weather['croissant_decroissant'] = df_weather['MoonName'].map(lambda x: dico_CD[x])\n",
    "#lucie ascendatne et descendante n'est pas indiqué ici.\n",
    "df_weather.head(3)"
   ]
  },
  {
   "cell_type": "code",
   "execution_count": 9,
   "metadata": {},
   "outputs": [
    {
     "data": {
      "text/plain": [
       "LC             2486\n",
       "DC             2243\n",
       "Lchangement     260\n",
       "Name: croissant_decroissant, dtype: int64"
      ]
     },
     "execution_count": 9,
     "metadata": {},
     "output_type": "execute_result"
    }
   ],
   "source": [
    "df_weather['croissant_decroissant'].value_counts()"
   ]
  },
  {
   "cell_type": "code",
   "execution_count": 10,
   "metadata": {},
   "outputs": [
    {
     "data": {
      "text/html": [
       "<div>\n",
       "<style scoped>\n",
       "    .dataframe tbody tr th:only-of-type {\n",
       "        vertical-align: middle;\n",
       "    }\n",
       "\n",
       "    .dataframe tbody tr th {\n",
       "        vertical-align: top;\n",
       "    }\n",
       "\n",
       "    .dataframe thead th {\n",
       "        text-align: right;\n",
       "    }\n",
       "</style>\n",
       "<table border=\"1\" class=\"dataframe\">\n",
       "  <thead>\n",
       "    <tr style=\"text-align: right;\">\n",
       "      <th></th>\n",
       "      <th>MoonName</th>\n",
       "      <th>Illumination_percentage</th>\n",
       "      <th>min_illumination</th>\n",
       "      <th>max_illumination</th>\n",
       "    </tr>\n",
       "  </thead>\n",
       "  <tbody>\n",
       "    <tr>\n",
       "      <th>0</th>\n",
       "      <td>first quarter moon</td>\n",
       "      <td>[44.7, 45.14, 45.58, 46.02, 46.46, 46.9, 47.34...</td>\n",
       "      <td>44.69</td>\n",
       "      <td>55.24</td>\n",
       "    </tr>\n",
       "    <tr>\n",
       "      <th>1</th>\n",
       "      <td>full moon</td>\n",
       "      <td>[99.74, 99.76, 99.78, 99.79, 99.81, 99.82, 99....</td>\n",
       "      <td>99.72</td>\n",
       "      <td>99.99</td>\n",
       "    </tr>\n",
       "    <tr>\n",
       "      <th>2</th>\n",
       "      <td>last quarter moon</td>\n",
       "      <td>[55.07, 54.65, 54.23, 53.81, 53.39, 52.96, 52....</td>\n",
       "      <td>44.73</td>\n",
       "      <td>55.22</td>\n",
       "    </tr>\n",
       "    <tr>\n",
       "      <th>3</th>\n",
       "      <td>new moon</td>\n",
       "      <td>[0.27, 0.23, 0.21, 0.18, 0.16, 0.15, 0.14, 0.1...</td>\n",
       "      <td>0.00</td>\n",
       "      <td>0.28</td>\n",
       "    </tr>\n",
       "    <tr>\n",
       "      <th>4</th>\n",
       "      <td>waning crescent moon</td>\n",
       "      <td>[44.38, 43.95, 43.51, 43.08, 42.65, 42.21, 41....</td>\n",
       "      <td>0.29</td>\n",
       "      <td>44.68</td>\n",
       "    </tr>\n",
       "    <tr>\n",
       "      <th>5</th>\n",
       "      <td>waning gibbous moon</td>\n",
       "      <td>[99.71, 99.68, 99.65, 99.61, 99.58, 99.54, 99....</td>\n",
       "      <td>55.34</td>\n",
       "      <td>99.71</td>\n",
       "    </tr>\n",
       "    <tr>\n",
       "      <th>6</th>\n",
       "      <td>waxing crescent moon</td>\n",
       "      <td>[0.32, 0.37, 0.42, 0.48, 0.54, 0.61, 0.68, 0.7...</td>\n",
       "      <td>0.28</td>\n",
       "      <td>44.64</td>\n",
       "    </tr>\n",
       "    <tr>\n",
       "      <th>7</th>\n",
       "      <td>waxing gibbous moon</td>\n",
       "      <td>[91.87, 92.09, 92.3, 92.51, 92.73, 92.93, 93.1...</td>\n",
       "      <td>55.34</td>\n",
       "      <td>99.71</td>\n",
       "    </tr>\n",
       "  </tbody>\n",
       "</table>\n",
       "</div>"
      ],
      "text/plain": [
       "               MoonName                            Illumination_percentage  \\\n",
       "0    first quarter moon  [44.7, 45.14, 45.58, 46.02, 46.46, 46.9, 47.34...   \n",
       "1             full moon  [99.74, 99.76, 99.78, 99.79, 99.81, 99.82, 99....   \n",
       "2     last quarter moon  [55.07, 54.65, 54.23, 53.81, 53.39, 52.96, 52....   \n",
       "3              new moon  [0.27, 0.23, 0.21, 0.18, 0.16, 0.15, 0.14, 0.1...   \n",
       "4  waning crescent moon  [44.38, 43.95, 43.51, 43.08, 42.65, 42.21, 41....   \n",
       "5   waning gibbous moon  [99.71, 99.68, 99.65, 99.61, 99.58, 99.54, 99....   \n",
       "6  waxing crescent moon  [0.32, 0.37, 0.42, 0.48, 0.54, 0.61, 0.68, 0.7...   \n",
       "7   waxing gibbous moon  [91.87, 92.09, 92.3, 92.51, 92.73, 92.93, 93.1...   \n",
       "\n",
       "   min_illumination  max_illumination  \n",
       "0             44.69             55.24  \n",
       "1             99.72             99.99  \n",
       "2             44.73             55.22  \n",
       "3              0.00              0.28  \n",
       "4              0.29             44.68  \n",
       "5             55.34             99.71  \n",
       "6              0.28             44.64  \n",
       "7             55.34             99.71  "
      ]
     },
     "execution_count": 10,
     "metadata": {},
     "output_type": "execute_result"
    }
   ],
   "source": [
    "#to get a general udnerstanding of the data\n",
    "df_moon = df_weather.groupby(['MoonName'])['Illumination_percentage'].agg(lambda x: list(x)).reset_index()\n",
    "df_moon['min_illumination'] = df_moon['Illumination_percentage'].map(lambda x: min(x) if x!='ERROR' else 'ERROR' )\n",
    "df_moon['max_illumination'] = df_moon['Illumination_percentage'].map(lambda x: max(x) if x!='ERROR' else 'ERROR' )\n",
    "df_moon"
   ]
  },
  {
   "cell_type": "code",
   "execution_count": 11,
   "metadata": {},
   "outputs": [
    {
     "data": {
      "text/plain": [
       "'Moon Phase calculatorSeptember 29, 2020 0h'"
      ]
     },
     "execution_count": 11,
     "metadata": {},
     "output_type": "execute_result"
    }
   ],
   "source": [
    "df_weather['query'].iloc[0]"
   ]
  },
  {
   "cell_type": "code",
   "execution_count": 12,
   "metadata": {},
   "outputs": [
    {
     "name": "stdout",
     "output_type": "stream",
     "text": [
      "(208, 6)\n"
     ]
    },
    {
     "data": {
      "text/html": [
       "<div>\n",
       "<style scoped>\n",
       "    .dataframe tbody tr th:only-of-type {\n",
       "        vertical-align: middle;\n",
       "    }\n",
       "\n",
       "    .dataframe tbody tr th {\n",
       "        vertical-align: top;\n",
       "    }\n",
       "\n",
       "    .dataframe thead th {\n",
       "        text-align: right;\n",
       "    }\n",
       "</style>\n",
       "<table border=\"1\" class=\"dataframe\">\n",
       "  <thead>\n",
       "    <tr style=\"text-align: right;\">\n",
       "      <th></th>\n",
       "      <th>date</th>\n",
       "      <th>temperature_C</th>\n",
       "      <th>humidity_avgpercent</th>\n",
       "      <th>had_rainorsnow</th>\n",
       "      <th>moon_name</th>\n",
       "      <th>Illumination_percentage</th>\n",
       "    </tr>\n",
       "  </thead>\n",
       "  <tbody>\n",
       "    <tr>\n",
       "      <th>0</th>\n",
       "      <td>2020-09-29</td>\n",
       "      <td>12.000</td>\n",
       "      <td>92.125</td>\n",
       "      <td>0</td>\n",
       "      <td>waxing gibbous moon</td>\n",
       "      <td>94.56625</td>\n",
       "    </tr>\n",
       "    <tr>\n",
       "      <th>1</th>\n",
       "      <td>2020-09-30</td>\n",
       "      <td>12.250</td>\n",
       "      <td>80.125</td>\n",
       "      <td>1</td>\n",
       "      <td>waxing gibbous moon</td>\n",
       "      <td>98.01625</td>\n",
       "    </tr>\n",
       "    <tr>\n",
       "      <th>2</th>\n",
       "      <td>2020-10-01</td>\n",
       "      <td>14.125</td>\n",
       "      <td>74.875</td>\n",
       "      <td>0</td>\n",
       "      <td>waxing gibbous moon</td>\n",
       "      <td>99.66250</td>\n",
       "    </tr>\n",
       "  </tbody>\n",
       "</table>\n",
       "</div>"
      ],
      "text/plain": [
       "        date  temperature_C  humidity_avgpercent  had_rainorsnow  \\\n",
       "0 2020-09-29         12.000               92.125               0   \n",
       "1 2020-09-30         12.250               80.125               1   \n",
       "2 2020-10-01         14.125               74.875               0   \n",
       "\n",
       "             moon_name  Illumination_percentage  \n",
       "0  waxing gibbous moon                 94.56625  \n",
       "1  waxing gibbous moon                 98.01625  \n",
       "2  waxing gibbous moon                 99.66250  "
      ]
     },
     "execution_count": 12,
     "metadata": {},
     "output_type": "execute_result"
    }
   ],
   "source": [
    "df_daily_weather = df_weather[df_weather['hour'].isin([10,11,12,13,14,15,16,17])].copy()\n",
    "df_daily_weather = df_daily_weather.groupby(['date']).agg(\n",
    "    temperature_C=pd.NamedAgg(column='temperature_C', aggfunc=lambda x: np.mean(x)),\n",
    "    humidity_avgpercent=pd.NamedAgg(column='humidity_avgpercent', aggfunc=lambda x: np.mean(x)),\n",
    "    had_rainorsnow=pd.NamedAgg(column='rain', aggfunc=lambda x: int(all([i=='no precipitation' for i in x]))),\n",
    "    moon_name=pd.NamedAgg(column='MoonName', aggfunc=lambda x: list(x)[0]),\n",
    "    Illumination_percentage=pd.NamedAgg(column='Illumination_percentage', aggfunc=lambda x: np.mean(x))).reset_index()\n",
    "df_daily_weather.to_csv(os.path.join(path_,'df_daily_weather.csv'), index=False, sep=';')\n",
    "print(df_daily_weather.shape)\n",
    "df_daily_weather.head(3)"
   ]
  },
  {
   "cell_type": "code",
   "execution_count": 13,
   "metadata": {},
   "outputs": [
    {
     "data": {
      "text/plain": [
       "had_rainorsnow\n",
       "0    81.963636\n",
       "1    67.155579\n",
       "Name: humidity_avgpercent, dtype: float64"
      ]
     },
     "execution_count": 13,
     "metadata": {},
     "output_type": "execute_result"
    }
   ],
   "source": [
    "df_daily_weather.groupby(['had_rainorsnow'])['humidity_avgpercent'].agg(lambda x: np.mean(x))"
   ]
  },
  {
   "cell_type": "code",
   "execution_count": null,
   "metadata": {},
   "outputs": [],
   "source": []
  },
  {
   "cell_type": "code",
   "execution_count": null,
   "metadata": {},
   "outputs": [],
   "source": []
  },
  {
   "cell_type": "code",
   "execution_count": null,
   "metadata": {},
   "outputs": [],
   "source": []
  },
  {
   "cell_type": "code",
   "execution_count": null,
   "metadata": {},
   "outputs": [],
   "source": []
  },
  {
   "cell_type": "code",
   "execution_count": null,
   "metadata": {},
   "outputs": [],
   "source": []
  },
  {
   "cell_type": "code",
   "execution_count": null,
   "metadata": {},
   "outputs": [],
   "source": []
  },
  {
   "cell_type": "code",
   "execution_count": null,
   "metadata": {},
   "outputs": [],
   "source": []
  },
  {
   "cell_type": "code",
   "execution_count": null,
   "metadata": {},
   "outputs": [],
   "source": []
  }
 ],
 "metadata": {
  "kernelspec": {
   "display_name": "Python 3",
   "language": "python",
   "name": "python3"
  },
  "language_info": {
   "codemirror_mode": {
    "name": "ipython",
    "version": 3
   },
   "file_extension": ".py",
   "mimetype": "text/x-python",
   "name": "python",
   "nbconvert_exporter": "python",
   "pygments_lexer": "ipython3",
   "version": "3.8.5"
  }
 },
 "nbformat": 4,
 "nbformat_minor": 2
}
