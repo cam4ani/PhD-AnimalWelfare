{
 "cells": [
  {
   "cell_type": "code",
   "execution_count": 1,
   "metadata": {},
   "outputs": [],
   "source": [
    "#!pip install wolframalpha\n",
    "import datetime as dt\n",
    "import tqdm\n",
    "import os\n",
    "import pandas as pd\n",
    "import glob\n",
    "import numpy as np\n",
    "import sys\n",
    "\n",
    "import wolframalpha\n",
    "app_id = 'JU4PR2-E8JGQVLHXW'\n",
    "client = wolframalpha.Client(app_id)"
   ]
  },
  {
   "cell_type": "code",
   "execution_count": 2,
   "metadata": {},
   "outputs": [
    {
     "name": "stdout",
     "output_type": "stream",
     "text": [
      "3.8.12\n"
     ]
    }
   ],
   "source": [
    "from platform import python_version\n",
    "print(python_version())"
   ]
  },
  {
   "cell_type": "raw",
   "metadata": {},
   "source": [
    "To verify moon data:\n",
    "https://www.calendrier-lunaire.fr/calendrier/octobre-2020/\n",
    "https://www.pleine-lune.org/calendrier-lunaire-2020\n",
    "https://www.timeanddate.com/astronomy/moon/waning-crescent.html"
   ]
  },
  {
   "cell_type": "raw",
   "metadata": {},
   "source": [
    "#url parameter:\n",
    "#https://products.wolframalpha.com/simple-api/documentation/\n",
    "#http://api.wolframalpha.com/v2/query?appid=DEMO&input=population%20france&includepodid=Result\n",
    "http://api.wolframalpha.com/v2/query?appid=JU4PR2-E8JGQVLHXW&input=temperature%20Zollikofen&includepodid=Result"
   ]
  },
  {
   "cell_type": "markdown",
   "metadata": {},
   "source": [
    "#small example\n",
    "query = 'Precipitation amount in Zollikofen on October 6, 2020 1h'\n",
    "res = client.query(query)\n",
    "for t in res.results:\n",
    "    print(t.text)"
   ]
  },
  {
   "cell_type": "markdown",
   "metadata": {},
   "source": [
    "#small example\n",
    "query = 'Precipitation amount in Zollikofen '+d.strftime('%B')+' '+str(d.day)+', '+str(d.year)+' '+str(d.hour)+'h'\n",
    "res = client.query(query)\n",
    "for t in res.results:\n",
    "    print(t.text)"
   ]
  },
  {
   "cell_type": "markdown",
   "metadata": {},
   "source": [
    "#small example\n",
    "d = dt.datetime(2020,1,24,22,44,11)\n",
    "query = 'Moon Phase calculator'+d.strftime('%B')+' '+str(d.day)+', '+str(d.year)+' '+str(d.hour)+'h'\n",
    "res = client.query(query)\n",
    "r = ''\n",
    "for t in res.results:\n",
    "    print(t.text.strip('|').strip(' '))\n",
    "#for verification\n",
    "#https://www.pleine-lune.org/calendrier-lunaire-2020\n",
    "#res"
   ]
  },
  {
   "cell_type": "code",
   "execution_count": 3,
   "metadata": {},
   "outputs": [],
   "source": [
    "li_type = ['Precipitation amount', 'temperature', 'humidity', 'wind speed','Moon Phase calculator'] #pressure\n",
    "#path_ = r'D:\\vm_exchange\\PhD_Data\\Weather'\n",
    "path_ = r'C:\\Users\\camil\\Desktop\\vm_exchange\\PhD_Data\\Weather'"
   ]
  },
  {
   "cell_type": "code",
   "execution_count": 4,
   "metadata": {},
   "outputs": [
    {
     "name": "stdout",
     "output_type": "stream",
     "text": [
      "(3130, 7)\n",
      "We already have 3130 dates of weather\n",
      "(27, 7)\n"
     ]
    },
    {
     "data": {
      "text/html": [
       "<div>\n",
       "<style scoped>\n",
       "    .dataframe tbody tr th:only-of-type {\n",
       "        vertical-align: middle;\n",
       "    }\n",
       "\n",
       "    .dataframe tbody tr th {\n",
       "        vertical-align: top;\n",
       "    }\n",
       "\n",
       "    .dataframe thead th {\n",
       "        text-align: right;\n",
       "    }\n",
       "</style>\n",
       "<table border=\"1\" class=\"dataframe\">\n",
       "  <thead>\n",
       "    <tr style=\"text-align: right;\">\n",
       "      <th></th>\n",
       "      <th>date</th>\n",
       "      <th>temperature</th>\n",
       "      <th>humidity</th>\n",
       "      <th>wind speed</th>\n",
       "      <th>Precipitation amount</th>\n",
       "      <th>Moon Phase calculator</th>\n",
       "      <th>query</th>\n",
       "    </tr>\n",
       "  </thead>\n",
       "  <tbody>\n",
       "    <tr>\n",
       "      <th>226</th>\n",
       "      <td>2021-10-10 10:00:00</td>\n",
       "      <td>6 °C\\n(10:00 am CEST | Sunday, October 10, 2021)</td>\n",
       "      <td>ERROR</td>\n",
       "      <td>2 m/s\\n(10:00 am CEST | Sunday, October 10, 2021)</td>\n",
       "      <td>(unknown)\\n(10:00 am CEST | Sunday, October 10...</td>\n",
       "      <td>| waxing crescent moon\\n19.88% illuminated</td>\n",
       "      <td>Moon Phase calculatorOctober 10, 2021 10h</td>\n",
       "    </tr>\n",
       "    <tr>\n",
       "      <th>227</th>\n",
       "      <td>2021-10-10 11:00:00</td>\n",
       "      <td>8 °C\\n(11:00 am CEST | Sunday, October 10, 2021)</td>\n",
       "      <td>ERROR</td>\n",
       "      <td>3 m/s\\n(11:00 am CEST | Sunday, October 10, 2021)</td>\n",
       "      <td>(unknown)\\n(11:00 am CEST | Sunday, October 10...</td>\n",
       "      <td>| waxing crescent moon\\n20.27% illuminated</td>\n",
       "      <td>Moon Phase calculatorOctober 10, 2021 11h</td>\n",
       "    </tr>\n",
       "    <tr>\n",
       "      <th>229</th>\n",
       "      <td>2021-10-10 13:00:00</td>\n",
       "      <td>9 °C\\n(1:00 pm CEST | Sunday, October 10, 2021)</td>\n",
       "      <td>ERROR</td>\n",
       "      <td>3 m/s\\n(1:00 pm CEST | Sunday, October 10, 2021)</td>\n",
       "      <td>(unknown)\\n(1:00 pm CEST | Sunday, October 10,...</td>\n",
       "      <td>| waxing crescent moon\\n21.07% illuminated</td>\n",
       "      <td>Moon Phase calculatorOctober 10, 2021 13h</td>\n",
       "    </tr>\n",
       "    <tr>\n",
       "      <th>230</th>\n",
       "      <td>2021-10-10 14:00:00</td>\n",
       "      <td>9 °C\\n(2:00 pm CEST | Sunday, October 10, 2021)</td>\n",
       "      <td>ERROR</td>\n",
       "      <td>3 m/s\\n(2:00 pm CEST | Sunday, October 10, 2021)</td>\n",
       "      <td>(unknown)\\n(2:00 pm CEST | Sunday, October 10,...</td>\n",
       "      <td>| waxing crescent moon\\n21.47% illuminated</td>\n",
       "      <td>Moon Phase calculatorOctober 10, 2021 14h</td>\n",
       "    </tr>\n",
       "    <tr>\n",
       "      <th>231</th>\n",
       "      <td>2021-10-10 15:00:00</td>\n",
       "      <td>9 °C\\n(3:00 pm CEST | Sunday, October 10, 2021)</td>\n",
       "      <td>ERROR</td>\n",
       "      <td>3 m/s\\n(3:00 pm CEST | Sunday, October 10, 2021)</td>\n",
       "      <td>(unknown)\\n(3:00 pm CEST | Sunday, October 10,...</td>\n",
       "      <td>| waxing crescent moon\\n21.88% illuminated</td>\n",
       "      <td>Moon Phase calculatorOctober 10, 2021 15h</td>\n",
       "    </tr>\n",
       "    <tr>\n",
       "      <th>232</th>\n",
       "      <td>2021-10-10 16:00:00</td>\n",
       "      <td>9 °C\\n(4:00 pm CEST | Sunday, October 10, 2021)</td>\n",
       "      <td>ERROR</td>\n",
       "      <td>3 m/s\\n(4:00 pm CEST | Sunday, October 10, 2021)</td>\n",
       "      <td>(unknown)\\n(4:00 pm CEST | Sunday, October 10,...</td>\n",
       "      <td>| waxing crescent moon\\n22.29% illuminated</td>\n",
       "      <td>Moon Phase calculatorOctober 10, 2021 16h</td>\n",
       "    </tr>\n",
       "    <tr>\n",
       "      <th>233</th>\n",
       "      <td>2021-10-10 17:00:00</td>\n",
       "      <td>9 °C\\n(5:00 pm CEST | Sunday, October 10, 2021)</td>\n",
       "      <td>ERROR</td>\n",
       "      <td>3 m/s\\n(5:00 pm CEST | Sunday, October 10, 2021)</td>\n",
       "      <td>(unknown)\\n(5:00 pm CEST | Sunday, October 10,...</td>\n",
       "      <td>| waxing crescent moon\\n22.70% illuminated</td>\n",
       "      <td>Moon Phase calculatorOctober 10, 2021 17h</td>\n",
       "    </tr>\n",
       "    <tr>\n",
       "      <th>236</th>\n",
       "      <td>2021-10-10 20:00:00</td>\n",
       "      <td>7 °C\\n(8:00 pm CEST | Sunday, October 10, 2021)</td>\n",
       "      <td>ERROR</td>\n",
       "      <td>1 m/s\\n(8:00 pm CEST | Sunday, October 10, 2021)</td>\n",
       "      <td>(unknown)\\n(8:00 pm CEST | Sunday, October 10,...</td>\n",
       "      <td>| waxing crescent moon\\n23.94% illuminated</td>\n",
       "      <td>Moon Phase calculatorOctober 10, 2021 20h</td>\n",
       "    </tr>\n",
       "    <tr>\n",
       "      <th>238</th>\n",
       "      <td>2021-10-10 22:00:00</td>\n",
       "      <td>5 °C\\n(10:00 pm CEST | Sunday, October 10, 2021)</td>\n",
       "      <td>ERROR</td>\n",
       "      <td>1 m/s\\n(10:00 pm CEST | Sunday, October 10, 2021)</td>\n",
       "      <td>(unknown)\\n(10:00 pm CEST | Sunday, October 10...</td>\n",
       "      <td>| waxing crescent moon\\n24.78% illuminated</td>\n",
       "      <td>Moon Phase calculatorOctober 10, 2021 22h</td>\n",
       "    </tr>\n",
       "    <tr>\n",
       "      <th>239</th>\n",
       "      <td>2021-10-10 23:00:00</td>\n",
       "      <td>4 °C\\n(11:00 pm CEST | Sunday, October 10, 2021)</td>\n",
       "      <td>ERROR</td>\n",
       "      <td>1 m/s\\n(11:00 pm CEST | Sunday, October 10, 2021)</td>\n",
       "      <td>(unknown)\\n(11:00 pm CEST | Sunday, October 10...</td>\n",
       "      <td>| waxing crescent moon\\n25.21% illuminated</td>\n",
       "      <td>Moon Phase calculatorOctober 10, 2021 23h</td>\n",
       "    </tr>\n",
       "    <tr>\n",
       "      <th>240</th>\n",
       "      <td>2021-10-11 00:00:00</td>\n",
       "      <td>4 °C\\n(12:00 am CEST | Monday, October 11, 2021)</td>\n",
       "      <td>ERROR</td>\n",
       "      <td>1 m/s\\n(12:00 am CEST | Monday, October 11, 2021)</td>\n",
       "      <td>(unknown)\\n(12:00 am CEST | Monday, October 11...</td>\n",
       "      <td>| waxing crescent moon\\n25.63% illuminated</td>\n",
       "      <td>Moon Phase calculatorOctober 11, 2021 0h</td>\n",
       "    </tr>\n",
       "    <tr>\n",
       "      <th>241</th>\n",
       "      <td>2021-10-11 01:00:00</td>\n",
       "      <td>3 °C\\n(1:00 am CEST | Monday, October 11, 2021)</td>\n",
       "      <td>ERROR</td>\n",
       "      <td>1 m/s\\n(1:00 am CEST | Monday, October 11, 2021)</td>\n",
       "      <td>(unknown)\\n(1:00 am CEST | Monday, October 11,...</td>\n",
       "      <td>| waxing crescent moon\\n26.06% illuminated</td>\n",
       "      <td>Moon Phase calculatorOctober 11, 2021 1h</td>\n",
       "    </tr>\n",
       "    <tr>\n",
       "      <th>242</th>\n",
       "      <td>2021-10-11 02:00:00</td>\n",
       "      <td>2 °C\\n(2:00 am CEST | Monday, October 11, 2021)</td>\n",
       "      <td>ERROR</td>\n",
       "      <td>1 m/s\\n(2:00 am CEST | Monday, October 11, 2021)</td>\n",
       "      <td>(unknown)\\n(2:00 am CEST | Monday, October 11,...</td>\n",
       "      <td>| waxing crescent moon\\n26.49% illuminated</td>\n",
       "      <td>Moon Phase calculatorOctober 11, 2021 2h</td>\n",
       "    </tr>\n",
       "    <tr>\n",
       "      <th>244</th>\n",
       "      <td>2021-10-11 04:00:00</td>\n",
       "      <td>1 °C\\n(4:00 am CEST | Monday, October 11, 2021)</td>\n",
       "      <td>ERROR</td>\n",
       "      <td>0 m/s\\n(4:00 am CEST | Monday, October 11, 2021)</td>\n",
       "      <td>(unknown)\\n(4:00 am CEST | Monday, October 11,...</td>\n",
       "      <td>| waxing crescent moon\\n27.36% illuminated</td>\n",
       "      <td>Moon Phase calculatorOctober 11, 2021 4h</td>\n",
       "    </tr>\n",
       "    <tr>\n",
       "      <th>245</th>\n",
       "      <td>2021-10-11 05:00:00</td>\n",
       "      <td>1 °C\\n(5:00 am CEST | Monday, October 11, 2021)</td>\n",
       "      <td>ERROR</td>\n",
       "      <td>0 m/s\\n(5:00 am CEST | Monday, October 11, 2021)</td>\n",
       "      <td>(unknown)\\n(5:00 am CEST | Monday, October 11,...</td>\n",
       "      <td>| waxing crescent moon\\n27.79% illuminated</td>\n",
       "      <td>Moon Phase calculatorOctober 11, 2021 5h</td>\n",
       "    </tr>\n",
       "    <tr>\n",
       "      <th>246</th>\n",
       "      <td>2021-10-11 06:00:00</td>\n",
       "      <td>0 °C\\n(6:00 am CEST | Monday, October 11, 2021)</td>\n",
       "      <td>ERROR</td>\n",
       "      <td>0 m/s\\n(6:00 am CEST | Monday, October 11, 2021)</td>\n",
       "      <td>(unknown)\\n(6:00 am CEST | Monday, October 11,...</td>\n",
       "      <td>| waxing crescent moon\\n28.23% illuminated</td>\n",
       "      <td>Moon Phase calculatorOctober 11, 2021 6h</td>\n",
       "    </tr>\n",
       "    <tr>\n",
       "      <th>247</th>\n",
       "      <td>2021-10-11 07:00:00</td>\n",
       "      <td>0 °C\\n(7:00 am CEST | Monday, October 11, 2021)</td>\n",
       "      <td>ERROR</td>\n",
       "      <td>0 m/s\\n(7:00 am CEST | Monday, October 11, 2021)</td>\n",
       "      <td>(unknown)\\n(7:00 am CEST | Monday, October 11,...</td>\n",
       "      <td>| waxing crescent moon\\n28.67% illuminated</td>\n",
       "      <td>Moon Phase calculatorOctober 11, 2021 7h</td>\n",
       "    </tr>\n",
       "    <tr>\n",
       "      <th>322</th>\n",
       "      <td>2021-10-14 10:00:00</td>\n",
       "      <td>6 °C\\n(10:00 am CEST | Thursday, October 14, 2...</td>\n",
       "      <td>average: 91% (81 to 100%)\\n(10:00 am CEST | Th...</td>\n",
       "      <td>1 m/s\\n(10:00 am CEST | Thursday, October 14, ...</td>\n",
       "      <td>no precipitation\\n(10:00 am CEST | Thursday, O...</td>\n",
       "      <td>ERROR</td>\n",
       "      <td>Moon Phase calculatorOctober 14, 2021 10h</td>\n",
       "    </tr>\n",
       "    <tr>\n",
       "      <th>866</th>\n",
       "      <td>2021-11-06 02:00:00</td>\n",
       "      <td>2 °C\\n(2:00 am CET | Saturday, November 6, 2021)</td>\n",
       "      <td>ERROR</td>\n",
       "      <td>2 m/s\\n(2:00 am CET | Saturday, November 6, 2021)</td>\n",
       "      <td>no precipitation\\n(2:00 am CET | Saturday, Nov...</td>\n",
       "      <td>| waxing crescent moon\\n2.01% illuminated</td>\n",
       "      <td>Moon Phase calculatorNovember 6, 2021 2h</td>\n",
       "    </tr>\n",
       "    <tr>\n",
       "      <th>870</th>\n",
       "      <td>2021-11-06 06:00:00</td>\n",
       "      <td>2 °C\\n(6:00 am CET | Saturday, November 6, 2021)</td>\n",
       "      <td>ERROR</td>\n",
       "      <td>2 m/s\\n(6:00 am CET | Saturday, November 6, 2021)</td>\n",
       "      <td>no precipitation\\n(6:00 am CET | Saturday, Nov...</td>\n",
       "      <td>| waxing crescent moon\\n2.62% illuminated</td>\n",
       "      <td>Moon Phase calculatorNovember 6, 2021 6h</td>\n",
       "    </tr>\n",
       "    <tr>\n",
       "      <th>872</th>\n",
       "      <td>2021-11-06 08:00:00</td>\n",
       "      <td>2 °C\\n(8:00 am CET | Saturday, November 6, 2021)</td>\n",
       "      <td>average: 100% (100%)\\n(8:00 am CET | Saturday,...</td>\n",
       "      <td>2 m/s\\n(8:00 am CET | Saturday, November 6, 2021)</td>\n",
       "      <td>ERROR</td>\n",
       "      <td>| waxing crescent moon\\n2.96% illuminated</td>\n",
       "      <td>Moon Phase calculatorNovember 6, 2021 8h</td>\n",
       "    </tr>\n",
       "    <tr>\n",
       "      <th>1083</th>\n",
       "      <td>2021-11-15 03:00:00</td>\n",
       "      <td>6 °C\\n(3:00 am CET | Monday, November 15, 2021)</td>\n",
       "      <td>average: 87% (87%)\\n(3:00 am CET | Monday, Nov...</td>\n",
       "      <td>3 m/s\\n(3:00 am CET | Monday, November 15, 2021)</td>\n",
       "      <td>ERROR</td>\n",
       "      <td>| waxing gibbous moon\\n83.69% illuminated</td>\n",
       "      <td>Moon Phase calculatorNovember 15, 2021 3h</td>\n",
       "    </tr>\n",
       "    <tr>\n",
       "      <th>1722</th>\n",
       "      <td>2021-12-11 18:00:00</td>\n",
       "      <td>2 °C\\n(6:00 pm CET | Saturday, December 11, 2021)</td>\n",
       "      <td>ERROR</td>\n",
       "      <td>1 m/s\\n(6:00 pm CET | Saturday, December 11, 2...</td>\n",
       "      <td>(unknown)\\n(6:00 pm CET | Saturday, December 1...</td>\n",
       "      <td>| waxing gibbous moon\\n56.72% illuminated</td>\n",
       "      <td>Moon Phase calculatorDecember 11, 2021 18h</td>\n",
       "    </tr>\n",
       "    <tr>\n",
       "      <th>2087</th>\n",
       "      <td>2021-12-26 23:00:00</td>\n",
       "      <td>5 °C\\n(11:00 pm CET | Sunday, December 26, 2021)</td>\n",
       "      <td>average: 90% (87 to 93%)\\n(11:00 pm CET | Sund...</td>\n",
       "      <td>1 m/s\\n(11:00 pm CET | Sunday, December 26, 2021)</td>\n",
       "      <td>ERROR</td>\n",
       "      <td>| last quarter moon\\n52.09% illuminated</td>\n",
       "      <td>Moon Phase calculatorDecember 26, 2021 23h</td>\n",
       "    </tr>\n",
       "    <tr>\n",
       "      <th>2260</th>\n",
       "      <td>2022-01-03 04:00:00</td>\n",
       "      <td>10 °C\\n(4:00 am CET | Monday, January 3, 2022)</td>\n",
       "      <td>ERROR</td>\n",
       "      <td>2 m/s\\n(4:00 am CET | Monday, January 3, 2022)</td>\n",
       "      <td>no precipitation\\n(4:00 am CET | Monday, Janua...</td>\n",
       "      <td>| waxing crescent moon\\n0.30% illuminated</td>\n",
       "      <td>Moon Phase calculatorJanuary 3, 2022 4h</td>\n",
       "    </tr>\n",
       "    <tr>\n",
       "      <th>2424</th>\n",
       "      <td>2022-01-10 00:00:00</td>\n",
       "      <td>1 °C\\n(12:00 am CET | Monday, January 10, 2022)</td>\n",
       "      <td>ERROR</td>\n",
       "      <td>1 m/s\\n(12:00 am CET | Monday, January 10, 2022)</td>\n",
       "      <td>snow\\n(12:00 am CET | Monday, January 10, 2022)</td>\n",
       "      <td>| first quarter moon\\n52.12% illuminated</td>\n",
       "      <td>Moon Phase calculatorJanuary 10, 2022 0h</td>\n",
       "    </tr>\n",
       "    <tr>\n",
       "      <th>2905</th>\n",
       "      <td>2022-01-30 01:00:00</td>\n",
       "      <td>4 °C\\n(1:00 am CET | Sunday, January 30, 2022)</td>\n",
       "      <td>average: 75% (75%)\\n(1:00 am CET | Sunday, Jan...</td>\n",
       "      <td>ERROR</td>\n",
       "      <td>no precipitation\\n(1:00 am CET | Sunday, Janua...</td>\n",
       "      <td>| waning crescent moon\\n7.20% illuminated</td>\n",
       "      <td>Moon Phase calculatorJanuary 30, 2022 1h</td>\n",
       "    </tr>\n",
       "  </tbody>\n",
       "</table>\n",
       "</div>"
      ],
      "text/plain": [
       "                    date                                        temperature  \\\n",
       "226  2021-10-10 10:00:00   6 °C\\n(10:00 am CEST | Sunday, October 10, 2021)   \n",
       "227  2021-10-10 11:00:00   8 °C\\n(11:00 am CEST | Sunday, October 10, 2021)   \n",
       "229  2021-10-10 13:00:00    9 °C\\n(1:00 pm CEST | Sunday, October 10, 2021)   \n",
       "230  2021-10-10 14:00:00    9 °C\\n(2:00 pm CEST | Sunday, October 10, 2021)   \n",
       "231  2021-10-10 15:00:00    9 °C\\n(3:00 pm CEST | Sunday, October 10, 2021)   \n",
       "232  2021-10-10 16:00:00    9 °C\\n(4:00 pm CEST | Sunday, October 10, 2021)   \n",
       "233  2021-10-10 17:00:00    9 °C\\n(5:00 pm CEST | Sunday, October 10, 2021)   \n",
       "236  2021-10-10 20:00:00    7 °C\\n(8:00 pm CEST | Sunday, October 10, 2021)   \n",
       "238  2021-10-10 22:00:00   5 °C\\n(10:00 pm CEST | Sunday, October 10, 2021)   \n",
       "239  2021-10-10 23:00:00   4 °C\\n(11:00 pm CEST | Sunday, October 10, 2021)   \n",
       "240  2021-10-11 00:00:00   4 °C\\n(12:00 am CEST | Monday, October 11, 2021)   \n",
       "241  2021-10-11 01:00:00    3 °C\\n(1:00 am CEST | Monday, October 11, 2021)   \n",
       "242  2021-10-11 02:00:00    2 °C\\n(2:00 am CEST | Monday, October 11, 2021)   \n",
       "244  2021-10-11 04:00:00    1 °C\\n(4:00 am CEST | Monday, October 11, 2021)   \n",
       "245  2021-10-11 05:00:00    1 °C\\n(5:00 am CEST | Monday, October 11, 2021)   \n",
       "246  2021-10-11 06:00:00    0 °C\\n(6:00 am CEST | Monday, October 11, 2021)   \n",
       "247  2021-10-11 07:00:00    0 °C\\n(7:00 am CEST | Monday, October 11, 2021)   \n",
       "322  2021-10-14 10:00:00  6 °C\\n(10:00 am CEST | Thursday, October 14, 2...   \n",
       "866  2021-11-06 02:00:00   2 °C\\n(2:00 am CET | Saturday, November 6, 2021)   \n",
       "870  2021-11-06 06:00:00   2 °C\\n(6:00 am CET | Saturday, November 6, 2021)   \n",
       "872  2021-11-06 08:00:00   2 °C\\n(8:00 am CET | Saturday, November 6, 2021)   \n",
       "1083 2021-11-15 03:00:00    6 °C\\n(3:00 am CET | Monday, November 15, 2021)   \n",
       "1722 2021-12-11 18:00:00  2 °C\\n(6:00 pm CET | Saturday, December 11, 2021)   \n",
       "2087 2021-12-26 23:00:00   5 °C\\n(11:00 pm CET | Sunday, December 26, 2021)   \n",
       "2260 2022-01-03 04:00:00     10 °C\\n(4:00 am CET | Monday, January 3, 2022)   \n",
       "2424 2022-01-10 00:00:00    1 °C\\n(12:00 am CET | Monday, January 10, 2022)   \n",
       "2905 2022-01-30 01:00:00     4 °C\\n(1:00 am CET | Sunday, January 30, 2022)   \n",
       "\n",
       "                                               humidity  \\\n",
       "226                                               ERROR   \n",
       "227                                               ERROR   \n",
       "229                                               ERROR   \n",
       "230                                               ERROR   \n",
       "231                                               ERROR   \n",
       "232                                               ERROR   \n",
       "233                                               ERROR   \n",
       "236                                               ERROR   \n",
       "238                                               ERROR   \n",
       "239                                               ERROR   \n",
       "240                                               ERROR   \n",
       "241                                               ERROR   \n",
       "242                                               ERROR   \n",
       "244                                               ERROR   \n",
       "245                                               ERROR   \n",
       "246                                               ERROR   \n",
       "247                                               ERROR   \n",
       "322   average: 91% (81 to 100%)\\n(10:00 am CEST | Th...   \n",
       "866                                               ERROR   \n",
       "870                                               ERROR   \n",
       "872   average: 100% (100%)\\n(8:00 am CET | Saturday,...   \n",
       "1083  average: 87% (87%)\\n(3:00 am CET | Monday, Nov...   \n",
       "1722                                              ERROR   \n",
       "2087  average: 90% (87 to 93%)\\n(11:00 pm CET | Sund...   \n",
       "2260                                              ERROR   \n",
       "2424                                              ERROR   \n",
       "2905  average: 75% (75%)\\n(1:00 am CET | Sunday, Jan...   \n",
       "\n",
       "                                             wind speed  \\\n",
       "226   2 m/s\\n(10:00 am CEST | Sunday, October 10, 2021)   \n",
       "227   3 m/s\\n(11:00 am CEST | Sunday, October 10, 2021)   \n",
       "229    3 m/s\\n(1:00 pm CEST | Sunday, October 10, 2021)   \n",
       "230    3 m/s\\n(2:00 pm CEST | Sunday, October 10, 2021)   \n",
       "231    3 m/s\\n(3:00 pm CEST | Sunday, October 10, 2021)   \n",
       "232    3 m/s\\n(4:00 pm CEST | Sunday, October 10, 2021)   \n",
       "233    3 m/s\\n(5:00 pm CEST | Sunday, October 10, 2021)   \n",
       "236    1 m/s\\n(8:00 pm CEST | Sunday, October 10, 2021)   \n",
       "238   1 m/s\\n(10:00 pm CEST | Sunday, October 10, 2021)   \n",
       "239   1 m/s\\n(11:00 pm CEST | Sunday, October 10, 2021)   \n",
       "240   1 m/s\\n(12:00 am CEST | Monday, October 11, 2021)   \n",
       "241    1 m/s\\n(1:00 am CEST | Monday, October 11, 2021)   \n",
       "242    1 m/s\\n(2:00 am CEST | Monday, October 11, 2021)   \n",
       "244    0 m/s\\n(4:00 am CEST | Monday, October 11, 2021)   \n",
       "245    0 m/s\\n(5:00 am CEST | Monday, October 11, 2021)   \n",
       "246    0 m/s\\n(6:00 am CEST | Monday, October 11, 2021)   \n",
       "247    0 m/s\\n(7:00 am CEST | Monday, October 11, 2021)   \n",
       "322   1 m/s\\n(10:00 am CEST | Thursday, October 14, ...   \n",
       "866   2 m/s\\n(2:00 am CET | Saturday, November 6, 2021)   \n",
       "870   2 m/s\\n(6:00 am CET | Saturday, November 6, 2021)   \n",
       "872   2 m/s\\n(8:00 am CET | Saturday, November 6, 2021)   \n",
       "1083   3 m/s\\n(3:00 am CET | Monday, November 15, 2021)   \n",
       "1722  1 m/s\\n(6:00 pm CET | Saturday, December 11, 2...   \n",
       "2087  1 m/s\\n(11:00 pm CET | Sunday, December 26, 2021)   \n",
       "2260     2 m/s\\n(4:00 am CET | Monday, January 3, 2022)   \n",
       "2424   1 m/s\\n(12:00 am CET | Monday, January 10, 2022)   \n",
       "2905                                              ERROR   \n",
       "\n",
       "                                   Precipitation amount  \\\n",
       "226   (unknown)\\n(10:00 am CEST | Sunday, October 10...   \n",
       "227   (unknown)\\n(11:00 am CEST | Sunday, October 10...   \n",
       "229   (unknown)\\n(1:00 pm CEST | Sunday, October 10,...   \n",
       "230   (unknown)\\n(2:00 pm CEST | Sunday, October 10,...   \n",
       "231   (unknown)\\n(3:00 pm CEST | Sunday, October 10,...   \n",
       "232   (unknown)\\n(4:00 pm CEST | Sunday, October 10,...   \n",
       "233   (unknown)\\n(5:00 pm CEST | Sunday, October 10,...   \n",
       "236   (unknown)\\n(8:00 pm CEST | Sunday, October 10,...   \n",
       "238   (unknown)\\n(10:00 pm CEST | Sunday, October 10...   \n",
       "239   (unknown)\\n(11:00 pm CEST | Sunday, October 10...   \n",
       "240   (unknown)\\n(12:00 am CEST | Monday, October 11...   \n",
       "241   (unknown)\\n(1:00 am CEST | Monday, October 11,...   \n",
       "242   (unknown)\\n(2:00 am CEST | Monday, October 11,...   \n",
       "244   (unknown)\\n(4:00 am CEST | Monday, October 11,...   \n",
       "245   (unknown)\\n(5:00 am CEST | Monday, October 11,...   \n",
       "246   (unknown)\\n(6:00 am CEST | Monday, October 11,...   \n",
       "247   (unknown)\\n(7:00 am CEST | Monday, October 11,...   \n",
       "322   no precipitation\\n(10:00 am CEST | Thursday, O...   \n",
       "866   no precipitation\\n(2:00 am CET | Saturday, Nov...   \n",
       "870   no precipitation\\n(6:00 am CET | Saturday, Nov...   \n",
       "872                                               ERROR   \n",
       "1083                                              ERROR   \n",
       "1722  (unknown)\\n(6:00 pm CET | Saturday, December 1...   \n",
       "2087                                              ERROR   \n",
       "2260  no precipitation\\n(4:00 am CET | Monday, Janua...   \n",
       "2424    snow\\n(12:00 am CET | Monday, January 10, 2022)   \n",
       "2905  no precipitation\\n(1:00 am CET | Sunday, Janua...   \n",
       "\n",
       "                           Moon Phase calculator  \\\n",
       "226   | waxing crescent moon\\n19.88% illuminated   \n",
       "227   | waxing crescent moon\\n20.27% illuminated   \n",
       "229   | waxing crescent moon\\n21.07% illuminated   \n",
       "230   | waxing crescent moon\\n21.47% illuminated   \n",
       "231   | waxing crescent moon\\n21.88% illuminated   \n",
       "232   | waxing crescent moon\\n22.29% illuminated   \n",
       "233   | waxing crescent moon\\n22.70% illuminated   \n",
       "236   | waxing crescent moon\\n23.94% illuminated   \n",
       "238   | waxing crescent moon\\n24.78% illuminated   \n",
       "239   | waxing crescent moon\\n25.21% illuminated   \n",
       "240   | waxing crescent moon\\n25.63% illuminated   \n",
       "241   | waxing crescent moon\\n26.06% illuminated   \n",
       "242   | waxing crescent moon\\n26.49% illuminated   \n",
       "244   | waxing crescent moon\\n27.36% illuminated   \n",
       "245   | waxing crescent moon\\n27.79% illuminated   \n",
       "246   | waxing crescent moon\\n28.23% illuminated   \n",
       "247   | waxing crescent moon\\n28.67% illuminated   \n",
       "322                                        ERROR   \n",
       "866    | waxing crescent moon\\n2.01% illuminated   \n",
       "870    | waxing crescent moon\\n2.62% illuminated   \n",
       "872    | waxing crescent moon\\n2.96% illuminated   \n",
       "1083   | waxing gibbous moon\\n83.69% illuminated   \n",
       "1722   | waxing gibbous moon\\n56.72% illuminated   \n",
       "2087     | last quarter moon\\n52.09% illuminated   \n",
       "2260   | waxing crescent moon\\n0.30% illuminated   \n",
       "2424    | first quarter moon\\n52.12% illuminated   \n",
       "2905   | waning crescent moon\\n7.20% illuminated   \n",
       "\n",
       "                                           query  \n",
       "226    Moon Phase calculatorOctober 10, 2021 10h  \n",
       "227    Moon Phase calculatorOctober 10, 2021 11h  \n",
       "229    Moon Phase calculatorOctober 10, 2021 13h  \n",
       "230    Moon Phase calculatorOctober 10, 2021 14h  \n",
       "231    Moon Phase calculatorOctober 10, 2021 15h  \n",
       "232    Moon Phase calculatorOctober 10, 2021 16h  \n",
       "233    Moon Phase calculatorOctober 10, 2021 17h  \n",
       "236    Moon Phase calculatorOctober 10, 2021 20h  \n",
       "238    Moon Phase calculatorOctober 10, 2021 22h  \n",
       "239    Moon Phase calculatorOctober 10, 2021 23h  \n",
       "240     Moon Phase calculatorOctober 11, 2021 0h  \n",
       "241     Moon Phase calculatorOctober 11, 2021 1h  \n",
       "242     Moon Phase calculatorOctober 11, 2021 2h  \n",
       "244     Moon Phase calculatorOctober 11, 2021 4h  \n",
       "245     Moon Phase calculatorOctober 11, 2021 5h  \n",
       "246     Moon Phase calculatorOctober 11, 2021 6h  \n",
       "247     Moon Phase calculatorOctober 11, 2021 7h  \n",
       "322    Moon Phase calculatorOctober 14, 2021 10h  \n",
       "866     Moon Phase calculatorNovember 6, 2021 2h  \n",
       "870     Moon Phase calculatorNovember 6, 2021 6h  \n",
       "872     Moon Phase calculatorNovember 6, 2021 8h  \n",
       "1083   Moon Phase calculatorNovember 15, 2021 3h  \n",
       "1722  Moon Phase calculatorDecember 11, 2021 18h  \n",
       "2087  Moon Phase calculatorDecember 26, 2021 23h  \n",
       "2260     Moon Phase calculatorJanuary 3, 2022 4h  \n",
       "2424    Moon Phase calculatorJanuary 10, 2022 0h  \n",
       "2905    Moon Phase calculatorJanuary 30, 2022 1h  "
      ]
     },
     "metadata": {},
     "output_type": "display_data"
    },
    {
     "name": "stdout",
     "output_type": "stream",
     "text": [
      "7321\n",
      "4218\n",
      "WARNING: to many calls to be completed these queries!\n",
      "You need 21090 new queries to complete this date interval\n",
      "(3103, 7)\n"
     ]
    },
    {
     "data": {
      "text/html": [
       "<div>\n",
       "<style scoped>\n",
       "    .dataframe tbody tr th:only-of-type {\n",
       "        vertical-align: middle;\n",
       "    }\n",
       "\n",
       "    .dataframe tbody tr th {\n",
       "        vertical-align: top;\n",
       "    }\n",
       "\n",
       "    .dataframe thead th {\n",
       "        text-align: right;\n",
       "    }\n",
       "</style>\n",
       "<table border=\"1\" class=\"dataframe\">\n",
       "  <thead>\n",
       "    <tr style=\"text-align: right;\">\n",
       "      <th></th>\n",
       "      <th>date</th>\n",
       "      <th>temperature</th>\n",
       "      <th>humidity</th>\n",
       "      <th>wind speed</th>\n",
       "      <th>Precipitation amount</th>\n",
       "      <th>Moon Phase calculator</th>\n",
       "      <th>query</th>\n",
       "    </tr>\n",
       "  </thead>\n",
       "  <tbody>\n",
       "    <tr>\n",
       "      <th>3125</th>\n",
       "      <td>2022-02-08 05:00:00</td>\n",
       "      <td>-3 °C\\n(5:00 am CET | Tuesday, February 8, 2022)</td>\n",
       "      <td>average: 86% (86%)\\n(5:00 am CET | Tuesday, Fe...</td>\n",
       "      <td>1 m/s\\n(5:00 am CET | Tuesday, February 8, 2022)</td>\n",
       "      <td>no precipitation\\n(5:00 am CET | Tuesday, Febr...</td>\n",
       "      <td>| first quarter moon\\n46.20% illuminated</td>\n",
       "      <td>Moon Phase calculatorFebruary 8, 2022 5h</td>\n",
       "    </tr>\n",
       "    <tr>\n",
       "      <th>3126</th>\n",
       "      <td>2022-02-08 06:00:00</td>\n",
       "      <td>-4 °C\\n(6:00 am CET | Tuesday, February 8, 2022)</td>\n",
       "      <td>average: 93% (93%)\\n(6:00 am CET | Tuesday, Fe...</td>\n",
       "      <td>1 m/s\\n(6:00 am CET | Tuesday, February 8, 2022)</td>\n",
       "      <td>no precipitation\\n(6:00 am CET | Tuesday, Febr...</td>\n",
       "      <td>| first quarter moon\\n46.60% illuminated</td>\n",
       "      <td>Moon Phase calculatorFebruary 8, 2022 6h</td>\n",
       "    </tr>\n",
       "    <tr>\n",
       "      <th>3127</th>\n",
       "      <td>2022-02-08 07:00:00</td>\n",
       "      <td>-4 °C\\n(7:00 am CET | Tuesday, February 8, 2022)</td>\n",
       "      <td>average: 93% (93%)\\n(7:00 am CET | Tuesday, Fe...</td>\n",
       "      <td>1 m/s\\n(7:00 am CET | Tuesday, February 8, 2022)</td>\n",
       "      <td>no precipitation\\n(7:00 am CET | Tuesday, Febr...</td>\n",
       "      <td>| first quarter moon\\n47.00% illuminated</td>\n",
       "      <td>Moon Phase calculatorFebruary 8, 2022 7h</td>\n",
       "    </tr>\n",
       "    <tr>\n",
       "      <th>3128</th>\n",
       "      <td>2022-02-08 08:00:00</td>\n",
       "      <td>-4 °C\\n(8:00 am CET | Tuesday, February 8, 2022)</td>\n",
       "      <td>average: 86% (86%)\\n(8:00 am CET | Tuesday, Fe...</td>\n",
       "      <td>1 m/s\\n(8:00 am CET | Tuesday, February 8, 2022)</td>\n",
       "      <td>no precipitation\\n(8:00 am CET | Tuesday, Febr...</td>\n",
       "      <td>| first quarter moon\\n47.40% illuminated</td>\n",
       "      <td>Moon Phase calculatorFebruary 8, 2022 8h</td>\n",
       "    </tr>\n",
       "    <tr>\n",
       "      <th>3129</th>\n",
       "      <td>2022-02-08 09:00:00</td>\n",
       "      <td>-3 °C\\n(9:00 am CET | Tuesday, February 8, 2022)</td>\n",
       "      <td>average: 93% (93%)\\n(9:00 am CET | Tuesday, Fe...</td>\n",
       "      <td>1 m/s\\n(9:00 am CET | Tuesday, February 8, 2022)</td>\n",
       "      <td>no precipitation\\n(9:00 am CET | Tuesday, Febr...</td>\n",
       "      <td>| first quarter moon\\n47.80% illuminated</td>\n",
       "      <td>Moon Phase calculatorFebruary 8, 2022 9h</td>\n",
       "    </tr>\n",
       "  </tbody>\n",
       "</table>\n",
       "</div>"
      ],
      "text/plain": [
       "                    date                                       temperature  \\\n",
       "3125 2022-02-08 05:00:00  -3 °C\\n(5:00 am CET | Tuesday, February 8, 2022)   \n",
       "3126 2022-02-08 06:00:00  -4 °C\\n(6:00 am CET | Tuesday, February 8, 2022)   \n",
       "3127 2022-02-08 07:00:00  -4 °C\\n(7:00 am CET | Tuesday, February 8, 2022)   \n",
       "3128 2022-02-08 08:00:00  -4 °C\\n(8:00 am CET | Tuesday, February 8, 2022)   \n",
       "3129 2022-02-08 09:00:00  -3 °C\\n(9:00 am CET | Tuesday, February 8, 2022)   \n",
       "\n",
       "                                               humidity  \\\n",
       "3125  average: 86% (86%)\\n(5:00 am CET | Tuesday, Fe...   \n",
       "3126  average: 93% (93%)\\n(6:00 am CET | Tuesday, Fe...   \n",
       "3127  average: 93% (93%)\\n(7:00 am CET | Tuesday, Fe...   \n",
       "3128  average: 86% (86%)\\n(8:00 am CET | Tuesday, Fe...   \n",
       "3129  average: 93% (93%)\\n(9:00 am CET | Tuesday, Fe...   \n",
       "\n",
       "                                            wind speed  \\\n",
       "3125  1 m/s\\n(5:00 am CET | Tuesday, February 8, 2022)   \n",
       "3126  1 m/s\\n(6:00 am CET | Tuesday, February 8, 2022)   \n",
       "3127  1 m/s\\n(7:00 am CET | Tuesday, February 8, 2022)   \n",
       "3128  1 m/s\\n(8:00 am CET | Tuesday, February 8, 2022)   \n",
       "3129  1 m/s\\n(9:00 am CET | Tuesday, February 8, 2022)   \n",
       "\n",
       "                                   Precipitation amount  \\\n",
       "3125  no precipitation\\n(5:00 am CET | Tuesday, Febr...   \n",
       "3126  no precipitation\\n(6:00 am CET | Tuesday, Febr...   \n",
       "3127  no precipitation\\n(7:00 am CET | Tuesday, Febr...   \n",
       "3128  no precipitation\\n(8:00 am CET | Tuesday, Febr...   \n",
       "3129  no precipitation\\n(9:00 am CET | Tuesday, Febr...   \n",
       "\n",
       "                         Moon Phase calculator  \\\n",
       "3125  | first quarter moon\\n46.20% illuminated   \n",
       "3126  | first quarter moon\\n46.60% illuminated   \n",
       "3127  | first quarter moon\\n47.00% illuminated   \n",
       "3128  | first quarter moon\\n47.40% illuminated   \n",
       "3129  | first quarter moon\\n47.80% illuminated   \n",
       "\n",
       "                                         query  \n",
       "3125  Moon Phase calculatorFebruary 8, 2022 5h  \n",
       "3126  Moon Phase calculatorFebruary 8, 2022 6h  \n",
       "3127  Moon Phase calculatorFebruary 8, 2022 7h  \n",
       "3128  Moon Phase calculatorFebruary 8, 2022 8h  \n",
       "3129  Moon Phase calculatorFebruary 8, 2022 9h  "
      ]
     },
     "execution_count": 4,
     "metadata": {},
     "output_type": "execute_result"
    }
   ],
   "source": [
    "mi = dt.datetime(2021,10,1)\n",
    "#ma = dt.datetime(2019,9,2)\n",
    "ma = dt.datetime(2022,8,2)\n",
    "df = pd.DataFrame(columns=['date', 'temperature', 'humidity', 'wind speed', 'Precipitation amount',\n",
    "                           'Moon Phase calculator','query']) #pressure\n",
    "path_weather = os.path.join(path_,'weather_exp2.csv')\n",
    "if len(glob.glob(path_weather))==1:\n",
    "    df = pd.read_csv(path_weather, sep=';', parse_dates=['date'])\n",
    "    #remove the last date, in case we stop in middle of the data to grab\n",
    "    #df = df[df['date']!=max(df['date'].unique())]\n",
    "    df = df.drop_duplicates(subset=None, keep='first', inplace=False)\n",
    "    print(df.shape)\n",
    "    print('We already have %d dates of weather'%df.shape[0])\n",
    "    #mi = max(mi, max(df['date'].tolist())) #not a good idea in case of errors as in that case we would like to try it again \n",
    "print(df[df.isin([\"ERROR\"]).any(axis=1)].shape)\n",
    "display(df[df.isin([\"ERROR\"]).any(axis=1)])\n",
    "df = df[~df.isin([\"ERROR\"]).any(axis=1)]\n",
    "#remove the rows with at least one error\n",
    "Daterange = pd.date_range(start=mi, end=ma, freq='H')   \n",
    "print(len(Daterange))\n",
    "Daterange = [d for d in Daterange if d not in df['date'].unique()]\n",
    "print(len(Daterange))\n",
    "if (len(Daterange)*len(li_type))>=2000:\n",
    "    print('WARNING: to many calls to be completed these queries!')\n",
    "print('You need %d new queries to complete this date interval'%(len(Daterange)*len(li_type)))\n",
    "df = df.sort_values(['date'])\n",
    "print(df.shape)\n",
    "df.tail(5)"
   ]
  },
  {
   "cell_type": "code",
   "execution_count": 5,
   "metadata": {
    "scrolled": true
   },
   "outputs": [
    {
     "name": "stderr",
     "output_type": "stream",
     "text": [
      "\r",
      "  0%|                                                                                         | 0/4218 [00:00<?, ?it/s]"
     ]
    },
    {
     "name": "stdout",
     "output_type": "stream",
     "text": [
      "QUERY:  Precipitation amount in Zollikofen October 10, 2021 10h\n",
      "QUERY:  temperature in Zollikofen October 10, 2021 10h\n",
      "QUERY:  humidity in Zollikofen October 10, 2021 10h\n",
      "ERROR: no data available-------------  humidity in Zollikofen October 10, 2021 10h\n",
      "ERROR:------------- name 'error' is not defined  ----------  humidity in Zollikofen October 10, 2021 10h\n",
      "QUERY:  wind speed in Zollikofen October 10, 2021 10h\n",
      "QUERY:  Moon Phase calculatorOctober 10, 2021 10h\n",
      "(3104, 7)\n"
     ]
    },
    {
     "data": {
      "text/html": [
       "<div>\n",
       "<style scoped>\n",
       "    .dataframe tbody tr th:only-of-type {\n",
       "        vertical-align: middle;\n",
       "    }\n",
       "\n",
       "    .dataframe tbody tr th {\n",
       "        vertical-align: top;\n",
       "    }\n",
       "\n",
       "    .dataframe thead th {\n",
       "        text-align: right;\n",
       "    }\n",
       "</style>\n",
       "<table border=\"1\" class=\"dataframe\">\n",
       "  <thead>\n",
       "    <tr style=\"text-align: right;\">\n",
       "      <th></th>\n",
       "      <th>date</th>\n",
       "      <th>temperature</th>\n",
       "      <th>humidity</th>\n",
       "      <th>wind speed</th>\n",
       "      <th>Precipitation amount</th>\n",
       "      <th>Moon Phase calculator</th>\n",
       "      <th>query</th>\n",
       "    </tr>\n",
       "  </thead>\n",
       "  <tbody>\n",
       "    <tr>\n",
       "      <th>3129</th>\n",
       "      <td>2022-02-08 09:00:00</td>\n",
       "      <td>-3 °C\\n(9:00 am CET | Tuesday, February 8, 2022)</td>\n",
       "      <td>average: 93% (93%)\\n(9:00 am CET | Tuesday, Fe...</td>\n",
       "      <td>1 m/s\\n(9:00 am CET | Tuesday, February 8, 2022)</td>\n",
       "      <td>no precipitation\\n(9:00 am CET | Tuesday, Febr...</td>\n",
       "      <td>| first quarter moon\\n47.80% illuminated</td>\n",
       "      <td>Moon Phase calculatorFebruary 8, 2022 9h</td>\n",
       "    </tr>\n",
       "    <tr>\n",
       "      <th>0</th>\n",
       "      <td>2021-10-10 10:00:00</td>\n",
       "      <td>6 °C\\n(10:00 am CEST | Sunday, October 10, 2021)</td>\n",
       "      <td>ERROR</td>\n",
       "      <td>2 m/s\\n(10:00 am CEST | Sunday, October 10, 2021)</td>\n",
       "      <td>(unknown)\\n(10:00 am CEST | Sunday, October 10...</td>\n",
       "      <td>| waxing crescent moon\\n19.88% illuminated</td>\n",
       "      <td>Moon Phase calculatorOctober 10, 2021 10h</td>\n",
       "    </tr>\n",
       "  </tbody>\n",
       "</table>\n",
       "</div>"
      ],
      "text/plain": [
       "                    date                                       temperature  \\\n",
       "3129 2022-02-08 09:00:00  -3 °C\\n(9:00 am CET | Tuesday, February 8, 2022)   \n",
       "0    2021-10-10 10:00:00  6 °C\\n(10:00 am CEST | Sunday, October 10, 2021)   \n",
       "\n",
       "                                               humidity  \\\n",
       "3129  average: 93% (93%)\\n(9:00 am CET | Tuesday, Fe...   \n",
       "0                                                 ERROR   \n",
       "\n",
       "                                             wind speed  \\\n",
       "3129   1 m/s\\n(9:00 am CET | Tuesday, February 8, 2022)   \n",
       "0     2 m/s\\n(10:00 am CEST | Sunday, October 10, 2021)   \n",
       "\n",
       "                                   Precipitation amount  \\\n",
       "3129  no precipitation\\n(9:00 am CET | Tuesday, Febr...   \n",
       "0     (unknown)\\n(10:00 am CEST | Sunday, October 10...   \n",
       "\n",
       "                           Moon Phase calculator  \\\n",
       "3129    | first quarter moon\\n47.80% illuminated   \n",
       "0     | waxing crescent moon\\n19.88% illuminated   \n",
       "\n",
       "                                          query  \n",
       "3129   Moon Phase calculatorFebruary 8, 2022 9h  \n",
       "0     Moon Phase calculatorOctober 10, 2021 10h  "
      ]
     },
     "metadata": {},
     "output_type": "display_data"
    },
    {
     "name": "stderr",
     "output_type": "stream",
     "text": [
      "\r",
      "  0%|                                                                              | 1/4218 [00:14<17:30:57, 14.95s/it]"
     ]
    },
    {
     "name": "stdout",
     "output_type": "stream",
     "text": [
      "QUERY:  Precipitation amount in Zollikofen October 10, 2021 11h\n",
      "QUERY:  temperature in Zollikofen October 10, 2021 11h\n",
      "QUERY:  humidity in Zollikofen October 10, 2021 11h\n",
      "ERROR: no data available-------------  humidity in Zollikofen October 10, 2021 11h\n",
      "ERROR:------------- name 'error' is not defined  ----------  humidity in Zollikofen October 10, 2021 11h\n",
      "QUERY:  wind speed in Zollikofen October 10, 2021 11h\n",
      "QUERY:  Moon Phase calculatorOctober 10, 2021 11h\n"
     ]
    },
    {
     "name": "stderr",
     "output_type": "stream",
     "text": [
      "\r",
      "  0%|                                                                              | 2/4218 [00:29<17:12:58, 14.70s/it]"
     ]
    },
    {
     "name": "stdout",
     "output_type": "stream",
     "text": [
      "QUERY:  Precipitation amount in Zollikofen October 10, 2021 13h\n",
      "QUERY:  temperature in Zollikofen October 10, 2021 13h\n",
      "QUERY:  humidity in Zollikofen October 10, 2021 13h\n",
      "ERROR: no data available-------------  humidity in Zollikofen October 10, 2021 13h\n",
      "ERROR:------------- name 'error' is not defined  ----------  humidity in Zollikofen October 10, 2021 13h\n",
      "QUERY:  wind speed in Zollikofen October 10, 2021 13h\n",
      "QUERY:  Moon Phase calculatorOctober 10, 2021 13h\n"
     ]
    },
    {
     "name": "stderr",
     "output_type": "stream",
     "text": [
      "\r",
      "  0%|                                                                              | 3/4218 [00:43<17:06:14, 14.61s/it]"
     ]
    },
    {
     "name": "stdout",
     "output_type": "stream",
     "text": [
      "QUERY:  Precipitation amount in Zollikofen October 10, 2021 14h\n",
      "QUERY:  temperature in Zollikofen October 10, 2021 14h\n",
      "QUERY:  humidity in Zollikofen October 10, 2021 14h\n",
      "ERROR: no data available-------------  humidity in Zollikofen October 10, 2021 14h\n",
      "ERROR:------------- name 'error' is not defined  ----------  humidity in Zollikofen October 10, 2021 14h\n",
      "QUERY:  wind speed in Zollikofen October 10, 2021 14h\n",
      "QUERY:  Moon Phase calculatorOctober 10, 2021 14h\n"
     ]
    },
    {
     "name": "stderr",
     "output_type": "stream",
     "text": [
      "\r",
      "  0%|                                                                              | 4/4218 [00:58<17:10:58, 14.68s/it]"
     ]
    },
    {
     "name": "stdout",
     "output_type": "stream",
     "text": [
      "QUERY:  Precipitation amount in Zollikofen October 10, 2021 15h\n",
      "QUERY:  temperature in Zollikofen October 10, 2021 15h\n",
      "QUERY:  humidity in Zollikofen October 10, 2021 15h\n",
      "ERROR: no data available-------------  humidity in Zollikofen October 10, 2021 15h\n",
      "ERROR:------------- name 'error' is not defined  ----------  humidity in Zollikofen October 10, 2021 15h\n",
      "QUERY:  wind speed in Zollikofen October 10, 2021 15h\n",
      "QUERY:  Moon Phase calculatorOctober 10, 2021 15h\n"
     ]
    },
    {
     "name": "stderr",
     "output_type": "stream",
     "text": [
      "\r",
      "  0%|                                                                              | 5/4218 [01:13<17:09:49, 14.67s/it]"
     ]
    },
    {
     "name": "stdout",
     "output_type": "stream",
     "text": [
      "QUERY:  Precipitation amount in Zollikofen October 10, 2021 16h\n",
      "QUERY:  temperature in Zollikofen October 10, 2021 16h\n",
      "QUERY:  humidity in Zollikofen October 10, 2021 16h\n",
      "ERROR: no data available-------------  humidity in Zollikofen October 10, 2021 16h\n",
      "ERROR:------------- name 'error' is not defined  ----------  humidity in Zollikofen October 10, 2021 16h\n",
      "QUERY:  wind speed in Zollikofen October 10, 2021 16h\n",
      "QUERY:  Moon Phase calculatorOctober 10, 2021 16h\n"
     ]
    },
    {
     "name": "stderr",
     "output_type": "stream",
     "text": [
      "\r",
      "  0%|                                                                              | 6/4218 [01:28<17:12:31, 14.71s/it]"
     ]
    },
    {
     "name": "stdout",
     "output_type": "stream",
     "text": [
      "QUERY:  Precipitation amount in Zollikofen October 10, 2021 17h\n",
      "QUERY:  temperature in Zollikofen October 10, 2021 17h\n",
      "QUERY:  humidity in Zollikofen October 10, 2021 17h\n",
      "ERROR: no data available-------------  humidity in Zollikofen October 10, 2021 17h\n",
      "ERROR:------------- name 'error' is not defined  ----------  humidity in Zollikofen October 10, 2021 17h\n",
      "QUERY:  wind speed in Zollikofen October 10, 2021 17h\n",
      "QUERY:  Moon Phase calculatorOctober 10, 2021 17h\n"
     ]
    },
    {
     "name": "stderr",
     "output_type": "stream",
     "text": [
      "\r",
      "  0%|▏                                                                             | 7/4218 [01:42<17:00:52, 14.55s/it]"
     ]
    },
    {
     "name": "stdout",
     "output_type": "stream",
     "text": [
      "QUERY:  Precipitation amount in Zollikofen October 10, 2021 20h\n",
      "QUERY:  temperature in Zollikofen October 10, 2021 20h\n",
      "QUERY:  humidity in Zollikofen October 10, 2021 20h\n",
      "ERROR: no data available-------------  humidity in Zollikofen October 10, 2021 20h\n",
      "ERROR:------------- name 'error' is not defined  ----------  humidity in Zollikofen October 10, 2021 20h\n",
      "QUERY:  wind speed in Zollikofen October 10, 2021 20h\n",
      "QUERY:  Moon Phase calculatorOctober 10, 2021 20h\n"
     ]
    },
    {
     "name": "stderr",
     "output_type": "stream",
     "text": [
      "\r",
      "  0%|▏                                                                             | 8/4218 [01:58<17:36:04, 15.05s/it]"
     ]
    },
    {
     "name": "stdout",
     "output_type": "stream",
     "text": [
      "QUERY:  Precipitation amount in Zollikofen October 10, 2021 22h\n",
      "QUERY:  temperature in Zollikofen October 10, 2021 22h\n",
      "QUERY:  humidity in Zollikofen October 10, 2021 22h\n",
      "ERROR: no data available-------------  humidity in Zollikofen October 10, 2021 22h\n",
      "ERROR:------------- name 'error' is not defined  ----------  humidity in Zollikofen October 10, 2021 22h\n",
      "QUERY:  wind speed in Zollikofen October 10, 2021 22h\n",
      "QUERY:  Moon Phase calculatorOctober 10, 2021 22h\n"
     ]
    },
    {
     "name": "stderr",
     "output_type": "stream",
     "text": [
      "\r",
      "  0%|▏                                                                             | 9/4218 [02:12<17:11:44, 14.71s/it]"
     ]
    },
    {
     "name": "stdout",
     "output_type": "stream",
     "text": [
      "QUERY:  Precipitation amount in Zollikofen October 10, 2021 23h\n",
      "QUERY:  temperature in Zollikofen October 10, 2021 23h\n",
      "QUERY:  humidity in Zollikofen October 10, 2021 23h\n",
      "ERROR: no data available-------------  humidity in Zollikofen October 10, 2021 23h\n",
      "ERROR:------------- name 'error' is not defined  ----------  humidity in Zollikofen October 10, 2021 23h\n",
      "QUERY:  wind speed in Zollikofen October 10, 2021 23h\n",
      "QUERY:  Moon Phase calculatorOctober 10, 2021 23h\n"
     ]
    },
    {
     "name": "stderr",
     "output_type": "stream",
     "text": [
      "\r",
      "  0%|▏                                                                            | 10/4218 [02:27<17:14:39, 14.75s/it]"
     ]
    },
    {
     "name": "stdout",
     "output_type": "stream",
     "text": [
      "QUERY:  Precipitation amount in Zollikofen October 11, 2021 0h\n",
      "QUERY:  temperature in Zollikofen October 11, 2021 0h\n",
      "QUERY:  humidity in Zollikofen October 11, 2021 0h\n",
      "ERROR: no data available-------------  humidity in Zollikofen October 11, 2021 0h\n",
      "ERROR:------------- name 'error' is not defined  ----------  humidity in Zollikofen October 11, 2021 0h\n",
      "QUERY:  wind speed in Zollikofen October 11, 2021 0h\n",
      "QUERY:  Moon Phase calculatorOctober 11, 2021 0h\n",
      "(3114, 7)\n"
     ]
    },
    {
     "data": {
      "text/html": [
       "<div>\n",
       "<style scoped>\n",
       "    .dataframe tbody tr th:only-of-type {\n",
       "        vertical-align: middle;\n",
       "    }\n",
       "\n",
       "    .dataframe tbody tr th {\n",
       "        vertical-align: top;\n",
       "    }\n",
       "\n",
       "    .dataframe thead th {\n",
       "        text-align: right;\n",
       "    }\n",
       "</style>\n",
       "<table border=\"1\" class=\"dataframe\">\n",
       "  <thead>\n",
       "    <tr style=\"text-align: right;\">\n",
       "      <th></th>\n",
       "      <th>date</th>\n",
       "      <th>temperature</th>\n",
       "      <th>humidity</th>\n",
       "      <th>wind speed</th>\n",
       "      <th>Precipitation amount</th>\n",
       "      <th>Moon Phase calculator</th>\n",
       "      <th>query</th>\n",
       "    </tr>\n",
       "  </thead>\n",
       "  <tbody>\n",
       "    <tr>\n",
       "      <th>8</th>\n",
       "      <td>2021-10-10 23:00:00</td>\n",
       "      <td>4 °C\\n(11:00 pm CEST | Sunday, October 10, 2021)</td>\n",
       "      <td>ERROR</td>\n",
       "      <td>1 m/s\\n(11:00 pm CEST | Sunday, October 10, 2021)</td>\n",
       "      <td>(unknown)\\n(11:00 pm CEST | Sunday, October 10...</td>\n",
       "      <td>| waxing crescent moon\\n25.21% illuminated</td>\n",
       "      <td>Moon Phase calculatorOctober 10, 2021 23h</td>\n",
       "    </tr>\n",
       "    <tr>\n",
       "      <th>9</th>\n",
       "      <td>2021-10-11 00:00:00</td>\n",
       "      <td>4 °C\\n(12:00 am CEST | Monday, October 11, 2021)</td>\n",
       "      <td>ERROR</td>\n",
       "      <td>1 m/s\\n(12:00 am CEST | Monday, October 11, 2021)</td>\n",
       "      <td>(unknown)\\n(12:00 am CEST | Monday, October 11...</td>\n",
       "      <td>| waxing crescent moon\\n25.63% illuminated</td>\n",
       "      <td>Moon Phase calculatorOctober 11, 2021 0h</td>\n",
       "    </tr>\n",
       "  </tbody>\n",
       "</table>\n",
       "</div>"
      ],
      "text/plain": [
       "                 date                                       temperature  \\\n",
       "8 2021-10-10 23:00:00  4 °C\\n(11:00 pm CEST | Sunday, October 10, 2021)   \n",
       "9 2021-10-11 00:00:00  4 °C\\n(12:00 am CEST | Monday, October 11, 2021)   \n",
       "\n",
       "  humidity                                         wind speed  \\\n",
       "8    ERROR  1 m/s\\n(11:00 pm CEST | Sunday, October 10, 2021)   \n",
       "9    ERROR  1 m/s\\n(12:00 am CEST | Monday, October 11, 2021)   \n",
       "\n",
       "                                Precipitation amount  \\\n",
       "8  (unknown)\\n(11:00 pm CEST | Sunday, October 10...   \n",
       "9  (unknown)\\n(12:00 am CEST | Monday, October 11...   \n",
       "\n",
       "                        Moon Phase calculator  \\\n",
       "8  | waxing crescent moon\\n25.21% illuminated   \n",
       "9  | waxing crescent moon\\n25.63% illuminated   \n",
       "\n",
       "                                       query  \n",
       "8  Moon Phase calculatorOctober 10, 2021 23h  \n",
       "9   Moon Phase calculatorOctober 11, 2021 0h  "
      ]
     },
     "metadata": {},
     "output_type": "display_data"
    },
    {
     "name": "stderr",
     "output_type": "stream",
     "text": [
      "\r",
      "  0%|▏                                                                            | 11/4218 [02:42<17:13:55, 14.75s/it]"
     ]
    },
    {
     "name": "stdout",
     "output_type": "stream",
     "text": [
      "QUERY:  Precipitation amount in Zollikofen October 11, 2021 1h\n",
      "QUERY:  temperature in Zollikofen October 11, 2021 1h\n",
      "QUERY:  humidity in Zollikofen October 11, 2021 1h\n",
      "ERROR: no data available-------------  humidity in Zollikofen October 11, 2021 1h\n",
      "ERROR:------------- name 'error' is not defined  ----------  humidity in Zollikofen October 11, 2021 1h\n",
      "QUERY:  wind speed in Zollikofen October 11, 2021 1h\n",
      "QUERY:  Moon Phase calculatorOctober 11, 2021 1h\n"
     ]
    },
    {
     "name": "stderr",
     "output_type": "stream",
     "text": [
      "\r",
      "  0%|▏                                                                            | 12/4218 [02:56<17:04:30, 14.62s/it]"
     ]
    },
    {
     "name": "stdout",
     "output_type": "stream",
     "text": [
      "QUERY:  Precipitation amount in Zollikofen October 11, 2021 2h\n",
      "QUERY:  temperature in Zollikofen October 11, 2021 2h\n",
      "QUERY:  humidity in Zollikofen October 11, 2021 2h\n",
      "ERROR: no data available-------------  humidity in Zollikofen October 11, 2021 2h\n",
      "ERROR:------------- name 'error' is not defined  ----------  humidity in Zollikofen October 11, 2021 2h\n",
      "QUERY:  wind speed in Zollikofen October 11, 2021 2h\n",
      "QUERY:  Moon Phase calculatorOctober 11, 2021 2h\n"
     ]
    },
    {
     "name": "stderr",
     "output_type": "stream",
     "text": [
      "\r",
      "  0%|▏                                                                            | 13/4218 [03:12<17:42:22, 15.16s/it]"
     ]
    },
    {
     "name": "stdout",
     "output_type": "stream",
     "text": [
      "QUERY:  Precipitation amount in Zollikofen October 11, 2021 4h\n",
      "QUERY:  temperature in Zollikofen October 11, 2021 4h\n",
      "QUERY:  humidity in Zollikofen October 11, 2021 4h\n",
      "ERROR: no data available-------------  humidity in Zollikofen October 11, 2021 4h\n",
      "ERROR:------------- name 'error' is not defined  ----------  humidity in Zollikofen October 11, 2021 4h\n",
      "QUERY:  wind speed in Zollikofen October 11, 2021 4h\n",
      "QUERY:  Moon Phase calculatorOctober 11, 2021 4h\n"
     ]
    },
    {
     "name": "stderr",
     "output_type": "stream",
     "text": [
      "\r",
      "  0%|▎                                                                            | 14/4218 [03:27<17:40:11, 15.13s/it]"
     ]
    },
    {
     "name": "stdout",
     "output_type": "stream",
     "text": [
      "QUERY:  Precipitation amount in Zollikofen October 11, 2021 5h\n",
      "QUERY:  temperature in Zollikofen October 11, 2021 5h\n",
      "QUERY:  humidity in Zollikofen October 11, 2021 5h\n",
      "ERROR: no data available-------------  humidity in Zollikofen October 11, 2021 5h\n",
      "ERROR:------------- name 'error' is not defined  ----------  humidity in Zollikofen October 11, 2021 5h\n",
      "QUERY:  wind speed in Zollikofen October 11, 2021 5h\n",
      "QUERY:  Moon Phase calculatorOctober 11, 2021 5h\n"
     ]
    },
    {
     "name": "stderr",
     "output_type": "stream",
     "text": [
      "\r",
      "  0%|▎                                                                            | 15/4218 [03:42<17:19:20, 14.84s/it]"
     ]
    },
    {
     "name": "stdout",
     "output_type": "stream",
     "text": [
      "QUERY:  Precipitation amount in Zollikofen October 11, 2021 6h\n",
      "QUERY:  temperature in Zollikofen October 11, 2021 6h\n",
      "QUERY:  humidity in Zollikofen October 11, 2021 6h\n",
      "ERROR: no data available-------------  humidity in Zollikofen October 11, 2021 6h\n",
      "ERROR:------------- name 'error' is not defined  ----------  humidity in Zollikofen October 11, 2021 6h\n",
      "QUERY:  wind speed in Zollikofen October 11, 2021 6h\n",
      "QUERY:  Moon Phase calculatorOctober 11, 2021 6h\n"
     ]
    },
    {
     "name": "stderr",
     "output_type": "stream",
     "text": [
      "\r",
      "  0%|▎                                                                            | 16/4218 [03:56<17:18:26, 14.83s/it]"
     ]
    },
    {
     "name": "stdout",
     "output_type": "stream",
     "text": [
      "QUERY:  Precipitation amount in Zollikofen October 11, 2021 7h\n",
      "QUERY:  temperature in Zollikofen October 11, 2021 7h\n",
      "QUERY:  humidity in Zollikofen October 11, 2021 7h\n",
      "ERROR: no data available-------------  humidity in Zollikofen October 11, 2021 7h\n",
      "ERROR:------------- name 'error' is not defined  ----------  humidity in Zollikofen October 11, 2021 7h\n",
      "QUERY:  wind speed in Zollikofen October 11, 2021 7h\n",
      "QUERY:  Moon Phase calculatorOctober 11, 2021 7h\n"
     ]
    },
    {
     "name": "stderr",
     "output_type": "stream",
     "text": [
      "\r",
      "  0%|▎                                                                            | 17/4218 [04:11<17:13:05, 14.75s/it]"
     ]
    },
    {
     "name": "stdout",
     "output_type": "stream",
     "text": [
      "QUERY:  Precipitation amount in Zollikofen October 14, 2021 10h\n",
      "QUERY:  temperature in Zollikofen October 14, 2021 10h\n",
      "QUERY:  humidity in Zollikofen October 14, 2021 10h\n",
      "QUERY:  wind speed in Zollikofen October 14, 2021 10h\n",
      "QUERY:  Moon Phase calculatorOctober 14, 2021 10h\n"
     ]
    },
    {
     "name": "stderr",
     "output_type": "stream",
     "text": [
      "\r",
      "  0%|▎                                                                            | 18/4218 [04:26<17:14:05, 14.77s/it]"
     ]
    },
    {
     "name": "stdout",
     "output_type": "stream",
     "text": [
      "QUERY:  Precipitation amount in Zollikofen November 6, 2021 2h\n",
      "QUERY:  temperature in Zollikofen November 6, 2021 2h\n",
      "QUERY:  humidity in Zollikofen November 6, 2021 2h\n",
      "QUERY:  wind speed in Zollikofen November 6, 2021 2h\n",
      "QUERY:  Moon Phase calculatorNovember 6, 2021 2h\n"
     ]
    },
    {
     "name": "stderr",
     "output_type": "stream",
     "text": [
      "\r",
      "  0%|▎                                                                            | 19/4218 [04:40<17:09:25, 14.71s/it]"
     ]
    },
    {
     "name": "stdout",
     "output_type": "stream",
     "text": [
      "QUERY:  Precipitation amount in Zollikofen November 6, 2021 6h\n",
      "QUERY:  temperature in Zollikofen November 6, 2021 6h\n",
      "QUERY:  humidity in Zollikofen November 6, 2021 6h\n",
      "QUERY:  wind speed in Zollikofen November 6, 2021 6h\n",
      "QUERY:  Moon Phase calculatorNovember 6, 2021 6h\n"
     ]
    },
    {
     "name": "stderr",
     "output_type": "stream",
     "text": [
      "\r",
      "  0%|▎                                                                            | 20/4218 [04:55<17:10:55, 14.73s/it]"
     ]
    },
    {
     "name": "stdout",
     "output_type": "stream",
     "text": [
      "QUERY:  Precipitation amount in Zollikofen November 6, 2021 8h\n",
      "QUERY:  temperature in Zollikofen November 6, 2021 8h\n",
      "QUERY:  humidity in Zollikofen November 6, 2021 8h\n",
      "QUERY:  wind speed in Zollikofen November 6, 2021 8h\n",
      "QUERY:  Moon Phase calculatorNovember 6, 2021 8h\n",
      "(3124, 7)\n"
     ]
    },
    {
     "data": {
      "text/html": [
       "<div>\n",
       "<style scoped>\n",
       "    .dataframe tbody tr th:only-of-type {\n",
       "        vertical-align: middle;\n",
       "    }\n",
       "\n",
       "    .dataframe tbody tr th {\n",
       "        vertical-align: top;\n",
       "    }\n",
       "\n",
       "    .dataframe thead th {\n",
       "        text-align: right;\n",
       "    }\n",
       "</style>\n",
       "<table border=\"1\" class=\"dataframe\">\n",
       "  <thead>\n",
       "    <tr style=\"text-align: right;\">\n",
       "      <th></th>\n",
       "      <th>date</th>\n",
       "      <th>temperature</th>\n",
       "      <th>humidity</th>\n",
       "      <th>wind speed</th>\n",
       "      <th>Precipitation amount</th>\n",
       "      <th>Moon Phase calculator</th>\n",
       "      <th>query</th>\n",
       "    </tr>\n",
       "  </thead>\n",
       "  <tbody>\n",
       "    <tr>\n",
       "      <th>8</th>\n",
       "      <td>2021-11-06 06:00:00</td>\n",
       "      <td>2 °C\\n(6:00 am CET | Saturday, November 6, 2021)</td>\n",
       "      <td>average: 93% (93%)\\n(6:00 am CET | Saturday, N...</td>\n",
       "      <td>2 m/s\\n(6:00 am CET | Saturday, November 6, 2021)</td>\n",
       "      <td>no precipitation\\n(6:00 am CET | Saturday, Nov...</td>\n",
       "      <td>| waxing crescent moon\\n2.62% illuminated</td>\n",
       "      <td>Moon Phase calculatorNovember 6, 2021 6h</td>\n",
       "    </tr>\n",
       "    <tr>\n",
       "      <th>9</th>\n",
       "      <td>2021-11-06 08:00:00</td>\n",
       "      <td>2 °C\\n(8:00 am CET | Saturday, November 6, 2021)</td>\n",
       "      <td>average: 100% (100%)\\n(8:00 am CET | Saturday,...</td>\n",
       "      <td>2 m/s\\n(8:00 am CET | Saturday, November 6, 2021)</td>\n",
       "      <td>no precipitation\\n(8:00 am CET | Saturday, Nov...</td>\n",
       "      <td>| waxing crescent moon\\n2.96% illuminated</td>\n",
       "      <td>Moon Phase calculatorNovember 6, 2021 8h</td>\n",
       "    </tr>\n",
       "  </tbody>\n",
       "</table>\n",
       "</div>"
      ],
      "text/plain": [
       "                 date                                       temperature  \\\n",
       "8 2021-11-06 06:00:00  2 °C\\n(6:00 am CET | Saturday, November 6, 2021)   \n",
       "9 2021-11-06 08:00:00  2 °C\\n(8:00 am CET | Saturday, November 6, 2021)   \n",
       "\n",
       "                                            humidity  \\\n",
       "8  average: 93% (93%)\\n(6:00 am CET | Saturday, N...   \n",
       "9  average: 100% (100%)\\n(8:00 am CET | Saturday,...   \n",
       "\n",
       "                                          wind speed  \\\n",
       "8  2 m/s\\n(6:00 am CET | Saturday, November 6, 2021)   \n",
       "9  2 m/s\\n(8:00 am CET | Saturday, November 6, 2021)   \n",
       "\n",
       "                                Precipitation amount  \\\n",
       "8  no precipitation\\n(6:00 am CET | Saturday, Nov...   \n",
       "9  no precipitation\\n(8:00 am CET | Saturday, Nov...   \n",
       "\n",
       "                       Moon Phase calculator  \\\n",
       "8  | waxing crescent moon\\n2.62% illuminated   \n",
       "9  | waxing crescent moon\\n2.96% illuminated   \n",
       "\n",
       "                                      query  \n",
       "8  Moon Phase calculatorNovember 6, 2021 6h  \n",
       "9  Moon Phase calculatorNovember 6, 2021 8h  "
      ]
     },
     "metadata": {},
     "output_type": "display_data"
    },
    {
     "name": "stderr",
     "output_type": "stream",
     "text": [
      "\r",
      "  0%|▍                                                                            | 21/4218 [05:12<17:59:36, 15.43s/it]"
     ]
    },
    {
     "name": "stdout",
     "output_type": "stream",
     "text": [
      "QUERY:  Precipitation amount in Zollikofen November 15, 2021 3h\n",
      "QUERY:  temperature in Zollikofen November 15, 2021 3h\n",
      "QUERY:  humidity in Zollikofen November 15, 2021 3h\n",
      "QUERY:  wind speed in Zollikofen November 15, 2021 3h\n",
      "QUERY:  Moon Phase calculatorNovember 15, 2021 3h\n"
     ]
    },
    {
     "name": "stderr",
     "output_type": "stream",
     "text": [
      "\r",
      "  1%|▍                                                                            | 22/4218 [05:27<17:50:46, 15.31s/it]"
     ]
    },
    {
     "name": "stdout",
     "output_type": "stream",
     "text": [
      "QUERY:  Precipitation amount in Zollikofen December 11, 2021 18h\n",
      "QUERY:  temperature in Zollikofen December 11, 2021 18h\n",
      "QUERY:  humidity in Zollikofen December 11, 2021 18h\n",
      "ERROR: no data available-------------  humidity in Zollikofen December 11, 2021 18h\n",
      "ERROR:------------- name 'error' is not defined  ----------  humidity in Zollikofen December 11, 2021 18h\n",
      "QUERY:  wind speed in Zollikofen December 11, 2021 18h\n",
      "QUERY:  Moon Phase calculatorDecember 11, 2021 18h\n"
     ]
    },
    {
     "name": "stderr",
     "output_type": "stream",
     "text": [
      "\r",
      "  1%|▍                                                                            | 23/4218 [05:42<17:37:18, 15.12s/it]"
     ]
    },
    {
     "name": "stdout",
     "output_type": "stream",
     "text": [
      "QUERY:  Precipitation amount in Zollikofen December 26, 2021 23h\n",
      "QUERY:  temperature in Zollikofen December 26, 2021 23h\n",
      "QUERY:  humidity in Zollikofen December 26, 2021 23h\n",
      "QUERY:  wind speed in Zollikofen December 26, 2021 23h\n",
      "QUERY:  Moon Phase calculatorDecember 26, 2021 23h\n"
     ]
    },
    {
     "name": "stderr",
     "output_type": "stream",
     "text": [
      "\r",
      "  1%|▍                                                                            | 24/4218 [05:58<17:58:55, 15.44s/it]"
     ]
    },
    {
     "name": "stdout",
     "output_type": "stream",
     "text": [
      "QUERY:  Precipitation amount in Zollikofen January 3, 2022 4h\n",
      "QUERY:  temperature in Zollikofen January 3, 2022 4h\n",
      "QUERY:  humidity in Zollikofen January 3, 2022 4h\n",
      "QUERY:  wind speed in Zollikofen January 3, 2022 4h\n",
      "QUERY:  Moon Phase calculatorJanuary 3, 2022 4h\n"
     ]
    },
    {
     "name": "stderr",
     "output_type": "stream",
     "text": [
      "\r",
      "  1%|▍                                                                            | 25/4218 [06:13<17:54:09, 15.37s/it]"
     ]
    },
    {
     "name": "stdout",
     "output_type": "stream",
     "text": [
      "QUERY:  Precipitation amount in Zollikofen January 10, 2022 0h\n",
      "QUERY:  temperature in Zollikofen January 10, 2022 0h\n",
      "QUERY:  humidity in Zollikofen January 10, 2022 0h\n",
      "QUERY:  wind speed in Zollikofen January 10, 2022 0h\n",
      "QUERY:  Moon Phase calculatorJanuary 10, 2022 0h\n"
     ]
    },
    {
     "name": "stderr",
     "output_type": "stream",
     "text": [
      "\r",
      "  1%|▍                                                                            | 26/4218 [06:28<17:42:22, 15.21s/it]"
     ]
    },
    {
     "name": "stdout",
     "output_type": "stream",
     "text": [
      "QUERY:  Precipitation amount in Zollikofen January 30, 2022 1h\n",
      "QUERY:  temperature in Zollikofen January 30, 2022 1h\n",
      "QUERY:  humidity in Zollikofen January 30, 2022 1h\n",
      "QUERY:  wind speed in Zollikofen January 30, 2022 1h\n",
      "QUERY:  Moon Phase calculatorJanuary 30, 2022 1h\n"
     ]
    },
    {
     "name": "stderr",
     "output_type": "stream",
     "text": [
      "\r",
      "  1%|▍                                                                            | 27/4218 [06:43<17:45:32, 15.25s/it]"
     ]
    },
    {
     "name": "stdout",
     "output_type": "stream",
     "text": [
      "QUERY:  Precipitation amount in Zollikofen February 8, 2022 10h\n",
      "QUERY:  temperature in Zollikofen February 8, 2022 10h\n",
      "QUERY:  humidity in Zollikofen February 8, 2022 10h\n",
      "QUERY:  wind speed in Zollikofen February 8, 2022 10h\n",
      "QUERY:  Moon Phase calculatorFebruary 8, 2022 10h\n"
     ]
    },
    {
     "name": "stderr",
     "output_type": "stream",
     "text": [
      "\r",
      "  1%|▌                                                                            | 28/4218 [06:58<17:38:08, 15.15s/it]"
     ]
    },
    {
     "name": "stdout",
     "output_type": "stream",
     "text": [
      "QUERY:  Precipitation amount in Zollikofen February 8, 2022 11h\n",
      "QUERY:  temperature in Zollikofen February 8, 2022 11h\n",
      "QUERY:  humidity in Zollikofen February 8, 2022 11h\n",
      "QUERY:  wind speed in Zollikofen February 8, 2022 11h\n",
      "QUERY:  Moon Phase calculatorFebruary 8, 2022 11h\n"
     ]
    },
    {
     "name": "stderr",
     "output_type": "stream",
     "text": [
      "\r",
      "  1%|▌                                                                            | 29/4218 [07:14<17:55:46, 15.41s/it]"
     ]
    },
    {
     "name": "stdout",
     "output_type": "stream",
     "text": [
      "QUERY:  Precipitation amount in Zollikofen February 8, 2022 12h\n",
      "QUERY:  temperature in Zollikofen February 8, 2022 12h\n",
      "QUERY:  humidity in Zollikofen February 8, 2022 12h\n",
      "QUERY:  wind speed in Zollikofen February 8, 2022 12h\n",
      "QUERY:  Moon Phase calculatorFebruary 8, 2022 12h\n"
     ]
    },
    {
     "name": "stderr",
     "output_type": "stream",
     "text": [
      "\r",
      "  1%|▌                                                                            | 30/4218 [07:28<17:28:41, 15.02s/it]"
     ]
    },
    {
     "name": "stdout",
     "output_type": "stream",
     "text": [
      "QUERY:  Precipitation amount in Zollikofen February 8, 2022 13h\n",
      "QUERY:  temperature in Zollikofen February 8, 2022 13h\n",
      "QUERY:  humidity in Zollikofen February 8, 2022 13h\n",
      "QUERY:  wind speed in Zollikofen February 8, 2022 13h\n",
      "QUERY:  Moon Phase calculatorFebruary 8, 2022 13h\n",
      "(3134, 7)\n"
     ]
    },
    {
     "data": {
      "text/html": [
       "<div>\n",
       "<style scoped>\n",
       "    .dataframe tbody tr th:only-of-type {\n",
       "        vertical-align: middle;\n",
       "    }\n",
       "\n",
       "    .dataframe tbody tr th {\n",
       "        vertical-align: top;\n",
       "    }\n",
       "\n",
       "    .dataframe thead th {\n",
       "        text-align: right;\n",
       "    }\n",
       "</style>\n",
       "<table border=\"1\" class=\"dataframe\">\n",
       "  <thead>\n",
       "    <tr style=\"text-align: right;\">\n",
       "      <th></th>\n",
       "      <th>date</th>\n",
       "      <th>temperature</th>\n",
       "      <th>humidity</th>\n",
       "      <th>wind speed</th>\n",
       "      <th>Precipitation amount</th>\n",
       "      <th>Moon Phase calculator</th>\n",
       "      <th>query</th>\n",
       "    </tr>\n",
       "  </thead>\n",
       "  <tbody>\n",
       "    <tr>\n",
       "      <th>8</th>\n",
       "      <td>2022-02-08 12:00:00</td>\n",
       "      <td>5 °C\\n(12:00 pm CET | Tuesday, February 8, 2022)</td>\n",
       "      <td>average: 47% (45 to 49%)\\n(12:00 pm CET | Tues...</td>\n",
       "      <td>1 m/s\\n(12:00 pm CET | Tuesday, February 8, 2022)</td>\n",
       "      <td>no precipitation\\n(12:00 pm CET | Tuesday, Feb...</td>\n",
       "      <td>| first quarter moon\\n49.00% illuminated</td>\n",
       "      <td>Moon Phase calculatorFebruary 8, 2022 12h</td>\n",
       "    </tr>\n",
       "    <tr>\n",
       "      <th>9</th>\n",
       "      <td>2022-02-08 13:00:00</td>\n",
       "      <td>6 °C\\n(1:00 pm CET | Tuesday, February 8, 2022)</td>\n",
       "      <td>average: 42% (42%)\\n(1:00 pm CET | Tuesday, Fe...</td>\n",
       "      <td>1 m/s\\n(1:00 pm CET | Tuesday, February 8, 2022)</td>\n",
       "      <td>no precipitation\\n(1:00 pm CET | Tuesday, Febr...</td>\n",
       "      <td>| first quarter moon\\n49.40% illuminated</td>\n",
       "      <td>Moon Phase calculatorFebruary 8, 2022 13h</td>\n",
       "    </tr>\n",
       "  </tbody>\n",
       "</table>\n",
       "</div>"
      ],
      "text/plain": [
       "                 date                                       temperature  \\\n",
       "8 2022-02-08 12:00:00  5 °C\\n(12:00 pm CET | Tuesday, February 8, 2022)   \n",
       "9 2022-02-08 13:00:00   6 °C\\n(1:00 pm CET | Tuesday, February 8, 2022)   \n",
       "\n",
       "                                            humidity  \\\n",
       "8  average: 47% (45 to 49%)\\n(12:00 pm CET | Tues...   \n",
       "9  average: 42% (42%)\\n(1:00 pm CET | Tuesday, Fe...   \n",
       "\n",
       "                                          wind speed  \\\n",
       "8  1 m/s\\n(12:00 pm CET | Tuesday, February 8, 2022)   \n",
       "9   1 m/s\\n(1:00 pm CET | Tuesday, February 8, 2022)   \n",
       "\n",
       "                                Precipitation amount  \\\n",
       "8  no precipitation\\n(12:00 pm CET | Tuesday, Feb...   \n",
       "9  no precipitation\\n(1:00 pm CET | Tuesday, Febr...   \n",
       "\n",
       "                      Moon Phase calculator  \\\n",
       "8  | first quarter moon\\n49.00% illuminated   \n",
       "9  | first quarter moon\\n49.40% illuminated   \n",
       "\n",
       "                                       query  \n",
       "8  Moon Phase calculatorFebruary 8, 2022 12h  \n",
       "9  Moon Phase calculatorFebruary 8, 2022 13h  "
      ]
     },
     "metadata": {},
     "output_type": "display_data"
    },
    {
     "name": "stderr",
     "output_type": "stream",
     "text": [
      "\r",
      "  1%|▌                                                                            | 31/4218 [07:44<17:29:50, 15.04s/it]"
     ]
    },
    {
     "name": "stdout",
     "output_type": "stream",
     "text": [
      "QUERY:  Precipitation amount in Zollikofen February 8, 2022 14h\n",
      "QUERY:  temperature in Zollikofen February 8, 2022 14h\n",
      "QUERY:  humidity in Zollikofen February 8, 2022 14h\n",
      "QUERY:  wind speed in Zollikofen February 8, 2022 14h\n",
      "QUERY:  Moon Phase calculatorFebruary 8, 2022 14h\n"
     ]
    },
    {
     "name": "stderr",
     "output_type": "stream",
     "text": [
      "\r",
      "  1%|▌                                                                            | 32/4218 [08:00<17:48:54, 15.32s/it]"
     ]
    },
    {
     "name": "stdout",
     "output_type": "stream",
     "text": [
      "QUERY:  Precipitation amount in Zollikofen February 8, 2022 15h\n",
      "QUERY:  temperature in Zollikofen February 8, 2022 15h\n",
      "QUERY:  humidity in Zollikofen February 8, 2022 15h\n",
      "QUERY:  wind speed in Zollikofen February 8, 2022 15h\n",
      "QUERY:  Moon Phase calculatorFebruary 8, 2022 15h\n"
     ]
    },
    {
     "name": "stderr",
     "output_type": "stream",
     "text": [
      "\r",
      "  1%|▌                                                                            | 33/4218 [08:14<17:25:41, 14.99s/it]"
     ]
    },
    {
     "name": "stdout",
     "output_type": "stream",
     "text": [
      "QUERY:  Precipitation amount in Zollikofen February 8, 2022 16h\n",
      "QUERY:  temperature in Zollikofen February 8, 2022 16h\n",
      "QUERY:  humidity in Zollikofen February 8, 2022 16h\n",
      "QUERY:  wind speed in Zollikofen February 8, 2022 16h\n",
      "QUERY:  Moon Phase calculatorFebruary 8, 2022 16h\n"
     ]
    },
    {
     "name": "stderr",
     "output_type": "stream",
     "text": [
      "\r",
      "  1%|▌                                                                            | 34/4218 [08:28<17:16:27, 14.86s/it]"
     ]
    },
    {
     "name": "stdout",
     "output_type": "stream",
     "text": [
      "QUERY:  Precipitation amount in Zollikofen February 8, 2022 17h\n",
      "QUERY:  temperature in Zollikofen February 8, 2022 17h\n",
      "QUERY:  humidity in Zollikofen February 8, 2022 17h\n",
      "QUERY:  wind speed in Zollikofen February 8, 2022 17h\n",
      "QUERY:  Moon Phase calculatorFebruary 8, 2022 17h\n"
     ]
    },
    {
     "name": "stderr",
     "output_type": "stream",
     "text": [
      "\r",
      "  1%|▋                                                                            | 35/4218 [08:43<17:10:30, 14.78s/it]"
     ]
    },
    {
     "name": "stdout",
     "output_type": "stream",
     "text": [
      "QUERY:  Precipitation amount in Zollikofen February 8, 2022 18h\n",
      "QUERY:  temperature in Zollikofen February 8, 2022 18h\n",
      "QUERY:  humidity in Zollikofen February 8, 2022 18h\n",
      "QUERY:  wind speed in Zollikofen February 8, 2022 18h\n",
      "QUERY:  Moon Phase calculatorFebruary 8, 2022 18h\n"
     ]
    },
    {
     "name": "stderr",
     "output_type": "stream",
     "text": [
      "\r",
      "  1%|▋                                                                            | 36/4218 [08:57<16:59:18, 14.62s/it]"
     ]
    },
    {
     "name": "stdout",
     "output_type": "stream",
     "text": [
      "QUERY:  Precipitation amount in Zollikofen February 8, 2022 19h\n",
      "QUERY:  temperature in Zollikofen February 8, 2022 19h\n",
      "QUERY:  humidity in Zollikofen February 8, 2022 19h\n",
      "QUERY:  wind speed in Zollikofen February 8, 2022 19h\n",
      "QUERY:  Moon Phase calculatorFebruary 8, 2022 19h\n"
     ]
    },
    {
     "name": "stderr",
     "output_type": "stream",
     "text": [
      "\r",
      "  1%|▋                                                                            | 37/4218 [09:11<16:51:57, 14.52s/it]"
     ]
    },
    {
     "name": "stdout",
     "output_type": "stream",
     "text": [
      "QUERY:  Precipitation amount in Zollikofen February 8, 2022 20h\n",
      "QUERY:  temperature in Zollikofen February 8, 2022 20h\n",
      "QUERY:  humidity in Zollikofen February 8, 2022 20h\n",
      "QUERY:  wind speed in Zollikofen February 8, 2022 20h\n",
      "QUERY:  Moon Phase calculatorFebruary 8, 2022 20h\n"
     ]
    },
    {
     "name": "stderr",
     "output_type": "stream",
     "text": [
      "\r",
      "  1%|▋                                                                            | 38/4218 [09:25<16:40:07, 14.36s/it]"
     ]
    },
    {
     "name": "stdout",
     "output_type": "stream",
     "text": [
      "QUERY:  Precipitation amount in Zollikofen February 8, 2022 21h\n",
      "QUERY:  temperature in Zollikofen February 8, 2022 21h\n",
      "QUERY:  humidity in Zollikofen February 8, 2022 21h\n",
      "QUERY:  wind speed in Zollikofen February 8, 2022 21h\n",
      "QUERY:  Moon Phase calculatorFebruary 8, 2022 21h\n"
     ]
    },
    {
     "name": "stderr",
     "output_type": "stream",
     "text": [
      "\r",
      "  1%|▋                                                                            | 39/4218 [09:40<16:43:46, 14.41s/it]"
     ]
    },
    {
     "name": "stdout",
     "output_type": "stream",
     "text": [
      "QUERY:  Precipitation amount in Zollikofen February 8, 2022 22h\n",
      "QUERY:  temperature in Zollikofen February 8, 2022 22h\n",
      "QUERY:  humidity in Zollikofen February 8, 2022 22h\n",
      "QUERY:  wind speed in Zollikofen February 8, 2022 22h\n",
      "QUERY:  Moon Phase calculatorFebruary 8, 2022 22h\n"
     ]
    },
    {
     "name": "stderr",
     "output_type": "stream",
     "text": [
      "\r",
      "  1%|▋                                                                            | 40/4218 [09:57<17:28:22, 15.06s/it]"
     ]
    },
    {
     "name": "stdout",
     "output_type": "stream",
     "text": [
      "QUERY:  Precipitation amount in Zollikofen February 8, 2022 23h\n",
      "QUERY:  temperature in Zollikofen February 8, 2022 23h\n",
      "QUERY:  humidity in Zollikofen February 8, 2022 23h\n",
      "QUERY:  wind speed in Zollikofen February 8, 2022 23h\n",
      "QUERY:  Moon Phase calculatorFebruary 8, 2022 23h\n",
      "(3144, 7)\n"
     ]
    },
    {
     "data": {
      "text/html": [
       "<div>\n",
       "<style scoped>\n",
       "    .dataframe tbody tr th:only-of-type {\n",
       "        vertical-align: middle;\n",
       "    }\n",
       "\n",
       "    .dataframe tbody tr th {\n",
       "        vertical-align: top;\n",
       "    }\n",
       "\n",
       "    .dataframe thead th {\n",
       "        text-align: right;\n",
       "    }\n",
       "</style>\n",
       "<table border=\"1\" class=\"dataframe\">\n",
       "  <thead>\n",
       "    <tr style=\"text-align: right;\">\n",
       "      <th></th>\n",
       "      <th>date</th>\n",
       "      <th>temperature</th>\n",
       "      <th>humidity</th>\n",
       "      <th>wind speed</th>\n",
       "      <th>Precipitation amount</th>\n",
       "      <th>Moon Phase calculator</th>\n",
       "      <th>query</th>\n",
       "    </tr>\n",
       "  </thead>\n",
       "  <tbody>\n",
       "    <tr>\n",
       "      <th>8</th>\n",
       "      <td>2022-02-08 22:00:00</td>\n",
       "      <td>-1 °C\\n(10:00 pm CET | Tuesday, February 8, 2022)</td>\n",
       "      <td>average: 96% (93 to 100%)\\n(10:00 pm CET | Tue...</td>\n",
       "      <td>0 m/s\\n(10:00 pm CET | Tuesday, February 8, 2022)</td>\n",
       "      <td>no precipitation\\n(10:00 pm CET | Tuesday, Feb...</td>\n",
       "      <td>| first quarter moon\\n52.98% illuminated</td>\n",
       "      <td>Moon Phase calculatorFebruary 8, 2022 22h</td>\n",
       "    </tr>\n",
       "    <tr>\n",
       "      <th>9</th>\n",
       "      <td>2022-02-08 23:00:00</td>\n",
       "      <td>-2 °C\\n(11:00 pm CET | Tuesday, February 8, 2022)</td>\n",
       "      <td>average: 93% (93%)\\n(11:00 pm CET | Tuesday, F...</td>\n",
       "      <td>1 m/s\\n(11:00 pm CET | Tuesday, February 8, 2022)</td>\n",
       "      <td>no precipitation\\n(11:00 pm CET | Tuesday, Feb...</td>\n",
       "      <td>| first quarter moon\\n53.38% illuminated</td>\n",
       "      <td>Moon Phase calculatorFebruary 8, 2022 23h</td>\n",
       "    </tr>\n",
       "  </tbody>\n",
       "</table>\n",
       "</div>"
      ],
      "text/plain": [
       "                 date                                        temperature  \\\n",
       "8 2022-02-08 22:00:00  -1 °C\\n(10:00 pm CET | Tuesday, February 8, 2022)   \n",
       "9 2022-02-08 23:00:00  -2 °C\\n(11:00 pm CET | Tuesday, February 8, 2022)   \n",
       "\n",
       "                                            humidity  \\\n",
       "8  average: 96% (93 to 100%)\\n(10:00 pm CET | Tue...   \n",
       "9  average: 93% (93%)\\n(11:00 pm CET | Tuesday, F...   \n",
       "\n",
       "                                          wind speed  \\\n",
       "8  0 m/s\\n(10:00 pm CET | Tuesday, February 8, 2022)   \n",
       "9  1 m/s\\n(11:00 pm CET | Tuesday, February 8, 2022)   \n",
       "\n",
       "                                Precipitation amount  \\\n",
       "8  no precipitation\\n(10:00 pm CET | Tuesday, Feb...   \n",
       "9  no precipitation\\n(11:00 pm CET | Tuesday, Feb...   \n",
       "\n",
       "                      Moon Phase calculator  \\\n",
       "8  | first quarter moon\\n52.98% illuminated   \n",
       "9  | first quarter moon\\n53.38% illuminated   \n",
       "\n",
       "                                       query  \n",
       "8  Moon Phase calculatorFebruary 8, 2022 22h  \n",
       "9  Moon Phase calculatorFebruary 8, 2022 23h  "
      ]
     },
     "metadata": {},
     "output_type": "display_data"
    },
    {
     "name": "stderr",
     "output_type": "stream",
     "text": [
      "\r",
      "  1%|▋                                                                            | 41/4218 [10:11<17:22:39, 14.98s/it]"
     ]
    },
    {
     "name": "stdout",
     "output_type": "stream",
     "text": [
      "QUERY:  Precipitation amount in Zollikofen February 9, 2022 0h\n",
      "QUERY:  temperature in Zollikofen February 9, 2022 0h\n",
      "QUERY:  humidity in Zollikofen February 9, 2022 0h\n",
      "QUERY:  wind speed in Zollikofen February 9, 2022 0h\n",
      "QUERY:  Moon Phase calculatorFebruary 9, 2022 0h\n"
     ]
    },
    {
     "name": "stderr",
     "output_type": "stream",
     "text": [
      "\r",
      "  1%|▊                                                                            | 42/4218 [10:25<17:05:23, 14.73s/it]"
     ]
    },
    {
     "name": "stdout",
     "output_type": "stream",
     "text": [
      "QUERY:  Precipitation amount in Zollikofen February 9, 2022 1h\n",
      "QUERY:  temperature in Zollikofen February 9, 2022 1h\n",
      "QUERY:  humidity in Zollikofen February 9, 2022 1h\n",
      "QUERY:  wind speed in Zollikofen February 9, 2022 1h\n",
      "QUERY:  Moon Phase calculatorFebruary 9, 2022 1h\n"
     ]
    },
    {
     "name": "stderr",
     "output_type": "stream",
     "text": [
      "\r",
      "  1%|▊                                                                            | 43/4218 [10:40<16:51:43, 14.54s/it]"
     ]
    },
    {
     "name": "stdout",
     "output_type": "stream",
     "text": [
      "QUERY:  Precipitation amount in Zollikofen February 9, 2022 2h\n",
      "QUERY:  temperature in Zollikofen February 9, 2022 2h\n",
      "QUERY:  humidity in Zollikofen February 9, 2022 2h\n",
      "QUERY:  wind speed in Zollikofen February 9, 2022 2h\n",
      "QUERY:  Moon Phase calculatorFebruary 9, 2022 2h\n"
     ]
    },
    {
     "name": "stderr",
     "output_type": "stream",
     "text": [
      "\r",
      "  1%|▊                                                                            | 44/4218 [10:54<16:48:21, 14.49s/it]"
     ]
    },
    {
     "name": "stdout",
     "output_type": "stream",
     "text": [
      "QUERY:  Precipitation amount in Zollikofen February 9, 2022 3h\n",
      "QUERY:  temperature in Zollikofen February 9, 2022 3h\n",
      "QUERY:  humidity in Zollikofen February 9, 2022 3h\n",
      "QUERY:  wind speed in Zollikofen February 9, 2022 3h\n",
      "QUERY:  Moon Phase calculatorFebruary 9, 2022 3h\n"
     ]
    },
    {
     "name": "stderr",
     "output_type": "stream",
     "text": [
      "\r",
      "  1%|▊                                                                            | 45/4218 [11:08<16:45:44, 14.46s/it]"
     ]
    },
    {
     "name": "stdout",
     "output_type": "stream",
     "text": [
      "QUERY:  Precipitation amount in Zollikofen February 9, 2022 4h\n",
      "QUERY:  temperature in Zollikofen February 9, 2022 4h\n",
      "QUERY:  humidity in Zollikofen February 9, 2022 4h\n",
      "QUERY:  wind speed in Zollikofen February 9, 2022 4h\n",
      "QUERY:  Moon Phase calculatorFebruary 9, 2022 4h\n"
     ]
    },
    {
     "name": "stderr",
     "output_type": "stream",
     "text": [
      "\r",
      "  1%|▊                                                                            | 46/4218 [11:22<16:36:46, 14.34s/it]"
     ]
    },
    {
     "name": "stdout",
     "output_type": "stream",
     "text": [
      "QUERY:  Precipitation amount in Zollikofen February 9, 2022 5h\n",
      "QUERY:  temperature in Zollikofen February 9, 2022 5h\n",
      "QUERY:  humidity in Zollikofen February 9, 2022 5h\n",
      "QUERY:  wind speed in Zollikofen February 9, 2022 5h\n",
      "QUERY:  Moon Phase calculatorFebruary 9, 2022 5h\n"
     ]
    },
    {
     "name": "stderr",
     "output_type": "stream",
     "text": [
      "\r",
      "  1%|▊                                                                            | 47/4218 [11:36<16:29:02, 14.23s/it]"
     ]
    },
    {
     "name": "stdout",
     "output_type": "stream",
     "text": [
      "QUERY:  Precipitation amount in Zollikofen February 9, 2022 6h\n",
      "QUERY:  temperature in Zollikofen February 9, 2022 6h\n",
      "QUERY:  humidity in Zollikofen February 9, 2022 6h\n",
      "QUERY:  wind speed in Zollikofen February 9, 2022 6h\n",
      "QUERY:  Moon Phase calculatorFebruary 9, 2022 6h\n"
     ]
    },
    {
     "name": "stderr",
     "output_type": "stream",
     "text": [
      "\r",
      "  1%|▉                                                                            | 48/4218 [11:51<16:34:16, 14.31s/it]"
     ]
    },
    {
     "name": "stdout",
     "output_type": "stream",
     "text": [
      "QUERY:  Precipitation amount in Zollikofen February 9, 2022 7h\n",
      "QUERY:  temperature in Zollikofen February 9, 2022 7h\n",
      "QUERY:  humidity in Zollikofen February 9, 2022 7h\n",
      "QUERY:  wind speed in Zollikofen February 9, 2022 7h\n",
      "QUERY:  Moon Phase calculatorFebruary 9, 2022 7h\n"
     ]
    },
    {
     "name": "stderr",
     "output_type": "stream",
     "text": [
      "\r",
      "  1%|▉                                                                            | 49/4218 [12:05<16:40:46, 14.40s/it]"
     ]
    },
    {
     "name": "stdout",
     "output_type": "stream",
     "text": [
      "QUERY:  Precipitation amount in Zollikofen February 9, 2022 8h\n",
      "QUERY:  temperature in Zollikofen February 9, 2022 8h\n",
      "QUERY:  humidity in Zollikofen February 9, 2022 8h\n",
      "QUERY:  wind speed in Zollikofen February 9, 2022 8h\n",
      "QUERY:  Moon Phase calculatorFebruary 9, 2022 8h\n"
     ]
    },
    {
     "name": "stderr",
     "output_type": "stream",
     "text": [
      "\r",
      "  1%|▉                                                                            | 50/4218 [12:21<17:01:54, 14.71s/it]"
     ]
    },
    {
     "name": "stdout",
     "output_type": "stream",
     "text": [
      "QUERY:  Precipitation amount in Zollikofen February 9, 2022 9h\n",
      "QUERY:  temperature in Zollikofen February 9, 2022 9h\n",
      "QUERY:  humidity in Zollikofen February 9, 2022 9h\n",
      "QUERY:  wind speed in Zollikofen February 9, 2022 9h\n",
      "QUERY:  Moon Phase calculatorFebruary 9, 2022 9h\n",
      "(3154, 7)\n"
     ]
    },
    {
     "data": {
      "text/html": [
       "<div>\n",
       "<style scoped>\n",
       "    .dataframe tbody tr th:only-of-type {\n",
       "        vertical-align: middle;\n",
       "    }\n",
       "\n",
       "    .dataframe tbody tr th {\n",
       "        vertical-align: top;\n",
       "    }\n",
       "\n",
       "    .dataframe thead th {\n",
       "        text-align: right;\n",
       "    }\n",
       "</style>\n",
       "<table border=\"1\" class=\"dataframe\">\n",
       "  <thead>\n",
       "    <tr style=\"text-align: right;\">\n",
       "      <th></th>\n",
       "      <th>date</th>\n",
       "      <th>temperature</th>\n",
       "      <th>humidity</th>\n",
       "      <th>wind speed</th>\n",
       "      <th>Precipitation amount</th>\n",
       "      <th>Moon Phase calculator</th>\n",
       "      <th>query</th>\n",
       "    </tr>\n",
       "  </thead>\n",
       "  <tbody>\n",
       "    <tr>\n",
       "      <th>8</th>\n",
       "      <td>2022-02-09 08:00:00</td>\n",
       "      <td>-2 °C\\n(8:00 am CET | Wednesday, February 9, 2...</td>\n",
       "      <td>average: 93% (93%)\\n(8:00 am CET | Wednesday, ...</td>\n",
       "      <td>0 m/s\\n(8:00 am CET | Wednesday, February 9, 2...</td>\n",
       "      <td>no precipitation\\n(8:00 am CET | Wednesday, Fe...</td>\n",
       "      <td>| waxing gibbous moon\\n56.92% illuminated</td>\n",
       "      <td>Moon Phase calculatorFebruary 9, 2022 8h</td>\n",
       "    </tr>\n",
       "    <tr>\n",
       "      <th>9</th>\n",
       "      <td>2022-02-09 09:00:00</td>\n",
       "      <td>0 °C\\n(9:00 am CET | Wednesday, February 9, 2022)</td>\n",
       "      <td>average: 86% (80 to 93%)\\n(9:00 am CET | Wedne...</td>\n",
       "      <td>1 m/s\\n(9:00 am CET | Wednesday, February 9, 2...</td>\n",
       "      <td>no precipitation\\n(9:00 am CET | Wednesday, Fe...</td>\n",
       "      <td>| waxing gibbous moon\\n57.31% illuminated</td>\n",
       "      <td>Moon Phase calculatorFebruary 9, 2022 9h</td>\n",
       "    </tr>\n",
       "  </tbody>\n",
       "</table>\n",
       "</div>"
      ],
      "text/plain": [
       "                 date                                        temperature  \\\n",
       "8 2022-02-09 08:00:00  -2 °C\\n(8:00 am CET | Wednesday, February 9, 2...   \n",
       "9 2022-02-09 09:00:00  0 °C\\n(9:00 am CET | Wednesday, February 9, 2022)   \n",
       "\n",
       "                                            humidity  \\\n",
       "8  average: 93% (93%)\\n(8:00 am CET | Wednesday, ...   \n",
       "9  average: 86% (80 to 93%)\\n(9:00 am CET | Wedne...   \n",
       "\n",
       "                                          wind speed  \\\n",
       "8  0 m/s\\n(8:00 am CET | Wednesday, February 9, 2...   \n",
       "9  1 m/s\\n(9:00 am CET | Wednesday, February 9, 2...   \n",
       "\n",
       "                                Precipitation amount  \\\n",
       "8  no precipitation\\n(8:00 am CET | Wednesday, Fe...   \n",
       "9  no precipitation\\n(9:00 am CET | Wednesday, Fe...   \n",
       "\n",
       "                       Moon Phase calculator  \\\n",
       "8  | waxing gibbous moon\\n56.92% illuminated   \n",
       "9  | waxing gibbous moon\\n57.31% illuminated   \n",
       "\n",
       "                                      query  \n",
       "8  Moon Phase calculatorFebruary 9, 2022 8h  \n",
       "9  Moon Phase calculatorFebruary 9, 2022 9h  "
      ]
     },
     "metadata": {},
     "output_type": "display_data"
    },
    {
     "name": "stderr",
     "output_type": "stream",
     "text": [
      "\r",
      "  1%|▉                                                                            | 51/4218 [12:35<16:55:25, 14.62s/it]"
     ]
    },
    {
     "name": "stdout",
     "output_type": "stream",
     "text": [
      "QUERY:  Precipitation amount in Zollikofen February 9, 2022 10h\n",
      "QUERY:  temperature in Zollikofen February 9, 2022 10h\n",
      "QUERY:  humidity in Zollikofen February 9, 2022 10h\n",
      "QUERY:  wind speed in Zollikofen February 9, 2022 10h\n",
      "QUERY:  Moon Phase calculatorFebruary 9, 2022 10h\n"
     ]
    },
    {
     "name": "stderr",
     "output_type": "stream",
     "text": [
      "\r",
      "  1%|▉                                                                            | 52/4218 [12:50<16:51:18, 14.57s/it]"
     ]
    },
    {
     "name": "stdout",
     "output_type": "stream",
     "text": [
      "QUERY:  Precipitation amount in Zollikofen February 9, 2022 11h\n",
      "QUERY:  temperature in Zollikofen February 9, 2022 11h\n",
      "QUERY:  humidity in Zollikofen February 9, 2022 11h\n",
      "QUERY:  wind speed in Zollikofen February 9, 2022 11h\n",
      "QUERY:  Moon Phase calculatorFebruary 9, 2022 11h\n"
     ]
    },
    {
     "name": "stderr",
     "output_type": "stream",
     "text": [
      "\r",
      "  1%|▉                                                                            | 53/4218 [13:07<17:40:21, 15.28s/it]"
     ]
    },
    {
     "name": "stdout",
     "output_type": "stream",
     "text": [
      "QUERY:  Precipitation amount in Zollikofen February 9, 2022 12h\n",
      "QUERY:  temperature in Zollikofen February 9, 2022 12h\n",
      "QUERY:  humidity in Zollikofen February 9, 2022 12h\n",
      "QUERY:  wind speed in Zollikofen February 9, 2022 12h\n",
      "QUERY:  Moon Phase calculatorFebruary 9, 2022 12h\n"
     ]
    },
    {
     "name": "stderr",
     "output_type": "stream",
     "text": [
      "\r",
      "  1%|▉                                                                            | 54/4218 [13:22<17:37:22, 15.24s/it]"
     ]
    },
    {
     "name": "stdout",
     "output_type": "stream",
     "text": [
      "QUERY:  Precipitation amount in Zollikofen February 9, 2022 13h\n",
      "QUERY:  temperature in Zollikofen February 9, 2022 13h\n",
      "QUERY:  humidity in Zollikofen February 9, 2022 13h\n",
      "QUERY:  wind speed in Zollikofen February 9, 2022 13h\n",
      "QUERY:  Moon Phase calculatorFebruary 9, 2022 13h\n"
     ]
    },
    {
     "name": "stderr",
     "output_type": "stream",
     "text": [
      "\r",
      "  1%|█                                                                            | 55/4218 [13:36<17:25:12, 15.06s/it]"
     ]
    },
    {
     "name": "stdout",
     "output_type": "stream",
     "text": [
      "QUERY:  Precipitation amount in Zollikofen February 9, 2022 14h\n",
      "QUERY:  temperature in Zollikofen February 9, 2022 14h\n",
      "QUERY:  humidity in Zollikofen February 9, 2022 14h\n",
      "QUERY:  wind speed in Zollikofen February 9, 2022 14h\n",
      "QUERY:  Moon Phase calculatorFebruary 9, 2022 14h\n"
     ]
    },
    {
     "name": "stderr",
     "output_type": "stream",
     "text": [
      "\r",
      "  1%|█                                                                            | 56/4218 [13:51<17:07:05, 14.81s/it]"
     ]
    },
    {
     "name": "stdout",
     "output_type": "stream",
     "text": [
      "QUERY:  Precipitation amount in Zollikofen February 9, 2022 15h\n",
      "QUERY:  temperature in Zollikofen February 9, 2022 15h\n",
      "QUERY:  humidity in Zollikofen February 9, 2022 15h\n",
      "QUERY:  wind speed in Zollikofen February 9, 2022 15h\n",
      "QUERY:  Moon Phase calculatorFebruary 9, 2022 15h\n"
     ]
    },
    {
     "name": "stderr",
     "output_type": "stream",
     "text": [
      "\r",
      "  1%|█                                                                            | 57/4218 [14:07<17:37:48, 15.25s/it]"
     ]
    },
    {
     "name": "stdout",
     "output_type": "stream",
     "text": [
      "QUERY:  Precipitation amount in Zollikofen February 9, 2022 16h\n",
      "QUERY:  temperature in Zollikofen February 9, 2022 16h\n",
      "QUERY:  humidity in Zollikofen February 9, 2022 16h\n",
      "QUERY:  wind speed in Zollikofen February 9, 2022 16h\n",
      "QUERY:  Moon Phase calculatorFebruary 9, 2022 16h\n"
     ]
    },
    {
     "name": "stderr",
     "output_type": "stream",
     "text": [
      "\r",
      "  1%|█                                                                            | 58/4218 [14:22<17:31:32, 15.17s/it]"
     ]
    },
    {
     "name": "stdout",
     "output_type": "stream",
     "text": [
      "QUERY:  Precipitation amount in Zollikofen February 9, 2022 17h\n",
      "QUERY:  temperature in Zollikofen February 9, 2022 17h\n",
      "QUERY:  humidity in Zollikofen February 9, 2022 17h\n",
      "QUERY:  wind speed in Zollikofen February 9, 2022 17h\n",
      "QUERY:  Moon Phase calculatorFebruary 9, 2022 17h\n"
     ]
    },
    {
     "name": "stderr",
     "output_type": "stream",
     "text": [
      "\r",
      "  1%|█                                                                            | 59/4218 [14:36<17:17:41, 14.97s/it]"
     ]
    },
    {
     "name": "stdout",
     "output_type": "stream",
     "text": [
      "QUERY:  Precipitation amount in Zollikofen February 9, 2022 18h\n",
      "QUERY:  temperature in Zollikofen February 9, 2022 18h\n",
      "QUERY:  humidity in Zollikofen February 9, 2022 18h\n",
      "QUERY:  wind speed in Zollikofen February 9, 2022 18h\n",
      "QUERY:  Moon Phase calculatorFebruary 9, 2022 18h\n"
     ]
    },
    {
     "name": "stderr",
     "output_type": "stream",
     "text": [
      "\r",
      "  1%|█                                                                            | 60/4218 [14:51<17:15:53, 14.95s/it]"
     ]
    },
    {
     "name": "stdout",
     "output_type": "stream",
     "text": [
      "QUERY:  Precipitation amount in Zollikofen February 9, 2022 19h\n",
      "QUERY:  temperature in Zollikofen February 9, 2022 19h\n",
      "QUERY:  humidity in Zollikofen February 9, 2022 19h\n",
      "QUERY:  wind speed in Zollikofen February 9, 2022 19h\n",
      "QUERY:  Moon Phase calculatorFebruary 9, 2022 19h\n",
      "(3164, 7)\n"
     ]
    },
    {
     "data": {
      "text/html": [
       "<div>\n",
       "<style scoped>\n",
       "    .dataframe tbody tr th:only-of-type {\n",
       "        vertical-align: middle;\n",
       "    }\n",
       "\n",
       "    .dataframe tbody tr th {\n",
       "        vertical-align: top;\n",
       "    }\n",
       "\n",
       "    .dataframe thead th {\n",
       "        text-align: right;\n",
       "    }\n",
       "</style>\n",
       "<table border=\"1\" class=\"dataframe\">\n",
       "  <thead>\n",
       "    <tr style=\"text-align: right;\">\n",
       "      <th></th>\n",
       "      <th>date</th>\n",
       "      <th>temperature</th>\n",
       "      <th>humidity</th>\n",
       "      <th>wind speed</th>\n",
       "      <th>Precipitation amount</th>\n",
       "      <th>Moon Phase calculator</th>\n",
       "      <th>query</th>\n",
       "    </tr>\n",
       "  </thead>\n",
       "  <tbody>\n",
       "    <tr>\n",
       "      <th>8</th>\n",
       "      <td>2022-02-09 18:00:00</td>\n",
       "      <td>3 °C\\n(6:00 pm CET | Wednesday, February 9, 2022)</td>\n",
       "      <td>average: 75% (70 to 80%)\\n(6:00 pm CET | Wedne...</td>\n",
       "      <td>1 m/s\\n(6:00 pm CET | Wednesday, February 9, 2...</td>\n",
       "      <td>no precipitation\\n(6:00 pm CET | Wednesday, Fe...</td>\n",
       "      <td>| waxing gibbous moon\\n60.79% illuminated</td>\n",
       "      <td>Moon Phase calculatorFebruary 9, 2022 18h</td>\n",
       "    </tr>\n",
       "    <tr>\n",
       "      <th>9</th>\n",
       "      <td>2022-02-09 19:00:00</td>\n",
       "      <td>2 °C\\n(7:00 pm CET | Wednesday, February 9, 2022)</td>\n",
       "      <td>average: 83% (80 to 86%)\\n(7:00 pm CET | Wedne...</td>\n",
       "      <td>0 m/s\\n(7:00 pm CET | Wednesday, February 9, 2...</td>\n",
       "      <td>no precipitation\\n(7:00 pm CET | Wednesday, Fe...</td>\n",
       "      <td>| waxing gibbous moon\\n61.18% illuminated</td>\n",
       "      <td>Moon Phase calculatorFebruary 9, 2022 19h</td>\n",
       "    </tr>\n",
       "  </tbody>\n",
       "</table>\n",
       "</div>"
      ],
      "text/plain": [
       "                 date                                        temperature  \\\n",
       "8 2022-02-09 18:00:00  3 °C\\n(6:00 pm CET | Wednesday, February 9, 2022)   \n",
       "9 2022-02-09 19:00:00  2 °C\\n(7:00 pm CET | Wednesday, February 9, 2022)   \n",
       "\n",
       "                                            humidity  \\\n",
       "8  average: 75% (70 to 80%)\\n(6:00 pm CET | Wedne...   \n",
       "9  average: 83% (80 to 86%)\\n(7:00 pm CET | Wedne...   \n",
       "\n",
       "                                          wind speed  \\\n",
       "8  1 m/s\\n(6:00 pm CET | Wednesday, February 9, 2...   \n",
       "9  0 m/s\\n(7:00 pm CET | Wednesday, February 9, 2...   \n",
       "\n",
       "                                Precipitation amount  \\\n",
       "8  no precipitation\\n(6:00 pm CET | Wednesday, Fe...   \n",
       "9  no precipitation\\n(7:00 pm CET | Wednesday, Fe...   \n",
       "\n",
       "                       Moon Phase calculator  \\\n",
       "8  | waxing gibbous moon\\n60.79% illuminated   \n",
       "9  | waxing gibbous moon\\n61.18% illuminated   \n",
       "\n",
       "                                       query  \n",
       "8  Moon Phase calculatorFebruary 9, 2022 18h  \n",
       "9  Moon Phase calculatorFebruary 9, 2022 19h  "
      ]
     },
     "metadata": {},
     "output_type": "display_data"
    },
    {
     "name": "stderr",
     "output_type": "stream",
     "text": [
      "\r",
      "  1%|█                                                                            | 61/4218 [15:07<17:25:39, 15.09s/it]"
     ]
    },
    {
     "name": "stdout",
     "output_type": "stream",
     "text": [
      "QUERY:  Precipitation amount in Zollikofen February 9, 2022 20h\n",
      "QUERY:  temperature in Zollikofen February 9, 2022 20h\n",
      "QUERY:  humidity in Zollikofen February 9, 2022 20h\n",
      "QUERY:  wind speed in Zollikofen February 9, 2022 20h\n",
      "QUERY:  Moon Phase calculatorFebruary 9, 2022 20h\n"
     ]
    },
    {
     "name": "stderr",
     "output_type": "stream",
     "text": [
      "\r",
      "  1%|█▏                                                                           | 62/4218 [15:21<17:13:13, 14.92s/it]"
     ]
    },
    {
     "name": "stdout",
     "output_type": "stream",
     "text": [
      "QUERY:  Precipitation amount in Zollikofen February 9, 2022 21h\n",
      "QUERY:  temperature in Zollikofen February 9, 2022 21h\n",
      "QUERY:  humidity in Zollikofen February 9, 2022 21h\n",
      "QUERY:  wind speed in Zollikofen February 9, 2022 21h\n",
      "QUERY:  Moon Phase calculatorFebruary 9, 2022 21h\n"
     ]
    },
    {
     "name": "stderr",
     "output_type": "stream",
     "text": [
      "\r",
      "  1%|█▏                                                                           | 63/4218 [15:36<17:04:44, 14.80s/it]"
     ]
    },
    {
     "name": "stdout",
     "output_type": "stream",
     "text": [
      "QUERY:  Precipitation amount in Zollikofen February 9, 2022 22h\n",
      "QUERY:  temperature in Zollikofen February 9, 2022 22h\n",
      "QUERY:  humidity in Zollikofen February 9, 2022 22h\n",
      "QUERY:  wind speed in Zollikofen February 9, 2022 22h\n",
      "QUERY:  Moon Phase calculatorFebruary 9, 2022 22h\n"
     ]
    },
    {
     "name": "stderr",
     "output_type": "stream",
     "text": [
      "\r",
      "  2%|█▏                                                                           | 64/4218 [15:50<16:50:57, 14.60s/it]"
     ]
    },
    {
     "name": "stdout",
     "output_type": "stream",
     "text": [
      "QUERY:  Precipitation amount in Zollikofen February 9, 2022 23h\n",
      "QUERY:  temperature in Zollikofen February 9, 2022 23h\n",
      "QUERY:  humidity in Zollikofen February 9, 2022 23h\n",
      "QUERY:  wind speed in Zollikofen February 9, 2022 23h\n",
      "QUERY:  Moon Phase calculatorFebruary 9, 2022 23h\n"
     ]
    },
    {
     "name": "stderr",
     "output_type": "stream",
     "text": [
      "\r",
      "  2%|█▏                                                                           | 65/4218 [16:05<16:59:40, 14.73s/it]"
     ]
    },
    {
     "name": "stdout",
     "output_type": "stream",
     "text": [
      "QUERY:  Precipitation amount in Zollikofen February 10, 2022 0h\n",
      "QUERY:  temperature in Zollikofen February 10, 2022 0h\n",
      "QUERY:  humidity in Zollikofen February 10, 2022 0h\n",
      "QUERY:  wind speed in Zollikofen February 10, 2022 0h\n",
      "QUERY:  Moon Phase calculatorFebruary 10, 2022 0h\n"
     ]
    },
    {
     "name": "stderr",
     "output_type": "stream",
     "text": [
      "\r",
      "  2%|█▏                                                                           | 66/4218 [16:20<17:06:11, 14.83s/it]"
     ]
    },
    {
     "name": "stdout",
     "output_type": "stream",
     "text": [
      "QUERY:  Precipitation amount in Zollikofen February 10, 2022 1h\n",
      "QUERY:  temperature in Zollikofen February 10, 2022 1h\n",
      "QUERY:  humidity in Zollikofen February 10, 2022 1h\n",
      "QUERY:  wind speed in Zollikofen February 10, 2022 1h\n",
      "QUERY:  Moon Phase calculatorFebruary 10, 2022 1h\n"
     ]
    },
    {
     "name": "stderr",
     "output_type": "stream",
     "text": [
      "\r",
      "  2%|█▏                                                                           | 67/4218 [16:35<17:01:30, 14.77s/it]"
     ]
    },
    {
     "name": "stdout",
     "output_type": "stream",
     "text": [
      "QUERY:  Precipitation amount in Zollikofen February 10, 2022 2h\n",
      "QUERY:  temperature in Zollikofen February 10, 2022 2h\n",
      "QUERY:  humidity in Zollikofen February 10, 2022 2h\n",
      "QUERY:  wind speed in Zollikofen February 10, 2022 2h\n",
      "QUERY:  Moon Phase calculatorFebruary 10, 2022 2h\n"
     ]
    },
    {
     "name": "stderr",
     "output_type": "stream",
     "text": [
      "\r",
      "  2%|█▏                                                                           | 68/4218 [16:49<16:55:24, 14.68s/it]"
     ]
    },
    {
     "name": "stdout",
     "output_type": "stream",
     "text": [
      "QUERY:  Precipitation amount in Zollikofen February 10, 2022 3h\n",
      "QUERY:  temperature in Zollikofen February 10, 2022 3h\n",
      "QUERY:  humidity in Zollikofen February 10, 2022 3h\n",
      "QUERY:  wind speed in Zollikofen February 10, 2022 3h\n",
      "QUERY:  Moon Phase calculatorFebruary 10, 2022 3h\n"
     ]
    },
    {
     "name": "stderr",
     "output_type": "stream",
     "text": [
      "\r",
      "  2%|█▎                                                                           | 69/4218 [17:06<17:31:05, 15.20s/it]"
     ]
    },
    {
     "name": "stdout",
     "output_type": "stream",
     "text": [
      "QUERY:  Precipitation amount in Zollikofen February 10, 2022 4h\n",
      "QUERY:  temperature in Zollikofen February 10, 2022 4h\n",
      "QUERY:  humidity in Zollikofen February 10, 2022 4h\n",
      "QUERY:  wind speed in Zollikofen February 10, 2022 4h\n",
      "QUERY:  Moon Phase calculatorFebruary 10, 2022 4h\n"
     ]
    },
    {
     "name": "stderr",
     "output_type": "stream",
     "text": [
      "\r",
      "  2%|█▎                                                                           | 70/4218 [17:20<17:21:32, 15.07s/it]"
     ]
    },
    {
     "name": "stdout",
     "output_type": "stream",
     "text": [
      "QUERY:  Precipitation amount in Zollikofen February 10, 2022 5h\n",
      "QUERY:  temperature in Zollikofen February 10, 2022 5h\n",
      "QUERY:  humidity in Zollikofen February 10, 2022 5h\n",
      "QUERY:  wind speed in Zollikofen February 10, 2022 5h\n",
      "QUERY:  Moon Phase calculatorFebruary 10, 2022 5h\n",
      "(3174, 7)\n"
     ]
    },
    {
     "data": {
      "text/html": [
       "<div>\n",
       "<style scoped>\n",
       "    .dataframe tbody tr th:only-of-type {\n",
       "        vertical-align: middle;\n",
       "    }\n",
       "\n",
       "    .dataframe tbody tr th {\n",
       "        vertical-align: top;\n",
       "    }\n",
       "\n",
       "    .dataframe thead th {\n",
       "        text-align: right;\n",
       "    }\n",
       "</style>\n",
       "<table border=\"1\" class=\"dataframe\">\n",
       "  <thead>\n",
       "    <tr style=\"text-align: right;\">\n",
       "      <th></th>\n",
       "      <th>date</th>\n",
       "      <th>temperature</th>\n",
       "      <th>humidity</th>\n",
       "      <th>wind speed</th>\n",
       "      <th>Precipitation amount</th>\n",
       "      <th>Moon Phase calculator</th>\n",
       "      <th>query</th>\n",
       "    </tr>\n",
       "  </thead>\n",
       "  <tbody>\n",
       "    <tr>\n",
       "      <th>8</th>\n",
       "      <td>2022-02-10 04:00:00</td>\n",
       "      <td>-1 °C\\n(4:00 am CET | Thursday, February 10, 2...</td>\n",
       "      <td>average: 100% (100%)\\n(4:00 am CET | Thursday,...</td>\n",
       "      <td>1 m/s\\n(4:00 am CET | Thursday, February 10, 2...</td>\n",
       "      <td>no precipitation\\n(4:00 am CET | Thursday, Feb...</td>\n",
       "      <td>| waxing gibbous moon\\n64.58% illuminated</td>\n",
       "      <td>Moon Phase calculatorFebruary 10, 2022 4h</td>\n",
       "    </tr>\n",
       "    <tr>\n",
       "      <th>9</th>\n",
       "      <td>2022-02-10 05:00:00</td>\n",
       "      <td>-1 °C\\n(5:00 am CET | Thursday, February 10, 2...</td>\n",
       "      <td>average: 89% (86 to 93%)\\n(5:00 am CET | Thurs...</td>\n",
       "      <td>1 m/s\\n(5:00 am CET | Thursday, February 10, 2...</td>\n",
       "      <td>no precipitation\\n(5:00 am CET | Thursday, Feb...</td>\n",
       "      <td>| waxing gibbous moon\\n64.96% illuminated</td>\n",
       "      <td>Moon Phase calculatorFebruary 10, 2022 5h</td>\n",
       "    </tr>\n",
       "  </tbody>\n",
       "</table>\n",
       "</div>"
      ],
      "text/plain": [
       "                 date                                        temperature  \\\n",
       "8 2022-02-10 04:00:00  -1 °C\\n(4:00 am CET | Thursday, February 10, 2...   \n",
       "9 2022-02-10 05:00:00  -1 °C\\n(5:00 am CET | Thursday, February 10, 2...   \n",
       "\n",
       "                                            humidity  \\\n",
       "8  average: 100% (100%)\\n(4:00 am CET | Thursday,...   \n",
       "9  average: 89% (86 to 93%)\\n(5:00 am CET | Thurs...   \n",
       "\n",
       "                                          wind speed  \\\n",
       "8  1 m/s\\n(4:00 am CET | Thursday, February 10, 2...   \n",
       "9  1 m/s\\n(5:00 am CET | Thursday, February 10, 2...   \n",
       "\n",
       "                                Precipitation amount  \\\n",
       "8  no precipitation\\n(4:00 am CET | Thursday, Feb...   \n",
       "9  no precipitation\\n(5:00 am CET | Thursday, Feb...   \n",
       "\n",
       "                       Moon Phase calculator  \\\n",
       "8  | waxing gibbous moon\\n64.58% illuminated   \n",
       "9  | waxing gibbous moon\\n64.96% illuminated   \n",
       "\n",
       "                                       query  \n",
       "8  Moon Phase calculatorFebruary 10, 2022 4h  \n",
       "9  Moon Phase calculatorFebruary 10, 2022 5h  "
      ]
     },
     "metadata": {},
     "output_type": "display_data"
    },
    {
     "name": "stderr",
     "output_type": "stream",
     "text": [
      "\r",
      "  2%|█▎                                                                           | 71/4218 [17:36<17:27:11, 15.15s/it]"
     ]
    },
    {
     "name": "stdout",
     "output_type": "stream",
     "text": [
      "QUERY:  Precipitation amount in Zollikofen February 10, 2022 6h\n",
      "QUERY:  temperature in Zollikofen February 10, 2022 6h\n",
      "QUERY:  humidity in Zollikofen February 10, 2022 6h\n",
      "QUERY:  wind speed in Zollikofen February 10, 2022 6h\n",
      "QUERY:  Moon Phase calculatorFebruary 10, 2022 6h\n"
     ]
    },
    {
     "name": "stderr",
     "output_type": "stream",
     "text": [
      "\r",
      "  2%|█▎                                                                           | 72/4218 [17:51<17:30:03, 15.20s/it]"
     ]
    },
    {
     "name": "stdout",
     "output_type": "stream",
     "text": [
      "QUERY:  Precipitation amount in Zollikofen February 10, 2022 7h\n",
      "QUERY:  temperature in Zollikofen February 10, 2022 7h\n",
      "QUERY:  humidity in Zollikofen February 10, 2022 7h\n",
      "QUERY:  wind speed in Zollikofen February 10, 2022 7h\n",
      "QUERY:  Moon Phase calculatorFebruary 10, 2022 7h\n"
     ]
    },
    {
     "name": "stderr",
     "output_type": "stream",
     "text": [
      "\r",
      "  2%|█▎                                                                           | 73/4218 [18:09<18:21:56, 15.95s/it]"
     ]
    },
    {
     "name": "stdout",
     "output_type": "stream",
     "text": [
      "QUERY:  Precipitation amount in Zollikofen February 10, 2022 8h\n",
      "QUERY:  temperature in Zollikofen February 10, 2022 8h\n",
      "QUERY:  humidity in Zollikofen February 10, 2022 8h\n",
      "QUERY:  wind speed in Zollikofen February 10, 2022 8h\n",
      "QUERY:  Moon Phase calculatorFebruary 10, 2022 8h\n"
     ]
    },
    {
     "name": "stderr",
     "output_type": "stream",
     "text": [
      "\r",
      "  2%|█▎                                                                           | 74/4218 [18:24<18:00:02, 15.64s/it]"
     ]
    },
    {
     "name": "stdout",
     "output_type": "stream",
     "text": [
      "QUERY:  Precipitation amount in Zollikofen February 10, 2022 9h\n",
      "QUERY:  temperature in Zollikofen February 10, 2022 9h\n",
      "QUERY:  humidity in Zollikofen February 10, 2022 9h\n",
      "QUERY:  wind speed in Zollikofen February 10, 2022 9h\n",
      "QUERY:  Moon Phase calculatorFebruary 10, 2022 9h\n"
     ]
    },
    {
     "name": "stderr",
     "output_type": "stream",
     "text": [
      "\r",
      "  2%|█▎                                                                           | 75/4218 [18:41<18:26:50, 16.03s/it]"
     ]
    },
    {
     "name": "stdout",
     "output_type": "stream",
     "text": [
      "QUERY:  Precipitation amount in Zollikofen February 10, 2022 10h\n",
      "QUERY:  temperature in Zollikofen February 10, 2022 10h\n",
      "QUERY:  humidity in Zollikofen February 10, 2022 10h\n",
      "QUERY:  wind speed in Zollikofen February 10, 2022 10h\n",
      "QUERY:  Moon Phase calculatorFebruary 10, 2022 10h\n"
     ]
    },
    {
     "name": "stderr",
     "output_type": "stream",
     "text": [
      "\r",
      "  2%|█▍                                                                           | 76/4218 [18:57<18:43:34, 16.28s/it]"
     ]
    },
    {
     "name": "stdout",
     "output_type": "stream",
     "text": [
      "QUERY:  Precipitation amount in Zollikofen February 10, 2022 11h\n",
      "QUERY:  temperature in Zollikofen February 10, 2022 11h\n",
      "QUERY:  humidity in Zollikofen February 10, 2022 11h\n",
      "QUERY:  wind speed in Zollikofen February 10, 2022 11h\n",
      "QUERY:  Moon Phase calculatorFebruary 10, 2022 11h\n"
     ]
    },
    {
     "name": "stderr",
     "output_type": "stream",
     "text": [
      "\r",
      "  2%|█▍                                                                           | 77/4218 [19:13<18:31:12, 16.10s/it]"
     ]
    },
    {
     "name": "stdout",
     "output_type": "stream",
     "text": [
      "QUERY:  Precipitation amount in Zollikofen February 10, 2022 12h\n",
      "QUERY:  temperature in Zollikofen February 10, 2022 12h\n",
      "QUERY:  humidity in Zollikofen February 10, 2022 12h\n",
      "QUERY:  wind speed in Zollikofen February 10, 2022 12h\n",
      "QUERY:  Moon Phase calculatorFebruary 10, 2022 12h\n"
     ]
    },
    {
     "name": "stderr",
     "output_type": "stream",
     "text": [
      "\r",
      "  2%|█▍                                                                           | 78/4218 [19:30<18:56:13, 16.47s/it]"
     ]
    },
    {
     "name": "stdout",
     "output_type": "stream",
     "text": [
      "QUERY:  Precipitation amount in Zollikofen February 10, 2022 13h\n",
      "QUERY:  temperature in Zollikofen February 10, 2022 13h\n",
      "QUERY:  humidity in Zollikofen February 10, 2022 13h\n",
      "QUERY:  wind speed in Zollikofen February 10, 2022 13h\n",
      "QUERY:  Moon Phase calculatorFebruary 10, 2022 13h\n"
     ]
    },
    {
     "name": "stderr",
     "output_type": "stream",
     "text": [
      "\r",
      "  2%|█▍                                                                           | 79/4218 [19:46<18:29:11, 16.08s/it]"
     ]
    },
    {
     "name": "stdout",
     "output_type": "stream",
     "text": [
      "QUERY:  Precipitation amount in Zollikofen February 10, 2022 14h\n",
      "QUERY:  temperature in Zollikofen February 10, 2022 14h\n",
      "QUERY:  humidity in Zollikofen February 10, 2022 14h\n",
      "QUERY:  wind speed in Zollikofen February 10, 2022 14h\n",
      "QUERY:  Moon Phase calculatorFebruary 10, 2022 14h\n"
     ]
    },
    {
     "name": "stderr",
     "output_type": "stream",
     "text": [
      "\r",
      "  2%|█▍                                                                           | 80/4218 [20:01<18:07:42, 15.77s/it]"
     ]
    },
    {
     "name": "stdout",
     "output_type": "stream",
     "text": [
      "QUERY:  Precipitation amount in Zollikofen February 10, 2022 15h\n",
      "QUERY:  temperature in Zollikofen February 10, 2022 15h\n",
      "QUERY:  humidity in Zollikofen February 10, 2022 15h\n",
      "QUERY:  wind speed in Zollikofen February 10, 2022 15h\n",
      "QUERY:  Moon Phase calculatorFebruary 10, 2022 15h\n",
      "(3184, 7)\n"
     ]
    },
    {
     "data": {
      "text/html": [
       "<div>\n",
       "<style scoped>\n",
       "    .dataframe tbody tr th:only-of-type {\n",
       "        vertical-align: middle;\n",
       "    }\n",
       "\n",
       "    .dataframe tbody tr th {\n",
       "        vertical-align: top;\n",
       "    }\n",
       "\n",
       "    .dataframe thead th {\n",
       "        text-align: right;\n",
       "    }\n",
       "</style>\n",
       "<table border=\"1\" class=\"dataframe\">\n",
       "  <thead>\n",
       "    <tr style=\"text-align: right;\">\n",
       "      <th></th>\n",
       "      <th>date</th>\n",
       "      <th>temperature</th>\n",
       "      <th>humidity</th>\n",
       "      <th>wind speed</th>\n",
       "      <th>Precipitation amount</th>\n",
       "      <th>Moon Phase calculator</th>\n",
       "      <th>query</th>\n",
       "    </tr>\n",
       "  </thead>\n",
       "  <tbody>\n",
       "    <tr>\n",
       "      <th>8</th>\n",
       "      <td>2022-02-10 14:00:00</td>\n",
       "      <td>13 °C\\n(2:00 pm CET | Thursday, February 10, 2...</td>\n",
       "      <td>average: 43% (41 to 44%)\\n(2:00 pm CET | Thurs...</td>\n",
       "      <td>4 m/s\\n(2:00 pm CET | Thursday, February 10, 2...</td>\n",
       "      <td>no precipitation\\n(2:00 pm CET | Thursday, Feb...</td>\n",
       "      <td>| waxing gibbous moon\\n68.28% illuminated</td>\n",
       "      <td>Moon Phase calculatorFebruary 10, 2022 14h</td>\n",
       "    </tr>\n",
       "    <tr>\n",
       "      <th>9</th>\n",
       "      <td>2022-02-10 15:00:00</td>\n",
       "      <td>13 °C\\n(3:00 pm CET | Thursday, February 10, 2...</td>\n",
       "      <td>average: 40% (38 to 41%)\\n(3:00 pm CET | Thurs...</td>\n",
       "      <td>5 m/s\\n(3:00 pm CET | Thursday, February 10, 2...</td>\n",
       "      <td>no precipitation\\n(3:00 pm CET | Thursday, Feb...</td>\n",
       "      <td>| waxing gibbous moon\\n68.64% illuminated</td>\n",
       "      <td>Moon Phase calculatorFebruary 10, 2022 15h</td>\n",
       "    </tr>\n",
       "  </tbody>\n",
       "</table>\n",
       "</div>"
      ],
      "text/plain": [
       "                 date                                        temperature  \\\n",
       "8 2022-02-10 14:00:00  13 °C\\n(2:00 pm CET | Thursday, February 10, 2...   \n",
       "9 2022-02-10 15:00:00  13 °C\\n(3:00 pm CET | Thursday, February 10, 2...   \n",
       "\n",
       "                                            humidity  \\\n",
       "8  average: 43% (41 to 44%)\\n(2:00 pm CET | Thurs...   \n",
       "9  average: 40% (38 to 41%)\\n(3:00 pm CET | Thurs...   \n",
       "\n",
       "                                          wind speed  \\\n",
       "8  4 m/s\\n(2:00 pm CET | Thursday, February 10, 2...   \n",
       "9  5 m/s\\n(3:00 pm CET | Thursday, February 10, 2...   \n",
       "\n",
       "                                Precipitation amount  \\\n",
       "8  no precipitation\\n(2:00 pm CET | Thursday, Feb...   \n",
       "9  no precipitation\\n(3:00 pm CET | Thursday, Feb...   \n",
       "\n",
       "                       Moon Phase calculator  \\\n",
       "8  | waxing gibbous moon\\n68.28% illuminated   \n",
       "9  | waxing gibbous moon\\n68.64% illuminated   \n",
       "\n",
       "                                        query  \n",
       "8  Moon Phase calculatorFebruary 10, 2022 14h  \n",
       "9  Moon Phase calculatorFebruary 10, 2022 15h  "
      ]
     },
     "metadata": {},
     "output_type": "display_data"
    },
    {
     "name": "stderr",
     "output_type": "stream",
     "text": [
      "\r",
      "  2%|█▍                                                                           | 81/4218 [20:15<17:45:58, 15.46s/it]"
     ]
    },
    {
     "name": "stdout",
     "output_type": "stream",
     "text": [
      "QUERY:  Precipitation amount in Zollikofen February 10, 2022 16h\n",
      "QUERY:  temperature in Zollikofen February 10, 2022 16h\n",
      "QUERY:  humidity in Zollikofen February 10, 2022 16h\n",
      "QUERY:  wind speed in Zollikofen February 10, 2022 16h\n",
      "QUERY:  Moon Phase calculatorFebruary 10, 2022 16h\n"
     ]
    },
    {
     "name": "stderr",
     "output_type": "stream",
     "text": [
      "\r",
      "  2%|█▍                                                                           | 82/4218 [20:30<17:38:38, 15.36s/it]"
     ]
    },
    {
     "name": "stdout",
     "output_type": "stream",
     "text": [
      "QUERY:  Precipitation amount in Zollikofen February 10, 2022 17h\n",
      "QUERY:  temperature in Zollikofen February 10, 2022 17h\n",
      "QUERY:  humidity in Zollikofen February 10, 2022 17h\n",
      "QUERY:  wind speed in Zollikofen February 10, 2022 17h\n",
      "QUERY:  Moon Phase calculatorFebruary 10, 2022 17h\n"
     ]
    },
    {
     "name": "stderr",
     "output_type": "stream",
     "text": [
      "\r",
      "  2%|█▌                                                                           | 83/4218 [20:45<17:25:02, 15.16s/it]"
     ]
    },
    {
     "name": "stdout",
     "output_type": "stream",
     "text": [
      "QUERY:  Precipitation amount in Zollikofen February 10, 2022 18h\n",
      "QUERY:  temperature in Zollikofen February 10, 2022 18h\n",
      "QUERY:  humidity in Zollikofen February 10, 2022 18h\n",
      "QUERY:  wind speed in Zollikofen February 10, 2022 18h\n",
      "QUERY:  Moon Phase calculatorFebruary 10, 2022 18h\n"
     ]
    },
    {
     "name": "stderr",
     "output_type": "stream",
     "text": [
      "\r",
      "  2%|█▌                                                                           | 84/4218 [21:00<17:15:55, 15.04s/it]"
     ]
    },
    {
     "name": "stdout",
     "output_type": "stream",
     "text": [
      "QUERY:  Precipitation amount in Zollikofen February 10, 2022 19h\n",
      "QUERY:  temperature in Zollikofen February 10, 2022 19h\n",
      "QUERY:  humidity in Zollikofen February 10, 2022 19h\n",
      "QUERY:  wind speed in Zollikofen February 10, 2022 19h\n",
      "QUERY:  Moon Phase calculatorFebruary 10, 2022 19h\n"
     ]
    },
    {
     "name": "stderr",
     "output_type": "stream",
     "text": [
      "\r",
      "  2%|█▌                                                                           | 85/4218 [21:16<17:30:30, 15.25s/it]"
     ]
    },
    {
     "name": "stdout",
     "output_type": "stream",
     "text": [
      "QUERY:  Precipitation amount in Zollikofen February 10, 2022 20h\n",
      "QUERY:  temperature in Zollikofen February 10, 2022 20h\n",
      "QUERY:  humidity in Zollikofen February 10, 2022 20h\n",
      "QUERY:  wind speed in Zollikofen February 10, 2022 20h\n",
      "QUERY:  Moon Phase calculatorFebruary 10, 2022 20h\n"
     ]
    },
    {
     "name": "stderr",
     "output_type": "stream",
     "text": [
      "\r",
      "  2%|█▌                                                                           | 86/4218 [21:30<17:18:49, 15.08s/it]"
     ]
    },
    {
     "name": "stdout",
     "output_type": "stream",
     "text": [
      "QUERY:  Precipitation amount in Zollikofen February 10, 2022 21h\n",
      "QUERY:  temperature in Zollikofen February 10, 2022 21h\n",
      "QUERY:  humidity in Zollikofen February 10, 2022 21h\n",
      "QUERY:  wind speed in Zollikofen February 10, 2022 21h\n",
      "QUERY:  Moon Phase calculatorFebruary 10, 2022 21h\n"
     ]
    },
    {
     "name": "stderr",
     "output_type": "stream",
     "text": [
      "\r",
      "  2%|█▌                                                                           | 87/4218 [21:45<17:06:31, 14.91s/it]"
     ]
    },
    {
     "name": "stdout",
     "output_type": "stream",
     "text": [
      "QUERY:  Precipitation amount in Zollikofen February 10, 2022 22h\n",
      "QUERY:  temperature in Zollikofen February 10, 2022 22h\n",
      "QUERY:  humidity in Zollikofen February 10, 2022 22h\n",
      "QUERY:  wind speed in Zollikofen February 10, 2022 22h\n",
      "QUERY:  Moon Phase calculatorFebruary 10, 2022 22h\n"
     ]
    },
    {
     "name": "stderr",
     "output_type": "stream",
     "text": [
      "\r",
      "  2%|█▌                                                                           | 88/4218 [22:01<17:22:45, 15.15s/it]"
     ]
    },
    {
     "name": "stdout",
     "output_type": "stream",
     "text": [
      "QUERY:  Precipitation amount in Zollikofen February 10, 2022 23h\n",
      "QUERY:  temperature in Zollikofen February 10, 2022 23h\n",
      "QUERY:  humidity in Zollikofen February 10, 2022 23h\n",
      "QUERY:  wind speed in Zollikofen February 10, 2022 23h\n",
      "QUERY:  Moon Phase calculatorFebruary 10, 2022 23h\n"
     ]
    },
    {
     "name": "stderr",
     "output_type": "stream",
     "text": [
      "\r",
      "  2%|█▌                                                                           | 89/4218 [22:15<17:11:14, 14.99s/it]"
     ]
    },
    {
     "name": "stdout",
     "output_type": "stream",
     "text": [
      "QUERY:  Precipitation amount in Zollikofen February 11, 2022 0h\n",
      "QUERY:  temperature in Zollikofen February 11, 2022 0h\n",
      "QUERY:  humidity in Zollikofen February 11, 2022 0h\n",
      "QUERY:  wind speed in Zollikofen February 11, 2022 0h\n",
      "QUERY:  Moon Phase calculatorFebruary 11, 2022 0h\n"
     ]
    },
    {
     "name": "stderr",
     "output_type": "stream",
     "text": [
      "\r",
      "  2%|█▋                                                                           | 90/4218 [22:30<16:58:57, 14.81s/it]"
     ]
    },
    {
     "name": "stdout",
     "output_type": "stream",
     "text": [
      "QUERY:  Precipitation amount in Zollikofen February 11, 2022 1h\n",
      "QUERY:  temperature in Zollikofen February 11, 2022 1h\n",
      "QUERY:  humidity in Zollikofen February 11, 2022 1h\n",
      "QUERY:  wind speed in Zollikofen February 11, 2022 1h\n",
      "QUERY:  Moon Phase calculatorFebruary 11, 2022 1h\n",
      "(3194, 7)\n"
     ]
    },
    {
     "data": {
      "text/html": [
       "<div>\n",
       "<style scoped>\n",
       "    .dataframe tbody tr th:only-of-type {\n",
       "        vertical-align: middle;\n",
       "    }\n",
       "\n",
       "    .dataframe tbody tr th {\n",
       "        vertical-align: top;\n",
       "    }\n",
       "\n",
       "    .dataframe thead th {\n",
       "        text-align: right;\n",
       "    }\n",
       "</style>\n",
       "<table border=\"1\" class=\"dataframe\">\n",
       "  <thead>\n",
       "    <tr style=\"text-align: right;\">\n",
       "      <th></th>\n",
       "      <th>date</th>\n",
       "      <th>temperature</th>\n",
       "      <th>humidity</th>\n",
       "      <th>wind speed</th>\n",
       "      <th>Precipitation amount</th>\n",
       "      <th>Moon Phase calculator</th>\n",
       "      <th>query</th>\n",
       "    </tr>\n",
       "  </thead>\n",
       "  <tbody>\n",
       "    <tr>\n",
       "      <th>8</th>\n",
       "      <td>2022-02-11 00:00:00</td>\n",
       "      <td>6 °C\\n(12:00 am CET | Friday, February 11, 2022)</td>\n",
       "      <td>average: 76% (66 to 87%)\\n(12:00 am CET | Frid...</td>\n",
       "      <td>1 m/s\\n(12:00 am CET | Friday, February 11, 2022)</td>\n",
       "      <td>rain\\n(12:00 am CET | Friday, February 11, 2022)</td>\n",
       "      <td>| waxing gibbous moon\\n71.85% illuminated</td>\n",
       "      <td>Moon Phase calculatorFebruary 11, 2022 0h</td>\n",
       "    </tr>\n",
       "    <tr>\n",
       "      <th>9</th>\n",
       "      <td>2022-02-11 01:00:00</td>\n",
       "      <td>7 °C\\n(1:00 am CET | Friday, February 11, 2022)</td>\n",
       "      <td>average: 76% (76%)\\n(1:00 am CET | Friday, Feb...</td>\n",
       "      <td>2 m/s\\n(1:00 am CET | Friday, February 11, 2022)</td>\n",
       "      <td>rain\\n(1:00 am CET | Friday, February 11, 2022)</td>\n",
       "      <td>| waxing gibbous moon\\n72.20% illuminated</td>\n",
       "      <td>Moon Phase calculatorFebruary 11, 2022 1h</td>\n",
       "    </tr>\n",
       "  </tbody>\n",
       "</table>\n",
       "</div>"
      ],
      "text/plain": [
       "                 date                                       temperature  \\\n",
       "8 2022-02-11 00:00:00  6 °C\\n(12:00 am CET | Friday, February 11, 2022)   \n",
       "9 2022-02-11 01:00:00   7 °C\\n(1:00 am CET | Friday, February 11, 2022)   \n",
       "\n",
       "                                            humidity  \\\n",
       "8  average: 76% (66 to 87%)\\n(12:00 am CET | Frid...   \n",
       "9  average: 76% (76%)\\n(1:00 am CET | Friday, Feb...   \n",
       "\n",
       "                                          wind speed  \\\n",
       "8  1 m/s\\n(12:00 am CET | Friday, February 11, 2022)   \n",
       "9   2 m/s\\n(1:00 am CET | Friday, February 11, 2022)   \n",
       "\n",
       "                               Precipitation amount  \\\n",
       "8  rain\\n(12:00 am CET | Friday, February 11, 2022)   \n",
       "9   rain\\n(1:00 am CET | Friday, February 11, 2022)   \n",
       "\n",
       "                       Moon Phase calculator  \\\n",
       "8  | waxing gibbous moon\\n71.85% illuminated   \n",
       "9  | waxing gibbous moon\\n72.20% illuminated   \n",
       "\n",
       "                                       query  \n",
       "8  Moon Phase calculatorFebruary 11, 2022 0h  \n",
       "9  Moon Phase calculatorFebruary 11, 2022 1h  "
      ]
     },
     "metadata": {},
     "output_type": "display_data"
    },
    {
     "name": "stderr",
     "output_type": "stream",
     "text": [
      "\r",
      "  2%|█▋                                                                           | 91/4218 [22:44<16:57:43, 14.80s/it]"
     ]
    },
    {
     "name": "stdout",
     "output_type": "stream",
     "text": [
      "QUERY:  Precipitation amount in Zollikofen February 11, 2022 2h\n",
      "QUERY:  temperature in Zollikofen February 11, 2022 2h\n",
      "QUERY:  humidity in Zollikofen February 11, 2022 2h\n",
      "QUERY:  wind speed in Zollikofen February 11, 2022 2h\n",
      "QUERY:  Moon Phase calculatorFebruary 11, 2022 2h\n"
     ]
    },
    {
     "name": "stderr",
     "output_type": "stream",
     "text": [
      "\r",
      "  2%|█▋                                                                           | 92/4218 [23:00<17:08:06, 14.95s/it]"
     ]
    },
    {
     "name": "stdout",
     "output_type": "stream",
     "text": [
      "QUERY:  Precipitation amount in Zollikofen February 11, 2022 3h\n",
      "QUERY:  temperature in Zollikofen February 11, 2022 3h\n",
      "QUERY:  humidity in Zollikofen February 11, 2022 3h\n",
      "QUERY:  wind speed in Zollikofen February 11, 2022 3h\n",
      "QUERY:  Moon Phase calculatorFebruary 11, 2022 3h\n"
     ]
    },
    {
     "name": "stderr",
     "output_type": "stream",
     "text": [
      "\r",
      "  2%|█▋                                                                           | 93/4218 [23:15<17:20:14, 15.13s/it]"
     ]
    },
    {
     "name": "stdout",
     "output_type": "stream",
     "text": [
      "QUERY:  Precipitation amount in Zollikofen February 11, 2022 4h\n",
      "QUERY:  temperature in Zollikofen February 11, 2022 4h\n",
      "QUERY:  humidity in Zollikofen February 11, 2022 4h\n",
      "QUERY:  wind speed in Zollikofen February 11, 2022 4h\n",
      "QUERY:  Moon Phase calculatorFebruary 11, 2022 4h\n"
     ]
    },
    {
     "name": "stderr",
     "output_type": "stream",
     "text": [
      "\r",
      "  2%|█▋                                                                           | 94/4218 [23:30<17:18:21, 15.11s/it]"
     ]
    },
    {
     "name": "stdout",
     "output_type": "stream",
     "text": [
      "QUERY:  Precipitation amount in Zollikofen February 11, 2022 5h\n",
      "QUERY:  temperature in Zollikofen February 11, 2022 5h\n",
      "QUERY:  humidity in Zollikofen February 11, 2022 5h\n",
      "QUERY:  wind speed in Zollikofen February 11, 2022 5h\n",
      "QUERY:  Moon Phase calculatorFebruary 11, 2022 5h\n"
     ]
    },
    {
     "name": "stderr",
     "output_type": "stream",
     "text": [
      "\r",
      "  2%|█▋                                                                           | 95/4218 [23:44<16:53:46, 14.75s/it]"
     ]
    },
    {
     "name": "stdout",
     "output_type": "stream",
     "text": [
      "QUERY:  Precipitation amount in Zollikofen February 11, 2022 6h\n",
      "QUERY:  temperature in Zollikofen February 11, 2022 6h\n",
      "QUERY:  humidity in Zollikofen February 11, 2022 6h\n",
      "QUERY:  wind speed in Zollikofen February 11, 2022 6h\n",
      "QUERY:  Moon Phase calculatorFebruary 11, 2022 6h\n"
     ]
    },
    {
     "name": "stderr",
     "output_type": "stream",
     "text": [
      "\r",
      "  2%|█▊                                                                           | 96/4218 [23:59<17:03:05, 14.89s/it]"
     ]
    },
    {
     "name": "stdout",
     "output_type": "stream",
     "text": [
      "QUERY:  Precipitation amount in Zollikofen February 11, 2022 7h\n",
      "QUERY:  temperature in Zollikofen February 11, 2022 7h\n",
      "QUERY:  humidity in Zollikofen February 11, 2022 7h\n",
      "QUERY:  wind speed in Zollikofen February 11, 2022 7h\n",
      "QUERY:  Moon Phase calculatorFebruary 11, 2022 7h\n"
     ]
    },
    {
     "name": "stderr",
     "output_type": "stream",
     "text": [
      "\r",
      "  2%|█▊                                                                           | 97/4218 [24:14<16:48:23, 14.68s/it]"
     ]
    },
    {
     "name": "stdout",
     "output_type": "stream",
     "text": [
      "QUERY:  Precipitation amount in Zollikofen February 11, 2022 8h\n",
      "QUERY:  temperature in Zollikofen February 11, 2022 8h\n",
      "QUERY:  humidity in Zollikofen February 11, 2022 8h\n",
      "QUERY:  wind speed in Zollikofen February 11, 2022 8h\n",
      "QUERY:  Moon Phase calculatorFebruary 11, 2022 8h\n"
     ]
    },
    {
     "name": "stderr",
     "output_type": "stream",
     "text": [
      "\r",
      "  2%|█▊                                                                           | 98/4218 [24:28<16:39:30, 14.56s/it]"
     ]
    },
    {
     "name": "stdout",
     "output_type": "stream",
     "text": [
      "QUERY:  Precipitation amount in Zollikofen February 11, 2022 9h\n",
      "QUERY:  temperature in Zollikofen February 11, 2022 9h\n",
      "QUERY:  humidity in Zollikofen February 11, 2022 9h\n",
      "QUERY:  wind speed in Zollikofen February 11, 2022 9h\n",
      "QUERY:  Moon Phase calculatorFebruary 11, 2022 9h\n"
     ]
    },
    {
     "name": "stderr",
     "output_type": "stream",
     "text": [
      "\r",
      "  2%|█▊                                                                           | 99/4218 [24:45<17:30:55, 15.31s/it]"
     ]
    },
    {
     "name": "stdout",
     "output_type": "stream",
     "text": [
      "QUERY:  Precipitation amount in Zollikofen February 11, 2022 10h\n",
      "QUERY:  temperature in Zollikofen February 11, 2022 10h\n",
      "QUERY:  humidity in Zollikofen February 11, 2022 10h\n",
      "QUERY:  wind speed in Zollikofen February 11, 2022 10h\n",
      "QUERY:  Moon Phase calculatorFebruary 11, 2022 10h\n"
     ]
    },
    {
     "name": "stderr",
     "output_type": "stream",
     "text": [
      "\r",
      "  2%|█▊                                                                          | 100/4218 [25:00<17:18:52, 15.14s/it]"
     ]
    },
    {
     "name": "stdout",
     "output_type": "stream",
     "text": [
      "QUERY:  Precipitation amount in Zollikofen February 11, 2022 11h\n",
      "QUERY:  temperature in Zollikofen February 11, 2022 11h\n",
      "QUERY:  humidity in Zollikofen February 11, 2022 11h\n",
      "QUERY:  wind speed in Zollikofen February 11, 2022 11h\n",
      "QUERY:  Moon Phase calculatorFebruary 11, 2022 11h\n",
      "(3204, 7)\n"
     ]
    },
    {
     "data": {
      "text/html": [
       "<div>\n",
       "<style scoped>\n",
       "    .dataframe tbody tr th:only-of-type {\n",
       "        vertical-align: middle;\n",
       "    }\n",
       "\n",
       "    .dataframe tbody tr th {\n",
       "        vertical-align: top;\n",
       "    }\n",
       "\n",
       "    .dataframe thead th {\n",
       "        text-align: right;\n",
       "    }\n",
       "</style>\n",
       "<table border=\"1\" class=\"dataframe\">\n",
       "  <thead>\n",
       "    <tr style=\"text-align: right;\">\n",
       "      <th></th>\n",
       "      <th>date</th>\n",
       "      <th>temperature</th>\n",
       "      <th>humidity</th>\n",
       "      <th>wind speed</th>\n",
       "      <th>Precipitation amount</th>\n",
       "      <th>Moon Phase calculator</th>\n",
       "      <th>query</th>\n",
       "    </tr>\n",
       "  </thead>\n",
       "  <tbody>\n",
       "    <tr>\n",
       "      <th>8</th>\n",
       "      <td>2022-02-11 10:00:00</td>\n",
       "      <td>3 °C\\n(10:00 am CET | Friday, February 11, 2022)</td>\n",
       "      <td>average: 84% (81 to 87%)\\n(10:00 am CET | Frid...</td>\n",
       "      <td>2 m/s\\n(10:00 am CET | Friday, February 11, 2022)</td>\n",
       "      <td>no precipitation\\n(10:00 am CET | Friday, Febr...</td>\n",
       "      <td>| waxing gibbous moon\\n75.30% illuminated</td>\n",
       "      <td>Moon Phase calculatorFebruary 11, 2022 10h</td>\n",
       "    </tr>\n",
       "    <tr>\n",
       "      <th>9</th>\n",
       "      <td>2022-02-11 11:00:00</td>\n",
       "      <td>3 °C\\n(11:00 am CET | Friday, February 11, 2022)</td>\n",
       "      <td>average: 78% (75 to 81%)\\n(11:00 am CET | Frid...</td>\n",
       "      <td>3 m/s\\n(11:00 am CET | Friday, February 11, 2022)</td>\n",
       "      <td>no precipitation\\n(11:00 am CET | Friday, Febr...</td>\n",
       "      <td>| waxing gibbous moon\\n75.63% illuminated</td>\n",
       "      <td>Moon Phase calculatorFebruary 11, 2022 11h</td>\n",
       "    </tr>\n",
       "  </tbody>\n",
       "</table>\n",
       "</div>"
      ],
      "text/plain": [
       "                 date                                       temperature  \\\n",
       "8 2022-02-11 10:00:00  3 °C\\n(10:00 am CET | Friday, February 11, 2022)   \n",
       "9 2022-02-11 11:00:00  3 °C\\n(11:00 am CET | Friday, February 11, 2022)   \n",
       "\n",
       "                                            humidity  \\\n",
       "8  average: 84% (81 to 87%)\\n(10:00 am CET | Frid...   \n",
       "9  average: 78% (75 to 81%)\\n(11:00 am CET | Frid...   \n",
       "\n",
       "                                          wind speed  \\\n",
       "8  2 m/s\\n(10:00 am CET | Friday, February 11, 2022)   \n",
       "9  3 m/s\\n(11:00 am CET | Friday, February 11, 2022)   \n",
       "\n",
       "                                Precipitation amount  \\\n",
       "8  no precipitation\\n(10:00 am CET | Friday, Febr...   \n",
       "9  no precipitation\\n(11:00 am CET | Friday, Febr...   \n",
       "\n",
       "                       Moon Phase calculator  \\\n",
       "8  | waxing gibbous moon\\n75.30% illuminated   \n",
       "9  | waxing gibbous moon\\n75.63% illuminated   \n",
       "\n",
       "                                        query  \n",
       "8  Moon Phase calculatorFebruary 11, 2022 10h  \n",
       "9  Moon Phase calculatorFebruary 11, 2022 11h  "
      ]
     },
     "metadata": {},
     "output_type": "display_data"
    },
    {
     "name": "stderr",
     "output_type": "stream",
     "text": [
      "\r",
      "  2%|█▊                                                                          | 101/4218 [25:14<17:06:37, 14.96s/it]"
     ]
    },
    {
     "name": "stdout",
     "output_type": "stream",
     "text": [
      "QUERY:  Precipitation amount in Zollikofen February 11, 2022 12h\n",
      "QUERY:  temperature in Zollikofen February 11, 2022 12h\n",
      "QUERY:  humidity in Zollikofen February 11, 2022 12h\n",
      "QUERY:  wind speed in Zollikofen February 11, 2022 12h\n",
      "QUERY:  Moon Phase calculatorFebruary 11, 2022 12h\n"
     ]
    },
    {
     "name": "stderr",
     "output_type": "stream",
     "text": [
      "\r",
      "  2%|█▊                                                                          | 102/4218 [25:28<16:43:50, 14.63s/it]"
     ]
    },
    {
     "name": "stdout",
     "output_type": "stream",
     "text": [
      "QUERY:  Precipitation amount in Zollikofen February 11, 2022 13h\n",
      "QUERY:  temperature in Zollikofen February 11, 2022 13h\n",
      "QUERY:  humidity in Zollikofen February 11, 2022 13h\n",
      "QUERY:  wind speed in Zollikofen February 11, 2022 13h\n",
      "QUERY:  Moon Phase calculatorFebruary 11, 2022 13h\n"
     ]
    },
    {
     "name": "stderr",
     "output_type": "stream",
     "text": [
      "\r",
      "  2%|█▊                                                                          | 103/4218 [25:42<16:37:40, 14.55s/it]"
     ]
    },
    {
     "name": "stdout",
     "output_type": "stream",
     "text": [
      "QUERY:  Precipitation amount in Zollikofen February 11, 2022 14h\n",
      "QUERY:  temperature in Zollikofen February 11, 2022 14h\n",
      "QUERY:  humidity in Zollikofen February 11, 2022 14h\n",
      "QUERY:  wind speed in Zollikofen February 11, 2022 14h\n",
      "QUERY:  Moon Phase calculatorFebruary 11, 2022 14h\n"
     ]
    },
    {
     "name": "stderr",
     "output_type": "stream",
     "text": [
      "\r",
      "  2%|█▊                                                                          | 104/4218 [25:58<16:55:55, 14.82s/it]"
     ]
    },
    {
     "name": "stdout",
     "output_type": "stream",
     "text": [
      "QUERY:  Precipitation amount in Zollikofen February 11, 2022 15h\n",
      "QUERY:  temperature in Zollikofen February 11, 2022 15h\n",
      "QUERY:  humidity in Zollikofen February 11, 2022 15h\n",
      "QUERY:  wind speed in Zollikofen February 11, 2022 15h\n",
      "QUERY:  Moon Phase calculatorFebruary 11, 2022 15h\n"
     ]
    },
    {
     "name": "stderr",
     "output_type": "stream",
     "text": [
      "\r",
      "  2%|█▉                                                                          | 105/4218 [26:13<16:55:20, 14.81s/it]"
     ]
    },
    {
     "name": "stdout",
     "output_type": "stream",
     "text": [
      "QUERY:  Precipitation amount in Zollikofen February 11, 2022 16h\n",
      "QUERY:  temperature in Zollikofen February 11, 2022 16h\n",
      "QUERY:  humidity in Zollikofen February 11, 2022 16h\n",
      "QUERY:  wind speed in Zollikofen February 11, 2022 16h\n",
      "QUERY:  Moon Phase calculatorFebruary 11, 2022 16h\n"
     ]
    },
    {
     "name": "stderr",
     "output_type": "stream",
     "text": [
      "\r",
      "  3%|█▉                                                                          | 106/4218 [26:27<16:49:29, 14.73s/it]"
     ]
    },
    {
     "name": "stdout",
     "output_type": "stream",
     "text": [
      "QUERY:  Precipitation amount in Zollikofen February 11, 2022 17h\n",
      "QUERY:  temperature in Zollikofen February 11, 2022 17h\n",
      "QUERY:  humidity in Zollikofen February 11, 2022 17h\n",
      "QUERY:  wind speed in Zollikofen February 11, 2022 17h\n",
      "QUERY:  Moon Phase calculatorFebruary 11, 2022 17h\n"
     ]
    },
    {
     "name": "stderr",
     "output_type": "stream",
     "text": [
      "\r",
      "  3%|█▉                                                                          | 107/4218 [26:43<17:19:07, 15.17s/it]"
     ]
    },
    {
     "name": "stdout",
     "output_type": "stream",
     "text": [
      "QUERY:  Precipitation amount in Zollikofen February 11, 2022 18h\n",
      "QUERY:  temperature in Zollikofen February 11, 2022 18h\n",
      "QUERY:  humidity in Zollikofen February 11, 2022 18h\n",
      "QUERY:  wind speed in Zollikofen February 11, 2022 18h\n",
      "QUERY:  Moon Phase calculatorFebruary 11, 2022 18h\n"
     ]
    },
    {
     "name": "stderr",
     "output_type": "stream",
     "text": [
      "\r",
      "  3%|█▉                                                                          | 108/4218 [26:58<17:06:11, 14.98s/it]"
     ]
    },
    {
     "name": "stdout",
     "output_type": "stream",
     "text": [
      "QUERY:  Precipitation amount in Zollikofen February 11, 2022 19h\n",
      "QUERY:  temperature in Zollikofen February 11, 2022 19h\n",
      "QUERY:  humidity in Zollikofen February 11, 2022 19h\n",
      "QUERY:  wind speed in Zollikofen February 11, 2022 19h\n",
      "QUERY:  Moon Phase calculatorFebruary 11, 2022 19h\n"
     ]
    },
    {
     "name": "stderr",
     "output_type": "stream",
     "text": [
      "\r",
      "  3%|█▉                                                                          | 109/4218 [27:13<17:00:54, 14.91s/it]"
     ]
    },
    {
     "name": "stdout",
     "output_type": "stream",
     "text": [
      "QUERY:  Precipitation amount in Zollikofen February 11, 2022 20h\n",
      "QUERY:  temperature in Zollikofen February 11, 2022 20h\n",
      "QUERY:  humidity in Zollikofen February 11, 2022 20h\n",
      "QUERY:  wind speed in Zollikofen February 11, 2022 20h\n",
      "QUERY:  Moon Phase calculatorFebruary 11, 2022 20h\n"
     ]
    },
    {
     "name": "stderr",
     "output_type": "stream",
     "text": [
      "\r",
      "  3%|█▉                                                                          | 110/4218 [27:27<16:50:58, 14.77s/it]"
     ]
    },
    {
     "name": "stdout",
     "output_type": "stream",
     "text": [
      "QUERY:  Precipitation amount in Zollikofen February 11, 2022 21h\n",
      "QUERY:  temperature in Zollikofen February 11, 2022 21h\n",
      "QUERY:  humidity in Zollikofen February 11, 2022 21h\n",
      "QUERY:  wind speed in Zollikofen February 11, 2022 21h\n",
      "QUERY:  Moon Phase calculatorFebruary 11, 2022 21h\n",
      "(3214, 7)\n"
     ]
    },
    {
     "data": {
      "text/html": [
       "<div>\n",
       "<style scoped>\n",
       "    .dataframe tbody tr th:only-of-type {\n",
       "        vertical-align: middle;\n",
       "    }\n",
       "\n",
       "    .dataframe tbody tr th {\n",
       "        vertical-align: top;\n",
       "    }\n",
       "\n",
       "    .dataframe thead th {\n",
       "        text-align: right;\n",
       "    }\n",
       "</style>\n",
       "<table border=\"1\" class=\"dataframe\">\n",
       "  <thead>\n",
       "    <tr style=\"text-align: right;\">\n",
       "      <th></th>\n",
       "      <th>date</th>\n",
       "      <th>temperature</th>\n",
       "      <th>humidity</th>\n",
       "      <th>wind speed</th>\n",
       "      <th>Precipitation amount</th>\n",
       "      <th>Moon Phase calculator</th>\n",
       "      <th>query</th>\n",
       "    </tr>\n",
       "  </thead>\n",
       "  <tbody>\n",
       "    <tr>\n",
       "      <th>8</th>\n",
       "      <td>2022-02-11 20:00:00</td>\n",
       "      <td>-1 °C\\n(8:00 pm CET | Friday, February 11, 2022)</td>\n",
       "      <td>average: 90% (86 to 93%)\\n(8:00 pm CET | Frida...</td>\n",
       "      <td>2 m/s\\n(8:00 pm CET | Friday, February 11, 2022)</td>\n",
       "      <td>no precipitation\\n(8:00 pm CET | Friday, Febru...</td>\n",
       "      <td>| waxing gibbous moon\\n78.59% illuminated</td>\n",
       "      <td>Moon Phase calculatorFebruary 11, 2022 20h</td>\n",
       "    </tr>\n",
       "    <tr>\n",
       "      <th>9</th>\n",
       "      <td>2022-02-11 21:00:00</td>\n",
       "      <td>-1 °C\\n(9:00 pm CET | Friday, February 11, 2022)</td>\n",
       "      <td>average: 93% (93%)\\n(9:00 pm CET | Friday, Feb...</td>\n",
       "      <td>1 m/s\\n(9:00 pm CET | Friday, February 11, 2022)</td>\n",
       "      <td>no precipitation\\n(9:00 pm CET | Friday, Febru...</td>\n",
       "      <td>| waxing gibbous moon\\n78.91% illuminated</td>\n",
       "      <td>Moon Phase calculatorFebruary 11, 2022 21h</td>\n",
       "    </tr>\n",
       "  </tbody>\n",
       "</table>\n",
       "</div>"
      ],
      "text/plain": [
       "                 date                                       temperature  \\\n",
       "8 2022-02-11 20:00:00  -1 °C\\n(8:00 pm CET | Friday, February 11, 2022)   \n",
       "9 2022-02-11 21:00:00  -1 °C\\n(9:00 pm CET | Friday, February 11, 2022)   \n",
       "\n",
       "                                            humidity  \\\n",
       "8  average: 90% (86 to 93%)\\n(8:00 pm CET | Frida...   \n",
       "9  average: 93% (93%)\\n(9:00 pm CET | Friday, Feb...   \n",
       "\n",
       "                                         wind speed  \\\n",
       "8  2 m/s\\n(8:00 pm CET | Friday, February 11, 2022)   \n",
       "9  1 m/s\\n(9:00 pm CET | Friday, February 11, 2022)   \n",
       "\n",
       "                                Precipitation amount  \\\n",
       "8  no precipitation\\n(8:00 pm CET | Friday, Febru...   \n",
       "9  no precipitation\\n(9:00 pm CET | Friday, Febru...   \n",
       "\n",
       "                       Moon Phase calculator  \\\n",
       "8  | waxing gibbous moon\\n78.59% illuminated   \n",
       "9  | waxing gibbous moon\\n78.91% illuminated   \n",
       "\n",
       "                                        query  \n",
       "8  Moon Phase calculatorFebruary 11, 2022 20h  \n",
       "9  Moon Phase calculatorFebruary 11, 2022 21h  "
      ]
     },
     "metadata": {},
     "output_type": "display_data"
    },
    {
     "name": "stderr",
     "output_type": "stream",
     "text": [
      "\r",
      "  3%|██                                                                          | 111/4218 [27:42<16:46:33, 14.70s/it]"
     ]
    },
    {
     "name": "stdout",
     "output_type": "stream",
     "text": [
      "QUERY:  Precipitation amount in Zollikofen February 11, 2022 22h\n",
      "QUERY:  temperature in Zollikofen February 11, 2022 22h\n",
      "QUERY:  humidity in Zollikofen February 11, 2022 22h\n",
      "QUERY:  wind speed in Zollikofen February 11, 2022 22h\n",
      "QUERY:  Moon Phase calculatorFebruary 11, 2022 22h\n"
     ]
    },
    {
     "name": "stderr",
     "output_type": "stream",
     "text": [
      "\r",
      "  3%|██                                                                          | 112/4218 [27:55<16:21:32, 14.34s/it]"
     ]
    },
    {
     "name": "stdout",
     "output_type": "stream",
     "text": [
      "QUERY:  Precipitation amount in Zollikofen February 11, 2022 23h\n",
      "QUERY:  temperature in Zollikofen February 11, 2022 23h\n",
      "QUERY:  humidity in Zollikofen February 11, 2022 23h\n",
      "QUERY:  wind speed in Zollikofen February 11, 2022 23h\n",
      "QUERY:  Moon Phase calculatorFebruary 11, 2022 23h\n"
     ]
    },
    {
     "name": "stderr",
     "output_type": "stream",
     "text": [
      "\r",
      "  3%|██                                                                          | 113/4218 [28:09<16:14:50, 14.25s/it]"
     ]
    },
    {
     "name": "stdout",
     "output_type": "stream",
     "text": [
      "QUERY:  Precipitation amount in Zollikofen February 12, 2022 0h\n",
      "QUERY:  temperature in Zollikofen February 12, 2022 0h\n",
      "QUERY:  humidity in Zollikofen February 12, 2022 0h\n",
      "QUERY:  wind speed in Zollikofen February 12, 2022 0h\n",
      "QUERY:  Moon Phase calculatorFebruary 12, 2022 0h\n"
     ]
    },
    {
     "name": "stderr",
     "output_type": "stream",
     "text": [
      "\r",
      "  3%|██                                                                          | 114/4218 [28:24<16:31:06, 14.49s/it]"
     ]
    },
    {
     "name": "stdout",
     "output_type": "stream",
     "text": [
      "QUERY:  Precipitation amount in Zollikofen February 12, 2022 1h\n",
      "QUERY:  temperature in Zollikofen February 12, 2022 1h\n",
      "QUERY:  humidity in Zollikofen February 12, 2022 1h\n",
      "QUERY:  wind speed in Zollikofen February 12, 2022 1h\n",
      "QUERY:  Moon Phase calculatorFebruary 12, 2022 1h\n"
     ]
    },
    {
     "name": "stderr",
     "output_type": "stream",
     "text": [
      "\r",
      "  3%|██                                                                          | 115/4218 [28:39<16:33:59, 14.54s/it]"
     ]
    },
    {
     "name": "stdout",
     "output_type": "stream",
     "text": [
      "QUERY:  Precipitation amount in Zollikofen February 12, 2022 2h\n",
      "QUERY:  temperature in Zollikofen February 12, 2022 2h\n",
      "QUERY:  humidity in Zollikofen February 12, 2022 2h\n",
      "QUERY:  wind speed in Zollikofen February 12, 2022 2h\n",
      "QUERY:  Moon Phase calculatorFebruary 12, 2022 2h\n"
     ]
    },
    {
     "name": "stderr",
     "output_type": "stream",
     "text": [
      "\r",
      "  3%|██                                                                          | 116/4218 [28:53<16:21:18, 14.35s/it]"
     ]
    },
    {
     "name": "stdout",
     "output_type": "stream",
     "text": [
      "QUERY:  Precipitation amount in Zollikofen February 12, 2022 3h\n",
      "QUERY:  temperature in Zollikofen February 12, 2022 3h\n",
      "QUERY:  humidity in Zollikofen February 12, 2022 3h\n",
      "QUERY:  wind speed in Zollikofen February 12, 2022 3h\n",
      "QUERY:  Moon Phase calculatorFebruary 12, 2022 3h\n"
     ]
    },
    {
     "name": "stderr",
     "output_type": "stream",
     "text": [
      "\r",
      "  3%|██                                                                          | 117/4218 [29:08<16:43:47, 14.69s/it]"
     ]
    },
    {
     "name": "stdout",
     "output_type": "stream",
     "text": [
      "QUERY:  Precipitation amount in Zollikofen February 12, 2022 4h\n",
      "QUERY:  temperature in Zollikofen February 12, 2022 4h\n",
      "QUERY:  humidity in Zollikofen February 12, 2022 4h\n",
      "QUERY:  wind speed in Zollikofen February 12, 2022 4h\n",
      "QUERY:  Moon Phase calculatorFebruary 12, 2022 4h\n"
     ]
    },
    {
     "name": "stderr",
     "output_type": "stream",
     "text": [
      "\r",
      "  3%|██▏                                                                         | 118/4218 [29:23<16:42:37, 14.67s/it]"
     ]
    },
    {
     "name": "stdout",
     "output_type": "stream",
     "text": [
      "QUERY:  Precipitation amount in Zollikofen February 12, 2022 5h\n",
      "QUERY:  temperature in Zollikofen February 12, 2022 5h\n",
      "QUERY:  humidity in Zollikofen February 12, 2022 5h\n",
      "QUERY:  wind speed in Zollikofen February 12, 2022 5h\n",
      "QUERY:  Moon Phase calculatorFebruary 12, 2022 5h\n"
     ]
    },
    {
     "name": "stderr",
     "output_type": "stream",
     "text": [
      "\r",
      "  3%|██▏                                                                         | 119/4218 [29:37<16:30:56, 14.51s/it]"
     ]
    },
    {
     "name": "stdout",
     "output_type": "stream",
     "text": [
      "QUERY:  Precipitation amount in Zollikofen February 12, 2022 6h\n",
      "QUERY:  temperature in Zollikofen February 12, 2022 6h\n",
      "QUERY:  humidity in Zollikofen February 12, 2022 6h\n",
      "QUERY:  wind speed in Zollikofen February 12, 2022 6h\n",
      "QUERY:  Moon Phase calculatorFebruary 12, 2022 6h\n"
     ]
    },
    {
     "name": "stderr",
     "output_type": "stream",
     "text": [
      "\r",
      "  3%|██▏                                                                         | 120/4218 [29:51<16:27:34, 14.46s/it]"
     ]
    },
    {
     "name": "stdout",
     "output_type": "stream",
     "text": [
      "QUERY:  Precipitation amount in Zollikofen February 12, 2022 7h\n",
      "QUERY:  temperature in Zollikofen February 12, 2022 7h\n",
      "QUERY:  humidity in Zollikofen February 12, 2022 7h\n",
      "QUERY:  wind speed in Zollikofen February 12, 2022 7h\n",
      "QUERY:  Moon Phase calculatorFebruary 12, 2022 7h\n",
      "(3224, 7)\n"
     ]
    },
    {
     "data": {
      "text/html": [
       "<div>\n",
       "<style scoped>\n",
       "    .dataframe tbody tr th:only-of-type {\n",
       "        vertical-align: middle;\n",
       "    }\n",
       "\n",
       "    .dataframe tbody tr th {\n",
       "        vertical-align: top;\n",
       "    }\n",
       "\n",
       "    .dataframe thead th {\n",
       "        text-align: right;\n",
       "    }\n",
       "</style>\n",
       "<table border=\"1\" class=\"dataframe\">\n",
       "  <thead>\n",
       "    <tr style=\"text-align: right;\">\n",
       "      <th></th>\n",
       "      <th>date</th>\n",
       "      <th>temperature</th>\n",
       "      <th>humidity</th>\n",
       "      <th>wind speed</th>\n",
       "      <th>Precipitation amount</th>\n",
       "      <th>Moon Phase calculator</th>\n",
       "      <th>query</th>\n",
       "    </tr>\n",
       "  </thead>\n",
       "  <tbody>\n",
       "    <tr>\n",
       "      <th>8</th>\n",
       "      <td>2022-02-12 06:00:00</td>\n",
       "      <td>-4 °C\\n(6:00 am CET | Saturday, February 12, 2...</td>\n",
       "      <td>average: 96% (93 to 100%)\\n(6:00 am CET | Satu...</td>\n",
       "      <td>1 m/s\\n(6:00 am CET | Saturday, February 12, 2...</td>\n",
       "      <td>no precipitation\\n(6:00 am CET | Saturday, Feb...</td>\n",
       "      <td>| waxing gibbous moon\\n81.71% illuminated</td>\n",
       "      <td>Moon Phase calculatorFebruary 12, 2022 6h</td>\n",
       "    </tr>\n",
       "    <tr>\n",
       "      <th>9</th>\n",
       "      <td>2022-02-12 07:00:00</td>\n",
       "      <td>-5 °C\\n(7:00 am CET | Saturday, February 12, 2...</td>\n",
       "      <td>average: 96% (93 to 100%)\\n(7:00 am CET | Satu...</td>\n",
       "      <td>0 m/s\\n(7:00 am CET | Saturday, February 12, 2...</td>\n",
       "      <td>no precipitation\\n(7:00 am CET | Saturday, Feb...</td>\n",
       "      <td>| waxing gibbous moon\\n82.01% illuminated</td>\n",
       "      <td>Moon Phase calculatorFebruary 12, 2022 7h</td>\n",
       "    </tr>\n",
       "  </tbody>\n",
       "</table>\n",
       "</div>"
      ],
      "text/plain": [
       "                 date                                        temperature  \\\n",
       "8 2022-02-12 06:00:00  -4 °C\\n(6:00 am CET | Saturday, February 12, 2...   \n",
       "9 2022-02-12 07:00:00  -5 °C\\n(7:00 am CET | Saturday, February 12, 2...   \n",
       "\n",
       "                                            humidity  \\\n",
       "8  average: 96% (93 to 100%)\\n(6:00 am CET | Satu...   \n",
       "9  average: 96% (93 to 100%)\\n(7:00 am CET | Satu...   \n",
       "\n",
       "                                          wind speed  \\\n",
       "8  1 m/s\\n(6:00 am CET | Saturday, February 12, 2...   \n",
       "9  0 m/s\\n(7:00 am CET | Saturday, February 12, 2...   \n",
       "\n",
       "                                Precipitation amount  \\\n",
       "8  no precipitation\\n(6:00 am CET | Saturday, Feb...   \n",
       "9  no precipitation\\n(7:00 am CET | Saturday, Feb...   \n",
       "\n",
       "                       Moon Phase calculator  \\\n",
       "8  | waxing gibbous moon\\n81.71% illuminated   \n",
       "9  | waxing gibbous moon\\n82.01% illuminated   \n",
       "\n",
       "                                       query  \n",
       "8  Moon Phase calculatorFebruary 12, 2022 6h  \n",
       "9  Moon Phase calculatorFebruary 12, 2022 7h  "
      ]
     },
     "metadata": {},
     "output_type": "display_data"
    },
    {
     "name": "stderr",
     "output_type": "stream",
     "text": [
      "\r",
      "  3%|██▏                                                                         | 121/4218 [30:06<16:38:37, 14.62s/it]"
     ]
    },
    {
     "name": "stdout",
     "output_type": "stream",
     "text": [
      "QUERY:  Precipitation amount in Zollikofen February 12, 2022 8h\n",
      "QUERY:  temperature in Zollikofen February 12, 2022 8h\n",
      "QUERY:  humidity in Zollikofen February 12, 2022 8h\n",
      "QUERY:  wind speed in Zollikofen February 12, 2022 8h\n",
      "QUERY:  Moon Phase calculatorFebruary 12, 2022 8h\n"
     ]
    },
    {
     "name": "stderr",
     "output_type": "stream",
     "text": [
      "\r",
      "  3%|██▏                                                                         | 122/4218 [30:22<16:50:14, 14.80s/it]"
     ]
    },
    {
     "name": "stdout",
     "output_type": "stream",
     "text": [
      "QUERY:  Precipitation amount in Zollikofen February 12, 2022 9h\n",
      "QUERY:  temperature in Zollikofen February 12, 2022 9h\n",
      "QUERY:  humidity in Zollikofen February 12, 2022 9h\n",
      "QUERY:  wind speed in Zollikofen February 12, 2022 9h\n",
      "QUERY:  Moon Phase calculatorFebruary 12, 2022 9h\n"
     ]
    },
    {
     "name": "stderr",
     "output_type": "stream",
     "text": [
      "\r",
      "  3%|██▏                                                                         | 123/4218 [30:36<16:38:14, 14.63s/it]"
     ]
    },
    {
     "name": "stdout",
     "output_type": "stream",
     "text": [
      "QUERY:  Precipitation amount in Zollikofen February 12, 2022 10h\n",
      "QUERY:  temperature in Zollikofen February 12, 2022 10h\n",
      "QUERY:  humidity in Zollikofen February 12, 2022 10h\n",
      "QUERY:  wind speed in Zollikofen February 12, 2022 10h\n",
      "QUERY:  Moon Phase calculatorFebruary 12, 2022 10h\n"
     ]
    },
    {
     "name": "stderr",
     "output_type": "stream",
     "text": [
      "\r",
      "  3%|██▏                                                                         | 124/4218 [30:51<16:43:59, 14.71s/it]"
     ]
    },
    {
     "name": "stdout",
     "output_type": "stream",
     "text": [
      "QUERY:  Precipitation amount in Zollikofen February 12, 2022 11h\n",
      "QUERY:  temperature in Zollikofen February 12, 2022 11h\n",
      "QUERY:  humidity in Zollikofen February 12, 2022 11h\n",
      "QUERY:  wind speed in Zollikofen February 12, 2022 11h\n",
      "QUERY:  Moon Phase calculatorFebruary 12, 2022 11h\n"
     ]
    },
    {
     "name": "stderr",
     "output_type": "stream",
     "text": [
      "\r",
      "  3%|██▎                                                                         | 125/4218 [31:06<16:57:59, 14.92s/it]"
     ]
    },
    {
     "name": "stdout",
     "output_type": "stream",
     "text": [
      "QUERY:  Precipitation amount in Zollikofen February 12, 2022 12h\n",
      "QUERY:  temperature in Zollikofen February 12, 2022 12h\n",
      "QUERY:  humidity in Zollikofen February 12, 2022 12h\n",
      "QUERY:  wind speed in Zollikofen February 12, 2022 12h\n",
      "QUERY:  Moon Phase calculatorFebruary 12, 2022 12h\n"
     ]
    },
    {
     "name": "stderr",
     "output_type": "stream",
     "text": [
      "\r",
      "  3%|██▎                                                                         | 126/4218 [31:20<16:35:51, 14.60s/it]"
     ]
    },
    {
     "name": "stdout",
     "output_type": "stream",
     "text": [
      "QUERY:  Precipitation amount in Zollikofen February 12, 2022 13h\n",
      "QUERY:  temperature in Zollikofen February 12, 2022 13h\n",
      "QUERY:  humidity in Zollikofen February 12, 2022 13h\n",
      "QUERY:  wind speed in Zollikofen February 12, 2022 13h\n",
      "QUERY:  Moon Phase calculatorFebruary 12, 2022 13h\n"
     ]
    },
    {
     "name": "stderr",
     "output_type": "stream",
     "text": [
      "\r",
      "  3%|██▎                                                                         | 127/4218 [31:34<16:31:24, 14.54s/it]"
     ]
    },
    {
     "name": "stdout",
     "output_type": "stream",
     "text": [
      "QUERY:  Precipitation amount in Zollikofen February 12, 2022 14h\n",
      "QUERY:  temperature in Zollikofen February 12, 2022 14h\n",
      "QUERY:  humidity in Zollikofen February 12, 2022 14h\n",
      "QUERY:  wind speed in Zollikofen February 12, 2022 14h\n",
      "QUERY:  Moon Phase calculatorFebruary 12, 2022 14h\n"
     ]
    },
    {
     "name": "stderr",
     "output_type": "stream",
     "text": [
      "\r",
      "  3%|██▎                                                                         | 128/4218 [31:49<16:32:38, 14.56s/it]"
     ]
    },
    {
     "name": "stdout",
     "output_type": "stream",
     "text": [
      "QUERY:  Precipitation amount in Zollikofen February 12, 2022 15h\n",
      "QUERY:  temperature in Zollikofen February 12, 2022 15h\n",
      "QUERY:  humidity in Zollikofen February 12, 2022 15h\n",
      "QUERY:  wind speed in Zollikofen February 12, 2022 15h\n",
      "QUERY:  Moon Phase calculatorFebruary 12, 2022 15h\n"
     ]
    },
    {
     "name": "stderr",
     "output_type": "stream",
     "text": [
      "\r",
      "  3%|██▎                                                                         | 129/4218 [32:06<17:25:05, 15.34s/it]"
     ]
    },
    {
     "name": "stdout",
     "output_type": "stream",
     "text": [
      "QUERY:  Precipitation amount in Zollikofen February 12, 2022 16h\n",
      "QUERY:  temperature in Zollikofen February 12, 2022 16h\n",
      "QUERY:  humidity in Zollikofen February 12, 2022 16h\n",
      "QUERY:  wind speed in Zollikofen February 12, 2022 16h\n",
      "QUERY:  Moon Phase calculatorFebruary 12, 2022 16h\n"
     ]
    },
    {
     "name": "stderr",
     "output_type": "stream",
     "text": [
      "\r",
      "  3%|██▎                                                                         | 130/4218 [32:20<16:51:17, 14.84s/it]"
     ]
    },
    {
     "name": "stdout",
     "output_type": "stream",
     "text": [
      "QUERY:  Precipitation amount in Zollikofen February 12, 2022 17h\n",
      "QUERY:  temperature in Zollikofen February 12, 2022 17h\n",
      "QUERY:  humidity in Zollikofen February 12, 2022 17h\n",
      "QUERY:  wind speed in Zollikofen February 12, 2022 17h\n",
      "QUERY:  Moon Phase calculatorFebruary 12, 2022 17h\n",
      "(3234, 7)\n"
     ]
    },
    {
     "data": {
      "text/html": [
       "<div>\n",
       "<style scoped>\n",
       "    .dataframe tbody tr th:only-of-type {\n",
       "        vertical-align: middle;\n",
       "    }\n",
       "\n",
       "    .dataframe tbody tr th {\n",
       "        vertical-align: top;\n",
       "    }\n",
       "\n",
       "    .dataframe thead th {\n",
       "        text-align: right;\n",
       "    }\n",
       "</style>\n",
       "<table border=\"1\" class=\"dataframe\">\n",
       "  <thead>\n",
       "    <tr style=\"text-align: right;\">\n",
       "      <th></th>\n",
       "      <th>date</th>\n",
       "      <th>temperature</th>\n",
       "      <th>humidity</th>\n",
       "      <th>wind speed</th>\n",
       "      <th>Precipitation amount</th>\n",
       "      <th>Moon Phase calculator</th>\n",
       "      <th>query</th>\n",
       "    </tr>\n",
       "  </thead>\n",
       "  <tbody>\n",
       "    <tr>\n",
       "      <th>8</th>\n",
       "      <td>2022-02-12 16:00:00</td>\n",
       "      <td>4 °C\\n(4:00 pm CET | Saturday, February 12, 2022)</td>\n",
       "      <td>average: 54% (52 to 56%)\\n(4:00 pm CET | Satur...</td>\n",
       "      <td>1 m/s\\n(4:00 pm CET | Saturday, February 12, 2...</td>\n",
       "      <td>no precipitation\\n(4:00 pm CET | Saturday, Feb...</td>\n",
       "      <td>| waxing gibbous moon\\n84.64% illuminated</td>\n",
       "      <td>Moon Phase calculatorFebruary 12, 2022 16h</td>\n",
       "    </tr>\n",
       "    <tr>\n",
       "      <th>9</th>\n",
       "      <td>2022-02-12 17:00:00</td>\n",
       "      <td>2 °C\\n(5:00 pm CET | Saturday, February 12, 2022)</td>\n",
       "      <td>average: 67% (65 to 69%)\\n(5:00 pm CET | Satur...</td>\n",
       "      <td>1 m/s\\n(5:00 pm CET | Saturday, February 12, 2...</td>\n",
       "      <td>no precipitation\\n(5:00 pm CET | Saturday, Feb...</td>\n",
       "      <td>| waxing gibbous moon\\n84.93% illuminated</td>\n",
       "      <td>Moon Phase calculatorFebruary 12, 2022 17h</td>\n",
       "    </tr>\n",
       "  </tbody>\n",
       "</table>\n",
       "</div>"
      ],
      "text/plain": [
       "                 date                                        temperature  \\\n",
       "8 2022-02-12 16:00:00  4 °C\\n(4:00 pm CET | Saturday, February 12, 2022)   \n",
       "9 2022-02-12 17:00:00  2 °C\\n(5:00 pm CET | Saturday, February 12, 2022)   \n",
       "\n",
       "                                            humidity  \\\n",
       "8  average: 54% (52 to 56%)\\n(4:00 pm CET | Satur...   \n",
       "9  average: 67% (65 to 69%)\\n(5:00 pm CET | Satur...   \n",
       "\n",
       "                                          wind speed  \\\n",
       "8  1 m/s\\n(4:00 pm CET | Saturday, February 12, 2...   \n",
       "9  1 m/s\\n(5:00 pm CET | Saturday, February 12, 2...   \n",
       "\n",
       "                                Precipitation amount  \\\n",
       "8  no precipitation\\n(4:00 pm CET | Saturday, Feb...   \n",
       "9  no precipitation\\n(5:00 pm CET | Saturday, Feb...   \n",
       "\n",
       "                       Moon Phase calculator  \\\n",
       "8  | waxing gibbous moon\\n84.64% illuminated   \n",
       "9  | waxing gibbous moon\\n84.93% illuminated   \n",
       "\n",
       "                                        query  \n",
       "8  Moon Phase calculatorFebruary 12, 2022 16h  \n",
       "9  Moon Phase calculatorFebruary 12, 2022 17h  "
      ]
     },
     "metadata": {},
     "output_type": "display_data"
    },
    {
     "name": "stderr",
     "output_type": "stream",
     "text": [
      "\r",
      "  3%|██▎                                                                         | 131/4218 [32:34<16:41:33, 14.70s/it]"
     ]
    },
    {
     "name": "stdout",
     "output_type": "stream",
     "text": [
      "QUERY:  Precipitation amount in Zollikofen February 12, 2022 18h\n",
      "QUERY:  temperature in Zollikofen February 12, 2022 18h\n",
      "QUERY:  humidity in Zollikofen February 12, 2022 18h\n",
      "QUERY:  wind speed in Zollikofen February 12, 2022 18h\n",
      "QUERY:  Moon Phase calculatorFebruary 12, 2022 18h\n"
     ]
    },
    {
     "name": "stderr",
     "output_type": "stream",
     "text": [
      "\r",
      "  3%|██▍                                                                         | 132/4218 [32:49<16:38:50, 14.67s/it]"
     ]
    },
    {
     "name": "stdout",
     "output_type": "stream",
     "text": [
      "QUERY:  Precipitation amount in Zollikofen February 12, 2022 19h\n",
      "QUERY:  temperature in Zollikofen February 12, 2022 19h\n",
      "QUERY:  humidity in Zollikofen February 12, 2022 19h\n",
      "QUERY:  wind speed in Zollikofen February 12, 2022 19h\n",
      "QUERY:  Moon Phase calculatorFebruary 12, 2022 19h\n"
     ]
    },
    {
     "name": "stderr",
     "output_type": "stream",
     "text": [
      "\r",
      "  3%|██▍                                                                         | 133/4218 [33:04<16:38:55, 14.67s/it]"
     ]
    },
    {
     "name": "stdout",
     "output_type": "stream",
     "text": [
      "QUERY:  Precipitation amount in Zollikofen February 12, 2022 20h\n",
      "QUERY:  temperature in Zollikofen February 12, 2022 20h\n",
      "QUERY:  humidity in Zollikofen February 12, 2022 20h\n",
      "QUERY:  wind speed in Zollikofen February 12, 2022 20h\n",
      "QUERY:  Moon Phase calculatorFebruary 12, 2022 20h\n"
     ]
    },
    {
     "name": "stderr",
     "output_type": "stream",
     "text": [
      "\r",
      "  3%|██▍                                                                         | 134/4218 [33:18<16:38:06, 14.66s/it]"
     ]
    },
    {
     "name": "stdout",
     "output_type": "stream",
     "text": [
      "QUERY:  Precipitation amount in Zollikofen February 12, 2022 21h\n",
      "QUERY:  temperature in Zollikofen February 12, 2022 21h\n",
      "QUERY:  humidity in Zollikofen February 12, 2022 21h\n",
      "QUERY:  wind speed in Zollikofen February 12, 2022 21h\n",
      "QUERY:  Moon Phase calculatorFebruary 12, 2022 21h\n"
     ]
    },
    {
     "name": "stderr",
     "output_type": "stream",
     "text": [
      "\r",
      "  3%|██▍                                                                         | 135/4218 [33:32<16:12:26, 14.29s/it]"
     ]
    },
    {
     "name": "stdout",
     "output_type": "stream",
     "text": [
      "QUERY:  Precipitation amount in Zollikofen February 12, 2022 22h\n",
      "QUERY:  temperature in Zollikofen February 12, 2022 22h\n",
      "QUERY:  humidity in Zollikofen February 12, 2022 22h\n",
      "QUERY:  wind speed in Zollikofen February 12, 2022 22h\n",
      "QUERY:  Moon Phase calculatorFebruary 12, 2022 22h\n"
     ]
    },
    {
     "name": "stderr",
     "output_type": "stream",
     "text": [
      "\r",
      "  3%|██▍                                                                         | 136/4218 [33:46<16:20:56, 14.42s/it]"
     ]
    },
    {
     "name": "stdout",
     "output_type": "stream",
     "text": [
      "QUERY:  Precipitation amount in Zollikofen February 12, 2022 23h\n",
      "QUERY:  temperature in Zollikofen February 12, 2022 23h\n",
      "QUERY:  humidity in Zollikofen February 12, 2022 23h\n",
      "QUERY:  wind speed in Zollikofen February 12, 2022 23h\n",
      "QUERY:  Moon Phase calculatorFebruary 12, 2022 23h\n"
     ]
    },
    {
     "name": "stderr",
     "output_type": "stream",
     "text": [
      "\r",
      "  3%|██▍                                                                         | 137/4218 [33:59<15:55:19, 14.05s/it]"
     ]
    },
    {
     "name": "stdout",
     "output_type": "stream",
     "text": [
      "QUERY:  Precipitation amount in Zollikofen February 13, 2022 0h\n",
      "QUERY:  temperature in Zollikofen February 13, 2022 0h\n",
      "QUERY:  humidity in Zollikofen February 13, 2022 0h\n",
      "QUERY:  wind speed in Zollikofen February 13, 2022 0h\n",
      "QUERY:  Moon Phase calculatorFebruary 13, 2022 0h\n"
     ]
    },
    {
     "name": "stderr",
     "output_type": "stream",
     "text": [
      "\r",
      "  3%|██▍                                                                         | 138/4218 [34:13<15:45:50, 13.91s/it]"
     ]
    },
    {
     "name": "stdout",
     "output_type": "stream",
     "text": [
      "QUERY:  Precipitation amount in Zollikofen February 13, 2022 1h\n",
      "QUERY:  temperature in Zollikofen February 13, 2022 1h\n",
      "QUERY:  humidity in Zollikofen February 13, 2022 1h\n",
      "QUERY:  wind speed in Zollikofen February 13, 2022 1h\n",
      "QUERY:  Moon Phase calculatorFebruary 13, 2022 1h\n"
     ]
    },
    {
     "name": "stderr",
     "output_type": "stream",
     "text": [
      "\r",
      "  3%|██▌                                                                         | 139/4218 [34:26<15:29:42, 13.68s/it]"
     ]
    },
    {
     "name": "stdout",
     "output_type": "stream",
     "text": [
      "QUERY:  Precipitation amount in Zollikofen February 13, 2022 2h\n",
      "QUERY:  temperature in Zollikofen February 13, 2022 2h\n",
      "QUERY:  humidity in Zollikofen February 13, 2022 2h\n",
      "QUERY:  wind speed in Zollikofen February 13, 2022 2h\n",
      "QUERY:  Moon Phase calculatorFebruary 13, 2022 2h\n"
     ]
    },
    {
     "name": "stderr",
     "output_type": "stream",
     "text": [
      "\r",
      "  3%|██▌                                                                         | 140/4218 [34:39<15:20:49, 13.55s/it]"
     ]
    },
    {
     "name": "stdout",
     "output_type": "stream",
     "text": [
      "QUERY:  Precipitation amount in Zollikofen February 13, 2022 3h\n",
      "QUERY:  temperature in Zollikofen February 13, 2022 3h\n",
      "QUERY:  humidity in Zollikofen February 13, 2022 3h\n",
      "QUERY:  wind speed in Zollikofen February 13, 2022 3h\n",
      "QUERY:  Moon Phase calculatorFebruary 13, 2022 3h\n",
      "(3244, 7)\n"
     ]
    },
    {
     "data": {
      "text/html": [
       "<div>\n",
       "<style scoped>\n",
       "    .dataframe tbody tr th:only-of-type {\n",
       "        vertical-align: middle;\n",
       "    }\n",
       "\n",
       "    .dataframe tbody tr th {\n",
       "        vertical-align: top;\n",
       "    }\n",
       "\n",
       "    .dataframe thead th {\n",
       "        text-align: right;\n",
       "    }\n",
       "</style>\n",
       "<table border=\"1\" class=\"dataframe\">\n",
       "  <thead>\n",
       "    <tr style=\"text-align: right;\">\n",
       "      <th></th>\n",
       "      <th>date</th>\n",
       "      <th>temperature</th>\n",
       "      <th>humidity</th>\n",
       "      <th>wind speed</th>\n",
       "      <th>Precipitation amount</th>\n",
       "      <th>Moon Phase calculator</th>\n",
       "      <th>query</th>\n",
       "    </tr>\n",
       "  </thead>\n",
       "  <tbody>\n",
       "    <tr>\n",
       "      <th>8</th>\n",
       "      <td>2022-02-13 02:00:00</td>\n",
       "      <td>-2 °C\\n(2:00 am CET | Sunday, February 13, 2022)</td>\n",
       "      <td>average: 93% (93%)\\n(2:00 am CET | Sunday, Feb...</td>\n",
       "      <td>1 m/s\\n(2:00 am CET | Sunday, February 13, 2022)</td>\n",
       "      <td>no precipitation\\n(2:00 am CET | Sunday, Febru...</td>\n",
       "      <td>| waxing gibbous moon\\n87.37% illuminated</td>\n",
       "      <td>Moon Phase calculatorFebruary 13, 2022 2h</td>\n",
       "    </tr>\n",
       "    <tr>\n",
       "      <th>9</th>\n",
       "      <td>2022-02-13 03:00:00</td>\n",
       "      <td>-3 °C\\n(3:00 am CET | Sunday, February 13, 2022)</td>\n",
       "      <td>average: 93% (93%)\\n(3:00 am CET | Sunday, Feb...</td>\n",
       "      <td>1 m/s\\n(3:00 am CET | Sunday, February 13, 2022)</td>\n",
       "      <td>no precipitation\\n(3:00 am CET | Sunday, Febru...</td>\n",
       "      <td>| waxing gibbous moon\\n87.63% illuminated</td>\n",
       "      <td>Moon Phase calculatorFebruary 13, 2022 3h</td>\n",
       "    </tr>\n",
       "  </tbody>\n",
       "</table>\n",
       "</div>"
      ],
      "text/plain": [
       "                 date                                       temperature  \\\n",
       "8 2022-02-13 02:00:00  -2 °C\\n(2:00 am CET | Sunday, February 13, 2022)   \n",
       "9 2022-02-13 03:00:00  -3 °C\\n(3:00 am CET | Sunday, February 13, 2022)   \n",
       "\n",
       "                                            humidity  \\\n",
       "8  average: 93% (93%)\\n(2:00 am CET | Sunday, Feb...   \n",
       "9  average: 93% (93%)\\n(3:00 am CET | Sunday, Feb...   \n",
       "\n",
       "                                         wind speed  \\\n",
       "8  1 m/s\\n(2:00 am CET | Sunday, February 13, 2022)   \n",
       "9  1 m/s\\n(3:00 am CET | Sunday, February 13, 2022)   \n",
       "\n",
       "                                Precipitation amount  \\\n",
       "8  no precipitation\\n(2:00 am CET | Sunday, Febru...   \n",
       "9  no precipitation\\n(3:00 am CET | Sunday, Febru...   \n",
       "\n",
       "                       Moon Phase calculator  \\\n",
       "8  | waxing gibbous moon\\n87.37% illuminated   \n",
       "9  | waxing gibbous moon\\n87.63% illuminated   \n",
       "\n",
       "                                       query  \n",
       "8  Moon Phase calculatorFebruary 13, 2022 2h  \n",
       "9  Moon Phase calculatorFebruary 13, 2022 3h  "
      ]
     },
     "metadata": {},
     "output_type": "display_data"
    },
    {
     "name": "stderr",
     "output_type": "stream",
     "text": [
      "\r",
      "  3%|██▌                                                                         | 141/4218 [34:55<16:01:51, 14.16s/it]"
     ]
    },
    {
     "name": "stdout",
     "output_type": "stream",
     "text": [
      "QUERY:  Precipitation amount in Zollikofen February 13, 2022 4h\n",
      "QUERY:  temperature in Zollikofen February 13, 2022 4h\n",
      "QUERY:  humidity in Zollikofen February 13, 2022 4h\n",
      "QUERY:  wind speed in Zollikofen February 13, 2022 4h\n",
      "QUERY:  Moon Phase calculatorFebruary 13, 2022 4h\n"
     ]
    },
    {
     "name": "stderr",
     "output_type": "stream",
     "text": [
      "\r",
      "  3%|██▌                                                                         | 142/4218 [35:10<16:24:27, 14.49s/it]"
     ]
    },
    {
     "name": "stdout",
     "output_type": "stream",
     "text": [
      "QUERY:  Precipitation amount in Zollikofen February 13, 2022 5h\n",
      "QUERY:  temperature in Zollikofen February 13, 2022 5h\n",
      "QUERY:  humidity in Zollikofen February 13, 2022 5h\n",
      "QUERY:  wind speed in Zollikofen February 13, 2022 5h\n",
      "QUERY:  Moon Phase calculatorFebruary 13, 2022 5h\n"
     ]
    },
    {
     "name": "stderr",
     "output_type": "stream",
     "text": [
      "\r",
      "  3%|██▌                                                                         | 143/4218 [35:24<16:04:20, 14.20s/it]"
     ]
    },
    {
     "name": "stdout",
     "output_type": "stream",
     "text": [
      "QUERY:  Precipitation amount in Zollikofen February 13, 2022 6h\n",
      "QUERY:  temperature in Zollikofen February 13, 2022 6h\n",
      "QUERY:  humidity in Zollikofen February 13, 2022 6h\n",
      "QUERY:  wind speed in Zollikofen February 13, 2022 6h\n",
      "QUERY:  Moon Phase calculatorFebruary 13, 2022 6h\n"
     ]
    },
    {
     "name": "stderr",
     "output_type": "stream",
     "text": [
      "\r",
      "  3%|██▌                                                                         | 144/4218 [35:37<15:38:43, 13.83s/it]"
     ]
    },
    {
     "name": "stdout",
     "output_type": "stream",
     "text": [
      "QUERY:  Precipitation amount in Zollikofen February 13, 2022 7h\n",
      "QUERY:  temperature in Zollikofen February 13, 2022 7h\n",
      "QUERY:  humidity in Zollikofen February 13, 2022 7h\n",
      "QUERY:  wind speed in Zollikofen February 13, 2022 7h\n",
      "QUERY:  Moon Phase calculatorFebruary 13, 2022 7h\n"
     ]
    },
    {
     "name": "stderr",
     "output_type": "stream",
     "text": [
      "\r",
      "  3%|██▌                                                                         | 145/4218 [35:50<15:35:52, 13.79s/it]"
     ]
    },
    {
     "name": "stdout",
     "output_type": "stream",
     "text": [
      "QUERY:  Precipitation amount in Zollikofen February 13, 2022 8h\n",
      "QUERY:  temperature in Zollikofen February 13, 2022 8h\n",
      "QUERY:  humidity in Zollikofen February 13, 2022 8h\n",
      "QUERY:  wind speed in Zollikofen February 13, 2022 8h\n",
      "QUERY:  Moon Phase calculatorFebruary 13, 2022 8h\n"
     ]
    },
    {
     "name": "stderr",
     "output_type": "stream",
     "text": [
      "\r",
      "  3%|██▋                                                                         | 146/4218 [36:04<15:39:24, 13.84s/it]"
     ]
    },
    {
     "name": "stdout",
     "output_type": "stream",
     "text": [
      "QUERY:  Precipitation amount in Zollikofen February 13, 2022 9h\n",
      "QUERY:  temperature in Zollikofen February 13, 2022 9h\n",
      "QUERY:  humidity in Zollikofen February 13, 2022 9h\n",
      "QUERY:  wind speed in Zollikofen February 13, 2022 9h\n",
      "QUERY:  Moon Phase calculatorFebruary 13, 2022 9h\n"
     ]
    },
    {
     "name": "stderr",
     "output_type": "stream",
     "text": [
      "\r",
      "  3%|██▋                                                                         | 147/4218 [36:18<15:26:04, 13.65s/it]"
     ]
    },
    {
     "name": "stdout",
     "output_type": "stream",
     "text": [
      "QUERY:  Precipitation amount in Zollikofen February 13, 2022 10h\n",
      "QUERY:  temperature in Zollikofen February 13, 2022 10h\n",
      "QUERY:  humidity in Zollikofen February 13, 2022 10h\n",
      "QUERY:  wind speed in Zollikofen February 13, 2022 10h\n",
      "QUERY:  Moon Phase calculatorFebruary 13, 2022 10h\n"
     ]
    },
    {
     "name": "stderr",
     "output_type": "stream",
     "text": [
      "\r",
      "  4%|██▋                                                                         | 148/4218 [36:31<15:20:54, 13.58s/it]"
     ]
    },
    {
     "name": "stdout",
     "output_type": "stream",
     "text": [
      "QUERY:  Precipitation amount in Zollikofen February 13, 2022 11h\n",
      "QUERY:  temperature in Zollikofen February 13, 2022 11h\n",
      "QUERY:  humidity in Zollikofen February 13, 2022 11h\n",
      "QUERY:  wind speed in Zollikofen February 13, 2022 11h\n",
      "QUERY:  Moon Phase calculatorFebruary 13, 2022 11h\n"
     ]
    },
    {
     "name": "stderr",
     "output_type": "stream",
     "text": [
      "\r",
      "  4%|██▋                                                                         | 149/4218 [36:44<15:18:05, 13.54s/it]"
     ]
    },
    {
     "name": "stdout",
     "output_type": "stream",
     "text": [
      "QUERY:  Precipitation amount in Zollikofen February 13, 2022 12h\n",
      "QUERY:  temperature in Zollikofen February 13, 2022 12h\n",
      "QUERY:  humidity in Zollikofen February 13, 2022 12h\n",
      "QUERY:  wind speed in Zollikofen February 13, 2022 12h\n",
      "QUERY:  Moon Phase calculatorFebruary 13, 2022 12h\n"
     ]
    },
    {
     "name": "stderr",
     "output_type": "stream",
     "text": [
      "\r",
      "  4%|██▋                                                                         | 150/4218 [36:58<15:23:19, 13.62s/it]"
     ]
    },
    {
     "name": "stdout",
     "output_type": "stream",
     "text": [
      "QUERY:  Precipitation amount in Zollikofen February 13, 2022 13h\n",
      "QUERY:  temperature in Zollikofen February 13, 2022 13h\n",
      "QUERY:  humidity in Zollikofen February 13, 2022 13h\n",
      "QUERY:  wind speed in Zollikofen February 13, 2022 13h\n",
      "QUERY:  Moon Phase calculatorFebruary 13, 2022 13h\n",
      "(3254, 7)\n"
     ]
    },
    {
     "data": {
      "text/html": [
       "<div>\n",
       "<style scoped>\n",
       "    .dataframe tbody tr th:only-of-type {\n",
       "        vertical-align: middle;\n",
       "    }\n",
       "\n",
       "    .dataframe tbody tr th {\n",
       "        vertical-align: top;\n",
       "    }\n",
       "\n",
       "    .dataframe thead th {\n",
       "        text-align: right;\n",
       "    }\n",
       "</style>\n",
       "<table border=\"1\" class=\"dataframe\">\n",
       "  <thead>\n",
       "    <tr style=\"text-align: right;\">\n",
       "      <th></th>\n",
       "      <th>date</th>\n",
       "      <th>temperature</th>\n",
       "      <th>humidity</th>\n",
       "      <th>wind speed</th>\n",
       "      <th>Precipitation amount</th>\n",
       "      <th>Moon Phase calculator</th>\n",
       "      <th>query</th>\n",
       "    </tr>\n",
       "  </thead>\n",
       "  <tbody>\n",
       "    <tr>\n",
       "      <th>8</th>\n",
       "      <td>2022-02-13 12:00:00</td>\n",
       "      <td>6 °C\\n(12:00 pm CET | Sunday, February 13, 2022)</td>\n",
       "      <td>average: 45% (45%)\\n(12:00 pm CET | Sunday, Fe...</td>\n",
       "      <td>1 m/s\\n(12:00 pm CET | Sunday, February 13, 2022)</td>\n",
       "      <td>no precipitation\\n(12:00 pm CET | Sunday, Febr...</td>\n",
       "      <td>| waxing gibbous moon\\n89.88% illuminated</td>\n",
       "      <td>Moon Phase calculatorFebruary 13, 2022 12h</td>\n",
       "    </tr>\n",
       "    <tr>\n",
       "      <th>9</th>\n",
       "      <td>2022-02-13 13:00:00</td>\n",
       "      <td>7 °C\\n(1:00 pm CET | Sunday, February 13, 2022)</td>\n",
       "      <td>average: 43% (43%)\\n(1:00 pm CET | Sunday, Feb...</td>\n",
       "      <td>2 m/s\\n(1:00 pm CET | Sunday, February 13, 2022)</td>\n",
       "      <td>no precipitation\\n(1:00 pm CET | Sunday, Febru...</td>\n",
       "      <td>| waxing gibbous moon\\n90.12% illuminated</td>\n",
       "      <td>Moon Phase calculatorFebruary 13, 2022 13h</td>\n",
       "    </tr>\n",
       "  </tbody>\n",
       "</table>\n",
       "</div>"
      ],
      "text/plain": [
       "                 date                                       temperature  \\\n",
       "8 2022-02-13 12:00:00  6 °C\\n(12:00 pm CET | Sunday, February 13, 2022)   \n",
       "9 2022-02-13 13:00:00   7 °C\\n(1:00 pm CET | Sunday, February 13, 2022)   \n",
       "\n",
       "                                            humidity  \\\n",
       "8  average: 45% (45%)\\n(12:00 pm CET | Sunday, Fe...   \n",
       "9  average: 43% (43%)\\n(1:00 pm CET | Sunday, Feb...   \n",
       "\n",
       "                                          wind speed  \\\n",
       "8  1 m/s\\n(12:00 pm CET | Sunday, February 13, 2022)   \n",
       "9   2 m/s\\n(1:00 pm CET | Sunday, February 13, 2022)   \n",
       "\n",
       "                                Precipitation amount  \\\n",
       "8  no precipitation\\n(12:00 pm CET | Sunday, Febr...   \n",
       "9  no precipitation\\n(1:00 pm CET | Sunday, Febru...   \n",
       "\n",
       "                       Moon Phase calculator  \\\n",
       "8  | waxing gibbous moon\\n89.88% illuminated   \n",
       "9  | waxing gibbous moon\\n90.12% illuminated   \n",
       "\n",
       "                                        query  \n",
       "8  Moon Phase calculatorFebruary 13, 2022 12h  \n",
       "9  Moon Phase calculatorFebruary 13, 2022 13h  "
      ]
     },
     "metadata": {},
     "output_type": "display_data"
    },
    {
     "name": "stderr",
     "output_type": "stream",
     "text": [
      "\r",
      "  4%|██▋                                                                         | 151/4218 [37:14<16:06:51, 14.26s/it]"
     ]
    },
    {
     "name": "stdout",
     "output_type": "stream",
     "text": [
      "QUERY:  Precipitation amount in Zollikofen February 13, 2022 14h\n",
      "QUERY:  temperature in Zollikofen February 13, 2022 14h\n",
      "QUERY:  humidity in Zollikofen February 13, 2022 14h\n",
      "QUERY:  wind speed in Zollikofen February 13, 2022 14h\n",
      "QUERY:  Moon Phase calculatorFebruary 13, 2022 14h\n"
     ]
    },
    {
     "name": "stderr",
     "output_type": "stream",
     "text": [
      "\r",
      "  4%|██▋                                                                         | 152/4218 [37:28<16:04:34, 14.23s/it]"
     ]
    },
    {
     "name": "stdout",
     "output_type": "stream",
     "text": [
      "QUERY:  Precipitation amount in Zollikofen February 13, 2022 15h\n",
      "QUERY:  temperature in Zollikofen February 13, 2022 15h\n",
      "QUERY:  humidity in Zollikofen February 13, 2022 15h\n",
      "QUERY:  wind speed in Zollikofen February 13, 2022 15h\n",
      "QUERY:  Moon Phase calculatorFebruary 13, 2022 15h\n"
     ]
    },
    {
     "name": "stderr",
     "output_type": "stream",
     "text": [
      "\r",
      "  4%|██▊                                                                         | 153/4218 [37:41<15:38:53, 13.86s/it]"
     ]
    },
    {
     "name": "stdout",
     "output_type": "stream",
     "text": [
      "QUERY:  Precipitation amount in Zollikofen February 13, 2022 16h\n",
      "QUERY:  temperature in Zollikofen February 13, 2022 16h\n",
      "QUERY:  humidity in Zollikofen February 13, 2022 16h\n",
      "QUERY:  wind speed in Zollikofen February 13, 2022 16h\n",
      "QUERY:  Moon Phase calculatorFebruary 13, 2022 16h\n"
     ]
    },
    {
     "name": "stderr",
     "output_type": "stream",
     "text": [
      "\r",
      "  4%|██▊                                                                         | 154/4218 [37:57<16:15:33, 14.40s/it]"
     ]
    },
    {
     "name": "stdout",
     "output_type": "stream",
     "text": [
      "QUERY:  Precipitation amount in Zollikofen February 13, 2022 17h\n",
      "QUERY:  temperature in Zollikofen February 13, 2022 17h\n",
      "QUERY:  humidity in Zollikofen February 13, 2022 17h\n",
      "QUERY:  wind speed in Zollikofen February 13, 2022 17h\n",
      "QUERY:  Moon Phase calculatorFebruary 13, 2022 17h\n"
     ]
    },
    {
     "name": "stderr",
     "output_type": "stream",
     "text": [
      "\r",
      "  4%|██▊                                                                         | 155/4218 [38:10<15:47:30, 13.99s/it]"
     ]
    },
    {
     "name": "stdout",
     "output_type": "stream",
     "text": [
      "QUERY:  Precipitation amount in Zollikofen February 13, 2022 18h\n",
      "QUERY:  temperature in Zollikofen February 13, 2022 18h\n",
      "QUERY:  humidity in Zollikofen February 13, 2022 18h\n",
      "QUERY:  wind speed in Zollikofen February 13, 2022 18h\n",
      "QUERY:  Moon Phase calculatorFebruary 13, 2022 18h\n"
     ]
    },
    {
     "name": "stderr",
     "output_type": "stream",
     "text": [
      "\r",
      "  4%|██▊                                                                         | 156/4218 [38:23<15:28:56, 13.72s/it]"
     ]
    },
    {
     "name": "stdout",
     "output_type": "stream",
     "text": [
      "QUERY:  Precipitation amount in Zollikofen February 13, 2022 19h\n",
      "QUERY:  temperature in Zollikofen February 13, 2022 19h\n",
      "QUERY:  humidity in Zollikofen February 13, 2022 19h\n",
      "QUERY:  wind speed in Zollikofen February 13, 2022 19h\n",
      "QUERY:  Moon Phase calculatorFebruary 13, 2022 19h\n"
     ]
    },
    {
     "name": "stderr",
     "output_type": "stream",
     "text": [
      "\r",
      "  4%|██▊                                                                         | 157/4218 [38:36<15:23:07, 13.64s/it]"
     ]
    },
    {
     "name": "stdout",
     "output_type": "stream",
     "text": [
      "QUERY:  Precipitation amount in Zollikofen February 13, 2022 20h\n",
      "QUERY:  temperature in Zollikofen February 13, 2022 20h\n",
      "QUERY:  humidity in Zollikofen February 13, 2022 20h\n",
      "QUERY:  wind speed in Zollikofen February 13, 2022 20h\n",
      "QUERY:  Moon Phase calculatorFebruary 13, 2022 20h\n"
     ]
    },
    {
     "name": "stderr",
     "output_type": "stream",
     "text": [
      "\r",
      "  4%|██▊                                                                         | 158/4218 [38:50<15:20:48, 13.61s/it]"
     ]
    },
    {
     "name": "stdout",
     "output_type": "stream",
     "text": [
      "QUERY:  Precipitation amount in Zollikofen February 13, 2022 21h\n",
      "QUERY:  temperature in Zollikofen February 13, 2022 21h\n",
      "QUERY:  humidity in Zollikofen February 13, 2022 21h\n",
      "QUERY:  wind speed in Zollikofen February 13, 2022 21h\n",
      "QUERY:  Moon Phase calculatorFebruary 13, 2022 21h\n"
     ]
    },
    {
     "name": "stderr",
     "output_type": "stream",
     "text": [
      "\r",
      "  4%|██▊                                                                         | 159/4218 [39:05<15:45:37, 13.98s/it]"
     ]
    },
    {
     "name": "stdout",
     "output_type": "stream",
     "text": [
      "QUERY:  Precipitation amount in Zollikofen February 13, 2022 22h\n",
      "QUERY:  temperature in Zollikofen February 13, 2022 22h\n",
      "QUERY:  humidity in Zollikofen February 13, 2022 22h\n",
      "QUERY:  wind speed in Zollikofen February 13, 2022 22h\n",
      "QUERY:  Moon Phase calculatorFebruary 13, 2022 22h\n"
     ]
    },
    {
     "name": "stderr",
     "output_type": "stream",
     "text": [
      "\r",
      "  4%|██▉                                                                         | 160/4218 [39:18<15:38:26, 13.88s/it]"
     ]
    },
    {
     "name": "stdout",
     "output_type": "stream",
     "text": [
      "QUERY:  Precipitation amount in Zollikofen February 13, 2022 23h\n",
      "QUERY:  temperature in Zollikofen February 13, 2022 23h\n",
      "QUERY:  humidity in Zollikofen February 13, 2022 23h\n",
      "QUERY:  wind speed in Zollikofen February 13, 2022 23h\n",
      "QUERY:  Moon Phase calculatorFebruary 13, 2022 23h\n",
      "(3264, 7)\n"
     ]
    },
    {
     "data": {
      "text/html": [
       "<div>\n",
       "<style scoped>\n",
       "    .dataframe tbody tr th:only-of-type {\n",
       "        vertical-align: middle;\n",
       "    }\n",
       "\n",
       "    .dataframe tbody tr th {\n",
       "        vertical-align: top;\n",
       "    }\n",
       "\n",
       "    .dataframe thead th {\n",
       "        text-align: right;\n",
       "    }\n",
       "</style>\n",
       "<table border=\"1\" class=\"dataframe\">\n",
       "  <thead>\n",
       "    <tr style=\"text-align: right;\">\n",
       "      <th></th>\n",
       "      <th>date</th>\n",
       "      <th>temperature</th>\n",
       "      <th>humidity</th>\n",
       "      <th>wind speed</th>\n",
       "      <th>Precipitation amount</th>\n",
       "      <th>Moon Phase calculator</th>\n",
       "      <th>query</th>\n",
       "    </tr>\n",
       "  </thead>\n",
       "  <tbody>\n",
       "    <tr>\n",
       "      <th>8</th>\n",
       "      <td>2022-02-13 22:00:00</td>\n",
       "      <td>3 °C\\n(10:00 pm CET | Sunday, February 13, 2022)</td>\n",
       "      <td>average: 86% (86%)\\n(10:00 pm CET | Sunday, Fe...</td>\n",
       "      <td>2 m/s\\n(10:00 pm CET | Sunday, February 13, 2022)</td>\n",
       "      <td>no precipitation\\n(10:00 pm CET | Sunday, Febr...</td>\n",
       "      <td>| waxing gibbous moon\\n92.15% illuminated</td>\n",
       "      <td>Moon Phase calculatorFebruary 13, 2022 22h</td>\n",
       "    </tr>\n",
       "    <tr>\n",
       "      <th>9</th>\n",
       "      <td>2022-02-13 23:00:00</td>\n",
       "      <td>3 °C\\n(11:00 pm CET | Sunday, February 13, 2022)</td>\n",
       "      <td>average: 86% (86%)\\n(11:00 pm CET | Sunday, Fe...</td>\n",
       "      <td>3 m/s\\n(11:00 pm CET | Sunday, February 13, 2022)</td>\n",
       "      <td>no precipitation\\n(11:00 pm CET | Sunday, Febr...</td>\n",
       "      <td>| waxing gibbous moon\\n92.36% illuminated</td>\n",
       "      <td>Moon Phase calculatorFebruary 13, 2022 23h</td>\n",
       "    </tr>\n",
       "  </tbody>\n",
       "</table>\n",
       "</div>"
      ],
      "text/plain": [
       "                 date                                       temperature  \\\n",
       "8 2022-02-13 22:00:00  3 °C\\n(10:00 pm CET | Sunday, February 13, 2022)   \n",
       "9 2022-02-13 23:00:00  3 °C\\n(11:00 pm CET | Sunday, February 13, 2022)   \n",
       "\n",
       "                                            humidity  \\\n",
       "8  average: 86% (86%)\\n(10:00 pm CET | Sunday, Fe...   \n",
       "9  average: 86% (86%)\\n(11:00 pm CET | Sunday, Fe...   \n",
       "\n",
       "                                          wind speed  \\\n",
       "8  2 m/s\\n(10:00 pm CET | Sunday, February 13, 2022)   \n",
       "9  3 m/s\\n(11:00 pm CET | Sunday, February 13, 2022)   \n",
       "\n",
       "                                Precipitation amount  \\\n",
       "8  no precipitation\\n(10:00 pm CET | Sunday, Febr...   \n",
       "9  no precipitation\\n(11:00 pm CET | Sunday, Febr...   \n",
       "\n",
       "                       Moon Phase calculator  \\\n",
       "8  | waxing gibbous moon\\n92.15% illuminated   \n",
       "9  | waxing gibbous moon\\n92.36% illuminated   \n",
       "\n",
       "                                        query  \n",
       "8  Moon Phase calculatorFebruary 13, 2022 22h  \n",
       "9  Moon Phase calculatorFebruary 13, 2022 23h  "
      ]
     },
     "metadata": {},
     "output_type": "display_data"
    },
    {
     "name": "stderr",
     "output_type": "stream",
     "text": [
      "\r",
      "  4%|██▉                                                                         | 161/4218 [39:32<15:31:29, 13.78s/it]"
     ]
    },
    {
     "name": "stdout",
     "output_type": "stream",
     "text": [
      "QUERY:  Precipitation amount in Zollikofen February 14, 2022 0h\n",
      "QUERY:  temperature in Zollikofen February 14, 2022 0h\n",
      "QUERY:  humidity in Zollikofen February 14, 2022 0h\n",
      "QUERY:  wind speed in Zollikofen February 14, 2022 0h\n",
      "QUERY:  Moon Phase calculatorFebruary 14, 2022 0h\n"
     ]
    },
    {
     "name": "stderr",
     "output_type": "stream",
     "text": [
      "\r",
      "  4%|██▉                                                                         | 162/4218 [39:45<15:18:02, 13.58s/it]"
     ]
    },
    {
     "name": "stdout",
     "output_type": "stream",
     "text": [
      "QUERY:  Precipitation amount in Zollikofen February 14, 2022 1h\n",
      "QUERY:  temperature in Zollikofen February 14, 2022 1h\n",
      "QUERY:  humidity in Zollikofen February 14, 2022 1h\n",
      "QUERY:  wind speed in Zollikofen February 14, 2022 1h\n",
      "QUERY:  Moon Phase calculatorFebruary 14, 2022 1h\n"
     ]
    },
    {
     "name": "stderr",
     "output_type": "stream",
     "text": [
      "\r",
      "  4%|██▉                                                                         | 163/4218 [40:00<15:41:38, 13.93s/it]"
     ]
    },
    {
     "name": "stdout",
     "output_type": "stream",
     "text": [
      "QUERY:  Precipitation amount in Zollikofen February 14, 2022 2h\n",
      "QUERY:  temperature in Zollikofen February 14, 2022 2h\n",
      "QUERY:  humidity in Zollikofen February 14, 2022 2h\n",
      "QUERY:  wind speed in Zollikofen February 14, 2022 2h\n",
      "QUERY:  Moon Phase calculatorFebruary 14, 2022 2h\n"
     ]
    },
    {
     "name": "stderr",
     "output_type": "stream",
     "text": [
      "\r",
      "  4%|██▉                                                                         | 164/4218 [40:14<15:49:48, 14.06s/it]"
     ]
    },
    {
     "name": "stdout",
     "output_type": "stream",
     "text": [
      "QUERY:  Precipitation amount in Zollikofen February 14, 2022 3h\n",
      "QUERY:  temperature in Zollikofen February 14, 2022 3h\n",
      "QUERY:  humidity in Zollikofen February 14, 2022 3h\n",
      "QUERY:  wind speed in Zollikofen February 14, 2022 3h\n",
      "QUERY:  Moon Phase calculatorFebruary 14, 2022 3h\n"
     ]
    },
    {
     "name": "stderr",
     "output_type": "stream",
     "text": [
      "\r",
      "  4%|██▉                                                                         | 165/4218 [40:28<15:35:54, 13.85s/it]"
     ]
    },
    {
     "name": "stdout",
     "output_type": "stream",
     "text": [
      "QUERY:  Precipitation amount in Zollikofen February 14, 2022 4h\n",
      "QUERY:  temperature in Zollikofen February 14, 2022 4h\n",
      "QUERY:  humidity in Zollikofen February 14, 2022 4h\n",
      "QUERY:  wind speed in Zollikofen February 14, 2022 4h\n",
      "QUERY:  Moon Phase calculatorFebruary 14, 2022 4h\n"
     ]
    },
    {
     "name": "stderr",
     "output_type": "stream",
     "text": [
      "\r",
      "  4%|██▉                                                                         | 166/4218 [40:41<15:20:41, 13.63s/it]"
     ]
    },
    {
     "name": "stdout",
     "output_type": "stream",
     "text": [
      "QUERY:  Precipitation amount in Zollikofen February 14, 2022 5h\n",
      "QUERY:  temperature in Zollikofen February 14, 2022 5h\n",
      "QUERY:  humidity in Zollikofen February 14, 2022 5h\n",
      "QUERY:  wind speed in Zollikofen February 14, 2022 5h\n",
      "QUERY:  Moon Phase calculatorFebruary 14, 2022 5h\n"
     ]
    },
    {
     "name": "stderr",
     "output_type": "stream",
     "text": [
      "\r",
      "  4%|███                                                                         | 167/4218 [40:54<15:11:50, 13.51s/it]"
     ]
    },
    {
     "name": "stdout",
     "output_type": "stream",
     "text": [
      "QUERY:  Precipitation amount in Zollikofen February 14, 2022 6h\n",
      "QUERY:  temperature in Zollikofen February 14, 2022 6h\n",
      "QUERY:  humidity in Zollikofen February 14, 2022 6h\n",
      "QUERY:  wind speed in Zollikofen February 14, 2022 6h\n",
      "QUERY:  Moon Phase calculatorFebruary 14, 2022 6h\n"
     ]
    },
    {
     "name": "stderr",
     "output_type": "stream",
     "text": [
      "\r",
      "  4%|███                                                                         | 168/4218 [41:11<16:27:30, 14.63s/it]"
     ]
    },
    {
     "name": "stdout",
     "output_type": "stream",
     "text": [
      "QUERY:  Precipitation amount in Zollikofen February 14, 2022 7h\n",
      "QUERY:  temperature in Zollikofen February 14, 2022 7h\n",
      "QUERY:  humidity in Zollikofen February 14, 2022 7h\n",
      "QUERY:  wind speed in Zollikofen February 14, 2022 7h\n",
      "QUERY:  Moon Phase calculatorFebruary 14, 2022 7h\n"
     ]
    },
    {
     "name": "stderr",
     "output_type": "stream",
     "text": [
      "\r",
      "  4%|███                                                                         | 169/4218 [41:25<16:08:22, 14.35s/it]"
     ]
    },
    {
     "name": "stdout",
     "output_type": "stream",
     "text": [
      "QUERY:  Precipitation amount in Zollikofen February 14, 2022 8h\n",
      "QUERY:  temperature in Zollikofen February 14, 2022 8h\n",
      "QUERY:  humidity in Zollikofen February 14, 2022 8h\n",
      "QUERY:  wind speed in Zollikofen February 14, 2022 8h\n",
      "QUERY:  Moon Phase calculatorFebruary 14, 2022 8h\n"
     ]
    },
    {
     "name": "stderr",
     "output_type": "stream",
     "text": [
      "\r",
      "  4%|███                                                                         | 170/4218 [41:38<15:38:37, 13.91s/it]"
     ]
    },
    {
     "name": "stdout",
     "output_type": "stream",
     "text": [
      "QUERY:  Precipitation amount in Zollikofen February 14, 2022 9h\n",
      "QUERY:  temperature in Zollikofen February 14, 2022 9h\n",
      "QUERY:  humidity in Zollikofen February 14, 2022 9h\n",
      "QUERY:  wind speed in Zollikofen February 14, 2022 9h\n",
      "QUERY:  Moon Phase calculatorFebruary 14, 2022 9h\n",
      "(3274, 7)\n"
     ]
    },
    {
     "data": {
      "text/html": [
       "<div>\n",
       "<style scoped>\n",
       "    .dataframe tbody tr th:only-of-type {\n",
       "        vertical-align: middle;\n",
       "    }\n",
       "\n",
       "    .dataframe tbody tr th {\n",
       "        vertical-align: top;\n",
       "    }\n",
       "\n",
       "    .dataframe thead th {\n",
       "        text-align: right;\n",
       "    }\n",
       "</style>\n",
       "<table border=\"1\" class=\"dataframe\">\n",
       "  <thead>\n",
       "    <tr style=\"text-align: right;\">\n",
       "      <th></th>\n",
       "      <th>date</th>\n",
       "      <th>temperature</th>\n",
       "      <th>humidity</th>\n",
       "      <th>wind speed</th>\n",
       "      <th>Precipitation amount</th>\n",
       "      <th>Moon Phase calculator</th>\n",
       "      <th>query</th>\n",
       "    </tr>\n",
       "  </thead>\n",
       "  <tbody>\n",
       "    <tr>\n",
       "      <th>8</th>\n",
       "      <td>2022-02-14 08:00:00</td>\n",
       "      <td>-1 °C\\n(8:00 am CET | Monday, February 14, 2022)</td>\n",
       "      <td>average: 90% (86 to 93%)\\n(8:00 am CET | Monda...</td>\n",
       "      <td>1 m/s\\n(8:00 am CET | Monday, February 14, 2022)</td>\n",
       "      <td>no precipitation\\n(8:00 am CET | Monday, Febru...</td>\n",
       "      <td>| waxing gibbous moon\\n94.15% illuminated</td>\n",
       "      <td>Moon Phase calculatorFebruary 14, 2022 8h</td>\n",
       "    </tr>\n",
       "    <tr>\n",
       "      <th>9</th>\n",
       "      <td>2022-02-14 09:00:00</td>\n",
       "      <td>1 °C\\n(9:00 am CET | Monday, February 14, 2022)</td>\n",
       "      <td>average: 77% (74 to 80%)\\n(9:00 am CET | Monda...</td>\n",
       "      <td>0 m/s\\n(9:00 am CET | Monday, February 14, 2022)</td>\n",
       "      <td>no precipitation\\n(9:00 am CET | Monday, Febru...</td>\n",
       "      <td>| waxing gibbous moon\\n94.34% illuminated</td>\n",
       "      <td>Moon Phase calculatorFebruary 14, 2022 9h</td>\n",
       "    </tr>\n",
       "  </tbody>\n",
       "</table>\n",
       "</div>"
      ],
      "text/plain": [
       "                 date                                       temperature  \\\n",
       "8 2022-02-14 08:00:00  -1 °C\\n(8:00 am CET | Monday, February 14, 2022)   \n",
       "9 2022-02-14 09:00:00   1 °C\\n(9:00 am CET | Monday, February 14, 2022)   \n",
       "\n",
       "                                            humidity  \\\n",
       "8  average: 90% (86 to 93%)\\n(8:00 am CET | Monda...   \n",
       "9  average: 77% (74 to 80%)\\n(9:00 am CET | Monda...   \n",
       "\n",
       "                                         wind speed  \\\n",
       "8  1 m/s\\n(8:00 am CET | Monday, February 14, 2022)   \n",
       "9  0 m/s\\n(9:00 am CET | Monday, February 14, 2022)   \n",
       "\n",
       "                                Precipitation amount  \\\n",
       "8  no precipitation\\n(8:00 am CET | Monday, Febru...   \n",
       "9  no precipitation\\n(9:00 am CET | Monday, Febru...   \n",
       "\n",
       "                       Moon Phase calculator  \\\n",
       "8  | waxing gibbous moon\\n94.15% illuminated   \n",
       "9  | waxing gibbous moon\\n94.34% illuminated   \n",
       "\n",
       "                                       query  \n",
       "8  Moon Phase calculatorFebruary 14, 2022 8h  \n",
       "9  Moon Phase calculatorFebruary 14, 2022 9h  "
      ]
     },
     "metadata": {},
     "output_type": "display_data"
    },
    {
     "name": "stderr",
     "output_type": "stream",
     "text": [
      "\r",
      "  4%|███                                                                         | 171/4218 [41:51<15:24:00, 13.70s/it]"
     ]
    },
    {
     "name": "stdout",
     "output_type": "stream",
     "text": [
      "QUERY:  Precipitation amount in Zollikofen February 14, 2022 10h\n",
      "QUERY:  temperature in Zollikofen February 14, 2022 10h\n",
      "QUERY:  humidity in Zollikofen February 14, 2022 10h\n",
      "QUERY:  wind speed in Zollikofen February 14, 2022 10h\n",
      "QUERY:  Moon Phase calculatorFebruary 14, 2022 10h\n"
     ]
    },
    {
     "name": "stderr",
     "output_type": "stream",
     "text": [
      "\r",
      "  4%|███                                                                         | 172/4218 [42:08<16:26:53, 14.63s/it]"
     ]
    },
    {
     "name": "stdout",
     "output_type": "stream",
     "text": [
      "QUERY:  Precipitation amount in Zollikofen February 14, 2022 11h\n",
      "QUERY:  temperature in Zollikofen February 14, 2022 11h\n",
      "QUERY:  humidity in Zollikofen February 14, 2022 11h\n",
      "QUERY:  wind speed in Zollikofen February 14, 2022 11h\n",
      "QUERY:  Moon Phase calculatorFebruary 14, 2022 11h\n"
     ]
    },
    {
     "name": "stderr",
     "output_type": "stream",
     "text": [
      "\r",
      "  4%|███                                                                         | 173/4218 [42:21<16:00:54, 14.25s/it]"
     ]
    },
    {
     "name": "stdout",
     "output_type": "stream",
     "text": [
      "QUERY:  Precipitation amount in Zollikofen February 14, 2022 12h\n",
      "QUERY:  temperature in Zollikofen February 14, 2022 12h\n",
      "QUERY:  humidity in Zollikofen February 14, 2022 12h\n",
      "QUERY:  wind speed in Zollikofen February 14, 2022 12h\n",
      "QUERY:  Moon Phase calculatorFebruary 14, 2022 12h\n"
     ]
    },
    {
     "name": "stderr",
     "output_type": "stream",
     "text": [
      "\r",
      "  4%|███▏                                                                        | 174/4218 [42:35<15:42:59, 13.99s/it]"
     ]
    },
    {
     "name": "stdout",
     "output_type": "stream",
     "text": [
      "QUERY:  Precipitation amount in Zollikofen February 14, 2022 13h\n",
      "QUERY:  temperature in Zollikofen February 14, 2022 13h\n",
      "QUERY:  humidity in Zollikofen February 14, 2022 13h\n",
      "QUERY:  wind speed in Zollikofen February 14, 2022 13h\n",
      "QUERY:  Moon Phase calculatorFebruary 14, 2022 13h\n"
     ]
    },
    {
     "name": "stderr",
     "output_type": "stream",
     "text": [
      "\r",
      "  4%|███▏                                                                        | 175/4218 [42:48<15:24:32, 13.72s/it]"
     ]
    },
    {
     "name": "stdout",
     "output_type": "stream",
     "text": [
      "QUERY:  Precipitation amount in Zollikofen February 14, 2022 14h\n",
      "QUERY:  temperature in Zollikofen February 14, 2022 14h\n",
      "QUERY:  humidity in Zollikofen February 14, 2022 14h\n",
      "QUERY:  wind speed in Zollikofen February 14, 2022 14h\n",
      "QUERY:  Moon Phase calculatorFebruary 14, 2022 14h\n"
     ]
    },
    {
     "name": "stderr",
     "output_type": "stream",
     "text": [
      "\r",
      "  4%|███▏                                                                        | 176/4218 [43:04<16:10:32, 14.41s/it]"
     ]
    },
    {
     "name": "stdout",
     "output_type": "stream",
     "text": [
      "QUERY:  Precipitation amount in Zollikofen February 14, 2022 15h\n",
      "QUERY:  temperature in Zollikofen February 14, 2022 15h\n",
      "QUERY:  humidity in Zollikofen February 14, 2022 15h\n",
      "QUERY:  wind speed in Zollikofen February 14, 2022 15h\n",
      "QUERY:  Moon Phase calculatorFebruary 14, 2022 15h\n"
     ]
    },
    {
     "name": "stderr",
     "output_type": "stream",
     "text": [
      "\r",
      "  4%|███▏                                                                        | 177/4218 [43:17<15:51:20, 14.13s/it]"
     ]
    },
    {
     "name": "stdout",
     "output_type": "stream",
     "text": [
      "QUERY:  Precipitation amount in Zollikofen February 14, 2022 16h\n",
      "QUERY:  temperature in Zollikofen February 14, 2022 16h\n",
      "QUERY:  humidity in Zollikofen February 14, 2022 16h\n",
      "QUERY:  wind speed in Zollikofen February 14, 2022 16h\n",
      "QUERY:  Moon Phase calculatorFebruary 14, 2022 16h\n"
     ]
    },
    {
     "name": "stderr",
     "output_type": "stream",
     "text": [
      "\r",
      "  4%|███▏                                                                        | 178/4218 [43:30<15:26:59, 13.77s/it]"
     ]
    },
    {
     "name": "stdout",
     "output_type": "stream",
     "text": [
      "QUERY:  Precipitation amount in Zollikofen February 14, 2022 17h\n",
      "QUERY:  temperature in Zollikofen February 14, 2022 17h\n",
      "QUERY:  humidity in Zollikofen February 14, 2022 17h\n",
      "QUERY:  wind speed in Zollikofen February 14, 2022 17h\n",
      "QUERY:  Moon Phase calculatorFebruary 14, 2022 17h\n"
     ]
    },
    {
     "name": "stderr",
     "output_type": "stream",
     "text": [
      "\r",
      "  4%|███▏                                                                        | 179/4218 [43:43<15:13:36, 13.57s/it]"
     ]
    },
    {
     "name": "stdout",
     "output_type": "stream",
     "text": [
      "QUERY:  Precipitation amount in Zollikofen February 14, 2022 18h\n",
      "QUERY:  temperature in Zollikofen February 14, 2022 18h\n",
      "QUERY:  humidity in Zollikofen February 14, 2022 18h\n",
      "QUERY:  wind speed in Zollikofen February 14, 2022 18h\n",
      "QUERY:  Moon Phase calculatorFebruary 14, 2022 18h\n"
     ]
    },
    {
     "name": "stderr",
     "output_type": "stream",
     "text": [
      "\r",
      "  4%|███▏                                                                        | 180/4218 [43:58<15:43:21, 14.02s/it]"
     ]
    },
    {
     "name": "stdout",
     "output_type": "stream",
     "text": [
      "QUERY:  Precipitation amount in Zollikofen February 14, 2022 19h\n",
      "QUERY:  temperature in Zollikofen February 14, 2022 19h\n",
      "QUERY:  humidity in Zollikofen February 14, 2022 19h\n",
      "QUERY:  wind speed in Zollikofen February 14, 2022 19h\n",
      "QUERY:  Moon Phase calculatorFebruary 14, 2022 19h\n",
      "(3284, 7)\n"
     ]
    },
    {
     "data": {
      "text/html": [
       "<div>\n",
       "<style scoped>\n",
       "    .dataframe tbody tr th:only-of-type {\n",
       "        vertical-align: middle;\n",
       "    }\n",
       "\n",
       "    .dataframe tbody tr th {\n",
       "        vertical-align: top;\n",
       "    }\n",
       "\n",
       "    .dataframe thead th {\n",
       "        text-align: right;\n",
       "    }\n",
       "</style>\n",
       "<table border=\"1\" class=\"dataframe\">\n",
       "  <thead>\n",
       "    <tr style=\"text-align: right;\">\n",
       "      <th></th>\n",
       "      <th>date</th>\n",
       "      <th>temperature</th>\n",
       "      <th>humidity</th>\n",
       "      <th>wind speed</th>\n",
       "      <th>Precipitation amount</th>\n",
       "      <th>Moon Phase calculator</th>\n",
       "      <th>query</th>\n",
       "    </tr>\n",
       "  </thead>\n",
       "  <tbody>\n",
       "    <tr>\n",
       "      <th>8</th>\n",
       "      <td>2022-02-14 18:00:00</td>\n",
       "      <td>4 °C\\n(6:00 pm CET | Monday, February 14, 2022)</td>\n",
       "      <td>average: 87% (87%)\\n(6:00 pm CET | Monday, Feb...</td>\n",
       "      <td>2 m/s\\n(6:00 pm CET | Monday, February 14, 2022)</td>\n",
       "      <td>rain\\n(6:00 pm CET | Monday, February 14, 2022)</td>\n",
       "      <td>| waxing gibbous moon\\n95.88% illuminated</td>\n",
       "      <td>Moon Phase calculatorFebruary 14, 2022 18h</td>\n",
       "    </tr>\n",
       "    <tr>\n",
       "      <th>9</th>\n",
       "      <td>2022-02-14 19:00:00</td>\n",
       "      <td>4 °C\\n(7:00 pm CET | Monday, February 14, 2022)</td>\n",
       "      <td>average: 93% (93%)\\n(7:00 pm CET | Monday, Feb...</td>\n",
       "      <td>1 m/s\\n(7:00 pm CET | Monday, February 14, 2022)</td>\n",
       "      <td>rain\\n(7:00 pm CET | Monday, February 14, 2022)</td>\n",
       "      <td>| waxing gibbous moon\\n96.04% illuminated</td>\n",
       "      <td>Moon Phase calculatorFebruary 14, 2022 19h</td>\n",
       "    </tr>\n",
       "  </tbody>\n",
       "</table>\n",
       "</div>"
      ],
      "text/plain": [
       "                 date                                      temperature  \\\n",
       "8 2022-02-14 18:00:00  4 °C\\n(6:00 pm CET | Monday, February 14, 2022)   \n",
       "9 2022-02-14 19:00:00  4 °C\\n(7:00 pm CET | Monday, February 14, 2022)   \n",
       "\n",
       "                                            humidity  \\\n",
       "8  average: 87% (87%)\\n(6:00 pm CET | Monday, Feb...   \n",
       "9  average: 93% (93%)\\n(7:00 pm CET | Monday, Feb...   \n",
       "\n",
       "                                         wind speed  \\\n",
       "8  2 m/s\\n(6:00 pm CET | Monday, February 14, 2022)   \n",
       "9  1 m/s\\n(7:00 pm CET | Monday, February 14, 2022)   \n",
       "\n",
       "                              Precipitation amount  \\\n",
       "8  rain\\n(6:00 pm CET | Monday, February 14, 2022)   \n",
       "9  rain\\n(7:00 pm CET | Monday, February 14, 2022)   \n",
       "\n",
       "                       Moon Phase calculator  \\\n",
       "8  | waxing gibbous moon\\n95.88% illuminated   \n",
       "9  | waxing gibbous moon\\n96.04% illuminated   \n",
       "\n",
       "                                        query  \n",
       "8  Moon Phase calculatorFebruary 14, 2022 18h  \n",
       "9  Moon Phase calculatorFebruary 14, 2022 19h  "
      ]
     },
     "metadata": {},
     "output_type": "display_data"
    },
    {
     "name": "stderr",
     "output_type": "stream",
     "text": [
      "\r",
      "  4%|███▎                                                                        | 181/4218 [44:12<15:29:59, 13.82s/it]"
     ]
    },
    {
     "name": "stdout",
     "output_type": "stream",
     "text": [
      "QUERY:  Precipitation amount in Zollikofen February 14, 2022 20h\n",
      "QUERY:  temperature in Zollikofen February 14, 2022 20h\n",
      "QUERY:  humidity in Zollikofen February 14, 2022 20h\n",
      "QUERY:  wind speed in Zollikofen February 14, 2022 20h\n",
      "QUERY:  Moon Phase calculatorFebruary 14, 2022 20h\n"
     ]
    },
    {
     "name": "stderr",
     "output_type": "stream",
     "text": [
      "\r",
      "  4%|███▎                                                                        | 182/4218 [44:25<15:28:49, 13.81s/it]"
     ]
    },
    {
     "name": "stdout",
     "output_type": "stream",
     "text": [
      "QUERY:  Precipitation amount in Zollikofen February 14, 2022 21h\n",
      "QUERY:  temperature in Zollikofen February 14, 2022 21h\n",
      "QUERY:  humidity in Zollikofen February 14, 2022 21h\n",
      "QUERY:  wind speed in Zollikofen February 14, 2022 21h\n",
      "QUERY:  Moon Phase calculatorFebruary 14, 2022 21h\n"
     ]
    },
    {
     "name": "stderr",
     "output_type": "stream",
     "text": [
      "\r",
      "  4%|███▎                                                                        | 183/4218 [44:39<15:25:11, 13.76s/it]"
     ]
    },
    {
     "name": "stdout",
     "output_type": "stream",
     "text": [
      "QUERY:  Precipitation amount in Zollikofen February 14, 2022 22h\n",
      "QUERY:  temperature in Zollikofen February 14, 2022 22h\n",
      "QUERY:  humidity in Zollikofen February 14, 2022 22h\n",
      "QUERY:  wind speed in Zollikofen February 14, 2022 22h\n",
      "QUERY:  Moon Phase calculatorFebruary 14, 2022 22h\n"
     ]
    },
    {
     "name": "stderr",
     "output_type": "stream",
     "text": [
      "\r",
      "  4%|███▎                                                                        | 184/4218 [44:53<15:34:37, 13.90s/it]"
     ]
    },
    {
     "name": "stdout",
     "output_type": "stream",
     "text": [
      "QUERY:  Precipitation amount in Zollikofen February 14, 2022 23h\n",
      "QUERY:  temperature in Zollikofen February 14, 2022 23h\n",
      "QUERY:  humidity in Zollikofen February 14, 2022 23h\n",
      "QUERY:  wind speed in Zollikofen February 14, 2022 23h\n",
      "QUERY:  Moon Phase calculatorFebruary 14, 2022 23h\n"
     ]
    },
    {
     "name": "stderr",
     "output_type": "stream",
     "text": [
      "\r",
      "  4%|███▎                                                                        | 185/4218 [45:09<16:10:40, 14.44s/it]"
     ]
    },
    {
     "name": "stdout",
     "output_type": "stream",
     "text": [
      "QUERY:  Precipitation amount in Zollikofen February 15, 2022 0h\n",
      "QUERY:  temperature in Zollikofen February 15, 2022 0h\n",
      "QUERY:  humidity in Zollikofen February 15, 2022 0h\n",
      "QUERY:  wind speed in Zollikofen February 15, 2022 0h\n",
      "QUERY:  Moon Phase calculatorFebruary 15, 2022 0h\n"
     ]
    },
    {
     "name": "stderr",
     "output_type": "stream",
     "text": [
      "\r",
      "  4%|███▎                                                                        | 186/4218 [45:22<15:46:05, 14.08s/it]"
     ]
    },
    {
     "name": "stdout",
     "output_type": "stream",
     "text": [
      "QUERY:  Precipitation amount in Zollikofen February 15, 2022 1h\n",
      "QUERY:  temperature in Zollikofen February 15, 2022 1h\n",
      "QUERY:  humidity in Zollikofen February 15, 2022 1h\n",
      "QUERY:  wind speed in Zollikofen February 15, 2022 1h\n",
      "QUERY:  Moon Phase calculatorFebruary 15, 2022 1h\n"
     ]
    },
    {
     "name": "stderr",
     "output_type": "stream",
     "text": [
      "\r",
      "  4%|███▎                                                                        | 187/4218 [45:36<15:31:11, 13.86s/it]"
     ]
    },
    {
     "name": "stdout",
     "output_type": "stream",
     "text": [
      "QUERY:  Precipitation amount in Zollikofen February 15, 2022 2h\n",
      "QUERY:  temperature in Zollikofen February 15, 2022 2h\n",
      "QUERY:  humidity in Zollikofen February 15, 2022 2h\n",
      "QUERY:  wind speed in Zollikofen February 15, 2022 2h\n",
      "QUERY:  Moon Phase calculatorFebruary 15, 2022 2h\n"
     ]
    },
    {
     "name": "stderr",
     "output_type": "stream",
     "text": [
      "\r",
      "  4%|███▍                                                                        | 188/4218 [45:50<15:40:02, 14.00s/it]"
     ]
    },
    {
     "name": "stdout",
     "output_type": "stream",
     "text": [
      "QUERY:  Precipitation amount in Zollikofen February 15, 2022 3h\n",
      "QUERY:  temperature in Zollikofen February 15, 2022 3h\n",
      "QUERY:  humidity in Zollikofen February 15, 2022 3h\n",
      "QUERY:  wind speed in Zollikofen February 15, 2022 3h\n",
      "QUERY:  Moon Phase calculatorFebruary 15, 2022 3h\n"
     ]
    },
    {
     "name": "stderr",
     "output_type": "stream",
     "text": [
      "\r",
      "  4%|███▍                                                                        | 189/4218 [46:04<15:35:39, 13.93s/it]"
     ]
    },
    {
     "name": "stdout",
     "output_type": "stream",
     "text": [
      "QUERY:  Precipitation amount in Zollikofen February 15, 2022 4h\n",
      "QUERY:  temperature in Zollikofen February 15, 2022 4h\n",
      "QUERY:  humidity in Zollikofen February 15, 2022 4h\n",
      "QUERY:  wind speed in Zollikofen February 15, 2022 4h\n",
      "QUERY:  Moon Phase calculatorFebruary 15, 2022 4h\n"
     ]
    },
    {
     "name": "stderr",
     "output_type": "stream",
     "text": [
      "\r",
      "  5%|███▍                                                                        | 190/4218 [46:17<15:34:12, 13.92s/it]"
     ]
    },
    {
     "name": "stdout",
     "output_type": "stream",
     "text": [
      "QUERY:  Precipitation amount in Zollikofen February 15, 2022 5h\n",
      "QUERY:  temperature in Zollikofen February 15, 2022 5h\n",
      "QUERY:  humidity in Zollikofen February 15, 2022 5h\n",
      "QUERY:  wind speed in Zollikofen February 15, 2022 5h\n",
      "QUERY:  Moon Phase calculatorFebruary 15, 2022 5h\n",
      "(3294, 7)\n"
     ]
    },
    {
     "data": {
      "text/html": [
       "<div>\n",
       "<style scoped>\n",
       "    .dataframe tbody tr th:only-of-type {\n",
       "        vertical-align: middle;\n",
       "    }\n",
       "\n",
       "    .dataframe tbody tr th {\n",
       "        vertical-align: top;\n",
       "    }\n",
       "\n",
       "    .dataframe thead th {\n",
       "        text-align: right;\n",
       "    }\n",
       "</style>\n",
       "<table border=\"1\" class=\"dataframe\">\n",
       "  <thead>\n",
       "    <tr style=\"text-align: right;\">\n",
       "      <th></th>\n",
       "      <th>date</th>\n",
       "      <th>temperature</th>\n",
       "      <th>humidity</th>\n",
       "      <th>wind speed</th>\n",
       "      <th>Precipitation amount</th>\n",
       "      <th>Moon Phase calculator</th>\n",
       "      <th>query</th>\n",
       "    </tr>\n",
       "  </thead>\n",
       "  <tbody>\n",
       "    <tr>\n",
       "      <th>8</th>\n",
       "      <td>2022-02-15 04:00:00</td>\n",
       "      <td>3 °C\\n(4:00 am CET | Tuesday, February 15, 2022)</td>\n",
       "      <td>average: 100% (100%)\\n(4:00 am CET | Tuesday, ...</td>\n",
       "      <td>1 m/s\\n(4:00 am CET | Tuesday, February 15, 2022)</td>\n",
       "      <td>rain\\n(4:00 am CET | Tuesday, February 15, 2022)</td>\n",
       "      <td>| waxing gibbous moon\\n97.32% illuminated</td>\n",
       "      <td>Moon Phase calculatorFebruary 15, 2022 4h</td>\n",
       "    </tr>\n",
       "    <tr>\n",
       "      <th>9</th>\n",
       "      <td>2022-02-15 05:00:00</td>\n",
       "      <td>3 °C\\n(5:00 am CET | Tuesday, February 15, 2022)</td>\n",
       "      <td>average: 100% (100%)\\n(5:00 am CET | Tuesday, ...</td>\n",
       "      <td>1 m/s\\n(5:00 am CET | Tuesday, February 15, 2022)</td>\n",
       "      <td>no precipitation\\n(5:00 am CET | Tuesday, Febr...</td>\n",
       "      <td>| waxing gibbous moon\\n97.45% illuminated</td>\n",
       "      <td>Moon Phase calculatorFebruary 15, 2022 5h</td>\n",
       "    </tr>\n",
       "  </tbody>\n",
       "</table>\n",
       "</div>"
      ],
      "text/plain": [
       "                 date                                       temperature  \\\n",
       "8 2022-02-15 04:00:00  3 °C\\n(4:00 am CET | Tuesday, February 15, 2022)   \n",
       "9 2022-02-15 05:00:00  3 °C\\n(5:00 am CET | Tuesday, February 15, 2022)   \n",
       "\n",
       "                                            humidity  \\\n",
       "8  average: 100% (100%)\\n(4:00 am CET | Tuesday, ...   \n",
       "9  average: 100% (100%)\\n(5:00 am CET | Tuesday, ...   \n",
       "\n",
       "                                          wind speed  \\\n",
       "8  1 m/s\\n(4:00 am CET | Tuesday, February 15, 2022)   \n",
       "9  1 m/s\\n(5:00 am CET | Tuesday, February 15, 2022)   \n",
       "\n",
       "                                Precipitation amount  \\\n",
       "8   rain\\n(4:00 am CET | Tuesday, February 15, 2022)   \n",
       "9  no precipitation\\n(5:00 am CET | Tuesday, Febr...   \n",
       "\n",
       "                       Moon Phase calculator  \\\n",
       "8  | waxing gibbous moon\\n97.32% illuminated   \n",
       "9  | waxing gibbous moon\\n97.45% illuminated   \n",
       "\n",
       "                                       query  \n",
       "8  Moon Phase calculatorFebruary 15, 2022 4h  \n",
       "9  Moon Phase calculatorFebruary 15, 2022 5h  "
      ]
     },
     "metadata": {},
     "output_type": "display_data"
    },
    {
     "name": "stderr",
     "output_type": "stream",
     "text": [
      "\r",
      "  5%|███▍                                                                        | 191/4218 [46:31<15:31:52, 13.88s/it]"
     ]
    },
    {
     "name": "stdout",
     "output_type": "stream",
     "text": [
      "QUERY:  Precipitation amount in Zollikofen February 15, 2022 6h\n",
      "QUERY:  temperature in Zollikofen February 15, 2022 6h\n",
      "QUERY:  humidity in Zollikofen February 15, 2022 6h\n",
      "QUERY:  wind speed in Zollikofen February 15, 2022 6h\n",
      "QUERY:  Moon Phase calculatorFebruary 15, 2022 6h\n"
     ]
    },
    {
     "name": "stderr",
     "output_type": "stream",
     "text": [
      "\r",
      "  5%|███▍                                                                        | 192/4218 [46:44<15:14:24, 13.63s/it]"
     ]
    },
    {
     "name": "stdout",
     "output_type": "stream",
     "text": [
      "QUERY:  Precipitation amount in Zollikofen February 15, 2022 7h\n",
      "QUERY:  temperature in Zollikofen February 15, 2022 7h\n",
      "QUERY:  humidity in Zollikofen February 15, 2022 7h\n",
      "QUERY:  wind speed in Zollikofen February 15, 2022 7h\n",
      "QUERY:  Moon Phase calculatorFebruary 15, 2022 7h\n"
     ]
    },
    {
     "name": "stderr",
     "output_type": "stream",
     "text": [
      "\r",
      "  5%|███▍                                                                        | 193/4218 [46:58<15:08:11, 13.54s/it]"
     ]
    },
    {
     "name": "stdout",
     "output_type": "stream",
     "text": [
      "QUERY:  Precipitation amount in Zollikofen February 15, 2022 8h\n",
      "QUERY:  temperature in Zollikofen February 15, 2022 8h\n",
      "QUERY:  humidity in Zollikofen February 15, 2022 8h\n",
      "QUERY:  wind speed in Zollikofen February 15, 2022 8h\n",
      "QUERY:  Moon Phase calculatorFebruary 15, 2022 8h\n"
     ]
    },
    {
     "name": "stderr",
     "output_type": "stream",
     "text": [
      "\r",
      "  5%|███▍                                                                        | 194/4218 [47:12<15:33:31, 13.92s/it]"
     ]
    },
    {
     "name": "stdout",
     "output_type": "stream",
     "text": [
      "QUERY:  Precipitation amount in Zollikofen February 15, 2022 9h\n",
      "QUERY:  temperature in Zollikofen February 15, 2022 9h\n",
      "QUERY:  humidity in Zollikofen February 15, 2022 9h\n",
      "QUERY:  wind speed in Zollikofen February 15, 2022 9h\n",
      "QUERY:  Moon Phase calculatorFebruary 15, 2022 9h\n"
     ]
    },
    {
     "name": "stderr",
     "output_type": "stream",
     "text": [
      "\r",
      "  5%|███▌                                                                        | 195/4218 [47:26<15:27:00, 13.83s/it]"
     ]
    },
    {
     "name": "stdout",
     "output_type": "stream",
     "text": [
      "QUERY:  Precipitation amount in Zollikofen February 15, 2022 10h\n",
      "QUERY:  temperature in Zollikofen February 15, 2022 10h\n",
      "QUERY:  humidity in Zollikofen February 15, 2022 10h\n",
      "QUERY:  wind speed in Zollikofen February 15, 2022 10h\n",
      "QUERY:  Moon Phase calculatorFebruary 15, 2022 10h\n"
     ]
    },
    {
     "name": "stderr",
     "output_type": "stream",
     "text": [
      "\r",
      "  5%|███▌                                                                        | 196/4218 [47:40<15:21:35, 13.75s/it]"
     ]
    },
    {
     "name": "stdout",
     "output_type": "stream",
     "text": [
      "QUERY:  Precipitation amount in Zollikofen February 15, 2022 11h\n",
      "QUERY:  temperature in Zollikofen February 15, 2022 11h\n",
      "QUERY:  humidity in Zollikofen February 15, 2022 11h\n",
      "QUERY:  wind speed in Zollikofen February 15, 2022 11h\n",
      "QUERY:  Moon Phase calculatorFebruary 15, 2022 11h\n"
     ]
    },
    {
     "name": "stderr",
     "output_type": "stream",
     "text": [
      "\r",
      "  5%|███▌                                                                        | 197/4218 [47:54<15:34:21, 13.94s/it]"
     ]
    },
    {
     "name": "stdout",
     "output_type": "stream",
     "text": [
      "QUERY:  Precipitation amount in Zollikofen February 15, 2022 12h\n",
      "QUERY:  temperature in Zollikofen February 15, 2022 12h\n",
      "QUERY:  humidity in Zollikofen February 15, 2022 12h\n",
      "QUERY:  wind speed in Zollikofen February 15, 2022 12h\n",
      "QUERY:  Moon Phase calculatorFebruary 15, 2022 12h\n"
     ]
    },
    {
     "name": "stderr",
     "output_type": "stream",
     "text": [
      "\r",
      "  5%|███▌                                                                        | 198/4218 [48:08<15:26:44, 13.83s/it]"
     ]
    },
    {
     "name": "stdout",
     "output_type": "stream",
     "text": [
      "QUERY:  Precipitation amount in Zollikofen February 15, 2022 13h\n",
      "QUERY:  temperature in Zollikofen February 15, 2022 13h\n",
      "QUERY:  humidity in Zollikofen February 15, 2022 13h\n",
      "QUERY:  wind speed in Zollikofen February 15, 2022 13h\n",
      "QUERY:  Moon Phase calculatorFebruary 15, 2022 13h\n"
     ]
    },
    {
     "name": "stderr",
     "output_type": "stream",
     "text": [
      "\r",
      "  5%|███▌                                                                        | 199/4218 [48:21<15:14:41, 13.66s/it]"
     ]
    },
    {
     "name": "stdout",
     "output_type": "stream",
     "text": [
      "QUERY:  Precipitation amount in Zollikofen February 15, 2022 14h\n",
      "QUERY:  temperature in Zollikofen February 15, 2022 14h\n",
      "QUERY:  humidity in Zollikofen February 15, 2022 14h\n",
      "QUERY:  wind speed in Zollikofen February 15, 2022 14h\n",
      "QUERY:  Moon Phase calculatorFebruary 15, 2022 14h\n"
     ]
    },
    {
     "name": "stderr",
     "output_type": "stream",
     "text": [
      "\r",
      "  5%|███▌                                                                        | 200/4218 [48:34<15:07:45, 13.56s/it]"
     ]
    },
    {
     "name": "stdout",
     "output_type": "stream",
     "text": [
      "QUERY:  Precipitation amount in Zollikofen February 15, 2022 15h\n",
      "QUERY:  temperature in Zollikofen February 15, 2022 15h\n",
      "QUERY:  humidity in Zollikofen February 15, 2022 15h\n",
      "QUERY:  wind speed in Zollikofen February 15, 2022 15h\n",
      "QUERY:  Moon Phase calculatorFebruary 15, 2022 15h\n",
      "(3304, 7)\n"
     ]
    },
    {
     "data": {
      "text/html": [
       "<div>\n",
       "<style scoped>\n",
       "    .dataframe tbody tr th:only-of-type {\n",
       "        vertical-align: middle;\n",
       "    }\n",
       "\n",
       "    .dataframe tbody tr th {\n",
       "        vertical-align: top;\n",
       "    }\n",
       "\n",
       "    .dataframe thead th {\n",
       "        text-align: right;\n",
       "    }\n",
       "</style>\n",
       "<table border=\"1\" class=\"dataframe\">\n",
       "  <thead>\n",
       "    <tr style=\"text-align: right;\">\n",
       "      <th></th>\n",
       "      <th>date</th>\n",
       "      <th>temperature</th>\n",
       "      <th>humidity</th>\n",
       "      <th>wind speed</th>\n",
       "      <th>Precipitation amount</th>\n",
       "      <th>Moon Phase calculator</th>\n",
       "      <th>query</th>\n",
       "    </tr>\n",
       "  </thead>\n",
       "  <tbody>\n",
       "    <tr>\n",
       "      <th>8</th>\n",
       "      <td>2022-02-15 14:00:00</td>\n",
       "      <td>5 °C\\n(2:00 pm CET | Tuesday, February 15, 2022)</td>\n",
       "      <td>average: 84% (81 to 87%)\\n(2:00 pm CET | Tuesd...</td>\n",
       "      <td>2 m/s\\n(2:00 pm CET | Tuesday, February 15, 2022)</td>\n",
       "      <td>no precipitation\\n(2:00 pm CET | Tuesday, Febr...</td>\n",
       "      <td>| waxing gibbous moon\\n98.44% illuminated</td>\n",
       "      <td>Moon Phase calculatorFebruary 15, 2022 14h</td>\n",
       "    </tr>\n",
       "    <tr>\n",
       "      <th>9</th>\n",
       "      <td>2022-02-15 15:00:00</td>\n",
       "      <td>5 °C\\n(3:00 pm CET | Tuesday, February 15, 2022)</td>\n",
       "      <td>average: 84% (81 to 87%)\\n(3:00 pm CET | Tuesd...</td>\n",
       "      <td>3 m/s\\n(3:00 pm CET | Tuesday, February 15, 2022)</td>\n",
       "      <td>rain\\n(3:00 pm CET | Tuesday, February 15, 2022)</td>\n",
       "      <td>| waxing gibbous moon\\n98.54% illuminated</td>\n",
       "      <td>Moon Phase calculatorFebruary 15, 2022 15h</td>\n",
       "    </tr>\n",
       "  </tbody>\n",
       "</table>\n",
       "</div>"
      ],
      "text/plain": [
       "                 date                                       temperature  \\\n",
       "8 2022-02-15 14:00:00  5 °C\\n(2:00 pm CET | Tuesday, February 15, 2022)   \n",
       "9 2022-02-15 15:00:00  5 °C\\n(3:00 pm CET | Tuesday, February 15, 2022)   \n",
       "\n",
       "                                            humidity  \\\n",
       "8  average: 84% (81 to 87%)\\n(2:00 pm CET | Tuesd...   \n",
       "9  average: 84% (81 to 87%)\\n(3:00 pm CET | Tuesd...   \n",
       "\n",
       "                                          wind speed  \\\n",
       "8  2 m/s\\n(2:00 pm CET | Tuesday, February 15, 2022)   \n",
       "9  3 m/s\\n(3:00 pm CET | Tuesday, February 15, 2022)   \n",
       "\n",
       "                                Precipitation amount  \\\n",
       "8  no precipitation\\n(2:00 pm CET | Tuesday, Febr...   \n",
       "9   rain\\n(3:00 pm CET | Tuesday, February 15, 2022)   \n",
       "\n",
       "                       Moon Phase calculator  \\\n",
       "8  | waxing gibbous moon\\n98.44% illuminated   \n",
       "9  | waxing gibbous moon\\n98.54% illuminated   \n",
       "\n",
       "                                        query  \n",
       "8  Moon Phase calculatorFebruary 15, 2022 14h  \n",
       "9  Moon Phase calculatorFebruary 15, 2022 15h  "
      ]
     },
     "metadata": {},
     "output_type": "display_data"
    },
    {
     "name": "stderr",
     "output_type": "stream",
     "text": [
      "\r",
      "  5%|███▌                                                                        | 201/4218 [48:47<15:01:00, 13.46s/it]"
     ]
    },
    {
     "name": "stdout",
     "output_type": "stream",
     "text": [
      "QUERY:  Precipitation amount in Zollikofen February 15, 2022 16h\n",
      "QUERY:  temperature in Zollikofen February 15, 2022 16h\n",
      "QUERY:  humidity in Zollikofen February 15, 2022 16h\n",
      "QUERY:  wind speed in Zollikofen February 15, 2022 16h\n",
      "QUERY:  Moon Phase calculatorFebruary 15, 2022 16h\n"
     ]
    },
    {
     "name": "stderr",
     "output_type": "stream",
     "text": [
      "\r",
      "  5%|███▋                                                                        | 202/4218 [49:02<15:30:42, 13.90s/it]"
     ]
    },
    {
     "name": "stdout",
     "output_type": "stream",
     "text": [
      "QUERY:  Precipitation amount in Zollikofen February 15, 2022 17h\n",
      "QUERY:  temperature in Zollikofen February 15, 2022 17h\n",
      "QUERY:  humidity in Zollikofen February 15, 2022 17h\n",
      "QUERY:  wind speed in Zollikofen February 15, 2022 17h\n",
      "QUERY:  Moon Phase calculatorFebruary 15, 2022 17h\n"
     ]
    },
    {
     "name": "stderr",
     "output_type": "stream",
     "text": [
      "\r",
      "  5%|███▋                                                                        | 203/4218 [49:15<15:10:57, 13.61s/it]"
     ]
    },
    {
     "name": "stdout",
     "output_type": "stream",
     "text": [
      "QUERY:  Precipitation amount in Zollikofen February 15, 2022 18h\n",
      "QUERY:  temperature in Zollikofen February 15, 2022 18h\n",
      "QUERY:  humidity in Zollikofen February 15, 2022 18h\n",
      "QUERY:  wind speed in Zollikofen February 15, 2022 18h\n",
      "QUERY:  Moon Phase calculatorFebruary 15, 2022 18h\n"
     ]
    },
    {
     "name": "stderr",
     "output_type": "stream",
     "text": [
      "\r",
      "  5%|███▋                                                                        | 204/4218 [49:29<15:06:48, 13.55s/it]"
     ]
    },
    {
     "name": "stdout",
     "output_type": "stream",
     "text": [
      "QUERY:  Precipitation amount in Zollikofen February 15, 2022 19h\n",
      "QUERY:  temperature in Zollikofen February 15, 2022 19h\n",
      "QUERY:  humidity in Zollikofen February 15, 2022 19h\n",
      "QUERY:  wind speed in Zollikofen February 15, 2022 19h\n",
      "QUERY:  Moon Phase calculatorFebruary 15, 2022 19h\n"
     ]
    },
    {
     "name": "stderr",
     "output_type": "stream",
     "text": [
      "\r",
      "  5%|███▋                                                                        | 205/4218 [49:42<15:02:14, 13.49s/it]"
     ]
    },
    {
     "name": "stdout",
     "output_type": "stream",
     "text": [
      "QUERY:  Precipitation amount in Zollikofen February 15, 2022 20h\n",
      "QUERY:  temperature in Zollikofen February 15, 2022 20h\n",
      "QUERY:  humidity in Zollikofen February 15, 2022 20h\n",
      "QUERY:  wind speed in Zollikofen February 15, 2022 20h\n",
      "QUERY:  Moon Phase calculatorFebruary 15, 2022 20h\n"
     ]
    },
    {
     "name": "stderr",
     "output_type": "stream",
     "text": [
      "\r",
      "  5%|███▋                                                                        | 206/4218 [49:55<14:53:48, 13.37s/it]"
     ]
    },
    {
     "name": "stdout",
     "output_type": "stream",
     "text": [
      "QUERY:  Precipitation amount in Zollikofen February 15, 2022 21h\n",
      "QUERY:  temperature in Zollikofen February 15, 2022 21h\n",
      "QUERY:  humidity in Zollikofen February 15, 2022 21h\n",
      "QUERY:  wind speed in Zollikofen February 15, 2022 21h\n",
      "QUERY:  Moon Phase calculatorFebruary 15, 2022 21h\n"
     ]
    },
    {
     "name": "stderr",
     "output_type": "stream",
     "text": [
      "\r",
      "  5%|███▋                                                                        | 207/4218 [50:09<14:54:55, 13.39s/it]"
     ]
    },
    {
     "name": "stdout",
     "output_type": "stream",
     "text": [
      "QUERY:  Precipitation amount in Zollikofen February 15, 2022 22h\n",
      "QUERY:  temperature in Zollikofen February 15, 2022 22h\n",
      "QUERY:  humidity in Zollikofen February 15, 2022 22h\n",
      "QUERY:  wind speed in Zollikofen February 15, 2022 22h\n",
      "QUERY:  Moon Phase calculatorFebruary 15, 2022 22h\n"
     ]
    },
    {
     "name": "stderr",
     "output_type": "stream",
     "text": [
      "\r",
      "  5%|███▋                                                                        | 208/4218 [50:22<14:51:32, 13.34s/it]"
     ]
    },
    {
     "name": "stdout",
     "output_type": "stream",
     "text": [
      "QUERY:  Precipitation amount in Zollikofen February 15, 2022 23h\n",
      "QUERY:  temperature in Zollikofen February 15, 2022 23h\n",
      "QUERY:  humidity in Zollikofen February 15, 2022 23h\n",
      "QUERY:  wind speed in Zollikofen February 15, 2022 23h\n",
      "QUERY:  Moon Phase calculatorFebruary 15, 2022 23h\n"
     ]
    },
    {
     "name": "stderr",
     "output_type": "stream",
     "text": [
      "\r",
      "  5%|███▊                                                                        | 209/4218 [50:35<14:48:53, 13.30s/it]"
     ]
    },
    {
     "name": "stdout",
     "output_type": "stream",
     "text": [
      "QUERY:  Precipitation amount in Zollikofen February 16, 2022 0h\n",
      "QUERY:  temperature in Zollikofen February 16, 2022 0h\n",
      "QUERY:  humidity in Zollikofen February 16, 2022 0h\n",
      "QUERY:  wind speed in Zollikofen February 16, 2022 0h\n",
      "QUERY:  Moon Phase calculatorFebruary 16, 2022 0h\n"
     ]
    },
    {
     "name": "stderr",
     "output_type": "stream",
     "text": [
      "\r",
      "  5%|███▊                                                                        | 210/4218 [50:49<14:53:24, 13.37s/it]"
     ]
    },
    {
     "name": "stdout",
     "output_type": "stream",
     "text": [
      "QUERY:  Precipitation amount in Zollikofen February 16, 2022 1h\n",
      "QUERY:  temperature in Zollikofen February 16, 2022 1h\n",
      "QUERY:  humidity in Zollikofen February 16, 2022 1h\n",
      "QUERY:  wind speed in Zollikofen February 16, 2022 1h\n",
      "QUERY:  Moon Phase calculatorFebruary 16, 2022 1h\n",
      "(3314, 7)\n"
     ]
    },
    {
     "data": {
      "text/html": [
       "<div>\n",
       "<style scoped>\n",
       "    .dataframe tbody tr th:only-of-type {\n",
       "        vertical-align: middle;\n",
       "    }\n",
       "\n",
       "    .dataframe tbody tr th {\n",
       "        vertical-align: top;\n",
       "    }\n",
       "\n",
       "    .dataframe thead th {\n",
       "        text-align: right;\n",
       "    }\n",
       "</style>\n",
       "<table border=\"1\" class=\"dataframe\">\n",
       "  <thead>\n",
       "    <tr style=\"text-align: right;\">\n",
       "      <th></th>\n",
       "      <th>date</th>\n",
       "      <th>temperature</th>\n",
       "      <th>humidity</th>\n",
       "      <th>wind speed</th>\n",
       "      <th>Precipitation amount</th>\n",
       "      <th>Moon Phase calculator</th>\n",
       "      <th>query</th>\n",
       "    </tr>\n",
       "  </thead>\n",
       "  <tbody>\n",
       "    <tr>\n",
       "      <th>8</th>\n",
       "      <td>2022-02-16 00:00:00</td>\n",
       "      <td>1 °C\\n(12:00 am CET | Wednesday, February 16, ...</td>\n",
       "      <td>average: 93% (93%)\\n(12:00 am CET | Wednesday,...</td>\n",
       "      <td>2 m/s\\n(12:00 am CET | Wednesday, February 16,...</td>\n",
       "      <td>no precipitation\\n(12:00 am CET | Wednesday, F...</td>\n",
       "      <td>| waxing gibbous moon\\n99.24% illuminated</td>\n",
       "      <td>Moon Phase calculatorFebruary 16, 2022 0h</td>\n",
       "    </tr>\n",
       "    <tr>\n",
       "      <th>9</th>\n",
       "      <td>2022-02-16 01:00:00</td>\n",
       "      <td>2 °C\\n(1:00 am CET | Wednesday, February 16, 2...</td>\n",
       "      <td>average: 93% (93%)\\n(1:00 am CET | Wednesday, ...</td>\n",
       "      <td>2 m/s\\n(1:00 am CET | Wednesday, February 16, ...</td>\n",
       "      <td>no precipitation\\n(1:00 am CET | Wednesday, Fe...</td>\n",
       "      <td>| waxing gibbous moon\\n99.30% illuminated</td>\n",
       "      <td>Moon Phase calculatorFebruary 16, 2022 1h</td>\n",
       "    </tr>\n",
       "  </tbody>\n",
       "</table>\n",
       "</div>"
      ],
      "text/plain": [
       "                 date                                        temperature  \\\n",
       "8 2022-02-16 00:00:00  1 °C\\n(12:00 am CET | Wednesday, February 16, ...   \n",
       "9 2022-02-16 01:00:00  2 °C\\n(1:00 am CET | Wednesday, February 16, 2...   \n",
       "\n",
       "                                            humidity  \\\n",
       "8  average: 93% (93%)\\n(12:00 am CET | Wednesday,...   \n",
       "9  average: 93% (93%)\\n(1:00 am CET | Wednesday, ...   \n",
       "\n",
       "                                          wind speed  \\\n",
       "8  2 m/s\\n(12:00 am CET | Wednesday, February 16,...   \n",
       "9  2 m/s\\n(1:00 am CET | Wednesday, February 16, ...   \n",
       "\n",
       "                                Precipitation amount  \\\n",
       "8  no precipitation\\n(12:00 am CET | Wednesday, F...   \n",
       "9  no precipitation\\n(1:00 am CET | Wednesday, Fe...   \n",
       "\n",
       "                       Moon Phase calculator  \\\n",
       "8  | waxing gibbous moon\\n99.24% illuminated   \n",
       "9  | waxing gibbous moon\\n99.30% illuminated   \n",
       "\n",
       "                                       query  \n",
       "8  Moon Phase calculatorFebruary 16, 2022 0h  \n",
       "9  Moon Phase calculatorFebruary 16, 2022 1h  "
      ]
     },
     "metadata": {},
     "output_type": "display_data"
    },
    {
     "name": "stderr",
     "output_type": "stream",
     "text": [
      "\r",
      "  5%|███▊                                                                        | 211/4218 [51:04<15:42:45, 14.12s/it]"
     ]
    },
    {
     "name": "stdout",
     "output_type": "stream",
     "text": [
      "QUERY:  Precipitation amount in Zollikofen February 16, 2022 2h\n",
      "QUERY:  temperature in Zollikofen February 16, 2022 2h\n",
      "QUERY:  humidity in Zollikofen February 16, 2022 2h\n",
      "QUERY:  wind speed in Zollikofen February 16, 2022 2h\n",
      "QUERY:  Moon Phase calculatorFebruary 16, 2022 2h\n"
     ]
    },
    {
     "name": "stderr",
     "output_type": "stream",
     "text": [
      "\r",
      "  5%|███▊                                                                        | 212/4218 [51:18<15:39:55, 14.08s/it]"
     ]
    },
    {
     "name": "stdout",
     "output_type": "stream",
     "text": [
      "QUERY:  Precipitation amount in Zollikofen February 16, 2022 3h\n",
      "QUERY:  temperature in Zollikofen February 16, 2022 3h\n",
      "QUERY:  humidity in Zollikofen February 16, 2022 3h\n",
      "QUERY:  wind speed in Zollikofen February 16, 2022 3h\n",
      "QUERY:  Moon Phase calculatorFebruary 16, 2022 3h\n"
     ]
    },
    {
     "name": "stderr",
     "output_type": "stream",
     "text": [
      "\r",
      "  5%|███▊                                                                        | 213/4218 [51:32<15:26:24, 13.88s/it]"
     ]
    },
    {
     "name": "stdout",
     "output_type": "stream",
     "text": [
      "QUERY:  Precipitation amount in Zollikofen February 16, 2022 4h\n",
      "QUERY:  temperature in Zollikofen February 16, 2022 4h\n",
      "QUERY:  humidity in Zollikofen February 16, 2022 4h\n",
      "QUERY:  wind speed in Zollikofen February 16, 2022 4h\n",
      "QUERY:  Moon Phase calculatorFebruary 16, 2022 4h\n"
     ]
    },
    {
     "name": "stderr",
     "output_type": "stream",
     "text": [
      "\r",
      "  5%|███▊                                                                        | 214/4218 [51:45<15:11:57, 13.67s/it]"
     ]
    },
    {
     "name": "stdout",
     "output_type": "stream",
     "text": [
      "QUERY:  Precipitation amount in Zollikofen February 16, 2022 5h\n",
      "QUERY:  temperature in Zollikofen February 16, 2022 5h\n",
      "QUERY:  humidity in Zollikofen February 16, 2022 5h\n",
      "QUERY:  wind speed in Zollikofen February 16, 2022 5h\n",
      "QUERY:  Moon Phase calculatorFebruary 16, 2022 5h\n"
     ]
    },
    {
     "name": "stderr",
     "output_type": "stream",
     "text": [
      "\r",
      "  5%|███▊                                                                        | 215/4218 [52:00<15:36:33, 14.04s/it]"
     ]
    },
    {
     "name": "stdout",
     "output_type": "stream",
     "text": [
      "QUERY:  Precipitation amount in Zollikofen February 16, 2022 6h\n",
      "QUERY:  temperature in Zollikofen February 16, 2022 6h\n",
      "QUERY:  humidity in Zollikofen February 16, 2022 6h\n",
      "QUERY:  wind speed in Zollikofen February 16, 2022 6h\n",
      "QUERY:  Moon Phase calculatorFebruary 16, 2022 6h\n"
     ]
    },
    {
     "name": "stderr",
     "output_type": "stream",
     "text": [
      "\r",
      "  5%|███▉                                                                        | 216/4218 [52:14<15:29:02, 13.93s/it]"
     ]
    },
    {
     "name": "stdout",
     "output_type": "stream",
     "text": [
      "QUERY:  Precipitation amount in Zollikofen February 16, 2022 7h\n",
      "QUERY:  temperature in Zollikofen February 16, 2022 7h\n",
      "QUERY:  humidity in Zollikofen February 16, 2022 7h\n",
      "QUERY:  wind speed in Zollikofen February 16, 2022 7h\n",
      "QUERY:  Moon Phase calculatorFebruary 16, 2022 7h\n"
     ]
    },
    {
     "name": "stderr",
     "output_type": "stream",
     "text": [
      "\r",
      "  5%|███▉                                                                        | 217/4218 [52:28<15:38:19, 14.07s/it]"
     ]
    },
    {
     "name": "stdout",
     "output_type": "stream",
     "text": [
      "QUERY:  Precipitation amount in Zollikofen February 16, 2022 8h\n",
      "QUERY:  temperature in Zollikofen February 16, 2022 8h\n",
      "QUERY:  humidity in Zollikofen February 16, 2022 8h\n",
      "QUERY:  wind speed in Zollikofen February 16, 2022 8h\n",
      "QUERY:  Moon Phase calculatorFebruary 16, 2022 8h\n"
     ]
    },
    {
     "name": "stderr",
     "output_type": "stream",
     "text": [
      "\r",
      "  5%|███▉                                                                        | 218/4218 [52:42<15:34:02, 14.01s/it]"
     ]
    },
    {
     "name": "stdout",
     "output_type": "stream",
     "text": [
      "QUERY:  Precipitation amount in Zollikofen February 16, 2022 9h\n",
      "QUERY:  temperature in Zollikofen February 16, 2022 9h\n",
      "QUERY:  humidity in Zollikofen February 16, 2022 9h\n",
      "QUERY:  wind speed in Zollikofen February 16, 2022 9h\n",
      "QUERY:  Moon Phase calculatorFebruary 16, 2022 9h\n"
     ]
    },
    {
     "name": "stderr",
     "output_type": "stream",
     "text": [
      "\r",
      "  5%|███▉                                                                        | 219/4218 [52:55<15:26:01, 13.89s/it]"
     ]
    },
    {
     "name": "stdout",
     "output_type": "stream",
     "text": [
      "QUERY:  Precipitation amount in Zollikofen February 16, 2022 10h\n",
      "QUERY:  temperature in Zollikofen February 16, 2022 10h\n",
      "QUERY:  humidity in Zollikofen February 16, 2022 10h\n",
      "QUERY:  wind speed in Zollikofen February 16, 2022 10h\n",
      "QUERY:  Moon Phase calculatorFebruary 16, 2022 10h\n"
     ]
    },
    {
     "name": "stderr",
     "output_type": "stream",
     "text": [
      "\r",
      "  5%|███▉                                                                        | 220/4218 [53:09<15:14:29, 13.72s/it]"
     ]
    },
    {
     "name": "stdout",
     "output_type": "stream",
     "text": [
      "QUERY:  Precipitation amount in Zollikofen February 16, 2022 11h\n",
      "QUERY:  temperature in Zollikofen February 16, 2022 11h\n",
      "QUERY:  humidity in Zollikofen February 16, 2022 11h\n",
      "QUERY:  wind speed in Zollikofen February 16, 2022 11h\n",
      "QUERY:  Moon Phase calculatorFebruary 16, 2022 11h\n",
      "(3324, 7)\n"
     ]
    },
    {
     "data": {
      "text/html": [
       "<div>\n",
       "<style scoped>\n",
       "    .dataframe tbody tr th:only-of-type {\n",
       "        vertical-align: middle;\n",
       "    }\n",
       "\n",
       "    .dataframe tbody tr th {\n",
       "        vertical-align: top;\n",
       "    }\n",
       "\n",
       "    .dataframe thead th {\n",
       "        text-align: right;\n",
       "    }\n",
       "</style>\n",
       "<table border=\"1\" class=\"dataframe\">\n",
       "  <thead>\n",
       "    <tr style=\"text-align: right;\">\n",
       "      <th></th>\n",
       "      <th>date</th>\n",
       "      <th>temperature</th>\n",
       "      <th>humidity</th>\n",
       "      <th>wind speed</th>\n",
       "      <th>Precipitation amount</th>\n",
       "      <th>Moon Phase calculator</th>\n",
       "      <th>query</th>\n",
       "    </tr>\n",
       "  </thead>\n",
       "  <tbody>\n",
       "    <tr>\n",
       "      <th>8</th>\n",
       "      <td>2022-02-16 10:00:00</td>\n",
       "      <td>3 °C\\n(10:00 am CET | Wednesday, February 16, ...</td>\n",
       "      <td>average: 93% (93%)\\n(10:00 am CET | Wednesday,...</td>\n",
       "      <td>2 m/s\\n(10:00 am CET | Wednesday, February 16,...</td>\n",
       "      <td>rain\\n(10:00 am CET | Wednesday, February 16, ...</td>\n",
       "      <td>| waxing gibbous moon\\n99.70% illuminated</td>\n",
       "      <td>Moon Phase calculatorFebruary 16, 2022 10h</td>\n",
       "    </tr>\n",
       "    <tr>\n",
       "      <th>9</th>\n",
       "      <td>2022-02-16 11:00:00</td>\n",
       "      <td>3 °C\\n(11:00 am CET | Wednesday, February 16, ...</td>\n",
       "      <td>average: 90% (87 to 93%)\\n(11:00 am CET | Wedn...</td>\n",
       "      <td>2 m/s\\n(11:00 am CET | Wednesday, February 16,...</td>\n",
       "      <td>rain\\n(11:00 am CET | Wednesday, February 16, ...</td>\n",
       "      <td>| full moon\\n99.72% illuminated</td>\n",
       "      <td>Moon Phase calculatorFebruary 16, 2022 11h</td>\n",
       "    </tr>\n",
       "  </tbody>\n",
       "</table>\n",
       "</div>"
      ],
      "text/plain": [
       "                 date                                        temperature  \\\n",
       "8 2022-02-16 10:00:00  3 °C\\n(10:00 am CET | Wednesday, February 16, ...   \n",
       "9 2022-02-16 11:00:00  3 °C\\n(11:00 am CET | Wednesday, February 16, ...   \n",
       "\n",
       "                                            humidity  \\\n",
       "8  average: 93% (93%)\\n(10:00 am CET | Wednesday,...   \n",
       "9  average: 90% (87 to 93%)\\n(11:00 am CET | Wedn...   \n",
       "\n",
       "                                          wind speed  \\\n",
       "8  2 m/s\\n(10:00 am CET | Wednesday, February 16,...   \n",
       "9  2 m/s\\n(11:00 am CET | Wednesday, February 16,...   \n",
       "\n",
       "                                Precipitation amount  \\\n",
       "8  rain\\n(10:00 am CET | Wednesday, February 16, ...   \n",
       "9  rain\\n(11:00 am CET | Wednesday, February 16, ...   \n",
       "\n",
       "                       Moon Phase calculator  \\\n",
       "8  | waxing gibbous moon\\n99.70% illuminated   \n",
       "9            | full moon\\n99.72% illuminated   \n",
       "\n",
       "                                        query  \n",
       "8  Moon Phase calculatorFebruary 16, 2022 10h  \n",
       "9  Moon Phase calculatorFebruary 16, 2022 11h  "
      ]
     },
     "metadata": {},
     "output_type": "display_data"
    },
    {
     "name": "stderr",
     "output_type": "stream",
     "text": [
      "\r",
      "  5%|███▉                                                                        | 221/4218 [53:22<15:07:42, 13.63s/it]"
     ]
    },
    {
     "name": "stdout",
     "output_type": "stream",
     "text": [
      "QUERY:  Precipitation amount in Zollikofen February 16, 2022 12h\n",
      "QUERY:  temperature in Zollikofen February 16, 2022 12h\n",
      "QUERY:  humidity in Zollikofen February 16, 2022 12h\n",
      "QUERY:  wind speed in Zollikofen February 16, 2022 12h\n",
      "QUERY:  Moon Phase calculatorFebruary 16, 2022 12h\n"
     ]
    },
    {
     "name": "stderr",
     "output_type": "stream",
     "text": [
      "\r",
      "  5%|████                                                                        | 222/4218 [53:36<15:05:37, 13.60s/it]"
     ]
    },
    {
     "name": "stdout",
     "output_type": "stream",
     "text": [
      "QUERY:  Precipitation amount in Zollikofen February 16, 2022 13h\n",
      "QUERY:  temperature in Zollikofen February 16, 2022 13h\n",
      "QUERY:  humidity in Zollikofen February 16, 2022 13h\n",
      "QUERY:  wind speed in Zollikofen February 16, 2022 13h\n",
      "QUERY:  Moon Phase calculatorFebruary 16, 2022 13h\n"
     ]
    },
    {
     "name": "stderr",
     "output_type": "stream",
     "text": [
      "\r",
      "  5%|████                                                                        | 223/4218 [53:49<15:02:10, 13.55s/it]"
     ]
    },
    {
     "name": "stdout",
     "output_type": "stream",
     "text": [
      "QUERY:  Precipitation amount in Zollikofen February 16, 2022 14h\n",
      "QUERY:  temperature in Zollikofen February 16, 2022 14h\n",
      "QUERY:  humidity in Zollikofen February 16, 2022 14h\n",
      "QUERY:  wind speed in Zollikofen February 16, 2022 14h\n",
      "QUERY:  Moon Phase calculatorFebruary 16, 2022 14h\n"
     ]
    },
    {
     "name": "stderr",
     "output_type": "stream",
     "text": [
      "\r",
      "  5%|████                                                                        | 224/4218 [54:03<15:17:05, 13.78s/it]"
     ]
    },
    {
     "name": "stdout",
     "output_type": "stream",
     "text": [
      "QUERY:  Precipitation amount in Zollikofen February 16, 2022 15h\n",
      "QUERY:  temperature in Zollikofen February 16, 2022 15h\n",
      "QUERY:  humidity in Zollikofen February 16, 2022 15h\n",
      "QUERY:  wind speed in Zollikofen February 16, 2022 15h\n",
      "QUERY:  Moon Phase calculatorFebruary 16, 2022 15h\n"
     ]
    },
    {
     "name": "stderr",
     "output_type": "stream",
     "text": [
      "\r",
      "  5%|████                                                                        | 225/4218 [54:17<15:19:23, 13.82s/it]"
     ]
    },
    {
     "name": "stdout",
     "output_type": "stream",
     "text": [
      "QUERY:  Precipitation amount in Zollikofen February 16, 2022 16h\n",
      "QUERY:  temperature in Zollikofen February 16, 2022 16h\n",
      "QUERY:  humidity in Zollikofen February 16, 2022 16h\n",
      "QUERY:  wind speed in Zollikofen February 16, 2022 16h\n",
      "QUERY:  Moon Phase calculatorFebruary 16, 2022 16h\n"
     ]
    },
    {
     "name": "stderr",
     "output_type": "stream",
     "text": [
      "\r",
      "  5%|████                                                                        | 226/4218 [54:31<15:14:16, 13.74s/it]"
     ]
    },
    {
     "name": "stdout",
     "output_type": "stream",
     "text": [
      "QUERY:  Precipitation amount in Zollikofen February 16, 2022 17h\n",
      "QUERY:  temperature in Zollikofen February 16, 2022 17h\n",
      "QUERY:  humidity in Zollikofen February 16, 2022 17h\n",
      "QUERY:  wind speed in Zollikofen February 16, 2022 17h\n",
      "QUERY:  Moon Phase calculatorFebruary 16, 2022 17h\n"
     ]
    },
    {
     "name": "stderr",
     "output_type": "stream",
     "text": [
      "\r",
      "  5%|████                                                                        | 227/4218 [54:45<15:13:10, 13.73s/it]"
     ]
    },
    {
     "name": "stdout",
     "output_type": "stream",
     "text": [
      "QUERY:  Precipitation amount in Zollikofen February 16, 2022 18h\n",
      "QUERY:  temperature in Zollikofen February 16, 2022 18h\n",
      "QUERY:  humidity in Zollikofen February 16, 2022 18h\n",
      "QUERY:  wind speed in Zollikofen February 16, 2022 18h\n",
      "QUERY:  Moon Phase calculatorFebruary 16, 2022 18h\n"
     ]
    },
    {
     "name": "stderr",
     "output_type": "stream",
     "text": [
      "\r",
      "  5%|████                                                                        | 228/4218 [54:59<15:33:28, 14.04s/it]"
     ]
    },
    {
     "name": "stdout",
     "output_type": "stream",
     "text": [
      "QUERY:  Precipitation amount in Zollikofen February 16, 2022 19h\n",
      "QUERY:  temperature in Zollikofen February 16, 2022 19h\n",
      "QUERY:  humidity in Zollikofen February 16, 2022 19h\n",
      "QUERY:  wind speed in Zollikofen February 16, 2022 19h\n",
      "QUERY:  Moon Phase calculatorFebruary 16, 2022 19h\n"
     ]
    },
    {
     "name": "stderr",
     "output_type": "stream",
     "text": [
      "\r",
      "  5%|████▏                                                                       | 229/4218 [55:13<15:33:22, 14.04s/it]"
     ]
    },
    {
     "name": "stdout",
     "output_type": "stream",
     "text": [
      "QUERY:  Precipitation amount in Zollikofen February 16, 2022 20h\n",
      "QUERY:  temperature in Zollikofen February 16, 2022 20h\n",
      "QUERY:  humidity in Zollikofen February 16, 2022 20h\n",
      "QUERY:  wind speed in Zollikofen February 16, 2022 20h\n",
      "QUERY:  Moon Phase calculatorFebruary 16, 2022 20h\n"
     ]
    },
    {
     "name": "stderr",
     "output_type": "stream",
     "text": [
      "\r",
      "  5%|████▏                                                                       | 230/4218 [55:27<15:32:39, 14.03s/it]"
     ]
    },
    {
     "name": "stdout",
     "output_type": "stream",
     "text": [
      "QUERY:  Precipitation amount in Zollikofen February 16, 2022 21h\n",
      "QUERY:  temperature in Zollikofen February 16, 2022 21h\n",
      "QUERY:  humidity in Zollikofen February 16, 2022 21h\n",
      "QUERY:  wind speed in Zollikofen February 16, 2022 21h\n",
      "QUERY:  Moon Phase calculatorFebruary 16, 2022 21h\n",
      "(3334, 7)\n"
     ]
    },
    {
     "data": {
      "text/html": [
       "<div>\n",
       "<style scoped>\n",
       "    .dataframe tbody tr th:only-of-type {\n",
       "        vertical-align: middle;\n",
       "    }\n",
       "\n",
       "    .dataframe tbody tr th {\n",
       "        vertical-align: top;\n",
       "    }\n",
       "\n",
       "    .dataframe thead th {\n",
       "        text-align: right;\n",
       "    }\n",
       "</style>\n",
       "<table border=\"1\" class=\"dataframe\">\n",
       "  <thead>\n",
       "    <tr style=\"text-align: right;\">\n",
       "      <th></th>\n",
       "      <th>date</th>\n",
       "      <th>temperature</th>\n",
       "      <th>humidity</th>\n",
       "      <th>wind speed</th>\n",
       "      <th>Precipitation amount</th>\n",
       "      <th>Moon Phase calculator</th>\n",
       "      <th>query</th>\n",
       "    </tr>\n",
       "  </thead>\n",
       "  <tbody>\n",
       "    <tr>\n",
       "      <th>8</th>\n",
       "      <td>2022-02-16 20:00:00</td>\n",
       "      <td>6 °C\\n(8:00 pm CET | Wednesday, February 16, 2...</td>\n",
       "      <td>average: 97% (93 to 100%)\\n(8:00 pm CET | Wedn...</td>\n",
       "      <td>3 m/s\\n(8:00 pm CET | Wednesday, February 16, ...</td>\n",
       "      <td>rain\\n(8:00 pm CET | Wednesday, February 16, 2...</td>\n",
       "      <td>| full moon\\n99.80% illuminated</td>\n",
       "      <td>Moon Phase calculatorFebruary 16, 2022 20h</td>\n",
       "    </tr>\n",
       "    <tr>\n",
       "      <th>9</th>\n",
       "      <td>2022-02-16 21:00:00</td>\n",
       "      <td>6 °C\\n(9:00 pm CET | Wednesday, February 16, 2...</td>\n",
       "      <td>average: 100% (100%)\\n(9:00 pm CET | Wednesday...</td>\n",
       "      <td>2 m/s\\n(9:00 pm CET | Wednesday, February 16, ...</td>\n",
       "      <td>rain\\n(9:00 pm CET | Wednesday, February 16, 2...</td>\n",
       "      <td>| full moon\\n99.79% illuminated</td>\n",
       "      <td>Moon Phase calculatorFebruary 16, 2022 21h</td>\n",
       "    </tr>\n",
       "  </tbody>\n",
       "</table>\n",
       "</div>"
      ],
      "text/plain": [
       "                 date                                        temperature  \\\n",
       "8 2022-02-16 20:00:00  6 °C\\n(8:00 pm CET | Wednesday, February 16, 2...   \n",
       "9 2022-02-16 21:00:00  6 °C\\n(9:00 pm CET | Wednesday, February 16, 2...   \n",
       "\n",
       "                                            humidity  \\\n",
       "8  average: 97% (93 to 100%)\\n(8:00 pm CET | Wedn...   \n",
       "9  average: 100% (100%)\\n(9:00 pm CET | Wednesday...   \n",
       "\n",
       "                                          wind speed  \\\n",
       "8  3 m/s\\n(8:00 pm CET | Wednesday, February 16, ...   \n",
       "9  2 m/s\\n(9:00 pm CET | Wednesday, February 16, ...   \n",
       "\n",
       "                                Precipitation amount  \\\n",
       "8  rain\\n(8:00 pm CET | Wednesday, February 16, 2...   \n",
       "9  rain\\n(9:00 pm CET | Wednesday, February 16, 2...   \n",
       "\n",
       "             Moon Phase calculator                                       query  \n",
       "8  | full moon\\n99.80% illuminated  Moon Phase calculatorFebruary 16, 2022 20h  \n",
       "9  | full moon\\n99.79% illuminated  Moon Phase calculatorFebruary 16, 2022 21h  "
      ]
     },
     "metadata": {},
     "output_type": "display_data"
    },
    {
     "name": "stderr",
     "output_type": "stream",
     "text": [
      "\r",
      "  5%|████▏                                                                       | 231/4218 [55:41<15:25:24, 13.93s/it]"
     ]
    },
    {
     "name": "stdout",
     "output_type": "stream",
     "text": [
      "QUERY:  Precipitation amount in Zollikofen February 16, 2022 22h\n",
      "QUERY:  temperature in Zollikofen February 16, 2022 22h\n",
      "QUERY:  humidity in Zollikofen February 16, 2022 22h\n",
      "QUERY:  wind speed in Zollikofen February 16, 2022 22h\n",
      "QUERY:  Moon Phase calculatorFebruary 16, 2022 22h\n"
     ]
    },
    {
     "name": "stderr",
     "output_type": "stream",
     "text": [
      "\r",
      "  6%|████▏                                                                       | 232/4218 [55:54<15:08:12, 13.67s/it]"
     ]
    },
    {
     "name": "stdout",
     "output_type": "stream",
     "text": [
      "QUERY:  Precipitation amount in Zollikofen February 16, 2022 23h\n",
      "QUERY:  temperature in Zollikofen February 16, 2022 23h\n",
      "QUERY:  humidity in Zollikofen February 16, 2022 23h\n",
      "QUERY:  wind speed in Zollikofen February 16, 2022 23h\n",
      "QUERY:  Moon Phase calculatorFebruary 16, 2022 23h\n"
     ]
    },
    {
     "name": "stderr",
     "output_type": "stream",
     "text": [
      "\r",
      "  6%|████▏                                                                       | 233/4218 [56:08<15:17:53, 13.82s/it]"
     ]
    },
    {
     "name": "stdout",
     "output_type": "stream",
     "text": [
      "QUERY:  Precipitation amount in Zollikofen February 17, 2022 0h\n",
      "QUERY:  temperature in Zollikofen February 17, 2022 0h\n",
      "QUERY:  humidity in Zollikofen February 17, 2022 0h\n",
      "QUERY:  wind speed in Zollikofen February 17, 2022 0h\n",
      "QUERY:  Moon Phase calculatorFebruary 17, 2022 0h\n"
     ]
    },
    {
     "name": "stderr",
     "output_type": "stream",
     "text": [
      "\r",
      "  6%|████▏                                                                       | 234/4218 [56:21<15:04:11, 13.62s/it]"
     ]
    },
    {
     "name": "stdout",
     "output_type": "stream",
     "text": [
      "QUERY:  Precipitation amount in Zollikofen February 17, 2022 1h\n",
      "QUERY:  temperature in Zollikofen February 17, 2022 1h\n",
      "QUERY:  humidity in Zollikofen February 17, 2022 1h\n",
      "QUERY:  wind speed in Zollikofen February 17, 2022 1h\n",
      "QUERY:  Moon Phase calculatorFebruary 17, 2022 1h\n"
     ]
    },
    {
     "name": "stderr",
     "output_type": "stream",
     "text": [
      "\r",
      "  6%|████▏                                                                       | 235/4218 [56:36<15:23:54, 13.92s/it]"
     ]
    },
    {
     "name": "stdout",
     "output_type": "stream",
     "text": [
      "QUERY:  Precipitation amount in Zollikofen February 17, 2022 2h\n",
      "QUERY:  temperature in Zollikofen February 17, 2022 2h\n",
      "QUERY:  humidity in Zollikofen February 17, 2022 2h\n",
      "QUERY:  wind speed in Zollikofen February 17, 2022 2h\n",
      "QUERY:  Moon Phase calculatorFebruary 17, 2022 2h\n"
     ]
    },
    {
     "name": "stderr",
     "output_type": "stream",
     "text": [
      "\r",
      "  6%|████▎                                                                       | 236/4218 [56:50<15:28:17, 13.99s/it]"
     ]
    },
    {
     "name": "stdout",
     "output_type": "stream",
     "text": [
      "QUERY:  Precipitation amount in Zollikofen February 17, 2022 3h\n",
      "QUERY:  temperature in Zollikofen February 17, 2022 3h\n",
      "QUERY:  humidity in Zollikofen February 17, 2022 3h\n",
      "QUERY:  wind speed in Zollikofen February 17, 2022 3h\n",
      "QUERY:  Moon Phase calculatorFebruary 17, 2022 3h\n"
     ]
    },
    {
     "name": "stderr",
     "output_type": "stream",
     "text": [
      "\r",
      "  6%|████▎                                                                       | 237/4218 [57:07<16:26:28, 14.87s/it]"
     ]
    },
    {
     "name": "stdout",
     "output_type": "stream",
     "text": [
      "QUERY:  Precipitation amount in Zollikofen February 17, 2022 4h\n",
      "QUERY:  temperature in Zollikofen February 17, 2022 4h\n",
      "QUERY:  humidity in Zollikofen February 17, 2022 4h\n",
      "QUERY:  wind speed in Zollikofen February 17, 2022 4h\n",
      "QUERY:  Moon Phase calculatorFebruary 17, 2022 4h\n"
     ]
    },
    {
     "name": "stderr",
     "output_type": "stream",
     "text": [
      "\r",
      "  6%|████▎                                                                       | 238/4218 [57:21<16:13:10, 14.67s/it]"
     ]
    },
    {
     "name": "stdout",
     "output_type": "stream",
     "text": [
      "QUERY:  Precipitation amount in Zollikofen February 17, 2022 5h\n",
      "QUERY:  temperature in Zollikofen February 17, 2022 5h\n",
      "QUERY:  humidity in Zollikofen February 17, 2022 5h\n",
      "QUERY:  wind speed in Zollikofen February 17, 2022 5h\n",
      "QUERY:  Moon Phase calculatorFebruary 17, 2022 5h\n"
     ]
    },
    {
     "name": "stderr",
     "output_type": "stream",
     "text": [
      "\r",
      "  6%|████▎                                                                       | 239/4218 [57:35<15:59:11, 14.46s/it]"
     ]
    },
    {
     "name": "stdout",
     "output_type": "stream",
     "text": [
      "QUERY:  Precipitation amount in Zollikofen February 17, 2022 6h\n",
      "QUERY:  temperature in Zollikofen February 17, 2022 6h\n",
      "QUERY:  humidity in Zollikofen February 17, 2022 6h\n",
      "QUERY:  wind speed in Zollikofen February 17, 2022 6h\n",
      "QUERY:  Moon Phase calculatorFebruary 17, 2022 6h\n"
     ]
    },
    {
     "name": "stderr",
     "output_type": "stream",
     "text": [
      "\r",
      "  6%|████▎                                                                       | 240/4218 [57:50<16:09:36, 14.62s/it]"
     ]
    },
    {
     "name": "stdout",
     "output_type": "stream",
     "text": [
      "QUERY:  Precipitation amount in Zollikofen February 17, 2022 7h\n",
      "QUERY:  temperature in Zollikofen February 17, 2022 7h\n",
      "QUERY:  humidity in Zollikofen February 17, 2022 7h\n",
      "QUERY:  wind speed in Zollikofen February 17, 2022 7h\n",
      "QUERY:  Moon Phase calculatorFebruary 17, 2022 7h\n",
      "(3344, 7)\n"
     ]
    },
    {
     "data": {
      "text/html": [
       "<div>\n",
       "<style scoped>\n",
       "    .dataframe tbody tr th:only-of-type {\n",
       "        vertical-align: middle;\n",
       "    }\n",
       "\n",
       "    .dataframe tbody tr th {\n",
       "        vertical-align: top;\n",
       "    }\n",
       "\n",
       "    .dataframe thead th {\n",
       "        text-align: right;\n",
       "    }\n",
       "</style>\n",
       "<table border=\"1\" class=\"dataframe\">\n",
       "  <thead>\n",
       "    <tr style=\"text-align: right;\">\n",
       "      <th></th>\n",
       "      <th>date</th>\n",
       "      <th>temperature</th>\n",
       "      <th>humidity</th>\n",
       "      <th>wind speed</th>\n",
       "      <th>Precipitation amount</th>\n",
       "      <th>Moon Phase calculator</th>\n",
       "      <th>query</th>\n",
       "    </tr>\n",
       "  </thead>\n",
       "  <tbody>\n",
       "    <tr>\n",
       "      <th>8</th>\n",
       "      <td>2022-02-17 06:00:00</td>\n",
       "      <td>10 °C\\n(6:00 am CET | Thursday, February 17, 2...</td>\n",
       "      <td>average: 67% (67%)\\n(6:00 am CET | Thursday, F...</td>\n",
       "      <td>5 m/s\\n(6:00 am CET | Thursday, February 17, 2...</td>\n",
       "      <td>no precipitation\\n(6:00 am CET | Thursday, Feb...</td>\n",
       "      <td>| waning gibbous moon\\n99.55% illuminated</td>\n",
       "      <td>Moon Phase calculatorFebruary 17, 2022 6h</td>\n",
       "    </tr>\n",
       "    <tr>\n",
       "      <th>9</th>\n",
       "      <td>2022-02-17 07:00:00</td>\n",
       "      <td>11 °C\\n(7:00 am CET | Thursday, February 17, 2...</td>\n",
       "      <td>average: 65% (62 to 67%)\\n(7:00 am CET | Thurs...</td>\n",
       "      <td>7 m/s\\n(7:00 am CET | Thursday, February 17, 2...</td>\n",
       "      <td>no precipitation\\n(7:00 am CET | Thursday, Feb...</td>\n",
       "      <td>| waning gibbous moon\\n99.50% illuminated</td>\n",
       "      <td>Moon Phase calculatorFebruary 17, 2022 7h</td>\n",
       "    </tr>\n",
       "  </tbody>\n",
       "</table>\n",
       "</div>"
      ],
      "text/plain": [
       "                 date                                        temperature  \\\n",
       "8 2022-02-17 06:00:00  10 °C\\n(6:00 am CET | Thursday, February 17, 2...   \n",
       "9 2022-02-17 07:00:00  11 °C\\n(7:00 am CET | Thursday, February 17, 2...   \n",
       "\n",
       "                                            humidity  \\\n",
       "8  average: 67% (67%)\\n(6:00 am CET | Thursday, F...   \n",
       "9  average: 65% (62 to 67%)\\n(7:00 am CET | Thurs...   \n",
       "\n",
       "                                          wind speed  \\\n",
       "8  5 m/s\\n(6:00 am CET | Thursday, February 17, 2...   \n",
       "9  7 m/s\\n(7:00 am CET | Thursday, February 17, 2...   \n",
       "\n",
       "                                Precipitation amount  \\\n",
       "8  no precipitation\\n(6:00 am CET | Thursday, Feb...   \n",
       "9  no precipitation\\n(7:00 am CET | Thursday, Feb...   \n",
       "\n",
       "                       Moon Phase calculator  \\\n",
       "8  | waning gibbous moon\\n99.55% illuminated   \n",
       "9  | waning gibbous moon\\n99.50% illuminated   \n",
       "\n",
       "                                       query  \n",
       "8  Moon Phase calculatorFebruary 17, 2022 6h  \n",
       "9  Moon Phase calculatorFebruary 17, 2022 7h  "
      ]
     },
     "metadata": {},
     "output_type": "display_data"
    },
    {
     "name": "stderr",
     "output_type": "stream",
     "text": [
      "\r",
      "  6%|████▎                                                                       | 241/4218 [58:04<15:45:45, 14.27s/it]"
     ]
    },
    {
     "name": "stdout",
     "output_type": "stream",
     "text": [
      "QUERY:  Precipitation amount in Zollikofen February 17, 2022 8h\n",
      "QUERY:  temperature in Zollikofen February 17, 2022 8h\n",
      "QUERY:  humidity in Zollikofen February 17, 2022 8h\n",
      "QUERY:  wind speed in Zollikofen February 17, 2022 8h\n",
      "QUERY:  Moon Phase calculatorFebruary 17, 2022 8h\n"
     ]
    },
    {
     "name": "stderr",
     "output_type": "stream",
     "text": [
      "\r",
      "  6%|████▎                                                                       | 242/4218 [58:17<15:25:13, 13.96s/it]"
     ]
    },
    {
     "name": "stdout",
     "output_type": "stream",
     "text": [
      "QUERY:  Precipitation amount in Zollikofen February 17, 2022 9h\n",
      "QUERY:  temperature in Zollikofen February 17, 2022 9h\n",
      "QUERY:  humidity in Zollikofen February 17, 2022 9h\n",
      "QUERY:  wind speed in Zollikofen February 17, 2022 9h\n",
      "QUERY:  Moon Phase calculatorFebruary 17, 2022 9h\n"
     ]
    },
    {
     "name": "stderr",
     "output_type": "stream",
     "text": [
      "\r",
      "  6%|████▍                                                                       | 243/4218 [58:31<15:25:12, 13.97s/it]"
     ]
    },
    {
     "name": "stdout",
     "output_type": "stream",
     "text": [
      "QUERY:  Precipitation amount in Zollikofen February 17, 2022 10h\n",
      "QUERY:  temperature in Zollikofen February 17, 2022 10h\n",
      "QUERY:  humidity in Zollikofen February 17, 2022 10h\n",
      "QUERY:  wind speed in Zollikofen February 17, 2022 10h\n",
      "QUERY:  Moon Phase calculatorFebruary 17, 2022 10h\n"
     ]
    },
    {
     "name": "stderr",
     "output_type": "stream",
     "text": [
      "\r",
      "  6%|████▍                                                                       | 244/4218 [58:47<16:01:45, 14.52s/it]"
     ]
    },
    {
     "name": "stdout",
     "output_type": "stream",
     "text": [
      "QUERY:  Precipitation amount in Zollikofen February 17, 2022 11h\n",
      "QUERY:  temperature in Zollikofen February 17, 2022 11h\n",
      "QUERY:  humidity in Zollikofen February 17, 2022 11h\n",
      "QUERY:  wind speed in Zollikofen February 17, 2022 11h\n",
      "QUERY:  Moon Phase calculatorFebruary 17, 2022 11h\n"
     ]
    },
    {
     "name": "stderr",
     "output_type": "stream",
     "text": [
      "\r",
      "  6%|████▍                                                                       | 245/4218 [59:00<15:40:31, 14.20s/it]"
     ]
    },
    {
     "name": "stdout",
     "output_type": "stream",
     "text": [
      "QUERY:  Precipitation amount in Zollikofen February 17, 2022 12h\n",
      "QUERY:  temperature in Zollikofen February 17, 2022 12h\n",
      "QUERY:  humidity in Zollikofen February 17, 2022 12h\n",
      "QUERY:  wind speed in Zollikofen February 17, 2022 12h\n",
      "QUERY:  Moon Phase calculatorFebruary 17, 2022 12h\n"
     ]
    },
    {
     "name": "stderr",
     "output_type": "stream",
     "text": [
      "\r",
      "  6%|████▍                                                                       | 246/4218 [59:14<15:27:54, 14.02s/it]"
     ]
    },
    {
     "name": "stdout",
     "output_type": "stream",
     "text": [
      "QUERY:  Precipitation amount in Zollikofen February 17, 2022 13h\n",
      "QUERY:  temperature in Zollikofen February 17, 2022 13h\n",
      "QUERY:  humidity in Zollikofen February 17, 2022 13h\n",
      "QUERY:  wind speed in Zollikofen February 17, 2022 13h\n",
      "QUERY:  Moon Phase calculatorFebruary 17, 2022 13h\n"
     ]
    },
    {
     "name": "stderr",
     "output_type": "stream",
     "text": [
      "\r",
      "  6%|████▍                                                                       | 247/4218 [59:28<15:21:59, 13.93s/it]"
     ]
    },
    {
     "name": "stdout",
     "output_type": "stream",
     "text": [
      "QUERY:  Precipitation amount in Zollikofen February 17, 2022 14h\n",
      "QUERY:  temperature in Zollikofen February 17, 2022 14h\n",
      "QUERY:  humidity in Zollikofen February 17, 2022 14h\n",
      "QUERY:  wind speed in Zollikofen February 17, 2022 14h\n",
      "QUERY:  Moon Phase calculatorFebruary 17, 2022 14h\n"
     ]
    },
    {
     "name": "stderr",
     "output_type": "stream",
     "text": [
      "\r",
      "  6%|████▍                                                                       | 248/4218 [59:41<15:06:12, 13.70s/it]"
     ]
    },
    {
     "name": "stdout",
     "output_type": "stream",
     "text": [
      "QUERY:  Precipitation amount in Zollikofen February 17, 2022 15h\n",
      "QUERY:  temperature in Zollikofen February 17, 2022 15h\n",
      "QUERY:  humidity in Zollikofen February 17, 2022 15h\n",
      "QUERY:  wind speed in Zollikofen February 17, 2022 15h\n",
      "QUERY:  Moon Phase calculatorFebruary 17, 2022 15h\n"
     ]
    },
    {
     "name": "stderr",
     "output_type": "stream",
     "text": [
      "\r",
      "  6%|████▍                                                                       | 249/4218 [59:55<15:06:33, 13.70s/it]"
     ]
    },
    {
     "name": "stdout",
     "output_type": "stream",
     "text": [
      "QUERY:  Precipitation amount in Zollikofen February 17, 2022 16h\n",
      "QUERY:  temperature in Zollikofen February 17, 2022 16h\n",
      "QUERY:  humidity in Zollikofen February 17, 2022 16h\n",
      "QUERY:  wind speed in Zollikofen February 17, 2022 16h\n",
      "QUERY:  Moon Phase calculatorFebruary 17, 2022 16h\n"
     ]
    },
    {
     "name": "stderr",
     "output_type": "stream",
     "text": [
      "\r",
      "  6%|████▍                                                                     | 250/4218 [1:00:10<15:38:49, 14.20s/it]"
     ]
    },
    {
     "name": "stdout",
     "output_type": "stream",
     "text": [
      "QUERY:  Precipitation amount in Zollikofen February 17, 2022 17h\n",
      "QUERY:  temperature in Zollikofen February 17, 2022 17h\n",
      "QUERY:  humidity in Zollikofen February 17, 2022 17h\n",
      "QUERY:  wind speed in Zollikofen February 17, 2022 17h\n",
      "QUERY:  Moon Phase calculatorFebruary 17, 2022 17h\n",
      "(3354, 7)\n"
     ]
    },
    {
     "data": {
      "text/html": [
       "<div>\n",
       "<style scoped>\n",
       "    .dataframe tbody tr th:only-of-type {\n",
       "        vertical-align: middle;\n",
       "    }\n",
       "\n",
       "    .dataframe tbody tr th {\n",
       "        vertical-align: top;\n",
       "    }\n",
       "\n",
       "    .dataframe thead th {\n",
       "        text-align: right;\n",
       "    }\n",
       "</style>\n",
       "<table border=\"1\" class=\"dataframe\">\n",
       "  <thead>\n",
       "    <tr style=\"text-align: right;\">\n",
       "      <th></th>\n",
       "      <th>date</th>\n",
       "      <th>temperature</th>\n",
       "      <th>humidity</th>\n",
       "      <th>wind speed</th>\n",
       "      <th>Precipitation amount</th>\n",
       "      <th>Moon Phase calculator</th>\n",
       "      <th>query</th>\n",
       "    </tr>\n",
       "  </thead>\n",
       "  <tbody>\n",
       "    <tr>\n",
       "      <th>8</th>\n",
       "      <td>2022-02-17 16:00:00</td>\n",
       "      <td>11 °C\\n(4:00 pm CET | Thursday, February 17, 2...</td>\n",
       "      <td>average: 64% (62 to 66%)\\n(4:00 pm CET | Thurs...</td>\n",
       "      <td>5 m/s\\n(4:00 pm CET | Thursday, February 17, 2...</td>\n",
       "      <td>no precipitation\\n(4:00 pm CET | Thursday, Feb...</td>\n",
       "      <td>| waning gibbous moon\\n98.92% illuminated</td>\n",
       "      <td>Moon Phase calculatorFebruary 17, 2022 16h</td>\n",
       "    </tr>\n",
       "    <tr>\n",
       "      <th>9</th>\n",
       "      <td>2022-02-17 17:00:00</td>\n",
       "      <td>10 °C\\n(5:00 pm CET | Thursday, February 17, 2...</td>\n",
       "      <td>average: 60% (58 to 62%)\\n(5:00 pm CET | Thurs...</td>\n",
       "      <td>4 m/s\\n(5:00 pm CET | Thursday, February 17, 2...</td>\n",
       "      <td>no precipitation\\n(5:00 pm CET | Thursday, Feb...</td>\n",
       "      <td>| waning gibbous moon\\n98.84% illuminated</td>\n",
       "      <td>Moon Phase calculatorFebruary 17, 2022 17h</td>\n",
       "    </tr>\n",
       "  </tbody>\n",
       "</table>\n",
       "</div>"
      ],
      "text/plain": [
       "                 date                                        temperature  \\\n",
       "8 2022-02-17 16:00:00  11 °C\\n(4:00 pm CET | Thursday, February 17, 2...   \n",
       "9 2022-02-17 17:00:00  10 °C\\n(5:00 pm CET | Thursday, February 17, 2...   \n",
       "\n",
       "                                            humidity  \\\n",
       "8  average: 64% (62 to 66%)\\n(4:00 pm CET | Thurs...   \n",
       "9  average: 60% (58 to 62%)\\n(5:00 pm CET | Thurs...   \n",
       "\n",
       "                                          wind speed  \\\n",
       "8  5 m/s\\n(4:00 pm CET | Thursday, February 17, 2...   \n",
       "9  4 m/s\\n(5:00 pm CET | Thursday, February 17, 2...   \n",
       "\n",
       "                                Precipitation amount  \\\n",
       "8  no precipitation\\n(4:00 pm CET | Thursday, Feb...   \n",
       "9  no precipitation\\n(5:00 pm CET | Thursday, Feb...   \n",
       "\n",
       "                       Moon Phase calculator  \\\n",
       "8  | waning gibbous moon\\n98.92% illuminated   \n",
       "9  | waning gibbous moon\\n98.84% illuminated   \n",
       "\n",
       "                                        query  \n",
       "8  Moon Phase calculatorFebruary 17, 2022 16h  \n",
       "9  Moon Phase calculatorFebruary 17, 2022 17h  "
      ]
     },
     "metadata": {},
     "output_type": "display_data"
    },
    {
     "name": "stderr",
     "output_type": "stream",
     "text": [
      "\r",
      "  6%|████▍                                                                     | 251/4218 [1:00:23<15:21:42, 13.94s/it]"
     ]
    },
    {
     "name": "stdout",
     "output_type": "stream",
     "text": [
      "QUERY:  Precipitation amount in Zollikofen February 17, 2022 18h\n",
      "QUERY:  temperature in Zollikofen February 17, 2022 18h\n",
      "QUERY:  humidity in Zollikofen February 17, 2022 18h\n",
      "QUERY:  wind speed in Zollikofen February 17, 2022 18h\n",
      "QUERY:  Moon Phase calculatorFebruary 17, 2022 18h\n"
     ]
    },
    {
     "name": "stderr",
     "output_type": "stream",
     "text": [
      "\r",
      "  6%|████▍                                                                     | 252/4218 [1:00:37<15:10:57, 13.78s/it]"
     ]
    },
    {
     "name": "stdout",
     "output_type": "stream",
     "text": [
      "QUERY:  Precipitation amount in Zollikofen February 17, 2022 19h\n",
      "QUERY:  temperature in Zollikofen February 17, 2022 19h\n",
      "QUERY:  humidity in Zollikofen February 17, 2022 19h\n",
      "QUERY:  wind speed in Zollikofen February 17, 2022 19h\n",
      "QUERY:  Moon Phase calculatorFebruary 17, 2022 19h\n"
     ]
    },
    {
     "name": "stderr",
     "output_type": "stream",
     "text": [
      "\r",
      "  6%|████▍                                                                     | 253/4218 [1:00:50<15:03:46, 13.68s/it]"
     ]
    },
    {
     "name": "stdout",
     "output_type": "stream",
     "text": [
      "QUERY:  Precipitation amount in Zollikofen February 17, 2022 20h\n",
      "QUERY:  temperature in Zollikofen February 17, 2022 20h\n",
      "QUERY:  humidity in Zollikofen February 17, 2022 20h\n",
      "QUERY:  wind speed in Zollikofen February 17, 2022 20h\n",
      "QUERY:  Moon Phase calculatorFebruary 17, 2022 20h\n"
     ]
    },
    {
     "name": "stderr",
     "output_type": "stream",
     "text": [
      "\r",
      "  6%|████▍                                                                     | 254/4218 [1:01:06<15:43:43, 14.28s/it]"
     ]
    },
    {
     "name": "stdout",
     "output_type": "stream",
     "text": [
      "QUERY:  Precipitation amount in Zollikofen February 17, 2022 21h\n",
      "QUERY:  temperature in Zollikofen February 17, 2022 21h\n",
      "QUERY:  humidity in Zollikofen February 17, 2022 21h\n",
      "QUERY:  wind speed in Zollikofen February 17, 2022 21h\n",
      "QUERY:  Moon Phase calculatorFebruary 17, 2022 21h\n"
     ]
    },
    {
     "name": "stderr",
     "output_type": "stream",
     "text": [
      "\r",
      "  6%|████▍                                                                     | 255/4218 [1:01:19<15:26:12, 14.02s/it]"
     ]
    },
    {
     "name": "stdout",
     "output_type": "stream",
     "text": [
      "QUERY:  Precipitation amount in Zollikofen February 17, 2022 22h\n",
      "QUERY:  temperature in Zollikofen February 17, 2022 22h\n",
      "QUERY:  humidity in Zollikofen February 17, 2022 22h\n",
      "QUERY:  wind speed in Zollikofen February 17, 2022 22h\n",
      "QUERY:  Moon Phase calculatorFebruary 17, 2022 22h\n"
     ]
    },
    {
     "name": "stderr",
     "output_type": "stream",
     "text": [
      "\r",
      "  6%|████▍                                                                     | 256/4218 [1:01:33<15:17:58, 13.90s/it]"
     ]
    },
    {
     "name": "stdout",
     "output_type": "stream",
     "text": [
      "QUERY:  Precipitation amount in Zollikofen February 17, 2022 23h\n",
      "QUERY:  temperature in Zollikofen February 17, 2022 23h\n",
      "QUERY:  humidity in Zollikofen February 17, 2022 23h\n",
      "QUERY:  wind speed in Zollikofen February 17, 2022 23h\n",
      "QUERY:  Moon Phase calculatorFebruary 17, 2022 23h\n"
     ]
    },
    {
     "name": "stderr",
     "output_type": "stream",
     "text": [
      "\r",
      "  6%|████▌                                                                     | 257/4218 [1:01:46<15:12:18, 13.82s/it]"
     ]
    },
    {
     "name": "stdout",
     "output_type": "stream",
     "text": [
      "QUERY:  Precipitation amount in Zollikofen February 18, 2022 0h\n",
      "QUERY:  temperature in Zollikofen February 18, 2022 0h\n",
      "QUERY:  humidity in Zollikofen February 18, 2022 0h\n",
      "QUERY:  wind speed in Zollikofen February 18, 2022 0h\n",
      "QUERY:  Moon Phase calculatorFebruary 18, 2022 0h\n"
     ]
    },
    {
     "name": "stderr",
     "output_type": "stream",
     "text": [
      "\r",
      "  6%|████▌                                                                     | 258/4218 [1:02:03<15:59:08, 14.53s/it]"
     ]
    },
    {
     "name": "stdout",
     "output_type": "stream",
     "text": [
      "QUERY:  Precipitation amount in Zollikofen February 18, 2022 1h\n",
      "QUERY:  temperature in Zollikofen February 18, 2022 1h\n",
      "QUERY:  humidity in Zollikofen February 18, 2022 1h\n",
      "QUERY:  wind speed in Zollikofen February 18, 2022 1h\n",
      "QUERY:  Moon Phase calculatorFebruary 18, 2022 1h\n"
     ]
    },
    {
     "name": "stderr",
     "output_type": "stream",
     "text": [
      "\r",
      "  6%|████▌                                                                     | 259/4218 [1:02:16<15:41:37, 14.27s/it]"
     ]
    },
    {
     "name": "stdout",
     "output_type": "stream",
     "text": [
      "QUERY:  Precipitation amount in Zollikofen February 18, 2022 2h\n",
      "QUERY:  temperature in Zollikofen February 18, 2022 2h\n",
      "QUERY:  humidity in Zollikofen February 18, 2022 2h\n",
      "QUERY:  wind speed in Zollikofen February 18, 2022 2h\n",
      "QUERY:  Moon Phase calculatorFebruary 18, 2022 2h\n"
     ]
    },
    {
     "name": "stderr",
     "output_type": "stream",
     "text": [
      "\r",
      "  6%|████▌                                                                     | 260/4218 [1:02:30<15:31:37, 14.12s/it]"
     ]
    },
    {
     "name": "stdout",
     "output_type": "stream",
     "text": [
      "QUERY:  Precipitation amount in Zollikofen February 18, 2022 3h\n",
      "QUERY:  temperature in Zollikofen February 18, 2022 3h\n",
      "QUERY:  humidity in Zollikofen February 18, 2022 3h\n",
      "QUERY:  wind speed in Zollikofen February 18, 2022 3h\n",
      "QUERY:  Moon Phase calculatorFebruary 18, 2022 3h\n",
      "(3364, 7)\n"
     ]
    },
    {
     "data": {
      "text/html": [
       "<div>\n",
       "<style scoped>\n",
       "    .dataframe tbody tr th:only-of-type {\n",
       "        vertical-align: middle;\n",
       "    }\n",
       "\n",
       "    .dataframe tbody tr th {\n",
       "        vertical-align: top;\n",
       "    }\n",
       "\n",
       "    .dataframe thead th {\n",
       "        text-align: right;\n",
       "    }\n",
       "</style>\n",
       "<table border=\"1\" class=\"dataframe\">\n",
       "  <thead>\n",
       "    <tr style=\"text-align: right;\">\n",
       "      <th></th>\n",
       "      <th>date</th>\n",
       "      <th>temperature</th>\n",
       "      <th>humidity</th>\n",
       "      <th>wind speed</th>\n",
       "      <th>Precipitation amount</th>\n",
       "      <th>Moon Phase calculator</th>\n",
       "      <th>query</th>\n",
       "    </tr>\n",
       "  </thead>\n",
       "  <tbody>\n",
       "    <tr>\n",
       "      <th>8</th>\n",
       "      <td>2022-02-18 02:00:00</td>\n",
       "      <td>8 °C\\n(2:00 am CET | Friday, February 18, 2022)</td>\n",
       "      <td>average: 75% (75%)\\n(2:00 am CET | Friday, Feb...</td>\n",
       "      <td>1 m/s\\n(2:00 am CET | Friday, February 18, 2022)</td>\n",
       "      <td>no precipitation\\n(2:00 am CET | Friday, Febru...</td>\n",
       "      <td>| waning gibbous moon\\n97.93% illuminated</td>\n",
       "      <td>Moon Phase calculatorFebruary 18, 2022 2h</td>\n",
       "    </tr>\n",
       "    <tr>\n",
       "      <th>9</th>\n",
       "      <td>2022-02-18 03:00:00</td>\n",
       "      <td>7 °C\\n(3:00 am CET | Friday, February 18, 2022)</td>\n",
       "      <td>average: 76% (70 to 81%)\\n(3:00 am CET | Frida...</td>\n",
       "      <td>2 m/s\\n(3:00 am CET | Friday, February 18, 2022)</td>\n",
       "      <td>no precipitation\\n(3:00 am CET | Friday, Febru...</td>\n",
       "      <td>| waning gibbous moon\\n97.81% illuminated</td>\n",
       "      <td>Moon Phase calculatorFebruary 18, 2022 3h</td>\n",
       "    </tr>\n",
       "  </tbody>\n",
       "</table>\n",
       "</div>"
      ],
      "text/plain": [
       "                 date                                      temperature  \\\n",
       "8 2022-02-18 02:00:00  8 °C\\n(2:00 am CET | Friday, February 18, 2022)   \n",
       "9 2022-02-18 03:00:00  7 °C\\n(3:00 am CET | Friday, February 18, 2022)   \n",
       "\n",
       "                                            humidity  \\\n",
       "8  average: 75% (75%)\\n(2:00 am CET | Friday, Feb...   \n",
       "9  average: 76% (70 to 81%)\\n(3:00 am CET | Frida...   \n",
       "\n",
       "                                         wind speed  \\\n",
       "8  1 m/s\\n(2:00 am CET | Friday, February 18, 2022)   \n",
       "9  2 m/s\\n(3:00 am CET | Friday, February 18, 2022)   \n",
       "\n",
       "                                Precipitation amount  \\\n",
       "8  no precipitation\\n(2:00 am CET | Friday, Febru...   \n",
       "9  no precipitation\\n(3:00 am CET | Friday, Febru...   \n",
       "\n",
       "                       Moon Phase calculator  \\\n",
       "8  | waning gibbous moon\\n97.93% illuminated   \n",
       "9  | waning gibbous moon\\n97.81% illuminated   \n",
       "\n",
       "                                       query  \n",
       "8  Moon Phase calculatorFebruary 18, 2022 2h  \n",
       "9  Moon Phase calculatorFebruary 18, 2022 3h  "
      ]
     },
     "metadata": {},
     "output_type": "display_data"
    },
    {
     "name": "stderr",
     "output_type": "stream",
     "text": [
      "\r",
      "  6%|████▌                                                                     | 261/4218 [1:02:43<15:09:55, 13.80s/it]"
     ]
    },
    {
     "name": "stdout",
     "output_type": "stream",
     "text": [
      "QUERY:  Precipitation amount in Zollikofen February 18, 2022 4h\n",
      "QUERY:  temperature in Zollikofen February 18, 2022 4h\n",
      "QUERY:  humidity in Zollikofen February 18, 2022 4h\n",
      "QUERY:  wind speed in Zollikofen February 18, 2022 4h\n",
      "QUERY:  Moon Phase calculatorFebruary 18, 2022 4h\n"
     ]
    },
    {
     "name": "stderr",
     "output_type": "stream",
     "text": [
      "\r",
      "  6%|████▌                                                                     | 262/4218 [1:02:56<14:56:46, 13.60s/it]"
     ]
    },
    {
     "name": "stdout",
     "output_type": "stream",
     "text": [
      "QUERY:  Precipitation amount in Zollikofen February 18, 2022 5h\n",
      "QUERY:  temperature in Zollikofen February 18, 2022 5h\n",
      "QUERY:  humidity in Zollikofen February 18, 2022 5h\n",
      "QUERY:  wind speed in Zollikofen February 18, 2022 5h\n",
      "QUERY:  Moon Phase calculatorFebruary 18, 2022 5h\n"
     ]
    },
    {
     "name": "stderr",
     "output_type": "stream",
     "text": [
      "\r",
      "  6%|████▌                                                                     | 263/4218 [1:03:12<15:34:26, 14.18s/it]"
     ]
    },
    {
     "name": "stdout",
     "output_type": "stream",
     "text": [
      "QUERY:  Precipitation amount in Zollikofen February 18, 2022 6h\n",
      "QUERY:  temperature in Zollikofen February 18, 2022 6h\n",
      "QUERY:  humidity in Zollikofen February 18, 2022 6h\n",
      "QUERY:  wind speed in Zollikofen February 18, 2022 6h\n",
      "QUERY:  Moon Phase calculatorFebruary 18, 2022 6h\n"
     ]
    },
    {
     "name": "stderr",
     "output_type": "stream",
     "text": [
      "\r",
      "  6%|████▋                                                                     | 264/4218 [1:03:25<15:11:17, 13.83s/it]"
     ]
    },
    {
     "name": "stdout",
     "output_type": "stream",
     "text": [
      "QUERY:  Precipitation amount in Zollikofen February 18, 2022 7h\n",
      "QUERY:  temperature in Zollikofen February 18, 2022 7h\n",
      "QUERY:  humidity in Zollikofen February 18, 2022 7h\n",
      "QUERY:  wind speed in Zollikofen February 18, 2022 7h\n",
      "QUERY:  Moon Phase calculatorFebruary 18, 2022 7h\n"
     ]
    },
    {
     "name": "stderr",
     "output_type": "stream",
     "text": [
      "\r",
      "  6%|████▋                                                                     | 265/4218 [1:03:38<15:06:09, 13.75s/it]"
     ]
    },
    {
     "name": "stdout",
     "output_type": "stream",
     "text": [
      "QUERY:  Precipitation amount in Zollikofen February 18, 2022 8h\n",
      "QUERY:  temperature in Zollikofen February 18, 2022 8h\n",
      "QUERY:  humidity in Zollikofen February 18, 2022 8h\n",
      "QUERY:  wind speed in Zollikofen February 18, 2022 8h\n",
      "QUERY:  Moon Phase calculatorFebruary 18, 2022 8h\n"
     ]
    },
    {
     "name": "stderr",
     "output_type": "stream",
     "text": [
      "\r",
      "  6%|████▋                                                                     | 266/4218 [1:03:52<15:09:55, 13.81s/it]"
     ]
    },
    {
     "name": "stdout",
     "output_type": "stream",
     "text": [
      "QUERY:  Precipitation amount in Zollikofen February 18, 2022 9h\n",
      "QUERY:  temperature in Zollikofen February 18, 2022 9h\n",
      "QUERY:  humidity in Zollikofen February 18, 2022 9h\n",
      "QUERY:  wind speed in Zollikofen February 18, 2022 9h\n",
      "QUERY:  Moon Phase calculatorFebruary 18, 2022 9h\n"
     ]
    },
    {
     "name": "stderr",
     "output_type": "stream",
     "text": [
      "\r",
      "  6%|████▋                                                                     | 267/4218 [1:04:06<15:15:05, 13.90s/it]"
     ]
    },
    {
     "name": "stdout",
     "output_type": "stream",
     "text": [
      "QUERY:  Precipitation amount in Zollikofen February 18, 2022 10h\n",
      "QUERY:  temperature in Zollikofen February 18, 2022 10h\n",
      "QUERY:  humidity in Zollikofen February 18, 2022 10h\n",
      "QUERY:  wind speed in Zollikofen February 18, 2022 10h\n",
      "QUERY:  Moon Phase calculatorFebruary 18, 2022 10h\n"
     ]
    },
    {
     "name": "stderr",
     "output_type": "stream",
     "text": [
      "\r",
      "  6%|████▋                                                                     | 268/4218 [1:04:20<15:10:11, 13.83s/it]"
     ]
    },
    {
     "name": "stdout",
     "output_type": "stream",
     "text": [
      "QUERY:  Precipitation amount in Zollikofen February 18, 2022 11h\n",
      "QUERY:  temperature in Zollikofen February 18, 2022 11h\n",
      "QUERY:  humidity in Zollikofen February 18, 2022 11h\n",
      "QUERY:  wind speed in Zollikofen February 18, 2022 11h\n",
      "QUERY:  Moon Phase calculatorFebruary 18, 2022 11h\n"
     ]
    },
    {
     "name": "stderr",
     "output_type": "stream",
     "text": [
      "\r",
      "  6%|████▋                                                                     | 269/4218 [1:04:33<15:01:06, 13.69s/it]"
     ]
    },
    {
     "name": "stdout",
     "output_type": "stream",
     "text": [
      "QUERY:  Precipitation amount in Zollikofen February 18, 2022 12h\n",
      "QUERY:  temperature in Zollikofen February 18, 2022 12h\n",
      "QUERY:  humidity in Zollikofen February 18, 2022 12h\n",
      "QUERY:  wind speed in Zollikofen February 18, 2022 12h\n",
      "QUERY:  Moon Phase calculatorFebruary 18, 2022 12h\n"
     ]
    },
    {
     "name": "stderr",
     "output_type": "stream",
     "text": [
      "\r",
      "  6%|████▋                                                                     | 270/4218 [1:04:47<15:03:50, 13.74s/it]"
     ]
    },
    {
     "name": "stdout",
     "output_type": "stream",
     "text": [
      "QUERY:  Precipitation amount in Zollikofen February 18, 2022 13h\n",
      "QUERY:  temperature in Zollikofen February 18, 2022 13h\n",
      "QUERY:  humidity in Zollikofen February 18, 2022 13h\n",
      "QUERY:  wind speed in Zollikofen February 18, 2022 13h\n",
      "QUERY:  Moon Phase calculatorFebruary 18, 2022 13h\n",
      "(3374, 7)\n"
     ]
    },
    {
     "data": {
      "text/html": [
       "<div>\n",
       "<style scoped>\n",
       "    .dataframe tbody tr th:only-of-type {\n",
       "        vertical-align: middle;\n",
       "    }\n",
       "\n",
       "    .dataframe tbody tr th {\n",
       "        vertical-align: top;\n",
       "    }\n",
       "\n",
       "    .dataframe thead th {\n",
       "        text-align: right;\n",
       "    }\n",
       "</style>\n",
       "<table border=\"1\" class=\"dataframe\">\n",
       "  <thead>\n",
       "    <tr style=\"text-align: right;\">\n",
       "      <th></th>\n",
       "      <th>date</th>\n",
       "      <th>temperature</th>\n",
       "      <th>humidity</th>\n",
       "      <th>wind speed</th>\n",
       "      <th>Precipitation amount</th>\n",
       "      <th>Moon Phase calculator</th>\n",
       "      <th>query</th>\n",
       "    </tr>\n",
       "  </thead>\n",
       "  <tbody>\n",
       "    <tr>\n",
       "      <th>8</th>\n",
       "      <td>2022-02-18 12:00:00</td>\n",
       "      <td>11 °C\\n(12:00 pm CET | Friday, February 18, 2022)</td>\n",
       "      <td>average: 58% (58%)\\n(12:00 pm CET | Friday, Fe...</td>\n",
       "      <td>2 m/s\\n(12:00 pm CET | Friday, February 18, 2022)</td>\n",
       "      <td>no precipitation\\n(12:00 pm CET | Friday, Febr...</td>\n",
       "      <td>| waning gibbous moon\\n96.56% illuminated</td>\n",
       "      <td>Moon Phase calculatorFebruary 18, 2022 12h</td>\n",
       "    </tr>\n",
       "    <tr>\n",
       "      <th>9</th>\n",
       "      <td>2022-02-18 13:00:00</td>\n",
       "      <td>12 °C\\n(1:00 pm CET | Friday, February 18, 2022)</td>\n",
       "      <td>average: 49% (47 to 51%)\\n(1:00 pm CET | Frida...</td>\n",
       "      <td>2 m/s\\n(1:00 pm CET | Friday, February 18, 2022)</td>\n",
       "      <td>no precipitation\\n(1:00 pm CET | Friday, Febru...</td>\n",
       "      <td>| waning gibbous moon\\n96.40% illuminated</td>\n",
       "      <td>Moon Phase calculatorFebruary 18, 2022 13h</td>\n",
       "    </tr>\n",
       "  </tbody>\n",
       "</table>\n",
       "</div>"
      ],
      "text/plain": [
       "                 date                                        temperature  \\\n",
       "8 2022-02-18 12:00:00  11 °C\\n(12:00 pm CET | Friday, February 18, 2022)   \n",
       "9 2022-02-18 13:00:00   12 °C\\n(1:00 pm CET | Friday, February 18, 2022)   \n",
       "\n",
       "                                            humidity  \\\n",
       "8  average: 58% (58%)\\n(12:00 pm CET | Friday, Fe...   \n",
       "9  average: 49% (47 to 51%)\\n(1:00 pm CET | Frida...   \n",
       "\n",
       "                                          wind speed  \\\n",
       "8  2 m/s\\n(12:00 pm CET | Friday, February 18, 2022)   \n",
       "9   2 m/s\\n(1:00 pm CET | Friday, February 18, 2022)   \n",
       "\n",
       "                                Precipitation amount  \\\n",
       "8  no precipitation\\n(12:00 pm CET | Friday, Febr...   \n",
       "9  no precipitation\\n(1:00 pm CET | Friday, Febru...   \n",
       "\n",
       "                       Moon Phase calculator  \\\n",
       "8  | waning gibbous moon\\n96.56% illuminated   \n",
       "9  | waning gibbous moon\\n96.40% illuminated   \n",
       "\n",
       "                                        query  \n",
       "8  Moon Phase calculatorFebruary 18, 2022 12h  \n",
       "9  Moon Phase calculatorFebruary 18, 2022 13h  "
      ]
     },
     "metadata": {},
     "output_type": "display_data"
    },
    {
     "name": "stderr",
     "output_type": "stream",
     "text": [
      "\r",
      "  6%|████▊                                                                     | 271/4218 [1:05:04<15:59:04, 14.58s/it]"
     ]
    },
    {
     "name": "stdout",
     "output_type": "stream",
     "text": [
      "QUERY:  Precipitation amount in Zollikofen February 18, 2022 14h\n",
      "QUERY:  temperature in Zollikofen February 18, 2022 14h\n",
      "QUERY:  humidity in Zollikofen February 18, 2022 14h\n",
      "QUERY:  wind speed in Zollikofen February 18, 2022 14h\n",
      "QUERY:  Moon Phase calculatorFebruary 18, 2022 14h\n"
     ]
    },
    {
     "name": "stderr",
     "output_type": "stream",
     "text": [
      "\r",
      "  6%|████▊                                                                     | 272/4218 [1:05:18<15:48:54, 14.43s/it]"
     ]
    },
    {
     "name": "stdout",
     "output_type": "stream",
     "text": [
      "QUERY:  Precipitation amount in Zollikofen February 18, 2022 15h\n",
      "QUERY:  temperature in Zollikofen February 18, 2022 15h\n",
      "QUERY:  humidity in Zollikofen February 18, 2022 15h\n",
      "QUERY:  wind speed in Zollikofen February 18, 2022 15h\n",
      "QUERY:  Moon Phase calculatorFebruary 18, 2022 15h\n"
     ]
    },
    {
     "name": "stderr",
     "output_type": "stream",
     "text": [
      "\r",
      "  6%|████▊                                                                     | 273/4218 [1:05:32<15:34:10, 14.21s/it]"
     ]
    },
    {
     "name": "stdout",
     "output_type": "stream",
     "text": [
      "QUERY:  Precipitation amount in Zollikofen February 18, 2022 16h\n",
      "QUERY:  temperature in Zollikofen February 18, 2022 16h\n",
      "QUERY:  humidity in Zollikofen February 18, 2022 16h\n",
      "QUERY:  wind speed in Zollikofen February 18, 2022 16h\n",
      "QUERY:  Moon Phase calculatorFebruary 18, 2022 16h\n"
     ]
    },
    {
     "name": "stderr",
     "output_type": "stream",
     "text": [
      "\r",
      "  6%|████▊                                                                     | 274/4218 [1:05:45<15:10:47, 13.86s/it]"
     ]
    },
    {
     "name": "stdout",
     "output_type": "stream",
     "text": [
      "QUERY:  Precipitation amount in Zollikofen February 18, 2022 17h\n",
      "QUERY:  temperature in Zollikofen February 18, 2022 17h\n",
      "QUERY:  humidity in Zollikofen February 18, 2022 17h\n",
      "QUERY:  wind speed in Zollikofen February 18, 2022 17h\n",
      "QUERY:  Moon Phase calculatorFebruary 18, 2022 17h\n"
     ]
    },
    {
     "name": "stderr",
     "output_type": "stream",
     "text": [
      "\r",
      "  7%|████▊                                                                     | 275/4218 [1:05:59<15:22:15, 14.03s/it]"
     ]
    },
    {
     "name": "stdout",
     "output_type": "stream",
     "text": [
      "QUERY:  Precipitation amount in Zollikofen February 18, 2022 18h\n",
      "QUERY:  temperature in Zollikofen February 18, 2022 18h\n",
      "QUERY:  humidity in Zollikofen February 18, 2022 18h\n",
      "QUERY:  wind speed in Zollikofen February 18, 2022 18h\n",
      "QUERY:  Moon Phase calculatorFebruary 18, 2022 18h\n"
     ]
    },
    {
     "name": "stderr",
     "output_type": "stream",
     "text": [
      "\r",
      "  7%|████▊                                                                     | 276/4218 [1:06:12<15:01:58, 13.73s/it]"
     ]
    },
    {
     "name": "stdout",
     "output_type": "stream",
     "text": [
      "QUERY:  Precipitation amount in Zollikofen February 18, 2022 19h\n",
      "QUERY:  temperature in Zollikofen February 18, 2022 19h\n",
      "QUERY:  humidity in Zollikofen February 18, 2022 19h\n",
      "QUERY:  wind speed in Zollikofen February 18, 2022 19h\n",
      "QUERY:  Moon Phase calculatorFebruary 18, 2022 19h\n"
     ]
    },
    {
     "name": "stderr",
     "output_type": "stream",
     "text": [
      "\r",
      "  7%|████▊                                                                     | 277/4218 [1:06:26<14:59:29, 13.69s/it]"
     ]
    },
    {
     "name": "stdout",
     "output_type": "stream",
     "text": [
      "QUERY:  Precipitation amount in Zollikofen February 18, 2022 20h\n",
      "QUERY:  temperature in Zollikofen February 18, 2022 20h\n",
      "QUERY:  humidity in Zollikofen February 18, 2022 20h\n",
      "QUERY:  wind speed in Zollikofen February 18, 2022 20h\n",
      "QUERY:  Moon Phase calculatorFebruary 18, 2022 20h\n"
     ]
    },
    {
     "name": "stderr",
     "output_type": "stream",
     "text": [
      "\r",
      "  7%|████▉                                                                     | 278/4218 [1:06:39<14:55:28, 13.64s/it]"
     ]
    },
    {
     "name": "stdout",
     "output_type": "stream",
     "text": [
      "QUERY:  Precipitation amount in Zollikofen February 18, 2022 21h\n",
      "QUERY:  temperature in Zollikofen February 18, 2022 21h\n",
      "QUERY:  humidity in Zollikofen February 18, 2022 21h\n",
      "QUERY:  wind speed in Zollikofen February 18, 2022 21h\n",
      "QUERY:  Moon Phase calculatorFebruary 18, 2022 21h\n"
     ]
    },
    {
     "name": "stderr",
     "output_type": "stream",
     "text": [
      "\r",
      "  7%|████▉                                                                     | 279/4218 [1:06:53<14:53:25, 13.61s/it]"
     ]
    },
    {
     "name": "stdout",
     "output_type": "stream",
     "text": [
      "QUERY:  Precipitation amount in Zollikofen February 18, 2022 22h\n",
      "QUERY:  temperature in Zollikofen February 18, 2022 22h\n",
      "QUERY:  humidity in Zollikofen February 18, 2022 22h\n",
      "QUERY:  wind speed in Zollikofen February 18, 2022 22h\n",
      "QUERY:  Moon Phase calculatorFebruary 18, 2022 22h\n"
     ]
    },
    {
     "name": "stderr",
     "output_type": "stream",
     "text": [
      "\r",
      "  7%|████▉                                                                     | 280/4218 [1:07:07<15:13:27, 13.92s/it]"
     ]
    },
    {
     "name": "stdout",
     "output_type": "stream",
     "text": [
      "QUERY:  Precipitation amount in Zollikofen February 18, 2022 23h\n",
      "QUERY:  temperature in Zollikofen February 18, 2022 23h\n",
      "QUERY:  humidity in Zollikofen February 18, 2022 23h\n",
      "QUERY:  wind speed in Zollikofen February 18, 2022 23h\n",
      "QUERY:  Moon Phase calculatorFebruary 18, 2022 23h\n",
      "(3384, 7)\n"
     ]
    },
    {
     "data": {
      "text/html": [
       "<div>\n",
       "<style scoped>\n",
       "    .dataframe tbody tr th:only-of-type {\n",
       "        vertical-align: middle;\n",
       "    }\n",
       "\n",
       "    .dataframe tbody tr th {\n",
       "        vertical-align: top;\n",
       "    }\n",
       "\n",
       "    .dataframe thead th {\n",
       "        text-align: right;\n",
       "    }\n",
       "</style>\n",
       "<table border=\"1\" class=\"dataframe\">\n",
       "  <thead>\n",
       "    <tr style=\"text-align: right;\">\n",
       "      <th></th>\n",
       "      <th>date</th>\n",
       "      <th>temperature</th>\n",
       "      <th>humidity</th>\n",
       "      <th>wind speed</th>\n",
       "      <th>Precipitation amount</th>\n",
       "      <th>Moon Phase calculator</th>\n",
       "      <th>query</th>\n",
       "    </tr>\n",
       "  </thead>\n",
       "  <tbody>\n",
       "    <tr>\n",
       "      <th>8</th>\n",
       "      <td>2022-02-18 22:00:00</td>\n",
       "      <td>7 °C\\n(10:00 pm CET | Friday, February 18, 2022)</td>\n",
       "      <td>average: 73% (71 to 76%)\\n(10:00 pm CET | Frid...</td>\n",
       "      <td>4 m/s\\n(10:00 pm CET | Friday, February 18, 2022)</td>\n",
       "      <td>rain\\n(10:00 pm CET | Friday, February 18, 2022)</td>\n",
       "      <td>| waning gibbous moon\\n94.82% illuminated</td>\n",
       "      <td>Moon Phase calculatorFebruary 18, 2022 22h</td>\n",
       "    </tr>\n",
       "    <tr>\n",
       "      <th>9</th>\n",
       "      <td>2022-02-18 23:00:00</td>\n",
       "      <td>6 °C\\n(11:00 pm CET | Friday, February 18, 2022)</td>\n",
       "      <td>average: 73% (71 to 76%)\\n(11:00 pm CET | Frid...</td>\n",
       "      <td>4 m/s\\n(11:00 pm CET | Friday, February 18, 2022)</td>\n",
       "      <td>rain\\n(11:00 pm CET | Friday, February 18, 2022)</td>\n",
       "      <td>| waning gibbous moon\\n94.63% illuminated</td>\n",
       "      <td>Moon Phase calculatorFebruary 18, 2022 23h</td>\n",
       "    </tr>\n",
       "  </tbody>\n",
       "</table>\n",
       "</div>"
      ],
      "text/plain": [
       "                 date                                       temperature  \\\n",
       "8 2022-02-18 22:00:00  7 °C\\n(10:00 pm CET | Friday, February 18, 2022)   \n",
       "9 2022-02-18 23:00:00  6 °C\\n(11:00 pm CET | Friday, February 18, 2022)   \n",
       "\n",
       "                                            humidity  \\\n",
       "8  average: 73% (71 to 76%)\\n(10:00 pm CET | Frid...   \n",
       "9  average: 73% (71 to 76%)\\n(11:00 pm CET | Frid...   \n",
       "\n",
       "                                          wind speed  \\\n",
       "8  4 m/s\\n(10:00 pm CET | Friday, February 18, 2022)   \n",
       "9  4 m/s\\n(11:00 pm CET | Friday, February 18, 2022)   \n",
       "\n",
       "                               Precipitation amount  \\\n",
       "8  rain\\n(10:00 pm CET | Friday, February 18, 2022)   \n",
       "9  rain\\n(11:00 pm CET | Friday, February 18, 2022)   \n",
       "\n",
       "                       Moon Phase calculator  \\\n",
       "8  | waning gibbous moon\\n94.82% illuminated   \n",
       "9  | waning gibbous moon\\n94.63% illuminated   \n",
       "\n",
       "                                        query  \n",
       "8  Moon Phase calculatorFebruary 18, 2022 22h  \n",
       "9  Moon Phase calculatorFebruary 18, 2022 23h  "
      ]
     },
     "metadata": {},
     "output_type": "display_data"
    },
    {
     "name": "stderr",
     "output_type": "stream",
     "text": [
      "\r",
      "  7%|████▉                                                                     | 281/4218 [1:07:21<15:12:07, 13.90s/it]"
     ]
    },
    {
     "name": "stdout",
     "output_type": "stream",
     "text": [
      "QUERY:  Precipitation amount in Zollikofen February 19, 2022 0h\n",
      "QUERY:  temperature in Zollikofen February 19, 2022 0h\n",
      "QUERY:  humidity in Zollikofen February 19, 2022 0h\n",
      "QUERY:  wind speed in Zollikofen February 19, 2022 0h\n",
      "QUERY:  Moon Phase calculatorFebruary 19, 2022 0h\n"
     ]
    },
    {
     "name": "stderr",
     "output_type": "stream",
     "text": [
      "\r",
      "  7%|████▉                                                                     | 282/4218 [1:07:35<15:00:05, 13.72s/it]"
     ]
    },
    {
     "name": "stdout",
     "output_type": "stream",
     "text": [
      "QUERY:  Precipitation amount in Zollikofen February 19, 2022 1h\n",
      "QUERY:  temperature in Zollikofen February 19, 2022 1h\n",
      "QUERY:  humidity in Zollikofen February 19, 2022 1h\n",
      "QUERY:  wind speed in Zollikofen February 19, 2022 1h\n",
      "QUERY:  Moon Phase calculatorFebruary 19, 2022 1h\n"
     ]
    },
    {
     "name": "stderr",
     "output_type": "stream",
     "text": [
      "\r",
      "  7%|████▉                                                                     | 283/4218 [1:07:48<14:58:30, 13.70s/it]"
     ]
    },
    {
     "name": "stdout",
     "output_type": "stream",
     "text": [
      "QUERY:  Precipitation amount in Zollikofen February 19, 2022 2h\n",
      "QUERY:  temperature in Zollikofen February 19, 2022 2h\n",
      "QUERY:  humidity in Zollikofen February 19, 2022 2h\n",
      "QUERY:  wind speed in Zollikofen February 19, 2022 2h\n",
      "QUERY:  Moon Phase calculatorFebruary 19, 2022 2h\n"
     ]
    },
    {
     "name": "stderr",
     "output_type": "stream",
     "text": [
      "\r",
      "  7%|████▉                                                                     | 284/4218 [1:08:04<15:33:29, 14.24s/it]"
     ]
    },
    {
     "name": "stdout",
     "output_type": "stream",
     "text": [
      "QUERY:  Precipitation amount in Zollikofen February 19, 2022 3h\n",
      "QUERY:  temperature in Zollikofen February 19, 2022 3h\n",
      "QUERY:  humidity in Zollikofen February 19, 2022 3h\n",
      "QUERY:  wind speed in Zollikofen February 19, 2022 3h\n",
      "QUERY:  Moon Phase calculatorFebruary 19, 2022 3h\n"
     ]
    },
    {
     "name": "stderr",
     "output_type": "stream",
     "text": [
      "\r",
      "  7%|█████                                                                     | 285/4218 [1:08:17<15:22:06, 14.07s/it]"
     ]
    },
    {
     "name": "stdout",
     "output_type": "stream",
     "text": [
      "QUERY:  Precipitation amount in Zollikofen February 19, 2022 4h\n",
      "QUERY:  temperature in Zollikofen February 19, 2022 4h\n",
      "QUERY:  humidity in Zollikofen February 19, 2022 4h\n",
      "QUERY:  wind speed in Zollikofen February 19, 2022 4h\n",
      "QUERY:  Moon Phase calculatorFebruary 19, 2022 4h\n"
     ]
    },
    {
     "name": "stderr",
     "output_type": "stream",
     "text": [
      "\r",
      "  7%|█████                                                                     | 286/4218 [1:08:31<15:11:51, 13.91s/it]"
     ]
    },
    {
     "name": "stdout",
     "output_type": "stream",
     "text": [
      "QUERY:  Precipitation amount in Zollikofen February 19, 2022 5h\n",
      "QUERY:  temperature in Zollikofen February 19, 2022 5h\n",
      "QUERY:  humidity in Zollikofen February 19, 2022 5h\n",
      "QUERY:  wind speed in Zollikofen February 19, 2022 5h\n",
      "QUERY:  Moon Phase calculatorFebruary 19, 2022 5h\n"
     ]
    },
    {
     "name": "stderr",
     "output_type": "stream",
     "text": [
      "\r",
      "  7%|█████                                                                     | 287/4218 [1:08:45<15:06:22, 13.83s/it]"
     ]
    },
    {
     "name": "stdout",
     "output_type": "stream",
     "text": [
      "QUERY:  Precipitation amount in Zollikofen February 19, 2022 6h\n",
      "QUERY:  temperature in Zollikofen February 19, 2022 6h\n",
      "QUERY:  humidity in Zollikofen February 19, 2022 6h\n",
      "QUERY:  wind speed in Zollikofen February 19, 2022 6h\n",
      "QUERY:  Moon Phase calculatorFebruary 19, 2022 6h\n"
     ]
    },
    {
     "name": "stderr",
     "output_type": "stream",
     "text": [
      "\r",
      "  7%|█████                                                                     | 288/4218 [1:08:58<15:03:29, 13.79s/it]"
     ]
    },
    {
     "name": "stdout",
     "output_type": "stream",
     "text": [
      "QUERY:  Precipitation amount in Zollikofen February 19, 2022 7h\n",
      "QUERY:  temperature in Zollikofen February 19, 2022 7h\n",
      "QUERY:  humidity in Zollikofen February 19, 2022 7h\n",
      "QUERY:  wind speed in Zollikofen February 19, 2022 7h\n",
      "QUERY:  Moon Phase calculatorFebruary 19, 2022 7h\n"
     ]
    },
    {
     "name": "stderr",
     "output_type": "stream",
     "text": [
      "\r",
      "  7%|█████                                                                     | 289/4218 [1:09:12<15:04:12, 13.81s/it]"
     ]
    },
    {
     "name": "stdout",
     "output_type": "stream",
     "text": [
      "QUERY:  Precipitation amount in Zollikofen February 19, 2022 8h\n",
      "QUERY:  temperature in Zollikofen February 19, 2022 8h\n",
      "QUERY:  humidity in Zollikofen February 19, 2022 8h\n",
      "QUERY:  wind speed in Zollikofen February 19, 2022 8h\n",
      "QUERY:  Moon Phase calculatorFebruary 19, 2022 8h\n"
     ]
    },
    {
     "name": "stderr",
     "output_type": "stream",
     "text": [
      "\r",
      "  7%|█████                                                                     | 290/4218 [1:09:25<14:48:13, 13.57s/it]"
     ]
    },
    {
     "name": "stdout",
     "output_type": "stream",
     "text": [
      "QUERY:  Precipitation amount in Zollikofen February 19, 2022 9h\n",
      "QUERY:  temperature in Zollikofen February 19, 2022 9h\n",
      "QUERY:  humidity in Zollikofen February 19, 2022 9h\n",
      "QUERY:  wind speed in Zollikofen February 19, 2022 9h\n",
      "QUERY:  Moon Phase calculatorFebruary 19, 2022 9h\n",
      "(3394, 7)\n"
     ]
    },
    {
     "data": {
      "text/html": [
       "<div>\n",
       "<style scoped>\n",
       "    .dataframe tbody tr th:only-of-type {\n",
       "        vertical-align: middle;\n",
       "    }\n",
       "\n",
       "    .dataframe tbody tr th {\n",
       "        vertical-align: top;\n",
       "    }\n",
       "\n",
       "    .dataframe thead th {\n",
       "        text-align: right;\n",
       "    }\n",
       "</style>\n",
       "<table border=\"1\" class=\"dataframe\">\n",
       "  <thead>\n",
       "    <tr style=\"text-align: right;\">\n",
       "      <th></th>\n",
       "      <th>date</th>\n",
       "      <th>temperature</th>\n",
       "      <th>humidity</th>\n",
       "      <th>wind speed</th>\n",
       "      <th>Precipitation amount</th>\n",
       "      <th>Moon Phase calculator</th>\n",
       "      <th>query</th>\n",
       "    </tr>\n",
       "  </thead>\n",
       "  <tbody>\n",
       "    <tr>\n",
       "      <th>8</th>\n",
       "      <td>2022-02-19 08:00:00</td>\n",
       "      <td>4 °C\\n(8:00 am CET | Saturday, February 19, 2022)</td>\n",
       "      <td>average: 73% (70 to 75%)\\n(8:00 am CET | Satur...</td>\n",
       "      <td>1 m/s\\n(8:00 am CET | Saturday, February 19, 2...</td>\n",
       "      <td>no precipitation\\n(8:00 am CET | Saturday, Feb...</td>\n",
       "      <td>| waning gibbous moon\\n92.72% illuminated</td>\n",
       "      <td>Moon Phase calculatorFebruary 19, 2022 8h</td>\n",
       "    </tr>\n",
       "    <tr>\n",
       "      <th>9</th>\n",
       "      <td>2022-02-19 09:00:00</td>\n",
       "      <td>5 °C\\n(9:00 am CET | Saturday, February 19, 2022)</td>\n",
       "      <td>average: 73% (70 to 75%)\\n(9:00 am CET | Satur...</td>\n",
       "      <td>1 m/s\\n(9:00 am CET | Saturday, February 19, 2...</td>\n",
       "      <td>no precipitation\\n(9:00 am CET | Saturday, Feb...</td>\n",
       "      <td>| waning gibbous moon\\n92.49% illuminated</td>\n",
       "      <td>Moon Phase calculatorFebruary 19, 2022 9h</td>\n",
       "    </tr>\n",
       "  </tbody>\n",
       "</table>\n",
       "</div>"
      ],
      "text/plain": [
       "                 date                                        temperature  \\\n",
       "8 2022-02-19 08:00:00  4 °C\\n(8:00 am CET | Saturday, February 19, 2022)   \n",
       "9 2022-02-19 09:00:00  5 °C\\n(9:00 am CET | Saturday, February 19, 2022)   \n",
       "\n",
       "                                            humidity  \\\n",
       "8  average: 73% (70 to 75%)\\n(8:00 am CET | Satur...   \n",
       "9  average: 73% (70 to 75%)\\n(9:00 am CET | Satur...   \n",
       "\n",
       "                                          wind speed  \\\n",
       "8  1 m/s\\n(8:00 am CET | Saturday, February 19, 2...   \n",
       "9  1 m/s\\n(9:00 am CET | Saturday, February 19, 2...   \n",
       "\n",
       "                                Precipitation amount  \\\n",
       "8  no precipitation\\n(8:00 am CET | Saturday, Feb...   \n",
       "9  no precipitation\\n(9:00 am CET | Saturday, Feb...   \n",
       "\n",
       "                       Moon Phase calculator  \\\n",
       "8  | waning gibbous moon\\n92.72% illuminated   \n",
       "9  | waning gibbous moon\\n92.49% illuminated   \n",
       "\n",
       "                                       query  \n",
       "8  Moon Phase calculatorFebruary 19, 2022 8h  \n",
       "9  Moon Phase calculatorFebruary 19, 2022 9h  "
      ]
     },
     "metadata": {},
     "output_type": "display_data"
    },
    {
     "name": "stderr",
     "output_type": "stream",
     "text": [
      "\r",
      "  7%|█████                                                                     | 291/4218 [1:09:39<15:01:55, 13.78s/it]"
     ]
    },
    {
     "name": "stdout",
     "output_type": "stream",
     "text": [
      "QUERY:  Precipitation amount in Zollikofen February 19, 2022 10h\n",
      "QUERY:  temperature in Zollikofen February 19, 2022 10h\n",
      "QUERY:  humidity in Zollikofen February 19, 2022 10h\n",
      "QUERY:  wind speed in Zollikofen February 19, 2022 10h\n",
      "QUERY:  Moon Phase calculatorFebruary 19, 2022 10h\n"
     ]
    },
    {
     "name": "stderr",
     "output_type": "stream",
     "text": [
      "\r",
      "  7%|█████                                                                     | 292/4218 [1:09:52<14:48:18, 13.58s/it]"
     ]
    },
    {
     "name": "stdout",
     "output_type": "stream",
     "text": [
      "QUERY:  Precipitation amount in Zollikofen February 19, 2022 11h\n",
      "QUERY:  temperature in Zollikofen February 19, 2022 11h\n",
      "QUERY:  humidity in Zollikofen February 19, 2022 11h\n",
      "QUERY:  wind speed in Zollikofen February 19, 2022 11h\n",
      "QUERY:  Moon Phase calculatorFebruary 19, 2022 11h\n"
     ]
    },
    {
     "name": "stderr",
     "output_type": "stream",
     "text": [
      "\r",
      "  7%|█████▏                                                                    | 293/4218 [1:10:06<14:54:47, 13.68s/it]"
     ]
    },
    {
     "name": "stdout",
     "output_type": "stream",
     "text": [
      "QUERY:  Precipitation amount in Zollikofen February 19, 2022 12h\n",
      "QUERY:  temperature in Zollikofen February 19, 2022 12h\n",
      "QUERY:  humidity in Zollikofen February 19, 2022 12h\n",
      "QUERY:  wind speed in Zollikofen February 19, 2022 12h\n",
      "QUERY:  Moon Phase calculatorFebruary 19, 2022 12h\n"
     ]
    },
    {
     "name": "stderr",
     "output_type": "stream",
     "text": [
      "\r",
      "  7%|█████▏                                                                    | 294/4218 [1:10:20<14:53:12, 13.66s/it]"
     ]
    },
    {
     "name": "stdout",
     "output_type": "stream",
     "text": [
      "QUERY:  Precipitation amount in Zollikofen February 19, 2022 13h\n",
      "QUERY:  temperature in Zollikofen February 19, 2022 13h\n",
      "QUERY:  humidity in Zollikofen February 19, 2022 13h\n",
      "QUERY:  wind speed in Zollikofen February 19, 2022 13h\n",
      "QUERY:  Moon Phase calculatorFebruary 19, 2022 13h\n"
     ]
    },
    {
     "name": "stderr",
     "output_type": "stream",
     "text": [
      "\r",
      "  7%|█████▏                                                                    | 295/4218 [1:10:33<14:40:24, 13.47s/it]"
     ]
    },
    {
     "name": "stdout",
     "output_type": "stream",
     "text": [
      "QUERY:  Precipitation amount in Zollikofen February 19, 2022 14h\n",
      "QUERY:  temperature in Zollikofen February 19, 2022 14h\n",
      "QUERY:  humidity in Zollikofen February 19, 2022 14h\n",
      "QUERY:  wind speed in Zollikofen February 19, 2022 14h\n",
      "QUERY:  Moon Phase calculatorFebruary 19, 2022 14h\n"
     ]
    },
    {
     "name": "stderr",
     "output_type": "stream",
     "text": [
      "\r",
      "  7%|█████▏                                                                    | 296/4218 [1:10:47<14:47:27, 13.58s/it]"
     ]
    },
    {
     "name": "stdout",
     "output_type": "stream",
     "text": [
      "QUERY:  Precipitation amount in Zollikofen February 19, 2022 15h\n",
      "QUERY:  temperature in Zollikofen February 19, 2022 15h\n",
      "QUERY:  humidity in Zollikofen February 19, 2022 15h\n",
      "QUERY:  wind speed in Zollikofen February 19, 2022 15h\n",
      "QUERY:  Moon Phase calculatorFebruary 19, 2022 15h\n"
     ]
    },
    {
     "name": "stderr",
     "output_type": "stream",
     "text": [
      "\r",
      "  7%|█████▏                                                                    | 297/4218 [1:11:01<14:54:40, 13.69s/it]"
     ]
    },
    {
     "name": "stdout",
     "output_type": "stream",
     "text": [
      "QUERY:  Precipitation amount in Zollikofen February 19, 2022 16h\n",
      "QUERY:  temperature in Zollikofen February 19, 2022 16h\n",
      "QUERY:  humidity in Zollikofen February 19, 2022 16h\n",
      "QUERY:  wind speed in Zollikofen February 19, 2022 16h\n",
      "QUERY:  Moon Phase calculatorFebruary 19, 2022 16h\n"
     ]
    },
    {
     "name": "stderr",
     "output_type": "stream",
     "text": [
      "\r",
      "  7%|█████▏                                                                    | 298/4218 [1:11:14<14:44:00, 13.53s/it]"
     ]
    },
    {
     "name": "stdout",
     "output_type": "stream",
     "text": [
      "QUERY:  Precipitation amount in Zollikofen February 19, 2022 17h\n",
      "QUERY:  temperature in Zollikofen February 19, 2022 17h\n",
      "QUERY:  humidity in Zollikofen February 19, 2022 17h\n",
      "QUERY:  wind speed in Zollikofen February 19, 2022 17h\n",
      "QUERY:  Moon Phase calculatorFebruary 19, 2022 17h\n"
     ]
    },
    {
     "name": "stderr",
     "output_type": "stream",
     "text": [
      "\r",
      "  7%|█████▏                                                                    | 299/4218 [1:11:27<14:39:16, 13.46s/it]"
     ]
    },
    {
     "name": "stdout",
     "output_type": "stream",
     "text": [
      "QUERY:  Precipitation amount in Zollikofen February 19, 2022 18h\n",
      "QUERY:  temperature in Zollikofen February 19, 2022 18h\n",
      "QUERY:  humidity in Zollikofen February 19, 2022 18h\n",
      "QUERY:  wind speed in Zollikofen February 19, 2022 18h\n",
      "QUERY:  Moon Phase calculatorFebruary 19, 2022 18h\n"
     ]
    },
    {
     "name": "stderr",
     "output_type": "stream",
     "text": [
      "\r",
      "  7%|█████▎                                                                    | 300/4218 [1:11:41<14:49:16, 13.62s/it]"
     ]
    },
    {
     "name": "stdout",
     "output_type": "stream",
     "text": [
      "QUERY:  Precipitation amount in Zollikofen February 19, 2022 19h\n",
      "QUERY:  temperature in Zollikofen February 19, 2022 19h\n",
      "QUERY:  humidity in Zollikofen February 19, 2022 19h\n",
      "QUERY:  wind speed in Zollikofen February 19, 2022 19h\n",
      "QUERY:  Moon Phase calculatorFebruary 19, 2022 19h\n",
      "(3404, 7)\n"
     ]
    },
    {
     "data": {
      "text/html": [
       "<div>\n",
       "<style scoped>\n",
       "    .dataframe tbody tr th:only-of-type {\n",
       "        vertical-align: middle;\n",
       "    }\n",
       "\n",
       "    .dataframe tbody tr th {\n",
       "        vertical-align: top;\n",
       "    }\n",
       "\n",
       "    .dataframe thead th {\n",
       "        text-align: right;\n",
       "    }\n",
       "</style>\n",
       "<table border=\"1\" class=\"dataframe\">\n",
       "  <thead>\n",
       "    <tr style=\"text-align: right;\">\n",
       "      <th></th>\n",
       "      <th>date</th>\n",
       "      <th>temperature</th>\n",
       "      <th>humidity</th>\n",
       "      <th>wind speed</th>\n",
       "      <th>Precipitation amount</th>\n",
       "      <th>Moon Phase calculator</th>\n",
       "      <th>query</th>\n",
       "    </tr>\n",
       "  </thead>\n",
       "  <tbody>\n",
       "    <tr>\n",
       "      <th>8</th>\n",
       "      <td>2022-02-19 18:00:00</td>\n",
       "      <td>5 °C\\n(6:00 pm CET | Saturday, February 19, 2022)</td>\n",
       "      <td>average: 50% (49 to 52%)\\n(6:00 pm CET | Satur...</td>\n",
       "      <td>1 m/s\\n(6:00 pm CET | Saturday, February 19, 2...</td>\n",
       "      <td>no precipitation\\n(6:00 pm CET | Saturday, Feb...</td>\n",
       "      <td>| waning gibbous moon\\n90.26% illuminated</td>\n",
       "      <td>Moon Phase calculatorFebruary 19, 2022 18h</td>\n",
       "    </tr>\n",
       "    <tr>\n",
       "      <th>9</th>\n",
       "      <td>2022-02-19 19:00:00</td>\n",
       "      <td>4 °C\\n(7:00 pm CET | Saturday, February 19, 2022)</td>\n",
       "      <td>average: 60% (56 to 64%)\\n(7:00 pm CET | Satur...</td>\n",
       "      <td>1 m/s\\n(7:00 pm CET | Saturday, February 19, 2...</td>\n",
       "      <td>no precipitation\\n(7:00 pm CET | Saturday, Feb...</td>\n",
       "      <td>| waning gibbous moon\\n90.00% illuminated</td>\n",
       "      <td>Moon Phase calculatorFebruary 19, 2022 19h</td>\n",
       "    </tr>\n",
       "  </tbody>\n",
       "</table>\n",
       "</div>"
      ],
      "text/plain": [
       "                 date                                        temperature  \\\n",
       "8 2022-02-19 18:00:00  5 °C\\n(6:00 pm CET | Saturday, February 19, 2022)   \n",
       "9 2022-02-19 19:00:00  4 °C\\n(7:00 pm CET | Saturday, February 19, 2022)   \n",
       "\n",
       "                                            humidity  \\\n",
       "8  average: 50% (49 to 52%)\\n(6:00 pm CET | Satur...   \n",
       "9  average: 60% (56 to 64%)\\n(7:00 pm CET | Satur...   \n",
       "\n",
       "                                          wind speed  \\\n",
       "8  1 m/s\\n(6:00 pm CET | Saturday, February 19, 2...   \n",
       "9  1 m/s\\n(7:00 pm CET | Saturday, February 19, 2...   \n",
       "\n",
       "                                Precipitation amount  \\\n",
       "8  no precipitation\\n(6:00 pm CET | Saturday, Feb...   \n",
       "9  no precipitation\\n(7:00 pm CET | Saturday, Feb...   \n",
       "\n",
       "                       Moon Phase calculator  \\\n",
       "8  | waning gibbous moon\\n90.26% illuminated   \n",
       "9  | waning gibbous moon\\n90.00% illuminated   \n",
       "\n",
       "                                        query  \n",
       "8  Moon Phase calculatorFebruary 19, 2022 18h  \n",
       "9  Moon Phase calculatorFebruary 19, 2022 19h  "
      ]
     },
     "metadata": {},
     "output_type": "display_data"
    },
    {
     "name": "stderr",
     "output_type": "stream",
     "text": [
      "\r",
      "  7%|█████▎                                                                    | 301/4218 [1:11:55<14:54:29, 13.70s/it]"
     ]
    },
    {
     "name": "stdout",
     "output_type": "stream",
     "text": [
      "QUERY:  Precipitation amount in Zollikofen February 19, 2022 20h\n",
      "QUERY:  temperature in Zollikofen February 19, 2022 20h\n",
      "QUERY:  humidity in Zollikofen February 19, 2022 20h\n",
      "QUERY:  wind speed in Zollikofen February 19, 2022 20h\n",
      "QUERY:  Moon Phase calculatorFebruary 19, 2022 20h\n"
     ]
    },
    {
     "name": "stderr",
     "output_type": "stream",
     "text": [
      "\r",
      "  7%|█████▎                                                                    | 302/4218 [1:12:09<14:50:08, 13.64s/it]"
     ]
    },
    {
     "name": "stdout",
     "output_type": "stream",
     "text": [
      "QUERY:  Precipitation amount in Zollikofen February 19, 2022 21h\n",
      "QUERY:  temperature in Zollikofen February 19, 2022 21h\n",
      "QUERY:  humidity in Zollikofen February 19, 2022 21h\n",
      "QUERY:  wind speed in Zollikofen February 19, 2022 21h\n",
      "QUERY:  Moon Phase calculatorFebruary 19, 2022 21h\n"
     ]
    },
    {
     "name": "stderr",
     "output_type": "stream",
     "text": [
      "\r",
      "  7%|█████▎                                                                    | 303/4218 [1:12:22<14:49:21, 13.63s/it]"
     ]
    },
    {
     "name": "stdout",
     "output_type": "stream",
     "text": [
      "QUERY:  Precipitation amount in Zollikofen February 19, 2022 22h\n",
      "QUERY:  temperature in Zollikofen February 19, 2022 22h\n",
      "QUERY:  humidity in Zollikofen February 19, 2022 22h\n",
      "QUERY:  wind speed in Zollikofen February 19, 2022 22h\n",
      "QUERY:  Moon Phase calculatorFebruary 19, 2022 22h\n"
     ]
    },
    {
     "name": "stderr",
     "output_type": "stream",
     "text": [
      "\r",
      "  7%|█████▎                                                                    | 304/4218 [1:12:36<14:47:51, 13.61s/it]"
     ]
    },
    {
     "name": "stdout",
     "output_type": "stream",
     "text": [
      "QUERY:  Precipitation amount in Zollikofen February 19, 2022 23h\n",
      "QUERY:  temperature in Zollikofen February 19, 2022 23h\n",
      "QUERY:  humidity in Zollikofen February 19, 2022 23h\n",
      "QUERY:  wind speed in Zollikofen February 19, 2022 23h\n",
      "QUERY:  Moon Phase calculatorFebruary 19, 2022 23h\n"
     ]
    },
    {
     "name": "stderr",
     "output_type": "stream",
     "text": [
      "\r",
      "  7%|█████▎                                                                    | 305/4218 [1:12:50<14:52:59, 13.69s/it]"
     ]
    },
    {
     "name": "stdout",
     "output_type": "stream",
     "text": [
      "QUERY:  Precipitation amount in Zollikofen February 20, 2022 0h\n",
      "QUERY:  temperature in Zollikofen February 20, 2022 0h\n",
      "QUERY:  humidity in Zollikofen February 20, 2022 0h\n",
      "QUERY:  wind speed in Zollikofen February 20, 2022 0h\n",
      "QUERY:  Moon Phase calculatorFebruary 20, 2022 0h\n"
     ]
    },
    {
     "name": "stderr",
     "output_type": "stream",
     "text": [
      "\r",
      "  7%|█████▎                                                                    | 306/4218 [1:13:03<14:50:36, 13.66s/it]"
     ]
    },
    {
     "name": "stdout",
     "output_type": "stream",
     "text": [
      "QUERY:  Precipitation amount in Zollikofen February 20, 2022 1h\n",
      "QUERY:  temperature in Zollikofen February 20, 2022 1h\n",
      "QUERY:  humidity in Zollikofen February 20, 2022 1h\n",
      "QUERY:  wind speed in Zollikofen February 20, 2022 1h\n",
      "QUERY:  Moon Phase calculatorFebruary 20, 2022 1h\n"
     ]
    },
    {
     "name": "stderr",
     "output_type": "stream",
     "text": [
      "\r",
      "  7%|█████▍                                                                    | 307/4218 [1:13:17<14:49:48, 13.65s/it]"
     ]
    },
    {
     "name": "stdout",
     "output_type": "stream",
     "text": [
      "QUERY:  Precipitation amount in Zollikofen February 20, 2022 2h\n",
      "QUERY:  temperature in Zollikofen February 20, 2022 2h\n",
      "QUERY:  humidity in Zollikofen February 20, 2022 2h\n",
      "QUERY:  wind speed in Zollikofen February 20, 2022 2h\n",
      "QUERY:  Moon Phase calculatorFebruary 20, 2022 2h\n"
     ]
    },
    {
     "name": "stderr",
     "output_type": "stream",
     "text": [
      "\r",
      "  7%|█████▍                                                                    | 308/4218 [1:13:30<14:44:03, 13.57s/it]"
     ]
    },
    {
     "name": "stdout",
     "output_type": "stream",
     "text": [
      "QUERY:  Precipitation amount in Zollikofen February 20, 2022 3h\n",
      "QUERY:  temperature in Zollikofen February 20, 2022 3h\n",
      "QUERY:  humidity in Zollikofen February 20, 2022 3h\n",
      "QUERY:  wind speed in Zollikofen February 20, 2022 3h\n",
      "QUERY:  Moon Phase calculatorFebruary 20, 2022 3h\n"
     ]
    },
    {
     "name": "stderr",
     "output_type": "stream",
     "text": [
      "\r",
      "  7%|█████▍                                                                    | 309/4218 [1:13:44<14:42:06, 13.54s/it]"
     ]
    },
    {
     "name": "stdout",
     "output_type": "stream",
     "text": [
      "QUERY:  Precipitation amount in Zollikofen February 20, 2022 4h\n",
      "QUERY:  temperature in Zollikofen February 20, 2022 4h\n",
      "QUERY:  humidity in Zollikofen February 20, 2022 4h\n",
      "QUERY:  wind speed in Zollikofen February 20, 2022 4h\n",
      "QUERY:  Moon Phase calculatorFebruary 20, 2022 4h\n"
     ]
    },
    {
     "name": "stderr",
     "output_type": "stream",
     "text": [
      "\r",
      "  7%|█████▍                                                                    | 310/4218 [1:13:59<15:05:43, 13.91s/it]"
     ]
    },
    {
     "name": "stdout",
     "output_type": "stream",
     "text": [
      "QUERY:  Precipitation amount in Zollikofen February 20, 2022 5h\n",
      "QUERY:  temperature in Zollikofen February 20, 2022 5h\n",
      "QUERY:  humidity in Zollikofen February 20, 2022 5h\n",
      "QUERY:  wind speed in Zollikofen February 20, 2022 5h\n",
      "QUERY:  Moon Phase calculatorFebruary 20, 2022 5h\n",
      "(3414, 7)\n"
     ]
    },
    {
     "data": {
      "text/html": [
       "<div>\n",
       "<style scoped>\n",
       "    .dataframe tbody tr th:only-of-type {\n",
       "        vertical-align: middle;\n",
       "    }\n",
       "\n",
       "    .dataframe tbody tr th {\n",
       "        vertical-align: top;\n",
       "    }\n",
       "\n",
       "    .dataframe thead th {\n",
       "        text-align: right;\n",
       "    }\n",
       "</style>\n",
       "<table border=\"1\" class=\"dataframe\">\n",
       "  <thead>\n",
       "    <tr style=\"text-align: right;\">\n",
       "      <th></th>\n",
       "      <th>date</th>\n",
       "      <th>temperature</th>\n",
       "      <th>humidity</th>\n",
       "      <th>wind speed</th>\n",
       "      <th>Precipitation amount</th>\n",
       "      <th>Moon Phase calculator</th>\n",
       "      <th>query</th>\n",
       "    </tr>\n",
       "  </thead>\n",
       "  <tbody>\n",
       "    <tr>\n",
       "      <th>8</th>\n",
       "      <td>2022-02-20 04:00:00</td>\n",
       "      <td>5 °C\\n(4:00 am CET | Sunday, February 20, 2022)</td>\n",
       "      <td>average: 75% (70 to 80%)\\n(4:00 am CET | Sunda...</td>\n",
       "      <td>4 m/s\\n(4:00 am CET | Sunday, February 20, 2022)</td>\n",
       "      <td>no precipitation\\n(4:00 am CET | Sunday, Febru...</td>\n",
       "      <td>| waning gibbous moon\\n87.46% illuminated</td>\n",
       "      <td>Moon Phase calculatorFebruary 20, 2022 4h</td>\n",
       "    </tr>\n",
       "    <tr>\n",
       "      <th>9</th>\n",
       "      <td>2022-02-20 05:00:00</td>\n",
       "      <td>5 °C\\n(5:00 am CET | Sunday, February 20, 2022)</td>\n",
       "      <td>average: 80% (80%)\\n(5:00 am CET | Sunday, Feb...</td>\n",
       "      <td>3 m/s\\n(5:00 am CET | Sunday, February 20, 2022)</td>\n",
       "      <td>no precipitation\\n(5:00 am CET | Sunday, Febru...</td>\n",
       "      <td>| waning gibbous moon\\n87.17% illuminated</td>\n",
       "      <td>Moon Phase calculatorFebruary 20, 2022 5h</td>\n",
       "    </tr>\n",
       "  </tbody>\n",
       "</table>\n",
       "</div>"
      ],
      "text/plain": [
       "                 date                                      temperature  \\\n",
       "8 2022-02-20 04:00:00  5 °C\\n(4:00 am CET | Sunday, February 20, 2022)   \n",
       "9 2022-02-20 05:00:00  5 °C\\n(5:00 am CET | Sunday, February 20, 2022)   \n",
       "\n",
       "                                            humidity  \\\n",
       "8  average: 75% (70 to 80%)\\n(4:00 am CET | Sunda...   \n",
       "9  average: 80% (80%)\\n(5:00 am CET | Sunday, Feb...   \n",
       "\n",
       "                                         wind speed  \\\n",
       "8  4 m/s\\n(4:00 am CET | Sunday, February 20, 2022)   \n",
       "9  3 m/s\\n(5:00 am CET | Sunday, February 20, 2022)   \n",
       "\n",
       "                                Precipitation amount  \\\n",
       "8  no precipitation\\n(4:00 am CET | Sunday, Febru...   \n",
       "9  no precipitation\\n(5:00 am CET | Sunday, Febru...   \n",
       "\n",
       "                       Moon Phase calculator  \\\n",
       "8  | waning gibbous moon\\n87.46% illuminated   \n",
       "9  | waning gibbous moon\\n87.17% illuminated   \n",
       "\n",
       "                                       query  \n",
       "8  Moon Phase calculatorFebruary 20, 2022 4h  \n",
       "9  Moon Phase calculatorFebruary 20, 2022 5h  "
      ]
     },
     "metadata": {},
     "output_type": "display_data"
    },
    {
     "name": "stderr",
     "output_type": "stream",
     "text": [
      "\r",
      "  7%|█████▍                                                                    | 311/4218 [1:14:12<14:55:08, 13.75s/it]"
     ]
    },
    {
     "name": "stdout",
     "output_type": "stream",
     "text": [
      "QUERY:  Precipitation amount in Zollikofen February 20, 2022 6h\n",
      "QUERY:  temperature in Zollikofen February 20, 2022 6h\n",
      "QUERY:  humidity in Zollikofen February 20, 2022 6h\n",
      "QUERY:  wind speed in Zollikofen February 20, 2022 6h\n",
      "QUERY:  Moon Phase calculatorFebruary 20, 2022 6h\n"
     ]
    },
    {
     "name": "stderr",
     "output_type": "stream",
     "text": [
      "\r",
      "  7%|█████▍                                                                    | 312/4218 [1:14:27<15:20:54, 14.15s/it]"
     ]
    },
    {
     "name": "stdout",
     "output_type": "stream",
     "text": [
      "QUERY:  Precipitation amount in Zollikofen February 20, 2022 7h\n",
      "QUERY:  temperature in Zollikofen February 20, 2022 7h\n",
      "QUERY:  humidity in Zollikofen February 20, 2022 7h\n",
      "QUERY:  wind speed in Zollikofen February 20, 2022 7h\n",
      "QUERY:  Moon Phase calculatorFebruary 20, 2022 7h\n"
     ]
    },
    {
     "name": "stderr",
     "output_type": "stream",
     "text": [
      "\r",
      "  7%|█████▍                                                                    | 313/4218 [1:14:41<15:14:26, 14.05s/it]"
     ]
    },
    {
     "name": "stdout",
     "output_type": "stream",
     "text": [
      "QUERY:  Precipitation amount in Zollikofen February 20, 2022 8h\n",
      "QUERY:  temperature in Zollikofen February 20, 2022 8h\n",
      "QUERY:  humidity in Zollikofen February 20, 2022 8h\n",
      "QUERY:  wind speed in Zollikofen February 20, 2022 8h\n",
      "QUERY:  Moon Phase calculatorFebruary 20, 2022 8h\n"
     ]
    },
    {
     "name": "stderr",
     "output_type": "stream",
     "text": [
      "\r",
      "  7%|█████▌                                                                    | 314/4218 [1:14:55<15:18:10, 14.11s/it]"
     ]
    },
    {
     "name": "stdout",
     "output_type": "stream",
     "text": [
      "QUERY:  Precipitation amount in Zollikofen February 20, 2022 9h\n",
      "QUERY:  temperature in Zollikofen February 20, 2022 9h\n",
      "QUERY:  humidity in Zollikofen February 20, 2022 9h\n",
      "QUERY:  wind speed in Zollikofen February 20, 2022 9h\n",
      "QUERY:  Moon Phase calculatorFebruary 20, 2022 9h\n"
     ]
    },
    {
     "name": "stderr",
     "output_type": "stream",
     "text": [
      "\r",
      "  7%|█████▌                                                                    | 315/4218 [1:15:10<15:29:53, 14.29s/it]"
     ]
    },
    {
     "name": "stdout",
     "output_type": "stream",
     "text": [
      "QUERY:  Precipitation amount in Zollikofen February 20, 2022 10h\n",
      "QUERY:  temperature in Zollikofen February 20, 2022 10h\n",
      "QUERY:  humidity in Zollikofen February 20, 2022 10h\n",
      "QUERY:  wind speed in Zollikofen February 20, 2022 10h\n",
      "QUERY:  Moon Phase calculatorFebruary 20, 2022 10h\n"
     ]
    },
    {
     "name": "stderr",
     "output_type": "stream",
     "text": [
      "\r",
      "  7%|█████▌                                                                    | 316/4218 [1:15:24<15:23:59, 14.21s/it]"
     ]
    },
    {
     "name": "stdout",
     "output_type": "stream",
     "text": [
      "QUERY:  Precipitation amount in Zollikofen February 20, 2022 11h\n",
      "QUERY:  temperature in Zollikofen February 20, 2022 11h\n",
      "QUERY:  humidity in Zollikofen February 20, 2022 11h\n",
      "QUERY:  wind speed in Zollikofen February 20, 2022 11h\n",
      "QUERY:  Moon Phase calculatorFebruary 20, 2022 11h\n"
     ]
    },
    {
     "name": "stderr",
     "output_type": "stream",
     "text": [
      "\r",
      "  8%|█████▌                                                                    | 317/4218 [1:15:37<14:58:35, 13.82s/it]"
     ]
    },
    {
     "name": "stdout",
     "output_type": "stream",
     "text": [
      "QUERY:  Precipitation amount in Zollikofen February 20, 2022 12h\n",
      "QUERY:  temperature in Zollikofen February 20, 2022 12h\n",
      "QUERY:  humidity in Zollikofen February 20, 2022 12h\n",
      "QUERY:  wind speed in Zollikofen February 20, 2022 12h\n",
      "QUERY:  Moon Phase calculatorFebruary 20, 2022 12h\n"
     ]
    },
    {
     "name": "stderr",
     "output_type": "stream",
     "text": [
      "\r",
      "  8%|█████▌                                                                    | 318/4218 [1:15:50<14:52:54, 13.74s/it]"
     ]
    },
    {
     "name": "stdout",
     "output_type": "stream",
     "text": [
      "QUERY:  Precipitation amount in Zollikofen February 20, 2022 13h\n",
      "QUERY:  temperature in Zollikofen February 20, 2022 13h\n",
      "QUERY:  humidity in Zollikofen February 20, 2022 13h\n",
      "QUERY:  wind speed in Zollikofen February 20, 2022 13h\n",
      "QUERY:  Moon Phase calculatorFebruary 20, 2022 13h\n"
     ]
    },
    {
     "name": "stderr",
     "output_type": "stream",
     "text": [
      "\r",
      "  8%|█████▌                                                                    | 319/4218 [1:16:04<14:51:06, 13.71s/it]"
     ]
    },
    {
     "name": "stdout",
     "output_type": "stream",
     "text": [
      "QUERY:  Precipitation amount in Zollikofen February 20, 2022 14h\n",
      "QUERY:  temperature in Zollikofen February 20, 2022 14h\n",
      "QUERY:  humidity in Zollikofen February 20, 2022 14h\n",
      "QUERY:  wind speed in Zollikofen February 20, 2022 14h\n",
      "QUERY:  Moon Phase calculatorFebruary 20, 2022 14h\n"
     ]
    },
    {
     "name": "stderr",
     "output_type": "stream",
     "text": [
      "\r",
      "  8%|█████▌                                                                    | 320/4218 [1:16:18<14:57:01, 13.81s/it]"
     ]
    },
    {
     "name": "stdout",
     "output_type": "stream",
     "text": [
      "QUERY:  Precipitation amount in Zollikofen February 20, 2022 15h\n",
      "QUERY:  temperature in Zollikofen February 20, 2022 15h\n",
      "QUERY:  humidity in Zollikofen February 20, 2022 15h\n",
      "QUERY:  wind speed in Zollikofen February 20, 2022 15h\n",
      "QUERY:  Moon Phase calculatorFebruary 20, 2022 15h\n",
      "(3424, 7)\n"
     ]
    },
    {
     "data": {
      "text/html": [
       "<div>\n",
       "<style scoped>\n",
       "    .dataframe tbody tr th:only-of-type {\n",
       "        vertical-align: middle;\n",
       "    }\n",
       "\n",
       "    .dataframe tbody tr th {\n",
       "        vertical-align: top;\n",
       "    }\n",
       "\n",
       "    .dataframe thead th {\n",
       "        text-align: right;\n",
       "    }\n",
       "</style>\n",
       "<table border=\"1\" class=\"dataframe\">\n",
       "  <thead>\n",
       "    <tr style=\"text-align: right;\">\n",
       "      <th></th>\n",
       "      <th>date</th>\n",
       "      <th>temperature</th>\n",
       "      <th>humidity</th>\n",
       "      <th>wind speed</th>\n",
       "      <th>Precipitation amount</th>\n",
       "      <th>Moon Phase calculator</th>\n",
       "      <th>query</th>\n",
       "    </tr>\n",
       "  </thead>\n",
       "  <tbody>\n",
       "    <tr>\n",
       "      <th>8</th>\n",
       "      <td>2022-02-20 14:00:00</td>\n",
       "      <td>9 °C\\n(2:00 pm CET | Sunday, February 20, 2022)</td>\n",
       "      <td>average: 48% (47 to 50%)\\n(2:00 pm CET | Sunda...</td>\n",
       "      <td>5 m/s\\n(2:00 pm CET | Sunday, February 20, 2022)</td>\n",
       "      <td>no precipitation\\n(2:00 pm CET | Sunday, Febru...</td>\n",
       "      <td>| waning gibbous moon\\n84.34% illuminated</td>\n",
       "      <td>Moon Phase calculatorFebruary 20, 2022 14h</td>\n",
       "    </tr>\n",
       "    <tr>\n",
       "      <th>9</th>\n",
       "      <td>2022-02-20 15:00:00</td>\n",
       "      <td>9 °C\\n(3:00 pm CET | Sunday, February 20, 2022)</td>\n",
       "      <td>average: 50% (50%)\\n(3:00 pm CET | Sunday, Feb...</td>\n",
       "      <td>6 m/s\\n(3:00 pm CET | Sunday, February 20, 2022)</td>\n",
       "      <td>no precipitation\\n(3:00 pm CET | Sunday, Febru...</td>\n",
       "      <td>| waning gibbous moon\\n84.01% illuminated</td>\n",
       "      <td>Moon Phase calculatorFebruary 20, 2022 15h</td>\n",
       "    </tr>\n",
       "  </tbody>\n",
       "</table>\n",
       "</div>"
      ],
      "text/plain": [
       "                 date                                      temperature  \\\n",
       "8 2022-02-20 14:00:00  9 °C\\n(2:00 pm CET | Sunday, February 20, 2022)   \n",
       "9 2022-02-20 15:00:00  9 °C\\n(3:00 pm CET | Sunday, February 20, 2022)   \n",
       "\n",
       "                                            humidity  \\\n",
       "8  average: 48% (47 to 50%)\\n(2:00 pm CET | Sunda...   \n",
       "9  average: 50% (50%)\\n(3:00 pm CET | Sunday, Feb...   \n",
       "\n",
       "                                         wind speed  \\\n",
       "8  5 m/s\\n(2:00 pm CET | Sunday, February 20, 2022)   \n",
       "9  6 m/s\\n(3:00 pm CET | Sunday, February 20, 2022)   \n",
       "\n",
       "                                Precipitation amount  \\\n",
       "8  no precipitation\\n(2:00 pm CET | Sunday, Febru...   \n",
       "9  no precipitation\\n(3:00 pm CET | Sunday, Febru...   \n",
       "\n",
       "                       Moon Phase calculator  \\\n",
       "8  | waning gibbous moon\\n84.34% illuminated   \n",
       "9  | waning gibbous moon\\n84.01% illuminated   \n",
       "\n",
       "                                        query  \n",
       "8  Moon Phase calculatorFebruary 20, 2022 14h  \n",
       "9  Moon Phase calculatorFebruary 20, 2022 15h  "
      ]
     },
     "metadata": {},
     "output_type": "display_data"
    },
    {
     "name": "stderr",
     "output_type": "stream",
     "text": [
      "\r",
      "  8%|█████▋                                                                    | 321/4218 [1:16:31<14:50:50, 13.72s/it]"
     ]
    },
    {
     "name": "stdout",
     "output_type": "stream",
     "text": [
      "QUERY:  Precipitation amount in Zollikofen February 20, 2022 16h\n",
      "QUERY:  temperature in Zollikofen February 20, 2022 16h\n",
      "QUERY:  humidity in Zollikofen February 20, 2022 16h\n",
      "QUERY:  wind speed in Zollikofen February 20, 2022 16h\n",
      "QUERY:  Moon Phase calculatorFebruary 20, 2022 16h\n"
     ]
    },
    {
     "name": "stderr",
     "output_type": "stream",
     "text": [
      "\r",
      "  8%|█████▋                                                                    | 322/4218 [1:16:45<14:39:51, 13.55s/it]"
     ]
    },
    {
     "name": "stdout",
     "output_type": "stream",
     "text": [
      "QUERY:  Precipitation amount in Zollikofen February 20, 2022 17h\n",
      "QUERY:  temperature in Zollikofen February 20, 2022 17h\n",
      "QUERY:  humidity in Zollikofen February 20, 2022 17h\n",
      "QUERY:  wind speed in Zollikofen February 20, 2022 17h\n",
      "QUERY:  Moon Phase calculatorFebruary 20, 2022 17h\n"
     ]
    },
    {
     "name": "stderr",
     "output_type": "stream",
     "text": [
      "\r",
      "  8%|█████▋                                                                    | 323/4218 [1:16:59<14:56:24, 13.81s/it]"
     ]
    },
    {
     "name": "stdout",
     "output_type": "stream",
     "text": [
      "QUERY:  Precipitation amount in Zollikofen February 20, 2022 18h\n",
      "QUERY:  temperature in Zollikofen February 20, 2022 18h\n",
      "QUERY:  humidity in Zollikofen February 20, 2022 18h\n",
      "QUERY:  wind speed in Zollikofen February 20, 2022 18h\n",
      "QUERY:  Moon Phase calculatorFebruary 20, 2022 18h\n"
     ]
    },
    {
     "name": "stderr",
     "output_type": "stream",
     "text": [
      "\r",
      "  8%|█████▋                                                                    | 324/4218 [1:17:12<14:38:08, 13.53s/it]"
     ]
    },
    {
     "name": "stdout",
     "output_type": "stream",
     "text": [
      "QUERY:  Precipitation amount in Zollikofen February 20, 2022 19h\n",
      "QUERY:  temperature in Zollikofen February 20, 2022 19h\n",
      "QUERY:  humidity in Zollikofen February 20, 2022 19h\n",
      "QUERY:  wind speed in Zollikofen February 20, 2022 19h\n",
      "QUERY:  Moon Phase calculatorFebruary 20, 2022 19h\n"
     ]
    },
    {
     "name": "stderr",
     "output_type": "stream",
     "text": [
      "\r",
      "  8%|█████▋                                                                    | 325/4218 [1:17:25<14:30:19, 13.41s/it]"
     ]
    },
    {
     "name": "stdout",
     "output_type": "stream",
     "text": [
      "QUERY:  Precipitation amount in Zollikofen February 20, 2022 20h\n",
      "QUERY:  temperature in Zollikofen February 20, 2022 20h\n",
      "QUERY:  humidity in Zollikofen February 20, 2022 20h\n",
      "QUERY:  wind speed in Zollikofen February 20, 2022 20h\n",
      "QUERY:  Moon Phase calculatorFebruary 20, 2022 20h\n"
     ]
    },
    {
     "name": "stderr",
     "output_type": "stream",
     "text": [
      "\r",
      "  8%|█████▋                                                                    | 326/4218 [1:17:38<14:29:48, 13.41s/it]"
     ]
    },
    {
     "name": "stdout",
     "output_type": "stream",
     "text": [
      "QUERY:  Precipitation amount in Zollikofen February 20, 2022 21h\n",
      "QUERY:  temperature in Zollikofen February 20, 2022 21h\n",
      "QUERY:  humidity in Zollikofen February 20, 2022 21h\n",
      "QUERY:  wind speed in Zollikofen February 20, 2022 21h\n",
      "QUERY:  Moon Phase calculatorFebruary 20, 2022 21h\n"
     ]
    },
    {
     "name": "stderr",
     "output_type": "stream",
     "text": [
      "\r",
      "  8%|█████▋                                                                    | 327/4218 [1:17:52<14:32:50, 13.46s/it]"
     ]
    },
    {
     "name": "stdout",
     "output_type": "stream",
     "text": [
      "QUERY:  Precipitation amount in Zollikofen February 20, 2022 22h\n",
      "QUERY:  temperature in Zollikofen February 20, 2022 22h\n",
      "QUERY:  humidity in Zollikofen February 20, 2022 22h\n",
      "QUERY:  wind speed in Zollikofen February 20, 2022 22h\n",
      "QUERY:  Moon Phase calculatorFebruary 20, 2022 22h\n"
     ]
    },
    {
     "name": "stderr",
     "output_type": "stream",
     "text": [
      "\r",
      "  8%|█████▊                                                                    | 328/4218 [1:18:07<14:53:34, 13.78s/it]"
     ]
    },
    {
     "name": "stdout",
     "output_type": "stream",
     "text": [
      "QUERY:  Precipitation amount in Zollikofen February 20, 2022 23h\n",
      "QUERY:  temperature in Zollikofen February 20, 2022 23h\n",
      "QUERY:  humidity in Zollikofen February 20, 2022 23h\n",
      "QUERY:  wind speed in Zollikofen February 20, 2022 23h\n",
      "QUERY:  Moon Phase calculatorFebruary 20, 2022 23h\n"
     ]
    },
    {
     "name": "stderr",
     "output_type": "stream",
     "text": [
      "\r",
      "  8%|█████▊                                                                    | 329/4218 [1:18:20<14:56:19, 13.83s/it]"
     ]
    },
    {
     "name": "stdout",
     "output_type": "stream",
     "text": [
      "QUERY:  Precipitation amount in Zollikofen February 21, 2022 0h\n",
      "QUERY:  temperature in Zollikofen February 21, 2022 0h\n",
      "QUERY:  humidity in Zollikofen February 21, 2022 0h\n",
      "QUERY:  wind speed in Zollikofen February 21, 2022 0h\n",
      "QUERY:  Moon Phase calculatorFebruary 21, 2022 0h\n"
     ]
    },
    {
     "name": "stderr",
     "output_type": "stream",
     "text": [
      "\r",
      "  8%|█████▊                                                                    | 330/4218 [1:18:34<14:45:50, 13.67s/it]"
     ]
    },
    {
     "name": "stdout",
     "output_type": "stream",
     "text": [
      "QUERY:  Precipitation amount in Zollikofen February 21, 2022 1h\n",
      "QUERY:  temperature in Zollikofen February 21, 2022 1h\n",
      "QUERY:  humidity in Zollikofen February 21, 2022 1h\n",
      "QUERY:  wind speed in Zollikofen February 21, 2022 1h\n",
      "QUERY:  Moon Phase calculatorFebruary 21, 2022 1h\n",
      "(3434, 7)\n"
     ]
    },
    {
     "data": {
      "text/html": [
       "<div>\n",
       "<style scoped>\n",
       "    .dataframe tbody tr th:only-of-type {\n",
       "        vertical-align: middle;\n",
       "    }\n",
       "\n",
       "    .dataframe tbody tr th {\n",
       "        vertical-align: top;\n",
       "    }\n",
       "\n",
       "    .dataframe thead th {\n",
       "        text-align: right;\n",
       "    }\n",
       "</style>\n",
       "<table border=\"1\" class=\"dataframe\">\n",
       "  <thead>\n",
       "    <tr style=\"text-align: right;\">\n",
       "      <th></th>\n",
       "      <th>date</th>\n",
       "      <th>temperature</th>\n",
       "      <th>humidity</th>\n",
       "      <th>wind speed</th>\n",
       "      <th>Precipitation amount</th>\n",
       "      <th>Moon Phase calculator</th>\n",
       "      <th>query</th>\n",
       "    </tr>\n",
       "  </thead>\n",
       "  <tbody>\n",
       "    <tr>\n",
       "      <th>8</th>\n",
       "      <td>2022-02-21 00:00:00</td>\n",
       "      <td>9 °C\\n(12:00 am CET | Monday, February 21, 2022)</td>\n",
       "      <td>average: 55% (54 to 57%)\\n(12:00 am CET | Mond...</td>\n",
       "      <td>9 m/s\\n(12:00 am CET | Monday, February 21, 2022)</td>\n",
       "      <td>no precipitation\\n(12:00 am CET | Monday, Febr...</td>\n",
       "      <td>| waning gibbous moon\\n80.92% illuminated</td>\n",
       "      <td>Moon Phase calculatorFebruary 21, 2022 0h</td>\n",
       "    </tr>\n",
       "    <tr>\n",
       "      <th>9</th>\n",
       "      <td>2022-02-21 01:00:00</td>\n",
       "      <td>8 °C\\n(1:00 am CET | Monday, February 21, 2022)</td>\n",
       "      <td>average: 57% (57%)\\n(1:00 am CET | Monday, Feb...</td>\n",
       "      <td>8 m/s\\n(1:00 am CET | Monday, February 21, 2022)</td>\n",
       "      <td>no precipitation\\n(1:00 am CET | Monday, Febru...</td>\n",
       "      <td>| waning gibbous moon\\n80.56% illuminated</td>\n",
       "      <td>Moon Phase calculatorFebruary 21, 2022 1h</td>\n",
       "    </tr>\n",
       "  </tbody>\n",
       "</table>\n",
       "</div>"
      ],
      "text/plain": [
       "                 date                                       temperature  \\\n",
       "8 2022-02-21 00:00:00  9 °C\\n(12:00 am CET | Monday, February 21, 2022)   \n",
       "9 2022-02-21 01:00:00   8 °C\\n(1:00 am CET | Monday, February 21, 2022)   \n",
       "\n",
       "                                            humidity  \\\n",
       "8  average: 55% (54 to 57%)\\n(12:00 am CET | Mond...   \n",
       "9  average: 57% (57%)\\n(1:00 am CET | Monday, Feb...   \n",
       "\n",
       "                                          wind speed  \\\n",
       "8  9 m/s\\n(12:00 am CET | Monday, February 21, 2022)   \n",
       "9   8 m/s\\n(1:00 am CET | Monday, February 21, 2022)   \n",
       "\n",
       "                                Precipitation amount  \\\n",
       "8  no precipitation\\n(12:00 am CET | Monday, Febr...   \n",
       "9  no precipitation\\n(1:00 am CET | Monday, Febru...   \n",
       "\n",
       "                       Moon Phase calculator  \\\n",
       "8  | waning gibbous moon\\n80.92% illuminated   \n",
       "9  | waning gibbous moon\\n80.56% illuminated   \n",
       "\n",
       "                                       query  \n",
       "8  Moon Phase calculatorFebruary 21, 2022 0h  \n",
       "9  Moon Phase calculatorFebruary 21, 2022 1h  "
      ]
     },
     "metadata": {},
     "output_type": "display_data"
    },
    {
     "name": "stderr",
     "output_type": "stream",
     "text": [
      "\r",
      "  8%|█████▊                                                                    | 331/4218 [1:18:49<15:16:36, 14.15s/it]"
     ]
    },
    {
     "name": "stdout",
     "output_type": "stream",
     "text": [
      "QUERY:  Precipitation amount in Zollikofen February 21, 2022 2h\n",
      "QUERY:  temperature in Zollikofen February 21, 2022 2h\n",
      "QUERY:  humidity in Zollikofen February 21, 2022 2h\n",
      "QUERY:  wind speed in Zollikofen February 21, 2022 2h\n",
      "QUERY:  Moon Phase calculatorFebruary 21, 2022 2h\n"
     ]
    },
    {
     "name": "stderr",
     "output_type": "stream",
     "text": [
      "\r",
      "  8%|█████▊                                                                    | 332/4218 [1:19:03<15:14:05, 14.11s/it]"
     ]
    },
    {
     "name": "stdout",
     "output_type": "stream",
     "text": [
      "QUERY:  Precipitation amount in Zollikofen February 21, 2022 3h\n",
      "QUERY:  temperature in Zollikofen February 21, 2022 3h\n",
      "QUERY:  humidity in Zollikofen February 21, 2022 3h\n",
      "QUERY:  wind speed in Zollikofen February 21, 2022 3h\n",
      "QUERY:  Moon Phase calculatorFebruary 21, 2022 3h\n"
     ]
    },
    {
     "name": "stderr",
     "output_type": "stream",
     "text": [
      "\r",
      "  8%|█████▊                                                                    | 333/4218 [1:19:17<15:09:36, 14.05s/it]"
     ]
    },
    {
     "name": "stdout",
     "output_type": "stream",
     "text": [
      "QUERY:  Precipitation amount in Zollikofen February 21, 2022 4h\n",
      "QUERY:  temperature in Zollikofen February 21, 2022 4h\n",
      "QUERY:  humidity in Zollikofen February 21, 2022 4h\n",
      "QUERY:  wind speed in Zollikofen February 21, 2022 4h\n",
      "QUERY:  Moon Phase calculatorFebruary 21, 2022 4h\n"
     ]
    },
    {
     "name": "stderr",
     "output_type": "stream",
     "text": [
      "\r",
      "  8%|█████▊                                                                    | 334/4218 [1:19:30<14:58:46, 13.88s/it]"
     ]
    },
    {
     "name": "stdout",
     "output_type": "stream",
     "text": [
      "QUERY:  Precipitation amount in Zollikofen February 21, 2022 5h\n",
      "QUERY:  temperature in Zollikofen February 21, 2022 5h\n",
      "QUERY:  humidity in Zollikofen February 21, 2022 5h\n",
      "QUERY:  wind speed in Zollikofen February 21, 2022 5h\n",
      "QUERY:  Moon Phase calculatorFebruary 21, 2022 5h\n"
     ]
    },
    {
     "name": "stderr",
     "output_type": "stream",
     "text": [
      "\r",
      "  8%|█████▉                                                                    | 335/4218 [1:19:45<15:08:22, 14.04s/it]"
     ]
    },
    {
     "name": "stdout",
     "output_type": "stream",
     "text": [
      "QUERY:  Precipitation amount in Zollikofen February 21, 2022 6h\n",
      "QUERY:  temperature in Zollikofen February 21, 2022 6h\n",
      "QUERY:  humidity in Zollikofen February 21, 2022 6h\n",
      "QUERY:  wind speed in Zollikofen February 21, 2022 6h\n",
      "QUERY:  Moon Phase calculatorFebruary 21, 2022 6h\n"
     ]
    },
    {
     "name": "stderr",
     "output_type": "stream",
     "text": [
      "\r",
      "  8%|█████▉                                                                    | 336/4218 [1:19:59<15:02:43, 13.95s/it]"
     ]
    },
    {
     "name": "stdout",
     "output_type": "stream",
     "text": [
      "QUERY:  Precipitation amount in Zollikofen February 21, 2022 7h\n",
      "QUERY:  temperature in Zollikofen February 21, 2022 7h\n",
      "QUERY:  humidity in Zollikofen February 21, 2022 7h\n",
      "QUERY:  wind speed in Zollikofen February 21, 2022 7h\n",
      "QUERY:  Moon Phase calculatorFebruary 21, 2022 7h\n"
     ]
    },
    {
     "name": "stderr",
     "output_type": "stream",
     "text": [
      "\r",
      "  8%|█████▉                                                                    | 337/4218 [1:20:13<15:15:15, 14.15s/it]"
     ]
    },
    {
     "name": "stdout",
     "output_type": "stream",
     "text": [
      "QUERY:  Precipitation amount in Zollikofen February 21, 2022 8h\n",
      "QUERY:  temperature in Zollikofen February 21, 2022 8h\n",
      "QUERY:  humidity in Zollikofen February 21, 2022 8h\n",
      "QUERY:  wind speed in Zollikofen February 21, 2022 8h\n",
      "QUERY:  Moon Phase calculatorFebruary 21, 2022 8h\n"
     ]
    },
    {
     "name": "stderr",
     "output_type": "stream",
     "text": [
      "\r",
      "  8%|█████▉                                                                    | 338/4218 [1:20:28<15:31:52, 14.41s/it]"
     ]
    },
    {
     "name": "stdout",
     "output_type": "stream",
     "text": [
      "QUERY:  Precipitation amount in Zollikofen February 21, 2022 9h\n",
      "QUERY:  temperature in Zollikofen February 21, 2022 9h\n",
      "QUERY:  humidity in Zollikofen February 21, 2022 9h\n",
      "QUERY:  wind speed in Zollikofen February 21, 2022 9h\n",
      "QUERY:  Moon Phase calculatorFebruary 21, 2022 9h\n"
     ]
    },
    {
     "name": "stderr",
     "output_type": "stream",
     "text": [
      "\r",
      "  8%|█████▉                                                                    | 339/4218 [1:20:42<15:13:43, 14.13s/it]"
     ]
    },
    {
     "name": "stdout",
     "output_type": "stream",
     "text": [
      "QUERY:  Precipitation amount in Zollikofen February 21, 2022 10h\n",
      "QUERY:  temperature in Zollikofen February 21, 2022 10h\n",
      "QUERY:  humidity in Zollikofen February 21, 2022 10h\n",
      "QUERY:  wind speed in Zollikofen February 21, 2022 10h\n",
      "QUERY:  Moon Phase calculatorFebruary 21, 2022 10h\n"
     ]
    },
    {
     "name": "stderr",
     "output_type": "stream",
     "text": [
      "\r",
      "  8%|█████▉                                                                    | 340/4218 [1:20:55<15:02:28, 13.96s/it]"
     ]
    },
    {
     "name": "stdout",
     "output_type": "stream",
     "text": [
      "QUERY:  Precipitation amount in Zollikofen February 21, 2022 11h\n",
      "QUERY:  temperature in Zollikofen February 21, 2022 11h\n",
      "QUERY:  humidity in Zollikofen February 21, 2022 11h\n",
      "QUERY:  wind speed in Zollikofen February 21, 2022 11h\n",
      "QUERY:  Moon Phase calculatorFebruary 21, 2022 11h\n",
      "(3444, 7)\n"
     ]
    },
    {
     "data": {
      "text/html": [
       "<div>\n",
       "<style scoped>\n",
       "    .dataframe tbody tr th:only-of-type {\n",
       "        vertical-align: middle;\n",
       "    }\n",
       "\n",
       "    .dataframe tbody tr th {\n",
       "        vertical-align: top;\n",
       "    }\n",
       "\n",
       "    .dataframe thead th {\n",
       "        text-align: right;\n",
       "    }\n",
       "</style>\n",
       "<table border=\"1\" class=\"dataframe\">\n",
       "  <thead>\n",
       "    <tr style=\"text-align: right;\">\n",
       "      <th></th>\n",
       "      <th>date</th>\n",
       "      <th>temperature</th>\n",
       "      <th>humidity</th>\n",
       "      <th>wind speed</th>\n",
       "      <th>Precipitation amount</th>\n",
       "      <th>Moon Phase calculator</th>\n",
       "      <th>query</th>\n",
       "    </tr>\n",
       "  </thead>\n",
       "  <tbody>\n",
       "    <tr>\n",
       "      <th>8</th>\n",
       "      <td>2022-02-21 10:00:00</td>\n",
       "      <td>5 °C\\n(10:00 am CET | Monday, February 21, 2022)</td>\n",
       "      <td>average: 70% (70%)\\n(10:00 am CET | Monday, Fe...</td>\n",
       "      <td>6 m/s\\n(10:00 am CET | Monday, February 21, 2022)</td>\n",
       "      <td>no precipitation\\n(10:00 am CET | Monday, Febr...</td>\n",
       "      <td>| waning gibbous moon\\n77.21% illuminated</td>\n",
       "      <td>Moon Phase calculatorFebruary 21, 2022 10h</td>\n",
       "    </tr>\n",
       "    <tr>\n",
       "      <th>9</th>\n",
       "      <td>2022-02-21 11:00:00</td>\n",
       "      <td>5 °C\\n(11:00 am CET | Monday, February 21, 2022)</td>\n",
       "      <td>average: 61% (57 to 66%)\\n(11:00 am CET | Mond...</td>\n",
       "      <td>7 m/s\\n(11:00 am CET | Monday, February 21, 2022)</td>\n",
       "      <td>no precipitation\\n(11:00 am CET | Monday, Febr...</td>\n",
       "      <td>| waning gibbous moon\\n76.83% illuminated</td>\n",
       "      <td>Moon Phase calculatorFebruary 21, 2022 11h</td>\n",
       "    </tr>\n",
       "  </tbody>\n",
       "</table>\n",
       "</div>"
      ],
      "text/plain": [
       "                 date                                       temperature  \\\n",
       "8 2022-02-21 10:00:00  5 °C\\n(10:00 am CET | Monday, February 21, 2022)   \n",
       "9 2022-02-21 11:00:00  5 °C\\n(11:00 am CET | Monday, February 21, 2022)   \n",
       "\n",
       "                                            humidity  \\\n",
       "8  average: 70% (70%)\\n(10:00 am CET | Monday, Fe...   \n",
       "9  average: 61% (57 to 66%)\\n(11:00 am CET | Mond...   \n",
       "\n",
       "                                          wind speed  \\\n",
       "8  6 m/s\\n(10:00 am CET | Monday, February 21, 2022)   \n",
       "9  7 m/s\\n(11:00 am CET | Monday, February 21, 2022)   \n",
       "\n",
       "                                Precipitation amount  \\\n",
       "8  no precipitation\\n(10:00 am CET | Monday, Febr...   \n",
       "9  no precipitation\\n(11:00 am CET | Monday, Febr...   \n",
       "\n",
       "                       Moon Phase calculator  \\\n",
       "8  | waning gibbous moon\\n77.21% illuminated   \n",
       "9  | waning gibbous moon\\n76.83% illuminated   \n",
       "\n",
       "                                        query  \n",
       "8  Moon Phase calculatorFebruary 21, 2022 10h  \n",
       "9  Moon Phase calculatorFebruary 21, 2022 11h  "
      ]
     },
     "metadata": {},
     "output_type": "display_data"
    },
    {
     "name": "stderr",
     "output_type": "stream",
     "text": [
      "\r",
      "  8%|█████▉                                                                    | 341/4218 [1:21:09<15:00:10, 13.93s/it]"
     ]
    },
    {
     "name": "stdout",
     "output_type": "stream",
     "text": [
      "QUERY:  Precipitation amount in Zollikofen February 21, 2022 12h\n",
      "QUERY:  temperature in Zollikofen February 21, 2022 12h\n",
      "QUERY:  humidity in Zollikofen February 21, 2022 12h\n",
      "QUERY:  wind speed in Zollikofen February 21, 2022 12h\n",
      "QUERY:  Moon Phase calculatorFebruary 21, 2022 12h\n"
     ]
    },
    {
     "name": "stderr",
     "output_type": "stream",
     "text": [
      "\r",
      "  8%|██████                                                                    | 342/4218 [1:21:23<14:51:17, 13.80s/it]"
     ]
    },
    {
     "name": "stdout",
     "output_type": "stream",
     "text": [
      "QUERY:  Precipitation amount in Zollikofen February 21, 2022 13h\n",
      "QUERY:  temperature in Zollikofen February 21, 2022 13h\n",
      "QUERY:  humidity in Zollikofen February 21, 2022 13h\n",
      "QUERY:  wind speed in Zollikofen February 21, 2022 13h\n",
      "QUERY:  Moon Phase calculatorFebruary 21, 2022 13h\n"
     ]
    },
    {
     "name": "stderr",
     "output_type": "stream",
     "text": [
      "\r",
      "  8%|██████                                                                    | 343/4218 [1:21:36<14:43:46, 13.68s/it]"
     ]
    },
    {
     "name": "stdout",
     "output_type": "stream",
     "text": [
      "QUERY:  Precipitation amount in Zollikofen February 21, 2022 14h\n",
      "QUERY:  temperature in Zollikofen February 21, 2022 14h\n",
      "QUERY:  humidity in Zollikofen February 21, 2022 14h\n",
      "QUERY:  wind speed in Zollikofen February 21, 2022 14h\n",
      "QUERY:  Moon Phase calculatorFebruary 21, 2022 14h\n"
     ]
    },
    {
     "name": "stderr",
     "output_type": "stream",
     "text": [
      "\r",
      "  8%|██████                                                                    | 344/4218 [1:21:50<14:51:37, 13.81s/it]"
     ]
    },
    {
     "name": "stdout",
     "output_type": "stream",
     "text": [
      "QUERY:  Precipitation amount in Zollikofen February 21, 2022 15h\n",
      "QUERY:  temperature in Zollikofen February 21, 2022 15h\n",
      "QUERY:  humidity in Zollikofen February 21, 2022 15h\n",
      "QUERY:  wind speed in Zollikofen February 21, 2022 15h\n",
      "QUERY:  Moon Phase calculatorFebruary 21, 2022 15h\n"
     ]
    },
    {
     "name": "stderr",
     "output_type": "stream",
     "text": [
      "\r",
      "  8%|██████                                                                    | 345/4218 [1:22:03<14:39:10, 13.62s/it]"
     ]
    },
    {
     "name": "stdout",
     "output_type": "stream",
     "text": [
      "QUERY:  Precipitation amount in Zollikofen February 21, 2022 16h\n",
      "QUERY:  temperature in Zollikofen February 21, 2022 16h\n",
      "QUERY:  humidity in Zollikofen February 21, 2022 16h\n",
      "QUERY:  wind speed in Zollikofen February 21, 2022 16h\n",
      "QUERY:  Moon Phase calculatorFebruary 21, 2022 16h\n"
     ]
    },
    {
     "name": "stderr",
     "output_type": "stream",
     "text": [
      "\r",
      "  8%|██████                                                                    | 346/4218 [1:22:17<14:39:05, 13.62s/it]"
     ]
    },
    {
     "name": "stdout",
     "output_type": "stream",
     "text": [
      "QUERY:  Precipitation amount in Zollikofen February 21, 2022 17h\n",
      "QUERY:  temperature in Zollikofen February 21, 2022 17h\n",
      "QUERY:  humidity in Zollikofen February 21, 2022 17h\n",
      "QUERY:  wind speed in Zollikofen February 21, 2022 17h\n",
      "QUERY:  Moon Phase calculatorFebruary 21, 2022 17h\n"
     ]
    },
    {
     "name": "stderr",
     "output_type": "stream",
     "text": [
      "\r",
      "  8%|██████                                                                    | 347/4218 [1:22:30<14:34:42, 13.56s/it]"
     ]
    },
    {
     "name": "stdout",
     "output_type": "stream",
     "text": [
      "QUERY:  Precipitation amount in Zollikofen February 21, 2022 18h\n",
      "QUERY:  temperature in Zollikofen February 21, 2022 18h\n",
      "QUERY:  humidity in Zollikofen February 21, 2022 18h\n",
      "QUERY:  wind speed in Zollikofen February 21, 2022 18h\n",
      "QUERY:  Moon Phase calculatorFebruary 21, 2022 18h\n"
     ]
    },
    {
     "name": "stderr",
     "output_type": "stream",
     "text": [
      "\r",
      "  8%|██████                                                                    | 348/4218 [1:22:44<14:40:27, 13.65s/it]"
     ]
    },
    {
     "name": "stdout",
     "output_type": "stream",
     "text": [
      "QUERY:  Precipitation amount in Zollikofen February 21, 2022 19h\n",
      "QUERY:  temperature in Zollikofen February 21, 2022 19h\n",
      "QUERY:  humidity in Zollikofen February 21, 2022 19h\n",
      "QUERY:  wind speed in Zollikofen February 21, 2022 19h\n",
      "QUERY:  Moon Phase calculatorFebruary 21, 2022 19h\n"
     ]
    },
    {
     "name": "stderr",
     "output_type": "stream",
     "text": [
      "\r",
      "  8%|██████                                                                    | 349/4218 [1:22:57<14:30:39, 13.50s/it]"
     ]
    },
    {
     "name": "stdout",
     "output_type": "stream",
     "text": [
      "QUERY:  Precipitation amount in Zollikofen February 21, 2022 20h\n",
      "QUERY:  temperature in Zollikofen February 21, 2022 20h\n",
      "QUERY:  humidity in Zollikofen February 21, 2022 20h\n",
      "QUERY:  wind speed in Zollikofen February 21, 2022 20h\n",
      "QUERY:  Moon Phase calculatorFebruary 21, 2022 20h\n"
     ]
    },
    {
     "name": "stderr",
     "output_type": "stream",
     "text": [
      "\r",
      "  8%|██████▏                                                                   | 350/4218 [1:23:11<14:28:48, 13.48s/it]"
     ]
    },
    {
     "name": "stdout",
     "output_type": "stream",
     "text": [
      "QUERY:  Precipitation amount in Zollikofen February 21, 2022 21h\n",
      "QUERY:  temperature in Zollikofen February 21, 2022 21h\n",
      "QUERY:  humidity in Zollikofen February 21, 2022 21h\n",
      "QUERY:  wind speed in Zollikofen February 21, 2022 21h\n",
      "QUERY:  Moon Phase calculatorFebruary 21, 2022 21h\n",
      "(3454, 7)\n"
     ]
    },
    {
     "data": {
      "text/html": [
       "<div>\n",
       "<style scoped>\n",
       "    .dataframe tbody tr th:only-of-type {\n",
       "        vertical-align: middle;\n",
       "    }\n",
       "\n",
       "    .dataframe tbody tr th {\n",
       "        vertical-align: top;\n",
       "    }\n",
       "\n",
       "    .dataframe thead th {\n",
       "        text-align: right;\n",
       "    }\n",
       "</style>\n",
       "<table border=\"1\" class=\"dataframe\">\n",
       "  <thead>\n",
       "    <tr style=\"text-align: right;\">\n",
       "      <th></th>\n",
       "      <th>date</th>\n",
       "      <th>temperature</th>\n",
       "      <th>humidity</th>\n",
       "      <th>wind speed</th>\n",
       "      <th>Precipitation amount</th>\n",
       "      <th>Moon Phase calculator</th>\n",
       "      <th>query</th>\n",
       "    </tr>\n",
       "  </thead>\n",
       "  <tbody>\n",
       "    <tr>\n",
       "      <th>8</th>\n",
       "      <td>2022-02-21 20:00:00</td>\n",
       "      <td>3 °C\\n(8:00 pm CET | Monday, February 21, 2022)</td>\n",
       "      <td>average: 81% (81%)\\n(8:00 pm CET | Monday, Feb...</td>\n",
       "      <td>3 m/s\\n(8:00 pm CET | Monday, February 21, 2022)</td>\n",
       "      <td>rain\\n(8:00 pm CET | Monday, February 21, 2022)</td>\n",
       "      <td>| waning gibbous moon\\n73.26% illuminated</td>\n",
       "      <td>Moon Phase calculatorFebruary 21, 2022 20h</td>\n",
       "    </tr>\n",
       "    <tr>\n",
       "      <th>9</th>\n",
       "      <td>2022-02-21 21:00:00</td>\n",
       "      <td>4 °C\\n(9:00 pm CET | Monday, February 21, 2022)</td>\n",
       "      <td>average: 84% (81 to 87%)\\n(9:00 pm CET | Monda...</td>\n",
       "      <td>6 m/s\\n(9:00 pm CET | Monday, February 21, 2022)</td>\n",
       "      <td>rain\\n(9:00 pm CET | Monday, February 21, 2022)</td>\n",
       "      <td>| waning gibbous moon\\n72.85% illuminated</td>\n",
       "      <td>Moon Phase calculatorFebruary 21, 2022 21h</td>\n",
       "    </tr>\n",
       "  </tbody>\n",
       "</table>\n",
       "</div>"
      ],
      "text/plain": [
       "                 date                                      temperature  \\\n",
       "8 2022-02-21 20:00:00  3 °C\\n(8:00 pm CET | Monday, February 21, 2022)   \n",
       "9 2022-02-21 21:00:00  4 °C\\n(9:00 pm CET | Monday, February 21, 2022)   \n",
       "\n",
       "                                            humidity  \\\n",
       "8  average: 81% (81%)\\n(8:00 pm CET | Monday, Feb...   \n",
       "9  average: 84% (81 to 87%)\\n(9:00 pm CET | Monda...   \n",
       "\n",
       "                                         wind speed  \\\n",
       "8  3 m/s\\n(8:00 pm CET | Monday, February 21, 2022)   \n",
       "9  6 m/s\\n(9:00 pm CET | Monday, February 21, 2022)   \n",
       "\n",
       "                              Precipitation amount  \\\n",
       "8  rain\\n(8:00 pm CET | Monday, February 21, 2022)   \n",
       "9  rain\\n(9:00 pm CET | Monday, February 21, 2022)   \n",
       "\n",
       "                       Moon Phase calculator  \\\n",
       "8  | waning gibbous moon\\n73.26% illuminated   \n",
       "9  | waning gibbous moon\\n72.85% illuminated   \n",
       "\n",
       "                                        query  \n",
       "8  Moon Phase calculatorFebruary 21, 2022 20h  \n",
       "9  Moon Phase calculatorFebruary 21, 2022 21h  "
      ]
     },
     "metadata": {},
     "output_type": "display_data"
    },
    {
     "name": "stderr",
     "output_type": "stream",
     "text": [
      "\r",
      "  8%|██████▏                                                                   | 351/4218 [1:23:25<14:38:22, 13.63s/it]"
     ]
    },
    {
     "name": "stdout",
     "output_type": "stream",
     "text": [
      "QUERY:  Precipitation amount in Zollikofen February 21, 2022 22h\n",
      "QUERY:  temperature in Zollikofen February 21, 2022 22h\n",
      "QUERY:  humidity in Zollikofen February 21, 2022 22h\n",
      "QUERY:  wind speed in Zollikofen February 21, 2022 22h\n",
      "QUERY:  Moon Phase calculatorFebruary 21, 2022 22h\n"
     ]
    },
    {
     "name": "stderr",
     "output_type": "stream",
     "text": [
      "\r",
      "  8%|██████▏                                                                   | 352/4218 [1:23:38<14:33:14, 13.55s/it]"
     ]
    },
    {
     "name": "stdout",
     "output_type": "stream",
     "text": [
      "QUERY:  Precipitation amount in Zollikofen February 21, 2022 23h\n",
      "QUERY:  temperature in Zollikofen February 21, 2022 23h\n",
      "QUERY:  humidity in Zollikofen February 21, 2022 23h\n",
      "QUERY:  wind speed in Zollikofen February 21, 2022 23h\n",
      "QUERY:  Moon Phase calculatorFebruary 21, 2022 23h\n"
     ]
    },
    {
     "name": "stderr",
     "output_type": "stream",
     "text": [
      "\r",
      "  8%|██████▏                                                                   | 353/4218 [1:23:51<14:28:42, 13.49s/it]"
     ]
    },
    {
     "name": "stdout",
     "output_type": "stream",
     "text": [
      "QUERY:  Precipitation amount in Zollikofen February 22, 2022 0h\n",
      "QUERY:  temperature in Zollikofen February 22, 2022 0h\n",
      "QUERY:  humidity in Zollikofen February 22, 2022 0h\n",
      "QUERY:  wind speed in Zollikofen February 22, 2022 0h\n",
      "QUERY:  Moon Phase calculatorFebruary 22, 2022 0h\n"
     ]
    },
    {
     "name": "stderr",
     "output_type": "stream",
     "text": [
      "\r",
      "  8%|██████▏                                                                   | 354/4218 [1:24:05<14:33:23, 13.56s/it]"
     ]
    },
    {
     "name": "stdout",
     "output_type": "stream",
     "text": [
      "QUERY:  Precipitation amount in Zollikofen February 22, 2022 1h\n",
      "QUERY:  temperature in Zollikofen February 22, 2022 1h\n",
      "QUERY:  humidity in Zollikofen February 22, 2022 1h\n",
      "QUERY:  wind speed in Zollikofen February 22, 2022 1h\n",
      "QUERY:  Moon Phase calculatorFebruary 22, 2022 1h\n"
     ]
    },
    {
     "name": "stderr",
     "output_type": "stream",
     "text": [
      "\r",
      "  8%|██████▏                                                                   | 355/4218 [1:24:19<14:36:17, 13.61s/it]"
     ]
    },
    {
     "name": "stdout",
     "output_type": "stream",
     "text": [
      "QUERY:  Precipitation amount in Zollikofen February 22, 2022 2h\n",
      "QUERY:  temperature in Zollikofen February 22, 2022 2h\n",
      "QUERY:  humidity in Zollikofen February 22, 2022 2h\n",
      "QUERY:  wind speed in Zollikofen February 22, 2022 2h\n",
      "QUERY:  Moon Phase calculatorFebruary 22, 2022 2h\n"
     ]
    },
    {
     "name": "stderr",
     "output_type": "stream",
     "text": [
      "\r",
      "  8%|██████▏                                                                   | 356/4218 [1:24:32<14:34:38, 13.59s/it]"
     ]
    },
    {
     "name": "stdout",
     "output_type": "stream",
     "text": [
      "QUERY:  Precipitation amount in Zollikofen February 22, 2022 3h\n",
      "QUERY:  temperature in Zollikofen February 22, 2022 3h\n",
      "QUERY:  humidity in Zollikofen February 22, 2022 3h\n",
      "QUERY:  wind speed in Zollikofen February 22, 2022 3h\n",
      "QUERY:  Moon Phase calculatorFebruary 22, 2022 3h\n"
     ]
    },
    {
     "name": "stderr",
     "output_type": "stream",
     "text": [
      "\r",
      "  8%|██████▎                                                                   | 357/4218 [1:24:48<15:14:35, 14.21s/it]"
     ]
    },
    {
     "name": "stdout",
     "output_type": "stream",
     "text": [
      "QUERY:  Precipitation amount in Zollikofen February 22, 2022 4h\n",
      "QUERY:  temperature in Zollikofen February 22, 2022 4h\n",
      "QUERY:  humidity in Zollikofen February 22, 2022 4h\n",
      "QUERY:  wind speed in Zollikofen February 22, 2022 4h\n",
      "QUERY:  Moon Phase calculatorFebruary 22, 2022 4h\n"
     ]
    },
    {
     "name": "stderr",
     "output_type": "stream",
     "text": [
      "\r",
      "  8%|██████▎                                                                   | 358/4218 [1:25:02<14:58:38, 13.97s/it]"
     ]
    },
    {
     "name": "stdout",
     "output_type": "stream",
     "text": [
      "QUERY:  Precipitation amount in Zollikofen February 22, 2022 5h\n",
      "QUERY:  temperature in Zollikofen February 22, 2022 5h\n",
      "QUERY:  humidity in Zollikofen February 22, 2022 5h\n",
      "QUERY:  wind speed in Zollikofen February 22, 2022 5h\n",
      "QUERY:  Moon Phase calculatorFebruary 22, 2022 5h\n"
     ]
    },
    {
     "name": "stderr",
     "output_type": "stream",
     "text": [
      "\r",
      "  9%|██████▎                                                                   | 359/4218 [1:25:15<14:49:51, 13.84s/it]"
     ]
    },
    {
     "name": "stdout",
     "output_type": "stream",
     "text": [
      "QUERY:  Precipitation amount in Zollikofen February 22, 2022 6h\n",
      "QUERY:  temperature in Zollikofen February 22, 2022 6h\n",
      "QUERY:  humidity in Zollikofen February 22, 2022 6h\n",
      "QUERY:  wind speed in Zollikofen February 22, 2022 6h\n",
      "QUERY:  Moon Phase calculatorFebruary 22, 2022 6h\n"
     ]
    },
    {
     "name": "stderr",
     "output_type": "stream",
     "text": [
      "\r",
      "  9%|██████▎                                                                   | 360/4218 [1:25:29<15:00:08, 14.00s/it]"
     ]
    },
    {
     "name": "stdout",
     "output_type": "stream",
     "text": [
      "QUERY:  Precipitation amount in Zollikofen February 22, 2022 7h\n",
      "QUERY:  temperature in Zollikofen February 22, 2022 7h\n",
      "QUERY:  humidity in Zollikofen February 22, 2022 7h\n",
      "QUERY:  wind speed in Zollikofen February 22, 2022 7h\n",
      "QUERY:  Moon Phase calculatorFebruary 22, 2022 7h\n",
      "(3464, 7)\n"
     ]
    },
    {
     "data": {
      "text/html": [
       "<div>\n",
       "<style scoped>\n",
       "    .dataframe tbody tr th:only-of-type {\n",
       "        vertical-align: middle;\n",
       "    }\n",
       "\n",
       "    .dataframe tbody tr th {\n",
       "        vertical-align: top;\n",
       "    }\n",
       "\n",
       "    .dataframe thead th {\n",
       "        text-align: right;\n",
       "    }\n",
       "</style>\n",
       "<table border=\"1\" class=\"dataframe\">\n",
       "  <thead>\n",
       "    <tr style=\"text-align: right;\">\n",
       "      <th></th>\n",
       "      <th>date</th>\n",
       "      <th>temperature</th>\n",
       "      <th>humidity</th>\n",
       "      <th>wind speed</th>\n",
       "      <th>Precipitation amount</th>\n",
       "      <th>Moon Phase calculator</th>\n",
       "      <th>query</th>\n",
       "    </tr>\n",
       "  </thead>\n",
       "  <tbody>\n",
       "    <tr>\n",
       "      <th>8</th>\n",
       "      <td>2022-02-22 06:00:00</td>\n",
       "      <td>3 °C\\n(6:00 am CET | Tuesday, February 22, 2022)</td>\n",
       "      <td>average: 93% (87 to 100%)\\n(6:00 am CET | Tues...</td>\n",
       "      <td>2 m/s\\n(6:00 am CET | Tuesday, February 22, 2022)</td>\n",
       "      <td>no precipitation\\n(6:00 am CET | Tuesday, Febr...</td>\n",
       "      <td>| waning gibbous moon\\n69.08% illuminated</td>\n",
       "      <td>Moon Phase calculatorFebruary 22, 2022 6h</td>\n",
       "    </tr>\n",
       "    <tr>\n",
       "      <th>9</th>\n",
       "      <td>2022-02-22 07:00:00</td>\n",
       "      <td>3 °C\\n(7:00 am CET | Tuesday, February 22, 2022)</td>\n",
       "      <td>average: 87% (81 to 93%)\\n(7:00 am CET | Tuesd...</td>\n",
       "      <td>3 m/s\\n(7:00 am CET | Tuesday, February 22, 2022)</td>\n",
       "      <td>rain\\n(7:00 am CET | Tuesday, February 22, 2022)</td>\n",
       "      <td>| waning gibbous moon\\n68.65% illuminated</td>\n",
       "      <td>Moon Phase calculatorFebruary 22, 2022 7h</td>\n",
       "    </tr>\n",
       "  </tbody>\n",
       "</table>\n",
       "</div>"
      ],
      "text/plain": [
       "                 date                                       temperature  \\\n",
       "8 2022-02-22 06:00:00  3 °C\\n(6:00 am CET | Tuesday, February 22, 2022)   \n",
       "9 2022-02-22 07:00:00  3 °C\\n(7:00 am CET | Tuesday, February 22, 2022)   \n",
       "\n",
       "                                            humidity  \\\n",
       "8  average: 93% (87 to 100%)\\n(6:00 am CET | Tues...   \n",
       "9  average: 87% (81 to 93%)\\n(7:00 am CET | Tuesd...   \n",
       "\n",
       "                                          wind speed  \\\n",
       "8  2 m/s\\n(6:00 am CET | Tuesday, February 22, 2022)   \n",
       "9  3 m/s\\n(7:00 am CET | Tuesday, February 22, 2022)   \n",
       "\n",
       "                                Precipitation amount  \\\n",
       "8  no precipitation\\n(6:00 am CET | Tuesday, Febr...   \n",
       "9   rain\\n(7:00 am CET | Tuesday, February 22, 2022)   \n",
       "\n",
       "                       Moon Phase calculator  \\\n",
       "8  | waning gibbous moon\\n69.08% illuminated   \n",
       "9  | waning gibbous moon\\n68.65% illuminated   \n",
       "\n",
       "                                       query  \n",
       "8  Moon Phase calculatorFebruary 22, 2022 6h  \n",
       "9  Moon Phase calculatorFebruary 22, 2022 7h  "
      ]
     },
     "metadata": {},
     "output_type": "display_data"
    },
    {
     "name": "stderr",
     "output_type": "stream",
     "text": [
      "\r",
      "  9%|██████▎                                                                   | 361/4218 [1:25:43<14:59:06, 13.99s/it]"
     ]
    },
    {
     "name": "stdout",
     "output_type": "stream",
     "text": [
      "QUERY:  Precipitation amount in Zollikofen February 22, 2022 8h\n",
      "QUERY:  temperature in Zollikofen February 22, 2022 8h\n",
      "QUERY:  humidity in Zollikofen February 22, 2022 8h\n",
      "QUERY:  wind speed in Zollikofen February 22, 2022 8h\n",
      "QUERY:  Moon Phase calculatorFebruary 22, 2022 8h\n"
     ]
    },
    {
     "name": "stderr",
     "output_type": "stream",
     "text": [
      "\r",
      "  9%|██████▎                                                                   | 362/4218 [1:25:58<15:17:42, 14.28s/it]"
     ]
    },
    {
     "name": "stdout",
     "output_type": "stream",
     "text": [
      "QUERY:  Precipitation amount in Zollikofen February 22, 2022 9h\n",
      "QUERY:  temperature in Zollikofen February 22, 2022 9h\n",
      "QUERY:  humidity in Zollikofen February 22, 2022 9h\n",
      "QUERY:  wind speed in Zollikofen February 22, 2022 9h\n",
      "QUERY:  Moon Phase calculatorFebruary 22, 2022 9h\n"
     ]
    },
    {
     "name": "stderr",
     "output_type": "stream",
     "text": [
      "\r",
      "  9%|██████▎                                                                   | 363/4218 [1:26:12<15:05:11, 14.09s/it]"
     ]
    },
    {
     "name": "stdout",
     "output_type": "stream",
     "text": [
      "QUERY:  Precipitation amount in Zollikofen February 22, 2022 10h\n",
      "QUERY:  temperature in Zollikofen February 22, 2022 10h\n",
      "QUERY:  humidity in Zollikofen February 22, 2022 10h\n",
      "QUERY:  wind speed in Zollikofen February 22, 2022 10h\n",
      "QUERY:  Moon Phase calculatorFebruary 22, 2022 10h\n"
     ]
    },
    {
     "name": "stderr",
     "output_type": "stream",
     "text": [
      "\r",
      "  9%|██████▍                                                                   | 364/4218 [1:26:26<14:52:59, 13.90s/it]"
     ]
    },
    {
     "name": "stdout",
     "output_type": "stream",
     "text": [
      "QUERY:  Precipitation amount in Zollikofen February 22, 2022 11h\n",
      "QUERY:  temperature in Zollikofen February 22, 2022 11h\n",
      "QUERY:  humidity in Zollikofen February 22, 2022 11h\n",
      "QUERY:  wind speed in Zollikofen February 22, 2022 11h\n",
      "QUERY:  Moon Phase calculatorFebruary 22, 2022 11h\n"
     ]
    },
    {
     "name": "stderr",
     "output_type": "stream",
     "text": [
      "\r",
      "  9%|██████▍                                                                   | 365/4218 [1:26:39<14:39:49, 13.70s/it]"
     ]
    },
    {
     "name": "stdout",
     "output_type": "stream",
     "text": [
      "QUERY:  Precipitation amount in Zollikofen February 22, 2022 12h\n",
      "QUERY:  temperature in Zollikofen February 22, 2022 12h\n",
      "QUERY:  humidity in Zollikofen February 22, 2022 12h\n",
      "QUERY:  wind speed in Zollikofen February 22, 2022 12h\n",
      "QUERY:  Moon Phase calculatorFebruary 22, 2022 12h\n"
     ]
    },
    {
     "name": "stderr",
     "output_type": "stream",
     "text": [
      "\r",
      "  9%|██████▍                                                                   | 366/4218 [1:26:52<14:40:27, 13.71s/it]"
     ]
    },
    {
     "name": "stdout",
     "output_type": "stream",
     "text": [
      "QUERY:  Precipitation amount in Zollikofen February 22, 2022 13h\n",
      "QUERY:  temperature in Zollikofen February 22, 2022 13h\n",
      "QUERY:  humidity in Zollikofen February 22, 2022 13h\n",
      "QUERY:  wind speed in Zollikofen February 22, 2022 13h\n",
      "QUERY:  Moon Phase calculatorFebruary 22, 2022 13h\n"
     ]
    },
    {
     "name": "stderr",
     "output_type": "stream",
     "text": [
      "\r",
      "  9%|██████▍                                                                   | 367/4218 [1:27:07<14:46:32, 13.81s/it]"
     ]
    },
    {
     "name": "stdout",
     "output_type": "stream",
     "text": [
      "QUERY:  Precipitation amount in Zollikofen February 22, 2022 14h\n",
      "QUERY:  temperature in Zollikofen February 22, 2022 14h\n",
      "QUERY:  humidity in Zollikofen February 22, 2022 14h\n",
      "QUERY:  wind speed in Zollikofen February 22, 2022 14h\n",
      "QUERY:  Moon Phase calculatorFebruary 22, 2022 14h\n"
     ]
    },
    {
     "name": "stderr",
     "output_type": "stream",
     "text": [
      "\r",
      "  9%|██████▍                                                                   | 368/4218 [1:27:23<15:33:05, 14.54s/it]"
     ]
    },
    {
     "name": "stdout",
     "output_type": "stream",
     "text": [
      "QUERY:  Precipitation amount in Zollikofen February 22, 2022 15h\n",
      "QUERY:  temperature in Zollikofen February 22, 2022 15h\n",
      "QUERY:  humidity in Zollikofen February 22, 2022 15h\n",
      "QUERY:  wind speed in Zollikofen February 22, 2022 15h\n",
      "QUERY:  Moon Phase calculatorFebruary 22, 2022 15h\n"
     ]
    },
    {
     "name": "stderr",
     "output_type": "stream",
     "text": [
      "\r",
      "  9%|██████▍                                                                   | 369/4218 [1:27:37<15:24:27, 14.41s/it]"
     ]
    },
    {
     "name": "stdout",
     "output_type": "stream",
     "text": [
      "QUERY:  Precipitation amount in Zollikofen February 22, 2022 16h\n",
      "QUERY:  temperature in Zollikofen February 22, 2022 16h\n",
      "QUERY:  humidity in Zollikofen February 22, 2022 16h\n",
      "QUERY:  wind speed in Zollikofen February 22, 2022 16h\n",
      "QUERY:  Moon Phase calculatorFebruary 22, 2022 16h\n"
     ]
    },
    {
     "name": "stderr",
     "output_type": "stream",
     "text": [
      "\r",
      "  9%|██████▍                                                                   | 370/4218 [1:27:51<15:09:52, 14.19s/it]"
     ]
    },
    {
     "name": "stdout",
     "output_type": "stream",
     "text": [
      "QUERY:  Precipitation amount in Zollikofen February 22, 2022 17h\n",
      "QUERY:  temperature in Zollikofen February 22, 2022 17h\n",
      "QUERY:  humidity in Zollikofen February 22, 2022 17h\n",
      "QUERY:  wind speed in Zollikofen February 22, 2022 17h\n",
      "QUERY:  Moon Phase calculatorFebruary 22, 2022 17h\n",
      "(3474, 7)\n"
     ]
    },
    {
     "data": {
      "text/html": [
       "<div>\n",
       "<style scoped>\n",
       "    .dataframe tbody tr th:only-of-type {\n",
       "        vertical-align: middle;\n",
       "    }\n",
       "\n",
       "    .dataframe tbody tr th {\n",
       "        vertical-align: top;\n",
       "    }\n",
       "\n",
       "    .dataframe thead th {\n",
       "        text-align: right;\n",
       "    }\n",
       "</style>\n",
       "<table border=\"1\" class=\"dataframe\">\n",
       "  <thead>\n",
       "    <tr style=\"text-align: right;\">\n",
       "      <th></th>\n",
       "      <th>date</th>\n",
       "      <th>temperature</th>\n",
       "      <th>humidity</th>\n",
       "      <th>wind speed</th>\n",
       "      <th>Precipitation amount</th>\n",
       "      <th>Moon Phase calculator</th>\n",
       "      <th>query</th>\n",
       "    </tr>\n",
       "  </thead>\n",
       "  <tbody>\n",
       "    <tr>\n",
       "      <th>8</th>\n",
       "      <td>2022-02-22 16:00:00</td>\n",
       "      <td>9 °C\\n(4:00 pm CET | Tuesday, February 22, 2022)</td>\n",
       "      <td>average: 51% (50 to 53%)\\n(4:00 pm CET | Tuesd...</td>\n",
       "      <td>5 m/s\\n(4:00 pm CET | Tuesday, February 22, 2022)</td>\n",
       "      <td>no precipitation\\n(4:00 pm CET | Tuesday, Febr...</td>\n",
       "      <td>| waning gibbous moon\\n64.71% illuminated</td>\n",
       "      <td>Moon Phase calculatorFebruary 22, 2022 16h</td>\n",
       "    </tr>\n",
       "    <tr>\n",
       "      <th>9</th>\n",
       "      <td>2022-02-22 17:00:00</td>\n",
       "      <td>9 °C\\n(5:00 pm CET | Tuesday, February 22, 2022)</td>\n",
       "      <td>average: 53% (50 to 57%)\\n(5:00 pm CET | Tuesd...</td>\n",
       "      <td>3 m/s\\n(5:00 pm CET | Tuesday, February 22, 2022)</td>\n",
       "      <td>no precipitation\\n(5:00 pm CET | Tuesday, Febr...</td>\n",
       "      <td>| waning gibbous moon\\n64.27% illuminated</td>\n",
       "      <td>Moon Phase calculatorFebruary 22, 2022 17h</td>\n",
       "    </tr>\n",
       "  </tbody>\n",
       "</table>\n",
       "</div>"
      ],
      "text/plain": [
       "                 date                                       temperature  \\\n",
       "8 2022-02-22 16:00:00  9 °C\\n(4:00 pm CET | Tuesday, February 22, 2022)   \n",
       "9 2022-02-22 17:00:00  9 °C\\n(5:00 pm CET | Tuesday, February 22, 2022)   \n",
       "\n",
       "                                            humidity  \\\n",
       "8  average: 51% (50 to 53%)\\n(4:00 pm CET | Tuesd...   \n",
       "9  average: 53% (50 to 57%)\\n(5:00 pm CET | Tuesd...   \n",
       "\n",
       "                                          wind speed  \\\n",
       "8  5 m/s\\n(4:00 pm CET | Tuesday, February 22, 2022)   \n",
       "9  3 m/s\\n(5:00 pm CET | Tuesday, February 22, 2022)   \n",
       "\n",
       "                                Precipitation amount  \\\n",
       "8  no precipitation\\n(4:00 pm CET | Tuesday, Febr...   \n",
       "9  no precipitation\\n(5:00 pm CET | Tuesday, Febr...   \n",
       "\n",
       "                       Moon Phase calculator  \\\n",
       "8  | waning gibbous moon\\n64.71% illuminated   \n",
       "9  | waning gibbous moon\\n64.27% illuminated   \n",
       "\n",
       "                                        query  \n",
       "8  Moon Phase calculatorFebruary 22, 2022 16h  \n",
       "9  Moon Phase calculatorFebruary 22, 2022 17h  "
      ]
     },
     "metadata": {},
     "output_type": "display_data"
    },
    {
     "name": "stderr",
     "output_type": "stream",
     "text": [
      "\r",
      "  9%|██████▌                                                                   | 371/4218 [1:28:06<15:38:15, 14.63s/it]"
     ]
    },
    {
     "name": "stdout",
     "output_type": "stream",
     "text": [
      "QUERY:  Precipitation amount in Zollikofen February 22, 2022 18h\n",
      "QUERY:  temperature in Zollikofen February 22, 2022 18h\n",
      "QUERY:  humidity in Zollikofen February 22, 2022 18h\n",
      "QUERY:  wind speed in Zollikofen February 22, 2022 18h\n",
      "QUERY:  Moon Phase calculatorFebruary 22, 2022 18h\n"
     ]
    },
    {
     "name": "stderr",
     "output_type": "stream",
     "text": [
      "\r",
      "  9%|██████▌                                                                   | 372/4218 [1:28:19<15:11:45, 14.22s/it]"
     ]
    },
    {
     "name": "stdout",
     "output_type": "stream",
     "text": [
      "QUERY:  Precipitation amount in Zollikofen February 22, 2022 19h\n",
      "QUERY:  temperature in Zollikofen February 22, 2022 19h\n",
      "QUERY:  humidity in Zollikofen February 22, 2022 19h\n",
      "QUERY:  wind speed in Zollikofen February 22, 2022 19h\n",
      "QUERY:  Moon Phase calculatorFebruary 22, 2022 19h\n"
     ]
    },
    {
     "name": "stderr",
     "output_type": "stream",
     "text": [
      "\r",
      "  9%|██████▌                                                                   | 373/4218 [1:28:33<15:06:53, 14.15s/it]"
     ]
    },
    {
     "name": "stdout",
     "output_type": "stream",
     "text": [
      "QUERY:  Precipitation amount in Zollikofen February 22, 2022 20h\n",
      "QUERY:  temperature in Zollikofen February 22, 2022 20h\n",
      "QUERY:  humidity in Zollikofen February 22, 2022 20h\n",
      "QUERY:  wind speed in Zollikofen February 22, 2022 20h\n",
      "QUERY:  Moon Phase calculatorFebruary 22, 2022 20h\n"
     ]
    },
    {
     "name": "stderr",
     "output_type": "stream",
     "text": [
      "\r",
      "  9%|██████▌                                                                   | 374/4218 [1:28:47<14:52:18, 13.93s/it]"
     ]
    },
    {
     "name": "stdout",
     "output_type": "stream",
     "text": [
      "QUERY:  Precipitation amount in Zollikofen February 22, 2022 21h\n",
      "QUERY:  temperature in Zollikofen February 22, 2022 21h\n",
      "QUERY:  humidity in Zollikofen February 22, 2022 21h\n",
      "QUERY:  wind speed in Zollikofen February 22, 2022 21h\n",
      "QUERY:  Moon Phase calculatorFebruary 22, 2022 21h\n"
     ]
    },
    {
     "name": "stderr",
     "output_type": "stream",
     "text": [
      "\r",
      "  9%|██████▌                                                                   | 375/4218 [1:29:01<14:53:08, 13.94s/it]"
     ]
    },
    {
     "name": "stdout",
     "output_type": "stream",
     "text": [
      "QUERY:  Precipitation amount in Zollikofen February 22, 2022 22h\n",
      "QUERY:  temperature in Zollikofen February 22, 2022 22h\n",
      "QUERY:  humidity in Zollikofen February 22, 2022 22h\n",
      "QUERY:  wind speed in Zollikofen February 22, 2022 22h\n",
      "QUERY:  Moon Phase calculatorFebruary 22, 2022 22h\n"
     ]
    },
    {
     "name": "stderr",
     "output_type": "stream",
     "text": [
      "\r",
      "  9%|██████▌                                                                   | 376/4218 [1:29:15<14:50:11, 13.90s/it]"
     ]
    },
    {
     "name": "stdout",
     "output_type": "stream",
     "text": [
      "QUERY:  Precipitation amount in Zollikofen February 22, 2022 23h\n",
      "QUERY:  temperature in Zollikofen February 22, 2022 23h\n",
      "QUERY:  humidity in Zollikofen February 22, 2022 23h\n",
      "QUERY:  wind speed in Zollikofen February 22, 2022 23h\n",
      "QUERY:  Moon Phase calculatorFebruary 22, 2022 23h\n"
     ]
    },
    {
     "name": "stderr",
     "output_type": "stream",
     "text": [
      "\r",
      "  9%|██████▌                                                                   | 377/4218 [1:29:28<14:37:53, 13.71s/it]"
     ]
    },
    {
     "name": "stdout",
     "output_type": "stream",
     "text": [
      "QUERY:  Precipitation amount in Zollikofen February 23, 2022 0h\n",
      "QUERY:  temperature in Zollikofen February 23, 2022 0h\n",
      "QUERY:  humidity in Zollikofen February 23, 2022 0h\n",
      "QUERY:  wind speed in Zollikofen February 23, 2022 0h\n",
      "QUERY:  Moon Phase calculatorFebruary 23, 2022 0h\n"
     ]
    },
    {
     "name": "stderr",
     "output_type": "stream",
     "text": [
      "\r",
      "  9%|██████▋                                                                   | 378/4218 [1:29:43<15:06:45, 14.17s/it]"
     ]
    },
    {
     "name": "stdout",
     "output_type": "stream",
     "text": [
      "QUERY:  Precipitation amount in Zollikofen February 23, 2022 1h\n",
      "QUERY:  temperature in Zollikofen February 23, 2022 1h\n",
      "QUERY:  humidity in Zollikofen February 23, 2022 1h\n",
      "QUERY:  wind speed in Zollikofen February 23, 2022 1h\n",
      "QUERY:  Moon Phase calculatorFebruary 23, 2022 1h\n"
     ]
    },
    {
     "name": "stderr",
     "output_type": "stream",
     "text": [
      "\r",
      "  9%|██████▋                                                                   | 379/4218 [1:29:58<15:12:08, 14.26s/it]"
     ]
    },
    {
     "name": "stdout",
     "output_type": "stream",
     "text": [
      "QUERY:  Precipitation amount in Zollikofen February 23, 2022 2h\n",
      "QUERY:  temperature in Zollikofen February 23, 2022 2h\n",
      "QUERY:  humidity in Zollikofen February 23, 2022 2h\n",
      "QUERY:  wind speed in Zollikofen February 23, 2022 2h\n",
      "QUERY:  Moon Phase calculatorFebruary 23, 2022 2h\n"
     ]
    },
    {
     "name": "stderr",
     "output_type": "stream",
     "text": [
      "\r",
      "  9%|██████▋                                                                   | 380/4218 [1:30:11<15:01:42, 14.10s/it]"
     ]
    },
    {
     "name": "stdout",
     "output_type": "stream",
     "text": [
      "QUERY:  Precipitation amount in Zollikofen February 23, 2022 3h\n",
      "QUERY:  temperature in Zollikofen February 23, 2022 3h\n",
      "QUERY:  humidity in Zollikofen February 23, 2022 3h\n",
      "QUERY:  wind speed in Zollikofen February 23, 2022 3h\n",
      "QUERY:  Moon Phase calculatorFebruary 23, 2022 3h\n",
      "(3484, 7)\n"
     ]
    },
    {
     "data": {
      "text/html": [
       "<div>\n",
       "<style scoped>\n",
       "    .dataframe tbody tr th:only-of-type {\n",
       "        vertical-align: middle;\n",
       "    }\n",
       "\n",
       "    .dataframe tbody tr th {\n",
       "        vertical-align: top;\n",
       "    }\n",
       "\n",
       "    .dataframe thead th {\n",
       "        text-align: right;\n",
       "    }\n",
       "</style>\n",
       "<table border=\"1\" class=\"dataframe\">\n",
       "  <thead>\n",
       "    <tr style=\"text-align: right;\">\n",
       "      <th></th>\n",
       "      <th>date</th>\n",
       "      <th>temperature</th>\n",
       "      <th>humidity</th>\n",
       "      <th>wind speed</th>\n",
       "      <th>Precipitation amount</th>\n",
       "      <th>Moon Phase calculator</th>\n",
       "      <th>query</th>\n",
       "    </tr>\n",
       "  </thead>\n",
       "  <tbody>\n",
       "    <tr>\n",
       "      <th>8</th>\n",
       "      <td>2022-02-23 02:00:00</td>\n",
       "      <td>6 °C\\n(2:00 am CET | Wednesday, February 23, 2...</td>\n",
       "      <td>average: 78% (75 to 81%)\\n(2:00 am CET | Wedne...</td>\n",
       "      <td>3 m/s\\n(2:00 am CET | Wednesday, February 23, ...</td>\n",
       "      <td>no precipitation\\n(2:00 am CET | Wednesday, Fe...</td>\n",
       "      <td>| waning gibbous moon\\n60.19% illuminated</td>\n",
       "      <td>Moon Phase calculatorFebruary 23, 2022 2h</td>\n",
       "    </tr>\n",
       "    <tr>\n",
       "      <th>9</th>\n",
       "      <td>2022-02-23 03:00:00</td>\n",
       "      <td>6 °C\\n(3:00 am CET | Wednesday, February 23, 2...</td>\n",
       "      <td>average: 78% (75 to 81%)\\n(3:00 am CET | Wedne...</td>\n",
       "      <td>3 m/s\\n(3:00 am CET | Wednesday, February 23, ...</td>\n",
       "      <td>no precipitation\\n(3:00 am CET | Wednesday, Fe...</td>\n",
       "      <td>| waning gibbous moon\\n59.73% illuminated</td>\n",
       "      <td>Moon Phase calculatorFebruary 23, 2022 3h</td>\n",
       "    </tr>\n",
       "  </tbody>\n",
       "</table>\n",
       "</div>"
      ],
      "text/plain": [
       "                 date                                        temperature  \\\n",
       "8 2022-02-23 02:00:00  6 °C\\n(2:00 am CET | Wednesday, February 23, 2...   \n",
       "9 2022-02-23 03:00:00  6 °C\\n(3:00 am CET | Wednesday, February 23, 2...   \n",
       "\n",
       "                                            humidity  \\\n",
       "8  average: 78% (75 to 81%)\\n(2:00 am CET | Wedne...   \n",
       "9  average: 78% (75 to 81%)\\n(3:00 am CET | Wedne...   \n",
       "\n",
       "                                          wind speed  \\\n",
       "8  3 m/s\\n(2:00 am CET | Wednesday, February 23, ...   \n",
       "9  3 m/s\\n(3:00 am CET | Wednesday, February 23, ...   \n",
       "\n",
       "                                Precipitation amount  \\\n",
       "8  no precipitation\\n(2:00 am CET | Wednesday, Fe...   \n",
       "9  no precipitation\\n(3:00 am CET | Wednesday, Fe...   \n",
       "\n",
       "                       Moon Phase calculator  \\\n",
       "8  | waning gibbous moon\\n60.19% illuminated   \n",
       "9  | waning gibbous moon\\n59.73% illuminated   \n",
       "\n",
       "                                       query  \n",
       "8  Moon Phase calculatorFebruary 23, 2022 2h  \n",
       "9  Moon Phase calculatorFebruary 23, 2022 3h  "
      ]
     },
     "metadata": {},
     "output_type": "display_data"
    },
    {
     "name": "stderr",
     "output_type": "stream",
     "text": [
      "\r",
      "  9%|██████▋                                                                   | 381/4218 [1:30:26<15:03:41, 14.13s/it]"
     ]
    },
    {
     "name": "stdout",
     "output_type": "stream",
     "text": [
      "QUERY:  Precipitation amount in Zollikofen February 23, 2022 4h\n",
      "QUERY:  temperature in Zollikofen February 23, 2022 4h\n",
      "QUERY:  humidity in Zollikofen February 23, 2022 4h\n",
      "QUERY:  wind speed in Zollikofen February 23, 2022 4h\n",
      "QUERY:  Moon Phase calculatorFebruary 23, 2022 4h\n"
     ]
    },
    {
     "name": "stderr",
     "output_type": "stream",
     "text": [
      "\r",
      "  9%|██████▋                                                                   | 382/4218 [1:30:39<14:55:01, 14.00s/it]"
     ]
    },
    {
     "name": "stdout",
     "output_type": "stream",
     "text": [
      "QUERY:  Precipitation amount in Zollikofen February 23, 2022 5h\n",
      "QUERY:  temperature in Zollikofen February 23, 2022 5h\n",
      "QUERY:  humidity in Zollikofen February 23, 2022 5h\n",
      "QUERY:  wind speed in Zollikofen February 23, 2022 5h\n",
      "QUERY:  Moon Phase calculatorFebruary 23, 2022 5h\n"
     ]
    },
    {
     "name": "stderr",
     "output_type": "stream",
     "text": [
      "\r",
      "  9%|██████▋                                                                   | 383/4218 [1:30:53<14:51:46, 13.95s/it]"
     ]
    },
    {
     "name": "stdout",
     "output_type": "stream",
     "text": [
      "QUERY:  Precipitation amount in Zollikofen February 23, 2022 6h\n",
      "QUERY:  temperature in Zollikofen February 23, 2022 6h\n",
      "QUERY:  humidity in Zollikofen February 23, 2022 6h\n",
      "QUERY:  wind speed in Zollikofen February 23, 2022 6h\n",
      "QUERY:  Moon Phase calculatorFebruary 23, 2022 6h\n"
     ]
    },
    {
     "name": "stderr",
     "output_type": "stream",
     "text": [
      "\r",
      "  9%|██████▋                                                                   | 384/4218 [1:31:08<15:12:35, 14.28s/it]"
     ]
    },
    {
     "name": "stdout",
     "output_type": "stream",
     "text": [
      "QUERY:  Precipitation amount in Zollikofen February 23, 2022 7h\n",
      "QUERY:  temperature in Zollikofen February 23, 2022 7h\n",
      "QUERY:  humidity in Zollikofen February 23, 2022 7h\n",
      "QUERY:  wind speed in Zollikofen February 23, 2022 7h\n",
      "QUERY:  Moon Phase calculatorFebruary 23, 2022 7h\n"
     ]
    },
    {
     "name": "stderr",
     "output_type": "stream",
     "text": [
      "\r",
      "  9%|██████▊                                                                   | 385/4218 [1:31:22<15:09:11, 14.23s/it]"
     ]
    },
    {
     "name": "stdout",
     "output_type": "stream",
     "text": [
      "QUERY:  Precipitation amount in Zollikofen February 23, 2022 8h\n",
      "QUERY:  temperature in Zollikofen February 23, 2022 8h\n",
      "QUERY:  humidity in Zollikofen February 23, 2022 8h\n",
      "QUERY:  wind speed in Zollikofen February 23, 2022 8h\n",
      "QUERY:  Moon Phase calculatorFebruary 23, 2022 8h\n"
     ]
    },
    {
     "name": "stderr",
     "output_type": "stream",
     "text": [
      "\r",
      "  9%|██████▊                                                                   | 386/4218 [1:31:36<15:01:05, 14.11s/it]"
     ]
    },
    {
     "name": "stdout",
     "output_type": "stream",
     "text": [
      "QUERY:  Precipitation amount in Zollikofen February 23, 2022 9h\n",
      "QUERY:  temperature in Zollikofen February 23, 2022 9h\n",
      "QUERY:  humidity in Zollikofen February 23, 2022 9h\n",
      "QUERY:  wind speed in Zollikofen February 23, 2022 9h\n",
      "QUERY:  Moon Phase calculatorFebruary 23, 2022 9h\n"
     ]
    },
    {
     "name": "stderr",
     "output_type": "stream",
     "text": [
      "\r",
      "  9%|██████▊                                                                   | 387/4218 [1:31:50<15:01:33, 14.12s/it]"
     ]
    },
    {
     "name": "stdout",
     "output_type": "stream",
     "text": [
      "QUERY:  Precipitation amount in Zollikofen February 23, 2022 10h\n",
      "QUERY:  temperature in Zollikofen February 23, 2022 10h\n",
      "QUERY:  humidity in Zollikofen February 23, 2022 10h\n",
      "QUERY:  wind speed in Zollikofen February 23, 2022 10h\n",
      "QUERY:  Moon Phase calculatorFebruary 23, 2022 10h\n"
     ]
    },
    {
     "name": "stderr",
     "output_type": "stream",
     "text": [
      "\r",
      "  9%|██████▊                                                                   | 388/4218 [1:32:06<15:31:56, 14.60s/it]"
     ]
    },
    {
     "name": "stdout",
     "output_type": "stream",
     "text": [
      "QUERY:  Precipitation amount in Zollikofen February 23, 2022 11h\n",
      "QUERY:  temperature in Zollikofen February 23, 2022 11h\n",
      "QUERY:  humidity in Zollikofen February 23, 2022 11h\n",
      "QUERY:  wind speed in Zollikofen February 23, 2022 11h\n",
      "QUERY:  Moon Phase calculatorFebruary 23, 2022 11h\n"
     ]
    },
    {
     "name": "stderr",
     "output_type": "stream",
     "text": [
      "\r",
      "  9%|██████▊                                                                   | 389/4218 [1:32:20<15:18:41, 14.40s/it]"
     ]
    },
    {
     "name": "stdout",
     "output_type": "stream",
     "text": [
      "QUERY:  Precipitation amount in Zollikofen February 23, 2022 12h\n",
      "QUERY:  temperature in Zollikofen February 23, 2022 12h\n",
      "QUERY:  humidity in Zollikofen February 23, 2022 12h\n",
      "QUERY:  wind speed in Zollikofen February 23, 2022 12h\n",
      "QUERY:  Moon Phase calculatorFebruary 23, 2022 12h\n"
     ]
    },
    {
     "name": "stderr",
     "output_type": "stream",
     "text": [
      "\r",
      "  9%|██████▊                                                                   | 390/4218 [1:32:34<15:15:57, 14.36s/it]"
     ]
    },
    {
     "name": "stdout",
     "output_type": "stream",
     "text": [
      "QUERY:  Precipitation amount in Zollikofen February 23, 2022 13h\n",
      "QUERY:  temperature in Zollikofen February 23, 2022 13h\n",
      "QUERY:  humidity in Zollikofen February 23, 2022 13h\n",
      "QUERY:  wind speed in Zollikofen February 23, 2022 13h\n",
      "QUERY:  Moon Phase calculatorFebruary 23, 2022 13h\n",
      "(3494, 7)\n"
     ]
    },
    {
     "data": {
      "text/html": [
       "<div>\n",
       "<style scoped>\n",
       "    .dataframe tbody tr th:only-of-type {\n",
       "        vertical-align: middle;\n",
       "    }\n",
       "\n",
       "    .dataframe tbody tr th {\n",
       "        vertical-align: top;\n",
       "    }\n",
       "\n",
       "    .dataframe thead th {\n",
       "        text-align: right;\n",
       "    }\n",
       "</style>\n",
       "<table border=\"1\" class=\"dataframe\">\n",
       "  <thead>\n",
       "    <tr style=\"text-align: right;\">\n",
       "      <th></th>\n",
       "      <th>date</th>\n",
       "      <th>temperature</th>\n",
       "      <th>humidity</th>\n",
       "      <th>wind speed</th>\n",
       "      <th>Precipitation amount</th>\n",
       "      <th>Moon Phase calculator</th>\n",
       "      <th>query</th>\n",
       "    </tr>\n",
       "  </thead>\n",
       "  <tbody>\n",
       "    <tr>\n",
       "      <th>8</th>\n",
       "      <td>2022-02-23 12:00:00</td>\n",
       "      <td>11 °C\\n(12:00 pm CET | Wednesday, February 23,...</td>\n",
       "      <td>average: 60% (58 to 62%)\\n(12:00 pm CET | Wedn...</td>\n",
       "      <td>1 m/s\\n(12:00 pm CET | Wednesday, February 23,...</td>\n",
       "      <td>no precipitation\\n(12:00 pm CET | Wednesday, F...</td>\n",
       "      <td>| waning gibbous moon\\n55.56% illuminated</td>\n",
       "      <td>Moon Phase calculatorFebruary 23, 2022 12h</td>\n",
       "    </tr>\n",
       "    <tr>\n",
       "      <th>9</th>\n",
       "      <td>2022-02-23 13:00:00</td>\n",
       "      <td>12 °C\\n(1:00 pm CET | Wednesday, February 23, ...</td>\n",
       "      <td>average: 54% (50 to 58%)\\n(1:00 pm CET | Wedne...</td>\n",
       "      <td>1 m/s\\n(1:00 pm CET | Wednesday, February 23, ...</td>\n",
       "      <td>no precipitation\\n(1:00 pm CET | Wednesday, Fe...</td>\n",
       "      <td>| last quarter moon\\n55.09% illuminated</td>\n",
       "      <td>Moon Phase calculatorFebruary 23, 2022 13h</td>\n",
       "    </tr>\n",
       "  </tbody>\n",
       "</table>\n",
       "</div>"
      ],
      "text/plain": [
       "                 date                                        temperature  \\\n",
       "8 2022-02-23 12:00:00  11 °C\\n(12:00 pm CET | Wednesday, February 23,...   \n",
       "9 2022-02-23 13:00:00  12 °C\\n(1:00 pm CET | Wednesday, February 23, ...   \n",
       "\n",
       "                                            humidity  \\\n",
       "8  average: 60% (58 to 62%)\\n(12:00 pm CET | Wedn...   \n",
       "9  average: 54% (50 to 58%)\\n(1:00 pm CET | Wedne...   \n",
       "\n",
       "                                          wind speed  \\\n",
       "8  1 m/s\\n(12:00 pm CET | Wednesday, February 23,...   \n",
       "9  1 m/s\\n(1:00 pm CET | Wednesday, February 23, ...   \n",
       "\n",
       "                                Precipitation amount  \\\n",
       "8  no precipitation\\n(12:00 pm CET | Wednesday, F...   \n",
       "9  no precipitation\\n(1:00 pm CET | Wednesday, Fe...   \n",
       "\n",
       "                       Moon Phase calculator  \\\n",
       "8  | waning gibbous moon\\n55.56% illuminated   \n",
       "9    | last quarter moon\\n55.09% illuminated   \n",
       "\n",
       "                                        query  \n",
       "8  Moon Phase calculatorFebruary 23, 2022 12h  \n",
       "9  Moon Phase calculatorFebruary 23, 2022 13h  "
      ]
     },
     "metadata": {},
     "output_type": "display_data"
    },
    {
     "name": "stderr",
     "output_type": "stream",
     "text": [
      "\r",
      "  9%|██████▊                                                                   | 391/4218 [1:32:48<15:04:53, 14.19s/it]"
     ]
    },
    {
     "name": "stdout",
     "output_type": "stream",
     "text": [
      "QUERY:  Precipitation amount in Zollikofen February 23, 2022 14h\n",
      "QUERY:  temperature in Zollikofen February 23, 2022 14h\n",
      "QUERY:  humidity in Zollikofen February 23, 2022 14h\n",
      "QUERY:  wind speed in Zollikofen February 23, 2022 14h\n",
      "QUERY:  Moon Phase calculatorFebruary 23, 2022 14h\n"
     ]
    },
    {
     "name": "stderr",
     "output_type": "stream",
     "text": [
      "\r",
      "  9%|██████▉                                                                   | 392/4218 [1:33:05<15:51:47, 14.93s/it]"
     ]
    },
    {
     "name": "stdout",
     "output_type": "stream",
     "text": [
      "QUERY:  Precipitation amount in Zollikofen February 23, 2022 15h\n",
      "QUERY:  temperature in Zollikofen February 23, 2022 15h\n",
      "QUERY:  humidity in Zollikofen February 23, 2022 15h\n",
      "QUERY:  wind speed in Zollikofen February 23, 2022 15h\n",
      "QUERY:  Moon Phase calculatorFebruary 23, 2022 15h\n"
     ]
    },
    {
     "name": "stderr",
     "output_type": "stream",
     "text": [
      "\r",
      "  9%|██████▉                                                                   | 393/4218 [1:33:19<15:35:21, 14.67s/it]"
     ]
    },
    {
     "name": "stdout",
     "output_type": "stream",
     "text": [
      "QUERY:  Precipitation amount in Zollikofen February 23, 2022 16h\n",
      "QUERY:  temperature in Zollikofen February 23, 2022 16h\n",
      "QUERY:  humidity in Zollikofen February 23, 2022 16h\n",
      "QUERY:  wind speed in Zollikofen February 23, 2022 16h\n",
      "QUERY:  Moon Phase calculatorFebruary 23, 2022 16h\n"
     ]
    },
    {
     "name": "stderr",
     "output_type": "stream",
     "text": [
      "\r",
      "  9%|██████▉                                                                   | 394/4218 [1:33:33<15:23:46, 14.49s/it]"
     ]
    },
    {
     "name": "stdout",
     "output_type": "stream",
     "text": [
      "QUERY:  Precipitation amount in Zollikofen February 23, 2022 17h\n",
      "QUERY:  temperature in Zollikofen February 23, 2022 17h\n",
      "QUERY:  humidity in Zollikofen February 23, 2022 17h\n",
      "QUERY:  wind speed in Zollikofen February 23, 2022 17h\n",
      "QUERY:  Moon Phase calculatorFebruary 23, 2022 17h\n"
     ]
    },
    {
     "name": "stderr",
     "output_type": "stream",
     "text": [
      "\r",
      "  9%|██████▉                                                                   | 395/4218 [1:33:47<15:28:02, 14.57s/it]"
     ]
    },
    {
     "name": "stdout",
     "output_type": "stream",
     "text": [
      "QUERY:  Precipitation amount in Zollikofen February 23, 2022 18h\n",
      "QUERY:  temperature in Zollikofen February 23, 2022 18h\n",
      "QUERY:  humidity in Zollikofen February 23, 2022 18h\n",
      "QUERY:  wind speed in Zollikofen February 23, 2022 18h\n",
      "QUERY:  Moon Phase calculatorFebruary 23, 2022 18h\n"
     ]
    },
    {
     "name": "stderr",
     "output_type": "stream",
     "text": [
      "\r",
      "  9%|██████▉                                                                   | 396/4218 [1:34:02<15:23:44, 14.50s/it]"
     ]
    },
    {
     "name": "stdout",
     "output_type": "stream",
     "text": [
      "QUERY:  Precipitation amount in Zollikofen February 23, 2022 19h\n",
      "QUERY:  temperature in Zollikofen February 23, 2022 19h\n",
      "QUERY:  humidity in Zollikofen February 23, 2022 19h\n",
      "QUERY:  wind speed in Zollikofen February 23, 2022 19h\n",
      "QUERY:  Moon Phase calculatorFebruary 23, 2022 19h\n"
     ]
    },
    {
     "name": "stderr",
     "output_type": "stream",
     "text": [
      "\r",
      "  9%|██████▉                                                                   | 397/4218 [1:34:16<15:21:40, 14.47s/it]"
     ]
    },
    {
     "name": "stdout",
     "output_type": "stream",
     "text": [
      "QUERY:  Precipitation amount in Zollikofen February 23, 2022 20h\n",
      "QUERY:  temperature in Zollikofen February 23, 2022 20h\n",
      "QUERY:  humidity in Zollikofen February 23, 2022 20h\n",
      "QUERY:  wind speed in Zollikofen February 23, 2022 20h\n",
      "QUERY:  Moon Phase calculatorFebruary 23, 2022 20h\n"
     ]
    },
    {
     "name": "stderr",
     "output_type": "stream",
     "text": [
      "\r",
      "  9%|██████▉                                                                   | 398/4218 [1:34:30<15:11:55, 14.32s/it]"
     ]
    },
    {
     "name": "stdout",
     "output_type": "stream",
     "text": [
      "QUERY:  Precipitation amount in Zollikofen February 23, 2022 21h\n",
      "QUERY:  temperature in Zollikofen February 23, 2022 21h\n",
      "QUERY:  humidity in Zollikofen February 23, 2022 21h\n",
      "QUERY:  wind speed in Zollikofen February 23, 2022 21h\n",
      "QUERY:  Moon Phase calculatorFebruary 23, 2022 21h\n"
     ]
    },
    {
     "name": "stderr",
     "output_type": "stream",
     "text": [
      "\r",
      "  9%|███████                                                                   | 399/4218 [1:34:44<15:10:06, 14.30s/it]"
     ]
    },
    {
     "name": "stdout",
     "output_type": "stream",
     "text": [
      "QUERY:  Precipitation amount in Zollikofen February 23, 2022 22h\n",
      "QUERY:  temperature in Zollikofen February 23, 2022 22h\n",
      "QUERY:  humidity in Zollikofen February 23, 2022 22h\n",
      "QUERY:  wind speed in Zollikofen February 23, 2022 22h\n",
      "QUERY:  Moon Phase calculatorFebruary 23, 2022 22h\n"
     ]
    },
    {
     "name": "stderr",
     "output_type": "stream",
     "text": [
      "\r",
      "  9%|███████                                                                   | 400/4218 [1:34:58<14:57:45, 14.11s/it]"
     ]
    },
    {
     "name": "stdout",
     "output_type": "stream",
     "text": [
      "QUERY:  Precipitation amount in Zollikofen February 23, 2022 23h\n",
      "QUERY:  temperature in Zollikofen February 23, 2022 23h\n",
      "QUERY:  humidity in Zollikofen February 23, 2022 23h\n",
      "QUERY:  wind speed in Zollikofen February 23, 2022 23h\n",
      "QUERY:  Moon Phase calculatorFebruary 23, 2022 23h\n",
      "(3504, 7)\n"
     ]
    },
    {
     "data": {
      "text/html": [
       "<div>\n",
       "<style scoped>\n",
       "    .dataframe tbody tr th:only-of-type {\n",
       "        vertical-align: middle;\n",
       "    }\n",
       "\n",
       "    .dataframe tbody tr th {\n",
       "        vertical-align: top;\n",
       "    }\n",
       "\n",
       "    .dataframe thead th {\n",
       "        text-align: right;\n",
       "    }\n",
       "</style>\n",
       "<table border=\"1\" class=\"dataframe\">\n",
       "  <thead>\n",
       "    <tr style=\"text-align: right;\">\n",
       "      <th></th>\n",
       "      <th>date</th>\n",
       "      <th>temperature</th>\n",
       "      <th>humidity</th>\n",
       "      <th>wind speed</th>\n",
       "      <th>Precipitation amount</th>\n",
       "      <th>Moon Phase calculator</th>\n",
       "      <th>query</th>\n",
       "    </tr>\n",
       "  </thead>\n",
       "  <tbody>\n",
       "    <tr>\n",
       "      <th>8</th>\n",
       "      <td>2022-02-23 22:00:00</td>\n",
       "      <td>2 °C\\n(10:00 pm CET | Wednesday, February 23, ...</td>\n",
       "      <td>average: 93% (93%)\\n(10:00 pm CET | Wednesday,...</td>\n",
       "      <td>1 m/s\\n(10:00 pm CET | Wednesday, February 23,...</td>\n",
       "      <td>no precipitation\\n(10:00 pm CET | Wednesday, F...</td>\n",
       "      <td>| last quarter moon\\n50.85% illuminated</td>\n",
       "      <td>Moon Phase calculatorFebruary 23, 2022 22h</td>\n",
       "    </tr>\n",
       "    <tr>\n",
       "      <th>9</th>\n",
       "      <td>2022-02-23 23:00:00</td>\n",
       "      <td>1 °C\\n(11:00 pm CET | Wednesday, February 23, ...</td>\n",
       "      <td>average: 93% (93%)\\n(11:00 pm CET | Wednesday,...</td>\n",
       "      <td>0 m/s\\n(11:00 pm CET | Wednesday, February 23,...</td>\n",
       "      <td>no precipitation\\n(11:00 pm CET | Wednesday, F...</td>\n",
       "      <td>| last quarter moon\\n50.38% illuminated</td>\n",
       "      <td>Moon Phase calculatorFebruary 23, 2022 23h</td>\n",
       "    </tr>\n",
       "  </tbody>\n",
       "</table>\n",
       "</div>"
      ],
      "text/plain": [
       "                 date                                        temperature  \\\n",
       "8 2022-02-23 22:00:00  2 °C\\n(10:00 pm CET | Wednesday, February 23, ...   \n",
       "9 2022-02-23 23:00:00  1 °C\\n(11:00 pm CET | Wednesday, February 23, ...   \n",
       "\n",
       "                                            humidity  \\\n",
       "8  average: 93% (93%)\\n(10:00 pm CET | Wednesday,...   \n",
       "9  average: 93% (93%)\\n(11:00 pm CET | Wednesday,...   \n",
       "\n",
       "                                          wind speed  \\\n",
       "8  1 m/s\\n(10:00 pm CET | Wednesday, February 23,...   \n",
       "9  0 m/s\\n(11:00 pm CET | Wednesday, February 23,...   \n",
       "\n",
       "                                Precipitation amount  \\\n",
       "8  no precipitation\\n(10:00 pm CET | Wednesday, F...   \n",
       "9  no precipitation\\n(11:00 pm CET | Wednesday, F...   \n",
       "\n",
       "                     Moon Phase calculator  \\\n",
       "8  | last quarter moon\\n50.85% illuminated   \n",
       "9  | last quarter moon\\n50.38% illuminated   \n",
       "\n",
       "                                        query  \n",
       "8  Moon Phase calculatorFebruary 23, 2022 22h  \n",
       "9  Moon Phase calculatorFebruary 23, 2022 23h  "
      ]
     },
     "metadata": {},
     "output_type": "display_data"
    },
    {
     "name": "stderr",
     "output_type": "stream",
     "text": [
      "\r",
      " 10%|███████                                                                   | 401/4218 [1:35:12<14:55:18, 14.07s/it]"
     ]
    },
    {
     "name": "stdout",
     "output_type": "stream",
     "text": [
      "QUERY:  Precipitation amount in Zollikofen February 24, 2022 0h\n",
      "QUERY:  temperature in Zollikofen February 24, 2022 0h\n",
      "QUERY:  humidity in Zollikofen February 24, 2022 0h\n",
      "QUERY:  wind speed in Zollikofen February 24, 2022 0h\n",
      "QUERY:  Moon Phase calculatorFebruary 24, 2022 0h\n"
     ]
    },
    {
     "name": "stderr",
     "output_type": "stream",
     "text": [
      "\r",
      " 10%|███████                                                                   | 402/4218 [1:35:26<14:49:23, 13.98s/it]"
     ]
    },
    {
     "name": "stdout",
     "output_type": "stream",
     "text": [
      "QUERY:  Precipitation amount in Zollikofen February 24, 2022 1h\n",
      "QUERY:  temperature in Zollikofen February 24, 2022 1h\n",
      "QUERY:  humidity in Zollikofen February 24, 2022 1h\n",
      "QUERY:  wind speed in Zollikofen February 24, 2022 1h\n",
      "QUERY:  Moon Phase calculatorFebruary 24, 2022 1h\n"
     ]
    },
    {
     "name": "stderr",
     "output_type": "stream",
     "text": [
      "\r",
      " 10%|███████                                                                   | 403/4218 [1:35:43<15:57:03, 15.05s/it]"
     ]
    },
    {
     "name": "stdout",
     "output_type": "stream",
     "text": [
      "QUERY:  Precipitation amount in Zollikofen February 24, 2022 2h\n",
      "QUERY:  temperature in Zollikofen February 24, 2022 2h\n",
      "QUERY:  humidity in Zollikofen February 24, 2022 2h\n",
      "QUERY:  wind speed in Zollikofen February 24, 2022 2h\n",
      "QUERY:  Moon Phase calculatorFebruary 24, 2022 2h\n"
     ]
    },
    {
     "name": "stderr",
     "output_type": "stream",
     "text": [
      "\r",
      " 10%|███████                                                                   | 404/4218 [1:35:59<16:10:00, 15.26s/it]"
     ]
    },
    {
     "name": "stdout",
     "output_type": "stream",
     "text": [
      "QUERY:  Precipitation amount in Zollikofen February 24, 2022 3h\n",
      "QUERY:  temperature in Zollikofen February 24, 2022 3h\n",
      "QUERY:  humidity in Zollikofen February 24, 2022 3h\n",
      "QUERY:  wind speed in Zollikofen February 24, 2022 3h\n",
      "QUERY:  Moon Phase calculatorFebruary 24, 2022 3h\n"
     ]
    },
    {
     "name": "stderr",
     "output_type": "stream",
     "text": [
      "\r",
      " 10%|███████                                                                   | 405/4218 [1:36:13<15:49:10, 14.94s/it]"
     ]
    },
    {
     "name": "stdout",
     "output_type": "stream",
     "text": [
      "QUERY:  Precipitation amount in Zollikofen February 24, 2022 4h\n",
      "QUERY:  temperature in Zollikofen February 24, 2022 4h\n",
      "QUERY:  humidity in Zollikofen February 24, 2022 4h\n",
      "QUERY:  wind speed in Zollikofen February 24, 2022 4h\n",
      "QUERY:  Moon Phase calculatorFebruary 24, 2022 4h\n"
     ]
    },
    {
     "name": "stderr",
     "output_type": "stream",
     "text": [
      "\r",
      " 10%|███████                                                                   | 406/4218 [1:36:28<15:35:09, 14.72s/it]"
     ]
    },
    {
     "name": "stdout",
     "output_type": "stream",
     "text": [
      "QUERY:  Precipitation amount in Zollikofen February 24, 2022 5h\n",
      "QUERY:  temperature in Zollikofen February 24, 2022 5h\n",
      "QUERY:  humidity in Zollikofen February 24, 2022 5h\n",
      "QUERY:  wind speed in Zollikofen February 24, 2022 5h\n",
      "QUERY:  Moon Phase calculatorFebruary 24, 2022 5h\n"
     ]
    },
    {
     "name": "stderr",
     "output_type": "stream",
     "text": [
      "\r",
      " 10%|███████▏                                                                  | 407/4218 [1:36:41<15:19:01, 14.47s/it]"
     ]
    },
    {
     "name": "stdout",
     "output_type": "stream",
     "text": [
      "QUERY:  Precipitation amount in Zollikofen February 24, 2022 6h\n",
      "QUERY:  temperature in Zollikofen February 24, 2022 6h\n",
      "QUERY:  humidity in Zollikofen February 24, 2022 6h\n",
      "QUERY:  wind speed in Zollikofen February 24, 2022 6h\n",
      "QUERY:  Moon Phase calculatorFebruary 24, 2022 6h\n"
     ]
    },
    {
     "name": "stderr",
     "output_type": "stream",
     "text": [
      "\r",
      " 10%|███████▏                                                                  | 408/4218 [1:36:55<15:00:21, 14.18s/it]"
     ]
    },
    {
     "name": "stdout",
     "output_type": "stream",
     "text": [
      "QUERY:  Precipitation amount in Zollikofen February 24, 2022 7h\n",
      "QUERY:  temperature in Zollikofen February 24, 2022 7h\n",
      "QUERY:  humidity in Zollikofen February 24, 2022 7h\n",
      "QUERY:  wind speed in Zollikofen February 24, 2022 7h\n",
      "QUERY:  Moon Phase calculatorFebruary 24, 2022 7h\n"
     ]
    },
    {
     "name": "stderr",
     "output_type": "stream",
     "text": [
      "\r",
      " 10%|███████▏                                                                  | 409/4218 [1:37:10<15:10:51, 14.35s/it]"
     ]
    },
    {
     "name": "stdout",
     "output_type": "stream",
     "text": [
      "QUERY:  Precipitation amount in Zollikofen February 24, 2022 8h\n",
      "QUERY:  temperature in Zollikofen February 24, 2022 8h\n",
      "QUERY:  humidity in Zollikofen February 24, 2022 8h\n",
      "QUERY:  wind speed in Zollikofen February 24, 2022 8h\n",
      "QUERY:  Moon Phase calculatorFebruary 24, 2022 8h\n"
     ]
    },
    {
     "name": "stderr",
     "output_type": "stream",
     "text": [
      "\r",
      " 10%|███████▏                                                                  | 410/4218 [1:37:24<15:17:16, 14.45s/it]"
     ]
    },
    {
     "name": "stdout",
     "output_type": "stream",
     "text": [
      "QUERY:  Precipitation amount in Zollikofen February 24, 2022 9h\n",
      "QUERY:  temperature in Zollikofen February 24, 2022 9h\n",
      "QUERY:  humidity in Zollikofen February 24, 2022 9h\n",
      "QUERY:  wind speed in Zollikofen February 24, 2022 9h\n",
      "QUERY:  Moon Phase calculatorFebruary 24, 2022 9h\n",
      "(3514, 7)\n"
     ]
    },
    {
     "data": {
      "text/html": [
       "<div>\n",
       "<style scoped>\n",
       "    .dataframe tbody tr th:only-of-type {\n",
       "        vertical-align: middle;\n",
       "    }\n",
       "\n",
       "    .dataframe tbody tr th {\n",
       "        vertical-align: top;\n",
       "    }\n",
       "\n",
       "    .dataframe thead th {\n",
       "        text-align: right;\n",
       "    }\n",
       "</style>\n",
       "<table border=\"1\" class=\"dataframe\">\n",
       "  <thead>\n",
       "    <tr style=\"text-align: right;\">\n",
       "      <th></th>\n",
       "      <th>date</th>\n",
       "      <th>temperature</th>\n",
       "      <th>humidity</th>\n",
       "      <th>wind speed</th>\n",
       "      <th>Precipitation amount</th>\n",
       "      <th>Moon Phase calculator</th>\n",
       "      <th>query</th>\n",
       "    </tr>\n",
       "  </thead>\n",
       "  <tbody>\n",
       "    <tr>\n",
       "      <th>8</th>\n",
       "      <td>2022-02-24 08:00:00</td>\n",
       "      <td>-1 °C\\n(8:00 am CET | Thursday, February 24, 2...</td>\n",
       "      <td>average: 100% (100%)\\n(8:00 am CET | Thursday,...</td>\n",
       "      <td>0 m/s\\n(8:00 am CET | Thursday, February 24, 2...</td>\n",
       "      <td>no precipitation\\n(8:00 am CET | Thursday, Feb...</td>\n",
       "      <td>| last quarter moon\\n46.12% illuminated</td>\n",
       "      <td>Moon Phase calculatorFebruary 24, 2022 8h</td>\n",
       "    </tr>\n",
       "    <tr>\n",
       "      <th>9</th>\n",
       "      <td>2022-02-24 09:00:00</td>\n",
       "      <td>2 °C\\n(9:00 am CET | Thursday, February 24, 2022)</td>\n",
       "      <td>average: 90% (87 to 93%)\\n(9:00 am CET | Thurs...</td>\n",
       "      <td>2 m/s\\n(9:00 am CET | Thursday, February 24, 2...</td>\n",
       "      <td>no precipitation\\n(9:00 am CET | Thursday, Feb...</td>\n",
       "      <td>| last quarter moon\\n45.64% illuminated</td>\n",
       "      <td>Moon Phase calculatorFebruary 24, 2022 9h</td>\n",
       "    </tr>\n",
       "  </tbody>\n",
       "</table>\n",
       "</div>"
      ],
      "text/plain": [
       "                 date                                        temperature  \\\n",
       "8 2022-02-24 08:00:00  -1 °C\\n(8:00 am CET | Thursday, February 24, 2...   \n",
       "9 2022-02-24 09:00:00  2 °C\\n(9:00 am CET | Thursday, February 24, 2022)   \n",
       "\n",
       "                                            humidity  \\\n",
       "8  average: 100% (100%)\\n(8:00 am CET | Thursday,...   \n",
       "9  average: 90% (87 to 93%)\\n(9:00 am CET | Thurs...   \n",
       "\n",
       "                                          wind speed  \\\n",
       "8  0 m/s\\n(8:00 am CET | Thursday, February 24, 2...   \n",
       "9  2 m/s\\n(9:00 am CET | Thursday, February 24, 2...   \n",
       "\n",
       "                                Precipitation amount  \\\n",
       "8  no precipitation\\n(8:00 am CET | Thursday, Feb...   \n",
       "9  no precipitation\\n(9:00 am CET | Thursday, Feb...   \n",
       "\n",
       "                     Moon Phase calculator  \\\n",
       "8  | last quarter moon\\n46.12% illuminated   \n",
       "9  | last quarter moon\\n45.64% illuminated   \n",
       "\n",
       "                                       query  \n",
       "8  Moon Phase calculatorFebruary 24, 2022 8h  \n",
       "9  Moon Phase calculatorFebruary 24, 2022 9h  "
      ]
     },
     "metadata": {},
     "output_type": "display_data"
    },
    {
     "name": "stderr",
     "output_type": "stream",
     "text": [
      "\r",
      " 10%|███████▏                                                                  | 411/4218 [1:37:38<15:01:32, 14.21s/it]"
     ]
    },
    {
     "name": "stdout",
     "output_type": "stream",
     "text": [
      "QUERY:  Precipitation amount in Zollikofen February 24, 2022 10h\n",
      "QUERY:  temperature in Zollikofen February 24, 2022 10h\n",
      "QUERY:  humidity in Zollikofen February 24, 2022 10h\n",
      "QUERY:  wind speed in Zollikofen February 24, 2022 10h\n",
      "QUERY:  Moon Phase calculatorFebruary 24, 2022 10h\n"
     ]
    },
    {
     "name": "stderr",
     "output_type": "stream",
     "text": [
      "\r",
      " 10%|███████▏                                                                  | 412/4218 [1:37:52<14:48:04, 14.00s/it]"
     ]
    },
    {
     "name": "stdout",
     "output_type": "stream",
     "text": [
      "QUERY:  Precipitation amount in Zollikofen February 24, 2022 11h\n",
      "QUERY:  temperature in Zollikofen February 24, 2022 11h\n",
      "QUERY:  humidity in Zollikofen February 24, 2022 11h\n",
      "QUERY:  wind speed in Zollikofen February 24, 2022 11h\n",
      "QUERY:  Moon Phase calculatorFebruary 24, 2022 11h\n"
     ]
    },
    {
     "name": "stderr",
     "output_type": "stream",
     "text": [
      "\r",
      " 10%|███████▏                                                                  | 413/4218 [1:38:06<14:51:43, 14.06s/it]"
     ]
    },
    {
     "name": "stdout",
     "output_type": "stream",
     "text": [
      "QUERY:  Precipitation amount in Zollikofen February 24, 2022 12h\n",
      "QUERY:  temperature in Zollikofen February 24, 2022 12h\n",
      "QUERY:  humidity in Zollikofen February 24, 2022 12h\n",
      "QUERY:  wind speed in Zollikofen February 24, 2022 12h\n",
      "QUERY:  Moon Phase calculatorFebruary 24, 2022 12h\n"
     ]
    },
    {
     "name": "stderr",
     "output_type": "stream",
     "text": [
      "\r",
      " 10%|███████▎                                                                  | 414/4218 [1:38:19<14:35:32, 13.81s/it]"
     ]
    },
    {
     "name": "stdout",
     "output_type": "stream",
     "text": [
      "QUERY:  Precipitation amount in Zollikofen February 24, 2022 13h\n",
      "QUERY:  temperature in Zollikofen February 24, 2022 13h\n",
      "QUERY:  humidity in Zollikofen February 24, 2022 13h\n",
      "QUERY:  wind speed in Zollikofen February 24, 2022 13h\n",
      "QUERY:  Moon Phase calculatorFebruary 24, 2022 13h\n"
     ]
    },
    {
     "name": "stderr",
     "output_type": "stream",
     "text": [
      "\r",
      " 10%|███████▎                                                                  | 415/4218 [1:38:33<14:45:24, 13.97s/it]"
     ]
    },
    {
     "name": "stdout",
     "output_type": "stream",
     "text": [
      "QUERY:  Precipitation amount in Zollikofen February 24, 2022 14h\n",
      "QUERY:  temperature in Zollikofen February 24, 2022 14h\n",
      "QUERY:  humidity in Zollikofen February 24, 2022 14h\n",
      "QUERY:  wind speed in Zollikofen February 24, 2022 14h\n",
      "QUERY:  Moon Phase calculatorFebruary 24, 2022 14h\n"
     ]
    },
    {
     "name": "stderr",
     "output_type": "stream",
     "text": [
      "\r",
      " 10%|███████▎                                                                  | 416/4218 [1:38:48<14:58:19, 14.18s/it]"
     ]
    },
    {
     "name": "stdout",
     "output_type": "stream",
     "text": [
      "QUERY:  Precipitation amount in Zollikofen February 24, 2022 15h\n",
      "QUERY:  temperature in Zollikofen February 24, 2022 15h\n",
      "QUERY:  humidity in Zollikofen February 24, 2022 15h\n",
      "QUERY:  wind speed in Zollikofen February 24, 2022 15h\n",
      "QUERY:  Moon Phase calculatorFebruary 24, 2022 15h\n"
     ]
    },
    {
     "name": "stderr",
     "output_type": "stream",
     "text": [
      "\r",
      " 10%|███████▎                                                                  | 417/4218 [1:39:02<14:51:26, 14.07s/it]"
     ]
    },
    {
     "name": "stdout",
     "output_type": "stream",
     "text": [
      "QUERY:  Precipitation amount in Zollikofen February 24, 2022 16h\n",
      "QUERY:  temperature in Zollikofen February 24, 2022 16h\n",
      "QUERY:  humidity in Zollikofen February 24, 2022 16h\n",
      "QUERY:  wind speed in Zollikofen February 24, 2022 16h\n",
      "ERROR: no data available-------------  wind speed in Zollikofen February 24, 2022 16h\n",
      "ERROR:------------- name 'error' is not defined  ----------  wind speed in Zollikofen February 24, 2022 16h\n",
      "QUERY:  Moon Phase calculatorFebruary 24, 2022 16h\n"
     ]
    },
    {
     "name": "stderr",
     "output_type": "stream",
     "text": [
      "\r",
      " 10%|███████▎                                                                  | 418/4218 [1:39:15<14:35:17, 13.82s/it]"
     ]
    },
    {
     "name": "stdout",
     "output_type": "stream",
     "text": [
      "QUERY:  Precipitation amount in Zollikofen February 24, 2022 17h\n",
      "QUERY:  temperature in Zollikofen February 24, 2022 17h\n",
      "ERROR: no data available-------------  temperature in Zollikofen February 24, 2022 17h\n",
      "ERROR:------------- name 'error' is not defined  ----------  temperature in Zollikofen February 24, 2022 17h\n",
      "QUERY:  humidity in Zollikofen February 24, 2022 17h\n",
      "ERROR: no data available-------------  humidity in Zollikofen February 24, 2022 17h\n",
      "ERROR:------------- name 'error' is not defined  ----------  humidity in Zollikofen February 24, 2022 17h\n",
      "QUERY:  wind speed in Zollikofen February 24, 2022 17h\n",
      "ERROR: no data available-------------  wind speed in Zollikofen February 24, 2022 17h\n",
      "ERROR:------------- name 'error' is not defined  ----------  wind speed in Zollikofen February 24, 2022 17h\n",
      "QUERY:  Moon Phase calculatorFebruary 24, 2022 17h\n"
     ]
    },
    {
     "name": "stderr",
     "output_type": "stream",
     "text": [
      "100%|████████████████████████████████████████████████████████████████████████████| 4218/4218 [1:39:28<00:00,  1.42s/it]"
     ]
    },
    {
     "name": "stdout",
     "output_type": "stream",
     "text": [
      "(3522, 7)\n"
     ]
    },
    {
     "name": "stderr",
     "output_type": "stream",
     "text": [
      "\n"
     ]
    },
    {
     "data": {
      "text/html": [
       "<div>\n",
       "<style scoped>\n",
       "    .dataframe tbody tr th:only-of-type {\n",
       "        vertical-align: middle;\n",
       "    }\n",
       "\n",
       "    .dataframe tbody tr th {\n",
       "        vertical-align: top;\n",
       "    }\n",
       "\n",
       "    .dataframe thead th {\n",
       "        text-align: right;\n",
       "    }\n",
       "</style>\n",
       "<table border=\"1\" class=\"dataframe\">\n",
       "  <thead>\n",
       "    <tr style=\"text-align: right;\">\n",
       "      <th></th>\n",
       "      <th>date</th>\n",
       "      <th>temperature</th>\n",
       "      <th>humidity</th>\n",
       "      <th>wind speed</th>\n",
       "      <th>Precipitation amount</th>\n",
       "      <th>Moon Phase calculator</th>\n",
       "      <th>query</th>\n",
       "    </tr>\n",
       "  </thead>\n",
       "  <tbody>\n",
       "    <tr>\n",
       "      <th>6</th>\n",
       "      <td>2022-02-24 16:00:00</td>\n",
       "      <td>11 °C\\n(4:00 pm CET | Thursday, February 24, 2...</td>\n",
       "      <td>average: 50% (50%)\\n(4:00 pm CET | Thursday, F...</td>\n",
       "      <td>ERROR</td>\n",
       "      <td>no precipitation\\n(4:00 pm CET | Thursday, Feb...</td>\n",
       "      <td>| waning crescent moon\\n42.33% illuminated</td>\n",
       "      <td>Moon Phase calculatorFebruary 24, 2022 16h</td>\n",
       "    </tr>\n",
       "    <tr>\n",
       "      <th>7</th>\n",
       "      <td>2022-02-24 17:00:00</td>\n",
       "      <td>ERROR</td>\n",
       "      <td>ERROR</td>\n",
       "      <td>ERROR</td>\n",
       "      <td>(unknown)\\n(5:00 pm CET | Thursday, February 2...</td>\n",
       "      <td>| waning crescent moon\\n41.86% illuminated</td>\n",
       "      <td>Moon Phase calculatorFebruary 24, 2022 17h</td>\n",
       "    </tr>\n",
       "  </tbody>\n",
       "</table>\n",
       "</div>"
      ],
      "text/plain": [
       "                 date                                        temperature  \\\n",
       "6 2022-02-24 16:00:00  11 °C\\n(4:00 pm CET | Thursday, February 24, 2...   \n",
       "7 2022-02-24 17:00:00                                              ERROR   \n",
       "\n",
       "                                            humidity wind speed  \\\n",
       "6  average: 50% (50%)\\n(4:00 pm CET | Thursday, F...      ERROR   \n",
       "7                                              ERROR      ERROR   \n",
       "\n",
       "                                Precipitation amount  \\\n",
       "6  no precipitation\\n(4:00 pm CET | Thursday, Feb...   \n",
       "7  (unknown)\\n(5:00 pm CET | Thursday, February 2...   \n",
       "\n",
       "                        Moon Phase calculator  \\\n",
       "6  | waning crescent moon\\n42.33% illuminated   \n",
       "7  | waning crescent moon\\n41.86% illuminated   \n",
       "\n",
       "                                        query  \n",
       "6  Moon Phase calculatorFebruary 24, 2022 16h  \n",
       "7  Moon Phase calculatorFebruary 24, 2022 17h  "
      ]
     },
     "metadata": {},
     "output_type": "display_data"
    }
   ],
   "source": [
    "#not same as : https://weather.plus/observations-weather-station.php?dest=Bern-Zollikofen&id=066310&type=synop&day=20200713, our\n",
    "#results are less consistent :( \n",
    "#ATTENTION: monthly api calls limited to 2'000\n",
    "#if not working, save query and results: \"ERROR\", but continue the other query from the same date\n",
    "#open if exist\n",
    "li_df = []\n",
    "for i,d in enumerate(tqdm.tqdm(Daterange)):\n",
    "    now_ = dt.datetime.now()\n",
    "    #dont get the data in advance\n",
    "    if d<now_:      \n",
    "        dico = {'date':d}\n",
    "        for type_ in li_type:\n",
    "            try:                    \n",
    "                query = '%s in Zollikofen '%type_+d.strftime('%B')+' '+str(d.day)+', '+str(d.year)+' '+str(d.hour)+'h'\n",
    "                if type_=='Moon Phase calculator':\n",
    "                    query = type_+d.strftime('%B')+' '+str(d.day)+', '+str(d.year)+' '+str(d.hour)+'h'                    \n",
    "                print('QUERY: ',query)\n",
    "                dico['query'] = query\n",
    "                res = client.query(query)\n",
    "                for t in res.results:\n",
    "                    if 'no data available' in t.text:\n",
    "                        print('ERROR: no data available------------- ', query)\n",
    "                        error\n",
    "                    dico[type_] = t.text\n",
    "            except Exception as e:\n",
    "                print('ERROR:-------------', e, ' ---------- ', query)\n",
    "                dico[type_] = 'ERROR'\n",
    "        li_df.append(dico)\n",
    "        dico = {}\n",
    "        if i%10==0:\n",
    "            df_ = pd.DataFrame(li_df)\n",
    "            df = pd.concat([df,df_])\n",
    "            df.to_csv(path_weather, index=False, sep=';')\n",
    "            li_df = []\n",
    "            print(df.shape)\n",
    "            display(df.tail(2))\n",
    "df_ = pd.DataFrame(li_df)\n",
    "df = pd.concat([df,df_])\n",
    "df.to_csv(path_weather, index=False, sep=';')\n",
    "print(df.shape)\n",
    "display(df.tail(2))"
   ]
  },
  {
   "cell_type": "code",
   "execution_count": 6,
   "metadata": {},
   "outputs": [
    {
     "name": "stdout",
     "output_type": "stream",
     "text": [
      "(20, 7)\n"
     ]
    },
    {
     "data": {
      "text/html": [
       "<div>\n",
       "<style scoped>\n",
       "    .dataframe tbody tr th:only-of-type {\n",
       "        vertical-align: middle;\n",
       "    }\n",
       "\n",
       "    .dataframe tbody tr th {\n",
       "        vertical-align: top;\n",
       "    }\n",
       "\n",
       "    .dataframe thead th {\n",
       "        text-align: right;\n",
       "    }\n",
       "</style>\n",
       "<table border=\"1\" class=\"dataframe\">\n",
       "  <thead>\n",
       "    <tr style=\"text-align: right;\">\n",
       "      <th></th>\n",
       "      <th>date</th>\n",
       "      <th>temperature</th>\n",
       "      <th>humidity</th>\n",
       "      <th>wind speed</th>\n",
       "      <th>Precipitation amount</th>\n",
       "      <th>Moon Phase calculator</th>\n",
       "      <th>query</th>\n",
       "    </tr>\n",
       "  </thead>\n",
       "  <tbody>\n",
       "    <tr>\n",
       "      <th>0</th>\n",
       "      <td>2021-10-10 10:00:00</td>\n",
       "      <td>6 °C\\n(10:00 am CEST | Sunday, October 10, 2021)</td>\n",
       "      <td>ERROR</td>\n",
       "      <td>2 m/s\\n(10:00 am CEST | Sunday, October 10, 2021)</td>\n",
       "      <td>(unknown)\\n(10:00 am CEST | Sunday, October 10...</td>\n",
       "      <td>| waxing crescent moon\\n19.88% illuminated</td>\n",
       "      <td>Moon Phase calculatorOctober 10, 2021 10h</td>\n",
       "    </tr>\n",
       "    <tr>\n",
       "      <th>0</th>\n",
       "      <td>2021-10-10 11:00:00</td>\n",
       "      <td>8 °C\\n(11:00 am CEST | Sunday, October 10, 2021)</td>\n",
       "      <td>ERROR</td>\n",
       "      <td>3 m/s\\n(11:00 am CEST | Sunday, October 10, 2021)</td>\n",
       "      <td>(unknown)\\n(11:00 am CEST | Sunday, October 10...</td>\n",
       "      <td>| waxing crescent moon\\n20.27% illuminated</td>\n",
       "      <td>Moon Phase calculatorOctober 10, 2021 11h</td>\n",
       "    </tr>\n",
       "    <tr>\n",
       "      <th>1</th>\n",
       "      <td>2021-10-10 13:00:00</td>\n",
       "      <td>9 °C\\n(1:00 pm CEST | Sunday, October 10, 2021)</td>\n",
       "      <td>ERROR</td>\n",
       "      <td>3 m/s\\n(1:00 pm CEST | Sunday, October 10, 2021)</td>\n",
       "      <td>(unknown)\\n(1:00 pm CEST | Sunday, October 10,...</td>\n",
       "      <td>| waxing crescent moon\\n21.07% illuminated</td>\n",
       "      <td>Moon Phase calculatorOctober 10, 2021 13h</td>\n",
       "    </tr>\n",
       "    <tr>\n",
       "      <th>2</th>\n",
       "      <td>2021-10-10 14:00:00</td>\n",
       "      <td>9 °C\\n(2:00 pm CEST | Sunday, October 10, 2021)</td>\n",
       "      <td>ERROR</td>\n",
       "      <td>3 m/s\\n(2:00 pm CEST | Sunday, October 10, 2021)</td>\n",
       "      <td>(unknown)\\n(2:00 pm CEST | Sunday, October 10,...</td>\n",
       "      <td>| waxing crescent moon\\n21.47% illuminated</td>\n",
       "      <td>Moon Phase calculatorOctober 10, 2021 14h</td>\n",
       "    </tr>\n",
       "    <tr>\n",
       "      <th>3</th>\n",
       "      <td>2021-10-10 15:00:00</td>\n",
       "      <td>9 °C\\n(3:00 pm CEST | Sunday, October 10, 2021)</td>\n",
       "      <td>ERROR</td>\n",
       "      <td>3 m/s\\n(3:00 pm CEST | Sunday, October 10, 2021)</td>\n",
       "      <td>(unknown)\\n(3:00 pm CEST | Sunday, October 10,...</td>\n",
       "      <td>| waxing crescent moon\\n21.88% illuminated</td>\n",
       "      <td>Moon Phase calculatorOctober 10, 2021 15h</td>\n",
       "    </tr>\n",
       "    <tr>\n",
       "      <th>4</th>\n",
       "      <td>2021-10-10 16:00:00</td>\n",
       "      <td>9 °C\\n(4:00 pm CEST | Sunday, October 10, 2021)</td>\n",
       "      <td>ERROR</td>\n",
       "      <td>3 m/s\\n(4:00 pm CEST | Sunday, October 10, 2021)</td>\n",
       "      <td>(unknown)\\n(4:00 pm CEST | Sunday, October 10,...</td>\n",
       "      <td>| waxing crescent moon\\n22.29% illuminated</td>\n",
       "      <td>Moon Phase calculatorOctober 10, 2021 16h</td>\n",
       "    </tr>\n",
       "    <tr>\n",
       "      <th>5</th>\n",
       "      <td>2021-10-10 17:00:00</td>\n",
       "      <td>9 °C\\n(5:00 pm CEST | Sunday, October 10, 2021)</td>\n",
       "      <td>ERROR</td>\n",
       "      <td>3 m/s\\n(5:00 pm CEST | Sunday, October 10, 2021)</td>\n",
       "      <td>(unknown)\\n(5:00 pm CEST | Sunday, October 10,...</td>\n",
       "      <td>| waxing crescent moon\\n22.70% illuminated</td>\n",
       "      <td>Moon Phase calculatorOctober 10, 2021 17h</td>\n",
       "    </tr>\n",
       "    <tr>\n",
       "      <th>6</th>\n",
       "      <td>2021-10-10 20:00:00</td>\n",
       "      <td>7 °C\\n(8:00 pm CEST | Sunday, October 10, 2021)</td>\n",
       "      <td>ERROR</td>\n",
       "      <td>1 m/s\\n(8:00 pm CEST | Sunday, October 10, 2021)</td>\n",
       "      <td>(unknown)\\n(8:00 pm CEST | Sunday, October 10,...</td>\n",
       "      <td>| waxing crescent moon\\n23.94% illuminated</td>\n",
       "      <td>Moon Phase calculatorOctober 10, 2021 20h</td>\n",
       "    </tr>\n",
       "    <tr>\n",
       "      <th>7</th>\n",
       "      <td>2021-10-10 22:00:00</td>\n",
       "      <td>5 °C\\n(10:00 pm CEST | Sunday, October 10, 2021)</td>\n",
       "      <td>ERROR</td>\n",
       "      <td>1 m/s\\n(10:00 pm CEST | Sunday, October 10, 2021)</td>\n",
       "      <td>(unknown)\\n(10:00 pm CEST | Sunday, October 10...</td>\n",
       "      <td>| waxing crescent moon\\n24.78% illuminated</td>\n",
       "      <td>Moon Phase calculatorOctober 10, 2021 22h</td>\n",
       "    </tr>\n",
       "    <tr>\n",
       "      <th>8</th>\n",
       "      <td>2021-10-10 23:00:00</td>\n",
       "      <td>4 °C\\n(11:00 pm CEST | Sunday, October 10, 2021)</td>\n",
       "      <td>ERROR</td>\n",
       "      <td>1 m/s\\n(11:00 pm CEST | Sunday, October 10, 2021)</td>\n",
       "      <td>(unknown)\\n(11:00 pm CEST | Sunday, October 10...</td>\n",
       "      <td>| waxing crescent moon\\n25.21% illuminated</td>\n",
       "      <td>Moon Phase calculatorOctober 10, 2021 23h</td>\n",
       "    </tr>\n",
       "    <tr>\n",
       "      <th>9</th>\n",
       "      <td>2021-10-11 00:00:00</td>\n",
       "      <td>4 °C\\n(12:00 am CEST | Monday, October 11, 2021)</td>\n",
       "      <td>ERROR</td>\n",
       "      <td>1 m/s\\n(12:00 am CEST | Monday, October 11, 2021)</td>\n",
       "      <td>(unknown)\\n(12:00 am CEST | Monday, October 11...</td>\n",
       "      <td>| waxing crescent moon\\n25.63% illuminated</td>\n",
       "      <td>Moon Phase calculatorOctober 11, 2021 0h</td>\n",
       "    </tr>\n",
       "    <tr>\n",
       "      <th>0</th>\n",
       "      <td>2021-10-11 01:00:00</td>\n",
       "      <td>3 °C\\n(1:00 am CEST | Monday, October 11, 2021)</td>\n",
       "      <td>ERROR</td>\n",
       "      <td>1 m/s\\n(1:00 am CEST | Monday, October 11, 2021)</td>\n",
       "      <td>(unknown)\\n(1:00 am CEST | Monday, October 11,...</td>\n",
       "      <td>| waxing crescent moon\\n26.06% illuminated</td>\n",
       "      <td>Moon Phase calculatorOctober 11, 2021 1h</td>\n",
       "    </tr>\n",
       "    <tr>\n",
       "      <th>1</th>\n",
       "      <td>2021-10-11 02:00:00</td>\n",
       "      <td>2 °C\\n(2:00 am CEST | Monday, October 11, 2021)</td>\n",
       "      <td>ERROR</td>\n",
       "      <td>1 m/s\\n(2:00 am CEST | Monday, October 11, 2021)</td>\n",
       "      <td>(unknown)\\n(2:00 am CEST | Monday, October 11,...</td>\n",
       "      <td>| waxing crescent moon\\n26.49% illuminated</td>\n",
       "      <td>Moon Phase calculatorOctober 11, 2021 2h</td>\n",
       "    </tr>\n",
       "    <tr>\n",
       "      <th>2</th>\n",
       "      <td>2021-10-11 04:00:00</td>\n",
       "      <td>1 °C\\n(4:00 am CEST | Monday, October 11, 2021)</td>\n",
       "      <td>ERROR</td>\n",
       "      <td>0 m/s\\n(4:00 am CEST | Monday, October 11, 2021)</td>\n",
       "      <td>(unknown)\\n(4:00 am CEST | Monday, October 11,...</td>\n",
       "      <td>| waxing crescent moon\\n27.36% illuminated</td>\n",
       "      <td>Moon Phase calculatorOctober 11, 2021 4h</td>\n",
       "    </tr>\n",
       "    <tr>\n",
       "      <th>3</th>\n",
       "      <td>2021-10-11 05:00:00</td>\n",
       "      <td>1 °C\\n(5:00 am CEST | Monday, October 11, 2021)</td>\n",
       "      <td>ERROR</td>\n",
       "      <td>0 m/s\\n(5:00 am CEST | Monday, October 11, 2021)</td>\n",
       "      <td>(unknown)\\n(5:00 am CEST | Monday, October 11,...</td>\n",
       "      <td>| waxing crescent moon\\n27.79% illuminated</td>\n",
       "      <td>Moon Phase calculatorOctober 11, 2021 5h</td>\n",
       "    </tr>\n",
       "    <tr>\n",
       "      <th>4</th>\n",
       "      <td>2021-10-11 06:00:00</td>\n",
       "      <td>0 °C\\n(6:00 am CEST | Monday, October 11, 2021)</td>\n",
       "      <td>ERROR</td>\n",
       "      <td>0 m/s\\n(6:00 am CEST | Monday, October 11, 2021)</td>\n",
       "      <td>(unknown)\\n(6:00 am CEST | Monday, October 11,...</td>\n",
       "      <td>| waxing crescent moon\\n28.23% illuminated</td>\n",
       "      <td>Moon Phase calculatorOctober 11, 2021 6h</td>\n",
       "    </tr>\n",
       "    <tr>\n",
       "      <th>5</th>\n",
       "      <td>2021-10-11 07:00:00</td>\n",
       "      <td>0 °C\\n(7:00 am CEST | Monday, October 11, 2021)</td>\n",
       "      <td>ERROR</td>\n",
       "      <td>0 m/s\\n(7:00 am CEST | Monday, October 11, 2021)</td>\n",
       "      <td>(unknown)\\n(7:00 am CEST | Monday, October 11,...</td>\n",
       "      <td>| waxing crescent moon\\n28.67% illuminated</td>\n",
       "      <td>Moon Phase calculatorOctober 11, 2021 7h</td>\n",
       "    </tr>\n",
       "    <tr>\n",
       "      <th>1</th>\n",
       "      <td>2021-12-11 18:00:00</td>\n",
       "      <td>2 °C\\n(6:00 pm CET | Saturday, December 11, 2021)</td>\n",
       "      <td>ERROR</td>\n",
       "      <td>1 m/s\\n(6:00 pm CET | Saturday, December 11, 2...</td>\n",
       "      <td>(unknown)\\n(6:00 pm CET | Saturday, December 1...</td>\n",
       "      <td>| waxing gibbous moon\\n56.72% illuminated</td>\n",
       "      <td>Moon Phase calculatorDecember 11, 2021 18h</td>\n",
       "    </tr>\n",
       "    <tr>\n",
       "      <th>6</th>\n",
       "      <td>2022-02-24 16:00:00</td>\n",
       "      <td>11 °C\\n(4:00 pm CET | Thursday, February 24, 2...</td>\n",
       "      <td>average: 50% (50%)\\n(4:00 pm CET | Thursday, F...</td>\n",
       "      <td>ERROR</td>\n",
       "      <td>no precipitation\\n(4:00 pm CET | Thursday, Feb...</td>\n",
       "      <td>| waning crescent moon\\n42.33% illuminated</td>\n",
       "      <td>Moon Phase calculatorFebruary 24, 2022 16h</td>\n",
       "    </tr>\n",
       "    <tr>\n",
       "      <th>7</th>\n",
       "      <td>2022-02-24 17:00:00</td>\n",
       "      <td>ERROR</td>\n",
       "      <td>ERROR</td>\n",
       "      <td>ERROR</td>\n",
       "      <td>(unknown)\\n(5:00 pm CET | Thursday, February 2...</td>\n",
       "      <td>| waning crescent moon\\n41.86% illuminated</td>\n",
       "      <td>Moon Phase calculatorFebruary 24, 2022 17h</td>\n",
       "    </tr>\n",
       "  </tbody>\n",
       "</table>\n",
       "</div>"
      ],
      "text/plain": [
       "                 date                                        temperature  \\\n",
       "0 2021-10-10 10:00:00   6 °C\\n(10:00 am CEST | Sunday, October 10, 2021)   \n",
       "0 2021-10-10 11:00:00   8 °C\\n(11:00 am CEST | Sunday, October 10, 2021)   \n",
       "1 2021-10-10 13:00:00    9 °C\\n(1:00 pm CEST | Sunday, October 10, 2021)   \n",
       "2 2021-10-10 14:00:00    9 °C\\n(2:00 pm CEST | Sunday, October 10, 2021)   \n",
       "3 2021-10-10 15:00:00    9 °C\\n(3:00 pm CEST | Sunday, October 10, 2021)   \n",
       "4 2021-10-10 16:00:00    9 °C\\n(4:00 pm CEST | Sunday, October 10, 2021)   \n",
       "5 2021-10-10 17:00:00    9 °C\\n(5:00 pm CEST | Sunday, October 10, 2021)   \n",
       "6 2021-10-10 20:00:00    7 °C\\n(8:00 pm CEST | Sunday, October 10, 2021)   \n",
       "7 2021-10-10 22:00:00   5 °C\\n(10:00 pm CEST | Sunday, October 10, 2021)   \n",
       "8 2021-10-10 23:00:00   4 °C\\n(11:00 pm CEST | Sunday, October 10, 2021)   \n",
       "9 2021-10-11 00:00:00   4 °C\\n(12:00 am CEST | Monday, October 11, 2021)   \n",
       "0 2021-10-11 01:00:00    3 °C\\n(1:00 am CEST | Monday, October 11, 2021)   \n",
       "1 2021-10-11 02:00:00    2 °C\\n(2:00 am CEST | Monday, October 11, 2021)   \n",
       "2 2021-10-11 04:00:00    1 °C\\n(4:00 am CEST | Monday, October 11, 2021)   \n",
       "3 2021-10-11 05:00:00    1 °C\\n(5:00 am CEST | Monday, October 11, 2021)   \n",
       "4 2021-10-11 06:00:00    0 °C\\n(6:00 am CEST | Monday, October 11, 2021)   \n",
       "5 2021-10-11 07:00:00    0 °C\\n(7:00 am CEST | Monday, October 11, 2021)   \n",
       "1 2021-12-11 18:00:00  2 °C\\n(6:00 pm CET | Saturday, December 11, 2021)   \n",
       "6 2022-02-24 16:00:00  11 °C\\n(4:00 pm CET | Thursday, February 24, 2...   \n",
       "7 2022-02-24 17:00:00                                              ERROR   \n",
       "\n",
       "                                            humidity  \\\n",
       "0                                              ERROR   \n",
       "0                                              ERROR   \n",
       "1                                              ERROR   \n",
       "2                                              ERROR   \n",
       "3                                              ERROR   \n",
       "4                                              ERROR   \n",
       "5                                              ERROR   \n",
       "6                                              ERROR   \n",
       "7                                              ERROR   \n",
       "8                                              ERROR   \n",
       "9                                              ERROR   \n",
       "0                                              ERROR   \n",
       "1                                              ERROR   \n",
       "2                                              ERROR   \n",
       "3                                              ERROR   \n",
       "4                                              ERROR   \n",
       "5                                              ERROR   \n",
       "1                                              ERROR   \n",
       "6  average: 50% (50%)\\n(4:00 pm CET | Thursday, F...   \n",
       "7                                              ERROR   \n",
       "\n",
       "                                          wind speed  \\\n",
       "0  2 m/s\\n(10:00 am CEST | Sunday, October 10, 2021)   \n",
       "0  3 m/s\\n(11:00 am CEST | Sunday, October 10, 2021)   \n",
       "1   3 m/s\\n(1:00 pm CEST | Sunday, October 10, 2021)   \n",
       "2   3 m/s\\n(2:00 pm CEST | Sunday, October 10, 2021)   \n",
       "3   3 m/s\\n(3:00 pm CEST | Sunday, October 10, 2021)   \n",
       "4   3 m/s\\n(4:00 pm CEST | Sunday, October 10, 2021)   \n",
       "5   3 m/s\\n(5:00 pm CEST | Sunday, October 10, 2021)   \n",
       "6   1 m/s\\n(8:00 pm CEST | Sunday, October 10, 2021)   \n",
       "7  1 m/s\\n(10:00 pm CEST | Sunday, October 10, 2021)   \n",
       "8  1 m/s\\n(11:00 pm CEST | Sunday, October 10, 2021)   \n",
       "9  1 m/s\\n(12:00 am CEST | Monday, October 11, 2021)   \n",
       "0   1 m/s\\n(1:00 am CEST | Monday, October 11, 2021)   \n",
       "1   1 m/s\\n(2:00 am CEST | Monday, October 11, 2021)   \n",
       "2   0 m/s\\n(4:00 am CEST | Monday, October 11, 2021)   \n",
       "3   0 m/s\\n(5:00 am CEST | Monday, October 11, 2021)   \n",
       "4   0 m/s\\n(6:00 am CEST | Monday, October 11, 2021)   \n",
       "5   0 m/s\\n(7:00 am CEST | Monday, October 11, 2021)   \n",
       "1  1 m/s\\n(6:00 pm CET | Saturday, December 11, 2...   \n",
       "6                                              ERROR   \n",
       "7                                              ERROR   \n",
       "\n",
       "                                Precipitation amount  \\\n",
       "0  (unknown)\\n(10:00 am CEST | Sunday, October 10...   \n",
       "0  (unknown)\\n(11:00 am CEST | Sunday, October 10...   \n",
       "1  (unknown)\\n(1:00 pm CEST | Sunday, October 10,...   \n",
       "2  (unknown)\\n(2:00 pm CEST | Sunday, October 10,...   \n",
       "3  (unknown)\\n(3:00 pm CEST | Sunday, October 10,...   \n",
       "4  (unknown)\\n(4:00 pm CEST | Sunday, October 10,...   \n",
       "5  (unknown)\\n(5:00 pm CEST | Sunday, October 10,...   \n",
       "6  (unknown)\\n(8:00 pm CEST | Sunday, October 10,...   \n",
       "7  (unknown)\\n(10:00 pm CEST | Sunday, October 10...   \n",
       "8  (unknown)\\n(11:00 pm CEST | Sunday, October 10...   \n",
       "9  (unknown)\\n(12:00 am CEST | Monday, October 11...   \n",
       "0  (unknown)\\n(1:00 am CEST | Monday, October 11,...   \n",
       "1  (unknown)\\n(2:00 am CEST | Monday, October 11,...   \n",
       "2  (unknown)\\n(4:00 am CEST | Monday, October 11,...   \n",
       "3  (unknown)\\n(5:00 am CEST | Monday, October 11,...   \n",
       "4  (unknown)\\n(6:00 am CEST | Monday, October 11,...   \n",
       "5  (unknown)\\n(7:00 am CEST | Monday, October 11,...   \n",
       "1  (unknown)\\n(6:00 pm CET | Saturday, December 1...   \n",
       "6  no precipitation\\n(4:00 pm CET | Thursday, Feb...   \n",
       "7  (unknown)\\n(5:00 pm CET | Thursday, February 2...   \n",
       "\n",
       "                        Moon Phase calculator  \\\n",
       "0  | waxing crescent moon\\n19.88% illuminated   \n",
       "0  | waxing crescent moon\\n20.27% illuminated   \n",
       "1  | waxing crescent moon\\n21.07% illuminated   \n",
       "2  | waxing crescent moon\\n21.47% illuminated   \n",
       "3  | waxing crescent moon\\n21.88% illuminated   \n",
       "4  | waxing crescent moon\\n22.29% illuminated   \n",
       "5  | waxing crescent moon\\n22.70% illuminated   \n",
       "6  | waxing crescent moon\\n23.94% illuminated   \n",
       "7  | waxing crescent moon\\n24.78% illuminated   \n",
       "8  | waxing crescent moon\\n25.21% illuminated   \n",
       "9  | waxing crescent moon\\n25.63% illuminated   \n",
       "0  | waxing crescent moon\\n26.06% illuminated   \n",
       "1  | waxing crescent moon\\n26.49% illuminated   \n",
       "2  | waxing crescent moon\\n27.36% illuminated   \n",
       "3  | waxing crescent moon\\n27.79% illuminated   \n",
       "4  | waxing crescent moon\\n28.23% illuminated   \n",
       "5  | waxing crescent moon\\n28.67% illuminated   \n",
       "1   | waxing gibbous moon\\n56.72% illuminated   \n",
       "6  | waning crescent moon\\n42.33% illuminated   \n",
       "7  | waning crescent moon\\n41.86% illuminated   \n",
       "\n",
       "                                        query  \n",
       "0   Moon Phase calculatorOctober 10, 2021 10h  \n",
       "0   Moon Phase calculatorOctober 10, 2021 11h  \n",
       "1   Moon Phase calculatorOctober 10, 2021 13h  \n",
       "2   Moon Phase calculatorOctober 10, 2021 14h  \n",
       "3   Moon Phase calculatorOctober 10, 2021 15h  \n",
       "4   Moon Phase calculatorOctober 10, 2021 16h  \n",
       "5   Moon Phase calculatorOctober 10, 2021 17h  \n",
       "6   Moon Phase calculatorOctober 10, 2021 20h  \n",
       "7   Moon Phase calculatorOctober 10, 2021 22h  \n",
       "8   Moon Phase calculatorOctober 10, 2021 23h  \n",
       "9    Moon Phase calculatorOctober 11, 2021 0h  \n",
       "0    Moon Phase calculatorOctober 11, 2021 1h  \n",
       "1    Moon Phase calculatorOctober 11, 2021 2h  \n",
       "2    Moon Phase calculatorOctober 11, 2021 4h  \n",
       "3    Moon Phase calculatorOctober 11, 2021 5h  \n",
       "4    Moon Phase calculatorOctober 11, 2021 6h  \n",
       "5    Moon Phase calculatorOctober 11, 2021 7h  \n",
       "1  Moon Phase calculatorDecember 11, 2021 18h  \n",
       "6  Moon Phase calculatorFebruary 24, 2022 16h  \n",
       "7  Moon Phase calculatorFebruary 24, 2022 17h  "
      ]
     },
     "execution_count": 6,
     "metadata": {},
     "output_type": "execute_result"
    }
   ],
   "source": [
    "print(df[df.isin([\"ERROR\"]).any(axis=1)].shape)\n",
    "df[df.isin([\"ERROR\"]).any(axis=1)]"
   ]
  },
  {
   "cell_type": "markdown",
   "metadata": {},
   "source": [
    "df['day'] = df['date'].map(lambda x: dt.datetime.date(x))\n",
    "df['day'].value_counts()"
   ]
  },
  {
   "cell_type": "markdown",
   "metadata": {},
   "source": [
    "#add lune to weather data\n",
    "#dico_d_m = {}\n",
    "for d in tqdm.tqdm(Daterange):\n",
    "    now_ = dt.datetime.now()\n",
    "    #dont get the data in advance\n",
    "    if d<now_:   \n",
    "        if d not in dico_d_m:\n",
    "            try:\n",
    "                query = 'Moon Phase calculator'+d.strftime('%B')+' '+str(d.day)+', '+str(d.year)+' '+str(d.hour)+'h'\n",
    "                res = client.query(query) \n",
    "                for t in res.results:\n",
    "                    dico_d_m[d] = t.text.strip('|').strip(' ')\n",
    "            except Exception as e:\n",
    "                print('ERROR')\n",
    "                print(e)\n",
    "#df['Moon Phase calculator'] = df['date'].map(lambda x: dico_d_m.get(x, 'ERROR'))\n",
    "#print(df[df['Moonphase']=='ERROR'].shape)\n",
    "df"
   ]
  },
  {
   "cell_type": "markdown",
   "metadata": {},
   "source": [
    "df = df.drop(['MoonName','Moon Phase calculator'],axis=1)"
   ]
  },
  {
   "cell_type": "markdown",
   "metadata": {},
   "source": [
    "# Process"
   ]
  },
  {
   "cell_type": "code",
   "execution_count": 7,
   "metadata": {},
   "outputs": [
    {
     "name": "stdout",
     "output_type": "stream",
     "text": [
      "(3502, 13)\n"
     ]
    },
    {
     "data": {
      "text/html": [
       "<div>\n",
       "<style scoped>\n",
       "    .dataframe tbody tr th:only-of-type {\n",
       "        vertical-align: middle;\n",
       "    }\n",
       "\n",
       "    .dataframe tbody tr th {\n",
       "        vertical-align: top;\n",
       "    }\n",
       "\n",
       "    .dataframe thead th {\n",
       "        text-align: right;\n",
       "    }\n",
       "</style>\n",
       "<table border=\"1\" class=\"dataframe\">\n",
       "  <thead>\n",
       "    <tr style=\"text-align: right;\">\n",
       "      <th></th>\n",
       "      <th>Timestamp</th>\n",
       "      <th>temperature</th>\n",
       "      <th>humidity</th>\n",
       "      <th>wind speed</th>\n",
       "      <th>Precipitation amount</th>\n",
       "      <th>Moon Phase calculator</th>\n",
       "      <th>query</th>\n",
       "      <th>date</th>\n",
       "      <th>hour</th>\n",
       "      <th>temperature_C</th>\n",
       "      <th>wind_speed_mpers</th>\n",
       "      <th>humidity_avgpercent</th>\n",
       "      <th>rain</th>\n",
       "    </tr>\n",
       "  </thead>\n",
       "  <tbody>\n",
       "    <tr>\n",
       "      <th>0</th>\n",
       "      <td>2021-10-01 00:00:00</td>\n",
       "      <td>7 °C\\n(12:00 am CEST | Friday, October 1, 2021)</td>\n",
       "      <td>average: 93% (93%)\\n(12:00 am CEST | Friday, O...</td>\n",
       "      <td>0 m/s\\n(12:00 am CEST | Friday, October 1, 2021)</td>\n",
       "      <td>no precipitation\\n(12:00 am CEST | Friday, Oct...</td>\n",
       "      <td>| waning crescent moon\\n32.62% illuminated</td>\n",
       "      <td>Moon Phase calculatorOctober 1, 2021 0h</td>\n",
       "      <td>2021-10-01</td>\n",
       "      <td>0</td>\n",
       "      <td>7</td>\n",
       "      <td>0</td>\n",
       "      <td>93</td>\n",
       "      <td>no precipitation</td>\n",
       "    </tr>\n",
       "    <tr>\n",
       "      <th>1</th>\n",
       "      <td>2021-10-01 01:00:00</td>\n",
       "      <td>7 °C\\n(1:00 am CEST | Friday, October 1, 2021)</td>\n",
       "      <td>average: 100% (100%)\\n(1:00 am CEST | Friday, ...</td>\n",
       "      <td>0 m/s\\n(1:00 am CEST | Friday, October 1, 2021)</td>\n",
       "      <td>no precipitation\\n(1:00 am CEST | Friday, Octo...</td>\n",
       "      <td>| waning crescent moon\\n32.23% illuminated</td>\n",
       "      <td>Moon Phase calculatorOctober 1, 2021 1h</td>\n",
       "      <td>2021-10-01</td>\n",
       "      <td>1</td>\n",
       "      <td>7</td>\n",
       "      <td>0</td>\n",
       "      <td>100</td>\n",
       "      <td>no precipitation</td>\n",
       "    </tr>\n",
       "    <tr>\n",
       "      <th>2</th>\n",
       "      <td>2021-10-01 02:00:00</td>\n",
       "      <td>7 °C\\n(2:00 am CEST | Friday, October 1, 2021)</td>\n",
       "      <td>average: 97% (93 to 100%)\\n(2:00 am CEST | Fri...</td>\n",
       "      <td>0 m/s\\n(2:00 am CEST | Friday, October 1, 2021)</td>\n",
       "      <td>no precipitation\\n(2:00 am CEST | Friday, Octo...</td>\n",
       "      <td>| waning crescent moon\\n31.84% illuminated</td>\n",
       "      <td>Moon Phase calculatorOctober 1, 2021 2h</td>\n",
       "      <td>2021-10-01</td>\n",
       "      <td>2</td>\n",
       "      <td>7</td>\n",
       "      <td>0</td>\n",
       "      <td>97</td>\n",
       "      <td>no precipitation</td>\n",
       "    </tr>\n",
       "  </tbody>\n",
       "</table>\n",
       "</div>"
      ],
      "text/plain": [
       "            Timestamp                                      temperature  \\\n",
       "0 2021-10-01 00:00:00  7 °C\\n(12:00 am CEST | Friday, October 1, 2021)   \n",
       "1 2021-10-01 01:00:00   7 °C\\n(1:00 am CEST | Friday, October 1, 2021)   \n",
       "2 2021-10-01 02:00:00   7 °C\\n(2:00 am CEST | Friday, October 1, 2021)   \n",
       "\n",
       "                                            humidity  \\\n",
       "0  average: 93% (93%)\\n(12:00 am CEST | Friday, O...   \n",
       "1  average: 100% (100%)\\n(1:00 am CEST | Friday, ...   \n",
       "2  average: 97% (93 to 100%)\\n(2:00 am CEST | Fri...   \n",
       "\n",
       "                                         wind speed  \\\n",
       "0  0 m/s\\n(12:00 am CEST | Friday, October 1, 2021)   \n",
       "1   0 m/s\\n(1:00 am CEST | Friday, October 1, 2021)   \n",
       "2   0 m/s\\n(2:00 am CEST | Friday, October 1, 2021)   \n",
       "\n",
       "                                Precipitation amount  \\\n",
       "0  no precipitation\\n(12:00 am CEST | Friday, Oct...   \n",
       "1  no precipitation\\n(1:00 am CEST | Friday, Octo...   \n",
       "2  no precipitation\\n(2:00 am CEST | Friday, Octo...   \n",
       "\n",
       "                        Moon Phase calculator  \\\n",
       "0  | waning crescent moon\\n32.62% illuminated   \n",
       "1  | waning crescent moon\\n32.23% illuminated   \n",
       "2  | waning crescent moon\\n31.84% illuminated   \n",
       "\n",
       "                                     query       date  hour  temperature_C  \\\n",
       "0  Moon Phase calculatorOctober 1, 2021 0h 2021-10-01     0              7   \n",
       "1  Moon Phase calculatorOctober 1, 2021 1h 2021-10-01     1              7   \n",
       "2  Moon Phase calculatorOctober 1, 2021 2h 2021-10-01     2              7   \n",
       "\n",
       "   wind_speed_mpers  humidity_avgpercent              rain  \n",
       "0                 0                   93  no precipitation  \n",
       "1                 0                  100  no precipitation  \n",
       "2                 0                   97  no precipitation  "
      ]
     },
     "execution_count": 7,
     "metadata": {},
     "output_type": "execute_result"
    }
   ],
   "source": [
    "#add weather as environemntal factor\n",
    "path_ = r'C:\\Users\\camil\\Desktop\\vm_exchange\\PhD_Data\\Weather'\n",
    "path_weather = os.path.join(path_,'weather_exp2.csv')\n",
    "df_weather = pd.read_csv(path_weather, sep=';', parse_dates=['date'])\n",
    "df_weather = df_weather.drop_duplicates(subset=None, keep='first', inplace=False)\n",
    "#remove excpetions\n",
    "x = ', 1, 0,  , °, C, \\n, (, 1, 2, :, 0, 0,  , a, m,  , C, E, T , | , F, r, i, d, a, y, ,,  , O, c, t, o, b, e, r,  , 3, 0, ,,  , 2, 0, 2, 0, ),'\n",
    "df_weather['temperature'] = df_weather['temperature'].replace(x, x.replace(', ',''))\n",
    "x = '3×10^0 m/s\\n(1:00 pm CET | Sunday, January 10, 2021)'\n",
    "df_weather['wind speed'] = df_weather['wind speed'].replace(x, 'ERROR')\n",
    "#remove the rows with at least one error\n",
    "df_weather = df_weather[~df_weather.isin([\"ERROR\"]).any(axis=1)]\n",
    "#date\n",
    "df_weather.rename(columns={'date':'Timestamp'}, inplace=True)\n",
    "df_weather['date'] = df_weather['Timestamp'].map(lambda x: dt.datetime(x.year,x.month,x.day))\n",
    "df_weather['hour'] = df_weather['Timestamp'].map(lambda x: x.hour)\n",
    "#add usefull variable\n",
    "df_weather['temperature_C'] = df_weather['temperature'].map(lambda x: int(x.split('\\n')[0].split(' ')[0]))\n",
    "df_weather['wind_speed_mpers'] = df_weather['wind speed'].map(lambda x: int(x.split('\\n')[0].split(' ')[0]))\n",
    "df_weather['humidity_avgpercent'] = df_weather['humidity'].map(lambda x: int(x.split('%')[0].split(' ')[-1].strip()))\n",
    "df_weather['rain'] = df_weather['Precipitation amount'].map(lambda x: x.split('\\n')[0])\n",
    "df_weather['rain'] = df_weather['rain'].replace('rain | snow','snow | rain')\n",
    "df_weather.to_csv(os.path.join(path_,'Weather_process_exp2.csv'), index=False, sep=';')\n",
    "print(df_weather.shape)\n",
    "df_weather.head(3)"
   ]
  },
  {
   "cell_type": "code",
   "execution_count": 8,
   "metadata": {},
   "outputs": [
    {
     "data": {
      "text/html": [
       "<div>\n",
       "<style scoped>\n",
       "    .dataframe tbody tr th:only-of-type {\n",
       "        vertical-align: middle;\n",
       "    }\n",
       "\n",
       "    .dataframe tbody tr th {\n",
       "        vertical-align: top;\n",
       "    }\n",
       "\n",
       "    .dataframe thead th {\n",
       "        text-align: right;\n",
       "    }\n",
       "</style>\n",
       "<table border=\"1\" class=\"dataframe\">\n",
       "  <thead>\n",
       "    <tr style=\"text-align: right;\">\n",
       "      <th></th>\n",
       "      <th>Timestamp</th>\n",
       "      <th>temperature</th>\n",
       "      <th>humidity</th>\n",
       "      <th>wind speed</th>\n",
       "      <th>Precipitation amount</th>\n",
       "      <th>Moon Phase calculator</th>\n",
       "      <th>query</th>\n",
       "      <th>date</th>\n",
       "      <th>hour</th>\n",
       "      <th>temperature_C</th>\n",
       "      <th>wind_speed_mpers</th>\n",
       "      <th>humidity_avgpercent</th>\n",
       "      <th>rain</th>\n",
       "      <th>MoonName</th>\n",
       "      <th>Illumination_percentage</th>\n",
       "      <th>croissant_decroissant</th>\n",
       "    </tr>\n",
       "  </thead>\n",
       "  <tbody>\n",
       "    <tr>\n",
       "      <th>0</th>\n",
       "      <td>2021-10-01 00:00:00</td>\n",
       "      <td>7 °C\\n(12:00 am CEST | Friday, October 1, 2021)</td>\n",
       "      <td>average: 93% (93%)\\n(12:00 am CEST | Friday, O...</td>\n",
       "      <td>0 m/s\\n(12:00 am CEST | Friday, October 1, 2021)</td>\n",
       "      <td>no precipitation\\n(12:00 am CEST | Friday, Oct...</td>\n",
       "      <td>| waning crescent moon\\n32.62% illuminated</td>\n",
       "      <td>Moon Phase calculatorOctober 1, 2021 0h</td>\n",
       "      <td>2021-10-01</td>\n",
       "      <td>0</td>\n",
       "      <td>7</td>\n",
       "      <td>0</td>\n",
       "      <td>93</td>\n",
       "      <td>no precipitation</td>\n",
       "      <td>waning crescent moon</td>\n",
       "      <td>32.62</td>\n",
       "      <td>DC</td>\n",
       "    </tr>\n",
       "    <tr>\n",
       "      <th>1</th>\n",
       "      <td>2021-10-01 01:00:00</td>\n",
       "      <td>7 °C\\n(1:00 am CEST | Friday, October 1, 2021)</td>\n",
       "      <td>average: 100% (100%)\\n(1:00 am CEST | Friday, ...</td>\n",
       "      <td>0 m/s\\n(1:00 am CEST | Friday, October 1, 2021)</td>\n",
       "      <td>no precipitation\\n(1:00 am CEST | Friday, Octo...</td>\n",
       "      <td>| waning crescent moon\\n32.23% illuminated</td>\n",
       "      <td>Moon Phase calculatorOctober 1, 2021 1h</td>\n",
       "      <td>2021-10-01</td>\n",
       "      <td>1</td>\n",
       "      <td>7</td>\n",
       "      <td>0</td>\n",
       "      <td>100</td>\n",
       "      <td>no precipitation</td>\n",
       "      <td>waning crescent moon</td>\n",
       "      <td>32.23</td>\n",
       "      <td>DC</td>\n",
       "    </tr>\n",
       "    <tr>\n",
       "      <th>2</th>\n",
       "      <td>2021-10-01 02:00:00</td>\n",
       "      <td>7 °C\\n(2:00 am CEST | Friday, October 1, 2021)</td>\n",
       "      <td>average: 97% (93 to 100%)\\n(2:00 am CEST | Fri...</td>\n",
       "      <td>0 m/s\\n(2:00 am CEST | Friday, October 1, 2021)</td>\n",
       "      <td>no precipitation\\n(2:00 am CEST | Friday, Octo...</td>\n",
       "      <td>| waning crescent moon\\n31.84% illuminated</td>\n",
       "      <td>Moon Phase calculatorOctober 1, 2021 2h</td>\n",
       "      <td>2021-10-01</td>\n",
       "      <td>2</td>\n",
       "      <td>7</td>\n",
       "      <td>0</td>\n",
       "      <td>97</td>\n",
       "      <td>no precipitation</td>\n",
       "      <td>waning crescent moon</td>\n",
       "      <td>31.84</td>\n",
       "      <td>DC</td>\n",
       "    </tr>\n",
       "  </tbody>\n",
       "</table>\n",
       "</div>"
      ],
      "text/plain": [
       "            Timestamp                                      temperature  \\\n",
       "0 2021-10-01 00:00:00  7 °C\\n(12:00 am CEST | Friday, October 1, 2021)   \n",
       "1 2021-10-01 01:00:00   7 °C\\n(1:00 am CEST | Friday, October 1, 2021)   \n",
       "2 2021-10-01 02:00:00   7 °C\\n(2:00 am CEST | Friday, October 1, 2021)   \n",
       "\n",
       "                                            humidity  \\\n",
       "0  average: 93% (93%)\\n(12:00 am CEST | Friday, O...   \n",
       "1  average: 100% (100%)\\n(1:00 am CEST | Friday, ...   \n",
       "2  average: 97% (93 to 100%)\\n(2:00 am CEST | Fri...   \n",
       "\n",
       "                                         wind speed  \\\n",
       "0  0 m/s\\n(12:00 am CEST | Friday, October 1, 2021)   \n",
       "1   0 m/s\\n(1:00 am CEST | Friday, October 1, 2021)   \n",
       "2   0 m/s\\n(2:00 am CEST | Friday, October 1, 2021)   \n",
       "\n",
       "                                Precipitation amount  \\\n",
       "0  no precipitation\\n(12:00 am CEST | Friday, Oct...   \n",
       "1  no precipitation\\n(1:00 am CEST | Friday, Octo...   \n",
       "2  no precipitation\\n(2:00 am CEST | Friday, Octo...   \n",
       "\n",
       "                        Moon Phase calculator  \\\n",
       "0  | waning crescent moon\\n32.62% illuminated   \n",
       "1  | waning crescent moon\\n32.23% illuminated   \n",
       "2  | waning crescent moon\\n31.84% illuminated   \n",
       "\n",
       "                                     query       date  hour  temperature_C  \\\n",
       "0  Moon Phase calculatorOctober 1, 2021 0h 2021-10-01     0              7   \n",
       "1  Moon Phase calculatorOctober 1, 2021 1h 2021-10-01     1              7   \n",
       "2  Moon Phase calculatorOctober 1, 2021 2h 2021-10-01     2              7   \n",
       "\n",
       "   wind_speed_mpers  humidity_avgpercent              rain  \\\n",
       "0                 0                   93  no precipitation   \n",
       "1                 0                  100  no precipitation   \n",
       "2                 0                   97  no precipitation   \n",
       "\n",
       "               MoonName  Illumination_percentage croissant_decroissant  \n",
       "0  waning crescent moon                    32.62                    DC  \n",
       "1  waning crescent moon                    32.23                    DC  \n",
       "2  waning crescent moon                    31.84                    DC  "
      ]
     },
     "execution_count": 8,
     "metadata": {},
     "output_type": "execute_result"
    }
   ],
   "source": [
    "df_weather['MoonName'] = df_weather['Moon Phase calculator'].map(lambda x: x.strip('|').strip(' ').split('\\n')[0] if x!='ERROR' else 'ERROR')\n",
    "df_weather['Illumination_percentage'] = df_weather['Moon Phase calculator'].map(lambda x: float(x.strip('|').strip(' ').split('\\n')[1].replace(' illuminated','').strip('%').strip(' ')) if x!='ERROR' else 'ERROR')\n",
    "#print(df['MoaonName'].value_counts())\n",
    "#df['Illumination_percentage'].value_counts()\n",
    "\n",
    "dico_CD = {'ERROR':'ERROR', \n",
    "           'first quarter moon':'LC', \n",
    "           'full moon':'Lchangement', \n",
    "           'last quarter moon':'DC',\n",
    "           'new moon':'Lchangement', \n",
    "           'waning crescent moon':'DC', \n",
    "           'waning gibbous moon':'DC',\n",
    "           'waxing crescent moon':'LC', \n",
    "           'waxing gibbous moon':'LC'}\n",
    "#it seems that the order of the events are as follow:\n",
    "#full moon, waning gibbous moon, last quarter moon, waning crescent moon, \n",
    "#new moon, waxing crescent moon, first quarter moon, waxing gibbous moon,\n",
    "#full moon,...\n",
    "#defintion: De la Nouvelle Lune (éclat minimum) à la Pleine Lune (éclat maximum) on dit que la Lune est Croissante car \n",
    "#sa partie éclairée grossit de jour en jour. De la Pleine Lune à la Nouvelle Lune, on dit que la Lune est Décroissante.\n",
    "df_weather['croissant_decroissant'] = df_weather['MoonName'].map(lambda x: dico_CD[x])\n",
    "#lucie ascendatne et descendante n'est pas indiqué ici.\n",
    "df_weather.head(3)"
   ]
  },
  {
   "cell_type": "code",
   "execution_count": 9,
   "metadata": {},
   "outputs": [
    {
     "data": {
      "text/plain": [
       "LC             1665\n",
       "DC             1643\n",
       "Lchangement     194\n",
       "Name: croissant_decroissant, dtype: int64"
      ]
     },
     "execution_count": 9,
     "metadata": {},
     "output_type": "execute_result"
    }
   ],
   "source": [
    "df_weather['croissant_decroissant'].value_counts()"
   ]
  },
  {
   "cell_type": "code",
   "execution_count": 10,
   "metadata": {},
   "outputs": [
    {
     "data": {
      "text/html": [
       "<div>\n",
       "<style scoped>\n",
       "    .dataframe tbody tr th:only-of-type {\n",
       "        vertical-align: middle;\n",
       "    }\n",
       "\n",
       "    .dataframe tbody tr th {\n",
       "        vertical-align: top;\n",
       "    }\n",
       "\n",
       "    .dataframe thead th {\n",
       "        text-align: right;\n",
       "    }\n",
       "</style>\n",
       "<table border=\"1\" class=\"dataframe\">\n",
       "  <thead>\n",
       "    <tr style=\"text-align: right;\">\n",
       "      <th></th>\n",
       "      <th>MoonName</th>\n",
       "      <th>Illumination_percentage</th>\n",
       "      <th>min_illumination</th>\n",
       "      <th>max_illumination</th>\n",
       "    </tr>\n",
       "  </thead>\n",
       "  <tbody>\n",
       "    <tr>\n",
       "      <th>0</th>\n",
       "      <td>first quarter moon</td>\n",
       "      <td>[44.76, 45.23, 45.7, 46.17, 46.64, 47.11, 47.5...</td>\n",
       "      <td>44.76</td>\n",
       "      <td>55.17</td>\n",
       "    </tr>\n",
       "    <tr>\n",
       "      <th>1</th>\n",
       "      <td>full moon</td>\n",
       "      <td>[99.75, 99.78, 99.81, 99.84, 99.86, 99.88, 99....</td>\n",
       "      <td>99.72</td>\n",
       "      <td>100.00</td>\n",
       "    </tr>\n",
       "    <tr>\n",
       "      <th>2</th>\n",
       "      <td>last quarter moon</td>\n",
       "      <td>[55.07, 54.67, 54.26, 53.85, 53.45, 53.04, 52....</td>\n",
       "      <td>44.70</td>\n",
       "      <td>55.18</td>\n",
       "    </tr>\n",
       "    <tr>\n",
       "      <th>3</th>\n",
       "      <td>new moon</td>\n",
       "      <td>[0.25, 0.22, 0.19, 0.16, 0.15, 0.13, 0.12, 0.1...</td>\n",
       "      <td>0.01</td>\n",
       "      <td>0.28</td>\n",
       "    </tr>\n",
       "    <tr>\n",
       "      <th>4</th>\n",
       "      <td>waning crescent moon</td>\n",
       "      <td>[32.62, 32.23, 31.84, 31.45, 31.07, 30.68, 30....</td>\n",
       "      <td>0.28</td>\n",
       "      <td>44.45</td>\n",
       "    </tr>\n",
       "    <tr>\n",
       "      <th>5</th>\n",
       "      <td>waning gibbous moon</td>\n",
       "      <td>[99.71, 99.67, 99.63, 99.59, 99.54, 99.48, 99....</td>\n",
       "      <td>55.43</td>\n",
       "      <td>99.71</td>\n",
       "    </tr>\n",
       "    <tr>\n",
       "      <th>6</th>\n",
       "      <td>waxing crescent moon</td>\n",
       "      <td>[0.29, 0.33, 0.38, 0.44, 0.49, 0.56, 0.63, 0.7...</td>\n",
       "      <td>0.29</td>\n",
       "      <td>44.64</td>\n",
       "    </tr>\n",
       "    <tr>\n",
       "      <th>7</th>\n",
       "      <td>waxing gibbous moon</td>\n",
       "      <td>[55.5, 55.96, 56.42, 56.88, 57.34, 57.79, 58.2...</td>\n",
       "      <td>55.35</td>\n",
       "      <td>99.71</td>\n",
       "    </tr>\n",
       "  </tbody>\n",
       "</table>\n",
       "</div>"
      ],
      "text/plain": [
       "               MoonName                            Illumination_percentage  \\\n",
       "0    first quarter moon  [44.76, 45.23, 45.7, 46.17, 46.64, 47.11, 47.5...   \n",
       "1             full moon  [99.75, 99.78, 99.81, 99.84, 99.86, 99.88, 99....   \n",
       "2     last quarter moon  [55.07, 54.67, 54.26, 53.85, 53.45, 53.04, 52....   \n",
       "3              new moon  [0.25, 0.22, 0.19, 0.16, 0.15, 0.13, 0.12, 0.1...   \n",
       "4  waning crescent moon  [32.62, 32.23, 31.84, 31.45, 31.07, 30.68, 30....   \n",
       "5   waning gibbous moon  [99.71, 99.67, 99.63, 99.59, 99.54, 99.48, 99....   \n",
       "6  waxing crescent moon  [0.29, 0.33, 0.38, 0.44, 0.49, 0.56, 0.63, 0.7...   \n",
       "7   waxing gibbous moon  [55.5, 55.96, 56.42, 56.88, 57.34, 57.79, 58.2...   \n",
       "\n",
       "   min_illumination  max_illumination  \n",
       "0             44.76             55.17  \n",
       "1             99.72            100.00  \n",
       "2             44.70             55.18  \n",
       "3              0.01              0.28  \n",
       "4              0.28             44.45  \n",
       "5             55.43             99.71  \n",
       "6              0.29             44.64  \n",
       "7             55.35             99.71  "
      ]
     },
     "execution_count": 10,
     "metadata": {},
     "output_type": "execute_result"
    }
   ],
   "source": [
    "#to get a general udnerstanding of the data\n",
    "df_moon = df_weather.groupby(['MoonName'])['Illumination_percentage'].agg(lambda x: list(x)).reset_index()\n",
    "df_moon['min_illumination'] = df_moon['Illumination_percentage'].map(lambda x: min(x) if x!='ERROR' else 'ERROR' )\n",
    "df_moon['max_illumination'] = df_moon['Illumination_percentage'].map(lambda x: max(x) if x!='ERROR' else 'ERROR' )\n",
    "df_moon"
   ]
  },
  {
   "cell_type": "code",
   "execution_count": 11,
   "metadata": {},
   "outputs": [
    {
     "data": {
      "text/plain": [
       "'Moon Phase calculatorOctober 1, 2021 0h'"
      ]
     },
     "execution_count": 11,
     "metadata": {},
     "output_type": "execute_result"
    }
   ],
   "source": [
    "df_weather['query'].iloc[0]"
   ]
  },
  {
   "cell_type": "code",
   "execution_count": 12,
   "metadata": {},
   "outputs": [
    {
     "name": "stdout",
     "output_type": "stream",
     "text": [
      "(147, 6)\n"
     ]
    },
    {
     "data": {
      "text/html": [
       "<div>\n",
       "<style scoped>\n",
       "    .dataframe tbody tr th:only-of-type {\n",
       "        vertical-align: middle;\n",
       "    }\n",
       "\n",
       "    .dataframe tbody tr th {\n",
       "        vertical-align: top;\n",
       "    }\n",
       "\n",
       "    .dataframe thead th {\n",
       "        text-align: right;\n",
       "    }\n",
       "</style>\n",
       "<table border=\"1\" class=\"dataframe\">\n",
       "  <thead>\n",
       "    <tr style=\"text-align: right;\">\n",
       "      <th></th>\n",
       "      <th>date</th>\n",
       "      <th>temperature_C</th>\n",
       "      <th>humidity_avgpercent</th>\n",
       "      <th>had_rainorsnow</th>\n",
       "      <th>moon_name</th>\n",
       "      <th>Illumination_percentage</th>\n",
       "    </tr>\n",
       "  </thead>\n",
       "  <tbody>\n",
       "    <tr>\n",
       "      <th>0</th>\n",
       "      <td>2021-10-01</td>\n",
       "      <td>16.625</td>\n",
       "      <td>62.625</td>\n",
       "      <td>1</td>\n",
       "      <td>waning crescent moon</td>\n",
       "      <td>27.44625</td>\n",
       "    </tr>\n",
       "    <tr>\n",
       "      <th>1</th>\n",
       "      <td>2021-10-02</td>\n",
       "      <td>19.250</td>\n",
       "      <td>63.375</td>\n",
       "      <td>1</td>\n",
       "      <td>waning crescent moon</td>\n",
       "      <td>18.81250</td>\n",
       "    </tr>\n",
       "    <tr>\n",
       "      <th>2</th>\n",
       "      <td>2021-10-03</td>\n",
       "      <td>17.375</td>\n",
       "      <td>72.000</td>\n",
       "      <td>1</td>\n",
       "      <td>waning crescent moon</td>\n",
       "      <td>11.28250</td>\n",
       "    </tr>\n",
       "  </tbody>\n",
       "</table>\n",
       "</div>"
      ],
      "text/plain": [
       "        date  temperature_C  humidity_avgpercent  had_rainorsnow  \\\n",
       "0 2021-10-01         16.625               62.625               1   \n",
       "1 2021-10-02         19.250               63.375               1   \n",
       "2 2021-10-03         17.375               72.000               1   \n",
       "\n",
       "              moon_name  Illumination_percentage  \n",
       "0  waning crescent moon                 27.44625  \n",
       "1  waning crescent moon                 18.81250  \n",
       "2  waning crescent moon                 11.28250  "
      ]
     },
     "execution_count": 12,
     "metadata": {},
     "output_type": "execute_result"
    }
   ],
   "source": [
    "df_daily_weather = df_weather[df_weather['hour'].isin([10,11,12,13,14,15,16,17])].copy()\n",
    "df_daily_weather = df_daily_weather.groupby(['date']).agg(\n",
    "    temperature_C=pd.NamedAgg(column='temperature_C', aggfunc=lambda x: np.mean(x)),\n",
    "    humidity_avgpercent=pd.NamedAgg(column='humidity_avgpercent', aggfunc=lambda x: np.mean(x)),\n",
    "    had_rainorsnow=pd.NamedAgg(column='rain', aggfunc=lambda x: int(all([i=='no precipitation' for i in x]))),\n",
    "    moon_name=pd.NamedAgg(column='MoonName', aggfunc=lambda x: list(x)[0]),\n",
    "    Illumination_percentage=pd.NamedAgg(column='Illumination_percentage', aggfunc=lambda x: np.mean(x))).reset_index()\n",
    "df_daily_weather.to_csv(os.path.join(path_,'df_daily_weather_exp2.csv'), index=False, sep=';')\n",
    "print(df_daily_weather.shape)\n",
    "df_daily_weather.head(3)"
   ]
  },
  {
   "cell_type": "code",
   "execution_count": 13,
   "metadata": {},
   "outputs": [
    {
     "data": {
      "text/plain": [
       "had_rainorsnow\n",
       "0    80.736842\n",
       "1    74.522171\n",
       "Name: humidity_avgpercent, dtype: float64"
      ]
     },
     "execution_count": 13,
     "metadata": {},
     "output_type": "execute_result"
    }
   ],
   "source": [
    "df_daily_weather.groupby(['had_rainorsnow'])['humidity_avgpercent'].agg(lambda x: np.mean(x))"
   ]
  },
  {
   "cell_type": "code",
   "execution_count": null,
   "metadata": {},
   "outputs": [],
   "source": []
  },
  {
   "cell_type": "code",
   "execution_count": null,
   "metadata": {},
   "outputs": [],
   "source": []
  },
  {
   "cell_type": "code",
   "execution_count": null,
   "metadata": {},
   "outputs": [],
   "source": []
  },
  {
   "cell_type": "code",
   "execution_count": null,
   "metadata": {},
   "outputs": [],
   "source": []
  },
  {
   "cell_type": "code",
   "execution_count": null,
   "metadata": {},
   "outputs": [],
   "source": []
  },
  {
   "cell_type": "code",
   "execution_count": null,
   "metadata": {},
   "outputs": [],
   "source": []
  },
  {
   "cell_type": "code",
   "execution_count": null,
   "metadata": {},
   "outputs": [],
   "source": []
  }
 ],
 "metadata": {
  "kernelspec": {
   "display_name": "Python 3 (ipykernel)",
   "language": "python",
   "name": "python3"
  },
  "language_info": {
   "codemirror_mode": {
    "name": "ipython",
    "version": 3
   },
   "file_extension": ".py",
   "mimetype": "text/x-python",
   "name": "python",
   "nbconvert_exporter": "python",
   "pygments_lexer": "ipython3",
   "version": "3.8.12"
  }
 },
 "nbformat": 4,
 "nbformat_minor": 2
}
