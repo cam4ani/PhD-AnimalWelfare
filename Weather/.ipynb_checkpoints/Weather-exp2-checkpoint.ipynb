{
 "cells": [
  {
   "cell_type": "code",
   "execution_count": 5,
   "metadata": {},
   "outputs": [],
   "source": [
    "#!pip install wolframalpha\n",
    "import datetime as dt\n",
    "import tqdm\n",
    "import os\n",
    "import pandas as pd\n",
    "import glob\n",
    "import numpy as np\n",
    "import sys\n",
    "\n",
    "import wolframalpha\n",
    "app_id = 'JU4PR2-E8JGQVLHXW'\n",
    "client = wolframalpha.Client(app_id)"
   ]
  },
  {
   "cell_type": "code",
   "execution_count": 6,
   "metadata": {},
   "outputs": [
    {
     "name": "stdout",
     "output_type": "stream",
     "text": [
      "3.8.12\n"
     ]
    }
   ],
   "source": [
    "from platform import python_version\n",
    "print(python_version())"
   ]
  },
  {
   "cell_type": "raw",
   "metadata": {},
   "source": [
    "To verify moon data:\n",
    "https://www.calendrier-lunaire.fr/calendrier/octobre-2020/\n",
    "https://www.pleine-lune.org/calendrier-lunaire-2020\n",
    "https://www.timeanddate.com/astronomy/moon/waning-crescent.html"
   ]
  },
  {
   "cell_type": "raw",
   "metadata": {},
   "source": [
    "#url parameter:\n",
    "#https://products.wolframalpha.com/simple-api/documentation/\n",
    "#http://api.wolframalpha.com/v2/query?appid=DEMO&input=population%20france&includepodid=Result\n",
    "http://api.wolframalpha.com/v2/query?appid=JU4PR2-E8JGQVLHXW&input=temperature%20Zollikofen&includepodid=Result"
   ]
  },
  {
   "cell_type": "markdown",
   "metadata": {},
   "source": [
    "#small example\n",
    "query = 'Precipitation amount in Zollikofen on October 6, 2020 1h'\n",
    "res = client.query(query)\n",
    "for t in res.results:\n",
    "    print(t.text)"
   ]
  },
  {
   "cell_type": "markdown",
   "metadata": {},
   "source": [
    "#small example\n",
    "query = 'Precipitation amount in Zollikofen '+d.strftime('%B')+' '+str(d.day)+', '+str(d.year)+' '+str(d.hour)+'h'\n",
    "res = client.query(query)\n",
    "for t in res.results:\n",
    "    print(t.text)"
   ]
  },
  {
   "cell_type": "markdown",
   "metadata": {},
   "source": [
    "#small example\n",
    "d = dt.datetime(2020,1,24,22,44,11)\n",
    "query = 'Moon Phase calculator'+d.strftime('%B')+' '+str(d.day)+', '+str(d.year)+' '+str(d.hour)+'h'\n",
    "res = client.query(query)\n",
    "r = ''\n",
    "for t in res.results:\n",
    "    print(t.text.strip('|').strip(' '))\n",
    "#for verification\n",
    "#https://www.pleine-lune.org/calendrier-lunaire-2020\n",
    "#res"
   ]
  },
  {
   "cell_type": "code",
   "execution_count": 7,
   "metadata": {},
   "outputs": [],
   "source": [
    "li_type = ['Precipitation amount', 'temperature', 'humidity', 'wind speed','Moon Phase calculator'] #pressure\n",
    "#path_ = r'D:\\vm_exchange\\PhD_Data\\Weather'\n",
    "path_ = r'C:\\Users\\camil\\Desktop\\vm_exchange\\PhD_Data\\Weather'"
   ]
  },
  {
   "cell_type": "code",
   "execution_count": 8,
   "metadata": {},
   "outputs": [
    {
     "name": "stdout",
     "output_type": "stream",
     "text": [
      "(0, 7)\n"
     ]
    },
    {
     "data": {
      "text/html": [
       "<div>\n",
       "<style scoped>\n",
       "    .dataframe tbody tr th:only-of-type {\n",
       "        vertical-align: middle;\n",
       "    }\n",
       "\n",
       "    .dataframe tbody tr th {\n",
       "        vertical-align: top;\n",
       "    }\n",
       "\n",
       "    .dataframe thead th {\n",
       "        text-align: right;\n",
       "    }\n",
       "</style>\n",
       "<table border=\"1\" class=\"dataframe\">\n",
       "  <thead>\n",
       "    <tr style=\"text-align: right;\">\n",
       "      <th></th>\n",
       "      <th>date</th>\n",
       "      <th>temperature</th>\n",
       "      <th>humidity</th>\n",
       "      <th>wind speed</th>\n",
       "      <th>Precipitation amount</th>\n",
       "      <th>Moon Phase calculator</th>\n",
       "      <th>query</th>\n",
       "    </tr>\n",
       "  </thead>\n",
       "  <tbody>\n",
       "  </tbody>\n",
       "</table>\n",
       "</div>"
      ],
      "text/plain": [
       "Empty DataFrame\n",
       "Columns: [date, temperature, humidity, wind speed, Precipitation amount, Moon Phase calculator, query]\n",
       "Index: []"
      ]
     },
     "metadata": {},
     "output_type": "display_data"
    },
    {
     "name": "stdout",
     "output_type": "stream",
     "text": [
      "7321\n",
      "7321\n",
      "WARNING: to many calls to be completed these queries!\n",
      "You need 36605 new queries to complete this date interval\n",
      "(0, 7)\n"
     ]
    },
    {
     "data": {
      "text/html": [
       "<div>\n",
       "<style scoped>\n",
       "    .dataframe tbody tr th:only-of-type {\n",
       "        vertical-align: middle;\n",
       "    }\n",
       "\n",
       "    .dataframe tbody tr th {\n",
       "        vertical-align: top;\n",
       "    }\n",
       "\n",
       "    .dataframe thead th {\n",
       "        text-align: right;\n",
       "    }\n",
       "</style>\n",
       "<table border=\"1\" class=\"dataframe\">\n",
       "  <thead>\n",
       "    <tr style=\"text-align: right;\">\n",
       "      <th></th>\n",
       "      <th>date</th>\n",
       "      <th>temperature</th>\n",
       "      <th>humidity</th>\n",
       "      <th>wind speed</th>\n",
       "      <th>Precipitation amount</th>\n",
       "      <th>Moon Phase calculator</th>\n",
       "      <th>query</th>\n",
       "    </tr>\n",
       "  </thead>\n",
       "  <tbody>\n",
       "  </tbody>\n",
       "</table>\n",
       "</div>"
      ],
      "text/plain": [
       "Empty DataFrame\n",
       "Columns: [date, temperature, humidity, wind speed, Precipitation amount, Moon Phase calculator, query]\n",
       "Index: []"
      ]
     },
     "execution_count": 8,
     "metadata": {},
     "output_type": "execute_result"
    }
   ],
   "source": [
    "mi = dt.datetime(2021,10,1)\n",
    "#ma = dt.datetime(2019,9,2)\n",
    "ma = dt.datetime(2022,8,2)\n",
    "df = pd.DataFrame(columns=['date', 'temperature', 'humidity', 'wind speed', 'Precipitation amount',\n",
    "                           'Moon Phase calculator','query']) #pressure\n",
    "path_weather = os.path.join(path_,'weather_exp2.csv')\n",
    "if len(glob.glob(path_weather))==1:\n",
    "    df = pd.read_csv(path_weather, sep=';', parse_dates=['date'])\n",
    "    #remove the last date, in case we stop in middle of the data to grab\n",
    "    #df = df[df['date']!=max(df['date'].unique())]\n",
    "    df = df.drop_duplicates(subset=None, keep='first', inplace=False)\n",
    "    print(df.shape)\n",
    "    print('We already have %d dates of weather'%df.shape[0])\n",
    "    #mi = max(mi, max(df['date'].tolist())) #not a good idea in case of errors as in that case we would like to try it again \n",
    "print(df[df.isin([\"ERROR\"]).any(axis=1)].shape)\n",
    "display(df[df.isin([\"ERROR\"]).any(axis=1)])\n",
    "df = df[~df.isin([\"ERROR\"]).any(axis=1)]\n",
    "#remove the rows with at least one error\n",
    "Daterange = pd.date_range(start=mi, end=ma, freq='H')   \n",
    "print(len(Daterange))\n",
    "Daterange = [d for d in Daterange if d not in df['date'].unique()]\n",
    "print(len(Daterange))\n",
    "if (len(Daterange)*len(li_type))>=2000:\n",
    "    print('WARNING: to many calls to be completed these queries!')\n",
    "print('You need %d new queries to complete this date interval'%(len(Daterange)*len(li_type)))\n",
    "df = df.sort_values(['date'])\n",
    "print(df.shape)\n",
    "df.tail(5)"
   ]
  },
  {
   "cell_type": "code",
   "execution_count": null,
   "metadata": {
    "scrolled": true
   },
   "outputs": [
    {
     "name": "stderr",
     "output_type": "stream",
     "text": [
      "\r",
      "  0%|                                                                                         | 0/7321 [00:00<?, ?it/s]"
     ]
    },
    {
     "name": "stdout",
     "output_type": "stream",
     "text": [
      "QUERY:  Precipitation amount in Zollikofen October 1, 2021 0h\n",
      "QUERY:  temperature in Zollikofen October 1, 2021 0h\n",
      "QUERY:  humidity in Zollikofen October 1, 2021 0h\n",
      "QUERY:  wind speed in Zollikofen October 1, 2021 0h\n",
      "QUERY:  Moon Phase calculatorOctober 1, 2021 0h\n",
      "(1, 7)\n"
     ]
    },
    {
     "data": {
      "text/html": [
       "<div>\n",
       "<style scoped>\n",
       "    .dataframe tbody tr th:only-of-type {\n",
       "        vertical-align: middle;\n",
       "    }\n",
       "\n",
       "    .dataframe tbody tr th {\n",
       "        vertical-align: top;\n",
       "    }\n",
       "\n",
       "    .dataframe thead th {\n",
       "        text-align: right;\n",
       "    }\n",
       "</style>\n",
       "<table border=\"1\" class=\"dataframe\">\n",
       "  <thead>\n",
       "    <tr style=\"text-align: right;\">\n",
       "      <th></th>\n",
       "      <th>date</th>\n",
       "      <th>temperature</th>\n",
       "      <th>humidity</th>\n",
       "      <th>wind speed</th>\n",
       "      <th>Precipitation amount</th>\n",
       "      <th>Moon Phase calculator</th>\n",
       "      <th>query</th>\n",
       "    </tr>\n",
       "  </thead>\n",
       "  <tbody>\n",
       "    <tr>\n",
       "      <th>0</th>\n",
       "      <td>2021-10-01</td>\n",
       "      <td>7 °C\\n(12:00 am CEST | Friday, October 1, 2021)</td>\n",
       "      <td>average: 93% (93%)\\n(12:00 am CEST | Friday, O...</td>\n",
       "      <td>0 m/s\\n(12:00 am CEST | Friday, October 1, 2021)</td>\n",
       "      <td>no precipitation\\n(12:00 am CEST | Friday, Oct...</td>\n",
       "      <td>| waning crescent moon\\n32.62% illuminated</td>\n",
       "      <td>Moon Phase calculatorOctober 1, 2021 0h</td>\n",
       "    </tr>\n",
       "  </tbody>\n",
       "</table>\n",
       "</div>"
      ],
      "text/plain": [
       "        date                                      temperature  \\\n",
       "0 2021-10-01  7 °C\\n(12:00 am CEST | Friday, October 1, 2021)   \n",
       "\n",
       "                                            humidity  \\\n",
       "0  average: 93% (93%)\\n(12:00 am CEST | Friday, O...   \n",
       "\n",
       "                                         wind speed  \\\n",
       "0  0 m/s\\n(12:00 am CEST | Friday, October 1, 2021)   \n",
       "\n",
       "                                Precipitation amount  \\\n",
       "0  no precipitation\\n(12:00 am CEST | Friday, Oct...   \n",
       "\n",
       "                        Moon Phase calculator  \\\n",
       "0  | waning crescent moon\\n32.62% illuminated   \n",
       "\n",
       "                                     query  \n",
       "0  Moon Phase calculatorOctober 1, 2021 0h  "
      ]
     },
     "metadata": {},
     "output_type": "display_data"
    },
    {
     "name": "stderr",
     "output_type": "stream",
     "text": [
      "\r",
      "  0%|                                                                              | 1/7321 [00:13<27:54:01, 13.72s/it]"
     ]
    },
    {
     "name": "stdout",
     "output_type": "stream",
     "text": [
      "QUERY:  Precipitation amount in Zollikofen October 1, 2021 1h\n",
      "QUERY:  temperature in Zollikofen October 1, 2021 1h\n",
      "QUERY:  humidity in Zollikofen October 1, 2021 1h\n",
      "QUERY:  wind speed in Zollikofen October 1, 2021 1h\n",
      "QUERY:  Moon Phase calculatorOctober 1, 2021 1h\n"
     ]
    },
    {
     "name": "stderr",
     "output_type": "stream",
     "text": [
      "\r",
      "  0%|                                                                              | 2/7321 [00:36<38:35:30, 18.98s/it]"
     ]
    },
    {
     "name": "stdout",
     "output_type": "stream",
     "text": [
      "QUERY:  Precipitation amount in Zollikofen October 1, 2021 2h\n",
      "QUERY:  temperature in Zollikofen October 1, 2021 2h\n",
      "QUERY:  humidity in Zollikofen October 1, 2021 2h\n",
      "QUERY:  wind speed in Zollikofen October 1, 2021 2h\n",
      "QUERY:  Moon Phase calculatorOctober 1, 2021 2h\n"
     ]
    },
    {
     "name": "stderr",
     "output_type": "stream",
     "text": [
      "\r",
      "  0%|                                                                              | 3/7321 [00:57<40:35:14, 19.97s/it]"
     ]
    },
    {
     "name": "stdout",
     "output_type": "stream",
     "text": [
      "QUERY:  Precipitation amount in Zollikofen October 1, 2021 3h\n",
      "QUERY:  temperature in Zollikofen October 1, 2021 3h\n",
      "QUERY:  humidity in Zollikofen October 1, 2021 3h\n",
      "QUERY:  wind speed in Zollikofen October 1, 2021 3h\n",
      "QUERY:  Moon Phase calculatorOctober 1, 2021 3h\n"
     ]
    },
    {
     "name": "stderr",
     "output_type": "stream",
     "text": [
      "\r",
      "  0%|                                                                              | 4/7321 [01:18<41:32:56, 20.44s/it]"
     ]
    },
    {
     "name": "stdout",
     "output_type": "stream",
     "text": [
      "QUERY:  Precipitation amount in Zollikofen October 1, 2021 4h\n",
      "QUERY:  temperature in Zollikofen October 1, 2021 4h\n",
      "QUERY:  humidity in Zollikofen October 1, 2021 4h\n",
      "QUERY:  wind speed in Zollikofen October 1, 2021 4h\n",
      "QUERY:  Moon Phase calculatorOctober 1, 2021 4h\n"
     ]
    },
    {
     "name": "stderr",
     "output_type": "stream",
     "text": [
      "\r",
      "  0%|                                                                              | 5/7321 [01:39<41:45:45, 20.55s/it]"
     ]
    },
    {
     "name": "stdout",
     "output_type": "stream",
     "text": [
      "QUERY:  Precipitation amount in Zollikofen October 1, 2021 5h\n",
      "QUERY:  temperature in Zollikofen October 1, 2021 5h\n",
      "QUERY:  humidity in Zollikofen October 1, 2021 5h\n",
      "QUERY:  wind speed in Zollikofen October 1, 2021 5h\n",
      "QUERY:  Moon Phase calculatorOctober 1, 2021 5h\n"
     ]
    },
    {
     "name": "stderr",
     "output_type": "stream",
     "text": [
      "\r",
      "  0%|                                                                              | 6/7321 [01:59<41:35:03, 20.47s/it]"
     ]
    },
    {
     "name": "stdout",
     "output_type": "stream",
     "text": [
      "QUERY:  Precipitation amount in Zollikofen October 1, 2021 6h\n",
      "QUERY:  temperature in Zollikofen October 1, 2021 6h\n",
      "QUERY:  humidity in Zollikofen October 1, 2021 6h\n",
      "QUERY:  wind speed in Zollikofen October 1, 2021 6h\n",
      "QUERY:  Moon Phase calculatorOctober 1, 2021 6h\n"
     ]
    },
    {
     "name": "stderr",
     "output_type": "stream",
     "text": [
      "\r",
      "  0%|                                                                              | 7/7321 [02:20<41:28:57, 20.42s/it]"
     ]
    },
    {
     "name": "stdout",
     "output_type": "stream",
     "text": [
      "QUERY:  Precipitation amount in Zollikofen October 1, 2021 7h\n",
      "QUERY:  temperature in Zollikofen October 1, 2021 7h\n",
      "QUERY:  humidity in Zollikofen October 1, 2021 7h\n",
      "QUERY:  wind speed in Zollikofen October 1, 2021 7h\n",
      "QUERY:  Moon Phase calculatorOctober 1, 2021 7h\n"
     ]
    },
    {
     "name": "stderr",
     "output_type": "stream",
     "text": [
      "\r",
      "  0%|                                                                              | 8/7321 [02:42<42:43:57, 21.04s/it]"
     ]
    },
    {
     "name": "stdout",
     "output_type": "stream",
     "text": [
      "QUERY:  Precipitation amount in Zollikofen October 1, 2021 8h\n",
      "QUERY:  temperature in Zollikofen October 1, 2021 8h\n",
      "QUERY:  humidity in Zollikofen October 1, 2021 8h\n",
      "QUERY:  wind speed in Zollikofen October 1, 2021 8h\n",
      "QUERY:  Moon Phase calculatorOctober 1, 2021 8h\n"
     ]
    },
    {
     "name": "stderr",
     "output_type": "stream",
     "text": [
      "\r",
      "  0%|                                                                              | 9/7321 [03:04<43:19:00, 21.33s/it]"
     ]
    },
    {
     "name": "stdout",
     "output_type": "stream",
     "text": [
      "QUERY:  Precipitation amount in Zollikofen October 1, 2021 9h\n",
      "QUERY:  temperature in Zollikofen October 1, 2021 9h\n",
      "QUERY:  humidity in Zollikofen October 1, 2021 9h\n",
      "QUERY:  wind speed in Zollikofen October 1, 2021 9h\n",
      "QUERY:  Moon Phase calculatorOctober 1, 2021 9h\n"
     ]
    },
    {
     "name": "stderr",
     "output_type": "stream",
     "text": [
      "\r",
      "  0%|                                                                             | 10/7321 [03:25<43:18:52, 21.33s/it]"
     ]
    },
    {
     "name": "stdout",
     "output_type": "stream",
     "text": [
      "QUERY:  Precipitation amount in Zollikofen October 1, 2021 10h\n",
      "QUERY:  temperature in Zollikofen October 1, 2021 10h\n",
      "QUERY:  humidity in Zollikofen October 1, 2021 10h\n",
      "QUERY:  wind speed in Zollikofen October 1, 2021 10h\n",
      "QUERY:  Moon Phase calculatorOctober 1, 2021 10h\n",
      "(11, 7)\n"
     ]
    },
    {
     "data": {
      "text/html": [
       "<div>\n",
       "<style scoped>\n",
       "    .dataframe tbody tr th:only-of-type {\n",
       "        vertical-align: middle;\n",
       "    }\n",
       "\n",
       "    .dataframe tbody tr th {\n",
       "        vertical-align: top;\n",
       "    }\n",
       "\n",
       "    .dataframe thead th {\n",
       "        text-align: right;\n",
       "    }\n",
       "</style>\n",
       "<table border=\"1\" class=\"dataframe\">\n",
       "  <thead>\n",
       "    <tr style=\"text-align: right;\">\n",
       "      <th></th>\n",
       "      <th>date</th>\n",
       "      <th>temperature</th>\n",
       "      <th>humidity</th>\n",
       "      <th>wind speed</th>\n",
       "      <th>Precipitation amount</th>\n",
       "      <th>Moon Phase calculator</th>\n",
       "      <th>query</th>\n",
       "    </tr>\n",
       "  </thead>\n",
       "  <tbody>\n",
       "    <tr>\n",
       "      <th>8</th>\n",
       "      <td>2021-10-01 09:00:00</td>\n",
       "      <td>9 °C\\n(9:00 am CEST | Friday, October 1, 2021)</td>\n",
       "      <td>average: 97% (94 to 100%)\\n(9:00 am CEST | Fri...</td>\n",
       "      <td>1 m/s\\n(9:00 am CEST | Friday, October 1, 2021)</td>\n",
       "      <td>no precipitation\\n(9:00 am CEST | Friday, Octo...</td>\n",
       "      <td>| waning crescent moon\\n29.15% illuminated</td>\n",
       "      <td>Moon Phase calculatorOctober 1, 2021 9h</td>\n",
       "    </tr>\n",
       "    <tr>\n",
       "      <th>9</th>\n",
       "      <td>2021-10-01 10:00:00</td>\n",
       "      <td>12 °C\\n(10:00 am CEST | Friday, October 1, 2021)</td>\n",
       "      <td>average: 79% (77 to 82%)\\n(10:00 am CEST | Fri...</td>\n",
       "      <td>1 m/s\\n(10:00 am CEST | Friday, October 1, 2021)</td>\n",
       "      <td>no precipitation\\n(10:00 am CEST | Friday, Oct...</td>\n",
       "      <td>| waning crescent moon\\n28.77% illuminated</td>\n",
       "      <td>Moon Phase calculatorOctober 1, 2021 10h</td>\n",
       "    </tr>\n",
       "  </tbody>\n",
       "</table>\n",
       "</div>"
      ],
      "text/plain": [
       "                 date                                       temperature  \\\n",
       "8 2021-10-01 09:00:00    9 °C\\n(9:00 am CEST | Friday, October 1, 2021)   \n",
       "9 2021-10-01 10:00:00  12 °C\\n(10:00 am CEST | Friday, October 1, 2021)   \n",
       "\n",
       "                                            humidity  \\\n",
       "8  average: 97% (94 to 100%)\\n(9:00 am CEST | Fri...   \n",
       "9  average: 79% (77 to 82%)\\n(10:00 am CEST | Fri...   \n",
       "\n",
       "                                         wind speed  \\\n",
       "8   1 m/s\\n(9:00 am CEST | Friday, October 1, 2021)   \n",
       "9  1 m/s\\n(10:00 am CEST | Friday, October 1, 2021)   \n",
       "\n",
       "                                Precipitation amount  \\\n",
       "8  no precipitation\\n(9:00 am CEST | Friday, Octo...   \n",
       "9  no precipitation\\n(10:00 am CEST | Friday, Oct...   \n",
       "\n",
       "                        Moon Phase calculator  \\\n",
       "8  | waning crescent moon\\n29.15% illuminated   \n",
       "9  | waning crescent moon\\n28.77% illuminated   \n",
       "\n",
       "                                      query  \n",
       "8   Moon Phase calculatorOctober 1, 2021 9h  \n",
       "9  Moon Phase calculatorOctober 1, 2021 10h  "
      ]
     },
     "metadata": {},
     "output_type": "display_data"
    },
    {
     "name": "stderr",
     "output_type": "stream",
     "text": [
      "\r",
      "  0%|                                                                             | 11/7321 [03:46<43:12:32, 21.28s/it]"
     ]
    },
    {
     "name": "stdout",
     "output_type": "stream",
     "text": [
      "QUERY:  Precipitation amount in Zollikofen October 1, 2021 11h\n",
      "QUERY:  temperature in Zollikofen October 1, 2021 11h\n",
      "QUERY:  humidity in Zollikofen October 1, 2021 11h\n",
      "QUERY:  wind speed in Zollikofen October 1, 2021 11h\n",
      "QUERY:  Moon Phase calculatorOctober 1, 2021 11h\n"
     ]
    },
    {
     "name": "stderr",
     "output_type": "stream",
     "text": [
      "\r",
      "  0%|▏                                                                            | 12/7321 [04:07<42:32:39, 20.95s/it]"
     ]
    },
    {
     "name": "stdout",
     "output_type": "stream",
     "text": [
      "QUERY:  Precipitation amount in Zollikofen October 1, 2021 12h\n",
      "QUERY:  temperature in Zollikofen October 1, 2021 12h\n",
      "QUERY:  humidity in Zollikofen October 1, 2021 12h\n",
      "QUERY:  wind speed in Zollikofen October 1, 2021 12h\n",
      "QUERY:  Moon Phase calculatorOctober 1, 2021 12h\n"
     ]
    },
    {
     "name": "stderr",
     "output_type": "stream",
     "text": [
      "\r",
      "  0%|▏                                                                            | 13/7321 [04:28<42:39:48, 21.02s/it]"
     ]
    },
    {
     "name": "stdout",
     "output_type": "stream",
     "text": [
      "QUERY:  Precipitation amount in Zollikofen October 1, 2021 13h\n",
      "QUERY:  temperature in Zollikofen October 1, 2021 13h\n",
      "QUERY:  humidity in Zollikofen October 1, 2021 13h\n",
      "QUERY:  wind speed in Zollikofen October 1, 2021 13h\n",
      "QUERY:  Moon Phase calculatorOctober 1, 2021 13h\n"
     ]
    },
    {
     "name": "stderr",
     "output_type": "stream",
     "text": [
      "\r",
      "  0%|▏                                                                            | 14/7321 [04:50<43:19:51, 21.35s/it]"
     ]
    },
    {
     "name": "stdout",
     "output_type": "stream",
     "text": [
      "QUERY:  Precipitation amount in Zollikofen October 1, 2021 14h\n",
      "QUERY:  temperature in Zollikofen October 1, 2021 14h\n",
      "QUERY:  humidity in Zollikofen October 1, 2021 14h\n",
      "QUERY:  wind speed in Zollikofen October 1, 2021 14h\n",
      "QUERY:  Moon Phase calculatorOctober 1, 2021 14h\n"
     ]
    },
    {
     "name": "stderr",
     "output_type": "stream",
     "text": [
      "\r",
      "  0%|▏                                                                            | 15/7321 [05:08<41:08:58, 20.28s/it]"
     ]
    },
    {
     "name": "stdout",
     "output_type": "stream",
     "text": [
      "QUERY:  Precipitation amount in Zollikofen October 1, 2021 15h\n",
      "QUERY:  temperature in Zollikofen October 1, 2021 15h\n",
      "QUERY:  humidity in Zollikofen October 1, 2021 15h\n",
      "QUERY:  wind speed in Zollikofen October 1, 2021 15h\n",
      "QUERY:  Moon Phase calculatorOctober 1, 2021 15h\n"
     ]
    },
    {
     "name": "stderr",
     "output_type": "stream",
     "text": [
      "\r",
      "  0%|▏                                                                            | 16/7321 [05:22<37:13:00, 18.34s/it]"
     ]
    },
    {
     "name": "stdout",
     "output_type": "stream",
     "text": [
      "QUERY:  Precipitation amount in Zollikofen October 1, 2021 16h\n",
      "QUERY:  temperature in Zollikofen October 1, 2021 16h\n",
      "QUERY:  humidity in Zollikofen October 1, 2021 16h\n",
      "QUERY:  wind speed in Zollikofen October 1, 2021 16h\n",
      "QUERY:  Moon Phase calculatorOctober 1, 2021 16h\n"
     ]
    },
    {
     "name": "stderr",
     "output_type": "stream",
     "text": [
      "\r",
      "  0%|▏                                                                            | 17/7321 [05:35<34:16:00, 16.89s/it]"
     ]
    },
    {
     "name": "stdout",
     "output_type": "stream",
     "text": [
      "QUERY:  Precipitation amount in Zollikofen October 1, 2021 17h\n",
      "QUERY:  temperature in Zollikofen October 1, 2021 17h\n",
      "QUERY:  humidity in Zollikofen October 1, 2021 17h\n",
      "QUERY:  wind speed in Zollikofen October 1, 2021 17h\n",
      "QUERY:  Moon Phase calculatorOctober 1, 2021 17h\n"
     ]
    },
    {
     "name": "stderr",
     "output_type": "stream",
     "text": [
      "\r",
      "  0%|▏                                                                            | 18/7321 [05:49<32:16:57, 15.91s/it]"
     ]
    },
    {
     "name": "stdout",
     "output_type": "stream",
     "text": [
      "QUERY:  Precipitation amount in Zollikofen October 1, 2021 18h\n",
      "QUERY:  temperature in Zollikofen October 1, 2021 18h\n",
      "QUERY:  humidity in Zollikofen October 1, 2021 18h\n",
      "QUERY:  wind speed in Zollikofen October 1, 2021 18h\n",
      "QUERY:  Moon Phase calculatorOctober 1, 2021 18h\n"
     ]
    },
    {
     "name": "stderr",
     "output_type": "stream",
     "text": [
      "\r",
      "  0%|▏                                                                            | 19/7321 [06:04<31:57:42, 15.76s/it]"
     ]
    },
    {
     "name": "stdout",
     "output_type": "stream",
     "text": [
      "QUERY:  Precipitation amount in Zollikofen October 1, 2021 19h\n",
      "QUERY:  temperature in Zollikofen October 1, 2021 19h\n",
      "QUERY:  humidity in Zollikofen October 1, 2021 19h\n",
      "QUERY:  wind speed in Zollikofen October 1, 2021 19h\n",
      "QUERY:  Moon Phase calculatorOctober 1, 2021 19h\n"
     ]
    },
    {
     "name": "stderr",
     "output_type": "stream",
     "text": [
      "\r",
      "  0%|▏                                                                            | 20/7321 [06:17<30:25:50, 15.00s/it]"
     ]
    },
    {
     "name": "stdout",
     "output_type": "stream",
     "text": [
      "QUERY:  Precipitation amount in Zollikofen October 1, 2021 20h\n",
      "QUERY:  temperature in Zollikofen October 1, 2021 20h\n",
      "QUERY:  humidity in Zollikofen October 1, 2021 20h\n",
      "QUERY:  wind speed in Zollikofen October 1, 2021 20h\n",
      "QUERY:  Moon Phase calculatorOctober 1, 2021 20h\n",
      "(21, 7)\n"
     ]
    },
    {
     "data": {
      "text/html": [
       "<div>\n",
       "<style scoped>\n",
       "    .dataframe tbody tr th:only-of-type {\n",
       "        vertical-align: middle;\n",
       "    }\n",
       "\n",
       "    .dataframe tbody tr th {\n",
       "        vertical-align: top;\n",
       "    }\n",
       "\n",
       "    .dataframe thead th {\n",
       "        text-align: right;\n",
       "    }\n",
       "</style>\n",
       "<table border=\"1\" class=\"dataframe\">\n",
       "  <thead>\n",
       "    <tr style=\"text-align: right;\">\n",
       "      <th></th>\n",
       "      <th>date</th>\n",
       "      <th>temperature</th>\n",
       "      <th>humidity</th>\n",
       "      <th>wind speed</th>\n",
       "      <th>Precipitation amount</th>\n",
       "      <th>Moon Phase calculator</th>\n",
       "      <th>query</th>\n",
       "    </tr>\n",
       "  </thead>\n",
       "  <tbody>\n",
       "    <tr>\n",
       "      <th>8</th>\n",
       "      <td>2021-10-01 19:00:00</td>\n",
       "      <td>15 °C\\n(7:00 pm CEST | Friday, October 1, 2021)</td>\n",
       "      <td>average: 88% (88%)\\n(7:00 pm CEST | Friday, Oc...</td>\n",
       "      <td>1 m/s\\n(7:00 pm CEST | Friday, October 1, 2021)</td>\n",
       "      <td>no precipitation\\n(7:00 pm CEST | Friday, Octo...</td>\n",
       "      <td>| waning crescent moon\\n25.39% illuminated</td>\n",
       "      <td>Moon Phase calculatorOctober 1, 2021 19h</td>\n",
       "    </tr>\n",
       "    <tr>\n",
       "      <th>9</th>\n",
       "      <td>2021-10-01 20:00:00</td>\n",
       "      <td>14 °C\\n(8:00 pm CEST | Friday, October 1, 2021)</td>\n",
       "      <td>average: 91% (88 to 94%)\\n(8:00 pm CEST | Frid...</td>\n",
       "      <td>0 m/s\\n(8:00 pm CEST | Friday, October 1, 2021)</td>\n",
       "      <td>no precipitation\\n(8:00 pm CEST | Friday, Octo...</td>\n",
       "      <td>| waning crescent moon\\n25.02% illuminated</td>\n",
       "      <td>Moon Phase calculatorOctober 1, 2021 20h</td>\n",
       "    </tr>\n",
       "  </tbody>\n",
       "</table>\n",
       "</div>"
      ],
      "text/plain": [
       "                 date                                      temperature  \\\n",
       "8 2021-10-01 19:00:00  15 °C\\n(7:00 pm CEST | Friday, October 1, 2021)   \n",
       "9 2021-10-01 20:00:00  14 °C\\n(8:00 pm CEST | Friday, October 1, 2021)   \n",
       "\n",
       "                                            humidity  \\\n",
       "8  average: 88% (88%)\\n(7:00 pm CEST | Friday, Oc...   \n",
       "9  average: 91% (88 to 94%)\\n(8:00 pm CEST | Frid...   \n",
       "\n",
       "                                        wind speed  \\\n",
       "8  1 m/s\\n(7:00 pm CEST | Friday, October 1, 2021)   \n",
       "9  0 m/s\\n(8:00 pm CEST | Friday, October 1, 2021)   \n",
       "\n",
       "                                Precipitation amount  \\\n",
       "8  no precipitation\\n(7:00 pm CEST | Friday, Octo...   \n",
       "9  no precipitation\\n(8:00 pm CEST | Friday, Octo...   \n",
       "\n",
       "                        Moon Phase calculator  \\\n",
       "8  | waning crescent moon\\n25.39% illuminated   \n",
       "9  | waning crescent moon\\n25.02% illuminated   \n",
       "\n",
       "                                      query  \n",
       "8  Moon Phase calculatorOctober 1, 2021 19h  \n",
       "9  Moon Phase calculatorOctober 1, 2021 20h  "
      ]
     },
     "metadata": {},
     "output_type": "display_data"
    },
    {
     "name": "stderr",
     "output_type": "stream",
     "text": [
      "\r",
      "  0%|▏                                                                            | 21/7321 [06:31<29:27:32, 14.53s/it]"
     ]
    },
    {
     "name": "stdout",
     "output_type": "stream",
     "text": [
      "QUERY:  Precipitation amount in Zollikofen October 1, 2021 21h\n",
      "QUERY:  temperature in Zollikofen October 1, 2021 21h\n",
      "QUERY:  humidity in Zollikofen October 1, 2021 21h\n",
      "QUERY:  wind speed in Zollikofen October 1, 2021 21h\n",
      "QUERY:  Moon Phase calculatorOctober 1, 2021 21h\n"
     ]
    },
    {
     "name": "stderr",
     "output_type": "stream",
     "text": [
      "\r",
      "  0%|▏                                                                            | 22/7321 [06:44<28:58:54, 14.29s/it]"
     ]
    },
    {
     "name": "stdout",
     "output_type": "stream",
     "text": [
      "QUERY:  Precipitation amount in Zollikofen October 1, 2021 22h\n",
      "QUERY:  temperature in Zollikofen October 1, 2021 22h\n",
      "QUERY:  humidity in Zollikofen October 1, 2021 22h\n",
      "QUERY:  wind speed in Zollikofen October 1, 2021 22h\n",
      "QUERY:  Moon Phase calculatorOctober 1, 2021 22h\n"
     ]
    },
    {
     "name": "stderr",
     "output_type": "stream",
     "text": [
      "\r",
      "  0%|▏                                                                            | 23/7321 [06:58<28:25:47, 14.02s/it]"
     ]
    },
    {
     "name": "stdout",
     "output_type": "stream",
     "text": [
      "QUERY:  Precipitation amount in Zollikofen October 1, 2021 23h\n",
      "QUERY:  temperature in Zollikofen October 1, 2021 23h\n",
      "QUERY:  humidity in Zollikofen October 1, 2021 23h\n",
      "QUERY:  wind speed in Zollikofen October 1, 2021 23h\n",
      "QUERY:  Moon Phase calculatorOctober 1, 2021 23h\n"
     ]
    },
    {
     "name": "stderr",
     "output_type": "stream",
     "text": [
      "\r",
      "  0%|▎                                                                            | 24/7321 [07:13<29:17:48, 14.45s/it]"
     ]
    },
    {
     "name": "stdout",
     "output_type": "stream",
     "text": [
      "QUERY:  Precipitation amount in Zollikofen October 2, 2021 0h\n",
      "QUERY:  temperature in Zollikofen October 2, 2021 0h\n",
      "QUERY:  humidity in Zollikofen October 2, 2021 0h\n",
      "QUERY:  wind speed in Zollikofen October 2, 2021 0h\n",
      "QUERY:  Moon Phase calculatorOctober 2, 2021 0h\n"
     ]
    },
    {
     "name": "stderr",
     "output_type": "stream",
     "text": [
      "\r",
      "  0%|▎                                                                            | 25/7321 [07:27<28:42:49, 14.17s/it]"
     ]
    },
    {
     "name": "stdout",
     "output_type": "stream",
     "text": [
      "QUERY:  Precipitation amount in Zollikofen October 2, 2021 1h\n",
      "QUERY:  temperature in Zollikofen October 2, 2021 1h\n",
      "QUERY:  humidity in Zollikofen October 2, 2021 1h\n",
      "QUERY:  wind speed in Zollikofen October 2, 2021 1h\n",
      "QUERY:  Moon Phase calculatorOctober 2, 2021 1h\n"
     ]
    },
    {
     "name": "stderr",
     "output_type": "stream",
     "text": [
      "\r",
      "  0%|▎                                                                            | 26/7321 [07:41<28:24:45, 14.02s/it]"
     ]
    },
    {
     "name": "stdout",
     "output_type": "stream",
     "text": [
      "QUERY:  Precipitation amount in Zollikofen October 2, 2021 2h\n",
      "QUERY:  temperature in Zollikofen October 2, 2021 2h\n",
      "QUERY:  humidity in Zollikofen October 2, 2021 2h\n",
      "QUERY:  wind speed in Zollikofen October 2, 2021 2h\n",
      "QUERY:  Moon Phase calculatorOctober 2, 2021 2h\n"
     ]
    },
    {
     "name": "stderr",
     "output_type": "stream",
     "text": [
      "\r",
      "  0%|▎                                                                            | 27/7321 [07:54<28:01:41, 13.83s/it]"
     ]
    },
    {
     "name": "stdout",
     "output_type": "stream",
     "text": [
      "QUERY:  Precipitation amount in Zollikofen October 2, 2021 3h\n",
      "QUERY:  temperature in Zollikofen October 2, 2021 3h\n",
      "QUERY:  humidity in Zollikofen October 2, 2021 3h\n",
      "QUERY:  wind speed in Zollikofen October 2, 2021 3h\n",
      "QUERY:  Moon Phase calculatorOctober 2, 2021 3h\n"
     ]
    },
    {
     "name": "stderr",
     "output_type": "stream",
     "text": [
      "\r",
      "  0%|▎                                                                            | 28/7321 [08:08<28:09:35, 13.90s/it]"
     ]
    },
    {
     "name": "stdout",
     "output_type": "stream",
     "text": [
      "QUERY:  Precipitation amount in Zollikofen October 2, 2021 4h\n",
      "QUERY:  temperature in Zollikofen October 2, 2021 4h\n",
      "QUERY:  humidity in Zollikofen October 2, 2021 4h\n",
      "QUERY:  wind speed in Zollikofen October 2, 2021 4h\n",
      "QUERY:  Moon Phase calculatorOctober 2, 2021 4h\n"
     ]
    },
    {
     "name": "stderr",
     "output_type": "stream",
     "text": [
      "\r",
      "  0%|▎                                                                            | 29/7321 [08:22<28:27:32, 14.05s/it]"
     ]
    },
    {
     "name": "stdout",
     "output_type": "stream",
     "text": [
      "QUERY:  Precipitation amount in Zollikofen October 2, 2021 5h\n",
      "QUERY:  temperature in Zollikofen October 2, 2021 5h\n",
      "QUERY:  humidity in Zollikofen October 2, 2021 5h\n",
      "QUERY:  wind speed in Zollikofen October 2, 2021 5h\n",
      "QUERY:  Moon Phase calculatorOctober 2, 2021 5h\n"
     ]
    },
    {
     "name": "stderr",
     "output_type": "stream",
     "text": [
      "\r",
      "  0%|▎                                                                            | 30/7321 [08:36<28:12:05, 13.92s/it]"
     ]
    },
    {
     "name": "stdout",
     "output_type": "stream",
     "text": [
      "QUERY:  Precipitation amount in Zollikofen October 2, 2021 6h\n",
      "QUERY:  temperature in Zollikofen October 2, 2021 6h\n",
      "QUERY:  humidity in Zollikofen October 2, 2021 6h\n",
      "QUERY:  wind speed in Zollikofen October 2, 2021 6h\n",
      "QUERY:  Moon Phase calculatorOctober 2, 2021 6h\n",
      "(31, 7)\n"
     ]
    },
    {
     "data": {
      "text/html": [
       "<div>\n",
       "<style scoped>\n",
       "    .dataframe tbody tr th:only-of-type {\n",
       "        vertical-align: middle;\n",
       "    }\n",
       "\n",
       "    .dataframe tbody tr th {\n",
       "        vertical-align: top;\n",
       "    }\n",
       "\n",
       "    .dataframe thead th {\n",
       "        text-align: right;\n",
       "    }\n",
       "</style>\n",
       "<table border=\"1\" class=\"dataframe\">\n",
       "  <thead>\n",
       "    <tr style=\"text-align: right;\">\n",
       "      <th></th>\n",
       "      <th>date</th>\n",
       "      <th>temperature</th>\n",
       "      <th>humidity</th>\n",
       "      <th>wind speed</th>\n",
       "      <th>Precipitation amount</th>\n",
       "      <th>Moon Phase calculator</th>\n",
       "      <th>query</th>\n",
       "    </tr>\n",
       "  </thead>\n",
       "  <tbody>\n",
       "    <tr>\n",
       "      <th>8</th>\n",
       "      <td>2021-10-02 05:00:00</td>\n",
       "      <td>13 °C\\n(5:00 am CEST | Saturday, October 2, 2021)</td>\n",
       "      <td>average: 94% (94%)\\n(5:00 am CEST | Saturday, ...</td>\n",
       "      <td>1 m/s\\n(5:00 am CEST | Saturday, October 2, 2021)</td>\n",
       "      <td>no precipitation\\n(5:00 am CEST | Saturday, Oc...</td>\n",
       "      <td>| waning crescent moon\\n21.76% illuminated</td>\n",
       "      <td>Moon Phase calculatorOctober 2, 2021 5h</td>\n",
       "    </tr>\n",
       "    <tr>\n",
       "      <th>9</th>\n",
       "      <td>2021-10-02 06:00:00</td>\n",
       "      <td>12 °C\\n(6:00 am CEST | Saturday, October 2, 2021)</td>\n",
       "      <td>average: 94% (94%)\\n(6:00 am CEST | Saturday, ...</td>\n",
       "      <td>1 m/s\\n(6:00 am CEST | Saturday, October 2, 2021)</td>\n",
       "      <td>no precipitation\\n(6:00 am CEST | Saturday, Oc...</td>\n",
       "      <td>| waning crescent moon\\n21.41% illuminated</td>\n",
       "      <td>Moon Phase calculatorOctober 2, 2021 6h</td>\n",
       "    </tr>\n",
       "  </tbody>\n",
       "</table>\n",
       "</div>"
      ],
      "text/plain": [
       "                 date                                        temperature  \\\n",
       "8 2021-10-02 05:00:00  13 °C\\n(5:00 am CEST | Saturday, October 2, 2021)   \n",
       "9 2021-10-02 06:00:00  12 °C\\n(6:00 am CEST | Saturday, October 2, 2021)   \n",
       "\n",
       "                                            humidity  \\\n",
       "8  average: 94% (94%)\\n(5:00 am CEST | Saturday, ...   \n",
       "9  average: 94% (94%)\\n(6:00 am CEST | Saturday, ...   \n",
       "\n",
       "                                          wind speed  \\\n",
       "8  1 m/s\\n(5:00 am CEST | Saturday, October 2, 2021)   \n",
       "9  1 m/s\\n(6:00 am CEST | Saturday, October 2, 2021)   \n",
       "\n",
       "                                Precipitation amount  \\\n",
       "8  no precipitation\\n(5:00 am CEST | Saturday, Oc...   \n",
       "9  no precipitation\\n(6:00 am CEST | Saturday, Oc...   \n",
       "\n",
       "                        Moon Phase calculator  \\\n",
       "8  | waning crescent moon\\n21.76% illuminated   \n",
       "9  | waning crescent moon\\n21.41% illuminated   \n",
       "\n",
       "                                     query  \n",
       "8  Moon Phase calculatorOctober 2, 2021 5h  \n",
       "9  Moon Phase calculatorOctober 2, 2021 6h  "
      ]
     },
     "metadata": {},
     "output_type": "display_data"
    },
    {
     "name": "stderr",
     "output_type": "stream",
     "text": [
      "\r",
      "  0%|▎                                                                            | 31/7321 [08:51<29:02:50, 14.34s/it]"
     ]
    },
    {
     "name": "stdout",
     "output_type": "stream",
     "text": [
      "QUERY:  Precipitation amount in Zollikofen October 2, 2021 7h\n",
      "QUERY:  temperature in Zollikofen October 2, 2021 7h\n",
      "QUERY:  humidity in Zollikofen October 2, 2021 7h\n",
      "QUERY:  wind speed in Zollikofen October 2, 2021 7h\n",
      "QUERY:  Moon Phase calculatorOctober 2, 2021 7h\n"
     ]
    },
    {
     "name": "stderr",
     "output_type": "stream",
     "text": [
      "\r",
      "  0%|▎                                                                            | 32/7321 [09:05<28:40:25, 14.16s/it]"
     ]
    },
    {
     "name": "stdout",
     "output_type": "stream",
     "text": [
      "QUERY:  Precipitation amount in Zollikofen October 2, 2021 8h\n",
      "QUERY:  temperature in Zollikofen October 2, 2021 8h\n",
      "QUERY:  humidity in Zollikofen October 2, 2021 8h\n",
      "QUERY:  wind speed in Zollikofen October 2, 2021 8h\n",
      "QUERY:  Moon Phase calculatorOctober 2, 2021 8h\n"
     ]
    },
    {
     "name": "stderr",
     "output_type": "stream",
     "text": [
      "\r",
      "  0%|▎                                                                            | 33/7321 [09:18<28:08:56, 13.90s/it]"
     ]
    },
    {
     "name": "stdout",
     "output_type": "stream",
     "text": [
      "QUERY:  Precipitation amount in Zollikofen October 2, 2021 9h\n",
      "QUERY:  temperature in Zollikofen October 2, 2021 9h\n",
      "QUERY:  humidity in Zollikofen October 2, 2021 9h\n",
      "QUERY:  wind speed in Zollikofen October 2, 2021 9h\n",
      "QUERY:  Moon Phase calculatorOctober 2, 2021 9h\n"
     ]
    },
    {
     "name": "stderr",
     "output_type": "stream",
     "text": [
      "\r",
      "  0%|▎                                                                            | 34/7321 [09:32<27:51:30, 13.76s/it]"
     ]
    },
    {
     "name": "stdout",
     "output_type": "stream",
     "text": [
      "QUERY:  Precipitation amount in Zollikofen October 2, 2021 10h\n",
      "QUERY:  temperature in Zollikofen October 2, 2021 10h\n",
      "QUERY:  humidity in Zollikofen October 2, 2021 10h\n",
      "QUERY:  wind speed in Zollikofen October 2, 2021 10h\n",
      "QUERY:  Moon Phase calculatorOctober 2, 2021 10h\n"
     ]
    },
    {
     "name": "stderr",
     "output_type": "stream",
     "text": [
      "\r",
      "  0%|▎                                                                            | 35/7321 [09:46<28:19:25, 13.99s/it]"
     ]
    },
    {
     "name": "stdout",
     "output_type": "stream",
     "text": [
      "QUERY:  Precipitation amount in Zollikofen October 2, 2021 11h\n",
      "QUERY:  temperature in Zollikofen October 2, 2021 11h\n",
      "QUERY:  humidity in Zollikofen October 2, 2021 11h\n",
      "QUERY:  wind speed in Zollikofen October 2, 2021 11h\n",
      "QUERY:  Moon Phase calculatorOctober 2, 2021 11h\n"
     ]
    },
    {
     "name": "stderr",
     "output_type": "stream",
     "text": [
      "\r",
      "  0%|▍                                                                            | 36/7321 [10:00<28:13:11, 13.95s/it]"
     ]
    },
    {
     "name": "stdout",
     "output_type": "stream",
     "text": [
      "QUERY:  Precipitation amount in Zollikofen October 2, 2021 12h\n",
      "QUERY:  temperature in Zollikofen October 2, 2021 12h\n",
      "QUERY:  humidity in Zollikofen October 2, 2021 12h\n",
      "QUERY:  wind speed in Zollikofen October 2, 2021 12h\n",
      "QUERY:  Moon Phase calculatorOctober 2, 2021 12h\n"
     ]
    },
    {
     "name": "stderr",
     "output_type": "stream",
     "text": [
      "\r",
      "  1%|▍                                                                            | 37/7321 [10:21<32:28:25, 16.05s/it]"
     ]
    },
    {
     "name": "stdout",
     "output_type": "stream",
     "text": [
      "QUERY:  Precipitation amount in Zollikofen October 2, 2021 13h\n",
      "QUERY:  temperature in Zollikofen October 2, 2021 13h\n",
      "QUERY:  humidity in Zollikofen October 2, 2021 13h\n",
      "QUERY:  wind speed in Zollikofen October 2, 2021 13h\n",
      "QUERY:  Moon Phase calculatorOctober 2, 2021 13h\n"
     ]
    },
    {
     "name": "stderr",
     "output_type": "stream",
     "text": [
      "\r",
      "  1%|▍                                                                            | 38/7321 [10:44<36:50:12, 18.21s/it]"
     ]
    },
    {
     "name": "stdout",
     "output_type": "stream",
     "text": [
      "QUERY:  Precipitation amount in Zollikofen October 2, 2021 14h\n",
      "QUERY:  temperature in Zollikofen October 2, 2021 14h\n",
      "QUERY:  humidity in Zollikofen October 2, 2021 14h\n",
      "QUERY:  wind speed in Zollikofen October 2, 2021 14h\n",
      "QUERY:  Moon Phase calculatorOctober 2, 2021 14h\n"
     ]
    },
    {
     "name": "stderr",
     "output_type": "stream",
     "text": [
      "\r",
      "  1%|▍                                                                            | 39/7321 [11:05<38:05:21, 18.83s/it]"
     ]
    },
    {
     "name": "stdout",
     "output_type": "stream",
     "text": [
      "QUERY:  Precipitation amount in Zollikofen October 2, 2021 15h\n",
      "QUERY:  temperature in Zollikofen October 2, 2021 15h\n",
      "QUERY:  humidity in Zollikofen October 2, 2021 15h\n",
      "QUERY:  wind speed in Zollikofen October 2, 2021 15h\n",
      "QUERY:  Moon Phase calculatorOctober 2, 2021 15h\n"
     ]
    },
    {
     "name": "stderr",
     "output_type": "stream",
     "text": [
      "\r",
      "  1%|▍                                                                            | 40/7321 [11:27<40:10:29, 19.86s/it]"
     ]
    },
    {
     "name": "stdout",
     "output_type": "stream",
     "text": [
      "QUERY:  Precipitation amount in Zollikofen October 2, 2021 16h\n",
      "QUERY:  temperature in Zollikofen October 2, 2021 16h\n",
      "QUERY:  humidity in Zollikofen October 2, 2021 16h\n",
      "QUERY:  wind speed in Zollikofen October 2, 2021 16h\n",
      "QUERY:  Moon Phase calculatorOctober 2, 2021 16h\n",
      "(41, 7)\n"
     ]
    },
    {
     "data": {
      "text/html": [
       "<div>\n",
       "<style scoped>\n",
       "    .dataframe tbody tr th:only-of-type {\n",
       "        vertical-align: middle;\n",
       "    }\n",
       "\n",
       "    .dataframe tbody tr th {\n",
       "        vertical-align: top;\n",
       "    }\n",
       "\n",
       "    .dataframe thead th {\n",
       "        text-align: right;\n",
       "    }\n",
       "</style>\n",
       "<table border=\"1\" class=\"dataframe\">\n",
       "  <thead>\n",
       "    <tr style=\"text-align: right;\">\n",
       "      <th></th>\n",
       "      <th>date</th>\n",
       "      <th>temperature</th>\n",
       "      <th>humidity</th>\n",
       "      <th>wind speed</th>\n",
       "      <th>Precipitation amount</th>\n",
       "      <th>Moon Phase calculator</th>\n",
       "      <th>query</th>\n",
       "    </tr>\n",
       "  </thead>\n",
       "  <tbody>\n",
       "    <tr>\n",
       "      <th>8</th>\n",
       "      <td>2021-10-02 15:00:00</td>\n",
       "      <td>20 °C\\n(3:00 pm CEST | Saturday, October 2, 2021)</td>\n",
       "      <td>average: 62% (60 to 64%)\\n(3:00 pm CEST | Satu...</td>\n",
       "      <td>2 m/s\\n(3:00 pm CEST | Saturday, October 2, 2021)</td>\n",
       "      <td>no precipitation\\n(3:00 pm CEST | Saturday, Oc...</td>\n",
       "      <td>| waning crescent moon\\n18.30% illuminated</td>\n",
       "      <td>Moon Phase calculatorOctober 2, 2021 15h</td>\n",
       "    </tr>\n",
       "    <tr>\n",
       "      <th>9</th>\n",
       "      <td>2021-10-02 16:00:00</td>\n",
       "      <td>21 °C\\n(4:00 pm CEST | Saturday, October 2, 2021)</td>\n",
       "      <td>average: 57% (57%)\\n(4:00 pm CEST | Saturday, ...</td>\n",
       "      <td>2 m/s\\n(4:00 pm CEST | Saturday, October 2, 2021)</td>\n",
       "      <td>no precipitation\\n(4:00 pm CEST | Saturday, Oc...</td>\n",
       "      <td>| waning crescent moon\\n17.96% illuminated</td>\n",
       "      <td>Moon Phase calculatorOctober 2, 2021 16h</td>\n",
       "    </tr>\n",
       "  </tbody>\n",
       "</table>\n",
       "</div>"
      ],
      "text/plain": [
       "                 date                                        temperature  \\\n",
       "8 2021-10-02 15:00:00  20 °C\\n(3:00 pm CEST | Saturday, October 2, 2021)   \n",
       "9 2021-10-02 16:00:00  21 °C\\n(4:00 pm CEST | Saturday, October 2, 2021)   \n",
       "\n",
       "                                            humidity  \\\n",
       "8  average: 62% (60 to 64%)\\n(3:00 pm CEST | Satu...   \n",
       "9  average: 57% (57%)\\n(4:00 pm CEST | Saturday, ...   \n",
       "\n",
       "                                          wind speed  \\\n",
       "8  2 m/s\\n(3:00 pm CEST | Saturday, October 2, 2021)   \n",
       "9  2 m/s\\n(4:00 pm CEST | Saturday, October 2, 2021)   \n",
       "\n",
       "                                Precipitation amount  \\\n",
       "8  no precipitation\\n(3:00 pm CEST | Saturday, Oc...   \n",
       "9  no precipitation\\n(4:00 pm CEST | Saturday, Oc...   \n",
       "\n",
       "                        Moon Phase calculator  \\\n",
       "8  | waning crescent moon\\n18.30% illuminated   \n",
       "9  | waning crescent moon\\n17.96% illuminated   \n",
       "\n",
       "                                      query  \n",
       "8  Moon Phase calculatorOctober 2, 2021 15h  \n",
       "9  Moon Phase calculatorOctober 2, 2021 16h  "
      ]
     },
     "metadata": {},
     "output_type": "display_data"
    },
    {
     "name": "stderr",
     "output_type": "stream",
     "text": [
      "\r",
      "  1%|▍                                                                            | 41/7321 [11:47<40:25:47, 19.99s/it]"
     ]
    },
    {
     "name": "stdout",
     "output_type": "stream",
     "text": [
      "QUERY:  Precipitation amount in Zollikofen October 2, 2021 17h\n",
      "QUERY:  temperature in Zollikofen October 2, 2021 17h\n",
      "QUERY:  humidity in Zollikofen October 2, 2021 17h\n",
      "QUERY:  wind speed in Zollikofen October 2, 2021 17h\n",
      "QUERY:  Moon Phase calculatorOctober 2, 2021 17h\n"
     ]
    },
    {
     "name": "stderr",
     "output_type": "stream",
     "text": [
      "\r",
      "  1%|▍                                                                            | 42/7321 [12:07<40:32:25, 20.05s/it]"
     ]
    },
    {
     "name": "stdout",
     "output_type": "stream",
     "text": [
      "QUERY:  Precipitation amount in Zollikofen October 2, 2021 18h\n",
      "QUERY:  temperature in Zollikofen October 2, 2021 18h\n",
      "QUERY:  humidity in Zollikofen October 2, 2021 18h\n",
      "QUERY:  wind speed in Zollikofen October 2, 2021 18h\n",
      "QUERY:  Moon Phase calculatorOctober 2, 2021 18h\n"
     ]
    },
    {
     "name": "stderr",
     "output_type": "stream",
     "text": [
      "\r",
      "  1%|▍                                                                            | 43/7321 [12:31<42:45:18, 21.15s/it]"
     ]
    },
    {
     "name": "stdout",
     "output_type": "stream",
     "text": [
      "QUERY:  Precipitation amount in Zollikofen October 2, 2021 19h\n",
      "QUERY:  temperature in Zollikofen October 2, 2021 19h\n",
      "QUERY:  humidity in Zollikofen October 2, 2021 19h\n",
      "QUERY:  wind speed in Zollikofen October 2, 2021 19h\n",
      "QUERY:  Moon Phase calculatorOctober 2, 2021 19h\n"
     ]
    },
    {
     "name": "stderr",
     "output_type": "stream",
     "text": [
      "\r",
      "  1%|▍                                                                            | 44/7321 [12:51<42:07:35, 20.84s/it]"
     ]
    },
    {
     "name": "stdout",
     "output_type": "stream",
     "text": [
      "QUERY:  Precipitation amount in Zollikofen October 2, 2021 20h\n",
      "QUERY:  temperature in Zollikofen October 2, 2021 20h\n",
      "QUERY:  humidity in Zollikofen October 2, 2021 20h\n",
      "QUERY:  wind speed in Zollikofen October 2, 2021 20h\n",
      "QUERY:  Moon Phase calculatorOctober 2, 2021 20h\n"
     ]
    },
    {
     "name": "stderr",
     "output_type": "stream",
     "text": [
      "\r",
      "  1%|▍                                                                            | 45/7321 [13:12<42:09:42, 20.86s/it]"
     ]
    },
    {
     "name": "stdout",
     "output_type": "stream",
     "text": [
      "QUERY:  Precipitation amount in Zollikofen October 2, 2021 21h\n",
      "QUERY:  temperature in Zollikofen October 2, 2021 21h\n",
      "QUERY:  humidity in Zollikofen October 2, 2021 21h\n",
      "QUERY:  wind speed in Zollikofen October 2, 2021 21h\n",
      "QUERY:  Moon Phase calculatorOctober 2, 2021 21h\n"
     ]
    },
    {
     "name": "stderr",
     "output_type": "stream",
     "text": [
      "\r",
      "  1%|▍                                                                            | 46/7321 [13:33<42:18:46, 20.94s/it]"
     ]
    },
    {
     "name": "stdout",
     "output_type": "stream",
     "text": [
      "QUERY:  Precipitation amount in Zollikofen October 2, 2021 22h\n",
      "QUERY:  temperature in Zollikofen October 2, 2021 22h\n",
      "QUERY:  humidity in Zollikofen October 2, 2021 22h\n",
      "QUERY:  wind speed in Zollikofen October 2, 2021 22h\n",
      "QUERY:  Moon Phase calculatorOctober 2, 2021 22h\n"
     ]
    },
    {
     "name": "stderr",
     "output_type": "stream",
     "text": [
      "\r",
      "  1%|▍                                                                            | 47/7321 [13:54<42:21:29, 20.96s/it]"
     ]
    },
    {
     "name": "stdout",
     "output_type": "stream",
     "text": [
      "QUERY:  Precipitation amount in Zollikofen October 2, 2021 23h\n",
      "QUERY:  temperature in Zollikofen October 2, 2021 23h\n",
      "QUERY:  humidity in Zollikofen October 2, 2021 23h\n",
      "QUERY:  wind speed in Zollikofen October 2, 2021 23h\n",
      "QUERY:  Moon Phase calculatorOctober 2, 2021 23h\n"
     ]
    },
    {
     "name": "stderr",
     "output_type": "stream",
     "text": [
      "\r",
      "  1%|▌                                                                            | 48/7321 [14:15<42:05:59, 20.84s/it]"
     ]
    },
    {
     "name": "stdout",
     "output_type": "stream",
     "text": [
      "QUERY:  Precipitation amount in Zollikofen October 3, 2021 0h\n",
      "QUERY:  temperature in Zollikofen October 3, 2021 0h\n",
      "QUERY:  humidity in Zollikofen October 3, 2021 0h\n",
      "QUERY:  wind speed in Zollikofen October 3, 2021 0h\n",
      "QUERY:  Moon Phase calculatorOctober 3, 2021 0h\n"
     ]
    },
    {
     "name": "stderr",
     "output_type": "stream",
     "text": [
      "\r",
      "  1%|▌                                                                            | 49/7321 [14:37<42:48:43, 21.19s/it]"
     ]
    },
    {
     "name": "stdout",
     "output_type": "stream",
     "text": [
      "QUERY:  Precipitation amount in Zollikofen October 3, 2021 1h\n",
      "QUERY:  temperature in Zollikofen October 3, 2021 1h\n",
      "QUERY:  humidity in Zollikofen October 3, 2021 1h\n",
      "QUERY:  wind speed in Zollikofen October 3, 2021 1h\n",
      "QUERY:  Moon Phase calculatorOctober 3, 2021 1h\n"
     ]
    },
    {
     "name": "stderr",
     "output_type": "stream",
     "text": [
      "\r",
      "  1%|▌                                                                            | 50/7321 [14:57<42:24:53, 21.00s/it]"
     ]
    },
    {
     "name": "stdout",
     "output_type": "stream",
     "text": [
      "QUERY:  Precipitation amount in Zollikofen October 3, 2021 2h\n",
      "QUERY:  temperature in Zollikofen October 3, 2021 2h\n",
      "QUERY:  humidity in Zollikofen October 3, 2021 2h\n",
      "QUERY:  wind speed in Zollikofen October 3, 2021 2h\n",
      "QUERY:  Moon Phase calculatorOctober 3, 2021 2h\n",
      "(51, 7)\n"
     ]
    },
    {
     "data": {
      "text/html": [
       "<div>\n",
       "<style scoped>\n",
       "    .dataframe tbody tr th:only-of-type {\n",
       "        vertical-align: middle;\n",
       "    }\n",
       "\n",
       "    .dataframe tbody tr th {\n",
       "        vertical-align: top;\n",
       "    }\n",
       "\n",
       "    .dataframe thead th {\n",
       "        text-align: right;\n",
       "    }\n",
       "</style>\n",
       "<table border=\"1\" class=\"dataframe\">\n",
       "  <thead>\n",
       "    <tr style=\"text-align: right;\">\n",
       "      <th></th>\n",
       "      <th>date</th>\n",
       "      <th>temperature</th>\n",
       "      <th>humidity</th>\n",
       "      <th>wind speed</th>\n",
       "      <th>Precipitation amount</th>\n",
       "      <th>Moon Phase calculator</th>\n",
       "      <th>query</th>\n",
       "    </tr>\n",
       "  </thead>\n",
       "  <tbody>\n",
       "    <tr>\n",
       "      <th>8</th>\n",
       "      <td>2021-10-03 01:00:00</td>\n",
       "      <td>13 °C\\n(1:00 am CEST | Sunday, October 3, 2021)</td>\n",
       "      <td>average: 97% (94 to 100%)\\n(1:00 am CEST | Sun...</td>\n",
       "      <td>1 m/s\\n(1:00 am CEST | Sunday, October 3, 2021)</td>\n",
       "      <td>no precipitation\\n(1:00 am CEST | Sunday, Octo...</td>\n",
       "      <td>| waning crescent moon\\n15.03% illuminated</td>\n",
       "      <td>Moon Phase calculatorOctober 3, 2021 1h</td>\n",
       "    </tr>\n",
       "    <tr>\n",
       "      <th>9</th>\n",
       "      <td>2021-10-03 02:00:00</td>\n",
       "      <td>12 °C\\n(2:00 am CEST | Sunday, October 3, 2021)</td>\n",
       "      <td>average: 100% (100%)\\n(2:00 am CEST | Sunday, ...</td>\n",
       "      <td>1 m/s\\n(2:00 am CEST | Sunday, October 3, 2021)</td>\n",
       "      <td>no precipitation\\n(2:00 am CEST | Sunday, Octo...</td>\n",
       "      <td>| waning crescent moon\\n14.72% illuminated</td>\n",
       "      <td>Moon Phase calculatorOctober 3, 2021 2h</td>\n",
       "    </tr>\n",
       "  </tbody>\n",
       "</table>\n",
       "</div>"
      ],
      "text/plain": [
       "                 date                                      temperature  \\\n",
       "8 2021-10-03 01:00:00  13 °C\\n(1:00 am CEST | Sunday, October 3, 2021)   \n",
       "9 2021-10-03 02:00:00  12 °C\\n(2:00 am CEST | Sunday, October 3, 2021)   \n",
       "\n",
       "                                            humidity  \\\n",
       "8  average: 97% (94 to 100%)\\n(1:00 am CEST | Sun...   \n",
       "9  average: 100% (100%)\\n(2:00 am CEST | Sunday, ...   \n",
       "\n",
       "                                        wind speed  \\\n",
       "8  1 m/s\\n(1:00 am CEST | Sunday, October 3, 2021)   \n",
       "9  1 m/s\\n(2:00 am CEST | Sunday, October 3, 2021)   \n",
       "\n",
       "                                Precipitation amount  \\\n",
       "8  no precipitation\\n(1:00 am CEST | Sunday, Octo...   \n",
       "9  no precipitation\\n(2:00 am CEST | Sunday, Octo...   \n",
       "\n",
       "                        Moon Phase calculator  \\\n",
       "8  | waning crescent moon\\n15.03% illuminated   \n",
       "9  | waning crescent moon\\n14.72% illuminated   \n",
       "\n",
       "                                     query  \n",
       "8  Moon Phase calculatorOctober 3, 2021 1h  \n",
       "9  Moon Phase calculatorOctober 3, 2021 2h  "
      ]
     },
     "metadata": {},
     "output_type": "display_data"
    },
    {
     "name": "stderr",
     "output_type": "stream",
     "text": [
      "\r",
      "  1%|▌                                                                            | 51/7321 [15:14<39:27:24, 19.54s/it]"
     ]
    },
    {
     "name": "stdout",
     "output_type": "stream",
     "text": [
      "QUERY:  Precipitation amount in Zollikofen October 3, 2021 3h\n",
      "QUERY:  temperature in Zollikofen October 3, 2021 3h\n",
      "QUERY:  humidity in Zollikofen October 3, 2021 3h\n",
      "QUERY:  wind speed in Zollikofen October 3, 2021 3h\n",
      "QUERY:  Moon Phase calculatorOctober 3, 2021 3h\n"
     ]
    },
    {
     "name": "stderr",
     "output_type": "stream",
     "text": [
      "\r",
      "  1%|▌                                                                            | 52/7321 [15:34<39:49:38, 19.72s/it]"
     ]
    },
    {
     "name": "stdout",
     "output_type": "stream",
     "text": [
      "QUERY:  Precipitation amount in Zollikofen October 3, 2021 4h\n",
      "QUERY:  temperature in Zollikofen October 3, 2021 4h\n",
      "QUERY:  humidity in Zollikofen October 3, 2021 4h\n",
      "QUERY:  wind speed in Zollikofen October 3, 2021 4h\n",
      "QUERY:  Moon Phase calculatorOctober 3, 2021 4h\n"
     ]
    },
    {
     "name": "stderr",
     "output_type": "stream",
     "text": [
      "\r",
      "  1%|▌                                                                            | 53/7321 [15:56<41:37:03, 20.61s/it]"
     ]
    },
    {
     "name": "stdout",
     "output_type": "stream",
     "text": [
      "QUERY:  Precipitation amount in Zollikofen October 3, 2021 5h\n",
      "QUERY:  temperature in Zollikofen October 3, 2021 5h\n",
      "QUERY:  humidity in Zollikofen October 3, 2021 5h\n",
      "QUERY:  wind speed in Zollikofen October 3, 2021 5h\n",
      "QUERY:  Moon Phase calculatorOctober 3, 2021 5h\n"
     ]
    },
    {
     "name": "stderr",
     "output_type": "stream",
     "text": [
      "\r",
      "  1%|▌                                                                            | 54/7321 [16:17<41:30:08, 20.56s/it]"
     ]
    },
    {
     "name": "stdout",
     "output_type": "stream",
     "text": [
      "QUERY:  Precipitation amount in Zollikofen October 3, 2021 6h\n",
      "QUERY:  temperature in Zollikofen October 3, 2021 6h\n",
      "QUERY:  humidity in Zollikofen October 3, 2021 6h\n",
      "QUERY:  wind speed in Zollikofen October 3, 2021 6h\n",
      "QUERY:  Moon Phase calculatorOctober 3, 2021 6h\n"
     ]
    },
    {
     "name": "stderr",
     "output_type": "stream",
     "text": [
      "\r",
      "  1%|▌                                                                            | 55/7321 [16:37<41:23:44, 20.51s/it]"
     ]
    },
    {
     "name": "stdout",
     "output_type": "stream",
     "text": [
      "QUERY:  Precipitation amount in Zollikofen October 3, 2021 7h\n",
      "QUERY:  temperature in Zollikofen October 3, 2021 7h\n",
      "QUERY:  humidity in Zollikofen October 3, 2021 7h\n",
      "QUERY:  wind speed in Zollikofen October 3, 2021 7h\n",
      "QUERY:  Moon Phase calculatorOctober 3, 2021 7h\n"
     ]
    },
    {
     "name": "stderr",
     "output_type": "stream",
     "text": [
      "\r",
      "  1%|▌                                                                            | 56/7321 [16:59<42:10:09, 20.90s/it]"
     ]
    },
    {
     "name": "stdout",
     "output_type": "stream",
     "text": [
      "QUERY:  Precipitation amount in Zollikofen October 3, 2021 8h\n",
      "QUERY:  temperature in Zollikofen October 3, 2021 8h\n",
      "QUERY:  humidity in Zollikofen October 3, 2021 8h\n",
      "QUERY:  wind speed in Zollikofen October 3, 2021 8h\n",
      "QUERY:  Moon Phase calculatorOctober 3, 2021 8h\n"
     ]
    },
    {
     "name": "stderr",
     "output_type": "stream",
     "text": [
      "\r",
      "  1%|▌                                                                            | 57/7321 [17:20<42:14:37, 20.94s/it]"
     ]
    },
    {
     "name": "stdout",
     "output_type": "stream",
     "text": [
      "QUERY:  Precipitation amount in Zollikofen October 3, 2021 9h\n",
      "QUERY:  temperature in Zollikofen October 3, 2021 9h\n",
      "QUERY:  humidity in Zollikofen October 3, 2021 9h\n",
      "QUERY:  wind speed in Zollikofen October 3, 2021 9h\n",
      "QUERY:  Moon Phase calculatorOctober 3, 2021 9h\n"
     ]
    },
    {
     "name": "stderr",
     "output_type": "stream",
     "text": [
      "\r",
      "  1%|▌                                                                            | 58/7321 [17:41<42:11:29, 20.91s/it]"
     ]
    },
    {
     "name": "stdout",
     "output_type": "stream",
     "text": [
      "QUERY:  Precipitation amount in Zollikofen October 3, 2021 10h\n",
      "QUERY:  temperature in Zollikofen October 3, 2021 10h\n",
      "QUERY:  humidity in Zollikofen October 3, 2021 10h\n",
      "QUERY:  wind speed in Zollikofen October 3, 2021 10h\n",
      "QUERY:  Moon Phase calculatorOctober 3, 2021 10h\n"
     ]
    },
    {
     "name": "stderr",
     "output_type": "stream",
     "text": [
      "\r",
      "  1%|▌                                                                            | 59/7321 [18:04<43:20:34, 21.49s/it]"
     ]
    },
    {
     "name": "stdout",
     "output_type": "stream",
     "text": [
      "QUERY:  Precipitation amount in Zollikofen October 3, 2021 11h\n",
      "QUERY:  temperature in Zollikofen October 3, 2021 11h\n",
      "QUERY:  humidity in Zollikofen October 3, 2021 11h\n",
      "QUERY:  wind speed in Zollikofen October 3, 2021 11h\n",
      "QUERY:  Moon Phase calculatorOctober 3, 2021 11h\n"
     ]
    },
    {
     "name": "stderr",
     "output_type": "stream",
     "text": [
      "\r",
      "  1%|▋                                                                            | 60/7321 [18:24<42:27:21, 21.05s/it]"
     ]
    },
    {
     "name": "stdout",
     "output_type": "stream",
     "text": [
      "QUERY:  Precipitation amount in Zollikofen October 3, 2021 12h\n",
      "QUERY:  temperature in Zollikofen October 3, 2021 12h\n",
      "QUERY:  humidity in Zollikofen October 3, 2021 12h\n",
      "QUERY:  wind speed in Zollikofen October 3, 2021 12h\n",
      "QUERY:  Moon Phase calculatorOctober 3, 2021 12h\n",
      "(61, 7)\n"
     ]
    },
    {
     "data": {
      "text/html": [
       "<div>\n",
       "<style scoped>\n",
       "    .dataframe tbody tr th:only-of-type {\n",
       "        vertical-align: middle;\n",
       "    }\n",
       "\n",
       "    .dataframe tbody tr th {\n",
       "        vertical-align: top;\n",
       "    }\n",
       "\n",
       "    .dataframe thead th {\n",
       "        text-align: right;\n",
       "    }\n",
       "</style>\n",
       "<table border=\"1\" class=\"dataframe\">\n",
       "  <thead>\n",
       "    <tr style=\"text-align: right;\">\n",
       "      <th></th>\n",
       "      <th>date</th>\n",
       "      <th>temperature</th>\n",
       "      <th>humidity</th>\n",
       "      <th>wind speed</th>\n",
       "      <th>Precipitation amount</th>\n",
       "      <th>Moon Phase calculator</th>\n",
       "      <th>query</th>\n",
       "    </tr>\n",
       "  </thead>\n",
       "  <tbody>\n",
       "    <tr>\n",
       "      <th>8</th>\n",
       "      <td>2021-10-03 11:00:00</td>\n",
       "      <td>16 °C\\n(11:00 am CEST | Sunday, October 3, 2021)</td>\n",
       "      <td>average: 77% (72 to 82%)\\n(11:00 am CEST | Sun...</td>\n",
       "      <td>1 m/s\\n(11:00 am CEST | Sunday, October 3, 2021)</td>\n",
       "      <td>no precipitation\\n(11:00 am CEST | Sunday, Oct...</td>\n",
       "      <td>| waning crescent moon\\n11.99% illuminated</td>\n",
       "      <td>Moon Phase calculatorOctober 3, 2021 11h</td>\n",
       "    </tr>\n",
       "    <tr>\n",
       "      <th>9</th>\n",
       "      <td>2021-10-03 12:00:00</td>\n",
       "      <td>17 °C\\n(12:00 pm CEST | Sunday, October 3, 2021)</td>\n",
       "      <td>average: 73% (73%)\\n(12:00 pm CEST | Sunday, O...</td>\n",
       "      <td>1 m/s\\n(12:00 pm CEST | Sunday, October 3, 2021)</td>\n",
       "      <td>no precipitation\\n(12:00 pm CEST | Sunday, Oct...</td>\n",
       "      <td>| waning crescent moon\\n11.71% illuminated</td>\n",
       "      <td>Moon Phase calculatorOctober 3, 2021 12h</td>\n",
       "    </tr>\n",
       "  </tbody>\n",
       "</table>\n",
       "</div>"
      ],
      "text/plain": [
       "                 date                                       temperature  \\\n",
       "8 2021-10-03 11:00:00  16 °C\\n(11:00 am CEST | Sunday, October 3, 2021)   \n",
       "9 2021-10-03 12:00:00  17 °C\\n(12:00 pm CEST | Sunday, October 3, 2021)   \n",
       "\n",
       "                                            humidity  \\\n",
       "8  average: 77% (72 to 82%)\\n(11:00 am CEST | Sun...   \n",
       "9  average: 73% (73%)\\n(12:00 pm CEST | Sunday, O...   \n",
       "\n",
       "                                         wind speed  \\\n",
       "8  1 m/s\\n(11:00 am CEST | Sunday, October 3, 2021)   \n",
       "9  1 m/s\\n(12:00 pm CEST | Sunday, October 3, 2021)   \n",
       "\n",
       "                                Precipitation amount  \\\n",
       "8  no precipitation\\n(11:00 am CEST | Sunday, Oct...   \n",
       "9  no precipitation\\n(12:00 pm CEST | Sunday, Oct...   \n",
       "\n",
       "                        Moon Phase calculator  \\\n",
       "8  | waning crescent moon\\n11.99% illuminated   \n",
       "9  | waning crescent moon\\n11.71% illuminated   \n",
       "\n",
       "                                      query  \n",
       "8  Moon Phase calculatorOctober 3, 2021 11h  \n",
       "9  Moon Phase calculatorOctober 3, 2021 12h  "
      ]
     },
     "metadata": {},
     "output_type": "display_data"
    },
    {
     "name": "stderr",
     "output_type": "stream",
     "text": [
      "\r",
      "  1%|▋                                                                            | 61/7321 [18:46<42:55:06, 21.28s/it]"
     ]
    },
    {
     "name": "stdout",
     "output_type": "stream",
     "text": [
      "QUERY:  Precipitation amount in Zollikofen October 3, 2021 13h\n",
      "QUERY:  temperature in Zollikofen October 3, 2021 13h\n",
      "QUERY:  humidity in Zollikofen October 3, 2021 13h\n",
      "QUERY:  wind speed in Zollikofen October 3, 2021 13h\n",
      "QUERY:  Moon Phase calculatorOctober 3, 2021 13h\n"
     ]
    },
    {
     "name": "stderr",
     "output_type": "stream",
     "text": [
      "\r",
      "  1%|▋                                                                            | 62/7321 [19:06<42:11:39, 20.93s/it]"
     ]
    },
    {
     "name": "stdout",
     "output_type": "stream",
     "text": [
      "QUERY:  Precipitation amount in Zollikofen October 3, 2021 14h\n",
      "QUERY:  temperature in Zollikofen October 3, 2021 14h\n",
      "QUERY:  humidity in Zollikofen October 3, 2021 14h\n",
      "QUERY:  wind speed in Zollikofen October 3, 2021 14h\n",
      "QUERY:  Moon Phase calculatorOctober 3, 2021 14h\n"
     ]
    },
    {
     "name": "stderr",
     "output_type": "stream",
     "text": [
      "\r",
      "  1%|▋                                                                            | 63/7321 [19:26<41:56:50, 20.81s/it]"
     ]
    },
    {
     "name": "stdout",
     "output_type": "stream",
     "text": [
      "QUERY:  Precipitation amount in Zollikofen October 3, 2021 15h\n",
      "QUERY:  temperature in Zollikofen October 3, 2021 15h\n",
      "QUERY:  humidity in Zollikofen October 3, 2021 15h\n",
      "QUERY:  wind speed in Zollikofen October 3, 2021 15h\n",
      "QUERY:  Moon Phase calculatorOctober 3, 2021 15h\n"
     ]
    },
    {
     "name": "stderr",
     "output_type": "stream",
     "text": [
      "\r",
      "  1%|▋                                                                            | 64/7321 [19:47<42:09:55, 20.92s/it]"
     ]
    },
    {
     "name": "stdout",
     "output_type": "stream",
     "text": [
      "QUERY:  Precipitation amount in Zollikofen October 3, 2021 16h\n",
      "QUERY:  temperature in Zollikofen October 3, 2021 16h\n",
      "QUERY:  humidity in Zollikofen October 3, 2021 16h\n",
      "QUERY:  wind speed in Zollikofen October 3, 2021 16h\n",
      "QUERY:  Moon Phase calculatorOctober 3, 2021 16h\n"
     ]
    },
    {
     "name": "stderr",
     "output_type": "stream",
     "text": [
      "\r",
      "  1%|▋                                                                            | 65/7321 [20:08<41:43:22, 20.70s/it]"
     ]
    },
    {
     "name": "stdout",
     "output_type": "stream",
     "text": [
      "QUERY:  Precipitation amount in Zollikofen October 3, 2021 17h\n",
      "QUERY:  temperature in Zollikofen October 3, 2021 17h\n",
      "QUERY:  humidity in Zollikofen October 3, 2021 17h\n",
      "QUERY:  wind speed in Zollikofen October 3, 2021 17h\n",
      "QUERY:  Moon Phase calculatorOctober 3, 2021 17h\n"
     ]
    },
    {
     "name": "stderr",
     "output_type": "stream",
     "text": [
      "\r",
      "  1%|▋                                                                            | 66/7321 [20:28<41:37:41, 20.66s/it]"
     ]
    },
    {
     "name": "stdout",
     "output_type": "stream",
     "text": [
      "QUERY:  Precipitation amount in Zollikofen October 3, 2021 18h\n",
      "QUERY:  temperature in Zollikofen October 3, 2021 18h\n",
      "QUERY:  humidity in Zollikofen October 3, 2021 18h\n",
      "QUERY:  wind speed in Zollikofen October 3, 2021 18h\n",
      "QUERY:  Moon Phase calculatorOctober 3, 2021 18h\n"
     ]
    },
    {
     "name": "stderr",
     "output_type": "stream",
     "text": [
      "\r",
      "  1%|▋                                                                            | 67/7321 [20:48<41:03:57, 20.38s/it]"
     ]
    },
    {
     "name": "stdout",
     "output_type": "stream",
     "text": [
      "QUERY:  Precipitation amount in Zollikofen October 3, 2021 19h\n",
      "QUERY:  temperature in Zollikofen October 3, 2021 19h\n",
      "QUERY:  humidity in Zollikofen October 3, 2021 19h\n",
      "QUERY:  wind speed in Zollikofen October 3, 2021 19h\n",
      "QUERY:  Moon Phase calculatorOctober 3, 2021 19h\n"
     ]
    },
    {
     "name": "stderr",
     "output_type": "stream",
     "text": [
      "\r",
      "  1%|▋                                                                            | 68/7321 [21:09<41:31:04, 20.61s/it]"
     ]
    },
    {
     "name": "stdout",
     "output_type": "stream",
     "text": [
      "QUERY:  Precipitation amount in Zollikofen October 3, 2021 20h\n",
      "QUERY:  temperature in Zollikofen October 3, 2021 20h\n",
      "QUERY:  humidity in Zollikofen October 3, 2021 20h\n",
      "QUERY:  wind speed in Zollikofen October 3, 2021 20h\n",
      "QUERY:  Moon Phase calculatorOctober 3, 2021 20h\n"
     ]
    },
    {
     "name": "stderr",
     "output_type": "stream",
     "text": [
      "\r",
      "  1%|▋                                                                            | 69/7321 [21:29<41:04:19, 20.39s/it]"
     ]
    },
    {
     "name": "stdout",
     "output_type": "stream",
     "text": [
      "QUERY:  Precipitation amount in Zollikofen October 3, 2021 21h\n",
      "QUERY:  temperature in Zollikofen October 3, 2021 21h\n",
      "QUERY:  humidity in Zollikofen October 3, 2021 21h\n",
      "QUERY:  wind speed in Zollikofen October 3, 2021 21h\n",
      "QUERY:  Moon Phase calculatorOctober 3, 2021 21h\n"
     ]
    },
    {
     "name": "stderr",
     "output_type": "stream",
     "text": [
      "\r",
      "  1%|▋                                                                            | 70/7321 [21:51<42:20:16, 21.02s/it]"
     ]
    },
    {
     "name": "stdout",
     "output_type": "stream",
     "text": [
      "QUERY:  Precipitation amount in Zollikofen October 3, 2021 22h\n",
      "QUERY:  temperature in Zollikofen October 3, 2021 22h\n",
      "QUERY:  humidity in Zollikofen October 3, 2021 22h\n",
      "QUERY:  wind speed in Zollikofen October 3, 2021 22h\n",
      "QUERY:  Moon Phase calculatorOctober 3, 2021 22h\n",
      "(71, 7)\n"
     ]
    },
    {
     "data": {
      "text/html": [
       "<div>\n",
       "<style scoped>\n",
       "    .dataframe tbody tr th:only-of-type {\n",
       "        vertical-align: middle;\n",
       "    }\n",
       "\n",
       "    .dataframe tbody tr th {\n",
       "        vertical-align: top;\n",
       "    }\n",
       "\n",
       "    .dataframe thead th {\n",
       "        text-align: right;\n",
       "    }\n",
       "</style>\n",
       "<table border=\"1\" class=\"dataframe\">\n",
       "  <thead>\n",
       "    <tr style=\"text-align: right;\">\n",
       "      <th></th>\n",
       "      <th>date</th>\n",
       "      <th>temperature</th>\n",
       "      <th>humidity</th>\n",
       "      <th>wind speed</th>\n",
       "      <th>Precipitation amount</th>\n",
       "      <th>Moon Phase calculator</th>\n",
       "      <th>query</th>\n",
       "    </tr>\n",
       "  </thead>\n",
       "  <tbody>\n",
       "    <tr>\n",
       "      <th>8</th>\n",
       "      <td>2021-10-03 21:00:00</td>\n",
       "      <td>13 °C\\n(9:00 pm CEST | Sunday, October 3, 2021)</td>\n",
       "      <td>average: 91% (88 to 94%)\\n(9:00 pm CEST | Sund...</td>\n",
       "      <td>1 m/s\\n(9:00 pm CEST | Sunday, October 3, 2021)</td>\n",
       "      <td>rain\\n(9:00 pm CEST | Sunday, October 3, 2021)</td>\n",
       "      <td>| waning crescent moon\\n9.22% illuminated</td>\n",
       "      <td>Moon Phase calculatorOctober 3, 2021 21h</td>\n",
       "    </tr>\n",
       "    <tr>\n",
       "      <th>9</th>\n",
       "      <td>2021-10-03 22:00:00</td>\n",
       "      <td>13 °C\\n(10:00 pm CEST | Sunday, October 3, 2021)</td>\n",
       "      <td>average: 94% (94%)\\n(10:00 pm CEST | Sunday, O...</td>\n",
       "      <td>1 m/s\\n(10:00 pm CEST | Sunday, October 3, 2021)</td>\n",
       "      <td>rain\\n(10:00 pm CEST | Sunday, October 3, 2021)</td>\n",
       "      <td>| waning crescent moon\\n8.96% illuminated</td>\n",
       "      <td>Moon Phase calculatorOctober 3, 2021 22h</td>\n",
       "    </tr>\n",
       "  </tbody>\n",
       "</table>\n",
       "</div>"
      ],
      "text/plain": [
       "                 date                                       temperature  \\\n",
       "8 2021-10-03 21:00:00   13 °C\\n(9:00 pm CEST | Sunday, October 3, 2021)   \n",
       "9 2021-10-03 22:00:00  13 °C\\n(10:00 pm CEST | Sunday, October 3, 2021)   \n",
       "\n",
       "                                            humidity  \\\n",
       "8  average: 91% (88 to 94%)\\n(9:00 pm CEST | Sund...   \n",
       "9  average: 94% (94%)\\n(10:00 pm CEST | Sunday, O...   \n",
       "\n",
       "                                         wind speed  \\\n",
       "8   1 m/s\\n(9:00 pm CEST | Sunday, October 3, 2021)   \n",
       "9  1 m/s\\n(10:00 pm CEST | Sunday, October 3, 2021)   \n",
       "\n",
       "                              Precipitation amount  \\\n",
       "8   rain\\n(9:00 pm CEST | Sunday, October 3, 2021)   \n",
       "9  rain\\n(10:00 pm CEST | Sunday, October 3, 2021)   \n",
       "\n",
       "                       Moon Phase calculator  \\\n",
       "8  | waning crescent moon\\n9.22% illuminated   \n",
       "9  | waning crescent moon\\n8.96% illuminated   \n",
       "\n",
       "                                      query  \n",
       "8  Moon Phase calculatorOctober 3, 2021 21h  \n",
       "9  Moon Phase calculatorOctober 3, 2021 22h  "
      ]
     },
     "metadata": {},
     "output_type": "display_data"
    },
    {
     "name": "stderr",
     "output_type": "stream",
     "text": [
      "\r",
      "  1%|▋                                                                            | 71/7321 [22:11<41:35:44, 20.65s/it]"
     ]
    },
    {
     "name": "stdout",
     "output_type": "stream",
     "text": [
      "QUERY:  Precipitation amount in Zollikofen October 3, 2021 23h\n",
      "QUERY:  temperature in Zollikofen October 3, 2021 23h\n",
      "QUERY:  humidity in Zollikofen October 3, 2021 23h\n",
      "QUERY:  wind speed in Zollikofen October 3, 2021 23h\n",
      "QUERY:  Moon Phase calculatorOctober 3, 2021 23h\n"
     ]
    },
    {
     "name": "stderr",
     "output_type": "stream",
     "text": [
      "\r",
      "  1%|▊                                                                            | 72/7321 [22:31<41:11:36, 20.46s/it]"
     ]
    },
    {
     "name": "stdout",
     "output_type": "stream",
     "text": [
      "QUERY:  Precipitation amount in Zollikofen October 4, 2021 0h\n",
      "QUERY:  temperature in Zollikofen October 4, 2021 0h\n",
      "QUERY:  humidity in Zollikofen October 4, 2021 0h\n",
      "QUERY:  wind speed in Zollikofen October 4, 2021 0h\n",
      "QUERY:  Moon Phase calculatorOctober 4, 2021 0h\n"
     ]
    },
    {
     "name": "stderr",
     "output_type": "stream",
     "text": [
      "\r",
      "  1%|▊                                                                            | 73/7321 [22:52<41:08:51, 20.44s/it]"
     ]
    },
    {
     "name": "stdout",
     "output_type": "stream",
     "text": [
      "QUERY:  Precipitation amount in Zollikofen October 4, 2021 1h\n",
      "QUERY:  temperature in Zollikofen October 4, 2021 1h\n",
      "QUERY:  humidity in Zollikofen October 4, 2021 1h\n",
      "QUERY:  wind speed in Zollikofen October 4, 2021 1h\n",
      "QUERY:  Moon Phase calculatorOctober 4, 2021 1h\n"
     ]
    },
    {
     "name": "stderr",
     "output_type": "stream",
     "text": [
      "\r",
      "  1%|▊                                                                            | 74/7321 [23:12<40:53:25, 20.31s/it]"
     ]
    },
    {
     "name": "stdout",
     "output_type": "stream",
     "text": [
      "QUERY:  Precipitation amount in Zollikofen October 4, 2021 2h\n",
      "QUERY:  temperature in Zollikofen October 4, 2021 2h\n",
      "QUERY:  humidity in Zollikofen October 4, 2021 2h\n",
      "QUERY:  wind speed in Zollikofen October 4, 2021 2h\n",
      "QUERY:  Moon Phase calculatorOctober 4, 2021 2h\n"
     ]
    },
    {
     "name": "stderr",
     "output_type": "stream",
     "text": [
      "\r",
      "  1%|▊                                                                            | 75/7321 [23:32<40:40:38, 20.21s/it]"
     ]
    },
    {
     "name": "stdout",
     "output_type": "stream",
     "text": [
      "QUERY:  Precipitation amount in Zollikofen October 4, 2021 3h\n",
      "QUERY:  temperature in Zollikofen October 4, 2021 3h\n",
      "QUERY:  humidity in Zollikofen October 4, 2021 3h\n",
      "QUERY:  wind speed in Zollikofen October 4, 2021 3h\n",
      "QUERY:  Moon Phase calculatorOctober 4, 2021 3h\n"
     ]
    },
    {
     "name": "stderr",
     "output_type": "stream",
     "text": [
      "\r",
      "  1%|▊                                                                            | 76/7321 [23:52<40:43:22, 20.23s/it]"
     ]
    },
    {
     "name": "stdout",
     "output_type": "stream",
     "text": [
      "QUERY:  Precipitation amount in Zollikofen October 4, 2021 4h\n",
      "QUERY:  temperature in Zollikofen October 4, 2021 4h\n",
      "QUERY:  humidity in Zollikofen October 4, 2021 4h\n",
      "QUERY:  wind speed in Zollikofen October 4, 2021 4h\n",
      "QUERY:  Moon Phase calculatorOctober 4, 2021 4h\n"
     ]
    },
    {
     "name": "stderr",
     "output_type": "stream",
     "text": [
      "\r",
      "  1%|▊                                                                            | 77/7321 [24:12<40:52:15, 20.31s/it]"
     ]
    },
    {
     "name": "stdout",
     "output_type": "stream",
     "text": [
      "QUERY:  Precipitation amount in Zollikofen October 4, 2021 5h\n",
      "QUERY:  temperature in Zollikofen October 4, 2021 5h\n",
      "QUERY:  humidity in Zollikofen October 4, 2021 5h\n",
      "QUERY:  wind speed in Zollikofen October 4, 2021 5h\n",
      "QUERY:  Moon Phase calculatorOctober 4, 2021 5h\n"
     ]
    },
    {
     "name": "stderr",
     "output_type": "stream",
     "text": [
      "\r",
      "  1%|▊                                                                            | 78/7321 [24:32<40:42:17, 20.23s/it]"
     ]
    },
    {
     "name": "stdout",
     "output_type": "stream",
     "text": [
      "QUERY:  Precipitation amount in Zollikofen October 4, 2021 6h\n",
      "QUERY:  temperature in Zollikofen October 4, 2021 6h\n",
      "QUERY:  humidity in Zollikofen October 4, 2021 6h\n",
      "QUERY:  wind speed in Zollikofen October 4, 2021 6h\n",
      "QUERY:  Moon Phase calculatorOctober 4, 2021 6h\n"
     ]
    },
    {
     "name": "stderr",
     "output_type": "stream",
     "text": [
      "\r",
      "  1%|▊                                                                            | 79/7321 [24:52<40:28:21, 20.12s/it]"
     ]
    },
    {
     "name": "stdout",
     "output_type": "stream",
     "text": [
      "QUERY:  Precipitation amount in Zollikofen October 4, 2021 7h\n",
      "QUERY:  temperature in Zollikofen October 4, 2021 7h\n",
      "QUERY:  humidity in Zollikofen October 4, 2021 7h\n",
      "QUERY:  wind speed in Zollikofen October 4, 2021 7h\n",
      "QUERY:  Moon Phase calculatorOctober 4, 2021 7h\n"
     ]
    },
    {
     "name": "stderr",
     "output_type": "stream",
     "text": [
      "\r",
      "  1%|▊                                                                            | 80/7321 [25:11<39:28:03, 19.62s/it]"
     ]
    },
    {
     "name": "stdout",
     "output_type": "stream",
     "text": [
      "QUERY:  Precipitation amount in Zollikofen October 4, 2021 8h\n",
      "QUERY:  temperature in Zollikofen October 4, 2021 8h\n",
      "QUERY:  humidity in Zollikofen October 4, 2021 8h\n",
      "QUERY:  wind speed in Zollikofen October 4, 2021 8h\n",
      "QUERY:  Moon Phase calculatorOctober 4, 2021 8h\n",
      "(81, 7)\n"
     ]
    },
    {
     "data": {
      "text/html": [
       "<div>\n",
       "<style scoped>\n",
       "    .dataframe tbody tr th:only-of-type {\n",
       "        vertical-align: middle;\n",
       "    }\n",
       "\n",
       "    .dataframe tbody tr th {\n",
       "        vertical-align: top;\n",
       "    }\n",
       "\n",
       "    .dataframe thead th {\n",
       "        text-align: right;\n",
       "    }\n",
       "</style>\n",
       "<table border=\"1\" class=\"dataframe\">\n",
       "  <thead>\n",
       "    <tr style=\"text-align: right;\">\n",
       "      <th></th>\n",
       "      <th>date</th>\n",
       "      <th>temperature</th>\n",
       "      <th>humidity</th>\n",
       "      <th>wind speed</th>\n",
       "      <th>Precipitation amount</th>\n",
       "      <th>Moon Phase calculator</th>\n",
       "      <th>query</th>\n",
       "    </tr>\n",
       "  </thead>\n",
       "  <tbody>\n",
       "    <tr>\n",
       "      <th>8</th>\n",
       "      <td>2021-10-04 07:00:00</td>\n",
       "      <td>10 °C\\n(7:00 am CEST | Monday, October 4, 2021)</td>\n",
       "      <td>average: 100% (100%)\\n(7:00 am CEST | Monday, ...</td>\n",
       "      <td>0 m/s\\n(7:00 am CEST | Monday, October 4, 2021)</td>\n",
       "      <td>no precipitation\\n(7:00 am CEST | Monday, Octo...</td>\n",
       "      <td>| waning crescent moon\\n6.76% illuminated</td>\n",
       "      <td>Moon Phase calculatorOctober 4, 2021 7h</td>\n",
       "    </tr>\n",
       "    <tr>\n",
       "      <th>9</th>\n",
       "      <td>2021-10-04 08:00:00</td>\n",
       "      <td>11 °C\\n(8:00 am CEST | Monday, October 4, 2021)</td>\n",
       "      <td>average: 91% (87 to 94%)\\n(8:00 am CEST | Mond...</td>\n",
       "      <td>1 m/s\\n(8:00 am CEST | Monday, October 4, 2021)</td>\n",
       "      <td>no precipitation\\n(8:00 am CEST | Monday, Octo...</td>\n",
       "      <td>| waning crescent moon\\n6.53% illuminated</td>\n",
       "      <td>Moon Phase calculatorOctober 4, 2021 8h</td>\n",
       "    </tr>\n",
       "  </tbody>\n",
       "</table>\n",
       "</div>"
      ],
      "text/plain": [
       "                 date                                      temperature  \\\n",
       "8 2021-10-04 07:00:00  10 °C\\n(7:00 am CEST | Monday, October 4, 2021)   \n",
       "9 2021-10-04 08:00:00  11 °C\\n(8:00 am CEST | Monday, October 4, 2021)   \n",
       "\n",
       "                                            humidity  \\\n",
       "8  average: 100% (100%)\\n(7:00 am CEST | Monday, ...   \n",
       "9  average: 91% (87 to 94%)\\n(8:00 am CEST | Mond...   \n",
       "\n",
       "                                        wind speed  \\\n",
       "8  0 m/s\\n(7:00 am CEST | Monday, October 4, 2021)   \n",
       "9  1 m/s\\n(8:00 am CEST | Monday, October 4, 2021)   \n",
       "\n",
       "                                Precipitation amount  \\\n",
       "8  no precipitation\\n(7:00 am CEST | Monday, Octo...   \n",
       "9  no precipitation\\n(8:00 am CEST | Monday, Octo...   \n",
       "\n",
       "                       Moon Phase calculator  \\\n",
       "8  | waning crescent moon\\n6.76% illuminated   \n",
       "9  | waning crescent moon\\n6.53% illuminated   \n",
       "\n",
       "                                     query  \n",
       "8  Moon Phase calculatorOctober 4, 2021 7h  \n",
       "9  Moon Phase calculatorOctober 4, 2021 8h  "
      ]
     },
     "metadata": {},
     "output_type": "display_data"
    },
    {
     "name": "stderr",
     "output_type": "stream",
     "text": [
      "\r",
      "  1%|▊                                                                            | 81/7321 [25:27<37:17:15, 18.54s/it]"
     ]
    },
    {
     "name": "stdout",
     "output_type": "stream",
     "text": [
      "QUERY:  Precipitation amount in Zollikofen October 4, 2021 9h\n",
      "QUERY:  temperature in Zollikofen October 4, 2021 9h\n",
      "QUERY:  humidity in Zollikofen October 4, 2021 9h\n",
      "QUERY:  wind speed in Zollikofen October 4, 2021 9h\n",
      "QUERY:  Moon Phase calculatorOctober 4, 2021 9h\n"
     ]
    },
    {
     "name": "stderr",
     "output_type": "stream",
     "text": [
      "\r",
      "  1%|▊                                                                            | 82/7321 [25:47<38:05:59, 18.95s/it]"
     ]
    },
    {
     "name": "stdout",
     "output_type": "stream",
     "text": [
      "QUERY:  Precipitation amount in Zollikofen October 4, 2021 10h\n",
      "QUERY:  temperature in Zollikofen October 4, 2021 10h\n",
      "QUERY:  humidity in Zollikofen October 4, 2021 10h\n",
      "QUERY:  wind speed in Zollikofen October 4, 2021 10h\n",
      "QUERY:  Moon Phase calculatorOctober 4, 2021 10h\n"
     ]
    },
    {
     "name": "stderr",
     "output_type": "stream",
     "text": [
      "\r",
      "  1%|▊                                                                            | 83/7321 [26:07<38:40:43, 19.24s/it]"
     ]
    },
    {
     "name": "stdout",
     "output_type": "stream",
     "text": [
      "QUERY:  Precipitation amount in Zollikofen October 4, 2021 11h\n",
      "QUERY:  temperature in Zollikofen October 4, 2021 11h\n",
      "QUERY:  humidity in Zollikofen October 4, 2021 11h\n",
      "QUERY:  wind speed in Zollikofen October 4, 2021 11h\n",
      "QUERY:  Moon Phase calculatorOctober 4, 2021 11h\n"
     ]
    },
    {
     "name": "stderr",
     "output_type": "stream",
     "text": [
      "\r",
      "  1%|▉                                                                            | 84/7321 [26:28<39:47:11, 19.79s/it]"
     ]
    },
    {
     "name": "stdout",
     "output_type": "stream",
     "text": [
      "QUERY:  Precipitation amount in Zollikofen October 4, 2021 12h\n",
      "QUERY:  temperature in Zollikofen October 4, 2021 12h\n",
      "QUERY:  humidity in Zollikofen October 4, 2021 12h\n",
      "QUERY:  wind speed in Zollikofen October 4, 2021 12h\n",
      "QUERY:  Moon Phase calculatorOctober 4, 2021 12h\n"
     ]
    },
    {
     "name": "stderr",
     "output_type": "stream",
     "text": [
      "\r",
      "  1%|▉                                                                            | 85/7321 [26:47<39:47:07, 19.79s/it]"
     ]
    },
    {
     "name": "stdout",
     "output_type": "stream",
     "text": [
      "QUERY:  Precipitation amount in Zollikofen October 4, 2021 13h\n",
      "QUERY:  temperature in Zollikofen October 4, 2021 13h\n",
      "QUERY:  humidity in Zollikofen October 4, 2021 13h\n",
      "QUERY:  wind speed in Zollikofen October 4, 2021 13h\n",
      "QUERY:  Moon Phase calculatorOctober 4, 2021 13h\n"
     ]
    },
    {
     "name": "stderr",
     "output_type": "stream",
     "text": [
      "\r",
      "  1%|▉                                                                            | 86/7321 [27:09<41:05:50, 20.45s/it]"
     ]
    },
    {
     "name": "stdout",
     "output_type": "stream",
     "text": [
      "QUERY:  Precipitation amount in Zollikofen October 4, 2021 14h\n",
      "QUERY:  temperature in Zollikofen October 4, 2021 14h\n",
      "QUERY:  humidity in Zollikofen October 4, 2021 14h\n",
      "QUERY:  wind speed in Zollikofen October 4, 2021 14h\n",
      "QUERY:  Moon Phase calculatorOctober 4, 2021 14h\n"
     ]
    },
    {
     "name": "stderr",
     "output_type": "stream",
     "text": [
      "\r",
      "  1%|▉                                                                            | 87/7321 [27:29<40:43:10, 20.26s/it]"
     ]
    },
    {
     "name": "stdout",
     "output_type": "stream",
     "text": [
      "QUERY:  Precipitation amount in Zollikofen October 4, 2021 15h\n",
      "QUERY:  temperature in Zollikofen October 4, 2021 15h\n",
      "QUERY:  humidity in Zollikofen October 4, 2021 15h\n",
      "QUERY:  wind speed in Zollikofen October 4, 2021 15h\n",
      "QUERY:  Moon Phase calculatorOctober 4, 2021 15h\n"
     ]
    },
    {
     "name": "stderr",
     "output_type": "stream",
     "text": [
      "\r",
      "  1%|▉                                                                            | 88/7321 [27:49<40:19:08, 20.07s/it]"
     ]
    },
    {
     "name": "stdout",
     "output_type": "stream",
     "text": [
      "QUERY:  Precipitation amount in Zollikofen October 4, 2021 16h\n",
      "QUERY:  temperature in Zollikofen October 4, 2021 16h\n",
      "QUERY:  humidity in Zollikofen October 4, 2021 16h\n",
      "QUERY:  wind speed in Zollikofen October 4, 2021 16h\n",
      "QUERY:  Moon Phase calculatorOctober 4, 2021 16h\n"
     ]
    },
    {
     "name": "stderr",
     "output_type": "stream",
     "text": [
      "\r",
      "  1%|▉                                                                            | 89/7321 [28:09<40:05:40, 19.96s/it]"
     ]
    },
    {
     "name": "stdout",
     "output_type": "stream",
     "text": [
      "QUERY:  Precipitation amount in Zollikofen October 4, 2021 17h\n",
      "QUERY:  temperature in Zollikofen October 4, 2021 17h\n",
      "QUERY:  humidity in Zollikofen October 4, 2021 17h\n",
      "QUERY:  wind speed in Zollikofen October 4, 2021 17h\n",
      "QUERY:  Moon Phase calculatorOctober 4, 2021 17h\n"
     ]
    },
    {
     "name": "stderr",
     "output_type": "stream",
     "text": [
      "\r",
      "  1%|▉                                                                            | 90/7321 [28:28<40:02:53, 19.94s/it]"
     ]
    },
    {
     "name": "stdout",
     "output_type": "stream",
     "text": [
      "QUERY:  Precipitation amount in Zollikofen October 4, 2021 18h\n",
      "QUERY:  temperature in Zollikofen October 4, 2021 18h\n",
      "QUERY:  humidity in Zollikofen October 4, 2021 18h\n",
      "QUERY:  wind speed in Zollikofen October 4, 2021 18h\n",
      "QUERY:  Moon Phase calculatorOctober 4, 2021 18h\n",
      "(91, 7)\n"
     ]
    },
    {
     "data": {
      "text/html": [
       "<div>\n",
       "<style scoped>\n",
       "    .dataframe tbody tr th:only-of-type {\n",
       "        vertical-align: middle;\n",
       "    }\n",
       "\n",
       "    .dataframe tbody tr th {\n",
       "        vertical-align: top;\n",
       "    }\n",
       "\n",
       "    .dataframe thead th {\n",
       "        text-align: right;\n",
       "    }\n",
       "</style>\n",
       "<table border=\"1\" class=\"dataframe\">\n",
       "  <thead>\n",
       "    <tr style=\"text-align: right;\">\n",
       "      <th></th>\n",
       "      <th>date</th>\n",
       "      <th>temperature</th>\n",
       "      <th>humidity</th>\n",
       "      <th>wind speed</th>\n",
       "      <th>Precipitation amount</th>\n",
       "      <th>Moon Phase calculator</th>\n",
       "      <th>query</th>\n",
       "    </tr>\n",
       "  </thead>\n",
       "  <tbody>\n",
       "    <tr>\n",
       "      <th>8</th>\n",
       "      <td>2021-10-04 17:00:00</td>\n",
       "      <td>12 °C\\n(5:00 pm CEST | Monday, October 4, 2021)</td>\n",
       "      <td>average: 82% (82%)\\n(5:00 pm CEST | Monday, Oc...</td>\n",
       "      <td>2 m/s\\n(5:00 pm CEST | Monday, October 4, 2021)</td>\n",
       "      <td>no precipitation\\n(5:00 pm CEST | Monday, Octo...</td>\n",
       "      <td>| waning crescent moon\\n4.63% illuminated</td>\n",
       "      <td>Moon Phase calculatorOctober 4, 2021 17h</td>\n",
       "    </tr>\n",
       "    <tr>\n",
       "      <th>9</th>\n",
       "      <td>2021-10-04 18:00:00</td>\n",
       "      <td>12 °C\\n(6:00 pm CEST | Monday, October 4, 2021)</td>\n",
       "      <td>average: 85% (82 to 88%)\\n(6:00 pm CEST | Mond...</td>\n",
       "      <td>3 m/s\\n(6:00 pm CEST | Monday, October 4, 2021)</td>\n",
       "      <td>no precipitation\\n(6:00 pm CEST | Monday, Octo...</td>\n",
       "      <td>| waning crescent moon\\n4.44% illuminated</td>\n",
       "      <td>Moon Phase calculatorOctober 4, 2021 18h</td>\n",
       "    </tr>\n",
       "  </tbody>\n",
       "</table>\n",
       "</div>"
      ],
      "text/plain": [
       "                 date                                      temperature  \\\n",
       "8 2021-10-04 17:00:00  12 °C\\n(5:00 pm CEST | Monday, October 4, 2021)   \n",
       "9 2021-10-04 18:00:00  12 °C\\n(6:00 pm CEST | Monday, October 4, 2021)   \n",
       "\n",
       "                                            humidity  \\\n",
       "8  average: 82% (82%)\\n(5:00 pm CEST | Monday, Oc...   \n",
       "9  average: 85% (82 to 88%)\\n(6:00 pm CEST | Mond...   \n",
       "\n",
       "                                        wind speed  \\\n",
       "8  2 m/s\\n(5:00 pm CEST | Monday, October 4, 2021)   \n",
       "9  3 m/s\\n(6:00 pm CEST | Monday, October 4, 2021)   \n",
       "\n",
       "                                Precipitation amount  \\\n",
       "8  no precipitation\\n(5:00 pm CEST | Monday, Octo...   \n",
       "9  no precipitation\\n(6:00 pm CEST | Monday, Octo...   \n",
       "\n",
       "                       Moon Phase calculator  \\\n",
       "8  | waning crescent moon\\n4.63% illuminated   \n",
       "9  | waning crescent moon\\n4.44% illuminated   \n",
       "\n",
       "                                      query  \n",
       "8  Moon Phase calculatorOctober 4, 2021 17h  \n",
       "9  Moon Phase calculatorOctober 4, 2021 18h  "
      ]
     },
     "metadata": {},
     "output_type": "display_data"
    },
    {
     "name": "stderr",
     "output_type": "stream",
     "text": [
      "\r",
      "  1%|▉                                                                            | 91/7321 [28:49<40:12:49, 20.02s/it]"
     ]
    },
    {
     "name": "stdout",
     "output_type": "stream",
     "text": [
      "QUERY:  Precipitation amount in Zollikofen October 4, 2021 19h\n",
      "QUERY:  temperature in Zollikofen October 4, 2021 19h\n",
      "QUERY:  humidity in Zollikofen October 4, 2021 19h\n",
      "QUERY:  wind speed in Zollikofen October 4, 2021 19h\n",
      "QUERY:  Moon Phase calculatorOctober 4, 2021 19h\n"
     ]
    },
    {
     "name": "stderr",
     "output_type": "stream",
     "text": [
      "\r",
      "  1%|▉                                                                            | 92/7321 [29:08<39:58:59, 19.91s/it]"
     ]
    },
    {
     "name": "stdout",
     "output_type": "stream",
     "text": [
      "QUERY:  Precipitation amount in Zollikofen October 4, 2021 20h\n",
      "QUERY:  temperature in Zollikofen October 4, 2021 20h\n",
      "QUERY:  humidity in Zollikofen October 4, 2021 20h\n",
      "QUERY:  wind speed in Zollikofen October 4, 2021 20h\n",
      "QUERY:  Moon Phase calculatorOctober 4, 2021 20h\n"
     ]
    },
    {
     "name": "stderr",
     "output_type": "stream",
     "text": [
      "\r",
      "  1%|▉                                                                            | 93/7321 [29:28<39:49:21, 19.83s/it]"
     ]
    },
    {
     "name": "stdout",
     "output_type": "stream",
     "text": [
      "QUERY:  Precipitation amount in Zollikofen October 4, 2021 21h\n",
      "QUERY:  temperature in Zollikofen October 4, 2021 21h\n",
      "QUERY:  humidity in Zollikofen October 4, 2021 21h\n",
      "QUERY:  wind speed in Zollikofen October 4, 2021 21h\n",
      "QUERY:  Moon Phase calculatorOctober 4, 2021 21h\n"
     ]
    },
    {
     "name": "stderr",
     "output_type": "stream",
     "text": [
      "\r",
      "  1%|▉                                                                            | 94/7321 [29:48<39:42:08, 19.78s/it]"
     ]
    },
    {
     "name": "stdout",
     "output_type": "stream",
     "text": [
      "QUERY:  Precipitation amount in Zollikofen October 4, 2021 22h\n",
      "QUERY:  temperature in Zollikofen October 4, 2021 22h\n",
      "QUERY:  humidity in Zollikofen October 4, 2021 22h\n",
      "QUERY:  wind speed in Zollikofen October 4, 2021 22h\n",
      "QUERY:  Moon Phase calculatorOctober 4, 2021 22h\n"
     ]
    },
    {
     "name": "stderr",
     "output_type": "stream",
     "text": [
      "\r",
      "  1%|▉                                                                            | 95/7321 [30:13<43:06:53, 21.48s/it]"
     ]
    },
    {
     "name": "stdout",
     "output_type": "stream",
     "text": [
      "QUERY:  Precipitation amount in Zollikofen October 4, 2021 23h\n",
      "QUERY:  temperature in Zollikofen October 4, 2021 23h\n",
      "QUERY:  humidity in Zollikofen October 4, 2021 23h\n",
      "QUERY:  wind speed in Zollikofen October 4, 2021 23h\n",
      "QUERY:  Moon Phase calculatorOctober 4, 2021 23h\n"
     ]
    },
    {
     "name": "stderr",
     "output_type": "stream",
     "text": [
      "\r",
      "  1%|█                                                                            | 96/7321 [30:34<43:05:34, 21.47s/it]"
     ]
    },
    {
     "name": "stdout",
     "output_type": "stream",
     "text": [
      "QUERY:  Precipitation amount in Zollikofen October 5, 2021 0h\n",
      "QUERY:  temperature in Zollikofen October 5, 2021 0h\n",
      "QUERY:  humidity in Zollikofen October 5, 2021 0h\n",
      "QUERY:  wind speed in Zollikofen October 5, 2021 0h\n",
      "QUERY:  Moon Phase calculatorOctober 5, 2021 0h\n"
     ]
    },
    {
     "name": "stderr",
     "output_type": "stream",
     "text": [
      "\r",
      "  1%|█                                                                            | 97/7321 [30:55<42:43:05, 21.29s/it]"
     ]
    },
    {
     "name": "stdout",
     "output_type": "stream",
     "text": [
      "QUERY:  Precipitation amount in Zollikofen October 5, 2021 1h\n",
      "QUERY:  temperature in Zollikofen October 5, 2021 1h\n",
      "QUERY:  humidity in Zollikofen October 5, 2021 1h\n",
      "QUERY:  wind speed in Zollikofen October 5, 2021 1h\n",
      "QUERY:  Moon Phase calculatorOctober 5, 2021 1h\n"
     ]
    },
    {
     "name": "stderr",
     "output_type": "stream",
     "text": [
      "\r",
      "  1%|█                                                                            | 98/7321 [31:16<42:24:55, 21.14s/it]"
     ]
    },
    {
     "name": "stdout",
     "output_type": "stream",
     "text": [
      "QUERY:  Precipitation amount in Zollikofen October 5, 2021 2h\n",
      "QUERY:  temperature in Zollikofen October 5, 2021 2h\n",
      "QUERY:  humidity in Zollikofen October 5, 2021 2h\n",
      "QUERY:  wind speed in Zollikofen October 5, 2021 2h\n",
      "QUERY:  Moon Phase calculatorOctober 5, 2021 2h\n"
     ]
    },
    {
     "name": "stderr",
     "output_type": "stream",
     "text": [
      "\r",
      "  1%|█                                                                            | 99/7321 [31:38<42:53:36, 21.38s/it]"
     ]
    },
    {
     "name": "stdout",
     "output_type": "stream",
     "text": [
      "QUERY:  Precipitation amount in Zollikofen October 5, 2021 3h\n",
      "QUERY:  temperature in Zollikofen October 5, 2021 3h\n",
      "QUERY:  humidity in Zollikofen October 5, 2021 3h\n",
      "QUERY:  wind speed in Zollikofen October 5, 2021 3h\n",
      "QUERY:  Moon Phase calculatorOctober 5, 2021 3h\n"
     ]
    },
    {
     "name": "stderr",
     "output_type": "stream",
     "text": [
      "\r",
      "  1%|█                                                                           | 100/7321 [31:59<42:54:36, 21.39s/it]"
     ]
    },
    {
     "name": "stdout",
     "output_type": "stream",
     "text": [
      "QUERY:  Precipitation amount in Zollikofen October 5, 2021 4h\n",
      "QUERY:  temperature in Zollikofen October 5, 2021 4h\n",
      "QUERY:  humidity in Zollikofen October 5, 2021 4h\n",
      "QUERY:  wind speed in Zollikofen October 5, 2021 4h\n",
      "QUERY:  Moon Phase calculatorOctober 5, 2021 4h\n",
      "(101, 7)\n"
     ]
    },
    {
     "data": {
      "text/html": [
       "<div>\n",
       "<style scoped>\n",
       "    .dataframe tbody tr th:only-of-type {\n",
       "        vertical-align: middle;\n",
       "    }\n",
       "\n",
       "    .dataframe tbody tr th {\n",
       "        vertical-align: top;\n",
       "    }\n",
       "\n",
       "    .dataframe thead th {\n",
       "        text-align: right;\n",
       "    }\n",
       "</style>\n",
       "<table border=\"1\" class=\"dataframe\">\n",
       "  <thead>\n",
       "    <tr style=\"text-align: right;\">\n",
       "      <th></th>\n",
       "      <th>date</th>\n",
       "      <th>temperature</th>\n",
       "      <th>humidity</th>\n",
       "      <th>wind speed</th>\n",
       "      <th>Precipitation amount</th>\n",
       "      <th>Moon Phase calculator</th>\n",
       "      <th>query</th>\n",
       "    </tr>\n",
       "  </thead>\n",
       "  <tbody>\n",
       "    <tr>\n",
       "      <th>8</th>\n",
       "      <td>2021-10-05 03:00:00</td>\n",
       "      <td>11 °C\\n(3:00 am CEST | Tuesday, October 5, 2021)</td>\n",
       "      <td>average: 100% (100%)\\n(3:00 am CEST | Tuesday,...</td>\n",
       "      <td>1 m/s\\n(3:00 am CEST | Tuesday, October 5, 2021)</td>\n",
       "      <td>rain\\n(3:00 am CEST | Tuesday, October 5, 2021)</td>\n",
       "      <td>| waning crescent moon\\n2.88% illuminated</td>\n",
       "      <td>Moon Phase calculatorOctober 5, 2021 3h</td>\n",
       "    </tr>\n",
       "    <tr>\n",
       "      <th>9</th>\n",
       "      <td>2021-10-05 04:00:00</td>\n",
       "      <td>11 °C\\n(4:00 am CEST | Tuesday, October 5, 2021)</td>\n",
       "      <td>average: 100% (100%)\\n(4:00 am CEST | Tuesday,...</td>\n",
       "      <td>1 m/s\\n(4:00 am CEST | Tuesday, October 5, 2021)</td>\n",
       "      <td>rain\\n(4:00 am CEST | Tuesday, October 5, 2021)</td>\n",
       "      <td>| waning crescent moon\\n2.72% illuminated</td>\n",
       "      <td>Moon Phase calculatorOctober 5, 2021 4h</td>\n",
       "    </tr>\n",
       "  </tbody>\n",
       "</table>\n",
       "</div>"
      ],
      "text/plain": [
       "                 date                                       temperature  \\\n",
       "8 2021-10-05 03:00:00  11 °C\\n(3:00 am CEST | Tuesday, October 5, 2021)   \n",
       "9 2021-10-05 04:00:00  11 °C\\n(4:00 am CEST | Tuesday, October 5, 2021)   \n",
       "\n",
       "                                            humidity  \\\n",
       "8  average: 100% (100%)\\n(3:00 am CEST | Tuesday,...   \n",
       "9  average: 100% (100%)\\n(4:00 am CEST | Tuesday,...   \n",
       "\n",
       "                                         wind speed  \\\n",
       "8  1 m/s\\n(3:00 am CEST | Tuesday, October 5, 2021)   \n",
       "9  1 m/s\\n(4:00 am CEST | Tuesday, October 5, 2021)   \n",
       "\n",
       "                              Precipitation amount  \\\n",
       "8  rain\\n(3:00 am CEST | Tuesday, October 5, 2021)   \n",
       "9  rain\\n(4:00 am CEST | Tuesday, October 5, 2021)   \n",
       "\n",
       "                       Moon Phase calculator  \\\n",
       "8  | waning crescent moon\\n2.88% illuminated   \n",
       "9  | waning crescent moon\\n2.72% illuminated   \n",
       "\n",
       "                                     query  \n",
       "8  Moon Phase calculatorOctober 5, 2021 3h  \n",
       "9  Moon Phase calculatorOctober 5, 2021 4h  "
      ]
     },
     "metadata": {},
     "output_type": "display_data"
    },
    {
     "name": "stderr",
     "output_type": "stream",
     "text": [
      "\r",
      "  1%|█                                                                           | 101/7321 [32:20<42:18:13, 21.09s/it]"
     ]
    },
    {
     "name": "stdout",
     "output_type": "stream",
     "text": [
      "QUERY:  Precipitation amount in Zollikofen October 5, 2021 5h\n",
      "QUERY:  temperature in Zollikofen October 5, 2021 5h\n",
      "QUERY:  humidity in Zollikofen October 5, 2021 5h\n",
      "QUERY:  wind speed in Zollikofen October 5, 2021 5h\n",
      "QUERY:  Moon Phase calculatorOctober 5, 2021 5h\n"
     ]
    },
    {
     "name": "stderr",
     "output_type": "stream",
     "text": [
      "\r",
      "  1%|█                                                                           | 102/7321 [32:43<43:13:58, 21.56s/it]"
     ]
    },
    {
     "name": "stdout",
     "output_type": "stream",
     "text": [
      "QUERY:  Precipitation amount in Zollikofen October 5, 2021 6h\n",
      "QUERY:  temperature in Zollikofen October 5, 2021 6h\n",
      "QUERY:  humidity in Zollikofen October 5, 2021 6h\n",
      "QUERY:  wind speed in Zollikofen October 5, 2021 6h\n",
      "QUERY:  Moon Phase calculatorOctober 5, 2021 6h\n"
     ]
    },
    {
     "name": "stderr",
     "output_type": "stream",
     "text": [
      "\r",
      "  1%|█                                                                           | 103/7321 [33:03<42:21:10, 21.12s/it]"
     ]
    },
    {
     "name": "stdout",
     "output_type": "stream",
     "text": [
      "QUERY:  Precipitation amount in Zollikofen October 5, 2021 7h\n",
      "QUERY:  temperature in Zollikofen October 5, 2021 7h\n",
      "QUERY:  humidity in Zollikofen October 5, 2021 7h\n",
      "QUERY:  wind speed in Zollikofen October 5, 2021 7h\n",
      "QUERY:  Moon Phase calculatorOctober 5, 2021 7h\n"
     ]
    },
    {
     "name": "stderr",
     "output_type": "stream",
     "text": [
      "\r",
      "  1%|█                                                                           | 104/7321 [33:23<42:01:48, 20.97s/it]"
     ]
    },
    {
     "name": "stdout",
     "output_type": "stream",
     "text": [
      "QUERY:  Precipitation amount in Zollikofen October 5, 2021 8h\n",
      "QUERY:  temperature in Zollikofen October 5, 2021 8h\n",
      "QUERY:  humidity in Zollikofen October 5, 2021 8h\n",
      "QUERY:  wind speed in Zollikofen October 5, 2021 8h\n",
      "QUERY:  Moon Phase calculatorOctober 5, 2021 8h\n"
     ]
    },
    {
     "name": "stderr",
     "output_type": "stream",
     "text": [
      "\r",
      "  1%|█                                                                           | 105/7321 [33:44<42:02:55, 20.98s/it]"
     ]
    },
    {
     "name": "stdout",
     "output_type": "stream",
     "text": [
      "QUERY:  Precipitation amount in Zollikofen October 5, 2021 9h\n",
      "QUERY:  temperature in Zollikofen October 5, 2021 9h\n",
      "QUERY:  humidity in Zollikofen October 5, 2021 9h\n",
      "QUERY:  wind speed in Zollikofen October 5, 2021 9h\n",
      "QUERY:  Moon Phase calculatorOctober 5, 2021 9h\n"
     ]
    },
    {
     "name": "stderr",
     "output_type": "stream",
     "text": [
      "\r",
      "  1%|█                                                                           | 106/7321 [34:05<41:56:45, 20.93s/it]"
     ]
    },
    {
     "name": "stdout",
     "output_type": "stream",
     "text": [
      "QUERY:  Precipitation amount in Zollikofen October 5, 2021 10h\n",
      "QUERY:  temperature in Zollikofen October 5, 2021 10h\n",
      "QUERY:  humidity in Zollikofen October 5, 2021 10h\n",
      "QUERY:  wind speed in Zollikofen October 5, 2021 10h\n",
      "QUERY:  Moon Phase calculatorOctober 5, 2021 10h\n"
     ]
    },
    {
     "name": "stderr",
     "output_type": "stream",
     "text": [
      "\r",
      "  1%|█                                                                           | 107/7321 [34:26<41:40:17, 20.80s/it]"
     ]
    },
    {
     "name": "stdout",
     "output_type": "stream",
     "text": [
      "QUERY:  Precipitation amount in Zollikofen October 5, 2021 11h\n",
      "QUERY:  temperature in Zollikofen October 5, 2021 11h\n",
      "QUERY:  humidity in Zollikofen October 5, 2021 11h\n",
      "QUERY:  wind speed in Zollikofen October 5, 2021 11h\n",
      "QUERY:  Moon Phase calculatorOctober 5, 2021 11h\n"
     ]
    },
    {
     "name": "stderr",
     "output_type": "stream",
     "text": [
      "\r",
      "  1%|█                                                                           | 108/7321 [34:46<41:22:07, 20.65s/it]"
     ]
    },
    {
     "name": "stdout",
     "output_type": "stream",
     "text": [
      "QUERY:  Precipitation amount in Zollikofen October 5, 2021 12h\n",
      "QUERY:  temperature in Zollikofen October 5, 2021 12h\n",
      "QUERY:  humidity in Zollikofen October 5, 2021 12h\n",
      "QUERY:  wind speed in Zollikofen October 5, 2021 12h\n",
      "QUERY:  Moon Phase calculatorOctober 5, 2021 12h\n"
     ]
    },
    {
     "name": "stderr",
     "output_type": "stream",
     "text": [
      "\r",
      "  1%|█▏                                                                          | 109/7321 [35:06<41:09:02, 20.54s/it]"
     ]
    },
    {
     "name": "stdout",
     "output_type": "stream",
     "text": [
      "QUERY:  Precipitation amount in Zollikofen October 5, 2021 13h\n",
      "QUERY:  temperature in Zollikofen October 5, 2021 13h\n",
      "QUERY:  humidity in Zollikofen October 5, 2021 13h\n",
      "QUERY:  wind speed in Zollikofen October 5, 2021 13h\n",
      "QUERY:  Moon Phase calculatorOctober 5, 2021 13h\n"
     ]
    },
    {
     "name": "stderr",
     "output_type": "stream",
     "text": [
      "\r",
      "  2%|█▏                                                                          | 110/7321 [35:24<39:15:25, 19.60s/it]"
     ]
    },
    {
     "name": "stdout",
     "output_type": "stream",
     "text": [
      "QUERY:  Precipitation amount in Zollikofen October 5, 2021 14h\n",
      "QUERY:  temperature in Zollikofen October 5, 2021 14h\n",
      "QUERY:  humidity in Zollikofen October 5, 2021 14h\n",
      "QUERY:  wind speed in Zollikofen October 5, 2021 14h\n",
      "QUERY:  Moon Phase calculatorOctober 5, 2021 14h\n",
      "(111, 7)\n"
     ]
    },
    {
     "data": {
      "text/html": [
       "<div>\n",
       "<style scoped>\n",
       "    .dataframe tbody tr th:only-of-type {\n",
       "        vertical-align: middle;\n",
       "    }\n",
       "\n",
       "    .dataframe tbody tr th {\n",
       "        vertical-align: top;\n",
       "    }\n",
       "\n",
       "    .dataframe thead th {\n",
       "        text-align: right;\n",
       "    }\n",
       "</style>\n",
       "<table border=\"1\" class=\"dataframe\">\n",
       "  <thead>\n",
       "    <tr style=\"text-align: right;\">\n",
       "      <th></th>\n",
       "      <th>date</th>\n",
       "      <th>temperature</th>\n",
       "      <th>humidity</th>\n",
       "      <th>wind speed</th>\n",
       "      <th>Precipitation amount</th>\n",
       "      <th>Moon Phase calculator</th>\n",
       "      <th>query</th>\n",
       "    </tr>\n",
       "  </thead>\n",
       "  <tbody>\n",
       "    <tr>\n",
       "      <th>8</th>\n",
       "      <td>2021-10-05 13:00:00</td>\n",
       "      <td>15 °C\\n(1:00 pm CEST | Tuesday, October 5, 2021)</td>\n",
       "      <td>average: 85% (82 to 88%)\\n(1:00 pm CEST | Tues...</td>\n",
       "      <td>3 m/s\\n(1:00 pm CEST | Tuesday, October 5, 2021)</td>\n",
       "      <td>no precipitation\\n(1:00 pm CEST | Tuesday, Oct...</td>\n",
       "      <td>| waning crescent moon\\n1.53% illuminated</td>\n",
       "      <td>Moon Phase calculatorOctober 5, 2021 13h</td>\n",
       "    </tr>\n",
       "    <tr>\n",
       "      <th>9</th>\n",
       "      <td>2021-10-05 14:00:00</td>\n",
       "      <td>15 °C\\n(2:00 pm CEST | Tuesday, October 5, 2021)</td>\n",
       "      <td>average: 77% (77%)\\n(2:00 pm CEST | Tuesday, O...</td>\n",
       "      <td>4 m/s\\n(2:00 pm CEST | Tuesday, October 5, 2021)</td>\n",
       "      <td>no precipitation\\n(2:00 pm CEST | Tuesday, Oct...</td>\n",
       "      <td>| waning crescent moon\\n1.42% illuminated</td>\n",
       "      <td>Moon Phase calculatorOctober 5, 2021 14h</td>\n",
       "    </tr>\n",
       "  </tbody>\n",
       "</table>\n",
       "</div>"
      ],
      "text/plain": [
       "                 date                                       temperature  \\\n",
       "8 2021-10-05 13:00:00  15 °C\\n(1:00 pm CEST | Tuesday, October 5, 2021)   \n",
       "9 2021-10-05 14:00:00  15 °C\\n(2:00 pm CEST | Tuesday, October 5, 2021)   \n",
       "\n",
       "                                            humidity  \\\n",
       "8  average: 85% (82 to 88%)\\n(1:00 pm CEST | Tues...   \n",
       "9  average: 77% (77%)\\n(2:00 pm CEST | Tuesday, O...   \n",
       "\n",
       "                                         wind speed  \\\n",
       "8  3 m/s\\n(1:00 pm CEST | Tuesday, October 5, 2021)   \n",
       "9  4 m/s\\n(2:00 pm CEST | Tuesday, October 5, 2021)   \n",
       "\n",
       "                                Precipitation amount  \\\n",
       "8  no precipitation\\n(1:00 pm CEST | Tuesday, Oct...   \n",
       "9  no precipitation\\n(2:00 pm CEST | Tuesday, Oct...   \n",
       "\n",
       "                       Moon Phase calculator  \\\n",
       "8  | waning crescent moon\\n1.53% illuminated   \n",
       "9  | waning crescent moon\\n1.42% illuminated   \n",
       "\n",
       "                                      query  \n",
       "8  Moon Phase calculatorOctober 5, 2021 13h  \n",
       "9  Moon Phase calculatorOctober 5, 2021 14h  "
      ]
     },
     "metadata": {},
     "output_type": "display_data"
    },
    {
     "name": "stderr",
     "output_type": "stream",
     "text": [
      "\r",
      "  2%|█▏                                                                          | 111/7321 [35:41<38:13:22, 19.08s/it]"
     ]
    },
    {
     "name": "stdout",
     "output_type": "stream",
     "text": [
      "QUERY:  Precipitation amount in Zollikofen October 5, 2021 15h\n",
      "QUERY:  temperature in Zollikofen October 5, 2021 15h\n",
      "QUERY:  humidity in Zollikofen October 5, 2021 15h\n",
      "QUERY:  wind speed in Zollikofen October 5, 2021 15h\n",
      "QUERY:  Moon Phase calculatorOctober 5, 2021 15h\n"
     ]
    },
    {
     "name": "stderr",
     "output_type": "stream",
     "text": [
      "\r",
      "  2%|█▏                                                                          | 112/7321 [36:02<39:23:38, 19.67s/it]"
     ]
    },
    {
     "name": "stdout",
     "output_type": "stream",
     "text": [
      "QUERY:  Precipitation amount in Zollikofen October 5, 2021 16h\n",
      "QUERY:  temperature in Zollikofen October 5, 2021 16h\n",
      "QUERY:  humidity in Zollikofen October 5, 2021 16h\n",
      "QUERY:  wind speed in Zollikofen October 5, 2021 16h\n",
      "QUERY:  Moon Phase calculatorOctober 5, 2021 16h\n"
     ]
    },
    {
     "name": "stderr",
     "output_type": "stream",
     "text": [
      "\r",
      "  2%|█▏                                                                          | 113/7321 [36:22<39:34:57, 19.77s/it]"
     ]
    },
    {
     "name": "stdout",
     "output_type": "stream",
     "text": [
      "QUERY:  Precipitation amount in Zollikofen October 5, 2021 17h\n",
      "QUERY:  temperature in Zollikofen October 5, 2021 17h\n",
      "QUERY:  humidity in Zollikofen October 5, 2021 17h\n",
      "QUERY:  wind speed in Zollikofen October 5, 2021 17h\n",
      "QUERY:  Moon Phase calculatorOctober 5, 2021 17h\n"
     ]
    },
    {
     "name": "stderr",
     "output_type": "stream",
     "text": [
      "\r",
      "  2%|█▏                                                                          | 114/7321 [36:43<40:10:11, 20.07s/it]"
     ]
    },
    {
     "name": "stdout",
     "output_type": "stream",
     "text": [
      "QUERY:  Precipitation amount in Zollikofen October 5, 2021 18h\n",
      "QUERY:  temperature in Zollikofen October 5, 2021 18h\n",
      "QUERY:  humidity in Zollikofen October 5, 2021 18h\n",
      "QUERY:  wind speed in Zollikofen October 5, 2021 18h\n",
      "QUERY:  Moon Phase calculatorOctober 5, 2021 18h\n"
     ]
    },
    {
     "name": "stderr",
     "output_type": "stream",
     "text": [
      "\r",
      "  2%|█▏                                                                          | 115/7321 [37:06<41:33:04, 20.76s/it]"
     ]
    },
    {
     "name": "stdout",
     "output_type": "stream",
     "text": [
      "QUERY:  Precipitation amount in Zollikofen October 5, 2021 19h\n",
      "QUERY:  temperature in Zollikofen October 5, 2021 19h\n",
      "QUERY:  humidity in Zollikofen October 5, 2021 19h\n",
      "QUERY:  wind speed in Zollikofen October 5, 2021 19h\n",
      "QUERY:  Moon Phase calculatorOctober 5, 2021 19h\n"
     ]
    },
    {
     "name": "stderr",
     "output_type": "stream",
     "text": [
      "\r",
      "  2%|█▏                                                                          | 116/7321 [37:25<41:01:15, 20.50s/it]"
     ]
    },
    {
     "name": "stdout",
     "output_type": "stream",
     "text": [
      "QUERY:  Precipitation amount in Zollikofen October 5, 2021 20h\n",
      "QUERY:  temperature in Zollikofen October 5, 2021 20h\n",
      "QUERY:  humidity in Zollikofen October 5, 2021 20h\n",
      "QUERY:  wind speed in Zollikofen October 5, 2021 20h\n",
      "QUERY:  Moon Phase calculatorOctober 5, 2021 20h\n"
     ]
    },
    {
     "name": "stderr",
     "output_type": "stream",
     "text": [
      "\r",
      "  2%|█▏                                                                          | 117/7321 [37:47<41:19:58, 20.65s/it]"
     ]
    },
    {
     "name": "stdout",
     "output_type": "stream",
     "text": [
      "QUERY:  Precipitation amount in Zollikofen October 5, 2021 21h\n",
      "QUERY:  temperature in Zollikofen October 5, 2021 21h\n",
      "QUERY:  humidity in Zollikofen October 5, 2021 21h\n",
      "QUERY:  wind speed in Zollikofen October 5, 2021 21h\n",
      "QUERY:  Moon Phase calculatorOctober 5, 2021 21h\n"
     ]
    },
    {
     "name": "stderr",
     "output_type": "stream",
     "text": [
      "\r",
      "  2%|█▏                                                                          | 118/7321 [38:07<41:22:31, 20.68s/it]"
     ]
    },
    {
     "name": "stdout",
     "output_type": "stream",
     "text": [
      "QUERY:  Precipitation amount in Zollikofen October 5, 2021 22h\n",
      "QUERY:  temperature in Zollikofen October 5, 2021 22h\n",
      "QUERY:  humidity in Zollikofen October 5, 2021 22h\n",
      "QUERY:  wind speed in Zollikofen October 5, 2021 22h\n",
      "QUERY:  Moon Phase calculatorOctober 5, 2021 22h\n"
     ]
    },
    {
     "name": "stderr",
     "output_type": "stream",
     "text": [
      "\r",
      "  2%|█▏                                                                          | 119/7321 [38:27<41:05:55, 20.54s/it]"
     ]
    },
    {
     "name": "stdout",
     "output_type": "stream",
     "text": [
      "QUERY:  Precipitation amount in Zollikofen October 5, 2021 23h\n",
      "QUERY:  temperature in Zollikofen October 5, 2021 23h\n",
      "QUERY:  humidity in Zollikofen October 5, 2021 23h\n",
      "QUERY:  wind speed in Zollikofen October 5, 2021 23h\n",
      "QUERY:  Moon Phase calculatorOctober 5, 2021 23h\n"
     ]
    },
    {
     "name": "stderr",
     "output_type": "stream",
     "text": [
      "\r",
      "  2%|█▏                                                                          | 120/7321 [38:48<40:52:05, 20.43s/it]"
     ]
    },
    {
     "name": "stdout",
     "output_type": "stream",
     "text": [
      "QUERY:  Precipitation amount in Zollikofen October 6, 2021 0h\n",
      "QUERY:  temperature in Zollikofen October 6, 2021 0h\n",
      "QUERY:  humidity in Zollikofen October 6, 2021 0h\n",
      "QUERY:  wind speed in Zollikofen October 6, 2021 0h\n",
      "QUERY:  Moon Phase calculatorOctober 6, 2021 0h\n",
      "(121, 7)\n"
     ]
    },
    {
     "data": {
      "text/html": [
       "<div>\n",
       "<style scoped>\n",
       "    .dataframe tbody tr th:only-of-type {\n",
       "        vertical-align: middle;\n",
       "    }\n",
       "\n",
       "    .dataframe tbody tr th {\n",
       "        vertical-align: top;\n",
       "    }\n",
       "\n",
       "    .dataframe thead th {\n",
       "        text-align: right;\n",
       "    }\n",
       "</style>\n",
       "<table border=\"1\" class=\"dataframe\">\n",
       "  <thead>\n",
       "    <tr style=\"text-align: right;\">\n",
       "      <th></th>\n",
       "      <th>date</th>\n",
       "      <th>temperature</th>\n",
       "      <th>humidity</th>\n",
       "      <th>wind speed</th>\n",
       "      <th>Precipitation amount</th>\n",
       "      <th>Moon Phase calculator</th>\n",
       "      <th>query</th>\n",
       "    </tr>\n",
       "  </thead>\n",
       "  <tbody>\n",
       "    <tr>\n",
       "      <th>8</th>\n",
       "      <td>2021-10-05 23:00:00</td>\n",
       "      <td>10 °C\\n(11:00 pm CEST | Tuesday, October 5, 2021)</td>\n",
       "      <td>average: 76% (76%)\\n(11:00 pm CEST | Tuesday, ...</td>\n",
       "      <td>2 m/s\\n(11:00 pm CEST | Tuesday, October 5, 2021)</td>\n",
       "      <td>no precipitation\\n(11:00 pm CEST | Tuesday, Oc...</td>\n",
       "      <td>| waning crescent moon\\n0.62% illuminated</td>\n",
       "      <td>Moon Phase calculatorOctober 5, 2021 23h</td>\n",
       "    </tr>\n",
       "    <tr>\n",
       "      <th>9</th>\n",
       "      <td>2021-10-06 00:00:00</td>\n",
       "      <td>10 °C\\n(12:00 am CEST | Wednesday, October 6, ...</td>\n",
       "      <td>average: 82% (82%)\\n(12:00 am CEST | Wednesday...</td>\n",
       "      <td>2 m/s\\n(12:00 am CEST | Wednesday, October 6, ...</td>\n",
       "      <td>no precipitation\\n(12:00 am CEST | Wednesday, ...</td>\n",
       "      <td>| waning crescent moon\\n0.55% illuminated</td>\n",
       "      <td>Moon Phase calculatorOctober 6, 2021 0h</td>\n",
       "    </tr>\n",
       "  </tbody>\n",
       "</table>\n",
       "</div>"
      ],
      "text/plain": [
       "                 date                                        temperature  \\\n",
       "8 2021-10-05 23:00:00  10 °C\\n(11:00 pm CEST | Tuesday, October 5, 2021)   \n",
       "9 2021-10-06 00:00:00  10 °C\\n(12:00 am CEST | Wednesday, October 6, ...   \n",
       "\n",
       "                                            humidity  \\\n",
       "8  average: 76% (76%)\\n(11:00 pm CEST | Tuesday, ...   \n",
       "9  average: 82% (82%)\\n(12:00 am CEST | Wednesday...   \n",
       "\n",
       "                                          wind speed  \\\n",
       "8  2 m/s\\n(11:00 pm CEST | Tuesday, October 5, 2021)   \n",
       "9  2 m/s\\n(12:00 am CEST | Wednesday, October 6, ...   \n",
       "\n",
       "                                Precipitation amount  \\\n",
       "8  no precipitation\\n(11:00 pm CEST | Tuesday, Oc...   \n",
       "9  no precipitation\\n(12:00 am CEST | Wednesday, ...   \n",
       "\n",
       "                       Moon Phase calculator  \\\n",
       "8  | waning crescent moon\\n0.62% illuminated   \n",
       "9  | waning crescent moon\\n0.55% illuminated   \n",
       "\n",
       "                                      query  \n",
       "8  Moon Phase calculatorOctober 5, 2021 23h  \n",
       "9   Moon Phase calculatorOctober 6, 2021 0h  "
      ]
     },
     "metadata": {},
     "output_type": "display_data"
    },
    {
     "name": "stderr",
     "output_type": "stream",
     "text": [
      "\r",
      "  2%|█▎                                                                          | 121/7321 [39:08<40:48:36, 20.41s/it]"
     ]
    },
    {
     "name": "stdout",
     "output_type": "stream",
     "text": [
      "QUERY:  Precipitation amount in Zollikofen October 6, 2021 1h\n",
      "QUERY:  temperature in Zollikofen October 6, 2021 1h\n",
      "QUERY:  humidity in Zollikofen October 6, 2021 1h\n",
      "QUERY:  wind speed in Zollikofen October 6, 2021 1h\n",
      "QUERY:  Moon Phase calculatorOctober 6, 2021 1h\n"
     ]
    },
    {
     "name": "stderr",
     "output_type": "stream",
     "text": [
      "\r",
      "  2%|█▎                                                                          | 122/7321 [39:28<40:47:31, 20.40s/it]"
     ]
    },
    {
     "name": "stdout",
     "output_type": "stream",
     "text": [
      "QUERY:  Precipitation amount in Zollikofen October 6, 2021 2h\n",
      "QUERY:  temperature in Zollikofen October 6, 2021 2h\n",
      "QUERY:  humidity in Zollikofen October 6, 2021 2h\n",
      "QUERY:  wind speed in Zollikofen October 6, 2021 2h\n",
      "QUERY:  Moon Phase calculatorOctober 6, 2021 2h\n"
     ]
    },
    {
     "name": "stderr",
     "output_type": "stream",
     "text": [
      "\r",
      "  2%|█▎                                                                          | 123/7321 [39:48<40:28:33, 20.24s/it]"
     ]
    },
    {
     "name": "stdout",
     "output_type": "stream",
     "text": [
      "QUERY:  Precipitation amount in Zollikofen October 6, 2021 3h\n",
      "QUERY:  temperature in Zollikofen October 6, 2021 3h\n",
      "QUERY:  humidity in Zollikofen October 6, 2021 3h\n",
      "QUERY:  wind speed in Zollikofen October 6, 2021 3h\n",
      "QUERY:  Moon Phase calculatorOctober 6, 2021 3h\n"
     ]
    },
    {
     "name": "stderr",
     "output_type": "stream",
     "text": [
      "\r",
      "  2%|█▎                                                                          | 124/7321 [40:08<40:19:18, 20.17s/it]"
     ]
    },
    {
     "name": "stdout",
     "output_type": "stream",
     "text": [
      "QUERY:  Precipitation amount in Zollikofen October 6, 2021 4h\n",
      "QUERY:  temperature in Zollikofen October 6, 2021 4h\n",
      "QUERY:  humidity in Zollikofen October 6, 2021 4h\n",
      "QUERY:  wind speed in Zollikofen October 6, 2021 4h\n",
      "QUERY:  Moon Phase calculatorOctober 6, 2021 4h\n"
     ]
    },
    {
     "name": "stderr",
     "output_type": "stream",
     "text": [
      "\r",
      "  2%|█▎                                                                          | 125/7321 [40:26<38:37:18, 19.32s/it]"
     ]
    },
    {
     "name": "stdout",
     "output_type": "stream",
     "text": [
      "QUERY:  Precipitation amount in Zollikofen October 6, 2021 5h\n",
      "QUERY:  temperature in Zollikofen October 6, 2021 5h\n",
      "QUERY:  humidity in Zollikofen October 6, 2021 5h\n",
      "QUERY:  wind speed in Zollikofen October 6, 2021 5h\n",
      "QUERY:  Moon Phase calculatorOctober 6, 2021 5h\n"
     ]
    },
    {
     "name": "stderr",
     "output_type": "stream",
     "text": [
      "\r",
      "  2%|█▎                                                                          | 126/7321 [40:40<35:30:04, 17.76s/it]"
     ]
    },
    {
     "name": "stdout",
     "output_type": "stream",
     "text": [
      "QUERY:  Precipitation amount in Zollikofen October 6, 2021 6h\n",
      "QUERY:  temperature in Zollikofen October 6, 2021 6h\n",
      "QUERY:  humidity in Zollikofen October 6, 2021 6h\n",
      "QUERY:  wind speed in Zollikofen October 6, 2021 6h\n",
      "QUERY:  Moon Phase calculatorOctober 6, 2021 6h\n"
     ]
    },
    {
     "name": "stderr",
     "output_type": "stream",
     "text": [
      "\r",
      "  2%|█▎                                                                          | 127/7321 [40:53<33:04:19, 16.55s/it]"
     ]
    },
    {
     "name": "stdout",
     "output_type": "stream",
     "text": [
      "QUERY:  Precipitation amount in Zollikofen October 6, 2021 7h\n",
      "QUERY:  temperature in Zollikofen October 6, 2021 7h\n",
      "QUERY:  humidity in Zollikofen October 6, 2021 7h\n",
      "QUERY:  wind speed in Zollikofen October 6, 2021 7h\n",
      "QUERY:  Moon Phase calculatorOctober 6, 2021 7h\n"
     ]
    },
    {
     "name": "stderr",
     "output_type": "stream",
     "text": [
      "\r",
      "  2%|█▎                                                                          | 128/7321 [41:07<31:05:17, 15.56s/it]"
     ]
    },
    {
     "name": "stdout",
     "output_type": "stream",
     "text": [
      "QUERY:  Precipitation amount in Zollikofen October 6, 2021 8h\n",
      "QUERY:  temperature in Zollikofen October 6, 2021 8h\n",
      "QUERY:  humidity in Zollikofen October 6, 2021 8h\n",
      "QUERY:  wind speed in Zollikofen October 6, 2021 8h\n",
      "QUERY:  Moon Phase calculatorOctober 6, 2021 8h\n"
     ]
    },
    {
     "name": "stderr",
     "output_type": "stream",
     "text": [
      "\r",
      "  2%|█▎                                                                          | 129/7321 [41:20<29:44:47, 14.89s/it]"
     ]
    },
    {
     "name": "stdout",
     "output_type": "stream",
     "text": [
      "QUERY:  Precipitation amount in Zollikofen October 6, 2021 9h\n",
      "QUERY:  temperature in Zollikofen October 6, 2021 9h\n",
      "QUERY:  humidity in Zollikofen October 6, 2021 9h\n",
      "QUERY:  wind speed in Zollikofen October 6, 2021 9h\n",
      "QUERY:  Moon Phase calculatorOctober 6, 2021 9h\n"
     ]
    },
    {
     "name": "stderr",
     "output_type": "stream",
     "text": [
      "\r",
      "  2%|█▎                                                                          | 130/7321 [41:33<28:50:06, 14.44s/it]"
     ]
    },
    {
     "name": "stdout",
     "output_type": "stream",
     "text": [
      "QUERY:  Precipitation amount in Zollikofen October 6, 2021 10h\n",
      "QUERY:  temperature in Zollikofen October 6, 2021 10h\n",
      "QUERY:  humidity in Zollikofen October 6, 2021 10h\n",
      "QUERY:  wind speed in Zollikofen October 6, 2021 10h\n",
      "QUERY:  Moon Phase calculatorOctober 6, 2021 10h\n",
      "(131, 7)\n"
     ]
    },
    {
     "data": {
      "text/html": [
       "<div>\n",
       "<style scoped>\n",
       "    .dataframe tbody tr th:only-of-type {\n",
       "        vertical-align: middle;\n",
       "    }\n",
       "\n",
       "    .dataframe tbody tr th {\n",
       "        vertical-align: top;\n",
       "    }\n",
       "\n",
       "    .dataframe thead th {\n",
       "        text-align: right;\n",
       "    }\n",
       "</style>\n",
       "<table border=\"1\" class=\"dataframe\">\n",
       "  <thead>\n",
       "    <tr style=\"text-align: right;\">\n",
       "      <th></th>\n",
       "      <th>date</th>\n",
       "      <th>temperature</th>\n",
       "      <th>humidity</th>\n",
       "      <th>wind speed</th>\n",
       "      <th>Precipitation amount</th>\n",
       "      <th>Moon Phase calculator</th>\n",
       "      <th>query</th>\n",
       "    </tr>\n",
       "  </thead>\n",
       "  <tbody>\n",
       "    <tr>\n",
       "      <th>8</th>\n",
       "      <td>2021-10-06 09:00:00</td>\n",
       "      <td>9 °C\\n(9:00 am CEST | Wednesday, October 6, 2021)</td>\n",
       "      <td>average: 90% (87 to 93%)\\n(9:00 am CEST | Wedn...</td>\n",
       "      <td>2 m/s\\n(9:00 am CEST | Wednesday, October 6, 2...</td>\n",
       "      <td>no precipitation\\n(9:00 am CEST | Wednesday, O...</td>\n",
       "      <td>| new moon\\n0.16% illuminated</td>\n",
       "      <td>Moon Phase calculatorOctober 6, 2021 9h</td>\n",
       "    </tr>\n",
       "    <tr>\n",
       "      <th>9</th>\n",
       "      <td>2021-10-06 10:00:00</td>\n",
       "      <td>10 °C\\n(10:00 am CEST | Wednesday, October 6, ...</td>\n",
       "      <td>average: 79% (76 to 82%)\\n(10:00 am CEST | Wed...</td>\n",
       "      <td>2 m/s\\n(10:00 am CEST | Wednesday, October 6, ...</td>\n",
       "      <td>no precipitation\\n(10:00 am CEST | Wednesday, ...</td>\n",
       "      <td>| new moon\\n0.15% illuminated</td>\n",
       "      <td>Moon Phase calculatorOctober 6, 2021 10h</td>\n",
       "    </tr>\n",
       "  </tbody>\n",
       "</table>\n",
       "</div>"
      ],
      "text/plain": [
       "                 date                                        temperature  \\\n",
       "8 2021-10-06 09:00:00  9 °C\\n(9:00 am CEST | Wednesday, October 6, 2021)   \n",
       "9 2021-10-06 10:00:00  10 °C\\n(10:00 am CEST | Wednesday, October 6, ...   \n",
       "\n",
       "                                            humidity  \\\n",
       "8  average: 90% (87 to 93%)\\n(9:00 am CEST | Wedn...   \n",
       "9  average: 79% (76 to 82%)\\n(10:00 am CEST | Wed...   \n",
       "\n",
       "                                          wind speed  \\\n",
       "8  2 m/s\\n(9:00 am CEST | Wednesday, October 6, 2...   \n",
       "9  2 m/s\\n(10:00 am CEST | Wednesday, October 6, ...   \n",
       "\n",
       "                                Precipitation amount  \\\n",
       "8  no precipitation\\n(9:00 am CEST | Wednesday, O...   \n",
       "9  no precipitation\\n(10:00 am CEST | Wednesday, ...   \n",
       "\n",
       "           Moon Phase calculator                                     query  \n",
       "8  | new moon\\n0.16% illuminated   Moon Phase calculatorOctober 6, 2021 9h  \n",
       "9  | new moon\\n0.15% illuminated  Moon Phase calculatorOctober 6, 2021 10h  "
      ]
     },
     "metadata": {},
     "output_type": "display_data"
    },
    {
     "name": "stderr",
     "output_type": "stream",
     "text": [
      "\r",
      "  2%|█▎                                                                          | 131/7321 [41:47<28:04:02, 14.05s/it]"
     ]
    },
    {
     "name": "stdout",
     "output_type": "stream",
     "text": [
      "QUERY:  Precipitation amount in Zollikofen October 6, 2021 11h\n",
      "QUERY:  temperature in Zollikofen October 6, 2021 11h\n",
      "QUERY:  humidity in Zollikofen October 6, 2021 11h\n",
      "QUERY:  wind speed in Zollikofen October 6, 2021 11h\n",
      "QUERY:  Moon Phase calculatorOctober 6, 2021 11h\n"
     ]
    },
    {
     "name": "stderr",
     "output_type": "stream",
     "text": [
      "\r",
      "  2%|█▎                                                                          | 132/7321 [42:01<28:29:35, 14.27s/it]"
     ]
    },
    {
     "name": "stdout",
     "output_type": "stream",
     "text": [
      "QUERY:  Precipitation amount in Zollikofen October 6, 2021 12h\n",
      "QUERY:  temperature in Zollikofen October 6, 2021 12h\n",
      "QUERY:  humidity in Zollikofen October 6, 2021 12h\n",
      "QUERY:  wind speed in Zollikofen October 6, 2021 12h\n",
      "QUERY:  Moon Phase calculatorOctober 6, 2021 12h\n"
     ]
    },
    {
     "name": "stderr",
     "output_type": "stream",
     "text": [
      "\r",
      "  2%|█▍                                                                          | 133/7321 [42:15<28:02:38, 14.05s/it]"
     ]
    },
    {
     "name": "stdout",
     "output_type": "stream",
     "text": [
      "QUERY:  Precipitation amount in Zollikofen October 6, 2021 13h\n",
      "QUERY:  temperature in Zollikofen October 6, 2021 13h\n",
      "QUERY:  humidity in Zollikofen October 6, 2021 13h\n",
      "QUERY:  wind speed in Zollikofen October 6, 2021 13h\n",
      "QUERY:  Moon Phase calculatorOctober 6, 2021 13h\n"
     ]
    },
    {
     "name": "stderr",
     "output_type": "stream",
     "text": [
      "\r",
      "  2%|█▍                                                                          | 134/7321 [42:28<27:38:56, 13.85s/it]"
     ]
    },
    {
     "name": "stdout",
     "output_type": "stream",
     "text": [
      "QUERY:  Precipitation amount in Zollikofen October 6, 2021 14h\n",
      "QUERY:  temperature in Zollikofen October 6, 2021 14h\n",
      "QUERY:  humidity in Zollikofen October 6, 2021 14h\n",
      "QUERY:  wind speed in Zollikofen October 6, 2021 14h\n",
      "QUERY:  Moon Phase calculatorOctober 6, 2021 14h\n"
     ]
    },
    {
     "name": "stderr",
     "output_type": "stream",
     "text": [
      "\r",
      "  2%|█▍                                                                          | 135/7321 [42:42<27:30:41, 13.78s/it]"
     ]
    },
    {
     "name": "stdout",
     "output_type": "stream",
     "text": [
      "QUERY:  Precipitation amount in Zollikofen October 6, 2021 15h\n",
      "QUERY:  temperature in Zollikofen October 6, 2021 15h\n",
      "QUERY:  humidity in Zollikofen October 6, 2021 15h\n",
      "QUERY:  wind speed in Zollikofen October 6, 2021 15h\n",
      "QUERY:  Moon Phase calculatorOctober 6, 2021 15h\n"
     ]
    },
    {
     "name": "stderr",
     "output_type": "stream",
     "text": [
      "\r",
      "  2%|█▍                                                                          | 136/7321 [42:57<28:28:18, 14.27s/it]"
     ]
    },
    {
     "name": "stdout",
     "output_type": "stream",
     "text": [
      "QUERY:  Precipitation amount in Zollikofen October 6, 2021 16h\n",
      "QUERY:  temperature in Zollikofen October 6, 2021 16h\n",
      "QUERY:  humidity in Zollikofen October 6, 2021 16h\n",
      "QUERY:  wind speed in Zollikofen October 6, 2021 16h\n",
      "QUERY:  Moon Phase calculatorOctober 6, 2021 16h\n"
     ]
    },
    {
     "name": "stderr",
     "output_type": "stream",
     "text": [
      "\r",
      "  2%|█▍                                                                          | 137/7321 [43:11<27:54:47, 13.99s/it]"
     ]
    },
    {
     "name": "stdout",
     "output_type": "stream",
     "text": [
      "QUERY:  Precipitation amount in Zollikofen October 6, 2021 17h\n",
      "QUERY:  temperature in Zollikofen October 6, 2021 17h\n",
      "QUERY:  humidity in Zollikofen October 6, 2021 17h\n",
      "QUERY:  wind speed in Zollikofen October 6, 2021 17h\n",
      "QUERY:  Moon Phase calculatorOctober 6, 2021 17h\n"
     ]
    },
    {
     "name": "stderr",
     "output_type": "stream",
     "text": [
      "\r",
      "  2%|█▍                                                                          | 138/7321 [43:24<27:46:52, 13.92s/it]"
     ]
    },
    {
     "name": "stdout",
     "output_type": "stream",
     "text": [
      "QUERY:  Precipitation amount in Zollikofen October 6, 2021 18h\n",
      "QUERY:  temperature in Zollikofen October 6, 2021 18h\n",
      "QUERY:  humidity in Zollikofen October 6, 2021 18h\n",
      "QUERY:  wind speed in Zollikofen October 6, 2021 18h\n",
      "QUERY:  Moon Phase calculatorOctober 6, 2021 18h\n"
     ]
    },
    {
     "name": "stderr",
     "output_type": "stream",
     "text": [
      "\r",
      "  2%|█▍                                                                          | 139/7321 [43:38<27:47:58, 13.93s/it]"
     ]
    },
    {
     "name": "stdout",
     "output_type": "stream",
     "text": [
      "QUERY:  Precipitation amount in Zollikofen October 6, 2021 19h\n",
      "QUERY:  temperature in Zollikofen October 6, 2021 19h\n",
      "QUERY:  humidity in Zollikofen October 6, 2021 19h\n",
      "QUERY:  wind speed in Zollikofen October 6, 2021 19h\n",
      "QUERY:  Moon Phase calculatorOctober 6, 2021 19h\n"
     ]
    },
    {
     "name": "stderr",
     "output_type": "stream",
     "text": [
      "\r",
      "  2%|█▍                                                                          | 140/7321 [43:52<27:35:05, 13.83s/it]"
     ]
    },
    {
     "name": "stdout",
     "output_type": "stream",
     "text": [
      "QUERY:  Precipitation amount in Zollikofen October 6, 2021 20h\n",
      "QUERY:  temperature in Zollikofen October 6, 2021 20h\n",
      "QUERY:  humidity in Zollikofen October 6, 2021 20h\n",
      "QUERY:  wind speed in Zollikofen October 6, 2021 20h\n",
      "QUERY:  Moon Phase calculatorOctober 6, 2021 20h\n",
      "(141, 7)\n"
     ]
    },
    {
     "data": {
      "text/html": [
       "<div>\n",
       "<style scoped>\n",
       "    .dataframe tbody tr th:only-of-type {\n",
       "        vertical-align: middle;\n",
       "    }\n",
       "\n",
       "    .dataframe tbody tr th {\n",
       "        vertical-align: top;\n",
       "    }\n",
       "\n",
       "    .dataframe thead th {\n",
       "        text-align: right;\n",
       "    }\n",
       "</style>\n",
       "<table border=\"1\" class=\"dataframe\">\n",
       "  <thead>\n",
       "    <tr style=\"text-align: right;\">\n",
       "      <th></th>\n",
       "      <th>date</th>\n",
       "      <th>temperature</th>\n",
       "      <th>humidity</th>\n",
       "      <th>wind speed</th>\n",
       "      <th>Precipitation amount</th>\n",
       "      <th>Moon Phase calculator</th>\n",
       "      <th>query</th>\n",
       "    </tr>\n",
       "  </thead>\n",
       "  <tbody>\n",
       "    <tr>\n",
       "      <th>8</th>\n",
       "      <td>2021-10-06 19:00:00</td>\n",
       "      <td>9 °C\\n(7:00 pm CEST | Wednesday, October 6, 2021)</td>\n",
       "      <td>average: 90% (87 to 93%)\\n(7:00 pm CEST | Wedn...</td>\n",
       "      <td>2 m/s\\n(7:00 pm CEST | Wednesday, October 6, 2...</td>\n",
       "      <td>no precipitation\\n(7:00 pm CEST | Wednesday, O...</td>\n",
       "      <td>| new moon\\n0.19% illuminated</td>\n",
       "      <td>Moon Phase calculatorOctober 6, 2021 19h</td>\n",
       "    </tr>\n",
       "    <tr>\n",
       "      <th>9</th>\n",
       "      <td>2021-10-06 20:00:00</td>\n",
       "      <td>9 °C\\n(8:00 pm CEST | Wednesday, October 6, 2021)</td>\n",
       "      <td>average: 87% (87%)\\n(8:00 pm CEST | Wednesday,...</td>\n",
       "      <td>2 m/s\\n(8:00 pm CEST | Wednesday, October 6, 2...</td>\n",
       "      <td>no precipitation\\n(8:00 pm CEST | Wednesday, O...</td>\n",
       "      <td>| new moon\\n0.22% illuminated</td>\n",
       "      <td>Moon Phase calculatorOctober 6, 2021 20h</td>\n",
       "    </tr>\n",
       "  </tbody>\n",
       "</table>\n",
       "</div>"
      ],
      "text/plain": [
       "                 date                                        temperature  \\\n",
       "8 2021-10-06 19:00:00  9 °C\\n(7:00 pm CEST | Wednesday, October 6, 2021)   \n",
       "9 2021-10-06 20:00:00  9 °C\\n(8:00 pm CEST | Wednesday, October 6, 2021)   \n",
       "\n",
       "                                            humidity  \\\n",
       "8  average: 90% (87 to 93%)\\n(7:00 pm CEST | Wedn...   \n",
       "9  average: 87% (87%)\\n(8:00 pm CEST | Wednesday,...   \n",
       "\n",
       "                                          wind speed  \\\n",
       "8  2 m/s\\n(7:00 pm CEST | Wednesday, October 6, 2...   \n",
       "9  2 m/s\\n(8:00 pm CEST | Wednesday, October 6, 2...   \n",
       "\n",
       "                                Precipitation amount  \\\n",
       "8  no precipitation\\n(7:00 pm CEST | Wednesday, O...   \n",
       "9  no precipitation\\n(8:00 pm CEST | Wednesday, O...   \n",
       "\n",
       "           Moon Phase calculator                                     query  \n",
       "8  | new moon\\n0.19% illuminated  Moon Phase calculatorOctober 6, 2021 19h  \n",
       "9  | new moon\\n0.22% illuminated  Moon Phase calculatorOctober 6, 2021 20h  "
      ]
     },
     "metadata": {},
     "output_type": "display_data"
    },
    {
     "name": "stderr",
     "output_type": "stream",
     "text": [
      "\r",
      "  2%|█▍                                                                          | 141/7321 [44:06<27:29:14, 13.78s/it]"
     ]
    },
    {
     "name": "stdout",
     "output_type": "stream",
     "text": [
      "QUERY:  Precipitation amount in Zollikofen October 6, 2021 21h\n",
      "QUERY:  temperature in Zollikofen October 6, 2021 21h\n",
      "QUERY:  humidity in Zollikofen October 6, 2021 21h\n",
      "QUERY:  wind speed in Zollikofen October 6, 2021 21h\n",
      "QUERY:  Moon Phase calculatorOctober 6, 2021 21h\n"
     ]
    },
    {
     "name": "stderr",
     "output_type": "stream",
     "text": [
      "\r",
      "  2%|█▍                                                                          | 142/7321 [44:19<27:09:43, 13.62s/it]"
     ]
    },
    {
     "name": "stdout",
     "output_type": "stream",
     "text": [
      "QUERY:  Precipitation amount in Zollikofen October 6, 2021 22h\n",
      "QUERY:  temperature in Zollikofen October 6, 2021 22h\n",
      "QUERY:  humidity in Zollikofen October 6, 2021 22h\n",
      "QUERY:  wind speed in Zollikofen October 6, 2021 22h\n",
      "QUERY:  Moon Phase calculatorOctober 6, 2021 22h\n"
     ]
    },
    {
     "name": "stderr",
     "output_type": "stream",
     "text": [
      "\r",
      "  2%|█▍                                                                          | 143/7321 [44:33<27:16:28, 13.68s/it]"
     ]
    },
    {
     "name": "stdout",
     "output_type": "stream",
     "text": [
      "QUERY:  Precipitation amount in Zollikofen October 6, 2021 23h\n",
      "QUERY:  temperature in Zollikofen October 6, 2021 23h\n",
      "QUERY:  humidity in Zollikofen October 6, 2021 23h\n",
      "QUERY:  wind speed in Zollikofen October 6, 2021 23h\n",
      "QUERY:  Moon Phase calculatorOctober 6, 2021 23h\n"
     ]
    },
    {
     "name": "stderr",
     "output_type": "stream",
     "text": [
      "\r",
      "  2%|█▍                                                                          | 144/7321 [44:46<27:05:42, 13.59s/it]"
     ]
    },
    {
     "name": "stdout",
     "output_type": "stream",
     "text": [
      "QUERY:  Precipitation amount in Zollikofen October 7, 2021 0h\n",
      "QUERY:  temperature in Zollikofen October 7, 2021 0h\n",
      "QUERY:  humidity in Zollikofen October 7, 2021 0h\n",
      "QUERY:  wind speed in Zollikofen October 7, 2021 0h\n",
      "QUERY:  Moon Phase calculatorOctober 7, 2021 0h\n"
     ]
    },
    {
     "name": "stderr",
     "output_type": "stream",
     "text": [
      "\r",
      "  2%|█▌                                                                          | 145/7321 [45:00<27:08:03, 13.61s/it]"
     ]
    },
    {
     "name": "stdout",
     "output_type": "stream",
     "text": [
      "QUERY:  Precipitation amount in Zollikofen October 7, 2021 1h\n",
      "QUERY:  temperature in Zollikofen October 7, 2021 1h\n",
      "QUERY:  humidity in Zollikofen October 7, 2021 1h\n",
      "QUERY:  wind speed in Zollikofen October 7, 2021 1h\n",
      "QUERY:  Moon Phase calculatorOctober 7, 2021 1h\n"
     ]
    },
    {
     "name": "stderr",
     "output_type": "stream",
     "text": [
      "\r",
      "  2%|█▌                                                                          | 146/7321 [45:15<28:11:49, 14.15s/it]"
     ]
    },
    {
     "name": "stdout",
     "output_type": "stream",
     "text": [
      "QUERY:  Precipitation amount in Zollikofen October 7, 2021 2h\n",
      "QUERY:  temperature in Zollikofen October 7, 2021 2h\n",
      "QUERY:  humidity in Zollikofen October 7, 2021 2h\n",
      "QUERY:  wind speed in Zollikofen October 7, 2021 2h\n",
      "QUERY:  Moon Phase calculatorOctober 7, 2021 2h\n"
     ]
    },
    {
     "name": "stderr",
     "output_type": "stream",
     "text": [
      "\r",
      "  2%|█▌                                                                          | 147/7321 [45:32<30:07:30, 15.12s/it]"
     ]
    },
    {
     "name": "stdout",
     "output_type": "stream",
     "text": [
      "QUERY:  Precipitation amount in Zollikofen October 7, 2021 3h\n",
      "QUERY:  temperature in Zollikofen October 7, 2021 3h\n",
      "QUERY:  humidity in Zollikofen October 7, 2021 3h\n",
      "QUERY:  wind speed in Zollikofen October 7, 2021 3h\n",
      "QUERY:  Moon Phase calculatorOctober 7, 2021 3h\n"
     ]
    },
    {
     "name": "stderr",
     "output_type": "stream",
     "text": [
      "\r",
      "  2%|█▌                                                                          | 148/7321 [45:53<33:24:33, 16.77s/it]"
     ]
    },
    {
     "name": "stdout",
     "output_type": "stream",
     "text": [
      "QUERY:  Precipitation amount in Zollikofen October 7, 2021 4h\n",
      "QUERY:  temperature in Zollikofen October 7, 2021 4h\n"
     ]
    }
   ],
   "source": [
    "#not same as : https://weather.plus/observations-weather-station.php?dest=Bern-Zollikofen&id=066310&type=synop&day=20200713, our\n",
    "#results are less consistent :( \n",
    "#ATTENTION: monthly api calls limited to 2'000\n",
    "#if not working, save query and results: \"ERROR\", but continue the other query from the same date\n",
    "#open if exist\n",
    "li_df = []\n",
    "for i,d in enumerate(tqdm.tqdm(Daterange)):\n",
    "    now_ = dt.datetime.now()\n",
    "    #dont get the data in advance\n",
    "    if d<now_:      \n",
    "        dico = {'date':d}\n",
    "        for type_ in li_type:\n",
    "            try:                    \n",
    "                query = '%s in Zollikofen '%type_+d.strftime('%B')+' '+str(d.day)+', '+str(d.year)+' '+str(d.hour)+'h'\n",
    "                if type_=='Moon Phase calculator':\n",
    "                    query = type_+d.strftime('%B')+' '+str(d.day)+', '+str(d.year)+' '+str(d.hour)+'h'                    \n",
    "                print('QUERY: ',query)\n",
    "                dico['query'] = query\n",
    "                res = client.query(query)\n",
    "                for t in res.results:\n",
    "                    if 'no data available' in t.text:\n",
    "                        print('ERROR: no data available------------- ', query)\n",
    "                        error\n",
    "                    dico[type_] = t.text\n",
    "            except Exception as e:\n",
    "                print('ERROR:-------------', e, ' ---------- ', query)\n",
    "                dico[type_] = 'ERROR'\n",
    "        li_df.append(dico)\n",
    "        dico = {}\n",
    "        if i%10==0:\n",
    "            df_ = pd.DataFrame(li_df)\n",
    "            df = pd.concat([df,df_])\n",
    "            df.to_csv(path_weather, index=False, sep=';')\n",
    "            li_df = []\n",
    "            print(df.shape)\n",
    "            display(df.tail(2))\n",
    "df_ = pd.DataFrame(li_df)\n",
    "df = pd.concat([df,df_])\n",
    "df.to_csv(path_weather, index=False, sep=';')\n",
    "print(df.shape)\n",
    "display(df.tail(2))"
   ]
  },
  {
   "cell_type": "code",
   "execution_count": null,
   "metadata": {},
   "outputs": [],
   "source": [
    "print(df[df.isin([\"ERROR\"]).any(axis=1)].shape)\n",
    "df[df.isin([\"ERROR\"]).any(axis=1)]"
   ]
  },
  {
   "cell_type": "markdown",
   "metadata": {},
   "source": [
    "df['day'] = df['date'].map(lambda x: dt.datetime.date(x))\n",
    "df['day'].value_counts()"
   ]
  },
  {
   "cell_type": "markdown",
   "metadata": {},
   "source": [
    "#add lune to weather data\n",
    "#dico_d_m = {}\n",
    "for d in tqdm.tqdm(Daterange):\n",
    "    now_ = dt.datetime.now()\n",
    "    #dont get the data in advance\n",
    "    if d<now_:   \n",
    "        if d not in dico_d_m:\n",
    "            try:\n",
    "                query = 'Moon Phase calculator'+d.strftime('%B')+' '+str(d.day)+', '+str(d.year)+' '+str(d.hour)+'h'\n",
    "                res = client.query(query) \n",
    "                for t in res.results:\n",
    "                    dico_d_m[d] = t.text.strip('|').strip(' ')\n",
    "            except Exception as e:\n",
    "                print('ERROR')\n",
    "                print(e)\n",
    "#df['Moon Phase calculator'] = df['date'].map(lambda x: dico_d_m.get(x, 'ERROR'))\n",
    "#print(df[df['Moonphase']=='ERROR'].shape)\n",
    "df"
   ]
  },
  {
   "cell_type": "markdown",
   "metadata": {},
   "source": [
    "df = df.drop(['MoonName','Moon Phase calculator'],axis=1)"
   ]
  },
  {
   "cell_type": "markdown",
   "metadata": {},
   "source": [
    "# Process"
   ]
  },
  {
   "cell_type": "code",
   "execution_count": null,
   "metadata": {},
   "outputs": [],
   "source": [
    "#add weather as environemntal factor\n",
    "path_ = r'C:\\Users\\camil\\Desktop\\vm_exchange\\PhD_Data\\Weather'\n",
    "path_weather = os.path.join(path_,'weather_exp2.csv')\n",
    "df_weather = pd.read_csv(path_weather, sep=';', parse_dates=['date'])\n",
    "df_weather = df_weather.drop_duplicates(subset=None, keep='first', inplace=False)\n",
    "#remove excpetions\n",
    "x = ', 1, 0,  , °, C, \\n, (, 1, 2, :, 0, 0,  , a, m,  , C, E, T , | , F, r, i, d, a, y, ,,  , O, c, t, o, b, e, r,  , 3, 0, ,,  , 2, 0, 2, 0, ),'\n",
    "df_weather['temperature'] = df_weather['temperature'].replace(x, x.replace(', ',''))\n",
    "x = '3×10^0 m/s\\n(1:00 pm CET | Sunday, January 10, 2021)'\n",
    "df_weather['wind speed'] = df_weather['wind speed'].replace(x, 'ERROR')\n",
    "#remove the rows with at least one error\n",
    "df_weather = df_weather[~df_weather.isin([\"ERROR\"]).any(axis=1)]\n",
    "#date\n",
    "df_weather.rename(columns={'date':'Timestamp'}, inplace=True)\n",
    "df_weather['date'] = df_weather['Timestamp'].map(lambda x: dt.datetime(x.year,x.month,x.day))\n",
    "df_weather['hour'] = df_weather['Timestamp'].map(lambda x: x.hour)\n",
    "#add usefull variable\n",
    "df_weather['temperature_C'] = df_weather['temperature'].map(lambda x: int(x.split('\\n')[0].split(' ')[0]))\n",
    "df_weather['wind_speed_mpers'] = df_weather['wind speed'].map(lambda x: int(x.split('\\n')[0].split(' ')[0]))\n",
    "df_weather['humidity_avgpercent'] = df_weather['humidity'].map(lambda x: int(x.split('%')[0].split(' ')[-1].strip()))\n",
    "df_weather['rain'] = df_weather['Precipitation amount'].map(lambda x: x.split('\\n')[0])\n",
    "df_weather['rain'] = df_weather['rain'].replace('rain | snow','snow | rain')\n",
    "df_weather.to_csv(os.path.join(path_,'Weather_process_exp2.csv'), index=False, sep=';')\n",
    "print(df_weather.shape)\n",
    "df_weather.head(3)"
   ]
  },
  {
   "cell_type": "code",
   "execution_count": null,
   "metadata": {},
   "outputs": [],
   "source": [
    "df_weather['MoonName'] = df_weather['Moon Phase calculator'].map(lambda x: x.strip('|').strip(' ').split('\\n')[0] if x!='ERROR' else 'ERROR')\n",
    "df_weather['Illumination_percentage'] = df_weather['Moon Phase calculator'].map(lambda x: float(x.strip('|').strip(' ').split('\\n')[1].replace(' illuminated','').strip('%').strip(' ')) if x!='ERROR' else 'ERROR')\n",
    "#print(df['MoaonName'].value_counts())\n",
    "#df['Illumination_percentage'].value_counts()\n",
    "\n",
    "dico_CD = {'ERROR':'ERROR', \n",
    "           'first quarter moon':'LC', \n",
    "           'full moon':'Lchangement', \n",
    "           'last quarter moon':'DC',\n",
    "           'new moon':'Lchangement', \n",
    "           'waning crescent moon':'DC', \n",
    "           'waning gibbous moon':'DC',\n",
    "           'waxing crescent moon':'LC', \n",
    "           'waxing gibbous moon':'LC'}\n",
    "#it seems that the order of the events are as follow:\n",
    "#full moon, waning gibbous moon, last quarter moon, waning crescent moon, \n",
    "#new moon, waxing crescent moon, first quarter moon, waxing gibbous moon,\n",
    "#full moon,...\n",
    "#defintion: De la Nouvelle Lune (éclat minimum) à la Pleine Lune (éclat maximum) on dit que la Lune est Croissante car \n",
    "#sa partie éclairée grossit de jour en jour. De la Pleine Lune à la Nouvelle Lune, on dit que la Lune est Décroissante.\n",
    "df_weather['croissant_decroissant'] = df_weather['MoonName'].map(lambda x: dico_CD[x])\n",
    "#lucie ascendatne et descendante n'est pas indiqué ici.\n",
    "df_weather.head(3)"
   ]
  },
  {
   "cell_type": "code",
   "execution_count": null,
   "metadata": {},
   "outputs": [],
   "source": [
    "df_weather['croissant_decroissant'].value_counts()"
   ]
  },
  {
   "cell_type": "code",
   "execution_count": null,
   "metadata": {},
   "outputs": [],
   "source": [
    "#to get a general udnerstanding of the data\n",
    "df_moon = df_weather.groupby(['MoonName'])['Illumination_percentage'].agg(lambda x: list(x)).reset_index()\n",
    "df_moon['min_illumination'] = df_moon['Illumination_percentage'].map(lambda x: min(x) if x!='ERROR' else 'ERROR' )\n",
    "df_moon['max_illumination'] = df_moon['Illumination_percentage'].map(lambda x: max(x) if x!='ERROR' else 'ERROR' )\n",
    "df_moon"
   ]
  },
  {
   "cell_type": "code",
   "execution_count": null,
   "metadata": {},
   "outputs": [],
   "source": [
    "df_weather['query'].iloc[0]"
   ]
  },
  {
   "cell_type": "code",
   "execution_count": null,
   "metadata": {},
   "outputs": [],
   "source": [
    "df_daily_weather = df_weather[df_weather['hour'].isin([10,11,12,13,14,15,16,17])].copy()\n",
    "df_daily_weather = df_daily_weather.groupby(['date']).agg(\n",
    "    temperature_C=pd.NamedAgg(column='temperature_C', aggfunc=lambda x: np.mean(x)),\n",
    "    humidity_avgpercent=pd.NamedAgg(column='humidity_avgpercent', aggfunc=lambda x: np.mean(x)),\n",
    "    had_rainorsnow=pd.NamedAgg(column='rain', aggfunc=lambda x: int(all([i=='no precipitation' for i in x]))),\n",
    "    moon_name=pd.NamedAgg(column='MoonName', aggfunc=lambda x: list(x)[0]),\n",
    "    Illumination_percentage=pd.NamedAgg(column='Illumination_percentage', aggfunc=lambda x: np.mean(x))).reset_index()\n",
    "df_daily_weather.to_csv(os.path.join(path_,'df_daily_weather_exp2.csv'), index=False, sep=';')\n",
    "print(df_daily_weather.shape)\n",
    "df_daily_weather.head(3)"
   ]
  },
  {
   "cell_type": "code",
   "execution_count": null,
   "metadata": {},
   "outputs": [],
   "source": [
    "df_daily_weather.groupby(['had_rainorsnow'])['humidity_avgpercent'].agg(lambda x: np.mean(x))"
   ]
  },
  {
   "cell_type": "code",
   "execution_count": null,
   "metadata": {},
   "outputs": [],
   "source": []
  },
  {
   "cell_type": "code",
   "execution_count": null,
   "metadata": {},
   "outputs": [],
   "source": []
  },
  {
   "cell_type": "code",
   "execution_count": null,
   "metadata": {},
   "outputs": [],
   "source": []
  },
  {
   "cell_type": "code",
   "execution_count": null,
   "metadata": {},
   "outputs": [],
   "source": []
  },
  {
   "cell_type": "code",
   "execution_count": null,
   "metadata": {},
   "outputs": [],
   "source": []
  },
  {
   "cell_type": "code",
   "execution_count": null,
   "metadata": {},
   "outputs": [],
   "source": []
  },
  {
   "cell_type": "code",
   "execution_count": null,
   "metadata": {},
   "outputs": [],
   "source": []
  }
 ],
 "metadata": {
  "kernelspec": {
   "display_name": "Python 3 (ipykernel)",
   "language": "python",
   "name": "python3"
  },
  "language_info": {
   "codemirror_mode": {
    "name": "ipython",
    "version": 3
   },
   "file_extension": ".py",
   "mimetype": "text/x-python",
   "name": "python",
   "nbconvert_exporter": "python",
   "pygments_lexer": "ipython3",
   "version": "3.8.12"
  }
 },
 "nbformat": 4,
 "nbformat_minor": 2
}
