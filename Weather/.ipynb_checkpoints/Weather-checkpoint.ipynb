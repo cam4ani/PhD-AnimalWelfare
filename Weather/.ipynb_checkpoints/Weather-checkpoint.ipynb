{
 "cells": [
  {
   "cell_type": "code",
   "execution_count": 1,
   "metadata": {},
   "outputs": [],
   "source": [
    "#!pip install wolframalpha\n",
    "import datetime as dt\n",
    "import tqdm\n",
    "import os\n",
    "import pandas as pd\n",
    "import glob\n",
    "import numpy as np\n",
    "import sys\n",
    "\n",
    "import wolframalpha\n",
    "app_id = 'JU4PR2-E8JGQVLHXW'\n",
    "client = wolframalpha.Client(app_id)"
   ]
  },
  {
   "cell_type": "code",
   "execution_count": 2,
   "metadata": {},
   "outputs": [
    {
     "name": "stdout",
     "output_type": "stream",
     "text": [
      "3.8.5\n"
     ]
    }
   ],
   "source": [
    "from platform import python_version\n",
    "print(python_version())"
   ]
  },
  {
   "cell_type": "raw",
   "metadata": {},
   "source": [
    "To verify moon data:\n",
    "https://www.calendrier-lunaire.fr/calendrier/octobre-2020/\n",
    "https://www.pleine-lune.org/calendrier-lunaire-2020\n",
    "https://www.timeanddate.com/astronomy/moon/waning-crescent.html"
   ]
  },
  {
   "cell_type": "raw",
   "metadata": {},
   "source": [
    "#url parameter:\n",
    "#https://products.wolframalpha.com/simple-api/documentation/\n",
    "#http://api.wolframalpha.com/v2/query?appid=DEMO&input=population%20france&includepodid=Result\n",
    "http://api.wolframalpha.com/v2/query?appid=JU4PR2-E8JGQVLHXW&input=temperature%20Zollikofen&includepodid=Result"
   ]
  },
  {
   "cell_type": "markdown",
   "metadata": {},
   "source": [
    "#small example\n",
    "query = 'Precipitation amount in Zollikofen on October 6, 2020 1h'\n",
    "res = client.query(query)\n",
    "for t in res.results:\n",
    "    print(t.text)"
   ]
  },
  {
   "cell_type": "markdown",
   "metadata": {},
   "source": [
    "#small example\n",
    "query = 'Precipitation amount in Zollikofen '+d.strftime('%B')+' '+str(d.day)+', '+str(d.year)+' '+str(d.hour)+'h'\n",
    "res = client.query(query)\n",
    "for t in res.results:\n",
    "    print(t.text)"
   ]
  },
  {
   "cell_type": "markdown",
   "metadata": {},
   "source": [
    "#small example\n",
    "d = dt.datetime(2020,1,24,22,44,11)\n",
    "query = 'Moon Phase calculator'+d.strftime('%B')+' '+str(d.day)+', '+str(d.year)+' '+str(d.hour)+'h'\n",
    "res = client.query(query)\n",
    "r = ''\n",
    "for t in res.results:\n",
    "    print(t.text.strip('|').strip(' '))\n",
    "#for verification\n",
    "#https://www.pleine-lune.org/calendrier-lunaire-2020\n",
    "#res"
   ]
  },
  {
   "cell_type": "code",
   "execution_count": 3,
   "metadata": {},
   "outputs": [],
   "source": [
    "li_type = ['Precipitation amount', 'temperature', 'humidity', 'wind speed','Moon Phase calculator'] #pressure\n",
    "#path_ = r'D:\\vm_exchange\\PhD_Data\\Weather'\n",
    "path_ = r'C:\\Users\\camil\\Desktop\\vm_exchange\\PhD_Data\\Weather'"
   ]
  },
  {
   "cell_type": "code",
   "execution_count": 4,
   "metadata": {},
   "outputs": [
    {
     "name": "stdout",
     "output_type": "stream",
     "text": [
      "(6587, 7)\n",
      "We already have 6587 dates of weather\n",
      "(71, 7)\n"
     ]
    },
    {
     "data": {
      "text/html": [
       "<div>\n",
       "<style scoped>\n",
       "    .dataframe tbody tr th:only-of-type {\n",
       "        vertical-align: middle;\n",
       "    }\n",
       "\n",
       "    .dataframe tbody tr th {\n",
       "        vertical-align: top;\n",
       "    }\n",
       "\n",
       "    .dataframe thead th {\n",
       "        text-align: right;\n",
       "    }\n",
       "</style>\n",
       "<table border=\"1\" class=\"dataframe\">\n",
       "  <thead>\n",
       "    <tr style=\"text-align: right;\">\n",
       "      <th></th>\n",
       "      <th>date</th>\n",
       "      <th>temperature</th>\n",
       "      <th>humidity</th>\n",
       "      <th>wind speed</th>\n",
       "      <th>Precipitation amount</th>\n",
       "      <th>query</th>\n",
       "      <th>Moon Phase calculator</th>\n",
       "    </tr>\n",
       "  </thead>\n",
       "  <tbody>\n",
       "    <tr>\n",
       "      <th>6136</th>\n",
       "      <td>2020-11-05 22:00:00</td>\n",
       "      <td>8 °C\\n(10:00 pm CET | Thursday, November 5, 2020)</td>\n",
       "      <td>ERROR</td>\n",
       "      <td>1 m/s\\n(10:00 pm CET | Thursday, November 5, 2...</td>\n",
       "      <td>(unknown)\\n(10:00 pm CET | Thursday, November ...</td>\n",
       "      <td>Moon Phase calculatorNovember 5, 2020 22h</td>\n",
       "      <td>| waning gibbous moon\\n76.55% illuminated</td>\n",
       "    </tr>\n",
       "    <tr>\n",
       "      <th>6137</th>\n",
       "      <td>2020-11-16 19:00:00</td>\n",
       "      <td>7 °C\\n(7:00 pm CET | Monday, November 16, 2020)</td>\n",
       "      <td>ERROR</td>\n",
       "      <td>1 m/s\\n(7:00 pm CET | Monday, November 16, 2020)</td>\n",
       "      <td>(unknown)\\n(7:00 pm CET | Monday, November 16,...</td>\n",
       "      <td>Moon Phase calculatorNovember 16, 2020 19h</td>\n",
       "      <td>| waxing crescent moon\\n3.48% illuminated</td>\n",
       "    </tr>\n",
       "    <tr>\n",
       "      <th>6138</th>\n",
       "      <td>2020-11-16 21:00:00</td>\n",
       "      <td>5 °C\\n(9:00 pm CET | Monday, November 16, 2020)</td>\n",
       "      <td>ERROR</td>\n",
       "      <td>0 m/s\\n(9:00 pm CET | Monday, November 16, 2020)</td>\n",
       "      <td>(unknown)\\n(9:00 pm CET | Monday, November 16,...</td>\n",
       "      <td>Moon Phase calculatorNovember 16, 2020 21h</td>\n",
       "      <td>| waxing crescent moon\\n3.86% illuminated</td>\n",
       "    </tr>\n",
       "    <tr>\n",
       "      <th>6139</th>\n",
       "      <td>2020-12-15 21:00:00</td>\n",
       "      <td>4 °C\\n(9:00 pm CET | Tuesday, December 15, 2020)</td>\n",
       "      <td>ERROR</td>\n",
       "      <td>1 m/s\\n(9:00 pm CET | Tuesday, December 15, 2020)</td>\n",
       "      <td>(unknown)\\n(9:00 pm CET | Tuesday, December 15...</td>\n",
       "      <td>Moon Phase calculatorDecember 15, 2020 21h</td>\n",
       "      <td>| waxing crescent moon\\n1.86% illuminated</td>\n",
       "    </tr>\n",
       "    <tr>\n",
       "      <th>6140</th>\n",
       "      <td>2021-02-08 17:00:00</td>\n",
       "      <td>5 °C\\n(5:00 pm CET | Monday, February 8, 2021)</td>\n",
       "      <td>ERROR</td>\n",
       "      <td>5 m/s\\n(5:00 pm CET | Monday, February 8, 2021)</td>\n",
       "      <td>(unknown)\\n(5:00 pm CET | Monday, February 8, ...</td>\n",
       "      <td>Moon Phase calculatorFebruary 8, 2021 17h</td>\n",
       "      <td>| waning crescent moon\\n11.27% illuminated</td>\n",
       "    </tr>\n",
       "    <tr>\n",
       "      <th>...</th>\n",
       "      <td>...</td>\n",
       "      <td>...</td>\n",
       "      <td>...</td>\n",
       "      <td>...</td>\n",
       "      <td>...</td>\n",
       "      <td>...</td>\n",
       "      <td>...</td>\n",
       "    </tr>\n",
       "    <tr>\n",
       "      <th>6228</th>\n",
       "      <td>2021-06-15 12:00:00</td>\n",
       "      <td>26 °C\\n(12:00 pm CEST | Tuesday, June 15, 2021)</td>\n",
       "      <td>ERROR</td>\n",
       "      <td>2 m/s\\n(12:00 pm CEST | Tuesday, June 15, 2021)</td>\n",
       "      <td>no precipitation\\n(12:00 pm CEST | Tuesday, Ju...</td>\n",
       "      <td>Moon Phase calculatorJune 15, 2021 12h</td>\n",
       "      <td>| waxing crescent moon\\n22.45% illuminated</td>\n",
       "    </tr>\n",
       "    <tr>\n",
       "      <th>6269</th>\n",
       "      <td>2021-06-17 05:00:00</td>\n",
       "      <td>ERROR</td>\n",
       "      <td>average: 94% (94%)\\n(5:00 am CEST | Thursday, ...</td>\n",
       "      <td>1 m/s\\n(5:00 am CEST | Thursday, June 17, 2021)</td>\n",
       "      <td>no precipitation\\n(5:00 am CEST | Thursday, Ju...</td>\n",
       "      <td>Moon Phase calculatorJune 17, 2021 5h</td>\n",
       "      <td>| waxing crescent moon\\n38.91% illuminated</td>\n",
       "    </tr>\n",
       "    <tr>\n",
       "      <th>6368</th>\n",
       "      <td>2021-06-21 08:00:00</td>\n",
       "      <td>17 °C\\n(8:00 am CEST | Monday, June 21, 2021)</td>\n",
       "      <td>ERROR</td>\n",
       "      <td>1 m/s\\n(8:00 am CEST | Monday, June 21, 2021)</td>\n",
       "      <td>no precipitation\\n(8:00 am CEST | Monday, June...</td>\n",
       "      <td>Moon Phase calculatorJune 21, 2021 8h</td>\n",
       "      <td>| waxing gibbous moon\\n82.73% illuminated</td>\n",
       "    </tr>\n",
       "    <tr>\n",
       "      <th>6390</th>\n",
       "      <td>2021-06-22 06:00:00</td>\n",
       "      <td>15 °C\\n(6:00 am CEST | Tuesday, June 22, 2021)</td>\n",
       "      <td>ERROR</td>\n",
       "      <td>1 m/s\\n(6:00 am CEST | Tuesday, June 22, 2021)</td>\n",
       "      <td>no precipitation\\n(6:00 am CEST | Tuesday, Jun...</td>\n",
       "      <td>Moon Phase calculatorJune 22, 2021 6h</td>\n",
       "      <td>| waxing gibbous moon\\n90.22% illuminated</td>\n",
       "    </tr>\n",
       "    <tr>\n",
       "      <th>6545</th>\n",
       "      <td>2021-06-28 17:00:00</td>\n",
       "      <td>18 °C\\n(5:00 pm CEST | Monday, June 28, 2021)</td>\n",
       "      <td>ERROR</td>\n",
       "      <td>4 m/s\\n(5:00 pm CEST | Monday, June 28, 2021)</td>\n",
       "      <td>no precipitation\\n(5:00 pm CEST | Monday, June...</td>\n",
       "      <td>Moon Phase calculatorJune 28, 2021 17h</td>\n",
       "      <td>| waning gibbous moon\\n81.23% illuminated</td>\n",
       "    </tr>\n",
       "  </tbody>\n",
       "</table>\n",
       "<p>71 rows × 7 columns</p>\n",
       "</div>"
      ],
      "text/plain": [
       "                    date                                        temperature  \\\n",
       "6136 2020-11-05 22:00:00  8 °C\\n(10:00 pm CET | Thursday, November 5, 2020)   \n",
       "6137 2020-11-16 19:00:00    7 °C\\n(7:00 pm CET | Monday, November 16, 2020)   \n",
       "6138 2020-11-16 21:00:00    5 °C\\n(9:00 pm CET | Monday, November 16, 2020)   \n",
       "6139 2020-12-15 21:00:00   4 °C\\n(9:00 pm CET | Tuesday, December 15, 2020)   \n",
       "6140 2021-02-08 17:00:00     5 °C\\n(5:00 pm CET | Monday, February 8, 2021)   \n",
       "...                  ...                                                ...   \n",
       "6228 2021-06-15 12:00:00    26 °C\\n(12:00 pm CEST | Tuesday, June 15, 2021)   \n",
       "6269 2021-06-17 05:00:00                                              ERROR   \n",
       "6368 2021-06-21 08:00:00      17 °C\\n(8:00 am CEST | Monday, June 21, 2021)   \n",
       "6390 2021-06-22 06:00:00     15 °C\\n(6:00 am CEST | Tuesday, June 22, 2021)   \n",
       "6545 2021-06-28 17:00:00      18 °C\\n(5:00 pm CEST | Monday, June 28, 2021)   \n",
       "\n",
       "                                               humidity  \\\n",
       "6136                                              ERROR   \n",
       "6137                                              ERROR   \n",
       "6138                                              ERROR   \n",
       "6139                                              ERROR   \n",
       "6140                                              ERROR   \n",
       "...                                                 ...   \n",
       "6228                                              ERROR   \n",
       "6269  average: 94% (94%)\\n(5:00 am CEST | Thursday, ...   \n",
       "6368                                              ERROR   \n",
       "6390                                              ERROR   \n",
       "6545                                              ERROR   \n",
       "\n",
       "                                             wind speed  \\\n",
       "6136  1 m/s\\n(10:00 pm CET | Thursday, November 5, 2...   \n",
       "6137   1 m/s\\n(7:00 pm CET | Monday, November 16, 2020)   \n",
       "6138   0 m/s\\n(9:00 pm CET | Monday, November 16, 2020)   \n",
       "6139  1 m/s\\n(9:00 pm CET | Tuesday, December 15, 2020)   \n",
       "6140    5 m/s\\n(5:00 pm CET | Monday, February 8, 2021)   \n",
       "...                                                 ...   \n",
       "6228    2 m/s\\n(12:00 pm CEST | Tuesday, June 15, 2021)   \n",
       "6269    1 m/s\\n(5:00 am CEST | Thursday, June 17, 2021)   \n",
       "6368      1 m/s\\n(8:00 am CEST | Monday, June 21, 2021)   \n",
       "6390     1 m/s\\n(6:00 am CEST | Tuesday, June 22, 2021)   \n",
       "6545      4 m/s\\n(5:00 pm CEST | Monday, June 28, 2021)   \n",
       "\n",
       "                                   Precipitation amount  \\\n",
       "6136  (unknown)\\n(10:00 pm CET | Thursday, November ...   \n",
       "6137  (unknown)\\n(7:00 pm CET | Monday, November 16,...   \n",
       "6138  (unknown)\\n(9:00 pm CET | Monday, November 16,...   \n",
       "6139  (unknown)\\n(9:00 pm CET | Tuesday, December 15...   \n",
       "6140  (unknown)\\n(5:00 pm CET | Monday, February 8, ...   \n",
       "...                                                 ...   \n",
       "6228  no precipitation\\n(12:00 pm CEST | Tuesday, Ju...   \n",
       "6269  no precipitation\\n(5:00 am CEST | Thursday, Ju...   \n",
       "6368  no precipitation\\n(8:00 am CEST | Monday, June...   \n",
       "6390  no precipitation\\n(6:00 am CEST | Tuesday, Jun...   \n",
       "6545  no precipitation\\n(5:00 pm CEST | Monday, June...   \n",
       "\n",
       "                                           query  \\\n",
       "6136   Moon Phase calculatorNovember 5, 2020 22h   \n",
       "6137  Moon Phase calculatorNovember 16, 2020 19h   \n",
       "6138  Moon Phase calculatorNovember 16, 2020 21h   \n",
       "6139  Moon Phase calculatorDecember 15, 2020 21h   \n",
       "6140   Moon Phase calculatorFebruary 8, 2021 17h   \n",
       "...                                          ...   \n",
       "6228      Moon Phase calculatorJune 15, 2021 12h   \n",
       "6269       Moon Phase calculatorJune 17, 2021 5h   \n",
       "6368       Moon Phase calculatorJune 21, 2021 8h   \n",
       "6390       Moon Phase calculatorJune 22, 2021 6h   \n",
       "6545      Moon Phase calculatorJune 28, 2021 17h   \n",
       "\n",
       "                           Moon Phase calculator  \n",
       "6136   | waning gibbous moon\\n76.55% illuminated  \n",
       "6137   | waxing crescent moon\\n3.48% illuminated  \n",
       "6138   | waxing crescent moon\\n3.86% illuminated  \n",
       "6139   | waxing crescent moon\\n1.86% illuminated  \n",
       "6140  | waning crescent moon\\n11.27% illuminated  \n",
       "...                                          ...  \n",
       "6228  | waxing crescent moon\\n22.45% illuminated  \n",
       "6269  | waxing crescent moon\\n38.91% illuminated  \n",
       "6368   | waxing gibbous moon\\n82.73% illuminated  \n",
       "6390   | waxing gibbous moon\\n90.22% illuminated  \n",
       "6545   | waning gibbous moon\\n81.23% illuminated  \n",
       "\n",
       "[71 rows x 7 columns]"
      ]
     },
     "metadata": {},
     "output_type": "display_data"
    },
    {
     "name": "stdout",
     "output_type": "stream",
     "text": [
      "7369\n",
      "853\n",
      "WARNING: to many calls to be completed these queries!\n",
      "You need 4265 new queries to complete this date interval\n",
      "(6516, 7)\n"
     ]
    },
    {
     "data": {
      "text/html": [
       "<div>\n",
       "<style scoped>\n",
       "    .dataframe tbody tr th:only-of-type {\n",
       "        vertical-align: middle;\n",
       "    }\n",
       "\n",
       "    .dataframe tbody tr th {\n",
       "        vertical-align: top;\n",
       "    }\n",
       "\n",
       "    .dataframe thead th {\n",
       "        text-align: right;\n",
       "    }\n",
       "</style>\n",
       "<table border=\"1\" class=\"dataframe\">\n",
       "  <thead>\n",
       "    <tr style=\"text-align: right;\">\n",
       "      <th></th>\n",
       "      <th>date</th>\n",
       "      <th>temperature</th>\n",
       "      <th>humidity</th>\n",
       "      <th>wind speed</th>\n",
       "      <th>Precipitation amount</th>\n",
       "      <th>query</th>\n",
       "      <th>Moon Phase calculator</th>\n",
       "    </tr>\n",
       "  </thead>\n",
       "  <tbody>\n",
       "    <tr>\n",
       "      <th>6582</th>\n",
       "      <td>2021-06-30 06:00:00</td>\n",
       "      <td>12 °C\\n(6:00 am CEST | Wednesday, June 30, 2021)</td>\n",
       "      <td>average: 85% (77 to 94%)\\n(6:00 am CEST | Wedn...</td>\n",
       "      <td>2 m/s\\n(6:00 am CEST | Wednesday, June 30, 2021)</td>\n",
       "      <td>no precipitation\\n(6:00 am CEST | Wednesday, J...</td>\n",
       "      <td>Moon Phase calculatorJune 30, 2021 6h</td>\n",
       "      <td>| waning gibbous moon\\n67.05% illuminated</td>\n",
       "    </tr>\n",
       "    <tr>\n",
       "      <th>6583</th>\n",
       "      <td>2021-06-30 07:00:00</td>\n",
       "      <td>12 °C\\n(7:00 am CEST | Wednesday, June 30, 2021)</td>\n",
       "      <td>average: 85% (82 to 88%)\\n(7:00 am CEST | Wedn...</td>\n",
       "      <td>2 m/s\\n(7:00 am CEST | Wednesday, June 30, 2021)</td>\n",
       "      <td>no precipitation\\n(7:00 am CEST | Wednesday, J...</td>\n",
       "      <td>Moon Phase calculatorJune 30, 2021 7h</td>\n",
       "      <td>| waning gibbous moon\\n66.65% illuminated</td>\n",
       "    </tr>\n",
       "    <tr>\n",
       "      <th>6584</th>\n",
       "      <td>2021-06-30 08:00:00</td>\n",
       "      <td>13 °C\\n(8:00 am CEST | Wednesday, June 30, 2021)</td>\n",
       "      <td>average: 88% (88%)\\n(8:00 am CEST | Wednesday,...</td>\n",
       "      <td>2 m/s\\n(8:00 am CEST | Wednesday, June 30, 2021)</td>\n",
       "      <td>no precipitation\\n(8:00 am CEST | Wednesday, J...</td>\n",
       "      <td>Moon Phase calculatorJune 30, 2021 8h</td>\n",
       "      <td>| waning gibbous moon\\n66.24% illuminated</td>\n",
       "    </tr>\n",
       "    <tr>\n",
       "      <th>6585</th>\n",
       "      <td>2021-06-30 09:00:00</td>\n",
       "      <td>14 °C\\n(9:00 am CEST | Wednesday, June 30, 2021)</td>\n",
       "      <td>average: 70% (68 to 72%)\\n(9:00 am CEST | Wedn...</td>\n",
       "      <td>3 m/s\\n(9:00 am CEST | Wednesday, June 30, 2021)</td>\n",
       "      <td>no precipitation\\n(9:00 am CEST | Wednesday, J...</td>\n",
       "      <td>Moon Phase calculatorJune 30, 2021 9h</td>\n",
       "      <td>| waning gibbous moon\\n65.83% illuminated</td>\n",
       "    </tr>\n",
       "    <tr>\n",
       "      <th>6586</th>\n",
       "      <td>2021-06-30 10:00:00</td>\n",
       "      <td>15 °C\\n(10:00 am CEST | Wednesday, June 30, 2021)</td>\n",
       "      <td>average: 63% (63%)\\n(10:00 am CEST | Wednesday...</td>\n",
       "      <td>4 m/s\\n(10:00 am CEST | Wednesday, June 30, 2021)</td>\n",
       "      <td>no precipitation\\n(10:00 am CEST | Wednesday, ...</td>\n",
       "      <td>Moon Phase calculatorJune 30, 2021 10h</td>\n",
       "      <td>| waning gibbous moon\\n65.43% illuminated</td>\n",
       "    </tr>\n",
       "  </tbody>\n",
       "</table>\n",
       "</div>"
      ],
      "text/plain": [
       "                    date                                        temperature  \\\n",
       "6582 2021-06-30 06:00:00   12 °C\\n(6:00 am CEST | Wednesday, June 30, 2021)   \n",
       "6583 2021-06-30 07:00:00   12 °C\\n(7:00 am CEST | Wednesday, June 30, 2021)   \n",
       "6584 2021-06-30 08:00:00   13 °C\\n(8:00 am CEST | Wednesday, June 30, 2021)   \n",
       "6585 2021-06-30 09:00:00   14 °C\\n(9:00 am CEST | Wednesday, June 30, 2021)   \n",
       "6586 2021-06-30 10:00:00  15 °C\\n(10:00 am CEST | Wednesday, June 30, 2021)   \n",
       "\n",
       "                                               humidity  \\\n",
       "6582  average: 85% (77 to 94%)\\n(6:00 am CEST | Wedn...   \n",
       "6583  average: 85% (82 to 88%)\\n(7:00 am CEST | Wedn...   \n",
       "6584  average: 88% (88%)\\n(8:00 am CEST | Wednesday,...   \n",
       "6585  average: 70% (68 to 72%)\\n(9:00 am CEST | Wedn...   \n",
       "6586  average: 63% (63%)\\n(10:00 am CEST | Wednesday...   \n",
       "\n",
       "                                             wind speed  \\\n",
       "6582   2 m/s\\n(6:00 am CEST | Wednesday, June 30, 2021)   \n",
       "6583   2 m/s\\n(7:00 am CEST | Wednesday, June 30, 2021)   \n",
       "6584   2 m/s\\n(8:00 am CEST | Wednesday, June 30, 2021)   \n",
       "6585   3 m/s\\n(9:00 am CEST | Wednesday, June 30, 2021)   \n",
       "6586  4 m/s\\n(10:00 am CEST | Wednesday, June 30, 2021)   \n",
       "\n",
       "                                   Precipitation amount  \\\n",
       "6582  no precipitation\\n(6:00 am CEST | Wednesday, J...   \n",
       "6583  no precipitation\\n(7:00 am CEST | Wednesday, J...   \n",
       "6584  no precipitation\\n(8:00 am CEST | Wednesday, J...   \n",
       "6585  no precipitation\\n(9:00 am CEST | Wednesday, J...   \n",
       "6586  no precipitation\\n(10:00 am CEST | Wednesday, ...   \n",
       "\n",
       "                                       query  \\\n",
       "6582   Moon Phase calculatorJune 30, 2021 6h   \n",
       "6583   Moon Phase calculatorJune 30, 2021 7h   \n",
       "6584   Moon Phase calculatorJune 30, 2021 8h   \n",
       "6585   Moon Phase calculatorJune 30, 2021 9h   \n",
       "6586  Moon Phase calculatorJune 30, 2021 10h   \n",
       "\n",
       "                          Moon Phase calculator  \n",
       "6582  | waning gibbous moon\\n67.05% illuminated  \n",
       "6583  | waning gibbous moon\\n66.65% illuminated  \n",
       "6584  | waning gibbous moon\\n66.24% illuminated  \n",
       "6585  | waning gibbous moon\\n65.83% illuminated  \n",
       "6586  | waning gibbous moon\\n65.43% illuminated  "
      ]
     },
     "execution_count": 4,
     "metadata": {},
     "output_type": "execute_result"
    }
   ],
   "source": [
    "mi = dt.datetime(2020,9,29)\n",
    "#ma = dt.datetime(2019,9,2)\n",
    "ma = dt.datetime(2021,8,2)\n",
    "df = pd.DataFrame(columns=['date', 'temperature', 'humidity', 'wind speed', 'Precipitation amount',\n",
    "                           'Moon Phase calculator','query']) #pressure\n",
    "path_weather = os.path.join(path_,'weather.csv')\n",
    "if len(glob.glob(path_weather))==1:\n",
    "    df = pd.read_csv(path_weather, sep=';', parse_dates=['date'])\n",
    "    #remove the last date, in case we stop in middle of the data to grab\n",
    "    #df = df[df['date']!=max(df['date'].unique())]\n",
    "    df = df.drop_duplicates(subset=None, keep='first', inplace=False)\n",
    "    print(df.shape)\n",
    "    print('We already have %d dates of weather'%df.shape[0])\n",
    "    #mi = max(mi, max(df['date'].tolist())) #not a good idea in case of errors as in that case we would like to try it again \n",
    "print(df[df.isin([\"ERROR\"]).any(axis=1)].shape)\n",
    "display(df[df.isin([\"ERROR\"]).any(axis=1)])\n",
    "df = df[~df.isin([\"ERROR\"]).any(axis=1)]\n",
    "#remove the rows with at least one error\n",
    "Daterange = pd.date_range(start=mi, end=ma, freq='H')   \n",
    "print(len(Daterange))\n",
    "Daterange = [d for d in Daterange if d not in df['date'].unique()]\n",
    "print(len(Daterange))\n",
    "if (len(Daterange)*len(li_type))>=2000:\n",
    "    print('WARNING: to many calls to be completed these queries!')\n",
    "print('You need %d new queries to complete this date interval'%(len(Daterange)*len(li_type)))\n",
    "df = df.sort_values(['date'])\n",
    "print(df.shape)\n",
    "df.tail(5)"
   ]
  },
  {
   "cell_type": "code",
   "execution_count": 5,
   "metadata": {
    "scrolled": true
   },
   "outputs": [
    {
     "name": "stderr",
     "output_type": "stream",
     "text": [
      "\r",
      "  0%|                                                                                          | 0/853 [00:00<?, ?it/s]"
     ]
    },
    {
     "name": "stdout",
     "output_type": "stream",
     "text": [
      "QUERY:  Precipitation amount in Zollikofen November 5, 2020 22h\n",
      "QUERY:  temperature in Zollikofen November 5, 2020 22h\n",
      "QUERY:  humidity in Zollikofen November 5, 2020 22h\n",
      "ERROR: no data available-------------  humidity in Zollikofen November 5, 2020 22h\n",
      "ERROR:------------- name 'error' is not defined  ----------  humidity in Zollikofen November 5, 2020 22h\n",
      "QUERY:  wind speed in Zollikofen November 5, 2020 22h\n",
      "QUERY:  Moon Phase calculatorNovember 5, 2020 22h\n",
      "(6517, 7)\n"
     ]
    },
    {
     "data": {
      "text/html": [
       "<div>\n",
       "<style scoped>\n",
       "    .dataframe tbody tr th:only-of-type {\n",
       "        vertical-align: middle;\n",
       "    }\n",
       "\n",
       "    .dataframe tbody tr th {\n",
       "        vertical-align: top;\n",
       "    }\n",
       "\n",
       "    .dataframe thead th {\n",
       "        text-align: right;\n",
       "    }\n",
       "</style>\n",
       "<table border=\"1\" class=\"dataframe\">\n",
       "  <thead>\n",
       "    <tr style=\"text-align: right;\">\n",
       "      <th></th>\n",
       "      <th>date</th>\n",
       "      <th>temperature</th>\n",
       "      <th>humidity</th>\n",
       "      <th>wind speed</th>\n",
       "      <th>Precipitation amount</th>\n",
       "      <th>query</th>\n",
       "      <th>Moon Phase calculator</th>\n",
       "    </tr>\n",
       "  </thead>\n",
       "  <tbody>\n",
       "    <tr>\n",
       "      <th>6586</th>\n",
       "      <td>2021-06-30 10:00:00</td>\n",
       "      <td>15 °C\\n(10:00 am CEST | Wednesday, June 30, 2021)</td>\n",
       "      <td>average: 63% (63%)\\n(10:00 am CEST | Wednesday...</td>\n",
       "      <td>4 m/s\\n(10:00 am CEST | Wednesday, June 30, 2021)</td>\n",
       "      <td>no precipitation\\n(10:00 am CEST | Wednesday, ...</td>\n",
       "      <td>Moon Phase calculatorJune 30, 2021 10h</td>\n",
       "      <td>| waning gibbous moon\\n65.43% illuminated</td>\n",
       "    </tr>\n",
       "    <tr>\n",
       "      <th>0</th>\n",
       "      <td>2020-11-05 22:00:00</td>\n",
       "      <td>8 °C\\n(10:00 pm CET | Thursday, November 5, 2020)</td>\n",
       "      <td>ERROR</td>\n",
       "      <td>1 m/s\\n(10:00 pm CET | Thursday, November 5, 2...</td>\n",
       "      <td>(unknown)\\n(10:00 pm CET | Thursday, November ...</td>\n",
       "      <td>Moon Phase calculatorNovember 5, 2020 22h</td>\n",
       "      <td>| waning gibbous moon\\n76.55% illuminated</td>\n",
       "    </tr>\n",
       "  </tbody>\n",
       "</table>\n",
       "</div>"
      ],
      "text/plain": [
       "                    date                                        temperature  \\\n",
       "6586 2021-06-30 10:00:00  15 °C\\n(10:00 am CEST | Wednesday, June 30, 2021)   \n",
       "0    2020-11-05 22:00:00  8 °C\\n(10:00 pm CET | Thursday, November 5, 2020)   \n",
       "\n",
       "                                               humidity  \\\n",
       "6586  average: 63% (63%)\\n(10:00 am CEST | Wednesday...   \n",
       "0                                                 ERROR   \n",
       "\n",
       "                                             wind speed  \\\n",
       "6586  4 m/s\\n(10:00 am CEST | Wednesday, June 30, 2021)   \n",
       "0     1 m/s\\n(10:00 pm CET | Thursday, November 5, 2...   \n",
       "\n",
       "                                   Precipitation amount  \\\n",
       "6586  no precipitation\\n(10:00 am CEST | Wednesday, ...   \n",
       "0     (unknown)\\n(10:00 pm CET | Thursday, November ...   \n",
       "\n",
       "                                          query  \\\n",
       "6586     Moon Phase calculatorJune 30, 2021 10h   \n",
       "0     Moon Phase calculatorNovember 5, 2020 22h   \n",
       "\n",
       "                          Moon Phase calculator  \n",
       "6586  | waning gibbous moon\\n65.43% illuminated  \n",
       "0     | waning gibbous moon\\n76.55% illuminated  "
      ]
     },
     "metadata": {},
     "output_type": "display_data"
    },
    {
     "name": "stderr",
     "output_type": "stream",
     "text": [
      "\r",
      "  0%|                                                                                | 1/853 [00:24<5:43:31, 24.19s/it]"
     ]
    },
    {
     "name": "stdout",
     "output_type": "stream",
     "text": [
      "QUERY:  Precipitation amount in Zollikofen November 16, 2020 19h\n",
      "QUERY:  temperature in Zollikofen November 16, 2020 19h\n",
      "QUERY:  humidity in Zollikofen November 16, 2020 19h\n",
      "ERROR: no data available-------------  humidity in Zollikofen November 16, 2020 19h\n",
      "ERROR:------------- name 'error' is not defined  ----------  humidity in Zollikofen November 16, 2020 19h\n",
      "QUERY:  wind speed in Zollikofen November 16, 2020 19h\n",
      "QUERY:  Moon Phase calculatorNovember 16, 2020 19h\n"
     ]
    },
    {
     "name": "stderr",
     "output_type": "stream",
     "text": [
      "\r",
      "  0%|▏                                                                               | 2/853 [00:47<5:39:33, 23.94s/it]"
     ]
    },
    {
     "name": "stdout",
     "output_type": "stream",
     "text": [
      "QUERY:  Precipitation amount in Zollikofen November 16, 2020 21h\n",
      "QUERY:  temperature in Zollikofen November 16, 2020 21h\n",
      "QUERY:  humidity in Zollikofen November 16, 2020 21h\n",
      "ERROR: no data available-------------  humidity in Zollikofen November 16, 2020 21h\n",
      "ERROR:------------- name 'error' is not defined  ----------  humidity in Zollikofen November 16, 2020 21h\n",
      "QUERY:  wind speed in Zollikofen November 16, 2020 21h\n",
      "QUERY:  Moon Phase calculatorNovember 16, 2020 21h\n"
     ]
    },
    {
     "name": "stderr",
     "output_type": "stream",
     "text": [
      "\r",
      "  0%|▎                                                                               | 3/853 [01:09<5:30:45, 23.35s/it]"
     ]
    },
    {
     "name": "stdout",
     "output_type": "stream",
     "text": [
      "QUERY:  Precipitation amount in Zollikofen December 15, 2020 21h\n",
      "QUERY:  temperature in Zollikofen December 15, 2020 21h\n",
      "QUERY:  humidity in Zollikofen December 15, 2020 21h\n",
      "ERROR: no data available-------------  humidity in Zollikofen December 15, 2020 21h\n",
      "ERROR:------------- name 'error' is not defined  ----------  humidity in Zollikofen December 15, 2020 21h\n",
      "QUERY:  wind speed in Zollikofen December 15, 2020 21h\n",
      "QUERY:  Moon Phase calculatorDecember 15, 2020 21h\n"
     ]
    },
    {
     "name": "stderr",
     "output_type": "stream",
     "text": [
      "\r",
      "  0%|▍                                                                               | 4/853 [01:32<5:28:27, 23.21s/it]"
     ]
    },
    {
     "name": "stdout",
     "output_type": "stream",
     "text": [
      "QUERY:  Precipitation amount in Zollikofen February 8, 2021 17h\n",
      "QUERY:  temperature in Zollikofen February 8, 2021 17h\n",
      "QUERY:  humidity in Zollikofen February 8, 2021 17h\n",
      "ERROR: no data available-------------  humidity in Zollikofen February 8, 2021 17h\n",
      "ERROR:------------- name 'error' is not defined  ----------  humidity in Zollikofen February 8, 2021 17h\n",
      "QUERY:  wind speed in Zollikofen February 8, 2021 17h\n",
      "QUERY:  Moon Phase calculatorFebruary 8, 2021 17h\n"
     ]
    },
    {
     "name": "stderr",
     "output_type": "stream",
     "text": [
      "\r",
      "  1%|▍                                                                               | 5/853 [01:55<5:29:30, 23.31s/it]"
     ]
    },
    {
     "name": "stdout",
     "output_type": "stream",
     "text": [
      "QUERY:  Precipitation amount in Zollikofen February 8, 2021 18h\n",
      "QUERY:  temperature in Zollikofen February 8, 2021 18h\n",
      "QUERY:  humidity in Zollikofen February 8, 2021 18h\n",
      "ERROR: no data available-------------  humidity in Zollikofen February 8, 2021 18h\n",
      "ERROR:------------- name 'error' is not defined  ----------  humidity in Zollikofen February 8, 2021 18h\n",
      "QUERY:  wind speed in Zollikofen February 8, 2021 18h\n",
      "QUERY:  Moon Phase calculatorFebruary 8, 2021 18h\n"
     ]
    },
    {
     "name": "stderr",
     "output_type": "stream",
     "text": [
      "\r",
      "  1%|▌                                                                               | 6/853 [02:19<5:31:26, 23.48s/it]"
     ]
    },
    {
     "name": "stdout",
     "output_type": "stream",
     "text": [
      "QUERY:  Precipitation amount in Zollikofen February 8, 2021 19h\n",
      "QUERY:  temperature in Zollikofen February 8, 2021 19h\n",
      "QUERY:  humidity in Zollikofen February 8, 2021 19h\n",
      "ERROR: no data available-------------  humidity in Zollikofen February 8, 2021 19h\n",
      "ERROR:------------- name 'error' is not defined  ----------  humidity in Zollikofen February 8, 2021 19h\n",
      "QUERY:  wind speed in Zollikofen February 8, 2021 19h\n",
      "QUERY:  Moon Phase calculatorFebruary 8, 2021 19h\n"
     ]
    },
    {
     "name": "stderr",
     "output_type": "stream",
     "text": [
      "\r",
      "  1%|▋                                                                               | 7/853 [02:42<5:26:35, 23.16s/it]"
     ]
    },
    {
     "name": "stdout",
     "output_type": "stream",
     "text": [
      "QUERY:  Precipitation amount in Zollikofen February 8, 2021 20h\n",
      "QUERY:  temperature in Zollikofen February 8, 2021 20h\n",
      "QUERY:  humidity in Zollikofen February 8, 2021 20h\n",
      "ERROR: no data available-------------  humidity in Zollikofen February 8, 2021 20h\n",
      "ERROR:------------- name 'error' is not defined  ----------  humidity in Zollikofen February 8, 2021 20h\n",
      "QUERY:  wind speed in Zollikofen February 8, 2021 20h\n",
      "QUERY:  Moon Phase calculatorFebruary 8, 2021 20h\n"
     ]
    },
    {
     "name": "stderr",
     "output_type": "stream",
     "text": [
      "\r",
      "  1%|▊                                                                               | 8/853 [03:05<5:26:14, 23.16s/it]"
     ]
    },
    {
     "name": "stdout",
     "output_type": "stream",
     "text": [
      "QUERY:  Precipitation amount in Zollikofen February 9, 2021 9h\n",
      "QUERY:  temperature in Zollikofen February 9, 2021 9h\n",
      "QUERY:  humidity in Zollikofen February 9, 2021 9h\n",
      "ERROR: no data available-------------  humidity in Zollikofen February 9, 2021 9h\n",
      "ERROR:------------- name 'error' is not defined  ----------  humidity in Zollikofen February 9, 2021 9h\n",
      "QUERY:  wind speed in Zollikofen February 9, 2021 9h\n",
      "QUERY:  Moon Phase calculatorFebruary 9, 2021 9h\n"
     ]
    },
    {
     "name": "stderr",
     "output_type": "stream",
     "text": [
      "\r",
      "  1%|▊                                                                               | 9/853 [03:28<5:23:28, 23.00s/it]"
     ]
    },
    {
     "name": "stdout",
     "output_type": "stream",
     "text": [
      "QUERY:  Precipitation amount in Zollikofen February 9, 2021 10h\n",
      "QUERY:  temperature in Zollikofen February 9, 2021 10h\n",
      "QUERY:  humidity in Zollikofen February 9, 2021 10h\n",
      "ERROR: no data available-------------  humidity in Zollikofen February 9, 2021 10h\n",
      "ERROR:------------- name 'error' is not defined  ----------  humidity in Zollikofen February 9, 2021 10h\n",
      "QUERY:  wind speed in Zollikofen February 9, 2021 10h\n",
      "QUERY:  Moon Phase calculatorFebruary 9, 2021 10h\n"
     ]
    },
    {
     "name": "stderr",
     "output_type": "stream",
     "text": [
      "\r",
      "  1%|▉                                                                              | 10/853 [03:50<5:20:41, 22.82s/it]"
     ]
    },
    {
     "name": "stdout",
     "output_type": "stream",
     "text": [
      "QUERY:  Precipitation amount in Zollikofen February 9, 2021 11h\n",
      "QUERY:  temperature in Zollikofen February 9, 2021 11h\n",
      "QUERY:  humidity in Zollikofen February 9, 2021 11h\n",
      "ERROR: no data available-------------  humidity in Zollikofen February 9, 2021 11h\n",
      "ERROR:------------- name 'error' is not defined  ----------  humidity in Zollikofen February 9, 2021 11h\n",
      "QUERY:  wind speed in Zollikofen February 9, 2021 11h\n",
      "QUERY:  Moon Phase calculatorFebruary 9, 2021 11h\n",
      "(6527, 7)\n"
     ]
    },
    {
     "data": {
      "text/html": [
       "<div>\n",
       "<style scoped>\n",
       "    .dataframe tbody tr th:only-of-type {\n",
       "        vertical-align: middle;\n",
       "    }\n",
       "\n",
       "    .dataframe tbody tr th {\n",
       "        vertical-align: top;\n",
       "    }\n",
       "\n",
       "    .dataframe thead th {\n",
       "        text-align: right;\n",
       "    }\n",
       "</style>\n",
       "<table border=\"1\" class=\"dataframe\">\n",
       "  <thead>\n",
       "    <tr style=\"text-align: right;\">\n",
       "      <th></th>\n",
       "      <th>date</th>\n",
       "      <th>temperature</th>\n",
       "      <th>humidity</th>\n",
       "      <th>wind speed</th>\n",
       "      <th>Precipitation amount</th>\n",
       "      <th>query</th>\n",
       "      <th>Moon Phase calculator</th>\n",
       "    </tr>\n",
       "  </thead>\n",
       "  <tbody>\n",
       "    <tr>\n",
       "      <th>8</th>\n",
       "      <td>2021-02-09 10:00:00</td>\n",
       "      <td>0 °C\\n(10:00 am CET | Tuesday, February 9, 2021)</td>\n",
       "      <td>ERROR</td>\n",
       "      <td>1 m/s\\n(10:00 am CET | Tuesday, February 9, 2021)</td>\n",
       "      <td>(unknown)\\n(10:00 am CET | Tuesday, February 9...</td>\n",
       "      <td>Moon Phase calculatorFebruary 9, 2021 10h</td>\n",
       "      <td>| waning crescent moon\\n6.82% illuminated</td>\n",
       "    </tr>\n",
       "    <tr>\n",
       "      <th>9</th>\n",
       "      <td>2021-02-09 11:00:00</td>\n",
       "      <td>0 °C\\n(11:00 am CET | Tuesday, February 9, 2021)</td>\n",
       "      <td>ERROR</td>\n",
       "      <td>1 m/s\\n(11:00 am CET | Tuesday, February 9, 2021)</td>\n",
       "      <td>(unknown)\\n(11:00 am CET | Tuesday, February 9...</td>\n",
       "      <td>Moon Phase calculatorFebruary 9, 2021 11h</td>\n",
       "      <td>| waning crescent moon\\n6.60% illuminated</td>\n",
       "    </tr>\n",
       "  </tbody>\n",
       "</table>\n",
       "</div>"
      ],
      "text/plain": [
       "                 date                                       temperature  \\\n",
       "8 2021-02-09 10:00:00  0 °C\\n(10:00 am CET | Tuesday, February 9, 2021)   \n",
       "9 2021-02-09 11:00:00  0 °C\\n(11:00 am CET | Tuesday, February 9, 2021)   \n",
       "\n",
       "  humidity                                         wind speed  \\\n",
       "8    ERROR  1 m/s\\n(10:00 am CET | Tuesday, February 9, 2021)   \n",
       "9    ERROR  1 m/s\\n(11:00 am CET | Tuesday, February 9, 2021)   \n",
       "\n",
       "                                Precipitation amount  \\\n",
       "8  (unknown)\\n(10:00 am CET | Tuesday, February 9...   \n",
       "9  (unknown)\\n(11:00 am CET | Tuesday, February 9...   \n",
       "\n",
       "                                       query  \\\n",
       "8  Moon Phase calculatorFebruary 9, 2021 10h   \n",
       "9  Moon Phase calculatorFebruary 9, 2021 11h   \n",
       "\n",
       "                       Moon Phase calculator  \n",
       "8  | waning crescent moon\\n6.82% illuminated  \n",
       "9  | waning crescent moon\\n6.60% illuminated  "
      ]
     },
     "metadata": {},
     "output_type": "display_data"
    },
    {
     "name": "stderr",
     "output_type": "stream",
     "text": [
      "\r",
      "  1%|█                                                                              | 11/853 [04:10<5:08:14, 21.96s/it]"
     ]
    },
    {
     "name": "stdout",
     "output_type": "stream",
     "text": [
      "QUERY:  Precipitation amount in Zollikofen February 9, 2021 12h\n",
      "QUERY:  temperature in Zollikofen February 9, 2021 12h\n",
      "QUERY:  humidity in Zollikofen February 9, 2021 12h\n",
      "ERROR: no data available-------------  humidity in Zollikofen February 9, 2021 12h\n",
      "ERROR:------------- name 'error' is not defined  ----------  humidity in Zollikofen February 9, 2021 12h\n",
      "QUERY:  wind speed in Zollikofen February 9, 2021 12h\n",
      "QUERY:  Moon Phase calculatorFebruary 9, 2021 12h\n"
     ]
    },
    {
     "name": "stderr",
     "output_type": "stream",
     "text": [
      "\r",
      "  1%|█                                                                              | 12/853 [04:30<5:00:21, 21.43s/it]"
     ]
    },
    {
     "name": "stdout",
     "output_type": "stream",
     "text": [
      "QUERY:  Precipitation amount in Zollikofen February 9, 2021 13h\n",
      "QUERY:  temperature in Zollikofen February 9, 2021 13h\n",
      "QUERY:  humidity in Zollikofen February 9, 2021 13h\n",
      "ERROR: no data available-------------  humidity in Zollikofen February 9, 2021 13h\n",
      "ERROR:------------- name 'error' is not defined  ----------  humidity in Zollikofen February 9, 2021 13h\n",
      "QUERY:  wind speed in Zollikofen February 9, 2021 13h\n",
      "QUERY:  Moon Phase calculatorFebruary 9, 2021 13h\n"
     ]
    },
    {
     "name": "stderr",
     "output_type": "stream",
     "text": [
      "\r",
      "  2%|█▏                                                                             | 13/853 [04:50<4:53:02, 20.93s/it]"
     ]
    },
    {
     "name": "stdout",
     "output_type": "stream",
     "text": [
      "QUERY:  Precipitation amount in Zollikofen February 9, 2021 15h\n",
      "QUERY:  temperature in Zollikofen February 9, 2021 15h\n",
      "QUERY:  humidity in Zollikofen February 9, 2021 15h\n",
      "ERROR: no data available-------------  humidity in Zollikofen February 9, 2021 15h\n",
      "ERROR:------------- name 'error' is not defined  ----------  humidity in Zollikofen February 9, 2021 15h\n",
      "QUERY:  wind speed in Zollikofen February 9, 2021 15h\n",
      "QUERY:  Moon Phase calculatorFebruary 9, 2021 15h\n"
     ]
    },
    {
     "name": "stderr",
     "output_type": "stream",
     "text": [
      "\r",
      "  2%|█▎                                                                             | 14/853 [05:13<5:00:15, 21.47s/it]"
     ]
    },
    {
     "name": "stdout",
     "output_type": "stream",
     "text": [
      "QUERY:  Precipitation amount in Zollikofen February 9, 2021 16h\n",
      "QUERY:  temperature in Zollikofen February 9, 2021 16h\n",
      "QUERY:  humidity in Zollikofen February 9, 2021 16h\n",
      "ERROR: no data available-------------  humidity in Zollikofen February 9, 2021 16h\n",
      "ERROR:------------- name 'error' is not defined  ----------  humidity in Zollikofen February 9, 2021 16h\n",
      "QUERY:  wind speed in Zollikofen February 9, 2021 16h\n",
      "QUERY:  Moon Phase calculatorFebruary 9, 2021 16h\n"
     ]
    },
    {
     "name": "stderr",
     "output_type": "stream",
     "text": [
      "\r",
      "  2%|█▍                                                                             | 15/853 [05:33<4:53:35, 21.02s/it]"
     ]
    },
    {
     "name": "stdout",
     "output_type": "stream",
     "text": [
      "QUERY:  Precipitation amount in Zollikofen February 9, 2021 17h\n",
      "QUERY:  temperature in Zollikofen February 9, 2021 17h\n",
      "QUERY:  humidity in Zollikofen February 9, 2021 17h\n",
      "ERROR: no data available-------------  humidity in Zollikofen February 9, 2021 17h\n",
      "ERROR:------------- name 'error' is not defined  ----------  humidity in Zollikofen February 9, 2021 17h\n",
      "QUERY:  wind speed in Zollikofen February 9, 2021 17h\n",
      "QUERY:  Moon Phase calculatorFebruary 9, 2021 17h\n"
     ]
    },
    {
     "name": "stderr",
     "output_type": "stream",
     "text": [
      "\r",
      "  2%|█▍                                                                             | 16/853 [05:52<4:46:16, 20.52s/it]"
     ]
    },
    {
     "name": "stdout",
     "output_type": "stream",
     "text": [
      "QUERY:  Precipitation amount in Zollikofen February 9, 2021 18h\n",
      "QUERY:  temperature in Zollikofen February 9, 2021 18h\n",
      "QUERY:  humidity in Zollikofen February 9, 2021 18h\n",
      "ERROR: no data available-------------  humidity in Zollikofen February 9, 2021 18h\n",
      "ERROR:------------- name 'error' is not defined  ----------  humidity in Zollikofen February 9, 2021 18h\n",
      "QUERY:  wind speed in Zollikofen February 9, 2021 18h\n",
      "QUERY:  Moon Phase calculatorFebruary 9, 2021 18h\n"
     ]
    },
    {
     "name": "stderr",
     "output_type": "stream",
     "text": [
      "\r",
      "  2%|█▌                                                                             | 17/853 [06:11<4:41:02, 20.17s/it]"
     ]
    },
    {
     "name": "stdout",
     "output_type": "stream",
     "text": [
      "QUERY:  Precipitation amount in Zollikofen February 9, 2021 19h\n",
      "QUERY:  temperature in Zollikofen February 9, 2021 19h\n",
      "QUERY:  humidity in Zollikofen February 9, 2021 19h\n",
      "ERROR: no data available-------------  humidity in Zollikofen February 9, 2021 19h\n",
      "ERROR:------------- name 'error' is not defined  ----------  humidity in Zollikofen February 9, 2021 19h\n",
      "QUERY:  wind speed in Zollikofen February 9, 2021 19h\n",
      "QUERY:  Moon Phase calculatorFebruary 9, 2021 19h\n"
     ]
    },
    {
     "name": "stderr",
     "output_type": "stream",
     "text": [
      "\r",
      "  2%|█▋                                                                             | 18/853 [06:31<4:38:08, 19.99s/it]"
     ]
    },
    {
     "name": "stdout",
     "output_type": "stream",
     "text": [
      "QUERY:  Precipitation amount in Zollikofen February 9, 2021 20h\n",
      "QUERY:  temperature in Zollikofen February 9, 2021 20h\n",
      "QUERY:  humidity in Zollikofen February 9, 2021 20h\n",
      "ERROR: no data available-------------  humidity in Zollikofen February 9, 2021 20h\n",
      "ERROR:------------- name 'error' is not defined  ----------  humidity in Zollikofen February 9, 2021 20h\n",
      "QUERY:  wind speed in Zollikofen February 9, 2021 20h\n",
      "QUERY:  Moon Phase calculatorFebruary 9, 2021 20h\n"
     ]
    },
    {
     "name": "stderr",
     "output_type": "stream",
     "text": [
      "\r",
      "  2%|█▊                                                                             | 19/853 [06:51<4:38:38, 20.05s/it]"
     ]
    },
    {
     "name": "stdout",
     "output_type": "stream",
     "text": [
      "QUERY:  Precipitation amount in Zollikofen February 9, 2021 21h\n",
      "QUERY:  temperature in Zollikofen February 9, 2021 21h\n",
      "QUERY:  humidity in Zollikofen February 9, 2021 21h\n",
      "ERROR: no data available-------------  humidity in Zollikofen February 9, 2021 21h\n",
      "ERROR:------------- name 'error' is not defined  ----------  humidity in Zollikofen February 9, 2021 21h\n",
      "QUERY:  wind speed in Zollikofen February 9, 2021 21h\n",
      "QUERY:  Moon Phase calculatorFebruary 9, 2021 21h\n"
     ]
    },
    {
     "name": "stderr",
     "output_type": "stream",
     "text": [
      "\r",
      "  2%|█▊                                                                             | 20/853 [07:11<4:37:30, 19.99s/it]"
     ]
    },
    {
     "name": "stdout",
     "output_type": "stream",
     "text": [
      "QUERY:  Precipitation amount in Zollikofen February 9, 2021 22h\n",
      "QUERY:  temperature in Zollikofen February 9, 2021 22h\n",
      "QUERY:  humidity in Zollikofen February 9, 2021 22h\n",
      "ERROR: no data available-------------  humidity in Zollikofen February 9, 2021 22h\n",
      "ERROR:------------- name 'error' is not defined  ----------  humidity in Zollikofen February 9, 2021 22h\n",
      "QUERY:  wind speed in Zollikofen February 9, 2021 22h\n",
      "QUERY:  Moon Phase calculatorFebruary 9, 2021 22h\n",
      "(6537, 7)\n"
     ]
    },
    {
     "data": {
      "text/html": [
       "<div>\n",
       "<style scoped>\n",
       "    .dataframe tbody tr th:only-of-type {\n",
       "        vertical-align: middle;\n",
       "    }\n",
       "\n",
       "    .dataframe tbody tr th {\n",
       "        vertical-align: top;\n",
       "    }\n",
       "\n",
       "    .dataframe thead th {\n",
       "        text-align: right;\n",
       "    }\n",
       "</style>\n",
       "<table border=\"1\" class=\"dataframe\">\n",
       "  <thead>\n",
       "    <tr style=\"text-align: right;\">\n",
       "      <th></th>\n",
       "      <th>date</th>\n",
       "      <th>temperature</th>\n",
       "      <th>humidity</th>\n",
       "      <th>wind speed</th>\n",
       "      <th>Precipitation amount</th>\n",
       "      <th>query</th>\n",
       "      <th>Moon Phase calculator</th>\n",
       "    </tr>\n",
       "  </thead>\n",
       "  <tbody>\n",
       "    <tr>\n",
       "      <th>8</th>\n",
       "      <td>2021-02-09 21:00:00</td>\n",
       "      <td>0 °C\\n(9:00 pm CET | Tuesday, February 9, 2021)</td>\n",
       "      <td>ERROR</td>\n",
       "      <td>4 m/s\\n(9:00 pm CET | Tuesday, February 9, 2021)</td>\n",
       "      <td>(unknown)\\n(9:00 pm CET | Tuesday, February 9,...</td>\n",
       "      <td>Moon Phase calculatorFebruary 9, 2021 21h</td>\n",
       "      <td>| waning crescent moon\\n4.53% illuminated</td>\n",
       "    </tr>\n",
       "    <tr>\n",
       "      <th>9</th>\n",
       "      <td>2021-02-09 22:00:00</td>\n",
       "      <td>0 °C\\n(10:00 pm CET | Tuesday, February 9, 2021)</td>\n",
       "      <td>ERROR</td>\n",
       "      <td>4 m/s\\n(10:00 pm CET | Tuesday, February 9, 2021)</td>\n",
       "      <td>(unknown)\\n(10:00 pm CET | Tuesday, February 9...</td>\n",
       "      <td>Moon Phase calculatorFebruary 9, 2021 22h</td>\n",
       "      <td>| waning crescent moon\\n4.34% illuminated</td>\n",
       "    </tr>\n",
       "  </tbody>\n",
       "</table>\n",
       "</div>"
      ],
      "text/plain": [
       "                 date                                       temperature  \\\n",
       "8 2021-02-09 21:00:00   0 °C\\n(9:00 pm CET | Tuesday, February 9, 2021)   \n",
       "9 2021-02-09 22:00:00  0 °C\\n(10:00 pm CET | Tuesday, February 9, 2021)   \n",
       "\n",
       "  humidity                                         wind speed  \\\n",
       "8    ERROR   4 m/s\\n(9:00 pm CET | Tuesday, February 9, 2021)   \n",
       "9    ERROR  4 m/s\\n(10:00 pm CET | Tuesday, February 9, 2021)   \n",
       "\n",
       "                                Precipitation amount  \\\n",
       "8  (unknown)\\n(9:00 pm CET | Tuesday, February 9,...   \n",
       "9  (unknown)\\n(10:00 pm CET | Tuesday, February 9...   \n",
       "\n",
       "                                       query  \\\n",
       "8  Moon Phase calculatorFebruary 9, 2021 21h   \n",
       "9  Moon Phase calculatorFebruary 9, 2021 22h   \n",
       "\n",
       "                       Moon Phase calculator  \n",
       "8  | waning crescent moon\\n4.53% illuminated  \n",
       "9  | waning crescent moon\\n4.34% illuminated  "
      ]
     },
     "metadata": {},
     "output_type": "display_data"
    },
    {
     "name": "stderr",
     "output_type": "stream",
     "text": [
      "\r",
      "  2%|█▉                                                                             | 21/853 [07:31<4:36:21, 19.93s/it]"
     ]
    },
    {
     "name": "stdout",
     "output_type": "stream",
     "text": [
      "QUERY:  Precipitation amount in Zollikofen February 10, 2021 10h\n",
      "QUERY:  temperature in Zollikofen February 10, 2021 10h\n",
      "QUERY:  humidity in Zollikofen February 10, 2021 10h\n",
      "ERROR: no data available-------------  humidity in Zollikofen February 10, 2021 10h\n",
      "ERROR:------------- name 'error' is not defined  ----------  humidity in Zollikofen February 10, 2021 10h\n",
      "QUERY:  wind speed in Zollikofen February 10, 2021 10h\n",
      "QUERY:  Moon Phase calculatorFebruary 10, 2021 10h\n"
     ]
    },
    {
     "name": "stderr",
     "output_type": "stream",
     "text": [
      "\r",
      "  3%|██                                                                             | 22/853 [07:51<4:36:55, 19.99s/it]"
     ]
    },
    {
     "name": "stdout",
     "output_type": "stream",
     "text": [
      "QUERY:  Precipitation amount in Zollikofen February 10, 2021 11h\n",
      "QUERY:  temperature in Zollikofen February 10, 2021 11h\n",
      "QUERY:  humidity in Zollikofen February 10, 2021 11h\n",
      "ERROR: no data available-------------  humidity in Zollikofen February 10, 2021 11h\n",
      "ERROR:------------- name 'error' is not defined  ----------  humidity in Zollikofen February 10, 2021 11h\n",
      "QUERY:  wind speed in Zollikofen February 10, 2021 11h\n",
      "QUERY:  Moon Phase calculatorFebruary 10, 2021 11h\n"
     ]
    },
    {
     "name": "stderr",
     "output_type": "stream",
     "text": [
      "\r",
      "  3%|██▏                                                                            | 23/853 [08:12<4:39:47, 20.23s/it]"
     ]
    },
    {
     "name": "stdout",
     "output_type": "stream",
     "text": [
      "QUERY:  Precipitation amount in Zollikofen February 10, 2021 12h\n",
      "QUERY:  temperature in Zollikofen February 10, 2021 12h\n",
      "QUERY:  humidity in Zollikofen February 10, 2021 12h\n",
      "ERROR: no data available-------------  humidity in Zollikofen February 10, 2021 12h\n",
      "ERROR:------------- name 'error' is not defined  ----------  humidity in Zollikofen February 10, 2021 12h\n",
      "QUERY:  wind speed in Zollikofen February 10, 2021 12h\n",
      "QUERY:  Moon Phase calculatorFebruary 10, 2021 12h\n"
     ]
    },
    {
     "name": "stderr",
     "output_type": "stream",
     "text": [
      "\r",
      "  3%|██▏                                                                            | 24/853 [08:31<4:36:30, 20.01s/it]"
     ]
    },
    {
     "name": "stdout",
     "output_type": "stream",
     "text": [
      "QUERY:  Precipitation amount in Zollikofen February 10, 2021 13h\n",
      "QUERY:  temperature in Zollikofen February 10, 2021 13h\n",
      "QUERY:  humidity in Zollikofen February 10, 2021 13h\n",
      "ERROR: no data available-------------  humidity in Zollikofen February 10, 2021 13h\n",
      "ERROR:------------- name 'error' is not defined  ----------  humidity in Zollikofen February 10, 2021 13h\n",
      "QUERY:  wind speed in Zollikofen February 10, 2021 13h\n",
      "QUERY:  Moon Phase calculatorFebruary 10, 2021 13h\n"
     ]
    },
    {
     "name": "stderr",
     "output_type": "stream",
     "text": [
      "\r",
      "  3%|██▎                                                                            | 25/853 [08:51<4:34:39, 19.90s/it]"
     ]
    },
    {
     "name": "stdout",
     "output_type": "stream",
     "text": [
      "QUERY:  Precipitation amount in Zollikofen February 10, 2021 14h\n",
      "QUERY:  temperature in Zollikofen February 10, 2021 14h\n",
      "QUERY:  humidity in Zollikofen February 10, 2021 14h\n",
      "ERROR: no data available-------------  humidity in Zollikofen February 10, 2021 14h\n",
      "ERROR:------------- name 'error' is not defined  ----------  humidity in Zollikofen February 10, 2021 14h\n",
      "QUERY:  wind speed in Zollikofen February 10, 2021 14h\n",
      "QUERY:  Moon Phase calculatorFebruary 10, 2021 14h\n"
     ]
    },
    {
     "name": "stderr",
     "output_type": "stream",
     "text": [
      "\r",
      "  3%|██▍                                                                            | 26/853 [09:11<4:34:16, 19.90s/it]"
     ]
    },
    {
     "name": "stdout",
     "output_type": "stream",
     "text": [
      "QUERY:  Precipitation amount in Zollikofen February 10, 2021 15h\n",
      "QUERY:  temperature in Zollikofen February 10, 2021 15h\n",
      "QUERY:  humidity in Zollikofen February 10, 2021 15h\n",
      "ERROR: no data available-------------  humidity in Zollikofen February 10, 2021 15h\n",
      "ERROR:------------- name 'error' is not defined  ----------  humidity in Zollikofen February 10, 2021 15h\n",
      "QUERY:  wind speed in Zollikofen February 10, 2021 15h\n",
      "QUERY:  Moon Phase calculatorFebruary 10, 2021 15h\n"
     ]
    },
    {
     "name": "stderr",
     "output_type": "stream",
     "text": [
      "\r",
      "  3%|██▌                                                                            | 27/853 [09:30<4:31:04, 19.69s/it]"
     ]
    },
    {
     "name": "stdout",
     "output_type": "stream",
     "text": [
      "QUERY:  Precipitation amount in Zollikofen February 10, 2021 16h\n",
      "QUERY:  temperature in Zollikofen February 10, 2021 16h\n",
      "QUERY:  humidity in Zollikofen February 10, 2021 16h\n",
      "ERROR: no data available-------------  humidity in Zollikofen February 10, 2021 16h\n",
      "ERROR:------------- name 'error' is not defined  ----------  humidity in Zollikofen February 10, 2021 16h\n",
      "QUERY:  wind speed in Zollikofen February 10, 2021 16h\n",
      "QUERY:  Moon Phase calculatorFebruary 10, 2021 16h\n"
     ]
    },
    {
     "name": "stderr",
     "output_type": "stream",
     "text": [
      "\r",
      "  3%|██▌                                                                            | 28/853 [09:50<4:32:44, 19.84s/it]"
     ]
    },
    {
     "name": "stdout",
     "output_type": "stream",
     "text": [
      "QUERY:  Precipitation amount in Zollikofen February 10, 2021 17h\n",
      "QUERY:  temperature in Zollikofen February 10, 2021 17h\n",
      "QUERY:  humidity in Zollikofen February 10, 2021 17h\n",
      "ERROR: no data available-------------  humidity in Zollikofen February 10, 2021 17h\n",
      "ERROR:------------- name 'error' is not defined  ----------  humidity in Zollikofen February 10, 2021 17h\n",
      "QUERY:  wind speed in Zollikofen February 10, 2021 17h\n",
      "QUERY:  Moon Phase calculatorFebruary 10, 2021 17h\n"
     ]
    },
    {
     "name": "stderr",
     "output_type": "stream",
     "text": [
      "\r",
      "  3%|██▋                                                                            | 29/853 [10:13<4:44:21, 20.71s/it]"
     ]
    },
    {
     "name": "stdout",
     "output_type": "stream",
     "text": [
      "QUERY:  Precipitation amount in Zollikofen February 10, 2021 18h\n",
      "QUERY:  temperature in Zollikofen February 10, 2021 18h\n",
      "QUERY:  humidity in Zollikofen February 10, 2021 18h\n",
      "ERROR: no data available-------------  humidity in Zollikofen February 10, 2021 18h\n",
      "ERROR:------------- name 'error' is not defined  ----------  humidity in Zollikofen February 10, 2021 18h\n",
      "QUERY:  wind speed in Zollikofen February 10, 2021 18h\n",
      "QUERY:  Moon Phase calculatorFebruary 10, 2021 18h\n"
     ]
    },
    {
     "name": "stderr",
     "output_type": "stream",
     "text": [
      "\r",
      "  4%|██▊                                                                            | 30/853 [10:34<4:47:17, 20.94s/it]"
     ]
    },
    {
     "name": "stdout",
     "output_type": "stream",
     "text": [
      "QUERY:  Precipitation amount in Zollikofen February 10, 2021 19h\n",
      "QUERY:  temperature in Zollikofen February 10, 2021 19h\n",
      "QUERY:  humidity in Zollikofen February 10, 2021 19h\n",
      "ERROR: no data available-------------  humidity in Zollikofen February 10, 2021 19h\n",
      "ERROR:------------- name 'error' is not defined  ----------  humidity in Zollikofen February 10, 2021 19h\n",
      "QUERY:  wind speed in Zollikofen February 10, 2021 19h\n",
      "QUERY:  Moon Phase calculatorFebruary 10, 2021 19h\n",
      "(6547, 7)\n"
     ]
    },
    {
     "data": {
      "text/html": [
       "<div>\n",
       "<style scoped>\n",
       "    .dataframe tbody tr th:only-of-type {\n",
       "        vertical-align: middle;\n",
       "    }\n",
       "\n",
       "    .dataframe tbody tr th {\n",
       "        vertical-align: top;\n",
       "    }\n",
       "\n",
       "    .dataframe thead th {\n",
       "        text-align: right;\n",
       "    }\n",
       "</style>\n",
       "<table border=\"1\" class=\"dataframe\">\n",
       "  <thead>\n",
       "    <tr style=\"text-align: right;\">\n",
       "      <th></th>\n",
       "      <th>date</th>\n",
       "      <th>temperature</th>\n",
       "      <th>humidity</th>\n",
       "      <th>wind speed</th>\n",
       "      <th>Precipitation amount</th>\n",
       "      <th>query</th>\n",
       "      <th>Moon Phase calculator</th>\n",
       "    </tr>\n",
       "  </thead>\n",
       "  <tbody>\n",
       "    <tr>\n",
       "      <th>8</th>\n",
       "      <td>2021-02-10 18:00:00</td>\n",
       "      <td>-2 °C\\n(6:00 pm CET | Wednesday, February 10, ...</td>\n",
       "      <td>ERROR</td>\n",
       "      <td>3 m/s\\n(6:00 pm CET | Wednesday, February 10, ...</td>\n",
       "      <td>(unknown)\\n(6:00 pm CET | Wednesday, February ...</td>\n",
       "      <td>Moon Phase calculatorFebruary 10, 2021 18h</td>\n",
       "      <td>| waning crescent moon\\n1.48% illuminated</td>\n",
       "    </tr>\n",
       "    <tr>\n",
       "      <th>9</th>\n",
       "      <td>2021-02-10 19:00:00</td>\n",
       "      <td>-2 °C\\n(7:00 pm CET | Wednesday, February 10, ...</td>\n",
       "      <td>ERROR</td>\n",
       "      <td>4 m/s\\n(7:00 pm CET | Wednesday, February 10, ...</td>\n",
       "      <td>(unknown)\\n(7:00 pm CET | Wednesday, February ...</td>\n",
       "      <td>Moon Phase calculatorFebruary 10, 2021 19h</td>\n",
       "      <td>| waning crescent moon\\n1.38% illuminated</td>\n",
       "    </tr>\n",
       "  </tbody>\n",
       "</table>\n",
       "</div>"
      ],
      "text/plain": [
       "                 date                                        temperature  \\\n",
       "8 2021-02-10 18:00:00  -2 °C\\n(6:00 pm CET | Wednesday, February 10, ...   \n",
       "9 2021-02-10 19:00:00  -2 °C\\n(7:00 pm CET | Wednesday, February 10, ...   \n",
       "\n",
       "  humidity                                         wind speed  \\\n",
       "8    ERROR  3 m/s\\n(6:00 pm CET | Wednesday, February 10, ...   \n",
       "9    ERROR  4 m/s\\n(7:00 pm CET | Wednesday, February 10, ...   \n",
       "\n",
       "                                Precipitation amount  \\\n",
       "8  (unknown)\\n(6:00 pm CET | Wednesday, February ...   \n",
       "9  (unknown)\\n(7:00 pm CET | Wednesday, February ...   \n",
       "\n",
       "                                        query  \\\n",
       "8  Moon Phase calculatorFebruary 10, 2021 18h   \n",
       "9  Moon Phase calculatorFebruary 10, 2021 19h   \n",
       "\n",
       "                       Moon Phase calculator  \n",
       "8  | waning crescent moon\\n1.48% illuminated  \n",
       "9  | waning crescent moon\\n1.38% illuminated  "
      ]
     },
     "metadata": {},
     "output_type": "display_data"
    },
    {
     "name": "stderr",
     "output_type": "stream",
     "text": [
      "\r",
      "  4%|██▊                                                                            | 31/853 [10:55<4:47:15, 20.97s/it]"
     ]
    },
    {
     "name": "stdout",
     "output_type": "stream",
     "text": [
      "QUERY:  Precipitation amount in Zollikofen February 10, 2021 20h\n",
      "QUERY:  temperature in Zollikofen February 10, 2021 20h\n",
      "QUERY:  humidity in Zollikofen February 10, 2021 20h\n",
      "ERROR:------------- results  ----------  humidity in Zollikofen February 10, 2021 20h\n",
      "QUERY:  wind speed in Zollikofen February 10, 2021 20h\n",
      "QUERY:  Moon Phase calculatorFebruary 10, 2021 20h\n"
     ]
    },
    {
     "name": "stderr",
     "output_type": "stream",
     "text": [
      "\r",
      "  4%|██▉                                                                            | 32/853 [11:20<5:01:11, 22.01s/it]"
     ]
    },
    {
     "name": "stdout",
     "output_type": "stream",
     "text": [
      "QUERY:  Precipitation amount in Zollikofen February 10, 2021 21h\n",
      "QUERY:  temperature in Zollikofen February 10, 2021 21h\n",
      "QUERY:  humidity in Zollikofen February 10, 2021 21h\n",
      "ERROR: no data available-------------  humidity in Zollikofen February 10, 2021 21h\n",
      "ERROR:------------- name 'error' is not defined  ----------  humidity in Zollikofen February 10, 2021 21h\n",
      "QUERY:  wind speed in Zollikofen February 10, 2021 21h\n",
      "QUERY:  Moon Phase calculatorFebruary 10, 2021 21h\n"
     ]
    },
    {
     "name": "stderr",
     "output_type": "stream",
     "text": [
      "\r",
      "  4%|███                                                                            | 33/853 [11:43<5:06:17, 22.41s/it]"
     ]
    },
    {
     "name": "stdout",
     "output_type": "stream",
     "text": [
      "QUERY:  Precipitation amount in Zollikofen February 10, 2021 22h\n",
      "QUERY:  temperature in Zollikofen February 10, 2021 22h\n",
      "QUERY:  humidity in Zollikofen February 10, 2021 22h\n",
      "ERROR: no data available-------------  humidity in Zollikofen February 10, 2021 22h\n",
      "ERROR:------------- name 'error' is not defined  ----------  humidity in Zollikofen February 10, 2021 22h\n",
      "QUERY:  wind speed in Zollikofen February 10, 2021 22h\n",
      "QUERY:  Moon Phase calculatorFebruary 10, 2021 22h\n"
     ]
    },
    {
     "name": "stderr",
     "output_type": "stream",
     "text": [
      "\r",
      "  4%|███▏                                                                           | 34/853 [12:05<5:03:28, 22.23s/it]"
     ]
    },
    {
     "name": "stdout",
     "output_type": "stream",
     "text": [
      "QUERY:  Precipitation amount in Zollikofen February 10, 2021 23h\n",
      "QUERY:  temperature in Zollikofen February 10, 2021 23h\n",
      "QUERY:  humidity in Zollikofen February 10, 2021 23h\n",
      "ERROR: no data available-------------  humidity in Zollikofen February 10, 2021 23h\n",
      "ERROR:------------- name 'error' is not defined  ----------  humidity in Zollikofen February 10, 2021 23h\n",
      "QUERY:  wind speed in Zollikofen February 10, 2021 23h\n",
      "QUERY:  Moon Phase calculatorFebruary 10, 2021 23h\n"
     ]
    },
    {
     "name": "stderr",
     "output_type": "stream",
     "text": [
      "\r",
      "  4%|███▏                                                                           | 35/853 [12:26<4:58:30, 21.90s/it]"
     ]
    },
    {
     "name": "stdout",
     "output_type": "stream",
     "text": [
      "QUERY:  Precipitation amount in Zollikofen March 28, 2021 1h\n",
      "QUERY:  temperature in Zollikofen March 28, 2021 1h\n",
      "QUERY:  humidity in Zollikofen March 28, 2021 1h\n",
      "ERROR: no data available-------------  humidity in Zollikofen March 28, 2021 1h\n",
      "ERROR:------------- name 'error' is not defined  ----------  humidity in Zollikofen March 28, 2021 1h\n",
      "QUERY:  wind speed in Zollikofen March 28, 2021 1h\n",
      "QUERY:  Moon Phase calculatorMarch 28, 2021 1h\n"
     ]
    },
    {
     "name": "stderr",
     "output_type": "stream",
     "text": [
      "\r",
      "  4%|███▎                                                                           | 36/853 [12:46<4:52:17, 21.47s/it]"
     ]
    },
    {
     "name": "stdout",
     "output_type": "stream",
     "text": [
      "QUERY:  Precipitation amount in Zollikofen May 15, 2021 0h\n",
      "QUERY:  temperature in Zollikofen May 15, 2021 0h\n",
      "QUERY:  humidity in Zollikofen May 15, 2021 0h\n",
      "ERROR: no data available-------------  humidity in Zollikofen May 15, 2021 0h\n",
      "ERROR:------------- name 'error' is not defined  ----------  humidity in Zollikofen May 15, 2021 0h\n",
      "QUERY:  wind speed in Zollikofen May 15, 2021 0h\n",
      "QUERY:  Moon Phase calculatorMay 15, 2021 0h\n"
     ]
    },
    {
     "name": "stderr",
     "output_type": "stream",
     "text": [
      "\r",
      "  4%|███▍                                                                           | 37/853 [13:10<4:59:11, 22.00s/it]"
     ]
    },
    {
     "name": "stdout",
     "output_type": "stream",
     "text": [
      "QUERY:  Precipitation amount in Zollikofen May 15, 2021 1h\n",
      "QUERY:  temperature in Zollikofen May 15, 2021 1h\n",
      "QUERY:  humidity in Zollikofen May 15, 2021 1h\n",
      "ERROR: no data available-------------  humidity in Zollikofen May 15, 2021 1h\n",
      "ERROR:------------- name 'error' is not defined  ----------  humidity in Zollikofen May 15, 2021 1h\n",
      "QUERY:  wind speed in Zollikofen May 15, 2021 1h\n",
      "QUERY:  Moon Phase calculatorMay 15, 2021 1h\n"
     ]
    },
    {
     "name": "stderr",
     "output_type": "stream",
     "text": [
      "\r",
      "  4%|███▌                                                                           | 38/853 [13:32<5:00:33, 22.13s/it]"
     ]
    },
    {
     "name": "stdout",
     "output_type": "stream",
     "text": [
      "QUERY:  Precipitation amount in Zollikofen May 15, 2021 2h\n",
      "QUERY:  temperature in Zollikofen May 15, 2021 2h\n",
      "QUERY:  humidity in Zollikofen May 15, 2021 2h\n",
      "ERROR: no data available-------------  humidity in Zollikofen May 15, 2021 2h\n",
      "ERROR:------------- name 'error' is not defined  ----------  humidity in Zollikofen May 15, 2021 2h\n",
      "QUERY:  wind speed in Zollikofen May 15, 2021 2h\n",
      "QUERY:  Moon Phase calculatorMay 15, 2021 2h\n"
     ]
    },
    {
     "name": "stderr",
     "output_type": "stream",
     "text": [
      "\r",
      "  5%|███▌                                                                           | 39/853 [13:53<4:55:08, 21.76s/it]"
     ]
    },
    {
     "name": "stdout",
     "output_type": "stream",
     "text": [
      "QUERY:  Precipitation amount in Zollikofen May 15, 2021 3h\n",
      "QUERY:  temperature in Zollikofen May 15, 2021 3h\n",
      "QUERY:  humidity in Zollikofen May 15, 2021 3h\n",
      "ERROR: no data available-------------  humidity in Zollikofen May 15, 2021 3h\n",
      "ERROR:------------- name 'error' is not defined  ----------  humidity in Zollikofen May 15, 2021 3h\n",
      "QUERY:  wind speed in Zollikofen May 15, 2021 3h\n",
      "QUERY:  Moon Phase calculatorMay 15, 2021 3h\n"
     ]
    },
    {
     "name": "stderr",
     "output_type": "stream",
     "text": [
      "\r",
      "  5%|███▋                                                                           | 40/853 [14:15<4:57:01, 21.92s/it]"
     ]
    },
    {
     "name": "stdout",
     "output_type": "stream",
     "text": [
      "QUERY:  Precipitation amount in Zollikofen May 15, 2021 4h\n",
      "QUERY:  temperature in Zollikofen May 15, 2021 4h\n",
      "QUERY:  humidity in Zollikofen May 15, 2021 4h\n",
      "ERROR: no data available-------------  humidity in Zollikofen May 15, 2021 4h\n",
      "ERROR:------------- name 'error' is not defined  ----------  humidity in Zollikofen May 15, 2021 4h\n",
      "QUERY:  wind speed in Zollikofen May 15, 2021 4h\n",
      "QUERY:  Moon Phase calculatorMay 15, 2021 4h\n",
      "(6557, 7)\n"
     ]
    },
    {
     "data": {
      "text/html": [
       "<div>\n",
       "<style scoped>\n",
       "    .dataframe tbody tr th:only-of-type {\n",
       "        vertical-align: middle;\n",
       "    }\n",
       "\n",
       "    .dataframe tbody tr th {\n",
       "        vertical-align: top;\n",
       "    }\n",
       "\n",
       "    .dataframe thead th {\n",
       "        text-align: right;\n",
       "    }\n",
       "</style>\n",
       "<table border=\"1\" class=\"dataframe\">\n",
       "  <thead>\n",
       "    <tr style=\"text-align: right;\">\n",
       "      <th></th>\n",
       "      <th>date</th>\n",
       "      <th>temperature</th>\n",
       "      <th>humidity</th>\n",
       "      <th>wind speed</th>\n",
       "      <th>Precipitation amount</th>\n",
       "      <th>query</th>\n",
       "      <th>Moon Phase calculator</th>\n",
       "    </tr>\n",
       "  </thead>\n",
       "  <tbody>\n",
       "    <tr>\n",
       "      <th>8</th>\n",
       "      <td>2021-05-15 03:00:00</td>\n",
       "      <td>8 °C\\n(3:00 am CEST | Saturday, May 15, 2021)</td>\n",
       "      <td>ERROR</td>\n",
       "      <td>2 m/s\\n(3:00 am CEST | Saturday, May 15, 2021)</td>\n",
       "      <td>(unknown)\\n(3:00 am CEST | Saturday, May 15, 2...</td>\n",
       "      <td>Moon Phase calculatorMay 15, 2021 3h</td>\n",
       "      <td>| waxing crescent moon\\n9.26% illuminated</td>\n",
       "    </tr>\n",
       "    <tr>\n",
       "      <th>9</th>\n",
       "      <td>2021-05-15 04:00:00</td>\n",
       "      <td>8 °C\\n(4:00 am CEST | Saturday, May 15, 2021)</td>\n",
       "      <td>ERROR</td>\n",
       "      <td>2 m/s\\n(4:00 am CEST | Saturday, May 15, 2021)</td>\n",
       "      <td>(unknown)\\n(4:00 am CEST | Saturday, May 15, 2...</td>\n",
       "      <td>Moon Phase calculatorMay 15, 2021 4h</td>\n",
       "      <td>| waxing crescent moon\\n9.50% illuminated</td>\n",
       "    </tr>\n",
       "  </tbody>\n",
       "</table>\n",
       "</div>"
      ],
      "text/plain": [
       "                 date                                    temperature humidity  \\\n",
       "8 2021-05-15 03:00:00  8 °C\\n(3:00 am CEST | Saturday, May 15, 2021)    ERROR   \n",
       "9 2021-05-15 04:00:00  8 °C\\n(4:00 am CEST | Saturday, May 15, 2021)    ERROR   \n",
       "\n",
       "                                       wind speed  \\\n",
       "8  2 m/s\\n(3:00 am CEST | Saturday, May 15, 2021)   \n",
       "9  2 m/s\\n(4:00 am CEST | Saturday, May 15, 2021)   \n",
       "\n",
       "                                Precipitation amount  \\\n",
       "8  (unknown)\\n(3:00 am CEST | Saturday, May 15, 2...   \n",
       "9  (unknown)\\n(4:00 am CEST | Saturday, May 15, 2...   \n",
       "\n",
       "                                  query  \\\n",
       "8  Moon Phase calculatorMay 15, 2021 3h   \n",
       "9  Moon Phase calculatorMay 15, 2021 4h   \n",
       "\n",
       "                       Moon Phase calculator  \n",
       "8  | waxing crescent moon\\n9.26% illuminated  \n",
       "9  | waxing crescent moon\\n9.50% illuminated  "
      ]
     },
     "metadata": {},
     "output_type": "display_data"
    },
    {
     "name": "stderr",
     "output_type": "stream",
     "text": [
      "\r",
      "  5%|███▊                                                                           | 41/853 [14:37<4:54:28, 21.76s/it]"
     ]
    },
    {
     "name": "stdout",
     "output_type": "stream",
     "text": [
      "QUERY:  Precipitation amount in Zollikofen May 15, 2021 5h\n",
      "QUERY:  temperature in Zollikofen May 15, 2021 5h\n",
      "QUERY:  humidity in Zollikofen May 15, 2021 5h\n",
      "ERROR: no data available-------------  humidity in Zollikofen May 15, 2021 5h\n",
      "ERROR:------------- name 'error' is not defined  ----------  humidity in Zollikofen May 15, 2021 5h\n",
      "QUERY:  wind speed in Zollikofen May 15, 2021 5h\n",
      "QUERY:  Moon Phase calculatorMay 15, 2021 5h\n"
     ]
    },
    {
     "name": "stderr",
     "output_type": "stream",
     "text": [
      "\r",
      "  5%|███▉                                                                           | 42/853 [14:57<4:49:05, 21.39s/it]"
     ]
    },
    {
     "name": "stdout",
     "output_type": "stream",
     "text": [
      "QUERY:  Precipitation amount in Zollikofen May 15, 2021 6h\n",
      "QUERY:  temperature in Zollikofen May 15, 2021 6h\n",
      "QUERY:  humidity in Zollikofen May 15, 2021 6h\n",
      "ERROR: no data available-------------  humidity in Zollikofen May 15, 2021 6h\n",
      "ERROR:------------- name 'error' is not defined  ----------  humidity in Zollikofen May 15, 2021 6h\n",
      "QUERY:  wind speed in Zollikofen May 15, 2021 6h\n",
      "QUERY:  Moon Phase calculatorMay 15, 2021 6h\n"
     ]
    },
    {
     "name": "stderr",
     "output_type": "stream",
     "text": [
      "\r",
      "  5%|███▉                                                                           | 43/853 [15:15<4:35:06, 20.38s/it]"
     ]
    },
    {
     "name": "stdout",
     "output_type": "stream",
     "text": [
      "QUERY:  Precipitation amount in Zollikofen May 15, 2021 7h\n",
      "QUERY:  temperature in Zollikofen May 15, 2021 7h\n",
      "QUERY:  humidity in Zollikofen May 15, 2021 7h\n",
      "ERROR: no data available-------------  humidity in Zollikofen May 15, 2021 7h\n",
      "ERROR:------------- name 'error' is not defined  ----------  humidity in Zollikofen May 15, 2021 7h\n",
      "QUERY:  wind speed in Zollikofen May 15, 2021 7h\n",
      "QUERY:  Moon Phase calculatorMay 15, 2021 7h\n"
     ]
    },
    {
     "name": "stderr",
     "output_type": "stream",
     "text": [
      "\r",
      "  5%|████                                                                           | 44/853 [15:39<4:47:11, 21.30s/it]"
     ]
    },
    {
     "name": "stdout",
     "output_type": "stream",
     "text": [
      "QUERY:  Precipitation amount in Zollikofen May 15, 2021 8h\n",
      "QUERY:  temperature in Zollikofen May 15, 2021 8h\n",
      "QUERY:  humidity in Zollikofen May 15, 2021 8h\n",
      "ERROR: no data available-------------  humidity in Zollikofen May 15, 2021 8h\n",
      "ERROR:------------- name 'error' is not defined  ----------  humidity in Zollikofen May 15, 2021 8h\n",
      "QUERY:  wind speed in Zollikofen May 15, 2021 8h\n",
      "QUERY:  Moon Phase calculatorMay 15, 2021 8h\n"
     ]
    },
    {
     "name": "stderr",
     "output_type": "stream",
     "text": [
      "\r",
      "  5%|████▏                                                                          | 45/853 [16:01<4:50:08, 21.55s/it]"
     ]
    },
    {
     "name": "stdout",
     "output_type": "stream",
     "text": [
      "QUERY:  Precipitation amount in Zollikofen May 15, 2021 9h\n",
      "QUERY:  temperature in Zollikofen May 15, 2021 9h\n",
      "QUERY:  humidity in Zollikofen May 15, 2021 9h\n",
      "ERROR: no data available-------------  humidity in Zollikofen May 15, 2021 9h\n",
      "ERROR:------------- name 'error' is not defined  ----------  humidity in Zollikofen May 15, 2021 9h\n",
      "QUERY:  wind speed in Zollikofen May 15, 2021 9h\n",
      "QUERY:  Moon Phase calculatorMay 15, 2021 9h\n"
     ]
    },
    {
     "name": "stderr",
     "output_type": "stream",
     "text": [
      "\r",
      "  5%|████▎                                                                          | 46/853 [16:23<4:50:51, 21.63s/it]"
     ]
    },
    {
     "name": "stdout",
     "output_type": "stream",
     "text": [
      "QUERY:  Precipitation amount in Zollikofen May 15, 2021 10h\n",
      "QUERY:  temperature in Zollikofen May 15, 2021 10h\n",
      "QUERY:  humidity in Zollikofen May 15, 2021 10h\n",
      "ERROR: no data available-------------  humidity in Zollikofen May 15, 2021 10h\n",
      "ERROR:------------- name 'error' is not defined  ----------  humidity in Zollikofen May 15, 2021 10h\n",
      "QUERY:  wind speed in Zollikofen May 15, 2021 10h\n",
      "QUERY:  Moon Phase calculatorMay 15, 2021 10h\n"
     ]
    },
    {
     "name": "stderr",
     "output_type": "stream",
     "text": [
      "\r",
      "  6%|████▎                                                                          | 47/853 [16:47<5:01:58, 22.48s/it]"
     ]
    },
    {
     "name": "stdout",
     "output_type": "stream",
     "text": [
      "QUERY:  Precipitation amount in Zollikofen May 15, 2021 11h\n",
      "QUERY:  temperature in Zollikofen May 15, 2021 11h\n",
      "QUERY:  humidity in Zollikofen May 15, 2021 11h\n",
      "ERROR: no data available-------------  humidity in Zollikofen May 15, 2021 11h\n",
      "ERROR:------------- name 'error' is not defined  ----------  humidity in Zollikofen May 15, 2021 11h\n",
      "QUERY:  wind speed in Zollikofen May 15, 2021 11h\n",
      "QUERY:  Moon Phase calculatorMay 15, 2021 11h\n"
     ]
    },
    {
     "name": "stderr",
     "output_type": "stream",
     "text": [
      "\r",
      "  6%|████▍                                                                          | 48/853 [17:08<4:53:33, 21.88s/it]"
     ]
    },
    {
     "name": "stdout",
     "output_type": "stream",
     "text": [
      "QUERY:  Precipitation amount in Zollikofen May 15, 2021 12h\n",
      "QUERY:  temperature in Zollikofen May 15, 2021 12h\n",
      "QUERY:  humidity in Zollikofen May 15, 2021 12h\n",
      "ERROR: no data available-------------  humidity in Zollikofen May 15, 2021 12h\n",
      "ERROR:------------- name 'error' is not defined  ----------  humidity in Zollikofen May 15, 2021 12h\n",
      "QUERY:  wind speed in Zollikofen May 15, 2021 12h\n",
      "QUERY:  Moon Phase calculatorMay 15, 2021 12h\n"
     ]
    },
    {
     "name": "stderr",
     "output_type": "stream",
     "text": [
      "\r",
      "  6%|████▌                                                                          | 49/853 [17:31<4:58:41, 22.29s/it]"
     ]
    },
    {
     "name": "stdout",
     "output_type": "stream",
     "text": [
      "QUERY:  Precipitation amount in Zollikofen May 15, 2021 13h\n",
      "QUERY:  temperature in Zollikofen May 15, 2021 13h\n",
      "QUERY:  humidity in Zollikofen May 15, 2021 13h\n",
      "ERROR: no data available-------------  humidity in Zollikofen May 15, 2021 13h\n",
      "ERROR:------------- name 'error' is not defined  ----------  humidity in Zollikofen May 15, 2021 13h\n",
      "QUERY:  wind speed in Zollikofen May 15, 2021 13h\n",
      "QUERY:  Moon Phase calculatorMay 15, 2021 13h\n"
     ]
    },
    {
     "name": "stderr",
     "output_type": "stream",
     "text": [
      "\r",
      "  6%|████▋                                                                          | 50/853 [17:58<5:19:48, 23.90s/it]"
     ]
    },
    {
     "name": "stdout",
     "output_type": "stream",
     "text": [
      "QUERY:  Precipitation amount in Zollikofen May 15, 2021 14h\n",
      "QUERY:  temperature in Zollikofen May 15, 2021 14h\n",
      "QUERY:  humidity in Zollikofen May 15, 2021 14h\n",
      "ERROR: no data available-------------  humidity in Zollikofen May 15, 2021 14h\n",
      "ERROR:------------- name 'error' is not defined  ----------  humidity in Zollikofen May 15, 2021 14h\n",
      "QUERY:  wind speed in Zollikofen May 15, 2021 14h\n",
      "QUERY:  Moon Phase calculatorMay 15, 2021 14h\n",
      "(6567, 7)\n"
     ]
    },
    {
     "data": {
      "text/html": [
       "<div>\n",
       "<style scoped>\n",
       "    .dataframe tbody tr th:only-of-type {\n",
       "        vertical-align: middle;\n",
       "    }\n",
       "\n",
       "    .dataframe tbody tr th {\n",
       "        vertical-align: top;\n",
       "    }\n",
       "\n",
       "    .dataframe thead th {\n",
       "        text-align: right;\n",
       "    }\n",
       "</style>\n",
       "<table border=\"1\" class=\"dataframe\">\n",
       "  <thead>\n",
       "    <tr style=\"text-align: right;\">\n",
       "      <th></th>\n",
       "      <th>date</th>\n",
       "      <th>temperature</th>\n",
       "      <th>humidity</th>\n",
       "      <th>wind speed</th>\n",
       "      <th>Precipitation amount</th>\n",
       "      <th>query</th>\n",
       "      <th>Moon Phase calculator</th>\n",
       "    </tr>\n",
       "  </thead>\n",
       "  <tbody>\n",
       "    <tr>\n",
       "      <th>8</th>\n",
       "      <td>2021-05-15 13:00:00</td>\n",
       "      <td>8 °C\\n(1:00 pm CEST | Saturday, May 15, 2021)</td>\n",
       "      <td>ERROR</td>\n",
       "      <td>2 m/s\\n(1:00 pm CEST | Saturday, May 15, 2021)</td>\n",
       "      <td>(unknown)\\n(1:00 pm CEST | Saturday, May 15, 2...</td>\n",
       "      <td>Moon Phase calculatorMay 15, 2021 13h</td>\n",
       "      <td>| waxing crescent moon\\n11.72% illuminated</td>\n",
       "    </tr>\n",
       "    <tr>\n",
       "      <th>9</th>\n",
       "      <td>2021-05-15 14:00:00</td>\n",
       "      <td>8 °C\\n(2:00 pm CEST | Saturday, May 15, 2021)</td>\n",
       "      <td>ERROR</td>\n",
       "      <td>2 m/s\\n(2:00 pm CEST | Saturday, May 15, 2021)</td>\n",
       "      <td>(unknown)\\n(2:00 pm CEST | Saturday, May 15, 2...</td>\n",
       "      <td>Moon Phase calculatorMay 15, 2021 14h</td>\n",
       "      <td>| waxing crescent moon\\n11.98% illuminated</td>\n",
       "    </tr>\n",
       "  </tbody>\n",
       "</table>\n",
       "</div>"
      ],
      "text/plain": [
       "                 date                                    temperature humidity  \\\n",
       "8 2021-05-15 13:00:00  8 °C\\n(1:00 pm CEST | Saturday, May 15, 2021)    ERROR   \n",
       "9 2021-05-15 14:00:00  8 °C\\n(2:00 pm CEST | Saturday, May 15, 2021)    ERROR   \n",
       "\n",
       "                                       wind speed  \\\n",
       "8  2 m/s\\n(1:00 pm CEST | Saturday, May 15, 2021)   \n",
       "9  2 m/s\\n(2:00 pm CEST | Saturday, May 15, 2021)   \n",
       "\n",
       "                                Precipitation amount  \\\n",
       "8  (unknown)\\n(1:00 pm CEST | Saturday, May 15, 2...   \n",
       "9  (unknown)\\n(2:00 pm CEST | Saturday, May 15, 2...   \n",
       "\n",
       "                                   query  \\\n",
       "8  Moon Phase calculatorMay 15, 2021 13h   \n",
       "9  Moon Phase calculatorMay 15, 2021 14h   \n",
       "\n",
       "                        Moon Phase calculator  \n",
       "8  | waxing crescent moon\\n11.72% illuminated  \n",
       "9  | waxing crescent moon\\n11.98% illuminated  "
      ]
     },
     "metadata": {},
     "output_type": "display_data"
    },
    {
     "name": "stderr",
     "output_type": "stream",
     "text": [
      "\r",
      "  6%|████▋                                                                          | 51/853 [18:19<5:08:00, 23.04s/it]"
     ]
    },
    {
     "name": "stdout",
     "output_type": "stream",
     "text": [
      "QUERY:  Precipitation amount in Zollikofen May 15, 2021 15h\n",
      "QUERY:  temperature in Zollikofen May 15, 2021 15h\n",
      "QUERY:  humidity in Zollikofen May 15, 2021 15h\n",
      "ERROR: no data available-------------  humidity in Zollikofen May 15, 2021 15h\n",
      "ERROR:------------- name 'error' is not defined  ----------  humidity in Zollikofen May 15, 2021 15h\n",
      "QUERY:  wind speed in Zollikofen May 15, 2021 15h\n",
      "QUERY:  Moon Phase calculatorMay 15, 2021 15h\n"
     ]
    },
    {
     "name": "stderr",
     "output_type": "stream",
     "text": [
      "\r",
      "  6%|████▊                                                                          | 52/853 [18:42<5:05:44, 22.90s/it]"
     ]
    },
    {
     "name": "stdout",
     "output_type": "stream",
     "text": [
      "QUERY:  Precipitation amount in Zollikofen May 15, 2021 16h\n",
      "QUERY:  temperature in Zollikofen May 15, 2021 16h\n",
      "QUERY:  humidity in Zollikofen May 15, 2021 16h\n",
      "ERROR: no data available-------------  humidity in Zollikofen May 15, 2021 16h\n",
      "ERROR:------------- name 'error' is not defined  ----------  humidity in Zollikofen May 15, 2021 16h\n",
      "QUERY:  wind speed in Zollikofen May 15, 2021 16h\n",
      "QUERY:  Moon Phase calculatorMay 15, 2021 16h\n"
     ]
    },
    {
     "name": "stderr",
     "output_type": "stream",
     "text": [
      "\r",
      "  6%|████▉                                                                          | 53/853 [19:07<5:15:25, 23.66s/it]"
     ]
    },
    {
     "name": "stdout",
     "output_type": "stream",
     "text": [
      "QUERY:  Precipitation amount in Zollikofen May 15, 2021 17h\n",
      "QUERY:  temperature in Zollikofen May 15, 2021 17h\n",
      "QUERY:  humidity in Zollikofen May 15, 2021 17h\n",
      "ERROR: no data available-------------  humidity in Zollikofen May 15, 2021 17h\n",
      "ERROR:------------- name 'error' is not defined  ----------  humidity in Zollikofen May 15, 2021 17h\n",
      "QUERY:  wind speed in Zollikofen May 15, 2021 17h\n",
      "QUERY:  Moon Phase calculatorMay 15, 2021 17h\n"
     ]
    },
    {
     "name": "stderr",
     "output_type": "stream",
     "text": [
      "\r",
      "  6%|█████                                                                          | 54/853 [19:28<5:01:01, 22.61s/it]"
     ]
    },
    {
     "name": "stdout",
     "output_type": "stream",
     "text": [
      "QUERY:  Precipitation amount in Zollikofen May 15, 2021 18h\n",
      "QUERY:  temperature in Zollikofen May 15, 2021 18h\n",
      "QUERY:  humidity in Zollikofen May 15, 2021 18h\n",
      "ERROR: no data available-------------  humidity in Zollikofen May 15, 2021 18h\n",
      "ERROR:------------- name 'error' is not defined  ----------  humidity in Zollikofen May 15, 2021 18h\n",
      "QUERY:  wind speed in Zollikofen May 15, 2021 18h\n",
      "QUERY:  Moon Phase calculatorMay 15, 2021 18h\n"
     ]
    },
    {
     "name": "stderr",
     "output_type": "stream",
     "text": [
      "\r",
      "  6%|█████                                                                          | 55/853 [19:48<4:53:23, 22.06s/it]"
     ]
    },
    {
     "name": "stdout",
     "output_type": "stream",
     "text": [
      "QUERY:  Precipitation amount in Zollikofen May 15, 2021 19h\n",
      "QUERY:  temperature in Zollikofen May 15, 2021 19h\n",
      "QUERY:  humidity in Zollikofen May 15, 2021 19h\n",
      "ERROR: no data available-------------  humidity in Zollikofen May 15, 2021 19h\n",
      "ERROR:------------- name 'error' is not defined  ----------  humidity in Zollikofen May 15, 2021 19h\n",
      "QUERY:  wind speed in Zollikofen May 15, 2021 19h\n",
      "QUERY:  Moon Phase calculatorMay 15, 2021 19h\n"
     ]
    },
    {
     "name": "stderr",
     "output_type": "stream",
     "text": [
      "\r",
      "  7%|█████▏                                                                         | 56/853 [20:09<4:46:44, 21.59s/it]"
     ]
    },
    {
     "name": "stdout",
     "output_type": "stream",
     "text": [
      "QUERY:  Precipitation amount in Zollikofen May 15, 2021 20h\n",
      "QUERY:  temperature in Zollikofen May 15, 2021 20h\n",
      "QUERY:  humidity in Zollikofen May 15, 2021 20h\n",
      "ERROR: no data available-------------  humidity in Zollikofen May 15, 2021 20h\n",
      "ERROR:------------- name 'error' is not defined  ----------  humidity in Zollikofen May 15, 2021 20h\n",
      "QUERY:  wind speed in Zollikofen May 15, 2021 20h\n",
      "QUERY:  Moon Phase calculatorMay 15, 2021 20h\n"
     ]
    },
    {
     "name": "stderr",
     "output_type": "stream",
     "text": [
      "\r",
      "  7%|█████▎                                                                         | 57/853 [20:30<4:42:47, 21.32s/it]"
     ]
    },
    {
     "name": "stdout",
     "output_type": "stream",
     "text": [
      "QUERY:  Precipitation amount in Zollikofen May 15, 2021 21h\n",
      "QUERY:  temperature in Zollikofen May 15, 2021 21h\n",
      "QUERY:  humidity in Zollikofen May 15, 2021 21h\n",
      "ERROR: no data available-------------  humidity in Zollikofen May 15, 2021 21h\n",
      "ERROR:------------- name 'error' is not defined  ----------  humidity in Zollikofen May 15, 2021 21h\n",
      "QUERY:  wind speed in Zollikofen May 15, 2021 21h\n",
      "QUERY:  Moon Phase calculatorMay 15, 2021 21h\n"
     ]
    },
    {
     "name": "stderr",
     "output_type": "stream",
     "text": [
      "\r",
      "  7%|█████▎                                                                         | 58/853 [20:47<4:25:31, 20.04s/it]"
     ]
    },
    {
     "name": "stdout",
     "output_type": "stream",
     "text": [
      "QUERY:  Precipitation amount in Zollikofen May 15, 2021 22h\n",
      "QUERY:  temperature in Zollikofen May 15, 2021 22h\n",
      "ERROR: no data available-------------  temperature in Zollikofen May 15, 2021 22h\n",
      "ERROR:------------- name 'error' is not defined  ----------  temperature in Zollikofen May 15, 2021 22h\n",
      "QUERY:  humidity in Zollikofen May 15, 2021 22h\n",
      "ERROR: no data available-------------  humidity in Zollikofen May 15, 2021 22h\n",
      "ERROR:------------- name 'error' is not defined  ----------  humidity in Zollikofen May 15, 2021 22h\n",
      "QUERY:  wind speed in Zollikofen May 15, 2021 22h\n",
      "ERROR: no data available-------------  wind speed in Zollikofen May 15, 2021 22h\n",
      "ERROR:------------- name 'error' is not defined  ----------  wind speed in Zollikofen May 15, 2021 22h\n",
      "QUERY:  Moon Phase calculatorMay 15, 2021 22h\n"
     ]
    },
    {
     "name": "stderr",
     "output_type": "stream",
     "text": [
      "\r",
      "  7%|█████▍                                                                         | 59/853 [21:06<4:21:48, 19.78s/it]"
     ]
    },
    {
     "name": "stdout",
     "output_type": "stream",
     "text": [
      "QUERY:  Precipitation amount in Zollikofen May 15, 2021 23h\n",
      "QUERY:  temperature in Zollikofen May 15, 2021 23h\n",
      "ERROR: no data available-------------  temperature in Zollikofen May 15, 2021 23h\n",
      "ERROR:------------- name 'error' is not defined  ----------  temperature in Zollikofen May 15, 2021 23h\n",
      "QUERY:  humidity in Zollikofen May 15, 2021 23h\n",
      "ERROR: no data available-------------  humidity in Zollikofen May 15, 2021 23h\n",
      "ERROR:------------- name 'error' is not defined  ----------  humidity in Zollikofen May 15, 2021 23h\n",
      "QUERY:  wind speed in Zollikofen May 15, 2021 23h\n",
      "ERROR: no data available-------------  wind speed in Zollikofen May 15, 2021 23h\n",
      "ERROR:------------- name 'error' is not defined  ----------  wind speed in Zollikofen May 15, 2021 23h\n",
      "QUERY:  Moon Phase calculatorMay 15, 2021 23h\n"
     ]
    },
    {
     "name": "stderr",
     "output_type": "stream",
     "text": [
      "\r",
      "  7%|█████▌                                                                         | 60/853 [21:24<4:14:06, 19.23s/it]"
     ]
    },
    {
     "name": "stdout",
     "output_type": "stream",
     "text": [
      "QUERY:  Precipitation amount in Zollikofen June 1, 2021 21h\n",
      "QUERY:  temperature in Zollikofen June 1, 2021 21h\n",
      "QUERY:  humidity in Zollikofen June 1, 2021 21h\n",
      "ERROR: no data available-------------  humidity in Zollikofen June 1, 2021 21h\n",
      "ERROR:------------- name 'error' is not defined  ----------  humidity in Zollikofen June 1, 2021 21h\n",
      "QUERY:  wind speed in Zollikofen June 1, 2021 21h\n",
      "QUERY:  Moon Phase calculatorJune 1, 2021 21h\n",
      "(6577, 7)\n"
     ]
    },
    {
     "data": {
      "text/html": [
       "<div>\n",
       "<style scoped>\n",
       "    .dataframe tbody tr th:only-of-type {\n",
       "        vertical-align: middle;\n",
       "    }\n",
       "\n",
       "    .dataframe tbody tr th {\n",
       "        vertical-align: top;\n",
       "    }\n",
       "\n",
       "    .dataframe thead th {\n",
       "        text-align: right;\n",
       "    }\n",
       "</style>\n",
       "<table border=\"1\" class=\"dataframe\">\n",
       "  <thead>\n",
       "    <tr style=\"text-align: right;\">\n",
       "      <th></th>\n",
       "      <th>date</th>\n",
       "      <th>temperature</th>\n",
       "      <th>humidity</th>\n",
       "      <th>wind speed</th>\n",
       "      <th>Precipitation amount</th>\n",
       "      <th>query</th>\n",
       "      <th>Moon Phase calculator</th>\n",
       "    </tr>\n",
       "  </thead>\n",
       "  <tbody>\n",
       "    <tr>\n",
       "      <th>8</th>\n",
       "      <td>2021-05-15 23:00:00</td>\n",
       "      <td>ERROR</td>\n",
       "      <td>ERROR</td>\n",
       "      <td>ERROR</td>\n",
       "      <td>(unknown)\\n(11:00 pm CEST | Saturday, May 15, ...</td>\n",
       "      <td>Moon Phase calculatorMay 15, 2021 23h</td>\n",
       "      <td>| waxing crescent moon\\n14.45% illuminated</td>\n",
       "    </tr>\n",
       "    <tr>\n",
       "      <th>9</th>\n",
       "      <td>2021-06-01 21:00:00</td>\n",
       "      <td>23 °C\\n(9:00 pm CEST | Tuesday, June 1, 2021)</td>\n",
       "      <td>ERROR</td>\n",
       "      <td>4 m/s\\n(9:00 pm CEST | Tuesday, June 1, 2021)</td>\n",
       "      <td>(unknown)\\n(9:00 pm CEST | Tuesday, June 1, 2021)</td>\n",
       "      <td>Moon Phase calculatorJune 1, 2021 21h</td>\n",
       "      <td>| waning gibbous moon\\n55.45% illuminated</td>\n",
       "    </tr>\n",
       "  </tbody>\n",
       "</table>\n",
       "</div>"
      ],
      "text/plain": [
       "                 date                                    temperature humidity  \\\n",
       "8 2021-05-15 23:00:00                                          ERROR    ERROR   \n",
       "9 2021-06-01 21:00:00  23 °C\\n(9:00 pm CEST | Tuesday, June 1, 2021)    ERROR   \n",
       "\n",
       "                                      wind speed  \\\n",
       "8                                          ERROR   \n",
       "9  4 m/s\\n(9:00 pm CEST | Tuesday, June 1, 2021)   \n",
       "\n",
       "                                Precipitation amount  \\\n",
       "8  (unknown)\\n(11:00 pm CEST | Saturday, May 15, ...   \n",
       "9  (unknown)\\n(9:00 pm CEST | Tuesday, June 1, 2021)   \n",
       "\n",
       "                                   query  \\\n",
       "8  Moon Phase calculatorMay 15, 2021 23h   \n",
       "9  Moon Phase calculatorJune 1, 2021 21h   \n",
       "\n",
       "                        Moon Phase calculator  \n",
       "8  | waxing crescent moon\\n14.45% illuminated  \n",
       "9   | waning gibbous moon\\n55.45% illuminated  "
      ]
     },
     "metadata": {},
     "output_type": "display_data"
    },
    {
     "name": "stderr",
     "output_type": "stream",
     "text": [
      "\r",
      "  7%|█████▋                                                                         | 61/853 [21:41<4:05:58, 18.63s/it]"
     ]
    },
    {
     "name": "stdout",
     "output_type": "stream",
     "text": [
      "QUERY:  Precipitation amount in Zollikofen June 2, 2021 14h\n",
      "QUERY:  temperature in Zollikofen June 2, 2021 14h\n",
      "ERROR: no data available-------------  temperature in Zollikofen June 2, 2021 14h\n",
      "ERROR:------------- name 'error' is not defined  ----------  temperature in Zollikofen June 2, 2021 14h\n",
      "QUERY:  humidity in Zollikofen June 2, 2021 14h\n",
      "QUERY:  wind speed in Zollikofen June 2, 2021 14h\n",
      "ERROR: no data available-------------  wind speed in Zollikofen June 2, 2021 14h\n",
      "ERROR:------------- name 'error' is not defined  ----------  wind speed in Zollikofen June 2, 2021 14h\n",
      "QUERY:  Moon Phase calculatorJune 2, 2021 14h\n"
     ]
    },
    {
     "name": "stderr",
     "output_type": "stream",
     "text": [
      "\r",
      "  7%|█████▋                                                                         | 62/853 [21:57<3:54:41, 17.80s/it]"
     ]
    },
    {
     "name": "stdout",
     "output_type": "stream",
     "text": [
      "QUERY:  Precipitation amount in Zollikofen June 2, 2021 15h\n",
      "QUERY:  temperature in Zollikofen June 2, 2021 15h\n",
      "ERROR: no data available-------------  temperature in Zollikofen June 2, 2021 15h\n",
      "ERROR:------------- name 'error' is not defined  ----------  temperature in Zollikofen June 2, 2021 15h\n",
      "QUERY:  humidity in Zollikofen June 2, 2021 15h\n",
      "QUERY:  wind speed in Zollikofen June 2, 2021 15h\n",
      "ERROR: no data available-------------  wind speed in Zollikofen June 2, 2021 15h\n",
      "ERROR:------------- name 'error' is not defined  ----------  wind speed in Zollikofen June 2, 2021 15h\n",
      "QUERY:  Moon Phase calculatorJune 2, 2021 15h\n"
     ]
    },
    {
     "name": "stderr",
     "output_type": "stream",
     "text": [
      "\r",
      "  7%|█████▊                                                                         | 63/853 [22:13<3:47:06, 17.25s/it]"
     ]
    },
    {
     "name": "stdout",
     "output_type": "stream",
     "text": [
      "QUERY:  Precipitation amount in Zollikofen June 2, 2021 16h\n",
      "QUERY:  temperature in Zollikofen June 2, 2021 16h\n",
      "ERROR: no data available-------------  temperature in Zollikofen June 2, 2021 16h\n",
      "ERROR:------------- name 'error' is not defined  ----------  temperature in Zollikofen June 2, 2021 16h\n",
      "QUERY:  humidity in Zollikofen June 2, 2021 16h\n",
      "QUERY:  wind speed in Zollikofen June 2, 2021 16h\n",
      "ERROR: no data available-------------  wind speed in Zollikofen June 2, 2021 16h\n",
      "ERROR:------------- name 'error' is not defined  ----------  wind speed in Zollikofen June 2, 2021 16h\n",
      "QUERY:  Moon Phase calculatorJune 2, 2021 16h\n"
     ]
    },
    {
     "name": "stderr",
     "output_type": "stream",
     "text": [
      "\r",
      "  8%|█████▉                                                                         | 64/853 [22:29<3:44:07, 17.04s/it]"
     ]
    },
    {
     "name": "stdout",
     "output_type": "stream",
     "text": [
      "QUERY:  Precipitation amount in Zollikofen June 4, 2021 23h\n",
      "QUERY:  temperature in Zollikofen June 4, 2021 23h\n",
      "QUERY:  humidity in Zollikofen June 4, 2021 23h\n",
      "ERROR: no data available-------------  humidity in Zollikofen June 4, 2021 23h\n",
      "ERROR:------------- name 'error' is not defined  ----------  humidity in Zollikofen June 4, 2021 23h\n",
      "QUERY:  wind speed in Zollikofen June 4, 2021 23h\n",
      "QUERY:  Moon Phase calculatorJune 4, 2021 23h\n"
     ]
    },
    {
     "name": "stderr",
     "output_type": "stream",
     "text": [
      "\r",
      "  8%|██████                                                                         | 65/853 [22:46<3:43:01, 16.98s/it]"
     ]
    },
    {
     "name": "stdout",
     "output_type": "stream",
     "text": [
      "QUERY:  Precipitation amount in Zollikofen June 8, 2021 20h\n",
      "QUERY:  temperature in Zollikofen June 8, 2021 20h\n",
      "QUERY:  humidity in Zollikofen June 8, 2021 20h\n",
      "ERROR: no data available-------------  humidity in Zollikofen June 8, 2021 20h\n",
      "ERROR:------------- name 'error' is not defined  ----------  humidity in Zollikofen June 8, 2021 20h\n",
      "QUERY:  wind speed in Zollikofen June 8, 2021 20h\n",
      "QUERY:  Moon Phase calculatorJune 8, 2021 20h\n"
     ]
    },
    {
     "name": "stderr",
     "output_type": "stream",
     "text": [
      "\r",
      "  8%|██████                                                                         | 66/853 [23:03<3:41:26, 16.88s/it]"
     ]
    },
    {
     "name": "stdout",
     "output_type": "stream",
     "text": [
      "QUERY:  Precipitation amount in Zollikofen June 15, 2021 12h\n",
      "QUERY:  temperature in Zollikofen June 15, 2021 12h\n",
      "QUERY:  humidity in Zollikofen June 15, 2021 12h\n",
      "QUERY:  wind speed in Zollikofen June 15, 2021 12h\n",
      "QUERY:  Moon Phase calculatorJune 15, 2021 12h\n"
     ]
    },
    {
     "name": "stderr",
     "output_type": "stream",
     "text": [
      "\r",
      "  8%|██████▏                                                                        | 67/853 [23:20<3:42:25, 16.98s/it]"
     ]
    },
    {
     "name": "stdout",
     "output_type": "stream",
     "text": [
      "QUERY:  Precipitation amount in Zollikofen June 17, 2021 5h\n",
      "QUERY:  temperature in Zollikofen June 17, 2021 5h\n",
      "QUERY:  humidity in Zollikofen June 17, 2021 5h\n",
      "QUERY:  wind speed in Zollikofen June 17, 2021 5h\n",
      "QUERY:  Moon Phase calculatorJune 17, 2021 5h\n"
     ]
    },
    {
     "name": "stderr",
     "output_type": "stream",
     "text": [
      "\r",
      "  8%|██████▎                                                                        | 68/853 [23:36<3:39:26, 16.77s/it]"
     ]
    },
    {
     "name": "stdout",
     "output_type": "stream",
     "text": [
      "QUERY:  Precipitation amount in Zollikofen June 21, 2021 8h\n",
      "QUERY:  temperature in Zollikofen June 21, 2021 8h\n",
      "QUERY:  humidity in Zollikofen June 21, 2021 8h\n",
      "QUERY:  wind speed in Zollikofen June 21, 2021 8h\n",
      "QUERY:  Moon Phase calculatorJune 21, 2021 8h\n"
     ]
    },
    {
     "name": "stderr",
     "output_type": "stream",
     "text": [
      "\r",
      "  8%|██████▍                                                                        | 69/853 [23:53<3:39:36, 16.81s/it]"
     ]
    },
    {
     "name": "stdout",
     "output_type": "stream",
     "text": [
      "QUERY:  Precipitation amount in Zollikofen June 22, 2021 6h\n",
      "QUERY:  temperature in Zollikofen June 22, 2021 6h\n",
      "QUERY:  humidity in Zollikofen June 22, 2021 6h\n",
      "ERROR: no data available-------------  humidity in Zollikofen June 22, 2021 6h\n",
      "ERROR:------------- name 'error' is not defined  ----------  humidity in Zollikofen June 22, 2021 6h\n",
      "QUERY:  wind speed in Zollikofen June 22, 2021 6h\n",
      "QUERY:  Moon Phase calculatorJune 22, 2021 6h\n"
     ]
    },
    {
     "name": "stderr",
     "output_type": "stream",
     "text": [
      "\r",
      "  8%|██████▍                                                                        | 70/853 [24:12<3:46:04, 17.32s/it]"
     ]
    },
    {
     "name": "stdout",
     "output_type": "stream",
     "text": [
      "QUERY:  Precipitation amount in Zollikofen June 28, 2021 17h\n",
      "QUERY:  temperature in Zollikofen June 28, 2021 17h\n",
      "QUERY:  humidity in Zollikofen June 28, 2021 17h\n",
      "QUERY:  wind speed in Zollikofen June 28, 2021 17h\n",
      "QUERY:  Moon Phase calculatorJune 28, 2021 17h\n",
      "(6587, 7)\n"
     ]
    },
    {
     "data": {
      "text/html": [
       "<div>\n",
       "<style scoped>\n",
       "    .dataframe tbody tr th:only-of-type {\n",
       "        vertical-align: middle;\n",
       "    }\n",
       "\n",
       "    .dataframe tbody tr th {\n",
       "        vertical-align: top;\n",
       "    }\n",
       "\n",
       "    .dataframe thead th {\n",
       "        text-align: right;\n",
       "    }\n",
       "</style>\n",
       "<table border=\"1\" class=\"dataframe\">\n",
       "  <thead>\n",
       "    <tr style=\"text-align: right;\">\n",
       "      <th></th>\n",
       "      <th>date</th>\n",
       "      <th>temperature</th>\n",
       "      <th>humidity</th>\n",
       "      <th>wind speed</th>\n",
       "      <th>Precipitation amount</th>\n",
       "      <th>query</th>\n",
       "      <th>Moon Phase calculator</th>\n",
       "    </tr>\n",
       "  </thead>\n",
       "  <tbody>\n",
       "    <tr>\n",
       "      <th>8</th>\n",
       "      <td>2021-06-22 06:00:00</td>\n",
       "      <td>15 °C\\n(6:00 am CEST | Tuesday, June 22, 2021)</td>\n",
       "      <td>ERROR</td>\n",
       "      <td>1 m/s\\n(6:00 am CEST | Tuesday, June 22, 2021)</td>\n",
       "      <td>no precipitation\\n(6:00 am CEST | Tuesday, Jun...</td>\n",
       "      <td>Moon Phase calculatorJune 22, 2021 6h</td>\n",
       "      <td>| waxing gibbous moon\\n90.22% illuminated</td>\n",
       "    </tr>\n",
       "    <tr>\n",
       "      <th>9</th>\n",
       "      <td>2021-06-28 17:00:00</td>\n",
       "      <td>18 °C\\n(5:00 pm CEST | Monday, June 28, 2021)</td>\n",
       "      <td>average: 97% (94 to 100%)\\n(5:00 pm CEST | Mon...</td>\n",
       "      <td>4 m/s\\n(5:00 pm CEST | Monday, June 28, 2021)</td>\n",
       "      <td>no precipitation\\n(5:00 pm CEST | Monday, June...</td>\n",
       "      <td>Moon Phase calculatorJune 28, 2021 17h</td>\n",
       "      <td>| waning gibbous moon\\n81.23% illuminated</td>\n",
       "    </tr>\n",
       "  </tbody>\n",
       "</table>\n",
       "</div>"
      ],
      "text/plain": [
       "                 date                                     temperature  \\\n",
       "8 2021-06-22 06:00:00  15 °C\\n(6:00 am CEST | Tuesday, June 22, 2021)   \n",
       "9 2021-06-28 17:00:00   18 °C\\n(5:00 pm CEST | Monday, June 28, 2021)   \n",
       "\n",
       "                                            humidity  \\\n",
       "8                                              ERROR   \n",
       "9  average: 97% (94 to 100%)\\n(5:00 pm CEST | Mon...   \n",
       "\n",
       "                                       wind speed  \\\n",
       "8  1 m/s\\n(6:00 am CEST | Tuesday, June 22, 2021)   \n",
       "9   4 m/s\\n(5:00 pm CEST | Monday, June 28, 2021)   \n",
       "\n",
       "                                Precipitation amount  \\\n",
       "8  no precipitation\\n(6:00 am CEST | Tuesday, Jun...   \n",
       "9  no precipitation\\n(5:00 pm CEST | Monday, June...   \n",
       "\n",
       "                                    query  \\\n",
       "8   Moon Phase calculatorJune 22, 2021 6h   \n",
       "9  Moon Phase calculatorJune 28, 2021 17h   \n",
       "\n",
       "                       Moon Phase calculator  \n",
       "8  | waxing gibbous moon\\n90.22% illuminated  \n",
       "9  | waning gibbous moon\\n81.23% illuminated  "
      ]
     },
     "metadata": {},
     "output_type": "display_data"
    },
    {
     "name": "stderr",
     "output_type": "stream",
     "text": [
      "\r",
      "  8%|██████▌                                                                        | 71/853 [24:30<3:49:02, 17.57s/it]"
     ]
    },
    {
     "name": "stdout",
     "output_type": "stream",
     "text": [
      "QUERY:  Precipitation amount in Zollikofen June 30, 2021 11h\n",
      "QUERY:  temperature in Zollikofen June 30, 2021 11h\n",
      "QUERY:  humidity in Zollikofen June 30, 2021 11h\n",
      "QUERY:  wind speed in Zollikofen June 30, 2021 11h\n",
      "QUERY:  Moon Phase calculatorJune 30, 2021 11h\n"
     ]
    },
    {
     "name": "stderr",
     "output_type": "stream",
     "text": [
      "\r",
      "  8%|██████▋                                                                        | 72/853 [24:47<3:45:58, 17.36s/it]"
     ]
    },
    {
     "name": "stdout",
     "output_type": "stream",
     "text": [
      "QUERY:  Precipitation amount in Zollikofen June 30, 2021 12h\n",
      "QUERY:  temperature in Zollikofen June 30, 2021 12h\n",
      "QUERY:  humidity in Zollikofen June 30, 2021 12h\n",
      "QUERY:  wind speed in Zollikofen June 30, 2021 12h\n",
      "QUERY:  Moon Phase calculatorJune 30, 2021 12h\n"
     ]
    },
    {
     "name": "stderr",
     "output_type": "stream",
     "text": [
      "\r",
      "  9%|██████▊                                                                        | 73/853 [25:06<3:52:16, 17.87s/it]"
     ]
    },
    {
     "name": "stdout",
     "output_type": "stream",
     "text": [
      "QUERY:  Precipitation amount in Zollikofen June 30, 2021 13h\n",
      "QUERY:  temperature in Zollikofen June 30, 2021 13h\n",
      "QUERY:  humidity in Zollikofen June 30, 2021 13h\n",
      "QUERY:  wind speed in Zollikofen June 30, 2021 13h\n",
      "QUERY:  Moon Phase calculatorJune 30, 2021 13h\n"
     ]
    },
    {
     "name": "stderr",
     "output_type": "stream",
     "text": [
      "\r",
      "  9%|██████▊                                                                        | 74/853 [25:28<4:08:32, 19.14s/it]"
     ]
    },
    {
     "name": "stdout",
     "output_type": "stream",
     "text": [
      "QUERY:  Precipitation amount in Zollikofen June 30, 2021 14h\n",
      "QUERY:  temperature in Zollikofen June 30, 2021 14h\n",
      "QUERY:  humidity in Zollikofen June 30, 2021 14h\n",
      "QUERY:  wind speed in Zollikofen June 30, 2021 14h\n",
      "QUERY:  Moon Phase calculatorJune 30, 2021 14h\n"
     ]
    },
    {
     "name": "stderr",
     "output_type": "stream",
     "text": [
      "\r",
      "  9%|██████▉                                                                        | 75/853 [25:49<4:15:49, 19.73s/it]"
     ]
    },
    {
     "name": "stdout",
     "output_type": "stream",
     "text": [
      "QUERY:  Precipitation amount in Zollikofen June 30, 2021 15h\n",
      "QUERY:  temperature in Zollikofen June 30, 2021 15h\n",
      "QUERY:  humidity in Zollikofen June 30, 2021 15h\n",
      "QUERY:  wind speed in Zollikofen June 30, 2021 15h\n",
      "QUERY:  Moon Phase calculatorJune 30, 2021 15h\n"
     ]
    },
    {
     "name": "stderr",
     "output_type": "stream",
     "text": [
      "\r",
      "  9%|███████                                                                        | 76/853 [26:12<4:29:32, 20.81s/it]"
     ]
    },
    {
     "name": "stdout",
     "output_type": "stream",
     "text": [
      "QUERY:  Precipitation amount in Zollikofen June 30, 2021 16h\n",
      "QUERY:  temperature in Zollikofen June 30, 2021 16h\n",
      "QUERY:  humidity in Zollikofen June 30, 2021 16h\n",
      "QUERY:  wind speed in Zollikofen June 30, 2021 16h\n",
      "QUERY:  Moon Phase calculatorJune 30, 2021 16h\n"
     ]
    },
    {
     "name": "stderr",
     "output_type": "stream",
     "text": [
      "\r",
      "  9%|███████▏                                                                       | 77/853 [26:33<4:29:29, 20.84s/it]"
     ]
    },
    {
     "name": "stdout",
     "output_type": "stream",
     "text": [
      "QUERY:  Precipitation amount in Zollikofen June 30, 2021 17h\n",
      "QUERY:  temperature in Zollikofen June 30, 2021 17h\n",
      "QUERY:  humidity in Zollikofen June 30, 2021 17h\n",
      "QUERY:  wind speed in Zollikofen June 30, 2021 17h\n",
      "QUERY:  Moon Phase calculatorJune 30, 2021 17h\n"
     ]
    },
    {
     "name": "stderr",
     "output_type": "stream",
     "text": [
      "\r",
      "  9%|███████▏                                                                       | 78/853 [26:54<4:28:56, 20.82s/it]"
     ]
    },
    {
     "name": "stdout",
     "output_type": "stream",
     "text": [
      "QUERY:  Precipitation amount in Zollikofen June 30, 2021 18h\n",
      "QUERY:  temperature in Zollikofen June 30, 2021 18h\n",
      "QUERY:  humidity in Zollikofen June 30, 2021 18h\n",
      "QUERY:  wind speed in Zollikofen June 30, 2021 18h\n",
      "QUERY:  Moon Phase calculatorJune 30, 2021 18h\n"
     ]
    },
    {
     "name": "stderr",
     "output_type": "stream",
     "text": [
      "\r",
      "  9%|███████▎                                                                       | 79/853 [27:16<4:34:32, 21.28s/it]"
     ]
    },
    {
     "name": "stdout",
     "output_type": "stream",
     "text": [
      "QUERY:  Precipitation amount in Zollikofen June 30, 2021 19h\n",
      "QUERY:  temperature in Zollikofen June 30, 2021 19h\n",
      "QUERY:  humidity in Zollikofen June 30, 2021 19h\n",
      "QUERY:  wind speed in Zollikofen June 30, 2021 19h\n",
      "QUERY:  Moon Phase calculatorJune 30, 2021 19h\n"
     ]
    },
    {
     "name": "stderr",
     "output_type": "stream",
     "text": [
      "\r",
      "  9%|███████▍                                                                       | 80/853 [27:37<4:32:57, 21.19s/it]"
     ]
    },
    {
     "name": "stdout",
     "output_type": "stream",
     "text": [
      "QUERY:  Precipitation amount in Zollikofen June 30, 2021 20h\n",
      "QUERY:  temperature in Zollikofen June 30, 2021 20h\n",
      "QUERY:  humidity in Zollikofen June 30, 2021 20h\n",
      "QUERY:  wind speed in Zollikofen June 30, 2021 20h\n",
      "QUERY:  Moon Phase calculatorJune 30, 2021 20h\n",
      "(6597, 7)\n"
     ]
    },
    {
     "data": {
      "text/html": [
       "<div>\n",
       "<style scoped>\n",
       "    .dataframe tbody tr th:only-of-type {\n",
       "        vertical-align: middle;\n",
       "    }\n",
       "\n",
       "    .dataframe tbody tr th {\n",
       "        vertical-align: top;\n",
       "    }\n",
       "\n",
       "    .dataframe thead th {\n",
       "        text-align: right;\n",
       "    }\n",
       "</style>\n",
       "<table border=\"1\" class=\"dataframe\">\n",
       "  <thead>\n",
       "    <tr style=\"text-align: right;\">\n",
       "      <th></th>\n",
       "      <th>date</th>\n",
       "      <th>temperature</th>\n",
       "      <th>humidity</th>\n",
       "      <th>wind speed</th>\n",
       "      <th>Precipitation amount</th>\n",
       "      <th>query</th>\n",
       "      <th>Moon Phase calculator</th>\n",
       "    </tr>\n",
       "  </thead>\n",
       "  <tbody>\n",
       "    <tr>\n",
       "      <th>8</th>\n",
       "      <td>2021-06-30 19:00:00</td>\n",
       "      <td>15 °C\\n(7:00 pm CEST | Wednesday, June 30, 2021)</td>\n",
       "      <td>average: 63% (59 to 68%)\\n(7:00 pm CEST | Wedn...</td>\n",
       "      <td>3 m/s\\n(7:00 pm CEST | Wednesday, June 30, 2021)</td>\n",
       "      <td>no precipitation\\n(7:00 pm CEST | Wednesday, J...</td>\n",
       "      <td>Moon Phase calculatorJune 30, 2021 19h</td>\n",
       "      <td>| waning gibbous moon\\n61.74% illuminated</td>\n",
       "    </tr>\n",
       "    <tr>\n",
       "      <th>9</th>\n",
       "      <td>2021-06-30 20:00:00</td>\n",
       "      <td>14 °C\\n(8:00 pm CEST | Wednesday, June 30, 2021)</td>\n",
       "      <td>average: 80% (72 to 88%)\\n(8:00 pm CEST | Wedn...</td>\n",
       "      <td>2 m/s\\n(8:00 pm CEST | Wednesday, June 30, 2021)</td>\n",
       "      <td>rain\\n(8:00 pm CEST | Wednesday, June 30, 2021)</td>\n",
       "      <td>Moon Phase calculatorJune 30, 2021 20h</td>\n",
       "      <td>| waning gibbous moon\\n61.33% illuminated</td>\n",
       "    </tr>\n",
       "  </tbody>\n",
       "</table>\n",
       "</div>"
      ],
      "text/plain": [
       "                 date                                       temperature  \\\n",
       "8 2021-06-30 19:00:00  15 °C\\n(7:00 pm CEST | Wednesday, June 30, 2021)   \n",
       "9 2021-06-30 20:00:00  14 °C\\n(8:00 pm CEST | Wednesday, June 30, 2021)   \n",
       "\n",
       "                                            humidity  \\\n",
       "8  average: 63% (59 to 68%)\\n(7:00 pm CEST | Wedn...   \n",
       "9  average: 80% (72 to 88%)\\n(8:00 pm CEST | Wedn...   \n",
       "\n",
       "                                         wind speed  \\\n",
       "8  3 m/s\\n(7:00 pm CEST | Wednesday, June 30, 2021)   \n",
       "9  2 m/s\\n(8:00 pm CEST | Wednesday, June 30, 2021)   \n",
       "\n",
       "                                Precipitation amount  \\\n",
       "8  no precipitation\\n(7:00 pm CEST | Wednesday, J...   \n",
       "9    rain\\n(8:00 pm CEST | Wednesday, June 30, 2021)   \n",
       "\n",
       "                                    query  \\\n",
       "8  Moon Phase calculatorJune 30, 2021 19h   \n",
       "9  Moon Phase calculatorJune 30, 2021 20h   \n",
       "\n",
       "                       Moon Phase calculator  \n",
       "8  | waning gibbous moon\\n61.74% illuminated  \n",
       "9  | waning gibbous moon\\n61.33% illuminated  "
      ]
     },
     "metadata": {},
     "output_type": "display_data"
    },
    {
     "name": "stderr",
     "output_type": "stream",
     "text": [
      "\r",
      "  9%|███████▌                                                                       | 81/853 [27:58<4:30:56, 21.06s/it]"
     ]
    },
    {
     "name": "stdout",
     "output_type": "stream",
     "text": [
      "QUERY:  Precipitation amount in Zollikofen June 30, 2021 21h\n",
      "QUERY:  temperature in Zollikofen June 30, 2021 21h\n",
      "QUERY:  humidity in Zollikofen June 30, 2021 21h\n",
      "QUERY:  wind speed in Zollikofen June 30, 2021 21h\n",
      "QUERY:  Moon Phase calculatorJune 30, 2021 21h\n"
     ]
    },
    {
     "name": "stderr",
     "output_type": "stream",
     "text": [
      "\r",
      " 10%|███████▌                                                                       | 82/853 [28:18<4:26:58, 20.78s/it]"
     ]
    },
    {
     "name": "stdout",
     "output_type": "stream",
     "text": [
      "QUERY:  Precipitation amount in Zollikofen June 30, 2021 22h\n",
      "QUERY:  temperature in Zollikofen June 30, 2021 22h\n",
      "QUERY:  humidity in Zollikofen June 30, 2021 22h\n",
      "QUERY:  wind speed in Zollikofen June 30, 2021 22h\n",
      "QUERY:  Moon Phase calculatorJune 30, 2021 22h\n"
     ]
    },
    {
     "name": "stderr",
     "output_type": "stream",
     "text": [
      "\r",
      " 10%|███████▋                                                                       | 83/853 [28:38<4:22:49, 20.48s/it]"
     ]
    },
    {
     "name": "stdout",
     "output_type": "stream",
     "text": [
      "QUERY:  Precipitation amount in Zollikofen June 30, 2021 23h\n",
      "QUERY:  temperature in Zollikofen June 30, 2021 23h\n",
      "QUERY:  humidity in Zollikofen June 30, 2021 23h\n",
      "QUERY:  wind speed in Zollikofen June 30, 2021 23h\n",
      "QUERY:  Moon Phase calculatorJune 30, 2021 23h\n"
     ]
    },
    {
     "name": "stderr",
     "output_type": "stream",
     "text": [
      "\r",
      " 10%|███████▊                                                                       | 84/853 [28:59<4:25:15, 20.70s/it]"
     ]
    },
    {
     "name": "stdout",
     "output_type": "stream",
     "text": [
      "QUERY:  Precipitation amount in Zollikofen July 1, 2021 0h\n",
      "QUERY:  temperature in Zollikofen July 1, 2021 0h\n",
      "QUERY:  humidity in Zollikofen July 1, 2021 0h\n",
      "QUERY:  wind speed in Zollikofen July 1, 2021 0h\n",
      "QUERY:  Moon Phase calculatorJuly 1, 2021 0h\n"
     ]
    },
    {
     "name": "stderr",
     "output_type": "stream",
     "text": [
      "\r",
      " 10%|███████▊                                                                       | 85/853 [29:19<4:20:05, 20.32s/it]"
     ]
    },
    {
     "name": "stdout",
     "output_type": "stream",
     "text": [
      "QUERY:  Precipitation amount in Zollikofen July 1, 2021 1h\n",
      "QUERY:  temperature in Zollikofen July 1, 2021 1h\n",
      "QUERY:  humidity in Zollikofen July 1, 2021 1h\n",
      "QUERY:  wind speed in Zollikofen July 1, 2021 1h\n",
      "QUERY:  Moon Phase calculatorJuly 1, 2021 1h\n"
     ]
    },
    {
     "name": "stderr",
     "output_type": "stream",
     "text": [
      "\r",
      " 10%|███████▉                                                                       | 86/853 [29:38<4:16:00, 20.03s/it]"
     ]
    },
    {
     "name": "stdout",
     "output_type": "stream",
     "text": [
      "QUERY:  Precipitation amount in Zollikofen July 1, 2021 2h\n",
      "QUERY:  temperature in Zollikofen July 1, 2021 2h\n",
      "QUERY:  humidity in Zollikofen July 1, 2021 2h\n",
      "QUERY:  wind speed in Zollikofen July 1, 2021 2h\n",
      "QUERY:  Moon Phase calculatorJuly 1, 2021 2h\n"
     ]
    },
    {
     "name": "stderr",
     "output_type": "stream",
     "text": [
      "\r",
      " 10%|████████                                                                       | 87/853 [29:57<4:10:27, 19.62s/it]"
     ]
    },
    {
     "name": "stdout",
     "output_type": "stream",
     "text": [
      "QUERY:  Precipitation amount in Zollikofen July 1, 2021 3h\n",
      "QUERY:  temperature in Zollikofen July 1, 2021 3h\n",
      "QUERY:  humidity in Zollikofen July 1, 2021 3h\n",
      "QUERY:  wind speed in Zollikofen July 1, 2021 3h\n",
      "QUERY:  Moon Phase calculatorJuly 1, 2021 3h\n"
     ]
    },
    {
     "name": "stderr",
     "output_type": "stream",
     "text": [
      "\r",
      " 10%|████████▏                                                                      | 88/853 [30:16<4:06:52, 19.36s/it]"
     ]
    },
    {
     "name": "stdout",
     "output_type": "stream",
     "text": [
      "QUERY:  Precipitation amount in Zollikofen July 1, 2021 4h\n",
      "QUERY:  temperature in Zollikofen July 1, 2021 4h\n",
      "QUERY:  humidity in Zollikofen July 1, 2021 4h\n",
      "QUERY:  wind speed in Zollikofen July 1, 2021 4h\n",
      "QUERY:  Moon Phase calculatorJuly 1, 2021 4h\n"
     ]
    },
    {
     "name": "stderr",
     "output_type": "stream",
     "text": [
      "\r",
      " 10%|████████▏                                                                      | 89/853 [30:33<3:59:20, 18.80s/it]"
     ]
    },
    {
     "name": "stdout",
     "output_type": "stream",
     "text": [
      "QUERY:  Precipitation amount in Zollikofen July 1, 2021 5h\n",
      "QUERY:  temperature in Zollikofen July 1, 2021 5h\n",
      "QUERY:  humidity in Zollikofen July 1, 2021 5h\n",
      "QUERY:  wind speed in Zollikofen July 1, 2021 5h\n",
      "QUERY:  Moon Phase calculatorJuly 1, 2021 5h\n"
     ]
    },
    {
     "name": "stderr",
     "output_type": "stream",
     "text": [
      "\r",
      " 11%|████████▎                                                                      | 90/853 [30:52<3:59:12, 18.81s/it]"
     ]
    },
    {
     "name": "stdout",
     "output_type": "stream",
     "text": [
      "QUERY:  Precipitation amount in Zollikofen July 1, 2021 6h\n",
      "QUERY:  temperature in Zollikofen July 1, 2021 6h\n",
      "QUERY:  humidity in Zollikofen July 1, 2021 6h\n",
      "QUERY:  wind speed in Zollikofen July 1, 2021 6h\n",
      "QUERY:  Moon Phase calculatorJuly 1, 2021 6h\n",
      "(6607, 7)\n"
     ]
    },
    {
     "data": {
      "text/html": [
       "<div>\n",
       "<style scoped>\n",
       "    .dataframe tbody tr th:only-of-type {\n",
       "        vertical-align: middle;\n",
       "    }\n",
       "\n",
       "    .dataframe tbody tr th {\n",
       "        vertical-align: top;\n",
       "    }\n",
       "\n",
       "    .dataframe thead th {\n",
       "        text-align: right;\n",
       "    }\n",
       "</style>\n",
       "<table border=\"1\" class=\"dataframe\">\n",
       "  <thead>\n",
       "    <tr style=\"text-align: right;\">\n",
       "      <th></th>\n",
       "      <th>date</th>\n",
       "      <th>temperature</th>\n",
       "      <th>humidity</th>\n",
       "      <th>wind speed</th>\n",
       "      <th>Precipitation amount</th>\n",
       "      <th>query</th>\n",
       "      <th>Moon Phase calculator</th>\n",
       "    </tr>\n",
       "  </thead>\n",
       "  <tbody>\n",
       "    <tr>\n",
       "      <th>8</th>\n",
       "      <td>2021-07-01 05:00:00</td>\n",
       "      <td>14 °C\\n(5:00 am CEST | Thursday, July 1, 2021)</td>\n",
       "      <td>average: 100% (100%)\\n(5:00 am CEST | Thursday...</td>\n",
       "      <td>1 m/s\\n(5:00 am CEST | Thursday, July 1, 2021)</td>\n",
       "      <td>no precipitation\\n(5:00 am CEST | Thursday, Ju...</td>\n",
       "      <td>Moon Phase calculatorJuly 1, 2021 5h</td>\n",
       "      <td>| waning gibbous moon\\n57.62% illuminated</td>\n",
       "    </tr>\n",
       "    <tr>\n",
       "      <th>9</th>\n",
       "      <td>2021-07-01 06:00:00</td>\n",
       "      <td>14 °C\\n(6:00 am CEST | Thursday, July 1, 2021)</td>\n",
       "      <td>average: 97% (94 to 100%)\\n(6:00 am CEST | Thu...</td>\n",
       "      <td>1 m/s\\n(6:00 am CEST | Thursday, July 1, 2021)</td>\n",
       "      <td>no precipitation\\n(6:00 am CEST | Thursday, Ju...</td>\n",
       "      <td>Moon Phase calculatorJuly 1, 2021 6h</td>\n",
       "      <td>| waning gibbous moon\\n57.21% illuminated</td>\n",
       "    </tr>\n",
       "  </tbody>\n",
       "</table>\n",
       "</div>"
      ],
      "text/plain": [
       "                 date                                     temperature  \\\n",
       "8 2021-07-01 05:00:00  14 °C\\n(5:00 am CEST | Thursday, July 1, 2021)   \n",
       "9 2021-07-01 06:00:00  14 °C\\n(6:00 am CEST | Thursday, July 1, 2021)   \n",
       "\n",
       "                                            humidity  \\\n",
       "8  average: 100% (100%)\\n(5:00 am CEST | Thursday...   \n",
       "9  average: 97% (94 to 100%)\\n(6:00 am CEST | Thu...   \n",
       "\n",
       "                                       wind speed  \\\n",
       "8  1 m/s\\n(5:00 am CEST | Thursday, July 1, 2021)   \n",
       "9  1 m/s\\n(6:00 am CEST | Thursday, July 1, 2021)   \n",
       "\n",
       "                                Precipitation amount  \\\n",
       "8  no precipitation\\n(5:00 am CEST | Thursday, Ju...   \n",
       "9  no precipitation\\n(6:00 am CEST | Thursday, Ju...   \n",
       "\n",
       "                                  query  \\\n",
       "8  Moon Phase calculatorJuly 1, 2021 5h   \n",
       "9  Moon Phase calculatorJuly 1, 2021 6h   \n",
       "\n",
       "                       Moon Phase calculator  \n",
       "8  | waning gibbous moon\\n57.62% illuminated  \n",
       "9  | waning gibbous moon\\n57.21% illuminated  "
      ]
     },
     "metadata": {},
     "output_type": "display_data"
    },
    {
     "name": "stderr",
     "output_type": "stream",
     "text": [
      "\r",
      " 11%|████████▍                                                                      | 91/853 [31:07<3:45:11, 17.73s/it]"
     ]
    },
    {
     "name": "stdout",
     "output_type": "stream",
     "text": [
      "QUERY:  Precipitation amount in Zollikofen July 1, 2021 7h\n",
      "QUERY:  temperature in Zollikofen July 1, 2021 7h\n",
      "QUERY:  humidity in Zollikofen July 1, 2021 7h\n",
      "QUERY:  wind speed in Zollikofen July 1, 2021 7h\n",
      "QUERY:  Moon Phase calculatorJuly 1, 2021 7h\n"
     ]
    },
    {
     "name": "stderr",
     "output_type": "stream",
     "text": [
      "\r",
      " 11%|████████▌                                                                      | 92/853 [31:26<3:50:40, 18.19s/it]"
     ]
    },
    {
     "name": "stdout",
     "output_type": "stream",
     "text": [
      "QUERY:  Precipitation amount in Zollikofen July 1, 2021 8h\n",
      "QUERY:  temperature in Zollikofen July 1, 2021 8h\n",
      "QUERY:  humidity in Zollikofen July 1, 2021 8h\n",
      "QUERY:  wind speed in Zollikofen July 1, 2021 8h\n",
      "QUERY:  Moon Phase calculatorJuly 1, 2021 8h\n"
     ]
    },
    {
     "name": "stderr",
     "output_type": "stream",
     "text": [
      "\r",
      " 11%|████████▌                                                                      | 93/853 [31:47<3:58:07, 18.80s/it]"
     ]
    },
    {
     "name": "stdout",
     "output_type": "stream",
     "text": [
      "QUERY:  Precipitation amount in Zollikofen July 1, 2021 9h\n",
      "QUERY:  temperature in Zollikofen July 1, 2021 9h\n",
      "QUERY:  humidity in Zollikofen July 1, 2021 9h\n",
      "QUERY:  wind speed in Zollikofen July 1, 2021 9h\n",
      "QUERY:  Moon Phase calculatorJuly 1, 2021 9h\n"
     ]
    },
    {
     "name": "stderr",
     "output_type": "stream",
     "text": [
      "\r",
      " 11%|████████▋                                                                      | 94/853 [32:05<3:57:51, 18.80s/it]"
     ]
    },
    {
     "name": "stdout",
     "output_type": "stream",
     "text": [
      "QUERY:  Precipitation amount in Zollikofen July 1, 2021 10h\n",
      "QUERY:  temperature in Zollikofen July 1, 2021 10h\n",
      "QUERY:  humidity in Zollikofen July 1, 2021 10h\n",
      "QUERY:  wind speed in Zollikofen July 1, 2021 10h\n",
      "QUERY:  Moon Phase calculatorJuly 1, 2021 10h\n"
     ]
    },
    {
     "name": "stderr",
     "output_type": "stream",
     "text": [
      "\r",
      " 11%|████████▊                                                                      | 95/853 [32:24<3:58:49, 18.90s/it]"
     ]
    },
    {
     "name": "stdout",
     "output_type": "stream",
     "text": [
      "QUERY:  Precipitation amount in Zollikofen July 1, 2021 11h\n",
      "QUERY:  temperature in Zollikofen July 1, 2021 11h\n",
      "QUERY:  humidity in Zollikofen July 1, 2021 11h\n",
      "QUERY:  wind speed in Zollikofen July 1, 2021 11h\n",
      "QUERY:  Moon Phase calculatorJuly 1, 2021 11h\n"
     ]
    },
    {
     "name": "stderr",
     "output_type": "stream",
     "text": [
      "\r",
      " 11%|████████▉                                                                      | 96/853 [32:45<4:02:50, 19.25s/it]"
     ]
    },
    {
     "name": "stdout",
     "output_type": "stream",
     "text": [
      "QUERY:  Precipitation amount in Zollikofen July 1, 2021 12h\n",
      "QUERY:  temperature in Zollikofen July 1, 2021 12h\n",
      "QUERY:  humidity in Zollikofen July 1, 2021 12h\n",
      "QUERY:  wind speed in Zollikofen July 1, 2021 12h\n",
      "QUERY:  Moon Phase calculatorJuly 1, 2021 12h\n"
     ]
    },
    {
     "name": "stderr",
     "output_type": "stream",
     "text": [
      "\r",
      " 11%|████████▉                                                                      | 97/853 [33:04<4:02:05, 19.21s/it]"
     ]
    },
    {
     "name": "stdout",
     "output_type": "stream",
     "text": [
      "QUERY:  Precipitation amount in Zollikofen July 1, 2021 13h\n",
      "QUERY:  temperature in Zollikofen July 1, 2021 13h\n",
      "QUERY:  humidity in Zollikofen July 1, 2021 13h\n",
      "QUERY:  wind speed in Zollikofen July 1, 2021 13h\n",
      "QUERY:  Moon Phase calculatorJuly 1, 2021 13h\n"
     ]
    },
    {
     "name": "stderr",
     "output_type": "stream",
     "text": [
      "\r",
      " 11%|█████████                                                                      | 98/853 [33:23<4:01:32, 19.19s/it]"
     ]
    },
    {
     "name": "stdout",
     "output_type": "stream",
     "text": [
      "QUERY:  Precipitation amount in Zollikofen July 1, 2021 14h\n",
      "QUERY:  temperature in Zollikofen July 1, 2021 14h\n",
      "QUERY:  humidity in Zollikofen July 1, 2021 14h\n",
      "QUERY:  wind speed in Zollikofen July 1, 2021 14h\n",
      "QUERY:  Moon Phase calculatorJuly 1, 2021 14h\n"
     ]
    },
    {
     "name": "stderr",
     "output_type": "stream",
     "text": [
      "\r",
      " 12%|█████████▏                                                                     | 99/853 [33:43<4:05:39, 19.55s/it]"
     ]
    },
    {
     "name": "stdout",
     "output_type": "stream",
     "text": [
      "QUERY:  Precipitation amount in Zollikofen July 1, 2021 15h\n",
      "QUERY:  temperature in Zollikofen July 1, 2021 15h\n",
      "QUERY:  humidity in Zollikofen July 1, 2021 15h\n",
      "QUERY:  wind speed in Zollikofen July 1, 2021 15h\n",
      "QUERY:  Moon Phase calculatorJuly 1, 2021 15h\n"
     ]
    },
    {
     "name": "stderr",
     "output_type": "stream",
     "text": [
      "\r",
      " 12%|█████████▏                                                                    | 100/853 [34:02<4:02:26, 19.32s/it]"
     ]
    },
    {
     "name": "stdout",
     "output_type": "stream",
     "text": [
      "QUERY:  Precipitation amount in Zollikofen July 1, 2021 16h\n",
      "QUERY:  temperature in Zollikofen July 1, 2021 16h\n",
      "QUERY:  humidity in Zollikofen July 1, 2021 16h\n",
      "QUERY:  wind speed in Zollikofen July 1, 2021 16h\n",
      "QUERY:  Moon Phase calculatorJuly 1, 2021 16h\n",
      "(6617, 7)\n"
     ]
    },
    {
     "data": {
      "text/html": [
       "<div>\n",
       "<style scoped>\n",
       "    .dataframe tbody tr th:only-of-type {\n",
       "        vertical-align: middle;\n",
       "    }\n",
       "\n",
       "    .dataframe tbody tr th {\n",
       "        vertical-align: top;\n",
       "    }\n",
       "\n",
       "    .dataframe thead th {\n",
       "        text-align: right;\n",
       "    }\n",
       "</style>\n",
       "<table border=\"1\" class=\"dataframe\">\n",
       "  <thead>\n",
       "    <tr style=\"text-align: right;\">\n",
       "      <th></th>\n",
       "      <th>date</th>\n",
       "      <th>temperature</th>\n",
       "      <th>humidity</th>\n",
       "      <th>wind speed</th>\n",
       "      <th>Precipitation amount</th>\n",
       "      <th>query</th>\n",
       "      <th>Moon Phase calculator</th>\n",
       "    </tr>\n",
       "  </thead>\n",
       "  <tbody>\n",
       "    <tr>\n",
       "      <th>8</th>\n",
       "      <td>2021-07-01 15:00:00</td>\n",
       "      <td>20 °C\\n(3:00 pm CEST | Thursday, July 1, 2021)</td>\n",
       "      <td>average: 56% (53 to 60%)\\n(3:00 pm CEST | Thur...</td>\n",
       "      <td>4 m/s\\n(3:00 pm CEST | Thursday, July 1, 2021)</td>\n",
       "      <td>no precipitation\\n(3:00 pm CEST | Thursday, Ju...</td>\n",
       "      <td>Moon Phase calculatorJuly 1, 2021 15h</td>\n",
       "      <td>| last quarter moon\\n53.49% illuminated</td>\n",
       "    </tr>\n",
       "    <tr>\n",
       "      <th>9</th>\n",
       "      <td>2021-07-01 16:00:00</td>\n",
       "      <td>20 °C\\n(4:00 pm CEST | Thursday, July 1, 2021)</td>\n",
       "      <td>average: 53% (49 to 56%)\\n(4:00 pm CEST | Thur...</td>\n",
       "      <td>3 m/s\\n(4:00 pm CEST | Thursday, July 1, 2021)</td>\n",
       "      <td>no precipitation\\n(4:00 pm CEST | Thursday, Ju...</td>\n",
       "      <td>Moon Phase calculatorJuly 1, 2021 16h</td>\n",
       "      <td>| last quarter moon\\n53.08% illuminated</td>\n",
       "    </tr>\n",
       "  </tbody>\n",
       "</table>\n",
       "</div>"
      ],
      "text/plain": [
       "                 date                                     temperature  \\\n",
       "8 2021-07-01 15:00:00  20 °C\\n(3:00 pm CEST | Thursday, July 1, 2021)   \n",
       "9 2021-07-01 16:00:00  20 °C\\n(4:00 pm CEST | Thursday, July 1, 2021)   \n",
       "\n",
       "                                            humidity  \\\n",
       "8  average: 56% (53 to 60%)\\n(3:00 pm CEST | Thur...   \n",
       "9  average: 53% (49 to 56%)\\n(4:00 pm CEST | Thur...   \n",
       "\n",
       "                                       wind speed  \\\n",
       "8  4 m/s\\n(3:00 pm CEST | Thursday, July 1, 2021)   \n",
       "9  3 m/s\\n(4:00 pm CEST | Thursday, July 1, 2021)   \n",
       "\n",
       "                                Precipitation amount  \\\n",
       "8  no precipitation\\n(3:00 pm CEST | Thursday, Ju...   \n",
       "9  no precipitation\\n(4:00 pm CEST | Thursday, Ju...   \n",
       "\n",
       "                                   query  \\\n",
       "8  Moon Phase calculatorJuly 1, 2021 15h   \n",
       "9  Moon Phase calculatorJuly 1, 2021 16h   \n",
       "\n",
       "                     Moon Phase calculator  \n",
       "8  | last quarter moon\\n53.49% illuminated  \n",
       "9  | last quarter moon\\n53.08% illuminated  "
      ]
     },
     "metadata": {},
     "output_type": "display_data"
    },
    {
     "name": "stderr",
     "output_type": "stream",
     "text": [
      "\r",
      " 12%|█████████▏                                                                    | 101/853 [34:21<4:00:46, 19.21s/it]"
     ]
    },
    {
     "name": "stdout",
     "output_type": "stream",
     "text": [
      "QUERY:  Precipitation amount in Zollikofen July 1, 2021 17h\n",
      "QUERY:  temperature in Zollikofen July 1, 2021 17h\n",
      "QUERY:  humidity in Zollikofen July 1, 2021 17h\n",
      "QUERY:  wind speed in Zollikofen July 1, 2021 17h\n",
      "QUERY:  Moon Phase calculatorJuly 1, 2021 17h\n"
     ]
    },
    {
     "name": "stderr",
     "output_type": "stream",
     "text": [
      "\r",
      " 12%|█████████▎                                                                    | 102/853 [34:41<4:05:01, 19.58s/it]"
     ]
    },
    {
     "name": "stdout",
     "output_type": "stream",
     "text": [
      "QUERY:  Precipitation amount in Zollikofen July 1, 2021 18h\n",
      "QUERY:  temperature in Zollikofen July 1, 2021 18h\n",
      "QUERY:  humidity in Zollikofen July 1, 2021 18h\n",
      "QUERY:  wind speed in Zollikofen July 1, 2021 18h\n",
      "QUERY:  Moon Phase calculatorJuly 1, 2021 18h\n"
     ]
    },
    {
     "name": "stderr",
     "output_type": "stream",
     "text": [
      "\r",
      " 12%|█████████▍                                                                    | 103/853 [35:01<4:05:45, 19.66s/it]"
     ]
    },
    {
     "name": "stdout",
     "output_type": "stream",
     "text": [
      "QUERY:  Precipitation amount in Zollikofen July 1, 2021 19h\n",
      "QUERY:  temperature in Zollikofen July 1, 2021 19h\n",
      "QUERY:  humidity in Zollikofen July 1, 2021 19h\n",
      "QUERY:  wind speed in Zollikofen July 1, 2021 19h\n",
      "QUERY:  Moon Phase calculatorJuly 1, 2021 19h\n"
     ]
    },
    {
     "name": "stderr",
     "output_type": "stream",
     "text": [
      "\r",
      " 12%|█████████▌                                                                    | 104/853 [35:20<4:03:32, 19.51s/it]"
     ]
    },
    {
     "name": "stdout",
     "output_type": "stream",
     "text": [
      "QUERY:  Precipitation amount in Zollikofen July 1, 2021 20h\n",
      "QUERY:  temperature in Zollikofen July 1, 2021 20h\n",
      "QUERY:  humidity in Zollikofen July 1, 2021 20h\n",
      "QUERY:  wind speed in Zollikofen July 1, 2021 20h\n",
      "QUERY:  Moon Phase calculatorJuly 1, 2021 20h\n"
     ]
    },
    {
     "name": "stderr",
     "output_type": "stream",
     "text": [
      "\r",
      " 12%|█████████▌                                                                    | 105/853 [35:39<4:01:44, 19.39s/it]"
     ]
    },
    {
     "name": "stdout",
     "output_type": "stream",
     "text": [
      "QUERY:  Precipitation amount in Zollikofen July 1, 2021 21h\n",
      "QUERY:  temperature in Zollikofen July 1, 2021 21h\n",
      "QUERY:  humidity in Zollikofen July 1, 2021 21h\n",
      "QUERY:  wind speed in Zollikofen July 1, 2021 21h\n",
      "QUERY:  Moon Phase calculatorJuly 1, 2021 21h\n"
     ]
    },
    {
     "name": "stderr",
     "output_type": "stream",
     "text": [
      "\r",
      " 12%|█████████▋                                                                    | 106/853 [36:01<4:11:02, 20.16s/it]"
     ]
    },
    {
     "name": "stdout",
     "output_type": "stream",
     "text": [
      "QUERY:  Precipitation amount in Zollikofen July 1, 2021 22h\n",
      "QUERY:  temperature in Zollikofen July 1, 2021 22h\n",
      "QUERY:  humidity in Zollikofen July 1, 2021 22h\n",
      "QUERY:  wind speed in Zollikofen July 1, 2021 22h\n",
      "QUERY:  Moon Phase calculatorJuly 1, 2021 22h\n"
     ]
    },
    {
     "name": "stderr",
     "output_type": "stream",
     "text": [
      "\r",
      " 13%|█████████▊                                                                    | 107/853 [36:22<4:13:07, 20.36s/it]"
     ]
    },
    {
     "name": "stdout",
     "output_type": "stream",
     "text": [
      "QUERY:  Precipitation amount in Zollikofen July 1, 2021 23h\n",
      "QUERY:  temperature in Zollikofen July 1, 2021 23h\n",
      "QUERY:  humidity in Zollikofen July 1, 2021 23h\n",
      "QUERY:  wind speed in Zollikofen July 1, 2021 23h\n",
      "QUERY:  Moon Phase calculatorJuly 1, 2021 23h\n"
     ]
    },
    {
     "name": "stderr",
     "output_type": "stream",
     "text": [
      "\r",
      " 13%|█████████▉                                                                    | 108/853 [36:42<4:11:18, 20.24s/it]"
     ]
    },
    {
     "name": "stdout",
     "output_type": "stream",
     "text": [
      "QUERY:  Precipitation amount in Zollikofen July 2, 2021 0h\n",
      "QUERY:  temperature in Zollikofen July 2, 2021 0h\n",
      "QUERY:  humidity in Zollikofen July 2, 2021 0h\n",
      "QUERY:  wind speed in Zollikofen July 2, 2021 0h\n",
      "QUERY:  Moon Phase calculatorJuly 2, 2021 0h\n"
     ]
    },
    {
     "name": "stderr",
     "output_type": "stream",
     "text": [
      "\r",
      " 13%|█████████▉                                                                    | 109/853 [37:02<4:09:37, 20.13s/it]"
     ]
    },
    {
     "name": "stdout",
     "output_type": "stream",
     "text": [
      "QUERY:  Precipitation amount in Zollikofen July 2, 2021 1h\n",
      "QUERY:  temperature in Zollikofen July 2, 2021 1h\n",
      "QUERY:  humidity in Zollikofen July 2, 2021 1h\n",
      "QUERY:  wind speed in Zollikofen July 2, 2021 1h\n",
      "QUERY:  Moon Phase calculatorJuly 2, 2021 1h\n"
     ]
    },
    {
     "name": "stderr",
     "output_type": "stream",
     "text": [
      "\r",
      " 13%|██████████                                                                    | 110/853 [37:22<4:09:48, 20.17s/it]"
     ]
    },
    {
     "name": "stdout",
     "output_type": "stream",
     "text": [
      "QUERY:  Precipitation amount in Zollikofen July 2, 2021 2h\n",
      "QUERY:  temperature in Zollikofen July 2, 2021 2h\n",
      "QUERY:  humidity in Zollikofen July 2, 2021 2h\n",
      "QUERY:  wind speed in Zollikofen July 2, 2021 2h\n",
      "QUERY:  Moon Phase calculatorJuly 2, 2021 2h\n",
      "(6627, 7)\n"
     ]
    },
    {
     "data": {
      "text/html": [
       "<div>\n",
       "<style scoped>\n",
       "    .dataframe tbody tr th:only-of-type {\n",
       "        vertical-align: middle;\n",
       "    }\n",
       "\n",
       "    .dataframe tbody tr th {\n",
       "        vertical-align: top;\n",
       "    }\n",
       "\n",
       "    .dataframe thead th {\n",
       "        text-align: right;\n",
       "    }\n",
       "</style>\n",
       "<table border=\"1\" class=\"dataframe\">\n",
       "  <thead>\n",
       "    <tr style=\"text-align: right;\">\n",
       "      <th></th>\n",
       "      <th>date</th>\n",
       "      <th>temperature</th>\n",
       "      <th>humidity</th>\n",
       "      <th>wind speed</th>\n",
       "      <th>Precipitation amount</th>\n",
       "      <th>query</th>\n",
       "      <th>Moon Phase calculator</th>\n",
       "    </tr>\n",
       "  </thead>\n",
       "  <tbody>\n",
       "    <tr>\n",
       "      <th>8</th>\n",
       "      <td>2021-07-02 01:00:00</td>\n",
       "      <td>14 °C\\n(1:00 am CEST | Friday, July 2, 2021)</td>\n",
       "      <td>average: 94% (94%)\\n(1:00 am CEST | Friday, Ju...</td>\n",
       "      <td>0 m/s\\n(1:00 am CEST | Friday, July 2, 2021)</td>\n",
       "      <td>no precipitation\\n(1:00 am CEST | Friday, July...</td>\n",
       "      <td>Moon Phase calculatorJuly 2, 2021 1h</td>\n",
       "      <td>| last quarter moon\\n49.38% illuminated</td>\n",
       "    </tr>\n",
       "    <tr>\n",
       "      <th>9</th>\n",
       "      <td>2021-07-02 02:00:00</td>\n",
       "      <td>14 °C\\n(2:00 am CEST | Friday, July 2, 2021)</td>\n",
       "      <td>average: 97% (94 to 100%)\\n(2:00 am CEST | Fri...</td>\n",
       "      <td>0 m/s\\n(2:00 am CEST | Friday, July 2, 2021)</td>\n",
       "      <td>no precipitation\\n(2:00 am CEST | Friday, July...</td>\n",
       "      <td>Moon Phase calculatorJuly 2, 2021 2h</td>\n",
       "      <td>| last quarter moon\\n48.97% illuminated</td>\n",
       "    </tr>\n",
       "  </tbody>\n",
       "</table>\n",
       "</div>"
      ],
      "text/plain": [
       "                 date                                   temperature  \\\n",
       "8 2021-07-02 01:00:00  14 °C\\n(1:00 am CEST | Friday, July 2, 2021)   \n",
       "9 2021-07-02 02:00:00  14 °C\\n(2:00 am CEST | Friday, July 2, 2021)   \n",
       "\n",
       "                                            humidity  \\\n",
       "8  average: 94% (94%)\\n(1:00 am CEST | Friday, Ju...   \n",
       "9  average: 97% (94 to 100%)\\n(2:00 am CEST | Fri...   \n",
       "\n",
       "                                     wind speed  \\\n",
       "8  0 m/s\\n(1:00 am CEST | Friday, July 2, 2021)   \n",
       "9  0 m/s\\n(2:00 am CEST | Friday, July 2, 2021)   \n",
       "\n",
       "                                Precipitation amount  \\\n",
       "8  no precipitation\\n(1:00 am CEST | Friday, July...   \n",
       "9  no precipitation\\n(2:00 am CEST | Friday, July...   \n",
       "\n",
       "                                  query  \\\n",
       "8  Moon Phase calculatorJuly 2, 2021 1h   \n",
       "9  Moon Phase calculatorJuly 2, 2021 2h   \n",
       "\n",
       "                     Moon Phase calculator  \n",
       "8  | last quarter moon\\n49.38% illuminated  \n",
       "9  | last quarter moon\\n48.97% illuminated  "
      ]
     },
     "metadata": {},
     "output_type": "display_data"
    },
    {
     "name": "stderr",
     "output_type": "stream",
     "text": [
      "\r",
      " 13%|██████████▏                                                                   | 111/853 [37:47<4:24:47, 21.41s/it]"
     ]
    },
    {
     "name": "stdout",
     "output_type": "stream",
     "text": [
      "QUERY:  Precipitation amount in Zollikofen July 2, 2021 3h\n",
      "QUERY:  temperature in Zollikofen July 2, 2021 3h\n",
      "QUERY:  humidity in Zollikofen July 2, 2021 3h\n",
      "QUERY:  wind speed in Zollikofen July 2, 2021 3h\n",
      "QUERY:  Moon Phase calculatorJuly 2, 2021 3h\n"
     ]
    },
    {
     "name": "stderr",
     "output_type": "stream",
     "text": [
      "\r",
      " 13%|██████████▏                                                                   | 112/853 [38:10<4:31:21, 21.97s/it]"
     ]
    },
    {
     "name": "stdout",
     "output_type": "stream",
     "text": [
      "QUERY:  Precipitation amount in Zollikofen July 2, 2021 4h\n",
      "QUERY:  temperature in Zollikofen July 2, 2021 4h\n",
      "QUERY:  humidity in Zollikofen July 2, 2021 4h\n",
      "QUERY:  wind speed in Zollikofen July 2, 2021 4h\n",
      "QUERY:  Moon Phase calculatorJuly 2, 2021 4h\n"
     ]
    },
    {
     "name": "stderr",
     "output_type": "stream",
     "text": [
      "\r",
      " 13%|██████████▎                                                                   | 113/853 [38:30<4:23:49, 21.39s/it]"
     ]
    },
    {
     "name": "stdout",
     "output_type": "stream",
     "text": [
      "QUERY:  Precipitation amount in Zollikofen July 2, 2021 5h\n",
      "QUERY:  temperature in Zollikofen July 2, 2021 5h\n",
      "QUERY:  humidity in Zollikofen July 2, 2021 5h\n",
      "QUERY:  wind speed in Zollikofen July 2, 2021 5h\n",
      "QUERY:  Moon Phase calculatorJuly 2, 2021 5h\n"
     ]
    },
    {
     "name": "stderr",
     "output_type": "stream",
     "text": [
      "\r",
      " 13%|██████████▍                                                                   | 114/853 [38:50<4:17:54, 20.94s/it]"
     ]
    },
    {
     "name": "stdout",
     "output_type": "stream",
     "text": [
      "QUERY:  Precipitation amount in Zollikofen July 2, 2021 6h\n",
      "QUERY:  temperature in Zollikofen July 2, 2021 6h\n",
      "QUERY:  humidity in Zollikofen July 2, 2021 6h\n",
      "QUERY:  wind speed in Zollikofen July 2, 2021 6h\n",
      "QUERY:  Moon Phase calculatorJuly 2, 2021 6h\n"
     ]
    },
    {
     "name": "stderr",
     "output_type": "stream",
     "text": [
      "\r",
      " 13%|██████████▌                                                                   | 115/853 [39:08<4:07:48, 20.15s/it]"
     ]
    },
    {
     "name": "stdout",
     "output_type": "stream",
     "text": [
      "QUERY:  Precipitation amount in Zollikofen July 2, 2021 7h\n",
      "QUERY:  temperature in Zollikofen July 2, 2021 7h\n",
      "QUERY:  humidity in Zollikofen July 2, 2021 7h\n",
      "QUERY:  wind speed in Zollikofen July 2, 2021 7h\n",
      "QUERY:  Moon Phase calculatorJuly 2, 2021 7h\n"
     ]
    },
    {
     "name": "stderr",
     "output_type": "stream",
     "text": [
      "\r",
      " 14%|██████████▌                                                                   | 116/853 [39:27<4:04:08, 19.88s/it]"
     ]
    },
    {
     "name": "stdout",
     "output_type": "stream",
     "text": [
      "QUERY:  Precipitation amount in Zollikofen July 2, 2021 8h\n",
      "QUERY:  temperature in Zollikofen July 2, 2021 8h\n",
      "QUERY:  humidity in Zollikofen July 2, 2021 8h\n",
      "QUERY:  wind speed in Zollikofen July 2, 2021 8h\n",
      "QUERY:  Moon Phase calculatorJuly 2, 2021 8h\n"
     ]
    },
    {
     "name": "stderr",
     "output_type": "stream",
     "text": [
      "\r",
      " 14%|██████████▋                                                                   | 117/853 [39:48<4:07:35, 20.18s/it]"
     ]
    },
    {
     "name": "stdout",
     "output_type": "stream",
     "text": [
      "QUERY:  Precipitation amount in Zollikofen July 2, 2021 9h\n",
      "QUERY:  temperature in Zollikofen July 2, 2021 9h\n",
      "QUERY:  humidity in Zollikofen July 2, 2021 9h\n",
      "QUERY:  wind speed in Zollikofen July 2, 2021 9h\n",
      "QUERY:  Moon Phase calculatorJuly 2, 2021 9h\n"
     ]
    },
    {
     "name": "stderr",
     "output_type": "stream",
     "text": [
      "\r",
      " 14%|██████████▊                                                                   | 118/853 [40:09<4:07:18, 20.19s/it]"
     ]
    },
    {
     "name": "stdout",
     "output_type": "stream",
     "text": [
      "QUERY:  Precipitation amount in Zollikofen July 2, 2021 10h\n",
      "QUERY:  temperature in Zollikofen July 2, 2021 10h\n",
      "QUERY:  humidity in Zollikofen July 2, 2021 10h\n",
      "QUERY:  wind speed in Zollikofen July 2, 2021 10h\n",
      "QUERY:  Moon Phase calculatorJuly 2, 2021 10h\n"
     ]
    },
    {
     "name": "stderr",
     "output_type": "stream",
     "text": [
      "\r",
      " 14%|██████████▉                                                                   | 119/853 [40:27<4:00:48, 19.68s/it]"
     ]
    },
    {
     "name": "stdout",
     "output_type": "stream",
     "text": [
      "QUERY:  Precipitation amount in Zollikofen July 2, 2021 11h\n",
      "QUERY:  temperature in Zollikofen July 2, 2021 11h\n",
      "QUERY:  humidity in Zollikofen July 2, 2021 11h\n",
      "QUERY:  wind speed in Zollikofen July 2, 2021 11h\n",
      "QUERY:  Moon Phase calculatorJuly 2, 2021 11h\n"
     ]
    },
    {
     "name": "stderr",
     "output_type": "stream",
     "text": [
      "\r",
      " 14%|██████████▉                                                                   | 120/853 [40:48<4:06:58, 20.22s/it]"
     ]
    },
    {
     "name": "stdout",
     "output_type": "stream",
     "text": [
      "QUERY:  Precipitation amount in Zollikofen July 2, 2021 12h\n",
      "QUERY:  temperature in Zollikofen July 2, 2021 12h\n",
      "QUERY:  humidity in Zollikofen July 2, 2021 12h\n",
      "QUERY:  wind speed in Zollikofen July 2, 2021 12h\n",
      "QUERY:  Moon Phase calculatorJuly 2, 2021 12h\n",
      "(6637, 7)\n"
     ]
    },
    {
     "data": {
      "text/html": [
       "<div>\n",
       "<style scoped>\n",
       "    .dataframe tbody tr th:only-of-type {\n",
       "        vertical-align: middle;\n",
       "    }\n",
       "\n",
       "    .dataframe tbody tr th {\n",
       "        vertical-align: top;\n",
       "    }\n",
       "\n",
       "    .dataframe thead th {\n",
       "        text-align: right;\n",
       "    }\n",
       "</style>\n",
       "<table border=\"1\" class=\"dataframe\">\n",
       "  <thead>\n",
       "    <tr style=\"text-align: right;\">\n",
       "      <th></th>\n",
       "      <th>date</th>\n",
       "      <th>temperature</th>\n",
       "      <th>humidity</th>\n",
       "      <th>wind speed</th>\n",
       "      <th>Precipitation amount</th>\n",
       "      <th>query</th>\n",
       "      <th>Moon Phase calculator</th>\n",
       "    </tr>\n",
       "  </thead>\n",
       "  <tbody>\n",
       "    <tr>\n",
       "      <th>8</th>\n",
       "      <td>2021-07-02 11:00:00</td>\n",
       "      <td>20 °C\\n(11:00 am CEST | Friday, July 2, 2021)</td>\n",
       "      <td>average: 49% (49%)\\n(11:00 am CEST | Friday, J...</td>\n",
       "      <td>1 m/s\\n(11:00 am CEST | Friday, July 2, 2021)</td>\n",
       "      <td>no precipitation\\n(11:00 am CEST | Friday, Jul...</td>\n",
       "      <td>Moon Phase calculatorJuly 2, 2021 11h</td>\n",
       "      <td>| last quarter moon\\n45.31% illuminated</td>\n",
       "    </tr>\n",
       "    <tr>\n",
       "      <th>9</th>\n",
       "      <td>2021-07-02 12:00:00</td>\n",
       "      <td>21 °C\\n(12:00 pm CEST | Friday, July 2, 2021)</td>\n",
       "      <td>average: 42% (41 to 43%)\\n(12:00 pm CEST | Fri...</td>\n",
       "      <td>1 m/s\\n(12:00 pm CEST | Friday, July 2, 2021)</td>\n",
       "      <td>no precipitation\\n(12:00 pm CEST | Friday, Jul...</td>\n",
       "      <td>Moon Phase calculatorJuly 2, 2021 12h</td>\n",
       "      <td>| last quarter moon\\n44.91% illuminated</td>\n",
       "    </tr>\n",
       "  </tbody>\n",
       "</table>\n",
       "</div>"
      ],
      "text/plain": [
       "                 date                                    temperature  \\\n",
       "8 2021-07-02 11:00:00  20 °C\\n(11:00 am CEST | Friday, July 2, 2021)   \n",
       "9 2021-07-02 12:00:00  21 °C\\n(12:00 pm CEST | Friday, July 2, 2021)   \n",
       "\n",
       "                                            humidity  \\\n",
       "8  average: 49% (49%)\\n(11:00 am CEST | Friday, J...   \n",
       "9  average: 42% (41 to 43%)\\n(12:00 pm CEST | Fri...   \n",
       "\n",
       "                                      wind speed  \\\n",
       "8  1 m/s\\n(11:00 am CEST | Friday, July 2, 2021)   \n",
       "9  1 m/s\\n(12:00 pm CEST | Friday, July 2, 2021)   \n",
       "\n",
       "                                Precipitation amount  \\\n",
       "8  no precipitation\\n(11:00 am CEST | Friday, Jul...   \n",
       "9  no precipitation\\n(12:00 pm CEST | Friday, Jul...   \n",
       "\n",
       "                                   query  \\\n",
       "8  Moon Phase calculatorJuly 2, 2021 11h   \n",
       "9  Moon Phase calculatorJuly 2, 2021 12h   \n",
       "\n",
       "                     Moon Phase calculator  \n",
       "8  | last quarter moon\\n45.31% illuminated  \n",
       "9  | last quarter moon\\n44.91% illuminated  "
      ]
     },
     "metadata": {},
     "output_type": "display_data"
    },
    {
     "name": "stderr",
     "output_type": "stream",
     "text": [
      "\r",
      " 14%|███████████                                                                   | 121/853 [41:09<4:06:43, 20.22s/it]"
     ]
    },
    {
     "name": "stdout",
     "output_type": "stream",
     "text": [
      "QUERY:  Precipitation amount in Zollikofen July 2, 2021 13h\n",
      "QUERY:  temperature in Zollikofen July 2, 2021 13h\n",
      "QUERY:  humidity in Zollikofen July 2, 2021 13h\n",
      "QUERY:  wind speed in Zollikofen July 2, 2021 13h\n",
      "QUERY:  Moon Phase calculatorJuly 2, 2021 13h\n"
     ]
    },
    {
     "name": "stderr",
     "output_type": "stream",
     "text": [
      "\r",
      " 14%|███████████▏                                                                  | 122/853 [41:28<4:03:05, 19.95s/it]"
     ]
    },
    {
     "name": "stdout",
     "output_type": "stream",
     "text": [
      "QUERY:  Precipitation amount in Zollikofen July 2, 2021 14h\n",
      "QUERY:  temperature in Zollikofen July 2, 2021 14h\n",
      "QUERY:  humidity in Zollikofen July 2, 2021 14h\n",
      "QUERY:  wind speed in Zollikofen July 2, 2021 14h\n",
      "QUERY:  Moon Phase calculatorJuly 2, 2021 14h\n"
     ]
    },
    {
     "name": "stderr",
     "output_type": "stream",
     "text": [
      "\r",
      " 14%|███████████▏                                                                  | 123/853 [41:48<4:04:31, 20.10s/it]"
     ]
    },
    {
     "name": "stdout",
     "output_type": "stream",
     "text": [
      "QUERY:  Precipitation amount in Zollikofen July 2, 2021 15h\n",
      "QUERY:  temperature in Zollikofen July 2, 2021 15h\n",
      "QUERY:  humidity in Zollikofen July 2, 2021 15h\n",
      "QUERY:  wind speed in Zollikofen July 2, 2021 15h\n",
      "QUERY:  Moon Phase calculatorJuly 2, 2021 15h\n"
     ]
    },
    {
     "name": "stderr",
     "output_type": "stream",
     "text": [
      "\r",
      " 15%|███████████▎                                                                  | 124/853 [42:09<4:06:43, 20.31s/it]"
     ]
    },
    {
     "name": "stdout",
     "output_type": "stream",
     "text": [
      "QUERY:  Precipitation amount in Zollikofen July 2, 2021 16h\n",
      "QUERY:  temperature in Zollikofen July 2, 2021 16h\n",
      "QUERY:  humidity in Zollikofen July 2, 2021 16h\n",
      "QUERY:  wind speed in Zollikofen July 2, 2021 16h\n",
      "QUERY:  Moon Phase calculatorJuly 2, 2021 16h\n"
     ]
    },
    {
     "name": "stderr",
     "output_type": "stream",
     "text": [
      "\r",
      " 15%|███████████▍                                                                  | 125/853 [42:28<4:02:01, 19.95s/it]"
     ]
    },
    {
     "name": "stdout",
     "output_type": "stream",
     "text": [
      "QUERY:  Precipitation amount in Zollikofen July 2, 2021 17h\n",
      "QUERY:  temperature in Zollikofen July 2, 2021 17h\n",
      "QUERY:  humidity in Zollikofen July 2, 2021 17h\n",
      "QUERY:  wind speed in Zollikofen July 2, 2021 17h\n",
      "QUERY:  Moon Phase calculatorJuly 2, 2021 17h\n"
     ]
    },
    {
     "name": "stderr",
     "output_type": "stream",
     "text": [
      "\r",
      " 15%|███████████▌                                                                  | 126/853 [42:50<4:06:37, 20.35s/it]"
     ]
    },
    {
     "name": "stdout",
     "output_type": "stream",
     "text": [
      "QUERY:  Precipitation amount in Zollikofen July 2, 2021 18h\n",
      "QUERY:  temperature in Zollikofen July 2, 2021 18h\n",
      "QUERY:  humidity in Zollikofen July 2, 2021 18h\n",
      "QUERY:  wind speed in Zollikofen July 2, 2021 18h\n",
      "QUERY:  Moon Phase calculatorJuly 2, 2021 18h\n"
     ]
    },
    {
     "name": "stderr",
     "output_type": "stream",
     "text": [
      "\r",
      " 15%|███████████▌                                                                  | 127/853 [43:16<4:26:16, 22.01s/it]"
     ]
    },
    {
     "name": "stdout",
     "output_type": "stream",
     "text": [
      "QUERY:  Precipitation amount in Zollikofen July 2, 2021 19h\n",
      "QUERY:  temperature in Zollikofen July 2, 2021 19h\n",
      "QUERY:  humidity in Zollikofen July 2, 2021 19h\n",
      "QUERY:  wind speed in Zollikofen July 2, 2021 19h\n",
      "QUERY:  Moon Phase calculatorJuly 2, 2021 19h\n"
     ]
    },
    {
     "name": "stderr",
     "output_type": "stream",
     "text": [
      "\r",
      " 15%|███████████▋                                                                  | 128/853 [43:35<4:16:45, 21.25s/it]"
     ]
    },
    {
     "name": "stdout",
     "output_type": "stream",
     "text": [
      "QUERY:  Precipitation amount in Zollikofen July 2, 2021 20h\n",
      "QUERY:  temperature in Zollikofen July 2, 2021 20h\n",
      "QUERY:  humidity in Zollikofen July 2, 2021 20h\n",
      "QUERY:  wind speed in Zollikofen July 2, 2021 20h\n",
      "QUERY:  Moon Phase calculatorJuly 2, 2021 20h\n"
     ]
    },
    {
     "name": "stderr",
     "output_type": "stream",
     "text": [
      "\r",
      " 15%|███████████▊                                                                  | 129/853 [43:57<4:18:21, 21.41s/it]"
     ]
    },
    {
     "name": "stdout",
     "output_type": "stream",
     "text": [
      "QUERY:  Precipitation amount in Zollikofen July 2, 2021 21h\n",
      "QUERY:  temperature in Zollikofen July 2, 2021 21h\n",
      "QUERY:  humidity in Zollikofen July 2, 2021 21h\n",
      "QUERY:  wind speed in Zollikofen July 2, 2021 21h\n",
      "QUERY:  Moon Phase calculatorJuly 2, 2021 21h\n"
     ]
    },
    {
     "name": "stderr",
     "output_type": "stream",
     "text": [
      "\r",
      " 15%|███████████▉                                                                  | 130/853 [44:17<4:13:04, 21.00s/it]"
     ]
    },
    {
     "name": "stdout",
     "output_type": "stream",
     "text": [
      "QUERY:  Precipitation amount in Zollikofen July 2, 2021 22h\n",
      "QUERY:  temperature in Zollikofen July 2, 2021 22h\n",
      "QUERY:  humidity in Zollikofen July 2, 2021 22h\n",
      "QUERY:  wind speed in Zollikofen July 2, 2021 22h\n",
      "QUERY:  Moon Phase calculatorJuly 2, 2021 22h\n",
      "(6647, 7)\n"
     ]
    },
    {
     "data": {
      "text/html": [
       "<div>\n",
       "<style scoped>\n",
       "    .dataframe tbody tr th:only-of-type {\n",
       "        vertical-align: middle;\n",
       "    }\n",
       "\n",
       "    .dataframe tbody tr th {\n",
       "        vertical-align: top;\n",
       "    }\n",
       "\n",
       "    .dataframe thead th {\n",
       "        text-align: right;\n",
       "    }\n",
       "</style>\n",
       "<table border=\"1\" class=\"dataframe\">\n",
       "  <thead>\n",
       "    <tr style=\"text-align: right;\">\n",
       "      <th></th>\n",
       "      <th>date</th>\n",
       "      <th>temperature</th>\n",
       "      <th>humidity</th>\n",
       "      <th>wind speed</th>\n",
       "      <th>Precipitation amount</th>\n",
       "      <th>query</th>\n",
       "      <th>Moon Phase calculator</th>\n",
       "    </tr>\n",
       "  </thead>\n",
       "  <tbody>\n",
       "    <tr>\n",
       "      <th>8</th>\n",
       "      <td>2021-07-02 21:00:00</td>\n",
       "      <td>19 °C\\n(9:00 pm CEST | Friday, July 2, 2021)</td>\n",
       "      <td>average: 62% (56 to 68%)\\n(9:00 pm CEST | Frid...</td>\n",
       "      <td>3 m/s\\n(9:00 pm CEST | Friday, July 2, 2021)</td>\n",
       "      <td>no precipitation\\n(9:00 pm CEST | Friday, July...</td>\n",
       "      <td>Moon Phase calculatorJuly 2, 2021 21h</td>\n",
       "      <td>| waning crescent moon\\n41.31% illuminated</td>\n",
       "    </tr>\n",
       "    <tr>\n",
       "      <th>9</th>\n",
       "      <td>2021-07-02 22:00:00</td>\n",
       "      <td>18 °C\\n(10:00 pm CEST | Friday, July 2, 2021)</td>\n",
       "      <td>average: 77% (77%)\\n(10:00 pm CEST | Friday, J...</td>\n",
       "      <td>3 m/s\\n(10:00 pm CEST | Friday, July 2, 2021)</td>\n",
       "      <td>no precipitation\\n(10:00 pm CEST | Friday, Jul...</td>\n",
       "      <td>Moon Phase calculatorJuly 2, 2021 22h</td>\n",
       "      <td>| waning crescent moon\\n40.91% illuminated</td>\n",
       "    </tr>\n",
       "  </tbody>\n",
       "</table>\n",
       "</div>"
      ],
      "text/plain": [
       "                 date                                    temperature  \\\n",
       "8 2021-07-02 21:00:00   19 °C\\n(9:00 pm CEST | Friday, July 2, 2021)   \n",
       "9 2021-07-02 22:00:00  18 °C\\n(10:00 pm CEST | Friday, July 2, 2021)   \n",
       "\n",
       "                                            humidity  \\\n",
       "8  average: 62% (56 to 68%)\\n(9:00 pm CEST | Frid...   \n",
       "9  average: 77% (77%)\\n(10:00 pm CEST | Friday, J...   \n",
       "\n",
       "                                      wind speed  \\\n",
       "8   3 m/s\\n(9:00 pm CEST | Friday, July 2, 2021)   \n",
       "9  3 m/s\\n(10:00 pm CEST | Friday, July 2, 2021)   \n",
       "\n",
       "                                Precipitation amount  \\\n",
       "8  no precipitation\\n(9:00 pm CEST | Friday, July...   \n",
       "9  no precipitation\\n(10:00 pm CEST | Friday, Jul...   \n",
       "\n",
       "                                   query  \\\n",
       "8  Moon Phase calculatorJuly 2, 2021 21h   \n",
       "9  Moon Phase calculatorJuly 2, 2021 22h   \n",
       "\n",
       "                        Moon Phase calculator  \n",
       "8  | waning crescent moon\\n41.31% illuminated  \n",
       "9  | waning crescent moon\\n40.91% illuminated  "
      ]
     },
     "metadata": {},
     "output_type": "display_data"
    },
    {
     "name": "stderr",
     "output_type": "stream",
     "text": [
      "\r",
      " 15%|███████████▉                                                                  | 131/853 [44:36<4:04:38, 20.33s/it]"
     ]
    },
    {
     "name": "stdout",
     "output_type": "stream",
     "text": [
      "QUERY:  Precipitation amount in Zollikofen July 2, 2021 23h\n",
      "QUERY:  temperature in Zollikofen July 2, 2021 23h\n",
      "QUERY:  humidity in Zollikofen July 2, 2021 23h\n",
      "QUERY:  wind speed in Zollikofen July 2, 2021 23h\n",
      "QUERY:  Moon Phase calculatorJuly 2, 2021 23h\n"
     ]
    },
    {
     "name": "stderr",
     "output_type": "stream",
     "text": [
      "\r",
      " 15%|████████████                                                                  | 132/853 [44:55<3:59:23, 19.92s/it]"
     ]
    },
    {
     "name": "stdout",
     "output_type": "stream",
     "text": [
      "QUERY:  Precipitation amount in Zollikofen July 3, 2021 0h\n",
      "QUERY:  temperature in Zollikofen July 3, 2021 0h\n",
      "QUERY:  humidity in Zollikofen July 3, 2021 0h\n",
      "QUERY:  wind speed in Zollikofen July 3, 2021 0h\n",
      "QUERY:  Moon Phase calculatorJuly 3, 2021 0h\n"
     ]
    },
    {
     "name": "stderr",
     "output_type": "stream",
     "text": [
      "\r",
      " 16%|████████████▏                                                                 | 133/853 [45:13<3:53:01, 19.42s/it]"
     ]
    },
    {
     "name": "stdout",
     "output_type": "stream",
     "text": [
      "QUERY:  Precipitation amount in Zollikofen July 3, 2021 1h\n",
      "QUERY:  temperature in Zollikofen July 3, 2021 1h\n",
      "QUERY:  humidity in Zollikofen July 3, 2021 1h\n",
      "QUERY:  wind speed in Zollikofen July 3, 2021 1h\n",
      "QUERY:  Moon Phase calculatorJuly 3, 2021 1h\n"
     ]
    },
    {
     "name": "stderr",
     "output_type": "stream",
     "text": [
      "\r",
      " 16%|████████████▎                                                                 | 134/853 [45:31<3:48:41, 19.08s/it]"
     ]
    },
    {
     "name": "stdout",
     "output_type": "stream",
     "text": [
      "QUERY:  Precipitation amount in Zollikofen July 3, 2021 2h\n",
      "QUERY:  temperature in Zollikofen July 3, 2021 2h\n",
      "QUERY:  humidity in Zollikofen July 3, 2021 2h\n",
      "QUERY:  wind speed in Zollikofen July 3, 2021 2h\n",
      "QUERY:  Moon Phase calculatorJuly 3, 2021 2h\n"
     ]
    },
    {
     "name": "stderr",
     "output_type": "stream",
     "text": [
      "\r",
      " 16%|████████████▎                                                                 | 135/853 [45:47<3:37:32, 18.18s/it]"
     ]
    },
    {
     "name": "stdout",
     "output_type": "stream",
     "text": [
      "QUERY:  Precipitation amount in Zollikofen July 3, 2021 3h\n",
      "QUERY:  temperature in Zollikofen July 3, 2021 3h\n",
      "QUERY:  humidity in Zollikofen July 3, 2021 3h\n",
      "QUERY:  wind speed in Zollikofen July 3, 2021 3h\n",
      "QUERY:  Moon Phase calculatorJuly 3, 2021 3h\n"
     ]
    },
    {
     "name": "stderr",
     "output_type": "stream",
     "text": [
      "\r",
      " 16%|████████████▍                                                                 | 136/853 [46:04<3:33:42, 17.88s/it]"
     ]
    },
    {
     "name": "stdout",
     "output_type": "stream",
     "text": [
      "QUERY:  Precipitation amount in Zollikofen July 3, 2021 4h\n",
      "QUERY:  temperature in Zollikofen July 3, 2021 4h\n",
      "QUERY:  humidity in Zollikofen July 3, 2021 4h\n",
      "QUERY:  wind speed in Zollikofen July 3, 2021 4h\n",
      "QUERY:  Moon Phase calculatorJuly 3, 2021 4h\n"
     ]
    },
    {
     "name": "stderr",
     "output_type": "stream",
     "text": [
      "\r",
      " 16%|████████████▌                                                                 | 137/853 [46:23<3:35:35, 18.07s/it]"
     ]
    },
    {
     "name": "stdout",
     "output_type": "stream",
     "text": [
      "QUERY:  Precipitation amount in Zollikofen July 3, 2021 5h\n",
      "QUERY:  temperature in Zollikofen July 3, 2021 5h\n",
      "QUERY:  humidity in Zollikofen July 3, 2021 5h\n",
      "QUERY:  wind speed in Zollikofen July 3, 2021 5h\n",
      "QUERY:  Moon Phase calculatorJuly 3, 2021 5h\n"
     ]
    },
    {
     "name": "stderr",
     "output_type": "stream",
     "text": [
      "\r",
      " 16%|████████████▌                                                                 | 138/853 [46:40<3:32:11, 17.81s/it]"
     ]
    },
    {
     "name": "stdout",
     "output_type": "stream",
     "text": [
      "QUERY:  Precipitation amount in Zollikofen July 3, 2021 6h\n",
      "QUERY:  temperature in Zollikofen July 3, 2021 6h\n",
      "QUERY:  humidity in Zollikofen July 3, 2021 6h\n",
      "QUERY:  wind speed in Zollikofen July 3, 2021 6h\n",
      "QUERY:  Moon Phase calculatorJuly 3, 2021 6h\n"
     ]
    },
    {
     "name": "stderr",
     "output_type": "stream",
     "text": [
      "\r",
      " 16%|████████████▋                                                                 | 139/853 [46:58<3:30:46, 17.71s/it]"
     ]
    },
    {
     "name": "stdout",
     "output_type": "stream",
     "text": [
      "QUERY:  Precipitation amount in Zollikofen July 3, 2021 7h\n",
      "QUERY:  temperature in Zollikofen July 3, 2021 7h\n",
      "QUERY:  humidity in Zollikofen July 3, 2021 7h\n",
      "QUERY:  wind speed in Zollikofen July 3, 2021 7h\n",
      "QUERY:  Moon Phase calculatorJuly 3, 2021 7h\n"
     ]
    },
    {
     "name": "stderr",
     "output_type": "stream",
     "text": [
      "\r",
      " 16%|████████████▊                                                                 | 140/853 [47:16<3:34:06, 18.02s/it]"
     ]
    },
    {
     "name": "stdout",
     "output_type": "stream",
     "text": [
      "QUERY:  Precipitation amount in Zollikofen July 3, 2021 8h\n",
      "QUERY:  temperature in Zollikofen July 3, 2021 8h\n",
      "QUERY:  humidity in Zollikofen July 3, 2021 8h\n",
      "QUERY:  wind speed in Zollikofen July 3, 2021 8h\n",
      "QUERY:  Moon Phase calculatorJuly 3, 2021 8h\n",
      "(6657, 7)\n"
     ]
    },
    {
     "data": {
      "text/html": [
       "<div>\n",
       "<style scoped>\n",
       "    .dataframe tbody tr th:only-of-type {\n",
       "        vertical-align: middle;\n",
       "    }\n",
       "\n",
       "    .dataframe tbody tr th {\n",
       "        vertical-align: top;\n",
       "    }\n",
       "\n",
       "    .dataframe thead th {\n",
       "        text-align: right;\n",
       "    }\n",
       "</style>\n",
       "<table border=\"1\" class=\"dataframe\">\n",
       "  <thead>\n",
       "    <tr style=\"text-align: right;\">\n",
       "      <th></th>\n",
       "      <th>date</th>\n",
       "      <th>temperature</th>\n",
       "      <th>humidity</th>\n",
       "      <th>wind speed</th>\n",
       "      <th>Precipitation amount</th>\n",
       "      <th>query</th>\n",
       "      <th>Moon Phase calculator</th>\n",
       "    </tr>\n",
       "  </thead>\n",
       "  <tbody>\n",
       "    <tr>\n",
       "      <th>8</th>\n",
       "      <td>2021-07-03 07:00:00</td>\n",
       "      <td>15 °C\\n(7:00 am CEST | Saturday, July 3, 2021)</td>\n",
       "      <td>average: 88% (82 to 94%)\\n(7:00 am CEST | Satu...</td>\n",
       "      <td>1 m/s\\n(7:00 am CEST | Saturday, July 3, 2021)</td>\n",
       "      <td>no precipitation\\n(7:00 am CEST | Saturday, Ju...</td>\n",
       "      <td>Moon Phase calculatorJuly 3, 2021 7h</td>\n",
       "      <td>| waning crescent moon\\n37.39% illuminated</td>\n",
       "    </tr>\n",
       "    <tr>\n",
       "      <th>9</th>\n",
       "      <td>2021-07-03 08:00:00</td>\n",
       "      <td>16 °C\\n(8:00 am CEST | Saturday, July 3, 2021)</td>\n",
       "      <td>average: 77% (73 to 82%)\\n(8:00 am CEST | Satu...</td>\n",
       "      <td>0 m/s\\n(8:00 am CEST | Saturday, July 3, 2021)</td>\n",
       "      <td>no precipitation\\n(8:00 am CEST | Saturday, Ju...</td>\n",
       "      <td>Moon Phase calculatorJuly 3, 2021 8h</td>\n",
       "      <td>| waning crescent moon\\n37.00% illuminated</td>\n",
       "    </tr>\n",
       "  </tbody>\n",
       "</table>\n",
       "</div>"
      ],
      "text/plain": [
       "                 date                                     temperature  \\\n",
       "8 2021-07-03 07:00:00  15 °C\\n(7:00 am CEST | Saturday, July 3, 2021)   \n",
       "9 2021-07-03 08:00:00  16 °C\\n(8:00 am CEST | Saturday, July 3, 2021)   \n",
       "\n",
       "                                            humidity  \\\n",
       "8  average: 88% (82 to 94%)\\n(7:00 am CEST | Satu...   \n",
       "9  average: 77% (73 to 82%)\\n(8:00 am CEST | Satu...   \n",
       "\n",
       "                                       wind speed  \\\n",
       "8  1 m/s\\n(7:00 am CEST | Saturday, July 3, 2021)   \n",
       "9  0 m/s\\n(8:00 am CEST | Saturday, July 3, 2021)   \n",
       "\n",
       "                                Precipitation amount  \\\n",
       "8  no precipitation\\n(7:00 am CEST | Saturday, Ju...   \n",
       "9  no precipitation\\n(8:00 am CEST | Saturday, Ju...   \n",
       "\n",
       "                                  query  \\\n",
       "8  Moon Phase calculatorJuly 3, 2021 7h   \n",
       "9  Moon Phase calculatorJuly 3, 2021 8h   \n",
       "\n",
       "                        Moon Phase calculator  \n",
       "8  | waning crescent moon\\n37.39% illuminated  \n",
       "9  | waning crescent moon\\n37.00% illuminated  "
      ]
     },
     "metadata": {},
     "output_type": "display_data"
    },
    {
     "name": "stderr",
     "output_type": "stream",
     "text": [
      "\r",
      " 17%|████████████▉                                                                 | 141/853 [47:35<3:36:00, 18.20s/it]"
     ]
    },
    {
     "name": "stdout",
     "output_type": "stream",
     "text": [
      "QUERY:  Precipitation amount in Zollikofen July 3, 2021 9h\n",
      "QUERY:  temperature in Zollikofen July 3, 2021 9h\n",
      "QUERY:  humidity in Zollikofen July 3, 2021 9h\n",
      "QUERY:  wind speed in Zollikofen July 3, 2021 9h\n",
      "QUERY:  Moon Phase calculatorJuly 3, 2021 9h\n"
     ]
    },
    {
     "name": "stderr",
     "output_type": "stream",
     "text": [
      "\r",
      " 17%|████████████▉                                                                 | 142/853 [47:53<3:33:26, 18.01s/it]"
     ]
    },
    {
     "name": "stdout",
     "output_type": "stream",
     "text": [
      "QUERY:  Precipitation amount in Zollikofen July 3, 2021 10h\n",
      "QUERY:  temperature in Zollikofen July 3, 2021 10h\n",
      "QUERY:  humidity in Zollikofen July 3, 2021 10h\n",
      "QUERY:  wind speed in Zollikofen July 3, 2021 10h\n",
      "QUERY:  Moon Phase calculatorJuly 3, 2021 10h\n"
     ]
    },
    {
     "name": "stderr",
     "output_type": "stream",
     "text": [
      "\r",
      " 17%|█████████████                                                                 | 143/853 [48:10<3:31:28, 17.87s/it]"
     ]
    },
    {
     "name": "stdout",
     "output_type": "stream",
     "text": [
      "QUERY:  Precipitation amount in Zollikofen July 3, 2021 11h\n",
      "QUERY:  temperature in Zollikofen July 3, 2021 11h\n",
      "QUERY:  humidity in Zollikofen July 3, 2021 11h\n",
      "QUERY:  wind speed in Zollikofen July 3, 2021 11h\n",
      "QUERY:  Moon Phase calculatorJuly 3, 2021 11h\n"
     ]
    },
    {
     "name": "stderr",
     "output_type": "stream",
     "text": [
      "\r",
      " 17%|█████████████▏                                                                | 144/853 [48:27<3:27:53, 17.59s/it]"
     ]
    },
    {
     "name": "stdout",
     "output_type": "stream",
     "text": [
      "QUERY:  Precipitation amount in Zollikofen July 3, 2021 12h\n",
      "QUERY:  temperature in Zollikofen July 3, 2021 12h\n",
      "QUERY:  humidity in Zollikofen July 3, 2021 12h\n",
      "QUERY:  wind speed in Zollikofen July 3, 2021 12h\n",
      "QUERY:  Moon Phase calculatorJuly 3, 2021 12h\n"
     ]
    },
    {
     "name": "stderr",
     "output_type": "stream",
     "text": [
      "\r",
      " 17%|█████████████▎                                                                | 145/853 [48:44<3:25:53, 17.45s/it]"
     ]
    },
    {
     "name": "stdout",
     "output_type": "stream",
     "text": [
      "QUERY:  Precipitation amount in Zollikofen July 3, 2021 13h\n",
      "QUERY:  temperature in Zollikofen July 3, 2021 13h\n",
      "QUERY:  humidity in Zollikofen July 3, 2021 13h\n",
      "QUERY:  wind speed in Zollikofen July 3, 2021 13h\n",
      "QUERY:  Moon Phase calculatorJuly 3, 2021 13h\n"
     ]
    },
    {
     "name": "stderr",
     "output_type": "stream",
     "text": [
      "\r",
      " 17%|█████████████▎                                                                | 146/853 [49:01<3:25:18, 17.42s/it]"
     ]
    },
    {
     "name": "stdout",
     "output_type": "stream",
     "text": [
      "QUERY:  Precipitation amount in Zollikofen July 3, 2021 14h\n",
      "QUERY:  temperature in Zollikofen July 3, 2021 14h\n",
      "QUERY:  humidity in Zollikofen July 3, 2021 14h\n",
      "QUERY:  wind speed in Zollikofen July 3, 2021 14h\n",
      "QUERY:  Moon Phase calculatorJuly 3, 2021 14h\n"
     ]
    },
    {
     "name": "stderr",
     "output_type": "stream",
     "text": [
      "\r",
      " 17%|█████████████▍                                                                | 147/853 [49:19<3:26:34, 17.56s/it]"
     ]
    },
    {
     "name": "stdout",
     "output_type": "stream",
     "text": [
      "QUERY:  Precipitation amount in Zollikofen July 3, 2021 15h\n",
      "QUERY:  temperature in Zollikofen July 3, 2021 15h\n",
      "QUERY:  humidity in Zollikofen July 3, 2021 15h\n",
      "QUERY:  wind speed in Zollikofen July 3, 2021 15h\n",
      "QUERY:  Moon Phase calculatorJuly 3, 2021 15h\n"
     ]
    },
    {
     "name": "stderr",
     "output_type": "stream",
     "text": [
      "\r",
      " 17%|█████████████▌                                                                | 148/853 [49:36<3:24:39, 17.42s/it]"
     ]
    },
    {
     "name": "stdout",
     "output_type": "stream",
     "text": [
      "QUERY:  Precipitation amount in Zollikofen July 3, 2021 16h\n",
      "QUERY:  temperature in Zollikofen July 3, 2021 16h\n",
      "QUERY:  humidity in Zollikofen July 3, 2021 16h\n",
      "QUERY:  wind speed in Zollikofen July 3, 2021 16h\n",
      "QUERY:  Moon Phase calculatorJuly 3, 2021 16h\n"
     ]
    },
    {
     "name": "stderr",
     "output_type": "stream",
     "text": [
      "\r",
      " 17%|█████████████▌                                                                | 149/853 [49:53<3:22:53, 17.29s/it]"
     ]
    },
    {
     "name": "stdout",
     "output_type": "stream",
     "text": [
      "QUERY:  Precipitation amount in Zollikofen July 3, 2021 17h\n",
      "QUERY:  temperature in Zollikofen July 3, 2021 17h\n",
      "QUERY:  humidity in Zollikofen July 3, 2021 17h\n",
      "QUERY:  wind speed in Zollikofen July 3, 2021 17h\n",
      "QUERY:  Moon Phase calculatorJuly 3, 2021 17h\n"
     ]
    },
    {
     "name": "stderr",
     "output_type": "stream",
     "text": [
      "\r",
      " 18%|█████████████▋                                                                | 150/853 [50:10<3:21:13, 17.17s/it]"
     ]
    },
    {
     "name": "stdout",
     "output_type": "stream",
     "text": [
      "QUERY:  Precipitation amount in Zollikofen July 3, 2021 18h\n",
      "QUERY:  temperature in Zollikofen July 3, 2021 18h\n",
      "QUERY:  humidity in Zollikofen July 3, 2021 18h\n",
      "QUERY:  wind speed in Zollikofen July 3, 2021 18h\n",
      "QUERY:  Moon Phase calculatorJuly 3, 2021 18h\n",
      "(6667, 7)\n"
     ]
    },
    {
     "data": {
      "text/html": [
       "<div>\n",
       "<style scoped>\n",
       "    .dataframe tbody tr th:only-of-type {\n",
       "        vertical-align: middle;\n",
       "    }\n",
       "\n",
       "    .dataframe tbody tr th {\n",
       "        vertical-align: top;\n",
       "    }\n",
       "\n",
       "    .dataframe thead th {\n",
       "        text-align: right;\n",
       "    }\n",
       "</style>\n",
       "<table border=\"1\" class=\"dataframe\">\n",
       "  <thead>\n",
       "    <tr style=\"text-align: right;\">\n",
       "      <th></th>\n",
       "      <th>date</th>\n",
       "      <th>temperature</th>\n",
       "      <th>humidity</th>\n",
       "      <th>wind speed</th>\n",
       "      <th>Precipitation amount</th>\n",
       "      <th>query</th>\n",
       "      <th>Moon Phase calculator</th>\n",
       "    </tr>\n",
       "  </thead>\n",
       "  <tbody>\n",
       "    <tr>\n",
       "      <th>8</th>\n",
       "      <td>2021-07-03 17:00:00</td>\n",
       "      <td>18 °C\\n(5:00 pm CEST | Saturday, July 3, 2021)</td>\n",
       "      <td>average: 83% (78 to 88%)\\n(5:00 pm CEST | Satu...</td>\n",
       "      <td>1 m/s\\n(5:00 pm CEST | Saturday, July 3, 2021)</td>\n",
       "      <td>rain\\n(5:00 pm CEST | Saturday, July 3, 2021)</td>\n",
       "      <td>Moon Phase calculatorJuly 3, 2021 17h</td>\n",
       "      <td>| waning crescent moon\\n33.57% illuminated</td>\n",
       "    </tr>\n",
       "    <tr>\n",
       "      <th>9</th>\n",
       "      <td>2021-07-03 18:00:00</td>\n",
       "      <td>17 °C\\n(6:00 pm CEST | Saturday, July 3, 2021)</td>\n",
       "      <td>average: 85% (83 to 88%)\\n(6:00 pm CEST | Satu...</td>\n",
       "      <td>1 m/s\\n(6:00 pm CEST | Saturday, July 3, 2021)</td>\n",
       "      <td>rain\\n(6:00 pm CEST | Saturday, July 3, 2021)</td>\n",
       "      <td>Moon Phase calculatorJuly 3, 2021 18h</td>\n",
       "      <td>| waning crescent moon\\n33.19% illuminated</td>\n",
       "    </tr>\n",
       "  </tbody>\n",
       "</table>\n",
       "</div>"
      ],
      "text/plain": [
       "                 date                                     temperature  \\\n",
       "8 2021-07-03 17:00:00  18 °C\\n(5:00 pm CEST | Saturday, July 3, 2021)   \n",
       "9 2021-07-03 18:00:00  17 °C\\n(6:00 pm CEST | Saturday, July 3, 2021)   \n",
       "\n",
       "                                            humidity  \\\n",
       "8  average: 83% (78 to 88%)\\n(5:00 pm CEST | Satu...   \n",
       "9  average: 85% (83 to 88%)\\n(6:00 pm CEST | Satu...   \n",
       "\n",
       "                                       wind speed  \\\n",
       "8  1 m/s\\n(5:00 pm CEST | Saturday, July 3, 2021)   \n",
       "9  1 m/s\\n(6:00 pm CEST | Saturday, July 3, 2021)   \n",
       "\n",
       "                            Precipitation amount  \\\n",
       "8  rain\\n(5:00 pm CEST | Saturday, July 3, 2021)   \n",
       "9  rain\\n(6:00 pm CEST | Saturday, July 3, 2021)   \n",
       "\n",
       "                                   query  \\\n",
       "8  Moon Phase calculatorJuly 3, 2021 17h   \n",
       "9  Moon Phase calculatorJuly 3, 2021 18h   \n",
       "\n",
       "                        Moon Phase calculator  \n",
       "8  | waning crescent moon\\n33.57% illuminated  \n",
       "9  | waning crescent moon\\n33.19% illuminated  "
      ]
     },
     "metadata": {},
     "output_type": "display_data"
    },
    {
     "name": "stderr",
     "output_type": "stream",
     "text": [
      "\r",
      " 18%|█████████████▊                                                                | 151/853 [50:32<3:35:42, 18.44s/it]"
     ]
    },
    {
     "name": "stdout",
     "output_type": "stream",
     "text": [
      "QUERY:  Precipitation amount in Zollikofen July 3, 2021 19h\n",
      "QUERY:  temperature in Zollikofen July 3, 2021 19h\n",
      "QUERY:  humidity in Zollikofen July 3, 2021 19h\n",
      "QUERY:  wind speed in Zollikofen July 3, 2021 19h\n",
      "QUERY:  Moon Phase calculatorJuly 3, 2021 19h\n"
     ]
    },
    {
     "name": "stderr",
     "output_type": "stream",
     "text": [
      "\r",
      " 18%|█████████████▉                                                                | 152/853 [50:53<3:44:00, 19.17s/it]"
     ]
    },
    {
     "name": "stdout",
     "output_type": "stream",
     "text": [
      "QUERY:  Precipitation amount in Zollikofen July 3, 2021 20h\n",
      "QUERY:  temperature in Zollikofen July 3, 2021 20h\n",
      "QUERY:  humidity in Zollikofen July 3, 2021 20h\n",
      "QUERY:  wind speed in Zollikofen July 3, 2021 20h\n",
      "QUERY:  Moon Phase calculatorJuly 3, 2021 20h\n"
     ]
    },
    {
     "name": "stderr",
     "output_type": "stream",
     "text": [
      "\r",
      " 18%|█████████████▉                                                                | 153/853 [51:14<3:50:49, 19.79s/it]"
     ]
    },
    {
     "name": "stdout",
     "output_type": "stream",
     "text": [
      "QUERY:  Precipitation amount in Zollikofen July 3, 2021 21h\n",
      "QUERY:  temperature in Zollikofen July 3, 2021 21h\n",
      "QUERY:  humidity in Zollikofen July 3, 2021 21h\n",
      "QUERY:  wind speed in Zollikofen July 3, 2021 21h\n",
      "QUERY:  Moon Phase calculatorJuly 3, 2021 21h\n"
     ]
    },
    {
     "name": "stderr",
     "output_type": "stream",
     "text": [
      "\r",
      " 18%|██████████████                                                                | 154/853 [51:36<3:58:17, 20.45s/it]"
     ]
    },
    {
     "name": "stdout",
     "output_type": "stream",
     "text": [
      "QUERY:  Precipitation amount in Zollikofen July 3, 2021 22h\n",
      "QUERY:  temperature in Zollikofen July 3, 2021 22h\n",
      "QUERY:  humidity in Zollikofen July 3, 2021 22h\n",
      "QUERY:  wind speed in Zollikofen July 3, 2021 22h\n",
      "QUERY:  Moon Phase calculatorJuly 3, 2021 22h\n"
     ]
    },
    {
     "name": "stderr",
     "output_type": "stream",
     "text": [
      "\r",
      " 18%|██████████████▏                                                               | 155/853 [51:58<4:04:49, 21.05s/it]"
     ]
    },
    {
     "name": "stdout",
     "output_type": "stream",
     "text": [
      "QUERY:  Precipitation amount in Zollikofen July 3, 2021 23h\n",
      "QUERY:  temperature in Zollikofen July 3, 2021 23h\n",
      "QUERY:  humidity in Zollikofen July 3, 2021 23h\n",
      "QUERY:  wind speed in Zollikofen July 3, 2021 23h\n",
      "QUERY:  Moon Phase calculatorJuly 3, 2021 23h\n"
     ]
    },
    {
     "name": "stderr",
     "output_type": "stream",
     "text": [
      "\r",
      " 18%|██████████████▎                                                               | 156/853 [52:18<4:01:25, 20.78s/it]"
     ]
    },
    {
     "name": "stdout",
     "output_type": "stream",
     "text": [
      "QUERY:  Precipitation amount in Zollikofen July 4, 2021 0h\n",
      "QUERY:  temperature in Zollikofen July 4, 2021 0h\n",
      "QUERY:  humidity in Zollikofen July 4, 2021 0h\n",
      "QUERY:  wind speed in Zollikofen July 4, 2021 0h\n",
      "QUERY:  Moon Phase calculatorJuly 4, 2021 0h\n"
     ]
    },
    {
     "name": "stderr",
     "output_type": "stream",
     "text": [
      "\r",
      " 18%|██████████████▎                                                               | 157/853 [52:39<4:00:24, 20.72s/it]"
     ]
    },
    {
     "name": "stdout",
     "output_type": "stream",
     "text": [
      "QUERY:  Precipitation amount in Zollikofen July 4, 2021 1h\n",
      "QUERY:  temperature in Zollikofen July 4, 2021 1h\n",
      "QUERY:  humidity in Zollikofen July 4, 2021 1h\n",
      "QUERY:  wind speed in Zollikofen July 4, 2021 1h\n",
      "QUERY:  Moon Phase calculatorJuly 4, 2021 1h\n"
     ]
    },
    {
     "name": "stderr",
     "output_type": "stream",
     "text": [
      "\r",
      " 19%|██████████████▍                                                               | 158/853 [52:59<3:56:21, 20.41s/it]"
     ]
    },
    {
     "name": "stdout",
     "output_type": "stream",
     "text": [
      "QUERY:  Precipitation amount in Zollikofen July 4, 2021 2h\n",
      "QUERY:  temperature in Zollikofen July 4, 2021 2h\n",
      "QUERY:  humidity in Zollikofen July 4, 2021 2h\n",
      "QUERY:  wind speed in Zollikofen July 4, 2021 2h\n",
      "QUERY:  Moon Phase calculatorJuly 4, 2021 2h\n"
     ]
    },
    {
     "name": "stderr",
     "output_type": "stream",
     "text": [
      "\r",
      " 19%|██████████████▌                                                               | 159/853 [53:19<3:54:30, 20.27s/it]"
     ]
    },
    {
     "name": "stdout",
     "output_type": "stream",
     "text": [
      "QUERY:  Precipitation amount in Zollikofen July 4, 2021 3h\n",
      "QUERY:  temperature in Zollikofen July 4, 2021 3h\n",
      "QUERY:  humidity in Zollikofen July 4, 2021 3h\n",
      "QUERY:  wind speed in Zollikofen July 4, 2021 3h\n",
      "QUERY:  Moon Phase calculatorJuly 4, 2021 3h\n"
     ]
    },
    {
     "name": "stderr",
     "output_type": "stream",
     "text": [
      "\r",
      " 19%|██████████████▋                                                               | 160/853 [53:38<3:51:39, 20.06s/it]"
     ]
    },
    {
     "name": "stdout",
     "output_type": "stream",
     "text": [
      "QUERY:  Precipitation amount in Zollikofen July 4, 2021 4h\n",
      "QUERY:  temperature in Zollikofen July 4, 2021 4h\n",
      "QUERY:  humidity in Zollikofen July 4, 2021 4h\n",
      "QUERY:  wind speed in Zollikofen July 4, 2021 4h\n",
      "QUERY:  Moon Phase calculatorJuly 4, 2021 4h\n",
      "(6677, 7)\n"
     ]
    },
    {
     "data": {
      "text/html": [
       "<div>\n",
       "<style scoped>\n",
       "    .dataframe tbody tr th:only-of-type {\n",
       "        vertical-align: middle;\n",
       "    }\n",
       "\n",
       "    .dataframe tbody tr th {\n",
       "        vertical-align: top;\n",
       "    }\n",
       "\n",
       "    .dataframe thead th {\n",
       "        text-align: right;\n",
       "    }\n",
       "</style>\n",
       "<table border=\"1\" class=\"dataframe\">\n",
       "  <thead>\n",
       "    <tr style=\"text-align: right;\">\n",
       "      <th></th>\n",
       "      <th>date</th>\n",
       "      <th>temperature</th>\n",
       "      <th>humidity</th>\n",
       "      <th>wind speed</th>\n",
       "      <th>Precipitation amount</th>\n",
       "      <th>query</th>\n",
       "      <th>Moon Phase calculator</th>\n",
       "    </tr>\n",
       "  </thead>\n",
       "  <tbody>\n",
       "    <tr>\n",
       "      <th>8</th>\n",
       "      <td>2021-07-04 03:00:00</td>\n",
       "      <td>16 °C\\n(3:00 am CEST | Sunday, July 4, 2021)</td>\n",
       "      <td>average: 100% (100%)\\n(3:00 am CEST | Sunday, ...</td>\n",
       "      <td>1 m/s\\n(3:00 am CEST | Sunday, July 4, 2021)</td>\n",
       "      <td>no precipitation\\n(3:00 am CEST | Sunday, July...</td>\n",
       "      <td>Moon Phase calculatorJuly 4, 2021 3h</td>\n",
       "      <td>| waning crescent moon\\n29.87% illuminated</td>\n",
       "    </tr>\n",
       "    <tr>\n",
       "      <th>9</th>\n",
       "      <td>2021-07-04 04:00:00</td>\n",
       "      <td>16 °C\\n(4:00 am CEST | Sunday, July 4, 2021)</td>\n",
       "      <td>average: 100% (100%)\\n(4:00 am CEST | Sunday, ...</td>\n",
       "      <td>1 m/s\\n(4:00 am CEST | Sunday, July 4, 2021)</td>\n",
       "      <td>no precipitation\\n(4:00 am CEST | Sunday, July...</td>\n",
       "      <td>Moon Phase calculatorJuly 4, 2021 4h</td>\n",
       "      <td>| waning crescent moon\\n29.51% illuminated</td>\n",
       "    </tr>\n",
       "  </tbody>\n",
       "</table>\n",
       "</div>"
      ],
      "text/plain": [
       "                 date                                   temperature  \\\n",
       "8 2021-07-04 03:00:00  16 °C\\n(3:00 am CEST | Sunday, July 4, 2021)   \n",
       "9 2021-07-04 04:00:00  16 °C\\n(4:00 am CEST | Sunday, July 4, 2021)   \n",
       "\n",
       "                                            humidity  \\\n",
       "8  average: 100% (100%)\\n(3:00 am CEST | Sunday, ...   \n",
       "9  average: 100% (100%)\\n(4:00 am CEST | Sunday, ...   \n",
       "\n",
       "                                     wind speed  \\\n",
       "8  1 m/s\\n(3:00 am CEST | Sunday, July 4, 2021)   \n",
       "9  1 m/s\\n(4:00 am CEST | Sunday, July 4, 2021)   \n",
       "\n",
       "                                Precipitation amount  \\\n",
       "8  no precipitation\\n(3:00 am CEST | Sunday, July...   \n",
       "9  no precipitation\\n(4:00 am CEST | Sunday, July...   \n",
       "\n",
       "                                  query  \\\n",
       "8  Moon Phase calculatorJuly 4, 2021 3h   \n",
       "9  Moon Phase calculatorJuly 4, 2021 4h   \n",
       "\n",
       "                        Moon Phase calculator  \n",
       "8  | waning crescent moon\\n29.87% illuminated  \n",
       "9  | waning crescent moon\\n29.51% illuminated  "
      ]
     },
     "metadata": {},
     "output_type": "display_data"
    },
    {
     "name": "stderr",
     "output_type": "stream",
     "text": [
      "\r",
      " 19%|██████████████▋                                                               | 161/853 [53:58<3:51:14, 20.05s/it]"
     ]
    },
    {
     "name": "stdout",
     "output_type": "stream",
     "text": [
      "QUERY:  Precipitation amount in Zollikofen July 4, 2021 5h\n",
      "QUERY:  temperature in Zollikofen July 4, 2021 5h\n",
      "QUERY:  humidity in Zollikofen July 4, 2021 5h\n",
      "QUERY:  wind speed in Zollikofen July 4, 2021 5h\n",
      "QUERY:  Moon Phase calculatorJuly 4, 2021 5h\n"
     ]
    },
    {
     "name": "stderr",
     "output_type": "stream",
     "text": [
      "\r",
      " 19%|██████████████▊                                                               | 162/853 [54:18<3:49:29, 19.93s/it]"
     ]
    },
    {
     "name": "stdout",
     "output_type": "stream",
     "text": [
      "QUERY:  Precipitation amount in Zollikofen July 4, 2021 6h\n",
      "QUERY:  temperature in Zollikofen July 4, 2021 6h\n",
      "QUERY:  humidity in Zollikofen July 4, 2021 6h\n",
      "QUERY:  wind speed in Zollikofen July 4, 2021 6h\n",
      "QUERY:  Moon Phase calculatorJuly 4, 2021 6h\n"
     ]
    },
    {
     "name": "stderr",
     "output_type": "stream",
     "text": [
      "\r",
      " 19%|██████████████▉                                                               | 163/853 [54:38<3:48:28, 19.87s/it]"
     ]
    },
    {
     "name": "stdout",
     "output_type": "stream",
     "text": [
      "QUERY:  Precipitation amount in Zollikofen July 4, 2021 7h\n",
      "QUERY:  temperature in Zollikofen July 4, 2021 7h\n",
      "QUERY:  humidity in Zollikofen July 4, 2021 7h\n",
      "QUERY:  wind speed in Zollikofen July 4, 2021 7h\n",
      "QUERY:  Moon Phase calculatorJuly 4, 2021 7h\n"
     ]
    },
    {
     "name": "stderr",
     "output_type": "stream",
     "text": [
      "\r",
      " 19%|██████████████▉                                                               | 164/853 [54:59<3:52:43, 20.27s/it]"
     ]
    },
    {
     "name": "stdout",
     "output_type": "stream",
     "text": [
      "QUERY:  Precipitation amount in Zollikofen July 4, 2021 8h\n",
      "QUERY:  temperature in Zollikofen July 4, 2021 8h\n",
      "QUERY:  humidity in Zollikofen July 4, 2021 8h\n",
      "QUERY:  wind speed in Zollikofen July 4, 2021 8h\n",
      "QUERY:  Moon Phase calculatorJuly 4, 2021 8h\n"
     ]
    },
    {
     "name": "stderr",
     "output_type": "stream",
     "text": [
      "\r",
      " 19%|███████████████                                                               | 165/853 [55:19<3:51:21, 20.18s/it]"
     ]
    },
    {
     "name": "stdout",
     "output_type": "stream",
     "text": [
      "QUERY:  Precipitation amount in Zollikofen July 4, 2021 9h\n",
      "QUERY:  temperature in Zollikofen July 4, 2021 9h\n",
      "QUERY:  humidity in Zollikofen July 4, 2021 9h\n",
      "QUERY:  wind speed in Zollikofen July 4, 2021 9h\n",
      "QUERY:  Moon Phase calculatorJuly 4, 2021 9h\n"
     ]
    },
    {
     "name": "stderr",
     "output_type": "stream",
     "text": [
      "\r",
      " 19%|███████████████▏                                                              | 166/853 [55:40<3:54:32, 20.48s/it]"
     ]
    },
    {
     "name": "stdout",
     "output_type": "stream",
     "text": [
      "QUERY:  Precipitation amount in Zollikofen July 4, 2021 10h\n",
      "QUERY:  temperature in Zollikofen July 4, 2021 10h\n",
      "QUERY:  humidity in Zollikofen July 4, 2021 10h\n",
      "QUERY:  wind speed in Zollikofen July 4, 2021 10h\n",
      "QUERY:  Moon Phase calculatorJuly 4, 2021 10h\n"
     ]
    },
    {
     "name": "stderr",
     "output_type": "stream",
     "text": [
      "\r",
      " 20%|███████████████▎                                                              | 167/853 [56:01<3:56:16, 20.67s/it]"
     ]
    },
    {
     "name": "stdout",
     "output_type": "stream",
     "text": [
      "QUERY:  Precipitation amount in Zollikofen July 4, 2021 11h\n",
      "QUERY:  temperature in Zollikofen July 4, 2021 11h\n",
      "QUERY:  humidity in Zollikofen July 4, 2021 11h\n",
      "QUERY:  wind speed in Zollikofen July 4, 2021 11h\n",
      "QUERY:  Moon Phase calculatorJuly 4, 2021 11h\n"
     ]
    },
    {
     "name": "stderr",
     "output_type": "stream",
     "text": [
      "\r",
      " 20%|███████████████▎                                                              | 168/853 [56:24<4:04:45, 21.44s/it]"
     ]
    },
    {
     "name": "stdout",
     "output_type": "stream",
     "text": [
      "QUERY:  Precipitation amount in Zollikofen July 4, 2021 12h\n",
      "QUERY:  temperature in Zollikofen July 4, 2021 12h\n",
      "QUERY:  humidity in Zollikofen July 4, 2021 12h\n",
      "QUERY:  wind speed in Zollikofen July 4, 2021 12h\n",
      "QUERY:  Moon Phase calculatorJuly 4, 2021 12h\n"
     ]
    },
    {
     "name": "stderr",
     "output_type": "stream",
     "text": [
      "\r",
      " 20%|███████████████▍                                                              | 169/853 [56:46<4:05:20, 21.52s/it]"
     ]
    },
    {
     "name": "stdout",
     "output_type": "stream",
     "text": [
      "QUERY:  Precipitation amount in Zollikofen July 4, 2021 13h\n",
      "QUERY:  temperature in Zollikofen July 4, 2021 13h\n",
      "QUERY:  humidity in Zollikofen July 4, 2021 13h\n",
      "QUERY:  wind speed in Zollikofen July 4, 2021 13h\n",
      "QUERY:  Moon Phase calculatorJuly 4, 2021 13h\n"
     ]
    },
    {
     "name": "stderr",
     "output_type": "stream",
     "text": [
      "\r",
      " 20%|███████████████▌                                                              | 170/853 [57:14<4:26:38, 23.42s/it]"
     ]
    },
    {
     "name": "stdout",
     "output_type": "stream",
     "text": [
      "QUERY:  Precipitation amount in Zollikofen July 4, 2021 14h\n",
      "QUERY:  temperature in Zollikofen July 4, 2021 14h\n",
      "QUERY:  humidity in Zollikofen July 4, 2021 14h\n",
      "QUERY:  wind speed in Zollikofen July 4, 2021 14h\n",
      "QUERY:  Moon Phase calculatorJuly 4, 2021 14h\n",
      "(6687, 7)\n"
     ]
    },
    {
     "data": {
      "text/html": [
       "<div>\n",
       "<style scoped>\n",
       "    .dataframe tbody tr th:only-of-type {\n",
       "        vertical-align: middle;\n",
       "    }\n",
       "\n",
       "    .dataframe tbody tr th {\n",
       "        vertical-align: top;\n",
       "    }\n",
       "\n",
       "    .dataframe thead th {\n",
       "        text-align: right;\n",
       "    }\n",
       "</style>\n",
       "<table border=\"1\" class=\"dataframe\">\n",
       "  <thead>\n",
       "    <tr style=\"text-align: right;\">\n",
       "      <th></th>\n",
       "      <th>date</th>\n",
       "      <th>temperature</th>\n",
       "      <th>humidity</th>\n",
       "      <th>wind speed</th>\n",
       "      <th>Precipitation amount</th>\n",
       "      <th>query</th>\n",
       "      <th>Moon Phase calculator</th>\n",
       "    </tr>\n",
       "  </thead>\n",
       "  <tbody>\n",
       "    <tr>\n",
       "      <th>8</th>\n",
       "      <td>2021-07-04 13:00:00</td>\n",
       "      <td>19 °C\\n(1:00 pm CEST | Sunday, July 4, 2021)</td>\n",
       "      <td>average: 80% (78 to 83%)\\n(1:00 pm CEST | Sund...</td>\n",
       "      <td>1 m/s\\n(1:00 pm CEST | Sunday, July 4, 2021)</td>\n",
       "      <td>no precipitation\\n(1:00 pm CEST | Sunday, July...</td>\n",
       "      <td>Moon Phase calculatorJuly 4, 2021 13h</td>\n",
       "      <td>| waning crescent moon\\n26.31% illuminated</td>\n",
       "    </tr>\n",
       "    <tr>\n",
       "      <th>9</th>\n",
       "      <td>2021-07-04 14:00:00</td>\n",
       "      <td>19 °C\\n(2:00 pm CEST | Sunday, July 4, 2021)</td>\n",
       "      <td>average: 78% (78%)\\n(2:00 pm CEST | Sunday, Ju...</td>\n",
       "      <td>1 m/s\\n(2:00 pm CEST | Sunday, July 4, 2021)</td>\n",
       "      <td>no precipitation\\n(2:00 pm CEST | Sunday, July...</td>\n",
       "      <td>Moon Phase calculatorJuly 4, 2021 14h</td>\n",
       "      <td>| waning crescent moon\\n25.96% illuminated</td>\n",
       "    </tr>\n",
       "  </tbody>\n",
       "</table>\n",
       "</div>"
      ],
      "text/plain": [
       "                 date                                   temperature  \\\n",
       "8 2021-07-04 13:00:00  19 °C\\n(1:00 pm CEST | Sunday, July 4, 2021)   \n",
       "9 2021-07-04 14:00:00  19 °C\\n(2:00 pm CEST | Sunday, July 4, 2021)   \n",
       "\n",
       "                                            humidity  \\\n",
       "8  average: 80% (78 to 83%)\\n(1:00 pm CEST | Sund...   \n",
       "9  average: 78% (78%)\\n(2:00 pm CEST | Sunday, Ju...   \n",
       "\n",
       "                                     wind speed  \\\n",
       "8  1 m/s\\n(1:00 pm CEST | Sunday, July 4, 2021)   \n",
       "9  1 m/s\\n(2:00 pm CEST | Sunday, July 4, 2021)   \n",
       "\n",
       "                                Precipitation amount  \\\n",
       "8  no precipitation\\n(1:00 pm CEST | Sunday, July...   \n",
       "9  no precipitation\\n(2:00 pm CEST | Sunday, July...   \n",
       "\n",
       "                                   query  \\\n",
       "8  Moon Phase calculatorJuly 4, 2021 13h   \n",
       "9  Moon Phase calculatorJuly 4, 2021 14h   \n",
       "\n",
       "                        Moon Phase calculator  \n",
       "8  | waning crescent moon\\n26.31% illuminated  \n",
       "9  | waning crescent moon\\n25.96% illuminated  "
      ]
     },
     "metadata": {},
     "output_type": "display_data"
    },
    {
     "name": "stderr",
     "output_type": "stream",
     "text": [
      "\r",
      " 20%|███████████████▋                                                              | 171/853 [57:40<4:36:40, 24.34s/it]"
     ]
    },
    {
     "name": "stdout",
     "output_type": "stream",
     "text": [
      "QUERY:  Precipitation amount in Zollikofen July 4, 2021 15h\n",
      "QUERY:  temperature in Zollikofen July 4, 2021 15h\n",
      "QUERY:  humidity in Zollikofen July 4, 2021 15h\n",
      "QUERY:  wind speed in Zollikofen July 4, 2021 15h\n",
      "QUERY:  Moon Phase calculatorJuly 4, 2021 15h\n"
     ]
    },
    {
     "name": "stderr",
     "output_type": "stream",
     "text": [
      "\r",
      " 20%|███████████████▋                                                              | 172/853 [58:05<4:37:10, 24.42s/it]"
     ]
    },
    {
     "name": "stdout",
     "output_type": "stream",
     "text": [
      "QUERY:  Precipitation amount in Zollikofen July 4, 2021 16h\n",
      "QUERY:  temperature in Zollikofen July 4, 2021 16h\n",
      "QUERY:  humidity in Zollikofen July 4, 2021 16h\n",
      "QUERY:  wind speed in Zollikofen July 4, 2021 16h\n",
      "QUERY:  Moon Phase calculatorJuly 4, 2021 16h\n"
     ]
    },
    {
     "name": "stderr",
     "output_type": "stream",
     "text": [
      "\r",
      " 20%|███████████████▊                                                              | 173/853 [58:29<4:33:55, 24.17s/it]"
     ]
    },
    {
     "name": "stdout",
     "output_type": "stream",
     "text": [
      "QUERY:  Precipitation amount in Zollikofen July 4, 2021 17h\n",
      "QUERY:  temperature in Zollikofen July 4, 2021 17h\n",
      "QUERY:  humidity in Zollikofen July 4, 2021 17h\n",
      "QUERY:  wind speed in Zollikofen July 4, 2021 17h\n",
      "QUERY:  Moon Phase calculatorJuly 4, 2021 17h\n"
     ]
    },
    {
     "name": "stderr",
     "output_type": "stream",
     "text": [
      "\r",
      " 20%|███████████████▉                                                              | 174/853 [58:52<4:30:34, 23.91s/it]"
     ]
    },
    {
     "name": "stdout",
     "output_type": "stream",
     "text": [
      "QUERY:  Precipitation amount in Zollikofen July 4, 2021 18h\n",
      "QUERY:  temperature in Zollikofen July 4, 2021 18h\n",
      "QUERY:  humidity in Zollikofen July 4, 2021 18h\n",
      "QUERY:  wind speed in Zollikofen July 4, 2021 18h\n",
      "QUERY:  Moon Phase calculatorJuly 4, 2021 18h\n"
     ]
    },
    {
     "name": "stderr",
     "output_type": "stream",
     "text": [
      "\r",
      " 21%|████████████████                                                              | 175/853 [59:16<4:29:20, 23.84s/it]"
     ]
    },
    {
     "name": "stdout",
     "output_type": "stream",
     "text": [
      "QUERY:  Precipitation amount in Zollikofen July 4, 2021 19h\n",
      "QUERY:  temperature in Zollikofen July 4, 2021 19h\n",
      "QUERY:  humidity in Zollikofen July 4, 2021 19h\n",
      "QUERY:  wind speed in Zollikofen July 4, 2021 19h\n",
      "QUERY:  Moon Phase calculatorJuly 4, 2021 19h\n"
     ]
    },
    {
     "name": "stderr",
     "output_type": "stream",
     "text": [
      "\r",
      " 21%|████████████████                                                              | 176/853 [59:39<4:28:41, 23.81s/it]"
     ]
    },
    {
     "name": "stdout",
     "output_type": "stream",
     "text": [
      "QUERY:  Precipitation amount in Zollikofen July 4, 2021 20h\n",
      "QUERY:  temperature in Zollikofen July 4, 2021 20h\n",
      "QUERY:  humidity in Zollikofen July 4, 2021 20h\n",
      "QUERY:  wind speed in Zollikofen July 4, 2021 20h\n",
      "QUERY:  Moon Phase calculatorJuly 4, 2021 20h\n"
     ]
    },
    {
     "name": "stderr",
     "output_type": "stream",
     "text": [
      "\r",
      " 21%|███████████████▊                                                            | 177/853 [1:00:02<4:25:41, 23.58s/it]"
     ]
    },
    {
     "name": "stdout",
     "output_type": "stream",
     "text": [
      "QUERY:  Precipitation amount in Zollikofen July 4, 2021 21h\n",
      "QUERY:  temperature in Zollikofen July 4, 2021 21h\n",
      "QUERY:  humidity in Zollikofen July 4, 2021 21h\n",
      "QUERY:  wind speed in Zollikofen July 4, 2021 21h\n",
      "QUERY:  Moon Phase calculatorJuly 4, 2021 21h\n"
     ]
    },
    {
     "name": "stderr",
     "output_type": "stream",
     "text": [
      "\r",
      " 21%|███████████████▊                                                            | 178/853 [1:00:25<4:22:13, 23.31s/it]"
     ]
    },
    {
     "name": "stdout",
     "output_type": "stream",
     "text": [
      "QUERY:  Precipitation amount in Zollikofen July 4, 2021 22h\n",
      "QUERY:  temperature in Zollikofen July 4, 2021 22h\n",
      "QUERY:  humidity in Zollikofen July 4, 2021 22h\n",
      "QUERY:  wind speed in Zollikofen July 4, 2021 22h\n",
      "QUERY:  Moon Phase calculatorJuly 4, 2021 22h\n"
     ]
    },
    {
     "name": "stderr",
     "output_type": "stream",
     "text": [
      "\r",
      " 21%|███████████████▉                                                            | 179/853 [1:00:46<4:14:55, 22.69s/it]"
     ]
    },
    {
     "name": "stdout",
     "output_type": "stream",
     "text": [
      "QUERY:  Precipitation amount in Zollikofen July 4, 2021 23h\n",
      "QUERY:  temperature in Zollikofen July 4, 2021 23h\n",
      "QUERY:  humidity in Zollikofen July 4, 2021 23h\n",
      "QUERY:  wind speed in Zollikofen July 4, 2021 23h\n",
      "QUERY:  Moon Phase calculatorJuly 4, 2021 23h\n"
     ]
    },
    {
     "name": "stderr",
     "output_type": "stream",
     "text": [
      "\r",
      " 21%|████████████████                                                            | 180/853 [1:01:07<4:07:26, 22.06s/it]"
     ]
    },
    {
     "name": "stdout",
     "output_type": "stream",
     "text": [
      "QUERY:  Precipitation amount in Zollikofen July 5, 2021 0h\n",
      "QUERY:  temperature in Zollikofen July 5, 2021 0h\n",
      "QUERY:  humidity in Zollikofen July 5, 2021 0h\n",
      "QUERY:  wind speed in Zollikofen July 5, 2021 0h\n",
      "QUERY:  Moon Phase calculatorJuly 5, 2021 0h\n",
      "(6697, 7)\n"
     ]
    },
    {
     "data": {
      "text/html": [
       "<div>\n",
       "<style scoped>\n",
       "    .dataframe tbody tr th:only-of-type {\n",
       "        vertical-align: middle;\n",
       "    }\n",
       "\n",
       "    .dataframe tbody tr th {\n",
       "        vertical-align: top;\n",
       "    }\n",
       "\n",
       "    .dataframe thead th {\n",
       "        text-align: right;\n",
       "    }\n",
       "</style>\n",
       "<table border=\"1\" class=\"dataframe\">\n",
       "  <thead>\n",
       "    <tr style=\"text-align: right;\">\n",
       "      <th></th>\n",
       "      <th>date</th>\n",
       "      <th>temperature</th>\n",
       "      <th>humidity</th>\n",
       "      <th>wind speed</th>\n",
       "      <th>Precipitation amount</th>\n",
       "      <th>query</th>\n",
       "      <th>Moon Phase calculator</th>\n",
       "    </tr>\n",
       "  </thead>\n",
       "  <tbody>\n",
       "    <tr>\n",
       "      <th>8</th>\n",
       "      <td>2021-07-04 23:00:00</td>\n",
       "      <td>16 °C\\n(11:00 pm CEST | Sunday, July 4, 2021)</td>\n",
       "      <td>average: 82% (82%)\\n(11:00 pm CEST | Sunday, J...</td>\n",
       "      <td>1 m/s\\n(11:00 pm CEST | Sunday, July 4, 2021)</td>\n",
       "      <td>no precipitation\\n(11:00 pm CEST | Sunday, Jul...</td>\n",
       "      <td>Moon Phase calculatorJuly 4, 2021 23h</td>\n",
       "      <td>| waning crescent moon\\n22.91% illuminated</td>\n",
       "    </tr>\n",
       "    <tr>\n",
       "      <th>9</th>\n",
       "      <td>2021-07-05 00:00:00</td>\n",
       "      <td>15 °C\\n(12:00 am CEST | Monday, July 5, 2021)</td>\n",
       "      <td>average: 88% (88%)\\n(12:00 am CEST | Monday, J...</td>\n",
       "      <td>1 m/s\\n(12:00 am CEST | Monday, July 5, 2021)</td>\n",
       "      <td>no precipitation\\n(12:00 am CEST | Monday, Jul...</td>\n",
       "      <td>Moon Phase calculatorJuly 5, 2021 0h</td>\n",
       "      <td>| waning crescent moon\\n22.57% illuminated</td>\n",
       "    </tr>\n",
       "  </tbody>\n",
       "</table>\n",
       "</div>"
      ],
      "text/plain": [
       "                 date                                    temperature  \\\n",
       "8 2021-07-04 23:00:00  16 °C\\n(11:00 pm CEST | Sunday, July 4, 2021)   \n",
       "9 2021-07-05 00:00:00  15 °C\\n(12:00 am CEST | Monday, July 5, 2021)   \n",
       "\n",
       "                                            humidity  \\\n",
       "8  average: 82% (82%)\\n(11:00 pm CEST | Sunday, J...   \n",
       "9  average: 88% (88%)\\n(12:00 am CEST | Monday, J...   \n",
       "\n",
       "                                      wind speed  \\\n",
       "8  1 m/s\\n(11:00 pm CEST | Sunday, July 4, 2021)   \n",
       "9  1 m/s\\n(12:00 am CEST | Monday, July 5, 2021)   \n",
       "\n",
       "                                Precipitation amount  \\\n",
       "8  no precipitation\\n(11:00 pm CEST | Sunday, Jul...   \n",
       "9  no precipitation\\n(12:00 am CEST | Monday, Jul...   \n",
       "\n",
       "                                   query  \\\n",
       "8  Moon Phase calculatorJuly 4, 2021 23h   \n",
       "9   Moon Phase calculatorJuly 5, 2021 0h   \n",
       "\n",
       "                        Moon Phase calculator  \n",
       "8  | waning crescent moon\\n22.91% illuminated  \n",
       "9  | waning crescent moon\\n22.57% illuminated  "
      ]
     },
     "metadata": {},
     "output_type": "display_data"
    },
    {
     "name": "stderr",
     "output_type": "stream",
     "text": [
      "\r",
      " 21%|████████████████▏                                                           | 181/853 [1:01:27<4:01:30, 21.56s/it]"
     ]
    },
    {
     "name": "stdout",
     "output_type": "stream",
     "text": [
      "QUERY:  Precipitation amount in Zollikofen July 5, 2021 1h\n",
      "QUERY:  temperature in Zollikofen July 5, 2021 1h\n",
      "QUERY:  humidity in Zollikofen July 5, 2021 1h\n",
      "QUERY:  wind speed in Zollikofen July 5, 2021 1h\n",
      "QUERY:  Moon Phase calculatorJuly 5, 2021 1h\n"
     ]
    },
    {
     "name": "stderr",
     "output_type": "stream",
     "text": [
      "\r",
      " 21%|████████████████▏                                                           | 182/853 [1:01:49<4:00:31, 21.51s/it]"
     ]
    },
    {
     "name": "stdout",
     "output_type": "stream",
     "text": [
      "QUERY:  Precipitation amount in Zollikofen July 5, 2021 2h\n",
      "QUERY:  temperature in Zollikofen July 5, 2021 2h\n",
      "QUERY:  humidity in Zollikofen July 5, 2021 2h\n",
      "QUERY:  wind speed in Zollikofen July 5, 2021 2h\n",
      "QUERY:  Moon Phase calculatorJuly 5, 2021 2h\n"
     ]
    },
    {
     "name": "stderr",
     "output_type": "stream",
     "text": [
      "\r",
      " 21%|████████████████▎                                                           | 183/853 [1:02:09<3:57:07, 21.24s/it]"
     ]
    },
    {
     "name": "stdout",
     "output_type": "stream",
     "text": [
      "QUERY:  Precipitation amount in Zollikofen July 5, 2021 3h\n",
      "QUERY:  temperature in Zollikofen July 5, 2021 3h\n",
      "QUERY:  humidity in Zollikofen July 5, 2021 3h\n",
      "QUERY:  wind speed in Zollikofen July 5, 2021 3h\n",
      "QUERY:  Moon Phase calculatorJuly 5, 2021 3h\n"
     ]
    },
    {
     "name": "stderr",
     "output_type": "stream",
     "text": [
      "\r",
      " 22%|████████████████▍                                                           | 184/853 [1:02:32<4:01:42, 21.68s/it]"
     ]
    },
    {
     "name": "stdout",
     "output_type": "stream",
     "text": [
      "QUERY:  Precipitation amount in Zollikofen July 5, 2021 4h\n",
      "QUERY:  temperature in Zollikofen July 5, 2021 4h\n",
      "QUERY:  humidity in Zollikofen July 5, 2021 4h\n",
      "QUERY:  wind speed in Zollikofen July 5, 2021 4h\n",
      "QUERY:  Moon Phase calculatorJuly 5, 2021 4h\n"
     ]
    },
    {
     "name": "stderr",
     "output_type": "stream",
     "text": [
      "\r",
      " 22%|████████████████▍                                                           | 185/853 [1:02:52<3:56:40, 21.26s/it]"
     ]
    },
    {
     "name": "stdout",
     "output_type": "stream",
     "text": [
      "QUERY:  Precipitation amount in Zollikofen July 5, 2021 5h\n",
      "QUERY:  temperature in Zollikofen July 5, 2021 5h\n",
      "QUERY:  humidity in Zollikofen July 5, 2021 5h\n",
      "QUERY:  wind speed in Zollikofen July 5, 2021 5h\n",
      "QUERY:  Moon Phase calculatorJuly 5, 2021 5h\n"
     ]
    },
    {
     "name": "stderr",
     "output_type": "stream",
     "text": [
      "\r",
      " 22%|████████████████▌                                                           | 186/853 [1:03:13<3:53:19, 20.99s/it]"
     ]
    },
    {
     "name": "stdout",
     "output_type": "stream",
     "text": [
      "QUERY:  Precipitation amount in Zollikofen July 5, 2021 6h\n",
      "QUERY:  temperature in Zollikofen July 5, 2021 6h\n",
      "QUERY:  humidity in Zollikofen July 5, 2021 6h\n",
      "QUERY:  wind speed in Zollikofen July 5, 2021 6h\n",
      "QUERY:  Moon Phase calculatorJuly 5, 2021 6h\n"
     ]
    },
    {
     "name": "stderr",
     "output_type": "stream",
     "text": [
      "\r",
      " 22%|████████████████▋                                                           | 187/853 [1:03:32<3:48:46, 20.61s/it]"
     ]
    },
    {
     "name": "stdout",
     "output_type": "stream",
     "text": [
      "QUERY:  Precipitation amount in Zollikofen July 5, 2021 7h\n",
      "QUERY:  temperature in Zollikofen July 5, 2021 7h\n",
      "QUERY:  humidity in Zollikofen July 5, 2021 7h\n",
      "QUERY:  wind speed in Zollikofen July 5, 2021 7h\n",
      "QUERY:  Moon Phase calculatorJuly 5, 2021 7h\n"
     ]
    },
    {
     "name": "stderr",
     "output_type": "stream",
     "text": [
      "\r",
      " 22%|████████████████▊                                                           | 188/853 [1:03:54<3:50:53, 20.83s/it]"
     ]
    },
    {
     "name": "stdout",
     "output_type": "stream",
     "text": [
      "QUERY:  Precipitation amount in Zollikofen July 5, 2021 8h\n",
      "QUERY:  temperature in Zollikofen July 5, 2021 8h\n",
      "QUERY:  humidity in Zollikofen July 5, 2021 8h\n",
      "QUERY:  wind speed in Zollikofen July 5, 2021 8h\n",
      "QUERY:  Moon Phase calculatorJuly 5, 2021 8h\n"
     ]
    },
    {
     "name": "stderr",
     "output_type": "stream",
     "text": [
      "\r",
      " 22%|████████████████▊                                                           | 189/853 [1:04:13<3:46:39, 20.48s/it]"
     ]
    },
    {
     "name": "stdout",
     "output_type": "stream",
     "text": [
      "QUERY:  Precipitation amount in Zollikofen July 5, 2021 9h\n",
      "QUERY:  temperature in Zollikofen July 5, 2021 9h\n",
      "QUERY:  humidity in Zollikofen July 5, 2021 9h\n",
      "QUERY:  wind speed in Zollikofen July 5, 2021 9h\n",
      "QUERY:  Moon Phase calculatorJuly 5, 2021 9h\n"
     ]
    },
    {
     "name": "stderr",
     "output_type": "stream",
     "text": [
      "\r",
      " 22%|████████████████▉                                                           | 190/853 [1:04:33<3:44:57, 20.36s/it]"
     ]
    },
    {
     "name": "stdout",
     "output_type": "stream",
     "text": [
      "QUERY:  Precipitation amount in Zollikofen July 5, 2021 10h\n",
      "QUERY:  temperature in Zollikofen July 5, 2021 10h\n",
      "QUERY:  humidity in Zollikofen July 5, 2021 10h\n",
      "QUERY:  wind speed in Zollikofen July 5, 2021 10h\n",
      "QUERY:  Moon Phase calculatorJuly 5, 2021 10h\n",
      "(6707, 7)\n"
     ]
    },
    {
     "data": {
      "text/html": [
       "<div>\n",
       "<style scoped>\n",
       "    .dataframe tbody tr th:only-of-type {\n",
       "        vertical-align: middle;\n",
       "    }\n",
       "\n",
       "    .dataframe tbody tr th {\n",
       "        vertical-align: top;\n",
       "    }\n",
       "\n",
       "    .dataframe thead th {\n",
       "        text-align: right;\n",
       "    }\n",
       "</style>\n",
       "<table border=\"1\" class=\"dataframe\">\n",
       "  <thead>\n",
       "    <tr style=\"text-align: right;\">\n",
       "      <th></th>\n",
       "      <th>date</th>\n",
       "      <th>temperature</th>\n",
       "      <th>humidity</th>\n",
       "      <th>wind speed</th>\n",
       "      <th>Precipitation amount</th>\n",
       "      <th>query</th>\n",
       "      <th>Moon Phase calculator</th>\n",
       "    </tr>\n",
       "  </thead>\n",
       "  <tbody>\n",
       "    <tr>\n",
       "      <th>8</th>\n",
       "      <td>2021-07-05 09:00:00</td>\n",
       "      <td>16 °C\\n(9:00 am CEST | Monday, July 5, 2021)</td>\n",
       "      <td>average: 77% (77%)\\n(9:00 am CEST | Monday, Ju...</td>\n",
       "      <td>2 m/s\\n(9:00 am CEST | Monday, July 5, 2021)</td>\n",
       "      <td>no precipitation\\n(9:00 am CEST | Monday, July...</td>\n",
       "      <td>Moon Phase calculatorJuly 5, 2021 9h</td>\n",
       "      <td>| waning crescent moon\\n19.67% illuminated</td>\n",
       "    </tr>\n",
       "    <tr>\n",
       "      <th>9</th>\n",
       "      <td>2021-07-05 10:00:00</td>\n",
       "      <td>17 °C\\n(10:00 am CEST | Monday, July 5, 2021)</td>\n",
       "      <td>average: 75% (73 to 77%)\\n(10:00 am CEST | Mon...</td>\n",
       "      <td>1 m/s\\n(10:00 am CEST | Monday, July 5, 2021)</td>\n",
       "      <td>no precipitation\\n(10:00 am CEST | Monday, Jul...</td>\n",
       "      <td>Moon Phase calculatorJuly 5, 2021 10h</td>\n",
       "      <td>| waning crescent moon\\n19.36% illuminated</td>\n",
       "    </tr>\n",
       "  </tbody>\n",
       "</table>\n",
       "</div>"
      ],
      "text/plain": [
       "                 date                                    temperature  \\\n",
       "8 2021-07-05 09:00:00   16 °C\\n(9:00 am CEST | Monday, July 5, 2021)   \n",
       "9 2021-07-05 10:00:00  17 °C\\n(10:00 am CEST | Monday, July 5, 2021)   \n",
       "\n",
       "                                            humidity  \\\n",
       "8  average: 77% (77%)\\n(9:00 am CEST | Monday, Ju...   \n",
       "9  average: 75% (73 to 77%)\\n(10:00 am CEST | Mon...   \n",
       "\n",
       "                                      wind speed  \\\n",
       "8   2 m/s\\n(9:00 am CEST | Monday, July 5, 2021)   \n",
       "9  1 m/s\\n(10:00 am CEST | Monday, July 5, 2021)   \n",
       "\n",
       "                                Precipitation amount  \\\n",
       "8  no precipitation\\n(9:00 am CEST | Monday, July...   \n",
       "9  no precipitation\\n(10:00 am CEST | Monday, Jul...   \n",
       "\n",
       "                                   query  \\\n",
       "8   Moon Phase calculatorJuly 5, 2021 9h   \n",
       "9  Moon Phase calculatorJuly 5, 2021 10h   \n",
       "\n",
       "                        Moon Phase calculator  \n",
       "8  | waning crescent moon\\n19.67% illuminated  \n",
       "9  | waning crescent moon\\n19.36% illuminated  "
      ]
     },
     "metadata": {},
     "output_type": "display_data"
    },
    {
     "name": "stderr",
     "output_type": "stream",
     "text": [
      "\r",
      " 22%|█████████████████                                                           | 191/853 [1:04:54<3:45:40, 20.45s/it]"
     ]
    },
    {
     "name": "stdout",
     "output_type": "stream",
     "text": [
      "QUERY:  Precipitation amount in Zollikofen July 5, 2021 11h\n",
      "QUERY:  temperature in Zollikofen July 5, 2021 11h\n",
      "QUERY:  humidity in Zollikofen July 5, 2021 11h\n",
      "QUERY:  wind speed in Zollikofen July 5, 2021 11h\n",
      "QUERY:  Moon Phase calculatorJuly 5, 2021 11h\n"
     ]
    },
    {
     "name": "stderr",
     "output_type": "stream",
     "text": [
      "\r",
      " 23%|█████████████████                                                           | 192/853 [1:05:15<3:48:09, 20.71s/it]"
     ]
    },
    {
     "name": "stdout",
     "output_type": "stream",
     "text": [
      "QUERY:  Precipitation amount in Zollikofen July 5, 2021 12h\n",
      "QUERY:  temperature in Zollikofen July 5, 2021 12h\n",
      "QUERY:  humidity in Zollikofen July 5, 2021 12h\n",
      "QUERY:  wind speed in Zollikofen July 5, 2021 12h\n",
      "QUERY:  Moon Phase calculatorJuly 5, 2021 12h\n"
     ]
    },
    {
     "name": "stderr",
     "output_type": "stream",
     "text": [
      "\r",
      " 23%|█████████████████▏                                                          | 193/853 [1:05:36<3:48:24, 20.76s/it]"
     ]
    },
    {
     "name": "stdout",
     "output_type": "stream",
     "text": [
      "QUERY:  Precipitation amount in Zollikofen July 5, 2021 13h\n",
      "QUERY:  temperature in Zollikofen July 5, 2021 13h\n",
      "QUERY:  humidity in Zollikofen July 5, 2021 13h\n",
      "QUERY:  wind speed in Zollikofen July 5, 2021 13h\n",
      "QUERY:  Moon Phase calculatorJuly 5, 2021 13h\n"
     ]
    },
    {
     "name": "stderr",
     "output_type": "stream",
     "text": [
      "\r",
      " 23%|█████████████████▎                                                          | 194/853 [1:05:57<3:48:44, 20.83s/it]"
     ]
    },
    {
     "name": "stdout",
     "output_type": "stream",
     "text": [
      "QUERY:  Precipitation amount in Zollikofen July 5, 2021 14h\n",
      "QUERY:  temperature in Zollikofen July 5, 2021 14h\n",
      "QUERY:  humidity in Zollikofen July 5, 2021 14h\n",
      "QUERY:  wind speed in Zollikofen July 5, 2021 14h\n",
      "QUERY:  Moon Phase calculatorJuly 5, 2021 14h\n"
     ]
    },
    {
     "name": "stderr",
     "output_type": "stream",
     "text": [
      "\r",
      " 23%|█████████████████▎                                                          | 195/853 [1:06:19<3:53:03, 21.25s/it]"
     ]
    },
    {
     "name": "stdout",
     "output_type": "stream",
     "text": [
      "QUERY:  Precipitation amount in Zollikofen July 5, 2021 15h\n",
      "QUERY:  temperature in Zollikofen July 5, 2021 15h\n",
      "QUERY:  humidity in Zollikofen July 5, 2021 15h\n",
      "QUERY:  wind speed in Zollikofen July 5, 2021 15h\n",
      "QUERY:  Moon Phase calculatorJuly 5, 2021 15h\n"
     ]
    },
    {
     "name": "stderr",
     "output_type": "stream",
     "text": [
      "\r",
      " 23%|█████████████████▍                                                          | 196/853 [1:06:40<3:51:11, 21.11s/it]"
     ]
    },
    {
     "name": "stdout",
     "output_type": "stream",
     "text": [
      "QUERY:  Precipitation amount in Zollikofen July 5, 2021 16h\n",
      "QUERY:  temperature in Zollikofen July 5, 2021 16h\n",
      "QUERY:  humidity in Zollikofen July 5, 2021 16h\n",
      "QUERY:  wind speed in Zollikofen July 5, 2021 16h\n",
      "QUERY:  Moon Phase calculatorJuly 5, 2021 16h\n"
     ]
    },
    {
     "name": "stderr",
     "output_type": "stream",
     "text": [
      "\r",
      " 23%|█████████████████▌                                                          | 197/853 [1:07:02<3:53:49, 21.39s/it]"
     ]
    },
    {
     "name": "stdout",
     "output_type": "stream",
     "text": [
      "QUERY:  Precipitation amount in Zollikofen July 5, 2021 17h\n",
      "QUERY:  temperature in Zollikofen July 5, 2021 17h\n",
      "QUERY:  humidity in Zollikofen July 5, 2021 17h\n",
      "QUERY:  wind speed in Zollikofen July 5, 2021 17h\n",
      "QUERY:  Moon Phase calculatorJuly 5, 2021 17h\n"
     ]
    },
    {
     "name": "stderr",
     "output_type": "stream",
     "text": [
      "\r",
      " 23%|█████████████████▋                                                          | 198/853 [1:07:25<3:56:50, 21.70s/it]"
     ]
    },
    {
     "name": "stdout",
     "output_type": "stream",
     "text": [
      "QUERY:  Precipitation amount in Zollikofen July 5, 2021 18h\n",
      "QUERY:  temperature in Zollikofen July 5, 2021 18h\n",
      "QUERY:  humidity in Zollikofen July 5, 2021 18h\n",
      "QUERY:  wind speed in Zollikofen July 5, 2021 18h\n",
      "QUERY:  Moon Phase calculatorJuly 5, 2021 18h\n"
     ]
    },
    {
     "name": "stderr",
     "output_type": "stream",
     "text": [
      "\r",
      " 23%|█████████████████▋                                                          | 199/853 [1:07:47<3:56:53, 21.73s/it]"
     ]
    },
    {
     "name": "stdout",
     "output_type": "stream",
     "text": [
      "QUERY:  Precipitation amount in Zollikofen July 5, 2021 19h\n",
      "QUERY:  temperature in Zollikofen July 5, 2021 19h\n",
      "QUERY:  humidity in Zollikofen July 5, 2021 19h\n",
      "QUERY:  wind speed in Zollikofen July 5, 2021 19h\n",
      "QUERY:  Moon Phase calculatorJuly 5, 2021 19h\n"
     ]
    },
    {
     "name": "stderr",
     "output_type": "stream",
     "text": [
      "\r",
      " 23%|█████████████████▊                                                          | 200/853 [1:08:09<3:57:45, 21.85s/it]"
     ]
    },
    {
     "name": "stdout",
     "output_type": "stream",
     "text": [
      "QUERY:  Precipitation amount in Zollikofen July 5, 2021 20h\n",
      "QUERY:  temperature in Zollikofen July 5, 2021 20h\n",
      "QUERY:  humidity in Zollikofen July 5, 2021 20h\n",
      "QUERY:  wind speed in Zollikofen July 5, 2021 20h\n",
      "QUERY:  Moon Phase calculatorJuly 5, 2021 20h\n",
      "(6717, 7)\n"
     ]
    },
    {
     "data": {
      "text/html": [
       "<div>\n",
       "<style scoped>\n",
       "    .dataframe tbody tr th:only-of-type {\n",
       "        vertical-align: middle;\n",
       "    }\n",
       "\n",
       "    .dataframe tbody tr th {\n",
       "        vertical-align: top;\n",
       "    }\n",
       "\n",
       "    .dataframe thead th {\n",
       "        text-align: right;\n",
       "    }\n",
       "</style>\n",
       "<table border=\"1\" class=\"dataframe\">\n",
       "  <thead>\n",
       "    <tr style=\"text-align: right;\">\n",
       "      <th></th>\n",
       "      <th>date</th>\n",
       "      <th>temperature</th>\n",
       "      <th>humidity</th>\n",
       "      <th>wind speed</th>\n",
       "      <th>Precipitation amount</th>\n",
       "      <th>query</th>\n",
       "      <th>Moon Phase calculator</th>\n",
       "    </tr>\n",
       "  </thead>\n",
       "  <tbody>\n",
       "    <tr>\n",
       "      <th>8</th>\n",
       "      <td>2021-07-05 19:00:00</td>\n",
       "      <td>24 °C\\n(7:00 pm CEST | Monday, July 5, 2021)</td>\n",
       "      <td>average: 58% (54 to 61%)\\n(7:00 pm CEST | Mond...</td>\n",
       "      <td>2 m/s\\n(7:00 pm CEST | Monday, July 5, 2021)</td>\n",
       "      <td>no precipitation\\n(7:00 pm CEST | Monday, July...</td>\n",
       "      <td>Moon Phase calculatorJuly 5, 2021 19h</td>\n",
       "      <td>| waning crescent moon\\n16.63% illuminated</td>\n",
       "    </tr>\n",
       "    <tr>\n",
       "      <th>9</th>\n",
       "      <td>2021-07-05 20:00:00</td>\n",
       "      <td>22 °C\\n(8:00 pm CEST | Monday, July 5, 2021)</td>\n",
       "      <td>average: 65% (61 to 69%)\\n(8:00 pm CEST | Mond...</td>\n",
       "      <td>1 m/s\\n(8:00 pm CEST | Monday, July 5, 2021)</td>\n",
       "      <td>no precipitation\\n(8:00 pm CEST | Monday, July...</td>\n",
       "      <td>Moon Phase calculatorJuly 5, 2021 20h</td>\n",
       "      <td>| waning crescent moon\\n16.34% illuminated</td>\n",
       "    </tr>\n",
       "  </tbody>\n",
       "</table>\n",
       "</div>"
      ],
      "text/plain": [
       "                 date                                   temperature  \\\n",
       "8 2021-07-05 19:00:00  24 °C\\n(7:00 pm CEST | Monday, July 5, 2021)   \n",
       "9 2021-07-05 20:00:00  22 °C\\n(8:00 pm CEST | Monday, July 5, 2021)   \n",
       "\n",
       "                                            humidity  \\\n",
       "8  average: 58% (54 to 61%)\\n(7:00 pm CEST | Mond...   \n",
       "9  average: 65% (61 to 69%)\\n(8:00 pm CEST | Mond...   \n",
       "\n",
       "                                     wind speed  \\\n",
       "8  2 m/s\\n(7:00 pm CEST | Monday, July 5, 2021)   \n",
       "9  1 m/s\\n(8:00 pm CEST | Monday, July 5, 2021)   \n",
       "\n",
       "                                Precipitation amount  \\\n",
       "8  no precipitation\\n(7:00 pm CEST | Monday, July...   \n",
       "9  no precipitation\\n(8:00 pm CEST | Monday, July...   \n",
       "\n",
       "                                   query  \\\n",
       "8  Moon Phase calculatorJuly 5, 2021 19h   \n",
       "9  Moon Phase calculatorJuly 5, 2021 20h   \n",
       "\n",
       "                        Moon Phase calculator  \n",
       "8  | waning crescent moon\\n16.63% illuminated  \n",
       "9  | waning crescent moon\\n16.34% illuminated  "
      ]
     },
     "metadata": {},
     "output_type": "display_data"
    },
    {
     "name": "stderr",
     "output_type": "stream",
     "text": [
      "\r",
      " 24%|█████████████████▉                                                          | 201/853 [1:08:31<3:59:36, 22.05s/it]"
     ]
    },
    {
     "name": "stdout",
     "output_type": "stream",
     "text": [
      "QUERY:  Precipitation amount in Zollikofen July 5, 2021 21h\n",
      "QUERY:  temperature in Zollikofen July 5, 2021 21h\n",
      "QUERY:  humidity in Zollikofen July 5, 2021 21h\n",
      "QUERY:  wind speed in Zollikofen July 5, 2021 21h\n",
      "QUERY:  Moon Phase calculatorJuly 5, 2021 21h\n"
     ]
    },
    {
     "name": "stderr",
     "output_type": "stream",
     "text": [
      "\r",
      " 24%|█████████████████▉                                                          | 202/853 [1:09:00<4:21:11, 24.07s/it]"
     ]
    },
    {
     "name": "stdout",
     "output_type": "stream",
     "text": [
      "QUERY:  Precipitation amount in Zollikofen July 5, 2021 22h\n",
      "QUERY:  temperature in Zollikofen July 5, 2021 22h\n",
      "QUERY:  humidity in Zollikofen July 5, 2021 22h\n",
      "QUERY:  wind speed in Zollikofen July 5, 2021 22h\n",
      "QUERY:  Moon Phase calculatorJuly 5, 2021 22h\n"
     ]
    },
    {
     "name": "stderr",
     "output_type": "stream",
     "text": [
      "\r",
      " 24%|██████████████████                                                          | 203/853 [1:09:21<4:10:12, 23.10s/it]"
     ]
    },
    {
     "name": "stdout",
     "output_type": "stream",
     "text": [
      "QUERY:  Precipitation amount in Zollikofen July 5, 2021 23h\n",
      "QUERY:  temperature in Zollikofen July 5, 2021 23h\n",
      "QUERY:  humidity in Zollikofen July 5, 2021 23h\n",
      "QUERY:  wind speed in Zollikofen July 5, 2021 23h\n",
      "QUERY:  Moon Phase calculatorJuly 5, 2021 23h\n"
     ]
    },
    {
     "name": "stderr",
     "output_type": "stream",
     "text": [
      "\r",
      " 24%|██████████████████▏                                                         | 204/853 [1:09:41<4:01:51, 22.36s/it]"
     ]
    },
    {
     "name": "stdout",
     "output_type": "stream",
     "text": [
      "QUERY:  Precipitation amount in Zollikofen July 6, 2021 0h\n",
      "QUERY:  temperature in Zollikofen July 6, 2021 0h\n",
      "QUERY:  humidity in Zollikofen July 6, 2021 0h\n",
      "QUERY:  wind speed in Zollikofen July 6, 2021 0h\n",
      "QUERY:  Moon Phase calculatorJuly 6, 2021 0h\n"
     ]
    },
    {
     "name": "stderr",
     "output_type": "stream",
     "text": [
      "\r",
      " 24%|██████████████████▎                                                         | 205/853 [1:10:02<3:55:03, 21.76s/it]"
     ]
    },
    {
     "name": "stdout",
     "output_type": "stream",
     "text": [
      "QUERY:  Precipitation amount in Zollikofen July 6, 2021 1h\n",
      "QUERY:  temperature in Zollikofen July 6, 2021 1h\n",
      "QUERY:  humidity in Zollikofen July 6, 2021 1h\n",
      "QUERY:  wind speed in Zollikofen July 6, 2021 1h\n",
      "QUERY:  Moon Phase calculatorJuly 6, 2021 1h\n"
     ]
    },
    {
     "name": "stderr",
     "output_type": "stream",
     "text": [
      "\r",
      " 24%|██████████████████▎                                                         | 206/853 [1:10:23<3:51:32, 21.47s/it]"
     ]
    },
    {
     "name": "stdout",
     "output_type": "stream",
     "text": [
      "QUERY:  Precipitation amount in Zollikofen July 6, 2021 2h\n",
      "QUERY:  temperature in Zollikofen July 6, 2021 2h\n",
      "QUERY:  humidity in Zollikofen July 6, 2021 2h\n",
      "QUERY:  wind speed in Zollikofen July 6, 2021 2h\n",
      "QUERY:  Moon Phase calculatorJuly 6, 2021 2h\n"
     ]
    },
    {
     "name": "stderr",
     "output_type": "stream",
     "text": [
      "\r",
      " 24%|██████████████████▍                                                         | 207/853 [1:10:41<3:40:02, 20.44s/it]"
     ]
    },
    {
     "name": "stdout",
     "output_type": "stream",
     "text": [
      "QUERY:  Precipitation amount in Zollikofen July 6, 2021 3h\n",
      "QUERY:  temperature in Zollikofen July 6, 2021 3h\n",
      "QUERY:  humidity in Zollikofen July 6, 2021 3h\n",
      "QUERY:  wind speed in Zollikofen July 6, 2021 3h\n",
      "QUERY:  Moon Phase calculatorJuly 6, 2021 3h\n"
     ]
    },
    {
     "name": "stderr",
     "output_type": "stream",
     "text": [
      "\r",
      " 24%|██████████████████▌                                                         | 208/853 [1:11:02<3:41:29, 20.60s/it]"
     ]
    },
    {
     "name": "stdout",
     "output_type": "stream",
     "text": [
      "QUERY:  Precipitation amount in Zollikofen July 6, 2021 4h\n",
      "QUERY:  temperature in Zollikofen July 6, 2021 4h\n",
      "QUERY:  humidity in Zollikofen July 6, 2021 4h\n",
      "QUERY:  wind speed in Zollikofen July 6, 2021 4h\n",
      "QUERY:  Moon Phase calculatorJuly 6, 2021 4h\n"
     ]
    },
    {
     "name": "stderr",
     "output_type": "stream",
     "text": [
      "\r",
      " 25%|██████████████████▌                                                         | 209/853 [1:11:21<3:38:26, 20.35s/it]"
     ]
    },
    {
     "name": "stdout",
     "output_type": "stream",
     "text": [
      "QUERY:  Precipitation amount in Zollikofen July 6, 2021 5h\n",
      "QUERY:  temperature in Zollikofen July 6, 2021 5h\n",
      "QUERY:  humidity in Zollikofen July 6, 2021 5h\n",
      "QUERY:  wind speed in Zollikofen July 6, 2021 5h\n",
      "QUERY:  Moon Phase calculatorJuly 6, 2021 5h\n"
     ]
    },
    {
     "name": "stderr",
     "output_type": "stream",
     "text": [
      "\r",
      " 25%|██████████████████▋                                                         | 210/853 [1:11:40<3:33:40, 19.94s/it]"
     ]
    },
    {
     "name": "stdout",
     "output_type": "stream",
     "text": [
      "QUERY:  Precipitation amount in Zollikofen July 6, 2021 6h\n",
      "QUERY:  temperature in Zollikofen July 6, 2021 6h\n",
      "QUERY:  humidity in Zollikofen July 6, 2021 6h\n",
      "QUERY:  wind speed in Zollikofen July 6, 2021 6h\n",
      "QUERY:  Moon Phase calculatorJuly 6, 2021 6h\n",
      "(6727, 7)\n"
     ]
    },
    {
     "data": {
      "text/html": [
       "<div>\n",
       "<style scoped>\n",
       "    .dataframe tbody tr th:only-of-type {\n",
       "        vertical-align: middle;\n",
       "    }\n",
       "\n",
       "    .dataframe tbody tr th {\n",
       "        vertical-align: top;\n",
       "    }\n",
       "\n",
       "    .dataframe thead th {\n",
       "        text-align: right;\n",
       "    }\n",
       "</style>\n",
       "<table border=\"1\" class=\"dataframe\">\n",
       "  <thead>\n",
       "    <tr style=\"text-align: right;\">\n",
       "      <th></th>\n",
       "      <th>date</th>\n",
       "      <th>temperature</th>\n",
       "      <th>humidity</th>\n",
       "      <th>wind speed</th>\n",
       "      <th>Precipitation amount</th>\n",
       "      <th>query</th>\n",
       "      <th>Moon Phase calculator</th>\n",
       "    </tr>\n",
       "  </thead>\n",
       "  <tbody>\n",
       "    <tr>\n",
       "      <th>8</th>\n",
       "      <td>2021-07-06 05:00:00</td>\n",
       "      <td>14 °C\\n(5:00 am CEST | Tuesday, July 6, 2021)</td>\n",
       "      <td>average: 94% (94%)\\n(5:00 am CEST | Tuesday, J...</td>\n",
       "      <td>1 m/s\\n(5:00 am CEST | Tuesday, July 6, 2021)</td>\n",
       "      <td>no precipitation\\n(5:00 am CEST | Tuesday, Jul...</td>\n",
       "      <td>Moon Phase calculatorJuly 6, 2021 5h</td>\n",
       "      <td>| waning crescent moon\\n13.79% illuminated</td>\n",
       "    </tr>\n",
       "    <tr>\n",
       "      <th>9</th>\n",
       "      <td>2021-07-06 06:00:00</td>\n",
       "      <td>15 °C\\n(6:00 am CEST | Tuesday, July 6, 2021)</td>\n",
       "      <td>average: 91% (88 to 94%)\\n(6:00 am CEST | Tues...</td>\n",
       "      <td>1 m/s\\n(6:00 am CEST | Tuesday, July 6, 2021)</td>\n",
       "      <td>no precipitation\\n(6:00 am CEST | Tuesday, Jul...</td>\n",
       "      <td>Moon Phase calculatorJuly 6, 2021 6h</td>\n",
       "      <td>| waning crescent moon\\n13.52% illuminated</td>\n",
       "    </tr>\n",
       "  </tbody>\n",
       "</table>\n",
       "</div>"
      ],
      "text/plain": [
       "                 date                                    temperature  \\\n",
       "8 2021-07-06 05:00:00  14 °C\\n(5:00 am CEST | Tuesday, July 6, 2021)   \n",
       "9 2021-07-06 06:00:00  15 °C\\n(6:00 am CEST | Tuesday, July 6, 2021)   \n",
       "\n",
       "                                            humidity  \\\n",
       "8  average: 94% (94%)\\n(5:00 am CEST | Tuesday, J...   \n",
       "9  average: 91% (88 to 94%)\\n(6:00 am CEST | Tues...   \n",
       "\n",
       "                                      wind speed  \\\n",
       "8  1 m/s\\n(5:00 am CEST | Tuesday, July 6, 2021)   \n",
       "9  1 m/s\\n(6:00 am CEST | Tuesday, July 6, 2021)   \n",
       "\n",
       "                                Precipitation amount  \\\n",
       "8  no precipitation\\n(5:00 am CEST | Tuesday, Jul...   \n",
       "9  no precipitation\\n(6:00 am CEST | Tuesday, Jul...   \n",
       "\n",
       "                                  query  \\\n",
       "8  Moon Phase calculatorJuly 6, 2021 5h   \n",
       "9  Moon Phase calculatorJuly 6, 2021 6h   \n",
       "\n",
       "                        Moon Phase calculator  \n",
       "8  | waning crescent moon\\n13.79% illuminated  \n",
       "9  | waning crescent moon\\n13.52% illuminated  "
      ]
     },
     "metadata": {},
     "output_type": "display_data"
    },
    {
     "name": "stderr",
     "output_type": "stream",
     "text": [
      "\r",
      " 25%|██████████████████▊                                                         | 211/853 [1:12:00<3:33:45, 19.98s/it]"
     ]
    },
    {
     "name": "stdout",
     "output_type": "stream",
     "text": [
      "QUERY:  Precipitation amount in Zollikofen July 6, 2021 7h\n",
      "QUERY:  temperature in Zollikofen July 6, 2021 7h\n",
      "QUERY:  humidity in Zollikofen July 6, 2021 7h\n",
      "QUERY:  wind speed in Zollikofen July 6, 2021 7h\n",
      "QUERY:  Moon Phase calculatorJuly 6, 2021 7h\n"
     ]
    },
    {
     "name": "stderr",
     "output_type": "stream",
     "text": [
      "\r",
      " 25%|██████████████████▉                                                         | 212/853 [1:12:22<3:37:53, 20.40s/it]"
     ]
    },
    {
     "name": "stdout",
     "output_type": "stream",
     "text": [
      "QUERY:  Precipitation amount in Zollikofen July 6, 2021 8h\n",
      "QUERY:  temperature in Zollikofen July 6, 2021 8h\n",
      "QUERY:  humidity in Zollikofen July 6, 2021 8h\n",
      "QUERY:  wind speed in Zollikofen July 6, 2021 8h\n",
      "QUERY:  Moon Phase calculatorJuly 6, 2021 8h\n"
     ]
    },
    {
     "name": "stderr",
     "output_type": "stream",
     "text": [
      "\r",
      " 25%|██████████████████▉                                                         | 213/853 [1:12:42<3:38:09, 20.45s/it]"
     ]
    },
    {
     "name": "stdout",
     "output_type": "stream",
     "text": [
      "QUERY:  Precipitation amount in Zollikofen July 6, 2021 9h\n",
      "QUERY:  temperature in Zollikofen July 6, 2021 9h\n",
      "QUERY:  humidity in Zollikofen July 6, 2021 9h\n",
      "QUERY:  wind speed in Zollikofen July 6, 2021 9h\n",
      "QUERY:  Moon Phase calculatorJuly 6, 2021 9h\n"
     ]
    },
    {
     "name": "stderr",
     "output_type": "stream",
     "text": [
      "\r",
      " 25%|███████████████████                                                         | 214/853 [1:13:04<3:40:12, 20.68s/it]"
     ]
    },
    {
     "name": "stdout",
     "output_type": "stream",
     "text": [
      "QUERY:  Precipitation amount in Zollikofen July 6, 2021 10h\n",
      "QUERY:  temperature in Zollikofen July 6, 2021 10h\n",
      "QUERY:  humidity in Zollikofen July 6, 2021 10h\n",
      "QUERY:  wind speed in Zollikofen July 6, 2021 10h\n",
      "QUERY:  Moon Phase calculatorJuly 6, 2021 10h\n"
     ]
    },
    {
     "name": "stderr",
     "output_type": "stream",
     "text": [
      "\r",
      " 25%|███████████████████▏                                                        | 215/853 [1:13:24<3:38:34, 20.55s/it]"
     ]
    },
    {
     "name": "stdout",
     "output_type": "stream",
     "text": [
      "QUERY:  Precipitation amount in Zollikofen July 6, 2021 11h\n",
      "QUERY:  temperature in Zollikofen July 6, 2021 11h\n",
      "QUERY:  humidity in Zollikofen July 6, 2021 11h\n",
      "QUERY:  wind speed in Zollikofen July 6, 2021 11h\n",
      "QUERY:  Moon Phase calculatorJuly 6, 2021 11h\n"
     ]
    },
    {
     "name": "stderr",
     "output_type": "stream",
     "text": [
      "\r",
      " 25%|███████████████████▏                                                        | 216/853 [1:13:44<3:38:18, 20.56s/it]"
     ]
    },
    {
     "name": "stdout",
     "output_type": "stream",
     "text": [
      "QUERY:  Precipitation amount in Zollikofen July 6, 2021 12h\n",
      "QUERY:  temperature in Zollikofen July 6, 2021 12h\n",
      "QUERY:  humidity in Zollikofen July 6, 2021 12h\n",
      "QUERY:  wind speed in Zollikofen July 6, 2021 12h\n",
      "QUERY:  Moon Phase calculatorJuly 6, 2021 12h\n"
     ]
    },
    {
     "name": "stderr",
     "output_type": "stream",
     "text": [
      "\r",
      " 25%|███████████████████▎                                                        | 217/853 [1:14:06<3:41:56, 20.94s/it]"
     ]
    },
    {
     "name": "stdout",
     "output_type": "stream",
     "text": [
      "QUERY:  Precipitation amount in Zollikofen July 6, 2021 13h\n",
      "QUERY:  temperature in Zollikofen July 6, 2021 13h\n",
      "QUERY:  humidity in Zollikofen July 6, 2021 13h\n",
      "QUERY:  wind speed in Zollikofen July 6, 2021 13h\n",
      "QUERY:  Moon Phase calculatorJuly 6, 2021 13h\n"
     ]
    },
    {
     "name": "stderr",
     "output_type": "stream",
     "text": [
      "\r",
      " 26%|███████████████████▍                                                        | 218/853 [1:14:26<3:38:47, 20.67s/it]"
     ]
    },
    {
     "name": "stdout",
     "output_type": "stream",
     "text": [
      "QUERY:  Precipitation amount in Zollikofen July 6, 2021 14h\n",
      "QUERY:  temperature in Zollikofen July 6, 2021 14h\n",
      "QUERY:  humidity in Zollikofen July 6, 2021 14h\n",
      "QUERY:  wind speed in Zollikofen July 6, 2021 14h\n",
      "QUERY:  Moon Phase calculatorJuly 6, 2021 14h\n"
     ]
    },
    {
     "name": "stderr",
     "output_type": "stream",
     "text": [
      "\r",
      " 26%|███████████████████▌                                                        | 219/853 [1:14:48<3:40:43, 20.89s/it]"
     ]
    },
    {
     "name": "stdout",
     "output_type": "stream",
     "text": [
      "QUERY:  Precipitation amount in Zollikofen July 6, 2021 15h\n",
      "QUERY:  temperature in Zollikofen July 6, 2021 15h\n",
      "QUERY:  humidity in Zollikofen July 6, 2021 15h\n",
      "QUERY:  wind speed in Zollikofen July 6, 2021 15h\n",
      "QUERY:  Moon Phase calculatorJuly 6, 2021 15h\n"
     ]
    },
    {
     "name": "stderr",
     "output_type": "stream",
     "text": [
      "\r",
      " 26%|███████████████████▌                                                        | 220/853 [1:15:08<3:38:50, 20.74s/it]"
     ]
    },
    {
     "name": "stdout",
     "output_type": "stream",
     "text": [
      "QUERY:  Precipitation amount in Zollikofen July 6, 2021 16h\n",
      "QUERY:  temperature in Zollikofen July 6, 2021 16h\n",
      "QUERY:  humidity in Zollikofen July 6, 2021 16h\n",
      "QUERY:  wind speed in Zollikofen July 6, 2021 16h\n",
      "QUERY:  Moon Phase calculatorJuly 6, 2021 16h\n",
      "(6737, 7)\n"
     ]
    },
    {
     "data": {
      "text/html": [
       "<div>\n",
       "<style scoped>\n",
       "    .dataframe tbody tr th:only-of-type {\n",
       "        vertical-align: middle;\n",
       "    }\n",
       "\n",
       "    .dataframe tbody tr th {\n",
       "        vertical-align: top;\n",
       "    }\n",
       "\n",
       "    .dataframe thead th {\n",
       "        text-align: right;\n",
       "    }\n",
       "</style>\n",
       "<table border=\"1\" class=\"dataframe\">\n",
       "  <thead>\n",
       "    <tr style=\"text-align: right;\">\n",
       "      <th></th>\n",
       "      <th>date</th>\n",
       "      <th>temperature</th>\n",
       "      <th>humidity</th>\n",
       "      <th>wind speed</th>\n",
       "      <th>Precipitation amount</th>\n",
       "      <th>query</th>\n",
       "      <th>Moon Phase calculator</th>\n",
       "    </tr>\n",
       "  </thead>\n",
       "  <tbody>\n",
       "    <tr>\n",
       "      <th>8</th>\n",
       "      <td>2021-07-06 15:00:00</td>\n",
       "      <td>19 °C\\n(3:00 pm CEST | Tuesday, July 6, 2021)</td>\n",
       "      <td>average: 80% (78 to 83%)\\n(3:00 pm CEST | Tues...</td>\n",
       "      <td>1 m/s\\n(3:00 pm CEST | Tuesday, July 6, 2021)</td>\n",
       "      <td>no precipitation\\n(3:00 pm CEST | Tuesday, Jul...</td>\n",
       "      <td>Moon Phase calculatorJuly 6, 2021 15h</td>\n",
       "      <td>| waning crescent moon\\n11.18% illuminated</td>\n",
       "    </tr>\n",
       "    <tr>\n",
       "      <th>9</th>\n",
       "      <td>2021-07-06 16:00:00</td>\n",
       "      <td>19 °C\\n(4:00 pm CEST | Tuesday, July 6, 2021)</td>\n",
       "      <td>average: 83% (78 to 88%)\\n(4:00 pm CEST | Tues...</td>\n",
       "      <td>2 m/s\\n(4:00 pm CEST | Tuesday, July 6, 2021)</td>\n",
       "      <td>rain\\n(4:00 pm CEST | Tuesday, July 6, 2021)</td>\n",
       "      <td>Moon Phase calculatorJuly 6, 2021 16h</td>\n",
       "      <td>| waning crescent moon\\n10.93% illuminated</td>\n",
       "    </tr>\n",
       "  </tbody>\n",
       "</table>\n",
       "</div>"
      ],
      "text/plain": [
       "                 date                                    temperature  \\\n",
       "8 2021-07-06 15:00:00  19 °C\\n(3:00 pm CEST | Tuesday, July 6, 2021)   \n",
       "9 2021-07-06 16:00:00  19 °C\\n(4:00 pm CEST | Tuesday, July 6, 2021)   \n",
       "\n",
       "                                            humidity  \\\n",
       "8  average: 80% (78 to 83%)\\n(3:00 pm CEST | Tues...   \n",
       "9  average: 83% (78 to 88%)\\n(4:00 pm CEST | Tues...   \n",
       "\n",
       "                                      wind speed  \\\n",
       "8  1 m/s\\n(3:00 pm CEST | Tuesday, July 6, 2021)   \n",
       "9  2 m/s\\n(4:00 pm CEST | Tuesday, July 6, 2021)   \n",
       "\n",
       "                                Precipitation amount  \\\n",
       "8  no precipitation\\n(3:00 pm CEST | Tuesday, Jul...   \n",
       "9       rain\\n(4:00 pm CEST | Tuesday, July 6, 2021)   \n",
       "\n",
       "                                   query  \\\n",
       "8  Moon Phase calculatorJuly 6, 2021 15h   \n",
       "9  Moon Phase calculatorJuly 6, 2021 16h   \n",
       "\n",
       "                        Moon Phase calculator  \n",
       "8  | waning crescent moon\\n11.18% illuminated  \n",
       "9  | waning crescent moon\\n10.93% illuminated  "
      ]
     },
     "metadata": {},
     "output_type": "display_data"
    },
    {
     "name": "stderr",
     "output_type": "stream",
     "text": [
      "\r",
      " 26%|███████████████████▋                                                        | 221/853 [1:15:28<3:36:03, 20.51s/it]"
     ]
    },
    {
     "name": "stdout",
     "output_type": "stream",
     "text": [
      "QUERY:  Precipitation amount in Zollikofen July 6, 2021 17h\n",
      "QUERY:  temperature in Zollikofen July 6, 2021 17h\n",
      "QUERY:  humidity in Zollikofen July 6, 2021 17h\n",
      "QUERY:  wind speed in Zollikofen July 6, 2021 17h\n",
      "QUERY:  Moon Phase calculatorJuly 6, 2021 17h\n"
     ]
    },
    {
     "name": "stderr",
     "output_type": "stream",
     "text": [
      "\r",
      " 26%|███████████████████▊                                                        | 222/853 [1:15:49<3:35:55, 20.53s/it]"
     ]
    },
    {
     "name": "stdout",
     "output_type": "stream",
     "text": [
      "QUERY:  Precipitation amount in Zollikofen July 6, 2021 18h\n",
      "QUERY:  temperature in Zollikofen July 6, 2021 18h\n",
      "QUERY:  humidity in Zollikofen July 6, 2021 18h\n",
      "QUERY:  wind speed in Zollikofen July 6, 2021 18h\n",
      "QUERY:  Moon Phase calculatorJuly 6, 2021 18h\n"
     ]
    },
    {
     "name": "stderr",
     "output_type": "stream",
     "text": [
      "\r",
      " 26%|███████████████████▊                                                        | 223/853 [1:16:09<3:35:25, 20.52s/it]"
     ]
    },
    {
     "name": "stdout",
     "output_type": "stream",
     "text": [
      "QUERY:  Precipitation amount in Zollikofen July 6, 2021 19h\n",
      "QUERY:  temperature in Zollikofen July 6, 2021 19h\n",
      "QUERY:  humidity in Zollikofen July 6, 2021 19h\n",
      "QUERY:  wind speed in Zollikofen July 6, 2021 19h\n",
      "QUERY:  Moon Phase calculatorJuly 6, 2021 19h\n"
     ]
    },
    {
     "name": "stderr",
     "output_type": "stream",
     "text": [
      "\r",
      " 26%|███████████████████▉                                                        | 224/853 [1:16:30<3:36:53, 20.69s/it]"
     ]
    },
    {
     "name": "stdout",
     "output_type": "stream",
     "text": [
      "QUERY:  Precipitation amount in Zollikofen July 6, 2021 20h\n",
      "QUERY:  temperature in Zollikofen July 6, 2021 20h\n",
      "QUERY:  humidity in Zollikofen July 6, 2021 20h\n",
      "QUERY:  wind speed in Zollikofen July 6, 2021 20h\n",
      "QUERY:  Moon Phase calculatorJuly 6, 2021 20h\n"
     ]
    },
    {
     "name": "stderr",
     "output_type": "stream",
     "text": [
      "\r",
      " 26%|████████████████████                                                        | 225/853 [1:16:50<3:35:15, 20.57s/it]"
     ]
    },
    {
     "name": "stdout",
     "output_type": "stream",
     "text": [
      "QUERY:  Precipitation amount in Zollikofen July 6, 2021 21h\n",
      "QUERY:  temperature in Zollikofen July 6, 2021 21h\n",
      "QUERY:  humidity in Zollikofen July 6, 2021 21h\n",
      "QUERY:  wind speed in Zollikofen July 6, 2021 21h\n",
      "QUERY:  Moon Phase calculatorJuly 6, 2021 21h\n"
     ]
    },
    {
     "name": "stderr",
     "output_type": "stream",
     "text": [
      "\r",
      " 26%|████████████████████▏                                                       | 226/853 [1:17:12<3:37:12, 20.79s/it]"
     ]
    },
    {
     "name": "stdout",
     "output_type": "stream",
     "text": [
      "QUERY:  Precipitation amount in Zollikofen July 6, 2021 22h\n",
      "QUERY:  temperature in Zollikofen July 6, 2021 22h\n",
      "QUERY:  humidity in Zollikofen July 6, 2021 22h\n",
      "QUERY:  wind speed in Zollikofen July 6, 2021 22h\n",
      "QUERY:  Moon Phase calculatorJuly 6, 2021 22h\n"
     ]
    },
    {
     "name": "stderr",
     "output_type": "stream",
     "text": [
      "\r",
      " 27%|████████████████████▏                                                       | 227/853 [1:17:32<3:35:16, 20.63s/it]"
     ]
    },
    {
     "name": "stdout",
     "output_type": "stream",
     "text": [
      "QUERY:  Precipitation amount in Zollikofen July 6, 2021 23h\n",
      "QUERY:  temperature in Zollikofen July 6, 2021 23h\n",
      "QUERY:  humidity in Zollikofen July 6, 2021 23h\n",
      "QUERY:  wind speed in Zollikofen July 6, 2021 23h\n",
      "QUERY:  Moon Phase calculatorJuly 6, 2021 23h\n"
     ]
    },
    {
     "name": "stderr",
     "output_type": "stream",
     "text": [
      "\r",
      " 27%|████████████████████▎                                                       | 228/853 [1:17:53<3:35:08, 20.65s/it]"
     ]
    },
    {
     "name": "stdout",
     "output_type": "stream",
     "text": [
      "QUERY:  Precipitation amount in Zollikofen July 7, 2021 0h\n",
      "QUERY:  temperature in Zollikofen July 7, 2021 0h\n",
      "QUERY:  humidity in Zollikofen July 7, 2021 0h\n",
      "QUERY:  wind speed in Zollikofen July 7, 2021 0h\n",
      "QUERY:  Moon Phase calculatorJuly 7, 2021 0h\n"
     ]
    },
    {
     "name": "stderr",
     "output_type": "stream",
     "text": [
      "\r",
      " 27%|████████████████████▍                                                       | 229/853 [1:18:13<3:33:32, 20.53s/it]"
     ]
    },
    {
     "name": "stdout",
     "output_type": "stream",
     "text": [
      "QUERY:  Precipitation amount in Zollikofen July 7, 2021 1h\n",
      "QUERY:  temperature in Zollikofen July 7, 2021 1h\n",
      "QUERY:  humidity in Zollikofen July 7, 2021 1h\n",
      "QUERY:  wind speed in Zollikofen July 7, 2021 1h\n",
      "QUERY:  Moon Phase calculatorJuly 7, 2021 1h\n"
     ]
    },
    {
     "name": "stderr",
     "output_type": "stream",
     "text": [
      "\r",
      " 27%|████████████████████▍                                                       | 230/853 [1:18:33<3:30:54, 20.31s/it]"
     ]
    },
    {
     "name": "stdout",
     "output_type": "stream",
     "text": [
      "QUERY:  Precipitation amount in Zollikofen July 7, 2021 2h\n",
      "QUERY:  temperature in Zollikofen July 7, 2021 2h\n",
      "QUERY:  humidity in Zollikofen July 7, 2021 2h\n",
      "QUERY:  wind speed in Zollikofen July 7, 2021 2h\n",
      "QUERY:  Moon Phase calculatorJuly 7, 2021 2h\n",
      "(6747, 7)\n"
     ]
    },
    {
     "data": {
      "text/html": [
       "<div>\n",
       "<style scoped>\n",
       "    .dataframe tbody tr th:only-of-type {\n",
       "        vertical-align: middle;\n",
       "    }\n",
       "\n",
       "    .dataframe tbody tr th {\n",
       "        vertical-align: top;\n",
       "    }\n",
       "\n",
       "    .dataframe thead th {\n",
       "        text-align: right;\n",
       "    }\n",
       "</style>\n",
       "<table border=\"1\" class=\"dataframe\">\n",
       "  <thead>\n",
       "    <tr style=\"text-align: right;\">\n",
       "      <th></th>\n",
       "      <th>date</th>\n",
       "      <th>temperature</th>\n",
       "      <th>humidity</th>\n",
       "      <th>wind speed</th>\n",
       "      <th>Precipitation amount</th>\n",
       "      <th>query</th>\n",
       "      <th>Moon Phase calculator</th>\n",
       "    </tr>\n",
       "  </thead>\n",
       "  <tbody>\n",
       "    <tr>\n",
       "      <th>8</th>\n",
       "      <td>2021-07-07 01:00:00</td>\n",
       "      <td>16 °C\\n(1:00 am CEST | Wednesday, July 7, 2021)</td>\n",
       "      <td>average: 94% (94%)\\n(1:00 am CEST | Wednesday,...</td>\n",
       "      <td>1 m/s\\n(1:00 am CEST | Wednesday, July 7, 2021)</td>\n",
       "      <td>rain\\n(1:00 am CEST | Wednesday, July 7, 2021)</td>\n",
       "      <td>Moon Phase calculatorJuly 7, 2021 1h</td>\n",
       "      <td>| waning crescent moon\\n8.80% illuminated</td>\n",
       "    </tr>\n",
       "    <tr>\n",
       "      <th>9</th>\n",
       "      <td>2021-07-07 02:00:00</td>\n",
       "      <td>16 °C\\n(2:00 am CEST | Wednesday, July 7, 2021)</td>\n",
       "      <td>average: 94% (94%)\\n(2:00 am CEST | Wednesday,...</td>\n",
       "      <td>1 m/s\\n(2:00 am CEST | Wednesday, July 7, 2021)</td>\n",
       "      <td>rain\\n(2:00 am CEST | Wednesday, July 7, 2021)</td>\n",
       "      <td>Moon Phase calculatorJuly 7, 2021 2h</td>\n",
       "      <td>| waning crescent moon\\n8.58% illuminated</td>\n",
       "    </tr>\n",
       "  </tbody>\n",
       "</table>\n",
       "</div>"
      ],
      "text/plain": [
       "                 date                                      temperature  \\\n",
       "8 2021-07-07 01:00:00  16 °C\\n(1:00 am CEST | Wednesday, July 7, 2021)   \n",
       "9 2021-07-07 02:00:00  16 °C\\n(2:00 am CEST | Wednesday, July 7, 2021)   \n",
       "\n",
       "                                            humidity  \\\n",
       "8  average: 94% (94%)\\n(1:00 am CEST | Wednesday,...   \n",
       "9  average: 94% (94%)\\n(2:00 am CEST | Wednesday,...   \n",
       "\n",
       "                                        wind speed  \\\n",
       "8  1 m/s\\n(1:00 am CEST | Wednesday, July 7, 2021)   \n",
       "9  1 m/s\\n(2:00 am CEST | Wednesday, July 7, 2021)   \n",
       "\n",
       "                             Precipitation amount  \\\n",
       "8  rain\\n(1:00 am CEST | Wednesday, July 7, 2021)   \n",
       "9  rain\\n(2:00 am CEST | Wednesday, July 7, 2021)   \n",
       "\n",
       "                                  query  \\\n",
       "8  Moon Phase calculatorJuly 7, 2021 1h   \n",
       "9  Moon Phase calculatorJuly 7, 2021 2h   \n",
       "\n",
       "                       Moon Phase calculator  \n",
       "8  | waning crescent moon\\n8.80% illuminated  \n",
       "9  | waning crescent moon\\n8.58% illuminated  "
      ]
     },
     "metadata": {},
     "output_type": "display_data"
    },
    {
     "name": "stderr",
     "output_type": "stream",
     "text": [
      "\r",
      " 27%|████████████████████▌                                                       | 231/853 [1:18:53<3:29:17, 20.19s/it]"
     ]
    },
    {
     "name": "stdout",
     "output_type": "stream",
     "text": [
      "QUERY:  Precipitation amount in Zollikofen July 7, 2021 3h\n",
      "QUERY:  temperature in Zollikofen July 7, 2021 3h\n",
      "QUERY:  humidity in Zollikofen July 7, 2021 3h\n",
      "QUERY:  wind speed in Zollikofen July 7, 2021 3h\n",
      "QUERY:  Moon Phase calculatorJuly 7, 2021 3h\n"
     ]
    },
    {
     "name": "stderr",
     "output_type": "stream",
     "text": [
      "\r",
      " 27%|████████████████████▋                                                       | 232/853 [1:19:13<3:28:58, 20.19s/it]"
     ]
    },
    {
     "name": "stdout",
     "output_type": "stream",
     "text": [
      "QUERY:  Precipitation amount in Zollikofen July 7, 2021 4h\n",
      "QUERY:  temperature in Zollikofen July 7, 2021 4h\n",
      "QUERY:  humidity in Zollikofen July 7, 2021 4h\n",
      "QUERY:  wind speed in Zollikofen July 7, 2021 4h\n",
      "QUERY:  Moon Phase calculatorJuly 7, 2021 4h\n"
     ]
    },
    {
     "name": "stderr",
     "output_type": "stream",
     "text": [
      "\r",
      " 27%|████████████████████▊                                                       | 233/853 [1:19:32<3:26:44, 20.01s/it]"
     ]
    },
    {
     "name": "stdout",
     "output_type": "stream",
     "text": [
      "QUERY:  Precipitation amount in Zollikofen July 7, 2021 5h\n",
      "QUERY:  temperature in Zollikofen July 7, 2021 5h\n",
      "QUERY:  humidity in Zollikofen July 7, 2021 5h\n",
      "QUERY:  wind speed in Zollikofen July 7, 2021 5h\n",
      "QUERY:  Moon Phase calculatorJuly 7, 2021 5h\n"
     ]
    },
    {
     "name": "stderr",
     "output_type": "stream",
     "text": [
      "\r",
      " 27%|████████████████████▊                                                       | 234/853 [1:19:54<3:30:37, 20.42s/it]"
     ]
    },
    {
     "name": "stdout",
     "output_type": "stream",
     "text": [
      "QUERY:  Precipitation amount in Zollikofen July 7, 2021 6h\n",
      "QUERY:  temperature in Zollikofen July 7, 2021 6h\n",
      "QUERY:  humidity in Zollikofen July 7, 2021 6h\n",
      "QUERY:  wind speed in Zollikofen July 7, 2021 6h\n",
      "QUERY:  Moon Phase calculatorJuly 7, 2021 6h\n"
     ]
    },
    {
     "name": "stderr",
     "output_type": "stream",
     "text": [
      "\r",
      " 28%|████████████████████▉                                                       | 235/853 [1:20:13<3:27:24, 20.14s/it]"
     ]
    },
    {
     "name": "stdout",
     "output_type": "stream",
     "text": [
      "QUERY:  Precipitation amount in Zollikofen July 7, 2021 7h\n",
      "QUERY:  temperature in Zollikofen July 7, 2021 7h\n",
      "QUERY:  humidity in Zollikofen July 7, 2021 7h\n",
      "QUERY:  wind speed in Zollikofen July 7, 2021 7h\n",
      "QUERY:  Moon Phase calculatorJuly 7, 2021 7h\n"
     ]
    },
    {
     "name": "stderr",
     "output_type": "stream",
     "text": [
      "\r",
      " 28%|█████████████████████                                                       | 236/853 [1:20:41<3:49:18, 22.30s/it]"
     ]
    },
    {
     "name": "stdout",
     "output_type": "stream",
     "text": [
      "QUERY:  Precipitation amount in Zollikofen July 7, 2021 8h\n",
      "QUERY:  temperature in Zollikofen July 7, 2021 8h\n",
      "QUERY:  humidity in Zollikofen July 7, 2021 8h\n",
      "QUERY:  wind speed in Zollikofen July 7, 2021 8h\n",
      "QUERY:  Moon Phase calculatorJuly 7, 2021 8h\n"
     ]
    },
    {
     "name": "stderr",
     "output_type": "stream",
     "text": [
      "\r",
      " 28%|█████████████████████                                                       | 237/853 [1:21:03<3:48:23, 22.25s/it]"
     ]
    },
    {
     "name": "stdout",
     "output_type": "stream",
     "text": [
      "QUERY:  Precipitation amount in Zollikofen July 7, 2021 9h\n",
      "QUERY:  temperature in Zollikofen July 7, 2021 9h\n",
      "QUERY:  humidity in Zollikofen July 7, 2021 9h\n",
      "QUERY:  wind speed in Zollikofen July 7, 2021 9h\n",
      "QUERY:  Moon Phase calculatorJuly 7, 2021 9h\n"
     ]
    },
    {
     "name": "stderr",
     "output_type": "stream",
     "text": [
      "\r",
      " 28%|█████████████████████▏                                                      | 238/853 [1:21:27<3:54:14, 22.85s/it]"
     ]
    },
    {
     "name": "stdout",
     "output_type": "stream",
     "text": [
      "QUERY:  Precipitation amount in Zollikofen July 7, 2021 10h\n",
      "QUERY:  temperature in Zollikofen July 7, 2021 10h\n",
      "QUERY:  humidity in Zollikofen July 7, 2021 10h\n",
      "QUERY:  wind speed in Zollikofen July 7, 2021 10h\n",
      "QUERY:  Moon Phase calculatorJuly 7, 2021 10h\n"
     ]
    },
    {
     "name": "stderr",
     "output_type": "stream",
     "text": [
      "\r",
      " 28%|█████████████████████▎                                                      | 239/853 [1:21:53<4:03:42, 23.82s/it]"
     ]
    },
    {
     "name": "stdout",
     "output_type": "stream",
     "text": [
      "QUERY:  Precipitation amount in Zollikofen July 7, 2021 11h\n",
      "QUERY:  temperature in Zollikofen July 7, 2021 11h\n",
      "QUERY:  humidity in Zollikofen July 7, 2021 11h\n",
      "QUERY:  wind speed in Zollikofen July 7, 2021 11h\n",
      "QUERY:  Moon Phase calculatorJuly 7, 2021 11h\n"
     ]
    },
    {
     "name": "stderr",
     "output_type": "stream",
     "text": [
      "\r",
      " 28%|█████████████████████▍                                                      | 240/853 [1:22:17<4:02:39, 23.75s/it]"
     ]
    },
    {
     "name": "stdout",
     "output_type": "stream",
     "text": [
      "QUERY:  Precipitation amount in Zollikofen July 7, 2021 12h\n",
      "QUERY:  temperature in Zollikofen July 7, 2021 12h\n",
      "QUERY:  humidity in Zollikofen July 7, 2021 12h\n",
      "QUERY:  wind speed in Zollikofen July 7, 2021 12h\n",
      "QUERY:  Moon Phase calculatorJuly 7, 2021 12h\n",
      "(6757, 7)\n"
     ]
    },
    {
     "data": {
      "text/html": [
       "<div>\n",
       "<style scoped>\n",
       "    .dataframe tbody tr th:only-of-type {\n",
       "        vertical-align: middle;\n",
       "    }\n",
       "\n",
       "    .dataframe tbody tr th {\n",
       "        vertical-align: top;\n",
       "    }\n",
       "\n",
       "    .dataframe thead th {\n",
       "        text-align: right;\n",
       "    }\n",
       "</style>\n",
       "<table border=\"1\" class=\"dataframe\">\n",
       "  <thead>\n",
       "    <tr style=\"text-align: right;\">\n",
       "      <th></th>\n",
       "      <th>date</th>\n",
       "      <th>temperature</th>\n",
       "      <th>humidity</th>\n",
       "      <th>wind speed</th>\n",
       "      <th>Precipitation amount</th>\n",
       "      <th>query</th>\n",
       "      <th>Moon Phase calculator</th>\n",
       "    </tr>\n",
       "  </thead>\n",
       "  <tbody>\n",
       "    <tr>\n",
       "      <th>8</th>\n",
       "      <td>2021-07-07 11:00:00</td>\n",
       "      <td>17 °C\\n(11:00 am CEST | Wednesday, July 7, 2021)</td>\n",
       "      <td>average: 88% (88%)\\n(11:00 am CEST | Wednesday...</td>\n",
       "      <td>2 m/s\\n(11:00 am CEST | Wednesday, July 7, 2021)</td>\n",
       "      <td>rain\\n(11:00 am CEST | Wednesday, July 7, 2021)</td>\n",
       "      <td>Moon Phase calculatorJuly 7, 2021 11h</td>\n",
       "      <td>| waning crescent moon\\n6.68% illuminated</td>\n",
       "    </tr>\n",
       "    <tr>\n",
       "      <th>9</th>\n",
       "      <td>2021-07-07 12:00:00</td>\n",
       "      <td>17 °C\\n(12:00 pm CEST | Wednesday, July 7, 2021)</td>\n",
       "      <td>average: 85% (83 to 88%)\\n(12:00 pm CEST | Wed...</td>\n",
       "      <td>2 m/s\\n(12:00 pm CEST | Wednesday, July 7, 2021)</td>\n",
       "      <td>rain\\n(12:00 pm CEST | Wednesday, July 7, 2021)</td>\n",
       "      <td>Moon Phase calculatorJuly 7, 2021 12h</td>\n",
       "      <td>| waning crescent moon\\n6.48% illuminated</td>\n",
       "    </tr>\n",
       "  </tbody>\n",
       "</table>\n",
       "</div>"
      ],
      "text/plain": [
       "                 date                                       temperature  \\\n",
       "8 2021-07-07 11:00:00  17 °C\\n(11:00 am CEST | Wednesday, July 7, 2021)   \n",
       "9 2021-07-07 12:00:00  17 °C\\n(12:00 pm CEST | Wednesday, July 7, 2021)   \n",
       "\n",
       "                                            humidity  \\\n",
       "8  average: 88% (88%)\\n(11:00 am CEST | Wednesday...   \n",
       "9  average: 85% (83 to 88%)\\n(12:00 pm CEST | Wed...   \n",
       "\n",
       "                                         wind speed  \\\n",
       "8  2 m/s\\n(11:00 am CEST | Wednesday, July 7, 2021)   \n",
       "9  2 m/s\\n(12:00 pm CEST | Wednesday, July 7, 2021)   \n",
       "\n",
       "                              Precipitation amount  \\\n",
       "8  rain\\n(11:00 am CEST | Wednesday, July 7, 2021)   \n",
       "9  rain\\n(12:00 pm CEST | Wednesday, July 7, 2021)   \n",
       "\n",
       "                                   query  \\\n",
       "8  Moon Phase calculatorJuly 7, 2021 11h   \n",
       "9  Moon Phase calculatorJuly 7, 2021 12h   \n",
       "\n",
       "                       Moon Phase calculator  \n",
       "8  | waning crescent moon\\n6.68% illuminated  \n",
       "9  | waning crescent moon\\n6.48% illuminated  "
      ]
     },
     "metadata": {},
     "output_type": "display_data"
    },
    {
     "name": "stderr",
     "output_type": "stream",
     "text": [
      "\r",
      " 28%|█████████████████████▍                                                      | 241/853 [1:22:39<3:57:52, 23.32s/it]"
     ]
    },
    {
     "name": "stdout",
     "output_type": "stream",
     "text": [
      "QUERY:  Precipitation amount in Zollikofen July 7, 2021 13h\n",
      "QUERY:  temperature in Zollikofen July 7, 2021 13h\n",
      "QUERY:  humidity in Zollikofen July 7, 2021 13h\n",
      "QUERY:  wind speed in Zollikofen July 7, 2021 13h\n",
      "QUERY:  Moon Phase calculatorJuly 7, 2021 13h\n"
     ]
    },
    {
     "name": "stderr",
     "output_type": "stream",
     "text": [
      "\r",
      " 28%|█████████████████████▌                                                      | 242/853 [1:23:04<4:02:54, 23.85s/it]"
     ]
    },
    {
     "name": "stdout",
     "output_type": "stream",
     "text": [
      "QUERY:  Precipitation amount in Zollikofen July 7, 2021 14h\n",
      "QUERY:  temperature in Zollikofen July 7, 2021 14h\n",
      "QUERY:  humidity in Zollikofen July 7, 2021 14h\n",
      "QUERY:  wind speed in Zollikofen July 7, 2021 14h\n",
      "QUERY:  Moon Phase calculatorJuly 7, 2021 14h\n"
     ]
    },
    {
     "name": "stderr",
     "output_type": "stream",
     "text": [
      "\r",
      " 28%|█████████████████████▋                                                      | 243/853 [1:23:27<3:59:42, 23.58s/it]"
     ]
    },
    {
     "name": "stdout",
     "output_type": "stream",
     "text": [
      "QUERY:  Precipitation amount in Zollikofen July 7, 2021 15h\n",
      "QUERY:  temperature in Zollikofen July 7, 2021 15h\n",
      "QUERY:  humidity in Zollikofen July 7, 2021 15h\n",
      "QUERY:  wind speed in Zollikofen July 7, 2021 15h\n",
      "QUERY:  Moon Phase calculatorJuly 7, 2021 15h\n"
     ]
    },
    {
     "name": "stderr",
     "output_type": "stream",
     "text": [
      "\r",
      " 29%|█████████████████████▋                                                      | 244/853 [1:23:55<4:12:57, 24.92s/it]"
     ]
    },
    {
     "name": "stdout",
     "output_type": "stream",
     "text": [
      "QUERY:  Precipitation amount in Zollikofen July 7, 2021 16h\n",
      "QUERY:  temperature in Zollikofen July 7, 2021 16h\n",
      "QUERY:  humidity in Zollikofen July 7, 2021 16h\n",
      "QUERY:  wind speed in Zollikofen July 7, 2021 16h\n",
      "QUERY:  Moon Phase calculatorJuly 7, 2021 16h\n"
     ]
    },
    {
     "name": "stderr",
     "output_type": "stream",
     "text": [
      "\r",
      " 29%|█████████████████████▊                                                      | 245/853 [1:24:17<4:03:42, 24.05s/it]"
     ]
    },
    {
     "name": "stdout",
     "output_type": "stream",
     "text": [
      "QUERY:  Precipitation amount in Zollikofen July 7, 2021 17h\n",
      "QUERY:  temperature in Zollikofen July 7, 2021 17h\n",
      "QUERY:  humidity in Zollikofen July 7, 2021 17h\n",
      "QUERY:  wind speed in Zollikofen July 7, 2021 17h\n",
      "QUERY:  Moon Phase calculatorJuly 7, 2021 17h\n"
     ]
    },
    {
     "name": "stderr",
     "output_type": "stream",
     "text": [
      "\r",
      " 29%|█████████████████████▉                                                      | 246/853 [1:24:43<4:07:47, 24.49s/it]"
     ]
    },
    {
     "name": "stdout",
     "output_type": "stream",
     "text": [
      "QUERY:  Precipitation amount in Zollikofen July 7, 2021 18h\n",
      "QUERY:  temperature in Zollikofen July 7, 2021 18h\n",
      "QUERY:  humidity in Zollikofen July 7, 2021 18h\n",
      "QUERY:  wind speed in Zollikofen July 7, 2021 18h\n",
      "QUERY:  Moon Phase calculatorJuly 7, 2021 18h\n"
     ]
    },
    {
     "name": "stderr",
     "output_type": "stream",
     "text": [
      "\r",
      " 29%|██████████████████████                                                      | 247/853 [1:25:04<3:56:43, 23.44s/it]"
     ]
    },
    {
     "name": "stdout",
     "output_type": "stream",
     "text": [
      "QUERY:  Precipitation amount in Zollikofen July 7, 2021 19h\n",
      "QUERY:  temperature in Zollikofen July 7, 2021 19h\n",
      "QUERY:  humidity in Zollikofen July 7, 2021 19h\n",
      "QUERY:  wind speed in Zollikofen July 7, 2021 19h\n",
      "QUERY:  Moon Phase calculatorJuly 7, 2021 19h\n"
     ]
    },
    {
     "name": "stderr",
     "output_type": "stream",
     "text": [
      "\r",
      " 29%|██████████████████████                                                      | 248/853 [1:25:25<3:48:35, 22.67s/it]"
     ]
    },
    {
     "name": "stdout",
     "output_type": "stream",
     "text": [
      "QUERY:  Precipitation amount in Zollikofen July 7, 2021 20h\n",
      "QUERY:  temperature in Zollikofen July 7, 2021 20h\n",
      "QUERY:  humidity in Zollikofen July 7, 2021 20h\n",
      "QUERY:  wind speed in Zollikofen July 7, 2021 20h\n",
      "QUERY:  Moon Phase calculatorJuly 7, 2021 20h\n"
     ]
    },
    {
     "name": "stderr",
     "output_type": "stream",
     "text": [
      "\r",
      " 29%|██████████████████████▏                                                     | 249/853 [1:25:45<3:43:00, 22.15s/it]"
     ]
    },
    {
     "name": "stdout",
     "output_type": "stream",
     "text": [
      "QUERY:  Precipitation amount in Zollikofen July 7, 2021 21h\n",
      "QUERY:  temperature in Zollikofen July 7, 2021 21h\n",
      "QUERY:  humidity in Zollikofen July 7, 2021 21h\n",
      "QUERY:  wind speed in Zollikofen July 7, 2021 21h\n",
      "QUERY:  Moon Phase calculatorJuly 7, 2021 21h\n"
     ]
    },
    {
     "name": "stderr",
     "output_type": "stream",
     "text": [
      "\r",
      " 29%|██████████████████████▎                                                     | 250/853 [1:26:07<3:40:30, 21.94s/it]"
     ]
    },
    {
     "name": "stdout",
     "output_type": "stream",
     "text": [
      "QUERY:  Precipitation amount in Zollikofen July 7, 2021 22h\n",
      "QUERY:  temperature in Zollikofen July 7, 2021 22h\n",
      "QUERY:  humidity in Zollikofen July 7, 2021 22h\n",
      "QUERY:  wind speed in Zollikofen July 7, 2021 22h\n",
      "QUERY:  Moon Phase calculatorJuly 7, 2021 22h\n",
      "(6767, 7)\n"
     ]
    },
    {
     "data": {
      "text/html": [
       "<div>\n",
       "<style scoped>\n",
       "    .dataframe tbody tr th:only-of-type {\n",
       "        vertical-align: middle;\n",
       "    }\n",
       "\n",
       "    .dataframe tbody tr th {\n",
       "        vertical-align: top;\n",
       "    }\n",
       "\n",
       "    .dataframe thead th {\n",
       "        text-align: right;\n",
       "    }\n",
       "</style>\n",
       "<table border=\"1\" class=\"dataframe\">\n",
       "  <thead>\n",
       "    <tr style=\"text-align: right;\">\n",
       "      <th></th>\n",
       "      <th>date</th>\n",
       "      <th>temperature</th>\n",
       "      <th>humidity</th>\n",
       "      <th>wind speed</th>\n",
       "      <th>Precipitation amount</th>\n",
       "      <th>query</th>\n",
       "      <th>Moon Phase calculator</th>\n",
       "    </tr>\n",
       "  </thead>\n",
       "  <tbody>\n",
       "    <tr>\n",
       "      <th>8</th>\n",
       "      <td>2021-07-07 21:00:00</td>\n",
       "      <td>18 °C\\n(9:00 pm CEST | Wednesday, July 7, 2021)</td>\n",
       "      <td>average: 88% (88%)\\n(9:00 pm CEST | Wednesday,...</td>\n",
       "      <td>2 m/s\\n(9:00 pm CEST | Wednesday, July 7, 2021)</td>\n",
       "      <td>no precipitation\\n(9:00 pm CEST | Wednesday, J...</td>\n",
       "      <td>Moon Phase calculatorJuly 7, 2021 21h</td>\n",
       "      <td>| waning crescent moon\\n4.83% illuminated</td>\n",
       "    </tr>\n",
       "    <tr>\n",
       "      <th>9</th>\n",
       "      <td>2021-07-07 22:00:00</td>\n",
       "      <td>17 °C\\n(10:00 pm CEST | Wednesday, July 7, 2021)</td>\n",
       "      <td>average: 94% (94%)\\n(10:00 pm CEST | Wednesday...</td>\n",
       "      <td>2 m/s\\n(10:00 pm CEST | Wednesday, July 7, 2021)</td>\n",
       "      <td>rain\\n(10:00 pm CEST | Wednesday, July 7, 2021)</td>\n",
       "      <td>Moon Phase calculatorJuly 7, 2021 22h</td>\n",
       "      <td>| waning crescent moon\\n4.66% illuminated</td>\n",
       "    </tr>\n",
       "  </tbody>\n",
       "</table>\n",
       "</div>"
      ],
      "text/plain": [
       "                 date                                       temperature  \\\n",
       "8 2021-07-07 21:00:00   18 °C\\n(9:00 pm CEST | Wednesday, July 7, 2021)   \n",
       "9 2021-07-07 22:00:00  17 °C\\n(10:00 pm CEST | Wednesday, July 7, 2021)   \n",
       "\n",
       "                                            humidity  \\\n",
       "8  average: 88% (88%)\\n(9:00 pm CEST | Wednesday,...   \n",
       "9  average: 94% (94%)\\n(10:00 pm CEST | Wednesday...   \n",
       "\n",
       "                                         wind speed  \\\n",
       "8   2 m/s\\n(9:00 pm CEST | Wednesday, July 7, 2021)   \n",
       "9  2 m/s\\n(10:00 pm CEST | Wednesday, July 7, 2021)   \n",
       "\n",
       "                                Precipitation amount  \\\n",
       "8  no precipitation\\n(9:00 pm CEST | Wednesday, J...   \n",
       "9    rain\\n(10:00 pm CEST | Wednesday, July 7, 2021)   \n",
       "\n",
       "                                   query  \\\n",
       "8  Moon Phase calculatorJuly 7, 2021 21h   \n",
       "9  Moon Phase calculatorJuly 7, 2021 22h   \n",
       "\n",
       "                       Moon Phase calculator  \n",
       "8  | waning crescent moon\\n4.83% illuminated  \n",
       "9  | waning crescent moon\\n4.66% illuminated  "
      ]
     },
     "metadata": {},
     "output_type": "display_data"
    },
    {
     "name": "stderr",
     "output_type": "stream",
     "text": [
      "\r",
      " 29%|██████████████████████▎                                                     | 251/853 [1:26:28<3:37:52, 21.71s/it]"
     ]
    },
    {
     "name": "stdout",
     "output_type": "stream",
     "text": [
      "QUERY:  Precipitation amount in Zollikofen July 7, 2021 23h\n",
      "QUERY:  temperature in Zollikofen July 7, 2021 23h\n",
      "QUERY:  humidity in Zollikofen July 7, 2021 23h\n",
      "QUERY:  wind speed in Zollikofen July 7, 2021 23h\n",
      "QUERY:  Moon Phase calculatorJuly 7, 2021 23h\n"
     ]
    },
    {
     "name": "stderr",
     "output_type": "stream",
     "text": [
      "\r",
      " 30%|██████████████████████▍                                                     | 252/853 [1:26:51<3:41:31, 22.12s/it]"
     ]
    },
    {
     "name": "stdout",
     "output_type": "stream",
     "text": [
      "QUERY:  Precipitation amount in Zollikofen July 8, 2021 0h\n",
      "QUERY:  temperature in Zollikofen July 8, 2021 0h\n",
      "QUERY:  humidity in Zollikofen July 8, 2021 0h\n",
      "QUERY:  wind speed in Zollikofen July 8, 2021 0h\n",
      "QUERY:  Moon Phase calculatorJuly 8, 2021 0h\n"
     ]
    },
    {
     "name": "stderr",
     "output_type": "stream",
     "text": [
      "\r",
      " 30%|██████████████████████▌                                                     | 253/853 [1:27:12<3:36:29, 21.65s/it]"
     ]
    },
    {
     "name": "stdout",
     "output_type": "stream",
     "text": [
      "QUERY:  Precipitation amount in Zollikofen July 8, 2021 1h\n",
      "QUERY:  temperature in Zollikofen July 8, 2021 1h\n",
      "QUERY:  humidity in Zollikofen July 8, 2021 1h\n",
      "QUERY:  wind speed in Zollikofen July 8, 2021 1h\n",
      "QUERY:  Moon Phase calculatorJuly 8, 2021 1h\n"
     ]
    },
    {
     "name": "stderr",
     "output_type": "stream",
     "text": [
      "\r",
      " 30%|██████████████████████▋                                                     | 254/853 [1:27:32<3:33:00, 21.34s/it]"
     ]
    },
    {
     "name": "stdout",
     "output_type": "stream",
     "text": [
      "QUERY:  Precipitation amount in Zollikofen July 8, 2021 2h\n",
      "QUERY:  temperature in Zollikofen July 8, 2021 2h\n",
      "QUERY:  humidity in Zollikofen July 8, 2021 2h\n",
      "QUERY:  wind speed in Zollikofen July 8, 2021 2h\n",
      "QUERY:  Moon Phase calculatorJuly 8, 2021 2h\n"
     ]
    },
    {
     "name": "stderr",
     "output_type": "stream",
     "text": [
      "\r",
      " 30%|██████████████████████▋                                                     | 255/853 [1:27:53<3:29:28, 21.02s/it]"
     ]
    },
    {
     "name": "stdout",
     "output_type": "stream",
     "text": [
      "QUERY:  Precipitation amount in Zollikofen July 8, 2021 3h\n",
      "QUERY:  temperature in Zollikofen July 8, 2021 3h\n",
      "QUERY:  humidity in Zollikofen July 8, 2021 3h\n",
      "QUERY:  wind speed in Zollikofen July 8, 2021 3h\n",
      "QUERY:  Moon Phase calculatorJuly 8, 2021 3h\n"
     ]
    },
    {
     "name": "stderr",
     "output_type": "stream",
     "text": [
      "\r",
      " 30%|██████████████████████▊                                                     | 256/853 [1:28:13<3:28:44, 20.98s/it]"
     ]
    },
    {
     "name": "stdout",
     "output_type": "stream",
     "text": [
      "QUERY:  Precipitation amount in Zollikofen July 8, 2021 4h\n",
      "QUERY:  temperature in Zollikofen July 8, 2021 4h\n",
      "QUERY:  humidity in Zollikofen July 8, 2021 4h\n",
      "QUERY:  wind speed in Zollikofen July 8, 2021 4h\n",
      "QUERY:  Moon Phase calculatorJuly 8, 2021 4h\n"
     ]
    },
    {
     "name": "stderr",
     "output_type": "stream",
     "text": [
      "\r",
      " 30%|██████████████████████▉                                                     | 257/853 [1:28:34<3:28:00, 20.94s/it]"
     ]
    },
    {
     "name": "stdout",
     "output_type": "stream",
     "text": [
      "QUERY:  Precipitation amount in Zollikofen July 8, 2021 5h\n",
      "QUERY:  temperature in Zollikofen July 8, 2021 5h\n",
      "QUERY:  humidity in Zollikofen July 8, 2021 5h\n",
      "QUERY:  wind speed in Zollikofen July 8, 2021 5h\n",
      "QUERY:  Moon Phase calculatorJuly 8, 2021 5h\n"
     ]
    },
    {
     "name": "stderr",
     "output_type": "stream",
     "text": [
      "\r",
      " 30%|██████████████████████▉                                                     | 258/853 [1:28:55<3:26:43, 20.85s/it]"
     ]
    },
    {
     "name": "stdout",
     "output_type": "stream",
     "text": [
      "QUERY:  Precipitation amount in Zollikofen July 8, 2021 6h\n",
      "QUERY:  temperature in Zollikofen July 8, 2021 6h\n",
      "QUERY:  humidity in Zollikofen July 8, 2021 6h\n",
      "QUERY:  wind speed in Zollikofen July 8, 2021 6h\n",
      "QUERY:  Moon Phase calculatorJuly 8, 2021 6h\n"
     ]
    },
    {
     "name": "stderr",
     "output_type": "stream",
     "text": [
      "\r",
      " 30%|███████████████████████                                                     | 259/853 [1:29:16<3:26:29, 20.86s/it]"
     ]
    },
    {
     "name": "stdout",
     "output_type": "stream",
     "text": [
      "QUERY:  Precipitation amount in Zollikofen July 8, 2021 7h\n",
      "QUERY:  temperature in Zollikofen July 8, 2021 7h\n",
      "QUERY:  humidity in Zollikofen July 8, 2021 7h\n",
      "QUERY:  wind speed in Zollikofen July 8, 2021 7h\n",
      "QUERY:  Moon Phase calculatorJuly 8, 2021 7h\n"
     ]
    },
    {
     "name": "stderr",
     "output_type": "stream",
     "text": [
      "\r",
      " 30%|███████████████████████▏                                                    | 260/853 [1:29:37<3:28:04, 21.05s/it]"
     ]
    },
    {
     "name": "stdout",
     "output_type": "stream",
     "text": [
      "QUERY:  Precipitation amount in Zollikofen July 8, 2021 8h\n",
      "QUERY:  temperature in Zollikofen July 8, 2021 8h\n",
      "QUERY:  humidity in Zollikofen July 8, 2021 8h\n",
      "QUERY:  wind speed in Zollikofen July 8, 2021 8h\n",
      "QUERY:  Moon Phase calculatorJuly 8, 2021 8h\n",
      "(6777, 7)\n"
     ]
    },
    {
     "data": {
      "text/html": [
       "<div>\n",
       "<style scoped>\n",
       "    .dataframe tbody tr th:only-of-type {\n",
       "        vertical-align: middle;\n",
       "    }\n",
       "\n",
       "    .dataframe tbody tr th {\n",
       "        vertical-align: top;\n",
       "    }\n",
       "\n",
       "    .dataframe thead th {\n",
       "        text-align: right;\n",
       "    }\n",
       "</style>\n",
       "<table border=\"1\" class=\"dataframe\">\n",
       "  <thead>\n",
       "    <tr style=\"text-align: right;\">\n",
       "      <th></th>\n",
       "      <th>date</th>\n",
       "      <th>temperature</th>\n",
       "      <th>humidity</th>\n",
       "      <th>wind speed</th>\n",
       "      <th>Precipitation amount</th>\n",
       "      <th>query</th>\n",
       "      <th>Moon Phase calculator</th>\n",
       "    </tr>\n",
       "  </thead>\n",
       "  <tbody>\n",
       "    <tr>\n",
       "      <th>8</th>\n",
       "      <td>2021-07-08 07:00:00</td>\n",
       "      <td>16 °C\\n(7:00 am CEST | Thursday, July 8, 2021)</td>\n",
       "      <td>average: 91% (88 to 94%)\\n(7:00 am CEST | Thur...</td>\n",
       "      <td>2 m/s\\n(7:00 am CEST | Thursday, July 8, 2021)</td>\n",
       "      <td>no precipitation\\n(7:00 am CEST | Thursday, Ju...</td>\n",
       "      <td>Moon Phase calculatorJuly 8, 2021 7h</td>\n",
       "      <td>| waning crescent moon\\n3.26% illuminated</td>\n",
       "    </tr>\n",
       "    <tr>\n",
       "      <th>9</th>\n",
       "      <td>2021-07-08 08:00:00</td>\n",
       "      <td>16 °C\\n(8:00 am CEST | Thursday, July 8, 2021)</td>\n",
       "      <td>average: 91% (88 to 94%)\\n(8:00 am CEST | Thur...</td>\n",
       "      <td>2 m/s\\n(8:00 am CEST | Thursday, July 8, 2021)</td>\n",
       "      <td>no precipitation\\n(8:00 am CEST | Thursday, Ju...</td>\n",
       "      <td>Moon Phase calculatorJuly 8, 2021 8h</td>\n",
       "      <td>| waning crescent moon\\n3.12% illuminated</td>\n",
       "    </tr>\n",
       "  </tbody>\n",
       "</table>\n",
       "</div>"
      ],
      "text/plain": [
       "                 date                                     temperature  \\\n",
       "8 2021-07-08 07:00:00  16 °C\\n(7:00 am CEST | Thursday, July 8, 2021)   \n",
       "9 2021-07-08 08:00:00  16 °C\\n(8:00 am CEST | Thursday, July 8, 2021)   \n",
       "\n",
       "                                            humidity  \\\n",
       "8  average: 91% (88 to 94%)\\n(7:00 am CEST | Thur...   \n",
       "9  average: 91% (88 to 94%)\\n(8:00 am CEST | Thur...   \n",
       "\n",
       "                                       wind speed  \\\n",
       "8  2 m/s\\n(7:00 am CEST | Thursday, July 8, 2021)   \n",
       "9  2 m/s\\n(8:00 am CEST | Thursday, July 8, 2021)   \n",
       "\n",
       "                                Precipitation amount  \\\n",
       "8  no precipitation\\n(7:00 am CEST | Thursday, Ju...   \n",
       "9  no precipitation\\n(8:00 am CEST | Thursday, Ju...   \n",
       "\n",
       "                                  query  \\\n",
       "8  Moon Phase calculatorJuly 8, 2021 7h   \n",
       "9  Moon Phase calculatorJuly 8, 2021 8h   \n",
       "\n",
       "                       Moon Phase calculator  \n",
       "8  | waning crescent moon\\n3.26% illuminated  \n",
       "9  | waning crescent moon\\n3.12% illuminated  "
      ]
     },
     "metadata": {},
     "output_type": "display_data"
    },
    {
     "name": "stderr",
     "output_type": "stream",
     "text": [
      "\r",
      " 31%|███████████████████████▎                                                    | 261/853 [1:29:58<3:26:55, 20.97s/it]"
     ]
    },
    {
     "name": "stdout",
     "output_type": "stream",
     "text": [
      "QUERY:  Precipitation amount in Zollikofen July 8, 2021 9h\n",
      "QUERY:  temperature in Zollikofen July 8, 2021 9h\n",
      "QUERY:  humidity in Zollikofen July 8, 2021 9h\n",
      "QUERY:  wind speed in Zollikofen July 8, 2021 9h\n",
      "QUERY:  Moon Phase calculatorJuly 8, 2021 9h\n"
     ]
    },
    {
     "name": "stderr",
     "output_type": "stream",
     "text": [
      "\r",
      " 31%|███████████████████████▎                                                    | 262/853 [1:30:19<3:25:47, 20.89s/it]"
     ]
    },
    {
     "name": "stdout",
     "output_type": "stream",
     "text": [
      "QUERY:  Precipitation amount in Zollikofen July 8, 2021 10h\n",
      "QUERY:  temperature in Zollikofen July 8, 2021 10h\n",
      "QUERY:  humidity in Zollikofen July 8, 2021 10h\n",
      "QUERY:  wind speed in Zollikofen July 8, 2021 10h\n",
      "QUERY:  Moon Phase calculatorJuly 8, 2021 10h\n"
     ]
    },
    {
     "name": "stderr",
     "output_type": "stream",
     "text": [
      "\r",
      " 31%|███████████████████████▍                                                    | 263/853 [1:30:40<3:25:22, 20.89s/it]"
     ]
    },
    {
     "name": "stdout",
     "output_type": "stream",
     "text": [
      "QUERY:  Precipitation amount in Zollikofen July 8, 2021 11h\n",
      "QUERY:  temperature in Zollikofen July 8, 2021 11h\n",
      "QUERY:  humidity in Zollikofen July 8, 2021 11h\n",
      "QUERY:  wind speed in Zollikofen July 8, 2021 11h\n",
      "QUERY:  Moon Phase calculatorJuly 8, 2021 11h\n"
     ]
    },
    {
     "name": "stderr",
     "output_type": "stream",
     "text": [
      "\r",
      " 31%|███████████████████████▌                                                    | 264/853 [1:31:05<3:36:30, 22.05s/it]"
     ]
    },
    {
     "name": "stdout",
     "output_type": "stream",
     "text": [
      "QUERY:  Precipitation amount in Zollikofen July 8, 2021 12h\n",
      "QUERY:  temperature in Zollikofen July 8, 2021 12h\n",
      "QUERY:  humidity in Zollikofen July 8, 2021 12h\n",
      "QUERY:  wind speed in Zollikofen July 8, 2021 12h\n",
      "QUERY:  Moon Phase calculatorJuly 8, 2021 12h\n"
     ]
    },
    {
     "name": "stderr",
     "output_type": "stream",
     "text": [
      "\r",
      " 31%|███████████████████████▌                                                    | 265/853 [1:31:30<3:47:09, 23.18s/it]"
     ]
    },
    {
     "name": "stdout",
     "output_type": "stream",
     "text": [
      "QUERY:  Precipitation amount in Zollikofen July 8, 2021 13h\n",
      "QUERY:  temperature in Zollikofen July 8, 2021 13h\n",
      "QUERY:  humidity in Zollikofen July 8, 2021 13h\n",
      "QUERY:  wind speed in Zollikofen July 8, 2021 13h\n",
      "QUERY:  Moon Phase calculatorJuly 8, 2021 13h\n"
     ]
    },
    {
     "name": "stderr",
     "output_type": "stream",
     "text": [
      "\r",
      " 31%|███████████████████████▋                                                    | 266/853 [1:31:59<4:03:11, 24.86s/it]"
     ]
    },
    {
     "name": "stdout",
     "output_type": "stream",
     "text": [
      "QUERY:  Precipitation amount in Zollikofen July 8, 2021 14h\n",
      "QUERY:  temperature in Zollikofen July 8, 2021 14h\n",
      "QUERY:  humidity in Zollikofen July 8, 2021 14h\n",
      "QUERY:  wind speed in Zollikofen July 8, 2021 14h\n",
      "QUERY:  Moon Phase calculatorJuly 8, 2021 14h\n"
     ]
    },
    {
     "name": "stderr",
     "output_type": "stream",
     "text": [
      "\r",
      " 31%|███████████████████████▊                                                    | 267/853 [1:32:23<3:59:11, 24.49s/it]"
     ]
    },
    {
     "name": "stdout",
     "output_type": "stream",
     "text": [
      "QUERY:  Precipitation amount in Zollikofen July 8, 2021 15h\n",
      "QUERY:  temperature in Zollikofen July 8, 2021 15h\n",
      "QUERY:  humidity in Zollikofen July 8, 2021 15h\n",
      "QUERY:  wind speed in Zollikofen July 8, 2021 15h\n",
      "QUERY:  Moon Phase calculatorJuly 8, 2021 15h\n"
     ]
    },
    {
     "name": "stderr",
     "output_type": "stream",
     "text": [
      "\r",
      " 31%|███████████████████████▉                                                    | 268/853 [1:32:47<3:57:54, 24.40s/it]"
     ]
    },
    {
     "name": "stdout",
     "output_type": "stream",
     "text": [
      "QUERY:  Precipitation amount in Zollikofen July 8, 2021 16h\n",
      "QUERY:  temperature in Zollikofen July 8, 2021 16h\n",
      "QUERY:  humidity in Zollikofen July 8, 2021 16h\n",
      "QUERY:  wind speed in Zollikofen July 8, 2021 16h\n",
      "QUERY:  Moon Phase calculatorJuly 8, 2021 16h\n"
     ]
    },
    {
     "name": "stderr",
     "output_type": "stream",
     "text": [
      "\r",
      " 32%|███████████████████████▉                                                    | 269/853 [1:33:14<4:05:11, 25.19s/it]"
     ]
    },
    {
     "name": "stdout",
     "output_type": "stream",
     "text": [
      "QUERY:  Precipitation amount in Zollikofen July 8, 2021 17h\n",
      "QUERY:  temperature in Zollikofen July 8, 2021 17h\n",
      "QUERY:  humidity in Zollikofen July 8, 2021 17h\n",
      "QUERY:  wind speed in Zollikofen July 8, 2021 17h\n",
      "QUERY:  Moon Phase calculatorJuly 8, 2021 17h\n"
     ]
    },
    {
     "name": "stderr",
     "output_type": "stream",
     "text": [
      "\r",
      " 32%|████████████████████████                                                    | 270/853 [1:33:43<4:15:05, 26.25s/it]"
     ]
    },
    {
     "name": "stdout",
     "output_type": "stream",
     "text": [
      "QUERY:  Precipitation amount in Zollikofen July 8, 2021 18h\n",
      "QUERY:  temperature in Zollikofen July 8, 2021 18h\n",
      "QUERY:  humidity in Zollikofen July 8, 2021 18h\n",
      "QUERY:  wind speed in Zollikofen July 8, 2021 18h\n",
      "QUERY:  Moon Phase calculatorJuly 8, 2021 18h\n",
      "(6787, 7)\n"
     ]
    },
    {
     "data": {
      "text/html": [
       "<div>\n",
       "<style scoped>\n",
       "    .dataframe tbody tr th:only-of-type {\n",
       "        vertical-align: middle;\n",
       "    }\n",
       "\n",
       "    .dataframe tbody tr th {\n",
       "        vertical-align: top;\n",
       "    }\n",
       "\n",
       "    .dataframe thead th {\n",
       "        text-align: right;\n",
       "    }\n",
       "</style>\n",
       "<table border=\"1\" class=\"dataframe\">\n",
       "  <thead>\n",
       "    <tr style=\"text-align: right;\">\n",
       "      <th></th>\n",
       "      <th>date</th>\n",
       "      <th>temperature</th>\n",
       "      <th>humidity</th>\n",
       "      <th>wind speed</th>\n",
       "      <th>Precipitation amount</th>\n",
       "      <th>query</th>\n",
       "      <th>Moon Phase calculator</th>\n",
       "    </tr>\n",
       "  </thead>\n",
       "  <tbody>\n",
       "    <tr>\n",
       "      <th>8</th>\n",
       "      <td>2021-07-08 17:00:00</td>\n",
       "      <td>16 °C\\n(5:00 pm CEST | Thursday, July 8, 2021)</td>\n",
       "      <td>average: 100% (100%)\\n(5:00 pm CEST | Thursday...</td>\n",
       "      <td>2 m/s\\n(5:00 pm CEST | Thursday, July 8, 2021)</td>\n",
       "      <td>rain\\n(5:00 pm CEST | Thursday, July 8, 2021)</td>\n",
       "      <td>Moon Phase calculatorJuly 8, 2021 17h</td>\n",
       "      <td>| waning crescent moon\\n1.99% illuminated</td>\n",
       "    </tr>\n",
       "    <tr>\n",
       "      <th>9</th>\n",
       "      <td>2021-07-08 18:00:00</td>\n",
       "      <td>15 °C\\n(6:00 pm CEST | Thursday, July 8, 2021)</td>\n",
       "      <td>average: 94% (94%)\\n(6:00 pm CEST | Thursday, ...</td>\n",
       "      <td>2 m/s\\n(6:00 pm CEST | Thursday, July 8, 2021)</td>\n",
       "      <td>rain\\n(6:00 pm CEST | Thursday, July 8, 2021)</td>\n",
       "      <td>Moon Phase calculatorJuly 8, 2021 18h</td>\n",
       "      <td>| waning crescent moon\\n1.88% illuminated</td>\n",
       "    </tr>\n",
       "  </tbody>\n",
       "</table>\n",
       "</div>"
      ],
      "text/plain": [
       "                 date                                     temperature  \\\n",
       "8 2021-07-08 17:00:00  16 °C\\n(5:00 pm CEST | Thursday, July 8, 2021)   \n",
       "9 2021-07-08 18:00:00  15 °C\\n(6:00 pm CEST | Thursday, July 8, 2021)   \n",
       "\n",
       "                                            humidity  \\\n",
       "8  average: 100% (100%)\\n(5:00 pm CEST | Thursday...   \n",
       "9  average: 94% (94%)\\n(6:00 pm CEST | Thursday, ...   \n",
       "\n",
       "                                       wind speed  \\\n",
       "8  2 m/s\\n(5:00 pm CEST | Thursday, July 8, 2021)   \n",
       "9  2 m/s\\n(6:00 pm CEST | Thursday, July 8, 2021)   \n",
       "\n",
       "                            Precipitation amount  \\\n",
       "8  rain\\n(5:00 pm CEST | Thursday, July 8, 2021)   \n",
       "9  rain\\n(6:00 pm CEST | Thursday, July 8, 2021)   \n",
       "\n",
       "                                   query  \\\n",
       "8  Moon Phase calculatorJuly 8, 2021 17h   \n",
       "9  Moon Phase calculatorJuly 8, 2021 18h   \n",
       "\n",
       "                       Moon Phase calculator  \n",
       "8  | waning crescent moon\\n1.99% illuminated  \n",
       "9  | waning crescent moon\\n1.88% illuminated  "
      ]
     },
     "metadata": {},
     "output_type": "display_data"
    },
    {
     "name": "stderr",
     "output_type": "stream",
     "text": [
      "\r",
      " 32%|████████████████████████▏                                                   | 271/853 [1:34:06<4:05:17, 25.29s/it]"
     ]
    },
    {
     "name": "stdout",
     "output_type": "stream",
     "text": [
      "QUERY:  Precipitation amount in Zollikofen July 8, 2021 19h\n",
      "QUERY:  temperature in Zollikofen July 8, 2021 19h\n",
      "QUERY:  humidity in Zollikofen July 8, 2021 19h\n",
      "QUERY:  wind speed in Zollikofen July 8, 2021 19h\n",
      "QUERY:  Moon Phase calculatorJuly 8, 2021 19h\n"
     ]
    },
    {
     "name": "stderr",
     "output_type": "stream",
     "text": [
      "\r",
      " 32%|████████████████████████▏                                                   | 272/853 [1:34:30<4:02:20, 25.03s/it]"
     ]
    },
    {
     "name": "stdout",
     "output_type": "stream",
     "text": [
      "QUERY:  Precipitation amount in Zollikofen July 8, 2021 20h\n",
      "QUERY:  temperature in Zollikofen July 8, 2021 20h\n",
      "QUERY:  humidity in Zollikofen July 8, 2021 20h\n",
      "QUERY:  wind speed in Zollikofen July 8, 2021 20h\n",
      "QUERY:  Moon Phase calculatorJuly 8, 2021 20h\n"
     ]
    },
    {
     "name": "stderr",
     "output_type": "stream",
     "text": [
      "\r",
      " 32%|████████████████████████▎                                                   | 273/853 [1:34:52<3:53:35, 24.17s/it]"
     ]
    },
    {
     "name": "stdout",
     "output_type": "stream",
     "text": [
      "QUERY:  Precipitation amount in Zollikofen July 8, 2021 21h\n",
      "QUERY:  temperature in Zollikofen July 8, 2021 21h\n",
      "QUERY:  humidity in Zollikofen July 8, 2021 21h\n",
      "QUERY:  wind speed in Zollikofen July 8, 2021 21h\n",
      "QUERY:  Moon Phase calculatorJuly 8, 2021 21h\n"
     ]
    },
    {
     "name": "stderr",
     "output_type": "stream",
     "text": [
      "\r",
      " 32%|████████████████████████▍                                                   | 274/853 [1:35:13<3:42:27, 23.05s/it]"
     ]
    },
    {
     "name": "stdout",
     "output_type": "stream",
     "text": [
      "QUERY:  Precipitation amount in Zollikofen July 8, 2021 22h\n",
      "QUERY:  temperature in Zollikofen July 8, 2021 22h\n",
      "QUERY:  humidity in Zollikofen July 8, 2021 22h\n",
      "QUERY:  wind speed in Zollikofen July 8, 2021 22h\n",
      "QUERY:  Moon Phase calculatorJuly 8, 2021 22h\n"
     ]
    },
    {
     "name": "stderr",
     "output_type": "stream",
     "text": [
      "\r",
      " 32%|████████████████████████▌                                                   | 275/853 [1:35:34<3:36:58, 22.52s/it]"
     ]
    },
    {
     "name": "stdout",
     "output_type": "stream",
     "text": [
      "QUERY:  Precipitation amount in Zollikofen July 8, 2021 23h\n",
      "QUERY:  temperature in Zollikofen July 8, 2021 23h\n",
      "QUERY:  humidity in Zollikofen July 8, 2021 23h\n",
      "QUERY:  wind speed in Zollikofen July 8, 2021 23h\n",
      "QUERY:  Moon Phase calculatorJuly 8, 2021 23h\n"
     ]
    },
    {
     "name": "stderr",
     "output_type": "stream",
     "text": [
      "\r",
      " 32%|████████████████████████▌                                                   | 276/853 [1:35:54<3:29:30, 21.79s/it]"
     ]
    },
    {
     "name": "stdout",
     "output_type": "stream",
     "text": [
      "QUERY:  Precipitation amount in Zollikofen July 9, 2021 0h\n",
      "QUERY:  temperature in Zollikofen July 9, 2021 0h\n",
      "QUERY:  humidity in Zollikofen July 9, 2021 0h\n",
      "QUERY:  wind speed in Zollikofen July 9, 2021 0h\n",
      "QUERY:  Moon Phase calculatorJuly 9, 2021 0h\n"
     ]
    },
    {
     "name": "stderr",
     "output_type": "stream",
     "text": [
      "\r",
      " 32%|████████████████████████▋                                                   | 277/853 [1:36:14<3:23:37, 21.21s/it]"
     ]
    },
    {
     "name": "stdout",
     "output_type": "stream",
     "text": [
      "QUERY:  Precipitation amount in Zollikofen July 9, 2021 1h\n",
      "QUERY:  temperature in Zollikofen July 9, 2021 1h\n",
      "QUERY:  humidity in Zollikofen July 9, 2021 1h\n",
      "QUERY:  wind speed in Zollikofen July 9, 2021 1h\n",
      "QUERY:  Moon Phase calculatorJuly 9, 2021 1h\n"
     ]
    },
    {
     "name": "stderr",
     "output_type": "stream",
     "text": [
      "\r",
      " 33%|████████████████████████▊                                                   | 278/853 [1:36:34<3:19:42, 20.84s/it]"
     ]
    },
    {
     "name": "stdout",
     "output_type": "stream",
     "text": [
      "QUERY:  Precipitation amount in Zollikofen July 9, 2021 2h\n",
      "QUERY:  temperature in Zollikofen July 9, 2021 2h\n",
      "QUERY:  humidity in Zollikofen July 9, 2021 2h\n",
      "QUERY:  wind speed in Zollikofen July 9, 2021 2h\n",
      "QUERY:  Moon Phase calculatorJuly 9, 2021 2h\n"
     ]
    },
    {
     "name": "stderr",
     "output_type": "stream",
     "text": [
      "\r",
      " 33%|████████████████████████▊                                                   | 279/853 [1:36:54<3:15:58, 20.48s/it]"
     ]
    },
    {
     "name": "stdout",
     "output_type": "stream",
     "text": [
      "QUERY:  Precipitation amount in Zollikofen July 9, 2021 3h\n",
      "QUERY:  temperature in Zollikofen July 9, 2021 3h\n",
      "QUERY:  humidity in Zollikofen July 9, 2021 3h\n",
      "QUERY:  wind speed in Zollikofen July 9, 2021 3h\n",
      "QUERY:  Moon Phase calculatorJuly 9, 2021 3h\n"
     ]
    },
    {
     "name": "stderr",
     "output_type": "stream",
     "text": [
      "\r",
      " 33%|████████████████████████▉                                                   | 280/853 [1:37:16<3:22:04, 21.16s/it]"
     ]
    },
    {
     "name": "stdout",
     "output_type": "stream",
     "text": [
      "QUERY:  Precipitation amount in Zollikofen July 9, 2021 4h\n",
      "QUERY:  temperature in Zollikofen July 9, 2021 4h\n",
      "QUERY:  humidity in Zollikofen July 9, 2021 4h\n",
      "QUERY:  wind speed in Zollikofen July 9, 2021 4h\n",
      "QUERY:  Moon Phase calculatorJuly 9, 2021 4h\n",
      "(6797, 7)\n"
     ]
    },
    {
     "data": {
      "text/html": [
       "<div>\n",
       "<style scoped>\n",
       "    .dataframe tbody tr th:only-of-type {\n",
       "        vertical-align: middle;\n",
       "    }\n",
       "\n",
       "    .dataframe tbody tr th {\n",
       "        vertical-align: top;\n",
       "    }\n",
       "\n",
       "    .dataframe thead th {\n",
       "        text-align: right;\n",
       "    }\n",
       "</style>\n",
       "<table border=\"1\" class=\"dataframe\">\n",
       "  <thead>\n",
       "    <tr style=\"text-align: right;\">\n",
       "      <th></th>\n",
       "      <th>date</th>\n",
       "      <th>temperature</th>\n",
       "      <th>humidity</th>\n",
       "      <th>wind speed</th>\n",
       "      <th>Precipitation amount</th>\n",
       "      <th>query</th>\n",
       "      <th>Moon Phase calculator</th>\n",
       "    </tr>\n",
       "  </thead>\n",
       "  <tbody>\n",
       "    <tr>\n",
       "      <th>8</th>\n",
       "      <td>2021-07-09 03:00:00</td>\n",
       "      <td>12 °C\\n(3:00 am CEST | Friday, July 9, 2021)</td>\n",
       "      <td>average: 94% (94%)\\n(3:00 am CEST | Friday, Ju...</td>\n",
       "      <td>4 m/s\\n(3:00 am CEST | Friday, July 9, 2021)</td>\n",
       "      <td>no precipitation\\n(3:00 am CEST | Friday, July...</td>\n",
       "      <td>Moon Phase calculatorJuly 9, 2021 3h</td>\n",
       "      <td>| waning crescent moon\\n1.03% illuminated</td>\n",
       "    </tr>\n",
       "    <tr>\n",
       "      <th>9</th>\n",
       "      <td>2021-07-09 04:00:00</td>\n",
       "      <td>12 °C\\n(4:00 am CEST | Friday, July 9, 2021)</td>\n",
       "      <td>average: 94% (94%)\\n(4:00 am CEST | Friday, Ju...</td>\n",
       "      <td>3 m/s\\n(4:00 am CEST | Friday, July 9, 2021)</td>\n",
       "      <td>no precipitation\\n(4:00 am CEST | Friday, July...</td>\n",
       "      <td>Moon Phase calculatorJuly 9, 2021 4h</td>\n",
       "      <td>| waning crescent moon\\n0.96% illuminated</td>\n",
       "    </tr>\n",
       "  </tbody>\n",
       "</table>\n",
       "</div>"
      ],
      "text/plain": [
       "                 date                                   temperature  \\\n",
       "8 2021-07-09 03:00:00  12 °C\\n(3:00 am CEST | Friday, July 9, 2021)   \n",
       "9 2021-07-09 04:00:00  12 °C\\n(4:00 am CEST | Friday, July 9, 2021)   \n",
       "\n",
       "                                            humidity  \\\n",
       "8  average: 94% (94%)\\n(3:00 am CEST | Friday, Ju...   \n",
       "9  average: 94% (94%)\\n(4:00 am CEST | Friday, Ju...   \n",
       "\n",
       "                                     wind speed  \\\n",
       "8  4 m/s\\n(3:00 am CEST | Friday, July 9, 2021)   \n",
       "9  3 m/s\\n(4:00 am CEST | Friday, July 9, 2021)   \n",
       "\n",
       "                                Precipitation amount  \\\n",
       "8  no precipitation\\n(3:00 am CEST | Friday, July...   \n",
       "9  no precipitation\\n(4:00 am CEST | Friday, July...   \n",
       "\n",
       "                                  query  \\\n",
       "8  Moon Phase calculatorJuly 9, 2021 3h   \n",
       "9  Moon Phase calculatorJuly 9, 2021 4h   \n",
       "\n",
       "                       Moon Phase calculator  \n",
       "8  | waning crescent moon\\n1.03% illuminated  \n",
       "9  | waning crescent moon\\n0.96% illuminated  "
      ]
     },
     "metadata": {},
     "output_type": "display_data"
    },
    {
     "name": "stderr",
     "output_type": "stream",
     "text": [
      "\r",
      " 33%|█████████████████████████                                                   | 281/853 [1:37:36<3:17:01, 20.67s/it]"
     ]
    },
    {
     "name": "stdout",
     "output_type": "stream",
     "text": [
      "QUERY:  Precipitation amount in Zollikofen July 9, 2021 5h\n",
      "QUERY:  temperature in Zollikofen July 9, 2021 5h\n",
      "QUERY:  humidity in Zollikofen July 9, 2021 5h\n",
      "QUERY:  wind speed in Zollikofen July 9, 2021 5h\n",
      "QUERY:  Moon Phase calculatorJuly 9, 2021 5h\n"
     ]
    },
    {
     "name": "stderr",
     "output_type": "stream",
     "text": [
      "\r",
      " 33%|█████████████████████████▏                                                  | 282/853 [1:37:56<3:13:59, 20.38s/it]"
     ]
    },
    {
     "name": "stdout",
     "output_type": "stream",
     "text": [
      "QUERY:  Precipitation amount in Zollikofen July 9, 2021 6h\n",
      "QUERY:  temperature in Zollikofen July 9, 2021 6h\n",
      "QUERY:  humidity in Zollikofen July 9, 2021 6h\n",
      "QUERY:  wind speed in Zollikofen July 9, 2021 6h\n",
      "QUERY:  Moon Phase calculatorJuly 9, 2021 6h\n"
     ]
    },
    {
     "name": "stderr",
     "output_type": "stream",
     "text": [
      "\r",
      " 33%|█████████████████████████▏                                                  | 283/853 [1:38:15<3:11:49, 20.19s/it]"
     ]
    },
    {
     "name": "stdout",
     "output_type": "stream",
     "text": [
      "QUERY:  Precipitation amount in Zollikofen July 9, 2021 7h\n",
      "QUERY:  temperature in Zollikofen July 9, 2021 7h\n",
      "QUERY:  humidity in Zollikofen July 9, 2021 7h\n",
      "QUERY:  wind speed in Zollikofen July 9, 2021 7h\n",
      "QUERY:  Moon Phase calculatorJuly 9, 2021 7h\n"
     ]
    },
    {
     "name": "stderr",
     "output_type": "stream",
     "text": [
      "\r",
      " 33%|█████████████████████████▎                                                  | 284/853 [1:38:35<3:10:13, 20.06s/it]"
     ]
    },
    {
     "name": "stdout",
     "output_type": "stream",
     "text": [
      "QUERY:  Precipitation amount in Zollikofen July 9, 2021 8h\n",
      "QUERY:  temperature in Zollikofen July 9, 2021 8h\n",
      "QUERY:  humidity in Zollikofen July 9, 2021 8h\n",
      "QUERY:  wind speed in Zollikofen July 9, 2021 8h\n",
      "QUERY:  Moon Phase calculatorJuly 9, 2021 8h\n"
     ]
    },
    {
     "name": "stderr",
     "output_type": "stream",
     "text": [
      "\r",
      " 33%|█████████████████████████▍                                                  | 285/853 [1:38:55<3:08:48, 19.94s/it]"
     ]
    },
    {
     "name": "stdout",
     "output_type": "stream",
     "text": [
      "QUERY:  Precipitation amount in Zollikofen July 9, 2021 9h\n",
      "QUERY:  temperature in Zollikofen July 9, 2021 9h\n",
      "QUERY:  humidity in Zollikofen July 9, 2021 9h\n",
      "QUERY:  wind speed in Zollikofen July 9, 2021 9h\n",
      "QUERY:  Moon Phase calculatorJuly 9, 2021 9h\n"
     ]
    },
    {
     "name": "stderr",
     "output_type": "stream",
     "text": [
      "\r",
      " 34%|█████████████████████████▍                                                  | 286/853 [1:39:15<3:09:07, 20.01s/it]"
     ]
    },
    {
     "name": "stdout",
     "output_type": "stream",
     "text": [
      "QUERY:  Precipitation amount in Zollikofen July 9, 2021 10h\n",
      "QUERY:  temperature in Zollikofen July 9, 2021 10h\n",
      "QUERY:  humidity in Zollikofen July 9, 2021 10h\n",
      "QUERY:  wind speed in Zollikofen July 9, 2021 10h\n",
      "QUERY:  Moon Phase calculatorJuly 9, 2021 10h\n"
     ]
    },
    {
     "name": "stderr",
     "output_type": "stream",
     "text": [
      "\r",
      " 34%|█████████████████████████▌                                                  | 287/853 [1:39:35<3:07:52, 19.92s/it]"
     ]
    },
    {
     "name": "stdout",
     "output_type": "stream",
     "text": [
      "QUERY:  Precipitation amount in Zollikofen July 9, 2021 11h\n",
      "QUERY:  temperature in Zollikofen July 9, 2021 11h\n",
      "QUERY:  humidity in Zollikofen July 9, 2021 11h\n",
      "QUERY:  wind speed in Zollikofen July 9, 2021 11h\n",
      "QUERY:  Moon Phase calculatorJuly 9, 2021 11h\n"
     ]
    },
    {
     "name": "stderr",
     "output_type": "stream",
     "text": [
      "\r",
      " 34%|█████████████████████████▋                                                  | 288/853 [1:39:56<3:10:33, 20.24s/it]"
     ]
    },
    {
     "name": "stdout",
     "output_type": "stream",
     "text": [
      "QUERY:  Precipitation amount in Zollikofen July 9, 2021 12h\n",
      "QUERY:  temperature in Zollikofen July 9, 2021 12h\n",
      "QUERY:  humidity in Zollikofen July 9, 2021 12h\n",
      "QUERY:  wind speed in Zollikofen July 9, 2021 12h\n",
      "QUERY:  Moon Phase calculatorJuly 9, 2021 12h\n"
     ]
    },
    {
     "name": "stderr",
     "output_type": "stream",
     "text": [
      "\r",
      " 34%|█████████████████████████▋                                                  | 289/853 [1:40:15<3:09:05, 20.12s/it]"
     ]
    },
    {
     "name": "stdout",
     "output_type": "stream",
     "text": [
      "QUERY:  Precipitation amount in Zollikofen July 9, 2021 13h\n",
      "QUERY:  temperature in Zollikofen July 9, 2021 13h\n",
      "QUERY:  humidity in Zollikofen July 9, 2021 13h\n",
      "QUERY:  wind speed in Zollikofen July 9, 2021 13h\n",
      "QUERY:  Moon Phase calculatorJuly 9, 2021 13h\n"
     ]
    },
    {
     "name": "stderr",
     "output_type": "stream",
     "text": [
      "\r",
      " 34%|█████████████████████████▊                                                  | 290/853 [1:40:36<3:09:10, 20.16s/it]"
     ]
    },
    {
     "name": "stdout",
     "output_type": "stream",
     "text": [
      "QUERY:  Precipitation amount in Zollikofen July 9, 2021 14h\n",
      "QUERY:  temperature in Zollikofen July 9, 2021 14h\n",
      "QUERY:  humidity in Zollikofen July 9, 2021 14h\n",
      "QUERY:  wind speed in Zollikofen July 9, 2021 14h\n",
      "QUERY:  Moon Phase calculatorJuly 9, 2021 14h\n",
      "(6807, 7)\n"
     ]
    },
    {
     "data": {
      "text/html": [
       "<div>\n",
       "<style scoped>\n",
       "    .dataframe tbody tr th:only-of-type {\n",
       "        vertical-align: middle;\n",
       "    }\n",
       "\n",
       "    .dataframe tbody tr th {\n",
       "        vertical-align: top;\n",
       "    }\n",
       "\n",
       "    .dataframe thead th {\n",
       "        text-align: right;\n",
       "    }\n",
       "</style>\n",
       "<table border=\"1\" class=\"dataframe\">\n",
       "  <thead>\n",
       "    <tr style=\"text-align: right;\">\n",
       "      <th></th>\n",
       "      <th>date</th>\n",
       "      <th>temperature</th>\n",
       "      <th>humidity</th>\n",
       "      <th>wind speed</th>\n",
       "      <th>Precipitation amount</th>\n",
       "      <th>query</th>\n",
       "      <th>Moon Phase calculator</th>\n",
       "    </tr>\n",
       "  </thead>\n",
       "  <tbody>\n",
       "    <tr>\n",
       "      <th>8</th>\n",
       "      <td>2021-07-09 13:00:00</td>\n",
       "      <td>21 °C\\n(1:00 pm CEST | Friday, July 9, 2021)</td>\n",
       "      <td>average: 55% (53 to 56%)\\n(1:00 pm CEST | Frid...</td>\n",
       "      <td>3 m/s\\n(1:00 pm CEST | Friday, July 9, 2021)</td>\n",
       "      <td>no precipitation\\n(1:00 pm CEST | Friday, July...</td>\n",
       "      <td>Moon Phase calculatorJuly 9, 2021 13h</td>\n",
       "      <td>| waning crescent moon\\n0.40% illuminated</td>\n",
       "    </tr>\n",
       "    <tr>\n",
       "      <th>9</th>\n",
       "      <td>2021-07-09 14:00:00</td>\n",
       "      <td>21 °C\\n(2:00 pm CEST | Friday, July 9, 2021)</td>\n",
       "      <td>average: 55% (53 to 56%)\\n(2:00 pm CEST | Frid...</td>\n",
       "      <td>2 m/s\\n(2:00 pm CEST | Friday, July 9, 2021)</td>\n",
       "      <td>no precipitation\\n(2:00 pm CEST | Friday, July...</td>\n",
       "      <td>Moon Phase calculatorJuly 9, 2021 14h</td>\n",
       "      <td>| waning crescent moon\\n0.36% illuminated</td>\n",
       "    </tr>\n",
       "  </tbody>\n",
       "</table>\n",
       "</div>"
      ],
      "text/plain": [
       "                 date                                   temperature  \\\n",
       "8 2021-07-09 13:00:00  21 °C\\n(1:00 pm CEST | Friday, July 9, 2021)   \n",
       "9 2021-07-09 14:00:00  21 °C\\n(2:00 pm CEST | Friday, July 9, 2021)   \n",
       "\n",
       "                                            humidity  \\\n",
       "8  average: 55% (53 to 56%)\\n(1:00 pm CEST | Frid...   \n",
       "9  average: 55% (53 to 56%)\\n(2:00 pm CEST | Frid...   \n",
       "\n",
       "                                     wind speed  \\\n",
       "8  3 m/s\\n(1:00 pm CEST | Friday, July 9, 2021)   \n",
       "9  2 m/s\\n(2:00 pm CEST | Friday, July 9, 2021)   \n",
       "\n",
       "                                Precipitation amount  \\\n",
       "8  no precipitation\\n(1:00 pm CEST | Friday, July...   \n",
       "9  no precipitation\\n(2:00 pm CEST | Friday, July...   \n",
       "\n",
       "                                   query  \\\n",
       "8  Moon Phase calculatorJuly 9, 2021 13h   \n",
       "9  Moon Phase calculatorJuly 9, 2021 14h   \n",
       "\n",
       "                       Moon Phase calculator  \n",
       "8  | waning crescent moon\\n0.40% illuminated  \n",
       "9  | waning crescent moon\\n0.36% illuminated  "
      ]
     },
     "metadata": {},
     "output_type": "display_data"
    },
    {
     "name": "stderr",
     "output_type": "stream",
     "text": [
      "\r",
      " 34%|█████████████████████████▉                                                  | 291/853 [1:40:54<3:02:40, 19.50s/it]"
     ]
    },
    {
     "name": "stdout",
     "output_type": "stream",
     "text": [
      "QUERY:  Precipitation amount in Zollikofen July 9, 2021 15h\n",
      "QUERY:  temperature in Zollikofen July 9, 2021 15h\n",
      "QUERY:  humidity in Zollikofen July 9, 2021 15h\n",
      "QUERY:  wind speed in Zollikofen July 9, 2021 15h\n",
      "QUERY:  Moon Phase calculatorJuly 9, 2021 15h\n"
     ]
    },
    {
     "name": "stderr",
     "output_type": "stream",
     "text": [
      "\r",
      " 34%|██████████████████████████                                                  | 292/853 [1:41:13<3:01:29, 19.41s/it]"
     ]
    },
    {
     "name": "stdout",
     "output_type": "stream",
     "text": [
      "QUERY:  Precipitation amount in Zollikofen July 9, 2021 16h\n",
      "QUERY:  temperature in Zollikofen July 9, 2021 16h\n",
      "QUERY:  humidity in Zollikofen July 9, 2021 16h\n",
      "QUERY:  wind speed in Zollikofen July 9, 2021 16h\n",
      "QUERY:  Moon Phase calculatorJuly 9, 2021 16h\n"
     ]
    },
    {
     "name": "stderr",
     "output_type": "stream",
     "text": [
      "\r",
      " 34%|██████████████████████████                                                  | 293/853 [1:41:30<2:53:30, 18.59s/it]"
     ]
    },
    {
     "name": "stdout",
     "output_type": "stream",
     "text": [
      "QUERY:  Precipitation amount in Zollikofen July 9, 2021 17h\n",
      "QUERY:  temperature in Zollikofen July 9, 2021 17h\n",
      "QUERY:  humidity in Zollikofen July 9, 2021 17h\n",
      "QUERY:  wind speed in Zollikofen July 9, 2021 17h\n",
      "QUERY:  Moon Phase calculatorJuly 9, 2021 17h\n"
     ]
    },
    {
     "name": "stderr",
     "output_type": "stream",
     "text": [
      "\r",
      " 34%|██████████████████████████▏                                                 | 294/853 [1:41:48<2:53:13, 18.59s/it]"
     ]
    },
    {
     "name": "stdout",
     "output_type": "stream",
     "text": [
      "QUERY:  Precipitation amount in Zollikofen July 9, 2021 18h\n",
      "QUERY:  temperature in Zollikofen July 9, 2021 18h\n",
      "QUERY:  humidity in Zollikofen July 9, 2021 18h\n",
      "QUERY:  wind speed in Zollikofen July 9, 2021 18h\n",
      "QUERY:  Moon Phase calculatorJuly 9, 2021 18h\n"
     ]
    },
    {
     "name": "stderr",
     "output_type": "stream",
     "text": [
      "\r",
      " 35%|██████████████████████████▎                                                 | 295/853 [1:42:06<2:51:29, 18.44s/it]"
     ]
    },
    {
     "name": "stdout",
     "output_type": "stream",
     "text": [
      "QUERY:  Precipitation amount in Zollikofen July 9, 2021 19h\n",
      "QUERY:  temperature in Zollikofen July 9, 2021 19h\n",
      "QUERY:  humidity in Zollikofen July 9, 2021 19h\n",
      "QUERY:  wind speed in Zollikofen July 9, 2021 19h\n",
      "QUERY:  Moon Phase calculatorJuly 9, 2021 19h\n"
     ]
    },
    {
     "name": "stderr",
     "output_type": "stream",
     "text": [
      "\r",
      " 35%|██████████████████████████▎                                                 | 296/853 [1:42:24<2:50:17, 18.34s/it]"
     ]
    },
    {
     "name": "stdout",
     "output_type": "stream",
     "text": [
      "QUERY:  Precipitation amount in Zollikofen July 9, 2021 20h\n",
      "QUERY:  temperature in Zollikofen July 9, 2021 20h\n",
      "QUERY:  humidity in Zollikofen July 9, 2021 20h\n",
      "QUERY:  wind speed in Zollikofen July 9, 2021 20h\n",
      "QUERY:  Moon Phase calculatorJuly 9, 2021 20h\n"
     ]
    },
    {
     "name": "stderr",
     "output_type": "stream",
     "text": [
      "\r",
      " 35%|██████████████████████████▍                                                 | 297/853 [1:42:43<2:50:58, 18.45s/it]"
     ]
    },
    {
     "name": "stdout",
     "output_type": "stream",
     "text": [
      "QUERY:  Precipitation amount in Zollikofen July 9, 2021 21h\n",
      "QUERY:  temperature in Zollikofen July 9, 2021 21h\n",
      "QUERY:  humidity in Zollikofen July 9, 2021 21h\n",
      "QUERY:  wind speed in Zollikofen July 9, 2021 21h\n",
      "QUERY:  Moon Phase calculatorJuly 9, 2021 21h\n"
     ]
    },
    {
     "name": "stderr",
     "output_type": "stream",
     "text": [
      "\r",
      " 35%|██████████████████████████▌                                                 | 298/853 [1:43:00<2:47:12, 18.08s/it]"
     ]
    },
    {
     "name": "stdout",
     "output_type": "stream",
     "text": [
      "QUERY:  Precipitation amount in Zollikofen July 9, 2021 22h\n",
      "QUERY:  temperature in Zollikofen July 9, 2021 22h\n",
      "QUERY:  humidity in Zollikofen July 9, 2021 22h\n",
      "QUERY:  wind speed in Zollikofen July 9, 2021 22h\n",
      "QUERY:  Moon Phase calculatorJuly 9, 2021 22h\n"
     ]
    },
    {
     "name": "stderr",
     "output_type": "stream",
     "text": [
      "\r",
      " 35%|██████████████████████████▋                                                 | 299/853 [1:43:19<2:49:33, 18.36s/it]"
     ]
    },
    {
     "name": "stdout",
     "output_type": "stream",
     "text": [
      "QUERY:  Precipitation amount in Zollikofen July 9, 2021 23h\n",
      "QUERY:  temperature in Zollikofen July 9, 2021 23h\n",
      "QUERY:  humidity in Zollikofen July 9, 2021 23h\n",
      "QUERY:  wind speed in Zollikofen July 9, 2021 23h\n",
      "QUERY:  Moon Phase calculatorJuly 9, 2021 23h\n"
     ]
    },
    {
     "name": "stderr",
     "output_type": "stream",
     "text": [
      "\r",
      " 35%|██████████████████████████▋                                                 | 300/853 [1:43:37<2:46:15, 18.04s/it]"
     ]
    },
    {
     "name": "stdout",
     "output_type": "stream",
     "text": [
      "QUERY:  Precipitation amount in Zollikofen July 10, 2021 0h\n",
      "QUERY:  temperature in Zollikofen July 10, 2021 0h\n",
      "QUERY:  humidity in Zollikofen July 10, 2021 0h\n",
      "QUERY:  wind speed in Zollikofen July 10, 2021 0h\n",
      "QUERY:  Moon Phase calculatorJuly 10, 2021 0h\n",
      "(6817, 7)\n"
     ]
    },
    {
     "data": {
      "text/html": [
       "<div>\n",
       "<style scoped>\n",
       "    .dataframe tbody tr th:only-of-type {\n",
       "        vertical-align: middle;\n",
       "    }\n",
       "\n",
       "    .dataframe tbody tr th {\n",
       "        vertical-align: top;\n",
       "    }\n",
       "\n",
       "    .dataframe thead th {\n",
       "        text-align: right;\n",
       "    }\n",
       "</style>\n",
       "<table border=\"1\" class=\"dataframe\">\n",
       "  <thead>\n",
       "    <tr style=\"text-align: right;\">\n",
       "      <th></th>\n",
       "      <th>date</th>\n",
       "      <th>temperature</th>\n",
       "      <th>humidity</th>\n",
       "      <th>wind speed</th>\n",
       "      <th>Precipitation amount</th>\n",
       "      <th>query</th>\n",
       "      <th>Moon Phase calculator</th>\n",
       "    </tr>\n",
       "  </thead>\n",
       "  <tbody>\n",
       "    <tr>\n",
       "      <th>8</th>\n",
       "      <td>2021-07-09 23:00:00</td>\n",
       "      <td>14 °C\\n(11:00 pm CEST | Friday, July 9, 2021)</td>\n",
       "      <td>average: 94% (94%)\\n(11:00 pm CEST | Friday, J...</td>\n",
       "      <td>0 m/s\\n(11:00 pm CEST | Friday, July 9, 2021)</td>\n",
       "      <td>no precipitation\\n(11:00 pm CEST | Friday, Jul...</td>\n",
       "      <td>Moon Phase calculatorJuly 9, 2021 23h</td>\n",
       "      <td>| new moon\\n0.10% illuminated</td>\n",
       "    </tr>\n",
       "    <tr>\n",
       "      <th>9</th>\n",
       "      <td>2021-07-10 00:00:00</td>\n",
       "      <td>13 °C\\n(12:00 am CEST | Saturday, July 10, 2021)</td>\n",
       "      <td>average: 100% (100%)\\n(12:00 am CEST | Saturda...</td>\n",
       "      <td>1 m/s\\n(12:00 am CEST | Saturday, July 10, 2021)</td>\n",
       "      <td>no precipitation\\n(12:00 am CEST | Saturday, J...</td>\n",
       "      <td>Moon Phase calculatorJuly 10, 2021 0h</td>\n",
       "      <td>| new moon\\n0.09% illuminated</td>\n",
       "    </tr>\n",
       "  </tbody>\n",
       "</table>\n",
       "</div>"
      ],
      "text/plain": [
       "                 date                                       temperature  \\\n",
       "8 2021-07-09 23:00:00     14 °C\\n(11:00 pm CEST | Friday, July 9, 2021)   \n",
       "9 2021-07-10 00:00:00  13 °C\\n(12:00 am CEST | Saturday, July 10, 2021)   \n",
       "\n",
       "                                            humidity  \\\n",
       "8  average: 94% (94%)\\n(11:00 pm CEST | Friday, J...   \n",
       "9  average: 100% (100%)\\n(12:00 am CEST | Saturda...   \n",
       "\n",
       "                                         wind speed  \\\n",
       "8     0 m/s\\n(11:00 pm CEST | Friday, July 9, 2021)   \n",
       "9  1 m/s\\n(12:00 am CEST | Saturday, July 10, 2021)   \n",
       "\n",
       "                                Precipitation amount  \\\n",
       "8  no precipitation\\n(11:00 pm CEST | Friday, Jul...   \n",
       "9  no precipitation\\n(12:00 am CEST | Saturday, J...   \n",
       "\n",
       "                                   query          Moon Phase calculator  \n",
       "8  Moon Phase calculatorJuly 9, 2021 23h  | new moon\\n0.10% illuminated  \n",
       "9  Moon Phase calculatorJuly 10, 2021 0h  | new moon\\n0.09% illuminated  "
      ]
     },
     "metadata": {},
     "output_type": "display_data"
    },
    {
     "name": "stderr",
     "output_type": "stream",
     "text": [
      "\r",
      " 35%|██████████████████████████▊                                                 | 301/853 [1:43:53<2:42:53, 17.71s/it]"
     ]
    },
    {
     "name": "stdout",
     "output_type": "stream",
     "text": [
      "QUERY:  Precipitation amount in Zollikofen July 10, 2021 1h\n",
      "QUERY:  temperature in Zollikofen July 10, 2021 1h\n",
      "QUERY:  humidity in Zollikofen July 10, 2021 1h\n",
      "QUERY:  wind speed in Zollikofen July 10, 2021 1h\n",
      "QUERY:  Moon Phase calculatorJuly 10, 2021 1h\n"
     ]
    },
    {
     "name": "stderr",
     "output_type": "stream",
     "text": [
      "\r",
      " 35%|██████████████████████████▉                                                 | 302/853 [1:44:11<2:42:11, 17.66s/it]"
     ]
    },
    {
     "name": "stdout",
     "output_type": "stream",
     "text": [
      "QUERY:  Precipitation amount in Zollikofen July 10, 2021 2h\n",
      "QUERY:  temperature in Zollikofen July 10, 2021 2h\n",
      "QUERY:  humidity in Zollikofen July 10, 2021 2h\n",
      "QUERY:  wind speed in Zollikofen July 10, 2021 2h\n",
      "QUERY:  Moon Phase calculatorJuly 10, 2021 2h\n"
     ]
    },
    {
     "name": "stderr",
     "output_type": "stream",
     "text": [
      "\r",
      " 36%|██████████████████████████▉                                                 | 303/853 [1:44:29<2:43:19, 17.82s/it]"
     ]
    },
    {
     "name": "stdout",
     "output_type": "stream",
     "text": [
      "QUERY:  Precipitation amount in Zollikofen July 10, 2021 3h\n",
      "QUERY:  temperature in Zollikofen July 10, 2021 3h\n",
      "QUERY:  humidity in Zollikofen July 10, 2021 3h\n",
      "QUERY:  wind speed in Zollikofen July 10, 2021 3h\n",
      "QUERY:  Moon Phase calculatorJuly 10, 2021 3h\n"
     ]
    },
    {
     "name": "stderr",
     "output_type": "stream",
     "text": [
      "\r",
      " 36%|███████████████████████████                                                 | 304/853 [1:44:46<2:40:37, 17.56s/it]"
     ]
    },
    {
     "name": "stdout",
     "output_type": "stream",
     "text": [
      "QUERY:  Precipitation amount in Zollikofen July 10, 2021 4h\n",
      "QUERY:  temperature in Zollikofen July 10, 2021 4h\n",
      "QUERY:  humidity in Zollikofen July 10, 2021 4h\n",
      "QUERY:  wind speed in Zollikofen July 10, 2021 4h\n",
      "QUERY:  Moon Phase calculatorJuly 10, 2021 4h\n"
     ]
    },
    {
     "name": "stderr",
     "output_type": "stream",
     "text": [
      "\r",
      " 36%|███████████████████████████▏                                                | 305/853 [1:45:03<2:37:38, 17.26s/it]"
     ]
    },
    {
     "name": "stdout",
     "output_type": "stream",
     "text": [
      "QUERY:  Precipitation amount in Zollikofen July 10, 2021 5h\n",
      "QUERY:  temperature in Zollikofen July 10, 2021 5h\n",
      "QUERY:  humidity in Zollikofen July 10, 2021 5h\n",
      "QUERY:  wind speed in Zollikofen July 10, 2021 5h\n",
      "QUERY:  Moon Phase calculatorJuly 10, 2021 5h\n"
     ]
    },
    {
     "name": "stderr",
     "output_type": "stream",
     "text": [
      "\r",
      " 36%|███████████████████████████▎                                                | 306/853 [1:45:18<2:32:42, 16.75s/it]"
     ]
    },
    {
     "name": "stdout",
     "output_type": "stream",
     "text": [
      "QUERY:  Precipitation amount in Zollikofen July 10, 2021 6h\n",
      "QUERY:  temperature in Zollikofen July 10, 2021 6h\n",
      "QUERY:  humidity in Zollikofen July 10, 2021 6h\n",
      "QUERY:  wind speed in Zollikofen July 10, 2021 6h\n",
      "QUERY:  Moon Phase calculatorJuly 10, 2021 6h\n"
     ]
    },
    {
     "name": "stderr",
     "output_type": "stream",
     "text": [
      "\r",
      " 36%|███████████████████████████▎                                                | 307/853 [1:45:34<2:29:03, 16.38s/it]"
     ]
    },
    {
     "name": "stdout",
     "output_type": "stream",
     "text": [
      "QUERY:  Precipitation amount in Zollikofen July 10, 2021 7h\n",
      "QUERY:  temperature in Zollikofen July 10, 2021 7h\n",
      "QUERY:  humidity in Zollikofen July 10, 2021 7h\n",
      "QUERY:  wind speed in Zollikofen July 10, 2021 7h\n",
      "QUERY:  Moon Phase calculatorJuly 10, 2021 7h\n"
     ]
    },
    {
     "name": "stderr",
     "output_type": "stream",
     "text": [
      "\r",
      " 36%|███████████████████████████▍                                                | 308/853 [1:45:52<2:33:45, 16.93s/it]"
     ]
    },
    {
     "name": "stdout",
     "output_type": "stream",
     "text": [
      "QUERY:  Precipitation amount in Zollikofen July 10, 2021 8h\n",
      "QUERY:  temperature in Zollikofen July 10, 2021 8h\n",
      "QUERY:  humidity in Zollikofen July 10, 2021 8h\n",
      "QUERY:  wind speed in Zollikofen July 10, 2021 8h\n",
      "QUERY:  Moon Phase calculatorJuly 10, 2021 8h\n"
     ]
    },
    {
     "name": "stderr",
     "output_type": "stream",
     "text": [
      "\r",
      " 36%|███████████████████████████▌                                                | 309/853 [1:46:08<2:31:01, 16.66s/it]"
     ]
    },
    {
     "name": "stdout",
     "output_type": "stream",
     "text": [
      "QUERY:  Precipitation amount in Zollikofen July 10, 2021 9h\n",
      "QUERY:  temperature in Zollikofen July 10, 2021 9h\n",
      "QUERY:  humidity in Zollikofen July 10, 2021 9h\n",
      "QUERY:  wind speed in Zollikofen July 10, 2021 9h\n",
      "QUERY:  Moon Phase calculatorJuly 10, 2021 9h\n"
     ]
    },
    {
     "name": "stderr",
     "output_type": "stream",
     "text": [
      "\r",
      " 36%|███████████████████████████▌                                                | 310/853 [1:46:25<2:30:37, 16.64s/it]"
     ]
    },
    {
     "name": "stdout",
     "output_type": "stream",
     "text": [
      "QUERY:  Precipitation amount in Zollikofen July 10, 2021 10h\n",
      "QUERY:  temperature in Zollikofen July 10, 2021 10h\n",
      "QUERY:  humidity in Zollikofen July 10, 2021 10h\n",
      "QUERY:  wind speed in Zollikofen July 10, 2021 10h\n",
      "QUERY:  Moon Phase calculatorJuly 10, 2021 10h\n",
      "(6827, 7)\n"
     ]
    },
    {
     "data": {
      "text/html": [
       "<div>\n",
       "<style scoped>\n",
       "    .dataframe tbody tr th:only-of-type {\n",
       "        vertical-align: middle;\n",
       "    }\n",
       "\n",
       "    .dataframe tbody tr th {\n",
       "        vertical-align: top;\n",
       "    }\n",
       "\n",
       "    .dataframe thead th {\n",
       "        text-align: right;\n",
       "    }\n",
       "</style>\n",
       "<table border=\"1\" class=\"dataframe\">\n",
       "  <thead>\n",
       "    <tr style=\"text-align: right;\">\n",
       "      <th></th>\n",
       "      <th>date</th>\n",
       "      <th>temperature</th>\n",
       "      <th>humidity</th>\n",
       "      <th>wind speed</th>\n",
       "      <th>Precipitation amount</th>\n",
       "      <th>query</th>\n",
       "      <th>Moon Phase calculator</th>\n",
       "    </tr>\n",
       "  </thead>\n",
       "  <tbody>\n",
       "    <tr>\n",
       "      <th>8</th>\n",
       "      <td>2021-07-10 09:00:00</td>\n",
       "      <td>18 °C\\n(9:00 am CEST | Saturday, July 10, 2021)</td>\n",
       "      <td>average: 73% (73%)\\n(9:00 am CEST | Saturday, ...</td>\n",
       "      <td>1 m/s\\n(9:00 am CEST | Saturday, July 10, 2021)</td>\n",
       "      <td>no precipitation\\n(9:00 am CEST | Saturday, Ju...</td>\n",
       "      <td>Moon Phase calculatorJuly 10, 2021 9h</td>\n",
       "      <td>| new moon\\n0.14% illuminated</td>\n",
       "    </tr>\n",
       "    <tr>\n",
       "      <th>9</th>\n",
       "      <td>2021-07-10 10:00:00</td>\n",
       "      <td>19 °C\\n(10:00 am CEST | Saturday, July 10, 2021)</td>\n",
       "      <td>average: 68% (64 to 73%)\\n(10:00 am CEST | Sat...</td>\n",
       "      <td>1 m/s\\n(10:00 am CEST | Saturday, July 10, 2021)</td>\n",
       "      <td>no precipitation\\n(10:00 am CEST | Saturday, J...</td>\n",
       "      <td>Moon Phase calculatorJuly 10, 2021 10h</td>\n",
       "      <td>| new moon\\n0.17% illuminated</td>\n",
       "    </tr>\n",
       "  </tbody>\n",
       "</table>\n",
       "</div>"
      ],
      "text/plain": [
       "                 date                                       temperature  \\\n",
       "8 2021-07-10 09:00:00   18 °C\\n(9:00 am CEST | Saturday, July 10, 2021)   \n",
       "9 2021-07-10 10:00:00  19 °C\\n(10:00 am CEST | Saturday, July 10, 2021)   \n",
       "\n",
       "                                            humidity  \\\n",
       "8  average: 73% (73%)\\n(9:00 am CEST | Saturday, ...   \n",
       "9  average: 68% (64 to 73%)\\n(10:00 am CEST | Sat...   \n",
       "\n",
       "                                         wind speed  \\\n",
       "8   1 m/s\\n(9:00 am CEST | Saturday, July 10, 2021)   \n",
       "9  1 m/s\\n(10:00 am CEST | Saturday, July 10, 2021)   \n",
       "\n",
       "                                Precipitation amount  \\\n",
       "8  no precipitation\\n(9:00 am CEST | Saturday, Ju...   \n",
       "9  no precipitation\\n(10:00 am CEST | Saturday, J...   \n",
       "\n",
       "                                    query          Moon Phase calculator  \n",
       "8   Moon Phase calculatorJuly 10, 2021 9h  | new moon\\n0.14% illuminated  \n",
       "9  Moon Phase calculatorJuly 10, 2021 10h  | new moon\\n0.17% illuminated  "
      ]
     },
     "metadata": {},
     "output_type": "display_data"
    },
    {
     "name": "stderr",
     "output_type": "stream",
     "text": [
      "\r",
      " 36%|███████████████████████████▋                                                | 311/853 [1:46:41<2:29:10, 16.51s/it]"
     ]
    },
    {
     "name": "stdout",
     "output_type": "stream",
     "text": [
      "QUERY:  Precipitation amount in Zollikofen July 10, 2021 11h\n",
      "QUERY:  temperature in Zollikofen July 10, 2021 11h\n",
      "QUERY:  humidity in Zollikofen July 10, 2021 11h\n",
      "QUERY:  wind speed in Zollikofen July 10, 2021 11h\n",
      "QUERY:  Moon Phase calculatorJuly 10, 2021 11h\n"
     ]
    },
    {
     "name": "stderr",
     "output_type": "stream",
     "text": [
      "\r",
      " 37%|███████████████████████████▊                                                | 312/853 [1:46:58<2:30:51, 16.73s/it]"
     ]
    },
    {
     "name": "stdout",
     "output_type": "stream",
     "text": [
      "QUERY:  Precipitation amount in Zollikofen July 10, 2021 12h\n",
      "QUERY:  temperature in Zollikofen July 10, 2021 12h\n",
      "QUERY:  humidity in Zollikofen July 10, 2021 12h\n",
      "QUERY:  wind speed in Zollikofen July 10, 2021 12h\n",
      "QUERY:  Moon Phase calculatorJuly 10, 2021 12h\n"
     ]
    },
    {
     "name": "stderr",
     "output_type": "stream",
     "text": [
      "\r",
      " 37%|███████████████████████████▉                                                | 313/853 [1:47:16<2:34:11, 17.13s/it]"
     ]
    },
    {
     "name": "stdout",
     "output_type": "stream",
     "text": [
      "QUERY:  Precipitation amount in Zollikofen July 10, 2021 13h\n",
      "QUERY:  temperature in Zollikofen July 10, 2021 13h\n",
      "QUERY:  humidity in Zollikofen July 10, 2021 13h\n",
      "QUERY:  wind speed in Zollikofen July 10, 2021 13h\n",
      "QUERY:  Moon Phase calculatorJuly 10, 2021 13h\n"
     ]
    },
    {
     "name": "stderr",
     "output_type": "stream",
     "text": [
      "\r",
      " 37%|███████████████████████████▉                                                | 314/853 [1:47:32<2:31:03, 16.81s/it]"
     ]
    },
    {
     "name": "stdout",
     "output_type": "stream",
     "text": [
      "QUERY:  Precipitation amount in Zollikofen July 10, 2021 14h\n",
      "QUERY:  temperature in Zollikofen July 10, 2021 14h\n",
      "QUERY:  humidity in Zollikofen July 10, 2021 14h\n",
      "QUERY:  wind speed in Zollikofen July 10, 2021 14h\n",
      "QUERY:  Moon Phase calculatorJuly 10, 2021 14h\n"
     ]
    },
    {
     "name": "stderr",
     "output_type": "stream",
     "text": [
      "\r",
      " 37%|████████████████████████████                                                | 315/853 [1:47:49<2:31:07, 16.85s/it]"
     ]
    },
    {
     "name": "stdout",
     "output_type": "stream",
     "text": [
      "QUERY:  Precipitation amount in Zollikofen July 10, 2021 15h\n",
      "QUERY:  temperature in Zollikofen July 10, 2021 15h\n",
      "QUERY:  humidity in Zollikofen July 10, 2021 15h\n",
      "QUERY:  wind speed in Zollikofen July 10, 2021 15h\n",
      "QUERY:  Moon Phase calculatorJuly 10, 2021 15h\n"
     ]
    },
    {
     "name": "stderr",
     "output_type": "stream",
     "text": [
      "\r",
      " 37%|████████████████████████████▏                                               | 316/853 [1:48:05<2:28:24, 16.58s/it]"
     ]
    },
    {
     "name": "stdout",
     "output_type": "stream",
     "text": [
      "QUERY:  Precipitation amount in Zollikofen July 10, 2021 16h\n",
      "QUERY:  temperature in Zollikofen July 10, 2021 16h\n",
      "QUERY:  humidity in Zollikofen July 10, 2021 16h\n",
      "QUERY:  wind speed in Zollikofen July 10, 2021 16h\n",
      "QUERY:  Moon Phase calculatorJuly 10, 2021 16h\n"
     ]
    },
    {
     "name": "stderr",
     "output_type": "stream",
     "text": [
      "\r",
      " 37%|████████████████████████████▏                                               | 317/853 [1:48:21<2:26:41, 16.42s/it]"
     ]
    },
    {
     "name": "stdout",
     "output_type": "stream",
     "text": [
      "QUERY:  Precipitation amount in Zollikofen July 10, 2021 17h\n",
      "QUERY:  temperature in Zollikofen July 10, 2021 17h\n",
      "QUERY:  humidity in Zollikofen July 10, 2021 17h\n",
      "QUERY:  wind speed in Zollikofen July 10, 2021 17h\n",
      "QUERY:  Moon Phase calculatorJuly 10, 2021 17h\n"
     ]
    },
    {
     "name": "stderr",
     "output_type": "stream",
     "text": [
      "\r",
      " 37%|████████████████████████████▎                                               | 318/853 [1:48:38<2:26:51, 16.47s/it]"
     ]
    },
    {
     "name": "stdout",
     "output_type": "stream",
     "text": [
      "QUERY:  Precipitation amount in Zollikofen July 10, 2021 18h\n",
      "QUERY:  temperature in Zollikofen July 10, 2021 18h\n",
      "QUERY:  humidity in Zollikofen July 10, 2021 18h\n",
      "QUERY:  wind speed in Zollikofen July 10, 2021 18h\n",
      "QUERY:  Moon Phase calculatorJuly 10, 2021 18h\n"
     ]
    },
    {
     "name": "stderr",
     "output_type": "stream",
     "text": [
      "\r",
      " 37%|████████████████████████████▍                                               | 319/853 [1:48:54<2:25:05, 16.30s/it]"
     ]
    },
    {
     "name": "stdout",
     "output_type": "stream",
     "text": [
      "QUERY:  Precipitation amount in Zollikofen July 10, 2021 19h\n",
      "QUERY:  temperature in Zollikofen July 10, 2021 19h\n",
      "QUERY:  humidity in Zollikofen July 10, 2021 19h\n",
      "QUERY:  wind speed in Zollikofen July 10, 2021 19h\n",
      "QUERY:  Moon Phase calculatorJuly 10, 2021 19h\n"
     ]
    },
    {
     "name": "stderr",
     "output_type": "stream",
     "text": [
      "\r",
      " 38%|████████████████████████████▌                                               | 320/853 [1:49:10<2:23:36, 16.17s/it]"
     ]
    },
    {
     "name": "stdout",
     "output_type": "stream",
     "text": [
      "QUERY:  Precipitation amount in Zollikofen July 10, 2021 20h\n",
      "QUERY:  temperature in Zollikofen July 10, 2021 20h\n",
      "QUERY:  humidity in Zollikofen July 10, 2021 20h\n",
      "QUERY:  wind speed in Zollikofen July 10, 2021 20h\n",
      "QUERY:  Moon Phase calculatorJuly 10, 2021 20h\n",
      "(6837, 7)\n"
     ]
    },
    {
     "data": {
      "text/html": [
       "<div>\n",
       "<style scoped>\n",
       "    .dataframe tbody tr th:only-of-type {\n",
       "        vertical-align: middle;\n",
       "    }\n",
       "\n",
       "    .dataframe tbody tr th {\n",
       "        vertical-align: top;\n",
       "    }\n",
       "\n",
       "    .dataframe thead th {\n",
       "        text-align: right;\n",
       "    }\n",
       "</style>\n",
       "<table border=\"1\" class=\"dataframe\">\n",
       "  <thead>\n",
       "    <tr style=\"text-align: right;\">\n",
       "      <th></th>\n",
       "      <th>date</th>\n",
       "      <th>temperature</th>\n",
       "      <th>humidity</th>\n",
       "      <th>wind speed</th>\n",
       "      <th>Precipitation amount</th>\n",
       "      <th>query</th>\n",
       "      <th>Moon Phase calculator</th>\n",
       "    </tr>\n",
       "  </thead>\n",
       "  <tbody>\n",
       "    <tr>\n",
       "      <th>8</th>\n",
       "      <td>2021-07-10 19:00:00</td>\n",
       "      <td>25 °C\\n(7:00 pm CEST | Saturday, July 10, 2021)</td>\n",
       "      <td>average: 48% (39 to 57%)\\n(7:00 pm CEST | Satu...</td>\n",
       "      <td>4 m/s\\n(7:00 pm CEST | Saturday, July 10, 2021)</td>\n",
       "      <td>no precipitation\\n(7:00 pm CEST | Saturday, Ju...</td>\n",
       "      <td>Moon Phase calculatorJuly 10, 2021 19h</td>\n",
       "      <td>| waxing crescent moon\\n0.54% illuminated</td>\n",
       "    </tr>\n",
       "    <tr>\n",
       "      <th>9</th>\n",
       "      <td>2021-07-10 20:00:00</td>\n",
       "      <td>19 °C\\n(8:00 pm CEST | Saturday, July 10, 2021)</td>\n",
       "      <td>average: 72% (56 to 88%)\\n(8:00 pm CEST | Satu...</td>\n",
       "      <td>8 m/s\\n(8:00 pm CEST | Saturday, July 10, 2021)</td>\n",
       "      <td>rain\\n(8:00 pm CEST | Saturday, July 10, 2021)</td>\n",
       "      <td>Moon Phase calculatorJuly 10, 2021 20h</td>\n",
       "      <td>| waxing crescent moon\\n0.60% illuminated</td>\n",
       "    </tr>\n",
       "  </tbody>\n",
       "</table>\n",
       "</div>"
      ],
      "text/plain": [
       "                 date                                      temperature  \\\n",
       "8 2021-07-10 19:00:00  25 °C\\n(7:00 pm CEST | Saturday, July 10, 2021)   \n",
       "9 2021-07-10 20:00:00  19 °C\\n(8:00 pm CEST | Saturday, July 10, 2021)   \n",
       "\n",
       "                                            humidity  \\\n",
       "8  average: 48% (39 to 57%)\\n(7:00 pm CEST | Satu...   \n",
       "9  average: 72% (56 to 88%)\\n(8:00 pm CEST | Satu...   \n",
       "\n",
       "                                        wind speed  \\\n",
       "8  4 m/s\\n(7:00 pm CEST | Saturday, July 10, 2021)   \n",
       "9  8 m/s\\n(8:00 pm CEST | Saturday, July 10, 2021)   \n",
       "\n",
       "                                Precipitation amount  \\\n",
       "8  no precipitation\\n(7:00 pm CEST | Saturday, Ju...   \n",
       "9     rain\\n(8:00 pm CEST | Saturday, July 10, 2021)   \n",
       "\n",
       "                                    query  \\\n",
       "8  Moon Phase calculatorJuly 10, 2021 19h   \n",
       "9  Moon Phase calculatorJuly 10, 2021 20h   \n",
       "\n",
       "                       Moon Phase calculator  \n",
       "8  | waxing crescent moon\\n0.54% illuminated  \n",
       "9  | waxing crescent moon\\n0.60% illuminated  "
      ]
     },
     "metadata": {},
     "output_type": "display_data"
    },
    {
     "name": "stderr",
     "output_type": "stream",
     "text": [
      "\r",
      " 38%|████████████████████████████▌                                               | 321/853 [1:49:26<2:23:45, 16.21s/it]"
     ]
    },
    {
     "name": "stdout",
     "output_type": "stream",
     "text": [
      "QUERY:  Precipitation amount in Zollikofen July 10, 2021 21h\n",
      "QUERY:  temperature in Zollikofen July 10, 2021 21h\n",
      "QUERY:  humidity in Zollikofen July 10, 2021 21h\n",
      "QUERY:  wind speed in Zollikofen July 10, 2021 21h\n",
      "QUERY:  Moon Phase calculatorJuly 10, 2021 21h\n"
     ]
    },
    {
     "name": "stderr",
     "output_type": "stream",
     "text": [
      "\r",
      " 38%|████████████████████████████▋                                               | 322/853 [1:49:42<2:22:24, 16.09s/it]"
     ]
    },
    {
     "name": "stdout",
     "output_type": "stream",
     "text": [
      "QUERY:  Precipitation amount in Zollikofen July 10, 2021 22h\n",
      "QUERY:  temperature in Zollikofen July 10, 2021 22h\n",
      "QUERY:  humidity in Zollikofen July 10, 2021 22h\n",
      "QUERY:  wind speed in Zollikofen July 10, 2021 22h\n",
      "QUERY:  Moon Phase calculatorJuly 10, 2021 22h\n"
     ]
    },
    {
     "name": "stderr",
     "output_type": "stream",
     "text": [
      "\r",
      " 38%|████████████████████████████▊                                               | 323/853 [1:49:58<2:22:05, 16.09s/it]"
     ]
    },
    {
     "name": "stdout",
     "output_type": "stream",
     "text": [
      "QUERY:  Precipitation amount in Zollikofen July 10, 2021 23h\n",
      "QUERY:  temperature in Zollikofen July 10, 2021 23h\n",
      "QUERY:  humidity in Zollikofen July 10, 2021 23h\n",
      "QUERY:  wind speed in Zollikofen July 10, 2021 23h\n",
      "QUERY:  Moon Phase calculatorJuly 10, 2021 23h\n"
     ]
    },
    {
     "name": "stderr",
     "output_type": "stream",
     "text": [
      "\r",
      " 38%|████████████████████████████▊                                               | 324/853 [1:50:14<2:22:33, 16.17s/it]"
     ]
    },
    {
     "name": "stdout",
     "output_type": "stream",
     "text": [
      "QUERY:  Precipitation amount in Zollikofen July 11, 2021 0h\n",
      "QUERY:  temperature in Zollikofen July 11, 2021 0h\n",
      "QUERY:  humidity in Zollikofen July 11, 2021 0h\n",
      "QUERY:  wind speed in Zollikofen July 11, 2021 0h\n",
      "QUERY:  Moon Phase calculatorJuly 11, 2021 0h\n"
     ]
    },
    {
     "name": "stderr",
     "output_type": "stream",
     "text": [
      "\r",
      " 38%|████████████████████████████▉                                               | 325/853 [1:50:30<2:21:27, 16.08s/it]"
     ]
    },
    {
     "name": "stdout",
     "output_type": "stream",
     "text": [
      "QUERY:  Precipitation amount in Zollikofen July 11, 2021 1h\n",
      "QUERY:  temperature in Zollikofen July 11, 2021 1h\n",
      "QUERY:  humidity in Zollikofen July 11, 2021 1h\n",
      "QUERY:  wind speed in Zollikofen July 11, 2021 1h\n",
      "QUERY:  Moon Phase calculatorJuly 11, 2021 1h\n"
     ]
    },
    {
     "name": "stderr",
     "output_type": "stream",
     "text": [
      "\r",
      " 38%|█████████████████████████████                                               | 326/853 [1:50:49<2:28:39, 16.92s/it]"
     ]
    },
    {
     "name": "stdout",
     "output_type": "stream",
     "text": [
      "QUERY:  Precipitation amount in Zollikofen July 11, 2021 2h\n",
      "QUERY:  temperature in Zollikofen July 11, 2021 2h\n",
      "QUERY:  humidity in Zollikofen July 11, 2021 2h\n",
      "QUERY:  wind speed in Zollikofen July 11, 2021 2h\n",
      "QUERY:  Moon Phase calculatorJuly 11, 2021 2h\n"
     ]
    },
    {
     "name": "stderr",
     "output_type": "stream",
     "text": [
      "\r",
      " 38%|█████████████████████████████▏                                              | 327/853 [1:51:10<2:39:37, 18.21s/it]"
     ]
    },
    {
     "name": "stdout",
     "output_type": "stream",
     "text": [
      "QUERY:  Precipitation amount in Zollikofen July 11, 2021 3h\n",
      "QUERY:  temperature in Zollikofen July 11, 2021 3h\n",
      "QUERY:  humidity in Zollikofen July 11, 2021 3h\n",
      "QUERY:  wind speed in Zollikofen July 11, 2021 3h\n",
      "QUERY:  Moon Phase calculatorJuly 11, 2021 3h\n"
     ]
    },
    {
     "name": "stderr",
     "output_type": "stream",
     "text": [
      "\r",
      " 38%|█████████████████████████████▏                                              | 328/853 [1:51:31<2:46:34, 19.04s/it]"
     ]
    },
    {
     "name": "stdout",
     "output_type": "stream",
     "text": [
      "QUERY:  Precipitation amount in Zollikofen July 11, 2021 4h\n",
      "QUERY:  temperature in Zollikofen July 11, 2021 4h\n",
      "QUERY:  humidity in Zollikofen July 11, 2021 4h\n",
      "QUERY:  wind speed in Zollikofen July 11, 2021 4h\n",
      "QUERY:  Moon Phase calculatorJuly 11, 2021 4h\n"
     ]
    },
    {
     "name": "stderr",
     "output_type": "stream",
     "text": [
      "\r",
      " 39%|█████████████████████████████▎                                              | 329/853 [1:51:51<2:48:50, 19.33s/it]"
     ]
    },
    {
     "name": "stdout",
     "output_type": "stream",
     "text": [
      "QUERY:  Precipitation amount in Zollikofen July 11, 2021 5h\n",
      "QUERY:  temperature in Zollikofen July 11, 2021 5h\n",
      "QUERY:  humidity in Zollikofen July 11, 2021 5h\n",
      "QUERY:  wind speed in Zollikofen July 11, 2021 5h\n",
      "QUERY:  Moon Phase calculatorJuly 11, 2021 5h\n"
     ]
    },
    {
     "name": "stderr",
     "output_type": "stream",
     "text": [
      "\r",
      " 39%|█████████████████████████████▍                                              | 330/853 [1:52:11<2:51:03, 19.62s/it]"
     ]
    },
    {
     "name": "stdout",
     "output_type": "stream",
     "text": [
      "QUERY:  Precipitation amount in Zollikofen July 11, 2021 6h\n",
      "QUERY:  temperature in Zollikofen July 11, 2021 6h\n",
      "QUERY:  humidity in Zollikofen July 11, 2021 6h\n",
      "QUERY:  wind speed in Zollikofen July 11, 2021 6h\n",
      "QUERY:  Moon Phase calculatorJuly 11, 2021 6h\n",
      "(6847, 7)\n"
     ]
    },
    {
     "data": {
      "text/html": [
       "<div>\n",
       "<style scoped>\n",
       "    .dataframe tbody tr th:only-of-type {\n",
       "        vertical-align: middle;\n",
       "    }\n",
       "\n",
       "    .dataframe tbody tr th {\n",
       "        vertical-align: top;\n",
       "    }\n",
       "\n",
       "    .dataframe thead th {\n",
       "        text-align: right;\n",
       "    }\n",
       "</style>\n",
       "<table border=\"1\" class=\"dataframe\">\n",
       "  <thead>\n",
       "    <tr style=\"text-align: right;\">\n",
       "      <th></th>\n",
       "      <th>date</th>\n",
       "      <th>temperature</th>\n",
       "      <th>humidity</th>\n",
       "      <th>wind speed</th>\n",
       "      <th>Precipitation amount</th>\n",
       "      <th>query</th>\n",
       "      <th>Moon Phase calculator</th>\n",
       "    </tr>\n",
       "  </thead>\n",
       "  <tbody>\n",
       "    <tr>\n",
       "      <th>8</th>\n",
       "      <td>2021-07-11 05:00:00</td>\n",
       "      <td>13 °C\\n(5:00 am CEST | Sunday, July 11, 2021)</td>\n",
       "      <td>average: 100% (100%)\\n(5:00 am CEST | Sunday, ...</td>\n",
       "      <td>2 m/s\\n(5:00 am CEST | Sunday, July 11, 2021)</td>\n",
       "      <td>no precipitation\\n(5:00 am CEST | Sunday, July...</td>\n",
       "      <td>Moon Phase calculatorJuly 11, 2021 5h</td>\n",
       "      <td>| waxing crescent moon\\n1.28% illuminated</td>\n",
       "    </tr>\n",
       "    <tr>\n",
       "      <th>9</th>\n",
       "      <td>2021-07-11 06:00:00</td>\n",
       "      <td>14 °C\\n(6:00 am CEST | Sunday, July 11, 2021)</td>\n",
       "      <td>average: 94% (94%)\\n(6:00 am CEST | Sunday, Ju...</td>\n",
       "      <td>2 m/s\\n(6:00 am CEST | Sunday, July 11, 2021)</td>\n",
       "      <td>no precipitation\\n(6:00 am CEST | Sunday, July...</td>\n",
       "      <td>Moon Phase calculatorJuly 11, 2021 6h</td>\n",
       "      <td>| waxing crescent moon\\n1.38% illuminated</td>\n",
       "    </tr>\n",
       "  </tbody>\n",
       "</table>\n",
       "</div>"
      ],
      "text/plain": [
       "                 date                                    temperature  \\\n",
       "8 2021-07-11 05:00:00  13 °C\\n(5:00 am CEST | Sunday, July 11, 2021)   \n",
       "9 2021-07-11 06:00:00  14 °C\\n(6:00 am CEST | Sunday, July 11, 2021)   \n",
       "\n",
       "                                            humidity  \\\n",
       "8  average: 100% (100%)\\n(5:00 am CEST | Sunday, ...   \n",
       "9  average: 94% (94%)\\n(6:00 am CEST | Sunday, Ju...   \n",
       "\n",
       "                                      wind speed  \\\n",
       "8  2 m/s\\n(5:00 am CEST | Sunday, July 11, 2021)   \n",
       "9  2 m/s\\n(6:00 am CEST | Sunday, July 11, 2021)   \n",
       "\n",
       "                                Precipitation amount  \\\n",
       "8  no precipitation\\n(5:00 am CEST | Sunday, July...   \n",
       "9  no precipitation\\n(6:00 am CEST | Sunday, July...   \n",
       "\n",
       "                                   query  \\\n",
       "8  Moon Phase calculatorJuly 11, 2021 5h   \n",
       "9  Moon Phase calculatorJuly 11, 2021 6h   \n",
       "\n",
       "                       Moon Phase calculator  \n",
       "8  | waxing crescent moon\\n1.28% illuminated  \n",
       "9  | waxing crescent moon\\n1.38% illuminated  "
      ]
     },
     "metadata": {},
     "output_type": "display_data"
    },
    {
     "name": "stderr",
     "output_type": "stream",
     "text": [
      "\r",
      " 39%|█████████████████████████████▍                                              | 331/853 [1:52:31<2:51:53, 19.76s/it]"
     ]
    },
    {
     "name": "stdout",
     "output_type": "stream",
     "text": [
      "QUERY:  Precipitation amount in Zollikofen July 11, 2021 7h\n",
      "QUERY:  temperature in Zollikofen July 11, 2021 7h\n",
      "QUERY:  humidity in Zollikofen July 11, 2021 7h\n",
      "QUERY:  wind speed in Zollikofen July 11, 2021 7h\n",
      "QUERY:  Moon Phase calculatorJuly 11, 2021 7h\n"
     ]
    },
    {
     "name": "stderr",
     "output_type": "stream",
     "text": [
      "\r",
      " 39%|█████████████████████████████▌                                              | 332/853 [1:52:52<2:52:34, 19.87s/it]"
     ]
    },
    {
     "name": "stdout",
     "output_type": "stream",
     "text": [
      "QUERY:  Precipitation amount in Zollikofen July 11, 2021 8h\n",
      "QUERY:  temperature in Zollikofen July 11, 2021 8h\n",
      "QUERY:  humidity in Zollikofen July 11, 2021 8h\n",
      "QUERY:  wind speed in Zollikofen July 11, 2021 8h\n",
      "QUERY:  Moon Phase calculatorJuly 11, 2021 8h\n"
     ]
    },
    {
     "name": "stderr",
     "output_type": "stream",
     "text": [
      "\r",
      " 39%|█████████████████████████████▋                                              | 333/853 [1:53:12<2:53:18, 20.00s/it]"
     ]
    },
    {
     "name": "stdout",
     "output_type": "stream",
     "text": [
      "QUERY:  Precipitation amount in Zollikofen July 11, 2021 9h\n",
      "QUERY:  temperature in Zollikofen July 11, 2021 9h\n",
      "QUERY:  humidity in Zollikofen July 11, 2021 9h\n",
      "QUERY:  wind speed in Zollikofen July 11, 2021 9h\n",
      "QUERY:  Moon Phase calculatorJuly 11, 2021 9h\n"
     ]
    },
    {
     "name": "stderr",
     "output_type": "stream",
     "text": [
      "\r",
      " 39%|█████████████████████████████▊                                              | 334/853 [1:53:32<2:54:38, 20.19s/it]"
     ]
    },
    {
     "name": "stdout",
     "output_type": "stream",
     "text": [
      "QUERY:  Precipitation amount in Zollikofen July 11, 2021 10h\n",
      "QUERY:  temperature in Zollikofen July 11, 2021 10h\n",
      "QUERY:  humidity in Zollikofen July 11, 2021 10h\n",
      "QUERY:  wind speed in Zollikofen July 11, 2021 10h\n",
      "QUERY:  Moon Phase calculatorJuly 11, 2021 10h\n"
     ]
    },
    {
     "name": "stderr",
     "output_type": "stream",
     "text": [
      "\r",
      " 39%|█████████████████████████████▊                                              | 335/853 [1:53:53<2:54:26, 20.21s/it]"
     ]
    },
    {
     "name": "stdout",
     "output_type": "stream",
     "text": [
      "QUERY:  Precipitation amount in Zollikofen July 11, 2021 11h\n",
      "QUERY:  temperature in Zollikofen July 11, 2021 11h\n",
      "QUERY:  humidity in Zollikofen July 11, 2021 11h\n",
      "QUERY:  wind speed in Zollikofen July 11, 2021 11h\n",
      "QUERY:  Moon Phase calculatorJuly 11, 2021 11h\n"
     ]
    },
    {
     "name": "stderr",
     "output_type": "stream",
     "text": [
      "\r",
      " 39%|█████████████████████████████▉                                              | 336/853 [1:54:13<2:54:55, 20.30s/it]"
     ]
    },
    {
     "name": "stdout",
     "output_type": "stream",
     "text": [
      "QUERY:  Precipitation amount in Zollikofen July 11, 2021 12h\n",
      "QUERY:  temperature in Zollikofen July 11, 2021 12h\n",
      "QUERY:  humidity in Zollikofen July 11, 2021 12h\n",
      "QUERY:  wind speed in Zollikofen July 11, 2021 12h\n",
      "QUERY:  Moon Phase calculatorJuly 11, 2021 12h\n"
     ]
    },
    {
     "name": "stderr",
     "output_type": "stream",
     "text": [
      "\r",
      " 40%|██████████████████████████████                                              | 337/853 [1:54:33<2:53:59, 20.23s/it]"
     ]
    },
    {
     "name": "stdout",
     "output_type": "stream",
     "text": [
      "QUERY:  Precipitation amount in Zollikofen July 11, 2021 13h\n",
      "QUERY:  temperature in Zollikofen July 11, 2021 13h\n",
      "QUERY:  humidity in Zollikofen July 11, 2021 13h\n",
      "QUERY:  wind speed in Zollikofen July 11, 2021 13h\n",
      "QUERY:  Moon Phase calculatorJuly 11, 2021 13h\n"
     ]
    },
    {
     "name": "stderr",
     "output_type": "stream",
     "text": [
      "\r",
      " 40%|██████████████████████████████                                              | 338/853 [1:54:53<2:53:11, 20.18s/it]"
     ]
    },
    {
     "name": "stdout",
     "output_type": "stream",
     "text": [
      "QUERY:  Precipitation amount in Zollikofen July 11, 2021 14h\n",
      "QUERY:  temperature in Zollikofen July 11, 2021 14h\n",
      "QUERY:  humidity in Zollikofen July 11, 2021 14h\n",
      "QUERY:  wind speed in Zollikofen July 11, 2021 14h\n",
      "QUERY:  Moon Phase calculatorJuly 11, 2021 14h\n"
     ]
    },
    {
     "name": "stderr",
     "output_type": "stream",
     "text": [
      "\r",
      " 40%|██████████████████████████████▏                                             | 339/853 [1:55:13<2:52:02, 20.08s/it]"
     ]
    },
    {
     "name": "stdout",
     "output_type": "stream",
     "text": [
      "QUERY:  Precipitation amount in Zollikofen July 11, 2021 15h\n",
      "QUERY:  temperature in Zollikofen July 11, 2021 15h\n",
      "QUERY:  humidity in Zollikofen July 11, 2021 15h\n",
      "QUERY:  wind speed in Zollikofen July 11, 2021 15h\n",
      "QUERY:  Moon Phase calculatorJuly 11, 2021 15h\n"
     ]
    },
    {
     "name": "stderr",
     "output_type": "stream",
     "text": [
      "\r",
      " 40%|██████████████████████████████▎                                             | 340/853 [1:55:33<2:50:34, 19.95s/it]"
     ]
    },
    {
     "name": "stdout",
     "output_type": "stream",
     "text": [
      "QUERY:  Precipitation amount in Zollikofen July 11, 2021 16h\n",
      "QUERY:  temperature in Zollikofen July 11, 2021 16h\n",
      "QUERY:  humidity in Zollikofen July 11, 2021 16h\n",
      "QUERY:  wind speed in Zollikofen July 11, 2021 16h\n",
      "QUERY:  Moon Phase calculatorJuly 11, 2021 16h\n",
      "(6857, 7)\n"
     ]
    },
    {
     "data": {
      "text/html": [
       "<div>\n",
       "<style scoped>\n",
       "    .dataframe tbody tr th:only-of-type {\n",
       "        vertical-align: middle;\n",
       "    }\n",
       "\n",
       "    .dataframe tbody tr th {\n",
       "        vertical-align: top;\n",
       "    }\n",
       "\n",
       "    .dataframe thead th {\n",
       "        text-align: right;\n",
       "    }\n",
       "</style>\n",
       "<table border=\"1\" class=\"dataframe\">\n",
       "  <thead>\n",
       "    <tr style=\"text-align: right;\">\n",
       "      <th></th>\n",
       "      <th>date</th>\n",
       "      <th>temperature</th>\n",
       "      <th>humidity</th>\n",
       "      <th>wind speed</th>\n",
       "      <th>Precipitation amount</th>\n",
       "      <th>query</th>\n",
       "      <th>Moon Phase calculator</th>\n",
       "    </tr>\n",
       "  </thead>\n",
       "  <tbody>\n",
       "    <tr>\n",
       "      <th>8</th>\n",
       "      <td>2021-07-11 15:00:00</td>\n",
       "      <td>23 °C\\n(3:00 pm CEST | Sunday, July 11, 2021)</td>\n",
       "      <td>average: 52% (50 to 53%)\\n(3:00 pm CEST | Sund...</td>\n",
       "      <td>1 m/s\\n(3:00 pm CEST | Sunday, July 11, 2021)</td>\n",
       "      <td>no precipitation\\n(3:00 pm CEST | Sunday, July...</td>\n",
       "      <td>Moon Phase calculatorJuly 11, 2021 15h</td>\n",
       "      <td>| waxing crescent moon\\n2.38% illuminated</td>\n",
       "    </tr>\n",
       "    <tr>\n",
       "      <th>9</th>\n",
       "      <td>2021-07-11 16:00:00</td>\n",
       "      <td>23 °C\\n(4:00 pm CEST | Sunday, July 11, 2021)</td>\n",
       "      <td>average: 55% (50 to 61%)\\n(4:00 pm CEST | Sund...</td>\n",
       "      <td>2 m/s\\n(4:00 pm CEST | Sunday, July 11, 2021)</td>\n",
       "      <td>no precipitation\\n(4:00 pm CEST | Sunday, July...</td>\n",
       "      <td>Moon Phase calculatorJuly 11, 2021 16h</td>\n",
       "      <td>| waxing crescent moon\\n2.51% illuminated</td>\n",
       "    </tr>\n",
       "  </tbody>\n",
       "</table>\n",
       "</div>"
      ],
      "text/plain": [
       "                 date                                    temperature  \\\n",
       "8 2021-07-11 15:00:00  23 °C\\n(3:00 pm CEST | Sunday, July 11, 2021)   \n",
       "9 2021-07-11 16:00:00  23 °C\\n(4:00 pm CEST | Sunday, July 11, 2021)   \n",
       "\n",
       "                                            humidity  \\\n",
       "8  average: 52% (50 to 53%)\\n(3:00 pm CEST | Sund...   \n",
       "9  average: 55% (50 to 61%)\\n(4:00 pm CEST | Sund...   \n",
       "\n",
       "                                      wind speed  \\\n",
       "8  1 m/s\\n(3:00 pm CEST | Sunday, July 11, 2021)   \n",
       "9  2 m/s\\n(4:00 pm CEST | Sunday, July 11, 2021)   \n",
       "\n",
       "                                Precipitation amount  \\\n",
       "8  no precipitation\\n(3:00 pm CEST | Sunday, July...   \n",
       "9  no precipitation\\n(4:00 pm CEST | Sunday, July...   \n",
       "\n",
       "                                    query  \\\n",
       "8  Moon Phase calculatorJuly 11, 2021 15h   \n",
       "9  Moon Phase calculatorJuly 11, 2021 16h   \n",
       "\n",
       "                       Moon Phase calculator  \n",
       "8  | waxing crescent moon\\n2.38% illuminated  \n",
       "9  | waxing crescent moon\\n2.51% illuminated  "
      ]
     },
     "metadata": {},
     "output_type": "display_data"
    },
    {
     "name": "stderr",
     "output_type": "stream",
     "text": [
      "\r",
      " 40%|██████████████████████████████▍                                             | 341/853 [1:55:53<2:50:19, 19.96s/it]"
     ]
    },
    {
     "name": "stdout",
     "output_type": "stream",
     "text": [
      "QUERY:  Precipitation amount in Zollikofen July 11, 2021 17h\n",
      "QUERY:  temperature in Zollikofen July 11, 2021 17h\n",
      "QUERY:  humidity in Zollikofen July 11, 2021 17h\n",
      "QUERY:  wind speed in Zollikofen July 11, 2021 17h\n",
      "QUERY:  Moon Phase calculatorJuly 11, 2021 17h\n"
     ]
    },
    {
     "name": "stderr",
     "output_type": "stream",
     "text": [
      "\r",
      " 40%|██████████████████████████████▍                                             | 342/853 [1:56:14<2:52:21, 20.24s/it]"
     ]
    },
    {
     "name": "stdout",
     "output_type": "stream",
     "text": [
      "QUERY:  Precipitation amount in Zollikofen July 11, 2021 18h\n",
      "QUERY:  temperature in Zollikofen July 11, 2021 18h\n",
      "QUERY:  humidity in Zollikofen July 11, 2021 18h\n",
      "QUERY:  wind speed in Zollikofen July 11, 2021 18h\n",
      "QUERY:  Moon Phase calculatorJuly 11, 2021 18h\n"
     ]
    },
    {
     "name": "stderr",
     "output_type": "stream",
     "text": [
      "\r",
      " 40%|██████████████████████████████▌                                             | 343/853 [1:56:34<2:53:05, 20.36s/it]"
     ]
    },
    {
     "name": "stdout",
     "output_type": "stream",
     "text": [
      "QUERY:  Precipitation amount in Zollikofen July 11, 2021 19h\n",
      "QUERY:  temperature in Zollikofen July 11, 2021 19h\n",
      "QUERY:  humidity in Zollikofen July 11, 2021 19h\n",
      "QUERY:  wind speed in Zollikofen July 11, 2021 19h\n",
      "QUERY:  Moon Phase calculatorJuly 11, 2021 19h\n"
     ]
    },
    {
     "name": "stderr",
     "output_type": "stream",
     "text": [
      "\r",
      " 40%|██████████████████████████████▋                                             | 344/853 [1:56:55<2:53:20, 20.43s/it]"
     ]
    },
    {
     "name": "stdout",
     "output_type": "stream",
     "text": [
      "QUERY:  Precipitation amount in Zollikofen July 11, 2021 20h\n",
      "QUERY:  temperature in Zollikofen July 11, 2021 20h\n",
      "QUERY:  humidity in Zollikofen July 11, 2021 20h\n",
      "QUERY:  wind speed in Zollikofen July 11, 2021 20h\n",
      "QUERY:  Moon Phase calculatorJuly 11, 2021 20h\n"
     ]
    },
    {
     "name": "stderr",
     "output_type": "stream",
     "text": [
      "\r",
      " 40%|██████████████████████████████▋                                             | 345/853 [1:57:15<2:52:30, 20.38s/it]"
     ]
    },
    {
     "name": "stdout",
     "output_type": "stream",
     "text": [
      "QUERY:  Precipitation amount in Zollikofen July 11, 2021 21h\n",
      "QUERY:  temperature in Zollikofen July 11, 2021 21h\n",
      "QUERY:  humidity in Zollikofen July 11, 2021 21h\n",
      "QUERY:  wind speed in Zollikofen July 11, 2021 21h\n",
      "QUERY:  Moon Phase calculatorJuly 11, 2021 21h\n"
     ]
    },
    {
     "name": "stderr",
     "output_type": "stream",
     "text": [
      "\r",
      " 41%|██████████████████████████████▊                                             | 346/853 [1:57:36<2:54:20, 20.63s/it]"
     ]
    },
    {
     "name": "stdout",
     "output_type": "stream",
     "text": [
      "QUERY:  Precipitation amount in Zollikofen July 11, 2021 22h\n",
      "QUERY:  temperature in Zollikofen July 11, 2021 22h\n",
      "QUERY:  humidity in Zollikofen July 11, 2021 22h\n",
      "QUERY:  wind speed in Zollikofen July 11, 2021 22h\n",
      "QUERY:  Moon Phase calculatorJuly 11, 2021 22h\n"
     ]
    },
    {
     "name": "stderr",
     "output_type": "stream",
     "text": [
      "\r",
      " 41%|██████████████████████████████▉                                             | 347/853 [1:57:58<2:55:51, 20.85s/it]"
     ]
    },
    {
     "name": "stdout",
     "output_type": "stream",
     "text": [
      "QUERY:  Precipitation amount in Zollikofen July 11, 2021 23h\n",
      "QUERY:  temperature in Zollikofen July 11, 2021 23h\n",
      "QUERY:  humidity in Zollikofen July 11, 2021 23h\n",
      "QUERY:  wind speed in Zollikofen July 11, 2021 23h\n",
      "QUERY:  Moon Phase calculatorJuly 11, 2021 23h\n"
     ]
    },
    {
     "name": "stderr",
     "output_type": "stream",
     "text": [
      "\r",
      " 41%|███████████████████████████████                                             | 348/853 [1:58:19<2:55:30, 20.85s/it]"
     ]
    },
    {
     "name": "stdout",
     "output_type": "stream",
     "text": [
      "QUERY:  Precipitation amount in Zollikofen July 12, 2021 0h\n",
      "QUERY:  temperature in Zollikofen July 12, 2021 0h\n",
      "QUERY:  humidity in Zollikofen July 12, 2021 0h\n",
      "QUERY:  wind speed in Zollikofen July 12, 2021 0h\n",
      "QUERY:  Moon Phase calculatorJuly 12, 2021 0h\n"
     ]
    },
    {
     "name": "stderr",
     "output_type": "stream",
     "text": [
      "\r",
      " 41%|███████████████████████████████                                             | 349/853 [1:58:39<2:53:10, 20.62s/it]"
     ]
    },
    {
     "name": "stdout",
     "output_type": "stream",
     "text": [
      "QUERY:  Precipitation amount in Zollikofen July 12, 2021 1h\n",
      "QUERY:  temperature in Zollikofen July 12, 2021 1h\n",
      "QUERY:  humidity in Zollikofen July 12, 2021 1h\n",
      "QUERY:  wind speed in Zollikofen July 12, 2021 1h\n",
      "QUERY:  Moon Phase calculatorJuly 12, 2021 1h\n"
     ]
    },
    {
     "name": "stderr",
     "output_type": "stream",
     "text": [
      "\r",
      " 41%|███████████████████████████████▏                                            | 350/853 [1:58:59<2:52:11, 20.54s/it]"
     ]
    },
    {
     "name": "stdout",
     "output_type": "stream",
     "text": [
      "QUERY:  Precipitation amount in Zollikofen July 12, 2021 2h\n",
      "QUERY:  temperature in Zollikofen July 12, 2021 2h\n",
      "QUERY:  humidity in Zollikofen July 12, 2021 2h\n",
      "QUERY:  wind speed in Zollikofen July 12, 2021 2h\n",
      "QUERY:  Moon Phase calculatorJuly 12, 2021 2h\n",
      "(6867, 7)\n"
     ]
    },
    {
     "data": {
      "text/html": [
       "<div>\n",
       "<style scoped>\n",
       "    .dataframe tbody tr th:only-of-type {\n",
       "        vertical-align: middle;\n",
       "    }\n",
       "\n",
       "    .dataframe tbody tr th {\n",
       "        vertical-align: top;\n",
       "    }\n",
       "\n",
       "    .dataframe thead th {\n",
       "        text-align: right;\n",
       "    }\n",
       "</style>\n",
       "<table border=\"1\" class=\"dataframe\">\n",
       "  <thead>\n",
       "    <tr style=\"text-align: right;\">\n",
       "      <th></th>\n",
       "      <th>date</th>\n",
       "      <th>temperature</th>\n",
       "      <th>humidity</th>\n",
       "      <th>wind speed</th>\n",
       "      <th>Precipitation amount</th>\n",
       "      <th>query</th>\n",
       "      <th>Moon Phase calculator</th>\n",
       "    </tr>\n",
       "  </thead>\n",
       "  <tbody>\n",
       "    <tr>\n",
       "      <th>8</th>\n",
       "      <td>2021-07-12 01:00:00</td>\n",
       "      <td>13 °C\\n(1:00 am CEST | Monday, July 12, 2021)</td>\n",
       "      <td>average: 94% (94%)\\n(1:00 am CEST | Monday, Ju...</td>\n",
       "      <td>1 m/s\\n(1:00 am CEST | Monday, July 12, 2021)</td>\n",
       "      <td>no precipitation\\n(1:00 am CEST | Monday, July...</td>\n",
       "      <td>Moon Phase calculatorJuly 12, 2021 1h</td>\n",
       "      <td>| waxing crescent moon\\n3.84% illuminated</td>\n",
       "    </tr>\n",
       "    <tr>\n",
       "      <th>9</th>\n",
       "      <td>2021-07-12 02:00:00</td>\n",
       "      <td>13 °C\\n(2:00 am CEST | Monday, July 12, 2021)</td>\n",
       "      <td>average: 94% (94%)\\n(2:00 am CEST | Monday, Ju...</td>\n",
       "      <td>0 m/s\\n(2:00 am CEST | Monday, July 12, 2021)</td>\n",
       "      <td>no precipitation\\n(2:00 am CEST | Monday, July...</td>\n",
       "      <td>Moon Phase calculatorJuly 12, 2021 2h</td>\n",
       "      <td>| waxing crescent moon\\n4.01% illuminated</td>\n",
       "    </tr>\n",
       "  </tbody>\n",
       "</table>\n",
       "</div>"
      ],
      "text/plain": [
       "                 date                                    temperature  \\\n",
       "8 2021-07-12 01:00:00  13 °C\\n(1:00 am CEST | Monday, July 12, 2021)   \n",
       "9 2021-07-12 02:00:00  13 °C\\n(2:00 am CEST | Monday, July 12, 2021)   \n",
       "\n",
       "                                            humidity  \\\n",
       "8  average: 94% (94%)\\n(1:00 am CEST | Monday, Ju...   \n",
       "9  average: 94% (94%)\\n(2:00 am CEST | Monday, Ju...   \n",
       "\n",
       "                                      wind speed  \\\n",
       "8  1 m/s\\n(1:00 am CEST | Monday, July 12, 2021)   \n",
       "9  0 m/s\\n(2:00 am CEST | Monday, July 12, 2021)   \n",
       "\n",
       "                                Precipitation amount  \\\n",
       "8  no precipitation\\n(1:00 am CEST | Monday, July...   \n",
       "9  no precipitation\\n(2:00 am CEST | Monday, July...   \n",
       "\n",
       "                                   query  \\\n",
       "8  Moon Phase calculatorJuly 12, 2021 1h   \n",
       "9  Moon Phase calculatorJuly 12, 2021 2h   \n",
       "\n",
       "                       Moon Phase calculator  \n",
       "8  | waxing crescent moon\\n3.84% illuminated  \n",
       "9  | waxing crescent moon\\n4.01% illuminated  "
      ]
     },
     "metadata": {},
     "output_type": "display_data"
    },
    {
     "name": "stderr",
     "output_type": "stream",
     "text": [
      "\r",
      " 41%|███████████████████████████████▎                                            | 351/853 [1:59:20<2:53:07, 20.69s/it]"
     ]
    },
    {
     "name": "stdout",
     "output_type": "stream",
     "text": [
      "QUERY:  Precipitation amount in Zollikofen July 12, 2021 3h\n",
      "QUERY:  temperature in Zollikofen July 12, 2021 3h\n",
      "QUERY:  humidity in Zollikofen July 12, 2021 3h\n",
      "QUERY:  wind speed in Zollikofen July 12, 2021 3h\n",
      "QUERY:  Moon Phase calculatorJuly 12, 2021 3h\n"
     ]
    },
    {
     "name": "stderr",
     "output_type": "stream",
     "text": [
      "\r",
      " 41%|███████████████████████████████▎                                            | 352/853 [1:59:44<2:59:36, 21.51s/it]"
     ]
    },
    {
     "name": "stdout",
     "output_type": "stream",
     "text": [
      "QUERY:  Precipitation amount in Zollikofen July 12, 2021 4h\n",
      "QUERY:  temperature in Zollikofen July 12, 2021 4h\n",
      "QUERY:  humidity in Zollikofen July 12, 2021 4h\n",
      "QUERY:  wind speed in Zollikofen July 12, 2021 4h\n",
      "QUERY:  Moon Phase calculatorJuly 12, 2021 4h\n"
     ]
    },
    {
     "name": "stderr",
     "output_type": "stream",
     "text": [
      "\r",
      " 41%|███████████████████████████████▍                                            | 353/853 [2:00:08<3:05:26, 22.25s/it]"
     ]
    },
    {
     "name": "stdout",
     "output_type": "stream",
     "text": [
      "QUERY:  Precipitation amount in Zollikofen July 12, 2021 5h\n",
      "QUERY:  temperature in Zollikofen July 12, 2021 5h\n",
      "QUERY:  humidity in Zollikofen July 12, 2021 5h\n",
      "QUERY:  wind speed in Zollikofen July 12, 2021 5h\n",
      "QUERY:  Moon Phase calculatorJuly 12, 2021 5h\n"
     ]
    },
    {
     "name": "stderr",
     "output_type": "stream",
     "text": [
      "\r",
      " 42%|███████████████████████████████▌                                            | 354/853 [2:00:30<3:06:36, 22.44s/it]"
     ]
    },
    {
     "name": "stdout",
     "output_type": "stream",
     "text": [
      "QUERY:  Precipitation amount in Zollikofen July 12, 2021 6h\n",
      "QUERY:  temperature in Zollikofen July 12, 2021 6h\n",
      "QUERY:  humidity in Zollikofen July 12, 2021 6h\n",
      "QUERY:  wind speed in Zollikofen July 12, 2021 6h\n",
      "QUERY:  Moon Phase calculatorJuly 12, 2021 6h\n"
     ]
    },
    {
     "name": "stderr",
     "output_type": "stream",
     "text": [
      "\r",
      " 42%|███████████████████████████████▋                                            | 355/853 [2:00:53<3:05:18, 22.33s/it]"
     ]
    },
    {
     "name": "stdout",
     "output_type": "stream",
     "text": [
      "QUERY:  Precipitation amount in Zollikofen July 12, 2021 7h\n",
      "QUERY:  temperature in Zollikofen July 12, 2021 7h\n",
      "QUERY:  humidity in Zollikofen July 12, 2021 7h\n",
      "QUERY:  wind speed in Zollikofen July 12, 2021 7h\n",
      "QUERY:  Moon Phase calculatorJuly 12, 2021 7h\n"
     ]
    },
    {
     "name": "stderr",
     "output_type": "stream",
     "text": [
      "\r",
      " 42%|███████████████████████████████▋                                            | 356/853 [2:01:13<3:01:33, 21.92s/it]"
     ]
    },
    {
     "name": "stdout",
     "output_type": "stream",
     "text": [
      "QUERY:  Precipitation amount in Zollikofen July 12, 2021 8h\n",
      "QUERY:  temperature in Zollikofen July 12, 2021 8h\n",
      "QUERY:  humidity in Zollikofen July 12, 2021 8h\n",
      "QUERY:  wind speed in Zollikofen July 12, 2021 8h\n",
      "QUERY:  Moon Phase calculatorJuly 12, 2021 8h\n"
     ]
    },
    {
     "name": "stderr",
     "output_type": "stream",
     "text": [
      "\r",
      " 42%|███████████████████████████████▊                                            | 357/853 [2:01:34<2:58:35, 21.60s/it]"
     ]
    },
    {
     "name": "stdout",
     "output_type": "stream",
     "text": [
      "QUERY:  Precipitation amount in Zollikofen July 12, 2021 9h\n",
      "QUERY:  temperature in Zollikofen July 12, 2021 9h\n",
      "QUERY:  humidity in Zollikofen July 12, 2021 9h\n",
      "QUERY:  wind speed in Zollikofen July 12, 2021 9h\n",
      "QUERY:  Moon Phase calculatorJuly 12, 2021 9h\n"
     ]
    },
    {
     "name": "stderr",
     "output_type": "stream",
     "text": [
      "\r",
      " 42%|███████████████████████████████▉                                            | 358/853 [2:01:55<2:54:53, 21.20s/it]"
     ]
    },
    {
     "name": "stdout",
     "output_type": "stream",
     "text": [
      "QUERY:  Precipitation amount in Zollikofen July 12, 2021 10h\n",
      "QUERY:  temperature in Zollikofen July 12, 2021 10h\n",
      "QUERY:  humidity in Zollikofen July 12, 2021 10h\n",
      "QUERY:  wind speed in Zollikofen July 12, 2021 10h\n",
      "QUERY:  Moon Phase calculatorJuly 12, 2021 10h\n"
     ]
    },
    {
     "name": "stderr",
     "output_type": "stream",
     "text": [
      "\r",
      " 42%|███████████████████████████████▉                                            | 359/853 [2:02:14<2:49:44, 20.62s/it]"
     ]
    },
    {
     "name": "stdout",
     "output_type": "stream",
     "text": [
      "QUERY:  Precipitation amount in Zollikofen July 12, 2021 11h\n",
      "QUERY:  temperature in Zollikofen July 12, 2021 11h\n",
      "ERROR: no data available-------------  temperature in Zollikofen July 12, 2021 11h\n",
      "ERROR:------------- name 'error' is not defined  ----------  temperature in Zollikofen July 12, 2021 11h\n",
      "QUERY:  humidity in Zollikofen July 12, 2021 11h\n",
      "ERROR: no data available-------------  humidity in Zollikofen July 12, 2021 11h\n",
      "ERROR:------------- name 'error' is not defined  ----------  humidity in Zollikofen July 12, 2021 11h\n",
      "QUERY:  wind speed in Zollikofen July 12, 2021 11h\n",
      "ERROR: no data available-------------  wind speed in Zollikofen July 12, 2021 11h\n",
      "ERROR:------------- name 'error' is not defined  ----------  wind speed in Zollikofen July 12, 2021 11h\n",
      "QUERY:  Moon Phase calculatorJuly 12, 2021 11h\n"
     ]
    },
    {
     "name": "stderr",
     "output_type": "stream",
     "text": [
      "100%|██████████████████████████████████████████████████████████████████████████████| 853/853 [2:02:34<00:00,  8.62s/it]"
     ]
    },
    {
     "name": "stdout",
     "output_type": "stream",
     "text": [
      "(6876, 7)\n"
     ]
    },
    {
     "name": "stderr",
     "output_type": "stream",
     "text": [
      "\n"
     ]
    },
    {
     "data": {
      "text/html": [
       "<div>\n",
       "<style scoped>\n",
       "    .dataframe tbody tr th:only-of-type {\n",
       "        vertical-align: middle;\n",
       "    }\n",
       "\n",
       "    .dataframe tbody tr th {\n",
       "        vertical-align: top;\n",
       "    }\n",
       "\n",
       "    .dataframe thead th {\n",
       "        text-align: right;\n",
       "    }\n",
       "</style>\n",
       "<table border=\"1\" class=\"dataframe\">\n",
       "  <thead>\n",
       "    <tr style=\"text-align: right;\">\n",
       "      <th></th>\n",
       "      <th>date</th>\n",
       "      <th>temperature</th>\n",
       "      <th>humidity</th>\n",
       "      <th>wind speed</th>\n",
       "      <th>Precipitation amount</th>\n",
       "      <th>query</th>\n",
       "      <th>Moon Phase calculator</th>\n",
       "    </tr>\n",
       "  </thead>\n",
       "  <tbody>\n",
       "    <tr>\n",
       "      <th>7</th>\n",
       "      <td>2021-07-12 10:00:00</td>\n",
       "      <td>20 °C\\n(10:00 am CEST | Monday, July 12, 2021)</td>\n",
       "      <td>average: 66% (64 to 68%)\\n(10:00 am CEST | Mon...</td>\n",
       "      <td>2 m/s\\n(10:00 am CEST | Monday, July 12, 2021)</td>\n",
       "      <td>no precipitation\\n(10:00 am CEST | Monday, Jul...</td>\n",
       "      <td>Moon Phase calculatorJuly 12, 2021 10h</td>\n",
       "      <td>| waxing crescent moon\\n5.45% illuminated</td>\n",
       "    </tr>\n",
       "    <tr>\n",
       "      <th>8</th>\n",
       "      <td>2021-07-12 11:00:00</td>\n",
       "      <td>ERROR</td>\n",
       "      <td>ERROR</td>\n",
       "      <td>ERROR</td>\n",
       "      <td>no precipitation\\n(11:00 am CEST | Monday, Jul...</td>\n",
       "      <td>Moon Phase calculatorJuly 12, 2021 11h</td>\n",
       "      <td>| waxing crescent moon\\n5.65% illuminated</td>\n",
       "    </tr>\n",
       "  </tbody>\n",
       "</table>\n",
       "</div>"
      ],
      "text/plain": [
       "                 date                                     temperature  \\\n",
       "7 2021-07-12 10:00:00  20 °C\\n(10:00 am CEST | Monday, July 12, 2021)   \n",
       "8 2021-07-12 11:00:00                                           ERROR   \n",
       "\n",
       "                                            humidity  \\\n",
       "7  average: 66% (64 to 68%)\\n(10:00 am CEST | Mon...   \n",
       "8                                              ERROR   \n",
       "\n",
       "                                       wind speed  \\\n",
       "7  2 m/s\\n(10:00 am CEST | Monday, July 12, 2021)   \n",
       "8                                           ERROR   \n",
       "\n",
       "                                Precipitation amount  \\\n",
       "7  no precipitation\\n(10:00 am CEST | Monday, Jul...   \n",
       "8  no precipitation\\n(11:00 am CEST | Monday, Jul...   \n",
       "\n",
       "                                    query  \\\n",
       "7  Moon Phase calculatorJuly 12, 2021 10h   \n",
       "8  Moon Phase calculatorJuly 12, 2021 11h   \n",
       "\n",
       "                       Moon Phase calculator  \n",
       "7  | waxing crescent moon\\n5.45% illuminated  \n",
       "8  | waxing crescent moon\\n5.65% illuminated  "
      ]
     },
     "metadata": {},
     "output_type": "display_data"
    }
   ],
   "source": [
    "#not same as : https://weather.plus/observations-weather-station.php?dest=Bern-Zollikofen&id=066310&type=synop&day=20200713, our\n",
    "#results are less consistent :( \n",
    "#ATTENTION: monthly api calls limited to 2'000\n",
    "#if not working, save query and results: \"ERROR\", but continue the other query from the same date\n",
    "#open if exist\n",
    "li_df = []\n",
    "for i,d in enumerate(tqdm.tqdm(Daterange)):\n",
    "    now_ = dt.datetime.now()\n",
    "    #dont get the data in advance\n",
    "    if d<now_:      \n",
    "        dico = {'date':d}\n",
    "        for type_ in li_type:\n",
    "            try:                    \n",
    "                query = '%s in Zollikofen '%type_+d.strftime('%B')+' '+str(d.day)+', '+str(d.year)+' '+str(d.hour)+'h'\n",
    "                if type_=='Moon Phase calculator':\n",
    "                    query = type_+d.strftime('%B')+' '+str(d.day)+', '+str(d.year)+' '+str(d.hour)+'h'                    \n",
    "                print('QUERY: ',query)\n",
    "                dico['query'] = query\n",
    "                res = client.query(query)\n",
    "                for t in res.results:\n",
    "                    if 'no data available' in t.text:\n",
    "                        print('ERROR: no data available------------- ', query)\n",
    "                        error\n",
    "                    dico[type_] = t.text\n",
    "            except Exception as e:\n",
    "                print('ERROR:-------------', e, ' ---------- ', query)\n",
    "                dico[type_] = 'ERROR'\n",
    "        li_df.append(dico)\n",
    "        dico = {}\n",
    "        if i%10==0:\n",
    "            df_ = pd.DataFrame(li_df)\n",
    "            df = pd.concat([df,df_])\n",
    "            df.to_csv(path_weather, index=False, sep=';')\n",
    "            li_df = []\n",
    "            print(df.shape)\n",
    "            display(df.tail(2))\n",
    "df_ = pd.DataFrame(li_df)\n",
    "df = pd.concat([df,df_])\n",
    "df.to_csv(path_weather, index=False, sep=';')\n",
    "print(df.shape)\n",
    "display(df.tail(2))"
   ]
  },
  {
   "cell_type": "code",
   "execution_count": 6,
   "metadata": {},
   "outputs": [
    {
     "name": "stdout",
     "output_type": "stream",
     "text": [
      "(68, 7)\n"
     ]
    },
    {
     "data": {
      "text/html": [
       "<div>\n",
       "<style scoped>\n",
       "    .dataframe tbody tr th:only-of-type {\n",
       "        vertical-align: middle;\n",
       "    }\n",
       "\n",
       "    .dataframe tbody tr th {\n",
       "        vertical-align: top;\n",
       "    }\n",
       "\n",
       "    .dataframe thead th {\n",
       "        text-align: right;\n",
       "    }\n",
       "</style>\n",
       "<table border=\"1\" class=\"dataframe\">\n",
       "  <thead>\n",
       "    <tr style=\"text-align: right;\">\n",
       "      <th></th>\n",
       "      <th>date</th>\n",
       "      <th>temperature</th>\n",
       "      <th>humidity</th>\n",
       "      <th>wind speed</th>\n",
       "      <th>Precipitation amount</th>\n",
       "      <th>query</th>\n",
       "      <th>Moon Phase calculator</th>\n",
       "    </tr>\n",
       "  </thead>\n",
       "  <tbody>\n",
       "    <tr>\n",
       "      <th>0</th>\n",
       "      <td>2020-11-05 22:00:00</td>\n",
       "      <td>8 °C\\n(10:00 pm CET | Thursday, November 5, 2020)</td>\n",
       "      <td>ERROR</td>\n",
       "      <td>1 m/s\\n(10:00 pm CET | Thursday, November 5, 2...</td>\n",
       "      <td>(unknown)\\n(10:00 pm CET | Thursday, November ...</td>\n",
       "      <td>Moon Phase calculatorNovember 5, 2020 22h</td>\n",
       "      <td>| waning gibbous moon\\n76.55% illuminated</td>\n",
       "    </tr>\n",
       "    <tr>\n",
       "      <th>0</th>\n",
       "      <td>2020-11-16 19:00:00</td>\n",
       "      <td>7 °C\\n(7:00 pm CET | Monday, November 16, 2020)</td>\n",
       "      <td>ERROR</td>\n",
       "      <td>1 m/s\\n(7:00 pm CET | Monday, November 16, 2020)</td>\n",
       "      <td>(unknown)\\n(7:00 pm CET | Monday, November 16,...</td>\n",
       "      <td>Moon Phase calculatorNovember 16, 2020 19h</td>\n",
       "      <td>| waxing crescent moon\\n3.48% illuminated</td>\n",
       "    </tr>\n",
       "    <tr>\n",
       "      <th>1</th>\n",
       "      <td>2020-11-16 21:00:00</td>\n",
       "      <td>5 °C\\n(9:00 pm CET | Monday, November 16, 2020)</td>\n",
       "      <td>ERROR</td>\n",
       "      <td>0 m/s\\n(9:00 pm CET | Monday, November 16, 2020)</td>\n",
       "      <td>(unknown)\\n(9:00 pm CET | Monday, November 16,...</td>\n",
       "      <td>Moon Phase calculatorNovember 16, 2020 21h</td>\n",
       "      <td>| waxing crescent moon\\n3.86% illuminated</td>\n",
       "    </tr>\n",
       "    <tr>\n",
       "      <th>2</th>\n",
       "      <td>2020-12-15 21:00:00</td>\n",
       "      <td>4 °C\\n(9:00 pm CET | Tuesday, December 15, 2020)</td>\n",
       "      <td>ERROR</td>\n",
       "      <td>1 m/s\\n(9:00 pm CET | Tuesday, December 15, 2020)</td>\n",
       "      <td>(unknown)\\n(9:00 pm CET | Tuesday, December 15...</td>\n",
       "      <td>Moon Phase calculatorDecember 15, 2020 21h</td>\n",
       "      <td>| waxing crescent moon\\n1.86% illuminated</td>\n",
       "    </tr>\n",
       "    <tr>\n",
       "      <th>3</th>\n",
       "      <td>2021-02-08 17:00:00</td>\n",
       "      <td>5 °C\\n(5:00 pm CET | Monday, February 8, 2021)</td>\n",
       "      <td>ERROR</td>\n",
       "      <td>5 m/s\\n(5:00 pm CET | Monday, February 8, 2021)</td>\n",
       "      <td>(unknown)\\n(5:00 pm CET | Monday, February 8, ...</td>\n",
       "      <td>Moon Phase calculatorFebruary 8, 2021 17h</td>\n",
       "      <td>| waning crescent moon\\n11.27% illuminated</td>\n",
       "    </tr>\n",
       "    <tr>\n",
       "      <th>...</th>\n",
       "      <td>...</td>\n",
       "      <td>...</td>\n",
       "      <td>...</td>\n",
       "      <td>...</td>\n",
       "      <td>...</td>\n",
       "      <td>...</td>\n",
       "      <td>...</td>\n",
       "    </tr>\n",
       "    <tr>\n",
       "      <th>2</th>\n",
       "      <td>2021-06-02 16:00:00</td>\n",
       "      <td>ERROR</td>\n",
       "      <td>average: 51% (50 to 53%)\\n(4:00 pm CEST | Wedn...</td>\n",
       "      <td>ERROR</td>\n",
       "      <td>no precipitation\\n(4:00 pm CEST | Wednesday, J...</td>\n",
       "      <td>Moon Phase calculatorJune 2, 2021 16h</td>\n",
       "      <td>| last quarter moon\\n47.33% illuminated</td>\n",
       "    </tr>\n",
       "    <tr>\n",
       "      <th>3</th>\n",
       "      <td>2021-06-04 23:00:00</td>\n",
       "      <td>16 °C\\n(11:00 pm CEST | Friday, June 4, 2021)</td>\n",
       "      <td>ERROR</td>\n",
       "      <td>3 m/s\\n(11:00 pm CEST | Friday, June 4, 2021)</td>\n",
       "      <td>rain\\n(11:00 pm CEST | Friday, June 4, 2021)</td>\n",
       "      <td>Moon Phase calculatorJune 4, 2021 23h</td>\n",
       "      <td>| waning crescent moon\\n25.75% illuminated</td>\n",
       "    </tr>\n",
       "    <tr>\n",
       "      <th>4</th>\n",
       "      <td>2021-06-08 20:00:00</td>\n",
       "      <td>17 °C\\n(8:00 pm CEST | Tuesday, June 8, 2021)</td>\n",
       "      <td>ERROR</td>\n",
       "      <td>0 m/s\\n(8:00 pm CEST | Tuesday, June 8, 2021)</td>\n",
       "      <td>rain\\n(8:00 pm CEST | Tuesday, June 8, 2021)</td>\n",
       "      <td>Moon Phase calculatorJune 8, 2021 20h</td>\n",
       "      <td>| waning crescent moon\\n2.62% illuminated</td>\n",
       "    </tr>\n",
       "    <tr>\n",
       "      <th>8</th>\n",
       "      <td>2021-06-22 06:00:00</td>\n",
       "      <td>15 °C\\n(6:00 am CEST | Tuesday, June 22, 2021)</td>\n",
       "      <td>ERROR</td>\n",
       "      <td>1 m/s\\n(6:00 am CEST | Tuesday, June 22, 2021)</td>\n",
       "      <td>no precipitation\\n(6:00 am CEST | Tuesday, Jun...</td>\n",
       "      <td>Moon Phase calculatorJune 22, 2021 6h</td>\n",
       "      <td>| waxing gibbous moon\\n90.22% illuminated</td>\n",
       "    </tr>\n",
       "    <tr>\n",
       "      <th>8</th>\n",
       "      <td>2021-07-12 11:00:00</td>\n",
       "      <td>ERROR</td>\n",
       "      <td>ERROR</td>\n",
       "      <td>ERROR</td>\n",
       "      <td>no precipitation\\n(11:00 am CEST | Monday, Jul...</td>\n",
       "      <td>Moon Phase calculatorJuly 12, 2021 11h</td>\n",
       "      <td>| waxing crescent moon\\n5.65% illuminated</td>\n",
       "    </tr>\n",
       "  </tbody>\n",
       "</table>\n",
       "<p>68 rows × 7 columns</p>\n",
       "</div>"
      ],
      "text/plain": [
       "                  date                                        temperature  \\\n",
       "0  2020-11-05 22:00:00  8 °C\\n(10:00 pm CET | Thursday, November 5, 2020)   \n",
       "0  2020-11-16 19:00:00    7 °C\\n(7:00 pm CET | Monday, November 16, 2020)   \n",
       "1  2020-11-16 21:00:00    5 °C\\n(9:00 pm CET | Monday, November 16, 2020)   \n",
       "2  2020-12-15 21:00:00   4 °C\\n(9:00 pm CET | Tuesday, December 15, 2020)   \n",
       "3  2021-02-08 17:00:00     5 °C\\n(5:00 pm CET | Monday, February 8, 2021)   \n",
       "..                 ...                                                ...   \n",
       "2  2021-06-02 16:00:00                                              ERROR   \n",
       "3  2021-06-04 23:00:00      16 °C\\n(11:00 pm CEST | Friday, June 4, 2021)   \n",
       "4  2021-06-08 20:00:00      17 °C\\n(8:00 pm CEST | Tuesday, June 8, 2021)   \n",
       "8  2021-06-22 06:00:00     15 °C\\n(6:00 am CEST | Tuesday, June 22, 2021)   \n",
       "8  2021-07-12 11:00:00                                              ERROR   \n",
       "\n",
       "                                             humidity  \\\n",
       "0                                               ERROR   \n",
       "0                                               ERROR   \n",
       "1                                               ERROR   \n",
       "2                                               ERROR   \n",
       "3                                               ERROR   \n",
       "..                                                ...   \n",
       "2   average: 51% (50 to 53%)\\n(4:00 pm CEST | Wedn...   \n",
       "3                                               ERROR   \n",
       "4                                               ERROR   \n",
       "8                                               ERROR   \n",
       "8                                               ERROR   \n",
       "\n",
       "                                           wind speed  \\\n",
       "0   1 m/s\\n(10:00 pm CET | Thursday, November 5, 2...   \n",
       "0    1 m/s\\n(7:00 pm CET | Monday, November 16, 2020)   \n",
       "1    0 m/s\\n(9:00 pm CET | Monday, November 16, 2020)   \n",
       "2   1 m/s\\n(9:00 pm CET | Tuesday, December 15, 2020)   \n",
       "3     5 m/s\\n(5:00 pm CET | Monday, February 8, 2021)   \n",
       "..                                                ...   \n",
       "2                                               ERROR   \n",
       "3       3 m/s\\n(11:00 pm CEST | Friday, June 4, 2021)   \n",
       "4       0 m/s\\n(8:00 pm CEST | Tuesday, June 8, 2021)   \n",
       "8      1 m/s\\n(6:00 am CEST | Tuesday, June 22, 2021)   \n",
       "8                                               ERROR   \n",
       "\n",
       "                                 Precipitation amount  \\\n",
       "0   (unknown)\\n(10:00 pm CET | Thursday, November ...   \n",
       "0   (unknown)\\n(7:00 pm CET | Monday, November 16,...   \n",
       "1   (unknown)\\n(9:00 pm CET | Monday, November 16,...   \n",
       "2   (unknown)\\n(9:00 pm CET | Tuesday, December 15...   \n",
       "3   (unknown)\\n(5:00 pm CET | Monday, February 8, ...   \n",
       "..                                                ...   \n",
       "2   no precipitation\\n(4:00 pm CEST | Wednesday, J...   \n",
       "3        rain\\n(11:00 pm CEST | Friday, June 4, 2021)   \n",
       "4        rain\\n(8:00 pm CEST | Tuesday, June 8, 2021)   \n",
       "8   no precipitation\\n(6:00 am CEST | Tuesday, Jun...   \n",
       "8   no precipitation\\n(11:00 am CEST | Monday, Jul...   \n",
       "\n",
       "                                         query  \\\n",
       "0    Moon Phase calculatorNovember 5, 2020 22h   \n",
       "0   Moon Phase calculatorNovember 16, 2020 19h   \n",
       "1   Moon Phase calculatorNovember 16, 2020 21h   \n",
       "2   Moon Phase calculatorDecember 15, 2020 21h   \n",
       "3    Moon Phase calculatorFebruary 8, 2021 17h   \n",
       "..                                         ...   \n",
       "2        Moon Phase calculatorJune 2, 2021 16h   \n",
       "3        Moon Phase calculatorJune 4, 2021 23h   \n",
       "4        Moon Phase calculatorJune 8, 2021 20h   \n",
       "8        Moon Phase calculatorJune 22, 2021 6h   \n",
       "8       Moon Phase calculatorJuly 12, 2021 11h   \n",
       "\n",
       "                         Moon Phase calculator  \n",
       "0    | waning gibbous moon\\n76.55% illuminated  \n",
       "0    | waxing crescent moon\\n3.48% illuminated  \n",
       "1    | waxing crescent moon\\n3.86% illuminated  \n",
       "2    | waxing crescent moon\\n1.86% illuminated  \n",
       "3   | waning crescent moon\\n11.27% illuminated  \n",
       "..                                         ...  \n",
       "2      | last quarter moon\\n47.33% illuminated  \n",
       "3   | waning crescent moon\\n25.75% illuminated  \n",
       "4    | waning crescent moon\\n2.62% illuminated  \n",
       "8    | waxing gibbous moon\\n90.22% illuminated  \n",
       "8    | waxing crescent moon\\n5.65% illuminated  \n",
       "\n",
       "[68 rows x 7 columns]"
      ]
     },
     "execution_count": 6,
     "metadata": {},
     "output_type": "execute_result"
    }
   ],
   "source": [
    "print(df[df.isin([\"ERROR\"]).any(axis=1)].shape)\n",
    "df[df.isin([\"ERROR\"]).any(axis=1)]"
   ]
  },
  {
   "cell_type": "markdown",
   "metadata": {},
   "source": [
    "df['day'] = df['date'].map(lambda x: dt.datetime.date(x))\n",
    "df['day'].value_counts()"
   ]
  },
  {
   "cell_type": "markdown",
   "metadata": {},
   "source": [
    "#add lune to weather data\n",
    "#dico_d_m = {}\n",
    "for d in tqdm.tqdm(Daterange):\n",
    "    now_ = dt.datetime.now()\n",
    "    #dont get the data in advance\n",
    "    if d<now_:   \n",
    "        if d not in dico_d_m:\n",
    "            try:\n",
    "                query = 'Moon Phase calculator'+d.strftime('%B')+' '+str(d.day)+', '+str(d.year)+' '+str(d.hour)+'h'\n",
    "                res = client.query(query) \n",
    "                for t in res.results:\n",
    "                    dico_d_m[d] = t.text.strip('|').strip(' ')\n",
    "            except Exception as e:\n",
    "                print('ERROR')\n",
    "                print(e)\n",
    "#df['Moon Phase calculator'] = df['date'].map(lambda x: dico_d_m.get(x, 'ERROR'))\n",
    "#print(df[df['Moonphase']=='ERROR'].shape)\n",
    "df"
   ]
  },
  {
   "cell_type": "markdown",
   "metadata": {},
   "source": [
    "df = df.drop(['MoonName','Moon Phase calculator'],axis=1)"
   ]
  },
  {
   "cell_type": "markdown",
   "metadata": {},
   "source": [
    "# Process"
   ]
  },
  {
   "cell_type": "code",
   "execution_count": 7,
   "metadata": {},
   "outputs": [
    {
     "name": "stdout",
     "output_type": "stream",
     "text": [
      "(6807, 13)\n"
     ]
    },
    {
     "data": {
      "text/html": [
       "<div>\n",
       "<style scoped>\n",
       "    .dataframe tbody tr th:only-of-type {\n",
       "        vertical-align: middle;\n",
       "    }\n",
       "\n",
       "    .dataframe tbody tr th {\n",
       "        vertical-align: top;\n",
       "    }\n",
       "\n",
       "    .dataframe thead th {\n",
       "        text-align: right;\n",
       "    }\n",
       "</style>\n",
       "<table border=\"1\" class=\"dataframe\">\n",
       "  <thead>\n",
       "    <tr style=\"text-align: right;\">\n",
       "      <th></th>\n",
       "      <th>Timestamp</th>\n",
       "      <th>temperature</th>\n",
       "      <th>humidity</th>\n",
       "      <th>wind speed</th>\n",
       "      <th>Precipitation amount</th>\n",
       "      <th>query</th>\n",
       "      <th>Moon Phase calculator</th>\n",
       "      <th>date</th>\n",
       "      <th>hour</th>\n",
       "      <th>temperature_C</th>\n",
       "      <th>wind_speed_mpers</th>\n",
       "      <th>humidity_avgpercent</th>\n",
       "      <th>rain</th>\n",
       "    </tr>\n",
       "  </thead>\n",
       "  <tbody>\n",
       "    <tr>\n",
       "      <th>0</th>\n",
       "      <td>2020-09-29 00:00:00</td>\n",
       "      <td>10 °C\\n(12:00 am CEST | Tuesday, September 29,...</td>\n",
       "      <td>average: 100% (100%)\\n(12:00 am CEST | Tuesday...</td>\n",
       "      <td>2 m/s\\n(12:00 am CEST | Tuesday, September 29,...</td>\n",
       "      <td>rain\\n(12:00 am CEST | Tuesday, September 29, ...</td>\n",
       "      <td>Moon Phase calculatorSeptember 29, 2020 0h</td>\n",
       "      <td>| waxing gibbous moon\\n91.87% illuminated</td>\n",
       "      <td>2020-09-29</td>\n",
       "      <td>0</td>\n",
       "      <td>10</td>\n",
       "      <td>2</td>\n",
       "      <td>100</td>\n",
       "      <td>rain</td>\n",
       "    </tr>\n",
       "    <tr>\n",
       "      <th>1</th>\n",
       "      <td>2020-09-29 01:00:00</td>\n",
       "      <td>10 °C\\n(1:00 am CEST | Tuesday, September 29, ...</td>\n",
       "      <td>average: 100% (100%)\\n(1:00 am CEST | Tuesday,...</td>\n",
       "      <td>3 m/s\\n(1:00 am CEST | Tuesday, September 29, ...</td>\n",
       "      <td>rain\\n(1:00 am CEST | Tuesday, September 29, 2...</td>\n",
       "      <td>Moon Phase calculatorSeptember 29, 2020 1h</td>\n",
       "      <td>| waxing gibbous moon\\n92.09% illuminated</td>\n",
       "      <td>2020-09-29</td>\n",
       "      <td>1</td>\n",
       "      <td>10</td>\n",
       "      <td>3</td>\n",
       "      <td>100</td>\n",
       "      <td>rain</td>\n",
       "    </tr>\n",
       "    <tr>\n",
       "      <th>2</th>\n",
       "      <td>2020-09-29 02:00:00</td>\n",
       "      <td>10 °C\\n(2:00 am CEST | Tuesday, September 29, ...</td>\n",
       "      <td>average: 100% (100%)\\n(2:00 am CEST | Tuesday,...</td>\n",
       "      <td>3 m/s\\n(2:00 am CEST | Tuesday, September 29, ...</td>\n",
       "      <td>rain\\n(2:00 am CEST | Tuesday, September 29, 2...</td>\n",
       "      <td>Moon Phase calculatorSeptember 29, 2020 2h</td>\n",
       "      <td>| waxing gibbous moon\\n92.30% illuminated</td>\n",
       "      <td>2020-09-29</td>\n",
       "      <td>2</td>\n",
       "      <td>10</td>\n",
       "      <td>3</td>\n",
       "      <td>100</td>\n",
       "      <td>rain</td>\n",
       "    </tr>\n",
       "  </tbody>\n",
       "</table>\n",
       "</div>"
      ],
      "text/plain": [
       "            Timestamp                                        temperature  \\\n",
       "0 2020-09-29 00:00:00  10 °C\\n(12:00 am CEST | Tuesday, September 29,...   \n",
       "1 2020-09-29 01:00:00  10 °C\\n(1:00 am CEST | Tuesday, September 29, ...   \n",
       "2 2020-09-29 02:00:00  10 °C\\n(2:00 am CEST | Tuesday, September 29, ...   \n",
       "\n",
       "                                            humidity  \\\n",
       "0  average: 100% (100%)\\n(12:00 am CEST | Tuesday...   \n",
       "1  average: 100% (100%)\\n(1:00 am CEST | Tuesday,...   \n",
       "2  average: 100% (100%)\\n(2:00 am CEST | Tuesday,...   \n",
       "\n",
       "                                          wind speed  \\\n",
       "0  2 m/s\\n(12:00 am CEST | Tuesday, September 29,...   \n",
       "1  3 m/s\\n(1:00 am CEST | Tuesday, September 29, ...   \n",
       "2  3 m/s\\n(2:00 am CEST | Tuesday, September 29, ...   \n",
       "\n",
       "                                Precipitation amount  \\\n",
       "0  rain\\n(12:00 am CEST | Tuesday, September 29, ...   \n",
       "1  rain\\n(1:00 am CEST | Tuesday, September 29, 2...   \n",
       "2  rain\\n(2:00 am CEST | Tuesday, September 29, 2...   \n",
       "\n",
       "                                        query  \\\n",
       "0  Moon Phase calculatorSeptember 29, 2020 0h   \n",
       "1  Moon Phase calculatorSeptember 29, 2020 1h   \n",
       "2  Moon Phase calculatorSeptember 29, 2020 2h   \n",
       "\n",
       "                       Moon Phase calculator       date  hour  temperature_C  \\\n",
       "0  | waxing gibbous moon\\n91.87% illuminated 2020-09-29     0             10   \n",
       "1  | waxing gibbous moon\\n92.09% illuminated 2020-09-29     1             10   \n",
       "2  | waxing gibbous moon\\n92.30% illuminated 2020-09-29     2             10   \n",
       "\n",
       "   wind_speed_mpers  humidity_avgpercent  rain  \n",
       "0                 2                  100  rain  \n",
       "1                 3                  100  rain  \n",
       "2                 3                  100  rain  "
      ]
     },
     "execution_count": 7,
     "metadata": {},
     "output_type": "execute_result"
    }
   ],
   "source": [
    "#add weather as environemntal factor\n",
    "path_ = r'C:\\Users\\camil\\Desktop\\vm_exchange\\PhD_Data\\Weather'\n",
    "path_weather = os.path.join(path_,'weather.csv')\n",
    "df_weather = pd.read_csv(path_weather, sep=';', parse_dates=['date'])\n",
    "df_weather = df_weather.drop_duplicates(subset=None, keep='first', inplace=False)\n",
    "#remove excpetions\n",
    "x = ', 1, 0,  , °, C, \\n, (, 1, 2, :, 0, 0,  , a, m,  , C, E, T , | , F, r, i, d, a, y, ,,  , O, c, t, o, b, e, r,  , 3, 0, ,,  , 2, 0, 2, 0, ),'\n",
    "df_weather['temperature'] = df_weather['temperature'].replace(x, x.replace(', ',''))\n",
    "x = '3×10^0 m/s\\n(1:00 pm CET | Sunday, January 10, 2021)'\n",
    "df_weather['wind speed'] = df_weather['wind speed'].replace(x, 'ERROR')\n",
    "#remove the rows with at least one error\n",
    "df_weather = df_weather[~df_weather.isin([\"ERROR\"]).any(axis=1)]\n",
    "#date\n",
    "df_weather.rename(columns={'date':'Timestamp'}, inplace=True)\n",
    "df_weather['date'] = df_weather['Timestamp'].map(lambda x: dt.datetime(x.year,x.month,x.day))\n",
    "df_weather['hour'] = df_weather['Timestamp'].map(lambda x: x.hour)\n",
    "#add usefull variable\n",
    "df_weather['temperature_C'] = df_weather['temperature'].map(lambda x: int(x.split('\\n')[0].split(' ')[0]))\n",
    "df_weather['wind_speed_mpers'] = df_weather['wind speed'].map(lambda x: int(x.split('\\n')[0].split(' ')[0]))\n",
    "df_weather['humidity_avgpercent'] = df_weather['humidity'].map(lambda x: int(x.split('%')[0].split(' ')[-1].strip()))\n",
    "df_weather['rain'] = df_weather['Precipitation amount'].map(lambda x: x.split('\\n')[0])\n",
    "df_weather['rain'] = df_weather['rain'].replace('rain | snow','snow | rain')\n",
    "df_weather.to_csv(os.path.join(path_,'Weather_process.csv'), index=False, sep=';')\n",
    "print(df_weather.shape)\n",
    "df_weather.head(3)"
   ]
  },
  {
   "cell_type": "code",
   "execution_count": 8,
   "metadata": {},
   "outputs": [
    {
     "data": {
      "text/html": [
       "<div>\n",
       "<style scoped>\n",
       "    .dataframe tbody tr th:only-of-type {\n",
       "        vertical-align: middle;\n",
       "    }\n",
       "\n",
       "    .dataframe tbody tr th {\n",
       "        vertical-align: top;\n",
       "    }\n",
       "\n",
       "    .dataframe thead th {\n",
       "        text-align: right;\n",
       "    }\n",
       "</style>\n",
       "<table border=\"1\" class=\"dataframe\">\n",
       "  <thead>\n",
       "    <tr style=\"text-align: right;\">\n",
       "      <th></th>\n",
       "      <th>Timestamp</th>\n",
       "      <th>temperature</th>\n",
       "      <th>humidity</th>\n",
       "      <th>wind speed</th>\n",
       "      <th>Precipitation amount</th>\n",
       "      <th>query</th>\n",
       "      <th>Moon Phase calculator</th>\n",
       "      <th>date</th>\n",
       "      <th>hour</th>\n",
       "      <th>temperature_C</th>\n",
       "      <th>wind_speed_mpers</th>\n",
       "      <th>humidity_avgpercent</th>\n",
       "      <th>rain</th>\n",
       "      <th>MoonName</th>\n",
       "      <th>Illumination_percentage</th>\n",
       "      <th>croissant_decroissant</th>\n",
       "    </tr>\n",
       "  </thead>\n",
       "  <tbody>\n",
       "    <tr>\n",
       "      <th>0</th>\n",
       "      <td>2020-09-29 00:00:00</td>\n",
       "      <td>10 °C\\n(12:00 am CEST | Tuesday, September 29,...</td>\n",
       "      <td>average: 100% (100%)\\n(12:00 am CEST | Tuesday...</td>\n",
       "      <td>2 m/s\\n(12:00 am CEST | Tuesday, September 29,...</td>\n",
       "      <td>rain\\n(12:00 am CEST | Tuesday, September 29, ...</td>\n",
       "      <td>Moon Phase calculatorSeptember 29, 2020 0h</td>\n",
       "      <td>| waxing gibbous moon\\n91.87% illuminated</td>\n",
       "      <td>2020-09-29</td>\n",
       "      <td>0</td>\n",
       "      <td>10</td>\n",
       "      <td>2</td>\n",
       "      <td>100</td>\n",
       "      <td>rain</td>\n",
       "      <td>waxing gibbous moon</td>\n",
       "      <td>91.87</td>\n",
       "      <td>LC</td>\n",
       "    </tr>\n",
       "    <tr>\n",
       "      <th>1</th>\n",
       "      <td>2020-09-29 01:00:00</td>\n",
       "      <td>10 °C\\n(1:00 am CEST | Tuesday, September 29, ...</td>\n",
       "      <td>average: 100% (100%)\\n(1:00 am CEST | Tuesday,...</td>\n",
       "      <td>3 m/s\\n(1:00 am CEST | Tuesday, September 29, ...</td>\n",
       "      <td>rain\\n(1:00 am CEST | Tuesday, September 29, 2...</td>\n",
       "      <td>Moon Phase calculatorSeptember 29, 2020 1h</td>\n",
       "      <td>| waxing gibbous moon\\n92.09% illuminated</td>\n",
       "      <td>2020-09-29</td>\n",
       "      <td>1</td>\n",
       "      <td>10</td>\n",
       "      <td>3</td>\n",
       "      <td>100</td>\n",
       "      <td>rain</td>\n",
       "      <td>waxing gibbous moon</td>\n",
       "      <td>92.09</td>\n",
       "      <td>LC</td>\n",
       "    </tr>\n",
       "    <tr>\n",
       "      <th>2</th>\n",
       "      <td>2020-09-29 02:00:00</td>\n",
       "      <td>10 °C\\n(2:00 am CEST | Tuesday, September 29, ...</td>\n",
       "      <td>average: 100% (100%)\\n(2:00 am CEST | Tuesday,...</td>\n",
       "      <td>3 m/s\\n(2:00 am CEST | Tuesday, September 29, ...</td>\n",
       "      <td>rain\\n(2:00 am CEST | Tuesday, September 29, 2...</td>\n",
       "      <td>Moon Phase calculatorSeptember 29, 2020 2h</td>\n",
       "      <td>| waxing gibbous moon\\n92.30% illuminated</td>\n",
       "      <td>2020-09-29</td>\n",
       "      <td>2</td>\n",
       "      <td>10</td>\n",
       "      <td>3</td>\n",
       "      <td>100</td>\n",
       "      <td>rain</td>\n",
       "      <td>waxing gibbous moon</td>\n",
       "      <td>92.30</td>\n",
       "      <td>LC</td>\n",
       "    </tr>\n",
       "  </tbody>\n",
       "</table>\n",
       "</div>"
      ],
      "text/plain": [
       "            Timestamp                                        temperature  \\\n",
       "0 2020-09-29 00:00:00  10 °C\\n(12:00 am CEST | Tuesday, September 29,...   \n",
       "1 2020-09-29 01:00:00  10 °C\\n(1:00 am CEST | Tuesday, September 29, ...   \n",
       "2 2020-09-29 02:00:00  10 °C\\n(2:00 am CEST | Tuesday, September 29, ...   \n",
       "\n",
       "                                            humidity  \\\n",
       "0  average: 100% (100%)\\n(12:00 am CEST | Tuesday...   \n",
       "1  average: 100% (100%)\\n(1:00 am CEST | Tuesday,...   \n",
       "2  average: 100% (100%)\\n(2:00 am CEST | Tuesday,...   \n",
       "\n",
       "                                          wind speed  \\\n",
       "0  2 m/s\\n(12:00 am CEST | Tuesday, September 29,...   \n",
       "1  3 m/s\\n(1:00 am CEST | Tuesday, September 29, ...   \n",
       "2  3 m/s\\n(2:00 am CEST | Tuesday, September 29, ...   \n",
       "\n",
       "                                Precipitation amount  \\\n",
       "0  rain\\n(12:00 am CEST | Tuesday, September 29, ...   \n",
       "1  rain\\n(1:00 am CEST | Tuesday, September 29, 2...   \n",
       "2  rain\\n(2:00 am CEST | Tuesday, September 29, 2...   \n",
       "\n",
       "                                        query  \\\n",
       "0  Moon Phase calculatorSeptember 29, 2020 0h   \n",
       "1  Moon Phase calculatorSeptember 29, 2020 1h   \n",
       "2  Moon Phase calculatorSeptember 29, 2020 2h   \n",
       "\n",
       "                       Moon Phase calculator       date  hour  temperature_C  \\\n",
       "0  | waxing gibbous moon\\n91.87% illuminated 2020-09-29     0             10   \n",
       "1  | waxing gibbous moon\\n92.09% illuminated 2020-09-29     1             10   \n",
       "2  | waxing gibbous moon\\n92.30% illuminated 2020-09-29     2             10   \n",
       "\n",
       "   wind_speed_mpers  humidity_avgpercent  rain             MoonName  \\\n",
       "0                 2                  100  rain  waxing gibbous moon   \n",
       "1                 3                  100  rain  waxing gibbous moon   \n",
       "2                 3                  100  rain  waxing gibbous moon   \n",
       "\n",
       "   Illumination_percentage croissant_decroissant  \n",
       "0                    91.87                    LC  \n",
       "1                    92.09                    LC  \n",
       "2                    92.30                    LC  "
      ]
     },
     "execution_count": 8,
     "metadata": {},
     "output_type": "execute_result"
    }
   ],
   "source": [
    "df_weather['MoonName'] = df_weather['Moon Phase calculator'].map(lambda x: x.strip('|').strip(' ').split('\\n')[0] if x!='ERROR' else 'ERROR')\n",
    "df_weather['Illumination_percentage'] = df_weather['Moon Phase calculator'].map(lambda x: float(x.strip('|').strip(' ').split('\\n')[1].replace(' illuminated','').strip('%').strip(' ')) if x!='ERROR' else 'ERROR')\n",
    "#print(df['MoaonName'].value_counts())\n",
    "#df['Illumination_percentage'].value_counts()\n",
    "\n",
    "dico_CD = {'ERROR':'ERROR', \n",
    "           'first quarter moon':'LC', \n",
    "           'full moon':'Lchangement', \n",
    "           'last quarter moon':'DC',\n",
    "           'new moon':'Lchangement', \n",
    "           'waning crescent moon':'DC', \n",
    "           'waning gibbous moon':'DC',\n",
    "           'waxing crescent moon':'LC', \n",
    "           'waxing gibbous moon':'LC'}\n",
    "#it seems that the order of the events are as follow:\n",
    "#full moon, waning gibbous moon, last quarter moon, waning crescent moon, \n",
    "#new moon, waxing crescent moon, first quarter moon, waxing gibbous moon,\n",
    "#full moon,...\n",
    "#defintion: De la Nouvelle Lune (éclat minimum) à la Pleine Lune (éclat maximum) on dit que la Lune est Croissante car \n",
    "#sa partie éclairée grossit de jour en jour. De la Pleine Lune à la Nouvelle Lune, on dit que la Lune est Décroissante.\n",
    "df_weather['croissant_decroissant'] = df_weather['MoonName'].map(lambda x: dico_CD[x])\n",
    "#lucie ascendatne et descendante n'est pas indiqué ici.\n",
    "df_weather.head(3)"
   ]
  },
  {
   "cell_type": "code",
   "execution_count": 9,
   "metadata": {},
   "outputs": [
    {
     "data": {
      "text/plain": [
       "DC             3248\n",
       "LC             3167\n",
       "Lchangement     392\n",
       "Name: croissant_decroissant, dtype: int64"
      ]
     },
     "execution_count": 9,
     "metadata": {},
     "output_type": "execute_result"
    }
   ],
   "source": [
    "df_weather['croissant_decroissant'].value_counts()"
   ]
  },
  {
   "cell_type": "code",
   "execution_count": 10,
   "metadata": {},
   "outputs": [
    {
     "data": {
      "text/html": [
       "<div>\n",
       "<style scoped>\n",
       "    .dataframe tbody tr th:only-of-type {\n",
       "        vertical-align: middle;\n",
       "    }\n",
       "\n",
       "    .dataframe tbody tr th {\n",
       "        vertical-align: top;\n",
       "    }\n",
       "\n",
       "    .dataframe thead th {\n",
       "        text-align: right;\n",
       "    }\n",
       "</style>\n",
       "<table border=\"1\" class=\"dataframe\">\n",
       "  <thead>\n",
       "    <tr style=\"text-align: right;\">\n",
       "      <th></th>\n",
       "      <th>MoonName</th>\n",
       "      <th>Illumination_percentage</th>\n",
       "      <th>min_illumination</th>\n",
       "      <th>max_illumination</th>\n",
       "    </tr>\n",
       "  </thead>\n",
       "  <tbody>\n",
       "    <tr>\n",
       "      <th>0</th>\n",
       "      <td>first quarter moon</td>\n",
       "      <td>[44.7, 45.14, 45.58, 46.02, 46.46, 46.9, 47.34...</td>\n",
       "      <td>44.69</td>\n",
       "      <td>55.25</td>\n",
       "    </tr>\n",
       "    <tr>\n",
       "      <th>1</th>\n",
       "      <td>full moon</td>\n",
       "      <td>[99.74, 99.76, 99.78, 99.79, 99.81, 99.82, 99....</td>\n",
       "      <td>99.72</td>\n",
       "      <td>100.00</td>\n",
       "    </tr>\n",
       "    <tr>\n",
       "      <th>2</th>\n",
       "      <td>last quarter moon</td>\n",
       "      <td>[55.07, 54.65, 54.23, 53.81, 53.39, 52.96, 52....</td>\n",
       "      <td>44.73</td>\n",
       "      <td>55.22</td>\n",
       "    </tr>\n",
       "    <tr>\n",
       "      <th>3</th>\n",
       "      <td>new moon</td>\n",
       "      <td>[0.27, 0.23, 0.21, 0.18, 0.16, 0.15, 0.14, 0.1...</td>\n",
       "      <td>0.00</td>\n",
       "      <td>0.28</td>\n",
       "    </tr>\n",
       "    <tr>\n",
       "      <th>4</th>\n",
       "      <td>waning crescent moon</td>\n",
       "      <td>[44.38, 43.95, 43.51, 43.08, 42.65, 42.21, 41....</td>\n",
       "      <td>0.29</td>\n",
       "      <td>44.68</td>\n",
       "    </tr>\n",
       "    <tr>\n",
       "      <th>5</th>\n",
       "      <td>waning gibbous moon</td>\n",
       "      <td>[99.71, 99.68, 99.65, 99.61, 99.58, 99.54, 99....</td>\n",
       "      <td>55.34</td>\n",
       "      <td>99.72</td>\n",
       "    </tr>\n",
       "    <tr>\n",
       "      <th>6</th>\n",
       "      <td>waxing crescent moon</td>\n",
       "      <td>[0.32, 0.37, 0.42, 0.48, 0.54, 0.61, 0.68, 0.7...</td>\n",
       "      <td>0.28</td>\n",
       "      <td>44.69</td>\n",
       "    </tr>\n",
       "    <tr>\n",
       "      <th>7</th>\n",
       "      <td>waxing gibbous moon</td>\n",
       "      <td>[91.87, 92.09, 92.3, 92.51, 92.73, 92.93, 93.1...</td>\n",
       "      <td>55.34</td>\n",
       "      <td>99.71</td>\n",
       "    </tr>\n",
       "  </tbody>\n",
       "</table>\n",
       "</div>"
      ],
      "text/plain": [
       "               MoonName                            Illumination_percentage  \\\n",
       "0    first quarter moon  [44.7, 45.14, 45.58, 46.02, 46.46, 46.9, 47.34...   \n",
       "1             full moon  [99.74, 99.76, 99.78, 99.79, 99.81, 99.82, 99....   \n",
       "2     last quarter moon  [55.07, 54.65, 54.23, 53.81, 53.39, 52.96, 52....   \n",
       "3              new moon  [0.27, 0.23, 0.21, 0.18, 0.16, 0.15, 0.14, 0.1...   \n",
       "4  waning crescent moon  [44.38, 43.95, 43.51, 43.08, 42.65, 42.21, 41....   \n",
       "5   waning gibbous moon  [99.71, 99.68, 99.65, 99.61, 99.58, 99.54, 99....   \n",
       "6  waxing crescent moon  [0.32, 0.37, 0.42, 0.48, 0.54, 0.61, 0.68, 0.7...   \n",
       "7   waxing gibbous moon  [91.87, 92.09, 92.3, 92.51, 92.73, 92.93, 93.1...   \n",
       "\n",
       "   min_illumination  max_illumination  \n",
       "0             44.69             55.25  \n",
       "1             99.72            100.00  \n",
       "2             44.73             55.22  \n",
       "3              0.00              0.28  \n",
       "4              0.29             44.68  \n",
       "5             55.34             99.72  \n",
       "6              0.28             44.69  \n",
       "7             55.34             99.71  "
      ]
     },
     "execution_count": 10,
     "metadata": {},
     "output_type": "execute_result"
    }
   ],
   "source": [
    "#to get a general udnerstanding of the data\n",
    "df_moon = df_weather.groupby(['MoonName'])['Illumination_percentage'].agg(lambda x: list(x)).reset_index()\n",
    "df_moon['min_illumination'] = df_moon['Illumination_percentage'].map(lambda x: min(x) if x!='ERROR' else 'ERROR' )\n",
    "df_moon['max_illumination'] = df_moon['Illumination_percentage'].map(lambda x: max(x) if x!='ERROR' else 'ERROR' )\n",
    "df_moon"
   ]
  },
  {
   "cell_type": "code",
   "execution_count": 11,
   "metadata": {},
   "outputs": [
    {
     "data": {
      "text/plain": [
       "'Moon Phase calculatorSeptember 29, 2020 0h'"
      ]
     },
     "execution_count": 11,
     "metadata": {},
     "output_type": "execute_result"
    }
   ],
   "source": [
    "df_weather['query'].iloc[0]"
   ]
  },
  {
   "cell_type": "code",
   "execution_count": 12,
   "metadata": {},
   "outputs": [
    {
     "name": "stdout",
     "output_type": "stream",
     "text": [
      "(285, 6)\n"
     ]
    },
    {
     "data": {
      "text/html": [
       "<div>\n",
       "<style scoped>\n",
       "    .dataframe tbody tr th:only-of-type {\n",
       "        vertical-align: middle;\n",
       "    }\n",
       "\n",
       "    .dataframe tbody tr th {\n",
       "        vertical-align: top;\n",
       "    }\n",
       "\n",
       "    .dataframe thead th {\n",
       "        text-align: right;\n",
       "    }\n",
       "</style>\n",
       "<table border=\"1\" class=\"dataframe\">\n",
       "  <thead>\n",
       "    <tr style=\"text-align: right;\">\n",
       "      <th></th>\n",
       "      <th>date</th>\n",
       "      <th>temperature_C</th>\n",
       "      <th>humidity_avgpercent</th>\n",
       "      <th>had_rainorsnow</th>\n",
       "      <th>moon_name</th>\n",
       "      <th>Illumination_percentage</th>\n",
       "    </tr>\n",
       "  </thead>\n",
       "  <tbody>\n",
       "    <tr>\n",
       "      <th>0</th>\n",
       "      <td>2020-09-29</td>\n",
       "      <td>12.000</td>\n",
       "      <td>92.125</td>\n",
       "      <td>0</td>\n",
       "      <td>waxing gibbous moon</td>\n",
       "      <td>94.56625</td>\n",
       "    </tr>\n",
       "    <tr>\n",
       "      <th>1</th>\n",
       "      <td>2020-09-30</td>\n",
       "      <td>12.250</td>\n",
       "      <td>80.125</td>\n",
       "      <td>1</td>\n",
       "      <td>waxing gibbous moon</td>\n",
       "      <td>98.01625</td>\n",
       "    </tr>\n",
       "    <tr>\n",
       "      <th>2</th>\n",
       "      <td>2020-10-01</td>\n",
       "      <td>14.125</td>\n",
       "      <td>74.875</td>\n",
       "      <td>0</td>\n",
       "      <td>waxing gibbous moon</td>\n",
       "      <td>99.66250</td>\n",
       "    </tr>\n",
       "  </tbody>\n",
       "</table>\n",
       "</div>"
      ],
      "text/plain": [
       "        date  temperature_C  humidity_avgpercent  had_rainorsnow  \\\n",
       "0 2020-09-29         12.000               92.125               0   \n",
       "1 2020-09-30         12.250               80.125               1   \n",
       "2 2020-10-01         14.125               74.875               0   \n",
       "\n",
       "             moon_name  Illumination_percentage  \n",
       "0  waxing gibbous moon                 94.56625  \n",
       "1  waxing gibbous moon                 98.01625  \n",
       "2  waxing gibbous moon                 99.66250  "
      ]
     },
     "execution_count": 12,
     "metadata": {},
     "output_type": "execute_result"
    }
   ],
   "source": [
    "df_daily_weather = df_weather[df_weather['hour'].isin([10,11,12,13,14,15,16,17])].copy()\n",
    "df_daily_weather = df_daily_weather.groupby(['date']).agg(\n",
    "    temperature_C=pd.NamedAgg(column='temperature_C', aggfunc=lambda x: np.mean(x)),\n",
    "    humidity_avgpercent=pd.NamedAgg(column='humidity_avgpercent', aggfunc=lambda x: np.mean(x)),\n",
    "    had_rainorsnow=pd.NamedAgg(column='rain', aggfunc=lambda x: int(all([i=='no precipitation' for i in x]))),\n",
    "    moon_name=pd.NamedAgg(column='MoonName', aggfunc=lambda x: list(x)[0]),\n",
    "    Illumination_percentage=pd.NamedAgg(column='Illumination_percentage', aggfunc=lambda x: np.mean(x))).reset_index()\n",
    "df_daily_weather.to_csv(os.path.join(path_,'df_daily_weather.csv'), index=False, sep=';')\n",
    "print(df_daily_weather.shape)\n",
    "df_daily_weather.head(3)"
   ]
  },
  {
   "cell_type": "code",
   "execution_count": 13,
   "metadata": {},
   "outputs": [
    {
     "data": {
      "text/plain": [
       "had_rainorsnow\n",
       "0    80.650915\n",
       "1    63.768614\n",
       "Name: humidity_avgpercent, dtype: float64"
      ]
     },
     "execution_count": 13,
     "metadata": {},
     "output_type": "execute_result"
    }
   ],
   "source": [
    "df_daily_weather.groupby(['had_rainorsnow'])['humidity_avgpercent'].agg(lambda x: np.mean(x))"
   ]
  },
  {
   "cell_type": "code",
   "execution_count": null,
   "metadata": {},
   "outputs": [],
   "source": []
  },
  {
   "cell_type": "code",
   "execution_count": null,
   "metadata": {},
   "outputs": [],
   "source": []
  },
  {
   "cell_type": "code",
   "execution_count": null,
   "metadata": {},
   "outputs": [],
   "source": []
  },
  {
   "cell_type": "code",
   "execution_count": null,
   "metadata": {},
   "outputs": [],
   "source": []
  },
  {
   "cell_type": "code",
   "execution_count": null,
   "metadata": {},
   "outputs": [],
   "source": []
  },
  {
   "cell_type": "code",
   "execution_count": null,
   "metadata": {},
   "outputs": [],
   "source": []
  },
  {
   "cell_type": "code",
   "execution_count": null,
   "metadata": {},
   "outputs": [],
   "source": []
  }
 ],
 "metadata": {
  "kernelspec": {
   "display_name": "Python 3",
   "language": "python",
   "name": "python3"
  },
  "language_info": {
   "codemirror_mode": {
    "name": "ipython",
    "version": 3
   },
   "file_extension": ".py",
   "mimetype": "text/x-python",
   "name": "python",
   "nbconvert_exporter": "python",
   "pygments_lexer": "ipython3",
   "version": "3.8.5"
  }
 },
 "nbformat": 4,
 "nbformat_minor": 2
}
