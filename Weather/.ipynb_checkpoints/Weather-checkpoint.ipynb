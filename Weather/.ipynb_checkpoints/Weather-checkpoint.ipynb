{
 "cells": [
  {
   "cell_type": "code",
   "execution_count": 1,
   "metadata": {},
   "outputs": [],
   "source": [
    "#!pip install wolframalpha\n",
    "import datetime as dt\n",
    "import tqdm\n",
    "import os\n",
    "import pandas as pd\n",
    "import glob\n",
    "import numpy as np\n",
    "import sys\n",
    "\n",
    "import wolframalpha\n",
    "app_id = 'JU4PR2-E8JGQVLHXW'\n",
    "client = wolframalpha.Client(app_id)"
   ]
  },
  {
   "cell_type": "code",
   "execution_count": 2,
   "metadata": {},
   "outputs": [
    {
     "name": "stdout",
     "output_type": "stream",
     "text": [
      "3.8.5\n"
     ]
    }
   ],
   "source": [
    "from platform import python_version\n",
    "print(python_version())"
   ]
  },
  {
   "cell_type": "raw",
   "metadata": {},
   "source": [
    "To verify moon data:\n",
    "https://www.calendrier-lunaire.fr/calendrier/octobre-2020/\n",
    "https://www.pleine-lune.org/calendrier-lunaire-2020\n",
    "https://www.timeanddate.com/astronomy/moon/waning-crescent.html"
   ]
  },
  {
   "cell_type": "raw",
   "metadata": {},
   "source": [
    "#url parameter:\n",
    "#https://products.wolframalpha.com/simple-api/documentation/\n",
    "#http://api.wolframalpha.com/v2/query?appid=DEMO&input=population%20france&includepodid=Result\n",
    "http://api.wolframalpha.com/v2/query?appid=JU4PR2-E8JGQVLHXW&input=temperature%20Zollikofen&includepodid=Result"
   ]
  },
  {
   "cell_type": "markdown",
   "metadata": {},
   "source": [
    "#small example\n",
    "query = 'Precipitation amount in Zollikofen on October 6, 2020 1h'\n",
    "res = client.query(query)\n",
    "for t in res.results:\n",
    "    print(t.text)"
   ]
  },
  {
   "cell_type": "markdown",
   "metadata": {},
   "source": [
    "#small example\n",
    "query = 'Precipitation amount in Zollikofen '+d.strftime('%B')+' '+str(d.day)+', '+str(d.year)+' '+str(d.hour)+'h'\n",
    "res = client.query(query)\n",
    "for t in res.results:\n",
    "    print(t.text)"
   ]
  },
  {
   "cell_type": "markdown",
   "metadata": {},
   "source": [
    "#small example\n",
    "d = dt.datetime(2020,1,24,22,44,11)\n",
    "query = 'Moon Phase calculator'+d.strftime('%B')+' '+str(d.day)+', '+str(d.year)+' '+str(d.hour)+'h'\n",
    "res = client.query(query)\n",
    "r = ''\n",
    "for t in res.results:\n",
    "    print(t.text.strip('|').strip(' '))\n",
    "#for verification\n",
    "#https://www.pleine-lune.org/calendrier-lunaire-2020\n",
    "#res"
   ]
  },
  {
   "cell_type": "code",
   "execution_count": 3,
   "metadata": {},
   "outputs": [],
   "source": [
    "li_type = ['Precipitation amount', 'temperature', 'humidity', 'wind speed','Moon Phase calculator'] #pressure\n",
    "#path_ = r'D:\\vm_exchange\\PhD_Data\\Weather'\n",
    "path_ = r'C:\\Users\\camil\\Desktop\\vm_exchange\\PhD_Data\\Weather'"
   ]
  },
  {
   "cell_type": "code",
   "execution_count": 4,
   "metadata": {},
   "outputs": [
    {
     "name": "stdout",
     "output_type": "stream",
     "text": [
      "(5867, 7)\n",
      "We already have 5867 dates of weather\n",
      "(62, 7)\n"
     ]
    },
    {
     "data": {
      "text/html": [
       "<div>\n",
       "<style scoped>\n",
       "    .dataframe tbody tr th:only-of-type {\n",
       "        vertical-align: middle;\n",
       "    }\n",
       "\n",
       "    .dataframe tbody tr th {\n",
       "        vertical-align: top;\n",
       "    }\n",
       "\n",
       "    .dataframe thead th {\n",
       "        text-align: right;\n",
       "    }\n",
       "</style>\n",
       "<table border=\"1\" class=\"dataframe\">\n",
       "  <thead>\n",
       "    <tr style=\"text-align: right;\">\n",
       "      <th></th>\n",
       "      <th>date</th>\n",
       "      <th>temperature</th>\n",
       "      <th>humidity</th>\n",
       "      <th>wind speed</th>\n",
       "      <th>Precipitation amount</th>\n",
       "      <th>query</th>\n",
       "      <th>Moon Phase calculator</th>\n",
       "    </tr>\n",
       "  </thead>\n",
       "  <tbody>\n",
       "    <tr>\n",
       "      <th>5660</th>\n",
       "      <td>2020-11-05 22:00:00</td>\n",
       "      <td>8 °C\\n(10:00 pm CET | Thursday, November 5, 2020)</td>\n",
       "      <td>ERROR</td>\n",
       "      <td>1 m/s\\n(10:00 pm CET | Thursday, November 5, 2...</td>\n",
       "      <td>(unknown)\\n(10:00 pm CET | Thursday, November ...</td>\n",
       "      <td>Moon Phase calculatorNovember 5, 2020 22h</td>\n",
       "      <td>| waning gibbous moon\\n76.55% illuminated</td>\n",
       "    </tr>\n",
       "    <tr>\n",
       "      <th>5661</th>\n",
       "      <td>2020-11-16 19:00:00</td>\n",
       "      <td>7 °C\\n(7:00 pm CET | Monday, November 16, 2020)</td>\n",
       "      <td>ERROR</td>\n",
       "      <td>1 m/s\\n(7:00 pm CET | Monday, November 16, 2020)</td>\n",
       "      <td>(unknown)\\n(7:00 pm CET | Monday, November 16,...</td>\n",
       "      <td>Moon Phase calculatorNovember 16, 2020 19h</td>\n",
       "      <td>| waxing crescent moon\\n3.48% illuminated</td>\n",
       "    </tr>\n",
       "    <tr>\n",
       "      <th>5662</th>\n",
       "      <td>2020-11-16 21:00:00</td>\n",
       "      <td>5 °C\\n(9:00 pm CET | Monday, November 16, 2020)</td>\n",
       "      <td>ERROR</td>\n",
       "      <td>0 m/s\\n(9:00 pm CET | Monday, November 16, 2020)</td>\n",
       "      <td>(unknown)\\n(9:00 pm CET | Monday, November 16,...</td>\n",
       "      <td>Moon Phase calculatorNovember 16, 2020 21h</td>\n",
       "      <td>| waxing crescent moon\\n3.86% illuminated</td>\n",
       "    </tr>\n",
       "    <tr>\n",
       "      <th>5663</th>\n",
       "      <td>2020-12-15 21:00:00</td>\n",
       "      <td>4 °C\\n(9:00 pm CET | Tuesday, December 15, 2020)</td>\n",
       "      <td>ERROR</td>\n",
       "      <td>1 m/s\\n(9:00 pm CET | Tuesday, December 15, 2020)</td>\n",
       "      <td>(unknown)\\n(9:00 pm CET | Tuesday, December 15...</td>\n",
       "      <td>Moon Phase calculatorDecember 15, 2020 21h</td>\n",
       "      <td>| waxing crescent moon\\n1.86% illuminated</td>\n",
       "    </tr>\n",
       "    <tr>\n",
       "      <th>5664</th>\n",
       "      <td>2021-02-08 17:00:00</td>\n",
       "      <td>5 °C\\n(5:00 pm CET | Monday, February 8, 2021)</td>\n",
       "      <td>ERROR</td>\n",
       "      <td>5 m/s\\n(5:00 pm CET | Monday, February 8, 2021)</td>\n",
       "      <td>(unknown)\\n(5:00 pm CET | Monday, February 8, ...</td>\n",
       "      <td>Moon Phase calculatorFebruary 8, 2021 17h</td>\n",
       "      <td>| waning crescent moon\\n11.27% illuminated</td>\n",
       "    </tr>\n",
       "    <tr>\n",
       "      <th>...</th>\n",
       "      <td>...</td>\n",
       "      <td>...</td>\n",
       "      <td>...</td>\n",
       "      <td>...</td>\n",
       "      <td>...</td>\n",
       "      <td>...</td>\n",
       "      <td>...</td>\n",
       "    </tr>\n",
       "    <tr>\n",
       "      <th>5717</th>\n",
       "      <td>2021-05-15 21:00:00</td>\n",
       "      <td>8 °C\\n(9:00 pm CEST | Saturday, May 15, 2021)</td>\n",
       "      <td>ERROR</td>\n",
       "      <td>2 m/s\\n(9:00 pm CEST | Saturday, May 15, 2021)</td>\n",
       "      <td>(unknown)\\n(9:00 pm CEST | Saturday, May 15, 2...</td>\n",
       "      <td>Moon Phase calculatorMay 15, 2021 21h</td>\n",
       "      <td>| waxing crescent moon\\n13.88% illuminated</td>\n",
       "    </tr>\n",
       "    <tr>\n",
       "      <th>5718</th>\n",
       "      <td>2021-05-15 22:00:00</td>\n",
       "      <td>ERROR</td>\n",
       "      <td>ERROR</td>\n",
       "      <td>ERROR</td>\n",
       "      <td>(unknown)\\n(10:00 pm CEST | Saturday, May 15, ...</td>\n",
       "      <td>Moon Phase calculatorMay 15, 2021 22h</td>\n",
       "      <td>| waxing crescent moon\\n14.16% illuminated</td>\n",
       "    </tr>\n",
       "    <tr>\n",
       "      <th>5719</th>\n",
       "      <td>2021-05-15 23:00:00</td>\n",
       "      <td>ERROR</td>\n",
       "      <td>ERROR</td>\n",
       "      <td>ERROR</td>\n",
       "      <td>(unknown)\\n(11:00 pm CEST | Saturday, May 15, ...</td>\n",
       "      <td>Moon Phase calculatorMay 15, 2021 23h</td>\n",
       "      <td>| waxing crescent moon\\n14.45% illuminated</td>\n",
       "    </tr>\n",
       "    <tr>\n",
       "      <th>5744</th>\n",
       "      <td>2021-05-26 08:00:00</td>\n",
       "      <td>11 °C\\n(8:00 am CEST | Wednesday, May 26, 2021)</td>\n",
       "      <td>ERROR</td>\n",
       "      <td>4 m/s\\n(8:00 am CEST | Wednesday, May 26, 2021)</td>\n",
       "      <td>no precipitation\\n(8:00 am CEST | Wednesday, M...</td>\n",
       "      <td>Moon Phase calculatorMay 26, 2021 8h</td>\n",
       "      <td>| full moon\\n99.92% illuminated</td>\n",
       "    </tr>\n",
       "    <tr>\n",
       "      <th>5866</th>\n",
       "      <td>2021-05-31 10:00:00</td>\n",
       "      <td>ERROR</td>\n",
       "      <td>ERROR</td>\n",
       "      <td>ERROR</td>\n",
       "      <td>(unknown)\\n(10:00 am CEST | Monday, May 31, 2021)</td>\n",
       "      <td>Moon Phase calculatorMay 31, 2021 10h</td>\n",
       "      <td>| waning gibbous moon\\n70.40% illuminated</td>\n",
       "    </tr>\n",
       "  </tbody>\n",
       "</table>\n",
       "<p>62 rows × 7 columns</p>\n",
       "</div>"
      ],
      "text/plain": [
       "                    date                                        temperature  \\\n",
       "5660 2020-11-05 22:00:00  8 °C\\n(10:00 pm CET | Thursday, November 5, 2020)   \n",
       "5661 2020-11-16 19:00:00    7 °C\\n(7:00 pm CET | Monday, November 16, 2020)   \n",
       "5662 2020-11-16 21:00:00    5 °C\\n(9:00 pm CET | Monday, November 16, 2020)   \n",
       "5663 2020-12-15 21:00:00   4 °C\\n(9:00 pm CET | Tuesday, December 15, 2020)   \n",
       "5664 2021-02-08 17:00:00     5 °C\\n(5:00 pm CET | Monday, February 8, 2021)   \n",
       "...                  ...                                                ...   \n",
       "5717 2021-05-15 21:00:00      8 °C\\n(9:00 pm CEST | Saturday, May 15, 2021)   \n",
       "5718 2021-05-15 22:00:00                                              ERROR   \n",
       "5719 2021-05-15 23:00:00                                              ERROR   \n",
       "5744 2021-05-26 08:00:00    11 °C\\n(8:00 am CEST | Wednesday, May 26, 2021)   \n",
       "5866 2021-05-31 10:00:00                                              ERROR   \n",
       "\n",
       "     humidity                                         wind speed  \\\n",
       "5660    ERROR  1 m/s\\n(10:00 pm CET | Thursday, November 5, 2...   \n",
       "5661    ERROR   1 m/s\\n(7:00 pm CET | Monday, November 16, 2020)   \n",
       "5662    ERROR   0 m/s\\n(9:00 pm CET | Monday, November 16, 2020)   \n",
       "5663    ERROR  1 m/s\\n(9:00 pm CET | Tuesday, December 15, 2020)   \n",
       "5664    ERROR    5 m/s\\n(5:00 pm CET | Monday, February 8, 2021)   \n",
       "...       ...                                                ...   \n",
       "5717    ERROR     2 m/s\\n(9:00 pm CEST | Saturday, May 15, 2021)   \n",
       "5718    ERROR                                              ERROR   \n",
       "5719    ERROR                                              ERROR   \n",
       "5744    ERROR    4 m/s\\n(8:00 am CEST | Wednesday, May 26, 2021)   \n",
       "5866    ERROR                                              ERROR   \n",
       "\n",
       "                                   Precipitation amount  \\\n",
       "5660  (unknown)\\n(10:00 pm CET | Thursday, November ...   \n",
       "5661  (unknown)\\n(7:00 pm CET | Monday, November 16,...   \n",
       "5662  (unknown)\\n(9:00 pm CET | Monday, November 16,...   \n",
       "5663  (unknown)\\n(9:00 pm CET | Tuesday, December 15...   \n",
       "5664  (unknown)\\n(5:00 pm CET | Monday, February 8, ...   \n",
       "...                                                 ...   \n",
       "5717  (unknown)\\n(9:00 pm CEST | Saturday, May 15, 2...   \n",
       "5718  (unknown)\\n(10:00 pm CEST | Saturday, May 15, ...   \n",
       "5719  (unknown)\\n(11:00 pm CEST | Saturday, May 15, ...   \n",
       "5744  no precipitation\\n(8:00 am CEST | Wednesday, M...   \n",
       "5866  (unknown)\\n(10:00 am CEST | Monday, May 31, 2021)   \n",
       "\n",
       "                                           query  \\\n",
       "5660   Moon Phase calculatorNovember 5, 2020 22h   \n",
       "5661  Moon Phase calculatorNovember 16, 2020 19h   \n",
       "5662  Moon Phase calculatorNovember 16, 2020 21h   \n",
       "5663  Moon Phase calculatorDecember 15, 2020 21h   \n",
       "5664   Moon Phase calculatorFebruary 8, 2021 17h   \n",
       "...                                          ...   \n",
       "5717       Moon Phase calculatorMay 15, 2021 21h   \n",
       "5718       Moon Phase calculatorMay 15, 2021 22h   \n",
       "5719       Moon Phase calculatorMay 15, 2021 23h   \n",
       "5744        Moon Phase calculatorMay 26, 2021 8h   \n",
       "5866       Moon Phase calculatorMay 31, 2021 10h   \n",
       "\n",
       "                           Moon Phase calculator  \n",
       "5660   | waning gibbous moon\\n76.55% illuminated  \n",
       "5661   | waxing crescent moon\\n3.48% illuminated  \n",
       "5662   | waxing crescent moon\\n3.86% illuminated  \n",
       "5663   | waxing crescent moon\\n1.86% illuminated  \n",
       "5664  | waning crescent moon\\n11.27% illuminated  \n",
       "...                                          ...  \n",
       "5717  | waxing crescent moon\\n13.88% illuminated  \n",
       "5718  | waxing crescent moon\\n14.16% illuminated  \n",
       "5719  | waxing crescent moon\\n14.45% illuminated  \n",
       "5744             | full moon\\n99.92% illuminated  \n",
       "5866   | waning gibbous moon\\n70.40% illuminated  \n",
       "\n",
       "[62 rows x 7 columns]"
      ]
     },
     "metadata": {},
     "output_type": "display_data"
    },
    {
     "name": "stdout",
     "output_type": "stream",
     "text": [
      "7369\n",
      "1564\n",
      "WARNING: to many calls to be completed these queries!\n",
      "You need 7820 new queries to complete this date interval\n",
      "(5805, 7)\n"
     ]
    },
    {
     "data": {
      "text/html": [
       "<div>\n",
       "<style scoped>\n",
       "    .dataframe tbody tr th:only-of-type {\n",
       "        vertical-align: middle;\n",
       "    }\n",
       "\n",
       "    .dataframe tbody tr th {\n",
       "        vertical-align: top;\n",
       "    }\n",
       "\n",
       "    .dataframe thead th {\n",
       "        text-align: right;\n",
       "    }\n",
       "</style>\n",
       "<table border=\"1\" class=\"dataframe\">\n",
       "  <thead>\n",
       "    <tr style=\"text-align: right;\">\n",
       "      <th></th>\n",
       "      <th>date</th>\n",
       "      <th>temperature</th>\n",
       "      <th>humidity</th>\n",
       "      <th>wind speed</th>\n",
       "      <th>Precipitation amount</th>\n",
       "      <th>query</th>\n",
       "      <th>Moon Phase calculator</th>\n",
       "    </tr>\n",
       "  </thead>\n",
       "  <tbody>\n",
       "    <tr>\n",
       "      <th>5861</th>\n",
       "      <td>2021-05-31 05:00:00</td>\n",
       "      <td>5 °C\\n(5:00 am CEST | Monday, May 31, 2021)</td>\n",
       "      <td>average: 100% (100%)\\n(5:00 am CEST | Monday, ...</td>\n",
       "      <td>0 m/s\\n(5:00 am CEST | Monday, May 31, 2021)</td>\n",
       "      <td>no precipitation\\n(5:00 am CEST | Monday, May ...</td>\n",
       "      <td>Moon Phase calculatorMay 31, 2021 5h</td>\n",
       "      <td>| waning gibbous moon\\n72.46% illuminated</td>\n",
       "    </tr>\n",
       "    <tr>\n",
       "      <th>5862</th>\n",
       "      <td>2021-05-31 06:00:00</td>\n",
       "      <td>6 °C\\n(6:00 am CEST | Monday, May 31, 2021)</td>\n",
       "      <td>average: 100% (100%)\\n(6:00 am CEST | Monday, ...</td>\n",
       "      <td>0 m/s\\n(6:00 am CEST | Monday, May 31, 2021)</td>\n",
       "      <td>no precipitation\\n(6:00 am CEST | Monday, May ...</td>\n",
       "      <td>Moon Phase calculatorMay 31, 2021 6h</td>\n",
       "      <td>| waning gibbous moon\\n72.05% illuminated</td>\n",
       "    </tr>\n",
       "    <tr>\n",
       "      <th>5863</th>\n",
       "      <td>2021-05-31 07:00:00</td>\n",
       "      <td>10 °C\\n(7:00 am CEST | Monday, May 31, 2021)</td>\n",
       "      <td>average: 76% (71 to 81%)\\n(7:00 am CEST | Mond...</td>\n",
       "      <td>0 m/s\\n(7:00 am CEST | Monday, May 31, 2021)</td>\n",
       "      <td>no precipitation\\n(7:00 am CEST | Monday, May ...</td>\n",
       "      <td>Moon Phase calculatorMay 31, 2021 7h</td>\n",
       "      <td>| waning gibbous moon\\n71.64% illuminated</td>\n",
       "    </tr>\n",
       "    <tr>\n",
       "      <th>5864</th>\n",
       "      <td>2021-05-31 08:00:00</td>\n",
       "      <td>12 °C\\n(8:00 am CEST | Monday, May 31, 2021)</td>\n",
       "      <td>average: 67% (67%)\\n(8:00 am CEST | Monday, Ma...</td>\n",
       "      <td>1 m/s\\n(8:00 am CEST | Monday, May 31, 2021)</td>\n",
       "      <td>no precipitation\\n(8:00 am CEST | Monday, May ...</td>\n",
       "      <td>Moon Phase calculatorMay 31, 2021 8h</td>\n",
       "      <td>| waning gibbous moon\\n71.23% illuminated</td>\n",
       "    </tr>\n",
       "    <tr>\n",
       "      <th>5865</th>\n",
       "      <td>2021-05-31 09:00:00</td>\n",
       "      <td>13 °C\\n(9:00 am CEST | Monday, May 31, 2021)</td>\n",
       "      <td>average: 62% (62%)\\n(9:00 am CEST | Monday, Ma...</td>\n",
       "      <td>1 m/s\\n(9:00 am CEST | Monday, May 31, 2021)</td>\n",
       "      <td>no precipitation\\n(9:00 am CEST | Monday, May ...</td>\n",
       "      <td>Moon Phase calculatorMay 31, 2021 9h</td>\n",
       "      <td>| waning gibbous moon\\n70.81% illuminated</td>\n",
       "    </tr>\n",
       "  </tbody>\n",
       "</table>\n",
       "</div>"
      ],
      "text/plain": [
       "                    date                                   temperature  \\\n",
       "5861 2021-05-31 05:00:00   5 °C\\n(5:00 am CEST | Monday, May 31, 2021)   \n",
       "5862 2021-05-31 06:00:00   6 °C\\n(6:00 am CEST | Monday, May 31, 2021)   \n",
       "5863 2021-05-31 07:00:00  10 °C\\n(7:00 am CEST | Monday, May 31, 2021)   \n",
       "5864 2021-05-31 08:00:00  12 °C\\n(8:00 am CEST | Monday, May 31, 2021)   \n",
       "5865 2021-05-31 09:00:00  13 °C\\n(9:00 am CEST | Monday, May 31, 2021)   \n",
       "\n",
       "                                               humidity  \\\n",
       "5861  average: 100% (100%)\\n(5:00 am CEST | Monday, ...   \n",
       "5862  average: 100% (100%)\\n(6:00 am CEST | Monday, ...   \n",
       "5863  average: 76% (71 to 81%)\\n(7:00 am CEST | Mond...   \n",
       "5864  average: 67% (67%)\\n(8:00 am CEST | Monday, Ma...   \n",
       "5865  average: 62% (62%)\\n(9:00 am CEST | Monday, Ma...   \n",
       "\n",
       "                                        wind speed  \\\n",
       "5861  0 m/s\\n(5:00 am CEST | Monday, May 31, 2021)   \n",
       "5862  0 m/s\\n(6:00 am CEST | Monday, May 31, 2021)   \n",
       "5863  0 m/s\\n(7:00 am CEST | Monday, May 31, 2021)   \n",
       "5864  1 m/s\\n(8:00 am CEST | Monday, May 31, 2021)   \n",
       "5865  1 m/s\\n(9:00 am CEST | Monday, May 31, 2021)   \n",
       "\n",
       "                                   Precipitation amount  \\\n",
       "5861  no precipitation\\n(5:00 am CEST | Monday, May ...   \n",
       "5862  no precipitation\\n(6:00 am CEST | Monday, May ...   \n",
       "5863  no precipitation\\n(7:00 am CEST | Monday, May ...   \n",
       "5864  no precipitation\\n(8:00 am CEST | Monday, May ...   \n",
       "5865  no precipitation\\n(9:00 am CEST | Monday, May ...   \n",
       "\n",
       "                                     query  \\\n",
       "5861  Moon Phase calculatorMay 31, 2021 5h   \n",
       "5862  Moon Phase calculatorMay 31, 2021 6h   \n",
       "5863  Moon Phase calculatorMay 31, 2021 7h   \n",
       "5864  Moon Phase calculatorMay 31, 2021 8h   \n",
       "5865  Moon Phase calculatorMay 31, 2021 9h   \n",
       "\n",
       "                          Moon Phase calculator  \n",
       "5861  | waning gibbous moon\\n72.46% illuminated  \n",
       "5862  | waning gibbous moon\\n72.05% illuminated  \n",
       "5863  | waning gibbous moon\\n71.64% illuminated  \n",
       "5864  | waning gibbous moon\\n71.23% illuminated  \n",
       "5865  | waning gibbous moon\\n70.81% illuminated  "
      ]
     },
     "execution_count": 4,
     "metadata": {},
     "output_type": "execute_result"
    }
   ],
   "source": [
    "mi = dt.datetime(2020,9,29)\n",
    "#ma = dt.datetime(2019,9,2)\n",
    "ma = dt.datetime(2021,8,2)\n",
    "df = pd.DataFrame(columns=['date', 'temperature', 'humidity', 'wind speed', 'Precipitation amount',\n",
    "                           'Moon Phase calculator','query']) #pressure\n",
    "path_weather = os.path.join(path_,'weather.csv')\n",
    "if len(glob.glob(path_weather))==1:\n",
    "    df = pd.read_csv(path_weather, sep=';', parse_dates=['date'])\n",
    "    #remove the last date, in case we stop in middle of the data to grab\n",
    "    #df = df[df['date']!=max(df['date'].unique())]\n",
    "    df = df.drop_duplicates(subset=None, keep='first', inplace=False)\n",
    "    print(df.shape)\n",
    "    print('We already have %d dates of weather'%df.shape[0])\n",
    "    #mi = max(mi, max(df['date'].tolist())) #not a good idea in case of errors as in that case we would like to try it again \n",
    "print(df[df.isin([\"ERROR\"]).any(axis=1)].shape)\n",
    "display(df[df.isin([\"ERROR\"]).any(axis=1)])\n",
    "df = df[~df.isin([\"ERROR\"]).any(axis=1)]\n",
    "#remove the rows with at least one error\n",
    "Daterange = pd.date_range(start=mi, end=ma, freq='H')   \n",
    "print(len(Daterange))\n",
    "Daterange = [d for d in Daterange if d not in df['date'].unique()]\n",
    "print(len(Daterange))\n",
    "if (len(Daterange)*len(li_type))>=2000:\n",
    "    print('WARNING: to many calls to be completed these queries!')\n",
    "print('You need %d new queries to complete this date interval'%(len(Daterange)*len(li_type)))\n",
    "df = df.sort_values(['date'])\n",
    "print(df.shape)\n",
    "df.tail(5)"
   ]
  },
  {
   "cell_type": "code",
   "execution_count": 5,
   "metadata": {
    "scrolled": true
   },
   "outputs": [
    {
     "name": "stderr",
     "output_type": "stream",
     "text": [
      "\r",
      "  0%|                                                                                         | 0/1564 [00:00<?, ?it/s]"
     ]
    },
    {
     "name": "stdout",
     "output_type": "stream",
     "text": [
      "QUERY:  Precipitation amount in Zollikofen November 5, 2020 22h\n",
      "QUERY:  temperature in Zollikofen November 5, 2020 22h\n",
      "QUERY:  humidity in Zollikofen November 5, 2020 22h\n",
      "ERROR: no data available-------------  humidity in Zollikofen November 5, 2020 22h\n",
      "ERROR:------------- name 'error' is not defined  ----------  humidity in Zollikofen November 5, 2020 22h\n",
      "QUERY:  wind speed in Zollikofen November 5, 2020 22h\n",
      "QUERY:  Moon Phase calculatorNovember 5, 2020 22h\n",
      "(5806, 7)\n"
     ]
    },
    {
     "data": {
      "text/html": [
       "<div>\n",
       "<style scoped>\n",
       "    .dataframe tbody tr th:only-of-type {\n",
       "        vertical-align: middle;\n",
       "    }\n",
       "\n",
       "    .dataframe tbody tr th {\n",
       "        vertical-align: top;\n",
       "    }\n",
       "\n",
       "    .dataframe thead th {\n",
       "        text-align: right;\n",
       "    }\n",
       "</style>\n",
       "<table border=\"1\" class=\"dataframe\">\n",
       "  <thead>\n",
       "    <tr style=\"text-align: right;\">\n",
       "      <th></th>\n",
       "      <th>date</th>\n",
       "      <th>temperature</th>\n",
       "      <th>humidity</th>\n",
       "      <th>wind speed</th>\n",
       "      <th>Precipitation amount</th>\n",
       "      <th>query</th>\n",
       "      <th>Moon Phase calculator</th>\n",
       "    </tr>\n",
       "  </thead>\n",
       "  <tbody>\n",
       "    <tr>\n",
       "      <th>5865</th>\n",
       "      <td>2021-05-31 09:00:00</td>\n",
       "      <td>13 °C\\n(9:00 am CEST | Monday, May 31, 2021)</td>\n",
       "      <td>average: 62% (62%)\\n(9:00 am CEST | Monday, Ma...</td>\n",
       "      <td>1 m/s\\n(9:00 am CEST | Monday, May 31, 2021)</td>\n",
       "      <td>no precipitation\\n(9:00 am CEST | Monday, May ...</td>\n",
       "      <td>Moon Phase calculatorMay 31, 2021 9h</td>\n",
       "      <td>| waning gibbous moon\\n70.81% illuminated</td>\n",
       "    </tr>\n",
       "    <tr>\n",
       "      <th>0</th>\n",
       "      <td>2020-11-05 22:00:00</td>\n",
       "      <td>8 °C\\n(10:00 pm CET | Thursday, November 5, 2020)</td>\n",
       "      <td>ERROR</td>\n",
       "      <td>1 m/s\\n(10:00 pm CET | Thursday, November 5, 2...</td>\n",
       "      <td>(unknown)\\n(10:00 pm CET | Thursday, November ...</td>\n",
       "      <td>Moon Phase calculatorNovember 5, 2020 22h</td>\n",
       "      <td>| waning gibbous moon\\n76.55% illuminated</td>\n",
       "    </tr>\n",
       "  </tbody>\n",
       "</table>\n",
       "</div>"
      ],
      "text/plain": [
       "                    date                                        temperature  \\\n",
       "5865 2021-05-31 09:00:00       13 °C\\n(9:00 am CEST | Monday, May 31, 2021)   \n",
       "0    2020-11-05 22:00:00  8 °C\\n(10:00 pm CET | Thursday, November 5, 2020)   \n",
       "\n",
       "                                               humidity  \\\n",
       "5865  average: 62% (62%)\\n(9:00 am CEST | Monday, Ma...   \n",
       "0                                                 ERROR   \n",
       "\n",
       "                                             wind speed  \\\n",
       "5865       1 m/s\\n(9:00 am CEST | Monday, May 31, 2021)   \n",
       "0     1 m/s\\n(10:00 pm CET | Thursday, November 5, 2...   \n",
       "\n",
       "                                   Precipitation amount  \\\n",
       "5865  no precipitation\\n(9:00 am CEST | Monday, May ...   \n",
       "0     (unknown)\\n(10:00 pm CET | Thursday, November ...   \n",
       "\n",
       "                                          query  \\\n",
       "5865       Moon Phase calculatorMay 31, 2021 9h   \n",
       "0     Moon Phase calculatorNovember 5, 2020 22h   \n",
       "\n",
       "                          Moon Phase calculator  \n",
       "5865  | waning gibbous moon\\n70.81% illuminated  \n",
       "0     | waning gibbous moon\\n76.55% illuminated  "
      ]
     },
     "metadata": {},
     "output_type": "display_data"
    },
    {
     "name": "stderr",
     "output_type": "stream",
     "text": [
      "\r",
      "  0%|                                                                               | 1/1564 [00:19<8:39:40, 19.95s/it]"
     ]
    },
    {
     "name": "stdout",
     "output_type": "stream",
     "text": [
      "QUERY:  Precipitation amount in Zollikofen November 16, 2020 19h\n",
      "QUERY:  temperature in Zollikofen November 16, 2020 19h\n",
      "QUERY:  humidity in Zollikofen November 16, 2020 19h\n",
      "ERROR: no data available-------------  humidity in Zollikofen November 16, 2020 19h\n",
      "ERROR:------------- name 'error' is not defined  ----------  humidity in Zollikofen November 16, 2020 19h\n",
      "QUERY:  wind speed in Zollikofen November 16, 2020 19h\n",
      "QUERY:  Moon Phase calculatorNovember 16, 2020 19h\n"
     ]
    },
    {
     "name": "stderr",
     "output_type": "stream",
     "text": [
      "\r",
      "  0%|                                                                               | 2/1564 [00:39<8:39:07, 19.94s/it]"
     ]
    },
    {
     "name": "stdout",
     "output_type": "stream",
     "text": [
      "QUERY:  Precipitation amount in Zollikofen November 16, 2020 21h\n",
      "QUERY:  temperature in Zollikofen November 16, 2020 21h\n",
      "QUERY:  humidity in Zollikofen November 16, 2020 21h\n",
      "ERROR: no data available-------------  humidity in Zollikofen November 16, 2020 21h\n",
      "ERROR:------------- name 'error' is not defined  ----------  humidity in Zollikofen November 16, 2020 21h\n",
      "QUERY:  wind speed in Zollikofen November 16, 2020 21h\n",
      "QUERY:  Moon Phase calculatorNovember 16, 2020 21h\n"
     ]
    },
    {
     "name": "stderr",
     "output_type": "stream",
     "text": [
      "\r",
      "  0%|▏                                                                              | 3/1564 [00:59<8:38:12, 19.92s/it]"
     ]
    },
    {
     "name": "stdout",
     "output_type": "stream",
     "text": [
      "QUERY:  Precipitation amount in Zollikofen December 15, 2020 21h\n",
      "QUERY:  temperature in Zollikofen December 15, 2020 21h\n",
      "QUERY:  humidity in Zollikofen December 15, 2020 21h\n",
      "ERROR: no data available-------------  humidity in Zollikofen December 15, 2020 21h\n",
      "ERROR:------------- name 'error' is not defined  ----------  humidity in Zollikofen December 15, 2020 21h\n",
      "QUERY:  wind speed in Zollikofen December 15, 2020 21h\n",
      "QUERY:  Moon Phase calculatorDecember 15, 2020 21h\n"
     ]
    },
    {
     "name": "stderr",
     "output_type": "stream",
     "text": [
      "\r",
      "  0%|▏                                                                              | 4/1564 [01:19<8:37:29, 19.90s/it]"
     ]
    },
    {
     "name": "stdout",
     "output_type": "stream",
     "text": [
      "QUERY:  Precipitation amount in Zollikofen February 8, 2021 17h\n",
      "QUERY:  temperature in Zollikofen February 8, 2021 17h\n",
      "QUERY:  humidity in Zollikofen February 8, 2021 17h\n",
      "ERROR: no data available-------------  humidity in Zollikofen February 8, 2021 17h\n",
      "ERROR:------------- name 'error' is not defined  ----------  humidity in Zollikofen February 8, 2021 17h\n",
      "QUERY:  wind speed in Zollikofen February 8, 2021 17h\n",
      "QUERY:  Moon Phase calculatorFebruary 8, 2021 17h\n"
     ]
    },
    {
     "name": "stderr",
     "output_type": "stream",
     "text": [
      "\r",
      "  0%|▎                                                                              | 5/1564 [01:39<8:35:15, 19.83s/it]"
     ]
    },
    {
     "name": "stdout",
     "output_type": "stream",
     "text": [
      "QUERY:  Precipitation amount in Zollikofen February 8, 2021 18h\n",
      "QUERY:  temperature in Zollikofen February 8, 2021 18h\n",
      "QUERY:  humidity in Zollikofen February 8, 2021 18h\n",
      "ERROR: no data available-------------  humidity in Zollikofen February 8, 2021 18h\n",
      "ERROR:------------- name 'error' is not defined  ----------  humidity in Zollikofen February 8, 2021 18h\n",
      "QUERY:  wind speed in Zollikofen February 8, 2021 18h\n",
      "QUERY:  Moon Phase calculatorFebruary 8, 2021 18h\n"
     ]
    },
    {
     "name": "stderr",
     "output_type": "stream",
     "text": [
      "\r",
      "  0%|▎                                                                              | 6/1564 [01:58<8:28:43, 19.59s/it]"
     ]
    },
    {
     "name": "stdout",
     "output_type": "stream",
     "text": [
      "QUERY:  Precipitation amount in Zollikofen February 8, 2021 19h\n",
      "QUERY:  temperature in Zollikofen February 8, 2021 19h\n",
      "QUERY:  humidity in Zollikofen February 8, 2021 19h\n",
      "ERROR: no data available-------------  humidity in Zollikofen February 8, 2021 19h\n",
      "ERROR:------------- name 'error' is not defined  ----------  humidity in Zollikofen February 8, 2021 19h\n",
      "QUERY:  wind speed in Zollikofen February 8, 2021 19h\n",
      "QUERY:  Moon Phase calculatorFebruary 8, 2021 19h\n"
     ]
    },
    {
     "name": "stderr",
     "output_type": "stream",
     "text": [
      "\r",
      "  0%|▎                                                                              | 7/1564 [02:18<8:35:54, 19.88s/it]"
     ]
    },
    {
     "name": "stdout",
     "output_type": "stream",
     "text": [
      "QUERY:  Precipitation amount in Zollikofen February 8, 2021 20h\n",
      "QUERY:  temperature in Zollikofen February 8, 2021 20h\n",
      "QUERY:  humidity in Zollikofen February 8, 2021 20h\n",
      "ERROR: no data available-------------  humidity in Zollikofen February 8, 2021 20h\n",
      "ERROR:------------- name 'error' is not defined  ----------  humidity in Zollikofen February 8, 2021 20h\n",
      "QUERY:  wind speed in Zollikofen February 8, 2021 20h\n",
      "QUERY:  Moon Phase calculatorFebruary 8, 2021 20h\n"
     ]
    },
    {
     "name": "stderr",
     "output_type": "stream",
     "text": [
      "\r",
      "  1%|▍                                                                              | 8/1564 [02:38<8:35:11, 19.87s/it]"
     ]
    },
    {
     "name": "stdout",
     "output_type": "stream",
     "text": [
      "QUERY:  Precipitation amount in Zollikofen February 9, 2021 9h\n",
      "QUERY:  temperature in Zollikofen February 9, 2021 9h\n",
      "QUERY:  humidity in Zollikofen February 9, 2021 9h\n",
      "ERROR: no data available-------------  humidity in Zollikofen February 9, 2021 9h\n",
      "ERROR:------------- name 'error' is not defined  ----------  humidity in Zollikofen February 9, 2021 9h\n",
      "QUERY:  wind speed in Zollikofen February 9, 2021 9h\n",
      "QUERY:  Moon Phase calculatorFebruary 9, 2021 9h\n"
     ]
    },
    {
     "name": "stderr",
     "output_type": "stream",
     "text": [
      "\r",
      "  1%|▍                                                                              | 9/1564 [03:00<8:46:40, 20.32s/it]"
     ]
    },
    {
     "name": "stdout",
     "output_type": "stream",
     "text": [
      "QUERY:  Precipitation amount in Zollikofen February 9, 2021 10h\n",
      "QUERY:  temperature in Zollikofen February 9, 2021 10h\n",
      "QUERY:  humidity in Zollikofen February 9, 2021 10h\n",
      "ERROR: no data available-------------  humidity in Zollikofen February 9, 2021 10h\n",
      "ERROR:------------- name 'error' is not defined  ----------  humidity in Zollikofen February 9, 2021 10h\n",
      "QUERY:  wind speed in Zollikofen February 9, 2021 10h\n",
      "QUERY:  Moon Phase calculatorFebruary 9, 2021 10h\n"
     ]
    },
    {
     "name": "stderr",
     "output_type": "stream",
     "text": [
      "\r",
      "  1%|▍                                                                             | 10/1564 [03:20<8:46:20, 20.32s/it]"
     ]
    },
    {
     "name": "stdout",
     "output_type": "stream",
     "text": [
      "QUERY:  Precipitation amount in Zollikofen February 9, 2021 11h\n",
      "QUERY:  temperature in Zollikofen February 9, 2021 11h\n",
      "QUERY:  humidity in Zollikofen February 9, 2021 11h\n",
      "ERROR: no data available-------------  humidity in Zollikofen February 9, 2021 11h\n",
      "ERROR:------------- name 'error' is not defined  ----------  humidity in Zollikofen February 9, 2021 11h\n",
      "QUERY:  wind speed in Zollikofen February 9, 2021 11h\n",
      "QUERY:  Moon Phase calculatorFebruary 9, 2021 11h\n",
      "(5816, 7)\n"
     ]
    },
    {
     "data": {
      "text/html": [
       "<div>\n",
       "<style scoped>\n",
       "    .dataframe tbody tr th:only-of-type {\n",
       "        vertical-align: middle;\n",
       "    }\n",
       "\n",
       "    .dataframe tbody tr th {\n",
       "        vertical-align: top;\n",
       "    }\n",
       "\n",
       "    .dataframe thead th {\n",
       "        text-align: right;\n",
       "    }\n",
       "</style>\n",
       "<table border=\"1\" class=\"dataframe\">\n",
       "  <thead>\n",
       "    <tr style=\"text-align: right;\">\n",
       "      <th></th>\n",
       "      <th>date</th>\n",
       "      <th>temperature</th>\n",
       "      <th>humidity</th>\n",
       "      <th>wind speed</th>\n",
       "      <th>Precipitation amount</th>\n",
       "      <th>query</th>\n",
       "      <th>Moon Phase calculator</th>\n",
       "    </tr>\n",
       "  </thead>\n",
       "  <tbody>\n",
       "    <tr>\n",
       "      <th>8</th>\n",
       "      <td>2021-02-09 10:00:00</td>\n",
       "      <td>0 °C\\n(10:00 am CET | Tuesday, February 9, 2021)</td>\n",
       "      <td>ERROR</td>\n",
       "      <td>1 m/s\\n(10:00 am CET | Tuesday, February 9, 2021)</td>\n",
       "      <td>(unknown)\\n(10:00 am CET | Tuesday, February 9...</td>\n",
       "      <td>Moon Phase calculatorFebruary 9, 2021 10h</td>\n",
       "      <td>| waning crescent moon\\n6.82% illuminated</td>\n",
       "    </tr>\n",
       "    <tr>\n",
       "      <th>9</th>\n",
       "      <td>2021-02-09 11:00:00</td>\n",
       "      <td>0 °C\\n(11:00 am CET | Tuesday, February 9, 2021)</td>\n",
       "      <td>ERROR</td>\n",
       "      <td>1 m/s\\n(11:00 am CET | Tuesday, February 9, 2021)</td>\n",
       "      <td>(unknown)\\n(11:00 am CET | Tuesday, February 9...</td>\n",
       "      <td>Moon Phase calculatorFebruary 9, 2021 11h</td>\n",
       "      <td>| waning crescent moon\\n6.60% illuminated</td>\n",
       "    </tr>\n",
       "  </tbody>\n",
       "</table>\n",
       "</div>"
      ],
      "text/plain": [
       "                 date                                       temperature  \\\n",
       "8 2021-02-09 10:00:00  0 °C\\n(10:00 am CET | Tuesday, February 9, 2021)   \n",
       "9 2021-02-09 11:00:00  0 °C\\n(11:00 am CET | Tuesday, February 9, 2021)   \n",
       "\n",
       "  humidity                                         wind speed  \\\n",
       "8    ERROR  1 m/s\\n(10:00 am CET | Tuesday, February 9, 2021)   \n",
       "9    ERROR  1 m/s\\n(11:00 am CET | Tuesday, February 9, 2021)   \n",
       "\n",
       "                                Precipitation amount  \\\n",
       "8  (unknown)\\n(10:00 am CET | Tuesday, February 9...   \n",
       "9  (unknown)\\n(11:00 am CET | Tuesday, February 9...   \n",
       "\n",
       "                                       query  \\\n",
       "8  Moon Phase calculatorFebruary 9, 2021 10h   \n",
       "9  Moon Phase calculatorFebruary 9, 2021 11h   \n",
       "\n",
       "                       Moon Phase calculator  \n",
       "8  | waning crescent moon\\n6.82% illuminated  \n",
       "9  | waning crescent moon\\n6.60% illuminated  "
      ]
     },
     "metadata": {},
     "output_type": "display_data"
    },
    {
     "name": "stderr",
     "output_type": "stream",
     "text": [
      "\r",
      "  1%|▌                                                                             | 11/1564 [03:39<8:36:11, 19.94s/it]"
     ]
    },
    {
     "name": "stdout",
     "output_type": "stream",
     "text": [
      "QUERY:  Precipitation amount in Zollikofen February 9, 2021 12h\n",
      "QUERY:  temperature in Zollikofen February 9, 2021 12h\n",
      "QUERY:  humidity in Zollikofen February 9, 2021 12h\n",
      "ERROR: no data available-------------  humidity in Zollikofen February 9, 2021 12h\n",
      "ERROR:------------- name 'error' is not defined  ----------  humidity in Zollikofen February 9, 2021 12h\n",
      "QUERY:  wind speed in Zollikofen February 9, 2021 12h\n",
      "QUERY:  Moon Phase calculatorFebruary 9, 2021 12h\n"
     ]
    },
    {
     "name": "stderr",
     "output_type": "stream",
     "text": [
      "\r",
      "  1%|▌                                                                             | 12/1564 [03:58<8:28:48, 19.67s/it]"
     ]
    },
    {
     "name": "stdout",
     "output_type": "stream",
     "text": [
      "QUERY:  Precipitation amount in Zollikofen February 9, 2021 13h\n",
      "QUERY:  temperature in Zollikofen February 9, 2021 13h\n",
      "QUERY:  humidity in Zollikofen February 9, 2021 13h\n",
      "ERROR: no data available-------------  humidity in Zollikofen February 9, 2021 13h\n",
      "ERROR:------------- name 'error' is not defined  ----------  humidity in Zollikofen February 9, 2021 13h\n",
      "QUERY:  wind speed in Zollikofen February 9, 2021 13h\n",
      "QUERY:  Moon Phase calculatorFebruary 9, 2021 13h\n"
     ]
    },
    {
     "name": "stderr",
     "output_type": "stream",
     "text": [
      "\r",
      "  1%|▋                                                                             | 13/1564 [04:19<8:35:42, 19.95s/it]"
     ]
    },
    {
     "name": "stdout",
     "output_type": "stream",
     "text": [
      "QUERY:  Precipitation amount in Zollikofen February 9, 2021 15h\n",
      "QUERY:  temperature in Zollikofen February 9, 2021 15h\n",
      "QUERY:  humidity in Zollikofen February 9, 2021 15h\n",
      "ERROR: no data available-------------  humidity in Zollikofen February 9, 2021 15h\n",
      "ERROR:------------- name 'error' is not defined  ----------  humidity in Zollikofen February 9, 2021 15h\n",
      "QUERY:  wind speed in Zollikofen February 9, 2021 15h\n",
      "QUERY:  Moon Phase calculatorFebruary 9, 2021 15h\n"
     ]
    },
    {
     "name": "stderr",
     "output_type": "stream",
     "text": [
      "\r",
      "  1%|▋                                                                             | 14/1564 [04:38<8:28:25, 19.68s/it]"
     ]
    },
    {
     "name": "stdout",
     "output_type": "stream",
     "text": [
      "QUERY:  Precipitation amount in Zollikofen February 9, 2021 16h\n",
      "QUERY:  temperature in Zollikofen February 9, 2021 16h\n",
      "QUERY:  humidity in Zollikofen February 9, 2021 16h\n",
      "ERROR: no data available-------------  humidity in Zollikofen February 9, 2021 16h\n",
      "ERROR:------------- name 'error' is not defined  ----------  humidity in Zollikofen February 9, 2021 16h\n",
      "QUERY:  wind speed in Zollikofen February 9, 2021 16h\n",
      "QUERY:  Moon Phase calculatorFebruary 9, 2021 16h\n"
     ]
    },
    {
     "name": "stderr",
     "output_type": "stream",
     "text": [
      "\r",
      "  1%|▋                                                                             | 15/1564 [04:56<8:21:02, 19.41s/it]"
     ]
    },
    {
     "name": "stdout",
     "output_type": "stream",
     "text": [
      "QUERY:  Precipitation amount in Zollikofen February 9, 2021 17h\n",
      "QUERY:  temperature in Zollikofen February 9, 2021 17h\n",
      "QUERY:  humidity in Zollikofen February 9, 2021 17h\n",
      "ERROR: no data available-------------  humidity in Zollikofen February 9, 2021 17h\n",
      "ERROR:------------- name 'error' is not defined  ----------  humidity in Zollikofen February 9, 2021 17h\n",
      "QUERY:  wind speed in Zollikofen February 9, 2021 17h\n",
      "QUERY:  Moon Phase calculatorFebruary 9, 2021 17h\n"
     ]
    },
    {
     "name": "stderr",
     "output_type": "stream",
     "text": [
      "\r",
      "  1%|▊                                                                             | 16/1564 [05:13<8:02:28, 18.70s/it]"
     ]
    },
    {
     "name": "stdout",
     "output_type": "stream",
     "text": [
      "QUERY:  Precipitation amount in Zollikofen February 9, 2021 18h\n",
      "QUERY:  temperature in Zollikofen February 9, 2021 18h\n",
      "QUERY:  humidity in Zollikofen February 9, 2021 18h\n",
      "ERROR: no data available-------------  humidity in Zollikofen February 9, 2021 18h\n",
      "ERROR:------------- name 'error' is not defined  ----------  humidity in Zollikofen February 9, 2021 18h\n",
      "QUERY:  wind speed in Zollikofen February 9, 2021 18h\n",
      "QUERY:  Moon Phase calculatorFebruary 9, 2021 18h\n"
     ]
    },
    {
     "name": "stderr",
     "output_type": "stream",
     "text": [
      "\r",
      "  1%|▊                                                                             | 17/1564 [05:30<7:42:32, 17.94s/it]"
     ]
    },
    {
     "name": "stdout",
     "output_type": "stream",
     "text": [
      "QUERY:  Precipitation amount in Zollikofen February 9, 2021 19h\n",
      "QUERY:  temperature in Zollikofen February 9, 2021 19h\n",
      "QUERY:  humidity in Zollikofen February 9, 2021 19h\n",
      "ERROR: no data available-------------  humidity in Zollikofen February 9, 2021 19h\n",
      "ERROR:------------- name 'error' is not defined  ----------  humidity in Zollikofen February 9, 2021 19h\n",
      "QUERY:  wind speed in Zollikofen February 9, 2021 19h\n",
      "QUERY:  Moon Phase calculatorFebruary 9, 2021 19h\n"
     ]
    },
    {
     "name": "stderr",
     "output_type": "stream",
     "text": [
      "\r",
      "  1%|▉                                                                             | 18/1564 [05:45<7:22:51, 17.19s/it]"
     ]
    },
    {
     "name": "stdout",
     "output_type": "stream",
     "text": [
      "QUERY:  Precipitation amount in Zollikofen February 9, 2021 20h\n",
      "QUERY:  temperature in Zollikofen February 9, 2021 20h\n",
      "QUERY:  humidity in Zollikofen February 9, 2021 20h\n",
      "ERROR: no data available-------------  humidity in Zollikofen February 9, 2021 20h\n",
      "ERROR:------------- name 'error' is not defined  ----------  humidity in Zollikofen February 9, 2021 20h\n",
      "QUERY:  wind speed in Zollikofen February 9, 2021 20h\n",
      "QUERY:  Moon Phase calculatorFebruary 9, 2021 20h\n"
     ]
    },
    {
     "name": "stderr",
     "output_type": "stream",
     "text": [
      "\r",
      "  1%|▉                                                                             | 19/1564 [06:00<7:08:58, 16.66s/it]"
     ]
    },
    {
     "name": "stdout",
     "output_type": "stream",
     "text": [
      "QUERY:  Precipitation amount in Zollikofen February 9, 2021 21h\n",
      "QUERY:  temperature in Zollikofen February 9, 2021 21h\n",
      "QUERY:  humidity in Zollikofen February 9, 2021 21h\n",
      "ERROR: no data available-------------  humidity in Zollikofen February 9, 2021 21h\n",
      "ERROR:------------- name 'error' is not defined  ----------  humidity in Zollikofen February 9, 2021 21h\n",
      "QUERY:  wind speed in Zollikofen February 9, 2021 21h\n",
      "QUERY:  Moon Phase calculatorFebruary 9, 2021 21h\n"
     ]
    },
    {
     "name": "stderr",
     "output_type": "stream",
     "text": [
      "\r",
      "  1%|▉                                                                             | 20/1564 [06:16<6:59:10, 16.29s/it]"
     ]
    },
    {
     "name": "stdout",
     "output_type": "stream",
     "text": [
      "QUERY:  Precipitation amount in Zollikofen February 9, 2021 22h\n",
      "QUERY:  temperature in Zollikofen February 9, 2021 22h\n",
      "QUERY:  humidity in Zollikofen February 9, 2021 22h\n",
      "ERROR: no data available-------------  humidity in Zollikofen February 9, 2021 22h\n",
      "ERROR:------------- name 'error' is not defined  ----------  humidity in Zollikofen February 9, 2021 22h\n",
      "QUERY:  wind speed in Zollikofen February 9, 2021 22h\n",
      "QUERY:  Moon Phase calculatorFebruary 9, 2021 22h\n",
      "(5826, 7)\n"
     ]
    },
    {
     "data": {
      "text/html": [
       "<div>\n",
       "<style scoped>\n",
       "    .dataframe tbody tr th:only-of-type {\n",
       "        vertical-align: middle;\n",
       "    }\n",
       "\n",
       "    .dataframe tbody tr th {\n",
       "        vertical-align: top;\n",
       "    }\n",
       "\n",
       "    .dataframe thead th {\n",
       "        text-align: right;\n",
       "    }\n",
       "</style>\n",
       "<table border=\"1\" class=\"dataframe\">\n",
       "  <thead>\n",
       "    <tr style=\"text-align: right;\">\n",
       "      <th></th>\n",
       "      <th>date</th>\n",
       "      <th>temperature</th>\n",
       "      <th>humidity</th>\n",
       "      <th>wind speed</th>\n",
       "      <th>Precipitation amount</th>\n",
       "      <th>query</th>\n",
       "      <th>Moon Phase calculator</th>\n",
       "    </tr>\n",
       "  </thead>\n",
       "  <tbody>\n",
       "    <tr>\n",
       "      <th>8</th>\n",
       "      <td>2021-02-09 21:00:00</td>\n",
       "      <td>0 °C\\n(9:00 pm CET | Tuesday, February 9, 2021)</td>\n",
       "      <td>ERROR</td>\n",
       "      <td>4 m/s\\n(9:00 pm CET | Tuesday, February 9, 2021)</td>\n",
       "      <td>(unknown)\\n(9:00 pm CET | Tuesday, February 9,...</td>\n",
       "      <td>Moon Phase calculatorFebruary 9, 2021 21h</td>\n",
       "      <td>| waning crescent moon\\n4.53% illuminated</td>\n",
       "    </tr>\n",
       "    <tr>\n",
       "      <th>9</th>\n",
       "      <td>2021-02-09 22:00:00</td>\n",
       "      <td>0 °C\\n(10:00 pm CET | Tuesday, February 9, 2021)</td>\n",
       "      <td>ERROR</td>\n",
       "      <td>4 m/s\\n(10:00 pm CET | Tuesday, February 9, 2021)</td>\n",
       "      <td>(unknown)\\n(10:00 pm CET | Tuesday, February 9...</td>\n",
       "      <td>Moon Phase calculatorFebruary 9, 2021 22h</td>\n",
       "      <td>| waning crescent moon\\n4.34% illuminated</td>\n",
       "    </tr>\n",
       "  </tbody>\n",
       "</table>\n",
       "</div>"
      ],
      "text/plain": [
       "                 date                                       temperature  \\\n",
       "8 2021-02-09 21:00:00   0 °C\\n(9:00 pm CET | Tuesday, February 9, 2021)   \n",
       "9 2021-02-09 22:00:00  0 °C\\n(10:00 pm CET | Tuesday, February 9, 2021)   \n",
       "\n",
       "  humidity                                         wind speed  \\\n",
       "8    ERROR   4 m/s\\n(9:00 pm CET | Tuesday, February 9, 2021)   \n",
       "9    ERROR  4 m/s\\n(10:00 pm CET | Tuesday, February 9, 2021)   \n",
       "\n",
       "                                Precipitation amount  \\\n",
       "8  (unknown)\\n(9:00 pm CET | Tuesday, February 9,...   \n",
       "9  (unknown)\\n(10:00 pm CET | Tuesday, February 9...   \n",
       "\n",
       "                                       query  \\\n",
       "8  Moon Phase calculatorFebruary 9, 2021 21h   \n",
       "9  Moon Phase calculatorFebruary 9, 2021 22h   \n",
       "\n",
       "                       Moon Phase calculator  \n",
       "8  | waning crescent moon\\n4.53% illuminated  \n",
       "9  | waning crescent moon\\n4.34% illuminated  "
      ]
     },
     "metadata": {},
     "output_type": "display_data"
    },
    {
     "name": "stderr",
     "output_type": "stream",
     "text": [
      "\r",
      "  1%|█                                                                             | 21/1564 [06:33<7:08:12, 16.65s/it]"
     ]
    },
    {
     "name": "stdout",
     "output_type": "stream",
     "text": [
      "QUERY:  Precipitation amount in Zollikofen February 10, 2021 10h\n",
      "QUERY:  temperature in Zollikofen February 10, 2021 10h\n",
      "QUERY:  humidity in Zollikofen February 10, 2021 10h\n",
      "ERROR: no data available-------------  humidity in Zollikofen February 10, 2021 10h\n",
      "ERROR:------------- name 'error' is not defined  ----------  humidity in Zollikofen February 10, 2021 10h\n",
      "QUERY:  wind speed in Zollikofen February 10, 2021 10h\n",
      "QUERY:  Moon Phase calculatorFebruary 10, 2021 10h\n"
     ]
    },
    {
     "name": "stderr",
     "output_type": "stream",
     "text": [
      "\r",
      "  1%|█                                                                             | 22/1564 [06:49<6:59:59, 16.34s/it]"
     ]
    },
    {
     "name": "stdout",
     "output_type": "stream",
     "text": [
      "QUERY:  Precipitation amount in Zollikofen February 10, 2021 11h\n",
      "QUERY:  temperature in Zollikofen February 10, 2021 11h\n",
      "QUERY:  humidity in Zollikofen February 10, 2021 11h\n",
      "ERROR:------------- results  ----------  humidity in Zollikofen February 10, 2021 11h\n",
      "QUERY:  wind speed in Zollikofen February 10, 2021 11h\n",
      "QUERY:  Moon Phase calculatorFebruary 10, 2021 11h\n"
     ]
    },
    {
     "name": "stderr",
     "output_type": "stream",
     "text": [
      "\r",
      "  1%|█▏                                                                            | 23/1564 [07:07<7:08:49, 16.70s/it]"
     ]
    },
    {
     "name": "stdout",
     "output_type": "stream",
     "text": [
      "QUERY:  Precipitation amount in Zollikofen February 10, 2021 12h\n",
      "QUERY:  temperature in Zollikofen February 10, 2021 12h\n",
      "QUERY:  humidity in Zollikofen February 10, 2021 12h\n",
      "ERROR: no data available-------------  humidity in Zollikofen February 10, 2021 12h\n",
      "ERROR:------------- name 'error' is not defined  ----------  humidity in Zollikofen February 10, 2021 12h\n",
      "QUERY:  wind speed in Zollikofen February 10, 2021 12h\n",
      "QUERY:  Moon Phase calculatorFebruary 10, 2021 12h\n"
     ]
    },
    {
     "name": "stderr",
     "output_type": "stream",
     "text": [
      "\r",
      "  2%|█▏                                                                            | 24/1564 [07:23<7:08:01, 16.68s/it]"
     ]
    },
    {
     "name": "stdout",
     "output_type": "stream",
     "text": [
      "QUERY:  Precipitation amount in Zollikofen February 10, 2021 13h\n",
      "QUERY:  temperature in Zollikofen February 10, 2021 13h\n",
      "QUERY:  humidity in Zollikofen February 10, 2021 13h\n",
      "ERROR: no data available-------------  humidity in Zollikofen February 10, 2021 13h\n",
      "ERROR:------------- name 'error' is not defined  ----------  humidity in Zollikofen February 10, 2021 13h\n",
      "QUERY:  wind speed in Zollikofen February 10, 2021 13h\n",
      "QUERY:  Moon Phase calculatorFebruary 10, 2021 13h\n"
     ]
    },
    {
     "name": "stderr",
     "output_type": "stream",
     "text": [
      "\r",
      "  2%|█▏                                                                            | 25/1564 [07:39<6:58:55, 16.33s/it]"
     ]
    },
    {
     "name": "stdout",
     "output_type": "stream",
     "text": [
      "QUERY:  Precipitation amount in Zollikofen February 10, 2021 14h\n",
      "QUERY:  temperature in Zollikofen February 10, 2021 14h\n",
      "QUERY:  humidity in Zollikofen February 10, 2021 14h\n",
      "ERROR: no data available-------------  humidity in Zollikofen February 10, 2021 14h\n",
      "ERROR:------------- name 'error' is not defined  ----------  humidity in Zollikofen February 10, 2021 14h\n",
      "QUERY:  wind speed in Zollikofen February 10, 2021 14h\n",
      "QUERY:  Moon Phase calculatorFebruary 10, 2021 14h\n"
     ]
    },
    {
     "name": "stderr",
     "output_type": "stream",
     "text": [
      "\r",
      "  2%|█▎                                                                            | 26/1564 [07:54<6:53:31, 16.13s/it]"
     ]
    },
    {
     "name": "stdout",
     "output_type": "stream",
     "text": [
      "QUERY:  Precipitation amount in Zollikofen February 10, 2021 15h\n",
      "QUERY:  temperature in Zollikofen February 10, 2021 15h\n",
      "QUERY:  humidity in Zollikofen February 10, 2021 15h\n",
      "ERROR: no data available-------------  humidity in Zollikofen February 10, 2021 15h\n",
      "ERROR:------------- name 'error' is not defined  ----------  humidity in Zollikofen February 10, 2021 15h\n",
      "QUERY:  wind speed in Zollikofen February 10, 2021 15h\n",
      "QUERY:  Moon Phase calculatorFebruary 10, 2021 15h\n"
     ]
    },
    {
     "name": "stderr",
     "output_type": "stream",
     "text": [
      "\r",
      "  2%|█▎                                                                            | 27/1564 [08:10<6:50:34, 16.03s/it]"
     ]
    },
    {
     "name": "stdout",
     "output_type": "stream",
     "text": [
      "QUERY:  Precipitation amount in Zollikofen February 10, 2021 16h\n",
      "QUERY:  temperature in Zollikofen February 10, 2021 16h\n",
      "QUERY:  humidity in Zollikofen February 10, 2021 16h\n",
      "ERROR: no data available-------------  humidity in Zollikofen February 10, 2021 16h\n",
      "ERROR:------------- name 'error' is not defined  ----------  humidity in Zollikofen February 10, 2021 16h\n",
      "QUERY:  wind speed in Zollikofen February 10, 2021 16h\n",
      "QUERY:  Moon Phase calculatorFebruary 10, 2021 16h\n"
     ]
    },
    {
     "name": "stderr",
     "output_type": "stream",
     "text": [
      "\r",
      "  2%|█▍                                                                            | 28/1564 [08:26<6:46:35, 15.88s/it]"
     ]
    },
    {
     "name": "stdout",
     "output_type": "stream",
     "text": [
      "QUERY:  Precipitation amount in Zollikofen February 10, 2021 17h\n",
      "QUERY:  temperature in Zollikofen February 10, 2021 17h\n",
      "QUERY:  humidity in Zollikofen February 10, 2021 17h\n",
      "ERROR: no data available-------------  humidity in Zollikofen February 10, 2021 17h\n",
      "ERROR:------------- name 'error' is not defined  ----------  humidity in Zollikofen February 10, 2021 17h\n",
      "QUERY:  wind speed in Zollikofen February 10, 2021 17h\n",
      "QUERY:  Moon Phase calculatorFebruary 10, 2021 17h\n"
     ]
    },
    {
     "name": "stderr",
     "output_type": "stream",
     "text": [
      "\r",
      "  2%|█▍                                                                            | 29/1564 [08:42<6:47:22, 15.92s/it]"
     ]
    },
    {
     "name": "stdout",
     "output_type": "stream",
     "text": [
      "QUERY:  Precipitation amount in Zollikofen February 10, 2021 18h\n",
      "QUERY:  temperature in Zollikofen February 10, 2021 18h\n",
      "QUERY:  humidity in Zollikofen February 10, 2021 18h\n",
      "ERROR: no data available-------------  humidity in Zollikofen February 10, 2021 18h\n",
      "ERROR:------------- name 'error' is not defined  ----------  humidity in Zollikofen February 10, 2021 18h\n",
      "QUERY:  wind speed in Zollikofen February 10, 2021 18h\n",
      "QUERY:  Moon Phase calculatorFebruary 10, 2021 18h\n"
     ]
    },
    {
     "name": "stderr",
     "output_type": "stream",
     "text": [
      "\r",
      "  2%|█▍                                                                            | 30/1564 [08:58<6:50:03, 16.04s/it]"
     ]
    },
    {
     "name": "stdout",
     "output_type": "stream",
     "text": [
      "QUERY:  Precipitation amount in Zollikofen February 10, 2021 19h\n",
      "QUERY:  temperature in Zollikofen February 10, 2021 19h\n",
      "QUERY:  humidity in Zollikofen February 10, 2021 19h\n",
      "ERROR: no data available-------------  humidity in Zollikofen February 10, 2021 19h\n",
      "ERROR:------------- name 'error' is not defined  ----------  humidity in Zollikofen February 10, 2021 19h\n",
      "QUERY:  wind speed in Zollikofen February 10, 2021 19h\n",
      "QUERY:  Moon Phase calculatorFebruary 10, 2021 19h\n",
      "(5836, 7)\n"
     ]
    },
    {
     "data": {
      "text/html": [
       "<div>\n",
       "<style scoped>\n",
       "    .dataframe tbody tr th:only-of-type {\n",
       "        vertical-align: middle;\n",
       "    }\n",
       "\n",
       "    .dataframe tbody tr th {\n",
       "        vertical-align: top;\n",
       "    }\n",
       "\n",
       "    .dataframe thead th {\n",
       "        text-align: right;\n",
       "    }\n",
       "</style>\n",
       "<table border=\"1\" class=\"dataframe\">\n",
       "  <thead>\n",
       "    <tr style=\"text-align: right;\">\n",
       "      <th></th>\n",
       "      <th>date</th>\n",
       "      <th>temperature</th>\n",
       "      <th>humidity</th>\n",
       "      <th>wind speed</th>\n",
       "      <th>Precipitation amount</th>\n",
       "      <th>query</th>\n",
       "      <th>Moon Phase calculator</th>\n",
       "    </tr>\n",
       "  </thead>\n",
       "  <tbody>\n",
       "    <tr>\n",
       "      <th>8</th>\n",
       "      <td>2021-02-10 18:00:00</td>\n",
       "      <td>-2 °C\\n(6:00 pm CET | Wednesday, February 10, ...</td>\n",
       "      <td>ERROR</td>\n",
       "      <td>3 m/s\\n(6:00 pm CET | Wednesday, February 10, ...</td>\n",
       "      <td>(unknown)\\n(6:00 pm CET | Wednesday, February ...</td>\n",
       "      <td>Moon Phase calculatorFebruary 10, 2021 18h</td>\n",
       "      <td>| waning crescent moon\\n1.48% illuminated</td>\n",
       "    </tr>\n",
       "    <tr>\n",
       "      <th>9</th>\n",
       "      <td>2021-02-10 19:00:00</td>\n",
       "      <td>-2 °C\\n(7:00 pm CET | Wednesday, February 10, ...</td>\n",
       "      <td>ERROR</td>\n",
       "      <td>4 m/s\\n(7:00 pm CET | Wednesday, February 10, ...</td>\n",
       "      <td>(unknown)\\n(7:00 pm CET | Wednesday, February ...</td>\n",
       "      <td>Moon Phase calculatorFebruary 10, 2021 19h</td>\n",
       "      <td>| waning crescent moon\\n1.38% illuminated</td>\n",
       "    </tr>\n",
       "  </tbody>\n",
       "</table>\n",
       "</div>"
      ],
      "text/plain": [
       "                 date                                        temperature  \\\n",
       "8 2021-02-10 18:00:00  -2 °C\\n(6:00 pm CET | Wednesday, February 10, ...   \n",
       "9 2021-02-10 19:00:00  -2 °C\\n(7:00 pm CET | Wednesday, February 10, ...   \n",
       "\n",
       "  humidity                                         wind speed  \\\n",
       "8    ERROR  3 m/s\\n(6:00 pm CET | Wednesday, February 10, ...   \n",
       "9    ERROR  4 m/s\\n(7:00 pm CET | Wednesday, February 10, ...   \n",
       "\n",
       "                                Precipitation amount  \\\n",
       "8  (unknown)\\n(6:00 pm CET | Wednesday, February ...   \n",
       "9  (unknown)\\n(7:00 pm CET | Wednesday, February ...   \n",
       "\n",
       "                                        query  \\\n",
       "8  Moon Phase calculatorFebruary 10, 2021 18h   \n",
       "9  Moon Phase calculatorFebruary 10, 2021 19h   \n",
       "\n",
       "                       Moon Phase calculator  \n",
       "8  | waning crescent moon\\n1.48% illuminated  \n",
       "9  | waning crescent moon\\n1.38% illuminated  "
      ]
     },
     "metadata": {},
     "output_type": "display_data"
    },
    {
     "name": "stderr",
     "output_type": "stream",
     "text": [
      "\r",
      "  2%|█▌                                                                            | 31/1564 [09:14<6:50:25, 16.06s/it]"
     ]
    },
    {
     "name": "stdout",
     "output_type": "stream",
     "text": [
      "QUERY:  Precipitation amount in Zollikofen February 10, 2021 20h\n",
      "QUERY:  temperature in Zollikofen February 10, 2021 20h\n",
      "QUERY:  humidity in Zollikofen February 10, 2021 20h\n",
      "ERROR: no data available-------------  humidity in Zollikofen February 10, 2021 20h\n",
      "ERROR:------------- name 'error' is not defined  ----------  humidity in Zollikofen February 10, 2021 20h\n",
      "QUERY:  wind speed in Zollikofen February 10, 2021 20h\n",
      "QUERY:  Moon Phase calculatorFebruary 10, 2021 20h\n"
     ]
    },
    {
     "name": "stderr",
     "output_type": "stream",
     "text": [
      "\r",
      "  2%|█▌                                                                            | 32/1564 [09:30<6:48:53, 16.01s/it]"
     ]
    },
    {
     "name": "stdout",
     "output_type": "stream",
     "text": [
      "QUERY:  Precipitation amount in Zollikofen February 10, 2021 21h\n",
      "QUERY:  temperature in Zollikofen February 10, 2021 21h\n",
      "QUERY:  humidity in Zollikofen February 10, 2021 21h\n",
      "ERROR: no data available-------------  humidity in Zollikofen February 10, 2021 21h\n",
      "ERROR:------------- name 'error' is not defined  ----------  humidity in Zollikofen February 10, 2021 21h\n",
      "QUERY:  wind speed in Zollikofen February 10, 2021 21h\n",
      "QUERY:  Moon Phase calculatorFebruary 10, 2021 21h\n"
     ]
    },
    {
     "name": "stderr",
     "output_type": "stream",
     "text": [
      "\r",
      "  2%|█▋                                                                            | 33/1564 [09:46<6:49:33, 16.05s/it]"
     ]
    },
    {
     "name": "stdout",
     "output_type": "stream",
     "text": [
      "QUERY:  Precipitation amount in Zollikofen February 10, 2021 22h\n",
      "QUERY:  temperature in Zollikofen February 10, 2021 22h\n",
      "QUERY:  humidity in Zollikofen February 10, 2021 22h\n",
      "ERROR: no data available-------------  humidity in Zollikofen February 10, 2021 22h\n",
      "ERROR:------------- name 'error' is not defined  ----------  humidity in Zollikofen February 10, 2021 22h\n",
      "QUERY:  wind speed in Zollikofen February 10, 2021 22h\n",
      "QUERY:  Moon Phase calculatorFebruary 10, 2021 22h\n"
     ]
    },
    {
     "name": "stderr",
     "output_type": "stream",
     "text": [
      "\r",
      "  2%|█▋                                                                            | 34/1564 [10:04<7:00:20, 16.48s/it]"
     ]
    },
    {
     "name": "stdout",
     "output_type": "stream",
     "text": [
      "QUERY:  Precipitation amount in Zollikofen February 10, 2021 23h\n",
      "QUERY:  temperature in Zollikofen February 10, 2021 23h\n",
      "QUERY:  humidity in Zollikofen February 10, 2021 23h\n",
      "ERROR: no data available-------------  humidity in Zollikofen February 10, 2021 23h\n",
      "ERROR:------------- name 'error' is not defined  ----------  humidity in Zollikofen February 10, 2021 23h\n",
      "QUERY:  wind speed in Zollikofen February 10, 2021 23h\n",
      "QUERY:  Moon Phase calculatorFebruary 10, 2021 23h\n"
     ]
    },
    {
     "name": "stderr",
     "output_type": "stream",
     "text": [
      "\r",
      "  2%|█▋                                                                            | 35/1564 [10:24<7:31:09, 17.70s/it]"
     ]
    },
    {
     "name": "stdout",
     "output_type": "stream",
     "text": [
      "QUERY:  Precipitation amount in Zollikofen March 28, 2021 1h\n",
      "QUERY:  temperature in Zollikofen March 28, 2021 1h\n",
      "QUERY:  humidity in Zollikofen March 28, 2021 1h\n",
      "ERROR: no data available-------------  humidity in Zollikofen March 28, 2021 1h\n",
      "ERROR:------------- name 'error' is not defined  ----------  humidity in Zollikofen March 28, 2021 1h\n",
      "QUERY:  wind speed in Zollikofen March 28, 2021 1h\n",
      "QUERY:  Moon Phase calculatorMarch 28, 2021 1h\n"
     ]
    },
    {
     "name": "stderr",
     "output_type": "stream",
     "text": [
      "\r",
      "  2%|█▊                                                                            | 36/1564 [10:44<7:49:29, 18.44s/it]"
     ]
    },
    {
     "name": "stdout",
     "output_type": "stream",
     "text": [
      "QUERY:  Precipitation amount in Zollikofen May 15, 2021 0h\n",
      "QUERY:  temperature in Zollikofen May 15, 2021 0h\n",
      "QUERY:  humidity in Zollikofen May 15, 2021 0h\n",
      "ERROR: no data available-------------  humidity in Zollikofen May 15, 2021 0h\n",
      "ERROR:------------- name 'error' is not defined  ----------  humidity in Zollikofen May 15, 2021 0h\n",
      "QUERY:  wind speed in Zollikofen May 15, 2021 0h\n",
      "QUERY:  Moon Phase calculatorMay 15, 2021 0h\n"
     ]
    },
    {
     "name": "stderr",
     "output_type": "stream",
     "text": [
      "\r",
      "  2%|█▊                                                                            | 37/1564 [11:04<8:00:18, 18.87s/it]"
     ]
    },
    {
     "name": "stdout",
     "output_type": "stream",
     "text": [
      "QUERY:  Precipitation amount in Zollikofen May 15, 2021 1h\n",
      "QUERY:  temperature in Zollikofen May 15, 2021 1h\n",
      "QUERY:  humidity in Zollikofen May 15, 2021 1h\n",
      "ERROR: no data available-------------  humidity in Zollikofen May 15, 2021 1h\n",
      "ERROR:------------- name 'error' is not defined  ----------  humidity in Zollikofen May 15, 2021 1h\n",
      "QUERY:  wind speed in Zollikofen May 15, 2021 1h\n",
      "QUERY:  Moon Phase calculatorMay 15, 2021 1h\n"
     ]
    },
    {
     "name": "stderr",
     "output_type": "stream",
     "text": [
      "\r",
      "  2%|█▉                                                                            | 38/1564 [11:26<8:18:14, 19.59s/it]"
     ]
    },
    {
     "name": "stdout",
     "output_type": "stream",
     "text": [
      "QUERY:  Precipitation amount in Zollikofen May 15, 2021 2h\n",
      "QUERY:  temperature in Zollikofen May 15, 2021 2h\n",
      "QUERY:  humidity in Zollikofen May 15, 2021 2h\n",
      "ERROR: no data available-------------  humidity in Zollikofen May 15, 2021 2h\n",
      "ERROR:------------- name 'error' is not defined  ----------  humidity in Zollikofen May 15, 2021 2h\n",
      "QUERY:  wind speed in Zollikofen May 15, 2021 2h\n",
      "QUERY:  Moon Phase calculatorMay 15, 2021 2h\n"
     ]
    },
    {
     "name": "stderr",
     "output_type": "stream",
     "text": [
      "\r",
      "  2%|█▉                                                                            | 39/1564 [11:46<8:25:41, 19.90s/it]"
     ]
    },
    {
     "name": "stdout",
     "output_type": "stream",
     "text": [
      "QUERY:  Precipitation amount in Zollikofen May 15, 2021 3h\n",
      "QUERY:  temperature in Zollikofen May 15, 2021 3h\n",
      "QUERY:  humidity in Zollikofen May 15, 2021 3h\n",
      "ERROR: no data available-------------  humidity in Zollikofen May 15, 2021 3h\n",
      "ERROR:------------- name 'error' is not defined  ----------  humidity in Zollikofen May 15, 2021 3h\n",
      "QUERY:  wind speed in Zollikofen May 15, 2021 3h\n",
      "QUERY:  Moon Phase calculatorMay 15, 2021 3h\n"
     ]
    },
    {
     "name": "stderr",
     "output_type": "stream",
     "text": [
      "\r",
      "  3%|█▉                                                                            | 40/1564 [12:06<8:26:53, 19.96s/it]"
     ]
    },
    {
     "name": "stdout",
     "output_type": "stream",
     "text": [
      "QUERY:  Precipitation amount in Zollikofen May 15, 2021 4h\n",
      "QUERY:  temperature in Zollikofen May 15, 2021 4h\n",
      "QUERY:  humidity in Zollikofen May 15, 2021 4h\n",
      "ERROR: no data available-------------  humidity in Zollikofen May 15, 2021 4h\n",
      "ERROR:------------- name 'error' is not defined  ----------  humidity in Zollikofen May 15, 2021 4h\n",
      "QUERY:  wind speed in Zollikofen May 15, 2021 4h\n",
      "QUERY:  Moon Phase calculatorMay 15, 2021 4h\n",
      "(5846, 7)\n"
     ]
    },
    {
     "data": {
      "text/html": [
       "<div>\n",
       "<style scoped>\n",
       "    .dataframe tbody tr th:only-of-type {\n",
       "        vertical-align: middle;\n",
       "    }\n",
       "\n",
       "    .dataframe tbody tr th {\n",
       "        vertical-align: top;\n",
       "    }\n",
       "\n",
       "    .dataframe thead th {\n",
       "        text-align: right;\n",
       "    }\n",
       "</style>\n",
       "<table border=\"1\" class=\"dataframe\">\n",
       "  <thead>\n",
       "    <tr style=\"text-align: right;\">\n",
       "      <th></th>\n",
       "      <th>date</th>\n",
       "      <th>temperature</th>\n",
       "      <th>humidity</th>\n",
       "      <th>wind speed</th>\n",
       "      <th>Precipitation amount</th>\n",
       "      <th>query</th>\n",
       "      <th>Moon Phase calculator</th>\n",
       "    </tr>\n",
       "  </thead>\n",
       "  <tbody>\n",
       "    <tr>\n",
       "      <th>8</th>\n",
       "      <td>2021-05-15 03:00:00</td>\n",
       "      <td>8 °C\\n(3:00 am CEST | Saturday, May 15, 2021)</td>\n",
       "      <td>ERROR</td>\n",
       "      <td>2 m/s\\n(3:00 am CEST | Saturday, May 15, 2021)</td>\n",
       "      <td>(unknown)\\n(3:00 am CEST | Saturday, May 15, 2...</td>\n",
       "      <td>Moon Phase calculatorMay 15, 2021 3h</td>\n",
       "      <td>| waxing crescent moon\\n9.26% illuminated</td>\n",
       "    </tr>\n",
       "    <tr>\n",
       "      <th>9</th>\n",
       "      <td>2021-05-15 04:00:00</td>\n",
       "      <td>8 °C\\n(4:00 am CEST | Saturday, May 15, 2021)</td>\n",
       "      <td>ERROR</td>\n",
       "      <td>2 m/s\\n(4:00 am CEST | Saturday, May 15, 2021)</td>\n",
       "      <td>(unknown)\\n(4:00 am CEST | Saturday, May 15, 2...</td>\n",
       "      <td>Moon Phase calculatorMay 15, 2021 4h</td>\n",
       "      <td>| waxing crescent moon\\n9.50% illuminated</td>\n",
       "    </tr>\n",
       "  </tbody>\n",
       "</table>\n",
       "</div>"
      ],
      "text/plain": [
       "                 date                                    temperature humidity  \\\n",
       "8 2021-05-15 03:00:00  8 °C\\n(3:00 am CEST | Saturday, May 15, 2021)    ERROR   \n",
       "9 2021-05-15 04:00:00  8 °C\\n(4:00 am CEST | Saturday, May 15, 2021)    ERROR   \n",
       "\n",
       "                                       wind speed  \\\n",
       "8  2 m/s\\n(3:00 am CEST | Saturday, May 15, 2021)   \n",
       "9  2 m/s\\n(4:00 am CEST | Saturday, May 15, 2021)   \n",
       "\n",
       "                                Precipitation amount  \\\n",
       "8  (unknown)\\n(3:00 am CEST | Saturday, May 15, 2...   \n",
       "9  (unknown)\\n(4:00 am CEST | Saturday, May 15, 2...   \n",
       "\n",
       "                                  query  \\\n",
       "8  Moon Phase calculatorMay 15, 2021 3h   \n",
       "9  Moon Phase calculatorMay 15, 2021 4h   \n",
       "\n",
       "                       Moon Phase calculator  \n",
       "8  | waxing crescent moon\\n9.26% illuminated  \n",
       "9  | waxing crescent moon\\n9.50% illuminated  "
      ]
     },
     "metadata": {},
     "output_type": "display_data"
    },
    {
     "name": "stderr",
     "output_type": "stream",
     "text": [
      "\r",
      "  3%|██                                                                            | 41/1564 [12:26<8:27:57, 20.01s/it]"
     ]
    },
    {
     "name": "stdout",
     "output_type": "stream",
     "text": [
      "QUERY:  Precipitation amount in Zollikofen May 15, 2021 5h\n",
      "QUERY:  temperature in Zollikofen May 15, 2021 5h\n",
      "QUERY:  humidity in Zollikofen May 15, 2021 5h\n",
      "ERROR: no data available-------------  humidity in Zollikofen May 15, 2021 5h\n",
      "ERROR:------------- name 'error' is not defined  ----------  humidity in Zollikofen May 15, 2021 5h\n",
      "QUERY:  wind speed in Zollikofen May 15, 2021 5h\n",
      "QUERY:  Moon Phase calculatorMay 15, 2021 5h\n"
     ]
    },
    {
     "name": "stderr",
     "output_type": "stream",
     "text": [
      "\r",
      "  3%|██                                                                            | 42/1564 [12:47<8:31:03, 20.15s/it]"
     ]
    },
    {
     "name": "stdout",
     "output_type": "stream",
     "text": [
      "QUERY:  Precipitation amount in Zollikofen May 15, 2021 6h\n",
      "QUERY:  temperature in Zollikofen May 15, 2021 6h\n",
      "QUERY:  humidity in Zollikofen May 15, 2021 6h\n",
      "ERROR: no data available-------------  humidity in Zollikofen May 15, 2021 6h\n",
      "ERROR:------------- name 'error' is not defined  ----------  humidity in Zollikofen May 15, 2021 6h\n",
      "QUERY:  wind speed in Zollikofen May 15, 2021 6h\n",
      "QUERY:  Moon Phase calculatorMay 15, 2021 6h\n"
     ]
    },
    {
     "name": "stderr",
     "output_type": "stream",
     "text": [
      "\r",
      "  3%|██▏                                                                           | 43/1564 [13:08<8:36:05, 20.36s/it]"
     ]
    },
    {
     "name": "stdout",
     "output_type": "stream",
     "text": [
      "QUERY:  Precipitation amount in Zollikofen May 15, 2021 7h\n",
      "QUERY:  temperature in Zollikofen May 15, 2021 7h\n",
      "QUERY:  humidity in Zollikofen May 15, 2021 7h\n",
      "ERROR: no data available-------------  humidity in Zollikofen May 15, 2021 7h\n",
      "ERROR:------------- name 'error' is not defined  ----------  humidity in Zollikofen May 15, 2021 7h\n",
      "QUERY:  wind speed in Zollikofen May 15, 2021 7h\n",
      "QUERY:  Moon Phase calculatorMay 15, 2021 7h\n"
     ]
    },
    {
     "name": "stderr",
     "output_type": "stream",
     "text": [
      "\r",
      "  3%|██▏                                                                           | 44/1564 [13:29<8:39:44, 20.52s/it]"
     ]
    },
    {
     "name": "stdout",
     "output_type": "stream",
     "text": [
      "QUERY:  Precipitation amount in Zollikofen May 15, 2021 8h\n",
      "QUERY:  temperature in Zollikofen May 15, 2021 8h\n",
      "QUERY:  humidity in Zollikofen May 15, 2021 8h\n",
      "ERROR: no data available-------------  humidity in Zollikofen May 15, 2021 8h\n",
      "ERROR:------------- name 'error' is not defined  ----------  humidity in Zollikofen May 15, 2021 8h\n",
      "QUERY:  wind speed in Zollikofen May 15, 2021 8h\n",
      "QUERY:  Moon Phase calculatorMay 15, 2021 8h\n"
     ]
    },
    {
     "name": "stderr",
     "output_type": "stream",
     "text": [
      "\r",
      "  3%|██▏                                                                           | 45/1564 [13:48<8:33:30, 20.28s/it]"
     ]
    },
    {
     "name": "stdout",
     "output_type": "stream",
     "text": [
      "QUERY:  Precipitation amount in Zollikofen May 15, 2021 9h\n",
      "QUERY:  temperature in Zollikofen May 15, 2021 9h\n",
      "QUERY:  humidity in Zollikofen May 15, 2021 9h\n",
      "ERROR: no data available-------------  humidity in Zollikofen May 15, 2021 9h\n",
      "ERROR:------------- name 'error' is not defined  ----------  humidity in Zollikofen May 15, 2021 9h\n",
      "QUERY:  wind speed in Zollikofen May 15, 2021 9h\n",
      "QUERY:  Moon Phase calculatorMay 15, 2021 9h\n"
     ]
    },
    {
     "name": "stderr",
     "output_type": "stream",
     "text": [
      "\r",
      "  3%|██▎                                                                           | 46/1564 [14:09<8:32:36, 20.26s/it]"
     ]
    },
    {
     "name": "stdout",
     "output_type": "stream",
     "text": [
      "QUERY:  Precipitation amount in Zollikofen May 15, 2021 10h\n",
      "QUERY:  temperature in Zollikofen May 15, 2021 10h\n",
      "QUERY:  humidity in Zollikofen May 15, 2021 10h\n",
      "ERROR: no data available-------------  humidity in Zollikofen May 15, 2021 10h\n",
      "ERROR:------------- name 'error' is not defined  ----------  humidity in Zollikofen May 15, 2021 10h\n",
      "QUERY:  wind speed in Zollikofen May 15, 2021 10h\n",
      "QUERY:  Moon Phase calculatorMay 15, 2021 10h\n"
     ]
    },
    {
     "name": "stderr",
     "output_type": "stream",
     "text": [
      "\r",
      "  3%|██▎                                                                           | 47/1564 [14:29<8:35:50, 20.40s/it]"
     ]
    },
    {
     "name": "stdout",
     "output_type": "stream",
     "text": [
      "QUERY:  Precipitation amount in Zollikofen May 15, 2021 11h\n",
      "QUERY:  temperature in Zollikofen May 15, 2021 11h\n",
      "QUERY:  humidity in Zollikofen May 15, 2021 11h\n",
      "ERROR: no data available-------------  humidity in Zollikofen May 15, 2021 11h\n",
      "ERROR:------------- name 'error' is not defined  ----------  humidity in Zollikofen May 15, 2021 11h\n",
      "QUERY:  wind speed in Zollikofen May 15, 2021 11h\n",
      "QUERY:  Moon Phase calculatorMay 15, 2021 11h\n"
     ]
    },
    {
     "name": "stderr",
     "output_type": "stream",
     "text": [
      "\r",
      "  3%|██▍                                                                           | 48/1564 [14:48<8:22:06, 19.87s/it]"
     ]
    },
    {
     "name": "stdout",
     "output_type": "stream",
     "text": [
      "QUERY:  Precipitation amount in Zollikofen May 15, 2021 12h\n",
      "QUERY:  temperature in Zollikofen May 15, 2021 12h\n",
      "QUERY:  humidity in Zollikofen May 15, 2021 12h\n",
      "ERROR: no data available-------------  humidity in Zollikofen May 15, 2021 12h\n",
      "ERROR:------------- name 'error' is not defined  ----------  humidity in Zollikofen May 15, 2021 12h\n",
      "QUERY:  wind speed in Zollikofen May 15, 2021 12h\n",
      "QUERY:  Moon Phase calculatorMay 15, 2021 12h\n"
     ]
    },
    {
     "name": "stderr",
     "output_type": "stream",
     "text": [
      "\r",
      "  3%|██▍                                                                           | 49/1564 [15:08<8:26:16, 20.05s/it]"
     ]
    },
    {
     "name": "stdout",
     "output_type": "stream",
     "text": [
      "QUERY:  Precipitation amount in Zollikofen May 15, 2021 13h\n",
      "QUERY:  temperature in Zollikofen May 15, 2021 13h\n",
      "QUERY:  humidity in Zollikofen May 15, 2021 13h\n",
      "ERROR: no data available-------------  humidity in Zollikofen May 15, 2021 13h\n",
      "ERROR:------------- name 'error' is not defined  ----------  humidity in Zollikofen May 15, 2021 13h\n",
      "QUERY:  wind speed in Zollikofen May 15, 2021 13h\n",
      "QUERY:  Moon Phase calculatorMay 15, 2021 13h\n"
     ]
    },
    {
     "name": "stderr",
     "output_type": "stream",
     "text": [
      "\r",
      "  3%|██▍                                                                           | 50/1564 [15:29<8:33:00, 20.33s/it]"
     ]
    },
    {
     "name": "stdout",
     "output_type": "stream",
     "text": [
      "QUERY:  Precipitation amount in Zollikofen May 15, 2021 14h\n",
      "QUERY:  temperature in Zollikofen May 15, 2021 14h\n",
      "QUERY:  humidity in Zollikofen May 15, 2021 14h\n",
      "ERROR: no data available-------------  humidity in Zollikofen May 15, 2021 14h\n",
      "ERROR:------------- name 'error' is not defined  ----------  humidity in Zollikofen May 15, 2021 14h\n",
      "QUERY:  wind speed in Zollikofen May 15, 2021 14h\n",
      "QUERY:  Moon Phase calculatorMay 15, 2021 14h\n",
      "(5856, 7)\n"
     ]
    },
    {
     "data": {
      "text/html": [
       "<div>\n",
       "<style scoped>\n",
       "    .dataframe tbody tr th:only-of-type {\n",
       "        vertical-align: middle;\n",
       "    }\n",
       "\n",
       "    .dataframe tbody tr th {\n",
       "        vertical-align: top;\n",
       "    }\n",
       "\n",
       "    .dataframe thead th {\n",
       "        text-align: right;\n",
       "    }\n",
       "</style>\n",
       "<table border=\"1\" class=\"dataframe\">\n",
       "  <thead>\n",
       "    <tr style=\"text-align: right;\">\n",
       "      <th></th>\n",
       "      <th>date</th>\n",
       "      <th>temperature</th>\n",
       "      <th>humidity</th>\n",
       "      <th>wind speed</th>\n",
       "      <th>Precipitation amount</th>\n",
       "      <th>query</th>\n",
       "      <th>Moon Phase calculator</th>\n",
       "    </tr>\n",
       "  </thead>\n",
       "  <tbody>\n",
       "    <tr>\n",
       "      <th>8</th>\n",
       "      <td>2021-05-15 13:00:00</td>\n",
       "      <td>8 °C\\n(1:00 pm CEST | Saturday, May 15, 2021)</td>\n",
       "      <td>ERROR</td>\n",
       "      <td>2 m/s\\n(1:00 pm CEST | Saturday, May 15, 2021)</td>\n",
       "      <td>(unknown)\\n(1:00 pm CEST | Saturday, May 15, 2...</td>\n",
       "      <td>Moon Phase calculatorMay 15, 2021 13h</td>\n",
       "      <td>| waxing crescent moon\\n11.72% illuminated</td>\n",
       "    </tr>\n",
       "    <tr>\n",
       "      <th>9</th>\n",
       "      <td>2021-05-15 14:00:00</td>\n",
       "      <td>8 °C\\n(2:00 pm CEST | Saturday, May 15, 2021)</td>\n",
       "      <td>ERROR</td>\n",
       "      <td>2 m/s\\n(2:00 pm CEST | Saturday, May 15, 2021)</td>\n",
       "      <td>(unknown)\\n(2:00 pm CEST | Saturday, May 15, 2...</td>\n",
       "      <td>Moon Phase calculatorMay 15, 2021 14h</td>\n",
       "      <td>| waxing crescent moon\\n11.98% illuminated</td>\n",
       "    </tr>\n",
       "  </tbody>\n",
       "</table>\n",
       "</div>"
      ],
      "text/plain": [
       "                 date                                    temperature humidity  \\\n",
       "8 2021-05-15 13:00:00  8 °C\\n(1:00 pm CEST | Saturday, May 15, 2021)    ERROR   \n",
       "9 2021-05-15 14:00:00  8 °C\\n(2:00 pm CEST | Saturday, May 15, 2021)    ERROR   \n",
       "\n",
       "                                       wind speed  \\\n",
       "8  2 m/s\\n(1:00 pm CEST | Saturday, May 15, 2021)   \n",
       "9  2 m/s\\n(2:00 pm CEST | Saturday, May 15, 2021)   \n",
       "\n",
       "                                Precipitation amount  \\\n",
       "8  (unknown)\\n(1:00 pm CEST | Saturday, May 15, 2...   \n",
       "9  (unknown)\\n(2:00 pm CEST | Saturday, May 15, 2...   \n",
       "\n",
       "                                   query  \\\n",
       "8  Moon Phase calculatorMay 15, 2021 13h   \n",
       "9  Moon Phase calculatorMay 15, 2021 14h   \n",
       "\n",
       "                        Moon Phase calculator  \n",
       "8  | waxing crescent moon\\n11.72% illuminated  \n",
       "9  | waxing crescent moon\\n11.98% illuminated  "
      ]
     },
     "metadata": {},
     "output_type": "display_data"
    },
    {
     "name": "stderr",
     "output_type": "stream",
     "text": [
      "\r",
      "  3%|██▌                                                                           | 51/1564 [15:49<8:29:44, 20.21s/it]"
     ]
    },
    {
     "name": "stdout",
     "output_type": "stream",
     "text": [
      "QUERY:  Precipitation amount in Zollikofen May 15, 2021 15h\n",
      "QUERY:  temperature in Zollikofen May 15, 2021 15h\n",
      "QUERY:  humidity in Zollikofen May 15, 2021 15h\n",
      "ERROR: no data available-------------  humidity in Zollikofen May 15, 2021 15h\n",
      "ERROR:------------- name 'error' is not defined  ----------  humidity in Zollikofen May 15, 2021 15h\n",
      "QUERY:  wind speed in Zollikofen May 15, 2021 15h\n",
      "QUERY:  Moon Phase calculatorMay 15, 2021 15h\n"
     ]
    },
    {
     "name": "stderr",
     "output_type": "stream",
     "text": [
      "\r",
      "  3%|██▌                                                                           | 52/1564 [16:09<8:27:00, 20.12s/it]"
     ]
    },
    {
     "name": "stdout",
     "output_type": "stream",
     "text": [
      "QUERY:  Precipitation amount in Zollikofen May 15, 2021 16h\n",
      "QUERY:  temperature in Zollikofen May 15, 2021 16h\n",
      "QUERY:  humidity in Zollikofen May 15, 2021 16h\n",
      "ERROR: no data available-------------  humidity in Zollikofen May 15, 2021 16h\n",
      "ERROR:------------- name 'error' is not defined  ----------  humidity in Zollikofen May 15, 2021 16h\n",
      "QUERY:  wind speed in Zollikofen May 15, 2021 16h\n",
      "QUERY:  Moon Phase calculatorMay 15, 2021 16h\n"
     ]
    },
    {
     "name": "stderr",
     "output_type": "stream",
     "text": [
      "\r",
      "  3%|██▋                                                                           | 53/1564 [16:29<8:25:26, 20.07s/it]"
     ]
    },
    {
     "name": "stdout",
     "output_type": "stream",
     "text": [
      "QUERY:  Precipitation amount in Zollikofen May 15, 2021 17h\n",
      "QUERY:  temperature in Zollikofen May 15, 2021 17h\n",
      "QUERY:  humidity in Zollikofen May 15, 2021 17h\n",
      "ERROR: no data available-------------  humidity in Zollikofen May 15, 2021 17h\n",
      "ERROR:------------- name 'error' is not defined  ----------  humidity in Zollikofen May 15, 2021 17h\n",
      "QUERY:  wind speed in Zollikofen May 15, 2021 17h\n",
      "QUERY:  Moon Phase calculatorMay 15, 2021 17h\n"
     ]
    },
    {
     "name": "stderr",
     "output_type": "stream",
     "text": [
      "\r",
      "  3%|██▋                                                                           | 54/1564 [16:49<8:24:43, 20.06s/it]"
     ]
    },
    {
     "name": "stdout",
     "output_type": "stream",
     "text": [
      "QUERY:  Precipitation amount in Zollikofen May 15, 2021 18h\n",
      "QUERY:  temperature in Zollikofen May 15, 2021 18h\n",
      "QUERY:  humidity in Zollikofen May 15, 2021 18h\n",
      "ERROR: no data available-------------  humidity in Zollikofen May 15, 2021 18h\n",
      "ERROR:------------- name 'error' is not defined  ----------  humidity in Zollikofen May 15, 2021 18h\n",
      "QUERY:  wind speed in Zollikofen May 15, 2021 18h\n",
      "QUERY:  Moon Phase calculatorMay 15, 2021 18h\n"
     ]
    },
    {
     "name": "stderr",
     "output_type": "stream",
     "text": [
      "\r",
      "  4%|██▋                                                                           | 55/1564 [17:12<8:44:21, 20.85s/it]"
     ]
    },
    {
     "name": "stdout",
     "output_type": "stream",
     "text": [
      "QUERY:  Precipitation amount in Zollikofen May 15, 2021 19h\n",
      "QUERY:  temperature in Zollikofen May 15, 2021 19h\n",
      "QUERY:  humidity in Zollikofen May 15, 2021 19h\n",
      "ERROR: no data available-------------  humidity in Zollikofen May 15, 2021 19h\n",
      "ERROR:------------- name 'error' is not defined  ----------  humidity in Zollikofen May 15, 2021 19h\n",
      "QUERY:  wind speed in Zollikofen May 15, 2021 19h\n",
      "QUERY:  Moon Phase calculatorMay 15, 2021 19h\n"
     ]
    },
    {
     "name": "stderr",
     "output_type": "stream",
     "text": [
      "\r",
      "  4%|██▊                                                                           | 56/1564 [17:33<8:47:05, 20.97s/it]"
     ]
    },
    {
     "name": "stdout",
     "output_type": "stream",
     "text": [
      "QUERY:  Precipitation amount in Zollikofen May 15, 2021 20h\n",
      "QUERY:  temperature in Zollikofen May 15, 2021 20h\n",
      "QUERY:  humidity in Zollikofen May 15, 2021 20h\n",
      "ERROR: no data available-------------  humidity in Zollikofen May 15, 2021 20h\n",
      "ERROR:------------- name 'error' is not defined  ----------  humidity in Zollikofen May 15, 2021 20h\n",
      "QUERY:  wind speed in Zollikofen May 15, 2021 20h\n",
      "QUERY:  Moon Phase calculatorMay 15, 2021 20h\n"
     ]
    },
    {
     "name": "stderr",
     "output_type": "stream",
     "text": [
      "\r",
      "  4%|██▊                                                                           | 57/1564 [17:53<8:36:11, 20.55s/it]"
     ]
    },
    {
     "name": "stdout",
     "output_type": "stream",
     "text": [
      "QUERY:  Precipitation amount in Zollikofen May 15, 2021 21h\n",
      "QUERY:  temperature in Zollikofen May 15, 2021 21h\n",
      "QUERY:  humidity in Zollikofen May 15, 2021 21h\n",
      "ERROR: no data available-------------  humidity in Zollikofen May 15, 2021 21h\n",
      "ERROR:------------- name 'error' is not defined  ----------  humidity in Zollikofen May 15, 2021 21h\n",
      "QUERY:  wind speed in Zollikofen May 15, 2021 21h\n",
      "QUERY:  Moon Phase calculatorMay 15, 2021 21h\n"
     ]
    },
    {
     "name": "stderr",
     "output_type": "stream",
     "text": [
      "\r",
      "  4%|██▉                                                                           | 58/1564 [18:12<8:29:21, 20.29s/it]"
     ]
    },
    {
     "name": "stdout",
     "output_type": "stream",
     "text": [
      "QUERY:  Precipitation amount in Zollikofen May 15, 2021 22h\n",
      "QUERY:  temperature in Zollikofen May 15, 2021 22h\n",
      "ERROR: no data available-------------  temperature in Zollikofen May 15, 2021 22h\n",
      "ERROR:------------- name 'error' is not defined  ----------  temperature in Zollikofen May 15, 2021 22h\n",
      "QUERY:  humidity in Zollikofen May 15, 2021 22h\n",
      "ERROR: no data available-------------  humidity in Zollikofen May 15, 2021 22h\n",
      "ERROR:------------- name 'error' is not defined  ----------  humidity in Zollikofen May 15, 2021 22h\n",
      "QUERY:  wind speed in Zollikofen May 15, 2021 22h\n",
      "ERROR: no data available-------------  wind speed in Zollikofen May 15, 2021 22h\n",
      "ERROR:------------- name 'error' is not defined  ----------  wind speed in Zollikofen May 15, 2021 22h\n",
      "QUERY:  Moon Phase calculatorMay 15, 2021 22h\n"
     ]
    },
    {
     "name": "stderr",
     "output_type": "stream",
     "text": [
      "\r",
      "  4%|██▉                                                                           | 59/1564 [18:32<8:24:51, 20.13s/it]"
     ]
    },
    {
     "name": "stdout",
     "output_type": "stream",
     "text": [
      "QUERY:  Precipitation amount in Zollikofen May 15, 2021 23h\n",
      "QUERY:  temperature in Zollikofen May 15, 2021 23h\n",
      "ERROR: no data available-------------  temperature in Zollikofen May 15, 2021 23h\n",
      "ERROR:------------- name 'error' is not defined  ----------  temperature in Zollikofen May 15, 2021 23h\n",
      "QUERY:  humidity in Zollikofen May 15, 2021 23h\n",
      "ERROR: no data available-------------  humidity in Zollikofen May 15, 2021 23h\n",
      "ERROR:------------- name 'error' is not defined  ----------  humidity in Zollikofen May 15, 2021 23h\n",
      "QUERY:  wind speed in Zollikofen May 15, 2021 23h\n",
      "ERROR: no data available-------------  wind speed in Zollikofen May 15, 2021 23h\n",
      "ERROR:------------- name 'error' is not defined  ----------  wind speed in Zollikofen May 15, 2021 23h\n",
      "QUERY:  Moon Phase calculatorMay 15, 2021 23h\n"
     ]
    },
    {
     "name": "stderr",
     "output_type": "stream",
     "text": [
      "\r",
      "  4%|██▉                                                                           | 60/1564 [18:54<8:34:10, 20.51s/it]"
     ]
    },
    {
     "name": "stdout",
     "output_type": "stream",
     "text": [
      "QUERY:  Precipitation amount in Zollikofen May 26, 2021 8h\n",
      "QUERY:  temperature in Zollikofen May 26, 2021 8h\n",
      "QUERY:  humidity in Zollikofen May 26, 2021 8h\n",
      "QUERY:  wind speed in Zollikofen May 26, 2021 8h\n",
      "QUERY:  Moon Phase calculatorMay 26, 2021 8h\n",
      "(5866, 7)\n"
     ]
    },
    {
     "data": {
      "text/html": [
       "<div>\n",
       "<style scoped>\n",
       "    .dataframe tbody tr th:only-of-type {\n",
       "        vertical-align: middle;\n",
       "    }\n",
       "\n",
       "    .dataframe tbody tr th {\n",
       "        vertical-align: top;\n",
       "    }\n",
       "\n",
       "    .dataframe thead th {\n",
       "        text-align: right;\n",
       "    }\n",
       "</style>\n",
       "<table border=\"1\" class=\"dataframe\">\n",
       "  <thead>\n",
       "    <tr style=\"text-align: right;\">\n",
       "      <th></th>\n",
       "      <th>date</th>\n",
       "      <th>temperature</th>\n",
       "      <th>humidity</th>\n",
       "      <th>wind speed</th>\n",
       "      <th>Precipitation amount</th>\n",
       "      <th>query</th>\n",
       "      <th>Moon Phase calculator</th>\n",
       "    </tr>\n",
       "  </thead>\n",
       "  <tbody>\n",
       "    <tr>\n",
       "      <th>8</th>\n",
       "      <td>2021-05-15 23:00:00</td>\n",
       "      <td>ERROR</td>\n",
       "      <td>ERROR</td>\n",
       "      <td>ERROR</td>\n",
       "      <td>(unknown)\\n(11:00 pm CEST | Saturday, May 15, ...</td>\n",
       "      <td>Moon Phase calculatorMay 15, 2021 23h</td>\n",
       "      <td>| waxing crescent moon\\n14.45% illuminated</td>\n",
       "    </tr>\n",
       "    <tr>\n",
       "      <th>9</th>\n",
       "      <td>2021-05-26 08:00:00</td>\n",
       "      <td>11 °C\\n(8:00 am CEST | Wednesday, May 26, 2021)</td>\n",
       "      <td>average: 60% (58 to 62%)\\n(8:00 am CEST | Wedn...</td>\n",
       "      <td>4 m/s\\n(8:00 am CEST | Wednesday, May 26, 2021)</td>\n",
       "      <td>no precipitation\\n(8:00 am CEST | Wednesday, M...</td>\n",
       "      <td>Moon Phase calculatorMay 26, 2021 8h</td>\n",
       "      <td>| full moon\\n99.92% illuminated</td>\n",
       "    </tr>\n",
       "  </tbody>\n",
       "</table>\n",
       "</div>"
      ],
      "text/plain": [
       "                 date                                      temperature  \\\n",
       "8 2021-05-15 23:00:00                                            ERROR   \n",
       "9 2021-05-26 08:00:00  11 °C\\n(8:00 am CEST | Wednesday, May 26, 2021)   \n",
       "\n",
       "                                            humidity  \\\n",
       "8                                              ERROR   \n",
       "9  average: 60% (58 to 62%)\\n(8:00 am CEST | Wedn...   \n",
       "\n",
       "                                        wind speed  \\\n",
       "8                                            ERROR   \n",
       "9  4 m/s\\n(8:00 am CEST | Wednesday, May 26, 2021)   \n",
       "\n",
       "                                Precipitation amount  \\\n",
       "8  (unknown)\\n(11:00 pm CEST | Saturday, May 15, ...   \n",
       "9  no precipitation\\n(8:00 am CEST | Wednesday, M...   \n",
       "\n",
       "                                   query  \\\n",
       "8  Moon Phase calculatorMay 15, 2021 23h   \n",
       "9   Moon Phase calculatorMay 26, 2021 8h   \n",
       "\n",
       "                        Moon Phase calculator  \n",
       "8  | waxing crescent moon\\n14.45% illuminated  \n",
       "9             | full moon\\n99.92% illuminated  "
      ]
     },
     "metadata": {},
     "output_type": "display_data"
    },
    {
     "name": "stderr",
     "output_type": "stream",
     "text": [
      "\r",
      "  4%|███                                                                           | 61/1564 [19:13<8:29:23, 20.33s/it]"
     ]
    },
    {
     "name": "stdout",
     "output_type": "stream",
     "text": [
      "QUERY:  Precipitation amount in Zollikofen May 31, 2021 10h\n",
      "QUERY:  temperature in Zollikofen May 31, 2021 10h\n",
      "QUERY:  humidity in Zollikofen May 31, 2021 10h\n",
      "QUERY:  wind speed in Zollikofen May 31, 2021 10h\n",
      "QUERY:  Moon Phase calculatorMay 31, 2021 10h\n"
     ]
    },
    {
     "name": "stderr",
     "output_type": "stream",
     "text": [
      "\r",
      "  4%|███                                                                           | 62/1564 [19:33<8:22:00, 20.05s/it]"
     ]
    },
    {
     "name": "stdout",
     "output_type": "stream",
     "text": [
      "QUERY:  Precipitation amount in Zollikofen May 31, 2021 11h\n",
      "QUERY:  temperature in Zollikofen May 31, 2021 11h\n",
      "QUERY:  humidity in Zollikofen May 31, 2021 11h\n",
      "QUERY:  wind speed in Zollikofen May 31, 2021 11h\n",
      "QUERY:  Moon Phase calculatorMay 31, 2021 11h\n"
     ]
    },
    {
     "name": "stderr",
     "output_type": "stream",
     "text": [
      "\r",
      "  4%|███▏                                                                          | 63/1564 [19:55<8:36:37, 20.65s/it]"
     ]
    },
    {
     "name": "stdout",
     "output_type": "stream",
     "text": [
      "QUERY:  Precipitation amount in Zollikofen May 31, 2021 12h\n",
      "QUERY:  temperature in Zollikofen May 31, 2021 12h\n",
      "QUERY:  humidity in Zollikofen May 31, 2021 12h\n",
      "QUERY:  wind speed in Zollikofen May 31, 2021 12h\n",
      "QUERY:  Moon Phase calculatorMay 31, 2021 12h\n"
     ]
    },
    {
     "name": "stderr",
     "output_type": "stream",
     "text": [
      "\r",
      "  4%|███▏                                                                          | 64/1564 [20:14<8:28:10, 20.33s/it]"
     ]
    },
    {
     "name": "stdout",
     "output_type": "stream",
     "text": [
      "QUERY:  Precipitation amount in Zollikofen May 31, 2021 13h\n",
      "QUERY:  temperature in Zollikofen May 31, 2021 13h\n",
      "QUERY:  humidity in Zollikofen May 31, 2021 13h\n",
      "QUERY:  wind speed in Zollikofen May 31, 2021 13h\n",
      "QUERY:  Moon Phase calculatorMay 31, 2021 13h\n"
     ]
    },
    {
     "name": "stderr",
     "output_type": "stream",
     "text": [
      "\r",
      "  4%|███▏                                                                          | 65/1564 [20:34<8:25:04, 20.22s/it]"
     ]
    },
    {
     "name": "stdout",
     "output_type": "stream",
     "text": [
      "QUERY:  Precipitation amount in Zollikofen May 31, 2021 14h\n",
      "QUERY:  temperature in Zollikofen May 31, 2021 14h\n",
      "QUERY:  humidity in Zollikofen May 31, 2021 14h\n",
      "QUERY:  wind speed in Zollikofen May 31, 2021 14h\n",
      "QUERY:  Moon Phase calculatorMay 31, 2021 14h\n"
     ]
    },
    {
     "name": "stderr",
     "output_type": "stream",
     "text": [
      "\r",
      "  4%|███▎                                                                          | 66/1564 [20:54<8:21:33, 20.09s/it]"
     ]
    },
    {
     "name": "stdout",
     "output_type": "stream",
     "text": [
      "QUERY:  Precipitation amount in Zollikofen May 31, 2021 15h\n",
      "QUERY:  temperature in Zollikofen May 31, 2021 15h\n",
      "QUERY:  humidity in Zollikofen May 31, 2021 15h\n",
      "QUERY:  wind speed in Zollikofen May 31, 2021 15h\n",
      "QUERY:  Moon Phase calculatorMay 31, 2021 15h\n"
     ]
    },
    {
     "name": "stderr",
     "output_type": "stream",
     "text": [
      "\r",
      "  4%|███▎                                                                          | 67/1564 [21:16<8:31:36, 20.51s/it]"
     ]
    },
    {
     "name": "stdout",
     "output_type": "stream",
     "text": [
      "QUERY:  Precipitation amount in Zollikofen May 31, 2021 16h\n",
      "QUERY:  temperature in Zollikofen May 31, 2021 16h\n",
      "QUERY:  humidity in Zollikofen May 31, 2021 16h\n",
      "QUERY:  wind speed in Zollikofen May 31, 2021 16h\n",
      "QUERY:  Moon Phase calculatorMay 31, 2021 16h\n"
     ]
    },
    {
     "name": "stderr",
     "output_type": "stream",
     "text": [
      "\r",
      "  4%|███▍                                                                          | 68/1564 [21:36<8:28:43, 20.40s/it]"
     ]
    },
    {
     "name": "stdout",
     "output_type": "stream",
     "text": [
      "QUERY:  Precipitation amount in Zollikofen May 31, 2021 17h\n",
      "QUERY:  temperature in Zollikofen May 31, 2021 17h\n",
      "QUERY:  humidity in Zollikofen May 31, 2021 17h\n",
      "QUERY:  wind speed in Zollikofen May 31, 2021 17h\n",
      "QUERY:  Moon Phase calculatorMay 31, 2021 17h\n"
     ]
    },
    {
     "name": "stderr",
     "output_type": "stream",
     "text": [
      "\r",
      "  4%|███▍                                                                          | 69/1564 [21:56<8:23:33, 20.21s/it]"
     ]
    },
    {
     "name": "stdout",
     "output_type": "stream",
     "text": [
      "QUERY:  Precipitation amount in Zollikofen May 31, 2021 18h\n",
      "QUERY:  temperature in Zollikofen May 31, 2021 18h\n",
      "QUERY:  humidity in Zollikofen May 31, 2021 18h\n",
      "QUERY:  wind speed in Zollikofen May 31, 2021 18h\n",
      "QUERY:  Moon Phase calculatorMay 31, 2021 18h\n"
     ]
    },
    {
     "name": "stderr",
     "output_type": "stream",
     "text": [
      "\r",
      "  4%|███▍                                                                          | 70/1564 [22:16<8:26:02, 20.32s/it]"
     ]
    },
    {
     "name": "stdout",
     "output_type": "stream",
     "text": [
      "QUERY:  Precipitation amount in Zollikofen May 31, 2021 19h\n",
      "QUERY:  temperature in Zollikofen May 31, 2021 19h\n",
      "QUERY:  humidity in Zollikofen May 31, 2021 19h\n",
      "QUERY:  wind speed in Zollikofen May 31, 2021 19h\n",
      "QUERY:  Moon Phase calculatorMay 31, 2021 19h\n",
      "(5876, 7)\n"
     ]
    },
    {
     "data": {
      "text/html": [
       "<div>\n",
       "<style scoped>\n",
       "    .dataframe tbody tr th:only-of-type {\n",
       "        vertical-align: middle;\n",
       "    }\n",
       "\n",
       "    .dataframe tbody tr th {\n",
       "        vertical-align: top;\n",
       "    }\n",
       "\n",
       "    .dataframe thead th {\n",
       "        text-align: right;\n",
       "    }\n",
       "</style>\n",
       "<table border=\"1\" class=\"dataframe\">\n",
       "  <thead>\n",
       "    <tr style=\"text-align: right;\">\n",
       "      <th></th>\n",
       "      <th>date</th>\n",
       "      <th>temperature</th>\n",
       "      <th>humidity</th>\n",
       "      <th>wind speed</th>\n",
       "      <th>Precipitation amount</th>\n",
       "      <th>query</th>\n",
       "      <th>Moon Phase calculator</th>\n",
       "    </tr>\n",
       "  </thead>\n",
       "  <tbody>\n",
       "    <tr>\n",
       "      <th>8</th>\n",
       "      <td>2021-05-31 18:00:00</td>\n",
       "      <td>21 °C\\n(6:00 pm CEST | Monday, May 31, 2021)</td>\n",
       "      <td>average: 42% (41 to 43%)\\n(6:00 pm CEST | Mond...</td>\n",
       "      <td>3 m/s\\n(6:00 pm CEST | Monday, May 31, 2021)</td>\n",
       "      <td>no precipitation\\n(6:00 pm CEST | Monday, May ...</td>\n",
       "      <td>Moon Phase calculatorMay 31, 2021 18h</td>\n",
       "      <td>| waning gibbous moon\\n67.04% illuminated</td>\n",
       "    </tr>\n",
       "    <tr>\n",
       "      <th>9</th>\n",
       "      <td>2021-05-31 19:00:00</td>\n",
       "      <td>21 °C\\n(7:00 pm CEST | Monday, May 31, 2021)</td>\n",
       "      <td>average: 40% (40 to 41%)\\n(7:00 pm CEST | Mond...</td>\n",
       "      <td>4 m/s\\n(7:00 pm CEST | Monday, May 31, 2021)</td>\n",
       "      <td>no precipitation\\n(7:00 pm CEST | Monday, May ...</td>\n",
       "      <td>Moon Phase calculatorMay 31, 2021 19h</td>\n",
       "      <td>| waning gibbous moon\\n66.61% illuminated</td>\n",
       "    </tr>\n",
       "  </tbody>\n",
       "</table>\n",
       "</div>"
      ],
      "text/plain": [
       "                 date                                   temperature  \\\n",
       "8 2021-05-31 18:00:00  21 °C\\n(6:00 pm CEST | Monday, May 31, 2021)   \n",
       "9 2021-05-31 19:00:00  21 °C\\n(7:00 pm CEST | Monday, May 31, 2021)   \n",
       "\n",
       "                                            humidity  \\\n",
       "8  average: 42% (41 to 43%)\\n(6:00 pm CEST | Mond...   \n",
       "9  average: 40% (40 to 41%)\\n(7:00 pm CEST | Mond...   \n",
       "\n",
       "                                     wind speed  \\\n",
       "8  3 m/s\\n(6:00 pm CEST | Monday, May 31, 2021)   \n",
       "9  4 m/s\\n(7:00 pm CEST | Monday, May 31, 2021)   \n",
       "\n",
       "                                Precipitation amount  \\\n",
       "8  no precipitation\\n(6:00 pm CEST | Monday, May ...   \n",
       "9  no precipitation\\n(7:00 pm CEST | Monday, May ...   \n",
       "\n",
       "                                   query  \\\n",
       "8  Moon Phase calculatorMay 31, 2021 18h   \n",
       "9  Moon Phase calculatorMay 31, 2021 19h   \n",
       "\n",
       "                       Moon Phase calculator  \n",
       "8  | waning gibbous moon\\n67.04% illuminated  \n",
       "9  | waning gibbous moon\\n66.61% illuminated  "
      ]
     },
     "metadata": {},
     "output_type": "display_data"
    },
    {
     "name": "stderr",
     "output_type": "stream",
     "text": [
      "\r",
      "  5%|███▌                                                                          | 71/1564 [22:36<8:22:26, 20.19s/it]"
     ]
    },
    {
     "name": "stdout",
     "output_type": "stream",
     "text": [
      "QUERY:  Precipitation amount in Zollikofen May 31, 2021 20h\n",
      "QUERY:  temperature in Zollikofen May 31, 2021 20h\n",
      "QUERY:  humidity in Zollikofen May 31, 2021 20h\n",
      "QUERY:  wind speed in Zollikofen May 31, 2021 20h\n",
      "QUERY:  Moon Phase calculatorMay 31, 2021 20h\n"
     ]
    },
    {
     "name": "stderr",
     "output_type": "stream",
     "text": [
      "\r",
      "  5%|███▌                                                                          | 72/1564 [22:58<8:31:13, 20.56s/it]"
     ]
    },
    {
     "name": "stdout",
     "output_type": "stream",
     "text": [
      "QUERY:  Precipitation amount in Zollikofen May 31, 2021 21h\n",
      "QUERY:  temperature in Zollikofen May 31, 2021 21h\n",
      "QUERY:  humidity in Zollikofen May 31, 2021 21h\n",
      "QUERY:  wind speed in Zollikofen May 31, 2021 21h\n",
      "QUERY:  Moon Phase calculatorMay 31, 2021 21h\n"
     ]
    },
    {
     "name": "stderr",
     "output_type": "stream",
     "text": [
      "\r",
      "  5%|███▋                                                                          | 73/1564 [23:18<8:32:38, 20.63s/it]"
     ]
    },
    {
     "name": "stdout",
     "output_type": "stream",
     "text": [
      "QUERY:  Precipitation amount in Zollikofen May 31, 2021 22h\n",
      "QUERY:  temperature in Zollikofen May 31, 2021 22h\n",
      "QUERY:  humidity in Zollikofen May 31, 2021 22h\n",
      "QUERY:  wind speed in Zollikofen May 31, 2021 22h\n",
      "QUERY:  Moon Phase calculatorMay 31, 2021 22h\n"
     ]
    },
    {
     "name": "stderr",
     "output_type": "stream",
     "text": [
      "\r",
      "  5%|███▋                                                                          | 74/1564 [23:38<8:25:16, 20.35s/it]"
     ]
    },
    {
     "name": "stdout",
     "output_type": "stream",
     "text": [
      "QUERY:  Precipitation amount in Zollikofen May 31, 2021 23h\n",
      "QUERY:  temperature in Zollikofen May 31, 2021 23h\n",
      "QUERY:  humidity in Zollikofen May 31, 2021 23h\n",
      "QUERY:  wind speed in Zollikofen May 31, 2021 23h\n",
      "QUERY:  Moon Phase calculatorMay 31, 2021 23h\n"
     ]
    },
    {
     "name": "stderr",
     "output_type": "stream",
     "text": [
      "\r",
      "  5%|███▋                                                                          | 75/1564 [23:59<8:28:16, 20.48s/it]"
     ]
    },
    {
     "name": "stdout",
     "output_type": "stream",
     "text": [
      "QUERY:  Precipitation amount in Zollikofen June 1, 2021 0h\n",
      "QUERY:  temperature in Zollikofen June 1, 2021 0h\n",
      "QUERY:  humidity in Zollikofen June 1, 2021 0h\n",
      "QUERY:  wind speed in Zollikofen June 1, 2021 0h\n",
      "QUERY:  Moon Phase calculatorJune 1, 2021 0h\n"
     ]
    },
    {
     "name": "stderr",
     "output_type": "stream",
     "text": [
      "\r",
      "  5%|███▊                                                                          | 76/1564 [24:18<8:19:56, 20.16s/it]"
     ]
    },
    {
     "name": "stdout",
     "output_type": "stream",
     "text": [
      "QUERY:  Precipitation amount in Zollikofen June 1, 2021 1h\n",
      "QUERY:  temperature in Zollikofen June 1, 2021 1h\n",
      "QUERY:  humidity in Zollikofen June 1, 2021 1h\n",
      "QUERY:  wind speed in Zollikofen June 1, 2021 1h\n",
      "QUERY:  Moon Phase calculatorJune 1, 2021 1h\n"
     ]
    },
    {
     "name": "stderr",
     "output_type": "stream",
     "text": [
      "\r",
      "  5%|███▊                                                                          | 77/1564 [24:38<8:13:48, 19.93s/it]"
     ]
    },
    {
     "name": "stdout",
     "output_type": "stream",
     "text": [
      "QUERY:  Precipitation amount in Zollikofen June 1, 2021 2h\n",
      "QUERY:  temperature in Zollikofen June 1, 2021 2h\n",
      "QUERY:  humidity in Zollikofen June 1, 2021 2h\n",
      "QUERY:  wind speed in Zollikofen June 1, 2021 2h\n",
      "QUERY:  Moon Phase calculatorJune 1, 2021 2h\n"
     ]
    },
    {
     "name": "stderr",
     "output_type": "stream",
     "text": [
      "\r",
      "  5%|███▉                                                                          | 78/1564 [24:57<8:07:07, 19.67s/it]"
     ]
    },
    {
     "name": "stdout",
     "output_type": "stream",
     "text": [
      "QUERY:  Precipitation amount in Zollikofen June 1, 2021 3h\n",
      "QUERY:  temperature in Zollikofen June 1, 2021 3h\n",
      "QUERY:  humidity in Zollikofen June 1, 2021 3h\n",
      "QUERY:  wind speed in Zollikofen June 1, 2021 3h\n",
      "QUERY:  Moon Phase calculatorJune 1, 2021 3h\n"
     ]
    },
    {
     "name": "stderr",
     "output_type": "stream",
     "text": [
      "\r",
      "  5%|███▉                                                                          | 79/1564 [25:16<8:02:05, 19.48s/it]"
     ]
    },
    {
     "name": "stdout",
     "output_type": "stream",
     "text": [
      "QUERY:  Precipitation amount in Zollikofen June 1, 2021 4h\n",
      "QUERY:  temperature in Zollikofen June 1, 2021 4h\n",
      "QUERY:  humidity in Zollikofen June 1, 2021 4h\n",
      "QUERY:  wind speed in Zollikofen June 1, 2021 4h\n",
      "QUERY:  Moon Phase calculatorJune 1, 2021 4h\n"
     ]
    },
    {
     "name": "stderr",
     "output_type": "stream",
     "text": [
      "\r",
      "  5%|███▉                                                                          | 80/1564 [25:35<8:04:01, 19.57s/it]"
     ]
    },
    {
     "name": "stdout",
     "output_type": "stream",
     "text": [
      "QUERY:  Precipitation amount in Zollikofen June 1, 2021 5h\n",
      "QUERY:  temperature in Zollikofen June 1, 2021 5h\n",
      "QUERY:  humidity in Zollikofen June 1, 2021 5h\n",
      "QUERY:  wind speed in Zollikofen June 1, 2021 5h\n",
      "QUERY:  Moon Phase calculatorJune 1, 2021 5h\n",
      "(5886, 7)\n"
     ]
    },
    {
     "data": {
      "text/html": [
       "<div>\n",
       "<style scoped>\n",
       "    .dataframe tbody tr th:only-of-type {\n",
       "        vertical-align: middle;\n",
       "    }\n",
       "\n",
       "    .dataframe tbody tr th {\n",
       "        vertical-align: top;\n",
       "    }\n",
       "\n",
       "    .dataframe thead th {\n",
       "        text-align: right;\n",
       "    }\n",
       "</style>\n",
       "<table border=\"1\" class=\"dataframe\">\n",
       "  <thead>\n",
       "    <tr style=\"text-align: right;\">\n",
       "      <th></th>\n",
       "      <th>date</th>\n",
       "      <th>temperature</th>\n",
       "      <th>humidity</th>\n",
       "      <th>wind speed</th>\n",
       "      <th>Precipitation amount</th>\n",
       "      <th>query</th>\n",
       "      <th>Moon Phase calculator</th>\n",
       "    </tr>\n",
       "  </thead>\n",
       "  <tbody>\n",
       "    <tr>\n",
       "      <th>8</th>\n",
       "      <td>2021-06-01 04:00:00</td>\n",
       "      <td>9 °C\\n(4:00 am CEST | Tuesday, June 1, 2021)</td>\n",
       "      <td>average: 100% (100%)\\n(4:00 am CEST | Tuesday,...</td>\n",
       "      <td>1 m/s\\n(4:00 am CEST | Tuesday, June 1, 2021)</td>\n",
       "      <td>no precipitation\\n(4:00 am CEST | Tuesday, Jun...</td>\n",
       "      <td>Moon Phase calculatorJune 1, 2021 4h</td>\n",
       "      <td>| waning gibbous moon\\n62.77% illuminated</td>\n",
       "    </tr>\n",
       "    <tr>\n",
       "      <th>9</th>\n",
       "      <td>2021-06-01 05:00:00</td>\n",
       "      <td>9 °C\\n(5:00 am CEST | Tuesday, June 1, 2021)</td>\n",
       "      <td>average: 100% (100%)\\n(5:00 am CEST | Tuesday,...</td>\n",
       "      <td>1 m/s\\n(5:00 am CEST | Tuesday, June 1, 2021)</td>\n",
       "      <td>no precipitation\\n(5:00 am CEST | Tuesday, Jun...</td>\n",
       "      <td>Moon Phase calculatorJune 1, 2021 5h</td>\n",
       "      <td>| waning gibbous moon\\n62.34% illuminated</td>\n",
       "    </tr>\n",
       "  </tbody>\n",
       "</table>\n",
       "</div>"
      ],
      "text/plain": [
       "                 date                                   temperature  \\\n",
       "8 2021-06-01 04:00:00  9 °C\\n(4:00 am CEST | Tuesday, June 1, 2021)   \n",
       "9 2021-06-01 05:00:00  9 °C\\n(5:00 am CEST | Tuesday, June 1, 2021)   \n",
       "\n",
       "                                            humidity  \\\n",
       "8  average: 100% (100%)\\n(4:00 am CEST | Tuesday,...   \n",
       "9  average: 100% (100%)\\n(5:00 am CEST | Tuesday,...   \n",
       "\n",
       "                                      wind speed  \\\n",
       "8  1 m/s\\n(4:00 am CEST | Tuesday, June 1, 2021)   \n",
       "9  1 m/s\\n(5:00 am CEST | Tuesday, June 1, 2021)   \n",
       "\n",
       "                                Precipitation amount  \\\n",
       "8  no precipitation\\n(4:00 am CEST | Tuesday, Jun...   \n",
       "9  no precipitation\\n(5:00 am CEST | Tuesday, Jun...   \n",
       "\n",
       "                                  query  \\\n",
       "8  Moon Phase calculatorJune 1, 2021 4h   \n",
       "9  Moon Phase calculatorJune 1, 2021 5h   \n",
       "\n",
       "                       Moon Phase calculator  \n",
       "8  | waning gibbous moon\\n62.77% illuminated  \n",
       "9  | waning gibbous moon\\n62.34% illuminated  "
      ]
     },
     "metadata": {},
     "output_type": "display_data"
    },
    {
     "name": "stderr",
     "output_type": "stream",
     "text": [
      "\r",
      "  5%|████                                                                          | 81/1564 [25:54<7:59:14, 19.39s/it]"
     ]
    },
    {
     "name": "stdout",
     "output_type": "stream",
     "text": [
      "QUERY:  Precipitation amount in Zollikofen June 1, 2021 6h\n",
      "QUERY:  temperature in Zollikofen June 1, 2021 6h\n",
      "QUERY:  humidity in Zollikofen June 1, 2021 6h\n",
      "QUERY:  wind speed in Zollikofen June 1, 2021 6h\n",
      "QUERY:  Moon Phase calculatorJune 1, 2021 6h\n"
     ]
    },
    {
     "name": "stderr",
     "output_type": "stream",
     "text": [
      "\r",
      "  5%|████                                                                          | 82/1564 [26:13<7:54:36, 19.21s/it]"
     ]
    },
    {
     "name": "stdout",
     "output_type": "stream",
     "text": [
      "QUERY:  Precipitation amount in Zollikofen June 1, 2021 7h\n",
      "QUERY:  temperature in Zollikofen June 1, 2021 7h\n",
      "QUERY:  humidity in Zollikofen June 1, 2021 7h\n",
      "QUERY:  wind speed in Zollikofen June 1, 2021 7h\n",
      "QUERY:  Moon Phase calculatorJune 1, 2021 7h\n"
     ]
    },
    {
     "name": "stderr",
     "output_type": "stream",
     "text": [
      "\r",
      "  5%|████▏                                                                         | 83/1564 [26:33<7:57:44, 19.36s/it]"
     ]
    },
    {
     "name": "stdout",
     "output_type": "stream",
     "text": [
      "QUERY:  Precipitation amount in Zollikofen June 1, 2021 8h\n",
      "QUERY:  temperature in Zollikofen June 1, 2021 8h\n",
      "QUERY:  humidity in Zollikofen June 1, 2021 8h\n",
      "QUERY:  wind speed in Zollikofen June 1, 2021 8h\n",
      "QUERY:  Moon Phase calculatorJune 1, 2021 8h\n"
     ]
    },
    {
     "name": "stderr",
     "output_type": "stream",
     "text": [
      "\r",
      "  5%|████▏                                                                         | 84/1564 [26:52<7:58:50, 19.41s/it]"
     ]
    },
    {
     "name": "stdout",
     "output_type": "stream",
     "text": [
      "QUERY:  Precipitation amount in Zollikofen June 1, 2021 9h\n",
      "QUERY:  temperature in Zollikofen June 1, 2021 9h\n",
      "QUERY:  humidity in Zollikofen June 1, 2021 9h\n",
      "QUERY:  wind speed in Zollikofen June 1, 2021 9h\n",
      "QUERY:  Moon Phase calculatorJune 1, 2021 9h\n"
     ]
    },
    {
     "name": "stderr",
     "output_type": "stream",
     "text": [
      "\r",
      "  5%|████▏                                                                         | 85/1564 [27:11<7:52:59, 19.19s/it]"
     ]
    },
    {
     "name": "stdout",
     "output_type": "stream",
     "text": [
      "QUERY:  Precipitation amount in Zollikofen June 1, 2021 10h\n",
      "QUERY:  temperature in Zollikofen June 1, 2021 10h\n",
      "QUERY:  humidity in Zollikofen June 1, 2021 10h\n",
      "QUERY:  wind speed in Zollikofen June 1, 2021 10h\n",
      "QUERY:  Moon Phase calculatorJune 1, 2021 10h\n"
     ]
    },
    {
     "name": "stderr",
     "output_type": "stream",
     "text": [
      "\r",
      "  5%|████▎                                                                         | 86/1564 [27:30<7:50:21, 19.09s/it]"
     ]
    },
    {
     "name": "stdout",
     "output_type": "stream",
     "text": [
      "QUERY:  Precipitation amount in Zollikofen June 1, 2021 11h\n",
      "QUERY:  temperature in Zollikofen June 1, 2021 11h\n",
      "QUERY:  humidity in Zollikofen June 1, 2021 11h\n",
      "QUERY:  wind speed in Zollikofen June 1, 2021 11h\n",
      "QUERY:  Moon Phase calculatorJune 1, 2021 11h\n"
     ]
    },
    {
     "name": "stderr",
     "output_type": "stream",
     "text": [
      "\r",
      "  6%|████▎                                                                         | 87/1564 [27:49<7:50:29, 19.11s/it]"
     ]
    },
    {
     "name": "stdout",
     "output_type": "stream",
     "text": [
      "QUERY:  Precipitation amount in Zollikofen June 1, 2021 12h\n",
      "QUERY:  temperature in Zollikofen June 1, 2021 12h\n",
      "QUERY:  humidity in Zollikofen June 1, 2021 12h\n",
      "QUERY:  wind speed in Zollikofen June 1, 2021 12h\n",
      "QUERY:  Moon Phase calculatorJune 1, 2021 12h\n"
     ]
    },
    {
     "name": "stderr",
     "output_type": "stream",
     "text": [
      "\r",
      "  6%|████▍                                                                         | 88/1564 [28:09<7:53:12, 19.24s/it]"
     ]
    },
    {
     "name": "stdout",
     "output_type": "stream",
     "text": [
      "QUERY:  Precipitation amount in Zollikofen June 1, 2021 13h\n",
      "QUERY:  temperature in Zollikofen June 1, 2021 13h\n",
      "QUERY:  humidity in Zollikofen June 1, 2021 13h\n",
      "QUERY:  wind speed in Zollikofen June 1, 2021 13h\n",
      "QUERY:  Moon Phase calculatorJune 1, 2021 13h\n"
     ]
    },
    {
     "name": "stderr",
     "output_type": "stream",
     "text": [
      "\r",
      "  6%|████▍                                                                         | 89/1564 [28:28<7:56:12, 19.37s/it]"
     ]
    },
    {
     "name": "stdout",
     "output_type": "stream",
     "text": [
      "QUERY:  Precipitation amount in Zollikofen June 1, 2021 14h\n",
      "QUERY:  temperature in Zollikofen June 1, 2021 14h\n",
      "QUERY:  humidity in Zollikofen June 1, 2021 14h\n",
      "QUERY:  wind speed in Zollikofen June 1, 2021 14h\n",
      "QUERY:  Moon Phase calculatorJune 1, 2021 14h\n"
     ]
    },
    {
     "name": "stderr",
     "output_type": "stream",
     "text": [
      "\r",
      "  6%|████▍                                                                         | 90/1564 [28:47<7:51:51, 19.21s/it]"
     ]
    },
    {
     "name": "stdout",
     "output_type": "stream",
     "text": [
      "QUERY:  Precipitation amount in Zollikofen June 1, 2021 15h\n",
      "QUERY:  temperature in Zollikofen June 1, 2021 15h\n",
      "QUERY:  humidity in Zollikofen June 1, 2021 15h\n",
      "QUERY:  wind speed in Zollikofen June 1, 2021 15h\n",
      "QUERY:  Moon Phase calculatorJune 1, 2021 15h\n",
      "(5896, 7)\n"
     ]
    },
    {
     "data": {
      "text/html": [
       "<div>\n",
       "<style scoped>\n",
       "    .dataframe tbody tr th:only-of-type {\n",
       "        vertical-align: middle;\n",
       "    }\n",
       "\n",
       "    .dataframe tbody tr th {\n",
       "        vertical-align: top;\n",
       "    }\n",
       "\n",
       "    .dataframe thead th {\n",
       "        text-align: right;\n",
       "    }\n",
       "</style>\n",
       "<table border=\"1\" class=\"dataframe\">\n",
       "  <thead>\n",
       "    <tr style=\"text-align: right;\">\n",
       "      <th></th>\n",
       "      <th>date</th>\n",
       "      <th>temperature</th>\n",
       "      <th>humidity</th>\n",
       "      <th>wind speed</th>\n",
       "      <th>Precipitation amount</th>\n",
       "      <th>query</th>\n",
       "      <th>Moon Phase calculator</th>\n",
       "    </tr>\n",
       "  </thead>\n",
       "  <tbody>\n",
       "    <tr>\n",
       "      <th>8</th>\n",
       "      <td>2021-06-01 14:00:00</td>\n",
       "      <td>23 °C\\n(2:00 pm CEST | Tuesday, June 1, 2021)</td>\n",
       "      <td>average: 34% (34%)\\n(2:00 pm CEST | Tuesday, J...</td>\n",
       "      <td>4 m/s\\n(2:00 pm CEST | Tuesday, June 1, 2021)</td>\n",
       "      <td>no precipitation\\n(2:00 pm CEST | Tuesday, Jun...</td>\n",
       "      <td>Moon Phase calculatorJune 1, 2021 14h</td>\n",
       "      <td>| waning gibbous moon\\n58.47% illuminated</td>\n",
       "    </tr>\n",
       "    <tr>\n",
       "      <th>9</th>\n",
       "      <td>2021-06-01 15:00:00</td>\n",
       "      <td>24 °C\\n(3:00 pm CEST | Tuesday, June 1, 2021)</td>\n",
       "      <td>average: 35% (34 to 36%)\\n(3:00 pm CEST | Tues...</td>\n",
       "      <td>4 m/s\\n(3:00 pm CEST | Tuesday, June 1, 2021)</td>\n",
       "      <td>no precipitation\\n(3:00 pm CEST | Tuesday, Jun...</td>\n",
       "      <td>Moon Phase calculatorJune 1, 2021 15h</td>\n",
       "      <td>| waning gibbous moon\\n58.04% illuminated</td>\n",
       "    </tr>\n",
       "  </tbody>\n",
       "</table>\n",
       "</div>"
      ],
      "text/plain": [
       "                 date                                    temperature  \\\n",
       "8 2021-06-01 14:00:00  23 °C\\n(2:00 pm CEST | Tuesday, June 1, 2021)   \n",
       "9 2021-06-01 15:00:00  24 °C\\n(3:00 pm CEST | Tuesday, June 1, 2021)   \n",
       "\n",
       "                                            humidity  \\\n",
       "8  average: 34% (34%)\\n(2:00 pm CEST | Tuesday, J...   \n",
       "9  average: 35% (34 to 36%)\\n(3:00 pm CEST | Tues...   \n",
       "\n",
       "                                      wind speed  \\\n",
       "8  4 m/s\\n(2:00 pm CEST | Tuesday, June 1, 2021)   \n",
       "9  4 m/s\\n(3:00 pm CEST | Tuesday, June 1, 2021)   \n",
       "\n",
       "                                Precipitation amount  \\\n",
       "8  no precipitation\\n(2:00 pm CEST | Tuesday, Jun...   \n",
       "9  no precipitation\\n(3:00 pm CEST | Tuesday, Jun...   \n",
       "\n",
       "                                   query  \\\n",
       "8  Moon Phase calculatorJune 1, 2021 14h   \n",
       "9  Moon Phase calculatorJune 1, 2021 15h   \n",
       "\n",
       "                       Moon Phase calculator  \n",
       "8  | waning gibbous moon\\n58.47% illuminated  \n",
       "9  | waning gibbous moon\\n58.04% illuminated  "
      ]
     },
     "metadata": {},
     "output_type": "display_data"
    },
    {
     "name": "stderr",
     "output_type": "stream",
     "text": [
      "\r",
      "  6%|████▌                                                                         | 91/1564 [29:08<8:05:36, 19.78s/it]"
     ]
    },
    {
     "name": "stdout",
     "output_type": "stream",
     "text": [
      "QUERY:  Precipitation amount in Zollikofen June 1, 2021 16h\n",
      "QUERY:  temperature in Zollikofen June 1, 2021 16h\n",
      "QUERY:  humidity in Zollikofen June 1, 2021 16h\n",
      "QUERY:  wind speed in Zollikofen June 1, 2021 16h\n",
      "QUERY:  Moon Phase calculatorJune 1, 2021 16h\n"
     ]
    },
    {
     "name": "stderr",
     "output_type": "stream",
     "text": [
      "\r",
      "  6%|████▌                                                                         | 92/1564 [29:27<7:58:29, 19.50s/it]"
     ]
    },
    {
     "name": "stdout",
     "output_type": "stream",
     "text": [
      "QUERY:  Precipitation amount in Zollikofen June 1, 2021 17h\n",
      "QUERY:  temperature in Zollikofen June 1, 2021 17h\n",
      "QUERY:  humidity in Zollikofen June 1, 2021 17h\n",
      "QUERY:  wind speed in Zollikofen June 1, 2021 17h\n",
      "QUERY:  Moon Phase calculatorJune 1, 2021 17h\n"
     ]
    },
    {
     "name": "stderr",
     "output_type": "stream",
     "text": [
      "\r",
      "  6%|████▋                                                                         | 93/1564 [29:46<7:51:56, 19.25s/it]"
     ]
    },
    {
     "name": "stdout",
     "output_type": "stream",
     "text": [
      "QUERY:  Precipitation amount in Zollikofen June 1, 2021 18h\n",
      "QUERY:  temperature in Zollikofen June 1, 2021 18h\n",
      "QUERY:  humidity in Zollikofen June 1, 2021 18h\n",
      "QUERY:  wind speed in Zollikofen June 1, 2021 18h\n",
      "QUERY:  Moon Phase calculatorJune 1, 2021 18h\n"
     ]
    },
    {
     "name": "stderr",
     "output_type": "stream",
     "text": [
      "\r",
      "  6%|████▋                                                                         | 94/1564 [30:05<7:50:50, 19.22s/it]"
     ]
    },
    {
     "name": "stdout",
     "output_type": "stream",
     "text": [
      "QUERY:  Precipitation amount in Zollikofen June 1, 2021 19h\n",
      "QUERY:  temperature in Zollikofen June 1, 2021 19h\n",
      "QUERY:  humidity in Zollikofen June 1, 2021 19h\n",
      "QUERY:  wind speed in Zollikofen June 1, 2021 19h\n",
      "QUERY:  Moon Phase calculatorJune 1, 2021 19h\n"
     ]
    },
    {
     "name": "stderr",
     "output_type": "stream",
     "text": [
      "\r",
      "  6%|████▋                                                                         | 95/1564 [30:23<7:45:15, 19.00s/it]"
     ]
    },
    {
     "name": "stdout",
     "output_type": "stream",
     "text": [
      "QUERY:  Precipitation amount in Zollikofen June 1, 2021 20h\n",
      "QUERY:  temperature in Zollikofen June 1, 2021 20h\n",
      "QUERY:  humidity in Zollikofen June 1, 2021 20h\n",
      "QUERY:  wind speed in Zollikofen June 1, 2021 20h\n",
      "QUERY:  Moon Phase calculatorJune 1, 2021 20h\n"
     ]
    },
    {
     "name": "stderr",
     "output_type": "stream",
     "text": [
      "\r",
      "  6%|████▊                                                                         | 96/1564 [30:44<7:59:02, 19.58s/it]"
     ]
    },
    {
     "name": "stdout",
     "output_type": "stream",
     "text": [
      "QUERY:  Precipitation amount in Zollikofen June 1, 2021 21h\n",
      "QUERY:  temperature in Zollikofen June 1, 2021 21h\n",
      "QUERY:  humidity in Zollikofen June 1, 2021 21h\n",
      "ERROR: no data available-------------  humidity in Zollikofen June 1, 2021 21h\n",
      "ERROR:------------- name 'error' is not defined  ----------  humidity in Zollikofen June 1, 2021 21h\n",
      "QUERY:  wind speed in Zollikofen June 1, 2021 21h\n",
      "QUERY:  Moon Phase calculatorJune 1, 2021 21h\n"
     ]
    },
    {
     "name": "stderr",
     "output_type": "stream",
     "text": [
      "\r",
      "  6%|████▊                                                                         | 97/1564 [31:04<8:01:56, 19.71s/it]"
     ]
    },
    {
     "name": "stdout",
     "output_type": "stream",
     "text": [
      "QUERY:  Precipitation amount in Zollikofen June 1, 2021 22h\n",
      "QUERY:  temperature in Zollikofen June 1, 2021 22h\n",
      "QUERY:  humidity in Zollikofen June 1, 2021 22h\n",
      "QUERY:  wind speed in Zollikofen June 1, 2021 22h\n",
      "QUERY:  Moon Phase calculatorJune 1, 2021 22h\n"
     ]
    },
    {
     "name": "stderr",
     "output_type": "stream",
     "text": [
      "\r",
      "  6%|████▉                                                                         | 98/1564 [31:26<8:15:57, 20.30s/it]"
     ]
    },
    {
     "name": "stdout",
     "output_type": "stream",
     "text": [
      "QUERY:  Precipitation amount in Zollikofen June 1, 2021 23h\n",
      "QUERY:  temperature in Zollikofen June 1, 2021 23h\n",
      "QUERY:  humidity in Zollikofen June 1, 2021 23h\n",
      "QUERY:  wind speed in Zollikofen June 1, 2021 23h\n",
      "QUERY:  Moon Phase calculatorJune 1, 2021 23h\n"
     ]
    },
    {
     "name": "stderr",
     "output_type": "stream",
     "text": [
      "\r",
      "  6%|████▉                                                                         | 99/1564 [31:46<8:14:54, 20.27s/it]"
     ]
    },
    {
     "name": "stdout",
     "output_type": "stream",
     "text": [
      "QUERY:  Precipitation amount in Zollikofen June 2, 2021 0h\n",
      "QUERY:  temperature in Zollikofen June 2, 2021 0h\n",
      "QUERY:  humidity in Zollikofen June 2, 2021 0h\n",
      "QUERY:  wind speed in Zollikofen June 2, 2021 0h\n",
      "QUERY:  Moon Phase calculatorJune 2, 2021 0h\n"
     ]
    },
    {
     "name": "stderr",
     "output_type": "stream",
     "text": [
      "\r",
      "  6%|████▉                                                                        | 100/1564 [32:06<8:07:14, 19.97s/it]"
     ]
    },
    {
     "name": "stdout",
     "output_type": "stream",
     "text": [
      "QUERY:  Precipitation amount in Zollikofen June 2, 2021 1h\n",
      "QUERY:  temperature in Zollikofen June 2, 2021 1h\n",
      "QUERY:  humidity in Zollikofen June 2, 2021 1h\n",
      "QUERY:  wind speed in Zollikofen June 2, 2021 1h\n",
      "QUERY:  Moon Phase calculatorJune 2, 2021 1h\n",
      "(5906, 7)\n"
     ]
    },
    {
     "data": {
      "text/html": [
       "<div>\n",
       "<style scoped>\n",
       "    .dataframe tbody tr th:only-of-type {\n",
       "        vertical-align: middle;\n",
       "    }\n",
       "\n",
       "    .dataframe tbody tr th {\n",
       "        vertical-align: top;\n",
       "    }\n",
       "\n",
       "    .dataframe thead th {\n",
       "        text-align: right;\n",
       "    }\n",
       "</style>\n",
       "<table border=\"1\" class=\"dataframe\">\n",
       "  <thead>\n",
       "    <tr style=\"text-align: right;\">\n",
       "      <th></th>\n",
       "      <th>date</th>\n",
       "      <th>temperature</th>\n",
       "      <th>humidity</th>\n",
       "      <th>wind speed</th>\n",
       "      <th>Precipitation amount</th>\n",
       "      <th>query</th>\n",
       "      <th>Moon Phase calculator</th>\n",
       "    </tr>\n",
       "  </thead>\n",
       "  <tbody>\n",
       "    <tr>\n",
       "      <th>8</th>\n",
       "      <td>2021-06-02 00:00:00</td>\n",
       "      <td>23 °C\\n(12:00 am CEST | Wednesday, June 2, 2021)</td>\n",
       "      <td>average: 94% (94%)\\n(12:00 am CEST | Wednesday...</td>\n",
       "      <td>4 m/s\\n(12:00 am CEST | Wednesday, June 2, 2021)</td>\n",
       "      <td>no precipitation\\n(12:00 am CEST | Wednesday, ...</td>\n",
       "      <td>Moon Phase calculatorJune 2, 2021 0h</td>\n",
       "      <td>| last quarter moon\\n54.16% illuminated</td>\n",
       "    </tr>\n",
       "    <tr>\n",
       "      <th>9</th>\n",
       "      <td>2021-06-02 01:00:00</td>\n",
       "      <td>22 °C\\n(1:00 am CEST | Wednesday, June 2, 2021)</td>\n",
       "      <td>average: 77% (72 to 82%)\\n(1:00 am CEST | Wedn...</td>\n",
       "      <td>4 m/s\\n(1:00 am CEST | Wednesday, June 2, 2021)</td>\n",
       "      <td>no precipitation\\n(1:00 am CEST | Wednesday, J...</td>\n",
       "      <td>Moon Phase calculatorJune 2, 2021 1h</td>\n",
       "      <td>| last quarter moon\\n53.73% illuminated</td>\n",
       "    </tr>\n",
       "  </tbody>\n",
       "</table>\n",
       "</div>"
      ],
      "text/plain": [
       "                 date                                       temperature  \\\n",
       "8 2021-06-02 00:00:00  23 °C\\n(12:00 am CEST | Wednesday, June 2, 2021)   \n",
       "9 2021-06-02 01:00:00   22 °C\\n(1:00 am CEST | Wednesday, June 2, 2021)   \n",
       "\n",
       "                                            humidity  \\\n",
       "8  average: 94% (94%)\\n(12:00 am CEST | Wednesday...   \n",
       "9  average: 77% (72 to 82%)\\n(1:00 am CEST | Wedn...   \n",
       "\n",
       "                                         wind speed  \\\n",
       "8  4 m/s\\n(12:00 am CEST | Wednesday, June 2, 2021)   \n",
       "9   4 m/s\\n(1:00 am CEST | Wednesday, June 2, 2021)   \n",
       "\n",
       "                                Precipitation amount  \\\n",
       "8  no precipitation\\n(12:00 am CEST | Wednesday, ...   \n",
       "9  no precipitation\\n(1:00 am CEST | Wednesday, J...   \n",
       "\n",
       "                                  query  \\\n",
       "8  Moon Phase calculatorJune 2, 2021 0h   \n",
       "9  Moon Phase calculatorJune 2, 2021 1h   \n",
       "\n",
       "                     Moon Phase calculator  \n",
       "8  | last quarter moon\\n54.16% illuminated  \n",
       "9  | last quarter moon\\n53.73% illuminated  "
      ]
     },
     "metadata": {},
     "output_type": "display_data"
    },
    {
     "name": "stderr",
     "output_type": "stream",
     "text": [
      "\r",
      "  6%|████▉                                                                        | 101/1564 [32:25<8:00:59, 19.73s/it]"
     ]
    },
    {
     "name": "stdout",
     "output_type": "stream",
     "text": [
      "QUERY:  Precipitation amount in Zollikofen June 2, 2021 2h\n",
      "QUERY:  temperature in Zollikofen June 2, 2021 2h\n",
      "QUERY:  humidity in Zollikofen June 2, 2021 2h\n",
      "QUERY:  wind speed in Zollikofen June 2, 2021 2h\n",
      "QUERY:  Moon Phase calculatorJune 2, 2021 2h\n"
     ]
    },
    {
     "name": "stderr",
     "output_type": "stream",
     "text": [
      "\r",
      "  7%|█████                                                                        | 102/1564 [32:45<8:07:25, 20.00s/it]"
     ]
    },
    {
     "name": "stdout",
     "output_type": "stream",
     "text": [
      "QUERY:  Precipitation amount in Zollikofen June 2, 2021 3h\n",
      "QUERY:  temperature in Zollikofen June 2, 2021 3h\n",
      "QUERY:  humidity in Zollikofen June 2, 2021 3h\n",
      "QUERY:  wind speed in Zollikofen June 2, 2021 3h\n",
      "QUERY:  Moon Phase calculatorJune 2, 2021 3h\n"
     ]
    },
    {
     "name": "stderr",
     "output_type": "stream",
     "text": [
      "\r",
      "  7%|█████                                                                        | 103/1564 [33:04<7:59:30, 19.69s/it]"
     ]
    },
    {
     "name": "stdout",
     "output_type": "stream",
     "text": [
      "QUERY:  Precipitation amount in Zollikofen June 2, 2021 4h\n",
      "QUERY:  temperature in Zollikofen June 2, 2021 4h\n",
      "QUERY:  humidity in Zollikofen June 2, 2021 4h\n",
      "QUERY:  wind speed in Zollikofen June 2, 2021 4h\n",
      "QUERY:  Moon Phase calculatorJune 2, 2021 4h\n"
     ]
    },
    {
     "name": "stderr",
     "output_type": "stream",
     "text": [
      "\r",
      "  7%|█████                                                                        | 104/1564 [33:25<8:06:58, 20.01s/it]"
     ]
    },
    {
     "name": "stdout",
     "output_type": "stream",
     "text": [
      "QUERY:  Precipitation amount in Zollikofen June 2, 2021 5h\n",
      "QUERY:  temperature in Zollikofen June 2, 2021 5h\n",
      "QUERY:  humidity in Zollikofen June 2, 2021 5h\n",
      "QUERY:  wind speed in Zollikofen June 2, 2021 5h\n",
      "QUERY:  Moon Phase calculatorJune 2, 2021 5h\n"
     ]
    },
    {
     "name": "stderr",
     "output_type": "stream",
     "text": [
      "\r",
      "  7%|█████▏                                                                       | 105/1564 [33:47<8:18:10, 20.49s/it]"
     ]
    },
    {
     "name": "stdout",
     "output_type": "stream",
     "text": [
      "QUERY:  Precipitation amount in Zollikofen June 2, 2021 6h\n",
      "QUERY:  temperature in Zollikofen June 2, 2021 6h\n",
      "QUERY:  humidity in Zollikofen June 2, 2021 6h\n",
      "QUERY:  wind speed in Zollikofen June 2, 2021 6h\n",
      "QUERY:  Moon Phase calculatorJune 2, 2021 6h\n"
     ]
    },
    {
     "name": "stderr",
     "output_type": "stream",
     "text": [
      "\r",
      "  7%|█████▏                                                                       | 106/1564 [34:06<8:12:53, 20.28s/it]"
     ]
    },
    {
     "name": "stdout",
     "output_type": "stream",
     "text": [
      "QUERY:  Precipitation amount in Zollikofen June 2, 2021 7h\n",
      "QUERY:  temperature in Zollikofen June 2, 2021 7h\n",
      "QUERY:  humidity in Zollikofen June 2, 2021 7h\n",
      "QUERY:  wind speed in Zollikofen June 2, 2021 7h\n",
      "QUERY:  Moon Phase calculatorJune 2, 2021 7h\n"
     ]
    },
    {
     "name": "stderr",
     "output_type": "stream",
     "text": [
      "\r",
      "  7%|█████▎                                                                       | 107/1564 [34:26<8:05:25, 19.99s/it]"
     ]
    },
    {
     "name": "stdout",
     "output_type": "stream",
     "text": [
      "QUERY:  Precipitation amount in Zollikofen June 2, 2021 8h\n",
      "QUERY:  temperature in Zollikofen June 2, 2021 8h\n",
      "QUERY:  humidity in Zollikofen June 2, 2021 8h\n",
      "QUERY:  wind speed in Zollikofen June 2, 2021 8h\n",
      "QUERY:  Moon Phase calculatorJune 2, 2021 8h\n"
     ]
    },
    {
     "name": "stderr",
     "output_type": "stream",
     "text": [
      "\r",
      "  7%|█████▎                                                                       | 108/1564 [34:45<7:58:18, 19.71s/it]"
     ]
    },
    {
     "name": "stdout",
     "output_type": "stream",
     "text": [
      "QUERY:  Precipitation amount in Zollikofen June 2, 2021 9h\n",
      "QUERY:  temperature in Zollikofen June 2, 2021 9h\n",
      "QUERY:  humidity in Zollikofen June 2, 2021 9h\n",
      "QUERY:  wind speed in Zollikofen June 2, 2021 9h\n",
      "QUERY:  Moon Phase calculatorJune 2, 2021 9h\n"
     ]
    },
    {
     "name": "stderr",
     "output_type": "stream",
     "text": [
      "\r",
      "  7%|█████▎                                                                       | 109/1564 [35:04<7:53:42, 19.53s/it]"
     ]
    },
    {
     "name": "stdout",
     "output_type": "stream",
     "text": [
      "QUERY:  Precipitation amount in Zollikofen June 2, 2021 10h\n",
      "QUERY:  temperature in Zollikofen June 2, 2021 10h\n",
      "QUERY:  humidity in Zollikofen June 2, 2021 10h\n",
      "QUERY:  wind speed in Zollikofen June 2, 2021 10h\n",
      "QUERY:  Moon Phase calculatorJune 2, 2021 10h\n"
     ]
    },
    {
     "name": "stderr",
     "output_type": "stream",
     "text": [
      "\r",
      "  7%|█████▍                                                                       | 110/1564 [35:23<7:52:35, 19.50s/it]"
     ]
    },
    {
     "name": "stdout",
     "output_type": "stream",
     "text": [
      "QUERY:  Precipitation amount in Zollikofen June 2, 2021 11h\n",
      "QUERY:  temperature in Zollikofen June 2, 2021 11h\n",
      "QUERY:  humidity in Zollikofen June 2, 2021 11h\n",
      "QUERY:  wind speed in Zollikofen June 2, 2021 11h\n",
      "QUERY:  Moon Phase calculatorJune 2, 2021 11h\n",
      "(5916, 7)\n"
     ]
    },
    {
     "data": {
      "text/html": [
       "<div>\n",
       "<style scoped>\n",
       "    .dataframe tbody tr th:only-of-type {\n",
       "        vertical-align: middle;\n",
       "    }\n",
       "\n",
       "    .dataframe tbody tr th {\n",
       "        vertical-align: top;\n",
       "    }\n",
       "\n",
       "    .dataframe thead th {\n",
       "        text-align: right;\n",
       "    }\n",
       "</style>\n",
       "<table border=\"1\" class=\"dataframe\">\n",
       "  <thead>\n",
       "    <tr style=\"text-align: right;\">\n",
       "      <th></th>\n",
       "      <th>date</th>\n",
       "      <th>temperature</th>\n",
       "      <th>humidity</th>\n",
       "      <th>wind speed</th>\n",
       "      <th>Precipitation amount</th>\n",
       "      <th>query</th>\n",
       "      <th>Moon Phase calculator</th>\n",
       "    </tr>\n",
       "  </thead>\n",
       "  <tbody>\n",
       "    <tr>\n",
       "      <th>8</th>\n",
       "      <td>2021-06-02 10:00:00</td>\n",
       "      <td>21 °C\\n(10:00 am CEST | Wednesday, June 2, 2021)</td>\n",
       "      <td>average: 58% (56 to 60%)\\n(10:00 am CEST | Wed...</td>\n",
       "      <td>4 m/s\\n(10:00 am CEST | Wednesday, June 2, 2021)</td>\n",
       "      <td>no precipitation\\n(10:00 am CEST | Wednesday, ...</td>\n",
       "      <td>Moon Phase calculatorJune 2, 2021 10h</td>\n",
       "      <td>| last quarter moon\\n49.88% illuminated</td>\n",
       "    </tr>\n",
       "    <tr>\n",
       "      <th>9</th>\n",
       "      <td>2021-06-02 11:00:00</td>\n",
       "      <td>21 °C\\n(11:00 am CEST | Wednesday, June 2, 2021)</td>\n",
       "      <td>average: 57% (57%)\\n(11:00 am CEST | Wednesday...</td>\n",
       "      <td>4 m/s\\n(11:00 am CEST | Wednesday, June 2, 2021)</td>\n",
       "      <td>no precipitation\\n(11:00 am CEST | Wednesday, ...</td>\n",
       "      <td>Moon Phase calculatorJune 2, 2021 11h</td>\n",
       "      <td>| last quarter moon\\n49.45% illuminated</td>\n",
       "    </tr>\n",
       "  </tbody>\n",
       "</table>\n",
       "</div>"
      ],
      "text/plain": [
       "                 date                                       temperature  \\\n",
       "8 2021-06-02 10:00:00  21 °C\\n(10:00 am CEST | Wednesday, June 2, 2021)   \n",
       "9 2021-06-02 11:00:00  21 °C\\n(11:00 am CEST | Wednesday, June 2, 2021)   \n",
       "\n",
       "                                            humidity  \\\n",
       "8  average: 58% (56 to 60%)\\n(10:00 am CEST | Wed...   \n",
       "9  average: 57% (57%)\\n(11:00 am CEST | Wednesday...   \n",
       "\n",
       "                                         wind speed  \\\n",
       "8  4 m/s\\n(10:00 am CEST | Wednesday, June 2, 2021)   \n",
       "9  4 m/s\\n(11:00 am CEST | Wednesday, June 2, 2021)   \n",
       "\n",
       "                                Precipitation amount  \\\n",
       "8  no precipitation\\n(10:00 am CEST | Wednesday, ...   \n",
       "9  no precipitation\\n(11:00 am CEST | Wednesday, ...   \n",
       "\n",
       "                                   query  \\\n",
       "8  Moon Phase calculatorJune 2, 2021 10h   \n",
       "9  Moon Phase calculatorJune 2, 2021 11h   \n",
       "\n",
       "                     Moon Phase calculator  \n",
       "8  | last quarter moon\\n49.88% illuminated  \n",
       "9  | last quarter moon\\n49.45% illuminated  "
      ]
     },
     "metadata": {},
     "output_type": "display_data"
    },
    {
     "name": "stderr",
     "output_type": "stream",
     "text": [
      "\r",
      "  7%|█████▍                                                                       | 111/1564 [35:43<7:54:46, 19.61s/it]"
     ]
    },
    {
     "name": "stdout",
     "output_type": "stream",
     "text": [
      "QUERY:  Precipitation amount in Zollikofen June 2, 2021 12h\n",
      "QUERY:  temperature in Zollikofen June 2, 2021 12h\n",
      "QUERY:  humidity in Zollikofen June 2, 2021 12h\n",
      "QUERY:  wind speed in Zollikofen June 2, 2021 12h\n",
      "QUERY:  Moon Phase calculatorJune 2, 2021 12h\n"
     ]
    },
    {
     "name": "stderr",
     "output_type": "stream",
     "text": [
      "\r",
      "  7%|█████▌                                                                       | 112/1564 [36:03<7:55:01, 19.63s/it]"
     ]
    },
    {
     "name": "stdout",
     "output_type": "stream",
     "text": [
      "QUERY:  Precipitation amount in Zollikofen June 2, 2021 13h\n",
      "QUERY:  temperature in Zollikofen June 2, 2021 13h\n",
      "QUERY:  humidity in Zollikofen June 2, 2021 13h\n",
      "QUERY:  wind speed in Zollikofen June 2, 2021 13h\n",
      "QUERY:  Moon Phase calculatorJune 2, 2021 13h\n"
     ]
    },
    {
     "name": "stderr",
     "output_type": "stream",
     "text": [
      "\r",
      "  7%|█████▌                                                                       | 113/1564 [36:22<7:49:05, 19.40s/it]"
     ]
    },
    {
     "name": "stdout",
     "output_type": "stream",
     "text": [
      "QUERY:  Precipitation amount in Zollikofen June 2, 2021 14h\n",
      "QUERY:  temperature in Zollikofen June 2, 2021 14h\n",
      "ERROR: no data available-------------  temperature in Zollikofen June 2, 2021 14h\n",
      "ERROR:------------- name 'error' is not defined  ----------  temperature in Zollikofen June 2, 2021 14h\n",
      "QUERY:  humidity in Zollikofen June 2, 2021 14h\n",
      "QUERY:  wind speed in Zollikofen June 2, 2021 14h\n",
      "ERROR: no data available-------------  wind speed in Zollikofen June 2, 2021 14h\n",
      "ERROR:------------- name 'error' is not defined  ----------  wind speed in Zollikofen June 2, 2021 14h\n",
      "QUERY:  Moon Phase calculatorJune 2, 2021 14h\n"
     ]
    },
    {
     "name": "stderr",
     "output_type": "stream",
     "text": [
      "\r",
      "  7%|█████▌                                                                       | 114/1564 [36:41<7:49:40, 19.43s/it]"
     ]
    },
    {
     "name": "stdout",
     "output_type": "stream",
     "text": [
      "QUERY:  Precipitation amount in Zollikofen June 2, 2021 15h\n",
      "QUERY:  temperature in Zollikofen June 2, 2021 15h\n",
      "ERROR: no data available-------------  temperature in Zollikofen June 2, 2021 15h\n",
      "ERROR:------------- name 'error' is not defined  ----------  temperature in Zollikofen June 2, 2021 15h\n",
      "QUERY:  humidity in Zollikofen June 2, 2021 15h\n",
      "QUERY:  wind speed in Zollikofen June 2, 2021 15h\n",
      "ERROR: no data available-------------  wind speed in Zollikofen June 2, 2021 15h\n",
      "ERROR:------------- name 'error' is not defined  ----------  wind speed in Zollikofen June 2, 2021 15h\n",
      "QUERY:  Moon Phase calculatorJune 2, 2021 15h\n"
     ]
    },
    {
     "name": "stderr",
     "output_type": "stream",
     "text": [
      "\r",
      "  7%|█████▋                                                                       | 115/1564 [37:01<7:51:03, 19.51s/it]"
     ]
    },
    {
     "name": "stdout",
     "output_type": "stream",
     "text": [
      "QUERY:  Precipitation amount in Zollikofen June 2, 2021 16h\n",
      "QUERY:  temperature in Zollikofen June 2, 2021 16h\n",
      "ERROR: no data available-------------  temperature in Zollikofen June 2, 2021 16h\n",
      "ERROR:------------- name 'error' is not defined  ----------  temperature in Zollikofen June 2, 2021 16h\n",
      "QUERY:  humidity in Zollikofen June 2, 2021 16h\n",
      "QUERY:  wind speed in Zollikofen June 2, 2021 16h\n",
      "ERROR: no data available-------------  wind speed in Zollikofen June 2, 2021 16h\n",
      "ERROR:------------- name 'error' is not defined  ----------  wind speed in Zollikofen June 2, 2021 16h\n",
      "QUERY:  Moon Phase calculatorJune 2, 2021 16h\n"
     ]
    },
    {
     "name": "stderr",
     "output_type": "stream",
     "text": [
      "\r",
      "  7%|█████▋                                                                       | 116/1564 [37:21<7:53:29, 19.62s/it]"
     ]
    },
    {
     "name": "stdout",
     "output_type": "stream",
     "text": [
      "QUERY:  Precipitation amount in Zollikofen June 2, 2021 17h\n",
      "QUERY:  temperature in Zollikofen June 2, 2021 17h\n",
      "QUERY:  humidity in Zollikofen June 2, 2021 17h\n",
      "QUERY:  wind speed in Zollikofen June 2, 2021 17h\n",
      "QUERY:  Moon Phase calculatorJune 2, 2021 17h\n"
     ]
    },
    {
     "name": "stderr",
     "output_type": "stream",
     "text": [
      "\r",
      "  7%|█████▊                                                                       | 117/1564 [37:40<7:46:51, 19.36s/it]"
     ]
    },
    {
     "name": "stdout",
     "output_type": "stream",
     "text": [
      "QUERY:  Precipitation amount in Zollikofen June 2, 2021 18h\n",
      "QUERY:  temperature in Zollikofen June 2, 2021 18h\n",
      "QUERY:  humidity in Zollikofen June 2, 2021 18h\n",
      "QUERY:  wind speed in Zollikofen June 2, 2021 18h\n",
      "QUERY:  Moon Phase calculatorJune 2, 2021 18h\n"
     ]
    },
    {
     "name": "stderr",
     "output_type": "stream",
     "text": [
      "\r",
      "  8%|█████▊                                                                       | 118/1564 [37:59<7:47:57, 19.42s/it]"
     ]
    },
    {
     "name": "stdout",
     "output_type": "stream",
     "text": [
      "QUERY:  Precipitation amount in Zollikofen June 2, 2021 19h\n",
      "QUERY:  temperature in Zollikofen June 2, 2021 19h\n",
      "QUERY:  humidity in Zollikofen June 2, 2021 19h\n",
      "QUERY:  wind speed in Zollikofen June 2, 2021 19h\n",
      "QUERY:  Moon Phase calculatorJune 2, 2021 19h\n"
     ]
    },
    {
     "name": "stderr",
     "output_type": "stream",
     "text": [
      "\r",
      "  8%|█████▊                                                                       | 119/1564 [38:19<7:47:03, 19.39s/it]"
     ]
    },
    {
     "name": "stdout",
     "output_type": "stream",
     "text": [
      "QUERY:  Precipitation amount in Zollikofen June 2, 2021 20h\n",
      "QUERY:  temperature in Zollikofen June 2, 2021 20h\n",
      "QUERY:  humidity in Zollikofen June 2, 2021 20h\n",
      "QUERY:  wind speed in Zollikofen June 2, 2021 20h\n",
      "QUERY:  Moon Phase calculatorJune 2, 2021 20h\n"
     ]
    },
    {
     "name": "stderr",
     "output_type": "stream",
     "text": [
      "\r",
      "  8%|█████▉                                                                       | 120/1564 [38:37<7:42:56, 19.24s/it]"
     ]
    },
    {
     "name": "stdout",
     "output_type": "stream",
     "text": [
      "QUERY:  Precipitation amount in Zollikofen June 2, 2021 21h\n",
      "QUERY:  temperature in Zollikofen June 2, 2021 21h\n",
      "QUERY:  humidity in Zollikofen June 2, 2021 21h\n",
      "QUERY:  wind speed in Zollikofen June 2, 2021 21h\n",
      "QUERY:  Moon Phase calculatorJune 2, 2021 21h\n",
      "(5926, 7)\n"
     ]
    },
    {
     "data": {
      "text/html": [
       "<div>\n",
       "<style scoped>\n",
       "    .dataframe tbody tr th:only-of-type {\n",
       "        vertical-align: middle;\n",
       "    }\n",
       "\n",
       "    .dataframe tbody tr th {\n",
       "        vertical-align: top;\n",
       "    }\n",
       "\n",
       "    .dataframe thead th {\n",
       "        text-align: right;\n",
       "    }\n",
       "</style>\n",
       "<table border=\"1\" class=\"dataframe\">\n",
       "  <thead>\n",
       "    <tr style=\"text-align: right;\">\n",
       "      <th></th>\n",
       "      <th>date</th>\n",
       "      <th>temperature</th>\n",
       "      <th>humidity</th>\n",
       "      <th>wind speed</th>\n",
       "      <th>Precipitation amount</th>\n",
       "      <th>query</th>\n",
       "      <th>Moon Phase calculator</th>\n",
       "    </tr>\n",
       "  </thead>\n",
       "  <tbody>\n",
       "    <tr>\n",
       "      <th>8</th>\n",
       "      <td>2021-06-02 20:00:00</td>\n",
       "      <td>17 °C\\n(8:00 pm CEST | Wednesday, June 2, 2021)</td>\n",
       "      <td>average: 85% (83 to 88%)\\n(8:00 pm CEST | Wedn...</td>\n",
       "      <td>3 m/s\\n(8:00 pm CEST | Wednesday, June 2, 2021)</td>\n",
       "      <td>no precipitation\\n(8:00 pm CEST | Wednesday, J...</td>\n",
       "      <td>Moon Phase calculatorJune 2, 2021 20h</td>\n",
       "      <td>| last quarter moon\\n45.65% illuminated</td>\n",
       "    </tr>\n",
       "    <tr>\n",
       "      <th>9</th>\n",
       "      <td>2021-06-02 21:00:00</td>\n",
       "      <td>16 °C\\n(9:00 pm CEST | Wednesday, June 2, 2021)</td>\n",
       "      <td>average: 91% (88 to 94%)\\n(9:00 pm CEST | Wedn...</td>\n",
       "      <td>3 m/s\\n(9:00 pm CEST | Wednesday, June 2, 2021)</td>\n",
       "      <td>rain\\n(9:00 pm CEST | Wednesday, June 2, 2021)</td>\n",
       "      <td>Moon Phase calculatorJune 2, 2021 21h</td>\n",
       "      <td>| last quarter moon\\n45.23% illuminated</td>\n",
       "    </tr>\n",
       "  </tbody>\n",
       "</table>\n",
       "</div>"
      ],
      "text/plain": [
       "                 date                                      temperature  \\\n",
       "8 2021-06-02 20:00:00  17 °C\\n(8:00 pm CEST | Wednesday, June 2, 2021)   \n",
       "9 2021-06-02 21:00:00  16 °C\\n(9:00 pm CEST | Wednesday, June 2, 2021)   \n",
       "\n",
       "                                            humidity  \\\n",
       "8  average: 85% (83 to 88%)\\n(8:00 pm CEST | Wedn...   \n",
       "9  average: 91% (88 to 94%)\\n(9:00 pm CEST | Wedn...   \n",
       "\n",
       "                                        wind speed  \\\n",
       "8  3 m/s\\n(8:00 pm CEST | Wednesday, June 2, 2021)   \n",
       "9  3 m/s\\n(9:00 pm CEST | Wednesday, June 2, 2021)   \n",
       "\n",
       "                                Precipitation amount  \\\n",
       "8  no precipitation\\n(8:00 pm CEST | Wednesday, J...   \n",
       "9     rain\\n(9:00 pm CEST | Wednesday, June 2, 2021)   \n",
       "\n",
       "                                   query  \\\n",
       "8  Moon Phase calculatorJune 2, 2021 20h   \n",
       "9  Moon Phase calculatorJune 2, 2021 21h   \n",
       "\n",
       "                     Moon Phase calculator  \n",
       "8  | last quarter moon\\n45.65% illuminated  \n",
       "9  | last quarter moon\\n45.23% illuminated  "
      ]
     },
     "metadata": {},
     "output_type": "display_data"
    },
    {
     "name": "stderr",
     "output_type": "stream",
     "text": [
      "\r",
      "  8%|█████▉                                                                       | 121/1564 [38:57<7:42:04, 19.21s/it]"
     ]
    },
    {
     "name": "stdout",
     "output_type": "stream",
     "text": [
      "QUERY:  Precipitation amount in Zollikofen June 2, 2021 22h\n",
      "QUERY:  temperature in Zollikofen June 2, 2021 22h\n",
      "QUERY:  humidity in Zollikofen June 2, 2021 22h\n",
      "QUERY:  wind speed in Zollikofen June 2, 2021 22h\n",
      "QUERY:  Moon Phase calculatorJune 2, 2021 22h\n"
     ]
    },
    {
     "name": "stderr",
     "output_type": "stream",
     "text": [
      "\r",
      "  8%|██████                                                                       | 122/1564 [39:16<7:44:34, 19.33s/it]"
     ]
    },
    {
     "name": "stdout",
     "output_type": "stream",
     "text": [
      "QUERY:  Precipitation amount in Zollikofen June 2, 2021 23h\n",
      "QUERY:  temperature in Zollikofen June 2, 2021 23h\n",
      "QUERY:  humidity in Zollikofen June 2, 2021 23h\n",
      "QUERY:  wind speed in Zollikofen June 2, 2021 23h\n",
      "QUERY:  Moon Phase calculatorJune 2, 2021 23h\n"
     ]
    },
    {
     "name": "stderr",
     "output_type": "stream",
     "text": [
      "\r",
      "  8%|██████                                                                       | 123/1564 [39:36<7:46:53, 19.44s/it]"
     ]
    },
    {
     "name": "stdout",
     "output_type": "stream",
     "text": [
      "QUERY:  Precipitation amount in Zollikofen June 3, 2021 0h\n",
      "QUERY:  temperature in Zollikofen June 3, 2021 0h\n",
      "QUERY:  humidity in Zollikofen June 3, 2021 0h\n",
      "QUERY:  wind speed in Zollikofen June 3, 2021 0h\n",
      "QUERY:  Moon Phase calculatorJune 3, 2021 0h\n"
     ]
    },
    {
     "name": "stderr",
     "output_type": "stream",
     "text": [
      "\r",
      "  8%|██████                                                                       | 124/1564 [39:57<7:59:04, 19.96s/it]"
     ]
    },
    {
     "name": "stdout",
     "output_type": "stream",
     "text": [
      "QUERY:  Precipitation amount in Zollikofen June 3, 2021 1h\n",
      "QUERY:  temperature in Zollikofen June 3, 2021 1h\n",
      "QUERY:  humidity in Zollikofen June 3, 2021 1h\n",
      "QUERY:  wind speed in Zollikofen June 3, 2021 1h\n",
      "QUERY:  Moon Phase calculatorJune 3, 2021 1h\n"
     ]
    },
    {
     "name": "stderr",
     "output_type": "stream",
     "text": [
      "\r",
      "  8%|██████▏                                                                      | 125/1564 [40:16<7:54:46, 19.80s/it]"
     ]
    },
    {
     "name": "stdout",
     "output_type": "stream",
     "text": [
      "QUERY:  Precipitation amount in Zollikofen June 3, 2021 2h\n",
      "QUERY:  temperature in Zollikofen June 3, 2021 2h\n",
      "QUERY:  humidity in Zollikofen June 3, 2021 2h\n",
      "QUERY:  wind speed in Zollikofen June 3, 2021 2h\n",
      "QUERY:  Moon Phase calculatorJune 3, 2021 2h\n"
     ]
    },
    {
     "name": "stderr",
     "output_type": "stream",
     "text": [
      "\r",
      "  8%|██████▏                                                                      | 126/1564 [40:36<7:49:47, 19.60s/it]"
     ]
    },
    {
     "name": "stdout",
     "output_type": "stream",
     "text": [
      "QUERY:  Precipitation amount in Zollikofen June 3, 2021 3h\n",
      "QUERY:  temperature in Zollikofen June 3, 2021 3h\n",
      "QUERY:  humidity in Zollikofen June 3, 2021 3h\n",
      "QUERY:  wind speed in Zollikofen June 3, 2021 3h\n",
      "QUERY:  Moon Phase calculatorJune 3, 2021 3h\n"
     ]
    },
    {
     "name": "stderr",
     "output_type": "stream",
     "text": [
      "\r",
      "  8%|██████▎                                                                      | 127/1564 [40:54<7:42:47, 19.32s/it]"
     ]
    },
    {
     "name": "stdout",
     "output_type": "stream",
     "text": [
      "QUERY:  Precipitation amount in Zollikofen June 3, 2021 4h\n",
      "QUERY:  temperature in Zollikofen June 3, 2021 4h\n",
      "QUERY:  humidity in Zollikofen June 3, 2021 4h\n",
      "QUERY:  wind speed in Zollikofen June 3, 2021 4h\n",
      "QUERY:  Moon Phase calculatorJune 3, 2021 4h\n"
     ]
    },
    {
     "name": "stderr",
     "output_type": "stream",
     "text": [
      "\r",
      "  8%|██████▎                                                                      | 128/1564 [41:14<7:43:56, 19.38s/it]"
     ]
    },
    {
     "name": "stdout",
     "output_type": "stream",
     "text": [
      "QUERY:  Precipitation amount in Zollikofen June 3, 2021 5h\n",
      "QUERY:  temperature in Zollikofen June 3, 2021 5h\n",
      "QUERY:  humidity in Zollikofen June 3, 2021 5h\n",
      "QUERY:  wind speed in Zollikofen June 3, 2021 5h\n",
      "QUERY:  Moon Phase calculatorJune 3, 2021 5h\n"
     ]
    },
    {
     "name": "stderr",
     "output_type": "stream",
     "text": [
      "\r",
      "  8%|██████▎                                                                      | 129/1564 [41:33<7:44:31, 19.42s/it]"
     ]
    },
    {
     "name": "stdout",
     "output_type": "stream",
     "text": [
      "QUERY:  Precipitation amount in Zollikofen June 3, 2021 6h\n",
      "ERROR:------------- results  ----------  Precipitation amount in Zollikofen June 3, 2021 6h\n",
      "QUERY:  temperature in Zollikofen June 3, 2021 6h\n",
      "QUERY:  humidity in Zollikofen June 3, 2021 6h\n",
      "QUERY:  wind speed in Zollikofen June 3, 2021 6h\n",
      "QUERY:  Moon Phase calculatorJune 3, 2021 6h\n"
     ]
    },
    {
     "name": "stderr",
     "output_type": "stream",
     "text": [
      "\r",
      "  8%|██████▍                                                                      | 130/1564 [41:54<7:54:39, 19.86s/it]"
     ]
    },
    {
     "name": "stdout",
     "output_type": "stream",
     "text": [
      "QUERY:  Precipitation amount in Zollikofen June 3, 2021 7h\n",
      "QUERY:  temperature in Zollikofen June 3, 2021 7h\n",
      "QUERY:  humidity in Zollikofen June 3, 2021 7h\n",
      "QUERY:  wind speed in Zollikofen June 3, 2021 7h\n",
      "QUERY:  Moon Phase calculatorJune 3, 2021 7h\n",
      "(5936, 7)\n"
     ]
    },
    {
     "data": {
      "text/html": [
       "<div>\n",
       "<style scoped>\n",
       "    .dataframe tbody tr th:only-of-type {\n",
       "        vertical-align: middle;\n",
       "    }\n",
       "\n",
       "    .dataframe tbody tr th {\n",
       "        vertical-align: top;\n",
       "    }\n",
       "\n",
       "    .dataframe thead th {\n",
       "        text-align: right;\n",
       "    }\n",
       "</style>\n",
       "<table border=\"1\" class=\"dataframe\">\n",
       "  <thead>\n",
       "    <tr style=\"text-align: right;\">\n",
       "      <th></th>\n",
       "      <th>date</th>\n",
       "      <th>temperature</th>\n",
       "      <th>humidity</th>\n",
       "      <th>wind speed</th>\n",
       "      <th>Precipitation amount</th>\n",
       "      <th>query</th>\n",
       "      <th>Moon Phase calculator</th>\n",
       "    </tr>\n",
       "  </thead>\n",
       "  <tbody>\n",
       "    <tr>\n",
       "      <th>8</th>\n",
       "      <td>2021-06-03 06:00:00</td>\n",
       "      <td>15 °C\\n(6:00 am CEST | Thursday, June 3, 2021)</td>\n",
       "      <td>average: 100% (100%)\\n(6:00 am CEST | Thursday...</td>\n",
       "      <td>2 m/s\\n(6:00 am CEST | Thursday, June 3, 2021)</td>\n",
       "      <td>ERROR</td>\n",
       "      <td>Moon Phase calculatorJune 3, 2021 6h</td>\n",
       "      <td>| waning crescent moon\\n41.49% illuminated</td>\n",
       "    </tr>\n",
       "    <tr>\n",
       "      <th>9</th>\n",
       "      <td>2021-06-03 07:00:00</td>\n",
       "      <td>16 °C\\n(7:00 am CEST | Thursday, June 3, 2021)</td>\n",
       "      <td>average: 100% (100%)\\n(7:00 am CEST | Thursday...</td>\n",
       "      <td>2 m/s\\n(7:00 am CEST | Thursday, June 3, 2021)</td>\n",
       "      <td>no precipitation\\n(7:00 am CEST | Thursday, Ju...</td>\n",
       "      <td>Moon Phase calculatorJune 3, 2021 7h</td>\n",
       "      <td>| waning crescent moon\\n41.08% illuminated</td>\n",
       "    </tr>\n",
       "  </tbody>\n",
       "</table>\n",
       "</div>"
      ],
      "text/plain": [
       "                 date                                     temperature  \\\n",
       "8 2021-06-03 06:00:00  15 °C\\n(6:00 am CEST | Thursday, June 3, 2021)   \n",
       "9 2021-06-03 07:00:00  16 °C\\n(7:00 am CEST | Thursday, June 3, 2021)   \n",
       "\n",
       "                                            humidity  \\\n",
       "8  average: 100% (100%)\\n(6:00 am CEST | Thursday...   \n",
       "9  average: 100% (100%)\\n(7:00 am CEST | Thursday...   \n",
       "\n",
       "                                       wind speed  \\\n",
       "8  2 m/s\\n(6:00 am CEST | Thursday, June 3, 2021)   \n",
       "9  2 m/s\\n(7:00 am CEST | Thursday, June 3, 2021)   \n",
       "\n",
       "                                Precipitation amount  \\\n",
       "8                                              ERROR   \n",
       "9  no precipitation\\n(7:00 am CEST | Thursday, Ju...   \n",
       "\n",
       "                                  query  \\\n",
       "8  Moon Phase calculatorJune 3, 2021 6h   \n",
       "9  Moon Phase calculatorJune 3, 2021 7h   \n",
       "\n",
       "                        Moon Phase calculator  \n",
       "8  | waning crescent moon\\n41.49% illuminated  \n",
       "9  | waning crescent moon\\n41.08% illuminated  "
      ]
     },
     "metadata": {},
     "output_type": "display_data"
    },
    {
     "name": "stderr",
     "output_type": "stream",
     "text": [
      "\r",
      "  8%|██████▍                                                                      | 131/1564 [42:13<7:49:00, 19.64s/it]"
     ]
    },
    {
     "name": "stdout",
     "output_type": "stream",
     "text": [
      "QUERY:  Precipitation amount in Zollikofen June 3, 2021 8h\n",
      "QUERY:  temperature in Zollikofen June 3, 2021 8h\n",
      "QUERY:  humidity in Zollikofen June 3, 2021 8h\n",
      "QUERY:  wind speed in Zollikofen June 3, 2021 8h\n",
      "QUERY:  Moon Phase calculatorJune 3, 2021 8h\n"
     ]
    },
    {
     "name": "stderr",
     "output_type": "stream",
     "text": [
      "\r",
      "  8%|██████▍                                                                      | 132/1564 [42:32<7:42:35, 19.38s/it]"
     ]
    },
    {
     "name": "stdout",
     "output_type": "stream",
     "text": [
      "QUERY:  Precipitation amount in Zollikofen June 3, 2021 9h\n",
      "QUERY:  temperature in Zollikofen June 3, 2021 9h\n",
      "QUERY:  humidity in Zollikofen June 3, 2021 9h\n",
      "QUERY:  wind speed in Zollikofen June 3, 2021 9h\n",
      "QUERY:  Moon Phase calculatorJune 3, 2021 9h\n"
     ]
    },
    {
     "name": "stderr",
     "output_type": "stream",
     "text": [
      "\r",
      "  9%|██████▌                                                                      | 133/1564 [42:51<7:40:45, 19.32s/it]"
     ]
    },
    {
     "name": "stdout",
     "output_type": "stream",
     "text": [
      "QUERY:  Precipitation amount in Zollikofen June 3, 2021 10h\n",
      "QUERY:  temperature in Zollikofen June 3, 2021 10h\n",
      "QUERY:  humidity in Zollikofen June 3, 2021 10h\n",
      "QUERY:  wind speed in Zollikofen June 3, 2021 10h\n",
      "QUERY:  Moon Phase calculatorJune 3, 2021 10h\n"
     ]
    },
    {
     "name": "stderr",
     "output_type": "stream",
     "text": [
      "\r",
      "  9%|██████▌                                                                      | 134/1564 [43:10<7:38:57, 19.26s/it]"
     ]
    },
    {
     "name": "stdout",
     "output_type": "stream",
     "text": [
      "QUERY:  Precipitation amount in Zollikofen June 3, 2021 11h\n",
      "QUERY:  temperature in Zollikofen June 3, 2021 11h\n",
      "QUERY:  humidity in Zollikofen June 3, 2021 11h\n",
      "QUERY:  wind speed in Zollikofen June 3, 2021 11h\n",
      "QUERY:  Moon Phase calculatorJune 3, 2021 11h\n"
     ]
    },
    {
     "name": "stderr",
     "output_type": "stream",
     "text": [
      "\r",
      "  9%|██████▋                                                                      | 135/1564 [43:31<7:46:35, 19.59s/it]"
     ]
    },
    {
     "name": "stdout",
     "output_type": "stream",
     "text": [
      "QUERY:  Precipitation amount in Zollikofen June 3, 2021 12h\n",
      "QUERY:  temperature in Zollikofen June 3, 2021 12h\n",
      "QUERY:  humidity in Zollikofen June 3, 2021 12h\n",
      "QUERY:  wind speed in Zollikofen June 3, 2021 12h\n",
      "QUERY:  Moon Phase calculatorJune 3, 2021 12h\n"
     ]
    },
    {
     "name": "stderr",
     "output_type": "stream",
     "text": [
      "\r",
      "  9%|██████▋                                                                      | 136/1564 [43:52<7:55:31, 19.98s/it]"
     ]
    },
    {
     "name": "stdout",
     "output_type": "stream",
     "text": [
      "QUERY:  Precipitation amount in Zollikofen June 3, 2021 13h\n",
      "QUERY:  temperature in Zollikofen June 3, 2021 13h\n",
      "QUERY:  humidity in Zollikofen June 3, 2021 13h\n",
      "QUERY:  wind speed in Zollikofen June 3, 2021 13h\n",
      "QUERY:  Moon Phase calculatorJune 3, 2021 13h\n"
     ]
    },
    {
     "name": "stderr",
     "output_type": "stream",
     "text": [
      "\r",
      "  9%|██████▋                                                                      | 137/1564 [44:12<7:56:22, 20.03s/it]"
     ]
    },
    {
     "name": "stdout",
     "output_type": "stream",
     "text": [
      "QUERY:  Precipitation amount in Zollikofen June 3, 2021 14h\n",
      "QUERY:  temperature in Zollikofen June 3, 2021 14h\n",
      "QUERY:  humidity in Zollikofen June 3, 2021 14h\n",
      "QUERY:  wind speed in Zollikofen June 3, 2021 14h\n",
      "QUERY:  Moon Phase calculatorJune 3, 2021 14h\n"
     ]
    },
    {
     "name": "stderr",
     "output_type": "stream",
     "text": [
      "\r",
      "  9%|██████▊                                                                      | 138/1564 [44:31<7:52:49, 19.89s/it]"
     ]
    },
    {
     "name": "stdout",
     "output_type": "stream",
     "text": [
      "QUERY:  Precipitation amount in Zollikofen June 3, 2021 15h\n",
      "QUERY:  temperature in Zollikofen June 3, 2021 15h\n",
      "QUERY:  humidity in Zollikofen June 3, 2021 15h\n",
      "QUERY:  wind speed in Zollikofen June 3, 2021 15h\n",
      "QUERY:  Moon Phase calculatorJune 3, 2021 15h\n"
     ]
    },
    {
     "name": "stderr",
     "output_type": "stream",
     "text": [
      "\r",
      "  9%|██████▊                                                                      | 139/1564 [44:52<7:56:09, 20.05s/it]"
     ]
    },
    {
     "name": "stdout",
     "output_type": "stream",
     "text": [
      "QUERY:  Precipitation amount in Zollikofen June 3, 2021 16h\n",
      "QUERY:  temperature in Zollikofen June 3, 2021 16h\n",
      "QUERY:  humidity in Zollikofen June 3, 2021 16h\n",
      "QUERY:  wind speed in Zollikofen June 3, 2021 16h\n",
      "QUERY:  Moon Phase calculatorJune 3, 2021 16h\n"
     ]
    },
    {
     "name": "stderr",
     "output_type": "stream",
     "text": [
      "\r",
      "  9%|██████▉                                                                      | 140/1564 [45:12<7:54:23, 19.99s/it]"
     ]
    },
    {
     "name": "stdout",
     "output_type": "stream",
     "text": [
      "QUERY:  Precipitation amount in Zollikofen June 3, 2021 17h\n",
      "QUERY:  temperature in Zollikofen June 3, 2021 17h\n",
      "QUERY:  humidity in Zollikofen June 3, 2021 17h\n",
      "QUERY:  wind speed in Zollikofen June 3, 2021 17h\n",
      "QUERY:  Moon Phase calculatorJune 3, 2021 17h\n",
      "(5946, 7)\n"
     ]
    },
    {
     "data": {
      "text/html": [
       "<div>\n",
       "<style scoped>\n",
       "    .dataframe tbody tr th:only-of-type {\n",
       "        vertical-align: middle;\n",
       "    }\n",
       "\n",
       "    .dataframe tbody tr th {\n",
       "        vertical-align: top;\n",
       "    }\n",
       "\n",
       "    .dataframe thead th {\n",
       "        text-align: right;\n",
       "    }\n",
       "</style>\n",
       "<table border=\"1\" class=\"dataframe\">\n",
       "  <thead>\n",
       "    <tr style=\"text-align: right;\">\n",
       "      <th></th>\n",
       "      <th>date</th>\n",
       "      <th>temperature</th>\n",
       "      <th>humidity</th>\n",
       "      <th>wind speed</th>\n",
       "      <th>Precipitation amount</th>\n",
       "      <th>query</th>\n",
       "      <th>Moon Phase calculator</th>\n",
       "    </tr>\n",
       "  </thead>\n",
       "  <tbody>\n",
       "    <tr>\n",
       "      <th>8</th>\n",
       "      <td>2021-06-03 16:00:00</td>\n",
       "      <td>24 °C\\n(4:00 pm CEST | Thursday, June 3, 2021)</td>\n",
       "      <td>average: 44% (41 to 47%)\\n(4:00 pm CEST | Thur...</td>\n",
       "      <td>1 m/s\\n(4:00 pm CEST | Thursday, June 3, 2021)</td>\n",
       "      <td>no precipitation\\n(4:00 pm CEST | Thursday, Ju...</td>\n",
       "      <td>Moon Phase calculatorJune 3, 2021 16h</td>\n",
       "      <td>| waning crescent moon\\n37.44% illuminated</td>\n",
       "    </tr>\n",
       "    <tr>\n",
       "      <th>9</th>\n",
       "      <td>2021-06-03 17:00:00</td>\n",
       "      <td>24 °C\\n(5:00 pm CEST | Thursday, June 3, 2021)</td>\n",
       "      <td>average: 43% (42 to 44%)\\n(5:00 pm CEST | Thur...</td>\n",
       "      <td>1 m/s\\n(5:00 pm CEST | Thursday, June 3, 2021)</td>\n",
       "      <td>no precipitation\\n(5:00 pm CEST | Thursday, Ju...</td>\n",
       "      <td>Moon Phase calculatorJune 3, 2021 17h</td>\n",
       "      <td>| waning crescent moon\\n37.04% illuminated</td>\n",
       "    </tr>\n",
       "  </tbody>\n",
       "</table>\n",
       "</div>"
      ],
      "text/plain": [
       "                 date                                     temperature  \\\n",
       "8 2021-06-03 16:00:00  24 °C\\n(4:00 pm CEST | Thursday, June 3, 2021)   \n",
       "9 2021-06-03 17:00:00  24 °C\\n(5:00 pm CEST | Thursday, June 3, 2021)   \n",
       "\n",
       "                                            humidity  \\\n",
       "8  average: 44% (41 to 47%)\\n(4:00 pm CEST | Thur...   \n",
       "9  average: 43% (42 to 44%)\\n(5:00 pm CEST | Thur...   \n",
       "\n",
       "                                       wind speed  \\\n",
       "8  1 m/s\\n(4:00 pm CEST | Thursday, June 3, 2021)   \n",
       "9  1 m/s\\n(5:00 pm CEST | Thursday, June 3, 2021)   \n",
       "\n",
       "                                Precipitation amount  \\\n",
       "8  no precipitation\\n(4:00 pm CEST | Thursday, Ju...   \n",
       "9  no precipitation\\n(5:00 pm CEST | Thursday, Ju...   \n",
       "\n",
       "                                   query  \\\n",
       "8  Moon Phase calculatorJune 3, 2021 16h   \n",
       "9  Moon Phase calculatorJune 3, 2021 17h   \n",
       "\n",
       "                        Moon Phase calculator  \n",
       "8  | waning crescent moon\\n37.44% illuminated  \n",
       "9  | waning crescent moon\\n37.04% illuminated  "
      ]
     },
     "metadata": {},
     "output_type": "display_data"
    },
    {
     "name": "stderr",
     "output_type": "stream",
     "text": [
      "\r",
      "  9%|██████▉                                                                      | 141/1564 [45:28<7:30:02, 18.98s/it]"
     ]
    },
    {
     "name": "stdout",
     "output_type": "stream",
     "text": [
      "QUERY:  Precipitation amount in Zollikofen June 3, 2021 18h\n",
      "QUERY:  temperature in Zollikofen June 3, 2021 18h\n",
      "QUERY:  humidity in Zollikofen June 3, 2021 18h\n",
      "QUERY:  wind speed in Zollikofen June 3, 2021 18h\n",
      "QUERY:  Moon Phase calculatorJune 3, 2021 18h\n"
     ]
    },
    {
     "name": "stderr",
     "output_type": "stream",
     "text": [
      "\r",
      "  9%|██████▉                                                                      | 142/1564 [45:47<7:28:39, 18.93s/it]"
     ]
    },
    {
     "name": "stdout",
     "output_type": "stream",
     "text": [
      "QUERY:  Precipitation amount in Zollikofen June 3, 2021 19h\n",
      "QUERY:  temperature in Zollikofen June 3, 2021 19h\n",
      "QUERY:  humidity in Zollikofen June 3, 2021 19h\n",
      "QUERY:  wind speed in Zollikofen June 3, 2021 19h\n",
      "QUERY:  Moon Phase calculatorJune 3, 2021 19h\n"
     ]
    },
    {
     "name": "stderr",
     "output_type": "stream",
     "text": [
      "\r",
      "  9%|███████                                                                      | 143/1564 [46:07<7:36:50, 19.29s/it]"
     ]
    },
    {
     "name": "stdout",
     "output_type": "stream",
     "text": [
      "QUERY:  Precipitation amount in Zollikofen June 3, 2021 20h\n",
      "QUERY:  temperature in Zollikofen June 3, 2021 20h\n",
      "QUERY:  humidity in Zollikofen June 3, 2021 20h\n",
      "QUERY:  wind speed in Zollikofen June 3, 2021 20h\n",
      "QUERY:  Moon Phase calculatorJune 3, 2021 20h\n"
     ]
    },
    {
     "name": "stderr",
     "output_type": "stream",
     "text": [
      "\r",
      "  9%|███████                                                                      | 144/1564 [46:26<7:33:39, 19.17s/it]"
     ]
    },
    {
     "name": "stdout",
     "output_type": "stream",
     "text": [
      "QUERY:  Precipitation amount in Zollikofen June 3, 2021 21h\n",
      "QUERY:  temperature in Zollikofen June 3, 2021 21h\n",
      "QUERY:  humidity in Zollikofen June 3, 2021 21h\n",
      "QUERY:  wind speed in Zollikofen June 3, 2021 21h\n",
      "QUERY:  Moon Phase calculatorJune 3, 2021 21h\n"
     ]
    },
    {
     "name": "stderr",
     "output_type": "stream",
     "text": [
      "\r",
      "  9%|███████▏                                                                     | 145/1564 [46:46<7:40:48, 19.48s/it]"
     ]
    },
    {
     "name": "stdout",
     "output_type": "stream",
     "text": [
      "QUERY:  Precipitation amount in Zollikofen June 3, 2021 22h\n",
      "QUERY:  temperature in Zollikofen June 3, 2021 22h\n",
      "QUERY:  humidity in Zollikofen June 3, 2021 22h\n",
      "QUERY:  wind speed in Zollikofen June 3, 2021 22h\n",
      "QUERY:  Moon Phase calculatorJune 3, 2021 22h\n"
     ]
    },
    {
     "name": "stderr",
     "output_type": "stream",
     "text": [
      "\r",
      "  9%|███████▏                                                                     | 146/1564 [47:07<7:52:22, 19.99s/it]"
     ]
    },
    {
     "name": "stdout",
     "output_type": "stream",
     "text": [
      "QUERY:  Precipitation amount in Zollikofen June 3, 2021 23h\n",
      "QUERY:  temperature in Zollikofen June 3, 2021 23h\n",
      "QUERY:  humidity in Zollikofen June 3, 2021 23h\n",
      "QUERY:  wind speed in Zollikofen June 3, 2021 23h\n",
      "QUERY:  Moon Phase calculatorJune 3, 2021 23h\n"
     ]
    },
    {
     "name": "stderr",
     "output_type": "stream",
     "text": [
      "\r",
      "  9%|███████▏                                                                     | 147/1564 [47:27<7:49:46, 19.89s/it]"
     ]
    },
    {
     "name": "stdout",
     "output_type": "stream",
     "text": [
      "QUERY:  Precipitation amount in Zollikofen June 4, 2021 0h\n",
      "QUERY:  temperature in Zollikofen June 4, 2021 0h\n",
      "QUERY:  humidity in Zollikofen June 4, 2021 0h\n",
      "QUERY:  wind speed in Zollikofen June 4, 2021 0h\n",
      "QUERY:  Moon Phase calculatorJune 4, 2021 0h\n"
     ]
    },
    {
     "name": "stderr",
     "output_type": "stream",
     "text": [
      "\r",
      "  9%|███████▎                                                                     | 148/1564 [47:47<7:46:17, 19.76s/it]"
     ]
    },
    {
     "name": "stdout",
     "output_type": "stream",
     "text": [
      "QUERY:  Precipitation amount in Zollikofen June 4, 2021 1h\n",
      "QUERY:  temperature in Zollikofen June 4, 2021 1h\n",
      "QUERY:  humidity in Zollikofen June 4, 2021 1h\n",
      "QUERY:  wind speed in Zollikofen June 4, 2021 1h\n",
      "QUERY:  Moon Phase calculatorJune 4, 2021 1h\n"
     ]
    },
    {
     "name": "stderr",
     "output_type": "stream",
     "text": [
      "\r",
      " 10%|███████▎                                                                     | 149/1564 [48:06<7:42:39, 19.62s/it]"
     ]
    },
    {
     "name": "stdout",
     "output_type": "stream",
     "text": [
      "QUERY:  Precipitation amount in Zollikofen June 4, 2021 2h\n",
      "QUERY:  temperature in Zollikofen June 4, 2021 2h\n",
      "QUERY:  humidity in Zollikofen June 4, 2021 2h\n",
      "QUERY:  wind speed in Zollikofen June 4, 2021 2h\n",
      "QUERY:  Moon Phase calculatorJune 4, 2021 2h\n"
     ]
    },
    {
     "name": "stderr",
     "output_type": "stream",
     "text": [
      "\r",
      " 10%|███████▍                                                                     | 150/1564 [48:24<7:34:47, 19.30s/it]"
     ]
    },
    {
     "name": "stdout",
     "output_type": "stream",
     "text": [
      "QUERY:  Precipitation amount in Zollikofen June 4, 2021 3h\n",
      "QUERY:  temperature in Zollikofen June 4, 2021 3h\n",
      "QUERY:  humidity in Zollikofen June 4, 2021 3h\n",
      "QUERY:  wind speed in Zollikofen June 4, 2021 3h\n",
      "QUERY:  Moon Phase calculatorJune 4, 2021 3h\n",
      "(5956, 7)\n"
     ]
    },
    {
     "data": {
      "text/html": [
       "<div>\n",
       "<style scoped>\n",
       "    .dataframe tbody tr th:only-of-type {\n",
       "        vertical-align: middle;\n",
       "    }\n",
       "\n",
       "    .dataframe tbody tr th {\n",
       "        vertical-align: top;\n",
       "    }\n",
       "\n",
       "    .dataframe thead th {\n",
       "        text-align: right;\n",
       "    }\n",
       "</style>\n",
       "<table border=\"1\" class=\"dataframe\">\n",
       "  <thead>\n",
       "    <tr style=\"text-align: right;\">\n",
       "      <th></th>\n",
       "      <th>date</th>\n",
       "      <th>temperature</th>\n",
       "      <th>humidity</th>\n",
       "      <th>wind speed</th>\n",
       "      <th>Precipitation amount</th>\n",
       "      <th>query</th>\n",
       "      <th>Moon Phase calculator</th>\n",
       "    </tr>\n",
       "  </thead>\n",
       "  <tbody>\n",
       "    <tr>\n",
       "      <th>8</th>\n",
       "      <td>2021-06-04 02:00:00</td>\n",
       "      <td>17 °C\\n(2:00 am CEST | Friday, June 4, 2021)</td>\n",
       "      <td>average: 100% (100%)\\n(2:00 am CEST | Friday, ...</td>\n",
       "      <td>1 m/s\\n(2:00 am CEST | Friday, June 4, 2021)</td>\n",
       "      <td>no precipitation\\n(2:00 am CEST | Friday, June...</td>\n",
       "      <td>Moon Phase calculatorJune 4, 2021 2h</td>\n",
       "      <td>| waning crescent moon\\n33.51% illuminated</td>\n",
       "    </tr>\n",
       "    <tr>\n",
       "      <th>9</th>\n",
       "      <td>2021-06-04 03:00:00</td>\n",
       "      <td>16 °C\\n(3:00 am CEST | Friday, June 4, 2021)</td>\n",
       "      <td>average: 100% (100%)\\n(3:00 am CEST | Friday, ...</td>\n",
       "      <td>1 m/s\\n(3:00 am CEST | Friday, June 4, 2021)</td>\n",
       "      <td>no precipitation\\n(3:00 am CEST | Friday, June...</td>\n",
       "      <td>Moon Phase calculatorJune 4, 2021 3h</td>\n",
       "      <td>| waning crescent moon\\n33.13% illuminated</td>\n",
       "    </tr>\n",
       "  </tbody>\n",
       "</table>\n",
       "</div>"
      ],
      "text/plain": [
       "                 date                                   temperature  \\\n",
       "8 2021-06-04 02:00:00  17 °C\\n(2:00 am CEST | Friday, June 4, 2021)   \n",
       "9 2021-06-04 03:00:00  16 °C\\n(3:00 am CEST | Friday, June 4, 2021)   \n",
       "\n",
       "                                            humidity  \\\n",
       "8  average: 100% (100%)\\n(2:00 am CEST | Friday, ...   \n",
       "9  average: 100% (100%)\\n(3:00 am CEST | Friday, ...   \n",
       "\n",
       "                                     wind speed  \\\n",
       "8  1 m/s\\n(2:00 am CEST | Friday, June 4, 2021)   \n",
       "9  1 m/s\\n(3:00 am CEST | Friday, June 4, 2021)   \n",
       "\n",
       "                                Precipitation amount  \\\n",
       "8  no precipitation\\n(2:00 am CEST | Friday, June...   \n",
       "9  no precipitation\\n(3:00 am CEST | Friday, June...   \n",
       "\n",
       "                                  query  \\\n",
       "8  Moon Phase calculatorJune 4, 2021 2h   \n",
       "9  Moon Phase calculatorJune 4, 2021 3h   \n",
       "\n",
       "                        Moon Phase calculator  \n",
       "8  | waning crescent moon\\n33.51% illuminated  \n",
       "9  | waning crescent moon\\n33.13% illuminated  "
      ]
     },
     "metadata": {},
     "output_type": "display_data"
    },
    {
     "name": "stderr",
     "output_type": "stream",
     "text": [
      "\r",
      " 10%|███████▍                                                                     | 151/1564 [48:43<7:31:54, 19.19s/it]"
     ]
    },
    {
     "name": "stdout",
     "output_type": "stream",
     "text": [
      "QUERY:  Precipitation amount in Zollikofen June 4, 2021 4h\n",
      "QUERY:  temperature in Zollikofen June 4, 2021 4h\n",
      "QUERY:  humidity in Zollikofen June 4, 2021 4h\n",
      "QUERY:  wind speed in Zollikofen June 4, 2021 4h\n",
      "QUERY:  Moon Phase calculatorJune 4, 2021 4h\n"
     ]
    },
    {
     "name": "stderr",
     "output_type": "stream",
     "text": [
      "\r",
      " 10%|███████▍                                                                     | 152/1564 [49:02<7:26:59, 18.99s/it]"
     ]
    },
    {
     "name": "stdout",
     "output_type": "stream",
     "text": [
      "QUERY:  Precipitation amount in Zollikofen June 4, 2021 5h\n",
      "QUERY:  temperature in Zollikofen June 4, 2021 5h\n",
      "QUERY:  humidity in Zollikofen June 4, 2021 5h\n",
      "QUERY:  wind speed in Zollikofen June 4, 2021 5h\n",
      "QUERY:  Moon Phase calculatorJune 4, 2021 5h\n"
     ]
    },
    {
     "name": "stderr",
     "output_type": "stream",
     "text": [
      "\r",
      " 10%|███████▌                                                                     | 153/1564 [49:21<7:28:44, 19.08s/it]"
     ]
    },
    {
     "name": "stdout",
     "output_type": "stream",
     "text": [
      "QUERY:  Precipitation amount in Zollikofen June 4, 2021 6h\n",
      "QUERY:  temperature in Zollikofen June 4, 2021 6h\n",
      "QUERY:  humidity in Zollikofen June 4, 2021 6h\n",
      "QUERY:  wind speed in Zollikofen June 4, 2021 6h\n",
      "QUERY:  Moon Phase calculatorJune 4, 2021 6h\n"
     ]
    },
    {
     "name": "stderr",
     "output_type": "stream",
     "text": [
      "\r",
      " 10%|███████▌                                                                     | 154/1564 [49:40<7:29:10, 19.11s/it]"
     ]
    },
    {
     "name": "stdout",
     "output_type": "stream",
     "text": [
      "QUERY:  Precipitation amount in Zollikofen June 4, 2021 7h\n",
      "QUERY:  temperature in Zollikofen June 4, 2021 7h\n",
      "QUERY:  humidity in Zollikofen June 4, 2021 7h\n",
      "QUERY:  wind speed in Zollikofen June 4, 2021 7h\n",
      "QUERY:  Moon Phase calculatorJune 4, 2021 7h\n"
     ]
    },
    {
     "name": "stderr",
     "output_type": "stream",
     "text": [
      "\r",
      " 10%|███████▋                                                                     | 155/1564 [49:59<7:26:32, 19.02s/it]"
     ]
    },
    {
     "name": "stdout",
     "output_type": "stream",
     "text": [
      "QUERY:  Precipitation amount in Zollikofen June 4, 2021 8h\n",
      "QUERY:  temperature in Zollikofen June 4, 2021 8h\n",
      "QUERY:  humidity in Zollikofen June 4, 2021 8h\n",
      "QUERY:  wind speed in Zollikofen June 4, 2021 8h\n",
      "QUERY:  Moon Phase calculatorJune 4, 2021 8h\n"
     ]
    },
    {
     "name": "stderr",
     "output_type": "stream",
     "text": [
      "\r",
      " 10%|███████▋                                                                     | 156/1564 [50:18<7:25:39, 18.99s/it]"
     ]
    },
    {
     "name": "stdout",
     "output_type": "stream",
     "text": [
      "QUERY:  Precipitation amount in Zollikofen June 4, 2021 9h\n",
      "QUERY:  temperature in Zollikofen June 4, 2021 9h\n",
      "QUERY:  humidity in Zollikofen June 4, 2021 9h\n",
      "QUERY:  wind speed in Zollikofen June 4, 2021 9h\n",
      "QUERY:  Moon Phase calculatorJune 4, 2021 9h\n"
     ]
    },
    {
     "name": "stderr",
     "output_type": "stream",
     "text": [
      "\r",
      " 10%|███████▋                                                                     | 157/1564 [50:38<7:31:02, 19.23s/it]"
     ]
    },
    {
     "name": "stdout",
     "output_type": "stream",
     "text": [
      "QUERY:  Precipitation amount in Zollikofen June 4, 2021 10h\n",
      "QUERY:  temperature in Zollikofen June 4, 2021 10h\n",
      "QUERY:  humidity in Zollikofen June 4, 2021 10h\n",
      "QUERY:  wind speed in Zollikofen June 4, 2021 10h\n",
      "QUERY:  Moon Phase calculatorJune 4, 2021 10h\n"
     ]
    },
    {
     "name": "stderr",
     "output_type": "stream",
     "text": [
      "\r",
      " 10%|███████▊                                                                     | 158/1564 [50:59<7:41:23, 19.69s/it]"
     ]
    },
    {
     "name": "stdout",
     "output_type": "stream",
     "text": [
      "QUERY:  Precipitation amount in Zollikofen June 4, 2021 11h\n",
      "QUERY:  temperature in Zollikofen June 4, 2021 11h\n",
      "QUERY:  humidity in Zollikofen June 4, 2021 11h\n",
      "QUERY:  wind speed in Zollikofen June 4, 2021 11h\n",
      "QUERY:  Moon Phase calculatorJune 4, 2021 11h\n"
     ]
    },
    {
     "name": "stderr",
     "output_type": "stream",
     "text": [
      "\r",
      " 10%|███████▊                                                                     | 159/1564 [51:20<7:53:20, 20.21s/it]"
     ]
    },
    {
     "name": "stdout",
     "output_type": "stream",
     "text": [
      "QUERY:  Precipitation amount in Zollikofen June 4, 2021 12h\n",
      "QUERY:  temperature in Zollikofen June 4, 2021 12h\n",
      "QUERY:  humidity in Zollikofen June 4, 2021 12h\n",
      "QUERY:  wind speed in Zollikofen June 4, 2021 12h\n",
      "QUERY:  Moon Phase calculatorJune 4, 2021 12h\n"
     ]
    },
    {
     "name": "stderr",
     "output_type": "stream",
     "text": [
      "\r",
      " 10%|███████▉                                                                     | 160/1564 [51:40<7:53:52, 20.25s/it]"
     ]
    },
    {
     "name": "stdout",
     "output_type": "stream",
     "text": [
      "QUERY:  Precipitation amount in Zollikofen June 4, 2021 13h\n",
      "QUERY:  temperature in Zollikofen June 4, 2021 13h\n",
      "QUERY:  humidity in Zollikofen June 4, 2021 13h\n",
      "QUERY:  wind speed in Zollikofen June 4, 2021 13h\n",
      "QUERY:  Moon Phase calculatorJune 4, 2021 13h\n",
      "(5966, 7)\n"
     ]
    },
    {
     "data": {
      "text/html": [
       "<div>\n",
       "<style scoped>\n",
       "    .dataframe tbody tr th:only-of-type {\n",
       "        vertical-align: middle;\n",
       "    }\n",
       "\n",
       "    .dataframe tbody tr th {\n",
       "        vertical-align: top;\n",
       "    }\n",
       "\n",
       "    .dataframe thead th {\n",
       "        text-align: right;\n",
       "    }\n",
       "</style>\n",
       "<table border=\"1\" class=\"dataframe\">\n",
       "  <thead>\n",
       "    <tr style=\"text-align: right;\">\n",
       "      <th></th>\n",
       "      <th>date</th>\n",
       "      <th>temperature</th>\n",
       "      <th>humidity</th>\n",
       "      <th>wind speed</th>\n",
       "      <th>Precipitation amount</th>\n",
       "      <th>query</th>\n",
       "      <th>Moon Phase calculator</th>\n",
       "    </tr>\n",
       "  </thead>\n",
       "  <tbody>\n",
       "    <tr>\n",
       "      <th>8</th>\n",
       "      <td>2021-06-04 12:00:00</td>\n",
       "      <td>18 °C\\n(12:00 pm CEST | Friday, June 4, 2021)</td>\n",
       "      <td>average: 75% (73 to 78%)\\n(12:00 pm CEST | Fri...</td>\n",
       "      <td>1 m/s\\n(12:00 pm CEST | Friday, June 4, 2021)</td>\n",
       "      <td>no precipitation\\n(12:00 pm CEST | Friday, Jun...</td>\n",
       "      <td>Moon Phase calculatorJune 4, 2021 12h</td>\n",
       "      <td>| waning crescent moon\\n29.73% illuminated</td>\n",
       "    </tr>\n",
       "    <tr>\n",
       "      <th>9</th>\n",
       "      <td>2021-06-04 13:00:00</td>\n",
       "      <td>20 °C\\n(1:00 pm CEST | Friday, June 4, 2021)</td>\n",
       "      <td>average: 69% (68 to 69%)\\n(1:00 pm CEST | Frid...</td>\n",
       "      <td>2 m/s\\n(1:00 pm CEST | Friday, June 4, 2021)</td>\n",
       "      <td>no precipitation\\n(1:00 pm CEST | Friday, June...</td>\n",
       "      <td>Moon Phase calculatorJune 4, 2021 13h</td>\n",
       "      <td>| waning crescent moon\\n29.36% illuminated</td>\n",
       "    </tr>\n",
       "  </tbody>\n",
       "</table>\n",
       "</div>"
      ],
      "text/plain": [
       "                 date                                    temperature  \\\n",
       "8 2021-06-04 12:00:00  18 °C\\n(12:00 pm CEST | Friday, June 4, 2021)   \n",
       "9 2021-06-04 13:00:00   20 °C\\n(1:00 pm CEST | Friday, June 4, 2021)   \n",
       "\n",
       "                                            humidity  \\\n",
       "8  average: 75% (73 to 78%)\\n(12:00 pm CEST | Fri...   \n",
       "9  average: 69% (68 to 69%)\\n(1:00 pm CEST | Frid...   \n",
       "\n",
       "                                      wind speed  \\\n",
       "8  1 m/s\\n(12:00 pm CEST | Friday, June 4, 2021)   \n",
       "9   2 m/s\\n(1:00 pm CEST | Friday, June 4, 2021)   \n",
       "\n",
       "                                Precipitation amount  \\\n",
       "8  no precipitation\\n(12:00 pm CEST | Friday, Jun...   \n",
       "9  no precipitation\\n(1:00 pm CEST | Friday, June...   \n",
       "\n",
       "                                   query  \\\n",
       "8  Moon Phase calculatorJune 4, 2021 12h   \n",
       "9  Moon Phase calculatorJune 4, 2021 13h   \n",
       "\n",
       "                        Moon Phase calculator  \n",
       "8  | waning crescent moon\\n29.73% illuminated  \n",
       "9  | waning crescent moon\\n29.36% illuminated  "
      ]
     },
     "metadata": {},
     "output_type": "display_data"
    },
    {
     "name": "stderr",
     "output_type": "stream",
     "text": [
      "\r",
      " 10%|███████▉                                                                     | 161/1564 [52:00<7:50:40, 20.13s/it]"
     ]
    },
    {
     "name": "stdout",
     "output_type": "stream",
     "text": [
      "QUERY:  Precipitation amount in Zollikofen June 4, 2021 14h\n",
      "QUERY:  temperature in Zollikofen June 4, 2021 14h\n",
      "QUERY:  humidity in Zollikofen June 4, 2021 14h\n",
      "QUERY:  wind speed in Zollikofen June 4, 2021 14h\n",
      "QUERY:  Moon Phase calculatorJune 4, 2021 14h\n"
     ]
    },
    {
     "name": "stderr",
     "output_type": "stream",
     "text": [
      "\r",
      " 10%|███████▉                                                                     | 162/1564 [52:20<7:50:27, 20.13s/it]"
     ]
    },
    {
     "name": "stdout",
     "output_type": "stream",
     "text": [
      "QUERY:  Precipitation amount in Zollikofen June 4, 2021 15h\n",
      "QUERY:  temperature in Zollikofen June 4, 2021 15h\n",
      "QUERY:  humidity in Zollikofen June 4, 2021 15h\n",
      "QUERY:  wind speed in Zollikofen June 4, 2021 15h\n",
      "QUERY:  Moon Phase calculatorJune 4, 2021 15h\n"
     ]
    },
    {
     "name": "stderr",
     "output_type": "stream",
     "text": [
      "\r",
      " 10%|████████                                                                     | 163/1564 [52:40<7:48:55, 20.08s/it]"
     ]
    },
    {
     "name": "stdout",
     "output_type": "stream",
     "text": [
      "QUERY:  Precipitation amount in Zollikofen June 4, 2021 16h\n",
      "QUERY:  temperature in Zollikofen June 4, 2021 16h\n",
      "QUERY:  humidity in Zollikofen June 4, 2021 16h\n",
      "QUERY:  wind speed in Zollikofen June 4, 2021 16h\n",
      "QUERY:  Moon Phase calculatorJune 4, 2021 16h\n"
     ]
    },
    {
     "name": "stderr",
     "output_type": "stream",
     "text": [
      "\r",
      " 10%|████████                                                                     | 164/1564 [53:01<7:51:48, 20.22s/it]"
     ]
    },
    {
     "name": "stdout",
     "output_type": "stream",
     "text": [
      "QUERY:  Precipitation amount in Zollikofen June 4, 2021 17h\n",
      "QUERY:  temperature in Zollikofen June 4, 2021 17h\n",
      "QUERY:  humidity in Zollikofen June 4, 2021 17h\n",
      "QUERY:  wind speed in Zollikofen June 4, 2021 17h\n",
      "QUERY:  Moon Phase calculatorJune 4, 2021 17h\n"
     ]
    },
    {
     "name": "stderr",
     "output_type": "stream",
     "text": [
      "\r",
      " 11%|████████                                                                     | 165/1564 [53:22<7:58:34, 20.52s/it]"
     ]
    },
    {
     "name": "stdout",
     "output_type": "stream",
     "text": [
      "QUERY:  Precipitation amount in Zollikofen June 4, 2021 18h\n",
      "QUERY:  temperature in Zollikofen June 4, 2021 18h\n",
      "QUERY:  humidity in Zollikofen June 4, 2021 18h\n",
      "QUERY:  wind speed in Zollikofen June 4, 2021 18h\n",
      "QUERY:  Moon Phase calculatorJune 4, 2021 18h\n"
     ]
    },
    {
     "name": "stderr",
     "output_type": "stream",
     "text": [
      "\r",
      " 11%|████████▏                                                                    | 166/1564 [53:42<7:57:09, 20.48s/it]"
     ]
    },
    {
     "name": "stdout",
     "output_type": "stream",
     "text": [
      "QUERY:  Precipitation amount in Zollikofen June 4, 2021 19h\n",
      "QUERY:  temperature in Zollikofen June 4, 2021 19h\n",
      "QUERY:  humidity in Zollikofen June 4, 2021 19h\n",
      "QUERY:  wind speed in Zollikofen June 4, 2021 19h\n",
      "QUERY:  Moon Phase calculatorJune 4, 2021 19h\n"
     ]
    },
    {
     "name": "stderr",
     "output_type": "stream",
     "text": [
      "\r",
      " 11%|████████▏                                                                    | 167/1564 [54:03<7:54:09, 20.36s/it]"
     ]
    },
    {
     "name": "stdout",
     "output_type": "stream",
     "text": [
      "QUERY:  Precipitation amount in Zollikofen June 4, 2021 20h\n",
      "QUERY:  temperature in Zollikofen June 4, 2021 20h\n",
      "QUERY:  humidity in Zollikofen June 4, 2021 20h\n",
      "QUERY:  wind speed in Zollikofen June 4, 2021 20h\n",
      "QUERY:  Moon Phase calculatorJune 4, 2021 20h\n"
     ]
    },
    {
     "name": "stderr",
     "output_type": "stream",
     "text": [
      "\r",
      " 11%|████████▎                                                                    | 168/1564 [54:23<7:53:38, 20.36s/it]"
     ]
    },
    {
     "name": "stdout",
     "output_type": "stream",
     "text": [
      "QUERY:  Precipitation amount in Zollikofen June 4, 2021 21h\n",
      "QUERY:  temperature in Zollikofen June 4, 2021 21h\n",
      "QUERY:  humidity in Zollikofen June 4, 2021 21h\n",
      "QUERY:  wind speed in Zollikofen June 4, 2021 21h\n",
      "QUERY:  Moon Phase calculatorJune 4, 2021 21h\n"
     ]
    },
    {
     "name": "stderr",
     "output_type": "stream",
     "text": [
      "\r",
      " 11%|████████▎                                                                    | 169/1564 [54:44<7:56:06, 20.48s/it]"
     ]
    },
    {
     "name": "stdout",
     "output_type": "stream",
     "text": [
      "QUERY:  Precipitation amount in Zollikofen June 4, 2021 22h\n",
      "QUERY:  temperature in Zollikofen June 4, 2021 22h\n",
      "QUERY:  humidity in Zollikofen June 4, 2021 22h\n",
      "QUERY:  wind speed in Zollikofen June 4, 2021 22h\n",
      "QUERY:  Moon Phase calculatorJune 4, 2021 22h\n"
     ]
    },
    {
     "name": "stderr",
     "output_type": "stream",
     "text": [
      "\r",
      " 11%|████████▎                                                                    | 170/1564 [55:04<7:52:07, 20.32s/it]"
     ]
    },
    {
     "name": "stdout",
     "output_type": "stream",
     "text": [
      "QUERY:  Precipitation amount in Zollikofen June 4, 2021 23h\n",
      "QUERY:  temperature in Zollikofen June 4, 2021 23h\n",
      "QUERY:  humidity in Zollikofen June 4, 2021 23h\n",
      "ERROR: no data available-------------  humidity in Zollikofen June 4, 2021 23h\n",
      "ERROR:------------- name 'error' is not defined  ----------  humidity in Zollikofen June 4, 2021 23h\n",
      "QUERY:  wind speed in Zollikofen June 4, 2021 23h\n",
      "QUERY:  Moon Phase calculatorJune 4, 2021 23h\n",
      "(5976, 7)\n"
     ]
    },
    {
     "data": {
      "text/html": [
       "<div>\n",
       "<style scoped>\n",
       "    .dataframe tbody tr th:only-of-type {\n",
       "        vertical-align: middle;\n",
       "    }\n",
       "\n",
       "    .dataframe tbody tr th {\n",
       "        vertical-align: top;\n",
       "    }\n",
       "\n",
       "    .dataframe thead th {\n",
       "        text-align: right;\n",
       "    }\n",
       "</style>\n",
       "<table border=\"1\" class=\"dataframe\">\n",
       "  <thead>\n",
       "    <tr style=\"text-align: right;\">\n",
       "      <th></th>\n",
       "      <th>date</th>\n",
       "      <th>temperature</th>\n",
       "      <th>humidity</th>\n",
       "      <th>wind speed</th>\n",
       "      <th>Precipitation amount</th>\n",
       "      <th>query</th>\n",
       "      <th>Moon Phase calculator</th>\n",
       "    </tr>\n",
       "  </thead>\n",
       "  <tbody>\n",
       "    <tr>\n",
       "      <th>8</th>\n",
       "      <td>2021-06-04 22:00:00</td>\n",
       "      <td>15 °C\\n(10:00 pm CEST | Friday, June 4, 2021)</td>\n",
       "      <td>average: 100% (100%)\\n(10:00 pm CEST | Friday,...</td>\n",
       "      <td>3 m/s\\n(10:00 pm CEST | Friday, June 4, 2021)</td>\n",
       "      <td>rain\\n(10:00 pm CEST | Friday, June 4, 2021)</td>\n",
       "      <td>Moon Phase calculatorJune 4, 2021 22h</td>\n",
       "      <td>| waning crescent moon\\n26.10% illuminated</td>\n",
       "    </tr>\n",
       "    <tr>\n",
       "      <th>9</th>\n",
       "      <td>2021-06-04 23:00:00</td>\n",
       "      <td>15 °C\\n(11:00 pm CEST | Friday, June 4, 2021)</td>\n",
       "      <td>ERROR</td>\n",
       "      <td>2 m/s\\n(11:00 pm CEST | Friday, June 4, 2021)</td>\n",
       "      <td>rain\\n(11:00 pm CEST | Friday, June 4, 2021)</td>\n",
       "      <td>Moon Phase calculatorJune 4, 2021 23h</td>\n",
       "      <td>| waning crescent moon\\n25.75% illuminated</td>\n",
       "    </tr>\n",
       "  </tbody>\n",
       "</table>\n",
       "</div>"
      ],
      "text/plain": [
       "                 date                                    temperature  \\\n",
       "8 2021-06-04 22:00:00  15 °C\\n(10:00 pm CEST | Friday, June 4, 2021)   \n",
       "9 2021-06-04 23:00:00  15 °C\\n(11:00 pm CEST | Friday, June 4, 2021)   \n",
       "\n",
       "                                            humidity  \\\n",
       "8  average: 100% (100%)\\n(10:00 pm CEST | Friday,...   \n",
       "9                                              ERROR   \n",
       "\n",
       "                                      wind speed  \\\n",
       "8  3 m/s\\n(10:00 pm CEST | Friday, June 4, 2021)   \n",
       "9  2 m/s\\n(11:00 pm CEST | Friday, June 4, 2021)   \n",
       "\n",
       "                           Precipitation amount  \\\n",
       "8  rain\\n(10:00 pm CEST | Friday, June 4, 2021)   \n",
       "9  rain\\n(11:00 pm CEST | Friday, June 4, 2021)   \n",
       "\n",
       "                                   query  \\\n",
       "8  Moon Phase calculatorJune 4, 2021 22h   \n",
       "9  Moon Phase calculatorJune 4, 2021 23h   \n",
       "\n",
       "                        Moon Phase calculator  \n",
       "8  | waning crescent moon\\n26.10% illuminated  \n",
       "9  | waning crescent moon\\n25.75% illuminated  "
      ]
     },
     "metadata": {},
     "output_type": "display_data"
    },
    {
     "name": "stderr",
     "output_type": "stream",
     "text": [
      "\r",
      " 11%|████████▍                                                                    | 171/1564 [55:24<7:53:28, 20.39s/it]"
     ]
    },
    {
     "name": "stdout",
     "output_type": "stream",
     "text": [
      "QUERY:  Precipitation amount in Zollikofen June 5, 2021 0h\n",
      "QUERY:  temperature in Zollikofen June 5, 2021 0h\n",
      "QUERY:  humidity in Zollikofen June 5, 2021 0h\n",
      "QUERY:  wind speed in Zollikofen June 5, 2021 0h\n",
      "QUERY:  Moon Phase calculatorJune 5, 2021 0h\n"
     ]
    },
    {
     "name": "stderr",
     "output_type": "stream",
     "text": [
      "\r",
      " 11%|████████▍                                                                    | 172/1564 [55:44<7:46:48, 20.12s/it]"
     ]
    },
    {
     "name": "stdout",
     "output_type": "stream",
     "text": [
      "QUERY:  Precipitation amount in Zollikofen June 5, 2021 1h\n",
      "QUERY:  temperature in Zollikofen June 5, 2021 1h\n",
      "QUERY:  humidity in Zollikofen June 5, 2021 1h\n",
      "QUERY:  wind speed in Zollikofen June 5, 2021 1h\n",
      "QUERY:  Moon Phase calculatorJune 5, 2021 1h\n"
     ]
    },
    {
     "name": "stderr",
     "output_type": "stream",
     "text": [
      "\r",
      " 11%|████████▌                                                                    | 173/1564 [56:04<7:46:18, 20.11s/it]"
     ]
    },
    {
     "name": "stdout",
     "output_type": "stream",
     "text": [
      "QUERY:  Precipitation amount in Zollikofen June 5, 2021 2h\n",
      "QUERY:  temperature in Zollikofen June 5, 2021 2h\n",
      "QUERY:  humidity in Zollikofen June 5, 2021 2h\n",
      "QUERY:  wind speed in Zollikofen June 5, 2021 2h\n",
      "QUERY:  Moon Phase calculatorJune 5, 2021 2h\n"
     ]
    },
    {
     "name": "stderr",
     "output_type": "stream",
     "text": [
      "\r",
      " 11%|████████▌                                                                    | 174/1564 [56:26<7:59:02, 20.68s/it]"
     ]
    },
    {
     "name": "stdout",
     "output_type": "stream",
     "text": [
      "QUERY:  Precipitation amount in Zollikofen June 5, 2021 3h\n",
      "QUERY:  temperature in Zollikofen June 5, 2021 3h\n",
      "QUERY:  humidity in Zollikofen June 5, 2021 3h\n",
      "QUERY:  wind speed in Zollikofen June 5, 2021 3h\n",
      "QUERY:  Moon Phase calculatorJune 5, 2021 3h\n"
     ]
    },
    {
     "name": "stderr",
     "output_type": "stream",
     "text": [
      "\r",
      " 11%|████████▌                                                                    | 175/1564 [56:46<7:58:14, 20.66s/it]"
     ]
    },
    {
     "name": "stdout",
     "output_type": "stream",
     "text": [
      "QUERY:  Precipitation amount in Zollikofen June 5, 2021 4h\n",
      "QUERY:  temperature in Zollikofen June 5, 2021 4h\n",
      "QUERY:  humidity in Zollikofen June 5, 2021 4h\n",
      "QUERY:  wind speed in Zollikofen June 5, 2021 4h\n",
      "QUERY:  Moon Phase calculatorJune 5, 2021 4h\n"
     ]
    },
    {
     "name": "stderr",
     "output_type": "stream",
     "text": [
      "\r",
      " 11%|████████▋                                                                    | 176/1564 [57:07<7:57:53, 20.66s/it]"
     ]
    },
    {
     "name": "stdout",
     "output_type": "stream",
     "text": [
      "QUERY:  Precipitation amount in Zollikofen June 5, 2021 5h\n",
      "QUERY:  temperature in Zollikofen June 5, 2021 5h\n",
      "QUERY:  humidity in Zollikofen June 5, 2021 5h\n",
      "QUERY:  wind speed in Zollikofen June 5, 2021 5h\n",
      "QUERY:  Moon Phase calculatorJune 5, 2021 5h\n"
     ]
    },
    {
     "name": "stderr",
     "output_type": "stream",
     "text": [
      "\r",
      " 11%|████████▋                                                                    | 177/1564 [57:27<7:54:26, 20.52s/it]"
     ]
    },
    {
     "name": "stdout",
     "output_type": "stream",
     "text": [
      "QUERY:  Precipitation amount in Zollikofen June 5, 2021 6h\n",
      "QUERY:  temperature in Zollikofen June 5, 2021 6h\n",
      "QUERY:  humidity in Zollikofen June 5, 2021 6h\n",
      "QUERY:  wind speed in Zollikofen June 5, 2021 6h\n",
      "QUERY:  Moon Phase calculatorJune 5, 2021 6h\n"
     ]
    },
    {
     "name": "stderr",
     "output_type": "stream",
     "text": [
      "\r",
      " 11%|████████▊                                                                    | 178/1564 [57:48<7:52:26, 20.45s/it]"
     ]
    },
    {
     "name": "stdout",
     "output_type": "stream",
     "text": [
      "QUERY:  Precipitation amount in Zollikofen June 5, 2021 7h\n",
      "QUERY:  temperature in Zollikofen June 5, 2021 7h\n",
      "QUERY:  humidity in Zollikofen June 5, 2021 7h\n",
      "QUERY:  wind speed in Zollikofen June 5, 2021 7h\n",
      "QUERY:  Moon Phase calculatorJune 5, 2021 7h\n"
     ]
    },
    {
     "name": "stderr",
     "output_type": "stream",
     "text": [
      "\r",
      " 11%|████████▊                                                                    | 179/1564 [58:07<7:47:32, 20.25s/it]"
     ]
    },
    {
     "name": "stdout",
     "output_type": "stream",
     "text": [
      "QUERY:  Precipitation amount in Zollikofen June 5, 2021 8h\n",
      "QUERY:  temperature in Zollikofen June 5, 2021 8h\n",
      "QUERY:  humidity in Zollikofen June 5, 2021 8h\n",
      "QUERY:  wind speed in Zollikofen June 5, 2021 8h\n",
      "QUERY:  Moon Phase calculatorJune 5, 2021 8h\n"
     ]
    },
    {
     "name": "stderr",
     "output_type": "stream",
     "text": [
      "\r",
      " 12%|████████▊                                                                    | 180/1564 [58:28<7:51:05, 20.42s/it]"
     ]
    },
    {
     "name": "stdout",
     "output_type": "stream",
     "text": [
      "QUERY:  Precipitation amount in Zollikofen June 5, 2021 9h\n",
      "QUERY:  temperature in Zollikofen June 5, 2021 9h\n",
      "QUERY:  humidity in Zollikofen June 5, 2021 9h\n",
      "QUERY:  wind speed in Zollikofen June 5, 2021 9h\n",
      "QUERY:  Moon Phase calculatorJune 5, 2021 9h\n",
      "(5986, 7)\n"
     ]
    },
    {
     "data": {
      "text/html": [
       "<div>\n",
       "<style scoped>\n",
       "    .dataframe tbody tr th:only-of-type {\n",
       "        vertical-align: middle;\n",
       "    }\n",
       "\n",
       "    .dataframe tbody tr th {\n",
       "        vertical-align: top;\n",
       "    }\n",
       "\n",
       "    .dataframe thead th {\n",
       "        text-align: right;\n",
       "    }\n",
       "</style>\n",
       "<table border=\"1\" class=\"dataframe\">\n",
       "  <thead>\n",
       "    <tr style=\"text-align: right;\">\n",
       "      <th></th>\n",
       "      <th>date</th>\n",
       "      <th>temperature</th>\n",
       "      <th>humidity</th>\n",
       "      <th>wind speed</th>\n",
       "      <th>Precipitation amount</th>\n",
       "      <th>query</th>\n",
       "      <th>Moon Phase calculator</th>\n",
       "    </tr>\n",
       "  </thead>\n",
       "  <tbody>\n",
       "    <tr>\n",
       "      <th>8</th>\n",
       "      <td>2021-06-05 08:00:00</td>\n",
       "      <td>15 °C\\n(8:00 am CEST | Saturday, June 5, 2021)</td>\n",
       "      <td>average: 100% (100%)\\n(8:00 am CEST | Saturday...</td>\n",
       "      <td>2 m/s\\n(8:00 am CEST | Saturday, June 5, 2021)</td>\n",
       "      <td>no precipitation\\n(8:00 am CEST | Saturday, Ju...</td>\n",
       "      <td>Moon Phase calculatorJune 5, 2021 8h</td>\n",
       "      <td>| waning crescent moon\\n22.65% illuminated</td>\n",
       "    </tr>\n",
       "    <tr>\n",
       "      <th>9</th>\n",
       "      <td>2021-06-05 09:00:00</td>\n",
       "      <td>16 °C\\n(9:00 am CEST | Saturday, June 5, 2021)</td>\n",
       "      <td>average: 97% (94 to 100%)\\n(9:00 am CEST | Sat...</td>\n",
       "      <td>2 m/s\\n(9:00 am CEST | Saturday, June 5, 2021)</td>\n",
       "      <td>rain\\n(9:00 am CEST | Saturday, June 5, 2021)</td>\n",
       "      <td>Moon Phase calculatorJune 5, 2021 9h</td>\n",
       "      <td>| waning crescent moon\\n22.31% illuminated</td>\n",
       "    </tr>\n",
       "  </tbody>\n",
       "</table>\n",
       "</div>"
      ],
      "text/plain": [
       "                 date                                     temperature  \\\n",
       "8 2021-06-05 08:00:00  15 °C\\n(8:00 am CEST | Saturday, June 5, 2021)   \n",
       "9 2021-06-05 09:00:00  16 °C\\n(9:00 am CEST | Saturday, June 5, 2021)   \n",
       "\n",
       "                                            humidity  \\\n",
       "8  average: 100% (100%)\\n(8:00 am CEST | Saturday...   \n",
       "9  average: 97% (94 to 100%)\\n(9:00 am CEST | Sat...   \n",
       "\n",
       "                                       wind speed  \\\n",
       "8  2 m/s\\n(8:00 am CEST | Saturday, June 5, 2021)   \n",
       "9  2 m/s\\n(9:00 am CEST | Saturday, June 5, 2021)   \n",
       "\n",
       "                                Precipitation amount  \\\n",
       "8  no precipitation\\n(8:00 am CEST | Saturday, Ju...   \n",
       "9      rain\\n(9:00 am CEST | Saturday, June 5, 2021)   \n",
       "\n",
       "                                  query  \\\n",
       "8  Moon Phase calculatorJune 5, 2021 8h   \n",
       "9  Moon Phase calculatorJune 5, 2021 9h   \n",
       "\n",
       "                        Moon Phase calculator  \n",
       "8  | waning crescent moon\\n22.65% illuminated  \n",
       "9  | waning crescent moon\\n22.31% illuminated  "
      ]
     },
     "metadata": {},
     "output_type": "display_data"
    },
    {
     "name": "stderr",
     "output_type": "stream",
     "text": [
      "\r",
      " 12%|████████▉                                                                    | 181/1564 [58:50<7:59:49, 20.82s/it]"
     ]
    },
    {
     "name": "stdout",
     "output_type": "stream",
     "text": [
      "QUERY:  Precipitation amount in Zollikofen June 5, 2021 10h\n",
      "QUERY:  temperature in Zollikofen June 5, 2021 10h\n",
      "QUERY:  humidity in Zollikofen June 5, 2021 10h\n",
      "QUERY:  wind speed in Zollikofen June 5, 2021 10h\n",
      "QUERY:  Moon Phase calculatorJune 5, 2021 10h\n"
     ]
    },
    {
     "name": "stderr",
     "output_type": "stream",
     "text": [
      "\r",
      " 12%|████████▉                                                                    | 182/1564 [59:10<7:55:30, 20.64s/it]"
     ]
    },
    {
     "name": "stdout",
     "output_type": "stream",
     "text": [
      "QUERY:  Precipitation amount in Zollikofen June 5, 2021 11h\n",
      "QUERY:  temperature in Zollikofen June 5, 2021 11h\n",
      "QUERY:  humidity in Zollikofen June 5, 2021 11h\n",
      "QUERY:  wind speed in Zollikofen June 5, 2021 11h\n",
      "QUERY:  Moon Phase calculatorJune 5, 2021 11h\n"
     ]
    },
    {
     "name": "stderr",
     "output_type": "stream",
     "text": [
      "\r",
      " 12%|█████████                                                                    | 183/1564 [59:31<7:56:18, 20.69s/it]"
     ]
    },
    {
     "name": "stdout",
     "output_type": "stream",
     "text": [
      "QUERY:  Precipitation amount in Zollikofen June 5, 2021 12h\n",
      "QUERY:  temperature in Zollikofen June 5, 2021 12h\n",
      "QUERY:  humidity in Zollikofen June 5, 2021 12h\n",
      "QUERY:  wind speed in Zollikofen June 5, 2021 12h\n",
      "QUERY:  Moon Phase calculatorJune 5, 2021 12h\n"
     ]
    },
    {
     "name": "stderr",
     "output_type": "stream",
     "text": [
      "\r",
      " 12%|█████████                                                                    | 184/1564 [59:51<7:52:26, 20.54s/it]"
     ]
    },
    {
     "name": "stdout",
     "output_type": "stream",
     "text": [
      "QUERY:  Precipitation amount in Zollikofen June 5, 2021 13h\n",
      "QUERY:  temperature in Zollikofen June 5, 2021 13h\n",
      "QUERY:  humidity in Zollikofen June 5, 2021 13h\n",
      "QUERY:  wind speed in Zollikofen June 5, 2021 13h\n",
      "QUERY:  Moon Phase calculatorJune 5, 2021 13h\n"
     ]
    },
    {
     "name": "stderr",
     "output_type": "stream",
     "text": [
      "\r",
      " 12%|████████▊                                                                  | 185/1564 [1:00:12<7:56:03, 20.71s/it]"
     ]
    },
    {
     "name": "stdout",
     "output_type": "stream",
     "text": [
      "QUERY:  Precipitation amount in Zollikofen June 5, 2021 14h\n",
      "QUERY:  temperature in Zollikofen June 5, 2021 14h\n",
      "QUERY:  humidity in Zollikofen June 5, 2021 14h\n",
      "QUERY:  wind speed in Zollikofen June 5, 2021 14h\n",
      "QUERY:  Moon Phase calculatorJune 5, 2021 14h\n"
     ]
    },
    {
     "name": "stderr",
     "output_type": "stream",
     "text": [
      "\r",
      " 12%|████████▉                                                                  | 186/1564 [1:00:33<7:53:24, 20.61s/it]"
     ]
    },
    {
     "name": "stdout",
     "output_type": "stream",
     "text": [
      "QUERY:  Precipitation amount in Zollikofen June 5, 2021 15h\n",
      "QUERY:  temperature in Zollikofen June 5, 2021 15h\n",
      "QUERY:  humidity in Zollikofen June 5, 2021 15h\n",
      "QUERY:  wind speed in Zollikofen June 5, 2021 15h\n",
      "QUERY:  Moon Phase calculatorJune 5, 2021 15h\n"
     ]
    },
    {
     "name": "stderr",
     "output_type": "stream",
     "text": [
      "\r",
      " 12%|████████▉                                                                  | 187/1564 [1:00:53<7:53:39, 20.64s/it]"
     ]
    },
    {
     "name": "stdout",
     "output_type": "stream",
     "text": [
      "QUERY:  Precipitation amount in Zollikofen June 5, 2021 16h\n",
      "QUERY:  temperature in Zollikofen June 5, 2021 16h\n",
      "QUERY:  humidity in Zollikofen June 5, 2021 16h\n",
      "QUERY:  wind speed in Zollikofen June 5, 2021 16h\n",
      "QUERY:  Moon Phase calculatorJune 5, 2021 16h\n"
     ]
    },
    {
     "name": "stderr",
     "output_type": "stream",
     "text": [
      "\r",
      " 12%|█████████                                                                  | 188/1564 [1:01:15<7:59:22, 20.90s/it]"
     ]
    },
    {
     "name": "stdout",
     "output_type": "stream",
     "text": [
      "QUERY:  Precipitation amount in Zollikofen June 5, 2021 17h\n",
      "QUERY:  temperature in Zollikofen June 5, 2021 17h\n",
      "QUERY:  humidity in Zollikofen June 5, 2021 17h\n",
      "QUERY:  wind speed in Zollikofen June 5, 2021 17h\n",
      "QUERY:  Moon Phase calculatorJune 5, 2021 17h\n"
     ]
    },
    {
     "name": "stderr",
     "output_type": "stream",
     "text": [
      "\r",
      " 12%|█████████                                                                  | 189/1564 [1:01:36<7:58:46, 20.89s/it]"
     ]
    },
    {
     "name": "stdout",
     "output_type": "stream",
     "text": [
      "QUERY:  Precipitation amount in Zollikofen June 5, 2021 18h\n",
      "QUERY:  temperature in Zollikofen June 5, 2021 18h\n",
      "QUERY:  humidity in Zollikofen June 5, 2021 18h\n",
      "QUERY:  wind speed in Zollikofen June 5, 2021 18h\n",
      "QUERY:  Moon Phase calculatorJune 5, 2021 18h\n"
     ]
    },
    {
     "name": "stderr",
     "output_type": "stream",
     "text": [
      "\r",
      " 12%|█████████                                                                  | 190/1564 [1:01:57<8:00:10, 20.97s/it]"
     ]
    },
    {
     "name": "stdout",
     "output_type": "stream",
     "text": [
      "QUERY:  Precipitation amount in Zollikofen June 5, 2021 19h\n",
      "QUERY:  temperature in Zollikofen June 5, 2021 19h\n",
      "QUERY:  humidity in Zollikofen June 5, 2021 19h\n",
      "QUERY:  wind speed in Zollikofen June 5, 2021 19h\n",
      "QUERY:  Moon Phase calculatorJune 5, 2021 19h\n",
      "(5996, 7)\n"
     ]
    },
    {
     "data": {
      "text/html": [
       "<div>\n",
       "<style scoped>\n",
       "    .dataframe tbody tr th:only-of-type {\n",
       "        vertical-align: middle;\n",
       "    }\n",
       "\n",
       "    .dataframe tbody tr th {\n",
       "        vertical-align: top;\n",
       "    }\n",
       "\n",
       "    .dataframe thead th {\n",
       "        text-align: right;\n",
       "    }\n",
       "</style>\n",
       "<table border=\"1\" class=\"dataframe\">\n",
       "  <thead>\n",
       "    <tr style=\"text-align: right;\">\n",
       "      <th></th>\n",
       "      <th>date</th>\n",
       "      <th>temperature</th>\n",
       "      <th>humidity</th>\n",
       "      <th>wind speed</th>\n",
       "      <th>Precipitation amount</th>\n",
       "      <th>query</th>\n",
       "      <th>Moon Phase calculator</th>\n",
       "    </tr>\n",
       "  </thead>\n",
       "  <tbody>\n",
       "    <tr>\n",
       "      <th>8</th>\n",
       "      <td>2021-06-05 18:00:00</td>\n",
       "      <td>17 °C\\n(6:00 pm CEST | Saturday, June 5, 2021)</td>\n",
       "      <td>average: 80% (77 to 83%)\\n(6:00 pm CEST | Satu...</td>\n",
       "      <td>2 m/s\\n(6:00 pm CEST | Saturday, June 5, 2021)</td>\n",
       "      <td>no precipitation\\n(6:00 pm CEST | Saturday, Ju...</td>\n",
       "      <td>Moon Phase calculatorJune 5, 2021 18h</td>\n",
       "      <td>| waning crescent moon\\n19.39% illuminated</td>\n",
       "    </tr>\n",
       "    <tr>\n",
       "      <th>9</th>\n",
       "      <td>2021-06-05 19:00:00</td>\n",
       "      <td>17 °C\\n(7:00 pm CEST | Saturday, June 5, 2021)</td>\n",
       "      <td>average: 91% (88 to 94%)\\n(7:00 pm CEST | Satu...</td>\n",
       "      <td>1 m/s\\n(7:00 pm CEST | Saturday, June 5, 2021)</td>\n",
       "      <td>rain\\n(7:00 pm CEST | Saturday, June 5, 2021)</td>\n",
       "      <td>Moon Phase calculatorJune 5, 2021 19h</td>\n",
       "      <td>| waning crescent moon\\n19.08% illuminated</td>\n",
       "    </tr>\n",
       "  </tbody>\n",
       "</table>\n",
       "</div>"
      ],
      "text/plain": [
       "                 date                                     temperature  \\\n",
       "8 2021-06-05 18:00:00  17 °C\\n(6:00 pm CEST | Saturday, June 5, 2021)   \n",
       "9 2021-06-05 19:00:00  17 °C\\n(7:00 pm CEST | Saturday, June 5, 2021)   \n",
       "\n",
       "                                            humidity  \\\n",
       "8  average: 80% (77 to 83%)\\n(6:00 pm CEST | Satu...   \n",
       "9  average: 91% (88 to 94%)\\n(7:00 pm CEST | Satu...   \n",
       "\n",
       "                                       wind speed  \\\n",
       "8  2 m/s\\n(6:00 pm CEST | Saturday, June 5, 2021)   \n",
       "9  1 m/s\\n(7:00 pm CEST | Saturday, June 5, 2021)   \n",
       "\n",
       "                                Precipitation amount  \\\n",
       "8  no precipitation\\n(6:00 pm CEST | Saturday, Ju...   \n",
       "9      rain\\n(7:00 pm CEST | Saturday, June 5, 2021)   \n",
       "\n",
       "                                   query  \\\n",
       "8  Moon Phase calculatorJune 5, 2021 18h   \n",
       "9  Moon Phase calculatorJune 5, 2021 19h   \n",
       "\n",
       "                        Moon Phase calculator  \n",
       "8  | waning crescent moon\\n19.39% illuminated  \n",
       "9  | waning crescent moon\\n19.08% illuminated  "
      ]
     },
     "metadata": {},
     "output_type": "display_data"
    },
    {
     "name": "stderr",
     "output_type": "stream",
     "text": [
      "\r",
      " 12%|█████████▏                                                                 | 191/1564 [1:02:18<7:59:20, 20.95s/it]"
     ]
    },
    {
     "name": "stdout",
     "output_type": "stream",
     "text": [
      "QUERY:  Precipitation amount in Zollikofen June 5, 2021 20h\n",
      "QUERY:  temperature in Zollikofen June 5, 2021 20h\n",
      "QUERY:  humidity in Zollikofen June 5, 2021 20h\n",
      "QUERY:  wind speed in Zollikofen June 5, 2021 20h\n",
      "QUERY:  Moon Phase calculatorJune 5, 2021 20h\n"
     ]
    },
    {
     "name": "stderr",
     "output_type": "stream",
     "text": [
      "\r",
      " 12%|█████████▏                                                                 | 192/1564 [1:02:40<8:05:06, 21.21s/it]"
     ]
    },
    {
     "name": "stdout",
     "output_type": "stream",
     "text": [
      "QUERY:  Precipitation amount in Zollikofen June 5, 2021 21h\n",
      "QUERY:  temperature in Zollikofen June 5, 2021 21h\n",
      "QUERY:  humidity in Zollikofen June 5, 2021 21h\n",
      "QUERY:  wind speed in Zollikofen June 5, 2021 21h\n",
      "QUERY:  Moon Phase calculatorJune 5, 2021 21h\n"
     ]
    },
    {
     "name": "stderr",
     "output_type": "stream",
     "text": [
      "\r",
      " 12%|█████████▎                                                                 | 193/1564 [1:03:02<8:11:17, 21.50s/it]"
     ]
    },
    {
     "name": "stdout",
     "output_type": "stream",
     "text": [
      "QUERY:  Precipitation amount in Zollikofen June 5, 2021 22h\n",
      "QUERY:  temperature in Zollikofen June 5, 2021 22h\n",
      "QUERY:  humidity in Zollikofen June 5, 2021 22h\n",
      "QUERY:  wind speed in Zollikofen June 5, 2021 22h\n",
      "QUERY:  Moon Phase calculatorJune 5, 2021 22h\n"
     ]
    },
    {
     "name": "stderr",
     "output_type": "stream",
     "text": [
      "\r",
      " 12%|█████████▎                                                                 | 194/1564 [1:03:23<8:07:19, 21.34s/it]"
     ]
    },
    {
     "name": "stdout",
     "output_type": "stream",
     "text": [
      "QUERY:  Precipitation amount in Zollikofen June 5, 2021 23h\n",
      "QUERY:  temperature in Zollikofen June 5, 2021 23h\n",
      "QUERY:  humidity in Zollikofen June 5, 2021 23h\n",
      "QUERY:  wind speed in Zollikofen June 5, 2021 23h\n",
      "QUERY:  Moon Phase calculatorJune 5, 2021 23h\n"
     ]
    },
    {
     "name": "stderr",
     "output_type": "stream",
     "text": [
      "\r",
      " 12%|█████████▎                                                                 | 195/1564 [1:03:44<8:03:58, 21.21s/it]"
     ]
    },
    {
     "name": "stdout",
     "output_type": "stream",
     "text": [
      "QUERY:  Precipitation amount in Zollikofen June 6, 2021 0h\n",
      "QUERY:  temperature in Zollikofen June 6, 2021 0h\n",
      "QUERY:  humidity in Zollikofen June 6, 2021 0h\n",
      "QUERY:  wind speed in Zollikofen June 6, 2021 0h\n",
      "QUERY:  Moon Phase calculatorJune 6, 2021 0h\n"
     ]
    },
    {
     "name": "stderr",
     "output_type": "stream",
     "text": [
      "\r",
      " 13%|█████████▍                                                                 | 196/1564 [1:04:04<7:58:21, 20.98s/it]"
     ]
    },
    {
     "name": "stdout",
     "output_type": "stream",
     "text": [
      "QUERY:  Precipitation amount in Zollikofen June 6, 2021 1h\n",
      "QUERY:  temperature in Zollikofen June 6, 2021 1h\n",
      "QUERY:  humidity in Zollikofen June 6, 2021 1h\n",
      "QUERY:  wind speed in Zollikofen June 6, 2021 1h\n",
      "QUERY:  Moon Phase calculatorJune 6, 2021 1h\n"
     ]
    },
    {
     "name": "stderr",
     "output_type": "stream",
     "text": [
      "\r",
      " 13%|█████████▍                                                                 | 197/1564 [1:04:26<8:03:58, 21.24s/it]"
     ]
    },
    {
     "name": "stdout",
     "output_type": "stream",
     "text": [
      "QUERY:  Precipitation amount in Zollikofen June 6, 2021 2h\n",
      "QUERY:  temperature in Zollikofen June 6, 2021 2h\n",
      "QUERY:  humidity in Zollikofen June 6, 2021 2h\n",
      "QUERY:  wind speed in Zollikofen June 6, 2021 2h\n",
      "QUERY:  Moon Phase calculatorJune 6, 2021 2h\n"
     ]
    },
    {
     "name": "stderr",
     "output_type": "stream",
     "text": [
      "\r",
      " 13%|█████████▍                                                                 | 198/1564 [1:04:47<8:00:33, 21.11s/it]"
     ]
    },
    {
     "name": "stdout",
     "output_type": "stream",
     "text": [
      "QUERY:  Precipitation amount in Zollikofen June 6, 2021 3h\n",
      "QUERY:  temperature in Zollikofen June 6, 2021 3h\n",
      "QUERY:  humidity in Zollikofen June 6, 2021 3h\n",
      "QUERY:  wind speed in Zollikofen June 6, 2021 3h\n",
      "QUERY:  Moon Phase calculatorJune 6, 2021 3h\n"
     ]
    },
    {
     "name": "stderr",
     "output_type": "stream",
     "text": [
      "\r",
      " 13%|█████████▌                                                                 | 199/1564 [1:05:10<8:16:57, 21.84s/it]"
     ]
    },
    {
     "name": "stdout",
     "output_type": "stream",
     "text": [
      "QUERY:  Precipitation amount in Zollikofen June 6, 2021 4h\n",
      "QUERY:  temperature in Zollikofen June 6, 2021 4h\n",
      "QUERY:  humidity in Zollikofen June 6, 2021 4h\n",
      "QUERY:  wind speed in Zollikofen June 6, 2021 4h\n",
      "QUERY:  Moon Phase calculatorJune 6, 2021 4h\n"
     ]
    },
    {
     "name": "stderr",
     "output_type": "stream",
     "text": [
      "\r",
      " 13%|█████████▌                                                                 | 200/1564 [1:05:31<8:07:12, 21.43s/it]"
     ]
    },
    {
     "name": "stdout",
     "output_type": "stream",
     "text": [
      "QUERY:  Precipitation amount in Zollikofen June 6, 2021 5h\n",
      "QUERY:  temperature in Zollikofen June 6, 2021 5h\n",
      "QUERY:  humidity in Zollikofen June 6, 2021 5h\n",
      "QUERY:  wind speed in Zollikofen June 6, 2021 5h\n",
      "QUERY:  Moon Phase calculatorJune 6, 2021 5h\n",
      "(6006, 7)\n"
     ]
    },
    {
     "data": {
      "text/html": [
       "<div>\n",
       "<style scoped>\n",
       "    .dataframe tbody tr th:only-of-type {\n",
       "        vertical-align: middle;\n",
       "    }\n",
       "\n",
       "    .dataframe tbody tr th {\n",
       "        vertical-align: top;\n",
       "    }\n",
       "\n",
       "    .dataframe thead th {\n",
       "        text-align: right;\n",
       "    }\n",
       "</style>\n",
       "<table border=\"1\" class=\"dataframe\">\n",
       "  <thead>\n",
       "    <tr style=\"text-align: right;\">\n",
       "      <th></th>\n",
       "      <th>date</th>\n",
       "      <th>temperature</th>\n",
       "      <th>humidity</th>\n",
       "      <th>wind speed</th>\n",
       "      <th>Precipitation amount</th>\n",
       "      <th>query</th>\n",
       "      <th>Moon Phase calculator</th>\n",
       "    </tr>\n",
       "  </thead>\n",
       "  <tbody>\n",
       "    <tr>\n",
       "      <th>8</th>\n",
       "      <td>2021-06-06 04:00:00</td>\n",
       "      <td>13 °C\\n(4:00 am CEST | Sunday, June 6, 2021)</td>\n",
       "      <td>average: 100% (100%)\\n(4:00 am CEST | Sunday, ...</td>\n",
       "      <td>1 m/s\\n(4:00 am CEST | Sunday, June 6, 2021)</td>\n",
       "      <td>no precipitation\\n(4:00 am CEST | Sunday, June...</td>\n",
       "      <td>Moon Phase calculatorJune 6, 2021 4h</td>\n",
       "      <td>| waning crescent moon\\n16.34% illuminated</td>\n",
       "    </tr>\n",
       "    <tr>\n",
       "      <th>9</th>\n",
       "      <td>2021-06-06 05:00:00</td>\n",
       "      <td>13 °C\\n(5:00 am CEST | Sunday, June 6, 2021)</td>\n",
       "      <td>average: 100% (100%)\\n(5:00 am CEST | Sunday, ...</td>\n",
       "      <td>1 m/s\\n(5:00 am CEST | Sunday, June 6, 2021)</td>\n",
       "      <td>no precipitation\\n(5:00 am CEST | Sunday, June...</td>\n",
       "      <td>Moon Phase calculatorJune 6, 2021 5h</td>\n",
       "      <td>| waning crescent moon\\n16.05% illuminated</td>\n",
       "    </tr>\n",
       "  </tbody>\n",
       "</table>\n",
       "</div>"
      ],
      "text/plain": [
       "                 date                                   temperature  \\\n",
       "8 2021-06-06 04:00:00  13 °C\\n(4:00 am CEST | Sunday, June 6, 2021)   \n",
       "9 2021-06-06 05:00:00  13 °C\\n(5:00 am CEST | Sunday, June 6, 2021)   \n",
       "\n",
       "                                            humidity  \\\n",
       "8  average: 100% (100%)\\n(4:00 am CEST | Sunday, ...   \n",
       "9  average: 100% (100%)\\n(5:00 am CEST | Sunday, ...   \n",
       "\n",
       "                                     wind speed  \\\n",
       "8  1 m/s\\n(4:00 am CEST | Sunday, June 6, 2021)   \n",
       "9  1 m/s\\n(5:00 am CEST | Sunday, June 6, 2021)   \n",
       "\n",
       "                                Precipitation amount  \\\n",
       "8  no precipitation\\n(4:00 am CEST | Sunday, June...   \n",
       "9  no precipitation\\n(5:00 am CEST | Sunday, June...   \n",
       "\n",
       "                                  query  \\\n",
       "8  Moon Phase calculatorJune 6, 2021 4h   \n",
       "9  Moon Phase calculatorJune 6, 2021 5h   \n",
       "\n",
       "                        Moon Phase calculator  \n",
       "8  | waning crescent moon\\n16.34% illuminated  \n",
       "9  | waning crescent moon\\n16.05% illuminated  "
      ]
     },
     "metadata": {},
     "output_type": "display_data"
    },
    {
     "name": "stderr",
     "output_type": "stream",
     "text": [
      "\r",
      " 13%|█████████▋                                                                 | 201/1564 [1:05:50<7:51:44, 20.77s/it]"
     ]
    },
    {
     "name": "stdout",
     "output_type": "stream",
     "text": [
      "QUERY:  Precipitation amount in Zollikofen June 6, 2021 6h\n",
      "QUERY:  temperature in Zollikofen June 6, 2021 6h\n",
      "QUERY:  humidity in Zollikofen June 6, 2021 6h\n",
      "QUERY:  wind speed in Zollikofen June 6, 2021 6h\n",
      "QUERY:  Moon Phase calculatorJune 6, 2021 6h\n"
     ]
    },
    {
     "name": "stderr",
     "output_type": "stream",
     "text": [
      "\r",
      " 13%|█████████▋                                                                 | 202/1564 [1:06:07<7:24:05, 19.56s/it]"
     ]
    },
    {
     "name": "stdout",
     "output_type": "stream",
     "text": [
      "QUERY:  Precipitation amount in Zollikofen June 6, 2021 7h\n",
      "QUERY:  temperature in Zollikofen June 6, 2021 7h\n",
      "QUERY:  humidity in Zollikofen June 6, 2021 7h\n",
      "QUERY:  wind speed in Zollikofen June 6, 2021 7h\n",
      "QUERY:  Moon Phase calculatorJune 6, 2021 7h\n"
     ]
    },
    {
     "name": "stderr",
     "output_type": "stream",
     "text": [
      "\r",
      " 13%|█████████▋                                                                 | 203/1564 [1:06:24<7:07:51, 18.86s/it]"
     ]
    },
    {
     "name": "stdout",
     "output_type": "stream",
     "text": [
      "QUERY:  Precipitation amount in Zollikofen June 6, 2021 8h\n",
      "QUERY:  temperature in Zollikofen June 6, 2021 8h\n",
      "QUERY:  humidity in Zollikofen June 6, 2021 8h\n",
      "QUERY:  wind speed in Zollikofen June 6, 2021 8h\n",
      "QUERY:  Moon Phase calculatorJune 6, 2021 8h\n"
     ]
    },
    {
     "name": "stderr",
     "output_type": "stream",
     "text": [
      "\r",
      " 13%|█████████▊                                                                 | 204/1564 [1:06:41<6:55:37, 18.34s/it]"
     ]
    },
    {
     "name": "stdout",
     "output_type": "stream",
     "text": [
      "QUERY:  Precipitation amount in Zollikofen June 6, 2021 9h\n",
      "QUERY:  temperature in Zollikofen June 6, 2021 9h\n",
      "QUERY:  humidity in Zollikofen June 6, 2021 9h\n",
      "QUERY:  wind speed in Zollikofen June 6, 2021 9h\n",
      "QUERY:  Moon Phase calculatorJune 6, 2021 9h\n"
     ]
    },
    {
     "name": "stderr",
     "output_type": "stream",
     "text": [
      "\r",
      " 13%|█████████▊                                                                 | 205/1564 [1:06:58<6:44:29, 17.86s/it]"
     ]
    },
    {
     "name": "stdout",
     "output_type": "stream",
     "text": [
      "QUERY:  Precipitation amount in Zollikofen June 6, 2021 10h\n",
      "QUERY:  temperature in Zollikofen June 6, 2021 10h\n",
      "QUERY:  humidity in Zollikofen June 6, 2021 10h\n",
      "QUERY:  wind speed in Zollikofen June 6, 2021 10h\n",
      "QUERY:  Moon Phase calculatorJune 6, 2021 10h\n"
     ]
    },
    {
     "name": "stderr",
     "output_type": "stream",
     "text": [
      "\r",
      " 13%|█████████▉                                                                 | 206/1564 [1:07:15<6:37:33, 17.57s/it]"
     ]
    },
    {
     "name": "stdout",
     "output_type": "stream",
     "text": [
      "QUERY:  Precipitation amount in Zollikofen June 6, 2021 11h\n",
      "QUERY:  temperature in Zollikofen June 6, 2021 11h\n",
      "QUERY:  humidity in Zollikofen June 6, 2021 11h\n",
      "QUERY:  wind speed in Zollikofen June 6, 2021 11h\n",
      "QUERY:  Moon Phase calculatorJune 6, 2021 11h\n"
     ]
    },
    {
     "name": "stderr",
     "output_type": "stream",
     "text": [
      "\r",
      " 13%|█████████▉                                                                 | 207/1564 [1:07:31<6:31:17, 17.30s/it]"
     ]
    },
    {
     "name": "stdout",
     "output_type": "stream",
     "text": [
      "QUERY:  Precipitation amount in Zollikofen June 6, 2021 12h\n",
      "QUERY:  temperature in Zollikofen June 6, 2021 12h\n",
      "QUERY:  humidity in Zollikofen June 6, 2021 12h\n",
      "QUERY:  wind speed in Zollikofen June 6, 2021 12h\n",
      "QUERY:  Moon Phase calculatorJune 6, 2021 12h\n"
     ]
    },
    {
     "name": "stderr",
     "output_type": "stream",
     "text": [
      "\r",
      " 13%|█████████▉                                                                 | 208/1564 [1:07:48<6:25:43, 17.07s/it]"
     ]
    },
    {
     "name": "stdout",
     "output_type": "stream",
     "text": [
      "QUERY:  Precipitation amount in Zollikofen June 6, 2021 13h\n",
      "QUERY:  temperature in Zollikofen June 6, 2021 13h\n",
      "QUERY:  humidity in Zollikofen June 6, 2021 13h\n",
      "QUERY:  wind speed in Zollikofen June 6, 2021 13h\n",
      "QUERY:  Moon Phase calculatorJune 6, 2021 13h\n"
     ]
    },
    {
     "name": "stderr",
     "output_type": "stream",
     "text": [
      "\r",
      " 13%|██████████                                                                 | 209/1564 [1:08:05<6:27:27, 17.16s/it]"
     ]
    },
    {
     "name": "stdout",
     "output_type": "stream",
     "text": [
      "QUERY:  Precipitation amount in Zollikofen June 6, 2021 14h\n",
      "QUERY:  temperature in Zollikofen June 6, 2021 14h\n",
      "QUERY:  humidity in Zollikofen June 6, 2021 14h\n",
      "QUERY:  wind speed in Zollikofen June 6, 2021 14h\n",
      "QUERY:  Moon Phase calculatorJune 6, 2021 14h\n"
     ]
    },
    {
     "name": "stderr",
     "output_type": "stream",
     "text": [
      "\r",
      " 13%|██████████                                                                 | 210/1564 [1:08:23<6:30:38, 17.31s/it]"
     ]
    },
    {
     "name": "stdout",
     "output_type": "stream",
     "text": [
      "QUERY:  Precipitation amount in Zollikofen June 6, 2021 15h\n",
      "QUERY:  temperature in Zollikofen June 6, 2021 15h\n",
      "QUERY:  humidity in Zollikofen June 6, 2021 15h\n",
      "QUERY:  wind speed in Zollikofen June 6, 2021 15h\n",
      "QUERY:  Moon Phase calculatorJune 6, 2021 15h\n",
      "(6016, 7)\n"
     ]
    },
    {
     "data": {
      "text/html": [
       "<div>\n",
       "<style scoped>\n",
       "    .dataframe tbody tr th:only-of-type {\n",
       "        vertical-align: middle;\n",
       "    }\n",
       "\n",
       "    .dataframe tbody tr th {\n",
       "        vertical-align: top;\n",
       "    }\n",
       "\n",
       "    .dataframe thead th {\n",
       "        text-align: right;\n",
       "    }\n",
       "</style>\n",
       "<table border=\"1\" class=\"dataframe\">\n",
       "  <thead>\n",
       "    <tr style=\"text-align: right;\">\n",
       "      <th></th>\n",
       "      <th>date</th>\n",
       "      <th>temperature</th>\n",
       "      <th>humidity</th>\n",
       "      <th>wind speed</th>\n",
       "      <th>Precipitation amount</th>\n",
       "      <th>query</th>\n",
       "      <th>Moon Phase calculator</th>\n",
       "    </tr>\n",
       "  </thead>\n",
       "  <tbody>\n",
       "    <tr>\n",
       "      <th>8</th>\n",
       "      <td>2021-06-06 14:00:00</td>\n",
       "      <td>20 °C\\n(2:00 pm CEST | Sunday, June 6, 2021)</td>\n",
       "      <td>average: 62% (60 to 64%)\\n(2:00 pm CEST | Sund...</td>\n",
       "      <td>2 m/s\\n(2:00 pm CEST | Sunday, June 6, 2021)</td>\n",
       "      <td>no precipitation\\n(2:00 pm CEST | Sunday, June...</td>\n",
       "      <td>Moon Phase calculatorJune 6, 2021 14h</td>\n",
       "      <td>| waning crescent moon\\n13.51% illuminated</td>\n",
       "    </tr>\n",
       "    <tr>\n",
       "      <th>9</th>\n",
       "      <td>2021-06-06 15:00:00</td>\n",
       "      <td>20 °C\\n(3:00 pm CEST | Sunday, June 6, 2021)</td>\n",
       "      <td>average: 62% (60 to 64%)\\n(3:00 pm CEST | Sund...</td>\n",
       "      <td>4 m/s\\n(3:00 pm CEST | Sunday, June 6, 2021)</td>\n",
       "      <td>no precipitation\\n(3:00 pm CEST | Sunday, June...</td>\n",
       "      <td>Moon Phase calculatorJune 6, 2021 15h</td>\n",
       "      <td>| waning crescent moon\\n13.24% illuminated</td>\n",
       "    </tr>\n",
       "  </tbody>\n",
       "</table>\n",
       "</div>"
      ],
      "text/plain": [
       "                 date                                   temperature  \\\n",
       "8 2021-06-06 14:00:00  20 °C\\n(2:00 pm CEST | Sunday, June 6, 2021)   \n",
       "9 2021-06-06 15:00:00  20 °C\\n(3:00 pm CEST | Sunday, June 6, 2021)   \n",
       "\n",
       "                                            humidity  \\\n",
       "8  average: 62% (60 to 64%)\\n(2:00 pm CEST | Sund...   \n",
       "9  average: 62% (60 to 64%)\\n(3:00 pm CEST | Sund...   \n",
       "\n",
       "                                     wind speed  \\\n",
       "8  2 m/s\\n(2:00 pm CEST | Sunday, June 6, 2021)   \n",
       "9  4 m/s\\n(3:00 pm CEST | Sunday, June 6, 2021)   \n",
       "\n",
       "                                Precipitation amount  \\\n",
       "8  no precipitation\\n(2:00 pm CEST | Sunday, June...   \n",
       "9  no precipitation\\n(3:00 pm CEST | Sunday, June...   \n",
       "\n",
       "                                   query  \\\n",
       "8  Moon Phase calculatorJune 6, 2021 14h   \n",
       "9  Moon Phase calculatorJune 6, 2021 15h   \n",
       "\n",
       "                        Moon Phase calculator  \n",
       "8  | waning crescent moon\\n13.51% illuminated  \n",
       "9  | waning crescent moon\\n13.24% illuminated  "
      ]
     },
     "metadata": {},
     "output_type": "display_data"
    },
    {
     "name": "stderr",
     "output_type": "stream",
     "text": [
      "\r",
      " 13%|██████████                                                                 | 211/1564 [1:08:39<6:22:42, 16.97s/it]"
     ]
    },
    {
     "name": "stdout",
     "output_type": "stream",
     "text": [
      "QUERY:  Precipitation amount in Zollikofen June 6, 2021 16h\n",
      "QUERY:  temperature in Zollikofen June 6, 2021 16h\n",
      "QUERY:  humidity in Zollikofen June 6, 2021 16h\n",
      "QUERY:  wind speed in Zollikofen June 6, 2021 16h\n",
      "QUERY:  Moon Phase calculatorJune 6, 2021 16h\n"
     ]
    },
    {
     "name": "stderr",
     "output_type": "stream",
     "text": [
      "\r",
      " 14%|██████████▏                                                                | 212/1564 [1:08:56<6:18:52, 16.81s/it]"
     ]
    },
    {
     "name": "stdout",
     "output_type": "stream",
     "text": [
      "QUERY:  Precipitation amount in Zollikofen June 6, 2021 17h\n",
      "QUERY:  temperature in Zollikofen June 6, 2021 17h\n",
      "QUERY:  humidity in Zollikofen June 6, 2021 17h\n",
      "QUERY:  wind speed in Zollikofen June 6, 2021 17h\n",
      "QUERY:  Moon Phase calculatorJune 6, 2021 17h\n"
     ]
    },
    {
     "name": "stderr",
     "output_type": "stream",
     "text": [
      "\r",
      " 14%|██████████▏                                                                | 213/1564 [1:09:14<6:29:50, 17.31s/it]"
     ]
    },
    {
     "name": "stdout",
     "output_type": "stream",
     "text": [
      "QUERY:  Precipitation amount in Zollikofen June 6, 2021 18h\n",
      "QUERY:  temperature in Zollikofen June 6, 2021 18h\n",
      "QUERY:  humidity in Zollikofen June 6, 2021 18h\n",
      "QUERY:  wind speed in Zollikofen June 6, 2021 18h\n",
      "QUERY:  Moon Phase calculatorJune 6, 2021 18h\n"
     ]
    },
    {
     "name": "stderr",
     "output_type": "stream",
     "text": [
      "\r",
      " 14%|██████████▎                                                                | 214/1564 [1:09:32<6:30:33, 17.36s/it]"
     ]
    },
    {
     "name": "stdout",
     "output_type": "stream",
     "text": [
      "QUERY:  Precipitation amount in Zollikofen June 6, 2021 19h\n",
      "QUERY:  temperature in Zollikofen June 6, 2021 19h\n",
      "QUERY:  humidity in Zollikofen June 6, 2021 19h\n",
      "QUERY:  wind speed in Zollikofen June 6, 2021 19h\n",
      "QUERY:  Moon Phase calculatorJune 6, 2021 19h\n"
     ]
    },
    {
     "name": "stderr",
     "output_type": "stream",
     "text": [
      "\r",
      " 14%|██████████▎                                                                | 215/1564 [1:09:48<6:26:03, 17.17s/it]"
     ]
    },
    {
     "name": "stdout",
     "output_type": "stream",
     "text": [
      "QUERY:  Precipitation amount in Zollikofen June 6, 2021 20h\n",
      "QUERY:  temperature in Zollikofen June 6, 2021 20h\n",
      "QUERY:  humidity in Zollikofen June 6, 2021 20h\n",
      "QUERY:  wind speed in Zollikofen June 6, 2021 20h\n",
      "QUERY:  Moon Phase calculatorJune 6, 2021 20h\n"
     ]
    },
    {
     "name": "stderr",
     "output_type": "stream",
     "text": [
      "\r",
      " 14%|██████████▎                                                                | 216/1564 [1:10:08<6:41:30, 17.87s/it]"
     ]
    },
    {
     "name": "stdout",
     "output_type": "stream",
     "text": [
      "QUERY:  Precipitation amount in Zollikofen June 6, 2021 21h\n",
      "QUERY:  temperature in Zollikofen June 6, 2021 21h\n",
      "QUERY:  humidity in Zollikofen June 6, 2021 21h\n",
      "QUERY:  wind speed in Zollikofen June 6, 2021 21h\n",
      "QUERY:  Moon Phase calculatorJune 6, 2021 21h\n"
     ]
    },
    {
     "name": "stderr",
     "output_type": "stream",
     "text": [
      "\r",
      " 14%|██████████▍                                                                | 217/1564 [1:10:26<6:41:52, 17.90s/it]"
     ]
    },
    {
     "name": "stdout",
     "output_type": "stream",
     "text": [
      "QUERY:  Precipitation amount in Zollikofen June 6, 2021 22h\n",
      "QUERY:  temperature in Zollikofen June 6, 2021 22h\n",
      "QUERY:  humidity in Zollikofen June 6, 2021 22h\n",
      "QUERY:  wind speed in Zollikofen June 6, 2021 22h\n",
      "QUERY:  Moon Phase calculatorJune 6, 2021 22h\n"
     ]
    },
    {
     "name": "stderr",
     "output_type": "stream",
     "text": [
      "\r",
      " 14%|██████████▍                                                                | 218/1564 [1:10:46<6:57:20, 18.60s/it]"
     ]
    },
    {
     "name": "stdout",
     "output_type": "stream",
     "text": [
      "QUERY:  Precipitation amount in Zollikofen June 6, 2021 23h\n",
      "QUERY:  temperature in Zollikofen June 6, 2021 23h\n",
      "QUERY:  humidity in Zollikofen June 6, 2021 23h\n",
      "QUERY:  wind speed in Zollikofen June 6, 2021 23h\n",
      "QUERY:  Moon Phase calculatorJune 6, 2021 23h\n"
     ]
    },
    {
     "name": "stderr",
     "output_type": "stream",
     "text": [
      "\r",
      " 14%|██████████▌                                                                | 219/1564 [1:11:04<6:53:20, 18.44s/it]"
     ]
    },
    {
     "name": "stdout",
     "output_type": "stream",
     "text": [
      "QUERY:  Precipitation amount in Zollikofen June 7, 2021 0h\n",
      "QUERY:  temperature in Zollikofen June 7, 2021 0h\n",
      "QUERY:  humidity in Zollikofen June 7, 2021 0h\n",
      "QUERY:  wind speed in Zollikofen June 7, 2021 0h\n",
      "QUERY:  Moon Phase calculatorJune 7, 2021 0h\n"
     ]
    },
    {
     "name": "stderr",
     "output_type": "stream",
     "text": [
      "\r",
      " 14%|██████████▌                                                                | 220/1564 [1:11:20<6:39:39, 17.84s/it]"
     ]
    },
    {
     "name": "stdout",
     "output_type": "stream",
     "text": [
      "QUERY:  Precipitation amount in Zollikofen June 7, 2021 1h\n",
      "QUERY:  temperature in Zollikofen June 7, 2021 1h\n",
      "QUERY:  humidity in Zollikofen June 7, 2021 1h\n",
      "QUERY:  wind speed in Zollikofen June 7, 2021 1h\n",
      "QUERY:  Moon Phase calculatorJune 7, 2021 1h\n",
      "(6026, 7)\n"
     ]
    },
    {
     "data": {
      "text/html": [
       "<div>\n",
       "<style scoped>\n",
       "    .dataframe tbody tr th:only-of-type {\n",
       "        vertical-align: middle;\n",
       "    }\n",
       "\n",
       "    .dataframe tbody tr th {\n",
       "        vertical-align: top;\n",
       "    }\n",
       "\n",
       "    .dataframe thead th {\n",
       "        text-align: right;\n",
       "    }\n",
       "</style>\n",
       "<table border=\"1\" class=\"dataframe\">\n",
       "  <thead>\n",
       "    <tr style=\"text-align: right;\">\n",
       "      <th></th>\n",
       "      <th>date</th>\n",
       "      <th>temperature</th>\n",
       "      <th>humidity</th>\n",
       "      <th>wind speed</th>\n",
       "      <th>Precipitation amount</th>\n",
       "      <th>query</th>\n",
       "      <th>Moon Phase calculator</th>\n",
       "    </tr>\n",
       "  </thead>\n",
       "  <tbody>\n",
       "    <tr>\n",
       "      <th>8</th>\n",
       "      <td>2021-06-07 00:00:00</td>\n",
       "      <td>16 °C\\n(12:00 am CEST | Monday, June 7, 2021)</td>\n",
       "      <td>average: 88% (88%)\\n(12:00 am CEST | Monday, J...</td>\n",
       "      <td>1 m/s\\n(12:00 am CEST | Monday, June 7, 2021)</td>\n",
       "      <td>rain\\n(12:00 am CEST | Monday, June 7, 2021)</td>\n",
       "      <td>Moon Phase calculatorJune 7, 2021 0h</td>\n",
       "      <td>| waning crescent moon\\n10.92% illuminated</td>\n",
       "    </tr>\n",
       "    <tr>\n",
       "      <th>9</th>\n",
       "      <td>2021-06-07 01:00:00</td>\n",
       "      <td>15 °C\\n(1:00 am CEST | Monday, June 7, 2021)</td>\n",
       "      <td>average: 100% (100%)\\n(1:00 am CEST | Monday, ...</td>\n",
       "      <td>1 m/s\\n(1:00 am CEST | Monday, June 7, 2021)</td>\n",
       "      <td>rain\\n(1:00 am CEST | Monday, June 7, 2021)</td>\n",
       "      <td>Moon Phase calculatorJune 7, 2021 1h</td>\n",
       "      <td>| waning crescent moon\\n10.67% illuminated</td>\n",
       "    </tr>\n",
       "  </tbody>\n",
       "</table>\n",
       "</div>"
      ],
      "text/plain": [
       "                 date                                    temperature  \\\n",
       "8 2021-06-07 00:00:00  16 °C\\n(12:00 am CEST | Monday, June 7, 2021)   \n",
       "9 2021-06-07 01:00:00   15 °C\\n(1:00 am CEST | Monday, June 7, 2021)   \n",
       "\n",
       "                                            humidity  \\\n",
       "8  average: 88% (88%)\\n(12:00 am CEST | Monday, J...   \n",
       "9  average: 100% (100%)\\n(1:00 am CEST | Monday, ...   \n",
       "\n",
       "                                      wind speed  \\\n",
       "8  1 m/s\\n(12:00 am CEST | Monday, June 7, 2021)   \n",
       "9   1 m/s\\n(1:00 am CEST | Monday, June 7, 2021)   \n",
       "\n",
       "                           Precipitation amount  \\\n",
       "8  rain\\n(12:00 am CEST | Monday, June 7, 2021)   \n",
       "9   rain\\n(1:00 am CEST | Monday, June 7, 2021)   \n",
       "\n",
       "                                  query  \\\n",
       "8  Moon Phase calculatorJune 7, 2021 0h   \n",
       "9  Moon Phase calculatorJune 7, 2021 1h   \n",
       "\n",
       "                        Moon Phase calculator  \n",
       "8  | waning crescent moon\\n10.92% illuminated  \n",
       "9  | waning crescent moon\\n10.67% illuminated  "
      ]
     },
     "metadata": {},
     "output_type": "display_data"
    },
    {
     "name": "stderr",
     "output_type": "stream",
     "text": [
      "\r",
      " 14%|██████████▌                                                                | 221/1564 [1:11:37<6:31:15, 17.48s/it]"
     ]
    },
    {
     "name": "stdout",
     "output_type": "stream",
     "text": [
      "QUERY:  Precipitation amount in Zollikofen June 7, 2021 2h\n",
      "QUERY:  temperature in Zollikofen June 7, 2021 2h\n",
      "QUERY:  humidity in Zollikofen June 7, 2021 2h\n",
      "QUERY:  wind speed in Zollikofen June 7, 2021 2h\n",
      "QUERY:  Moon Phase calculatorJune 7, 2021 2h\n"
     ]
    },
    {
     "name": "stderr",
     "output_type": "stream",
     "text": [
      "\r",
      " 14%|██████████▋                                                                | 222/1564 [1:11:55<6:30:53, 17.48s/it]"
     ]
    },
    {
     "name": "stdout",
     "output_type": "stream",
     "text": [
      "QUERY:  Precipitation amount in Zollikofen June 7, 2021 3h\n",
      "QUERY:  temperature in Zollikofen June 7, 2021 3h\n",
      "QUERY:  humidity in Zollikofen June 7, 2021 3h\n",
      "QUERY:  wind speed in Zollikofen June 7, 2021 3h\n",
      "QUERY:  Moon Phase calculatorJune 7, 2021 3h\n"
     ]
    },
    {
     "name": "stderr",
     "output_type": "stream",
     "text": [
      "\r",
      " 14%|██████████▋                                                                | 223/1564 [1:12:14<6:45:07, 18.13s/it]"
     ]
    },
    {
     "name": "stdout",
     "output_type": "stream",
     "text": [
      "QUERY:  Precipitation amount in Zollikofen June 7, 2021 4h\n",
      "QUERY:  temperature in Zollikofen June 7, 2021 4h\n",
      "QUERY:  humidity in Zollikofen June 7, 2021 4h\n",
      "QUERY:  wind speed in Zollikofen June 7, 2021 4h\n",
      "QUERY:  Moon Phase calculatorJune 7, 2021 4h\n"
     ]
    },
    {
     "name": "stderr",
     "output_type": "stream",
     "text": [
      "\r",
      " 14%|██████████▋                                                                | 224/1564 [1:12:31<6:36:28, 17.75s/it]"
     ]
    },
    {
     "name": "stdout",
     "output_type": "stream",
     "text": [
      "QUERY:  Precipitation amount in Zollikofen June 7, 2021 5h\n",
      "QUERY:  temperature in Zollikofen June 7, 2021 5h\n",
      "QUERY:  humidity in Zollikofen June 7, 2021 5h\n",
      "QUERY:  wind speed in Zollikofen June 7, 2021 5h\n",
      "QUERY:  Moon Phase calculatorJune 7, 2021 5h\n"
     ]
    },
    {
     "name": "stderr",
     "output_type": "stream",
     "text": [
      "\r",
      " 14%|██████████▊                                                                | 225/1564 [1:12:47<6:25:12, 17.26s/it]"
     ]
    },
    {
     "name": "stdout",
     "output_type": "stream",
     "text": [
      "QUERY:  Precipitation amount in Zollikofen June 7, 2021 6h\n",
      "QUERY:  temperature in Zollikofen June 7, 2021 6h\n",
      "QUERY:  humidity in Zollikofen June 7, 2021 6h\n",
      "ERROR:------------- results  ----------  humidity in Zollikofen June 7, 2021 6h\n",
      "QUERY:  wind speed in Zollikofen June 7, 2021 6h\n",
      "QUERY:  Moon Phase calculatorJune 7, 2021 6h\n"
     ]
    },
    {
     "name": "stderr",
     "output_type": "stream",
     "text": [
      "\r",
      " 14%|██████████▊                                                                | 226/1564 [1:13:05<6:28:28, 17.42s/it]"
     ]
    },
    {
     "name": "stdout",
     "output_type": "stream",
     "text": [
      "QUERY:  Precipitation amount in Zollikofen June 7, 2021 7h\n",
      "QUERY:  temperature in Zollikofen June 7, 2021 7h\n",
      "QUERY:  humidity in Zollikofen June 7, 2021 7h\n",
      "QUERY:  wind speed in Zollikofen June 7, 2021 7h\n",
      "QUERY:  Moon Phase calculatorJune 7, 2021 7h\n"
     ]
    },
    {
     "name": "stderr",
     "output_type": "stream",
     "text": [
      "\r",
      " 15%|██████████▉                                                                | 227/1564 [1:13:21<6:19:33, 17.03s/it]"
     ]
    },
    {
     "name": "stdout",
     "output_type": "stream",
     "text": [
      "QUERY:  Precipitation amount in Zollikofen June 7, 2021 8h\n",
      "QUERY:  temperature in Zollikofen June 7, 2021 8h\n",
      "QUERY:  humidity in Zollikofen June 7, 2021 8h\n",
      "QUERY:  wind speed in Zollikofen June 7, 2021 8h\n",
      "QUERY:  Moon Phase calculatorJune 7, 2021 8h\n"
     ]
    },
    {
     "name": "stderr",
     "output_type": "stream",
     "text": [
      "\r",
      " 15%|██████████▉                                                                | 228/1564 [1:13:37<6:13:47, 16.79s/it]"
     ]
    },
    {
     "name": "stdout",
     "output_type": "stream",
     "text": [
      "QUERY:  Precipitation amount in Zollikofen June 7, 2021 9h\n",
      "QUERY:  temperature in Zollikofen June 7, 2021 9h\n",
      "QUERY:  humidity in Zollikofen June 7, 2021 9h\n",
      "QUERY:  wind speed in Zollikofen June 7, 2021 9h\n",
      "QUERY:  Moon Phase calculatorJune 7, 2021 9h\n"
     ]
    },
    {
     "name": "stderr",
     "output_type": "stream",
     "text": [
      "\r",
      " 15%|██████████▉                                                                | 229/1564 [1:13:53<6:08:49, 16.58s/it]"
     ]
    },
    {
     "name": "stdout",
     "output_type": "stream",
     "text": [
      "QUERY:  Precipitation amount in Zollikofen June 7, 2021 10h\n",
      "QUERY:  temperature in Zollikofen June 7, 2021 10h\n",
      "QUERY:  humidity in Zollikofen June 7, 2021 10h\n",
      "QUERY:  wind speed in Zollikofen June 7, 2021 10h\n",
      "QUERY:  Moon Phase calculatorJune 7, 2021 10h\n"
     ]
    },
    {
     "name": "stderr",
     "output_type": "stream",
     "text": [
      "100%|████████████████████████████████████████████████████████████████████████████| 1564/1564 [1:14:11<00:00,  2.85s/it]"
     ]
    },
    {
     "name": "stdout",
     "output_type": "stream",
     "text": [
      "(6035, 7)\n"
     ]
    },
    {
     "name": "stderr",
     "output_type": "stream",
     "text": [
      "\n"
     ]
    },
    {
     "data": {
      "text/html": [
       "<div>\n",
       "<style scoped>\n",
       "    .dataframe tbody tr th:only-of-type {\n",
       "        vertical-align: middle;\n",
       "    }\n",
       "\n",
       "    .dataframe tbody tr th {\n",
       "        vertical-align: top;\n",
       "    }\n",
       "\n",
       "    .dataframe thead th {\n",
       "        text-align: right;\n",
       "    }\n",
       "</style>\n",
       "<table border=\"1\" class=\"dataframe\">\n",
       "  <thead>\n",
       "    <tr style=\"text-align: right;\">\n",
       "      <th></th>\n",
       "      <th>date</th>\n",
       "      <th>temperature</th>\n",
       "      <th>humidity</th>\n",
       "      <th>wind speed</th>\n",
       "      <th>Precipitation amount</th>\n",
       "      <th>query</th>\n",
       "      <th>Moon Phase calculator</th>\n",
       "    </tr>\n",
       "  </thead>\n",
       "  <tbody>\n",
       "    <tr>\n",
       "      <th>7</th>\n",
       "      <td>2021-06-07 09:00:00</td>\n",
       "      <td>16 °C\\n(9:00 am CEST | Monday, June 7, 2021)</td>\n",
       "      <td>average: 91% (88 to 94%)\\n(9:00 am CEST | Mond...</td>\n",
       "      <td>1 m/s\\n(9:00 am CEST | Monday, June 7, 2021)</td>\n",
       "      <td>no precipitation\\n(9:00 am CEST | Monday, June...</td>\n",
       "      <td>Moon Phase calculatorJune 7, 2021 9h</td>\n",
       "      <td>| waning crescent moon\\n8.80% illuminated</td>\n",
       "    </tr>\n",
       "    <tr>\n",
       "      <th>8</th>\n",
       "      <td>2021-06-07 10:00:00</td>\n",
       "      <td>18 °C\\n(10:00 am CEST | Monday, June 7, 2021)</td>\n",
       "      <td>average: 77% (77%)\\n(10:00 am CEST | Monday, J...</td>\n",
       "      <td>1 m/s\\n(10:00 am CEST | Monday, June 7, 2021)</td>\n",
       "      <td>no precipitation\\n(10:00 am CEST | Monday, Jun...</td>\n",
       "      <td>Moon Phase calculatorJune 7, 2021 10h</td>\n",
       "      <td>| waning crescent moon\\n8.57% illuminated</td>\n",
       "    </tr>\n",
       "  </tbody>\n",
       "</table>\n",
       "</div>"
      ],
      "text/plain": [
       "                 date                                    temperature  \\\n",
       "7 2021-06-07 09:00:00   16 °C\\n(9:00 am CEST | Monday, June 7, 2021)   \n",
       "8 2021-06-07 10:00:00  18 °C\\n(10:00 am CEST | Monday, June 7, 2021)   \n",
       "\n",
       "                                            humidity  \\\n",
       "7  average: 91% (88 to 94%)\\n(9:00 am CEST | Mond...   \n",
       "8  average: 77% (77%)\\n(10:00 am CEST | Monday, J...   \n",
       "\n",
       "                                      wind speed  \\\n",
       "7   1 m/s\\n(9:00 am CEST | Monday, June 7, 2021)   \n",
       "8  1 m/s\\n(10:00 am CEST | Monday, June 7, 2021)   \n",
       "\n",
       "                                Precipitation amount  \\\n",
       "7  no precipitation\\n(9:00 am CEST | Monday, June...   \n",
       "8  no precipitation\\n(10:00 am CEST | Monday, Jun...   \n",
       "\n",
       "                                   query  \\\n",
       "7   Moon Phase calculatorJune 7, 2021 9h   \n",
       "8  Moon Phase calculatorJune 7, 2021 10h   \n",
       "\n",
       "                       Moon Phase calculator  \n",
       "7  | waning crescent moon\\n8.80% illuminated  \n",
       "8  | waning crescent moon\\n8.57% illuminated  "
      ]
     },
     "metadata": {},
     "output_type": "display_data"
    }
   ],
   "source": [
    "#not same as : https://weather.plus/observations-weather-station.php?dest=Bern-Zollikofen&id=066310&type=synop&day=20200713, our\n",
    "#results are less consistent :( \n",
    "#ATTENTION: monthly api calls limited to 2'000\n",
    "#if not working, save query and results: \"ERROR\", but continue the other query from the same date\n",
    "#open if exist\n",
    "li_df = []\n",
    "for i,d in enumerate(tqdm.tqdm(Daterange)):\n",
    "    now_ = dt.datetime.now()\n",
    "    #dont get the data in advance\n",
    "    if d<now_:      \n",
    "        dico = {'date':d}\n",
    "        for type_ in li_type:\n",
    "            try:                    \n",
    "                query = '%s in Zollikofen '%type_+d.strftime('%B')+' '+str(d.day)+', '+str(d.year)+' '+str(d.hour)+'h'\n",
    "                if type_=='Moon Phase calculator':\n",
    "                    query = type_+d.strftime('%B')+' '+str(d.day)+', '+str(d.year)+' '+str(d.hour)+'h'                    \n",
    "                print('QUERY: ',query)\n",
    "                dico['query'] = query\n",
    "                res = client.query(query)\n",
    "                for t in res.results:\n",
    "                    if 'no data available' in t.text:\n",
    "                        print('ERROR: no data available------------- ', query)\n",
    "                        error\n",
    "                    dico[type_] = t.text\n",
    "            except Exception as e:\n",
    "                print('ERROR:-------------', e, ' ---------- ', query)\n",
    "                dico[type_] = 'ERROR'\n",
    "        li_df.append(dico)\n",
    "        dico = {}\n",
    "        if i%10==0:\n",
    "            df_ = pd.DataFrame(li_df)\n",
    "            df = pd.concat([df,df_])\n",
    "            df.to_csv(path_weather, index=False, sep=';')\n",
    "            li_df = []\n",
    "            print(df.shape)\n",
    "            display(df.tail(2))\n",
    "df_ = pd.DataFrame(li_df)\n",
    "df = pd.concat([df,df_])\n",
    "df.to_csv(path_weather, index=False, sep=';')\n",
    "print(df.shape)\n",
    "display(df.tail(2))"
   ]
  },
  {
   "cell_type": "code",
   "execution_count": 6,
   "metadata": {},
   "outputs": [
    {
     "name": "stdout",
     "output_type": "stream",
     "text": [
      "(67, 7)\n"
     ]
    },
    {
     "data": {
      "text/html": [
       "<div>\n",
       "<style scoped>\n",
       "    .dataframe tbody tr th:only-of-type {\n",
       "        vertical-align: middle;\n",
       "    }\n",
       "\n",
       "    .dataframe tbody tr th {\n",
       "        vertical-align: top;\n",
       "    }\n",
       "\n",
       "    .dataframe thead th {\n",
       "        text-align: right;\n",
       "    }\n",
       "</style>\n",
       "<table border=\"1\" class=\"dataframe\">\n",
       "  <thead>\n",
       "    <tr style=\"text-align: right;\">\n",
       "      <th></th>\n",
       "      <th>date</th>\n",
       "      <th>temperature</th>\n",
       "      <th>humidity</th>\n",
       "      <th>wind speed</th>\n",
       "      <th>Precipitation amount</th>\n",
       "      <th>query</th>\n",
       "      <th>Moon Phase calculator</th>\n",
       "    </tr>\n",
       "  </thead>\n",
       "  <tbody>\n",
       "    <tr>\n",
       "      <th>0</th>\n",
       "      <td>2020-11-05 22:00:00</td>\n",
       "      <td>8 °C\\n(10:00 pm CET | Thursday, November 5, 2020)</td>\n",
       "      <td>ERROR</td>\n",
       "      <td>1 m/s\\n(10:00 pm CET | Thursday, November 5, 2...</td>\n",
       "      <td>(unknown)\\n(10:00 pm CET | Thursday, November ...</td>\n",
       "      <td>Moon Phase calculatorNovember 5, 2020 22h</td>\n",
       "      <td>| waning gibbous moon\\n76.55% illuminated</td>\n",
       "    </tr>\n",
       "    <tr>\n",
       "      <th>0</th>\n",
       "      <td>2020-11-16 19:00:00</td>\n",
       "      <td>7 °C\\n(7:00 pm CET | Monday, November 16, 2020)</td>\n",
       "      <td>ERROR</td>\n",
       "      <td>1 m/s\\n(7:00 pm CET | Monday, November 16, 2020)</td>\n",
       "      <td>(unknown)\\n(7:00 pm CET | Monday, November 16,...</td>\n",
       "      <td>Moon Phase calculatorNovember 16, 2020 19h</td>\n",
       "      <td>| waxing crescent moon\\n3.48% illuminated</td>\n",
       "    </tr>\n",
       "    <tr>\n",
       "      <th>1</th>\n",
       "      <td>2020-11-16 21:00:00</td>\n",
       "      <td>5 °C\\n(9:00 pm CET | Monday, November 16, 2020)</td>\n",
       "      <td>ERROR</td>\n",
       "      <td>0 m/s\\n(9:00 pm CET | Monday, November 16, 2020)</td>\n",
       "      <td>(unknown)\\n(9:00 pm CET | Monday, November 16,...</td>\n",
       "      <td>Moon Phase calculatorNovember 16, 2020 21h</td>\n",
       "      <td>| waxing crescent moon\\n3.86% illuminated</td>\n",
       "    </tr>\n",
       "    <tr>\n",
       "      <th>2</th>\n",
       "      <td>2020-12-15 21:00:00</td>\n",
       "      <td>4 °C\\n(9:00 pm CET | Tuesday, December 15, 2020)</td>\n",
       "      <td>ERROR</td>\n",
       "      <td>1 m/s\\n(9:00 pm CET | Tuesday, December 15, 2020)</td>\n",
       "      <td>(unknown)\\n(9:00 pm CET | Tuesday, December 15...</td>\n",
       "      <td>Moon Phase calculatorDecember 15, 2020 21h</td>\n",
       "      <td>| waxing crescent moon\\n1.86% illuminated</td>\n",
       "    </tr>\n",
       "    <tr>\n",
       "      <th>3</th>\n",
       "      <td>2021-02-08 17:00:00</td>\n",
       "      <td>5 °C\\n(5:00 pm CET | Monday, February 8, 2021)</td>\n",
       "      <td>ERROR</td>\n",
       "      <td>5 m/s\\n(5:00 pm CET | Monday, February 8, 2021)</td>\n",
       "      <td>(unknown)\\n(5:00 pm CET | Monday, February 8, ...</td>\n",
       "      <td>Moon Phase calculatorFebruary 8, 2021 17h</td>\n",
       "      <td>| waning crescent moon\\n11.27% illuminated</td>\n",
       "    </tr>\n",
       "    <tr>\n",
       "      <th>...</th>\n",
       "      <td>...</td>\n",
       "      <td>...</td>\n",
       "      <td>...</td>\n",
       "      <td>...</td>\n",
       "      <td>...</td>\n",
       "      <td>...</td>\n",
       "      <td>...</td>\n",
       "    </tr>\n",
       "    <tr>\n",
       "      <th>3</th>\n",
       "      <td>2021-06-02 15:00:00</td>\n",
       "      <td>ERROR</td>\n",
       "      <td>average: 51% (50 to 53%)\\n(3:00 pm CEST | Wedn...</td>\n",
       "      <td>ERROR</td>\n",
       "      <td>no precipitation\\n(3:00 pm CEST | Wednesday, J...</td>\n",
       "      <td>Moon Phase calculatorJune 2, 2021 15h</td>\n",
       "      <td>| last quarter moon\\n47.75% illuminated</td>\n",
       "    </tr>\n",
       "    <tr>\n",
       "      <th>4</th>\n",
       "      <td>2021-06-02 16:00:00</td>\n",
       "      <td>ERROR</td>\n",
       "      <td>average: 51% (50 to 53%)\\n(4:00 pm CEST | Wedn...</td>\n",
       "      <td>ERROR</td>\n",
       "      <td>no precipitation\\n(4:00 pm CEST | Wednesday, J...</td>\n",
       "      <td>Moon Phase calculatorJune 2, 2021 16h</td>\n",
       "      <td>| last quarter moon\\n47.33% illuminated</td>\n",
       "    </tr>\n",
       "    <tr>\n",
       "      <th>8</th>\n",
       "      <td>2021-06-03 06:00:00</td>\n",
       "      <td>15 °C\\n(6:00 am CEST | Thursday, June 3, 2021)</td>\n",
       "      <td>average: 100% (100%)\\n(6:00 am CEST | Thursday...</td>\n",
       "      <td>2 m/s\\n(6:00 am CEST | Thursday, June 3, 2021)</td>\n",
       "      <td>ERROR</td>\n",
       "      <td>Moon Phase calculatorJune 3, 2021 6h</td>\n",
       "      <td>| waning crescent moon\\n41.49% illuminated</td>\n",
       "    </tr>\n",
       "    <tr>\n",
       "      <th>9</th>\n",
       "      <td>2021-06-04 23:00:00</td>\n",
       "      <td>15 °C\\n(11:00 pm CEST | Friday, June 4, 2021)</td>\n",
       "      <td>ERROR</td>\n",
       "      <td>2 m/s\\n(11:00 pm CEST | Friday, June 4, 2021)</td>\n",
       "      <td>rain\\n(11:00 pm CEST | Friday, June 4, 2021)</td>\n",
       "      <td>Moon Phase calculatorJune 4, 2021 23h</td>\n",
       "      <td>| waning crescent moon\\n25.75% illuminated</td>\n",
       "    </tr>\n",
       "    <tr>\n",
       "      <th>4</th>\n",
       "      <td>2021-06-07 06:00:00</td>\n",
       "      <td>15 °C\\n(6:00 am CEST | Monday, June 7, 2021)</td>\n",
       "      <td>ERROR</td>\n",
       "      <td>0 m/s\\n(6:00 am CEST | Monday, June 7, 2021)</td>\n",
       "      <td>no precipitation\\n(6:00 am CEST | Monday, June...</td>\n",
       "      <td>Moon Phase calculatorJune 7, 2021 6h</td>\n",
       "      <td>| waning crescent moon\\n9.48% illuminated</td>\n",
       "    </tr>\n",
       "  </tbody>\n",
       "</table>\n",
       "<p>67 rows × 7 columns</p>\n",
       "</div>"
      ],
      "text/plain": [
       "                  date                                        temperature  \\\n",
       "0  2020-11-05 22:00:00  8 °C\\n(10:00 pm CET | Thursday, November 5, 2020)   \n",
       "0  2020-11-16 19:00:00    7 °C\\n(7:00 pm CET | Monday, November 16, 2020)   \n",
       "1  2020-11-16 21:00:00    5 °C\\n(9:00 pm CET | Monday, November 16, 2020)   \n",
       "2  2020-12-15 21:00:00   4 °C\\n(9:00 pm CET | Tuesday, December 15, 2020)   \n",
       "3  2021-02-08 17:00:00     5 °C\\n(5:00 pm CET | Monday, February 8, 2021)   \n",
       "..                 ...                                                ...   \n",
       "3  2021-06-02 15:00:00                                              ERROR   \n",
       "4  2021-06-02 16:00:00                                              ERROR   \n",
       "8  2021-06-03 06:00:00     15 °C\\n(6:00 am CEST | Thursday, June 3, 2021)   \n",
       "9  2021-06-04 23:00:00      15 °C\\n(11:00 pm CEST | Friday, June 4, 2021)   \n",
       "4  2021-06-07 06:00:00       15 °C\\n(6:00 am CEST | Monday, June 7, 2021)   \n",
       "\n",
       "                                             humidity  \\\n",
       "0                                               ERROR   \n",
       "0                                               ERROR   \n",
       "1                                               ERROR   \n",
       "2                                               ERROR   \n",
       "3                                               ERROR   \n",
       "..                                                ...   \n",
       "3   average: 51% (50 to 53%)\\n(3:00 pm CEST | Wedn...   \n",
       "4   average: 51% (50 to 53%)\\n(4:00 pm CEST | Wedn...   \n",
       "8   average: 100% (100%)\\n(6:00 am CEST | Thursday...   \n",
       "9                                               ERROR   \n",
       "4                                               ERROR   \n",
       "\n",
       "                                           wind speed  \\\n",
       "0   1 m/s\\n(10:00 pm CET | Thursday, November 5, 2...   \n",
       "0    1 m/s\\n(7:00 pm CET | Monday, November 16, 2020)   \n",
       "1    0 m/s\\n(9:00 pm CET | Monday, November 16, 2020)   \n",
       "2   1 m/s\\n(9:00 pm CET | Tuesday, December 15, 2020)   \n",
       "3     5 m/s\\n(5:00 pm CET | Monday, February 8, 2021)   \n",
       "..                                                ...   \n",
       "3                                               ERROR   \n",
       "4                                               ERROR   \n",
       "8      2 m/s\\n(6:00 am CEST | Thursday, June 3, 2021)   \n",
       "9       2 m/s\\n(11:00 pm CEST | Friday, June 4, 2021)   \n",
       "4        0 m/s\\n(6:00 am CEST | Monday, June 7, 2021)   \n",
       "\n",
       "                                 Precipitation amount  \\\n",
       "0   (unknown)\\n(10:00 pm CET | Thursday, November ...   \n",
       "0   (unknown)\\n(7:00 pm CET | Monday, November 16,...   \n",
       "1   (unknown)\\n(9:00 pm CET | Monday, November 16,...   \n",
       "2   (unknown)\\n(9:00 pm CET | Tuesday, December 15...   \n",
       "3   (unknown)\\n(5:00 pm CET | Monday, February 8, ...   \n",
       "..                                                ...   \n",
       "3   no precipitation\\n(3:00 pm CEST | Wednesday, J...   \n",
       "4   no precipitation\\n(4:00 pm CEST | Wednesday, J...   \n",
       "8                                               ERROR   \n",
       "9        rain\\n(11:00 pm CEST | Friday, June 4, 2021)   \n",
       "4   no precipitation\\n(6:00 am CEST | Monday, June...   \n",
       "\n",
       "                                         query  \\\n",
       "0    Moon Phase calculatorNovember 5, 2020 22h   \n",
       "0   Moon Phase calculatorNovember 16, 2020 19h   \n",
       "1   Moon Phase calculatorNovember 16, 2020 21h   \n",
       "2   Moon Phase calculatorDecember 15, 2020 21h   \n",
       "3    Moon Phase calculatorFebruary 8, 2021 17h   \n",
       "..                                         ...   \n",
       "3        Moon Phase calculatorJune 2, 2021 15h   \n",
       "4        Moon Phase calculatorJune 2, 2021 16h   \n",
       "8         Moon Phase calculatorJune 3, 2021 6h   \n",
       "9        Moon Phase calculatorJune 4, 2021 23h   \n",
       "4         Moon Phase calculatorJune 7, 2021 6h   \n",
       "\n",
       "                         Moon Phase calculator  \n",
       "0    | waning gibbous moon\\n76.55% illuminated  \n",
       "0    | waxing crescent moon\\n3.48% illuminated  \n",
       "1    | waxing crescent moon\\n3.86% illuminated  \n",
       "2    | waxing crescent moon\\n1.86% illuminated  \n",
       "3   | waning crescent moon\\n11.27% illuminated  \n",
       "..                                         ...  \n",
       "3      | last quarter moon\\n47.75% illuminated  \n",
       "4      | last quarter moon\\n47.33% illuminated  \n",
       "8   | waning crescent moon\\n41.49% illuminated  \n",
       "9   | waning crescent moon\\n25.75% illuminated  \n",
       "4    | waning crescent moon\\n9.48% illuminated  \n",
       "\n",
       "[67 rows x 7 columns]"
      ]
     },
     "execution_count": 6,
     "metadata": {},
     "output_type": "execute_result"
    }
   ],
   "source": [
    "print(df[df.isin([\"ERROR\"]).any(axis=1)].shape)\n",
    "df[df.isin([\"ERROR\"]).any(axis=1)]"
   ]
  },
  {
   "cell_type": "markdown",
   "metadata": {},
   "source": [
    "df['day'] = df['date'].map(lambda x: dt.datetime.date(x))\n",
    "df['day'].value_counts()"
   ]
  },
  {
   "cell_type": "markdown",
   "metadata": {},
   "source": [
    "#add lune to weather data\n",
    "#dico_d_m = {}\n",
    "for d in tqdm.tqdm(Daterange):\n",
    "    now_ = dt.datetime.now()\n",
    "    #dont get the data in advance\n",
    "    if d<now_:   \n",
    "        if d not in dico_d_m:\n",
    "            try:\n",
    "                query = 'Moon Phase calculator'+d.strftime('%B')+' '+str(d.day)+', '+str(d.year)+' '+str(d.hour)+'h'\n",
    "                res = client.query(query) \n",
    "                for t in res.results:\n",
    "                    dico_d_m[d] = t.text.strip('|').strip(' ')\n",
    "            except Exception as e:\n",
    "                print('ERROR')\n",
    "                print(e)\n",
    "#df['Moon Phase calculator'] = df['date'].map(lambda x: dico_d_m.get(x, 'ERROR'))\n",
    "#print(df[df['Moonphase']=='ERROR'].shape)\n",
    "df"
   ]
  },
  {
   "cell_type": "markdown",
   "metadata": {},
   "source": [
    "df = df.drop(['MoonName','Moon Phase calculator'],axis=1)"
   ]
  },
  {
   "cell_type": "markdown",
   "metadata": {},
   "source": [
    "# Process"
   ]
  },
  {
   "cell_type": "code",
   "execution_count": 7,
   "metadata": {},
   "outputs": [
    {
     "name": "stdout",
     "output_type": "stream",
     "text": [
      "(5967, 13)\n"
     ]
    },
    {
     "data": {
      "text/html": [
       "<div>\n",
       "<style scoped>\n",
       "    .dataframe tbody tr th:only-of-type {\n",
       "        vertical-align: middle;\n",
       "    }\n",
       "\n",
       "    .dataframe tbody tr th {\n",
       "        vertical-align: top;\n",
       "    }\n",
       "\n",
       "    .dataframe thead th {\n",
       "        text-align: right;\n",
       "    }\n",
       "</style>\n",
       "<table border=\"1\" class=\"dataframe\">\n",
       "  <thead>\n",
       "    <tr style=\"text-align: right;\">\n",
       "      <th></th>\n",
       "      <th>Timestamp</th>\n",
       "      <th>temperature</th>\n",
       "      <th>humidity</th>\n",
       "      <th>wind speed</th>\n",
       "      <th>Precipitation amount</th>\n",
       "      <th>query</th>\n",
       "      <th>Moon Phase calculator</th>\n",
       "      <th>date</th>\n",
       "      <th>hour</th>\n",
       "      <th>temperature_C</th>\n",
       "      <th>wind_speed_mpers</th>\n",
       "      <th>humidity_avgpercent</th>\n",
       "      <th>rain</th>\n",
       "    </tr>\n",
       "  </thead>\n",
       "  <tbody>\n",
       "    <tr>\n",
       "      <th>0</th>\n",
       "      <td>2020-09-29 00:00:00</td>\n",
       "      <td>10 °C\\n(12:00 am CEST | Tuesday, September 29,...</td>\n",
       "      <td>average: 100% (100%)\\n(12:00 am CEST | Tuesday...</td>\n",
       "      <td>2 m/s\\n(12:00 am CEST | Tuesday, September 29,...</td>\n",
       "      <td>rain\\n(12:00 am CEST | Tuesday, September 29, ...</td>\n",
       "      <td>Moon Phase calculatorSeptember 29, 2020 0h</td>\n",
       "      <td>| waxing gibbous moon\\n91.87% illuminated</td>\n",
       "      <td>2020-09-29</td>\n",
       "      <td>0</td>\n",
       "      <td>10</td>\n",
       "      <td>2</td>\n",
       "      <td>100</td>\n",
       "      <td>rain</td>\n",
       "    </tr>\n",
       "    <tr>\n",
       "      <th>1</th>\n",
       "      <td>2020-09-29 01:00:00</td>\n",
       "      <td>10 °C\\n(1:00 am CEST | Tuesday, September 29, ...</td>\n",
       "      <td>average: 100% (100%)\\n(1:00 am CEST | Tuesday,...</td>\n",
       "      <td>3 m/s\\n(1:00 am CEST | Tuesday, September 29, ...</td>\n",
       "      <td>rain\\n(1:00 am CEST | Tuesday, September 29, 2...</td>\n",
       "      <td>Moon Phase calculatorSeptember 29, 2020 1h</td>\n",
       "      <td>| waxing gibbous moon\\n92.09% illuminated</td>\n",
       "      <td>2020-09-29</td>\n",
       "      <td>1</td>\n",
       "      <td>10</td>\n",
       "      <td>3</td>\n",
       "      <td>100</td>\n",
       "      <td>rain</td>\n",
       "    </tr>\n",
       "    <tr>\n",
       "      <th>2</th>\n",
       "      <td>2020-09-29 02:00:00</td>\n",
       "      <td>10 °C\\n(2:00 am CEST | Tuesday, September 29, ...</td>\n",
       "      <td>average: 100% (100%)\\n(2:00 am CEST | Tuesday,...</td>\n",
       "      <td>3 m/s\\n(2:00 am CEST | Tuesday, September 29, ...</td>\n",
       "      <td>rain\\n(2:00 am CEST | Tuesday, September 29, 2...</td>\n",
       "      <td>Moon Phase calculatorSeptember 29, 2020 2h</td>\n",
       "      <td>| waxing gibbous moon\\n92.30% illuminated</td>\n",
       "      <td>2020-09-29</td>\n",
       "      <td>2</td>\n",
       "      <td>10</td>\n",
       "      <td>3</td>\n",
       "      <td>100</td>\n",
       "      <td>rain</td>\n",
       "    </tr>\n",
       "  </tbody>\n",
       "</table>\n",
       "</div>"
      ],
      "text/plain": [
       "            Timestamp                                        temperature  \\\n",
       "0 2020-09-29 00:00:00  10 °C\\n(12:00 am CEST | Tuesday, September 29,...   \n",
       "1 2020-09-29 01:00:00  10 °C\\n(1:00 am CEST | Tuesday, September 29, ...   \n",
       "2 2020-09-29 02:00:00  10 °C\\n(2:00 am CEST | Tuesday, September 29, ...   \n",
       "\n",
       "                                            humidity  \\\n",
       "0  average: 100% (100%)\\n(12:00 am CEST | Tuesday...   \n",
       "1  average: 100% (100%)\\n(1:00 am CEST | Tuesday,...   \n",
       "2  average: 100% (100%)\\n(2:00 am CEST | Tuesday,...   \n",
       "\n",
       "                                          wind speed  \\\n",
       "0  2 m/s\\n(12:00 am CEST | Tuesday, September 29,...   \n",
       "1  3 m/s\\n(1:00 am CEST | Tuesday, September 29, ...   \n",
       "2  3 m/s\\n(2:00 am CEST | Tuesday, September 29, ...   \n",
       "\n",
       "                                Precipitation amount  \\\n",
       "0  rain\\n(12:00 am CEST | Tuesday, September 29, ...   \n",
       "1  rain\\n(1:00 am CEST | Tuesday, September 29, 2...   \n",
       "2  rain\\n(2:00 am CEST | Tuesday, September 29, 2...   \n",
       "\n",
       "                                        query  \\\n",
       "0  Moon Phase calculatorSeptember 29, 2020 0h   \n",
       "1  Moon Phase calculatorSeptember 29, 2020 1h   \n",
       "2  Moon Phase calculatorSeptember 29, 2020 2h   \n",
       "\n",
       "                       Moon Phase calculator       date  hour  temperature_C  \\\n",
       "0  | waxing gibbous moon\\n91.87% illuminated 2020-09-29     0             10   \n",
       "1  | waxing gibbous moon\\n92.09% illuminated 2020-09-29     1             10   \n",
       "2  | waxing gibbous moon\\n92.30% illuminated 2020-09-29     2             10   \n",
       "\n",
       "   wind_speed_mpers  humidity_avgpercent  rain  \n",
       "0                 2                  100  rain  \n",
       "1                 3                  100  rain  \n",
       "2                 3                  100  rain  "
      ]
     },
     "execution_count": 7,
     "metadata": {},
     "output_type": "execute_result"
    }
   ],
   "source": [
    "#add weather as environemntal factor\n",
    "path_ = r'C:\\Users\\camil\\Desktop\\vm_exchange\\PhD_Data\\Weather'\n",
    "path_weather = os.path.join(path_,'weather.csv')\n",
    "df_weather = pd.read_csv(path_weather, sep=';', parse_dates=['date'])\n",
    "df_weather = df_weather.drop_duplicates(subset=None, keep='first', inplace=False)\n",
    "#remove excpetions\n",
    "x = ', 1, 0,  , °, C, \\n, (, 1, 2, :, 0, 0,  , a, m,  , C, E, T , | , F, r, i, d, a, y, ,,  , O, c, t, o, b, e, r,  , 3, 0, ,,  , 2, 0, 2, 0, ),'\n",
    "df_weather['temperature'] = df_weather['temperature'].replace(x, x.replace(', ',''))\n",
    "x = '3×10^0 m/s\\n(1:00 pm CET | Sunday, January 10, 2021)'\n",
    "df_weather['wind speed'] = df_weather['wind speed'].replace(x, 'ERROR')\n",
    "#remove the rows with at least one error\n",
    "df_weather = df_weather[~df_weather.isin([\"ERROR\"]).any(axis=1)]\n",
    "#date\n",
    "df_weather.rename(columns={'date':'Timestamp'}, inplace=True)\n",
    "df_weather['date'] = df_weather['Timestamp'].map(lambda x: dt.datetime(x.year,x.month,x.day))\n",
    "df_weather['hour'] = df_weather['Timestamp'].map(lambda x: x.hour)\n",
    "#add usefull variable\n",
    "df_weather['temperature_C'] = df_weather['temperature'].map(lambda x: int(x.split('\\n')[0].split(' ')[0]))\n",
    "df_weather['wind_speed_mpers'] = df_weather['wind speed'].map(lambda x: int(x.split('\\n')[0].split(' ')[0]))\n",
    "df_weather['humidity_avgpercent'] = df_weather['humidity'].map(lambda x: int(x.split('%')[0].split(' ')[-1].strip()))\n",
    "df_weather['rain'] = df_weather['Precipitation amount'].map(lambda x: x.split('\\n')[0])\n",
    "df_weather['rain'] = df_weather['rain'].replace('rain | snow','snow | rain')\n",
    "df_weather.to_csv(os.path.join(path_,'Weather_process.csv'), index=False, sep=';')\n",
    "print(df_weather.shape)\n",
    "df_weather.head(3)"
   ]
  },
  {
   "cell_type": "code",
   "execution_count": 8,
   "metadata": {},
   "outputs": [
    {
     "data": {
      "text/html": [
       "<div>\n",
       "<style scoped>\n",
       "    .dataframe tbody tr th:only-of-type {\n",
       "        vertical-align: middle;\n",
       "    }\n",
       "\n",
       "    .dataframe tbody tr th {\n",
       "        vertical-align: top;\n",
       "    }\n",
       "\n",
       "    .dataframe thead th {\n",
       "        text-align: right;\n",
       "    }\n",
       "</style>\n",
       "<table border=\"1\" class=\"dataframe\">\n",
       "  <thead>\n",
       "    <tr style=\"text-align: right;\">\n",
       "      <th></th>\n",
       "      <th>Timestamp</th>\n",
       "      <th>temperature</th>\n",
       "      <th>humidity</th>\n",
       "      <th>wind speed</th>\n",
       "      <th>Precipitation amount</th>\n",
       "      <th>query</th>\n",
       "      <th>Moon Phase calculator</th>\n",
       "      <th>date</th>\n",
       "      <th>hour</th>\n",
       "      <th>temperature_C</th>\n",
       "      <th>wind_speed_mpers</th>\n",
       "      <th>humidity_avgpercent</th>\n",
       "      <th>rain</th>\n",
       "      <th>MoonName</th>\n",
       "      <th>Illumination_percentage</th>\n",
       "      <th>croissant_decroissant</th>\n",
       "    </tr>\n",
       "  </thead>\n",
       "  <tbody>\n",
       "    <tr>\n",
       "      <th>0</th>\n",
       "      <td>2020-09-29 00:00:00</td>\n",
       "      <td>10 °C\\n(12:00 am CEST | Tuesday, September 29,...</td>\n",
       "      <td>average: 100% (100%)\\n(12:00 am CEST | Tuesday...</td>\n",
       "      <td>2 m/s\\n(12:00 am CEST | Tuesday, September 29,...</td>\n",
       "      <td>rain\\n(12:00 am CEST | Tuesday, September 29, ...</td>\n",
       "      <td>Moon Phase calculatorSeptember 29, 2020 0h</td>\n",
       "      <td>| waxing gibbous moon\\n91.87% illuminated</td>\n",
       "      <td>2020-09-29</td>\n",
       "      <td>0</td>\n",
       "      <td>10</td>\n",
       "      <td>2</td>\n",
       "      <td>100</td>\n",
       "      <td>rain</td>\n",
       "      <td>waxing gibbous moon</td>\n",
       "      <td>91.87</td>\n",
       "      <td>LC</td>\n",
       "    </tr>\n",
       "    <tr>\n",
       "      <th>1</th>\n",
       "      <td>2020-09-29 01:00:00</td>\n",
       "      <td>10 °C\\n(1:00 am CEST | Tuesday, September 29, ...</td>\n",
       "      <td>average: 100% (100%)\\n(1:00 am CEST | Tuesday,...</td>\n",
       "      <td>3 m/s\\n(1:00 am CEST | Tuesday, September 29, ...</td>\n",
       "      <td>rain\\n(1:00 am CEST | Tuesday, September 29, 2...</td>\n",
       "      <td>Moon Phase calculatorSeptember 29, 2020 1h</td>\n",
       "      <td>| waxing gibbous moon\\n92.09% illuminated</td>\n",
       "      <td>2020-09-29</td>\n",
       "      <td>1</td>\n",
       "      <td>10</td>\n",
       "      <td>3</td>\n",
       "      <td>100</td>\n",
       "      <td>rain</td>\n",
       "      <td>waxing gibbous moon</td>\n",
       "      <td>92.09</td>\n",
       "      <td>LC</td>\n",
       "    </tr>\n",
       "    <tr>\n",
       "      <th>2</th>\n",
       "      <td>2020-09-29 02:00:00</td>\n",
       "      <td>10 °C\\n(2:00 am CEST | Tuesday, September 29, ...</td>\n",
       "      <td>average: 100% (100%)\\n(2:00 am CEST | Tuesday,...</td>\n",
       "      <td>3 m/s\\n(2:00 am CEST | Tuesday, September 29, ...</td>\n",
       "      <td>rain\\n(2:00 am CEST | Tuesday, September 29, 2...</td>\n",
       "      <td>Moon Phase calculatorSeptember 29, 2020 2h</td>\n",
       "      <td>| waxing gibbous moon\\n92.30% illuminated</td>\n",
       "      <td>2020-09-29</td>\n",
       "      <td>2</td>\n",
       "      <td>10</td>\n",
       "      <td>3</td>\n",
       "      <td>100</td>\n",
       "      <td>rain</td>\n",
       "      <td>waxing gibbous moon</td>\n",
       "      <td>92.30</td>\n",
       "      <td>LC</td>\n",
       "    </tr>\n",
       "  </tbody>\n",
       "</table>\n",
       "</div>"
      ],
      "text/plain": [
       "            Timestamp                                        temperature  \\\n",
       "0 2020-09-29 00:00:00  10 °C\\n(12:00 am CEST | Tuesday, September 29,...   \n",
       "1 2020-09-29 01:00:00  10 °C\\n(1:00 am CEST | Tuesday, September 29, ...   \n",
       "2 2020-09-29 02:00:00  10 °C\\n(2:00 am CEST | Tuesday, September 29, ...   \n",
       "\n",
       "                                            humidity  \\\n",
       "0  average: 100% (100%)\\n(12:00 am CEST | Tuesday...   \n",
       "1  average: 100% (100%)\\n(1:00 am CEST | Tuesday,...   \n",
       "2  average: 100% (100%)\\n(2:00 am CEST | Tuesday,...   \n",
       "\n",
       "                                          wind speed  \\\n",
       "0  2 m/s\\n(12:00 am CEST | Tuesday, September 29,...   \n",
       "1  3 m/s\\n(1:00 am CEST | Tuesday, September 29, ...   \n",
       "2  3 m/s\\n(2:00 am CEST | Tuesday, September 29, ...   \n",
       "\n",
       "                                Precipitation amount  \\\n",
       "0  rain\\n(12:00 am CEST | Tuesday, September 29, ...   \n",
       "1  rain\\n(1:00 am CEST | Tuesday, September 29, 2...   \n",
       "2  rain\\n(2:00 am CEST | Tuesday, September 29, 2...   \n",
       "\n",
       "                                        query  \\\n",
       "0  Moon Phase calculatorSeptember 29, 2020 0h   \n",
       "1  Moon Phase calculatorSeptember 29, 2020 1h   \n",
       "2  Moon Phase calculatorSeptember 29, 2020 2h   \n",
       "\n",
       "                       Moon Phase calculator       date  hour  temperature_C  \\\n",
       "0  | waxing gibbous moon\\n91.87% illuminated 2020-09-29     0             10   \n",
       "1  | waxing gibbous moon\\n92.09% illuminated 2020-09-29     1             10   \n",
       "2  | waxing gibbous moon\\n92.30% illuminated 2020-09-29     2             10   \n",
       "\n",
       "   wind_speed_mpers  humidity_avgpercent  rain             MoonName  \\\n",
       "0                 2                  100  rain  waxing gibbous moon   \n",
       "1                 3                  100  rain  waxing gibbous moon   \n",
       "2                 3                  100  rain  waxing gibbous moon   \n",
       "\n",
       "   Illumination_percentage croissant_decroissant  \n",
       "0                    91.87                    LC  \n",
       "1                    92.09                    LC  \n",
       "2                    92.30                    LC  "
      ]
     },
     "execution_count": 8,
     "metadata": {},
     "output_type": "execute_result"
    }
   ],
   "source": [
    "df_weather['MoonName'] = df_weather['Moon Phase calculator'].map(lambda x: x.strip('|').strip(' ').split('\\n')[0] if x!='ERROR' else 'ERROR')\n",
    "df_weather['Illumination_percentage'] = df_weather['Moon Phase calculator'].map(lambda x: float(x.strip('|').strip(' ').split('\\n')[1].replace(' illuminated','').strip('%').strip(' ')) if x!='ERROR' else 'ERROR')\n",
    "#print(df['MoaonName'].value_counts())\n",
    "#df['Illumination_percentage'].value_counts()\n",
    "\n",
    "dico_CD = {'ERROR':'ERROR', \n",
    "           'first quarter moon':'LC', \n",
    "           'full moon':'Lchangement', \n",
    "           'last quarter moon':'DC',\n",
    "           'new moon':'Lchangement', \n",
    "           'waning crescent moon':'DC', \n",
    "           'waning gibbous moon':'DC',\n",
    "           'waxing crescent moon':'LC', \n",
    "           'waxing gibbous moon':'LC'}\n",
    "#it seems that the order of the events are as follow:\n",
    "#full moon, waning gibbous moon, last quarter moon, waning crescent moon, \n",
    "#new moon, waxing crescent moon, first quarter moon, waxing gibbous moon,\n",
    "#full moon,...\n",
    "#defintion: De la Nouvelle Lune (éclat minimum) à la Pleine Lune (éclat maximum) on dit que la Lune est Croissante car \n",
    "#sa partie éclairée grossit de jour en jour. De la Pleine Lune à la Nouvelle Lune, on dit que la Lune est Décroissante.\n",
    "df_weather['croissant_decroissant'] = df_weather['MoonName'].map(lambda x: dico_CD[x])\n",
    "#lucie ascendatne et descendante n'est pas indiqué ici.\n",
    "df_weather.head(3)"
   ]
  },
  {
   "cell_type": "code",
   "execution_count": 9,
   "metadata": {},
   "outputs": [
    {
     "data": {
      "text/plain": [
       "DC             2841\n",
       "LC             2802\n",
       "Lchangement     324\n",
       "Name: croissant_decroissant, dtype: int64"
      ]
     },
     "execution_count": 9,
     "metadata": {},
     "output_type": "execute_result"
    }
   ],
   "source": [
    "df_weather['croissant_decroissant'].value_counts()"
   ]
  },
  {
   "cell_type": "code",
   "execution_count": 10,
   "metadata": {},
   "outputs": [
    {
     "data": {
      "text/html": [
       "<div>\n",
       "<style scoped>\n",
       "    .dataframe tbody tr th:only-of-type {\n",
       "        vertical-align: middle;\n",
       "    }\n",
       "\n",
       "    .dataframe tbody tr th {\n",
       "        vertical-align: top;\n",
       "    }\n",
       "\n",
       "    .dataframe thead th {\n",
       "        text-align: right;\n",
       "    }\n",
       "</style>\n",
       "<table border=\"1\" class=\"dataframe\">\n",
       "  <thead>\n",
       "    <tr style=\"text-align: right;\">\n",
       "      <th></th>\n",
       "      <th>MoonName</th>\n",
       "      <th>Illumination_percentage</th>\n",
       "      <th>min_illumination</th>\n",
       "      <th>max_illumination</th>\n",
       "    </tr>\n",
       "  </thead>\n",
       "  <tbody>\n",
       "    <tr>\n",
       "      <th>0</th>\n",
       "      <td>first quarter moon</td>\n",
       "      <td>[44.7, 45.14, 45.58, 46.02, 46.46, 46.9, 47.34...</td>\n",
       "      <td>44.69</td>\n",
       "      <td>55.24</td>\n",
       "    </tr>\n",
       "    <tr>\n",
       "      <th>1</th>\n",
       "      <td>full moon</td>\n",
       "      <td>[99.74, 99.76, 99.78, 99.79, 99.81, 99.82, 99....</td>\n",
       "      <td>99.72</td>\n",
       "      <td>100.00</td>\n",
       "    </tr>\n",
       "    <tr>\n",
       "      <th>2</th>\n",
       "      <td>last quarter moon</td>\n",
       "      <td>[55.07, 54.65, 54.23, 53.81, 53.39, 52.96, 52....</td>\n",
       "      <td>44.73</td>\n",
       "      <td>55.22</td>\n",
       "    </tr>\n",
       "    <tr>\n",
       "      <th>3</th>\n",
       "      <td>new moon</td>\n",
       "      <td>[0.27, 0.23, 0.21, 0.18, 0.16, 0.15, 0.14, 0.1...</td>\n",
       "      <td>0.00</td>\n",
       "      <td>0.28</td>\n",
       "    </tr>\n",
       "    <tr>\n",
       "      <th>4</th>\n",
       "      <td>waning crescent moon</td>\n",
       "      <td>[44.38, 43.95, 43.51, 43.08, 42.65, 42.21, 41....</td>\n",
       "      <td>0.29</td>\n",
       "      <td>44.68</td>\n",
       "    </tr>\n",
       "    <tr>\n",
       "      <th>5</th>\n",
       "      <td>waning gibbous moon</td>\n",
       "      <td>[99.71, 99.68, 99.65, 99.61, 99.58, 99.54, 99....</td>\n",
       "      <td>55.34</td>\n",
       "      <td>99.72</td>\n",
       "    </tr>\n",
       "    <tr>\n",
       "      <th>6</th>\n",
       "      <td>waxing crescent moon</td>\n",
       "      <td>[0.32, 0.37, 0.42, 0.48, 0.54, 0.61, 0.68, 0.7...</td>\n",
       "      <td>0.28</td>\n",
       "      <td>44.64</td>\n",
       "    </tr>\n",
       "    <tr>\n",
       "      <th>7</th>\n",
       "      <td>waxing gibbous moon</td>\n",
       "      <td>[91.87, 92.09, 92.3, 92.51, 92.73, 92.93, 93.1...</td>\n",
       "      <td>55.34</td>\n",
       "      <td>99.71</td>\n",
       "    </tr>\n",
       "  </tbody>\n",
       "</table>\n",
       "</div>"
      ],
      "text/plain": [
       "               MoonName                            Illumination_percentage  \\\n",
       "0    first quarter moon  [44.7, 45.14, 45.58, 46.02, 46.46, 46.9, 47.34...   \n",
       "1             full moon  [99.74, 99.76, 99.78, 99.79, 99.81, 99.82, 99....   \n",
       "2     last quarter moon  [55.07, 54.65, 54.23, 53.81, 53.39, 52.96, 52....   \n",
       "3              new moon  [0.27, 0.23, 0.21, 0.18, 0.16, 0.15, 0.14, 0.1...   \n",
       "4  waning crescent moon  [44.38, 43.95, 43.51, 43.08, 42.65, 42.21, 41....   \n",
       "5   waning gibbous moon  [99.71, 99.68, 99.65, 99.61, 99.58, 99.54, 99....   \n",
       "6  waxing crescent moon  [0.32, 0.37, 0.42, 0.48, 0.54, 0.61, 0.68, 0.7...   \n",
       "7   waxing gibbous moon  [91.87, 92.09, 92.3, 92.51, 92.73, 92.93, 93.1...   \n",
       "\n",
       "   min_illumination  max_illumination  \n",
       "0             44.69             55.24  \n",
       "1             99.72            100.00  \n",
       "2             44.73             55.22  \n",
       "3              0.00              0.28  \n",
       "4              0.29             44.68  \n",
       "5             55.34             99.72  \n",
       "6              0.28             44.64  \n",
       "7             55.34             99.71  "
      ]
     },
     "execution_count": 10,
     "metadata": {},
     "output_type": "execute_result"
    }
   ],
   "source": [
    "#to get a general udnerstanding of the data\n",
    "df_moon = df_weather.groupby(['MoonName'])['Illumination_percentage'].agg(lambda x: list(x)).reset_index()\n",
    "df_moon['min_illumination'] = df_moon['Illumination_percentage'].map(lambda x: min(x) if x!='ERROR' else 'ERROR' )\n",
    "df_moon['max_illumination'] = df_moon['Illumination_percentage'].map(lambda x: max(x) if x!='ERROR' else 'ERROR' )\n",
    "df_moon"
   ]
  },
  {
   "cell_type": "code",
   "execution_count": 11,
   "metadata": {},
   "outputs": [
    {
     "data": {
      "text/plain": [
       "'Moon Phase calculatorSeptember 29, 2020 0h'"
      ]
     },
     "execution_count": 11,
     "metadata": {},
     "output_type": "execute_result"
    }
   ],
   "source": [
    "df_weather['query'].iloc[0]"
   ]
  },
  {
   "cell_type": "code",
   "execution_count": 12,
   "metadata": {},
   "outputs": [
    {
     "name": "stdout",
     "output_type": "stream",
     "text": [
      "(250, 6)\n"
     ]
    },
    {
     "data": {
      "text/html": [
       "<div>\n",
       "<style scoped>\n",
       "    .dataframe tbody tr th:only-of-type {\n",
       "        vertical-align: middle;\n",
       "    }\n",
       "\n",
       "    .dataframe tbody tr th {\n",
       "        vertical-align: top;\n",
       "    }\n",
       "\n",
       "    .dataframe thead th {\n",
       "        text-align: right;\n",
       "    }\n",
       "</style>\n",
       "<table border=\"1\" class=\"dataframe\">\n",
       "  <thead>\n",
       "    <tr style=\"text-align: right;\">\n",
       "      <th></th>\n",
       "      <th>date</th>\n",
       "      <th>temperature_C</th>\n",
       "      <th>humidity_avgpercent</th>\n",
       "      <th>had_rainorsnow</th>\n",
       "      <th>moon_name</th>\n",
       "      <th>Illumination_percentage</th>\n",
       "    </tr>\n",
       "  </thead>\n",
       "  <tbody>\n",
       "    <tr>\n",
       "      <th>0</th>\n",
       "      <td>2020-09-29</td>\n",
       "      <td>12.000</td>\n",
       "      <td>92.125</td>\n",
       "      <td>0</td>\n",
       "      <td>waxing gibbous moon</td>\n",
       "      <td>94.56625</td>\n",
       "    </tr>\n",
       "    <tr>\n",
       "      <th>1</th>\n",
       "      <td>2020-09-30</td>\n",
       "      <td>12.250</td>\n",
       "      <td>80.125</td>\n",
       "      <td>1</td>\n",
       "      <td>waxing gibbous moon</td>\n",
       "      <td>98.01625</td>\n",
       "    </tr>\n",
       "    <tr>\n",
       "      <th>2</th>\n",
       "      <td>2020-10-01</td>\n",
       "      <td>14.125</td>\n",
       "      <td>74.875</td>\n",
       "      <td>0</td>\n",
       "      <td>waxing gibbous moon</td>\n",
       "      <td>99.66250</td>\n",
       "    </tr>\n",
       "  </tbody>\n",
       "</table>\n",
       "</div>"
      ],
      "text/plain": [
       "        date  temperature_C  humidity_avgpercent  had_rainorsnow  \\\n",
       "0 2020-09-29         12.000               92.125               0   \n",
       "1 2020-09-30         12.250               80.125               1   \n",
       "2 2020-10-01         14.125               74.875               0   \n",
       "\n",
       "             moon_name  Illumination_percentage  \n",
       "0  waxing gibbous moon                 94.56625  \n",
       "1  waxing gibbous moon                 98.01625  \n",
       "2  waxing gibbous moon                 99.66250  "
      ]
     },
     "execution_count": 12,
     "metadata": {},
     "output_type": "execute_result"
    }
   ],
   "source": [
    "df_daily_weather = df_weather[df_weather['hour'].isin([10,11,12,13,14,15,16,17])].copy()\n",
    "df_daily_weather = df_daily_weather.groupby(['date']).agg(\n",
    "    temperature_C=pd.NamedAgg(column='temperature_C', aggfunc=lambda x: np.mean(x)),\n",
    "    humidity_avgpercent=pd.NamedAgg(column='humidity_avgpercent', aggfunc=lambda x: np.mean(x)),\n",
    "    had_rainorsnow=pd.NamedAgg(column='rain', aggfunc=lambda x: int(all([i=='no precipitation' for i in x]))),\n",
    "    moon_name=pd.NamedAgg(column='MoonName', aggfunc=lambda x: list(x)[0]),\n",
    "    Illumination_percentage=pd.NamedAgg(column='Illumination_percentage', aggfunc=lambda x: np.mean(x))).reset_index()\n",
    "df_daily_weather.to_csv(os.path.join(path_,'df_daily_weather.csv'), index=False, sep=';')\n",
    "print(df_daily_weather.shape)\n",
    "df_daily_weather.head(3)"
   ]
  },
  {
   "cell_type": "code",
   "execution_count": 13,
   "metadata": {},
   "outputs": [
    {
     "data": {
      "text/plain": [
       "had_rainorsnow\n",
       "0    81.360915\n",
       "1    64.897506\n",
       "Name: humidity_avgpercent, dtype: float64"
      ]
     },
     "execution_count": 13,
     "metadata": {},
     "output_type": "execute_result"
    }
   ],
   "source": [
    "df_daily_weather.groupby(['had_rainorsnow'])['humidity_avgpercent'].agg(lambda x: np.mean(x))"
   ]
  },
  {
   "cell_type": "code",
   "execution_count": null,
   "metadata": {},
   "outputs": [],
   "source": []
  },
  {
   "cell_type": "code",
   "execution_count": null,
   "metadata": {},
   "outputs": [],
   "source": []
  },
  {
   "cell_type": "code",
   "execution_count": null,
   "metadata": {},
   "outputs": [],
   "source": []
  },
  {
   "cell_type": "code",
   "execution_count": null,
   "metadata": {},
   "outputs": [],
   "source": []
  },
  {
   "cell_type": "code",
   "execution_count": null,
   "metadata": {},
   "outputs": [],
   "source": []
  },
  {
   "cell_type": "code",
   "execution_count": null,
   "metadata": {},
   "outputs": [],
   "source": []
  },
  {
   "cell_type": "code",
   "execution_count": null,
   "metadata": {},
   "outputs": [],
   "source": []
  }
 ],
 "metadata": {
  "kernelspec": {
   "display_name": "Python 3",
   "language": "python",
   "name": "python3"
  },
  "language_info": {
   "codemirror_mode": {
    "name": "ipython",
    "version": 3
   },
   "file_extension": ".py",
   "mimetype": "text/x-python",
   "name": "python",
   "nbconvert_exporter": "python",
   "pygments_lexer": "ipython3",
   "version": "3.8.5"
  }
 },
 "nbformat": 4,
 "nbformat_minor": 2
}
