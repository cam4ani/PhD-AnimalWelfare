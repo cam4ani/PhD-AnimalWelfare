{
 "cells": [
  {
   "cell_type": "code",
   "execution_count": null,
   "metadata": {},
   "outputs": [],
   "source": [
    "#basic package\n",
    "import tqdm\n",
    "import os\n",
    "import numpy as np\n",
    "import glob\n",
    "import pandas as pd\n",
    "import sys\n",
    "import time\n",
    "import datetime as dt\n",
    "import itertools\n",
    "import re\n",
    "import math\n",
    "from collections import Counter\n",
    "import operator\n",
    "from scipy import stats\n",
    "import random\n",
    "\n",
    "#save and load dictionaries/lists\n",
    "import pickle\n",
    "\n",
    "#plot\n",
    "import matplotlib.pyplot as plt\n",
    "import seaborn as sns\n",
    "from mpl_toolkits.mplot3d import Axes3D"
   ]
  },
  {
   "cell_type": "code",
   "execution_count": null,
   "metadata": {},
   "outputs": [],
   "source": [
    "PACKAGE_PARENT = '../'\n",
    "SCRIPT_DIR = os.path.dirname(os.path.realpath(os.path.join(os.getcwd(), os.path.expanduser('__file__'))))\n",
    "sys.path.append(os.path.normpath(os.path.join(SCRIPT_DIR, PACKAGE_PARENT)))\n",
    "from UTILS import kmeans_clustering, ZoneVariable, time_series_henColumn_tsRow, FB_daily, corr_from_dep2feature,\\\n",
    "corr_from_feature2feature, correlationGraph, ZoneVariable, DataRepresentation1, sampen, chi2_distance, is_day, correct_key\n",
    "import config_origins as config"
   ]
  },
  {
   "cell_type": "markdown",
   "metadata": {},
   "source": [
    "# Define parameters"
   ]
  },
  {
   "cell_type": "code",
   "execution_count": null,
   "metadata": {
    "scrolled": true
   },
   "outputs": [],
   "source": [
    "print('change the configuration file if not done yet!')\n",
    "path_extracted_data = config.path_extracted_data\n",
    "id_run = config.id_run\n",
    "dico_pen_tr = config.dico_pen_tr\n",
    "li_binmn = config.li_binmn\n",
    "penalty = config.penalty\n",
    "dico_window = config.dico_window\n",
    "birth_date = config.birth_date\n",
    "dico_night_hour = config.dico_night_hour\n",
    "min_date_drivers = config.min_date_drivers\n",
    "path_extracted_data_visual = os.path.join(path_extracted_data,'visual')\n",
    "path_extracted_data_visual_dr = os.path.join(path_extracted_data,'Drivers')\n",
    "#create a director if not existing\n",
    "if not os.path.exists(path_extracted_data_visual_dr):\n",
    "    os.makedirs(path_extracted_data_visual_dr)"
   ]
  },
  {
   "cell_type": "markdown",
   "metadata": {},
   "source": [
    "# Download variables"
   ]
  },
  {
   "cell_type": "code",
   "execution_count": null,
   "metadata": {},
   "outputs": [],
   "source": [
    "#focal birds information (one row per focal bird)\n",
    "df_FB = pd.read_csv(os.path.join(path_extracted_data, id_run+'df_FOCALBIRDS.csv'), sep=';',\n",
    "                    parse_dates=['InitialStartDate'], dayfirst=True)\n",
    "print(df_FB.shape)\n",
    "df_FB.head(3)"
   ]
  },
  {
   "cell_type": "code",
   "execution_count": null,
   "metadata": {},
   "outputs": [],
   "source": [
    "#info on selection process: \n",
    "#when possible (i.e. enough MEXP in each pens), 25% (resp.25%) of focal bird were selected randomly among the MEXP (resp. LEXP) \n",
    "#remaining 50% of focal animals were selected as a representative sample of the population (called here EPI, as part of a larger study\n",
    "#with epigenetics aanalysis)\n",
    "print(df_FB[df_FB['InitialStartDate'].isin([dt.datetime(2020,6,10), dt.datetime(2020,6,12), dt.datetime(2020,9,29)])].shape)\n",
    "print(df_FB[df_FB['InitialStartDate'].isin([dt.datetime(2020,6,10), dt.datetime(2020,6,12)])].shape)\n",
    "df_info = df_FB[df_FB['InitialStartDate'].isin([dt.datetime(2020,6,10), dt.datetime(2020,6,12)])].groupby(['Treatment','R-Pen','CLASS'])['HenID'].count().reset_index()\n",
    "print(df_info.shape)\n",
    "df_info"
   ]
  },
  {
   "cell_type": "code",
   "execution_count": null,
   "metadata": {},
   "outputs": [],
   "source": [
    "#info on selection process: repartition of Rearing pen in laying pen across class\n",
    "print(df_FB[df_FB['InitialStartDate'].isin([dt.datetime(2020,6,10), dt.datetime(2020,6,12), dt.datetime(2020,9,29)])].shape)\n",
    "print(df_FB[df_FB['InitialStartDate'].isin([dt.datetime(2020,6,10), dt.datetime(2020,6,12)])].shape)\n",
    "df_info = df_FB[df_FB['InitialStartDate'].isin([dt.datetime(2020,6,10), dt.datetime(2020,6,12)])].groupby(['Treatment','R-Pen','CLASS',\n",
    "                                                                                                 'PenID'])['HenID'].count().reset_index()\n",
    "print(df_info.shape)\n",
    "df_info"
   ]
  },
  {
   "cell_type": "code",
   "execution_count": null,
   "metadata": {},
   "outputs": [],
   "source": [
    "#info on selection process: repartition of class in laying pen\n",
    "df_info = df_FB[df_FB['InitialStartDate'].isin([dt.datetime(2020,6,10), dt.datetime(2020,6,12)])].groupby(['Treatment','PenID','CLASS'])['HenID'].count().reset_index()\n",
    "print(df_info.shape)\n",
    "df_info"
   ]
  },
  {
   "cell_type": "code",
   "execution_count": null,
   "metadata": {},
   "outputs": [],
   "source": [
    "#info on selection process: uniform representation of rearing pen identity (RPenID) in each LPenID\n",
    "df_info = df_FB[df_FB['InitialStartDate'].isin([dt.datetime(2020,6,10), dt.datetime(2020,6,12)])].groupby(['PenID','R-Pen'])['HenID'].count().reset_index()\n",
    "print(df_info.shape)\n",
    "df_info"
   ]
  },
  {
   "cell_type": "code",
   "execution_count": null,
   "metadata": {},
   "outputs": [],
   "source": [
    "#daily variables of the movements (one row per available hen per day)\n",
    "df_daily = pd.read_csv(os.path.join(path_extracted_data, id_run+'_daily_ALL_variables_verified.csv'), sep=';',\n",
    "                     parse_dates=['level'], dayfirst=True)\n",
    "df_daily = df_daily[df_daily['level']>min_date_drivers] \n",
    "df_daily = df_daily[['HenID','PenID','level','Treatment', 'CLASS', 'DOA','WOA', 'perc_duration_2_Zone',\n",
    "                     'perc_duration_3_Zone', 'perc_duration_4_Zone', 'perc_duration_5_Zone','Total_number_transition',\n",
    "                    'vertical_travel_distance_perh']]\n",
    "#display(df_daily[df_daily.isna().any(axis=1)])\n",
    "if df_daily[df_daily.isna().any(axis=1)].shape[0]>0:\n",
    "    print('ERROR')\n",
    "print(df_daily.shape)\n",
    "df_daily.head(3)"
   ]
  },
  {
   "cell_type": "code",
   "execution_count": null,
   "metadata": {},
   "outputs": [],
   "source": [
    "min(df_daily['WOA'].tolist()), max(df_daily['WOA'].tolist())"
   ]
  },
  {
   "cell_type": "markdown",
   "metadata": {},
   "source": [
    "# Choose subset of hens"
   ]
  },
  {
   "cell_type": "code",
   "execution_count": null,
   "metadata": {},
   "outputs": [],
   "source": [
    "df_doa = df_daily[['level','DOA','WOA']].drop_duplicates()\n",
    "df_doa.head(10)"
   ]
  },
  {
   "cell_type": "code",
   "execution_count": null,
   "metadata": {},
   "outputs": [],
   "source": [
    "#### take birds that have at least 2 weights recorded (to be able to estimate in between)\n",
    "li_weight = ['29-09 weight','weight 23-11-2020','weight 04-01-2021','weight 01-02-21','weight 12-04-21','weight 26-07-21']\n",
    "df_FB['nbr_weight'] = df_FB.apply(lambda x: sum([math.isnan(i)==False for i in x[li_weight].tolist()]), axis=1)\n",
    "print(df_FB.shape)\n",
    "display(df_FB.head(5))\n",
    "li_selected_hens = df_FB[df_FB['nbr_weight']>=3]['HenID'].tolist() #to think of: birds that needs to adapt to new backapck\n",
    "len(li_selected_hens)"
   ]
  },
  {
   "cell_type": "code",
   "execution_count": null,
   "metadata": {},
   "outputs": [],
   "source": [
    "#### take birds that have at least have 10 days recorded\n",
    "df_ = df_daily.groupby(['HenID'])[['Total_number_transition','level']].agg(lambda x: list(x)).reset_index()\n",
    "df_['nbr_days_involved'] = df_['Total_number_transition'].map(lambda x: len(x))\n",
    "df_ = df_[df_['HenID'].isin(li_selected_hens)]\n",
    "print(df_.shape)\n",
    "df_.sort_values(['nbr_days_involved']).head(20) #for now keep all!!"
   ]
  },
  {
   "cell_type": "code",
   "execution_count": null,
   "metadata": {},
   "outputs": [],
   "source": [
    "li_sel_hen2 = df_[df_['nbr_days_involved']>=10]['HenID'].tolist()\n",
    "li_selected_hens = [h for h in li_selected_hens if h in li_sel_hen2]\n",
    "print(len(li_selected_hens))"
   ]
  },
  {
   "cell_type": "code",
   "execution_count": null,
   "metadata": {},
   "outputs": [],
   "source": [
    "#save the list of selected hens \n",
    "pickle.dump(li_selected_hens, open(os.path.join(path_extracted_data_visual_dr,'li_selected_hens.pkl'), 'wb'))"
   ]
  },
  {
   "cell_type": "code",
   "execution_count": null,
   "metadata": {},
   "outputs": [],
   "source": [
    "print(df_daily.shape)\n",
    "df_daily = df_daily[df_daily['HenID'].isin(li_selected_hens)]\n",
    "print(df_daily.shape)"
   ]
  },
  {
   "cell_type": "markdown",
   "metadata": {},
   "source": [
    "# Available data - In words"
   ]
  },
  {
   "cell_type": "code",
   "execution_count": null,
   "metadata": {},
   "outputs": [],
   "source": [
    "mi = min(df_daily['DOA'].tolist())\n",
    "ma = max(df_daily['DOA'].tolist())\n",
    "print('We are involving a period of %d days of tracking during the days from the DOA %d until DOA %d'%(ma-mi, mi, ma))"
   ]
  },
  {
   "cell_type": "code",
   "execution_count": null,
   "metadata": {},
   "outputs": [],
   "source": [
    "df_info = df_daily.groupby(['HenID'])['DOA','level','PenID'].agg(lambda x: list(x)).reset_index()\n",
    "df_info['nbrDaysTracked'] = df_info['DOA'].map(lambda x: len(set(x)))\n",
    "df_info = df_info.sort_values(['nbrDaysTracked'])\n",
    "display(df_info.head(3))\n",
    "#pen 5 had issues with batteries of markers!\n",
    "df_info['nbrDaysTracked'].mean()"
   ]
  },
  {
   "cell_type": "code",
   "execution_count": null,
   "metadata": {
    "scrolled": true
   },
   "outputs": [],
   "source": [
    "print('Hens had in average %d days tracked with a minimum of %d days tracked.'%(round(df_info['nbrDaysTracked'].mean(),0),\n",
    "                                                                                df_info['nbrDaysTracked'].min()))"
   ]
  },
  {
   "cell_type": "code",
   "execution_count": null,
   "metadata": {},
   "outputs": [],
   "source": [
    "print('In other words, %d hens were used in subsequent analysis with a total of %d observations.'%(len(df_daily['HenID'].unique()),\n",
    "                                                                                                   df_daily.shape[0]))"
   ]
  },
  {
   "cell_type": "markdown",
   "metadata": {},
   "source": [
    "# Available data - Visually"
   ]
  },
  {
   "cell_type": "code",
   "execution_count": null,
   "metadata": {},
   "outputs": [],
   "source": [
    "#heatmap of the hens, one row per hen: 1 means existing tracked day for the hen\n",
    "df_plt = df_daily[['HenID', 'PenID', 'Treatment', 'CLASS','level','perc_duration_5_Zone']].copy()\n",
    "dico_cl = {'EPI':'unknown', 'LEXP':'LEXP', 'MEXP':'MEXP', 'LEXPLOST':'unknown', 'MEXPLOST':'unknown','NewAfterEpi':'unknown',\n",
    "          'NewAfterEpiLOST':'unknown'}\n",
    "df_plt['CLASS'] = df_plt['CLASS'].map(lambda x: dico_cl[x])\n",
    "\n",
    "##### find missing days\n",
    "Daterange = pd.date_range(start = min_date_drivers, end = df_daily['level'].max(), freq = 'D')    \n",
    "li_missing_dates = [i for i in Daterange if i not in df_plt['level'].unique()]\n",
    "\n",
    "##### add one row per missing dates for a random hen with perc_duration_5_Zone beeing np.nan\n",
    "x = df_plt.iloc[0]\n",
    "df_missingdate = pd.DataFrame([{'level':d, 'perc_duration_5_Zone':np.nan, 'HenID':x['HenID'], 'PenID':x['PenID'], \n",
    "                                'Treatment':x['Treatment'],'CLASS':x['CLASS']} for d in li_missing_dates])\n",
    "print(df_plt.shape)\n",
    "df_plt = df_plt.append(df_missingdate, ignore_index=True)\n",
    "print(df_plt.shape)\n",
    "df_plt['level'] = df_plt['level'].map(lambda x: dt.datetime.date(x))\n",
    "df_plt.sort_values(['level'], inplace=True)\n",
    "li_date = df_plt['level'].unique()\n",
    "\n",
    "##### say if bird was tracked on taht day or not (i.e. we have his duration in zone 5)\n",
    "df_plt['Tracked'] = df_plt['perc_duration_5_Zone'].map(lambda x: int(not math.isnan(x)))\n",
    "display(df_plt.head(3))\n",
    "df_plt = df_plt.pivot(index=['HenID', 'PenID', 'Treatment', 'CLASS'], columns='level', values='Tracked').reset_index()\n",
    "df_plt = df_plt.fillna(0)\n",
    "df_plt.sort_values(['PenID'], inplace=True)\n",
    "li_henorder = df_plt['HenID'].tolist()\n",
    "print(df_plt.shape)\n",
    "df_plt.head(3)"
   ]
  },
  {
   "cell_type": "code",
   "execution_count": null,
   "metadata": {
    "scrolled": false
   },
   "outputs": [],
   "source": [
    "#per hens\n",
    "fig = plt.figure(figsize=(15,30))\n",
    "sns.heatmap(df_plt[li_date].to_numpy(), xticklabels=li_date,  yticklabels=df_plt['HenID'].tolist(), cmap=\"YlGnBu\")\n",
    "plt.title('Available data per treatment')\n",
    "plt.savefig(os.path.join(path_extracted_data_visual_dr,'DataPerHens.png'),dpi=300,format='png',bbox_inches='tight')\n",
    "plt.show()"
   ]
  },
  {
   "cell_type": "code",
   "execution_count": null,
   "metadata": {},
   "outputs": [],
   "source": [
    "#per treatment\n",
    "df_plt_summarized = df_plt.groupby(['Treatment','PenID'])[li_date].sum().reset_index()\n",
    "df_plt_summarized['name'] = df_plt_summarized.apply(lambda x: x['Treatment']+' - Pen '+str(x['PenID']), axis=1)\n",
    "fig = plt.figure(figsize=(20,3))\n",
    "sns.heatmap(df_plt_summarized[li_date].to_numpy(), xticklabels=li_date, \n",
    "            yticklabels=df_plt_summarized['name'].tolist(), cmap=\"YlGnBu\", annot=True)\n",
    "plt.title('Available data per treatment')\n",
    "plt.savefig(os.path.join(path_extracted_data_visual_dr,'DataPerTreatment.png'),dpi=300,format='png',bbox_inches='tight')\n",
    "plt.show()"
   ]
  },
  {
   "cell_type": "code",
   "execution_count": null,
   "metadata": {},
   "outputs": [],
   "source": [
    "#per class\n",
    "df_plt_summarized = df_plt.groupby(['CLASS','Treatment','PenID'])[li_date].sum().reset_index()\n",
    "df_plt_summarized['name'] = df_plt_summarized.apply(lambda x: x['CLASS']+' - '+x['Treatment']+' - Pen '+str(x['PenID']), \n",
    "                                                    axis=1)\n",
    "fig = plt.figure(figsize=(20,8))\n",
    "sns.heatmap(df_plt_summarized[li_date].to_numpy(), xticklabels=li_date, \n",
    "            yticklabels=df_plt_summarized['name'].tolist(), cmap=\"YlGnBu\", annot=True)\n",
    "plt.title('Available data per class')\n",
    "plt.savefig(os.path.join(path_extracted_data_visual_dr,'DataPerClass.png'),dpi=300,format='png',bbox_inches='tight')\n",
    "plt.show()"
   ]
  },
  {
   "cell_type": "code",
   "execution_count": null,
   "metadata": {},
   "outputs": [],
   "source": []
  },
  {
   "cell_type": "code",
   "execution_count": null,
   "metadata": {},
   "outputs": [],
   "source": []
  },
  {
   "cell_type": "code",
   "execution_count": null,
   "metadata": {},
   "outputs": [],
   "source": []
  },
  {
   "cell_type": "code",
   "execution_count": null,
   "metadata": {},
   "outputs": [],
   "source": []
  },
  {
   "cell_type": "code",
   "execution_count": null,
   "metadata": {},
   "outputs": [],
   "source": []
  },
  {
   "cell_type": "code",
   "execution_count": null,
   "metadata": {},
   "outputs": [],
   "source": []
  }
 ],
 "metadata": {
  "kernelspec": {
   "display_name": "Python 3",
   "language": "python",
   "name": "python3"
  },
  "language_info": {
   "codemirror_mode": {
    "name": "ipython",
    "version": 3
   },
   "file_extension": ".py",
   "mimetype": "text/x-python",
   "name": "python",
   "nbconvert_exporter": "python",
   "pygments_lexer": "ipython3",
   "version": "3.8.5"
  }
 },
 "nbformat": 4,
 "nbformat_minor": 2
}
