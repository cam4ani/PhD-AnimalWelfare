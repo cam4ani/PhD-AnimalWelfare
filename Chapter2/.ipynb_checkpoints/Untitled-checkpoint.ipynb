{
 "cells": [
  {
   "cell_type": "code",
   "execution_count": 3,
   "id": "28baed26",
   "metadata": {},
   "outputs": [],
   "source": [
    "library(lavaan)"
   ]
  },
  {
   "cell_type": "code",
   "execution_count": null,
   "id": "f9ede72d",
   "metadata": {},
   "outputs": [],
   "source": [
    "#model6c (manual specification) \n",
    "m6cc <- '\n",
    "  # measurement model\n",
    "    MVT =~ PC1 + PC2 + PC3\n",
    "    HA =~ KBF + FC\n",
    "  #single indicator factor\n",
    "    readf =~ 1*read\n",
    "  #variance of observed variable to 0\n",
    "    read ~~ 0*read\n",
    "  # regressions\n",
    "    MVT ~ HA \n",
    "    HA ~ MVT\n",
    "'\n",
    "fit6cc <- sem(m6cc, data=dat, )\n",
    "summary(fit6cc)"
   ]
  },
  {
   "cell_type": "code",
   "execution_count": null,
   "id": "5d9440c1",
   "metadata": {},
   "outputs": [],
   "source": []
  },
  {
   "cell_type": "code",
   "execution_count": null,
   "id": "27455783",
   "metadata": {},
   "outputs": [],
   "source": []
  },
  {
   "cell_type": "code",
   "execution_count": null,
   "id": "766d4750",
   "metadata": {},
   "outputs": [],
   "source": []
  },
  {
   "cell_type": "code",
   "execution_count": null,
   "id": "81c7c5ed",
   "metadata": {},
   "outputs": [],
   "source": []
  }
 ],
 "metadata": {
  "kernelspec": {
   "display_name": " Rkernel ",
   "language": "R",
   "name": "rkernel"
  },
  "language_info": {
   "codemirror_mode": "r",
   "file_extension": ".r",
   "mimetype": "text/x-r-source",
   "name": "R",
   "pygments_lexer": "r",
   "version": "3.6.1"
  }
 },
 "nbformat": 4,
 "nbformat_minor": 5
}
