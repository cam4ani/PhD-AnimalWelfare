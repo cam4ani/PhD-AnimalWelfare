{
 "cells": [
  {
   "cell_type": "code",
   "execution_count": 1,
   "id": "22e34334",
   "metadata": {},
   "outputs": [
    {
     "name": "stderr",
     "output_type": "stream",
     "text": [
      "Loading required package: rjags\n",
      "\n",
      "Warning message:\n",
      "\"package 'rjags' was built under R version 3.6.3\"\n",
      "Loading required package: coda\n",
      "\n",
      "Warning message:\n",
      "\"package 'coda' was built under R version 3.6.3\"\n",
      "Linked to JAGS 4.3.0\n",
      "\n",
      "Loaded modules: basemod,bugs\n",
      "\n",
      "\n",
      "Attaching package: 'R2jags'\n",
      "\n",
      "\n",
      "The following object is masked from 'package:coda':\n",
      "\n",
      "    traceplot\n",
      "\n",
      "\n"
     ]
    }
   ],
   "source": [
    "library(R2jags)"
   ]
  },
  {
   "cell_type": "code",
   "execution_count": 3,
   "id": "d653f85c",
   "metadata": {},
   "outputs": [
    {
     "data": {
      "text/plain": [
       "\n",
       "To cite package 'R2jags' in publications use:\n",
       "\n",
       "  Yu-Sung Su and Masanao Yajima, (2021). R2jags: Using R to Run 'JAGS'.\n",
       "  R package version 0.7-1. https://CRAN.R-project.org/package=R2jags\n",
       "\n",
       "A BibTeX entry for LaTeX users is\n",
       "\n",
       "  @Manual{,\n",
       "    title = {R2jags: Using R to Run 'JAGS'},\n",
       "    author = {Yu-Sung Su and Masanao Yajima,},\n",
       "    year = {2021},\n",
       "    note = {R package version 0.7-1},\n",
       "    url = {https://CRAN.R-project.org/package=R2jags},\n",
       "  }\n",
       "\n",
       "ATTENTION: This citation information has been auto-generated from the\n",
       "package DESCRIPTION file and may need manual editing, see\n",
       "'help(\"citation\")'.\n"
      ]
     },
     "metadata": {},
     "output_type": "display_data"
    }
   ],
   "source": [
    "citation('R2jags')"
   ]
  },
  {
   "cell_type": "raw",
   "id": "77d2c42b",
   "metadata": {},
   "source": [
    "------- NOTE: All CODE taken from supplement of:\n",
    "\n",
    "Nakayama, Shinnosuke & Laskowski, Kate & Klefoth, Thomas & Arlinghaus, Robert. (2016). Between- and within-individual variation in activity increases with water temperature in wild perch. Behavioral Ecology. 27. arw090. 10.1093/beheco/arw090. "
   ]
  },
  {
   "cell_type": "code",
   "execution_count": 7,
   "id": "c7265742",
   "metadata": {},
   "outputs": [],
   "source": [
    "# Define model\n",
    "model<-function(){\n",
    "\n",
    "        # priors\n",
    "        mu_ind0 ~dnorm(0, 0.0001)   # group mean intercept\n",
    "        mu_ind1 ~dnorm(0, 0.0001)   # group mean slope\n",
    "        sigma2_ind0 ~dunif(0, 10) # group variance intercept\n",
    "        sigma2_ind1 ~dunif(0, 10) # group variance slope \n",
    "        rho~dunif(-1, 1) # correlationbetweeninterceptsandslopes\n",
    "\n",
    "        # variance-covariancematrix\n",
    "        Sigma_B[1, 1] <-sigma2_ind0\n",
    "        Sigma_B[2, 2] <-sigma2_ind1S\n",
    "        igma_B[1, 2] <-rho* sigma2_ind0^0.5 * sigma2_ind1^0.5\n",
    "        Sigma_B[2, 1] <-Sigma_B[1, 2]\n",
    "        Tau_B[1:2, 1:2] <-inverse(Sigma_B[,])\n",
    "\n",
    "        cov_ind0_ind1 <-Sigma_B[1, 2]\n",
    "\n",
    "        # heteroscedasticerrora~dunif(0, 10)   \n",
    "        b~dnorm(0, 0.0001)\n",
    "\n",
    "        # autocorrelation\n",
    "        for(ar in 1:7){phi[ar] ~dunif(-1,1)  }\n",
    "\n",
    "        for(n in 1:N) {\n",
    "                B_hat[n, 1] <-mu_ind0\n",
    "                B_hat[n, 2] <-mu_ind1\n",
    "                B[n, 1:2] ~dmnorm(B_hat[n, ], Tau_B[,])\n",
    "                ind0[n] <-B[n, 1] # randomintercept\n",
    "                ind1[n] <-B[n, 2] # randomslope\n",
    "\n",
    "                for(i in 1:nobs[n]){\n",
    "                tau_e[i,n] <-(a*exp(b*x_1[i,n]))^-1   # precision\n",
    "                trend[i,n] <-ind0[n] + ind1[n]*x_1[i,n]  \n",
    "                }\n",
    "\n",
    "                mu_x[2,n] <-trend[2,n] + phi[1]*(y[1,n]-trend[1,n])\n",
    "                mu_x[3,n] <-trend[3,n]+ phi[1]*(y[2,n]-trend[2,n]) + phi[2]*(y[1,n]-trend[1,n])\n",
    "                mu_x[4,n] <-trend[4,n] + phi[1]*(y[3,n]-trend[3,n]) + phi[2]*(y[2,n]-trend[2,n]) + phi[3]*(y[1,n]-trend[1,n])\n",
    "                mu_x[5,n] <-trend[5,n] + phi[1]*(y[4,n]-trend[4,n]) + phi[2]*(y[3,n]-trend[3,n]) + phi[3]*(y[2,n]-trend[2,n]) + phi[4]*(y[1,n]-trend[1,n])\n",
    "                mu_x[6,n] <-trend[6,n] + phi[1]*(y[5,n]-trend[5,n]) + phi[2]*(y[4,n]-trend[4,n]) + phi[3]*(y[3,n]-trend[3,n]) + phi[4]*(y[2,n]-trend[2,n]) +phi[5]*(y[1,n]-trend[1,n])\n",
    "                mu_x[7,n] <-trend[7,n] + phi[1]*(y[6,n]-trend[6,n]) + phi[2]*(y[5,n]-trend[5,n]) + phi[3]*(y[4,n]-trend[4,n]) + phi[4]*(y[3,n]-trend[3,n]) + phi[5]*(y[2,n]-trend[2,n]) + phi[6]*(y[1,n]-trend[1,n])\n",
    "\n",
    "                # likelihood\n",
    "                y[2,n] ~dnorm(mu_x[2,n], tau_e[2,n])\n",
    "                y[3,n] ~dnorm(mu_x[3,n], tau_e[3,n])\n",
    "                y[4,n] ~dnorm(mu_x[4,n], tau_e[4,n])\n",
    "                y[5,n] ~dnorm(mu_x[5,n], tau_e[5,n])\n",
    "                y[6,n] ~dnorm(mu_x[6,n], tau_e[6,n])\n",
    "                y[7,n] ~dnorm(mu_x[7,n], tau_e[7,n])\n",
    "\n",
    "                for(i in 8:nobs[n]){\n",
    "                        mu_x[i,n] <-trend[i,n] +\n",
    "                        phi[1]*(y[i-1,n]-trend[i-1,n]) +\n",
    "                        phi[2]*(y[i-2,n]-trend[i-2,n]) +\n",
    "                        phi[3]*(y[i-3,n]-trend[i-3,n]) + \n",
    "                        phi[4]*(y[i-4,n]-trend[i-4,n]) + \n",
    "                        phi[5]*(y[i-5,n]-trend[i-5,n]) +\n",
    "                        phi[6]*(y[i-6,n]-trend[i-6,n]) + \n",
    "                        phi[7]*(y[i-7,n]-trend[i-7,n])\n",
    "                        y[i,n] ~dnorm(mu_x[i,n], tau_e[i,n])         \n",
    "                        }\n",
    "        }\n",
    "}"
   ]
  },
  {
   "cell_type": "code",
   "execution_count": null,
   "id": "3a97f8fe",
   "metadata": {},
   "outputs": [],
   "source": [
    "\n",
    "# initialvalues\n",
    "init<-list(mu_ind0=1, mu_ind1=1, sigma2_ind0=0.1, sigma2_ind1=0.1, phi=rep(0,7), rho=0, a=1, b=0)\n",
    "inits<-list(init, init, init)\n",
    "\n",
    "# parameterstosave\n",
    "pars<-c('sigma2_ind0','sigma2_ind1', 'cov_ind0_ind1', 'a','b','phi')\n",
    "\n",
    "# data\n",
    "load('daily.activity.Rdata')\n",
    "total.dist.raw.dat<-list(y=total.dist, x_1=temp, N=N, nobs=nobs)\n",
    "\n",
    "# run model\n",
    "model<-jags(data=total.dist.raw.dat, parameters.to.save=pars,model.file=model, n.chains=3, n.iter=600000, n.burnin=100000, n.thin=100)"
   ]
  }
 ],
 "metadata": {
  "kernelspec": {
   "display_name": " Rkernel ",
   "language": "R",
   "name": "rkernel"
  },
  "language_info": {
   "codemirror_mode": "r",
   "file_extension": ".r",
   "mimetype": "text/x-r-source",
   "name": "R",
   "pygments_lexer": "r",
   "version": "3.6.1"
  }
 },
 "nbformat": 4,
 "nbformat_minor": 5
}
