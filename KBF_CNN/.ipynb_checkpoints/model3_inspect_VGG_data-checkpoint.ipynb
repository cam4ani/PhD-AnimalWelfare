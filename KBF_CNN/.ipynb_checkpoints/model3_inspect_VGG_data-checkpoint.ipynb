{
 "cells": [
  {
   "cell_type": "code",
   "execution_count": 1,
   "metadata": {},
   "outputs": [],
   "source": [
    "import os\n",
    "import sys\n",
    "import itertools\n",
    "import math\n",
    "import json\n",
    "import re\n",
    "import random\n",
    "import numpy as np\n",
    "import pandas as pd\n",
    "import matplotlib\n",
    "import matplotlib.pyplot as plt\n",
    "import matplotlib.patches as patches\n",
    "import matplotlib.lines as lines\n",
    "from matplotlib.patches import Polygon\n",
    "import glob\n",
    "import pickle\n",
    "from collections import defaultdict\n",
    "import cv2\n",
    "import tqdm\n",
    "\n",
    "#unbalanced dataset\n",
    "from sklearn.utils import class_weight\n",
    "\n",
    "#import local version of the library of Mask RCNN\n",
    "sys.path.append('C:\\\\Users\\\\camil\\\\Desktop\\\\animals_code\\\\Mask_RCNN')\n",
    "import tensorflow as tf\n",
    "from mrcnn.config import Config\n",
    "from mrcnn import model as modellib, utils\n",
    "from mrcnn import visualize\n",
    "from mrcnn.visualize import display_images, display_top_masks\n",
    "\n",
    "import utils_data_class_and_config\n",
    "\n",
    "#data augmentation import local version of the library imgaug\n",
    "sys.path.append('C:\\\\Users\\\\camil\\\\Desktop\\\\animals_code\\\\imgaug')\n",
    "import imgaug as ia\n",
    "from imgaug import augmenters as iaa\n",
    "\n",
    "%matplotlib inline "
   ]
  },
  {
   "cell_type": "code",
   "execution_count": 2,
   "metadata": {},
   "outputs": [],
   "source": [
    "path_all_annotated_image = os.path.join('datasets','KBF','ANNOTATED_IMAGES')"
   ]
  },
  {
   "cell_type": "markdown",
   "metadata": {},
   "source": [
    "## Configurations"
   ]
  },
  {
   "cell_type": "code",
   "execution_count": 3,
   "metadata": {},
   "outputs": [],
   "source": [
    "config = utils_data_class_and_config.DataConfig()\n",
    "#config.display()"
   ]
  },
  {
   "cell_type": "markdown",
   "metadata": {},
   "source": [
    "## Dataset"
   ]
  },
  {
   "cell_type": "code",
   "execution_count": 4,
   "metadata": {},
   "outputs": [],
   "source": [
    "subset = 'train'"
   ]
  },
  {
   "cell_type": "code",
   "execution_count": 6,
   "metadata": {},
   "outputs": [
    {
     "name": "stdout",
     "output_type": "stream",
     "text": [
      "Image Count: 151\n",
      "Class Count: 5\n",
      "  0. BG                                                \n",
      "  1. F                                                 \n",
      "  2. G                                                 \n",
      "  3. GF                                                \n",
      "  4. R                                                 \n"
     ]
    }
   ],
   "source": [
    "#load data\n",
    "dataset = utils_data_class_and_config.VGG_Dataset()\n",
    "dataset.load_vgg(path_all_annotated_image, subset)\n",
    "\n",
    "#must be called before using the dataset\n",
    "dataset.prepare()\n",
    "\n",
    "print(\"Image Count: {}\".format(len(dataset.image_ids)))\n",
    "print(\"Class Count: {}\".format(dataset.num_classes))\n",
    "for i, info in enumerate(dataset.class_info):\n",
    "    print(\"{:3}. {:50}\".format(i, info['name']))"
   ]
  },
  {
   "cell_type": "markdown",
   "metadata": {},
   "source": [
    "## small understanding of our data"
   ]
  },
  {
   "cell_type": "code",
   "execution_count": 7,
   "metadata": {},
   "outputs": [],
   "source": [
    "#load annotations\n",
    "#annotations = pickle.load(open(os.path.join(path_all_annotated_image,'annotation_'+subset+'.pkl'), 'rb'))\n",
    "annotations = pickle.load(open(os.path.join(path_all_annotated_image,'annotation_'+subset+'.pkl'), 'rb')) #remove_MA = True in config \n",
    "#annotations = pickle.load(open(os.path.join(path_all_annotated_image,'annotation_algue_'+subset+'.pkl'), 'rb')) #remove_MA = False in config "
   ]
  },
  {
   "cell_type": "code",
   "execution_count": 8,
   "metadata": {},
   "outputs": [
    {
     "data": {
      "image/png": "[encoded data removed]",
      "text/plain": [
       "<Figure size 432x288 with 1 Axes>"
      ]
     },
     "metadata": {
      "needs_background": "light"
     },
     "output_type": "display_data"
    }
   ],
   "source": [
    "dico_class_filename = defaultdict(list)\n",
    "for img_info in annotations:\n",
    "    filename_ = img_info['filename']\n",
    "    id_ = img_info['class_id_']\n",
    "    for type_ in id_:\n",
    "        dico_class_filename[type_].append(filename_)\n",
    "        \n",
    "dico_classid_id = pickle.load(open(os.path.join(path_all_annotated_image, 'algo_file','dico_classid_id.pkl'), 'rb'))\n",
    "\n",
    "dico_id_classid = {v:k for k,v in dico_classid_id.items()}\n",
    "dico_class_nbrfilename = {dico_id_classid[k]:len(v) for k,v in dico_class_filename.items()}\n",
    "\n",
    "x = list(dico_class_nbrfilename.keys())\n",
    "y = list(dico_class_nbrfilename.values())\n",
    "fig = plt.figure()\n",
    "ax = plt.subplot(111)\n",
    "width=0.8\n",
    "ax.bar(range(len(x)), y, width=width)\n",
    "ax.set_xticks(np.arange(len(x)) + width/2)\n",
    "ax.set_xticklabels(x, rotation=90);\n",
    "plt.grid()\n",
    "plt.title('number of train images per class');"
   ]
  },
  {
   "cell_type": "code",
   "execution_count": 9,
   "metadata": {},
   "outputs": [
    {
     "data": {
      "image/png": "[encoded data removed]",
      "text/plain": [
       "<Figure size 432x288 with 1 Axes>"
      ]
     },
     "metadata": {
      "needs_background": "light"
     },
     "output_type": "display_data"
    }
   ],
   "source": [
    "dico_class_filename = defaultdict(list)\n",
    "for img_info in annotations:\n",
    "    filename_ = img_info['filename']\n",
    "    id_ = img_info['class_id_']\n",
    "    for type_ in id_:\n",
    "        dico_class_filename[type_].append(filename_)\n",
    "        \n",
    "dico_class_nbrfilename = {dico_id_classid[k]:len(v) for k,v in dico_class_filename.items()}\n",
    "\n",
    "x = list(dico_class_nbrfilename.keys())\n",
    "y = list(dico_class_nbrfilename.values())\n",
    "fig = plt.figure()\n",
    "ax = plt.subplot(111)\n",
    "width=0.8\n",
    "ax.bar(range(len(x)), y, width=width)\n",
    "ax.set_xticks(np.arange(len(x)) + width/2)\n",
    "ax.set_xticklabels(x, rotation=90);\n",
    "plt.grid()\n",
    "plt.title('number of train images per class');"
   ]
  },
  {
   "cell_type": "code",
   "execution_count": 10,
   "metadata": {
    "scrolled": false
   },
   "outputs": [
    {
     "data": {
      "text/plain": [
       "{'F': 21, 'G': 168, 'GF': 5, 'R': 20}"
      ]
     },
     "execution_count": 10,
     "metadata": {},
     "output_type": "execute_result"
    }
   ],
   "source": [
    "dico_class_nbrfilename"
   ]
  },
  {
   "cell_type": "markdown",
   "metadata": {},
   "source": [
    "## Verifying data augmentation on masks"
   ]
  },
  {
   "cell_type": "code",
   "execution_count": 11,
   "metadata": {},
   "outputs": [],
   "source": [
    "MASK_AUGMENTERS = [\"Sequential\", \"SomeOf\", \"OneOf\", \"Sometimes\",\"Fliplr\", \"Flipud\", \"CropAndPad\",\"Affine\", \"PiecewiseAffine\"]\n",
    "\n",
    "def hook(images, augmenter, parents, default):\n",
    "    \"\"\"Determines which augmenters to apply to masks.\"\"\"\n",
    "    return augmenter.__class__.__name__ in MASK_AUGMENTERS"
   ]
  },
  {
   "cell_type": "code",
   "execution_count": 12,
   "metadata": {},
   "outputs": [
    {
     "data": {
      "text/plain": [
       "151"
      ]
     },
     "execution_count": 12,
     "metadata": {},
     "output_type": "execute_result"
    }
   ],
   "source": [
    "len(dataset.image_ids)"
   ]
  },
  {
   "cell_type": "code",
   "execution_count": 13,
   "metadata": {},
   "outputs": [],
   "source": [
    "aug = iaa.Sometimes(0.75,[\n",
    "        \n",
    "    #Sharpen or emboss an image: 'see more the pixels' & contrast\n",
    "    iaa.SomeOf(0.4,[iaa.Sharpen(alpha=(0.5,1), lightness=(1)),\n",
    "                  iaa.Emboss(alpha=(0.5,1), strength=(1.0,1.7)),\n",
    "                   iaa.ContrastNormalization((0.5,1.5))]),\n",
    "    \n",
    "    #dangerous with our data\n",
    "    #Add r values between -30 and 30 to images. In 50% of all images the values differ per channel (3 sampled value). \n",
    "    #In the other 50% of all images the value is the same for all channels: (change color constancy)\n",
    "    #iaa.Add((-20, 20), per_channel=0.5),\n",
    "    #Increase/decrease S (saturation i.e. how colorful it is)\n",
    "    #iaa.WithColorspace(to_colorspace=\"HSV\", from_colorspace=\"RGB\", \n",
    "    #                         children=iaa.WithChannels(1, iaa.Multiply((0.65,1.35)))),\n",
    "    #not good as it can be part of caracteristic for species\n",
    "    #scale image independantly in x and y axis \n",
    "    #iaa.Affine(scale={\"x\": (0.75, 1.25), \"y\": (0.75, 1.25)}),\n",
    "    #distortion\n",
    "    #iaa.PiecewiseAffine(scale=(0.01, 0.03)),\n",
    "    \n",
    "    #darkness/brightness choose one of both technique\n",
    "    iaa.SomeOf(1,[iaa.Multiply((0.75, 1.25)),\n",
    "                  #Increase/decrease V (value i.e. how bright/dark) \n",
    "                  iaa.WithColorspace(to_colorspace=\"HSV\", from_colorspace=\"RGB\", \n",
    "                                         children=iaa.WithChannels(2, iaa.Multiply((0.75, 1.25))))]),\n",
    "    \n",
    "    #flip horizontaly and vertically to make as if the fish was swimimg from both direction and from upside down\n",
    "    iaa.Fliplr(0.5),\n",
    "    iaa.Flipud(0.2),\n",
    "    iaa.Sometimes(0.3,iaa.Affine(rotate=(-75, 75))),\n",
    "    #iaa.Sometimes(0.5,iaa.SomeOf(1, [iaa.Affine(rotate=15),iaa.Affine(rotate=30),iaa.Affine(rotate=45),\n",
    "    #                                 iaa.Affine(rotate=5),iaa.Affine(rotate=10),iaa.Affine(rotate=25),\n",
    "    #                                 iaa.Affine(rotate=60),iaa.Affine(rotate=75),iaa.Affine(rotate=0)]))\n",
    "    \n",
    "    #weather: Clouds, Fog, Snowflakes & noise #iaa.Fog(),iaa.Snowflakes(density=(0.005, 0.025),flake_size=(0.2, 1.0))\n",
    "    #noise: \n",
    "    iaa.Sometimes(0.2,iaa.AdditiveGaussianNoise(scale=0.007*255))\n",
    "    #AttributeError: 'CloudLayer' object has no attribute 'density_min'\n",
    "    #iaa.Sometimes(0.2,[iaa.SomeOf(1,[iaa.Clouds(),\n",
    "    #                                 iaa.Snowflakes(density=(0.005, 0.025),flake_size=(0.2, 1.0))])]),\n",
    "])"
   ]
  },
  {
   "cell_type": "code",
   "execution_count": null,
   "metadata": {
    "scrolled": false
   },
   "outputs": [
    {
     "name": "stdout",
     "output_type": "stream",
     "text": [
      "-------------------------------- 95\n",
      "112.jpg 95\n"
     ]
    },
    {
     "data": {
      "image/png": "[encoded data removed]",
      "text/plain": [
       "<Figure size 1008x360 with 5 Axes>"
      ]
     },
     "metadata": {
      "needs_background": "light"
     },
     "output_type": "display_data"
    },
    {
     "name": "stdout",
     "output_type": "stream",
     "text": [
      "-------------------------------- 23\n",
      "30.jpg 23\n"
     ]
    }
   ],
   "source": [
    "#show A random sample\n",
    "image_ids = np.random.choice(dataset.image_ids, 10) #len(dataset.image_ids))\n",
    "for image_id in image_ids:\n",
    "    \n",
    "    print('--------------------------------', image_id)\n",
    "    #load data\n",
    "    image = dataset.load_image(image_id)\n",
    "    filename_ = dataset.load_filename(image_id) \n",
    "    mask, class_ids = dataset.load_mask(image_id)\n",
    "\n",
    "    #augment\n",
    "    det = aug.to_deterministic()    \n",
    "    image = det.augment_image(image)\n",
    "    # Change mask to np.uint8 because imgaug doesn't support np.bool\n",
    "    mask = det.augment_image(mask.astype(np.uint8),hooks=ia.HooksImages(activator=hook))\n",
    "    print(filename_, image_id)\n",
    "    visualize.display_top_masks(image, mask, class_ids, dataset.class_names)"
   ]
  },
  {
   "cell_type": "code",
   "execution_count": null,
   "metadata": {},
   "outputs": [],
   "source": []
  },
  {
   "cell_type": "code",
   "execution_count": null,
   "metadata": {},
   "outputs": [],
   "source": []
  },
  {
   "cell_type": "code",
   "execution_count": null,
   "metadata": {},
   "outputs": [],
   "source": []
  },
  {
   "cell_type": "code",
   "execution_count": null,
   "metadata": {},
   "outputs": [],
   "source": []
  },
  {
   "cell_type": "code",
   "execution_count": null,
   "metadata": {},
   "outputs": [],
   "source": []
  },
  {
   "cell_type": "code",
   "execution_count": null,
   "metadata": {},
   "outputs": [],
   "source": []
  },
  {
   "cell_type": "code",
   "execution_count": null,
   "metadata": {},
   "outputs": [],
   "source": []
  }
 ],
 "metadata": {
  "kernelspec": {
   "display_name": "Python 3",
   "language": "python",
   "name": "python3"
  },
  "language_info": {
   "codemirror_mode": {
    "name": "ipython",
    "version": 3
   },
   "file_extension": ".py",
   "mimetype": "text/x-python",
   "name": "python",
   "nbconvert_exporter": "python",
   "pygments_lexer": "ipython3",
   "version": "3.8.5"
  }
 },
 "nbformat": 4,
 "nbformat_minor": 2
}
