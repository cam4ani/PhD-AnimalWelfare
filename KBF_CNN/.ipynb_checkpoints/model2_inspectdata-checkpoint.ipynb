{
 "cells": [
  {
   "cell_type": "code",
   "execution_count": 1,
   "metadata": {},
   "outputs": [],
   "source": [
    "import json\n",
    "import numpy as np\n",
    "import os\n",
    "import pandas as pd\n",
    "import cv2\n",
    "import tqdm\n",
    "import pickle\n",
    "import random\n",
    "import sys\n",
    "import re\n",
    "import datetime as dt\n",
    "import glob\n",
    "import shutil\n",
    "import collections\n",
    "import operator\n",
    "%matplotlib inline\n",
    "from matplotlib import pyplot as plt"
   ]
  },
  {
   "cell_type": "code",
   "execution_count": 3,
   "metadata": {},
   "outputs": [],
   "source": [
    "path_all_annotated_image = os.path.join('datasets','KBF','ANNOTATED_IMAGES')"
   ]
  },
  {
   "cell_type": "code",
   "execution_count": 4,
   "metadata": {},
   "outputs": [
    {
     "name": "stdout",
     "output_type": "stream",
     "text": [
      "you are on windows, so pycocotools can not be installed\n"
     ]
    }
   ],
   "source": [
    "PACKAGE_PARENT = '..'\n",
    "SCRIPT_DIR = os.path.dirname(os.path.realpath(os.path.join(os.getcwd(), os.path.expanduser('__file__'))))\n",
    "sys.path.append(os.path.normpath(os.path.join(SCRIPT_DIR, PACKAGE_PARENT)))\n",
    "\n",
    "from UTILS.utils import from_vggbbox_get_vggpolygon, lists_remove_in1"
   ]
  },
  {
   "cell_type": "code",
   "execution_count": 5,
   "metadata": {},
   "outputs": [],
   "source": [
    "#each time new images are annotated, copy all images from the folder (i.e. even the one which were not annotated) and put\n",
    "#the annotation files in the annotations folder. We will here remove (put into no_regions fodler) all images which does not have\n",
    "#one or more regions"
   ]
  },
  {
   "cell_type": "markdown",
   "metadata": {},
   "source": [
    "# Download annotation info"
   ]
  },
  {
   "cell_type": "code",
   "execution_count": 6,
   "metadata": {},
   "outputs": [
    {
     "name": "stdout",
     "output_type": "stream",
     "text": [
      "(177, 8)\n"
     ]
    },
    {
     "data": {
      "text/html": [
       "<div>\n",
       "<style scoped>\n",
       "    .dataframe tbody tr th:only-of-type {\n",
       "        vertical-align: middle;\n",
       "    }\n",
       "\n",
       "    .dataframe tbody tr th {\n",
       "        vertical-align: top;\n",
       "    }\n",
       "\n",
       "    .dataframe thead th {\n",
       "        text-align: right;\n",
       "    }\n",
       "</style>\n",
       "<table border=\"1\" class=\"dataframe\">\n",
       "  <thead>\n",
       "    <tr style=\"text-align: right;\">\n",
       "      <th></th>\n",
       "      <th>filename</th>\n",
       "      <th>size</th>\n",
       "      <th>regions</th>\n",
       "      <th>file_attributes</th>\n",
       "      <th>annotations_name</th>\n",
       "      <th>nbr_regions</th>\n",
       "      <th>no_type</th>\n",
       "      <th>path</th>\n",
       "    </tr>\n",
       "  </thead>\n",
       "  <tbody>\n",
       "    <tr>\n",
       "      <th>0</th>\n",
       "      <td>0.jpg</td>\n",
       "      <td>70631</td>\n",
       "      <td>[{'shape_attributes': {'name': 'polygon', 'all...</td>\n",
       "      <td>{}</td>\n",
       "      <td>via_region_data (14).json</td>\n",
       "      <td>2</td>\n",
       "      <td>False</td>\n",
       "      <td>datasets\\KBF\\ANNOTATED_IMAGES\\0.jpg</td>\n",
       "    </tr>\n",
       "    <tr>\n",
       "      <th>1</th>\n",
       "      <td>1.jpg</td>\n",
       "      <td>65599</td>\n",
       "      <td>[{'shape_attributes': {'name': 'polygon', 'all...</td>\n",
       "      <td>{}</td>\n",
       "      <td>via_region_data (14).json</td>\n",
       "      <td>1</td>\n",
       "      <td>False</td>\n",
       "      <td>datasets\\KBF\\ANNOTATED_IMAGES\\1.jpg</td>\n",
       "    </tr>\n",
       "    <tr>\n",
       "      <th>2</th>\n",
       "      <td>2.jpg</td>\n",
       "      <td>66715</td>\n",
       "      <td>[{'shape_attributes': {'name': 'polygon', 'all...</td>\n",
       "      <td>{}</td>\n",
       "      <td>via_region_data (14).json</td>\n",
       "      <td>1</td>\n",
       "      <td>False</td>\n",
       "      <td>datasets\\KBF\\ANNOTATED_IMAGES\\2.jpg</td>\n",
       "    </tr>\n",
       "  </tbody>\n",
       "</table>\n",
       "</div>"
      ],
      "text/plain": [
       "  filename   size                                            regions  \\\n",
       "0    0.jpg  70631  [{'shape_attributes': {'name': 'polygon', 'all...   \n",
       "1    1.jpg  65599  [{'shape_attributes': {'name': 'polygon', 'all...   \n",
       "2    2.jpg  66715  [{'shape_attributes': {'name': 'polygon', 'all...   \n",
       "\n",
       "  file_attributes           annotations_name  nbr_regions  no_type  \\\n",
       "0              {}  via_region_data (14).json            2    False   \n",
       "1              {}  via_region_data (14).json            1    False   \n",
       "2              {}  via_region_data (14).json            1    False   \n",
       "\n",
       "                                  path  \n",
       "0  datasets\\KBF\\ANNOTATED_IMAGES\\0.jpg  \n",
       "1  datasets\\KBF\\ANNOTATED_IMAGES\\1.jpg  \n",
       "2  datasets\\KBF\\ANNOTATED_IMAGES\\2.jpg  "
      ]
     },
     "execution_count": 6,
     "metadata": {},
     "output_type": "execute_result"
    }
   ],
   "source": [
    "df = pd.read_csv(os.path.join(path_all_annotated_image,'image_info.csv'), index_col=False, sep=';')\n",
    "print(df.shape)\n",
    "df.head(3)"
   ]
  },
  {
   "cell_type": "code",
   "execution_count": 7,
   "metadata": {},
   "outputs": [
    {
     "data": {
      "text/plain": [
       "False    100.0\n",
       "Name: img_aug, dtype: float64"
      ]
     },
     "execution_count": 7,
     "metadata": {},
     "output_type": "execute_result"
    }
   ],
   "source": [
    "df['img_aug'] = df['filename'].map(lambda x: 'augmented' in x)\n",
    "df['img_aug'].value_counts(normalize=True)*100"
   ]
  },
  {
   "cell_type": "markdown",
   "metadata": {},
   "source": [
    "# Mean pixel value of images"
   ]
  },
  {
   "cell_type": "code",
   "execution_count": 8,
   "metadata": {},
   "outputs": [
    {
     "data": {
      "text/plain": [
       "177"
      ]
     },
     "execution_count": 8,
     "metadata": {},
     "output_type": "execute_result"
    }
   ],
   "source": [
    "li_img_path = df['path']\n",
    "len(li_img_path)"
   ]
  },
  {
   "cell_type": "code",
   "execution_count": null,
   "metadata": {},
   "outputs": [
    {
     "name": "stderr",
     "output_type": "stream",
     "text": [
      " 52%|██████████████████████████████████████████                                       | 92/177 [01:10<01:00,  1.40it/s]"
     ]
    }
   ],
   "source": [
    "li_r = []\n",
    "li_g = []\n",
    "li_b = []\n",
    "for img_path in tqdm.tqdm(li_img_path):\n",
    "    img = cv2.imread(img_path)\n",
    "    b,g,r = cv2.split(img)          \n",
    "    img = cv2.merge([r,g,b])\n",
    "    li_r.append(np.mean([y for x in img[:,:,0] for y in x]))\n",
    "    li_g.append(np.mean([y for x in img[:,:,1] for y in x]))\n",
    "    li_b.append(np.mean([y for x in img[:,:,2] for y in x]))"
   ]
  },
  {
   "cell_type": "code",
   "execution_count": null,
   "metadata": {},
   "outputs": [],
   "source": [
    "np.mean(li_r), np.mean(li_g), np.mean(li_b) #from dog: (124.48473297559339, 116.92511270309063, 102.7271572572251)"
   ]
  },
  {
   "cell_type": "code",
   "execution_count": null,
   "metadata": {},
   "outputs": [],
   "source": [
    "img = cv2.imread(li_img_path[0])\n",
    "b,g,r = cv2.split(img)          \n",
    "img = cv2.merge([r,g,b])\n",
    "plt.imshow(img);\n",
    "m_r = np.mean([y for x in img[:,:,0] for y in x])\n",
    "m_g = np.mean([y for x in img[:,:,1] for y in x])\n",
    "m_b = np.mean([y for x in img[:,:,2] for y in x])\n",
    "m_r, m_g, m_b"
   ]
  },
  {
   "cell_type": "code",
   "execution_count": null,
   "metadata": {},
   "outputs": [],
   "source": []
  },
  {
   "cell_type": "code",
   "execution_count": null,
   "metadata": {},
   "outputs": [],
   "source": []
  },
  {
   "cell_type": "code",
   "execution_count": null,
   "metadata": {},
   "outputs": [],
   "source": []
  },
  {
   "cell_type": "code",
   "execution_count": null,
   "metadata": {},
   "outputs": [],
   "source": []
  },
  {
   "cell_type": "code",
   "execution_count": null,
   "metadata": {},
   "outputs": [],
   "source": []
  },
  {
   "cell_type": "code",
   "execution_count": null,
   "metadata": {},
   "outputs": [],
   "source": []
  }
 ],
 "metadata": {
  "kernelspec": {
   "display_name": "Python 3",
   "language": "python",
   "name": "python3"
  },
  "language_info": {
   "codemirror_mode": {
    "name": "ipython",
    "version": 3
   },
   "file_extension": ".py",
   "mimetype": "text/x-python",
   "name": "python",
   "nbconvert_exporter": "python",
   "pygments_lexer": "ipython3",
   "version": "3.8.5"
  }
 },
 "nbformat": 4,
 "nbformat_minor": 2
}
