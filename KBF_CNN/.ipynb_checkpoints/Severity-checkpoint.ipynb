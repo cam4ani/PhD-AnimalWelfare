{
 "cells": [
  {
   "cell_type": "code",
   "execution_count": 1,
   "metadata": {},
   "outputs": [],
   "source": [
    "import os\n",
    "import cv2\n",
    "import pandas as pd\n",
    "import sys\n",
    "import re\n",
    "import numpy as np\n",
    "from sklearn.model_selection import train_test_split\n",
    "from sklearn.metrics import mean_squared_error\n",
    "\n",
    "#cnn\n",
    "import tensorflow as tf\n",
    "from tensorflow import keras\n",
    "from tensorflow.keras import layers\n",
    "from tensorflow.keras import Model\n",
    "from tensorflow.keras.optimizers import RMSprop\n",
    "from tensorflow.keras.preprocessing.image import ImageDataGenerator\n",
    "from tensorflow.keras.applications import VGG16\n",
    "\n",
    "#plot\n",
    "import matplotlib.pyplot as plt\n",
    "import seaborn as sns"
   ]
  },
  {
   "cell_type": "code",
   "execution_count": 2,
   "metadata": {},
   "outputs": [],
   "source": [
    "PACKAGE_PARENT = '../'\n",
    "SCRIPT_DIR = os.path.dirname(os.path.realpath(os.path.join(os.getcwd(), os.path.expanduser('__file__'))))\n",
    "sys.path.append(os.path.normpath(os.path.join(SCRIPT_DIR, PACKAGE_PARENT)))\n",
    "import config_origins as config"
   ]
  },
  {
   "cell_type": "code",
   "execution_count": 3,
   "metadata": {},
   "outputs": [],
   "source": [
    "path_extracted_HA = config.path_extracted_HA\n",
    "path_extracted_data = config.path_extracted_data\n",
    "path_save_model_info = os.path.join(path_extracted_data,'KBF','LOGS')"
   ]
  },
  {
   "cell_type": "raw",
   "metadata": {},
   "source": [
    "https://github.com/Vickyilango/Predicting-continuous-variables-with-Images/blob/master/Predicting%20continuous%20variables%20with%20Images.ipynb"
   ]
  },
  {
   "cell_type": "markdown",
   "metadata": {},
   "source": [
    "# Download data"
   ]
  },
  {
   "cell_type": "code",
   "execution_count": 4,
   "metadata": {},
   "outputs": [
    {
     "name": "stdout",
     "output_type": "stream",
     "text": [
      "(894, 13)\n"
     ]
    },
    {
     "data": {
      "text/html": [
       "<div>\n",
       "<style scoped>\n",
       "    .dataframe tbody tr th:only-of-type {\n",
       "        vertical-align: middle;\n",
       "    }\n",
       "\n",
       "    .dataframe tbody tr th {\n",
       "        vertical-align: top;\n",
       "    }\n",
       "\n",
       "    .dataframe thead th {\n",
       "        text-align: right;\n",
       "    }\n",
       "</style>\n",
       "<table border=\"1\" class=\"dataframe\">\n",
       "  <thead>\n",
       "    <tr style=\"text-align: right;\">\n",
       "      <th></th>\n",
       "      <th>initial_path_img</th>\n",
       "      <th>actual_path_img</th>\n",
       "      <th>imageID</th>\n",
       "      <th>HAID</th>\n",
       "      <th>random_order1</th>\n",
       "      <th>severity</th>\n",
       "      <th>has_gap</th>\n",
       "      <th>BirdID</th>\n",
       "      <th>uncertainty (0:certain:1 random)</th>\n",
       "      <th>Unnamed: 9</th>\n",
       "      <th>Info</th>\n",
       "      <th>PenID</th>\n",
       "      <th>FocalLegringName</th>\n",
       "    </tr>\n",
       "  </thead>\n",
       "  <tbody>\n",
       "    <tr>\n",
       "      <th>0</th>\n",
       "      <td>G:\\VPHI\\Welfare\\2- Research Projects\\OFHE2.Ori...</td>\n",
       "      <td>G:\\VPHI\\Welfare\\2- Research Projects\\OFHE2.Ori...</td>\n",
       "      <td>0.0</td>\n",
       "      <td>HA4</td>\n",
       "      <td>294.0</td>\n",
       "      <td>20</td>\n",
       "      <td>0.0</td>\n",
       "      <td>57green5pp</td>\n",
       "      <td>NaN</td>\n",
       "      <td>NaN</td>\n",
       "      <td>[, 57, green, 5, pp]</td>\n",
       "      <td>pen5</td>\n",
       "      <td>57green</td>\n",
       "    </tr>\n",
       "    <tr>\n",
       "      <th>1</th>\n",
       "      <td>G:\\VPHI\\Welfare\\2- Research Projects\\OFHE2.Ori...</td>\n",
       "      <td>G:\\VPHI\\Welfare\\2- Research Projects\\OFHE2.Ori...</td>\n",
       "      <td>1.0</td>\n",
       "      <td>HA4</td>\n",
       "      <td>461.0</td>\n",
       "      <td>18</td>\n",
       "      <td>0.0</td>\n",
       "      <td>56orange12sg</td>\n",
       "      <td>NaN</td>\n",
       "      <td>NaN</td>\n",
       "      <td>[, 56, orange, 12, sg]</td>\n",
       "      <td>pen12</td>\n",
       "      <td>56orange</td>\n",
       "    </tr>\n",
       "    <tr>\n",
       "      <th>2</th>\n",
       "      <td>G:\\VPHI\\Welfare\\2- Research Projects\\OFHE2.Ori...</td>\n",
       "      <td>G:\\VPHI\\Welfare\\2- Research Projects\\OFHE2.Ori...</td>\n",
       "      <td>2.0</td>\n",
       "      <td>HA3</td>\n",
       "      <td>78.0</td>\n",
       "      <td>0</td>\n",
       "      <td>0.0</td>\n",
       "      <td>29black8wp</td>\n",
       "      <td>NaN</td>\n",
       "      <td>NaN</td>\n",
       "      <td>[, 29, black, 8, wp]</td>\n",
       "      <td>pen8</td>\n",
       "      <td>29black</td>\n",
       "    </tr>\n",
       "  </tbody>\n",
       "</table>\n",
       "</div>"
      ],
      "text/plain": [
       "                                    initial_path_img  \\\n",
       "0  G:\\VPHI\\Welfare\\2- Research Projects\\OFHE2.Ori...   \n",
       "1  G:\\VPHI\\Welfare\\2- Research Projects\\OFHE2.Ori...   \n",
       "2  G:\\VPHI\\Welfare\\2- Research Projects\\OFHE2.Ori...   \n",
       "\n",
       "                                     actual_path_img  imageID HAID  \\\n",
       "0  G:\\VPHI\\Welfare\\2- Research Projects\\OFHE2.Ori...      0.0  HA4   \n",
       "1  G:\\VPHI\\Welfare\\2- Research Projects\\OFHE2.Ori...      1.0  HA4   \n",
       "2  G:\\VPHI\\Welfare\\2- Research Projects\\OFHE2.Ori...      2.0  HA3   \n",
       "\n",
       "   random_order1  severity  has_gap        BirdID  \\\n",
       "0          294.0        20      0.0    57green5pp   \n",
       "1          461.0        18      0.0  56orange12sg   \n",
       "2           78.0         0      0.0    29black8wp   \n",
       "\n",
       "  uncertainty (0:certain:1 random) Unnamed: 9                    Info  PenID  \\\n",
       "0                              NaN        NaN    [, 57, green, 5, pp]   pen5   \n",
       "1                              NaN        NaN  [, 56, orange, 12, sg]  pen12   \n",
       "2                              NaN        NaN    [, 29, black, 8, wp]   pen8   \n",
       "\n",
       "  FocalLegringName  \n",
       "0          57green  \n",
       "1         56orange  \n",
       "2          29black  "
      ]
     },
     "execution_count": 4,
     "metadata": {},
     "output_type": "execute_result"
    }
   ],
   "source": [
    "#KBF\n",
    "df_KBF = pd.read_csv(os.path.join(path_extracted_HA, 'KBF_ALL_RECORDS.csv'), sep=';', engine='python') \n",
    "df_KBF = df_KBF[~df_KBF['BirdID'].isnull()]\n",
    "df_KBF['Info'] = df_KBF['BirdID'].map(lambda x: re.split('(\\d+)',x.strip(' ')))\n",
    "df_KBF['PenID'] = df_KBF['Info'].map(lambda x: 'pen'+str(int(x[3])))\n",
    "df_KBF['FocalLegringName'] = df_KBF['Info'].map(lambda x: str(int(x[1]))+str(x[2]))\n",
    "print(df_KBF.shape)\n",
    "df_KBF.head(3)"
   ]
  },
  {
   "cell_type": "code",
   "execution_count": 5,
   "metadata": {},
   "outputs": [],
   "source": [
    "#split into train and test\n",
    "df_train, df_test = train_test_split(df_KBF[['actual_path_img','severity']], test_size = 0.10)"
   ]
  },
  {
   "cell_type": "code",
   "execution_count": 6,
   "metadata": {},
   "outputs": [
    {
     "data": {
      "image/png": "[encoded data removed]",
      "text/plain": [
       "<Figure size 432x288 with 1 Axes>"
      ]
     },
     "metadata": {
      "needs_background": "light"
     },
     "output_type": "display_data"
    }
   ],
   "source": [
    "plt.hist(df_KBF['severity']);"
   ]
  },
  {
   "cell_type": "code",
   "execution_count": 7,
   "metadata": {},
   "outputs": [
    {
     "name": "stdout",
     "output_type": "stream",
     "text": [
      "(1437, 939, 3)\n",
      "(1405, 922, 3)\n",
      "(1421, 826, 3)\n"
     ]
    },
    {
     "data": {
      "image/png": "[encoded data removed]",
      "text/plain": [
       "<Figure size 432x288 with 1 Axes>"
      ]
     },
     "metadata": {},
     "output_type": "display_data"
    }
   ],
   "source": [
    "li_path = df_KBF['actual_path_img'].tolist()\n",
    "for path_ in li_path[0:3]:\n",
    "    img = cv2.imread(path_)\n",
    "    print(img.shape)\n",
    "    plt.imshow(img)\n",
    "    plt.xticks([]) #remove xlabel annotations\n",
    "    plt.yticks([])"
   ]
  },
  {
   "cell_type": "code",
   "execution_count": 8,
   "metadata": {},
   "outputs": [],
   "source": [
    "target_size_ = (224,224)\n",
    "input_shape_ = (224,224,3)"
   ]
  },
  {
   "cell_type": "markdown",
   "metadata": {},
   "source": [
    "# Train CNN"
   ]
  },
  {
   "cell_type": "code",
   "execution_count": 9,
   "metadata": {},
   "outputs": [],
   "source": [
    "pre_trained_model = VGG16(input_shape = input_shape_, include_top = False, weights = 'imagenet')\n",
    "# Make all the layers in the pre-trained model non-trainable\n",
    "#for layer in pre_trained_model.layers:\n",
    "#    layer.trainable = False\n",
    "#OR\n",
    "#pre_trained_model = VGG16(include_top = True, weights = 'imagenet')"
   ]
  },
  {
   "cell_type": "code",
   "execution_count": 10,
   "metadata": {},
   "outputs": [
    {
     "name": "stdout",
     "output_type": "stream",
     "text": [
      "last layer output shape:  (None, 14, 14, 512)\n"
     ]
    }
   ],
   "source": [
    "last_layer = pre_trained_model.get_layer('block5_conv3')\n",
    "print('last layer output shape: ', last_layer.output_shape)\n",
    "last_output = last_layer.output"
   ]
  },
  {
   "cell_type": "code",
   "execution_count": 11,
   "metadata": {},
   "outputs": [],
   "source": [
    "# As we have a continuous output we will flatten the output layer to 1 dimension\n",
    "x = layers.Flatten()(last_output)\n",
    "# and add a fully connected layer with 1,024 hidden units and ReLU activation\n",
    "x = layers.Dense(1024, activation='relu')(x)\n",
    "# Add a dropout rate of 0.2\n",
    "x = layers.Dropout(0.2)(x)                  \n",
    "# Add a final sigmoid layer for classification\n",
    "x = layers.Dense  (1, activation='linear')(x)           \n",
    "\n",
    "model = Model(pre_trained_model.input, x) \n",
    "\n",
    "model.compile(optimizer = RMSprop(lr=0.00005), \n",
    "              loss = 'mean_squared_error',\n",
    "              metrics = ['mean_absolute_percentage_error','mean_absolute_error']) \n",
    "\n",
    "#model.summary()"
   ]
  },
  {
   "cell_type": "code",
   "execution_count": 12,
   "metadata": {},
   "outputs": [
    {
     "name": "stderr",
     "output_type": "stream",
     "text": [
      "--- Logging error ---\n",
      "Traceback (most recent call last):\n",
      "  File \"C:\\Users\\camil\\anaconda3\\lib\\logging\\__init__.py\", line 1081, in emit\n",
      "    msg = self.format(record)\n",
      "  File \"C:\\Users\\camil\\anaconda3\\lib\\logging\\__init__.py\", line 925, in format\n",
      "    return fmt.format(record)\n",
      "  File \"C:\\Users\\camil\\anaconda3\\lib\\logging\\__init__.py\", line 664, in format\n",
      "    record.message = record.getMessage()\n",
      "  File \"C:\\Users\\camil\\anaconda3\\lib\\logging\\__init__.py\", line 369, in getMessage\n",
      "    msg = msg % self.args\n",
      "TypeError: not all arguments converted during string formatting\n",
      "Call stack:\n",
      "  File \"C:\\Users\\camil\\anaconda3\\lib\\runpy.py\", line 194, in _run_module_as_main\n",
      "    return _run_code(code, main_globals, None,\n",
      "  File \"C:\\Users\\camil\\anaconda3\\lib\\runpy.py\", line 87, in _run_code\n",
      "    exec(code, run_globals)\n",
      "  File \"C:\\Users\\camil\\anaconda3\\lib\\site-packages\\ipykernel_launcher.py\", line 16, in <module>\n",
      "    app.launch_new_instance()\n",
      "  File \"C:\\Users\\camil\\anaconda3\\lib\\site-packages\\traitlets\\config\\application.py\", line 845, in launch_instance\n",
      "    app.start()\n",
      "  File \"C:\\Users\\camil\\anaconda3\\lib\\site-packages\\ipykernel\\kernelapp.py\", line 612, in start\n",
      "    self.io_loop.start()\n",
      "  File \"C:\\Users\\camil\\anaconda3\\lib\\site-packages\\tornado\\platform\\asyncio.py\", line 149, in start\n",
      "    self.asyncio_loop.run_forever()\n",
      "  File \"C:\\Users\\camil\\anaconda3\\lib\\asyncio\\base_events.py\", line 570, in run_forever\n",
      "    self._run_once()\n",
      "  File \"C:\\Users\\camil\\anaconda3\\lib\\asyncio\\base_events.py\", line 1859, in _run_once\n",
      "    handle._run()\n",
      "  File \"C:\\Users\\camil\\anaconda3\\lib\\asyncio\\events.py\", line 81, in _run\n",
      "    self._context.run(self._callback, *self._args)\n",
      "  File \"C:\\Users\\camil\\anaconda3\\lib\\site-packages\\tornado\\ioloop.py\", line 690, in <lambda>\n",
      "    lambda f: self._run_callback(functools.partial(callback, future))\n",
      "  File \"C:\\Users\\camil\\anaconda3\\lib\\site-packages\\tornado\\ioloop.py\", line 743, in _run_callback\n",
      "    ret = callback()\n",
      "  File \"C:\\Users\\camil\\anaconda3\\lib\\site-packages\\tornado\\gen.py\", line 787, in inner\n",
      "    self.run()\n",
      "  File \"C:\\Users\\camil\\anaconda3\\lib\\site-packages\\tornado\\gen.py\", line 748, in run\n",
      "    yielded = self.gen.send(value)\n",
      "  File \"C:\\Users\\camil\\anaconda3\\lib\\site-packages\\ipykernel\\kernelbase.py\", line 378, in dispatch_queue\n",
      "    yield self.process_one()\n",
      "  File \"C:\\Users\\camil\\anaconda3\\lib\\site-packages\\tornado\\gen.py\", line 225, in wrapper\n",
      "    runner = Runner(result, future, yielded)\n",
      "  File \"C:\\Users\\camil\\anaconda3\\lib\\site-packages\\tornado\\gen.py\", line 714, in __init__\n",
      "    self.run()\n",
      "  File \"C:\\Users\\camil\\anaconda3\\lib\\site-packages\\tornado\\gen.py\", line 748, in run\n",
      "    yielded = self.gen.send(value)\n",
      "  File \"C:\\Users\\camil\\anaconda3\\lib\\site-packages\\ipykernel\\kernelbase.py\", line 362, in process_one\n",
      "    yield gen.maybe_future(dispatch(*args))\n",
      "  File \"C:\\Users\\camil\\anaconda3\\lib\\site-packages\\tornado\\gen.py\", line 209, in wrapper\n",
      "    yielded = next(result)\n",
      "  File \"C:\\Users\\camil\\anaconda3\\lib\\site-packages\\ipykernel\\kernelbase.py\", line 265, in dispatch_shell\n",
      "    yield gen.maybe_future(handler(stream, idents, msg))\n",
      "  File \"C:\\Users\\camil\\anaconda3\\lib\\site-packages\\tornado\\gen.py\", line 209, in wrapper\n",
      "    yielded = next(result)\n",
      "  File \"C:\\Users\\camil\\anaconda3\\lib\\site-packages\\ipykernel\\kernelbase.py\", line 540, in execute_request\n",
      "    self.do_execute(\n",
      "  File \"C:\\Users\\camil\\anaconda3\\lib\\site-packages\\tornado\\gen.py\", line 209, in wrapper\n",
      "    yielded = next(result)\n",
      "  File \"C:\\Users\\camil\\anaconda3\\lib\\site-packages\\ipykernel\\ipkernel.py\", line 302, in do_execute\n",
      "    res = shell.run_cell(code, store_history=store_history, silent=silent)\n",
      "  File \"C:\\Users\\camil\\anaconda3\\lib\\site-packages\\ipykernel\\zmqshell.py\", line 539, in run_cell\n",
      "    return super(ZMQInteractiveShell, self).run_cell(*args, **kwargs)\n",
      "  File \"C:\\Users\\camil\\anaconda3\\lib\\site-packages\\IPython\\core\\interactiveshell.py\", line 2877, in run_cell\n",
      "    result = self._run_cell(\n",
      "  File \"C:\\Users\\camil\\anaconda3\\lib\\site-packages\\IPython\\core\\interactiveshell.py\", line 2923, in _run_cell\n",
      "    return runner(coro)\n",
      "  File \"C:\\Users\\camil\\anaconda3\\lib\\site-packages\\IPython\\core\\async_helpers.py\", line 68, in _pseudo_sync_runner\n",
      "    coro.send(None)\n",
      "  File \"C:\\Users\\camil\\anaconda3\\lib\\site-packages\\IPython\\core\\interactiveshell.py\", line 3146, in run_cell_async\n",
      "    has_raised = await self.run_ast_nodes(code_ast.body, cell_name,\n",
      "  File \"C:\\Users\\camil\\anaconda3\\lib\\site-packages\\IPython\\core\\interactiveshell.py\", line 3338, in run_ast_nodes\n",
      "    if (await self.run_code(code, result,  async_=asy)):\n",
      "  File \"C:\\Users\\camil\\anaconda3\\lib\\site-packages\\IPython\\core\\interactiveshell.py\", line 3418, in run_code\n",
      "    exec(code_obj, self.user_global_ns, self.user_ns)\n",
      "  File \"<ipython-input-12-81ed970733a8>\", line 11, in <module>\n",
      "    train_generator=datagen.flow_from_dataframe(\n",
      "  File \"C:\\Users\\camil\\anaconda3\\lib\\site-packages\\tensorflow\\python\\keras\\preprocessing\\image.py\", line 1071, in flow_from_dataframe\n",
      "    tf_logging.warn(\n",
      "  File \"C:\\Users\\camil\\anaconda3\\lib\\site-packages\\tensorflow\\python\\platform\\tf_logging.py\", line 173, in warn\n",
      "    get_logger().warning(msg, *args, **kwargs)\n",
      "Message: '`class_mode` \"other\" is deprecated, please use `class_mode` \"raw\".'\n",
      "Arguments: (<class 'DeprecationWarning'>,)\n"
     ]
    },
    {
     "name": "stdout",
     "output_type": "stream",
     "text": [
      "Found 644 validated image filenames.\n"
     ]
    },
    {
     "name": "stderr",
     "output_type": "stream",
     "text": [
      "--- Logging error ---\n",
      "Traceback (most recent call last):\n",
      "  File \"C:\\Users\\camil\\anaconda3\\lib\\logging\\__init__.py\", line 1081, in emit\n",
      "    msg = self.format(record)\n",
      "  File \"C:\\Users\\camil\\anaconda3\\lib\\logging\\__init__.py\", line 925, in format\n",
      "    return fmt.format(record)\n",
      "  File \"C:\\Users\\camil\\anaconda3\\lib\\logging\\__init__.py\", line 664, in format\n",
      "    record.message = record.getMessage()\n",
      "  File \"C:\\Users\\camil\\anaconda3\\lib\\logging\\__init__.py\", line 369, in getMessage\n",
      "    msg = msg % self.args\n",
      "TypeError: not all arguments converted during string formatting\n",
      "Call stack:\n",
      "  File \"C:\\Users\\camil\\anaconda3\\lib\\runpy.py\", line 194, in _run_module_as_main\n",
      "    return _run_code(code, main_globals, None,\n",
      "  File \"C:\\Users\\camil\\anaconda3\\lib\\runpy.py\", line 87, in _run_code\n",
      "    exec(code, run_globals)\n",
      "  File \"C:\\Users\\camil\\anaconda3\\lib\\site-packages\\ipykernel_launcher.py\", line 16, in <module>\n",
      "    app.launch_new_instance()\n",
      "  File \"C:\\Users\\camil\\anaconda3\\lib\\site-packages\\traitlets\\config\\application.py\", line 845, in launch_instance\n",
      "    app.start()\n",
      "  File \"C:\\Users\\camil\\anaconda3\\lib\\site-packages\\ipykernel\\kernelapp.py\", line 612, in start\n",
      "    self.io_loop.start()\n",
      "  File \"C:\\Users\\camil\\anaconda3\\lib\\site-packages\\tornado\\platform\\asyncio.py\", line 149, in start\n",
      "    self.asyncio_loop.run_forever()\n",
      "  File \"C:\\Users\\camil\\anaconda3\\lib\\asyncio\\base_events.py\", line 570, in run_forever\n",
      "    self._run_once()\n",
      "  File \"C:\\Users\\camil\\anaconda3\\lib\\asyncio\\base_events.py\", line 1859, in _run_once\n",
      "    handle._run()\n",
      "  File \"C:\\Users\\camil\\anaconda3\\lib\\asyncio\\events.py\", line 81, in _run\n",
      "    self._context.run(self._callback, *self._args)\n",
      "  File \"C:\\Users\\camil\\anaconda3\\lib\\site-packages\\tornado\\ioloop.py\", line 690, in <lambda>\n",
      "    lambda f: self._run_callback(functools.partial(callback, future))\n",
      "  File \"C:\\Users\\camil\\anaconda3\\lib\\site-packages\\tornado\\ioloop.py\", line 743, in _run_callback\n",
      "    ret = callback()\n",
      "  File \"C:\\Users\\camil\\anaconda3\\lib\\site-packages\\tornado\\gen.py\", line 787, in inner\n",
      "    self.run()\n",
      "  File \"C:\\Users\\camil\\anaconda3\\lib\\site-packages\\tornado\\gen.py\", line 748, in run\n",
      "    yielded = self.gen.send(value)\n",
      "  File \"C:\\Users\\camil\\anaconda3\\lib\\site-packages\\ipykernel\\kernelbase.py\", line 378, in dispatch_queue\n",
      "    yield self.process_one()\n",
      "  File \"C:\\Users\\camil\\anaconda3\\lib\\site-packages\\tornado\\gen.py\", line 225, in wrapper\n",
      "    runner = Runner(result, future, yielded)\n",
      "  File \"C:\\Users\\camil\\anaconda3\\lib\\site-packages\\tornado\\gen.py\", line 714, in __init__\n",
      "    self.run()\n",
      "  File \"C:\\Users\\camil\\anaconda3\\lib\\site-packages\\tornado\\gen.py\", line 748, in run\n",
      "    yielded = self.gen.send(value)\n",
      "  File \"C:\\Users\\camil\\anaconda3\\lib\\site-packages\\ipykernel\\kernelbase.py\", line 362, in process_one\n",
      "    yield gen.maybe_future(dispatch(*args))\n",
      "  File \"C:\\Users\\camil\\anaconda3\\lib\\site-packages\\tornado\\gen.py\", line 209, in wrapper\n",
      "    yielded = next(result)\n",
      "  File \"C:\\Users\\camil\\anaconda3\\lib\\site-packages\\ipykernel\\kernelbase.py\", line 265, in dispatch_shell\n",
      "    yield gen.maybe_future(handler(stream, idents, msg))\n",
      "  File \"C:\\Users\\camil\\anaconda3\\lib\\site-packages\\tornado\\gen.py\", line 209, in wrapper\n",
      "    yielded = next(result)\n",
      "  File \"C:\\Users\\camil\\anaconda3\\lib\\site-packages\\ipykernel\\kernelbase.py\", line 540, in execute_request\n",
      "    self.do_execute(\n",
      "  File \"C:\\Users\\camil\\anaconda3\\lib\\site-packages\\tornado\\gen.py\", line 209, in wrapper\n",
      "    yielded = next(result)\n",
      "  File \"C:\\Users\\camil\\anaconda3\\lib\\site-packages\\ipykernel\\ipkernel.py\", line 302, in do_execute\n",
      "    res = shell.run_cell(code, store_history=store_history, silent=silent)\n",
      "  File \"C:\\Users\\camil\\anaconda3\\lib\\site-packages\\ipykernel\\zmqshell.py\", line 539, in run_cell\n",
      "    return super(ZMQInteractiveShell, self).run_cell(*args, **kwargs)\n",
      "  File \"C:\\Users\\camil\\anaconda3\\lib\\site-packages\\IPython\\core\\interactiveshell.py\", line 2877, in run_cell\n",
      "    result = self._run_cell(\n",
      "  File \"C:\\Users\\camil\\anaconda3\\lib\\site-packages\\IPython\\core\\interactiveshell.py\", line 2923, in _run_cell\n",
      "    return runner(coro)\n",
      "  File \"C:\\Users\\camil\\anaconda3\\lib\\site-packages\\IPython\\core\\async_helpers.py\", line 68, in _pseudo_sync_runner\n",
      "    coro.send(None)\n",
      "  File \"C:\\Users\\camil\\anaconda3\\lib\\site-packages\\IPython\\core\\interactiveshell.py\", line 3146, in run_cell_async\n",
      "    has_raised = await self.run_ast_nodes(code_ast.body, cell_name,\n",
      "  File \"C:\\Users\\camil\\anaconda3\\lib\\site-packages\\IPython\\core\\interactiveshell.py\", line 3338, in run_ast_nodes\n",
      "    if (await self.run_code(code, result,  async_=asy)):\n",
      "  File \"C:\\Users\\camil\\anaconda3\\lib\\site-packages\\IPython\\core\\interactiveshell.py\", line 3418, in run_code\n",
      "    exec(code_obj, self.user_global_ns, self.user_ns)\n",
      "  File \"<ipython-input-12-81ed970733a8>\", line 24, in <module>\n",
      "    valid_generator=datagen.flow_from_dataframe(\n",
      "  File \"C:\\Users\\camil\\anaconda3\\lib\\site-packages\\tensorflow\\python\\keras\\preprocessing\\image.py\", line 1071, in flow_from_dataframe\n",
      "    tf_logging.warn(\n",
      "  File \"C:\\Users\\camil\\anaconda3\\lib\\site-packages\\tensorflow\\python\\platform\\tf_logging.py\", line 173, in warn\n",
      "    get_logger().warning(msg, *args, **kwargs)\n",
      "Message: '`class_mode` \"other\" is deprecated, please use `class_mode` \"raw\".'\n",
      "Arguments: (<class 'DeprecationWarning'>,)\n"
     ]
    },
    {
     "name": "stdout",
     "output_type": "stream",
     "text": [
      "Found 160 validated image filenames.\n",
      "Found 90 validated image filenames.\n"
     ]
    }
   ],
   "source": [
    "#generators for the training and validation (splitting 20%_80%)\n",
    "datagen = ImageDataGenerator( \n",
    "            rescale=1./255.,\n",
    "            rotation_range=5,\n",
    "            shear_range=0.2,\n",
    "            zoom_range=0.1,\n",
    "            horizontal_flip=False,\n",
    "            validation_split=0.20, #so taht it will split into validation and training\n",
    "            fill_mode='nearest')    #resize the images without aspect ratio distortion\n",
    "\n",
    "train_generator=datagen.flow_from_dataframe(\n",
    "            dataframe=df_train,\n",
    "            directory=None,\n",
    "            x_col=\"actual_path_img\",\n",
    "            y_col=\"severity\",\n",
    "            subset=\"training\",\n",
    "            batch_size=32,\n",
    "            seed=42,\n",
    "            shuffle=True,\n",
    "            class_mode=\"other\",\n",
    "            target_size=target_size_,\n",
    "            crop_to_aspect_ratio=True)\n",
    "\n",
    "valid_generator=datagen.flow_from_dataframe(\n",
    "            dataframe=df_train,\n",
    "            directory=None,\n",
    "            x_col=\"actual_path_img\",\n",
    "            y_col=\"severity\",\n",
    "            subset=\"validation\",\n",
    "            batch_size=32,\n",
    "            seed=42,\n",
    "            class_mode=\"other\",\n",
    "            target_size=target_size_,\n",
    "            crop_to_aspect_ratio=True)\n",
    "\n",
    "#generators for the testing\n",
    "test_datagen=ImageDataGenerator(rescale=1./255.)\n",
    "test_generator=test_datagen.flow_from_dataframe(\n",
    "            dataframe=df_test,\n",
    "            directory=None,\n",
    "            x_col=\"actual_path_img\",\n",
    "            y_col=None,\n",
    "            batch_size=32,\n",
    "            seed=42,\n",
    "            class_mode=None,\n",
    "            target_size=target_size_,\n",
    "            crop_to_aspect_ratio=True)"
   ]
  },
  {
   "cell_type": "code",
   "execution_count": 13,
   "metadata": {},
   "outputs": [],
   "source": [
    "#if not enough improvment on the val loss, then we will reduce the learning rate, and after that if still no change then \n",
    "#early stopping \n",
    "id_='model_KBF_test'\n",
    "#The checkpoint only includes the model weights\n",
    "#save the network weights only when there is an improvement in classification accuracy on the validation dataset \n",
    "filepath = os.path.join(path_save_model_info, id_,'weights-improvement-{epoch:02d}-{val_loss:.2f}.h5')\n",
    "#if save_best_only=True, the latest best model according to the quantity monitored will not be overwritten\n",
    "checkpoint = keras.callbacks.ModelCheckpoint(filepath, \n",
    "                                             monitor='val_loss', \n",
    "                                             verbose=1, \n",
    "                                             save_best_only=False, \n",
    "                                             mode='max')\n",
    "\n",
    "#to reduce learning rate (new_lr = lr*factor) when a metric has stopped improving\n",
    "reduce_lr = keras.callbacks.ReduceLROnPlateau(monitor='val_loss',\n",
    "                                              patience=1, #patience before changing learning rate\n",
    "                                              min_delta=0.0001,\n",
    "                                              verbose=1,\n",
    "                                              factor=0.1)\n",
    "\n",
    "#Stop training when a monitored quantity has stopped improving. to avoid overfiting\n",
    "early_stopping = keras.callbacks.EarlyStopping(monitor='val_loss',\n",
    "                                               min_delta=0.001, \n",
    "                                               patience=3,\n",
    "                                               verbose=1, \n",
    "                                               mode='auto',\n",
    "                                               baseline=None)\n",
    "\n",
    "#create logs data for tensorboard usage\n",
    "'''tensorboard = keras.callbacks.TensorBoard(log_dir=os.path.join(path_log,id_), \n",
    "                                          histogram_freq=0, #no histo\n",
    "                                          write_graph=True, \n",
    "                                          write_grads=False,\n",
    "                                          write_images=True)'''\n",
    "\n",
    "callbacks_list = [reduce_lr, early_stopping, checkpoint]  #tensorboard\n",
    "#then as usuall to load weights to an instantiate model: model.load_weights(\"weights.best.hdf5\")"
   ]
  },
  {
   "cell_type": "code",
   "execution_count": 14,
   "metadata": {},
   "outputs": [
    {
     "name": "stdout",
     "output_type": "stream",
     "text": [
      "WARNING:tensorflow:From <ipython-input-14-8fac4aa1f559>:1: Model.fit_generator (from tensorflow.python.keras.engine.training) is deprecated and will be removed in a future version.\n",
      "Instructions for updating:\n",
      "Please use Model.fit, which supports generators.\n",
      "Epoch 1/50\n",
      "21/21 [==============================] - ETA: 0s - loss: 358.3237 - mean_absolute_percentage_error: 3287352832.0000 - mean_absolute_error: 15.2904\n",
      "Epoch 00001: saving model to G:\\VPHI\\Welfare\\2- Research Projects\\OFHE2.OriginsE2\\DataOutput\\TrackingSystem\\correctlightschedule_\\KBF\\LOGS\\model_KBF_test\\weights-improvement-01-249.84.h5\n",
      "21/21 [==============================] - 237s 11s/step - loss: 358.3237 - mean_absolute_percentage_error: 3287352832.0000 - mean_absolute_error: 15.2904 - val_loss: 249.8404 - val_mean_absolute_percentage_error: 2465576448.0000 - val_mean_absolute_error: 13.3186\n",
      "Epoch 2/50\n",
      "21/21 [==============================] - ETA: 0s - loss: 245.9811 - mean_absolute_percentage_error: 2384911360.0000 - mean_absolute_error: 12.5561 \n",
      "Epoch 00002: ReduceLROnPlateau reducing learning rate to 4.999999873689376e-06.\n",
      "\n",
      "Epoch 00002: saving model to G:\\VPHI\\Welfare\\2- Research Projects\\OFHE2.OriginsE2\\DataOutput\\TrackingSystem\\correctlightschedule_\\KBF\\LOGS\\model_KBF_test\\weights-improvement-02-250.74.h5\n",
      "21/21 [==============================] - 280s 13s/step - loss: 245.9811 - mean_absolute_percentage_error: 2384911360.0000 - mean_absolute_error: 12.5561 - val_loss: 250.7399 - val_mean_absolute_percentage_error: 362587488.0000 - val_mean_absolute_error: 11.7632\n",
      "Epoch 3/50\n",
      "21/21 [==============================] - ETA: 0s - loss: 160.6947 - mean_absolute_percentage_error: 1255986560.0000 - mean_absolute_error: 9.6513 \n",
      "Epoch 00003: saving model to G:\\VPHI\\Welfare\\2- Research Projects\\OFHE2.OriginsE2\\DataOutput\\TrackingSystem\\correctlightschedule_\\KBF\\LOGS\\model_KBF_test\\weights-improvement-03-140.10.h5\n",
      "21/21 [==============================] - 238s 11s/step - loss: 160.6947 - mean_absolute_percentage_error: 1255986560.0000 - mean_absolute_error: 9.6513 - val_loss: 140.0960 - val_mean_absolute_percentage_error: 1257011968.0000 - val_mean_absolute_error: 9.4199\n",
      "Epoch 4/50\n",
      "21/21 [==============================] - ETA: 0s - loss: 132.2767 - mean_absolute_percentage_error: 1555104000.0000 - mean_absolute_error: 8.8740 \n",
      "Epoch 00004: saving model to G:\\VPHI\\Welfare\\2- Research Projects\\OFHE2.OriginsE2\\DataOutput\\TrackingSystem\\correctlightschedule_\\KBF\\LOGS\\model_KBF_test\\weights-improvement-04-127.97.h5\n",
      "21/21 [==============================] - 249s 12s/step - loss: 132.2767 - mean_absolute_percentage_error: 1555104000.0000 - mean_absolute_error: 8.8740 - val_loss: 127.9664 - val_mean_absolute_percentage_error: 908824384.0000 - val_mean_absolute_error: 8.8833\n",
      "Epoch 5/50\n",
      "21/21 [==============================] - ETA: 0s - loss: 121.0108 - mean_absolute_percentage_error: 1222968320.0000 - mean_absolute_error: 8.2103 \n",
      "Epoch 00005: saving model to G:\\VPHI\\Welfare\\2- Research Projects\\OFHE2.OriginsE2\\DataOutput\\TrackingSystem\\correctlightschedule_\\KBF\\LOGS\\model_KBF_test\\weights-improvement-05-123.78.h5\n",
      "21/21 [==============================] - 261s 12s/step - loss: 121.0108 - mean_absolute_percentage_error: 1222968320.0000 - mean_absolute_error: 8.2103 - val_loss: 123.7819 - val_mean_absolute_percentage_error: 902830464.0000 - val_mean_absolute_error: 8.6967\n",
      "Epoch 6/50\n",
      "21/21 [==============================] - ETA: 0s - loss: 115.3660 - mean_absolute_percentage_error: 1235116288.0000 - mean_absolute_error: 8.0730 \n",
      "Epoch 00006: saving model to G:\\VPHI\\Welfare\\2- Research Projects\\OFHE2.OriginsE2\\DataOutput\\TrackingSystem\\correctlightschedule_\\KBF\\LOGS\\model_KBF_test\\weights-improvement-06-116.80.h5\n",
      "21/21 [==============================] - 248s 12s/step - loss: 115.3660 - mean_absolute_percentage_error: 1235116288.0000 - mean_absolute_error: 8.0730 - val_loss: 116.8044 - val_mean_absolute_percentage_error: 761055808.0000 - val_mean_absolute_error: 8.3119\n",
      "Epoch 7/50\n",
      "21/21 [==============================] - ETA: 0s - loss: 106.4158 - mean_absolute_percentage_error: 1118968320.0000 - mean_absolute_error: 7.6959 \n",
      "Epoch 00007: saving model to G:\\VPHI\\Welfare\\2- Research Projects\\OFHE2.OriginsE2\\DataOutput\\TrackingSystem\\correctlightschedule_\\KBF\\LOGS\\model_KBF_test\\weights-improvement-07-104.77.h5\n",
      "21/21 [==============================] - 258s 12s/step - loss: 106.4158 - mean_absolute_percentage_error: 1118968320.0000 - mean_absolute_error: 7.6959 - val_loss: 104.7746 - val_mean_absolute_percentage_error: 655927936.0000 - val_mean_absolute_error: 7.8806\n",
      "Epoch 8/50\n",
      "21/21 [==============================] - ETA: 0s - loss: 99.4282 - mean_absolute_percentage_error: 1049334976.0000 - mean_absolute_error: 7.3420  \n",
      "Epoch 00008: ReduceLROnPlateau reducing learning rate to 4.999999873689376e-07.\n",
      "\n",
      "Epoch 00008: saving model to G:\\VPHI\\Welfare\\2- Research Projects\\OFHE2.OriginsE2\\DataOutput\\TrackingSystem\\correctlightschedule_\\KBF\\LOGS\\model_KBF_test\\weights-improvement-08-109.93.h5\n",
      "21/21 [==============================] - 253s 12s/step - loss: 99.4282 - mean_absolute_percentage_error: 1049334976.0000 - mean_absolute_error: 7.3420 - val_loss: 109.9303 - val_mean_absolute_percentage_error: 705461696.0000 - val_mean_absolute_error: 8.1074\n",
      "Epoch 9/50\n",
      "21/21 [==============================] - ETA: 0s - loss: 91.6411 - mean_absolute_percentage_error: 923976384.0000 - mean_absolute_error: 7.1127 \n",
      "Epoch 00009: saving model to G:\\VPHI\\Welfare\\2- Research Projects\\OFHE2.OriginsE2\\DataOutput\\TrackingSystem\\correctlightschedule_\\KBF\\LOGS\\model_KBF_test\\weights-improvement-09-101.43.h5\n",
      "21/21 [==============================] - 234s 11s/step - loss: 91.6411 - mean_absolute_percentage_error: 923976384.0000 - mean_absolute_error: 7.1127 - val_loss: 101.4264 - val_mean_absolute_percentage_error: 666054016.0000 - val_mean_absolute_error: 7.7813\n",
      "Epoch 10/50\n",
      "21/21 [==============================] - ETA: 0s - loss: 91.9819 - mean_absolute_percentage_error: 881417856.0000 - mean_absolute_error: 7.0137\n",
      "Epoch 00010: ReduceLROnPlateau reducing learning rate to 4.999999987376214e-08.\n",
      "\n",
      "Epoch 00010: saving model to G:\\VPHI\\Welfare\\2- Research Projects\\OFHE2.OriginsE2\\DataOutput\\TrackingSystem\\correctlightschedule_\\KBF\\LOGS\\model_KBF_test\\weights-improvement-10-106.45.h5\n",
      "21/21 [==============================] - 233s 11s/step - loss: 91.9819 - mean_absolute_percentage_error: 881417856.0000 - mean_absolute_error: 7.0137 - val_loss: 106.4516 - val_mean_absolute_percentage_error: 602142336.0000 - val_mean_absolute_error: 7.8877\n",
      "Epoch 11/50\n",
      "21/21 [==============================] - ETA: 0s - loss: 90.4095 - mean_absolute_percentage_error: 871153792.0000 - mean_absolute_error: 7.0319\n",
      "Epoch 00011: ReduceLROnPlateau reducing learning rate to 5.000000058430488e-09.\n",
      "\n",
      "Epoch 00011: saving model to G:\\VPHI\\Welfare\\2- Research Projects\\OFHE2.OriginsE2\\DataOutput\\TrackingSystem\\correctlightschedule_\\KBF\\LOGS\\model_KBF_test\\weights-improvement-11-103.23.h5\n",
      "21/21 [==============================] - 228s 11s/step - loss: 90.4095 - mean_absolute_percentage_error: 871153792.0000 - mean_absolute_error: 7.0319 - val_loss: 103.2325 - val_mean_absolute_percentage_error: 664093376.0000 - val_mean_absolute_error: 7.8486\n",
      "Epoch 12/50\n",
      "21/21 [==============================] - ETA: 0s - loss: 93.9357 - mean_absolute_percentage_error: 889566720.0000 - mean_absolute_error: 7.1425\n",
      "Epoch 00012: saving model to G:\\VPHI\\Welfare\\2- Research Projects\\OFHE2.OriginsE2\\DataOutput\\TrackingSystem\\correctlightschedule_\\KBF\\LOGS\\model_KBF_test\\weights-improvement-12-101.10.h5\n",
      "21/21 [==============================] - 230s 11s/step - loss: 93.9357 - mean_absolute_percentage_error: 889566720.0000 - mean_absolute_error: 7.1425 - val_loss: 101.1033 - val_mean_absolute_percentage_error: 599849088.0000 - val_mean_absolute_error: 7.7475\n",
      "Epoch 13/50\n",
      "21/21 [==============================] - ETA: 0s - loss: 90.0677 - mean_absolute_percentage_error: 913148928.0000 - mean_absolute_error: 6.9416 \n",
      "Epoch 00013: saving model to G:\\VPHI\\Welfare\\2- Research Projects\\OFHE2.OriginsE2\\DataOutput\\TrackingSystem\\correctlightschedule_\\KBF\\LOGS\\model_KBF_test\\weights-improvement-13-100.03.h5\n",
      "21/21 [==============================] - 239s 11s/step - loss: 90.0677 - mean_absolute_percentage_error: 913148928.0000 - mean_absolute_error: 6.9416 - val_loss: 100.0280 - val_mean_absolute_percentage_error: 617148032.0000 - val_mean_absolute_error: 7.5735\n"
     ]
    },
    {
     "name": "stdout",
     "output_type": "stream",
     "text": [
      "Epoch 14/50\n",
      "21/21 [==============================] - ETA: 0s - loss: 92.0963 - mean_absolute_percentage_error: 907566016.0000 - mean_absolute_error: 7.0498 \n",
      "Epoch 00014: ReduceLROnPlateau reducing learning rate to 4.999999969612646e-10.\n",
      "\n",
      "Epoch 00014: saving model to G:\\VPHI\\Welfare\\2- Research Projects\\OFHE2.OriginsE2\\DataOutput\\TrackingSystem\\correctlightschedule_\\KBF\\LOGS\\model_KBF_test\\weights-improvement-14-105.55.h5\n",
      "21/21 [==============================] - 258s 12s/step - loss: 92.0963 - mean_absolute_percentage_error: 907566016.0000 - mean_absolute_error: 7.0498 - val_loss: 105.5484 - val_mean_absolute_percentage_error: 650624320.0000 - val_mean_absolute_error: 7.9324\n",
      "Epoch 15/50\n",
      "21/21 [==============================] - ETA: 0s - loss: 90.9059 - mean_absolute_percentage_error: 916205504.0000 - mean_absolute_error: 7.0544 \n",
      "Epoch 00015: ReduceLROnPlateau reducing learning rate to 4.999999858590343e-11.\n",
      "\n",
      "Epoch 00015: saving model to G:\\VPHI\\Welfare\\2- Research Projects\\OFHE2.OriginsE2\\DataOutput\\TrackingSystem\\correctlightschedule_\\KBF\\LOGS\\model_KBF_test\\weights-improvement-15-104.73.h5\n",
      "21/21 [==============================] - 266s 13s/step - loss: 90.9059 - mean_absolute_percentage_error: 916205504.0000 - mean_absolute_error: 7.0544 - val_loss: 104.7292 - val_mean_absolute_percentage_error: 609752896.0000 - val_mean_absolute_error: 7.9520\n",
      "Epoch 16/50\n",
      "21/21 [==============================] - ETA: 0s - loss: 90.1674 - mean_absolute_percentage_error: 878837056.0000 - mean_absolute_error: 7.0239 \n",
      "Epoch 00016: ReduceLROnPlateau reducing learning rate to 4.999999719812465e-12.\n",
      "\n",
      "Epoch 00016: saving model to G:\\VPHI\\Welfare\\2- Research Projects\\OFHE2.OriginsE2\\DataOutput\\TrackingSystem\\correctlightschedule_\\KBF\\LOGS\\model_KBF_test\\weights-improvement-16-103.04.h5\n",
      "21/21 [==============================] - 280s 13s/step - loss: 90.1674 - mean_absolute_percentage_error: 878837056.0000 - mean_absolute_error: 7.0239 - val_loss: 103.0354 - val_mean_absolute_percentage_error: 612912960.0000 - val_mean_absolute_error: 7.8611\n",
      "Epoch 00016: early stopping\n"
     ]
    }
   ],
   "source": [
    "history = model.fit_generator(train_generator,\n",
    "                              validation_data=valid_generator,\n",
    "                              epochs=50,\n",
    "                              verbose=1,\n",
    "                              callbacks=callbacks_list)"
   ]
  },
  {
   "cell_type": "code",
   "execution_count": 15,
   "metadata": {},
   "outputs": [
    {
     "name": "stdout",
     "output_type": "stream",
     "text": [
      "WARNING:tensorflow:From C:\\Users\\camil\\anaconda3\\lib\\site-packages\\tensorflow\\python\\training\\tracking\\tracking.py:111: Model.state_updates (from tensorflow.python.keras.engine.training) is deprecated and will be removed in a future version.\n",
      "Instructions for updating:\n",
      "This property should not be used in TensorFlow 2.0, as updates are applied automatically.\n",
      "WARNING:tensorflow:From C:\\Users\\camil\\anaconda3\\lib\\site-packages\\tensorflow\\python\\training\\tracking\\tracking.py:111: Layer.updates (from tensorflow.python.keras.engine.base_layer) is deprecated and will be removed in a future version.\n",
      "Instructions for updating:\n",
      "This property should not be used in TensorFlow 2.0, as updates are applied automatically.\n",
      "INFO:tensorflow:Assets written to: G:\\VPHI\\Welfare\\2- Research Projects\\OFHE2.OriginsE2\\DataOutput\\TrackingSystem\\correctlightschedule_\\KBF\\LOGS\\id_\\assets\n"
     ]
    }
   ],
   "source": [
    "#save\n",
    "model.save(os.path.join(path_save_model_info, 'id_'))"
   ]
  },
  {
   "cell_type": "markdown",
   "metadata": {},
   "source": [
    "# Test"
   ]
  },
  {
   "cell_type": "code",
   "execution_count": 17,
   "metadata": {},
   "outputs": [
    {
     "data": {
      "text/plain": [
       "((90, 2), 90)"
      ]
     },
     "execution_count": 17,
     "metadata": {},
     "output_type": "execute_result"
    }
   ],
   "source": [
    "scores = model.predict_generator(test_generator,verbose=1)\n",
    "print(df_test.shape, len(scores))\n",
    "df_test['Predicted'] = scores\n",
    "#mean absolute percentage error\n",
    "df_test['APE'] = abs( (df_test['severity'] - df_test['Predicted'] ) / df_test['severity']) * 100"
   ]
  },
  {
   "cell_type": "code",
   "execution_count": 20,
   "metadata": {},
   "outputs": [
    {
     "data": {
      "image/png": "[encoded data removed]",
      "text/plain": [
       "<Figure size 432x288 with 1 Axes>"
      ]
     },
     "metadata": {
      "needs_background": "light"
     },
     "output_type": "display_data"
    }
   ],
   "source": [
    "plt.hist(df_test[~df_test['APE'].isin([np.nan, np.inf, -np.inf])]);"
   ]
  },
  {
   "cell_type": "code",
   "execution_count": 21,
   "metadata": {},
   "outputs": [],
   "source": [
    "MSE = mean_squared_error(y_true = df_test['severity'], y_pred = df_test['Predicted'])\n",
    "RMSE = MSE**(0.5)\n",
    "print(RMSE, MSE)"
   ]
  },
  {
   "cell_type": "code",
   "execution_count": 23,
   "metadata": {},
   "outputs": [
    {
     "data": {
      "image/png": "[encoded data removed]",
      "text/plain": [
       "<Figure size 432x288 with 1 Axes>"
      ]
     },
     "metadata": {
      "needs_background": "light"
     },
     "output_type": "display_data"
    }
   ],
   "source": [
    "sns.scatterplot(x='severity',y='Predicted',data=df_test);"
   ]
  },
  {
   "cell_type": "code",
   "execution_count": null,
   "metadata": {},
   "outputs": [],
   "source": []
  },
  {
   "cell_type": "code",
   "execution_count": null,
   "metadata": {},
   "outputs": [],
   "source": []
  },
  {
   "cell_type": "code",
   "execution_count": null,
   "metadata": {},
   "outputs": [],
   "source": []
  },
  {
   "cell_type": "code",
   "execution_count": null,
   "metadata": {},
   "outputs": [],
   "source": []
  },
  {
   "cell_type": "code",
   "execution_count": null,
   "metadata": {},
   "outputs": [],
   "source": []
  },
  {
   "cell_type": "code",
   "execution_count": null,
   "metadata": {},
   "outputs": [],
   "source": []
  }
 ],
 "metadata": {
  "kernelspec": {
   "display_name": "Python 3",
   "language": "python",
   "name": "python3"
  },
  "language_info": {
   "codemirror_mode": {
    "name": "ipython",
    "version": 3
   },
   "file_extension": ".py",
   "mimetype": "text/x-python",
   "name": "python",
   "nbconvert_exporter": "python",
   "pygments_lexer": "ipython3",
   "version": "3.8.5"
  }
 },
 "nbformat": 4,
 "nbformat_minor": 2
}
