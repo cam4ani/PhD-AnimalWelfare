{
 "cells": [
  {
   "cell_type": "code",
   "execution_count": 9,
   "metadata": {},
   "outputs": [],
   "source": [
    "import json\n",
    "import numpy as np\n",
    "import os\n",
    "import pandas as pd\n",
    "import cv2\n",
    "import tqdm\n",
    "import pickle\n",
    "import random\n",
    "import sys\n",
    "import re\n",
    "import glob\n",
    "import shutil\n",
    "import collections\n",
    "import operator\n",
    "%matplotlib inline\n",
    "from matplotlib import pyplot as plt"
   ]
  },
  {
   "cell_type": "code",
   "execution_count": 10,
   "metadata": {},
   "outputs": [],
   "source": [
    "path_all_annotated_image = os.path.join('datasets','KBF','ANNOTATED_IMAGES')\n",
    "#hte name of the class should be named: \"CLASS\""
   ]
  },
  {
   "cell_type": "markdown",
   "metadata": {},
   "source": [
    "# Download annotation produced through VIA "
   ]
  },
  {
   "cell_type": "code",
   "execution_count": 11,
   "metadata": {},
   "outputs": [
    {
     "name": "stdout",
     "output_type": "stream",
     "text": [
      "(372, 5)\n"
     ]
    },
    {
     "data": {
      "text/html": [
       "<div>\n",
       "<style scoped>\n",
       "    .dataframe tbody tr th:only-of-type {\n",
       "        vertical-align: middle;\n",
       "    }\n",
       "\n",
       "    .dataframe tbody tr th {\n",
       "        vertical-align: top;\n",
       "    }\n",
       "\n",
       "    .dataframe thead th {\n",
       "        text-align: right;\n",
       "    }\n",
       "</style>\n",
       "<table border=\"1\" class=\"dataframe\">\n",
       "  <thead>\n",
       "    <tr style=\"text-align: right;\">\n",
       "      <th></th>\n",
       "      <th>filename</th>\n",
       "      <th>size</th>\n",
       "      <th>regions</th>\n",
       "      <th>file_attributes</th>\n",
       "      <th>annotations_name</th>\n",
       "    </tr>\n",
       "  </thead>\n",
       "  <tbody>\n",
       "    <tr>\n",
       "      <th>0</th>\n",
       "      <td>0.jpg</td>\n",
       "      <td>70631</td>\n",
       "      <td>[{'shape_attributes': {'name': 'polygon', 'all...</td>\n",
       "      <td>{}</td>\n",
       "      <td>via_region_data (14).json</td>\n",
       "    </tr>\n",
       "    <tr>\n",
       "      <th>1</th>\n",
       "      <td>1.jpg</td>\n",
       "      <td>65599</td>\n",
       "      <td>[{'shape_attributes': {'name': 'polygon', 'all...</td>\n",
       "      <td>{}</td>\n",
       "      <td>via_region_data (14).json</td>\n",
       "    </tr>\n",
       "    <tr>\n",
       "      <th>2</th>\n",
       "      <td>2.jpg</td>\n",
       "      <td>66715</td>\n",
       "      <td>[{'shape_attributes': {'name': 'polygon', 'all...</td>\n",
       "      <td>{}</td>\n",
       "      <td>via_region_data (14).json</td>\n",
       "    </tr>\n",
       "  </tbody>\n",
       "</table>\n",
       "</div>"
      ],
      "text/plain": [
       "  filename   size                                            regions  \\\n",
       "0    0.jpg  70631  [{'shape_attributes': {'name': 'polygon', 'all...   \n",
       "1    1.jpg  65599  [{'shape_attributes': {'name': 'polygon', 'all...   \n",
       "2    2.jpg  66715  [{'shape_attributes': {'name': 'polygon', 'all...   \n",
       "\n",
       "  file_attributes           annotations_name  \n",
       "0              {}  via_region_data (14).json  \n",
       "1              {}  via_region_data (14).json  \n",
       "2              {}  via_region_data (14).json  "
      ]
     },
     "execution_count": 11,
     "metadata": {},
     "output_type": "execute_result"
    }
   ],
   "source": [
    "#due to old annotations we have way more annotations that will then be removed in preprocessing\n",
    "path_new_annotations = os.path.join(path_all_annotated_image, 'annotations', \"*via_region_data*.json\")\n",
    "dico_name_df = {}\n",
    "for p in glob.glob(path_new_annotations):\n",
    "    annotation_name = p.split('\\\\')[-1]\n",
    "    dico = json.load(open(p))\n",
    "    df_ = pd.DataFrame(dico).transpose()\n",
    "    dico_name_df[annotation_name] = df_\n",
    "\n",
    "#aggregate all together\n",
    "df = pd.DataFrame()\n",
    "for name,df_ in dico_name_df.items():\n",
    "    df_['annotations_name'] = name\n",
    "    df = pd.concat([df,df_],ignore_index=True)\n",
    "\n",
    "print(df.shape)\n",
    "df.head(3)"
   ]
  },
  {
   "cell_type": "markdown",
   "metadata": {},
   "source": [
    "# Preprocessing - remove bad annotations"
   ]
  },
  {
   "cell_type": "code",
   "execution_count": 12,
   "metadata": {
    "scrolled": true
   },
   "outputs": [
    {
     "data": {
      "text/plain": [
       "array(['via_region_data (14).json'], dtype=object)"
      ]
     },
     "execution_count": 12,
     "metadata": {},
     "output_type": "execute_result"
    }
   ],
   "source": [
    "df['annotations_name'].unique()"
   ]
  },
  {
   "cell_type": "markdown",
   "metadata": {},
   "source": [
    "### remove annotations without masks"
   ]
  },
  {
   "cell_type": "code",
   "execution_count": 13,
   "metadata": {},
   "outputs": [
    {
     "data": {
      "text/plain": [
       "0    195\n",
       "1    120\n",
       "2     43\n",
       "3     13\n",
       "4      1\n",
       "Name: nbr_regions, dtype: int64"
      ]
     },
     "execution_count": 13,
     "metadata": {},
     "output_type": "execute_result"
    }
   ],
   "source": [
    "df['nbr_regions'] = df['regions'].map(lambda x: len(x))\n",
    "df['nbr_regions'].value_counts()"
   ]
  },
  {
   "cell_type": "code",
   "execution_count": 14,
   "metadata": {
    "scrolled": true
   },
   "outputs": [
    {
     "name": "stdout",
     "output_type": "stream",
     "text": [
      "(177, 6)\n"
     ]
    },
    {
     "data": {
      "text/html": [
       "<div>\n",
       "<style scoped>\n",
       "    .dataframe tbody tr th:only-of-type {\n",
       "        vertical-align: middle;\n",
       "    }\n",
       "\n",
       "    .dataframe tbody tr th {\n",
       "        vertical-align: top;\n",
       "    }\n",
       "\n",
       "    .dataframe thead th {\n",
       "        text-align: right;\n",
       "    }\n",
       "</style>\n",
       "<table border=\"1\" class=\"dataframe\">\n",
       "  <thead>\n",
       "    <tr style=\"text-align: right;\">\n",
       "      <th></th>\n",
       "      <th>filename</th>\n",
       "      <th>size</th>\n",
       "      <th>regions</th>\n",
       "      <th>file_attributes</th>\n",
       "      <th>annotations_name</th>\n",
       "      <th>nbr_regions</th>\n",
       "    </tr>\n",
       "  </thead>\n",
       "  <tbody>\n",
       "    <tr>\n",
       "      <th>0</th>\n",
       "      <td>0.jpg</td>\n",
       "      <td>70631</td>\n",
       "      <td>[{'shape_attributes': {'name': 'polygon', 'all...</td>\n",
       "      <td>{}</td>\n",
       "      <td>via_region_data (14).json</td>\n",
       "      <td>2</td>\n",
       "    </tr>\n",
       "    <tr>\n",
       "      <th>1</th>\n",
       "      <td>1.jpg</td>\n",
       "      <td>65599</td>\n",
       "      <td>[{'shape_attributes': {'name': 'polygon', 'all...</td>\n",
       "      <td>{}</td>\n",
       "      <td>via_region_data (14).json</td>\n",
       "      <td>1</td>\n",
       "    </tr>\n",
       "    <tr>\n",
       "      <th>2</th>\n",
       "      <td>2.jpg</td>\n",
       "      <td>66715</td>\n",
       "      <td>[{'shape_attributes': {'name': 'polygon', 'all...</td>\n",
       "      <td>{}</td>\n",
       "      <td>via_region_data (14).json</td>\n",
       "      <td>1</td>\n",
       "    </tr>\n",
       "  </tbody>\n",
       "</table>\n",
       "</div>"
      ],
      "text/plain": [
       "  filename   size                                            regions  \\\n",
       "0    0.jpg  70631  [{'shape_attributes': {'name': 'polygon', 'all...   \n",
       "1    1.jpg  65599  [{'shape_attributes': {'name': 'polygon', 'all...   \n",
       "2    2.jpg  66715  [{'shape_attributes': {'name': 'polygon', 'all...   \n",
       "\n",
       "  file_attributes           annotations_name  nbr_regions  \n",
       "0              {}  via_region_data (14).json            2  \n",
       "1              {}  via_region_data (14).json            1  \n",
       "2              {}  via_region_data (14).json            1  "
      ]
     },
     "execution_count": 14,
     "metadata": {},
     "output_type": "execute_result"
    }
   ],
   "source": [
    "#remove rows without any regions (might happen that some images have two rows, one with and one without)\n",
    "df = df[df['nbr_regions']!=0]\n",
    "print(df.shape)\n",
    "df.head(3)"
   ]
  },
  {
   "cell_type": "markdown",
   "metadata": {},
   "source": [
    "### remove annotations associated with images without any class"
   ]
  },
  {
   "cell_type": "code",
   "execution_count": 16,
   "metadata": {},
   "outputs": [
    {
     "data": {
      "text/plain": [
       "[{'shape_attributes': {'name': 'polygon',\n",
       "   'all_points_x': [274, 305, 348, 336, 279],\n",
       "   'all_points_y': [625, 632, 655, 682, 659]},\n",
       "  'region_attributes': {'CLASS': 'F'}},\n",
       " {'shape_attributes': {'name': 'polygon',\n",
       "   'all_points_x': [452, 473, 490, 495, 512, 500, 469, 450],\n",
       "   'all_points_y': [1143, 1147, 1166, 1201, 1216, 1223, 1210, 1158]},\n",
       "  'region_attributes': {'CLASS': 'G'}}]"
      ]
     },
     "execution_count": 16,
     "metadata": {},
     "output_type": "execute_result"
    }
   ],
   "source": [
    "df['regions'].iloc[0]"
   ]
  },
  {
   "cell_type": "code",
   "execution_count": 17,
   "metadata": {},
   "outputs": [
    {
     "data": {
      "text/html": [
       "<div>\n",
       "<style scoped>\n",
       "    .dataframe tbody tr th:only-of-type {\n",
       "        vertical-align: middle;\n",
       "    }\n",
       "\n",
       "    .dataframe tbody tr th {\n",
       "        vertical-align: top;\n",
       "    }\n",
       "\n",
       "    .dataframe thead th {\n",
       "        text-align: right;\n",
       "    }\n",
       "</style>\n",
       "<table border=\"1\" class=\"dataframe\">\n",
       "  <thead>\n",
       "    <tr style=\"text-align: right;\">\n",
       "      <th></th>\n",
       "      <th>filename</th>\n",
       "      <th>size</th>\n",
       "      <th>regions</th>\n",
       "      <th>file_attributes</th>\n",
       "      <th>annotations_name</th>\n",
       "      <th>nbr_regions</th>\n",
       "      <th>no_type</th>\n",
       "    </tr>\n",
       "  </thead>\n",
       "  <tbody>\n",
       "    <tr>\n",
       "      <th>0</th>\n",
       "      <td>0.jpg</td>\n",
       "      <td>70631</td>\n",
       "      <td>[{'shape_attributes': {'name': 'polygon', 'all...</td>\n",
       "      <td>{}</td>\n",
       "      <td>via_region_data (14).json</td>\n",
       "      <td>2</td>\n",
       "      <td>False</td>\n",
       "    </tr>\n",
       "    <tr>\n",
       "      <th>1</th>\n",
       "      <td>1.jpg</td>\n",
       "      <td>65599</td>\n",
       "      <td>[{'shape_attributes': {'name': 'polygon', 'all...</td>\n",
       "      <td>{}</td>\n",
       "      <td>via_region_data (14).json</td>\n",
       "      <td>1</td>\n",
       "      <td>False</td>\n",
       "    </tr>\n",
       "    <tr>\n",
       "      <th>2</th>\n",
       "      <td>2.jpg</td>\n",
       "      <td>66715</td>\n",
       "      <td>[{'shape_attributes': {'name': 'polygon', 'all...</td>\n",
       "      <td>{}</td>\n",
       "      <td>via_region_data (14).json</td>\n",
       "      <td>1</td>\n",
       "      <td>False</td>\n",
       "    </tr>\n",
       "  </tbody>\n",
       "</table>\n",
       "</div>"
      ],
      "text/plain": [
       "  filename   size                                            regions  \\\n",
       "0    0.jpg  70631  [{'shape_attributes': {'name': 'polygon', 'all...   \n",
       "1    1.jpg  65599  [{'shape_attributes': {'name': 'polygon', 'all...   \n",
       "2    2.jpg  66715  [{'shape_attributes': {'name': 'polygon', 'all...   \n",
       "\n",
       "  file_attributes           annotations_name  nbr_regions  no_type  \n",
       "0              {}  via_region_data (14).json            2    False  \n",
       "1              {}  via_region_data (14).json            1    False  \n",
       "2              {}  via_region_data (14).json            1    False  "
      ]
     },
     "execution_count": 17,
     "metadata": {},
     "output_type": "execute_result"
    }
   ],
   "source": [
    "#remove all annotations having at least one mask without a type\n",
    "df['no_type'] = df['regions'].map(lambda x: sum(['CLASS' not in i['region_attributes'] for i in x])>0)\n",
    "df.head(3)"
   ]
  },
  {
   "cell_type": "code",
   "execution_count": 18,
   "metadata": {},
   "outputs": [
    {
     "name": "stdout",
     "output_type": "stream",
     "text": [
      "We lost 0 annotated images by removing no-type image\n"
     ]
    }
   ],
   "source": [
    "#due to 'old' annotations\n",
    "x0 = df.shape[0]\n",
    "df = df[~df['no_type']]\n",
    "x1 = df.shape[0]\n",
    "print('We lost %d annotated images by removing no-type image'%(x0-x1))"
   ]
  },
  {
   "cell_type": "markdown",
   "metadata": {},
   "source": [
    "### modify regions with faute d'orthographe"
   ]
  },
  {
   "cell_type": "code",
   "execution_count": 23,
   "metadata": {},
   "outputs": [],
   "source": [
    "def mod_list_reg(li):\n",
    "    for r in li:\n",
    "        r['region_attributes']['CLASS'] = r['region_attributes']['CLASS'].upper().replace('g','G')\n",
    "    return(li)\n",
    "df['regions'] = df['regions'].map(lambda x: mod_list_reg(x))"
   ]
  },
  {
   "cell_type": "code",
   "execution_count": 24,
   "metadata": {},
   "outputs": [
    {
     "name": "stdout",
     "output_type": "stream",
     "text": [
      "There will be 5 different class\n",
      "{'', 'R', 'GF', 'F', 'G'}\n"
     ]
    }
   ],
   "source": [
    "#verify if all faut are included:\n",
    "li_reg = df['regions'].tolist()\n",
    "li_possible_type = []\n",
    "for reg in li_reg:\n",
    "    try:\n",
    "        for r in reg:\n",
    "            li_possible_type.append(r['region_attributes']['CLASS'])\n",
    "    except Exception as e:\n",
    "        print(reg, e)\n",
    "print('There will be %d different class'%len(set(li_possible_type)))\n",
    "print(set(li_possible_type))"
   ]
  },
  {
   "cell_type": "markdown",
   "metadata": {},
   "source": [
    "### remove multiple annotations for one image"
   ]
  },
  {
   "cell_type": "markdown",
   "metadata": {},
   "source": [
    "li_filename = df['filename'].tolist()\n",
    "ctest = dict(collections.Counter(li_filename))\n",
    "ctest = sorted(ctest.items(), key=operator.itemgetter(1))\n",
    "ctest.reverse()\n",
    "ctest"
   ]
  },
  {
   "cell_type": "code",
   "execution_count": 10,
   "metadata": {},
   "outputs": [],
   "source": [
    "#df[df['filename']=='VERB01_CAM04B04_26.05.17_211203_CAA_C_544_2996_fish-cam04-2017-05-26_21_40403.jpg']"
   ]
  },
  {
   "cell_type": "markdown",
   "metadata": {},
   "source": [
    "#remove one by one to make sur and understand why\n",
    "print(df.shape)\n",
    "df = df[~((df['filename']=='VERB01_CAM04B04_26.05.17_211203_CAA_C_544_2996_fish-cam04-2017-05-26_21_40403.jpg') &\\\n",
    "  (df['annotations_name']=='special_situation_0_FINI_via_region_data (36).json'))]\n",
    "print(df.shape)"
   ]
  },
  {
   "cell_type": "markdown",
   "metadata": {},
   "source": [
    "### adding info"
   ]
  },
  {
   "cell_type": "code",
   "execution_count": 25,
   "metadata": {
    "scrolled": true
   },
   "outputs": [
    {
     "data": {
      "text/html": [
       "<div>\n",
       "<style scoped>\n",
       "    .dataframe tbody tr th:only-of-type {\n",
       "        vertical-align: middle;\n",
       "    }\n",
       "\n",
       "    .dataframe tbody tr th {\n",
       "        vertical-align: top;\n",
       "    }\n",
       "\n",
       "    .dataframe thead th {\n",
       "        text-align: right;\n",
       "    }\n",
       "</style>\n",
       "<table border=\"1\" class=\"dataframe\">\n",
       "  <thead>\n",
       "    <tr style=\"text-align: right;\">\n",
       "      <th></th>\n",
       "      <th>filename</th>\n",
       "      <th>size</th>\n",
       "      <th>regions</th>\n",
       "      <th>file_attributes</th>\n",
       "      <th>annotations_name</th>\n",
       "      <th>nbr_regions</th>\n",
       "      <th>no_type</th>\n",
       "      <th>path</th>\n",
       "    </tr>\n",
       "  </thead>\n",
       "  <tbody>\n",
       "    <tr>\n",
       "      <th>0</th>\n",
       "      <td>0.jpg</td>\n",
       "      <td>70631</td>\n",
       "      <td>[{'shape_attributes': {'name': 'polygon', 'all...</td>\n",
       "      <td>{}</td>\n",
       "      <td>via_region_data (14).json</td>\n",
       "      <td>2</td>\n",
       "      <td>False</td>\n",
       "      <td>datasets\\KBF\\ANNOTATED_IMAGES\\0.jpg</td>\n",
       "    </tr>\n",
       "    <tr>\n",
       "      <th>1</th>\n",
       "      <td>1.jpg</td>\n",
       "      <td>65599</td>\n",
       "      <td>[{'shape_attributes': {'name': 'polygon', 'all...</td>\n",
       "      <td>{}</td>\n",
       "      <td>via_region_data (14).json</td>\n",
       "      <td>1</td>\n",
       "      <td>False</td>\n",
       "      <td>datasets\\KBF\\ANNOTATED_IMAGES\\1.jpg</td>\n",
       "    </tr>\n",
       "    <tr>\n",
       "      <th>2</th>\n",
       "      <td>2.jpg</td>\n",
       "      <td>66715</td>\n",
       "      <td>[{'shape_attributes': {'name': 'polygon', 'all...</td>\n",
       "      <td>{}</td>\n",
       "      <td>via_region_data (14).json</td>\n",
       "      <td>1</td>\n",
       "      <td>False</td>\n",
       "      <td>datasets\\KBF\\ANNOTATED_IMAGES\\2.jpg</td>\n",
       "    </tr>\n",
       "  </tbody>\n",
       "</table>\n",
       "</div>"
      ],
      "text/plain": [
       "  filename   size                                            regions  \\\n",
       "0    0.jpg  70631  [{'shape_attributes': {'name': 'polygon', 'all...   \n",
       "1    1.jpg  65599  [{'shape_attributes': {'name': 'polygon', 'all...   \n",
       "2    2.jpg  66715  [{'shape_attributes': {'name': 'polygon', 'all...   \n",
       "\n",
       "  file_attributes           annotations_name  nbr_regions  no_type  \\\n",
       "0              {}  via_region_data (14).json            2    False   \n",
       "1              {}  via_region_data (14).json            1    False   \n",
       "2              {}  via_region_data (14).json            1    False   \n",
       "\n",
       "                                  path  \n",
       "0  datasets\\KBF\\ANNOTATED_IMAGES\\0.jpg  \n",
       "1  datasets\\KBF\\ANNOTATED_IMAGES\\1.jpg  \n",
       "2  datasets\\KBF\\ANNOTATED_IMAGES\\2.jpg  "
      ]
     },
     "execution_count": 25,
     "metadata": {},
     "output_type": "execute_result"
    }
   ],
   "source": [
    "df['path'] = df['filename'].map(lambda x: os.path.join(path_all_annotated_image,x))\n",
    "df.head(3)"
   ]
  },
  {
   "cell_type": "markdown",
   "metadata": {},
   "source": [
    "# Save"
   ]
  },
  {
   "cell_type": "code",
   "execution_count": 26,
   "metadata": {},
   "outputs": [],
   "source": [
    "df.to_csv(os.path.join(path_all_annotated_image,'image_info.csv'), index=False, sep=';')"
   ]
  },
  {
   "cell_type": "code",
   "execution_count": null,
   "metadata": {},
   "outputs": [],
   "source": []
  },
  {
   "cell_type": "code",
   "execution_count": null,
   "metadata": {},
   "outputs": [],
   "source": []
  },
  {
   "cell_type": "code",
   "execution_count": null,
   "metadata": {},
   "outputs": [],
   "source": []
  },
  {
   "cell_type": "code",
   "execution_count": null,
   "metadata": {},
   "outputs": [],
   "source": []
  },
  {
   "cell_type": "code",
   "execution_count": null,
   "metadata": {},
   "outputs": [],
   "source": []
  },
  {
   "cell_type": "code",
   "execution_count": null,
   "metadata": {},
   "outputs": [],
   "source": []
  },
  {
   "cell_type": "code",
   "execution_count": null,
   "metadata": {},
   "outputs": [],
   "source": []
  },
  {
   "cell_type": "code",
   "execution_count": null,
   "metadata": {},
   "outputs": [],
   "source": []
  },
  {
   "cell_type": "code",
   "execution_count": null,
   "metadata": {},
   "outputs": [],
   "source": []
  }
 ],
 "metadata": {
  "kernelspec": {
   "display_name": "Python 3",
   "language": "python",
   "name": "python3"
  },
  "language_info": {
   "codemirror_mode": {
    "name": "ipython",
    "version": 3
   },
   "file_extension": ".py",
   "mimetype": "text/x-python",
   "name": "python",
   "nbconvert_exporter": "python",
   "pygments_lexer": "ipython3",
   "version": "3.8.5"
  }
 },
 "nbformat": 4,
 "nbformat_minor": 2
}
