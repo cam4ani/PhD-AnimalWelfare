{
 "cells": [
  {
   "cell_type": "code",
   "execution_count": 1,
   "metadata": {},
   "outputs": [],
   "source": [
    "#basic package\n",
    "import tqdm\n",
    "import os\n",
    "import numpy as np\n",
    "import glob\n",
    "import pandas as pd\n",
    "import sys\n",
    "import time\n",
    "import datetime as dt\n",
    "import itertools\n",
    "import re\n",
    "import math\n",
    "from collections import Counter\n",
    "import operator\n",
    "from scipy import stats\n",
    "from numpy import inf\n",
    "import networkx as nx\n",
    "from dtaidistance import dtw\n",
    "import random\n",
    "\n",
    "#save and load dictionaries/lists\n",
    "import pickle\n",
    "\n",
    "#scaling\n",
    "from sklearn.preprocessing import StandardScaler, MinMaxScaler\n",
    "\n",
    "#PCA\n",
    "from sklearn import decomposition\n",
    "\n",
    "#clustering\n",
    "from sklearn.cluster import KMeans #only numerical var\n",
    "from sklearn.metrics import silhouette_samples, silhouette_score\n",
    "import kmodes\n",
    "from kmodes.kmodes import KModes #with categorical var as well\n",
    "\n",
    "#plot\n",
    "import matplotlib.pyplot as plt\n",
    "import seaborn as sns\n",
    "from mpl_toolkits.mplot3d import Axes3D"
   ]
  },
  {
   "cell_type": "code",
   "execution_count": 2,
   "metadata": {},
   "outputs": [
    {
     "name": "stderr",
     "output_type": "stream",
     "text": [
      "C:\\Users\\camil\\anaconda3\\lib\\site-packages\\scipy\\sparse\\sparsetools.py:21: DeprecationWarning: `scipy.sparse.sparsetools` is deprecated!\n",
      "scipy.sparse.sparsetools is a private module for scipy.sparse, and should not be used.\n",
      "  _deprecated()\n"
     ]
    },
    {
     "name": "stdout",
     "output_type": "stream",
     "text": [
      "2\n"
     ]
    }
   ],
   "source": [
    "PACKAGE_PARENT = '../'\n",
    "SCRIPT_DIR = os.path.dirname(os.path.realpath(os.path.join(os.getcwd(), os.path.expanduser('__file__'))))\n",
    "sys.path.append(os.path.normpath(os.path.join(SCRIPT_DIR, PACKAGE_PARENT)))\n",
    "from UTILS import kmeans_clustering, ZoneVariable, time_series_henColumn_tsRow, FB_daily, corr_from_dep2feature,\\\n",
    "corr_from_feature2feature, correlationGraph, ZoneVariable, DataRepresentation1, sampen, chi2_distance, is_day, correct_key\n",
    "import config_origins as config"
   ]
  },
  {
   "cell_type": "markdown",
   "metadata": {},
   "source": [
    "# Define parameters"
   ]
  },
  {
   "cell_type": "code",
   "execution_count": 3,
   "metadata": {
    "scrolled": true
   },
   "outputs": [
    {
     "name": "stdout",
     "output_type": "stream",
     "text": [
      "change the configuration file if not done yet!\n"
     ]
    },
    {
     "name": "stderr",
     "output_type": "stream",
     "text": [
      "C:\\Users\\camil\\anaconda3\\lib\\site-packages\\ipykernel\\ipkernel.py:283: DeprecationWarning: `should_run_async` will not call `transform_cell` automatically in the future. Please pass the result to `transformed_cell` argument and any exception that happen during thetransform in `preprocessing_exc_tuple` in IPython 7.17 and above.\n",
      "  and should_run_async(code)\n"
     ]
    }
   ],
   "source": [
    "print('change the configuration file if not done yet!')\n",
    "path_extracted_data = config.path_extracted_data\n",
    "id_run = config.id_run\n",
    "dico_pen_tr = config.dico_pen_tr\n",
    "li_binmn = config.li_binmn\n",
    "penalty = config.penalty\n",
    "dico_window = config.dico_window\n",
    "birth_date = config.birth_date\n",
    "dico_night_hour = config.dico_night_hour"
   ]
  },
  {
   "cell_type": "markdown",
   "metadata": {},
   "source": [
    "# Download variables"
   ]
  },
  {
   "cell_type": "code",
   "execution_count": 4,
   "metadata": {},
   "outputs": [
    {
     "name": "stderr",
     "output_type": "stream",
     "text": [
      "C:\\Users\\camil\\anaconda3\\lib\\site-packages\\ipykernel\\ipkernel.py:283: DeprecationWarning: `should_run_async` will not call `transform_cell` automatically in the future. Please pass the result to `transformed_cell` argument and any exception that happen during thetransform in `preprocessing_exc_tuple` in IPython 7.17 and above.\n",
      "  and should_run_async(code)\n"
     ]
    },
    {
     "name": "stdout",
     "output_type": "stream",
     "text": [
      "(2059712, 17)\n"
     ]
    },
    {
     "data": {
      "text/html": [
       "<div>\n",
       "<style scoped>\n",
       "    .dataframe tbody tr th:only-of-type {\n",
       "        vertical-align: middle;\n",
       "    }\n",
       "\n",
       "    .dataframe tbody tr th {\n",
       "        vertical-align: top;\n",
       "    }\n",
       "\n",
       "    .dataframe thead th {\n",
       "        text-align: right;\n",
       "    }\n",
       "</style>\n",
       "<table border=\"1\" class=\"dataframe\">\n",
       "  <thead>\n",
       "    <tr style=\"text-align: right;\">\n",
       "      <th></th>\n",
       "      <th>HenID</th>\n",
       "      <th>PenID</th>\n",
       "      <th>system</th>\n",
       "      <th>Zone</th>\n",
       "      <th>model_prediction</th>\n",
       "      <th>Timestamp</th>\n",
       "      <th>date</th>\n",
       "      <th>next_record_date</th>\n",
       "      <th>previous_record_date</th>\n",
       "      <th>previous_duration</th>\n",
       "      <th>next_zone</th>\n",
       "      <th>previous_zone</th>\n",
       "      <th>previous_previous_zone</th>\n",
       "      <th>correction_is_consecutive_equal_initial_zone</th>\n",
       "      <th>is_WG_open</th>\n",
       "      <th>hour</th>\n",
       "      <th>time</th>\n",
       "    </tr>\n",
       "  </thead>\n",
       "  <tbody>\n",
       "    <tr>\n",
       "      <th>0</th>\n",
       "      <td>hen_71</td>\n",
       "      <td>pen12</td>\n",
       "      <td>10 - 12</td>\n",
       "      <td>3_Zone</td>\n",
       "      <td>1</td>\n",
       "      <td>2020-09-29 09:07:00</td>\n",
       "      <td>2020-09-29</td>\n",
       "      <td>2020-09-29 09:08:26.000</td>\n",
       "      <td>NaN</td>\n",
       "      <td>NaN</td>\n",
       "      <td>3_Zone</td>\n",
       "      <td>NaN</td>\n",
       "      <td>NaN</td>\n",
       "      <td>False</td>\n",
       "      <td>False</td>\n",
       "      <td>9</td>\n",
       "      <td>09:07:00</td>\n",
       "    </tr>\n",
       "    <tr>\n",
       "      <th>1</th>\n",
       "      <td>hen_7</td>\n",
       "      <td>pen11</td>\n",
       "      <td>10 - 12</td>\n",
       "      <td>3_Zone</td>\n",
       "      <td>1</td>\n",
       "      <td>2020-09-29 09:08:12</td>\n",
       "      <td>2020-09-29</td>\n",
       "      <td>2020-09-29 09:12:16.000</td>\n",
       "      <td>NaN</td>\n",
       "      <td>NaN</td>\n",
       "      <td>3_Zone</td>\n",
       "      <td>NaN</td>\n",
       "      <td>NaN</td>\n",
       "      <td>False</td>\n",
       "      <td>False</td>\n",
       "      <td>9</td>\n",
       "      <td>09:08:00</td>\n",
       "    </tr>\n",
       "    <tr>\n",
       "      <th>2</th>\n",
       "      <td>hen_10</td>\n",
       "      <td>pen11</td>\n",
       "      <td>10 - 12</td>\n",
       "      <td>3_Zone</td>\n",
       "      <td>1</td>\n",
       "      <td>2020-09-29 09:19:19</td>\n",
       "      <td>2020-09-29</td>\n",
       "      <td>2020-09-29 09:20:27.000</td>\n",
       "      <td>NaN</td>\n",
       "      <td>NaN</td>\n",
       "      <td>3_Zone</td>\n",
       "      <td>NaN</td>\n",
       "      <td>NaN</td>\n",
       "      <td>False</td>\n",
       "      <td>False</td>\n",
       "      <td>9</td>\n",
       "      <td>09:19:00</td>\n",
       "    </tr>\n",
       "  </tbody>\n",
       "</table>\n",
       "</div>"
      ],
      "text/plain": [
       "    HenID  PenID   system    Zone  model_prediction           Timestamp  \\\n",
       "0  hen_71  pen12  10 - 12  3_Zone                 1 2020-09-29 09:07:00   \n",
       "1   hen_7  pen11  10 - 12  3_Zone                 1 2020-09-29 09:08:12   \n",
       "2  hen_10  pen11  10 - 12  3_Zone                 1 2020-09-29 09:19:19   \n",
       "\n",
       "        date         next_record_date previous_record_date previous_duration  \\\n",
       "0 2020-09-29  2020-09-29 09:08:26.000                  NaN               NaN   \n",
       "1 2020-09-29  2020-09-29 09:12:16.000                  NaN               NaN   \n",
       "2 2020-09-29  2020-09-29 09:20:27.000                  NaN               NaN   \n",
       "\n",
       "  next_zone previous_zone previous_previous_zone  \\\n",
       "0    3_Zone           NaN                    NaN   \n",
       "1    3_Zone           NaN                    NaN   \n",
       "2    3_Zone           NaN                    NaN   \n",
       "\n",
       "   correction_is_consecutive_equal_initial_zone  is_WG_open  hour      time  \n",
       "0                                         False       False     9  09:07:00  \n",
       "1                                         False       False     9  09:08:00  \n",
       "2                                         False       False     9  09:19:00  "
      ]
     },
     "execution_count": 4,
     "metadata": {},
     "output_type": "execute_result"
    }
   ],
   "source": [
    "#download the cleaned-movement data\n",
    "df = pd.read_csv(os.path.join(path_extracted_data, id_run+'_CLEANEDDATA.csv'), sep=';', \n",
    "                 parse_dates=['Timestamp', 'date'], dayfirst=True) \n",
    "df['hour'] = df['Timestamp'].map(lambda x: x.hour)\n",
    "df['time'] = df['Timestamp'].map(lambda x: dt.datetime.time(x-dt.timedelta(seconds=x.second)))\n",
    "df.drop('duration', axis=1, inplace=True)\n",
    "print(df.shape)\n",
    "df.head(3)"
   ]
  },
  {
   "cell_type": "markdown",
   "metadata": {},
   "source": [
    "# Compute MLPS vectors"
   ]
  },
  {
   "cell_type": "raw",
   "metadata": {},
   "source": [
    "Attention: note that here we use all mlps, we should be removing the one we dont want for each analysis after. Indeed if no mvt one days: is it because unwanted days or because no mvt provided by the animal?\n",
    "TODO: check each subsequent analysis accordingly!"
   ]
  },
  {
   "cell_type": "markdown",
   "metadata": {},
   "source": [
    "### on the daily-hours - with list of zones per day per animal at second level"
   ]
  },
  {
   "cell_type": "code",
   "execution_count": null,
   "metadata": {},
   "outputs": [],
   "source": [
    "#note that we will have more entries than needed, as the distrubances days are not removed in the raw-cleaned movements\n",
    "#dataframe.\n",
    "dico_pen_level_h = {}\n",
    "#we have to do a loop per pen, due to memory issue\n",
    "for p, df_pen in tqdm.tqdm(df.groupby('PenID')):\n",
    "        \n",
    "    #update results\n",
    "    dico_pen_level_h[p] = {}\n",
    "    \n",
    "    #compute time series\n",
    "    df_ts = time_series_henColumn_tsRow(df_pen, config, col_ts='Zone', ts_with_all_hen_value=False, save=False, \n",
    "                                        hen_time_series=False)\n",
    "    \n",
    "    #restrict to the daylight ONLY\n",
    "    df_ts['is_day'] = df_ts['Timestamp'].map(lambda x: is_day(x, config.dico_night_hour))\n",
    "    df_ts = df_ts[df_ts['is_day']]\n",
    "\n",
    "    #list of all hen present in this pen\n",
    "    li_hen = [v for v in df_ts.columns if 'hen_' in v]\n",
    "\n",
    "    ################# create one list per animal #################\n",
    "    #groupby date to have a list of zones per day (rows) for the hens (columns)\n",
    "    df_ts = df_ts.groupby('date')[li_hen].agg(lambda x: list(x)).reset_index()\n",
    "    #melt to have one row per (day, hens) to avoid looping to create the dictionary\n",
    "    df_ts_ = pd.melt(df_ts, id_vars=['date'], value_vars=li_hen)\n",
    "    for d, df__ in df_ts_.groupby(['date']):\n",
    "        #update results: value column is the list of zone\n",
    "        dico_pen_level_h[p][d] = dict(zip(df__['HenID'].tolist(), df__['value'].tolist()))   \n",
    "    \n",
    "#save dictionaries\n",
    "pickle.dump(dico_pen_level_h, open(os.path.join(path_extracted_data, \n",
    "                                                id_run+'dico_pen_level_h_allzoneidseclevel_DAILYLEVEL.pkl'), 'wb'), pickle.HIGHEST_PROTOCOL)"
   ]
  },
  {
   "cell_type": "markdown",
   "metadata": {},
   "source": [
    "### on the daily-hours with bin(of duration in each bin)"
   ]
  },
  {
   "cell_type": "code",
   "execution_count": 5,
   "metadata": {},
   "outputs": [
    {
     "name": "stderr",
     "output_type": "stream",
     "text": [
      "C:\\Users\\camil\\anaconda3\\lib\\site-packages\\ipykernel\\ipkernel.py:283: DeprecationWarning: `should_run_async` will not call `transform_cell` automatically in the future. Please pass the result to `transformed_cell` argument and any exception that happen during thetransform in `preprocessing_exc_tuple` in IPython 7.17 and above.\n",
      "  and should_run_async(code)\n",
      "\r",
      "  0%|                                                                                            | 0/8 [00:00<?, ?it/s]"
     ]
    },
    {
     "name": "stdout",
     "output_type": "stream",
     "text": [
      "in this time series there is 28 hens\n",
      "The initial starting date in over all is: 2020-09-29 09:20:21, and the ending date will be: 2021-05-10 08:42:27\n",
      "But note that birds may have different ending and starting date which should be taken into account when computing variables\n",
      "and after ending the last day at midnight : 2020-09-29 09:20:21, and the ending date will be: 2021-05-10 23:59:59\n"
     ]
    },
    {
     "name": "stderr",
     "output_type": "stream",
     "text": [
      "\n",
      "  0%|                                                                                            | 0/5 [00:00<?, ?it/s]\u001b[A"
     ]
    },
    {
     "name": "stdout",
     "output_type": "stream",
     "text": [
      "Total running time: 5.28 mn\n"
     ]
    },
    {
     "name": "stderr",
     "output_type": "stream",
     "text": [
      "\n",
      " 20%|████████████████▌                                                                  | 1/5 [12:15<48:59, 734.96s/it]\u001b[A\n",
      " 40%|█████████████████████████████████▏                                                 | 2/5 [26:24<38:28, 769.40s/it]\u001b[A\n",
      " 60%|█████████████████████████████████████████████████▊                                 | 3/5 [37:23<24:32, 736.13s/it]\u001b[A\n",
      " 80%|██████████████████████████████████████████████████████████████████▍                | 4/5 [47:08<11:30, 690.74s/it]\u001b[A\n",
      "100%|███████████████████████████████████████████████████████████████████████████████████| 5/5 [55:50<00:00, 670.01s/it]\u001b[A\n",
      " 12%|█████████▊                                                                    | 1/8 [1:01:08<7:07:56, 3668.07s/it]"
     ]
    },
    {
     "name": "stdout",
     "output_type": "stream",
     "text": [
      "in this time series there is 28 hens\n",
      "The initial starting date in over all is: 2020-09-29 09:08:12, and the ending date will be: 2021-05-10 08:42:22\n",
      "But note that birds may have different ending and starting date which should be taken into account when computing variables\n",
      "and after ending the last day at midnight : 2020-09-29 09:08:12, and the ending date will be: 2021-05-10 23:59:59\n",
      "Total running time: 4.02 mn\n"
     ]
    },
    {
     "name": "stderr",
     "output_type": "stream",
     "text": [
      "\n",
      "  0%|                                                                                            | 0/5 [00:00<?, ?it/s]\u001b[A\n",
      " 20%|████████████████▌                                                                  | 1/5 [09:47<39:10, 587.51s/it]\u001b[A\n",
      " 40%|█████████████████████████████████▏                                                 | 2/5 [21:22<30:58, 619.66s/it]\u001b[A\n",
      " 60%|█████████████████████████████████████████████████▊                                 | 3/5 [31:22<20:27, 613.99s/it]\u001b[A\n",
      " 80%|██████████████████████████████████████████████████████████████████▍                | 4/5 [40:16<09:49, 589.96s/it]\u001b[A\n",
      "100%|███████████████████████████████████████████████████████████████████████████████████| 5/5 [48:59<00:00, 587.93s/it]\u001b[A\n",
      " 25%|███████████████████▌                                                          | 2/8 [1:54:13<5:52:19, 3523.23s/it]"
     ]
    },
    {
     "name": "stdout",
     "output_type": "stream",
     "text": [
      "in this time series there is 31 hens\n",
      "The initial starting date in over all is: 2020-09-29 09:07:00, and the ending date will be: 2021-05-10 08:42:20\n",
      "But note that birds may have different ending and starting date which should be taken into account when computing variables\n",
      "and after ending the last day at midnight : 2020-09-29 09:07:00, and the ending date will be: 2021-05-10 23:59:59\n",
      "Total running time: 4.88 mn\n"
     ]
    },
    {
     "name": "stderr",
     "output_type": "stream",
     "text": [
      "\n",
      "  0%|                                                                                            | 0/5 [00:00<?, ?it/s]\u001b[A\n",
      " 20%|████████████████▌                                                                  | 1/5 [11:52<47:28, 712.24s/it]\u001b[A\n",
      " 40%|█████████████████████████████████▏                                                 | 2/5 [22:22<34:23, 687.76s/it]\u001b[A\n",
      " 60%|█████████████████████████████████████████████████▊                                 | 3/5 [32:02<21:50, 655.23s/it]\u001b[A\n",
      " 80%|██████████████████████████████████████████████████████████████████▍                | 4/5 [46:12<11:53, 713.79s/it]\u001b[A\n",
      "100%|███████████████████████████████████████████████████████████████████████████████████| 5/5 [57:18<00:00, 687.70s/it]\u001b[A\n",
      " 38%|█████████████████████████████▎                                                | 3/8 [2:56:35<4:59:04, 3588.93s/it]"
     ]
    },
    {
     "name": "stdout",
     "output_type": "stream",
     "text": [
      "in this time series there is 28 hens\n",
      "The initial starting date in over all is: 2020-09-29 09:32:45, and the ending date will be: 2021-05-10 08:26:44\n",
      "But note that birds may have different ending and starting date which should be taken into account when computing variables\n",
      "and after ending the last day at midnight : 2020-09-29 09:32:45, and the ending date will be: 2021-05-10 23:59:59\n",
      "Total running time: 4.67 mn\n"
     ]
    },
    {
     "name": "stderr",
     "output_type": "stream",
     "text": [
      "\n",
      "  0%|                                                                                            | 0/5 [00:00<?, ?it/s]\u001b[A\n",
      " 20%|████████████████▌                                                                  | 1/5 [08:59<35:59, 539.87s/it]\u001b[A\n",
      " 40%|█████████████████████████████████▏                                                 | 2/5 [17:29<26:32, 530.90s/it]\u001b[A\n",
      " 60%|█████████████████████████████████████████████████▊                                 | 3/5 [26:30<17:47, 533.67s/it]\u001b[A\n",
      " 80%|██████████████████████████████████████████████████████████████████▍                | 4/5 [36:53<09:20, 560.45s/it]\u001b[A\n",
      "100%|███████████████████████████████████████████████████████████████████████████████████| 5/5 [47:27<00:00, 569.44s/it]\u001b[A\n",
      " 50%|███████████████████████████████████████                                       | 4/8 [3:48:48<3:50:08, 3452.04s/it]"
     ]
    },
    {
     "name": "stdout",
     "output_type": "stream",
     "text": [
      "in this time series there is 27 hens\n",
      "The initial starting date in over all is: 2020-09-29 09:33:43, and the ending date will be: 2021-05-10 08:26:01\n",
      "But note that birds may have different ending and starting date which should be taken into account when computing variables\n",
      "and after ending the last day at midnight : 2020-09-29 09:33:43, and the ending date will be: 2021-05-10 23:59:59\n",
      "Total running time: 3.97 mn\n"
     ]
    },
    {
     "name": "stderr",
     "output_type": "stream",
     "text": [
      "\n",
      "  0%|                                                                                            | 0/5 [00:00<?, ?it/s]\u001b[A\n",
      " 20%|████████████████▌                                                                  | 1/5 [08:52<35:28, 532.14s/it]\u001b[A\n",
      " 40%|█████████████████████████████████▏                                                 | 2/5 [17:23<26:17, 525.97s/it]\u001b[A\n",
      " 60%|█████████████████████████████████████████████████▊                                 | 3/5 [27:13<18:10, 545.02s/it]\u001b[A\n",
      " 80%|██████████████████████████████████████████████████████████████████▍                | 4/5 [38:36<09:46, 586.45s/it]\u001b[A\n",
      "100%|███████████████████████████████████████████████████████████████████████████████████| 5/5 [48:02<00:00, 576.41s/it]\u001b[A\n",
      " 62%|████████████████████████████████████████████████▊                             | 5/8 [4:40:52<2:47:41, 3353.81s/it]"
     ]
    },
    {
     "name": "stdout",
     "output_type": "stream",
     "text": [
      "in this time series there is 29 hens\n",
      "The initial starting date in over all is: 2020-09-29 09:33:48, and the ending date will be: 2021-05-10 08:26:39\n",
      "But note that birds may have different ending and starting date which should be taken into account when computing variables\n",
      "and after ending the last day at midnight : 2020-09-29 09:33:48, and the ending date will be: 2021-05-10 23:59:59\n",
      "Total running time: 3.84 mn\n"
     ]
    },
    {
     "name": "stderr",
     "output_type": "stream",
     "text": [
      "\n",
      "  0%|                                                                                            | 0/5 [00:00<?, ?it/s]\u001b[A\n",
      " 20%|████████████████▌                                                                  | 1/5 [08:54<35:38, 534.65s/it]\u001b[A\n",
      " 40%|█████████████████████████████████▏                                                 | 2/5 [19:35<28:19, 566.42s/it]\u001b[A\n",
      " 60%|█████████████████████████████████████████████████▊                                 | 3/5 [32:06<20:43, 621.75s/it]\u001b[A\n",
      " 80%|██████████████████████████████████████████████████████████████████▍                | 4/5 [42:08<10:15, 615.86s/it]\u001b[A\n",
      "100%|███████████████████████████████████████████████████████████████████████████████████| 5/5 [50:49<00:00, 609.95s/it]\u001b[A\n",
      " 75%|██████████████████████████████████████████████████████████▌                   | 6/8 [5:35:37<1:51:05, 3332.95s/it]"
     ]
    },
    {
     "name": "stdout",
     "output_type": "stream",
     "text": [
      "in this time series there is 29 hens\n",
      "The initial starting date in over all is: 2020-09-29 09:52:12, and the ending date will be: 2021-05-10 08:40:33\n",
      "But note that birds may have different ending and starting date which should be taken into account when computing variables\n",
      "and after ending the last day at midnight : 2020-09-29 09:52:12, and the ending date will be: 2021-05-10 23:59:59\n",
      "Total running time: 5.12 mn\n"
     ]
    },
    {
     "name": "stderr",
     "output_type": "stream",
     "text": [
      "\n",
      "  0%|                                                                                            | 0/5 [00:00<?, ?it/s]\u001b[A\n",
      " 20%|████████████████▌                                                                  | 1/5 [10:54<43:37, 654.44s/it]\u001b[A\n",
      " 40%|█████████████████████████████████▏                                                 | 2/5 [21:36<32:32, 650.77s/it]\u001b[A\n",
      " 60%|█████████████████████████████████████████████████▊                                 | 3/5 [32:03<21:27, 643.67s/it]\u001b[A\n",
      " 80%|██████████████████████████████████████████████████████████████████▍                | 4/5 [40:40<10:05, 605.65s/it]\u001b[A\n",
      "100%|███████████████████████████████████████████████████████████████████████████████████| 5/5 [49:04<00:00, 588.94s/it]\u001b[A\n",
      " 88%|██████████████████████████████████████████████████████████████████████          | 7/8 [6:30:00<55:12, 3312.11s/it]"
     ]
    },
    {
     "name": "stdout",
     "output_type": "stream",
     "text": [
      "in this time series there is 28 hens\n",
      "The initial starting date in over all is: 2020-09-29 09:36:51, and the ending date will be: 2021-05-10 08:39:39\n",
      "But note that birds may have different ending and starting date which should be taken into account when computing variables\n",
      "and after ending the last day at midnight : 2020-09-29 09:36:51, and the ending date will be: 2021-05-10 23:59:59\n",
      "Total running time: 3.96 mn\n"
     ]
    },
    {
     "name": "stderr",
     "output_type": "stream",
     "text": [
      "\n",
      "  0%|                                                                                            | 0/5 [00:00<?, ?it/s]\u001b[A\n",
      " 20%|████████████████▌                                                                  | 1/5 [08:34<34:19, 514.84s/it]\u001b[A\n",
      " 40%|█████████████████████████████████▏                                                 | 2/5 [16:57<25:33, 511.23s/it]\u001b[A\n",
      " 60%|█████████████████████████████████████████████████▊                                 | 3/5 [25:13<16:53, 506.59s/it]\u001b[A\n",
      " 80%|██████████████████████████████████████████████████████████████████▍                | 4/5 [33:23<08:21, 501.55s/it]\u001b[A\n",
      "100%|███████████████████████████████████████████████████████████████████████████████████| 5/5 [41:30<00:00, 498.13s/it]\u001b[A\n",
      "100%|████████████████████████████████████████████████████████████████████████████████| 8/8 [7:15:31<00:00, 3266.40s/it]\n"
     ]
    }
   ],
   "source": [
    "#for efficiency purpose let's compute the bined time series first\n",
    "#note that we will have more entries than needed, as the distrubances days are not removed in the raw-cleaned movements\n",
    "#dataframe.\n",
    "dico_pen_bin_zone_level_h = {}\n",
    "dico_pen_bin_level_h = {}\n",
    "def duration_normalized_perZone(x):\n",
    "    c = Counter(x)\n",
    "    t = len(x)\n",
    "    return [c['1_Zone']/t, c['2_Zone']/t, c['3_Zone']/t, c['4_Zone']/t, c['5_Zone']/t]\n",
    "#small example\n",
    "#li = ['1_Zone','3_Zone','3_Zone','4_Zone','5_Zone','5_Zone','1_Zone']\n",
    "#duration_normalized_perZone(li)\n",
    "\n",
    "for p, df_pen in tqdm.tqdm(df.groupby('PenID')):\n",
    "    \n",
    "    #update results\n",
    "    dico_pen_bin_zone_level_h[p] = {}\n",
    "    dico_pen_bin_level_h[p] = {}\n",
    "    \n",
    "    #compute time series\n",
    "    df_ts = time_series_henColumn_tsRow(df_pen, config, col_ts='Zone', ts_with_all_hen_value=False, save=False, \n",
    "                                        hen_time_series=False)\n",
    "    \n",
    "    for nbr_binmn in tqdm.tqdm(li_binmn):\n",
    "        \n",
    "        #update results\n",
    "        dico_pen_bin_zone_level_h[p][nbr_binmn] = {}\n",
    "        dico_pen_bin_level_h[p][nbr_binmn] = {}\n",
    "                \n",
    "        #reduce to the interval we want\n",
    "        mi = min(df_ts['Timestamp'].tolist())\n",
    "        ma = max(df_ts['Timestamp'].tolist())\n",
    "        #extend the end to the end of the day in case it case the last day available fo the chicken\n",
    "        Daterange = pd.date_range(start = mi, end = ma, freq = str(nbr_binmn)+'MIN')    \n",
    "        df_date = pd.DataFrame({str(nbr_binmn)+'mn_timestamp':Daterange})\n",
    "        new_timestamp = str(nbr_binmn)+'mn_timestamp'\n",
    "        df_date[new_timestamp] = df_date[new_timestamp].map(lambda x: pd.to_datetime(x))\n",
    "        df_ts_ = pd.merge_asof(df_ts, df_date, left_on=['Timestamp'], right_on=[new_timestamp], direction='forward')\n",
    "        \n",
    "        #restrict to the day ONLY\n",
    "        df_ts_['is_day'] = df_ts_['Timestamp'].map(lambda x: is_day(x, config.dico_night_hour))\n",
    "        df_ts_ = df_ts_[df_ts_['is_day']]\n",
    "        \n",
    "        #groupby the interval that we want with the number of minutes in nestbox\n",
    "        li_hen = [v for v in df_ts.columns if 'hen_' in v]\n",
    "        \n",
    "        ################# overall mlp #################\n",
    "        df_sim = df_ts_.groupby(new_timestamp)[li_hen].agg(lambda x: duration_normalized_perZone(x)).reset_index()\n",
    "        df_sim['date'] = df_sim[new_timestamp].map(lambda x: dt.datetime(x.year,x.month,x.day))\n",
    "        #groupby date to have a list of zones per day (rows) for the hens (columns)\n",
    "        df_sim = df_sim.groupby('date')[li_hen].agg(lambda x: list(x)).reset_index()\n",
    "        #print(df_zone_sim.shape)\n",
    "        #display(df_zone_sim.head(3))\n",
    "\n",
    "        #melt to have one row per (day, hens) to avoid looping to create the dictionary\n",
    "        df_sim_ = pd.melt(df_sim, id_vars=['date'], value_vars=li_hen)\n",
    "        #variable column has the henIDs\n",
    "        #print(df_zone_sim_.shape)\n",
    "        #display(df_zone_sim_.head(3))\n",
    "        for d, df__ in df_sim_.groupby(['date']):\n",
    "            #update results\n",
    "            dico_pen_bin_level_h[p][nbr_binmn][d] = dict(zip(df__['variable'].tolist(), df__['value'].tolist()))   \n",
    "            \n",
    "            \n",
    "        ################# zone-ts over each zone #################                \n",
    "        for ZONE in df['Zone'].unique():\n",
    "            \n",
    "            #update results\n",
    "            dico_pen_bin_zone_level_h[p][nbr_binmn][ZONE] = {}\n",
    "                \n",
    "            df_zone_sim = df_ts_.groupby(new_timestamp)[li_hen].agg(lambda x: sum([i==ZONE for i in x])/60).reset_index()\n",
    "            df_zone_sim['date'] = df_zone_sim[new_timestamp].map(lambda x: dt.datetime(x.year,x.month,x.day))\n",
    "\n",
    "            #groupby date to have a list of zones per day (rows) for the hens (columns)\n",
    "            df_zone_sim = df_zone_sim.groupby('date')[li_hen].agg(lambda x: list(x)).reset_index()\n",
    "            #print(df_zone_sim.shape)\n",
    "            #display(df_zone_sim.head(3))\n",
    "            \n",
    "            #melt to have one row per (day, hens) to avoid looping to create the dictionary\n",
    "            df_zone_sim_ = pd.melt(df_zone_sim, id_vars=['date'], value_vars=li_hen)\n",
    "            #variable column has the henIDs\n",
    "            #print(df_zone_sim_.shape)\n",
    "            #display(df_zone_sim_.head(3))\n",
    "            for d, df__ in df_zone_sim_.groupby(['date']):\n",
    "                #update results\n",
    "                dico_pen_bin_zone_level_h[p][nbr_binmn][ZONE][d] = dict(zip(df__['variable'].tolist(), df__['value'].tolist()))\n",
    "#save dictionaries\n",
    "pickle.dump(dico_pen_bin_zone_level_h, open(os.path.join(path_extracted_data, \n",
    "                                                     id_run+'dico_pen_bin_zone_level_h_DAILYLEVEL.pkl'), 'wb'), pickle.HIGHEST_PROTOCOL)\n",
    "pickle.dump(dico_pen_bin_level_h, open(os.path.join(path_extracted_data, \n",
    "                                                 id_run+'dico_pen_bin_level_h_DAILYLEVEL.pkl'), 'wb'), pickle.HIGHEST_PROTOCOL)"
   ]
  },
  {
   "cell_type": "markdown",
   "metadata": {},
   "source": [
    "### on [2h, 17h59] only"
   ]
  },
  {
   "cell_type": "code",
   "execution_count": 6,
   "metadata": {},
   "outputs": [
    {
     "name": "stderr",
     "output_type": "stream",
     "text": [
      "C:\\Users\\camil\\anaconda3\\lib\\site-packages\\ipykernel\\ipkernel.py:283: DeprecationWarning: `should_run_async` will not call `transform_cell` automatically in the future. Please pass the result to `transformed_cell` argument and any exception that happen during thetransform in `preprocessing_exc_tuple` in IPython 7.17 and above.\n",
      "  and should_run_async(code)\n",
      "\r",
      "  0%|                                                                                            | 0/8 [00:00<?, ?it/s]"
     ]
    },
    {
     "name": "stdout",
     "output_type": "stream",
     "text": [
      "in this time series there is 28 hens\n",
      "The initial starting date in over all is: 2020-09-29 09:20:21, and the ending date will be: 2021-05-10 08:42:27\n",
      "But note that birds may have different ending and starting date which should be taken into account when computing variables\n",
      "and after ending the last day at midnight : 2020-09-29 09:20:21, and the ending date will be: 2021-05-10 23:59:59\n",
      "Total running time: 3.61 mn\n"
     ]
    },
    {
     "name": "stderr",
     "output_type": "stream",
     "text": [
      "\n",
      "  0%|                                                                                            | 0/5 [00:00<?, ?it/s]\u001b[A\n",
      " 20%|████████████████▌                                                                  | 1/5 [07:20<29:20, 440.10s/it]\u001b[A\n",
      " 40%|█████████████████████████████████▏                                                 | 2/5 [14:24<21:46, 435.52s/it]\u001b[A\n",
      " 60%|█████████████████████████████████████████████████▊                                 | 3/5 [21:24<14:21, 430.74s/it]\u001b[A\n",
      " 80%|██████████████████████████████████████████████████████████████████▍                | 4/5 [28:21<07:06, 426.69s/it]\u001b[A\n",
      "100%|███████████████████████████████████████████████████████████████████████████████████| 5/5 [35:13<00:00, 422.77s/it]\u001b[A\n",
      " 12%|██████████                                                                      | 1/8 [38:53<4:32:11, 2333.13s/it]"
     ]
    },
    {
     "name": "stdout",
     "output_type": "stream",
     "text": [
      "in this time series there is 28 hens\n",
      "The initial starting date in over all is: 2020-09-29 09:08:12, and the ending date will be: 2021-05-10 08:42:22\n",
      "But note that birds may have different ending and starting date which should be taken into account when computing variables\n",
      "and after ending the last day at midnight : 2020-09-29 09:08:12, and the ending date will be: 2021-05-10 23:59:59\n",
      "Total running time: 3.69 mn\n"
     ]
    },
    {
     "name": "stderr",
     "output_type": "stream",
     "text": [
      "\n",
      "  0%|                                                                                            | 0/5 [00:00<?, ?it/s]\u001b[A\n",
      " 20%|████████████████▌                                                                  | 1/5 [07:19<29:16, 439.06s/it]\u001b[A\n",
      " 40%|█████████████████████████████████▏                                                 | 2/5 [14:26<21:46, 435.42s/it]\u001b[A\n",
      " 60%|█████████████████████████████████████████████████▊                                 | 3/5 [21:26<14:22, 431.02s/it]\u001b[A\n",
      " 80%|██████████████████████████████████████████████████████████████████▍                | 4/5 [28:24<07:07, 427.13s/it]\u001b[A\n",
      "100%|███████████████████████████████████████████████████████████████████████████████████| 5/5 [35:18<00:00, 423.63s/it]\u001b[A\n",
      " 25%|███████████████████▌                                                          | 2/8 [1:17:54<3:53:33, 2335.50s/it]"
     ]
    },
    {
     "name": "stdout",
     "output_type": "stream",
     "text": [
      "in this time series there is 31 hens\n",
      "The initial starting date in over all is: 2020-09-29 09:07:00, and the ending date will be: 2021-05-10 08:42:20\n",
      "But note that birds may have different ending and starting date which should be taken into account when computing variables\n",
      "and after ending the last day at midnight : 2020-09-29 09:07:00, and the ending date will be: 2021-05-10 23:59:59\n",
      "Total running time: 3.79 mn\n"
     ]
    },
    {
     "name": "stderr",
     "output_type": "stream",
     "text": [
      "\n",
      "  0%|                                                                                            | 0/5 [00:00<?, ?it/s]\u001b[A\n",
      " 20%|████████████████▌                                                                  | 1/5 [08:03<32:14, 483.62s/it]\u001b[A\n",
      " 40%|█████████████████████████████████▏                                                 | 2/5 [15:50<23:55, 478.56s/it]\u001b[A\n",
      " 60%|█████████████████████████████████████████████████▊                                 | 3/5 [23:32<15:47, 473.54s/it]\u001b[A\n",
      " 80%|██████████████████████████████████████████████████████████████████▍                | 4/5 [31:07<07:48, 468.19s/it]\u001b[A\n",
      "100%|███████████████████████████████████████████████████████████████████████████████████| 5/5 [38:40<00:00, 464.17s/it]\u001b[A\n",
      " 38%|█████████████████████████████▎                                                | 3/8 [2:00:24<3:19:59, 2399.93s/it]"
     ]
    },
    {
     "name": "stdout",
     "output_type": "stream",
     "text": [
      "in this time series there is 28 hens\n",
      "The initial starting date in over all is: 2020-09-29 09:32:45, and the ending date will be: 2021-05-10 08:26:44\n",
      "But note that birds may have different ending and starting date which should be taken into account when computing variables\n",
      "and after ending the last day at midnight : 2020-09-29 09:32:45, and the ending date will be: 2021-05-10 23:59:59\n",
      "Total running time: 3.77 mn\n"
     ]
    },
    {
     "name": "stderr",
     "output_type": "stream",
     "text": [
      "\n",
      "  0%|                                                                                            | 0/5 [00:00<?, ?it/s]\u001b[A\n",
      " 20%|████████████████▌                                                                  | 1/5 [07:25<29:43, 445.75s/it]\u001b[A\n",
      " 40%|█████████████████████████████████▏                                                 | 2/5 [14:35<22:02, 440.81s/it]\u001b[A\n",
      " 60%|█████████████████████████████████████████████████▊                                 | 3/5 [21:38<14:31, 435.61s/it]\u001b[A\n",
      " 80%|██████████████████████████████████████████████████████████████████▍                | 4/5 [28:37<07:10, 430.54s/it]\u001b[A\n",
      "100%|███████████████████████████████████████████████████████████████████████████████████| 5/5 [35:32<00:00, 426.44s/it]\u001b[A\n",
      " 50%|███████████████████████████████████████                                       | 4/8 [2:39:44<2:39:12, 2388.09s/it]"
     ]
    },
    {
     "name": "stdout",
     "output_type": "stream",
     "text": [
      "in this time series there is 27 hens\n",
      "The initial starting date in over all is: 2020-09-29 09:33:43, and the ending date will be: 2021-05-10 08:26:01\n",
      "But note that birds may have different ending and starting date which should be taken into account when computing variables\n",
      "and after ending the last day at midnight : 2020-09-29 09:33:43, and the ending date will be: 2021-05-10 23:59:59\n",
      "Total running time: 3.85 mn\n"
     ]
    },
    {
     "name": "stderr",
     "output_type": "stream",
     "text": [
      "\n",
      "  0%|                                                                                            | 0/5 [00:00<?, ?it/s]\u001b[A\n",
      " 20%|████████████████▌                                                                  | 1/5 [07:06<28:24, 426.01s/it]\u001b[A\n",
      " 40%|█████████████████████████████████▏                                                 | 2/5 [14:05<21:12, 424.18s/it]\u001b[A\n",
      " 60%|█████████████████████████████████████████████████▊                                 | 3/5 [20:55<13:59, 419.68s/it]\u001b[A\n",
      " 80%|██████████████████████████████████████████████████████████████████▍                | 4/5 [27:42<06:55, 415.94s/it]\u001b[A\n",
      "100%|███████████████████████████████████████████████████████████████████████████████████| 5/5 [34:32<00:00, 414.40s/it]\u001b[A\n",
      " 62%|████████████████████████████████████████████████▊                             | 5/8 [3:18:09<1:58:09, 2363.17s/it]"
     ]
    },
    {
     "name": "stdout",
     "output_type": "stream",
     "text": [
      "in this time series there is 29 hens\n",
      "The initial starting date in over all is: 2020-09-29 09:33:48, and the ending date will be: 2021-05-10 08:26:39\n",
      "But note that birds may have different ending and starting date which should be taken into account when computing variables\n",
      "and after ending the last day at midnight : 2020-09-29 09:33:48, and the ending date will be: 2021-05-10 23:59:59\n",
      "Total running time: 4.05 mn\n"
     ]
    },
    {
     "name": "stderr",
     "output_type": "stream",
     "text": [
      "\n",
      "  0%|                                                                                            | 0/5 [00:00<?, ?it/s]\u001b[A\n",
      " 20%|████████████████▌                                                                  | 1/5 [07:50<31:21, 470.48s/it]\u001b[A\n",
      " 40%|█████████████████████████████████▏                                                 | 2/5 [15:29<23:21, 467.15s/it]\u001b[A\n",
      " 60%|█████████████████████████████████████████████████▊                                 | 3/5 [23:16<15:33, 466.95s/it]\u001b[A\n",
      " 80%|██████████████████████████████████████████████████████████████████▍                | 4/5 [30:48<07:42, 462.50s/it]\u001b[A\n",
      "100%|███████████████████████████████████████████████████████████████████████████████████| 5/5 [38:15<00:00, 459.17s/it]\u001b[A\n",
      " 75%|██████████████████████████████████████████████████████████▌                   | 6/8 [4:00:30<1:20:32, 2416.38s/it]"
     ]
    },
    {
     "name": "stdout",
     "output_type": "stream",
     "text": [
      "in this time series there is 29 hens\n",
      "The initial starting date in over all is: 2020-09-29 09:52:12, and the ending date will be: 2021-05-10 08:40:33\n",
      "But note that birds may have different ending and starting date which should be taken into account when computing variables\n",
      "and after ending the last day at midnight : 2020-09-29 09:52:12, and the ending date will be: 2021-05-10 23:59:59\n"
     ]
    },
    {
     "name": "stderr",
     "output_type": "stream",
     "text": [
      "\n",
      "  0%|                                                                                            | 0/5 [00:00<?, ?it/s]\u001b[A"
     ]
    },
    {
     "name": "stdout",
     "output_type": "stream",
     "text": [
      "Total running time: 3.80 mn\n"
     ]
    },
    {
     "name": "stderr",
     "output_type": "stream",
     "text": [
      "\n",
      " 20%|████████████████▌                                                                  | 1/5 [08:00<32:03, 480.82s/it]\u001b[A\n",
      " 40%|█████████████████████████████████▏                                                 | 2/5 [15:42<23:44, 474.95s/it]\u001b[A\n",
      " 60%|█████████████████████████████████████████████████▊                                 | 3/5 [23:18<15:38, 469.50s/it]\u001b[A\n",
      " 80%|██████████████████████████████████████████████████████████████████▍                | 4/5 [30:55<07:45, 465.70s/it]\u001b[A\n",
      "100%|███████████████████████████████████████████████████████████████████████████████████| 5/5 [38:36<00:00, 463.35s/it]\u001b[A\n",
      " 88%|██████████████████████████████████████████████████████████████████████          | 7/8 [4:42:58<40:55, 2455.80s/it]"
     ]
    },
    {
     "name": "stdout",
     "output_type": "stream",
     "text": [
      "in this time series there is 28 hens\n",
      "The initial starting date in over all is: 2020-09-29 09:36:51, and the ending date will be: 2021-05-10 08:39:39\n",
      "But note that birds may have different ending and starting date which should be taken into account when computing variables\n",
      "and after ending the last day at midnight : 2020-09-29 09:36:51, and the ending date will be: 2021-05-10 23:59:59\n",
      "Total running time: 3.99 mn\n"
     ]
    },
    {
     "name": "stderr",
     "output_type": "stream",
     "text": [
      "\n",
      "  0%|                                                                                            | 0/5 [00:00<?, ?it/s]\u001b[A\n",
      " 20%|████████████████▌                                                                  | 1/5 [07:50<31:23, 470.81s/it]\u001b[A\n",
      " 40%|█████████████████████████████████▏                                                 | 2/5 [15:43<23:34, 471.47s/it]\u001b[A\n",
      " 60%|█████████████████████████████████████████████████▊                                 | 3/5 [23:42<15:47, 473.64s/it]\u001b[A\n",
      " 80%|██████████████████████████████████████████████████████████████████▍                | 4/5 [31:32<07:52, 472.60s/it]\u001b[A\n",
      "100%|███████████████████████████████████████████████████████████████████████████████████| 5/5 [39:45<00:00, 477.11s/it]\u001b[A\n",
      "100%|████████████████████████████████████████████████████████████████████████████████| 8/8 [5:26:47<00:00, 2450.97s/it]\n"
     ]
    }
   ],
   "source": [
    "#for efficiency purpose let's compute the bined time series first\n",
    "#note that we will have more entries than needed, as the distrubances days are not removed in the raw-cleaned movements\n",
    "#dataframe.\n",
    "dico_pen_bin_zone_level_h = {}\n",
    "dico_pen_bin_level_h = {}\n",
    "def duration_normalized_perZone(x):\n",
    "    c = Counter(x)\n",
    "    t = len(x)\n",
    "    return [c['1_Zone']/t, c['2_Zone']/t, c['3_Zone']/t, c['4_Zone']/t, c['5_Zone']/t]\n",
    "#small example\n",
    "#li = ['1_Zone','3_Zone','3_Zone','4_Zone','5_Zone','5_Zone','1_Zone']\n",
    "#duration_normalized_perZone(li)\n",
    "\n",
    "for p, df_pen in tqdm.tqdm(df.groupby('PenID')):\n",
    "    \n",
    "    #update results\n",
    "    dico_pen_bin_zone_level_h[p] = {}\n",
    "    dico_pen_bin_level_h[p] = {}\n",
    "    \n",
    "    #compute time series\n",
    "    df_ts = time_series_henColumn_tsRow(df_pen, config, col_ts='Zone', ts_with_all_hen_value=False, save=False, \n",
    "                                        hen_time_series=False)\n",
    "    \n",
    "    for nbr_binmn in tqdm.tqdm(li_binmn):\n",
    "        \n",
    "        #update results\n",
    "        dico_pen_bin_zone_level_h[p][nbr_binmn] = {}\n",
    "        dico_pen_bin_level_h[p][nbr_binmn] = {}\n",
    "                \n",
    "        #reduce to the interval we want\n",
    "        mi = min(df_ts['Timestamp'].tolist())\n",
    "        ma = max(df_ts['Timestamp'].tolist())\n",
    "        #extend the end to the end of the day in case it case the last day available fo the chicken\n",
    "        Daterange = pd.date_range(start = mi, end = ma, freq = str(nbr_binmn)+'MIN')    \n",
    "        df_date = pd.DataFrame({str(nbr_binmn)+'mn_timestamp':Daterange})\n",
    "        new_timestamp = str(nbr_binmn)+'mn_timestamp'\n",
    "        df_date[new_timestamp] = df_date[new_timestamp].map(lambda x: pd.to_datetime(x))\n",
    "        df_ts_ = pd.merge_asof(df_ts, df_date, left_on=['Timestamp'], right_on=[new_timestamp], direction='forward')\n",
    "        \n",
    "        #restrict to 2h-17h59 ONLY\n",
    "        df_ts_['is_2h17'] = df_ts_['Timestamp'].map(lambda x: (x.hour>=2)&(x.hour<18))\n",
    "        df_ts_ = df_ts_[df_ts_['is_2h17']]\n",
    "        \n",
    "        #groupby the interval that we want with the number of minutes in nestbox\n",
    "        li_hen = [v for v in df_ts.columns if 'hen_' in v]\n",
    "        \n",
    "        ################# overall mlp #################\n",
    "        df_sim = df_ts_.groupby(new_timestamp)[li_hen].agg(lambda x: duration_normalized_perZone(x)).reset_index()\n",
    "        df_sim['date'] = df_sim[new_timestamp].map(lambda x: dt.datetime(x.year,x.month,x.day))\n",
    "        #groupby date to have a list of zones per day (rows) for the hens (columns)\n",
    "        df_sim = df_sim.groupby('date')[li_hen].agg(lambda x: list(x)).reset_index()\n",
    "        #print(df_zone_sim.shape)\n",
    "        #display(df_zone_sim.head(3))\n",
    "\n",
    "        #melt to have one row per (day, hens) to avoid looping to create the dictionary\n",
    "        df_sim_ = pd.melt(df_sim, id_vars=['date'], value_vars=li_hen)\n",
    "        #variable column has the henIDs\n",
    "        #print(df_zone_sim_.shape)\n",
    "        #display(df_zone_sim_.head(3))\n",
    "        for d, df__ in df_sim_.groupby(['date']):\n",
    "            #update results\n",
    "            dico_pen_bin_level_h[p][nbr_binmn][d] = dict(zip(df__['variable'].tolist(), df__['value'].tolist()))   \n",
    "            \n",
    "            \n",
    "        ################# zone-ts over each zone #################                \n",
    "        for ZONE in df['Zone'].unique():\n",
    "            \n",
    "            #update results\n",
    "            dico_pen_bin_zone_level_h[p][nbr_binmn][ZONE] = {}\n",
    "                \n",
    "            df_zone_sim = df_ts_.groupby(new_timestamp)[li_hen].agg(lambda x: sum([i==ZONE for i in x])/60).reset_index()\n",
    "            df_zone_sim['date'] = df_zone_sim[new_timestamp].map(lambda x: dt.datetime(x.year,x.month,x.day))\n",
    "\n",
    "            #groupby date to have a list of zones per day (rows) for the hens (columns)\n",
    "            df_zone_sim = df_zone_sim.groupby('date')[li_hen].agg(lambda x: list(x)).reset_index()\n",
    "            #print(df_zone_sim.shape)\n",
    "            #display(df_zone_sim.head(3))\n",
    "            \n",
    "            #melt to have one row per (day, hens) to avoid looping to create the dictionary\n",
    "            df_zone_sim_ = pd.melt(df_zone_sim, id_vars=['date'], value_vars=li_hen)\n",
    "            #variable column has the henIDs\n",
    "            #print(df_zone_sim_.shape)\n",
    "            #display(df_zone_sim_.head(3))\n",
    "            for d, df__ in df_zone_sim_.groupby(['date']):\n",
    "                #update results\n",
    "                dico_pen_bin_zone_level_h[p][nbr_binmn][ZONE][d] = dict(zip(df__['variable'].tolist(), df__['value'].tolist()))\n",
    "#save dictionaries\n",
    "pickle.dump(dico_pen_bin_zone_level_h, open(os.path.join(path_extracted_data, \n",
    "                                                     id_run+'dico_pen_bin_zone_level_h_2h-17h59LEVEL.pkl'), 'wb'), pickle.HIGHEST_PROTOCOL)\n",
    "pickle.dump(dico_pen_bin_level_h, open(os.path.join(path_extracted_data, \n",
    "                                                 id_run+'dico_pen_bin_level_h_2h-17h59LEVEL.pkl'), 'wb'), pickle.HIGHEST_PROTOCOL)"
   ]
  },
  {
   "cell_type": "markdown",
   "metadata": {},
   "source": [
    "### On the entire 24h period for generality"
   ]
  },
  {
   "cell_type": "markdown",
   "metadata": {
    "scrolled": false
   },
   "source": [
    "#for efficiency purpose let's compute the bined time series first\n",
    "#note that we will have more entries than needed, as the distrubances days are not removed in the raw-cleaned movements\n",
    "#dataframe.\n",
    "dico_pen_bin_zone_level_h = {}\n",
    "dico_pen_bin_level_h = {}\n",
    "def duration_normalized_perZone(x):\n",
    "    c = Counter(x)\n",
    "    t = len(x)\n",
    "    return [c['1_Zone']/t, c['2_Zone']/t, c['3_Zone']/t, c['4_Zone']/t, c['5_Zone']/t]\n",
    "#small example\n",
    "#li = ['1_Zone','3_Zone','3_Zone','4_Zone','5_Zone','5_Zone','1_Zone']\n",
    "#duration_normalized_perZone(li)\n",
    "\n",
    "for p, df_pen in tqdm.tqdm(df.groupby('PenID')):\n",
    "    \n",
    "    #update results\n",
    "    dico_pen_bin_zone_level_h[p] = {}\n",
    "    dico_pen_bin_level_h[p] = {}\n",
    "    \n",
    "    #compute time series\n",
    "    df_ts = time_series_henColumn_tsRow(df_pen, config, col_ts='Zone', ts_with_all_hen_value=False, save=False, \n",
    "                                        hen_time_series=False)\n",
    "    \n",
    "    for nbr_binmn in tqdm.tqdm(li_binmn):\n",
    "        \n",
    "        #update results\n",
    "        dico_pen_bin_zone_level_h[p][nbr_binmn] = {}\n",
    "        dico_pen_bin_level_h[p][nbr_binmn] = {}\n",
    "                \n",
    "        #reduce to the interval we want\n",
    "        mi = min(df_ts['Timestamp'].tolist())\n",
    "        ma = max(df_ts['Timestamp'].tolist())\n",
    "        #extend the end to the end of the day in case it case the last day available fo the chicken\n",
    "        Daterange = pd.date_range(start = mi, end = ma, freq = str(nbr_binmn)+'MIN')    \n",
    "        df_date = pd.DataFrame({str(nbr_binmn)+'mn_timestamp':Daterange})\n",
    "        new_timestamp = str(nbr_binmn)+'mn_timestamp'\n",
    "        df_date[new_timestamp] = df_date[new_timestamp].map(lambda x: pd.to_datetime(x))\n",
    "        df_ts_ = pd.merge_asof(df_ts, df_date, left_on=['Timestamp'], right_on=[new_timestamp], direction='forward')\n",
    "        #groupby the interval that we want with the number of minutes in nestbox\n",
    "        li_hen = [v for v in df_ts.columns if 'hen_' in v]\n",
    "        \n",
    "        ################# overall mlp #################\n",
    "        df_sim = df_ts_.groupby(new_timestamp)[li_hen].agg(lambda x: duration_normalized_perZone(x)).reset_index()\n",
    "        df_sim['date'] = df_sim[new_timestamp].map(lambda x: dt.datetime(x.year,x.month,x.day))\n",
    "        #groupby date to have a list of zones per day (rows) for the hens (columns)\n",
    "        df_sim = df_sim.groupby('date')[li_hen].agg(lambda x: list(x)).reset_index()\n",
    "        #print(df_zone_sim.shape)\n",
    "        #display(df_zone_sim.head(3))\n",
    "\n",
    "        #melt to have one row per (day, hens) to avoid looping to create the dictionary\n",
    "        df_sim_ = pd.melt(df_sim, id_vars=['date'], value_vars=li_hen)\n",
    "        #variable column has the henIDs\n",
    "        #print(df_zone_sim_.shape)\n",
    "        #display(df_zone_sim_.head(3))\n",
    "        for d, df__ in df_sim_.groupby(['date']):\n",
    "            #update results\n",
    "            dico_pen_bin_level_h[p][nbr_binmn][d] = dict(zip(df__['variable'].tolist(), df__['value'].tolist()))   \n",
    "            \n",
    "            \n",
    "        ################# zone-ts over each zone #################                \n",
    "        for ZONE in df['Zone'].unique():\n",
    "            \n",
    "            #update results\n",
    "            dico_pen_bin_zone_level_h[p][nbr_binmn][ZONE] = {}\n",
    "                \n",
    "            df_zone_sim = df_ts_.groupby(new_timestamp)[li_hen].agg(lambda x: sum([i==ZONE for i in x])/60).reset_index()\n",
    "            df_zone_sim['date'] = df_zone_sim[new_timestamp].map(lambda x: dt.datetime(x.year,x.month,x.day))\n",
    "\n",
    "            #groupby date to have a list of zones per day (rows) for the hens (columns)\n",
    "            df_zone_sim = df_zone_sim.groupby('date')[li_hen].agg(lambda x: list(x)).reset_index()\n",
    "            #print(df_zone_sim.shape)\n",
    "            #display(df_zone_sim.head(3))\n",
    "            \n",
    "            #melt to have one row per (day, hens) to avoid looping to create the dictionary\n",
    "            df_zone_sim_ = pd.melt(df_zone_sim, id_vars=['date'], value_vars=li_hen)\n",
    "            #variable column has the henIDs\n",
    "            #print(df_zone_sim_.shape)\n",
    "            #display(df_zone_sim_.head(3))\n",
    "            for d, df__ in df_zone_sim_.groupby(['date']):\n",
    "                #update results\n",
    "                dico_pen_bin_zone_level_h[p][nbr_binmn][ZONE][d] = dict(zip(df__['variable'].tolist(), df__['value'].tolist()))\n",
    "#save dictionaries\n",
    "pickle.dump(dico_pen_bin_zone_level_h, open(os.path.join(path_extracted_data, \n",
    "                                                     id_run+'dico_pen_bin_zone_level_h.pkl'), 'wb'), pickle.HIGHEST_PROTOCOL)\n",
    "pickle.dump(dico_pen_bin_level_h, open(os.path.join(path_extracted_data, \n",
    "                                                 id_run+'dico_pen_bin_level_h.pkl'), 'wb'), pickle.HIGHEST_PROTOCOL)"
   ]
  },
  {
   "cell_type": "markdown",
   "metadata": {},
   "source": [
    "#download the two dictionaries\n",
    "dico_pen_bin_zone_level_h = pickle.load(open(os.path.join(path_extracted_data, \n",
    "                                                 id_run+'dico_pen_bin_zone_level_h.pkl'), 'rb'))\n",
    "dico_pen_bin_level_h = pickle.load(open(os.path.join(path_extracted_data, \n",
    "                                                     id_run+'dico_pen_bin_level_h.pkl'), 'rb'))"
   ]
  },
  {
   "cell_type": "code",
   "execution_count": null,
   "metadata": {},
   "outputs": [],
   "source": []
  },
  {
   "cell_type": "code",
   "execution_count": null,
   "metadata": {},
   "outputs": [],
   "source": []
  },
  {
   "cell_type": "code",
   "execution_count": null,
   "metadata": {},
   "outputs": [],
   "source": []
  },
  {
   "cell_type": "code",
   "execution_count": null,
   "metadata": {},
   "outputs": [],
   "source": []
  },
  {
   "cell_type": "code",
   "execution_count": null,
   "metadata": {},
   "outputs": [],
   "source": []
  },
  {
   "cell_type": "code",
   "execution_count": null,
   "metadata": {},
   "outputs": [],
   "source": []
  },
  {
   "cell_type": "code",
   "execution_count": null,
   "metadata": {},
   "outputs": [],
   "source": []
  },
  {
   "cell_type": "code",
   "execution_count": null,
   "metadata": {},
   "outputs": [],
   "source": []
  },
  {
   "cell_type": "code",
   "execution_count": null,
   "metadata": {},
   "outputs": [],
   "source": []
  }
 ],
 "metadata": {
  "kernelspec": {
   "display_name": "Python 3",
   "language": "python",
   "name": "python3"
  },
  "language_info": {
   "codemirror_mode": {
    "name": "ipython",
    "version": 3
   },
   "file_extension": ".py",
   "mimetype": "text/x-python",
   "name": "python",
   "nbconvert_exporter": "python",
   "pygments_lexer": "ipython3",
   "version": "3.8.5"
  }
 },
 "nbformat": 4,
 "nbformat_minor": 2
}
