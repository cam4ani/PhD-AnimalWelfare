{
 "cells": [
  {
   "cell_type": "code",
   "execution_count": 1,
   "metadata": {},
   "outputs": [],
   "source": [
    "#basic package\n",
    "import tqdm\n",
    "import os\n",
    "import numpy as np\n",
    "import glob\n",
    "import pandas as pd\n",
    "import sys\n",
    "import time\n",
    "import datetime as dt\n",
    "import itertools\n",
    "import re\n",
    "import math\n",
    "from collections import Counter\n",
    "import operator\n",
    "\n",
    "#scaling\n",
    "from sklearn.preprocessing import StandardScaler, MinMaxScaler\n",
    "\n",
    "#modelling\n",
    "from catboost import CatBoostClassifier, Pool\n",
    "\n",
    "#plot\n",
    "import matplotlib.pyplot as plt\n",
    "import seaborn as sns"
   ]
  },
  {
   "cell_type": "code",
   "execution_count": 2,
   "metadata": {},
   "outputs": [
    {
     "name": "stderr",
     "output_type": "stream",
     "text": [
      "C:\\Users\\camil\\anaconda3\\lib\\site-packages\\scipy\\sparse\\sparsetools.py:21: DeprecationWarning: `scipy.sparse.sparsetools` is deprecated!\n",
      "scipy.sparse.sparsetools is a private module for scipy.sparse, and should not be used.\n",
      "  _deprecated()\n"
     ]
    },
    {
     "name": "stdout",
     "output_type": "stream",
     "text": [
      "2\n"
     ]
    }
   ],
   "source": [
    "PACKAGE_PARENT = '../'\n",
    "SCRIPT_DIR = os.path.dirname(os.path.realpath(os.path.join(os.getcwd(), os.path.expanduser('__file__'))))\n",
    "sys.path.append(os.path.normpath(os.path.join(SCRIPT_DIR, PACKAGE_PARENT)))\n",
    "from UTILS import preprocessing_Origins, OriginsInitialVerification, is_day, is_WG_open, openDevice, cleaning_processing\n",
    "import config_origins as config"
   ]
  },
  {
   "cell_type": "markdown",
   "metadata": {},
   "source": [
    "# Define parameters"
   ]
  },
  {
   "cell_type": "code",
   "execution_count": 3,
   "metadata": {
    "scrolled": true
   },
   "outputs": [
    {
     "name": "stdout",
     "output_type": "stream",
     "text": [
      "change the configuration file if not done yet!\n",
      "correctlightschedule_\n"
     ]
    },
    {
     "name": "stderr",
     "output_type": "stream",
     "text": [
      "C:\\Users\\camil\\anaconda3\\lib\\site-packages\\ipykernel\\ipkernel.py:283: DeprecationWarning: `should_run_async` will not call `transform_cell` automatically in the future. Please pass the result to `transformed_cell` argument and any exception that happen during thetransform in `preprocessing_exc_tuple` in IPython 7.17 and above.\n",
      "  and should_run_async(code)\n"
     ]
    }
   ],
   "source": [
    "print('change the configuration file if not done yet!')\n",
    "path_extracted_data = config.path_extracted_data\n",
    "path_initial_data = config.path_initial_data\n",
    "id_run = config.id_run\n",
    "dico_matching = config.dico_matching\n",
    "nbr_maxdur2beremoved = config.nbr_maxdur2beremoved\n",
    "dico_garden_opening_hour = config.dico_garden_opening_hour\n",
    "date_first_opening_WG = config.date_first_opening_WG\n",
    "print(id_run)\n",
    "path_extracted_data_visual = os.path.join(path_extracted_data,'visual')\n",
    "pal_ = config.pal_\n",
    "close_dates = config.close_dates\n",
    "\n",
    "#feature for model\n",
    "li_cont_select = config.li_cont_select\n",
    "li_bin = config.li_bin\n",
    "li_cat_select = config.li_cat_select\n",
    "\n",
    "#create a director if not existing\n",
    "if not os.path.exists(path_extracted_data_visual):\n",
    "    os.makedirs(path_extracted_data_visual)\n",
    "    \n",
    "path_extracted_data_cleaning_model = os.path.join(path_extracted_data,'Cleaning','model')  "
   ]
  },
  {
   "cell_type": "markdown",
   "metadata": {},
   "source": [
    "## Preprocess - add HenID"
   ]
  },
  {
   "cell_type": "code",
   "execution_count": 4,
   "metadata": {
    "scrolled": false
   },
   "outputs": [
    {
     "name": "stderr",
     "output_type": "stream",
     "text": [
      "C:\\Users\\camil\\anaconda3\\lib\\site-packages\\ipykernel\\ipkernel.py:283: DeprecationWarning: `should_run_async` will not call `transform_cell` automatically in the future. Please pass the result to `transformed_cell` argument and any exception that happen during thetransform in `preprocessing_exc_tuple` in IPython 7.17 and above.\n",
      "  and should_run_async(code)\n",
      "<>:2: DeprecationWarning: invalid escape sequence \\T\n",
      "<>:2: DeprecationWarning: invalid escape sequence \\T\n",
      "<ipython-input-4-9a81131e2f69>:2: DeprecationWarning: invalid escape sequence \\T\n",
      "  p = glob.glob(os.path.join(path_initial_data, 'Barn 4 Pen*\\TagUpdates\\log*'))\n"
     ]
    },
    {
     "data": {
      "text/html": [
       "<text style=color:black>log: log_00000001 has </text> <text style=color:green>359003</text> <text style=color:black> rows</text>"
      ],
      "text/plain": [
       "<IPython.core.display.HTML object>"
      ]
     },
     "metadata": {},
     "output_type": "display_data"
    },
    {
     "data": {
      "text/html": [
       "<text style=color:black>log: log_00000002 has </text> <text style=color:green>366740</text> <text style=color:black> rows</text>"
      ],
      "text/plain": [
       "<IPython.core.display.HTML object>"
      ]
     },
     "metadata": {},
     "output_type": "display_data"
    },
    {
     "data": {
      "text/html": [
       "<text style=color:black>log: log_00000003 has </text> <text style=color:green>367076</text> <text style=color:black> rows</text>"
      ],
      "text/plain": [
       "<IPython.core.display.HTML object>"
      ]
     },
     "metadata": {},
     "output_type": "display_data"
    },
    {
     "data": {
      "text/html": [
       "<text style=color:black>log: log_00000004 has </text> <text style=color:green>366813</text> <text style=color:black> rows</text>"
      ],
      "text/plain": [
       "<IPython.core.display.HTML object>"
      ]
     },
     "metadata": {},
     "output_type": "display_data"
    },
    {
     "data": {
      "text/html": [
       "<text style=color:black>log: log_00000005 has </text> <text style=color:green>366164</text> <text style=color:black> rows</text>"
      ],
      "text/plain": [
       "<IPython.core.display.HTML object>"
      ]
     },
     "metadata": {},
     "output_type": "display_data"
    },
    {
     "data": {
      "text/html": [
       "<text style=color:black>log: log_00000006 has </text> <text style=color:green>366755</text> <text style=color:black> rows</text>"
      ],
      "text/plain": [
       "<IPython.core.display.HTML object>"
      ]
     },
     "metadata": {},
     "output_type": "display_data"
    },
    {
     "data": {
      "text/html": [
       "<text style=color:black>log: log_00000007 has </text> <text style=color:green>275693</text> <text style=color:black> rows</text>"
      ],
      "text/plain": [
       "<IPython.core.display.HTML object>"
      ]
     },
     "metadata": {},
     "output_type": "display_data"
    },
    {
     "data": {
      "text/html": [
       "<text style=color:black>log: log_00000001 has </text> <text style=color:green>371776</text> <text style=color:black> rows</text>"
      ],
      "text/plain": [
       "<IPython.core.display.HTML object>"
      ]
     },
     "metadata": {},
     "output_type": "display_data"
    },
    {
     "data": {
      "text/html": [
       "<text style=color:black>log: log_00000002 has </text> <text style=color:green>373776</text> <text style=color:black> rows</text>"
      ],
      "text/plain": [
       "<IPython.core.display.HTML object>"
      ]
     },
     "metadata": {},
     "output_type": "display_data"
    },
    {
     "data": {
      "text/html": [
       "<text style=color:black>log: log_00000003 has </text> <text style=color:green>373919</text> <text style=color:black> rows</text>"
      ],
      "text/plain": [
       "<IPython.core.display.HTML object>"
      ]
     },
     "metadata": {},
     "output_type": "display_data"
    },
    {
     "data": {
      "text/html": [
       "<text style=color:black>log: log_00000004 has </text> <text style=color:green>373770</text> <text style=color:black> rows</text>"
      ],
      "text/plain": [
       "<IPython.core.display.HTML object>"
      ]
     },
     "metadata": {},
     "output_type": "display_data"
    },
    {
     "data": {
      "text/html": [
       "<text style=color:black>log: log_00000005 has </text> <text style=color:green>373310</text> <text style=color:black> rows</text>"
      ],
      "text/plain": [
       "<IPython.core.display.HTML object>"
      ]
     },
     "metadata": {},
     "output_type": "display_data"
    },
    {
     "data": {
      "text/html": [
       "<text style=color:black>log: log_00000006 has </text> <text style=color:green>184504</text> <text style=color:black> rows</text>"
      ],
      "text/plain": [
       "<IPython.core.display.HTML object>"
      ]
     },
     "metadata": {},
     "output_type": "display_data"
    },
    {
     "data": {
      "text/html": [
       "<text style=color:black>log: log_00000001 has </text> <text style=color:green>372191</text> <text style=color:black> rows</text>"
      ],
      "text/plain": [
       "<IPython.core.display.HTML object>"
      ]
     },
     "metadata": {},
     "output_type": "display_data"
    },
    {
     "data": {
      "text/html": [
       "<text style=color:black>log: log_00000002 has </text> <text style=color:green>374299</text> <text style=color:black> rows</text>"
      ],
      "text/plain": [
       "<IPython.core.display.HTML object>"
      ]
     },
     "metadata": {},
     "output_type": "display_data"
    },
    {
     "data": {
      "text/html": [
       "<text style=color:black>log: log_00000003 has </text> <text style=color:green>374613</text> <text style=color:black> rows</text>"
      ],
      "text/plain": [
       "<IPython.core.display.HTML object>"
      ]
     },
     "metadata": {},
     "output_type": "display_data"
    },
    {
     "data": {
      "text/html": [
       "<text style=color:black>log: log_00000004 has </text> <text style=color:red>72855</text> <text style=color:black> rows</text>"
      ],
      "text/plain": [
       "<IPython.core.display.HTML object>"
      ]
     },
     "metadata": {},
     "output_type": "display_data"
    },
    {
     "name": "stdout",
     "output_type": "stream",
     "text": [
      "From the focalBirdinfo, you have 158 ative tags\n"
     ]
    },
    {
     "name": "stderr",
     "output_type": "stream",
     "text": [
      "C:\\Users\\camil\\Desktop\\animals_code\\PhD-AnimalWelfare\\UTILS.py:409: FutureWarning: Indexing with multiple keys (implicitly converted to a tuple of keys) will be deprecated, use a list instead.\n",
      "  df_ = df.groupby(['HenID'])['system','PenID','TagID'].agg(lambda x: set(x)).reset_index()\n"
     ]
    },
    {
     "name": "stdout",
     "output_type": "stream",
     "text": [
      "-------------------- DEVICE DATA --------------------\n",
      "process device data...\n"
     ]
    },
    {
     "name": "stderr",
     "output_type": "stream",
     "text": [
      "100%|██████████████████████████████████████████████████████████████████████████████████| 41/41 [24:39<00:00, 36.09s/it]\n"
     ]
    },
    {
     "name": "stdout",
     "output_type": "stream",
     "text": [
      "Create last action GAP csv...\n",
      "Create variables from device csv...\n"
     ]
    },
    {
     "name": "stderr",
     "output_type": "stream",
     "text": [
      "C:\\Users\\camil\\Desktop\\animals_code\\PhD-AnimalWelfare\\UTILS.py:559: SettingWithCopyWarning: \n",
      "A value is trying to be set on a copy of a slice from a DataFrame.\n",
      "Try using .loc[row_indexer,col_indexer] = value instead\n",
      "\n",
      "See the caveats in the documentation: https://pandas.pydata.org/pandas-docs/stable/user_guide/indexing.html#returning-a-view-versus-a-copy\n",
      "  df_device['is_>=20h-<2'] = df_device['Timestamp'].map(lambda x: (x.hour<2) | (x.hour>=20))\n",
      "C:\\Users\\camil\\Desktop\\animals_code\\PhD-AnimalWelfare\\UTILS.py:560: SettingWithCopyWarning: \n",
      "A value is trying to be set on a copy of a slice from a DataFrame.\n",
      "Try using .loc[row_indexer,col_indexer] = value instead\n",
      "\n",
      "See the caveats in the documentation: https://pandas.pydata.org/pandas-docs/stable/user_guide/indexing.html#returning-a-view-versus-a-copy\n",
      "  df_device['is_day'] = df_device['Timestamp'].map(lambda x: is_day(x, dico_night_hour))\n",
      "C:\\Users\\camil\\Desktop\\animals_code\\PhD-AnimalWelfare\\UTILS.py:574: RuntimeWarning: Mean of empty slice\n",
      "  df_device_day = df_device_day.groupby(['sender','New_Timestamp'])['MovementCounter'].agg(lambda x: np.nanmean(x)).reset_index()\n",
      "C:\\Users\\camil\\Desktop\\animals_code\\PhD-AnimalWelfare\\UTILS.py:583: RuntimeWarning: All-NaN axis encountered\n",
      "  MovementCounter_day_max=pd.NamedAgg(column='MovementCounter', aggfunc=lambda x: np.nanmax(x)),\n",
      "C:\\Users\\camil\\Desktop\\animals_code\\PhD-AnimalWelfare\\UTILS.py:584: RuntimeWarning: Mean of empty slice\n",
      "  MovementCounter_day_mean=pd.NamedAgg(column='MovementCounter', aggfunc=lambda x: np.nanmean(x))).reset_index()\n",
      "C:\\Users\\camil\\anaconda3\\lib\\site-packages\\numpy\\lib\\nanfunctions.py:1113: RuntimeWarning: All-NaN slice encountered\n",
      "  r, k = function_base._ureduce(a, func=_nanmedian, axis=axis, out=out,\n",
      "C:\\Users\\camil\\Desktop\\animals_code\\PhD-AnimalWelfare\\UTILS.py:598: RuntimeWarning: All-NaN axis encountered\n",
      "  temperature_night20_2_max=pd.NamedAgg(column='Temperature', aggfunc=lambda x: np.nanmax(x)),\n",
      "C:\\Users\\camil\\Desktop\\animals_code\\PhD-AnimalWelfare\\UTILS.py:599: RuntimeWarning: Degrees of freedom <= 0 for slice.\n",
      "  temperature_night20_2_var=pd.NamedAgg(column='Temperature', aggfunc=lambda x: np.nanvar(x))).reset_index()\n"
     ]
    },
    {
     "name": "stdout",
     "output_type": "stream",
     "text": [
      "Create LFCounter csv...\n",
      "(34466, 5)\n",
      "(5503772, 15)\n"
     ]
    },
    {
     "data": {
      "text/html": [
       "<div>\n",
       "<style scoped>\n",
       "    .dataframe tbody tr th:only-of-type {\n",
       "        vertical-align: middle;\n",
       "    }\n",
       "\n",
       "    .dataframe tbody tr th {\n",
       "        vertical-align: top;\n",
       "    }\n",
       "\n",
       "    .dataframe thead th {\n",
       "        text-align: right;\n",
       "    }\n",
       "</style>\n",
       "<table border=\"1\" class=\"dataframe\">\n",
       "  <thead>\n",
       "    <tr style=\"text-align: right;\">\n",
       "      <th></th>\n",
       "      <th>Timestamp</th>\n",
       "      <th>HenID</th>\n",
       "      <th>Zone</th>\n",
       "      <th>PenID</th>\n",
       "      <th>log_file_name</th>\n",
       "      <th>ts_order</th>\n",
       "      <th>TagID</th>\n",
       "      <th>signalstrength</th>\n",
       "      <th>system</th>\n",
       "      <th>time</th>\n",
       "      <th>date</th>\n",
       "      <th>zone2</th>\n",
       "      <th>signalstzone2</th>\n",
       "      <th>zone3</th>\n",
       "      <th>zone4</th>\n",
       "    </tr>\n",
       "  </thead>\n",
       "  <tbody>\n",
       "    <tr>\n",
       "      <th>0</th>\n",
       "      <td>2020-09-29 09:07:00</td>\n",
       "      <td>71</td>\n",
       "      <td>Tier 2 (mini 12)</td>\n",
       "      <td>12</td>\n",
       "      <td>log_00000001</td>\n",
       "      <td>0</td>\n",
       "      <td>162</td>\n",
       "      <td>10</td>\n",
       "      <td>10 - 12</td>\n",
       "      <td>09:07:00</td>\n",
       "      <td>2020-09-29</td>\n",
       "      <td>2</td>\n",
       "      <td>8</td>\n",
       "      <td>1</td>\n",
       "      <td>0</td>\n",
       "    </tr>\n",
       "    <tr>\n",
       "      <th>1</th>\n",
       "      <td>2020-09-29 09:08:12</td>\n",
       "      <td>7</td>\n",
       "      <td>Tier 2 (mini 11)</td>\n",
       "      <td>11</td>\n",
       "      <td>log_00000001</td>\n",
       "      <td>1</td>\n",
       "      <td>140</td>\n",
       "      <td>10</td>\n",
       "      <td>10 - 12</td>\n",
       "      <td>09:08:12</td>\n",
       "      <td>2020-09-29</td>\n",
       "      <td>2</td>\n",
       "      <td>8</td>\n",
       "      <td>1</td>\n",
       "      <td>0</td>\n",
       "    </tr>\n",
       "  </tbody>\n",
       "</table>\n",
       "</div>"
      ],
      "text/plain": [
       "            Timestamp  HenID              Zone PenID log_file_name  ts_order  \\\n",
       "0 2020-09-29 09:07:00     71  Tier 2 (mini 12)    12  log_00000001         0   \n",
       "1 2020-09-29 09:08:12      7  Tier 2 (mini 11)    11  log_00000001         1   \n",
       "\n",
       "  TagID  signalstrength   system      time       date  zone2  signalstzone2  \\\n",
       "0   162              10  10 - 12  09:07:00 2020-09-29      2              8   \n",
       "1   140              10  10 - 12  09:08:12 2020-09-29      2              8   \n",
       "\n",
       "   zone3  zone4  \n",
       "0      1      0  \n",
       "1      1      0  "
      ]
     },
     "metadata": {},
     "output_type": "display_data"
    },
    {
     "data": {
      "text/html": [
       "<div>\n",
       "<style scoped>\n",
       "    .dataframe tbody tr th:only-of-type {\n",
       "        vertical-align: middle;\n",
       "    }\n",
       "\n",
       "    .dataframe tbody tr th {\n",
       "        vertical-align: top;\n",
       "    }\n",
       "\n",
       "    .dataframe thead th {\n",
       "        text-align: right;\n",
       "    }\n",
       "</style>\n",
       "<table border=\"1\" class=\"dataframe\">\n",
       "  <thead>\n",
       "    <tr style=\"text-align: right;\">\n",
       "      <th></th>\n",
       "      <th>Timestamp</th>\n",
       "      <th>HenID</th>\n",
       "      <th>Zone</th>\n",
       "      <th>PenID</th>\n",
       "      <th>log_file_name</th>\n",
       "      <th>ts_order</th>\n",
       "      <th>TagID</th>\n",
       "      <th>signalstrength</th>\n",
       "      <th>system</th>\n",
       "      <th>time</th>\n",
       "      <th>date</th>\n",
       "      <th>zone2</th>\n",
       "      <th>signalstzone2</th>\n",
       "      <th>zone3</th>\n",
       "      <th>zone4</th>\n",
       "    </tr>\n",
       "  </thead>\n",
       "  <tbody>\n",
       "    <tr>\n",
       "      <th>5503770</th>\n",
       "      <td>2021-05-10 08:42:27</td>\n",
       "      <td>65</td>\n",
       "      <td>Tier 2 + untere Stange</td>\n",
       "      <td>10</td>\n",
       "      <td>log_00000007</td>\n",
       "      <td>275691</td>\n",
       "      <td>139</td>\n",
       "      <td>3</td>\n",
       "      <td>10 - 12</td>\n",
       "      <td>08:42:27</td>\n",
       "      <td>2021-05-10</td>\n",
       "      <td>1</td>\n",
       "      <td>2</td>\n",
       "      <td>0</td>\n",
       "      <td>0</td>\n",
       "    </tr>\n",
       "    <tr>\n",
       "      <th>5503771</th>\n",
       "      <td>2021-05-10 08:42:31</td>\n",
       "      <td>180</td>\n",
       "      <td>Tier 2 + untere Stange</td>\n",
       "      <td>12</td>\n",
       "      <td>log_00000007</td>\n",
       "      <td>275692</td>\n",
       "      <td>199</td>\n",
       "      <td>12</td>\n",
       "      <td>10 - 12</td>\n",
       "      <td>08:42:31</td>\n",
       "      <td>2021-05-10</td>\n",
       "      <td>8</td>\n",
       "      <td>5</td>\n",
       "      <td>3</td>\n",
       "      <td>1</td>\n",
       "    </tr>\n",
       "  </tbody>\n",
       "</table>\n",
       "</div>"
      ],
      "text/plain": [
       "                  Timestamp  HenID                    Zone PenID  \\\n",
       "5503770 2021-05-10 08:42:27     65  Tier 2 + untere Stange    10   \n",
       "5503771 2021-05-10 08:42:31    180  Tier 2 + untere Stange    12   \n",
       "\n",
       "        log_file_name  ts_order TagID  signalstrength   system      time  \\\n",
       "5503770  log_00000007    275691   139               3  10 - 12  08:42:27   \n",
       "5503771  log_00000007    275692   199              12  10 - 12  08:42:31   \n",
       "\n",
       "              date  zone2  signalstzone2  zone3  zone4  \n",
       "5503770 2021-05-10      1              2      0      0  \n",
       "5503771 2021-05-10      8              5      3      1  "
      ]
     },
     "metadata": {},
     "output_type": "display_data"
    },
    {
     "name": "stdout",
     "output_type": "stream",
     "text": [
      "Total running time: 146.09 mn\n"
     ]
    }
   ],
   "source": [
    "START_TIME = time.perf_counter()\n",
    "p = glob.glob(os.path.join(path_initial_data, 'Barn 4 Pen*\\TagUpdates\\log*'))\n",
    "#print('There is %d log files:\\n  %s'%(len(p),'  \\n  '.join(p)))\n",
    "df = preprocessing_Origins(p, config, save=True, dodevice=True)\n",
    "print(df.shape)\n",
    "display(df.head(2))\n",
    "display(df.tail(2))\n",
    "END_TIME = time.perf_counter()\n",
    "print (\"Total running time: %.2f mn\" %((END_TIME-START_TIME)/60))"
   ]
  },
  {
   "cell_type": "markdown",
   "metadata": {},
   "source": [
    "# Cleaning"
   ]
  },
  {
   "cell_type": "markdown",
   "metadata": {},
   "source": [
    "## General verification (add ms & do some small verifications)"
   ]
  },
  {
   "cell_type": "code",
   "execution_count": 5,
   "metadata": {},
   "outputs": [
    {
     "name": "stderr",
     "output_type": "stream",
     "text": [
      "C:\\Users\\camil\\anaconda3\\lib\\site-packages\\ipykernel\\ipkernel.py:283: DeprecationWarning: `should_run_async` will not call `transform_cell` automatically in the future. Please pass the result to `transformed_cell` argument and any exception that happen during thetransform in `preprocessing_exc_tuple` in IPython 7.17 and above.\n",
      "  and should_run_async(code)\n"
     ]
    },
    {
     "name": "stdout",
     "output_type": "stream",
     "text": [
      "(5503772, 16)\n"
     ]
    },
    {
     "data": {
      "text/html": [
       "<div>\n",
       "<style scoped>\n",
       "    .dataframe tbody tr th:only-of-type {\n",
       "        vertical-align: middle;\n",
       "    }\n",
       "\n",
       "    .dataframe tbody tr th {\n",
       "        vertical-align: top;\n",
       "    }\n",
       "\n",
       "    .dataframe thead th {\n",
       "        text-align: right;\n",
       "    }\n",
       "</style>\n",
       "<table border=\"1\" class=\"dataframe\">\n",
       "  <thead>\n",
       "    <tr style=\"text-align: right;\">\n",
       "      <th></th>\n",
       "      <th>Unnamed: 0</th>\n",
       "      <th>Timestamp</th>\n",
       "      <th>HenID</th>\n",
       "      <th>Zone</th>\n",
       "      <th>PenID</th>\n",
       "      <th>log_file_name</th>\n",
       "      <th>ts_order</th>\n",
       "      <th>TagID</th>\n",
       "      <th>signalstrength</th>\n",
       "      <th>system</th>\n",
       "      <th>time</th>\n",
       "      <th>date</th>\n",
       "      <th>zone2</th>\n",
       "      <th>signalstzone2</th>\n",
       "      <th>zone3</th>\n",
       "      <th>zone4</th>\n",
       "    </tr>\n",
       "  </thead>\n",
       "  <tbody>\n",
       "    <tr>\n",
       "      <th>0</th>\n",
       "      <td>0</td>\n",
       "      <td>2020-09-29 09:07:00</td>\n",
       "      <td>71</td>\n",
       "      <td>Tier 2 (mini 12)</td>\n",
       "      <td>12</td>\n",
       "      <td>log_00000001</td>\n",
       "      <td>0</td>\n",
       "      <td>162</td>\n",
       "      <td>10</td>\n",
       "      <td>10 - 12</td>\n",
       "      <td>09:07:00</td>\n",
       "      <td>2020-09-29</td>\n",
       "      <td>2</td>\n",
       "      <td>8</td>\n",
       "      <td>1</td>\n",
       "      <td>0</td>\n",
       "    </tr>\n",
       "    <tr>\n",
       "      <th>1</th>\n",
       "      <td>1</td>\n",
       "      <td>2020-09-29 09:08:12</td>\n",
       "      <td>7</td>\n",
       "      <td>Tier 2 (mini 11)</td>\n",
       "      <td>11</td>\n",
       "      <td>log_00000001</td>\n",
       "      <td>1</td>\n",
       "      <td>140</td>\n",
       "      <td>10</td>\n",
       "      <td>10 - 12</td>\n",
       "      <td>09:08:12</td>\n",
       "      <td>2020-09-29</td>\n",
       "      <td>2</td>\n",
       "      <td>8</td>\n",
       "      <td>1</td>\n",
       "      <td>0</td>\n",
       "    </tr>\n",
       "    <tr>\n",
       "      <th>2</th>\n",
       "      <td>2</td>\n",
       "      <td>2020-09-29 09:08:26</td>\n",
       "      <td>71</td>\n",
       "      <td>Tier 2 + untere Stange</td>\n",
       "      <td>12</td>\n",
       "      <td>log_00000001</td>\n",
       "      <td>2</td>\n",
       "      <td>162</td>\n",
       "      <td>11</td>\n",
       "      <td>10 - 12</td>\n",
       "      <td>09:08:26</td>\n",
       "      <td>2020-09-29</td>\n",
       "      <td>8</td>\n",
       "      <td>10</td>\n",
       "      <td>3</td>\n",
       "      <td>1</td>\n",
       "    </tr>\n",
       "  </tbody>\n",
       "</table>\n",
       "</div>"
      ],
      "text/plain": [
       "   Unnamed: 0           Timestamp  HenID                    Zone  PenID  \\\n",
       "0           0 2020-09-29 09:07:00     71        Tier 2 (mini 12)     12   \n",
       "1           1 2020-09-29 09:08:12      7        Tier 2 (mini 11)     11   \n",
       "2           2 2020-09-29 09:08:26     71  Tier 2 + untere Stange     12   \n",
       "\n",
       "  log_file_name  ts_order  TagID  signalstrength   system      time  \\\n",
       "0  log_00000001         0    162              10  10 - 12  09:07:00   \n",
       "1  log_00000001         1    140              10  10 - 12  09:08:12   \n",
       "2  log_00000001         2    162              11  10 - 12  09:08:26   \n",
       "\n",
       "        date  zone2  signalstzone2  zone3  zone4  \n",
       "0 2020-09-29      2              8      1      0  \n",
       "1 2020-09-29      2              8      1      0  \n",
       "2 2020-09-29      8             10      3      1  "
      ]
     },
     "execution_count": 5,
     "metadata": {},
     "output_type": "execute_result"
    }
   ],
   "source": [
    "#for being more reproductible, we open the file that was saved from cleaning\n",
    "df = pd.read_csv(os.path.join(path_extracted_data, id_run+'_PreprocessRecords_forcleaning.csv'), sep=';', \n",
    "                 parse_dates=['Timestamp', 'date'], dayfirst=True) #index_col=0) \n",
    "print(df.shape)\n",
    "df.head(3)"
   ]
  },
  {
   "cell_type": "code",
   "execution_count": 6,
   "metadata": {},
   "outputs": [
    {
     "name": "stderr",
     "output_type": "stream",
     "text": [
      "C:\\Users\\camil\\anaconda3\\lib\\site-packages\\ipykernel\\ipkernel.py:283: DeprecationWarning: `should_run_async` will not call `transform_cell` automatically in the future. Please pass the result to `transformed_cell` argument and any exception that happen during thetransform in `preprocessing_exc_tuple` in IPython 7.17 and above.\n",
      "  and should_run_async(code)\n"
     ]
    },
    {
     "data": {
      "text/plain": [
       "(Timestamp('2020-09-29 00:00:00'), Timestamp('2021-05-10 00:00:00'))"
      ]
     },
     "execution_count": 6,
     "metadata": {},
     "output_type": "execute_result"
    }
   ],
   "source": [
    "min(df['date'].tolist()), max(df['date'].tolist())"
   ]
  },
  {
   "cell_type": "code",
   "execution_count": 7,
   "metadata": {},
   "outputs": [
    {
     "name": "stderr",
     "output_type": "stream",
     "text": [
      "C:\\Users\\camil\\anaconda3\\lib\\site-packages\\ipykernel\\ipkernel.py:283: DeprecationWarning: `should_run_async` will not call `transform_cell` automatically in the future. Please pass the result to `transformed_cell` argument and any exception that happen during thetransform in `preprocessing_exc_tuple` in IPython 7.17 and above.\n",
      "  and should_run_async(code)\n"
     ]
    },
    {
     "data": {
      "text/html": [
       "<text style=color:blue>-----------------------------------------------------------------------------------------------</text>"
      ],
      "text/plain": [
       "<IPython.core.display.HTML object>"
      ]
     },
     "metadata": {},
     "output_type": "display_data"
    },
    {
     "data": {
      "text/html": [
       "<text style=color:blue>remove ts_order and add miliseconds.........</text>"
      ],
      "text/plain": [
       "<IPython.core.display.HTML object>"
      ]
     },
     "metadata": {},
     "output_type": "display_data"
    },
    {
     "data": {
      "text/html": [
       "<text style=color:blue>-----------------------------------------------------------------------------------------------</text>"
      ],
      "text/plain": [
       "<IPython.core.display.HTML object>"
      ]
     },
     "metadata": {},
     "output_type": "display_data"
    },
    {
     "name": "stderr",
     "output_type": "stream",
     "text": [
      "100%|████████████████████████████████████████████████████████████████████████████████| 228/228 [03:25<00:00,  1.11it/s]\n"
     ]
    },
    {
     "data": {
      "text/html": [
       "<text style=color:blue>-----------------------------------------------------------------------------------------------</text>"
      ],
      "text/plain": [
       "<IPython.core.display.HTML object>"
      ]
     },
     "metadata": {},
     "output_type": "display_data"
    },
    {
     "data": {
      "text/html": [
       "<text style=color:blue>compute duration next and previous zones.........</text>"
      ],
      "text/plain": [
       "<IPython.core.display.HTML object>"
      ]
     },
     "metadata": {},
     "output_type": "display_data"
    },
    {
     "data": {
      "text/html": [
       "<text style=color:blue>-----------------------------------------------------------------------------------------------</text>"
      ],
      "text/plain": [
       "<IPython.core.display.HTML object>"
      ]
     },
     "metadata": {},
     "output_type": "display_data"
    },
    {
     "name": "stderr",
     "output_type": "stream",
     "text": [
      "100%|████████████████████████████████████████████████████████████████████████████████| 228/228 [04:18<00:00,  1.13s/it]\n"
     ]
    },
    {
     "name": "stdout",
     "output_type": "stream",
     "text": [
      "Small visual check of duration computation\n"
     ]
    },
    {
     "data": {
      "text/html": [
       "<div>\n",
       "<style scoped>\n",
       "    .dataframe tbody tr th:only-of-type {\n",
       "        vertical-align: middle;\n",
       "    }\n",
       "\n",
       "    .dataframe tbody tr th {\n",
       "        vertical-align: top;\n",
       "    }\n",
       "\n",
       "    .dataframe thead th {\n",
       "        text-align: right;\n",
       "    }\n",
       "</style>\n",
       "<table border=\"1\" class=\"dataframe\">\n",
       "  <thead>\n",
       "    <tr style=\"text-align: right;\">\n",
       "      <th></th>\n",
       "      <th>Timestamp</th>\n",
       "      <th>HenID</th>\n",
       "      <th>Zone</th>\n",
       "      <th>previous_record_date</th>\n",
       "      <th>previous_duration</th>\n",
       "      <th>duration</th>\n",
       "    </tr>\n",
       "  </thead>\n",
       "  <tbody>\n",
       "    <tr>\n",
       "      <th>1976</th>\n",
       "      <td>2020-09-29 14:33:02</td>\n",
       "      <td>hen_99</td>\n",
       "      <td>3_Zone</td>\n",
       "      <td>NaT</td>\n",
       "      <td>NaT</td>\n",
       "      <td>0 days 00:05:08</td>\n",
       "    </tr>\n",
       "    <tr>\n",
       "      <th>2016</th>\n",
       "      <td>2020-09-29 14:38:10</td>\n",
       "      <td>hen_99</td>\n",
       "      <td>2_Zone</td>\n",
       "      <td>2020-09-29 14:33:02</td>\n",
       "      <td>0 days 00:05:08</td>\n",
       "      <td>0 days 00:20:47</td>\n",
       "    </tr>\n",
       "    <tr>\n",
       "      <th>2182</th>\n",
       "      <td>2020-09-29 14:58:57</td>\n",
       "      <td>hen_99</td>\n",
       "      <td>3_Zone</td>\n",
       "      <td>2020-09-29 14:38:10</td>\n",
       "      <td>0 days 00:20:47</td>\n",
       "      <td>0 days 00:04:45</td>\n",
       "    </tr>\n",
       "    <tr>\n",
       "      <th>2224</th>\n",
       "      <td>2020-09-29 15:03:42</td>\n",
       "      <td>hen_99</td>\n",
       "      <td>3_Zone</td>\n",
       "      <td>2020-09-29 14:58:57</td>\n",
       "      <td>0 days 00:04:45</td>\n",
       "      <td>0 days 00:00:16</td>\n",
       "    </tr>\n",
       "    <tr>\n",
       "      <th>2227</th>\n",
       "      <td>2020-09-29 15:03:58</td>\n",
       "      <td>hen_99</td>\n",
       "      <td>3_Zone</td>\n",
       "      <td>2020-09-29 15:03:42</td>\n",
       "      <td>0 days 00:00:16</td>\n",
       "      <td>0 days 00:00:33</td>\n",
       "    </tr>\n",
       "  </tbody>\n",
       "</table>\n",
       "</div>"
      ],
      "text/plain": [
       "               Timestamp   HenID    Zone previous_record_date  \\\n",
       "1976 2020-09-29 14:33:02  hen_99  3_Zone                  NaT   \n",
       "2016 2020-09-29 14:38:10  hen_99  2_Zone  2020-09-29 14:33:02   \n",
       "2182 2020-09-29 14:58:57  hen_99  3_Zone  2020-09-29 14:38:10   \n",
       "2224 2020-09-29 15:03:42  hen_99  3_Zone  2020-09-29 14:58:57   \n",
       "2227 2020-09-29 15:03:58  hen_99  3_Zone  2020-09-29 15:03:42   \n",
       "\n",
       "     previous_duration        duration  \n",
       "1976               NaT 0 days 00:05:08  \n",
       "2016   0 days 00:05:08 0 days 00:20:47  \n",
       "2182   0 days 00:20:47 0 days 00:04:45  \n",
       "2224   0 days 00:04:45 0 days 00:00:16  \n",
       "2227   0 days 00:00:16 0 days 00:00:33  "
      ]
     },
     "metadata": {},
     "output_type": "display_data"
    },
    {
     "name": "stdout",
     "output_type": "stream",
     "text": [
      "Total running time: 205.35 mn\n",
      "(5503772, 28)\n"
     ]
    },
    {
     "data": {
      "text/html": [
       "<div>\n",
       "<style scoped>\n",
       "    .dataframe tbody tr th:only-of-type {\n",
       "        vertical-align: middle;\n",
       "    }\n",
       "\n",
       "    .dataframe tbody tr th {\n",
       "        vertical-align: top;\n",
       "    }\n",
       "\n",
       "    .dataframe thead th {\n",
       "        text-align: right;\n",
       "    }\n",
       "</style>\n",
       "<table border=\"1\" class=\"dataframe\">\n",
       "  <thead>\n",
       "    <tr style=\"text-align: right;\">\n",
       "      <th></th>\n",
       "      <th>Unnamed: 0</th>\n",
       "      <th>Timestamp</th>\n",
       "      <th>HenID</th>\n",
       "      <th>Zone</th>\n",
       "      <th>PenID</th>\n",
       "      <th>log_file_name</th>\n",
       "      <th>ts_order</th>\n",
       "      <th>TagID</th>\n",
       "      <th>signalstrength</th>\n",
       "      <th>system</th>\n",
       "      <th>...</th>\n",
       "      <th>ts_order_list</th>\n",
       "      <th>ts_order_info</th>\n",
       "      <th>ms</th>\n",
       "      <th>next_record_date</th>\n",
       "      <th>duration</th>\n",
       "      <th>previous_record_date</th>\n",
       "      <th>previous_duration</th>\n",
       "      <th>next_zone</th>\n",
       "      <th>previous_zone</th>\n",
       "      <th>previous_previous_zone</th>\n",
       "    </tr>\n",
       "  </thead>\n",
       "  <tbody>\n",
       "    <tr>\n",
       "      <th>0</th>\n",
       "      <td>0</td>\n",
       "      <td>2020-09-29 09:07:00</td>\n",
       "      <td>hen_71</td>\n",
       "      <td>3_Zone</td>\n",
       "      <td>12</td>\n",
       "      <td>log_00000001</td>\n",
       "      <td>0</td>\n",
       "      <td>162</td>\n",
       "      <td>10</td>\n",
       "      <td>10 - 12</td>\n",
       "      <td>...</td>\n",
       "      <td>log_00000001_0</td>\n",
       "      <td>log_00000001_0 log_00000001_0</td>\n",
       "      <td>0.0</td>\n",
       "      <td>2020-09-29 09:08:26</td>\n",
       "      <td>86.0</td>\n",
       "      <td>NaT</td>\n",
       "      <td>NaT</td>\n",
       "      <td>3_Zone</td>\n",
       "      <td>NaN</td>\n",
       "      <td>NaN</td>\n",
       "    </tr>\n",
       "    <tr>\n",
       "      <th>1</th>\n",
       "      <td>1</td>\n",
       "      <td>2020-09-29 09:08:12</td>\n",
       "      <td>hen_7</td>\n",
       "      <td>3_Zone</td>\n",
       "      <td>11</td>\n",
       "      <td>log_00000001</td>\n",
       "      <td>1</td>\n",
       "      <td>140</td>\n",
       "      <td>10</td>\n",
       "      <td>10 - 12</td>\n",
       "      <td>...</td>\n",
       "      <td>log_00000001_1</td>\n",
       "      <td>log_00000001_1 log_00000001_1</td>\n",
       "      <td>0.0</td>\n",
       "      <td>2020-09-29 09:12:16</td>\n",
       "      <td>244.0</td>\n",
       "      <td>NaT</td>\n",
       "      <td>NaT</td>\n",
       "      <td>3_Zone</td>\n",
       "      <td>NaN</td>\n",
       "      <td>NaN</td>\n",
       "    </tr>\n",
       "    <tr>\n",
       "      <th>2</th>\n",
       "      <td>2</td>\n",
       "      <td>2020-09-29 09:08:26</td>\n",
       "      <td>hen_71</td>\n",
       "      <td>3_Zone</td>\n",
       "      <td>12</td>\n",
       "      <td>log_00000001</td>\n",
       "      <td>2</td>\n",
       "      <td>162</td>\n",
       "      <td>11</td>\n",
       "      <td>10 - 12</td>\n",
       "      <td>...</td>\n",
       "      <td>log_00000001_2</td>\n",
       "      <td>log_00000001_2 log_00000001_2</td>\n",
       "      <td>0.0</td>\n",
       "      <td>2020-09-29 09:09:37</td>\n",
       "      <td>71.0</td>\n",
       "      <td>2020-09-29 09:07:00</td>\n",
       "      <td>0 days 00:01:26</td>\n",
       "      <td>3_Zone</td>\n",
       "      <td>3_Zone</td>\n",
       "      <td>NaN</td>\n",
       "    </tr>\n",
       "  </tbody>\n",
       "</table>\n",
       "<p>3 rows × 28 columns</p>\n",
       "</div>"
      ],
      "text/plain": [
       "   Unnamed: 0           Timestamp   HenID    Zone PenID log_file_name  \\\n",
       "0           0 2020-09-29 09:07:00  hen_71  3_Zone    12  log_00000001   \n",
       "1           1 2020-09-29 09:08:12   hen_7  3_Zone    11  log_00000001   \n",
       "2           2 2020-09-29 09:08:26  hen_71  3_Zone    12  log_00000001   \n",
       "\n",
       "  ts_order  TagID  signalstrength   system  ...   ts_order_list  \\\n",
       "0        0    162              10  10 - 12  ...  log_00000001_0   \n",
       "1        1    140              10  10 - 12  ...  log_00000001_1   \n",
       "2        2    162              11  10 - 12  ...  log_00000001_2   \n",
       "\n",
       "                   ts_order_info   ms    next_record_date  duration  \\\n",
       "0  log_00000001_0 log_00000001_0  0.0 2020-09-29 09:08:26      86.0   \n",
       "1  log_00000001_1 log_00000001_1  0.0 2020-09-29 09:12:16     244.0   \n",
       "2  log_00000001_2 log_00000001_2  0.0 2020-09-29 09:09:37      71.0   \n",
       "\n",
       "   previous_record_date previous_duration next_zone previous_zone  \\\n",
       "0                   NaT               NaT    3_Zone           NaN   \n",
       "1                   NaT               NaT    3_Zone           NaN   \n",
       "2   2020-09-29 09:07:00   0 days 00:01:26    3_Zone        3_Zone   \n",
       "\n",
       "  previous_previous_zone  \n",
       "0                    NaN  \n",
       "1                    NaN  \n",
       "2                    NaN  \n",
       "\n",
       "[3 rows x 28 columns]"
      ]
     },
     "execution_count": 7,
     "metadata": {},
     "output_type": "execute_result"
    }
   ],
   "source": [
    "df = OriginsInitialVerification(df, config)\n",
    "print(df.shape)\n",
    "df.head(3)"
   ]
  },
  {
   "cell_type": "markdown",
   "metadata": {},
   "source": [
    "## Model-based cleaning"
   ]
  },
  {
   "cell_type": "raw",
   "metadata": {},
   "source": [
    "In order to keep maximum information during video cleaning (i.e. each record), we kept consecutives equal zones, so the model was trained to say \"correct record\" even when the duration was small and the next zone was the same zone (instead of correct when the duration was longer and the next zone was a different one). \n",
    "Also, note that if we remove consecutives equal zone before the model filtering, then we might remove a correct record, while keeping a wrong record instead.\n",
    "For these two reasons, we should remove consecutives equal zones AFTER model filtering and not during the general cleaning.\n",
    "Note that the only difference with the preprocessing step in chapter 0, is that we add the milliseconds to the timsetamp in order to have the correct duration per stay first"
   ]
  },
  {
   "cell_type": "code",
   "execution_count": 4,
   "metadata": {},
   "outputs": [
    {
     "name": "stderr",
     "output_type": "stream",
     "text": [
      "C:\\Users\\camil\\anaconda3\\lib\\site-packages\\ipykernel\\ipkernel.py:283: DeprecationWarning: `should_run_async` will not call `transform_cell` automatically in the future. Please pass the result to `transformed_cell` argument and any exception that happen during thetransform in `preprocessing_exc_tuple` in IPython 7.17 and above.\n",
      "  and should_run_async(code)\n"
     ]
    },
    {
     "name": "stdout",
     "output_type": "stream",
     "text": [
      "(5503772, 28)\n"
     ]
    },
    {
     "data": {
      "text/html": [
       "<div>\n",
       "<style scoped>\n",
       "    .dataframe tbody tr th:only-of-type {\n",
       "        vertical-align: middle;\n",
       "    }\n",
       "\n",
       "    .dataframe tbody tr th {\n",
       "        vertical-align: top;\n",
       "    }\n",
       "\n",
       "    .dataframe thead th {\n",
       "        text-align: right;\n",
       "    }\n",
       "</style>\n",
       "<table border=\"1\" class=\"dataframe\">\n",
       "  <thead>\n",
       "    <tr style=\"text-align: right;\">\n",
       "      <th></th>\n",
       "      <th>Unnamed: 0</th>\n",
       "      <th>Timestamp</th>\n",
       "      <th>HenID</th>\n",
       "      <th>Zone</th>\n",
       "      <th>PenID</th>\n",
       "      <th>log_file_name</th>\n",
       "      <th>ts_order</th>\n",
       "      <th>TagID</th>\n",
       "      <th>signalstrength</th>\n",
       "      <th>system</th>\n",
       "      <th>...</th>\n",
       "      <th>ts_order_list</th>\n",
       "      <th>ts_order_info</th>\n",
       "      <th>ms</th>\n",
       "      <th>next_record_date</th>\n",
       "      <th>duration</th>\n",
       "      <th>previous_record_date</th>\n",
       "      <th>previous_duration</th>\n",
       "      <th>next_zone</th>\n",
       "      <th>previous_zone</th>\n",
       "      <th>previous_previous_zone</th>\n",
       "    </tr>\n",
       "  </thead>\n",
       "  <tbody>\n",
       "    <tr>\n",
       "      <th>0</th>\n",
       "      <td>0</td>\n",
       "      <td>2020-09-29 09:07:00</td>\n",
       "      <td>hen_71</td>\n",
       "      <td>3_Zone</td>\n",
       "      <td>12</td>\n",
       "      <td>log_00000001</td>\n",
       "      <td>0</td>\n",
       "      <td>162</td>\n",
       "      <td>10</td>\n",
       "      <td>10 - 12</td>\n",
       "      <td>...</td>\n",
       "      <td>log_00000001_0</td>\n",
       "      <td>log_00000001_0 log_00000001_0</td>\n",
       "      <td>0.0</td>\n",
       "      <td>2020-09-29 09:08:26.000</td>\n",
       "      <td>86.0</td>\n",
       "      <td>NaN</td>\n",
       "      <td>NaN</td>\n",
       "      <td>3_Zone</td>\n",
       "      <td>NaN</td>\n",
       "      <td>NaN</td>\n",
       "    </tr>\n",
       "    <tr>\n",
       "      <th>1</th>\n",
       "      <td>1</td>\n",
       "      <td>2020-09-29 09:08:12</td>\n",
       "      <td>hen_7</td>\n",
       "      <td>3_Zone</td>\n",
       "      <td>11</td>\n",
       "      <td>log_00000001</td>\n",
       "      <td>1</td>\n",
       "      <td>140</td>\n",
       "      <td>10</td>\n",
       "      <td>10 - 12</td>\n",
       "      <td>...</td>\n",
       "      <td>log_00000001_1</td>\n",
       "      <td>log_00000001_1 log_00000001_1</td>\n",
       "      <td>0.0</td>\n",
       "      <td>2020-09-29 09:12:16.000</td>\n",
       "      <td>244.0</td>\n",
       "      <td>NaN</td>\n",
       "      <td>NaN</td>\n",
       "      <td>3_Zone</td>\n",
       "      <td>NaN</td>\n",
       "      <td>NaN</td>\n",
       "    </tr>\n",
       "    <tr>\n",
       "      <th>2</th>\n",
       "      <td>2</td>\n",
       "      <td>2020-09-29 09:08:26</td>\n",
       "      <td>hen_71</td>\n",
       "      <td>3_Zone</td>\n",
       "      <td>12</td>\n",
       "      <td>log_00000001</td>\n",
       "      <td>2</td>\n",
       "      <td>162</td>\n",
       "      <td>11</td>\n",
       "      <td>10 - 12</td>\n",
       "      <td>...</td>\n",
       "      <td>log_00000001_2</td>\n",
       "      <td>log_00000001_2 log_00000001_2</td>\n",
       "      <td>0.0</td>\n",
       "      <td>2020-09-29 09:09:37.000</td>\n",
       "      <td>71.0</td>\n",
       "      <td>2020-09-29 09:07:00.000</td>\n",
       "      <td>0 days 00:01:26</td>\n",
       "      <td>3_Zone</td>\n",
       "      <td>3_Zone</td>\n",
       "      <td>NaN</td>\n",
       "    </tr>\n",
       "  </tbody>\n",
       "</table>\n",
       "<p>3 rows × 28 columns</p>\n",
       "</div>"
      ],
      "text/plain": [
       "   Unnamed: 0           Timestamp   HenID    Zone  PenID log_file_name  \\\n",
       "0           0 2020-09-29 09:07:00  hen_71  3_Zone     12  log_00000001   \n",
       "1           1 2020-09-29 09:08:12   hen_7  3_Zone     11  log_00000001   \n",
       "2           2 2020-09-29 09:08:26  hen_71  3_Zone     12  log_00000001   \n",
       "\n",
       "   ts_order  TagID  signalstrength   system  ...   ts_order_list  \\\n",
       "0         0    162              10  10 - 12  ...  log_00000001_0   \n",
       "1         1    140              10  10 - 12  ...  log_00000001_1   \n",
       "2         2    162              11  10 - 12  ...  log_00000001_2   \n",
       "\n",
       "                   ts_order_info   ms         next_record_date  duration  \\\n",
       "0  log_00000001_0 log_00000001_0  0.0  2020-09-29 09:08:26.000      86.0   \n",
       "1  log_00000001_1 log_00000001_1  0.0  2020-09-29 09:12:16.000     244.0   \n",
       "2  log_00000001_2 log_00000001_2  0.0  2020-09-29 09:09:37.000      71.0   \n",
       "\n",
       "      previous_record_date previous_duration next_zone previous_zone  \\\n",
       "0                      NaN               NaN    3_Zone           NaN   \n",
       "1                      NaN               NaN    3_Zone           NaN   \n",
       "2  2020-09-29 09:07:00.000   0 days 00:01:26    3_Zone        3_Zone   \n",
       "\n",
       "  previous_previous_zone  \n",
       "0                    NaN  \n",
       "1                    NaN  \n",
       "2                    NaN  \n",
       "\n",
       "[3 rows x 28 columns]"
      ]
     },
     "execution_count": 4,
     "metadata": {},
     "output_type": "execute_result"
    }
   ],
   "source": [
    "#for being more reproductible, we open the file that was saved from cleaning\n",
    "df = pd.read_csv(os.path.join(path_extracted_data, id_run+'_records_GeneralCleaning.csv'), sep=';', \n",
    "                 parse_dates=['date','Timestamp'], dayfirst=True) \n",
    "print(df.shape)\n",
    "df.head(3)"
   ]
  },
  {
   "cell_type": "code",
   "execution_count": 5,
   "metadata": {},
   "outputs": [
    {
     "name": "stderr",
     "output_type": "stream",
     "text": [
      "C:\\Users\\camil\\anaconda3\\lib\\site-packages\\ipykernel\\ipkernel.py:283: DeprecationWarning: `should_run_async` will not call `transform_cell` automatically in the future. Please pass the result to `transformed_cell` argument and any exception that happen during thetransform in `preprocessing_exc_tuple` in IPython 7.17 and above.\n",
      "  and should_run_async(code)\n"
     ]
    },
    {
     "name": "stdout",
     "output_type": "stream",
     "text": [
      "(5503772, 28)\n",
      "(5503772, 28)\n"
     ]
    },
    {
     "name": "stderr",
     "output_type": "stream",
     "text": [
      "100%|████████████████████████████████████████████████████████████████████████████████| 228/228 [08:50<00:00,  2.33s/it]\n"
     ]
    },
    {
     "name": "stdout",
     "output_type": "stream",
     "text": [
      "small VERIFICATION of zone matching, before droping the old names\n"
     ]
    },
    {
     "data": {
      "text/html": [
       "<div>\n",
       "<style scoped>\n",
       "    .dataframe tbody tr th:only-of-type {\n",
       "        vertical-align: middle;\n",
       "    }\n",
       "\n",
       "    .dataframe tbody tr th {\n",
       "        vertical-align: top;\n",
       "    }\n",
       "\n",
       "    .dataframe thead th {\n",
       "        text-align: right;\n",
       "    }\n",
       "</style>\n",
       "<table border=\"1\" class=\"dataframe\">\n",
       "  <thead>\n",
       "    <tr style=\"text-align: right;\">\n",
       "      <th></th>\n",
       "      <th>system</th>\n",
       "      <th>zone2</th>\n",
       "      <th>zone3</th>\n",
       "      <th>zone4</th>\n",
       "      <th>zone2_match</th>\n",
       "      <th>zone3_match</th>\n",
       "      <th>zone4_match</th>\n",
       "    </tr>\n",
       "  </thead>\n",
       "  <tbody>\n",
       "    <tr>\n",
       "      <th>0</th>\n",
       "      <td>10 - 12</td>\n",
       "      <td>2</td>\n",
       "      <td>1</td>\n",
       "      <td>0</td>\n",
       "      <td>3_Zone</td>\n",
       "      <td>2_Zone</td>\n",
       "      <td>NoOtherZone</td>\n",
       "    </tr>\n",
       "    <tr>\n",
       "      <th>1</th>\n",
       "      <td>10 - 12</td>\n",
       "      <td>2</td>\n",
       "      <td>1</td>\n",
       "      <td>0</td>\n",
       "      <td>3_Zone</td>\n",
       "      <td>2_Zone</td>\n",
       "      <td>NoOtherZone</td>\n",
       "    </tr>\n",
       "    <tr>\n",
       "      <th>2</th>\n",
       "      <td>10 - 12</td>\n",
       "      <td>8</td>\n",
       "      <td>3</td>\n",
       "      <td>1</td>\n",
       "      <td>miniZone3</td>\n",
       "      <td>4_Zone</td>\n",
       "      <td>2_Zone</td>\n",
       "    </tr>\n",
       "    <tr>\n",
       "      <th>3</th>\n",
       "      <td>10 - 12</td>\n",
       "      <td>2</td>\n",
       "      <td>3</td>\n",
       "      <td>1</td>\n",
       "      <td>3_Zone</td>\n",
       "      <td>4_Zone</td>\n",
       "      <td>2_Zone</td>\n",
       "    </tr>\n",
       "    <tr>\n",
       "      <th>4</th>\n",
       "      <td>10 - 12</td>\n",
       "      <td>8</td>\n",
       "      <td>3</td>\n",
       "      <td>0</td>\n",
       "      <td>miniZone3</td>\n",
       "      <td>4_Zone</td>\n",
       "      <td>NoOtherZone</td>\n",
       "    </tr>\n",
       "    <tr>\n",
       "      <th>5</th>\n",
       "      <td>10 - 12</td>\n",
       "      <td>2</td>\n",
       "      <td>3</td>\n",
       "      <td>1</td>\n",
       "      <td>3_Zone</td>\n",
       "      <td>4_Zone</td>\n",
       "      <td>2_Zone</td>\n",
       "    </tr>\n",
       "    <tr>\n",
       "      <th>6</th>\n",
       "      <td>10 - 12</td>\n",
       "      <td>7</td>\n",
       "      <td>0</td>\n",
       "      <td>0</td>\n",
       "      <td>miniZone3</td>\n",
       "      <td>NoOtherZone</td>\n",
       "      <td>NoOtherZone</td>\n",
       "    </tr>\n",
       "    <tr>\n",
       "      <th>7</th>\n",
       "      <td>10 - 12</td>\n",
       "      <td>8</td>\n",
       "      <td>3</td>\n",
       "      <td>1</td>\n",
       "      <td>miniZone3</td>\n",
       "      <td>4_Zone</td>\n",
       "      <td>2_Zone</td>\n",
       "    </tr>\n",
       "    <tr>\n",
       "      <th>8</th>\n",
       "      <td>10 - 12</td>\n",
       "      <td>2</td>\n",
       "      <td>3</td>\n",
       "      <td>0</td>\n",
       "      <td>3_Zone</td>\n",
       "      <td>4_Zone</td>\n",
       "      <td>NoOtherZone</td>\n",
       "    </tr>\n",
       "    <tr>\n",
       "      <th>9</th>\n",
       "      <td>10 - 12</td>\n",
       "      <td>2</td>\n",
       "      <td>3</td>\n",
       "      <td>1</td>\n",
       "      <td>3_Zone</td>\n",
       "      <td>4_Zone</td>\n",
       "      <td>2_Zone</td>\n",
       "    </tr>\n",
       "  </tbody>\n",
       "</table>\n",
       "</div>"
      ],
      "text/plain": [
       "    system  zone2  zone3  zone4 zone2_match  zone3_match  zone4_match\n",
       "0  10 - 12      2      1      0      3_Zone       2_Zone  NoOtherZone\n",
       "1  10 - 12      2      1      0      3_Zone       2_Zone  NoOtherZone\n",
       "2  10 - 12      8      3      1   miniZone3       4_Zone       2_Zone\n",
       "3  10 - 12      2      3      1      3_Zone       4_Zone       2_Zone\n",
       "4  10 - 12      8      3      0   miniZone3       4_Zone  NoOtherZone\n",
       "5  10 - 12      2      3      1      3_Zone       4_Zone       2_Zone\n",
       "6  10 - 12      7      0      0   miniZone3  NoOtherZone  NoOtherZone\n",
       "7  10 - 12      8      3      1   miniZone3       4_Zone       2_Zone\n",
       "8  10 - 12      2      3      0      3_Zone       4_Zone  NoOtherZone\n",
       "9  10 - 12      2      3      1      3_Zone       4_Zone       2_Zone"
      ]
     },
     "metadata": {},
     "output_type": "display_data"
    },
    {
     "name": "stdout",
     "output_type": "stream",
     "text": [
      "specifically, a small verification of when zone2 was equal to 9\n"
     ]
    },
    {
     "data": {
      "text/html": [
       "<div>\n",
       "<style scoped>\n",
       "    .dataframe tbody tr th:only-of-type {\n",
       "        vertical-align: middle;\n",
       "    }\n",
       "\n",
       "    .dataframe tbody tr th {\n",
       "        vertical-align: top;\n",
       "    }\n",
       "\n",
       "    .dataframe thead th {\n",
       "        text-align: right;\n",
       "    }\n",
       "</style>\n",
       "<table border=\"1\" class=\"dataframe\">\n",
       "  <thead>\n",
       "    <tr style=\"text-align: right;\">\n",
       "      <th></th>\n",
       "      <th>Unnamed: 0</th>\n",
       "      <th>Timestamp</th>\n",
       "      <th>HenID</th>\n",
       "      <th>Zone</th>\n",
       "      <th>PenID</th>\n",
       "      <th>ts_order</th>\n",
       "      <th>TagID</th>\n",
       "      <th>signalstrength</th>\n",
       "      <th>system</th>\n",
       "      <th>time</th>\n",
       "      <th>...</th>\n",
       "      <th>next3_zone</th>\n",
       "      <th>previous3_zone</th>\n",
       "      <th>next4_zone</th>\n",
       "      <th>previous4_zone</th>\n",
       "      <th>next5_zone</th>\n",
       "      <th>previous5_zone</th>\n",
       "      <th>previousZone==NextZone</th>\n",
       "      <th>zone2_match</th>\n",
       "      <th>zone3_match</th>\n",
       "      <th>zone4_match</th>\n",
       "    </tr>\n",
       "  </thead>\n",
       "  <tbody>\n",
       "    <tr>\n",
       "      <th>171</th>\n",
       "      <td>171</td>\n",
       "      <td>2020-09-29 09:47:53</td>\n",
       "      <td>hen_47</td>\n",
       "      <td>2_Zone</td>\n",
       "      <td>pen12</td>\n",
       "      <td>104</td>\n",
       "      <td>tag_175</td>\n",
       "      <td>6</td>\n",
       "      <td>10 - 12</td>\n",
       "      <td>09:47:53</td>\n",
       "      <td>...</td>\n",
       "      <td>2_Zone</td>\n",
       "      <td>NaN</td>\n",
       "      <td>2_Zone</td>\n",
       "      <td>NaN</td>\n",
       "      <td>2_Zone</td>\n",
       "      <td>NaN</td>\n",
       "      <td>True</td>\n",
       "      <td>2_Zone</td>\n",
       "      <td>NoOtherZone</td>\n",
       "      <td>NoOtherZone</td>\n",
       "    </tr>\n",
       "    <tr>\n",
       "      <th>199</th>\n",
       "      <td>198</td>\n",
       "      <td>2020-09-29 09:51:02</td>\n",
       "      <td>hen_55</td>\n",
       "      <td>2_Zone</td>\n",
       "      <td>pen12</td>\n",
       "      <td>118</td>\n",
       "      <td>tag_167</td>\n",
       "      <td>6</td>\n",
       "      <td>10 - 12</td>\n",
       "      <td>09:51:02</td>\n",
       "      <td>...</td>\n",
       "      <td>2_Zone</td>\n",
       "      <td>NaN</td>\n",
       "      <td>2_Zone</td>\n",
       "      <td>NaN</td>\n",
       "      <td>2_Zone</td>\n",
       "      <td>NaN</td>\n",
       "      <td>True</td>\n",
       "      <td>2_Zone</td>\n",
       "      <td>NoOtherZone</td>\n",
       "      <td>NoOtherZone</td>\n",
       "    </tr>\n",
       "    <tr>\n",
       "      <th>346</th>\n",
       "      <td>346</td>\n",
       "      <td>2020-09-29 10:15:40</td>\n",
       "      <td>hen_53</td>\n",
       "      <td>2_Zone</td>\n",
       "      <td>pen12</td>\n",
       "      <td>148</td>\n",
       "      <td>tag_169</td>\n",
       "      <td>6</td>\n",
       "      <td>10 - 12</td>\n",
       "      <td>10:15:40</td>\n",
       "      <td>...</td>\n",
       "      <td>2_Zone</td>\n",
       "      <td>2_Zone</td>\n",
       "      <td>2_Zone</td>\n",
       "      <td>2_Zone</td>\n",
       "      <td>2_Zone</td>\n",
       "      <td>3_Zone</td>\n",
       "      <td>True</td>\n",
       "      <td>2_Zone</td>\n",
       "      <td>NoOtherZone</td>\n",
       "      <td>NoOtherZone</td>\n",
       "    </tr>\n",
       "  </tbody>\n",
       "</table>\n",
       "<p>3 rows × 52 columns</p>\n",
       "</div>"
      ],
      "text/plain": [
       "     Unnamed: 0           Timestamp   HenID    Zone  PenID  ts_order    TagID  \\\n",
       "171         171 2020-09-29 09:47:53  hen_47  2_Zone  pen12       104  tag_175   \n",
       "199         198 2020-09-29 09:51:02  hen_55  2_Zone  pen12       118  tag_167   \n",
       "346         346 2020-09-29 10:15:40  hen_53  2_Zone  pen12       148  tag_169   \n",
       "\n",
       "     signalstrength   system      time  ... next3_zone  previous3_zone  \\\n",
       "171               6  10 - 12  09:47:53  ...     2_Zone             NaN   \n",
       "199               6  10 - 12  09:51:02  ...     2_Zone             NaN   \n",
       "346               6  10 - 12  10:15:40  ...     2_Zone          2_Zone   \n",
       "\n",
       "     next4_zone  previous4_zone  next5_zone previous5_zone  \\\n",
       "171      2_Zone             NaN      2_Zone            NaN   \n",
       "199      2_Zone             NaN      2_Zone            NaN   \n",
       "346      2_Zone          2_Zone      2_Zone         3_Zone   \n",
       "\n",
       "    previousZone==NextZone zone2_match  zone3_match  zone4_match  \n",
       "171                   True      2_Zone  NoOtherZone  NoOtherZone  \n",
       "199                   True      2_Zone  NoOtherZone  NoOtherZone  \n",
       "346                   True      2_Zone  NoOtherZone  NoOtherZone  \n",
       "\n",
       "[3 rows x 52 columns]"
      ]
     },
     "metadata": {},
     "output_type": "display_data"
    },
    {
     "data": {
      "text/plain": [
       "False    0.913033\n",
       "True     0.086967\n",
       "Name: is_dur_bigger_900, dtype: float64"
      ]
     },
     "metadata": {},
     "output_type": "display_data"
    },
    {
     "data": {
      "text/plain": [
       "True     0.500702\n",
       "False    0.499298\n",
       "Name: is_dur_smaller_60sec, dtype: float64"
      ]
     },
     "metadata": {},
     "output_type": "display_data"
    },
    {
     "name": "stdout",
     "output_type": "stream",
     "text": [
      "saving...\n",
      "Total running time: 530.84 mn\n",
      "(5503772, 54)\n"
     ]
    },
    {
     "data": {
      "text/html": [
       "<div>\n",
       "<style scoped>\n",
       "    .dataframe tbody tr th:only-of-type {\n",
       "        vertical-align: middle;\n",
       "    }\n",
       "\n",
       "    .dataframe tbody tr th {\n",
       "        vertical-align: top;\n",
       "    }\n",
       "\n",
       "    .dataframe thead th {\n",
       "        text-align: right;\n",
       "    }\n",
       "</style>\n",
       "<table border=\"1\" class=\"dataframe\">\n",
       "  <thead>\n",
       "    <tr style=\"text-align: right;\">\n",
       "      <th></th>\n",
       "      <th>Unnamed: 0</th>\n",
       "      <th>Timestamp</th>\n",
       "      <th>HenID</th>\n",
       "      <th>Trackingsystem_Zone</th>\n",
       "      <th>PenID</th>\n",
       "      <th>ts_order</th>\n",
       "      <th>TagID</th>\n",
       "      <th>signalstrength</th>\n",
       "      <th>system</th>\n",
       "      <th>time</th>\n",
       "      <th>...</th>\n",
       "      <th>previous5_zone</th>\n",
       "      <th>previousZone==NextZone</th>\n",
       "      <th>zone2_match</th>\n",
       "      <th>zone3_match</th>\n",
       "      <th>zone4_match</th>\n",
       "      <th>zone3_match_exist</th>\n",
       "      <th>next2zone==Zone</th>\n",
       "      <th>previous2zone==Zone</th>\n",
       "      <th>is_dur_bigger_900</th>\n",
       "      <th>is_dur_smaller_60sec</th>\n",
       "    </tr>\n",
       "  </thead>\n",
       "  <tbody>\n",
       "    <tr>\n",
       "      <th>0</th>\n",
       "      <td>0</td>\n",
       "      <td>2020-09-29 09:07:00</td>\n",
       "      <td>hen_71</td>\n",
       "      <td>3_Zone</td>\n",
       "      <td>pen12</td>\n",
       "      <td>0</td>\n",
       "      <td>tag_162</td>\n",
       "      <td>10</td>\n",
       "      <td>10 - 12</td>\n",
       "      <td>09:07:00</td>\n",
       "      <td>...</td>\n",
       "      <td>NaN</td>\n",
       "      <td>False</td>\n",
       "      <td>3_Zone</td>\n",
       "      <td>2_Zone</td>\n",
       "      <td>NoOtherZone</td>\n",
       "      <td>1</td>\n",
       "      <td>1</td>\n",
       "      <td>0</td>\n",
       "      <td>False</td>\n",
       "      <td>False</td>\n",
       "    </tr>\n",
       "    <tr>\n",
       "      <th>1</th>\n",
       "      <td>1</td>\n",
       "      <td>2020-09-29 09:08:12</td>\n",
       "      <td>hen_7</td>\n",
       "      <td>3_Zone</td>\n",
       "      <td>pen11</td>\n",
       "      <td>1</td>\n",
       "      <td>tag_140</td>\n",
       "      <td>10</td>\n",
       "      <td>10 - 12</td>\n",
       "      <td>09:08:12</td>\n",
       "      <td>...</td>\n",
       "      <td>NaN</td>\n",
       "      <td>False</td>\n",
       "      <td>3_Zone</td>\n",
       "      <td>2_Zone</td>\n",
       "      <td>NoOtherZone</td>\n",
       "      <td>1</td>\n",
       "      <td>1</td>\n",
       "      <td>0</td>\n",
       "      <td>False</td>\n",
       "      <td>False</td>\n",
       "    </tr>\n",
       "    <tr>\n",
       "      <th>2</th>\n",
       "      <td>2</td>\n",
       "      <td>2020-09-29 09:08:26</td>\n",
       "      <td>hen_71</td>\n",
       "      <td>3_Zone</td>\n",
       "      <td>pen12</td>\n",
       "      <td>2</td>\n",
       "      <td>tag_162</td>\n",
       "      <td>11</td>\n",
       "      <td>10 - 12</td>\n",
       "      <td>09:08:26</td>\n",
       "      <td>...</td>\n",
       "      <td>NaN</td>\n",
       "      <td>True</td>\n",
       "      <td>miniZone3</td>\n",
       "      <td>4_Zone</td>\n",
       "      <td>2_Zone</td>\n",
       "      <td>1</td>\n",
       "      <td>1</td>\n",
       "      <td>0</td>\n",
       "      <td>False</td>\n",
       "      <td>False</td>\n",
       "    </tr>\n",
       "  </tbody>\n",
       "</table>\n",
       "<p>3 rows × 54 columns</p>\n",
       "</div>"
      ],
      "text/plain": [
       "   Unnamed: 0           Timestamp   HenID Trackingsystem_Zone  PenID  \\\n",
       "0           0 2020-09-29 09:07:00  hen_71              3_Zone  pen12   \n",
       "1           1 2020-09-29 09:08:12   hen_7              3_Zone  pen11   \n",
       "2           2 2020-09-29 09:08:26  hen_71              3_Zone  pen12   \n",
       "\n",
       "   ts_order    TagID  signalstrength   system      time  ... previous5_zone  \\\n",
       "0         0  tag_162              10  10 - 12  09:07:00  ...            NaN   \n",
       "1         1  tag_140              10  10 - 12  09:08:12  ...            NaN   \n",
       "2         2  tag_162              11  10 - 12  09:08:26  ...            NaN   \n",
       "\n",
       "   previousZone==NextZone zone2_match zone3_match  zone4_match  \\\n",
       "0                   False      3_Zone      2_Zone  NoOtherZone   \n",
       "1                   False      3_Zone      2_Zone  NoOtherZone   \n",
       "2                    True   miniZone3      4_Zone       2_Zone   \n",
       "\n",
       "  zone3_match_exist  next2zone==Zone previous2zone==Zone  is_dur_bigger_900  \\\n",
       "0                 1                1                   0              False   \n",
       "1                 1                1                   0              False   \n",
       "2                 1                1                   0              False   \n",
       "\n",
       "  is_dur_smaller_60sec  \n",
       "0                False  \n",
       "1                False  \n",
       "2                False  \n",
       "\n",
       "[3 rows x 54 columns]"
      ]
     },
     "execution_count": 5,
     "metadata": {},
     "output_type": "execute_result"
    }
   ],
   "source": [
    "#use same step as in cleaning-validation-effect paper\n",
    "START_TIME = time.perf_counter()\n",
    "df = cleaning_processing(df=df, date_min=dt.datetime(2020, 9, 29), date_max=dt.datetime(2021, 8, 1), config=config)\n",
    "df['time'] = df['Timestamp'].map(lambda x: dt.datetime.time(x))\n",
    "df.rename(columns={'Zone':'Trackingsystem_Zone'}, inplace=True) #thats how it was named in the model \n",
    "#add other variables\n",
    "df['is_dur_bigger_'+str(nbr_maxdur2beremoved)] = df['duration'].map(lambda x: x>=nbr_maxdur2beremoved)\n",
    "display(df['is_dur_bigger_'+str(nbr_maxdur2beremoved)].value_counts(normalize=True))\n",
    "df['is_dur_smaller_60sec'] = df['duration'].map(lambda x: x<60)\n",
    "display(df['is_dur_smaller_60sec'].value_counts(normalize=True))\n",
    "print('saving...')\n",
    "df.to_csv(os.path.join(path_extracted_data,'df_recordsmodelpreprocessing.csv'), sep=';', index=False)\n",
    "END_TIME = time.perf_counter()\n",
    "print (\"Total running time: %.2f mn\" %((END_TIME-START_TIME)/60))\n",
    "print(df.shape)\n",
    "df.head(3)"
   ]
  },
  {
   "cell_type": "code",
   "execution_count": 4,
   "metadata": {},
   "outputs": [
    {
     "name": "stderr",
     "output_type": "stream",
     "text": [
      "C:\\Users\\camil\\anaconda3\\lib\\site-packages\\ipykernel\\ipkernel.py:283: DeprecationWarning: `should_run_async` will not call `transform_cell` automatically in the future. Please pass the result to `transformed_cell` argument and any exception that happen during thetransform in `preprocessing_exc_tuple` in IPython 7.17 and above.\n",
      "  and should_run_async(code)\n"
     ]
    }
   ],
   "source": [
    "#download model\n",
    "model = CatBoostClassifier()\n",
    "path_ = r'G:\\VPHI\\Welfare\\2- Research Projects\\OFHE2.OriginsE2\\DataOutput\\TrackingSystem\\CleaningAnalysis_\\Cleaning\\model'\n",
    "model.load_model(os.path.join(path_,'FINAL_Catboost'));"
   ]
  },
  {
   "cell_type": "code",
   "execution_count": 5,
   "metadata": {},
   "outputs": [
    {
     "name": "stderr",
     "output_type": "stream",
     "text": [
      "C:\\Users\\camil\\anaconda3\\lib\\site-packages\\ipykernel\\ipkernel.py:283: DeprecationWarning: `should_run_async` will not call `transform_cell` automatically in the future. Please pass the result to `transformed_cell` argument and any exception that happen during thetransform in `preprocessing_exc_tuple` in IPython 7.17 and above.\n",
      "  and should_run_async(code)\n"
     ]
    },
    {
     "data": {
      "text/plain": [
       "True     2755747\n",
       "False    2748025\n",
       "Name: is_dur_smaller_60sec, dtype: int64"
      ]
     },
     "metadata": {},
     "output_type": "display_data"
    },
    {
     "name": "stdout",
     "output_type": "stream",
     "text": [
      "(5503772, 58)\n"
     ]
    },
    {
     "data": {
      "text/html": [
       "<div>\n",
       "<style scoped>\n",
       "    .dataframe tbody tr th:only-of-type {\n",
       "        vertical-align: middle;\n",
       "    }\n",
       "\n",
       "    .dataframe tbody tr th {\n",
       "        vertical-align: top;\n",
       "    }\n",
       "\n",
       "    .dataframe thead th {\n",
       "        text-align: right;\n",
       "    }\n",
       "</style>\n",
       "<table border=\"1\" class=\"dataframe\">\n",
       "  <thead>\n",
       "    <tr style=\"text-align: right;\">\n",
       "      <th></th>\n",
       "      <th>Unnamed: 0</th>\n",
       "      <th>Timestamp</th>\n",
       "      <th>HenID</th>\n",
       "      <th>Trackingsystem_Zone</th>\n",
       "      <th>PenID</th>\n",
       "      <th>ts_order</th>\n",
       "      <th>TagID</th>\n",
       "      <th>signalstrength</th>\n",
       "      <th>system</th>\n",
       "      <th>time</th>\n",
       "      <th>...</th>\n",
       "      <th>zone4_match</th>\n",
       "      <th>zone3_match_exist</th>\n",
       "      <th>next2zone==Zone</th>\n",
       "      <th>previous2zone==Zone</th>\n",
       "      <th>is_dur_bigger_900</th>\n",
       "      <th>is_dur_smaller_60sec</th>\n",
       "      <th>is_day</th>\n",
       "      <th>duration_bounded_mn</th>\n",
       "      <th>next_duration_bounded_mn</th>\n",
       "      <th>previous_duration_bounded_mn</th>\n",
       "    </tr>\n",
       "  </thead>\n",
       "  <tbody>\n",
       "    <tr>\n",
       "      <th>0</th>\n",
       "      <td>0</td>\n",
       "      <td>2020-09-29 09:07:00</td>\n",
       "      <td>hen_71</td>\n",
       "      <td>3_Zone</td>\n",
       "      <td>pen12</td>\n",
       "      <td>0</td>\n",
       "      <td>tag_162</td>\n",
       "      <td>10</td>\n",
       "      <td>10 - 12</td>\n",
       "      <td>09:07:00</td>\n",
       "      <td>...</td>\n",
       "      <td>NoOtherZone</td>\n",
       "      <td>1</td>\n",
       "      <td>1</td>\n",
       "      <td>0</td>\n",
       "      <td>False</td>\n",
       "      <td>False</td>\n",
       "      <td>True</td>\n",
       "      <td>1.433333</td>\n",
       "      <td>1.183333</td>\n",
       "      <td>0.000000</td>\n",
       "    </tr>\n",
       "    <tr>\n",
       "      <th>1</th>\n",
       "      <td>1</td>\n",
       "      <td>2020-09-29 09:08:12</td>\n",
       "      <td>hen_7</td>\n",
       "      <td>3_Zone</td>\n",
       "      <td>pen11</td>\n",
       "      <td>1</td>\n",
       "      <td>tag_140</td>\n",
       "      <td>10</td>\n",
       "      <td>10 - 12</td>\n",
       "      <td>09:08:12</td>\n",
       "      <td>...</td>\n",
       "      <td>NoOtherZone</td>\n",
       "      <td>1</td>\n",
       "      <td>1</td>\n",
       "      <td>0</td>\n",
       "      <td>False</td>\n",
       "      <td>False</td>\n",
       "      <td>True</td>\n",
       "      <td>4.066667</td>\n",
       "      <td>4.866667</td>\n",
       "      <td>0.000000</td>\n",
       "    </tr>\n",
       "    <tr>\n",
       "      <th>2</th>\n",
       "      <td>2</td>\n",
       "      <td>2020-09-29 09:08:26</td>\n",
       "      <td>hen_71</td>\n",
       "      <td>3_Zone</td>\n",
       "      <td>pen12</td>\n",
       "      <td>2</td>\n",
       "      <td>tag_162</td>\n",
       "      <td>11</td>\n",
       "      <td>10 - 12</td>\n",
       "      <td>09:08:26</td>\n",
       "      <td>...</td>\n",
       "      <td>2_Zone</td>\n",
       "      <td>1</td>\n",
       "      <td>1</td>\n",
       "      <td>0</td>\n",
       "      <td>False</td>\n",
       "      <td>False</td>\n",
       "      <td>True</td>\n",
       "      <td>1.183333</td>\n",
       "      <td>0.716667</td>\n",
       "      <td>1.433333</td>\n",
       "    </tr>\n",
       "  </tbody>\n",
       "</table>\n",
       "<p>3 rows × 58 columns</p>\n",
       "</div>"
      ],
      "text/plain": [
       "   Unnamed: 0           Timestamp   HenID Trackingsystem_Zone  PenID  \\\n",
       "0           0 2020-09-29 09:07:00  hen_71              3_Zone  pen12   \n",
       "1           1 2020-09-29 09:08:12   hen_7              3_Zone  pen11   \n",
       "2           2 2020-09-29 09:08:26  hen_71              3_Zone  pen12   \n",
       "\n",
       "   ts_order    TagID  signalstrength   system      time  ...  zone4_match  \\\n",
       "0         0  tag_162              10  10 - 12  09:07:00  ...  NoOtherZone   \n",
       "1         1  tag_140              10  10 - 12  09:08:12  ...  NoOtherZone   \n",
       "2         2  tag_162              11  10 - 12  09:08:26  ...       2_Zone   \n",
       "\n",
       "   zone3_match_exist next2zone==Zone previous2zone==Zone is_dur_bigger_900  \\\n",
       "0                  1               1                   0             False   \n",
       "1                  1               1                   0             False   \n",
       "2                  1               1                   0             False   \n",
       "\n",
       "  is_dur_smaller_60sec  is_day duration_bounded_mn  next_duration_bounded_mn  \\\n",
       "0                False    True            1.433333                  1.183333   \n",
       "1                False    True            4.066667                  4.866667   \n",
       "2                False    True            1.183333                  0.716667   \n",
       "\n",
       "  previous_duration_bounded_mn  \n",
       "0                     0.000000  \n",
       "1                     0.000000  \n",
       "2                     1.433333  \n",
       "\n",
       "[3 rows x 58 columns]"
      ]
     },
     "execution_count": 5,
     "metadata": {},
     "output_type": "execute_result"
    }
   ],
   "source": [
    "#for more flexibility we open the file that was saved previously\n",
    "df = pd.read_csv(os.path.join(path_extracted_data, 'df_recordsmodelpreprocessing.csv'), sep=';', \n",
    "                 parse_dates=['Timestamp','date'], dayfirst=True) \n",
    "df['is_day'] = df['Timestamp'].map(lambda x:  is_day(x, config.dico_night_hour))\n",
    "df['is_dur_smaller_60sec'] = df['duration'].map(lambda x: x<60)\n",
    "display(df['is_dur_smaller_60sec'].value_counts())\n",
    "df['duration_bounded_mn'] = df['duration'].map(lambda x: min(x,60*60)/60)\n",
    "df['next_duration_bounded_mn'] = df['next_duration'].map(lambda x: min(x,60*60)/60)\n",
    "df['previous_duration_bounded_mn'] = df['previous_duration'].map(lambda x: min(x,60*60)/60)\n",
    "print(df.shape)\n",
    "df.head(3)"
   ]
  },
  {
   "cell_type": "markdown",
   "metadata": {},
   "source": [
    "df_ = df[(df['Trackingsystem_Zone']!='1_Zone')&\\\n",
    "         (df['HenID']=='hen_143')&(df['date'].isin([dt.datetime(2020,10,3), \n",
    "                                                    dt.datetime(2020,10,4)]))].copy()\n",
    "print(df_.shape)\n",
    "df_.head(3)"
   ]
  },
  {
   "cell_type": "code",
   "execution_count": 6,
   "metadata": {},
   "outputs": [
    {
     "name": "stderr",
     "output_type": "stream",
     "text": [
      "C:\\Users\\camil\\anaconda3\\lib\\site-packages\\ipykernel\\ipkernel.py:283: DeprecationWarning: `should_run_async` will not call `transform_cell` automatically in the future. Please pass the result to `transformed_cell` argument and any exception that happen during thetransform in `preprocessing_exc_tuple` in IPython 7.17 and above.\n",
      "  and should_run_async(code)\n"
     ]
    },
    {
     "data": {
      "text/plain": [
       "0    5502858\n",
       "1        686\n",
       "2        228\n",
       "Name: nbr_nan, dtype: int64"
      ]
     },
     "metadata": {},
     "output_type": "display_data"
    },
    {
     "data": {
      "text/html": [
       "<div>\n",
       "<style scoped>\n",
       "    .dataframe tbody tr th:only-of-type {\n",
       "        vertical-align: middle;\n",
       "    }\n",
       "\n",
       "    .dataframe tbody tr th {\n",
       "        vertical-align: top;\n",
       "    }\n",
       "\n",
       "    .dataframe thead th {\n",
       "        text-align: right;\n",
       "    }\n",
       "</style>\n",
       "<table border=\"1\" class=\"dataframe\">\n",
       "  <thead>\n",
       "    <tr style=\"text-align: right;\">\n",
       "      <th></th>\n",
       "      <th>Trackingsystem_Zone</th>\n",
       "      <th>zone2_match</th>\n",
       "      <th>previous1_zone</th>\n",
       "      <th>next1_zone</th>\n",
       "      <th>system</th>\n",
       "    </tr>\n",
       "  </thead>\n",
       "  <tbody>\n",
       "    <tr>\n",
       "      <th>0</th>\n",
       "      <td>3_Zone</td>\n",
       "      <td>3_Zone</td>\n",
       "      <td>NaN</td>\n",
       "      <td>3_Zone</td>\n",
       "      <td>10 - 12</td>\n",
       "    </tr>\n",
       "    <tr>\n",
       "      <th>1</th>\n",
       "      <td>3_Zone</td>\n",
       "      <td>3_Zone</td>\n",
       "      <td>NaN</td>\n",
       "      <td>3_Zone</td>\n",
       "      <td>10 - 12</td>\n",
       "    </tr>\n",
       "    <tr>\n",
       "      <th>2</th>\n",
       "      <td>3_Zone</td>\n",
       "      <td>miniZone3</td>\n",
       "      <td>3_Zone</td>\n",
       "      <td>3_Zone</td>\n",
       "      <td>10 - 12</td>\n",
       "    </tr>\n",
       "  </tbody>\n",
       "</table>\n",
       "</div>"
      ],
      "text/plain": [
       "  Trackingsystem_Zone zone2_match previous1_zone next1_zone   system\n",
       "0              3_Zone      3_Zone            NaN     3_Zone  10 - 12\n",
       "1              3_Zone      3_Zone            NaN     3_Zone  10 - 12\n",
       "2              3_Zone   miniZone3         3_Zone     3_Zone  10 - 12"
      ]
     },
     "metadata": {},
     "output_type": "display_data"
    },
    {
     "data": {
      "text/html": [
       "<div>\n",
       "<style scoped>\n",
       "    .dataframe tbody tr th:only-of-type {\n",
       "        vertical-align: middle;\n",
       "    }\n",
       "\n",
       "    .dataframe tbody tr th {\n",
       "        vertical-align: top;\n",
       "    }\n",
       "\n",
       "    .dataframe thead th {\n",
       "        text-align: right;\n",
       "    }\n",
       "</style>\n",
       "<table border=\"1\" class=\"dataframe\">\n",
       "  <thead>\n",
       "    <tr style=\"text-align: right;\">\n",
       "      <th></th>\n",
       "      <th>signalstrength</th>\n",
       "      <th>signalstzone2</th>\n",
       "      <th>duration_bounded_mn</th>\n",
       "      <th>next_duration_bounded_mn</th>\n",
       "      <th>previous_duration_bounded_mn</th>\n",
       "      <th>next2zone==Zone</th>\n",
       "      <th>previous2zone==Zone</th>\n",
       "      <th>zone3_match_exist</th>\n",
       "    </tr>\n",
       "  </thead>\n",
       "  <tbody>\n",
       "    <tr>\n",
       "      <th>0</th>\n",
       "      <td>10</td>\n",
       "      <td>8</td>\n",
       "      <td>1.433333</td>\n",
       "      <td>1.183333</td>\n",
       "      <td>0.000000</td>\n",
       "      <td>1</td>\n",
       "      <td>0</td>\n",
       "      <td>1</td>\n",
       "    </tr>\n",
       "    <tr>\n",
       "      <th>1</th>\n",
       "      <td>10</td>\n",
       "      <td>8</td>\n",
       "      <td>4.066667</td>\n",
       "      <td>4.866667</td>\n",
       "      <td>0.000000</td>\n",
       "      <td>1</td>\n",
       "      <td>0</td>\n",
       "      <td>1</td>\n",
       "    </tr>\n",
       "    <tr>\n",
       "      <th>2</th>\n",
       "      <td>11</td>\n",
       "      <td>10</td>\n",
       "      <td>1.183333</td>\n",
       "      <td>0.716667</td>\n",
       "      <td>1.433333</td>\n",
       "      <td>1</td>\n",
       "      <td>0</td>\n",
       "      <td>1</td>\n",
       "    </tr>\n",
       "  </tbody>\n",
       "</table>\n",
       "</div>"
      ],
      "text/plain": [
       "   signalstrength  signalstzone2  duration_bounded_mn  \\\n",
       "0              10              8             1.433333   \n",
       "1              10              8             4.066667   \n",
       "2              11             10             1.183333   \n",
       "\n",
       "   next_duration_bounded_mn  previous_duration_bounded_mn  next2zone==Zone  \\\n",
       "0                  1.183333                      0.000000                1   \n",
       "1                  4.866667                      0.000000                1   \n",
       "2                  0.716667                      1.433333                1   \n",
       "\n",
       "   previous2zone==Zone  zone3_match_exist  \n",
       "0                    0                  1  \n",
       "1                    0                  1  \n",
       "2                    0                  1  "
      ]
     },
     "metadata": {},
     "output_type": "display_data"
    },
    {
     "data": {
      "text/html": [
       "<div>\n",
       "<style scoped>\n",
       "    .dataframe tbody tr th:only-of-type {\n",
       "        vertical-align: middle;\n",
       "    }\n",
       "\n",
       "    .dataframe tbody tr th {\n",
       "        vertical-align: top;\n",
       "    }\n",
       "\n",
       "    .dataframe thead th {\n",
       "        text-align: right;\n",
       "    }\n",
       "</style>\n",
       "<table border=\"1\" class=\"dataframe\">\n",
       "  <thead>\n",
       "    <tr style=\"text-align: right;\">\n",
       "      <th></th>\n",
       "      <th>Trackingsystem_Zone</th>\n",
       "      <th>zone2_match</th>\n",
       "      <th>previous1_zone</th>\n",
       "      <th>next1_zone</th>\n",
       "      <th>system</th>\n",
       "    </tr>\n",
       "  </thead>\n",
       "  <tbody>\n",
       "    <tr>\n",
       "      <th>0</th>\n",
       "      <td>3_Zone</td>\n",
       "      <td>3_Zone</td>\n",
       "      <td>3_Zone</td>\n",
       "      <td>3_Zone</td>\n",
       "      <td>10 - 12</td>\n",
       "    </tr>\n",
       "    <tr>\n",
       "      <th>1</th>\n",
       "      <td>3_Zone</td>\n",
       "      <td>3_Zone</td>\n",
       "      <td>3_Zone</td>\n",
       "      <td>3_Zone</td>\n",
       "      <td>10 - 12</td>\n",
       "    </tr>\n",
       "    <tr>\n",
       "      <th>2</th>\n",
       "      <td>3_Zone</td>\n",
       "      <td>miniZone3</td>\n",
       "      <td>3_Zone</td>\n",
       "      <td>3_Zone</td>\n",
       "      <td>10 - 12</td>\n",
       "    </tr>\n",
       "  </tbody>\n",
       "</table>\n",
       "</div>"
      ],
      "text/plain": [
       "  Trackingsystem_Zone zone2_match previous1_zone next1_zone   system\n",
       "0              3_Zone      3_Zone         3_Zone     3_Zone  10 - 12\n",
       "1              3_Zone      3_Zone         3_Zone     3_Zone  10 - 12\n",
       "2              3_Zone   miniZone3         3_Zone     3_Zone  10 - 12"
      ]
     },
     "metadata": {},
     "output_type": "display_data"
    }
   ],
   "source": [
    "########### handle nan\n",
    "#add info on nan values in the initial df, in order to replace at the end all prediction based on features involvig at least \n",
    "#one nan, by 1\n",
    "#Indeed, for records with some nan features, we will predict them a 1 all the time its only 0,05% of the time , i.e. when its \n",
    "#first or last transition. Indeed, we dont want to loose any records!\n",
    "df['nbr_nan'] = df.filter(li_cont_select+li_cat_select, axis=1).isnull().sum(axis=1).tolist()\n",
    "display(df['nbr_nan'].value_counts())\n",
    "#fillnan for simplicity, but we will remove those rows predictions anyway\n",
    "#display BEFORE categoricalfeatures\n",
    "display(df[li_cat_select].head(3))\n",
    "df[li_cont_select] = df[li_cont_select].fillna(df[li_cont_select].mean().iloc[0])\n",
    "#display AFTER categoricalfeatures\n",
    "df[li_cat_select] = df[li_cat_select].fillna(df[li_cat_select].mode().iloc[0])\n",
    "#show data\n",
    "display(df[config.li_cont_select].head(3))\n",
    "display(df[config.li_cat_select].head(3))"
   ]
  },
  {
   "cell_type": "code",
   "execution_count": 7,
   "metadata": {},
   "outputs": [
    {
     "name": "stderr",
     "output_type": "stream",
     "text": [
      "C:\\Users\\camil\\anaconda3\\lib\\site-packages\\ipykernel\\ipkernel.py:283: DeprecationWarning: `should_run_async` will not call `transform_cell` automatically in the future. Please pass the result to `transformed_cell` argument and any exception that happen during thetransform in `preprocessing_exc_tuple` in IPython 7.17 and above.\n",
      "  and should_run_async(code)\n"
     ]
    },
    {
     "data": {
      "text/plain": [
       "1    0.955998\n",
       "0    0.044002\n",
       "Name: model_prediction, dtype: float64"
      ]
     },
     "metadata": {},
     "output_type": "display_data"
    },
    {
     "data": {
      "text/plain": [
       "1    0.940111\n",
       "0    0.059889\n",
       "Name: model_prediction, dtype: float64"
      ]
     },
     "metadata": {},
     "output_type": "display_data"
    },
    {
     "data": {
      "text/plain": [
       "1    0.940489\n",
       "0    0.059511\n",
       "Name: model_prediction, dtype: float64"
      ]
     },
     "metadata": {},
     "output_type": "display_data"
    },
    {
     "data": {
      "text/plain": [
       "1    0.940489\n",
       "0    0.059511\n",
       "Name: model_prediction, dtype: float64"
      ]
     },
     "metadata": {},
     "output_type": "display_data"
    },
    {
     "name": "stdout",
     "output_type": "stream",
     "text": [
      "Total running time for prediction: 206.79 mn\n"
     ]
    },
    {
     "data": {
      "text/html": [
       "<div>\n",
       "<style scoped>\n",
       "    .dataframe tbody tr th:only-of-type {\n",
       "        vertical-align: middle;\n",
       "    }\n",
       "\n",
       "    .dataframe tbody tr th {\n",
       "        vertical-align: top;\n",
       "    }\n",
       "\n",
       "    .dataframe thead th {\n",
       "        text-align: right;\n",
       "    }\n",
       "</style>\n",
       "<table border=\"1\" class=\"dataframe\">\n",
       "  <thead>\n",
       "    <tr style=\"text-align: right;\">\n",
       "      <th></th>\n",
       "      <th>Unnamed: 0</th>\n",
       "      <th>Timestamp</th>\n",
       "      <th>HenID</th>\n",
       "      <th>Trackingsystem_Zone</th>\n",
       "      <th>PenID</th>\n",
       "      <th>ts_order</th>\n",
       "      <th>TagID</th>\n",
       "      <th>signalstrength</th>\n",
       "      <th>system</th>\n",
       "      <th>time</th>\n",
       "      <th>...</th>\n",
       "      <th>next2zone==Zone</th>\n",
       "      <th>previous2zone==Zone</th>\n",
       "      <th>is_dur_bigger_900</th>\n",
       "      <th>is_dur_smaller_60sec</th>\n",
       "      <th>is_day</th>\n",
       "      <th>duration_bounded_mn</th>\n",
       "      <th>next_duration_bounded_mn</th>\n",
       "      <th>previous_duration_bounded_mn</th>\n",
       "      <th>nbr_nan</th>\n",
       "      <th>model_prediction</th>\n",
       "    </tr>\n",
       "  </thead>\n",
       "  <tbody>\n",
       "    <tr>\n",
       "      <th>0</th>\n",
       "      <td>0</td>\n",
       "      <td>2020-09-29 09:07:00</td>\n",
       "      <td>hen_71</td>\n",
       "      <td>3_Zone</td>\n",
       "      <td>pen12</td>\n",
       "      <td>0</td>\n",
       "      <td>tag_162</td>\n",
       "      <td>10</td>\n",
       "      <td>10 - 12</td>\n",
       "      <td>09:07:00</td>\n",
       "      <td>...</td>\n",
       "      <td>1</td>\n",
       "      <td>0</td>\n",
       "      <td>False</td>\n",
       "      <td>False</td>\n",
       "      <td>True</td>\n",
       "      <td>1.433333</td>\n",
       "      <td>1.183333</td>\n",
       "      <td>0.000000</td>\n",
       "      <td>1</td>\n",
       "      <td>1</td>\n",
       "    </tr>\n",
       "    <tr>\n",
       "      <th>1</th>\n",
       "      <td>1</td>\n",
       "      <td>2020-09-29 09:08:12</td>\n",
       "      <td>hen_7</td>\n",
       "      <td>3_Zone</td>\n",
       "      <td>pen11</td>\n",
       "      <td>1</td>\n",
       "      <td>tag_140</td>\n",
       "      <td>10</td>\n",
       "      <td>10 - 12</td>\n",
       "      <td>09:08:12</td>\n",
       "      <td>...</td>\n",
       "      <td>1</td>\n",
       "      <td>0</td>\n",
       "      <td>False</td>\n",
       "      <td>False</td>\n",
       "      <td>True</td>\n",
       "      <td>4.066667</td>\n",
       "      <td>4.866667</td>\n",
       "      <td>0.000000</td>\n",
       "      <td>1</td>\n",
       "      <td>1</td>\n",
       "    </tr>\n",
       "    <tr>\n",
       "      <th>2</th>\n",
       "      <td>2</td>\n",
       "      <td>2020-09-29 09:08:26</td>\n",
       "      <td>hen_71</td>\n",
       "      <td>3_Zone</td>\n",
       "      <td>pen12</td>\n",
       "      <td>2</td>\n",
       "      <td>tag_162</td>\n",
       "      <td>11</td>\n",
       "      <td>10 - 12</td>\n",
       "      <td>09:08:26</td>\n",
       "      <td>...</td>\n",
       "      <td>1</td>\n",
       "      <td>0</td>\n",
       "      <td>False</td>\n",
       "      <td>False</td>\n",
       "      <td>True</td>\n",
       "      <td>1.183333</td>\n",
       "      <td>0.716667</td>\n",
       "      <td>1.433333</td>\n",
       "      <td>0</td>\n",
       "      <td>1</td>\n",
       "    </tr>\n",
       "  </tbody>\n",
       "</table>\n",
       "<p>3 rows × 60 columns</p>\n",
       "</div>"
      ],
      "text/plain": [
       "   Unnamed: 0           Timestamp   HenID Trackingsystem_Zone  PenID  \\\n",
       "0           0 2020-09-29 09:07:00  hen_71              3_Zone  pen12   \n",
       "1           1 2020-09-29 09:08:12   hen_7              3_Zone  pen11   \n",
       "2           2 2020-09-29 09:08:26  hen_71              3_Zone  pen12   \n",
       "\n",
       "   ts_order    TagID  signalstrength   system      time  ... next2zone==Zone  \\\n",
       "0         0  tag_162              10  10 - 12  09:07:00  ...               1   \n",
       "1         1  tag_140              10  10 - 12  09:08:12  ...               1   \n",
       "2         2  tag_162              11  10 - 12  09:08:26  ...               1   \n",
       "\n",
       "   previous2zone==Zone is_dur_bigger_900 is_dur_smaller_60sec is_day  \\\n",
       "0                    0             False                False   True   \n",
       "1                    0             False                False   True   \n",
       "2                    0             False                False   True   \n",
       "\n",
       "  duration_bounded_mn  next_duration_bounded_mn previous_duration_bounded_mn  \\\n",
       "0            1.433333                  1.183333                     0.000000   \n",
       "1            4.066667                  4.866667                     0.000000   \n",
       "2            1.183333                  0.716667                     1.433333   \n",
       "\n",
       "   nbr_nan model_prediction  \n",
       "0        1                1  \n",
       "1        1                1  \n",
       "2        0                1  \n",
       "\n",
       "[3 rows x 60 columns]"
      ]
     },
     "metadata": {},
     "output_type": "display_data"
    },
    {
     "data": {
      "text/plain": [
       "None"
      ]
     },
     "metadata": {},
     "output_type": "display_data"
    }
   ],
   "source": [
    "START_TIME = time.perf_counter()\n",
    "#predict, and if its wintergarten (i.e. 1_Zone) put =1\n",
    "df['model_prediction'] = df.apply(lambda x: model.predict(pd.DataFrame(x[li_cont_select+\\\n",
    "                                                                         li_cat_select]).transpose())[0] if\\\n",
    "                                  x['Trackingsystem_Zone']!='1_Zone' else 1, axis=1)\n",
    "display(df['model_prediction'].value_counts(normalize=True)) #in testing it was 4,9% of wrong records: 42/(42+821)*100)\n",
    "\n",
    "#predict false if <60seconds in WG or at night, else true\n",
    "df.loc[(df['is_dur_smaller_60sec'])&((df['Trackingsystem_Zone']=='1_Zone')|(~df['is_day'])), 'model_prediction'] = 0\n",
    "#always =1 if there was some nan values\n",
    "display(df['model_prediction'].value_counts(normalize=True)) #in testing it was 4,9% of wrong records: 42/(42+821)*100)\n",
    "\n",
    "#always =1 if >15mn or if there was some NAN values\n",
    "df.loc[(df['is_dur_bigger_'+str(nbr_maxdur2beremoved)])|(df['nbr_nan']!=0), 'model_prediction'] = 1\n",
    "display(df['model_prediction'].value_counts(normalize=True)) #in testing it was 4,9% of wrong records: 42/(42+821)*100)\n",
    "\n",
    "#predict=1 if nan\n",
    "df.loc[df['nbr_nan']!=0, 'model_prediction'] = 1\n",
    "display(df['model_prediction'].value_counts(normalize=True)) #in testing it was 4,9% of wrong records: 42/(42+821)*100)\n",
    "\n",
    "END_TIME = time.perf_counter()\n",
    "print (\"Total running time for prediction: %.2f mn\" %((END_TIME-START_TIME)/60))\n",
    "display(display(df.head(3)))\n",
    "#prediction_proba = model.predict_proba(df[df['Trackingsystem_Zone']!='1_Zone'])\n",
    "#df['model_prediction_proba0'] = [round(x[0],2) for x in prediction_proba]\n",
    "#df['model_prediction_proba1'] = [round(x[1],2) for x in prediction_proba]"
   ]
  },
  {
   "cell_type": "markdown",
   "metadata": {},
   "source": [
    "#old way\n",
    "########### model filtering keeping 15mns' stays and for WG + night records: predict false if <60seconds else True (TD-method)\n",
    "START_TIME = time.perf_counter()\n",
    "#predict, and if its wintergarten (i.e. 1_Zone) put =1\n",
    "df_ = df[df['Trackingsystem_Zone']!='1_Zone'].copy()\n",
    "predictions = model.predict(df_.filter(li_cont_select+li_cat_select, axis=1))\n",
    "x0 = df[df['Trackingsystem_Zone']=='1_Zone'].shape[0]\n",
    "df_['model_prediction'] = predictions\n",
    "if df_[df_['model_prediction'].isnull()].shape[0]!=0:\n",
    "    print('ERROR')\n",
    "    sys.exit()\n",
    "df = pd.merge(df, df_.filter(['model_prediction','HenID','Timestamp'], axis=1), on=['HenID','Timestamp'], how='left')\n",
    "print(df[df['model_prediction'].isnull()].shape)\n",
    "if df[df['model_prediction'].isnull()].shape[0]!=x0:\n",
    "    print('ERROR: you have some nan in your predictions')\n",
    "    sys.exit()\n",
    "display(df['model_prediction'].value_counts(normalize=True))\n",
    "END_TIME = time.perf_counter()\n",
    "print (\"Total running time for prediction: %.2f mn\" %((END_TIME-START_TIME)/60))\n",
    "\n",
    "\n",
    "#predict false if <60seconds in WG or at night, else true\n",
    "df.loc[df['Trackingsystem_Zone']=='1_Zone','model_prediction'] = 1\n",
    "df.loc[(df['is_dur_smaller_60sec'])&((df['Trackingsystem_Zone']=='1_Zone')|(~df['is_day'])), 'model_prediction'] = 0\n",
    "\n",
    "#always =1 if >15mn or if there was some NAN values\n",
    "df.loc[(df['is_dur_bigger_'+str(nbr_maxdur2beremoved)])|(df['nbr_nan']!=0), 'model_prediction'] = 1\n",
    "\n",
    "display(df['model_prediction'].value_counts(normalize=True)) #in testing it was 4,9% of wrong records: 42/(42+821)*100)\n",
    "#prediction_proba = model.predict_proba(df[df['Trackingsystem_Zone']!='1_Zone'])\n",
    "#df['model_prediction_proba0'] = [round(x[0],2) for x in prediction_proba]\n",
    "#df['model_prediction_proba1'] = [round(x[1],2) for x in prediction_proba]"
   ]
  },
  {
   "cell_type": "code",
   "execution_count": 8,
   "metadata": {},
   "outputs": [
    {
     "name": "stderr",
     "output_type": "stream",
     "text": [
      "C:\\Users\\camil\\anaconda3\\lib\\site-packages\\ipykernel\\ipkernel.py:283: DeprecationWarning: `should_run_async` will not call `transform_cell` automatically in the future. Please pass the result to `transformed_cell` argument and any exception that happen during thetransform in `preprocessing_exc_tuple` in IPython 7.17 and above.\n",
      "  and should_run_async(code)\n"
     ]
    }
   ],
   "source": [
    "#will take TIME to save\n",
    "#Note that we cant use the duration info anymore so we are filtering it\n",
    "df.filter(['HenID','PenID','system','Trackingsystem_Zone','model_prediction','Timestamp','date'],\n",
    "          axis=1).to_csv(os.path.join(path_extracted_data, id_run+'_Rawdata&Model.csv'), index=False, sep=';')"
   ]
  },
  {
   "cell_type": "markdown",
   "metadata": {},
   "source": [
    "## Remove filtered records & consecutives equal zones"
   ]
  },
  {
   "cell_type": "code",
   "execution_count": 9,
   "metadata": {},
   "outputs": [
    {
     "name": "stderr",
     "output_type": "stream",
     "text": [
      "C:\\Users\\camil\\anaconda3\\lib\\site-packages\\ipykernel\\ipkernel.py:283: DeprecationWarning: `should_run_async` will not call `transform_cell` automatically in the future. Please pass the result to `transformed_cell` argument and any exception that happen during thetransform in `preprocessing_exc_tuple` in IPython 7.17 and above.\n",
      "  and should_run_async(code)\n"
     ]
    },
    {
     "name": "stdout",
     "output_type": "stream",
     "text": [
      "(5503772, 7)\n",
      "(0, 7)\n",
      "(5176237, 7)\n",
      "(5176237, 7)\n"
     ]
    },
    {
     "data": {
      "text/html": [
       "<div>\n",
       "<style scoped>\n",
       "    .dataframe tbody tr th:only-of-type {\n",
       "        vertical-align: middle;\n",
       "    }\n",
       "\n",
       "    .dataframe tbody tr th {\n",
       "        vertical-align: top;\n",
       "    }\n",
       "\n",
       "    .dataframe thead th {\n",
       "        text-align: right;\n",
       "    }\n",
       "</style>\n",
       "<table border=\"1\" class=\"dataframe\">\n",
       "  <thead>\n",
       "    <tr style=\"text-align: right;\">\n",
       "      <th></th>\n",
       "      <th>HenID</th>\n",
       "      <th>PenID</th>\n",
       "      <th>system</th>\n",
       "      <th>Zone</th>\n",
       "      <th>model_prediction</th>\n",
       "      <th>Timestamp</th>\n",
       "      <th>date</th>\n",
       "    </tr>\n",
       "  </thead>\n",
       "  <tbody>\n",
       "    <tr>\n",
       "      <th>0</th>\n",
       "      <td>hen_71</td>\n",
       "      <td>pen12</td>\n",
       "      <td>10 - 12</td>\n",
       "      <td>3_Zone</td>\n",
       "      <td>1</td>\n",
       "      <td>2020-09-29 09:07:00</td>\n",
       "      <td>2020-09-29</td>\n",
       "    </tr>\n",
       "    <tr>\n",
       "      <th>1</th>\n",
       "      <td>hen_7</td>\n",
       "      <td>pen11</td>\n",
       "      <td>10 - 12</td>\n",
       "      <td>3_Zone</td>\n",
       "      <td>1</td>\n",
       "      <td>2020-09-29 09:08:12</td>\n",
       "      <td>2020-09-29</td>\n",
       "    </tr>\n",
       "    <tr>\n",
       "      <th>2</th>\n",
       "      <td>hen_71</td>\n",
       "      <td>pen12</td>\n",
       "      <td>10 - 12</td>\n",
       "      <td>3_Zone</td>\n",
       "      <td>1</td>\n",
       "      <td>2020-09-29 09:08:26</td>\n",
       "      <td>2020-09-29</td>\n",
       "    </tr>\n",
       "  </tbody>\n",
       "</table>\n",
       "</div>"
      ],
      "text/plain": [
       "    HenID  PenID   system    Zone  model_prediction           Timestamp  \\\n",
       "0  hen_71  pen12  10 - 12  3_Zone                 1 2020-09-29 09:07:00   \n",
       "1   hen_7  pen11  10 - 12  3_Zone                 1 2020-09-29 09:08:12   \n",
       "2  hen_71  pen12  10 - 12  3_Zone                 1 2020-09-29 09:08:26   \n",
       "\n",
       "        date  \n",
       "0 2020-09-29  \n",
       "1 2020-09-29  \n",
       "2 2020-09-29  "
      ]
     },
     "execution_count": 9,
     "metadata": {},
     "output_type": "execute_result"
    }
   ],
   "source": [
    "#for being more reproductible, we open the file that was saved from cleaning\n",
    "df = pd.read_csv(os.path.join(path_extracted_data, id_run+'_Rawdata&Model.csv'), sep=';', parse_dates=['Timestamp','date'],\n",
    "                 dayfirst=True) \n",
    "#remove predicted-wrong-records\n",
    "print(df.shape)\n",
    "print(df[df['model_prediction'].isnull()].shape)\n",
    "df = df[df['model_prediction']!=0].copy()\n",
    "print(df.shape)\n",
    "#simply rename the tracking system zone into the model zone :) \n",
    "df.rename(columns={'Trackingsystem_Zone':'Zone'}, inplace=True)\n",
    "print(df.shape)\n",
    "df.head(3)"
   ]
  },
  {
   "cell_type": "code",
   "execution_count": 10,
   "metadata": {},
   "outputs": [
    {
     "name": "stdout",
     "output_type": "stream",
     "text": [
      "-----------------------------------------------------------------------------------------------\n",
      "remove consecutives equal zone for the same hen.........\n",
      "-----------------------------------------------------------------------------------------------\n"
     ]
    },
    {
     "name": "stderr",
     "output_type": "stream",
     "text": [
      "C:\\Users\\camil\\anaconda3\\lib\\site-packages\\ipykernel\\ipkernel.py:283: DeprecationWarning: `should_run_async` will not call `transform_cell` automatically in the future. Please pass the result to `transformed_cell` argument and any exception that happen during thetransform in `preprocessing_exc_tuple` in IPython 7.17 and above.\n",
      "  and should_run_async(code)\n",
      "100%|████████████████████████████████████████████████████████████████████████████████| 228/228 [03:33<00:00,  1.07it/s]\n"
     ]
    }
   ],
   "source": [
    "#######################################################################################################################\n",
    "#ceiz = consecutives equal initial zone\n",
    "print('-----------------------------------------------------------------------------------------------')\n",
    "print('remove consecutives equal zone for the same hen.........')\n",
    "print('-----------------------------------------------------------------------------------------------')\n",
    "\n",
    "li_df = []\n",
    "#more efficient to do it per hen, as it wont need to search in the whole dataframe, and we can simply shift the timestamp column\n",
    "for i, df_hen in tqdm.tqdm(df.groupby(['HenID'])):\n",
    "    #as the next record date (sort by date, then simply shift by one row and add nan at then end)\n",
    "    df_hen = df_hen.sort_values(['Timestamp'], ascending=True)\n",
    "    #same date, one must take the last recorded one & sorting by date might change it. Also it already should be sorted by date\n",
    "    df_hen['next_record_date'] = df_hen['Timestamp'].tolist()[1:]+[np.nan]\n",
    "    #compute duration\n",
    "    df_hen['duration'] = df_hen.apply(lambda x: x['next_record_date']-x['Timestamp'], axis=1)\n",
    "    #compute the last record date in order to put interzone also when the duration is >=nbr_sec_flickering1\n",
    "    df_hen['previous_record_date'] = [np.nan]+df_hen['Timestamp'].tolist()[0:-1]\n",
    "    #compute previous duration in order to put interzone also when the duration is >=nbr_sec_flickering1\n",
    "    df_hen['previous_duration'] = [np.nan]+df_hen['duration'].tolist()[0:-1]\n",
    "    #add next record for the impossible movement\n",
    "    df_hen['next_zone'] = df_hen['Zone'].tolist()[1:]+[np.nan]\n",
    "    #add previous record for the consecutives equal initial zones\n",
    "    df_hen['previous_zone'] = [np.nan]+df_hen['Zone'].tolist()[0:-1]\n",
    "    df_hen['previous_previous_zone'] = [np.nan]+df_hen['previous_zone'].tolist()[0:-1]\n",
    "    li_df.append(df_hen)\n",
    "#put again in one dataframe\n",
    "df = pd.concat(li_df)\n",
    "#dont care about the false positive warning   \n",
    "\n",
    "#True if next zone is equal to the actual zone\n",
    "df['correction_is_consecutive_equal_initial_zone'] = False\n",
    "#if the previous zone is the same, then its cez that should be removed\n",
    "df.loc[df['previous_zone']==df['Zone'], 'correction_is_consecutive_equal_initial_zone'] = True\n",
    "\n",
    "\n",
    "################# save\n",
    "df = df.sort_values(['Timestamp'], ascending=True)\n",
    "#save to verify CEIZ\n",
    "df.to_csv(os.path.join(path_extracted_data, id_run+'_records_GeneralCleaning_VERIFICATION_CEIZ.csv'), sep=';', index=False) \n",
    "df = df[~(df['correction_is_consecutive_equal_initial_zone'])]"
   ]
  },
  {
   "cell_type": "code",
   "execution_count": 11,
   "metadata": {},
   "outputs": [
    {
     "name": "stderr",
     "output_type": "stream",
     "text": [
      "C:\\Users\\camil\\anaconda3\\lib\\site-packages\\ipykernel\\ipkernel.py:283: DeprecationWarning: `should_run_async` will not call `transform_cell` automatically in the future. Please pass the result to `transformed_cell` argument and any exception that happen during thetransform in `preprocessing_exc_tuple` in IPython 7.17 and above.\n",
      "  and should_run_async(code)\n"
     ]
    },
    {
     "data": {
      "text/html": [
       "<div>\n",
       "<style scoped>\n",
       "    .dataframe tbody tr th:only-of-type {\n",
       "        vertical-align: middle;\n",
       "    }\n",
       "\n",
       "    .dataframe tbody tr th {\n",
       "        vertical-align: top;\n",
       "    }\n",
       "\n",
       "    .dataframe thead th {\n",
       "        text-align: right;\n",
       "    }\n",
       "</style>\n",
       "<table border=\"1\" class=\"dataframe\">\n",
       "  <thead>\n",
       "    <tr style=\"text-align: right;\">\n",
       "      <th></th>\n",
       "      <th>Timestamp</th>\n",
       "      <th>HenID</th>\n",
       "      <th>previous_zone</th>\n",
       "      <th>Zone</th>\n",
       "    </tr>\n",
       "  </thead>\n",
       "  <tbody>\n",
       "    <tr>\n",
       "      <th>1976</th>\n",
       "      <td>2020-09-29 14:33:02</td>\n",
       "      <td>hen_99</td>\n",
       "      <td>NaN</td>\n",
       "      <td>3_Zone</td>\n",
       "    </tr>\n",
       "    <tr>\n",
       "      <th>2016</th>\n",
       "      <td>2020-09-29 14:38:10</td>\n",
       "      <td>hen_99</td>\n",
       "      <td>3_Zone</td>\n",
       "      <td>2_Zone</td>\n",
       "    </tr>\n",
       "    <tr>\n",
       "      <th>2182</th>\n",
       "      <td>2020-09-29 14:58:57</td>\n",
       "      <td>hen_99</td>\n",
       "      <td>2_Zone</td>\n",
       "      <td>3_Zone</td>\n",
       "    </tr>\n",
       "    <tr>\n",
       "      <th>2224</th>\n",
       "      <td>2020-09-29 15:03:42</td>\n",
       "      <td>hen_99</td>\n",
       "      <td>3_Zone</td>\n",
       "      <td>3_Zone</td>\n",
       "    </tr>\n",
       "    <tr>\n",
       "      <th>2227</th>\n",
       "      <td>2020-09-29 15:03:58</td>\n",
       "      <td>hen_99</td>\n",
       "      <td>3_Zone</td>\n",
       "      <td>3_Zone</td>\n",
       "    </tr>\n",
       "    <tr>\n",
       "      <th>2233</th>\n",
       "      <td>2020-09-29 15:04:31</td>\n",
       "      <td>hen_99</td>\n",
       "      <td>3_Zone</td>\n",
       "      <td>3_Zone</td>\n",
       "    </tr>\n",
       "    <tr>\n",
       "      <th>2324</th>\n",
       "      <td>2020-09-29 15:15:46</td>\n",
       "      <td>hen_99</td>\n",
       "      <td>3_Zone</td>\n",
       "      <td>2_Zone</td>\n",
       "    </tr>\n",
       "    <tr>\n",
       "      <th>3476</th>\n",
       "      <td>2020-09-29 16:54:27</td>\n",
       "      <td>hen_99</td>\n",
       "      <td>2_Zone</td>\n",
       "      <td>3_Zone</td>\n",
       "    </tr>\n",
       "    <tr>\n",
       "      <th>3486</th>\n",
       "      <td>2020-09-29 16:55:54</td>\n",
       "      <td>hen_99</td>\n",
       "      <td>3_Zone</td>\n",
       "      <td>3_Zone</td>\n",
       "    </tr>\n",
       "    <tr>\n",
       "      <th>3490</th>\n",
       "      <td>2020-09-29 16:56:36</td>\n",
       "      <td>hen_99</td>\n",
       "      <td>3_Zone</td>\n",
       "      <td>3_Zone</td>\n",
       "    </tr>\n",
       "  </tbody>\n",
       "</table>\n",
       "</div>"
      ],
      "text/plain": [
       "               Timestamp   HenID previous_zone    Zone\n",
       "1976 2020-09-29 14:33:02  hen_99           NaN  3_Zone\n",
       "2016 2020-09-29 14:38:10  hen_99        3_Zone  2_Zone\n",
       "2182 2020-09-29 14:58:57  hen_99        2_Zone  3_Zone\n",
       "2224 2020-09-29 15:03:42  hen_99        3_Zone  3_Zone\n",
       "2227 2020-09-29 15:03:58  hen_99        3_Zone  3_Zone\n",
       "2233 2020-09-29 15:04:31  hen_99        3_Zone  3_Zone\n",
       "2324 2020-09-29 15:15:46  hen_99        3_Zone  2_Zone\n",
       "3476 2020-09-29 16:54:27  hen_99        2_Zone  3_Zone\n",
       "3486 2020-09-29 16:55:54  hen_99        3_Zone  3_Zone\n",
       "3490 2020-09-29 16:56:36  hen_99        3_Zone  3_Zone"
      ]
     },
     "execution_count": 11,
     "metadata": {},
     "output_type": "execute_result"
    }
   ],
   "source": [
    "#small verification\n",
    "df_hen[['Timestamp','HenID','previous_zone','Zone']].head(10)"
   ]
  },
  {
   "cell_type": "markdown",
   "metadata": {},
   "source": [
    "## Remove records in WG when WG was close"
   ]
  },
  {
   "cell_type": "code",
   "execution_count": 12,
   "metadata": {},
   "outputs": [
    {
     "name": "stderr",
     "output_type": "stream",
     "text": [
      "C:\\Users\\camil\\anaconda3\\lib\\site-packages\\ipykernel\\ipkernel.py:283: DeprecationWarning: `should_run_async` will not call `transform_cell` automatically in the future. Please pass the result to `transformed_cell` argument and any exception that happen during thetransform in `preprocessing_exc_tuple` in IPython 7.17 and above.\n",
      "  and should_run_async(code)\n"
     ]
    },
    {
     "name": "stdout",
     "output_type": "stream",
     "text": [
      "True     0.557041\n",
      "False    0.442959\n",
      "Name: is_WG_open, dtype: float64\n"
     ]
    },
    {
     "data": {
      "text/html": [
       "<div>\n",
       "<style scoped>\n",
       "    .dataframe tbody tr th:only-of-type {\n",
       "        vertical-align: middle;\n",
       "    }\n",
       "\n",
       "    .dataframe tbody tr th {\n",
       "        vertical-align: top;\n",
       "    }\n",
       "\n",
       "    .dataframe thead th {\n",
       "        text-align: right;\n",
       "    }\n",
       "</style>\n",
       "<table border=\"1\" class=\"dataframe\">\n",
       "  <thead>\n",
       "    <tr style=\"text-align: right;\">\n",
       "      <th></th>\n",
       "      <th>Timestamp</th>\n",
       "      <th>is_WG_open</th>\n",
       "    </tr>\n",
       "  </thead>\n",
       "  <tbody>\n",
       "    <tr>\n",
       "      <th>49254</th>\n",
       "      <td>2020-10-08 11:01:14</td>\n",
       "      <td>True</td>\n",
       "    </tr>\n",
       "    <tr>\n",
       "      <th>49282</th>\n",
       "      <td>2020-10-08 11:05:21</td>\n",
       "      <td>True</td>\n",
       "    </tr>\n",
       "    <tr>\n",
       "      <th>49284</th>\n",
       "      <td>2020-10-08 11:06:29</td>\n",
       "      <td>True</td>\n",
       "    </tr>\n",
       "    <tr>\n",
       "      <th>49318</th>\n",
       "      <td>2020-10-08 11:09:54</td>\n",
       "      <td>True</td>\n",
       "    </tr>\n",
       "    <tr>\n",
       "      <th>49348</th>\n",
       "      <td>2020-10-08 11:11:42</td>\n",
       "      <td>True</td>\n",
       "    </tr>\n",
       "  </tbody>\n",
       "</table>\n",
       "</div>"
      ],
      "text/plain": [
       "                Timestamp  is_WG_open\n",
       "49254 2020-10-08 11:01:14        True\n",
       "49282 2020-10-08 11:05:21        True\n",
       "49284 2020-10-08 11:06:29        True\n",
       "49318 2020-10-08 11:09:54        True\n",
       "49348 2020-10-08 11:11:42        True"
      ]
     },
     "metadata": {},
     "output_type": "display_data"
    },
    {
     "data": {
      "text/html": [
       "<div>\n",
       "<style scoped>\n",
       "    .dataframe tbody tr th:only-of-type {\n",
       "        vertical-align: middle;\n",
       "    }\n",
       "\n",
       "    .dataframe tbody tr th {\n",
       "        vertical-align: top;\n",
       "    }\n",
       "\n",
       "    .dataframe thead th {\n",
       "        text-align: right;\n",
       "    }\n",
       "</style>\n",
       "<table border=\"1\" class=\"dataframe\">\n",
       "  <thead>\n",
       "    <tr style=\"text-align: right;\">\n",
       "      <th></th>\n",
       "      <th>Timestamp</th>\n",
       "      <th>is_WG_open</th>\n",
       "    </tr>\n",
       "  </thead>\n",
       "  <tbody>\n",
       "    <tr>\n",
       "      <th>30943</th>\n",
       "      <td>2020-10-05 11:58:13</td>\n",
       "      <td>False</td>\n",
       "    </tr>\n",
       "    <tr>\n",
       "      <th>30954</th>\n",
       "      <td>2020-10-05 11:59:40</td>\n",
       "      <td>False</td>\n",
       "    </tr>\n",
       "    <tr>\n",
       "      <th>31152</th>\n",
       "      <td>2020-10-05 12:27:06</td>\n",
       "      <td>False</td>\n",
       "    </tr>\n",
       "    <tr>\n",
       "      <th>31209</th>\n",
       "      <td>2020-10-05 12:34:59</td>\n",
       "      <td>False</td>\n",
       "    </tr>\n",
       "    <tr>\n",
       "      <th>31229</th>\n",
       "      <td>2020-10-05 12:37:56</td>\n",
       "      <td>False</td>\n",
       "    </tr>\n",
       "  </tbody>\n",
       "</table>\n",
       "</div>"
      ],
      "text/plain": [
       "                Timestamp  is_WG_open\n",
       "30943 2020-10-05 11:58:13       False\n",
       "30954 2020-10-05 11:59:40       False\n",
       "31152 2020-10-05 12:27:06       False\n",
       "31209 2020-10-05 12:34:59       False\n",
       "31229 2020-10-05 12:37:56       False"
      ]
     },
     "metadata": {},
     "output_type": "display_data"
    }
   ],
   "source": [
    "df['is_WG_open'] = df['Timestamp'].map(lambda x: is_WG_open(x, dico_garden_opening_hour, date_first_opening_WG, close_dates,\n",
    "                                                            epsi_open=0, epsi_close=20))\n",
    "#we keep the epsi_open=0 as the system appeared to always open between 20sec of 2mn AFTER the indicated time (from video \n",
    "#observation)\n",
    "#we set epsi_close=20 as for video observation we saw that itwoul dbe between + and -15 mn than the indicated time. So we added\n",
    "#some flexibility by puting 20mn.\n",
    "print(df['is_WG_open'].value_counts(normalize=True))\n",
    "display(df[(df['Zone']=='1_Zone')&(df['is_WG_open'])][['Timestamp','is_WG_open']].head(5))\n",
    "display(df[(df['Zone']=='1_Zone')&(~df['is_WG_open'])][['Timestamp','is_WG_open']].head(5))"
   ]
  },
  {
   "cell_type": "code",
   "execution_count": 13,
   "metadata": {},
   "outputs": [
    {
     "name": "stdout",
     "output_type": "stream",
     "text": [
      "(2066733, 16)\n"
     ]
    },
    {
     "name": "stderr",
     "output_type": "stream",
     "text": [
      "C:\\Users\\camil\\anaconda3\\lib\\site-packages\\ipykernel\\ipkernel.py:283: DeprecationWarning: `should_run_async` will not call `transform_cell` automatically in the future. Please pass the result to `transformed_cell` argument and any exception that happen during thetransform in `preprocessing_exc_tuple` in IPython 7.17 and above.\n",
      "  and should_run_async(code)\n"
     ]
    },
    {
     "name": "stdout",
     "output_type": "stream",
     "text": [
      "(2059712, 16)\n"
     ]
    }
   ],
   "source": [
    "#remove WG when close\n",
    "print(df.shape)\n",
    "df = df[~((~df['is_WG_open'])&(df['Zone']=='1_Zone'))]\n",
    "print(df.shape)"
   ]
  },
  {
   "cell_type": "markdown",
   "metadata": {},
   "source": [
    "## Save"
   ]
  },
  {
   "cell_type": "code",
   "execution_count": 14,
   "metadata": {},
   "outputs": [
    {
     "name": "stdout",
     "output_type": "stream",
     "text": [
      "(2059712, 16)\n"
     ]
    },
    {
     "name": "stderr",
     "output_type": "stream",
     "text": [
      "C:\\Users\\camil\\anaconda3\\lib\\site-packages\\ipykernel\\ipkernel.py:283: DeprecationWarning: `should_run_async` will not call `transform_cell` automatically in the future. Please pass the result to `transformed_cell` argument and any exception that happen during thetransform in `preprocessing_exc_tuple` in IPython 7.17 and above.\n",
      "  and should_run_async(code)\n"
     ]
    }
   ],
   "source": [
    "print(df.shape)\n",
    "df.head(3)\n",
    "df.to_csv(os.path.join(path_extracted_data, id_run+'_CLEANEDDATA.csv'), sep=';', index=False) "
   ]
  },
  {
   "cell_type": "markdown",
   "metadata": {},
   "source": [
    "## MLP comparison (raw vs cleaned)"
   ]
  },
  {
   "cell_type": "code",
   "execution_count": 15,
   "metadata": {},
   "outputs": [
    {
     "name": "stderr",
     "output_type": "stream",
     "text": [
      "C:\\Users\\camil\\anaconda3\\lib\\site-packages\\ipykernel\\ipkernel.py:283: DeprecationWarning: `should_run_async` will not call `transform_cell` automatically in the future. Please pass the result to `transformed_cell` argument and any exception that happen during thetransform in `preprocessing_exc_tuple` in IPython 7.17 and above.\n",
      "  and should_run_async(code)\n"
     ]
    },
    {
     "name": "stdout",
     "output_type": "stream",
     "text": [
      "(5503772, 7)\n"
     ]
    },
    {
     "data": {
      "text/html": [
       "<div>\n",
       "<style scoped>\n",
       "    .dataframe tbody tr th:only-of-type {\n",
       "        vertical-align: middle;\n",
       "    }\n",
       "\n",
       "    .dataframe tbody tr th {\n",
       "        vertical-align: top;\n",
       "    }\n",
       "\n",
       "    .dataframe thead th {\n",
       "        text-align: right;\n",
       "    }\n",
       "</style>\n",
       "<table border=\"1\" class=\"dataframe\">\n",
       "  <thead>\n",
       "    <tr style=\"text-align: right;\">\n",
       "      <th></th>\n",
       "      <th>HenID</th>\n",
       "      <th>PenID</th>\n",
       "      <th>system</th>\n",
       "      <th>Trackingsystem_Zone</th>\n",
       "      <th>model_prediction</th>\n",
       "      <th>Timestamp</th>\n",
       "      <th>date</th>\n",
       "    </tr>\n",
       "  </thead>\n",
       "  <tbody>\n",
       "    <tr>\n",
       "      <th>0</th>\n",
       "      <td>hen_71</td>\n",
       "      <td>pen12</td>\n",
       "      <td>10 - 12</td>\n",
       "      <td>3_Zone</td>\n",
       "      <td>1</td>\n",
       "      <td>2020-09-29 09:07:00</td>\n",
       "      <td>2020-09-29</td>\n",
       "    </tr>\n",
       "    <tr>\n",
       "      <th>1</th>\n",
       "      <td>hen_7</td>\n",
       "      <td>pen11</td>\n",
       "      <td>10 - 12</td>\n",
       "      <td>3_Zone</td>\n",
       "      <td>1</td>\n",
       "      <td>2020-09-29 09:08:12</td>\n",
       "      <td>2020-09-29</td>\n",
       "    </tr>\n",
       "    <tr>\n",
       "      <th>2</th>\n",
       "      <td>hen_71</td>\n",
       "      <td>pen12</td>\n",
       "      <td>10 - 12</td>\n",
       "      <td>3_Zone</td>\n",
       "      <td>1</td>\n",
       "      <td>2020-09-29 09:08:26</td>\n",
       "      <td>2020-09-29</td>\n",
       "    </tr>\n",
       "  </tbody>\n",
       "</table>\n",
       "</div>"
      ],
      "text/plain": [
       "    HenID  PenID   system Trackingsystem_Zone  model_prediction  \\\n",
       "0  hen_71  pen12  10 - 12              3_Zone                 1   \n",
       "1   hen_7  pen11  10 - 12              3_Zone                 1   \n",
       "2  hen_71  pen12  10 - 12              3_Zone                 1   \n",
       "\n",
       "            Timestamp       date  \n",
       "0 2020-09-29 09:07:00 2020-09-29  \n",
       "1 2020-09-29 09:08:12 2020-09-29  \n",
       "2 2020-09-29 09:08:26 2020-09-29  "
      ]
     },
     "execution_count": 15,
     "metadata": {},
     "output_type": "execute_result"
    }
   ],
   "source": [
    "#for being more reproductible, we open the file that was saved from cleaning\n",
    "df = pd.read_csv(os.path.join(path_extracted_data, id_run+'_Rawdata&Model.csv'), sep=';', parse_dates=['Timestamp','date'],\n",
    "                 dayfirst=True) \n",
    "print(df.shape)\n",
    "df.head(3)"
   ]
  },
  {
   "cell_type": "code",
   "execution_count": 16,
   "metadata": {},
   "outputs": [
    {
     "name": "stderr",
     "output_type": "stream",
     "text": [
      "C:\\Users\\camil\\anaconda3\\lib\\site-packages\\ipykernel\\ipkernel.py:283: DeprecationWarning: `should_run_async` will not call `transform_cell` automatically in the future. Please pass the result to `transformed_cell` argument and any exception that happen during thetransform in `preprocessing_exc_tuple` in IPython 7.17 and above.\n",
      "  and should_run_async(code)\n"
     ]
    },
    {
     "data": {
      "text/plain": [
       "1    0.940489\n",
       "0    0.059511\n",
       "Name: model_prediction, dtype: float64"
      ]
     },
     "execution_count": 16,
     "metadata": {},
     "output_type": "execute_result"
    }
   ],
   "source": [
    "df['model_prediction'].value_counts(normalize=True)"
   ]
  },
  {
   "cell_type": "code",
   "execution_count": null,
   "metadata": {},
   "outputs": [
    {
     "name": "stderr",
     "output_type": "stream",
     "text": [
      "C:\\Users\\camil\\anaconda3\\lib\\site-packages\\ipykernel\\ipkernel.py:283: DeprecationWarning: `should_run_async` will not call `transform_cell` automatically in the future. Please pass the result to `transformed_cell` argument and any exception that happen during thetransform in `preprocessing_exc_tuple` in IPython 7.17 and above.\n",
      "  and should_run_async(code)\n",
      "  0%|                                                                                          | 0/159 [00:00<?, ?it/s]"
     ]
    },
    {
     "name": "stdout",
     "output_type": "stream",
     "text": [
      "(324948, 7)\n"
     ]
    },
    {
     "name": "stderr",
     "output_type": "stream",
     "text": [
      " 12%|█████████▍                                                                     | 19/159 [20:04<2:22:58, 61.27s/it]"
     ]
    }
   ],
   "source": [
    "START_TIME = time.perf_counter()\n",
    "#choose specific dates to plot, November is better as hens starts to move more and the algo have never seen it\n",
    "dmin = dt.datetime(2021,3,10)\n",
    "dmax = dt.datetime(2021,3,20)\n",
    "#df_ = df[(df['date']<dt.datetime(2020,11,16))&(df['date']>dt.datetime(2020,11,10))]\n",
    "df_ = df[(df['date']<=dmax)&(df['date']>=dmin)].copy()\n",
    "print(df_.shape)\n",
    "#only print the hens with at least one transition per day (simplicity and interestignly)\n",
    "#to sort the yaxis\n",
    "dico_zone_order = {'1_Zone':0, '2_Zone':1, '3_Zone':2, '4_Zone':3, '5_Zone':4}\n",
    "li_ts = ['Trackingsystem_Zone','Model_Zone']\n",
    "li_date = df_['date'].unique()\n",
    "#for each batch draw 2 timeseries, the raw one and the model one\n",
    "for henID, df_plt in tqdm.tqdm(df_.groupby(['HenID'])):\n",
    "    df_plt = df_plt.sort_values(['Timestamp']).copy()\n",
    "    c = len(li_ts) ; l = len(li_date)\n",
    "    fig, ax = plt.subplots(figsize=(c*5, l*1))\n",
    "    i = 1\n",
    "    if len(df_plt['date'].unique())==len(li_date):\n",
    "        mi = min(df_plt['Timestamp'].tolist()) ; ma = max(df_plt['Timestamp'].tolist())\n",
    "        Daterange = pd.date_range(start = mi+dt.timedelta(seconds=(60-mi.second)), \n",
    "                                  end = ma-dt.timedelta(seconds=(ma.second+1)), \n",
    "                                  freq = 'S') \n",
    "        df_plt_ = df_plt.copy()\n",
    "        df_plt_.set_index('Timestamp', inplace=True)\n",
    "        df_plt_ = df_plt_.reindex(Daterange, method='ffill').reset_index()\n",
    "        df_plt_.rename(columns={'index':'Timestamp'}, inplace=True)\n",
    "        #add date again, as the reindexing also extended the date\n",
    "        df_plt_['date'] = df_plt_['Timestamp'].map(lambda x: dt.datetime.date(x))\n",
    "        #remove first & last date\n",
    "        df_plt_ = df_plt_[~df_plt_['date'].isin([max(df_plt_['date'].tolist()),min(df_plt_['date'].tolist())])]\n",
    "        #put xlabel into numbers for the ploting\n",
    "        df_plt_['Trackingsystem_Zone'] = df_plt_['Trackingsystem_Zone'].map(lambda x: int(dico_zone_order[x]))       \n",
    "        for d, df_plt__ in df_plt_.groupby(['date']):\n",
    "            for v in li_ts:\n",
    "                df_plt___ = df_plt__.copy()\n",
    "                if v=='Model_Zone':\n",
    "                    df_plt___ = df_plt___[df_plt___['model_prediction']==1]\n",
    "                plt.subplot(l,c,i)\n",
    "                plt.tight_layout(pad=0.3) #add spacing between each plot\n",
    "                if i%2==1:\n",
    "                    plt.yticks([0,1,2,3,4], ['Winter garden', 'Litter', 'Lower perch','Nestbox','Top floor'])\n",
    "                else:\n",
    "                    plt.yticks([0,1,2,3,4], ['','','','',''])\n",
    "                if i in [1,2]:\n",
    "                    plt.title(v.replace('_',' '), size=13)\n",
    "                i = i+1\n",
    "                plt.plot(df_plt___['Timestamp'].tolist(), df_plt___['Trackingsystem_Zone'].tolist(), \n",
    "                         color=pal_[v], linewidth=1)\n",
    "                li_hour = pd.date_range(start = d,  end = d+dt.timedelta(days=1), freq = 'H')\n",
    "                plt.xticks(li_hour , [str(i.hour)+'h' for i in li_hour], fontsize=5)                \n",
    "                plt.yticks(fontsize=8)\n",
    "                plt.xlabel(str(d).split('T')[0], size=7)\n",
    "                plt.ylim(0, 4.2)  \n",
    "        plt.savefig(os.path.join(path_extracted_data_visual, \n",
    "                                 henID+'_'+str(dmin).split(' ')[0]+'_'+str(dmax).split(' ')[0]+'.png'), \n",
    "                    format='png', bbox_inches='tight', dpi=300)\n",
    "    plt.clf()\n",
    "    plt.close(\"all\")    \n",
    "END_TIME = time.perf_counter()\n",
    "print (\"Total running time: %.2f mn\" %((END_TIME-START_TIME)/60))\n",
    "#hen4, 22.10.2020: flickering. solved?"
   ]
  },
  {
   "cell_type": "code",
   "execution_count": null,
   "metadata": {},
   "outputs": [],
   "source": []
  },
  {
   "cell_type": "code",
   "execution_count": null,
   "metadata": {},
   "outputs": [],
   "source": []
  },
  {
   "cell_type": "code",
   "execution_count": null,
   "metadata": {},
   "outputs": [],
   "source": []
  },
  {
   "cell_type": "code",
   "execution_count": null,
   "metadata": {},
   "outputs": [],
   "source": []
  },
  {
   "cell_type": "code",
   "execution_count": null,
   "metadata": {},
   "outputs": [],
   "source": []
  },
  {
   "cell_type": "code",
   "execution_count": null,
   "metadata": {},
   "outputs": [],
   "source": []
  },
  {
   "cell_type": "code",
   "execution_count": null,
   "metadata": {},
   "outputs": [],
   "source": []
  }
 ],
 "metadata": {
  "kernelspec": {
   "display_name": "Python 3",
   "language": "python",
   "name": "python3"
  },
  "language_info": {
   "codemirror_mode": {
    "name": "ipython",
    "version": 3
   },
   "file_extension": ".py",
   "mimetype": "text/x-python",
   "name": "python",
   "nbconvert_exporter": "python",
   "pygments_lexer": "ipython3",
   "version": "3.8.5"
  }
 },
 "nbformat": 4,
 "nbformat_minor": 2
}
