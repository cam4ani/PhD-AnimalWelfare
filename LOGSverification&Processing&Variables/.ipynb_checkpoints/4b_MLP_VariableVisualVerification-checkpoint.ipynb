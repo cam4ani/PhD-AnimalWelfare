{
 "cells": [
  {
   "cell_type": "code",
   "execution_count": 64,
   "metadata": {},
   "outputs": [],
   "source": [
    "#basic package\n",
    "import tqdm\n",
    "import os\n",
    "import numpy as np\n",
    "import glob\n",
    "import pandas as pd\n",
    "import sys\n",
    "import time\n",
    "import datetime as dt\n",
    "import itertools\n",
    "import re\n",
    "import math\n",
    "import pickle #to download MLP vectors\n",
    "\n",
    "#plot\n",
    "import matplotlib.pyplot as plt\n",
    "import seaborn as sns"
   ]
  },
  {
   "cell_type": "code",
   "execution_count": 65,
   "metadata": {},
   "outputs": [],
   "source": [
    "PACKAGE_PARENT = '../'\n",
    "SCRIPT_DIR = os.path.dirname(os.path.realpath(os.path.join(os.getcwd(), os.path.expanduser('__file__'))))\n",
    "sys.path.append(os.path.normpath(os.path.join(SCRIPT_DIR, PACKAGE_PARENT)))\n",
    "from UTILS import preprocessing_Origins,\\\n",
    "time_series_henColumn_tsRow,is_day,vertical_travel_distance, li_missingZone_mvtPerc_DU, li_event_chaoticmvt_z_d,\\\n",
    "ZoneVariable, HenDailyVariable_Origins, heatmap_duration_perzone_perhen, TimeSeriesPlot_1row1day,\\\n",
    "nbr_transition, max_duration_zones, openDevice, chi2_distance, sampen\n",
    "import config_origins as config"
   ]
  },
  {
   "cell_type": "markdown",
   "metadata": {},
   "source": [
    "# Define parameters"
   ]
  },
  {
   "cell_type": "code",
   "execution_count": 67,
   "metadata": {
    "scrolled": true
   },
   "outputs": [
    {
     "name": "stdout",
     "output_type": "stream",
     "text": [
      "change the configuration file if not done yet!\n",
      "ALLDATA_\n"
     ]
    }
   ],
   "source": [
    "print('change the configuration file if not done yet!')\n",
    "path_extracted_data = config.path_extracted_data\n",
    "path_initial_data = config.path_initial_data\n",
    "id_run = config.id_run\n",
    "dico_matching = config.dico_matching\n",
    "path_var_ver = os.path.join(path_extracted_data,'Variables_Verifications')\n",
    "#create a director if not existing\n",
    "if not os.path.exists(path_var_ver):\n",
    "    os.makedirs(path_var_ver)\n",
    "print(id_run)"
   ]
  },
  {
   "cell_type": "markdown",
   "metadata": {},
   "source": [
    "# Download data"
   ]
  },
  {
   "cell_type": "code",
   "execution_count": 68,
   "metadata": {},
   "outputs": [
    {
     "name": "stdout",
     "output_type": "stream",
     "text": [
      "(2681720, 18)\n"
     ]
    },
    {
     "data": {
      "text/html": [
       "<div>\n",
       "<style scoped>\n",
       "    .dataframe tbody tr th:only-of-type {\n",
       "        vertical-align: middle;\n",
       "    }\n",
       "\n",
       "    .dataframe tbody tr th {\n",
       "        vertical-align: top;\n",
       "    }\n",
       "\n",
       "    .dataframe thead th {\n",
       "        text-align: right;\n",
       "    }\n",
       "</style>\n",
       "<table border=\"1\" class=\"dataframe\">\n",
       "  <thead>\n",
       "    <tr style=\"text-align: right;\">\n",
       "      <th></th>\n",
       "      <th>HenID</th>\n",
       "      <th>PenID</th>\n",
       "      <th>system</th>\n",
       "      <th>Zone</th>\n",
       "      <th>model_prediction</th>\n",
       "      <th>Timestamp</th>\n",
       "      <th>date</th>\n",
       "      <th>next_record_date</th>\n",
       "      <th>duration</th>\n",
       "      <th>previous_record_date</th>\n",
       "      <th>previous_duration</th>\n",
       "      <th>next_zone</th>\n",
       "      <th>previous_zone</th>\n",
       "      <th>previous_previous_zone</th>\n",
       "      <th>correction_is_consecutive_equal_initial_zone</th>\n",
       "      <th>is_WG_open</th>\n",
       "      <th>duration_mn</th>\n",
       "      <th>is_day</th>\n",
       "    </tr>\n",
       "  </thead>\n",
       "  <tbody>\n",
       "    <tr>\n",
       "      <th>0</th>\n",
       "      <td>hen_1</td>\n",
       "      <td>pen9</td>\n",
       "      <td>8 - 9</td>\n",
       "      <td>2_Zone</td>\n",
       "      <td>1.0</td>\n",
       "      <td>2020-09-29 09:50:00</td>\n",
       "      <td>2020-09-29</td>\n",
       "      <td>2020-09-29 17:56:25</td>\n",
       "      <td>0 days 08:06:25</td>\n",
       "      <td>NaN</td>\n",
       "      <td>NaN</td>\n",
       "      <td>3_Zone</td>\n",
       "      <td>NaN</td>\n",
       "      <td>NaN</td>\n",
       "      <td>False</td>\n",
       "      <td>False</td>\n",
       "      <td>486.416667</td>\n",
       "      <td>True</td>\n",
       "    </tr>\n",
       "    <tr>\n",
       "      <th>1</th>\n",
       "      <td>hen_1</td>\n",
       "      <td>pen9</td>\n",
       "      <td>8 - 9</td>\n",
       "      <td>3_Zone</td>\n",
       "      <td>1.0</td>\n",
       "      <td>2020-09-29 17:56:25</td>\n",
       "      <td>2020-09-29</td>\n",
       "      <td>2020-09-30 09:55:59</td>\n",
       "      <td>0 days 02:52:35</td>\n",
       "      <td>2020-09-29 09:50:00</td>\n",
       "      <td>0 days 08:06:25</td>\n",
       "      <td>3_Zone</td>\n",
       "      <td>2_Zone</td>\n",
       "      <td>NaN</td>\n",
       "      <td>False</td>\n",
       "      <td>False</td>\n",
       "      <td>959.566667</td>\n",
       "      <td>False</td>\n",
       "    </tr>\n",
       "    <tr>\n",
       "      <th>2</th>\n",
       "      <td>hen_1</td>\n",
       "      <td>pen9</td>\n",
       "      <td>8 - 9</td>\n",
       "      <td>5_Zone</td>\n",
       "      <td>1.0</td>\n",
       "      <td>2020-09-30 09:55:59</td>\n",
       "      <td>2020-09-30</td>\n",
       "      <td>2020-09-30 11:34:30</td>\n",
       "      <td>0 days 01:32:11</td>\n",
       "      <td>2020-09-30 09:51:57</td>\n",
       "      <td>0 days 00:04:02</td>\n",
       "      <td>5_Zone</td>\n",
       "      <td>3_Zone</td>\n",
       "      <td>3_Zone</td>\n",
       "      <td>False</td>\n",
       "      <td>False</td>\n",
       "      <td>98.516667</td>\n",
       "      <td>True</td>\n",
       "    </tr>\n",
       "  </tbody>\n",
       "</table>\n",
       "</div>"
      ],
      "text/plain": [
       "   HenID PenID system    Zone  model_prediction           Timestamp  \\\n",
       "0  hen_1  pen9  8 - 9  2_Zone               1.0 2020-09-29 09:50:00   \n",
       "1  hen_1  pen9  8 - 9  3_Zone               1.0 2020-09-29 17:56:25   \n",
       "2  hen_1  pen9  8 - 9  5_Zone               1.0 2020-09-30 09:55:59   \n",
       "\n",
       "        date     next_record_date         duration previous_record_date  \\\n",
       "0 2020-09-29  2020-09-29 17:56:25  0 days 08:06:25                  NaN   \n",
       "1 2020-09-29  2020-09-30 09:55:59  0 days 02:52:35  2020-09-29 09:50:00   \n",
       "2 2020-09-30  2020-09-30 11:34:30  0 days 01:32:11  2020-09-30 09:51:57   \n",
       "\n",
       "  previous_duration next_zone previous_zone previous_previous_zone  \\\n",
       "0               NaN    3_Zone           NaN                    NaN   \n",
       "1   0 days 08:06:25    3_Zone        2_Zone                    NaN   \n",
       "2   0 days 00:04:02    5_Zone        3_Zone                 3_Zone   \n",
       "\n",
       "   correction_is_consecutive_equal_initial_zone  is_WG_open  duration_mn  \\\n",
       "0                                         False       False   486.416667   \n",
       "1                                         False       False   959.566667   \n",
       "2                                         False       False    98.516667   \n",
       "\n",
       "   is_day  \n",
       "0    True  \n",
       "1   False  \n",
       "2    True  "
      ]
     },
     "execution_count": 68,
     "metadata": {},
     "output_type": "execute_result"
    }
   ],
   "source": [
    "#cleaned mvt data\n",
    "df_init = pd.read_csv(os.path.join(path_extracted_data, id_run+'_CLEANEDDATA.csv'), sep=';', parse_dates=['Timestamp', 'date']) \n",
    "print(df_init.shape)\n",
    "df_init.head(3)"
   ]
  },
  {
   "cell_type": "code",
   "execution_count": 70,
   "metadata": {
    "scrolled": true
   },
   "outputs": [
    {
     "name": "stdout",
     "output_type": "stream",
     "text": [
      "(39180, 65)\n"
     ]
    },
    {
     "data": {
      "text/html": [
       "<div>\n",
       "<style scoped>\n",
       "    .dataframe tbody tr th:only-of-type {\n",
       "        vertical-align: middle;\n",
       "    }\n",
       "\n",
       "    .dataframe tbody tr th {\n",
       "        vertical-align: top;\n",
       "    }\n",
       "\n",
       "    .dataframe thead th {\n",
       "        text-align: right;\n",
       "    }\n",
       "</style>\n",
       "<table border=\"1\" class=\"dataframe\">\n",
       "  <thead>\n",
       "    <tr style=\"text-align: right;\">\n",
       "      <th></th>\n",
       "      <th>HenID</th>\n",
       "      <th>level</th>\n",
       "      <th>verification_daily_total_duration</th>\n",
       "      <th>verification_daily_total_nbr_hour</th>\n",
       "      <th>dur_values</th>\n",
       "      <th>perc_duration_3_Zone</th>\n",
       "      <th>perc_duration_4_Zone</th>\n",
       "      <th>perc_duration_5_Zone</th>\n",
       "      <th>perc_duration_2_Zone</th>\n",
       "      <th>perc_duration_1_Zone</th>\n",
       "      <th>...</th>\n",
       "      <th>TrackingSystemID</th>\n",
       "      <th>Is_Sleeping_UP</th>\n",
       "      <th>SleepingHeight</th>\n",
       "      <th>uncommon_behavior</th>\n",
       "      <th>duration_1_Zone_min</th>\n",
       "      <th>duration_2_Zone_min</th>\n",
       "      <th>duration_3_Zone_min</th>\n",
       "      <th>duration_4_Zone_min</th>\n",
       "      <th>duration_5_Zone_min</th>\n",
       "      <th>time_midduratioZ4_h</th>\n",
       "    </tr>\n",
       "  </thead>\n",
       "  <tbody>\n",
       "    <tr>\n",
       "      <th>0</th>\n",
       "      <td>hen_130</td>\n",
       "      <td>2020-10-05</td>\n",
       "      <td>32400.0</td>\n",
       "      <td>9.0</td>\n",
       "      <td>[0.0, 0.0, 0.0, 0.0, 32400.0]</td>\n",
       "      <td>0.0</td>\n",
       "      <td>0.0</td>\n",
       "      <td>100.0</td>\n",
       "      <td>0.0</td>\n",
       "      <td>NaN</td>\n",
       "      <td>...</td>\n",
       "      <td>TrackingSystem 10-12</td>\n",
       "      <td>True</td>\n",
       "      <td>3</td>\n",
       "      <td>True</td>\n",
       "      <td>NaN</td>\n",
       "      <td>0.000000</td>\n",
       "      <td>0.00</td>\n",
       "      <td>0.000000</td>\n",
       "      <td>540.000000</td>\n",
       "      <td>NaN</td>\n",
       "    </tr>\n",
       "    <tr>\n",
       "      <th>1</th>\n",
       "      <td>hen_130</td>\n",
       "      <td>2020-10-06</td>\n",
       "      <td>32400.0</td>\n",
       "      <td>9.0</td>\n",
       "      <td>[0.0, 0.0, 780.0, 325.0, 31295.0]</td>\n",
       "      <td>2.0</td>\n",
       "      <td>1.0</td>\n",
       "      <td>97.0</td>\n",
       "      <td>0.0</td>\n",
       "      <td>NaN</td>\n",
       "      <td>...</td>\n",
       "      <td>TrackingSystem 10-12</td>\n",
       "      <td>False</td>\n",
       "      <td>1</td>\n",
       "      <td>True</td>\n",
       "      <td>NaN</td>\n",
       "      <td>0.000000</td>\n",
       "      <td>13.00</td>\n",
       "      <td>5.416667</td>\n",
       "      <td>521.583333</td>\n",
       "      <td>NaN</td>\n",
       "    </tr>\n",
       "    <tr>\n",
       "      <th>2</th>\n",
       "      <td>hen_130</td>\n",
       "      <td>2020-10-07</td>\n",
       "      <td>32400.0</td>\n",
       "      <td>9.0</td>\n",
       "      <td>[0.0, 206.0, 249.0, 130.0, 31815.0]</td>\n",
       "      <td>1.0</td>\n",
       "      <td>0.0</td>\n",
       "      <td>98.0</td>\n",
       "      <td>1.0</td>\n",
       "      <td>NaN</td>\n",
       "      <td>...</td>\n",
       "      <td>TrackingSystem 10-12</td>\n",
       "      <td>True</td>\n",
       "      <td>3</td>\n",
       "      <td>True</td>\n",
       "      <td>NaN</td>\n",
       "      <td>3.433333</td>\n",
       "      <td>4.15</td>\n",
       "      <td>2.166667</td>\n",
       "      <td>530.250000</td>\n",
       "      <td>NaN</td>\n",
       "    </tr>\n",
       "  </tbody>\n",
       "</table>\n",
       "<p>3 rows × 65 columns</p>\n",
       "</div>"
      ],
      "text/plain": [
       "     HenID      level  verification_daily_total_duration  \\\n",
       "0  hen_130 2020-10-05                            32400.0   \n",
       "1  hen_130 2020-10-06                            32400.0   \n",
       "2  hen_130 2020-10-07                            32400.0   \n",
       "\n",
       "   verification_daily_total_nbr_hour                           dur_values  \\\n",
       "0                                9.0        [0.0, 0.0, 0.0, 0.0, 32400.0]   \n",
       "1                                9.0    [0.0, 0.0, 780.0, 325.0, 31295.0]   \n",
       "2                                9.0  [0.0, 206.0, 249.0, 130.0, 31815.0]   \n",
       "\n",
       "   perc_duration_3_Zone  perc_duration_4_Zone  perc_duration_5_Zone  \\\n",
       "0                   0.0                   0.0                 100.0   \n",
       "1                   2.0                   1.0                  97.0   \n",
       "2                   1.0                   0.0                  98.0   \n",
       "\n",
       "   perc_duration_2_Zone  perc_duration_1_Zone  ...      TrackingSystemID  \\\n",
       "0                   0.0                   NaN  ...  TrackingSystem 10-12   \n",
       "1                   0.0                   NaN  ...  TrackingSystem 10-12   \n",
       "2                   1.0                   NaN  ...  TrackingSystem 10-12   \n",
       "\n",
       "   Is_Sleeping_UP  SleepingHeight uncommon_behavior duration_1_Zone_min  \\\n",
       "0            True               3              True                 NaN   \n",
       "1           False               1              True                 NaN   \n",
       "2            True               3              True                 NaN   \n",
       "\n",
       "  duration_2_Zone_min duration_3_Zone_min duration_4_Zone_min  \\\n",
       "0            0.000000                0.00            0.000000   \n",
       "1            0.000000               13.00            5.416667   \n",
       "2            3.433333                4.15            2.166667   \n",
       "\n",
       "   duration_5_Zone_min  time_midduratioZ4_h  \n",
       "0           540.000000                  NaN  \n",
       "1           521.583333                  NaN  \n",
       "2           530.250000                  NaN  \n",
       "\n",
       "[3 rows x 65 columns]"
      ]
     },
     "execution_count": 70,
     "metadata": {},
     "output_type": "execute_result"
    }
   ],
   "source": [
    "#daily var\n",
    "df_daily = pd.read_csv(os.path.join(path_extracted_data, id_run+'_daily_ALL_variables_verified.csv'), sep=';',\n",
    "                 parse_dates=['level'],\n",
    "                 dayfirst=True) \n",
    "print(df_daily.shape)\n",
    "df_daily.head(3)"
   ]
  },
  {
   "cell_type": "markdown",
   "metadata": {},
   "source": [
    "# Individual Mvt over several days"
   ]
  },
  {
   "cell_type": "code",
   "execution_count": null,
   "metadata": {
    "scrolled": true
   },
   "outputs": [],
   "source": [
    "'''visualise mvt of single animals over several days'''\n",
    "START_TIME = time.perf_counter()\n",
    "#choose specific dates to plot, November is better as hens starts to move more and the algo have never seen it\n",
    "dmin = dt.datetime(2021,5,10)\n",
    "dmax = dt.datetime(2021,5,15)\n",
    "df_ = df_init[(df_init['date']<=dmax)&(df_init['date']>=dmin)].copy()\n",
    "print(df_.shape)\n",
    "#only print the hens with at least one transition per day (simplicity and interestignly)\n",
    "#to sort the yaxis\n",
    "dico_zone_order = {'1_Zone':0, '2_Zone':1, '3_Zone':2, '4_Zone':3, '5_Zone':4}\n",
    "li_date = df_['date'].unique()\n",
    "for henID, df_plt in tqdm.tqdm(df_.groupby(['HenID'])):\n",
    "    df_plt = df_plt.sort_values(['Timestamp']).copy()\n",
    "    c = 1 ; l = len(li_date)\n",
    "    fig, ax = plt.subplots(figsize=(c*5, l*1))\n",
    "    i = 1\n",
    "    if len(df_plt['date'].unique())==len(li_date):\n",
    "        mi = min(df_plt['Timestamp'].tolist()) ; ma = max(df_plt['Timestamp'].tolist())\n",
    "        Daterange = pd.date_range(start = mi+dt.timedelta(seconds=(60-mi.second)), \n",
    "                                  end = ma-dt.timedelta(seconds=(ma.second+1)), \n",
    "                                  freq = 'S') \n",
    "        df_plt_ = df_plt.copy()\n",
    "        df_plt_.set_index('Timestamp', inplace=True)\n",
    "        df_plt_ = df_plt_.reindex(Daterange, method='ffill').reset_index()\n",
    "        df_plt_.rename(columns={'index':'Timestamp'}, inplace=True)\n",
    "        #add date again, as the reindexing also extended the date\n",
    "        df_plt_['date'] = df_plt_['Timestamp'].map(lambda x: dt.datetime.date(x))\n",
    "        #remove first & last date\n",
    "        df_plt_ = df_plt_[~df_plt_['date'].isin([max(df_plt_['date'].tolist()),min(df_plt_['date'].tolist())])]\n",
    "        #put xlabel into numbers for the ploting\n",
    "        df_plt_['Zone'] = df_plt_['Zone'].map(lambda x: int(dico_zone_order[x]))       \n",
    "        for d, df_plt__ in df_plt_.groupby(['date']):\n",
    "            df_plt___ = df_plt__.copy()\n",
    "            plt.subplot(l,c,i)\n",
    "            plt.tight_layout(pad=0.3) #add spacing between each plot\n",
    "            plt.yticks([0,1,2,3,4], ['Winter garden', 'Litter', 'Lower perch','Nestbox','Top floor'])\n",
    "            plt.title(str(d).split('T')[0], size=8)\n",
    "            i = i+1\n",
    "            plt.plot(df_plt___['Timestamp'].tolist(), df_plt___['Zone'].tolist(), linewidth=1)\n",
    "            li_hour = pd.date_range(start = d,  end = d+dt.timedelta(days=1), freq = 'H')\n",
    "            plt.xticks(li_hour , [str(i.hour)+'h' for i in li_hour], fontsize=5)                \n",
    "            plt.yticks(fontsize=8)\n",
    "            plt.ylim(0, 4.2)  \n",
    "        plt.savefig(os.path.join(path_var_ver,\n",
    "                                 henID+'_'+str(dmin).split(' ')[0]+'_'+str(dmax).split(' ')[0]+'.png'), \n",
    "                    format='png', bbox_inches='tight', dpi=300)\n",
    "    plt.clf()\n",
    "    plt.close(\"all\")    \n",
    "END_TIME = time.perf_counter()\n",
    "print (\"Total running time: %.2f mn\" %((END_TIME-START_TIME)/60))"
   ]
  },
  {
   "cell_type": "code",
   "execution_count": null,
   "metadata": {},
   "outputs": [],
   "source": [
    "path_var_ver"
   ]
  },
  {
   "cell_type": "markdown",
   "metadata": {},
   "source": [
    "# Overall check visual"
   ]
  },
  {
   "cell_type": "raw",
   "metadata": {},
   "source": [
    "print(list(df_daily.columns))"
   ]
  },
  {
   "cell_type": "code",
   "execution_count": 71,
   "metadata": {},
   "outputs": [
    {
     "data": {
      "text/html": [
       "<div>\n",
       "<style scoped>\n",
       "    .dataframe tbody tr th:only-of-type {\n",
       "        vertical-align: middle;\n",
       "    }\n",
       "\n",
       "    .dataframe tbody tr th {\n",
       "        vertical-align: top;\n",
       "    }\n",
       "\n",
       "    .dataframe thead th {\n",
       "        text-align: right;\n",
       "    }\n",
       "</style>\n",
       "<table border=\"1\" class=\"dataframe\">\n",
       "  <thead>\n",
       "    <tr style=\"text-align: right;\">\n",
       "      <th></th>\n",
       "      <th>latency_1_Zone_h</th>\n",
       "      <th>nbr_stays_1_Zone</th>\n",
       "      <th>nbr_h_WGopen</th>\n",
       "      <th>level</th>\n",
       "    </tr>\n",
       "  </thead>\n",
       "  <tbody>\n",
       "    <tr>\n",
       "      <th>39007</th>\n",
       "      <td>6.500000</td>\n",
       "      <td>0.0</td>\n",
       "      <td>6.500000</td>\n",
       "      <td>2020-12-27</td>\n",
       "    </tr>\n",
       "    <tr>\n",
       "      <th>39065</th>\n",
       "      <td>6.833333</td>\n",
       "      <td>0.0</td>\n",
       "      <td>6.833333</td>\n",
       "      <td>2021-03-06</td>\n",
       "    </tr>\n",
       "    <tr>\n",
       "      <th>39085</th>\n",
       "      <td>3.000000</td>\n",
       "      <td>0.0</td>\n",
       "      <td>3.000000</td>\n",
       "      <td>2021-03-26</td>\n",
       "    </tr>\n",
       "  </tbody>\n",
       "</table>\n",
       "</div>"
      ],
      "text/plain": [
       "       latency_1_Zone_h  nbr_stays_1_Zone  nbr_h_WGopen      level\n",
       "39007          6.500000               0.0      6.500000 2020-12-27\n",
       "39065          6.833333               0.0      6.833333 2021-03-06\n",
       "39085          3.000000               0.0      3.000000 2021-03-26"
      ]
     },
     "execution_count": 71,
     "metadata": {},
     "output_type": "execute_result"
    }
   ],
   "source": [
    "df_daily[df_daily['nbr_stays_1_Zone']==0][['latency_1_Zone_h','nbr_stays_1_Zone','nbr_h_WGopen','level']].tail(3)"
   ]
  },
  {
   "cell_type": "code",
   "execution_count": 72,
   "metadata": {},
   "outputs": [],
   "source": [
    "li_mvt_2verify = [['duration_5_Zone_min', 'SleepingHeight','nbr_h_WGopen','dur_values','nbr_stays_4_Zone'],\n",
    "                  ['time_midduratioZ4_h','vertical_travel_distance','food_related_behavior','Is_Sleeping_UP',\n",
    "                   'distribution_entropy','latency_1_Zone_h','uncommon_behavior']]"
   ]
  },
  {
   "cell_type": "code",
   "execution_count": 73,
   "metadata": {
    "scrolled": false
   },
   "outputs": [
    {
     "data": {
      "image/png": "[encoded data removed]",
      "text/plain": [
       "<Figure size 432x288 with 1 Axes>"
      ]
     },
     "metadata": {
      "needs_background": "light"
     },
     "output_type": "display_data"
    },
    {
     "data": {
      "image/png": "[encoded data removed]",
      "text/plain": [
       "<Figure size 432x288 with 1 Axes>"
      ]
     },
     "metadata": {
      "needs_background": "light"
     },
     "output_type": "display_data"
    },
    {
     "data": {
      "image/png": "[encoded data removed]",
      "text/plain": [
       "<Figure size 432x288 with 1 Axes>"
      ]
     },
     "metadata": {
      "needs_background": "light"
     },
     "output_type": "display_data"
    },
    {
     "data": {
      "image/png": "[encoded data removed]",
      "text/plain": [
       "<Figure size 432x288 with 1 Axes>"
      ]
     },
     "metadata": {
      "needs_background": "light"
     },
     "output_type": "display_data"
    },
    {
     "data": {
      "image/png": "[encoded data removed]",
      "text/plain": [
       "<Figure size 432x288 with 1 Axes>"
      ]
     },
     "metadata": {
      "needs_background": "light"
     },
     "output_type": "display_data"
    },
    {
     "data": {
      "image/png": "[encoded data removed]",
      "text/plain": [
       "<Figure size 432x288 with 1 Axes>"
      ]
     },
     "metadata": {
      "needs_background": "light"
     },
     "output_type": "display_data"
    },
    {
     "data": {
      "image/png": "[encoded data removed]",
      "text/plain": [
       "<Figure size 432x288 with 1 Axes>"
      ]
     },
     "metadata": {
      "needs_background": "light"
     },
     "output_type": "display_data"
    },
    {
     "data": {
      "image/png": "[encoded data removed]",
      "text/plain": [
       "<Figure size 432x288 with 1 Axes>"
      ]
     },
     "metadata": {
      "needs_background": "light"
     },
     "output_type": "display_data"
    }
   ],
   "source": [
    "li_M = ['vertical_travel_distance','food_related_behavior','distribution_entropy','latency_1_Zone_h']\n",
    "df_plt = df_daily.groupby(['HenID','WOA'])[li_M].agg(lambda x: sum(x)).reset_index()\n",
    "for x in li_M:\n",
    "    plt.hist(df_plt[x])\n",
    "    plt.title(x+' WEEKLY')\n",
    "    plt.show()\n",
    "    \n",
    "    plt.hist(df_daily[x])\n",
    "    plt.title(x+' DAILY')\n",
    "    plt.show()"
   ]
  },
  {
   "cell_type": "code",
   "execution_count": null,
   "metadata": {
    "scrolled": false
   },
   "outputs": [
    {
     "name": "stdout",
     "output_type": "stream",
     "text": [
      "(23440, 18)\n"
     ]
    },
    {
     "name": "stderr",
     "output_type": "stream",
     "text": [
      "\r",
      "  0%|                                                                                          | 0/159 [00:00<?, ?it/s]"
     ]
    },
    {
     "name": "stdout",
     "output_type": "stream",
     "text": [
      "------------------------------------------------------------------------- hen_10\n"
     ]
    },
    {
     "data": {
      "text/html": [
       "<div>\n",
       "<style scoped>\n",
       "    .dataframe tbody tr th:only-of-type {\n",
       "        vertical-align: middle;\n",
       "    }\n",
       "\n",
       "    .dataframe tbody tr th {\n",
       "        vertical-align: top;\n",
       "    }\n",
       "\n",
       "    .dataframe thead th {\n",
       "        text-align: right;\n",
       "    }\n",
       "</style>\n",
       "<table border=\"1\" class=\"dataframe\">\n",
       "  <thead>\n",
       "    <tr style=\"text-align: right;\">\n",
       "      <th></th>\n",
       "      <th>duration_5_Zone_min</th>\n",
       "      <th>SleepingHeight</th>\n",
       "      <th>nbr_h_WGopen</th>\n",
       "      <th>dur_values</th>\n",
       "      <th>nbr_stays_4_Zone</th>\n",
       "    </tr>\n",
       "  </thead>\n",
       "  <tbody>\n",
       "    <tr>\n",
       "      <th>5199</th>\n",
       "      <td>6.566667</td>\n",
       "      <td>1</td>\n",
       "      <td>6.5</td>\n",
       "      <td>[117.0, 35367.0, 14777.0, 3345.0, 394.0]</td>\n",
       "      <td>3.0</td>\n",
       "    </tr>\n",
       "  </tbody>\n",
       "</table>\n",
       "</div>"
      ],
      "text/plain": [
       "      duration_5_Zone_min  SleepingHeight  nbr_h_WGopen  \\\n",
       "5199             6.566667               1           6.5   \n",
       "\n",
       "                                    dur_values  nbr_stays_4_Zone  \n",
       "5199  [117.0, 35367.0, 14777.0, 3345.0, 394.0]               3.0  "
      ]
     },
     "metadata": {},
     "output_type": "display_data"
    },
    {
     "data": {
      "text/html": [
       "<div>\n",
       "<style scoped>\n",
       "    .dataframe tbody tr th:only-of-type {\n",
       "        vertical-align: middle;\n",
       "    }\n",
       "\n",
       "    .dataframe tbody tr th {\n",
       "        vertical-align: top;\n",
       "    }\n",
       "\n",
       "    .dataframe thead th {\n",
       "        text-align: right;\n",
       "    }\n",
       "</style>\n",
       "<table border=\"1\" class=\"dataframe\">\n",
       "  <thead>\n",
       "    <tr style=\"text-align: right;\">\n",
       "      <th></th>\n",
       "      <th>time_midduratioZ4_h</th>\n",
       "      <th>vertical_travel_distance</th>\n",
       "      <th>food_related_behavior</th>\n",
       "      <th>Is_Sleeping_UP</th>\n",
       "      <th>distribution_entropy</th>\n",
       "      <th>latency_1_Zone_h</th>\n",
       "      <th>uncommon_behavior</th>\n",
       "    </tr>\n",
       "  </thead>\n",
       "  <tbody>\n",
       "    <tr>\n",
       "      <th>5199</th>\n",
       "      <td>3.794444</td>\n",
       "      <td>74.0</td>\n",
       "      <td>0.093382</td>\n",
       "      <td>False</td>\n",
       "      <td>1.231039</td>\n",
       "      <td>2.066111</td>\n",
       "      <td>True</td>\n",
       "    </tr>\n",
       "  </tbody>\n",
       "</table>\n",
       "</div>"
      ],
      "text/plain": [
       "      time_midduratioZ4_h  vertical_travel_distance  food_related_behavior  \\\n",
       "5199             3.794444                      74.0               0.093382   \n",
       "\n",
       "      Is_Sleeping_UP  distribution_entropy  latency_1_Zone_h  \\\n",
       "5199           False              1.231039          2.066111   \n",
       "\n",
       "      uncommon_behavior  \n",
       "5199               True  "
      ]
     },
     "metadata": {},
     "output_type": "display_data"
    },
    {
     "data": {
      "image/png": "[encoded data removed]",
      "text/plain": [
       "<Figure size 1152x288 with 1 Axes>"
      ]
     },
     "metadata": {
      "needs_background": "light"
     },
     "output_type": "display_data"
    },
    {
     "name": "stderr",
     "output_type": "stream",
     "text": [
      "\r",
      "  1%|▌                                                                                 | 1/159 [00:01<03:44,  1.42s/it]"
     ]
    },
    {
     "name": "stdout",
     "output_type": "stream",
     "text": [
      "------------------------------------------------------------------------- hen_101\n"
     ]
    },
    {
     "data": {
      "text/html": [
       "<div>\n",
       "<style scoped>\n",
       "    .dataframe tbody tr th:only-of-type {\n",
       "        vertical-align: middle;\n",
       "    }\n",
       "\n",
       "    .dataframe tbody tr th {\n",
       "        vertical-align: top;\n",
       "    }\n",
       "\n",
       "    .dataframe thead th {\n",
       "        text-align: right;\n",
       "    }\n",
       "</style>\n",
       "<table border=\"1\" class=\"dataframe\">\n",
       "  <thead>\n",
       "    <tr style=\"text-align: right;\">\n",
       "      <th></th>\n",
       "      <th>duration_5_Zone_min</th>\n",
       "      <th>SleepingHeight</th>\n",
       "      <th>nbr_h_WGopen</th>\n",
       "      <th>dur_values</th>\n",
       "      <th>nbr_stays_4_Zone</th>\n",
       "    </tr>\n",
       "  </thead>\n",
       "  <tbody>\n",
       "    <tr>\n",
       "      <th>24683</th>\n",
       "      <td>226.35</td>\n",
       "      <td>0</td>\n",
       "      <td>6.5</td>\n",
       "      <td>[1056.0, 23266.0, 14070.0, 2027.0, 13581.0]</td>\n",
       "      <td>2.0</td>\n",
       "    </tr>\n",
       "  </tbody>\n",
       "</table>\n",
       "</div>"
      ],
      "text/plain": [
       "       duration_5_Zone_min  SleepingHeight  nbr_h_WGopen  \\\n",
       "24683               226.35               0           6.5   \n",
       "\n",
       "                                        dur_values  nbr_stays_4_Zone  \n",
       "24683  [1056.0, 23266.0, 14070.0, 2027.0, 13581.0]               2.0  "
      ]
     },
     "metadata": {},
     "output_type": "display_data"
    },
    {
     "data": {
      "text/html": [
       "<div>\n",
       "<style scoped>\n",
       "    .dataframe tbody tr th:only-of-type {\n",
       "        vertical-align: middle;\n",
       "    }\n",
       "\n",
       "    .dataframe tbody tr th {\n",
       "        vertical-align: top;\n",
       "    }\n",
       "\n",
       "    .dataframe thead th {\n",
       "        text-align: right;\n",
       "    }\n",
       "</style>\n",
       "<table border=\"1\" class=\"dataframe\">\n",
       "  <thead>\n",
       "    <tr style=\"text-align: right;\">\n",
       "      <th></th>\n",
       "      <th>time_midduratioZ4_h</th>\n",
       "      <th>vertical_travel_distance</th>\n",
       "      <th>food_related_behavior</th>\n",
       "      <th>Is_Sleeping_UP</th>\n",
       "      <th>distribution_entropy</th>\n",
       "      <th>latency_1_Zone_h</th>\n",
       "      <th>uncommon_behavior</th>\n",
       "    </tr>\n",
       "  </thead>\n",
       "  <tbody>\n",
       "    <tr>\n",
       "      <th>24683</th>\n",
       "      <td>3.884722</td>\n",
       "      <td>88.0</td>\n",
       "      <td>0.147272</td>\n",
       "      <td>False</td>\n",
       "      <td>1.818527</td>\n",
       "      <td>2.196667</td>\n",
       "      <td>True</td>\n",
       "    </tr>\n",
       "  </tbody>\n",
       "</table>\n",
       "</div>"
      ],
      "text/plain": [
       "       time_midduratioZ4_h  vertical_travel_distance  food_related_behavior  \\\n",
       "24683             3.884722                      88.0               0.147272   \n",
       "\n",
       "       Is_Sleeping_UP  distribution_entropy  latency_1_Zone_h  \\\n",
       "24683           False              1.818527          2.196667   \n",
       "\n",
       "       uncommon_behavior  \n",
       "24683               True  "
      ]
     },
     "metadata": {},
     "output_type": "display_data"
    }
   ],
   "source": [
    "START_TIME = time.perf_counter()\n",
    "#choose specific dates to plot, November is better as hens starts to move more and the algo have never seen it\n",
    "d = dt.datetime(2021,3,10)\n",
    "#keep previous day info to knw where the animal was previously\n",
    "df_ = df_init[(df_init['date']==d)|(df_init['date']==d-dt.timedelta(hours=24))].copy()\n",
    "print(df_.shape)\n",
    "#only print the hens with at least one transition per day (simplicity and interestignly)\n",
    "#to sort the yaxis\n",
    "dico_zone_order = {'1_Zone':0, '2_Zone':1, '3_Zone':2, '4_Zone':3, '5_Zone':4}\n",
    "dur_FR_beforeandafter_mn = config.dur_FR_beforeandafter_mn\n",
    "dur_around_FR_2remove= config.dur_around_FR_2remove\n",
    "for henID, df_plt in tqdm.tqdm(df_.groupby(['HenID'])):\n",
    "    df_info = df_daily[(df_daily['HenID']==henID)&(df_daily['level']==d)]\n",
    "    if df_info.shape[0]==1:\n",
    "        try:\n",
    "            print('------------------------------------------------------------------------- '+henID)\n",
    "            for li_m in li_mvt_2verify:\n",
    "                display(df_info[li_m])\n",
    "            df_plt = df_plt.sort_values(['Timestamp']).copy()\n",
    "            Daterange = pd.date_range(start=d-dt.timedelta(hours=10), end=d+dt.timedelta(hours=24),freq = 'S') \n",
    "            df_plt.set_index('Timestamp', inplace=True)\n",
    "            df_plt_ = df_plt.reindex(Daterange, method='ffill').reset_index()\n",
    "            df_plt_.rename(columns={'index':'Timestamp'}, inplace=True)\n",
    "            #add date again, as the reindexing also extended the date\n",
    "            df_plt_['date'] = df_plt_['Timestamp'].map(lambda x: dt.datetime.date(x))\n",
    "            #put xlabel into numbers for the ploting\n",
    "            df_plt_['Zone'] = df_plt_['Zone'].map(lambda x: int(dico_zone_order[x]))    \n",
    "            #keep only the date\n",
    "            df_plt_ = df_plt_[df_plt_['date']==dt.datetime.date(d)]\n",
    "            #plot\n",
    "            plt.figure(figsize=(16,4))\n",
    "            #plt.plot(li_FR, color='red', alpha=0.2);\n",
    "            plt.yticks([0,1,2,3,4], ['Winter garden', 'Litter', 'Lower perch','Nestbox','Top floor'])\n",
    "            plt.title(str(d).split('T')[0], size=8)\n",
    "            plt.plot(df_plt_['Timestamp'].tolist(), df_plt_['Zone'].tolist(), linewidth=1)\n",
    "            li_hour = pd.date_range(start = d,  end = d+dt.timedelta(days=1), freq = 'H')\n",
    "            plt.xticks(li_hour, [str(i.hour)+'h' for i in li_hour], fontsize=5)                \n",
    "            plt.yticks(fontsize=8)            \n",
    "            for h,mn in config.tupleFR_h_mn:\n",
    "                plt.axvline(x=dt.datetime(d.year,d.month,d.day,h,mn,0), linewidth=2, color='green', alpha=0.4)\n",
    "                plt.axvline(x=dt.datetime(d.year,d.month,d.day,h,mn,0)-dt.timedelta(minutes=dur_FR_beforeandafter_mn),\n",
    "                            linewidth=2, color='green', alpha=0.25)\n",
    "                plt.axvline(x=dt.datetime(d.year,d.month,d.day,h,mn,0)+dt.timedelta(minutes=dur_FR_beforeandafter_mn),\n",
    "                            linewidth=2, color='green', alpha=0.25)    \n",
    "                plt.axvline(x=dt.datetime(d.year,d.month,d.day,h,mn,0)-dt.timedelta(minutes=dur_FR_beforeandafter_mn+dur_around_FR_2remove),\n",
    "                            linewidth=2, color='grey', alpha=0.25)\n",
    "                plt.axvline(x=dt.datetime(d.year,d.month,d.day,h,mn,0)+dt.timedelta(minutes=dur_FR_beforeandafter_mn+dur_around_FR_2remove),\n",
    "                            linewidth=2, color='grey', alpha=0.25)                    \n",
    "               \n",
    "            plt.ylim(0, 4.2)  \n",
    "            plt.show()\n",
    "            plt.clf()\n",
    "            plt.close(\"all\")    \n",
    "        except Exception as e:\n",
    "            print(e)\n",
    "            pass\n",
    "END_TIME = time.perf_counter()\n",
    "print (\"Total running time: %.2f mn\" %((END_TIME-START_TIME)/60))"
   ]
  },
  {
   "cell_type": "code",
   "execution_count": null,
   "metadata": {},
   "outputs": [],
   "source": [
    "#df_daily[(df_daily['HenID']=='hen_52')&(df_daily['Total_number_transition']==0)]"
   ]
  },
  {
   "cell_type": "code",
   "execution_count": null,
   "metadata": {},
   "outputs": [],
   "source": []
  },
  {
   "cell_type": "code",
   "execution_count": null,
   "metadata": {},
   "outputs": [],
   "source": []
  },
  {
   "cell_type": "code",
   "execution_count": null,
   "metadata": {},
   "outputs": [],
   "source": []
  },
  {
   "cell_type": "code",
   "execution_count": null,
   "metadata": {},
   "outputs": [],
   "source": []
  },
  {
   "cell_type": "code",
   "execution_count": null,
   "metadata": {},
   "outputs": [],
   "source": []
  },
  {
   "cell_type": "code",
   "execution_count": null,
   "metadata": {},
   "outputs": [],
   "source": []
  },
  {
   "cell_type": "code",
   "execution_count": null,
   "metadata": {},
   "outputs": [],
   "source": []
  },
  {
   "cell_type": "code",
   "execution_count": null,
   "metadata": {},
   "outputs": [],
   "source": []
  },
  {
   "cell_type": "code",
   "execution_count": null,
   "metadata": {},
   "outputs": [],
   "source": []
  }
 ],
 "metadata": {
  "kernelspec": {
   "display_name": "Python 3 (ipykernel)",
   "language": "python",
   "name": "python3"
  },
  "language_info": {
   "codemirror_mode": {
    "name": "ipython",
    "version": 3
   },
   "file_extension": ".py",
   "mimetype": "text/x-python",
   "name": "python",
   "nbconvert_exporter": "python",
   "pygments_lexer": "ipython3",
   "version": "3.8.12"
  }
 },
 "nbformat": 4,
 "nbformat_minor": 2
}
