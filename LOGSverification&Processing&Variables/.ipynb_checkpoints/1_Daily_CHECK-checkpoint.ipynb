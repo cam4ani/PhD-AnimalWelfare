{
 "cells": [
  {
   "cell_type": "code",
   "execution_count": 1,
   "metadata": {},
   "outputs": [],
   "source": [
    "#packages\n",
    "import json\n",
    "import tqdm\n",
    "import os\n",
    "import numpy as np\n",
    "import sys\n",
    "import glob\n",
    "import pandas as pd\n",
    "import datetime as dt\n",
    "import re\n",
    "import math\n",
    "from collections import defaultdict\n",
    "import operator\n",
    "\n",
    "#plot\n",
    "import matplotlib.pyplot as plt\n",
    "import seaborn as sns"
   ]
  },
  {
   "cell_type": "code",
   "execution_count": 2,
   "metadata": {},
   "outputs": [
    {
     "name": "stderr",
     "output_type": "stream",
     "text": [
      "C:\\Users\\camil\\anaconda3\\lib\\site-packages\\scipy\\sparse\\sparsetools.py:21: DeprecationWarning: `scipy.sparse.sparsetools` is deprecated!\n",
      "scipy.sparse.sparsetools is a private module for scipy.sparse, and should not be used.\n",
      "  _deprecated()\n"
     ]
    },
    {
     "name": "stdout",
     "output_type": "stream",
     "text": [
      "2\n"
     ]
    }
   ],
   "source": [
    "PACKAGE_PARENT = '../'\n",
    "SCRIPT_DIR = os.path.dirname(os.path.realpath(os.path.join(os.getcwd(), os.path.expanduser('__file__'))))\n",
    "sys.path.append(os.path.normpath(os.path.join(SCRIPT_DIR, PACKAGE_PARENT)))\n",
    "from UTILS import preprocessing_Origins, general_cleaning,\\\n",
    "ZoneVariable, HenDailyVariable_Origins, boxplot_distribution_entropy, heatmap_duration_perzone_perhen, is_day\n",
    "import config_origins as config"
   ]
  },
  {
   "cell_type": "code",
   "execution_count": 3,
   "metadata": {},
   "outputs": [
    {
     "name": "stderr",
     "output_type": "stream",
     "text": [
      "C:\\Users\\camil\\anaconda3\\lib\\site-packages\\ipykernel\\ipkernel.py:283: DeprecationWarning: `should_run_async` will not call `transform_cell` automatically in the future. Please pass the result to `transformed_cell` argument and any exception that happen during thetransform in `preprocessing_exc_tuple` in IPython 7.17 and above.\n",
      "  and should_run_async(code)\n"
     ]
    }
   ],
   "source": [
    "#initialise parameter\n",
    "path_initial_data = config.path_initial_data\n",
    "path_extracted_data_daily_check = config.path_extracted_data_daily_check\n",
    "id_run = config.id_run\n",
    "dico_rc_sys = config.dico_rc_sys\n",
    "path_FocalBird = config.path_FocalBird\n",
    "\n",
    "focal_name = config.focal_name\n",
    "path_Days = config.path_Days"
   ]
  },
  {
   "cell_type": "code",
   "execution_count": 4,
   "metadata": {},
   "outputs": [
    {
     "name": "stderr",
     "output_type": "stream",
     "text": [
      "C:\\Users\\camil\\anaconda3\\lib\\site-packages\\ipykernel\\ipkernel.py:283: DeprecationWarning: `should_run_async` will not call `transform_cell` automatically in the future. Please pass the result to `transformed_cell` argument and any exception that happen during thetransform in `preprocessing_exc_tuple` in IPython 7.17 and above.\n",
      "  and should_run_async(code)\n"
     ]
    }
   ],
   "source": [
    "#voltage thresholds\n",
    "#Threshold for minimarker and wintergarden battery change\n",
    "thresh_dev = 3100\n",
    "#Threshold for tag battery change\n",
    "thresh_tag = 2930"
   ]
  },
  {
   "cell_type": "raw",
   "metadata": {},
   "source": [
    "Why have I done a new notebook for daily check: notebook from previous study issues, among these:\n",
    "1. need to download 6 files, rename them and put in the folder before using the cript. WIth this one download one file, no need of rename and then use the script directly\n",
    "2. not general enought to be used with three systems, so one should copy paste a lot of the script which makes it very long and ugly\n",
    "3. not correct regarding tagID in different hen and henID with multiple Tagid\n",
    "4. not correct regarding nan and 0 voltage\n",
    "..."
   ]
  },
  {
   "cell_type": "markdown",
   "metadata": {},
   "source": [
    "# Download data"
   ]
  },
  {
   "cell_type": "code",
   "execution_count": 5,
   "metadata": {},
   "outputs": [
    {
     "name": "stderr",
     "output_type": "stream",
     "text": [
      "C:\\Users\\camil\\anaconda3\\lib\\site-packages\\ipykernel\\ipkernel.py:283: DeprecationWarning: `should_run_async` will not call `transform_cell` automatically in the future. Please pass the result to `transformed_cell` argument and any exception that happen during thetransform in `preprocessing_exc_tuple` in IPython 7.17 and above.\n",
      "  and should_run_async(code)\n"
     ]
    }
   ],
   "source": [
    "#for the logs and device updates\n",
    "over_last_Xdays = 6"
   ]
  },
  {
   "cell_type": "markdown",
   "metadata": {},
   "source": [
    "### logs with their associated HenID"
   ]
  },
  {
   "cell_type": "code",
   "execution_count": 6,
   "metadata": {
    "scrolled": true
   },
   "outputs": [
    {
     "name": "stderr",
     "output_type": "stream",
     "text": [
      "C:\\Users\\camil\\anaconda3\\lib\\site-packages\\ipykernel\\ipkernel.py:283: DeprecationWarning: `should_run_async` will not call `transform_cell` automatically in the future. Please pass the result to `transformed_cell` argument and any exception that happen during thetransform in `preprocessing_exc_tuple` in IPython 7.17 and above.\n",
      "  and should_run_async(code)\n",
      "<>:1: DeprecationWarning: invalid escape sequence \\T\n",
      "<>:1: DeprecationWarning: invalid escape sequence \\T\n",
      "<ipython-input-6-49996d438290>:1: DeprecationWarning: invalid escape sequence \\T\n",
      "  p = glob.glob(os.path.join(path_initial_data, 'Barn 4 Pen*\\TagUpdates\\log*'))\n"
     ]
    },
    {
     "data": {
      "text/html": [
       "<text style=color:black>log: log_00000001 has </text> <text style=color:green>359003</text> <text style=color:black> rows</text>"
      ],
      "text/plain": [
       "<IPython.core.display.HTML object>"
      ]
     },
     "metadata": {},
     "output_type": "display_data"
    },
    {
     "data": {
      "text/html": [
       "<text style=color:black>log: log_00000002 has </text> <text style=color:green>366740</text> <text style=color:black> rows</text>"
      ],
      "text/plain": [
       "<IPython.core.display.HTML object>"
      ]
     },
     "metadata": {},
     "output_type": "display_data"
    },
    {
     "data": {
      "text/html": [
       "<text style=color:black>log: log_00000003 has </text> <text style=color:green>367076</text> <text style=color:black> rows</text>"
      ],
      "text/plain": [
       "<IPython.core.display.HTML object>"
      ]
     },
     "metadata": {},
     "output_type": "display_data"
    },
    {
     "data": {
      "text/html": [
       "<text style=color:black>log: log_00000004 has </text> <text style=color:green>366813</text> <text style=color:black> rows</text>"
      ],
      "text/plain": [
       "<IPython.core.display.HTML object>"
      ]
     },
     "metadata": {},
     "output_type": "display_data"
    },
    {
     "data": {
      "text/html": [
       "<text style=color:black>log: log_00000005 has </text> <text style=color:green>366164</text> <text style=color:black> rows</text>"
      ],
      "text/plain": [
       "<IPython.core.display.HTML object>"
      ]
     },
     "metadata": {},
     "output_type": "display_data"
    },
    {
     "data": {
      "text/html": [
       "<text style=color:black>log: log_00000006 has </text> <text style=color:green>366755</text> <text style=color:black> rows</text>"
      ],
      "text/plain": [
       "<IPython.core.display.HTML object>"
      ]
     },
     "metadata": {},
     "output_type": "display_data"
    },
    {
     "data": {
      "text/html": [
       "<text style=color:black>log: log_00000007 has </text> <text style=color:green>366115</text> <text style=color:black> rows</text>"
      ],
      "text/plain": [
       "<IPython.core.display.HTML object>"
      ]
     },
     "metadata": {},
     "output_type": "display_data"
    },
    {
     "data": {
      "text/html": [
       "<text style=color:black>log: log_00000008 has </text> <text style=color:green>289272</text> <text style=color:black> rows</text>"
      ],
      "text/plain": [
       "<IPython.core.display.HTML object>"
      ]
     },
     "metadata": {},
     "output_type": "display_data"
    },
    {
     "data": {
      "text/html": [
       "<text style=color:black>log: log_00000009 has </text> <text style=color:green>326571</text> <text style=color:black> rows</text>"
      ],
      "text/plain": [
       "<IPython.core.display.HTML object>"
      ]
     },
     "metadata": {},
     "output_type": "display_data"
    },
    {
     "data": {
      "text/html": [
       "<text style=color:black>log: log_00000001 has </text> <text style=color:green>371776</text> <text style=color:black> rows</text>"
      ],
      "text/plain": [
       "<IPython.core.display.HTML object>"
      ]
     },
     "metadata": {},
     "output_type": "display_data"
    },
    {
     "data": {
      "text/html": [
       "<text style=color:black>log: log_00000002 has </text> <text style=color:green>373776</text> <text style=color:black> rows</text>"
      ],
      "text/plain": [
       "<IPython.core.display.HTML object>"
      ]
     },
     "metadata": {},
     "output_type": "display_data"
    },
    {
     "data": {
      "text/html": [
       "<text style=color:black>log: log_00000003 has </text> <text style=color:green>373919</text> <text style=color:black> rows</text>"
      ],
      "text/plain": [
       "<IPython.core.display.HTML object>"
      ]
     },
     "metadata": {},
     "output_type": "display_data"
    },
    {
     "data": {
      "text/html": [
       "<text style=color:black>log: log_00000004 has </text> <text style=color:green>373770</text> <text style=color:black> rows</text>"
      ],
      "text/plain": [
       "<IPython.core.display.HTML object>"
      ]
     },
     "metadata": {},
     "output_type": "display_data"
    },
    {
     "data": {
      "text/html": [
       "<text style=color:black>log: log_00000005 has </text> <text style=color:green>373310</text> <text style=color:black> rows</text>"
      ],
      "text/plain": [
       "<IPython.core.display.HTML object>"
      ]
     },
     "metadata": {},
     "output_type": "display_data"
    },
    {
     "data": {
      "text/html": [
       "<text style=color:black>log: log_00000006 has </text> <text style=color:green>373635</text> <text style=color:black> rows</text>"
      ],
      "text/plain": [
       "<IPython.core.display.HTML object>"
      ]
     },
     "metadata": {},
     "output_type": "display_data"
    },
    {
     "data": {
      "text/html": [
       "<text style=color:black>log: log_00000007 has </text> <text style=color:green>374897</text> <text style=color:black> rows</text>"
      ],
      "text/plain": [
       "<IPython.core.display.HTML object>"
      ]
     },
     "metadata": {},
     "output_type": "display_data"
    },
    {
     "data": {
      "text/html": [
       "<text style=color:black>log: log_00000008 has </text> <text style=color:green>214255</text> <text style=color:black> rows</text>"
      ],
      "text/plain": [
       "<IPython.core.display.HTML object>"
      ]
     },
     "metadata": {},
     "output_type": "display_data"
    },
    {
     "data": {
      "text/html": [
       "<text style=color:black>log: log_00000001 has </text> <text style=color:green>372191</text> <text style=color:black> rows</text>"
      ],
      "text/plain": [
       "<IPython.core.display.HTML object>"
      ]
     },
     "metadata": {},
     "output_type": "display_data"
    },
    {
     "data": {
      "text/html": [
       "<text style=color:black>log: log_00000002 has </text> <text style=color:green>374299</text> <text style=color:black> rows</text>"
      ],
      "text/plain": [
       "<IPython.core.display.HTML object>"
      ]
     },
     "metadata": {},
     "output_type": "display_data"
    },
    {
     "data": {
      "text/html": [
       "<text style=color:black>log: log_00000003 has </text> <text style=color:green>374613</text> <text style=color:black> rows</text>"
      ],
      "text/plain": [
       "<IPython.core.display.HTML object>"
      ]
     },
     "metadata": {},
     "output_type": "display_data"
    },
    {
     "data": {
      "text/html": [
       "<text style=color:black>log: log_00000004 has </text> <text style=color:green>272849</text> <text style=color:black> rows</text>"
      ],
      "text/plain": [
       "<IPython.core.display.HTML object>"
      ]
     },
     "metadata": {},
     "output_type": "display_data"
    },
    {
     "data": {
      "text/html": [
       "<text style=color:black>log: log_00000005 has </text> <text style=color:green>128278</text> <text style=color:black> rows</text>"
      ],
      "text/plain": [
       "<IPython.core.display.HTML object>"
      ]
     },
     "metadata": {},
     "output_type": "display_data"
    },
    {
     "name": "stdout",
     "output_type": "stream",
     "text": [
      "From the focalBirdinfo, you have 155 ative tags\n"
     ]
    },
    {
     "name": "stderr",
     "output_type": "stream",
     "text": [
      "C:\\Users\\camil\\Desktop\\animals_code\\PhD-AnimalWelfare\\UTILS.py:411: FutureWarning: Indexing with multiple keys (implicitly converted to a tuple of keys) will be deprecated, use a list instead.\n",
      "  df_ = df.groupby(['HenID'])['system','PenID','TagID'].agg(lambda x: set(x)).reset_index()\n"
     ]
    },
    {
     "name": "stdout",
     "output_type": "stream",
     "text": [
      "(7300460, 47)\n"
     ]
    },
    {
     "data": {
      "text/html": [
       "<div>\n",
       "<style scoped>\n",
       "    .dataframe tbody tr th:only-of-type {\n",
       "        vertical-align: middle;\n",
       "    }\n",
       "\n",
       "    .dataframe tbody tr th {\n",
       "        vertical-align: top;\n",
       "    }\n",
       "\n",
       "    .dataframe thead th {\n",
       "        text-align: right;\n",
       "    }\n",
       "</style>\n",
       "<table border=\"1\" class=\"dataframe\">\n",
       "  <thead>\n",
       "    <tr style=\"text-align: right;\">\n",
       "      <th></th>\n",
       "      <th>Timestamp</th>\n",
       "      <th>TagSerialNumber</th>\n",
       "      <th>TagID</th>\n",
       "      <th>Zone</th>\n",
       "      <th>systemgantnerid</th>\n",
       "      <th>useless_zone</th>\n",
       "      <th>signalstrength</th>\n",
       "      <th>zone2</th>\n",
       "      <th>signalstzone2</th>\n",
       "      <th>zone3</th>\n",
       "      <th>...</th>\n",
       "      <th>backpackUniqueID</th>\n",
       "      <th>EPI GENETIC TIMESTAMP</th>\n",
       "      <th>HA 23-11-2020</th>\n",
       "      <th>comportement</th>\n",
       "      <th>weight 23-11-2020</th>\n",
       "      <th>HA 04-01-2021</th>\n",
       "      <th>weight 04-01-2021</th>\n",
       "      <th>HA 01-02-21</th>\n",
       "      <th>weight 01-02-21</th>\n",
       "      <th>weight 12-04-21</th>\n",
       "    </tr>\n",
       "  </thead>\n",
       "  <tbody>\n",
       "    <tr>\n",
       "      <th>0</th>\n",
       "      <td>2020-09-29 09:07:00</td>\n",
       "      <td>02001E13</td>\n",
       "      <td>162</td>\n",
       "      <td>Tier 2 (mini 12)</td>\n",
       "      <td>2</td>\n",
       "      <td>8</td>\n",
       "      <td>10</td>\n",
       "      <td>2</td>\n",
       "      <td>8</td>\n",
       "      <td>1</td>\n",
       "      <td>...</td>\n",
       "      <td>12wp</td>\n",
       "      <td>10-date:4-2021</td>\n",
       "      <td>NaN</td>\n",
       "      <td>NaN</td>\n",
       "      <td>1708,4</td>\n",
       "      <td>the student wrote the weight in kg only one di...</td>\n",
       "      <td>1800, +70 -30</td>\n",
       "      <td>NaN</td>\n",
       "      <td>1820,4</td>\n",
       "      <td>1913</td>\n",
       "    </tr>\n",
       "    <tr>\n",
       "      <th>120</th>\n",
       "      <td>2020-09-29 09:08:12</td>\n",
       "      <td>02001E6A</td>\n",
       "      <td>140</td>\n",
       "      <td>Tier 2 (mini 11)</td>\n",
       "      <td>2</td>\n",
       "      <td>7</td>\n",
       "      <td>10</td>\n",
       "      <td>2</td>\n",
       "      <td>8</td>\n",
       "      <td>1</td>\n",
       "      <td>...</td>\n",
       "      <td>11wp</td>\n",
       "      <td>NaN</td>\n",
       "      <td>NaN</td>\n",
       "      <td>NaN</td>\n",
       "      <td>1788,9</td>\n",
       "      <td>NaN</td>\n",
       "      <td>1905,1</td>\n",
       "      <td>NaN</td>\n",
       "      <td>1905,6</td>\n",
       "      <td>2046,7</td>\n",
       "    </tr>\n",
       "    <tr>\n",
       "      <th>1</th>\n",
       "      <td>2020-09-29 09:08:26</td>\n",
       "      <td>02001E13</td>\n",
       "      <td>162</td>\n",
       "      <td>Tier 2 + untere Stange</td>\n",
       "      <td>2</td>\n",
       "      <td>2</td>\n",
       "      <td>11</td>\n",
       "      <td>8</td>\n",
       "      <td>10</td>\n",
       "      <td>3</td>\n",
       "      <td>...</td>\n",
       "      <td>12wp</td>\n",
       "      <td>10-date:4-2021</td>\n",
       "      <td>NaN</td>\n",
       "      <td>NaN</td>\n",
       "      <td>1708,4</td>\n",
       "      <td>the student wrote the weight in kg only one di...</td>\n",
       "      <td>1800, +70 -30</td>\n",
       "      <td>NaN</td>\n",
       "      <td>1820,4</td>\n",
       "      <td>1913</td>\n",
       "    </tr>\n",
       "  </tbody>\n",
       "</table>\n",
       "<p>3 rows × 47 columns</p>\n",
       "</div>"
      ],
      "text/plain": [
       "              Timestamp TagSerialNumber TagID                    Zone  \\\n",
       "0   2020-09-29 09:07:00        02001E13   162        Tier 2 (mini 12)   \n",
       "120 2020-09-29 09:08:12        02001E6A   140        Tier 2 (mini 11)   \n",
       "1   2020-09-29 09:08:26        02001E13   162  Tier 2 + untere Stange   \n",
       "\n",
       "     systemgantnerid  useless_zone  signalstrength  zone2  signalstzone2  \\\n",
       "0                  2             8              10      2              8   \n",
       "120                2             7              10      2              8   \n",
       "1                  2             2              11      8             10   \n",
       "\n",
       "     zone3  ...  backpackUniqueID  EPI GENETIC TIMESTAMP  HA 23-11-2020  \\\n",
       "0        1  ...              12wp         10-date:4-2021            NaN   \n",
       "120      1  ...              11wp                    NaN            NaN   \n",
       "1        3  ...              12wp         10-date:4-2021            NaN   \n",
       "\n",
       "    comportement weight 23-11-2020  \\\n",
       "0            NaN            1708,4   \n",
       "120          NaN            1788,9   \n",
       "1            NaN            1708,4   \n",
       "\n",
       "                                         HA 04-01-2021  weight 04-01-2021  \\\n",
       "0    the student wrote the weight in kg only one di...      1800, +70 -30   \n",
       "120                                                NaN             1905,1   \n",
       "1    the student wrote the weight in kg only one di...      1800, +70 -30   \n",
       "\n",
       "    HA 01-02-21 weight 01-02-21  weight 12-04-21  \n",
       "0           NaN          1820,4             1913  \n",
       "120         NaN          1905,6           2046,7  \n",
       "1           NaN          1820,4             1913  \n",
       "\n",
       "[3 rows x 47 columns]"
      ]
     },
     "metadata": {},
     "output_type": "display_data"
    },
    {
     "data": {
      "text/html": [
       "<div>\n",
       "<style scoped>\n",
       "    .dataframe tbody tr th:only-of-type {\n",
       "        vertical-align: middle;\n",
       "    }\n",
       "\n",
       "    .dataframe tbody tr th {\n",
       "        vertical-align: top;\n",
       "    }\n",
       "\n",
       "    .dataframe thead th {\n",
       "        text-align: right;\n",
       "    }\n",
       "</style>\n",
       "<table border=\"1\" class=\"dataframe\">\n",
       "  <thead>\n",
       "    <tr style=\"text-align: right;\">\n",
       "      <th></th>\n",
       "      <th>Timestamp</th>\n",
       "      <th>TagSerialNumber</th>\n",
       "      <th>TagID</th>\n",
       "      <th>Zone</th>\n",
       "      <th>systemgantnerid</th>\n",
       "      <th>useless_zone</th>\n",
       "      <th>signalstrength</th>\n",
       "      <th>zone2</th>\n",
       "      <th>signalstzone2</th>\n",
       "      <th>zone3</th>\n",
       "      <th>...</th>\n",
       "      <th>backpackUniqueID</th>\n",
       "      <th>EPI GENETIC TIMESTAMP</th>\n",
       "      <th>HA 23-11-2020</th>\n",
       "      <th>comportement</th>\n",
       "      <th>weight 23-11-2020</th>\n",
       "      <th>HA 04-01-2021</th>\n",
       "      <th>weight 04-01-2021</th>\n",
       "      <th>HA 01-02-21</th>\n",
       "      <th>weight 01-02-21</th>\n",
       "      <th>weight 12-04-21</th>\n",
       "    </tr>\n",
       "  </thead>\n",
       "  <tbody>\n",
       "    <tr>\n",
       "      <th>7298182</th>\n",
       "      <td>2021-07-25 23:56:13</td>\n",
       "      <td>02001075</td>\n",
       "      <td>75</td>\n",
       "      <td>Tier 4 + obere Stange</td>\n",
       "      <td>3</td>\n",
       "      <td>4</td>\n",
       "      <td>9</td>\n",
       "      <td>3</td>\n",
       "      <td>7</td>\n",
       "      <td>1</td>\n",
       "      <td>...</td>\n",
       "      <td>8sb</td>\n",
       "      <td>NaN</td>\n",
       "      <td>NaN</td>\n",
       "      <td>NaN</td>\n",
       "      <td>NaN</td>\n",
       "      <td>NaN</td>\n",
       "      <td>NaN</td>\n",
       "      <td>NaN</td>\n",
       "      <td>NaN</td>\n",
       "      <td>1772,8</td>\n",
       "    </tr>\n",
       "    <tr>\n",
       "      <th>7298183</th>\n",
       "      <td>2021-07-25 23:56:18</td>\n",
       "      <td>02001075</td>\n",
       "      <td>75</td>\n",
       "      <td>Tier 2 + untere Stange</td>\n",
       "      <td>3</td>\n",
       "      <td>2</td>\n",
       "      <td>16</td>\n",
       "      <td>4</td>\n",
       "      <td>9</td>\n",
       "      <td>3</td>\n",
       "      <td>...</td>\n",
       "      <td>8sb</td>\n",
       "      <td>NaN</td>\n",
       "      <td>NaN</td>\n",
       "      <td>NaN</td>\n",
       "      <td>NaN</td>\n",
       "      <td>NaN</td>\n",
       "      <td>NaN</td>\n",
       "      <td>NaN</td>\n",
       "      <td>NaN</td>\n",
       "      <td>1772,8</td>\n",
       "    </tr>\n",
       "    <tr>\n",
       "      <th>7296533</th>\n",
       "      <td>2021-07-25 23:56:18</td>\n",
       "      <td>020015CB</td>\n",
       "      <td>86</td>\n",
       "      <td>Tier 2 + untere Stange</td>\n",
       "      <td>3</td>\n",
       "      <td>2</td>\n",
       "      <td>16</td>\n",
       "      <td>4</td>\n",
       "      <td>11</td>\n",
       "      <td>3</td>\n",
       "      <td>...</td>\n",
       "      <td>8wp</td>\n",
       "      <td>NaN</td>\n",
       "      <td>NaN</td>\n",
       "      <td>NaN</td>\n",
       "      <td>1669,6</td>\n",
       "      <td>NaN</td>\n",
       "      <td>1768,6</td>\n",
       "      <td>NaN</td>\n",
       "      <td>1801,5</td>\n",
       "      <td>1813,8</td>\n",
       "    </tr>\n",
       "  </tbody>\n",
       "</table>\n",
       "<p>3 rows × 47 columns</p>\n",
       "</div>"
      ],
      "text/plain": [
       "                  Timestamp TagSerialNumber TagID                    Zone  \\\n",
       "7298182 2021-07-25 23:56:13        02001075    75   Tier 4 + obere Stange   \n",
       "7298183 2021-07-25 23:56:18        02001075    75  Tier 2 + untere Stange   \n",
       "7296533 2021-07-25 23:56:18        020015CB    86  Tier 2 + untere Stange   \n",
       "\n",
       "         systemgantnerid  useless_zone  signalstrength  zone2  signalstzone2  \\\n",
       "7298182                3             4               9      3              7   \n",
       "7298183                3             2              16      4              9   \n",
       "7296533                3             2              16      4             11   \n",
       "\n",
       "         zone3  ...  backpackUniqueID  EPI GENETIC TIMESTAMP  HA 23-11-2020  \\\n",
       "7298182      1  ...               8sb                    NaN            NaN   \n",
       "7298183      3  ...               8sb                    NaN            NaN   \n",
       "7296533      3  ...               8wp                    NaN            NaN   \n",
       "\n",
       "        comportement weight 23-11-2020 HA 04-01-2021  weight 04-01-2021  \\\n",
       "7298182          NaN               NaN           NaN                NaN   \n",
       "7298183          NaN               NaN           NaN                NaN   \n",
       "7296533          NaN            1669,6           NaN             1768,6   \n",
       "\n",
       "        HA 01-02-21 weight 01-02-21  weight 12-04-21  \n",
       "7298182         NaN             NaN           1772,8  \n",
       "7298183         NaN             NaN           1772,8  \n",
       "7296533         NaN          1801,5           1813,8  \n",
       "\n",
       "[3 rows x 47 columns]"
      ]
     },
     "metadata": {},
     "output_type": "display_data"
    }
   ],
   "source": [
    "p = glob.glob(os.path.join(path_initial_data, 'Barn 4 Pen*\\TagUpdates\\log*'))\n",
    "#mtime = os.stat(os.path.join('.', p[0])).st_mtime\n",
    "#download_time = dt.datetime.fromtimestamp(mtime).strftime('%Y-%m-%d-%H:%M')\n",
    "#download_time = dt.datetime.strptime(download_time, '%Y-%m-%d-%H:%M')\n",
    "#print('The file were downloaded at: ', download_time)\n",
    "    \n",
    "#print('There is %d log files:\\n  %s'%(len(p),'  \\n  '.join(p)))\n",
    "df = preprocessing_Origins(p, config, save=False, dodevice=False)\n",
    "print(df.shape)\n",
    "display(df.head(3))\n",
    "display(df.tail(3))"
   ]
  },
  {
   "cell_type": "code",
   "execution_count": 7,
   "metadata": {},
   "outputs": [
    {
     "name": "stderr",
     "output_type": "stream",
     "text": [
      "C:\\Users\\camil\\anaconda3\\lib\\site-packages\\ipykernel\\ipkernel.py:283: DeprecationWarning: `should_run_async` will not call `transform_cell` automatically in the future. Please pass the result to `transformed_cell` argument and any exception that happen during thetransform in `preprocessing_exc_tuple` in IPython 7.17 and above.\n",
      "  and should_run_async(code)\n"
     ]
    },
    {
     "name": "stdout",
     "output_type": "stream",
     "text": [
      "From the focalBirdinfo, you have 155 ative tags\n"
     ]
    }
   ],
   "source": [
    "df_FB = pd.read_csv(path_FocalBird, sep=';', parse_dates=['StartDate','EndDate'], dayfirst=True, encoding='latin') #verified dates:correct\n",
    "#fill end date to today+1 for the birds which we dont know when is there end date (+1: so that today is taken into account)\n",
    "df_FB['EndDate'].fillna(config.date_max+dt.timedelta(days=1), inplace=True)\n",
    "df_FB['TagID'] = df_FB['TagID'].astype(str)\n",
    "df_FB['PenID'] = df_FB['PenID'].map(int).map(str)\n",
    "#exclude rows were tags were not functionning correctly for some reason \n",
    "df_FB = df_FB[df_FB['ShouldBeExcluded']!='yes']\n",
    "#define a list with the active tags of today/last date\n",
    "li_active_tags = list(df_FB[df_FB['EndDate']>=config.date_max]['TagID'].unique())\n",
    "#Counter(li_active_tags)\n",
    "print('From the focalBirdinfo, you have %d ative tags'%len(li_active_tags))"
   ]
  },
  {
   "cell_type": "markdown",
   "metadata": {},
   "source": [
    "### active tags"
   ]
  },
  {
   "cell_type": "code",
   "execution_count": 8,
   "metadata": {},
   "outputs": [
    {
     "name": "stdout",
     "output_type": "stream",
     "text": [
      "(270, 29)\n",
      "(255, 29)\n"
     ]
    },
    {
     "name": "stderr",
     "output_type": "stream",
     "text": [
      "C:\\Users\\camil\\anaconda3\\lib\\site-packages\\ipykernel\\ipkernel.py:283: DeprecationWarning: `should_run_async` will not call `transform_cell` automatically in the future. Please pass the result to `transformed_cell` argument and any exception that happen during thetransform in `preprocessing_exc_tuple` in IPython 7.17 and above.\n",
      "  and should_run_async(code)\n"
     ]
    },
    {
     "data": {
      "text/html": [
       "<div>\n",
       "<style scoped>\n",
       "    .dataframe tbody tr th:only-of-type {\n",
       "        vertical-align: middle;\n",
       "    }\n",
       "\n",
       "    .dataframe tbody tr th {\n",
       "        vertical-align: top;\n",
       "    }\n",
       "\n",
       "    .dataframe thead th {\n",
       "        text-align: right;\n",
       "    }\n",
       "</style>\n",
       "<table border=\"1\" class=\"dataframe\">\n",
       "  <thead>\n",
       "    <tr style=\"text-align: right;\">\n",
       "      <th></th>\n",
       "      <th>HenID</th>\n",
       "      <th>R-Pen</th>\n",
       "      <th>InitialStartDate</th>\n",
       "      <th>ShouldBeExcluded</th>\n",
       "      <th>StartDate</th>\n",
       "      <th>EndDate</th>\n",
       "      <th>FocalLegringID</th>\n",
       "      <th>Expected % of wrong class</th>\n",
       "      <th>Expected chance of wrong treatment</th>\n",
       "      <th>comments</th>\n",
       "      <th>...</th>\n",
       "      <th>TagID</th>\n",
       "      <th>EPI GENETIC TIMESTAMP</th>\n",
       "      <th>HA 23-11-2020</th>\n",
       "      <th>comportement</th>\n",
       "      <th>weight 23-11-2020</th>\n",
       "      <th>HA 04-01-2021</th>\n",
       "      <th>weight 04-01-2021</th>\n",
       "      <th>HA 01-02-21</th>\n",
       "      <th>weight 01-02-21</th>\n",
       "      <th>weight 12-04-21</th>\n",
       "    </tr>\n",
       "  </thead>\n",
       "  <tbody>\n",
       "    <tr>\n",
       "      <th>0</th>\n",
       "      <td>32</td>\n",
       "      <td>1.0</td>\n",
       "      <td>10.06.2020</td>\n",
       "      <td>NaN</td>\n",
       "      <td>2020-09-28</td>\n",
       "      <td>2021-01-04 00:00:00</td>\n",
       "      <td>62</td>\n",
       "      <td>NaN</td>\n",
       "      <td>0</td>\n",
       "      <td>he lost his legring and was changed from 56gre...</td>\n",
       "      <td>...</td>\n",
       "      <td>183</td>\n",
       "      <td>NaN</td>\n",
       "      <td>NaN</td>\n",
       "      <td>NaN</td>\n",
       "      <td>1872,6</td>\n",
       "      <td>exchange tag to test temperature</td>\n",
       "      <td>NaN</td>\n",
       "      <td>NaN</td>\n",
       "      <td>NaN</td>\n",
       "      <td>NaN</td>\n",
       "    </tr>\n",
       "    <tr>\n",
       "      <th>1</th>\n",
       "      <td>32</td>\n",
       "      <td>1.0</td>\n",
       "      <td>10.06.2020</td>\n",
       "      <td>NaN</td>\n",
       "      <td>2021-01-04</td>\n",
       "      <td>2021-07-26</td>\n",
       "      <td>62</td>\n",
       "      <td>NaN</td>\n",
       "      <td>0</td>\n",
       "      <td>he lost his legring and was changed from 56gre...</td>\n",
       "      <td>...</td>\n",
       "      <td>181</td>\n",
       "      <td>11-date:7-2021</td>\n",
       "      <td>NaN</td>\n",
       "      <td>NaN</td>\n",
       "      <td>1872,6</td>\n",
       "      <td>NaN</td>\n",
       "      <td>2041,9</td>\n",
       "      <td>NaN</td>\n",
       "      <td>2050,7</td>\n",
       "      <td>2096,3</td>\n",
       "    </tr>\n",
       "    <tr>\n",
       "      <th>2</th>\n",
       "      <td>13</td>\n",
       "      <td>1.0</td>\n",
       "      <td>10.06.2020</td>\n",
       "      <td>NaN</td>\n",
       "      <td>2021-02-01</td>\n",
       "      <td>2021-04-12 00:00:00</td>\n",
       "      <td>10</td>\n",
       "      <td>NaN</td>\n",
       "      <td>0</td>\n",
       "      <td>lost legring on the HA4 12.04.2021. lost legri...</td>\n",
       "      <td>...</td>\n",
       "      <td>190</td>\n",
       "      <td>NaN</td>\n",
       "      <td>NaN</td>\n",
       "      <td>NaN</td>\n",
       "      <td>1553</td>\n",
       "      <td>NaN</td>\n",
       "      <td>1557,2</td>\n",
       "      <td>NaN</td>\n",
       "      <td>1593,7</td>\n",
       "      <td>1647,2</td>\n",
       "    </tr>\n",
       "  </tbody>\n",
       "</table>\n",
       "<p>3 rows × 29 columns</p>\n",
       "</div>"
      ],
      "text/plain": [
       "   HenID  R-Pen InitialStartDate ShouldBeExcluded  StartDate  \\\n",
       "0     32    1.0       10.06.2020              NaN 2020-09-28   \n",
       "1     32    1.0       10.06.2020              NaN 2021-01-04   \n",
       "2     13    1.0       10.06.2020              NaN 2021-02-01   \n",
       "\n",
       "               EndDate  FocalLegringID Expected % of wrong class  \\\n",
       "0  2021-01-04 00:00:00              62                       NaN   \n",
       "1           2021-07-26              62                       NaN   \n",
       "2  2021-04-12 00:00:00              10                       NaN   \n",
       "\n",
       "  Expected chance of wrong treatment  \\\n",
       "0                                  0   \n",
       "1                                  0   \n",
       "2                                  0   \n",
       "\n",
       "                                            comments  ... TagID  \\\n",
       "0  he lost his legring and was changed from 56gre...  ...   183   \n",
       "1  he lost his legring and was changed from 56gre...  ...   181   \n",
       "2  lost legring on the HA4 12.04.2021. lost legri...  ...   190   \n",
       "\n",
       "  EPI GENETIC TIMESTAMP HA 23-11-2020 comportement  weight 23-11-2020  \\\n",
       "0                   NaN           NaN          NaN             1872,6   \n",
       "1        11-date:7-2021           NaN          NaN             1872,6   \n",
       "2                   NaN           NaN          NaN               1553   \n",
       "\n",
       "                      HA 04-01-2021  weight 04-01-2021 HA 01-02-21  \\\n",
       "0  exchange tag to test temperature                NaN         NaN   \n",
       "1                               NaN             2041,9         NaN   \n",
       "2                               NaN             1557,2         NaN   \n",
       "\n",
       "  weight 01-02-21 weight 12-04-21  \n",
       "0             NaN             NaN  \n",
       "1          2050,7          2096,3  \n",
       "2          1593,7          1647,2  \n",
       "\n",
       "[3 rows x 29 columns]"
      ]
     },
     "execution_count": 8,
     "metadata": {},
     "output_type": "execute_result"
    }
   ],
   "source": [
    "df_tag = pd.read_csv(path_FocalBird, sep=';', parse_dates=['StartDate','EndDate'], dayfirst=True, encoding='latin')\n",
    "df_tag['EndDate'].fillna(dt.date.today(), inplace=True)\n",
    "print(df_tag.shape)\n",
    "df_tag = df_tag[df_tag['ShouldBeExcluded']!='yes']\n",
    "df_tag['TagID'] = df_tag['TagID'].astype(str)\n",
    "print(df_tag.shape)\n",
    "df_tag.head(3)"
   ]
  },
  {
   "cell_type": "code",
   "execution_count": 9,
   "metadata": {},
   "outputs": [
    {
     "name": "stdout",
     "output_type": "stream",
     "text": [
      "From your focalbird document you should have 155 ative tags\n"
     ]
    },
    {
     "name": "stderr",
     "output_type": "stream",
     "text": [
      "C:\\Users\\camil\\anaconda3\\lib\\site-packages\\ipykernel\\ipkernel.py:283: DeprecationWarning: `should_run_async` will not call `transform_cell` automatically in the future. Please pass the result to `transformed_cell` argument and any exception that happen during thetransform in `preprocessing_exc_tuple` in IPython 7.17 and above.\n",
      "  and should_run_async(code)\n"
     ]
    }
   ],
   "source": [
    "li_active_tags = list(set(df_tag[df_tag['EndDate']>=dt.date.today()]['TagID'].unique()))\n",
    "#Counter(li_active_tags)\n",
    "print('From your focalbird document you should have %d ative tags'%len(li_active_tags))"
   ]
  },
  {
   "cell_type": "markdown",
   "metadata": {},
   "source": [
    "### device"
   ]
  },
  {
   "cell_type": "code",
   "execution_count": 10,
   "metadata": {
    "scrolled": true
   },
   "outputs": [
    {
     "name": "stderr",
     "output_type": "stream",
     "text": [
      "C:\\Users\\camil\\anaconda3\\lib\\site-packages\\ipykernel\\ipkernel.py:283: DeprecationWarning: `should_run_async` will not call `transform_cell` automatically in the future. Please pass the result to `transformed_cell` argument and any exception that happen during thetransform in `preprocessing_exc_tuple` in IPython 7.17 and above.\n",
      "  and should_run_async(code)\n",
      "<>:4: DeprecationWarning: invalid escape sequence \\D\n",
      "<>:4: DeprecationWarning: invalid escape sequence \\D\n",
      "<ipython-input-10-f27d1d550a49>:4: DeprecationWarning: invalid escape sequence \\D\n",
      "  for path_system in glob.glob(os.path.join(path_initial_data, 'Barn 4 Pen*\\DeviceUpdates')):\n",
      " 11%|█████████▎                                                                          | 1/9 [00:50<06:46, 50.84s/it]"
     ]
    },
    {
     "name": "stdout",
     "output_type": "stream",
     "text": [
      "(214970, 19)\n",
      "----------------- G:\\VPHI\\Welfare\\2- Research Projects\\OFHE2.OriginsE2\\GantnerSystem\\_dailycheckingSystem\\Barn 4 Pen 10 - 12\\DeviceUpdates\\log_00000020.csv\n"
     ]
    },
    {
     "name": "stderr",
     "output_type": "stream",
     "text": [
      "\r",
      " 22%|██████████████████▋                                                                 | 2/9 [00:54<04:17, 36.79s/it]"
     ]
    },
    {
     "name": "stdout",
     "output_type": "stream",
     "text": [
      "(2450, 19)\n",
      "----------------- G:\\VPHI\\Welfare\\2- Research Projects\\OFHE2.OriginsE2\\GantnerSystem\\_dailycheckingSystem\\Barn 4 Pen 10 - 12\\DeviceUpdates\\log_00000022.csv\n"
     ]
    },
    {
     "name": "stderr",
     "output_type": "stream",
     "text": [
      "\r",
      " 33%|████████████████████████████                                                        | 3/9 [01:38<03:52, 38.75s/it]"
     ]
    },
    {
     "name": "stdout",
     "output_type": "stream",
     "text": [
      "(214900, 19)\n",
      "----------------- G:\\VPHI\\Welfare\\2- Research Projects\\OFHE2.OriginsE2\\GantnerSystem\\_dailycheckingSystem\\Barn 4 Pen 10 - 12\\DeviceUpdates\\log_00000021.csv\n"
     ]
    },
    {
     "name": "stderr",
     "output_type": "stream",
     "text": [
      "\r",
      " 44%|█████████████████████████████████████▎                                              | 4/9 [02:20<03:19, 39.83s/it]"
     ]
    },
    {
     "name": "stdout",
     "output_type": "stream",
     "text": [
      "(215832, 19)\n",
      "----------------- G:\\VPHI\\Welfare\\2- Research Projects\\OFHE2.OriginsE2\\GantnerSystem\\_dailycheckingSystem\\Barn 4 Pen 3 - 5\\DeviceUpdates\\log_00000020.csv\n"
     ]
    },
    {
     "name": "stderr",
     "output_type": "stream",
     "text": [
      "\r",
      " 56%|██████████████████████████████████████████████▋                                     | 5/9 [02:35<02:09, 32.44s/it]"
     ]
    },
    {
     "name": "stdout",
     "output_type": "stream",
     "text": [
      "(56644, 19)\n",
      "----------------- G:\\VPHI\\Welfare\\2- Research Projects\\OFHE2.OriginsE2\\GantnerSystem\\_dailycheckingSystem\\Barn 4 Pen 3 - 5\\DeviceUpdates\\log_00000022.csv\n"
     ]
    },
    {
     "name": "stderr",
     "output_type": "stream",
     "text": [
      "\r",
      " 67%|████████████████████████████████████████████████████████                            | 6/9 [03:19<01:47, 35.90s/it]"
     ]
    },
    {
     "name": "stdout",
     "output_type": "stream",
     "text": [
      "(215900, 19)\n",
      "----------------- G:\\VPHI\\Welfare\\2- Research Projects\\OFHE2.OriginsE2\\GantnerSystem\\_dailycheckingSystem\\Barn 4 Pen 3 - 5\\DeviceUpdates\\log_00000021.csv\n"
     ]
    },
    {
     "name": "stderr",
     "output_type": "stream",
     "text": [
      "\r",
      " 78%|█████████████████████████████████████████████████████████████████▎                  | 7/9 [04:25<01:29, 44.89s/it]"
     ]
    },
    {
     "name": "stdout",
     "output_type": "stream",
     "text": [
      "(217392, 19)\n",
      "----------------- G:\\VPHI\\Welfare\\2- Research Projects\\OFHE2.OriginsE2\\GantnerSystem\\_dailycheckingSystem\\Barn 4 Pen 8 - 9\\DeviceUpdates\\log_00000013.csv\n"
     ]
    },
    {
     "name": "stderr",
     "output_type": "stream",
     "text": [
      "\r",
      " 89%|██████████████████████████████████████████████████████████████████████████▋         | 8/9 [05:56<00:58, 58.63s/it]"
     ]
    },
    {
     "name": "stdout",
     "output_type": "stream",
     "text": [
      "(217200, 19)\n",
      "----------------- G:\\VPHI\\Welfare\\2- Research Projects\\OFHE2.OriginsE2\\GantnerSystem\\_dailycheckingSystem\\Barn 4 Pen 8 - 9\\DeviceUpdates\\log_00000014.csv\n"
     ]
    },
    {
     "name": "stderr",
     "output_type": "stream",
     "text": [
      "100%|████████████████████████████████████████████████████████████████████████████████████| 9/9 [07:27<00:00, 49.76s/it]"
     ]
    },
    {
     "name": "stdout",
     "output_type": "stream",
     "text": [
      "(176976, 19)\n",
      "----------------- G:\\VPHI\\Welfare\\2- Research Projects\\OFHE2.OriginsE2\\GantnerSystem\\_dailycheckingSystem\\Barn 4 Pen 8 - 9\\DeviceUpdates\\log_00000015.csv\n"
     ]
    },
    {
     "name": "stderr",
     "output_type": "stream",
     "text": [
      "\n"
     ]
    },
    {
     "name": "stdout",
     "output_type": "stream",
     "text": [
      "(1532264, 20)\n",
      "['log_00000020' 'log_00000022' 'log_00000021' 'log_00000013'\n",
      " 'log_00000014' 'log_00000015']\n",
      "(1479185, 20)\n"
     ]
    },
    {
     "data": {
      "text/html": [
       "<div>\n",
       "<style scoped>\n",
       "    .dataframe tbody tr th:only-of-type {\n",
       "        vertical-align: middle;\n",
       "    }\n",
       "\n",
       "    .dataframe tbody tr th {\n",
       "        vertical-align: top;\n",
       "    }\n",
       "\n",
       "    .dataframe thead th {\n",
       "        text-align: right;\n",
       "    }\n",
       "</style>\n",
       "<table border=\"1\" class=\"dataframe\">\n",
       "  <thead>\n",
       "    <tr style=\"text-align: right;\">\n",
       "      <th></th>\n",
       "      <th>Timestamp</th>\n",
       "      <th>sort</th>\n",
       "      <th>code</th>\n",
       "      <th>sender</th>\n",
       "      <th>Temperature</th>\n",
       "      <th>Battery Voltage</th>\n",
       "      <th>MovementCounter</th>\n",
       "      <th>LastLFSeen</th>\n",
       "      <th>LFCounter</th>\n",
       "      <th>LFRSSISum</th>\n",
       "      <th>Zone</th>\n",
       "      <th>Subzone</th>\n",
       "      <th>Time</th>\n",
       "      <th>LastInfo</th>\n",
       "      <th>LastLocation</th>\n",
       "      <th>LastAction</th>\n",
       "      <th>data_path</th>\n",
       "      <th>system</th>\n",
       "      <th>logID</th>\n",
       "      <th>NeedsBatteries</th>\n",
       "    </tr>\n",
       "  </thead>\n",
       "  <tbody>\n",
       "    <tr>\n",
       "      <th>176973</th>\n",
       "      <td>2021-07-26 18:38:00</td>\n",
       "      <td>Tag</td>\n",
       "      <td>02002428</td>\n",
       "      <td>195</td>\n",
       "      <td>24.0</td>\n",
       "      <td>2978.0</td>\n",
       "      <td>6.0</td>\n",
       "      <td>255.0</td>\n",
       "      <td>0.0</td>\n",
       "      <td>0.0</td>\n",
       "      <td>3.0</td>\n",
       "      <td>1.0</td>\n",
       "      <td>255.0</td>\n",
       "      <td>26.07.2021 16:12:24</td>\n",
       "      <td>26.07.2021 07:46:09</td>\n",
       "      <td>2021-07-26 16:18:32</td>\n",
       "      <td>G:\\VPHI\\Welfare\\2- Research Projects\\OFHE2.Ori...</td>\n",
       "      <td>pens:8 - 9</td>\n",
       "      <td>log_00000015</td>\n",
       "      <td>True</td>\n",
       "    </tr>\n",
       "    <tr>\n",
       "      <th>176974</th>\n",
       "      <td>2021-07-26 18:38:00</td>\n",
       "      <td>Tag</td>\n",
       "      <td>02002332</td>\n",
       "      <td>196</td>\n",
       "      <td>23.0</td>\n",
       "      <td>2989.0</td>\n",
       "      <td>2.0</td>\n",
       "      <td>255.0</td>\n",
       "      <td>0.0</td>\n",
       "      <td>0.0</td>\n",
       "      <td>3.0</td>\n",
       "      <td>1.0</td>\n",
       "      <td>255.0</td>\n",
       "      <td>26.07.2021 16:10:59</td>\n",
       "      <td>26.07.2021 07:50:29</td>\n",
       "      <td>2021-07-26 16:19:12</td>\n",
       "      <td>G:\\VPHI\\Welfare\\2- Research Projects\\OFHE2.Ori...</td>\n",
       "      <td>pens:8 - 9</td>\n",
       "      <td>log_00000015</td>\n",
       "      <td>True</td>\n",
       "    </tr>\n",
       "    <tr>\n",
       "      <th>176975</th>\n",
       "      <td>2021-07-26 18:38:00</td>\n",
       "      <td>Tag</td>\n",
       "      <td>02002333</td>\n",
       "      <td>197</td>\n",
       "      <td>34.0</td>\n",
       "      <td>3016.0</td>\n",
       "      <td>6.0</td>\n",
       "      <td>0.0</td>\n",
       "      <td>316.0</td>\n",
       "      <td>5116.0</td>\n",
       "      <td>3.0</td>\n",
       "      <td>4.0</td>\n",
       "      <td>255.0</td>\n",
       "      <td>26.07.2021 18:28:58</td>\n",
       "      <td>26.07.2021 16:09:09</td>\n",
       "      <td>2021-07-26 18:37:09</td>\n",
       "      <td>G:\\VPHI\\Welfare\\2- Research Projects\\OFHE2.Ori...</td>\n",
       "      <td>pens:8 - 9</td>\n",
       "      <td>log_00000015</td>\n",
       "      <td>True</td>\n",
       "    </tr>\n",
       "  </tbody>\n",
       "</table>\n",
       "</div>"
      ],
      "text/plain": [
       "                 Timestamp sort      code sender  Temperature  \\\n",
       "176973 2021-07-26 18:38:00  Tag  02002428    195         24.0   \n",
       "176974 2021-07-26 18:38:00  Tag  02002332    196         23.0   \n",
       "176975 2021-07-26 18:38:00  Tag  02002333    197         34.0   \n",
       "\n",
       "        Battery Voltage  MovementCounter  LastLFSeen  LFCounter  LFRSSISum  \\\n",
       "176973           2978.0              6.0       255.0        0.0        0.0   \n",
       "176974           2989.0              2.0       255.0        0.0        0.0   \n",
       "176975           3016.0              6.0         0.0      316.0     5116.0   \n",
       "\n",
       "        Zone  Subzone   Time             LastInfo         LastLocation  \\\n",
       "176973   3.0      1.0  255.0  26.07.2021 16:12:24  26.07.2021 07:46:09   \n",
       "176974   3.0      1.0  255.0  26.07.2021 16:10:59  26.07.2021 07:50:29   \n",
       "176975   3.0      4.0  255.0  26.07.2021 18:28:58  26.07.2021 16:09:09   \n",
       "\n",
       "                LastAction                                          data_path  \\\n",
       "176973 2021-07-26 16:18:32  G:\\VPHI\\Welfare\\2- Research Projects\\OFHE2.Ori...   \n",
       "176974 2021-07-26 16:19:12  G:\\VPHI\\Welfare\\2- Research Projects\\OFHE2.Ori...   \n",
       "176975 2021-07-26 18:37:09  G:\\VPHI\\Welfare\\2- Research Projects\\OFHE2.Ori...   \n",
       "\n",
       "            system         logID  NeedsBatteries  \n",
       "176973  pens:8 - 9  log_00000015            True  \n",
       "176974  pens:8 - 9  log_00000015            True  \n",
       "176975  pens:8 - 9  log_00000015            True  "
      ]
     },
     "execution_count": 10,
     "metadata": {},
     "output_type": "execute_result"
    }
   ],
   "source": [
    "#select last x logs\n",
    "last_x_logs = math.ceil(over_last_Xdays/2) #arondi en haut\n",
    "li_logs = []\n",
    "for path_system in glob.glob(os.path.join(path_initial_data, 'Barn 4 Pen*\\DeviceUpdates')):\n",
    "    li_ = glob.glob(os.path.join(path_system, 'log*'))\n",
    "    li_.sort(key=lambda x: os.path.getmtime(x), reverse=False)\n",
    "    li_logs.extend(li_[-last_x_logs:]) \n",
    "#next version\n",
    "#li_newFirmwarecol = ['Timestamp','sort','code','sender','Temperature','Battery Voltage','MovementCounter','LastLFSeen',\n",
    "#                     'LFCounter','LFRSSISum','Zone', 'Subzone','LFRSSI','Time','LastInfo','LastLocation','LastAction']\n",
    "li_newFirmwarecol = ['Timestamp','sort','code','sender','Temperature','Battery Voltage','MovementCounter','LastLFSeen',\n",
    "                     'LFCounter','LFRSSISum','Zone', 'Subzone','Time','LastInfo','LastLocation','LastAction']\n",
    "#lastReg = LastAction\n",
    "li_df = []\n",
    "for path_log in tqdm.tqdm(li_logs):\n",
    "    #confused month and day\n",
    "    df_device = pd.read_csv(os.path.join(path_log), sep=';', names=li_newFirmwarecol, parse_dates=['LastAction','Timestamp'],\n",
    "                           dayfirst=True)\n",
    "    df_device['data_path'] = path_log\n",
    "    df_device['system'] = 'pens:'+path_log.split('Barn 4 Pen ')[1].split('\\\\')[0]\n",
    "    df_device['logID'] = path_log.split('\\\\')[-1].split('.')[0]\n",
    "    print(df_device.shape)\n",
    "    print('-----------------', path_log)\n",
    "    #display(df_device.head(3))\n",
    "    #display(df_device.tail(3))\n",
    "    li_df.append(df_device)\n",
    "df_device = pd.concat(li_df)\n",
    "df_device = df_device[df_device['Timestamp']>=dt.datetime(2020,9,29)]\n",
    "df['date'] = df['Timestamp'].map(lambda x: dt.datetime.date(x))\n",
    "df_device['sender'].fillna(' ', inplace=True)\n",
    "#add the info on if the device needs batterie or not\n",
    "df_device['NeedsBatteries'] = df_device.apply(lambda x: ('mini' in x['sender']) | (x['sender']=='Wintergarten') | \\\n",
    "                                              (x['sort']=='Tag'), axis=1)\n",
    "#remove old tags\n",
    "print(df_device.shape)\n",
    "df_device = df_device[~((df_device['sort']=='Tag')&(~df_device['sender'].isin(li_active_tags)))]\n",
    "print(df_device['logID'].unique())\n",
    "print(df_device.shape)\n",
    "df_device.tail(3)"
   ]
  },
  {
   "cell_type": "code",
   "execution_count": 11,
   "metadata": {},
   "outputs": [
    {
     "name": "stderr",
     "output_type": "stream",
     "text": [
      "C:\\Users\\camil\\anaconda3\\lib\\site-packages\\ipykernel\\ipkernel.py:283: DeprecationWarning: `should_run_async` will not call `transform_cell` automatically in the future. Please pass the result to `transformed_cell` argument and any exception that happen during thetransform in `preprocessing_exc_tuple` in IPython 7.17 and above.\n",
      "  and should_run_async(code)\n"
     ]
    }
   ],
   "source": [
    "#df_device.groupby(['system','logID'])['NeedsBatteries'].count().reset_index()"
   ]
  },
  {
   "cell_type": "code",
   "execution_count": 12,
   "metadata": {},
   "outputs": [
    {
     "name": "stderr",
     "output_type": "stream",
     "text": [
      "C:\\Users\\camil\\anaconda3\\lib\\site-packages\\ipykernel\\ipkernel.py:283: DeprecationWarning: `should_run_async` will not call `transform_cell` automatically in the future. Please pass the result to `transformed_cell` argument and any exception that happen during thetransform in `preprocessing_exc_tuple` in IPython 7.17 and above.\n",
      "  and should_run_async(code)\n"
     ]
    }
   ],
   "source": [
    "#df_device[df_device['logID']=='log_00000010']"
   ]
  },
  {
   "cell_type": "code",
   "execution_count": 13,
   "metadata": {},
   "outputs": [
    {
     "name": "stderr",
     "output_type": "stream",
     "text": [
      "C:\\Users\\camil\\anaconda3\\lib\\site-packages\\ipykernel\\ipkernel.py:283: DeprecationWarning: `should_run_async` will not call `transform_cell` automatically in the future. Please pass the result to `transformed_cell` argument and any exception that happen during thetransform in `preprocessing_exc_tuple` in IPython 7.17 and above.\n",
      "  and should_run_async(code)\n"
     ]
    }
   ],
   "source": [
    "#an error might be cause if the alst row was not complet when the file was downloaded"
   ]
  },
  {
   "cell_type": "code",
   "execution_count": 14,
   "metadata": {},
   "outputs": [
    {
     "name": "stderr",
     "output_type": "stream",
     "text": [
      "C:\\Users\\camil\\anaconda3\\lib\\site-packages\\ipykernel\\ipkernel.py:283: DeprecationWarning: `should_run_async` will not call `transform_cell` automatically in the future. Please pass the result to `transformed_cell` argument and any exception that happen during thetransform in `preprocessing_exc_tuple` in IPython 7.17 and above.\n",
      "  and should_run_async(code)\n"
     ]
    }
   ],
   "source": [
    "#df_device[df_device['sort']=='Marker'][['code','sender','system']].drop_duplicates() #all actives at least once"
   ]
  },
  {
   "cell_type": "code",
   "execution_count": 15,
   "metadata": {},
   "outputs": [
    {
     "name": "stderr",
     "output_type": "stream",
     "text": [
      "C:\\Users\\camil\\anaconda3\\lib\\site-packages\\ipykernel\\ipkernel.py:283: DeprecationWarning: `should_run_async` will not call `transform_cell` automatically in the future. Please pass the result to `transformed_cell` argument and any exception that happen during thetransform in `preprocessing_exc_tuple` in IPython 7.17 and above.\n",
      "  and should_run_async(code)\n"
     ]
    }
   ],
   "source": [
    "#df_device[(df_device['sort']=='Tag')&(df_device['Battery Voltage']<0)]"
   ]
  },
  {
   "cell_type": "markdown",
   "metadata": {},
   "source": [
    "# Use only the last few days"
   ]
  },
  {
   "cell_type": "code",
   "execution_count": 16,
   "metadata": {},
   "outputs": [
    {
     "name": "stderr",
     "output_type": "stream",
     "text": [
      "C:\\Users\\camil\\anaconda3\\lib\\site-packages\\ipykernel\\ipkernel.py:283: DeprecationWarning: `should_run_async` will not call `transform_cell` automatically in the future. Please pass the result to `transformed_cell` argument and any exception that happen during thetransform in `preprocessing_exc_tuple` in IPython 7.17 and above.\n",
      "  and should_run_async(code)\n"
     ]
    },
    {
     "data": {
      "text/plain": [
       "array([datetime.date(2021, 7, 20), datetime.date(2021, 7, 21),\n",
       "       datetime.date(2021, 7, 22), datetime.date(2021, 7, 23),\n",
       "       datetime.date(2021, 7, 24), datetime.date(2021, 7, 25)],\n",
       "      dtype=object)"
      ]
     },
     "execution_count": 16,
     "metadata": {},
     "output_type": "execute_result"
    }
   ],
   "source": [
    "download_time = max(df_device['Timestamp'].tolist())\n",
    "\n",
    "#remove the days we dont want\n",
    "df_device['to_analyse'] = df_device['Timestamp'].map(lambda x: x>=(download_time-dt.timedelta(days=over_last_Xdays)))\n",
    "df_device = df_device[df_device['to_analyse']]\n",
    "\n",
    "path_daily_ver = os.path.join(path_extracted_data_daily_check,str(download_time).split(' ')[0])\n",
    "#create a director if not existing\n",
    "if not os.path.exists(path_daily_ver):\n",
    "    os.makedirs(path_daily_ver)\n",
    "\n",
    "#keep only the last over_last_Xdays days in the logs\n",
    "df['to_analyse'] = df['Timestamp'].map(lambda x: x>=(download_time-dt.timedelta(days=over_last_Xdays)))\n",
    "df = df[df['to_analyse']]\n",
    "df[df['to_analyse']]['date'].unique()    "
   ]
  },
  {
   "cell_type": "code",
   "execution_count": 17,
   "metadata": {},
   "outputs": [
    {
     "name": "stderr",
     "output_type": "stream",
     "text": [
      "C:\\Users\\camil\\anaconda3\\lib\\site-packages\\ipykernel\\ipkernel.py:283: DeprecationWarning: `should_run_async` will not call `transform_cell` automatically in the future. Please pass the result to `transformed_cell` argument and any exception that happen during thetransform in `preprocessing_exc_tuple` in IPython 7.17 and above.\n",
      "  and should_run_async(code)\n"
     ]
    },
    {
     "data": {
      "text/plain": [
       "Timestamp('2021-07-26 18:38:00')"
      ]
     },
     "execution_count": 17,
     "metadata": {},
     "output_type": "execute_result"
    }
   ],
   "source": [
    "download_time"
   ]
  },
  {
   "cell_type": "markdown",
   "metadata": {},
   "source": [
    "# Tags last records"
   ]
  },
  {
   "cell_type": "code",
   "execution_count": 18,
   "metadata": {
    "scrolled": false
   },
   "outputs": [
    {
     "name": "stderr",
     "output_type": "stream",
     "text": [
      "C:\\Users\\camil\\anaconda3\\lib\\site-packages\\ipykernel\\ipkernel.py:283: DeprecationWarning: `should_run_async` will not call `transform_cell` automatically in the future. Please pass the result to `transformed_cell` argument and any exception that happen during thetransform in `preprocessing_exc_tuple` in IPython 7.17 and above.\n",
      "  and should_run_async(code)\n"
     ]
    },
    {
     "name": "stdout",
     "output_type": "stream",
     "text": [
      "(3, 2) (152, 5)\n",
      "(155, 5)\n",
      "------------- Tags with no records since at least 10 hours: -------------\n",
      "There is 155 such tags, we will print a maximum of 50 line (starting form the worst ones)\n",
      "There is 155 tags with at least one issue\n"
     ]
    },
    {
     "data": {
      "text/html": [
       "<div>\n",
       "<style scoped>\n",
       "    .dataframe tbody tr th:only-of-type {\n",
       "        vertical-align: middle;\n",
       "    }\n",
       "\n",
       "    .dataframe tbody tr th {\n",
       "        vertical-align: top;\n",
       "    }\n",
       "\n",
       "    .dataframe thead th {\n",
       "        text-align: right;\n",
       "    }\n",
       "</style>\n",
       "<table border=\"1\" class=\"dataframe\">\n",
       "  <thead>\n",
       "    <tr style=\"text-align: right;\">\n",
       "      <th></th>\n",
       "      <th>TagID</th>\n",
       "      <th>PenID</th>\n",
       "      <th>last_record_timestamp</th>\n",
       "      <th>nbr_h_since_lastrecord</th>\n",
       "    </tr>\n",
       "  </thead>\n",
       "  <tbody>\n",
       "    <tr>\n",
       "      <th>2</th>\n",
       "      <td>154</td>\n",
       "      <td>NaN</td>\n",
       "      <td>NaT</td>\n",
       "      <td>9999</td>\n",
       "    </tr>\n",
       "    <tr>\n",
       "      <th>1</th>\n",
       "      <td>102</td>\n",
       "      <td>NaN</td>\n",
       "      <td>NaT</td>\n",
       "      <td>9999</td>\n",
       "    </tr>\n",
       "    <tr>\n",
       "      <th>0</th>\n",
       "      <td>165</td>\n",
       "      <td>NaN</td>\n",
       "      <td>NaT</td>\n",
       "      <td>9999</td>\n",
       "    </tr>\n",
       "    <tr>\n",
       "      <th>19</th>\n",
       "      <td>130</td>\n",
       "      <td>10</td>\n",
       "      <td>2021-07-21 06:58:51</td>\n",
       "      <td>131</td>\n",
       "    </tr>\n",
       "    <tr>\n",
       "      <th>150</th>\n",
       "      <td>98</td>\n",
       "      <td>9</td>\n",
       "      <td>2021-07-21 12:39:10</td>\n",
       "      <td>125</td>\n",
       "    </tr>\n",
       "    <tr>\n",
       "      <th>39</th>\n",
       "      <td>15</td>\n",
       "      <td>3</td>\n",
       "      <td>2021-07-25 03:40:14</td>\n",
       "      <td>38</td>\n",
       "    </tr>\n",
       "    <tr>\n",
       "      <th>25</th>\n",
       "      <td>136</td>\n",
       "      <td>10</td>\n",
       "      <td>2021-07-25 07:54:17</td>\n",
       "      <td>34</td>\n",
       "    </tr>\n",
       "    <tr>\n",
       "      <th>23</th>\n",
       "      <td>134</td>\n",
       "      <td>10</td>\n",
       "      <td>2021-07-25 09:00:33</td>\n",
       "      <td>33</td>\n",
       "    </tr>\n",
       "    <tr>\n",
       "      <th>14</th>\n",
       "      <td>125</td>\n",
       "      <td>10</td>\n",
       "      <td>2021-07-25 11:24:08</td>\n",
       "      <td>31</td>\n",
       "    </tr>\n",
       "    <tr>\n",
       "      <th>132</th>\n",
       "      <td>68</td>\n",
       "      <td>8</td>\n",
       "      <td>2021-07-25 12:00:40</td>\n",
       "      <td>30</td>\n",
       "    </tr>\n",
       "    <tr>\n",
       "      <th>143</th>\n",
       "      <td>85</td>\n",
       "      <td>9</td>\n",
       "      <td>2021-07-25 12:33:44</td>\n",
       "      <td>30</td>\n",
       "    </tr>\n",
       "    <tr>\n",
       "      <th>89</th>\n",
       "      <td>208</td>\n",
       "      <td>9</td>\n",
       "      <td>2021-07-25 12:46:43</td>\n",
       "      <td>29</td>\n",
       "    </tr>\n",
       "    <tr>\n",
       "      <th>56</th>\n",
       "      <td>169</td>\n",
       "      <td>12</td>\n",
       "      <td>2021-07-25 13:50:37</td>\n",
       "      <td>28</td>\n",
       "    </tr>\n",
       "    <tr>\n",
       "      <th>64</th>\n",
       "      <td>18</td>\n",
       "      <td>3</td>\n",
       "      <td>2021-07-25 13:55:28</td>\n",
       "      <td>28</td>\n",
       "    </tr>\n",
       "    <tr>\n",
       "      <th>11</th>\n",
       "      <td>121</td>\n",
       "      <td>5</td>\n",
       "      <td>2021-07-25 14:30:05</td>\n",
       "      <td>28</td>\n",
       "    </tr>\n",
       "    <tr>\n",
       "      <th>72</th>\n",
       "      <td>19</td>\n",
       "      <td>4</td>\n",
       "      <td>2021-07-25 14:27:59</td>\n",
       "      <td>28</td>\n",
       "    </tr>\n",
       "    <tr>\n",
       "      <th>51</th>\n",
       "      <td>162</td>\n",
       "      <td>12</td>\n",
       "      <td>2021-07-25 14:47:18</td>\n",
       "      <td>27</td>\n",
       "    </tr>\n",
       "    <tr>\n",
       "      <th>49</th>\n",
       "      <td>160</td>\n",
       "      <td>12</td>\n",
       "      <td>2021-07-25 14:52:41</td>\n",
       "      <td>27</td>\n",
       "    </tr>\n",
       "    <tr>\n",
       "      <th>66</th>\n",
       "      <td>182</td>\n",
       "      <td>11</td>\n",
       "      <td>2021-07-25 15:31:29</td>\n",
       "      <td>27</td>\n",
       "    </tr>\n",
       "    <tr>\n",
       "      <th>88</th>\n",
       "      <td>207</td>\n",
       "      <td>8</td>\n",
       "      <td>2021-07-25 15:19:11</td>\n",
       "      <td>27</td>\n",
       "    </tr>\n",
       "    <tr>\n",
       "      <th>124</th>\n",
       "      <td>6</td>\n",
       "      <td>3</td>\n",
       "      <td>2021-07-25 14:49:17</td>\n",
       "      <td>27</td>\n",
       "    </tr>\n",
       "    <tr>\n",
       "      <th>102</th>\n",
       "      <td>36</td>\n",
       "      <td>4</td>\n",
       "      <td>2021-07-25 15:56:12</td>\n",
       "      <td>26</td>\n",
       "    </tr>\n",
       "    <tr>\n",
       "      <th>33</th>\n",
       "      <td>143</td>\n",
       "      <td>11</td>\n",
       "      <td>2021-07-25 15:56:20</td>\n",
       "      <td>26</td>\n",
       "    </tr>\n",
       "    <tr>\n",
       "      <th>53</th>\n",
       "      <td>164</td>\n",
       "      <td>12</td>\n",
       "      <td>2021-07-25 15:48:55</td>\n",
       "      <td>26</td>\n",
       "    </tr>\n",
       "    <tr>\n",
       "      <th>69</th>\n",
       "      <td>186</td>\n",
       "      <td>5</td>\n",
       "      <td>2021-07-25 16:09:40</td>\n",
       "      <td>26</td>\n",
       "    </tr>\n",
       "    <tr>\n",
       "      <th>87</th>\n",
       "      <td>206</td>\n",
       "      <td>8</td>\n",
       "      <td>2021-07-25 16:26:41</td>\n",
       "      <td>26</td>\n",
       "    </tr>\n",
       "    <tr>\n",
       "      <th>83</th>\n",
       "      <td>2</td>\n",
       "      <td>3</td>\n",
       "      <td>2021-07-25 15:58:19</td>\n",
       "      <td>26</td>\n",
       "    </tr>\n",
       "    <tr>\n",
       "      <th>1</th>\n",
       "      <td>105</td>\n",
       "      <td>9</td>\n",
       "      <td>2021-07-25 16:12:09</td>\n",
       "      <td>26</td>\n",
       "    </tr>\n",
       "    <tr>\n",
       "      <th>114</th>\n",
       "      <td>5</td>\n",
       "      <td>3</td>\n",
       "      <td>2021-07-25 16:14:25</td>\n",
       "      <td>26</td>\n",
       "    </tr>\n",
       "    <tr>\n",
       "      <th>116</th>\n",
       "      <td>52</td>\n",
       "      <td>5</td>\n",
       "      <td>2021-07-25 16:06:45</td>\n",
       "      <td>26</td>\n",
       "    </tr>\n",
       "    <tr>\n",
       "      <th>42</th>\n",
       "      <td>152</td>\n",
       "      <td>11</td>\n",
       "      <td>2021-07-25 15:59:11</td>\n",
       "      <td>26</td>\n",
       "    </tr>\n",
       "    <tr>\n",
       "      <th>79</th>\n",
       "      <td>196</td>\n",
       "      <td>8</td>\n",
       "      <td>2021-07-25 16:01:21</td>\n",
       "      <td>26</td>\n",
       "    </tr>\n",
       "    <tr>\n",
       "      <th>123</th>\n",
       "      <td>59</td>\n",
       "      <td>5</td>\n",
       "      <td>2021-07-25 16:24:01</td>\n",
       "      <td>26</td>\n",
       "    </tr>\n",
       "    <tr>\n",
       "      <th>80</th>\n",
       "      <td>197</td>\n",
       "      <td>8</td>\n",
       "      <td>2021-07-25 16:03:25</td>\n",
       "      <td>26</td>\n",
       "    </tr>\n",
       "    <tr>\n",
       "      <th>13</th>\n",
       "      <td>124</td>\n",
       "      <td>10</td>\n",
       "      <td>2021-07-25 15:59:42</td>\n",
       "      <td>26</td>\n",
       "    </tr>\n",
       "    <tr>\n",
       "      <th>129</th>\n",
       "      <td>65</td>\n",
       "      <td>9</td>\n",
       "      <td>2021-07-25 16:14:16</td>\n",
       "      <td>26</td>\n",
       "    </tr>\n",
       "    <tr>\n",
       "      <th>29</th>\n",
       "      <td>14</td>\n",
       "      <td>3</td>\n",
       "      <td>2021-07-25 16:36:33</td>\n",
       "      <td>26</td>\n",
       "    </tr>\n",
       "    <tr>\n",
       "      <th>147</th>\n",
       "      <td>93</td>\n",
       "      <td>9</td>\n",
       "      <td>2021-07-25 15:43:19</td>\n",
       "      <td>26</td>\n",
       "    </tr>\n",
       "    <tr>\n",
       "      <th>10</th>\n",
       "      <td>12</td>\n",
       "      <td>3</td>\n",
       "      <td>2021-07-25 16:21:37</td>\n",
       "      <td>26</td>\n",
       "    </tr>\n",
       "    <tr>\n",
       "      <th>125</th>\n",
       "      <td>60</td>\n",
       "      <td>5</td>\n",
       "      <td>2021-07-25 17:00:38</td>\n",
       "      <td>25</td>\n",
       "    </tr>\n",
       "    <tr>\n",
       "      <th>97</th>\n",
       "      <td>3</td>\n",
       "      <td>3</td>\n",
       "      <td>2021-07-25 17:03:35</td>\n",
       "      <td>25</td>\n",
       "    </tr>\n",
       "    <tr>\n",
       "      <th>93</th>\n",
       "      <td>23</td>\n",
       "      <td>3</td>\n",
       "      <td>2021-07-25 17:09:17</td>\n",
       "      <td>25</td>\n",
       "    </tr>\n",
       "    <tr>\n",
       "      <th>92</th>\n",
       "      <td>22</td>\n",
       "      <td>3</td>\n",
       "      <td>2021-07-25 17:07:31</td>\n",
       "      <td>25</td>\n",
       "    </tr>\n",
       "    <tr>\n",
       "      <th>140</th>\n",
       "      <td>79</td>\n",
       "      <td>8</td>\n",
       "      <td>2021-07-25 17:01:42</td>\n",
       "      <td>25</td>\n",
       "    </tr>\n",
       "    <tr>\n",
       "      <th>91</th>\n",
       "      <td>21</td>\n",
       "      <td>3</td>\n",
       "      <td>2021-07-25 17:11:30</td>\n",
       "      <td>25</td>\n",
       "    </tr>\n",
       "    <tr>\n",
       "      <th>141</th>\n",
       "      <td>8</td>\n",
       "      <td>3</td>\n",
       "      <td>2021-07-25 17:30:26</td>\n",
       "      <td>25</td>\n",
       "    </tr>\n",
       "    <tr>\n",
       "      <th>90</th>\n",
       "      <td>209</td>\n",
       "      <td>8</td>\n",
       "      <td>2021-07-25 17:21:18</td>\n",
       "      <td>25</td>\n",
       "    </tr>\n",
       "    <tr>\n",
       "      <th>142</th>\n",
       "      <td>83</td>\n",
       "      <td>8</td>\n",
       "      <td>2021-07-25 17:07:10</td>\n",
       "      <td>25</td>\n",
       "    </tr>\n",
       "    <tr>\n",
       "      <th>145</th>\n",
       "      <td>9</td>\n",
       "      <td>3</td>\n",
       "      <td>2021-07-25 16:47:38</td>\n",
       "      <td>25</td>\n",
       "    </tr>\n",
       "    <tr>\n",
       "      <th>99</th>\n",
       "      <td>32</td>\n",
       "      <td>4</td>\n",
       "      <td>2021-07-25 17:00:26</td>\n",
       "      <td>25</td>\n",
       "    </tr>\n",
       "  </tbody>\n",
       "</table>\n",
       "</div>"
      ],
      "text/plain": [
       "    TagID PenID last_record_timestamp  nbr_h_since_lastrecord\n",
       "2     154   NaN                   NaT                    9999\n",
       "1     102   NaN                   NaT                    9999\n",
       "0     165   NaN                   NaT                    9999\n",
       "19    130    10   2021-07-21 06:58:51                     131\n",
       "150    98     9   2021-07-21 12:39:10                     125\n",
       "39     15     3   2021-07-25 03:40:14                      38\n",
       "25    136    10   2021-07-25 07:54:17                      34\n",
       "23    134    10   2021-07-25 09:00:33                      33\n",
       "14    125    10   2021-07-25 11:24:08                      31\n",
       "132    68     8   2021-07-25 12:00:40                      30\n",
       "143    85     9   2021-07-25 12:33:44                      30\n",
       "89    208     9   2021-07-25 12:46:43                      29\n",
       "56    169    12   2021-07-25 13:50:37                      28\n",
       "64     18     3   2021-07-25 13:55:28                      28\n",
       "11    121     5   2021-07-25 14:30:05                      28\n",
       "72     19     4   2021-07-25 14:27:59                      28\n",
       "51    162    12   2021-07-25 14:47:18                      27\n",
       "49    160    12   2021-07-25 14:52:41                      27\n",
       "66    182    11   2021-07-25 15:31:29                      27\n",
       "88    207     8   2021-07-25 15:19:11                      27\n",
       "124     6     3   2021-07-25 14:49:17                      27\n",
       "102    36     4   2021-07-25 15:56:12                      26\n",
       "33    143    11   2021-07-25 15:56:20                      26\n",
       "53    164    12   2021-07-25 15:48:55                      26\n",
       "69    186     5   2021-07-25 16:09:40                      26\n",
       "87    206     8   2021-07-25 16:26:41                      26\n",
       "83      2     3   2021-07-25 15:58:19                      26\n",
       "1     105     9   2021-07-25 16:12:09                      26\n",
       "114     5     3   2021-07-25 16:14:25                      26\n",
       "116    52     5   2021-07-25 16:06:45                      26\n",
       "42    152    11   2021-07-25 15:59:11                      26\n",
       "79    196     8   2021-07-25 16:01:21                      26\n",
       "123    59     5   2021-07-25 16:24:01                      26\n",
       "80    197     8   2021-07-25 16:03:25                      26\n",
       "13    124    10   2021-07-25 15:59:42                      26\n",
       "129    65     9   2021-07-25 16:14:16                      26\n",
       "29     14     3   2021-07-25 16:36:33                      26\n",
       "147    93     9   2021-07-25 15:43:19                      26\n",
       "10     12     3   2021-07-25 16:21:37                      26\n",
       "125    60     5   2021-07-25 17:00:38                      25\n",
       "97      3     3   2021-07-25 17:03:35                      25\n",
       "93     23     3   2021-07-25 17:09:17                      25\n",
       "92     22     3   2021-07-25 17:07:31                      25\n",
       "140    79     8   2021-07-25 17:01:42                      25\n",
       "91     21     3   2021-07-25 17:11:30                      25\n",
       "141     8     3   2021-07-25 17:30:26                      25\n",
       "90    209     8   2021-07-25 17:21:18                      25\n",
       "142    83     8   2021-07-25 17:07:10                      25\n",
       "145     9     3   2021-07-25 16:47:38                      25\n",
       "99     32     4   2021-07-25 17:00:26                      25"
      ]
     },
     "execution_count": 18,
     "metadata": {},
     "output_type": "execute_result"
    }
   ],
   "source": [
    "#tags last records and active tags with no records\n",
    "df_ = df[df['TagID'].isin(li_active_tags)].groupby(['TagID','PenID'])['Timestamp'].agg(lambda x: list(x)).reset_index()\n",
    "df_['last_record_timestamp'] = df_['Timestamp'].map(lambda x: max(x))\n",
    "df_['nbr_h_since_lastrecord'] = df_['last_record_timestamp'].map(lambda x: int((download_time-x).total_seconds()/60/60))\n",
    "\n",
    "#add active tags that had no transition at all\n",
    "li_no_transition = [i for i in li_active_tags if i not in df['TagID'].unique()]\n",
    "df_no_transition = pd.DataFrame([{'TagID':tag_, 'nbr_h_since_lastrecord':9999} for tag_ in li_no_transition])\n",
    "print(df_no_transition.shape, df_.shape)\n",
    "df_ = pd.concat([df_, df_no_transition])\n",
    "print(df_.shape)\n",
    "#remove the older row of tags taht appear two times (i.e. if they changed pens for example)\n",
    "df_.sort_values(['nbr_h_since_lastrecord'], ascending=False, inplace=True)\n",
    "df_.drop_duplicates(subset=['TagID'], keep='last', inplace=True)\n",
    "df_[['TagID','PenID','last_record_timestamp','nbr_h_since_lastrecord']].to_csv(os.path.join(path_daily_ver, \n",
    "                                                                           id_run+str(download_time).split(' ')[0]+'h_TagsLastRecords.csv'), \n",
    "                                                              sep=';', index=False)\n",
    "\n",
    "h = 10\n",
    "print('------------- Tags with no records since at least %d hours: -------------'%h)\n",
    "print('There is %d such tags, we will print a maximum of 50 line (starting form the worst ones)'%df_[df_['nbr_h_since_lastrecord']>h].shape[0])\n",
    "li_tag_issues = df_[df_['nbr_h_since_lastrecord']>h][['TagID','PenID','last_record_timestamp','nbr_h_since_lastrecord']]['TagID'].tolist()\n",
    "print('There is %d tags with at least one issue'%len(set(li_tag_issues)))\n",
    "df_tag_summary = df_.copy()\n",
    "df_[df_['nbr_h_since_lastrecord']>h][['TagID','PenID','last_record_timestamp','nbr_h_since_lastrecord']].head(50)"
   ]
  },
  {
   "cell_type": "code",
   "execution_count": 19,
   "metadata": {},
   "outputs": [
    {
     "name": "stderr",
     "output_type": "stream",
     "text": [
      "C:\\Users\\camil\\anaconda3\\lib\\site-packages\\ipykernel\\ipkernel.py:283: DeprecationWarning: `should_run_async` will not call `transform_cell` automatically in the future. Please pass the result to `transformed_cell` argument and any exception that happen during thetransform in `preprocessing_exc_tuple` in IPython 7.17 and above.\n",
      "  and should_run_async(code)\n"
     ]
    }
   ],
   "source": [
    "#df[df['TagID']=='19'] #10.04 morning: verify in video\n",
    "#df_device[df_device['sender']=='29']"
   ]
  },
  {
   "cell_type": "markdown",
   "metadata": {},
   "source": [
    "# Reader last update"
   ]
  },
  {
   "cell_type": "markdown",
   "metadata": {},
   "source": [
    "#understand how the device logs are\n",
    "df_test = df_device.groupby('code')['system'].agg(lambda x: len(set(x))).reset_index()\n",
    "df_test[df_test['system']>1] #--> no code in two system!!\n",
    "#importantly:\n",
    "df_device[df_device['sort']!='Tag'].groupby(['sender'])['system','code','sort'].agg(lambda x: set(x)).reset_index()"
   ]
  },
  {
   "cell_type": "code",
   "execution_count": 20,
   "metadata": {},
   "outputs": [
    {
     "name": "stdout",
     "output_type": "stream",
     "text": [
      "The last read out from the reader of Reader Pen 3-5 arrived at: 2021-07-26 18:17:55\n",
      "The last read out from the reader of Reader Pen 8-9 arrived at: 2021-07-26 18:37:44\n",
      "The last read out from the reader of Reader Pen 10-12 arrived at: 2021-07-26 15:36:56\n"
     ]
    },
    {
     "name": "stderr",
     "output_type": "stream",
     "text": [
      "C:\\Users\\camil\\anaconda3\\lib\\site-packages\\ipykernel\\ipkernel.py:283: DeprecationWarning: `should_run_async` will not call `transform_cell` automatically in the future. Please pass the result to `transformed_cell` argument and any exception that happen during thetransform in `preprocessing_exc_tuple` in IPython 7.17 and above.\n",
      "  and should_run_async(code)\n"
     ]
    }
   ],
   "source": [
    "for reader_code in dico_rc_sys.keys():\n",
    "    print(\"The last read out from the reader of %s arrived at: %s\"%(dico_rc_sys[reader_code],\n",
    "                                                    str(max(df_device[df_device['code']==reader_code]['LastAction'].tolist()))))"
   ]
  },
  {
   "cell_type": "markdown",
   "metadata": {},
   "source": [
    "#cleaning step: remove days for specific hens when the tag was not sending output regularly anymore\n",
    "df_test = df_device[df_device['sort']=='Tag'].copy()\n",
    "df_test['date'] = df_test['Timestamp'].map(lambda x: dt.datetime.date(x))\n",
    "df_test = df_test.groupby(['sender','date','hour'])['LastAction'].agg(lambda x: list(x)).reset_index()\n",
    "df_test.rename(columns={'sender':'TagID'}, inplace=True)\n",
    "df_test['nbr_last_action']\n",
    "#last action biggest gap\n",
    "print(df_test.shape)\n",
    "df_test.head(3)"
   ]
  },
  {
   "cell_type": "markdown",
   "metadata": {},
   "source": [
    "## LF Counter"
   ]
  },
  {
   "cell_type": "code",
   "execution_count": 21,
   "metadata": {},
   "outputs": [
    {
     "name": "stderr",
     "output_type": "stream",
     "text": [
      "C:\\Users\\camil\\anaconda3\\lib\\site-packages\\ipykernel\\ipkernel.py:283: DeprecationWarning: `should_run_async` will not call `transform_cell` automatically in the future. Please pass the result to `transformed_cell` argument and any exception that happen during thetransform in `preprocessing_exc_tuple` in IPython 7.17 and above.\n",
      "  and should_run_async(code)\n"
     ]
    },
    {
     "name": "stdout",
     "output_type": "stream",
     "text": [
      "(1085, 5)\n"
     ]
    },
    {
     "data": {
      "text/html": [
       "<div>\n",
       "<style scoped>\n",
       "    .dataframe tbody tr th:only-of-type {\n",
       "        vertical-align: middle;\n",
       "    }\n",
       "\n",
       "    .dataframe tbody tr th {\n",
       "        vertical-align: top;\n",
       "    }\n",
       "\n",
       "    .dataframe thead th {\n",
       "        text-align: right;\n",
       "    }\n",
       "</style>\n",
       "<table border=\"1\" class=\"dataframe\">\n",
       "  <thead>\n",
       "    <tr style=\"text-align: right;\">\n",
       "      <th></th>\n",
       "      <th>sender</th>\n",
       "      <th>date</th>\n",
       "      <th>LFCounter_nbr_equal0</th>\n",
       "    </tr>\n",
       "  </thead>\n",
       "  <tbody>\n",
       "    <tr>\n",
       "      <th>0</th>\n",
       "      <td>102</td>\n",
       "      <td>[2021-07-20, 2021-07-21, 2021-07-22, 2021-07-2...</td>\n",
       "      <td>[32, 144, 144, 144, 144, 144, 112]</td>\n",
       "    </tr>\n",
       "    <tr>\n",
       "      <th>1</th>\n",
       "      <td>104</td>\n",
       "      <td>[2021-07-26]</td>\n",
       "      <td>[25]</td>\n",
       "    </tr>\n",
       "    <tr>\n",
       "      <th>2</th>\n",
       "      <td>105</td>\n",
       "      <td>[2021-07-26]</td>\n",
       "      <td>[31]</td>\n",
       "    </tr>\n",
       "    <tr>\n",
       "      <th>3</th>\n",
       "      <td>106</td>\n",
       "      <td>[2021-07-26]</td>\n",
       "      <td>[28]</td>\n",
       "    </tr>\n",
       "    <tr>\n",
       "      <th>4</th>\n",
       "      <td>107</td>\n",
       "      <td>[2021-07-21, 2021-07-22, 2021-07-23, 2021-07-26]</td>\n",
       "      <td>[12, 15, 52, 31]</td>\n",
       "    </tr>\n",
       "    <tr>\n",
       "      <th>...</th>\n",
       "      <td>...</td>\n",
       "      <td>...</td>\n",
       "      <td>...</td>\n",
       "    </tr>\n",
       "    <tr>\n",
       "      <th>148</th>\n",
       "      <td>91</td>\n",
       "      <td>[2021-07-26]</td>\n",
       "      <td>[21]</td>\n",
       "    </tr>\n",
       "    <tr>\n",
       "      <th>149</th>\n",
       "      <td>93</td>\n",
       "      <td>[2021-07-26]</td>\n",
       "      <td>[28]</td>\n",
       "    </tr>\n",
       "    <tr>\n",
       "      <th>150</th>\n",
       "      <td>94</td>\n",
       "      <td>[2021-07-26]</td>\n",
       "      <td>[25]</td>\n",
       "    </tr>\n",
       "    <tr>\n",
       "      <th>151</th>\n",
       "      <td>95</td>\n",
       "      <td>[2021-07-26]</td>\n",
       "      <td>[33]</td>\n",
       "    </tr>\n",
       "    <tr>\n",
       "      <th>152</th>\n",
       "      <td>99</td>\n",
       "      <td>[2021-07-26]</td>\n",
       "      <td>[26]</td>\n",
       "    </tr>\n",
       "  </tbody>\n",
       "</table>\n",
       "<p>153 rows × 3 columns</p>\n",
       "</div>"
      ],
      "text/plain": [
       "    sender                                               date  \\\n",
       "0      102  [2021-07-20, 2021-07-21, 2021-07-22, 2021-07-2...   \n",
       "1      104                                       [2021-07-26]   \n",
       "2      105                                       [2021-07-26]   \n",
       "3      106                                       [2021-07-26]   \n",
       "4      107   [2021-07-21, 2021-07-22, 2021-07-23, 2021-07-26]   \n",
       "..     ...                                                ...   \n",
       "148     91                                       [2021-07-26]   \n",
       "149     93                                       [2021-07-26]   \n",
       "150     94                                       [2021-07-26]   \n",
       "151     95                                       [2021-07-26]   \n",
       "152     99                                       [2021-07-26]   \n",
       "\n",
       "                   LFCounter_nbr_equal0  \n",
       "0    [32, 144, 144, 144, 144, 144, 112]  \n",
       "1                                  [25]  \n",
       "2                                  [31]  \n",
       "3                                  [28]  \n",
       "4                      [12, 15, 52, 31]  \n",
       "..                                  ...  \n",
       "148                                [21]  \n",
       "149                                [28]  \n",
       "150                                [25]  \n",
       "151                                [33]  \n",
       "152                                [26]  \n",
       "\n",
       "[153 rows x 3 columns]"
      ]
     },
     "execution_count": 21,
     "metadata": {},
     "output_type": "execute_result"
    }
   ],
   "source": [
    "df_LFCoutner = df_device[df_device['sort']=='Tag'].copy()\n",
    "df_LFCoutner['date'] = df_LFCoutner['Timestamp'].map(lambda x: dt.datetime.date(x))\n",
    "#df_LFCoutner['is_day'] = df_LFCoutner['Timestamp'].map(lambda x: is_day(x, config.dico_night_hour))\n",
    "df_LFCoutner = df_LFCoutner.groupby(['sender','date'])['LFCounter'].agg(lambda x: sorted(list(x))).reset_index()\n",
    "df_LFCoutner['LFCounter_nbr_equal0'] = df_LFCoutner['LFCounter'].map(lambda x: sum([i==0 for i in x]))\n",
    "df_LFCoutner['LFCounter_atleastone0'] = df_LFCoutner['LFCounter_nbr_equal0'].map(lambda x: x>0)\n",
    "print(df_LFCoutner.shape)\n",
    "df_ = df_LFCoutner[df_LFCoutner['LFCounter_atleastone0']].groupby(['sender'])[['date',\n",
    "                                                                'LFCounter_nbr_equal0']].agg(lambda x: list(x)).reset_index()\n",
    "df_.to_csv(os.path.join(path_daily_ver, id_run+str(download_time).split(' ')[0]+'_LFCounterEqual0.csv'),sep=';')\n",
    "df_"
   ]
  },
  {
   "cell_type": "markdown",
   "metadata": {},
   "source": [
    "# Device Last update"
   ]
  },
  {
   "cell_type": "code",
   "execution_count": 22,
   "metadata": {},
   "outputs": [
    {
     "name": "stderr",
     "output_type": "stream",
     "text": [
      "C:\\Users\\camil\\anaconda3\\lib\\site-packages\\ipykernel\\ipkernel.py:283: DeprecationWarning: `should_run_async` will not call `transform_cell` automatically in the future. Please pass the result to `transformed_cell` argument and any exception that happen during thetransform in `preprocessing_exc_tuple` in IPython 7.17 and above.\n",
      "  and should_run_async(code)\n"
     ]
    }
   ],
   "source": [
    "#TODO\n",
    "#New data!!!: plt.hist(df_device['MovementCounter'].dropna(),bins='auto');\n",
    "#plt.hist(df_device['Temperature'].dropna(),bins=30);"
   ]
  },
  {
   "cell_type": "markdown",
   "metadata": {},
   "source": [
    "## biggest gap over the entire day"
   ]
  },
  {
   "cell_type": "code",
   "execution_count": 23,
   "metadata": {},
   "outputs": [
    {
     "name": "stderr",
     "output_type": "stream",
     "text": [
      "C:\\Users\\camil\\anaconda3\\lib\\site-packages\\ipykernel\\ipkernel.py:283: DeprecationWarning: `should_run_async` will not call `transform_cell` automatically in the future. Please pass the result to `transformed_cell` argument and any exception that happen during thetransform in `preprocessing_exc_tuple` in IPython 7.17 and above.\n",
      "  and should_run_async(code)\n"
     ]
    },
    {
     "name": "stdout",
     "output_type": "stream",
     "text": [
      "(1085, 6)\n"
     ]
    },
    {
     "data": {
      "text/html": [
       "<div>\n",
       "<style scoped>\n",
       "    .dataframe tbody tr th:only-of-type {\n",
       "        vertical-align: middle;\n",
       "    }\n",
       "\n",
       "    .dataframe tbody tr th {\n",
       "        vertical-align: top;\n",
       "    }\n",
       "\n",
       "    .dataframe thead th {\n",
       "        text-align: right;\n",
       "    }\n",
       "</style>\n",
       "<table border=\"1\" class=\"dataframe\">\n",
       "  <thead>\n",
       "    <tr style=\"text-align: right;\">\n",
       "      <th></th>\n",
       "      <th>sender</th>\n",
       "      <th>date</th>\n",
       "      <th>LastAction</th>\n",
       "      <th>li_gap_of_the_day_tsstarted</th>\n",
       "      <th>biggest_gap_of_day_mn</th>\n",
       "      <th>start_biggest_gap_of_day</th>\n",
       "    </tr>\n",
       "  </thead>\n",
       "  <tbody>\n",
       "    <tr>\n",
       "      <th>1</th>\n",
       "      <td>102</td>\n",
       "      <td>2021-07-21</td>\n",
       "      <td>[2021-06-25 06:19:44, 2021-06-25 06:19:44, 202...</td>\n",
       "      <td>{2021-06-25 06:19:44: 2285880.0, 2021-07-21 17...</td>\n",
       "      <td>38098.0</td>\n",
       "      <td>2021-06-25 06:19:44</td>\n",
       "    </tr>\n",
       "    <tr>\n",
       "      <th>2</th>\n",
       "      <td>102</td>\n",
       "      <td>2021-07-22</td>\n",
       "      <td>[2021-07-21 17:17:44, 2021-07-21 17:17:44, 202...</td>\n",
       "      <td>{2021-07-21 17:17:44: 52676.0, 2021-07-22 07:5...</td>\n",
       "      <td>878.0</td>\n",
       "      <td>2021-07-21 17:17:44</td>\n",
       "    </tr>\n",
       "    <tr>\n",
       "      <th>6</th>\n",
       "      <td>102</td>\n",
       "      <td>2021-07-26</td>\n",
       "      <td>[2021-07-22 07:55:40, 2021-07-22 07:55:40, 202...</td>\n",
       "      <td>{2021-07-22 07:55:40: 347738.0, 2021-07-26 08:...</td>\n",
       "      <td>5796.0</td>\n",
       "      <td>2021-07-22 07:55:40</td>\n",
       "    </tr>\n",
       "    <tr>\n",
       "      <th>20</th>\n",
       "      <td>105</td>\n",
       "      <td>2021-07-26</td>\n",
       "      <td>[2021-07-26 00:07:32, 2021-07-26 00:17:47, 202...</td>\n",
       "      <td>{2021-07-26 00:07:32: 615.0, 2021-07-26 00:17:...</td>\n",
       "      <td>18.0</td>\n",
       "      <td>2021-07-26 13:08:54</td>\n",
       "    </tr>\n",
       "    <tr>\n",
       "      <th>29</th>\n",
       "      <td>107</td>\n",
       "      <td>2021-07-21</td>\n",
       "      <td>[2021-07-21 00:06:20, 2021-07-21 00:16:22, 202...</td>\n",
       "      <td>{2021-07-21 00:06:20: 602.0, 2021-07-21 00:16:...</td>\n",
       "      <td>14.0</td>\n",
       "      <td>2021-07-21 18:53:11</td>\n",
       "    </tr>\n",
       "    <tr>\n",
       "      <th>...</th>\n",
       "      <td>...</td>\n",
       "      <td>...</td>\n",
       "      <td>...</td>\n",
       "      <td>...</td>\n",
       "      <td>...</td>\n",
       "      <td>...</td>\n",
       "    </tr>\n",
       "    <tr>\n",
       "      <th>972</th>\n",
       "      <td>73</td>\n",
       "      <td>2021-07-26</td>\n",
       "      <td>[2021-07-26 00:02:59, 2021-07-26 00:13:07, 202...</td>\n",
       "      <td>{2021-07-26 00:02:59: 608.0, 2021-07-26 00:13:...</td>\n",
       "      <td>26.0</td>\n",
       "      <td>2021-07-26 09:55:12</td>\n",
       "    </tr>\n",
       "    <tr>\n",
       "      <th>1007</th>\n",
       "      <td>79</td>\n",
       "      <td>2021-07-26</td>\n",
       "      <td>[2021-07-26 00:06:53, 2021-07-26 00:17:09, 202...</td>\n",
       "      <td>{2021-07-26 00:06:53: 616.0, 2021-07-26 00:17:...</td>\n",
       "      <td>20.0</td>\n",
       "      <td>2021-07-26 08:47:04</td>\n",
       "    </tr>\n",
       "    <tr>\n",
       "      <th>1014</th>\n",
       "      <td>8</td>\n",
       "      <td>2021-07-26</td>\n",
       "      <td>[2021-07-26 00:02:07, 2021-07-26 00:12:10, 202...</td>\n",
       "      <td>{2021-07-26 00:02:07: 603.0, 2021-07-26 00:12:...</td>\n",
       "      <td>14.0</td>\n",
       "      <td>2021-07-26 09:48:50</td>\n",
       "    </tr>\n",
       "    <tr>\n",
       "      <th>1035</th>\n",
       "      <td>86</td>\n",
       "      <td>2021-07-26</td>\n",
       "      <td>[2021-07-26 00:07:53, 2021-07-26 00:17:50, 202...</td>\n",
       "      <td>{2021-07-26 00:07:53: 597.0, 2021-07-26 00:17:...</td>\n",
       "      <td>16.0</td>\n",
       "      <td>2021-07-26 08:31:02</td>\n",
       "    </tr>\n",
       "    <tr>\n",
       "      <th>1042</th>\n",
       "      <td>9</td>\n",
       "      <td>2021-07-26</td>\n",
       "      <td>[2021-07-26 00:01:52, 2021-07-26 00:11:52, 202...</td>\n",
       "      <td>{2021-07-26 00:01:52: 600.0, 2021-07-26 00:11:...</td>\n",
       "      <td>28.0</td>\n",
       "      <td>2021-07-26 09:54:29</td>\n",
       "    </tr>\n",
       "  </tbody>\n",
       "</table>\n",
       "<p>115 rows × 6 columns</p>\n",
       "</div>"
      ],
      "text/plain": [
       "     sender        date                                         LastAction  \\\n",
       "1       102  2021-07-21  [2021-06-25 06:19:44, 2021-06-25 06:19:44, 202...   \n",
       "2       102  2021-07-22  [2021-07-21 17:17:44, 2021-07-21 17:17:44, 202...   \n",
       "6       102  2021-07-26  [2021-07-22 07:55:40, 2021-07-22 07:55:40, 202...   \n",
       "20      105  2021-07-26  [2021-07-26 00:07:32, 2021-07-26 00:17:47, 202...   \n",
       "29      107  2021-07-21  [2021-07-21 00:06:20, 2021-07-21 00:16:22, 202...   \n",
       "...     ...         ...                                                ...   \n",
       "972      73  2021-07-26  [2021-07-26 00:02:59, 2021-07-26 00:13:07, 202...   \n",
       "1007     79  2021-07-26  [2021-07-26 00:06:53, 2021-07-26 00:17:09, 202...   \n",
       "1014      8  2021-07-26  [2021-07-26 00:02:07, 2021-07-26 00:12:10, 202...   \n",
       "1035     86  2021-07-26  [2021-07-26 00:07:53, 2021-07-26 00:17:50, 202...   \n",
       "1042      9  2021-07-26  [2021-07-26 00:01:52, 2021-07-26 00:11:52, 202...   \n",
       "\n",
       "                            li_gap_of_the_day_tsstarted  \\\n",
       "1     {2021-06-25 06:19:44: 2285880.0, 2021-07-21 17...   \n",
       "2     {2021-07-21 17:17:44: 52676.0, 2021-07-22 07:5...   \n",
       "6     {2021-07-22 07:55:40: 347738.0, 2021-07-26 08:...   \n",
       "20    {2021-07-26 00:07:32: 615.0, 2021-07-26 00:17:...   \n",
       "29    {2021-07-21 00:06:20: 602.0, 2021-07-21 00:16:...   \n",
       "...                                                 ...   \n",
       "972   {2021-07-26 00:02:59: 608.0, 2021-07-26 00:13:...   \n",
       "1007  {2021-07-26 00:06:53: 616.0, 2021-07-26 00:17:...   \n",
       "1014  {2021-07-26 00:02:07: 603.0, 2021-07-26 00:12:...   \n",
       "1035  {2021-07-26 00:07:53: 597.0, 2021-07-26 00:17:...   \n",
       "1042  {2021-07-26 00:01:52: 600.0, 2021-07-26 00:11:...   \n",
       "\n",
       "      biggest_gap_of_day_mn start_biggest_gap_of_day  \n",
       "1                   38098.0      2021-06-25 06:19:44  \n",
       "2                     878.0      2021-07-21 17:17:44  \n",
       "6                    5796.0      2021-07-22 07:55:40  \n",
       "20                     18.0      2021-07-26 13:08:54  \n",
       "29                     14.0      2021-07-21 18:53:11  \n",
       "...                     ...                      ...  \n",
       "972                    26.0      2021-07-26 09:55:12  \n",
       "1007                   20.0      2021-07-26 08:47:04  \n",
       "1014                   14.0      2021-07-26 09:48:50  \n",
       "1035                   16.0      2021-07-26 08:31:02  \n",
       "1042                   28.0      2021-07-26 09:54:29  \n",
       "\n",
       "[115 rows x 6 columns]"
      ]
     },
     "execution_count": 23,
     "metadata": {},
     "output_type": "execute_result"
    }
   ],
   "source": [
    "df_lastactionGAP = df_device[df_device['sort']=='Tag'].copy()\n",
    "df_lastactionGAP['date'] = df_lastactionGAP['Timestamp'].map(lambda x: dt.datetime.date(x))\n",
    "#df_lastactionGAP['is_day'] = df_lastactionGAP['Timestamp'].map(lambda x: is_day(x, config.dico_night_hour))\n",
    "#df_lastactionGAP = df_lastactionGAP[df_lastactionGAP['is_day']]\n",
    "df_lastactionGAP = df_lastactionGAP.groupby(['sender','date'])['LastAction'].agg(lambda x: sorted(list(x))).reset_index()\n",
    "#last action biggest gap of the day\n",
    "df_lastactionGAP['li_gap_of_the_day_tsstarted'] = df_lastactionGAP['LastAction'].map(lambda x: {x[i]:(x[i+1]-x[i]).total_seconds() for i in range(0,len(x)-1)})\n",
    "df_lastactionGAP['biggest_gap_of_day_mn'] = df_lastactionGAP['li_gap_of_the_day_tsstarted'].map(lambda x: round(max(x.items(), \n",
    "                                                                                         key=operator.itemgetter(1))[1]/60,0))\n",
    "df_lastactionGAP['start_biggest_gap_of_day'] = df_lastactionGAP['li_gap_of_the_day_tsstarted'].map(lambda x: max(x.items(), \n",
    "                                                                                               key=operator.itemgetter(1))[0])\n",
    "df_lastactionGAP.to_csv(os.path.join(path_daily_ver, id_run+str(download_time).split(' ')[0]+'_LastactionGAP.csv'),sep=';')\n",
    "print(df_lastactionGAP.shape)\n",
    "df_lastactionGAP[df_lastactionGAP['biggest_gap_of_day_mn']>12]"
   ]
  },
  {
   "cell_type": "markdown",
   "metadata": {},
   "source": [
    "### very last update"
   ]
  },
  {
   "cell_type": "code",
   "execution_count": 24,
   "metadata": {},
   "outputs": [
    {
     "name": "stderr",
     "output_type": "stream",
     "text": [
      "C:\\Users\\camil\\anaconda3\\lib\\site-packages\\ipykernel\\ipkernel.py:283: DeprecationWarning: `should_run_async` will not call `transform_cell` automatically in the future. Please pass the result to `transformed_cell` argument and any exception that happen during thetransform in `preprocessing_exc_tuple` in IPython 7.17 and above.\n",
      "  and should_run_async(code)\n"
     ]
    },
    {
     "name": "stdout",
     "output_type": "stream",
     "text": [
      "(0, 0) (182, 8)\n",
      "(182, 8)\n",
      "There is 0 device with 0 updates\n",
      "There is 157 tags with at least one issue\n",
      "------------- Device with no update since at least 12 minutes -------------\n"
     ]
    },
    {
     "data": {
      "text/html": [
       "<div>\n",
       "<style scoped>\n",
       "    .dataframe tbody tr th:only-of-type {\n",
       "        vertical-align: middle;\n",
       "    }\n",
       "\n",
       "    .dataframe tbody tr th {\n",
       "        vertical-align: top;\n",
       "    }\n",
       "\n",
       "    .dataframe thead th {\n",
       "        text-align: right;\n",
       "    }\n",
       "</style>\n",
       "<table border=\"1\" class=\"dataframe\">\n",
       "  <thead>\n",
       "    <tr style=\"text-align: right;\">\n",
       "      <th></th>\n",
       "      <th>code</th>\n",
       "      <th>sender</th>\n",
       "      <th>system</th>\n",
       "      <th>sort</th>\n",
       "      <th>last_LastAction</th>\n",
       "      <th>nbr_mn_since_LastUpdate</th>\n",
       "    </tr>\n",
       "  </thead>\n",
       "  <tbody>\n",
       "    <tr>\n",
       "      <th>107</th>\n",
       "      <td>02001E36</td>\n",
       "      <td>165</td>\n",
       "      <td>pens:10 - 12</td>\n",
       "      <td>Tag</td>\n",
       "      <td>2021-07-01 11:04:27</td>\n",
       "      <td>36453.550000</td>\n",
       "    </tr>\n",
       "    <tr>\n",
       "      <th>83</th>\n",
       "      <td>02001E12</td>\n",
       "      <td>154</td>\n",
       "      <td>pens:10 - 12</td>\n",
       "      <td>Tag</td>\n",
       "      <td>2021-07-16 09:09:48</td>\n",
       "      <td>14968.200000</td>\n",
       "    </tr>\n",
       "    <tr>\n",
       "      <th>160</th>\n",
       "      <td>03000DE7</td>\n",
       "      <td>Wintergarten</td>\n",
       "      <td>pens:3 - 5</td>\n",
       "      <td>Marker</td>\n",
       "      <td>2021-07-19 17:25:16</td>\n",
       "      <td>10152.733333</td>\n",
       "    </tr>\n",
       "    <tr>\n",
       "      <th>48</th>\n",
       "      <td>0200155A</td>\n",
       "      <td>98</td>\n",
       "      <td>pens:8 - 9</td>\n",
       "      <td>Tag</td>\n",
       "      <td>2021-07-21 12:39:10</td>\n",
       "      <td>7558.833333</td>\n",
       "    </tr>\n",
       "    <tr>\n",
       "      <th>104</th>\n",
       "      <td>02001E2F</td>\n",
       "      <td>130</td>\n",
       "      <td>pens:10 - 12</td>\n",
       "      <td>Tag</td>\n",
       "      <td>2021-07-26 10:42:33</td>\n",
       "      <td>475.450000</td>\n",
       "    </tr>\n",
       "    <tr>\n",
       "      <th>...</th>\n",
       "      <td>...</td>\n",
       "      <td>...</td>\n",
       "      <td>...</td>\n",
       "      <td>...</td>\n",
       "      <td>...</td>\n",
       "      <td>...</td>\n",
       "    </tr>\n",
       "    <tr>\n",
       "      <th>32</th>\n",
       "      <td>0200152D</td>\n",
       "      <td>5</td>\n",
       "      <td>pens:3 - 5</td>\n",
       "      <td>Tag</td>\n",
       "      <td>2021-07-26 16:21:03</td>\n",
       "      <td>136.950000</td>\n",
       "    </tr>\n",
       "    <tr>\n",
       "      <th>69</th>\n",
       "      <td>020015C4</td>\n",
       "      <td>40</td>\n",
       "      <td>pens:3 - 5</td>\n",
       "      <td>Tag</td>\n",
       "      <td>2021-07-26 16:21:04</td>\n",
       "      <td>136.933333</td>\n",
       "    </tr>\n",
       "    <tr>\n",
       "      <th>40</th>\n",
       "      <td>02001542</td>\n",
       "      <td>32</td>\n",
       "      <td>pens:3 - 5</td>\n",
       "      <td>Tag</td>\n",
       "      <td>2021-07-26 16:21:08</td>\n",
       "      <td>136.866667</td>\n",
       "    </tr>\n",
       "    <tr>\n",
       "      <th>3</th>\n",
       "      <td>02000331</td>\n",
       "      <td>4</td>\n",
       "      <td>pens:3 - 5</td>\n",
       "      <td>Tag</td>\n",
       "      <td>2021-07-26 16:21:15</td>\n",
       "      <td>136.750000</td>\n",
       "    </tr>\n",
       "    <tr>\n",
       "      <th>179</th>\n",
       "      <td>192.168.1.75</td>\n",
       "      <td></td>\n",
       "      <td>pens:3 - 5</td>\n",
       "      <td>Reader</td>\n",
       "      <td>2021-07-26 18:17:55</td>\n",
       "      <td>20.083333</td>\n",
       "    </tr>\n",
       "  </tbody>\n",
       "</table>\n",
       "<p>135 rows × 6 columns</p>\n",
       "</div>"
      ],
      "text/plain": [
       "             code        sender        system    sort     last_LastAction  \\\n",
       "107      02001E36           165  pens:10 - 12     Tag 2021-07-01 11:04:27   \n",
       "83       02001E12           154  pens:10 - 12     Tag 2021-07-16 09:09:48   \n",
       "160      03000DE7  Wintergarten    pens:3 - 5  Marker 2021-07-19 17:25:16   \n",
       "48       0200155A            98    pens:8 - 9     Tag 2021-07-21 12:39:10   \n",
       "104      02001E2F           130  pens:10 - 12     Tag 2021-07-26 10:42:33   \n",
       "..            ...           ...           ...     ...                 ...   \n",
       "32       0200152D             5    pens:3 - 5     Tag 2021-07-26 16:21:03   \n",
       "69       020015C4            40    pens:3 - 5     Tag 2021-07-26 16:21:04   \n",
       "40       02001542            32    pens:3 - 5     Tag 2021-07-26 16:21:08   \n",
       "3        02000331             4    pens:3 - 5     Tag 2021-07-26 16:21:15   \n",
       "179  192.168.1.75                  pens:3 - 5  Reader 2021-07-26 18:17:55   \n",
       "\n",
       "     nbr_mn_since_LastUpdate  \n",
       "107             36453.550000  \n",
       "83              14968.200000  \n",
       "160             10152.733333  \n",
       "48               7558.833333  \n",
       "104               475.450000  \n",
       "..                       ...  \n",
       "32                136.950000  \n",
       "69                136.933333  \n",
       "40                136.866667  \n",
       "3                 136.750000  \n",
       "179                20.083333  \n",
       "\n",
       "[135 rows x 6 columns]"
      ]
     },
     "metadata": {},
     "output_type": "display_data"
    }
   ],
   "source": [
    "#sort by date in order to take the last voltage using a simple list\n",
    "df_ = df_device.groupby(['code','sender','system','sort','NeedsBatteries'])['LastAction'].agg(lambda x: list(x)).reset_index()\n",
    "df_['last_LastAction'] = df_['LastAction'].map(lambda x: max(x))\n",
    "df_['nbr_mn_since_LastUpdate'] = df_['last_LastAction'].map(lambda x: (download_time-x).total_seconds()/60)\n",
    "\n",
    "#add tags with no update:\n",
    "li_no_transition = [i for i in li_active_tags if i not in df_device['sender'].unique()]\n",
    "df_no_transition = pd.DataFrame([{'sender':tag_, 'nbr_mn_since_LastUpdate':9999} for tag_ in li_no_transition])\n",
    "print(df_no_transition.shape, df_.shape)\n",
    "df_ = pd.concat([df_, df_no_transition])\n",
    "print(df_.shape)\n",
    "print('There is %d device with 0 updates'%df_no_transition.shape[0])\n",
    "df_.sort_values(['nbr_mn_since_LastUpdate'], ascending=False, inplace=True)\n",
    "#remove the older sender that appear two times (i.e. if they changed pens for example)\n",
    "df_.drop_duplicates(subset=['system','sender'], keep='last', inplace=True)\n",
    "df_[['code','sender','system','sort','last_LastAction','nbr_mn_since_LastUpdate']].to_csv(os.path.join(path_daily_ver, \n",
    "                                            id_run+str(download_time).split(' ')[0]+'h_DeviceLastUpdate.csv'), sep=';', index=False)\n",
    "\n",
    "\n",
    "mn = 12\n",
    "li_tag_issues.extend(df_[df_['nbr_mn_since_LastUpdate']>mn]['sender'])\n",
    "print('There is %d tags with at least one issue'%len(set(li_tag_issues)))\n",
    "\n",
    "print('------------- Device with no update since at least %d minutes -------------'%mn)\n",
    "df_tag_summary = pd.merge(df_tag_summary, df_[df_['sort']=='Tag'], left_on='TagID', right_on='sender', how='outer')\n",
    "#display(df_tag_summary.head(3))\n",
    "display(df_[df_['nbr_mn_since_LastUpdate']>mn][['code','sender','system','sort','last_LastAction','nbr_mn_since_LastUpdate']])"
   ]
  },
  {
   "cell_type": "code",
   "execution_count": 25,
   "metadata": {},
   "outputs": [
    {
     "name": "stderr",
     "output_type": "stream",
     "text": [
      "C:\\Users\\camil\\anaconda3\\lib\\site-packages\\ipykernel\\ipkernel.py:283: DeprecationWarning: `should_run_async` will not call `transform_cell` automatically in the future. Please pass the result to `transformed_cell` argument and any exception that happen during thetransform in `preprocessing_exc_tuple` in IPython 7.17 and above.\n",
      "  and should_run_async(code)\n"
     ]
    },
    {
     "data": {
      "text/plain": [
       "Timestamp('2021-07-26 18:38:00')"
      ]
     },
     "execution_count": 25,
     "metadata": {},
     "output_type": "execute_result"
    }
   ],
   "source": [
    "download_time"
   ]
  },
  {
   "cell_type": "markdown",
   "metadata": {},
   "source": [
    "# Critical Voltage last D days"
   ]
  },
  {
   "cell_type": "code",
   "execution_count": 26,
   "metadata": {
    "scrolled": false
   },
   "outputs": [
    {
     "name": "stderr",
     "output_type": "stream",
     "text": [
      "C:\\Users\\camil\\anaconda3\\lib\\site-packages\\ipykernel\\ipkernel.py:283: DeprecationWarning: `should_run_async` will not call `transform_cell` automatically in the future. Please pass the result to `transformed_cell` argument and any exception that happen during thetransform in `preprocessing_exc_tuple` in IPython 7.17 and above.\n",
      "  and should_run_async(code)\n",
      "<ipython-input-26-207c442b845e>:7: RuntimeWarning: Mean of empty slice\n",
      "  df_['avg_Battery_Voltage_last_'+str(D)+'days'] = df_['Battery Voltage'].map(lambda x: np.nanmean(x))\n"
     ]
    },
    {
     "name": "stdout",
     "output_type": "stream",
     "text": [
      "------------- Critical Battery Voltage of device/tags (under threshold at least once during the last 7 days -------------\n",
      "(155, 13)\n",
      "(155, 16)\n",
      "There is 157 tags with at least one issue:\n"
     ]
    },
    {
     "data": {
      "text/html": [
       "<div>\n",
       "<style scoped>\n",
       "    .dataframe tbody tr th:only-of-type {\n",
       "        vertical-align: middle;\n",
       "    }\n",
       "\n",
       "    .dataframe tbody tr th {\n",
       "        vertical-align: top;\n",
       "    }\n",
       "\n",
       "    .dataframe thead th {\n",
       "        text-align: right;\n",
       "    }\n",
       "</style>\n",
       "<table border=\"1\" class=\"dataframe\">\n",
       "  <thead>\n",
       "    <tr style=\"text-align: right;\">\n",
       "      <th></th>\n",
       "      <th>code</th>\n",
       "      <th>sender</th>\n",
       "      <th>system</th>\n",
       "      <th>sort</th>\n",
       "      <th>NeedsBatteries</th>\n",
       "      <th>Battery Voltage</th>\n",
       "      <th>min_Battery_Voltage_last_7days</th>\n",
       "      <th>avg_Battery_Voltage_last_7days</th>\n",
       "      <th>CRITICAL</th>\n",
       "    </tr>\n",
       "  </thead>\n",
       "  <tbody>\n",
       "    <tr>\n",
       "      <th>60</th>\n",
       "      <td>02001579</td>\n",
       "      <td>79</td>\n",
       "      <td>pens:8 - 9</td>\n",
       "      <td>Tag</td>\n",
       "      <td>True</td>\n",
       "      <td>[2962.0, 2964.0, 2962.0, 2963.0, 2960.0, 2964....</td>\n",
       "      <td>2929.0</td>\n",
       "      <td>2960.696759</td>\n",
       "      <td>True</td>\n",
       "    </tr>\n",
       "    <tr>\n",
       "      <th>104</th>\n",
       "      <td>02001E2F</td>\n",
       "      <td>130</td>\n",
       "      <td>pens:10 - 12</td>\n",
       "      <td>Tag</td>\n",
       "      <td>True</td>\n",
       "      <td>[2928.0, 2928.0, 2928.0, 2928.0, 2928.0, 2928....</td>\n",
       "      <td>2928.0</td>\n",
       "      <td>2944.262428</td>\n",
       "      <td>True</td>\n",
       "    </tr>\n",
       "    <tr>\n",
       "      <th>110</th>\n",
       "      <td>02001E3A</td>\n",
       "      <td>135</td>\n",
       "      <td>pens:10 - 12</td>\n",
       "      <td>Tag</td>\n",
       "      <td>True</td>\n",
       "      <td>[2982.0, 2981.0, 2980.0, 2979.0, 2982.0, 2980....</td>\n",
       "      <td>2926.0</td>\n",
       "      <td>3001.308671</td>\n",
       "      <td>True</td>\n",
       "    </tr>\n",
       "    <tr>\n",
       "      <th>91</th>\n",
       "      <td>02001E1C</td>\n",
       "      <td>178</td>\n",
       "      <td>pens:10 - 12</td>\n",
       "      <td>Tag</td>\n",
       "      <td>True</td>\n",
       "      <td>[2991.0, 2987.0, 2990.0, 2991.0, 2991.0, 2989....</td>\n",
       "      <td>2925.0</td>\n",
       "      <td>2990.026590</td>\n",
       "      <td>True</td>\n",
       "    </tr>\n",
       "    <tr>\n",
       "      <th>53</th>\n",
       "      <td>02001562</td>\n",
       "      <td>62</td>\n",
       "      <td>pens:3 - 5</td>\n",
       "      <td>Tag</td>\n",
       "      <td>True</td>\n",
       "      <td>[2933.0, 2936.0, 2926.0, 2929.0, 2928.0, 2932....</td>\n",
       "      <td>2923.0</td>\n",
       "      <td>2952.425926</td>\n",
       "      <td>True</td>\n",
       "    </tr>\n",
       "    <tr>\n",
       "      <th>117</th>\n",
       "      <td>02001E61</td>\n",
       "      <td>124</td>\n",
       "      <td>pens:10 - 12</td>\n",
       "      <td>Tag</td>\n",
       "      <td>True</td>\n",
       "      <td>[2926.0, 2920.0, 2919.0, 2923.0, 2932.0, 2923....</td>\n",
       "      <td>2919.0</td>\n",
       "      <td>2946.759538</td>\n",
       "      <td>True</td>\n",
       "    </tr>\n",
       "    <tr>\n",
       "      <th>18</th>\n",
       "      <td>0200141F</td>\n",
       "      <td>46</td>\n",
       "      <td>pens:3 - 5</td>\n",
       "      <td>Tag</td>\n",
       "      <td>True</td>\n",
       "      <td>[3043.0, 3050.0, 3045.0, 3045.0, 3049.0, 3044....</td>\n",
       "      <td>2919.0</td>\n",
       "      <td>3055.760417</td>\n",
       "      <td>True</td>\n",
       "    </tr>\n",
       "    <tr>\n",
       "      <th>133</th>\n",
       "      <td>0200216D</td>\n",
       "      <td>194</td>\n",
       "      <td>pens:8 - 9</td>\n",
       "      <td>Tag</td>\n",
       "      <td>True</td>\n",
       "      <td>[2989.0, 2991.0, 2992.0, 2988.0, 2991.0, 2991....</td>\n",
       "      <td>2915.0</td>\n",
       "      <td>2990.043981</td>\n",
       "      <td>True</td>\n",
       "    </tr>\n",
       "    <tr>\n",
       "      <th>107</th>\n",
       "      <td>02001E36</td>\n",
       "      <td>165</td>\n",
       "      <td>pens:10 - 12</td>\n",
       "      <td>Tag</td>\n",
       "      <td>True</td>\n",
       "      <td>[2915.0, 2915.0, 2915.0, 2915.0, 2915.0, 2915....</td>\n",
       "      <td>2915.0</td>\n",
       "      <td>2915.000000</td>\n",
       "      <td>True</td>\n",
       "    </tr>\n",
       "    <tr>\n",
       "      <th>112</th>\n",
       "      <td>02001E3F</td>\n",
       "      <td>141</td>\n",
       "      <td>pens:10 - 12</td>\n",
       "      <td>Tag</td>\n",
       "      <td>True</td>\n",
       "      <td>[3006.0, 3010.0, 3009.0, 3008.0, 3009.0, 3006....</td>\n",
       "      <td>2914.0</td>\n",
       "      <td>3008.319075</td>\n",
       "      <td>True</td>\n",
       "    </tr>\n",
       "    <tr>\n",
       "      <th>56</th>\n",
       "      <td>02001565</td>\n",
       "      <td>65</td>\n",
       "      <td>pens:8 - 9</td>\n",
       "      <td>Tag</td>\n",
       "      <td>True</td>\n",
       "      <td>[3014.0, 3013.0, 3011.0, 3012.0, 3012.0, 3013....</td>\n",
       "      <td>2914.0</td>\n",
       "      <td>3002.015046</td>\n",
       "      <td>True</td>\n",
       "    </tr>\n",
       "    <tr>\n",
       "      <th>119</th>\n",
       "      <td>02001E69</td>\n",
       "      <td>143</td>\n",
       "      <td>pens:10 - 12</td>\n",
       "      <td>Tag</td>\n",
       "      <td>True</td>\n",
       "      <td>[2983.0, 2983.0, 2988.0, 2988.0, 2986.0, 2986....</td>\n",
       "      <td>2912.0</td>\n",
       "      <td>2987.273988</td>\n",
       "      <td>True</td>\n",
       "    </tr>\n",
       "    <tr>\n",
       "      <th>20</th>\n",
       "      <td>02001422</td>\n",
       "      <td>14</td>\n",
       "      <td>pens:3 - 5</td>\n",
       "      <td>Tag</td>\n",
       "      <td>True</td>\n",
       "      <td>[2991.0, 2991.0, 2992.0, 2986.0, 2991.0, 2991....</td>\n",
       "      <td>2911.0</td>\n",
       "      <td>2988.517361</td>\n",
       "      <td>True</td>\n",
       "    </tr>\n",
       "    <tr>\n",
       "      <th>108</th>\n",
       "      <td>02001E37</td>\n",
       "      <td>175</td>\n",
       "      <td>pens:10 - 12</td>\n",
       "      <td>Tag</td>\n",
       "      <td>True</td>\n",
       "      <td>[2985.0, 2991.0, 2995.0, 2999.0, 2991.0, 2988....</td>\n",
       "      <td>2904.0</td>\n",
       "      <td>2989.882081</td>\n",
       "      <td>True</td>\n",
       "    </tr>\n",
       "    <tr>\n",
       "      <th>98</th>\n",
       "      <td>02001E26</td>\n",
       "      <td>170</td>\n",
       "      <td>pens:3 - 5</td>\n",
       "      <td>Tag</td>\n",
       "      <td>True</td>\n",
       "      <td>[2991.0, 2992.0, 2991.0, 2991.0, 2990.0, 2987....</td>\n",
       "      <td>2904.0</td>\n",
       "      <td>2990.163194</td>\n",
       "      <td>True</td>\n",
       "    </tr>\n",
       "    <tr>\n",
       "      <th>31</th>\n",
       "      <td>0200152C</td>\n",
       "      <td>42</td>\n",
       "      <td>pens:3 - 5</td>\n",
       "      <td>Tag</td>\n",
       "      <td>True</td>\n",
       "      <td>[2971.0, 2971.0, 2975.0, 2974.0, 2970.0, 2982....</td>\n",
       "      <td>2900.0</td>\n",
       "      <td>2974.208333</td>\n",
       "      <td>True</td>\n",
       "    </tr>\n",
       "    <tr>\n",
       "      <th>85</th>\n",
       "      <td>02001E14</td>\n",
       "      <td>128</td>\n",
       "      <td>pens:10 - 12</td>\n",
       "      <td>Tag</td>\n",
       "      <td>True</td>\n",
       "      <td>[3018.0, 3018.0, 3018.0, 3016.0, 3017.0, 3019....</td>\n",
       "      <td>2875.0</td>\n",
       "      <td>3016.430058</td>\n",
       "      <td>True</td>\n",
       "    </tr>\n",
       "    <tr>\n",
       "      <th>19</th>\n",
       "      <td>02001420</td>\n",
       "      <td>27</td>\n",
       "      <td>pens:3 - 5</td>\n",
       "      <td>Tag</td>\n",
       "      <td>True</td>\n",
       "      <td>[3012.0, 3011.0, 3009.0, 3009.0, 3011.0, 3014....</td>\n",
       "      <td>2872.0</td>\n",
       "      <td>3009.785880</td>\n",
       "      <td>True</td>\n",
       "    </tr>\n",
       "    <tr>\n",
       "      <th>109</th>\n",
       "      <td>02001E39</td>\n",
       "      <td>150</td>\n",
       "      <td>pens:10 - 12</td>\n",
       "      <td>Tag</td>\n",
       "      <td>True</td>\n",
       "      <td>[2971.0, 2969.0, 2970.0, 2969.0, 2969.0, 2969....</td>\n",
       "      <td>2872.0</td>\n",
       "      <td>2970.420809</td>\n",
       "      <td>True</td>\n",
       "    </tr>\n",
       "    <tr>\n",
       "      <th>6</th>\n",
       "      <td>02001044</td>\n",
       "      <td>44</td>\n",
       "      <td>pens:3 - 5</td>\n",
       "      <td>Tag</td>\n",
       "      <td>True</td>\n",
       "      <td>[2892.0, 2891.0, 2893.0, 2893.0, 2892.0, 2893....</td>\n",
       "      <td>2860.0</td>\n",
       "      <td>2882.840278</td>\n",
       "      <td>True</td>\n",
       "    </tr>\n",
       "    <tr>\n",
       "      <th>16</th>\n",
       "      <td>0200141B</td>\n",
       "      <td>47</td>\n",
       "      <td>pens:3 - 5</td>\n",
       "      <td>Tag</td>\n",
       "      <td>True</td>\n",
       "      <td>[2968.0, 2970.0, 2966.0, 2960.0, 2963.0, 2964....</td>\n",
       "      <td>2828.0</td>\n",
       "      <td>2976.488426</td>\n",
       "      <td>True</td>\n",
       "    </tr>\n",
       "    <tr>\n",
       "      <th>70</th>\n",
       "      <td>020015C5</td>\n",
       "      <td>108</td>\n",
       "      <td>pens:8 - 9</td>\n",
       "      <td>Tag</td>\n",
       "      <td>True</td>\n",
       "      <td>[2993.0, 2998.0, 2995.0, 2997.0, 3002.0, 2995....</td>\n",
       "      <td>2820.0</td>\n",
       "      <td>3000.900463</td>\n",
       "      <td>True</td>\n",
       "    </tr>\n",
       "    <tr>\n",
       "      <th>0</th>\n",
       "      <td>020002EF</td>\n",
       "      <td>106</td>\n",
       "      <td>pens:8 - 9</td>\n",
       "      <td>Tag</td>\n",
       "      <td>True</td>\n",
       "      <td>[3009.0, 3010.0, 3013.0, 3008.0, 3008.0, 3009....</td>\n",
       "      <td>2741.0</td>\n",
       "      <td>3006.947917</td>\n",
       "      <td>True</td>\n",
       "    </tr>\n",
       "    <tr>\n",
       "      <th>69</th>\n",
       "      <td>020015C4</td>\n",
       "      <td>40</td>\n",
       "      <td>pens:3 - 5</td>\n",
       "      <td>Tag</td>\n",
       "      <td>True</td>\n",
       "      <td>[2990.0, 2991.0, 2991.0, 2990.0, 2991.0, 2990....</td>\n",
       "      <td>2731.0</td>\n",
       "      <td>2990.765046</td>\n",
       "      <td>True</td>\n",
       "    </tr>\n",
       "    <tr>\n",
       "      <th>48</th>\n",
       "      <td>0200155A</td>\n",
       "      <td>98</td>\n",
       "      <td>pens:8 - 9</td>\n",
       "      <td>Tag</td>\n",
       "      <td>True</td>\n",
       "      <td>[2782.0, 2774.0, 2796.0, 2763.0, 2777.0, 2757....</td>\n",
       "      <td>2682.0</td>\n",
       "      <td>2743.097222</td>\n",
       "      <td>True</td>\n",
       "    </tr>\n",
       "    <tr>\n",
       "      <th>83</th>\n",
       "      <td>02001E12</td>\n",
       "      <td>154</td>\n",
       "      <td>pens:10 - 12</td>\n",
       "      <td>Tag</td>\n",
       "      <td>True</td>\n",
       "      <td>[2579.0, 2579.0, 2579.0, 2579.0, 2579.0, 2579....</td>\n",
       "      <td>2579.0</td>\n",
       "      <td>2579.000000</td>\n",
       "      <td>True</td>\n",
       "    </tr>\n",
       "    <tr>\n",
       "      <th>36</th>\n",
       "      <td>02001536</td>\n",
       "      <td>36</td>\n",
       "      <td>pens:3 - 5</td>\n",
       "      <td>Tag</td>\n",
       "      <td>True</td>\n",
       "      <td>[2958.0, 2955.0, 2961.0, 2960.0, 2960.0, 2962....</td>\n",
       "      <td>2557.0</td>\n",
       "      <td>2959.687500</td>\n",
       "      <td>True</td>\n",
       "    </tr>\n",
       "    <tr>\n",
       "      <th>160</th>\n",
       "      <td>03000DE7</td>\n",
       "      <td>Wintergarten</td>\n",
       "      <td>pens:3 - 5</td>\n",
       "      <td>Marker</td>\n",
       "      <td>True</td>\n",
       "      <td>[2529.0, 2529.0, 2529.0, 2529.0, 2529.0, 2529....</td>\n",
       "      <td>2529.0</td>\n",
       "      <td>2529.000000</td>\n",
       "      <td>True</td>\n",
       "    </tr>\n",
       "    <tr>\n",
       "      <th>62</th>\n",
       "      <td>0200157D</td>\n",
       "      <td>102</td>\n",
       "      <td>pens:8 - 9</td>\n",
       "      <td>Tag</td>\n",
       "      <td>True</td>\n",
       "      <td>[2500.0, 2500.0, 2500.0, 2500.0, 2500.0, 2500....</td>\n",
       "      <td>2500.0</td>\n",
       "      <td>2500.000000</td>\n",
       "      <td>True</td>\n",
       "    </tr>\n",
       "    <tr>\n",
       "      <th>34</th>\n",
       "      <td>02001530</td>\n",
       "      <td>107</td>\n",
       "      <td>pens:8 - 9</td>\n",
       "      <td>Tag</td>\n",
       "      <td>True</td>\n",
       "      <td>[2952.0, 2950.0, 2967.0, 2949.0, 2953.0, 2949....</td>\n",
       "      <td>2107.0</td>\n",
       "      <td>2911.381944</td>\n",
       "      <td>True</td>\n",
       "    </tr>\n",
       "  </tbody>\n",
       "</table>\n",
       "</div>"
      ],
      "text/plain": [
       "         code        sender        system    sort  NeedsBatteries  \\\n",
       "60   02001579            79    pens:8 - 9     Tag            True   \n",
       "104  02001E2F           130  pens:10 - 12     Tag            True   \n",
       "110  02001E3A           135  pens:10 - 12     Tag            True   \n",
       "91   02001E1C           178  pens:10 - 12     Tag            True   \n",
       "53   02001562            62    pens:3 - 5     Tag            True   \n",
       "117  02001E61           124  pens:10 - 12     Tag            True   \n",
       "18   0200141F            46    pens:3 - 5     Tag            True   \n",
       "133  0200216D           194    pens:8 - 9     Tag            True   \n",
       "107  02001E36           165  pens:10 - 12     Tag            True   \n",
       "112  02001E3F           141  pens:10 - 12     Tag            True   \n",
       "56   02001565            65    pens:8 - 9     Tag            True   \n",
       "119  02001E69           143  pens:10 - 12     Tag            True   \n",
       "20   02001422            14    pens:3 - 5     Tag            True   \n",
       "108  02001E37           175  pens:10 - 12     Tag            True   \n",
       "98   02001E26           170    pens:3 - 5     Tag            True   \n",
       "31   0200152C            42    pens:3 - 5     Tag            True   \n",
       "85   02001E14           128  pens:10 - 12     Tag            True   \n",
       "19   02001420            27    pens:3 - 5     Tag            True   \n",
       "109  02001E39           150  pens:10 - 12     Tag            True   \n",
       "6    02001044            44    pens:3 - 5     Tag            True   \n",
       "16   0200141B            47    pens:3 - 5     Tag            True   \n",
       "70   020015C5           108    pens:8 - 9     Tag            True   \n",
       "0    020002EF           106    pens:8 - 9     Tag            True   \n",
       "69   020015C4            40    pens:3 - 5     Tag            True   \n",
       "48   0200155A            98    pens:8 - 9     Tag            True   \n",
       "83   02001E12           154  pens:10 - 12     Tag            True   \n",
       "36   02001536            36    pens:3 - 5     Tag            True   \n",
       "160  03000DE7  Wintergarten    pens:3 - 5  Marker            True   \n",
       "62   0200157D           102    pens:8 - 9     Tag            True   \n",
       "34   02001530           107    pens:8 - 9     Tag            True   \n",
       "\n",
       "                                       Battery Voltage  \\\n",
       "60   [2962.0, 2964.0, 2962.0, 2963.0, 2960.0, 2964....   \n",
       "104  [2928.0, 2928.0, 2928.0, 2928.0, 2928.0, 2928....   \n",
       "110  [2982.0, 2981.0, 2980.0, 2979.0, 2982.0, 2980....   \n",
       "91   [2991.0, 2987.0, 2990.0, 2991.0, 2991.0, 2989....   \n",
       "53   [2933.0, 2936.0, 2926.0, 2929.0, 2928.0, 2932....   \n",
       "117  [2926.0, 2920.0, 2919.0, 2923.0, 2932.0, 2923....   \n",
       "18   [3043.0, 3050.0, 3045.0, 3045.0, 3049.0, 3044....   \n",
       "133  [2989.0, 2991.0, 2992.0, 2988.0, 2991.0, 2991....   \n",
       "107  [2915.0, 2915.0, 2915.0, 2915.0, 2915.0, 2915....   \n",
       "112  [3006.0, 3010.0, 3009.0, 3008.0, 3009.0, 3006....   \n",
       "56   [3014.0, 3013.0, 3011.0, 3012.0, 3012.0, 3013....   \n",
       "119  [2983.0, 2983.0, 2988.0, 2988.0, 2986.0, 2986....   \n",
       "20   [2991.0, 2991.0, 2992.0, 2986.0, 2991.0, 2991....   \n",
       "108  [2985.0, 2991.0, 2995.0, 2999.0, 2991.0, 2988....   \n",
       "98   [2991.0, 2992.0, 2991.0, 2991.0, 2990.0, 2987....   \n",
       "31   [2971.0, 2971.0, 2975.0, 2974.0, 2970.0, 2982....   \n",
       "85   [3018.0, 3018.0, 3018.0, 3016.0, 3017.0, 3019....   \n",
       "19   [3012.0, 3011.0, 3009.0, 3009.0, 3011.0, 3014....   \n",
       "109  [2971.0, 2969.0, 2970.0, 2969.0, 2969.0, 2969....   \n",
       "6    [2892.0, 2891.0, 2893.0, 2893.0, 2892.0, 2893....   \n",
       "16   [2968.0, 2970.0, 2966.0, 2960.0, 2963.0, 2964....   \n",
       "70   [2993.0, 2998.0, 2995.0, 2997.0, 3002.0, 2995....   \n",
       "0    [3009.0, 3010.0, 3013.0, 3008.0, 3008.0, 3009....   \n",
       "69   [2990.0, 2991.0, 2991.0, 2990.0, 2991.0, 2990....   \n",
       "48   [2782.0, 2774.0, 2796.0, 2763.0, 2777.0, 2757....   \n",
       "83   [2579.0, 2579.0, 2579.0, 2579.0, 2579.0, 2579....   \n",
       "36   [2958.0, 2955.0, 2961.0, 2960.0, 2960.0, 2962....   \n",
       "160  [2529.0, 2529.0, 2529.0, 2529.0, 2529.0, 2529....   \n",
       "62   [2500.0, 2500.0, 2500.0, 2500.0, 2500.0, 2500....   \n",
       "34   [2952.0, 2950.0, 2967.0, 2949.0, 2953.0, 2949....   \n",
       "\n",
       "     min_Battery_Voltage_last_7days  avg_Battery_Voltage_last_7days  CRITICAL  \n",
       "60                           2929.0                     2960.696759      True  \n",
       "104                          2928.0                     2944.262428      True  \n",
       "110                          2926.0                     3001.308671      True  \n",
       "91                           2925.0                     2990.026590      True  \n",
       "53                           2923.0                     2952.425926      True  \n",
       "117                          2919.0                     2946.759538      True  \n",
       "18                           2919.0                     3055.760417      True  \n",
       "133                          2915.0                     2990.043981      True  \n",
       "107                          2915.0                     2915.000000      True  \n",
       "112                          2914.0                     3008.319075      True  \n",
       "56                           2914.0                     3002.015046      True  \n",
       "119                          2912.0                     2987.273988      True  \n",
       "20                           2911.0                     2988.517361      True  \n",
       "108                          2904.0                     2989.882081      True  \n",
       "98                           2904.0                     2990.163194      True  \n",
       "31                           2900.0                     2974.208333      True  \n",
       "85                           2875.0                     3016.430058      True  \n",
       "19                           2872.0                     3009.785880      True  \n",
       "109                          2872.0                     2970.420809      True  \n",
       "6                            2860.0                     2882.840278      True  \n",
       "16                           2828.0                     2976.488426      True  \n",
       "70                           2820.0                     3000.900463      True  \n",
       "0                            2741.0                     3006.947917      True  \n",
       "69                           2731.0                     2990.765046      True  \n",
       "48                           2682.0                     2743.097222      True  \n",
       "83                           2579.0                     2579.000000      True  \n",
       "36                           2557.0                     2959.687500      True  \n",
       "160                          2529.0                     2529.000000      True  \n",
       "62                           2500.0                     2500.000000      True  \n",
       "34                           2107.0                     2911.381944      True  "
      ]
     },
     "execution_count": 26,
     "metadata": {},
     "output_type": "execute_result"
    }
   ],
   "source": [
    "D = 7 #assuming I do this one a week, it make sense to plot it once a week\n",
    "#D=2 was not enough as we would miss some tags that were at 2600 (e.g. 82)\n",
    "df_device['is_last_'+str(D)+'days'] = df_device['Timestamp'].map(lambda x: x>=(download_time-dt.timedelta(days=D)))\n",
    "df_ = df_device[df_device['is_last_'+str(D)+'days']].groupby(['code','sender','system','sort',\n",
    "                                                        'NeedsBatteries'])['Battery Voltage'].agg(lambda x: list(x)).reset_index()\n",
    "df_['min_Battery_Voltage_last_'+str(D)+'days'] = df_['Battery Voltage'].map(lambda x: min(x))\n",
    "df_['avg_Battery_Voltage_last_'+str(D)+'days'] = df_['Battery Voltage'].map(lambda x: np.nanmean(x))\n",
    "df_.sort_values(['min_Battery_Voltage_last_'+str(D)+'days'], ascending=False, inplace=True)\n",
    "# check whether at least one of the last entries was below the critical threshold \n",
    "df_['CRITICAL'] = df_.apply(lambda x:sum([i<thresh_dev for i in x['Battery Voltage']])>=1 if x['sort']!='Tag' \\\n",
    "                            else sum([i<thresh_tag for i in x['Battery Voltage']])>=1, axis=1)\n",
    "df_.to_csv(os.path.join(path_daily_ver,id_run+str(download_time).split(' ')[0]+'h_Battery VoltageLast'+str(D)+'days.csv'), sep=';', index=False)\n",
    "print('------------- Critical Battery Voltage of device/tags (under threshold at least once during the last %d days -------------'%D)\n",
    "li_tag_issues.extend(df_[(df_['CRITICAL'])&(df_['sort']=='Tag')]['sender'])\n",
    "print(df_tag_summary.shape)\n",
    "df_tag_summary = df_tag_summary.drop(['sender'], axis=1)\n",
    "df_tag_summary = pd.merge(df_tag_summary, df_[df_['sort']=='Tag'][['CRITICAL','min_Battery_Voltage_last_'+str(D)+'days',\n",
    "                                                                   'avg_Battery_Voltage_last_'+str(D)+'days','sender']], \n",
    "                          left_on='TagID', right_on='sender', how='outer')\n",
    "df_tag_summary.drop(['LastAction','Timestamp','NeedsBatteries'], axis=1).to_csv(os.path.join(path_daily_ver,id_run+str(download_time).split(' ')[0]+'_TagSummary.csv'), sep=';', index=False)\n",
    "print(df_tag_summary.shape)\n",
    "#display(df_tag_summary.head(3))\n",
    "print('There is %d tags with at least one issue:'%len(set(li_tag_issues)))\n",
    "df_[(df_['CRITICAL'])&(df_['NeedsBatteries'])]"
   ]
  },
  {
   "cell_type": "markdown",
   "metadata": {
    "scrolled": true
   },
   "source": [
    "#plot\n",
    "\n",
    "df_device = df_device.sort_values(['LastAction'])\n",
    "for tag in li_active_tags:\n",
    "    df_plt = df_device[df_device['sender']==str(tag)][['voltage','Timestamp']]\n",
    "    plt.plot(df_plt['Timestamp'].tolist(), df_plt['voltage'].tolist());\n",
    "    plt.title(tag)\n",
    "    plt.show()"
   ]
  },
  {
   "cell_type": "markdown",
   "metadata": {},
   "source": [
    "# Plot Tags"
   ]
  },
  {
   "cell_type": "markdown",
   "metadata": {},
   "source": [
    "#plot the batterie level, the tagupdates and the number of transition for each tags, one plot per day\n",
    "df_device['date'] = df_device['Timestamp'].map(lambda x: dt.datetime.date(x))\n",
    "df_device = df_device.sort_values(['LastAction'])\n",
    "#us the log files to crate a df_tr file with one row per hen per hour, and the number of transition in a column\n",
    "df['hour'] = df['Timestamp'].map(lambda x: x.hour if pd.isnull(x)!=np.nan else np.nan)\n",
    "df_tr = df.groupby(['TagID','date','hour'])['Timestamp'].count().reset_index()\n",
    "df_tr.rename(columns={'Timestamp':'nbr_transition_last1h'}, inplace=True)\n",
    "df_tr['date_hour'] = df_tr.apply(lambda x: dt.datetime(x['date'].year, x['date'].month, x['date'].day, x['hour'],0,0), axis=1)\n",
    "\n",
    "#for tag in tqdm.tqdm(set(li_tag_issues)):\n",
    "for tag in tqdm.tqdm(li_active_tags):\n",
    "    try:\n",
    "        plt.figure(figsize=(18,4))\n",
    "        ax = plt.subplot(111) \n",
    "\n",
    "        #Battery Voltage\n",
    "        df_plt = df_device[df_device['sender']==tag].copy()\n",
    "        SystemID = df_plt['system'].iloc[0]\n",
    "        ax.plot(df_plt['Timestamp'].tolist(), df_plt['Battery Voltage'].tolist(), color='blue');\n",
    "\n",
    "        #number of transition in the last hours    \n",
    "        ax2=ax.twinx()\n",
    "        df_tr_ = df_tr[df_tr['TagID']==tag].copy()\n",
    "        ax2.plot(df_tr_['date_hour'].tolist(), df_tr_['nbr_transition_last1h'].tolist(), color='green');\n",
    "\n",
    "        #number of device update in the last hour\n",
    "        df_plt['hour'] = df_plt['Timestamp'].map(lambda x: x.hour if pd.isnull(x)!=np.nan else np.nan)\n",
    "        df_up = df_plt.groupby(['date','hour'])['LastAction'].agg(lambda x: list(x)).reset_index()\n",
    "        df_up['date_hour'] = df_up.apply(lambda x: dt.datetime(x['date'].year, x['date'].month, x['date'].day, x['hour'],0,0), axis=1)\n",
    "        df_up['nbr_update_last1h'] = df_up.apply(lambda x: sum([i>=(x['date_hour']-dt.timedelta(hours=1)) for i in x['LastAction']]), \n",
    "                                                 axis=1)\n",
    "        ax2.plot(df_up['date_hour'].tolist(), df_up['nbr_update_last1h'].tolist(), color='r');\n",
    "\n",
    "        #add days and plot\n",
    "        for day in df_plt['date'].unique() : \n",
    "            plt.axvline(x=day, linewidth=1, color='b')\n",
    "        plt.title('TagID: '+tag)\n",
    "        #for label in ax.get_xticklabels():\n",
    "        #    label.set_rotation(90) \n",
    "        y_ = np.nanmax(df_plt['Battery Voltage'].tolist())\n",
    "        x_ = np.nanmin(df_plt['date'].unique())\n",
    "        ax.text(x_, y_-0.1*(y_-np.nanmin(df_plt['Battery Voltage'].tolist())), '#device update in the last hour -right axis', fontsize=10, color='r')\n",
    "        ax.text(x_, y_-0.2*(y_-np.nanmin(df_plt['Battery Voltage'].tolist())), '#transition in the last hour -right axis', fontsize=10, color='green')\n",
    "        ax.text(x_, y_-0.3*(y_-np.nanmin(df_plt['Battery Voltage'].tolist())), 'Battery Voltage -left axis', fontsize=10, color='blue')\n",
    "\n",
    "        #create a director if not existing\n",
    "        path_incase = os.path.join(path_daily_ver, 'INcaseALLplot', SystemID.replace(':',''))\n",
    "        if not os.path.exists(path_incase):\n",
    "            os.makedirs(path_incase)\n",
    "        plt.savefig(os.path.join(path_incase,id_run+'_'+str(tag)+'Tag_CHECK.png'), dpi=300,\n",
    "                                format='png', bbox_inches='tight')\n",
    "    except Exception as e:\n",
    "                print('ERROR:-------------',e, '    TAG: ',tag)\n",
    "    #plt.show()"
   ]
  },
  {
   "cell_type": "raw",
   "metadata": {},
   "source": [
    "Tag with potential issues:\n",
    "30.11.2020: \n",
    "*tag 70, a lot of 0 every day!!! \n",
    "*tag 59, 82, 64, 183: low batterie\n",
    "*tag  72: not seen during 18h, and 0LF by satar\n",
    "\n",
    "07.12.2020:\n",
    "*tag 80, 72: no transitions during 89, 142 hours, and no last action during 5326 mn  for tag 80!\n",
    "\n",
    "14-12-2020\n",
    "70: lot of 0!\n",
    "80,72: 0 mvt and/or ni last action\n",
    "\n",
    "--> 80 and 72 changed!!!\n",
    "\n",
    "21-12-2020\n",
    "70: lot of LFCounter=0, up to 82 per day, so perhaps the hen is staying in very specific places inducing this, but perhaps its the Tag, so I prefer changing and seeing if its still having LFCoutner=0\n",
    "80: (pen 8-9) the last update is of 2020-12-03 15:51:40\n",
    "72 (pen 8-9): no movements recorded since \"01.12.2020 10:22\"\n",
    "\n",
    "\n",
    "--> 171 and 180 changed!\n",
    "\n",
    "\n",
    "################### for 12-04 HA\n",
    "08.02.2021\n",
    "tag 10: not mvt!\n",
    "\n",
    "08.03.2021\n",
    "tag 10: not working anymore: no trnasitions at all and LFCounter==0 144 times a day most of the days\n",
    "tag 82: starts to have a lot of LF counter==0 on consecutives days (17, 25, 52, 71, 49, 25, 2)\n",
    "\n",
    "29.03.2021\n",
    "tag 10: not working anymore: no trnasitions at all and LFCounter==0 144 times a day most of the days\n",
    "tag 82: starts to have a lot of LF counter==0 on consecutives days (17, 25, 52, 71, 49, 25, 2)\n",
    "tag 115: BIRD PERDU ON THE 27.03.2021!! 49h sans transition starting on the 2021-03-27 07:48:18 and unusually many LFCounter==0\n",
    "\n",
    "--> to change: tag 10, 82\n",
    "to find bird without backpack: 115 tag, pen 10\n",
    "\n",
    "#################### for end july HA\n",
    "tag 95 on the 2021-04-20, biggest gap of 183.0 mn\n",
    "tag 71: last update: 2021-04-26 03:01:01\t(at least until 10h 26.04) and no more batterie althought we jsut changed it.... we remove it from focal birds\n",
    "S\n",
    "satar: 17-05-2021: Tag 90 last location at 17h39 pen 8-9\n",
    "\n",
    "31-05-2020: \n",
    "tag 9 last location 23.05:6h57 (ceertainly due to batterie)\n",
    "tag 90: last location 17.05 17h39 (ceertainly due to batterie)\n",
    "tag 114: issues from 2021-05-27: huge gap! (ceertainly due to batterie)\n",
    "tag 185: last location 28.05.2021  15:23:13 until  29.05.2021  08:23:16, then du 29-30 again big gap etc : to CHECK if data are corectl filtered!!\n",
    "\n",
    "\n",
    "7.06.2021\n",
    "tag 130: last record timestamp: 2021-06-02 16:44:18, (satar) last action: 2021-06-02 17:04:46 pen 10-12\n",
    "\n",
    "14.06.2021\n",
    "Satar already told:\n",
    "tag 90: no more update\n",
    "tag 124: no more update\n",
    "tag 154 on 11.06 07:22\n",
    "tag 131: 09.06 at 16h43 last action \n",
    "Tag 130: last actin 02.06 at 17h04\n",
    "\n",
    "05.07.2021\n",
    "154, 24, 90, 102, 130: no record animore\n",
    "165: big gap and since 2021-06-29: a lot of LF counter=0 (21) --> remove at that date!! \n",
    "\n",
    "19.07.2021\n",
    "102,92,28,4: LF counter\n",
    "\n",
    "\n",
    "TODO: do an excel for all tag sumamrising this and decide by hand which one to remvoe from when. Then, automatically remove if LFcounter==0 >10 times a day and last action..."
   ]
  },
  {
   "cell_type": "code",
   "execution_count": null,
   "metadata": {},
   "outputs": [],
   "source": []
  },
  {
   "cell_type": "code",
   "execution_count": null,
   "metadata": {},
   "outputs": [],
   "source": []
  },
  {
   "cell_type": "code",
   "execution_count": null,
   "metadata": {},
   "outputs": [],
   "source": []
  },
  {
   "cell_type": "code",
   "execution_count": null,
   "metadata": {},
   "outputs": [],
   "source": []
  },
  {
   "cell_type": "code",
   "execution_count": null,
   "metadata": {},
   "outputs": [],
   "source": []
  },
  {
   "cell_type": "code",
   "execution_count": null,
   "metadata": {},
   "outputs": [],
   "source": []
  },
  {
   "cell_type": "code",
   "execution_count": null,
   "metadata": {},
   "outputs": [],
   "source": []
  },
  {
   "cell_type": "code",
   "execution_count": null,
   "metadata": {},
   "outputs": [],
   "source": []
  }
 ],
 "metadata": {
  "kernelspec": {
   "display_name": "Python 3",
   "language": "python",
   "name": "python3"
  },
  "language_info": {
   "codemirror_mode": {
    "name": "ipython",
    "version": 3
   },
   "file_extension": ".py",
   "mimetype": "text/x-python",
   "name": "python",
   "nbconvert_exporter": "python",
   "pygments_lexer": "ipython3",
   "version": "3.8.5"
  }
 },
 "nbformat": 4,
 "nbformat_minor": 2
}
