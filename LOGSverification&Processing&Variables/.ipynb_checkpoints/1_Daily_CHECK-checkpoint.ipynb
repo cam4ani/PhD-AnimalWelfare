{
 "cells": [
  {
   "cell_type": "code",
   "execution_count": 1,
   "metadata": {},
   "outputs": [],
   "source": [
    "#packages\n",
    "import json\n",
    "import tqdm\n",
    "import os\n",
    "import numpy as np\n",
    "import sys\n",
    "import glob\n",
    "import pandas as pd\n",
    "import datetime as dt\n",
    "import re\n",
    "import math\n",
    "from collections import defaultdict\n",
    "import operator\n",
    "\n",
    "#plot\n",
    "import matplotlib.pyplot as plt\n",
    "import seaborn as sns"
   ]
  },
  {
   "cell_type": "code",
   "execution_count": 2,
   "metadata": {},
   "outputs": [
    {
     "name": "stderr",
     "output_type": "stream",
     "text": [
      "C:\\Users\\camil\\anaconda3\\lib\\site-packages\\scipy\\sparse\\sparsetools.py:21: DeprecationWarning: `scipy.sparse.sparsetools` is deprecated!\n",
      "scipy.sparse.sparsetools is a private module for scipy.sparse, and should not be used.\n",
      "  _deprecated()\n"
     ]
    }
   ],
   "source": [
    "PACKAGE_PARENT = '../'\n",
    "SCRIPT_DIR = os.path.dirname(os.path.realpath(os.path.join(os.getcwd(), os.path.expanduser('__file__'))))\n",
    "sys.path.append(os.path.normpath(os.path.join(SCRIPT_DIR, PACKAGE_PARENT)))\n",
    "from UTILS import preprocessing_Origins, general_cleaning, verification_based_on_initial_record,\\\n",
    "ZoneVariable, HenDailyVariable_Origins, boxplot_distribution_entropy, heatmap_duration_perzone_perhen, is_day\n",
    "import config_origins as config"
   ]
  },
  {
   "cell_type": "code",
   "execution_count": 3,
   "metadata": {},
   "outputs": [
    {
     "name": "stderr",
     "output_type": "stream",
     "text": [
      "C:\\Users\\camil\\anaconda3\\lib\\site-packages\\ipykernel\\ipkernel.py:283: DeprecationWarning: `should_run_async` will not call `transform_cell` automatically in the future. Please pass the result to `transformed_cell` argument and any exception that happen during thetransform in `preprocessing_exc_tuple` in IPython 7.17 and above.\n",
      "  and should_run_async(code)\n"
     ]
    }
   ],
   "source": [
    "#initialise parameter\n",
    "path_initial_data = config.path_initial_data\n",
    "path_extracted_data_daily_check = config.path_extracted_data_daily_check\n",
    "id_run = config.id_run\n",
    "dico_rc_sys = config.dico_rc_sys\n",
    "path_FocalBird = config.path_FocalBird\n",
    "\n",
    "focal_name = config.focal_name\n",
    "path_Days = config.path_Days"
   ]
  },
  {
   "cell_type": "code",
   "execution_count": 4,
   "metadata": {},
   "outputs": [
    {
     "name": "stderr",
     "output_type": "stream",
     "text": [
      "C:\\Users\\camil\\anaconda3\\lib\\site-packages\\ipykernel\\ipkernel.py:283: DeprecationWarning: `should_run_async` will not call `transform_cell` automatically in the future. Please pass the result to `transformed_cell` argument and any exception that happen during thetransform in `preprocessing_exc_tuple` in IPython 7.17 and above.\n",
      "  and should_run_async(code)\n"
     ]
    }
   ],
   "source": [
    "#voltage thresholds\n",
    "#Threshold for minimarker and wintergarden battery change\n",
    "thresh_dev = 3100\n",
    "#Threshold for tag battery change\n",
    "thresh_tag = 2930"
   ]
  },
  {
   "cell_type": "raw",
   "metadata": {},
   "source": [
    "Why have I done a new notebook for daily check: notebook from previous study issues, among these:\n",
    "1. need to download 6 files, rename them and put in the folder before using the cript. WIth this one download one file, no need of rename and then use the script directly\n",
    "2. not general enought to be used with three systems, so one should copy paste a lot of the script which makes it very long and ugly\n",
    "3. not correct regarding tagID in different hen and henID with multiple Tagid\n",
    "4. not correct regarding nan and 0 voltage\n",
    "..."
   ]
  },
  {
   "cell_type": "markdown",
   "metadata": {},
   "source": [
    "# Download data"
   ]
  },
  {
   "cell_type": "code",
   "execution_count": 5,
   "metadata": {},
   "outputs": [
    {
     "name": "stderr",
     "output_type": "stream",
     "text": [
      "C:\\Users\\camil\\anaconda3\\lib\\site-packages\\ipykernel\\ipkernel.py:283: DeprecationWarning: `should_run_async` will not call `transform_cell` automatically in the future. Please pass the result to `transformed_cell` argument and any exception that happen during thetransform in `preprocessing_exc_tuple` in IPython 7.17 and above.\n",
      "  and should_run_async(code)\n"
     ]
    }
   ],
   "source": [
    "#for the logs and device updates\n",
    "over_last_Xdays = 6"
   ]
  },
  {
   "cell_type": "markdown",
   "metadata": {},
   "source": [
    "### logs with their associated HenID"
   ]
  },
  {
   "cell_type": "code",
   "execution_count": 6,
   "metadata": {
    "scrolled": true
   },
   "outputs": [
    {
     "name": "stderr",
     "output_type": "stream",
     "text": [
      "C:\\Users\\camil\\anaconda3\\lib\\site-packages\\ipykernel\\ipkernel.py:283: DeprecationWarning: `should_run_async` will not call `transform_cell` automatically in the future. Please pass the result to `transformed_cell` argument and any exception that happen during thetransform in `preprocessing_exc_tuple` in IPython 7.17 and above.\n",
      "  and should_run_async(code)\n",
      "<>:1: DeprecationWarning: invalid escape sequence \\T\n",
      "<>:1: DeprecationWarning: invalid escape sequence \\T\n",
      "<ipython-input-6-49996d438290>:1: DeprecationWarning: invalid escape sequence \\T\n",
      "  p = glob.glob(os.path.join(path_initial_data, 'Barn 4 Pen*\\TagUpdates\\log*'))\n"
     ]
    },
    {
     "data": {
      "text/html": [
       "<text style=color:black>log: log_00000001 has </text> <text style=color:green>359003</text> <text style=color:black> rows</text>"
      ],
      "text/plain": [
       "<IPython.core.display.HTML object>"
      ]
     },
     "metadata": {},
     "output_type": "display_data"
    },
    {
     "data": {
      "text/html": [
       "<text style=color:black>log: log_00000002 has </text> <text style=color:green>366740</text> <text style=color:black> rows</text>"
      ],
      "text/plain": [
       "<IPython.core.display.HTML object>"
      ]
     },
     "metadata": {},
     "output_type": "display_data"
    },
    {
     "data": {
      "text/html": [
       "<text style=color:black>log: log_00000003 has </text> <text style=color:green>367076</text> <text style=color:black> rows</text>"
      ],
      "text/plain": [
       "<IPython.core.display.HTML object>"
      ]
     },
     "metadata": {},
     "output_type": "display_data"
    },
    {
     "data": {
      "text/html": [
       "<text style=color:black>log: log_00000004 has </text> <text style=color:green>366813</text> <text style=color:black> rows</text>"
      ],
      "text/plain": [
       "<IPython.core.display.HTML object>"
      ]
     },
     "metadata": {},
     "output_type": "display_data"
    },
    {
     "data": {
      "text/html": [
       "<text style=color:black>log: log_00000005 has </text> <text style=color:green>366164</text> <text style=color:black> rows</text>"
      ],
      "text/plain": [
       "<IPython.core.display.HTML object>"
      ]
     },
     "metadata": {},
     "output_type": "display_data"
    },
    {
     "data": {
      "text/html": [
       "<text style=color:black>log: log_00000006 has </text> <text style=color:green>366755</text> <text style=color:black> rows</text>"
      ],
      "text/plain": [
       "<IPython.core.display.HTML object>"
      ]
     },
     "metadata": {},
     "output_type": "display_data"
    },
    {
     "data": {
      "text/html": [
       "<text style=color:black>log: log_00000007 has </text> <text style=color:green>136339</text> <text style=color:black> rows</text>"
      ],
      "text/plain": [
       "<IPython.core.display.HTML object>"
      ]
     },
     "metadata": {},
     "output_type": "display_data"
    },
    {
     "data": {
      "text/html": [
       "<text style=color:black>log: log_00000001 has </text> <text style=color:green>371776</text> <text style=color:black> rows</text>"
      ],
      "text/plain": [
       "<IPython.core.display.HTML object>"
      ]
     },
     "metadata": {},
     "output_type": "display_data"
    },
    {
     "data": {
      "text/html": [
       "<text style=color:black>log: log_00000002 has </text> <text style=color:green>373776</text> <text style=color:black> rows</text>"
      ],
      "text/plain": [
       "<IPython.core.display.HTML object>"
      ]
     },
     "metadata": {},
     "output_type": "display_data"
    },
    {
     "data": {
      "text/html": [
       "<text style=color:black>log: log_00000003 has </text> <text style=color:green>373919</text> <text style=color:black> rows</text>"
      ],
      "text/plain": [
       "<IPython.core.display.HTML object>"
      ]
     },
     "metadata": {},
     "output_type": "display_data"
    },
    {
     "data": {
      "text/html": [
       "<text style=color:black>log: log_00000004 has </text> <text style=color:green>373770</text> <text style=color:black> rows</text>"
      ],
      "text/plain": [
       "<IPython.core.display.HTML object>"
      ]
     },
     "metadata": {},
     "output_type": "display_data"
    },
    {
     "data": {
      "text/html": [
       "<text style=color:black>log: log_00000005 has </text> <text style=color:green>373310</text> <text style=color:black> rows</text>"
      ],
      "text/plain": [
       "<IPython.core.display.HTML object>"
      ]
     },
     "metadata": {},
     "output_type": "display_data"
    },
    {
     "data": {
      "text/html": [
       "<text style=color:black>log: log_00000006 has </text> <text style=color:red>47481</text> <text style=color:black> rows</text>"
      ],
      "text/plain": [
       "<IPython.core.display.HTML object>"
      ]
     },
     "metadata": {},
     "output_type": "display_data"
    },
    {
     "data": {
      "text/html": [
       "<text style=color:black>log: log_00000001 has </text> <text style=color:green>372191</text> <text style=color:black> rows</text>"
      ],
      "text/plain": [
       "<IPython.core.display.HTML object>"
      ]
     },
     "metadata": {},
     "output_type": "display_data"
    },
    {
     "data": {
      "text/html": [
       "<text style=color:black>log: log_00000002 has </text> <text style=color:green>374299</text> <text style=color:black> rows</text>"
      ],
      "text/plain": [
       "<IPython.core.display.HTML object>"
      ]
     },
     "metadata": {},
     "output_type": "display_data"
    },
    {
     "data": {
      "text/html": [
       "<text style=color:black>log: log_00000003 has </text> <text style=color:green>367808</text> <text style=color:black> rows</text>"
      ],
      "text/plain": [
       "<IPython.core.display.HTML object>"
      ]
     },
     "metadata": {},
     "output_type": "display_data"
    },
    {
     "name": "stdout",
     "output_type": "stream",
     "text": [
      "From the focalBirdinfo, you have 160 ative tags\n"
     ]
    },
    {
     "name": "stderr",
     "output_type": "stream",
     "text": [
      "C:\\Users\\camil\\Desktop\\animals_code\\PhD\\UTILS.py:402: FutureWarning: Indexing with multiple keys (implicitly converted to a tuple of keys) will be deprecated, use a list instead.\n",
      "  df_ = df.groupby(['HenID'])['system','PenID','TagID'].agg(lambda x: set(x)).reset_index()\n"
     ]
    },
    {
     "name": "stdout",
     "output_type": "stream",
     "text": [
      "(5149587, 47)\n"
     ]
    },
    {
     "data": {
      "text/html": [
       "<div>\n",
       "<style scoped>\n",
       "    .dataframe tbody tr th:only-of-type {\n",
       "        vertical-align: middle;\n",
       "    }\n",
       "\n",
       "    .dataframe tbody tr th {\n",
       "        vertical-align: top;\n",
       "    }\n",
       "\n",
       "    .dataframe thead th {\n",
       "        text-align: right;\n",
       "    }\n",
       "</style>\n",
       "<table border=\"1\" class=\"dataframe\">\n",
       "  <thead>\n",
       "    <tr style=\"text-align: right;\">\n",
       "      <th></th>\n",
       "      <th>Timestamp</th>\n",
       "      <th>TagSerialNumber</th>\n",
       "      <th>TagID</th>\n",
       "      <th>Zone</th>\n",
       "      <th>systemgantnerid</th>\n",
       "      <th>useless_zone</th>\n",
       "      <th>signalstrength</th>\n",
       "      <th>zone2</th>\n",
       "      <th>signalstzone2</th>\n",
       "      <th>zone3</th>\n",
       "      <th>...</th>\n",
       "      <th>backpackUniqueID</th>\n",
       "      <th>EPI GENETIC TIMESTAMP</th>\n",
       "      <th>HA 23-11-2020</th>\n",
       "      <th>comportement</th>\n",
       "      <th>weight 23-11-2020</th>\n",
       "      <th>HA 04-01-2021</th>\n",
       "      <th>weight 04-01-2021</th>\n",
       "      <th>HA 01-02-21</th>\n",
       "      <th>weight 01-02-21</th>\n",
       "      <th>weight 12-04-21</th>\n",
       "    </tr>\n",
       "  </thead>\n",
       "  <tbody>\n",
       "    <tr>\n",
       "      <th>0</th>\n",
       "      <td>2020-09-29 09:07:00</td>\n",
       "      <td>02001E13</td>\n",
       "      <td>162</td>\n",
       "      <td>Tier 2 (mini 12)</td>\n",
       "      <td>2</td>\n",
       "      <td>8</td>\n",
       "      <td>10</td>\n",
       "      <td>2</td>\n",
       "      <td>8</td>\n",
       "      <td>1</td>\n",
       "      <td>...</td>\n",
       "      <td>12wp</td>\n",
       "      <td>10-date:4-2021</td>\n",
       "      <td>NaN</td>\n",
       "      <td>NaN</td>\n",
       "      <td>1708,4</td>\n",
       "      <td>the student wrote the weight in kg only one di...</td>\n",
       "      <td>1800, +70 -30</td>\n",
       "      <td>NaN</td>\n",
       "      <td>1820,4</td>\n",
       "      <td>1913</td>\n",
       "    </tr>\n",
       "    <tr>\n",
       "      <th>120</th>\n",
       "      <td>2020-09-29 09:08:12</td>\n",
       "      <td>02001E6A</td>\n",
       "      <td>140</td>\n",
       "      <td>Tier 2 (mini 11)</td>\n",
       "      <td>2</td>\n",
       "      <td>7</td>\n",
       "      <td>10</td>\n",
       "      <td>2</td>\n",
       "      <td>8</td>\n",
       "      <td>1</td>\n",
       "      <td>...</td>\n",
       "      <td>11wp</td>\n",
       "      <td>NaN</td>\n",
       "      <td>NaN</td>\n",
       "      <td>NaN</td>\n",
       "      <td>1788,9</td>\n",
       "      <td>NaN</td>\n",
       "      <td>1905,1</td>\n",
       "      <td>NaN</td>\n",
       "      <td>1905,6</td>\n",
       "      <td>2046,7</td>\n",
       "    </tr>\n",
       "    <tr>\n",
       "      <th>1</th>\n",
       "      <td>2020-09-29 09:08:26</td>\n",
       "      <td>02001E13</td>\n",
       "      <td>162</td>\n",
       "      <td>Tier 2 + untere Stange</td>\n",
       "      <td>2</td>\n",
       "      <td>2</td>\n",
       "      <td>11</td>\n",
       "      <td>8</td>\n",
       "      <td>10</td>\n",
       "      <td>3</td>\n",
       "      <td>...</td>\n",
       "      <td>12wp</td>\n",
       "      <td>10-date:4-2021</td>\n",
       "      <td>NaN</td>\n",
       "      <td>NaN</td>\n",
       "      <td>1708,4</td>\n",
       "      <td>the student wrote the weight in kg only one di...</td>\n",
       "      <td>1800, +70 -30</td>\n",
       "      <td>NaN</td>\n",
       "      <td>1820,4</td>\n",
       "      <td>1913</td>\n",
       "    </tr>\n",
       "  </tbody>\n",
       "</table>\n",
       "<p>3 rows × 47 columns</p>\n",
       "</div>"
      ],
      "text/plain": [
       "              Timestamp TagSerialNumber TagID                    Zone  \\\n",
       "0   2020-09-29 09:07:00        02001E13   162        Tier 2 (mini 12)   \n",
       "120 2020-09-29 09:08:12        02001E6A   140        Tier 2 (mini 11)   \n",
       "1   2020-09-29 09:08:26        02001E13   162  Tier 2 + untere Stange   \n",
       "\n",
       "     systemgantnerid  useless_zone  signalstrength  zone2  signalstzone2  \\\n",
       "0                  2             8              10      2              8   \n",
       "120                2             7              10      2              8   \n",
       "1                  2             2              11      8             10   \n",
       "\n",
       "     zone3  ...  backpackUniqueID  EPI GENETIC TIMESTAMP  HA 23-11-2020  \\\n",
       "0        1  ...              12wp         10-date:4-2021            NaN   \n",
       "120      1  ...              11wp                    NaN            NaN   \n",
       "1        3  ...              12wp         10-date:4-2021            NaN   \n",
       "\n",
       "    comportement weight 23-11-2020  \\\n",
       "0            NaN            1708,4   \n",
       "120          NaN            1788,9   \n",
       "1            NaN            1708,4   \n",
       "\n",
       "                                         HA 04-01-2021  weight 04-01-2021  \\\n",
       "0    the student wrote the weight in kg only one di...      1800, +70 -30   \n",
       "120                                                NaN             1905,1   \n",
       "1    the student wrote the weight in kg only one di...      1800, +70 -30   \n",
       "\n",
       "    HA 01-02-21 weight 01-02-21  weight 12-04-21  \n",
       "0           NaN          1820,4             1913  \n",
       "120         NaN          1905,6           2046,7  \n",
       "1           NaN          1820,4             1913  \n",
       "\n",
       "[3 rows x 47 columns]"
      ]
     },
     "metadata": {},
     "output_type": "display_data"
    },
    {
     "data": {
      "text/html": [
       "<div>\n",
       "<style scoped>\n",
       "    .dataframe tbody tr th:only-of-type {\n",
       "        vertical-align: middle;\n",
       "    }\n",
       "\n",
       "    .dataframe tbody tr th {\n",
       "        vertical-align: top;\n",
       "    }\n",
       "\n",
       "    .dataframe thead th {\n",
       "        text-align: right;\n",
       "    }\n",
       "</style>\n",
       "<table border=\"1\" class=\"dataframe\">\n",
       "  <thead>\n",
       "    <tr style=\"text-align: right;\">\n",
       "      <th></th>\n",
       "      <th>Timestamp</th>\n",
       "      <th>TagSerialNumber</th>\n",
       "      <th>TagID</th>\n",
       "      <th>Zone</th>\n",
       "      <th>systemgantnerid</th>\n",
       "      <th>useless_zone</th>\n",
       "      <th>signalstrength</th>\n",
       "      <th>zone2</th>\n",
       "      <th>signalstzone2</th>\n",
       "      <th>zone3</th>\n",
       "      <th>...</th>\n",
       "      <th>backpackUniqueID</th>\n",
       "      <th>EPI GENETIC TIMESTAMP</th>\n",
       "      <th>HA 23-11-2020</th>\n",
       "      <th>comportement</th>\n",
       "      <th>weight 23-11-2020</th>\n",
       "      <th>HA 04-01-2021</th>\n",
       "      <th>weight 04-01-2021</th>\n",
       "      <th>HA 01-02-21</th>\n",
       "      <th>weight 01-02-21</th>\n",
       "      <th>weight 12-04-21</th>\n",
       "    </tr>\n",
       "  </thead>\n",
       "  <tbody>\n",
       "    <tr>\n",
       "      <th>2136944</th>\n",
       "      <td>2021-04-26 09:22:10</td>\n",
       "      <td>02002421</td>\n",
       "      <td>198</td>\n",
       "      <td>Tier 2 + untere Stange</td>\n",
       "      <td>2</td>\n",
       "      <td>2</td>\n",
       "      <td>12</td>\n",
       "      <td>8</td>\n",
       "      <td>10</td>\n",
       "      <td>1</td>\n",
       "      <td>...</td>\n",
       "      <td>12ps</td>\n",
       "      <td>NaN</td>\n",
       "      <td>NaN</td>\n",
       "      <td>NaN</td>\n",
       "      <td>1757,9</td>\n",
       "      <td>the student wrote the weight in kg only one di...</td>\n",
       "      <td>1800, +70 -30</td>\n",
       "      <td>batterie</td>\n",
       "      <td>1808,9</td>\n",
       "      <td>1969,6</td>\n",
       "    </tr>\n",
       "    <tr>\n",
       "      <th>2133908</th>\n",
       "      <td>2021-04-26 09:22:15</td>\n",
       "      <td>02001E70</td>\n",
       "      <td>177</td>\n",
       "      <td>Tier 2 (mini 12)</td>\n",
       "      <td>2</td>\n",
       "      <td>8</td>\n",
       "      <td>17</td>\n",
       "      <td>2</td>\n",
       "      <td>8</td>\n",
       "      <td>0</td>\n",
       "      <td>...</td>\n",
       "      <td>12ss</td>\n",
       "      <td>NaN</td>\n",
       "      <td>NaN</td>\n",
       "      <td>NaN</td>\n",
       "      <td>1580</td>\n",
       "      <td>the student wrote the weight in kg only one di...</td>\n",
       "      <td>1600, +70 -30</td>\n",
       "      <td>NaN</td>\n",
       "      <td>1640,1</td>\n",
       "      <td>1685,1</td>\n",
       "    </tr>\n",
       "    <tr>\n",
       "      <th>2136945</th>\n",
       "      <td>2021-04-26 09:22:19</td>\n",
       "      <td>02002421</td>\n",
       "      <td>198</td>\n",
       "      <td>Tier 2 (mini 12)</td>\n",
       "      <td>2</td>\n",
       "      <td>8</td>\n",
       "      <td>12</td>\n",
       "      <td>2</td>\n",
       "      <td>8</td>\n",
       "      <td>0</td>\n",
       "      <td>...</td>\n",
       "      <td>12ps</td>\n",
       "      <td>NaN</td>\n",
       "      <td>NaN</td>\n",
       "      <td>NaN</td>\n",
       "      <td>1757,9</td>\n",
       "      <td>the student wrote the weight in kg only one di...</td>\n",
       "      <td>1800, +70 -30</td>\n",
       "      <td>batterie</td>\n",
       "      <td>1808,9</td>\n",
       "      <td>1969,6</td>\n",
       "    </tr>\n",
       "  </tbody>\n",
       "</table>\n",
       "<p>3 rows × 47 columns</p>\n",
       "</div>"
      ],
      "text/plain": [
       "                  Timestamp TagSerialNumber TagID                    Zone  \\\n",
       "2136944 2021-04-26 09:22:10        02002421   198  Tier 2 + untere Stange   \n",
       "2133908 2021-04-26 09:22:15        02001E70   177        Tier 2 (mini 12)   \n",
       "2136945 2021-04-26 09:22:19        02002421   198        Tier 2 (mini 12)   \n",
       "\n",
       "         systemgantnerid  useless_zone  signalstrength  zone2  signalstzone2  \\\n",
       "2136944                2             2              12      8             10   \n",
       "2133908                2             8              17      2              8   \n",
       "2136945                2             8              12      2              8   \n",
       "\n",
       "         zone3  ...  backpackUniqueID  EPI GENETIC TIMESTAMP  HA 23-11-2020  \\\n",
       "2136944      1  ...              12ps                    NaN            NaN   \n",
       "2133908      0  ...              12ss                    NaN            NaN   \n",
       "2136945      0  ...              12ps                    NaN            NaN   \n",
       "\n",
       "        comportement weight 23-11-2020  \\\n",
       "2136944          NaN            1757,9   \n",
       "2133908          NaN              1580   \n",
       "2136945          NaN            1757,9   \n",
       "\n",
       "                                             HA 04-01-2021  weight 04-01-2021  \\\n",
       "2136944  the student wrote the weight in kg only one di...      1800, +70 -30   \n",
       "2133908  the student wrote the weight in kg only one di...      1600, +70 -30   \n",
       "2136945  the student wrote the weight in kg only one di...      1800, +70 -30   \n",
       "\n",
       "        HA 01-02-21 weight 01-02-21  weight 12-04-21  \n",
       "2136944    batterie          1808,9           1969,6  \n",
       "2133908         NaN          1640,1           1685,1  \n",
       "2136945    batterie          1808,9           1969,6  \n",
       "\n",
       "[3 rows x 47 columns]"
      ]
     },
     "metadata": {},
     "output_type": "display_data"
    }
   ],
   "source": [
    "p = glob.glob(os.path.join(path_initial_data, 'Barn 4 Pen*\\TagUpdates\\log*'))\n",
    "#mtime = os.stat(os.path.join('.', p[0])).st_mtime\n",
    "#download_time = dt.datetime.fromtimestamp(mtime).strftime('%Y-%m-%d-%H:%M')\n",
    "#download_time = dt.datetime.strptime(download_time, '%Y-%m-%d-%H:%M')\n",
    "#print('The file were downloaded at: ', download_time)\n",
    "    \n",
    "#print('There is %d log files:\\n  %s'%(len(p),'  \\n  '.join(p)))\n",
    "df = preprocessing_Origins(p, config, save=False, dodevice=False)\n",
    "print(df.shape)\n",
    "display(df.head(3))\n",
    "display(df.tail(3))"
   ]
  },
  {
   "cell_type": "code",
   "execution_count": 7,
   "metadata": {},
   "outputs": [
    {
     "name": "stdout",
     "output_type": "stream",
     "text": [
      "From the focalBirdinfo, you have 160 ative tags\n"
     ]
    },
    {
     "name": "stderr",
     "output_type": "stream",
     "text": [
      "C:\\Users\\camil\\anaconda3\\lib\\site-packages\\ipykernel\\ipkernel.py:283: DeprecationWarning: `should_run_async` will not call `transform_cell` automatically in the future. Please pass the result to `transformed_cell` argument and any exception that happen during thetransform in `preprocessing_exc_tuple` in IPython 7.17 and above.\n",
      "  and should_run_async(code)\n"
     ]
    }
   ],
   "source": [
    "df_FB = pd.read_csv(path_FocalBird, sep=';', parse_dates=['StartDate','EndDate'], dayfirst=True, encoding='latin') #verified dates:correct\n",
    "#fill end date to today+1 for the birds which we dont know when is there end date (+1: so that today is taken into account)\n",
    "df_FB['EndDate'].fillna(config.date_max+dt.timedelta(days=1), inplace=True)\n",
    "df_FB['TagID'] = df_FB['TagID'].astype(str)\n",
    "df_FB['PenID'] = df_FB['PenID'].map(int).map(str)\n",
    "#exclude rows were tags were not functionning correctly for some reason \n",
    "df_FB = df_FB[df_FB['ShouldBeExcluded']!='yes']\n",
    "#define a list with the active tags of today/last date\n",
    "li_active_tags = list(df_FB[df_FB['EndDate']>=config.date_max]['TagID'].unique())\n",
    "#Counter(li_active_tags)\n",
    "print('From the focalBirdinfo, you have %d ative tags'%len(li_active_tags))"
   ]
  },
  {
   "cell_type": "markdown",
   "metadata": {},
   "source": [
    "### active tags"
   ]
  },
  {
   "cell_type": "code",
   "execution_count": 8,
   "metadata": {},
   "outputs": [
    {
     "name": "stderr",
     "output_type": "stream",
     "text": [
      "C:\\Users\\camil\\anaconda3\\lib\\site-packages\\ipykernel\\ipkernel.py:283: DeprecationWarning: `should_run_async` will not call `transform_cell` automatically in the future. Please pass the result to `transformed_cell` argument and any exception that happen during thetransform in `preprocessing_exc_tuple` in IPython 7.17 and above.\n",
      "  and should_run_async(code)\n"
     ]
    },
    {
     "name": "stdout",
     "output_type": "stream",
     "text": [
      "(265, 29)\n",
      "(251, 29)\n"
     ]
    },
    {
     "data": {
      "text/html": [
       "<div>\n",
       "<style scoped>\n",
       "    .dataframe tbody tr th:only-of-type {\n",
       "        vertical-align: middle;\n",
       "    }\n",
       "\n",
       "    .dataframe tbody tr th {\n",
       "        vertical-align: top;\n",
       "    }\n",
       "\n",
       "    .dataframe thead th {\n",
       "        text-align: right;\n",
       "    }\n",
       "</style>\n",
       "<table border=\"1\" class=\"dataframe\">\n",
       "  <thead>\n",
       "    <tr style=\"text-align: right;\">\n",
       "      <th></th>\n",
       "      <th>HenID</th>\n",
       "      <th>R-Pen</th>\n",
       "      <th>InitialStartDate</th>\n",
       "      <th>ShouldBeExcluded</th>\n",
       "      <th>StartDate</th>\n",
       "      <th>EndDate</th>\n",
       "      <th>FocalLegringID</th>\n",
       "      <th>Expected % of wrong class</th>\n",
       "      <th>Expected chance of wrong treatment</th>\n",
       "      <th>comments</th>\n",
       "      <th>...</th>\n",
       "      <th>TagID</th>\n",
       "      <th>EPI GENETIC TIMESTAMP</th>\n",
       "      <th>HA 23-11-2020</th>\n",
       "      <th>comportement</th>\n",
       "      <th>weight 23-11-2020</th>\n",
       "      <th>HA 04-01-2021</th>\n",
       "      <th>weight 04-01-2021</th>\n",
       "      <th>HA 01-02-21</th>\n",
       "      <th>weight 01-02-21</th>\n",
       "      <th>weight 12-04-21</th>\n",
       "    </tr>\n",
       "  </thead>\n",
       "  <tbody>\n",
       "    <tr>\n",
       "      <th>0</th>\n",
       "      <td>1</td>\n",
       "      <td>1.0</td>\n",
       "      <td>10.06.2020</td>\n",
       "      <td>NaN</td>\n",
       "      <td>2020-09-28</td>\n",
       "      <td>2021-02-01 00:00:00</td>\n",
       "      <td>3</td>\n",
       "      <td>NaN</td>\n",
       "      <td>0</td>\n",
       "      <td>NaN</td>\n",
       "      <td>...</td>\n",
       "      <td>105</td>\n",
       "      <td>9-date:2-2020</td>\n",
       "      <td>NaN</td>\n",
       "      <td>NaN</td>\n",
       "      <td>1696,5</td>\n",
       "      <td>NaN</td>\n",
       "      <td>1787,8</td>\n",
       "      <td>NaN</td>\n",
       "      <td>1800,9</td>\n",
       "      <td>NaN</td>\n",
       "    </tr>\n",
       "    <tr>\n",
       "      <th>1</th>\n",
       "      <td>2</td>\n",
       "      <td>1.0</td>\n",
       "      <td>10.06.2020</td>\n",
       "      <td>NaN</td>\n",
       "      <td>2020-09-28</td>\n",
       "      <td>2021-04-26</td>\n",
       "      <td>7</td>\n",
       "      <td>NaN</td>\n",
       "      <td>0</td>\n",
       "      <td>NaN</td>\n",
       "      <td>...</td>\n",
       "      <td>18</td>\n",
       "      <td>NaN</td>\n",
       "      <td>NaN</td>\n",
       "      <td>NaN</td>\n",
       "      <td>1734,9</td>\n",
       "      <td>NaN</td>\n",
       "      <td>1691,7</td>\n",
       "      <td>NaN</td>\n",
       "      <td>1777,8</td>\n",
       "      <td>1782,2</td>\n",
       "    </tr>\n",
       "    <tr>\n",
       "      <th>2</th>\n",
       "      <td>3</td>\n",
       "      <td>1.0</td>\n",
       "      <td>10.06.2020</td>\n",
       "      <td>NaN</td>\n",
       "      <td>2020-09-28</td>\n",
       "      <td>2021-04-26</td>\n",
       "      <td>8</td>\n",
       "      <td>NaN</td>\n",
       "      <td>0</td>\n",
       "      <td>NaN</td>\n",
       "      <td>...</td>\n",
       "      <td>114</td>\n",
       "      <td>NaN</td>\n",
       "      <td>NaN</td>\n",
       "      <td>NaN</td>\n",
       "      <td>1499,4</td>\n",
       "      <td>NaN</td>\n",
       "      <td>1714,7</td>\n",
       "      <td>NaN</td>\n",
       "      <td>1838,3</td>\n",
       "      <td>1887,4</td>\n",
       "    </tr>\n",
       "  </tbody>\n",
       "</table>\n",
       "<p>3 rows × 29 columns</p>\n",
       "</div>"
      ],
      "text/plain": [
       "   HenID  R-Pen InitialStartDate ShouldBeExcluded  StartDate  \\\n",
       "0      1    1.0       10.06.2020              NaN 2020-09-28   \n",
       "1      2    1.0       10.06.2020              NaN 2020-09-28   \n",
       "2      3    1.0       10.06.2020              NaN 2020-09-28   \n",
       "\n",
       "               EndDate  FocalLegringID Expected % of wrong class  \\\n",
       "0  2021-02-01 00:00:00               3                       NaN   \n",
       "1           2021-04-26               7                       NaN   \n",
       "2           2021-04-26               8                       NaN   \n",
       "\n",
       "  Expected chance of wrong treatment comments  ... TagID  \\\n",
       "0                                  0      NaN  ...   105   \n",
       "1                                  0      NaN  ...    18   \n",
       "2                                  0      NaN  ...   114   \n",
       "\n",
       "  EPI GENETIC TIMESTAMP HA 23-11-2020 comportement  weight 23-11-2020  \\\n",
       "0         9-date:2-2020           NaN          NaN             1696,5   \n",
       "1                   NaN           NaN          NaN             1734,9   \n",
       "2                   NaN           NaN          NaN             1499,4   \n",
       "\n",
       "  HA 04-01-2021  weight 04-01-2021 HA 01-02-21 weight 01-02-21 weight 12-04-21  \n",
       "0           NaN             1787,8         NaN          1800,9             NaN  \n",
       "1           NaN             1691,7         NaN          1777,8          1782,2  \n",
       "2           NaN             1714,7         NaN          1838,3          1887,4  \n",
       "\n",
       "[3 rows x 29 columns]"
      ]
     },
     "execution_count": 8,
     "metadata": {},
     "output_type": "execute_result"
    }
   ],
   "source": [
    "df_tag = pd.read_csv(path_FocalBird, sep=';', parse_dates=['StartDate','EndDate'], dayfirst=True, encoding='latin')\n",
    "df_tag['EndDate'].fillna(dt.date.today(), inplace=True)\n",
    "print(df_tag.shape)\n",
    "df_tag = df_tag[df_tag['ShouldBeExcluded']!='yes']\n",
    "df_tag['TagID'] = df_tag['TagID'].astype(str)\n",
    "print(df_tag.shape)\n",
    "df_tag.head(3)"
   ]
  },
  {
   "cell_type": "code",
   "execution_count": 9,
   "metadata": {},
   "outputs": [
    {
     "name": "stdout",
     "output_type": "stream",
     "text": [
      "From your focalbird document you should have 160 ative tags\n"
     ]
    },
    {
     "name": "stderr",
     "output_type": "stream",
     "text": [
      "C:\\Users\\camil\\anaconda3\\lib\\site-packages\\ipykernel\\ipkernel.py:283: DeprecationWarning: `should_run_async` will not call `transform_cell` automatically in the future. Please pass the result to `transformed_cell` argument and any exception that happen during thetransform in `preprocessing_exc_tuple` in IPython 7.17 and above.\n",
      "  and should_run_async(code)\n"
     ]
    }
   ],
   "source": [
    "li_active_tags = list(set(df_tag[df_tag['EndDate']>=dt.date.today()]['TagID'].unique()))\n",
    "#Counter(li_active_tags)\n",
    "print('From your focalbird document you should have %d ative tags'%len(li_active_tags))"
   ]
  },
  {
   "cell_type": "markdown",
   "metadata": {},
   "source": [
    "### device"
   ]
  },
  {
   "cell_type": "code",
   "execution_count": 10,
   "metadata": {
    "scrolled": true
   },
   "outputs": [
    {
     "name": "stderr",
     "output_type": "stream",
     "text": [
      "C:\\Users\\camil\\anaconda3\\lib\\site-packages\\ipykernel\\ipkernel.py:283: DeprecationWarning: `should_run_async` will not call `transform_cell` automatically in the future. Please pass the result to `transformed_cell` argument and any exception that happen during thetransform in `preprocessing_exc_tuple` in IPython 7.17 and above.\n",
      "  and should_run_async(code)\n",
      "<>:4: DeprecationWarning: invalid escape sequence \\D\n",
      "<>:4: DeprecationWarning: invalid escape sequence \\D\n",
      "<ipython-input-10-f27d1d550a49>:4: DeprecationWarning: invalid escape sequence \\D\n",
      "  for path_system in glob.glob(os.path.join(path_initial_data, 'Barn 4 Pen*\\DeviceUpdates')):\n",
      " 11%|█████████▎                                                                          | 1/9 [00:28<03:47, 28.48s/it]"
     ]
    },
    {
     "name": "stdout",
     "output_type": "stream",
     "text": [
      "(214900, 19)\n",
      "----------------- G:\\VPHI\\Welfare\\2- Research Projects\\OFHE2.OriginsE2\\GantnerSystem\\_dailycheckingSystem\\Barn 4 Pen 10 - 12\\DeviceUpdates\\log_00000015.csv\n"
     ]
    },
    {
     "name": "stderr",
     "output_type": "stream",
     "text": [
      "\r",
      " 22%|██████████████████▋                                                                 | 2/9 [00:56<03:18, 28.41s/it]"
     ]
    },
    {
     "name": "stdout",
     "output_type": "stream",
     "text": [
      "(214900, 19)\n",
      "----------------- G:\\VPHI\\Welfare\\2- Research Projects\\OFHE2.OriginsE2\\GantnerSystem\\_dailycheckingSystem\\Barn 4 Pen 10 - 12\\DeviceUpdates\\log_00000016.csv\n"
     ]
    },
    {
     "name": "stderr",
     "output_type": "stream",
     "text": [
      "\r",
      " 33%|████████████████████████████                                                        | 3/9 [01:16<02:34, 25.80s/it]"
     ]
    },
    {
     "name": "stdout",
     "output_type": "stream",
     "text": [
      "(156380, 19)\n",
      "----------------- G:\\VPHI\\Welfare\\2- Research Projects\\OFHE2.OriginsE2\\GantnerSystem\\_dailycheckingSystem\\Barn 4 Pen 10 - 12\\DeviceUpdates\\log_00000017.csv\n"
     ]
    },
    {
     "name": "stderr",
     "output_type": "stream",
     "text": [
      "\r",
      " 44%|█████████████████████████████████████▎                                              | 4/9 [01:44<02:12, 26.45s/it]"
     ]
    },
    {
     "name": "stdout",
     "output_type": "stream",
     "text": [
      "(221832, 19)\n",
      "----------------- G:\\VPHI\\Welfare\\2- Research Projects\\OFHE2.OriginsE2\\GantnerSystem\\_dailycheckingSystem\\Barn 4 Pen 3 - 5\\DeviceUpdates\\log_00000016.csv\n"
     ]
    },
    {
     "name": "stderr",
     "output_type": "stream",
     "text": [
      "\r",
      " 56%|██████████████████████████████████████████████▋                                     | 5/9 [01:47<01:17, 19.33s/it]"
     ]
    },
    {
     "name": "stdout",
     "output_type": "stream",
     "text": [
      "(19665, 19)\n",
      "----------------- G:\\VPHI\\Welfare\\2- Research Projects\\OFHE2.OriginsE2\\GantnerSystem\\_dailycheckingSystem\\Barn 4 Pen 3 - 5\\DeviceUpdates\\log_00000018.csv\n"
     ]
    },
    {
     "name": "stderr",
     "output_type": "stream",
     "text": [
      "\r",
      " 67%|████████████████████████████████████████████████████████                            | 6/9 [02:14<01:04, 21.60s/it]"
     ]
    },
    {
     "name": "stdout",
     "output_type": "stream",
     "text": [
      "(217764, 19)\n",
      "----------------- G:\\VPHI\\Welfare\\2- Research Projects\\OFHE2.OriginsE2\\GantnerSystem\\_dailycheckingSystem\\Barn 4 Pen 3 - 5\\DeviceUpdates\\log_00000017.csv\n"
     ]
    },
    {
     "name": "stderr",
     "output_type": "stream",
     "text": [
      "\r",
      " 78%|█████████████████████████████████████████████████████████████████▎                  | 7/9 [02:35<00:43, 21.58s/it]"
     ]
    },
    {
     "name": "stdout",
     "output_type": "stream",
     "text": [
      "(225063, 19)\n",
      "----------------- G:\\VPHI\\Welfare\\2- Research Projects\\OFHE2.OriginsE2\\GantnerSystem\\_dailycheckingSystem\\Barn 4 Pen 8 - 9\\DeviceUpdates\\log_00000010.csv\n"
     ]
    },
    {
     "name": "stderr",
     "output_type": "stream",
     "text": [
      "\r",
      " 89%|██████████████████████████████████████████████████████████████████████████▋         | 8/9 [03:05<00:23, 23.98s/it]"
     ]
    },
    {
     "name": "stdout",
     "output_type": "stream",
     "text": [
      "(223380, 19)\n",
      "----------------- G:\\VPHI\\Welfare\\2- Research Projects\\OFHE2.OriginsE2\\GantnerSystem\\_dailycheckingSystem\\Barn 4 Pen 8 - 9\\DeviceUpdates\\log_00000011.csv\n"
     ]
    },
    {
     "name": "stderr",
     "output_type": "stream",
     "text": [
      "100%|████████████████████████████████████████████████████████████████████████████████████| 9/9 [03:30<00:00, 23.37s/it]"
     ]
    },
    {
     "name": "stdout",
     "output_type": "stream",
     "text": [
      "(199500, 19)\n",
      "----------------- G:\\VPHI\\Welfare\\2- Research Projects\\OFHE2.OriginsE2\\GantnerSystem\\_dailycheckingSystem\\Barn 4 Pen 8 - 9\\DeviceUpdates\\log_00000012.csv\n"
     ]
    },
    {
     "name": "stderr",
     "output_type": "stream",
     "text": [
      "\n"
     ]
    },
    {
     "name": "stdout",
     "output_type": "stream",
     "text": [
      "(1693384, 20)\n",
      "['log_00000015' 'log_00000016' 'log_00000017' 'log_00000018'\n",
      " 'log_00000010' 'log_00000011' 'log_00000012']\n",
      "(1623657, 20)\n"
     ]
    },
    {
     "data": {
      "text/html": [
       "<div>\n",
       "<style scoped>\n",
       "    .dataframe tbody tr th:only-of-type {\n",
       "        vertical-align: middle;\n",
       "    }\n",
       "\n",
       "    .dataframe tbody tr th {\n",
       "        vertical-align: top;\n",
       "    }\n",
       "\n",
       "    .dataframe thead th {\n",
       "        text-align: right;\n",
       "    }\n",
       "</style>\n",
       "<table border=\"1\" class=\"dataframe\">\n",
       "  <thead>\n",
       "    <tr style=\"text-align: right;\">\n",
       "      <th></th>\n",
       "      <th>Timestamp</th>\n",
       "      <th>sort</th>\n",
       "      <th>code</th>\n",
       "      <th>sender</th>\n",
       "      <th>Temperature</th>\n",
       "      <th>Battery Voltage</th>\n",
       "      <th>MovementCounter</th>\n",
       "      <th>LastLFSeen</th>\n",
       "      <th>LFCounter</th>\n",
       "      <th>LFRSSISum</th>\n",
       "      <th>Zone</th>\n",
       "      <th>Subzone</th>\n",
       "      <th>Time</th>\n",
       "      <th>LastInfo</th>\n",
       "      <th>LastLocation</th>\n",
       "      <th>LastAction</th>\n",
       "      <th>data_path</th>\n",
       "      <th>system</th>\n",
       "      <th>logID</th>\n",
       "      <th>NeedsBatteries</th>\n",
       "    </tr>\n",
       "  </thead>\n",
       "  <tbody>\n",
       "    <tr>\n",
       "      <th>199497</th>\n",
       "      <td>2021-04-26 09:11:03</td>\n",
       "      <td>Tag</td>\n",
       "      <td>02002428</td>\n",
       "      <td>195</td>\n",
       "      <td>27.0</td>\n",
       "      <td>2976.0</td>\n",
       "      <td>46.0</td>\n",
       "      <td>0.0</td>\n",
       "      <td>404.0</td>\n",
       "      <td>5963.0</td>\n",
       "      <td>3.0</td>\n",
       "      <td>2.0</td>\n",
       "      <td>97.0</td>\n",
       "      <td>26.04.2021 09:04:29</td>\n",
       "      <td>26.04.2021 09:02:49</td>\n",
       "      <td>2021-04-26 09:10:40</td>\n",
       "      <td>G:\\VPHI\\Welfare\\2- Research Projects\\OFHE2.Ori...</td>\n",
       "      <td>pens:8 - 9</td>\n",
       "      <td>log_00000012</td>\n",
       "      <td>True</td>\n",
       "    </tr>\n",
       "    <tr>\n",
       "      <th>199498</th>\n",
       "      <td>2021-04-26 09:11:03</td>\n",
       "      <td>Tag</td>\n",
       "      <td>02002332</td>\n",
       "      <td>196</td>\n",
       "      <td>28.0</td>\n",
       "      <td>2982.0</td>\n",
       "      <td>22.0</td>\n",
       "      <td>1.0</td>\n",
       "      <td>408.0</td>\n",
       "      <td>7269.0</td>\n",
       "      <td>3.0</td>\n",
       "      <td>4.0</td>\n",
       "      <td>255.0</td>\n",
       "      <td>26.04.2021 09:04:20</td>\n",
       "      <td>26.04.2021 09:10:46</td>\n",
       "      <td>2021-04-26 09:10:46</td>\n",
       "      <td>G:\\VPHI\\Welfare\\2- Research Projects\\OFHE2.Ori...</td>\n",
       "      <td>pens:8 - 9</td>\n",
       "      <td>log_00000012</td>\n",
       "      <td>True</td>\n",
       "    </tr>\n",
       "    <tr>\n",
       "      <th>199499</th>\n",
       "      <td>2021-04-26 09:11:03</td>\n",
       "      <td>Tag</td>\n",
       "      <td>02002333</td>\n",
       "      <td>197</td>\n",
       "      <td>29.0</td>\n",
       "      <td>3005.0</td>\n",
       "      <td>73.0</td>\n",
       "      <td>3.0</td>\n",
       "      <td>431.0</td>\n",
       "      <td>4788.0</td>\n",
       "      <td>3.0</td>\n",
       "      <td>2.0</td>\n",
       "      <td>255.0</td>\n",
       "      <td>26.04.2021 09:08:27</td>\n",
       "      <td>26.04.2021 09:10:00</td>\n",
       "      <td>2021-04-26 09:10:00</td>\n",
       "      <td>G:\\VPHI\\Welfare\\2- Research Projects\\OFHE2.Ori...</td>\n",
       "      <td>pens:8 - 9</td>\n",
       "      <td>log_00000012</td>\n",
       "      <td>True</td>\n",
       "    </tr>\n",
       "  </tbody>\n",
       "</table>\n",
       "</div>"
      ],
      "text/plain": [
       "                 Timestamp sort      code sender  Temperature  \\\n",
       "199497 2021-04-26 09:11:03  Tag  02002428    195         27.0   \n",
       "199498 2021-04-26 09:11:03  Tag  02002332    196         28.0   \n",
       "199499 2021-04-26 09:11:03  Tag  02002333    197         29.0   \n",
       "\n",
       "        Battery Voltage  MovementCounter  LastLFSeen  LFCounter  LFRSSISum  \\\n",
       "199497           2976.0             46.0         0.0      404.0     5963.0   \n",
       "199498           2982.0             22.0         1.0      408.0     7269.0   \n",
       "199499           3005.0             73.0         3.0      431.0     4788.0   \n",
       "\n",
       "        Zone  Subzone   Time             LastInfo         LastLocation  \\\n",
       "199497   3.0      2.0   97.0  26.04.2021 09:04:29  26.04.2021 09:02:49   \n",
       "199498   3.0      4.0  255.0  26.04.2021 09:04:20  26.04.2021 09:10:46   \n",
       "199499   3.0      2.0  255.0  26.04.2021 09:08:27  26.04.2021 09:10:00   \n",
       "\n",
       "                LastAction                                          data_path  \\\n",
       "199497 2021-04-26 09:10:40  G:\\VPHI\\Welfare\\2- Research Projects\\OFHE2.Ori...   \n",
       "199498 2021-04-26 09:10:46  G:\\VPHI\\Welfare\\2- Research Projects\\OFHE2.Ori...   \n",
       "199499 2021-04-26 09:10:00  G:\\VPHI\\Welfare\\2- Research Projects\\OFHE2.Ori...   \n",
       "\n",
       "            system         logID  NeedsBatteries  \n",
       "199497  pens:8 - 9  log_00000012            True  \n",
       "199498  pens:8 - 9  log_00000012            True  \n",
       "199499  pens:8 - 9  log_00000012            True  "
      ]
     },
     "execution_count": 10,
     "metadata": {},
     "output_type": "execute_result"
    }
   ],
   "source": [
    "#select last x logs\n",
    "last_x_logs = math.ceil(over_last_Xdays/2) #arondi en haut\n",
    "li_logs = []\n",
    "for path_system in glob.glob(os.path.join(path_initial_data, 'Barn 4 Pen*\\DeviceUpdates')):\n",
    "    li_ = glob.glob(os.path.join(path_system, 'log*'))\n",
    "    li_.sort(key=lambda x: os.path.getmtime(x), reverse=False)\n",
    "    li_logs.extend(li_[-last_x_logs:]) \n",
    "#next version\n",
    "#li_newFirmwarecol = ['Timestamp','sort','code','sender','Temperature','Battery Voltage','MovementCounter','LastLFSeen',\n",
    "#                     'LFCounter','LFRSSISum','Zone', 'Subzone','LFRSSI','Time','LastInfo','LastLocation','LastAction']\n",
    "li_newFirmwarecol = ['Timestamp','sort','code','sender','Temperature','Battery Voltage','MovementCounter','LastLFSeen',\n",
    "                     'LFCounter','LFRSSISum','Zone', 'Subzone','Time','LastInfo','LastLocation','LastAction']\n",
    "#lastReg = LastAction\n",
    "li_df = []\n",
    "for path_log in tqdm.tqdm(li_logs):\n",
    "    #confused month and day\n",
    "    df_device = pd.read_csv(os.path.join(path_log), sep=';', names=li_newFirmwarecol, parse_dates=['LastAction','Timestamp'],\n",
    "                           dayfirst=True)\n",
    "    df_device['data_path'] = path_log\n",
    "    df_device['system'] = 'pens:'+path_log.split('Barn 4 Pen ')[1].split('\\\\')[0]\n",
    "    df_device['logID'] = path_log.split('\\\\')[-1].split('.')[0]\n",
    "    print(df_device.shape)\n",
    "    print('-----------------', path_log)\n",
    "    #display(df_device.head(3))\n",
    "    #display(df_device.tail(3))\n",
    "    li_df.append(df_device)\n",
    "df_device = pd.concat(li_df)\n",
    "df_device = df_device[df_device['Timestamp']>=dt.datetime(2020,9,29)]\n",
    "df['date'] = df['Timestamp'].map(lambda x: dt.datetime.date(x))\n",
    "df_device['sender'].fillna(' ', inplace=True)\n",
    "#add the info on if the device needs batterie or not\n",
    "df_device['NeedsBatteries'] = df_device.apply(lambda x: ('mini' in x['sender']) | (x['sender']=='Wintergarten') | \\\n",
    "                                              (x['sort']=='Tag'), axis=1)\n",
    "#remove old tags\n",
    "print(df_device.shape)\n",
    "df_device = df_device[~((df_device['sort']=='Tag')&(~df_device['sender'].isin(li_active_tags)))]\n",
    "print(df_device['logID'].unique())\n",
    "print(df_device.shape)\n",
    "df_device.tail(3)"
   ]
  },
  {
   "cell_type": "code",
   "execution_count": 11,
   "metadata": {},
   "outputs": [
    {
     "name": "stderr",
     "output_type": "stream",
     "text": [
      "C:\\Users\\camil\\anaconda3\\lib\\site-packages\\ipykernel\\ipkernel.py:283: DeprecationWarning: `should_run_async` will not call `transform_cell` automatically in the future. Please pass the result to `transformed_cell` argument and any exception that happen during thetransform in `preprocessing_exc_tuple` in IPython 7.17 and above.\n",
      "  and should_run_async(code)\n"
     ]
    }
   ],
   "source": [
    "#df_device.groupby(['system','logID'])['NeedsBatteries'].count().reset_index()"
   ]
  },
  {
   "cell_type": "code",
   "execution_count": 12,
   "metadata": {},
   "outputs": [
    {
     "name": "stderr",
     "output_type": "stream",
     "text": [
      "C:\\Users\\camil\\anaconda3\\lib\\site-packages\\ipykernel\\ipkernel.py:283: DeprecationWarning: `should_run_async` will not call `transform_cell` automatically in the future. Please pass the result to `transformed_cell` argument and any exception that happen during thetransform in `preprocessing_exc_tuple` in IPython 7.17 and above.\n",
      "  and should_run_async(code)\n"
     ]
    }
   ],
   "source": [
    "#df_device[df_device['logID']=='log_00000010']"
   ]
  },
  {
   "cell_type": "code",
   "execution_count": 13,
   "metadata": {},
   "outputs": [
    {
     "name": "stderr",
     "output_type": "stream",
     "text": [
      "C:\\Users\\camil\\anaconda3\\lib\\site-packages\\ipykernel\\ipkernel.py:283: DeprecationWarning: `should_run_async` will not call `transform_cell` automatically in the future. Please pass the result to `transformed_cell` argument and any exception that happen during thetransform in `preprocessing_exc_tuple` in IPython 7.17 and above.\n",
      "  and should_run_async(code)\n"
     ]
    }
   ],
   "source": [
    "#an error might be cause if the alst row was not complet when the file was downloaded"
   ]
  },
  {
   "cell_type": "code",
   "execution_count": 14,
   "metadata": {},
   "outputs": [
    {
     "name": "stderr",
     "output_type": "stream",
     "text": [
      "C:\\Users\\camil\\anaconda3\\lib\\site-packages\\ipykernel\\ipkernel.py:283: DeprecationWarning: `should_run_async` will not call `transform_cell` automatically in the future. Please pass the result to `transformed_cell` argument and any exception that happen during thetransform in `preprocessing_exc_tuple` in IPython 7.17 and above.\n",
      "  and should_run_async(code)\n"
     ]
    }
   ],
   "source": [
    "#df_device[df_device['sort']=='Marker'][['code','sender','system']].drop_duplicates() #all actives at least once"
   ]
  },
  {
   "cell_type": "code",
   "execution_count": 15,
   "metadata": {},
   "outputs": [
    {
     "name": "stderr",
     "output_type": "stream",
     "text": [
      "C:\\Users\\camil\\anaconda3\\lib\\site-packages\\ipykernel\\ipkernel.py:283: DeprecationWarning: `should_run_async` will not call `transform_cell` automatically in the future. Please pass the result to `transformed_cell` argument and any exception that happen during thetransform in `preprocessing_exc_tuple` in IPython 7.17 and above.\n",
      "  and should_run_async(code)\n"
     ]
    }
   ],
   "source": [
    "#df_device[(df_device['sort']=='Tag')&(df_device['Battery Voltage']<0)]"
   ]
  },
  {
   "cell_type": "markdown",
   "metadata": {},
   "source": [
    "# Use only the last few days"
   ]
  },
  {
   "cell_type": "code",
   "execution_count": 16,
   "metadata": {},
   "outputs": [
    {
     "name": "stderr",
     "output_type": "stream",
     "text": [
      "C:\\Users\\camil\\anaconda3\\lib\\site-packages\\ipykernel\\ipkernel.py:283: DeprecationWarning: `should_run_async` will not call `transform_cell` automatically in the future. Please pass the result to `transformed_cell` argument and any exception that happen during thetransform in `preprocessing_exc_tuple` in IPython 7.17 and above.\n",
      "  and should_run_async(code)\n"
     ]
    },
    {
     "data": {
      "text/plain": [
       "array([datetime.date(2021, 4, 20), datetime.date(2021, 4, 21),\n",
       "       datetime.date(2021, 4, 22), datetime.date(2021, 4, 23),\n",
       "       datetime.date(2021, 4, 24), datetime.date(2021, 4, 25),\n",
       "       datetime.date(2021, 4, 26)], dtype=object)"
      ]
     },
     "execution_count": 16,
     "metadata": {},
     "output_type": "execute_result"
    }
   ],
   "source": [
    "download_time = max(df_device['Timestamp'].tolist())\n",
    "\n",
    "#remove the days we dont want\n",
    "df_device['to_analyse'] = df_device['Timestamp'].map(lambda x: x>=(download_time-dt.timedelta(days=over_last_Xdays)))\n",
    "df_device = df_device[df_device['to_analyse']]\n",
    "\n",
    "path_daily_ver = os.path.join(path_extracted_data_daily_check,str(download_time).split(' ')[0])\n",
    "#create a director if not existing\n",
    "if not os.path.exists(path_daily_ver):\n",
    "    os.makedirs(path_daily_ver)\n",
    "\n",
    "#keep only the last over_last_Xdays days in the logs\n",
    "df['to_analyse'] = df['Timestamp'].map(lambda x: x>=(download_time-dt.timedelta(days=over_last_Xdays)))\n",
    "df = df[df['to_analyse']]\n",
    "df[df['to_analyse']]['date'].unique()    "
   ]
  },
  {
   "cell_type": "code",
   "execution_count": 17,
   "metadata": {},
   "outputs": [
    {
     "name": "stderr",
     "output_type": "stream",
     "text": [
      "C:\\Users\\camil\\anaconda3\\lib\\site-packages\\ipykernel\\ipkernel.py:283: DeprecationWarning: `should_run_async` will not call `transform_cell` automatically in the future. Please pass the result to `transformed_cell` argument and any exception that happen during thetransform in `preprocessing_exc_tuple` in IPython 7.17 and above.\n",
      "  and should_run_async(code)\n"
     ]
    },
    {
     "data": {
      "text/plain": [
       "Timestamp('2021-04-26 09:19:55')"
      ]
     },
     "execution_count": 17,
     "metadata": {},
     "output_type": "execute_result"
    }
   ],
   "source": [
    "download_time"
   ]
  },
  {
   "cell_type": "markdown",
   "metadata": {},
   "source": [
    "# Tags last records"
   ]
  },
  {
   "cell_type": "code",
   "execution_count": 18,
   "metadata": {
    "scrolled": false
   },
   "outputs": [
    {
     "name": "stderr",
     "output_type": "stream",
     "text": [
      "C:\\Users\\camil\\anaconda3\\lib\\site-packages\\ipykernel\\ipkernel.py:283: DeprecationWarning: `should_run_async` will not call `transform_cell` automatically in the future. Please pass the result to `transformed_cell` argument and any exception that happen during thetransform in `preprocessing_exc_tuple` in IPython 7.17 and above.\n",
      "  and should_run_async(code)\n"
     ]
    },
    {
     "name": "stdout",
     "output_type": "stream",
     "text": [
      "(0, 0) (160, 5)\n",
      "(160, 5)\n",
      "------------- Tags with no records since at least 10 hours: -------------\n",
      "There is 0 such tags, we will print a maximum of 50 line (starting form the worst ones)\n",
      "There is 0 tags with at least one issue\n"
     ]
    },
    {
     "data": {
      "text/html": [
       "<div>\n",
       "<style scoped>\n",
       "    .dataframe tbody tr th:only-of-type {\n",
       "        vertical-align: middle;\n",
       "    }\n",
       "\n",
       "    .dataframe tbody tr th {\n",
       "        vertical-align: top;\n",
       "    }\n",
       "\n",
       "    .dataframe thead th {\n",
       "        text-align: right;\n",
       "    }\n",
       "</style>\n",
       "<table border=\"1\" class=\"dataframe\">\n",
       "  <thead>\n",
       "    <tr style=\"text-align: right;\">\n",
       "      <th></th>\n",
       "      <th>TagID</th>\n",
       "      <th>PenID</th>\n",
       "      <th>last_record_timestamp</th>\n",
       "      <th>nbr_h_since_lastrecord</th>\n",
       "    </tr>\n",
       "  </thead>\n",
       "  <tbody>\n",
       "  </tbody>\n",
       "</table>\n",
       "</div>"
      ],
      "text/plain": [
       "Empty DataFrame\n",
       "Columns: [TagID, PenID, last_record_timestamp, nbr_h_since_lastrecord]\n",
       "Index: []"
      ]
     },
     "execution_count": 18,
     "metadata": {},
     "output_type": "execute_result"
    }
   ],
   "source": [
    "#tags last records and active tags with no records\n",
    "df_ = df[df['TagID'].isin(li_active_tags)].groupby(['TagID','PenID'])['Timestamp'].agg(lambda x: list(x)).reset_index()\n",
    "df_['last_record_timestamp'] = df_['Timestamp'].map(lambda x: max(x))\n",
    "df_['nbr_h_since_lastrecord'] = df_['last_record_timestamp'].map(lambda x: int((download_time-x).total_seconds()/60/60))\n",
    "\n",
    "#add active tags that had no transition at all\n",
    "li_no_transition = [i for i in li_active_tags if i not in df['TagID'].unique()]\n",
    "df_no_transition = pd.DataFrame([{'TagID':tag_, 'nbr_h_since_lastrecord':9999} for tag_ in li_no_transition])\n",
    "print(df_no_transition.shape, df_.shape)\n",
    "df_ = pd.concat([df_, df_no_transition])\n",
    "print(df_.shape)\n",
    "#remove the older row of tags taht appear two times (i.e. if they changed pens for example)\n",
    "df_.sort_values(['nbr_h_since_lastrecord'], ascending=False, inplace=True)\n",
    "df_.drop_duplicates(subset=['TagID'], keep='last', inplace=True)\n",
    "df_[['TagID','PenID','last_record_timestamp','nbr_h_since_lastrecord']].to_csv(os.path.join(path_daily_ver, \n",
    "                                                                           id_run+str(download_time).split(' ')[0]+'h_TagsLastRecords.csv'), \n",
    "                                                              sep=';', index=False)\n",
    "\n",
    "h = 10\n",
    "print('------------- Tags with no records since at least %d hours: -------------'%h)\n",
    "print('There is %d such tags, we will print a maximum of 50 line (starting form the worst ones)'%df_[df_['nbr_h_since_lastrecord']>h].shape[0])\n",
    "li_tag_issues = df_[df_['nbr_h_since_lastrecord']>h][['TagID','PenID','last_record_timestamp','nbr_h_since_lastrecord']]['TagID'].tolist()\n",
    "print('There is %d tags with at least one issue'%len(set(li_tag_issues)))\n",
    "df_tag_summary = df_.copy()\n",
    "df_[df_['nbr_h_since_lastrecord']>h][['TagID','PenID','last_record_timestamp','nbr_h_since_lastrecord']].head(50)"
   ]
  },
  {
   "cell_type": "code",
   "execution_count": 19,
   "metadata": {},
   "outputs": [
    {
     "name": "stderr",
     "output_type": "stream",
     "text": [
      "C:\\Users\\camil\\anaconda3\\lib\\site-packages\\ipykernel\\ipkernel.py:283: DeprecationWarning: `should_run_async` will not call `transform_cell` automatically in the future. Please pass the result to `transformed_cell` argument and any exception that happen during thetransform in `preprocessing_exc_tuple` in IPython 7.17 and above.\n",
      "  and should_run_async(code)\n"
     ]
    }
   ],
   "source": [
    "#df[df['TagID']=='19'] #10.04 morning: verify in video\n",
    "#df_device[df_device['sender']=='29']"
   ]
  },
  {
   "cell_type": "markdown",
   "metadata": {},
   "source": [
    "# Reader last update"
   ]
  },
  {
   "cell_type": "markdown",
   "metadata": {},
   "source": [
    "#understand how the device logs are\n",
    "df_test = df_device.groupby('code')['system'].agg(lambda x: len(set(x))).reset_index()\n",
    "df_test[df_test['system']>1] #--> no code in two system!!\n",
    "#importantly:\n",
    "df_device[df_device['sort']!='Tag'].groupby(['sender'])['system','code','sort'].agg(lambda x: set(x)).reset_index()"
   ]
  },
  {
   "cell_type": "code",
   "execution_count": 20,
   "metadata": {},
   "outputs": [
    {
     "name": "stdout",
     "output_type": "stream",
     "text": [
      "The last read out from the reader of Reader Pen 3-5 arrived at: 2021-04-26 09:11:10\n",
      "The last read out from the reader of Reader Pen 8-9 arrived at: 2021-04-26 09:10:59\n",
      "The last read out from the reader of Reader Pen 10-12 arrived at: 2021-04-26 09:19:52\n"
     ]
    },
    {
     "name": "stderr",
     "output_type": "stream",
     "text": [
      "C:\\Users\\camil\\anaconda3\\lib\\site-packages\\ipykernel\\ipkernel.py:283: DeprecationWarning: `should_run_async` will not call `transform_cell` automatically in the future. Please pass the result to `transformed_cell` argument and any exception that happen during thetransform in `preprocessing_exc_tuple` in IPython 7.17 and above.\n",
      "  and should_run_async(code)\n"
     ]
    }
   ],
   "source": [
    "for reader_code in dico_rc_sys.keys():\n",
    "    print(\"The last read out from the reader of %s arrived at: %s\"%(dico_rc_sys[reader_code],\n",
    "                                                    str(max(df_device[df_device['code']==reader_code]['LastAction'].tolist()))))"
   ]
  },
  {
   "cell_type": "markdown",
   "metadata": {},
   "source": [
    "#cleaning step: remove days for specific hens when the tag was not sending output regularly anymore\n",
    "df_test = df_device[df_device['sort']=='Tag'].copy()\n",
    "df_test['date'] = df_test['Timestamp'].map(lambda x: dt.datetime.date(x))\n",
    "df_test = df_test.groupby(['sender','date','hour'])['LastAction'].agg(lambda x: list(x)).reset_index()\n",
    "df_test.rename(columns={'sender':'TagID'}, inplace=True)\n",
    "df_test['nbr_last_action']\n",
    "#last action biggest gap\n",
    "print(df_test.shape)\n",
    "df_test.head(3)"
   ]
  },
  {
   "cell_type": "markdown",
   "metadata": {},
   "source": [
    "## LF Counter"
   ]
  },
  {
   "cell_type": "code",
   "execution_count": 21,
   "metadata": {},
   "outputs": [
    {
     "name": "stderr",
     "output_type": "stream",
     "text": [
      "C:\\Users\\camil\\anaconda3\\lib\\site-packages\\ipykernel\\ipkernel.py:283: DeprecationWarning: `should_run_async` will not call `transform_cell` automatically in the future. Please pass the result to `transformed_cell` argument and any exception that happen during thetransform in `preprocessing_exc_tuple` in IPython 7.17 and above.\n",
      "  and should_run_async(code)\n"
     ]
    },
    {
     "name": "stdout",
     "output_type": "stream",
     "text": [
      "(1120, 5)\n"
     ]
    },
    {
     "data": {
      "text/html": [
       "<div>\n",
       "<style scoped>\n",
       "    .dataframe tbody tr th:only-of-type {\n",
       "        vertical-align: middle;\n",
       "    }\n",
       "\n",
       "    .dataframe tbody tr th {\n",
       "        vertical-align: top;\n",
       "    }\n",
       "\n",
       "    .dataframe thead th {\n",
       "        text-align: right;\n",
       "    }\n",
       "</style>\n",
       "<table border=\"1\" class=\"dataframe\">\n",
       "  <thead>\n",
       "    <tr style=\"text-align: right;\">\n",
       "      <th></th>\n",
       "      <th>sender</th>\n",
       "      <th>date</th>\n",
       "      <th>LFCounter_nbr_equal0</th>\n",
       "    </tr>\n",
       "  </thead>\n",
       "  <tbody>\n",
       "    <tr>\n",
       "      <th>0</th>\n",
       "      <td>102</td>\n",
       "      <td>[2021-04-20, 2021-04-22, 2021-04-23, 2021-04-2...</td>\n",
       "      <td>[1, 7, 1, 2, 1]</td>\n",
       "    </tr>\n",
       "    <tr>\n",
       "      <th>1</th>\n",
       "      <td>104</td>\n",
       "      <td>[2021-04-21, 2021-04-23, 2021-04-25, 2021-04-26]</td>\n",
       "      <td>[1, 2, 2, 1]</td>\n",
       "    </tr>\n",
       "    <tr>\n",
       "      <th>2</th>\n",
       "      <td>105</td>\n",
       "      <td>[2021-04-20, 2021-04-21, 2021-04-22, 2021-04-2...</td>\n",
       "      <td>[5, 1, 1, 2, 6]</td>\n",
       "    </tr>\n",
       "    <tr>\n",
       "      <th>3</th>\n",
       "      <td>106</td>\n",
       "      <td>[2021-04-21, 2021-04-22, 2021-04-23, 2021-04-2...</td>\n",
       "      <td>[2, 2, 2, 4, 1, 1]</td>\n",
       "    </tr>\n",
       "    <tr>\n",
       "      <th>4</th>\n",
       "      <td>108</td>\n",
       "      <td>[2021-04-21, 2021-04-22, 2021-04-24, 2021-04-25]</td>\n",
       "      <td>[2, 1, 1, 2]</td>\n",
       "    </tr>\n",
       "    <tr>\n",
       "      <th>...</th>\n",
       "      <td>...</td>\n",
       "      <td>...</td>\n",
       "      <td>...</td>\n",
       "    </tr>\n",
       "    <tr>\n",
       "      <th>132</th>\n",
       "      <td>92</td>\n",
       "      <td>[2021-04-21, 2021-04-22, 2021-04-24]</td>\n",
       "      <td>[1, 2, 1]</td>\n",
       "    </tr>\n",
       "    <tr>\n",
       "      <th>133</th>\n",
       "      <td>94</td>\n",
       "      <td>[2021-04-22, 2021-04-24, 2021-04-25]</td>\n",
       "      <td>[1, 1, 2]</td>\n",
       "    </tr>\n",
       "    <tr>\n",
       "      <th>134</th>\n",
       "      <td>95</td>\n",
       "      <td>[2021-04-20, 2021-04-22, 2021-04-23, 2021-04-2...</td>\n",
       "      <td>[1, 1, 1, 1, 2, 1]</td>\n",
       "    </tr>\n",
       "    <tr>\n",
       "      <th>135</th>\n",
       "      <td>98</td>\n",
       "      <td>[2021-04-26]</td>\n",
       "      <td>[1]</td>\n",
       "    </tr>\n",
       "    <tr>\n",
       "      <th>136</th>\n",
       "      <td>99</td>\n",
       "      <td>[2021-04-25]</td>\n",
       "      <td>[1]</td>\n",
       "    </tr>\n",
       "  </tbody>\n",
       "</table>\n",
       "<p>137 rows × 3 columns</p>\n",
       "</div>"
      ],
      "text/plain": [
       "    sender                                               date  \\\n",
       "0      102  [2021-04-20, 2021-04-22, 2021-04-23, 2021-04-2...   \n",
       "1      104   [2021-04-21, 2021-04-23, 2021-04-25, 2021-04-26]   \n",
       "2      105  [2021-04-20, 2021-04-21, 2021-04-22, 2021-04-2...   \n",
       "3      106  [2021-04-21, 2021-04-22, 2021-04-23, 2021-04-2...   \n",
       "4      108   [2021-04-21, 2021-04-22, 2021-04-24, 2021-04-25]   \n",
       "..     ...                                                ...   \n",
       "132     92               [2021-04-21, 2021-04-22, 2021-04-24]   \n",
       "133     94               [2021-04-22, 2021-04-24, 2021-04-25]   \n",
       "134     95  [2021-04-20, 2021-04-22, 2021-04-23, 2021-04-2...   \n",
       "135     98                                       [2021-04-26]   \n",
       "136     99                                       [2021-04-25]   \n",
       "\n",
       "    LFCounter_nbr_equal0  \n",
       "0        [1, 7, 1, 2, 1]  \n",
       "1           [1, 2, 2, 1]  \n",
       "2        [5, 1, 1, 2, 6]  \n",
       "3     [2, 2, 2, 4, 1, 1]  \n",
       "4           [2, 1, 1, 2]  \n",
       "..                   ...  \n",
       "132            [1, 2, 1]  \n",
       "133            [1, 1, 2]  \n",
       "134   [1, 1, 1, 1, 2, 1]  \n",
       "135                  [1]  \n",
       "136                  [1]  \n",
       "\n",
       "[137 rows x 3 columns]"
      ]
     },
     "execution_count": 21,
     "metadata": {},
     "output_type": "execute_result"
    }
   ],
   "source": [
    "df_LFCoutner = df_device[df_device['sort']=='Tag'].copy()\n",
    "df_LFCoutner['date'] = df_LFCoutner['Timestamp'].map(lambda x: dt.datetime.date(x))\n",
    "#df_LFCoutner['is_day'] = df_LFCoutner['Timestamp'].map(lambda x: is_day(x, config.dico_night_hour))\n",
    "df_LFCoutner = df_LFCoutner.groupby(['sender','date'])['LFCounter'].agg(lambda x: sorted(list(x))).reset_index()\n",
    "df_LFCoutner['LFCounter_nbr_equal0'] = df_LFCoutner['LFCounter'].map(lambda x: sum([i==0 for i in x]))\n",
    "df_LFCoutner['LFCounter_atleastone0'] = df_LFCoutner['LFCounter_nbr_equal0'].map(lambda x: x>0)\n",
    "print(df_LFCoutner.shape)\n",
    "df_ = df_LFCoutner[df_LFCoutner['LFCounter_atleastone0']].groupby(['sender'])[['date',\n",
    "                                                                'LFCounter_nbr_equal0']].agg(lambda x: list(x)).reset_index()\n",
    "df_.to_csv(os.path.join(path_daily_ver, id_run+str(download_time).split(' ')[0]+'_LFCounterEqual0.csv'),sep=';')\n",
    "df_"
   ]
  },
  {
   "cell_type": "markdown",
   "metadata": {},
   "source": [
    "# Device Last update"
   ]
  },
  {
   "cell_type": "code",
   "execution_count": 22,
   "metadata": {},
   "outputs": [
    {
     "name": "stderr",
     "output_type": "stream",
     "text": [
      "C:\\Users\\camil\\anaconda3\\lib\\site-packages\\ipykernel\\ipkernel.py:283: DeprecationWarning: `should_run_async` will not call `transform_cell` automatically in the future. Please pass the result to `transformed_cell` argument and any exception that happen during thetransform in `preprocessing_exc_tuple` in IPython 7.17 and above.\n",
      "  and should_run_async(code)\n"
     ]
    }
   ],
   "source": [
    "#TODO\n",
    "#New data!!!: plt.hist(df_device['MovementCounter'].dropna(),bins='auto');\n",
    "#plt.hist(df_device['Temperature'].dropna(),bins=30);"
   ]
  },
  {
   "cell_type": "markdown",
   "metadata": {},
   "source": [
    "## biggest gap over the entire day"
   ]
  },
  {
   "cell_type": "code",
   "execution_count": 23,
   "metadata": {},
   "outputs": [
    {
     "name": "stderr",
     "output_type": "stream",
     "text": [
      "C:\\Users\\camil\\anaconda3\\lib\\site-packages\\ipykernel\\ipkernel.py:283: DeprecationWarning: `should_run_async` will not call `transform_cell` automatically in the future. Please pass the result to `transformed_cell` argument and any exception that happen during thetransform in `preprocessing_exc_tuple` in IPython 7.17 and above.\n",
      "  and should_run_async(code)\n"
     ]
    },
    {
     "name": "stdout",
     "output_type": "stream",
     "text": [
      "(1120, 6)\n"
     ]
    },
    {
     "data": {
      "text/html": [
       "<div>\n",
       "<style scoped>\n",
       "    .dataframe tbody tr th:only-of-type {\n",
       "        vertical-align: middle;\n",
       "    }\n",
       "\n",
       "    .dataframe tbody tr th {\n",
       "        vertical-align: top;\n",
       "    }\n",
       "\n",
       "    .dataframe thead th {\n",
       "        text-align: right;\n",
       "    }\n",
       "</style>\n",
       "<table border=\"1\" class=\"dataframe\">\n",
       "  <thead>\n",
       "    <tr style=\"text-align: right;\">\n",
       "      <th></th>\n",
       "      <th>sender</th>\n",
       "      <th>date</th>\n",
       "      <th>LastAction</th>\n",
       "      <th>li_gap_of_the_day_tsstarted</th>\n",
       "      <th>biggest_gap_of_day_mn</th>\n",
       "      <th>start_biggest_gap_of_day</th>\n",
       "    </tr>\n",
       "  </thead>\n",
       "  <tbody>\n",
       "    <tr>\n",
       "      <th>1099</th>\n",
       "      <td>95</td>\n",
       "      <td>2021-04-20</td>\n",
       "      <td>[2021-04-20 09:20:34, 2021-04-20 09:30:38, 202...</td>\n",
       "      <td>{2021-04-20 09:20:34: 604.0, 2021-04-20 09:30:...</td>\n",
       "      <td>183.0</td>\n",
       "      <td>2021-04-20 10:06:40</td>\n",
       "    </tr>\n",
       "  </tbody>\n",
       "</table>\n",
       "</div>"
      ],
      "text/plain": [
       "     sender        date                                         LastAction  \\\n",
       "1099     95  2021-04-20  [2021-04-20 09:20:34, 2021-04-20 09:30:38, 202...   \n",
       "\n",
       "                            li_gap_of_the_day_tsstarted  \\\n",
       "1099  {2021-04-20 09:20:34: 604.0, 2021-04-20 09:30:...   \n",
       "\n",
       "      biggest_gap_of_day_mn start_biggest_gap_of_day  \n",
       "1099                  183.0      2021-04-20 10:06:40  "
      ]
     },
     "execution_count": 23,
     "metadata": {},
     "output_type": "execute_result"
    }
   ],
   "source": [
    "df_lastactionGAP = df_device[df_device['sort']=='Tag'].copy()\n",
    "df_lastactionGAP['date'] = df_lastactionGAP['Timestamp'].map(lambda x: dt.datetime.date(x))\n",
    "#df_lastactionGAP['is_day'] = df_lastactionGAP['Timestamp'].map(lambda x: is_day(x, config.dico_night_hour))\n",
    "#df_lastactionGAP = df_lastactionGAP[df_lastactionGAP['is_day']]\n",
    "df_lastactionGAP = df_lastactionGAP.groupby(['sender','date'])['LastAction'].agg(lambda x: sorted(list(x))).reset_index()\n",
    "#last action biggest gap of the day\n",
    "df_lastactionGAP['li_gap_of_the_day_tsstarted'] = df_lastactionGAP['LastAction'].map(lambda x: {x[i]:(x[i+1]-x[i]).total_seconds() for i in range(0,len(x)-1)})\n",
    "df_lastactionGAP['biggest_gap_of_day_mn'] = df_lastactionGAP['li_gap_of_the_day_tsstarted'].map(lambda x: round(max(x.items(), \n",
    "                                                                                         key=operator.itemgetter(1))[1]/60,0))\n",
    "df_lastactionGAP['start_biggest_gap_of_day'] = df_lastactionGAP['li_gap_of_the_day_tsstarted'].map(lambda x: max(x.items(), \n",
    "                                                                                               key=operator.itemgetter(1))[0])\n",
    "df_lastactionGAP.to_csv(os.path.join(path_daily_ver, id_run+str(download_time).split(' ')[0]+'_LastactionGAP.csv'),sep=';')\n",
    "print(df_lastactionGAP.shape)\n",
    "df_lastactionGAP[df_lastactionGAP['biggest_gap_of_day_mn']>12]"
   ]
  },
  {
   "cell_type": "markdown",
   "metadata": {},
   "source": [
    "### very last update"
   ]
  },
  {
   "cell_type": "code",
   "execution_count": 24,
   "metadata": {},
   "outputs": [
    {
     "name": "stderr",
     "output_type": "stream",
     "text": [
      "C:\\Users\\camil\\anaconda3\\lib\\site-packages\\ipykernel\\ipkernel.py:283: DeprecationWarning: `should_run_async` will not call `transform_cell` automatically in the future. Please pass the result to `transformed_cell` argument and any exception that happen during thetransform in `preprocessing_exc_tuple` in IPython 7.17 and above.\n",
      "  and should_run_async(code)\n"
     ]
    },
    {
     "name": "stdout",
     "output_type": "stream",
     "text": [
      "(0, 0) (187, 8)\n",
      "(187, 8)\n",
      "There is 0 device with 0 updates\n",
      "There is 1 tags with at least one issue\n",
      "------------- Device with no update since at least 12 minutes -------------\n"
     ]
    },
    {
     "data": {
      "text/html": [
       "<div>\n",
       "<style scoped>\n",
       "    .dataframe tbody tr th:only-of-type {\n",
       "        vertical-align: middle;\n",
       "    }\n",
       "\n",
       "    .dataframe tbody tr th {\n",
       "        vertical-align: top;\n",
       "    }\n",
       "\n",
       "    .dataframe thead th {\n",
       "        text-align: right;\n",
       "    }\n",
       "</style>\n",
       "<table border=\"1\" class=\"dataframe\">\n",
       "  <thead>\n",
       "    <tr style=\"text-align: right;\">\n",
       "      <th></th>\n",
       "      <th>code</th>\n",
       "      <th>sender</th>\n",
       "      <th>system</th>\n",
       "      <th>sort</th>\n",
       "      <th>last_LastAction</th>\n",
       "      <th>nbr_mn_since_LastUpdate</th>\n",
       "    </tr>\n",
       "  </thead>\n",
       "  <tbody>\n",
       "    <tr>\n",
       "      <th>63</th>\n",
       "      <td>02001571</td>\n",
       "      <td>71</td>\n",
       "      <td>pens:10 - 12</td>\n",
       "      <td>Tag</td>\n",
       "      <td>2021-04-26 03:01:01</td>\n",
       "      <td>378.9</td>\n",
       "    </tr>\n",
       "  </tbody>\n",
       "</table>\n",
       "</div>"
      ],
      "text/plain": [
       "        code sender        system sort     last_LastAction  \\\n",
       "63  02001571     71  pens:10 - 12  Tag 2021-04-26 03:01:01   \n",
       "\n",
       "    nbr_mn_since_LastUpdate  \n",
       "63                    378.9  "
      ]
     },
     "metadata": {},
     "output_type": "display_data"
    }
   ],
   "source": [
    "#sort by date in order to take the last voltage using a simple list\n",
    "df_ = df_device.groupby(['code','sender','system','sort','NeedsBatteries'])['LastAction'].agg(lambda x: list(x)).reset_index()\n",
    "df_['last_LastAction'] = df_['LastAction'].map(lambda x: max(x))\n",
    "df_['nbr_mn_since_LastUpdate'] = df_['last_LastAction'].map(lambda x: (download_time-x).total_seconds()/60)\n",
    "\n",
    "#add tags with no update:\n",
    "li_no_transition = [i for i in li_active_tags if i not in df_device['sender'].unique()]\n",
    "df_no_transition = pd.DataFrame([{'sender':tag_, 'nbr_mn_since_LastUpdate':9999} for tag_ in li_no_transition])\n",
    "print(df_no_transition.shape, df_.shape)\n",
    "df_ = pd.concat([df_, df_no_transition])\n",
    "print(df_.shape)\n",
    "print('There is %d device with 0 updates'%df_no_transition.shape[0])\n",
    "df_.sort_values(['nbr_mn_since_LastUpdate'], ascending=False, inplace=True)\n",
    "#remove the older sender that appear two times (i.e. if they changed pens for example)\n",
    "df_.drop_duplicates(subset=['system','sender'], keep='last', inplace=True)\n",
    "df_[['code','sender','system','sort','last_LastAction','nbr_mn_since_LastUpdate']].to_csv(os.path.join(path_daily_ver, \n",
    "                                            id_run+str(download_time).split(' ')[0]+'h_DeviceLastUpdate.csv'), sep=';', index=False)\n",
    "\n",
    "\n",
    "mn = 12\n",
    "li_tag_issues.extend(df_[df_['nbr_mn_since_LastUpdate']>mn]['sender'])\n",
    "print('There is %d tags with at least one issue'%len(set(li_tag_issues)))\n",
    "\n",
    "print('------------- Device with no update since at least %d minutes -------------'%mn)\n",
    "df_tag_summary = pd.merge(df_tag_summary, df_[df_['sort']=='Tag'], left_on='TagID', right_on='sender', how='outer')\n",
    "#display(df_tag_summary.head(3))\n",
    "display(df_[df_['nbr_mn_since_LastUpdate']>mn][['code','sender','system','sort','last_LastAction','nbr_mn_since_LastUpdate']])"
   ]
  },
  {
   "cell_type": "code",
   "execution_count": 25,
   "metadata": {},
   "outputs": [
    {
     "name": "stderr",
     "output_type": "stream",
     "text": [
      "C:\\Users\\camil\\anaconda3\\lib\\site-packages\\ipykernel\\ipkernel.py:283: DeprecationWarning: `should_run_async` will not call `transform_cell` automatically in the future. Please pass the result to `transformed_cell` argument and any exception that happen during thetransform in `preprocessing_exc_tuple` in IPython 7.17 and above.\n",
      "  and should_run_async(code)\n"
     ]
    },
    {
     "data": {
      "text/plain": [
       "Timestamp('2021-04-26 09:19:55')"
      ]
     },
     "execution_count": 25,
     "metadata": {},
     "output_type": "execute_result"
    }
   ],
   "source": [
    "download_time"
   ]
  },
  {
   "cell_type": "markdown",
   "metadata": {},
   "source": [
    "# Critical Voltage last D days"
   ]
  },
  {
   "cell_type": "code",
   "execution_count": 26,
   "metadata": {
    "scrolled": false
   },
   "outputs": [
    {
     "name": "stderr",
     "output_type": "stream",
     "text": [
      "C:\\Users\\camil\\anaconda3\\lib\\site-packages\\ipykernel\\ipkernel.py:283: DeprecationWarning: `should_run_async` will not call `transform_cell` automatically in the future. Please pass the result to `transformed_cell` argument and any exception that happen during thetransform in `preprocessing_exc_tuple` in IPython 7.17 and above.\n",
      "  and should_run_async(code)\n",
      "<ipython-input-26-207c442b845e>:7: RuntimeWarning: Mean of empty slice\n",
      "  df_['avg_Battery_Voltage_last_'+str(D)+'days'] = df_['Battery Voltage'].map(lambda x: np.nanmean(x))\n"
     ]
    },
    {
     "name": "stdout",
     "output_type": "stream",
     "text": [
      "------------- Critical Battery Voltage of device/tags (under threshold at least once during the last 7 days -------------\n",
      "(160, 13)\n",
      "(160, 16)\n",
      "There is 25 tags with at least one issue:\n"
     ]
    },
    {
     "data": {
      "text/html": [
       "<div>\n",
       "<style scoped>\n",
       "    .dataframe tbody tr th:only-of-type {\n",
       "        vertical-align: middle;\n",
       "    }\n",
       "\n",
       "    .dataframe tbody tr th {\n",
       "        vertical-align: top;\n",
       "    }\n",
       "\n",
       "    .dataframe thead th {\n",
       "        text-align: right;\n",
       "    }\n",
       "</style>\n",
       "<table border=\"1\" class=\"dataframe\">\n",
       "  <thead>\n",
       "    <tr style=\"text-align: right;\">\n",
       "      <th></th>\n",
       "      <th>code</th>\n",
       "      <th>sender</th>\n",
       "      <th>system</th>\n",
       "      <th>sort</th>\n",
       "      <th>NeedsBatteries</th>\n",
       "      <th>Battery Voltage</th>\n",
       "      <th>min_Battery_Voltage_last_7days</th>\n",
       "      <th>avg_Battery_Voltage_last_7days</th>\n",
       "      <th>CRITICAL</th>\n",
       "    </tr>\n",
       "  </thead>\n",
       "  <tbody>\n",
       "    <tr>\n",
       "      <th>19</th>\n",
       "      <td>0200141D</td>\n",
       "      <td>48</td>\n",
       "      <td>pens:3 - 5</td>\n",
       "      <td>Tag</td>\n",
       "      <td>True</td>\n",
       "      <td>[3022.0, 3020.0, 3018.0, 3023.0, 3023.0, 3021....</td>\n",
       "      <td>2928.0</td>\n",
       "      <td>3022.120370</td>\n",
       "      <td>True</td>\n",
       "    </tr>\n",
       "    <tr>\n",
       "      <th>34</th>\n",
       "      <td>02001529</td>\n",
       "      <td>29</td>\n",
       "      <td>pens:3 - 5</td>\n",
       "      <td>Tag</td>\n",
       "      <td>True</td>\n",
       "      <td>[2987.0, 2984.0, 2987.0, 2988.0, 2988.0, 2975....</td>\n",
       "      <td>2926.0</td>\n",
       "      <td>2987.465278</td>\n",
       "      <td>True</td>\n",
       "    </tr>\n",
       "    <tr>\n",
       "      <th>93</th>\n",
       "      <td>02001E14</td>\n",
       "      <td>128</td>\n",
       "      <td>pens:10 - 12</td>\n",
       "      <td>Tag</td>\n",
       "      <td>True</td>\n",
       "      <td>[3020.0, 3021.0, 3022.0, 3020.0, 3022.0, 3024....</td>\n",
       "      <td>2926.0</td>\n",
       "      <td>3014.552601</td>\n",
       "      <td>True</td>\n",
       "    </tr>\n",
       "    <tr>\n",
       "      <th>59</th>\n",
       "      <td>02001564</td>\n",
       "      <td>64</td>\n",
       "      <td>pens:3 - 5</td>\n",
       "      <td>Tag</td>\n",
       "      <td>True</td>\n",
       "      <td>[2980.0, 2979.0, 2980.0, 2976.0, 2982.0, 2980....</td>\n",
       "      <td>2923.0</td>\n",
       "      <td>2977.398148</td>\n",
       "      <td>True</td>\n",
       "    </tr>\n",
       "    <tr>\n",
       "      <th>77</th>\n",
       "      <td>020015C5</td>\n",
       "      <td>108</td>\n",
       "      <td>pens:8 - 9</td>\n",
       "      <td>Tag</td>\n",
       "      <td>True</td>\n",
       "      <td>[3009.0, 3005.0, 2999.0, 3002.0, 3002.0, 3002....</td>\n",
       "      <td>2922.0</td>\n",
       "      <td>2996.960648</td>\n",
       "      <td>True</td>\n",
       "    </tr>\n",
       "    <tr>\n",
       "      <th>25</th>\n",
       "      <td>02001424</td>\n",
       "      <td>24</td>\n",
       "      <td>pens:3 - 5</td>\n",
       "      <td>Tag</td>\n",
       "      <td>True</td>\n",
       "      <td>[3030.0, 3033.0, 3037.0, 3034.0, 3032.0, 3036....</td>\n",
       "      <td>2921.0</td>\n",
       "      <td>3032.013889</td>\n",
       "      <td>True</td>\n",
       "    </tr>\n",
       "    <tr>\n",
       "      <th>23</th>\n",
       "      <td>02001422</td>\n",
       "      <td>14</td>\n",
       "      <td>pens:3 - 5</td>\n",
       "      <td>Tag</td>\n",
       "      <td>True</td>\n",
       "      <td>[2991.0, 2996.0, 2993.0, 2993.0, 2995.0, 2994....</td>\n",
       "      <td>2920.0</td>\n",
       "      <td>2990.202546</td>\n",
       "      <td>True</td>\n",
       "    </tr>\n",
       "    <tr>\n",
       "      <th>30</th>\n",
       "      <td>0200151D</td>\n",
       "      <td>41</td>\n",
       "      <td>pens:3 - 5</td>\n",
       "      <td>Tag</td>\n",
       "      <td>True</td>\n",
       "      <td>[2996.0, 2997.0, 2999.0, 3000.0, 2999.0, 3001....</td>\n",
       "      <td>2920.0</td>\n",
       "      <td>2997.738426</td>\n",
       "      <td>True</td>\n",
       "    </tr>\n",
       "    <tr>\n",
       "      <th>96</th>\n",
       "      <td>02001E17</td>\n",
       "      <td>145</td>\n",
       "      <td>pens:10 - 12</td>\n",
       "      <td>Tag</td>\n",
       "      <td>True</td>\n",
       "      <td>[2990.0, 2994.0, 2991.0, 2991.0, 2989.0, 2915....</td>\n",
       "      <td>2915.0</td>\n",
       "      <td>2993.741040</td>\n",
       "      <td>True</td>\n",
       "    </tr>\n",
       "    <tr>\n",
       "      <th>66</th>\n",
       "      <td>02001579</td>\n",
       "      <td>79</td>\n",
       "      <td>pens:8 - 9</td>\n",
       "      <td>Tag</td>\n",
       "      <td>True</td>\n",
       "      <td>[2969.0, 2973.0, 2976.0, 2972.0, 2973.0, 2972....</td>\n",
       "      <td>2907.0</td>\n",
       "      <td>2979.947917</td>\n",
       "      <td>True</td>\n",
       "    </tr>\n",
       "    <tr>\n",
       "      <th>91</th>\n",
       "      <td>02001E12</td>\n",
       "      <td>154</td>\n",
       "      <td>pens:10 - 12</td>\n",
       "      <td>Tag</td>\n",
       "      <td>True</td>\n",
       "      <td>[2997.0, 3000.0, 3001.0, 2998.0, 3000.0, 3001....</td>\n",
       "      <td>2907.0</td>\n",
       "      <td>3000.611561</td>\n",
       "      <td>True</td>\n",
       "    </tr>\n",
       "    <tr>\n",
       "      <th>31</th>\n",
       "      <td>0200151F</td>\n",
       "      <td>73</td>\n",
       "      <td>pens:3 - 5</td>\n",
       "      <td>Tag</td>\n",
       "      <td>True</td>\n",
       "      <td>[2983.0, 2991.0, 2985.0, 2986.0, 2989.0, 2988....</td>\n",
       "      <td>2907.0</td>\n",
       "      <td>2986.873843</td>\n",
       "      <td>True</td>\n",
       "    </tr>\n",
       "    <tr>\n",
       "      <th>74</th>\n",
       "      <td>020015C0</td>\n",
       "      <td>15</td>\n",
       "      <td>pens:3 - 5</td>\n",
       "      <td>Tag</td>\n",
       "      <td>True</td>\n",
       "      <td>[2931.0, 2933.0, 2932.0, 2935.0, 2933.0, 2936....</td>\n",
       "      <td>2907.0</td>\n",
       "      <td>2959.864583</td>\n",
       "      <td>True</td>\n",
       "    </tr>\n",
       "    <tr>\n",
       "      <th>119</th>\n",
       "      <td>02001E3B</td>\n",
       "      <td>149</td>\n",
       "      <td>pens:10 - 12</td>\n",
       "      <td>Tag</td>\n",
       "      <td>True</td>\n",
       "      <td>[2986.0, 2991.0, 2991.0, 2987.0, 2990.0, 2991....</td>\n",
       "      <td>2902.0</td>\n",
       "      <td>2991.289017</td>\n",
       "      <td>True</td>\n",
       "    </tr>\n",
       "    <tr>\n",
       "      <th>128</th>\n",
       "      <td>02001E6A</td>\n",
       "      <td>140</td>\n",
       "      <td>pens:10 - 12</td>\n",
       "      <td>Tag</td>\n",
       "      <td>True</td>\n",
       "      <td>[2982.0, 2990.0, 2988.0, 2987.0, 2986.0, 2982....</td>\n",
       "      <td>2902.0</td>\n",
       "      <td>2993.122543</td>\n",
       "      <td>True</td>\n",
       "    </tr>\n",
       "    <tr>\n",
       "      <th>55</th>\n",
       "      <td>0200155D</td>\n",
       "      <td>91</td>\n",
       "      <td>pens:8 - 9</td>\n",
       "      <td>Tag</td>\n",
       "      <td>True</td>\n",
       "      <td>[2972.0, 2974.0, 2972.0, 2974.0, 2975.0, 2969....</td>\n",
       "      <td>2893.0</td>\n",
       "      <td>2975.660880</td>\n",
       "      <td>True</td>\n",
       "    </tr>\n",
       "    <tr>\n",
       "      <th>33</th>\n",
       "      <td>02001525</td>\n",
       "      <td>25</td>\n",
       "      <td>pens:3 - 5</td>\n",
       "      <td>Tag</td>\n",
       "      <td>True</td>\n",
       "      <td>[2978.0, 2975.0, 2982.0, 2977.0, 2980.0, 2979....</td>\n",
       "      <td>2882.0</td>\n",
       "      <td>2979.070602</td>\n",
       "      <td>True</td>\n",
       "    </tr>\n",
       "    <tr>\n",
       "      <th>70</th>\n",
       "      <td>020015BB</td>\n",
       "      <td>66</td>\n",
       "      <td>pens:8 - 9</td>\n",
       "      <td>Tag</td>\n",
       "      <td>True</td>\n",
       "      <td>[2978.0, 2982.0, 2979.0, 2981.0, 2977.0, 2976....</td>\n",
       "      <td>2880.0</td>\n",
       "      <td>2984.037037</td>\n",
       "      <td>True</td>\n",
       "    </tr>\n",
       "    <tr>\n",
       "      <th>5</th>\n",
       "      <td>02000332</td>\n",
       "      <td>6</td>\n",
       "      <td>pens:3 - 5</td>\n",
       "      <td>Tag</td>\n",
       "      <td>True</td>\n",
       "      <td>[2967.0, 2968.0, 2963.0, 2964.0, 2966.0, 2962....</td>\n",
       "      <td>2866.0</td>\n",
       "      <td>2964.895833</td>\n",
       "      <td>True</td>\n",
       "    </tr>\n",
       "    <tr>\n",
       "      <th>85</th>\n",
       "      <td>0200196B</td>\n",
       "      <td>122</td>\n",
       "      <td>pens:10 - 12</td>\n",
       "      <td>Tag</td>\n",
       "      <td>True</td>\n",
       "      <td>[2867.0, 2867.0, 2870.0, 2861.0, 2864.0, 2870....</td>\n",
       "      <td>2826.0</td>\n",
       "      <td>2964.532948</td>\n",
       "      <td>True</td>\n",
       "    </tr>\n",
       "    <tr>\n",
       "      <th>18</th>\n",
       "      <td>0200141C</td>\n",
       "      <td>49</td>\n",
       "      <td>pens:10 - 12</td>\n",
       "      <td>Tag</td>\n",
       "      <td>True</td>\n",
       "      <td>[3023.0, 3039.0, 3042.0, 3042.0, 3044.0, 3045....</td>\n",
       "      <td>2791.0</td>\n",
       "      <td>3035.652023</td>\n",
       "      <td>True</td>\n",
       "    </tr>\n",
       "    <tr>\n",
       "      <th>37</th>\n",
       "      <td>0200152F</td>\n",
       "      <td>22</td>\n",
       "      <td>pens:3 - 5</td>\n",
       "      <td>Tag</td>\n",
       "      <td>True</td>\n",
       "      <td>[2997.0, 2997.0, 2998.0, 2991.0, 2995.0, 3000....</td>\n",
       "      <td>2783.0</td>\n",
       "      <td>2994.912037</td>\n",
       "      <td>True</td>\n",
       "    </tr>\n",
       "    <tr>\n",
       "      <th>38</th>\n",
       "      <td>02001530</td>\n",
       "      <td>107</td>\n",
       "      <td>pens:8 - 9</td>\n",
       "      <td>Tag</td>\n",
       "      <td>True</td>\n",
       "      <td>[2974.0, 2974.0, 2969.0, 2972.0, 2979.0, 2971....</td>\n",
       "      <td>2767.0</td>\n",
       "      <td>2969.517361</td>\n",
       "      <td>True</td>\n",
       "    </tr>\n",
       "    <tr>\n",
       "      <th>15</th>\n",
       "      <td>020010A9</td>\n",
       "      <td>9</td>\n",
       "      <td>pens:3 - 5</td>\n",
       "      <td>Tag</td>\n",
       "      <td>True</td>\n",
       "      <td>[2916.0, 2911.0, 2937.0, 2942.0, 2914.0, 2911....</td>\n",
       "      <td>2643.0</td>\n",
       "      <td>2929.496528</td>\n",
       "      <td>True</td>\n",
       "    </tr>\n",
       "    <tr>\n",
       "      <th>165</th>\n",
       "      <td>03000DE7</td>\n",
       "      <td>Wintergarten</td>\n",
       "      <td>pens:3 - 5</td>\n",
       "      <td>Marker</td>\n",
       "      <td>True</td>\n",
       "      <td>[3212.0, 3208.0, 3208.0, 3212.0, 3208.0, 3208....</td>\n",
       "      <td>2490.0</td>\n",
       "      <td>3160.233796</td>\n",
       "      <td>True</td>\n",
       "    </tr>\n",
       "    <tr>\n",
       "      <th>63</th>\n",
       "      <td>02001571</td>\n",
       "      <td>71</td>\n",
       "      <td>pens:10 - 12</td>\n",
       "      <td>Tag</td>\n",
       "      <td>True</td>\n",
       "      <td>[2698.0, 2694.0, 2694.0, 2691.0, 2692.0, 2693....</td>\n",
       "      <td>2340.0</td>\n",
       "      <td>2558.902890</td>\n",
       "      <td>True</td>\n",
       "    </tr>\n",
       "  </tbody>\n",
       "</table>\n",
       "</div>"
      ],
      "text/plain": [
       "         code        sender        system    sort  NeedsBatteries  \\\n",
       "19   0200141D            48    pens:3 - 5     Tag            True   \n",
       "34   02001529            29    pens:3 - 5     Tag            True   \n",
       "93   02001E14           128  pens:10 - 12     Tag            True   \n",
       "59   02001564            64    pens:3 - 5     Tag            True   \n",
       "77   020015C5           108    pens:8 - 9     Tag            True   \n",
       "25   02001424            24    pens:3 - 5     Tag            True   \n",
       "23   02001422            14    pens:3 - 5     Tag            True   \n",
       "30   0200151D            41    pens:3 - 5     Tag            True   \n",
       "96   02001E17           145  pens:10 - 12     Tag            True   \n",
       "66   02001579            79    pens:8 - 9     Tag            True   \n",
       "91   02001E12           154  pens:10 - 12     Tag            True   \n",
       "31   0200151F            73    pens:3 - 5     Tag            True   \n",
       "74   020015C0            15    pens:3 - 5     Tag            True   \n",
       "119  02001E3B           149  pens:10 - 12     Tag            True   \n",
       "128  02001E6A           140  pens:10 - 12     Tag            True   \n",
       "55   0200155D            91    pens:8 - 9     Tag            True   \n",
       "33   02001525            25    pens:3 - 5     Tag            True   \n",
       "70   020015BB            66    pens:8 - 9     Tag            True   \n",
       "5    02000332             6    pens:3 - 5     Tag            True   \n",
       "85   0200196B           122  pens:10 - 12     Tag            True   \n",
       "18   0200141C            49  pens:10 - 12     Tag            True   \n",
       "37   0200152F            22    pens:3 - 5     Tag            True   \n",
       "38   02001530           107    pens:8 - 9     Tag            True   \n",
       "15   020010A9             9    pens:3 - 5     Tag            True   \n",
       "165  03000DE7  Wintergarten    pens:3 - 5  Marker            True   \n",
       "63   02001571            71  pens:10 - 12     Tag            True   \n",
       "\n",
       "                                       Battery Voltage  \\\n",
       "19   [3022.0, 3020.0, 3018.0, 3023.0, 3023.0, 3021....   \n",
       "34   [2987.0, 2984.0, 2987.0, 2988.0, 2988.0, 2975....   \n",
       "93   [3020.0, 3021.0, 3022.0, 3020.0, 3022.0, 3024....   \n",
       "59   [2980.0, 2979.0, 2980.0, 2976.0, 2982.0, 2980....   \n",
       "77   [3009.0, 3005.0, 2999.0, 3002.0, 3002.0, 3002....   \n",
       "25   [3030.0, 3033.0, 3037.0, 3034.0, 3032.0, 3036....   \n",
       "23   [2991.0, 2996.0, 2993.0, 2993.0, 2995.0, 2994....   \n",
       "30   [2996.0, 2997.0, 2999.0, 3000.0, 2999.0, 3001....   \n",
       "96   [2990.0, 2994.0, 2991.0, 2991.0, 2989.0, 2915....   \n",
       "66   [2969.0, 2973.0, 2976.0, 2972.0, 2973.0, 2972....   \n",
       "91   [2997.0, 3000.0, 3001.0, 2998.0, 3000.0, 3001....   \n",
       "31   [2983.0, 2991.0, 2985.0, 2986.0, 2989.0, 2988....   \n",
       "74   [2931.0, 2933.0, 2932.0, 2935.0, 2933.0, 2936....   \n",
       "119  [2986.0, 2991.0, 2991.0, 2987.0, 2990.0, 2991....   \n",
       "128  [2982.0, 2990.0, 2988.0, 2987.0, 2986.0, 2982....   \n",
       "55   [2972.0, 2974.0, 2972.0, 2974.0, 2975.0, 2969....   \n",
       "33   [2978.0, 2975.0, 2982.0, 2977.0, 2980.0, 2979....   \n",
       "70   [2978.0, 2982.0, 2979.0, 2981.0, 2977.0, 2976....   \n",
       "5    [2967.0, 2968.0, 2963.0, 2964.0, 2966.0, 2962....   \n",
       "85   [2867.0, 2867.0, 2870.0, 2861.0, 2864.0, 2870....   \n",
       "18   [3023.0, 3039.0, 3042.0, 3042.0, 3044.0, 3045....   \n",
       "37   [2997.0, 2997.0, 2998.0, 2991.0, 2995.0, 3000....   \n",
       "38   [2974.0, 2974.0, 2969.0, 2972.0, 2979.0, 2971....   \n",
       "15   [2916.0, 2911.0, 2937.0, 2942.0, 2914.0, 2911....   \n",
       "165  [3212.0, 3208.0, 3208.0, 3212.0, 3208.0, 3208....   \n",
       "63   [2698.0, 2694.0, 2694.0, 2691.0, 2692.0, 2693....   \n",
       "\n",
       "     min_Battery_Voltage_last_7days  avg_Battery_Voltage_last_7days  CRITICAL  \n",
       "19                           2928.0                     3022.120370      True  \n",
       "34                           2926.0                     2987.465278      True  \n",
       "93                           2926.0                     3014.552601      True  \n",
       "59                           2923.0                     2977.398148      True  \n",
       "77                           2922.0                     2996.960648      True  \n",
       "25                           2921.0                     3032.013889      True  \n",
       "23                           2920.0                     2990.202546      True  \n",
       "30                           2920.0                     2997.738426      True  \n",
       "96                           2915.0                     2993.741040      True  \n",
       "66                           2907.0                     2979.947917      True  \n",
       "91                           2907.0                     3000.611561      True  \n",
       "31                           2907.0                     2986.873843      True  \n",
       "74                           2907.0                     2959.864583      True  \n",
       "119                          2902.0                     2991.289017      True  \n",
       "128                          2902.0                     2993.122543      True  \n",
       "55                           2893.0                     2975.660880      True  \n",
       "33                           2882.0                     2979.070602      True  \n",
       "70                           2880.0                     2984.037037      True  \n",
       "5                            2866.0                     2964.895833      True  \n",
       "85                           2826.0                     2964.532948      True  \n",
       "18                           2791.0                     3035.652023      True  \n",
       "37                           2783.0                     2994.912037      True  \n",
       "38                           2767.0                     2969.517361      True  \n",
       "15                           2643.0                     2929.496528      True  \n",
       "165                          2490.0                     3160.233796      True  \n",
       "63                           2340.0                     2558.902890      True  "
      ]
     },
     "execution_count": 26,
     "metadata": {},
     "output_type": "execute_result"
    }
   ],
   "source": [
    "D = 7 #assuming I do this one a week, it make sense to plot it once a week\n",
    "#D=2 was not enough as we would miss some tags that were at 2600 (e.g. 82)\n",
    "df_device['is_last_'+str(D)+'days'] = df_device['Timestamp'].map(lambda x: x>=(download_time-dt.timedelta(days=D)))\n",
    "df_ = df_device[df_device['is_last_'+str(D)+'days']].groupby(['code','sender','system','sort',\n",
    "                                                        'NeedsBatteries'])['Battery Voltage'].agg(lambda x: list(x)).reset_index()\n",
    "df_['min_Battery_Voltage_last_'+str(D)+'days'] = df_['Battery Voltage'].map(lambda x: min(x))\n",
    "df_['avg_Battery_Voltage_last_'+str(D)+'days'] = df_['Battery Voltage'].map(lambda x: np.nanmean(x))\n",
    "df_.sort_values(['min_Battery_Voltage_last_'+str(D)+'days'], ascending=False, inplace=True)\n",
    "# check whether at least one of the last entries was below the critical threshold \n",
    "df_['CRITICAL'] = df_.apply(lambda x:sum([i<thresh_dev for i in x['Battery Voltage']])>=1 if x['sort']!='Tag' \\\n",
    "                            else sum([i<thresh_tag for i in x['Battery Voltage']])>=1, axis=1)\n",
    "df_.to_csv(os.path.join(path_daily_ver,id_run+str(download_time).split(' ')[0]+'h_Battery VoltageLast'+str(D)+'days.csv'), sep=';', index=False)\n",
    "print('------------- Critical Battery Voltage of device/tags (under threshold at least once during the last %d days -------------'%D)\n",
    "li_tag_issues.extend(df_[(df_['CRITICAL'])&(df_['sort']=='Tag')]['sender'])\n",
    "print(df_tag_summary.shape)\n",
    "df_tag_summary = df_tag_summary.drop(['sender'], axis=1)\n",
    "df_tag_summary = pd.merge(df_tag_summary, df_[df_['sort']=='Tag'][['CRITICAL','min_Battery_Voltage_last_'+str(D)+'days',\n",
    "                                                                   'avg_Battery_Voltage_last_'+str(D)+'days','sender']], \n",
    "                          left_on='TagID', right_on='sender', how='outer')\n",
    "df_tag_summary.drop(['LastAction','Timestamp','NeedsBatteries'], axis=1).to_csv(os.path.join(path_daily_ver,id_run+str(download_time).split(' ')[0]+'_TagSummary.csv'), sep=';', index=False)\n",
    "print(df_tag_summary.shape)\n",
    "#display(df_tag_summary.head(3))\n",
    "print('There is %d tags with at least one issue:'%len(set(li_tag_issues)))\n",
    "df_[(df_['CRITICAL'])&(df_['NeedsBatteries'])]"
   ]
  },
  {
   "cell_type": "markdown",
   "metadata": {
    "scrolled": true
   },
   "source": [
    "#plot\n",
    "\n",
    "df_device = df_device.sort_values(['LastAction'])\n",
    "for tag in li_active_tags:\n",
    "    df_plt = df_device[df_device['sender']==str(tag)][['voltage','Timestamp']]\n",
    "    plt.plot(df_plt['Timestamp'].tolist(), df_plt['voltage'].tolist());\n",
    "    plt.title(tag)\n",
    "    plt.show()"
   ]
  },
  {
   "cell_type": "markdown",
   "metadata": {},
   "source": [
    "# Plot Tags"
   ]
  },
  {
   "cell_type": "markdown",
   "metadata": {},
   "source": [
    "#plot the batterie level, the tagupdates and the number of transition for each tags, one plot per day\n",
    "df_device['date'] = df_device['Timestamp'].map(lambda x: dt.datetime.date(x))\n",
    "df_device = df_device.sort_values(['LastAction'])\n",
    "#us the log files to crate a df_tr file with one row per hen per hour, and the number of transition in a column\n",
    "df['hour'] = df['Timestamp'].map(lambda x: x.hour if pd.isnull(x)!=np.nan else np.nan)\n",
    "df_tr = df.groupby(['TagID','date','hour'])['Timestamp'].count().reset_index()\n",
    "df_tr.rename(columns={'Timestamp':'nbr_transition_last1h'}, inplace=True)\n",
    "df_tr['date_hour'] = df_tr.apply(lambda x: dt.datetime(x['date'].year, x['date'].month, x['date'].day, x['hour'],0,0), axis=1)\n",
    "\n",
    "#for tag in tqdm.tqdm(set(li_tag_issues)):\n",
    "for tag in tqdm.tqdm(li_active_tags):\n",
    "    try:\n",
    "        plt.figure(figsize=(18,4))\n",
    "        ax = plt.subplot(111) \n",
    "\n",
    "        #Battery Voltage\n",
    "        df_plt = df_device[df_device['sender']==tag].copy()\n",
    "        SystemID = df_plt['system'].iloc[0]\n",
    "        ax.plot(df_plt['Timestamp'].tolist(), df_plt['Battery Voltage'].tolist(), color='blue');\n",
    "\n",
    "        #number of transition in the last hours    \n",
    "        ax2=ax.twinx()\n",
    "        df_tr_ = df_tr[df_tr['TagID']==tag].copy()\n",
    "        ax2.plot(df_tr_['date_hour'].tolist(), df_tr_['nbr_transition_last1h'].tolist(), color='green');\n",
    "\n",
    "        #number of device update in the last hour\n",
    "        df_plt['hour'] = df_plt['Timestamp'].map(lambda x: x.hour if pd.isnull(x)!=np.nan else np.nan)\n",
    "        df_up = df_plt.groupby(['date','hour'])['LastAction'].agg(lambda x: list(x)).reset_index()\n",
    "        df_up['date_hour'] = df_up.apply(lambda x: dt.datetime(x['date'].year, x['date'].month, x['date'].day, x['hour'],0,0), axis=1)\n",
    "        df_up['nbr_update_last1h'] = df_up.apply(lambda x: sum([i>=(x['date_hour']-dt.timedelta(hours=1)) for i in x['LastAction']]), \n",
    "                                                 axis=1)\n",
    "        ax2.plot(df_up['date_hour'].tolist(), df_up['nbr_update_last1h'].tolist(), color='r');\n",
    "\n",
    "        #add days and plot\n",
    "        for day in df_plt['date'].unique() : \n",
    "            plt.axvline(x=day, linewidth=1, color='b')\n",
    "        plt.title('TagID: '+tag)\n",
    "        #for label in ax.get_xticklabels():\n",
    "        #    label.set_rotation(90) \n",
    "        y_ = np.nanmax(df_plt['Battery Voltage'].tolist())\n",
    "        x_ = np.nanmin(df_plt['date'].unique())\n",
    "        ax.text(x_, y_-0.1*(y_-np.nanmin(df_plt['Battery Voltage'].tolist())), '#device update in the last hour -right axis', fontsize=10, color='r')\n",
    "        ax.text(x_, y_-0.2*(y_-np.nanmin(df_plt['Battery Voltage'].tolist())), '#transition in the last hour -right axis', fontsize=10, color='green')\n",
    "        ax.text(x_, y_-0.3*(y_-np.nanmin(df_plt['Battery Voltage'].tolist())), 'Battery Voltage -left axis', fontsize=10, color='blue')\n",
    "\n",
    "        #create a director if not existing\n",
    "        path_incase = os.path.join(path_daily_ver, 'INcaseALLplot', SystemID.replace(':',''))\n",
    "        if not os.path.exists(path_incase):\n",
    "            os.makedirs(path_incase)\n",
    "        plt.savefig(os.path.join(path_incase,id_run+'_'+str(tag)+'Tag_CHECK.png'), dpi=300,\n",
    "                                format='png', bbox_inches='tight')\n",
    "    except Exception as e:\n",
    "                print('ERROR:-------------',e, '    TAG: ',tag)\n",
    "    #plt.show()"
   ]
  },
  {
   "cell_type": "raw",
   "metadata": {},
   "source": [
    "Tag with potential issues:\n",
    "30.11.2020: \n",
    "*tag 70, a lot of 0 every day!!! \n",
    "*tag 59, 82, 64, 183: low batterie\n",
    "*tag  72: not seen during 18h, and 0LF by satar\n",
    "\n",
    "07.12.2020:\n",
    "*tag 80, 72: no transitions during 89, 142 hours, and no last action during 5326 mn  for tag 80!\n",
    "\n",
    "14-12-2020\n",
    "70: lot of 0!\n",
    "80,72: 0 mvt and/or ni last action\n",
    "\n",
    "--> 80 and 72 changed!!!\n",
    "\n",
    "21-12-2020\n",
    "70: lot of LFCounter=0, up to 82 per day, so perhaps the hen is staying in very specific places inducing this, but perhaps its the Tag, so I prefer changing and seeing if its still having LFCoutner=0\n",
    "80: (pen 8-9) the last update is of 2020-12-03 15:51:40\n",
    "72 (pen 8-9): no movements recorded since \"01.12.2020 10:22\"\n",
    "\n",
    "\n",
    "--> 171 and 180 changed!\n",
    "\n",
    "\n",
    "###################\n",
    "08.02.2021\n",
    "tag 10: not mvt!\n",
    "\n",
    "08.03.2021\n",
    "tag 10: not working anymore: no trnasitions at all and LFCounter==0 144 times a day most of the days\n",
    "tag 82: starts to have a lot of LF counter==0 on consecutives days (17, 25, 52, 71, 49, 25, 2)\n",
    "\n",
    "29.03.2021\n",
    "tag 10: not working anymore: no trnasitions at all and LFCounter==0 144 times a day most of the days\n",
    "tag 82: starts to have a lot of LF counter==0 on consecutives days (17, 25, 52, 71, 49, 25, 2)\n",
    "tag 115: BIRD PERDU ON THE 27.03.2021!! 49h sans transition starting on the 2021-03-27 07:48:18 and unusually many LFCounter==0\n",
    "\n",
    "--> to change: tag 10, 82\n",
    "to find bird without backpack: 115 tag, pen 10\n",
    "\n",
    "\n",
    "tag 95 on the 2021-04-20, biggest gap of 183.0 mn\n",
    "tag 71: last update: 2021-04-26 03:01:01\t(at least until 10h 26.04) and no more batterie althought we jsut changed it.... we remove it from focal birds"
   ]
  },
  {
   "cell_type": "code",
   "execution_count": null,
   "metadata": {},
   "outputs": [],
   "source": []
  },
  {
   "cell_type": "code",
   "execution_count": null,
   "metadata": {},
   "outputs": [],
   "source": []
  },
  {
   "cell_type": "code",
   "execution_count": null,
   "metadata": {},
   "outputs": [],
   "source": []
  },
  {
   "cell_type": "code",
   "execution_count": null,
   "metadata": {},
   "outputs": [],
   "source": []
  },
  {
   "cell_type": "code",
   "execution_count": null,
   "metadata": {},
   "outputs": [],
   "source": []
  },
  {
   "cell_type": "code",
   "execution_count": null,
   "metadata": {},
   "outputs": [],
   "source": []
  },
  {
   "cell_type": "code",
   "execution_count": null,
   "metadata": {},
   "outputs": [],
   "source": []
  },
  {
   "cell_type": "code",
   "execution_count": null,
   "metadata": {},
   "outputs": [],
   "source": []
  }
 ],
 "metadata": {
  "kernelspec": {
   "display_name": "Python 3",
   "language": "python",
   "name": "python3"
  },
  "language_info": {
   "codemirror_mode": {
    "name": "ipython",
    "version": 3
   },
   "file_extension": ".py",
   "mimetype": "text/x-python",
   "name": "python",
   "nbconvert_exporter": "python",
   "pygments_lexer": "ipython3",
   "version": "3.8.5"
  }
 },
 "nbformat": 4,
 "nbformat_minor": 2
}
