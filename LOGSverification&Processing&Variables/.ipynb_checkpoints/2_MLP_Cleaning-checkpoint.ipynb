{
 "cells": [
  {
   "cell_type": "code",
   "execution_count": 1,
   "metadata": {},
   "outputs": [],
   "source": [
    "#basic package\n",
    "import tqdm\n",
    "import os\n",
    "import numpy as np\n",
    "import glob\n",
    "import pandas as pd\n",
    "import sys\n",
    "import time\n",
    "import datetime as dt\n",
    "import itertools\n",
    "import re\n",
    "import math\n",
    "from collections import Counter\n",
    "import operator\n",
    "\n",
    "#scaling\n",
    "from sklearn.preprocessing import StandardScaler, MinMaxScaler\n",
    "\n",
    "#modelling\n",
    "from catboost import CatBoostClassifier, Pool\n",
    "\n",
    "#plot\n",
    "import matplotlib.pyplot as plt\n",
    "import seaborn as sns"
   ]
  },
  {
   "cell_type": "code",
   "execution_count": 2,
   "metadata": {},
   "outputs": [
    {
     "name": "stderr",
     "output_type": "stream",
     "text": [
      "C:\\Users\\camil\\anaconda3\\lib\\site-packages\\scipy\\sparse\\sparsetools.py:21: DeprecationWarning: `scipy.sparse.sparsetools` is deprecated!\n",
      "scipy.sparse.sparsetools is a private module for scipy.sparse, and should not be used.\n",
      "  _deprecated()\n"
     ]
    },
    {
     "name": "stdout",
     "output_type": "stream",
     "text": [
      "2\n"
     ]
    }
   ],
   "source": [
    "PACKAGE_PARENT = '../'\n",
    "SCRIPT_DIR = os.path.dirname(os.path.realpath(os.path.join(os.getcwd(), os.path.expanduser('__file__'))))\n",
    "sys.path.append(os.path.normpath(os.path.join(SCRIPT_DIR, PACKAGE_PARENT)))\n",
    "from UTILS import preprocessing_Origins, is_day, is_WG_open, openDevice, cleaning_processing, FB_process, FB_daily\n",
    "import config_origins as config"
   ]
  },
  {
   "cell_type": "markdown",
   "metadata": {},
   "source": [
    "# Define parameters"
   ]
  },
  {
   "cell_type": "code",
   "execution_count": 3,
   "metadata": {
    "scrolled": true
   },
   "outputs": [
    {
     "name": "stdout",
     "output_type": "stream",
     "text": [
      "change the configuration file if not done yet!\n",
      "ALLDATA_\n"
     ]
    }
   ],
   "source": [
    "print('change the configuration file if not done yet!')\n",
    "path_extracted_data = config.path_extracted_data\n",
    "path_initial_data = config.path_initial_data\n",
    "id_run = config.id_run\n",
    "dico_matching = config.dico_matching\n",
    "nbr_maxdur2beremoved = config.nbr_maxdur2beremoved\n",
    "dico_garden_opening_hour = config.dico_garden_opening_hour\n",
    "date_first_opening_WG = config.date_first_opening_WG\n",
    "print(id_run)\n",
    "path_extracted_data_visual = os.path.join(path_extracted_data,'visual')\n",
    "pal_ = config.pal_\n",
    "close_dates = config.close_dates\n",
    "\n",
    "#feature for model\n",
    "li_cont_select = config.li_cont_select\n",
    "li_bin = config.li_bin\n",
    "li_cat_select = config.li_cat_select\n",
    "\n",
    "#create a director if not existing\n",
    "if not os.path.exists(path_extracted_data_visual):\n",
    "    os.makedirs(path_extracted_data_visual)\n",
    "    \n",
    "path_extracted_data_cleaning_model = os.path.join(path_extracted_data,'Cleaning','model')  "
   ]
  },
  {
   "cell_type": "markdown",
   "metadata": {},
   "source": [
    "df_LF = pd.read_csv(os.path.join(path_extracted_data, id_run+'_LFCounterEqual0.csv'), parse_dates=['date'], dayfirst=True, sep=';') \n",
    "#x0 = df_daily.shape[0]\n",
    "#fillnan with big number to it also means weird values if there is only nan\n",
    "#df_daily['date_2remove_weirdLFcounter'] = df_daily.apply(lambda x: x['level'] in df_LF[(df_LF['LFCounter_nbr_equal0']>=10)&\\\n",
    "#(df_LF['sender']==x['TagID'])]['date'].tolist(), axis=1)\n",
    "print(df_LF.shape)\n",
    "display(df_LF.head(5))\n",
    "display(df_LF.tail(5))\n",
    "df_LF[df_LF['LFCounter_nbr_equal0']>0]"
   ]
  },
  {
   "cell_type": "markdown",
   "metadata": {},
   "source": [
    "## Preprocess - add HenID,PenID"
   ]
  },
  {
   "cell_type": "code",
   "execution_count": 6,
   "metadata": {
    "scrolled": false
   },
   "outputs": [
    {
     "name": "stderr",
     "output_type": "stream",
     "text": [
      "C:\\Users\\camil\\anaconda3\\lib\\site-packages\\ipykernel\\ipkernel.py:283: DeprecationWarning: `should_run_async` will not call `transform_cell` automatically in the future. Please pass the result to `transformed_cell` argument and any exception that happen during thetransform in `preprocessing_exc_tuple` in IPython 7.17 and above.\n",
      "  and should_run_async(code)\n",
      "<>:2: DeprecationWarning: invalid escape sequence \\T\n",
      "<>:2: DeprecationWarning: invalid escape sequence \\T\n",
      "<ipython-input-6-4584d3017de0>:2: DeprecationWarning: invalid escape sequence \\T\n",
      "  p = glob.glob(os.path.join(path_initial_data, 'Barn 4 Pen*\\TagUpdates\\log*'))\n"
     ]
    },
    {
     "data": {
      "text/html": [
       "<text style=color:black>log: log_00000001 has </text> <text style=color:green>359003</text> <text style=color:black> rows</text>"
      ],
      "text/plain": [
       "<IPython.core.display.HTML object>"
      ]
     },
     "metadata": {},
     "output_type": "display_data"
    },
    {
     "data": {
      "text/html": [
       "<text style=color:black>log: log_00000002 has </text> <text style=color:green>366740</text> <text style=color:black> rows</text>"
      ],
      "text/plain": [
       "<IPython.core.display.HTML object>"
      ]
     },
     "metadata": {},
     "output_type": "display_data"
    },
    {
     "data": {
      "text/html": [
       "<text style=color:black>log: log_00000003 has </text> <text style=color:green>367076</text> <text style=color:black> rows</text>"
      ],
      "text/plain": [
       "<IPython.core.display.HTML object>"
      ]
     },
     "metadata": {},
     "output_type": "display_data"
    },
    {
     "data": {
      "text/html": [
       "<text style=color:black>log: log_00000004 has </text> <text style=color:green>366813</text> <text style=color:black> rows</text>"
      ],
      "text/plain": [
       "<IPython.core.display.HTML object>"
      ]
     },
     "metadata": {},
     "output_type": "display_data"
    },
    {
     "data": {
      "text/html": [
       "<text style=color:black>log: log_00000005 has </text> <text style=color:green>366164</text> <text style=color:black> rows</text>"
      ],
      "text/plain": [
       "<IPython.core.display.HTML object>"
      ]
     },
     "metadata": {},
     "output_type": "display_data"
    },
    {
     "data": {
      "text/html": [
       "<text style=color:black>log: log_00000006 has </text> <text style=color:green>366755</text> <text style=color:black> rows</text>"
      ],
      "text/plain": [
       "<IPython.core.display.HTML object>"
      ]
     },
     "metadata": {},
     "output_type": "display_data"
    },
    {
     "data": {
      "text/html": [
       "<text style=color:black>log: log_00000007 has </text> <text style=color:green>366115</text> <text style=color:black> rows</text>"
      ],
      "text/plain": [
       "<IPython.core.display.HTML object>"
      ]
     },
     "metadata": {},
     "output_type": "display_data"
    },
    {
     "data": {
      "text/html": [
       "<text style=color:black>log: log_00000008 has </text> <text style=color:green>289272</text> <text style=color:black> rows</text>"
      ],
      "text/plain": [
       "<IPython.core.display.HTML object>"
      ]
     },
     "metadata": {},
     "output_type": "display_data"
    },
    {
     "data": {
      "text/html": [
       "<text style=color:black>log: log_00000009 has </text> <text style=color:green>326571</text> <text style=color:black> rows</text>"
      ],
      "text/plain": [
       "<IPython.core.display.HTML object>"
      ]
     },
     "metadata": {},
     "output_type": "display_data"
    },
    {
     "data": {
      "text/html": [
       "<text style=color:black>log: log_00000001 has </text> <text style=color:green>371776</text> <text style=color:black> rows</text>"
      ],
      "text/plain": [
       "<IPython.core.display.HTML object>"
      ]
     },
     "metadata": {},
     "output_type": "display_data"
    },
    {
     "data": {
      "text/html": [
       "<text style=color:black>log: log_00000002 has </text> <text style=color:green>373776</text> <text style=color:black> rows</text>"
      ],
      "text/plain": [
       "<IPython.core.display.HTML object>"
      ]
     },
     "metadata": {},
     "output_type": "display_data"
    },
    {
     "data": {
      "text/html": [
       "<text style=color:black>log: log_00000003 has </text> <text style=color:green>373919</text> <text style=color:black> rows</text>"
      ],
      "text/plain": [
       "<IPython.core.display.HTML object>"
      ]
     },
     "metadata": {},
     "output_type": "display_data"
    },
    {
     "data": {
      "text/html": [
       "<text style=color:black>log: log_00000004 has </text> <text style=color:green>373770</text> <text style=color:black> rows</text>"
      ],
      "text/plain": [
       "<IPython.core.display.HTML object>"
      ]
     },
     "metadata": {},
     "output_type": "display_data"
    },
    {
     "data": {
      "text/html": [
       "<text style=color:black>log: log_00000005 has </text> <text style=color:green>373310</text> <text style=color:black> rows</text>"
      ],
      "text/plain": [
       "<IPython.core.display.HTML object>"
      ]
     },
     "metadata": {},
     "output_type": "display_data"
    },
    {
     "data": {
      "text/html": [
       "<text style=color:black>log: log_00000006 has </text> <text style=color:green>373635</text> <text style=color:black> rows</text>"
      ],
      "text/plain": [
       "<IPython.core.display.HTML object>"
      ]
     },
     "metadata": {},
     "output_type": "display_data"
    },
    {
     "data": {
      "text/html": [
       "<text style=color:black>log: log_00000007 has </text> <text style=color:green>374897</text> <text style=color:black> rows</text>"
      ],
      "text/plain": [
       "<IPython.core.display.HTML object>"
      ]
     },
     "metadata": {},
     "output_type": "display_data"
    },
    {
     "data": {
      "text/html": [
       "<text style=color:black>log: log_00000008 has </text> <text style=color:green>214255</text> <text style=color:black> rows</text>"
      ],
      "text/plain": [
       "<IPython.core.display.HTML object>"
      ]
     },
     "metadata": {},
     "output_type": "display_data"
    },
    {
     "data": {
      "text/html": [
       "<text style=color:black>log: log_00000001 has </text> <text style=color:green>372191</text> <text style=color:black> rows</text>"
      ],
      "text/plain": [
       "<IPython.core.display.HTML object>"
      ]
     },
     "metadata": {},
     "output_type": "display_data"
    },
    {
     "data": {
      "text/html": [
       "<text style=color:black>log: log_00000002 has </text> <text style=color:green>374299</text> <text style=color:black> rows</text>"
      ],
      "text/plain": [
       "<IPython.core.display.HTML object>"
      ]
     },
     "metadata": {},
     "output_type": "display_data"
    },
    {
     "data": {
      "text/html": [
       "<text style=color:black>log: log_00000003 has </text> <text style=color:green>374613</text> <text style=color:black> rows</text>"
      ],
      "text/plain": [
       "<IPython.core.display.HTML object>"
      ]
     },
     "metadata": {},
     "output_type": "display_data"
    },
    {
     "data": {
      "text/html": [
       "<text style=color:black>log: log_00000004 has </text> <text style=color:green>272849</text> <text style=color:black> rows</text>"
      ],
      "text/plain": [
       "<IPython.core.display.HTML object>"
      ]
     },
     "metadata": {},
     "output_type": "display_data"
    },
    {
     "data": {
      "text/html": [
       "<text style=color:black>log: log_00000005 has </text> <text style=color:green>128278</text> <text style=color:black> rows</text>"
      ],
      "text/plain": [
       "<IPython.core.display.HTML object>"
      ]
     },
     "metadata": {},
     "output_type": "display_data"
    },
    {
     "name": "stdout",
     "output_type": "stream",
     "text": [
      "From the focalBirdinfo, you have 155 ative tags\n"
     ]
    },
    {
     "name": "stderr",
     "output_type": "stream",
     "text": [
      "\r",
      "  0%|                                                                                           | 0/51 [00:00<?, ?it/s]"
     ]
    },
    {
     "name": "stdout",
     "output_type": "stream",
     "text": [
      "-------------------- DEVICE DATA --------------------\n",
      "process device data...\n"
     ]
    },
    {
     "name": "stderr",
     "output_type": "stream",
     "text": [
      "100%|██████████████████████████████████████████████████████████████████████████████████| 51/51 [13:06<00:00, 15.42s/it]\n"
     ]
    },
    {
     "name": "stdout",
     "output_type": "stream",
     "text": [
      "(5103153, 21)\n",
      "(46566, 4)\n",
      "(46566, 7)\n",
      "(7274527, 15)\n"
     ]
    },
    {
     "data": {
      "text/html": [
       "<div>\n",
       "<style scoped>\n",
       "    .dataframe tbody tr th:only-of-type {\n",
       "        vertical-align: middle;\n",
       "    }\n",
       "\n",
       "    .dataframe tbody tr th {\n",
       "        vertical-align: top;\n",
       "    }\n",
       "\n",
       "    .dataframe thead th {\n",
       "        text-align: right;\n",
       "    }\n",
       "</style>\n",
       "<table border=\"1\" class=\"dataframe\">\n",
       "  <thead>\n",
       "    <tr style=\"text-align: right;\">\n",
       "      <th></th>\n",
       "      <th>Timestamp</th>\n",
       "      <th>HenID</th>\n",
       "      <th>Zone</th>\n",
       "      <th>PenID</th>\n",
       "      <th>log_file_name</th>\n",
       "      <th>ts_order</th>\n",
       "      <th>TagID</th>\n",
       "      <th>signalstrength</th>\n",
       "      <th>system</th>\n",
       "      <th>time</th>\n",
       "      <th>date</th>\n",
       "      <th>zone2</th>\n",
       "      <th>signalstzone2</th>\n",
       "      <th>zone3</th>\n",
       "      <th>zone4</th>\n",
       "    </tr>\n",
       "  </thead>\n",
       "  <tbody>\n",
       "    <tr>\n",
       "      <th>0</th>\n",
       "      <td>2020-09-29 09:07:00</td>\n",
       "      <td>hen_71</td>\n",
       "      <td>3_Zone</td>\n",
       "      <td>pen12</td>\n",
       "      <td>log_00000001</td>\n",
       "      <td>0</td>\n",
       "      <td>tag_162</td>\n",
       "      <td>10</td>\n",
       "      <td>10 - 12</td>\n",
       "      <td>09:07:00</td>\n",
       "      <td>2020-09-29</td>\n",
       "      <td>2</td>\n",
       "      <td>8</td>\n",
       "      <td>1</td>\n",
       "      <td>0</td>\n",
       "    </tr>\n",
       "    <tr>\n",
       "      <th>1</th>\n",
       "      <td>2020-09-29 09:08:12</td>\n",
       "      <td>hen_7</td>\n",
       "      <td>3_Zone</td>\n",
       "      <td>pen11</td>\n",
       "      <td>log_00000001</td>\n",
       "      <td>1</td>\n",
       "      <td>tag_140</td>\n",
       "      <td>10</td>\n",
       "      <td>10 - 12</td>\n",
       "      <td>09:08:12</td>\n",
       "      <td>2020-09-29</td>\n",
       "      <td>2</td>\n",
       "      <td>8</td>\n",
       "      <td>1</td>\n",
       "      <td>0</td>\n",
       "    </tr>\n",
       "  </tbody>\n",
       "</table>\n",
       "</div>"
      ],
      "text/plain": [
       "            Timestamp   HenID    Zone  PenID log_file_name  ts_order    TagID  \\\n",
       "0 2020-09-29 09:07:00  hen_71  3_Zone  pen12  log_00000001         0  tag_162   \n",
       "1 2020-09-29 09:08:12   hen_7  3_Zone  pen11  log_00000001         1  tag_140   \n",
       "\n",
       "   signalstrength   system      time       date  zone2  signalstzone2  zone3  \\\n",
       "0              10  10 - 12  09:07:00 2020-09-29      2              8      1   \n",
       "1              10  10 - 12  09:08:12 2020-09-29      2              8      1   \n",
       "\n",
       "   zone4  \n",
       "0      0  \n",
       "1      0  "
      ]
     },
     "metadata": {},
     "output_type": "display_data"
    },
    {
     "data": {
      "text/html": [
       "<div>\n",
       "<style scoped>\n",
       "    .dataframe tbody tr th:only-of-type {\n",
       "        vertical-align: middle;\n",
       "    }\n",
       "\n",
       "    .dataframe tbody tr th {\n",
       "        vertical-align: top;\n",
       "    }\n",
       "\n",
       "    .dataframe thead th {\n",
       "        text-align: right;\n",
       "    }\n",
       "</style>\n",
       "<table border=\"1\" class=\"dataframe\">\n",
       "  <thead>\n",
       "    <tr style=\"text-align: right;\">\n",
       "      <th></th>\n",
       "      <th>Timestamp</th>\n",
       "      <th>HenID</th>\n",
       "      <th>Zone</th>\n",
       "      <th>PenID</th>\n",
       "      <th>log_file_name</th>\n",
       "      <th>ts_order</th>\n",
       "      <th>TagID</th>\n",
       "      <th>signalstrength</th>\n",
       "      <th>system</th>\n",
       "      <th>time</th>\n",
       "      <th>date</th>\n",
       "      <th>zone2</th>\n",
       "      <th>signalstzone2</th>\n",
       "      <th>zone3</th>\n",
       "      <th>zone4</th>\n",
       "    </tr>\n",
       "  </thead>\n",
       "  <tbody>\n",
       "    <tr>\n",
       "      <th>7274525</th>\n",
       "      <td>2021-07-25 23:56:18</td>\n",
       "      <td>hen_217</td>\n",
       "      <td>3_Zone</td>\n",
       "      <td>pen8</td>\n",
       "      <td>log_00000005</td>\n",
       "      <td>124607</td>\n",
       "      <td>tag_75</td>\n",
       "      <td>16</td>\n",
       "      <td>8 - 9</td>\n",
       "      <td>23:56:18</td>\n",
       "      <td>2021-07-25</td>\n",
       "      <td>4</td>\n",
       "      <td>9</td>\n",
       "      <td>3</td>\n",
       "      <td>1</td>\n",
       "    </tr>\n",
       "    <tr>\n",
       "      <th>7274526</th>\n",
       "      <td>2021-07-25 23:56:18</td>\n",
       "      <td>hen_173</td>\n",
       "      <td>3_Zone</td>\n",
       "      <td>pen8</td>\n",
       "      <td>log_00000005</td>\n",
       "      <td>124608</td>\n",
       "      <td>tag_86</td>\n",
       "      <td>16</td>\n",
       "      <td>8 - 9</td>\n",
       "      <td>23:56:18</td>\n",
       "      <td>2021-07-25</td>\n",
       "      <td>4</td>\n",
       "      <td>11</td>\n",
       "      <td>3</td>\n",
       "      <td>1</td>\n",
       "    </tr>\n",
       "  </tbody>\n",
       "</table>\n",
       "</div>"
      ],
      "text/plain": [
       "                  Timestamp    HenID    Zone PenID log_file_name  ts_order  \\\n",
       "7274525 2021-07-25 23:56:18  hen_217  3_Zone  pen8  log_00000005    124607   \n",
       "7274526 2021-07-25 23:56:18  hen_173  3_Zone  pen8  log_00000005    124608   \n",
       "\n",
       "          TagID  signalstrength system      time       date  zone2  \\\n",
       "7274525  tag_75              16  8 - 9  23:56:18 2021-07-25      4   \n",
       "7274526  tag_86              16  8 - 9  23:56:18 2021-07-25      4   \n",
       "\n",
       "         signalstzone2  zone3  zone4  \n",
       "7274525              9      3      1  \n",
       "7274526             11      3      1  "
      ]
     },
     "metadata": {},
     "output_type": "display_data"
    },
    {
     "name": "stdout",
     "output_type": "stream",
     "text": [
      "Total running time: 27.35 mn\n"
     ]
    }
   ],
   "source": [
    "START_TIME = time.perf_counter()\n",
    "p = glob.glob(os.path.join(path_initial_data, 'Barn 4 Pen*\\TagUpdates\\log*'))\n",
    "#print('There is %d log files:\\n  %s'%(len(p),'  \\n  '.join(p)))\n",
    "df = preprocessing_Origins(p, config, save=True, dodevice=True)\n",
    "print(df.shape)\n",
    "display(df.head(2))\n",
    "display(df.tail(2))\n",
    "END_TIME = time.perf_counter()\n",
    "print (\"Total running time: %.2f mn\" %((END_TIME-START_TIME)/60))\n",
    "#--> saves a datafarme named: _PreprocessRecords_forcleaning"
   ]
  },
  {
   "cell_type": "markdown",
   "metadata": {},
   "source": [
    "# Model-based cleaning"
   ]
  },
  {
   "cell_type": "raw",
   "metadata": {},
   "source": [
    "In order to keep maximum information during video cleaning (i.e. each record), we kept consecutives equal zones, so the model was trained to say \"correct record\" even when the duration was small and the next zone was the same zone (instead of correct when the duration was longer and the next zone was a different one). \n",
    "Also, note that if we remove consecutives equal zone before the model filtering, then we might remove a correct record, while keeping a wrong record instead.\n",
    "For these two reasons, we should remove consecutives equal zones AFTER model filtering and not during the general cleaning.\n",
    "Note that the only difference with the preprocessing step in chapter 0, is that we add the milliseconds to the timsetamp in order to have the correct duration per stay first"
   ]
  },
  {
   "cell_type": "code",
   "execution_count": 7,
   "metadata": {},
   "outputs": [
    {
     "name": "stderr",
     "output_type": "stream",
     "text": [
      "C:\\Users\\camil\\anaconda3\\lib\\site-packages\\ipykernel\\ipkernel.py:283: DeprecationWarning: `should_run_async` will not call `transform_cell` automatically in the future. Please pass the result to `transformed_cell` argument and any exception that happen during thetransform in `preprocessing_exc_tuple` in IPython 7.17 and above.\n",
      "  and should_run_async(code)\n"
     ]
    },
    {
     "name": "stdout",
     "output_type": "stream",
     "text": [
      "(7274527, 16)\n",
      "2020-09-29 00:00:00 2021-07-25 00:00:00\n",
      "(7261563, 16)\n"
     ]
    },
    {
     "data": {
      "text/html": [
       "<div>\n",
       "<style scoped>\n",
       "    .dataframe tbody tr th:only-of-type {\n",
       "        vertical-align: middle;\n",
       "    }\n",
       "\n",
       "    .dataframe tbody tr th {\n",
       "        vertical-align: top;\n",
       "    }\n",
       "\n",
       "    .dataframe thead th {\n",
       "        text-align: right;\n",
       "    }\n",
       "</style>\n",
       "<table border=\"1\" class=\"dataframe\">\n",
       "  <thead>\n",
       "    <tr style=\"text-align: right;\">\n",
       "      <th></th>\n",
       "      <th>Unnamed: 0</th>\n",
       "      <th>Timestamp</th>\n",
       "      <th>HenID</th>\n",
       "      <th>Zone</th>\n",
       "      <th>PenID</th>\n",
       "      <th>log_file_name</th>\n",
       "      <th>ts_order</th>\n",
       "      <th>TagID</th>\n",
       "      <th>signalstrength</th>\n",
       "      <th>system</th>\n",
       "      <th>time</th>\n",
       "      <th>date</th>\n",
       "      <th>zone2</th>\n",
       "      <th>signalstzone2</th>\n",
       "      <th>zone3</th>\n",
       "      <th>zone4</th>\n",
       "    </tr>\n",
       "  </thead>\n",
       "  <tbody>\n",
       "    <tr>\n",
       "      <th>0</th>\n",
       "      <td>0</td>\n",
       "      <td>2020-09-29 09:07:00</td>\n",
       "      <td>hen_71</td>\n",
       "      <td>3_Zone</td>\n",
       "      <td>pen12</td>\n",
       "      <td>log_00000001</td>\n",
       "      <td>0</td>\n",
       "      <td>tag_162</td>\n",
       "      <td>10</td>\n",
       "      <td>10 - 12</td>\n",
       "      <td>09:07:00</td>\n",
       "      <td>2020-09-29</td>\n",
       "      <td>2</td>\n",
       "      <td>8</td>\n",
       "      <td>1</td>\n",
       "      <td>0</td>\n",
       "    </tr>\n",
       "    <tr>\n",
       "      <th>1</th>\n",
       "      <td>1</td>\n",
       "      <td>2020-09-29 09:08:12</td>\n",
       "      <td>hen_7</td>\n",
       "      <td>3_Zone</td>\n",
       "      <td>pen11</td>\n",
       "      <td>log_00000001</td>\n",
       "      <td>1</td>\n",
       "      <td>tag_140</td>\n",
       "      <td>10</td>\n",
       "      <td>10 - 12</td>\n",
       "      <td>09:08:12</td>\n",
       "      <td>2020-09-29</td>\n",
       "      <td>2</td>\n",
       "      <td>8</td>\n",
       "      <td>1</td>\n",
       "      <td>0</td>\n",
       "    </tr>\n",
       "    <tr>\n",
       "      <th>2</th>\n",
       "      <td>2</td>\n",
       "      <td>2020-09-29 09:08:26</td>\n",
       "      <td>hen_71</td>\n",
       "      <td>3_Zone</td>\n",
       "      <td>pen12</td>\n",
       "      <td>log_00000001</td>\n",
       "      <td>2</td>\n",
       "      <td>tag_162</td>\n",
       "      <td>11</td>\n",
       "      <td>10 - 12</td>\n",
       "      <td>09:08:26</td>\n",
       "      <td>2020-09-29</td>\n",
       "      <td>8</td>\n",
       "      <td>10</td>\n",
       "      <td>3</td>\n",
       "      <td>1</td>\n",
       "    </tr>\n",
       "  </tbody>\n",
       "</table>\n",
       "</div>"
      ],
      "text/plain": [
       "   Unnamed: 0           Timestamp   HenID    Zone  PenID log_file_name  \\\n",
       "0           0 2020-09-29 09:07:00  hen_71  3_Zone  pen12  log_00000001   \n",
       "1           1 2020-09-29 09:08:12   hen_7  3_Zone  pen11  log_00000001   \n",
       "2           2 2020-09-29 09:08:26  hen_71  3_Zone  pen12  log_00000001   \n",
       "\n",
       "   ts_order    TagID  signalstrength   system      time       date  zone2  \\\n",
       "0         0  tag_162              10  10 - 12  09:07:00 2020-09-29      2   \n",
       "1         1  tag_140              10  10 - 12  09:08:12 2020-09-29      2   \n",
       "2         2  tag_162              11  10 - 12  09:08:26 2020-09-29      8   \n",
       "\n",
       "   signalstzone2  zone3  zone4  \n",
       "0              8      1      0  \n",
       "1              8      1      0  \n",
       "2             10      3      1  "
      ]
     },
     "execution_count": 7,
     "metadata": {},
     "output_type": "execute_result"
    }
   ],
   "source": [
    "#for being more reproductible, we open the file that was saved from cleaning\n",
    "df = pd.read_csv(os.path.join(path_extracted_data, id_run+'_PreprocessRecords_forcleaning.csv'), sep=';', \n",
    "                 parse_dates=['Timestamp', 'date'], dayfirst=True) #index_col=0) \n",
    "#remove the entries that last less than a second\n",
    "print(df.shape)\n",
    "df = df.drop_duplicates(subset=['Timestamp','HenID'], keep='last')\n",
    "print(min(df['date'].tolist()), max(df['date'].tolist()))\n",
    "print(df.shape)\n",
    "df.head(3)"
   ]
  },
  {
   "cell_type": "code",
   "execution_count": 8,
   "metadata": {},
   "outputs": [
    {
     "name": "stdout",
     "output_type": "stream",
     "text": [
      "(7261563, 16)\n"
     ]
    },
    {
     "name": "stderr",
     "output_type": "stream",
     "text": [
      "C:\\Users\\camil\\anaconda3\\lib\\site-packages\\ipykernel\\ipkernel.py:283: DeprecationWarning: `should_run_async` will not call `transform_cell` automatically in the future. Please pass the result to `transformed_cell` argument and any exception that happen during thetransform in `preprocessing_exc_tuple` in IPython 7.17 and above.\n",
      "  and should_run_async(code)\n"
     ]
    },
    {
     "name": "stdout",
     "output_type": "stream",
     "text": [
      "(7261563, 16)\n"
     ]
    },
    {
     "name": "stderr",
     "output_type": "stream",
     "text": [
      "100%|████████████████████████████████████████████████████████████████████████████████| 227/227 [10:43<00:00,  2.84s/it]\n"
     ]
    },
    {
     "name": "stdout",
     "output_type": "stream",
     "text": [
      "small VERIFICATION of zone matching, before droping the old names\n"
     ]
    },
    {
     "data": {
      "text/html": [
       "<div>\n",
       "<style scoped>\n",
       "    .dataframe tbody tr th:only-of-type {\n",
       "        vertical-align: middle;\n",
       "    }\n",
       "\n",
       "    .dataframe tbody tr th {\n",
       "        vertical-align: top;\n",
       "    }\n",
       "\n",
       "    .dataframe thead th {\n",
       "        text-align: right;\n",
       "    }\n",
       "</style>\n",
       "<table border=\"1\" class=\"dataframe\">\n",
       "  <thead>\n",
       "    <tr style=\"text-align: right;\">\n",
       "      <th></th>\n",
       "      <th>system</th>\n",
       "      <th>zone2</th>\n",
       "      <th>zone3</th>\n",
       "      <th>zone4</th>\n",
       "      <th>zone2_match</th>\n",
       "      <th>zone3_match</th>\n",
       "      <th>zone4_match</th>\n",
       "    </tr>\n",
       "  </thead>\n",
       "  <tbody>\n",
       "    <tr>\n",
       "      <th>0</th>\n",
       "      <td>10 - 12</td>\n",
       "      <td>2</td>\n",
       "      <td>1</td>\n",
       "      <td>0</td>\n",
       "      <td>3_Zone</td>\n",
       "      <td>2_Zone</td>\n",
       "      <td>NoOtherZone</td>\n",
       "    </tr>\n",
       "    <tr>\n",
       "      <th>1</th>\n",
       "      <td>10 - 12</td>\n",
       "      <td>2</td>\n",
       "      <td>1</td>\n",
       "      <td>0</td>\n",
       "      <td>3_Zone</td>\n",
       "      <td>2_Zone</td>\n",
       "      <td>NoOtherZone</td>\n",
       "    </tr>\n",
       "    <tr>\n",
       "      <th>2</th>\n",
       "      <td>10 - 12</td>\n",
       "      <td>8</td>\n",
       "      <td>3</td>\n",
       "      <td>1</td>\n",
       "      <td>miniZone3</td>\n",
       "      <td>4_Zone</td>\n",
       "      <td>2_Zone</td>\n",
       "    </tr>\n",
       "    <tr>\n",
       "      <th>3</th>\n",
       "      <td>10 - 12</td>\n",
       "      <td>2</td>\n",
       "      <td>3</td>\n",
       "      <td>1</td>\n",
       "      <td>3_Zone</td>\n",
       "      <td>4_Zone</td>\n",
       "      <td>2_Zone</td>\n",
       "    </tr>\n",
       "    <tr>\n",
       "      <th>4</th>\n",
       "      <td>10 - 12</td>\n",
       "      <td>8</td>\n",
       "      <td>3</td>\n",
       "      <td>0</td>\n",
       "      <td>miniZone3</td>\n",
       "      <td>4_Zone</td>\n",
       "      <td>NoOtherZone</td>\n",
       "    </tr>\n",
       "    <tr>\n",
       "      <th>5</th>\n",
       "      <td>10 - 12</td>\n",
       "      <td>2</td>\n",
       "      <td>3</td>\n",
       "      <td>1</td>\n",
       "      <td>3_Zone</td>\n",
       "      <td>4_Zone</td>\n",
       "      <td>2_Zone</td>\n",
       "    </tr>\n",
       "    <tr>\n",
       "      <th>6</th>\n",
       "      <td>10 - 12</td>\n",
       "      <td>7</td>\n",
       "      <td>0</td>\n",
       "      <td>0</td>\n",
       "      <td>miniZone3</td>\n",
       "      <td>NoOtherZone</td>\n",
       "      <td>NoOtherZone</td>\n",
       "    </tr>\n",
       "    <tr>\n",
       "      <th>7</th>\n",
       "      <td>10 - 12</td>\n",
       "      <td>8</td>\n",
       "      <td>3</td>\n",
       "      <td>1</td>\n",
       "      <td>miniZone3</td>\n",
       "      <td>4_Zone</td>\n",
       "      <td>2_Zone</td>\n",
       "    </tr>\n",
       "    <tr>\n",
       "      <th>8</th>\n",
       "      <td>10 - 12</td>\n",
       "      <td>2</td>\n",
       "      <td>3</td>\n",
       "      <td>0</td>\n",
       "      <td>3_Zone</td>\n",
       "      <td>4_Zone</td>\n",
       "      <td>NoOtherZone</td>\n",
       "    </tr>\n",
       "    <tr>\n",
       "      <th>9</th>\n",
       "      <td>10 - 12</td>\n",
       "      <td>2</td>\n",
       "      <td>3</td>\n",
       "      <td>1</td>\n",
       "      <td>3_Zone</td>\n",
       "      <td>4_Zone</td>\n",
       "      <td>2_Zone</td>\n",
       "    </tr>\n",
       "  </tbody>\n",
       "</table>\n",
       "</div>"
      ],
      "text/plain": [
       "    system  zone2  zone3  zone4 zone2_match  zone3_match  zone4_match\n",
       "0  10 - 12      2      1      0      3_Zone       2_Zone  NoOtherZone\n",
       "1  10 - 12      2      1      0      3_Zone       2_Zone  NoOtherZone\n",
       "2  10 - 12      8      3      1   miniZone3       4_Zone       2_Zone\n",
       "3  10 - 12      2      3      1      3_Zone       4_Zone       2_Zone\n",
       "4  10 - 12      8      3      0   miniZone3       4_Zone  NoOtherZone\n",
       "5  10 - 12      2      3      1      3_Zone       4_Zone       2_Zone\n",
       "6  10 - 12      7      0      0   miniZone3  NoOtherZone  NoOtherZone\n",
       "7  10 - 12      8      3      1   miniZone3       4_Zone       2_Zone\n",
       "8  10 - 12      2      3      0      3_Zone       4_Zone  NoOtherZone\n",
       "9  10 - 12      2      3      1      3_Zone       4_Zone       2_Zone"
      ]
     },
     "metadata": {},
     "output_type": "display_data"
    },
    {
     "name": "stdout",
     "output_type": "stream",
     "text": [
      "specifically, a small verification of when zone2 was equal to 9\n"
     ]
    },
    {
     "data": {
      "text/html": [
       "<div>\n",
       "<style scoped>\n",
       "    .dataframe tbody tr th:only-of-type {\n",
       "        vertical-align: middle;\n",
       "    }\n",
       "\n",
       "    .dataframe tbody tr th {\n",
       "        vertical-align: top;\n",
       "    }\n",
       "\n",
       "    .dataframe thead th {\n",
       "        text-align: right;\n",
       "    }\n",
       "</style>\n",
       "<table border=\"1\" class=\"dataframe\">\n",
       "  <thead>\n",
       "    <tr style=\"text-align: right;\">\n",
       "      <th></th>\n",
       "      <th>Unnamed: 0</th>\n",
       "      <th>Timestamp</th>\n",
       "      <th>HenID</th>\n",
       "      <th>Zone</th>\n",
       "      <th>PenID</th>\n",
       "      <th>ts_order</th>\n",
       "      <th>TagID</th>\n",
       "      <th>signalstrength</th>\n",
       "      <th>system</th>\n",
       "      <th>time</th>\n",
       "      <th>...</th>\n",
       "      <th>next3_zone</th>\n",
       "      <th>previous3_zone</th>\n",
       "      <th>next4_zone</th>\n",
       "      <th>previous4_zone</th>\n",
       "      <th>next5_zone</th>\n",
       "      <th>previous5_zone</th>\n",
       "      <th>previousZone==NextZone</th>\n",
       "      <th>zone2_match</th>\n",
       "      <th>zone3_match</th>\n",
       "      <th>zone4_match</th>\n",
       "    </tr>\n",
       "  </thead>\n",
       "  <tbody>\n",
       "    <tr>\n",
       "      <th>171</th>\n",
       "      <td>171</td>\n",
       "      <td>2020-09-29 09:47:53</td>\n",
       "      <td>hen_47</td>\n",
       "      <td>2_Zone</td>\n",
       "      <td>pen12</td>\n",
       "      <td>104</td>\n",
       "      <td>tag_175</td>\n",
       "      <td>6</td>\n",
       "      <td>10 - 12</td>\n",
       "      <td>09:47:53</td>\n",
       "      <td>...</td>\n",
       "      <td>2_Zone</td>\n",
       "      <td>NaN</td>\n",
       "      <td>2_Zone</td>\n",
       "      <td>NaN</td>\n",
       "      <td>2_Zone</td>\n",
       "      <td>NaN</td>\n",
       "      <td>True</td>\n",
       "      <td>2_Zone</td>\n",
       "      <td>NoOtherZone</td>\n",
       "      <td>NoOtherZone</td>\n",
       "    </tr>\n",
       "    <tr>\n",
       "      <th>197</th>\n",
       "      <td>197</td>\n",
       "      <td>2020-09-29 09:51:02</td>\n",
       "      <td>hen_55</td>\n",
       "      <td>2_Zone</td>\n",
       "      <td>pen12</td>\n",
       "      <td>118</td>\n",
       "      <td>tag_167</td>\n",
       "      <td>6</td>\n",
       "      <td>10 - 12</td>\n",
       "      <td>09:51:02</td>\n",
       "      <td>...</td>\n",
       "      <td>2_Zone</td>\n",
       "      <td>NaN</td>\n",
       "      <td>2_Zone</td>\n",
       "      <td>NaN</td>\n",
       "      <td>2_Zone</td>\n",
       "      <td>NaN</td>\n",
       "      <td>True</td>\n",
       "      <td>2_Zone</td>\n",
       "      <td>NoOtherZone</td>\n",
       "      <td>NoOtherZone</td>\n",
       "    </tr>\n",
       "    <tr>\n",
       "      <th>346</th>\n",
       "      <td>346</td>\n",
       "      <td>2020-09-29 10:15:40</td>\n",
       "      <td>hen_53</td>\n",
       "      <td>2_Zone</td>\n",
       "      <td>pen12</td>\n",
       "      <td>148</td>\n",
       "      <td>tag_169</td>\n",
       "      <td>6</td>\n",
       "      <td>10 - 12</td>\n",
       "      <td>10:15:40</td>\n",
       "      <td>...</td>\n",
       "      <td>2_Zone</td>\n",
       "      <td>2_Zone</td>\n",
       "      <td>2_Zone</td>\n",
       "      <td>2_Zone</td>\n",
       "      <td>2_Zone</td>\n",
       "      <td>3_Zone</td>\n",
       "      <td>True</td>\n",
       "      <td>2_Zone</td>\n",
       "      <td>NoOtherZone</td>\n",
       "      <td>NoOtherZone</td>\n",
       "    </tr>\n",
       "  </tbody>\n",
       "</table>\n",
       "<p>3 rows × 42 columns</p>\n",
       "</div>"
      ],
      "text/plain": [
       "     Unnamed: 0           Timestamp   HenID    Zone  PenID  ts_order    TagID  \\\n",
       "171         171 2020-09-29 09:47:53  hen_47  2_Zone  pen12       104  tag_175   \n",
       "197         197 2020-09-29 09:51:02  hen_55  2_Zone  pen12       118  tag_167   \n",
       "346         346 2020-09-29 10:15:40  hen_53  2_Zone  pen12       148  tag_169   \n",
       "\n",
       "     signalstrength   system      time  ... next3_zone  previous3_zone  \\\n",
       "171               6  10 - 12  09:47:53  ...     2_Zone             NaN   \n",
       "197               6  10 - 12  09:51:02  ...     2_Zone             NaN   \n",
       "346               6  10 - 12  10:15:40  ...     2_Zone          2_Zone   \n",
       "\n",
       "     next4_zone  previous4_zone  next5_zone previous5_zone  \\\n",
       "171      2_Zone             NaN      2_Zone            NaN   \n",
       "197      2_Zone             NaN      2_Zone            NaN   \n",
       "346      2_Zone          2_Zone      2_Zone         3_Zone   \n",
       "\n",
       "    previousZone==NextZone zone2_match  zone3_match  zone4_match  \n",
       "171                   True      2_Zone  NoOtherZone  NoOtherZone  \n",
       "197                   True      2_Zone  NoOtherZone  NoOtherZone  \n",
       "346                   True      2_Zone  NoOtherZone  NoOtherZone  \n",
       "\n",
       "[3 rows x 42 columns]"
      ]
     },
     "metadata": {},
     "output_type": "display_data"
    },
    {
     "data": {
      "text/plain": [
       "False    0.911787\n",
       "True     0.088213\n",
       "Name: is_dur_bigger_900, dtype: float64"
      ]
     },
     "metadata": {},
     "output_type": "display_data"
    },
    {
     "data": {
      "text/plain": [
       "True     0.500013\n",
       "False    0.499987\n",
       "Name: is_dur_smaller_60sec, dtype: float64"
      ]
     },
     "metadata": {},
     "output_type": "display_data"
    },
    {
     "name": "stdout",
     "output_type": "stream",
     "text": [
      "saving...\n",
      "Total running time: 41.17 mn\n",
      "(7261563, 44)\n"
     ]
    },
    {
     "data": {
      "text/html": [
       "<div>\n",
       "<style scoped>\n",
       "    .dataframe tbody tr th:only-of-type {\n",
       "        vertical-align: middle;\n",
       "    }\n",
       "\n",
       "    .dataframe tbody tr th {\n",
       "        vertical-align: top;\n",
       "    }\n",
       "\n",
       "    .dataframe thead th {\n",
       "        text-align: right;\n",
       "    }\n",
       "</style>\n",
       "<table border=\"1\" class=\"dataframe\">\n",
       "  <thead>\n",
       "    <tr style=\"text-align: right;\">\n",
       "      <th></th>\n",
       "      <th>Unnamed: 0</th>\n",
       "      <th>Timestamp</th>\n",
       "      <th>HenID</th>\n",
       "      <th>Trackingsystem_Zone</th>\n",
       "      <th>PenID</th>\n",
       "      <th>ts_order</th>\n",
       "      <th>TagID</th>\n",
       "      <th>signalstrength</th>\n",
       "      <th>system</th>\n",
       "      <th>time</th>\n",
       "      <th>...</th>\n",
       "      <th>previous5_zone</th>\n",
       "      <th>previousZone==NextZone</th>\n",
       "      <th>zone2_match</th>\n",
       "      <th>zone3_match</th>\n",
       "      <th>zone4_match</th>\n",
       "      <th>zone3_match_exist</th>\n",
       "      <th>next2zone==Zone</th>\n",
       "      <th>previous2zone==Zone</th>\n",
       "      <th>is_dur_bigger_900</th>\n",
       "      <th>is_dur_smaller_60sec</th>\n",
       "    </tr>\n",
       "  </thead>\n",
       "  <tbody>\n",
       "    <tr>\n",
       "      <th>0</th>\n",
       "      <td>0</td>\n",
       "      <td>2020-09-29 09:07:00</td>\n",
       "      <td>hen_71</td>\n",
       "      <td>3_Zone</td>\n",
       "      <td>pen12</td>\n",
       "      <td>0</td>\n",
       "      <td>tag_162</td>\n",
       "      <td>10</td>\n",
       "      <td>10 - 12</td>\n",
       "      <td>09:07:00</td>\n",
       "      <td>...</td>\n",
       "      <td>NaN</td>\n",
       "      <td>False</td>\n",
       "      <td>3_Zone</td>\n",
       "      <td>2_Zone</td>\n",
       "      <td>NoOtherZone</td>\n",
       "      <td>1</td>\n",
       "      <td>1</td>\n",
       "      <td>0</td>\n",
       "      <td>False</td>\n",
       "      <td>False</td>\n",
       "    </tr>\n",
       "    <tr>\n",
       "      <th>1</th>\n",
       "      <td>1</td>\n",
       "      <td>2020-09-29 09:08:12</td>\n",
       "      <td>hen_7</td>\n",
       "      <td>3_Zone</td>\n",
       "      <td>pen11</td>\n",
       "      <td>1</td>\n",
       "      <td>tag_140</td>\n",
       "      <td>10</td>\n",
       "      <td>10 - 12</td>\n",
       "      <td>09:08:12</td>\n",
       "      <td>...</td>\n",
       "      <td>NaN</td>\n",
       "      <td>False</td>\n",
       "      <td>3_Zone</td>\n",
       "      <td>2_Zone</td>\n",
       "      <td>NoOtherZone</td>\n",
       "      <td>1</td>\n",
       "      <td>1</td>\n",
       "      <td>0</td>\n",
       "      <td>False</td>\n",
       "      <td>False</td>\n",
       "    </tr>\n",
       "    <tr>\n",
       "      <th>2</th>\n",
       "      <td>2</td>\n",
       "      <td>2020-09-29 09:08:26</td>\n",
       "      <td>hen_71</td>\n",
       "      <td>3_Zone</td>\n",
       "      <td>pen12</td>\n",
       "      <td>2</td>\n",
       "      <td>tag_162</td>\n",
       "      <td>11</td>\n",
       "      <td>10 - 12</td>\n",
       "      <td>09:08:26</td>\n",
       "      <td>...</td>\n",
       "      <td>NaN</td>\n",
       "      <td>True</td>\n",
       "      <td>miniZone3</td>\n",
       "      <td>4_Zone</td>\n",
       "      <td>2_Zone</td>\n",
       "      <td>1</td>\n",
       "      <td>1</td>\n",
       "      <td>0</td>\n",
       "      <td>False</td>\n",
       "      <td>False</td>\n",
       "    </tr>\n",
       "  </tbody>\n",
       "</table>\n",
       "<p>3 rows × 44 columns</p>\n",
       "</div>"
      ],
      "text/plain": [
       "   Unnamed: 0           Timestamp   HenID Trackingsystem_Zone  PenID  \\\n",
       "0           0 2020-09-29 09:07:00  hen_71              3_Zone  pen12   \n",
       "1           1 2020-09-29 09:08:12   hen_7              3_Zone  pen11   \n",
       "2           2 2020-09-29 09:08:26  hen_71              3_Zone  pen12   \n",
       "\n",
       "   ts_order    TagID  signalstrength   system      time  ... previous5_zone  \\\n",
       "0         0  tag_162              10  10 - 12  09:07:00  ...            NaN   \n",
       "1         1  tag_140              10  10 - 12  09:08:12  ...            NaN   \n",
       "2         2  tag_162              11  10 - 12  09:08:26  ...            NaN   \n",
       "\n",
       "   previousZone==NextZone zone2_match zone3_match  zone4_match  \\\n",
       "0                   False      3_Zone      2_Zone  NoOtherZone   \n",
       "1                   False      3_Zone      2_Zone  NoOtherZone   \n",
       "2                    True   miniZone3      4_Zone       2_Zone   \n",
       "\n",
       "  zone3_match_exist next2zone==Zone  previous2zone==Zone  is_dur_bigger_900  \\\n",
       "0                 1               1                    0              False   \n",
       "1                 1               1                    0              False   \n",
       "2                 1               1                    0              False   \n",
       "\n",
       "   is_dur_smaller_60sec  \n",
       "0                 False  \n",
       "1                 False  \n",
       "2                 False  \n",
       "\n",
       "[3 rows x 44 columns]"
      ]
     },
     "execution_count": 8,
     "metadata": {},
     "output_type": "execute_result"
    }
   ],
   "source": [
    "#use same step as in cleaning-validation-effect paper\n",
    "START_TIME = time.perf_counter()\n",
    "df = cleaning_processing(df=df, date_min=dt.datetime(2020, 9, 29), date_max=dt.datetime(2021, 7, 26), config=config)\n",
    "df['time'] = df['Timestamp'].map(lambda x: dt.datetime.time(x))\n",
    "df.rename(columns={'Zone':'Trackingsystem_Zone'}, inplace=True) #thats how it was named in the model \n",
    "#add other variables\n",
    "df['is_dur_bigger_'+str(nbr_maxdur2beremoved)] = df['duration'].map(lambda x: x>=nbr_maxdur2beremoved)\n",
    "display(df['is_dur_bigger_'+str(nbr_maxdur2beremoved)].value_counts(normalize=True))\n",
    "df['is_dur_smaller_60sec'] = df['duration'].map(lambda x: x<60)\n",
    "display(df['is_dur_smaller_60sec'].value_counts(normalize=True))\n",
    "print('saving...')\n",
    "df.to_csv(os.path.join(path_extracted_data,'df_recordsmodelpreprocessing.csv'), sep=';', index=False)\n",
    "END_TIME = time.perf_counter()\n",
    "print (\"Total running time: %.2f mn\" %((END_TIME-START_TIME)/60))\n",
    "print(df.shape)\n",
    "df.head(3)"
   ]
  },
  {
   "cell_type": "code",
   "execution_count": 9,
   "metadata": {},
   "outputs": [
    {
     "name": "stderr",
     "output_type": "stream",
     "text": [
      "C:\\Users\\camil\\anaconda3\\lib\\site-packages\\ipykernel\\ipkernel.py:283: DeprecationWarning: `should_run_async` will not call `transform_cell` automatically in the future. Please pass the result to `transformed_cell` argument and any exception that happen during thetransform in `preprocessing_exc_tuple` in IPython 7.17 and above.\n",
      "  and should_run_async(code)\n"
     ]
    }
   ],
   "source": [
    "#download model\n",
    "model = CatBoostClassifier()\n",
    "path_ = r'G:\\VPHI\\Welfare\\2- Research Projects\\OFHE2.OriginsE2\\DataOutput\\TrackingSystem\\CleaningAnalysis_\\Cleaning\\model'\n",
    "model.load_model(os.path.join(path_,'FINAL_Catboost'));"
   ]
  },
  {
   "cell_type": "code",
   "execution_count": 10,
   "metadata": {},
   "outputs": [
    {
     "name": "stderr",
     "output_type": "stream",
     "text": [
      "C:\\Users\\camil\\anaconda3\\lib\\site-packages\\ipykernel\\ipkernel.py:283: DeprecationWarning: `should_run_async` will not call `transform_cell` automatically in the future. Please pass the result to `transformed_cell` argument and any exception that happen during thetransform in `preprocessing_exc_tuple` in IPython 7.17 and above.\n",
      "  and should_run_async(code)\n"
     ]
    },
    {
     "data": {
      "text/plain": [
       "True     3630877\n",
       "False    3630686\n",
       "Name: is_dur_smaller_60sec, dtype: int64"
      ]
     },
     "metadata": {},
     "output_type": "display_data"
    },
    {
     "name": "stdout",
     "output_type": "stream",
     "text": [
      "(7261563, 48)\n"
     ]
    },
    {
     "data": {
      "text/html": [
       "<div>\n",
       "<style scoped>\n",
       "    .dataframe tbody tr th:only-of-type {\n",
       "        vertical-align: middle;\n",
       "    }\n",
       "\n",
       "    .dataframe tbody tr th {\n",
       "        vertical-align: top;\n",
       "    }\n",
       "\n",
       "    .dataframe thead th {\n",
       "        text-align: right;\n",
       "    }\n",
       "</style>\n",
       "<table border=\"1\" class=\"dataframe\">\n",
       "  <thead>\n",
       "    <tr style=\"text-align: right;\">\n",
       "      <th></th>\n",
       "      <th>Unnamed: 0</th>\n",
       "      <th>Timestamp</th>\n",
       "      <th>HenID</th>\n",
       "      <th>Trackingsystem_Zone</th>\n",
       "      <th>PenID</th>\n",
       "      <th>ts_order</th>\n",
       "      <th>TagID</th>\n",
       "      <th>signalstrength</th>\n",
       "      <th>system</th>\n",
       "      <th>time</th>\n",
       "      <th>...</th>\n",
       "      <th>zone4_match</th>\n",
       "      <th>zone3_match_exist</th>\n",
       "      <th>next2zone==Zone</th>\n",
       "      <th>previous2zone==Zone</th>\n",
       "      <th>is_dur_bigger_900</th>\n",
       "      <th>is_dur_smaller_60sec</th>\n",
       "      <th>is_day</th>\n",
       "      <th>duration_bounded_mn</th>\n",
       "      <th>next_duration_bounded_mn</th>\n",
       "      <th>previous_duration_bounded_mn</th>\n",
       "    </tr>\n",
       "  </thead>\n",
       "  <tbody>\n",
       "    <tr>\n",
       "      <th>0</th>\n",
       "      <td>0</td>\n",
       "      <td>2020-09-29 09:07:00</td>\n",
       "      <td>hen_71</td>\n",
       "      <td>3_Zone</td>\n",
       "      <td>pen12</td>\n",
       "      <td>0</td>\n",
       "      <td>tag_162</td>\n",
       "      <td>10</td>\n",
       "      <td>10 - 12</td>\n",
       "      <td>09:07:00</td>\n",
       "      <td>...</td>\n",
       "      <td>NoOtherZone</td>\n",
       "      <td>1</td>\n",
       "      <td>1</td>\n",
       "      <td>0</td>\n",
       "      <td>False</td>\n",
       "      <td>False</td>\n",
       "      <td>True</td>\n",
       "      <td>1.433333</td>\n",
       "      <td>1.183333</td>\n",
       "      <td>0.000000</td>\n",
       "    </tr>\n",
       "    <tr>\n",
       "      <th>1</th>\n",
       "      <td>1</td>\n",
       "      <td>2020-09-29 09:08:12</td>\n",
       "      <td>hen_7</td>\n",
       "      <td>3_Zone</td>\n",
       "      <td>pen11</td>\n",
       "      <td>1</td>\n",
       "      <td>tag_140</td>\n",
       "      <td>10</td>\n",
       "      <td>10 - 12</td>\n",
       "      <td>09:08:12</td>\n",
       "      <td>...</td>\n",
       "      <td>NoOtherZone</td>\n",
       "      <td>1</td>\n",
       "      <td>1</td>\n",
       "      <td>0</td>\n",
       "      <td>False</td>\n",
       "      <td>False</td>\n",
       "      <td>True</td>\n",
       "      <td>4.066667</td>\n",
       "      <td>4.866667</td>\n",
       "      <td>0.000000</td>\n",
       "    </tr>\n",
       "    <tr>\n",
       "      <th>2</th>\n",
       "      <td>2</td>\n",
       "      <td>2020-09-29 09:08:26</td>\n",
       "      <td>hen_71</td>\n",
       "      <td>3_Zone</td>\n",
       "      <td>pen12</td>\n",
       "      <td>2</td>\n",
       "      <td>tag_162</td>\n",
       "      <td>11</td>\n",
       "      <td>10 - 12</td>\n",
       "      <td>09:08:26</td>\n",
       "      <td>...</td>\n",
       "      <td>2_Zone</td>\n",
       "      <td>1</td>\n",
       "      <td>1</td>\n",
       "      <td>0</td>\n",
       "      <td>False</td>\n",
       "      <td>False</td>\n",
       "      <td>True</td>\n",
       "      <td>1.183333</td>\n",
       "      <td>0.716667</td>\n",
       "      <td>1.433333</td>\n",
       "    </tr>\n",
       "  </tbody>\n",
       "</table>\n",
       "<p>3 rows × 48 columns</p>\n",
       "</div>"
      ],
      "text/plain": [
       "   Unnamed: 0           Timestamp   HenID Trackingsystem_Zone  PenID  \\\n",
       "0           0 2020-09-29 09:07:00  hen_71              3_Zone  pen12   \n",
       "1           1 2020-09-29 09:08:12   hen_7              3_Zone  pen11   \n",
       "2           2 2020-09-29 09:08:26  hen_71              3_Zone  pen12   \n",
       "\n",
       "   ts_order    TagID  signalstrength   system      time  ...  zone4_match  \\\n",
       "0         0  tag_162              10  10 - 12  09:07:00  ...  NoOtherZone   \n",
       "1         1  tag_140              10  10 - 12  09:08:12  ...  NoOtherZone   \n",
       "2         2  tag_162              11  10 - 12  09:08:26  ...       2_Zone   \n",
       "\n",
       "   zone3_match_exist next2zone==Zone previous2zone==Zone is_dur_bigger_900  \\\n",
       "0                  1               1                   0             False   \n",
       "1                  1               1                   0             False   \n",
       "2                  1               1                   0             False   \n",
       "\n",
       "  is_dur_smaller_60sec is_day  duration_bounded_mn  next_duration_bounded_mn  \\\n",
       "0                False   True             1.433333                  1.183333   \n",
       "1                False   True             4.066667                  4.866667   \n",
       "2                False   True             1.183333                  0.716667   \n",
       "\n",
       "   previous_duration_bounded_mn  \n",
       "0                      0.000000  \n",
       "1                      0.000000  \n",
       "2                      1.433333  \n",
       "\n",
       "[3 rows x 48 columns]"
      ]
     },
     "execution_count": 10,
     "metadata": {},
     "output_type": "execute_result"
    }
   ],
   "source": [
    "#for more flexibility we open the file that was saved previously\n",
    "#df = pd.read_csv(os.path.join(path_extracted_data, 'df_recordsmodelpreprocessing.csv'), sep=';', \n",
    "#                 parse_dates=['Timestamp','date'], dayfirst=True) \n",
    "df['is_day'] = df['Timestamp'].map(lambda x: is_day(x, config.dico_night_hour))\n",
    "df['is_dur_smaller_60sec'] = df['duration'].map(lambda x: x<60)\n",
    "display(df['is_dur_smaller_60sec'].value_counts())\n",
    "df['duration_bounded_mn'] = df['duration'].map(lambda x: min(x,60*60)/60)\n",
    "df['next_duration_bounded_mn'] = df['next_duration'].map(lambda x: min(x,60*60)/60)\n",
    "df['previous_duration_bounded_mn'] = df['previous_duration'].map(lambda x: min(x,60*60)/60)\n",
    "print(df.shape)\n",
    "df.head(3)"
   ]
  },
  {
   "cell_type": "markdown",
   "metadata": {},
   "source": [
    "df_ = df[(df['Trackingsystem_Zone']!='1_Zone')&\\\n",
    "         (df['HenID']=='hen_143')&(df['date'].isin([dt.datetime(2020,10,3), \n",
    "                                                    dt.datetime(2020,10,4)]))].copy()\n",
    "print(df_.shape)\n",
    "df_.head(3)"
   ]
  },
  {
   "cell_type": "code",
   "execution_count": 11,
   "metadata": {},
   "outputs": [
    {
     "name": "stderr",
     "output_type": "stream",
     "text": [
      "C:\\Users\\camil\\anaconda3\\lib\\site-packages\\ipykernel\\ipkernel.py:283: DeprecationWarning: `should_run_async` will not call `transform_cell` automatically in the future. Please pass the result to `transformed_cell` argument and any exception that happen during thetransform in `preprocessing_exc_tuple` in IPython 7.17 and above.\n",
      "  and should_run_async(code)\n"
     ]
    },
    {
     "data": {
      "text/plain": [
       "0    7260590\n",
       "1        746\n",
       "2        227\n",
       "Name: nbr_nan, dtype: int64"
      ]
     },
     "metadata": {},
     "output_type": "display_data"
    },
    {
     "data": {
      "text/html": [
       "<div>\n",
       "<style scoped>\n",
       "    .dataframe tbody tr th:only-of-type {\n",
       "        vertical-align: middle;\n",
       "    }\n",
       "\n",
       "    .dataframe tbody tr th {\n",
       "        vertical-align: top;\n",
       "    }\n",
       "\n",
       "    .dataframe thead th {\n",
       "        text-align: right;\n",
       "    }\n",
       "</style>\n",
       "<table border=\"1\" class=\"dataframe\">\n",
       "  <thead>\n",
       "    <tr style=\"text-align: right;\">\n",
       "      <th></th>\n",
       "      <th>Trackingsystem_Zone</th>\n",
       "      <th>zone2_match</th>\n",
       "      <th>previous1_zone</th>\n",
       "      <th>next1_zone</th>\n",
       "      <th>system</th>\n",
       "    </tr>\n",
       "  </thead>\n",
       "  <tbody>\n",
       "    <tr>\n",
       "      <th>0</th>\n",
       "      <td>3_Zone</td>\n",
       "      <td>3_Zone</td>\n",
       "      <td>NaN</td>\n",
       "      <td>3_Zone</td>\n",
       "      <td>10 - 12</td>\n",
       "    </tr>\n",
       "    <tr>\n",
       "      <th>1</th>\n",
       "      <td>3_Zone</td>\n",
       "      <td>3_Zone</td>\n",
       "      <td>NaN</td>\n",
       "      <td>3_Zone</td>\n",
       "      <td>10 - 12</td>\n",
       "    </tr>\n",
       "    <tr>\n",
       "      <th>2</th>\n",
       "      <td>3_Zone</td>\n",
       "      <td>miniZone3</td>\n",
       "      <td>3_Zone</td>\n",
       "      <td>3_Zone</td>\n",
       "      <td>10 - 12</td>\n",
       "    </tr>\n",
       "  </tbody>\n",
       "</table>\n",
       "</div>"
      ],
      "text/plain": [
       "  Trackingsystem_Zone zone2_match previous1_zone next1_zone   system\n",
       "0              3_Zone      3_Zone            NaN     3_Zone  10 - 12\n",
       "1              3_Zone      3_Zone            NaN     3_Zone  10 - 12\n",
       "2              3_Zone   miniZone3         3_Zone     3_Zone  10 - 12"
      ]
     },
     "metadata": {},
     "output_type": "display_data"
    },
    {
     "data": {
      "text/html": [
       "<div>\n",
       "<style scoped>\n",
       "    .dataframe tbody tr th:only-of-type {\n",
       "        vertical-align: middle;\n",
       "    }\n",
       "\n",
       "    .dataframe tbody tr th {\n",
       "        vertical-align: top;\n",
       "    }\n",
       "\n",
       "    .dataframe thead th {\n",
       "        text-align: right;\n",
       "    }\n",
       "</style>\n",
       "<table border=\"1\" class=\"dataframe\">\n",
       "  <thead>\n",
       "    <tr style=\"text-align: right;\">\n",
       "      <th></th>\n",
       "      <th>signalstrength</th>\n",
       "      <th>signalstzone2</th>\n",
       "      <th>duration_bounded_mn</th>\n",
       "      <th>next_duration_bounded_mn</th>\n",
       "      <th>previous_duration_bounded_mn</th>\n",
       "      <th>next2zone==Zone</th>\n",
       "      <th>previous2zone==Zone</th>\n",
       "      <th>zone3_match_exist</th>\n",
       "    </tr>\n",
       "  </thead>\n",
       "  <tbody>\n",
       "    <tr>\n",
       "      <th>0</th>\n",
       "      <td>10</td>\n",
       "      <td>8</td>\n",
       "      <td>1.433333</td>\n",
       "      <td>1.183333</td>\n",
       "      <td>0.000000</td>\n",
       "      <td>1</td>\n",
       "      <td>0</td>\n",
       "      <td>1</td>\n",
       "    </tr>\n",
       "    <tr>\n",
       "      <th>1</th>\n",
       "      <td>10</td>\n",
       "      <td>8</td>\n",
       "      <td>4.066667</td>\n",
       "      <td>4.866667</td>\n",
       "      <td>0.000000</td>\n",
       "      <td>1</td>\n",
       "      <td>0</td>\n",
       "      <td>1</td>\n",
       "    </tr>\n",
       "    <tr>\n",
       "      <th>2</th>\n",
       "      <td>11</td>\n",
       "      <td>10</td>\n",
       "      <td>1.183333</td>\n",
       "      <td>0.716667</td>\n",
       "      <td>1.433333</td>\n",
       "      <td>1</td>\n",
       "      <td>0</td>\n",
       "      <td>1</td>\n",
       "    </tr>\n",
       "  </tbody>\n",
       "</table>\n",
       "</div>"
      ],
      "text/plain": [
       "   signalstrength  signalstzone2  duration_bounded_mn  \\\n",
       "0              10              8             1.433333   \n",
       "1              10              8             4.066667   \n",
       "2              11             10             1.183333   \n",
       "\n",
       "   next_duration_bounded_mn  previous_duration_bounded_mn  next2zone==Zone  \\\n",
       "0                  1.183333                      0.000000                1   \n",
       "1                  4.866667                      0.000000                1   \n",
       "2                  0.716667                      1.433333                1   \n",
       "\n",
       "   previous2zone==Zone  zone3_match_exist  \n",
       "0                    0                  1  \n",
       "1                    0                  1  \n",
       "2                    0                  1  "
      ]
     },
     "metadata": {},
     "output_type": "display_data"
    },
    {
     "data": {
      "text/html": [
       "<div>\n",
       "<style scoped>\n",
       "    .dataframe tbody tr th:only-of-type {\n",
       "        vertical-align: middle;\n",
       "    }\n",
       "\n",
       "    .dataframe tbody tr th {\n",
       "        vertical-align: top;\n",
       "    }\n",
       "\n",
       "    .dataframe thead th {\n",
       "        text-align: right;\n",
       "    }\n",
       "</style>\n",
       "<table border=\"1\" class=\"dataframe\">\n",
       "  <thead>\n",
       "    <tr style=\"text-align: right;\">\n",
       "      <th></th>\n",
       "      <th>Trackingsystem_Zone</th>\n",
       "      <th>zone2_match</th>\n",
       "      <th>previous1_zone</th>\n",
       "      <th>next1_zone</th>\n",
       "      <th>system</th>\n",
       "    </tr>\n",
       "  </thead>\n",
       "  <tbody>\n",
       "    <tr>\n",
       "      <th>0</th>\n",
       "      <td>3_Zone</td>\n",
       "      <td>3_Zone</td>\n",
       "      <td>3_Zone</td>\n",
       "      <td>3_Zone</td>\n",
       "      <td>10 - 12</td>\n",
       "    </tr>\n",
       "    <tr>\n",
       "      <th>1</th>\n",
       "      <td>3_Zone</td>\n",
       "      <td>3_Zone</td>\n",
       "      <td>3_Zone</td>\n",
       "      <td>3_Zone</td>\n",
       "      <td>10 - 12</td>\n",
       "    </tr>\n",
       "    <tr>\n",
       "      <th>2</th>\n",
       "      <td>3_Zone</td>\n",
       "      <td>miniZone3</td>\n",
       "      <td>3_Zone</td>\n",
       "      <td>3_Zone</td>\n",
       "      <td>10 - 12</td>\n",
       "    </tr>\n",
       "  </tbody>\n",
       "</table>\n",
       "</div>"
      ],
      "text/plain": [
       "  Trackingsystem_Zone zone2_match previous1_zone next1_zone   system\n",
       "0              3_Zone      3_Zone         3_Zone     3_Zone  10 - 12\n",
       "1              3_Zone      3_Zone         3_Zone     3_Zone  10 - 12\n",
       "2              3_Zone   miniZone3         3_Zone     3_Zone  10 - 12"
      ]
     },
     "metadata": {},
     "output_type": "display_data"
    }
   ],
   "source": [
    "########### handle nan\n",
    "#add info on nan values in the initial df, in order to replace at the end all prediction based on features involvig at least \n",
    "#one nan, by 1\n",
    "#Indeed, for records with some nan features, we will predict them a 1 all the time its only 0,05% of the time , i.e. when its \n",
    "#first or last transition. Indeed, we dont want to loose any records!\n",
    "df['nbr_nan'] = df.filter(li_cont_select+li_cat_select, axis=1).isnull().sum(axis=1).tolist()\n",
    "display(df['nbr_nan'].value_counts())\n",
    "#fillnan for simplicity, but we will remove those rows predictions anyway\n",
    "#display BEFORE categoricalfeatures\n",
    "display(df[li_cat_select].head(3))\n",
    "df[li_cont_select] = df[li_cont_select].fillna(df[li_cont_select].mean().iloc[0])\n",
    "#display AFTER categoricalfeatures\n",
    "df[li_cat_select] = df[li_cat_select].fillna(df[li_cat_select].mode().iloc[0])\n",
    "#show data\n",
    "display(df[config.li_cont_select].head(3))\n",
    "display(df[config.li_cat_select].head(3))"
   ]
  },
  {
   "cell_type": "code",
   "execution_count": 12,
   "metadata": {},
   "outputs": [
    {
     "name": "stderr",
     "output_type": "stream",
     "text": [
      "C:\\Users\\camil\\anaconda3\\lib\\site-packages\\ipykernel\\ipkernel.py:283: DeprecationWarning: `should_run_async` will not call `transform_cell` automatically in the future. Please pass the result to `transformed_cell` argument and any exception that happen during thetransform in `preprocessing_exc_tuple` in IPython 7.17 and above.\n",
      "  and should_run_async(code)\n"
     ]
    },
    {
     "name": "stdout",
     "output_type": "stream",
     "text": [
      "(180037, 50)\n"
     ]
    },
    {
     "data": {
      "text/plain": [
       "1.0    0.952246\n",
       "0.0    0.047754\n",
       "Name: model_prediction, dtype: float64"
      ]
     },
     "metadata": {},
     "output_type": "display_data"
    },
    {
     "data": {
      "text/plain": [
       "1.0    0.936247\n",
       "0.0    0.063753\n",
       "Name: model_prediction, dtype: float64"
      ]
     },
     "metadata": {},
     "output_type": "display_data"
    },
    {
     "data": {
      "text/plain": [
       "1.0    0.936821\n",
       "0.0    0.063179\n",
       "Name: model_prediction, dtype: float64"
      ]
     },
     "metadata": {},
     "output_type": "display_data"
    },
    {
     "data": {
      "text/plain": [
       "1.0    0.936821\n",
       "0.0    0.063179\n",
       "Name: model_prediction, dtype: float64"
      ]
     },
     "metadata": {},
     "output_type": "display_data"
    },
    {
     "name": "stdout",
     "output_type": "stream",
     "text": [
      "Total running time for prediction: 0.50 mn\n"
     ]
    },
    {
     "data": {
      "text/html": [
       "<div>\n",
       "<style scoped>\n",
       "    .dataframe tbody tr th:only-of-type {\n",
       "        vertical-align: middle;\n",
       "    }\n",
       "\n",
       "    .dataframe tbody tr th {\n",
       "        vertical-align: top;\n",
       "    }\n",
       "\n",
       "    .dataframe thead th {\n",
       "        text-align: right;\n",
       "    }\n",
       "</style>\n",
       "<table border=\"1\" class=\"dataframe\">\n",
       "  <thead>\n",
       "    <tr style=\"text-align: right;\">\n",
       "      <th></th>\n",
       "      <th>Unnamed: 0</th>\n",
       "      <th>Timestamp</th>\n",
       "      <th>HenID</th>\n",
       "      <th>Trackingsystem_Zone</th>\n",
       "      <th>PenID</th>\n",
       "      <th>ts_order</th>\n",
       "      <th>TagID</th>\n",
       "      <th>signalstrength</th>\n",
       "      <th>system</th>\n",
       "      <th>time</th>\n",
       "      <th>...</th>\n",
       "      <th>next2zone==Zone</th>\n",
       "      <th>previous2zone==Zone</th>\n",
       "      <th>is_dur_bigger_900</th>\n",
       "      <th>is_dur_smaller_60sec</th>\n",
       "      <th>is_day</th>\n",
       "      <th>duration_bounded_mn</th>\n",
       "      <th>next_duration_bounded_mn</th>\n",
       "      <th>previous_duration_bounded_mn</th>\n",
       "      <th>nbr_nan</th>\n",
       "      <th>model_prediction</th>\n",
       "    </tr>\n",
       "  </thead>\n",
       "  <tbody>\n",
       "    <tr>\n",
       "      <th>0</th>\n",
       "      <td>0</td>\n",
       "      <td>2020-09-29 09:07:00</td>\n",
       "      <td>hen_71</td>\n",
       "      <td>3_Zone</td>\n",
       "      <td>pen12</td>\n",
       "      <td>0</td>\n",
       "      <td>tag_162</td>\n",
       "      <td>10</td>\n",
       "      <td>10 - 12</td>\n",
       "      <td>09:07:00</td>\n",
       "      <td>...</td>\n",
       "      <td>1</td>\n",
       "      <td>0</td>\n",
       "      <td>False</td>\n",
       "      <td>False</td>\n",
       "      <td>True</td>\n",
       "      <td>1.433333</td>\n",
       "      <td>1.183333</td>\n",
       "      <td>0.000000</td>\n",
       "      <td>1</td>\n",
       "      <td>1.0</td>\n",
       "    </tr>\n",
       "    <tr>\n",
       "      <th>1</th>\n",
       "      <td>1</td>\n",
       "      <td>2020-09-29 09:08:12</td>\n",
       "      <td>hen_7</td>\n",
       "      <td>3_Zone</td>\n",
       "      <td>pen11</td>\n",
       "      <td>1</td>\n",
       "      <td>tag_140</td>\n",
       "      <td>10</td>\n",
       "      <td>10 - 12</td>\n",
       "      <td>09:08:12</td>\n",
       "      <td>...</td>\n",
       "      <td>1</td>\n",
       "      <td>0</td>\n",
       "      <td>False</td>\n",
       "      <td>False</td>\n",
       "      <td>True</td>\n",
       "      <td>4.066667</td>\n",
       "      <td>4.866667</td>\n",
       "      <td>0.000000</td>\n",
       "      <td>1</td>\n",
       "      <td>1.0</td>\n",
       "    </tr>\n",
       "    <tr>\n",
       "      <th>2</th>\n",
       "      <td>2</td>\n",
       "      <td>2020-09-29 09:08:26</td>\n",
       "      <td>hen_71</td>\n",
       "      <td>3_Zone</td>\n",
       "      <td>pen12</td>\n",
       "      <td>2</td>\n",
       "      <td>tag_162</td>\n",
       "      <td>11</td>\n",
       "      <td>10 - 12</td>\n",
       "      <td>09:08:26</td>\n",
       "      <td>...</td>\n",
       "      <td>1</td>\n",
       "      <td>0</td>\n",
       "      <td>False</td>\n",
       "      <td>False</td>\n",
       "      <td>True</td>\n",
       "      <td>1.183333</td>\n",
       "      <td>0.716667</td>\n",
       "      <td>1.433333</td>\n",
       "      <td>0</td>\n",
       "      <td>1.0</td>\n",
       "    </tr>\n",
       "  </tbody>\n",
       "</table>\n",
       "<p>3 rows × 50 columns</p>\n",
       "</div>"
      ],
      "text/plain": [
       "   Unnamed: 0           Timestamp   HenID Trackingsystem_Zone  PenID  \\\n",
       "0           0 2020-09-29 09:07:00  hen_71              3_Zone  pen12   \n",
       "1           1 2020-09-29 09:08:12   hen_7              3_Zone  pen11   \n",
       "2           2 2020-09-29 09:08:26  hen_71              3_Zone  pen12   \n",
       "\n",
       "   ts_order    TagID  signalstrength   system      time  ... next2zone==Zone  \\\n",
       "0         0  tag_162              10  10 - 12  09:07:00  ...               1   \n",
       "1         1  tag_140              10  10 - 12  09:08:12  ...               1   \n",
       "2         2  tag_162              11  10 - 12  09:08:26  ...               1   \n",
       "\n",
       "   previous2zone==Zone is_dur_bigger_900 is_dur_smaller_60sec is_day  \\\n",
       "0                    0             False                False   True   \n",
       "1                    0             False                False   True   \n",
       "2                    0             False                False   True   \n",
       "\n",
       "  duration_bounded_mn next_duration_bounded_mn  previous_duration_bounded_mn  \\\n",
       "0            1.433333                 1.183333                      0.000000   \n",
       "1            4.066667                 4.866667                      0.000000   \n",
       "2            1.183333                 0.716667                      1.433333   \n",
       "\n",
       "   nbr_nan  model_prediction  \n",
       "0        1               1.0  \n",
       "1        1               1.0  \n",
       "2        0               1.0  \n",
       "\n",
       "[3 rows x 50 columns]"
      ]
     },
     "metadata": {},
     "output_type": "display_data"
    },
    {
     "data": {
      "text/plain": [
       "None"
      ]
     },
     "metadata": {},
     "output_type": "display_data"
    }
   ],
   "source": [
    "#Too slow with large dataset\n",
    "START_TIME = time.perf_counter()\n",
    "#predict, and if its wintergarten (i.e. 1_Zone) put =1\n",
    "#to slow for large dataset, but more readable:\n",
    "#df['model_prediction'] = df.apply(lambda x: model.predict(pd.DataFrame(x[li_cont_select+\\\n",
    "#                                                                         li_cat_select]).transpose())[0] if\\\n",
    "#                                  x['Trackingsystem_Zone']!='1_Zone' else 1, axis=1)\n",
    "#predict, and if its wintergarten (i.e. 1_Zone) put =1\n",
    "df_ = df[df['Trackingsystem_Zone']!='1_Zone'].copy()\n",
    "predictions = model.predict(df_.filter(li_cont_select+li_cat_select, axis=1))\n",
    "x0 = df[df['Trackingsystem_Zone']=='1_Zone'].shape[0]\n",
    "df_['model_prediction'] = predictions\n",
    "if df_[df_['model_prediction'].isnull()].shape[0]!=0:\n",
    "    print('ERROR')\n",
    "    sys.exit()\n",
    "df = pd.merge(df, df_.filter(['model_prediction','HenID','Timestamp'], axis=1), on=['HenID','Timestamp'], how='left')\n",
    "print(df[df['model_prediction'].isnull()].shape)\n",
    "if df[df['model_prediction'].isnull()].shape[0]!=x0:\n",
    "    print('ERROR: you have some nan in your predictions')\n",
    "    sys.exit()\n",
    "display(df['model_prediction'].value_counts(normalize=True))\n",
    "\n",
    "#a bit more conservative than in the cleaning, as we have now longer durations, and we dont want to be able to add big errors\n",
    "\n",
    "#predict false if <60seconds in WG or at night, else true\n",
    "df.loc[(df['is_dur_smaller_60sec'])&((df['Trackingsystem_Zone']=='1_Zone')|(~df['is_day'])), 'model_prediction'] = 0\n",
    "#always =1 if there was some nan values\n",
    "display(df['model_prediction'].value_counts(normalize=True)) #in testing it was 4,9% of wrong records: 42/(42+821)*100)\n",
    "\n",
    "#always =1 if >15mn or if there was some NAN values: correct if >15 as we saw its ~always the case, when not its because the  \n",
    "#hen went in the zone that was wrongly registered and which was the latest registrations of that hen\n",
    "df.loc[(df['is_dur_bigger_'+str(nbr_maxdur2beremoved)])|(df['nbr_nan']!=0), 'model_prediction'] = 1\n",
    "display(df['model_prediction'].value_counts(normalize=True)) #in testing it was 4,9% of wrong records: 42/(42+821)*100)\n",
    "\n",
    "#predict=1 if nan\n",
    "df.loc[df['nbr_nan']!=0, 'model_prediction'] = 1\n",
    "display(df['model_prediction'].value_counts(normalize=True)) #in testing it was 4,9% of wrong records: 42/(42+821)*100)\n",
    "\n",
    "END_TIME = time.perf_counter()\n",
    "print (\"Total running time for prediction: %.2f mn\" %((END_TIME-START_TIME)/60))\n",
    "display(display(df.head(3)))\n",
    "#prediction_proba = model.predict_proba(df[df['Trackingsystem_Zone']!='1_Zone'])\n",
    "#df['model_prediction_proba0'] = [round(x[0],2) for x in prediction_proba]\n",
    "#df['model_prediction_proba1'] = [round(x[1],2) for x in prediction_proba]"
   ]
  },
  {
   "cell_type": "code",
   "execution_count": 13,
   "metadata": {},
   "outputs": [
    {
     "name": "stderr",
     "output_type": "stream",
     "text": [
      "C:\\Users\\camil\\anaconda3\\lib\\site-packages\\ipykernel\\ipkernel.py:283: DeprecationWarning: `should_run_async` will not call `transform_cell` automatically in the future. Please pass the result to `transformed_cell` argument and any exception that happen during thetransform in `preprocessing_exc_tuple` in IPython 7.17 and above.\n",
      "  and should_run_async(code)\n"
     ]
    }
   ],
   "source": [
    "#will take TIME to save\n",
    "#Note that we cant use the duration info anymore so we are filtering it\n",
    "df.filter(['HenID','PenID','system','Trackingsystem_Zone','model_prediction','Timestamp','date'],\n",
    "          axis=1).to_csv(os.path.join(path_extracted_data, id_run+'_Rawdata&Model.csv'), index=False, sep=';')"
   ]
  },
  {
   "cell_type": "markdown",
   "metadata": {},
   "source": [
    "## Remove filtered records & consecutives equal zones"
   ]
  },
  {
   "cell_type": "code",
   "execution_count": 14,
   "metadata": {},
   "outputs": [
    {
     "name": "stderr",
     "output_type": "stream",
     "text": [
      "C:\\Users\\camil\\anaconda3\\lib\\site-packages\\ipykernel\\ipkernel.py:283: DeprecationWarning: `should_run_async` will not call `transform_cell` automatically in the future. Please pass the result to `transformed_cell` argument and any exception that happen during thetransform in `preprocessing_exc_tuple` in IPython 7.17 and above.\n",
      "  and should_run_async(code)\n"
     ]
    },
    {
     "name": "stdout",
     "output_type": "stream",
     "text": [
      "(7261563, 7)\n",
      "(108959, 7)\n",
      "(6809667, 7)\n",
      "(6809667, 7)\n"
     ]
    },
    {
     "data": {
      "text/html": [
       "<div>\n",
       "<style scoped>\n",
       "    .dataframe tbody tr th:only-of-type {\n",
       "        vertical-align: middle;\n",
       "    }\n",
       "\n",
       "    .dataframe tbody tr th {\n",
       "        vertical-align: top;\n",
       "    }\n",
       "\n",
       "    .dataframe thead th {\n",
       "        text-align: right;\n",
       "    }\n",
       "</style>\n",
       "<table border=\"1\" class=\"dataframe\">\n",
       "  <thead>\n",
       "    <tr style=\"text-align: right;\">\n",
       "      <th></th>\n",
       "      <th>HenID</th>\n",
       "      <th>PenID</th>\n",
       "      <th>system</th>\n",
       "      <th>Zone</th>\n",
       "      <th>model_prediction</th>\n",
       "      <th>Timestamp</th>\n",
       "      <th>date</th>\n",
       "    </tr>\n",
       "  </thead>\n",
       "  <tbody>\n",
       "    <tr>\n",
       "      <th>0</th>\n",
       "      <td>hen_71</td>\n",
       "      <td>pen12</td>\n",
       "      <td>10 - 12</td>\n",
       "      <td>3_Zone</td>\n",
       "      <td>1.0</td>\n",
       "      <td>2020-09-29 09:07:00</td>\n",
       "      <td>2020-09-29</td>\n",
       "    </tr>\n",
       "    <tr>\n",
       "      <th>1</th>\n",
       "      <td>hen_7</td>\n",
       "      <td>pen11</td>\n",
       "      <td>10 - 12</td>\n",
       "      <td>3_Zone</td>\n",
       "      <td>1.0</td>\n",
       "      <td>2020-09-29 09:08:12</td>\n",
       "      <td>2020-09-29</td>\n",
       "    </tr>\n",
       "    <tr>\n",
       "      <th>2</th>\n",
       "      <td>hen_71</td>\n",
       "      <td>pen12</td>\n",
       "      <td>10 - 12</td>\n",
       "      <td>3_Zone</td>\n",
       "      <td>1.0</td>\n",
       "      <td>2020-09-29 09:08:26</td>\n",
       "      <td>2020-09-29</td>\n",
       "    </tr>\n",
       "  </tbody>\n",
       "</table>\n",
       "</div>"
      ],
      "text/plain": [
       "    HenID  PenID   system    Zone  model_prediction           Timestamp  \\\n",
       "0  hen_71  pen12  10 - 12  3_Zone               1.0 2020-09-29 09:07:00   \n",
       "1   hen_7  pen11  10 - 12  3_Zone               1.0 2020-09-29 09:08:12   \n",
       "2  hen_71  pen12  10 - 12  3_Zone               1.0 2020-09-29 09:08:26   \n",
       "\n",
       "        date  \n",
       "0 2020-09-29  \n",
       "1 2020-09-29  \n",
       "2 2020-09-29  "
      ]
     },
     "execution_count": 14,
     "metadata": {},
     "output_type": "execute_result"
    }
   ],
   "source": [
    "#for being more reproductible, we open the file that was saved from cleaning\n",
    "df = pd.read_csv(os.path.join(path_extracted_data, id_run+'_Rawdata&Model.csv'), sep=';', parse_dates=['Timestamp','date'],\n",
    "                 dayfirst=True) \n",
    "#remove predicted-wrong-records\n",
    "print(df.shape)\n",
    "print(df[df['model_prediction'].isnull()].shape)\n",
    "df = df[df['model_prediction']!=0].copy()\n",
    "print(df.shape)\n",
    "#simply rename the tracking system zone into the model zone :) \n",
    "df.rename(columns={'Trackingsystem_Zone':'Zone'}, inplace=True)\n",
    "print(df.shape)\n",
    "df.head(3)"
   ]
  },
  {
   "cell_type": "code",
   "execution_count": 15,
   "metadata": {},
   "outputs": [
    {
     "name": "stdout",
     "output_type": "stream",
     "text": [
      "-----------------------------------------------------------------------------------------------\n",
      "remove consecutives equal zone for the same hen.........\n",
      "-----------------------------------------------------------------------------------------------\n"
     ]
    },
    {
     "name": "stderr",
     "output_type": "stream",
     "text": [
      "C:\\Users\\camil\\anaconda3\\lib\\site-packages\\ipykernel\\ipkernel.py:283: DeprecationWarning: `should_run_async` will not call `transform_cell` automatically in the future. Please pass the result to `transformed_cell` argument and any exception that happen during thetransform in `preprocessing_exc_tuple` in IPython 7.17 and above.\n",
      "  and should_run_async(code)\n",
      "100%|████████████████████████████████████████████████████████████████████████████████| 227/227 [04:18<00:00,  1.14s/it]\n"
     ]
    }
   ],
   "source": [
    "#######################################################################################################################\n",
    "#ceiz = consecutives equal initial zone\n",
    "print('-----------------------------------------------------------------------------------------------')\n",
    "print('remove consecutives equal zone for the same hen.........')\n",
    "print('-----------------------------------------------------------------------------------------------')\n",
    "\n",
    "li_df = []\n",
    "#more efficient to do it per hen, as it wont need to search in the whole dataframe, and we can simply shift the timestamp column\n",
    "for i, df_hen in tqdm.tqdm(df.groupby(['HenID'])):\n",
    "    #as the next record date (sort by date, then simply shift by one row and add nan at then end)\n",
    "    df_hen = df_hen.sort_values(['Timestamp'], ascending=True)\n",
    "    #same date, one must take the last recorded one & sorting by date might change it. Also it already should be sorted by date\n",
    "    df_hen['next_record_date'] = df_hen['Timestamp'].tolist()[1:]+[np.nan]\n",
    "    #compute duration\n",
    "    df_hen['duration'] = df_hen.apply(lambda x: x['next_record_date']-x['Timestamp'], axis=1)\n",
    "    #compute the last record date in order to put interzone also when the duration is >=nbr_sec_flickering1\n",
    "    df_hen['previous_record_date'] = [np.nan]+df_hen['Timestamp'].tolist()[0:-1]\n",
    "    #compute previous duration in order to put interzone also when the duration is >=nbr_sec_flickering1\n",
    "    df_hen['previous_duration'] = [np.nan]+df_hen['duration'].tolist()[0:-1]\n",
    "    #add next record for the impossible movement\n",
    "    df_hen['next_zone'] = df_hen['Zone'].tolist()[1:]+[np.nan]\n",
    "    #add previous record for the consecutives equal initial zones\n",
    "    df_hen['previous_zone'] = [np.nan]+df_hen['Zone'].tolist()[0:-1]\n",
    "    df_hen['previous_previous_zone'] = [np.nan]+df_hen['previous_zone'].tolist()[0:-1]\n",
    "    li_df.append(df_hen)\n",
    "#put again in one dataframe\n",
    "df = pd.concat(li_df)\n",
    "#dont care about the false positive warning   \n",
    "\n",
    "#True if next zone is equal to the actual zone\n",
    "df['correction_is_consecutive_equal_initial_zone'] = False\n",
    "#if the previous zone is the same, then its cez that should be removed\n",
    "df.loc[df['previous_zone']==df['Zone'], 'correction_is_consecutive_equal_initial_zone'] = True\n",
    "\n",
    "\n",
    "################# save\n",
    "df = df.sort_values(['Timestamp'], ascending=True)\n",
    "#save to verify CEIZ\n",
    "df.to_csv(os.path.join(path_extracted_data, id_run+'_records_GeneralCleaning_VERIFICATION_CEIZ.csv'), sep=';', index=False) \n",
    "df = df[~(df['correction_is_consecutive_equal_initial_zone'])]"
   ]
  },
  {
   "cell_type": "code",
   "execution_count": 16,
   "metadata": {},
   "outputs": [
    {
     "name": "stderr",
     "output_type": "stream",
     "text": [
      "C:\\Users\\camil\\anaconda3\\lib\\site-packages\\ipykernel\\ipkernel.py:283: DeprecationWarning: `should_run_async` will not call `transform_cell` automatically in the future. Please pass the result to `transformed_cell` argument and any exception that happen during thetransform in `preprocessing_exc_tuple` in IPython 7.17 and above.\n",
      "  and should_run_async(code)\n"
     ]
    },
    {
     "data": {
      "text/html": [
       "<div>\n",
       "<style scoped>\n",
       "    .dataframe tbody tr th:only-of-type {\n",
       "        vertical-align: middle;\n",
       "    }\n",
       "\n",
       "    .dataframe tbody tr th {\n",
       "        vertical-align: top;\n",
       "    }\n",
       "\n",
       "    .dataframe thead th {\n",
       "        text-align: right;\n",
       "    }\n",
       "</style>\n",
       "<table border=\"1\" class=\"dataframe\">\n",
       "  <thead>\n",
       "    <tr style=\"text-align: right;\">\n",
       "      <th></th>\n",
       "      <th>Timestamp</th>\n",
       "      <th>HenID</th>\n",
       "      <th>previous_zone</th>\n",
       "      <th>Zone</th>\n",
       "    </tr>\n",
       "  </thead>\n",
       "  <tbody>\n",
       "    <tr>\n",
       "      <th>1942</th>\n",
       "      <td>2020-09-29 14:33:02</td>\n",
       "      <td>hen_99</td>\n",
       "      <td>NaN</td>\n",
       "      <td>3_Zone</td>\n",
       "    </tr>\n",
       "    <tr>\n",
       "      <th>1982</th>\n",
       "      <td>2020-09-29 14:38:10</td>\n",
       "      <td>hen_99</td>\n",
       "      <td>3_Zone</td>\n",
       "      <td>2_Zone</td>\n",
       "    </tr>\n",
       "    <tr>\n",
       "      <th>2147</th>\n",
       "      <td>2020-09-29 14:58:57</td>\n",
       "      <td>hen_99</td>\n",
       "      <td>2_Zone</td>\n",
       "      <td>3_Zone</td>\n",
       "    </tr>\n",
       "    <tr>\n",
       "      <th>2189</th>\n",
       "      <td>2020-09-29 15:03:42</td>\n",
       "      <td>hen_99</td>\n",
       "      <td>3_Zone</td>\n",
       "      <td>3_Zone</td>\n",
       "    </tr>\n",
       "    <tr>\n",
       "      <th>2192</th>\n",
       "      <td>2020-09-29 15:03:58</td>\n",
       "      <td>hen_99</td>\n",
       "      <td>3_Zone</td>\n",
       "      <td>3_Zone</td>\n",
       "    </tr>\n",
       "    <tr>\n",
       "      <th>2201</th>\n",
       "      <td>2020-09-29 15:04:31</td>\n",
       "      <td>hen_99</td>\n",
       "      <td>3_Zone</td>\n",
       "      <td>3_Zone</td>\n",
       "    </tr>\n",
       "    <tr>\n",
       "      <th>2288</th>\n",
       "      <td>2020-09-29 15:15:46</td>\n",
       "      <td>hen_99</td>\n",
       "      <td>3_Zone</td>\n",
       "      <td>2_Zone</td>\n",
       "    </tr>\n",
       "    <tr>\n",
       "      <th>3407</th>\n",
       "      <td>2020-09-29 16:54:27</td>\n",
       "      <td>hen_99</td>\n",
       "      <td>2_Zone</td>\n",
       "      <td>3_Zone</td>\n",
       "    </tr>\n",
       "    <tr>\n",
       "      <th>3417</th>\n",
       "      <td>2020-09-29 16:55:54</td>\n",
       "      <td>hen_99</td>\n",
       "      <td>3_Zone</td>\n",
       "      <td>3_Zone</td>\n",
       "    </tr>\n",
       "    <tr>\n",
       "      <th>3421</th>\n",
       "      <td>2020-09-29 16:56:36</td>\n",
       "      <td>hen_99</td>\n",
       "      <td>3_Zone</td>\n",
       "      <td>3_Zone</td>\n",
       "    </tr>\n",
       "  </tbody>\n",
       "</table>\n",
       "</div>"
      ],
      "text/plain": [
       "               Timestamp   HenID previous_zone    Zone\n",
       "1942 2020-09-29 14:33:02  hen_99           NaN  3_Zone\n",
       "1982 2020-09-29 14:38:10  hen_99        3_Zone  2_Zone\n",
       "2147 2020-09-29 14:58:57  hen_99        2_Zone  3_Zone\n",
       "2189 2020-09-29 15:03:42  hen_99        3_Zone  3_Zone\n",
       "2192 2020-09-29 15:03:58  hen_99        3_Zone  3_Zone\n",
       "2201 2020-09-29 15:04:31  hen_99        3_Zone  3_Zone\n",
       "2288 2020-09-29 15:15:46  hen_99        3_Zone  2_Zone\n",
       "3407 2020-09-29 16:54:27  hen_99        2_Zone  3_Zone\n",
       "3417 2020-09-29 16:55:54  hen_99        3_Zone  3_Zone\n",
       "3421 2020-09-29 16:56:36  hen_99        3_Zone  3_Zone"
      ]
     },
     "execution_count": 16,
     "metadata": {},
     "output_type": "execute_result"
    }
   ],
   "source": [
    "#small verification\n",
    "df_hen[['Timestamp','HenID','previous_zone','Zone']].head(10)"
   ]
  },
  {
   "cell_type": "markdown",
   "metadata": {},
   "source": [
    "## Remove records in WG when WG was close"
   ]
  },
  {
   "cell_type": "code",
   "execution_count": 17,
   "metadata": {},
   "outputs": [
    {
     "name": "stderr",
     "output_type": "stream",
     "text": [
      "C:\\Users\\camil\\anaconda3\\lib\\site-packages\\ipykernel\\ipkernel.py:283: DeprecationWarning: `should_run_async` will not call `transform_cell` automatically in the future. Please pass the result to `transformed_cell` argument and any exception that happen during thetransform in `preprocessing_exc_tuple` in IPython 7.17 and above.\n",
      "  and should_run_async(code)\n"
     ]
    },
    {
     "name": "stdout",
     "output_type": "stream",
     "text": [
      "True     0.550862\n",
      "False    0.449138\n",
      "Name: is_WG_open, dtype: float64\n"
     ]
    },
    {
     "data": {
      "text/html": [
       "<div>\n",
       "<style scoped>\n",
       "    .dataframe tbody tr th:only-of-type {\n",
       "        vertical-align: middle;\n",
       "    }\n",
       "\n",
       "    .dataframe tbody tr th {\n",
       "        vertical-align: top;\n",
       "    }\n",
       "\n",
       "    .dataframe thead th {\n",
       "        text-align: right;\n",
       "    }\n",
       "</style>\n",
       "<table border=\"1\" class=\"dataframe\">\n",
       "  <thead>\n",
       "    <tr style=\"text-align: right;\">\n",
       "      <th></th>\n",
       "      <th>Timestamp</th>\n",
       "      <th>is_WG_open</th>\n",
       "    </tr>\n",
       "  </thead>\n",
       "  <tbody>\n",
       "    <tr>\n",
       "      <th>48777</th>\n",
       "      <td>2020-10-08 11:01:14</td>\n",
       "      <td>True</td>\n",
       "    </tr>\n",
       "    <tr>\n",
       "      <th>48805</th>\n",
       "      <td>2020-10-08 11:05:21</td>\n",
       "      <td>True</td>\n",
       "    </tr>\n",
       "    <tr>\n",
       "      <th>48808</th>\n",
       "      <td>2020-10-08 11:06:29</td>\n",
       "      <td>True</td>\n",
       "    </tr>\n",
       "    <tr>\n",
       "      <th>48841</th>\n",
       "      <td>2020-10-08 11:09:54</td>\n",
       "      <td>True</td>\n",
       "    </tr>\n",
       "    <tr>\n",
       "      <th>48871</th>\n",
       "      <td>2020-10-08 11:11:42</td>\n",
       "      <td>True</td>\n",
       "    </tr>\n",
       "  </tbody>\n",
       "</table>\n",
       "</div>"
      ],
      "text/plain": [
       "                Timestamp  is_WG_open\n",
       "48777 2020-10-08 11:01:14        True\n",
       "48805 2020-10-08 11:05:21        True\n",
       "48808 2020-10-08 11:06:29        True\n",
       "48841 2020-10-08 11:09:54        True\n",
       "48871 2020-10-08 11:11:42        True"
      ]
     },
     "metadata": {},
     "output_type": "display_data"
    },
    {
     "data": {
      "text/html": [
       "<div>\n",
       "<style scoped>\n",
       "    .dataframe tbody tr th:only-of-type {\n",
       "        vertical-align: middle;\n",
       "    }\n",
       "\n",
       "    .dataframe tbody tr th {\n",
       "        vertical-align: top;\n",
       "    }\n",
       "\n",
       "    .dataframe thead th {\n",
       "        text-align: right;\n",
       "    }\n",
       "</style>\n",
       "<table border=\"1\" class=\"dataframe\">\n",
       "  <thead>\n",
       "    <tr style=\"text-align: right;\">\n",
       "      <th></th>\n",
       "      <th>Timestamp</th>\n",
       "      <th>is_WG_open</th>\n",
       "    </tr>\n",
       "  </thead>\n",
       "  <tbody>\n",
       "    <tr>\n",
       "      <th>30628</th>\n",
       "      <td>2020-10-05 11:58:13</td>\n",
       "      <td>False</td>\n",
       "    </tr>\n",
       "    <tr>\n",
       "      <th>30639</th>\n",
       "      <td>2020-10-05 11:59:40</td>\n",
       "      <td>False</td>\n",
       "    </tr>\n",
       "    <tr>\n",
       "      <th>30836</th>\n",
       "      <td>2020-10-05 12:27:06</td>\n",
       "      <td>False</td>\n",
       "    </tr>\n",
       "    <tr>\n",
       "      <th>30892</th>\n",
       "      <td>2020-10-05 12:34:59</td>\n",
       "      <td>False</td>\n",
       "    </tr>\n",
       "    <tr>\n",
       "      <th>30912</th>\n",
       "      <td>2020-10-05 12:37:56</td>\n",
       "      <td>False</td>\n",
       "    </tr>\n",
       "  </tbody>\n",
       "</table>\n",
       "</div>"
      ],
      "text/plain": [
       "                Timestamp  is_WG_open\n",
       "30628 2020-10-05 11:58:13       False\n",
       "30639 2020-10-05 11:59:40       False\n",
       "30836 2020-10-05 12:27:06       False\n",
       "30892 2020-10-05 12:34:59       False\n",
       "30912 2020-10-05 12:37:56       False"
      ]
     },
     "metadata": {},
     "output_type": "display_data"
    }
   ],
   "source": [
    "df['is_WG_open'] = df['Timestamp'].map(lambda x: is_WG_open(x, config, epsi_open=0, epsi_close=20))\n",
    "#we keep the epsi_open=0 as the system appeared to always open between 20sec of 2mn AFTER the indicated time (from video \n",
    "#observation)\n",
    "#we set epsi_close=20 as for video observation we saw that itwoul dbe between + and -15 mn than the indicated time. So we added\n",
    "#some flexibility by puting 20mn.\n",
    "print(df['is_WG_open'].value_counts(normalize=True))\n",
    "display(df[(df['Zone']=='1_Zone')&(df['is_WG_open'])][['Timestamp','is_WG_open']].head(5))\n",
    "display(df[(df['Zone']=='1_Zone')&(~df['is_WG_open'])][['Timestamp','is_WG_open']].head(5))"
   ]
  },
  {
   "cell_type": "code",
   "execution_count": 18,
   "metadata": {},
   "outputs": [
    {
     "name": "stdout",
     "output_type": "stream",
     "text": [
      "(2704970, 16)\n"
     ]
    },
    {
     "name": "stderr",
     "output_type": "stream",
     "text": [
      "C:\\Users\\camil\\anaconda3\\lib\\site-packages\\ipykernel\\ipkernel.py:283: DeprecationWarning: `should_run_async` will not call `transform_cell` automatically in the future. Please pass the result to `transformed_cell` argument and any exception that happen during thetransform in `preprocessing_exc_tuple` in IPython 7.17 and above.\n",
      "  and should_run_async(code)\n"
     ]
    },
    {
     "name": "stdout",
     "output_type": "stream",
     "text": [
      "(2695668, 16)\n"
     ]
    }
   ],
   "source": [
    "#remove WG when close\n",
    "print(df.shape)\n",
    "df = df[~((~df['is_WG_open'])&(df['Zone']=='1_Zone'))]\n",
    "print(df.shape)"
   ]
  },
  {
   "cell_type": "markdown",
   "metadata": {},
   "source": [
    "df = pd.read_csv(os.path.join(path_extracted_data, id_run+'_CLEANEDDATA.csv'), sep=';', parse_dates=['Timestamp', 'date'],\n",
    "                dayfirst=True) \n",
    "print(df.shape)\n",
    "df.head(3)"
   ]
  },
  {
   "cell_type": "markdown",
   "metadata": {},
   "source": [
    "# remove transitions smaller than 15mn over night"
   ]
  },
  {
   "cell_type": "code",
   "execution_count": 22,
   "metadata": {},
   "outputs": [
    {
     "name": "stderr",
     "output_type": "stream",
     "text": [
      "100%|████████████████████████████████████████████████████████████████████████████████| 227/227 [01:36<00:00,  2.35it/s]\n"
     ]
    },
    {
     "name": "stdout",
     "output_type": "stream",
     "text": [
      "(2695015, 18)\n"
     ]
    },
    {
     "data": {
      "text/html": [
       "<div>\n",
       "<style scoped>\n",
       "    .dataframe tbody tr th:only-of-type {\n",
       "        vertical-align: middle;\n",
       "    }\n",
       "\n",
       "    .dataframe tbody tr th {\n",
       "        vertical-align: top;\n",
       "    }\n",
       "\n",
       "    .dataframe thead th {\n",
       "        text-align: right;\n",
       "    }\n",
       "</style>\n",
       "<table border=\"1\" class=\"dataframe\">\n",
       "  <thead>\n",
       "    <tr style=\"text-align: right;\">\n",
       "      <th></th>\n",
       "      <th>HenID</th>\n",
       "      <th>PenID</th>\n",
       "      <th>system</th>\n",
       "      <th>Zone</th>\n",
       "      <th>model_prediction</th>\n",
       "      <th>Timestamp</th>\n",
       "      <th>date</th>\n",
       "      <th>next_record_date</th>\n",
       "      <th>duration</th>\n",
       "      <th>previous_record_date</th>\n",
       "      <th>previous_duration</th>\n",
       "      <th>next_zone</th>\n",
       "      <th>previous_zone</th>\n",
       "      <th>previous_previous_zone</th>\n",
       "      <th>correction_is_consecutive_equal_initial_zone</th>\n",
       "      <th>is_WG_open</th>\n",
       "      <th>duration_mn</th>\n",
       "      <th>is_day</th>\n",
       "    </tr>\n",
       "  </thead>\n",
       "  <tbody>\n",
       "    <tr>\n",
       "      <th>56</th>\n",
       "      <td>hen_1</td>\n",
       "      <td>pen9</td>\n",
       "      <td>8 - 9</td>\n",
       "      <td>2_Zone</td>\n",
       "      <td>1.0</td>\n",
       "      <td>2020-09-29 09:50:00</td>\n",
       "      <td>2020-09-29</td>\n",
       "      <td>2020-09-29 17:56:25</td>\n",
       "      <td>0 days 08:06:25</td>\n",
       "      <td>NaN</td>\n",
       "      <td>NaN</td>\n",
       "      <td>3_Zone</td>\n",
       "      <td>NaN</td>\n",
       "      <td>NaN</td>\n",
       "      <td>False</td>\n",
       "      <td>False</td>\n",
       "      <td>486.416667</td>\n",
       "      <td>True</td>\n",
       "    </tr>\n",
       "    <tr>\n",
       "      <th>1026</th>\n",
       "      <td>hen_1</td>\n",
       "      <td>pen9</td>\n",
       "      <td>8 - 9</td>\n",
       "      <td>3_Zone</td>\n",
       "      <td>1.0</td>\n",
       "      <td>2020-09-29 17:56:25</td>\n",
       "      <td>2020-09-29</td>\n",
       "      <td>2020-09-30 09:55:59</td>\n",
       "      <td>0 days 02:52:35</td>\n",
       "      <td>2020-09-29 09:50:00</td>\n",
       "      <td>0 days 08:06:25</td>\n",
       "      <td>3_Zone</td>\n",
       "      <td>2_Zone</td>\n",
       "      <td>NaN</td>\n",
       "      <td>False</td>\n",
       "      <td>False</td>\n",
       "      <td>959.566667</td>\n",
       "      <td>False</td>\n",
       "    </tr>\n",
       "    <tr>\n",
       "      <th>1363</th>\n",
       "      <td>hen_1</td>\n",
       "      <td>pen9</td>\n",
       "      <td>8 - 9</td>\n",
       "      <td>5_Zone</td>\n",
       "      <td>1.0</td>\n",
       "      <td>2020-09-30 09:55:59</td>\n",
       "      <td>2020-09-30</td>\n",
       "      <td>2020-09-30 11:34:30</td>\n",
       "      <td>0 days 01:32:11</td>\n",
       "      <td>2020-09-30 09:51:57</td>\n",
       "      <td>0 days 00:04:02</td>\n",
       "      <td>5_Zone</td>\n",
       "      <td>3_Zone</td>\n",
       "      <td>3_Zone</td>\n",
       "      <td>False</td>\n",
       "      <td>False</td>\n",
       "      <td>98.516667</td>\n",
       "      <td>True</td>\n",
       "    </tr>\n",
       "  </tbody>\n",
       "</table>\n",
       "</div>"
      ],
      "text/plain": [
       "      HenID PenID system    Zone  model_prediction           Timestamp  \\\n",
       "56    hen_1  pen9  8 - 9  2_Zone               1.0 2020-09-29 09:50:00   \n",
       "1026  hen_1  pen9  8 - 9  3_Zone               1.0 2020-09-29 17:56:25   \n",
       "1363  hen_1  pen9  8 - 9  5_Zone               1.0 2020-09-30 09:55:59   \n",
       "\n",
       "           date    next_record_date         duration previous_record_date  \\\n",
       "56   2020-09-29 2020-09-29 17:56:25  0 days 08:06:25                  NaN   \n",
       "1026 2020-09-29 2020-09-30 09:55:59  0 days 02:52:35  2020-09-29 09:50:00   \n",
       "1363 2020-09-30 2020-09-30 11:34:30  0 days 01:32:11  2020-09-30 09:51:57   \n",
       "\n",
       "     previous_duration next_zone previous_zone previous_previous_zone  \\\n",
       "56                 NaN    3_Zone           NaN                    NaN   \n",
       "1026   0 days 08:06:25    3_Zone        2_Zone                    NaN   \n",
       "1363   0 days 00:04:02    5_Zone        3_Zone                 3_Zone   \n",
       "\n",
       "      correction_is_consecutive_equal_initial_zone  is_WG_open  duration_mn  \\\n",
       "56                                           False       False   486.416667   \n",
       "1026                                         False       False   959.566667   \n",
       "1363                                         False       False    98.516667   \n",
       "\n",
       "      is_day  \n",
       "56      True  \n",
       "1026   False  \n",
       "1363    True  "
      ]
     },
     "metadata": {},
     "output_type": "display_data"
    },
    {
     "name": "stdout",
     "output_type": "stream",
     "text": [
      "(2681720, 18)\n"
     ]
    },
    {
     "data": {
      "text/html": [
       "<div>\n",
       "<style scoped>\n",
       "    .dataframe tbody tr th:only-of-type {\n",
       "        vertical-align: middle;\n",
       "    }\n",
       "\n",
       "    .dataframe tbody tr th {\n",
       "        vertical-align: top;\n",
       "    }\n",
       "\n",
       "    .dataframe thead th {\n",
       "        text-align: right;\n",
       "    }\n",
       "</style>\n",
       "<table border=\"1\" class=\"dataframe\">\n",
       "  <thead>\n",
       "    <tr style=\"text-align: right;\">\n",
       "      <th></th>\n",
       "      <th>HenID</th>\n",
       "      <th>PenID</th>\n",
       "      <th>system</th>\n",
       "      <th>Zone</th>\n",
       "      <th>model_prediction</th>\n",
       "      <th>Timestamp</th>\n",
       "      <th>date</th>\n",
       "      <th>next_record_date</th>\n",
       "      <th>duration</th>\n",
       "      <th>previous_record_date</th>\n",
       "      <th>previous_duration</th>\n",
       "      <th>next_zone</th>\n",
       "      <th>previous_zone</th>\n",
       "      <th>previous_previous_zone</th>\n",
       "      <th>correction_is_consecutive_equal_initial_zone</th>\n",
       "      <th>is_WG_open</th>\n",
       "      <th>duration_mn</th>\n",
       "      <th>is_day</th>\n",
       "    </tr>\n",
       "  </thead>\n",
       "  <tbody>\n",
       "    <tr>\n",
       "      <th>56</th>\n",
       "      <td>hen_1</td>\n",
       "      <td>pen9</td>\n",
       "      <td>8 - 9</td>\n",
       "      <td>2_Zone</td>\n",
       "      <td>1.0</td>\n",
       "      <td>2020-09-29 09:50:00</td>\n",
       "      <td>2020-09-29</td>\n",
       "      <td>2020-09-29 17:56:25</td>\n",
       "      <td>0 days 08:06:25</td>\n",
       "      <td>NaN</td>\n",
       "      <td>NaN</td>\n",
       "      <td>3_Zone</td>\n",
       "      <td>NaN</td>\n",
       "      <td>NaN</td>\n",
       "      <td>False</td>\n",
       "      <td>False</td>\n",
       "      <td>486.416667</td>\n",
       "      <td>True</td>\n",
       "    </tr>\n",
       "    <tr>\n",
       "      <th>1026</th>\n",
       "      <td>hen_1</td>\n",
       "      <td>pen9</td>\n",
       "      <td>8 - 9</td>\n",
       "      <td>3_Zone</td>\n",
       "      <td>1.0</td>\n",
       "      <td>2020-09-29 17:56:25</td>\n",
       "      <td>2020-09-29</td>\n",
       "      <td>2020-09-30 09:55:59</td>\n",
       "      <td>0 days 02:52:35</td>\n",
       "      <td>2020-09-29 09:50:00</td>\n",
       "      <td>0 days 08:06:25</td>\n",
       "      <td>3_Zone</td>\n",
       "      <td>2_Zone</td>\n",
       "      <td>NaN</td>\n",
       "      <td>False</td>\n",
       "      <td>False</td>\n",
       "      <td>959.566667</td>\n",
       "      <td>False</td>\n",
       "    </tr>\n",
       "    <tr>\n",
       "      <th>1363</th>\n",
       "      <td>hen_1</td>\n",
       "      <td>pen9</td>\n",
       "      <td>8 - 9</td>\n",
       "      <td>5_Zone</td>\n",
       "      <td>1.0</td>\n",
       "      <td>2020-09-30 09:55:59</td>\n",
       "      <td>2020-09-30</td>\n",
       "      <td>2020-09-30 11:34:30</td>\n",
       "      <td>0 days 01:32:11</td>\n",
       "      <td>2020-09-30 09:51:57</td>\n",
       "      <td>0 days 00:04:02</td>\n",
       "      <td>5_Zone</td>\n",
       "      <td>3_Zone</td>\n",
       "      <td>3_Zone</td>\n",
       "      <td>False</td>\n",
       "      <td>False</td>\n",
       "      <td>98.516667</td>\n",
       "      <td>True</td>\n",
       "    </tr>\n",
       "  </tbody>\n",
       "</table>\n",
       "</div>"
      ],
      "text/plain": [
       "      HenID PenID system    Zone  model_prediction           Timestamp  \\\n",
       "56    hen_1  pen9  8 - 9  2_Zone               1.0 2020-09-29 09:50:00   \n",
       "1026  hen_1  pen9  8 - 9  3_Zone               1.0 2020-09-29 17:56:25   \n",
       "1363  hen_1  pen9  8 - 9  5_Zone               1.0 2020-09-30 09:55:59   \n",
       "\n",
       "           date    next_record_date         duration previous_record_date  \\\n",
       "56   2020-09-29 2020-09-29 17:56:25  0 days 08:06:25                  NaN   \n",
       "1026 2020-09-29 2020-09-30 09:55:59  0 days 02:52:35  2020-09-29 09:50:00   \n",
       "1363 2020-09-30 2020-09-30 11:34:30  0 days 01:32:11  2020-09-30 09:51:57   \n",
       "\n",
       "     previous_duration next_zone previous_zone previous_previous_zone  \\\n",
       "56                 NaN    3_Zone           NaN                    NaN   \n",
       "1026   0 days 08:06:25    3_Zone        2_Zone                    NaN   \n",
       "1363   0 days 00:04:02    5_Zone        3_Zone                 3_Zone   \n",
       "\n",
       "      correction_is_consecutive_equal_initial_zone  is_WG_open  duration_mn  \\\n",
       "56                                           False       False   486.416667   \n",
       "1026                                         False       False   959.566667   \n",
       "1363                                         False       False    98.516667   \n",
       "\n",
       "      is_day  \n",
       "56      True  \n",
       "1026   False  \n",
       "1363    True  "
      ]
     },
     "execution_count": 22,
     "metadata": {},
     "output_type": "execute_result"
    }
   ],
   "source": [
    "########### remove transitions smaller than 15mn over night\n",
    "#compute duration again as is not updated with alst cleaning\n",
    "li_df = []\n",
    "#more efficient to do it per hen, as it wont need to search in the whole dataframe, and we can simply shift the timestamp column\n",
    "for i, df_hen in tqdm.tqdm(df.groupby(['HenID'])):\n",
    "    #as the next record date (sort by date, then simply shift by one row and add nan at then end)\n",
    "    df_hen = df_hen.sort_values(['Timestamp'], ascending=True)\n",
    "    #same date, one must take the last recorded one & sorting by date might change it. Also it already should be sorted by date\n",
    "    df_hen['next_record_date'] = df_hen['Timestamp'].tolist()[1:]+[np.nan]\n",
    "    #compute duration\n",
    "    df_hen['duration_mn'] = df_hen.apply(lambda x: (x['next_record_date']-x['Timestamp']).total_seconds()/60, axis=1)\n",
    "    li_df.append(df_hen)\n",
    "#put again in one dataframe\n",
    "df = pd.concat(li_df)\n",
    "df['is_day'] = df['Timestamp'].map(lambda x: is_day(x, config.dico_night_hour))\n",
    "#display(df[~df['is_day']].head(3))\n",
    "#df[~df['is_day']].tail(3)\n",
    "print(df.shape)\n",
    "display(df.head(3))\n",
    "#df[(df['duration_mn']<15) & (df['is_day']==False)]\n",
    "#df[(df['HenID']=='hen_1')&(df['Timestamp']<dt.datetime(2020,10,1,10,1,1))&(df['Timestamp']>dt.datetime(2020,9,30,17,50,1))]\n",
    "df = df[~((df['duration_mn']<15) & (df['is_day']==False))]\n",
    "print(df.shape)\n",
    "df.head(3)"
   ]
  },
  {
   "cell_type": "code",
   "execution_count": 24,
   "metadata": {},
   "outputs": [
    {
     "data": {
      "text/html": [
       "<div>\n",
       "<style scoped>\n",
       "    .dataframe tbody tr th:only-of-type {\n",
       "        vertical-align: middle;\n",
       "    }\n",
       "\n",
       "    .dataframe tbody tr th {\n",
       "        vertical-align: top;\n",
       "    }\n",
       "\n",
       "    .dataframe thead th {\n",
       "        text-align: right;\n",
       "    }\n",
       "</style>\n",
       "<table border=\"1\" class=\"dataframe\">\n",
       "  <thead>\n",
       "    <tr style=\"text-align: right;\">\n",
       "      <th></th>\n",
       "      <th>HenID</th>\n",
       "      <th>PenID</th>\n",
       "      <th>system</th>\n",
       "      <th>Zone</th>\n",
       "      <th>model_prediction</th>\n",
       "      <th>Timestamp</th>\n",
       "      <th>date</th>\n",
       "      <th>next_record_date</th>\n",
       "      <th>duration</th>\n",
       "      <th>previous_record_date</th>\n",
       "      <th>previous_duration</th>\n",
       "      <th>next_zone</th>\n",
       "      <th>previous_zone</th>\n",
       "      <th>previous_previous_zone</th>\n",
       "      <th>correction_is_consecutive_equal_initial_zone</th>\n",
       "      <th>is_WG_open</th>\n",
       "      <th>duration_mn</th>\n",
       "      <th>is_day</th>\n",
       "    </tr>\n",
       "  </thead>\n",
       "  <tbody>\n",
       "    <tr>\n",
       "      <th>56</th>\n",
       "      <td>hen_1</td>\n",
       "      <td>pen9</td>\n",
       "      <td>8 - 9</td>\n",
       "      <td>2_Zone</td>\n",
       "      <td>1.0</td>\n",
       "      <td>2020-09-29 09:50:00</td>\n",
       "      <td>2020-09-29</td>\n",
       "      <td>2020-09-29 17:56:25</td>\n",
       "      <td>0 days 08:06:25</td>\n",
       "      <td>NaN</td>\n",
       "      <td>NaN</td>\n",
       "      <td>3_Zone</td>\n",
       "      <td>NaN</td>\n",
       "      <td>NaN</td>\n",
       "      <td>False</td>\n",
       "      <td>False</td>\n",
       "      <td>486.416667</td>\n",
       "      <td>True</td>\n",
       "    </tr>\n",
       "    <tr>\n",
       "      <th>1026</th>\n",
       "      <td>hen_1</td>\n",
       "      <td>pen9</td>\n",
       "      <td>8 - 9</td>\n",
       "      <td>3_Zone</td>\n",
       "      <td>1.0</td>\n",
       "      <td>2020-09-29 17:56:25</td>\n",
       "      <td>2020-09-29</td>\n",
       "      <td>2020-09-30 09:55:59</td>\n",
       "      <td>0 days 02:52:35</td>\n",
       "      <td>2020-09-29 09:50:00</td>\n",
       "      <td>0 days 08:06:25</td>\n",
       "      <td>3_Zone</td>\n",
       "      <td>2_Zone</td>\n",
       "      <td>NaN</td>\n",
       "      <td>False</td>\n",
       "      <td>False</td>\n",
       "      <td>959.566667</td>\n",
       "      <td>False</td>\n",
       "    </tr>\n",
       "  </tbody>\n",
       "</table>\n",
       "</div>"
      ],
      "text/plain": [
       "      HenID PenID system    Zone  model_prediction           Timestamp  \\\n",
       "56    hen_1  pen9  8 - 9  2_Zone               1.0 2020-09-29 09:50:00   \n",
       "1026  hen_1  pen9  8 - 9  3_Zone               1.0 2020-09-29 17:56:25   \n",
       "\n",
       "           date    next_record_date         duration previous_record_date  \\\n",
       "56   2020-09-29 2020-09-29 17:56:25  0 days 08:06:25                  NaN   \n",
       "1026 2020-09-29 2020-09-30 09:55:59  0 days 02:52:35  2020-09-29 09:50:00   \n",
       "\n",
       "     previous_duration next_zone previous_zone previous_previous_zone  \\\n",
       "56                 NaN    3_Zone           NaN                    NaN   \n",
       "1026   0 days 08:06:25    3_Zone        2_Zone                    NaN   \n",
       "\n",
       "      correction_is_consecutive_equal_initial_zone  is_WG_open  duration_mn  \\\n",
       "56                                           False       False   486.416667   \n",
       "1026                                         False       False   959.566667   \n",
       "\n",
       "      is_day  \n",
       "56      True  \n",
       "1026   False  "
      ]
     },
     "execution_count": 24,
     "metadata": {},
     "output_type": "execute_result"
    }
   ],
   "source": [
    "df.head(2)"
   ]
  },
  {
   "cell_type": "markdown",
   "metadata": {},
   "source": [
    "# Save"
   ]
  },
  {
   "cell_type": "code",
   "execution_count": 25,
   "metadata": {},
   "outputs": [
    {
     "name": "stdout",
     "output_type": "stream",
     "text": [
      "(2681720, 18)\n"
     ]
    }
   ],
   "source": [
    "print(df.shape)\n",
    "df.head(3)\n",
    "df.to_csv(os.path.join(path_extracted_data, id_run+'_CLEANEDDATA.csv'), sep=';', index=False) "
   ]
  },
  {
   "cell_type": "markdown",
   "metadata": {},
   "source": [
    "## MLP comparison (raw vs cleaned)"
   ]
  },
  {
   "cell_type": "code",
   "execution_count": 26,
   "metadata": {},
   "outputs": [
    {
     "name": "stdout",
     "output_type": "stream",
     "text": [
      "(7261563, 7)\n"
     ]
    },
    {
     "data": {
      "text/html": [
       "<div>\n",
       "<style scoped>\n",
       "    .dataframe tbody tr th:only-of-type {\n",
       "        vertical-align: middle;\n",
       "    }\n",
       "\n",
       "    .dataframe tbody tr th {\n",
       "        vertical-align: top;\n",
       "    }\n",
       "\n",
       "    .dataframe thead th {\n",
       "        text-align: right;\n",
       "    }\n",
       "</style>\n",
       "<table border=\"1\" class=\"dataframe\">\n",
       "  <thead>\n",
       "    <tr style=\"text-align: right;\">\n",
       "      <th></th>\n",
       "      <th>HenID</th>\n",
       "      <th>PenID</th>\n",
       "      <th>system</th>\n",
       "      <th>Trackingsystem_Zone</th>\n",
       "      <th>model_prediction</th>\n",
       "      <th>Timestamp</th>\n",
       "      <th>date</th>\n",
       "    </tr>\n",
       "  </thead>\n",
       "  <tbody>\n",
       "    <tr>\n",
       "      <th>0</th>\n",
       "      <td>hen_71</td>\n",
       "      <td>pen12</td>\n",
       "      <td>10 - 12</td>\n",
       "      <td>3_Zone</td>\n",
       "      <td>1.0</td>\n",
       "      <td>2020-09-29 09:07:00</td>\n",
       "      <td>2020-09-29</td>\n",
       "    </tr>\n",
       "    <tr>\n",
       "      <th>1</th>\n",
       "      <td>hen_7</td>\n",
       "      <td>pen11</td>\n",
       "      <td>10 - 12</td>\n",
       "      <td>3_Zone</td>\n",
       "      <td>1.0</td>\n",
       "      <td>2020-09-29 09:08:12</td>\n",
       "      <td>2020-09-29</td>\n",
       "    </tr>\n",
       "    <tr>\n",
       "      <th>2</th>\n",
       "      <td>hen_71</td>\n",
       "      <td>pen12</td>\n",
       "      <td>10 - 12</td>\n",
       "      <td>3_Zone</td>\n",
       "      <td>1.0</td>\n",
       "      <td>2020-09-29 09:08:26</td>\n",
       "      <td>2020-09-29</td>\n",
       "    </tr>\n",
       "  </tbody>\n",
       "</table>\n",
       "</div>"
      ],
      "text/plain": [
       "    HenID  PenID   system Trackingsystem_Zone  model_prediction  \\\n",
       "0  hen_71  pen12  10 - 12              3_Zone               1.0   \n",
       "1   hen_7  pen11  10 - 12              3_Zone               1.0   \n",
       "2  hen_71  pen12  10 - 12              3_Zone               1.0   \n",
       "\n",
       "            Timestamp       date  \n",
       "0 2020-09-29 09:07:00 2020-09-29  \n",
       "1 2020-09-29 09:08:12 2020-09-29  \n",
       "2 2020-09-29 09:08:26 2020-09-29  "
      ]
     },
     "execution_count": 26,
     "metadata": {},
     "output_type": "execute_result"
    }
   ],
   "source": [
    "#for being more reproductible, we open the file that was saved from cleaning\n",
    "df = pd.read_csv(os.path.join(path_extracted_data, id_run+'_Rawdata&Model.csv'), sep=';', parse_dates=['Timestamp','date'],\n",
    "                 dayfirst=True) \n",
    "print(df.shape)\n",
    "df.head(3)"
   ]
  },
  {
   "cell_type": "code",
   "execution_count": 27,
   "metadata": {},
   "outputs": [
    {
     "data": {
      "text/plain": [
       "1.0    0.936821\n",
       "0.0    0.063179\n",
       "Name: model_prediction, dtype: float64"
      ]
     },
     "execution_count": 27,
     "metadata": {},
     "output_type": "execute_result"
    }
   ],
   "source": [
    "df['model_prediction'].value_counts(normalize=True)"
   ]
  },
  {
   "cell_type": "code",
   "execution_count": 28,
   "metadata": {},
   "outputs": [
    {
     "name": "stdout",
     "output_type": "stream",
     "text": [
      "(288402, 7)\n"
     ]
    },
    {
     "name": "stderr",
     "output_type": "stream",
     "text": [
      "100%|████████████████████████████████████████████████████████████████████████████████| 158/158 [43:56<00:00, 16.69s/it]"
     ]
    },
    {
     "name": "stdout",
     "output_type": "stream",
     "text": [
      "Total running time: 43.95 mn\n"
     ]
    },
    {
     "name": "stderr",
     "output_type": "stream",
     "text": [
      "\n"
     ]
    }
   ],
   "source": [
    "START_TIME = time.perf_counter()\n",
    "#choose specific dates to plot, November is better as hens starts to move more and the algo have never seen it\n",
    "dmin = dt.datetime(2021,5,10)\n",
    "dmax = dt.datetime(2021,5,20)\n",
    "#df_ = df[(df['date']<dt.datetime(2020,11,16))&(df['date']>dt.datetime(2020,11,10))]\n",
    "df_ = df[(df['date']<=dmax)&(df['date']>=dmin)].copy()\n",
    "print(df_.shape)\n",
    "#only print the hens with at least one transition per day (simplicity and interestignly)\n",
    "#to sort the yaxis\n",
    "dico_zone_order = {'1_Zone':0, '2_Zone':1, '3_Zone':2, '4_Zone':3, '5_Zone':4}\n",
    "li_ts = ['Trackingsystem_Zone','Model_Zone']\n",
    "li_date = df_['date'].unique()\n",
    "#for each batch draw 2 timeseries, the raw one and the model one\n",
    "for henID, df_plt in tqdm.tqdm(df_.groupby(['HenID'])):\n",
    "    df_plt = df_plt.sort_values(['Timestamp']).copy()\n",
    "    c = len(li_ts) ; l = len(li_date)\n",
    "    fig, ax = plt.subplots(figsize=(c*5, l*1))\n",
    "    i = 1\n",
    "    if len(df_plt['date'].unique())==len(li_date):\n",
    "        mi = min(df_plt['Timestamp'].tolist()) ; ma = max(df_plt['Timestamp'].tolist())\n",
    "        Daterange = pd.date_range(start = mi+dt.timedelta(seconds=(60-mi.second)), \n",
    "                                  end = ma-dt.timedelta(seconds=(ma.second+1)), \n",
    "                                  freq = 'S') \n",
    "        df_plt_ = df_plt.copy()\n",
    "        df_plt_.set_index('Timestamp', inplace=True)\n",
    "        df_plt_ = df_plt_.reindex(Daterange, method='ffill').reset_index()\n",
    "        df_plt_.rename(columns={'index':'Timestamp'}, inplace=True)\n",
    "        #add date again, as the reindexing also extended the date\n",
    "        df_plt_['date'] = df_plt_['Timestamp'].map(lambda x: dt.datetime.date(x))\n",
    "        #remove first & last date\n",
    "        df_plt_ = df_plt_[~df_plt_['date'].isin([max(df_plt_['date'].tolist()),min(df_plt_['date'].tolist())])]\n",
    "        #put xlabel into numbers for the ploting\n",
    "        df_plt_['Trackingsystem_Zone'] = df_plt_['Trackingsystem_Zone'].map(lambda x: int(dico_zone_order[x]))       \n",
    "        for d, df_plt__ in df_plt_.groupby(['date']):\n",
    "            for v in li_ts:\n",
    "                df_plt___ = df_plt__.copy()\n",
    "                if v=='Model_Zone':\n",
    "                    df_plt___ = df_plt___[df_plt___['model_prediction']==1]\n",
    "                plt.subplot(l,c,i)\n",
    "                plt.tight_layout(pad=0.3) #add spacing between each plot\n",
    "                if i%2==1:\n",
    "                    plt.yticks([0,1,2,3,4], ['Winter garden', 'Litter', 'Lower perch','Nestbox','Top floor'])\n",
    "                else:\n",
    "                    plt.yticks([0,1,2,3,4], ['','','','',''])\n",
    "                if i in [1,2]:\n",
    "                    plt.title(v.replace('_',' '), size=13)\n",
    "                i = i+1\n",
    "                plt.plot(df_plt___['Timestamp'].tolist(), df_plt___['Trackingsystem_Zone'].tolist(), \n",
    "                         color=pal_[v], linewidth=1)\n",
    "                li_hour = pd.date_range(start = d,  end = d+dt.timedelta(days=1), freq = 'H')\n",
    "                plt.xticks(li_hour , [str(i.hour)+'h' for i in li_hour], fontsize=5)                \n",
    "                plt.yticks(fontsize=8)\n",
    "                plt.xlabel(str(d).split('T')[0], size=7)\n",
    "                plt.ylim(0, 4.2)  \n",
    "        plt.savefig(os.path.join(path_extracted_data_visual, \n",
    "                                 henID+'_'+str(dmin).split(' ')[0]+'_'+str(dmax).split(' ')[0]+'.png'), \n",
    "                    format='png', bbox_inches='tight', dpi=300)\n",
    "    plt.clf()\n",
    "    plt.close(\"all\")    \n",
    "END_TIME = time.perf_counter()\n",
    "print (\"Total running time: %.2f mn\" %((END_TIME-START_TIME)/60))\n",
    "#hen4, 22.10.2020: flickering. solved?"
   ]
  },
  {
   "cell_type": "code",
   "execution_count": null,
   "metadata": {},
   "outputs": [],
   "source": []
  },
  {
   "cell_type": "code",
   "execution_count": null,
   "metadata": {},
   "outputs": [],
   "source": []
  },
  {
   "cell_type": "code",
   "execution_count": null,
   "metadata": {},
   "outputs": [],
   "source": []
  },
  {
   "cell_type": "code",
   "execution_count": null,
   "metadata": {},
   "outputs": [],
   "source": []
  },
  {
   "cell_type": "code",
   "execution_count": null,
   "metadata": {},
   "outputs": [],
   "source": []
  },
  {
   "cell_type": "code",
   "execution_count": null,
   "metadata": {},
   "outputs": [],
   "source": []
  },
  {
   "cell_type": "code",
   "execution_count": null,
   "metadata": {},
   "outputs": [],
   "source": []
  },
  {
   "cell_type": "code",
   "execution_count": null,
   "metadata": {},
   "outputs": [],
   "source": []
  },
  {
   "cell_type": "code",
   "execution_count": null,
   "metadata": {},
   "outputs": [],
   "source": []
  },
  {
   "cell_type": "code",
   "execution_count": null,
   "metadata": {},
   "outputs": [],
   "source": []
  },
  {
   "cell_type": "code",
   "execution_count": null,
   "metadata": {},
   "outputs": [],
   "source": []
  },
  {
   "cell_type": "code",
   "execution_count": null,
   "metadata": {},
   "outputs": [],
   "source": []
  }
 ],
 "metadata": {
  "kernelspec": {
   "display_name": "Python 3 (ipykernel)",
   "language": "python",
   "name": "python3"
  },
  "language_info": {
   "codemirror_mode": {
    "name": "ipython",
    "version": 3
   },
   "file_extension": ".py",
   "mimetype": "text/x-python",
   "name": "python",
   "nbconvert_exporter": "python",
   "pygments_lexer": "ipython3",
   "version": "3.8.12"
  }
 },
 "nbformat": 4,
 "nbformat_minor": 2
}
