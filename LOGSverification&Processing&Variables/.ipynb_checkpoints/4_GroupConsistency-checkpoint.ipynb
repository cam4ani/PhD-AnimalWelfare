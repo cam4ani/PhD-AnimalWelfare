{
 "cells": [
  {
   "cell_type": "code",
   "execution_count": 1,
   "metadata": {},
   "outputs": [],
   "source": [
    "#basic package\n",
    "import tqdm\n",
    "import os\n",
    "import numpy as np\n",
    "import glob\n",
    "import pandas as pd\n",
    "import sys\n",
    "import time\n",
    "import datetime as dt\n",
    "import itertools\n",
    "import re\n",
    "import math\n",
    "\n",
    "#plot\n",
    "import matplotlib.pyplot as plt\n",
    "import seaborn as sns"
   ]
  },
  {
   "cell_type": "code",
   "execution_count": 2,
   "metadata": {},
   "outputs": [
    {
     "name": "stderr",
     "output_type": "stream",
     "text": [
      "C:\\Users\\camil\\Anaconda3\\lib\\site-packages\\scipy\\sparse\\sparsetools.py:21: DeprecationWarning: `scipy.sparse.sparsetools` is deprecated!\n",
      "scipy.sparse.sparsetools is a private module for scipy.sparse, and should not be used.\n",
      "  _deprecated()\n"
     ]
    }
   ],
   "source": [
    "PACKAGE_PARENT = '../'\n",
    "SCRIPT_DIR = os.path.dirname(os.path.realpath(os.path.join(os.getcwd(), os.path.expanduser('__file__'))))\n",
    "sys.path.append(os.path.normpath(os.path.join(SCRIPT_DIR, PACKAGE_PARENT)))\n",
    "from UTILS import ZoneVariable\n",
    "import config_origins as config"
   ]
  },
  {
   "cell_type": "markdown",
   "metadata": {},
   "source": [
    "# Define parameters"
   ]
  },
  {
   "cell_type": "code",
   "execution_count": 3,
   "metadata": {
    "scrolled": true
   },
   "outputs": [
    {
     "name": "stdout",
     "output_type": "stream",
     "text": [
      "change the configuration file if not done yet!\n",
      "v3_\n"
     ]
    }
   ],
   "source": [
    "print('change the configuration file if not done yet!')\n",
    "path_extracted_data = config.path_extracted_data\n",
    "path_initial_data = config.path_initial_data\n",
    "id_run = config.id_run\n",
    "dico_matching = config.dico_matching\n",
    "print(id_run)"
   ]
  },
  {
   "cell_type": "markdown",
   "metadata": {},
   "source": [
    "# Group consistency"
   ]
  },
  {
   "cell_type": "code",
   "execution_count": 4,
   "metadata": {},
   "outputs": [
    {
     "name": "stdout",
     "output_type": "stream",
     "text": [
      "(309261, 12)\n"
     ]
    },
    {
     "data": {
      "text/html": [
       "<div>\n",
       "<style scoped>\n",
       "    .dataframe tbody tr th:only-of-type {\n",
       "        vertical-align: middle;\n",
       "    }\n",
       "\n",
       "    .dataframe tbody tr th {\n",
       "        vertical-align: top;\n",
       "    }\n",
       "\n",
       "    .dataframe thead th {\n",
       "        text-align: right;\n",
       "    }\n",
       "</style>\n",
       "<table border=\"1\" class=\"dataframe\">\n",
       "  <thead>\n",
       "    <tr style=\"text-align: right;\">\n",
       "      <th></th>\n",
       "      <th>Timestamp</th>\n",
       "      <th>HenID</th>\n",
       "      <th>Zone</th>\n",
       "      <th>PenID</th>\n",
       "      <th>TagID</th>\n",
       "      <th>log_file_name</th>\n",
       "      <th>date</th>\n",
       "      <th>ts_order_logname</th>\n",
       "      <th>ts_order_list</th>\n",
       "      <th>ms</th>\n",
       "      <th>Timestamp_initial</th>\n",
       "      <th>duration</th>\n",
       "    </tr>\n",
       "  </thead>\n",
       "  <tbody>\n",
       "    <tr>\n",
       "      <th>0</th>\n",
       "      <td>2020-09-30 00:01:25</td>\n",
       "      <td>hen_111</td>\n",
       "      <td>3_Zone</td>\n",
       "      <td>11</td>\n",
       "      <td>147</td>\n",
       "      <td>log_00000001</td>\n",
       "      <td>2020-09-30</td>\n",
       "      <td>log_00000001_42425</td>\n",
       "      <td>log_00000001_42425</td>\n",
       "      <td>0.0</td>\n",
       "      <td>2020-09-30 00:01:25</td>\n",
       "      <td>13.0</td>\n",
       "    </tr>\n",
       "    <tr>\n",
       "      <th>1</th>\n",
       "      <td>2020-09-30 00:01:38</td>\n",
       "      <td>hen_111</td>\n",
       "      <td>2_Zone</td>\n",
       "      <td>11</td>\n",
       "      <td>147</td>\n",
       "      <td>log_00000001</td>\n",
       "      <td>2020-09-30</td>\n",
       "      <td>log_00000001_42436</td>\n",
       "      <td>log_00000001_42436</td>\n",
       "      <td>0.0</td>\n",
       "      <td>2020-09-30 00:01:38</td>\n",
       "      <td>731.0</td>\n",
       "    </tr>\n",
       "    <tr>\n",
       "      <th>2</th>\n",
       "      <td>2020-09-30 00:13:49</td>\n",
       "      <td>hen_111</td>\n",
       "      <td>3_Zone</td>\n",
       "      <td>11</td>\n",
       "      <td>147</td>\n",
       "      <td>log_00000001</td>\n",
       "      <td>2020-09-30</td>\n",
       "      <td>log_00000001_43035</td>\n",
       "      <td>log_00000001_43035</td>\n",
       "      <td>0.0</td>\n",
       "      <td>2020-09-30 00:13:49</td>\n",
       "      <td>2.0</td>\n",
       "    </tr>\n",
       "  </tbody>\n",
       "</table>\n",
       "</div>"
      ],
      "text/plain": [
       "            Timestamp    HenID    Zone  PenID  TagID log_file_name       date  \\\n",
       "0 2020-09-30 00:01:25  hen_111  3_Zone     11    147  log_00000001 2020-09-30   \n",
       "1 2020-09-30 00:01:38  hen_111  2_Zone     11    147  log_00000001 2020-09-30   \n",
       "2 2020-09-30 00:13:49  hen_111  3_Zone     11    147  log_00000001 2020-09-30   \n",
       "\n",
       "     ts_order_logname       ts_order_list   ms   Timestamp_initial duration  \n",
       "0  log_00000001_42425  log_00000001_42425  0.0 2020-09-30 00:01:25     13.0  \n",
       "1  log_00000001_42436  log_00000001_42436  0.0 2020-09-30 00:01:38    731.0  \n",
       "2  log_00000001_43035  log_00000001_43035  0.0 2020-09-30 00:13:49      2.0  "
      ]
     },
     "execution_count": 4,
     "metadata": {},
     "output_type": "execute_result"
    }
   ],
   "source": [
    "#for being more reproductible, we open the file that was saved from cleaning\n",
    "df = pd.read_csv(os.path.join(path_extracted_data, id_run+'_records_GeneralCleaning.csv'), sep=';', \n",
    "                 parse_dates=['Timestamp', 'Timestamp_initial', 'date', 'duration']) \n",
    "print(df.shape)\n",
    "df.head(3)"
   ]
  },
  {
   "cell_type": "code",
   "execution_count": null,
   "metadata": {},
   "outputs": [],
   "source": [
    "def ZoneVariable(df_ts, config, save=True, red_dot_for_each_hen=True, nbr_bird_per_square_meter=False):\n",
    "\n",
    "    '''From a time series (one column per hen named by 'hen_'), compute a Heatmap of number of birds in each zone at each \n",
    "    timestamp we are taking one value per minute (the first one), and we are not considering the rest\n",
    "    red_dot_for_each_hen: if True, then we will plot where each bird is with a red dot in order to understand his synchronicity with other birds and if he likes crowd and when. It can then help extract some variables of interest\n",
    "    nbr_bird_per_square_meter: If True, the nbr of birds will be divided by the umber of square meter associated to that zone'''\n",
    "    \n",
    "    #start recording the time it last\n",
    "    START_TIME = time.clock()\n",
    "    \n",
    "    #initialise variable\n",
    "    path_extracted_data = config.path_extracted_data\n",
    "    dico_zone_order = config.dico_zone_order\n",
    "    id_run = config.id_run\n",
    "    dico_zone_plot_name = config.dico_zone_plot_name\n",
    "    dico_zone_meter2 = config.dico_zone_meter2\n",
    "\n",
    "    df_ts['minute'] = df_ts['Timestamp'].map(lambda x: x.minute)\n",
    "    li_hen = [i for i in df_ts.columns if i.startswith('hen_')]\n",
    "    li_zones = list(df_ts[li_hen].stack().unique())\n",
    "    plot_type = 'number of birds'\n",
    "    if nbr_bird_per_square_meter:\n",
    "        plot_type = plot_type+' per m2'\n",
    "    #sort the yaxis for the naming\n",
    "    s = sorted(dico_zone_order.items(), key=operator.itemgetter(1))\n",
    "    s = {x[1]:dico_zone_plot_name[x[0]] for x in s}\n",
    "\n",
    "    #create path where to save if not existing yet\n",
    "    path_ = os.path.join(path_extracted_data,'visual','Nbr_bird_In_Zone')\n",
    "    #create a director if not existing\n",
    "    if not os.path.exists(path_):\n",
    "        os.makedirs(path_)\n",
    "\n",
    "    #for each day draw a heatmap\n",
    "    for day in tqdm.tqdm(df_ts['day'].unique()):\n",
    "        df_ = df_ts[df_ts['day']==day].sort_values(['Timestamp'])\n",
    "        #xaxis might be different over the days, if not complete days, so we will take the appropriate timestamp\n",
    "        #take only the smallest timestamp per minute\n",
    "        Xaxis = df_.groupby(['hour','minute'])['Timestamp'].agg(lambda x: min(list(x))).reset_index()['Timestamp'].tolist()       \n",
    "        M = np.zeros(shape=(max(dico_zone_order.values())+1, len(Xaxis))) #+1 car starts from 0\n",
    "        for i,ts in enumerate(Xaxis):\n",
    "            #list of all zones happening on a particular timestamp that day\n",
    "            li = list(df_[df_['Timestamp']==ts][li_hen].values[0])\n",
    "            c = Counter(li)\n",
    "            #print(sum(list(c.values()))) \n",
    "            for zone_, order in dico_zone_order.items():\n",
    "                if zone_ in c:\n",
    "                    M[order][i] = c[zone_]\n",
    "                    if nbr_bird_per_square_meter:\n",
    "                        M[order][i] = M[order][i] / dico_zone_meter2[zone_]\n",
    "\n",
    "        #plot and save\n",
    "        #plt.figure()\n",
    "        plt.clf() # clears the entire current figure instead of plt.figure() which will create a new one, and hence keeping all figures\n",
    "        #in memory\n",
    "        #fig, ax = plt.subplots(figsize=(10,8))         #figsize in inches\n",
    "        sns.set(font_scale=0.6) \n",
    "        ax = sns.heatmap(M, cmap=\"YlGnBu\", yticklabels=[s.get(j,' ') for j in range(M.shape[0])],\n",
    "                   xticklabels=[':'.join(str(Xaxis[i]).split(' ')[1].split(':')[0:2]) if i%30==0 else '' for i in range(len(Xaxis))])  \n",
    "        ax.invert_yaxis()\n",
    "        plt.title(str(day).split('T')[0] +'      '+plot_type)\n",
    "        if save:\n",
    "            plt.savefig(os.path.join(path_,id_run+'_'+plot_type+'_'+str(day).split('T')[0]+'.png'), format='png', dpi=300)\n",
    "        #plt.show()\n",
    "        plt.close()\n",
    "        \n",
    "        #add a red point for each hen and save the hen plot\n",
    "        dico_zone_order_ = dico_zone_order.copy()\n",
    "        dico_zone_order_['nan'] = -0.5\n",
    "        if red_dot_for_each_hen:\n",
    "            for hen_ in li_hen:\n",
    "                #plot the whole heatmap again \n",
    "                path_plt = os.path.join(path_, id_run+'_'+plot_type+'_'+hen_+'_'+str(day).split('T')[0]+'.png')\n",
    "                p = glob.glob(path_plt)\n",
    "                if len(p)==1:\n",
    "                    continue\n",
    "             \n",
    "                plt.clf()\n",
    "                ax = sns.heatmap(M, cmap=\"YlGnBu\", yticklabels=[s.get(j,' ') for j in range(M.shape[0])],\n",
    "                           xticklabels=[':'.join(str(Xaxis[i]).split(' ')[1].split(':')[0:2]) if \\\n",
    "                                        i%30==0 else '' for i in range(len(Xaxis))])  \n",
    "                ax.invert_yaxis()\n",
    "                plt.title(str(day).split('T')[0]+'      '+plot_type+' and '+hen_ +' (red)')\n",
    "                #add info of the hen\n",
    "                li_zone_hen = df_[df_['Timestamp'].isin(Xaxis)][hen_].tolist()\n",
    "                li_zone_hen = [dico_zone_order_[str(x)]+0.5 for x in li_zone_hen] #0.5 to show it in the middle of the heatmap bar\n",
    "                ax.scatter(range(len(Xaxis)), li_zone_hen, marker='d', s=1, color='red') #s = size\n",
    "                if save:\n",
    "                    plt.savefig(path_plt, format='png', dpi=300, bbox_inches='tight') \n",
    "                #plt.show()    \n",
    "                plt.close()\n",
    "                \n",
    "    END_TIME = time.clock()\n",
    "    print (\"Total running time: %.2f mn\" %((END_TIME-START_TIME)/60))  \n",
    "    \n",
    "    "
   ]
  },
  {
   "cell_type": "code",
   "execution_count": null,
   "metadata": {},
   "outputs": [],
   "source": []
  },
  {
   "cell_type": "code",
   "execution_count": null,
   "metadata": {},
   "outputs": [],
   "source": []
  },
  {
   "cell_type": "code",
   "execution_count": null,
   "metadata": {},
   "outputs": [],
   "source": []
  },
  {
   "cell_type": "code",
   "execution_count": null,
   "metadata": {},
   "outputs": [],
   "source": []
  },
  {
   "cell_type": "code",
   "execution_count": null,
   "metadata": {},
   "outputs": [],
   "source": []
  },
  {
   "cell_type": "code",
   "execution_count": null,
   "metadata": {},
   "outputs": [],
   "source": []
  },
  {
   "cell_type": "code",
   "execution_count": null,
   "metadata": {},
   "outputs": [],
   "source": []
  },
  {
   "cell_type": "code",
   "execution_count": null,
   "metadata": {},
   "outputs": [],
   "source": []
  },
  {
   "cell_type": "code",
   "execution_count": null,
   "metadata": {},
   "outputs": [],
   "source": []
  }
 ],
 "metadata": {
  "kernelspec": {
   "display_name": "Python 3",
   "language": "python",
   "name": "python3"
  },
  "language_info": {
   "codemirror_mode": {
    "name": "ipython",
    "version": 3
   },
   "file_extension": ".py",
   "mimetype": "text/x-python",
   "name": "python",
   "nbconvert_exporter": "python",
   "pygments_lexer": "ipython3",
   "version": "3.6.10"
  }
 },
 "nbformat": 4,
 "nbformat_minor": 2
}
