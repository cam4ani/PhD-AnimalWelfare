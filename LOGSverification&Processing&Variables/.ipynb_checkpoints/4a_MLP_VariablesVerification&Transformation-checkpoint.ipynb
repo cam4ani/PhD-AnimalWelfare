{
 "cells": [
  {
   "cell_type": "code",
   "execution_count": null,
   "metadata": {},
   "outputs": [],
   "source": [
    "#basic package\n",
    "import tqdm\n",
    "import os\n",
    "import numpy as np\n",
    "import glob\n",
    "import pandas as pd\n",
    "import sys\n",
    "import time\n",
    "import datetime as dt\n",
    "import itertools\n",
    "import re\n",
    "import math\n",
    "import pickle #to download MLP vectors\n",
    "from scipy.stats import entropy\n",
    "\n",
    "#plot\n",
    "import matplotlib.pyplot as plt\n",
    "import seaborn as sns"
   ]
  },
  {
   "cell_type": "code",
   "execution_count": null,
   "metadata": {},
   "outputs": [],
   "source": [
    "PACKAGE_PARENT = '../'\n",
    "SCRIPT_DIR = os.path.dirname(os.path.realpath(os.path.join(os.getcwd(), os.path.expanduser('__file__'))))\n",
    "sys.path.append(os.path.normpath(os.path.join(SCRIPT_DIR, PACKAGE_PARENT)))\n",
    "from UTILS import preprocessing_Origins, nbrh_WG_open\n",
    "import config_origins as config"
   ]
  },
  {
   "cell_type": "raw",
   "metadata": {},
   "source": [
    "This notebook serves for two things\n",
    "1) verify the variables\n",
    "2) check things in variables when needed"
   ]
  },
  {
   "cell_type": "markdown",
   "metadata": {},
   "source": [
    "# Define parameters"
   ]
  },
  {
   "cell_type": "code",
   "execution_count": null,
   "metadata": {
    "scrolled": true
   },
   "outputs": [],
   "source": [
    "print('change the configuration file if not done yet!')\n",
    "path_extracted_data = config.path_extracted_data\n",
    "path_initial_data = config.path_initial_data\n",
    "dico_garden_opening_hour = config.dico_garden_opening_hour\n",
    "id_run = config.id_run\n",
    "dico_matching = config.dico_matching\n",
    "print(id_run)"
   ]
  },
  {
   "cell_type": "raw",
   "metadata": {},
   "source": [
    "to verify\n",
    "df_daily['latency_since15mnnestbox_h'] = df_daily['latency_since15mnnestbox'].map(lambda x: x/60)\n",
    "entropy!! verify max and histogram"
   ]
  },
  {
   "cell_type": "markdown",
   "metadata": {},
   "source": [
    "# Download data"
   ]
  },
  {
   "cell_type": "code",
   "execution_count": null,
   "metadata": {},
   "outputs": [],
   "source": [
    "#cleaned mvt data\n",
    "df_init = pd.read_csv(os.path.join(path_extracted_data, id_run+'_CLEANEDDATA.csv'), sep=';', parse_dates=['Timestamp', 'date']) \n",
    "print(df_init.shape)\n",
    "df_init.head(3)"
   ]
  },
  {
   "cell_type": "code",
   "execution_count": null,
   "metadata": {},
   "outputs": [],
   "source": [
    "#daily var\n",
    "df_daily = pd.read_csv(os.path.join(path_extracted_data, id_run+'_daily_ALL_variables.csv'), sep=';',\n",
    "                 parse_dates=['level', 'FirstTimestamp_1_Zone', 'FirstTimestamp_2_Zone', 'FirstTimestamp_3_Zone',\n",
    "                             'FirstTimestamp_4_Zone','FirstTimestamp_5_Zone'],\n",
    "                 dayfirst=True) \n",
    "print(df_daily.shape)\n",
    "df_daily.head(3)"
   ]
  },
  {
   "cell_type": "markdown",
   "metadata": {},
   "source": [
    "# Transformation - Could be added in UTILS if another run"
   ]
  },
  {
   "cell_type": "code",
   "execution_count": null,
   "metadata": {},
   "outputs": [],
   "source": [
    "#add tracking system ID\n",
    "df_daily['TrackingSystemID'] = df_daily['PenID'].map(lambda x: config.dico_pen_ts[x])\n",
    "display(df_daily['TrackingSystemID'].value_counts())"
   ]
  },
  {
   "cell_type": "code",
   "execution_count": null,
   "metadata": {},
   "outputs": [],
   "source": [
    "#add if animal is sleeping up \n",
    "df_daily['Is_Sleeping_UP'] = df_daily['night_Max_duration_zones'].isin(['5_Zone'])\n",
    "display(df_daily['Is_Sleeping_UP'].value_counts(normalize=True))\n",
    "#better than binary: height of sleeping\n",
    "print(df_daily.shape)\n",
    "df_daily = df_daily[~df_daily['night_Max_duration_zones'].isnull()]\n",
    "df_daily['SleepingHeight'] = df_daily['night_Max_duration_zones'].map(lambda x: int(x.split('_')[0])-2)#-2: litter (zon2: equal to 0 tiers underneath)\n",
    "display(df_daily['SleepingHeight'].value_counts(normalize=True))"
   ]
  },
  {
   "cell_type": "code",
   "execution_count": null,
   "metadata": {},
   "outputs": [],
   "source": [
    "#nbr transitions per hour. \n",
    "df_daily['nbr_h_WGopen'] = df_daily['level'].map(lambda x: nbrh_WG_open(config.dico_garden_opening_hour,x))\n",
    "li_ = ['vertical_travel_distance','nbr_stays_2_Zone','nbr_stays_3_Zone','nbr_stays_4_Zone','nbr_stays_5_Zone']\n",
    "for v in li_:\n",
    "    df_daily[v+'_perh'] = df_daily.apply(lambda x: x[v]/x['nbr_h_per_day'], axis=1)\n",
    "df_daily['nbr_stays_1_Zone_perh'] = df_daily.apply(lambda x: x['nbr_stays_1_Zone']/x['nbr_h_WGopen'], axis=1)\n",
    "df_daily[['vertical_travel_distance_perh','vertical_travel_distance', 'nbr_stays_3_Zone', 'nbr_stays_3_Zone_perh',\n",
    "        'nbr_h_per_day']].tail(3)"
   ]
  },
  {
   "cell_type": "code",
   "execution_count": null,
   "metadata": {},
   "outputs": [],
   "source": [
    "#add overal chaotic mvt\n",
    "li_chaotic = ['chaoticmvt_Middle1_Zone_nbr_180mn', 'chaoticmvt_Middle2_Zone_nbr_180mn', 'chaoticmvt_Middle3_Zone_nbr_180mn', \n",
    "              'chaoticmvt_Middle4_Zone_nbr_180mn']\n",
    "#rounding down\n",
    "df_daily['percChaoticTransition'] = df_daily.apply(lambda x: int(round(x[li_chaotic].sum() / x['Total_number_transition']*100,\n",
    "                                                                       0)) if x['Total_number_transition']>0 else np.nan, axis=1)\n",
    "df_daily.loc[df_daily['Total_number_transition']==0,'percChaoticTransition'] = 0\n",
    "df_daily[li_chaotic+['percChaoticTransition','Total_number_transition']]"
   ]
  },
  {
   "cell_type": "code",
   "execution_count": null,
   "metadata": {},
   "outputs": [],
   "source": [
    "display(list(df_daily.columns))"
   ]
  },
  {
   "cell_type": "markdown",
   "metadata": {},
   "source": [
    "# Dates tracked and name"
   ]
  },
  {
   "cell_type": "code",
   "execution_count": null,
   "metadata": {},
   "outputs": [],
   "source": [
    "#verify hen_129 is not here althought it was in focal bird with 0 workign tracked days!\n",
    "if df_daily[df_daily['HenID']=='hen_129'].shape[0]>0:\n",
    "    print('ERROR')\n",
    "    sys.exit()\n",
    "df_daily[df_daily['HenID']=='hen_129']"
   ]
  },
  {
   "cell_type": "code",
   "execution_count": null,
   "metadata": {},
   "outputs": [],
   "source": [
    "df_daily[df_daily['level']==dt.datetime(2020,9,30)][['PenID','nbr_h_per_day','correct_amount_of_hour','level']].head(5)"
   ]
  },
  {
   "cell_type": "code",
   "execution_count": null,
   "metadata": {},
   "outputs": [],
   "source": [
    "df_daily[['PenID','nbr_h_per_day','correct_amount_of_hour','level','Total_number_transition','verification_daily_total_duration']].head(5)"
   ]
  },
  {
   "cell_type": "code",
   "execution_count": null,
   "metadata": {},
   "outputs": [],
   "source": [
    "df_daily[['level','DIB','WIB','DOA','WOA']].head(5)"
   ]
  },
  {
   "cell_type": "markdown",
   "metadata": {},
   "source": [
    "# Daily Variables"
   ]
  },
  {
   "cell_type": "code",
   "execution_count": null,
   "metadata": {},
   "outputs": [],
   "source": [
    "li_var = list(df_daily.columns)\n",
    "li_general = ['HenID', 'level','PenID']\n",
    "li_var_TODO = li_var #keep track of the columns that still needs to be verified\n",
    "len(li_var_TODO)\n",
    "#display(list(li_var))"
   ]
  },
  {
   "cell_type": "code",
   "execution_count": null,
   "metadata": {},
   "outputs": [],
   "source": [
    "#print all column with nan\n",
    "#df_daily.columns[df_daily.isna().any()].tolist()"
   ]
  },
  {
   "cell_type": "markdown",
   "metadata": {},
   "source": [
    "## Hens variables + disturbances days"
   ]
  },
  {
   "cell_type": "code",
   "execution_count": null,
   "metadata": {},
   "outputs": [],
   "source": [
    "li_hens = ['CLASS','TagID','FocalLegringName','R-Pen','InitialStartDate']\n",
    "print(li_hens)"
   ]
  },
  {
   "cell_type": "code",
   "execution_count": null,
   "metadata": {},
   "outputs": [],
   "source": [
    "#specific bird (in pen 9, should not be  here on the 3,4,5, 8, 9 th of OCtober it should have NO data at all\n",
    "h = 'hen_90'\n",
    "d = dt.datetime(2020,10,10)\n",
    "df_daily[(df_daily['HenID']==h)&(df_daily['level']<=d)][li_general+li_hens+['duration_5_Zone',\n",
    "                                                                            'night_Max_duration_zones']].sort_values(['level'])"
   ]
  },
  {
   "cell_type": "code",
   "execution_count": null,
   "metadata": {},
   "outputs": [],
   "source": [
    "#verify that the day with weird device day (can be find here: *_df_alldeviceinfo) are removed\n",
    "#hen_147 - tag 82: 25.01-03.02 not working (due to rfid installation and then tag bugging) \n",
    "h = 'hen_147'\n",
    "dmin = dt.datetime(2021,1,24)\n",
    "dmax = dt.datetime(2021,2,10)\n",
    "df_daily[(df_daily['HenID']==h)&(df_daily['level']<=dmax)&(df_daily['level']>=dmin)][li_general+li_hens].sort_values(['level'])\n",
    "#TO CHECK: Pen ID here even when the day variables is not here?\n",
    "#TO DO AT THE END OF THE STUDY: check each indivudal case of GAP: e.g. tag 171 (hen 133) had big gaps on the 11.01.2021\n",
    "#sometimes its nan due to the student that wrote +-30/70 (weight 04-01-2021, pen 12)\n",
    "#CORRECT!"
   ]
  },
  {
   "cell_type": "code",
   "execution_count": null,
   "metadata": {},
   "outputs": [],
   "source": [
    "#update the list of variable that we still need to verify\n",
    "li_var_TODO = [i for i in li_var_TODO if i not in li_hens]\n",
    "len(li_var_TODO)"
   ]
  },
  {
   "cell_type": "markdown",
   "metadata": {},
   "source": [
    "# sample entropy"
   ]
  },
  {
   "cell_type": "code",
   "execution_count": null,
   "metadata": {},
   "outputs": [],
   "source": [
    "#what we did in utils:\n",
    "#add sample entropy without accounting on duration\n",
    "#df_daily['SampleEntropy'] = df_daily['list_of_zones'].map(lambda x: sampen([config.dico_zone_order[i] for i in x],\n",
    "#                                                                               r=0,m=2) if len(x)>5 else np.nan)\n",
    "df_daily[['distribution_entropy','list_of_zones']]"
   ]
  },
  {
   "cell_type": "code",
   "execution_count": null,
   "metadata": {},
   "outputs": [],
   "source": [
    "#max entropy with 5 zones\n",
    "nbr_zone = 5\n",
    "print(math.log(nbr_zone, 2), entropy([1,1,1,1,1],base=2))\n",
    "if round(math.log(nbr_zone, 2),8)!=round(entropy([1,1,1,1,1],base=2),8):\n",
    "    print('ERROR 1')\n",
    "    sys.exit()\n",
    "if df_daily['distribution_entropy'].max()>math.log(nbr_zone, 2):\n",
    "    print('ERROR 2')\n",
    "    sys.exit()"
   ]
  },
  {
   "cell_type": "code",
   "execution_count": null,
   "metadata": {},
   "outputs": [],
   "source": [
    "plt.hist(df_daily['distribution_entropy']);"
   ]
  },
  {
   "cell_type": "markdown",
   "metadata": {},
   "source": [
    "## Night"
   ]
  },
  {
   "cell_type": "raw",
   "metadata": {},
   "source": [
    "Note that \"nbr_transition_at_h*\" is a night variables, meaning that its at h8 of the level after (i.e. but during the night following the actual level). It was computed so thath we have 0 when the hour is not during the night, so ATTENTION for now we have for the hours>2 in the morning sometimes 0 just because the light was off, not because there was no transitions!!!!\n",
    "night_Max_duration_zones: is the zone where the hen stayed the longest consecutively (not the one with total longest duration: we prefer 4h than 3h and 2h)"
   ]
  },
  {
   "cell_type": "code",
   "execution_count": null,
   "metadata": {},
   "outputs": [],
   "source": [
    "li_night = [i for i in li_var_TODO if ('night' in i)|('nbr_transition_at_' in i)] +['nbr_transition_next1hafterlightoff']\n",
    "li_night"
   ]
  },
  {
   "cell_type": "code",
   "execution_count": null,
   "metadata": {},
   "outputs": [],
   "source": [
    "#another bird, based on:\n",
    "#df_daily[(df_daily['nbr_transition_at_h8']>3)&(df_daily['level']==dt.datetime(2020,10,7))].head(3)\n",
    "h = 'hen_24'\n",
    "d = dt.datetime(2020,10,7) #day of a change in the light schedule of the day: on the 7th it turned off at 18h and on the 8th it \n",
    "#turned on at 8h (not 9h sas it was on the 7th)\n",
    "df = df_init[(df_init['HenID']==h)&((df_init['date']==d)|(df_init['date']==(d+dt.timedelta(days=1))))]\n",
    "display(df_daily[(df_daily['HenID']==h)&((df_daily['level']==d)|(df_daily['level']==(d+dt.timedelta(days=1))))][li_general+li_night].sort_values(['level']))\n",
    "display(tuple(zip(df['Timestamp'].tolist(),df['Zone'].tolist())))\n",
    "#-->correct "
   ]
  },
  {
   "cell_type": "code",
   "execution_count": null,
   "metadata": {},
   "outputs": [],
   "source": [
    "#update the list of variable that we still need to verify\n",
    "li_var_TODO = [i for i in li_var_TODO if i not in li_night]\n",
    "print(len(li_var_TODO))"
   ]
  },
  {
   "cell_type": "markdown",
   "metadata": {},
   "source": [
    "## Transitions in aviary (zone 1, zone 2, zone 3, zone 4)"
   ]
  },
  {
   "cell_type": "markdown",
   "metadata": {},
   "source": [
    "#### first timestamp in each zones and latency"
   ]
  },
  {
   "cell_type": "raw",
   "metadata": {},
   "source": [
    "When its nan it means: never went to that zone that day\n",
    "FirstTimestamp_*_Zone: is the first timestamp when the bird was in that zone. If the bird was laready in this zone before the \"day \" started, it will be counted as well. Hence it's not necessarily due to a transition, but simply due to where is the bird at each time of the day."
   ]
  },
  {
   "cell_type": "code",
   "execution_count": null,
   "metadata": {},
   "outputs": [],
   "source": [
    "li_latency = [i for i in li_var if 'latency_' in i]\n",
    "li_first_timestamp = [i for i in li_var if 'FirstTimestamp' in i]+['Total_number_zone']"
   ]
  },
  {
   "cell_type": "code",
   "execution_count": null,
   "metadata": {},
   "outputs": [],
   "source": [
    "#random bird\n",
    "h = 'hen_89'\n",
    "d = dt.datetime(2020,11,18) #until 17h\n",
    "df = df_init[(df_init['HenID']==h)&(df_init['date']==d)]\n",
    "X = df_daily[(df_daily['HenID']==h)&(df_daily['level']==d)]\n",
    "display(X[li_general+li_first_timestamp+li_latency])\n",
    "display(tuple(zip(df['Timestamp'].tolist(),df['Zone'].tolist())))\n",
    "#-->correct!"
   ]
  },
  {
   "cell_type": "code",
   "execution_count": null,
   "metadata": {},
   "outputs": [],
   "source": [
    "#specific bird\n",
    "#df_daily[li_general+li_first_timestamp].head(3)\n",
    "h = 'hen_130'\n",
    "d = dt.datetime(2020,10,6)\n",
    "df = df_init[(df_init['HenID']==h)&(df_init['date']<=d)]\n",
    "X = df_daily[(df_daily['HenID']==h)&(df_daily['level']<=d)]\n",
    "display(X[li_general+li_first_timestamp+li_latency+['verification_daily_total_duration']])\n",
    "display(tuple(zip(df['Timestamp'].tolist(),df['Zone'].tolist())))\n",
    "#-->correct!"
   ]
  },
  {
   "cell_type": "code",
   "execution_count": null,
   "metadata": {
    "scrolled": false
   },
   "outputs": [],
   "source": [
    "#specific bird\n",
    "#df_daily[li_general+li_first_timestamp].head(3)\n",
    "h = 'hen_90'\n",
    "d = dt.datetime(2020,10,6) #3,4,5 : tracking should not be used\n",
    "df = df_init[(df_init['HenID']==h)&(df_init['date']==d)]\n",
    "X = df_daily[(df_daily['HenID']==h)&(df_daily['level']==d)]\n",
    "display(X[li_general+li_first_timestamp].sort_values(['level']))\n",
    "display(tuple(zip(df['Timestamp'].tolist(),df['Zone'].tolist())))\n",
    "#-->correct!"
   ]
  },
  {
   "cell_type": "code",
   "execution_count": null,
   "metadata": {},
   "outputs": [],
   "source": [
    "#update the list of variable that we still need to verify\n",
    "li_var_TODO = [i for i in li_var_TODO if i not in li_first_timestamp]\n",
    "li_var_TODO = [i for i in li_var_TODO if i not in li_latency]\n",
    "len(li_var_TODO)"
   ]
  },
  {
   "cell_type": "markdown",
   "metadata": {},
   "source": [
    "#### Chaotic/motor transition"
   ]
  },
  {
   "cell_type": "raw",
   "metadata": {},
   "source": [
    "chaoticmvt_Middle*_Zone: duration of the middle zone, will be counted as a \"chaotic event\" if its smaller than the li_nbr_sec_chaoticmvt_middle\n",
    "\n",
    "chaoticmvt_Middle*_Zone_nbr_**mn: the number of event where the middle stay was <= to **mn"
   ]
  },
  {
   "cell_type": "code",
   "execution_count": null,
   "metadata": {},
   "outputs": [],
   "source": [
    "li_chaotic = [x for x in li_var if 'chaotic' in x]"
   ]
  },
  {
   "cell_type": "code",
   "execution_count": null,
   "metadata": {},
   "outputs": [],
   "source": [
    "df_daily[['level','HenID','percChaoticTransition','Total_number_transition']+li_chaotic].head(5)"
   ]
  },
  {
   "cell_type": "code",
   "execution_count": null,
   "metadata": {},
   "outputs": [],
   "source": [
    "#random bird\n",
    "h = 'hen_89'\n",
    "#d = dt.datetime(2020,11,18)\n",
    "d = dt.datetime(2020,11,1)\n",
    "df = df_init[(df_init['HenID']==h)&(df_init['date']==d)]\n",
    "X = df_daily[(df_daily['HenID']==h)&(df_daily['level']==d)]\n",
    "display(X[li_chaotic])\n",
    "display(tuple(zip(df['Timestamp'].tolist(),df['Zone'].tolist())))\n",
    "display(dt.datetime(2020,11,1,11,55,56)-dt.datetime(2020,11,1,10,26,45),\n",
    "dt.datetime(2020,11,1,12,25,54)-dt.datetime(2020,11,1,12,20,19))\n",
    "#-->correct!"
   ]
  },
  {
   "cell_type": "code",
   "execution_count": null,
   "metadata": {},
   "outputs": [],
   "source": [
    "#specific bird\n",
    "#df_daily[df_daily['chaoticmvt_Middle2_Zone_nbr']>0][['HenID','level']+li_chaotic]\n",
    "h = 'hen_131'\n",
    "d = dt.datetime(2020,10,2)\n",
    "df = df_init[(df_init['HenID']==h)&(df_init['date']==d)]\n",
    "X = df_daily[(df_daily['HenID']==h)&(df_daily['level']==d)]\n",
    "display(X[li_chaotic])\n",
    "display(tuple(zip(df['Timestamp'].tolist(),df['Zone'].tolist())))\n",
    "display(dt.datetime(2020,10,2,9,37,35)-dt.datetime(2020,10,2,9,19,12),\n",
    "dt.datetime(2020,10,2,9,37,43)-dt.datetime(2020,10,2,9,37,35))\n",
    "#-->correct!"
   ]
  },
  {
   "cell_type": "code",
   "execution_count": null,
   "metadata": {},
   "outputs": [],
   "source": [
    "#update the list of variable that we still need to verify\n",
    "li_var_TODO = [i for i in li_var_TODO if i not in li_chaotic]\n",
    "len(li_var_TODO)"
   ]
  },
  {
   "cell_type": "markdown",
   "metadata": {},
   "source": [
    "### transitions & stays"
   ]
  },
  {
   "cell_type": "raw",
   "metadata": {},
   "source": [
    "t_DU_missingZone_mvtPerc: tuple: (percentage over the entire nbr of transitions, of the number of transition with at least one missing zone when going up, smae but going down, nbr of bouts of the day)\n",
    "note that: 4 to 1 or 4 to 2 count the same, it count as one flying-mvt"
   ]
  },
  {
   "cell_type": "code",
   "execution_count": null,
   "metadata": {},
   "outputs": [],
   "source": [
    "li_transition_rest = ['vertical_travel_distance','Total_number_transition']+[i for i in li_var if 'missing' in i]"
   ]
  },
  {
   "cell_type": "code",
   "execution_count": null,
   "metadata": {},
   "outputs": [],
   "source": [
    "#stay\n",
    "li_appearnces = ['nbr_appearances_3_Zone', 'nbr_appearances_4_Zone', 'nbr_appearances_5_Zone', 'nbr_appearances_2_Zone']\n",
    "li_nbr_stays = ['nbr_stays_1_Zone', 'nbr_stays_2_Zone', 'nbr_stays_3_Zone', 'nbr_stays_4_Zone', 'nbr_stays_5_Zone']\n",
    "li_nbr_stays_perh = ['nbr_stays_1_Zone_perh', 'nbr_stays_2_Zone_perh', 'nbr_stays_3_Zone_perh', 'nbr_stays_4_Zone_perh', \n",
    "                     'nbr_stays_5_Zone_perh']\n",
    "li_perc_stays = ['perc_'+c for c in li_nbr_stays]\n",
    "df_daily[li_appearnces+li_nbr_stays+li_nbr_stays_perh+li_perc_stays+['nbr_stays_total','nbr_h_per_day','Total_number_transition']]"
   ]
  },
  {
   "cell_type": "code",
   "execution_count": null,
   "metadata": {},
   "outputs": [],
   "source": [
    "#duration\n",
    "li_dur = ['duration_1_Zone', 'duration_2_Zone', 'duration_3_Zone', 'duration_4_Zone', 'duration_5_Zone']\n",
    "li_perc = ['perc_'+c for c in li_dur]\n",
    "df_daily[li_dur+li_perc]"
   ]
  },
  {
   "cell_type": "code",
   "execution_count": null,
   "metadata": {},
   "outputs": [],
   "source": [
    "#ratio dur and stay\n",
    "li_ratio = ['ratio_percdur_percstays_1_Zone', 'ratio_percdur_percstays_2_Zone', 'ratio_percdur_percstays_3_Zone', \n",
    "            'ratio_percdur_percstays_4_Zone', 'ratio_percdur_percstays_5_Zone']\n",
    "df_daily[li_perc+li_perc_stays+li_ratio]"
   ]
  },
  {
   "cell_type": "code",
   "execution_count": null,
   "metadata": {},
   "outputs": [],
   "source": [
    "#verify Total_number_zone==1 if and only if Total_number_transitions==0\n",
    "display(df_daily[df_daily['Total_number_transition']==0][['Total_number_transition','HenID','level','Total_number_zone']].head(3))\n",
    "display(df_daily[df_daily['Total_number_zone']==1][['Total_number_transition','HenID','level','Total_number_zone']].head(3))\n",
    "if df_daily[(df_daily['Total_number_zone']==1)|(df_daily['Total_number_transition']==0)].shape[0]!=df_daily[(df_daily['Total_number_zone']==1)&(df_daily['Total_number_transition']==0)].shape[0]:\n",
    "    print('ERROR: you dont have: Total_number_zone==1 if and only if Total_number_transitions==0')\n",
    "    sys.exit()"
   ]
  },
  {
   "cell_type": "code",
   "execution_count": null,
   "metadata": {
    "scrolled": false
   },
   "outputs": [],
   "source": [
    "#random bird\n",
    "h = 'hen_130'\n",
    "d = dt.datetime(2020,10,7)\n",
    "df = df_init[(df_init['HenID']==h)&(df_init['date']==d)]\n",
    "display(df_daily[(df_daily['HenID']==h)&(df_daily['level']==d)][li_general+li_transition_rest].sort_values(['level']))\n",
    "display(tuple(zip(df['Timestamp'].tolist(),df['Zone'].tolist())))\n",
    "#-->correct"
   ]
  },
  {
   "cell_type": "code",
   "execution_count": null,
   "metadata": {
    "scrolled": false
   },
   "outputs": [],
   "source": [
    "#another random bird\n",
    "h = 'hen_30'\n",
    "d = dt.datetime(2020,10,4) #9h-18h\n",
    "df = df_init[(df_init['HenID']==h)&(df_init['Timestamp']<=dt.datetime(2020,10,4,18,0,0))]\n",
    "display(df_daily[(df_daily['HenID']==h)&(df_daily['level']==d)][li_general+li_transition_rest].sort_values(['level']))\n",
    "display(tuple(zip(df['Timestamp'].tolist(),df['Zone'].tolist())))\n",
    "#vertical_travel_distance: 23 is correct (note: it came from 5 to 2 at 12:20:20)\n",
    "#down_missingZone_mvtPerc corret: 2/20*100=10% (one from 5 to 2 and one from 4 to 2), we had 20 transitions\n",
    "#--> correct"
   ]
  },
  {
   "cell_type": "code",
   "execution_count": null,
   "metadata": {},
   "outputs": [],
   "source": [
    "#same bird\n",
    "h = 'hen_30'\n",
    "d = dt.datetime(2020,10,4) #9h-18h\n",
    "df = df_init[(df_init['HenID']==h)&(df_init['Timestamp']<=dt.datetime(2020,10,4,18,0,0))]\n",
    "display(df_daily[(df_daily['HenID']==h)&(df_daily['level']==d)][li_general+li_nbr_stays].sort_values(['level']))\n",
    "display(tuple(zip(df['Timestamp'].tolist(),df['Zone'].tolist())))\n",
    "#vertical_travel_distance: 23 is correct (note: it came from 5 to 2 at 12:20:20)\n",
    "#total_number of transition: 21 rows including 2 repetitives so its 20\n",
    "#stay_longer_60sec_4_Zone: correct, it did not counted the one of <60seconds\n",
    "#down_missingZone_mvtPerc corret: 2/21*100=9,5% (one from 5 to 2 and one from 4 to 2)\n",
    "#stay_longer_60sec_4_Zone: correct, it did not counted the one of <60seconds\n",
    "#note that the stay_* is at amximum one mroe thant the total number of transition\n",
    "#total_number of transition: 21 rows including a repetition of 3_zone so its 20\n",
    "#--> correct"
   ]
  },
  {
   "cell_type": "code",
   "execution_count": null,
   "metadata": {},
   "outputs": [],
   "source": [
    "#update the list of variable that we still need to verify\n",
    "li_var_TODO = [i for i in li_var_TODO if i not in li_nbr_stays]\n",
    "li_var_TODO = [i for i in li_var_TODO if i not in li_transition_rest]\n",
    "li_var_TODO = [i for i in li_var_TODO if i not in li_nbr_stays_perh]\n",
    "li_var_TODO = [i for i in li_var_TODO if i not in li_perc_stays]\n",
    "li_var_TODO = [i for i in li_var_TODO if i not in li_appearnces]\n",
    "print(len(li_var_TODO))"
   ]
  },
  {
   "cell_type": "markdown",
   "metadata": {},
   "source": [
    "## duration"
   ]
  },
  {
   "cell_type": "code",
   "execution_count": null,
   "metadata": {},
   "outputs": [],
   "source": [
    "li_dur = [i for i in li_var_TODO if ('duration' in i)&('Nestbox' not in i)&('WG' not in i)&('night' not in i)]\n",
    "li_dur"
   ]
  },
  {
   "cell_type": "code",
   "execution_count": null,
   "metadata": {},
   "outputs": [],
   "source": [
    "df_daily[['ratio_percdur_percstays_3_Zone','duration_3_Zone','verification_daily_total_duration','perc_duration_3_Zone','nbr_stays_total','nbr_stays_3_Zone','perc_nbr_stays_3_Zone','nbr_appearances_3_Zone']]"
   ]
  },
  {
   "cell_type": "code",
   "execution_count": null,
   "metadata": {
    "scrolled": true
   },
   "outputs": [],
   "source": [
    "#same bird\n",
    "h = 'hen_130'\n",
    "d = dt.datetime(2020,10,7) #9h-18h is the day\n",
    "df = df_init[(df_init['HenID']==h)&(df_init['date']==d)]\n",
    "display(df_daily[(df_daily['HenID']==h)&(df_daily['level']==d)][li_general+li_dur].sort_values(['level']))\n",
    "display(tuple(zip(df['Timestamp'].tolist(),df['Zone'].tolist())))\n",
    "#duration_*_zone, correct:\n",
    "display(dt.datetime(2020,10,7,9,3,45)-dt.datetime(2020,10,7,9,0,0),#zone 3 #225\n",
    "dt.datetime(2020,10,7,9,7,11)-dt.datetime(2020,10,7,9,3,45), #zone 2 #206\n",
    "dt.datetime(2020,10,7,9,7,35)-dt.datetime(2020,10,7,9,7,11), #zone 3 #24\n",
    "dt.datetime(2020,10,7,9,9,45)-dt.datetime(2020,10,7,9,7,35), #zone 4 #130\n",
    "dt.datetime(2020,10,7,18,0,0)-dt.datetime(2020,10,7,9,9,45)) #zone 5 #31815\n",
    "#rest also correct\n",
    "#--> correct (should all be in seconds except when explicitely written \"_mn\")"
   ]
  },
  {
   "cell_type": "code",
   "execution_count": null,
   "metadata": {},
   "outputs": [],
   "source": [
    "#update the list of variable that we still need to verify\n",
    "li_var_TODO = [i for i in li_var_TODO if i not in li_dur]\n",
    "print(len(li_var_TODO))"
   ]
  },
  {
   "cell_type": "markdown",
   "metadata": {},
   "source": [
    "## Nestbox"
   ]
  },
  {
   "cell_type": "code",
   "execution_count": null,
   "metadata": {},
   "outputs": [],
   "source": [
    "li_nb = [i for i in li_var_TODO if 'Nestbox' in i]+ ['sucessIntrusion_9','NBtimefirstvisitlonger900_minus_time1visit']\n",
    "li_nb"
   ]
  },
  {
   "cell_type": "code",
   "execution_count": null,
   "metadata": {
    "scrolled": true
   },
   "outputs": [],
   "source": [
    "#same bird\n",
    "#22.11.2020: from 3h to 17h the light is on: day time\n",
    "h = 'hen_54'\n",
    "d = dt.datetime(2020,11,22) #late date to have nestbox usage\n",
    "df = df_init[(df_init['HenID']==h)&(df_init['date']==d)]\n",
    "display(df_daily[(df_daily['HenID']==h)&(df_daily['level']==d)][li_general+li_nb].sort_values(['level']))\n",
    "display(tuple(zip(df['Timestamp'].tolist(),df['Zone'].tolist())))\n",
    "display((dt.datetime(2020,11,22,5,13,10)-dt.datetime(2020,11,22,4,45,21)).total_seconds())\n",
    "display((dt.datetime(2020,11,22,4,45,21)-dt.datetime(2020,11,22,4,15,21)).total_seconds())\n",
    "#CORRECT!\n",
    "#Note that: B10h_Nestbox_nbrvisit is the number of visits DURING DAY TIME in the test box"
   ]
  },
  {
   "cell_type": "code",
   "execution_count": null,
   "metadata": {},
   "outputs": [],
   "source": [
    "#update the list of variable that we still need to verify\n",
    "li_var_TODO = [i for i in li_var_TODO if i not in li_nb]\n",
    "print(len(li_var_TODO))\n",
    "display(li_var_TODO)"
   ]
  },
  {
   "cell_type": "markdown",
   "metadata": {},
   "source": [
    "## WG"
   ]
  },
  {
   "cell_type": "code",
   "execution_count": null,
   "metadata": {},
   "outputs": [],
   "source": [
    "li_wg = [i for i in li_var_TODO if 'WG' in i]+[i for i in df_daily.columns if '1_Zone' in i]+['duration_1_Zone']\n",
    "li_wg\n",
    "#'in_WG_15mnAfterOpening', 'Max_duration_WG', latency1_zone, perc_1_Zone_while_WG_open"
   ]
  },
  {
   "cell_type": "code",
   "execution_count": null,
   "metadata": {
    "scrolled": true
   },
   "outputs": [],
   "source": [
    "#TODO: verify!\n",
    "print(config.date_first_opening_WG)\n",
    "df_daily[df_daily['level']<config.date_first_opening_WG][['HenID','level']+li_wg]"
   ]
  },
  {
   "cell_type": "code",
   "execution_count": null,
   "metadata": {},
   "outputs": [],
   "source": [
    "df_daily[df_daily['level']>=config.date_first_opening_WG][['HenID','level','is_mvt_night']+li_wg]"
   ]
  },
  {
   "cell_type": "code",
   "execution_count": null,
   "metadata": {},
   "outputs": [],
   "source": [
    "#bird based on : df_daily[df_daily['Max_duration_WG']>0].tail(15)\n",
    "h = 'hen_98'\n",
    "d = dt.datetime(2021,1,10)  #10h a 16h20(to be checked with new data)\n",
    "df = df_init[(df_init['HenID']==h)&(df_init['date']==d)]\n",
    "display(df_daily[(df_daily['HenID']==h)&(df_daily['level']==d)][li_general+li_wg].sort_values(['level']))\n",
    "display(tuple(zip(df['Timestamp'].tolist(),df['Zone'].tolist())))\n",
    "#-->correct"
   ]
  },
  {
   "cell_type": "code",
   "execution_count": null,
   "metadata": {},
   "outputs": [],
   "source": [
    "#random bird\n",
    "h = 'hen_12'\n",
    "d = dt.datetime(2021,1,9)  #10h a 16h20(to be checked with new data)\n",
    "df = df_init[(df_init['HenID']==h)&(df_init['date']==d)]\n",
    "display(df_daily[(df_daily['HenID']==h)&(df_daily['level']==d)][li_general+li_wg].sort_values(['level']))\n",
    "display(tuple(zip(df['Timestamp'].tolist(),df['Zone'].tolist())))\n",
    "display(dt.datetime(2021,1,15,9,14)-dt.datetime(2021,1,15,8,58),\n",
    "       dt.datetime(2021,1,15,10,55)-dt.datetime(2021,1,15,9,23))\n",
    "#Correct"
   ]
  },
  {
   "cell_type": "code",
   "execution_count": null,
   "metadata": {},
   "outputs": [],
   "source": [
    "#update the list of variable that we still need to verify\n",
    "li_var_TODO = [i for i in li_var_TODO if i not in li_wg]\n",
    "print(len(li_var_TODO))\n",
    "display(li_var_TODO)"
   ]
  },
  {
   "cell_type": "markdown",
   "metadata": {},
   "source": [
    "## Activity"
   ]
  },
  {
   "cell_type": "code",
   "execution_count": null,
   "metadata": {},
   "outputs": [],
   "source": [
    "li_activity = [i for i in li_var_TODO if ('activity' in i)|('percentile' in i)]\n",
    "li_activity"
   ]
  },
  {
   "cell_type": "code",
   "execution_count": null,
   "metadata": {},
   "outputs": [],
   "source": [
    "#verify nan\n",
    "df_daily[['Total_number_transition','activity_5percentile_h','activity_25percentile_h','activity_50percentile_h','activity_95percentile_h']]"
   ]
  },
  {
   "cell_type": "code",
   "execution_count": null,
   "metadata": {},
   "outputs": [],
   "source": [
    "#random bird\n",
    "h = 'hen_98'\n",
    "d = dt.datetime(2021,1,10)  #10h a 16h20(to be checked with new data)\n",
    "df = df_init[(df_init['HenID']==h)&(df_init['date']==d)]\n",
    "display(df_daily[(df_daily['HenID']==h)&(df_daily['level']==d)][li_general+li_activity].sort_values(['level']))\n",
    "display(tuple(zip(df['Timestamp'].tolist(),df['Zone'].tolist())))\n",
    "#-->correct "
   ]
  },
  {
   "cell_type": "code",
   "execution_count": null,
   "metadata": {},
   "outputs": [],
   "source": [
    "#update the list of variable that we still need to verify\n",
    "li_var_TODO = [i for i in li_var_TODO if i not in li_activity]\n",
    "print(len(li_var_TODO))\n",
    "display(li_var_TODO)"
   ]
  },
  {
   "cell_type": "markdown",
   "metadata": {},
   "source": [
    "## emproba"
   ]
  },
  {
   "cell_type": "code",
   "execution_count": null,
   "metadata": {},
   "outputs": [],
   "source": [
    "li_proba = ['empproba_2_Zone','empproba_3_Zone','empproba_4_Zone'] #not that we implemented only for those zones"
   ]
  },
  {
   "cell_type": "code",
   "execution_count": null,
   "metadata": {},
   "outputs": [],
   "source": [
    "#random-already used bird\n",
    "#by defintion:  its the emp prba of going up as e.g.:\n",
    "#li = [1,1,1,1,2,2,2,3,3,4,4,2,2,4,1,2] --> [1,2,3,4,3,2,3,4,3,2,1,2] --> {2: 0.6666666666666666, 3: 0.5, 4: 0.0}\n",
    "h = 'hen_98'\n",
    "d = dt.datetime(2021,1,10)\n",
    "df = df_init[(df_init['HenID']==h)&(df_init['date']==d)]\n",
    "display(df_daily[(df_daily['HenID']==h)&(df_daily['level']==d)][li_general+li_proba].sort_values(['level']))\n",
    "display(tuple(zip(df['Timestamp'].tolist(),df['Zone'].tolist())))\n",
    "#-->correct "
   ]
  },
  {
   "cell_type": "code",
   "execution_count": null,
   "metadata": {},
   "outputs": [],
   "source": [
    "#update the list of variable that we still need to verify\n",
    "li_var_TODO = [i for i in li_var_TODO if i not in li_proba]\n",
    "print(len(li_var_TODO))\n",
    "display(li_var_TODO)"
   ]
  },
  {
   "cell_type": "markdown",
   "metadata": {},
   "source": [
    "## Other"
   ]
  },
  {
   "cell_type": "markdown",
   "metadata": {},
   "source": [
    "print(len(li_var_TODO))\n",
    "display(li_var_TODO)\n",
    "-_> only: distribution_entropy and verification_daily_total_duration is important, the rest is meant to help debugung in case of errors"
   ]
  },
  {
   "cell_type": "code",
   "execution_count": null,
   "metadata": {},
   "outputs": [],
   "source": [
    "df_daily['verification_daily_total_duration'].value_counts()"
   ]
  },
  {
   "cell_type": "code",
   "execution_count": null,
   "metadata": {},
   "outputs": [],
   "source": [
    "df_daily[df_daily['verification_daily_total_duration']==28800]['level'].value_counts() #on the 30 septemebr: 9h-17h was the \n",
    "#light on: 8h=28'800\n",
    "#2020-09-30: first full day, but for the chicken that never moved since they enter the day before, they still hav no data\n",
    "#Correct!"
   ]
  },
  {
   "cell_type": "code",
   "execution_count": null,
   "metadata": {},
   "outputs": [],
   "source": [
    "display(df_daily[df_daily['verification_daily_total_duration']<28800]['HenID'].value_counts())\n",
    "df_daily[df_daily['verification_daily_total_duration']<28800]['level'].value_counts()\n",
    "#2020-09-30: first full day, but for the chicken that never moved since they enter the day before, they still hav no data"
   ]
  },
  {
   "cell_type": "code",
   "execution_count": null,
   "metadata": {},
   "outputs": [],
   "source": [
    "df_daily[df_daily['verification_daily_total_duration']<28800][li_general+['verification_daily_total_duration']+\\\n",
    "                                                               li_first_timestamp]\n",
    "#can appear in any zone... we dont know from when on, where th ebird was before going there, so we can only remove those days\n",
    "#for those specific chickens\n",
    "#TODO at the end of experiment: CHECK ALL CASES ONE BY ONE"
   ]
  },
  {
   "cell_type": "code",
   "execution_count": null,
   "metadata": {},
   "outputs": [],
   "source": [
    "#how does equally does bird spend their time in the different zones\n",
    "plt.hist(df_daily['distribution_entropy'].dropna(),bins='auto');"
   ]
  },
  {
   "cell_type": "markdown",
   "metadata": {},
   "source": [
    "# Save and last verification"
   ]
  },
  {
   "cell_type": "code",
   "execution_count": null,
   "metadata": {},
   "outputs": [],
   "source": [
    "#final selected variables (for now)\n",
    "li_h = ['HenID','PenID','CLASS','TagID','FocalLegringName','R-Pen','InitialStartDate', 'Treatment','level','DIB','WIB','DOA','WOA',\n",
    "        'verification_daily_total_duration','TrackingSystemID']\n",
    "li_mvt = ['perc_duration_2_Zone','perc_duration_3_Zone','perc_duration_4_Zone','perc_duration_5_Zone', #for first two months\n",
    "        'duration_1_Zone','duration_2_Zone','duration_3_Zone','duration_4_Zone','duration_5_Zone', #for all, easier to analyse\n",
    "        'nbr_stays_1_Zone', 'nbr_stays_2_Zone','nbr_stays_3_Zone','nbr_stays_4_Zone','nbr_stays_5_Zone',\n",
    "        'nbr_stays_1_Zone_perh', 'nbr_stays_2_Zone_perh', 'nbr_stays_3_Zone_perh', 'nbr_stays_4_Zone_perh','nbr_stays_5_Zone_perh',\n",
    "        'ratio_percdur_percstays_2_Zone','ratio_percdur_percstays_3_Zone','ratio_percdur_percstays_4_Zone','ratio_percdur_percstays_5_Zone',\n",
    "        'latency_2_Zone_h','latency_3_Zone_h','latency_4_Zone_h','latency_5_Zone_h','latency_since15mnnestbox_h',\n",
    "        'Total_number_transition','nbr_stays_total','distribution_entropy','Total_number_zone','Max_duration_zones',\n",
    "        'vertical_travel_distance','vertical_travel_distance_perh','activity_5percentile_h','activity_50percentile_h','activity_95percentile_h','percChaoticTransition',\n",
    "        'night_Max_duration_zones','is_mvt_night', #not more as flickering: more attention\n",
    "        'empproba_3_Zone', 'empproba_4_Zone', 'empproba_2_Zone',\n",
    "        'in_WG_15mnAfterOpening', 'Max_duration_WG_h', 'perc_1_Zone_while_WG_open',\n",
    "         'SleepingHeight']\n",
    "li_2keep = li_h + li_mvt"
   ]
  },
  {
   "cell_type": "code",
   "execution_count": null,
   "metadata": {},
   "outputs": [],
   "source": [
    "#print(list(df_daily.columns))"
   ]
  },
  {
   "cell_type": "code",
   "execution_count": null,
   "metadata": {},
   "outputs": [],
   "source": [
    "df_daily.filter(li_2keep).to_csv(os.path.join(path_extracted_data, id_run+'_daily_ALL_variables_verified.csv'),sep=';',index=False)\n",
    "print(df_daily.shape)\n",
    "df_daily.head(3)"
   ]
  },
  {
   "cell_type": "code",
   "execution_count": null,
   "metadata": {},
   "outputs": [],
   "source": []
  },
  {
   "cell_type": "code",
   "execution_count": null,
   "metadata": {},
   "outputs": [],
   "source": []
  },
  {
   "cell_type": "code",
   "execution_count": null,
   "metadata": {},
   "outputs": [],
   "source": []
  },
  {
   "cell_type": "code",
   "execution_count": null,
   "metadata": {},
   "outputs": [],
   "source": []
  },
  {
   "cell_type": "code",
   "execution_count": null,
   "metadata": {},
   "outputs": [],
   "source": []
  },
  {
   "cell_type": "code",
   "execution_count": null,
   "metadata": {},
   "outputs": [],
   "source": []
  },
  {
   "cell_type": "code",
   "execution_count": null,
   "metadata": {},
   "outputs": [],
   "source": []
  },
  {
   "cell_type": "code",
   "execution_count": null,
   "metadata": {},
   "outputs": [],
   "source": []
  }
 ],
 "metadata": {
  "kernelspec": {
   "display_name": "Python 3",
   "language": "python",
   "name": "python3"
  },
  "language_info": {
   "codemirror_mode": {
    "name": "ipython",
    "version": 3
   },
   "file_extension": ".py",
   "mimetype": "text/x-python",
   "name": "python",
   "nbconvert_exporter": "python",
   "pygments_lexer": "ipython3",
   "version": "3.8.5"
  }
 },
 "nbformat": 4,
 "nbformat_minor": 2
}
