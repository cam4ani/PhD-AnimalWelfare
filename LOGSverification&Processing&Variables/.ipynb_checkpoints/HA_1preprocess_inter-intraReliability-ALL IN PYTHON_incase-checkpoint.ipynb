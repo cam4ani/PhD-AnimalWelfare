{
 "cells": [
  {
   "cell_type": "code",
   "execution_count": 1,
   "metadata": {},
   "outputs": [
    {
     "name": "stderr",
     "output_type": "stream",
     "text": [
      "C:\\Users\\camil\\anaconda3\\lib\\site-packages\\outdated\\utils.py:14: OutdatedPackageWarning: The package pingouin is out of date. Your version is 0.3.8, the latest is 0.3.12.\n",
      "Set the environment variable OUTDATED_IGNORE=1 to disable these warnings.\n",
      "  return warn(\n",
      "C:\\Users\\camil\\anaconda3\\lib\\site-packages\\outdated\\utils.py:14: OutdatedPackageWarning: The package outdated is out of date. Your version is 0.2.0, the latest is 0.2.1.\n",
      "Set the environment variable OUTDATED_IGNORE=1 to disable these warnings.\n",
      "  return warn(\n"
     ]
    }
   ],
   "source": [
    "#basic package\n",
    "import tqdm\n",
    "import os\n",
    "import numpy as np\n",
    "import glob\n",
    "import pandas as pd\n",
    "import sys\n",
    "import time\n",
    "import datetime as dt\n",
    "import itertools\n",
    "import re\n",
    "import math\n",
    "from collections import Counter\n",
    "import operator\n",
    "from scipy import stats\n",
    "from dtaidistance import dtw\n",
    "\n",
    "import pingouin as pg #ICC\n",
    "from sklearn import metrics\n",
    "from sklearn.metrics import cohen_kappa_score #Kappas\n",
    "\n",
    "#plot\n",
    "import matplotlib.pyplot as plt\n",
    "import seaborn as sns\n",
    "import dexplot as dxp #for barplot\n",
    "from mpl_toolkits.mplot3d import Axes3D"
   ]
  },
  {
   "cell_type": "code",
   "execution_count": 2,
   "metadata": {},
   "outputs": [
    {
     "name": "stdout",
     "output_type": "stream",
     "text": [
      "2\n"
     ]
    },
    {
     "name": "stderr",
     "output_type": "stream",
     "text": [
      "C:\\Users\\camil\\anaconda3\\lib\\site-packages\\scipy\\sparse\\sparsetools.py:21: DeprecationWarning: `scipy.sparse.sparsetools` is deprecated!\n",
      "scipy.sparse.sparsetools is a private module for scipy.sparse, and should not be used.\n",
      "  _deprecated()\n"
     ]
    }
   ],
   "source": [
    "PACKAGE_PARENT = '../'\n",
    "SCRIPT_DIR = os.path.dirname(os.path.realpath(os.path.join(os.getcwd(), os.path.expanduser('__file__'))))\n",
    "sys.path.append(os.path.normpath(os.path.join(SCRIPT_DIR, PACKAGE_PARENT)))\n",
    "from UTILS import chi2_distance, ts_visual, time_series_henColumn_tsRow, correct_key, FB_daily\n",
    "import config_origins as config"
   ]
  },
  {
   "cell_type": "raw",
   "metadata": {},
   "source": [
    "reliability_CM, reliability_SS are kept separate as sometimes one of the group missed a bird, in which case this bird will be kept in reliability dataset for only one of the group."
   ]
  },
  {
   "cell_type": "markdown",
   "metadata": {},
   "source": [
    "# Define parameters"
   ]
  },
  {
   "cell_type": "code",
   "execution_count": 3,
   "metadata": {
    "scrolled": true
   },
   "outputs": [
    {
     "name": "stdout",
     "output_type": "stream",
     "text": [
      "change the configuration file if not done yet!\n",
      "correctlightschedule_\n"
     ]
    },
    {
     "name": "stderr",
     "output_type": "stream",
     "text": [
      "C:\\Users\\camil\\anaconda3\\lib\\site-packages\\ipykernel\\ipkernel.py:283: DeprecationWarning: `should_run_async` will not call `transform_cell` automatically in the future. Please pass the result to `transformed_cell` argument and any exception that happen during thetransform in `preprocessing_exc_tuple` in IPython 7.17 and above.\n",
      "  and should_run_async(code)\n"
     ]
    }
   ],
   "source": [
    "print('change the configuration file if not done yet!')\n",
    "path_extracted_data = config.path_extracted_data\n",
    "path_dataoutput = config.path_dataoutput\n",
    "path_initial_data = config.path_initial_data\n",
    "id_run = config.id_run\n",
    "dico_HAID_date = config.dico_HAID_date\n",
    "path_extracted_HA = config.path_extracted_HA\n",
    "path_extracted_HA_visual = config.path_extracted_HA_visual\n",
    "path_extracted_data_SNA = config.path_extracted_data_SNA\n",
    "#create a director if not existing\n",
    "if not os.path.exists(path_extracted_HA_visual):\n",
    "    os.makedirs(path_extracted_HA_visual)\n",
    "print(id_run)"
   ]
  },
  {
   "cell_type": "markdown",
   "metadata": {},
   "source": [
    "# Download variables"
   ]
  },
  {
   "cell_type": "code",
   "execution_count": 4,
   "metadata": {
    "scrolled": true
   },
   "outputs": [
    {
     "name": "stderr",
     "output_type": "stream",
     "text": [
      "C:\\Users\\camil\\anaconda3\\lib\\site-packages\\ipykernel\\ipkernel.py:283: DeprecationWarning: `should_run_async` will not call `transform_cell` automatically in the future. Please pass the result to `transformed_cell` argument and any exception that happen during thetransform in `preprocessing_exc_tuple` in IPython 7.17 and above.\n",
      "  and should_run_async(code)\n"
     ]
    },
    {
     "name": "stdout",
     "output_type": "stream",
     "text": [
      "--------------------- HA1\n"
     ]
    },
    {
     "name": "stderr",
     "output_type": "stream",
     "text": [
      "C:\\Users\\camil\\anaconda3\\lib\\site-packages\\IPython\\core\\interactiveshell.py:3146: DtypeWarning: Columns (0,1,3,4,6,16) have mixed types.Specify dtype option on import or set low_memory=False.\n",
      "  has_raised = await self.run_ast_nodes(code_ast.body, cell_name,\n"
     ]
    },
    {
     "name": "stdout",
     "output_type": "stream",
     "text": [
      "(257, 20)\n",
      "--------------------- HA2\n",
      "(256, 30)\n",
      "--------------------- HA3\n"
     ]
    },
    {
     "name": "stderr",
     "output_type": "stream",
     "text": [
      "C:\\Users\\camil\\anaconda3\\lib\\site-packages\\IPython\\core\\interactiveshell.py:3146: DtypeWarning: Columns (0,1,3,6,15,16,17,26) have mixed types.Specify dtype option on import or set low_memory=False.\n",
      "  has_raised = await self.run_ast_nodes(code_ast.body, cell_name,\n"
     ]
    },
    {
     "name": "stdout",
     "output_type": "stream",
     "text": [
      "(260, 30)\n",
      "--------------------- HA4\n"
     ]
    },
    {
     "name": "stderr",
     "output_type": "stream",
     "text": [
      "C:\\Users\\camil\\anaconda3\\lib\\site-packages\\IPython\\core\\interactiveshell.py:3146: DtypeWarning: Columns (0,1,3,6,15,16,17,18) have mixed types.Specify dtype option on import or set low_memory=False.\n",
      "  has_raised = await self.run_ast_nodes(code_ast.body, cell_name,\n"
     ]
    },
    {
     "name": "stdout",
     "output_type": "stream",
     "text": [
      "(273, 30)\n",
      "Index(['Person_toe', 'Time', 'PenID', 'FocalLegringName', 'BirdType',\n",
      "       'CombPecks', 'Toes', 'RFPododermatitis', 'RFBumblefoot', 'RFinjuries',\n",
      "       'LFPododermatitis', 'LFBumblefoot', 'LFinjuries', 'Reliability_MC',\n",
      "       'PassageID_toe', 'Diarrhea', 'Commentaires', 'SomeHenID', 'HAID',\n",
      "       'date', 'Claw', 'Person_feather', 'Reliability_SS', 'PassageID_feather',\n",
      "       'NeckFeather', 'BreastFeather', 'CloacaFeather', 'BackFeather',\n",
      "       'WingFeather', 'TailFeather'],\n",
      "      dtype='object')\n",
      "(1046, 30)\n"
     ]
    },
    {
     "data": {
      "text/html": [
       "<div>\n",
       "<style scoped>\n",
       "    .dataframe tbody tr th:only-of-type {\n",
       "        vertical-align: middle;\n",
       "    }\n",
       "\n",
       "    .dataframe tbody tr th {\n",
       "        vertical-align: top;\n",
       "    }\n",
       "\n",
       "    .dataframe thead th {\n",
       "        text-align: right;\n",
       "    }\n",
       "</style>\n",
       "<table border=\"1\" class=\"dataframe\">\n",
       "  <thead>\n",
       "    <tr style=\"text-align: right;\">\n",
       "      <th></th>\n",
       "      <th>Person_toe</th>\n",
       "      <th>Time</th>\n",
       "      <th>PenID</th>\n",
       "      <th>FocalLegringName</th>\n",
       "      <th>BirdType</th>\n",
       "      <th>CombPecks</th>\n",
       "      <th>Toes</th>\n",
       "      <th>RFPododermatitis</th>\n",
       "      <th>RFBumblefoot</th>\n",
       "      <th>RFinjuries</th>\n",
       "      <th>...</th>\n",
       "      <th>Claw</th>\n",
       "      <th>Person_feather</th>\n",
       "      <th>Reliability_SS</th>\n",
       "      <th>PassageID_feather</th>\n",
       "      <th>NeckFeather</th>\n",
       "      <th>BreastFeather</th>\n",
       "      <th>CloacaFeather</th>\n",
       "      <th>BackFeather</th>\n",
       "      <th>WingFeather</th>\n",
       "      <th>TailFeather</th>\n",
       "    </tr>\n",
       "  </thead>\n",
       "  <tbody>\n",
       "    <tr>\n",
       "      <th>0</th>\n",
       "      <td>M</td>\n",
       "      <td>16:15</td>\n",
       "      <td>pen3</td>\n",
       "      <td>1green</td>\n",
       "      <td>normal</td>\n",
       "      <td>0.0</td>\n",
       "      <td>NaN</td>\n",
       "      <td>0.0</td>\n",
       "      <td>0.0</td>\n",
       "      <td>0.0</td>\n",
       "      <td>...</td>\n",
       "      <td>NaN</td>\n",
       "      <td>NaN</td>\n",
       "      <td>NaN</td>\n",
       "      <td>NaN</td>\n",
       "      <td>NaN</td>\n",
       "      <td>NaN</td>\n",
       "      <td>NaN</td>\n",
       "      <td>NaN</td>\n",
       "      <td>NaN</td>\n",
       "      <td>NaN</td>\n",
       "    </tr>\n",
       "    <tr>\n",
       "      <th>1</th>\n",
       "      <td>M</td>\n",
       "      <td>13:59</td>\n",
       "      <td>pen5</td>\n",
       "      <td>10green</td>\n",
       "      <td>epi</td>\n",
       "      <td>0.0</td>\n",
       "      <td>NaN</td>\n",
       "      <td>0.0</td>\n",
       "      <td>0.0</td>\n",
       "      <td>0.0</td>\n",
       "      <td>...</td>\n",
       "      <td>NaN</td>\n",
       "      <td>NaN</td>\n",
       "      <td>NaN</td>\n",
       "      <td>NaN</td>\n",
       "      <td>NaN</td>\n",
       "      <td>NaN</td>\n",
       "      <td>NaN</td>\n",
       "      <td>NaN</td>\n",
       "      <td>NaN</td>\n",
       "      <td>NaN</td>\n",
       "    </tr>\n",
       "    <tr>\n",
       "      <th>2</th>\n",
       "      <td>M</td>\n",
       "      <td>16:14</td>\n",
       "      <td>pen3</td>\n",
       "      <td>11grey</td>\n",
       "      <td>normal</td>\n",
       "      <td>88.0</td>\n",
       "      <td>NaN</td>\n",
       "      <td>0.0</td>\n",
       "      <td>0.0</td>\n",
       "      <td>0.0</td>\n",
       "      <td>...</td>\n",
       "      <td>NaN</td>\n",
       "      <td>NaN</td>\n",
       "      <td>NaN</td>\n",
       "      <td>NaN</td>\n",
       "      <td>NaN</td>\n",
       "      <td>NaN</td>\n",
       "      <td>NaN</td>\n",
       "      <td>NaN</td>\n",
       "      <td>NaN</td>\n",
       "      <td>NaN</td>\n",
       "    </tr>\n",
       "  </tbody>\n",
       "</table>\n",
       "<p>3 rows × 30 columns</p>\n",
       "</div>"
      ],
      "text/plain": [
       "  Person_toe   Time PenID FocalLegringName BirdType  CombPecks Toes  \\\n",
       "0          M  16:15  pen3           1green   normal        0.0  NaN   \n",
       "1          M  13:59  pen5          10green      epi        0.0  NaN   \n",
       "2          M  16:14  pen3           11grey   normal       88.0  NaN   \n",
       "\n",
       "   RFPododermatitis  RFBumblefoot  RFinjuries  ...  Claw  Person_feather  \\\n",
       "0               0.0           0.0         0.0  ...   NaN             NaN   \n",
       "1               0.0           0.0         0.0  ...   NaN             NaN   \n",
       "2               0.0           0.0         0.0  ...   NaN             NaN   \n",
       "\n",
       "   Reliability_SS  PassageID_feather  NeckFeather BreastFeather CloacaFeather  \\\n",
       "0             NaN                NaN          NaN           NaN           NaN   \n",
       "1             NaN                NaN          NaN           NaN           NaN   \n",
       "2             NaN                NaN          NaN           NaN           NaN   \n",
       "\n",
       "   BackFeather WingFeather TailFeather  \n",
       "0          NaN         NaN         NaN  \n",
       "1          NaN         NaN         NaN  \n",
       "2          NaN         NaN         NaN  \n",
       "\n",
       "[3 rows x 30 columns]"
      ]
     },
     "execution_count": 4,
     "metadata": {},
     "output_type": "execute_result"
    }
   ],
   "source": [
    "#HA - feather & leg injuries/podo/bumble\n",
    "#search in any folder and create a list of img paths\n",
    "#os.walk: Python method walk() generates the file names in a directory tree by walking the tree top-down or bottom-up\n",
    "#to avoid saving images several times, we will do it specifically for images in the KBF folder:\n",
    "li_df = []\n",
    "for path_ in glob.glob(os.path.join(path_dataoutput, 'HA', 'HA*', 'HA*.csv')):\n",
    "    HAID = path_.split('\\\\')[-1].split('.')[0]\n",
    "    print('---------------------', HAID)\n",
    "    df_ = pd.read_csv(path_, sep=';') \n",
    "    df_['HAID'] = HAID\n",
    "    df_['date'] = dico_HAID_date[HAID]\n",
    "    df_ = df_.rename(columns={'Pen ':'Pen'})\n",
    "    df_ = df_[~df_['FocalLegringName'].isnull()]\n",
    "    print(df_.shape)\n",
    "    #print(df_.columns)\n",
    "    #display(df_.head(2))\n",
    "    li_df.append(df_)\n",
    "df_HA = pd.concat(li_df)\n",
    "#small typo corrections\n",
    "df_HA['BirdType'] = df_HA['BirdType'].fillna('normal')\n",
    "df_HA['BirdType'] = df_HA['BirdType'].map(lambda x: x.strip(' '))\n",
    "df_HA = df_HA.rename(columns={'Pen':'PenID'})\n",
    "df_HA['PenID'] = df_HA['PenID'].map(lambda x: 'pen'+str(int(x)))\n",
    "print(df_HA.columns)\n",
    "print(df_HA.shape)\n",
    "df_HA.head(3)"
   ]
  },
  {
   "cell_type": "markdown",
   "metadata": {},
   "source": [
    "# Processing"
   ]
  },
  {
   "cell_type": "code",
   "execution_count": 5,
   "metadata": {},
   "outputs": [
    {
     "name": "stderr",
     "output_type": "stream",
     "text": [
      "C:\\Users\\camil\\anaconda3\\lib\\site-packages\\ipykernel\\ipkernel.py:283: DeprecationWarning: `should_run_async` will not call `transform_cell` automatically in the future. Please pass the result to `transformed_cell` argument and any exception that happen during thetransform in `preprocessing_exc_tuple` in IPython 7.17 and above.\n",
      "  and should_run_async(code)\n"
     ]
    },
    {
     "data": {
      "text/html": [
       "<div>\n",
       "<style scoped>\n",
       "    .dataframe tbody tr th:only-of-type {\n",
       "        vertical-align: middle;\n",
       "    }\n",
       "\n",
       "    .dataframe tbody tr th {\n",
       "        vertical-align: top;\n",
       "    }\n",
       "\n",
       "    .dataframe thead th {\n",
       "        text-align: right;\n",
       "    }\n",
       "</style>\n",
       "<table border=\"1\" class=\"dataframe\">\n",
       "  <thead>\n",
       "    <tr style=\"text-align: right;\">\n",
       "      <th></th>\n",
       "      <th>Person_toe</th>\n",
       "      <th>Time</th>\n",
       "      <th>PenID</th>\n",
       "      <th>FocalLegringName</th>\n",
       "      <th>BirdType</th>\n",
       "      <th>CombPecks</th>\n",
       "      <th>Toes</th>\n",
       "      <th>RFPododermatitis</th>\n",
       "      <th>RFBumblefoot</th>\n",
       "      <th>RFinjuries</th>\n",
       "      <th>...</th>\n",
       "      <th>CloacaFeather</th>\n",
       "      <th>BackFeather</th>\n",
       "      <th>WingFeather</th>\n",
       "      <th>TailFeather</th>\n",
       "      <th>Injuries</th>\n",
       "      <th>Pododermatitis</th>\n",
       "      <th>Bumblefoot</th>\n",
       "      <th>Toes_inflammed</th>\n",
       "      <th>BigInjuriesOrInflammed</th>\n",
       "      <th>Feathers</th>\n",
       "    </tr>\n",
       "  </thead>\n",
       "  <tbody>\n",
       "    <tr>\n",
       "      <th>0</th>\n",
       "      <td>M</td>\n",
       "      <td>16:15</td>\n",
       "      <td>pen3</td>\n",
       "      <td>1green</td>\n",
       "      <td>normal</td>\n",
       "      <td>0.0</td>\n",
       "      <td></td>\n",
       "      <td>0.0</td>\n",
       "      <td>0.0</td>\n",
       "      <td>0.0</td>\n",
       "      <td>...</td>\n",
       "      <td>NaN</td>\n",
       "      <td>NaN</td>\n",
       "      <td>NaN</td>\n",
       "      <td>NaN</td>\n",
       "      <td>0.0</td>\n",
       "      <td>0.0</td>\n",
       "      <td>0.0</td>\n",
       "      <td>False</td>\n",
       "      <td>0</td>\n",
       "      <td>NaN</td>\n",
       "    </tr>\n",
       "    <tr>\n",
       "      <th>1</th>\n",
       "      <td>M</td>\n",
       "      <td>13:59</td>\n",
       "      <td>pen5</td>\n",
       "      <td>10green</td>\n",
       "      <td>epi</td>\n",
       "      <td>0.0</td>\n",
       "      <td></td>\n",
       "      <td>0.0</td>\n",
       "      <td>0.0</td>\n",
       "      <td>0.0</td>\n",
       "      <td>...</td>\n",
       "      <td>NaN</td>\n",
       "      <td>NaN</td>\n",
       "      <td>NaN</td>\n",
       "      <td>NaN</td>\n",
       "      <td>0.0</td>\n",
       "      <td>0.0</td>\n",
       "      <td>0.0</td>\n",
       "      <td>False</td>\n",
       "      <td>0</td>\n",
       "      <td>NaN</td>\n",
       "    </tr>\n",
       "    <tr>\n",
       "      <th>2</th>\n",
       "      <td>M</td>\n",
       "      <td>16:14</td>\n",
       "      <td>pen3</td>\n",
       "      <td>11grey</td>\n",
       "      <td>normal</td>\n",
       "      <td>88.0</td>\n",
       "      <td></td>\n",
       "      <td>0.0</td>\n",
       "      <td>0.0</td>\n",
       "      <td>0.0</td>\n",
       "      <td>...</td>\n",
       "      <td>NaN</td>\n",
       "      <td>NaN</td>\n",
       "      <td>NaN</td>\n",
       "      <td>NaN</td>\n",
       "      <td>0.0</td>\n",
       "      <td>0.0</td>\n",
       "      <td>0.0</td>\n",
       "      <td>False</td>\n",
       "      <td>0</td>\n",
       "      <td>NaN</td>\n",
       "    </tr>\n",
       "  </tbody>\n",
       "</table>\n",
       "<p>3 rows × 36 columns</p>\n",
       "</div>"
      ],
      "text/plain": [
       "  Person_toe   Time PenID FocalLegringName BirdType  CombPecks Toes  \\\n",
       "0          M  16:15  pen3           1green   normal        0.0        \n",
       "1          M  13:59  pen5          10green      epi        0.0        \n",
       "2          M  16:14  pen3           11grey   normal       88.0        \n",
       "\n",
       "   RFPododermatitis  RFBumblefoot  RFinjuries  ...  CloacaFeather  \\\n",
       "0               0.0           0.0         0.0  ...            NaN   \n",
       "1               0.0           0.0         0.0  ...            NaN   \n",
       "2               0.0           0.0         0.0  ...            NaN   \n",
       "\n",
       "   BackFeather  WingFeather  TailFeather  Injuries  Pododermatitis Bumblefoot  \\\n",
       "0          NaN          NaN          NaN       0.0             0.0        0.0   \n",
       "1          NaN          NaN          NaN       0.0             0.0        0.0   \n",
       "2          NaN          NaN          NaN       0.0             0.0        0.0   \n",
       "\n",
       "   Toes_inflammed BigInjuriesOrInflammed Feathers  \n",
       "0           False                      0      NaN  \n",
       "1           False                      0      NaN  \n",
       "2           False                      0      NaN  \n",
       "\n",
       "[3 rows x 36 columns]"
      ]
     },
     "execution_count": 5,
     "metadata": {},
     "output_type": "execute_result"
    }
   ],
   "source": [
    "#add variables\n",
    "#overall pododeratitis: should be worst over time, so only HA4\n",
    "df_HA['Injuries'] = df_HA.apply(lambda x: x['LFinjuries']+x['RFinjuries'], axis=1)\n",
    "df_HA['Pododermatitis'] = df_HA.apply(lambda x: x['RFPododermatitis']+x['LFPododermatitis'], axis=1)\n",
    "df_HA['Bumblefoot'] = df_HA.apply(lambda x: x['RFBumblefoot']+x['LFBumblefoot'], axis=1)\n",
    "df_HA['Toes'] = df_HA['Toes'].fillna('')\n",
    "df_HA['Toes_inflammed'] = df_HA['Toes'].map(lambda x: 'inflammed' in x.lower())\n",
    "df_HA['BigInjuriesOrInflammed'] = df_HA.apply(lambda x: 1 if ((x['LFinjuries']>=100) | (x['RFinjuries']>=100) |\\\n",
    "                                                              (x['Toes_inflammed']==1)) else 0, axis=1)\n",
    "df_HA['Diarrhea'] = df_HA['Diarrhea'].replace('N/A',np.nan).replace('N/A ',np.nan)\n",
    "df_HA['Diarrhea'] = df_HA['Diarrhea'].astype(float)\n",
    "df_HA['Diarrhea'] = df_HA['Diarrhea'].map(lambda x: 1 if x==2 else x)\n",
    "#overall feather as in general have the same tendency\n",
    "df_HA['Feathers'] = df_HA.apply(lambda x: np.mean([x['NeckFeather'],x['BreastFeather'],x['CloacaFeather'],\n",
    "                                                   x['WingFeather'],x['TailFeather']]), axis=1)\n",
    "#backfeather removed as not reliable at all\n",
    "df_HA.head(3)"
   ]
  },
  {
   "cell_type": "markdown",
   "metadata": {},
   "source": [
    "display(df_HA['BigInjuriesOrInflammed'].value_counts())\n",
    "display(df_HA['Toes'].value_counts())\n",
    "display(df_HA['Claw'].value_counts())"
   ]
  },
  {
   "cell_type": "code",
   "execution_count": 6,
   "metadata": {},
   "outputs": [
    {
     "name": "stderr",
     "output_type": "stream",
     "text": [
      "C:\\Users\\camil\\anaconda3\\lib\\site-packages\\ipykernel\\ipkernel.py:283: DeprecationWarning: `should_run_async` will not call `transform_cell` automatically in the future. Please pass the result to `transformed_cell` argument and any exception that happen during thetransform in `preprocessing_exc_tuple` in IPython 7.17 and above.\n",
      "  and should_run_async(code)\n"
     ]
    }
   ],
   "source": [
    "#initialize set of variables\n",
    "#keep LeftFoot and RightFoot separate due to slightly different conditions that might influence the realiability (e.g. 2 \n",
    "#legrings on one side, e.g. how the students hold the birds)\n",
    "li_cont_T = ['CombPecks', 'RFPododermatitis', 'RFinjuries', 'LFPododermatitis', 'LFinjuries','Injuries','Pododermatitis']\n",
    "li_cat_T = ['Diarrhea','RFBumblefoot', 'LFBumblefoot', 'Bumblefoot','BigInjuriesOrInflammed']\n",
    "li_cont_F = ['Feathers','NeckFeather', 'BreastFeather', 'CloacaFeather', 'BackFeather', 'WingFeather','TailFeather']"
   ]
  },
  {
   "cell_type": "markdown",
   "metadata": {},
   "source": [
    "# Toes"
   ]
  },
  {
   "cell_type": "code",
   "execution_count": 7,
   "metadata": {},
   "outputs": [
    {
     "name": "stdout",
     "output_type": "stream",
     "text": [
      "(472, 36)\n"
     ]
    },
    {
     "name": "stderr",
     "output_type": "stream",
     "text": [
      "C:\\Users\\camil\\anaconda3\\lib\\site-packages\\ipykernel\\ipkernel.py:283: DeprecationWarning: `should_run_async` will not call `transform_cell` automatically in the future. Please pass the result to `transformed_cell` argument and any exception that happen during thetransform in `preprocessing_exc_tuple` in IPython 7.17 and above.\n",
      "  and should_run_async(code)\n"
     ]
    },
    {
     "data": {
      "text/html": [
       "<div>\n",
       "<style scoped>\n",
       "    .dataframe tbody tr th:only-of-type {\n",
       "        vertical-align: middle;\n",
       "    }\n",
       "\n",
       "    .dataframe tbody tr th {\n",
       "        vertical-align: top;\n",
       "    }\n",
       "\n",
       "    .dataframe thead th {\n",
       "        text-align: right;\n",
       "    }\n",
       "</style>\n",
       "<table border=\"1\" class=\"dataframe\">\n",
       "  <thead>\n",
       "    <tr style=\"text-align: right;\">\n",
       "      <th></th>\n",
       "      <th>Person_toe</th>\n",
       "      <th>Time</th>\n",
       "      <th>PenID</th>\n",
       "      <th>FocalLegringName</th>\n",
       "      <th>BirdType</th>\n",
       "      <th>CombPecks</th>\n",
       "      <th>Toes</th>\n",
       "      <th>RFPododermatitis</th>\n",
       "      <th>RFBumblefoot</th>\n",
       "      <th>RFinjuries</th>\n",
       "      <th>...</th>\n",
       "      <th>CloacaFeather</th>\n",
       "      <th>BackFeather</th>\n",
       "      <th>WingFeather</th>\n",
       "      <th>TailFeather</th>\n",
       "      <th>Injuries</th>\n",
       "      <th>Pododermatitis</th>\n",
       "      <th>Bumblefoot</th>\n",
       "      <th>Toes_inflammed</th>\n",
       "      <th>BigInjuriesOrInflammed</th>\n",
       "      <th>Feathers</th>\n",
       "    </tr>\n",
       "  </thead>\n",
       "  <tbody>\n",
       "    <tr>\n",
       "      <th>14</th>\n",
       "      <td>C</td>\n",
       "      <td>10:07</td>\n",
       "      <td>pen4</td>\n",
       "      <td>17orange</td>\n",
       "      <td>normal</td>\n",
       "      <td>75.0</td>\n",
       "      <td></td>\n",
       "      <td>0.0</td>\n",
       "      <td>0.0</td>\n",
       "      <td>0.0</td>\n",
       "      <td>...</td>\n",
       "      <td>NaN</td>\n",
       "      <td>NaN</td>\n",
       "      <td>NaN</td>\n",
       "      <td>NaN</td>\n",
       "      <td>0.0</td>\n",
       "      <td>0.0</td>\n",
       "      <td>0.0</td>\n",
       "      <td>False</td>\n",
       "      <td>0</td>\n",
       "      <td>NaN</td>\n",
       "    </tr>\n",
       "    <tr>\n",
       "      <th>15</th>\n",
       "      <td>C</td>\n",
       "      <td>10:45</td>\n",
       "      <td>pen4</td>\n",
       "      <td>17orange</td>\n",
       "      <td>normal</td>\n",
       "      <td>100.0</td>\n",
       "      <td></td>\n",
       "      <td>0.0</td>\n",
       "      <td>0.0</td>\n",
       "      <td>0.0</td>\n",
       "      <td>...</td>\n",
       "      <td>NaN</td>\n",
       "      <td>NaN</td>\n",
       "      <td>NaN</td>\n",
       "      <td>NaN</td>\n",
       "      <td>0.0</td>\n",
       "      <td>0.0</td>\n",
       "      <td>0.0</td>\n",
       "      <td>False</td>\n",
       "      <td>0</td>\n",
       "      <td>NaN</td>\n",
       "    </tr>\n",
       "    <tr>\n",
       "      <th>16</th>\n",
       "      <td>M</td>\n",
       "      <td>10:04</td>\n",
       "      <td>pen4</td>\n",
       "      <td>17orange</td>\n",
       "      <td>normal</td>\n",
       "      <td>25.0</td>\n",
       "      <td></td>\n",
       "      <td>0.0</td>\n",
       "      <td>0.0</td>\n",
       "      <td>0.0</td>\n",
       "      <td>...</td>\n",
       "      <td>NaN</td>\n",
       "      <td>NaN</td>\n",
       "      <td>NaN</td>\n",
       "      <td>NaN</td>\n",
       "      <td>0.0</td>\n",
       "      <td>0.0</td>\n",
       "      <td>0.0</td>\n",
       "      <td>False</td>\n",
       "      <td>0</td>\n",
       "      <td>NaN</td>\n",
       "    </tr>\n",
       "  </tbody>\n",
       "</table>\n",
       "<p>3 rows × 36 columns</p>\n",
       "</div>"
      ],
      "text/plain": [
       "   Person_toe   Time PenID FocalLegringName BirdType  CombPecks Toes  \\\n",
       "14          C  10:07  pen4         17orange   normal       75.0        \n",
       "15          C  10:45  pen4         17orange   normal      100.0        \n",
       "16          M  10:04  pen4         17orange   normal       25.0        \n",
       "\n",
       "    RFPododermatitis  RFBumblefoot  RFinjuries  ...  CloacaFeather  \\\n",
       "14               0.0           0.0         0.0  ...            NaN   \n",
       "15               0.0           0.0         0.0  ...            NaN   \n",
       "16               0.0           0.0         0.0  ...            NaN   \n",
       "\n",
       "    BackFeather  WingFeather  TailFeather  Injuries  Pododermatitis  \\\n",
       "14          NaN          NaN          NaN       0.0             0.0   \n",
       "15          NaN          NaN          NaN       0.0             0.0   \n",
       "16          NaN          NaN          NaN       0.0             0.0   \n",
       "\n",
       "   Bumblefoot  Toes_inflammed BigInjuriesOrInflammed Feathers  \n",
       "14        0.0           False                      0      NaN  \n",
       "15        0.0           False                      0      NaN  \n",
       "16        0.0           False                      0      NaN  \n",
       "\n",
       "[3 rows x 36 columns]"
      ]
     },
     "execution_count": 7,
     "metadata": {},
     "output_type": "execute_result"
    }
   ],
   "source": [
    "df_HA_T = df_HA[(df_HA['Reliability_MC']==1)&(~df_HA['Person_toe'].isnull())&(~df_HA['PassageID_toe'].isnull())].copy()\n",
    "print(df_HA_T.shape)\n",
    "df_HA_T.head(3)"
   ]
  },
  {
   "cell_type": "code",
   "execution_count": 8,
   "metadata": {
    "scrolled": true
   },
   "outputs": [
    {
     "name": "stderr",
     "output_type": "stream",
     "text": [
      "C:\\Users\\camil\\anaconda3\\lib\\site-packages\\ipykernel\\ipkernel.py:283: DeprecationWarning: `should_run_async` will not call `transform_cell` automatically in the future. Please pass the result to `transformed_cell` argument and any exception that happen during thetransform in `preprocessing_exc_tuple` in IPython 7.17 and above.\n",
      "  and should_run_async(code)\n"
     ]
    },
    {
     "data": {
      "text/plain": [
       "M    236\n",
       "C    236\n",
       "Name: Person_toe, dtype: int64"
      ]
     },
     "metadata": {},
     "output_type": "display_data"
    },
    {
     "name": "stdout",
     "output_type": "stream",
     "text": [
      "(2832, 4)\n"
     ]
    },
    {
     "data": {
      "text/html": [
       "<div>\n",
       "<style scoped>\n",
       "    .dataframe tbody tr th:only-of-type {\n",
       "        vertical-align: middle;\n",
       "    }\n",
       "\n",
       "    .dataframe tbody tr th {\n",
       "        vertical-align: top;\n",
       "    }\n",
       "\n",
       "    .dataframe thead th {\n",
       "        text-align: right;\n",
       "    }\n",
       "</style>\n",
       "<table border=\"1\" class=\"dataframe\">\n",
       "  <thead>\n",
       "    <tr style=\"text-align: right;\">\n",
       "      <th>Person_toe</th>\n",
       "      <th>ID4Rea</th>\n",
       "      <th>C</th>\n",
       "      <th>M</th>\n",
       "      <th>HAvariable</th>\n",
       "    </tr>\n",
       "  </thead>\n",
       "  <tbody>\n",
       "    <tr>\n",
       "      <th>0</th>\n",
       "      <td>pen10_HA2_18orange_1</td>\n",
       "      <td>0.0</td>\n",
       "      <td>0.0</td>\n",
       "      <td>CombPecks</td>\n",
       "    </tr>\n",
       "    <tr>\n",
       "      <th>1</th>\n",
       "      <td>pen10_HA2_18orange_2</td>\n",
       "      <td>0.0</td>\n",
       "      <td>0.0</td>\n",
       "      <td>CombPecks</td>\n",
       "    </tr>\n",
       "    <tr>\n",
       "      <th>2</th>\n",
       "      <td>pen10_HA2_39black_1</td>\n",
       "      <td>50.0</td>\n",
       "      <td>50.0</td>\n",
       "      <td>CombPecks</td>\n",
       "    </tr>\n",
       "  </tbody>\n",
       "</table>\n",
       "</div>"
      ],
      "text/plain": [
       "Person_toe                ID4Rea     C     M HAvariable\n",
       "0           pen10_HA2_18orange_1   0.0   0.0  CombPecks\n",
       "1           pen10_HA2_18orange_2   0.0   0.0  CombPecks\n",
       "2            pen10_HA2_39black_1  50.0  50.0  CombPecks"
      ]
     },
     "metadata": {},
     "output_type": "display_data"
    },
    {
     "name": "stdout",
     "output_type": "stream",
     "text": [
      "-------------------------------------------------------\n",
      "CombPecks\n"
     ]
    },
    {
     "data": {
      "image/png": "[encoded data removed]",
      "text/plain": [
       "<Figure size 432x288 with 1 Axes>"
      ]
     },
     "metadata": {
      "needs_background": "light"
     },
     "output_type": "display_data"
    },
    {
     "name": "stdout",
     "output_type": "stream",
     "text": [
      "    Type              Description    ICC      F  df1  df2  pval         CI95%\n",
      "0   ICC1   Single raters absolute  0.726  6.302  235  236   0.0  [0.66, 0.78]\n",
      "1   ICC2     Single random raters  0.732  7.559  235  235   0.0  [0.59, 0.82]\n",
      "2   ICC3      Single fixed raters  0.766  7.559  235  235   0.0  [0.71, 0.81]\n",
      "3  ICC1k  Average raters absolute  0.841  6.302  235  236   0.0   [0.8, 0.88]\n",
      "4  ICC2k    Average random raters  0.845  7.559  235  235   0.0   [0.74, 0.9]\n",
      "5  ICC3k     Average fixed raters  0.868  7.559  235  235   0.0   [0.83, 0.9]\n",
      "-------------------------------------------------------\n",
      "RFPododermatitis\n"
     ]
    },
    {
     "data": {
      "image/png": "[encoded data removed]",
      "text/plain": [
       "<Figure size 432x288 with 1 Axes>"
      ]
     },
     "metadata": {
      "needs_background": "light"
     },
     "output_type": "display_data"
    },
    {
     "name": "stdout",
     "output_type": "stream",
     "text": [
      "    Type              Description    ICC      F  df1  df2  pval         CI95%\n",
      "0   ICC1   Single raters absolute  0.735  6.553  235  236   0.0  [0.67, 0.79]\n",
      "1   ICC2     Single random raters  0.736  6.699  235  235   0.0  [0.67, 0.79]\n",
      "2   ICC3      Single fixed raters  0.740  6.699  235  235   0.0  [0.68, 0.79]\n",
      "3  ICC1k  Average raters absolute  0.847  6.553  235  236   0.0   [0.8, 0.88]\n",
      "4  ICC2k    Average random raters  0.848  6.699  235  235   0.0   [0.8, 0.88]\n",
      "5  ICC3k     Average fixed raters  0.851  6.699  235  235   0.0  [0.81, 0.88]\n",
      "-------------------------------------------------------\n",
      "RFinjuries\n"
     ]
    },
    {
     "data": {
      "image/png": "[encoded data removed]",
      "text/plain": [
       "<Figure size 432x288 with 1 Axes>"
      ]
     },
     "metadata": {
      "needs_background": "light"
     },
     "output_type": "display_data"
    },
    {
     "name": "stdout",
     "output_type": "stream",
     "text": [
      "    Type              Description    ICC      F  df1  df2  pval         CI95%\n",
      "0   ICC1   Single raters absolute  0.612  4.155  235  236   0.0  [0.53, 0.69]\n",
      "1   ICC2     Single random raters  0.612  4.154  235  235   0.0  [0.53, 0.69]\n",
      "2   ICC3      Single fixed raters  0.612  4.154  235  235   0.0  [0.53, 0.69]\n",
      "3  ICC1k  Average raters absolute  0.759  4.155  235  236   0.0  [0.69, 0.81]\n",
      "4  ICC2k    Average random raters  0.759  4.154  235  235   0.0  [0.69, 0.81]\n",
      "5  ICC3k     Average fixed raters  0.759  4.154  235  235   0.0  [0.69, 0.81]\n",
      "-------------------------------------------------------\n",
      "LFPododermatitis\n"
     ]
    },
    {
     "data": {
      "image/png": "[encoded data removed]",
      "text/plain": [
       "<Figure size 432x288 with 1 Axes>"
      ]
     },
     "metadata": {
      "needs_background": "light"
     },
     "output_type": "display_data"
    },
    {
     "name": "stdout",
     "output_type": "stream",
     "text": [
      "    Type              Description    ICC      F  df1  df2  pval         CI95%\n",
      "0   ICC1   Single raters absolute  0.790  8.537  235  236   0.0  [0.74, 0.83]\n",
      "1   ICC2     Single random raters  0.790  8.604  235  235   0.0  [0.74, 0.83]\n",
      "2   ICC3      Single fixed raters  0.792  8.604  235  235   0.0  [0.74, 0.83]\n",
      "3  ICC1k  Average raters absolute  0.883  8.537  235  236   0.0  [0.85, 0.91]\n",
      "4  ICC2k    Average random raters  0.883  8.604  235  235   0.0  [0.85, 0.91]\n",
      "5  ICC3k     Average fixed raters  0.884  8.604  235  235   0.0  [0.85, 0.91]\n",
      "-------------------------------------------------------\n",
      "LFinjuries\n"
     ]
    },
    {
     "data": {
      "image/png": "[encoded data removed]",
      "text/plain": [
       "<Figure size 432x288 with 1 Axes>"
      ]
     },
     "metadata": {
      "needs_background": "light"
     },
     "output_type": "display_data"
    },
    {
     "name": "stdout",
     "output_type": "stream",
     "text": [
      "    Type              Description    ICC      F  df1  df2  pval         CI95%\n",
      "0   ICC1   Single raters absolute  0.407  2.373  235  236   0.0   [0.3, 0.51]\n",
      "1   ICC2     Single random raters  0.407  2.371  235  235   0.0  [0.29, 0.51]\n",
      "2   ICC3      Single fixed raters  0.407  2.371  235  235   0.0  [0.29, 0.51]\n",
      "3  ICC1k  Average raters absolute  0.579  2.373  235  236   0.0  [0.46, 0.67]\n",
      "4  ICC2k    Average random raters  0.578  2.371  235  235   0.0  [0.46, 0.67]\n",
      "5  ICC3k     Average fixed raters  0.578  2.371  235  235   0.0  [0.45, 0.67]\n",
      "-------------------------------------------------------\n",
      "Injuries\n"
     ]
    },
    {
     "data": {
      "image/png": "[encoded data removed]",
      "text/plain": [
       "<Figure size 432x288 with 1 Axes>"
      ]
     },
     "metadata": {
      "needs_background": "light"
     },
     "output_type": "display_data"
    },
    {
     "name": "stdout",
     "output_type": "stream",
     "text": [
      "    Type              Description    ICC      F  df1  df2  pval         CI95%\n",
      "0   ICC1   Single raters absolute  0.480  2.848  235  236   0.0  [0.38, 0.57]\n",
      "1   ICC2     Single random raters  0.480  2.836  235  235   0.0  [0.37, 0.57]\n",
      "2   ICC3      Single fixed raters  0.479  2.836  235  235   0.0  [0.37, 0.57]\n",
      "3  ICC1k  Average raters absolute  0.649  2.848  235  236   0.0  [0.55, 0.73]\n",
      "4  ICC2k    Average random raters  0.648  2.836  235  235   0.0  [0.55, 0.73]\n",
      "5  ICC3k     Average fixed raters  0.647  2.836  235  235   0.0  [0.54, 0.73]\n",
      "-------------------------------------------------------\n",
      "Pododermatitis\n"
     ]
    },
    {
     "data": {
      "image/png": "[encoded data removed]",
      "text/plain": [
       "<Figure size 432x288 with 1 Axes>"
      ]
     },
     "metadata": {
      "needs_background": "light"
     },
     "output_type": "display_data"
    },
    {
     "name": "stdout",
     "output_type": "stream",
     "text": [
      "    Type              Description    ICC      F  df1  df2  pval         CI95%\n",
      "0   ICC1   Single raters absolute  0.788  8.434  235  236   0.0  [0.73, 0.83]\n",
      "1   ICC2     Single random raters  0.789  8.660  235  235   0.0  [0.73, 0.83]\n",
      "2   ICC3      Single fixed raters  0.793  8.660  235  235   0.0  [0.74, 0.84]\n",
      "3  ICC1k  Average raters absolute  0.881  8.434  235  236   0.0  [0.85, 0.91]\n",
      "4  ICC2k    Average random raters  0.882  8.660  235  235   0.0  [0.85, 0.91]\n",
      "5  ICC3k     Average fixed raters  0.885  8.660  235  235   0.0  [0.85, 0.91]\n",
      "-------------------------------------------------------\n",
      "Diarrhea\n",
      "0.8397662172327991 (213, 3)\n",
      "-------------------------------------------------------\n",
      "RFBumblefoot\n",
      "1.0 (236, 3)\n",
      "-------------------------------------------------------\n",
      "LFBumblefoot\n",
      "0.8867562380038387 (236, 3)\n",
      "-------------------------------------------------------\n",
      "Bumblefoot\n",
      "0.9209115281501341 (236, 3)\n",
      "-------------------------------------------------------\n",
      "BigInjuriesOrInflammed\n",
      "0.3544857768052516 (236, 3)\n"
     ]
    },
    {
     "name": "stderr",
     "output_type": "stream",
     "text": [
      "C:\\Users\\camil\\anaconda3\\lib\\site-packages\\pandas\\core\\computation\\expressions.py:68: FutureWarning: elementwise comparison failed; returning scalar instead, but in the future will perform elementwise comparison\n",
      "  return op(a, b)\n",
      "C:\\Users\\camil\\anaconda3\\lib\\site-packages\\pandas\\core\\computation\\expressions.py:68: FutureWarning: elementwise comparison failed; returning scalar instead, but in the future will perform elementwise comparison\n",
      "  return op(a, b)\n",
      "C:\\Users\\camil\\anaconda3\\lib\\site-packages\\pandas\\core\\computation\\expressions.py:68: FutureWarning: elementwise comparison failed; returning scalar instead, but in the future will perform elementwise comparison\n",
      "  return op(a, b)\n",
      "C:\\Users\\camil\\anaconda3\\lib\\site-packages\\pandas\\core\\computation\\expressions.py:68: FutureWarning: elementwise comparison failed; returning scalar instead, but in the future will perform elementwise comparison\n",
      "  return op(a, b)\n",
      "C:\\Users\\camil\\anaconda3\\lib\\site-packages\\pandas\\core\\computation\\expressions.py:68: FutureWarning: elementwise comparison failed; returning scalar instead, but in the future will perform elementwise comparison\n",
      "  return op(a, b)\n"
     ]
    }
   ],
   "source": [
    "########## INTER: mark vs camille\n",
    "#verify each value of \"ID4Rea\" have one observation for the two raters of the feathers and the two raters for the toes\n",
    "#unique ID for each observations based on their unique set of info\n",
    "df_HA_T_inter = df_HA_T.copy()\n",
    "df_HA_T_inter['ID4Rea'] = df_HA_T_inter.apply(lambda x: (x['PenID'].strip(' ')+'_'+x['HAID'].strip(' ')+'_'+\\\n",
    "                                             x['FocalLegringName'].strip(' ')+'_'+str(int(x['PassageID_toe']))), axis=1)\n",
    "df_HA_T_inter = df_HA_T_inter[['Person_toe','ID4Rea']+li_cont_T+li_cat_T]\n",
    "#correct persons name\n",
    "df_HA_T_inter['Person_toe'] = df_HA_T_inter['Person_toe'].map(lambda x: x[0])\n",
    "display(df_HA_T_inter['Person_toe'].value_counts())\n",
    "################# save for CCC in R\n",
    "df_HA_T_inter.to_csv(os.path.join(path_extracted_HA ,'df_HA_T_inter.csv'), index=False, sep=';')\n",
    "li_df = []\n",
    "for v in li_cont_T+li_cat_T:\n",
    "    df_ = df_HA_T_inter.pivot(index='ID4Rea', columns='Person_toe', values=v).reset_index()\n",
    "    df_['HAvariable'] = v\n",
    "    li_df.append(df_)\n",
    "df_HA_T_inter_pivot = pd.concat(li_df)\n",
    "print(df_HA_T_inter_pivot.shape)\n",
    "#save for CCC in R\n",
    "df_HA_T_inter_pivot.to_csv(os.path.join(path_extracted_HA ,'df_HA_T_inter_pivot.csv'), index=False, sep=';')\n",
    "display(df_HA_T_inter_pivot.head(3))\n",
    "\n",
    "#identify potential issues\n",
    "#df_ = df_HA_T_inter.groupby(['ID4Rea'])['Person_toe'].agg(lambda x: '_'.join(sorted(list(x)))).reset_index()\n",
    "#df_[df_['Person_toe']!='C_M']\n",
    "\n",
    "for v in li_cont_T:\n",
    "    print('-------------------------------------------------------')\n",
    "    print(v)\n",
    "    plt.hist(df_HA_T_inter[v]);\n",
    "    plt.show()\n",
    "    icc = pg.intraclass_corr(data=df_HA_T_inter, targets='ID4Rea', raters='Person_toe', ratings=v).round(3) #, nan_policy='omit'\n",
    "    print(icc)\n",
    "    \n",
    "for v in li_cat_T:\n",
    "    print('-------------------------------------------------------')\n",
    "    print(v)\n",
    "    df_ = df_HA_T_inter.pivot(index='ID4Rea', columns='Person_toe', values=v).reset_index()\n",
    "    #display(df_.head(5))\n",
    "    df_ = df_.dropna() #if float (0/1)\n",
    "    df_ = df_[df_['C']!='N/A']#if str ('0'/'1')\n",
    "    k = cohen_kappa_score(df_['C'],df_['M']) #, nan_policy='omit'\n",
    "    print(k, df_.shape)"
   ]
  },
  {
   "cell_type": "code",
   "execution_count": 9,
   "metadata": {},
   "outputs": [
    {
     "name": "stderr",
     "output_type": "stream",
     "text": [
      "C:\\Users\\camil\\anaconda3\\lib\\site-packages\\ipykernel\\ipkernel.py:283: DeprecationWarning: `should_run_async` will not call `transform_cell` automatically in the future. Please pass the result to `transformed_cell` argument and any exception that happen during thetransform in `preprocessing_exc_tuple` in IPython 7.17 and above.\n",
      "  and should_run_async(code)\n"
     ]
    },
    {
     "data": {
      "text/plain": [
       "M    236\n",
       "C    236\n",
       "Name: Person_toe, dtype: int64"
      ]
     },
     "metadata": {},
     "output_type": "display_data"
    },
    {
     "name": "stdout",
     "output_type": "stream",
     "text": [
      "(2832, 5)\n"
     ]
    },
    {
     "data": {
      "text/html": [
       "<div>\n",
       "<style scoped>\n",
       "    .dataframe tbody tr th:only-of-type {\n",
       "        vertical-align: middle;\n",
       "    }\n",
       "\n",
       "    .dataframe tbody tr th {\n",
       "        vertical-align: top;\n",
       "    }\n",
       "\n",
       "    .dataframe thead th {\n",
       "        text-align: right;\n",
       "    }\n",
       "</style>\n",
       "<table border=\"1\" class=\"dataframe\">\n",
       "  <thead>\n",
       "    <tr style=\"text-align: right;\">\n",
       "      <th>PassageID_toe</th>\n",
       "      <th>ID4Rea</th>\n",
       "      <th>Person_toe</th>\n",
       "      <th>1.0</th>\n",
       "      <th>2.0</th>\n",
       "      <th>HAvariable</th>\n",
       "    </tr>\n",
       "  </thead>\n",
       "  <tbody>\n",
       "    <tr>\n",
       "      <th>0</th>\n",
       "      <td>pen10_HA2_18orange</td>\n",
       "      <td>C</td>\n",
       "      <td>0.0</td>\n",
       "      <td>0.0</td>\n",
       "      <td>CombPecks</td>\n",
       "    </tr>\n",
       "    <tr>\n",
       "      <th>1</th>\n",
       "      <td>pen10_HA2_18orange</td>\n",
       "      <td>M</td>\n",
       "      <td>0.0</td>\n",
       "      <td>0.0</td>\n",
       "      <td>CombPecks</td>\n",
       "    </tr>\n",
       "    <tr>\n",
       "      <th>2</th>\n",
       "      <td>pen10_HA2_39black</td>\n",
       "      <td>C</td>\n",
       "      <td>50.0</td>\n",
       "      <td>40.0</td>\n",
       "      <td>CombPecks</td>\n",
       "    </tr>\n",
       "  </tbody>\n",
       "</table>\n",
       "</div>"
      ],
      "text/plain": [
       "PassageID_toe              ID4Rea Person_toe   1.0   2.0 HAvariable\n",
       "0              pen10_HA2_18orange          C   0.0   0.0  CombPecks\n",
       "1              pen10_HA2_18orange          M   0.0   0.0  CombPecks\n",
       "2               pen10_HA2_39black          C  50.0  40.0  CombPecks"
      ]
     },
     "metadata": {},
     "output_type": "display_data"
    },
    {
     "name": "stdout",
     "output_type": "stream",
     "text": [
      "------------------------------C\n",
      "-------------------------------------------------------\n",
      "CombPecks\n"
     ]
    },
    {
     "data": {
      "image/png": "[encoded data removed]",
      "text/plain": [
       "<Figure size 432x288 with 1 Axes>"
      ]
     },
     "metadata": {
      "needs_background": "light"
     },
     "output_type": "display_data"
    },
    {
     "name": "stdout",
     "output_type": "stream",
     "text": [
      "    Type              Description    ICC       F  df1  df2  pval         CI95%\n",
      "0   ICC1   Single raters absolute  0.865  13.796  117  118   0.0   [0.81, 0.9]\n",
      "1   ICC2     Single random raters  0.865  14.390  117  117   0.0  [0.81, 0.91]\n",
      "2   ICC3      Single fixed raters  0.870  14.390  117  117   0.0  [0.82, 0.91]\n",
      "3  ICC1k  Average raters absolute  0.928  13.796  117  118   0.0   [0.9, 0.95]\n",
      "4  ICC2k    Average random raters  0.928  14.390  117  117   0.0  [0.89, 0.95]\n",
      "5  ICC3k     Average fixed raters  0.931  14.390  117  117   0.0   [0.9, 0.95]\n",
      "-------------------------------------------------------\n",
      "RFPododermatitis\n"
     ]
    },
    {
     "data": {
      "image/png": "[encoded data removed]",
      "text/plain": [
       "<Figure size 432x288 with 1 Axes>"
      ]
     },
     "metadata": {
      "needs_background": "light"
     },
     "output_type": "display_data"
    },
    {
     "name": "stdout",
     "output_type": "stream",
     "text": [
      "    Type              Description    ICC       F  df1  df2  pval         CI95%\n",
      "0   ICC1   Single raters absolute  0.816   9.897  117  118   0.0  [0.75, 0.87]\n",
      "1   ICC2     Single random raters  0.817  10.017  117  117   0.0  [0.75, 0.87]\n",
      "2   ICC3      Single fixed raters  0.818  10.017  117  117   0.0  [0.75, 0.87]\n",
      "3  ICC1k  Average raters absolute  0.899   9.897  117  118   0.0  [0.85, 0.93]\n",
      "4  ICC2k    Average random raters  0.899  10.017  117  117   0.0  [0.85, 0.93]\n",
      "5  ICC3k     Average fixed raters  0.900  10.017  117  117   0.0  [0.86, 0.93]\n",
      "-------------------------------------------------------\n",
      "RFinjuries\n"
     ]
    },
    {
     "data": {
      "image/png": "[encoded data removed]",
      "text/plain": [
       "<Figure size 432x288 with 1 Axes>"
      ]
     },
     "metadata": {
      "needs_background": "light"
     },
     "output_type": "display_data"
    },
    {
     "name": "stdout",
     "output_type": "stream",
     "text": [
      "    Type              Description    ICC       F  df1  df2  pval         CI95%\n",
      "0   ICC1   Single raters absolute  0.915  22.636  117  118   0.0  [0.88, 0.94]\n",
      "1   ICC2     Single random raters  0.916  23.416  117  117   0.0  [0.88, 0.94]\n",
      "2   ICC3      Single fixed raters  0.918  23.416  117  117   0.0  [0.88, 0.94]\n",
      "3  ICC1k  Average raters absolute  0.956  22.636  117  118   0.0  [0.94, 0.97]\n",
      "4  ICC2k    Average random raters  0.956  23.416  117  117   0.0  [0.94, 0.97]\n",
      "5  ICC3k     Average fixed raters  0.957  23.416  117  117   0.0  [0.94, 0.97]\n",
      "-------------------------------------------------------\n",
      "LFPododermatitis\n"
     ]
    },
    {
     "data": {
      "image/png": "[encoded data removed]",
      "text/plain": [
       "<Figure size 432x288 with 1 Axes>"
      ]
     },
     "metadata": {
      "needs_background": "light"
     },
     "output_type": "display_data"
    },
    {
     "name": "stdout",
     "output_type": "stream",
     "text": [
      "    Type              Description    ICC       F  df1  df2  pval         CI95%\n",
      "0   ICC1   Single raters absolute  0.866  13.924  117  118   0.0   [0.81, 0.9]\n",
      "1   ICC2     Single random raters  0.866  13.936  117  117   0.0   [0.81, 0.9]\n",
      "2   ICC3      Single fixed raters  0.866  13.936  117  117   0.0  [0.81, 0.91]\n",
      "3  ICC1k  Average raters absolute  0.928  13.924  117  118   0.0   [0.9, 0.95]\n",
      "4  ICC2k    Average random raters  0.928  13.936  117  117   0.0   [0.9, 0.95]\n",
      "5  ICC3k     Average fixed raters  0.928  13.936  117  117   0.0   [0.9, 0.95]\n",
      "-------------------------------------------------------\n",
      "LFinjuries\n"
     ]
    },
    {
     "data": {
      "image/png": "[encoded data removed]",
      "text/plain": [
       "<Figure size 432x288 with 1 Axes>"
      ]
     },
     "metadata": {
      "needs_background": "light"
     },
     "output_type": "display_data"
    },
    {
     "name": "stdout",
     "output_type": "stream",
     "text": [
      "    Type              Description    ICC       F  df1  df2  pval         CI95%\n",
      "0   ICC1   Single raters absolute  0.859  13.188  117  118   0.0    [0.8, 0.9]\n",
      "1   ICC2     Single random raters  0.859  13.147  117  117   0.0    [0.8, 0.9]\n",
      "2   ICC3      Single fixed raters  0.859  13.147  117  117   0.0    [0.8, 0.9]\n",
      "3  ICC1k  Average raters absolute  0.924  13.188  117  118   0.0  [0.89, 0.95]\n",
      "4  ICC2k    Average random raters  0.924  13.147  117  117   0.0  [0.89, 0.95]\n",
      "5  ICC3k     Average fixed raters  0.924  13.147  117  117   0.0  [0.89, 0.95]\n",
      "-------------------------------------------------------\n",
      "Injuries\n"
     ]
    },
    {
     "data": {
      "image/png": "[encoded data removed]",
      "text/plain": [
       "<Figure size 432x288 with 1 Axes>"
      ]
     },
     "metadata": {
      "needs_background": "light"
     },
     "output_type": "display_data"
    },
    {
     "name": "stdout",
     "output_type": "stream",
     "text": [
      "    Type              Description    ICC       F  df1  df2  pval         CI95%\n",
      "0   ICC1   Single raters absolute  0.871  14.492  117  118   0.0  [0.82, 0.91]\n",
      "1   ICC2     Single random raters  0.871  14.855  117  117   0.0  [0.82, 0.91]\n",
      "2   ICC3      Single fixed raters  0.874  14.855  117  117   0.0  [0.82, 0.91]\n",
      "3  ICC1k  Average raters absolute  0.931  14.492  117  118   0.0   [0.9, 0.95]\n",
      "4  ICC2k    Average random raters  0.931  14.855  117  117   0.0   [0.9, 0.95]\n",
      "5  ICC3k     Average fixed raters  0.933  14.855  117  117   0.0   [0.9, 0.95]\n",
      "-------------------------------------------------------\n",
      "Pododermatitis\n"
     ]
    },
    {
     "data": {
      "image/png": "[encoded data removed]",
      "text/plain": [
       "<Figure size 432x288 with 1 Axes>"
      ]
     },
     "metadata": {
      "needs_background": "light"
     },
     "output_type": "display_data"
    },
    {
     "name": "stdout",
     "output_type": "stream",
     "text": [
      "    Type              Description    ICC       F  df1  df2  pval         CI95%\n",
      "0   ICC1   Single raters absolute  0.884  16.219  117  118   0.0  [0.84, 0.92]\n",
      "1   ICC2     Single random raters  0.884  16.102  117  117   0.0  [0.84, 0.92]\n",
      "2   ICC3      Single fixed raters  0.883  16.102  117  117   0.0  [0.84, 0.92]\n",
      "3  ICC1k  Average raters absolute  0.938  16.219  117  118   0.0  [0.91, 0.96]\n",
      "4  ICC2k    Average random raters  0.938  16.102  117  117   0.0  [0.91, 0.96]\n",
      "5  ICC3k     Average fixed raters  0.938  16.102  117  117   0.0  [0.91, 0.96]\n",
      "-------------------------------------------------------\n",
      "Diarrhea\n",
      "0.895 (105, 3)\n",
      "-------------------------------------------------------\n",
      "RFBumblefoot\n",
      "1.0 (118, 3)\n",
      "-------------------------------------------------------\n",
      "LFBumblefoot\n",
      "0.7958477508650519 (118, 3)\n",
      "-------------------------------------------------------\n",
      "Bumblefoot\n",
      "0.8528678304239401 (118, 3)\n",
      "-------------------------------------------------------\n",
      "BigInjuriesOrInflammed\n",
      "0.6589595375722543 (118, 3)\n",
      "------------------------------M\n",
      "-------------------------------------------------------\n",
      "CombPecks\n"
     ]
    },
    {
     "data": {
      "image/png": "[encoded data removed]",
      "text/plain": [
       "<Figure size 432x288 with 1 Axes>"
      ]
     },
     "metadata": {
      "needs_background": "light"
     },
     "output_type": "display_data"
    },
    {
     "name": "stdout",
     "output_type": "stream",
     "text": [
      "    Type              Description    ICC       F  df1  df2  pval         CI95%\n",
      "0   ICC1   Single raters absolute  0.859  13.181  117  118   0.0    [0.8, 0.9]\n",
      "1   ICC2     Single random raters  0.860  14.005  117  117   0.0    [0.8, 0.9]\n",
      "2   ICC3      Single fixed raters  0.867  14.005  117  117   0.0  [0.81, 0.91]\n",
      "3  ICC1k  Average raters absolute  0.924  13.181  117  118   0.0  [0.89, 0.95]\n",
      "4  ICC2k    Average random raters  0.924  14.005  117  117   0.0  [0.89, 0.95]\n",
      "5  ICC3k     Average fixed raters  0.929  14.005  117  117   0.0   [0.9, 0.95]\n",
      "-------------------------------------------------------\n",
      "RFPododermatitis\n"
     ]
    },
    {
     "data": {
      "image/png": "[encoded data removed]",
      "text/plain": [
       "<Figure size 432x288 with 1 Axes>"
      ]
     },
     "metadata": {
      "needs_background": "light"
     },
     "output_type": "display_data"
    },
    {
     "name": "stdout",
     "output_type": "stream",
     "text": [
      "    Type              Description    ICC       F  df1  df2  pval         CI95%\n",
      "0   ICC1   Single raters absolute  0.887  16.690  117  118   0.0  [0.84, 0.92]\n",
      "1   ICC2     Single random raters  0.887  16.567  117  117   0.0  [0.84, 0.92]\n",
      "2   ICC3      Single fixed raters  0.886  16.567  117  117   0.0  [0.84, 0.92]\n",
      "3  ICC1k  Average raters absolute  0.940  16.690  117  118   0.0  [0.91, 0.96]\n",
      "4  ICC2k    Average random raters  0.940  16.567  117  117   0.0  [0.91, 0.96]\n",
      "5  ICC3k     Average fixed raters  0.940  16.567  117  117   0.0  [0.91, 0.96]\n",
      "-------------------------------------------------------\n",
      "RFinjuries\n"
     ]
    },
    {
     "data": {
      "image/png": "[encoded data removed]",
      "text/plain": [
       "<Figure size 432x288 with 1 Axes>"
      ]
     },
     "metadata": {
      "needs_background": "light"
     },
     "output_type": "display_data"
    },
    {
     "name": "stdout",
     "output_type": "stream",
     "text": [
      "    Type              Description    ICC      F  df1  df2  pval         CI95%\n",
      "0   ICC1   Single raters absolute  0.772  7.764  117  118   0.0  [0.69, 0.84]\n",
      "1   ICC2     Single random raters  0.773  8.062  117  117   0.0  [0.69, 0.84]\n",
      "2   ICC3      Single fixed raters  0.779  8.062  117  117   0.0   [0.7, 0.84]\n",
      "3  ICC1k  Average raters absolute  0.871  7.764  117  118   0.0  [0.81, 0.91]\n",
      "4  ICC2k    Average random raters  0.872  8.062  117  117   0.0  [0.81, 0.91]\n",
      "5  ICC3k     Average fixed raters  0.876  8.062  117  117   0.0  [0.82, 0.91]\n",
      "-------------------------------------------------------\n",
      "LFPododermatitis\n"
     ]
    },
    {
     "data": {
      "image/png": "[encoded data removed]",
      "text/plain": [
       "<Figure size 432x288 with 1 Axes>"
      ]
     },
     "metadata": {
      "needs_background": "light"
     },
     "output_type": "display_data"
    },
    {
     "name": "stdout",
     "output_type": "stream",
     "text": [
      "    Type              Description    ICC       F  df1  df2  pval         CI95%\n",
      "0   ICC1   Single raters absolute  0.842  11.632  117  118   0.0  [0.78, 0.89]\n",
      "1   ICC2     Single random raters  0.842  11.609  117  117   0.0  [0.78, 0.89]\n",
      "2   ICC3      Single fixed raters  0.841  11.609  117  117   0.0  [0.78, 0.89]\n",
      "3  ICC1k  Average raters absolute  0.914  11.632  117  118   0.0  [0.88, 0.94]\n",
      "4  ICC2k    Average random raters  0.914  11.609  117  117   0.0  [0.88, 0.94]\n",
      "5  ICC3k     Average fixed raters  0.914  11.609  117  117   0.0  [0.88, 0.94]\n",
      "-------------------------------------------------------\n",
      "LFinjuries\n"
     ]
    },
    {
     "data": {
      "image/png": "[encoded data removed]",
      "text/plain": [
       "<Figure size 432x288 with 1 Axes>"
      ]
     },
     "metadata": {
      "needs_background": "light"
     },
     "output_type": "display_data"
    },
    {
     "name": "stdout",
     "output_type": "stream",
     "text": [
      "    Type              Description    ICC       F  df1  df2  pval         CI95%\n",
      "0   ICC1   Single raters absolute  0.938  31.082  117  118   0.0  [0.91, 0.96]\n",
      "1   ICC2     Single random raters  0.938  30.869  117  117   0.0  [0.91, 0.96]\n",
      "2   ICC3      Single fixed raters  0.937  30.869  117  117   0.0  [0.91, 0.96]\n",
      "3  ICC1k  Average raters absolute  0.968  31.082  117  118   0.0  [0.95, 0.98]\n",
      "4  ICC2k    Average random raters  0.968  30.869  117  117   0.0  [0.95, 0.98]\n",
      "5  ICC3k     Average fixed raters  0.968  30.869  117  117   0.0  [0.95, 0.98]\n",
      "-------------------------------------------------------\n",
      "Injuries\n"
     ]
    },
    {
     "data": {
      "image/png": "[encoded data removed]",
      "text/plain": [
       "<Figure size 432x288 with 1 Axes>"
      ]
     },
     "metadata": {
      "needs_background": "light"
     },
     "output_type": "display_data"
    },
    {
     "name": "stdout",
     "output_type": "stream",
     "text": [
      "    Type              Description    ICC       F  df1  df2  pval         CI95%\n",
      "0   ICC1   Single raters absolute  0.914  22.231  117  118   0.0  [0.88, 0.94]\n",
      "1   ICC2     Single random raters  0.914  22.805  117  117   0.0  [0.88, 0.94]\n",
      "2   ICC3      Single fixed raters  0.916  22.805  117  117   0.0  [0.88, 0.94]\n",
      "3  ICC1k  Average raters absolute  0.955  22.231  117  118   0.0  [0.94, 0.97]\n",
      "4  ICC2k    Average random raters  0.955  22.805  117  117   0.0  [0.93, 0.97]\n",
      "5  ICC3k     Average fixed raters  0.956  22.805  117  117   0.0  [0.94, 0.97]\n",
      "-------------------------------------------------------\n",
      "Pododermatitis\n"
     ]
    },
    {
     "data": {
      "image/png": "[encoded data removed]",
      "text/plain": [
       "<Figure size 432x288 with 1 Axes>"
      ]
     },
     "metadata": {
      "needs_background": "light"
     },
     "output_type": "display_data"
    },
    {
     "name": "stdout",
     "output_type": "stream",
     "text": [
      "    Type              Description    ICC       F  df1  df2  pval         CI95%\n",
      "0   ICC1   Single raters absolute  0.883  16.092  117  118   0.0  [0.84, 0.92]\n",
      "1   ICC2     Single random raters  0.883  16.053  117  117   0.0  [0.84, 0.92]\n",
      "2   ICC3      Single fixed raters  0.883  16.053  117  117   0.0  [0.84, 0.92]\n",
      "3  ICC1k  Average raters absolute  0.938  16.092  117  118   0.0  [0.91, 0.96]\n",
      "4  ICC2k    Average random raters  0.938  16.053  117  117   0.0  [0.91, 0.96]\n",
      "5  ICC3k     Average fixed raters  0.938  16.053  117  117   0.0  [0.91, 0.96]\n",
      "-------------------------------------------------------\n",
      "Diarrhea\n",
      "0.8654708520179373 (110, 3)\n",
      "-------------------------------------------------------\n",
      "RFBumblefoot\n",
      "1.0 (118, 3)\n",
      "-------------------------------------------------------\n",
      "LFBumblefoot\n",
      "1.0 (118, 3)\n",
      "-------------------------------------------------------\n",
      "Bumblefoot\n",
      "1.0 (118, 3)\n",
      "-------------------------------------------------------\n",
      "BigInjuriesOrInflammed\n",
      "1.0 (118, 3)\n"
     ]
    }
   ],
   "source": [
    "########## INTRA: mark vs mark AND camille vs camille\n",
    "#verify each value of \"ID4Rea\" have one observation for the two raters of the feathers and the two raters for the toes\n",
    "#unique ID for each observations based on their unique set of info\n",
    "df_HA_T_intra = df_HA_T.copy()\n",
    "df_HA_T_intra['ID4Rea'] = df_HA_T_intra.apply(lambda x: (x['PenID'].strip(' ')+'_'+x['HAID'].strip(' ')+'_'+\\\n",
    "                                             x['FocalLegringName'].strip(' ')), axis=1)\n",
    "df_HA_T_intra = df_HA_T_intra[['Person_toe','ID4Rea', 'PassageID_toe']+li_cont_T+li_cat_T]\n",
    "#correct persons name\n",
    "df_HA_T_intra['Person_toe'] = df_HA_T_intra['Person_toe'].map(lambda x: x[0])\n",
    "display(df_HA_T_intra['Person_toe'].value_counts())\n",
    "#################3 save for CCC in R\n",
    "df_HA_T_intra.to_csv(os.path.join(path_extracted_HA ,'df_HA_T_intra.csv'), index=False, sep=';')\n",
    "li_df = []\n",
    "for v in li_cont_T+li_cat_T:\n",
    "    df_ = df_HA_T_intra.pivot(index=['ID4Rea','Person_toe'], columns='PassageID_toe', values=v).reset_index()\n",
    "    df_['HAvariable'] = v\n",
    "    li_df.append(df_)\n",
    "df_HA_T_intra_pivot = pd.concat(li_df)\n",
    "print(df_HA_T_intra_pivot.shape)\n",
    "#save for CCC in R\n",
    "df_HA_T_intra_pivot.to_csv(os.path.join(path_extracted_HA ,'df_HA_T_intra_pivot.csv'), index=False, sep=';')\n",
    "display(df_HA_T_intra_pivot.head(3))\n",
    "\n",
    "#identify potential issues\n",
    "#df_ = df_HA_T_intra.groupby(['ID4Rea'])['Person_toe'].agg(lambda x: '_'.join(sorted(list(x)))).reset_index()\n",
    "#df_[df_['Person_toe']!='C_M']\n",
    "\n",
    "for person, df_ in df_HA_T_intra.groupby('Person_toe'):\n",
    "    print('------------------------------'+person)\n",
    "\n",
    "    for v in li_cont_T:\n",
    "        print('-------------------------------------------------------')\n",
    "        print(v)\n",
    "        plt.hist(df_[v]);\n",
    "        plt.show()\n",
    "        icc = pg.intraclass_corr(data=df_, targets='ID4Rea', raters='PassageID_toe', ratings=v).round(3) #,nan_policy='omit'\n",
    "        print(icc)\n",
    "\n",
    "    for v in li_cat_T:\n",
    "        print('-------------------------------------------------------')\n",
    "        print(v)\n",
    "        df__ = df_.pivot(index='ID4Rea', columns='PassageID_toe', values=v).reset_index()\n",
    "        #display(df__.head(5))\n",
    "        df__ = df__.dropna()\n",
    "        k = cohen_kappa_score(df__[1],df__[2])\n",
    "        print(k, df__.shape)"
   ]
  },
  {
   "cell_type": "markdown",
   "metadata": {},
   "source": [
    "# Feathers"
   ]
  },
  {
   "cell_type": "code",
   "execution_count": 10,
   "metadata": {},
   "outputs": [
    {
     "name": "stdout",
     "output_type": "stream",
     "text": [
      "(348, 36)\n"
     ]
    },
    {
     "name": "stderr",
     "output_type": "stream",
     "text": [
      "C:\\Users\\camil\\anaconda3\\lib\\site-packages\\ipykernel\\ipkernel.py:283: DeprecationWarning: `should_run_async` will not call `transform_cell` automatically in the future. Please pass the result to `transformed_cell` argument and any exception that happen during thetransform in `preprocessing_exc_tuple` in IPython 7.17 and above.\n",
      "  and should_run_async(code)\n"
     ]
    },
    {
     "data": {
      "text/html": [
       "<div>\n",
       "<style scoped>\n",
       "    .dataframe tbody tr th:only-of-type {\n",
       "        vertical-align: middle;\n",
       "    }\n",
       "\n",
       "    .dataframe tbody tr th {\n",
       "        vertical-align: top;\n",
       "    }\n",
       "\n",
       "    .dataframe thead th {\n",
       "        text-align: right;\n",
       "    }\n",
       "</style>\n",
       "<table border=\"1\" class=\"dataframe\">\n",
       "  <thead>\n",
       "    <tr style=\"text-align: right;\">\n",
       "      <th></th>\n",
       "      <th>Person_toe</th>\n",
       "      <th>Time</th>\n",
       "      <th>PenID</th>\n",
       "      <th>FocalLegringName</th>\n",
       "      <th>BirdType</th>\n",
       "      <th>CombPecks</th>\n",
       "      <th>Toes</th>\n",
       "      <th>RFPododermatitis</th>\n",
       "      <th>RFBumblefoot</th>\n",
       "      <th>RFinjuries</th>\n",
       "      <th>...</th>\n",
       "      <th>CloacaFeather</th>\n",
       "      <th>BackFeather</th>\n",
       "      <th>WingFeather</th>\n",
       "      <th>TailFeather</th>\n",
       "      <th>Injuries</th>\n",
       "      <th>Pododermatitis</th>\n",
       "      <th>Bumblefoot</th>\n",
       "      <th>Toes_inflammed</th>\n",
       "      <th>BigInjuriesOrInflammed</th>\n",
       "      <th>Feathers</th>\n",
       "    </tr>\n",
       "  </thead>\n",
       "  <tbody>\n",
       "    <tr>\n",
       "      <th>0</th>\n",
       "      <td>C</td>\n",
       "      <td>12:45</td>\n",
       "      <td>pen5</td>\n",
       "      <td>11green</td>\n",
       "      <td>normal</td>\n",
       "      <td>100.0</td>\n",
       "      <td></td>\n",
       "      <td>50.0</td>\n",
       "      <td>0.0</td>\n",
       "      <td>0.0</td>\n",
       "      <td>...</td>\n",
       "      <td>100.0</td>\n",
       "      <td>100.0</td>\n",
       "      <td>98.0</td>\n",
       "      <td>100.0</td>\n",
       "      <td>50.0</td>\n",
       "      <td>100.0</td>\n",
       "      <td>0.0</td>\n",
       "      <td>False</td>\n",
       "      <td>0</td>\n",
       "      <td>96.6</td>\n",
       "    </tr>\n",
       "    <tr>\n",
       "      <th>1</th>\n",
       "      <td>C</td>\n",
       "      <td>12:45</td>\n",
       "      <td>pen5</td>\n",
       "      <td>11green</td>\n",
       "      <td>normal</td>\n",
       "      <td>100.0</td>\n",
       "      <td></td>\n",
       "      <td>60.0</td>\n",
       "      <td>0.0</td>\n",
       "      <td>0.0</td>\n",
       "      <td>...</td>\n",
       "      <td>100.0</td>\n",
       "      <td>100.0</td>\n",
       "      <td>100.0</td>\n",
       "      <td>100.0</td>\n",
       "      <td>50.0</td>\n",
       "      <td>120.0</td>\n",
       "      <td>0.0</td>\n",
       "      <td>False</td>\n",
       "      <td>0</td>\n",
       "      <td>99.2</td>\n",
       "    </tr>\n",
       "    <tr>\n",
       "      <th>2</th>\n",
       "      <td>M</td>\n",
       "      <td>12:45</td>\n",
       "      <td>pen5</td>\n",
       "      <td>11green</td>\n",
       "      <td>normal</td>\n",
       "      <td>100.0</td>\n",
       "      <td></td>\n",
       "      <td>50.0</td>\n",
       "      <td>0.0</td>\n",
       "      <td>0.0</td>\n",
       "      <td>...</td>\n",
       "      <td>100.0</td>\n",
       "      <td>100.0</td>\n",
       "      <td>100.0</td>\n",
       "      <td>96.0</td>\n",
       "      <td>0.0</td>\n",
       "      <td>125.0</td>\n",
       "      <td>0.0</td>\n",
       "      <td>False</td>\n",
       "      <td>0</td>\n",
       "      <td>95.6</td>\n",
       "    </tr>\n",
       "  </tbody>\n",
       "</table>\n",
       "<p>3 rows × 36 columns</p>\n",
       "</div>"
      ],
      "text/plain": [
       "  Person_toe   Time PenID FocalLegringName BirdType  CombPecks Toes  \\\n",
       "0          C  12:45  pen5          11green   normal      100.0        \n",
       "1          C  12:45  pen5          11green   normal      100.0        \n",
       "2          M  12:45  pen5          11green   normal      100.0        \n",
       "\n",
       "   RFPododermatitis  RFBumblefoot  RFinjuries  ...  CloacaFeather  \\\n",
       "0              50.0           0.0         0.0  ...          100.0   \n",
       "1              60.0           0.0         0.0  ...          100.0   \n",
       "2              50.0           0.0         0.0  ...          100.0   \n",
       "\n",
       "   BackFeather  WingFeather  TailFeather  Injuries  Pododermatitis Bumblefoot  \\\n",
       "0        100.0         98.0        100.0      50.0           100.0        0.0   \n",
       "1        100.0        100.0        100.0      50.0           120.0        0.0   \n",
       "2        100.0        100.0         96.0       0.0           125.0        0.0   \n",
       "\n",
       "   Toes_inflammed BigInjuriesOrInflammed Feathers  \n",
       "0           False                      0     96.6  \n",
       "1           False                      0     99.2  \n",
       "2           False                      0     95.6  \n",
       "\n",
       "[3 rows x 36 columns]"
      ]
     },
     "execution_count": 10,
     "metadata": {},
     "output_type": "execute_result"
    }
   ],
   "source": [
    "df_HA_F = df_HA[(df_HA['Reliability_SS']==1)&(~df_HA['Person_feather'].isnull())&(~df_HA['PassageID_feather'].isnull())].copy()\n",
    "print(df_HA_F.shape)\n",
    "df_HA_F.head(3)"
   ]
  },
  {
   "cell_type": "code",
   "execution_count": 11,
   "metadata": {},
   "outputs": [
    {
     "name": "stderr",
     "output_type": "stream",
     "text": [
      "C:\\Users\\camil\\anaconda3\\lib\\site-packages\\ipykernel\\ipkernel.py:283: DeprecationWarning: `should_run_async` will not call `transform_cell` automatically in the future. Please pass the result to `transformed_cell` argument and any exception that happen during thetransform in `preprocessing_exc_tuple` in IPython 7.17 and above.\n",
      "  and should_run_async(code)\n"
     ]
    },
    {
     "data": {
      "text/plain": [
       "satar     174\n",
       "sabine    174\n",
       "Name: Person_feather, dtype: int64"
      ]
     },
     "metadata": {},
     "output_type": "display_data"
    },
    {
     "name": "stdout",
     "output_type": "stream",
     "text": [
      "(1218, 4)\n"
     ]
    },
    {
     "data": {
      "text/html": [
       "<div>\n",
       "<style scoped>\n",
       "    .dataframe tbody tr th:only-of-type {\n",
       "        vertical-align: middle;\n",
       "    }\n",
       "\n",
       "    .dataframe tbody tr th {\n",
       "        vertical-align: top;\n",
       "    }\n",
       "\n",
       "    .dataframe thead th {\n",
       "        text-align: right;\n",
       "    }\n",
       "</style>\n",
       "<table border=\"1\" class=\"dataframe\">\n",
       "  <thead>\n",
       "    <tr style=\"text-align: right;\">\n",
       "      <th>Person_feather</th>\n",
       "      <th>ID4Rea</th>\n",
       "      <th>sabine</th>\n",
       "      <th>satar</th>\n",
       "      <th>HAvariable</th>\n",
       "    </tr>\n",
       "  </thead>\n",
       "  <tbody>\n",
       "    <tr>\n",
       "      <th>0</th>\n",
       "      <td>pen10_HA2_18orange_1</td>\n",
       "      <td>100.0</td>\n",
       "      <td>99.6</td>\n",
       "      <td>Feathers</td>\n",
       "    </tr>\n",
       "    <tr>\n",
       "      <th>1</th>\n",
       "      <td>pen10_HA2_18orange_2</td>\n",
       "      <td>100.0</td>\n",
       "      <td>100.0</td>\n",
       "      <td>Feathers</td>\n",
       "    </tr>\n",
       "    <tr>\n",
       "      <th>2</th>\n",
       "      <td>pen10_HA2_39black_1</td>\n",
       "      <td>94.4</td>\n",
       "      <td>100.0</td>\n",
       "      <td>Feathers</td>\n",
       "    </tr>\n",
       "  </tbody>\n",
       "</table>\n",
       "</div>"
      ],
      "text/plain": [
       "Person_feather                ID4Rea  sabine  satar HAvariable\n",
       "0               pen10_HA2_18orange_1   100.0   99.6   Feathers\n",
       "1               pen10_HA2_18orange_2   100.0  100.0   Feathers\n",
       "2                pen10_HA2_39black_1    94.4  100.0   Feathers"
      ]
     },
     "metadata": {},
     "output_type": "display_data"
    },
    {
     "name": "stdout",
     "output_type": "stream",
     "text": [
      "-------------------------------------------------------\n",
      "Feathers\n"
     ]
    },
    {
     "data": {
      "image/png": "[encoded data removed]",
      "text/plain": [
       "<Figure size 432x288 with 1 Axes>"
      ]
     },
     "metadata": {
      "needs_background": "light"
     },
     "output_type": "display_data"
    },
    {
     "name": "stdout",
     "output_type": "stream",
     "text": [
      "    Type              Description    ICC      F  df1  df2  pval         CI95%\n",
      "0   ICC1   Single raters absolute  0.808  9.422  173  174   0.0  [0.75, 0.85]\n",
      "1   ICC2     Single random raters  0.808  9.409  173  173   0.0  [0.75, 0.85]\n",
      "2   ICC3      Single fixed raters  0.808  9.409  173  173   0.0  [0.75, 0.85]\n",
      "3  ICC1k  Average raters absolute  0.894  9.422  173  174   0.0  [0.86, 0.92]\n",
      "4  ICC2k    Average random raters  0.894  9.409  173  173   0.0  [0.86, 0.92]\n",
      "5  ICC3k     Average fixed raters  0.894  9.409  173  173   0.0  [0.86, 0.92]\n",
      "-------------------------------------------------------\n",
      "NeckFeather\n"
     ]
    },
    {
     "data": {
      "image/png": "[encoded data removed]",
      "text/plain": [
       "<Figure size 432x288 with 1 Axes>"
      ]
     },
     "metadata": {
      "needs_background": "light"
     },
     "output_type": "display_data"
    },
    {
     "name": "stdout",
     "output_type": "stream",
     "text": [
      "    Type              Description    ICC      F  df1  df2  pval         CI95%\n",
      "0   ICC1   Single raters absolute  0.271  1.744  173  174   0.0   [0.13, 0.4]\n",
      "1   ICC2     Single random raters  0.279  1.796  173  173   0.0  [0.14, 0.41]\n",
      "2   ICC3      Single fixed raters  0.285  1.796  173  173   0.0  [0.14, 0.42]\n",
      "3  ICC1k  Average raters absolute  0.427  1.744  173  174   0.0  [0.23, 0.57]\n",
      "4  ICC2k    Average random raters  0.436  1.796  173  173   0.0  [0.24, 0.58]\n",
      "5  ICC3k     Average fixed raters  0.443  1.796  173  173   0.0  [0.25, 0.59]\n",
      "-------------------------------------------------------\n",
      "BreastFeather\n"
     ]
    },
    {
     "data": {
      "image/png": "[encoded data removed]",
      "text/plain": [
       "<Figure size 432x288 with 1 Axes>"
      ]
     },
     "metadata": {
      "needs_background": "light"
     },
     "output_type": "display_data"
    },
    {
     "name": "stdout",
     "output_type": "stream",
     "text": [
      "    Type              Description    ICC      F  df1  df2  pval         CI95%\n",
      "0   ICC1   Single raters absolute  0.710  5.885  173  174   0.0  [0.63, 0.78]\n",
      "1   ICC2     Single random raters  0.709  5.858  173  173   0.0  [0.63, 0.78]\n",
      "2   ICC3      Single fixed raters  0.708  5.858  173  173   0.0  [0.63, 0.78]\n",
      "3  ICC1k  Average raters absolute  0.830  5.885  173  174   0.0  [0.77, 0.87]\n",
      "4  ICC2k    Average random raters  0.830  5.858  173  173   0.0  [0.77, 0.87]\n",
      "5  ICC3k     Average fixed raters  0.829  5.858  173  173   0.0  [0.77, 0.87]\n",
      "-------------------------------------------------------\n",
      "CloacaFeather\n"
     ]
    },
    {
     "data": {
      "image/png": "[encoded data removed]",
      "text/plain": [
       "<Figure size 432x288 with 1 Axes>"
      ]
     },
     "metadata": {
      "needs_background": "light"
     },
     "output_type": "display_data"
    },
    {
     "name": "stdout",
     "output_type": "stream",
     "text": [
      "    Type              Description    ICC      F  df1  df2  pval         CI95%\n",
      "0   ICC1   Single raters absolute  0.609  4.121  173  174   0.0  [0.51, 0.69]\n",
      "1   ICC2     Single random raters  0.610  4.129  173  173   0.0   [0.51, 0.7]\n",
      "2   ICC3      Single fixed raters  0.610  4.129  173  173   0.0   [0.51, 0.7]\n",
      "3  ICC1k  Average raters absolute  0.757  4.121  173  174   0.0  [0.67, 0.82]\n",
      "4  ICC2k    Average random raters  0.757  4.129  173  173   0.0  [0.67, 0.82]\n",
      "5  ICC3k     Average fixed raters  0.758  4.129  173  173   0.0  [0.67, 0.82]\n",
      "-------------------------------------------------------\n",
      "BackFeather\n"
     ]
    },
    {
     "data": {
      "image/png": "[encoded data removed]",
      "text/plain": [
       "<Figure size 432x288 with 1 Axes>"
      ]
     },
     "metadata": {
      "needs_background": "light"
     },
     "output_type": "display_data"
    },
    {
     "name": "stdout",
     "output_type": "stream",
     "text": [
      "    Type              Description    ICC      F  df1  df2   pval  \\\n",
      "0   ICC1   Single raters absolute  0.041  1.085  173  174  0.296   \n",
      "1   ICC2     Single random raters  0.074  1.173  173  173  0.148   \n",
      "2   ICC3      Single fixed raters  0.080  1.173  173  173  0.148   \n",
      "3  ICC1k  Average raters absolute  0.078  1.085  173  174  0.296   \n",
      "4  ICC2k    Average random raters  0.138  1.173  173  173  0.148   \n",
      "5  ICC3k     Average fixed raters  0.147  1.173  173  173  0.148   \n",
      "\n",
      "           CI95%  \n",
      "0  [-0.11, 0.19]  \n",
      "1  [-0.06, 0.21]  \n",
      "2  [-0.07, 0.23]  \n",
      "3  [-0.24, 0.32]  \n",
      "4  [-0.14, 0.35]  \n",
      "5  [-0.15, 0.37]  \n",
      "-------------------------------------------------------\n",
      "WingFeather\n"
     ]
    },
    {
     "data": {
      "image/png": "[encoded data removed]",
      "text/plain": [
       "<Figure size 432x288 with 1 Axes>"
      ]
     },
     "metadata": {
      "needs_background": "light"
     },
     "output_type": "display_data"
    },
    {
     "name": "stdout",
     "output_type": "stream",
     "text": [
      "    Type              Description    ICC      F  df1  df2  pval         CI95%\n",
      "0   ICC1   Single raters absolute  0.586  3.832  173  174   0.0  [0.48, 0.68]\n",
      "1   ICC2     Single random raters  0.591  4.065  173  173   0.0  [0.48, 0.68]\n",
      "2   ICC3      Single fixed raters  0.605  4.065  173  173   0.0   [0.5, 0.69]\n",
      "3  ICC1k  Average raters absolute  0.739  3.832  173  174   0.0  [0.65, 0.81]\n",
      "4  ICC2k    Average random raters  0.743  4.065  173  173   0.0  [0.65, 0.81]\n",
      "5  ICC3k     Average fixed raters  0.754  4.065  173  173   0.0  [0.67, 0.82]\n",
      "-------------------------------------------------------\n",
      "TailFeather\n"
     ]
    },
    {
     "data": {
      "image/png": "[encoded data removed]",
      "text/plain": [
       "<Figure size 432x288 with 1 Axes>"
      ]
     },
     "metadata": {
      "needs_background": "light"
     },
     "output_type": "display_data"
    },
    {
     "name": "stdout",
     "output_type": "stream",
     "text": [
      "    Type              Description    ICC      F  df1  df2  pval         CI95%\n",
      "0   ICC1   Single raters absolute  0.805  9.282  173  174   0.0  [0.75, 0.85]\n",
      "1   ICC2     Single random raters  0.805  9.255  173  173   0.0  [0.75, 0.85]\n",
      "2   ICC3      Single fixed raters  0.805  9.255  173  173   0.0  [0.75, 0.85]\n",
      "3  ICC1k  Average raters absolute  0.892  9.282  173  174   0.0  [0.85, 0.92]\n",
      "4  ICC2k    Average random raters  0.892  9.255  173  173   0.0  [0.85, 0.92]\n",
      "5  ICC3k     Average fixed raters  0.892  9.255  173  173   0.0  [0.85, 0.92]\n"
     ]
    }
   ],
   "source": [
    "########## INTER: sabine vs Satar\n",
    "#verify each value of \"ID4Rea\" have one observation for the two raters of the feathers and the two raters for the feathers\n",
    "#unique ID for each observations based on their unique set of info\n",
    "df_HA_F_inter = df_HA_F.copy()\n",
    "df_HA_F_inter['ID4Rea'] = df_HA_F_inter.apply(lambda x: (x['PenID'].strip(' ')+'_'+x['HAID'].strip(' ')+'_'+\\\n",
    "                                             x['FocalLegringName'].strip(' ')+'_'+str(int(x['PassageID_feather']))), axis=1)\n",
    "df_HA_F_inter = df_HA_F_inter[['Person_feather','ID4Rea']+li_cont_F]\n",
    "#correct persons name\n",
    "df_HA_F_inter['Person_feather'] = df_HA_F_inter['Person_feather'].map(lambda x: x.lower())\n",
    "display(df_HA_F_inter['Person_feather'].value_counts())\n",
    "#identify potential issues\n",
    "#df_ = df_HA_F_inter.groupby(['ID4Rea'])['Person_feather'].agg(lambda x: '_'.join(sorted(list(x)))).reset_index()\n",
    "#df_[df_['Person_feather']!='sabine_satar']\n",
    "################# save for CCC in R\n",
    "df_HA_F_inter.to_csv(os.path.join(path_extracted_HA ,'df_HA_F_inter.csv'), index=False, sep=';')\n",
    "li_df = []\n",
    "for v in li_cont_F:\n",
    "    df_ = df_HA_F_inter.pivot(index='ID4Rea', columns='Person_feather', values=v).reset_index()\n",
    "    df_['HAvariable'] = v\n",
    "    li_df.append(df_)\n",
    "df_HA_F_inter_pivot = pd.concat(li_df)\n",
    "print(df_HA_F_inter_pivot.shape)\n",
    "#save for CCC in R\n",
    "df_HA_F_inter_pivot.to_csv(os.path.join(path_extracted_HA ,'df_HA_F_inter_pivot.csv'), index=False, sep=';')\n",
    "display(df_HA_F_inter_pivot.head(3))\n",
    "\n",
    "\n",
    "for v in li_cont_F:\n",
    "    print('-------------------------------------------------------')\n",
    "    print(v)\n",
    "    plt.hist(df_HA_F_inter[v]);\n",
    "    plt.show()\n",
    "    icc = pg.intraclass_corr(data=df_HA_F_inter, targets='ID4Rea', raters='Person_feather',\n",
    "                             ratings=v, nan_policy='omit').round(3)\n",
    "    print(icc)"
   ]
  },
  {
   "cell_type": "code",
   "execution_count": 12,
   "metadata": {},
   "outputs": [
    {
     "name": "stderr",
     "output_type": "stream",
     "text": [
      "C:\\Users\\camil\\anaconda3\\lib\\site-packages\\ipykernel\\ipkernel.py:283: DeprecationWarning: `should_run_async` will not call `transform_cell` automatically in the future. Please pass the result to `transformed_cell` argument and any exception that happen during thetransform in `preprocessing_exc_tuple` in IPython 7.17 and above.\n",
      "  and should_run_async(code)\n"
     ]
    },
    {
     "data": {
      "text/plain": [
       "satar     174\n",
       "sabine    174\n",
       "Name: Person_feather, dtype: int64"
      ]
     },
     "metadata": {},
     "output_type": "display_data"
    },
    {
     "name": "stdout",
     "output_type": "stream",
     "text": [
      "(1218, 5)\n"
     ]
    },
    {
     "data": {
      "text/html": [
       "<div>\n",
       "<style scoped>\n",
       "    .dataframe tbody tr th:only-of-type {\n",
       "        vertical-align: middle;\n",
       "    }\n",
       "\n",
       "    .dataframe tbody tr th {\n",
       "        vertical-align: top;\n",
       "    }\n",
       "\n",
       "    .dataframe thead th {\n",
       "        text-align: right;\n",
       "    }\n",
       "</style>\n",
       "<table border=\"1\" class=\"dataframe\">\n",
       "  <thead>\n",
       "    <tr style=\"text-align: right;\">\n",
       "      <th>PassageID_feather</th>\n",
       "      <th>ID4Rea</th>\n",
       "      <th>Person_feather</th>\n",
       "      <th>1.0</th>\n",
       "      <th>2.0</th>\n",
       "      <th>HAvariable</th>\n",
       "    </tr>\n",
       "  </thead>\n",
       "  <tbody>\n",
       "    <tr>\n",
       "      <th>0</th>\n",
       "      <td>pen10_HA2_18orange</td>\n",
       "      <td>sabine</td>\n",
       "      <td>100.0</td>\n",
       "      <td>100.0</td>\n",
       "      <td>Feathers</td>\n",
       "    </tr>\n",
       "    <tr>\n",
       "      <th>1</th>\n",
       "      <td>pen10_HA2_18orange</td>\n",
       "      <td>satar</td>\n",
       "      <td>99.6</td>\n",
       "      <td>100.0</td>\n",
       "      <td>Feathers</td>\n",
       "    </tr>\n",
       "    <tr>\n",
       "      <th>2</th>\n",
       "      <td>pen10_HA2_39black</td>\n",
       "      <td>sabine</td>\n",
       "      <td>94.4</td>\n",
       "      <td>97.8</td>\n",
       "      <td>Feathers</td>\n",
       "    </tr>\n",
       "  </tbody>\n",
       "</table>\n",
       "</div>"
      ],
      "text/plain": [
       "PassageID_feather              ID4Rea Person_feather    1.0    2.0 HAvariable\n",
       "0                  pen10_HA2_18orange         sabine  100.0  100.0   Feathers\n",
       "1                  pen10_HA2_18orange          satar   99.6  100.0   Feathers\n",
       "2                   pen10_HA2_39black         sabine   94.4   97.8   Feathers"
      ]
     },
     "metadata": {},
     "output_type": "display_data"
    },
    {
     "name": "stdout",
     "output_type": "stream",
     "text": [
      "------------------------------sabine\n",
      "-------------------------------------------------------\n",
      "Feathers\n"
     ]
    },
    {
     "data": {
      "image/png": "[encoded data removed]",
      "text/plain": [
       "<Figure size 432x288 with 1 Axes>"
      ]
     },
     "metadata": {
      "needs_background": "light"
     },
     "output_type": "display_data"
    },
    {
     "name": "stdout",
     "output_type": "stream",
     "text": [
      "    Type              Description    ICC       F  df1  df2  pval         CI95%\n",
      "0   ICC1   Single raters absolute  0.860  13.284   86   87   0.0  [0.79, 0.91]\n",
      "1   ICC2     Single random raters  0.860  13.303   86   86   0.0  [0.79, 0.91]\n",
      "2   ICC3      Single fixed raters  0.860  13.303   86   86   0.0  [0.79, 0.91]\n",
      "3  ICC1k  Average raters absolute  0.925  13.284   86   87   0.0  [0.88, 0.95]\n",
      "4  ICC2k    Average random raters  0.925  13.303   86   86   0.0  [0.88, 0.95]\n",
      "5  ICC3k     Average fixed raters  0.925  13.303   86   86   0.0  [0.88, 0.95]\n",
      "-------------------------------------------------------\n",
      "NeckFeather\n"
     ]
    },
    {
     "data": {
      "image/png": "[encoded data removed]",
      "text/plain": [
       "<Figure size 432x288 with 1 Axes>"
      ]
     },
     "metadata": {
      "needs_background": "light"
     },
     "output_type": "display_data"
    },
    {
     "name": "stdout",
     "output_type": "stream",
     "text": [
      "    Type              Description    ICC      F  df1  df2  pval         CI95%\n",
      "0   ICC1   Single raters absolute  0.565  3.602   86   87   0.0   [0.4, 0.69]\n",
      "1   ICC2     Single random raters  0.567  3.679   86   86   0.0  [0.41, 0.69]\n",
      "2   ICC3      Single fixed raters  0.573  3.679   86   86   0.0   [0.41, 0.7]\n",
      "3  ICC1k  Average raters absolute  0.722  3.602   86   87   0.0  [0.58, 0.82]\n",
      "4  ICC2k    Average random raters  0.724  3.679   86   86   0.0  [0.58, 0.82]\n",
      "5  ICC3k     Average fixed raters  0.728  3.679   86   86   0.0  [0.58, 0.82]\n",
      "-------------------------------------------------------\n",
      "BreastFeather\n"
     ]
    },
    {
     "data": {
      "image/png": "[encoded data removed]",
      "text/plain": [
       "<Figure size 432x288 with 1 Axes>"
      ]
     },
     "metadata": {
      "needs_background": "light"
     },
     "output_type": "display_data"
    },
    {
     "name": "stdout",
     "output_type": "stream",
     "text": [
      "    Type              Description    ICC      F  df1  df2  pval         CI95%\n",
      "0   ICC1   Single raters absolute  0.748  6.948   86   87   0.0  [0.64, 0.83]\n",
      "1   ICC2     Single random raters  0.748  6.933   86   86   0.0  [0.64, 0.83]\n",
      "2   ICC3      Single fixed raters  0.748  6.933   86   86   0.0  [0.64, 0.83]\n",
      "3  ICC1k  Average raters absolute  0.856  6.948   86   87   0.0  [0.78, 0.91]\n",
      "4  ICC2k    Average random raters  0.856  6.933   86   86   0.0  [0.78, 0.91]\n",
      "5  ICC3k     Average fixed raters  0.856  6.933   86   86   0.0  [0.78, 0.91]\n",
      "-------------------------------------------------------\n",
      "CloacaFeather\n"
     ]
    },
    {
     "data": {
      "image/png": "[encoded data removed]",
      "text/plain": [
       "<Figure size 432x288 with 1 Axes>"
      ]
     },
     "metadata": {
      "needs_background": "light"
     },
     "output_type": "display_data"
    },
    {
     "name": "stdout",
     "output_type": "stream",
     "text": [
      "    Type              Description    ICC       F  df1  df2  pval         CI95%\n",
      "0   ICC1   Single raters absolute  0.865  13.813   86   87   0.0   [0.8, 0.91]\n",
      "1   ICC2     Single random raters  0.865  13.656   86   86   0.0   [0.8, 0.91]\n",
      "2   ICC3      Single fixed raters  0.864  13.656   86   86   0.0   [0.8, 0.91]\n",
      "3  ICC1k  Average raters absolute  0.928  13.813   86   87   0.0  [0.89, 0.95]\n",
      "4  ICC2k    Average random raters  0.928  13.656   86   86   0.0  [0.89, 0.95]\n",
      "5  ICC3k     Average fixed raters  0.927  13.656   86   86   0.0  [0.89, 0.95]\n",
      "-------------------------------------------------------\n",
      "BackFeather\n"
     ]
    },
    {
     "data": {
      "image/png": "[encoded data removed]",
      "text/plain": [
       "<Figure size 432x288 with 1 Axes>"
      ]
     },
     "metadata": {
      "needs_background": "light"
     },
     "output_type": "display_data"
    },
    {
     "name": "stdout",
     "output_type": "stream",
     "text": [
      "    Type              Description    ICC      F  df1  df2   pval         CI95%\n",
      "0   ICC1   Single raters absolute  0.253  1.676   86   87  0.009  [0.05, 0.44]\n",
      "1   ICC2     Single random raters  0.249  1.657   86   86  0.010  [0.04, 0.44]\n",
      "2   ICC3      Single fixed raters  0.247  1.657   86   86  0.010  [0.04, 0.43]\n",
      "3  ICC1k  Average raters absolute  0.403  1.676   86   87  0.009  [0.09, 0.61]\n",
      "4  ICC2k    Average random raters  0.399  1.657   86   86  0.010  [0.08, 0.61]\n",
      "5  ICC3k     Average fixed raters  0.396  1.657   86   86  0.010  [0.08, 0.61]\n",
      "-------------------------------------------------------\n",
      "WingFeather\n"
     ]
    },
    {
     "data": {
      "image/png": "[encoded data removed]",
      "text/plain": [
       "<Figure size 432x288 with 1 Axes>"
      ]
     },
     "metadata": {
      "needs_background": "light"
     },
     "output_type": "display_data"
    },
    {
     "name": "stdout",
     "output_type": "stream",
     "text": [
      "    Type              Description    ICC      F  df1  df2  pval         CI95%\n",
      "0   ICC1   Single raters absolute  0.779  8.061   86   87   0.0  [0.68, 0.85]\n",
      "1   ICC2     Single random raters  0.780  8.396   86   86   0.0  [0.68, 0.85]\n",
      "2   ICC3      Single fixed raters  0.787  8.396   86   86   0.0  [0.69, 0.86]\n",
      "3  ICC1k  Average raters absolute  0.876  8.061   86   87   0.0  [0.81, 0.92]\n",
      "4  ICC2k    Average random raters  0.877  8.396   86   86   0.0  [0.81, 0.92]\n",
      "5  ICC3k     Average fixed raters  0.881  8.396   86   86   0.0  [0.82, 0.92]\n",
      "-------------------------------------------------------\n",
      "TailFeather\n"
     ]
    },
    {
     "data": {
      "image/png": "[encoded data removed]",
      "text/plain": [
       "<Figure size 432x288 with 1 Axes>"
      ]
     },
     "metadata": {
      "needs_background": "light"
     },
     "output_type": "display_data"
    },
    {
     "name": "stdout",
     "output_type": "stream",
     "text": [
      "    Type              Description    ICC       F  df1  df2  pval         CI95%\n",
      "0   ICC1   Single raters absolute  0.859  13.156   86   87   0.0  [0.79, 0.91]\n",
      "1   ICC2     Single random raters  0.859  13.123   86   86   0.0  [0.79, 0.91]\n",
      "2   ICC3      Single fixed raters  0.858  13.123   86   86   0.0  [0.79, 0.91]\n",
      "3  ICC1k  Average raters absolute  0.924  13.156   86   87   0.0  [0.88, 0.95]\n",
      "4  ICC2k    Average random raters  0.924  13.123   86   86   0.0  [0.88, 0.95]\n",
      "5  ICC3k     Average fixed raters  0.924  13.123   86   86   0.0  [0.88, 0.95]\n",
      "------------------------------satar\n",
      "-------------------------------------------------------\n",
      "Feathers\n"
     ]
    },
    {
     "data": {
      "image/png": "[encoded data removed]",
      "text/plain": [
       "<Figure size 432x288 with 1 Axes>"
      ]
     },
     "metadata": {
      "needs_background": "light"
     },
     "output_type": "display_data"
    },
    {
     "name": "stdout",
     "output_type": "stream",
     "text": [
      "    Type              Description    ICC       F  df1  df2  pval         CI95%\n",
      "0   ICC1   Single raters absolute  0.864  13.697   86   87   0.0   [0.8, 0.91]\n",
      "1   ICC2     Single random raters  0.864  13.577   86   86   0.0   [0.8, 0.91]\n",
      "2   ICC3      Single fixed raters  0.863  13.577   86   86   0.0   [0.8, 0.91]\n",
      "3  ICC1k  Average raters absolute  0.927  13.697   86   87   0.0  [0.89, 0.95]\n",
      "4  ICC2k    Average random raters  0.927  13.577   86   86   0.0  [0.89, 0.95]\n",
      "5  ICC3k     Average fixed raters  0.926  13.577   86   86   0.0  [0.89, 0.95]\n",
      "-------------------------------------------------------\n",
      "NeckFeather\n"
     ]
    },
    {
     "data": {
      "image/png": "[encoded data removed]",
      "text/plain": [
       "<Figure size 432x288 with 1 Axes>"
      ]
     },
     "metadata": {
      "needs_background": "light"
     },
     "output_type": "display_data"
    },
    {
     "name": "stdout",
     "output_type": "stream",
     "text": [
      "    Type              Description    ICC      F  df1  df2  pval         CI95%\n",
      "0   ICC1   Single raters absolute  0.887  16.77   86   87   0.0  [0.83, 0.92]\n",
      "1   ICC2     Single random raters  0.888  16.92   86   86   0.0  [0.83, 0.92]\n",
      "2   ICC3      Single fixed raters  0.888  16.92   86   86   0.0  [0.83, 0.93]\n",
      "3  ICC1k  Average raters absolute  0.940  16.77   86   87   0.0  [0.91, 0.96]\n",
      "4  ICC2k    Average random raters  0.940  16.92   86   86   0.0  [0.91, 0.96]\n",
      "5  ICC3k     Average fixed raters  0.941  16.92   86   86   0.0  [0.91, 0.96]\n",
      "-------------------------------------------------------\n",
      "BreastFeather\n"
     ]
    },
    {
     "data": {
      "image/png": "[encoded data removed]",
      "text/plain": [
       "<Figure size 432x288 with 1 Axes>"
      ]
     },
     "metadata": {
      "needs_background": "light"
     },
     "output_type": "display_data"
    },
    {
     "name": "stdout",
     "output_type": "stream",
     "text": [
      "    Type              Description    ICC      F  df1  df2  pval         CI95%\n",
      "0   ICC1   Single raters absolute  0.747  6.904   86   87   0.0  [0.64, 0.83]\n",
      "1   ICC2     Single random raters  0.747  6.849   86   86   0.0  [0.64, 0.83]\n",
      "2   ICC3      Single fixed raters  0.745  6.849   86   86   0.0  [0.63, 0.83]\n",
      "3  ICC1k  Average raters absolute  0.855  6.904   86   87   0.0  [0.78, 0.91]\n",
      "4  ICC2k    Average random raters  0.855  6.849   86   86   0.0  [0.78, 0.91]\n",
      "5  ICC3k     Average fixed raters  0.854  6.849   86   86   0.0   [0.78, 0.9]\n",
      "-------------------------------------------------------\n",
      "CloacaFeather\n"
     ]
    },
    {
     "data": {
      "image/png": "[encoded data removed]",
      "text/plain": [
       "<Figure size 432x288 with 1 Axes>"
      ]
     },
     "metadata": {
      "needs_background": "light"
     },
     "output_type": "display_data"
    },
    {
     "name": "stdout",
     "output_type": "stream",
     "text": [
      "    Type              Description    ICC       F  df1  df2  pval         CI95%\n",
      "0   ICC1   Single raters absolute  0.883  16.077   86   87   0.0  [0.83, 0.92]\n",
      "1   ICC2     Single random raters  0.883  16.170   86   86   0.0  [0.83, 0.92]\n",
      "2   ICC3      Single fixed raters  0.884  16.170   86   86   0.0  [0.83, 0.92]\n",
      "3  ICC1k  Average raters absolute  0.938  16.077   86   87   0.0   [0.9, 0.96]\n",
      "4  ICC2k    Average random raters  0.938  16.170   86   86   0.0   [0.9, 0.96]\n",
      "5  ICC3k     Average fixed raters  0.938  16.170   86   86   0.0  [0.91, 0.96]\n",
      "-------------------------------------------------------\n",
      "BackFeather\n"
     ]
    },
    {
     "data": {
      "image/png": "[encoded data removed]",
      "text/plain": [
       "<Figure size 432x288 with 1 Axes>"
      ]
     },
     "metadata": {
      "needs_background": "light"
     },
     "output_type": "display_data"
    },
    {
     "name": "stdout",
     "output_type": "stream",
     "text": [
      "    Type              Description    ICC      F  df1  df2  pval         CI95%\n",
      "0   ICC1   Single raters absolute  0.385  2.254   86   87   0.0  [0.19, 0.55]\n",
      "1   ICC2     Single random raters  0.388  2.285   86   86   0.0   [0.2, 0.55]\n",
      "2   ICC3      Single fixed raters  0.391  2.285   86   86   0.0   [0.2, 0.56]\n",
      "3  ICC1k  Average raters absolute  0.556  2.254   86   87   0.0  [0.32, 0.71]\n",
      "4  ICC2k    Average random raters  0.559  2.285   86   86   0.0  [0.33, 0.71]\n",
      "5  ICC3k     Average fixed raters  0.562  2.285   86   86   0.0  [0.33, 0.71]\n",
      "-------------------------------------------------------\n",
      "WingFeather\n"
     ]
    },
    {
     "data": {
      "image/png": "[encoded data removed]",
      "text/plain": [
       "<Figure size 432x288 with 1 Axes>"
      ]
     },
     "metadata": {
      "needs_background": "light"
     },
     "output_type": "display_data"
    },
    {
     "name": "stdout",
     "output_type": "stream",
     "text": [
      "    Type              Description    ICC      F  df1  df2  pval         CI95%\n",
      "0   ICC1   Single raters absolute  0.633  4.452   86   87   0.0  [0.49, 0.74]\n",
      "1   ICC2     Single random raters  0.633  4.411   86   86   0.0  [0.49, 0.74]\n",
      "2   ICC3      Single fixed raters  0.630  4.411   86   86   0.0  [0.48, 0.74]\n",
      "3  ICC1k  Average raters absolute  0.775  4.452   86   87   0.0  [0.66, 0.85]\n",
      "4  ICC2k    Average random raters  0.775  4.411   86   86   0.0  [0.66, 0.85]\n",
      "5  ICC3k     Average fixed raters  0.773  4.411   86   86   0.0  [0.65, 0.85]\n",
      "-------------------------------------------------------\n",
      "TailFeather\n"
     ]
    },
    {
     "data": {
      "image/png": "[encoded data removed]",
      "text/plain": [
       "<Figure size 432x288 with 1 Axes>"
      ]
     },
     "metadata": {
      "needs_background": "light"
     },
     "output_type": "display_data"
    },
    {
     "name": "stdout",
     "output_type": "stream",
     "text": [
      "    Type              Description    ICC       F  df1  df2  pval         CI95%\n",
      "0   ICC1   Single raters absolute  0.903  19.724   86   87   0.0  [0.86, 0.94]\n",
      "1   ICC2     Single random raters  0.903  19.570   86   86   0.0  [0.86, 0.94]\n",
      "2   ICC3      Single fixed raters  0.903  19.570   86   86   0.0  [0.85, 0.94]\n",
      "3  ICC1k  Average raters absolute  0.949  19.724   86   87   0.0  [0.92, 0.97]\n",
      "4  ICC2k    Average random raters  0.949  19.570   86   86   0.0  [0.92, 0.97]\n",
      "5  ICC3k     Average fixed raters  0.949  19.570   86   86   0.0  [0.92, 0.97]\n"
     ]
    }
   ],
   "source": [
    "########## INTRA: sabine vs Sabine / Satar vs Satar\n",
    "#verify each value of \"ID4Rea\" have one observation for the two raters of the feathers and the two raters for the feathers\n",
    "#unique ID for each observations based on their unique set of info\n",
    "df_HA_F_intra = df_HA_F.copy()\n",
    "df_HA_F_intra['ID4Rea'] = df_HA_F_intra.apply(lambda x: (x['PenID'].strip(' ')+'_'+x['HAID'].strip(' ')+'_'+\\\n",
    "                                             x['FocalLegringName'].strip(' ')), axis=1)\n",
    "df_HA_F_intra = df_HA_F_intra[['Person_feather','ID4Rea','PassageID_feather']+li_cont_F]\n",
    "#correct persons name\n",
    "df_HA_F_intra['Person_feather'] = df_HA_F_intra['Person_feather'].map(lambda x: x.lower())\n",
    "display(df_HA_F_intra['Person_feather'].value_counts())\n",
    "################### save for CCC in R\n",
    "df_HA_F_intra.to_csv(os.path.join(path_extracted_HA ,'df_HA_F_intra.csv'), index=False, sep=';')\n",
    "li_df = []\n",
    "for v in li_cont_F:    \n",
    "    df_ = df_HA_F_intra.pivot(index=['ID4Rea','Person_feather'], columns='PassageID_feather', values=v).reset_index()\n",
    "    df_['HAvariable'] = v\n",
    "    li_df.append(df_)\n",
    "df_HA_F_intra_pivot = pd.concat(li_df)\n",
    "print(df_HA_F_intra_pivot.shape)\n",
    "#save for CCC in R\n",
    "df_HA_F_intra_pivot.to_csv(os.path.join(path_extracted_HA ,'df_HA_F_intra_pivot.csv'), index=False, sep=';')\n",
    "display(df_HA_F_intra_pivot.head(3))\n",
    "\n",
    "for person, df_ in df_HA_F_intra.groupby('Person_feather'):\n",
    "    print('------------------------------'+person)\n",
    "    for v in li_cont_F:\n",
    "        print('-------------------------------------------------------')\n",
    "        print(v)\n",
    "        plt.hist(df_[v]);\n",
    "        plt.show()\n",
    "        icc = pg.intraclass_corr(data=df_, targets='ID4Rea', raters='PassageID_feather',\n",
    "                                 ratings=v, nan_policy='omit').round(3)\n",
    "        print(icc)"
   ]
  },
  {
   "cell_type": "code",
   "execution_count": null,
   "metadata": {},
   "outputs": [],
   "source": []
  },
  {
   "cell_type": "code",
   "execution_count": null,
   "metadata": {},
   "outputs": [],
   "source": []
  },
  {
   "cell_type": "code",
   "execution_count": null,
   "metadata": {},
   "outputs": [],
   "source": []
  },
  {
   "cell_type": "code",
   "execution_count": null,
   "metadata": {},
   "outputs": [],
   "source": []
  },
  {
   "cell_type": "code",
   "execution_count": null,
   "metadata": {},
   "outputs": [],
   "source": []
  },
  {
   "cell_type": "code",
   "execution_count": null,
   "metadata": {},
   "outputs": [],
   "source": []
  },
  {
   "cell_type": "code",
   "execution_count": null,
   "metadata": {},
   "outputs": [],
   "source": []
  }
 ],
 "metadata": {
  "kernelspec": {
   "display_name": "Python 3",
   "language": "python",
   "name": "python3"
  },
  "language_info": {
   "codemirror_mode": {
    "name": "ipython",
    "version": 3
   },
   "file_extension": ".py",
   "mimetype": "text/x-python",
   "name": "python",
   "nbconvert_exporter": "python",
   "pygments_lexer": "ipython3",
   "version": "3.8.5"
  }
 },
 "nbformat": 4,
 "nbformat_minor": 2
}
