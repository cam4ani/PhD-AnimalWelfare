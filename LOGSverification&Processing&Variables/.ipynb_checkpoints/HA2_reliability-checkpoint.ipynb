{
 "cells": [
  {
   "cell_type": "code",
   "execution_count": 1,
   "metadata": {},
   "outputs": [
    {
     "name": "stderr",
     "output_type": "stream",
     "text": [
      "-- \u001b[1mAttaching packages\u001b[22m ------------------------------------------------------------------------------- tidyverse 1.3.0 --\n",
      "\n",
      "\u001b[32mv\u001b[39m \u001b[34mggplot2\u001b[39m 3.3.3     \u001b[32mv\u001b[39m \u001b[34mpurrr  \u001b[39m 0.3.4\n",
      "\u001b[32mv\u001b[39m \u001b[34mtibble \u001b[39m 3.0.5     \u001b[32mv\u001b[39m \u001b[34mdplyr  \u001b[39m 1.0.3\n",
      "\u001b[32mv\u001b[39m \u001b[34mtidyr  \u001b[39m 1.1.2     \u001b[32mv\u001b[39m \u001b[34mstringr\u001b[39m 1.4.0\n",
      "\u001b[32mv\u001b[39m \u001b[34mreadr  \u001b[39m 1.4.0     \u001b[32mv\u001b[39m \u001b[34mforcats\u001b[39m 0.5.0\n",
      "\n",
      "-- \u001b[1mConflicts\u001b[22m ---------------------------------------------------------------------------------- tidyverse_conflicts() --\n",
      "\u001b[31mx\u001b[39m \u001b[34mdplyr\u001b[39m::\u001b[32mfilter()\u001b[39m masks \u001b[34mstats\u001b[39m::filter()\n",
      "\u001b[31mx\u001b[39m \u001b[34mdplyr\u001b[39m::\u001b[32mlag()\u001b[39m    masks \u001b[34mstats\u001b[39m::lag()\n",
      "\n",
      "Loading required package: lpSolve\n",
      "\n",
      "Loading required package: survival\n",
      "\n",
      "Package epiR 2.0.19 is loaded\n",
      "\n",
      "Type help(epi.about) for summary information\n",
      "\n",
      "Type browseVignettes(package = 'epiR') to learn how to use epiR for applied epidemiological analyses\n",
      "\n",
      "\n",
      "\n",
      "\n"
     ]
    }
   ],
   "source": [
    "library ('tidyverse')\n",
    "library ('irr')\n",
    "#Lin's concordance correlation coefficient (CCC) is the concordance\n",
    "library('epiR')\n",
    "library('DescTools')"
   ]
  },
  {
   "cell_type": "code",
   "execution_count": 2,
   "metadata": {},
   "outputs": [],
   "source": [
    "li_cont_T = c('CombPecks','Injuries','Pododermatitis')\n",
    "li_cat_T = c('Diarrhea', 'Bumblefoot','HasBumblefoot','GeneralToe')\n",
    "li_cont_F = c('Feathers','NeckFeather', 'BreastFeather', 'CloacaFeather', 'BackFeather', 'WingFeather','TailFeather')"
   ]
  },
  {
   "cell_type": "markdown",
   "metadata": {},
   "source": [
    "# Toes - Inter"
   ]
  },
  {
   "cell_type": "code",
   "execution_count": 3,
   "metadata": {},
   "outputs": [
    {
     "name": "stdout",
     "output_type": "stream",
     "text": [
      "'data.frame':\t2074 obs. of  4 variables:\n",
      " $ ID4Rea    : Factor w/ 300 levels \"pen10_HA2_18orange_1\",..: 1 2 3 4 5 6 7 8 9 10 ...\n",
      " $ C         : num  0 0 50 40 15 10 25 10 25 25 ...\n",
      " $ M         : num  0 0 50 50 50 25 25 0 10 0 ...\n",
      " $ HAvariable: Factor w/ 7 levels \"Bumblefoot\",\"CombPecks\",..: 2 2 2 2 2 2 2 2 2 2 ...\n"
     ]
    }
   ],
   "source": [
    "#download data\n",
    "path_analysis = \"G:/VPHI/Welfare/2- Research Projects/OFHE2.OriginsE2/DataOutput/HA\"\n",
    "df = read.csv(file.path(path_analysis,\"df_HA_T_inter_pivot.csv\"),  header = TRUE, sep = \";\")\n",
    "str(df)\n",
    "\n",
    "#create a file to register data\n",
    "sink(file.path(path_analysis,'ToesRealiabilityInter.txt'))\n",
    "\n",
    "#continuous data\n",
    "for (var in li_cont_T){\n",
    "    cat(paste0('\\n-----------------',var), file=file.path(path_analysis,'ToesRealiabilityInter.txt'), append=TRUE)\n",
    "    cat(paste0('\\n------------- CCC'), file=file.path(path_analysis,'ToesRealiabilityInter.txt'), append=TRUE)\n",
    "    capture.output(CCC(x=subset(df, df$HAvariable==var)[['C']], \n",
    "                       y=subset(df, df$HAvariable==var)[['M']], ci = \"z-transform\", conf.level = 0.95, na.rm = FALSE)$rho.c,\n",
    "                   file=file.path(path_analysis,'ToesRealiabilityInter.txt'), append=TRUE)}\n",
    "\n",
    "#categorical/binary data\n",
    "for (var in li_cat_T){\n",
    "    cat(paste0('\\n-----------------',var),file=file.path(path_analysis,'ToesRealiabilityInter.txt'), append=TRUE)\n",
    "    df_ = data.frame(data.frame(subset(df, df$HAvariable==var)[['M']]),\n",
    "                     data.frame(subset(df, df$HAvariable==var)[['C']]))\n",
    "    capture.output(kappa2(df_[,c(1,2)], \"unweighted\"), \n",
    "                   file=file.path(path_analysis,'ToesRealiabilityInter.txt'), append=TRUE)}"
   ]
  },
  {
   "cell_type": "markdown",
   "metadata": {},
   "source": [
    "# Toes - Intra"
   ]
  },
  {
   "cell_type": "code",
   "execution_count": 4,
   "metadata": {},
   "outputs": [
    {
     "name": "stdout",
     "output_type": "stream",
     "text": [
      "'data.frame':\t2076 obs. of  5 variables:\n",
      " $ ID4Rea    : Factor w/ 150 levels \"pen10_HA2_18orange\",..: 1 1 2 2 3 3 4 4 5 5 ...\n",
      " $ Person_toe: Factor w/ 2 levels \"C\",\"M\": 1 2 1 2 1 2 1 2 1 2 ...\n",
      " $ X1.0      : num  0 0 50 50 15 50 25 25 25 10 ...\n",
      " $ X2.0      : num  0 0 40 50 10 25 10 0 25 0 ...\n",
      " $ HAvariable: Factor w/ 7 levels \"Bumblefoot\",\"CombPecks\",..: 2 2 2 2 2 2 2 2 2 2 ...\n"
     ]
    }
   ],
   "source": [
    "#download data\n",
    "path_analysis = \"G:/VPHI/Welfare/2- Research Projects/OFHE2.OriginsE2/DataOutput/HA\"\n",
    "df = read.csv(file.path(path_analysis,\"df_HA_T_intra_pivot.csv\"),  header = TRUE, sep = \";\")\n",
    "str(df)\n",
    "\n",
    "#create a file to register data\n",
    "sink(file.path(path_analysis,'ToesRealiabilityIntra.txt'))\n",
    "\n",
    "#continuous data with ICC & CCC\n",
    "for (person in unique(df[['Person_toe']])){\n",
    "    #print(person)\n",
    "    if (is.na(person)==FALSE){\n",
    "        cat(paste0('\\n--------------------------------------------------', person),\n",
    "            file=file.path(path_analysis,'ToesRealiabilityIntra.txt'), append=TRUE)\n",
    "        \n",
    "        #continuous data with CCC\n",
    "        for (var in li_cont_T){\n",
    "            #print(var)\n",
    "            cat(paste0('\\n-----------------',var), file=file.path(path_analysis,'ToesRealiabilityIntra.txt'), append=TRUE)\n",
    "            x=subset(df, (df$HAvariable==var) & (df$Person_toe==person))[['X1.0']]\n",
    "            y=subset(df, (df$HAvariable==var) & (df$Person_toe==person))[['X2.0']]\n",
    "            cat(paste0('\\n------------ CCC'), file=file.path(path_analysis,'ToesRealiabilityIntra.txt'), append=TRUE)            \n",
    "            capture.output(CCC(x=x, y=y, ci=\"z-transform\", conf.level=0.95, na.rm=FALSE)$rho.c,\n",
    "                       file=file.path(path_analysis,'ToesRealiabilityIntra.txt'), append=TRUE)}\n",
    "            \n",
    "        #categorical/binary data \n",
    "        for (var in li_cat_T){\n",
    "            cat(paste0('\\n-----------------',var),file=file.path(path_analysis,'ToesRealiabilityIntra.txt'), append=TRUE)\n",
    "            df_ = data.frame(data.frame(subset(df, (df$HAvariable==var) & (df$Person_toe==person))[['X1.0']]),\n",
    "                             data.frame(subset(df, (df$HAvariable==var) & (df$Person_toe==person))[['X2.0']]))\n",
    "            capture.output(kappa2(df_[,c(1,2)], \"unweighted\"), \n",
    "                           file=file.path(path_analysis,'ToesRealiabilityIntra.txt'), append=TRUE)\n",
    "        }}}"
   ]
  },
  {
   "cell_type": "markdown",
   "metadata": {},
   "source": [
    "# Feather - Inter"
   ]
  },
  {
   "cell_type": "code",
   "execution_count": 5,
   "metadata": {},
   "outputs": [
    {
     "name": "stdout",
     "output_type": "stream",
     "text": [
      "'data.frame':\t1645 obs. of  4 variables:\n",
      " $ ID4Rea    : Factor w/ 235 levels \"pen10_HA2_18orange_1\",..: 1 2 3 4 5 6 7 8 9 10 ...\n",
      " $ sabine    : num  100 100 90.7 96.3 99.3 ...\n",
      " $ satar     : num  99.3 100 100 100 100 ...\n",
      " $ HAvariable: Factor w/ 7 levels \"BackFeather\",..: 4 4 4 4 4 4 4 4 4 4 ...\n"
     ]
    }
   ],
   "source": [
    "#download data\n",
    "path_analysis = \"G:/VPHI/Welfare/2- Research Projects/OFHE2.OriginsE2/DataOutput/HA\"\n",
    "df = read.csv(file.path(path_analysis,\"df_HA_F_inter_pivot.csv\"),  header = TRUE, sep = \";\")\n",
    "str(df)\n",
    "\n",
    "#create a file to register data\n",
    "sink(file.path(path_analysis,'FeathersRealiabilityInter.txt'))\n",
    "\n",
    "#continuous data\n",
    "for (var in li_cont_F){\n",
    "    cat(paste0('\\n-----------------',var), file=file.path(path_analysis,'FeathersRealiabilityInter.txt'), append=TRUE)\n",
    "    cat(paste0('\\n------------- CCC'), file=file.path(path_analysis,'FeathersRealiabilityInter.txt'), append=TRUE)\n",
    "    capture.output(CCC(x=subset(df, df$HAvariable==var)[['sabine']], \n",
    "                       y=subset(df, df$HAvariable==var)[['satar']], ci = \"z-transform\", conf.level = 0.95, na.rm = FALSE)$rho.c,\n",
    "                   file=file.path(path_analysis,'FeathersRealiabilityInter.txt'), append=TRUE)}"
   ]
  },
  {
   "cell_type": "markdown",
   "metadata": {},
   "source": [
    "# Feather - Intra"
   ]
  },
  {
   "cell_type": "code",
   "execution_count": 6,
   "metadata": {},
   "outputs": [
    {
     "name": "stdout",
     "output_type": "stream",
     "text": [
      "'data.frame':\t1645 obs. of  5 variables:\n",
      " $ ID4Rea        : Factor w/ 118 levels \"pen10_HA2_18orange\",..: 1 1 2 2 3 3 4 4 5 5 ...\n",
      " $ Person_feather: Factor w/ 2 levels \"sabine\",\"satar\": 1 2 1 2 1 2 1 2 1 2 ...\n",
      " $ X1.0          : num  100 99.3 90.7 100 99.3 ...\n",
      " $ X2.0          : num  100 100 96.3 100 100 ...\n",
      " $ HAvariable    : Factor w/ 7 levels \"BackFeather\",..: 4 4 4 4 4 4 4 4 4 4 ...\n"
     ]
    }
   ],
   "source": [
    "#download data\n",
    "path_analysis = \"G:/VPHI/Welfare/2- Research Projects/OFHE2.OriginsE2/DataOutput/HA\"\n",
    "df = read.csv(file.path(path_analysis,\"df_HA_F_intra_pivot.csv\"),  header = TRUE, sep = \";\")\n",
    "str(df)\n",
    "\n",
    "#create a file to register data\n",
    "sink(file.path(path_analysis,'FeatherRealiabilityIntra.txt'))\n",
    "\n",
    "#continuous data with CCC\n",
    "for (person in unique(df[['Person_feather']])){\n",
    "    #print(person)\n",
    "    if (is.na(person)==FALSE){\n",
    "        cat(paste0('\\n--------------------------------------------------', person),\n",
    "            file=file.path(path_analysis,'FeatherRealiabilityIntra.txt'), append=TRUE)\n",
    "        \n",
    "        #continuous data with CCC\n",
    "        for (var in li_cont_F){\n",
    "            #print(var)\n",
    "            cat(paste0('\\n-----------------',var), file=file.path(path_analysis,'FeatherRealiabilityIntra.txt'), append=TRUE)\n",
    "            x=subset(df, (df$HAvariable==var) & (df$Person_feather==person))[['X1.0']]\n",
    "            y=subset(df, (df$HAvariable==var) & (df$Person_feather==person))[['X2.0']]\n",
    "            cat(paste0('------------ CCC'), file=file.path(path_analysis,'FeatherRealiabilityIntra.txt'), append=TRUE)            \n",
    "            capture.output(CCC(x=x, y=y, ci=\"z-transform\", conf.level=0.95, na.rm=FALSE)$rho.c,\n",
    "                       file=file.path(path_analysis,'FeatherRealiabilityIntra.txt'), append=TRUE)\n",
    "        }}}"
   ]
  },
  {
   "cell_type": "markdown",
   "metadata": {},
   "source": [
    "df = as.data.frame(CCC(x=x, y=y, ci=\"z-transform\", conf.level=0.95, na.rm=FALSE)$rho.c, col.names = names(x), stringsAsFactors = FALSE)\n",
    "df = as.data.frame(c(''))\n",
    "df_ = as.data.frame(CCC(x=x, y=y, ci=\"z-transform\", conf.level=0.95, na.rm=FALSE)$rho.c, col.names = names(x), stringsAsFactors = FALSE)\n",
    "df = rbind(df, df_)\n",
    "df"
   ]
  },
  {
   "cell_type": "code",
   "execution_count": null,
   "metadata": {},
   "outputs": [],
   "source": []
  },
  {
   "cell_type": "code",
   "execution_count": null,
   "metadata": {},
   "outputs": [],
   "source": []
  },
  {
   "cell_type": "code",
   "execution_count": null,
   "metadata": {},
   "outputs": [],
   "source": []
  },
  {
   "cell_type": "code",
   "execution_count": null,
   "metadata": {},
   "outputs": [],
   "source": []
  },
  {
   "cell_type": "code",
   "execution_count": null,
   "metadata": {},
   "outputs": [],
   "source": []
  },
  {
   "cell_type": "code",
   "execution_count": null,
   "metadata": {},
   "outputs": [],
   "source": []
  }
 ],
 "metadata": {
  "kernelspec": {
   "display_name": "R",
   "language": "R",
   "name": "ir"
  },
  "language_info": {
   "codemirror_mode": "r",
   "file_extension": ".r",
   "mimetype": "text/x-r-source",
   "name": "R",
   "pygments_lexer": "r",
   "version": "3.6.3"
  }
 },
 "nbformat": 4,
 "nbformat_minor": 4
}
