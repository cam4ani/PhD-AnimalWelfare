{
 "cells": [
  {
   "cell_type": "code",
   "execution_count": 1,
   "metadata": {},
   "outputs": [],
   "source": [
    "#basic package\n",
    "import tqdm\n",
    "import os\n",
    "import numpy as np\n",
    "import glob\n",
    "import pandas as pd\n",
    "import math\n",
    "import sys\n",
    "from scipy import stats\n",
    "import matplotlib.pyplot as plt"
   ]
  },
  {
   "cell_type": "code",
   "execution_count": 2,
   "metadata": {},
   "outputs": [],
   "source": [
    "PACKAGE_PARENT = '../'\n",
    "SCRIPT_DIR = os.path.dirname(os.path.realpath(os.path.join(os.getcwd(), os.path.expanduser('__file__'))))\n",
    "sys.path.append(os.path.normpath(os.path.join(SCRIPT_DIR, PACKAGE_PARENT)))\n",
    "import config_origins as config"
   ]
  },
  {
   "cell_type": "raw",
   "metadata": {},
   "source": [
    "reliability_CM, reliability_SS are kept separate as sometimes one of the group missed a bird, in which case this bird will be kept in reliability dataset for only one of the group."
   ]
  },
  {
   "cell_type": "markdown",
   "metadata": {},
   "source": [
    "# Define parameters"
   ]
  },
  {
   "cell_type": "code",
   "execution_count": 3,
   "metadata": {
    "scrolled": true
   },
   "outputs": [
    {
     "name": "stdout",
     "output_type": "stream",
     "text": [
      "change the configuration file if not done yet!\n"
     ]
    }
   ],
   "source": [
    "print('change the configuration file if not done yet!')\n",
    "path_extracted_data = config.path_extracted_data\n",
    "path_dataoutput = config.path_dataoutput\n",
    "path_initial_data = config.path_initial_data\n",
    "id_run = config.id_run\n",
    "dico_HAID_date = config.dico_HAID_date\n",
    "path_extracted_HA = config.path_extracted_HA"
   ]
  },
  {
   "cell_type": "markdown",
   "metadata": {},
   "source": [
    "# Download variables"
   ]
  },
  {
   "cell_type": "code",
   "execution_count": null,
   "metadata": {
    "scrolled": true
   },
   "outputs": [
    {
     "name": "stdout",
     "output_type": "stream",
     "text": [
      "--------------------- HA1\n",
      "(257, 20)\n",
      "--------------------- HA2\n",
      "(256, 30)\n",
      "--------------------- HA3\n"
     ]
    }
   ],
   "source": [
    "li_df = []\n",
    "for path_ in glob.glob(os.path.join(path_dataoutput, 'HA', 'HA*', 'HA*.csv')):\n",
    "    HAID = path_.split('\\\\')[-1].split('.')[0]\n",
    "    print('---------------------', HAID)\n",
    "    df_ = pd.read_csv(path_, sep=';',encoding='latin1') \n",
    "    df_['HAID'] = HAID\n",
    "    df_['date'] = dico_HAID_date[HAID]\n",
    "    df_ = df_.rename(columns={'Pen ':'Pen'})\n",
    "    df_ = df_[~df_['FocalLegringName'].isnull()]\n",
    "    print(df_.shape)\n",
    "    #print(df_.columns)\n",
    "    #display(df_.head(2))\n",
    "    li_df.append(df_)\n",
    "df_HA = pd.concat(li_df)\n",
    "#small typo corrections\n",
    "df_HA['BirdType'] = df_HA['BirdType'].fillna('normal')\n",
    "df_HA['BirdType'] = df_HA['BirdType'].map(lambda x: x.strip(' '))\n",
    "df_HA = df_HA.rename(columns={'Pen':'PenID'})\n",
    "df_HA['PenID'] = df_HA['PenID'].map(lambda x: 'pen'+str(int(x)))\n",
    "print(df_HA.columns)\n",
    "print(df_HA.shape)\n",
    "df_HA.head(3)"
   ]
  },
  {
   "cell_type": "markdown",
   "metadata": {},
   "source": [
    "# Processing"
   ]
  },
  {
   "cell_type": "code",
   "execution_count": null,
   "metadata": {},
   "outputs": [],
   "source": [
    "#add variables\n",
    "#overall pododeratitis: should be worst over time, so only HA4\n",
    "df_HA['Injuries'] = df_HA.apply(lambda x: x['LFinjuries']+x['RFinjuries'], axis=1)\n",
    "df_HA['Pododermatitis'] = df_HA.apply(lambda x: x['RFPododermatitis']+x['LFPododermatitis'], axis=1)\n",
    "df_HA['Bumblefoot'] = df_HA.apply(lambda x: x['RFBumblefoot']+x['LFBumblefoot'], axis=1)\n",
    "df_HA['Toes'] = df_HA['Toes'].fillna('')\n",
    "df_HA['Toes_inflammed'] = df_HA['Toes'].map(lambda x: 'inflammed' in x.lower())\n",
    "#df_HA['BigInjuriesOrInflammed'] = df_HA.apply(lambda x: 1 if ((x['LFinjuries']>=100) | (x['RFinjuries']>=100) |\\\n",
    "#                                                              (x['Toes_inflammed']==1)) else 0, axis=1)\n",
    "df_HA['Diarrhea'] = df_HA['Diarrhea'].replace('N/A',np.nan).replace('N/A ',np.nan)\n",
    "df_HA['Diarrhea'] = df_HA['Diarrhea'].astype(float)\n",
    "df_HA['Diarrhea'] = df_HA['Diarrhea'].map(lambda x: 1 if x==2 else x)\n",
    "#overall feather as in general have the same tendency\n",
    "df_HA['Feathers'] = df_HA.apply(lambda x: np.mean([x['BreastFeather'],x['CloacaFeather'],\n",
    "                                                   x['WingFeather'],x['TailFeather']]), axis=1)\n",
    "#backfeather & NeckFeather removed as not reliable at all\n",
    "df_HA.head(3)"
   ]
  },
  {
   "cell_type": "markdown",
   "metadata": {},
   "source": [
    "display(df_HA['BigInjuriesOrInflammed'].value_counts())\n",
    "display(df_HA['Toes'].value_counts())\n",
    "display(df_HA['Claw'].value_counts())"
   ]
  },
  {
   "cell_type": "code",
   "execution_count": null,
   "metadata": {},
   "outputs": [],
   "source": [
    "#initialize set of variables\n",
    "#keep LeftFoot and RightFoot separate due to slightly different conditions that might influence the realiability (e.g. 2 \n",
    "#legrings on one side, e.g. how the students hold the birds)\n",
    "li_cont_T = ['CombPecks', 'RFPododermatitis', 'RFinjuries', 'LFPododermatitis', 'LFinjuries','Injuries','Pododermatitis']\n",
    "li_cat_T = ['Diarrhea','RFBumblefoot', 'LFBumblefoot', 'Bumblefoot']\n",
    "li_cont_F = ['Feathers','NeckFeather', 'BreastFeather', 'CloacaFeather', 'BackFeather', 'WingFeather','TailFeather']"
   ]
  },
  {
   "cell_type": "markdown",
   "metadata": {},
   "source": [
    "# Toes"
   ]
  },
  {
   "cell_type": "code",
   "execution_count": null,
   "metadata": {},
   "outputs": [],
   "source": [
    "df_HA_T = df_HA[(df_HA['Reliability_MC']==1)&(~df_HA['Person_toe'].isnull())&(~df_HA['PassageID_toe'].isnull())].copy()\n",
    "print(df_HA_T.shape)\n",
    "df_HA_T.head(3)"
   ]
  },
  {
   "cell_type": "code",
   "execution_count": null,
   "metadata": {
    "scrolled": true
   },
   "outputs": [],
   "source": [
    "########## INTER: mark vs camille\n",
    "#verify each value of \"ID4Rea\" have one observation for the two raters of the feathers and the two raters for the toes\n",
    "#unique ID for each observations based on their unique set of info\n",
    "df_HA_T_inter = df_HA_T.copy()\n",
    "df_HA_T_inter['ID4Rea'] = df_HA_T_inter.apply(lambda x: (x['PenID'].strip(' ')+'_'+x['HAID'].strip(' ')+'_'+\\\n",
    "                                             x['FocalLegringName'].strip(' ')+'_'+str(int(x['PassageID_toe']))), axis=1)\n",
    "df_HA_T_inter = df_HA_T_inter[['Person_toe','ID4Rea']+li_cont_T+li_cat_T]\n",
    "#correct persons name\n",
    "df_HA_T_inter['Person_toe'] = df_HA_T_inter['Person_toe'].map(lambda x: x[0])\n",
    "display(df_HA_T_inter['Person_toe'].value_counts())\n",
    "\n",
    "################# save for CCC in R\n",
    "li_df = []\n",
    "for v in li_cont_T+li_cat_T:\n",
    "    df_ = df_HA_T_inter.pivot(index='ID4Rea', columns='Person_toe', values=v).reset_index()\n",
    "    df_['HAvariable'] = v\n",
    "    li_df.append(df_)\n",
    "df_HA_T_inter_pivot = pd.concat(li_df)\n",
    "print(df_HA_T_inter_pivot.shape)\n",
    "#save for CCC in R\n",
    "df_HA_T_inter_pivot.to_csv(os.path.join(path_extracted_HA ,'df_HA_T_inter_pivot.csv'), index=False, sep=';')\n",
    "display(df_HA_T_inter_pivot.head(3))\n",
    "\n",
    "#identify potential issues\n",
    "#df_ = df_HA_T_inter.groupby(['ID4Rea'])['Person_toe'].agg(lambda x: '_'.join(sorted(list(x)))).reset_index()\n",
    "#df_[df_['Person_toe']!='C_M']"
   ]
  },
  {
   "cell_type": "code",
   "execution_count": null,
   "metadata": {},
   "outputs": [],
   "source": [
    "########## INTRA: mark vs mark AND camille vs camille\n",
    "#verify each value of \"ID4Rea\" have one observation for the two raters of the feathers and the two raters for the toes\n",
    "#unique ID for each observations based on their unique set of info\n",
    "df_HA_T_intra = df_HA_T.copy()\n",
    "df_HA_T_intra['ID4Rea'] = df_HA_T_intra.apply(lambda x: (x['PenID'].strip(' ')+'_'+x['HAID'].strip(' ')+'_'+\\\n",
    "                                             x['FocalLegringName'].strip(' ')), axis=1)\n",
    "df_HA_T_intra = df_HA_T_intra[['Person_toe','ID4Rea', 'PassageID_toe']+li_cont_T+li_cat_T]\n",
    "#correct persons name\n",
    "df_HA_T_intra['Person_toe'] = df_HA_T_intra['Person_toe'].map(lambda x: x[0])\n",
    "display(df_HA_T_intra['Person_toe'].value_counts())\n",
    "#################3 save for CCC in R\n",
    "li_df = []\n",
    "for v in li_cont_T+li_cat_T:\n",
    "    df_ = df_HA_T_intra.pivot(index=['ID4Rea','Person_toe'], columns='PassageID_toe', values=v).reset_index()\n",
    "    df_['HAvariable'] = v\n",
    "    li_df.append(df_)\n",
    "df_HA_T_intra_pivot = pd.concat(li_df)\n",
    "print(df_HA_T_intra_pivot.shape)\n",
    "#save for CCC in R\n",
    "df_HA_T_intra_pivot.to_csv(os.path.join(path_extracted_HA ,'df_HA_T_intra_pivot.csv'), index=False, sep=';')\n",
    "display(df_HA_T_intra_pivot.head(3))\n",
    "\n",
    "#identify potential issues\n",
    "#df_ = df_HA_T_intra.groupby(['ID4Rea'])['Person_toe'].agg(lambda x: '_'.join(sorted(list(x)))).reset_index()\n",
    "#df_[df_['Person_toe']!='C_M']"
   ]
  },
  {
   "cell_type": "markdown",
   "metadata": {},
   "source": [
    "# Feathers"
   ]
  },
  {
   "cell_type": "code",
   "execution_count": null,
   "metadata": {},
   "outputs": [],
   "source": [
    "df_HA_F = df_HA[(df_HA['Reliability_SS']==1)&(~df_HA['Person_feather'].isnull())&(~df_HA['PassageID_feather'].isnull())].copy()\n",
    "print(df_HA_F.shape)\n",
    "df_HA_F.head(3)"
   ]
  },
  {
   "cell_type": "code",
   "execution_count": null,
   "metadata": {},
   "outputs": [],
   "source": [
    "########## INTER: sabine vs Satar\n",
    "#verify each value of \"ID4Rea\" have one observation for the two raters of the feathers and the two raters for the feathers\n",
    "#unique ID for each observations based on their unique set of info\n",
    "df_HA_F_inter = df_HA_F.copy()\n",
    "df_HA_F_inter['ID4Rea'] = df_HA_F_inter.apply(lambda x: (x['PenID'].strip(' ')+'_'+x['HAID'].strip(' ')+'_'+\\\n",
    "                                             x['FocalLegringName'].strip(' ')+'_'+str(int(x['PassageID_feather']))), axis=1)\n",
    "df_HA_F_inter = df_HA_F_inter[['Person_feather','ID4Rea']+li_cont_F]\n",
    "#correct persons name\n",
    "df_HA_F_inter['Person_feather'] = df_HA_F_inter['Person_feather'].map(lambda x: x.lower())\n",
    "display(df_HA_F_inter['Person_feather'].value_counts())\n",
    "#identify potential issues\n",
    "#df_ = df_HA_F_inter.groupby(['ID4Rea'])['Person_feather'].agg(lambda x: '_'.join(sorted(list(x)))).reset_index()\n",
    "#df_[df_['Person_feather']!='sabine_satar']\n",
    "################# save for CCC in R\n",
    "li_df = []\n",
    "for v in li_cont_F:\n",
    "    df_ = df_HA_F_inter.pivot(index='ID4Rea', columns='Person_feather', values=v).reset_index()\n",
    "    df_['HAvariable'] = v\n",
    "    li_df.append(df_)\n",
    "df_HA_F_inter_pivot = pd.concat(li_df)\n",
    "print(df_HA_F_inter_pivot.shape)\n",
    "#save for CCC in R\n",
    "df_HA_F_inter_pivot.to_csv(os.path.join(path_extracted_HA ,'df_HA_F_inter_pivot.csv'), index=False, sep=';')\n",
    "display(df_HA_F_inter_pivot.head(3))"
   ]
  },
  {
   "cell_type": "code",
   "execution_count": null,
   "metadata": {},
   "outputs": [],
   "source": [
    "########## INTRA: sabine vs Sabine / Satar vs Satar\n",
    "#verify each value of \"ID4Rea\" have one observation for the two raters of the feathers and the two raters for the feathers\n",
    "#unique ID for each observations based on their unique set of info\n",
    "df_HA_F_intra = df_HA_F.copy()\n",
    "df_HA_F_intra['ID4Rea'] = df_HA_F_intra.apply(lambda x: (x['PenID'].strip(' ')+'_'+x['HAID'].strip(' ')+'_'+\\\n",
    "                                             x['FocalLegringName'].strip(' ')), axis=1)\n",
    "df_HA_F_intra = df_HA_F_intra[['Person_feather','ID4Rea','PassageID_feather']+li_cont_F]\n",
    "#correct persons name\n",
    "df_HA_F_intra['Person_feather'] = df_HA_F_intra['Person_feather'].map(lambda x: x.lower())\n",
    "display(df_HA_F_intra['Person_feather'].value_counts())\n",
    "################### save for CCC in R\n",
    "li_df = []\n",
    "for v in li_cont_F:    \n",
    "    df_ = df_HA_F_intra.pivot(index=['ID4Rea','Person_feather'], columns='PassageID_feather', values=v).reset_index()\n",
    "    df_['HAvariable'] = v\n",
    "    li_df.append(df_)\n",
    "df_HA_F_intra_pivot = pd.concat(li_df)\n",
    "print(df_HA_F_intra_pivot.shape)\n",
    "#save for CCC in R\n",
    "df_HA_F_intra_pivot.to_csv(os.path.join(path_extracted_HA ,'df_HA_F_intra_pivot.csv'), index=False, sep=';')\n",
    "display(df_HA_F_intra_pivot.head(3))"
   ]
  },
  {
   "cell_type": "code",
   "execution_count": null,
   "metadata": {},
   "outputs": [],
   "source": []
  },
  {
   "cell_type": "code",
   "execution_count": null,
   "metadata": {},
   "outputs": [],
   "source": []
  },
  {
   "cell_type": "code",
   "execution_count": null,
   "metadata": {},
   "outputs": [],
   "source": []
  },
  {
   "cell_type": "code",
   "execution_count": null,
   "metadata": {},
   "outputs": [],
   "source": []
  },
  {
   "cell_type": "code",
   "execution_count": null,
   "metadata": {},
   "outputs": [],
   "source": []
  },
  {
   "cell_type": "code",
   "execution_count": null,
   "metadata": {},
   "outputs": [],
   "source": []
  },
  {
   "cell_type": "code",
   "execution_count": null,
   "metadata": {},
   "outputs": [],
   "source": []
  },
  {
   "cell_type": "code",
   "execution_count": null,
   "metadata": {},
   "outputs": [],
   "source": []
  },
  {
   "cell_type": "code",
   "execution_count": null,
   "metadata": {},
   "outputs": [],
   "source": []
  },
  {
   "cell_type": "code",
   "execution_count": null,
   "metadata": {},
   "outputs": [],
   "source": []
  }
 ],
 "metadata": {
  "kernelspec": {
   "display_name": "Python 3",
   "language": "python",
   "name": "python3"
  },
  "language_info": {
   "codemirror_mode": {
    "name": "ipython",
    "version": 3
   },
   "file_extension": ".py",
   "mimetype": "text/x-python",
   "name": "python",
   "nbconvert_exporter": "python",
   "pygments_lexer": "ipython3",
   "version": "3.8.5"
  }
 },
 "nbformat": 4,
 "nbformat_minor": 2
}
