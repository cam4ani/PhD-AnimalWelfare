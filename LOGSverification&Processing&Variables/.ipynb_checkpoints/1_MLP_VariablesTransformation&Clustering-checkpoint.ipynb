{
 "cells": [
  {
   "cell_type": "code",
   "execution_count": 1,
   "metadata": {},
   "outputs": [],
   "source": [
    "#basic package\n",
    "import tqdm\n",
    "import os\n",
    "import numpy as np\n",
    "import glob\n",
    "import pandas as pd\n",
    "import sys\n",
    "import time\n",
    "import datetime as dt\n",
    "import itertools\n",
    "import re\n",
    "import math\n",
    "from collections import Counter\n",
    "import operator\n",
    "\n",
    "#scaling\n",
    "from sklearn.preprocessing import StandardScaler, MinMaxScaler\n",
    "\n",
    "#PCA\n",
    "from sklearn import decomposition\n",
    "\n",
    "#clustering\n",
    "from sklearn.cluster import KMeans #only numerical var\n",
    "from sklearn.metrics import silhouette_samples, silhouette_score\n",
    "import kmodes\n",
    "from kmodes.kmodes import KModes #with categorical var as well\n",
    "\n",
    "#plot\n",
    "import matplotlib.pyplot as plt\n",
    "import seaborn as sns\n",
    "from mpl_toolkits.mplot3d import Axes3D"
   ]
  },
  {
   "cell_type": "code",
   "execution_count": 2,
   "metadata": {},
   "outputs": [
    {
     "name": "stderr",
     "output_type": "stream",
     "text": [
      "C:\\Users\\camil\\anaconda3\\lib\\site-packages\\scipy\\sparse\\sparsetools.py:21: DeprecationWarning: `scipy.sparse.sparsetools` is deprecated!\n",
      "scipy.sparse.sparsetools is a private module for scipy.sparse, and should not be used.\n",
      "  _deprecated()\n"
     ]
    }
   ],
   "source": [
    "PACKAGE_PARENT = '../'\n",
    "SCRIPT_DIR = os.path.dirname(os.path.realpath(os.path.join(os.getcwd(), os.path.expanduser('__file__'))))\n",
    "sys.path.append(os.path.normpath(os.path.join(SCRIPT_DIR, PACKAGE_PARENT)))\n",
    "from UTILS import kmeans_clustering\n",
    "import config_origins as config"
   ]
  },
  {
   "cell_type": "markdown",
   "metadata": {},
   "source": [
    "# Define parameters"
   ]
  },
  {
   "cell_type": "code",
   "execution_count": 3,
   "metadata": {
    "scrolled": true
   },
   "outputs": [
    {
     "name": "stdout",
     "output_type": "stream",
     "text": [
      "change the configuration file if not done yet!\n",
      "chapter0_final_\n"
     ]
    },
    {
     "name": "stderr",
     "output_type": "stream",
     "text": [
      "C:\\Users\\camil\\anaconda3\\lib\\site-packages\\ipykernel\\ipkernel.py:283: DeprecationWarning: `should_run_async` will not call `transform_cell` automatically in the future. Please pass the result to `transformed_cell` argument and any exception that happen during thetransform in `preprocessing_exc_tuple` in IPython 7.17 and above.\n",
      "  and should_run_async(code)\n"
     ]
    }
   ],
   "source": [
    "print('change the configuration file if not done yet!')\n",
    "path_extracted_data = config.path_extracted_data\n",
    "path_initial_data = config.path_initial_data\n",
    "id_run = config.id_run\n",
    "dico_matching = config.dico_matching\n",
    "dico_garden_opening_hour = config.dico_garden_opening_hour\n",
    "print(id_run)\n",
    "path_cluster = os.path.join(path_extracted_data,'clustering')\n",
    "#create a director if not existing\n",
    "if not os.path.exists(path_cluster):\n",
    "    os.makedirs(path_cluster)"
   ]
  },
  {
   "cell_type": "markdown",
   "metadata": {},
   "source": [
    "# Download variables"
   ]
  },
  {
   "cell_type": "code",
   "execution_count": 4,
   "metadata": {},
   "outputs": [
    {
     "name": "stderr",
     "output_type": "stream",
     "text": [
      "C:\\Users\\camil\\anaconda3\\lib\\site-packages\\ipykernel\\ipkernel.py:283: DeprecationWarning: `should_run_async` will not call `transform_cell` automatically in the future. Please pass the result to `transformed_cell` argument and any exception that happen during thetransform in `preprocessing_exc_tuple` in IPython 7.17 and above.\n",
      "  and should_run_async(code)\n",
      "C:\\Users\\camil\\anaconda3\\lib\\site-packages\\IPython\\core\\interactiveshell.py:3146: DtypeWarning: Columns (98,100,130) have mixed types.Specify dtype option on import or set low_memory=False.\n",
      "  has_raised = await self.run_ast_nodes(code_ast.body, cell_name,\n"
     ]
    },
    {
     "data": {
      "text/html": [
       "<div>\n",
       "<style scoped>\n",
       "    .dataframe tbody tr th:only-of-type {\n",
       "        vertical-align: middle;\n",
       "    }\n",
       "\n",
       "    .dataframe tbody tr th {\n",
       "        vertical-align: top;\n",
       "    }\n",
       "\n",
       "    .dataframe thead th {\n",
       "        text-align: right;\n",
       "    }\n",
       "</style>\n",
       "<table border=\"1\" class=\"dataframe\">\n",
       "  <thead>\n",
       "    <tr style=\"text-align: right;\">\n",
       "      <th></th>\n",
       "      <th>level</th>\n",
       "      <th>DOA</th>\n",
       "      <th>WOA</th>\n",
       "    </tr>\n",
       "  </thead>\n",
       "  <tbody>\n",
       "    <tr>\n",
       "      <th>68198</th>\n",
       "      <td>2020-12-22</td>\n",
       "      <td>202</td>\n",
       "      <td>29</td>\n",
       "    </tr>\n",
       "    <tr>\n",
       "      <th>68199</th>\n",
       "      <td>2020-10-26</td>\n",
       "      <td>145</td>\n",
       "      <td>21</td>\n",
       "    </tr>\n",
       "    <tr>\n",
       "      <th>68200</th>\n",
       "      <td>2020-12-22</td>\n",
       "      <td>202</td>\n",
       "      <td>29</td>\n",
       "    </tr>\n",
       "  </tbody>\n",
       "</table>\n",
       "</div>"
      ],
      "text/plain": [
       "           level  DOA  WOA\n",
       "68198 2020-12-22  202   29\n",
       "68199 2020-10-26  145   21\n",
       "68200 2020-12-22  202   29"
      ]
     },
     "metadata": {},
     "output_type": "display_data"
    },
    {
     "name": "stdout",
     "output_type": "stream",
     "text": [
      "(68126, 133)\n"
     ]
    },
    {
     "data": {
      "text/html": [
       "<div>\n",
       "<style scoped>\n",
       "    .dataframe tbody tr th:only-of-type {\n",
       "        vertical-align: middle;\n",
       "    }\n",
       "\n",
       "    .dataframe tbody tr th {\n",
       "        vertical-align: top;\n",
       "    }\n",
       "\n",
       "    .dataframe thead th {\n",
       "        text-align: right;\n",
       "    }\n",
       "</style>\n",
       "<table border=\"1\" class=\"dataframe\">\n",
       "  <thead>\n",
       "    <tr style=\"text-align: right;\">\n",
       "      <th></th>\n",
       "      <th>HenID</th>\n",
       "      <th>level</th>\n",
       "      <th>duration_1_Zone</th>\n",
       "      <th>duration_2_Zone</th>\n",
       "      <th>duration_3_Zone</th>\n",
       "      <th>duration_4_Zone</th>\n",
       "      <th>duration_5_Zone</th>\n",
       "      <th>verification_daily_total_duration</th>\n",
       "      <th>dur_values</th>\n",
       "      <th>dur_values_normalized</th>\n",
       "      <th>...</th>\n",
       "      <th>temperature_night20_2_max</th>\n",
       "      <th>temperature_night20_2_var</th>\n",
       "      <th>list_of_MovementCounter_day</th>\n",
       "      <th>len_MovementCounter_day</th>\n",
       "      <th>MovementCounter_day_amount_nnactivity</th>\n",
       "      <th>MovementCounter_day_max</th>\n",
       "      <th>MovementCounter_day_mean</th>\n",
       "      <th>weight 01-02-21</th>\n",
       "      <th>DOA</th>\n",
       "      <th>WOA</th>\n",
       "    </tr>\n",
       "  </thead>\n",
       "  <tbody>\n",
       "    <tr>\n",
       "      <th>0</th>\n",
       "      <td>hen_130</td>\n",
       "      <td>2020-10-04</td>\n",
       "      <td>0.0</td>\n",
       "      <td>140.0</td>\n",
       "      <td>1166.0</td>\n",
       "      <td>79.0</td>\n",
       "      <td>30613.0</td>\n",
       "      <td>31998.0</td>\n",
       "      <td>[0.0, 140.0, 1166.0, 79.0, 30613.0]</td>\n",
       "      <td>[0.0, 0.004375273454590912, 0.0364397774860928...</td>\n",
       "      <td>...</td>\n",
       "      <td>NaN</td>\n",
       "      <td>NaN</td>\n",
       "      <td>NaN</td>\n",
       "      <td>NaN</td>\n",
       "      <td>NaN</td>\n",
       "      <td>NaN</td>\n",
       "      <td>NaN</td>\n",
       "      <td>NaN</td>\n",
       "      <td>123</td>\n",
       "      <td>18</td>\n",
       "    </tr>\n",
       "    <tr>\n",
       "      <th>1</th>\n",
       "      <td>hen_130</td>\n",
       "      <td>2020-10-05</td>\n",
       "      <td>0.0</td>\n",
       "      <td>0.0</td>\n",
       "      <td>0.0</td>\n",
       "      <td>0.0</td>\n",
       "      <td>32400.0</td>\n",
       "      <td>32400.0</td>\n",
       "      <td>[0.0, 0.0, 0.0, 0.0, 32400.0]</td>\n",
       "      <td>[0.0, 0.0, 0.0, 0.0, 1.0]</td>\n",
       "      <td>...</td>\n",
       "      <td>NaN</td>\n",
       "      <td>NaN</td>\n",
       "      <td>NaN</td>\n",
       "      <td>NaN</td>\n",
       "      <td>NaN</td>\n",
       "      <td>NaN</td>\n",
       "      <td>NaN</td>\n",
       "      <td>NaN</td>\n",
       "      <td>124</td>\n",
       "      <td>18</td>\n",
       "    </tr>\n",
       "    <tr>\n",
       "      <th>2</th>\n",
       "      <td>hen_130</td>\n",
       "      <td>2020-10-06</td>\n",
       "      <td>0.0</td>\n",
       "      <td>0.0</td>\n",
       "      <td>780.0</td>\n",
       "      <td>325.0</td>\n",
       "      <td>31295.0</td>\n",
       "      <td>32400.0</td>\n",
       "      <td>[0.0, 0.0, 780.0, 325.0, 31295.0]</td>\n",
       "      <td>[0.0, 0.0, 0.024074074074074074, 0.01003086419...</td>\n",
       "      <td>...</td>\n",
       "      <td>NaN</td>\n",
       "      <td>NaN</td>\n",
       "      <td>NaN</td>\n",
       "      <td>NaN</td>\n",
       "      <td>NaN</td>\n",
       "      <td>NaN</td>\n",
       "      <td>NaN</td>\n",
       "      <td>NaN</td>\n",
       "      <td>125</td>\n",
       "      <td>18</td>\n",
       "    </tr>\n",
       "  </tbody>\n",
       "</table>\n",
       "<p>3 rows × 133 columns</p>\n",
       "</div>"
      ],
      "text/plain": [
       "     HenID      level  duration_1_Zone  duration_2_Zone  duration_3_Zone  \\\n",
       "0  hen_130 2020-10-04              0.0            140.0           1166.0   \n",
       "1  hen_130 2020-10-05              0.0              0.0              0.0   \n",
       "2  hen_130 2020-10-06              0.0              0.0            780.0   \n",
       "\n",
       "   duration_4_Zone  duration_5_Zone  verification_daily_total_duration  \\\n",
       "0             79.0          30613.0                            31998.0   \n",
       "1              0.0          32400.0                            32400.0   \n",
       "2            325.0          31295.0                            32400.0   \n",
       "\n",
       "                            dur_values  \\\n",
       "0  [0.0, 140.0, 1166.0, 79.0, 30613.0]   \n",
       "1        [0.0, 0.0, 0.0, 0.0, 32400.0]   \n",
       "2    [0.0, 0.0, 780.0, 325.0, 31295.0]   \n",
       "\n",
       "                               dur_values_normalized  ...  \\\n",
       "0  [0.0, 0.004375273454590912, 0.0364397774860928...  ...   \n",
       "1                          [0.0, 0.0, 0.0, 0.0, 1.0]  ...   \n",
       "2  [0.0, 0.0, 0.024074074074074074, 0.01003086419...  ...   \n",
       "\n",
       "  temperature_night20_2_max temperature_night20_2_var  \\\n",
       "0                       NaN                       NaN   \n",
       "1                       NaN                       NaN   \n",
       "2                       NaN                       NaN   \n",
       "\n",
       "  list_of_MovementCounter_day len_MovementCounter_day  \\\n",
       "0                         NaN                     NaN   \n",
       "1                         NaN                     NaN   \n",
       "2                         NaN                     NaN   \n",
       "\n",
       "  MovementCounter_day_amount_nnactivity  MovementCounter_day_max  \\\n",
       "0                                   NaN                      NaN   \n",
       "1                                   NaN                      NaN   \n",
       "2                                   NaN                      NaN   \n",
       "\n",
       "  MovementCounter_day_mean weight 01-02-21  DOA WOA  \n",
       "0                      NaN             NaN  123  18  \n",
       "1                      NaN             NaN  124  18  \n",
       "2                      NaN             NaN  125  18  \n",
       "\n",
       "[3 rows x 133 columns]"
      ]
     },
     "execution_count": 4,
     "metadata": {},
     "output_type": "execute_result"
    }
   ],
   "source": [
    "#for being more reproductible, we open the file that was saved from cleaning\n",
    "df_daily = pd.read_csv(os.path.join(path_extracted_data, id_run+'_daily_ALL_variables.csv'), sep=';', \n",
    "                 parse_dates=['level', 'FirstTimestamp_1_Zone', 'FirstTimestamp_2_Zone', 'FirstTimestamp_3_Zone',\n",
    "                              'FirstTimestamp_4_Zone', 'FirstTimestamp_5_Zone', \n",
    "                              'Nestbox_time_of_first_staid_longer_than900sec',\n",
    "                              'duration_last-firsttransition_mn']) \n",
    "#TODO: remove the duraiton transiotnation!! adn form the parse_dates to!!!!!\n",
    "#df_daily['duration_last-firsttransition_mn'] = df_daily['duration_last-firsttransition_mn'].map(lambda x: round(x.hour*60+x.minute+x.second/60,0))\n",
    "#remove last day\n",
    "df_daily = df_daily[~df_daily['level'].isin([max(df_daily['level'].unique())])]\n",
    "#add DOA, WOA\n",
    "#x = day of age, y_i = % of birds that have same cluster ID as i day(s) before\n",
    "df_daily['DOA'] = df_daily['level'].map(lambda x: (x-dt.datetime(2020,6,3)).days) \n",
    "df_daily['WOA'] = df_daily['DOA'].map(lambda x: math.ceil(x/7))\n",
    "display(df_daily[['level','DOA','WOA']].tail(3))\n",
    "print(df_daily.shape)\n",
    "df_daily.head(3)"
   ]
  },
  {
   "cell_type": "code",
   "execution_count": null,
   "metadata": {},
   "outputs": [],
   "source": []
  },
  {
   "cell_type": "code",
   "execution_count": null,
   "metadata": {},
   "outputs": [],
   "source": []
  },
  {
   "cell_type": "code",
   "execution_count": null,
   "metadata": {},
   "outputs": [],
   "source": []
  },
  {
   "cell_type": "markdown",
   "metadata": {},
   "source": [
    "# Variables transformations"
   ]
  },
  {
   "cell_type": "markdown",
   "metadata": {},
   "source": [
    "### WG variables"
   ]
  },
  {
   "cell_type": "code",
   "execution_count": 5,
   "metadata": {},
   "outputs": [
    {
     "name": "stderr",
     "output_type": "stream",
     "text": [
      "C:\\Users\\camil\\anaconda3\\lib\\site-packages\\ipykernel\\ipkernel.py:283: DeprecationWarning: `should_run_async` will not call `transform_cell` automatically in the future. Please pass the result to `transformed_cell` argument and any exception that happen during thetransform in `preprocessing_exc_tuple` in IPython 7.17 and above.\n",
      "  and should_run_async(code)\n"
     ]
    }
   ],
   "source": [
    "def WG_open_time(config, x):\n",
    "    dico_ = config.dico_garden_opening_hour\n",
    "    #take info (i.e. values) of the dico_ key that represent the smallest date among all the date>=x:\n",
    "    m = min([d for d in dico_.keys() if d>=dt.datetime(x.year,x.month,x.day,0,0,0)])\n",
    "    t = dico_[m]\n",
    "    return (dt.datetime(1999,1,1,t['end_h'],t['end_m'],0) - dt.datetime(1999,1,1,t['start_h'],t['start_m'],0)).total_seconds()"
   ]
  },
  {
   "cell_type": "code",
   "execution_count": 6,
   "metadata": {},
   "outputs": [
    {
     "name": "stderr",
     "output_type": "stream",
     "text": [
      "C:\\Users\\camil\\anaconda3\\lib\\site-packages\\ipykernel\\ipkernel.py:283: DeprecationWarning: `should_run_async` will not call `transform_cell` automatically in the future. Please pass the result to `transformed_cell` argument and any exception that happen during thetransform in `preprocessing_exc_tuple` in IPython 7.17 and above.\n",
      "  and should_run_async(code)\n"
     ]
    }
   ],
   "source": [
    "#(Total time outside)/(total time wg is open)\n",
    "df_daily['time_wg_open_sec'] = df_daily['level'].map(lambda x: WG_open_time(config,x))\n",
    "df_daily['percentage_time_outside_while_WG_open'] = df_daily.apply(lambda x: x['duration_1_Zone']/x['time_wg_open_sec']*100, axis=1)"
   ]
  },
  {
   "cell_type": "code",
   "execution_count": 7,
   "metadata": {},
   "outputs": [
    {
     "name": "stderr",
     "output_type": "stream",
     "text": [
      "C:\\Users\\camil\\anaconda3\\lib\\site-packages\\ipykernel\\ipkernel.py:283: DeprecationWarning: `should_run_async` will not call `transform_cell` automatically in the future. Please pass the result to `transformed_cell` argument and any exception that happen during thetransform in `preprocessing_exc_tuple` in IPython 7.17 and above.\n",
      "  and should_run_async(code)\n"
     ]
    },
    {
     "data": {
      "text/html": [
       "<div>\n",
       "<style scoped>\n",
       "    .dataframe tbody tr th:only-of-type {\n",
       "        vertical-align: middle;\n",
       "    }\n",
       "\n",
       "    .dataframe tbody tr th {\n",
       "        vertical-align: top;\n",
       "    }\n",
       "\n",
       "    .dataframe thead th {\n",
       "        text-align: right;\n",
       "    }\n",
       "</style>\n",
       "<table border=\"1\" class=\"dataframe\">\n",
       "  <thead>\n",
       "    <tr style=\"text-align: right;\">\n",
       "      <th></th>\n",
       "      <th>level</th>\n",
       "      <th>HenID</th>\n",
       "      <th>time_wg_open_sec</th>\n",
       "      <th>percentage_time_outside_while_WG_open</th>\n",
       "      <th>duration_1_Zone</th>\n",
       "    </tr>\n",
       "  </thead>\n",
       "  <tbody>\n",
       "    <tr>\n",
       "      <th>8</th>\n",
       "      <td>2020-10-05</td>\n",
       "      <td>hen_131</td>\n",
       "      <td>21600.0</td>\n",
       "      <td>3.004630</td>\n",
       "      <td>649.0</td>\n",
       "    </tr>\n",
       "    <tr>\n",
       "      <th>20</th>\n",
       "      <td>2020-10-19</td>\n",
       "      <td>hen_131</td>\n",
       "      <td>16200.0</td>\n",
       "      <td>19.018519</td>\n",
       "      <td>3081.0</td>\n",
       "    </tr>\n",
       "    <tr>\n",
       "      <th>21</th>\n",
       "      <td>2020-10-20</td>\n",
       "      <td>hen_131</td>\n",
       "      <td>16800.0</td>\n",
       "      <td>13.279762</td>\n",
       "      <td>2231.0</td>\n",
       "    </tr>\n",
       "    <tr>\n",
       "      <th>22</th>\n",
       "      <td>2020-10-21</td>\n",
       "      <td>hen_131</td>\n",
       "      <td>20400.0</td>\n",
       "      <td>3.495098</td>\n",
       "      <td>713.0</td>\n",
       "    </tr>\n",
       "    <tr>\n",
       "      <th>23</th>\n",
       "      <td>2020-10-22</td>\n",
       "      <td>hen_131</td>\n",
       "      <td>20100.0</td>\n",
       "      <td>1.199005</td>\n",
       "      <td>241.0</td>\n",
       "    </tr>\n",
       "    <tr>\n",
       "      <th>...</th>\n",
       "      <td>...</td>\n",
       "      <td>...</td>\n",
       "      <td>...</td>\n",
       "      <td>...</td>\n",
       "      <td>...</td>\n",
       "    </tr>\n",
       "    <tr>\n",
       "      <th>67995</th>\n",
       "      <td>2021-01-14</td>\n",
       "      <td>hen_98</td>\n",
       "      <td>23400.0</td>\n",
       "      <td>3.978632</td>\n",
       "      <td>931.0</td>\n",
       "    </tr>\n",
       "    <tr>\n",
       "      <th>67996</th>\n",
       "      <td>2021-01-15</td>\n",
       "      <td>hen_98</td>\n",
       "      <td>23400.0</td>\n",
       "      <td>4.491453</td>\n",
       "      <td>1051.0</td>\n",
       "    </tr>\n",
       "    <tr>\n",
       "      <th>67997</th>\n",
       "      <td>2021-01-16</td>\n",
       "      <td>hen_98</td>\n",
       "      <td>23400.0</td>\n",
       "      <td>10.153846</td>\n",
       "      <td>2376.0</td>\n",
       "    </tr>\n",
       "    <tr>\n",
       "      <th>67998</th>\n",
       "      <td>2021-01-17</td>\n",
       "      <td>hen_98</td>\n",
       "      <td>23400.0</td>\n",
       "      <td>1.414530</td>\n",
       "      <td>331.0</td>\n",
       "    </tr>\n",
       "    <tr>\n",
       "      <th>67999</th>\n",
       "      <td>2021-01-18</td>\n",
       "      <td>hen_98</td>\n",
       "      <td>23400.0</td>\n",
       "      <td>2.478632</td>\n",
       "      <td>580.0</td>\n",
       "    </tr>\n",
       "  </tbody>\n",
       "</table>\n",
       "<p>36726 rows × 5 columns</p>\n",
       "</div>"
      ],
      "text/plain": [
       "           level    HenID  time_wg_open_sec  \\\n",
       "8     2020-10-05  hen_131           21600.0   \n",
       "20    2020-10-19  hen_131           16200.0   \n",
       "21    2020-10-20  hen_131           16800.0   \n",
       "22    2020-10-21  hen_131           20400.0   \n",
       "23    2020-10-22  hen_131           20100.0   \n",
       "...          ...      ...               ...   \n",
       "67995 2021-01-14   hen_98           23400.0   \n",
       "67996 2021-01-15   hen_98           23400.0   \n",
       "67997 2021-01-16   hen_98           23400.0   \n",
       "67998 2021-01-17   hen_98           23400.0   \n",
       "67999 2021-01-18   hen_98           23400.0   \n",
       "\n",
       "       percentage_time_outside_while_WG_open  duration_1_Zone  \n",
       "8                                   3.004630            649.0  \n",
       "20                                 19.018519           3081.0  \n",
       "21                                 13.279762           2231.0  \n",
       "22                                  3.495098            713.0  \n",
       "23                                  1.199005            241.0  \n",
       "...                                      ...              ...  \n",
       "67995                               3.978632            931.0  \n",
       "67996                               4.491453           1051.0  \n",
       "67997                              10.153846           2376.0  \n",
       "67998                               1.414530            331.0  \n",
       "67999                               2.478632            580.0  \n",
       "\n",
       "[36726 rows x 5 columns]"
      ]
     },
     "execution_count": 7,
     "metadata": {},
     "output_type": "execute_result"
    }
   ],
   "source": [
    "df_daily[df_daily['duration_1_Zone']>0][['level','HenID','time_wg_open_sec','percentage_time_outside_while_WG_open',\n",
    "                                         'duration_1_Zone']]"
   ]
  },
  {
   "cell_type": "markdown",
   "metadata": {},
   "source": [
    "### night variables"
   ]
  },
  {
   "cell_type": "code",
   "execution_count": 8,
   "metadata": {},
   "outputs": [
    {
     "name": "stderr",
     "output_type": "stream",
     "text": [
      "C:\\Users\\camil\\anaconda3\\lib\\site-packages\\ipykernel\\ipkernel.py:283: DeprecationWarning: `should_run_async` will not call `transform_cell` automatically in the future. Please pass the result to `transformed_cell` argument and any exception that happen during thetransform in `preprocessing_exc_tuple` in IPython 7.17 and above.\n",
      "  and should_run_async(code)\n"
     ]
    },
    {
     "data": {
      "text/html": [
       "<div>\n",
       "<style scoped>\n",
       "    .dataframe tbody tr th:only-of-type {\n",
       "        vertical-align: middle;\n",
       "    }\n",
       "\n",
       "    .dataframe tbody tr th {\n",
       "        vertical-align: top;\n",
       "    }\n",
       "\n",
       "    .dataframe thead th {\n",
       "        text-align: right;\n",
       "    }\n",
       "</style>\n",
       "<table border=\"1\" class=\"dataframe\">\n",
       "  <thead>\n",
       "    <tr style=\"text-align: right;\">\n",
       "      <th></th>\n",
       "      <th>Total_number_transition</th>\n",
       "      <th>night_Total_number_transition</th>\n",
       "      <th>24htotaltransition</th>\n",
       "      <th>#trnight/#totaltr</th>\n",
       "    </tr>\n",
       "  </thead>\n",
       "  <tbody>\n",
       "    <tr>\n",
       "      <th>4</th>\n",
       "      <td>31.0</td>\n",
       "      <td>12.0</td>\n",
       "      <td>43.0</td>\n",
       "      <td>0.279070</td>\n",
       "    </tr>\n",
       "    <tr>\n",
       "      <th>110</th>\n",
       "      <td>7.0</td>\n",
       "      <td>3.0</td>\n",
       "      <td>10.0</td>\n",
       "      <td>0.300000</td>\n",
       "    </tr>\n",
       "    <tr>\n",
       "      <th>114</th>\n",
       "      <td>0.0</td>\n",
       "      <td>7.0</td>\n",
       "      <td>7.0</td>\n",
       "      <td>1.000000</td>\n",
       "    </tr>\n",
       "    <tr>\n",
       "      <th>201</th>\n",
       "      <td>137.0</td>\n",
       "      <td>543.0</td>\n",
       "      <td>680.0</td>\n",
       "      <td>0.798529</td>\n",
       "    </tr>\n",
       "    <tr>\n",
       "      <th>287</th>\n",
       "      <td>85.0</td>\n",
       "      <td>240.0</td>\n",
       "      <td>325.0</td>\n",
       "      <td>0.738462</td>\n",
       "    </tr>\n",
       "  </tbody>\n",
       "</table>\n",
       "</div>"
      ],
      "text/plain": [
       "     Total_number_transition  night_Total_number_transition  \\\n",
       "4                       31.0                           12.0   \n",
       "110                      7.0                            3.0   \n",
       "114                      0.0                            7.0   \n",
       "201                    137.0                          543.0   \n",
       "287                     85.0                          240.0   \n",
       "\n",
       "     24htotaltransition  #trnight/#totaltr  \n",
       "4                  43.0           0.279070  \n",
       "110                10.0           0.300000  \n",
       "114                 7.0           1.000000  \n",
       "201               680.0           0.798529  \n",
       "287               325.0           0.738462  "
      ]
     },
     "execution_count": 8,
     "metadata": {},
     "output_type": "execute_result"
    }
   ],
   "source": [
    "#Ratio: #transition overnight/#transition during day \n",
    "df_daily['24htotaltransition'] = df_daily.apply(lambda x: x['Total_number_transition']+x['night_Total_number_transition'],axis=1)\n",
    "df_daily['#trnight/#totaltr'] = df_daily.apply(lambda x: x['night_Total_number_transition']/x['24htotaltransition'] if x['24htotaltransition']!=0 else 0, axis=1)\n",
    "#df_daily[['Total_number_transition','night_Total_number_transition','24htotaltransition','#trnight/#trday']].head(5)\n",
    "df_daily[(df_daily['#trnight/#totaltr']>=0.25)&(df_daily['24htotaltransition']>=5)][['Total_number_transition','night_Total_number_transition','24htotaltransition','#trnight/#totaltr']].head(5)"
   ]
  },
  {
   "cell_type": "code",
   "execution_count": 9,
   "metadata": {},
   "outputs": [
    {
     "name": "stderr",
     "output_type": "stream",
     "text": [
      "C:\\Users\\camil\\anaconda3\\lib\\site-packages\\ipykernel\\ipkernel.py:283: DeprecationWarning: `should_run_async` will not call `transform_cell` automatically in the future. Please pass the result to `transformed_cell` argument and any exception that happen during thetransform in `preprocessing_exc_tuple` in IPython 7.17 and above.\n",
      "  and should_run_async(code)\n"
     ]
    }
   ],
   "source": [
    "#“main night zone” equals “main night zone over the last x days”\n",
    "last_x_days = 10\n",
    "df_daily['li_night_Max_duration_zones'] = df_daily.apply(lambda x: df_daily[(df_daily['HenID']==x['HenID'])&\\\n",
    "                                                                            (df_daily['level']<x['level'])&\\\n",
    "                                                                            (df_daily['level']>=(x['level']-dt.timedelta(days=last_x_days)))]['night_Max_duration_zones'].tolist(), axis=1)\n",
    "df_daily['nbr_same_mainnightzone'+str(last_x_days)+'Days'] = df_daily.apply(lambda x: sum([i==x['night_Max_duration_zones'] for i in x['li_night_Max_duration_zones']]), axis=1)\n",
    "df_daily['nbr_night_'] = df_daily['li_night_Max_duration_zones'].map(lambda x: len(x))\n",
    "#must be stricty bigger than 2, otherwise we won't be able to know which of the two nights is usual (if any)\n",
    "df_daily['Consistent_Night_Zone'+str(last_x_days)+'Days'] = df_daily.apply(lambda x: (x['nbr_same_mainnightzone'+str(last_x_days)+'Days']/x['nbr_night_'])>0.65 if x['nbr_night_']>1 else np.nan, axis=1)"
   ]
  },
  {
   "cell_type": "code",
   "execution_count": 10,
   "metadata": {},
   "outputs": [
    {
     "name": "stderr",
     "output_type": "stream",
     "text": [
      "C:\\Users\\camil\\anaconda3\\lib\\site-packages\\ipykernel\\ipkernel.py:283: DeprecationWarning: `should_run_async` will not call `transform_cell` automatically in the future. Please pass the result to `transformed_cell` argument and any exception that happen during thetransform in `preprocessing_exc_tuple` in IPython 7.17 and above.\n",
      "  and should_run_async(code)\n"
     ]
    },
    {
     "data": {
      "text/html": [
       "<div>\n",
       "<style scoped>\n",
       "    .dataframe tbody tr th:only-of-type {\n",
       "        vertical-align: middle;\n",
       "    }\n",
       "\n",
       "    .dataframe tbody tr th {\n",
       "        vertical-align: top;\n",
       "    }\n",
       "\n",
       "    .dataframe thead th {\n",
       "        text-align: right;\n",
       "    }\n",
       "</style>\n",
       "<table border=\"1\" class=\"dataframe\">\n",
       "  <thead>\n",
       "    <tr style=\"text-align: right;\">\n",
       "      <th></th>\n",
       "      <th>HenID</th>\n",
       "      <th>level</th>\n",
       "      <th>night_level</th>\n",
       "      <th>li_night_Max_duration_zones</th>\n",
       "      <th>night_Max_duration_zones</th>\n",
       "      <th>night_Total_number_transition</th>\n",
       "      <th>nbr_same_mainnightzone10Days</th>\n",
       "      <th>nbr_night_</th>\n",
       "      <th>Consistent_Night_Zone10Days</th>\n",
       "    </tr>\n",
       "  </thead>\n",
       "  <tbody>\n",
       "    <tr>\n",
       "      <th>0</th>\n",
       "      <td>hen_130</td>\n",
       "      <td>2020-10-04</td>\n",
       "      <td>2020-10-04_05</td>\n",
       "      <td>[]</td>\n",
       "      <td>5_Zone</td>\n",
       "      <td>0.0</td>\n",
       "      <td>0</td>\n",
       "      <td>0</td>\n",
       "      <td>NaN</td>\n",
       "    </tr>\n",
       "    <tr>\n",
       "      <th>1</th>\n",
       "      <td>hen_130</td>\n",
       "      <td>2020-10-05</td>\n",
       "      <td>2020-10-05_06</td>\n",
       "      <td>[5_Zone, 5_Zone]</td>\n",
       "      <td>5_Zone</td>\n",
       "      <td>0.0</td>\n",
       "      <td>2</td>\n",
       "      <td>2</td>\n",
       "      <td>True</td>\n",
       "    </tr>\n",
       "    <tr>\n",
       "      <th>2</th>\n",
       "      <td>hen_130</td>\n",
       "      <td>2020-10-06</td>\n",
       "      <td>2020-10-06_07</td>\n",
       "      <td>[5_Zone, 5_Zone, 5_Zone, 5_Zone]</td>\n",
       "      <td>3_Zone</td>\n",
       "      <td>1.0</td>\n",
       "      <td>0</td>\n",
       "      <td>4</td>\n",
       "      <td>False</td>\n",
       "    </tr>\n",
       "    <tr>\n",
       "      <th>3</th>\n",
       "      <td>hen_130</td>\n",
       "      <td>2020-10-07</td>\n",
       "      <td>2020-10-07_08</td>\n",
       "      <td>[5_Zone, 5_Zone, 3_Zone, 5_Zone, 5_Zone, 3_Zone]</td>\n",
       "      <td>5_Zone</td>\n",
       "      <td>0.0</td>\n",
       "      <td>4</td>\n",
       "      <td>6</td>\n",
       "      <td>True</td>\n",
       "    </tr>\n",
       "    <tr>\n",
       "      <th>4</th>\n",
       "      <td>hen_131</td>\n",
       "      <td>2020-09-30</td>\n",
       "      <td>2020-09-30_01</td>\n",
       "      <td>[3_Zone, 3_Zone]</td>\n",
       "      <td>5_Zone</td>\n",
       "      <td>12.0</td>\n",
       "      <td>0</td>\n",
       "      <td>2</td>\n",
       "      <td>False</td>\n",
       "    </tr>\n",
       "    <tr>\n",
       "      <th>5</th>\n",
       "      <td>hen_131</td>\n",
       "      <td>2020-10-01</td>\n",
       "      <td>2020-10-01_02</td>\n",
       "      <td>[5_Zone, 3_Zone, 5_Zone, 3_Zone]</td>\n",
       "      <td>3_Zone</td>\n",
       "      <td>1.0</td>\n",
       "      <td>2</td>\n",
       "      <td>4</td>\n",
       "      <td>False</td>\n",
       "    </tr>\n",
       "    <tr>\n",
       "      <th>6</th>\n",
       "      <td>hen_131</td>\n",
       "      <td>2020-10-02</td>\n",
       "      <td>2020-10-02_03</td>\n",
       "      <td>[5_Zone, 3_Zone, 3_Zone, 5_Zone, 3_Zone, 3_Zone]</td>\n",
       "      <td>5_Zone</td>\n",
       "      <td>0.0</td>\n",
       "      <td>2</td>\n",
       "      <td>6</td>\n",
       "      <td>False</td>\n",
       "    </tr>\n",
       "    <tr>\n",
       "      <th>7</th>\n",
       "      <td>hen_131</td>\n",
       "      <td>2020-10-04</td>\n",
       "      <td>2020-10-04_05</td>\n",
       "      <td>[5_Zone, 3_Zone, 5_Zone, 3_Zone, 5_Zone, 5_Zon...</td>\n",
       "      <td>4_Zone</td>\n",
       "      <td>0.0</td>\n",
       "      <td>0</td>\n",
       "      <td>10</td>\n",
       "      <td>False</td>\n",
       "    </tr>\n",
       "    <tr>\n",
       "      <th>8</th>\n",
       "      <td>hen_131</td>\n",
       "      <td>2020-10-05</td>\n",
       "      <td>2020-10-05_06</td>\n",
       "      <td>[5_Zone, 3_Zone, 5_Zone, 4_Zone, 3_Zone, 5_Zon...</td>\n",
       "      <td>3_Zone</td>\n",
       "      <td>6.0</td>\n",
       "      <td>4</td>\n",
       "      <td>12</td>\n",
       "      <td>False</td>\n",
       "    </tr>\n",
       "    <tr>\n",
       "      <th>9</th>\n",
       "      <td>hen_131</td>\n",
       "      <td>2020-10-06</td>\n",
       "      <td>2020-10-06_07</td>\n",
       "      <td>[5_Zone, 3_Zone, 5_Zone, 4_Zone, 3_Zone, 3_Zon...</td>\n",
       "      <td>3_Zone</td>\n",
       "      <td>14.0</td>\n",
       "      <td>6</td>\n",
       "      <td>14</td>\n",
       "      <td>False</td>\n",
       "    </tr>\n",
       "  </tbody>\n",
       "</table>\n",
       "</div>"
      ],
      "text/plain": [
       "     HenID      level    night_level  \\\n",
       "0  hen_130 2020-10-04  2020-10-04_05   \n",
       "1  hen_130 2020-10-05  2020-10-05_06   \n",
       "2  hen_130 2020-10-06  2020-10-06_07   \n",
       "3  hen_130 2020-10-07  2020-10-07_08   \n",
       "4  hen_131 2020-09-30  2020-09-30_01   \n",
       "5  hen_131 2020-10-01  2020-10-01_02   \n",
       "6  hen_131 2020-10-02  2020-10-02_03   \n",
       "7  hen_131 2020-10-04  2020-10-04_05   \n",
       "8  hen_131 2020-10-05  2020-10-05_06   \n",
       "9  hen_131 2020-10-06  2020-10-06_07   \n",
       "\n",
       "                         li_night_Max_duration_zones night_Max_duration_zones  \\\n",
       "0                                                 []                   5_Zone   \n",
       "1                                   [5_Zone, 5_Zone]                   5_Zone   \n",
       "2                   [5_Zone, 5_Zone, 5_Zone, 5_Zone]                   3_Zone   \n",
       "3   [5_Zone, 5_Zone, 3_Zone, 5_Zone, 5_Zone, 3_Zone]                   5_Zone   \n",
       "4                                   [3_Zone, 3_Zone]                   5_Zone   \n",
       "5                   [5_Zone, 3_Zone, 5_Zone, 3_Zone]                   3_Zone   \n",
       "6   [5_Zone, 3_Zone, 3_Zone, 5_Zone, 3_Zone, 3_Zone]                   5_Zone   \n",
       "7  [5_Zone, 3_Zone, 5_Zone, 3_Zone, 5_Zone, 5_Zon...                   4_Zone   \n",
       "8  [5_Zone, 3_Zone, 5_Zone, 4_Zone, 3_Zone, 5_Zon...                   3_Zone   \n",
       "9  [5_Zone, 3_Zone, 5_Zone, 4_Zone, 3_Zone, 3_Zon...                   3_Zone   \n",
       "\n",
       "   night_Total_number_transition  nbr_same_mainnightzone10Days  nbr_night_  \\\n",
       "0                            0.0                             0           0   \n",
       "1                            0.0                             2           2   \n",
       "2                            1.0                             0           4   \n",
       "3                            0.0                             4           6   \n",
       "4                           12.0                             0           2   \n",
       "5                            1.0                             2           4   \n",
       "6                            0.0                             2           6   \n",
       "7                            0.0                             0          10   \n",
       "8                            6.0                             4          12   \n",
       "9                           14.0                             6          14   \n",
       "\n",
       "  Consistent_Night_Zone10Days  \n",
       "0                         NaN  \n",
       "1                        True  \n",
       "2                       False  \n",
       "3                        True  \n",
       "4                       False  \n",
       "5                       False  \n",
       "6                       False  \n",
       "7                       False  \n",
       "8                       False  \n",
       "9                       False  "
      ]
     },
     "execution_count": 10,
     "metadata": {},
     "output_type": "execute_result"
    }
   ],
   "source": [
    "df_daily[['HenID', 'level', 'night_level', 'li_night_Max_duration_zones', 'night_Max_duration_zones', \n",
    "          'night_Total_number_transition','nbr_same_mainnightzone'+str(last_x_days)+'Days','nbr_night_',\n",
    "          'Consistent_Night_Zone'+str(last_x_days)+'Days']].head(10)"
   ]
  },
  {
   "cell_type": "markdown",
   "metadata": {},
   "source": [
    "### nestbox variables"
   ]
  },
  {
   "cell_type": "code",
   "execution_count": 11,
   "metadata": {},
   "outputs": [
    {
     "name": "stderr",
     "output_type": "stream",
     "text": [
      "C:\\Users\\camil\\anaconda3\\lib\\site-packages\\ipykernel\\ipkernel.py:283: DeprecationWarning: `should_run_async` will not call `transform_cell` automatically in the future. Please pass the result to `transformed_cell` argument and any exception that happen during thetransform in `preprocessing_exc_tuple` in IPython 7.17 and above.\n",
      "  and should_run_async(code)\n"
     ]
    }
   ],
   "source": [
    "#turn into categories: \"none\", <6, <7, <8, <9, <10, <11, <12, \"afternoon\"\n",
    "#todo: is of same date?\n",
    "def class_nestbox_usage(x):\n",
    "    if issubclass(type(x), type(pd.NaT)):\n",
    "        return \"None\"\n",
    "    elif x.hour<6:\n",
    "        return \"x<6h\"\n",
    "    elif x.hour<=11:\n",
    "        return str(x.hour)+\"h\"\n",
    "    else:\n",
    "        return \"afternoon\"\n",
    "    \n",
    "df_daily['Nestbox_time_of_first_staid_longer_than900sec_CLASS'] = df_daily['Nestbox_time_of_first_staid_longer_than900sec'].map(lambda x: class_nestbox_usage(x))"
   ]
  },
  {
   "cell_type": "code",
   "execution_count": 12,
   "metadata": {},
   "outputs": [
    {
     "name": "stderr",
     "output_type": "stream",
     "text": [
      "C:\\Users\\camil\\anaconda3\\lib\\site-packages\\ipykernel\\ipkernel.py:283: DeprecationWarning: `should_run_async` will not call `transform_cell` automatically in the future. Please pass the result to `transformed_cell` argument and any exception that happen during thetransform in `preprocessing_exc_tuple` in IPython 7.17 and above.\n",
      "  and should_run_async(code)\n"
     ]
    }
   ],
   "source": [
    "#Time of first visit longer 15mn - Time of first visit\n",
    "df_daily['TimeFirstVisitLonger15mn-TimeFirstVisit_mn'] = df_daily.apply(lambda x: round((x['Nestbox_time_of_first_staid_longer_than900sec']-x['FirstTimestamp_4_Zone']).total_seconds()/60,0), axis=1)"
   ]
  },
  {
   "cell_type": "code",
   "execution_count": 13,
   "metadata": {},
   "outputs": [
    {
     "name": "stderr",
     "output_type": "stream",
     "text": [
      "C:\\Users\\camil\\anaconda3\\lib\\site-packages\\ipykernel\\ipkernel.py:283: DeprecationWarning: `should_run_async` will not call `transform_cell` automatically in the future. Please pass the result to `transformed_cell` argument and any exception that happen during thetransform in `preprocessing_exc_tuple` in IPython 7.17 and above.\n",
      "  and should_run_async(code)\n"
     ]
    },
    {
     "data": {
      "text/html": [
       "<div>\n",
       "<style scoped>\n",
       "    .dataframe tbody tr th:only-of-type {\n",
       "        vertical-align: middle;\n",
       "    }\n",
       "\n",
       "    .dataframe tbody tr th {\n",
       "        vertical-align: top;\n",
       "    }\n",
       "\n",
       "    .dataframe thead th {\n",
       "        text-align: right;\n",
       "    }\n",
       "</style>\n",
       "<table border=\"1\" class=\"dataframe\">\n",
       "  <thead>\n",
       "    <tr style=\"text-align: right;\">\n",
       "      <th></th>\n",
       "      <th>Nestbox_time_of_first_staid_longer_than900sec</th>\n",
       "      <th>Nestbox_time_of_first_staid_longer_than900sec_CLASS</th>\n",
       "      <th>HenID</th>\n",
       "      <th>level</th>\n",
       "      <th>FirstTimestamp_4_Zone</th>\n",
       "      <th>TimeFirstVisitLonger15mn-TimeFirstVisit_mn</th>\n",
       "    </tr>\n",
       "  </thead>\n",
       "  <tbody>\n",
       "    <tr>\n",
       "      <th>6</th>\n",
       "      <td>2020-10-02 14:41:29</td>\n",
       "      <td>afternoon</td>\n",
       "      <td>hen_131</td>\n",
       "      <td>2020-10-02</td>\n",
       "      <td>2020-10-02 12:05:49</td>\n",
       "      <td>156.0</td>\n",
       "    </tr>\n",
       "    <tr>\n",
       "      <th>7</th>\n",
       "      <td>2020-10-04 09:28:28</td>\n",
       "      <td>9h</td>\n",
       "      <td>hen_131</td>\n",
       "      <td>2020-10-04</td>\n",
       "      <td>2020-10-04 09:03:51</td>\n",
       "      <td>25.0</td>\n",
       "    </tr>\n",
       "    <tr>\n",
       "      <th>14</th>\n",
       "      <td>2020-10-13 08:55:49</td>\n",
       "      <td>8h</td>\n",
       "      <td>hen_131</td>\n",
       "      <td>2020-10-13</td>\n",
       "      <td>2020-10-13 08:26:06</td>\n",
       "      <td>30.0</td>\n",
       "    </tr>\n",
       "  </tbody>\n",
       "</table>\n",
       "</div>"
      ],
      "text/plain": [
       "   Nestbox_time_of_first_staid_longer_than900sec  \\\n",
       "6                            2020-10-02 14:41:29   \n",
       "7                            2020-10-04 09:28:28   \n",
       "14                           2020-10-13 08:55:49   \n",
       "\n",
       "   Nestbox_time_of_first_staid_longer_than900sec_CLASS    HenID      level  \\\n",
       "6                                           afternoon   hen_131 2020-10-02   \n",
       "7                                                  9h   hen_131 2020-10-04   \n",
       "14                                                 8h   hen_131 2020-10-13   \n",
       "\n",
       "   FirstTimestamp_4_Zone  TimeFirstVisitLonger15mn-TimeFirstVisit_mn  \n",
       "6    2020-10-02 12:05:49                                       156.0  \n",
       "7    2020-10-04 09:03:51                                        25.0  \n",
       "14   2020-10-13 08:26:06                                        30.0  "
      ]
     },
     "execution_count": 13,
     "metadata": {},
     "output_type": "execute_result"
    }
   ],
   "source": [
    "df_daily[~df_daily['Nestbox_time_of_first_staid_longer_than900sec'].isnull()][['Nestbox_time_of_first_staid_longer_than900sec', \n",
    "                                                                       'Nestbox_time_of_first_staid_longer_than900sec_CLASS',\n",
    "                                                                       'HenID', 'level','FirstTimestamp_4_Zone',\n",
    "                                                                       'TimeFirstVisitLonger15mn-TimeFirstVisit_mn']].head(3)"
   ]
  },
  {
   "cell_type": "code",
   "execution_count": 14,
   "metadata": {},
   "outputs": [
    {
     "name": "stderr",
     "output_type": "stream",
     "text": [
      "C:\\Users\\camil\\anaconda3\\lib\\site-packages\\ipykernel\\ipkernel.py:283: DeprecationWarning: `should_run_async` will not call `transform_cell` automatically in the future. Please pass the result to `transformed_cell` argument and any exception that happen during thetransform in `preprocessing_exc_tuple` in IPython 7.17 and above.\n",
      "  and should_run_async(code)\n"
     ]
    },
    {
     "data": {
      "text/plain": [
       "x<6h         43431\n",
       "None         16037\n",
       "6h            3144\n",
       "afternoon     1805\n",
       "7h            1306\n",
       "8h             831\n",
       "9h             765\n",
       "10h            472\n",
       "11h            335\n",
       "Name: Nestbox_time_of_first_staid_longer_than900sec_CLASS, dtype: int64"
      ]
     },
     "metadata": {},
     "output_type": "display_data"
    }
   ],
   "source": [
    "#into dummies of interest\n",
    "display(df_daily['Nestbox_time_of_first_staid_longer_than900sec_CLASS'].value_counts())\n",
    "df_daily['Nestbox1staylonger900_None'] = df_daily['Nestbox_time_of_first_staid_longer_than900sec_CLASS'].map(lambda x: x=='None')\n",
    "df_daily['Nestbox1staylonger900_Afternoon'] = df_daily['Nestbox_time_of_first_staid_longer_than900sec_CLASS'].map(lambda x: x=='afternoon')\n",
    "df_daily['Nestbox1staylonger900_b8'] = df_daily['Nestbox_time_of_first_staid_longer_than900sec_CLASS'].map(lambda x: x in ['x<6h', '7h'])\n",
    "df_daily['Nestbox1staylonger900_8-9'] = df_daily['Nestbox_time_of_first_staid_longer_than900sec_CLASS'].map(lambda x: x=='8h')\n",
    "df_daily['Nestbox1staylonger900_9-10'] = df_daily['Nestbox_time_of_first_staid_longer_than900sec_CLASS'].map(lambda x: x=='9h')\n",
    "df_daily['Nestbox1staylonger900_10-12'] = df_daily['Nestbox_time_of_first_staid_longer_than900sec_CLASS'].map(lambda x: x in ['10h','11h'])"
   ]
  },
  {
   "cell_type": "code",
   "execution_count": 15,
   "metadata": {},
   "outputs": [
    {
     "name": "stderr",
     "output_type": "stream",
     "text": [
      "C:\\Users\\camil\\anaconda3\\lib\\site-packages\\ipykernel\\ipkernel.py:283: DeprecationWarning: `should_run_async` will not call `transform_cell` automatically in the future. Please pass the result to `transformed_cell` argument and any exception that happen during thetransform in `preprocessing_exc_tuple` in IPython 7.17 and above.\n",
      "  and should_run_async(code)\n"
     ]
    },
    {
     "data": {
      "text/html": [
       "<div>\n",
       "<style scoped>\n",
       "    .dataframe tbody tr th:only-of-type {\n",
       "        vertical-align: middle;\n",
       "    }\n",
       "\n",
       "    .dataframe tbody tr th {\n",
       "        vertical-align: top;\n",
       "    }\n",
       "\n",
       "    .dataframe thead th {\n",
       "        text-align: right;\n",
       "    }\n",
       "</style>\n",
       "<table border=\"1\" class=\"dataframe\">\n",
       "  <thead>\n",
       "    <tr style=\"text-align: right;\">\n",
       "      <th></th>\n",
       "      <th>Nestbox_time_of_first_staid_longer_than900sec_CLASS</th>\n",
       "      <th>Nestbox1staylonger900_None</th>\n",
       "      <th>Nestbox1staylonger900_Afternoon</th>\n",
       "      <th>Nestbox1staylonger900_b8</th>\n",
       "      <th>Nestbox1staylonger900_8-9</th>\n",
       "      <th>Nestbox1staylonger900_9-10</th>\n",
       "      <th>Nestbox1staylonger900_10-12</th>\n",
       "    </tr>\n",
       "  </thead>\n",
       "  <tbody>\n",
       "    <tr>\n",
       "      <th>14</th>\n",
       "      <td>8h</td>\n",
       "      <td>False</td>\n",
       "      <td>False</td>\n",
       "      <td>False</td>\n",
       "      <td>True</td>\n",
       "      <td>False</td>\n",
       "      <td>False</td>\n",
       "    </tr>\n",
       "    <tr>\n",
       "      <th>331</th>\n",
       "      <td>8h</td>\n",
       "      <td>False</td>\n",
       "      <td>False</td>\n",
       "      <td>False</td>\n",
       "      <td>True</td>\n",
       "      <td>False</td>\n",
       "      <td>False</td>\n",
       "    </tr>\n",
       "    <tr>\n",
       "      <th>337</th>\n",
       "      <td>8h</td>\n",
       "      <td>False</td>\n",
       "      <td>False</td>\n",
       "      <td>False</td>\n",
       "      <td>True</td>\n",
       "      <td>False</td>\n",
       "      <td>False</td>\n",
       "    </tr>\n",
       "  </tbody>\n",
       "</table>\n",
       "</div>"
      ],
      "text/plain": [
       "    Nestbox_time_of_first_staid_longer_than900sec_CLASS  \\\n",
       "14                                                  8h    \n",
       "331                                                 8h    \n",
       "337                                                 8h    \n",
       "\n",
       "     Nestbox1staylonger900_None  Nestbox1staylonger900_Afternoon  \\\n",
       "14                        False                            False   \n",
       "331                       False                            False   \n",
       "337                       False                            False   \n",
       "\n",
       "     Nestbox1staylonger900_b8  Nestbox1staylonger900_8-9  \\\n",
       "14                      False                       True   \n",
       "331                     False                       True   \n",
       "337                     False                       True   \n",
       "\n",
       "     Nestbox1staylonger900_9-10  Nestbox1staylonger900_10-12  \n",
       "14                        False                        False  \n",
       "331                       False                        False  \n",
       "337                       False                        False  "
      ]
     },
     "execution_count": 15,
     "metadata": {},
     "output_type": "execute_result"
    }
   ],
   "source": [
    "df_daily[df_daily['Nestbox_time_of_first_staid_longer_than900sec_CLASS']=='8h'][['Nestbox_time_of_first_staid_longer_than900sec_CLASS','Nestbox1staylonger900_None','Nestbox1staylonger900_Afternoon',\n",
    "         'Nestbox1staylonger900_b8','Nestbox1staylonger900_8-9','Nestbox1staylonger900_9-10','Nestbox1staylonger900_10-12']].head(3)"
   ]
  },
  {
   "cell_type": "code",
   "execution_count": 20,
   "metadata": {},
   "outputs": [
    {
     "name": "stderr",
     "output_type": "stream",
     "text": [
      "C:\\Users\\camil\\anaconda3\\lib\\site-packages\\ipykernel\\ipkernel.py:283: DeprecationWarning: `should_run_async` will not call `transform_cell` automatically in the future. Please pass the result to `transformed_cell` argument and any exception that happen during thetransform in `preprocessing_exc_tuple` in IPython 7.17 and above.\n",
      "  and should_run_async(code)\n"
     ]
    }
   ],
   "source": [
    "#percentage of visits in afternon versus visits in the morning  (#visits after 12h) / (total number of visits)*100\n",
    "#TODO: verify it\n",
    "df_daily['Nestbox_perc_of_visits_afternoon_vs_morning&afternoon'] = df_daily.apply(lambda x: x['A12h_Nestbox_nbrvisit']/x['nbr_stays_4_Zone']*100 if x['nbr_stays_4_Zone']!=0 else 0,\n",
    "                                                                                 axis=1)"
   ]
  },
  {
   "cell_type": "markdown",
   "metadata": {},
   "source": [
    "### max duration zone into dummies of interest"
   ]
  },
  {
   "cell_type": "code",
   "execution_count": 21,
   "metadata": {},
   "outputs": [
    {
     "name": "stderr",
     "output_type": "stream",
     "text": [
      "C:\\Users\\camil\\anaconda3\\lib\\site-packages\\ipykernel\\ipkernel.py:283: DeprecationWarning: `should_run_async` will not call `transform_cell` automatically in the future. Please pass the result to `transformed_cell` argument and any exception that happen during thetransform in `preprocessing_exc_tuple` in IPython 7.17 and above.\n",
      "  and should_run_async(code)\n"
     ]
    },
    {
     "data": {
      "text/plain": [
       "5_Zone                  35378\n",
       "2_Zone                  13153\n",
       "4_Zone                   7013\n",
       "3_Zone                   3140\n",
       "1_Zone                    195\n",
       "['3_Zone', '2_Zone']        4\n",
       "['2_Zone', '2_Zone']        2\n",
       "['2_Zone', '1_Zone']        2\n",
       "Name: Max_duration_zones, dtype: int64"
      ]
     },
     "metadata": {},
     "output_type": "display_data"
    }
   ],
   "source": [
    "display(df_daily['Max_duration_zones'].value_counts())\n",
    "df_daily['is_max_zone_duration_zone1'] = df_daily['Max_duration_zones'].map(lambda x: x=='1_Zone')\n",
    "df_daily['is_max_zone_duration_zone2'] = df_daily['Max_duration_zones'].map(lambda x: x=='2_Zone')\n",
    "df_daily['is_max_zone_duration_zone3'] = df_daily['Max_duration_zones'].map(lambda x: x=='3_Zone')\n",
    "df_daily['is_max_zone_duration_zone4'] = df_daily['Max_duration_zones'].map(lambda x: x=='4_Zone')\n",
    "df_daily['is_max_zone_duration_zone5'] = df_daily['Max_duration_zones'].map(lambda x: x=='5_Zone')"
   ]
  },
  {
   "cell_type": "code",
   "execution_count": 22,
   "metadata": {},
   "outputs": [
    {
     "name": "stderr",
     "output_type": "stream",
     "text": [
      "C:\\Users\\camil\\anaconda3\\lib\\site-packages\\ipykernel\\ipkernel.py:283: DeprecationWarning: `should_run_async` will not call `transform_cell` automatically in the future. Please pass the result to `transformed_cell` argument and any exception that happen during thetransform in `preprocessing_exc_tuple` in IPython 7.17 and above.\n",
      "  and should_run_async(code)\n"
     ]
    },
    {
     "data": {
      "text/plain": [
       "5_Zone    47438\n",
       "3_Zone    11214\n",
       "4_Zone     7203\n",
       "2_Zone     1475\n",
       "1_Zone       29\n",
       "Name: night_Max_duration_zones, dtype: int64"
      ]
     },
     "metadata": {},
     "output_type": "display_data"
    }
   ],
   "source": [
    "#night max duration zone\n",
    "display(df_daily['night_Max_duration_zones'].value_counts())\n",
    "df_daily['is_max_nightzone_duration_zone1'] = df_daily['night_Max_duration_zones'].map(lambda x: x=='1_Zone')\n",
    "df_daily['is_max_nightzone_duration_zone2'] = df_daily['night_Max_duration_zones'].map(lambda x: x=='2_Zone')\n",
    "df_daily['is_max_nightzone_duration_zone3'] = df_daily['night_Max_duration_zones'].map(lambda x: x=='3_Zone')\n",
    "df_daily['is_max_nightzone_duration_zone4'] = df_daily['night_Max_duration_zones'].map(lambda x: x=='4_Zone')\n",
    "df_daily['is_max_nightzone_duration_zone5'] = df_daily['night_Max_duration_zones'].map(lambda x: x=='5_Zone')"
   ]
  },
  {
   "cell_type": "code",
   "execution_count": 23,
   "metadata": {},
   "outputs": [
    {
     "name": "stderr",
     "output_type": "stream",
     "text": [
      "C:\\Users\\camil\\anaconda3\\lib\\site-packages\\ipykernel\\ipkernel.py:283: DeprecationWarning: `should_run_async` will not call `transform_cell` automatically in the future. Please pass the result to `transformed_cell` argument and any exception that happen during thetransform in `preprocessing_exc_tuple` in IPython 7.17 and above.\n",
      "  and should_run_async(code)\n"
     ]
    },
    {
     "data": {
      "text/html": [
       "<div>\n",
       "<style scoped>\n",
       "    .dataframe tbody tr th:only-of-type {\n",
       "        vertical-align: middle;\n",
       "    }\n",
       "\n",
       "    .dataframe tbody tr th {\n",
       "        vertical-align: top;\n",
       "    }\n",
       "\n",
       "    .dataframe thead th {\n",
       "        text-align: right;\n",
       "    }\n",
       "</style>\n",
       "<table border=\"1\" class=\"dataframe\">\n",
       "  <thead>\n",
       "    <tr style=\"text-align: right;\">\n",
       "      <th></th>\n",
       "      <th>night_Max_duration_zones</th>\n",
       "      <th>is_max_nightzone_duration_zone3</th>\n",
       "      <th>is_max_nightzone_duration_zone5</th>\n",
       "    </tr>\n",
       "  </thead>\n",
       "  <tbody>\n",
       "    <tr>\n",
       "      <th>0</th>\n",
       "      <td>5_Zone</td>\n",
       "      <td>False</td>\n",
       "      <td>True</td>\n",
       "    </tr>\n",
       "    <tr>\n",
       "      <th>1</th>\n",
       "      <td>5_Zone</td>\n",
       "      <td>False</td>\n",
       "      <td>True</td>\n",
       "    </tr>\n",
       "    <tr>\n",
       "      <th>2</th>\n",
       "      <td>3_Zone</td>\n",
       "      <td>True</td>\n",
       "      <td>False</td>\n",
       "    </tr>\n",
       "  </tbody>\n",
       "</table>\n",
       "</div>"
      ],
      "text/plain": [
       "  night_Max_duration_zones  is_max_nightzone_duration_zone3  \\\n",
       "0                   5_Zone                            False   \n",
       "1                   5_Zone                            False   \n",
       "2                   3_Zone                             True   \n",
       "\n",
       "   is_max_nightzone_duration_zone5  \n",
       "0                             True  \n",
       "1                             True  \n",
       "2                            False  "
      ]
     },
     "execution_count": 23,
     "metadata": {},
     "output_type": "execute_result"
    }
   ],
   "source": [
    "df_daily[['night_Max_duration_zones','is_max_nightzone_duration_zone3','is_max_nightzone_duration_zone5']].head(3)"
   ]
  },
  {
   "cell_type": "code",
   "execution_count": 24,
   "metadata": {},
   "outputs": [
    {
     "name": "stderr",
     "output_type": "stream",
     "text": [
      "C:\\Users\\camil\\anaconda3\\lib\\site-packages\\ipykernel\\ipkernel.py:283: DeprecationWarning: `should_run_async` will not call `transform_cell` automatically in the future. Please pass the result to `transformed_cell` argument and any exception that happen during thetransform in `preprocessing_exc_tuple` in IPython 7.17 and above.\n",
      "  and should_run_async(code)\n"
     ]
    }
   ],
   "source": [
    "li_2keep = ['HenID','level']\n",
    "#display(list(df_daily.columns))"
   ]
  },
  {
   "cell_type": "markdown",
   "metadata": {},
   "source": [
    "# Clustering general activity "
   ]
  },
  {
   "cell_type": "code",
   "execution_count": 34,
   "metadata": {},
   "outputs": [
    {
     "name": "stderr",
     "output_type": "stream",
     "text": [
      "C:\\Users\\camil\\anaconda3\\lib\\site-packages\\ipykernel\\ipkernel.py:283: DeprecationWarning: `should_run_async` will not call `transform_cell` automatically in the future. Please pass the result to `transformed_cell` argument and any exception that happen during thetransform in `preprocessing_exc_tuple` in IPython 7.17 and above.\n",
      "  and should_run_async(code)\n"
     ]
    },
    {
     "data": {
      "text/plain": [
       "(68126, 160)"
      ]
     },
     "execution_count": 34,
     "metadata": {},
     "output_type": "execute_result"
    }
   ],
   "source": [
    "#list(df_daily.columns)\n",
    "df_daily.shape"
   ]
  },
  {
   "cell_type": "code",
   "execution_count": 35,
   "metadata": {},
   "outputs": [
    {
     "name": "stderr",
     "output_type": "stream",
     "text": [
      "C:\\Users\\camil\\anaconda3\\lib\\site-packages\\ipykernel\\ipkernel.py:283: DeprecationWarning: `should_run_async` will not call `transform_cell` automatically in the future. Please pass the result to `transformed_cell` argument and any exception that happen during thetransform in `preprocessing_exc_tuple` in IPython 7.17 and above.\n",
      "  and should_run_async(code)\n"
     ]
    },
    {
     "data": {
      "text/html": [
       "<div>\n",
       "<style scoped>\n",
       "    .dataframe tbody tr th:only-of-type {\n",
       "        vertical-align: middle;\n",
       "    }\n",
       "\n",
       "    .dataframe tbody tr th {\n",
       "        vertical-align: top;\n",
       "    }\n",
       "\n",
       "    .dataframe thead th {\n",
       "        text-align: right;\n",
       "    }\n",
       "</style>\n",
       "<table border=\"1\" class=\"dataframe\">\n",
       "  <thead>\n",
       "    <tr style=\"text-align: right;\">\n",
       "      <th></th>\n",
       "      <th>HenID</th>\n",
       "      <th>level</th>\n",
       "      <th>variance_duration</th>\n",
       "      <th>median_duration</th>\n",
       "      <th>max_duration</th>\n",
       "      <th>Total_number_zone</th>\n",
       "      <th>#trnight/#totaltr</th>\n",
       "      <th>vertical_travel_distance</th>\n",
       "      <th>duration_last-firsttransition_mn</th>\n",
       "      <th>night_Total_number_transition</th>\n",
       "      <th>...</th>\n",
       "      <th>is_max_zone_duration_zone1</th>\n",
       "      <th>is_max_zone_duration_zone2</th>\n",
       "      <th>is_max_zone_duration_zone3</th>\n",
       "      <th>is_max_zone_duration_zone4</th>\n",
       "      <th>is_max_zone_duration_zone5</th>\n",
       "      <th>is_max_nightzone_duration_zone1</th>\n",
       "      <th>is_max_nightzone_duration_zone2</th>\n",
       "      <th>is_max_nightzone_duration_zone3</th>\n",
       "      <th>is_max_nightzone_duration_zone4</th>\n",
       "      <th>is_max_nightzone_duration_zone5</th>\n",
       "    </tr>\n",
       "  </thead>\n",
       "  <tbody>\n",
       "    <tr>\n",
       "      <th>0</th>\n",
       "      <td>hen_130</td>\n",
       "      <td>2020-10-04</td>\n",
       "      <td>5.415563e+07</td>\n",
       "      <td>229.5</td>\n",
       "      <td>22082.0</td>\n",
       "      <td>4.0</td>\n",
       "      <td>0.00</td>\n",
       "      <td>8.0</td>\n",
       "      <td>391.0</td>\n",
       "      <td>0.0</td>\n",
       "      <td>...</td>\n",
       "      <td>False</td>\n",
       "      <td>False</td>\n",
       "      <td>False</td>\n",
       "      <td>False</td>\n",
       "      <td>True</td>\n",
       "      <td>False</td>\n",
       "      <td>False</td>\n",
       "      <td>False</td>\n",
       "      <td>False</td>\n",
       "      <td>True</td>\n",
       "    </tr>\n",
       "    <tr>\n",
       "      <th>1</th>\n",
       "      <td>hen_130</td>\n",
       "      <td>2020-10-05</td>\n",
       "      <td>0.000000e+00</td>\n",
       "      <td>32400.0</td>\n",
       "      <td>32400.0</td>\n",
       "      <td>1.0</td>\n",
       "      <td>0.00</td>\n",
       "      <td>0.0</td>\n",
       "      <td>NaN</td>\n",
       "      <td>0.0</td>\n",
       "      <td>...</td>\n",
       "      <td>False</td>\n",
       "      <td>False</td>\n",
       "      <td>False</td>\n",
       "      <td>False</td>\n",
       "      <td>True</td>\n",
       "      <td>False</td>\n",
       "      <td>False</td>\n",
       "      <td>False</td>\n",
       "      <td>False</td>\n",
       "      <td>True</td>\n",
       "    </tr>\n",
       "    <tr>\n",
       "      <th>2</th>\n",
       "      <td>hen_130</td>\n",
       "      <td>2020-10-06</td>\n",
       "      <td>1.712298e+08</td>\n",
       "      <td>656.0</td>\n",
       "      <td>30763.0</td>\n",
       "      <td>3.0</td>\n",
       "      <td>0.25</td>\n",
       "      <td>4.0</td>\n",
       "      <td>18.0</td>\n",
       "      <td>1.0</td>\n",
       "      <td>...</td>\n",
       "      <td>False</td>\n",
       "      <td>False</td>\n",
       "      <td>False</td>\n",
       "      <td>False</td>\n",
       "      <td>True</td>\n",
       "      <td>False</td>\n",
       "      <td>False</td>\n",
       "      <td>True</td>\n",
       "      <td>False</td>\n",
       "      <td>False</td>\n",
       "    </tr>\n",
       "  </tbody>\n",
       "</table>\n",
       "<p>3 rows × 41 columns</p>\n",
       "</div>"
      ],
      "text/plain": [
       "     HenID      level  variance_duration  median_duration  max_duration  \\\n",
       "0  hen_130 2020-10-04       5.415563e+07            229.5       22082.0   \n",
       "1  hen_130 2020-10-05       0.000000e+00          32400.0       32400.0   \n",
       "2  hen_130 2020-10-06       1.712298e+08            656.0       30763.0   \n",
       "\n",
       "   Total_number_zone  #trnight/#totaltr  vertical_travel_distance  \\\n",
       "0                4.0               0.00                       8.0   \n",
       "1                1.0               0.00                       0.0   \n",
       "2                3.0               0.25                       4.0   \n",
       "\n",
       "  duration_last-firsttransition_mn  night_Total_number_transition  ...  \\\n",
       "0                            391.0                            0.0  ...   \n",
       "1                              NaN                            0.0  ...   \n",
       "2                             18.0                            1.0  ...   \n",
       "\n",
       "  is_max_zone_duration_zone1  is_max_zone_duration_zone2  \\\n",
       "0                      False                       False   \n",
       "1                      False                       False   \n",
       "2                      False                       False   \n",
       "\n",
       "   is_max_zone_duration_zone3  is_max_zone_duration_zone4  \\\n",
       "0                       False                       False   \n",
       "1                       False                       False   \n",
       "2                       False                       False   \n",
       "\n",
       "   is_max_zone_duration_zone5  is_max_nightzone_duration_zone1  \\\n",
       "0                        True                            False   \n",
       "1                        True                            False   \n",
       "2                        True                            False   \n",
       "\n",
       "   is_max_nightzone_duration_zone2  is_max_nightzone_duration_zone3  \\\n",
       "0                            False                            False   \n",
       "1                            False                            False   \n",
       "2                            False                             True   \n",
       "\n",
       "   is_max_nightzone_duration_zone4  is_max_nightzone_duration_zone5  \n",
       "0                            False                             True  \n",
       "1                            False                             True  \n",
       "2                            False                            False  \n",
       "\n",
       "[3 rows x 41 columns]"
      ]
     },
     "execution_count": 35,
     "metadata": {},
     "output_type": "execute_result"
    }
   ],
   "source": [
    "#dividing into list for plot\n",
    "li_dur = ['duration_1_Zone', 'duration_2_Zone', 'duration_3_Zone', 'duration_4_Zone', 'duration_5_Zone']\n",
    "li_tr = ['nbr_stays_3_Zone','nbr_stays_4_Zone', 'nbr_stays_5_Zone', 'nbr_stays_2_Zone', 'nbr_stays_1_Zone']\n",
    "li_missingtzone = ['down_missingZone_mvtPerc', 'up_missingZone_mvtPerc']\n",
    "li_chaotic = ['chaoticmvt_Middle1_Zone_nbr_180mn', 'chaoticmvt_Middle2_Zone_nbr_180mn', 'chaoticmvt_Middle3_Zone_nbr_180mn', \n",
    "              'chaoticmvt_Middle4_Zone_nbr_180mn']\n",
    "li_activity = ['activity_25percentile_sec', 'activity_50percentile_sec', 'activity_5percentile_sec','activity_95percentile_sec']\n",
    "li_maxzone = ['is_max_zone_duration_zone1','is_max_zone_duration_zone2','is_max_zone_duration_zone3',\n",
    "                       'is_max_zone_duration_zone4', 'is_max_zone_duration_zone5']\n",
    "li_maxnightzone = ['is_max_nightzone_duration_zone1', 'is_max_nightzone_duration_zone2',  'is_max_nightzone_duration_zone3', \n",
    "                   'is_max_nightzone_duration_zone4', 'is_max_nightzone_duration_zone5']\n",
    "li_gali = [li_dur, li_tr, li_missingtzone, li_chaotic, li_activity, li_maxzone, li_maxnightzone]\n",
    "li_general_activity = ['variance_duration', 'median_duration', 'max_duration','Total_number_zone','#trnight/#totaltr',\n",
    "                       'vertical_travel_distance','duration_last-firsttransition_mn', 'night_Total_number_transition',\n",
    "                       'Consistent_Night_Zone'+str(last_x_days)+'Days']\n",
    "for li_ in li_gali:\n",
    "    li_general_activity = li_general_activity+li_\n",
    "df_daily[li_2keep+li_general_activity].head(3)"
   ]
  },
  {
   "cell_type": "code",
   "execution_count": 36,
   "metadata": {},
   "outputs": [
    {
     "name": "stderr",
     "output_type": "stream",
     "text": [
      "C:\\Users\\camil\\anaconda3\\lib\\site-packages\\ipykernel\\ipkernel.py:283: DeprecationWarning: `should_run_async` will not call `transform_cell` automatically in the future. Please pass the result to `transformed_cell` argument and any exception that happen during thetransform in `preprocessing_exc_tuple` in IPython 7.17 and above.\n",
      "  and should_run_async(code)\n"
     ]
    },
    {
     "data": {
      "text/html": [
       "<div>\n",
       "<style scoped>\n",
       "    .dataframe tbody tr th:only-of-type {\n",
       "        vertical-align: middle;\n",
       "    }\n",
       "\n",
       "    .dataframe tbody tr th {\n",
       "        vertical-align: top;\n",
       "    }\n",
       "\n",
       "    .dataframe thead th {\n",
       "        text-align: right;\n",
       "    }\n",
       "</style>\n",
       "<table border=\"1\" class=\"dataframe\">\n",
       "  <thead>\n",
       "    <tr style=\"text-align: right;\">\n",
       "      <th></th>\n",
       "      <th>variance_duration</th>\n",
       "      <th>median_duration</th>\n",
       "      <th>max_duration</th>\n",
       "      <th>Total_number_zone</th>\n",
       "      <th>#trnight/#totaltr</th>\n",
       "      <th>vertical_travel_distance</th>\n",
       "      <th>duration_last-firsttransition_mn</th>\n",
       "      <th>night_Total_number_transition</th>\n",
       "      <th>Consistent_Night_Zone10Days</th>\n",
       "      <th>duration_1_Zone</th>\n",
       "      <th>...</th>\n",
       "      <th>is_max_zone_duration_zone1</th>\n",
       "      <th>is_max_zone_duration_zone2</th>\n",
       "      <th>is_max_zone_duration_zone3</th>\n",
       "      <th>is_max_zone_duration_zone4</th>\n",
       "      <th>is_max_zone_duration_zone5</th>\n",
       "      <th>is_max_nightzone_duration_zone1</th>\n",
       "      <th>is_max_nightzone_duration_zone2</th>\n",
       "      <th>is_max_nightzone_duration_zone3</th>\n",
       "      <th>is_max_nightzone_duration_zone4</th>\n",
       "      <th>is_max_nightzone_duration_zone5</th>\n",
       "    </tr>\n",
       "  </thead>\n",
       "  <tbody>\n",
       "    <tr>\n",
       "      <th>2</th>\n",
       "      <td>4.012194</td>\n",
       "      <td>0.095462</td>\n",
       "      <td>2.698653</td>\n",
       "      <td>-2.483966</td>\n",
       "      <td>2.958401</td>\n",
       "      <td>-1.801917</td>\n",
       "      <td>-4.049707</td>\n",
       "      <td>-0.127755</td>\n",
       "      <td>-1.346727</td>\n",
       "      <td>-0.615921</td>\n",
       "      <td>...</td>\n",
       "      <td>-0.055935</td>\n",
       "      <td>-0.543102</td>\n",
       "      <td>-0.240873</td>\n",
       "      <td>-0.368106</td>\n",
       "      <td>0.825380</td>\n",
       "      <td>-0.015137</td>\n",
       "      <td>-0.09728</td>\n",
       "      <td>2.152230</td>\n",
       "      <td>-0.353855</td>\n",
       "      <td>-1.533229</td>\n",
       "    </tr>\n",
       "    <tr>\n",
       "      <th>3</th>\n",
       "      <td>3.742968</td>\n",
       "      <td>-0.311688</td>\n",
       "      <td>2.829897</td>\n",
       "      <td>-0.895047</td>\n",
       "      <td>-0.384851</td>\n",
       "      <td>-1.801917</td>\n",
       "      <td>-4.116833</td>\n",
       "      <td>-0.212827</td>\n",
       "      <td>0.742541</td>\n",
       "      <td>-0.615921</td>\n",
       "      <td>...</td>\n",
       "      <td>-0.055935</td>\n",
       "      <td>-0.543102</td>\n",
       "      <td>-0.240873</td>\n",
       "      <td>-0.368106</td>\n",
       "      <td>0.825380</td>\n",
       "      <td>-0.015137</td>\n",
       "      <td>-0.09728</td>\n",
       "      <td>-0.464634</td>\n",
       "      <td>-0.353855</td>\n",
       "      <td>0.652218</td>\n",
       "    </tr>\n",
       "    <tr>\n",
       "      <th>4</th>\n",
       "      <td>-0.217717</td>\n",
       "      <td>-0.332950</td>\n",
       "      <td>-0.345920</td>\n",
       "      <td>-4.072886</td>\n",
       "      <td>3.347151</td>\n",
       "      <td>-0.964652</td>\n",
       "      <td>-1.677923</td>\n",
       "      <td>0.808035</td>\n",
       "      <td>-1.346727</td>\n",
       "      <td>-0.615921</td>\n",
       "      <td>...</td>\n",
       "      <td>-0.055935</td>\n",
       "      <td>1.841276</td>\n",
       "      <td>-0.240873</td>\n",
       "      <td>-0.368106</td>\n",
       "      <td>-1.211563</td>\n",
       "      <td>-0.015137</td>\n",
       "      <td>-0.09728</td>\n",
       "      <td>-0.464634</td>\n",
       "      <td>-0.353855</td>\n",
       "      <td>0.652218</td>\n",
       "    </tr>\n",
       "  </tbody>\n",
       "</table>\n",
       "<p>3 rows × 39 columns</p>\n",
       "</div>"
      ],
      "text/plain": [
       "   variance_duration  median_duration  max_duration  Total_number_zone  \\\n",
       "2           4.012194         0.095462      2.698653          -2.483966   \n",
       "3           3.742968        -0.311688      2.829897          -0.895047   \n",
       "4          -0.217717        -0.332950     -0.345920          -4.072886   \n",
       "\n",
       "   #trnight/#totaltr  vertical_travel_distance  \\\n",
       "2           2.958401                 -1.801917   \n",
       "3          -0.384851                 -1.801917   \n",
       "4           3.347151                 -0.964652   \n",
       "\n",
       "   duration_last-firsttransition_mn  night_Total_number_transition  \\\n",
       "2                         -4.049707                      -0.127755   \n",
       "3                         -4.116833                      -0.212827   \n",
       "4                         -1.677923                       0.808035   \n",
       "\n",
       "   Consistent_Night_Zone10Days  duration_1_Zone  ...  \\\n",
       "2                    -1.346727        -0.615921  ...   \n",
       "3                     0.742541        -0.615921  ...   \n",
       "4                    -1.346727        -0.615921  ...   \n",
       "\n",
       "   is_max_zone_duration_zone1  is_max_zone_duration_zone2  \\\n",
       "2                   -0.055935                   -0.543102   \n",
       "3                   -0.055935                   -0.543102   \n",
       "4                   -0.055935                    1.841276   \n",
       "\n",
       "   is_max_zone_duration_zone3  is_max_zone_duration_zone4  \\\n",
       "2                   -0.240873                   -0.368106   \n",
       "3                   -0.240873                   -0.368106   \n",
       "4                   -0.240873                   -0.368106   \n",
       "\n",
       "   is_max_zone_duration_zone5  is_max_nightzone_duration_zone1  \\\n",
       "2                    0.825380                        -0.015137   \n",
       "3                    0.825380                        -0.015137   \n",
       "4                   -1.211563                        -0.015137   \n",
       "\n",
       "   is_max_nightzone_duration_zone2  is_max_nightzone_duration_zone3  \\\n",
       "2                         -0.09728                         2.152230   \n",
       "3                         -0.09728                        -0.464634   \n",
       "4                         -0.09728                        -0.464634   \n",
       "\n",
       "   is_max_nightzone_duration_zone4  is_max_nightzone_duration_zone5  \n",
       "2                        -0.353855                        -1.533229  \n",
       "3                        -0.353855                         0.652218  \n",
       "4                        -0.353855                         0.652218  \n",
       "\n",
       "[3 rows x 39 columns]"
      ]
     },
     "metadata": {},
     "output_type": "display_data"
    },
    {
     "name": "stdout",
     "output_type": "stream",
     "text": [
      "(68126, 160) (56749, 41)\n",
      "For n_clusters = 2 The average silhouette_score is : 0.1517606672660473\n",
      "For n_clusters = 3 The average silhouette_score is : 0.14132662108871671\n",
      "For n_clusters = 4 The average silhouette_score is : 0.12648603598855804\n",
      "For n_clusters = 5 The average silhouette_score is : 0.09577074203794513\n",
      "For n_clusters = 6 The average silhouette_score is : 0.11416031310198416\n",
      "For n_clusters = 7 The average silhouette_score is : 0.12328567091648975\n",
      "For n_clusters = 8 The average silhouette_score is : 0.12501947008322603\n",
      "For n_clusters = 9 The average silhouette_score is : 0.12576144701599934\n",
      "Please let me know the numbers of clusters you want to search for 8\n",
      "(56749, 39)\n"
     ]
    },
    {
     "data": {
      "text/html": [
       "<div>\n",
       "<style scoped>\n",
       "    .dataframe tbody tr th:only-of-type {\n",
       "        vertical-align: middle;\n",
       "    }\n",
       "\n",
       "    .dataframe tbody tr th {\n",
       "        vertical-align: top;\n",
       "    }\n",
       "\n",
       "    .dataframe thead th {\n",
       "        text-align: right;\n",
       "    }\n",
       "</style>\n",
       "<table border=\"1\" class=\"dataframe\">\n",
       "  <thead>\n",
       "    <tr style=\"text-align: right;\">\n",
       "      <th></th>\n",
       "      <th>HenID</th>\n",
       "      <th>level</th>\n",
       "      <th>variance_duration</th>\n",
       "      <th>median_duration</th>\n",
       "      <th>max_duration</th>\n",
       "      <th>Total_number_zone</th>\n",
       "      <th>#trnight/#totaltr</th>\n",
       "      <th>vertical_travel_distance</th>\n",
       "      <th>duration_last-firsttransition_mn</th>\n",
       "      <th>night_Total_number_transition</th>\n",
       "      <th>...</th>\n",
       "      <th>is_max_zone_duration_zone2</th>\n",
       "      <th>is_max_zone_duration_zone3</th>\n",
       "      <th>is_max_zone_duration_zone4</th>\n",
       "      <th>is_max_zone_duration_zone5</th>\n",
       "      <th>is_max_nightzone_duration_zone1</th>\n",
       "      <th>is_max_nightzone_duration_zone2</th>\n",
       "      <th>is_max_nightzone_duration_zone3</th>\n",
       "      <th>is_max_nightzone_duration_zone4</th>\n",
       "      <th>is_max_nightzone_duration_zone5</th>\n",
       "      <th>clustering_general_activity</th>\n",
       "    </tr>\n",
       "  </thead>\n",
       "  <tbody>\n",
       "    <tr>\n",
       "      <th>2</th>\n",
       "      <td>hen_130</td>\n",
       "      <td>2020-10-06</td>\n",
       "      <td>1.712298e+08</td>\n",
       "      <td>656.0</td>\n",
       "      <td>30763.0</td>\n",
       "      <td>3.0</td>\n",
       "      <td>0.25000</td>\n",
       "      <td>4.0</td>\n",
       "      <td>18.0</td>\n",
       "      <td>1.0</td>\n",
       "      <td>...</td>\n",
       "      <td>False</td>\n",
       "      <td>False</td>\n",
       "      <td>False</td>\n",
       "      <td>True</td>\n",
       "      <td>False</td>\n",
       "      <td>False</td>\n",
       "      <td>True</td>\n",
       "      <td>False</td>\n",
       "      <td>False</td>\n",
       "      <td>2</td>\n",
       "    </tr>\n",
       "    <tr>\n",
       "      <th>3</th>\n",
       "      <td>hen_130</td>\n",
       "      <td>2020-10-07</td>\n",
       "      <td>1.604706e+08</td>\n",
       "      <td>206.0</td>\n",
       "      <td>31815.0</td>\n",
       "      <td>4.0</td>\n",
       "      <td>0.00000</td>\n",
       "      <td>4.0</td>\n",
       "      <td>6.0</td>\n",
       "      <td>0.0</td>\n",
       "      <td>...</td>\n",
       "      <td>False</td>\n",
       "      <td>False</td>\n",
       "      <td>False</td>\n",
       "      <td>True</td>\n",
       "      <td>False</td>\n",
       "      <td>False</td>\n",
       "      <td>False</td>\n",
       "      <td>False</td>\n",
       "      <td>True</td>\n",
       "      <td>2</td>\n",
       "    </tr>\n",
       "    <tr>\n",
       "      <th>4</th>\n",
       "      <td>hen_131</td>\n",
       "      <td>2020-09-30</td>\n",
       "      <td>2.187183e+06</td>\n",
       "      <td>182.5</td>\n",
       "      <td>6359.0</td>\n",
       "      <td>2.0</td>\n",
       "      <td>0.27907</td>\n",
       "      <td>31.0</td>\n",
       "      <td>442.0</td>\n",
       "      <td>12.0</td>\n",
       "      <td>...</td>\n",
       "      <td>True</td>\n",
       "      <td>False</td>\n",
       "      <td>False</td>\n",
       "      <td>False</td>\n",
       "      <td>False</td>\n",
       "      <td>False</td>\n",
       "      <td>False</td>\n",
       "      <td>False</td>\n",
       "      <td>True</td>\n",
       "      <td>3</td>\n",
       "    </tr>\n",
       "  </tbody>\n",
       "</table>\n",
       "<p>3 rows × 42 columns</p>\n",
       "</div>"
      ],
      "text/plain": [
       "     HenID      level  variance_duration  median_duration  max_duration  \\\n",
       "2  hen_130 2020-10-06       1.712298e+08            656.0       30763.0   \n",
       "3  hen_130 2020-10-07       1.604706e+08            206.0       31815.0   \n",
       "4  hen_131 2020-09-30       2.187183e+06            182.5        6359.0   \n",
       "\n",
       "   Total_number_zone  #trnight/#totaltr  vertical_travel_distance  \\\n",
       "2                3.0            0.25000                       4.0   \n",
       "3                4.0            0.00000                       4.0   \n",
       "4                2.0            0.27907                      31.0   \n",
       "\n",
       "  duration_last-firsttransition_mn  night_Total_number_transition  ...  \\\n",
       "2                             18.0                            1.0  ...   \n",
       "3                              6.0                            0.0  ...   \n",
       "4                            442.0                           12.0  ...   \n",
       "\n",
       "  is_max_zone_duration_zone2  is_max_zone_duration_zone3  \\\n",
       "2                      False                       False   \n",
       "3                      False                       False   \n",
       "4                       True                       False   \n",
       "\n",
       "   is_max_zone_duration_zone4  is_max_zone_duration_zone5  \\\n",
       "2                       False                        True   \n",
       "3                       False                        True   \n",
       "4                       False                       False   \n",
       "\n",
       "   is_max_nightzone_duration_zone1  is_max_nightzone_duration_zone2  \\\n",
       "2                            False                            False   \n",
       "3                            False                            False   \n",
       "4                            False                            False   \n",
       "\n",
       "   is_max_nightzone_duration_zone3  is_max_nightzone_duration_zone4  \\\n",
       "2                             True                            False   \n",
       "3                            False                            False   \n",
       "4                            False                            False   \n",
       "\n",
       "   is_max_nightzone_duration_zone5  clustering_general_activity  \n",
       "2                            False                            2  \n",
       "3                             True                            2  \n",
       "4                             True                            3  \n",
       "\n",
       "[3 rows x 42 columns]"
      ]
     },
     "metadata": {},
     "output_type": "display_data"
    },
    {
     "name": "stdout",
     "output_type": "stream",
     "text": [
      "(68126, 160)\n",
      "(222522, 161)\n"
     ]
    }
   ],
   "source": [
    "df_ = df_daily[li_general_activity+li_2keep].dropna(how='any').copy()\n",
    "\n",
    "#scaling data\n",
    "df_kmeans = df_.copy()\n",
    "sc = StandardScaler()\n",
    "df_kmeans[li_general_activity] = sc.fit_transform(df_kmeans[li_general_activity])\n",
    "display(df_kmeans[li_general_activity].head(3))\n",
    "\n",
    "print(df_daily.shape, df_kmeans.shape)\n",
    "li_ = range(2,10)\n",
    "r, center_ = kmeans_clustering(df=df_kmeans, range_n_clusters=li_, drop_col_list=li_2keep)\n",
    "if len(r)!=df_kmeans.shape[0]:\n",
    "    print('ERROR')\n",
    "    sys.exit()\n",
    "df_['clustering_general_activity'] = r\n",
    "display(df_[li_2keep+li_general_activity+['clustering_general_activity']].head(3))\n",
    "print(df_daily.shape)\n",
    "df_daily = pd.merge(df_daily, df_[li_2keep+['clustering_general_activity']], on=['HenID','level'], how='left')\n",
    "print(df_daily.shape)"
   ]
  },
  {
   "cell_type": "code",
   "execution_count": 37,
   "metadata": {
    "scrolled": true
   },
   "outputs": [
    {
     "name": "stdout",
     "output_type": "stream",
     "text": [
      "(38, 8)\n"
     ]
    },
    {
     "name": "stderr",
     "output_type": "stream",
     "text": [
      "C:\\Users\\camil\\anaconda3\\lib\\site-packages\\ipykernel\\ipkernel.py:283: DeprecationWarning: `should_run_async` will not call `transform_cell` automatically in the future. Please pass the result to `transformed_cell` argument and any exception that happen during thetransform in `preprocessing_exc_tuple` in IPython 7.17 and above.\n",
      "  and should_run_async(code)\n"
     ]
    },
    {
     "data": {
      "text/html": [
       "<div>\n",
       "<style scoped>\n",
       "    .dataframe tbody tr th:only-of-type {\n",
       "        vertical-align: middle;\n",
       "    }\n",
       "\n",
       "    .dataframe tbody tr th {\n",
       "        vertical-align: top;\n",
       "    }\n",
       "\n",
       "    .dataframe thead th {\n",
       "        text-align: right;\n",
       "    }\n",
       "</style>\n",
       "<table border=\"1\" class=\"dataframe\">\n",
       "  <thead>\n",
       "    <tr style=\"text-align: right;\">\n",
       "      <th></th>\n",
       "      <th>0</th>\n",
       "      <th>1</th>\n",
       "      <th>2</th>\n",
       "      <th>3</th>\n",
       "      <th>4</th>\n",
       "      <th>5</th>\n",
       "      <th>6</th>\n",
       "      <th>7</th>\n",
       "    </tr>\n",
       "  </thead>\n",
       "  <tbody>\n",
       "    <tr>\n",
       "      <th>variance_duration</th>\n",
       "      <td>1.555259e+08</td>\n",
       "      <td>1.091743e+06</td>\n",
       "      <td>1.627522e+07</td>\n",
       "      <td>1.807698e+06</td>\n",
       "      <td>450207.830776</td>\n",
       "      <td>2.369952e+06</td>\n",
       "      <td>1.064630e+06</td>\n",
       "      <td>2.176029e+06</td>\n",
       "    </tr>\n",
       "    <tr>\n",
       "      <th>median_duration</th>\n",
       "      <td>3.203329e+03</td>\n",
       "      <td>5.125385e+02</td>\n",
       "      <td>5.026618e+02</td>\n",
       "      <td>3.931175e+02</td>\n",
       "      <td>176.911605</td>\n",
       "      <td>5.142861e+02</td>\n",
       "      <td>4.379286e+02</td>\n",
       "      <td>2.495769e+02</td>\n",
       "    </tr>\n",
       "    <tr>\n",
       "      <th>max_duration</th>\n",
       "      <td>3.439880e+04</td>\n",
       "      <td>4.268195e+03</td>\n",
       "      <td>1.557103e+04</td>\n",
       "      <td>7.325111e+03</td>\n",
       "      <td>4177.124928</td>\n",
       "      <td>5.644611e+03</td>\n",
       "      <td>5.033812e+03</td>\n",
       "      <td>7.257231e+03</td>\n",
       "    </tr>\n",
       "  </tbody>\n",
       "</table>\n",
       "</div>"
      ],
      "text/plain": [
       "                              0             1             2             3  \\\n",
       "variance_duration  1.555259e+08  1.091743e+06  1.627522e+07  1.807698e+06   \n",
       "median_duration    3.203329e+03  5.125385e+02  5.026618e+02  3.931175e+02   \n",
       "max_duration       3.439880e+04  4.268195e+03  1.557103e+04  7.325111e+03   \n",
       "\n",
       "                               4             5             6             7  \n",
       "variance_duration  450207.830776  2.369952e+06  1.064630e+06  2.176029e+06  \n",
       "median_duration       176.911605  5.142861e+02  4.379286e+02  2.495769e+02  \n",
       "max_duration         4177.124928  5.644611e+03  5.033812e+03  7.257231e+03  "
      ]
     },
     "execution_count": 37,
     "metadata": {},
     "output_type": "execute_result"
    }
   ],
   "source": [
    "#### one table with mean for each variable within each clusters\n",
    "li_df = []#\n",
    "for k in df_['clustering_general_activity'].unique():\n",
    "    df0 = df_[df_['clustering_general_activity']==k][li_general_activity]\n",
    "    li_df.append(df0.mean())\n",
    "df_m = pd.concat(li_df,axis=1)\n",
    "df_m.to_csv(os.path.join(path_cluster, 'GeneralActivity_clusters_properties.csv'))\n",
    "print(df_m.shape)\n",
    "df_m.head(3)"
   ]
  },
  {
   "cell_type": "code",
   "execution_count": 39,
   "metadata": {},
   "outputs": [
    {
     "name": "stderr",
     "output_type": "stream",
     "text": [
      "C:\\Users\\camil\\anaconda3\\lib\\site-packages\\ipykernel\\ipkernel.py:283: DeprecationWarning: `should_run_async` will not call `transform_cell` automatically in the future. Please pass the result to `transformed_cell` argument and any exception that happen during thetransform in `preprocessing_exc_tuple` in IPython 7.17 and above.\n",
      "  and should_run_async(code)\n"
     ]
    },
    {
     "data": {
      "text/plain": [
       "['variance_duration',\n",
       " 'median_duration',\n",
       " 'max_duration',\n",
       " 'Total_number_zone',\n",
       " '#trnight/#totaltr',\n",
       " 'vertical_travel_distance',\n",
       " 'duration_last-firsttransition_mn',\n",
       " 'night_Total_number_transition',\n",
       " 'Consistent_Night_Zone10Days',\n",
       " 'duration_1_Zone',\n",
       " 'duration_2_Zone',\n",
       " 'duration_3_Zone',\n",
       " 'duration_4_Zone',\n",
       " 'duration_5_Zone',\n",
       " 'nbr_stays_3_Zone',\n",
       " 'nbr_stays_4_Zone',\n",
       " 'nbr_stays_5_Zone',\n",
       " 'nbr_stays_2_Zone',\n",
       " 'nbr_stays_1_Zone',\n",
       " 'down_missingZone_mvtPerc',\n",
       " 'up_missingZone_mvtPerc',\n",
       " 'chaoticmvt_Middle1_Zone_nbr_180mn',\n",
       " 'chaoticmvt_Middle2_Zone_nbr_180mn',\n",
       " 'chaoticmvt_Middle3_Zone_nbr_180mn',\n",
       " 'chaoticmvt_Middle4_Zone_nbr_180mn',\n",
       " 'activity_25percentile_sec',\n",
       " 'activity_50percentile_sec',\n",
       " 'activity_5percentile_sec',\n",
       " 'activity_95percentile_sec',\n",
       " 'is_max_zone_duration_zone1',\n",
       " 'is_max_zone_duration_zone2',\n",
       " 'is_max_zone_duration_zone3',\n",
       " 'is_max_zone_duration_zone4',\n",
       " 'is_max_zone_duration_zone5',\n",
       " 'is_max_nightzone_duration_zone1',\n",
       " 'is_max_nightzone_duration_zone2',\n",
       " 'is_max_nightzone_duration_zone3',\n",
       " 'is_max_nightzone_duration_zone4',\n",
       " 'is_max_nightzone_duration_zone5']"
      ]
     },
     "execution_count": 39,
     "metadata": {},
     "output_type": "execute_result"
    }
   ],
   "source": [
    "li_general_activity"
   ]
  },
  {
   "cell_type": "code",
   "execution_count": 45,
   "metadata": {
    "scrolled": true
   },
   "outputs": [
    {
     "name": "stderr",
     "output_type": "stream",
     "text": [
      "C:\\Users\\camil\\anaconda3\\lib\\site-packages\\ipykernel\\ipkernel.py:283: DeprecationWarning: `should_run_async` will not call `transform_cell` automatically in the future. Please pass the result to `transformed_cell` argument and any exception that happen during thetransform in `preprocessing_exc_tuple` in IPython 7.17 and above.\n",
      "  and should_run_async(code)\n"
     ]
    },
    {
     "data": {
      "text/html": [
       "<div>\n",
       "<style scoped>\n",
       "    .dataframe tbody tr th:only-of-type {\n",
       "        vertical-align: middle;\n",
       "    }\n",
       "\n",
       "    .dataframe tbody tr th {\n",
       "        vertical-align: top;\n",
       "    }\n",
       "\n",
       "    .dataframe thead th {\n",
       "        text-align: right;\n",
       "    }\n",
       "</style>\n",
       "<table border=\"1\" class=\"dataframe\">\n",
       "  <thead>\n",
       "    <tr style=\"text-align: right;\">\n",
       "      <th></th>\n",
       "      <th>HenID</th>\n",
       "      <th>level</th>\n",
       "      <th>duration_1_Zone</th>\n",
       "      <th>duration_2_Zone</th>\n",
       "      <th>duration_3_Zone</th>\n",
       "      <th>duration_4_Zone</th>\n",
       "      <th>duration_5_Zone</th>\n",
       "      <th>verification_daily_total_duration</th>\n",
       "      <th>dur_values</th>\n",
       "      <th>dur_values_normalized</th>\n",
       "      <th>...</th>\n",
       "      <th>is_max_zone_duration_zone2</th>\n",
       "      <th>is_max_zone_duration_zone3</th>\n",
       "      <th>is_max_zone_duration_zone4</th>\n",
       "      <th>is_max_zone_duration_zone5</th>\n",
       "      <th>is_max_nightzone_duration_zone1</th>\n",
       "      <th>is_max_nightzone_duration_zone2</th>\n",
       "      <th>is_max_nightzone_duration_zone3</th>\n",
       "      <th>is_max_nightzone_duration_zone4</th>\n",
       "      <th>is_max_nightzone_duration_zone5</th>\n",
       "      <th>clustering_general_activity</th>\n",
       "    </tr>\n",
       "  </thead>\n",
       "  <tbody>\n",
       "    <tr>\n",
       "      <th>1</th>\n",
       "      <td>hen_130</td>\n",
       "      <td>2020-10-05</td>\n",
       "      <td>0.0</td>\n",
       "      <td>0.0</td>\n",
       "      <td>0.0</td>\n",
       "      <td>0.0</td>\n",
       "      <td>32400.0</td>\n",
       "      <td>32400.0</td>\n",
       "      <td>[0.0, 0.0, 0.0, 0.0, 32400.0]</td>\n",
       "      <td>[0.0, 0.0, 0.0, 0.0, 1.0]</td>\n",
       "      <td>...</td>\n",
       "      <td>False</td>\n",
       "      <td>False</td>\n",
       "      <td>False</td>\n",
       "      <td>True</td>\n",
       "      <td>False</td>\n",
       "      <td>False</td>\n",
       "      <td>False</td>\n",
       "      <td>False</td>\n",
       "      <td>True</td>\n",
       "      <td>NaN</td>\n",
       "    </tr>\n",
       "    <tr>\n",
       "      <th>371</th>\n",
       "      <td>hen_134</td>\n",
       "      <td>2020-10-01</td>\n",
       "      <td>0.0</td>\n",
       "      <td>0.0</td>\n",
       "      <td>0.0</td>\n",
       "      <td>0.0</td>\n",
       "      <td>32400.0</td>\n",
       "      <td>32400.0</td>\n",
       "      <td>[0.0, 0.0, 0.0, 0.0, 32400.0]</td>\n",
       "      <td>[0.0, 0.0, 0.0, 0.0, 1.0]</td>\n",
       "      <td>...</td>\n",
       "      <td>False</td>\n",
       "      <td>False</td>\n",
       "      <td>False</td>\n",
       "      <td>True</td>\n",
       "      <td>False</td>\n",
       "      <td>False</td>\n",
       "      <td>False</td>\n",
       "      <td>False</td>\n",
       "      <td>True</td>\n",
       "      <td>NaN</td>\n",
       "    </tr>\n",
       "    <tr>\n",
       "      <th>374</th>\n",
       "      <td>hen_134</td>\n",
       "      <td>2020-10-04</td>\n",
       "      <td>0.0</td>\n",
       "      <td>0.0</td>\n",
       "      <td>0.0</td>\n",
       "      <td>0.0</td>\n",
       "      <td>32400.0</td>\n",
       "      <td>32400.0</td>\n",
       "      <td>[0.0, 0.0, 0.0, 0.0, 32400.0]</td>\n",
       "      <td>[0.0, 0.0, 0.0, 0.0, 1.0]</td>\n",
       "      <td>...</td>\n",
       "      <td>False</td>\n",
       "      <td>False</td>\n",
       "      <td>False</td>\n",
       "      <td>True</td>\n",
       "      <td>False</td>\n",
       "      <td>False</td>\n",
       "      <td>False</td>\n",
       "      <td>False</td>\n",
       "      <td>True</td>\n",
       "      <td>NaN</td>\n",
       "    </tr>\n",
       "    <tr>\n",
       "      <th>375</th>\n",
       "      <td>hen_134</td>\n",
       "      <td>2020-10-05</td>\n",
       "      <td>0.0</td>\n",
       "      <td>0.0</td>\n",
       "      <td>0.0</td>\n",
       "      <td>0.0</td>\n",
       "      <td>32400.0</td>\n",
       "      <td>32400.0</td>\n",
       "      <td>[0.0, 0.0, 0.0, 0.0, 32400.0]</td>\n",
       "      <td>[0.0, 0.0, 0.0, 0.0, 1.0]</td>\n",
       "      <td>...</td>\n",
       "      <td>False</td>\n",
       "      <td>False</td>\n",
       "      <td>False</td>\n",
       "      <td>True</td>\n",
       "      <td>False</td>\n",
       "      <td>False</td>\n",
       "      <td>False</td>\n",
       "      <td>False</td>\n",
       "      <td>True</td>\n",
       "      <td>NaN</td>\n",
       "    </tr>\n",
       "    <tr>\n",
       "      <th>376</th>\n",
       "      <td>hen_134</td>\n",
       "      <td>2020-10-06</td>\n",
       "      <td>0.0</td>\n",
       "      <td>0.0</td>\n",
       "      <td>0.0</td>\n",
       "      <td>0.0</td>\n",
       "      <td>32400.0</td>\n",
       "      <td>32400.0</td>\n",
       "      <td>[0.0, 0.0, 0.0, 0.0, 32400.0]</td>\n",
       "      <td>[0.0, 0.0, 0.0, 0.0, 1.0]</td>\n",
       "      <td>...</td>\n",
       "      <td>False</td>\n",
       "      <td>False</td>\n",
       "      <td>False</td>\n",
       "      <td>True</td>\n",
       "      <td>False</td>\n",
       "      <td>False</td>\n",
       "      <td>False</td>\n",
       "      <td>False</td>\n",
       "      <td>True</td>\n",
       "      <td>NaN</td>\n",
       "    </tr>\n",
       "    <tr>\n",
       "      <th>...</th>\n",
       "      <td>...</td>\n",
       "      <td>...</td>\n",
       "      <td>...</td>\n",
       "      <td>...</td>\n",
       "      <td>...</td>\n",
       "      <td>...</td>\n",
       "      <td>...</td>\n",
       "      <td>...</td>\n",
       "      <td>...</td>\n",
       "      <td>...</td>\n",
       "      <td>...</td>\n",
       "      <td>...</td>\n",
       "      <td>...</td>\n",
       "      <td>...</td>\n",
       "      <td>...</td>\n",
       "      <td>...</td>\n",
       "      <td>...</td>\n",
       "      <td>...</td>\n",
       "      <td>...</td>\n",
       "      <td>...</td>\n",
       "      <td>...</td>\n",
       "    </tr>\n",
       "    <tr>\n",
       "      <th>222517</th>\n",
       "      <td>hen_181</td>\n",
       "      <td>2020-12-22</td>\n",
       "      <td>NaN</td>\n",
       "      <td>NaN</td>\n",
       "      <td>NaN</td>\n",
       "      <td>NaN</td>\n",
       "      <td>NaN</td>\n",
       "      <td>NaN</td>\n",
       "      <td>NaN</td>\n",
       "      <td>NaN</td>\n",
       "      <td>...</td>\n",
       "      <td>False</td>\n",
       "      <td>False</td>\n",
       "      <td>False</td>\n",
       "      <td>False</td>\n",
       "      <td>False</td>\n",
       "      <td>False</td>\n",
       "      <td>False</td>\n",
       "      <td>False</td>\n",
       "      <td>True</td>\n",
       "      <td>NaN</td>\n",
       "    </tr>\n",
       "    <tr>\n",
       "      <th>222518</th>\n",
       "      <td>hen_19</td>\n",
       "      <td>2020-12-22</td>\n",
       "      <td>NaN</td>\n",
       "      <td>NaN</td>\n",
       "      <td>NaN</td>\n",
       "      <td>NaN</td>\n",
       "      <td>NaN</td>\n",
       "      <td>NaN</td>\n",
       "      <td>NaN</td>\n",
       "      <td>NaN</td>\n",
       "      <td>...</td>\n",
       "      <td>False</td>\n",
       "      <td>False</td>\n",
       "      <td>False</td>\n",
       "      <td>False</td>\n",
       "      <td>False</td>\n",
       "      <td>False</td>\n",
       "      <td>False</td>\n",
       "      <td>False</td>\n",
       "      <td>True</td>\n",
       "      <td>NaN</td>\n",
       "    </tr>\n",
       "    <tr>\n",
       "      <th>222519</th>\n",
       "      <td>hen_23</td>\n",
       "      <td>2020-10-26</td>\n",
       "      <td>NaN</td>\n",
       "      <td>NaN</td>\n",
       "      <td>NaN</td>\n",
       "      <td>NaN</td>\n",
       "      <td>NaN</td>\n",
       "      <td>NaN</td>\n",
       "      <td>NaN</td>\n",
       "      <td>NaN</td>\n",
       "      <td>...</td>\n",
       "      <td>False</td>\n",
       "      <td>False</td>\n",
       "      <td>False</td>\n",
       "      <td>False</td>\n",
       "      <td>False</td>\n",
       "      <td>False</td>\n",
       "      <td>True</td>\n",
       "      <td>False</td>\n",
       "      <td>False</td>\n",
       "      <td>5.0</td>\n",
       "    </tr>\n",
       "    <tr>\n",
       "      <th>222520</th>\n",
       "      <td>hen_23</td>\n",
       "      <td>2020-10-26</td>\n",
       "      <td>NaN</td>\n",
       "      <td>NaN</td>\n",
       "      <td>NaN</td>\n",
       "      <td>NaN</td>\n",
       "      <td>NaN</td>\n",
       "      <td>NaN</td>\n",
       "      <td>NaN</td>\n",
       "      <td>NaN</td>\n",
       "      <td>...</td>\n",
       "      <td>False</td>\n",
       "      <td>False</td>\n",
       "      <td>False</td>\n",
       "      <td>False</td>\n",
       "      <td>False</td>\n",
       "      <td>False</td>\n",
       "      <td>True</td>\n",
       "      <td>False</td>\n",
       "      <td>False</td>\n",
       "      <td>5.0</td>\n",
       "    </tr>\n",
       "    <tr>\n",
       "      <th>222521</th>\n",
       "      <td>hen_93</td>\n",
       "      <td>2020-12-22</td>\n",
       "      <td>NaN</td>\n",
       "      <td>NaN</td>\n",
       "      <td>NaN</td>\n",
       "      <td>NaN</td>\n",
       "      <td>NaN</td>\n",
       "      <td>NaN</td>\n",
       "      <td>NaN</td>\n",
       "      <td>NaN</td>\n",
       "      <td>...</td>\n",
       "      <td>False</td>\n",
       "      <td>False</td>\n",
       "      <td>False</td>\n",
       "      <td>False</td>\n",
       "      <td>False</td>\n",
       "      <td>False</td>\n",
       "      <td>False</td>\n",
       "      <td>False</td>\n",
       "      <td>True</td>\n",
       "      <td>NaN</td>\n",
       "    </tr>\n",
       "  </tbody>\n",
       "</table>\n",
       "<p>10623 rows × 161 columns</p>\n",
       "</div>"
      ],
      "text/plain": [
       "          HenID      level  duration_1_Zone  duration_2_Zone  duration_3_Zone  \\\n",
       "1       hen_130 2020-10-05              0.0              0.0              0.0   \n",
       "371     hen_134 2020-10-01              0.0              0.0              0.0   \n",
       "374     hen_134 2020-10-04              0.0              0.0              0.0   \n",
       "375     hen_134 2020-10-05              0.0              0.0              0.0   \n",
       "376     hen_134 2020-10-06              0.0              0.0              0.0   \n",
       "...         ...        ...              ...              ...              ...   \n",
       "222517  hen_181 2020-12-22              NaN              NaN              NaN   \n",
       "222518   hen_19 2020-12-22              NaN              NaN              NaN   \n",
       "222519   hen_23 2020-10-26              NaN              NaN              NaN   \n",
       "222520   hen_23 2020-10-26              NaN              NaN              NaN   \n",
       "222521   hen_93 2020-12-22              NaN              NaN              NaN   \n",
       "\n",
       "        duration_4_Zone  duration_5_Zone  verification_daily_total_duration  \\\n",
       "1                   0.0          32400.0                            32400.0   \n",
       "371                 0.0          32400.0                            32400.0   \n",
       "374                 0.0          32400.0                            32400.0   \n",
       "375                 0.0          32400.0                            32400.0   \n",
       "376                 0.0          32400.0                            32400.0   \n",
       "...                 ...              ...                                ...   \n",
       "222517              NaN              NaN                                NaN   \n",
       "222518              NaN              NaN                                NaN   \n",
       "222519              NaN              NaN                                NaN   \n",
       "222520              NaN              NaN                                NaN   \n",
       "222521              NaN              NaN                                NaN   \n",
       "\n",
       "                           dur_values      dur_values_normalized  ...  \\\n",
       "1       [0.0, 0.0, 0.0, 0.0, 32400.0]  [0.0, 0.0, 0.0, 0.0, 1.0]  ...   \n",
       "371     [0.0, 0.0, 0.0, 0.0, 32400.0]  [0.0, 0.0, 0.0, 0.0, 1.0]  ...   \n",
       "374     [0.0, 0.0, 0.0, 0.0, 32400.0]  [0.0, 0.0, 0.0, 0.0, 1.0]  ...   \n",
       "375     [0.0, 0.0, 0.0, 0.0, 32400.0]  [0.0, 0.0, 0.0, 0.0, 1.0]  ...   \n",
       "376     [0.0, 0.0, 0.0, 0.0, 32400.0]  [0.0, 0.0, 0.0, 0.0, 1.0]  ...   \n",
       "...                               ...                        ...  ...   \n",
       "222517                            NaN                        NaN  ...   \n",
       "222518                            NaN                        NaN  ...   \n",
       "222519                            NaN                        NaN  ...   \n",
       "222520                            NaN                        NaN  ...   \n",
       "222521                            NaN                        NaN  ...   \n",
       "\n",
       "       is_max_zone_duration_zone2 is_max_zone_duration_zone3  \\\n",
       "1                           False                      False   \n",
       "371                         False                      False   \n",
       "374                         False                      False   \n",
       "375                         False                      False   \n",
       "376                         False                      False   \n",
       "...                           ...                        ...   \n",
       "222517                      False                      False   \n",
       "222518                      False                      False   \n",
       "222519                      False                      False   \n",
       "222520                      False                      False   \n",
       "222521                      False                      False   \n",
       "\n",
       "       is_max_zone_duration_zone4 is_max_zone_duration_zone5  \\\n",
       "1                           False                       True   \n",
       "371                         False                       True   \n",
       "374                         False                       True   \n",
       "375                         False                       True   \n",
       "376                         False                       True   \n",
       "...                           ...                        ...   \n",
       "222517                      False                      False   \n",
       "222518                      False                      False   \n",
       "222519                      False                      False   \n",
       "222520                      False                      False   \n",
       "222521                      False                      False   \n",
       "\n",
       "       is_max_nightzone_duration_zone1  is_max_nightzone_duration_zone2  \\\n",
       "1                                False                            False   \n",
       "371                              False                            False   \n",
       "374                              False                            False   \n",
       "375                              False                            False   \n",
       "376                              False                            False   \n",
       "...                                ...                              ...   \n",
       "222517                           False                            False   \n",
       "222518                           False                            False   \n",
       "222519                           False                            False   \n",
       "222520                           False                            False   \n",
       "222521                           False                            False   \n",
       "\n",
       "       is_max_nightzone_duration_zone3 is_max_nightzone_duration_zone4  \\\n",
       "1                                False                           False   \n",
       "371                              False                           False   \n",
       "374                              False                           False   \n",
       "375                              False                           False   \n",
       "376                              False                           False   \n",
       "...                                ...                             ...   \n",
       "222517                           False                           False   \n",
       "222518                           False                           False   \n",
       "222519                            True                           False   \n",
       "222520                            True                           False   \n",
       "222521                           False                           False   \n",
       "\n",
       "       is_max_nightzone_duration_zone5 clustering_general_activity  \n",
       "1                                 True                         NaN  \n",
       "371                               True                         NaN  \n",
       "374                               True                         NaN  \n",
       "375                               True                         NaN  \n",
       "376                               True                         NaN  \n",
       "...                                ...                         ...  \n",
       "222517                            True                         NaN  \n",
       "222518                            True                         NaN  \n",
       "222519                           False                         5.0  \n",
       "222520                           False                         5.0  \n",
       "222521                            True                         NaN  \n",
       "\n",
       "[10623 rows x 161 columns]"
      ]
     },
     "execution_count": 45,
     "metadata": {},
     "output_type": "execute_result"
    }
   ],
   "source": [
    "df_daily[df_daily['duration_last-firsttransition_mn'].isnull()]"
   ]
  },
  {
   "cell_type": "code",
   "execution_count": 48,
   "metadata": {
    "scrolled": true
   },
   "outputs": [
    {
     "name": "stderr",
     "output_type": "stream",
     "text": [
      "C:\\Users\\camil\\anaconda3\\lib\\site-packages\\ipykernel\\ipkernel.py:283: DeprecationWarning: `should_run_async` will not call `transform_cell` automatically in the future. Please pass the result to `transformed_cell` argument and any exception that happen during thetransform in `preprocessing_exc_tuple` in IPython 7.17 and above.\n",
      "  and should_run_async(code)\n"
     ]
    },
    {
     "data": {
      "image/png": "[encoded data removed]",
      "text/plain": [
       "<Figure size 432x288 with 1 Axes>"
      ]
     },
     "metadata": {
      "needs_background": "light"
     },
     "output_type": "display_data"
    },
    {
     "data": {
      "image/png": "[encoded data removed]",
      "text/plain": [
       "<Figure size 432x288 with 1 Axes>"
      ]
     },
     "metadata": {
      "needs_background": "light"
     },
     "output_type": "display_data"
    },
    {
     "data": {
      "image/png": "[encoded data removed]",
      "text/plain": [
       "<Figure size 432x288 with 1 Axes>"
      ]
     },
     "metadata": {
      "needs_background": "light"
     },
     "output_type": "display_data"
    },
    {
     "data": {
      "image/png": "[encoded data removed]",
      "text/plain": [
       "<Figure size 432x288 with 1 Axes>"
      ]
     },
     "metadata": {
      "needs_background": "light"
     },
     "output_type": "display_data"
    },
    {
     "data": {
      "image/png": "[encoded data removed]",
      "text/plain": [
       "<Figure size 432x288 with 1 Axes>"
      ]
     },
     "metadata": {
      "needs_background": "light"
     },
     "output_type": "display_data"
    },
    {
     "data": {
      "image/png": "[encoded data removed]",
      "text/plain": [
       "<Figure size 432x288 with 1 Axes>"
      ]
     },
     "metadata": {
      "needs_background": "light"
     },
     "output_type": "display_data"
    },
    {
     "data": {
      "image/png": "[encoded data removed]",
      "text/plain": [
       "<Figure size 432x288 with 1 Axes>"
      ]
     },
     "metadata": {
      "needs_background": "light"
     },
     "output_type": "display_data"
    },
    {
     "data": {
      "image/png": "[encoded data removed]",
      "text/plain": [
       "<Figure size 432x288 with 1 Axes>"
      ]
     },
     "metadata": {
      "needs_background": "light"
     },
     "output_type": "display_data"
    },
    {
     "data": {
      "image/png": "[encoded data removed]",
      "text/plain": [
       "<Figure size 432x288 with 1 Axes>"
      ]
     },
     "metadata": {
      "needs_background": "light"
     },
     "output_type": "display_data"
    },
    {
     "data": {
      "image/png": "[encoded data removed]",
      "text/plain": [
       "<Figure size 432x288 with 1 Axes>"
      ]
     },
     "metadata": {
      "needs_background": "light"
     },
     "output_type": "display_data"
    },
    {
     "data": {
      "image/png": "[encoded data removed]",
      "text/plain": [
       "<Figure size 432x288 with 1 Axes>"
      ]
     },
     "metadata": {
      "needs_background": "light"
     },
     "output_type": "display_data"
    },
    {
     "data": {
      "image/png": "[encoded data removed]",
      "text/plain": [
       "<Figure size 432x288 with 1 Axes>"
      ]
     },
     "metadata": {
      "needs_background": "light"
     },
     "output_type": "display_data"
    },
    {
     "data": {
      "image/png": "[encoded data removed]",
      "text/plain": [
       "<Figure size 432x288 with 1 Axes>"
      ]
     },
     "metadata": {
      "needs_background": "light"
     },
     "output_type": "display_data"
    },
    {
     "name": "stdout",
     "output_type": "stream",
     "text": [
      "ERROR:  duration_last-firsttransition_mn   Neither the `x` nor `y` variable appears to be numeric.\n"
     ]
    },
    {
     "data": {
      "image/png": "[encoded data removed]",
      "text/plain": [
       "<Figure size 432x288 with 1 Axes>"
      ]
     },
     "metadata": {
      "needs_background": "light"
     },
     "output_type": "display_data"
    },
    {
     "data": {
      "image/png": "[encoded data removed]",
      "text/plain": [
       "<Figure size 432x288 with 1 Axes>"
      ]
     },
     "metadata": {
      "needs_background": "light"
     },
     "output_type": "display_data"
    }
   ],
   "source": [
    "#### plot boxplot for each x variable in each cluster (given by the 'cluster_name' column from df)\n",
    "nbr = 0\n",
    "for li_ in li_gali:\n",
    "    #display(df_[['clustering_coeff','HenID','level']+li_gali[0]].head(3))\n",
    "    df_plt = pd.melt(df_, id_vars=['clustering_general_activity','HenID','level'], value_vars=li_).reset_index(drop=True)\n",
    "    #print(df_plt.shape)\n",
    "    #display(df_plt.head(3))\n",
    "    ax = sns.boxplot(x=\"variable\", y=\"value\", hue=\"clustering_general_activity\",data=df_plt, palette=\"Set3\")\n",
    "    ax.set_xticklabels(ax.xaxis.get_majorticklabels(), rotation=60)\n",
    "    plt.savefig(os.path.join(path_cluster,'GeneralActivity_'+str(nbr)+'.png'), bbox_inches='tight')\n",
    "    nbr = nbr+1\n",
    "    plt.show();\n",
    "for x in li_general_activity:\n",
    "    if not any([any([x in li]) for li in li_gali]):\n",
    "        try:\n",
    "            df_plt = pd.melt(df_, id_vars=['clustering_general_activity','HenID','level'], value_vars=x).reset_index(drop=True)\n",
    "            #display(df_plt.head(3))\n",
    "            ax = sns.boxplot(x=\"variable\", y=\"value\", hue=\"clustering_general_activity\",data=df_plt, palette=\"Set3\")\n",
    "            plt.savefig(os.path.join(path_cluster,'GeneralActivity_'+x.replace('/','')+'.png'), bbox_inches='tight')\n",
    "            plt.show();\n",
    "        except Exception as e:\n",
    "            print('ERROR: ',x, ' ',e)"
   ]
  },
  {
   "cell_type": "markdown",
   "metadata": {},
   "source": [
    "# Clustering nestbox"
   ]
  },
  {
   "cell_type": "code",
   "execution_count": 49,
   "metadata": {},
   "outputs": [
    {
     "name": "stderr",
     "output_type": "stream",
     "text": [
      "C:\\Users\\camil\\anaconda3\\lib\\site-packages\\ipykernel\\ipkernel.py:283: DeprecationWarning: `should_run_async` will not call `transform_cell` automatically in the future. Please pass the result to `transformed_cell` argument and any exception that happen during thetransform in `preprocessing_exc_tuple` in IPython 7.17 and above.\n",
      "  and should_run_async(code)\n"
     ]
    },
    {
     "data": {
      "text/html": [
       "<div>\n",
       "<style scoped>\n",
       "    .dataframe tbody tr th:only-of-type {\n",
       "        vertical-align: middle;\n",
       "    }\n",
       "\n",
       "    .dataframe tbody tr th {\n",
       "        vertical-align: top;\n",
       "    }\n",
       "\n",
       "    .dataframe thead th {\n",
       "        text-align: right;\n",
       "    }\n",
       "</style>\n",
       "<table border=\"1\" class=\"dataframe\">\n",
       "  <thead>\n",
       "    <tr style=\"text-align: right;\">\n",
       "      <th></th>\n",
       "      <th>HenID</th>\n",
       "      <th>level</th>\n",
       "      <th>sucessIntrusion_9</th>\n",
       "      <th>TimeFirstVisitLonger15mn-TimeFirstVisit_mn</th>\n",
       "      <th>B10h_Nestbox_nbrvisit</th>\n",
       "      <th>B10h_Nestbox_Longestduration</th>\n",
       "      <th>A12h_Nestbox_nbrvisit</th>\n",
       "      <th>A12h_Nestbox_Longestduration</th>\n",
       "      <th>Nestbox1staylonger900_None</th>\n",
       "      <th>Nestbox1staylonger900_Afternoon</th>\n",
       "      <th>Nestbox1staylonger900_b8</th>\n",
       "      <th>Nestbox1staylonger900_8-9</th>\n",
       "      <th>Nestbox1staylonger900_9-10</th>\n",
       "      <th>Nestbox1staylonger900_10-12</th>\n",
       "    </tr>\n",
       "  </thead>\n",
       "  <tbody>\n",
       "    <tr>\n",
       "      <th>0</th>\n",
       "      <td>hen_130</td>\n",
       "      <td>2020-10-04</td>\n",
       "      <td>0.0</td>\n",
       "      <td>NaN</td>\n",
       "      <td>1.0</td>\n",
       "      <td>64.0</td>\n",
       "      <td>1.0</td>\n",
       "      <td>15.0</td>\n",
       "      <td>True</td>\n",
       "      <td>False</td>\n",
       "      <td>False</td>\n",
       "      <td>False</td>\n",
       "      <td>False</td>\n",
       "      <td>False</td>\n",
       "    </tr>\n",
       "    <tr>\n",
       "      <th>1</th>\n",
       "      <td>hen_130</td>\n",
       "      <td>2020-10-05</td>\n",
       "      <td>0.0</td>\n",
       "      <td>NaN</td>\n",
       "      <td>0.0</td>\n",
       "      <td>0.0</td>\n",
       "      <td>0.0</td>\n",
       "      <td>0.0</td>\n",
       "      <td>True</td>\n",
       "      <td>False</td>\n",
       "      <td>False</td>\n",
       "      <td>False</td>\n",
       "      <td>False</td>\n",
       "      <td>False</td>\n",
       "    </tr>\n",
       "    <tr>\n",
       "      <th>2</th>\n",
       "      <td>hen_130</td>\n",
       "      <td>2020-10-06</td>\n",
       "      <td>0.0</td>\n",
       "      <td>NaN</td>\n",
       "      <td>1.0</td>\n",
       "      <td>325.0</td>\n",
       "      <td>0.0</td>\n",
       "      <td>0.0</td>\n",
       "      <td>True</td>\n",
       "      <td>False</td>\n",
       "      <td>False</td>\n",
       "      <td>False</td>\n",
       "      <td>False</td>\n",
       "      <td>False</td>\n",
       "    </tr>\n",
       "  </tbody>\n",
       "</table>\n",
       "</div>"
      ],
      "text/plain": [
       "     HenID      level  sucessIntrusion_9  \\\n",
       "0  hen_130 2020-10-04                0.0   \n",
       "1  hen_130 2020-10-05                0.0   \n",
       "2  hen_130 2020-10-06                0.0   \n",
       "\n",
       "   TimeFirstVisitLonger15mn-TimeFirstVisit_mn  B10h_Nestbox_nbrvisit  \\\n",
       "0                                         NaN                    1.0   \n",
       "1                                         NaN                    0.0   \n",
       "2                                         NaN                    1.0   \n",
       "\n",
       "   B10h_Nestbox_Longestduration  A12h_Nestbox_nbrvisit  \\\n",
       "0                          64.0                    1.0   \n",
       "1                           0.0                    0.0   \n",
       "2                         325.0                    0.0   \n",
       "\n",
       "   A12h_Nestbox_Longestduration  Nestbox1staylonger900_None  \\\n",
       "0                          15.0                        True   \n",
       "1                           0.0                        True   \n",
       "2                           0.0                        True   \n",
       "\n",
       "   Nestbox1staylonger900_Afternoon  Nestbox1staylonger900_b8  \\\n",
       "0                            False                     False   \n",
       "1                            False                     False   \n",
       "2                            False                     False   \n",
       "\n",
       "   Nestbox1staylonger900_8-9  Nestbox1staylonger900_9-10  \\\n",
       "0                      False                       False   \n",
       "1                      False                       False   \n",
       "2                      False                       False   \n",
       "\n",
       "   Nestbox1staylonger900_10-12  \n",
       "0                        False  \n",
       "1                        False  \n",
       "2                        False  "
      ]
     },
     "execution_count": 49,
     "metadata": {},
     "output_type": "execute_result"
    }
   ],
   "source": [
    "li_staylonger900 = ['Nestbox1staylonger900_None', 'Nestbox1staylonger900_Afternoon', 'Nestbox1staylonger900_b8',\n",
    "                    'Nestbox1staylonger900_8-9', 'Nestbox1staylonger900_9-10', 'Nestbox1staylonger900_10-12']\n",
    "li_nestbox_usage = ['sucessIntrusion_9','TimeFirstVisitLonger15mn-TimeFirstVisit_mn','B10h_Nestbox_nbrvisit', \n",
    "                    'B10h_Nestbox_Longestduration', 'A12h_Nestbox_nbrvisit', 'A12h_Nestbox_Longestduration']\n",
    "li_nb = [li_staylonger900]\n",
    "for li_ in li_nb:\n",
    "    li_nestbox_usage = li_nestbox_usage+li_\n",
    "df_daily[li_2keep+li_nestbox_usage].head(3)"
   ]
  },
  {
   "cell_type": "code",
   "execution_count": 51,
   "metadata": {},
   "outputs": [
    {
     "name": "stderr",
     "output_type": "stream",
     "text": [
      "C:\\Users\\camil\\anaconda3\\lib\\site-packages\\ipykernel\\ipkernel.py:283: DeprecationWarning: `should_run_async` will not call `transform_cell` automatically in the future. Please pass the result to `transformed_cell` argument and any exception that happen during thetransform in `preprocessing_exc_tuple` in IPython 7.17 and above.\n",
      "  and should_run_async(code)\n"
     ]
    },
    {
     "data": {
      "text/html": [
       "<div>\n",
       "<style scoped>\n",
       "    .dataframe tbody tr th:only-of-type {\n",
       "        vertical-align: middle;\n",
       "    }\n",
       "\n",
       "    .dataframe tbody tr th {\n",
       "        vertical-align: top;\n",
       "    }\n",
       "\n",
       "    .dataframe thead th {\n",
       "        text-align: right;\n",
       "    }\n",
       "</style>\n",
       "<table border=\"1\" class=\"dataframe\">\n",
       "  <thead>\n",
       "    <tr style=\"text-align: right;\">\n",
       "      <th></th>\n",
       "      <th>sucessIntrusion_9</th>\n",
       "      <th>TimeFirstVisitLonger15mn-TimeFirstVisit_mn</th>\n",
       "      <th>B10h_Nestbox_nbrvisit</th>\n",
       "      <th>B10h_Nestbox_Longestduration</th>\n",
       "      <th>A12h_Nestbox_nbrvisit</th>\n",
       "      <th>A12h_Nestbox_Longestduration</th>\n",
       "      <th>Nestbox1staylonger900_None</th>\n",
       "      <th>Nestbox1staylonger900_Afternoon</th>\n",
       "      <th>Nestbox1staylonger900_b8</th>\n",
       "      <th>Nestbox1staylonger900_8-9</th>\n",
       "      <th>Nestbox1staylonger900_9-10</th>\n",
       "      <th>Nestbox1staylonger900_10-12</th>\n",
       "    </tr>\n",
       "  </thead>\n",
       "  <tbody>\n",
       "    <tr>\n",
       "      <th>10</th>\n",
       "      <td>-1.373036</td>\n",
       "      <td>1.195101</td>\n",
       "      <td>-1.322851</td>\n",
       "      <td>-1.584329</td>\n",
       "      <td>-0.388009</td>\n",
       "      <td>-0.138127</td>\n",
       "      <td>0.0</td>\n",
       "      <td>6.564928</td>\n",
       "      <td>-2.732563</td>\n",
       "      <td>-0.112771</td>\n",
       "      <td>-0.102135</td>\n",
       "      <td>-0.103787</td>\n",
       "    </tr>\n",
       "    <tr>\n",
       "      <th>11</th>\n",
       "      <td>-1.373036</td>\n",
       "      <td>1.195101</td>\n",
       "      <td>-1.322851</td>\n",
       "      <td>-1.584329</td>\n",
       "      <td>-0.388009</td>\n",
       "      <td>-0.138127</td>\n",
       "      <td>0.0</td>\n",
       "      <td>6.564928</td>\n",
       "      <td>-2.732563</td>\n",
       "      <td>-0.112771</td>\n",
       "      <td>-0.102135</td>\n",
       "      <td>-0.103787</td>\n",
       "    </tr>\n",
       "    <tr>\n",
       "      <th>12</th>\n",
       "      <td>-1.373036</td>\n",
       "      <td>-0.269321</td>\n",
       "      <td>-0.722896</td>\n",
       "      <td>-0.703074</td>\n",
       "      <td>-0.388009</td>\n",
       "      <td>6.082482</td>\n",
       "      <td>0.0</td>\n",
       "      <td>-0.152325</td>\n",
       "      <td>-2.732563</td>\n",
       "      <td>-0.112771</td>\n",
       "      <td>9.790967</td>\n",
       "      <td>-0.103787</td>\n",
       "    </tr>\n",
       "  </tbody>\n",
       "</table>\n",
       "</div>"
      ],
      "text/plain": [
       "    sucessIntrusion_9  TimeFirstVisitLonger15mn-TimeFirstVisit_mn  \\\n",
       "10          -1.373036                                    1.195101   \n",
       "11          -1.373036                                    1.195101   \n",
       "12          -1.373036                                   -0.269321   \n",
       "\n",
       "    B10h_Nestbox_nbrvisit  B10h_Nestbox_Longestduration  \\\n",
       "10              -1.322851                     -1.584329   \n",
       "11              -1.322851                     -1.584329   \n",
       "12              -0.722896                     -0.703074   \n",
       "\n",
       "    A12h_Nestbox_nbrvisit  A12h_Nestbox_Longestduration  \\\n",
       "10              -0.388009                     -0.138127   \n",
       "11              -0.388009                     -0.138127   \n",
       "12              -0.388009                      6.082482   \n",
       "\n",
       "    Nestbox1staylonger900_None  Nestbox1staylonger900_Afternoon  \\\n",
       "10                         0.0                         6.564928   \n",
       "11                         0.0                         6.564928   \n",
       "12                         0.0                        -0.152325   \n",
       "\n",
       "    Nestbox1staylonger900_b8  Nestbox1staylonger900_8-9  \\\n",
       "10                 -2.732563                  -0.112771   \n",
       "11                 -2.732563                  -0.112771   \n",
       "12                 -2.732563                  -0.112771   \n",
       "\n",
       "    Nestbox1staylonger900_9-10  Nestbox1staylonger900_10-12  \n",
       "10                   -0.102135                    -0.103787  \n",
       "11                   -0.102135                    -0.103787  \n",
       "12                    9.790967                    -0.103787  "
      ]
     },
     "metadata": {},
     "output_type": "display_data"
    },
    {
     "name": "stdout",
     "output_type": "stream",
     "text": [
      "(222522, 161) (195179, 14)\n",
      "For n_clusters = 2 The average silhouette_score is : 0.6764865313260416\n",
      "For n_clusters = 3 The average silhouette_score is : 0.684055985060365\n",
      "For n_clusters = 4 The average silhouette_score is : 0.22253776037280415\n",
      "For n_clusters = 5 The average silhouette_score is : 0.24119719578292753\n",
      "For n_clusters = 6 The average silhouette_score is : 0.2370041088370169\n",
      "For n_clusters = 7 The average silhouette_score is : 0.2606582122025642\n",
      "Please let me know the numbers of clusters you want to search for 3\n",
      "(195179, 12)\n"
     ]
    },
    {
     "data": {
      "text/html": [
       "<div>\n",
       "<style scoped>\n",
       "    .dataframe tbody tr th:only-of-type {\n",
       "        vertical-align: middle;\n",
       "    }\n",
       "\n",
       "    .dataframe tbody tr th {\n",
       "        vertical-align: top;\n",
       "    }\n",
       "\n",
       "    .dataframe thead th {\n",
       "        text-align: right;\n",
       "    }\n",
       "</style>\n",
       "<table border=\"1\" class=\"dataframe\">\n",
       "  <thead>\n",
       "    <tr style=\"text-align: right;\">\n",
       "      <th></th>\n",
       "      <th>HenID</th>\n",
       "      <th>level</th>\n",
       "      <th>sucessIntrusion_9</th>\n",
       "      <th>TimeFirstVisitLonger15mn-TimeFirstVisit_mn</th>\n",
       "      <th>B10h_Nestbox_nbrvisit</th>\n",
       "      <th>B10h_Nestbox_Longestduration</th>\n",
       "      <th>A12h_Nestbox_nbrvisit</th>\n",
       "      <th>A12h_Nestbox_Longestduration</th>\n",
       "      <th>Nestbox1staylonger900_None</th>\n",
       "      <th>Nestbox1staylonger900_Afternoon</th>\n",
       "      <th>Nestbox1staylonger900_b8</th>\n",
       "      <th>Nestbox1staylonger900_8-9</th>\n",
       "      <th>Nestbox1staylonger900_9-10</th>\n",
       "      <th>Nestbox1staylonger900_10-12</th>\n",
       "      <th>clustering_nestbox</th>\n",
       "    </tr>\n",
       "  </thead>\n",
       "  <tbody>\n",
       "    <tr>\n",
       "      <th>10</th>\n",
       "      <td>hen_131</td>\n",
       "      <td>2020-10-02</td>\n",
       "      <td>0.0</td>\n",
       "      <td>156.0</td>\n",
       "      <td>0.0</td>\n",
       "      <td>0.0</td>\n",
       "      <td>2.0</td>\n",
       "      <td>965.0</td>\n",
       "      <td>False</td>\n",
       "      <td>True</td>\n",
       "      <td>False</td>\n",
       "      <td>False</td>\n",
       "      <td>False</td>\n",
       "      <td>False</td>\n",
       "      <td>0</td>\n",
       "    </tr>\n",
       "    <tr>\n",
       "      <th>11</th>\n",
       "      <td>hen_131</td>\n",
       "      <td>2020-10-02</td>\n",
       "      <td>0.0</td>\n",
       "      <td>156.0</td>\n",
       "      <td>0.0</td>\n",
       "      <td>0.0</td>\n",
       "      <td>2.0</td>\n",
       "      <td>965.0</td>\n",
       "      <td>False</td>\n",
       "      <td>True</td>\n",
       "      <td>False</td>\n",
       "      <td>False</td>\n",
       "      <td>False</td>\n",
       "      <td>False</td>\n",
       "      <td>0</td>\n",
       "    </tr>\n",
       "    <tr>\n",
       "      <th>12</th>\n",
       "      <td>hen_131</td>\n",
       "      <td>2020-10-04</td>\n",
       "      <td>0.0</td>\n",
       "      <td>25.0</td>\n",
       "      <td>2.0</td>\n",
       "      <td>1543.0</td>\n",
       "      <td>2.0</td>\n",
       "      <td>54410.0</td>\n",
       "      <td>False</td>\n",
       "      <td>False</td>\n",
       "      <td>False</td>\n",
       "      <td>False</td>\n",
       "      <td>True</td>\n",
       "      <td>False</td>\n",
       "      <td>0</td>\n",
       "    </tr>\n",
       "  </tbody>\n",
       "</table>\n",
       "</div>"
      ],
      "text/plain": [
       "      HenID      level  sucessIntrusion_9  \\\n",
       "10  hen_131 2020-10-02                0.0   \n",
       "11  hen_131 2020-10-02                0.0   \n",
       "12  hen_131 2020-10-04                0.0   \n",
       "\n",
       "    TimeFirstVisitLonger15mn-TimeFirstVisit_mn  B10h_Nestbox_nbrvisit  \\\n",
       "10                                       156.0                    0.0   \n",
       "11                                       156.0                    0.0   \n",
       "12                                        25.0                    2.0   \n",
       "\n",
       "    B10h_Nestbox_Longestduration  A12h_Nestbox_nbrvisit  \\\n",
       "10                           0.0                    2.0   \n",
       "11                           0.0                    2.0   \n",
       "12                        1543.0                    2.0   \n",
       "\n",
       "    A12h_Nestbox_Longestduration  Nestbox1staylonger900_None  \\\n",
       "10                         965.0                       False   \n",
       "11                         965.0                       False   \n",
       "12                       54410.0                       False   \n",
       "\n",
       "    Nestbox1staylonger900_Afternoon  Nestbox1staylonger900_b8  \\\n",
       "10                             True                     False   \n",
       "11                             True                     False   \n",
       "12                            False                     False   \n",
       "\n",
       "    Nestbox1staylonger900_8-9  Nestbox1staylonger900_9-10  \\\n",
       "10                      False                       False   \n",
       "11                      False                       False   \n",
       "12                      False                        True   \n",
       "\n",
       "    Nestbox1staylonger900_10-12  clustering_nestbox  \n",
       "10                        False                   0  \n",
       "11                        False                   0  \n",
       "12                        False                   0  "
      ]
     },
     "metadata": {},
     "output_type": "display_data"
    },
    {
     "name": "stdout",
     "output_type": "stream",
     "text": [
      "(222522, 161)\n",
      "(3032580, 162)\n"
     ]
    }
   ],
   "source": [
    "df_ = df_daily[li_nestbox_usage+li_2keep].dropna(how='any').copy()\n",
    "\n",
    "#scaling data\n",
    "df_kmeans = df_.copy()\n",
    "sc = StandardScaler()\n",
    "df_kmeans[li_nestbox_usage] = sc.fit_transform(df_kmeans[li_nestbox_usage])\n",
    "display(df_kmeans[li_nestbox_usage].head(3))\n",
    "\n",
    "print(df_daily.shape, df_kmeans.shape)\n",
    "li_ = range(2,8)\n",
    "r, center_ = kmeans_clustering(df=df_kmeans, range_n_clusters=li_, drop_col_list=li_2keep)\n",
    "if len(r)!=df_kmeans.shape[0]:\n",
    "    print('ERROR')\n",
    "    sys.exit()\n",
    "df_['clustering_nestbox'] = r\n",
    "display(df_[li_2keep+li_nestbox_usage+['clustering_nestbox']].head(3))\n",
    "print(df_daily.shape)\n",
    "df_daily = pd.merge(df_daily, df_[li_2keep+['clustering_nestbox']], on=['HenID','level'], how='left')\n",
    "print(df_daily.shape)"
   ]
  },
  {
   "cell_type": "code",
   "execution_count": 52,
   "metadata": {},
   "outputs": [
    {
     "name": "stdout",
     "output_type": "stream",
     "text": [
      "(12, 3)\n"
     ]
    },
    {
     "name": "stderr",
     "output_type": "stream",
     "text": [
      "C:\\Users\\camil\\anaconda3\\lib\\site-packages\\ipykernel\\ipkernel.py:283: DeprecationWarning: `should_run_async` will not call `transform_cell` automatically in the future. Please pass the result to `transformed_cell` argument and any exception that happen during thetransform in `preprocessing_exc_tuple` in IPython 7.17 and above.\n",
      "  and should_run_async(code)\n"
     ]
    },
    {
     "data": {
      "text/html": [
       "<div>\n",
       "<style scoped>\n",
       "    .dataframe tbody tr th:only-of-type {\n",
       "        vertical-align: middle;\n",
       "    }\n",
       "\n",
       "    .dataframe tbody tr th {\n",
       "        vertical-align: top;\n",
       "    }\n",
       "\n",
       "    .dataframe thead th {\n",
       "        text-align: right;\n",
       "    }\n",
       "</style>\n",
       "<table border=\"1\" class=\"dataframe\">\n",
       "  <thead>\n",
       "    <tr style=\"text-align: right;\">\n",
       "      <th></th>\n",
       "      <th>0</th>\n",
       "      <th>1</th>\n",
       "      <th>2</th>\n",
       "    </tr>\n",
       "  </thead>\n",
       "  <tbody>\n",
       "    <tr>\n",
       "      <th>sucessIntrusion_9</th>\n",
       "      <td>0.085386</td>\n",
       "      <td>0.612192</td>\n",
       "      <td>0.220747</td>\n",
       "    </tr>\n",
       "    <tr>\n",
       "      <th>TimeFirstVisitLonger15mn-TimeFirstVisit_mn</th>\n",
       "      <td>251.489063</td>\n",
       "      <td>17.711602</td>\n",
       "      <td>58.282484</td>\n",
       "    </tr>\n",
       "    <tr>\n",
       "      <th>B10h_Nestbox_nbrvisit</th>\n",
       "      <td>4.064072</td>\n",
       "      <td>2.335224</td>\n",
       "      <td>6.733882</td>\n",
       "    </tr>\n",
       "  </tbody>\n",
       "</table>\n",
       "</div>"
      ],
      "text/plain": [
       "                                                     0          1          2\n",
       "sucessIntrusion_9                             0.085386   0.612192   0.220747\n",
       "TimeFirstVisitLonger15mn-TimeFirstVisit_mn  251.489063  17.711602  58.282484\n",
       "B10h_Nestbox_nbrvisit                         4.064072   2.335224   6.733882"
      ]
     },
     "execution_count": 52,
     "metadata": {},
     "output_type": "execute_result"
    }
   ],
   "source": [
    "#### one table with mean for each variable within each clusters\n",
    "li_df = []\n",
    "for k in df_['clustering_nestbox'].unique():\n",
    "    df0 = df_[df_['clustering_nestbox']==k][li_nestbox_usage]\n",
    "    li_df.append(df0.mean())\n",
    "df_m = pd.concat(li_df,axis=1)\n",
    "df_m.to_csv(os.path.join(path_cluster, 'NestBox_clusters_properties.csv'))\n",
    "print(df_m.shape)\n",
    "df_m.head(3)"
   ]
  },
  {
   "cell_type": "code",
   "execution_count": 53,
   "metadata": {},
   "outputs": [
    {
     "name": "stderr",
     "output_type": "stream",
     "text": [
      "C:\\Users\\camil\\anaconda3\\lib\\site-packages\\ipykernel\\ipkernel.py:283: DeprecationWarning: `should_run_async` will not call `transform_cell` automatically in the future. Please pass the result to `transformed_cell` argument and any exception that happen during thetransform in `preprocessing_exc_tuple` in IPython 7.17 and above.\n",
      "  and should_run_async(code)\n"
     ]
    },
    {
     "data": {
      "image/png": "[encoded data removed]",
      "text/plain": [
       "<Figure size 432x288 with 1 Axes>"
      ]
     },
     "metadata": {
      "needs_background": "light"
     },
     "output_type": "display_data"
    },
    {
     "data": {
      "image/png": "[encoded data removed]",
      "text/plain": [
       "<Figure size 432x288 with 1 Axes>"
      ]
     },
     "metadata": {
      "needs_background": "light"
     },
     "output_type": "display_data"
    },
    {
     "data": {
      "image/png": "[encoded data removed]",
      "text/plain": [
       "<Figure size 432x288 with 1 Axes>"
      ]
     },
     "metadata": {
      "needs_background": "light"
     },
     "output_type": "display_data"
    },
    {
     "data": {
      "image/png": "[encoded data removed]",
      "text/plain": [
       "<Figure size 432x288 with 1 Axes>"
      ]
     },
     "metadata": {
      "needs_background": "light"
     },
     "output_type": "display_data"
    },
    {
     "data": {
      "image/png": "[encoded data removed]",
      "text/plain": [
       "<Figure size 432x288 with 1 Axes>"
      ]
     },
     "metadata": {
      "needs_background": "light"
     },
     "output_type": "display_data"
    },
    {
     "data": {
      "image/png": "[encoded data removed]",
      "text/plain": [
       "<Figure size 432x288 with 1 Axes>"
      ]
     },
     "metadata": {
      "needs_background": "light"
     },
     "output_type": "display_data"
    },
    {
     "data": {
      "image/png": "[encoded data removed]",
      "text/plain": [
       "<Figure size 432x288 with 1 Axes>"
      ]
     },
     "metadata": {
      "needs_background": "light"
     },
     "output_type": "display_data"
    }
   ],
   "source": [
    "#### plot boxplot for each x variable in each cluster (given by the 'cluster_name' column from df)\n",
    "nbr = 0\n",
    "for li_ in li_nb:\n",
    "    #display(df_[['clustering_coeff','HenID','level']+li_gali[0]].head(3))\n",
    "    df_plt = pd.melt(df_, id_vars=['clustering_nestbox','HenID','level'], value_vars=li_).reset_index(drop=True)\n",
    "    #print(df_plt.shape)\n",
    "    #display(df_plt.head(3))\n",
    "    ax = sns.boxplot(x=\"variable\", y=\"value\", hue=\"clustering_nestbox\",data=df_plt, palette=\"Set3\")\n",
    "    ax.set_xticklabels(ax.xaxis.get_majorticklabels(), rotation=60)\n",
    "    plt.savefig(os.path.join(path_cluster,'NestBox_'+str(nbr)+'.png'), bbox_inches='tight')\n",
    "    nbr = nbr+1\n",
    "    plt.show();\n",
    "for x in li_nestbox_usage:\n",
    "    if not any([any([x in li]) for li in li_nb]):\n",
    "        df_plt = pd.melt(df_, id_vars=['clustering_nestbox','HenID','level'], value_vars=x).reset_index(drop=True)\n",
    "        #display(df_plt.head(3))\n",
    "        ax = sns.boxplot(x=\"variable\", y=\"value\", hue=\"clustering_nestbox\",data=df_plt, palette=\"Set3\")\n",
    "        plt.savefig(os.path.join(path_cluster,'NestBox_'+x+'.png'), bbox_inches='tight')\n",
    "        plt.show();"
   ]
  },
  {
   "cell_type": "markdown",
   "metadata": {},
   "source": [
    "# Clustering WG"
   ]
  },
  {
   "cell_type": "code",
   "execution_count": 56,
   "metadata": {},
   "outputs": [
    {
     "name": "stderr",
     "output_type": "stream",
     "text": [
      "C:\\Users\\camil\\anaconda3\\lib\\site-packages\\ipykernel\\ipkernel.py:283: DeprecationWarning: `should_run_async` will not call `transform_cell` automatically in the future. Please pass the result to `transformed_cell` argument and any exception that happen during thetransform in `preprocessing_exc_tuple` in IPython 7.17 and above.\n",
      "  and should_run_async(code)\n"
     ]
    },
    {
     "data": {
      "text/html": [
       "<div>\n",
       "<style scoped>\n",
       "    .dataframe tbody tr th:only-of-type {\n",
       "        vertical-align: middle;\n",
       "    }\n",
       "\n",
       "    .dataframe tbody tr th {\n",
       "        vertical-align: top;\n",
       "    }\n",
       "\n",
       "    .dataframe thead th {\n",
       "        text-align: right;\n",
       "    }\n",
       "</style>\n",
       "<table border=\"1\" class=\"dataframe\">\n",
       "  <thead>\n",
       "    <tr style=\"text-align: right;\">\n",
       "      <th></th>\n",
       "      <th>HenID</th>\n",
       "      <th>level</th>\n",
       "      <th>nbr_stays_1_Zone</th>\n",
       "      <th>in_WG_15mnAfterOpening</th>\n",
       "      <th>Max_duration_WG</th>\n",
       "      <th>duration_1_Zone</th>\n",
       "    </tr>\n",
       "  </thead>\n",
       "  <tbody>\n",
       "    <tr>\n",
       "      <th>0</th>\n",
       "      <td>hen_130</td>\n",
       "      <td>2020-10-04</td>\n",
       "      <td>0.0</td>\n",
       "      <td>False</td>\n",
       "      <td>0.0</td>\n",
       "      <td>0.0</td>\n",
       "    </tr>\n",
       "    <tr>\n",
       "      <th>1</th>\n",
       "      <td>hen_130</td>\n",
       "      <td>2020-10-05</td>\n",
       "      <td>0.0</td>\n",
       "      <td>False</td>\n",
       "      <td>0.0</td>\n",
       "      <td>0.0</td>\n",
       "    </tr>\n",
       "    <tr>\n",
       "      <th>2</th>\n",
       "      <td>hen_130</td>\n",
       "      <td>2020-10-06</td>\n",
       "      <td>0.0</td>\n",
       "      <td>False</td>\n",
       "      <td>0.0</td>\n",
       "      <td>0.0</td>\n",
       "    </tr>\n",
       "  </tbody>\n",
       "</table>\n",
       "</div>"
      ],
      "text/plain": [
       "     HenID      level  nbr_stays_1_Zone in_WG_15mnAfterOpening  \\\n",
       "0  hen_130 2020-10-04               0.0                  False   \n",
       "1  hen_130 2020-10-05               0.0                  False   \n",
       "2  hen_130 2020-10-06               0.0                  False   \n",
       "\n",
       "   Max_duration_WG  duration_1_Zone  \n",
       "0              0.0              0.0  \n",
       "1              0.0              0.0  \n",
       "2              0.0              0.0  "
      ]
     },
     "execution_count": 56,
     "metadata": {},
     "output_type": "execute_result"
    }
   ],
   "source": [
    "li_WG_usage = ['nbr_stays_1_Zone', 'in_WG_15mnAfterOpening', 'Max_duration_WG', 'duration_1_Zone']\n",
    "df_daily[li_2keep+li_WG_usage].head(3)"
   ]
  },
  {
   "cell_type": "code",
   "execution_count": 57,
   "metadata": {},
   "outputs": [
    {
     "name": "stderr",
     "output_type": "stream",
     "text": [
      "C:\\Users\\camil\\anaconda3\\lib\\site-packages\\ipykernel\\ipkernel.py:283: DeprecationWarning: `should_run_async` will not call `transform_cell` automatically in the future. Please pass the result to `transformed_cell` argument and any exception that happen during thetransform in `preprocessing_exc_tuple` in IPython 7.17 and above.\n",
      "  and should_run_async(code)\n"
     ]
    },
    {
     "data": {
      "text/html": [
       "<div>\n",
       "<style scoped>\n",
       "    .dataframe tbody tr th:only-of-type {\n",
       "        vertical-align: middle;\n",
       "    }\n",
       "\n",
       "    .dataframe tbody tr th {\n",
       "        vertical-align: top;\n",
       "    }\n",
       "\n",
       "    .dataframe thead th {\n",
       "        text-align: right;\n",
       "    }\n",
       "</style>\n",
       "<table border=\"1\" class=\"dataframe\">\n",
       "  <thead>\n",
       "    <tr style=\"text-align: right;\">\n",
       "      <th></th>\n",
       "      <th>nbr_stays_1_Zone</th>\n",
       "      <th>in_WG_15mnAfterOpening</th>\n",
       "      <th>Max_duration_WG</th>\n",
       "      <th>duration_1_Zone</th>\n",
       "    </tr>\n",
       "  </thead>\n",
       "  <tbody>\n",
       "    <tr>\n",
       "      <th>0</th>\n",
       "      <td>-0.689486</td>\n",
       "      <td>-0.411895</td>\n",
       "      <td>-0.696114</td>\n",
       "      <td>-0.636191</td>\n",
       "    </tr>\n",
       "    <tr>\n",
       "      <th>1</th>\n",
       "      <td>-0.689486</td>\n",
       "      <td>-0.411895</td>\n",
       "      <td>-0.696114</td>\n",
       "      <td>-0.636191</td>\n",
       "    </tr>\n",
       "    <tr>\n",
       "      <th>2</th>\n",
       "      <td>-0.689486</td>\n",
       "      <td>-0.411895</td>\n",
       "      <td>-0.696114</td>\n",
       "      <td>-0.636191</td>\n",
       "    </tr>\n",
       "  </tbody>\n",
       "</table>\n",
       "</div>"
      ],
      "text/plain": [
       "   nbr_stays_1_Zone  in_WG_15mnAfterOpening  Max_duration_WG  duration_1_Zone\n",
       "0         -0.689486               -0.411895        -0.696114        -0.636191\n",
       "1         -0.689486               -0.411895        -0.696114        -0.636191\n",
       "2         -0.689486               -0.411895        -0.696114        -0.636191"
      ]
     },
     "metadata": {},
     "output_type": "display_data"
    },
    {
     "name": "stdout",
     "output_type": "stream",
     "text": [
      "(3032580, 162) (3021349, 6)\n"
     ]
    },
    {
     "ename": "KeyboardInterrupt",
     "evalue": "",
     "output_type": "error",
     "traceback": [
      "\u001b[1;31m---------------------------------------------------------------------------\u001b[0m",
      "\u001b[1;31mKeyboardInterrupt\u001b[0m                         Traceback (most recent call last)",
      "\u001b[1;32m<ipython-input-57-71c88d39917d>\u001b[0m in \u001b[0;36m<module>\u001b[1;34m\u001b[0m\n\u001b[0;32m      9\u001b[0m \u001b[0mprint\u001b[0m\u001b[1;33m(\u001b[0m\u001b[0mdf_daily\u001b[0m\u001b[1;33m.\u001b[0m\u001b[0mshape\u001b[0m\u001b[1;33m,\u001b[0m \u001b[0mdf_kmeans\u001b[0m\u001b[1;33m.\u001b[0m\u001b[0mshape\u001b[0m\u001b[1;33m)\u001b[0m\u001b[1;33m\u001b[0m\u001b[1;33m\u001b[0m\u001b[0m\n\u001b[0;32m     10\u001b[0m \u001b[0mli_\u001b[0m \u001b[1;33m=\u001b[0m \u001b[0mrange\u001b[0m\u001b[1;33m(\u001b[0m\u001b[1;36m2\u001b[0m\u001b[1;33m,\u001b[0m\u001b[1;36m8\u001b[0m\u001b[1;33m)\u001b[0m\u001b[1;33m\u001b[0m\u001b[1;33m\u001b[0m\u001b[0m\n\u001b[1;32m---> 11\u001b[1;33m \u001b[0mr\u001b[0m\u001b[1;33m,\u001b[0m \u001b[0mcenter_\u001b[0m \u001b[1;33m=\u001b[0m \u001b[0mkmeans_clustering\u001b[0m\u001b[1;33m(\u001b[0m\u001b[0mdf\u001b[0m\u001b[1;33m=\u001b[0m\u001b[0mdf_kmeans\u001b[0m\u001b[1;33m,\u001b[0m \u001b[0mrange_n_clusters\u001b[0m\u001b[1;33m=\u001b[0m\u001b[0mli_\u001b[0m\u001b[1;33m,\u001b[0m \u001b[0mdrop_col_list\u001b[0m\u001b[1;33m=\u001b[0m\u001b[0mli_2keep\u001b[0m\u001b[1;33m)\u001b[0m\u001b[1;33m\u001b[0m\u001b[1;33m\u001b[0m\u001b[0m\n\u001b[0m\u001b[0;32m     12\u001b[0m \u001b[1;32mif\u001b[0m \u001b[0mlen\u001b[0m\u001b[1;33m(\u001b[0m\u001b[0mr\u001b[0m\u001b[1;33m)\u001b[0m\u001b[1;33m!=\u001b[0m\u001b[0mdf_kmeans\u001b[0m\u001b[1;33m.\u001b[0m\u001b[0mshape\u001b[0m\u001b[1;33m[\u001b[0m\u001b[1;36m0\u001b[0m\u001b[1;33m]\u001b[0m\u001b[1;33m:\u001b[0m\u001b[1;33m\u001b[0m\u001b[1;33m\u001b[0m\u001b[0m\n\u001b[0;32m     13\u001b[0m     \u001b[0mprint\u001b[0m\u001b[1;33m(\u001b[0m\u001b[1;34m'ERROR'\u001b[0m\u001b[1;33m)\u001b[0m\u001b[1;33m\u001b[0m\u001b[1;33m\u001b[0m\u001b[0m\n",
      "\u001b[1;32m~\\Desktop\\animals_code\\PhD\\UTILS.py\u001b[0m in \u001b[0;36mkmeans_clustering\u001b[1;34m(df, range_n_clusters, drop_col_list)\u001b[0m\n\u001b[0;32m   2607\u001b[0m         \u001b[1;31m# The silhouette_score gives the average value for all the samples.\u001b[0m\u001b[1;33m\u001b[0m\u001b[1;33m\u001b[0m\u001b[1;33m\u001b[0m\u001b[0m\n\u001b[0;32m   2608\u001b[0m         \u001b[1;31m# This gives a perspective into the density and separation of the formed clusters\u001b[0m\u001b[1;33m\u001b[0m\u001b[1;33m\u001b[0m\u001b[1;33m\u001b[0m\u001b[0m\n\u001b[1;32m-> 2609\u001b[1;33m         \u001b[0msilhouette_avg\u001b[0m \u001b[1;33m=\u001b[0m \u001b[0msilhouette_score\u001b[0m\u001b[1;33m(\u001b[0m\u001b[0mdf\u001b[0m\u001b[1;33m,\u001b[0m \u001b[0mcluster_labels\u001b[0m\u001b[1;33m)\u001b[0m\u001b[1;33m\u001b[0m\u001b[1;33m\u001b[0m\u001b[0m\n\u001b[0m\u001b[0;32m   2610\u001b[0m         print(\"For n_clusters =\", n_clusters,\n\u001b[0;32m   2611\u001b[0m               \"The average silhouette_score is :\", silhouette_avg)   \n",
      "\u001b[1;32m~\\anaconda3\\lib\\site-packages\\sklearn\\utils\\validation.py\u001b[0m in \u001b[0;36minner_f\u001b[1;34m(*args, **kwargs)\u001b[0m\n\u001b[0;32m     70\u001b[0m                           FutureWarning)\n\u001b[0;32m     71\u001b[0m         \u001b[0mkwargs\u001b[0m\u001b[1;33m.\u001b[0m\u001b[0mupdate\u001b[0m\u001b[1;33m(\u001b[0m\u001b[1;33m{\u001b[0m\u001b[0mk\u001b[0m\u001b[1;33m:\u001b[0m \u001b[0marg\u001b[0m \u001b[1;32mfor\u001b[0m \u001b[0mk\u001b[0m\u001b[1;33m,\u001b[0m \u001b[0marg\u001b[0m \u001b[1;32min\u001b[0m \u001b[0mzip\u001b[0m\u001b[1;33m(\u001b[0m\u001b[0msig\u001b[0m\u001b[1;33m.\u001b[0m\u001b[0mparameters\u001b[0m\u001b[1;33m,\u001b[0m \u001b[0margs\u001b[0m\u001b[1;33m)\u001b[0m\u001b[1;33m}\u001b[0m\u001b[1;33m)\u001b[0m\u001b[1;33m\u001b[0m\u001b[1;33m\u001b[0m\u001b[0m\n\u001b[1;32m---> 72\u001b[1;33m         \u001b[1;32mreturn\u001b[0m \u001b[0mf\u001b[0m\u001b[1;33m(\u001b[0m\u001b[1;33m**\u001b[0m\u001b[0mkwargs\u001b[0m\u001b[1;33m)\u001b[0m\u001b[1;33m\u001b[0m\u001b[1;33m\u001b[0m\u001b[0m\n\u001b[0m\u001b[0;32m     73\u001b[0m     \u001b[1;32mreturn\u001b[0m \u001b[0minner_f\u001b[0m\u001b[1;33m\u001b[0m\u001b[1;33m\u001b[0m\u001b[0m\n\u001b[0;32m     74\u001b[0m \u001b[1;33m\u001b[0m\u001b[0m\n",
      "\u001b[1;32m~\\anaconda3\\lib\\site-packages\\sklearn\\metrics\\cluster\\_unsupervised.py\u001b[0m in \u001b[0;36msilhouette_score\u001b[1;34m(X, labels, metric, sample_size, random_state, **kwds)\u001b[0m\n\u001b[0;32m    115\u001b[0m         \u001b[1;32melse\u001b[0m\u001b[1;33m:\u001b[0m\u001b[1;33m\u001b[0m\u001b[1;33m\u001b[0m\u001b[0m\n\u001b[0;32m    116\u001b[0m             \u001b[0mX\u001b[0m\u001b[1;33m,\u001b[0m \u001b[0mlabels\u001b[0m \u001b[1;33m=\u001b[0m \u001b[0mX\u001b[0m\u001b[1;33m[\u001b[0m\u001b[0mindices\u001b[0m\u001b[1;33m]\u001b[0m\u001b[1;33m,\u001b[0m \u001b[0mlabels\u001b[0m\u001b[1;33m[\u001b[0m\u001b[0mindices\u001b[0m\u001b[1;33m]\u001b[0m\u001b[1;33m\u001b[0m\u001b[1;33m\u001b[0m\u001b[0m\n\u001b[1;32m--> 117\u001b[1;33m     \u001b[1;32mreturn\u001b[0m \u001b[0mnp\u001b[0m\u001b[1;33m.\u001b[0m\u001b[0mmean\u001b[0m\u001b[1;33m(\u001b[0m\u001b[0msilhouette_samples\u001b[0m\u001b[1;33m(\u001b[0m\u001b[0mX\u001b[0m\u001b[1;33m,\u001b[0m \u001b[0mlabels\u001b[0m\u001b[1;33m,\u001b[0m \u001b[0mmetric\u001b[0m\u001b[1;33m=\u001b[0m\u001b[0mmetric\u001b[0m\u001b[1;33m,\u001b[0m \u001b[1;33m**\u001b[0m\u001b[0mkwds\u001b[0m\u001b[1;33m)\u001b[0m\u001b[1;33m)\u001b[0m\u001b[1;33m\u001b[0m\u001b[1;33m\u001b[0m\u001b[0m\n\u001b[0m\u001b[0;32m    118\u001b[0m \u001b[1;33m\u001b[0m\u001b[0m\n\u001b[0;32m    119\u001b[0m \u001b[1;33m\u001b[0m\u001b[0m\n",
      "\u001b[1;32m~\\anaconda3\\lib\\site-packages\\sklearn\\utils\\validation.py\u001b[0m in \u001b[0;36minner_f\u001b[1;34m(*args, **kwargs)\u001b[0m\n\u001b[0;32m     70\u001b[0m                           FutureWarning)\n\u001b[0;32m     71\u001b[0m         \u001b[0mkwargs\u001b[0m\u001b[1;33m.\u001b[0m\u001b[0mupdate\u001b[0m\u001b[1;33m(\u001b[0m\u001b[1;33m{\u001b[0m\u001b[0mk\u001b[0m\u001b[1;33m:\u001b[0m \u001b[0marg\u001b[0m \u001b[1;32mfor\u001b[0m \u001b[0mk\u001b[0m\u001b[1;33m,\u001b[0m \u001b[0marg\u001b[0m \u001b[1;32min\u001b[0m \u001b[0mzip\u001b[0m\u001b[1;33m(\u001b[0m\u001b[0msig\u001b[0m\u001b[1;33m.\u001b[0m\u001b[0mparameters\u001b[0m\u001b[1;33m,\u001b[0m \u001b[0margs\u001b[0m\u001b[1;33m)\u001b[0m\u001b[1;33m}\u001b[0m\u001b[1;33m)\u001b[0m\u001b[1;33m\u001b[0m\u001b[1;33m\u001b[0m\u001b[0m\n\u001b[1;32m---> 72\u001b[1;33m         \u001b[1;32mreturn\u001b[0m \u001b[0mf\u001b[0m\u001b[1;33m(\u001b[0m\u001b[1;33m**\u001b[0m\u001b[0mkwargs\u001b[0m\u001b[1;33m)\u001b[0m\u001b[1;33m\u001b[0m\u001b[1;33m\u001b[0m\u001b[0m\n\u001b[0m\u001b[0;32m     73\u001b[0m     \u001b[1;32mreturn\u001b[0m \u001b[0minner_f\u001b[0m\u001b[1;33m\u001b[0m\u001b[1;33m\u001b[0m\u001b[0m\n\u001b[0;32m     74\u001b[0m \u001b[1;33m\u001b[0m\u001b[0m\n",
      "\u001b[1;32m~\\anaconda3\\lib\\site-packages\\sklearn\\metrics\\cluster\\_unsupervised.py\u001b[0m in \u001b[0;36msilhouette_samples\u001b[1;34m(X, labels, metric, **kwds)\u001b[0m\n\u001b[0;32m    232\u001b[0m     reduce_func = functools.partial(_silhouette_reduce,\n\u001b[0;32m    233\u001b[0m                                     labels=labels, label_freqs=label_freqs)\n\u001b[1;32m--> 234\u001b[1;33m     results = zip(*pairwise_distances_chunked(X, reduce_func=reduce_func,\n\u001b[0m\u001b[0;32m    235\u001b[0m                                               **kwds))\n\u001b[0;32m    236\u001b[0m     \u001b[0mintra_clust_dists\u001b[0m\u001b[1;33m,\u001b[0m \u001b[0minter_clust_dists\u001b[0m \u001b[1;33m=\u001b[0m \u001b[0mresults\u001b[0m\u001b[1;33m\u001b[0m\u001b[1;33m\u001b[0m\u001b[0m\n",
      "\u001b[1;32m~\\anaconda3\\lib\\site-packages\\sklearn\\metrics\\pairwise.py\u001b[0m in \u001b[0;36mpairwise_distances_chunked\u001b[1;34m(X, Y, reduce_func, metric, n_jobs, working_memory, **kwds)\u001b[0m\n\u001b[0;32m   1614\u001b[0m         \u001b[1;32melse\u001b[0m\u001b[1;33m:\u001b[0m\u001b[1;33m\u001b[0m\u001b[1;33m\u001b[0m\u001b[0m\n\u001b[0;32m   1615\u001b[0m             \u001b[0mX_chunk\u001b[0m \u001b[1;33m=\u001b[0m \u001b[0mX\u001b[0m\u001b[1;33m[\u001b[0m\u001b[0msl\u001b[0m\u001b[1;33m]\u001b[0m\u001b[1;33m\u001b[0m\u001b[1;33m\u001b[0m\u001b[0m\n\u001b[1;32m-> 1616\u001b[1;33m         D_chunk = pairwise_distances(X_chunk, Y, metric=metric,\n\u001b[0m\u001b[0;32m   1617\u001b[0m                                      n_jobs=n_jobs, **kwds)\n\u001b[0;32m   1618\u001b[0m         if ((X is Y or Y is None)\n",
      "\u001b[1;32m~\\anaconda3\\lib\\site-packages\\sklearn\\utils\\validation.py\u001b[0m in \u001b[0;36minner_f\u001b[1;34m(*args, **kwargs)\u001b[0m\n\u001b[0;32m     70\u001b[0m                           FutureWarning)\n\u001b[0;32m     71\u001b[0m         \u001b[0mkwargs\u001b[0m\u001b[1;33m.\u001b[0m\u001b[0mupdate\u001b[0m\u001b[1;33m(\u001b[0m\u001b[1;33m{\u001b[0m\u001b[0mk\u001b[0m\u001b[1;33m:\u001b[0m \u001b[0marg\u001b[0m \u001b[1;32mfor\u001b[0m \u001b[0mk\u001b[0m\u001b[1;33m,\u001b[0m \u001b[0marg\u001b[0m \u001b[1;32min\u001b[0m \u001b[0mzip\u001b[0m\u001b[1;33m(\u001b[0m\u001b[0msig\u001b[0m\u001b[1;33m.\u001b[0m\u001b[0mparameters\u001b[0m\u001b[1;33m,\u001b[0m \u001b[0margs\u001b[0m\u001b[1;33m)\u001b[0m\u001b[1;33m}\u001b[0m\u001b[1;33m)\u001b[0m\u001b[1;33m\u001b[0m\u001b[1;33m\u001b[0m\u001b[0m\n\u001b[1;32m---> 72\u001b[1;33m         \u001b[1;32mreturn\u001b[0m \u001b[0mf\u001b[0m\u001b[1;33m(\u001b[0m\u001b[1;33m**\u001b[0m\u001b[0mkwargs\u001b[0m\u001b[1;33m)\u001b[0m\u001b[1;33m\u001b[0m\u001b[1;33m\u001b[0m\u001b[0m\n\u001b[0m\u001b[0;32m     73\u001b[0m     \u001b[1;32mreturn\u001b[0m \u001b[0minner_f\u001b[0m\u001b[1;33m\u001b[0m\u001b[1;33m\u001b[0m\u001b[0m\n\u001b[0;32m     74\u001b[0m \u001b[1;33m\u001b[0m\u001b[0m\n",
      "\u001b[1;32m~\\anaconda3\\lib\\site-packages\\sklearn\\metrics\\pairwise.py\u001b[0m in \u001b[0;36mpairwise_distances\u001b[1;34m(X, Y, metric, n_jobs, force_all_finite, **kwds)\u001b[0m\n\u001b[0;32m   1777\u001b[0m         \u001b[0mfunc\u001b[0m \u001b[1;33m=\u001b[0m \u001b[0mpartial\u001b[0m\u001b[1;33m(\u001b[0m\u001b[0mdistance\u001b[0m\u001b[1;33m.\u001b[0m\u001b[0mcdist\u001b[0m\u001b[1;33m,\u001b[0m \u001b[0mmetric\u001b[0m\u001b[1;33m=\u001b[0m\u001b[0mmetric\u001b[0m\u001b[1;33m,\u001b[0m \u001b[1;33m**\u001b[0m\u001b[0mkwds\u001b[0m\u001b[1;33m)\u001b[0m\u001b[1;33m\u001b[0m\u001b[1;33m\u001b[0m\u001b[0m\n\u001b[0;32m   1778\u001b[0m \u001b[1;33m\u001b[0m\u001b[0m\n\u001b[1;32m-> 1779\u001b[1;33m     \u001b[1;32mreturn\u001b[0m \u001b[0m_parallel_pairwise\u001b[0m\u001b[1;33m(\u001b[0m\u001b[0mX\u001b[0m\u001b[1;33m,\u001b[0m \u001b[0mY\u001b[0m\u001b[1;33m,\u001b[0m \u001b[0mfunc\u001b[0m\u001b[1;33m,\u001b[0m \u001b[0mn_jobs\u001b[0m\u001b[1;33m,\u001b[0m \u001b[1;33m**\u001b[0m\u001b[0mkwds\u001b[0m\u001b[1;33m)\u001b[0m\u001b[1;33m\u001b[0m\u001b[1;33m\u001b[0m\u001b[0m\n\u001b[0m\u001b[0;32m   1780\u001b[0m \u001b[1;33m\u001b[0m\u001b[0m\n\u001b[0;32m   1781\u001b[0m \u001b[1;33m\u001b[0m\u001b[0m\n",
      "\u001b[1;32m~\\anaconda3\\lib\\site-packages\\sklearn\\metrics\\pairwise.py\u001b[0m in \u001b[0;36m_parallel_pairwise\u001b[1;34m(X, Y, func, n_jobs, **kwds)\u001b[0m\n\u001b[0;32m   1358\u001b[0m \u001b[1;33m\u001b[0m\u001b[0m\n\u001b[0;32m   1359\u001b[0m     \u001b[1;32mif\u001b[0m \u001b[0meffective_n_jobs\u001b[0m\u001b[1;33m(\u001b[0m\u001b[0mn_jobs\u001b[0m\u001b[1;33m)\u001b[0m \u001b[1;33m==\u001b[0m \u001b[1;36m1\u001b[0m\u001b[1;33m:\u001b[0m\u001b[1;33m\u001b[0m\u001b[1;33m\u001b[0m\u001b[0m\n\u001b[1;32m-> 1360\u001b[1;33m         \u001b[1;32mreturn\u001b[0m \u001b[0mfunc\u001b[0m\u001b[1;33m(\u001b[0m\u001b[0mX\u001b[0m\u001b[1;33m,\u001b[0m \u001b[0mY\u001b[0m\u001b[1;33m,\u001b[0m \u001b[1;33m**\u001b[0m\u001b[0mkwds\u001b[0m\u001b[1;33m)\u001b[0m\u001b[1;33m\u001b[0m\u001b[1;33m\u001b[0m\u001b[0m\n\u001b[0m\u001b[0;32m   1361\u001b[0m \u001b[1;33m\u001b[0m\u001b[0m\n\u001b[0;32m   1362\u001b[0m     \u001b[1;31m# enforce a threading backend to prevent data communication overhead\u001b[0m\u001b[1;33m\u001b[0m\u001b[1;33m\u001b[0m\u001b[1;33m\u001b[0m\u001b[0m\n",
      "\u001b[1;32m~\\anaconda3\\lib\\site-packages\\sklearn\\utils\\validation.py\u001b[0m in \u001b[0;36minner_f\u001b[1;34m(*args, **kwargs)\u001b[0m\n\u001b[0;32m     70\u001b[0m                           FutureWarning)\n\u001b[0;32m     71\u001b[0m         \u001b[0mkwargs\u001b[0m\u001b[1;33m.\u001b[0m\u001b[0mupdate\u001b[0m\u001b[1;33m(\u001b[0m\u001b[1;33m{\u001b[0m\u001b[0mk\u001b[0m\u001b[1;33m:\u001b[0m \u001b[0marg\u001b[0m \u001b[1;32mfor\u001b[0m \u001b[0mk\u001b[0m\u001b[1;33m,\u001b[0m \u001b[0marg\u001b[0m \u001b[1;32min\u001b[0m \u001b[0mzip\u001b[0m\u001b[1;33m(\u001b[0m\u001b[0msig\u001b[0m\u001b[1;33m.\u001b[0m\u001b[0mparameters\u001b[0m\u001b[1;33m,\u001b[0m \u001b[0margs\u001b[0m\u001b[1;33m)\u001b[0m\u001b[1;33m}\u001b[0m\u001b[1;33m)\u001b[0m\u001b[1;33m\u001b[0m\u001b[1;33m\u001b[0m\u001b[0m\n\u001b[1;32m---> 72\u001b[1;33m         \u001b[1;32mreturn\u001b[0m \u001b[0mf\u001b[0m\u001b[1;33m(\u001b[0m\u001b[1;33m**\u001b[0m\u001b[0mkwargs\u001b[0m\u001b[1;33m)\u001b[0m\u001b[1;33m\u001b[0m\u001b[1;33m\u001b[0m\u001b[0m\n\u001b[0m\u001b[0;32m     73\u001b[0m     \u001b[1;32mreturn\u001b[0m \u001b[0minner_f\u001b[0m\u001b[1;33m\u001b[0m\u001b[1;33m\u001b[0m\u001b[0m\n\u001b[0;32m     74\u001b[0m \u001b[1;33m\u001b[0m\u001b[0m\n",
      "\u001b[1;32m~\\anaconda3\\lib\\site-packages\\sklearn\\metrics\\pairwise.py\u001b[0m in \u001b[0;36meuclidean_distances\u001b[1;34m(X, Y, Y_norm_squared, squared, X_norm_squared)\u001b[0m\n\u001b[0;32m    318\u001b[0m         \u001b[0mnp\u001b[0m\u001b[1;33m.\u001b[0m\u001b[0mfill_diagonal\u001b[0m\u001b[1;33m(\u001b[0m\u001b[0mdistances\u001b[0m\u001b[1;33m,\u001b[0m \u001b[1;36m0\u001b[0m\u001b[1;33m)\u001b[0m\u001b[1;33m\u001b[0m\u001b[1;33m\u001b[0m\u001b[0m\n\u001b[0;32m    319\u001b[0m \u001b[1;33m\u001b[0m\u001b[0m\n\u001b[1;32m--> 320\u001b[1;33m     \u001b[1;32mreturn\u001b[0m \u001b[0mdistances\u001b[0m \u001b[1;32mif\u001b[0m \u001b[0msquared\u001b[0m \u001b[1;32melse\u001b[0m \u001b[0mnp\u001b[0m\u001b[1;33m.\u001b[0m\u001b[0msqrt\u001b[0m\u001b[1;33m(\u001b[0m\u001b[0mdistances\u001b[0m\u001b[1;33m,\u001b[0m \u001b[0mout\u001b[0m\u001b[1;33m=\u001b[0m\u001b[0mdistances\u001b[0m\u001b[1;33m)\u001b[0m\u001b[1;33m\u001b[0m\u001b[1;33m\u001b[0m\u001b[0m\n\u001b[0m\u001b[0;32m    321\u001b[0m \u001b[1;33m\u001b[0m\u001b[0m\n\u001b[0;32m    322\u001b[0m \u001b[1;33m\u001b[0m\u001b[0m\n",
      "\u001b[1;31mKeyboardInterrupt\u001b[0m: "
     ]
    }
   ],
   "source": [
    "df_ = df_daily[li_WG_usage+li_2keep].dropna(how='any').copy()\n",
    "\n",
    "#scaling data\n",
    "df_kmeans = df_.copy()\n",
    "sc = StandardScaler()\n",
    "df_kmeans[li_WG_usage] = sc.fit_transform(df_kmeans[li_WG_usage])\n",
    "display(df_kmeans[li_WG_usage].head(3))\n",
    "\n",
    "print(df_daily.shape, df_kmeans.shape)\n",
    "li_ = range(2,8)\n",
    "r, center_ = kmeans_clustering(df=df_kmeans, range_n_clusters=li_, drop_col_list=li_2keep)\n",
    "if len(r)!=df_kmeans.shape[0]:\n",
    "    print('ERROR')\n",
    "    sys.exit()\n",
    "df_['clustering_WG'] = r\n",
    "display(df_[li_2keep+li_WG_usage+['clustering_WG']].head(3))\n",
    "print(df_daily.shape)\n",
    "df_daily = pd.merge(df_daily, df_[li_2keep+['clustering_WG']], on=['HenID','level'], how='left')\n",
    "print(df_daily.shape)"
   ]
  },
  {
   "cell_type": "code",
   "execution_count": null,
   "metadata": {},
   "outputs": [],
   "source": [
    "#### one table with mean for each variable within each clusters\n",
    "li_df = []\n",
    "for k in df_['clustering_WG'].unique():\n",
    "    df0 = df_[df_['clustering_WG']==k][li_WG_usage]\n",
    "    li_df.append(df0.mean())\n",
    "df_m = pd.concat(li_df,axis=1)\n",
    "df_m.to_csv(os.path.join(path_cluster, 'WinterGarten_clusters_properties.csv'))\n",
    "print(df_m.shape)\n",
    "df_m.head(3)"
   ]
  },
  {
   "cell_type": "code",
   "execution_count": null,
   "metadata": {},
   "outputs": [],
   "source": [
    "#### plot boxplot for each x variable in each cluster (given by the 'cluster_name' column from df)\n",
    "for x in li_WG_usage:\n",
    "    df_plt = pd.melt(df_, id_vars=['clustering_WG','HenID','level'], value_vars=x).reset_index(drop=True)\n",
    "    ax = sns.boxplot(x=\"variable\", y=\"value\", hue=\"clustering_WG\",data=df_plt, palette=\"Set3\")\n",
    "    plt.savefig(os.path.join(path_cluster,'WinterGarten_'+x+'.png'), bbox_inches='tight')\n",
    "    plt.show();"
   ]
  },
  {
   "cell_type": "markdown",
   "metadata": {},
   "source": [
    "### clustering accelerometer"
   ]
  },
  {
   "cell_type": "markdown",
   "metadata": {},
   "source": [
    "li_accelerometer = ['MovementCounter_median', 'MovementCounter_max', 'MovementCounter_sum',\n",
    "                    'temperature_max', 'temperature_median']\n",
    "df_daily[['HenID','level']+li_accelerometer].head(3)"
   ]
  },
  {
   "cell_type": "markdown",
   "metadata": {},
   "source": [
    "df_ = df_daily[li_accelerometer+li_2keep].dropna(how='any')\n",
    "print(df_daily.shape, df_.shape)\n",
    "li_ = range(2,8)\n",
    "r, center_ = kmeans_clustering(df=df_, range_n_clusters=li_, drop_col_list=li_2keep)\n",
    "df_['clustering_coeff'] = r\n",
    "df_.head(3)"
   ]
  },
  {
   "cell_type": "markdown",
   "metadata": {},
   "source": [
    "# Clustering all"
   ]
  },
  {
   "cell_type": "code",
   "execution_count": null,
   "metadata": {},
   "outputs": [],
   "source": [
    "li_all = li_general_activity+li_WG_usage #to much nan for now: li_nestbox_usage\n",
    "df_daily[li_2keep+li_all].head(3)"
   ]
  },
  {
   "cell_type": "code",
   "execution_count": null,
   "metadata": {},
   "outputs": [],
   "source": [
    "df_ = df_daily[li_all+li_2keep].dropna(how='any').copy()\n",
    "df_pca = df_.copy()\n",
    "print(df_daily.shape, df_pca.shape)\n",
    "\n",
    "#scaling numerical data: necessary due to duration high values\n",
    "sc = StandardScaler()\n",
    "df_pca[li_all] = sc.fit_transform(df_pca[li_all])\n",
    "display(df_pca[li_all].head(3))\n",
    "\n",
    "#fix random seed in order to have always the same plots \n",
    "np.random.seed(0)\n",
    "\n",
    "######### PCA\n",
    "#initialise model\n",
    "X = df_pca[li_all].values\n",
    "pca = decomposition.PCA(n_components=8, svd_solver='full') #arpack #len(li_all)-1\n",
    "#fit model to data\n",
    "pca.fit(X)\n",
    "#Apply dimensionality reduction to X.\n",
    "X = pca.transform(X)\n",
    "print(X.shape)"
   ]
  },
  {
   "cell_type": "code",
   "execution_count": null,
   "metadata": {},
   "outputs": [],
   "source": [
    "#add each princiapl component to the initial (i.e. without scaling) dataframe\n",
    "df_comp = pd.DataFrame(X)\n",
    "print(df_.shape, df_comp.shape)\n",
    "li_pca = []\n",
    "for i in range(0, pca.n_components_):\n",
    "    df_['PC'+str(i)] = df_comp[i].tolist()\n",
    "    li_pca.append('PC'+str(i))\n",
    "df_.head(3)"
   ]
  },
  {
   "cell_type": "code",
   "execution_count": null,
   "metadata": {},
   "outputs": [],
   "source": [
    "#plot\n",
    "fig = plt.figure(1, figsize=(8, 6))\n",
    "ax = Axes3D(fig, rect=[0, 0, .95, 1], elev=48, azim=134)\n",
    "ax.scatter(X[:, 0], X[:, 1], X[:, 2],s=50)\n",
    "plt.show();\n",
    "\n",
    "#Cumulative Variance explains\n",
    "fig = plt.figure(1, figsize=(3, 3))\n",
    "var = pca.explained_variance_ratio_\n",
    "var1 = np.cumsum(np.round(var, decimals=4)*100)\n",
    "plt.plot(var1)\n",
    "plt.show();"
   ]
  },
  {
   "cell_type": "code",
   "execution_count": null,
   "metadata": {},
   "outputs": [],
   "source": [
    "li_ = range(2,8)\n",
    "r, center_ = kmeans_clustering(df=df_[li_pca+li_2keep], range_n_clusters=li_, drop_col_list=li_2keep)\n",
    "df_['clustering_ALL'] = r\n",
    "display(df_[li_2keep+li_pca+['clustering_ALL']].head(3))\n",
    "print(df_daily.shape)\n",
    "df_daily = pd.merge(df_daily, df_[li_2keep+li_pca+['clustering_ALL']], on=['HenID','level'], how='left')\n",
    "print(df_daily.shape)"
   ]
  },
  {
   "cell_type": "code",
   "execution_count": null,
   "metadata": {},
   "outputs": [],
   "source": [
    "#### one table with mean for each variable within each clusters\n",
    "li_df = []\n",
    "for k in df_['clustering_ALL'].unique():\n",
    "    df0 = df_[df_['clustering_ALL']==k][li_all+li_pca]\n",
    "    li_df.append(df0.mean())\n",
    "df_m = pd.concat(li_df,axis=1)\n",
    "df_m.to_csv(os.path.join(path_cluster, 'AllVariable_clusters_properties.csv'))\n",
    "print(df_m.shape)\n",
    "df_m.head(3)"
   ]
  },
  {
   "cell_type": "code",
   "execution_count": null,
   "metadata": {},
   "outputs": [],
   "source": [
    "#plot with pca component in 3D, to have a visual on how well is the clustering working\n",
    "df_plt = df_.copy()\n",
    "df_plt['clustering_ALL'] = df_plt['clustering_ALL'].map({0:'r',1:'g',2:'black',3:'blue',4:'y',5:'lightgreen',6:'grey',\n",
    "                                                       7:'indianred',8:'chocolate',9:'chartreuse',10:'deepping'})\n",
    "fig = plt.figure(1, figsize=(8, 6))\n",
    "plt.clf()\n",
    "ax = Axes3D(fig, rect=[0, 0, .95, 1], elev=30, azim=130) #change number to change point's places on the figure\n",
    "plt.gca().patch.set_facecolor('black')\n",
    "ax.scatter(df_['PC0'], df_['PC1'], df_['PC2'], s=50, c=df_['clustering_ALL'].tolist())\n",
    "ax.w_xaxis.set_ticklabels([])\n",
    "ax.w_yaxis.set_ticklabels([])\n",
    "ax.w_zaxis.set_ticklabels([])\n",
    "plt.show()"
   ]
  },
  {
   "cell_type": "code",
   "execution_count": null,
   "metadata": {},
   "outputs": [],
   "source": [
    "#### plot boxplot for each x variable in each cluster (given by the 'cluster_name' column from df)\n",
    "nbr = 0\n",
    "for li_ in li_gali:\n",
    "    #display(df_[['clustering_coeff','HenID','level']+li_gali[0]].head(3))\n",
    "    df_plt = pd.melt(df_, id_vars=['clustering_ALL','HenID','level'], value_vars=li_).reset_index(drop=True)\n",
    "    #print(df_plt.shape)\n",
    "    #display(df_plt.head(3))\n",
    "    ax = sns.boxplot(x=\"variable\", y=\"value\", hue=\"clustering_ALL\",data=df_plt, palette=\"Set3\")\n",
    "    ax.set_xticklabels(ax.xaxis.get_majorticklabels(), rotation=60)\n",
    "    plt.savefig(os.path.join(path_cluster,'NestBox_'+str(nbr)+'.png'), bbox_inches='tight')\n",
    "    nbr = nbr+1\n",
    "    plt.show();\n",
    "for x in li_general_activity:\n",
    "    if not any([any([x in li]) for li in li_gali]):\n",
    "        df_plt = pd.melt(df_, id_vars=['clustering_ALL','HenID','level'], value_vars=x).reset_index(drop=True)\n",
    "        #display(df_plt.head(3))\n",
    "        ax = sns.boxplot(x=\"variable\", y=\"value\", hue=\"clustering_ALL\",data=df_plt, palette=\"Set3\")\n",
    "        plt.savefig(os.path.join(path_cluster,'AllVariables_'+x.replace('/','')+'.png'), bbox_inches='tight')\n",
    "        plt.show();"
   ]
  },
  {
   "cell_type": "markdown",
   "metadata": {},
   "source": [
    "#ONCE WE HAVE NESTBOX\n",
    "#plot boxplot for each x variable in each cluster (given by the 'cluster_name' column from df)\n",
    "for li_ in li_nb:\n",
    "    #display(df_[['clustering_coeff','HenID','level']+li_gali[0]].head(3))\n",
    "    df_plt = pd.melt(df_, id_vars=['clustering_coeff','HenID','level'], value_vars=li_).reset_index(drop=True)\n",
    "    #print(df_plt.shape)\n",
    "    #display(df_plt.head(3))\n",
    "    ax = sns.boxplot(x=\"variable\", y=\"value\", hue=\"clustering_coeff\",data=df_plt, palette=\"Set3\")\n",
    "    ax.set_xticklabels(ax.xaxis.get_majorticklabels(), rotation=60)\n",
    "    plt.show();\n",
    "for x in li_nestbox_usage:\n",
    "    if not any([any([x in li]) for li in li_nb]):\n",
    "        df_plt = pd.melt(df_, id_vars=['clustering_coeff','HenID','level'], value_vars=x).reset_index(drop=True)\n",
    "        #display(df_plt.head(3))\n",
    "        ax = sns.boxplot(x=\"variable\", y=\"value\", hue=\"clustering_coeff\",data=df_plt, palette=\"Set3\")\n",
    "        plt.show();"
   ]
  },
  {
   "cell_type": "code",
   "execution_count": null,
   "metadata": {
    "scrolled": false
   },
   "outputs": [],
   "source": [
    "#### plot boxplot for each x variable in each cluster (given by the 'cluster_name' column from df)\n",
    "for x in li_WG_usage:\n",
    "    df_plt = pd.melt(df_, id_vars=['clustering_ALL','HenID','level'], value_vars=x).reset_index(drop=True)\n",
    "    ax = sns.boxplot(x=\"variable\", y=\"value\", hue=\"clustering_ALL\",data=df_plt, palette=\"Set3\")\n",
    "    plt.savefig(os.path.join(path_cluster,'AllVariables_'+x+'.png'), bbox_inches='tight')\n",
    "    plt.show();"
   ]
  },
  {
   "cell_type": "markdown",
   "metadata": {},
   "source": [
    "# Save variables"
   ]
  },
  {
   "cell_type": "code",
   "execution_count": null,
   "metadata": {},
   "outputs": [],
   "source": [
    "df_daily.to_csv(os.path.join(path_extracted_data, 'daily_ALL_Variable_Tranformed.csv'))"
   ]
  },
  {
   "cell_type": "markdown",
   "metadata": {},
   "source": [
    "# Clustering Visuals"
   ]
  },
  {
   "cell_type": "raw",
   "metadata": {},
   "source": [
    "TODO: \n",
    "control variables values, and 0 when needed\n",
    "Visual 1: x = day of age, y_i = % of birds that have same cluster ID as i day(s) before\n",
    "Visual 2: x = days of age, y = %of birds within each cluster\n",
    "Association between health and clusters ID: One-way anova to compare the means across all groups of different health indicator (if assumptions are not satisfied then use Welch_Aspin)\n",
    "Association between the different clusters with Cochran’s Q test (not Chi-square Test as paired data)"
   ]
  },
  {
   "cell_type": "code",
   "execution_count": null,
   "metadata": {},
   "outputs": [],
   "source": [
    "li_cl = ['clustering_WG', 'clustering_general_activity', 'clustering_nestbox', 'clustering_ALL']\n",
    "for cl_var in li_cl:\n",
    "\n",
    "    ############ stacked barplot\n",
    "    df_plot = df_daily[~df_daily[cl_var].isnull()].sort_values('DOA', ascending=True).copy()\n",
    "    df_plot = df_plot.groupby([cl_var,'DOA']).size().reset_index()\n",
    "    #display(df_plot.head(3))\n",
    "    df_plot = df_plot.pivot(columns=cl_var, index='DOA', values=0).reset_index()\n",
    "    #display(df_plot.head(3))\n",
    "    df_plot = df_plot.set_index('DOA')\n",
    "    df_plot.fillna(0,inplace=True)\n",
    "    #display(df_plot.head(3))\n",
    "    df_plot_normalized = df_plot.div(df_plot.sum(axis=1)/100, axis=0)\n",
    "    #display(df_plot_normalized.head(3))\n",
    "    #df_plot.plot(kind='bar',stacked=True);\n",
    "    df_plot_normalized.plot(kind='bar',stacked=True);\n",
    "    plt.title(cl_var)\n",
    "    plt.savefig(os.path.join(path_cluster,cl_var+'_ClusterRepartition.png'), bbox_inches='tight')\n",
    "    plt.show()\n",
    "    \n",
    "    ############ plot overall consistency: % hens taht have the same cluster that week as the week before\n",
    "    df_plot = df_daily[~df_daily[cl_var].isnull()].sort_values('DOA', ascending=True).copy()\n",
    "    df_plot = df_plot.groupby(['WOA','HenID'])[cl_var].agg(lambda x: list(x)).reset_index()\n",
    "    df_plot['main_cluster'] = df_plot[cl_var].map(lambda x: max(Counter(x).items(), key=operator.itemgetter(1))[0])\n",
    "    df_plot['last_week_main_cluster'] = df_plot.apply(lambda x: df_plot[(df_plot['HenID']==x['HenID']) & \\\n",
    "                                                                      (df_plot['WOA']==x['WOA']-1)]['main_cluster'].values, axis=1)\n",
    "    df_plot['last_week_main_cluster'] = df_plot['last_week_main_cluster'].map(lambda x: x[0] if len(x)>0 else np.nan)\n",
    "    df_plot['is_same_as_last_week'] = df_plot.apply(lambda x: int(x['last_week_main_cluster']==x['main_cluster']), axis=1)\n",
    "    #TODO BEFORE SAVING: add rules when there is two main cluster!! i.e. by cecking more/less days)\n",
    "    #remove the frist week of age (i.w. WOA=17)\n",
    "    df_plot = df_plot[df_plot['WOA']!=min(df_plot['WOA'].unique())]\n",
    "    #display(df_plot.head(2))\n",
    "    #display(df_plot.tail(2))\n",
    "    df_plot = df_plot.groupby(['WOA','is_same_as_last_week']).size().reset_index()\n",
    "    #display(df_plot.head(3))\n",
    "    df_plot = df_plot.pivot(columns='is_same_as_last_week', index='WOA', values=0).reset_index()\n",
    "    df_plot = df_plot.set_index('WOA')\n",
    "    #display(df_plot.head(3))\n",
    "    df_plot_normalized = df_plot.div(df_plot.sum(axis=1)/100, axis=0)\n",
    "    #display(df_plot_normalized.head(3))\n",
    "    #df_plot.plot(kind='bar',stacked=True);\n",
    "    df_plot_normalized.plot(kind='bar',stacked=True);\n",
    "    plt.title(cl_var)\n",
    "    plt.savefig(os.path.join(path_cluster,cl_var+'_OverallConsistency.png'), bbox_inches='tight')\n",
    "    plt.show();\n",
    "     \n",
    "    ############ plot per chicken:heatmap with x=DOA; y= HenID, value/color=clusterID\n",
    "    df_daily = df_daily.sort_values('DOA', ascending=True)\n",
    "    df_plt = df_daily[['HenID','DOA',cl_var]].pivot(index='HenID', columns='DOA', values=cl_var)\n",
    "    y = df_plt.index\n",
    "    df_plt = df_plt.reset_index(drop=True)\n",
    "    #display(df_plt.head(3))\n",
    "    M = df_plt.to_numpy()\n",
    "    #print(M.shape)\n",
    "    plt.figure(figsize=(10,10))\n",
    "    sns.heatmap(M, xticklabels=df_plt.columns, yticklabels=y, cmap=\"YlGnBu\")\n",
    "    plt.title(cl_var)\n",
    "    plt.savefig(os.path.join(path_cluster,cl_var+'_HensConsistency.png'), bbox_inches='tight')\n",
    "    plt.show();"
   ]
  },
  {
   "cell_type": "code",
   "execution_count": null,
   "metadata": {},
   "outputs": [],
   "source": []
  },
  {
   "cell_type": "code",
   "execution_count": null,
   "metadata": {},
   "outputs": [],
   "source": []
  },
  {
   "cell_type": "code",
   "execution_count": null,
   "metadata": {},
   "outputs": [],
   "source": []
  },
  {
   "cell_type": "code",
   "execution_count": null,
   "metadata": {},
   "outputs": [],
   "source": []
  },
  {
   "cell_type": "code",
   "execution_count": null,
   "metadata": {},
   "outputs": [],
   "source": []
  },
  {
   "cell_type": "code",
   "execution_count": null,
   "metadata": {},
   "outputs": [],
   "source": []
  },
  {
   "cell_type": "code",
   "execution_count": null,
   "metadata": {},
   "outputs": [],
   "source": []
  },
  {
   "cell_type": "code",
   "execution_count": null,
   "metadata": {},
   "outputs": [],
   "source": []
  },
  {
   "cell_type": "code",
   "execution_count": null,
   "metadata": {},
   "outputs": [],
   "source": []
  },
  {
   "cell_type": "code",
   "execution_count": null,
   "metadata": {},
   "outputs": [],
   "source": []
  },
  {
   "cell_type": "code",
   "execution_count": null,
   "metadata": {},
   "outputs": [],
   "source": []
  },
  {
   "cell_type": "code",
   "execution_count": null,
   "metadata": {},
   "outputs": [],
   "source": []
  },
  {
   "cell_type": "code",
   "execution_count": null,
   "metadata": {},
   "outputs": [],
   "source": []
  },
  {
   "cell_type": "code",
   "execution_count": null,
   "metadata": {},
   "outputs": [],
   "source": []
  },
  {
   "cell_type": "code",
   "execution_count": null,
   "metadata": {},
   "outputs": [],
   "source": []
  },
  {
   "cell_type": "code",
   "execution_count": null,
   "metadata": {},
   "outputs": [],
   "source": []
  }
 ],
 "metadata": {
  "kernelspec": {
   "display_name": "Python 3",
   "language": "python",
   "name": "python3"
  },
  "language_info": {
   "codemirror_mode": {
    "name": "ipython",
    "version": 3
   },
   "file_extension": ".py",
   "mimetype": "text/x-python",
   "name": "python",
   "nbconvert_exporter": "python",
   "pygments_lexer": "ipython3",
   "version": "3.8.5"
  }
 },
 "nbformat": 4,
 "nbformat_minor": 2
}
