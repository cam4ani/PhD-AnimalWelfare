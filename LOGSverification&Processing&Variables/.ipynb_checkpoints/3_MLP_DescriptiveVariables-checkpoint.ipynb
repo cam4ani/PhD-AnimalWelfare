{
 "cells": [
  {
   "cell_type": "code",
   "execution_count": 1,
   "metadata": {},
   "outputs": [],
   "source": [
    "#basic package\n",
    "import tqdm\n",
    "import os\n",
    "import numpy as np\n",
    "import glob\n",
    "import pandas as pd\n",
    "import sys\n",
    "import time\n",
    "import datetime as dt\n",
    "import itertools\n",
    "import re\n",
    "import math\n",
    "from collections import Counter\n",
    "import operator\n",
    "\n",
    "#plot\n",
    "import matplotlib.pyplot as plt\n",
    "import seaborn as sns"
   ]
  },
  {
   "cell_type": "markdown",
   "metadata": {},
   "source": [
    "!pip install --upgrade scipy"
   ]
  },
  {
   "cell_type": "code",
   "execution_count": 2,
   "metadata": {},
   "outputs": [
    {
     "name": "stderr",
     "output_type": "stream",
     "text": [
      "C:\\Users\\camil\\anaconda3\\lib\\site-packages\\scipy\\sparse\\sparsetools.py:21: DeprecationWarning: `scipy.sparse.sparsetools` is deprecated!\n",
      "scipy.sparse.sparsetools is a private module for scipy.sparse, and should not be used.\n",
      "  _deprecated()\n"
     ]
    },
    {
     "name": "stdout",
     "output_type": "stream",
     "text": [
      "2\n"
     ]
    }
   ],
   "source": [
    "PACKAGE_PARENT = '../'\n",
    "SCRIPT_DIR = os.path.dirname(os.path.realpath(os.path.join(os.getcwd(), os.path.expanduser('__file__'))))\n",
    "sys.path.append(os.path.normpath(os.path.join(SCRIPT_DIR, PACKAGE_PARENT)))\n",
    "from UTILS import preprocessing_Origins,is_day,HenDailyVariable_Origins_simplest, is_WG_open\n",
    "import config_origins as config"
   ]
  },
  {
   "cell_type": "markdown",
   "metadata": {},
   "source": [
    "from scipy.stats import entropy\n",
    "#less even possible\n",
    "li = ['1_Zone','1_Zone','1_Zone','1_Zone','1_Zone','1_Zone','1_Zone']\n",
    "x = li\n",
    "print(entropy(list(Counter(list(x)).values()),base=2))\n",
    "#most even possible\n",
    "li = ['1_Zone',\n",
    "      '2_Zone'\n",
    "      '3_Zone',\n",
    "      '4_Zone',\n",
    "      '5_Zone']\n",
    "x = li\n",
    "print(entropy(list(Counter(list(x)).values()),base=2))\n",
    "li = ['1_Zone',\n",
    "      '3_Zone',\n",
    "      '4_Zone']\n",
    "x = li\n",
    "print(entropy(list(Counter(list(x)).values()),base=2))\n",
    "li = ['1_Zone','1_Zone','1_Zone','1_Zone','1_Zone','1_Zone',\n",
    "      '3_Zone',\n",
    "      '4_Zone','4_Zone','4_Zone','4_Zone','4_Zone','4_Zone']\n",
    "x = li\n",
    "print(entropy(list(Counter(list(x)).values()),base=2))\n",
    "li = ['1_Zone','1_Zone','1_Zone','1_Zone',\n",
    "      '4_Zone','4_Zone','4_Zone','4_Zone',\n",
    "      '1_Zone','1_Zone',\n",
    "      '4_Zone','4_Zone','4_Zone','4_Zone']\n",
    "x = li\n",
    "print(entropy(list(Counter(list(x)).values()),base=2))\n",
    "li = ['1_Zone',\n",
    "      '4_Zone']\n",
    "x = li"
   ]
  },
  {
   "cell_type": "markdown",
   "metadata": {},
   "source": [
    "# Define parameters"
   ]
  },
  {
   "cell_type": "code",
   "execution_count": 3,
   "metadata": {
    "scrolled": true
   },
   "outputs": [
    {
     "name": "stdout",
     "output_type": "stream",
     "text": [
      "change the configuration file if not done yet!\n",
      "ALLDATA_\n"
     ]
    }
   ],
   "source": [
    "print('change the configuration file if not done yet!')\n",
    "path_extracted_data = config.path_extracted_data\n",
    "path_initial_data = config.path_initial_data\n",
    "id_run = config.id_run\n",
    "dico_matching = config.dico_matching\n",
    "print(id_run)\n",
    "path_extracted_data_visual = os.path.join(path_extracted_data,'visual')\n",
    "#create a director if not existing\n",
    "if not os.path.exists(path_extracted_data_visual):\n",
    "    os.makedirs(path_extracted_data_visual)"
   ]
  },
  {
   "cell_type": "code",
   "execution_count": 4,
   "metadata": {},
   "outputs": [
    {
     "data": {
      "text/plain": [
       "'G:\\\\VPHI\\\\Welfare\\\\2- Research Projects\\\\OFHE2.OriginsE2\\\\DataOutput\\\\TrackingSystem\\\\ALLDATA_'"
      ]
     },
     "execution_count": 4,
     "metadata": {},
     "output_type": "execute_result"
    }
   ],
   "source": [
    "path_extracted_data"
   ]
  },
  {
   "cell_type": "markdown",
   "metadata": {},
   "source": [
    "li_FR = [0,0,0,0,0,0,0,0,1,1,1,1,1,1,1,1,0,0,0,0,0,0]\n",
    "print(len(li_FR))\n",
    "fake_sec = -2\n",
    "if fake_sec>0:\n",
    "    li_FR =  list([0] * fake_sec)+li_FR[:-fake_sec]  \n",
    "if fake_sec<0:\n",
    "    li_FR =  li_FR[abs(fake_sec):] + list([0] * fake_sec)\n",
    "\n",
    "print(len(li_FR))\n",
    "li_FR"
   ]
  },
  {
   "cell_type": "markdown",
   "metadata": {},
   "source": [
    "# Open records"
   ]
  },
  {
   "cell_type": "code",
   "execution_count": 5,
   "metadata": {},
   "outputs": [],
   "source": [
    "#WARNING: we do it at seconds level, so the miliseconds from the general cleaning is not used!! "
   ]
  },
  {
   "cell_type": "code",
   "execution_count": 6,
   "metadata": {},
   "outputs": [
    {
     "name": "stdout",
     "output_type": "stream",
     "text": [
      "(2681720, 18)\n"
     ]
    },
    {
     "data": {
      "text/html": [
       "<div>\n",
       "<style scoped>\n",
       "    .dataframe tbody tr th:only-of-type {\n",
       "        vertical-align: middle;\n",
       "    }\n",
       "\n",
       "    .dataframe tbody tr th {\n",
       "        vertical-align: top;\n",
       "    }\n",
       "\n",
       "    .dataframe thead th {\n",
       "        text-align: right;\n",
       "    }\n",
       "</style>\n",
       "<table border=\"1\" class=\"dataframe\">\n",
       "  <thead>\n",
       "    <tr style=\"text-align: right;\">\n",
       "      <th></th>\n",
       "      <th>HenID</th>\n",
       "      <th>PenID</th>\n",
       "      <th>system</th>\n",
       "      <th>Zone</th>\n",
       "      <th>model_prediction</th>\n",
       "      <th>Timestamp</th>\n",
       "      <th>date</th>\n",
       "      <th>next_record_date</th>\n",
       "      <th>duration</th>\n",
       "      <th>previous_record_date</th>\n",
       "      <th>previous_duration</th>\n",
       "      <th>next_zone</th>\n",
       "      <th>previous_zone</th>\n",
       "      <th>previous_previous_zone</th>\n",
       "      <th>correction_is_consecutive_equal_initial_zone</th>\n",
       "      <th>is_WG_open</th>\n",
       "      <th>duration_mn</th>\n",
       "      <th>is_day</th>\n",
       "    </tr>\n",
       "  </thead>\n",
       "  <tbody>\n",
       "    <tr>\n",
       "      <th>0</th>\n",
       "      <td>hen_1</td>\n",
       "      <td>pen9</td>\n",
       "      <td>8 - 9</td>\n",
       "      <td>2_Zone</td>\n",
       "      <td>1.0</td>\n",
       "      <td>2020-09-29 09:50:00</td>\n",
       "      <td>2020-09-29</td>\n",
       "      <td>2020-09-29 17:56:25</td>\n",
       "      <td>0 days 08:06:25</td>\n",
       "      <td>NaN</td>\n",
       "      <td>NaN</td>\n",
       "      <td>3_Zone</td>\n",
       "      <td>NaN</td>\n",
       "      <td>NaN</td>\n",
       "      <td>False</td>\n",
       "      <td>False</td>\n",
       "      <td>486.416667</td>\n",
       "      <td>True</td>\n",
       "    </tr>\n",
       "    <tr>\n",
       "      <th>1</th>\n",
       "      <td>hen_1</td>\n",
       "      <td>pen9</td>\n",
       "      <td>8 - 9</td>\n",
       "      <td>3_Zone</td>\n",
       "      <td>1.0</td>\n",
       "      <td>2020-09-29 17:56:25</td>\n",
       "      <td>2020-09-29</td>\n",
       "      <td>2020-09-30 09:55:59</td>\n",
       "      <td>0 days 02:52:35</td>\n",
       "      <td>2020-09-29 09:50:00</td>\n",
       "      <td>0 days 08:06:25</td>\n",
       "      <td>3_Zone</td>\n",
       "      <td>2_Zone</td>\n",
       "      <td>NaN</td>\n",
       "      <td>False</td>\n",
       "      <td>False</td>\n",
       "      <td>959.566667</td>\n",
       "      <td>False</td>\n",
       "    </tr>\n",
       "    <tr>\n",
       "      <th>2</th>\n",
       "      <td>hen_1</td>\n",
       "      <td>pen9</td>\n",
       "      <td>8 - 9</td>\n",
       "      <td>5_Zone</td>\n",
       "      <td>1.0</td>\n",
       "      <td>2020-09-30 09:55:59</td>\n",
       "      <td>2020-09-30</td>\n",
       "      <td>2020-09-30 11:34:30</td>\n",
       "      <td>0 days 01:32:11</td>\n",
       "      <td>2020-09-30 09:51:57</td>\n",
       "      <td>0 days 00:04:02</td>\n",
       "      <td>5_Zone</td>\n",
       "      <td>3_Zone</td>\n",
       "      <td>3_Zone</td>\n",
       "      <td>False</td>\n",
       "      <td>False</td>\n",
       "      <td>98.516667</td>\n",
       "      <td>True</td>\n",
       "    </tr>\n",
       "  </tbody>\n",
       "</table>\n",
       "</div>"
      ],
      "text/plain": [
       "   HenID PenID system    Zone  model_prediction           Timestamp  \\\n",
       "0  hen_1  pen9  8 - 9  2_Zone               1.0 2020-09-29 09:50:00   \n",
       "1  hen_1  pen9  8 - 9  3_Zone               1.0 2020-09-29 17:56:25   \n",
       "2  hen_1  pen9  8 - 9  5_Zone               1.0 2020-09-30 09:55:59   \n",
       "\n",
       "        date     next_record_date         duration previous_record_date  \\\n",
       "0 2020-09-29  2020-09-29 17:56:25  0 days 08:06:25                  NaN   \n",
       "1 2020-09-29  2020-09-30 09:55:59  0 days 02:52:35  2020-09-29 09:50:00   \n",
       "2 2020-09-30  2020-09-30 11:34:30  0 days 01:32:11  2020-09-30 09:51:57   \n",
       "\n",
       "  previous_duration next_zone previous_zone previous_previous_zone  \\\n",
       "0               NaN    3_Zone           NaN                    NaN   \n",
       "1   0 days 08:06:25    3_Zone        2_Zone                    NaN   \n",
       "2   0 days 00:04:02    5_Zone        3_Zone                 3_Zone   \n",
       "\n",
       "   correction_is_consecutive_equal_initial_zone  is_WG_open  duration_mn  \\\n",
       "0                                         False       False   486.416667   \n",
       "1                                         False       False   959.566667   \n",
       "2                                         False       False    98.516667   \n",
       "\n",
       "   is_day  \n",
       "0    True  \n",
       "1   False  \n",
       "2    True  "
      ]
     },
     "execution_count": 6,
     "metadata": {},
     "output_type": "execute_result"
    }
   ],
   "source": [
    "df = pd.read_csv(os.path.join(path_extracted_data, id_run+'_CLEANEDDATA.csv'), sep=';', parse_dates=['Timestamp', 'date'],\n",
    "                dayfirst=True) \n",
    "print(df.shape)\n",
    "df.head(3)"
   ]
  },
  {
   "cell_type": "markdown",
   "metadata": {},
   "source": [
    "# weather conditions just to look at"
   ]
  },
  {
   "cell_type": "code",
   "execution_count": 7,
   "metadata": {},
   "outputs": [
    {
     "name": "stdout",
     "output_type": "stream",
     "text": [
      "(7293, 14)\n"
     ]
    },
    {
     "data": {
      "text/html": [
       "<div>\n",
       "<style scoped>\n",
       "    .dataframe tbody tr th:only-of-type {\n",
       "        vertical-align: middle;\n",
       "    }\n",
       "\n",
       "    .dataframe tbody tr th {\n",
       "        vertical-align: top;\n",
       "    }\n",
       "\n",
       "    .dataframe thead th {\n",
       "        text-align: right;\n",
       "    }\n",
       "</style>\n",
       "<table border=\"1\" class=\"dataframe\">\n",
       "  <thead>\n",
       "    <tr style=\"text-align: right;\">\n",
       "      <th></th>\n",
       "      <th>Timestamp</th>\n",
       "      <th>temperature</th>\n",
       "      <th>humidity</th>\n",
       "      <th>wind speed</th>\n",
       "      <th>Precipitation amount</th>\n",
       "      <th>query</th>\n",
       "      <th>Moon Phase calculator</th>\n",
       "      <th>hour</th>\n",
       "      <th>temperature_C</th>\n",
       "      <th>wind_speed_mpers</th>\n",
       "      <th>humidity_avgpercent</th>\n",
       "      <th>rain</th>\n",
       "      <th>Timestamp_weather</th>\n",
       "      <th>date</th>\n",
       "    </tr>\n",
       "  </thead>\n",
       "  <tbody>\n",
       "    <tr>\n",
       "      <th>0</th>\n",
       "      <td>2020-09-29 00:00:00</td>\n",
       "      <td>10 °C\\n(12:00 am CEST | Tuesday, September 29,...</td>\n",
       "      <td>average: 100% (100%)\\n(12:00 am CEST | Tuesday...</td>\n",
       "      <td>2 m/s\\n(12:00 am CEST | Tuesday, September 29,...</td>\n",
       "      <td>rain\\n(12:00 am CEST | Tuesday, September 29, ...</td>\n",
       "      <td>Moon Phase calculatorSeptember 29, 2020 0h</td>\n",
       "      <td>| waxing gibbous moon\\n91.87% illuminated</td>\n",
       "      <td>0</td>\n",
       "      <td>10</td>\n",
       "      <td>2</td>\n",
       "      <td>100</td>\n",
       "      <td>rain</td>\n",
       "      <td>2020-09-29 00:00:00</td>\n",
       "      <td>2020-09-29</td>\n",
       "    </tr>\n",
       "    <tr>\n",
       "      <th>1</th>\n",
       "      <td>2020-09-29 01:00:00</td>\n",
       "      <td>10 °C\\n(1:00 am CEST | Tuesday, September 29, ...</td>\n",
       "      <td>average: 100% (100%)\\n(1:00 am CEST | Tuesday,...</td>\n",
       "      <td>3 m/s\\n(1:00 am CEST | Tuesday, September 29, ...</td>\n",
       "      <td>rain\\n(1:00 am CEST | Tuesday, September 29, 2...</td>\n",
       "      <td>Moon Phase calculatorSeptember 29, 2020 1h</td>\n",
       "      <td>| waxing gibbous moon\\n92.09% illuminated</td>\n",
       "      <td>1</td>\n",
       "      <td>10</td>\n",
       "      <td>3</td>\n",
       "      <td>100</td>\n",
       "      <td>rain</td>\n",
       "      <td>2020-09-29 01:00:00</td>\n",
       "      <td>2020-09-29</td>\n",
       "    </tr>\n",
       "    <tr>\n",
       "      <th>2</th>\n",
       "      <td>2020-09-29 02:00:00</td>\n",
       "      <td>10 °C\\n(2:00 am CEST | Tuesday, September 29, ...</td>\n",
       "      <td>average: 100% (100%)\\n(2:00 am CEST | Tuesday,...</td>\n",
       "      <td>3 m/s\\n(2:00 am CEST | Tuesday, September 29, ...</td>\n",
       "      <td>rain\\n(2:00 am CEST | Tuesday, September 29, 2...</td>\n",
       "      <td>Moon Phase calculatorSeptember 29, 2020 2h</td>\n",
       "      <td>| waxing gibbous moon\\n92.30% illuminated</td>\n",
       "      <td>2</td>\n",
       "      <td>10</td>\n",
       "      <td>3</td>\n",
       "      <td>100</td>\n",
       "      <td>rain</td>\n",
       "      <td>2020-09-29 02:00:00</td>\n",
       "      <td>2020-09-29</td>\n",
       "    </tr>\n",
       "  </tbody>\n",
       "</table>\n",
       "</div>"
      ],
      "text/plain": [
       "            Timestamp                                        temperature  \\\n",
       "0 2020-09-29 00:00:00  10 °C\\n(12:00 am CEST | Tuesday, September 29,...   \n",
       "1 2020-09-29 01:00:00  10 °C\\n(1:00 am CEST | Tuesday, September 29, ...   \n",
       "2 2020-09-29 02:00:00  10 °C\\n(2:00 am CEST | Tuesday, September 29, ...   \n",
       "\n",
       "                                            humidity  \\\n",
       "0  average: 100% (100%)\\n(12:00 am CEST | Tuesday...   \n",
       "1  average: 100% (100%)\\n(1:00 am CEST | Tuesday,...   \n",
       "2  average: 100% (100%)\\n(2:00 am CEST | Tuesday,...   \n",
       "\n",
       "                                          wind speed  \\\n",
       "0  2 m/s\\n(12:00 am CEST | Tuesday, September 29,...   \n",
       "1  3 m/s\\n(1:00 am CEST | Tuesday, September 29, ...   \n",
       "2  3 m/s\\n(2:00 am CEST | Tuesday, September 29, ...   \n",
       "\n",
       "                                Precipitation amount  \\\n",
       "0  rain\\n(12:00 am CEST | Tuesday, September 29, ...   \n",
       "1  rain\\n(1:00 am CEST | Tuesday, September 29, 2...   \n",
       "2  rain\\n(2:00 am CEST | Tuesday, September 29, 2...   \n",
       "\n",
       "                                        query  \\\n",
       "0  Moon Phase calculatorSeptember 29, 2020 0h   \n",
       "1  Moon Phase calculatorSeptember 29, 2020 1h   \n",
       "2  Moon Phase calculatorSeptember 29, 2020 2h   \n",
       "\n",
       "                       Moon Phase calculator  hour  temperature_C  \\\n",
       "0  | waxing gibbous moon\\n91.87% illuminated     0             10   \n",
       "1  | waxing gibbous moon\\n92.09% illuminated     1             10   \n",
       "2  | waxing gibbous moon\\n92.30% illuminated     2             10   \n",
       "\n",
       "   wind_speed_mpers  humidity_avgpercent  rain   Timestamp_weather        date  \n",
       "0                 2                  100  rain 2020-09-29 00:00:00  2020-09-29  \n",
       "1                 3                  100  rain 2020-09-29 01:00:00  2020-09-29  \n",
       "2                 3                  100  rain 2020-09-29 02:00:00  2020-09-29  "
      ]
     },
     "metadata": {},
     "output_type": "display_data"
    }
   ],
   "source": [
    "#weather conditions\n",
    "path_weather = os.path.join(r'C:\\Users\\camil\\Desktop\\vm_exchange\\PhD_Data\\Weather_exp1','Weather_process.csv')\n",
    "df_weather_h = pd.read_csv(path_weather, sep=';', parse_dates=['date','Timestamp'])\n",
    "df_weather_h = df_weather_h.sort_values('Timestamp') \n",
    "df_weather_h = df_weather_h.drop(['date'], axis=1)\n",
    "df_weather_h['Timestamp_weather'] = df_weather_h['Timestamp'].copy()\n",
    "df_weather_h['date'] = df_weather_h['Timestamp'].map(lambda x:  dt.datetime.date(x))\n",
    "print(df_weather_h.shape)\n",
    "display(df_weather_h.head(3))"
   ]
  },
  {
   "cell_type": "code",
   "execution_count": 8,
   "metadata": {},
   "outputs": [
    {
     "data": {
      "image/png": "[encoded data removed]",
      "text/plain": [
       "<Figure size 432x288 with 1 Axes>"
      ]
     },
     "metadata": {
      "needs_background": "light"
     },
     "output_type": "display_data"
    }
   ],
   "source": [
    "plt.hist(df_weather_h['wind_speed_mpers']);"
   ]
  },
  {
   "cell_type": "code",
   "execution_count": 9,
   "metadata": {},
   "outputs": [
    {
     "data": {
      "text/html": [
       "<div>\n",
       "<style scoped>\n",
       "    .dataframe tbody tr th:only-of-type {\n",
       "        vertical-align: middle;\n",
       "    }\n",
       "\n",
       "    .dataframe tbody tr th {\n",
       "        vertical-align: top;\n",
       "    }\n",
       "\n",
       "    .dataframe thead th {\n",
       "        text-align: right;\n",
       "    }\n",
       "</style>\n",
       "<table border=\"1\" class=\"dataframe\">\n",
       "  <thead>\n",
       "    <tr style=\"text-align: right;\">\n",
       "      <th></th>\n",
       "      <th>Timestamp</th>\n",
       "      <th>temperature</th>\n",
       "      <th>humidity</th>\n",
       "      <th>wind speed</th>\n",
       "      <th>Precipitation amount</th>\n",
       "      <th>query</th>\n",
       "      <th>Moon Phase calculator</th>\n",
       "      <th>hour</th>\n",
       "      <th>temperature_C</th>\n",
       "      <th>wind_speed_mpers</th>\n",
       "      <th>humidity_avgpercent</th>\n",
       "      <th>rain</th>\n",
       "      <th>Timestamp_weather</th>\n",
       "      <th>date</th>\n",
       "    </tr>\n",
       "  </thead>\n",
       "  <tbody>\n",
       "    <tr>\n",
       "      <th>4236</th>\n",
       "      <td>2021-03-26 00:00:00</td>\n",
       "      <td>4 °C\\n(12:00 am CET | Friday, March 26, 2021)</td>\n",
       "      <td>average: 100% (100%)\\n(12:00 am CET | Friday, ...</td>\n",
       "      <td>1 m/s\\n(12:00 am CET | Friday, March 26, 2021)</td>\n",
       "      <td>no precipitation\\n(12:00 am CET | Friday, Marc...</td>\n",
       "      <td>Moon Phase calculatorMarch 26, 2021 0h</td>\n",
       "      <td>| waxing gibbous moon\\n89.26% illuminated</td>\n",
       "      <td>0</td>\n",
       "      <td>4</td>\n",
       "      <td>1</td>\n",
       "      <td>100</td>\n",
       "      <td>no precipitation</td>\n",
       "      <td>2021-03-26 00:00:00</td>\n",
       "      <td>2021-03-26</td>\n",
       "    </tr>\n",
       "    <tr>\n",
       "      <th>4237</th>\n",
       "      <td>2021-03-26 01:00:00</td>\n",
       "      <td>4 °C\\n(1:00 am CET | Friday, March 26, 2021)</td>\n",
       "      <td>average: 100% (100%)\\n(1:00 am CET | Friday, M...</td>\n",
       "      <td>0 m/s\\n(1:00 am CET | Friday, March 26, 2021)</td>\n",
       "      <td>no precipitation\\n(1:00 am CET | Friday, March...</td>\n",
       "      <td>Moon Phase calculatorMarch 26, 2021 1h</td>\n",
       "      <td>| waxing gibbous moon\\n89.55% illuminated</td>\n",
       "      <td>1</td>\n",
       "      <td>4</td>\n",
       "      <td>0</td>\n",
       "      <td>100</td>\n",
       "      <td>no precipitation</td>\n",
       "      <td>2021-03-26 01:00:00</td>\n",
       "      <td>2021-03-26</td>\n",
       "    </tr>\n",
       "    <tr>\n",
       "      <th>4238</th>\n",
       "      <td>2021-03-26 02:00:00</td>\n",
       "      <td>3 °C\\n(2:00 am CET | Friday, March 26, 2021)</td>\n",
       "      <td>average: 100% (100%)\\n(2:00 am CET | Friday, M...</td>\n",
       "      <td>0 m/s\\n(2:00 am CET | Friday, March 26, 2021)</td>\n",
       "      <td>no precipitation\\n(2:00 am CET | Friday, March...</td>\n",
       "      <td>Moon Phase calculatorMarch 26, 2021 2h</td>\n",
       "      <td>| waxing gibbous moon\\n89.83% illuminated</td>\n",
       "      <td>2</td>\n",
       "      <td>3</td>\n",
       "      <td>0</td>\n",
       "      <td>100</td>\n",
       "      <td>no precipitation</td>\n",
       "      <td>2021-03-26 02:00:00</td>\n",
       "      <td>2021-03-26</td>\n",
       "    </tr>\n",
       "  </tbody>\n",
       "</table>\n",
       "</div>"
      ],
      "text/plain": [
       "               Timestamp                                    temperature  \\\n",
       "4236 2021-03-26 00:00:00  4 °C\\n(12:00 am CET | Friday, March 26, 2021)   \n",
       "4237 2021-03-26 01:00:00   4 °C\\n(1:00 am CET | Friday, March 26, 2021)   \n",
       "4238 2021-03-26 02:00:00   3 °C\\n(2:00 am CET | Friday, March 26, 2021)   \n",
       "\n",
       "                                               humidity  \\\n",
       "4236  average: 100% (100%)\\n(12:00 am CET | Friday, ...   \n",
       "4237  average: 100% (100%)\\n(1:00 am CET | Friday, M...   \n",
       "4238  average: 100% (100%)\\n(2:00 am CET | Friday, M...   \n",
       "\n",
       "                                          wind speed  \\\n",
       "4236  1 m/s\\n(12:00 am CET | Friday, March 26, 2021)   \n",
       "4237   0 m/s\\n(1:00 am CET | Friday, March 26, 2021)   \n",
       "4238   0 m/s\\n(2:00 am CET | Friday, March 26, 2021)   \n",
       "\n",
       "                                   Precipitation amount  \\\n",
       "4236  no precipitation\\n(12:00 am CET | Friday, Marc...   \n",
       "4237  no precipitation\\n(1:00 am CET | Friday, March...   \n",
       "4238  no precipitation\\n(2:00 am CET | Friday, March...   \n",
       "\n",
       "                                       query  \\\n",
       "4236  Moon Phase calculatorMarch 26, 2021 0h   \n",
       "4237  Moon Phase calculatorMarch 26, 2021 1h   \n",
       "4238  Moon Phase calculatorMarch 26, 2021 2h   \n",
       "\n",
       "                          Moon Phase calculator  hour  temperature_C  \\\n",
       "4236  | waxing gibbous moon\\n89.26% illuminated     0              4   \n",
       "4237  | waxing gibbous moon\\n89.55% illuminated     1              4   \n",
       "4238  | waxing gibbous moon\\n89.83% illuminated     2              3   \n",
       "\n",
       "      wind_speed_mpers  humidity_avgpercent              rain  \\\n",
       "4236                 1                  100  no precipitation   \n",
       "4237                 0                  100  no precipitation   \n",
       "4238                 0                  100  no precipitation   \n",
       "\n",
       "       Timestamp_weather        date  \n",
       "4236 2021-03-26 00:00:00  2021-03-26  \n",
       "4237 2021-03-26 01:00:00  2021-03-26  \n",
       "4238 2021-03-26 02:00:00  2021-03-26  "
      ]
     },
     "metadata": {},
     "output_type": "display_data"
    },
    {
     "data": {
      "image/png": "[encoded data removed]",
      "text/plain": [
       "<Figure size 432x288 with 1 Axes>"
      ]
     },
     "metadata": {
      "needs_background": "light"
     },
     "output_type": "display_data"
    }
   ],
   "source": [
    "df_plt = df_weather_h[(df_weather_h['date']<dt.datetime.date(dt.datetime(2021,3,30)))&\\\n",
    "             (df_weather_h['date']>dt.datetime.date(dt.datetime(2021,3,25)))]\n",
    "display(df_plt.head(3))\n",
    "sns.lineplot(y='humidity_avgpercent', x='hour', hue='date', data=df_plt);"
   ]
  },
  {
   "cell_type": "code",
   "execution_count": 10,
   "metadata": {},
   "outputs": [
    {
     "name": "stdout",
     "output_type": "stream",
     "text": [
      "(648, 14) (2989, 14) (3656, 14)\n"
     ]
    }
   ],
   "source": [
    "print(df_weather_h[df_weather_h['wind_speed_mpers']==0].shape,\n",
    "      df_weather_h[df_weather_h['wind_speed_mpers']==1].shape,\n",
    "      df_weather_h[df_weather_h['wind_speed_mpers']>1].shape)"
   ]
  },
  {
   "cell_type": "code",
   "execution_count": 11,
   "metadata": {},
   "outputs": [
    {
     "data": {
      "image/png": "[encoded data removed]",
      "text/plain": [
       "<Figure size 432x288 with 1 Axes>"
      ]
     },
     "metadata": {
      "needs_background": "light"
     },
     "output_type": "display_data"
    }
   ],
   "source": [
    "plt.hist(df_weather_h['rain']);"
   ]
  },
  {
   "cell_type": "markdown",
   "metadata": {},
   "source": [
    "# Compute variables"
   ]
  },
  {
   "cell_type": "code",
   "execution_count": null,
   "metadata": {
    "scrolled": true
   },
   "outputs": [
    {
     "name": "stderr",
     "output_type": "stream",
     "text": [
      "\r",
      "  0%|                                                                                            | 0/8 [00:00<?, ?it/s]"
     ]
    },
    {
     "name": "stdout",
     "output_type": "stream",
     "text": [
      "pen9\n"
     ]
    },
    {
     "name": "stderr",
     "output_type": "stream",
     "text": [
      "C:\\Users\\camil\\anaconda3\\lib\\site-packages\\pandas\\util\\_decorators.py:311: SettingWithCopyWarning: \n",
      "A value is trying to be set on a copy of a slice from a DataFrame\n",
      "\n",
      "See the caveats in the documentation: https://pandas.pydata.org/pandas-docs/stable/user_guide/indexing.html#returning-a-view-versus-a-copy\n",
      "  return func(*args, **kwargs)\n",
      "C:\\Users\\camil\\Desktop\\animals_code\\PhD-AnimalWelfare\\UTILS.py:3342: SettingWithCopyWarning: \n",
      "A value is trying to be set on a copy of a slice from a DataFrame.\n",
      "Try using .loc[row_indexer,col_indexer] = value instead\n",
      "\n",
      "See the caveats in the documentation: https://pandas.pydata.org/pandas-docs/stable/user_guide/indexing.html#returning-a-view-versus-a-copy\n",
      "  df[timestamp_name] = df[timestamp_name].map(lambda x: dt.datetime(x.year,x.month,x.day,x.hour,x.minute, x.second))\n"
     ]
    },
    {
     "name": "stdout",
     "output_type": "stream",
     "text": [
      "----------------- Create time serie\n",
      "in this time series there is 28 hens\n",
      "The initial starting date in over all is: 2020-09-29 09:36:51, and the ending date will be: 2021-07-25 23:53:11\n",
      "But note that birds may have different ending and starting date which should be taken into account when computing variables\n",
      "and after ending the last day at midnight : 2020-09-29 09:36:51, and the ending date will be: 2021-07-25 23:59:59\n",
      "Total running time: 6.23 mn\n",
      "your time series has 1 seconds between two timestamps\n",
      "----------------- main night zone and nbr of transitions over night....\n",
      "----------------- total & percentage duration per Zone in seconds....\n",
      "----------------- first timestamp in each zone per day & latency var....\n",
      "----------------- number of Zone (excluding nan)....\n",
      "----------------- compute some variables based on a list of zones over a day....\n",
      "------------ add WG info\n",
      "------------ add hen basics info\n",
      "From the focalBirdinfo, you have 154 ative tags\n",
      "(7563, 52)\n",
      "(5941, 54)\n",
      "-------------- Lets remove unwanted dates at PENS level\n"
     ]
    },
    {
     "data": {
      "text/html": [
       "<text style=color:black>By removing the unwanted days we passed from 5941 to 5240 timestamp (losing </text> <text style=color:red>701</text> <text style=color:black> timestamp)</text>"
      ],
      "text/plain": [
       "<IPython.core.display.HTML object>"
      ]
     },
     "metadata": {},
     "output_type": "display_data"
    },
    {
     "name": "stdout",
     "output_type": "stream",
     "text": [
      "All the night variables are:  Index(['HenID', 'night_level', 'night_Max_duration_zones', 'night_duration_Z5',\n",
      "       'night_Total_number_transition', 'is_mvt_night', 'level', 'PenID',\n",
      "       'CLASS', 'R-Pen', 'InitialStartDate', 'early_death', 'Treatment'],\n",
      "      dtype='object')\n",
      "['night_level']\n",
      "-------------- Lets remove dates of tags when they were not giving deviceupdate correctly\n"
     ]
    },
    {
     "data": {
      "text/html": [
       "<text style=color:black>By removing the unwanted days we passed from 6879 to 5144 timestamp (losing </text> <text style=color:red>1735</text> <text style=color:black> timestamp)</text>"
      ],
      "text/plain": [
       "<IPython.core.display.HTML object>"
      ]
     },
     "metadata": {},
     "output_type": "display_data"
    },
    {
     "name": "stdout",
     "output_type": "stream",
     "text": [
      "-------------- Lets remove the 30.09.2020 for the tags that still had no transition from before the light went on \n"
     ]
    },
    {
     "data": {
      "text/html": [
       "<text style=color:black>By removing the unwanted days we passed from 5144 to 5127 timestamp (losing </text> <text style=color:red>17</text> <text style=color:black> timestamp)</text>"
      ],
      "text/plain": [
       "<IPython.core.display.HTML object>"
      ]
     },
     "metadata": {},
     "output_type": "display_data"
    },
    {
     "name": "stdout",
     "output_type": "stream",
     "text": [
      "-------------- Lets remove all (dates,tagid) with not all seconds tracked (e.g. first day an animal is tracked), and no night variable\n"
     ]
    },
    {
     "data": {
      "text/html": [
       "<text style=color:black>By removing the unwanted days we passed from 5127 to 5066 timestamp (losing </text> <text style=color:red>61</text> <text style=color:black> timestamp)</text>"
      ],
      "text/plain": [
       "<IPython.core.display.HTML object>"
      ]
     },
     "metadata": {},
     "output_type": "display_data"
    },
    {
     "name": "stdout",
     "output_type": "stream",
     "text": [
      "-------------- remove days with only the night and not the days variables, as due to flickering we wotn really use night\n"
     ]
    },
    {
     "data": {
      "text/html": [
       "<text style=color:black>By removing the unwanted days we passed from 5066 to 5066 timestamp (losing </text> <text style=color:red>0</text> <text style=color:black> timestamp)</text>"
      ],
      "text/plain": [
       "<IPython.core.display.HTML object>"
      ]
     },
     "metadata": {},
     "output_type": "display_data"
    },
    {
     "name": "stdout",
     "output_type": "stream",
     "text": [
      "-------------- Lets remove all above the last official tracked day\n"
     ]
    },
    {
     "data": {
      "text/html": [
       "<text style=color:black>By removing the unwanted days we passed from 5066 to 5066 timestamp (losing </text> <text style=color:red>0</text> <text style=color:black> timestamp)</text>"
      ],
      "text/plain": [
       "<IPython.core.display.HTML object>"
      ]
     },
     "metadata": {},
     "output_type": "display_data"
    },
    {
     "name": "stdout",
     "output_type": "stream",
     "text": [
      "save\n",
      "Total running time: 64.20 mn\n",
      "(5066, 63)\n"
     ]
    },
    {
     "data": {
      "text/html": [
       "<div>\n",
       "<style scoped>\n",
       "    .dataframe tbody tr th:only-of-type {\n",
       "        vertical-align: middle;\n",
       "    }\n",
       "\n",
       "    .dataframe tbody tr th {\n",
       "        vertical-align: top;\n",
       "    }\n",
       "\n",
       "    .dataframe thead th {\n",
       "        text-align: right;\n",
       "    }\n",
       "</style>\n",
       "<table border=\"1\" class=\"dataframe\">\n",
       "  <thead>\n",
       "    <tr style=\"text-align: right;\">\n",
       "      <th></th>\n",
       "      <th>HenID</th>\n",
       "      <th>level</th>\n",
       "      <th>duration_1_Zone</th>\n",
       "      <th>duration_2_Zone</th>\n",
       "      <th>duration_3_Zone</th>\n",
       "      <th>duration_4_Zone</th>\n",
       "      <th>duration_5_Zone</th>\n",
       "      <th>verification_daily_total_duration</th>\n",
       "      <th>verification_daily_total_nbr_hour</th>\n",
       "      <th>dur_values</th>\n",
       "      <th>...</th>\n",
       "      <th>night_Max_duration_zones</th>\n",
       "      <th>night_duration_Z5</th>\n",
       "      <th>night_Total_number_transition</th>\n",
       "      <th>is_mvt_night</th>\n",
       "      <th>nbr_h_per_day</th>\n",
       "      <th>correct_amount_of_hour</th>\n",
       "      <th>DOA</th>\n",
       "      <th>WOA</th>\n",
       "      <th>DIB</th>\n",
       "      <th>WIB</th>\n",
       "    </tr>\n",
       "  </thead>\n",
       "  <tbody>\n",
       "    <tr>\n",
       "      <th>1</th>\n",
       "      <td>hen_1</td>\n",
       "      <td>2020-09-30</td>\n",
       "      <td>NaN</td>\n",
       "      <td>18886.0</td>\n",
       "      <td>3488.0</td>\n",
       "      <td>515.0</td>\n",
       "      <td>5911.0</td>\n",
       "      <td>28800.0</td>\n",
       "      <td>8.0</td>\n",
       "      <td>[0.0, 18886.0, 3488.0, 515.0, 5911.0]</td>\n",
       "      <td>...</td>\n",
       "      <td>5_Zone</td>\n",
       "      <td>54466.0</td>\n",
       "      <td>3.0</td>\n",
       "      <td>1.0</td>\n",
       "      <td>8</td>\n",
       "      <td>True</td>\n",
       "      <td>119</td>\n",
       "      <td>17</td>\n",
       "      <td>1</td>\n",
       "      <td>1</td>\n",
       "    </tr>\n",
       "    <tr>\n",
       "      <th>2</th>\n",
       "      <td>hen_1</td>\n",
       "      <td>2020-10-01</td>\n",
       "      <td>NaN</td>\n",
       "      <td>9310.0</td>\n",
       "      <td>5636.0</td>\n",
       "      <td>0.0</td>\n",
       "      <td>17454.0</td>\n",
       "      <td>32400.0</td>\n",
       "      <td>9.0</td>\n",
       "      <td>[0.0, 9310.0, 5636.0, 0.0, 17454.0]</td>\n",
       "      <td>...</td>\n",
       "      <td>5_Zone</td>\n",
       "      <td>54000.0</td>\n",
       "      <td>0.0</td>\n",
       "      <td>0.0</td>\n",
       "      <td>9</td>\n",
       "      <td>True</td>\n",
       "      <td>120</td>\n",
       "      <td>18</td>\n",
       "      <td>2</td>\n",
       "      <td>1</td>\n",
       "    </tr>\n",
       "    <tr>\n",
       "      <th>3</th>\n",
       "      <td>hen_1</td>\n",
       "      <td>2020-10-02</td>\n",
       "      <td>NaN</td>\n",
       "      <td>0.0</td>\n",
       "      <td>551.0</td>\n",
       "      <td>0.0</td>\n",
       "      <td>31849.0</td>\n",
       "      <td>32400.0</td>\n",
       "      <td>9.0</td>\n",
       "      <td>[0.0, 0.0, 551.0, 0.0, 31849.0]</td>\n",
       "      <td>...</td>\n",
       "      <td>5_Zone</td>\n",
       "      <td>54000.0</td>\n",
       "      <td>0.0</td>\n",
       "      <td>0.0</td>\n",
       "      <td>9</td>\n",
       "      <td>True</td>\n",
       "      <td>121</td>\n",
       "      <td>18</td>\n",
       "      <td>3</td>\n",
       "      <td>1</td>\n",
       "    </tr>\n",
       "  </tbody>\n",
       "</table>\n",
       "<p>3 rows × 63 columns</p>\n",
       "</div>"
      ],
      "text/plain": [
       "   HenID      level  duration_1_Zone  duration_2_Zone  duration_3_Zone  \\\n",
       "1  hen_1 2020-09-30              NaN          18886.0           3488.0   \n",
       "2  hen_1 2020-10-01              NaN           9310.0           5636.0   \n",
       "3  hen_1 2020-10-02              NaN              0.0            551.0   \n",
       "\n",
       "   duration_4_Zone  duration_5_Zone  verification_daily_total_duration  \\\n",
       "1            515.0           5911.0                            28800.0   \n",
       "2              0.0          17454.0                            32400.0   \n",
       "3              0.0          31849.0                            32400.0   \n",
       "\n",
       "   verification_daily_total_nbr_hour                             dur_values  \\\n",
       "1                                8.0  [0.0, 18886.0, 3488.0, 515.0, 5911.0]   \n",
       "2                                9.0    [0.0, 9310.0, 5636.0, 0.0, 17454.0]   \n",
       "3                                9.0        [0.0, 0.0, 551.0, 0.0, 31849.0]   \n",
       "\n",
       "   ... night_Max_duration_zones  night_duration_Z5  \\\n",
       "1  ...                   5_Zone            54466.0   \n",
       "2  ...                   5_Zone            54000.0   \n",
       "3  ...                   5_Zone            54000.0   \n",
       "\n",
       "   night_Total_number_transition  is_mvt_night  nbr_h_per_day  \\\n",
       "1                            3.0           1.0              8   \n",
       "2                            0.0           0.0              9   \n",
       "3                            0.0           0.0              9   \n",
       "\n",
       "   correct_amount_of_hour  DOA  WOA  DIB WIB  \n",
       "1                    True  119   17    1   1  \n",
       "2                    True  120   18    2   1  \n",
       "3                    True  121   18    3   1  \n",
       "\n",
       "[3 rows x 63 columns]"
      ]
     },
     "metadata": {},
     "output_type": "display_data"
    },
    {
     "name": "stderr",
     "output_type": "stream",
     "text": [
      "\r",
      " 12%|█████████▊                                                                    | 1/8 [1:04:28<7:31:20, 3868.58s/it]"
     ]
    },
    {
     "name": "stdout",
     "output_type": "stream",
     "text": [
      "2020-09-30 00:00:00\n",
      "pen11\n"
     ]
    },
    {
     "name": "stderr",
     "output_type": "stream",
     "text": [
      "C:\\Users\\camil\\anaconda3\\lib\\site-packages\\pandas\\util\\_decorators.py:311: SettingWithCopyWarning: \n",
      "A value is trying to be set on a copy of a slice from a DataFrame\n",
      "\n",
      "See the caveats in the documentation: https://pandas.pydata.org/pandas-docs/stable/user_guide/indexing.html#returning-a-view-versus-a-copy\n",
      "  return func(*args, **kwargs)\n",
      "C:\\Users\\camil\\Desktop\\animals_code\\PhD-AnimalWelfare\\UTILS.py:3342: SettingWithCopyWarning: \n",
      "A value is trying to be set on a copy of a slice from a DataFrame.\n",
      "Try using .loc[row_indexer,col_indexer] = value instead\n",
      "\n",
      "See the caveats in the documentation: https://pandas.pydata.org/pandas-docs/stable/user_guide/indexing.html#returning-a-view-versus-a-copy\n",
      "  df[timestamp_name] = df[timestamp_name].map(lambda x: dt.datetime(x.year,x.month,x.day,x.hour,x.minute, x.second))\n"
     ]
    },
    {
     "name": "stdout",
     "output_type": "stream",
     "text": [
      "----------------- Create time serie\n",
      "in this time series there is 28 hens\n",
      "The initial starting date in over all is: 2020-09-29 09:08:12, and the ending date will be: 2021-07-25 22:58:37\n",
      "But note that birds may have different ending and starting date which should be taken into account when computing variables\n",
      "and after ending the last day at midnight : 2020-09-29 09:08:12, and the ending date will be: 2021-07-25 23:59:59\n",
      "Total running time: 6.38 mn\n"
     ]
    }
   ],
   "source": [
    "#open time series per session and compute the variables for each session (car time series make sence at session level), et en \n",
    "#plus des variables tel que running entropy over the whole session ateach last timestamp of each level make sence only at \n",
    "#session level\n",
    "#once to much data, do this per pen!!! with name=pens!!\n",
    "START_TIME = time.perf_counter()\n",
    "for p in tqdm.tqdm(df['PenID'].unique()):\n",
    "    print(p)\n",
    "    #&(df['date']<=dt.datetime(2020,11,10))\n",
    "    df_daily = HenDailyVariable_Origins_simplest(df[(df['PenID']==p)], config, name_=p, timestamp_name='Timestamp', \n",
    "                                        has_cons_equal_zone=False, save=True)\n",
    "    print(df_daily.shape)\n",
    "    display(df_daily.head(3))\n",
    "    print(df_daily['level'].min())\n",
    "\n",
    "END_TIME = time.perf_counter()\n",
    "print (\"Total running time: %.2f mn\" %((END_TIME-START_TIME)/60))  "
   ]
  },
  {
   "cell_type": "code",
   "execution_count": null,
   "metadata": {
    "scrolled": true
   },
   "outputs": [],
   "source": [
    "#Concatenate all HenVariables csv into one\n",
    "li_paths_var = glob.glob(os.path.join(path_extracted_data, id_run+'_daily__pen'+'*_variables.csv'))\n",
    "li_df = []\n",
    "if len(li_paths_var)!=8:\n",
    "    print('ERROR: not the correct number of files, there must have one per pen')\n",
    "    sys.exit()\n",
    "for path_var in tqdm.tqdm(li_paths_var):\n",
    "    #for being more reproductible, we open the file that was saved from cleaning\n",
    "    df_ = pd.read_csv(path_var, sep=';',parse_dates=['level', 'FirstTimestamp_1_Zone', 'FirstTimestamp_2_Zone', \n",
    "                                                     'FirstTimestamp_3_Zone','FirstTimestamp_4_Zone',\n",
    "                                                     'FirstTimestamp_5_Zone']) \n",
    "    print(df_.shape)\n",
    "    li_df.append(df_)\n",
    "df_daily = pd.concat(li_df)\n",
    "df_daily.to_csv(os.path.join(path_extracted_data, id_run+'_daily_ALL_variables.csv'), sep=';', index=False)\n",
    "print(df_daily.shape)\n",
    "df_daily.head(3)"
   ]
  },
  {
   "cell_type": "code",
   "execution_count": null,
   "metadata": {},
   "outputs": [],
   "source": [
    "display(list(df_daily.columns))"
   ]
  },
  {
   "cell_type": "code",
   "execution_count": null,
   "metadata": {},
   "outputs": [],
   "source": [
    "df_daily['level'].min()"
   ]
  },
  {
   "cell_type": "markdown",
   "metadata": {},
   "source": [
    "# Chi2distance"
   ]
  },
  {
   "cell_type": "markdown",
   "metadata": {},
   "source": [
    "#computed here as its a variable and not a visual computed out of variable\n",
    "#compute for every level a symmetric chi2distance heatmap\n",
    "if compute_chi2_distance:   \n",
    "\n",
    "    #sort by lowest entropy (i.e. need less info to predict futur. more predictibale should induce more similarities \n",
    "    #(as less different solution)), to potentialy make a nicer visual\n",
    "    df_ = df_daily.groupby(['HenID'])['distribution_entropy'].agg(lambda x:np.mean(x)).reset_index().sort_values(['distribution_entropy'])\n",
    "    li = df_['HenID'].tolist()\n",
    "    axis_label = [i.split('_')[1] for i in li]\n",
    "    #create path to save visual if not existing\n",
    "    path_ = os.path.join(path_extracted_data,'visual','chi2distance')\n",
    "    #create a director if not existing\n",
    "    if not os.path.exists(path_):\n",
    "        os.makedirs(path_)\n",
    "\n",
    "    print('----------------- Compute Chi2 distance....')\n",
    "    for d in li_date:\n",
    "        M = np.zeros(shape=(len(li),len(li)))\n",
    "        for i, h1 in enumerate(li[:-1]):\n",
    "            for j in range(i+1,len(li)):\n",
    "                h2 = li[j]\n",
    "                li_hen_in = df_daily[df_daily['level']==d]['HenID'].unique()\n",
    "                #if both hen have at least one record this day (typically not always all hen have values the first day of session)\n",
    "                if (h1 in li_hen_in) & (h2 in li_hen_in):\n",
    "                    l1 = df_daily[(df_daily['HenID']==h1)&(df_daily['level']==d)]['dur_values_normalized'].values[0]\n",
    "                    l2 = df_daily[(df_daily['HenID']==h2)&(df_daily['level']==d)]['dur_values_normalized'].values[0]\n",
    "                    chi2 = chi2_distance(l1,l2)\n",
    "                    M[i][j] = chi2\n",
    "                    M[j][i] = chi2\n",
    "        #clear old plot\n",
    "        plt.figure()\n",
    "        sns.set(font_scale=0.25) \n",
    "        sns.heatmap(M, cmap=\"YlGnBu\", xticklabels=axis_label, yticklabels=axis_label)\n",
    "        plt.title(d)\n",
    "        if save:\n",
    "            plt.savefig(os.path.join(path_,id_run+'_chi2distance_'+str(d).split('T')[0]+'_daily_'+'.png'), dpi=300,\n",
    "                        format='png',bbox_inches='tight')\n",
    "        #plt.show() \n",
    "        plt.close()\n",
    "\n"
   ]
  },
  {
   "cell_type": "code",
   "execution_count": null,
   "metadata": {},
   "outputs": [],
   "source": []
  },
  {
   "cell_type": "code",
   "execution_count": null,
   "metadata": {},
   "outputs": [],
   "source": []
  },
  {
   "cell_type": "code",
   "execution_count": null,
   "metadata": {},
   "outputs": [],
   "source": []
  },
  {
   "cell_type": "code",
   "execution_count": null,
   "metadata": {},
   "outputs": [],
   "source": []
  },
  {
   "cell_type": "code",
   "execution_count": null,
   "metadata": {},
   "outputs": [],
   "source": []
  },
  {
   "cell_type": "code",
   "execution_count": null,
   "metadata": {},
   "outputs": [],
   "source": []
  },
  {
   "cell_type": "code",
   "execution_count": null,
   "metadata": {},
   "outputs": [],
   "source": []
  },
  {
   "cell_type": "code",
   "execution_count": null,
   "metadata": {},
   "outputs": [],
   "source": []
  }
 ],
 "metadata": {
  "kernelspec": {
   "display_name": "Python 3 (ipykernel)",
   "language": "python",
   "name": "python3"
  },
  "language_info": {
   "codemirror_mode": {
    "name": "ipython",
    "version": 3
   },
   "file_extension": ".py",
   "mimetype": "text/x-python",
   "name": "python",
   "nbconvert_exporter": "python",
   "pygments_lexer": "ipython3",
   "version": "3.8.12"
  }
 },
 "nbformat": 4,
 "nbformat_minor": 2
}
