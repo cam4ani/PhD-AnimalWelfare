{
 "cells": [
  {
   "cell_type": "code",
   "execution_count": 1,
   "metadata": {},
   "outputs": [],
   "source": [
    "#basic package\n",
    "import tqdm\n",
    "import os\n",
    "import numpy as np\n",
    "import glob\n",
    "import pandas as pd\n",
    "import sys\n",
    "import time\n",
    "import datetime as dt\n",
    "import itertools\n",
    "import re\n",
    "import math\n",
    "from collections import Counter\n",
    "import operator\n",
    "from scipy import stats\n",
    "from scipy.spatial.distance import cdist #for euclidean distance of consistency\n",
    "from numpy import inf\n",
    "import networkx as nx\n",
    "from dtaidistance import dtw\n",
    "import random\n",
    "from sklearn.preprocessing import normalize\n",
    "import uuid #to generate random id\n",
    "import pickle #to save/load list of selected hens\n",
    "import cv2\n",
    "\n",
    "#test equal variance\n",
    "from scipy.stats import levene\n",
    "\n",
    "#clustering\n",
    "from sklearn.cluster import AgglomerativeClustering \n",
    "\n",
    "#scaling\n",
    "from sklearn.preprocessing import StandardScaler, MinMaxScaler\n",
    "\n",
    "#interpolate curves for clustering among birds with not exact same days tracked\n",
    "#from scipy.interpolate import interp1d\n",
    "\n",
    "#modelling\n",
    "from sklearn.preprocessing import StandardScaler, MinMaxScaler\n",
    "from sklearn.utils import shuffle\n",
    "from sklearn.metrics import classification_report, confusion_matrix, plot_confusion_matrix, cohen_kappa_score, r2_score,\\\n",
    "mean_squared_error, mean_absolute_error, explained_variance_score#catboost, for a better support of categorical data\n",
    "from catboost import CatBoostClassifier, Pool\n",
    "from scipy.stats import pearsonr, spearmanr \n",
    "import scipy.stats as stats\n",
    "\n",
    "#PCA\n",
    "from sklearn import decomposition\n",
    "\n",
    "#clustering\n",
    "from sklearn.cluster import KMeans #only numerical var\n",
    "from sklearn.metrics import silhouette_samples, silhouette_score\n",
    "import kmodes\n",
    "from kmodes.kmodes import KModes #with categorical var as well\n",
    "\n",
    "#plot\n",
    "import matplotlib.pyplot as plt\n",
    "import seaborn as sns\n",
    "import dexplot as dxp #for barplot\n",
    "from mpl_toolkits.mplot3d import Axes3D\n",
    "\n",
    "#network\n",
    "import networkx as nx"
   ]
  },
  {
   "cell_type": "code",
   "execution_count": 2,
   "metadata": {},
   "outputs": [
    {
     "name": "stderr",
     "output_type": "stream",
     "text": [
      "C:\\Users\\camil\\anaconda3\\lib\\site-packages\\scipy\\sparse\\sparsetools.py:21: DeprecationWarning: `scipy.sparse.sparsetools` is deprecated!\n",
      "scipy.sparse.sparsetools is a private module for scipy.sparse, and should not be used.\n",
      "  _deprecated()\n"
     ]
    },
    {
     "name": "stdout",
     "output_type": "stream",
     "text": [
      "2\n"
     ]
    }
   ],
   "source": [
    "PACKAGE_PARENT = '../'\n",
    "SCRIPT_DIR = os.path.dirname(os.path.realpath(os.path.join(os.getcwd(), os.path.expanduser('__file__'))))\n",
    "sys.path.append(os.path.normpath(os.path.join(SCRIPT_DIR, PACKAGE_PARENT)))\n",
    "from UTILS import chi2_distance, ts_visual, time_series_henColumn_tsRow, correct_key, FB_daily\n",
    "import config_origins as config"
   ]
  },
  {
   "cell_type": "markdown",
   "metadata": {},
   "source": [
    "# Define parameters"
   ]
  },
  {
   "cell_type": "code",
   "execution_count": 3,
   "metadata": {
    "scrolled": true
   },
   "outputs": [
    {
     "name": "stdout",
     "output_type": "stream",
     "text": [
      "change the configuration file if not done yet!\n",
      "correctlightschedule_\n"
     ]
    },
    {
     "name": "stderr",
     "output_type": "stream",
     "text": [
      "C:\\Users\\camil\\anaconda3\\lib\\site-packages\\ipykernel\\ipkernel.py:283: DeprecationWarning: `should_run_async` will not call `transform_cell` automatically in the future. Please pass the result to `transformed_cell` argument and any exception that happen during thetransform in `preprocessing_exc_tuple` in IPython 7.17 and above.\n",
      "  and should_run_async(code)\n"
     ]
    }
   ],
   "source": [
    "print('change the configuration file if not done yet!')\n",
    "path_extracted_data = config.path_extracted_data\n",
    "path_dataoutput = config.path_dataoutput\n",
    "path_initial_data = config.path_initial_data\n",
    "id_run = config.id_run\n",
    "#id_run = 'chapter0_final_'\n",
    "#path_dataoutput = r'G:\\VPHI\\Welfare\\2- Research Projects\\OFHE2.OriginsE2\\DataOutput'\n",
    "#path_extracted_data = os.path.join(path_dataoutput,'TrackingSystem') \n",
    "#path_extracted_data = os.path.join(path_extracted_data, id_run)\n",
    "dico_night_hour = config.dico_night_hour\n",
    "dico_matching = config.dico_matching\n",
    "li_binmn = config.li_binmn\n",
    "penalty = config.penalty\n",
    "dico_HAID_date = config.dico_HAID_date\n",
    "dico_window = config.dico_window\n",
    "path_extracted_HA = config.path_extracted_HA\n",
    "path_extracted_HA_visual = config.path_extracted_HA_visual\n",
    "path_extracted_data_SNA = config.path_extracted_data_SNA\n",
    "#create a director if not existing\n",
    "if not os.path.exists(path_extracted_HA_visual):\n",
    "    os.makedirs(path_extracted_HA_visual)\n",
    "print(id_run)"
   ]
  },
  {
   "cell_type": "markdown",
   "metadata": {},
   "source": [
    "# Download variables"
   ]
  },
  {
   "cell_type": "code",
   "execution_count": 4,
   "metadata": {},
   "outputs": [
    {
     "name": "stderr",
     "output_type": "stream",
     "text": [
      "C:\\Users\\camil\\anaconda3\\lib\\site-packages\\ipykernel\\ipkernel.py:283: DeprecationWarning: `should_run_async` will not call `transform_cell` automatically in the future. Please pass the result to `transformed_cell` argument and any exception that happen during thetransform in `preprocessing_exc_tuple` in IPython 7.17 and above.\n",
      "  and should_run_async(code)\n"
     ]
    },
    {
     "name": "stdout",
     "output_type": "stream",
     "text": [
      "(228, 13)\n"
     ]
    },
    {
     "data": {
      "text/html": [
       "<div>\n",
       "<style scoped>\n",
       "    .dataframe tbody tr th:only-of-type {\n",
       "        vertical-align: middle;\n",
       "    }\n",
       "\n",
       "    .dataframe tbody tr th {\n",
       "        vertical-align: top;\n",
       "    }\n",
       "\n",
       "    .dataframe thead th {\n",
       "        text-align: right;\n",
       "    }\n",
       "</style>\n",
       "<table border=\"1\" class=\"dataframe\">\n",
       "  <thead>\n",
       "    <tr style=\"text-align: right;\">\n",
       "      <th></th>\n",
       "      <th>HenID</th>\n",
       "      <th>PenID</th>\n",
       "      <th>CLASS</th>\n",
       "      <th>R-Pen</th>\n",
       "      <th>InitialStartDate</th>\n",
       "      <th>29-09 weight</th>\n",
       "      <th>10-12 juin weight</th>\n",
       "      <th>weight 23-11-2020</th>\n",
       "      <th>weight 04-01-2021</th>\n",
       "      <th>weight 01-02-21</th>\n",
       "      <th>weight 12-04-21</th>\n",
       "      <th>Treatment</th>\n",
       "      <th>percentage_of_gain_weight</th>\n",
       "    </tr>\n",
       "  </thead>\n",
       "  <tbody>\n",
       "    <tr>\n",
       "      <th>0</th>\n",
       "      <td>hen_1</td>\n",
       "      <td>9</td>\n",
       "      <td>EPI</td>\n",
       "      <td>1.0</td>\n",
       "      <td>2020-06-10</td>\n",
       "      <td>1134.0</td>\n",
       "      <td>57.0</td>\n",
       "      <td>1696.5</td>\n",
       "      <td>1787.8</td>\n",
       "      <td>1800.9</td>\n",
       "      <td>NaN</td>\n",
       "      <td>OFH</td>\n",
       "      <td>49.603175</td>\n",
       "    </tr>\n",
       "    <tr>\n",
       "      <th>1</th>\n",
       "      <td>hen_10</td>\n",
       "      <td>11</td>\n",
       "      <td>LEXP</td>\n",
       "      <td>1.0</td>\n",
       "      <td>2020-06-10</td>\n",
       "      <td>1070.0</td>\n",
       "      <td>70.4</td>\n",
       "      <td>1488.3</td>\n",
       "      <td>1628.4</td>\n",
       "      <td>1602.1</td>\n",
       "      <td>1587.2</td>\n",
       "      <td>OFH</td>\n",
       "      <td>39.093458</td>\n",
       "    </tr>\n",
       "    <tr>\n",
       "      <th>2</th>\n",
       "      <td>hen_100</td>\n",
       "      <td>5</td>\n",
       "      <td>EPI</td>\n",
       "      <td>3.0</td>\n",
       "      <td>2020-06-10</td>\n",
       "      <td>1182.0</td>\n",
       "      <td>80.5</td>\n",
       "      <td>1642.5</td>\n",
       "      <td>NaN</td>\n",
       "      <td>NaN</td>\n",
       "      <td>NaN</td>\n",
       "      <td>OFH</td>\n",
       "      <td>38.959391</td>\n",
       "    </tr>\n",
       "  </tbody>\n",
       "</table>\n",
       "</div>"
      ],
      "text/plain": [
       "     HenID  PenID CLASS  R-Pen InitialStartDate  29-09 weight  \\\n",
       "0    hen_1      9   EPI    1.0       2020-06-10        1134.0   \n",
       "1   hen_10     11  LEXP    1.0       2020-06-10        1070.0   \n",
       "2  hen_100      5   EPI    3.0       2020-06-10        1182.0   \n",
       "\n",
       "   10-12 juin weight  weight 23-11-2020  weight 04-01-2021  weight 01-02-21  \\\n",
       "0               57.0             1696.5             1787.8           1800.9   \n",
       "1               70.4             1488.3             1628.4           1602.1   \n",
       "2               80.5             1642.5                NaN              NaN   \n",
       "\n",
       "   weight 12-04-21 Treatment  percentage_of_gain_weight  \n",
       "0              NaN       OFH                  49.603175  \n",
       "1           1587.2       OFH                  39.093458  \n",
       "2              NaN       OFH                  38.959391  "
      ]
     },
     "execution_count": 4,
     "metadata": {},
     "output_type": "execute_result"
    }
   ],
   "source": [
    "#focal birds info (one row per bird) for weight\n",
    "df_FB = pd.read_csv(os.path.join(path_extracted_data,id_run+'df_FOCALBIRDS.csv'), sep=';', parse_dates=['InitialStartDate'],\n",
    "                     dayfirst=True) \n",
    "df_FB['percentage_of_gain_weight'] = df_FB.apply(lambda x: (x['weight 23-11-2020']-x['29-09 weight'])/x['29-09 weight']*100, axis=1)\n",
    "print(df_FB.shape)\n",
    "df_FB.head(3)"
   ]
  },
  {
   "cell_type": "code",
   "execution_count": 5,
   "metadata": {
    "scrolled": true
   },
   "outputs": [
    {
     "name": "stderr",
     "output_type": "stream",
     "text": [
      "C:\\Users\\camil\\anaconda3\\lib\\site-packages\\ipykernel\\ipkernel.py:283: DeprecationWarning: `should_run_async` will not call `transform_cell` automatically in the future. Please pass the result to `transformed_cell` argument and any exception that happen during thetransform in `preprocessing_exc_tuple` in IPython 7.17 and above.\n",
      "  and should_run_async(code)\n"
     ]
    },
    {
     "name": "stdout",
     "output_type": "stream",
     "text": [
      "--------------------- HA1\n"
     ]
    },
    {
     "name": "stderr",
     "output_type": "stream",
     "text": [
      "C:\\Users\\camil\\anaconda3\\lib\\site-packages\\IPython\\core\\interactiveshell.py:3146: DtypeWarning: Columns (0,1,3,4,6,16) have mixed types.Specify dtype option on import or set low_memory=False.\n",
      "  has_raised = await self.run_ast_nodes(code_ast.body, cell_name,\n"
     ]
    },
    {
     "name": "stdout",
     "output_type": "stream",
     "text": [
      "(257, 20)\n",
      "--------------------- HA2\n",
      "(256, 28)\n",
      "--------------------- HA3\n"
     ]
    },
    {
     "name": "stderr",
     "output_type": "stream",
     "text": [
      "C:\\Users\\camil\\anaconda3\\lib\\site-packages\\IPython\\core\\interactiveshell.py:3146: DtypeWarning: Columns (0,3,5,14,15,16,24) have mixed types.Specify dtype option on import or set low_memory=False.\n",
      "  has_raised = await self.run_ast_nodes(code_ast.body, cell_name,\n"
     ]
    },
    {
     "name": "stdout",
     "output_type": "stream",
     "text": [
      "(260, 28)\n",
      "--------------------- HA4\n"
     ]
    },
    {
     "name": "stderr",
     "output_type": "stream",
     "text": [
      "C:\\Users\\camil\\anaconda3\\lib\\site-packages\\IPython\\core\\interactiveshell.py:3146: DtypeWarning: Columns (0,1,3,5,14,15,16,17) have mixed types.Specify dtype option on import or set low_memory=False.\n",
      "  has_raised = await self.run_ast_nodes(code_ast.body, cell_name,\n"
     ]
    },
    {
     "name": "stdout",
     "output_type": "stream",
     "text": [
      "(273, 28)\n",
      "Index(['Person_toe', 'Time', 'PenID', 'FocalLegringName', 'Bird type',\n",
      "       'CombPecks', 'Toes', 'RFPododermatitis', 'RFBumblefoot', 'RFinjuries',\n",
      "       'LFPododermatitis', 'LFBumblefoot', 'LFinjuries', 'Reliability_MC',\n",
      "       'PassageID', 'Diarrhea', 'Commentaires', 'SomeHenID', 'HAID', 'date',\n",
      "       'Claw', 'BirdType', 'Person_feather', 'Reliability_SS', 'NeckFeather',\n",
      "       'BreastFeather', 'CloacaFeather', 'BackFeather', 'WingFeather',\n",
      "       'TailFeather'],\n",
      "      dtype='object')\n",
      "(1046, 30)\n"
     ]
    },
    {
     "data": {
      "text/html": [
       "<div>\n",
       "<style scoped>\n",
       "    .dataframe tbody tr th:only-of-type {\n",
       "        vertical-align: middle;\n",
       "    }\n",
       "\n",
       "    .dataframe tbody tr th {\n",
       "        vertical-align: top;\n",
       "    }\n",
       "\n",
       "    .dataframe thead th {\n",
       "        text-align: right;\n",
       "    }\n",
       "</style>\n",
       "<table border=\"1\" class=\"dataframe\">\n",
       "  <thead>\n",
       "    <tr style=\"text-align: right;\">\n",
       "      <th></th>\n",
       "      <th>Person_toe</th>\n",
       "      <th>Time</th>\n",
       "      <th>PenID</th>\n",
       "      <th>FocalLegringName</th>\n",
       "      <th>Bird type</th>\n",
       "      <th>CombPecks</th>\n",
       "      <th>Toes</th>\n",
       "      <th>RFPododermatitis</th>\n",
       "      <th>RFBumblefoot</th>\n",
       "      <th>RFinjuries</th>\n",
       "      <th>...</th>\n",
       "      <th>Claw</th>\n",
       "      <th>BirdType</th>\n",
       "      <th>Person_feather</th>\n",
       "      <th>Reliability_SS</th>\n",
       "      <th>NeckFeather</th>\n",
       "      <th>BreastFeather</th>\n",
       "      <th>CloacaFeather</th>\n",
       "      <th>BackFeather</th>\n",
       "      <th>WingFeather</th>\n",
       "      <th>TailFeather</th>\n",
       "    </tr>\n",
       "  </thead>\n",
       "  <tbody>\n",
       "    <tr>\n",
       "      <th>0</th>\n",
       "      <td>M</td>\n",
       "      <td>16:15</td>\n",
       "      <td>pen3</td>\n",
       "      <td>1green</td>\n",
       "      <td>normal</td>\n",
       "      <td>0.0</td>\n",
       "      <td>NaN</td>\n",
       "      <td>0.0</td>\n",
       "      <td>0.0</td>\n",
       "      <td>0.0</td>\n",
       "      <td>...</td>\n",
       "      <td>NaN</td>\n",
       "      <td>normal</td>\n",
       "      <td>NaN</td>\n",
       "      <td>NaN</td>\n",
       "      <td>NaN</td>\n",
       "      <td>NaN</td>\n",
       "      <td>NaN</td>\n",
       "      <td>NaN</td>\n",
       "      <td>NaN</td>\n",
       "      <td>NaN</td>\n",
       "    </tr>\n",
       "    <tr>\n",
       "      <th>1</th>\n",
       "      <td>M</td>\n",
       "      <td>13:59</td>\n",
       "      <td>pen5</td>\n",
       "      <td>10green</td>\n",
       "      <td>epi</td>\n",
       "      <td>0.0</td>\n",
       "      <td>NaN</td>\n",
       "      <td>0.0</td>\n",
       "      <td>0.0</td>\n",
       "      <td>0.0</td>\n",
       "      <td>...</td>\n",
       "      <td>NaN</td>\n",
       "      <td>normal</td>\n",
       "      <td>NaN</td>\n",
       "      <td>NaN</td>\n",
       "      <td>NaN</td>\n",
       "      <td>NaN</td>\n",
       "      <td>NaN</td>\n",
       "      <td>NaN</td>\n",
       "      <td>NaN</td>\n",
       "      <td>NaN</td>\n",
       "    </tr>\n",
       "    <tr>\n",
       "      <th>2</th>\n",
       "      <td>M</td>\n",
       "      <td>16:14</td>\n",
       "      <td>pen3</td>\n",
       "      <td>11grey</td>\n",
       "      <td>normal</td>\n",
       "      <td>88.0</td>\n",
       "      <td>NaN</td>\n",
       "      <td>0.0</td>\n",
       "      <td>0.0</td>\n",
       "      <td>0.0</td>\n",
       "      <td>...</td>\n",
       "      <td>NaN</td>\n",
       "      <td>normal</td>\n",
       "      <td>NaN</td>\n",
       "      <td>NaN</td>\n",
       "      <td>NaN</td>\n",
       "      <td>NaN</td>\n",
       "      <td>NaN</td>\n",
       "      <td>NaN</td>\n",
       "      <td>NaN</td>\n",
       "      <td>NaN</td>\n",
       "    </tr>\n",
       "  </tbody>\n",
       "</table>\n",
       "<p>3 rows × 30 columns</p>\n",
       "</div>"
      ],
      "text/plain": [
       "  Person_toe   Time PenID FocalLegringName Bird type  CombPecks Toes  \\\n",
       "0          M  16:15  pen3           1green    normal        0.0  NaN   \n",
       "1          M  13:59  pen5          10green       epi        0.0  NaN   \n",
       "2          M  16:14  pen3           11grey    normal       88.0  NaN   \n",
       "\n",
       "   RFPododermatitis  RFBumblefoot  RFinjuries  ...  Claw  BirdType  \\\n",
       "0               0.0           0.0         0.0  ...   NaN    normal   \n",
       "1               0.0           0.0         0.0  ...   NaN    normal   \n",
       "2               0.0           0.0         0.0  ...   NaN    normal   \n",
       "\n",
       "   Person_feather  Reliability_SS  NeckFeather BreastFeather CloacaFeather  \\\n",
       "0             NaN             NaN          NaN           NaN           NaN   \n",
       "1             NaN             NaN          NaN           NaN           NaN   \n",
       "2             NaN             NaN          NaN           NaN           NaN   \n",
       "\n",
       "   BackFeather WingFeather TailFeather  \n",
       "0          NaN         NaN         NaN  \n",
       "1          NaN         NaN         NaN  \n",
       "2          NaN         NaN         NaN  \n",
       "\n",
       "[3 rows x 30 columns]"
      ]
     },
     "execution_count": 5,
     "metadata": {},
     "output_type": "execute_result"
    }
   ],
   "source": [
    "#HA - feather & leg injuries/podo/bumble\n",
    "#search in any folder and creat a list of img paths\n",
    "#os.walk: Python method walk() generates the file names in a directory tree by walking the tree top-down or bottom-up\n",
    "#to avoid saving images several times, we will do it specifically for images in the KBF folder:\n",
    "li_df = []\n",
    "for path_ in glob.glob(os.path.join(path_dataoutput, 'HA', 'HA*', 'HA*.csv')):\n",
    "    HAID = path_.split('\\\\')[-1].split('.')[0]\n",
    "    print('---------------------', HAID)\n",
    "    df_ = pd.read_csv(path_, sep=';') \n",
    "    df_['HAID'] = HAID\n",
    "    df_['date'] = dico_HAID_date[HAID]\n",
    "    df_ = df_.rename(columns={'Pen ':'Pen'})\n",
    "    df_ = df_[~df_['FocalLegringName'].isnull()]\n",
    "    print(df_.shape)\n",
    "    #print(df_.columns)\n",
    "    #display(df_.head(2))\n",
    "    li_df.append(df_)\n",
    "df_HA = pd.concat(li_df)\n",
    "#small typo corrections\n",
    "df_HA['BirdType'] = df_HA['BirdType'].fillna('normal')\n",
    "df_HA['BirdType'] = df_HA['BirdType'].map(lambda x: x.strip(' '))\n",
    "df_HA = df_HA.rename(columns={'Pen':'PenID'})\n",
    "df_HA['PenID'] = df_HA['PenID'].map(lambda x: 'pen'+str(int(x)))\n",
    "print(df_HA.columns)\n",
    "print(df_HA.shape)\n",
    "df_HA.head(3)"
   ]
  },
  {
   "cell_type": "code",
   "execution_count": 6,
   "metadata": {},
   "outputs": [
    {
     "name": "stderr",
     "output_type": "stream",
     "text": [
      "C:\\Users\\camil\\anaconda3\\lib\\site-packages\\ipykernel\\ipkernel.py:283: DeprecationWarning: `should_run_async` will not call `transform_cell` automatically in the future. Please pass the result to `transformed_cell` argument and any exception that happen during thetransform in `preprocessing_exc_tuple` in IPython 7.17 and above.\n",
      "  and should_run_async(code)\n",
      "<>:4: DeprecationWarning: invalid escape sequence \\d\n",
      "<>:4: DeprecationWarning: invalid escape sequence \\d\n",
      "<ipython-input-6-7a1cb6274e8b>:4: DeprecationWarning: invalid escape sequence \\d\n",
      "  df_KBF['Info'] = df_KBF['BirdID'].map(lambda x: re.split('(\\d+)',x.strip(' ')))\n"
     ]
    },
    {
     "name": "stdout",
     "output_type": "stream",
     "text": [
      "(528, 13)\n"
     ]
    },
    {
     "data": {
      "text/html": [
       "<div>\n",
       "<style scoped>\n",
       "    .dataframe tbody tr th:only-of-type {\n",
       "        vertical-align: middle;\n",
       "    }\n",
       "\n",
       "    .dataframe tbody tr th {\n",
       "        vertical-align: top;\n",
       "    }\n",
       "\n",
       "    .dataframe thead th {\n",
       "        text-align: right;\n",
       "    }\n",
       "</style>\n",
       "<table border=\"1\" class=\"dataframe\">\n",
       "  <thead>\n",
       "    <tr style=\"text-align: right;\">\n",
       "      <th></th>\n",
       "      <th>initial_path_img</th>\n",
       "      <th>actual_path_img</th>\n",
       "      <th>imageID</th>\n",
       "      <th>HAID</th>\n",
       "      <th>random_order1</th>\n",
       "      <th>severity</th>\n",
       "      <th>has_gap</th>\n",
       "      <th>BirdID</th>\n",
       "      <th>uncertainty (0:certain:1 random)</th>\n",
       "      <th>Info</th>\n",
       "      <th>PenID</th>\n",
       "      <th>FocalLegringName</th>\n",
       "      <th>backpack</th>\n",
       "    </tr>\n",
       "  </thead>\n",
       "  <tbody>\n",
       "    <tr>\n",
       "      <th>0</th>\n",
       "      <td>G:\\VPHI\\Welfare\\2- Research Projects\\OFHE2.Ori...</td>\n",
       "      <td>G:\\VPHI\\Welfare\\2- Research Projects\\OFHE2.Ori...</td>\n",
       "      <td>0.0</td>\n",
       "      <td>HA4</td>\n",
       "      <td>294.0</td>\n",
       "      <td>20</td>\n",
       "      <td>0.0</td>\n",
       "      <td>57green5pp</td>\n",
       "      <td>NaN</td>\n",
       "      <td>[, 57, green, 5, pp]</td>\n",
       "      <td>pen5</td>\n",
       "      <td>57green</td>\n",
       "      <td>pp</td>\n",
       "    </tr>\n",
       "    <tr>\n",
       "      <th>1</th>\n",
       "      <td>G:\\VPHI\\Welfare\\2- Research Projects\\OFHE2.Ori...</td>\n",
       "      <td>G:\\VPHI\\Welfare\\2- Research Projects\\OFHE2.Ori...</td>\n",
       "      <td>1.0</td>\n",
       "      <td>HA4</td>\n",
       "      <td>461.0</td>\n",
       "      <td>18</td>\n",
       "      <td>0.0</td>\n",
       "      <td>56orange12sg</td>\n",
       "      <td>NaN</td>\n",
       "      <td>[, 56, orange, 12, sg]</td>\n",
       "      <td>pen12</td>\n",
       "      <td>56orange</td>\n",
       "      <td>sg</td>\n",
       "    </tr>\n",
       "    <tr>\n",
       "      <th>2</th>\n",
       "      <td>G:\\VPHI\\Welfare\\2- Research Projects\\OFHE2.Ori...</td>\n",
       "      <td>G:\\VPHI\\Welfare\\2- Research Projects\\OFHE2.Ori...</td>\n",
       "      <td>2.0</td>\n",
       "      <td>HA3</td>\n",
       "      <td>78.0</td>\n",
       "      <td>0</td>\n",
       "      <td>0.0</td>\n",
       "      <td>29black8wp</td>\n",
       "      <td>NaN</td>\n",
       "      <td>[, 29, black, 8, wp]</td>\n",
       "      <td>pen8</td>\n",
       "      <td>29black</td>\n",
       "      <td>wp</td>\n",
       "    </tr>\n",
       "  </tbody>\n",
       "</table>\n",
       "</div>"
      ],
      "text/plain": [
       "                                    initial_path_img  \\\n",
       "0  G:\\VPHI\\Welfare\\2- Research Projects\\OFHE2.Ori...   \n",
       "1  G:\\VPHI\\Welfare\\2- Research Projects\\OFHE2.Ori...   \n",
       "2  G:\\VPHI\\Welfare\\2- Research Projects\\OFHE2.Ori...   \n",
       "\n",
       "                                     actual_path_img  imageID HAID  \\\n",
       "0  G:\\VPHI\\Welfare\\2- Research Projects\\OFHE2.Ori...      0.0  HA4   \n",
       "1  G:\\VPHI\\Welfare\\2- Research Projects\\OFHE2.Ori...      1.0  HA4   \n",
       "2  G:\\VPHI\\Welfare\\2- Research Projects\\OFHE2.Ori...      2.0  HA3   \n",
       "\n",
       "   random_order1  severity  has_gap        BirdID  \\\n",
       "0          294.0        20      0.0    57green5pp   \n",
       "1          461.0        18      0.0  56orange12sg   \n",
       "2           78.0         0      0.0    29black8wp   \n",
       "\n",
       "  uncertainty (0:certain:1 random)                    Info  PenID  \\\n",
       "0                              NaN    [, 57, green, 5, pp]   pen5   \n",
       "1                              NaN  [, 56, orange, 12, sg]  pen12   \n",
       "2                              NaN    [, 29, black, 8, wp]   pen8   \n",
       "\n",
       "  FocalLegringName backpack  \n",
       "0          57green       pp  \n",
       "1         56orange       sg  \n",
       "2          29black       wp  "
      ]
     },
     "execution_count": 6,
     "metadata": {},
     "output_type": "execute_result"
    }
   ],
   "source": [
    "#KBF\n",
    "df_KBF = pd.read_csv(os.path.join(path_extracted_HA, 'KBF_ALL_RECORDS.csv'), sep=';', engine='python') \n",
    "df_KBF = df_KBF[~df_KBF['BirdID'].isnull()]\n",
    "df_KBF['Info'] = df_KBF['BirdID'].map(lambda x: re.split('(\\d+)',x.strip(' ')))\n",
    "df_KBF['PenID'] = df_KBF['Info'].map(lambda x: 'pen'+str(int(x[3])))\n",
    "df_KBF['FocalLegringName'] = df_KBF['Info'].map(lambda x: str(int(x[1]))+str(x[2]))\n",
    "df_KBF['backpack'] = df_KBF['Info'].map(lambda x: x[-1])\n",
    "print(df_KBF.shape)\n",
    "df_KBF.head(3)"
   ]
  },
  {
   "cell_type": "markdown",
   "metadata": {},
   "source": [
    "# add HenID & weight to HA"
   ]
  },
  {
   "cell_type": "code",
   "execution_count": 7,
   "metadata": {
    "scrolled": true
   },
   "outputs": [
    {
     "name": "stderr",
     "output_type": "stream",
     "text": [
      "C:\\Users\\camil\\anaconda3\\lib\\site-packages\\ipykernel\\ipkernel.py:283: DeprecationWarning: `should_run_async` will not call `transform_cell` automatically in the future. Please pass the result to `transformed_cell` argument and any exception that happen during thetransform in `preprocessing_exc_tuple` in IPython 7.17 and above.\n",
      "  and should_run_async(code)\n"
     ]
    },
    {
     "name": "stdout",
     "output_type": "stream",
     "text": [
      "From the focalBirdinfo, you have 158 ative tags\n",
      "(39489, 30)\n"
     ]
    },
    {
     "data": {
      "text/html": [
       "<div>\n",
       "<style scoped>\n",
       "    .dataframe tbody tr th:only-of-type {\n",
       "        vertical-align: middle;\n",
       "    }\n",
       "\n",
       "    .dataframe tbody tr th {\n",
       "        vertical-align: top;\n",
       "    }\n",
       "\n",
       "    .dataframe thead th {\n",
       "        text-align: right;\n",
       "    }\n",
       "</style>\n",
       "<table border=\"1\" class=\"dataframe\">\n",
       "  <thead>\n",
       "    <tr style=\"text-align: right;\">\n",
       "      <th></th>\n",
       "      <th>date</th>\n",
       "      <th>FocalLegringName</th>\n",
       "      <th>PenID</th>\n",
       "      <th>HenID</th>\n",
       "    </tr>\n",
       "  </thead>\n",
       "  <tbody>\n",
       "    <tr>\n",
       "      <th>0</th>\n",
       "      <td>2020-09-29</td>\n",
       "      <td>3grey</td>\n",
       "      <td>pen9</td>\n",
       "      <td>1</td>\n",
       "    </tr>\n",
       "    <tr>\n",
       "      <th>1</th>\n",
       "      <td>2020-09-30</td>\n",
       "      <td>3grey</td>\n",
       "      <td>pen9</td>\n",
       "      <td>1</td>\n",
       "    </tr>\n",
       "    <tr>\n",
       "      <th>2</th>\n",
       "      <td>2020-10-01</td>\n",
       "      <td>3grey</td>\n",
       "      <td>pen9</td>\n",
       "      <td>1</td>\n",
       "    </tr>\n",
       "  </tbody>\n",
       "</table>\n",
       "</div>"
      ],
      "text/plain": [
       "        date FocalLegringName PenID  HenID\n",
       "0 2020-09-29            3grey  pen9      1\n",
       "1 2020-09-30            3grey  pen9      1\n",
       "2 2020-10-01            3grey  pen9      1"
      ]
     },
     "metadata": {},
     "output_type": "display_data"
    },
    {
     "name": "stdout",
     "output_type": "stream",
     "text": [
      "(1046, 30) (39489, 30) (1050, 31)\n"
     ]
    },
    {
     "data": {
      "text/html": [
       "<div>\n",
       "<style scoped>\n",
       "    .dataframe tbody tr th:only-of-type {\n",
       "        vertical-align: middle;\n",
       "    }\n",
       "\n",
       "    .dataframe tbody tr th {\n",
       "        vertical-align: top;\n",
       "    }\n",
       "\n",
       "    .dataframe thead th {\n",
       "        text-align: right;\n",
       "    }\n",
       "</style>\n",
       "<table border=\"1\" class=\"dataframe\">\n",
       "  <thead>\n",
       "    <tr style=\"text-align: right;\">\n",
       "      <th></th>\n",
       "      <th>Person_toe</th>\n",
       "      <th>Time</th>\n",
       "      <th>PenID</th>\n",
       "      <th>FocalLegringName</th>\n",
       "      <th>Bird type</th>\n",
       "      <th>CombPecks</th>\n",
       "      <th>Toes</th>\n",
       "      <th>RFPododermatitis</th>\n",
       "      <th>RFBumblefoot</th>\n",
       "      <th>RFinjuries</th>\n",
       "      <th>...</th>\n",
       "      <th>BirdType</th>\n",
       "      <th>Person_feather</th>\n",
       "      <th>Reliability_SS</th>\n",
       "      <th>NeckFeather</th>\n",
       "      <th>BreastFeather</th>\n",
       "      <th>CloacaFeather</th>\n",
       "      <th>BackFeather</th>\n",
       "      <th>WingFeather</th>\n",
       "      <th>TailFeather</th>\n",
       "      <th>HenID</th>\n",
       "    </tr>\n",
       "  </thead>\n",
       "  <tbody>\n",
       "    <tr>\n",
       "      <th>100</th>\n",
       "      <td>C</td>\n",
       "      <td>13:48</td>\n",
       "      <td>pen8</td>\n",
       "      <td>35black</td>\n",
       "      <td>normal</td>\n",
       "      <td>0.0</td>\n",
       "      <td>NaN</td>\n",
       "      <td>0.0</td>\n",
       "      <td>0.0</td>\n",
       "      <td>0.0</td>\n",
       "      <td>...</td>\n",
       "      <td>normal</td>\n",
       "      <td>NaN</td>\n",
       "      <td>NaN</td>\n",
       "      <td>NaN</td>\n",
       "      <td>NaN</td>\n",
       "      <td>NaN</td>\n",
       "      <td>NaN</td>\n",
       "      <td>NaN</td>\n",
       "      <td>NaN</td>\n",
       "      <td>NaN</td>\n",
       "    </tr>\n",
       "  </tbody>\n",
       "</table>\n",
       "<p>1 rows × 31 columns</p>\n",
       "</div>"
      ],
      "text/plain": [
       "    Person_toe   Time PenID FocalLegringName Bird type  CombPecks Toes  \\\n",
       "100          C  13:48  pen8          35black    normal        0.0  NaN   \n",
       "\n",
       "     RFPododermatitis  RFBumblefoot  RFinjuries  ...  BirdType  \\\n",
       "100               0.0           0.0         0.0  ...    normal   \n",
       "\n",
       "     Person_feather  Reliability_SS  NeckFeather  BreastFeather CloacaFeather  \\\n",
       "100             NaN             NaN          NaN            NaN           NaN   \n",
       "\n",
       "    BackFeather  WingFeather TailFeather HenID  \n",
       "100         NaN          NaN         NaN   NaN  \n",
       "\n",
       "[1 rows x 31 columns]"
      ]
     },
     "metadata": {},
     "output_type": "display_data"
    },
    {
     "name": "stdout",
     "output_type": "stream",
     "text": [
      "(1049, 31)\n"
     ]
    },
    {
     "data": {
      "text/html": [
       "<div>\n",
       "<style scoped>\n",
       "    .dataframe tbody tr th:only-of-type {\n",
       "        vertical-align: middle;\n",
       "    }\n",
       "\n",
       "    .dataframe tbody tr th {\n",
       "        vertical-align: top;\n",
       "    }\n",
       "\n",
       "    .dataframe thead th {\n",
       "        text-align: right;\n",
       "    }\n",
       "</style>\n",
       "<table border=\"1\" class=\"dataframe\">\n",
       "  <thead>\n",
       "    <tr style=\"text-align: right;\">\n",
       "      <th></th>\n",
       "      <th>Person_toe</th>\n",
       "      <th>Time</th>\n",
       "      <th>PenID</th>\n",
       "      <th>FocalLegringName</th>\n",
       "      <th>Bird type</th>\n",
       "      <th>CombPecks</th>\n",
       "      <th>Toes</th>\n",
       "      <th>RFPododermatitis</th>\n",
       "      <th>RFBumblefoot</th>\n",
       "      <th>RFinjuries</th>\n",
       "      <th>...</th>\n",
       "      <th>BirdType</th>\n",
       "      <th>Person_feather</th>\n",
       "      <th>Reliability_SS</th>\n",
       "      <th>NeckFeather</th>\n",
       "      <th>BreastFeather</th>\n",
       "      <th>CloacaFeather</th>\n",
       "      <th>BackFeather</th>\n",
       "      <th>WingFeather</th>\n",
       "      <th>TailFeather</th>\n",
       "      <th>HenID</th>\n",
       "    </tr>\n",
       "  </thead>\n",
       "  <tbody>\n",
       "    <tr>\n",
       "      <th>0</th>\n",
       "      <td>M</td>\n",
       "      <td>16:15</td>\n",
       "      <td>pen3</td>\n",
       "      <td>1green</td>\n",
       "      <td>normal</td>\n",
       "      <td>0.0</td>\n",
       "      <td>NaN</td>\n",
       "      <td>0.0</td>\n",
       "      <td>0.0</td>\n",
       "      <td>0.0</td>\n",
       "      <td>...</td>\n",
       "      <td>normal</td>\n",
       "      <td>Sabine</td>\n",
       "      <td>NaN</td>\n",
       "      <td>NaN</td>\n",
       "      <td>NaN</td>\n",
       "      <td>NaN</td>\n",
       "      <td>NaN</td>\n",
       "      <td>NaN</td>\n",
       "      <td>NaN</td>\n",
       "      <td>hen_81</td>\n",
       "    </tr>\n",
       "    <tr>\n",
       "      <th>1</th>\n",
       "      <td>M</td>\n",
       "      <td>13:59</td>\n",
       "      <td>pen5</td>\n",
       "      <td>10green</td>\n",
       "      <td>epi</td>\n",
       "      <td>0.0</td>\n",
       "      <td>NaN</td>\n",
       "      <td>0.0</td>\n",
       "      <td>0.0</td>\n",
       "      <td>0.0</td>\n",
       "      <td>...</td>\n",
       "      <td>normal</td>\n",
       "      <td>Sabine</td>\n",
       "      <td>NaN</td>\n",
       "      <td>NaN</td>\n",
       "      <td>NaN</td>\n",
       "      <td>NaN</td>\n",
       "      <td>NaN</td>\n",
       "      <td>NaN</td>\n",
       "      <td>NaN</td>\n",
       "      <td>hen_88</td>\n",
       "    </tr>\n",
       "    <tr>\n",
       "      <th>2</th>\n",
       "      <td>M</td>\n",
       "      <td>16:14</td>\n",
       "      <td>pen3</td>\n",
       "      <td>11grey</td>\n",
       "      <td>normal</td>\n",
       "      <td>88.0</td>\n",
       "      <td>NaN</td>\n",
       "      <td>0.0</td>\n",
       "      <td>0.0</td>\n",
       "      <td>0.0</td>\n",
       "      <td>...</td>\n",
       "      <td>normal</td>\n",
       "      <td>Sabine</td>\n",
       "      <td>NaN</td>\n",
       "      <td>NaN</td>\n",
       "      <td>NaN</td>\n",
       "      <td>NaN</td>\n",
       "      <td>NaN</td>\n",
       "      <td>NaN</td>\n",
       "      <td>NaN</td>\n",
       "      <td>hen_4</td>\n",
       "    </tr>\n",
       "  </tbody>\n",
       "</table>\n",
       "<p>3 rows × 31 columns</p>\n",
       "</div>"
      ],
      "text/plain": [
       "  Person_toe   Time PenID FocalLegringName Bird type  CombPecks Toes  \\\n",
       "0          M  16:15  pen3           1green    normal        0.0  NaN   \n",
       "1          M  13:59  pen5          10green       epi        0.0  NaN   \n",
       "2          M  16:14  pen3           11grey    normal       88.0  NaN   \n",
       "\n",
       "   RFPododermatitis  RFBumblefoot  RFinjuries  ...  BirdType  Person_feather  \\\n",
       "0               0.0           0.0         0.0  ...    normal          Sabine   \n",
       "1               0.0           0.0         0.0  ...    normal          Sabine   \n",
       "2               0.0           0.0         0.0  ...    normal          Sabine   \n",
       "\n",
       "   Reliability_SS  NeckFeather  BreastFeather CloacaFeather BackFeather  \\\n",
       "0             NaN          NaN            NaN           NaN         NaN   \n",
       "1             NaN          NaN            NaN           NaN         NaN   \n",
       "2             NaN          NaN            NaN           NaN         NaN   \n",
       "\n",
       "   WingFeather TailFeather   HenID  \n",
       "0          NaN         NaN  hen_81  \n",
       "1          NaN         NaN  hen_88  \n",
       "2          NaN         NaN   hen_4  \n",
       "\n",
       "[3 rows x 31 columns]"
      ]
     },
     "execution_count": 7,
     "metadata": {},
     "output_type": "execute_result"
    }
   ],
   "source": [
    "######## create one dataframae with all HA and with HenID!\n",
    "#open info\n",
    "df_FB_daily = FB_daily(config)\n",
    "print(df_FB_daily.shape)\n",
    "df_FB_daily['PenID'] = df_FB_daily['PenID'].map(lambda x: 'pen'+str(int(x)))\n",
    "display(df_FB_daily[['date','FocalLegringName','PenID','HenID']].head(3))\n",
    "df_FB_daily['date'].iloc[0]\n",
    "#remove typos\n",
    "for v in ['FocalLegringName','PenID']:\n",
    "    df_HA[v] = df_HA[v].map(lambda x: x.strip(' '))\n",
    "    df_FB_daily[v] = df_FB_daily[v].map(lambda x: x.strip(' '))\n",
    "#as epi and epi_new are exchanged during HA; we should take the date before/ respec. after HA to match. \n",
    "#to avoid any confusioon we enter them by hand (in column SomeHenID). Same for new legrings!\n",
    "df_HA_HenID = pd.merge(df_HA, df_FB_daily[['date','FocalLegringName','PenID','HenID']], \n",
    "                  on=['date','FocalLegringName','PenID'], how='left') \n",
    "print(df_HA.shape, df_FB_daily.shape, df_HA_HenID.shape)\n",
    "#add the manually the anotated HenID (to avoid mistakes, in the case we would change legring or have two \n",
    "#birds from same pen with same legringID (different tagID), Then we would simply annotated manually the HenID when entering \n",
    "#the HA observations)\n",
    "df_HA_HenID['HenID'] = np.where(~df_HA_HenID['SomeHenID'].isnull(), df_HA_HenID['SomeHenID'], df_HA_HenID['HenID']) \n",
    "#small verification\n",
    "#display(df_HA_HenID[~df_HA_HenID['SomeHenID'].isnull()][['SomeHenID','HenID']])\n",
    "###small verification\n",
    "#print(df_HA_HenID[df_HA_HenID['HenID'].isnull()][['date','HAID','PenID','HenID','FocalLegringName']].shape)\n",
    "#df_ = df_HA_HenID[df_HA_HenID['HenID'].isnull()][['date','HAID','PenID','HenID','FocalLegringName']].groupby(['date','HAID','PenID'])['FocalLegringName'].agg(lambda x: set(x)).reset_index()\n",
    "#df_['nbr_NA_legringID'] = df_['FocalLegringName'].map(lambda x: len(x))\n",
    "#bird 35 black on HA1 pen 8 was excluded due to missfucntioning tag: this it doe snot match any henid, but thats normal\n",
    "#print('HERE IS THE OBSERVAION DURING HA THAT DO NOT MATCH ANY HENID:')\n",
    "#display(df_)\n",
    "display(df_HA_HenID[df_HA_HenID['HenID'].isnull()])\n",
    "df_HA_HenID = df_HA_HenID[~df_HA_HenID['HenID'].isnull()]\n",
    "df_HA_HenID['HenID'] = df_HA_HenID['HenID'].map(lambda x: 'hen_'+str(int(x)))\n",
    "#small typos\n",
    "#for now we replace nan with the one we will select, and then we select randomly\n",
    "df_HA_HenID['Person_toe'] = df_HA_HenID['Person_toe'].fillna('C')\n",
    "df_HA_HenID['Person_feather'] = df_HA_HenID['Person_feather'].fillna('Sabine')\n",
    "df_HA_HenID['Person_toe'] = df_HA_HenID['Person_toe'].map(lambda x: x.strip(' '))\n",
    "df_HA_HenID['Person_feather'] = df_HA_HenID['Person_feather'].map(lambda x: x.strip(' '))\n",
    "print(df_HA_HenID.shape)\n",
    "df_HA_HenID.head(3)"
   ]
  },
  {
   "cell_type": "code",
   "execution_count": 8,
   "metadata": {},
   "outputs": [
    {
     "name": "stderr",
     "output_type": "stream",
     "text": [
      "C:\\Users\\camil\\anaconda3\\lib\\site-packages\\ipykernel\\ipkernel.py:283: DeprecationWarning: `should_run_async` will not call `transform_cell` automatically in the future. Please pass the result to `transformed_cell` argument and any exception that happen during thetransform in `preprocessing_exc_tuple` in IPython 7.17 and above.\n",
      "  and should_run_async(code)\n"
     ]
    }
   ],
   "source": [
    "#display(df_HA_HenID[(df_HA_HenID['PenID']=='pen11')&(df_HA_HenID['HAID']=='HA4')&(df_HA_HenID['FocalLegringName']=='28green')][['HAID','Person_feather','Person_toe','Reliability_MC','Reliability_SS']])"
   ]
  },
  {
   "cell_type": "code",
   "execution_count": 9,
   "metadata": {},
   "outputs": [
    {
     "name": "stdout",
     "output_type": "stream",
     "text": [
      "(1049, 32)\n",
      "(867, 32)\n",
      "(688, 32)\n"
     ]
    },
    {
     "name": "stderr",
     "output_type": "stream",
     "text": [
      "C:\\Users\\camil\\anaconda3\\lib\\site-packages\\ipykernel\\ipkernel.py:283: DeprecationWarning: `should_run_async` will not call `transform_cell` automatically in the future. Please pass the result to `transformed_cell` argument and any exception that happen during thetransform in `preprocessing_exc_tuple` in IPython 7.17 and above.\n",
      "  and should_run_async(code)\n",
      "<ipython-input-9-ced6d856e924>:12: FutureWarning: Indexing with multiple keys (implicitly converted to a tuple of keys) will be deprecated, use a list instead.\n",
      "  df_ = df_HA_HenID.groupby(['HenID','HAID'])['Person_toe','Person_feather'].agg(lambda x: list(x)).reset_index()\n"
     ]
    },
    {
     "data": {
      "text/html": [
       "<div>\n",
       "<style scoped>\n",
       "    .dataframe tbody tr th:only-of-type {\n",
       "        vertical-align: middle;\n",
       "    }\n",
       "\n",
       "    .dataframe tbody tr th {\n",
       "        vertical-align: top;\n",
       "    }\n",
       "\n",
       "    .dataframe thead th {\n",
       "        text-align: right;\n",
       "    }\n",
       "</style>\n",
       "<table border=\"1\" class=\"dataframe\">\n",
       "  <thead>\n",
       "    <tr style=\"text-align: right;\">\n",
       "      <th></th>\n",
       "      <th>Person_toe</th>\n",
       "      <th>Time</th>\n",
       "      <th>PenID</th>\n",
       "      <th>FocalLegringName</th>\n",
       "      <th>Bird type</th>\n",
       "      <th>CombPecks</th>\n",
       "      <th>Toes</th>\n",
       "      <th>RFPododermatitis</th>\n",
       "      <th>RFBumblefoot</th>\n",
       "      <th>RFinjuries</th>\n",
       "      <th>...</th>\n",
       "      <th>Person_feather</th>\n",
       "      <th>Reliability_SS</th>\n",
       "      <th>NeckFeather</th>\n",
       "      <th>BreastFeather</th>\n",
       "      <th>CloacaFeather</th>\n",
       "      <th>BackFeather</th>\n",
       "      <th>WingFeather</th>\n",
       "      <th>TailFeather</th>\n",
       "      <th>HenID</th>\n",
       "      <th>toremove</th>\n",
       "    </tr>\n",
       "  </thead>\n",
       "  <tbody>\n",
       "    <tr>\n",
       "      <th>963</th>\n",
       "      <td>C</td>\n",
       "      <td>NaN</td>\n",
       "      <td>pen10</td>\n",
       "      <td>41black</td>\n",
       "      <td>NaN</td>\n",
       "      <td>15.0</td>\n",
       "      <td>NaN</td>\n",
       "      <td>50.0</td>\n",
       "      <td>0.0</td>\n",
       "      <td>0.0</td>\n",
       "      <td>...</td>\n",
       "      <td>Sabine</td>\n",
       "      <td>0.0</td>\n",
       "      <td>97.0</td>\n",
       "      <td>59.0</td>\n",
       "      <td>99.0</td>\n",
       "      <td>100.0</td>\n",
       "      <td>73.0</td>\n",
       "      <td>78.0</td>\n",
       "      <td>hen_145</td>\n",
       "      <td>False</td>\n",
       "    </tr>\n",
       "    <tr>\n",
       "      <th>17</th>\n",
       "      <td>M</td>\n",
       "      <td>10:43</td>\n",
       "      <td>pen4</td>\n",
       "      <td>17orange</td>\n",
       "      <td>normal</td>\n",
       "      <td>25.0</td>\n",
       "      <td>NaN</td>\n",
       "      <td>0.0</td>\n",
       "      <td>0.0</td>\n",
       "      <td>0.0</td>\n",
       "      <td>...</td>\n",
       "      <td>Sabine</td>\n",
       "      <td>NaN</td>\n",
       "      <td>NaN</td>\n",
       "      <td>NaN</td>\n",
       "      <td>NaN</td>\n",
       "      <td>NaN</td>\n",
       "      <td>NaN</td>\n",
       "      <td>NaN</td>\n",
       "      <td>hen_48</td>\n",
       "      <td>False</td>\n",
       "    </tr>\n",
       "    <tr>\n",
       "      <th>424</th>\n",
       "      <td>C</td>\n",
       "      <td>09:34</td>\n",
       "      <td>pen9</td>\n",
       "      <td>53grey</td>\n",
       "      <td>NaN</td>\n",
       "      <td>10.0</td>\n",
       "      <td>NaN</td>\n",
       "      <td>0.0</td>\n",
       "      <td>0.0</td>\n",
       "      <td>50.0</td>\n",
       "      <td>...</td>\n",
       "      <td>Sabine</td>\n",
       "      <td>0.0</td>\n",
       "      <td>100.0</td>\n",
       "      <td>100.0</td>\n",
       "      <td>100.0</td>\n",
       "      <td>100.0</td>\n",
       "      <td>100.0</td>\n",
       "      <td>100.0</td>\n",
       "      <td>hen_29</td>\n",
       "      <td>False</td>\n",
       "    </tr>\n",
       "  </tbody>\n",
       "</table>\n",
       "<p>3 rows × 32 columns</p>\n",
       "</div>"
      ],
      "text/plain": [
       "    Person_toe   Time  PenID FocalLegringName Bird type  CombPecks Toes  \\\n",
       "963          C    NaN  pen10          41black       NaN       15.0  NaN   \n",
       "17           M  10:43   pen4         17orange    normal       25.0  NaN   \n",
       "424          C  09:34   pen9           53grey       NaN       10.0  NaN   \n",
       "\n",
       "     RFPododermatitis  RFBumblefoot  RFinjuries  ...  Person_feather  \\\n",
       "963              50.0           0.0         0.0  ...          Sabine   \n",
       "17                0.0           0.0         0.0  ...          Sabine   \n",
       "424               0.0           0.0        50.0  ...          Sabine   \n",
       "\n",
       "     Reliability_SS  NeckFeather  BreastFeather  CloacaFeather BackFeather  \\\n",
       "963             0.0         97.0           59.0           99.0       100.0   \n",
       "17              NaN          NaN            NaN            NaN         NaN   \n",
       "424             0.0        100.0          100.0          100.0       100.0   \n",
       "\n",
       "    WingFeather  TailFeather    HenID toremove  \n",
       "963        73.0         78.0  hen_145    False  \n",
       "17          NaN          NaN   hen_48    False  \n",
       "424       100.0        100.0   hen_29    False  \n",
       "\n",
       "[3 rows x 32 columns]"
      ]
     },
     "execution_count": 9,
     "metadata": {},
     "output_type": "execute_result"
    }
   ],
   "source": [
    "#keep when its a reliability only Sabine (as Sabine learned to Satar) THEN take randomly among several remaining obs.\n",
    "#ATTENTION when reliability =+: we should have at least two people rating it!\n",
    "df_HA_HenID['toremove'] = df_HA_HenID.apply(lambda x: (x['Reliability_SS']==1)&(x['Person_feather']=='Satar'), axis=1)\n",
    "print(df_HA_HenID.shape)\n",
    "df_HA_HenID = df_HA_HenID[~df_HA_HenID['toremove']]\n",
    "print(df_HA_HenID.shape)\n",
    "#remove random observation if there is two from reliability\n",
    "random.seed(0) #replicable way\n",
    "df_HA_HenID = shuffle(df_HA_HenID)\n",
    "df_HA_HenID.drop_duplicates(subset=['HenID','HAID'], keep='first', inplace=True)\n",
    "#merge all HA from reliability using a random obs for now (then most reliable, once we know and once we have all the name)\n",
    "df_ = df_HA_HenID.groupby(['HenID','HAID'])['Person_toe','Person_feather'].agg(lambda x: list(x)).reset_index()\n",
    "df_['nbr_raters'] = df_['Person_feather'].map(lambda x: len(x))\n",
    "if df_[df_['nbr_raters']>1].shape[0]>0:\n",
    "    print('ERROR, we still have several observation for a/some (HenID,HAID)')\n",
    "    sys.exit()\n",
    "print(df_HA_HenID.shape)\n",
    "df_HA_HenID.head(3)"
   ]
  },
  {
   "cell_type": "code",
   "execution_count": 10,
   "metadata": {},
   "outputs": [
    {
     "name": "stderr",
     "output_type": "stream",
     "text": [
      "C:\\Users\\camil\\anaconda3\\lib\\site-packages\\ipykernel\\ipkernel.py:283: DeprecationWarning: `should_run_async` will not call `transform_cell` automatically in the future. Please pass the result to `transformed_cell` argument and any exception that happen during thetransform in `preprocessing_exc_tuple` in IPython 7.17 and above.\n",
      "  and should_run_async(code)\n"
     ]
    }
   ],
   "source": [
    "#display(df_HA_HenID[(df_HA_HenID['PenID']=='pen11')&(df_HA_HenID['HAID']=='HA4')&(df_HA_HenID['FocalLegringName']=='28green')][['HAID','Person_feather','Person_toe','Reliability_MC','Reliability_SS']])"
   ]
  },
  {
   "cell_type": "code",
   "execution_count": 11,
   "metadata": {},
   "outputs": [
    {
     "name": "stderr",
     "output_type": "stream",
     "text": [
      "C:\\Users\\camil\\anaconda3\\lib\\site-packages\\ipykernel\\ipkernel.py:283: DeprecationWarning: `should_run_async` will not call `transform_cell` automatically in the future. Please pass the result to `transformed_cell` argument and any exception that happen during thetransform in `preprocessing_exc_tuple` in IPython 7.17 and above.\n",
      "  and should_run_async(code)\n"
     ]
    },
    {
     "data": {
      "text/html": [
       "<div>\n",
       "<style scoped>\n",
       "    .dataframe tbody tr th:only-of-type {\n",
       "        vertical-align: middle;\n",
       "    }\n",
       "\n",
       "    .dataframe tbody tr th {\n",
       "        vertical-align: top;\n",
       "    }\n",
       "\n",
       "    .dataframe thead th {\n",
       "        text-align: right;\n",
       "    }\n",
       "</style>\n",
       "<table border=\"1\" class=\"dataframe\">\n",
       "  <thead>\n",
       "    <tr style=\"text-align: right;\">\n",
       "      <th></th>\n",
       "      <th>HenID</th>\n",
       "      <th>HAID</th>\n",
       "    </tr>\n",
       "  </thead>\n",
       "  <tbody>\n",
       "    <tr>\n",
       "      <th>0</th>\n",
       "      <td>hen_1</td>\n",
       "      <td>3</td>\n",
       "    </tr>\n",
       "    <tr>\n",
       "      <th>1</th>\n",
       "      <td>hen_10</td>\n",
       "      <td>4</td>\n",
       "    </tr>\n",
       "    <tr>\n",
       "      <th>2</th>\n",
       "      <td>hen_100</td>\n",
       "      <td>1</td>\n",
       "    </tr>\n",
       "  </tbody>\n",
       "</table>\n",
       "</div>"
      ],
      "text/plain": [
       "     HenID  HAID\n",
       "0    hen_1     3\n",
       "1   hen_10     4\n",
       "2  hen_100     1"
      ]
     },
     "execution_count": 11,
     "metadata": {},
     "output_type": "execute_result"
    }
   ],
   "source": [
    "#nbr of HA per hen\n",
    "df_HA_HenID.groupby('HenID')['HAID'].count().reset_index().head(3)"
   ]
  },
  {
   "cell_type": "code",
   "execution_count": 12,
   "metadata": {},
   "outputs": [
    {
     "name": "stdout",
     "output_type": "stream",
     "text": [
      "Note that if a hen is in df_HA_HenID, it also should have the weight, look at exception:\n"
     ]
    },
    {
     "name": "stderr",
     "output_type": "stream",
     "text": [
      "C:\\Users\\camil\\anaconda3\\lib\\site-packages\\ipykernel\\ipkernel.py:283: DeprecationWarning: `should_run_async` will not call `transform_cell` automatically in the future. Please pass the result to `transformed_cell` argument and any exception that happen during thetransform in `preprocessing_exc_tuple` in IPython 7.17 and above.\n",
      "  and should_run_async(code)\n"
     ]
    },
    {
     "data": {
      "text/html": [
       "<div>\n",
       "<style scoped>\n",
       "    .dataframe tbody tr th:only-of-type {\n",
       "        vertical-align: middle;\n",
       "    }\n",
       "\n",
       "    .dataframe tbody tr th {\n",
       "        vertical-align: top;\n",
       "    }\n",
       "\n",
       "    .dataframe thead th {\n",
       "        text-align: right;\n",
       "    }\n",
       "</style>\n",
       "<table border=\"1\" class=\"dataframe\">\n",
       "  <thead>\n",
       "    <tr style=\"text-align: right;\">\n",
       "      <th></th>\n",
       "      <th>Person_toe</th>\n",
       "      <th>Time</th>\n",
       "      <th>PenID</th>\n",
       "      <th>FocalLegringName</th>\n",
       "      <th>Bird type</th>\n",
       "      <th>CombPecks</th>\n",
       "      <th>Toes</th>\n",
       "      <th>RFPododermatitis</th>\n",
       "      <th>RFBumblefoot</th>\n",
       "      <th>RFinjuries</th>\n",
       "      <th>...</th>\n",
       "      <th>Reliability_SS</th>\n",
       "      <th>NeckFeather</th>\n",
       "      <th>BreastFeather</th>\n",
       "      <th>CloacaFeather</th>\n",
       "      <th>BackFeather</th>\n",
       "      <th>WingFeather</th>\n",
       "      <th>TailFeather</th>\n",
       "      <th>HenID</th>\n",
       "      <th>toremove</th>\n",
       "      <th>weight</th>\n",
       "    </tr>\n",
       "  </thead>\n",
       "  <tbody>\n",
       "    <tr>\n",
       "      <th>415</th>\n",
       "      <td>C</td>\n",
       "      <td>08:58</td>\n",
       "      <td>pen12</td>\n",
       "      <td>51orange</td>\n",
       "      <td>NaN</td>\n",
       "      <td>25.0</td>\n",
       "      <td>R inflammed</td>\n",
       "      <td>100.0</td>\n",
       "      <td>0.0</td>\n",
       "      <td>0.0</td>\n",
       "      <td>...</td>\n",
       "      <td>0.0</td>\n",
       "      <td>100.0</td>\n",
       "      <td>100.0</td>\n",
       "      <td>100.0</td>\n",
       "      <td>100.0</td>\n",
       "      <td>69.0</td>\n",
       "      <td>100.0</td>\n",
       "      <td>hen_76</td>\n",
       "      <td>False</td>\n",
       "      <td>NaN</td>\n",
       "    </tr>\n",
       "    <tr>\n",
       "      <th>419</th>\n",
       "      <td>C</td>\n",
       "      <td>08:58</td>\n",
       "      <td>pen12</td>\n",
       "      <td>53black</td>\n",
       "      <td>NaN</td>\n",
       "      <td>25.0</td>\n",
       "      <td>NaN</td>\n",
       "      <td>50.0</td>\n",
       "      <td>0.0</td>\n",
       "      <td>0.0</td>\n",
       "      <td>...</td>\n",
       "      <td>1.0</td>\n",
       "      <td>100.0</td>\n",
       "      <td>60.0</td>\n",
       "      <td>100.0</td>\n",
       "      <td>100.0</td>\n",
       "      <td>73.0</td>\n",
       "      <td>81.0</td>\n",
       "      <td>hen_155</td>\n",
       "      <td>False</td>\n",
       "      <td>NaN</td>\n",
       "    </tr>\n",
       "    <tr>\n",
       "      <th>303</th>\n",
       "      <td>C</td>\n",
       "      <td>08:58</td>\n",
       "      <td>pen12</td>\n",
       "      <td>24orange</td>\n",
       "      <td>NaN</td>\n",
       "      <td>65.0</td>\n",
       "      <td>NaN</td>\n",
       "      <td>50.0</td>\n",
       "      <td>0.0</td>\n",
       "      <td>0.0</td>\n",
       "      <td>...</td>\n",
       "      <td>0.0</td>\n",
       "      <td>100.0</td>\n",
       "      <td>100.0</td>\n",
       "      <td>100.0</td>\n",
       "      <td>100.0</td>\n",
       "      <td>100.0</td>\n",
       "      <td>100.0</td>\n",
       "      <td>hen_199</td>\n",
       "      <td>False</td>\n",
       "      <td>NaN</td>\n",
       "    </tr>\n",
       "    <tr>\n",
       "      <th>1040</th>\n",
       "      <td>C</td>\n",
       "      <td>NaN</td>\n",
       "      <td>pen12</td>\n",
       "      <td>59orange</td>\n",
       "      <td>NaN</td>\n",
       "      <td>0.0</td>\n",
       "      <td>NaN</td>\n",
       "      <td>0.0</td>\n",
       "      <td>0.0</td>\n",
       "      <td>0.0</td>\n",
       "      <td>...</td>\n",
       "      <td>0.0</td>\n",
       "      <td>99.0</td>\n",
       "      <td>69.0</td>\n",
       "      <td>98.0</td>\n",
       "      <td>99.0</td>\n",
       "      <td>73.0</td>\n",
       "      <td>81.0</td>\n",
       "      <td>hen_234</td>\n",
       "      <td>False</td>\n",
       "      <td>NaN</td>\n",
       "    </tr>\n",
       "    <tr>\n",
       "      <th>416</th>\n",
       "      <td>M</td>\n",
       "      <td>08:58</td>\n",
       "      <td>pen12</td>\n",
       "      <td>52black</td>\n",
       "      <td>NaN</td>\n",
       "      <td>0.0</td>\n",
       "      <td>R inflammed</td>\n",
       "      <td>0.0</td>\n",
       "      <td>0.0</td>\n",
       "      <td>0.0</td>\n",
       "      <td>...</td>\n",
       "      <td>0.0</td>\n",
       "      <td>100.0</td>\n",
       "      <td>80.0</td>\n",
       "      <td>100.0</td>\n",
       "      <td>100.0</td>\n",
       "      <td>76.0</td>\n",
       "      <td>100.0</td>\n",
       "      <td>hen_154</td>\n",
       "      <td>False</td>\n",
       "      <td>NaN</td>\n",
       "    </tr>\n",
       "    <tr>\n",
       "      <th>298</th>\n",
       "      <td>C</td>\n",
       "      <td>08:58</td>\n",
       "      <td>pen12</td>\n",
       "      <td>23black</td>\n",
       "      <td>NaN</td>\n",
       "      <td>100.0</td>\n",
       "      <td>NaN</td>\n",
       "      <td>0.0</td>\n",
       "      <td>0.0</td>\n",
       "      <td>0.0</td>\n",
       "      <td>...</td>\n",
       "      <td>0.0</td>\n",
       "      <td>100.0</td>\n",
       "      <td>100.0</td>\n",
       "      <td>100.0</td>\n",
       "      <td>100.0</td>\n",
       "      <td>100.0</td>\n",
       "      <td>100.0</td>\n",
       "      <td>hen_135</td>\n",
       "      <td>False</td>\n",
       "      <td>NaN</td>\n",
       "    </tr>\n",
       "    <tr>\n",
       "      <th>334</th>\n",
       "      <td>C</td>\n",
       "      <td>08:58</td>\n",
       "      <td>pen12</td>\n",
       "      <td>32orange</td>\n",
       "      <td>NaN</td>\n",
       "      <td>25.0</td>\n",
       "      <td>NaN</td>\n",
       "      <td>0.0</td>\n",
       "      <td>0.0</td>\n",
       "      <td>0.0</td>\n",
       "      <td>...</td>\n",
       "      <td>1.0</td>\n",
       "      <td>100.0</td>\n",
       "      <td>59.0</td>\n",
       "      <td>77.0</td>\n",
       "      <td>100.0</td>\n",
       "      <td>98.0</td>\n",
       "      <td>100.0</td>\n",
       "      <td>hen_61</td>\n",
       "      <td>False</td>\n",
       "      <td>NaN</td>\n",
       "    </tr>\n",
       "    <tr>\n",
       "      <th>440</th>\n",
       "      <td>C</td>\n",
       "      <td>08:58</td>\n",
       "      <td>pen12</td>\n",
       "      <td>58black</td>\n",
       "      <td>NaN</td>\n",
       "      <td>0.0</td>\n",
       "      <td>NaN</td>\n",
       "      <td>0.0</td>\n",
       "      <td>0.0</td>\n",
       "      <td>0.0</td>\n",
       "      <td>...</td>\n",
       "      <td>1.0</td>\n",
       "      <td>100.0</td>\n",
       "      <td>100.0</td>\n",
       "      <td>100.0</td>\n",
       "      <td>100.0</td>\n",
       "      <td>98.0</td>\n",
       "      <td>100.0</td>\n",
       "      <td>hen_159</td>\n",
       "      <td>False</td>\n",
       "      <td>NaN</td>\n",
       "    </tr>\n",
       "    <tr>\n",
       "      <th>267</th>\n",
       "      <td>M</td>\n",
       "      <td>08:58</td>\n",
       "      <td>pen12</td>\n",
       "      <td>12orange</td>\n",
       "      <td>NaN</td>\n",
       "      <td>50.0</td>\n",
       "      <td>NaN</td>\n",
       "      <td>50.0</td>\n",
       "      <td>0.0</td>\n",
       "      <td>0.0</td>\n",
       "      <td>...</td>\n",
       "      <td>0.0</td>\n",
       "      <td>100.0</td>\n",
       "      <td>100.0</td>\n",
       "      <td>100.0</td>\n",
       "      <td>100.0</td>\n",
       "      <td>97.0</td>\n",
       "      <td>100.0</td>\n",
       "      <td>hen_45</td>\n",
       "      <td>False</td>\n",
       "      <td>NaN</td>\n",
       "    </tr>\n",
       "    <tr>\n",
       "      <th>365</th>\n",
       "      <td>M</td>\n",
       "      <td>08:58</td>\n",
       "      <td>pen12</td>\n",
       "      <td>39orange</td>\n",
       "      <td>NaN</td>\n",
       "      <td>0.0</td>\n",
       "      <td>NaN</td>\n",
       "      <td>50.0</td>\n",
       "      <td>0.0</td>\n",
       "      <td>0.0</td>\n",
       "      <td>...</td>\n",
       "      <td>0.0</td>\n",
       "      <td>100.0</td>\n",
       "      <td>100.0</td>\n",
       "      <td>100.0</td>\n",
       "      <td>100.0</td>\n",
       "      <td>79.0</td>\n",
       "      <td>98.0</td>\n",
       "      <td>hen_68</td>\n",
       "      <td>False</td>\n",
       "      <td>NaN</td>\n",
       "    </tr>\n",
       "    <tr>\n",
       "      <th>512</th>\n",
       "      <td>C</td>\n",
       "      <td>08:58</td>\n",
       "      <td>pen12</td>\n",
       "      <td>9orange</td>\n",
       "      <td>NaN</td>\n",
       "      <td>0.0</td>\n",
       "      <td>NaN</td>\n",
       "      <td>0.0</td>\n",
       "      <td>0.0</td>\n",
       "      <td>0.0</td>\n",
       "      <td>...</td>\n",
       "      <td>1.0</td>\n",
       "      <td>100.0</td>\n",
       "      <td>100.0</td>\n",
       "      <td>100.0</td>\n",
       "      <td>100.0</td>\n",
       "      <td>99.0</td>\n",
       "      <td>100.0</td>\n",
       "      <td>hen_42</td>\n",
       "      <td>False</td>\n",
       "      <td>NaN</td>\n",
       "    </tr>\n",
       "    <tr>\n",
       "      <th>502</th>\n",
       "      <td>C</td>\n",
       "      <td>08:58</td>\n",
       "      <td>pen12</td>\n",
       "      <td>75black</td>\n",
       "      <td>NaN</td>\n",
       "      <td>125.0</td>\n",
       "      <td>NaN</td>\n",
       "      <td>0.0</td>\n",
       "      <td>0.0</td>\n",
       "      <td>0.0</td>\n",
       "      <td>...</td>\n",
       "      <td>0.0</td>\n",
       "      <td>100.0</td>\n",
       "      <td>100.0</td>\n",
       "      <td>100.0</td>\n",
       "      <td>100.0</td>\n",
       "      <td>91.0</td>\n",
       "      <td>100.0</td>\n",
       "      <td>hen_122</td>\n",
       "      <td>False</td>\n",
       "      <td>NaN</td>\n",
       "    </tr>\n",
       "    <tr>\n",
       "      <th>321</th>\n",
       "      <td>M</td>\n",
       "      <td>08:58</td>\n",
       "      <td>pen12</td>\n",
       "      <td>29orange</td>\n",
       "      <td>NaN</td>\n",
       "      <td>0.0</td>\n",
       "      <td>NaN</td>\n",
       "      <td>0.0</td>\n",
       "      <td>0.0</td>\n",
       "      <td>0.0</td>\n",
       "      <td>...</td>\n",
       "      <td>0.0</td>\n",
       "      <td>100.0</td>\n",
       "      <td>100.0</td>\n",
       "      <td>100.0</td>\n",
       "      <td>100.0</td>\n",
       "      <td>100.0</td>\n",
       "      <td>100.0</td>\n",
       "      <td>hen_197</td>\n",
       "      <td>False</td>\n",
       "      <td>NaN</td>\n",
       "    </tr>\n",
       "    <tr>\n",
       "      <th>392</th>\n",
       "      <td>M</td>\n",
       "      <td>08:58</td>\n",
       "      <td>pen12</td>\n",
       "      <td>45black</td>\n",
       "      <td>NaN</td>\n",
       "      <td>0.0</td>\n",
       "      <td>NaN</td>\n",
       "      <td>0.0</td>\n",
       "      <td>0.0</td>\n",
       "      <td>0.0</td>\n",
       "      <td>...</td>\n",
       "      <td>0.0</td>\n",
       "      <td>100.0</td>\n",
       "      <td>100.0</td>\n",
       "      <td>100.0</td>\n",
       "      <td>100.0</td>\n",
       "      <td>75.0</td>\n",
       "      <td>100.0</td>\n",
       "      <td>hen_149</td>\n",
       "      <td>False</td>\n",
       "      <td>NaN</td>\n",
       "    </tr>\n",
       "    <tr>\n",
       "      <th>292</th>\n",
       "      <td>C</td>\n",
       "      <td>08:58</td>\n",
       "      <td>pen12</td>\n",
       "      <td>21black</td>\n",
       "      <td>NaN</td>\n",
       "      <td>25.0</td>\n",
       "      <td>NaN</td>\n",
       "      <td>0.0</td>\n",
       "      <td>0.0</td>\n",
       "      <td>0.0</td>\n",
       "      <td>...</td>\n",
       "      <td>0.0</td>\n",
       "      <td>100.0</td>\n",
       "      <td>91.0</td>\n",
       "      <td>100.0</td>\n",
       "      <td>100.0</td>\n",
       "      <td>100.0</td>\n",
       "      <td>100.0</td>\n",
       "      <td>hen_133</td>\n",
       "      <td>False</td>\n",
       "      <td>NaN</td>\n",
       "    </tr>\n",
       "    <tr>\n",
       "      <th>388</th>\n",
       "      <td>M</td>\n",
       "      <td>08:58</td>\n",
       "      <td>pen12</td>\n",
       "      <td>42orange</td>\n",
       "      <td>NaN</td>\n",
       "      <td>25.0</td>\n",
       "      <td>NaN</td>\n",
       "      <td>50.0</td>\n",
       "      <td>0.0</td>\n",
       "      <td>0.0</td>\n",
       "      <td>...</td>\n",
       "      <td>0.0</td>\n",
       "      <td>100.0</td>\n",
       "      <td>96.0</td>\n",
       "      <td>100.0</td>\n",
       "      <td>100.0</td>\n",
       "      <td>100.0</td>\n",
       "      <td>100.0</td>\n",
       "      <td>hen_71</td>\n",
       "      <td>False</td>\n",
       "      <td>NaN</td>\n",
       "    </tr>\n",
       "    <tr>\n",
       "      <th>446</th>\n",
       "      <td>M</td>\n",
       "      <td>08:58</td>\n",
       "      <td>pen12</td>\n",
       "      <td>60orange</td>\n",
       "      <td>NaN</td>\n",
       "      <td>25.0</td>\n",
       "      <td>NaN</td>\n",
       "      <td>0.0</td>\n",
       "      <td>0.0</td>\n",
       "      <td>0.0</td>\n",
       "      <td>...</td>\n",
       "      <td>0.0</td>\n",
       "      <td>100.0</td>\n",
       "      <td>100.0</td>\n",
       "      <td>100.0</td>\n",
       "      <td>100.0</td>\n",
       "      <td>90.0</td>\n",
       "      <td>100.0</td>\n",
       "      <td>hen_196</td>\n",
       "      <td>False</td>\n",
       "      <td>NaN</td>\n",
       "    </tr>\n",
       "    <tr>\n",
       "      <th>474</th>\n",
       "      <td>C</td>\n",
       "      <td>08:58</td>\n",
       "      <td>pen12</td>\n",
       "      <td>70black</td>\n",
       "      <td>NaN</td>\n",
       "      <td>10.0</td>\n",
       "      <td>NaN</td>\n",
       "      <td>0.0</td>\n",
       "      <td>0.0</td>\n",
       "      <td>0.0</td>\n",
       "      <td>...</td>\n",
       "      <td>0.0</td>\n",
       "      <td>100.0</td>\n",
       "      <td>100.0</td>\n",
       "      <td>100.0</td>\n",
       "      <td>100.0</td>\n",
       "      <td>100.0</td>\n",
       "      <td>93.0</td>\n",
       "      <td>hen_180</td>\n",
       "      <td>False</td>\n",
       "      <td>NaN</td>\n",
       "    </tr>\n",
       "    <tr>\n",
       "      <th>459</th>\n",
       "      <td>C</td>\n",
       "      <td>08:58</td>\n",
       "      <td>pen12</td>\n",
       "      <td>64black</td>\n",
       "      <td>NaN</td>\n",
       "      <td>0.0</td>\n",
       "      <td>NaN</td>\n",
       "      <td>0.0</td>\n",
       "      <td>0.0</td>\n",
       "      <td>0.0</td>\n",
       "      <td>...</td>\n",
       "      <td>0.0</td>\n",
       "      <td>100.0</td>\n",
       "      <td>100.0</td>\n",
       "      <td>100.0</td>\n",
       "      <td>100.0</td>\n",
       "      <td>100.0</td>\n",
       "      <td>100.0</td>\n",
       "      <td>hen_175</td>\n",
       "      <td>False</td>\n",
       "      <td>NaN</td>\n",
       "    </tr>\n",
       "    <tr>\n",
       "      <th>324</th>\n",
       "      <td>M</td>\n",
       "      <td>08:58</td>\n",
       "      <td>pen12</td>\n",
       "      <td>2orange</td>\n",
       "      <td>NaN</td>\n",
       "      <td>0.0</td>\n",
       "      <td>NaN</td>\n",
       "      <td>0.0</td>\n",
       "      <td>0.0</td>\n",
       "      <td>0.0</td>\n",
       "      <td>...</td>\n",
       "      <td>0.0</td>\n",
       "      <td>100.0</td>\n",
       "      <td>75.0</td>\n",
       "      <td>100.0</td>\n",
       "      <td>100.0</td>\n",
       "      <td>75.0</td>\n",
       "      <td>76.0</td>\n",
       "      <td>hen_41</td>\n",
       "      <td>False</td>\n",
       "      <td>NaN</td>\n",
       "    </tr>\n",
       "    <tr>\n",
       "      <th>310</th>\n",
       "      <td>M</td>\n",
       "      <td>08:58</td>\n",
       "      <td>pen12</td>\n",
       "      <td>27black</td>\n",
       "      <td>NaN</td>\n",
       "      <td>0.0</td>\n",
       "      <td>R inflammed</td>\n",
       "      <td>0.0</td>\n",
       "      <td>0.0</td>\n",
       "      <td>0.0</td>\n",
       "      <td>...</td>\n",
       "      <td>0.0</td>\n",
       "      <td>100.0</td>\n",
       "      <td>100.0</td>\n",
       "      <td>100.0</td>\n",
       "      <td>100.0</td>\n",
       "      <td>100.0</td>\n",
       "      <td>100.0</td>\n",
       "      <td>hen_137</td>\n",
       "      <td>False</td>\n",
       "      <td>NaN</td>\n",
       "    </tr>\n",
       "  </tbody>\n",
       "</table>\n",
       "<p>21 rows × 33 columns</p>\n",
       "</div>"
      ],
      "text/plain": [
       "     Person_toe   Time  PenID FocalLegringName Bird type  CombPecks  \\\n",
       "415           C  08:58  pen12         51orange       NaN       25.0   \n",
       "419           C  08:58  pen12          53black       NaN       25.0   \n",
       "303           C  08:58  pen12         24orange       NaN       65.0   \n",
       "1040          C    NaN  pen12         59orange       NaN        0.0   \n",
       "416           M  08:58  pen12          52black       NaN        0.0   \n",
       "298           C  08:58  pen12          23black       NaN      100.0   \n",
       "334           C  08:58  pen12         32orange       NaN       25.0   \n",
       "440           C  08:58  pen12          58black       NaN        0.0   \n",
       "267           M  08:58  pen12         12orange       NaN       50.0   \n",
       "365           M  08:58  pen12         39orange       NaN        0.0   \n",
       "512           C  08:58  pen12          9orange       NaN        0.0   \n",
       "502           C  08:58  pen12          75black       NaN      125.0   \n",
       "321           M  08:58  pen12         29orange       NaN        0.0   \n",
       "392           M  08:58  pen12          45black       NaN        0.0   \n",
       "292           C  08:58  pen12          21black       NaN       25.0   \n",
       "388           M  08:58  pen12         42orange       NaN       25.0   \n",
       "446           M  08:58  pen12         60orange       NaN       25.0   \n",
       "474           C  08:58  pen12          70black       NaN       10.0   \n",
       "459           C  08:58  pen12          64black       NaN        0.0   \n",
       "324           M  08:58  pen12          2orange       NaN        0.0   \n",
       "310           M  08:58  pen12          27black       NaN        0.0   \n",
       "\n",
       "             Toes  RFPododermatitis  RFBumblefoot  RFinjuries  ...  \\\n",
       "415   R inflammed             100.0           0.0         0.0  ...   \n",
       "419           NaN              50.0           0.0         0.0  ...   \n",
       "303           NaN              50.0           0.0         0.0  ...   \n",
       "1040          NaN               0.0           0.0         0.0  ...   \n",
       "416   R inflammed               0.0           0.0         0.0  ...   \n",
       "298           NaN               0.0           0.0         0.0  ...   \n",
       "334           NaN               0.0           0.0         0.0  ...   \n",
       "440           NaN               0.0           0.0         0.0  ...   \n",
       "267           NaN              50.0           0.0         0.0  ...   \n",
       "365           NaN              50.0           0.0         0.0  ...   \n",
       "512           NaN               0.0           0.0         0.0  ...   \n",
       "502           NaN               0.0           0.0         0.0  ...   \n",
       "321           NaN               0.0           0.0         0.0  ...   \n",
       "392           NaN               0.0           0.0         0.0  ...   \n",
       "292           NaN               0.0           0.0         0.0  ...   \n",
       "388           NaN              50.0           0.0         0.0  ...   \n",
       "446           NaN               0.0           0.0         0.0  ...   \n",
       "474           NaN               0.0           0.0         0.0  ...   \n",
       "459           NaN               0.0           0.0         0.0  ...   \n",
       "324           NaN               0.0           0.0         0.0  ...   \n",
       "310   R inflammed               0.0           0.0         0.0  ...   \n",
       "\n",
       "      Reliability_SS  NeckFeather  BreastFeather  CloacaFeather  BackFeather  \\\n",
       "415              0.0        100.0          100.0          100.0        100.0   \n",
       "419              1.0        100.0           60.0          100.0        100.0   \n",
       "303              0.0        100.0          100.0          100.0        100.0   \n",
       "1040             0.0         99.0           69.0           98.0         99.0   \n",
       "416              0.0        100.0           80.0          100.0        100.0   \n",
       "298              0.0        100.0          100.0          100.0        100.0   \n",
       "334              1.0        100.0           59.0           77.0        100.0   \n",
       "440              1.0        100.0          100.0          100.0        100.0   \n",
       "267              0.0        100.0          100.0          100.0        100.0   \n",
       "365              0.0        100.0          100.0          100.0        100.0   \n",
       "512              1.0        100.0          100.0          100.0        100.0   \n",
       "502              0.0        100.0          100.0          100.0        100.0   \n",
       "321              0.0        100.0          100.0          100.0        100.0   \n",
       "392              0.0        100.0          100.0          100.0        100.0   \n",
       "292              0.0        100.0           91.0          100.0        100.0   \n",
       "388              0.0        100.0           96.0          100.0        100.0   \n",
       "446              0.0        100.0          100.0          100.0        100.0   \n",
       "474              0.0        100.0          100.0          100.0        100.0   \n",
       "459              0.0        100.0          100.0          100.0        100.0   \n",
       "324              0.0        100.0           75.0          100.0        100.0   \n",
       "310              0.0        100.0          100.0          100.0        100.0   \n",
       "\n",
       "     WingFeather TailFeather    HenID toremove weight  \n",
       "415         69.0       100.0   hen_76    False    NaN  \n",
       "419         73.0        81.0  hen_155    False    NaN  \n",
       "303        100.0       100.0  hen_199    False    NaN  \n",
       "1040        73.0        81.0  hen_234    False    NaN  \n",
       "416         76.0       100.0  hen_154    False    NaN  \n",
       "298        100.0       100.0  hen_135    False    NaN  \n",
       "334         98.0       100.0   hen_61    False    NaN  \n",
       "440         98.0       100.0  hen_159    False    NaN  \n",
       "267         97.0       100.0   hen_45    False    NaN  \n",
       "365         79.0        98.0   hen_68    False    NaN  \n",
       "512         99.0       100.0   hen_42    False    NaN  \n",
       "502         91.0       100.0  hen_122    False    NaN  \n",
       "321        100.0       100.0  hen_197    False    NaN  \n",
       "392         75.0       100.0  hen_149    False    NaN  \n",
       "292        100.0       100.0  hen_133    False    NaN  \n",
       "388        100.0       100.0   hen_71    False    NaN  \n",
       "446         90.0       100.0  hen_196    False    NaN  \n",
       "474        100.0        93.0  hen_180    False    NaN  \n",
       "459        100.0       100.0  hen_175    False    NaN  \n",
       "324         75.0        76.0   hen_41    False    NaN  \n",
       "310        100.0       100.0  hen_137    False    NaN  \n",
       "\n",
       "[21 rows x 33 columns]"
      ]
     },
     "metadata": {},
     "output_type": "display_data"
    },
    {
     "data": {
      "text/html": [
       "<div>\n",
       "<style scoped>\n",
       "    .dataframe tbody tr th:only-of-type {\n",
       "        vertical-align: middle;\n",
       "    }\n",
       "\n",
       "    .dataframe tbody tr th {\n",
       "        vertical-align: top;\n",
       "    }\n",
       "\n",
       "    .dataframe thead th {\n",
       "        text-align: right;\n",
       "    }\n",
       "</style>\n",
       "<table border=\"1\" class=\"dataframe\">\n",
       "  <thead>\n",
       "    <tr style=\"text-align: right;\">\n",
       "      <th></th>\n",
       "      <th>Person_toe</th>\n",
       "      <th>Time</th>\n",
       "      <th>PenID</th>\n",
       "      <th>FocalLegringName</th>\n",
       "      <th>Bird type</th>\n",
       "      <th>CombPecks</th>\n",
       "      <th>Toes</th>\n",
       "      <th>RFPododermatitis</th>\n",
       "      <th>RFBumblefoot</th>\n",
       "      <th>RFinjuries</th>\n",
       "      <th>...</th>\n",
       "      <th>Reliability_SS</th>\n",
       "      <th>NeckFeather</th>\n",
       "      <th>BreastFeather</th>\n",
       "      <th>CloacaFeather</th>\n",
       "      <th>BackFeather</th>\n",
       "      <th>WingFeather</th>\n",
       "      <th>TailFeather</th>\n",
       "      <th>HenID</th>\n",
       "      <th>toremove</th>\n",
       "      <th>weight</th>\n",
       "    </tr>\n",
       "  </thead>\n",
       "  <tbody>\n",
       "    <tr>\n",
       "      <th>963</th>\n",
       "      <td>C</td>\n",
       "      <td>NaN</td>\n",
       "      <td>pen10</td>\n",
       "      <td>41black</td>\n",
       "      <td>NaN</td>\n",
       "      <td>15.0</td>\n",
       "      <td>NaN</td>\n",
       "      <td>50.0</td>\n",
       "      <td>0.0</td>\n",
       "      <td>0.0</td>\n",
       "      <td>...</td>\n",
       "      <td>0.0</td>\n",
       "      <td>97.0</td>\n",
       "      <td>59.0</td>\n",
       "      <td>99.0</td>\n",
       "      <td>100.0</td>\n",
       "      <td>73.0</td>\n",
       "      <td>78.0</td>\n",
       "      <td>hen_145</td>\n",
       "      <td>False</td>\n",
       "      <td>1995.5</td>\n",
       "    </tr>\n",
       "    <tr>\n",
       "      <th>17</th>\n",
       "      <td>M</td>\n",
       "      <td>10:43</td>\n",
       "      <td>pen4</td>\n",
       "      <td>17orange</td>\n",
       "      <td>normal</td>\n",
       "      <td>25.0</td>\n",
       "      <td>NaN</td>\n",
       "      <td>0.0</td>\n",
       "      <td>0.0</td>\n",
       "      <td>0.0</td>\n",
       "      <td>...</td>\n",
       "      <td>NaN</td>\n",
       "      <td>NaN</td>\n",
       "      <td>NaN</td>\n",
       "      <td>NaN</td>\n",
       "      <td>NaN</td>\n",
       "      <td>NaN</td>\n",
       "      <td>NaN</td>\n",
       "      <td>hen_48</td>\n",
       "      <td>False</td>\n",
       "      <td>1730.4</td>\n",
       "    </tr>\n",
       "    <tr>\n",
       "      <th>424</th>\n",
       "      <td>C</td>\n",
       "      <td>09:34</td>\n",
       "      <td>pen9</td>\n",
       "      <td>53grey</td>\n",
       "      <td>NaN</td>\n",
       "      <td>10.0</td>\n",
       "      <td>NaN</td>\n",
       "      <td>0.0</td>\n",
       "      <td>0.0</td>\n",
       "      <td>50.0</td>\n",
       "      <td>...</td>\n",
       "      <td>0.0</td>\n",
       "      <td>100.0</td>\n",
       "      <td>100.0</td>\n",
       "      <td>100.0</td>\n",
       "      <td>100.0</td>\n",
       "      <td>100.0</td>\n",
       "      <td>100.0</td>\n",
       "      <td>hen_29</td>\n",
       "      <td>False</td>\n",
       "      <td>1961.6</td>\n",
       "    </tr>\n",
       "  </tbody>\n",
       "</table>\n",
       "<p>3 rows × 33 columns</p>\n",
       "</div>"
      ],
      "text/plain": [
       "    Person_toe   Time  PenID FocalLegringName Bird type  CombPecks Toes  \\\n",
       "963          C    NaN  pen10          41black       NaN       15.0  NaN   \n",
       "17           M  10:43   pen4         17orange    normal       25.0  NaN   \n",
       "424          C  09:34   pen9           53grey       NaN       10.0  NaN   \n",
       "\n",
       "     RFPododermatitis  RFBumblefoot  RFinjuries  ...  Reliability_SS  \\\n",
       "963              50.0           0.0         0.0  ...             0.0   \n",
       "17                0.0           0.0         0.0  ...             NaN   \n",
       "424               0.0           0.0        50.0  ...             0.0   \n",
       "\n",
       "     NeckFeather  BreastFeather  CloacaFeather  BackFeather WingFeather  \\\n",
       "963         97.0           59.0           99.0        100.0        73.0   \n",
       "17           NaN            NaN            NaN          NaN         NaN   \n",
       "424        100.0          100.0          100.0        100.0       100.0   \n",
       "\n",
       "    TailFeather    HenID toremove  weight  \n",
       "963        78.0  hen_145    False  1995.5  \n",
       "17          NaN   hen_48    False  1730.4  \n",
       "424       100.0   hen_29    False  1961.6  \n",
       "\n",
       "[3 rows x 33 columns]"
      ]
     },
     "execution_count": 12,
     "metadata": {},
     "output_type": "execute_result"
    }
   ],
   "source": [
    "#add weight to (HenID,HAID)\n",
    "dico_HAID_h_weight = {}\n",
    "dico_HAID_h_weight['HA1'] = dict(zip(df_FB['HenID'].tolist(), df_FB['weight 23-11-2020'].tolist()))\n",
    "dico_HAID_h_weight['HA2'] = dict(zip(df_FB['HenID'].tolist(), df_FB['weight 04-01-2021'].tolist()))\n",
    "dico_HAID_h_weight['HA3'] = dict(zip(df_FB['HenID'].tolist(), df_FB['weight 01-02-21'].tolist()))\n",
    "dico_HAID_h_weight['HA4'] = dict(zip(df_FB['HenID'].tolist(), df_FB['weight 12-04-21'].tolist()))\n",
    "df_HA_HenID['weight'] = df_HA_HenID.apply(lambda x: dico_HAID_h_weight[x['HAID']].get(x['HenID'],np.nan), axis=1)\n",
    "print('Note that if a hen is in df_HA_HenID, it also should have the weight, look at exception:')\n",
    "display(df_HA_HenID[df_HA_HenID['weight'].isnull()])\n",
    "df_HA_HenID.head(3)"
   ]
  },
  {
   "cell_type": "code",
   "execution_count": 13,
   "metadata": {},
   "outputs": [
    {
     "name": "stderr",
     "output_type": "stream",
     "text": [
      "C:\\Users\\camil\\anaconda3\\lib\\site-packages\\ipykernel\\ipkernel.py:283: DeprecationWarning: `should_run_async` will not call `transform_cell` automatically in the future. Please pass the result to `transformed_cell` argument and any exception that happen during thetransform in `preprocessing_exc_tuple` in IPython 7.17 and above.\n",
      "  and should_run_async(code)\n"
     ]
    },
    {
     "data": {
      "text/plain": [
       "45    177\n",
       "35    176\n",
       "25    175\n",
       "31    160\n",
       "Name: WOA, dtype: int64"
      ]
     },
     "execution_count": 13,
     "metadata": {},
     "output_type": "execute_result"
    }
   ],
   "source": [
    "# add WOA and DOA\n",
    "df_HA_HenID['DOA'] = df_HA_HenID['date'].map(lambda x: (x-dt.datetime(2020,6,3)).days)\n",
    "df_HA_HenID['WOA'] = df_HA_HenID['DOA'].map(lambda x: math.ceil(x/7))\n",
    "df_HA_HenID['WOA'].value_counts()"
   ]
  },
  {
   "cell_type": "markdown",
   "metadata": {},
   "source": [
    "# Add KBF ratings"
   ]
  },
  {
   "cell_type": "code",
   "execution_count": 14,
   "metadata": {},
   "outputs": [
    {
     "name": "stderr",
     "output_type": "stream",
     "text": [
      "C:\\Users\\camil\\anaconda3\\lib\\site-packages\\ipykernel\\ipkernel.py:283: DeprecationWarning: `should_run_async` will not call `transform_cell` automatically in the future. Please pass the result to `transformed_cell` argument and any exception that happen during thetransform in `preprocessing_exc_tuple` in IPython 7.17 and above.\n",
      "  and should_run_async(code)\n"
     ]
    },
    {
     "data": {
      "text/html": [
       "<div>\n",
       "<style scoped>\n",
       "    .dataframe tbody tr th:only-of-type {\n",
       "        vertical-align: middle;\n",
       "    }\n",
       "\n",
       "    .dataframe tbody tr th {\n",
       "        vertical-align: top;\n",
       "    }\n",
       "\n",
       "    .dataframe thead th {\n",
       "        text-align: right;\n",
       "    }\n",
       "</style>\n",
       "<table border=\"1\" class=\"dataframe\">\n",
       "  <thead>\n",
       "    <tr style=\"text-align: right;\">\n",
       "      <th></th>\n",
       "      <th>Person_toe</th>\n",
       "      <th>Time</th>\n",
       "      <th>PenID</th>\n",
       "      <th>FocalLegringName</th>\n",
       "      <th>Bird type</th>\n",
       "      <th>CombPecks</th>\n",
       "      <th>Toes</th>\n",
       "      <th>RFPododermatitis</th>\n",
       "      <th>RFBumblefoot</th>\n",
       "      <th>RFinjuries</th>\n",
       "      <th>...</th>\n",
       "      <th>Claw</th>\n",
       "      <th>BirdType</th>\n",
       "      <th>Person_feather</th>\n",
       "      <th>Reliability_SS</th>\n",
       "      <th>NeckFeather</th>\n",
       "      <th>BreastFeather</th>\n",
       "      <th>CloacaFeather</th>\n",
       "      <th>BackFeather</th>\n",
       "      <th>WingFeather</th>\n",
       "      <th>TailFeather</th>\n",
       "    </tr>\n",
       "  </thead>\n",
       "  <tbody>\n",
       "    <tr>\n",
       "      <th>0</th>\n",
       "      <td>M</td>\n",
       "      <td>16:15</td>\n",
       "      <td>pen3</td>\n",
       "      <td>1green</td>\n",
       "      <td>normal</td>\n",
       "      <td>0.0</td>\n",
       "      <td>NaN</td>\n",
       "      <td>0.0</td>\n",
       "      <td>0.0</td>\n",
       "      <td>0.0</td>\n",
       "      <td>...</td>\n",
       "      <td>NaN</td>\n",
       "      <td>normal</td>\n",
       "      <td>NaN</td>\n",
       "      <td>NaN</td>\n",
       "      <td>NaN</td>\n",
       "      <td>NaN</td>\n",
       "      <td>NaN</td>\n",
       "      <td>NaN</td>\n",
       "      <td>NaN</td>\n",
       "      <td>NaN</td>\n",
       "    </tr>\n",
       "    <tr>\n",
       "      <th>1</th>\n",
       "      <td>M</td>\n",
       "      <td>13:59</td>\n",
       "      <td>pen5</td>\n",
       "      <td>10green</td>\n",
       "      <td>epi</td>\n",
       "      <td>0.0</td>\n",
       "      <td>NaN</td>\n",
       "      <td>0.0</td>\n",
       "      <td>0.0</td>\n",
       "      <td>0.0</td>\n",
       "      <td>...</td>\n",
       "      <td>NaN</td>\n",
       "      <td>normal</td>\n",
       "      <td>NaN</td>\n",
       "      <td>NaN</td>\n",
       "      <td>NaN</td>\n",
       "      <td>NaN</td>\n",
       "      <td>NaN</td>\n",
       "      <td>NaN</td>\n",
       "      <td>NaN</td>\n",
       "      <td>NaN</td>\n",
       "    </tr>\n",
       "    <tr>\n",
       "      <th>2</th>\n",
       "      <td>M</td>\n",
       "      <td>16:14</td>\n",
       "      <td>pen3</td>\n",
       "      <td>11grey</td>\n",
       "      <td>normal</td>\n",
       "      <td>88.0</td>\n",
       "      <td>NaN</td>\n",
       "      <td>0.0</td>\n",
       "      <td>0.0</td>\n",
       "      <td>0.0</td>\n",
       "      <td>...</td>\n",
       "      <td>NaN</td>\n",
       "      <td>normal</td>\n",
       "      <td>NaN</td>\n",
       "      <td>NaN</td>\n",
       "      <td>NaN</td>\n",
       "      <td>NaN</td>\n",
       "      <td>NaN</td>\n",
       "      <td>NaN</td>\n",
       "      <td>NaN</td>\n",
       "      <td>NaN</td>\n",
       "    </tr>\n",
       "  </tbody>\n",
       "</table>\n",
       "<p>3 rows × 30 columns</p>\n",
       "</div>"
      ],
      "text/plain": [
       "  Person_toe   Time PenID FocalLegringName Bird type  CombPecks Toes  \\\n",
       "0          M  16:15  pen3           1green    normal        0.0  NaN   \n",
       "1          M  13:59  pen5          10green       epi        0.0  NaN   \n",
       "2          M  16:14  pen3           11grey    normal       88.0  NaN   \n",
       "\n",
       "   RFPododermatitis  RFBumblefoot  RFinjuries  ...  Claw  BirdType  \\\n",
       "0               0.0           0.0         0.0  ...   NaN    normal   \n",
       "1               0.0           0.0         0.0  ...   NaN    normal   \n",
       "2               0.0           0.0         0.0  ...   NaN    normal   \n",
       "\n",
       "   Person_feather  Reliability_SS  NeckFeather BreastFeather CloacaFeather  \\\n",
       "0             NaN             NaN          NaN           NaN           NaN   \n",
       "1             NaN             NaN          NaN           NaN           NaN   \n",
       "2             NaN             NaN          NaN           NaN           NaN   \n",
       "\n",
       "   BackFeather WingFeather TailFeather  \n",
       "0          NaN         NaN         NaN  \n",
       "1          NaN         NaN         NaN  \n",
       "2          NaN         NaN         NaN  \n",
       "\n",
       "[3 rows x 30 columns]"
      ]
     },
     "execution_count": 14,
     "metadata": {},
     "output_type": "execute_result"
    }
   ],
   "source": [
    "df_HA.head(3)"
   ]
  },
  {
   "cell_type": "code",
   "execution_count": 15,
   "metadata": {},
   "outputs": [
    {
     "name": "stdout",
     "output_type": "stream",
     "text": [
      "(688, 35) (528, 13) (689, 45)\n"
     ]
    },
    {
     "name": "stderr",
     "output_type": "stream",
     "text": [
      "C:\\Users\\camil\\anaconda3\\lib\\site-packages\\ipykernel\\ipkernel.py:283: DeprecationWarning: `should_run_async` will not call `transform_cell` automatically in the future. Please pass the result to `transformed_cell` argument and any exception that happen during thetransform in `preprocessing_exc_tuple` in IPython 7.17 and above.\n",
      "  and should_run_async(code)\n"
     ]
    }
   ],
   "source": [
    "df_HA_KBF = pd.merge(df_HA_HenID, df_KBF, on=['HAID','PenID','FocalLegringName'], how='outer')\n",
    "print(df_HA_HenID.shape, df_KBF.shape, df_HA_KBF.shape)"
   ]
  },
  {
   "cell_type": "code",
   "execution_count": 16,
   "metadata": {},
   "outputs": [
    {
     "name": "stderr",
     "output_type": "stream",
     "text": [
      "C:\\Users\\camil\\anaconda3\\lib\\site-packages\\ipykernel\\ipkernel.py:283: DeprecationWarning: `should_run_async` will not call `transform_cell` automatically in the future. Please pass the result to `transformed_cell` argument and any exception that happen during thetransform in `preprocessing_exc_tuple` in IPython 7.17 and above.\n",
      "  and should_run_async(code)\n"
     ]
    }
   ],
   "source": [
    "#df_HA_KBF[(df_HA_KBF['FocalLegringName']=='9grey')&(df_HA_KBF['HAID']=='HA1')]"
   ]
  },
  {
   "cell_type": "code",
   "execution_count": 17,
   "metadata": {},
   "outputs": [
    {
     "name": "stderr",
     "output_type": "stream",
     "text": [
      "C:\\Users\\camil\\anaconda3\\lib\\site-packages\\ipykernel\\ipkernel.py:283: DeprecationWarning: `should_run_async` will not call `transform_cell` automatically in the future. Please pass the result to `transformed_cell` argument and any exception that happen during thetransform in `preprocessing_exc_tuple` in IPython 7.17 and above.\n",
      "  and should_run_async(code)\n"
     ]
    }
   ],
   "source": [
    "#df_HA_HenID[(df_HA_HenID['PenID']=='pen4')&(df_HA_HenID['HAID']=='HA4')]#[['FocalLegringName', 'imageID','backpack','HAID']]"
   ]
  },
  {
   "cell_type": "code",
   "execution_count": 18,
   "metadata": {},
   "outputs": [
    {
     "name": "stderr",
     "output_type": "stream",
     "text": [
      "C:\\Users\\camil\\anaconda3\\lib\\site-packages\\ipykernel\\ipkernel.py:283: DeprecationWarning: `should_run_async` will not call `transform_cell` automatically in the future. Please pass the result to `transformed_cell` argument and any exception that happen during thetransform in `preprocessing_exc_tuple` in IPython 7.17 and above.\n",
      "  and should_run_async(code)\n"
     ]
    }
   ],
   "source": [
    "#df_KBF[(df_KBF['PenID']=='pen11')&(df_KBF['HAID']=='HA4')][['FocalLegringName', 'imageID','backpack','HAID']]"
   ]
  },
  {
   "cell_type": "code",
   "execution_count": 19,
   "metadata": {
    "scrolled": false
   },
   "outputs": [
    {
     "name": "stderr",
     "output_type": "stream",
     "text": [
      "C:\\Users\\camil\\anaconda3\\lib\\site-packages\\ipykernel\\ipkernel.py:283: DeprecationWarning: `should_run_async` will not call `transform_cell` automatically in the future. Please pass the result to `transformed_cell` argument and any exception that happen during thetransform in `preprocessing_exc_tuple` in IPython 7.17 and above.\n",
      "  and should_run_async(code)\n"
     ]
    }
   ],
   "source": [
    "#HA1, HA3, HA4 for now we have only\n",
    "#df_HA_KBF[df_HA_KBF['severity'].isnull()].groupby(['HAID','PenID'])[['FocalLegringName']].agg(lambda x: set(x)).reset_index()"
   ]
  },
  {
   "cell_type": "code",
   "execution_count": 20,
   "metadata": {},
   "outputs": [
    {
     "name": "stderr",
     "output_type": "stream",
     "text": [
      "C:\\Users\\camil\\anaconda3\\lib\\site-packages\\ipykernel\\ipkernel.py:283: DeprecationWarning: `should_run_async` will not call `transform_cell` automatically in the future. Please pass the result to `transformed_cell` argument and any exception that happen during thetransform in `preprocessing_exc_tuple` in IPython 7.17 and above.\n",
      "  and should_run_async(code)\n"
     ]
    }
   ],
   "source": [
    "#35black from pen 8 in HA1 is removed so its normal (s tag disfunctioning during that time)\n",
    "#df_HA_KBF[df_HA_KBF['HenID'].isnull()].groupby(['HAID','PenID'])['FocalLegringName'].agg(lambda x: set(x)).reset_index()"
   ]
  },
  {
   "cell_type": "code",
   "execution_count": 21,
   "metadata": {},
   "outputs": [
    {
     "name": "stderr",
     "output_type": "stream",
     "text": [
      "C:\\Users\\camil\\anaconda3\\lib\\site-packages\\ipykernel\\ipkernel.py:283: DeprecationWarning: `should_run_async` will not call `transform_cell` automatically in the future. Please pass the result to `transformed_cell` argument and any exception that happen during thetransform in `preprocessing_exc_tuple` in IPython 7.17 and above.\n",
      "  and should_run_async(code)\n"
     ]
    }
   ],
   "source": [
    "#save\n",
    "df_HA_KBF.to_csv(os.path.join(path_extracted_data,'df_all_HA.csv'), index=False, sep=';')"
   ]
  },
  {
   "cell_type": "code",
   "execution_count": 22,
   "metadata": {},
   "outputs": [
    {
     "name": "stderr",
     "output_type": "stream",
     "text": [
      "C:\\Users\\camil\\anaconda3\\lib\\site-packages\\ipykernel\\ipkernel.py:283: DeprecationWarning: `should_run_async` will not call `transform_cell` automatically in the future. Please pass the result to `transformed_cell` argument and any exception that happen during thetransform in `preprocessing_exc_tuple` in IPython 7.17 and above.\n",
      "  and should_run_async(code)\n",
      "100%|████████████████████████████████████████████████████████████████████████████████| 211/211 [12:25<00:00,  3.54s/it]\n"
     ]
    }
   ],
   "source": [
    "#do visual of HenID KBF over time\n",
    "df_plot = df_HA_KBF.sort_values('HAID').copy()\n",
    "df_plot = df_plot[~df_plot['actual_path_img'].isnull()] #missing KBF\n",
    "df_plot = df_plot.groupby(['HenID'])[['HAID','actual_path_img','severity','has_gap']].agg(lambda x: list(x)).reset_index()\n",
    "for i in tqdm.tqdm(range(df_plot.shape[0])):\n",
    "    x = df_plot.iloc[i]\n",
    "    li_path = x['actual_path_img']\n",
    "    li_HAID = x['HAID']\n",
    "    henid = x['HenID']\n",
    "    li_sev = x['severity']\n",
    "    li_gap = x['has_gap']\n",
    "    c = len(li_path) ; l = 1\n",
    "    fig = plt.figure(figsize=(c*3, l*3)) #/100 si trop grand nbr\n",
    "    for i,path_ in enumerate(li_path):\n",
    "        plt.subplot(l,c,i+1)\n",
    "        plt.tight_layout() #avoid titles superpositions\n",
    "        img = cv2.imread(path_)\n",
    "        plt.imshow(img)\n",
    "        plt.xticks([]) #remove xlabel annotations\n",
    "        plt.yticks([])\n",
    "        plt.title(li_HAID[i]+' sev:'+str(li_sev[i])+' gap:'+str(li_gap[i]), size=9)\n",
    "    plt.savefig(os.path.join(path_extracted_HA_visual,'KBF_'+henid+'.png'),dpi=300,format='png',bbox_inches='tight')\n",
    "    plt.close() #otherwise it will print all plot"
   ]
  },
  {
   "cell_type": "markdown",
   "metadata": {},
   "source": [
    "# Playground"
   ]
  },
  {
   "cell_type": "code",
   "execution_count": 32,
   "metadata": {},
   "outputs": [
    {
     "name": "stderr",
     "output_type": "stream",
     "text": [
      "C:\\Users\\camil\\anaconda3\\lib\\site-packages\\ipykernel\\ipkernel.py:283: DeprecationWarning: `should_run_async` will not call `transform_cell` automatically in the future. Please pass the result to `transformed_cell` argument and any exception that happen during thetransform in `preprocessing_exc_tuple` in IPython 7.17 and above.\n",
      "  and should_run_async(code)\n"
     ]
    },
    {
     "data": {
      "text/plain": [
       "Index(['Person_toe', 'Time', 'PenID', 'FocalLegringName', 'Bird type',\n",
       "       'CombPecks', 'Toes', 'RFPododermatitis', 'RFBumblefoot', 'RFinjuries',\n",
       "       'LFPododermatitis', 'LFBumblefoot', 'LFinjuries', 'Reliability_MC',\n",
       "       'PassageID', 'Diarrhea', 'Commentaires', 'SomeHenID', 'HAID', 'date',\n",
       "       'Claw', 'BirdType', 'Person_feather', 'Reliability_SS', 'NeckFeather',\n",
       "       'BreastFeather', 'CloacaFeather', 'BackFeather', 'WingFeather',\n",
       "       'TailFeather', 'HenID', 'toremove', 'weight', 'DOA', 'WOA'],\n",
       "      dtype='object')"
      ]
     },
     "execution_count": 32,
     "metadata": {},
     "output_type": "execute_result"
    }
   ],
   "source": [
    "df_HA_HenID.columns"
   ]
  },
  {
   "cell_type": "code",
   "execution_count": 24,
   "metadata": {},
   "outputs": [
    {
     "name": "stderr",
     "output_type": "stream",
     "text": [
      "C:\\Users\\camil\\anaconda3\\lib\\site-packages\\ipykernel\\ipkernel.py:283: DeprecationWarning: `should_run_async` will not call `transform_cell` automatically in the future. Please pass the result to `transformed_cell` argument and any exception that happen during thetransform in `preprocessing_exc_tuple` in IPython 7.17 and above.\n",
      "  and should_run_async(code)\n"
     ]
    },
    {
     "data": {
      "text/plain": [
       "array([0.0, '1', 1.0, nan, '0', 2.0, 'N/A '], dtype=object)"
      ]
     },
     "execution_count": 24,
     "metadata": {},
     "output_type": "execute_result"
    }
   ],
   "source": [
    "df_HA_HenID['Diarrhea'].unique()"
   ]
  },
  {
   "cell_type": "code",
   "execution_count": 25,
   "metadata": {},
   "outputs": [
    {
     "name": "stderr",
     "output_type": "stream",
     "text": [
      "C:\\Users\\camil\\anaconda3\\lib\\site-packages\\ipykernel\\ipkernel.py:283: DeprecationWarning: `should_run_async` will not call `transform_cell` automatically in the future. Please pass the result to `transformed_cell` argument and any exception that happen during thetransform in `preprocessing_exc_tuple` in IPython 7.17 and above.\n",
      "  and should_run_async(code)\n"
     ]
    },
    {
     "data": {
      "text/html": [
       "<div>\n",
       "<style scoped>\n",
       "    .dataframe tbody tr th:only-of-type {\n",
       "        vertical-align: middle;\n",
       "    }\n",
       "\n",
       "    .dataframe tbody tr th {\n",
       "        vertical-align: top;\n",
       "    }\n",
       "\n",
       "    .dataframe thead th {\n",
       "        text-align: right;\n",
       "    }\n",
       "</style>\n",
       "<table border=\"1\" class=\"dataframe\">\n",
       "  <thead>\n",
       "    <tr style=\"text-align: right;\">\n",
       "      <th></th>\n",
       "      <th>HenID</th>\n",
       "      <th>date</th>\n",
       "      <th>CombPecks</th>\n",
       "      <th>RFPododermatitis</th>\n",
       "      <th>RFBumblefoot</th>\n",
       "      <th>RFinjuries</th>\n",
       "      <th>LFPododermatitis</th>\n",
       "      <th>LFBumblefoot</th>\n",
       "      <th>LFinjuries</th>\n",
       "      <th>NeckFeather</th>\n",
       "      <th>BreastFeather</th>\n",
       "      <th>CloacaFeather</th>\n",
       "      <th>BackFeather</th>\n",
       "      <th>WingFeather</th>\n",
       "      <th>TailFeather</th>\n",
       "      <th>weight</th>\n",
       "    </tr>\n",
       "  </thead>\n",
       "  <tbody>\n",
       "    <tr>\n",
       "      <th>963</th>\n",
       "      <td>hen_145</td>\n",
       "      <td>2021-04-12</td>\n",
       "      <td>15.0</td>\n",
       "      <td>50.0</td>\n",
       "      <td>0.0</td>\n",
       "      <td>0.0</td>\n",
       "      <td>25.0</td>\n",
       "      <td>0.0</td>\n",
       "      <td>0.0</td>\n",
       "      <td>97.0</td>\n",
       "      <td>59.0</td>\n",
       "      <td>99.0</td>\n",
       "      <td>100.0</td>\n",
       "      <td>73.0</td>\n",
       "      <td>78.0</td>\n",
       "      <td>1995.5</td>\n",
       "    </tr>\n",
       "    <tr>\n",
       "      <th>17</th>\n",
       "      <td>hen_48</td>\n",
       "      <td>2020-11-23</td>\n",
       "      <td>25.0</td>\n",
       "      <td>0.0</td>\n",
       "      <td>0.0</td>\n",
       "      <td>0.0</td>\n",
       "      <td>0.0</td>\n",
       "      <td>0.0</td>\n",
       "      <td>0.0</td>\n",
       "      <td>NaN</td>\n",
       "      <td>NaN</td>\n",
       "      <td>NaN</td>\n",
       "      <td>NaN</td>\n",
       "      <td>NaN</td>\n",
       "      <td>NaN</td>\n",
       "      <td>1730.4</td>\n",
       "    </tr>\n",
       "    <tr>\n",
       "      <th>424</th>\n",
       "      <td>hen_29</td>\n",
       "      <td>2021-01-04</td>\n",
       "      <td>10.0</td>\n",
       "      <td>0.0</td>\n",
       "      <td>0.0</td>\n",
       "      <td>50.0</td>\n",
       "      <td>0.0</td>\n",
       "      <td>0.0</td>\n",
       "      <td>0.0</td>\n",
       "      <td>100.0</td>\n",
       "      <td>100.0</td>\n",
       "      <td>100.0</td>\n",
       "      <td>100.0</td>\n",
       "      <td>100.0</td>\n",
       "      <td>100.0</td>\n",
       "      <td>1961.6</td>\n",
       "    </tr>\n",
       "  </tbody>\n",
       "</table>\n",
       "</div>"
      ],
      "text/plain": [
       "       HenID       date  CombPecks  RFPododermatitis  RFBumblefoot  \\\n",
       "963  hen_145 2021-04-12       15.0              50.0           0.0   \n",
       "17    hen_48 2020-11-23       25.0               0.0           0.0   \n",
       "424   hen_29 2021-01-04       10.0               0.0           0.0   \n",
       "\n",
       "     RFinjuries  LFPododermatitis  LFBumblefoot  LFinjuries  NeckFeather  \\\n",
       "963         0.0              25.0           0.0         0.0         97.0   \n",
       "17          0.0               0.0           0.0         0.0          NaN   \n",
       "424        50.0               0.0           0.0         0.0        100.0   \n",
       "\n",
       "     BreastFeather  CloacaFeather  BackFeather  WingFeather  TailFeather  \\\n",
       "963           59.0           99.0        100.0         73.0         78.0   \n",
       "17             NaN            NaN          NaN          NaN          NaN   \n",
       "424          100.0          100.0        100.0        100.0        100.0   \n",
       "\n",
       "     weight  \n",
       "963  1995.5  \n",
       "17   1730.4  \n",
       "424  1961.6  "
      ]
     },
     "execution_count": 25,
     "metadata": {},
     "output_type": "execute_result"
    }
   ],
   "source": [
    "li_HAvar = ['CombPecks', 'RFPododermatitis', 'RFBumblefoot', 'RFinjuries',\n",
    "            'LFPododermatitis', 'LFBumblefoot', 'LFinjuries','NeckFeather',\n",
    "            'BreastFeather', 'CloacaFeather', 'BackFeather', 'WingFeather','TailFeather','weight'] #Diarrhea\n",
    "df_HA_HenID[['HenID','date']+li_HAvar].head(3)"
   ]
  },
  {
   "cell_type": "code",
   "execution_count": 26,
   "metadata": {},
   "outputs": [
    {
     "name": "stderr",
     "output_type": "stream",
     "text": [
      "C:\\Users\\camil\\anaconda3\\lib\\site-packages\\ipykernel\\ipkernel.py:283: DeprecationWarning: `should_run_async` will not call `transform_cell` automatically in the future. Please pass the result to `transformed_cell` argument and any exception that happen during thetransform in `preprocessing_exc_tuple` in IPython 7.17 and above.\n",
      "  and should_run_async(code)\n"
     ]
    },
    {
     "data": {
      "text/plain": [
       "L inflammed           12\n",
       "R inflammed           12\n",
       "L missing              4\n",
       "R missing              2\n",
       "L inflammed (feet)     1\n",
       "injuries               1\n",
       "Name: Toes, dtype: int64"
      ]
     },
     "execution_count": 26,
     "metadata": {},
     "output_type": "execute_result"
    }
   ],
   "source": [
    "df_HA_HenID['Toes'].value_counts()"
   ]
  },
  {
   "cell_type": "code",
   "execution_count": 27,
   "metadata": {},
   "outputs": [
    {
     "name": "stderr",
     "output_type": "stream",
     "text": [
      "C:\\Users\\camil\\anaconda3\\lib\\site-packages\\ipykernel\\ipkernel.py:283: DeprecationWarning: `should_run_async` will not call `transform_cell` automatically in the future. Please pass the result to `transformed_cell` argument and any exception that happen during thetransform in `preprocessing_exc_tuple` in IPython 7.17 and above.\n",
      "  and should_run_async(code)\n"
     ]
    },
    {
     "data": {
      "text/plain": [
       "L missing        8\n",
       "R missing        6\n",
       "missing          2\n",
       "missing L        2\n",
       "R old            2\n",
       "1 old missing    1\n",
       "L old d          1\n",
       "R claw old       1\n",
       "L old            1\n",
       "missing R        1\n",
       "Name: Claw, dtype: int64"
      ]
     },
     "execution_count": 27,
     "metadata": {},
     "output_type": "execute_result"
    }
   ],
   "source": [
    "df_HA_HenID['Claw'].value_counts()"
   ]
  },
  {
   "cell_type": "code",
   "execution_count": 28,
   "metadata": {
    "scrolled": false
   },
   "outputs": [
    {
     "name": "stderr",
     "output_type": "stream",
     "text": [
      "C:\\Users\\camil\\anaconda3\\lib\\site-packages\\ipykernel\\ipkernel.py:283: DeprecationWarning: `should_run_async` will not call `transform_cell` automatically in the future. Please pass the result to `transformed_cell` argument and any exception that happen during thetransform in `preprocessing_exc_tuple` in IPython 7.17 and above.\n",
      "  and should_run_async(code)\n"
     ]
    },
    {
     "data": {
      "image/png": "[encoded data removed]",
      "text/plain": [
       "<Figure size 432x288 with 1 Axes>"
      ]
     },
     "metadata": {
      "needs_background": "light"
     },
     "output_type": "display_data"
    },
    {
     "data": {
      "image/png": "[encoded data removed]",
      "text/plain": [
       "<Figure size 432x288 with 1 Axes>"
      ]
     },
     "metadata": {
      "needs_background": "light"
     },
     "output_type": "display_data"
    },
    {
     "data": {
      "image/png": "[encoded data removed]",
      "text/plain": [
       "<Figure size 432x288 with 1 Axes>"
      ]
     },
     "metadata": {
      "needs_background": "light"
     },
     "output_type": "display_data"
    },
    {
     "data": {
      "image/png": "[encoded data removed]",
      "text/plain": [
       "<Figure size 432x288 with 1 Axes>"
      ]
     },
     "metadata": {
      "needs_background": "light"
     },
     "output_type": "display_data"
    },
    {
     "data": {
      "image/png": "[encoded data removed]",
      "text/plain": [
       "<Figure size 432x288 with 1 Axes>"
      ]
     },
     "metadata": {
      "needs_background": "light"
     },
     "output_type": "display_data"
    },
    {
     "data": {
      "image/png": "[encoded data removed]",
      "text/plain": [
       "<Figure size 432x288 with 1 Axes>"
      ]
     },
     "metadata": {
      "needs_background": "light"
     },
     "output_type": "display_data"
    },
    {
     "data": {
      "image/png": "[encoded data removed]",
      "text/plain": [
       "<Figure size 432x288 with 1 Axes>"
      ]
     },
     "metadata": {
      "needs_background": "light"
     },
     "output_type": "display_data"
    },
    {
     "data": {
      "image/png": "[encoded data removed]",
      "text/plain": [
       "<Figure size 432x288 with 1 Axes>"
      ]
     },
     "metadata": {
      "needs_background": "light"
     },
     "output_type": "display_data"
    },
    {
     "data": {
      "image/png": "[encoded data removed]",
      "text/plain": [
       "<Figure size 432x288 with 1 Axes>"
      ]
     },
     "metadata": {
      "needs_background": "light"
     },
     "output_type": "display_data"
    },
    {
     "data": {
      "image/png": "[encoded data removed]",
      "text/plain": [
       "<Figure size 432x288 with 1 Axes>"
      ]
     },
     "metadata": {
      "needs_background": "light"
     },
     "output_type": "display_data"
    },
    {
     "data": {
      "image/png": "[encoded data removed]",
      "text/plain": [
       "<Figure size 432x288 with 1 Axes>"
      ]
     },
     "metadata": {
      "needs_background": "light"
     },
     "output_type": "display_data"
    },
    {
     "data": {
      "image/png": "[encoded data removed]",
      "text/plain": [
       "<Figure size 432x288 with 1 Axes>"
      ]
     },
     "metadata": {
      "needs_background": "light"
     },
     "output_type": "display_data"
    },
    {
     "data": {
      "image/png": "[encoded data removed]",
      "text/plain": [
       "<Figure size 432x288 with 1 Axes>"
      ]
     },
     "metadata": {
      "needs_background": "light"
     },
     "output_type": "display_data"
    },
    {
     "data": {
      "image/png": "[encoded data removed]",
      "text/plain": [
       "<Figure size 432x288 with 1 Axes>"
      ]
     },
     "metadata": {
      "needs_background": "light"
     },
     "output_type": "display_data"
    }
   ],
   "source": [
    "for v in li_HAvar:\n",
    "    ax = sns.boxplot(x=\"WOA\", y=v, data=df_HA_HenID);\n",
    "    plt.title(v.upper())\n",
    "    plt.savefig(os.path.join(path_extracted_HA_visual,v+'.png'),dpi=300,format='png',bbox_inches='tight')\n",
    "    plt.show()"
   ]
  },
  {
   "cell_type": "code",
   "execution_count": 31,
   "metadata": {},
   "outputs": [
    {
     "name": "stderr",
     "output_type": "stream",
     "text": [
      "C:\\Users\\camil\\anaconda3\\lib\\site-packages\\ipykernel\\ipkernel.py:283: DeprecationWarning: `should_run_async` will not call `transform_cell` automatically in the future. Please pass the result to `transformed_cell` argument and any exception that happen during thetransform in `preprocessing_exc_tuple` in IPython 7.17 and above.\n",
      "  and should_run_async(code)\n"
     ]
    },
    {
     "data": {
      "text/plain": [
       "Index(['Person_toe', 'Time', 'PenID', 'FocalLegringName', 'Bird type',\n",
       "       'CombPecks', 'Toes', 'RFPododermatitis', 'RFBumblefoot', 'RFinjuries',\n",
       "       'LFPododermatitis', 'LFBumblefoot', 'LFinjuries', 'Reliability_MC',\n",
       "       'PassageID', 'Diarrhea', 'Commentaires', 'SomeHenID', 'HAID', 'date',\n",
       "       'Claw', 'BirdType', 'Person_feather', 'Reliability_SS', 'NeckFeather',\n",
       "       'BreastFeather', 'CloacaFeather', 'BackFeather', 'WingFeather',\n",
       "       'TailFeather', 'HenID', 'toremove', 'weight', 'DOA', 'WOA',\n",
       "       'initial_path_img', 'actual_path_img', 'imageID', 'random_order1',\n",
       "       'severity', 'has_gap', 'BirdID', 'uncertainty (0:certain:1 random)',\n",
       "       'Info', 'backpack'],\n",
       "      dtype='object')"
      ]
     },
     "execution_count": 31,
     "metadata": {},
     "output_type": "execute_result"
    }
   ],
   "source": [
    "df_HA_KBF.columns"
   ]
  },
  {
   "cell_type": "code",
   "execution_count": null,
   "metadata": {},
   "outputs": [],
   "source": []
  },
  {
   "cell_type": "code",
   "execution_count": null,
   "metadata": {},
   "outputs": [],
   "source": []
  },
  {
   "cell_type": "code",
   "execution_count": null,
   "metadata": {},
   "outputs": [],
   "source": []
  }
 ],
 "metadata": {
  "kernelspec": {
   "display_name": "Python 3",
   "language": "python",
   "name": "python3"
  },
  "language_info": {
   "codemirror_mode": {
    "name": "ipython",
    "version": 3
   },
   "file_extension": ".py",
   "mimetype": "text/x-python",
   "name": "python",
   "nbconvert_exporter": "python",
   "pygments_lexer": "ipython3",
   "version": "3.8.5"
  }
 },
 "nbformat": 4,
 "nbformat_minor": 2
}
