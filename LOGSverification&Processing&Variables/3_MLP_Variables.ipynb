{
 "cells": [
  {
   "cell_type": "code",
   "execution_count": 1,
   "metadata": {},
   "outputs": [],
   "source": [
    "#basic package\n",
    "import tqdm\n",
    "import os\n",
    "import numpy as np\n",
    "import glob\n",
    "import pandas as pd\n",
    "import sys\n",
    "import time\n",
    "import datetime as dt\n",
    "import itertools\n",
    "import re\n",
    "import math\n",
    "from collections import Counter\n",
    "import operator\n",
    "\n",
    "#scaling\n",
    "from sklearn.preprocessing import StandardScaler, MinMaxScaler\n",
    "\n",
    "#clustering\n",
    "from sklearn.cluster import KMeans #only numerical var\n",
    "from sklearn.metrics import silhouette_samples, silhouette_score\n",
    "import kmodes\n",
    "from kmodes.kmodes import KModes #with categorical var as well\n",
    "\n",
    "#plot\n",
    "import matplotlib.pyplot as plt\n",
    "import seaborn as sns"
   ]
  },
  {
   "cell_type": "code",
   "execution_count": 2,
   "metadata": {},
   "outputs": [
    {
     "name": "stderr",
     "output_type": "stream",
     "text": [
      "C:\\Users\\camil\\anaconda3\\lib\\site-packages\\scipy\\sparse\\sparsetools.py:21: DeprecationWarning: `scipy.sparse.sparsetools` is deprecated!\n",
      "scipy.sparse.sparsetools is a private module for scipy.sparse, and should not be used.\n",
      "  _deprecated()\n"
     ]
    }
   ],
   "source": [
    "PACKAGE_PARENT = '../'\n",
    "SCRIPT_DIR = os.path.dirname(os.path.realpath(os.path.join(os.getcwd(), os.path.expanduser('__file__'))))\n",
    "sys.path.append(os.path.normpath(os.path.join(SCRIPT_DIR, PACKAGE_PARENT)))\n",
    "from UTILS import preprocessing_Origins,verification_based_on_initial_record,\\\n",
    "time_series_henColumn_tsRow,is_day,vertical_travel_distance, li_missingZone_mvtPerc_DU, li_event_chaoticmvt_z_d,\\\n",
    "ZoneVariable, HenDailyVariable_Origins, boxplot_distribution_entropy,\\\n",
    "nbr_transition, max_duration_zones, openDevice, kmeans_clustering\n",
    "import config_origins as config"
   ]
  },
  {
   "cell_type": "markdown",
   "metadata": {},
   "source": [
    "# Define parameters"
   ]
  },
  {
   "cell_type": "code",
   "execution_count": 3,
   "metadata": {
    "scrolled": true
   },
   "outputs": [
    {
     "name": "stdout",
     "output_type": "stream",
     "text": [
      "change the configuration file if not done yet!\n",
      "correctlightschedule_\n"
     ]
    },
    {
     "name": "stderr",
     "output_type": "stream",
     "text": [
      "C:\\Users\\camil\\anaconda3\\lib\\site-packages\\ipykernel\\ipkernel.py:283: DeprecationWarning: `should_run_async` will not call `transform_cell` automatically in the future. Please pass the result to `transformed_cell` argument and any exception that happen during thetransform in `preprocessing_exc_tuple` in IPython 7.17 and above.\n",
      "  and should_run_async(code)\n"
     ]
    }
   ],
   "source": [
    "print('change the configuration file if not done yet!')\n",
    "path_extracted_data = config.path_extracted_data\n",
    "path_initial_data = config.path_initial_data\n",
    "id_run = config.id_run\n",
    "dico_matching = config.dico_matching\n",
    "print(id_run)\n",
    "path_extracted_data_visual = os.path.join(path_extracted_data,'visual')\n",
    "#create a director if not existing\n",
    "if not os.path.exists(path_extracted_data_visual):\n",
    "    os.makedirs(path_extracted_data_visual)"
   ]
  },
  {
   "cell_type": "markdown",
   "metadata": {},
   "source": [
    "# Variables at Hen level"
   ]
  },
  {
   "cell_type": "code",
   "execution_count": 4,
   "metadata": {},
   "outputs": [
    {
     "name": "stderr",
     "output_type": "stream",
     "text": [
      "C:\\Users\\camil\\anaconda3\\lib\\site-packages\\ipykernel\\ipkernel.py:283: DeprecationWarning: `should_run_async` will not call `transform_cell` automatically in the future. Please pass the result to `transformed_cell` argument and any exception that happen during thetransform in `preprocessing_exc_tuple` in IPython 7.17 and above.\n",
      "  and should_run_async(code)\n"
     ]
    }
   ],
   "source": [
    "#WARNING: we do it at seconds level, so the miliseconds from the general cleaning is not used!! "
   ]
  },
  {
   "cell_type": "code",
   "execution_count": 5,
   "metadata": {},
   "outputs": [
    {
     "name": "stderr",
     "output_type": "stream",
     "text": [
      "C:\\Users\\camil\\anaconda3\\lib\\site-packages\\ipykernel\\ipkernel.py:283: DeprecationWarning: `should_run_async` will not call `transform_cell` automatically in the future. Please pass the result to `transformed_cell` argument and any exception that happen during thetransform in `preprocessing_exc_tuple` in IPython 7.17 and above.\n",
      "  and should_run_async(code)\n"
     ]
    },
    {
     "name": "stdout",
     "output_type": "stream",
     "text": [
      "(1323363, 16)\n"
     ]
    },
    {
     "data": {
      "text/html": [
       "<div>\n",
       "<style scoped>\n",
       "    .dataframe tbody tr th:only-of-type {\n",
       "        vertical-align: middle;\n",
       "    }\n",
       "\n",
       "    .dataframe tbody tr th {\n",
       "        vertical-align: top;\n",
       "    }\n",
       "\n",
       "    .dataframe thead th {\n",
       "        text-align: right;\n",
       "    }\n",
       "</style>\n",
       "<table border=\"1\" class=\"dataframe\">\n",
       "  <thead>\n",
       "    <tr style=\"text-align: right;\">\n",
       "      <th></th>\n",
       "      <th>HenID</th>\n",
       "      <th>PenID</th>\n",
       "      <th>system</th>\n",
       "      <th>Zone</th>\n",
       "      <th>model_prediction</th>\n",
       "      <th>Timestamp</th>\n",
       "      <th>date</th>\n",
       "      <th>next_record_date</th>\n",
       "      <th>duration</th>\n",
       "      <th>previous_record_date</th>\n",
       "      <th>previous_duration</th>\n",
       "      <th>next_zone</th>\n",
       "      <th>previous_zone</th>\n",
       "      <th>previous_previous_zone</th>\n",
       "      <th>correction_is_consecutive_equal_initial_zone</th>\n",
       "      <th>is_WG_open</th>\n",
       "    </tr>\n",
       "  </thead>\n",
       "  <tbody>\n",
       "    <tr>\n",
       "      <th>0</th>\n",
       "      <td>hen_71</td>\n",
       "      <td>pen12</td>\n",
       "      <td>10 - 12</td>\n",
       "      <td>3_Zone</td>\n",
       "      <td>1.0</td>\n",
       "      <td>2020-09-29 09:07:00</td>\n",
       "      <td>2020-09-29</td>\n",
       "      <td>2020-09-29 09:08:26.000</td>\n",
       "      <td>0 days 00:01:26</td>\n",
       "      <td>NaN</td>\n",
       "      <td>NaN</td>\n",
       "      <td>3_Zone</td>\n",
       "      <td>NaN</td>\n",
       "      <td>NaN</td>\n",
       "      <td>False</td>\n",
       "      <td>False</td>\n",
       "    </tr>\n",
       "    <tr>\n",
       "      <th>1</th>\n",
       "      <td>hen_7</td>\n",
       "      <td>pen11</td>\n",
       "      <td>10 - 12</td>\n",
       "      <td>3_Zone</td>\n",
       "      <td>1.0</td>\n",
       "      <td>2020-09-29 09:08:12</td>\n",
       "      <td>2020-09-29</td>\n",
       "      <td>2020-09-29 09:12:16.000</td>\n",
       "      <td>0 days 00:04:04</td>\n",
       "      <td>NaN</td>\n",
       "      <td>NaN</td>\n",
       "      <td>3_Zone</td>\n",
       "      <td>NaN</td>\n",
       "      <td>NaN</td>\n",
       "      <td>False</td>\n",
       "      <td>False</td>\n",
       "    </tr>\n",
       "    <tr>\n",
       "      <th>2</th>\n",
       "      <td>hen_10</td>\n",
       "      <td>pen11</td>\n",
       "      <td>10 - 12</td>\n",
       "      <td>3_Zone</td>\n",
       "      <td>1.0</td>\n",
       "      <td>2020-09-29 09:19:19</td>\n",
       "      <td>2020-09-29</td>\n",
       "      <td>2020-09-29 09:20:27.000</td>\n",
       "      <td>0 days 00:01:08</td>\n",
       "      <td>NaN</td>\n",
       "      <td>NaN</td>\n",
       "      <td>3_Zone</td>\n",
       "      <td>NaN</td>\n",
       "      <td>NaN</td>\n",
       "      <td>False</td>\n",
       "      <td>False</td>\n",
       "    </tr>\n",
       "  </tbody>\n",
       "</table>\n",
       "</div>"
      ],
      "text/plain": [
       "    HenID  PenID   system    Zone  model_prediction           Timestamp  \\\n",
       "0  hen_71  pen12  10 - 12  3_Zone               1.0 2020-09-29 09:07:00   \n",
       "1   hen_7  pen11  10 - 12  3_Zone               1.0 2020-09-29 09:08:12   \n",
       "2  hen_10  pen11  10 - 12  3_Zone               1.0 2020-09-29 09:19:19   \n",
       "\n",
       "        date         next_record_date         duration previous_record_date  \\\n",
       "0 2020-09-29  2020-09-29 09:08:26.000  0 days 00:01:26                  NaN   \n",
       "1 2020-09-29  2020-09-29 09:12:16.000  0 days 00:04:04                  NaN   \n",
       "2 2020-09-29  2020-09-29 09:20:27.000  0 days 00:01:08                  NaN   \n",
       "\n",
       "  previous_duration next_zone previous_zone previous_previous_zone  \\\n",
       "0               NaN    3_Zone           NaN                    NaN   \n",
       "1               NaN    3_Zone           NaN                    NaN   \n",
       "2               NaN    3_Zone           NaN                    NaN   \n",
       "\n",
       "   correction_is_consecutive_equal_initial_zone  is_WG_open  \n",
       "0                                         False       False  \n",
       "1                                         False       False  \n",
       "2                                         False       False  "
      ]
     },
     "execution_count": 5,
     "metadata": {},
     "output_type": "execute_result"
    }
   ],
   "source": [
    "#for being more reproductible, we open the file that was saved from cleaning\n",
    "df = pd.read_csv(os.path.join(path_extracted_data, id_run+'_CLEANEDDATA.csv'), sep=';', parse_dates=['Timestamp', 'date']) \n",
    "print(df.shape)\n",
    "df.head(3)"
   ]
  },
  {
   "cell_type": "code",
   "execution_count": 6,
   "metadata": {
    "scrolled": true
   },
   "outputs": [
    {
     "name": "stderr",
     "output_type": "stream",
     "text": [
      "C:\\Users\\camil\\anaconda3\\lib\\site-packages\\ipykernel\\ipkernel.py:283: DeprecationWarning: `should_run_async` will not call `transform_cell` automatically in the future. Please pass the result to `transformed_cell` argument and any exception that happen during thetransform in `preprocessing_exc_tuple` in IPython 7.17 and above.\n",
      "  and should_run_async(code)\n",
      "\r",
      "  0%|                                                                                            | 0/8 [00:00<?, ?it/s]"
     ]
    },
    {
     "name": "stdout",
     "output_type": "stream",
     "text": [
      "pen12\n"
     ]
    },
    {
     "name": "stderr",
     "output_type": "stream",
     "text": [
      "C:\\Users\\camil\\Desktop\\animals_code\\PhD\\UTILS.py:3933: SettingWithCopyWarning: \n",
      "A value is trying to be set on a copy of a slice from a DataFrame\n",
      "\n",
      "See the caveats in the documentation: https://pandas.pydata.org/pandas-docs/stable/user_guide/indexing.html#returning-a-view-versus-a-copy\n",
      "  df.sort_values([timestamp_name], inplace=True)\n",
      "C:\\Users\\camil\\Desktop\\animals_code\\PhD\\UTILS.py:3935: SettingWithCopyWarning: \n",
      "A value is trying to be set on a copy of a slice from a DataFrame.\n",
      "Try using .loc[row_indexer,col_indexer] = value instead\n",
      "\n",
      "See the caveats in the documentation: https://pandas.pydata.org/pandas-docs/stable/user_guide/indexing.html#returning-a-view-versus-a-copy\n",
      "  df[timestamp_name] = df[timestamp_name].map(lambda x: dt.datetime(x.year,x.month,x.day,x.hour,x.minute, x.second))\n"
     ]
    },
    {
     "name": "stdout",
     "output_type": "stream",
     "text": [
      "----------------- Create time serie\n",
      "in this time series there is 29 hens\n",
      "The initial starting date in over all is: 2020-09-29 09:07:00, and the ending date will be: 2021-03-01 08:32:40\n",
      "But note that birds may have different ending and starting date which should be taken into account when computing variables\n",
      "and after ending the last day at midnight : 2020-09-29 09:07:00, and the ending date will be: 2021-03-01 23:59:59\n",
      "Total running time: 2.68 mn\n",
      "your time series has 1 seconds between two timestamps\n",
      "----------------- main night zone and nbr of transitions over night....\n",
      "----------------- total duration per Zone in seconds....\n",
      "----------------- first timestamp in each zone per day....\n",
      "----------------- number of Zone (excluding nan)....\n",
      "----------------- compute some variables based on a list of zones over a day....\n",
      "----------------NESTBOX\n"
     ]
    },
    {
     "name": "stderr",
     "output_type": "stream",
     "text": [
      "\n",
      "  0%|                                                                                           | 0/29 [00:00<?, ?it/s]\u001b[A\n",
      "  7%|█████▋                                                                             | 2/29 [00:00<00:07,  3.49it/s]\u001b[A\n",
      " 10%|████████▌                                                                          | 3/29 [00:00<00:07,  3.60it/s]\u001b[A\n",
      " 14%|███████████▍                                                                       | 4/29 [00:00<00:05,  4.34it/s]\u001b[A\n",
      " 17%|██████████████▎                                                                    | 5/29 [00:01<00:05,  4.20it/s]\u001b[A\n",
      " 21%|█████████████████▏                                                                 | 6/29 [00:01<00:05,  3.90it/s]\u001b[A\n",
      " 24%|████████████████████                                                               | 7/29 [00:05<00:30,  1.38s/it]\u001b[A\n",
      " 28%|██████████████████████▉                                                            | 8/29 [00:05<00:21,  1.03s/it]\u001b[A\n",
      " 34%|████████████████████████████▎                                                     | 10/29 [00:05<00:14,  1.33it/s]\u001b[A\n",
      " 41%|█████████████████████████████████▉                                                | 12/29 [00:06<00:10,  1.69it/s]\u001b[A\n",
      " 45%|████████████████████████████████████▊                                             | 13/29 [00:06<00:07,  2.09it/s]\u001b[A\n",
      " 48%|███████████████████████████████████████▌                                          | 14/29 [00:06<00:06,  2.38it/s]\u001b[A\n",
      " 52%|██████████████████████████████████████████▍                                       | 15/29 [00:06<00:04,  3.07it/s]\u001b[A\n",
      " 66%|█████████████████████████████████████████████████████▋                            | 19/29 [00:07<00:02,  4.17it/s]\u001b[A\n",
      " 72%|███████████████████████████████████████████████████████████▍                      | 21/29 [00:07<00:01,  4.20it/s]\u001b[A\n",
      " 76%|██████████████████████████████████████████████████████████████▏                   | 22/29 [00:07<00:01,  4.22it/s]\u001b[A\n",
      " 83%|███████████████████████████████████████████████████████████████████▊              | 24/29 [00:08<00:00,  5.20it/s]\u001b[A\n",
      " 90%|█████████████████████████████████████████████████████████████████████████▌        | 26/29 [00:08<00:00,  5.22it/s]\u001b[A\n",
      " 93%|████████████████████████████████████████████████████████████████████████████▎     | 27/29 [00:08<00:00,  4.06it/s]\u001b[A\n",
      " 97%|███████████████████████████████████████████████████████████████████████████████▏  | 28/29 [00:09<00:00,  3.93it/s]\u001b[A\n",
      "100%|██████████████████████████████████████████████████████████████████████████████████| 29/29 [00:09<00:00,  3.14it/s]\u001b[A\n",
      "C:\\Users\\camil\\anaconda3\\lib\\site-packages\\numpy\\lib\\nanfunctions.py:1366: RuntimeWarning: Mean of empty slice\n",
      "  return np.nanmean(a, axis, out=out, keepdims=keepdims)\n"
     ]
    },
    {
     "name": "stdout",
     "output_type": "stream",
     "text": [
      "------------ add hen basics info\n",
      "From the focalBirdinfo, you have 160 ative tags\n",
      "(3865, 107)\n",
      "(3058, 109)\n",
      "-------------- Lets remove unwanted dates at PENS level\n"
     ]
    },
    {
     "data": {
      "text/html": [
       "<text style=color:black>By removing the unwanted days we passed from 3058 to 2846 timestamp (losing </text> <text style=color:red>212</text> <text style=color:black> timestamp)</text>"
      ],
      "text/plain": [
       "<IPython.core.display.HTML object>"
      ]
     },
     "metadata": {},
     "output_type": "display_data"
    },
    {
     "name": "stdout",
     "output_type": "stream",
     "text": [
      "All the night variables are:  Index(['HenID', 'night_level', 'night_Max_duration_zones',\n",
      "       'night_distribution_entropy', 'night_Total_number_transition',\n",
      "       'nbr_transition_at_h0', 'nbr_transition_at_h1', 'nbr_transition_at_h2',\n",
      "       'nbr_transition_at_h3', 'nbr_transition_at_h4', 'nbr_transition_at_h5',\n",
      "       'nbr_transition_at_h6', 'nbr_transition_at_h7', 'nbr_transition_at_h8',\n",
      "       'nbr_transition_at_h21', 'nbr_transition_at_h22',\n",
      "       'nbr_transition_at_h23', 'nbr_transition_next1hafterlightoff', 'level',\n",
      "       'PenID', 'CLASS', 'R-Pen', 'InitialStartDate', '29-09 weight',\n",
      "       '10-12 juin weight', 'weight 23-11-2020', 'weight 04-01-2021',\n",
      "       'weight 01-02-21', 'Treatment'],\n",
      "      dtype='object')\n",
      "['night_level']\n",
      "-------------- Lets remove dates of tags when they were not giving deviceupdate regularly\n"
     ]
    },
    {
     "data": {
      "text/html": [
       "<text style=color:black>By removing the unwanted days we passed from 3775 to 3734 timestamp (losing </text> <text style=color:red>41</text> <text style=color:black> timestamp)</text>"
      ],
      "text/plain": [
       "<IPython.core.display.HTML object>"
      ]
     },
     "metadata": {},
     "output_type": "display_data"
    },
    {
     "name": "stdout",
     "output_type": "stream",
     "text": [
      "-------------- Lets remove dates of tags when they were having more or equal than 10 times LFCOUNTER=0 a day\n"
     ]
    },
    {
     "data": {
      "text/html": [
       "<text style=color:black>By removing the unwanted days we passed from 3734 to 3722 timestamp (losing </text> <text style=color:red>12</text> <text style=color:black> timestamp)</text>"
      ],
      "text/plain": [
       "<IPython.core.display.HTML object>"
      ]
     },
     "metadata": {},
     "output_type": "display_data"
    },
    {
     "name": "stdout",
     "output_type": "stream",
     "text": [
      "-------------- Lets remove the 30.09.2020 for the tags taht still had no transition from before the light went on \n"
     ]
    },
    {
     "data": {
      "text/html": [
       "<text style=color:black>By removing the unwanted days we passed from 3722 to 3722 timestamp (losing </text> <text style=color:red>0</text> <text style=color:black> timestamp)</text>"
      ],
      "text/plain": [
       "<IPython.core.display.HTML object>"
      ]
     },
     "metadata": {},
     "output_type": "display_data"
    },
    {
     "name": "stdout",
     "output_type": "stream",
     "text": [
      "save\n"
     ]
    },
    {
     "name": "stderr",
     "output_type": "stream",
     "text": [
      "\r",
      " 12%|██████████                                                                      | 1/8 [23:15<2:42:46, 1395.26s/it]"
     ]
    },
    {
     "name": "stdout",
     "output_type": "stream",
     "text": [
      "Total running time: 23.18 mn\n",
      "(3722, 134)\n",
      "pen11\n"
     ]
    },
    {
     "name": "stderr",
     "output_type": "stream",
     "text": [
      "C:\\Users\\camil\\Desktop\\animals_code\\PhD\\UTILS.py:3933: SettingWithCopyWarning: \n",
      "A value is trying to be set on a copy of a slice from a DataFrame\n",
      "\n",
      "See the caveats in the documentation: https://pandas.pydata.org/pandas-docs/stable/user_guide/indexing.html#returning-a-view-versus-a-copy\n",
      "  df.sort_values([timestamp_name], inplace=True)\n",
      "C:\\Users\\camil\\Desktop\\animals_code\\PhD\\UTILS.py:3935: SettingWithCopyWarning: \n",
      "A value is trying to be set on a copy of a slice from a DataFrame.\n",
      "Try using .loc[row_indexer,col_indexer] = value instead\n",
      "\n",
      "See the caveats in the documentation: https://pandas.pydata.org/pandas-docs/stable/user_guide/indexing.html#returning-a-view-versus-a-copy\n",
      "  df[timestamp_name] = df[timestamp_name].map(lambda x: dt.datetime(x.year,x.month,x.day,x.hour,x.minute, x.second))\n"
     ]
    },
    {
     "name": "stdout",
     "output_type": "stream",
     "text": [
      "----------------- Create time serie\n",
      "in this time series there is 26 hens\n",
      "The initial starting date in over all is: 2020-09-29 09:08:12, and the ending date will be: 2021-03-01 08:32:56\n",
      "But note that birds may have different ending and starting date which should be taken into account when computing variables\n",
      "and after ending the last day at midnight : 2020-09-29 09:08:12, and the ending date will be: 2021-03-01 23:59:59\n",
      "Total running time: 2.67 mn\n",
      "your time series has 1 seconds between two timestamps\n",
      "----------------- main night zone and nbr of transitions over night....\n",
      "----------------- total duration per Zone in seconds....\n",
      "----------------- first timestamp in each zone per day....\n",
      "----------------- number of Zone (excluding nan)....\n",
      "----------------- compute some variables based on a list of zones over a day....\n",
      "----------------NESTBOX\n"
     ]
    },
    {
     "name": "stderr",
     "output_type": "stream",
     "text": [
      "\n",
      "  0%|                                                                                           | 0/26 [00:00<?, ?it/s]\u001b[A\n",
      "  4%|███▏                                                                               | 1/26 [00:00<00:06,  3.70it/s]\u001b[A\n",
      "  8%|██████▍                                                                            | 2/26 [00:00<00:06,  3.82it/s]\u001b[A\n",
      " 12%|█████████▌                                                                         | 3/26 [00:00<00:05,  4.27it/s]\u001b[A\n",
      " 15%|████████████▊                                                                      | 4/26 [00:00<00:05,  4.08it/s]\u001b[A\n",
      " 23%|███████████████████▏                                                               | 6/26 [00:01<00:04,  4.55it/s]\u001b[A\n",
      " 27%|██████████████████████▎                                                            | 7/26 [00:01<00:04,  4.30it/s]\u001b[A\n",
      " 31%|█████████████████████████▌                                                         | 8/26 [00:01<00:04,  3.98it/s]\u001b[A\n",
      " 35%|████████████████████████████▋                                                      | 9/26 [00:02<00:04,  4.04it/s]\u001b[A\n",
      " 38%|███████████████████████████████▌                                                  | 10/26 [00:02<00:03,  4.23it/s]\u001b[A\n",
      " 42%|██████████████████████████████████▋                                               | 11/26 [00:02<00:03,  4.45it/s]\u001b[A\n",
      " 54%|████████████████████████████████████████████▏                                     | 14/26 [00:02<00:02,  5.38it/s]\u001b[A\n",
      " 58%|███████████████████████████████████████████████▎                                  | 15/26 [00:03<00:02,  4.74it/s]\u001b[A\n",
      " 73%|███████████████████████████████████████████████████████████▉                      | 19/26 [00:03<00:01,  5.87it/s]\u001b[A\n",
      " 77%|███████████████████████████████████████████████████████████████                   | 20/26 [00:03<00:01,  5.07it/s]\u001b[A\n",
      " 81%|██████████████████████████████████████████████████████████████████▏               | 21/26 [00:03<00:01,  4.61it/s]\u001b[A\n",
      " 85%|█████████████████████████████████████████████████████████████████████▍            | 22/26 [00:04<00:00,  4.75it/s]\u001b[A\n",
      " 88%|████████████████████████████████████████████████████████████████████████▌         | 23/26 [00:04<00:00,  4.13it/s]\u001b[A\n",
      " 96%|██████████████████████████████████████████████████████████████████████████████▊   | 25/26 [00:04<00:00,  4.57it/s]\u001b[A\n",
      "100%|██████████████████████████████████████████████████████████████████████████████████| 26/26 [00:05<00:00,  5.18it/s]\u001b[A\n",
      "C:\\Users\\camil\\anaconda3\\lib\\site-packages\\numpy\\lib\\nanfunctions.py:1366: RuntimeWarning: Mean of empty slice\n",
      "  return np.nanmean(a, axis, out=out, keepdims=keepdims)\n"
     ]
    },
    {
     "name": "stdout",
     "output_type": "stream",
     "text": [
      "------------ add hen basics info\n",
      "From the focalBirdinfo, you have 160 ative tags\n",
      "(3618, 107)\n",
      "(3071, 109)\n",
      "-------------- Lets remove unwanted dates at PENS level\n"
     ]
    },
    {
     "data": {
      "text/html": [
       "<text style=color:black>By removing the unwanted days we passed from 3071 to 2855 timestamp (losing </text> <text style=color:red>216</text> <text style=color:black> timestamp)</text>"
      ],
      "text/plain": [
       "<IPython.core.display.HTML object>"
      ]
     },
     "metadata": {},
     "output_type": "display_data"
    },
    {
     "name": "stdout",
     "output_type": "stream",
     "text": [
      "All the night variables are:  Index(['HenID', 'night_level', 'night_Max_duration_zones',\n",
      "       'night_distribution_entropy', 'night_Total_number_transition',\n",
      "       'nbr_transition_at_h0', 'nbr_transition_at_h1', 'nbr_transition_at_h2',\n",
      "       'nbr_transition_at_h3', 'nbr_transition_at_h4', 'nbr_transition_at_h5',\n",
      "       'nbr_transition_at_h6', 'nbr_transition_at_h7', 'nbr_transition_at_h8',\n",
      "       'nbr_transition_at_h21', 'nbr_transition_at_h22',\n",
      "       'nbr_transition_at_h23', 'nbr_transition_next1hafterlightoff', 'level',\n",
      "       'PenID', 'CLASS', 'R-Pen', 'InitialStartDate', '29-09 weight',\n",
      "       '10-12 juin weight', 'weight 23-11-2020', 'weight 04-01-2021',\n",
      "       'weight 01-02-21', 'Treatment'],\n",
      "      dtype='object')\n",
      "['night_level']\n",
      "-------------- Lets remove dates of tags when they were not giving deviceupdate regularly\n"
     ]
    },
    {
     "data": {
      "text/html": [
       "<text style=color:black>By removing the unwanted days we passed from 3530 to 3493 timestamp (losing </text> <text style=color:red>37</text> <text style=color:black> timestamp)</text>"
      ],
      "text/plain": [
       "<IPython.core.display.HTML object>"
      ]
     },
     "metadata": {},
     "output_type": "display_data"
    },
    {
     "name": "stdout",
     "output_type": "stream",
     "text": [
      "-------------- Lets remove dates of tags when they were having more or equal than 10 times LFCOUNTER=0 a day\n"
     ]
    },
    {
     "data": {
      "text/html": [
       "<text style=color:black>By removing the unwanted days we passed from 3493 to 3493 timestamp (losing </text> <text style=color:red>0</text> <text style=color:black> timestamp)</text>"
      ],
      "text/plain": [
       "<IPython.core.display.HTML object>"
      ]
     },
     "metadata": {},
     "output_type": "display_data"
    },
    {
     "name": "stdout",
     "output_type": "stream",
     "text": [
      "-------------- Lets remove the 30.09.2020 for the tags taht still had no transition from before the light went on \n"
     ]
    },
    {
     "data": {
      "text/html": [
       "<text style=color:black>By removing the unwanted days we passed from 3493 to 3493 timestamp (losing </text> <text style=color:red>0</text> <text style=color:black> timestamp)</text>"
      ],
      "text/plain": [
       "<IPython.core.display.HTML object>"
      ]
     },
     "metadata": {},
     "output_type": "display_data"
    },
    {
     "name": "stdout",
     "output_type": "stream",
     "text": [
      "save\n"
     ]
    },
    {
     "name": "stderr",
     "output_type": "stream",
     "text": [
      "\r",
      " 25%|████████████████████                                                            | 2/8 [45:34<2:17:50, 1378.36s/it]"
     ]
    },
    {
     "name": "stdout",
     "output_type": "stream",
     "text": [
      "Total running time: 22.21 mn\n",
      "(3493, 134)\n",
      "pen10\n"
     ]
    },
    {
     "name": "stderr",
     "output_type": "stream",
     "text": [
      "C:\\Users\\camil\\Desktop\\animals_code\\PhD\\UTILS.py:3933: SettingWithCopyWarning: \n",
      "A value is trying to be set on a copy of a slice from a DataFrame\n",
      "\n",
      "See the caveats in the documentation: https://pandas.pydata.org/pandas-docs/stable/user_guide/indexing.html#returning-a-view-versus-a-copy\n",
      "  df.sort_values([timestamp_name], inplace=True)\n",
      "C:\\Users\\camil\\Desktop\\animals_code\\PhD\\UTILS.py:3935: SettingWithCopyWarning: \n",
      "A value is trying to be set on a copy of a slice from a DataFrame.\n",
      "Try using .loc[row_indexer,col_indexer] = value instead\n",
      "\n",
      "See the caveats in the documentation: https://pandas.pydata.org/pandas-docs/stable/user_guide/indexing.html#returning-a-view-versus-a-copy\n",
      "  df[timestamp_name] = df[timestamp_name].map(lambda x: dt.datetime(x.year,x.month,x.day,x.hour,x.minute, x.second))\n"
     ]
    },
    {
     "name": "stdout",
     "output_type": "stream",
     "text": [
      "----------------- Create time serie\n",
      "in this time series there is 26 hens\n",
      "The initial starting date in over all is: 2020-09-29 09:20:21, and the ending date will be: 2021-03-01 08:32:52\n",
      "But note that birds may have different ending and starting date which should be taken into account when computing variables\n",
      "and after ending the last day at midnight : 2020-09-29 09:20:21, and the ending date will be: 2021-03-01 23:59:59\n",
      "Total running time: 2.69 mn\n",
      "your time series has 1 seconds between two timestamps\n",
      "----------------- main night zone and nbr of transitions over night....\n",
      "----------------- total duration per Zone in seconds....\n",
      "----------------- first timestamp in each zone per day....\n",
      "----------------- number of Zone (excluding nan)....\n",
      "----------------- compute some variables based on a list of zones over a day....\n",
      "----------------NESTBOX\n"
     ]
    },
    {
     "name": "stderr",
     "output_type": "stream",
     "text": [
      "\n",
      "  0%|                                                                                           | 0/26 [00:00<?, ?it/s]\u001b[A\n",
      "  8%|██████▍                                                                            | 2/26 [00:00<00:03,  6.11it/s]\u001b[A\n",
      " 12%|█████████▌                                                                         | 3/26 [00:00<00:04,  5.01it/s]\u001b[A\n",
      " 15%|████████████▊                                                                      | 4/26 [00:00<00:04,  4.67it/s]\u001b[A\n",
      " 19%|███████████████▉                                                                   | 5/26 [00:01<00:04,  4.84it/s]\u001b[A\n",
      " 23%|███████████████████▏                                                               | 6/26 [00:01<00:04,  4.11it/s]\u001b[A\n",
      " 27%|██████████████████████▎                                                            | 7/26 [00:01<00:04,  4.23it/s]\u001b[A\n",
      " 31%|█████████████████████████▌                                                         | 8/26 [00:01<00:04,  4.36it/s]\u001b[A\n",
      " 42%|██████████████████████████████████▋                                               | 11/26 [00:01<00:02,  5.63it/s]\u001b[A\n",
      " 46%|█████████████████████████████████████▊                                            | 12/26 [00:02<00:03,  4.56it/s]\u001b[A\n",
      " 50%|█████████████████████████████████████████                                         | 13/26 [00:02<00:02,  4.59it/s]\u001b[A\n",
      " 58%|███████████████████████████████████████████████▎                                  | 15/26 [00:02<00:01,  5.87it/s]\u001b[A\n",
      " 65%|█████████████████████████████████████████████████████▌                            | 17/26 [00:02<00:01,  7.04it/s]\u001b[A\n",
      " 73%|███████████████████████████████████████████████████████████▉                      | 19/26 [00:03<00:01,  5.35it/s]\u001b[A\n",
      " 77%|███████████████████████████████████████████████████████████████                   | 20/26 [00:03<00:01,  5.35it/s]\u001b[A\n",
      " 81%|██████████████████████████████████████████████████████████████████▏               | 21/26 [00:03<00:01,  4.82it/s]\u001b[A\n",
      " 85%|█████████████████████████████████████████████████████████████████████▍            | 22/26 [00:04<00:00,  4.33it/s]\u001b[A\n",
      " 88%|████████████████████████████████████████████████████████████████████████▌         | 23/26 [00:04<00:00,  4.09it/s]\u001b[A\n",
      " 92%|███████████████████████████████████████████████████████████████████████████▋      | 24/26 [00:04<00:00,  3.96it/s]\u001b[A\n",
      " 96%|██████████████████████████████████████████████████████████████████████████████▊   | 25/26 [00:04<00:00,  4.80it/s]\u001b[A\n",
      "100%|██████████████████████████████████████████████████████████████████████████████████| 26/26 [00:05<00:00,  5.19it/s]\u001b[A\n",
      "C:\\Users\\camil\\anaconda3\\lib\\site-packages\\numpy\\lib\\nanfunctions.py:1366: RuntimeWarning: Mean of empty slice\n",
      "  return np.nanmean(a, axis, out=out, keepdims=keepdims)\n"
     ]
    },
    {
     "name": "stdout",
     "output_type": "stream",
     "text": [
      "------------ add hen basics info\n",
      "From the focalBirdinfo, you have 160 ative tags\n",
      "(3613, 107)\n",
      "(3066, 109)\n",
      "-------------- Lets remove unwanted dates at PENS level\n"
     ]
    },
    {
     "data": {
      "text/html": [
       "<text style=color:black>By removing the unwanted days we passed from 3066 to 2853 timestamp (losing </text> <text style=color:red>213</text> <text style=color:black> timestamp)</text>"
      ],
      "text/plain": [
       "<IPython.core.display.HTML object>"
      ]
     },
     "metadata": {},
     "output_type": "display_data"
    },
    {
     "name": "stdout",
     "output_type": "stream",
     "text": [
      "All the night variables are:  Index(['HenID', 'night_level', 'night_Max_duration_zones',\n",
      "       'night_distribution_entropy', 'night_Total_number_transition',\n",
      "       'nbr_transition_at_h0', 'nbr_transition_at_h1', 'nbr_transition_at_h2',\n",
      "       'nbr_transition_at_h3', 'nbr_transition_at_h4', 'nbr_transition_at_h5',\n",
      "       'nbr_transition_at_h6', 'nbr_transition_at_h7', 'nbr_transition_at_h8',\n",
      "       'nbr_transition_at_h21', 'nbr_transition_at_h22',\n",
      "       'nbr_transition_at_h23', 'nbr_transition_next1hafterlightoff', 'level',\n",
      "       'PenID', 'CLASS', 'R-Pen', 'InitialStartDate', '29-09 weight',\n",
      "       '10-12 juin weight', 'weight 23-11-2020', 'weight 04-01-2021',\n",
      "       'weight 01-02-21', 'Treatment'],\n",
      "      dtype='object')\n",
      "['night_level']\n",
      "-------------- Lets remove dates of tags when they were not giving deviceupdate regularly\n"
     ]
    },
    {
     "data": {
      "text/html": [
       "<text style=color:black>By removing the unwanted days we passed from 3525 to 3487 timestamp (losing </text> <text style=color:red>38</text> <text style=color:black> timestamp)</text>"
      ],
      "text/plain": [
       "<IPython.core.display.HTML object>"
      ]
     },
     "metadata": {},
     "output_type": "display_data"
    },
    {
     "name": "stdout",
     "output_type": "stream",
     "text": [
      "-------------- Lets remove dates of tags when they were having more or equal than 10 times LFCOUNTER=0 a day\n"
     ]
    },
    {
     "data": {
      "text/html": [
       "<text style=color:black>By removing the unwanted days we passed from 3487 to 3487 timestamp (losing </text> <text style=color:red>0</text> <text style=color:black> timestamp)</text>"
      ],
      "text/plain": [
       "<IPython.core.display.HTML object>"
      ]
     },
     "metadata": {},
     "output_type": "display_data"
    },
    {
     "name": "stdout",
     "output_type": "stream",
     "text": [
      "-------------- Lets remove the 30.09.2020 for the tags taht still had no transition from before the light went on \n"
     ]
    },
    {
     "data": {
      "text/html": [
       "<text style=color:black>By removing the unwanted days we passed from 3487 to 3487 timestamp (losing </text> <text style=color:red>0</text> <text style=color:black> timestamp)</text>"
      ],
      "text/plain": [
       "<IPython.core.display.HTML object>"
      ]
     },
     "metadata": {},
     "output_type": "display_data"
    },
    {
     "name": "stdout",
     "output_type": "stream",
     "text": [
      "save\n",
      "Total running time: 23.21 mn\n"
     ]
    },
    {
     "name": "stderr",
     "output_type": "stream",
     "text": [
      "\r",
      " 38%|█████████████████████████████▎                                                | 3/8 [1:08:51<1:55:20, 1384.04s/it]"
     ]
    },
    {
     "name": "stdout",
     "output_type": "stream",
     "text": [
      "(3487, 134)\n",
      "pen3\n"
     ]
    },
    {
     "name": "stderr",
     "output_type": "stream",
     "text": [
      "C:\\Users\\camil\\Desktop\\animals_code\\PhD\\UTILS.py:3933: SettingWithCopyWarning: \n",
      "A value is trying to be set on a copy of a slice from a DataFrame\n",
      "\n",
      "See the caveats in the documentation: https://pandas.pydata.org/pandas-docs/stable/user_guide/indexing.html#returning-a-view-versus-a-copy\n",
      "  df.sort_values([timestamp_name], inplace=True)\n",
      "C:\\Users\\camil\\Desktop\\animals_code\\PhD\\UTILS.py:3935: SettingWithCopyWarning: \n",
      "A value is trying to be set on a copy of a slice from a DataFrame.\n",
      "Try using .loc[row_indexer,col_indexer] = value instead\n",
      "\n",
      "See the caveats in the documentation: https://pandas.pydata.org/pandas-docs/stable/user_guide/indexing.html#returning-a-view-versus-a-copy\n",
      "  df[timestamp_name] = df[timestamp_name].map(lambda x: dt.datetime(x.year,x.month,x.day,x.hour,x.minute, x.second))\n",
      "C:\\Users\\camil\\anaconda3\\lib\\site-packages\\pandas\\core\\frame.py:4162: SettingWithCopyWarning: \n",
      "A value is trying to be set on a copy of a slice from a DataFrame\n",
      "\n",
      "See the caveats in the documentation: https://pandas.pydata.org/pandas-docs/stable/user_guide/indexing.html#returning-a-view-versus-a-copy\n",
      "  return super().drop(\n"
     ]
    },
    {
     "name": "stdout",
     "output_type": "stream",
     "text": [
      "----------------- Create time serie\n",
      "in this time series there is 26 hens\n",
      "The initial starting date in over all is: 2020-09-29 09:32:45, and the ending date will be: 2021-03-01 08:30:12\n",
      "But note that birds may have different ending and starting date which should be taken into account when computing variables\n",
      "and after ending the last day at midnight : 2020-09-29 09:32:45, and the ending date will be: 2021-03-01 23:59:59\n",
      "Total running time: 3.14 mn\n",
      "your time series has 1 seconds between two timestamps\n",
      "----------------- main night zone and nbr of transitions over night....\n",
      "----------------- total duration per Zone in seconds....\n",
      "----------------- first timestamp in each zone per day....\n",
      "----------------- number of Zone (excluding nan)....\n",
      "----------------- compute some variables based on a list of zones over a day....\n",
      "----------------NESTBOX\n"
     ]
    },
    {
     "name": "stderr",
     "output_type": "stream",
     "text": [
      "\n",
      "  0%|                                                                                           | 0/26 [00:00<?, ?it/s]\u001b[A\n",
      "  4%|███▏                                                                               | 1/26 [00:00<00:06,  3.89it/s]\u001b[A\n",
      "  8%|██████▍                                                                            | 2/26 [00:00<00:05,  4.62it/s]\u001b[A\n",
      " 15%|████████████▊                                                                      | 4/26 [00:00<00:04,  4.86it/s]\u001b[A\n",
      " 19%|███████████████▉                                                                   | 5/26 [00:01<00:04,  4.31it/s]\u001b[A\n",
      " 23%|███████████████████▏                                                               | 6/26 [00:01<00:04,  4.90it/s]\u001b[A\n",
      " 27%|██████████████████████▎                                                            | 7/26 [00:01<00:04,  4.38it/s]\u001b[A\n",
      " 31%|█████████████████████████▌                                                         | 8/26 [00:01<00:03,  4.69it/s]\u001b[A\n",
      " 35%|████████████████████████████▋                                                      | 9/26 [00:01<00:03,  4.87it/s]\u001b[A\n",
      " 38%|███████████████████████████████▌                                                  | 10/26 [00:02<00:03,  4.28it/s]\u001b[A\n",
      " 42%|██████████████████████████████████▋                                               | 11/26 [00:02<00:03,  4.78it/s]\u001b[A\n",
      " 46%|█████████████████████████████████████▊                                            | 12/26 [00:02<00:03,  4.30it/s]\u001b[A\n",
      " 58%|███████████████████████████████████████████████▎                                  | 15/26 [00:02<00:02,  5.09it/s]\u001b[A\n",
      " 62%|██████████████████████████████████████████████████▍                               | 16/26 [00:03<00:02,  4.26it/s]\u001b[A\n",
      " 73%|███████████████████████████████████████████████████████████▉                      | 19/26 [00:03<00:01,  5.17it/s]\u001b[A\n",
      " 77%|███████████████████████████████████████████████████████████████                   | 20/26 [00:03<00:01,  4.77it/s]\u001b[A\n",
      " 81%|██████████████████████████████████████████████████████████████████▏               | 21/26 [00:03<00:00,  5.38it/s]\u001b[A\n",
      " 85%|█████████████████████████████████████████████████████████████████████▍            | 22/26 [00:04<00:00,  4.53it/s]\u001b[A\n",
      " 88%|████████████████████████████████████████████████████████████████████████▌         | 23/26 [00:04<00:00,  4.10it/s]\u001b[A\n",
      " 92%|███████████████████████████████████████████████████████████████████████████▋      | 24/26 [00:04<00:00,  3.87it/s]\u001b[A\n",
      " 96%|██████████████████████████████████████████████████████████████████████████████▊   | 25/26 [00:04<00:00,  4.30it/s]\u001b[A\n",
      "100%|██████████████████████████████████████████████████████████████████████████████████| 26/26 [00:05<00:00,  5.09it/s]\u001b[A\n",
      "C:\\Users\\camil\\anaconda3\\lib\\site-packages\\numpy\\lib\\nanfunctions.py:1366: RuntimeWarning: Mean of empty slice\n",
      "  return np.nanmean(a, axis, out=out, keepdims=keepdims)\n"
     ]
    },
    {
     "name": "stdout",
     "output_type": "stream",
     "text": [
      "------------ add hen basics info\n",
      "From the focalBirdinfo, you have 160 ative tags\n",
      "(3606, 107)\n",
      "(3058, 109)\n",
      "-------------- Lets remove unwanted dates at PENS level\n"
     ]
    },
    {
     "data": {
      "text/html": [
       "<text style=color:black>By removing the unwanted days we passed from 3058 to 2725 timestamp (losing </text> <text style=color:red>333</text> <text style=color:black> timestamp)</text>"
      ],
      "text/plain": [
       "<IPython.core.display.HTML object>"
      ]
     },
     "metadata": {},
     "output_type": "display_data"
    },
    {
     "name": "stdout",
     "output_type": "stream",
     "text": [
      "All the night variables are:  Index(['HenID', 'night_level', 'night_Max_duration_zones',\n",
      "       'night_distribution_entropy', 'night_Total_number_transition',\n",
      "       'nbr_transition_at_h0', 'nbr_transition_at_h1', 'nbr_transition_at_h2',\n",
      "       'nbr_transition_at_h3', 'nbr_transition_at_h4', 'nbr_transition_at_h5',\n",
      "       'nbr_transition_at_h6', 'nbr_transition_at_h7', 'nbr_transition_at_h8',\n",
      "       'nbr_transition_at_h21', 'nbr_transition_at_h22',\n",
      "       'nbr_transition_at_h23', 'nbr_transition_next1hafterlightoff', 'level',\n",
      "       'PenID', 'CLASS', 'R-Pen', 'InitialStartDate', '29-09 weight',\n",
      "       '10-12 juin weight', 'weight 23-11-2020', 'weight 04-01-2021',\n",
      "       'weight 01-02-21', 'Treatment'],\n",
      "      dtype='object')\n",
      "['night_level']\n",
      "-------------- Lets remove dates of tags when they were not giving deviceupdate regularly\n"
     ]
    },
    {
     "data": {
      "text/html": [
       "<text style=color:black>By removing the unwanted days we passed from 3514 to 3477 timestamp (losing </text> <text style=color:red>37</text> <text style=color:black> timestamp)</text>"
      ],
      "text/plain": [
       "<IPython.core.display.HTML object>"
      ]
     },
     "metadata": {},
     "output_type": "display_data"
    },
    {
     "name": "stdout",
     "output_type": "stream",
     "text": [
      "-------------- Lets remove dates of tags when they were having more or equal than 10 times LFCOUNTER=0 a day\n"
     ]
    },
    {
     "data": {
      "text/html": [
       "<text style=color:black>By removing the unwanted days we passed from 3477 to 3441 timestamp (losing </text> <text style=color:red>36</text> <text style=color:black> timestamp)</text>"
      ],
      "text/plain": [
       "<IPython.core.display.HTML object>"
      ]
     },
     "metadata": {},
     "output_type": "display_data"
    },
    {
     "name": "stdout",
     "output_type": "stream",
     "text": [
      "-------------- Lets remove the 30.09.2020 for the tags taht still had no transition from before the light went on \n"
     ]
    },
    {
     "data": {
      "text/html": [
       "<text style=color:black>By removing the unwanted days we passed from 3441 to 3440 timestamp (losing </text> <text style=color:red>1</text> <text style=color:black> timestamp)</text>"
      ],
      "text/plain": [
       "<IPython.core.display.HTML object>"
      ]
     },
     "metadata": {},
     "output_type": "display_data"
    },
    {
     "name": "stdout",
     "output_type": "stream",
     "text": [
      "save\n"
     ]
    },
    {
     "name": "stderr",
     "output_type": "stream",
     "text": [
      "\r",
      " 50%|███████████████████████████████████████                                       | 4/8 [1:33:31<1:34:11, 1412.78s/it]"
     ]
    },
    {
     "name": "stdout",
     "output_type": "stream",
     "text": [
      "Total running time: 24.58 mn\n",
      "(3440, 134)\n",
      "pen4\n"
     ]
    },
    {
     "name": "stderr",
     "output_type": "stream",
     "text": [
      "C:\\Users\\camil\\Desktop\\animals_code\\PhD\\UTILS.py:3933: SettingWithCopyWarning: \n",
      "A value is trying to be set on a copy of a slice from a DataFrame\n",
      "\n",
      "See the caveats in the documentation: https://pandas.pydata.org/pandas-docs/stable/user_guide/indexing.html#returning-a-view-versus-a-copy\n",
      "  df.sort_values([timestamp_name], inplace=True)\n",
      "C:\\Users\\camil\\Desktop\\animals_code\\PhD\\UTILS.py:3935: SettingWithCopyWarning: \n",
      "A value is trying to be set on a copy of a slice from a DataFrame.\n",
      "Try using .loc[row_indexer,col_indexer] = value instead\n",
      "\n",
      "See the caveats in the documentation: https://pandas.pydata.org/pandas-docs/stable/user_guide/indexing.html#returning-a-view-versus-a-copy\n",
      "  df[timestamp_name] = df[timestamp_name].map(lambda x: dt.datetime(x.year,x.month,x.day,x.hour,x.minute, x.second))\n",
      "C:\\Users\\camil\\anaconda3\\lib\\site-packages\\pandas\\core\\frame.py:4162: SettingWithCopyWarning: \n",
      "A value is trying to be set on a copy of a slice from a DataFrame\n",
      "\n",
      "See the caveats in the documentation: https://pandas.pydata.org/pandas-docs/stable/user_guide/indexing.html#returning-a-view-versus-a-copy\n",
      "  return super().drop(\n"
     ]
    },
    {
     "name": "stdout",
     "output_type": "stream",
     "text": [
      "----------------- Create time serie\n",
      "in this time series there is 25 hens\n",
      "The initial starting date in over all is: 2020-09-29 09:33:43, and the ending date will be: 2021-03-01 08:30:42\n",
      "But note that birds may have different ending and starting date which should be taken into account when computing variables\n",
      "and after ending the last day at midnight : 2020-09-29 09:33:43, and the ending date will be: 2021-03-01 23:59:59\n",
      "Total running time: 3.02 mn\n",
      "your time series has 1 seconds between two timestamps\n",
      "----------------- main night zone and nbr of transitions over night....\n",
      "----------------- total duration per Zone in seconds....\n",
      "----------------- first timestamp in each zone per day....\n",
      "----------------- number of Zone (excluding nan)....\n",
      "----------------- compute some variables based on a list of zones over a day....\n",
      "----------------NESTBOX\n"
     ]
    },
    {
     "name": "stderr",
     "output_type": "stream",
     "text": [
      "\n",
      "  0%|                                                                                           | 0/25 [00:00<?, ?it/s]\u001b[A\n",
      "  4%|███▎                                                                               | 1/25 [00:00<00:05,  4.00it/s]\u001b[A\n",
      " 12%|█████████▉                                                                         | 3/25 [00:00<00:05,  4.13it/s]\u001b[A\n",
      " 16%|█████████████▎                                                                     | 4/25 [00:01<00:06,  3.26it/s]\u001b[A\n",
      " 20%|████████████████▌                                                                  | 5/25 [00:01<00:06,  3.25it/s]\u001b[A\n",
      " 24%|███████████████████▉                                                               | 6/25 [00:01<00:06,  2.75it/s]\u001b[A\n",
      " 28%|███████████████████████▏                                                           | 7/25 [00:02<00:06,  2.96it/s]\u001b[A\n",
      " 32%|██████████████████████████▌                                                        | 8/25 [00:02<00:06,  2.58it/s]\u001b[A\n",
      " 36%|█████████████████████████████▉                                                     | 9/25 [00:03<00:06,  2.47it/s]\u001b[A\n",
      " 40%|████████████████████████████████▊                                                 | 10/25 [00:09<00:31,  2.08s/it]\u001b[A\n",
      " 44%|████████████████████████████████████                                              | 11/25 [00:09<00:22,  1.57s/it]\u001b[A\n",
      " 48%|███████████████████████████████████████▎                                          | 12/25 [00:09<00:15,  1.18s/it]\u001b[A\n",
      " 52%|██████████████████████████████████████████▋                                       | 13/25 [00:10<00:11,  1.09it/s]\u001b[A\n",
      " 60%|█████████████████████████████████████████████████▏                                | 15/25 [00:10<00:06,  1.49it/s]\u001b[A\n",
      " 68%|███████████████████████████████████████████████████████▊                          | 17/25 [00:10<00:04,  1.81it/s]\u001b[A\n",
      " 72%|███████████████████████████████████████████████████████████                       | 18/25 [00:11<00:03,  1.93it/s]\u001b[A\n",
      " 76%|██████████████████████████████████████████████████████████████▎                   | 19/25 [00:11<00:02,  2.02it/s]\u001b[A\n",
      " 84%|████████████████████████████████████████████████████████████████████▉             | 21/25 [00:12<00:01,  2.40it/s]\u001b[A\n",
      " 88%|████████████████████████████████████████████████████████████████████████▏         | 22/25 [00:12<00:01,  2.42it/s]\u001b[A\n",
      " 92%|███████████████████████████████████████████████████████████████████████████▍      | 23/25 [00:13<00:00,  2.27it/s]\u001b[A\n",
      " 96%|██████████████████████████████████████████████████████████████████████████████▋   | 24/25 [00:13<00:00,  2.50it/s]\u001b[A\n",
      "100%|██████████████████████████████████████████████████████████████████████████████████| 25/25 [00:13<00:00,  1.79it/s]\u001b[A\n",
      "C:\\Users\\camil\\anaconda3\\lib\\site-packages\\numpy\\lib\\nanfunctions.py:1366: RuntimeWarning: Mean of empty slice\n",
      "  return np.nanmean(a, axis, out=out, keepdims=keepdims)\n"
     ]
    },
    {
     "name": "stdout",
     "output_type": "stream",
     "text": [
      "------------ add hen basics info\n",
      "From the focalBirdinfo, you have 160 ative tags\n",
      "(3444, 107)\n",
      "(3039, 109)\n",
      "-------------- Lets remove unwanted dates at PENS level\n"
     ]
    },
    {
     "data": {
      "text/html": [
       "<text style=color:black>By removing the unwanted days we passed from 3039 to 2714 timestamp (losing </text> <text style=color:red>325</text> <text style=color:black> timestamp)</text>"
      ],
      "text/plain": [
       "<IPython.core.display.HTML object>"
      ]
     },
     "metadata": {},
     "output_type": "display_data"
    },
    {
     "name": "stdout",
     "output_type": "stream",
     "text": [
      "All the night variables are:  Index(['HenID', 'night_level', 'night_Max_duration_zones',\n",
      "       'night_distribution_entropy', 'night_Total_number_transition',\n",
      "       'nbr_transition_at_h0', 'nbr_transition_at_h1', 'nbr_transition_at_h2',\n",
      "       'nbr_transition_at_h3', 'nbr_transition_at_h4', 'nbr_transition_at_h5',\n",
      "       'nbr_transition_at_h6', 'nbr_transition_at_h7', 'nbr_transition_at_h8',\n",
      "       'nbr_transition_at_h21', 'nbr_transition_at_h22',\n",
      "       'nbr_transition_at_h23', 'nbr_transition_next1hafterlightoff', 'level',\n",
      "       'PenID', 'CLASS', 'R-Pen', 'InitialStartDate', '29-09 weight',\n",
      "       '10-12 juin weight', 'weight 23-11-2020', 'weight 04-01-2021',\n",
      "       'weight 01-02-21', 'Treatment'],\n",
      "      dtype='object')\n",
      "['night_level']\n",
      "-------------- Lets remove dates of tags when they were not giving deviceupdate regularly\n"
     ]
    },
    {
     "data": {
      "text/html": [
       "<text style=color:black>By removing the unwanted days we passed from 3359 to 3321 timestamp (losing </text> <text style=color:red>38</text> <text style=color:black> timestamp)</text>"
      ],
      "text/plain": [
       "<IPython.core.display.HTML object>"
      ]
     },
     "metadata": {},
     "output_type": "display_data"
    },
    {
     "name": "stdout",
     "output_type": "stream",
     "text": [
      "-------------- Lets remove dates of tags when they were having more or equal than 10 times LFCOUNTER=0 a day\n"
     ]
    },
    {
     "data": {
      "text/html": [
       "<text style=color:black>By removing the unwanted days we passed from 3321 to 3309 timestamp (losing </text> <text style=color:red>12</text> <text style=color:black> timestamp)</text>"
      ],
      "text/plain": [
       "<IPython.core.display.HTML object>"
      ]
     },
     "metadata": {},
     "output_type": "display_data"
    },
    {
     "name": "stdout",
     "output_type": "stream",
     "text": [
      "-------------- Lets remove the 30.09.2020 for the tags taht still had no transition from before the light went on \n"
     ]
    },
    {
     "data": {
      "text/html": [
       "<text style=color:black>By removing the unwanted days we passed from 3309 to 3309 timestamp (losing </text> <text style=color:red>0</text> <text style=color:black> timestamp)</text>"
      ],
      "text/plain": [
       "<IPython.core.display.HTML object>"
      ]
     },
     "metadata": {},
     "output_type": "display_data"
    },
    {
     "name": "stdout",
     "output_type": "stream",
     "text": [
      "save\n"
     ]
    },
    {
     "name": "stderr",
     "output_type": "stream",
     "text": [
      "\r",
      " 62%|████████████████████████████████████████████████▊                             | 5/8 [1:59:36<1:12:55, 1458.46s/it]"
     ]
    },
    {
     "name": "stdout",
     "output_type": "stream",
     "text": [
      "Total running time: 25.99 mn\n",
      "(3309, 134)\n",
      "pen5\n"
     ]
    },
    {
     "name": "stderr",
     "output_type": "stream",
     "text": [
      "C:\\Users\\camil\\Desktop\\animals_code\\PhD\\UTILS.py:3933: SettingWithCopyWarning: \n",
      "A value is trying to be set on a copy of a slice from a DataFrame\n",
      "\n",
      "See the caveats in the documentation: https://pandas.pydata.org/pandas-docs/stable/user_guide/indexing.html#returning-a-view-versus-a-copy\n",
      "  df.sort_values([timestamp_name], inplace=True)\n",
      "C:\\Users\\camil\\Desktop\\animals_code\\PhD\\UTILS.py:3935: SettingWithCopyWarning: \n",
      "A value is trying to be set on a copy of a slice from a DataFrame.\n",
      "Try using .loc[row_indexer,col_indexer] = value instead\n",
      "\n",
      "See the caveats in the documentation: https://pandas.pydata.org/pandas-docs/stable/user_guide/indexing.html#returning-a-view-versus-a-copy\n",
      "  df[timestamp_name] = df[timestamp_name].map(lambda x: dt.datetime(x.year,x.month,x.day,x.hour,x.minute, x.second))\n"
     ]
    },
    {
     "name": "stdout",
     "output_type": "stream",
     "text": [
      "----------------- Create time serie\n",
      "in this time series there is 27 hens\n",
      "The initial starting date in over all is: 2020-09-29 09:33:48, and the ending date will be: 2021-03-01 08:30:46\n",
      "But note that birds may have different ending and starting date which should be taken into account when computing variables\n",
      "and after ending the last day at midnight : 2020-09-29 09:33:48, and the ending date will be: 2021-03-01 23:59:59\n",
      "Total running time: 3.67 mn\n",
      "your time series has 1 seconds between two timestamps\n",
      "----------------- main night zone and nbr of transitions over night....\n",
      "----------------- total duration per Zone in seconds....\n",
      "----------------- first timestamp in each zone per day....\n",
      "----------------- number of Zone (excluding nan)....\n",
      "----------------- compute some variables based on a list of zones over a day....\n",
      "----------------NESTBOX\n"
     ]
    },
    {
     "name": "stderr",
     "output_type": "stream",
     "text": [
      "\n",
      "  0%|                                                                                           | 0/27 [00:00<?, ?it/s]\u001b[A\n",
      "  4%|███                                                                                | 1/27 [00:00<00:03,  7.66it/s]\u001b[A\n",
      "  7%|██████▏                                                                            | 2/27 [00:00<00:05,  4.58it/s]\u001b[A\n",
      " 11%|█████████▏                                                                         | 3/27 [00:01<00:07,  3.34it/s]\u001b[A\n",
      " 15%|████████████▎                                                                      | 4/27 [00:01<00:06,  3.49it/s]\u001b[A\n",
      " 22%|██████████████████▍                                                                | 6/27 [00:01<00:05,  3.64it/s]\u001b[A\n",
      " 26%|█████████████████████▌                                                             | 7/27 [00:01<00:05,  3.97it/s]\u001b[A\n",
      " 30%|████████████████████████▌                                                          | 8/27 [00:02<00:04,  3.83it/s]\u001b[A\n",
      " 33%|███████████████████████████▋                                                       | 9/27 [00:02<00:05,  3.39it/s]\u001b[A\n",
      " 37%|██████████████████████████████▎                                                   | 10/27 [00:02<00:05,  3.39it/s]\u001b[A\n",
      " 41%|█████████████████████████████████▍                                                | 11/27 [00:03<00:04,  3.69it/s]\u001b[A\n",
      " 44%|████████████████████████████████████▍                                             | 12/27 [00:03<00:03,  4.12it/s]\u001b[A\n",
      " 48%|███████████████████████████████████████▍                                          | 13/27 [00:03<00:03,  4.52it/s]\u001b[A\n",
      " 56%|█████████████████████████████████████████████▌                                    | 15/27 [00:03<00:02,  5.57it/s]\u001b[A\n",
      " 59%|████████████████████████████████████████████████▌                                 | 16/27 [00:03<00:02,  4.55it/s]\u001b[A\n",
      " 63%|███████████████████████████████████████████████████▋                              | 17/27 [00:04<00:02,  4.94it/s]\u001b[A\n",
      " 67%|██████████████████████████████████████████████████████▋                           | 18/27 [00:04<00:02,  4.33it/s]\u001b[A\n",
      " 70%|█████████████████████████████████████████████████████████▋                        | 19/27 [00:04<00:02,  3.96it/s]\u001b[A\n",
      " 81%|██████████████████████████████████████████████████████████████████▊               | 22/27 [00:04<00:00,  5.11it/s]\u001b[A\n",
      " 85%|█████████████████████████████████████████████████████████████████████▊            | 23/27 [00:05<00:00,  4.07it/s]\u001b[A\n",
      " 89%|████████████████████████████████████████████████████████████████████████▉         | 24/27 [00:05<00:00,  4.15it/s]\u001b[A\n",
      " 93%|███████████████████████████████████████████████████████████████████████████▉      | 25/27 [00:05<00:00,  3.68it/s]\u001b[A\n",
      " 96%|██████████████████████████████████████████████████████████████████████████████▉   | 26/27 [00:05<00:00,  4.51it/s]\u001b[A\n",
      "100%|██████████████████████████████████████████████████████████████████████████████████| 27/27 [00:06<00:00,  4.39it/s]\u001b[A\n",
      "C:\\Users\\camil\\anaconda3\\lib\\site-packages\\numpy\\lib\\nanfunctions.py:1366: RuntimeWarning: Mean of empty slice\n",
      "  return np.nanmean(a, axis, out=out, keepdims=keepdims)\n"
     ]
    },
    {
     "name": "stdout",
     "output_type": "stream",
     "text": [
      "------------ add hen basics info\n",
      "From the focalBirdinfo, you have 160 ative tags\n",
      "(3691, 107)\n",
      "(3031, 109)\n",
      "-------------- Lets remove unwanted dates at PENS level\n"
     ]
    },
    {
     "data": {
      "text/html": [
       "<text style=color:black>By removing the unwanted days we passed from 3031 to 2604 timestamp (losing </text> <text style=color:red>427</text> <text style=color:black> timestamp)</text>"
      ],
      "text/plain": [
       "<IPython.core.display.HTML object>"
      ]
     },
     "metadata": {},
     "output_type": "display_data"
    },
    {
     "name": "stdout",
     "output_type": "stream",
     "text": [
      "All the night variables are:  Index(['HenID', 'night_level', 'night_Max_duration_zones',\n",
      "       'night_distribution_entropy', 'night_Total_number_transition',\n",
      "       'nbr_transition_at_h0', 'nbr_transition_at_h1', 'nbr_transition_at_h2',\n",
      "       'nbr_transition_at_h3', 'nbr_transition_at_h4', 'nbr_transition_at_h5',\n",
      "       'nbr_transition_at_h6', 'nbr_transition_at_h7', 'nbr_transition_at_h8',\n",
      "       'nbr_transition_at_h21', 'nbr_transition_at_h22',\n",
      "       'nbr_transition_at_h23', 'nbr_transition_next1hafterlightoff', 'level',\n",
      "       'PenID', 'CLASS', 'R-Pen', 'InitialStartDate', '29-09 weight',\n",
      "       '10-12 juin weight', 'weight 23-11-2020', 'weight 04-01-2021',\n",
      "       'weight 01-02-21', 'Treatment'],\n",
      "      dtype='object')\n",
      "['night_level']\n",
      "-------------- Lets remove dates of tags when they were not giving deviceupdate regularly\n"
     ]
    },
    {
     "data": {
      "text/html": [
       "<text style=color:black>By removing the unwanted days we passed from 3485 to 3447 timestamp (losing </text> <text style=color:red>38</text> <text style=color:black> timestamp)</text>"
      ],
      "text/plain": [
       "<IPython.core.display.HTML object>"
      ]
     },
     "metadata": {},
     "output_type": "display_data"
    },
    {
     "name": "stdout",
     "output_type": "stream",
     "text": [
      "-------------- Lets remove dates of tags when they were having more or equal than 10 times LFCOUNTER=0 a day\n"
     ]
    },
    {
     "data": {
      "text/html": [
       "<text style=color:black>By removing the unwanted days we passed from 3447 to 3442 timestamp (losing </text> <text style=color:red>5</text> <text style=color:black> timestamp)</text>"
      ],
      "text/plain": [
       "<IPython.core.display.HTML object>"
      ]
     },
     "metadata": {},
     "output_type": "display_data"
    },
    {
     "name": "stdout",
     "output_type": "stream",
     "text": [
      "-------------- Lets remove the 30.09.2020 for the tags taht still had no transition from before the light went on \n"
     ]
    },
    {
     "data": {
      "text/html": [
       "<text style=color:black>By removing the unwanted days we passed from 3442 to 3441 timestamp (losing </text> <text style=color:red>1</text> <text style=color:black> timestamp)</text>"
      ],
      "text/plain": [
       "<IPython.core.display.HTML object>"
      ]
     },
     "metadata": {},
     "output_type": "display_data"
    },
    {
     "name": "stdout",
     "output_type": "stream",
     "text": [
      "save\n",
      "Total running time: 29.51 mn\n"
     ]
    },
    {
     "name": "stderr",
     "output_type": "stream",
     "text": [
      "\r",
      " 75%|████████████████████████████████████████████████████████████                    | 6/8 [2:29:16<51:50, 1555.02s/it]"
     ]
    },
    {
     "name": "stdout",
     "output_type": "stream",
     "text": [
      "(3441, 134)\n",
      "pen9\n"
     ]
    },
    {
     "name": "stderr",
     "output_type": "stream",
     "text": [
      "C:\\Users\\camil\\Desktop\\animals_code\\PhD\\UTILS.py:3933: SettingWithCopyWarning: \n",
      "A value is trying to be set on a copy of a slice from a DataFrame\n",
      "\n",
      "See the caveats in the documentation: https://pandas.pydata.org/pandas-docs/stable/user_guide/indexing.html#returning-a-view-versus-a-copy\n",
      "  df.sort_values([timestamp_name], inplace=True)\n",
      "C:\\Users\\camil\\Desktop\\animals_code\\PhD\\UTILS.py:3935: SettingWithCopyWarning: \n",
      "A value is trying to be set on a copy of a slice from a DataFrame.\n",
      "Try using .loc[row_indexer,col_indexer] = value instead\n",
      "\n",
      "See the caveats in the documentation: https://pandas.pydata.org/pandas-docs/stable/user_guide/indexing.html#returning-a-view-versus-a-copy\n",
      "  df[timestamp_name] = df[timestamp_name].map(lambda x: dt.datetime(x.year,x.month,x.day,x.hour,x.minute, x.second))\n",
      "C:\\Users\\camil\\anaconda3\\lib\\site-packages\\pandas\\core\\frame.py:4162: SettingWithCopyWarning: \n",
      "A value is trying to be set on a copy of a slice from a DataFrame\n",
      "\n",
      "See the caveats in the documentation: https://pandas.pydata.org/pandas-docs/stable/user_guide/indexing.html#returning-a-view-versus-a-copy\n",
      "  return super().drop(\n"
     ]
    },
    {
     "name": "stdout",
     "output_type": "stream",
     "text": [
      "----------------- Create time serie\n",
      "in this time series there is 26 hens\n",
      "The initial starting date in over all is: 2020-09-29 09:36:51, and the ending date will be: 2021-03-01 08:32:39\n",
      "But note that birds may have different ending and starting date which should be taken into account when computing variables\n",
      "and after ending the last day at midnight : 2020-09-29 09:36:51, and the ending date will be: 2021-03-01 23:59:59\n",
      "Total running time: 3.71 mn\n",
      "your time series has 1 seconds between two timestamps\n",
      "----------------- main night zone and nbr of transitions over night....\n",
      "----------------- total duration per Zone in seconds....\n",
      "----------------- first timestamp in each zone per day....\n",
      "----------------- number of Zone (excluding nan)....\n",
      "----------------- compute some variables based on a list of zones over a day....\n",
      "several max-duration-zone\n",
      "----------------NESTBOX\n"
     ]
    },
    {
     "name": "stderr",
     "output_type": "stream",
     "text": [
      "\n",
      "  0%|                                                                                           | 0/26 [00:00<?, ?it/s]\u001b[A\n",
      "  4%|███▏                                                                               | 1/26 [00:00<00:07,  3.43it/s]\u001b[A\n",
      "  8%|██████▍                                                                            | 2/26 [00:00<00:07,  3.34it/s]\u001b[A\n",
      " 12%|█████████▌                                                                         | 3/26 [00:01<00:07,  2.97it/s]\u001b[A\n",
      " 15%|████████████▊                                                                      | 4/26 [00:01<00:06,  3.33it/s]\u001b[A\n",
      " 19%|███████████████▉                                                                   | 5/26 [00:01<00:06,  3.32it/s]\u001b[A\n",
      " 27%|██████████████████████▎                                                            | 7/26 [00:01<00:04,  4.06it/s]\u001b[A\n",
      " 31%|█████████████████████████▌                                                         | 8/26 [00:02<00:05,  3.05it/s]\u001b[A\n",
      " 35%|████████████████████████████▋                                                      | 9/26 [00:02<00:06,  2.74it/s]\u001b[A\n",
      " 42%|██████████████████████████████████▋                                               | 11/26 [00:02<00:04,  3.64it/s]\u001b[A\n",
      " 46%|█████████████████████████████████████▊                                            | 12/26 [00:03<00:03,  4.30it/s]\u001b[A\n",
      " 50%|█████████████████████████████████████████                                         | 13/26 [00:03<00:03,  3.84it/s]\u001b[A\n",
      " 54%|████████████████████████████████████████████▏                                     | 14/26 [00:03<00:03,  3.50it/s]\u001b[A\n",
      " 58%|███████████████████████████████████████████████▎                                  | 15/26 [00:04<00:03,  3.32it/s]\u001b[A\n",
      " 65%|█████████████████████████████████████████████████████▌                            | 17/26 [00:04<00:02,  4.29it/s]\u001b[A\n",
      " 69%|████████████████████████████████████████████████████████▊                         | 18/26 [00:04<00:02,  3.80it/s]\u001b[A\n",
      " 73%|███████████████████████████████████████████████████████████▉                      | 19/26 [00:05<00:02,  2.96it/s]\u001b[A\n",
      " 77%|███████████████████████████████████████████████████████████████                   | 20/26 [00:05<00:01,  3.03it/s]\u001b[A\n",
      " 81%|██████████████████████████████████████████████████████████████████▏               | 21/26 [00:05<00:01,  3.08it/s]\u001b[A\n",
      " 88%|████████████████████████████████████████████████████████████████████████▌         | 23/26 [00:05<00:00,  3.88it/s]\u001b[A\n",
      " 92%|███████████████████████████████████████████████████████████████████████████▋      | 24/26 [00:06<00:00,  2.77it/s]\u001b[A\n",
      "100%|██████████████████████████████████████████████████████████████████████████████████| 26/26 [00:06<00:00,  3.84it/s]\u001b[A\n",
      "C:\\Users\\camil\\anaconda3\\lib\\site-packages\\numpy\\lib\\nanfunctions.py:1366: RuntimeWarning: Mean of empty slice\n",
      "  return np.nanmean(a, axis, out=out, keepdims=keepdims)\n"
     ]
    },
    {
     "name": "stdout",
     "output_type": "stream",
     "text": [
      "------------ add hen basics info\n",
      "From the focalBirdinfo, you have 160 ative tags\n",
      "(3559, 107)\n",
      "(3033, 109)\n",
      "-------------- Lets remove unwanted dates at PENS level\n"
     ]
    },
    {
     "data": {
      "text/html": [
       "<text style=color:black>By removing the unwanted days we passed from 3033 to 2771 timestamp (losing </text> <text style=color:red>262</text> <text style=color:black> timestamp)</text>"
      ],
      "text/plain": [
       "<IPython.core.display.HTML object>"
      ]
     },
     "metadata": {},
     "output_type": "display_data"
    },
    {
     "name": "stdout",
     "output_type": "stream",
     "text": [
      "All the night variables are:  Index(['HenID', 'night_level', 'night_Max_duration_zones',\n",
      "       'night_distribution_entropy', 'night_Total_number_transition',\n",
      "       'nbr_transition_at_h0', 'nbr_transition_at_h1', 'nbr_transition_at_h2',\n",
      "       'nbr_transition_at_h3', 'nbr_transition_at_h4', 'nbr_transition_at_h5',\n",
      "       'nbr_transition_at_h6', 'nbr_transition_at_h7', 'nbr_transition_at_h8',\n",
      "       'nbr_transition_at_h21', 'nbr_transition_at_h22',\n",
      "       'nbr_transition_at_h23', 'nbr_transition_next1hafterlightoff', 'level',\n",
      "       'PenID', 'CLASS', 'R-Pen', 'InitialStartDate', '29-09 weight',\n",
      "       '10-12 juin weight', 'weight 23-11-2020', 'weight 04-01-2021',\n",
      "       'weight 01-02-21', 'Treatment'],\n",
      "      dtype='object')\n",
      "['night_level']\n",
      "-------------- Lets remove dates of tags when they were not giving deviceupdate regularly\n"
     ]
    },
    {
     "data": {
      "text/html": [
       "<text style=color:black>By removing the unwanted days we passed from 3477 to 3399 timestamp (losing </text> <text style=color:red>78</text> <text style=color:black> timestamp)</text>"
      ],
      "text/plain": [
       "<IPython.core.display.HTML object>"
      ]
     },
     "metadata": {},
     "output_type": "display_data"
    },
    {
     "name": "stdout",
     "output_type": "stream",
     "text": [
      "-------------- Lets remove dates of tags when they were having more or equal than 10 times LFCOUNTER=0 a day\n"
     ]
    },
    {
     "data": {
      "text/html": [
       "<text style=color:black>By removing the unwanted days we passed from 3399 to 3398 timestamp (losing </text> <text style=color:red>1</text> <text style=color:black> timestamp)</text>"
      ],
      "text/plain": [
       "<IPython.core.display.HTML object>"
      ]
     },
     "metadata": {},
     "output_type": "display_data"
    },
    {
     "name": "stdout",
     "output_type": "stream",
     "text": [
      "-------------- Lets remove the 30.09.2020 for the tags taht still had no transition from before the light went on \n"
     ]
    },
    {
     "data": {
      "text/html": [
       "<text style=color:black>By removing the unwanted days we passed from 3398 to 3398 timestamp (losing </text> <text style=color:red>0</text> <text style=color:black> timestamp)</text>"
      ],
      "text/plain": [
       "<IPython.core.display.HTML object>"
      ]
     },
     "metadata": {},
     "output_type": "display_data"
    },
    {
     "name": "stdout",
     "output_type": "stream",
     "text": [
      "save\n",
      "Total running time: 28.42 mn\n"
     ]
    },
    {
     "name": "stderr",
     "output_type": "stream",
     "text": [
      "\r",
      " 88%|██████████████████████████████████████████████████████████████████████          | 7/8 [2:57:47<26:41, 1601.74s/it]"
     ]
    },
    {
     "name": "stdout",
     "output_type": "stream",
     "text": [
      "(3398, 134)\n",
      "pen8\n"
     ]
    },
    {
     "name": "stderr",
     "output_type": "stream",
     "text": [
      "C:\\Users\\camil\\Desktop\\animals_code\\PhD\\UTILS.py:3933: SettingWithCopyWarning: \n",
      "A value is trying to be set on a copy of a slice from a DataFrame\n",
      "\n",
      "See the caveats in the documentation: https://pandas.pydata.org/pandas-docs/stable/user_guide/indexing.html#returning-a-view-versus-a-copy\n",
      "  df.sort_values([timestamp_name], inplace=True)\n",
      "C:\\Users\\camil\\Desktop\\animals_code\\PhD\\UTILS.py:3935: SettingWithCopyWarning: \n",
      "A value is trying to be set on a copy of a slice from a DataFrame.\n",
      "Try using .loc[row_indexer,col_indexer] = value instead\n",
      "\n",
      "See the caveats in the documentation: https://pandas.pydata.org/pandas-docs/stable/user_guide/indexing.html#returning-a-view-versus-a-copy\n",
      "  df[timestamp_name] = df[timestamp_name].map(lambda x: dt.datetime(x.year,x.month,x.day,x.hour,x.minute, x.second))\n",
      "C:\\Users\\camil\\anaconda3\\lib\\site-packages\\pandas\\core\\frame.py:4162: SettingWithCopyWarning: \n",
      "A value is trying to be set on a copy of a slice from a DataFrame\n",
      "\n",
      "See the caveats in the documentation: https://pandas.pydata.org/pandas-docs/stable/user_guide/indexing.html#returning-a-view-versus-a-copy\n",
      "  return super().drop(\n"
     ]
    },
    {
     "name": "stdout",
     "output_type": "stream",
     "text": [
      "----------------- Create time serie\n",
      "in this time series there is 27 hens\n",
      "The initial starting date in over all is: 2020-09-29 09:52:12, and the ending date will be: 2021-03-01 08:32:29\n",
      "But note that birds may have different ending and starting date which should be taken into account when computing variables\n",
      "and after ending the last day at midnight : 2020-09-29 09:52:12, and the ending date will be: 2021-03-01 23:59:59\n",
      "Total running time: 3.49 mn\n",
      "your time series has 1 seconds between two timestamps\n",
      "----------------- main night zone and nbr of transitions over night....\n",
      "----------------- total duration per Zone in seconds....\n",
      "----------------- first timestamp in each zone per day....\n",
      "----------------- number of Zone (excluding nan)....\n",
      "----------------- compute some variables based on a list of zones over a day....\n",
      "----------------NESTBOX\n"
     ]
    },
    {
     "name": "stderr",
     "output_type": "stream",
     "text": [
      "\n",
      "  0%|                                                                                           | 0/27 [00:00<?, ?it/s]\u001b[A\n",
      "  4%|███                                                                                | 1/27 [00:00<00:09,  2.61it/s]\u001b[A\n",
      "  7%|██████▏                                                                            | 2/27 [00:00<00:08,  2.88it/s]\u001b[A\n",
      " 11%|█████████▏                                                                         | 3/27 [00:01<00:10,  2.27it/s]\u001b[A\n",
      " 22%|██████████████████▍                                                                | 6/27 [00:01<00:06,  3.08it/s]\u001b[A\n",
      " 30%|████████████████████████▌                                                          | 8/27 [00:01<00:05,  3.56it/s]\u001b[A\n",
      " 33%|███████████████████████████▋                                                       | 9/27 [00:02<00:06,  2.98it/s]\u001b[A\n",
      " 37%|██████████████████████████████▎                                                   | 10/27 [00:08<00:36,  2.17s/it]\u001b[A\n",
      " 41%|█████████████████████████████████▍                                                | 11/27 [00:08<00:25,  1.57s/it]\u001b[A\n",
      " 44%|████████████████████████████████████▍                                             | 12/27 [00:09<00:18,  1.22s/it]\u001b[A\n",
      " 48%|███████████████████████████████████████▍                                          | 13/27 [00:09<00:13,  1.04it/s]\u001b[A\n",
      " 52%|██████████████████████████████████████████▌                                       | 14/27 [00:09<00:09,  1.36it/s]\u001b[A\n",
      " 56%|█████████████████████████████████████████████▌                                    | 15/27 [00:09<00:06,  1.83it/s]\u001b[A\n",
      " 70%|█████████████████████████████████████████████████████████▋                        | 19/27 [00:10<00:03,  2.47it/s]\u001b[A\n",
      " 74%|████████████████████████████████████████████████████████████▋                     | 20/27 [00:10<00:02,  2.55it/s]\u001b[A\n",
      " 78%|███████████████████████████████████████████████████████████████▊                  | 21/27 [00:10<00:01,  3.03it/s]\u001b[A\n",
      " 81%|██████████████████████████████████████████████████████████████████▊               | 22/27 [00:11<00:01,  2.89it/s]\u001b[A\n",
      " 85%|█████████████████████████████████████████████████████████████████████▊            | 23/27 [00:11<00:01,  3.17it/s]\u001b[A\n",
      " 89%|████████████████████████████████████████████████████████████████████████▉         | 24/27 [00:11<00:01,  2.97it/s]\u001b[A\n",
      " 93%|███████████████████████████████████████████████████████████████████████████▉      | 25/27 [00:12<00:00,  3.35it/s]\u001b[A\n",
      " 96%|██████████████████████████████████████████████████████████████████████████████▉   | 26/27 [00:12<00:00,  4.06it/s]\u001b[A\n",
      "100%|██████████████████████████████████████████████████████████████████████████████████| 27/27 [00:12<00:00,  2.15it/s]\u001b[A\n",
      "C:\\Users\\camil\\anaconda3\\lib\\site-packages\\numpy\\lib\\nanfunctions.py:1366: RuntimeWarning: Mean of empty slice\n",
      "  return np.nanmean(a, axis, out=out, keepdims=keepdims)\n"
     ]
    },
    {
     "name": "stdout",
     "output_type": "stream",
     "text": [
      "------------ add hen basics info\n",
      "From the focalBirdinfo, you have 160 ative tags\n",
      "(3513, 107)\n",
      "(2953, 109)\n",
      "-------------- Lets remove unwanted dates at PENS level\n"
     ]
    },
    {
     "data": {
      "text/html": [
       "<text style=color:black>By removing the unwanted days we passed from 2953 to 2692 timestamp (losing </text> <text style=color:red>261</text> <text style=color:black> timestamp)</text>"
      ],
      "text/plain": [
       "<IPython.core.display.HTML object>"
      ]
     },
     "metadata": {},
     "output_type": "display_data"
    },
    {
     "name": "stdout",
     "output_type": "stream",
     "text": [
      "All the night variables are:  Index(['HenID', 'night_level', 'night_Max_duration_zones',\n",
      "       'night_distribution_entropy', 'night_Total_number_transition',\n",
      "       'nbr_transition_at_h0', 'nbr_transition_at_h1', 'nbr_transition_at_h2',\n",
      "       'nbr_transition_at_h3', 'nbr_transition_at_h4', 'nbr_transition_at_h5',\n",
      "       'nbr_transition_at_h6', 'nbr_transition_at_h7', 'nbr_transition_at_h8',\n",
      "       'nbr_transition_at_h21', 'nbr_transition_at_h22',\n",
      "       'nbr_transition_at_h23', 'nbr_transition_next1hafterlightoff', 'level',\n",
      "       'PenID', 'CLASS', 'R-Pen', 'InitialStartDate', '29-09 weight',\n",
      "       '10-12 juin weight', 'weight 23-11-2020', 'weight 04-01-2021',\n",
      "       'weight 01-02-21', 'Treatment'],\n",
      "      dtype='object')\n",
      "['night_level']\n",
      "-------------- Lets remove dates of tags when they were not giving deviceupdate regularly\n"
     ]
    },
    {
     "data": {
      "text/html": [
       "<text style=color:black>By removing the unwanted days we passed from 3429 to 3351 timestamp (losing </text> <text style=color:red>78</text> <text style=color:black> timestamp)</text>"
      ],
      "text/plain": [
       "<IPython.core.display.HTML object>"
      ]
     },
     "metadata": {},
     "output_type": "display_data"
    },
    {
     "name": "stdout",
     "output_type": "stream",
     "text": [
      "-------------- Lets remove dates of tags when they were having more or equal than 10 times LFCOUNTER=0 a day\n"
     ]
    },
    {
     "data": {
      "text/html": [
       "<text style=color:black>By removing the unwanted days we passed from 3351 to 3303 timestamp (losing </text> <text style=color:red>48</text> <text style=color:black> timestamp)</text>"
      ],
      "text/plain": [
       "<IPython.core.display.HTML object>"
      ]
     },
     "metadata": {},
     "output_type": "display_data"
    },
    {
     "name": "stdout",
     "output_type": "stream",
     "text": [
      "-------------- Lets remove the 30.09.2020 for the tags taht still had no transition from before the light went on \n"
     ]
    },
    {
     "data": {
      "text/html": [
       "<text style=color:black>By removing the unwanted days we passed from 3303 to 3303 timestamp (losing </text> <text style=color:red>0</text> <text style=color:black> timestamp)</text>"
      ],
      "text/plain": [
       "<IPython.core.display.HTML object>"
      ]
     },
     "metadata": {},
     "output_type": "display_data"
    },
    {
     "name": "stdout",
     "output_type": "stream",
     "text": [
      "save\n"
     ]
    },
    {
     "name": "stderr",
     "output_type": "stream",
     "text": [
      "100%|████████████████████████████████████████████████████████████████████████████████| 8/8 [3:26:51<00:00, 1551.41s/it]"
     ]
    },
    {
     "name": "stdout",
     "output_type": "stream",
     "text": [
      "Total running time: 28.97 mn\n",
      "(3303, 134)\n",
      "Total running time: 206.86 mn\n"
     ]
    },
    {
     "name": "stderr",
     "output_type": "stream",
     "text": [
      "\n"
     ]
    }
   ],
   "source": [
    "#open time series per session and compute the variables for each session (car time series make sence at session level), et en \n",
    "#plus des variables tel que running entropy over the whole session ateach last timestamp of each level make sence only at \n",
    "#session level\n",
    "#once to much data, do this per pen!!! with name=pens!!\n",
    "START_TIME = time.perf_counter()\n",
    "for p in tqdm.tqdm(df['PenID'].unique()):\n",
    "    print(p)\n",
    "    df_daily = HenDailyVariable_Origins(df[df['PenID']==p], config, name_=p, timestamp_name='Timestamp', \n",
    "                                        has_cons_equal_zone=False)\n",
    "    print(df_daily.shape)\n",
    "    df_daily.head(3)\n",
    "END_TIME = time.perf_counter()\n",
    "print (\"Total running time: %.2f mn\" %((END_TIME-START_TIME)/60))  "
   ]
  },
  {
   "cell_type": "code",
   "execution_count": 7,
   "metadata": {
    "scrolled": true
   },
   "outputs": [
    {
     "name": "stderr",
     "output_type": "stream",
     "text": [
      "C:\\Users\\camil\\anaconda3\\lib\\site-packages\\ipykernel\\ipkernel.py:283: DeprecationWarning: `should_run_async` will not call `transform_cell` automatically in the future. Please pass the result to `transformed_cell` argument and any exception that happen during thetransform in `preprocessing_exc_tuple` in IPython 7.17 and above.\n",
      "  and should_run_async(code)\n",
      " 12%|██████████▌                                                                         | 1/8 [00:04<00:28,  4.13s/it]"
     ]
    },
    {
     "name": "stdout",
     "output_type": "stream",
     "text": [
      "(3487, 134)\n"
     ]
    },
    {
     "name": "stderr",
     "output_type": "stream",
     "text": [
      "\r",
      " 25%|█████████████████████                                                               | 2/8 [00:10<00:27,  4.66s/it]"
     ]
    },
    {
     "name": "stdout",
     "output_type": "stream",
     "text": [
      "(3493, 134)\n"
     ]
    },
    {
     "name": "stderr",
     "output_type": "stream",
     "text": [
      "\r",
      " 38%|███████████████████████████████▌                                                    | 3/8 [00:14<00:22,  4.56s/it]"
     ]
    },
    {
     "name": "stdout",
     "output_type": "stream",
     "text": [
      "(3722, 134)\n"
     ]
    },
    {
     "name": "stderr",
     "output_type": "stream",
     "text": [
      "\r",
      " 50%|██████████████████████████████████████████                                          | 4/8 [00:19<00:19,  4.84s/it]"
     ]
    },
    {
     "name": "stdout",
     "output_type": "stream",
     "text": [
      "(3440, 134)\n"
     ]
    },
    {
     "name": "stderr",
     "output_type": "stream",
     "text": [
      "\r",
      " 62%|████████████████████████████████████████████████████▌                               | 5/8 [00:24<00:14,  4.89s/it]"
     ]
    },
    {
     "name": "stdout",
     "output_type": "stream",
     "text": [
      "(3309, 134)\n"
     ]
    },
    {
     "name": "stderr",
     "output_type": "stream",
     "text": [
      "\r",
      " 75%|███████████████████████████████████████████████████████████████                     | 6/8 [00:28<00:09,  4.55s/it]"
     ]
    },
    {
     "name": "stdout",
     "output_type": "stream",
     "text": [
      "(3441, 134)\n"
     ]
    },
    {
     "name": "stderr",
     "output_type": "stream",
     "text": [
      "\r",
      " 88%|█████████████████████████████████████████████████████████████████████████▌          | 7/8 [00:30<00:03,  3.75s/it]"
     ]
    },
    {
     "name": "stdout",
     "output_type": "stream",
     "text": [
      "(3303, 134)\n"
     ]
    },
    {
     "name": "stderr",
     "output_type": "stream",
     "text": [
      "100%|████████████████████████████████████████████████████████████████████████████████████| 8/8 [00:33<00:00,  4.16s/it]"
     ]
    },
    {
     "name": "stdout",
     "output_type": "stream",
     "text": [
      "(3398, 134)\n"
     ]
    },
    {
     "name": "stderr",
     "output_type": "stream",
     "text": [
      "\n"
     ]
    },
    {
     "name": "stdout",
     "output_type": "stream",
     "text": [
      "(27593, 134)\n"
     ]
    },
    {
     "data": {
      "text/html": [
       "<div>\n",
       "<style scoped>\n",
       "    .dataframe tbody tr th:only-of-type {\n",
       "        vertical-align: middle;\n",
       "    }\n",
       "\n",
       "    .dataframe tbody tr th {\n",
       "        vertical-align: top;\n",
       "    }\n",
       "\n",
       "    .dataframe thead th {\n",
       "        text-align: right;\n",
       "    }\n",
       "</style>\n",
       "<table border=\"1\" class=\"dataframe\">\n",
       "  <thead>\n",
       "    <tr style=\"text-align: right;\">\n",
       "      <th></th>\n",
       "      <th>HenID</th>\n",
       "      <th>level</th>\n",
       "      <th>duration_1_Zone</th>\n",
       "      <th>duration_2_Zone</th>\n",
       "      <th>duration_3_Zone</th>\n",
       "      <th>duration_4_Zone</th>\n",
       "      <th>duration_5_Zone</th>\n",
       "      <th>verification_daily_total_duration</th>\n",
       "      <th>dur_values</th>\n",
       "      <th>dur_values_normalized</th>\n",
       "      <th>...</th>\n",
       "      <th>list_of_night20_2_temperature</th>\n",
       "      <th>nbr_temperature_nnnan</th>\n",
       "      <th>temperature_night20_2_median</th>\n",
       "      <th>temperature_night20_2_max</th>\n",
       "      <th>temperature_night20_2_var</th>\n",
       "      <th>list_of_MovementCounter_day</th>\n",
       "      <th>len_MovementCounter_day</th>\n",
       "      <th>MovementCounter_day_amount_nnactivity</th>\n",
       "      <th>MovementCounter_day_max</th>\n",
       "      <th>MovementCounter_day_mean</th>\n",
       "    </tr>\n",
       "  </thead>\n",
       "  <tbody>\n",
       "    <tr>\n",
       "      <th>0</th>\n",
       "      <td>hen_130</td>\n",
       "      <td>2020-10-04</td>\n",
       "      <td>0.0</td>\n",
       "      <td>140.0</td>\n",
       "      <td>1166.0</td>\n",
       "      <td>79.0</td>\n",
       "      <td>30613.0</td>\n",
       "      <td>31998.0</td>\n",
       "      <td>[0.0, 140.0, 1166.0, 79.0, 30613.0]</td>\n",
       "      <td>[0.0, 0.004375273454590912, 0.0364397774860928...</td>\n",
       "      <td>...</td>\n",
       "      <td>NaN</td>\n",
       "      <td>NaN</td>\n",
       "      <td>NaN</td>\n",
       "      <td>NaN</td>\n",
       "      <td>NaN</td>\n",
       "      <td>NaN</td>\n",
       "      <td>NaN</td>\n",
       "      <td>NaN</td>\n",
       "      <td>NaN</td>\n",
       "      <td>NaN</td>\n",
       "    </tr>\n",
       "    <tr>\n",
       "      <th>1</th>\n",
       "      <td>hen_130</td>\n",
       "      <td>2020-10-05</td>\n",
       "      <td>0.0</td>\n",
       "      <td>0.0</td>\n",
       "      <td>0.0</td>\n",
       "      <td>0.0</td>\n",
       "      <td>32400.0</td>\n",
       "      <td>32400.0</td>\n",
       "      <td>[0.0, 0.0, 0.0, 0.0, 32400.0]</td>\n",
       "      <td>[0.0, 0.0, 0.0, 0.0, 1.0]</td>\n",
       "      <td>...</td>\n",
       "      <td>NaN</td>\n",
       "      <td>NaN</td>\n",
       "      <td>NaN</td>\n",
       "      <td>NaN</td>\n",
       "      <td>NaN</td>\n",
       "      <td>NaN</td>\n",
       "      <td>NaN</td>\n",
       "      <td>NaN</td>\n",
       "      <td>NaN</td>\n",
       "      <td>NaN</td>\n",
       "    </tr>\n",
       "    <tr>\n",
       "      <th>2</th>\n",
       "      <td>hen_130</td>\n",
       "      <td>2020-10-06</td>\n",
       "      <td>0.0</td>\n",
       "      <td>0.0</td>\n",
       "      <td>780.0</td>\n",
       "      <td>325.0</td>\n",
       "      <td>31295.0</td>\n",
       "      <td>32400.0</td>\n",
       "      <td>[0.0, 0.0, 780.0, 325.0, 31295.0]</td>\n",
       "      <td>[0.0, 0.0, 0.024074074074074074, 0.01003086419...</td>\n",
       "      <td>...</td>\n",
       "      <td>NaN</td>\n",
       "      <td>NaN</td>\n",
       "      <td>NaN</td>\n",
       "      <td>NaN</td>\n",
       "      <td>NaN</td>\n",
       "      <td>NaN</td>\n",
       "      <td>NaN</td>\n",
       "      <td>NaN</td>\n",
       "      <td>NaN</td>\n",
       "      <td>NaN</td>\n",
       "    </tr>\n",
       "  </tbody>\n",
       "</table>\n",
       "<p>3 rows × 134 columns</p>\n",
       "</div>"
      ],
      "text/plain": [
       "     HenID      level  duration_1_Zone  duration_2_Zone  duration_3_Zone  \\\n",
       "0  hen_130 2020-10-04              0.0            140.0           1166.0   \n",
       "1  hen_130 2020-10-05              0.0              0.0              0.0   \n",
       "2  hen_130 2020-10-06              0.0              0.0            780.0   \n",
       "\n",
       "   duration_4_Zone  duration_5_Zone  verification_daily_total_duration  \\\n",
       "0             79.0          30613.0                            31998.0   \n",
       "1              0.0          32400.0                            32400.0   \n",
       "2            325.0          31295.0                            32400.0   \n",
       "\n",
       "                            dur_values  \\\n",
       "0  [0.0, 140.0, 1166.0, 79.0, 30613.0]   \n",
       "1        [0.0, 0.0, 0.0, 0.0, 32400.0]   \n",
       "2    [0.0, 0.0, 780.0, 325.0, 31295.0]   \n",
       "\n",
       "                               dur_values_normalized  ...  \\\n",
       "0  [0.0, 0.004375273454590912, 0.0364397774860928...  ...   \n",
       "1                          [0.0, 0.0, 0.0, 0.0, 1.0]  ...   \n",
       "2  [0.0, 0.0, 0.024074074074074074, 0.01003086419...  ...   \n",
       "\n",
       "  list_of_night20_2_temperature nbr_temperature_nnnan  \\\n",
       "0                           NaN                   NaN   \n",
       "1                           NaN                   NaN   \n",
       "2                           NaN                   NaN   \n",
       "\n",
       "  temperature_night20_2_median temperature_night20_2_max  \\\n",
       "0                          NaN                       NaN   \n",
       "1                          NaN                       NaN   \n",
       "2                          NaN                       NaN   \n",
       "\n",
       "  temperature_night20_2_var  list_of_MovementCounter_day  \\\n",
       "0                       NaN                          NaN   \n",
       "1                       NaN                          NaN   \n",
       "2                       NaN                          NaN   \n",
       "\n",
       "  len_MovementCounter_day MovementCounter_day_amount_nnactivity  \\\n",
       "0                     NaN                                   NaN   \n",
       "1                     NaN                                   NaN   \n",
       "2                     NaN                                   NaN   \n",
       "\n",
       "  MovementCounter_day_max MovementCounter_day_mean  \n",
       "0                     NaN                      NaN  \n",
       "1                     NaN                      NaN  \n",
       "2                     NaN                      NaN  \n",
       "\n",
       "[3 rows x 134 columns]"
      ]
     },
     "execution_count": 7,
     "metadata": {},
     "output_type": "execute_result"
    }
   ],
   "source": [
    "#Concatenate all HenVariables csv into one\n",
    "li_paths_var = glob.glob(os.path.join(path_extracted_data, id_run+'_daily__pen'+'*_variables.csv'))\n",
    "li_df = []\n",
    "if len(li_paths_var)!=8:\n",
    "    print('ERROR: not the correct number of files, there must have one per pen')\n",
    "    sys.exit()\n",
    "for path_var in tqdm.tqdm(li_paths_var):\n",
    "    #for being more reproductible, we open the file that was saved from cleaning\n",
    "    df_ = pd.read_csv(path_var, sep=';',parse_dates=['level', 'FirstTimestamp_1_Zone', 'FirstTimestamp_2_Zone', \n",
    "                                                     'FirstTimestamp_3_Zone','FirstTimestamp_4_Zone',\n",
    "                                                     'FirstTimestamp_5_Zone']) \n",
    "    print(df_.shape)\n",
    "    li_df.append(df_)\n",
    "df_daily = pd.concat(li_df)\n",
    "df_daily.to_csv(os.path.join(path_extracted_data, id_run+'_daily_ALL_variables.csv'), sep=';', index=False)\n",
    "print(df_daily.shape)\n",
    "df_daily.head(3)"
   ]
  },
  {
   "cell_type": "markdown",
   "metadata": {},
   "source": [
    "# Chi2distance"
   ]
  },
  {
   "cell_type": "markdown",
   "metadata": {},
   "source": [
    "#computed here as its a variable and not a visual computed out of variable\n",
    "#compute for every level a symmetric chi2distance heatmap\n",
    "if compute_chi2_distance:   \n",
    "\n",
    "    #sort by lowest entropy (i.e. need less info to predict futur. more predictibale should induce more similarities \n",
    "    #(as less different solution)), to potentialy make a nicer visual\n",
    "    df_ = df_daily.groupby(['HenID'])['distribution_entropy'].agg(lambda x:np.mean(x)).reset_index().sort_values(['distribution_entropy'])\n",
    "    li = df_['HenID'].tolist()\n",
    "    axis_label = [i.split('_')[1] for i in li]\n",
    "    #create path to save visual if not existing\n",
    "    path_ = os.path.join(path_extracted_data,'visual','chi2distance')\n",
    "    #create a director if not existing\n",
    "    if not os.path.exists(path_):\n",
    "        os.makedirs(path_)\n",
    "\n",
    "    print('----------------- Compute Chi2 distance....')\n",
    "    for d in li_date:\n",
    "        M = np.zeros(shape=(len(li),len(li)))\n",
    "        for i, h1 in enumerate(li[:-1]):\n",
    "            for j in range(i+1,len(li)):\n",
    "                h2 = li[j]\n",
    "                li_hen_in = df_daily[df_daily['level']==d]['HenID'].unique()\n",
    "                #if both hen have at least one record this day (typically not always all hen have values the first day of session)\n",
    "                if (h1 in li_hen_in) & (h2 in li_hen_in):\n",
    "                    l1 = df_daily[(df_daily['HenID']==h1)&(df_daily['level']==d)]['dur_values_normalized'].values[0]\n",
    "                    l2 = df_daily[(df_daily['HenID']==h2)&(df_daily['level']==d)]['dur_values_normalized'].values[0]\n",
    "                    chi2 = chi2_distance(l1,l2)\n",
    "                    M[i][j] = chi2\n",
    "                    M[j][i] = chi2\n",
    "        #clear old plot\n",
    "        plt.figure()\n",
    "        sns.set(font_scale=0.25) \n",
    "        sns.heatmap(M, cmap=\"YlGnBu\", xticklabels=axis_label, yticklabels=axis_label)\n",
    "        plt.title(d)\n",
    "        if save:\n",
    "            plt.savefig(os.path.join(path_,id_run+'_chi2distance_'+str(d).split('T')[0]+'_daily_'+'.png'), dpi=300,\n",
    "                        format='png',bbox_inches='tight')\n",
    "        #plt.show() \n",
    "        plt.close()\n",
    "\n"
   ]
  },
  {
   "cell_type": "code",
   "execution_count": null,
   "metadata": {},
   "outputs": [],
   "source": []
  },
  {
   "cell_type": "code",
   "execution_count": null,
   "metadata": {},
   "outputs": [],
   "source": []
  },
  {
   "cell_type": "code",
   "execution_count": null,
   "metadata": {},
   "outputs": [],
   "source": []
  },
  {
   "cell_type": "code",
   "execution_count": null,
   "metadata": {},
   "outputs": [],
   "source": []
  },
  {
   "cell_type": "code",
   "execution_count": null,
   "metadata": {},
   "outputs": [],
   "source": []
  },
  {
   "cell_type": "code",
   "execution_count": null,
   "metadata": {},
   "outputs": [],
   "source": []
  },
  {
   "cell_type": "code",
   "execution_count": null,
   "metadata": {},
   "outputs": [],
   "source": []
  },
  {
   "cell_type": "code",
   "execution_count": null,
   "metadata": {},
   "outputs": [],
   "source": []
  }
 ],
 "metadata": {
  "kernelspec": {
   "display_name": "Python 3",
   "language": "python",
   "name": "python3"
  },
  "language_info": {
   "codemirror_mode": {
    "name": "ipython",
    "version": 3
   },
   "file_extension": ".py",
   "mimetype": "text/x-python",
   "name": "python",
   "nbconvert_exporter": "python",
   "pygments_lexer": "ipython3",
   "version": "3.8.5"
  }
 },
 "nbformat": 4,
 "nbformat_minor": 2
}
