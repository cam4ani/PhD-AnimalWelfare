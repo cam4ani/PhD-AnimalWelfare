{
 "cells": [
  {
   "cell_type": "code",
   "execution_count": 1,
   "metadata": {},
   "outputs": [
    {
     "name": "stderr",
     "output_type": "stream",
     "text": [
      "Loading required package: lpSolve\n",
      "\n"
     ]
    }
   ],
   "source": [
    "library('irr') #ICC\n",
    "library('readr') #read_delim"
   ]
  },
  {
   "cell_type": "markdown",
   "metadata": {},
   "source": [
    "# Intra observer reliability - timestamp 1"
   ]
  },
  {
   "cell_type": "code",
   "execution_count": 2,
   "metadata": {},
   "outputs": [
    {
     "name": "stderr",
     "output_type": "stream",
     "text": [
      "\n",
      "\u001b[36m--\u001b[39m \u001b[1m\u001b[1mColumn specification\u001b[1m\u001b[22m \u001b[36m------------------------------------------------------------------------------------------------\u001b[39m\n",
      "cols(\n",
      "  initial_path_img = \u001b[31mcol_character()\u001b[39m,\n",
      "  actual_path_img = \u001b[31mcol_character()\u001b[39m,\n",
      "  imageID = \u001b[32mcol_double()\u001b[39m,\n",
      "  uncertainty = \u001b[31mcol_character()\u001b[39m,\n",
      "  severity = \u001b[32mcol_double()\u001b[39m,\n",
      "  BirdID = \u001b[31mcol_character()\u001b[39m,\n",
      "  has_gap = \u001b[32mcol_double()\u001b[39m,\n",
      "  has_detached = \u001b[33mcol_logical()\u001b[39m,\n",
      "  HAID = \u001b[31mcol_character()\u001b[39m,\n",
      "  uncertainty2 = \u001b[31mcol_character()\u001b[39m,\n",
      "  severity2 = \u001b[32mcol_double()\u001b[39m,\n",
      "  BirdID2 = \u001b[31mcol_character()\u001b[39m,\n",
      "  has_gap2 = \u001b[32mcol_double()\u001b[39m,\n",
      "  has_detached2 = \u001b[33mcol_logical()\u001b[39m,\n",
      "  HAID2 = \u001b[31mcol_character()\u001b[39m\n",
      ")\n",
      "\n",
      "\n"
     ]
    },
    {
     "name": "stdout",
     "output_type": "stream",
     "text": [
      "spec_tbl_df [40 x 15] (S3: spec_tbl_df/tbl_df/tbl/data.frame)\n",
      " $ initial_path_img: chr [1:40] \"G:\\\\VPHI\\\\Welfare\\\\2- Research Projects\\\\OFHE2.OriginsE2\\\\DataOutput\\\\HA\\\\HA3\\\\KBF-01-02-2021\\\\Origins_01022021\"| __truncated__ \"G:\\\\VPHI\\\\Welfare\\\\2- Research Projects\\\\OFHE2.OriginsE2\\\\DataOutput\\\\HA\\\\HA3\\\\KBF-01-02-2021\\\\Origins_01022021\"| __truncated__ \"G:\\\\VPHI\\\\Welfare\\\\2- Research Projects\\\\OFHE2.OriginsE2\\\\DataOutput\\\\HA\\\\HA2\\\\KBF-04-01-2021\\\\Origins 04.01.20\"| __truncated__ \"G:\\\\VPHI\\\\Welfare\\\\2- Research Projects\\\\OFHE2.OriginsE2\\\\DataOutput\\\\HA\\\\HA1\\\\KBF_23-11-2020\\\\23112020.2\\\\IHE_\"| __truncated__ ...\n",
      " $ actual_path_img : chr [1:40] \"G:\\\\VPHI\\\\Welfare\\\\2- Research Projects\\\\OFHE2.OriginsE2\\\\DataOutput\\\\HA\\\\AllPictures_05-05-2021\\\\0.jpg\" \"G:\\\\VPHI\\\\Welfare\\\\2- Research Projects\\\\OFHE2.OriginsE2\\\\DataOutput\\\\HA\\\\AllPictures_05-05-2021\\\\1.jpg\" \"G:\\\\VPHI\\\\Welfare\\\\2- Research Projects\\\\OFHE2.OriginsE2\\\\DataOutput\\\\HA\\\\AllPictures_05-05-2021\\\\2.jpg\" \"G:\\\\VPHI\\\\Welfare\\\\2- Research Projects\\\\OFHE2.OriginsE2\\\\DataOutput\\\\HA\\\\AllPictures_05-05-2021\\\\3.jpg\" ...\n",
      " $ imageID         : num [1:40] 0 1 2 3 4 5 6 7 8 9 ...\n",
      " $ uncertainty     : chr [1:40] NA NA NA NA ...\n",
      " $ severity        : num [1:40] 50 0 100 0 110 0 0 150 0 0 ...\n",
      " $ BirdID          : Factor w/ 39 levels \"13orange8sps\",..: 29 11 12 24 22 31 39 17 4 38 ...\n",
      " $ has_gap         : Factor w/ 2 levels \"0\",\"1\": 1 1 1 1 1 1 1 1 1 1 ...\n",
      " $ has_detached    : Factor w/ 0 levels: NA NA NA NA NA NA NA NA NA NA ...\n",
      " $ HAID            : chr [1:40] \"HA3\" \"HA3\" \"HA2\" \"HA1\" ...\n",
      " $ uncertainty2    : chr [1:40] NA NA NA NA ...\n",
      " $ severity2       : num [1:40] 50 0 80 0 80 0 0 190 0 0 ...\n",
      " $ BirdID2         : chr [1:40] \"51green11pw\" \"26orange8pw\" \"27black12sbs\" \"40black4ps\" ...\n",
      " $ has_gap2        : Factor w/ 2 levels \"0\",\"1\": 1 1 1 1 1 1 1 1 1 1 ...\n",
      " $ has_detached2   : Factor w/ 0 levels: NA NA NA NA NA NA NA NA NA NA ...\n",
      " $ HAID2           : chr [1:40] \"HA3\" \"HA3\" \"HA2\" \"HA1\" ...\n",
      " - attr(*, \"spec\")=\n",
      "  .. cols(\n",
      "  ..   initial_path_img = \u001b[31mcol_character()\u001b[39m,\n",
      "  ..   actual_path_img = \u001b[31mcol_character()\u001b[39m,\n",
      "  ..   imageID = \u001b[32mcol_double()\u001b[39m,\n",
      "  ..   uncertainty = \u001b[31mcol_character()\u001b[39m,\n",
      "  ..   severity = \u001b[32mcol_double()\u001b[39m,\n",
      "  ..   BirdID = \u001b[31mcol_character()\u001b[39m,\n",
      "  ..   has_gap = \u001b[32mcol_double()\u001b[39m,\n",
      "  ..   has_detached = \u001b[33mcol_logical()\u001b[39m,\n",
      "  ..   HAID = \u001b[31mcol_character()\u001b[39m,\n",
      "  ..   uncertainty2 = \u001b[31mcol_character()\u001b[39m,\n",
      "  ..   severity2 = \u001b[32mcol_double()\u001b[39m,\n",
      "  ..   BirdID2 = \u001b[31mcol_character()\u001b[39m,\n",
      "  ..   has_gap2 = \u001b[32mcol_double()\u001b[39m,\n",
      "  ..   has_detached2 = \u001b[33mcol_logical()\u001b[39m,\n",
      "  ..   HAID2 = \u001b[31mcol_character()\u001b[39m\n",
      "  .. )\n"
     ]
    }
   ],
   "source": [
    "#download data: Intra observer reliability\n",
    "path_analysis = \"G:/VPHI/Welfare/2- Research Projects/OFHE2.OriginsE2/DataOutput/HA/AllPictures_05-05-2021\"\n",
    "#df = read_delim(file.path(path_analysis,\"HA_all.csv\"), \";\", escape_double = FALSE, trim_ws = TRUE)\n",
    "df_intra = read_delim(file.path(path_analysis,\"DF_IMAGE_INFO_RESULTS_CM_intra_R.csv\"),';',trim_ws=TRUE)\n",
    "#convert into to correct format\n",
    "c_fac = c('BirdID', 'has_detached', 'has_gap', 'has_detached2','has_gap2')\n",
    "df_intra[c_fac] = lapply(df_intra[c_fac], factor)\n",
    "str(df_intra) "
   ]
  },
  {
   "cell_type": "markdown",
   "metadata": {},
   "source": [
    "for both Intra & Inter\n",
    "*Continuous - ICC assumes normal distribution): The Intraclass Correlation Coefficient (ICC) can be used to measure the strength of inter-rater agreement in the situation where the rating scale is continuous or ordinal. It is suitable for studies with two or more raters. Note that, the ICC can be also used for test-retest (repeated measures of the same subject) and intra-rater (multiple scores from the same raters) reliability analysis.\n",
    "*Continuous - CCC(non parametric data) Lin’s concordance correlation coefficient with the Bland Altman plot to make sure that disagreement is not correlated with absolute value, or concentrated in some part of the range of the variable. This will not be captured by a one-size-fits-all measure.\n",
    "Categorical: Kappa"
   ]
  },
  {
   "cell_type": "markdown",
   "metadata": {},
   "source": [
    "### Stat"
   ]
  },
  {
   "cell_type": "raw",
   "metadata": {},
   "source": [
    "to be comparable with: we will use the same iter-intra: from irr. cf https://www.frontiersin.org/articles/10.3389/fvets.2018.00124/full\n",
    "\n",
    "\"To assess inter-observer reliability, an Intraclass correlation coefficient (ICC) estimate and its 95% confident intervals were calculated using R 3.4.0 (24), package “irr” (25) based on an average-rating (k = 14), absolute-agreement, two-way random-effects model (26). To evaluate intra-observer reliability, an ICC estimate and its 95% confident intervals were calculated based on a single-rating, absolute-agreement, two-way mixed-effects model (27, 28). In order to show the range of intra-observer reliability within observers, ICCs were additionally calculated for each observer (k = 14) separately. Reliabilities were considered poor (ICC < 0.40), fair (0.40 < ICC < 0.59), good (0.6 < ICC < 0.74), or excellent (0.75 < ICC < 1.0) according to the recommendations of Cicchetti (29).\"\n",
    "--> \n",
    "#inter-observer reliability\n",
    "icc(ratings, model=\"twoway\", type=\"agreement\", unit=\"average\", conf.level = 0.95)\n",
    "#intra-observer reliability\n",
    "icc(ratings, model=\"twoway\", type=\"agreement\", unit=\"single\", conf.level = 0.95)"
   ]
  },
  {
   "cell_type": "code",
   "execution_count": 3,
   "metadata": {},
   "outputs": [
    {
     "data": {
      "text/plain": [
       " Single Score Intraclass Correlation\n",
       "\n",
       "   Model: twoway \n",
       "   Type : agreement \n",
       "\n",
       "   Subjects = 40 \n",
       "     Raters = 2 \n",
       "   ICC(A,1) = 0.934\n",
       "\n",
       " F-Test, H0: r0 = 0 ; H1: r0 > 0 \n",
       " F(39,39.2) = 28.9 , p = 2.76e-19 \n",
       "\n",
       " 95%-Confidence Interval for ICC Population Values:\n",
       "  0.88 < ICC < 0.965"
      ]
     },
     "metadata": {},
     "output_type": "display_data"
    }
   ],
   "source": [
    "icc(df_intra[c('severity','severity2')], model=\"twoway\", type=\"agreement\", unit=\"single\", conf.level = 0.95)"
   ]
  },
  {
   "cell_type": "code",
   "execution_count": 4,
   "metadata": {},
   "outputs": [
    {
     "data": {
      "text/plain": [
       " Cohen's Kappa for 2 Raters (Weights: unweighted)\n",
       "\n",
       " Subjects = 40 \n",
       "   Raters = 2 \n",
       "    Kappa = 0.844 \n",
       "\n",
       "        z = 5.4 \n",
       "  p-value = 6.56e-08 "
      ]
     },
     "metadata": {},
     "output_type": "display_data"
    }
   ],
   "source": [
    "#categorial/binary variable\n",
    "kappa2(df_intra[,c('has_gap','has_gap2')], \"unweighted\")"
   ]
  },
  {
   "cell_type": "markdown",
   "metadata": {},
   "source": [
    "# Inter observer reliability - timestamp 1"
   ]
  },
  {
   "cell_type": "code",
   "execution_count": 5,
   "metadata": {},
   "outputs": [
    {
     "name": "stderr",
     "output_type": "stream",
     "text": [
      "Warning message:\n",
      "\"Missing column names filled in: 'X6' [6]\"\n",
      "\n",
      "\u001b[36m--\u001b[39m \u001b[1m\u001b[1mColumn specification\u001b[1m\u001b[22m \u001b[36m------------------------------------------------------------------------------------------------\u001b[39m\n",
      "cols(\n",
      "  `Image ID` = \u001b[32mcol_double()\u001b[39m,\n",
      "  Severity = \u001b[31mcol_character()\u001b[39m,\n",
      "  Gap = \u001b[32mcol_double()\u001b[39m,\n",
      "  Hen = \u001b[32mcol_double()\u001b[39m,\n",
      "  TP = \u001b[32mcol_double()\u001b[39m,\n",
      "  X6 = \u001b[33mcol_logical()\u001b[39m,\n",
      "  camille_severity_score_ = \u001b[31mcol_character()\u001b[39m,\n",
      "  camille_gap = \u001b[32mcol_double()\u001b[39m,\n",
      "  uncertain = \u001b[31mcol_character()\u001b[39m,\n",
      "  camille_comment = \u001b[31mcol_character()\u001b[39m,\n",
      "  camille_severity_score = \u001b[32mcol_double()\u001b[39m,\n",
      "  christina_severity_score = \u001b[32mcol_double()\u001b[39m,\n",
      "  christina_gap = \u001b[32mcol_double()\u001b[39m\n",
      ")\n",
      "\n",
      "\n"
     ]
    },
    {
     "name": "stdout",
     "output_type": "stream",
     "text": [
      "spec_tbl_df [40 x 13] (S3: spec_tbl_df/tbl_df/tbl/data.frame)\n",
      " $ Image ID                : num [1:40] 1 2 3 4 6 7 8 9 10 11 ...\n",
      " $ Severity                : chr [1:40] \"3\" \"3,4\" \"0\" \"6,1\" ...\n",
      " $ Gap                     : num [1:40] 0 3 0 1 1 3 1 1 1 0 ...\n",
      " $ Hen                     : num [1:40] 47 39 95 101 103 6 101 72 13 20 ...\n",
      " $ TP                      : num [1:40] 8 6 5 5 4 5 8 5 5 10 ...\n",
      " $ X6                      : logi [1:40] NA NA NA NA NA NA ...\n",
      " $ camille_severity_score_ : chr [1:40] \"1,5\" \"0,8\" \"0\" \"3,1\" ...\n",
      " $ camille_gap             : Factor w/ 2 levels \"0\",\"1\": 1 1 1 2 1 2 2 2 2 1 ...\n",
      " $ uncertain               : chr [1:40] NA NA NA NA ...\n",
      " $ camille_comment         : chr [1:40] NA NA NA NA ...\n",
      " $ camille_severity_score  : num [1:40] 30 16 0 62 34 40 86 14 84 40 ...\n",
      " $ christina_severity_score: num [1:40] 30 34 0 61 37 62 94 26 76 30 ...\n",
      " $ christina_gap           : Factor w/ 2 levels \"0\",\"1\": 1 2 1 2 2 2 2 2 2 1 ...\n",
      " - attr(*, \"spec\")=\n",
      "  .. cols(\n",
      "  ..   `Image ID` = \u001b[32mcol_double()\u001b[39m,\n",
      "  ..   Severity = \u001b[31mcol_character()\u001b[39m,\n",
      "  ..   Gap = \u001b[32mcol_double()\u001b[39m,\n",
      "  ..   Hen = \u001b[32mcol_double()\u001b[39m,\n",
      "  ..   TP = \u001b[32mcol_double()\u001b[39m,\n",
      "  ..   X6 = \u001b[33mcol_logical()\u001b[39m,\n",
      "  ..   camille_severity_score_ = \u001b[31mcol_character()\u001b[39m,\n",
      "  ..   camille_gap = \u001b[32mcol_double()\u001b[39m,\n",
      "  ..   uncertain = \u001b[31mcol_character()\u001b[39m,\n",
      "  ..   camille_comment = \u001b[31mcol_character()\u001b[39m,\n",
      "  ..   camille_severity_score = \u001b[32mcol_double()\u001b[39m,\n",
      "  ..   christina_severity_score = \u001b[32mcol_double()\u001b[39m,\n",
      "  ..   christina_gap = \u001b[32mcol_double()\u001b[39m\n",
      "  .. )\n"
     ]
    }
   ],
   "source": [
    "#download data: Inter observer reliability\n",
    "path_analysis = \"G:/VPHI/Welfare/2- Research Projects/OFHE2.OriginsE2/DataOutput/HA\"\n",
    "df_inter = read_delim(file.path(path_analysis,\"Validation_with_christina.csv\"),';',trim_ws=TRUE)\n",
    "#convert into to correct format\n",
    "c_fac = c('christina_gap','camille_gap')\n",
    "df_inter[c_fac] = lapply(df_inter[c_fac], factor)\n",
    "str(df_inter) "
   ]
  },
  {
   "cell_type": "code",
   "execution_count": 6,
   "metadata": {},
   "outputs": [
    {
     "data": {
      "text/plain": [
       " Single Score Intraclass Correlation\n",
       "\n",
       "   Model: twoway \n",
       "   Type : agreement \n",
       "\n",
       "   Subjects = 40 \n",
       "     Raters = 2 \n",
       "   ICC(A,1) = 0.92\n",
       "\n",
       " F-Test, H0: r0 = 0 ; H1: r0 > 0 \n",
       " F(39,21.6) = 28.3 , p = 7.49e-12 \n",
       "\n",
       " 95%-Confidence Interval for ICC Population Values:\n",
       "  0.832 < ICC < 0.96"
      ]
     },
     "metadata": {},
     "output_type": "display_data"
    }
   ],
   "source": [
    "icc(df_inter[c('christina_severity_score','camille_severity_score')], model=\"twoway\", type=\"agreement\", unit=\"single\", conf.level = 0.95)"
   ]
  },
  {
   "cell_type": "code",
   "execution_count": 7,
   "metadata": {},
   "outputs": [
    {
     "data": {
      "text/plain": [
       " Cohen's Kappa for 2 Raters (Weights: unweighted)\n",
       "\n",
       " Subjects = 40 \n",
       "   Raters = 2 \n",
       "    Kappa = 0.8 \n",
       "\n",
       "        z = 5.09 \n",
       "  p-value = 3.62e-07 "
      ]
     },
     "metadata": {},
     "output_type": "display_data"
    }
   ],
   "source": [
    "kappa2(df_inter[,c('christina_gap','camille_gap')], \"unweighted\")"
   ]
  },
  {
   "cell_type": "markdown",
   "metadata": {},
   "source": [
    "# Intra observer reliability - timestamp 2&1"
   ]
  },
  {
   "cell_type": "code",
   "execution_count": 8,
   "metadata": {},
   "outputs": [
    {
     "name": "stderr",
     "output_type": "stream",
     "text": [
      "\n",
      "\u001b[36m--\u001b[39m \u001b[1m\u001b[1mColumn specification\u001b[1m\u001b[22m \u001b[36m------------------------------------------------------------------------------------------------\u001b[39m\n",
      "cols(\n",
      "  initial_path_img = \u001b[31mcol_character()\u001b[39m,\n",
      "  actual_path_img = \u001b[31mcol_character()\u001b[39m,\n",
      "  imageID = \u001b[32mcol_double()\u001b[39m,\n",
      "  severity3 = \u001b[32mcol_double()\u001b[39m,\n",
      "  has_gap3 = \u001b[32mcol_double()\u001b[39m,\n",
      "  uncertainty = \u001b[31mcol_character()\u001b[39m,\n",
      "  severity = \u001b[32mcol_double()\u001b[39m,\n",
      "  BirdID = \u001b[31mcol_character()\u001b[39m,\n",
      "  has_gap = \u001b[32mcol_double()\u001b[39m,\n",
      "  has_detached = \u001b[33mcol_logical()\u001b[39m,\n",
      "  HAID = \u001b[31mcol_character()\u001b[39m,\n",
      "  uncertainty2 = \u001b[31mcol_character()\u001b[39m,\n",
      "  severity2 = \u001b[32mcol_double()\u001b[39m,\n",
      "  BirdID2 = \u001b[31mcol_character()\u001b[39m,\n",
      "  has_gap2 = \u001b[32mcol_double()\u001b[39m,\n",
      "  has_detached2 = \u001b[33mcol_logical()\u001b[39m,\n",
      "  HAID2 = \u001b[31mcol_character()\u001b[39m\n",
      ")\n",
      "\n",
      "\n"
     ]
    },
    {
     "name": "stdout",
     "output_type": "stream",
     "text": [
      "spec_tbl_df [40 x 17] (S3: spec_tbl_df/tbl_df/tbl/data.frame)\n",
      " $ initial_path_img: chr [1:40] \"G:\\\\VPHI\\\\Welfare\\\\2- Research Projects\\\\OFHE2.OriginsE2\\\\DataOutput\\\\HA\\\\HA3\\\\KBF-01-02-2021\\\\Origins_01022021\"| __truncated__ \"G:\\\\VPHI\\\\Welfare\\\\2- Research Projects\\\\OFHE2.OriginsE2\\\\DataOutput\\\\HA\\\\HA3\\\\KBF-01-02-2021\\\\Origins_01022021\"| __truncated__ \"G:\\\\VPHI\\\\Welfare\\\\2- Research Projects\\\\OFHE2.OriginsE2\\\\DataOutput\\\\HA\\\\HA2\\\\KBF-04-01-2021\\\\Origins 04.01.20\"| __truncated__ \"G:\\\\VPHI\\\\Welfare\\\\2- Research Projects\\\\OFHE2.OriginsE2\\\\DataOutput\\\\HA\\\\HA1\\\\KBF_23-11-2020\\\\23112020.2\\\\IHE_\"| __truncated__ ...\n",
      " $ actual_path_img : chr [1:40] \"G:\\\\VPHI\\\\Welfare\\\\2- Research Projects\\\\OFHE2.OriginsE2\\\\DataOutput\\\\HA\\\\AllPictures_05-05-2021\\\\0.jpg\" \"G:\\\\VPHI\\\\Welfare\\\\2- Research Projects\\\\OFHE2.OriginsE2\\\\DataOutput\\\\HA\\\\AllPictures_05-05-2021\\\\1.jpg\" \"G:\\\\VPHI\\\\Welfare\\\\2- Research Projects\\\\OFHE2.OriginsE2\\\\DataOutput\\\\HA\\\\AllPictures_05-05-2021\\\\2.jpg\" \"G:\\\\VPHI\\\\Welfare\\\\2- Research Projects\\\\OFHE2.OriginsE2\\\\DataOutput\\\\HA\\\\AllPictures_05-05-2021\\\\3.jpg\" ...\n",
      " $ imageID         : num [1:40] 0 1 2 3 4 5 6 7 8 9 ...\n",
      " $ severity3       : num [1:40] 10 0 100 10 90 10 0 180 0 0 ...\n",
      " $ has_gap3        : Factor w/ 2 levels \"0\",\"1\": 1 1 1 1 1 1 1 1 1 1 ...\n",
      " $ uncertainty     : chr [1:40] NA NA NA NA ...\n",
      " $ severity        : num [1:40] 50 0 100 0 110 0 0 150 0 0 ...\n",
      " $ BirdID          : Factor w/ 39 levels \"13orange8sps\",..: 29 11 12 24 22 31 39 17 4 38 ...\n",
      " $ has_gap         : Factor w/ 2 levels \"0\",\"1\": 1 1 1 1 1 1 1 1 1 1 ...\n",
      " $ has_detached    : Factor w/ 0 levels: NA NA NA NA NA NA NA NA NA NA ...\n",
      " $ HAID            : chr [1:40] \"HA3\" \"HA3\" \"HA2\" \"HA1\" ...\n",
      " $ uncertainty2    : chr [1:40] NA NA NA NA ...\n",
      " $ severity2       : num [1:40] 50 0 80 0 80 0 0 190 0 0 ...\n",
      " $ BirdID2         : chr [1:40] \"51green11pw\" \"26orange8pw\" \"27black12sbs\" \"40black4ps\" ...\n",
      " $ has_gap2        : Factor w/ 2 levels \"0\",\"1\": 1 1 1 1 1 1 1 1 1 1 ...\n",
      " $ has_detached2   : Factor w/ 0 levels: NA NA NA NA NA NA NA NA NA NA ...\n",
      " $ HAID2           : chr [1:40] \"HA3\" \"HA3\" \"HA2\" \"HA1\" ...\n",
      " - attr(*, \"spec\")=\n",
      "  .. cols(\n",
      "  ..   initial_path_img = \u001b[31mcol_character()\u001b[39m,\n",
      "  ..   actual_path_img = \u001b[31mcol_character()\u001b[39m,\n",
      "  ..   imageID = \u001b[32mcol_double()\u001b[39m,\n",
      "  ..   severity3 = \u001b[32mcol_double()\u001b[39m,\n",
      "  ..   has_gap3 = \u001b[32mcol_double()\u001b[39m,\n",
      "  ..   uncertainty = \u001b[31mcol_character()\u001b[39m,\n",
      "  ..   severity = \u001b[32mcol_double()\u001b[39m,\n",
      "  ..   BirdID = \u001b[31mcol_character()\u001b[39m,\n",
      "  ..   has_gap = \u001b[32mcol_double()\u001b[39m,\n",
      "  ..   has_detached = \u001b[33mcol_logical()\u001b[39m,\n",
      "  ..   HAID = \u001b[31mcol_character()\u001b[39m,\n",
      "  ..   uncertainty2 = \u001b[31mcol_character()\u001b[39m,\n",
      "  ..   severity2 = \u001b[32mcol_double()\u001b[39m,\n",
      "  ..   BirdID2 = \u001b[31mcol_character()\u001b[39m,\n",
      "  ..   has_gap2 = \u001b[32mcol_double()\u001b[39m,\n",
      "  ..   has_detached2 = \u001b[33mcol_logical()\u001b[39m,\n",
      "  ..   HAID2 = \u001b[31mcol_character()\u001b[39m\n",
      "  .. )\n"
     ]
    }
   ],
   "source": [
    "#download data: Intra observer reliability\n",
    "path_analysis = \"G:/VPHI/Welfare/2- Research Projects/OFHE2.OriginsE2/DataOutput/HA/AllPictures_05-05-2021\"\n",
    "#df = read_delim(file.path(path_analysis,\"HA_all.csv\"), \";\", escape_double = FALSE, trim_ws = TRUE)\n",
    "df_intra2 = read_delim(file.path(path_analysis,\"DF_IMAGE_INFO_RESULTS_CM_intra_R_Secondtime.csv\"),';',trim_ws=TRUE)\n",
    "#convert into to correct format\n",
    "c_fac = c('BirdID', 'has_detached', 'has_gap', 'has_detached2','has_gap2','has_gap3')\n",
    "df_intra2[c_fac] = lapply(df_intra2[c_fac], factor)\n",
    "str(df_intra2) "
   ]
  },
  {
   "cell_type": "markdown",
   "metadata": {},
   "source": [
    "### stat"
   ]
  },
  {
   "cell_type": "code",
   "execution_count": 9,
   "metadata": {},
   "outputs": [
    {
     "data": {
      "text/plain": [
       " Single Score Intraclass Correlation\n",
       "\n",
       "   Model: twoway \n",
       "   Type : agreement \n",
       "\n",
       "   Subjects = 40 \n",
       "     Raters = 2 \n",
       "   ICC(A,1) = 0.891\n",
       "\n",
       " F-Test, H0: r0 = 0 ; H1: r0 > 0 \n",
       "   F(39,14) = 22.1 , p = 1.14e-07 \n",
       "\n",
       " 95%-Confidence Interval for ICC Population Values:\n",
       "  0.737 < ICC < 0.949"
      ]
     },
     "metadata": {},
     "output_type": "display_data"
    }
   ],
   "source": [
    "icc(df_intra2[c('severity','severity3')], model=\"twoway\", type=\"agreement\", unit=\"single\", conf.level = 0.95)"
   ]
  },
  {
   "cell_type": "code",
   "execution_count": 10,
   "metadata": {},
   "outputs": [
    {
     "data": {
      "text/plain": [
       " Cohen's Kappa for 2 Raters (Weights: unweighted)\n",
       "\n",
       " Subjects = 40 \n",
       "   Raters = 2 \n",
       "    Kappa = 0.875 \n",
       "\n",
       "        z = 5.58 \n",
       "  p-value = 2.44e-08 "
      ]
     },
     "metadata": {},
     "output_type": "display_data"
    }
   ],
   "source": [
    "#categorial/binary variable\n",
    "kappa2(df_intra2[,c('has_gap','has_gap3')], \"unweighted\")"
   ]
  },
  {
   "cell_type": "code",
   "execution_count": null,
   "metadata": {},
   "outputs": [],
   "source": []
  },
  {
   "cell_type": "code",
   "execution_count": null,
   "metadata": {},
   "outputs": [],
   "source": []
  },
  {
   "cell_type": "code",
   "execution_count": null,
   "metadata": {},
   "outputs": [],
   "source": []
  },
  {
   "cell_type": "code",
   "execution_count": null,
   "metadata": {},
   "outputs": [],
   "source": []
  },
  {
   "cell_type": "code",
   "execution_count": null,
   "metadata": {},
   "outputs": [],
   "source": []
  },
  {
   "cell_type": "code",
   "execution_count": null,
   "metadata": {},
   "outputs": [],
   "source": []
  }
 ],
 "metadata": {
  "kernelspec": {
   "display_name": "R 4.0.3",
   "language": "R",
   "name": "ir35"
  },
  "language_info": {
   "codemirror_mode": "r",
   "file_extension": ".r",
   "mimetype": "text/x-r-source",
   "name": "R",
   "pygments_lexer": "r",
   "version": "4.0.3"
  }
 },
 "nbformat": 4,
 "nbformat_minor": 4
}
