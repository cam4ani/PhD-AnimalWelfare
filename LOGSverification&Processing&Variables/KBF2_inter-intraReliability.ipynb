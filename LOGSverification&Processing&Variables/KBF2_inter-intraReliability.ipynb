{
 "cells": [
  {
   "cell_type": "code",
   "execution_count": 1,
   "metadata": {},
   "outputs": [
    {
     "name": "stderr",
     "output_type": "stream",
     "text": [
      "Loading required package: lpSolve\n",
      "\n"
     ]
    }
   ],
   "source": [
    "library('irr') #ICC\n",
    "library('readr') #read_delim"
   ]
  },
  {
   "cell_type": "markdown",
   "metadata": {},
   "source": [
    "# Download data"
   ]
  },
  {
   "cell_type": "code",
   "execution_count": 2,
   "metadata": {},
   "outputs": [
    {
     "name": "stderr",
     "output_type": "stream",
     "text": [
      "\n",
      "\u001b[36m--\u001b[39m \u001b[1m\u001b[1mColumn specification\u001b[1m\u001b[22m \u001b[36m------------------------------------------------------------------------------------------------\u001b[39m\n",
      "cols(\n",
      "  initial_path_img = \u001b[31mcol_character()\u001b[39m,\n",
      "  actual_path_img = \u001b[31mcol_character()\u001b[39m,\n",
      "  imageID = \u001b[32mcol_double()\u001b[39m,\n",
      "  uncertainty = \u001b[31mcol_character()\u001b[39m,\n",
      "  severity = \u001b[32mcol_double()\u001b[39m,\n",
      "  BirdID = \u001b[31mcol_character()\u001b[39m,\n",
      "  has_gap = \u001b[32mcol_double()\u001b[39m,\n",
      "  has_detached = \u001b[33mcol_logical()\u001b[39m,\n",
      "  HAID = \u001b[31mcol_character()\u001b[39m,\n",
      "  random_order1 = \u001b[32mcol_double()\u001b[39m,\n",
      "  uncertainty2 = \u001b[31mcol_character()\u001b[39m,\n",
      "  severity2 = \u001b[32mcol_double()\u001b[39m,\n",
      "  BirdID2 = \u001b[31mcol_character()\u001b[39m,\n",
      "  has_gap2 = \u001b[32mcol_double()\u001b[39m,\n",
      "  has_detached2 = \u001b[33mcol_logical()\u001b[39m,\n",
      "  HAID2 = \u001b[31mcol_character()\u001b[39m\n",
      ")\n",
      "\n",
      "\n"
     ]
    },
    {
     "name": "stdout",
     "output_type": "stream",
     "text": [
      "spec_tbl_df [40 x 16] (S3: spec_tbl_df/tbl_df/tbl/data.frame)\n",
      " $ initial_path_img: chr [1:40] \"G:\\\\VPHI\\\\Welfare\\\\2- Research Projects\\\\OFHE2.OriginsE2\\\\DataOutput\\\\HA\\\\HA3\\\\KBF-01-02-2021\\\\Origins_01022021\"| __truncated__ \"G:\\\\VPHI\\\\Welfare\\\\2- Research Projects\\\\OFHE2.OriginsE2\\\\DataOutput\\\\HA\\\\HA3\\\\KBF-01-02-2021\\\\Origins_01022021\"| __truncated__ \"G:\\\\VPHI\\\\Welfare\\\\2- Research Projects\\\\OFHE2.OriginsE2\\\\DataOutput\\\\HA\\\\HA2\\\\KBF-04-01-2021\\\\Origins 04.01.20\"| __truncated__ \"G:\\\\VPHI\\\\Welfare\\\\2- Research Projects\\\\OFHE2.OriginsE2\\\\DataOutput\\\\HA\\\\HA1\\\\KBF_23-11-2020\\\\23112020.2\\\\IHE_\"| __truncated__ ...\n",
      " $ actual_path_img : chr [1:40] \"G:\\\\VPHI\\\\Welfare\\\\2- Research Projects\\\\OFHE2.OriginsE2\\\\DataOutput\\\\HA\\\\AllPictures_05-05-2021\\\\0.jpg\" \"G:\\\\VPHI\\\\Welfare\\\\2- Research Projects\\\\OFHE2.OriginsE2\\\\DataOutput\\\\HA\\\\AllPictures_05-05-2021\\\\1.jpg\" \"G:\\\\VPHI\\\\Welfare\\\\2- Research Projects\\\\OFHE2.OriginsE2\\\\DataOutput\\\\HA\\\\AllPictures_05-05-2021\\\\2.jpg\" \"G:\\\\VPHI\\\\Welfare\\\\2- Research Projects\\\\OFHE2.OriginsE2\\\\DataOutput\\\\HA\\\\AllPictures_05-05-2021\\\\3.jpg\" ...\n",
      " $ imageID         : num [1:40] 0 1 2 3 4 5 6 7 8 9 ...\n",
      " $ uncertainty     : chr [1:40] NA NA NA NA ...\n",
      " $ severity        : num [1:40] 50 0 100 0 110 0 0 150 0 0 ...\n",
      " $ BirdID          : Factor w/ 39 levels \"13orange8sps\",..: 29 11 12 24 22 31 39 17 4 38 ...\n",
      " $ has_gap         : Factor w/ 1 level \"1\": NA NA NA NA NA NA NA NA NA NA ...\n",
      " $ has_detached    : Factor w/ 0 levels: NA NA NA NA NA NA NA NA NA NA ...\n",
      " $ HAID            : chr [1:40] \"HA3\" \"HA3\" \"HA2\" \"HA1\" ...\n",
      " $ random_order1   : num [1:40] 469 345 196 84 385 428 17 228 146 68 ...\n",
      " $ uncertainty2    : chr [1:40] NA NA NA NA ...\n",
      " $ severity2       : num [1:40] 50 0 80 0 80 0 0 190 0 0 ...\n",
      " $ BirdID2         : chr [1:40] \"51green11pw\" \"26orange8pw\" \"27black12sbs\" \"40black4ps\" ...\n",
      " $ has_gap2        : Factor w/ 1 level \"1\": NA NA NA NA NA NA NA NA NA NA ...\n",
      " $ has_detached2   : Factor w/ 0 levels: NA NA NA NA NA NA NA NA NA NA ...\n",
      " $ HAID2           : chr [1:40] \"HA3\" \"HA3\" \"HA2\" \"HA1\" ...\n",
      " - attr(*, \"spec\")=\n",
      "  .. cols(\n",
      "  ..   initial_path_img = \u001b[31mcol_character()\u001b[39m,\n",
      "  ..   actual_path_img = \u001b[31mcol_character()\u001b[39m,\n",
      "  ..   imageID = \u001b[32mcol_double()\u001b[39m,\n",
      "  ..   uncertainty = \u001b[31mcol_character()\u001b[39m,\n",
      "  ..   severity = \u001b[32mcol_double()\u001b[39m,\n",
      "  ..   BirdID = \u001b[31mcol_character()\u001b[39m,\n",
      "  ..   has_gap = \u001b[32mcol_double()\u001b[39m,\n",
      "  ..   has_detached = \u001b[33mcol_logical()\u001b[39m,\n",
      "  ..   HAID = \u001b[31mcol_character()\u001b[39m,\n",
      "  ..   random_order1 = \u001b[32mcol_double()\u001b[39m,\n",
      "  ..   uncertainty2 = \u001b[31mcol_character()\u001b[39m,\n",
      "  ..   severity2 = \u001b[32mcol_double()\u001b[39m,\n",
      "  ..   BirdID2 = \u001b[31mcol_character()\u001b[39m,\n",
      "  ..   has_gap2 = \u001b[32mcol_double()\u001b[39m,\n",
      "  ..   has_detached2 = \u001b[33mcol_logical()\u001b[39m,\n",
      "  ..   HAID2 = \u001b[31mcol_character()\u001b[39m\n",
      "  .. )\n"
     ]
    }
   ],
   "source": [
    "path_analysis = \"G:/VPHI/Welfare/2- Research Projects/OFHE2.OriginsE2/DataOutput/HA/AllPictures_05-05-2021\"\n",
    "#df = read_delim(file.path(path_analysis,\"HA_all.csv\"), \";\", escape_double = FALSE, trim_ws = TRUE)\n",
    "df = read_delim(file.path(path_analysis,\"DF_IMAGE_INFO_RESULTS_CM_intra_R.csv\"),';',trim_ws=TRUE)\n",
    "#convert into to correct format\n",
    "c_fac = c('BirdID', 'has_detached', 'has_gap', 'has_detached2','has_gap2')\n",
    "df[c_fac] = lapply(df[c_fac], factor)\n",
    "str(df) "
   ]
  },
  {
   "cell_type": "markdown",
   "metadata": {},
   "source": [
    "for both Intra & Inter\n",
    "*Continuous - ICC assumes normal distribution): The Intraclass Correlation Coefficient (ICC) can be used to measure the strength of inter-rater agreement in the situation where the rating scale is continuous or ordinal. It is suitable for studies with two or more raters. Note that, the ICC can be also used for test-retest (repeated measures of the same subject) and intra-rater (multiple scores from the same raters) reliability analysis.\n",
    "*Continuous - CCC(non parametric data) Lin’s concordance correlation coefficient with the Bland Altman plot to make sure that disagreement is not correlated with absolute value, or concentrated in some part of the range of the variable. This will not be captured by a one-size-fits-all measure.\n",
    "Categorical: Kappa"
   ]
  },
  {
   "cell_type": "markdown",
   "metadata": {},
   "source": [
    "# Intra observer reliability"
   ]
  },
  {
   "cell_type": "raw",
   "metadata": {},
   "source": [
    "to be comparable with: we will use the same iter-intra: from irr. cf https://www.frontiersin.org/articles/10.3389/fvets.2018.00124/full\n",
    "\n",
    "\"To assess inter-observer reliability, an Intraclass correlation coefficient (ICC) estimate and its 95% confident intervals were calculated using R 3.4.0 (24), package “irr” (25) based on an average-rating (k = 14), absolute-agreement, two-way random-effects model (26). To evaluate intra-observer reliability, an ICC estimate and its 95% confident intervals were calculated based on a single-rating, absolute-agreement, two-way mixed-effects model (27, 28). In order to show the range of intra-observer reliability within observers, ICCs were additionally calculated for each observer (k = 14) separately. Reliabilities were considered poor (ICC < 0.40), fair (0.40 < ICC < 0.59), good (0.6 < ICC < 0.74), or excellent (0.75 < ICC < 1.0) according to the recommendations of Cicchetti (29).\"\n",
    "--> \n",
    "#inter-observer reliability\n",
    "icc(ratings, model=\"twoway\", type=\"agreement\", unit=\"average\", conf.level = 0.95)\n",
    "#intra-observer reliability\n",
    "icc(ratings, model=\"twoway\", type=\"agreement\", unit=\"single\", conf.level = 0.95)"
   ]
  },
  {
   "cell_type": "code",
   "execution_count": 3,
   "metadata": {},
   "outputs": [
    {
     "data": {
      "text/html": [
       "<table class=\"dataframe\">\n",
       "<caption>A tibble: 40 × 2</caption>\n",
       "<thead>\n",
       "\t<tr><th scope=col>severity</th><th scope=col>severity2</th></tr>\n",
       "\t<tr><th scope=col>&lt;dbl&gt;</th><th scope=col>&lt;dbl&gt;</th></tr>\n",
       "</thead>\n",
       "<tbody>\n",
       "\t<tr><td> 50</td><td> 50</td></tr>\n",
       "\t<tr><td>  0</td><td>  0</td></tr>\n",
       "\t<tr><td>100</td><td> 80</td></tr>\n",
       "\t<tr><td>  0</td><td>  0</td></tr>\n",
       "\t<tr><td>110</td><td> 80</td></tr>\n",
       "\t<tr><td>  0</td><td>  0</td></tr>\n",
       "\t<tr><td>  0</td><td>  0</td></tr>\n",
       "\t<tr><td>150</td><td>190</td></tr>\n",
       "\t<tr><td>  0</td><td>  0</td></tr>\n",
       "\t<tr><td>  0</td><td>  0</td></tr>\n",
       "\t<tr><td>  0</td><td>  0</td></tr>\n",
       "\t<tr><td>150</td><td>140</td></tr>\n",
       "\t<tr><td> 70</td><td> 60</td></tr>\n",
       "\t<tr><td>100</td><td>100</td></tr>\n",
       "\t<tr><td> 60</td><td> 40</td></tr>\n",
       "\t<tr><td>  0</td><td>  0</td></tr>\n",
       "\t<tr><td>  0</td><td>  0</td></tr>\n",
       "\t<tr><td>100</td><td>140</td></tr>\n",
       "\t<tr><td>  0</td><td>  0</td></tr>\n",
       "\t<tr><td> 90</td><td> 50</td></tr>\n",
       "\t<tr><td>  0</td><td>100</td></tr>\n",
       "\t<tr><td>200</td><td>200</td></tr>\n",
       "\t<tr><td>130</td><td>120</td></tr>\n",
       "\t<tr><td> 20</td><td> 10</td></tr>\n",
       "\t<tr><td>  0</td><td>  0</td></tr>\n",
       "\t<tr><td> 70</td><td>100</td></tr>\n",
       "\t<tr><td> 60</td><td> 90</td></tr>\n",
       "\t<tr><td>  0</td><td>  0</td></tr>\n",
       "\t<tr><td>  0</td><td>  0</td></tr>\n",
       "\t<tr><td>270</td><td>270</td></tr>\n",
       "\t<tr><td>  0</td><td>  0</td></tr>\n",
       "\t<tr><td>160</td><td>100</td></tr>\n",
       "\t<tr><td> 70</td><td> 50</td></tr>\n",
       "\t<tr><td>  0</td><td>  0</td></tr>\n",
       "\t<tr><td> 60</td><td> 60</td></tr>\n",
       "\t<tr><td>140</td><td>140</td></tr>\n",
       "\t<tr><td> 30</td><td> 40</td></tr>\n",
       "\t<tr><td> 70</td><td> 90</td></tr>\n",
       "\t<tr><td>  0</td><td>  0</td></tr>\n",
       "\t<tr><td> 50</td><td> 60</td></tr>\n",
       "</tbody>\n",
       "</table>\n"
      ],
      "text/latex": [
       "A tibble: 40 × 2\n",
       "\\begin{tabular}{ll}\n",
       " severity & severity2\\\\\n",
       " <dbl> & <dbl>\\\\\n",
       "\\hline\n",
       "\t  50 &  50\\\\\n",
       "\t   0 &   0\\\\\n",
       "\t 100 &  80\\\\\n",
       "\t   0 &   0\\\\\n",
       "\t 110 &  80\\\\\n",
       "\t   0 &   0\\\\\n",
       "\t   0 &   0\\\\\n",
       "\t 150 & 190\\\\\n",
       "\t   0 &   0\\\\\n",
       "\t   0 &   0\\\\\n",
       "\t   0 &   0\\\\\n",
       "\t 150 & 140\\\\\n",
       "\t  70 &  60\\\\\n",
       "\t 100 & 100\\\\\n",
       "\t  60 &  40\\\\\n",
       "\t   0 &   0\\\\\n",
       "\t   0 &   0\\\\\n",
       "\t 100 & 140\\\\\n",
       "\t   0 &   0\\\\\n",
       "\t  90 &  50\\\\\n",
       "\t   0 & 100\\\\\n",
       "\t 200 & 200\\\\\n",
       "\t 130 & 120\\\\\n",
       "\t  20 &  10\\\\\n",
       "\t   0 &   0\\\\\n",
       "\t  70 & 100\\\\\n",
       "\t  60 &  90\\\\\n",
       "\t   0 &   0\\\\\n",
       "\t   0 &   0\\\\\n",
       "\t 270 & 270\\\\\n",
       "\t   0 &   0\\\\\n",
       "\t 160 & 100\\\\\n",
       "\t  70 &  50\\\\\n",
       "\t   0 &   0\\\\\n",
       "\t  60 &  60\\\\\n",
       "\t 140 & 140\\\\\n",
       "\t  30 &  40\\\\\n",
       "\t  70 &  90\\\\\n",
       "\t   0 &   0\\\\\n",
       "\t  50 &  60\\\\\n",
       "\\end{tabular}\n"
      ],
      "text/markdown": [
       "\n",
       "A tibble: 40 × 2\n",
       "\n",
       "| severity &lt;dbl&gt; | severity2 &lt;dbl&gt; |\n",
       "|---|---|\n",
       "|  50 |  50 |\n",
       "|   0 |   0 |\n",
       "| 100 |  80 |\n",
       "|   0 |   0 |\n",
       "| 110 |  80 |\n",
       "|   0 |   0 |\n",
       "|   0 |   0 |\n",
       "| 150 | 190 |\n",
       "|   0 |   0 |\n",
       "|   0 |   0 |\n",
       "|   0 |   0 |\n",
       "| 150 | 140 |\n",
       "|  70 |  60 |\n",
       "| 100 | 100 |\n",
       "|  60 |  40 |\n",
       "|   0 |   0 |\n",
       "|   0 |   0 |\n",
       "| 100 | 140 |\n",
       "|   0 |   0 |\n",
       "|  90 |  50 |\n",
       "|   0 | 100 |\n",
       "| 200 | 200 |\n",
       "| 130 | 120 |\n",
       "|  20 |  10 |\n",
       "|   0 |   0 |\n",
       "|  70 | 100 |\n",
       "|  60 |  90 |\n",
       "|   0 |   0 |\n",
       "|   0 |   0 |\n",
       "| 270 | 270 |\n",
       "|   0 |   0 |\n",
       "| 160 | 100 |\n",
       "|  70 |  50 |\n",
       "|   0 |   0 |\n",
       "|  60 |  60 |\n",
       "| 140 | 140 |\n",
       "|  30 |  40 |\n",
       "|  70 |  90 |\n",
       "|   0 |   0 |\n",
       "|  50 |  60 |\n",
       "\n"
      ],
      "text/plain": [
       "   severity severity2\n",
       "1   50       50      \n",
       "2    0        0      \n",
       "3  100       80      \n",
       "4    0        0      \n",
       "5  110       80      \n",
       "6    0        0      \n",
       "7    0        0      \n",
       "8  150      190      \n",
       "9    0        0      \n",
       "10   0        0      \n",
       "11   0        0      \n",
       "12 150      140      \n",
       "13  70       60      \n",
       "14 100      100      \n",
       "15  60       40      \n",
       "16   0        0      \n",
       "17   0        0      \n",
       "18 100      140      \n",
       "19   0        0      \n",
       "20  90       50      \n",
       "21   0      100      \n",
       "22 200      200      \n",
       "23 130      120      \n",
       "24  20       10      \n",
       "25   0        0      \n",
       "26  70      100      \n",
       "27  60       90      \n",
       "28   0        0      \n",
       "29   0        0      \n",
       "30 270      270      \n",
       "31   0        0      \n",
       "32 160      100      \n",
       "33  70       50      \n",
       "34   0        0      \n",
       "35  60       60      \n",
       "36 140      140      \n",
       "37  30       40      \n",
       "38  70       90      \n",
       "39   0        0      \n",
       "40  50       60      "
      ]
     },
     "metadata": {},
     "output_type": "display_data"
    }
   ],
   "source": [
    "df[c('severity','severity2')]"
   ]
  },
  {
   "cell_type": "code",
   "execution_count": 4,
   "metadata": {},
   "outputs": [
    {
     "data": {
      "text/plain": [
       " Single Score Intraclass Correlation\n",
       "\n",
       "   Model: twoway \n",
       "   Type : agreement \n",
       "\n",
       "   Subjects = 40 \n",
       "     Raters = 2 \n",
       "   ICC(A,1) = 0.934\n",
       "\n",
       " F-Test, H0: r0 = 0 ; H1: r0 > 0 \n",
       " F(39,39.2) = 28.9 , p = 2.76e-19 \n",
       "\n",
       " 95%-Confidence Interval for ICC Population Values:\n",
       "  0.88 < ICC < 0.965"
      ]
     },
     "metadata": {},
     "output_type": "display_data"
    }
   ],
   "source": [
    "icc(df[c('severity','severity2')], model=\"twoway\", type=\"agreement\", unit=\"single\", conf.level = 0.95)"
   ]
  },
  {
   "cell_type": "code",
   "execution_count": null,
   "metadata": {},
   "outputs": [],
   "source": []
  },
  {
   "cell_type": "code",
   "execution_count": null,
   "metadata": {},
   "outputs": [],
   "source": []
  },
  {
   "cell_type": "code",
   "execution_count": null,
   "metadata": {},
   "outputs": [],
   "source": []
  },
  {
   "cell_type": "code",
   "execution_count": null,
   "metadata": {},
   "outputs": [],
   "source": []
  },
  {
   "cell_type": "code",
   "execution_count": null,
   "metadata": {},
   "outputs": [],
   "source": []
  },
  {
   "cell_type": "code",
   "execution_count": null,
   "metadata": {},
   "outputs": [],
   "source": []
  }
 ],
 "metadata": {
  "kernelspec": {
   "display_name": "R 4.0.3",
   "language": "R",
   "name": "ir35"
  },
  "language_info": {
   "codemirror_mode": "r",
   "file_extension": ".r",
   "mimetype": "text/x-r-source",
   "name": "R",
   "pygments_lexer": "r",
   "version": "4.0.3"
  }
 },
 "nbformat": 4,
 "nbformat_minor": 4
}
