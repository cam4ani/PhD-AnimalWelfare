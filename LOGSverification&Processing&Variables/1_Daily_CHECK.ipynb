{
 "cells": [
  {
   "cell_type": "code",
   "execution_count": 1,
   "metadata": {},
   "outputs": [],
   "source": [
    "#packages\n",
    "import json\n",
    "import tqdm\n",
    "import os\n",
    "import numpy as np\n",
    "import sys\n",
    "import glob\n",
    "import pandas as pd\n",
    "import datetime as dt\n",
    "import re\n",
    "import math\n",
    "from collections import defaultdict\n",
    "import operator\n",
    "\n",
    "#plot\n",
    "import matplotlib.pyplot as plt\n",
    "import seaborn as sns"
   ]
  },
  {
   "cell_type": "code",
   "execution_count": 2,
   "metadata": {},
   "outputs": [
    {
     "name": "stderr",
     "output_type": "stream",
     "text": [
      "C:\\Users\\camil\\anaconda3\\lib\\site-packages\\scipy\\sparse\\sparsetools.py:21: DeprecationWarning: `scipy.sparse.sparsetools` is deprecated!\n",
      "scipy.sparse.sparsetools is a private module for scipy.sparse, and should not be used.\n",
      "  _deprecated()\n"
     ]
    },
    {
     "name": "stdout",
     "output_type": "stream",
     "text": [
      "2\n"
     ]
    }
   ],
   "source": [
    "PACKAGE_PARENT = '../'\n",
    "SCRIPT_DIR = os.path.dirname(os.path.realpath(os.path.join(os.getcwd(), os.path.expanduser('__file__'))))\n",
    "sys.path.append(os.path.normpath(os.path.join(SCRIPT_DIR, PACKAGE_PARENT)))\n",
    "from UTILS import preprocessing_Origins, general_cleaning, verification_based_on_initial_record,\\\n",
    "ZoneVariable, HenDailyVariable_Origins, boxplot_distribution_entropy, heatmap_duration_perzone_perhen, is_day\n",
    "import config_origins as config"
   ]
  },
  {
   "cell_type": "code",
   "execution_count": 3,
   "metadata": {},
   "outputs": [
    {
     "name": "stderr",
     "output_type": "stream",
     "text": [
      "C:\\Users\\camil\\anaconda3\\lib\\site-packages\\ipykernel\\ipkernel.py:283: DeprecationWarning: `should_run_async` will not call `transform_cell` automatically in the future. Please pass the result to `transformed_cell` argument and any exception that happen during thetransform in `preprocessing_exc_tuple` in IPython 7.17 and above.\n",
      "  and should_run_async(code)\n"
     ]
    }
   ],
   "source": [
    "#initialise parameter\n",
    "path_initial_data = config.path_initial_data\n",
    "path_extracted_data_daily_check = config.path_extracted_data_daily_check\n",
    "id_run = config.id_run\n",
    "dico_rc_sys = config.dico_rc_sys\n",
    "path_FocalBird = config.path_FocalBird\n",
    "\n",
    "focal_name = config.focal_name\n",
    "path_Days = config.path_Days"
   ]
  },
  {
   "cell_type": "code",
   "execution_count": 4,
   "metadata": {},
   "outputs": [
    {
     "name": "stderr",
     "output_type": "stream",
     "text": [
      "C:\\Users\\camil\\anaconda3\\lib\\site-packages\\ipykernel\\ipkernel.py:283: DeprecationWarning: `should_run_async` will not call `transform_cell` automatically in the future. Please pass the result to `transformed_cell` argument and any exception that happen during thetransform in `preprocessing_exc_tuple` in IPython 7.17 and above.\n",
      "  and should_run_async(code)\n"
     ]
    }
   ],
   "source": [
    "#voltage thresholds\n",
    "#Threshold for minimarker and wintergarden battery change\n",
    "thresh_dev = 3100\n",
    "#Threshold for tag battery change\n",
    "thresh_tag = 2930"
   ]
  },
  {
   "cell_type": "raw",
   "metadata": {},
   "source": [
    "Why have I done a new notebook for daily check: notebook from previous study issues, among these:\n",
    "1. need to download 6 files, rename them and put in the folder before using the cript. WIth this one download one file, no need of rename and then use the script directly\n",
    "2. not general enought to be used with three systems, so one should copy paste a lot of the script which makes it very long and ugly\n",
    "3. not correct regarding tagID in different hen and henID with multiple Tagid\n",
    "4. not correct regarding nan and 0 voltage\n",
    "..."
   ]
  },
  {
   "cell_type": "markdown",
   "metadata": {},
   "source": [
    "# Download data"
   ]
  },
  {
   "cell_type": "code",
   "execution_count": 5,
   "metadata": {},
   "outputs": [
    {
     "name": "stderr",
     "output_type": "stream",
     "text": [
      "C:\\Users\\camil\\anaconda3\\lib\\site-packages\\ipykernel\\ipkernel.py:283: DeprecationWarning: `should_run_async` will not call `transform_cell` automatically in the future. Please pass the result to `transformed_cell` argument and any exception that happen during thetransform in `preprocessing_exc_tuple` in IPython 7.17 and above.\n",
      "  and should_run_async(code)\n"
     ]
    }
   ],
   "source": [
    "#for the logs and device updates\n",
    "over_last_Xdays = 6"
   ]
  },
  {
   "cell_type": "markdown",
   "metadata": {},
   "source": [
    "### logs with their associated HenID"
   ]
  },
  {
   "cell_type": "code",
   "execution_count": 6,
   "metadata": {
    "scrolled": true
   },
   "outputs": [
    {
     "name": "stderr",
     "output_type": "stream",
     "text": [
      "C:\\Users\\camil\\anaconda3\\lib\\site-packages\\ipykernel\\ipkernel.py:283: DeprecationWarning: `should_run_async` will not call `transform_cell` automatically in the future. Please pass the result to `transformed_cell` argument and any exception that happen during thetransform in `preprocessing_exc_tuple` in IPython 7.17 and above.\n",
      "  and should_run_async(code)\n",
      "<>:1: DeprecationWarning: invalid escape sequence \\T\n",
      "<>:1: DeprecationWarning: invalid escape sequence \\T\n",
      "<ipython-input-6-49996d438290>:1: DeprecationWarning: invalid escape sequence \\T\n",
      "  p = glob.glob(os.path.join(path_initial_data, 'Barn 4 Pen*\\TagUpdates\\log*'))\n"
     ]
    },
    {
     "data": {
      "text/html": [
       "<text style=color:black>log: log_00000001 has </text> <text style=color:green>359003</text> <text style=color:black> rows</text>"
      ],
      "text/plain": [
       "<IPython.core.display.HTML object>"
      ]
     },
     "metadata": {},
     "output_type": "display_data"
    },
    {
     "data": {
      "text/html": [
       "<text style=color:black>log: log_00000002 has </text> <text style=color:green>366740</text> <text style=color:black> rows</text>"
      ],
      "text/plain": [
       "<IPython.core.display.HTML object>"
      ]
     },
     "metadata": {},
     "output_type": "display_data"
    },
    {
     "data": {
      "text/html": [
       "<text style=color:black>log: log_00000003 has </text> <text style=color:green>367076</text> <text style=color:black> rows</text>"
      ],
      "text/plain": [
       "<IPython.core.display.HTML object>"
      ]
     },
     "metadata": {},
     "output_type": "display_data"
    },
    {
     "data": {
      "text/html": [
       "<text style=color:black>log: log_00000004 has </text> <text style=color:green>366813</text> <text style=color:black> rows</text>"
      ],
      "text/plain": [
       "<IPython.core.display.HTML object>"
      ]
     },
     "metadata": {},
     "output_type": "display_data"
    },
    {
     "data": {
      "text/html": [
       "<text style=color:black>log: log_00000005 has </text> <text style=color:green>366164</text> <text style=color:black> rows</text>"
      ],
      "text/plain": [
       "<IPython.core.display.HTML object>"
      ]
     },
     "metadata": {},
     "output_type": "display_data"
    },
    {
     "data": {
      "text/html": [
       "<text style=color:black>log: log_00000006 has </text> <text style=color:green>366755</text> <text style=color:black> rows</text>"
      ],
      "text/plain": [
       "<IPython.core.display.HTML object>"
      ]
     },
     "metadata": {},
     "output_type": "display_data"
    },
    {
     "data": {
      "text/html": [
       "<text style=color:black>log: log_00000007 has </text> <text style=color:green>366115</text> <text style=color:black> rows</text>"
      ],
      "text/plain": [
       "<IPython.core.display.HTML object>"
      ]
     },
     "metadata": {},
     "output_type": "display_data"
    },
    {
     "data": {
      "text/html": [
       "<text style=color:black>log: log_00000008 has </text> <text style=color:green>289272</text> <text style=color:black> rows</text>"
      ],
      "text/plain": [
       "<IPython.core.display.HTML object>"
      ]
     },
     "metadata": {},
     "output_type": "display_data"
    },
    {
     "data": {
      "text/html": [
       "<text style=color:black>log: log_00000001 has </text> <text style=color:green>371776</text> <text style=color:black> rows</text>"
      ],
      "text/plain": [
       "<IPython.core.display.HTML object>"
      ]
     },
     "metadata": {},
     "output_type": "display_data"
    },
    {
     "data": {
      "text/html": [
       "<text style=color:black>log: log_00000002 has </text> <text style=color:green>373776</text> <text style=color:black> rows</text>"
      ],
      "text/plain": [
       "<IPython.core.display.HTML object>"
      ]
     },
     "metadata": {},
     "output_type": "display_data"
    },
    {
     "data": {
      "text/html": [
       "<text style=color:black>log: log_00000003 has </text> <text style=color:green>373919</text> <text style=color:black> rows</text>"
      ],
      "text/plain": [
       "<IPython.core.display.HTML object>"
      ]
     },
     "metadata": {},
     "output_type": "display_data"
    },
    {
     "data": {
      "text/html": [
       "<text style=color:black>log: log_00000004 has </text> <text style=color:green>373770</text> <text style=color:black> rows</text>"
      ],
      "text/plain": [
       "<IPython.core.display.HTML object>"
      ]
     },
     "metadata": {},
     "output_type": "display_data"
    },
    {
     "data": {
      "text/html": [
       "<text style=color:black>log: log_00000005 has </text> <text style=color:green>373310</text> <text style=color:black> rows</text>"
      ],
      "text/plain": [
       "<IPython.core.display.HTML object>"
      ]
     },
     "metadata": {},
     "output_type": "display_data"
    },
    {
     "data": {
      "text/html": [
       "<text style=color:black>log: log_00000006 has </text> <text style=color:green>373635</text> <text style=color:black> rows</text>"
      ],
      "text/plain": [
       "<IPython.core.display.HTML object>"
      ]
     },
     "metadata": {},
     "output_type": "display_data"
    },
    {
     "data": {
      "text/html": [
       "<text style=color:black>log: log_00000007 has </text> <text style=color:green>168550</text> <text style=color:black> rows</text>"
      ],
      "text/plain": [
       "<IPython.core.display.HTML object>"
      ]
     },
     "metadata": {},
     "output_type": "display_data"
    },
    {
     "data": {
      "text/html": [
       "<text style=color:black>log: log_00000001 has </text> <text style=color:green>372191</text> <text style=color:black> rows</text>"
      ],
      "text/plain": [
       "<IPython.core.display.HTML object>"
      ]
     },
     "metadata": {},
     "output_type": "display_data"
    },
    {
     "data": {
      "text/html": [
       "<text style=color:black>log: log_00000002 has </text> <text style=color:green>374299</text> <text style=color:black> rows</text>"
      ],
      "text/plain": [
       "<IPython.core.display.HTML object>"
      ]
     },
     "metadata": {},
     "output_type": "display_data"
    },
    {
     "data": {
      "text/html": [
       "<text style=color:black>log: log_00000003 has </text> <text style=color:green>374613</text> <text style=color:black> rows</text>"
      ],
      "text/plain": [
       "<IPython.core.display.HTML object>"
      ]
     },
     "metadata": {},
     "output_type": "display_data"
    },
    {
     "data": {
      "text/html": [
       "<text style=color:black>log: log_00000004 has </text> <text style=color:green>272849</text> <text style=color:black> rows</text>"
      ],
      "text/plain": [
       "<IPython.core.display.HTML object>"
      ]
     },
     "metadata": {},
     "output_type": "display_data"
    },
    {
     "name": "stdout",
     "output_type": "stream",
     "text": [
      "From the focalBirdinfo, you have 158 ative tags\n"
     ]
    },
    {
     "name": "stderr",
     "output_type": "stream",
     "text": [
      "C:\\Users\\camil\\Desktop\\animals_code\\PhD-AnimalWelfare\\UTILS.py:411: FutureWarning: Indexing with multiple keys (implicitly converted to a tuple of keys) will be deprecated, use a list instead.\n",
      "  df_ = df.groupby(['HenID'])['system','PenID','TagID'].agg(lambda x: set(x)).reset_index()\n"
     ]
    },
    {
     "name": "stdout",
     "output_type": "stream",
     "text": [
      "(6438175, 47)\n"
     ]
    },
    {
     "data": {
      "text/html": [
       "<div>\n",
       "<style scoped>\n",
       "    .dataframe tbody tr th:only-of-type {\n",
       "        vertical-align: middle;\n",
       "    }\n",
       "\n",
       "    .dataframe tbody tr th {\n",
       "        vertical-align: top;\n",
       "    }\n",
       "\n",
       "    .dataframe thead th {\n",
       "        text-align: right;\n",
       "    }\n",
       "</style>\n",
       "<table border=\"1\" class=\"dataframe\">\n",
       "  <thead>\n",
       "    <tr style=\"text-align: right;\">\n",
       "      <th></th>\n",
       "      <th>Timestamp</th>\n",
       "      <th>TagSerialNumber</th>\n",
       "      <th>TagID</th>\n",
       "      <th>Zone</th>\n",
       "      <th>systemgantnerid</th>\n",
       "      <th>useless_zone</th>\n",
       "      <th>signalstrength</th>\n",
       "      <th>zone2</th>\n",
       "      <th>signalstzone2</th>\n",
       "      <th>zone3</th>\n",
       "      <th>...</th>\n",
       "      <th>backpackUniqueID</th>\n",
       "      <th>EPI GENETIC TIMESTAMP</th>\n",
       "      <th>HA 23-11-2020</th>\n",
       "      <th>comportement</th>\n",
       "      <th>weight 23-11-2020</th>\n",
       "      <th>HA 04-01-2021</th>\n",
       "      <th>weight 04-01-2021</th>\n",
       "      <th>HA 01-02-21</th>\n",
       "      <th>weight 01-02-21</th>\n",
       "      <th>weight 12-04-21</th>\n",
       "    </tr>\n",
       "  </thead>\n",
       "  <tbody>\n",
       "    <tr>\n",
       "      <th>0</th>\n",
       "      <td>2020-09-29 09:07:00</td>\n",
       "      <td>02001E13</td>\n",
       "      <td>162</td>\n",
       "      <td>Tier 2 (mini 12)</td>\n",
       "      <td>2</td>\n",
       "      <td>8</td>\n",
       "      <td>10</td>\n",
       "      <td>2</td>\n",
       "      <td>8</td>\n",
       "      <td>1</td>\n",
       "      <td>...</td>\n",
       "      <td>12wp</td>\n",
       "      <td>10-date:4-2021</td>\n",
       "      <td>NaN</td>\n",
       "      <td>NaN</td>\n",
       "      <td>1708,4</td>\n",
       "      <td>the student wrote the weight in kg only one di...</td>\n",
       "      <td>1800, +70 -30</td>\n",
       "      <td>NaN</td>\n",
       "      <td>1820,4</td>\n",
       "      <td>1913</td>\n",
       "    </tr>\n",
       "    <tr>\n",
       "      <th>120</th>\n",
       "      <td>2020-09-29 09:08:12</td>\n",
       "      <td>02001E6A</td>\n",
       "      <td>140</td>\n",
       "      <td>Tier 2 (mini 11)</td>\n",
       "      <td>2</td>\n",
       "      <td>7</td>\n",
       "      <td>10</td>\n",
       "      <td>2</td>\n",
       "      <td>8</td>\n",
       "      <td>1</td>\n",
       "      <td>...</td>\n",
       "      <td>11wp</td>\n",
       "      <td>NaN</td>\n",
       "      <td>NaN</td>\n",
       "      <td>NaN</td>\n",
       "      <td>1788,9</td>\n",
       "      <td>NaN</td>\n",
       "      <td>1905,1</td>\n",
       "      <td>NaN</td>\n",
       "      <td>1905,6</td>\n",
       "      <td>2046,7</td>\n",
       "    </tr>\n",
       "    <tr>\n",
       "      <th>1</th>\n",
       "      <td>2020-09-29 09:08:26</td>\n",
       "      <td>02001E13</td>\n",
       "      <td>162</td>\n",
       "      <td>Tier 2 + untere Stange</td>\n",
       "      <td>2</td>\n",
       "      <td>2</td>\n",
       "      <td>11</td>\n",
       "      <td>8</td>\n",
       "      <td>10</td>\n",
       "      <td>3</td>\n",
       "      <td>...</td>\n",
       "      <td>12wp</td>\n",
       "      <td>10-date:4-2021</td>\n",
       "      <td>NaN</td>\n",
       "      <td>NaN</td>\n",
       "      <td>1708,4</td>\n",
       "      <td>the student wrote the weight in kg only one di...</td>\n",
       "      <td>1800, +70 -30</td>\n",
       "      <td>NaN</td>\n",
       "      <td>1820,4</td>\n",
       "      <td>1913</td>\n",
       "    </tr>\n",
       "  </tbody>\n",
       "</table>\n",
       "<p>3 rows × 47 columns</p>\n",
       "</div>"
      ],
      "text/plain": [
       "              Timestamp TagSerialNumber TagID                    Zone  \\\n",
       "0   2020-09-29 09:07:00        02001E13   162        Tier 2 (mini 12)   \n",
       "120 2020-09-29 09:08:12        02001E6A   140        Tier 2 (mini 11)   \n",
       "1   2020-09-29 09:08:26        02001E13   162  Tier 2 + untere Stange   \n",
       "\n",
       "     systemgantnerid  useless_zone  signalstrength  zone2  signalstzone2  \\\n",
       "0                  2             8              10      2              8   \n",
       "120                2             7              10      2              8   \n",
       "1                  2             2              11      8             10   \n",
       "\n",
       "     zone3  ...  backpackUniqueID  EPI GENETIC TIMESTAMP  HA 23-11-2020  \\\n",
       "0        1  ...              12wp         10-date:4-2021            NaN   \n",
       "120      1  ...              11wp                    NaN            NaN   \n",
       "1        3  ...              12wp         10-date:4-2021            NaN   \n",
       "\n",
       "    comportement weight 23-11-2020  \\\n",
       "0            NaN            1708,4   \n",
       "120          NaN            1788,9   \n",
       "1            NaN            1708,4   \n",
       "\n",
       "                                         HA 04-01-2021  weight 04-01-2021  \\\n",
       "0    the student wrote the weight in kg only one di...      1800, +70 -30   \n",
       "120                                                NaN             1905,1   \n",
       "1    the student wrote the weight in kg only one di...      1800, +70 -30   \n",
       "\n",
       "    HA 01-02-21 weight 01-02-21  weight 12-04-21  \n",
       "0           NaN          1820,4             1913  \n",
       "120         NaN          1905,6           2046,7  \n",
       "1           NaN          1820,4             1913  \n",
       "\n",
       "[3 rows x 47 columns]"
      ]
     },
     "metadata": {},
     "output_type": "display_data"
    },
    {
     "data": {
      "text/html": [
       "<div>\n",
       "<style scoped>\n",
       "    .dataframe tbody tr th:only-of-type {\n",
       "        vertical-align: middle;\n",
       "    }\n",
       "\n",
       "    .dataframe tbody tr th {\n",
       "        vertical-align: top;\n",
       "    }\n",
       "\n",
       "    .dataframe thead th {\n",
       "        text-align: right;\n",
       "    }\n",
       "</style>\n",
       "<table border=\"1\" class=\"dataframe\">\n",
       "  <thead>\n",
       "    <tr style=\"text-align: right;\">\n",
       "      <th></th>\n",
       "      <th>Timestamp</th>\n",
       "      <th>TagSerialNumber</th>\n",
       "      <th>TagID</th>\n",
       "      <th>Zone</th>\n",
       "      <th>systemgantnerid</th>\n",
       "      <th>useless_zone</th>\n",
       "      <th>signalstrength</th>\n",
       "      <th>zone2</th>\n",
       "      <th>signalstzone2</th>\n",
       "      <th>zone3</th>\n",
       "      <th>...</th>\n",
       "      <th>backpackUniqueID</th>\n",
       "      <th>EPI GENETIC TIMESTAMP</th>\n",
       "      <th>HA 23-11-2020</th>\n",
       "      <th>comportement</th>\n",
       "      <th>weight 23-11-2020</th>\n",
       "      <th>HA 04-01-2021</th>\n",
       "      <th>weight 04-01-2021</th>\n",
       "      <th>HA 01-02-21</th>\n",
       "      <th>weight 01-02-21</th>\n",
       "      <th>weight 12-04-21</th>\n",
       "    </tr>\n",
       "  </thead>\n",
       "  <tbody>\n",
       "    <tr>\n",
       "      <th>5050784</th>\n",
       "      <td>2021-06-14 18:58:18</td>\n",
       "      <td>020015BC</td>\n",
       "      <td>16</td>\n",
       "      <td>Tier 3 Rampe + Nestbox</td>\n",
       "      <td>1</td>\n",
       "      <td>3</td>\n",
       "      <td>4</td>\n",
       "      <td>4</td>\n",
       "      <td>2</td>\n",
       "      <td>6</td>\n",
       "      <td>...</td>\n",
       "      <td>3gp</td>\n",
       "      <td>11-date:7-2021</td>\n",
       "      <td>NaN</td>\n",
       "      <td>NaN</td>\n",
       "      <td>1647</td>\n",
       "      <td>NaN</td>\n",
       "      <td>1651,4</td>\n",
       "      <td>NaN</td>\n",
       "      <td>1711,7</td>\n",
       "      <td>1804,4</td>\n",
       "    </tr>\n",
       "    <tr>\n",
       "      <th>5050785</th>\n",
       "      <td>2021-06-14 18:58:20</td>\n",
       "      <td>020015BC</td>\n",
       "      <td>16</td>\n",
       "      <td>Tier 2 + untere Stange</td>\n",
       "      <td>1</td>\n",
       "      <td>2</td>\n",
       "      <td>8</td>\n",
       "      <td>3</td>\n",
       "      <td>4</td>\n",
       "      <td>6</td>\n",
       "      <td>...</td>\n",
       "      <td>3gp</td>\n",
       "      <td>11-date:7-2021</td>\n",
       "      <td>NaN</td>\n",
       "      <td>NaN</td>\n",
       "      <td>1647</td>\n",
       "      <td>NaN</td>\n",
       "      <td>1651,4</td>\n",
       "      <td>NaN</td>\n",
       "      <td>1711,7</td>\n",
       "      <td>1804,4</td>\n",
       "    </tr>\n",
       "    <tr>\n",
       "      <th>5052772</th>\n",
       "      <td>2021-06-14 18:58:34</td>\n",
       "      <td>02001563</td>\n",
       "      <td>63</td>\n",
       "      <td>Tier 4 + obere Stange</td>\n",
       "      <td>1</td>\n",
       "      <td>4</td>\n",
       "      <td>11</td>\n",
       "      <td>2</td>\n",
       "      <td>8</td>\n",
       "      <td>3</td>\n",
       "      <td>...</td>\n",
       "      <td>5wg</td>\n",
       "      <td>NaN</td>\n",
       "      <td>NaN</td>\n",
       "      <td>NaN</td>\n",
       "      <td>1721,1</td>\n",
       "      <td>NaN</td>\n",
       "      <td>1885,5</td>\n",
       "      <td>NaN</td>\n",
       "      <td>1919,9</td>\n",
       "      <td>1937,9</td>\n",
       "    </tr>\n",
       "  </tbody>\n",
       "</table>\n",
       "<p>3 rows × 47 columns</p>\n",
       "</div>"
      ],
      "text/plain": [
       "                  Timestamp TagSerialNumber TagID                    Zone  \\\n",
       "5050784 2021-06-14 18:58:18        020015BC    16  Tier 3 Rampe + Nestbox   \n",
       "5050785 2021-06-14 18:58:20        020015BC    16  Tier 2 + untere Stange   \n",
       "5052772 2021-06-14 18:58:34        02001563    63   Tier 4 + obere Stange   \n",
       "\n",
       "         systemgantnerid  useless_zone  signalstrength  zone2  signalstzone2  \\\n",
       "5050784                1             3               4      4              2   \n",
       "5050785                1             2               8      3              4   \n",
       "5052772                1             4              11      2              8   \n",
       "\n",
       "         zone3  ...  backpackUniqueID  EPI GENETIC TIMESTAMP  HA 23-11-2020  \\\n",
       "5050784      6  ...               3gp         11-date:7-2021            NaN   \n",
       "5050785      6  ...               3gp         11-date:7-2021            NaN   \n",
       "5052772      3  ...               5wg                    NaN            NaN   \n",
       "\n",
       "        comportement weight 23-11-2020 HA 04-01-2021  weight 04-01-2021  \\\n",
       "5050784          NaN              1647           NaN             1651,4   \n",
       "5050785          NaN              1647           NaN             1651,4   \n",
       "5052772          NaN            1721,1           NaN             1885,5   \n",
       "\n",
       "        HA 01-02-21 weight 01-02-21  weight 12-04-21  \n",
       "5050784         NaN          1711,7           1804,4  \n",
       "5050785         NaN          1711,7           1804,4  \n",
       "5052772         NaN          1919,9           1937,9  \n",
       "\n",
       "[3 rows x 47 columns]"
      ]
     },
     "metadata": {},
     "output_type": "display_data"
    }
   ],
   "source": [
    "p = glob.glob(os.path.join(path_initial_data, 'Barn 4 Pen*\\TagUpdates\\log*'))\n",
    "#mtime = os.stat(os.path.join('.', p[0])).st_mtime\n",
    "#download_time = dt.datetime.fromtimestamp(mtime).strftime('%Y-%m-%d-%H:%M')\n",
    "#download_time = dt.datetime.strptime(download_time, '%Y-%m-%d-%H:%M')\n",
    "#print('The file were downloaded at: ', download_time)\n",
    "    \n",
    "#print('There is %d log files:\\n  %s'%(len(p),'  \\n  '.join(p)))\n",
    "df = preprocessing_Origins(p, config, save=False, dodevice=False)\n",
    "print(df.shape)\n",
    "display(df.head(3))\n",
    "display(df.tail(3))"
   ]
  },
  {
   "cell_type": "code",
   "execution_count": 7,
   "metadata": {},
   "outputs": [
    {
     "name": "stdout",
     "output_type": "stream",
     "text": [
      "From the focalBirdinfo, you have 158 ative tags\n"
     ]
    },
    {
     "name": "stderr",
     "output_type": "stream",
     "text": [
      "C:\\Users\\camil\\anaconda3\\lib\\site-packages\\ipykernel\\ipkernel.py:283: DeprecationWarning: `should_run_async` will not call `transform_cell` automatically in the future. Please pass the result to `transformed_cell` argument and any exception that happen during thetransform in `preprocessing_exc_tuple` in IPython 7.17 and above.\n",
      "  and should_run_async(code)\n"
     ]
    }
   ],
   "source": [
    "df_FB = pd.read_csv(path_FocalBird, sep=';', parse_dates=['StartDate','EndDate'], dayfirst=True, encoding='latin') #verified dates:correct\n",
    "#fill end date to today+1 for the birds which we dont know when is there end date (+1: so that today is taken into account)\n",
    "df_FB['EndDate'].fillna(config.date_max+dt.timedelta(days=1), inplace=True)\n",
    "df_FB['TagID'] = df_FB['TagID'].astype(str)\n",
    "df_FB['PenID'] = df_FB['PenID'].map(int).map(str)\n",
    "#exclude rows were tags were not functionning correctly for some reason \n",
    "df_FB = df_FB[df_FB['ShouldBeExcluded']!='yes']\n",
    "#define a list with the active tags of today/last date\n",
    "li_active_tags = list(df_FB[df_FB['EndDate']>=config.date_max]['TagID'].unique())\n",
    "#Counter(li_active_tags)\n",
    "print('From the focalBirdinfo, you have %d ative tags'%len(li_active_tags))"
   ]
  },
  {
   "cell_type": "markdown",
   "metadata": {},
   "source": [
    "### active tags"
   ]
  },
  {
   "cell_type": "code",
   "execution_count": 8,
   "metadata": {},
   "outputs": [
    {
     "name": "stdout",
     "output_type": "stream",
     "text": [
      "(269, 29)\n",
      "(254, 29)\n"
     ]
    },
    {
     "name": "stderr",
     "output_type": "stream",
     "text": [
      "C:\\Users\\camil\\anaconda3\\lib\\site-packages\\ipykernel\\ipkernel.py:283: DeprecationWarning: `should_run_async` will not call `transform_cell` automatically in the future. Please pass the result to `transformed_cell` argument and any exception that happen during thetransform in `preprocessing_exc_tuple` in IPython 7.17 and above.\n",
      "  and should_run_async(code)\n"
     ]
    },
    {
     "data": {
      "text/html": [
       "<div>\n",
       "<style scoped>\n",
       "    .dataframe tbody tr th:only-of-type {\n",
       "        vertical-align: middle;\n",
       "    }\n",
       "\n",
       "    .dataframe tbody tr th {\n",
       "        vertical-align: top;\n",
       "    }\n",
       "\n",
       "    .dataframe thead th {\n",
       "        text-align: right;\n",
       "    }\n",
       "</style>\n",
       "<table border=\"1\" class=\"dataframe\">\n",
       "  <thead>\n",
       "    <tr style=\"text-align: right;\">\n",
       "      <th></th>\n",
       "      <th>HenID</th>\n",
       "      <th>R-Pen</th>\n",
       "      <th>InitialStartDate</th>\n",
       "      <th>ShouldBeExcluded</th>\n",
       "      <th>StartDate</th>\n",
       "      <th>EndDate</th>\n",
       "      <th>FocalLegringID</th>\n",
       "      <th>Expected % of wrong class</th>\n",
       "      <th>Expected chance of wrong treatment</th>\n",
       "      <th>comments</th>\n",
       "      <th>...</th>\n",
       "      <th>TagID</th>\n",
       "      <th>EPI GENETIC TIMESTAMP</th>\n",
       "      <th>HA 23-11-2020</th>\n",
       "      <th>comportement</th>\n",
       "      <th>weight 23-11-2020</th>\n",
       "      <th>HA 04-01-2021</th>\n",
       "      <th>weight 04-01-2021</th>\n",
       "      <th>HA 01-02-21</th>\n",
       "      <th>weight 01-02-21</th>\n",
       "      <th>weight 12-04-21</th>\n",
       "    </tr>\n",
       "  </thead>\n",
       "  <tbody>\n",
       "    <tr>\n",
       "      <th>0</th>\n",
       "      <td>1</td>\n",
       "      <td>1.0</td>\n",
       "      <td>10.06.2020</td>\n",
       "      <td>NaN</td>\n",
       "      <td>2020-09-28</td>\n",
       "      <td>2021-02-01 00:00:00</td>\n",
       "      <td>3</td>\n",
       "      <td>NaN</td>\n",
       "      <td>0</td>\n",
       "      <td>NaN</td>\n",
       "      <td>...</td>\n",
       "      <td>105</td>\n",
       "      <td>9-date:2-2020</td>\n",
       "      <td>NaN</td>\n",
       "      <td>NaN</td>\n",
       "      <td>1696,5</td>\n",
       "      <td>NaN</td>\n",
       "      <td>1787,8</td>\n",
       "      <td>NaN</td>\n",
       "      <td>1800,9</td>\n",
       "      <td>NaN</td>\n",
       "    </tr>\n",
       "    <tr>\n",
       "      <th>1</th>\n",
       "      <td>2</td>\n",
       "      <td>1.0</td>\n",
       "      <td>10.06.2020</td>\n",
       "      <td>NaN</td>\n",
       "      <td>2020-09-28</td>\n",
       "      <td>2021-06-14</td>\n",
       "      <td>7</td>\n",
       "      <td>NaN</td>\n",
       "      <td>0</td>\n",
       "      <td>NaN</td>\n",
       "      <td>...</td>\n",
       "      <td>18</td>\n",
       "      <td>NaN</td>\n",
       "      <td>NaN</td>\n",
       "      <td>NaN</td>\n",
       "      <td>1734,9</td>\n",
       "      <td>NaN</td>\n",
       "      <td>1691,7</td>\n",
       "      <td>NaN</td>\n",
       "      <td>1777,8</td>\n",
       "      <td>1782,2</td>\n",
       "    </tr>\n",
       "    <tr>\n",
       "      <th>2</th>\n",
       "      <td>3</td>\n",
       "      <td>1.0</td>\n",
       "      <td>10.06.2020</td>\n",
       "      <td>NaN</td>\n",
       "      <td>2020-09-28</td>\n",
       "      <td>2021-06-14</td>\n",
       "      <td>8</td>\n",
       "      <td>NaN</td>\n",
       "      <td>0</td>\n",
       "      <td>NaN</td>\n",
       "      <td>...</td>\n",
       "      <td>114</td>\n",
       "      <td>NaN</td>\n",
       "      <td>NaN</td>\n",
       "      <td>NaN</td>\n",
       "      <td>1499,4</td>\n",
       "      <td>NaN</td>\n",
       "      <td>1714,7</td>\n",
       "      <td>NaN</td>\n",
       "      <td>1838,3</td>\n",
       "      <td>1887,4</td>\n",
       "    </tr>\n",
       "  </tbody>\n",
       "</table>\n",
       "<p>3 rows × 29 columns</p>\n",
       "</div>"
      ],
      "text/plain": [
       "   HenID  R-Pen InitialStartDate ShouldBeExcluded  StartDate  \\\n",
       "0      1    1.0       10.06.2020              NaN 2020-09-28   \n",
       "1      2    1.0       10.06.2020              NaN 2020-09-28   \n",
       "2      3    1.0       10.06.2020              NaN 2020-09-28   \n",
       "\n",
       "               EndDate  FocalLegringID Expected % of wrong class  \\\n",
       "0  2021-02-01 00:00:00               3                       NaN   \n",
       "1           2021-06-14               7                       NaN   \n",
       "2           2021-06-14               8                       NaN   \n",
       "\n",
       "  Expected chance of wrong treatment comments  ... TagID  \\\n",
       "0                                  0      NaN  ...   105   \n",
       "1                                  0      NaN  ...    18   \n",
       "2                                  0      NaN  ...   114   \n",
       "\n",
       "  EPI GENETIC TIMESTAMP HA 23-11-2020 comportement  weight 23-11-2020  \\\n",
       "0         9-date:2-2020           NaN          NaN             1696,5   \n",
       "1                   NaN           NaN          NaN             1734,9   \n",
       "2                   NaN           NaN          NaN             1499,4   \n",
       "\n",
       "  HA 04-01-2021  weight 04-01-2021 HA 01-02-21 weight 01-02-21 weight 12-04-21  \n",
       "0           NaN             1787,8         NaN          1800,9             NaN  \n",
       "1           NaN             1691,7         NaN          1777,8          1782,2  \n",
       "2           NaN             1714,7         NaN          1838,3          1887,4  \n",
       "\n",
       "[3 rows x 29 columns]"
      ]
     },
     "execution_count": 8,
     "metadata": {},
     "output_type": "execute_result"
    }
   ],
   "source": [
    "df_tag = pd.read_csv(path_FocalBird, sep=';', parse_dates=['StartDate','EndDate'], dayfirst=True, encoding='latin')\n",
    "df_tag['EndDate'].fillna(dt.date.today(), inplace=True)\n",
    "print(df_tag.shape)\n",
    "df_tag = df_tag[df_tag['ShouldBeExcluded']!='yes']\n",
    "df_tag['TagID'] = df_tag['TagID'].astype(str)\n",
    "print(df_tag.shape)\n",
    "df_tag.head(3)"
   ]
  },
  {
   "cell_type": "code",
   "execution_count": 9,
   "metadata": {},
   "outputs": [
    {
     "name": "stdout",
     "output_type": "stream",
     "text": [
      "From your focalbird document you should have 158 ative tags\n"
     ]
    },
    {
     "name": "stderr",
     "output_type": "stream",
     "text": [
      "C:\\Users\\camil\\anaconda3\\lib\\site-packages\\ipykernel\\ipkernel.py:283: DeprecationWarning: `should_run_async` will not call `transform_cell` automatically in the future. Please pass the result to `transformed_cell` argument and any exception that happen during thetransform in `preprocessing_exc_tuple` in IPython 7.17 and above.\n",
      "  and should_run_async(code)\n"
     ]
    }
   ],
   "source": [
    "li_active_tags = list(set(df_tag[df_tag['EndDate']>=dt.date.today()]['TagID'].unique()))\n",
    "#Counter(li_active_tags)\n",
    "print('From your focalbird document you should have %d ative tags'%len(li_active_tags))"
   ]
  },
  {
   "cell_type": "markdown",
   "metadata": {},
   "source": [
    "### device"
   ]
  },
  {
   "cell_type": "code",
   "execution_count": 10,
   "metadata": {
    "scrolled": true
   },
   "outputs": [
    {
     "name": "stderr",
     "output_type": "stream",
     "text": [
      "C:\\Users\\camil\\anaconda3\\lib\\site-packages\\ipykernel\\ipkernel.py:283: DeprecationWarning: `should_run_async` will not call `transform_cell` automatically in the future. Please pass the result to `transformed_cell` argument and any exception that happen during thetransform in `preprocessing_exc_tuple` in IPython 7.17 and above.\n",
      "  and should_run_async(code)\n",
      "<>:4: DeprecationWarning: invalid escape sequence \\D\n",
      "<>:4: DeprecationWarning: invalid escape sequence \\D\n",
      "<ipython-input-10-f27d1d550a49>:4: DeprecationWarning: invalid escape sequence \\D\n",
      "  for path_system in glob.glob(os.path.join(path_initial_data, 'Barn 4 Pen*\\DeviceUpdates')):\n",
      " 11%|█████████▎                                                                          | 1/9 [00:25<03:24, 25.57s/it]"
     ]
    },
    {
     "name": "stdout",
     "output_type": "stream",
     "text": [
      "(214830, 19)\n",
      "----------------- G:\\VPHI\\Welfare\\2- Research Projects\\OFHE2.OriginsE2\\GantnerSystem\\_dailycheckingSystem\\Barn 4 Pen 10 - 12\\DeviceUpdates\\log_00000018.csv\n"
     ]
    },
    {
     "name": "stderr",
     "output_type": "stream",
     "text": [
      "\r",
      " 22%|██████████████████▋                                                                 | 2/9 [00:27<02:08, 18.34s/it]"
     ]
    },
    {
     "name": "stdout",
     "output_type": "stream",
     "text": [
      "(9170, 19)\n",
      "----------------- G:\\VPHI\\Welfare\\2- Research Projects\\OFHE2.OriginsE2\\GantnerSystem\\_dailycheckingSystem\\Barn 4 Pen 10 - 12\\DeviceUpdates\\log_00000020.csv\n"
     ]
    },
    {
     "name": "stderr",
     "output_type": "stream",
     "text": [
      "\r",
      " 33%|████████████████████████████                                                        | 3/9 [00:45<01:49, 18.24s/it]"
     ]
    },
    {
     "name": "stdout",
     "output_type": "stream",
     "text": [
      "(214900, 19)\n",
      "----------------- G:\\VPHI\\Welfare\\2- Research Projects\\OFHE2.OriginsE2\\GantnerSystem\\_dailycheckingSystem\\Barn 4 Pen 10 - 12\\DeviceUpdates\\log_00000019.csv\n"
     ]
    },
    {
     "name": "stderr",
     "output_type": "stream",
     "text": [
      "\r",
      " 44%|█████████████████████████████████████▎                                              | 4/9 [01:11<01:43, 20.71s/it]"
     ]
    },
    {
     "name": "stdout",
     "output_type": "stream",
     "text": [
      "(215970, 19)\n",
      "----------------- G:\\VPHI\\Welfare\\2- Research Projects\\OFHE2.OriginsE2\\GantnerSystem\\_dailycheckingSystem\\Barn 4 Pen 3 - 5\\DeviceUpdates\\log_00000018.csv\n"
     ]
    },
    {
     "name": "stderr",
     "output_type": "stream",
     "text": [
      "\r",
      " 56%|██████████████████████████████████████████████▋                                     | 5/9 [01:36<01:27, 21.86s/it]"
     ]
    },
    {
     "name": "stdout",
     "output_type": "stream",
     "text": [
      "(215821, 19)\n",
      "----------------- G:\\VPHI\\Welfare\\2- Research Projects\\OFHE2.OriginsE2\\GantnerSystem\\_dailycheckingSystem\\Barn 4 Pen 3 - 5\\DeviceUpdates\\log_00000019.csv\n"
     ]
    },
    {
     "name": "stderr",
     "output_type": "stream",
     "text": [
      "\r",
      " 67%|████████████████████████████████████████████████████████                            | 6/9 [01:44<00:53, 17.93s/it]"
     ]
    },
    {
     "name": "stdout",
     "output_type": "stream",
     "text": [
      "(77316, 19)\n",
      "----------------- G:\\VPHI\\Welfare\\2- Research Projects\\OFHE2.OriginsE2\\GantnerSystem\\_dailycheckingSystem\\Barn 4 Pen 3 - 5\\DeviceUpdates\\log_00000020.csv\n"
     ]
    },
    {
     "name": "stderr",
     "output_type": "stream",
     "text": [
      "\r",
      " 78%|█████████████████████████████████████████████████████████████████▎                  | 7/9 [02:11<00:41, 20.51s/it]"
     ]
    },
    {
     "name": "stdout",
     "output_type": "stream",
     "text": [
      "(219612, 19)\n",
      "----------------- G:\\VPHI\\Welfare\\2- Research Projects\\OFHE2.OriginsE2\\GantnerSystem\\_dailycheckingSystem\\Barn 4 Pen 8 - 9\\DeviceUpdates\\log_00000012.csv\n"
     ]
    },
    {
     "name": "stderr",
     "output_type": "stream",
     "text": [
      "\r",
      " 89%|██████████████████████████████████████████████████████████████████████████▋         | 8/9 [02:38<00:22, 22.52s/it]"
     ]
    },
    {
     "name": "stdout",
     "output_type": "stream",
     "text": [
      "(217392, 19)\n",
      "----------------- G:\\VPHI\\Welfare\\2- Research Projects\\OFHE2.OriginsE2\\GantnerSystem\\_dailycheckingSystem\\Barn 4 Pen 8 - 9\\DeviceUpdates\\log_00000013.csv\n"
     ]
    },
    {
     "name": "stderr",
     "output_type": "stream",
     "text": [
      "100%|████████████████████████████████████████████████████████████████████████████████████| 9/9 [02:51<00:00, 19.05s/it]"
     ]
    },
    {
     "name": "stdout",
     "output_type": "stream",
     "text": [
      "(104016, 19)\n",
      "----------------- G:\\VPHI\\Welfare\\2- Research Projects\\OFHE2.OriginsE2\\GantnerSystem\\_dailycheckingSystem\\Barn 4 Pen 8 - 9\\DeviceUpdates\\log_00000014.csv\n"
     ]
    },
    {
     "name": "stderr",
     "output_type": "stream",
     "text": [
      "\n"
     ]
    },
    {
     "name": "stdout",
     "output_type": "stream",
     "text": [
      "(1489027, 20)\n",
      "['log_00000018' 'log_00000020' 'log_00000019' 'log_00000012'\n",
      " 'log_00000013' 'log_00000014']\n",
      "(1445120, 20)\n"
     ]
    },
    {
     "data": {
      "text/html": [
       "<div>\n",
       "<style scoped>\n",
       "    .dataframe tbody tr th:only-of-type {\n",
       "        vertical-align: middle;\n",
       "    }\n",
       "\n",
       "    .dataframe tbody tr th {\n",
       "        vertical-align: top;\n",
       "    }\n",
       "\n",
       "    .dataframe thead th {\n",
       "        text-align: right;\n",
       "    }\n",
       "</style>\n",
       "<table border=\"1\" class=\"dataframe\">\n",
       "  <thead>\n",
       "    <tr style=\"text-align: right;\">\n",
       "      <th></th>\n",
       "      <th>Timestamp</th>\n",
       "      <th>sort</th>\n",
       "      <th>code</th>\n",
       "      <th>sender</th>\n",
       "      <th>Temperature</th>\n",
       "      <th>Battery Voltage</th>\n",
       "      <th>MovementCounter</th>\n",
       "      <th>LastLFSeen</th>\n",
       "      <th>LFCounter</th>\n",
       "      <th>LFRSSISum</th>\n",
       "      <th>Zone</th>\n",
       "      <th>Subzone</th>\n",
       "      <th>Time</th>\n",
       "      <th>LastInfo</th>\n",
       "      <th>LastLocation</th>\n",
       "      <th>LastAction</th>\n",
       "      <th>data_path</th>\n",
       "      <th>system</th>\n",
       "      <th>logID</th>\n",
       "      <th>NeedsBatteries</th>\n",
       "    </tr>\n",
       "  </thead>\n",
       "  <tbody>\n",
       "    <tr>\n",
       "      <th>104013</th>\n",
       "      <td>2021-06-14 19:07:54</td>\n",
       "      <td>Tag</td>\n",
       "      <td>02002428</td>\n",
       "      <td>195</td>\n",
       "      <td>33.0</td>\n",
       "      <td>3015.0</td>\n",
       "      <td>31.0</td>\n",
       "      <td>0.0</td>\n",
       "      <td>549.0</td>\n",
       "      <td>7223.0</td>\n",
       "      <td>3.0</td>\n",
       "      <td>4.0</td>\n",
       "      <td>255.0</td>\n",
       "      <td>14.06.2021 19:05:00</td>\n",
       "      <td>14.06.2021 16:21:04</td>\n",
       "      <td>2021-06-14 19:07:02</td>\n",
       "      <td>G:\\VPHI\\Welfare\\2- Research Projects\\OFHE2.Ori...</td>\n",
       "      <td>pens:8 - 9</td>\n",
       "      <td>log_00000014</td>\n",
       "      <td>True</td>\n",
       "    </tr>\n",
       "    <tr>\n",
       "      <th>104014</th>\n",
       "      <td>2021-06-14 19:07:54</td>\n",
       "      <td>Tag</td>\n",
       "      <td>02002332</td>\n",
       "      <td>196</td>\n",
       "      <td>34.0</td>\n",
       "      <td>2985.0</td>\n",
       "      <td>0.0</td>\n",
       "      <td>0.0</td>\n",
       "      <td>830.0</td>\n",
       "      <td>11201.0</td>\n",
       "      <td>3.0</td>\n",
       "      <td>4.0</td>\n",
       "      <td>255.0</td>\n",
       "      <td>14.06.2021 19:03:19</td>\n",
       "      <td>14.06.2021 15:54:56</td>\n",
       "      <td>2021-06-14 19:07:23</td>\n",
       "      <td>G:\\VPHI\\Welfare\\2- Research Projects\\OFHE2.Ori...</td>\n",
       "      <td>pens:8 - 9</td>\n",
       "      <td>log_00000014</td>\n",
       "      <td>True</td>\n",
       "    </tr>\n",
       "    <tr>\n",
       "      <th>104015</th>\n",
       "      <td>2021-06-14 19:07:54</td>\n",
       "      <td>Tag</td>\n",
       "      <td>02002333</td>\n",
       "      <td>197</td>\n",
       "      <td>34.0</td>\n",
       "      <td>3013.0</td>\n",
       "      <td>8.0</td>\n",
       "      <td>1.0</td>\n",
       "      <td>583.0</td>\n",
       "      <td>6213.0</td>\n",
       "      <td>3.0</td>\n",
       "      <td>4.0</td>\n",
       "      <td>255.0</td>\n",
       "      <td>14.06.2021 19:04:52</td>\n",
       "      <td>14.06.2021 15:51:27</td>\n",
       "      <td>2021-06-14 19:06:54</td>\n",
       "      <td>G:\\VPHI\\Welfare\\2- Research Projects\\OFHE2.Ori...</td>\n",
       "      <td>pens:8 - 9</td>\n",
       "      <td>log_00000014</td>\n",
       "      <td>True</td>\n",
       "    </tr>\n",
       "  </tbody>\n",
       "</table>\n",
       "</div>"
      ],
      "text/plain": [
       "                 Timestamp sort      code sender  Temperature  \\\n",
       "104013 2021-06-14 19:07:54  Tag  02002428    195         33.0   \n",
       "104014 2021-06-14 19:07:54  Tag  02002332    196         34.0   \n",
       "104015 2021-06-14 19:07:54  Tag  02002333    197         34.0   \n",
       "\n",
       "        Battery Voltage  MovementCounter  LastLFSeen  LFCounter  LFRSSISum  \\\n",
       "104013           3015.0             31.0         0.0      549.0     7223.0   \n",
       "104014           2985.0              0.0         0.0      830.0    11201.0   \n",
       "104015           3013.0              8.0         1.0      583.0     6213.0   \n",
       "\n",
       "        Zone  Subzone   Time             LastInfo         LastLocation  \\\n",
       "104013   3.0      4.0  255.0  14.06.2021 19:05:00  14.06.2021 16:21:04   \n",
       "104014   3.0      4.0  255.0  14.06.2021 19:03:19  14.06.2021 15:54:56   \n",
       "104015   3.0      4.0  255.0  14.06.2021 19:04:52  14.06.2021 15:51:27   \n",
       "\n",
       "                LastAction                                          data_path  \\\n",
       "104013 2021-06-14 19:07:02  G:\\VPHI\\Welfare\\2- Research Projects\\OFHE2.Ori...   \n",
       "104014 2021-06-14 19:07:23  G:\\VPHI\\Welfare\\2- Research Projects\\OFHE2.Ori...   \n",
       "104015 2021-06-14 19:06:54  G:\\VPHI\\Welfare\\2- Research Projects\\OFHE2.Ori...   \n",
       "\n",
       "            system         logID  NeedsBatteries  \n",
       "104013  pens:8 - 9  log_00000014            True  \n",
       "104014  pens:8 - 9  log_00000014            True  \n",
       "104015  pens:8 - 9  log_00000014            True  "
      ]
     },
     "execution_count": 10,
     "metadata": {},
     "output_type": "execute_result"
    }
   ],
   "source": [
    "#select last x logs\n",
    "last_x_logs = math.ceil(over_last_Xdays/2) #arondi en haut\n",
    "li_logs = []\n",
    "for path_system in glob.glob(os.path.join(path_initial_data, 'Barn 4 Pen*\\DeviceUpdates')):\n",
    "    li_ = glob.glob(os.path.join(path_system, 'log*'))\n",
    "    li_.sort(key=lambda x: os.path.getmtime(x), reverse=False)\n",
    "    li_logs.extend(li_[-last_x_logs:]) \n",
    "#next version\n",
    "#li_newFirmwarecol = ['Timestamp','sort','code','sender','Temperature','Battery Voltage','MovementCounter','LastLFSeen',\n",
    "#                     'LFCounter','LFRSSISum','Zone', 'Subzone','LFRSSI','Time','LastInfo','LastLocation','LastAction']\n",
    "li_newFirmwarecol = ['Timestamp','sort','code','sender','Temperature','Battery Voltage','MovementCounter','LastLFSeen',\n",
    "                     'LFCounter','LFRSSISum','Zone', 'Subzone','Time','LastInfo','LastLocation','LastAction']\n",
    "#lastReg = LastAction\n",
    "li_df = []\n",
    "for path_log in tqdm.tqdm(li_logs):\n",
    "    #confused month and day\n",
    "    df_device = pd.read_csv(os.path.join(path_log), sep=';', names=li_newFirmwarecol, parse_dates=['LastAction','Timestamp'],\n",
    "                           dayfirst=True)\n",
    "    df_device['data_path'] = path_log\n",
    "    df_device['system'] = 'pens:'+path_log.split('Barn 4 Pen ')[1].split('\\\\')[0]\n",
    "    df_device['logID'] = path_log.split('\\\\')[-1].split('.')[0]\n",
    "    print(df_device.shape)\n",
    "    print('-----------------', path_log)\n",
    "    #display(df_device.head(3))\n",
    "    #display(df_device.tail(3))\n",
    "    li_df.append(df_device)\n",
    "df_device = pd.concat(li_df)\n",
    "df_device = df_device[df_device['Timestamp']>=dt.datetime(2020,9,29)]\n",
    "df['date'] = df['Timestamp'].map(lambda x: dt.datetime.date(x))\n",
    "df_device['sender'].fillna(' ', inplace=True)\n",
    "#add the info on if the device needs batterie or not\n",
    "df_device['NeedsBatteries'] = df_device.apply(lambda x: ('mini' in x['sender']) | (x['sender']=='Wintergarten') | \\\n",
    "                                              (x['sort']=='Tag'), axis=1)\n",
    "#remove old tags\n",
    "print(df_device.shape)\n",
    "df_device = df_device[~((df_device['sort']=='Tag')&(~df_device['sender'].isin(li_active_tags)))]\n",
    "print(df_device['logID'].unique())\n",
    "print(df_device.shape)\n",
    "df_device.tail(3)"
   ]
  },
  {
   "cell_type": "code",
   "execution_count": 11,
   "metadata": {},
   "outputs": [
    {
     "name": "stderr",
     "output_type": "stream",
     "text": [
      "C:\\Users\\camil\\anaconda3\\lib\\site-packages\\ipykernel\\ipkernel.py:283: DeprecationWarning: `should_run_async` will not call `transform_cell` automatically in the future. Please pass the result to `transformed_cell` argument and any exception that happen during thetransform in `preprocessing_exc_tuple` in IPython 7.17 and above.\n",
      "  and should_run_async(code)\n"
     ]
    }
   ],
   "source": [
    "#df_device.groupby(['system','logID'])['NeedsBatteries'].count().reset_index()"
   ]
  },
  {
   "cell_type": "code",
   "execution_count": 12,
   "metadata": {},
   "outputs": [
    {
     "name": "stderr",
     "output_type": "stream",
     "text": [
      "C:\\Users\\camil\\anaconda3\\lib\\site-packages\\ipykernel\\ipkernel.py:283: DeprecationWarning: `should_run_async` will not call `transform_cell` automatically in the future. Please pass the result to `transformed_cell` argument and any exception that happen during thetransform in `preprocessing_exc_tuple` in IPython 7.17 and above.\n",
      "  and should_run_async(code)\n"
     ]
    }
   ],
   "source": [
    "#df_device[df_device['logID']=='log_00000010']"
   ]
  },
  {
   "cell_type": "code",
   "execution_count": 13,
   "metadata": {},
   "outputs": [
    {
     "name": "stderr",
     "output_type": "stream",
     "text": [
      "C:\\Users\\camil\\anaconda3\\lib\\site-packages\\ipykernel\\ipkernel.py:283: DeprecationWarning: `should_run_async` will not call `transform_cell` automatically in the future. Please pass the result to `transformed_cell` argument and any exception that happen during thetransform in `preprocessing_exc_tuple` in IPython 7.17 and above.\n",
      "  and should_run_async(code)\n"
     ]
    }
   ],
   "source": [
    "#an error might be cause if the alst row was not complet when the file was downloaded"
   ]
  },
  {
   "cell_type": "code",
   "execution_count": 14,
   "metadata": {},
   "outputs": [
    {
     "name": "stderr",
     "output_type": "stream",
     "text": [
      "C:\\Users\\camil\\anaconda3\\lib\\site-packages\\ipykernel\\ipkernel.py:283: DeprecationWarning: `should_run_async` will not call `transform_cell` automatically in the future. Please pass the result to `transformed_cell` argument and any exception that happen during thetransform in `preprocessing_exc_tuple` in IPython 7.17 and above.\n",
      "  and should_run_async(code)\n"
     ]
    }
   ],
   "source": [
    "#df_device[df_device['sort']=='Marker'][['code','sender','system']].drop_duplicates() #all actives at least once"
   ]
  },
  {
   "cell_type": "code",
   "execution_count": 15,
   "metadata": {},
   "outputs": [
    {
     "name": "stderr",
     "output_type": "stream",
     "text": [
      "C:\\Users\\camil\\anaconda3\\lib\\site-packages\\ipykernel\\ipkernel.py:283: DeprecationWarning: `should_run_async` will not call `transform_cell` automatically in the future. Please pass the result to `transformed_cell` argument and any exception that happen during thetransform in `preprocessing_exc_tuple` in IPython 7.17 and above.\n",
      "  and should_run_async(code)\n"
     ]
    }
   ],
   "source": [
    "#df_device[(df_device['sort']=='Tag')&(df_device['Battery Voltage']<0)]"
   ]
  },
  {
   "cell_type": "markdown",
   "metadata": {},
   "source": [
    "# Use only the last few days"
   ]
  },
  {
   "cell_type": "code",
   "execution_count": 16,
   "metadata": {},
   "outputs": [
    {
     "name": "stderr",
     "output_type": "stream",
     "text": [
      "C:\\Users\\camil\\anaconda3\\lib\\site-packages\\ipykernel\\ipkernel.py:283: DeprecationWarning: `should_run_async` will not call `transform_cell` automatically in the future. Please pass the result to `transformed_cell` argument and any exception that happen during thetransform in `preprocessing_exc_tuple` in IPython 7.17 and above.\n",
      "  and should_run_async(code)\n"
     ]
    },
    {
     "data": {
      "text/plain": [
       "array([datetime.date(2021, 6, 8), datetime.date(2021, 6, 9),\n",
       "       datetime.date(2021, 6, 10), datetime.date(2021, 6, 11),\n",
       "       datetime.date(2021, 6, 12), datetime.date(2021, 6, 13),\n",
       "       datetime.date(2021, 6, 14)], dtype=object)"
      ]
     },
     "execution_count": 16,
     "metadata": {},
     "output_type": "execute_result"
    }
   ],
   "source": [
    "download_time = max(df_device['Timestamp'].tolist())\n",
    "\n",
    "#remove the days we dont want\n",
    "df_device['to_analyse'] = df_device['Timestamp'].map(lambda x: x>=(download_time-dt.timedelta(days=over_last_Xdays)))\n",
    "df_device = df_device[df_device['to_analyse']]\n",
    "\n",
    "path_daily_ver = os.path.join(path_extracted_data_daily_check,str(download_time).split(' ')[0])\n",
    "#create a director if not existing\n",
    "if not os.path.exists(path_daily_ver):\n",
    "    os.makedirs(path_daily_ver)\n",
    "\n",
    "#keep only the last over_last_Xdays days in the logs\n",
    "df['to_analyse'] = df['Timestamp'].map(lambda x: x>=(download_time-dt.timedelta(days=over_last_Xdays)))\n",
    "df = df[df['to_analyse']]\n",
    "df[df['to_analyse']]['date'].unique()    "
   ]
  },
  {
   "cell_type": "code",
   "execution_count": 17,
   "metadata": {},
   "outputs": [
    {
     "name": "stderr",
     "output_type": "stream",
     "text": [
      "C:\\Users\\camil\\anaconda3\\lib\\site-packages\\ipykernel\\ipkernel.py:283: DeprecationWarning: `should_run_async` will not call `transform_cell` automatically in the future. Please pass the result to `transformed_cell` argument and any exception that happen during thetransform in `preprocessing_exc_tuple` in IPython 7.17 and above.\n",
      "  and should_run_async(code)\n"
     ]
    },
    {
     "data": {
      "text/plain": [
       "Timestamp('2021-06-14 19:08:52')"
      ]
     },
     "execution_count": 17,
     "metadata": {},
     "output_type": "execute_result"
    }
   ],
   "source": [
    "download_time"
   ]
  },
  {
   "cell_type": "markdown",
   "metadata": {},
   "source": [
    "# Tags last records"
   ]
  },
  {
   "cell_type": "code",
   "execution_count": 18,
   "metadata": {
    "scrolled": false
   },
   "outputs": [
    {
     "name": "stderr",
     "output_type": "stream",
     "text": [
      "C:\\Users\\camil\\anaconda3\\lib\\site-packages\\ipykernel\\ipkernel.py:283: DeprecationWarning: `should_run_async` will not call `transform_cell` automatically in the future. Please pass the result to `transformed_cell` argument and any exception that happen during thetransform in `preprocessing_exc_tuple` in IPython 7.17 and above.\n",
      "  and should_run_async(code)\n"
     ]
    },
    {
     "name": "stdout",
     "output_type": "stream",
     "text": [
      "(3, 2) (155, 5)\n",
      "(158, 5)\n",
      "------------- Tags with no records since at least 10 hours: -------------\n",
      "There is 5 such tags, we will print a maximum of 50 line (starting form the worst ones)\n",
      "There is 5 tags with at least one issue\n"
     ]
    },
    {
     "data": {
      "text/html": [
       "<div>\n",
       "<style scoped>\n",
       "    .dataframe tbody tr th:only-of-type {\n",
       "        vertical-align: middle;\n",
       "    }\n",
       "\n",
       "    .dataframe tbody tr th {\n",
       "        vertical-align: top;\n",
       "    }\n",
       "\n",
       "    .dataframe thead th {\n",
       "        text-align: right;\n",
       "    }\n",
       "</style>\n",
       "<table border=\"1\" class=\"dataframe\">\n",
       "  <thead>\n",
       "    <tr style=\"text-align: right;\">\n",
       "      <th></th>\n",
       "      <th>TagID</th>\n",
       "      <th>PenID</th>\n",
       "      <th>last_record_timestamp</th>\n",
       "      <th>nbr_h_since_lastrecord</th>\n",
       "    </tr>\n",
       "  </thead>\n",
       "  <tbody>\n",
       "    <tr>\n",
       "      <th>2</th>\n",
       "      <td>90</td>\n",
       "      <td>NaN</td>\n",
       "      <td>NaT</td>\n",
       "      <td>9999</td>\n",
       "    </tr>\n",
       "    <tr>\n",
       "      <th>1</th>\n",
       "      <td>24</td>\n",
       "      <td>NaN</td>\n",
       "      <td>NaT</td>\n",
       "      <td>9999</td>\n",
       "    </tr>\n",
       "    <tr>\n",
       "      <th>0</th>\n",
       "      <td>130</td>\n",
       "      <td>NaN</td>\n",
       "      <td>NaT</td>\n",
       "      <td>9999</td>\n",
       "    </tr>\n",
       "    <tr>\n",
       "      <th>44</th>\n",
       "      <td>154</td>\n",
       "      <td>11</td>\n",
       "      <td>2021-06-11 08:56:24</td>\n",
       "      <td>82</td>\n",
       "    </tr>\n",
       "    <tr>\n",
       "      <th>134</th>\n",
       "      <td>68</td>\n",
       "      <td>8</td>\n",
       "      <td>2021-06-14 07:31:16</td>\n",
       "      <td>11</td>\n",
       "    </tr>\n",
       "  </tbody>\n",
       "</table>\n",
       "</div>"
      ],
      "text/plain": [
       "    TagID PenID last_record_timestamp  nbr_h_since_lastrecord\n",
       "2      90   NaN                   NaT                    9999\n",
       "1      24   NaN                   NaT                    9999\n",
       "0     130   NaN                   NaT                    9999\n",
       "44    154    11   2021-06-11 08:56:24                      82\n",
       "134    68     8   2021-06-14 07:31:16                      11"
      ]
     },
     "execution_count": 18,
     "metadata": {},
     "output_type": "execute_result"
    }
   ],
   "source": [
    "#tags last records and active tags with no records\n",
    "df_ = df[df['TagID'].isin(li_active_tags)].groupby(['TagID','PenID'])['Timestamp'].agg(lambda x: list(x)).reset_index()\n",
    "df_['last_record_timestamp'] = df_['Timestamp'].map(lambda x: max(x))\n",
    "df_['nbr_h_since_lastrecord'] = df_['last_record_timestamp'].map(lambda x: int((download_time-x).total_seconds()/60/60))\n",
    "\n",
    "#add active tags that had no transition at all\n",
    "li_no_transition = [i for i in li_active_tags if i not in df['TagID'].unique()]\n",
    "df_no_transition = pd.DataFrame([{'TagID':tag_, 'nbr_h_since_lastrecord':9999} for tag_ in li_no_transition])\n",
    "print(df_no_transition.shape, df_.shape)\n",
    "df_ = pd.concat([df_, df_no_transition])\n",
    "print(df_.shape)\n",
    "#remove the older row of tags taht appear two times (i.e. if they changed pens for example)\n",
    "df_.sort_values(['nbr_h_since_lastrecord'], ascending=False, inplace=True)\n",
    "df_.drop_duplicates(subset=['TagID'], keep='last', inplace=True)\n",
    "df_[['TagID','PenID','last_record_timestamp','nbr_h_since_lastrecord']].to_csv(os.path.join(path_daily_ver, \n",
    "                                                                           id_run+str(download_time).split(' ')[0]+'h_TagsLastRecords.csv'), \n",
    "                                                              sep=';', index=False)\n",
    "\n",
    "h = 10\n",
    "print('------------- Tags with no records since at least %d hours: -------------'%h)\n",
    "print('There is %d such tags, we will print a maximum of 50 line (starting form the worst ones)'%df_[df_['nbr_h_since_lastrecord']>h].shape[0])\n",
    "li_tag_issues = df_[df_['nbr_h_since_lastrecord']>h][['TagID','PenID','last_record_timestamp','nbr_h_since_lastrecord']]['TagID'].tolist()\n",
    "print('There is %d tags with at least one issue'%len(set(li_tag_issues)))\n",
    "df_tag_summary = df_.copy()\n",
    "df_[df_['nbr_h_since_lastrecord']>h][['TagID','PenID','last_record_timestamp','nbr_h_since_lastrecord']].head(50)"
   ]
  },
  {
   "cell_type": "code",
   "execution_count": 19,
   "metadata": {},
   "outputs": [
    {
     "name": "stderr",
     "output_type": "stream",
     "text": [
      "C:\\Users\\camil\\anaconda3\\lib\\site-packages\\ipykernel\\ipkernel.py:283: DeprecationWarning: `should_run_async` will not call `transform_cell` automatically in the future. Please pass the result to `transformed_cell` argument and any exception that happen during thetransform in `preprocessing_exc_tuple` in IPython 7.17 and above.\n",
      "  and should_run_async(code)\n"
     ]
    }
   ],
   "source": [
    "#df[df['TagID']=='19'] #10.04 morning: verify in video\n",
    "#df_device[df_device['sender']=='29']"
   ]
  },
  {
   "cell_type": "markdown",
   "metadata": {},
   "source": [
    "# Reader last update"
   ]
  },
  {
   "cell_type": "markdown",
   "metadata": {},
   "source": [
    "#understand how the device logs are\n",
    "df_test = df_device.groupby('code')['system'].agg(lambda x: len(set(x))).reset_index()\n",
    "df_test[df_test['system']>1] #--> no code in two system!!\n",
    "#importantly:\n",
    "df_device[df_device['sort']!='Tag'].groupby(['sender'])['system','code','sort'].agg(lambda x: set(x)).reset_index()"
   ]
  },
  {
   "cell_type": "code",
   "execution_count": 20,
   "metadata": {},
   "outputs": [
    {
     "name": "stdout",
     "output_type": "stream",
     "text": [
      "The last read out from the reader of Reader Pen 3-5 arrived at: 2021-06-14 18:58:34\n",
      "The last read out from the reader of Reader Pen 8-9 arrived at: 2021-06-14 18:45:47\n",
      "The last read out from the reader of Reader Pen 10-12 arrived at: 2021-06-14 18:50:59\n"
     ]
    },
    {
     "name": "stderr",
     "output_type": "stream",
     "text": [
      "C:\\Users\\camil\\anaconda3\\lib\\site-packages\\ipykernel\\ipkernel.py:283: DeprecationWarning: `should_run_async` will not call `transform_cell` automatically in the future. Please pass the result to `transformed_cell` argument and any exception that happen during thetransform in `preprocessing_exc_tuple` in IPython 7.17 and above.\n",
      "  and should_run_async(code)\n"
     ]
    }
   ],
   "source": [
    "for reader_code in dico_rc_sys.keys():\n",
    "    print(\"The last read out from the reader of %s arrived at: %s\"%(dico_rc_sys[reader_code],\n",
    "                                                    str(max(df_device[df_device['code']==reader_code]['LastAction'].tolist()))))"
   ]
  },
  {
   "cell_type": "markdown",
   "metadata": {},
   "source": [
    "#cleaning step: remove days for specific hens when the tag was not sending output regularly anymore\n",
    "df_test = df_device[df_device['sort']=='Tag'].copy()\n",
    "df_test['date'] = df_test['Timestamp'].map(lambda x: dt.datetime.date(x))\n",
    "df_test = df_test.groupby(['sender','date','hour'])['LastAction'].agg(lambda x: list(x)).reset_index()\n",
    "df_test.rename(columns={'sender':'TagID'}, inplace=True)\n",
    "df_test['nbr_last_action']\n",
    "#last action biggest gap\n",
    "print(df_test.shape)\n",
    "df_test.head(3)"
   ]
  },
  {
   "cell_type": "markdown",
   "metadata": {},
   "source": [
    "## LF Counter"
   ]
  },
  {
   "cell_type": "code",
   "execution_count": 21,
   "metadata": {},
   "outputs": [
    {
     "name": "stderr",
     "output_type": "stream",
     "text": [
      "C:\\Users\\camil\\anaconda3\\lib\\site-packages\\ipykernel\\ipkernel.py:283: DeprecationWarning: `should_run_async` will not call `transform_cell` automatically in the future. Please pass the result to `transformed_cell` argument and any exception that happen during thetransform in `preprocessing_exc_tuple` in IPython 7.17 and above.\n",
      "  and should_run_async(code)\n"
     ]
    },
    {
     "name": "stdout",
     "output_type": "stream",
     "text": [
      "(1092, 5)\n"
     ]
    },
    {
     "data": {
      "text/html": [
       "<div>\n",
       "<style scoped>\n",
       "    .dataframe tbody tr th:only-of-type {\n",
       "        vertical-align: middle;\n",
       "    }\n",
       "\n",
       "    .dataframe tbody tr th {\n",
       "        vertical-align: top;\n",
       "    }\n",
       "\n",
       "    .dataframe thead th {\n",
       "        text-align: right;\n",
       "    }\n",
       "</style>\n",
       "<table border=\"1\" class=\"dataframe\">\n",
       "  <thead>\n",
       "    <tr style=\"text-align: right;\">\n",
       "      <th></th>\n",
       "      <th>sender</th>\n",
       "      <th>date</th>\n",
       "      <th>LFCounter_nbr_equal0</th>\n",
       "    </tr>\n",
       "  </thead>\n",
       "  <tbody>\n",
       "    <tr>\n",
       "      <th>0</th>\n",
       "      <td>108</td>\n",
       "      <td>[2021-06-12]</td>\n",
       "      <td>[1]</td>\n",
       "    </tr>\n",
       "    <tr>\n",
       "      <th>1</th>\n",
       "      <td>128</td>\n",
       "      <td>[2021-06-09, 2021-06-14]</td>\n",
       "      <td>[1, 1]</td>\n",
       "    </tr>\n",
       "    <tr>\n",
       "      <th>2</th>\n",
       "      <td>148</td>\n",
       "      <td>[2021-06-11]</td>\n",
       "      <td>[1]</td>\n",
       "    </tr>\n",
       "    <tr>\n",
       "      <th>3</th>\n",
       "      <td>15</td>\n",
       "      <td>[2021-06-10]</td>\n",
       "      <td>[1]</td>\n",
       "    </tr>\n",
       "    <tr>\n",
       "      <th>4</th>\n",
       "      <td>154</td>\n",
       "      <td>[2021-06-09, 2021-06-10, 2021-06-11, 2021-06-1...</td>\n",
       "      <td>[8, 6, 94, 144, 144, 115]</td>\n",
       "    </tr>\n",
       "    <tr>\n",
       "      <th>5</th>\n",
       "      <td>156</td>\n",
       "      <td>[2021-06-10]</td>\n",
       "      <td>[1]</td>\n",
       "    </tr>\n",
       "    <tr>\n",
       "      <th>6</th>\n",
       "      <td>16</td>\n",
       "      <td>[2021-06-13]</td>\n",
       "      <td>[1]</td>\n",
       "    </tr>\n",
       "    <tr>\n",
       "      <th>7</th>\n",
       "      <td>163</td>\n",
       "      <td>[2021-06-09]</td>\n",
       "      <td>[1]</td>\n",
       "    </tr>\n",
       "    <tr>\n",
       "      <th>8</th>\n",
       "      <td>169</td>\n",
       "      <td>[2021-06-09]</td>\n",
       "      <td>[2]</td>\n",
       "    </tr>\n",
       "    <tr>\n",
       "      <th>9</th>\n",
       "      <td>18</td>\n",
       "      <td>[2021-06-09, 2021-06-10, 2021-06-13, 2021-06-14]</td>\n",
       "      <td>[2, 2, 3, 1]</td>\n",
       "    </tr>\n",
       "    <tr>\n",
       "      <th>10</th>\n",
       "      <td>193</td>\n",
       "      <td>[2021-06-09]</td>\n",
       "      <td>[1]</td>\n",
       "    </tr>\n",
       "    <tr>\n",
       "      <th>11</th>\n",
       "      <td>198</td>\n",
       "      <td>[2021-06-11]</td>\n",
       "      <td>[1]</td>\n",
       "    </tr>\n",
       "    <tr>\n",
       "      <th>12</th>\n",
       "      <td>199</td>\n",
       "      <td>[2021-06-10, 2021-06-11]</td>\n",
       "      <td>[2, 1]</td>\n",
       "    </tr>\n",
       "    <tr>\n",
       "      <th>13</th>\n",
       "      <td>42</td>\n",
       "      <td>[2021-06-09]</td>\n",
       "      <td>[1]</td>\n",
       "    </tr>\n",
       "  </tbody>\n",
       "</table>\n",
       "</div>"
      ],
      "text/plain": [
       "   sender                                               date  \\\n",
       "0     108                                       [2021-06-12]   \n",
       "1     128                           [2021-06-09, 2021-06-14]   \n",
       "2     148                                       [2021-06-11]   \n",
       "3      15                                       [2021-06-10]   \n",
       "4     154  [2021-06-09, 2021-06-10, 2021-06-11, 2021-06-1...   \n",
       "5     156                                       [2021-06-10]   \n",
       "6      16                                       [2021-06-13]   \n",
       "7     163                                       [2021-06-09]   \n",
       "8     169                                       [2021-06-09]   \n",
       "9      18   [2021-06-09, 2021-06-10, 2021-06-13, 2021-06-14]   \n",
       "10    193                                       [2021-06-09]   \n",
       "11    198                                       [2021-06-11]   \n",
       "12    199                           [2021-06-10, 2021-06-11]   \n",
       "13     42                                       [2021-06-09]   \n",
       "\n",
       "         LFCounter_nbr_equal0  \n",
       "0                         [1]  \n",
       "1                      [1, 1]  \n",
       "2                         [1]  \n",
       "3                         [1]  \n",
       "4   [8, 6, 94, 144, 144, 115]  \n",
       "5                         [1]  \n",
       "6                         [1]  \n",
       "7                         [1]  \n",
       "8                         [2]  \n",
       "9                [2, 2, 3, 1]  \n",
       "10                        [1]  \n",
       "11                        [1]  \n",
       "12                     [2, 1]  \n",
       "13                        [1]  "
      ]
     },
     "execution_count": 21,
     "metadata": {},
     "output_type": "execute_result"
    }
   ],
   "source": [
    "df_LFCoutner = df_device[df_device['sort']=='Tag'].copy()\n",
    "df_LFCoutner['date'] = df_LFCoutner['Timestamp'].map(lambda x: dt.datetime.date(x))\n",
    "#df_LFCoutner['is_day'] = df_LFCoutner['Timestamp'].map(lambda x: is_day(x, config.dico_night_hour))\n",
    "df_LFCoutner = df_LFCoutner.groupby(['sender','date'])['LFCounter'].agg(lambda x: sorted(list(x))).reset_index()\n",
    "df_LFCoutner['LFCounter_nbr_equal0'] = df_LFCoutner['LFCounter'].map(lambda x: sum([i==0 for i in x]))\n",
    "df_LFCoutner['LFCounter_atleastone0'] = df_LFCoutner['LFCounter_nbr_equal0'].map(lambda x: x>0)\n",
    "print(df_LFCoutner.shape)\n",
    "df_ = df_LFCoutner[df_LFCoutner['LFCounter_atleastone0']].groupby(['sender'])[['date',\n",
    "                                                                'LFCounter_nbr_equal0']].agg(lambda x: list(x)).reset_index()\n",
    "df_.to_csv(os.path.join(path_daily_ver, id_run+str(download_time).split(' ')[0]+'_LFCounterEqual0.csv'),sep=';')\n",
    "df_"
   ]
  },
  {
   "cell_type": "markdown",
   "metadata": {},
   "source": [
    "# Device Last update"
   ]
  },
  {
   "cell_type": "code",
   "execution_count": 22,
   "metadata": {},
   "outputs": [
    {
     "name": "stderr",
     "output_type": "stream",
     "text": [
      "C:\\Users\\camil\\anaconda3\\lib\\site-packages\\ipykernel\\ipkernel.py:283: DeprecationWarning: `should_run_async` will not call `transform_cell` automatically in the future. Please pass the result to `transformed_cell` argument and any exception that happen during thetransform in `preprocessing_exc_tuple` in IPython 7.17 and above.\n",
      "  and should_run_async(code)\n"
     ]
    }
   ],
   "source": [
    "#TODO\n",
    "#New data!!!: plt.hist(df_device['MovementCounter'].dropna(),bins='auto');\n",
    "#plt.hist(df_device['Temperature'].dropna(),bins=30);"
   ]
  },
  {
   "cell_type": "markdown",
   "metadata": {},
   "source": [
    "## biggest gap over the entire day"
   ]
  },
  {
   "cell_type": "code",
   "execution_count": 23,
   "metadata": {},
   "outputs": [
    {
     "name": "stderr",
     "output_type": "stream",
     "text": [
      "C:\\Users\\camil\\anaconda3\\lib\\site-packages\\ipykernel\\ipkernel.py:283: DeprecationWarning: `should_run_async` will not call `transform_cell` automatically in the future. Please pass the result to `transformed_cell` argument and any exception that happen during thetransform in `preprocessing_exc_tuple` in IPython 7.17 and above.\n",
      "  and should_run_async(code)\n"
     ]
    },
    {
     "name": "stdout",
     "output_type": "stream",
     "text": [
      "(1092, 6)\n"
     ]
    },
    {
     "data": {
      "text/html": [
       "<div>\n",
       "<style scoped>\n",
       "    .dataframe tbody tr th:only-of-type {\n",
       "        vertical-align: middle;\n",
       "    }\n",
       "\n",
       "    .dataframe tbody tr th {\n",
       "        vertical-align: top;\n",
       "    }\n",
       "\n",
       "    .dataframe thead th {\n",
       "        text-align: right;\n",
       "    }\n",
       "</style>\n",
       "<table border=\"1\" class=\"dataframe\">\n",
       "  <thead>\n",
       "    <tr style=\"text-align: right;\">\n",
       "      <th></th>\n",
       "      <th>sender</th>\n",
       "      <th>date</th>\n",
       "      <th>LastAction</th>\n",
       "      <th>li_gap_of_the_day_tsstarted</th>\n",
       "      <th>biggest_gap_of_day_mn</th>\n",
       "      <th>start_biggest_gap_of_day</th>\n",
       "    </tr>\n",
       "  </thead>\n",
       "  <tbody>\n",
       "    <tr>\n",
       "      <th>143</th>\n",
       "      <td>130</td>\n",
       "      <td>2021-06-11</td>\n",
       "      <td>[2021-06-02 17:04:46, 2021-06-02 17:04:46, 202...</td>\n",
       "      <td>{2021-06-02 17:04:46: 767136.0, 2021-06-11 14:...</td>\n",
       "      <td>12786.0</td>\n",
       "      <td>2021-06-02 17:04:46</td>\n",
       "    </tr>\n",
       "    <tr>\n",
       "      <th>145</th>\n",
       "      <td>130</td>\n",
       "      <td>2021-06-13</td>\n",
       "      <td>[2021-06-11 14:10:22, 2021-06-11 14:10:22, 202...</td>\n",
       "      <td>{2021-06-11 14:10:22: 150588.0, 2021-06-13 08:...</td>\n",
       "      <td>2510.0</td>\n",
       "      <td>2021-06-11 14:10:22</td>\n",
       "    </tr>\n",
       "    <tr>\n",
       "      <th>316</th>\n",
       "      <td>154</td>\n",
       "      <td>2021-06-09</td>\n",
       "      <td>[2021-06-09 00:07:42, 2021-06-09 00:17:54, 202...</td>\n",
       "      <td>{2021-06-09 00:07:42: 612.0, 2021-06-09 00:17:...</td>\n",
       "      <td>40.0</td>\n",
       "      <td>2021-06-09 21:38:44</td>\n",
       "    </tr>\n",
       "    <tr>\n",
       "      <th>317</th>\n",
       "      <td>154</td>\n",
       "      <td>2021-06-10</td>\n",
       "      <td>[2021-06-10 00:08:24, 2021-06-10 00:18:37, 202...</td>\n",
       "      <td>{2021-06-10 00:08:24: 613.0, 2021-06-10 00:18:...</td>\n",
       "      <td>657.0</td>\n",
       "      <td>2021-06-10 10:50:43</td>\n",
       "    </tr>\n",
       "    <tr>\n",
       "      <th>318</th>\n",
       "      <td>154</td>\n",
       "      <td>2021-06-11</td>\n",
       "      <td>[2021-06-11 00:07:47, 2021-06-11 00:17:59, 202...</td>\n",
       "      <td>{2021-06-11 00:07:47: 612.0, 2021-06-11 00:17:...</td>\n",
       "      <td>65.0</td>\n",
       "      <td>2021-06-11 07:22:30</td>\n",
       "    </tr>\n",
       "  </tbody>\n",
       "</table>\n",
       "</div>"
      ],
      "text/plain": [
       "    sender        date                                         LastAction  \\\n",
       "143    130  2021-06-11  [2021-06-02 17:04:46, 2021-06-02 17:04:46, 202...   \n",
       "145    130  2021-06-13  [2021-06-11 14:10:22, 2021-06-11 14:10:22, 202...   \n",
       "316    154  2021-06-09  [2021-06-09 00:07:42, 2021-06-09 00:17:54, 202...   \n",
       "317    154  2021-06-10  [2021-06-10 00:08:24, 2021-06-10 00:18:37, 202...   \n",
       "318    154  2021-06-11  [2021-06-11 00:07:47, 2021-06-11 00:17:59, 202...   \n",
       "\n",
       "                           li_gap_of_the_day_tsstarted  biggest_gap_of_day_mn  \\\n",
       "143  {2021-06-02 17:04:46: 767136.0, 2021-06-11 14:...                12786.0   \n",
       "145  {2021-06-11 14:10:22: 150588.0, 2021-06-13 08:...                 2510.0   \n",
       "316  {2021-06-09 00:07:42: 612.0, 2021-06-09 00:17:...                   40.0   \n",
       "317  {2021-06-10 00:08:24: 613.0, 2021-06-10 00:18:...                  657.0   \n",
       "318  {2021-06-11 00:07:47: 612.0, 2021-06-11 00:17:...                   65.0   \n",
       "\n",
       "    start_biggest_gap_of_day  \n",
       "143      2021-06-02 17:04:46  \n",
       "145      2021-06-11 14:10:22  \n",
       "316      2021-06-09 21:38:44  \n",
       "317      2021-06-10 10:50:43  \n",
       "318      2021-06-11 07:22:30  "
      ]
     },
     "execution_count": 23,
     "metadata": {},
     "output_type": "execute_result"
    }
   ],
   "source": [
    "df_lastactionGAP = df_device[df_device['sort']=='Tag'].copy()\n",
    "df_lastactionGAP['date'] = df_lastactionGAP['Timestamp'].map(lambda x: dt.datetime.date(x))\n",
    "#df_lastactionGAP['is_day'] = df_lastactionGAP['Timestamp'].map(lambda x: is_day(x, config.dico_night_hour))\n",
    "#df_lastactionGAP = df_lastactionGAP[df_lastactionGAP['is_day']]\n",
    "df_lastactionGAP = df_lastactionGAP.groupby(['sender','date'])['LastAction'].agg(lambda x: sorted(list(x))).reset_index()\n",
    "#last action biggest gap of the day\n",
    "df_lastactionGAP['li_gap_of_the_day_tsstarted'] = df_lastactionGAP['LastAction'].map(lambda x: {x[i]:(x[i+1]-x[i]).total_seconds() for i in range(0,len(x)-1)})\n",
    "df_lastactionGAP['biggest_gap_of_day_mn'] = df_lastactionGAP['li_gap_of_the_day_tsstarted'].map(lambda x: round(max(x.items(), \n",
    "                                                                                         key=operator.itemgetter(1))[1]/60,0))\n",
    "df_lastactionGAP['start_biggest_gap_of_day'] = df_lastactionGAP['li_gap_of_the_day_tsstarted'].map(lambda x: max(x.items(), \n",
    "                                                                                               key=operator.itemgetter(1))[0])\n",
    "df_lastactionGAP.to_csv(os.path.join(path_daily_ver, id_run+str(download_time).split(' ')[0]+'_LastactionGAP.csv'),sep=';')\n",
    "print(df_lastactionGAP.shape)\n",
    "df_lastactionGAP[df_lastactionGAP['biggest_gap_of_day_mn']>12]"
   ]
  },
  {
   "cell_type": "markdown",
   "metadata": {},
   "source": [
    "### very last update"
   ]
  },
  {
   "cell_type": "code",
   "execution_count": 24,
   "metadata": {},
   "outputs": [
    {
     "name": "stderr",
     "output_type": "stream",
     "text": [
      "C:\\Users\\camil\\anaconda3\\lib\\site-packages\\ipykernel\\ipkernel.py:283: DeprecationWarning: `should_run_async` will not call `transform_cell` automatically in the future. Please pass the result to `transformed_cell` argument and any exception that happen during thetransform in `preprocessing_exc_tuple` in IPython 7.17 and above.\n",
      "  and should_run_async(code)\n"
     ]
    },
    {
     "name": "stdout",
     "output_type": "stream",
     "text": [
      "(2, 2) (183, 8)\n",
      "(185, 8)\n",
      "There is 2 device with 0 updates\n",
      "There is 6 tags with at least one issue\n",
      "------------- Device with no update since at least 12 minutes -------------\n"
     ]
    },
    {
     "data": {
      "text/html": [
       "<div>\n",
       "<style scoped>\n",
       "    .dataframe tbody tr th:only-of-type {\n",
       "        vertical-align: middle;\n",
       "    }\n",
       "\n",
       "    .dataframe tbody tr th {\n",
       "        vertical-align: top;\n",
       "    }\n",
       "\n",
       "    .dataframe thead th {\n",
       "        text-align: right;\n",
       "    }\n",
       "</style>\n",
       "<table border=\"1\" class=\"dataframe\">\n",
       "  <thead>\n",
       "    <tr style=\"text-align: right;\">\n",
       "      <th></th>\n",
       "      <th>code</th>\n",
       "      <th>sender</th>\n",
       "      <th>system</th>\n",
       "      <th>sort</th>\n",
       "      <th>last_LastAction</th>\n",
       "      <th>nbr_mn_since_LastUpdate</th>\n",
       "    </tr>\n",
       "  </thead>\n",
       "  <tbody>\n",
       "    <tr>\n",
       "      <th>1</th>\n",
       "      <td>NaN</td>\n",
       "      <td>90</td>\n",
       "      <td>NaN</td>\n",
       "      <td>NaN</td>\n",
       "      <td>NaT</td>\n",
       "      <td>9999.000000</td>\n",
       "    </tr>\n",
       "    <tr>\n",
       "      <th>0</th>\n",
       "      <td>NaN</td>\n",
       "      <td>24</td>\n",
       "      <td>NaN</td>\n",
       "      <td>NaN</td>\n",
       "      <td>NaT</td>\n",
       "      <td>9999.000000</td>\n",
       "    </tr>\n",
       "    <tr>\n",
       "      <th>86</th>\n",
       "      <td>02001E12</td>\n",
       "      <td>154</td>\n",
       "      <td>pens:10 - 12</td>\n",
       "      <td>Tag</td>\n",
       "      <td>2021-06-11 08:56:24</td>\n",
       "      <td>4932.466667</td>\n",
       "    </tr>\n",
       "    <tr>\n",
       "      <th>107</th>\n",
       "      <td>02001E2F</td>\n",
       "      <td>130</td>\n",
       "      <td>pens:10 - 12</td>\n",
       "      <td>Tag</td>\n",
       "      <td>2021-06-13 08:00:10</td>\n",
       "      <td>2108.700000</td>\n",
       "    </tr>\n",
       "    <tr>\n",
       "      <th>181</th>\n",
       "      <td>192.168.1.77</td>\n",
       "      <td></td>\n",
       "      <td>pens:8 - 9</td>\n",
       "      <td>Reader</td>\n",
       "      <td>2021-06-14 18:45:47</td>\n",
       "      <td>23.083333</td>\n",
       "    </tr>\n",
       "    <tr>\n",
       "      <th>182</th>\n",
       "      <td>192.168.1.78</td>\n",
       "      <td></td>\n",
       "      <td>pens:10 - 12</td>\n",
       "      <td>Reader</td>\n",
       "      <td>2021-06-14 18:50:59</td>\n",
       "      <td>17.883333</td>\n",
       "    </tr>\n",
       "  </tbody>\n",
       "</table>\n",
       "</div>"
      ],
      "text/plain": [
       "             code sender        system    sort     last_LastAction  \\\n",
       "1             NaN     90           NaN     NaN                 NaT   \n",
       "0             NaN     24           NaN     NaN                 NaT   \n",
       "86       02001E12    154  pens:10 - 12     Tag 2021-06-11 08:56:24   \n",
       "107      02001E2F    130  pens:10 - 12     Tag 2021-06-13 08:00:10   \n",
       "181  192.168.1.77           pens:8 - 9  Reader 2021-06-14 18:45:47   \n",
       "182  192.168.1.78         pens:10 - 12  Reader 2021-06-14 18:50:59   \n",
       "\n",
       "     nbr_mn_since_LastUpdate  \n",
       "1                9999.000000  \n",
       "0                9999.000000  \n",
       "86               4932.466667  \n",
       "107              2108.700000  \n",
       "181                23.083333  \n",
       "182                17.883333  "
      ]
     },
     "metadata": {},
     "output_type": "display_data"
    }
   ],
   "source": [
    "#sort by date in order to take the last voltage using a simple list\n",
    "df_ = df_device.groupby(['code','sender','system','sort','NeedsBatteries'])['LastAction'].agg(lambda x: list(x)).reset_index()\n",
    "df_['last_LastAction'] = df_['LastAction'].map(lambda x: max(x))\n",
    "df_['nbr_mn_since_LastUpdate'] = df_['last_LastAction'].map(lambda x: (download_time-x).total_seconds()/60)\n",
    "\n",
    "#add tags with no update:\n",
    "li_no_transition = [i for i in li_active_tags if i not in df_device['sender'].unique()]\n",
    "df_no_transition = pd.DataFrame([{'sender':tag_, 'nbr_mn_since_LastUpdate':9999} for tag_ in li_no_transition])\n",
    "print(df_no_transition.shape, df_.shape)\n",
    "df_ = pd.concat([df_, df_no_transition])\n",
    "print(df_.shape)\n",
    "print('There is %d device with 0 updates'%df_no_transition.shape[0])\n",
    "df_.sort_values(['nbr_mn_since_LastUpdate'], ascending=False, inplace=True)\n",
    "#remove the older sender that appear two times (i.e. if they changed pens for example)\n",
    "df_.drop_duplicates(subset=['system','sender'], keep='last', inplace=True)\n",
    "df_[['code','sender','system','sort','last_LastAction','nbr_mn_since_LastUpdate']].to_csv(os.path.join(path_daily_ver, \n",
    "                                            id_run+str(download_time).split(' ')[0]+'h_DeviceLastUpdate.csv'), sep=';', index=False)\n",
    "\n",
    "\n",
    "mn = 12\n",
    "li_tag_issues.extend(df_[df_['nbr_mn_since_LastUpdate']>mn]['sender'])\n",
    "print('There is %d tags with at least one issue'%len(set(li_tag_issues)))\n",
    "\n",
    "print('------------- Device with no update since at least %d minutes -------------'%mn)\n",
    "df_tag_summary = pd.merge(df_tag_summary, df_[df_['sort']=='Tag'], left_on='TagID', right_on='sender', how='outer')\n",
    "#display(df_tag_summary.head(3))\n",
    "display(df_[df_['nbr_mn_since_LastUpdate']>mn][['code','sender','system','sort','last_LastAction','nbr_mn_since_LastUpdate']])"
   ]
  },
  {
   "cell_type": "code",
   "execution_count": 25,
   "metadata": {},
   "outputs": [
    {
     "name": "stderr",
     "output_type": "stream",
     "text": [
      "C:\\Users\\camil\\anaconda3\\lib\\site-packages\\ipykernel\\ipkernel.py:283: DeprecationWarning: `should_run_async` will not call `transform_cell` automatically in the future. Please pass the result to `transformed_cell` argument and any exception that happen during thetransform in `preprocessing_exc_tuple` in IPython 7.17 and above.\n",
      "  and should_run_async(code)\n"
     ]
    },
    {
     "data": {
      "text/plain": [
       "Timestamp('2021-06-14 19:08:52')"
      ]
     },
     "execution_count": 25,
     "metadata": {},
     "output_type": "execute_result"
    }
   ],
   "source": [
    "download_time"
   ]
  },
  {
   "cell_type": "markdown",
   "metadata": {},
   "source": [
    "# Critical Voltage last D days"
   ]
  },
  {
   "cell_type": "code",
   "execution_count": 26,
   "metadata": {
    "scrolled": false
   },
   "outputs": [
    {
     "name": "stderr",
     "output_type": "stream",
     "text": [
      "C:\\Users\\camil\\anaconda3\\lib\\site-packages\\ipykernel\\ipkernel.py:283: DeprecationWarning: `should_run_async` will not call `transform_cell` automatically in the future. Please pass the result to `transformed_cell` argument and any exception that happen during thetransform in `preprocessing_exc_tuple` in IPython 7.17 and above.\n",
      "  and should_run_async(code)\n",
      "<ipython-input-26-207c442b845e>:7: RuntimeWarning: Mean of empty slice\n",
      "  df_['avg_Battery_Voltage_last_'+str(D)+'days'] = df_['Battery Voltage'].map(lambda x: np.nanmean(x))\n"
     ]
    },
    {
     "name": "stdout",
     "output_type": "stream",
     "text": [
      "------------- Critical Battery Voltage of device/tags (under threshold at least once during the last 7 days -------------\n",
      "(158, 13)\n",
      "(158, 16)\n",
      "There is 19 tags with at least one issue:\n"
     ]
    },
    {
     "data": {
      "text/html": [
       "<div>\n",
       "<style scoped>\n",
       "    .dataframe tbody tr th:only-of-type {\n",
       "        vertical-align: middle;\n",
       "    }\n",
       "\n",
       "    .dataframe tbody tr th {\n",
       "        vertical-align: top;\n",
       "    }\n",
       "\n",
       "    .dataframe thead th {\n",
       "        text-align: right;\n",
       "    }\n",
       "</style>\n",
       "<table border=\"1\" class=\"dataframe\">\n",
       "  <thead>\n",
       "    <tr style=\"text-align: right;\">\n",
       "      <th></th>\n",
       "      <th>code</th>\n",
       "      <th>sender</th>\n",
       "      <th>system</th>\n",
       "      <th>sort</th>\n",
       "      <th>NeedsBatteries</th>\n",
       "      <th>Battery Voltage</th>\n",
       "      <th>min_Battery_Voltage_last_7days</th>\n",
       "      <th>avg_Battery_Voltage_last_7days</th>\n",
       "      <th>CRITICAL</th>\n",
       "    </tr>\n",
       "  </thead>\n",
       "  <tbody>\n",
       "    <tr>\n",
       "      <th>29</th>\n",
       "      <td>0200151F</td>\n",
       "      <td>73</td>\n",
       "      <td>pens:3 - 5</td>\n",
       "      <td>Tag</td>\n",
       "      <td>True</td>\n",
       "      <td>[2964.0, 2976.0, 2972.0, 2969.0, 2965.0, 2960....</td>\n",
       "      <td>2912.0</td>\n",
       "      <td>2975.943287</td>\n",
       "      <td>True</td>\n",
       "    </tr>\n",
       "    <tr>\n",
       "      <th>30</th>\n",
       "      <td>02001521</td>\n",
       "      <td>21</td>\n",
       "      <td>pens:3 - 5</td>\n",
       "      <td>Tag</td>\n",
       "      <td>True</td>\n",
       "      <td>[2991.0, 2987.0, 2991.0, 2990.0, 2993.0, 2988....</td>\n",
       "      <td>2911.0</td>\n",
       "      <td>2989.377315</td>\n",
       "      <td>True</td>\n",
       "    </tr>\n",
       "    <tr>\n",
       "      <th>34</th>\n",
       "      <td>0200152D</td>\n",
       "      <td>5</td>\n",
       "      <td>pens:3 - 5</td>\n",
       "      <td>Tag</td>\n",
       "      <td>True</td>\n",
       "      <td>[2995.0, 2930.0, 2931.0, 2997.0, 3001.0, 2929....</td>\n",
       "      <td>2907.0</td>\n",
       "      <td>2955.537037</td>\n",
       "      <td>True</td>\n",
       "    </tr>\n",
       "    <tr>\n",
       "      <th>116</th>\n",
       "      <td>02001E46</td>\n",
       "      <td>148</td>\n",
       "      <td>pens:10 - 12</td>\n",
       "      <td>Tag</td>\n",
       "      <td>True</td>\n",
       "      <td>[3021.0, 3021.0, 3022.0, 3019.0, 3022.0, 3023....</td>\n",
       "      <td>2907.0</td>\n",
       "      <td>3007.949133</td>\n",
       "      <td>True</td>\n",
       "    </tr>\n",
       "    <tr>\n",
       "      <th>32</th>\n",
       "      <td>02001529</td>\n",
       "      <td>29</td>\n",
       "      <td>pens:3 - 5</td>\n",
       "      <td>Tag</td>\n",
       "      <td>True</td>\n",
       "      <td>[2987.0, 2989.0, 2982.0, 2982.0, 2987.0, 2985....</td>\n",
       "      <td>2905.0</td>\n",
       "      <td>2986.842593</td>\n",
       "      <td>True</td>\n",
       "    </tr>\n",
       "    <tr>\n",
       "      <th>122</th>\n",
       "      <td>02001E69</td>\n",
       "      <td>143</td>\n",
       "      <td>pens:10 - 12</td>\n",
       "      <td>Tag</td>\n",
       "      <td>True</td>\n",
       "      <td>[2997.0, 2998.0, 2995.0, 2998.0, 2994.0, 2999....</td>\n",
       "      <td>2904.0</td>\n",
       "      <td>2993.871676</td>\n",
       "      <td>True</td>\n",
       "    </tr>\n",
       "    <tr>\n",
       "      <th>27</th>\n",
       "      <td>0200151C</td>\n",
       "      <td>35</td>\n",
       "      <td>pens:3 - 5</td>\n",
       "      <td>Tag</td>\n",
       "      <td>True</td>\n",
       "      <td>[2988.0, 2986.0, 2985.0, 2987.0, 2984.0, 2983....</td>\n",
       "      <td>2898.0</td>\n",
       "      <td>2986.667824</td>\n",
       "      <td>True</td>\n",
       "    </tr>\n",
       "    <tr>\n",
       "      <th>112</th>\n",
       "      <td>02001E39</td>\n",
       "      <td>150</td>\n",
       "      <td>pens:10 - 12</td>\n",
       "      <td>Tag</td>\n",
       "      <td>True</td>\n",
       "      <td>[2987.0, 2986.0, 2990.0, 2980.0, 2987.0, 2990....</td>\n",
       "      <td>2893.0</td>\n",
       "      <td>2983.636994</td>\n",
       "      <td>True</td>\n",
       "    </tr>\n",
       "    <tr>\n",
       "      <th>88</th>\n",
       "      <td>02001E14</td>\n",
       "      <td>128</td>\n",
       "      <td>pens:10 - 12</td>\n",
       "      <td>Tag</td>\n",
       "      <td>True</td>\n",
       "      <td>[3015.0, 3014.0, 3013.0, 3013.0, 3016.0, 3015....</td>\n",
       "      <td>2893.0</td>\n",
       "      <td>3013.499422</td>\n",
       "      <td>True</td>\n",
       "    </tr>\n",
       "    <tr>\n",
       "      <th>16</th>\n",
       "      <td>0200141B</td>\n",
       "      <td>47</td>\n",
       "      <td>pens:3 - 5</td>\n",
       "      <td>Tag</td>\n",
       "      <td>True</td>\n",
       "      <td>[2962.0, 2963.0, 2965.0, 2964.0, 2964.0, 2960....</td>\n",
       "      <td>2871.0</td>\n",
       "      <td>2966.475694</td>\n",
       "      <td>True</td>\n",
       "    </tr>\n",
       "    <tr>\n",
       "      <th>156</th>\n",
       "      <td>0300026A</td>\n",
       "      <td>Wintergarten</td>\n",
       "      <td>pens:8 - 9</td>\n",
       "      <td>Marker</td>\n",
       "      <td>True</td>\n",
       "      <td>[3160.0, 3179.0, 3176.0, 3179.0, 3179.0, 3176....</td>\n",
       "      <td>2851.0</td>\n",
       "      <td>3378.847222</td>\n",
       "      <td>True</td>\n",
       "    </tr>\n",
       "    <tr>\n",
       "      <th>70</th>\n",
       "      <td>020015C0</td>\n",
       "      <td>15</td>\n",
       "      <td>pens:3 - 5</td>\n",
       "      <td>Tag</td>\n",
       "      <td>True</td>\n",
       "      <td>[2993.0, 2994.0, 2992.0, 2995.0, 2994.0, 3000....</td>\n",
       "      <td>2850.0</td>\n",
       "      <td>2999.552083</td>\n",
       "      <td>True</td>\n",
       "    </tr>\n",
       "    <tr>\n",
       "      <th>73</th>\n",
       "      <td>020015C5</td>\n",
       "      <td>108</td>\n",
       "      <td>pens:8 - 9</td>\n",
       "      <td>Tag</td>\n",
       "      <td>True</td>\n",
       "      <td>[2991.0, 2989.0, 2991.0, 2991.0, 2988.0, 2990....</td>\n",
       "      <td>2822.0</td>\n",
       "      <td>2992.465278</td>\n",
       "      <td>True</td>\n",
       "    </tr>\n",
       "    <tr>\n",
       "      <th>51</th>\n",
       "      <td>0200155B</td>\n",
       "      <td>2</td>\n",
       "      <td>pens:3 - 5</td>\n",
       "      <td>Tag</td>\n",
       "      <td>True</td>\n",
       "      <td>[3014.0, 3004.0, 3011.0, 3013.0, 3011.0, 3006....</td>\n",
       "      <td>2815.0</td>\n",
       "      <td>3005.311343</td>\n",
       "      <td>True</td>\n",
       "    </tr>\n",
       "    <tr>\n",
       "      <th>86</th>\n",
       "      <td>02001E12</td>\n",
       "      <td>154</td>\n",
       "      <td>pens:10 - 12</td>\n",
       "      <td>Tag</td>\n",
       "      <td>True</td>\n",
       "      <td>[2579.0, 2579.0, 2579.0, 2579.0, 2579.0, 2579....</td>\n",
       "      <td>2501.0</td>\n",
       "      <td>2707.873988</td>\n",
       "      <td>True</td>\n",
       "    </tr>\n",
       "  </tbody>\n",
       "</table>\n",
       "</div>"
      ],
      "text/plain": [
       "         code        sender        system    sort  NeedsBatteries  \\\n",
       "29   0200151F            73    pens:3 - 5     Tag            True   \n",
       "30   02001521            21    pens:3 - 5     Tag            True   \n",
       "34   0200152D             5    pens:3 - 5     Tag            True   \n",
       "116  02001E46           148  pens:10 - 12     Tag            True   \n",
       "32   02001529            29    pens:3 - 5     Tag            True   \n",
       "122  02001E69           143  pens:10 - 12     Tag            True   \n",
       "27   0200151C            35    pens:3 - 5     Tag            True   \n",
       "112  02001E39           150  pens:10 - 12     Tag            True   \n",
       "88   02001E14           128  pens:10 - 12     Tag            True   \n",
       "16   0200141B            47    pens:3 - 5     Tag            True   \n",
       "156  0300026A  Wintergarten    pens:8 - 9  Marker            True   \n",
       "70   020015C0            15    pens:3 - 5     Tag            True   \n",
       "73   020015C5           108    pens:8 - 9     Tag            True   \n",
       "51   0200155B             2    pens:3 - 5     Tag            True   \n",
       "86   02001E12           154  pens:10 - 12     Tag            True   \n",
       "\n",
       "                                       Battery Voltage  \\\n",
       "29   [2964.0, 2976.0, 2972.0, 2969.0, 2965.0, 2960....   \n",
       "30   [2991.0, 2987.0, 2991.0, 2990.0, 2993.0, 2988....   \n",
       "34   [2995.0, 2930.0, 2931.0, 2997.0, 3001.0, 2929....   \n",
       "116  [3021.0, 3021.0, 3022.0, 3019.0, 3022.0, 3023....   \n",
       "32   [2987.0, 2989.0, 2982.0, 2982.0, 2987.0, 2985....   \n",
       "122  [2997.0, 2998.0, 2995.0, 2998.0, 2994.0, 2999....   \n",
       "27   [2988.0, 2986.0, 2985.0, 2987.0, 2984.0, 2983....   \n",
       "112  [2987.0, 2986.0, 2990.0, 2980.0, 2987.0, 2990....   \n",
       "88   [3015.0, 3014.0, 3013.0, 3013.0, 3016.0, 3015....   \n",
       "16   [2962.0, 2963.0, 2965.0, 2964.0, 2964.0, 2960....   \n",
       "156  [3160.0, 3179.0, 3176.0, 3179.0, 3179.0, 3176....   \n",
       "70   [2993.0, 2994.0, 2992.0, 2995.0, 2994.0, 3000....   \n",
       "73   [2991.0, 2989.0, 2991.0, 2991.0, 2988.0, 2990....   \n",
       "51   [3014.0, 3004.0, 3011.0, 3013.0, 3011.0, 3006....   \n",
       "86   [2579.0, 2579.0, 2579.0, 2579.0, 2579.0, 2579....   \n",
       "\n",
       "     min_Battery_Voltage_last_7days  avg_Battery_Voltage_last_7days  CRITICAL  \n",
       "29                           2912.0                     2975.943287      True  \n",
       "30                           2911.0                     2989.377315      True  \n",
       "34                           2907.0                     2955.537037      True  \n",
       "116                          2907.0                     3007.949133      True  \n",
       "32                           2905.0                     2986.842593      True  \n",
       "122                          2904.0                     2993.871676      True  \n",
       "27                           2898.0                     2986.667824      True  \n",
       "112                          2893.0                     2983.636994      True  \n",
       "88                           2893.0                     3013.499422      True  \n",
       "16                           2871.0                     2966.475694      True  \n",
       "156                          2851.0                     3378.847222      True  \n",
       "70                           2850.0                     2999.552083      True  \n",
       "73                           2822.0                     2992.465278      True  \n",
       "51                           2815.0                     3005.311343      True  \n",
       "86                           2501.0                     2707.873988      True  "
      ]
     },
     "execution_count": 26,
     "metadata": {},
     "output_type": "execute_result"
    }
   ],
   "source": [
    "D = 7 #assuming I do this one a week, it make sense to plot it once a week\n",
    "#D=2 was not enough as we would miss some tags that were at 2600 (e.g. 82)\n",
    "df_device['is_last_'+str(D)+'days'] = df_device['Timestamp'].map(lambda x: x>=(download_time-dt.timedelta(days=D)))\n",
    "df_ = df_device[df_device['is_last_'+str(D)+'days']].groupby(['code','sender','system','sort',\n",
    "                                                        'NeedsBatteries'])['Battery Voltage'].agg(lambda x: list(x)).reset_index()\n",
    "df_['min_Battery_Voltage_last_'+str(D)+'days'] = df_['Battery Voltage'].map(lambda x: min(x))\n",
    "df_['avg_Battery_Voltage_last_'+str(D)+'days'] = df_['Battery Voltage'].map(lambda x: np.nanmean(x))\n",
    "df_.sort_values(['min_Battery_Voltage_last_'+str(D)+'days'], ascending=False, inplace=True)\n",
    "# check whether at least one of the last entries was below the critical threshold \n",
    "df_['CRITICAL'] = df_.apply(lambda x:sum([i<thresh_dev for i in x['Battery Voltage']])>=1 if x['sort']!='Tag' \\\n",
    "                            else sum([i<thresh_tag for i in x['Battery Voltage']])>=1, axis=1)\n",
    "df_.to_csv(os.path.join(path_daily_ver,id_run+str(download_time).split(' ')[0]+'h_Battery VoltageLast'+str(D)+'days.csv'), sep=';', index=False)\n",
    "print('------------- Critical Battery Voltage of device/tags (under threshold at least once during the last %d days -------------'%D)\n",
    "li_tag_issues.extend(df_[(df_['CRITICAL'])&(df_['sort']=='Tag')]['sender'])\n",
    "print(df_tag_summary.shape)\n",
    "df_tag_summary = df_tag_summary.drop(['sender'], axis=1)\n",
    "df_tag_summary = pd.merge(df_tag_summary, df_[df_['sort']=='Tag'][['CRITICAL','min_Battery_Voltage_last_'+str(D)+'days',\n",
    "                                                                   'avg_Battery_Voltage_last_'+str(D)+'days','sender']], \n",
    "                          left_on='TagID', right_on='sender', how='outer')\n",
    "df_tag_summary.drop(['LastAction','Timestamp','NeedsBatteries'], axis=1).to_csv(os.path.join(path_daily_ver,id_run+str(download_time).split(' ')[0]+'_TagSummary.csv'), sep=';', index=False)\n",
    "print(df_tag_summary.shape)\n",
    "#display(df_tag_summary.head(3))\n",
    "print('There is %d tags with at least one issue:'%len(set(li_tag_issues)))\n",
    "df_[(df_['CRITICAL'])&(df_['NeedsBatteries'])]"
   ]
  },
  {
   "cell_type": "markdown",
   "metadata": {
    "scrolled": true
   },
   "source": [
    "#plot\n",
    "\n",
    "df_device = df_device.sort_values(['LastAction'])\n",
    "for tag in li_active_tags:\n",
    "    df_plt = df_device[df_device['sender']==str(tag)][['voltage','Timestamp']]\n",
    "    plt.plot(df_plt['Timestamp'].tolist(), df_plt['voltage'].tolist());\n",
    "    plt.title(tag)\n",
    "    plt.show()"
   ]
  },
  {
   "cell_type": "markdown",
   "metadata": {},
   "source": [
    "# Plot Tags"
   ]
  },
  {
   "cell_type": "markdown",
   "metadata": {},
   "source": [
    "#plot the batterie level, the tagupdates and the number of transition for each tags, one plot per day\n",
    "df_device['date'] = df_device['Timestamp'].map(lambda x: dt.datetime.date(x))\n",
    "df_device = df_device.sort_values(['LastAction'])\n",
    "#us the log files to crate a df_tr file with one row per hen per hour, and the number of transition in a column\n",
    "df['hour'] = df['Timestamp'].map(lambda x: x.hour if pd.isnull(x)!=np.nan else np.nan)\n",
    "df_tr = df.groupby(['TagID','date','hour'])['Timestamp'].count().reset_index()\n",
    "df_tr.rename(columns={'Timestamp':'nbr_transition_last1h'}, inplace=True)\n",
    "df_tr['date_hour'] = df_tr.apply(lambda x: dt.datetime(x['date'].year, x['date'].month, x['date'].day, x['hour'],0,0), axis=1)\n",
    "\n",
    "#for tag in tqdm.tqdm(set(li_tag_issues)):\n",
    "for tag in tqdm.tqdm(li_active_tags):\n",
    "    try:\n",
    "        plt.figure(figsize=(18,4))\n",
    "        ax = plt.subplot(111) \n",
    "\n",
    "        #Battery Voltage\n",
    "        df_plt = df_device[df_device['sender']==tag].copy()\n",
    "        SystemID = df_plt['system'].iloc[0]\n",
    "        ax.plot(df_plt['Timestamp'].tolist(), df_plt['Battery Voltage'].tolist(), color='blue');\n",
    "\n",
    "        #number of transition in the last hours    \n",
    "        ax2=ax.twinx()\n",
    "        df_tr_ = df_tr[df_tr['TagID']==tag].copy()\n",
    "        ax2.plot(df_tr_['date_hour'].tolist(), df_tr_['nbr_transition_last1h'].tolist(), color='green');\n",
    "\n",
    "        #number of device update in the last hour\n",
    "        df_plt['hour'] = df_plt['Timestamp'].map(lambda x: x.hour if pd.isnull(x)!=np.nan else np.nan)\n",
    "        df_up = df_plt.groupby(['date','hour'])['LastAction'].agg(lambda x: list(x)).reset_index()\n",
    "        df_up['date_hour'] = df_up.apply(lambda x: dt.datetime(x['date'].year, x['date'].month, x['date'].day, x['hour'],0,0), axis=1)\n",
    "        df_up['nbr_update_last1h'] = df_up.apply(lambda x: sum([i>=(x['date_hour']-dt.timedelta(hours=1)) for i in x['LastAction']]), \n",
    "                                                 axis=1)\n",
    "        ax2.plot(df_up['date_hour'].tolist(), df_up['nbr_update_last1h'].tolist(), color='r');\n",
    "\n",
    "        #add days and plot\n",
    "        for day in df_plt['date'].unique() : \n",
    "            plt.axvline(x=day, linewidth=1, color='b')\n",
    "        plt.title('TagID: '+tag)\n",
    "        #for label in ax.get_xticklabels():\n",
    "        #    label.set_rotation(90) \n",
    "        y_ = np.nanmax(df_plt['Battery Voltage'].tolist())\n",
    "        x_ = np.nanmin(df_plt['date'].unique())\n",
    "        ax.text(x_, y_-0.1*(y_-np.nanmin(df_plt['Battery Voltage'].tolist())), '#device update in the last hour -right axis', fontsize=10, color='r')\n",
    "        ax.text(x_, y_-0.2*(y_-np.nanmin(df_plt['Battery Voltage'].tolist())), '#transition in the last hour -right axis', fontsize=10, color='green')\n",
    "        ax.text(x_, y_-0.3*(y_-np.nanmin(df_plt['Battery Voltage'].tolist())), 'Battery Voltage -left axis', fontsize=10, color='blue')\n",
    "\n",
    "        #create a director if not existing\n",
    "        path_incase = os.path.join(path_daily_ver, 'INcaseALLplot', SystemID.replace(':',''))\n",
    "        if not os.path.exists(path_incase):\n",
    "            os.makedirs(path_incase)\n",
    "        plt.savefig(os.path.join(path_incase,id_run+'_'+str(tag)+'Tag_CHECK.png'), dpi=300,\n",
    "                                format='png', bbox_inches='tight')\n",
    "    except Exception as e:\n",
    "                print('ERROR:-------------',e, '    TAG: ',tag)\n",
    "    #plt.show()"
   ]
  },
  {
   "cell_type": "raw",
   "metadata": {},
   "source": [
    "Tag with potential issues:\n",
    "30.11.2020: \n",
    "*tag 70, a lot of 0 every day!!! \n",
    "*tag 59, 82, 64, 183: low batterie\n",
    "*tag  72: not seen during 18h, and 0LF by satar\n",
    "\n",
    "07.12.2020:\n",
    "*tag 80, 72: no transitions during 89, 142 hours, and no last action during 5326 mn  for tag 80!\n",
    "\n",
    "14-12-2020\n",
    "70: lot of 0!\n",
    "80,72: 0 mvt and/or ni last action\n",
    "\n",
    "--> 80 and 72 changed!!!\n",
    "\n",
    "21-12-2020\n",
    "70: lot of LFCounter=0, up to 82 per day, so perhaps the hen is staying in very specific places inducing this, but perhaps its the Tag, so I prefer changing and seeing if its still having LFCoutner=0\n",
    "80: (pen 8-9) the last update is of 2020-12-03 15:51:40\n",
    "72 (pen 8-9): no movements recorded since \"01.12.2020 10:22\"\n",
    "\n",
    "\n",
    "--> 171 and 180 changed!\n",
    "\n",
    "\n",
    "################### for 12-04 HA\n",
    "08.02.2021\n",
    "tag 10: not mvt!\n",
    "\n",
    "08.03.2021\n",
    "tag 10: not working anymore: no trnasitions at all and LFCounter==0 144 times a day most of the days\n",
    "tag 82: starts to have a lot of LF counter==0 on consecutives days (17, 25, 52, 71, 49, 25, 2)\n",
    "\n",
    "29.03.2021\n",
    "tag 10: not working anymore: no trnasitions at all and LFCounter==0 144 times a day most of the days\n",
    "tag 82: starts to have a lot of LF counter==0 on consecutives days (17, 25, 52, 71, 49, 25, 2)\n",
    "tag 115: BIRD PERDU ON THE 27.03.2021!! 49h sans transition starting on the 2021-03-27 07:48:18 and unusually many LFCounter==0\n",
    "\n",
    "--> to change: tag 10, 82\n",
    "to find bird without backpack: 115 tag, pen 10\n",
    "\n",
    "#################### for end july HA\n",
    "tag 95 on the 2021-04-20, biggest gap of 183.0 mn\n",
    "tag 71: last update: 2021-04-26 03:01:01\t(at least until 10h 26.04) and no more batterie althought we jsut changed it.... we remove it from focal birds\n",
    "S\n",
    "satar: 17-05-2021: Tag 90 last location at 17h39 pen 8-9\n",
    "\n",
    "31-05-2020: \n",
    "tag 9 last location 23.05:6h57 (ceertainly due to batterie)\n",
    "tag 90: last location 17.05 17h39 (ceertainly due to batterie)\n",
    "tag 114: issues from 2021-05-27: huge gap! (ceertainly due to batterie)\n",
    "tag 185: last location 28.05.2021  15:23:13 until  29.05.2021  08:23:16, then du 29-30 again big gap etc : to CHECK if data are corectl filtered!!\n",
    "\n",
    "\n",
    "7.06.2020\n",
    "tag 130: last record timestamp: 2021-06-02 16:44:18, (satar) last action: 2021-06-02 17:04:46 pen 10-12\n",
    "\n",
    "14.06.2021\n",
    "Satar already told:\n",
    "tag 90: no more update\n",
    "tag 124: no more update\n",
    "tag 154 on 11.06 07:22\n",
    "tag 131: 09.06 at 16h43 last action \n",
    "Tag 130: last actin 02.06 at 17h04"
   ]
  },
  {
   "cell_type": "code",
   "execution_count": null,
   "metadata": {},
   "outputs": [],
   "source": []
  },
  {
   "cell_type": "code",
   "execution_count": null,
   "metadata": {},
   "outputs": [],
   "source": []
  },
  {
   "cell_type": "code",
   "execution_count": null,
   "metadata": {},
   "outputs": [],
   "source": []
  },
  {
   "cell_type": "code",
   "execution_count": null,
   "metadata": {},
   "outputs": [],
   "source": []
  },
  {
   "cell_type": "code",
   "execution_count": null,
   "metadata": {},
   "outputs": [],
   "source": []
  },
  {
   "cell_type": "code",
   "execution_count": null,
   "metadata": {},
   "outputs": [],
   "source": []
  },
  {
   "cell_type": "code",
   "execution_count": null,
   "metadata": {},
   "outputs": [],
   "source": []
  },
  {
   "cell_type": "code",
   "execution_count": null,
   "metadata": {},
   "outputs": [],
   "source": []
  }
 ],
 "metadata": {
  "kernelspec": {
   "display_name": "Python 3",
   "language": "python",
   "name": "python3"
  },
  "language_info": {
   "codemirror_mode": {
    "name": "ipython",
    "version": 3
   },
   "file_extension": ".py",
   "mimetype": "text/x-python",
   "name": "python",
   "nbconvert_exporter": "python",
   "pygments_lexer": "ipython3",
   "version": "3.8.5"
  }
 },
 "nbformat": 4,
 "nbformat_minor": 2
}
