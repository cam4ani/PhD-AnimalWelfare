{
 "cells": [
  {
   "cell_type": "code",
   "execution_count": 1,
   "metadata": {
    "scrolled": true
   },
   "outputs": [
    {
     "name": "stderr",
     "output_type": "stream",
     "text": [
      "Warning message:\n",
      "\"package 'MCMCglmm' was built under R version 3.6.3\"\n",
      "Loading required package: Matrix\n",
      "\n",
      "Warning message:\n",
      "\"package 'Matrix' was built under R version 3.6.3\"\n",
      "Loading required package: coda\n",
      "\n",
      "Warning message:\n",
      "\"package 'coda' was built under R version 3.6.3\"\n",
      "Loading required package: ape\n",
      "\n",
      "Warning message:\n",
      "\"package 'ape' was built under R version 3.6.3\"\n",
      "Warning message:\n",
      "\"package 'lme4' was built under R version 3.6.3\"\n",
      "Warning message:\n",
      "\"package 'brms' was built under R version 4.2.0\"\n",
      "Loading required package: Rcpp\n",
      "\n",
      "Warning message:\n",
      "\"package 'Rcpp' was built under R version 3.6.3\"\n",
      "Loading 'brms' package (version 2.16.3). Useful instructions\n",
      "can be found by typing help('brms'). A more detailed introduction\n",
      "to the package is available through vignette('brms_overview').\n",
      "\n",
      "\n",
      "Attaching package: 'brms'\n",
      "\n",
      "\n",
      "The following object is masked from 'package:lme4':\n",
      "\n",
      "    ngrps\n",
      "\n",
      "\n",
      "The following object is masked from 'package:MCMCglmm':\n",
      "\n",
      "    me\n",
      "\n",
      "\n",
      "The following object is masked from 'package:stats':\n",
      "\n",
      "    ar\n",
      "\n",
      "\n",
      "Warning message:\n",
      "\"package 'MuMIn' was built under R version 3.6.3\"\n",
      "\n",
      "Attaching package: 'MuMIn'\n",
      "\n",
      "\n",
      "The following object is masked from 'package:brms':\n",
      "\n",
      "    loo\n",
      "\n",
      "\n",
      "Warning message:\n",
      "\"package 'merTools' was built under R version 3.6.3\"\n",
      "Loading required package: arm\n",
      "\n",
      "Loading required package: MASS\n",
      "\n",
      "Warning message:\n",
      "\"package 'MASS' was built under R version 3.6.3\"\n",
      "\n",
      "arm (Version 1.12-2, built: 2021-10-15)\n",
      "\n",
      "\n",
      "Working directory is C:/Users/camil/Desktop/animals_code/PhD-AnimalWelfare/LOGSverification&Processing&Variables\n",
      "\n",
      "\n",
      "\n",
      "Attaching package: 'arm'\n",
      "\n",
      "\n",
      "The following object is masked from 'package:ape':\n",
      "\n",
      "    balance\n",
      "\n",
      "\n",
      "The following object is masked from 'package:coda':\n",
      "\n",
      "    traceplot\n",
      "\n",
      "\n"
     ]
    }
   ],
   "source": [
    "library(MCMCglmm)\n",
    "library(lme4) #random effect'lmerTest' should be used in place of 'lme4', If lmer model p-values are desired \n",
    "library(brms) #preditability with baysian approach\n",
    "library(ggplot2) #plot\n",
    "library(MuMIn) #r.squaredGLMM\n",
    "library(merTools) #simulations\n",
    "library(optimx) #different optimizer to help model to converge \n",
    "#library(\"posterior\") #not sue I am using it as brms should have it already in its package, althought it is base don this package"
   ]
  },
  {
   "cell_type": "code",
   "execution_count": 2,
   "metadata": {},
   "outputs": [],
   "source": [
    "#citation(\"merTools\")"
   ]
  },
  {
   "cell_type": "code",
   "execution_count": 3,
   "metadata": {},
   "outputs": [],
   "source": [
    "library(parallel)\n",
    "my.cores = detectCores()"
   ]
  },
  {
   "cell_type": "markdown",
   "metadata": {},
   "source": [
    "library(lme4)\n",
    "library(arm)\n",
    "library(MuMIn)\n",
    "library(tidyverse)\n",
    "library(plyr)\n",
    "library(broom)\n",
    "library(coda)\n",
    "library(grid)\n",
    "library(gridExtra)\n",
    "library(brms)\n",
    "library(broom.mixed)\n",
    "library(merTools)\n",
    "library(tidybayes)\n",
    "library(parallel)"
   ]
  },
  {
   "cell_type": "markdown",
   "metadata": {},
   "source": [
    "# Download data"
   ]
  },
  {
   "cell_type": "code",
   "execution_count": 18,
   "metadata": {
    "scrolled": true
   },
   "outputs": [
    {
     "name": "stdout",
     "output_type": "stream",
     "text": [
      "[1] 890   6\n"
     ]
    },
    {
     "data": {
      "text/plain": [
       "     HenID         weight          DIB        FeatherDamage       severity    \n",
       " hen_10 :  6   Min.   : 974   Min.   :  0.0   Min.   : 0.000   Min.   : 0.00  \n",
       " hen_101:  6   1st Qu.:1636   1st Qu.: 55.0   1st Qu.: 0.000   1st Qu.: 0.00  \n",
       " hen_102:  6   Median :1766   Median : 97.0   Median : 7.667   Median :12.00  \n",
       " hen_106:  6   Mean   :1710   Mean   :121.6   Mean   :12.097   Mean   :16.87  \n",
       " hen_107:  6   3rd Qu.:1875   3rd Qu.:195.0   3rd Qu.:20.667   3rd Qu.:30.00  \n",
       " hen_109:  6   Max.   :2331   Max.   :299.0   Max.   :66.333   Max.   :84.00  \n",
       " (Other):854   NA's   :49                     NA's   :159                     \n",
       "      DOA       \n",
       " Min.   :173.0  \n",
       " 1st Qu.:215.0  \n",
       " Median :243.0  \n",
       " Mean   :265.4  \n",
       " 3rd Qu.:313.0  \n",
       " Max.   :417.0  \n",
       " NA's   :156    "
      ]
     },
     "metadata": {},
     "output_type": "display_data"
    },
    {
     "data": {
      "text/html": [
       "<table class=\"dataframe\">\n",
       "<caption>A data.frame: 3 × 6</caption>\n",
       "<thead>\n",
       "\t<tr><th></th><th scope=col>HenID</th><th scope=col>weight</th><th scope=col>DIB</th><th scope=col>FeatherDamage</th><th scope=col>severity</th><th scope=col>DOA</th></tr>\n",
       "\t<tr><th></th><th scope=col>&lt;fct&gt;</th><th scope=col>&lt;dbl&gt;</th><th scope=col>&lt;int&gt;</th><th scope=col>&lt;dbl&gt;</th><th scope=col>&lt;int&gt;</th><th scope=col>&lt;dbl&gt;</th></tr>\n",
       "</thead>\n",
       "<tbody>\n",
       "\t<tr><th scope=row>1</th><td>hen_1  </td><td>1134</td><td>0</td><td>0</td><td>0</td><td>NA</td></tr>\n",
       "\t<tr><th scope=row>2</th><td>hen_10 </td><td>1070</td><td>0</td><td>0</td><td>0</td><td>NA</td></tr>\n",
       "\t<tr><th scope=row>3</th><td>hen_101</td><td>1082</td><td>0</td><td>0</td><td>0</td><td>NA</td></tr>\n",
       "</tbody>\n",
       "</table>\n"
      ],
      "text/latex": [
       "A data.frame: 3 × 6\n",
       "\\begin{tabular}{r|llllll}\n",
       "  & HenID & weight & DIB & FeatherDamage & severity & DOA\\\\\n",
       "  & <fct> & <dbl> & <int> & <dbl> & <int> & <dbl>\\\\\n",
       "\\hline\n",
       "\t1 & hen\\_1   & 1134 & 0 & 0 & 0 & NA\\\\\n",
       "\t2 & hen\\_10  & 1070 & 0 & 0 & 0 & NA\\\\\n",
       "\t3 & hen\\_101 & 1082 & 0 & 0 & 0 & NA\\\\\n",
       "\\end{tabular}\n"
      ],
      "text/markdown": [
       "\n",
       "A data.frame: 3 × 6\n",
       "\n",
       "| <!--/--> | HenID &lt;fct&gt; | weight &lt;dbl&gt; | DIB &lt;int&gt; | FeatherDamage &lt;dbl&gt; | severity &lt;int&gt; | DOA &lt;dbl&gt; |\n",
       "|---|---|---|---|---|---|---|\n",
       "| 1 | hen_1   | 1134 | 0 | 0 | 0 | NA |\n",
       "| 2 | hen_10  | 1070 | 0 | 0 | 0 | NA |\n",
       "| 3 | hen_101 | 1082 | 0 | 0 | 0 | NA |\n",
       "\n"
      ],
      "text/plain": [
       "  HenID   weight DIB FeatherDamage severity DOA\n",
       "1 hen_1   1134   0   0             0        NA \n",
       "2 hen_10  1070   0   0             0        NA \n",
       "3 hen_101 1082   0   0             0        NA "
      ]
     },
     "metadata": {},
     "output_type": "display_data"
    }
   ],
   "source": [
    "#focal birds information (one row per focal bird)\n",
    "path_ = 'G:/VPHI/Welfare/2- Research Projects/OFHE2.OriginsE2/DataOutput/TrackingSystem/ALLDATA_'\n",
    "df = read.csv(file.path(path_,'df_hablups.csv'), header = TRUE, sep = \",\")\n",
    "df$HenID = as.factor(df$HenID)   \n",
    "df$DIB = as.integer(df$DIB) \n",
    "print(dim(df))\n",
    "summary(df)\n",
    "head(df,3)"
   ]
  },
  {
   "cell_type": "code",
   "execution_count": 19,
   "metadata": {},
   "outputs": [
    {
     "data": {
      "text/html": [
       "<table class=\"dataframe\">\n",
       "<caption>A data.frame: 3 × 2</caption>\n",
       "<thead>\n",
       "\t<tr><th></th><th scope=col>HenID</th><th scope=col>DIB</th></tr>\n",
       "\t<tr><th></th><th scope=col>&lt;fct&gt;</th><th scope=col>&lt;int&gt;</th></tr>\n",
       "</thead>\n",
       "<tbody>\n",
       "\t<tr><th scope=row>1</th><td>hen_1  </td><td>0</td></tr>\n",
       "\t<tr><th scope=row>2</th><td>hen_10 </td><td>0</td></tr>\n",
       "\t<tr><th scope=row>3</th><td>hen_101</td><td>0</td></tr>\n",
       "</tbody>\n",
       "</table>\n"
      ],
      "text/latex": [
       "A data.frame: 3 × 2\n",
       "\\begin{tabular}{r|ll}\n",
       "  & HenID & DIB\\\\\n",
       "  & <fct> & <int>\\\\\n",
       "\\hline\n",
       "\t1 & hen\\_1   & 0\\\\\n",
       "\t2 & hen\\_10  & 0\\\\\n",
       "\t3 & hen\\_101 & 0\\\\\n",
       "\\end{tabular}\n"
      ],
      "text/markdown": [
       "\n",
       "A data.frame: 3 × 2\n",
       "\n",
       "| <!--/--> | HenID &lt;fct&gt; | DIB &lt;int&gt; |\n",
       "|---|---|---|\n",
       "| 1 | hen_1   | 0 |\n",
       "| 2 | hen_10  | 0 |\n",
       "| 3 | hen_101 | 0 |\n",
       "\n"
      ],
      "text/plain": [
       "  HenID   DIB\n",
       "1 hen_1   0  \n",
       "2 hen_10  0  \n",
       "3 hen_101 0  "
      ]
     },
     "metadata": {},
     "output_type": "display_data"
    }
   ],
   "source": [
    "df_2predict = expand.grid( HenID=unique(df$HenID), \n",
    "                                DIB=unique(df$DIB)) \n",
    "#seq(from=min(df$DIB), to=max(df$DIB), length.out = max(df$DIB)-min(df$DIB)+1), \n",
    "df_2predict$DIB = as.integer(df_2predict$DIB) \n",
    "df_2predict$HenID = as.factor(df_2predict$HenID)   \n",
    "head(df_2predict,3)"
   ]
  },
  {
   "cell_type": "code",
   "execution_count": 20,
   "metadata": {},
   "outputs": [
    {
     "data": {
      "text/html": [
       "156"
      ],
      "text/latex": [
       "156"
      ],
      "text/markdown": [
       "156"
      ],
      "text/plain": [
       "[1] 156"
      ]
     },
     "metadata": {},
     "output_type": "display_data"
    }
   ],
   "source": [
    "length(unique(df[['HenID']]))"
   ]
  },
  {
   "cell_type": "markdown",
   "metadata": {},
   "source": [
    "# Weight estimates"
   ]
  },
  {
   "cell_type": "code",
   "execution_count": 21,
   "metadata": {},
   "outputs": [
    {
     "data": {
      "text/plain": [
       "Linear mixed model fit by maximum likelihood . t-tests use Satterthwaite's\n",
       "  method [lmerModLmerTest]\n",
       "Formula: weight ~ DIB + (1 | HenID)\n",
       "   Data: df\n",
       "\n",
       "     AIC      BIC   logLik deviance df.resid \n",
       "   11220    11239    -5606    11212      837 \n",
       "\n",
       "Scaled residuals: \n",
       "    Min      1Q  Median      3Q     Max \n",
       "-2.3439 -0.6094  0.2953  0.7267  1.9304 \n",
       "\n",
       "Random effects:\n",
       " Groups   Name        Variance Std.Dev.\n",
       " HenID    (Intercept)  5955     77.17  \n",
       " Residual             31718    178.10  \n",
       "Number of obs: 841, groups:  HenID, 156\n",
       "\n",
       "Fixed effects:\n",
       "             Estimate Std. Error        df t value Pr(>|t|)    \n",
       "(Intercept) 1.466e+03  1.216e+01 4.783e+02  120.55   <2e-16 ***\n",
       "DIB         1.929e+00  6.695e-02 7.269e+02   28.81   <2e-16 ***\n",
       "---\n",
       "Signif. codes:  0 '***' 0.001 '**' 0.01 '*' 0.05 '.' 0.1 ' ' 1\n",
       "\n",
       "Correlation of Fixed Effects:\n",
       "    (Intr)\n",
       "DIB -0.696"
      ]
     },
     "metadata": {},
     "output_type": "display_data"
    },
    {
     "data": {
      "text/html": [
       "<table class=\"dataframe\">\n",
       "<caption>A matrix: 1 × 2 of type dbl</caption>\n",
       "<thead>\n",
       "\t<tr><th scope=col>R2m</th><th scope=col>R2c</th></tr>\n",
       "</thead>\n",
       "<tbody>\n",
       "\t<tr><td>0.4608021</td><td>0.546027</td></tr>\n",
       "</tbody>\n",
       "</table>\n"
      ],
      "text/latex": [
       "A matrix: 1 × 2 of type dbl\n",
       "\\begin{tabular}{ll}\n",
       " R2m & R2c\\\\\n",
       "\\hline\n",
       "\t 0.4608021 & 0.546027\\\\\n",
       "\\end{tabular}\n"
      ],
      "text/markdown": [
       "\n",
       "A matrix: 1 × 2 of type dbl\n",
       "\n",
       "| R2m | R2c |\n",
       "|---|---|\n",
       "| 0.4608021 | 0.546027 |\n",
       "\n"
      ],
      "text/plain": [
       "     R2m       R2c     \n",
       "[1,] 0.4608021 0.546027"
      ]
     },
     "metadata": {},
     "output_type": "display_data"
    },
    {
     "data": {
      "image/png": "[encoded data removed]",
      "text/plain": [
       "Plot with title \"Normal Q-Q Plot\""
      ]
     },
     "metadata": {
      "image/png": {
       "height": 420,
       "width": 420
      }
     },
     "output_type": "display_data"
    },
    {
     "data": {
      "image/png": "[encoded data removed]",
      "text/plain": [
       "Plot with title \"Histogram of resid(MAVG1)\""
      ]
     },
     "metadata": {
      "image/png": {
       "height": 420,
       "width": 420
      }
     },
     "output_type": "display_data"
    },
    {
     "data": {
      "image/png": "[encoded data removed]",
      "text/plain": [
       "plot without title"
      ]
     },
     "metadata": {
      "image/png": {
       "height": 420,
       "width": 420
      }
     },
     "output_type": "display_data"
    }
   ],
   "source": [
    "MAVG1 = lmerTest::lmer(weight ~ DIB + (1|HenID), REML=FALSE, data=df)\n",
    "summary(MAVG1)\n",
    "r.squaredGLMM(MAVG1)\n",
    "###### normally distributed residuals\n",
    "qqnorm(resid(MAVG1))\n",
    "qqline(resid(MAVG1))\n",
    "hist(resid(MAVG1))\n",
    "######check homogeneity of variance (residuals has constant variance)\n",
    "plot(MAVG1)"
   ]
  },
  {
   "cell_type": "code",
   "execution_count": 23,
   "metadata": {},
   "outputs": [
    {
     "data": {
      "text/plain": [
       "Linear mixed model fit by maximum likelihood . t-tests use Satterthwaite's\n",
       "  method [lmerModLmerTest]\n",
       "Formula: weight ~ poly(DIB, degree = 3) + (1 | HenID)\n",
       "   Data: df\n",
       "Control: lmerControl(optimizer = \"optimx\", optCtrl = list(method = \"nlminb\"))\n",
       "\n",
       "     AIC      BIC   logLik deviance df.resid \n",
       "  9929.1   9957.5  -4958.5   9917.1      835 \n",
       "\n",
       "Scaled residuals: \n",
       "    Min      1Q  Median      3Q     Max \n",
       "-4.1347 -0.5957 -0.0316  0.5826  3.9679 \n",
       "\n",
       "Random effects:\n",
       " Groups   Name        Variance Std.Dev.\n",
       " HenID    (Intercept) 10296    101.47  \n",
       " Residual              4857     69.69  \n",
       "Number of obs: 841, groups:  HenID, 156\n",
       "\n",
       "Fixed effects:\n",
       "                       Estimate Std. Error       df t value Pr(>|t|)    \n",
       "(Intercept)             1691.36       8.48   156.60  199.44   <2e-16 ***\n",
       "poly(DIB, degree = 3)1  5787.21      74.42   693.50   77.77   <2e-16 ***\n",
       "poly(DIB, degree = 3)2 -4214.59      73.80   687.75  -57.11   <2e-16 ***\n",
       "poly(DIB, degree = 3)3  1973.68      71.94   687.43   27.43   <2e-16 ***\n",
       "---\n",
       "Signif. codes:  0 '***' 0.001 '**' 0.01 '*' 0.05 '.' 0.1 ' ' 1\n",
       "\n",
       "Correlation of Fixed Effects:\n",
       "            (Intr) p(DIB,d=3)1 p(DIB,d=3)2\n",
       "p(DIB,d=3)1 -0.015                        \n",
       "p(DIB,d=3)2  0.016 -0.077                 \n",
       "p(DIB,d=3)3 -0.009  0.053      -0.073     "
      ]
     },
     "metadata": {},
     "output_type": "display_data"
    },
    {
     "data": {
      "text/html": [
       "<table class=\"dataframe\">\n",
       "<caption>A matrix: 1 × 2 of type dbl</caption>\n",
       "<thead>\n",
       "\t<tr><th scope=col>R2m</th><th scope=col>R2c</th></tr>\n",
       "</thead>\n",
       "<tbody>\n",
       "\t<tr><td>0.7837855</td><td>0.9306963</td></tr>\n",
       "</tbody>\n",
       "</table>\n"
      ],
      "text/latex": [
       "A matrix: 1 × 2 of type dbl\n",
       "\\begin{tabular}{ll}\n",
       " R2m & R2c\\\\\n",
       "\\hline\n",
       "\t 0.7837855 & 0.9306963\\\\\n",
       "\\end{tabular}\n"
      ],
      "text/markdown": [
       "\n",
       "A matrix: 1 × 2 of type dbl\n",
       "\n",
       "| R2m | R2c |\n",
       "|---|---|\n",
       "| 0.7837855 | 0.9306963 |\n",
       "\n"
      ],
      "text/plain": [
       "     R2m       R2c      \n",
       "[1,] 0.7837855 0.9306963"
      ]
     },
     "metadata": {},
     "output_type": "display_data"
    },
    {
     "data": {
      "image/png": "[encoded data removed]",
      "text/plain": [
       "Plot with title \"Normal Q-Q Plot\""
      ]
     },
     "metadata": {
      "image/png": {
       "height": 420,
       "width": 420
      }
     },
     "output_type": "display_data"
    },
    {
     "data": {
      "image/png": "[encoded data removed]",
      "text/plain": [
       "Plot with title \"Histogram of resid(MAVG2)\""
      ]
     },
     "metadata": {
      "image/png": {
       "height": 420,
       "width": 420
      }
     },
     "output_type": "display_data"
    },
    {
     "data": {
      "image/png": "[encoded data removed]",
      "text/plain": [
       "plot without title"
      ]
     },
     "metadata": {
      "image/png": {
       "height": 420,
       "width": 420
      }
     },
     "output_type": "display_data"
    }
   ],
   "source": [
    "#we use raw=TRUE to be comparable, but then we will set it to FALSE to avoid collineartiy issues\n",
    "#poly(cDIB, 2, raw = FALSE)1 is the slope coefficient of the quadratic function \n",
    "#poly(cDIB, 2, raw = FALSE)2 is the quadratic coefficient of the quadratic functionthat reflects the curvature of the regression\n",
    "MAVG2 = lmerTest::lmer(weight ~ poly(DIB,degree=3) + (1|HenID), REML=FALSE, data = df,\n",
    "                      control = lmerControl(optimizer ='optimx', optCtrl=list(method='nlminb')))\n",
    "summary(MAVG2)\n",
    "r.squaredGLMM(MAVG2)\n",
    "###### normally distributed residuals\n",
    "qqnorm(resid(MAVG2))\n",
    "qqline(resid(MAVG2))\n",
    "hist(resid(MAVG2))\n",
    "######check homogeneity of variance (residuals has constant variance)\n",
    "plot(MAVG2)"
   ]
  },
  {
   "cell_type": "code",
   "execution_count": 24,
   "metadata": {
    "scrolled": true
   },
   "outputs": [
    {
     "data": {
      "text/html": [
       "<table class=\"dataframe\">\n",
       "<caption>A data.frame: 936 × 3</caption>\n",
       "<thead>\n",
       "\t<tr><th scope=col>HenID</th><th scope=col>DIB</th><th scope=col>predictedWeight</th></tr>\n",
       "\t<tr><th scope=col>&lt;fct&gt;</th><th scope=col>&lt;int&gt;</th><th scope=col>&lt;dbl&gt;</th></tr>\n",
       "</thead>\n",
       "<tbody>\n",
       "\t<tr><td>hen_1  </td><td>0</td><td>1173.263</td></tr>\n",
       "\t<tr><td>hen_10 </td><td>0</td><td>1010.102</td></tr>\n",
       "\t<tr><td>hen_101</td><td>0</td><td>1104.451</td></tr>\n",
       "\t<tr><td>hen_102</td><td>0</td><td>1355.434</td></tr>\n",
       "\t<tr><td>hen_105</td><td>0</td><td>1111.072</td></tr>\n",
       "\t<tr><td>hen_106</td><td>0</td><td>1189.853</td></tr>\n",
       "\t<tr><td>hen_107</td><td>0</td><td>1237.460</td></tr>\n",
       "\t<tr><td>hen_108</td><td>0</td><td>1152.248</td></tr>\n",
       "\t<tr><td>hen_109</td><td>0</td><td>1074.598</td></tr>\n",
       "\t<tr><td>hen_111</td><td>0</td><td>1031.902</td></tr>\n",
       "\t<tr><td>hen_112</td><td>0</td><td>1245.773</td></tr>\n",
       "\t<tr><td>hen_113</td><td>0</td><td>1276.468</td></tr>\n",
       "\t<tr><td>hen_115</td><td>0</td><td>1158.238</td></tr>\n",
       "\t<tr><td>hen_116</td><td>0</td><td>1219.690</td></tr>\n",
       "\t<tr><td>hen_118</td><td>0</td><td>1085.893</td></tr>\n",
       "\t<tr><td>hen_119</td><td>0</td><td>1226.783</td></tr>\n",
       "\t<tr><td>hen_12 </td><td>0</td><td>1259.963</td></tr>\n",
       "\t<tr><td>hen_120</td><td>0</td><td>1148.056</td></tr>\n",
       "\t<tr><td>hen_122</td><td>0</td><td>1243.575</td></tr>\n",
       "\t<tr><td>hen_123</td><td>0</td><td>1138.712</td></tr>\n",
       "\t<tr><td>hen_124</td><td>0</td><td>1175.730</td></tr>\n",
       "\t<tr><td>hen_126</td><td>0</td><td>1263.541</td></tr>\n",
       "\t<tr><td>hen_127</td><td>0</td><td>1090.730</td></tr>\n",
       "\t<tr><td>hen_128</td><td>0</td><td>1257.872</td></tr>\n",
       "\t<tr><td>hen_13 </td><td>0</td><td>1000.769</td></tr>\n",
       "\t<tr><td>hen_131</td><td>0</td><td>1221.678</td></tr>\n",
       "\t<tr><td>hen_133</td><td>0</td><td>1246.134</td></tr>\n",
       "\t<tr><td>hen_134</td><td>0</td><td>1111.497</td></tr>\n",
       "\t<tr><td>hen_136</td><td>0</td><td>1372.076</td></tr>\n",
       "\t<tr><td>hen_137</td><td>0</td><td>1072.533</td></tr>\n",
       "\t<tr><td>...</td><td>...</td><td>...</td></tr>\n",
       "\t<tr><td>hen_69</td><td>195</td><td>1914.697</td></tr>\n",
       "\t<tr><td>hen_7 </td><td>195</td><td>1966.059</td></tr>\n",
       "\t<tr><td>hen_71</td><td>195</td><td>1883.909</td></tr>\n",
       "\t<tr><td>hen_72</td><td>195</td><td>1783.388</td></tr>\n",
       "\t<tr><td>hen_73</td><td>195</td><td>1848.749</td></tr>\n",
       "\t<tr><td>hen_75</td><td>195</td><td>1754.721</td></tr>\n",
       "\t<tr><td>hen_76</td><td>195</td><td>1990.938</td></tr>\n",
       "\t<tr><td>hen_77</td><td>195</td><td>1830.419</td></tr>\n",
       "\t<tr><td>hen_78</td><td>195</td><td>1637.754</td></tr>\n",
       "\t<tr><td>hen_79</td><td>195</td><td>1990.704</td></tr>\n",
       "\t<tr><td>hen_8 </td><td>195</td><td>1849.104</td></tr>\n",
       "\t<tr><td>hen_80</td><td>195</td><td>1951.611</td></tr>\n",
       "\t<tr><td>hen_81</td><td>195</td><td>1862.803</td></tr>\n",
       "\t<tr><td>hen_82</td><td>195</td><td>1870.059</td></tr>\n",
       "\t<tr><td>hen_83</td><td>195</td><td>1855.408</td></tr>\n",
       "\t<tr><td>hen_84</td><td>195</td><td>1934.954</td></tr>\n",
       "\t<tr><td>hen_85</td><td>195</td><td>1955.629</td></tr>\n",
       "\t<tr><td>hen_86</td><td>195</td><td>1825.978</td></tr>\n",
       "\t<tr><td>hen_87</td><td>195</td><td>1926.765</td></tr>\n",
       "\t<tr><td>hen_89</td><td>195</td><td>1910.064</td></tr>\n",
       "\t<tr><td>hen_9 </td><td>195</td><td>1644.090</td></tr>\n",
       "\t<tr><td>hen_90</td><td>195</td><td>1749.363</td></tr>\n",
       "\t<tr><td>hen_92</td><td>195</td><td>1763.764</td></tr>\n",
       "\t<tr><td>hen_93</td><td>195</td><td>1775.384</td></tr>\n",
       "\t<tr><td>hen_94</td><td>195</td><td>1931.556</td></tr>\n",
       "\t<tr><td>hen_95</td><td>195</td><td>1882.712</td></tr>\n",
       "\t<tr><td>hen_96</td><td>195</td><td>1915.099</td></tr>\n",
       "\t<tr><td>hen_97</td><td>195</td><td>1853.384</td></tr>\n",
       "\t<tr><td>hen_98</td><td>195</td><td>1777.624</td></tr>\n",
       "\t<tr><td>hen_99</td><td>195</td><td>1756.841</td></tr>\n",
       "</tbody>\n",
       "</table>\n"
      ],
      "text/latex": [
       "A data.frame: 936 × 3\n",
       "\\begin{tabular}{lll}\n",
       " HenID & DIB & predictedWeight\\\\\n",
       " <fct> & <int> & <dbl>\\\\\n",
       "\\hline\n",
       "\t hen\\_1   & 0 & 1173.263\\\\\n",
       "\t hen\\_10  & 0 & 1010.102\\\\\n",
       "\t hen\\_101 & 0 & 1104.451\\\\\n",
       "\t hen\\_102 & 0 & 1355.434\\\\\n",
       "\t hen\\_105 & 0 & 1111.072\\\\\n",
       "\t hen\\_106 & 0 & 1189.853\\\\\n",
       "\t hen\\_107 & 0 & 1237.460\\\\\n",
       "\t hen\\_108 & 0 & 1152.248\\\\\n",
       "\t hen\\_109 & 0 & 1074.598\\\\\n",
       "\t hen\\_111 & 0 & 1031.902\\\\\n",
       "\t hen\\_112 & 0 & 1245.773\\\\\n",
       "\t hen\\_113 & 0 & 1276.468\\\\\n",
       "\t hen\\_115 & 0 & 1158.238\\\\\n",
       "\t hen\\_116 & 0 & 1219.690\\\\\n",
       "\t hen\\_118 & 0 & 1085.893\\\\\n",
       "\t hen\\_119 & 0 & 1226.783\\\\\n",
       "\t hen\\_12  & 0 & 1259.963\\\\\n",
       "\t hen\\_120 & 0 & 1148.056\\\\\n",
       "\t hen\\_122 & 0 & 1243.575\\\\\n",
       "\t hen\\_123 & 0 & 1138.712\\\\\n",
       "\t hen\\_124 & 0 & 1175.730\\\\\n",
       "\t hen\\_126 & 0 & 1263.541\\\\\n",
       "\t hen\\_127 & 0 & 1090.730\\\\\n",
       "\t hen\\_128 & 0 & 1257.872\\\\\n",
       "\t hen\\_13  & 0 & 1000.769\\\\\n",
       "\t hen\\_131 & 0 & 1221.678\\\\\n",
       "\t hen\\_133 & 0 & 1246.134\\\\\n",
       "\t hen\\_134 & 0 & 1111.497\\\\\n",
       "\t hen\\_136 & 0 & 1372.076\\\\\n",
       "\t hen\\_137 & 0 & 1072.533\\\\\n",
       "\t ... & ... & ...\\\\\n",
       "\t hen\\_69 & 195 & 1914.697\\\\\n",
       "\t hen\\_7  & 195 & 1966.059\\\\\n",
       "\t hen\\_71 & 195 & 1883.909\\\\\n",
       "\t hen\\_72 & 195 & 1783.388\\\\\n",
       "\t hen\\_73 & 195 & 1848.749\\\\\n",
       "\t hen\\_75 & 195 & 1754.721\\\\\n",
       "\t hen\\_76 & 195 & 1990.938\\\\\n",
       "\t hen\\_77 & 195 & 1830.419\\\\\n",
       "\t hen\\_78 & 195 & 1637.754\\\\\n",
       "\t hen\\_79 & 195 & 1990.704\\\\\n",
       "\t hen\\_8  & 195 & 1849.104\\\\\n",
       "\t hen\\_80 & 195 & 1951.611\\\\\n",
       "\t hen\\_81 & 195 & 1862.803\\\\\n",
       "\t hen\\_82 & 195 & 1870.059\\\\\n",
       "\t hen\\_83 & 195 & 1855.408\\\\\n",
       "\t hen\\_84 & 195 & 1934.954\\\\\n",
       "\t hen\\_85 & 195 & 1955.629\\\\\n",
       "\t hen\\_86 & 195 & 1825.978\\\\\n",
       "\t hen\\_87 & 195 & 1926.765\\\\\n",
       "\t hen\\_89 & 195 & 1910.064\\\\\n",
       "\t hen\\_9  & 195 & 1644.090\\\\\n",
       "\t hen\\_90 & 195 & 1749.363\\\\\n",
       "\t hen\\_92 & 195 & 1763.764\\\\\n",
       "\t hen\\_93 & 195 & 1775.384\\\\\n",
       "\t hen\\_94 & 195 & 1931.556\\\\\n",
       "\t hen\\_95 & 195 & 1882.712\\\\\n",
       "\t hen\\_96 & 195 & 1915.099\\\\\n",
       "\t hen\\_97 & 195 & 1853.384\\\\\n",
       "\t hen\\_98 & 195 & 1777.624\\\\\n",
       "\t hen\\_99 & 195 & 1756.841\\\\\n",
       "\\end{tabular}\n"
      ],
      "text/markdown": [
       "\n",
       "A data.frame: 936 × 3\n",
       "\n",
       "| HenID &lt;fct&gt; | DIB &lt;int&gt; | predictedWeight &lt;dbl&gt; |\n",
       "|---|---|---|\n",
       "| hen_1   | 0 | 1173.263 |\n",
       "| hen_10  | 0 | 1010.102 |\n",
       "| hen_101 | 0 | 1104.451 |\n",
       "| hen_102 | 0 | 1355.434 |\n",
       "| hen_105 | 0 | 1111.072 |\n",
       "| hen_106 | 0 | 1189.853 |\n",
       "| hen_107 | 0 | 1237.460 |\n",
       "| hen_108 | 0 | 1152.248 |\n",
       "| hen_109 | 0 | 1074.598 |\n",
       "| hen_111 | 0 | 1031.902 |\n",
       "| hen_112 | 0 | 1245.773 |\n",
       "| hen_113 | 0 | 1276.468 |\n",
       "| hen_115 | 0 | 1158.238 |\n",
       "| hen_116 | 0 | 1219.690 |\n",
       "| hen_118 | 0 | 1085.893 |\n",
       "| hen_119 | 0 | 1226.783 |\n",
       "| hen_12  | 0 | 1259.963 |\n",
       "| hen_120 | 0 | 1148.056 |\n",
       "| hen_122 | 0 | 1243.575 |\n",
       "| hen_123 | 0 | 1138.712 |\n",
       "| hen_124 | 0 | 1175.730 |\n",
       "| hen_126 | 0 | 1263.541 |\n",
       "| hen_127 | 0 | 1090.730 |\n",
       "| hen_128 | 0 | 1257.872 |\n",
       "| hen_13  | 0 | 1000.769 |\n",
       "| hen_131 | 0 | 1221.678 |\n",
       "| hen_133 | 0 | 1246.134 |\n",
       "| hen_134 | 0 | 1111.497 |\n",
       "| hen_136 | 0 | 1372.076 |\n",
       "| hen_137 | 0 | 1072.533 |\n",
       "| ... | ... | ... |\n",
       "| hen_69 | 195 | 1914.697 |\n",
       "| hen_7  | 195 | 1966.059 |\n",
       "| hen_71 | 195 | 1883.909 |\n",
       "| hen_72 | 195 | 1783.388 |\n",
       "| hen_73 | 195 | 1848.749 |\n",
       "| hen_75 | 195 | 1754.721 |\n",
       "| hen_76 | 195 | 1990.938 |\n",
       "| hen_77 | 195 | 1830.419 |\n",
       "| hen_78 | 195 | 1637.754 |\n",
       "| hen_79 | 195 | 1990.704 |\n",
       "| hen_8  | 195 | 1849.104 |\n",
       "| hen_80 | 195 | 1951.611 |\n",
       "| hen_81 | 195 | 1862.803 |\n",
       "| hen_82 | 195 | 1870.059 |\n",
       "| hen_83 | 195 | 1855.408 |\n",
       "| hen_84 | 195 | 1934.954 |\n",
       "| hen_85 | 195 | 1955.629 |\n",
       "| hen_86 | 195 | 1825.978 |\n",
       "| hen_87 | 195 | 1926.765 |\n",
       "| hen_89 | 195 | 1910.064 |\n",
       "| hen_9  | 195 | 1644.090 |\n",
       "| hen_90 | 195 | 1749.363 |\n",
       "| hen_92 | 195 | 1763.764 |\n",
       "| hen_93 | 195 | 1775.384 |\n",
       "| hen_94 | 195 | 1931.556 |\n",
       "| hen_95 | 195 | 1882.712 |\n",
       "| hen_96 | 195 | 1915.099 |\n",
       "| hen_97 | 195 | 1853.384 |\n",
       "| hen_98 | 195 | 1777.624 |\n",
       "| hen_99 | 195 | 1756.841 |\n",
       "\n"
      ],
      "text/plain": [
       "    HenID   DIB predictedWeight\n",
       "1   hen_1   0   1173.263       \n",
       "2   hen_10  0   1010.102       \n",
       "3   hen_101 0   1104.451       \n",
       "4   hen_102 0   1355.434       \n",
       "5   hen_105 0   1111.072       \n",
       "6   hen_106 0   1189.853       \n",
       "7   hen_107 0   1237.460       \n",
       "8   hen_108 0   1152.248       \n",
       "9   hen_109 0   1074.598       \n",
       "10  hen_111 0   1031.902       \n",
       "11  hen_112 0   1245.773       \n",
       "12  hen_113 0   1276.468       \n",
       "13  hen_115 0   1158.238       \n",
       "14  hen_116 0   1219.690       \n",
       "15  hen_118 0   1085.893       \n",
       "16  hen_119 0   1226.783       \n",
       "17  hen_12  0   1259.963       \n",
       "18  hen_120 0   1148.056       \n",
       "19  hen_122 0   1243.575       \n",
       "20  hen_123 0   1138.712       \n",
       "21  hen_124 0   1175.730       \n",
       "22  hen_126 0   1263.541       \n",
       "23  hen_127 0   1090.730       \n",
       "24  hen_128 0   1257.872       \n",
       "25  hen_13  0   1000.769       \n",
       "26  hen_131 0   1221.678       \n",
       "27  hen_133 0   1246.134       \n",
       "28  hen_134 0   1111.497       \n",
       "29  hen_136 0   1372.076       \n",
       "30  hen_137 0   1072.533       \n",
       "... ...     ... ...            \n",
       "907 hen_69  195 1914.697       \n",
       "908 hen_7   195 1966.059       \n",
       "909 hen_71  195 1883.909       \n",
       "910 hen_72  195 1783.388       \n",
       "911 hen_73  195 1848.749       \n",
       "912 hen_75  195 1754.721       \n",
       "913 hen_76  195 1990.938       \n",
       "914 hen_77  195 1830.419       \n",
       "915 hen_78  195 1637.754       \n",
       "916 hen_79  195 1990.704       \n",
       "917 hen_8   195 1849.104       \n",
       "918 hen_80  195 1951.611       \n",
       "919 hen_81  195 1862.803       \n",
       "920 hen_82  195 1870.059       \n",
       "921 hen_83  195 1855.408       \n",
       "922 hen_84  195 1934.954       \n",
       "923 hen_85  195 1955.629       \n",
       "924 hen_86  195 1825.978       \n",
       "925 hen_87  195 1926.765       \n",
       "926 hen_89  195 1910.064       \n",
       "927 hen_9   195 1644.090       \n",
       "928 hen_90  195 1749.363       \n",
       "929 hen_92  195 1763.764       \n",
       "930 hen_93  195 1775.384       \n",
       "931 hen_94  195 1931.556       \n",
       "932 hen_95  195 1882.712       \n",
       "933 hen_96  195 1915.099       \n",
       "934 hen_97  195 1853.384       \n",
       "935 hen_98  195 1777.624       \n",
       "936 hen_99  195 1756.841       "
      ]
     },
     "metadata": {},
     "output_type": "display_data"
    }
   ],
   "source": [
    "df_2predict$predictedWeight = predict(MAVG2, newdata=df_2predict, re.form = NULL, allow.new.levels = TRUE)\n",
    "df_2predict"
   ]
  },
  {
   "cell_type": "markdown",
   "metadata": {},
   "source": [
    "# KBF severity"
   ]
  },
  {
   "cell_type": "code",
   "execution_count": 27,
   "metadata": {},
   "outputs": [
    {
     "data": {
      "text/plain": [
       "Linear mixed model fit by maximum likelihood . t-tests use Satterthwaite's\n",
       "  method [lmerModLmerTest]\n",
       "Formula: severity ~ poly(DIB, degree = 3) + (1 | HenID)\n",
       "   Data: df\n",
       "Control: lmerControl(optimizer = \"optimx\", optCtrl = list(method = \"nlminb\"))\n",
       "\n",
       "     AIC      BIC   logLik deviance df.resid \n",
       "  7002.0   7030.7  -3495.0   6990.0      884 \n",
       "\n",
       "Scaled residuals: \n",
       "    Min      1Q  Median      3Q     Max \n",
       "-2.5377 -0.6235 -0.0885  0.5145  4.4207 \n",
       "\n",
       "Random effects:\n",
       " Groups   Name        Variance Std.Dev.\n",
       " HenID    (Intercept)  65.57    8.097  \n",
       " Residual             117.43   10.836  \n",
       "Number of obs: 890, groups:  HenID, 156\n",
       "\n",
       "Fixed effects:\n",
       "                       Estimate Std. Error       df t value Pr(>|t|)    \n",
       "(Intercept)             16.9591     0.7441 155.7313  22.791  < 2e-16 ***\n",
       "poly(DIB, degree = 3)1 356.3163    10.9655 747.1656  32.494  < 2e-16 ***\n",
       "poly(DIB, degree = 3)2 -47.2193    10.8665 736.9093  -4.345 1.59e-05 ***\n",
       "poly(DIB, degree = 3)3 -12.4149    10.8611 736.6542  -1.143    0.253    \n",
       "---\n",
       "Signif. codes:  0 '***' 0.001 '**' 0.01 '*' 0.05 '.' 0.1 ' ' 1\n",
       "\n",
       "Correlation of Fixed Effects:\n",
       "            (Intr) p(DIB,d=3)1 p(DIB,d=3)2\n",
       "p(DIB,d=3)1  0.008                        \n",
       "p(DIB,d=3)2  0.003  0.009                 \n",
       "p(DIB,d=3)3 -0.002 -0.004       0.001     "
      ]
     },
     "metadata": {},
     "output_type": "display_data"
    },
    {
     "data": {
      "text/html": [
       "<table class=\"dataframe\">\n",
       "<caption>A matrix: 1 × 2 of type dbl</caption>\n",
       "<thead>\n",
       "\t<tr><th scope=col>R2m</th><th scope=col>R2c</th></tr>\n",
       "</thead>\n",
       "<tbody>\n",
       "\t<tr><td>0.4429263</td><td>0.6425253</td></tr>\n",
       "</tbody>\n",
       "</table>\n"
      ],
      "text/latex": [
       "A matrix: 1 × 2 of type dbl\n",
       "\\begin{tabular}{ll}\n",
       " R2m & R2c\\\\\n",
       "\\hline\n",
       "\t 0.4429263 & 0.6425253\\\\\n",
       "\\end{tabular}\n"
      ],
      "text/markdown": [
       "\n",
       "A matrix: 1 × 2 of type dbl\n",
       "\n",
       "| R2m | R2c |\n",
       "|---|---|\n",
       "| 0.4429263 | 0.6425253 |\n",
       "\n"
      ],
      "text/plain": [
       "     R2m       R2c      \n",
       "[1,] 0.4429263 0.6425253"
      ]
     },
     "metadata": {},
     "output_type": "display_data"
    },
    {
     "data": {
      "image/png": "[encoded data removed]",
      "text/plain": [
       "Plot with title \"Normal Q-Q Plot\""
      ]
     },
     "metadata": {
      "image/png": {
       "height": 420,
       "width": 420
      }
     },
     "output_type": "display_data"
    },
    {
     "data": {
      "image/png": "[encoded data removed]",
      "text/plain": [
       "Plot with title \"Histogram of resid(MAVG2)\""
      ]
     },
     "metadata": {
      "image/png": {
       "height": 420,
       "width": 420
      }
     },
     "output_type": "display_data"
    },
    {
     "data": {
      "image/png": "[encoded data removed]",
      "text/plain": [
       "plot without title"
      ]
     },
     "metadata": {
      "image/png": {
       "height": 420,
       "width": 420
      }
     },
     "output_type": "display_data"
    }
   ],
   "source": [
    "#we use raw=TRUE to be comparable, but then we will set it to FALSE to avoid collineartiy issues\n",
    "#poly(cDIB, 2, raw = FALSE)1 is the slope coefficient of the quadratic function \n",
    "#poly(cDIB, 2, raw = FALSE)2 is the quadratic coefficient of the quadratic functionthat reflects the curvature of the regression\n",
    "MAVG2 = lmerTest::lmer(severity ~ poly(DIB,degree=3) + (1|HenID), REML=FALSE, data = df,\n",
    "                      control = lmerControl(optimizer ='optimx', optCtrl=list(method='nlminb')))\n",
    "summary(MAVG2)\n",
    "r.squaredGLMM(MAVG2)\n",
    "###### normally distributed residuals\n",
    "qqnorm(resid(MAVG2))\n",
    "qqline(resid(MAVG2))\n",
    "hist(resid(MAVG2))\n",
    "######check homogeneity of variance (residuals has constant variance)\n",
    "plot(MAVG2)"
   ]
  },
  {
   "cell_type": "code",
   "execution_count": 28,
   "metadata": {
    "scrolled": true
   },
   "outputs": [
    {
     "data": {
      "text/html": [
       "<table class=\"dataframe\">\n",
       "<caption>A data.frame: 936 × 4</caption>\n",
       "<thead>\n",
       "\t<tr><th scope=col>HenID</th><th scope=col>DIB</th><th scope=col>predictedWeight</th><th scope=col>predictedKBF</th></tr>\n",
       "\t<tr><th scope=col>&lt;fct&gt;</th><th scope=col>&lt;int&gt;</th><th scope=col>&lt;dbl&gt;</th><th scope=col>&lt;dbl&gt;</th></tr>\n",
       "</thead>\n",
       "<tbody>\n",
       "\t<tr><td>hen_1  </td><td>0</td><td>1173.263</td><td> 7.6716840</td></tr>\n",
       "\t<tr><td>hen_10 </td><td>0</td><td>1010.102</td><td> 8.2460073</td></tr>\n",
       "\t<tr><td>hen_101</td><td>0</td><td>1104.451</td><td>-4.3326662</td></tr>\n",
       "\t<tr><td>hen_102</td><td>0</td><td>1355.434</td><td> 9.2728377</td></tr>\n",
       "\t<tr><td>hen_105</td><td>0</td><td>1111.072</td><td>-6.8180488</td></tr>\n",
       "\t<tr><td>hen_106</td><td>0</td><td>1189.853</td><td>-9.2101110</td></tr>\n",
       "\t<tr><td>hen_107</td><td>0</td><td>1237.460</td><td> 0.5447786</td></tr>\n",
       "\t<tr><td>hen_108</td><td>0</td><td>1152.248</td><td> 9.0854356</td></tr>\n",
       "\t<tr><td>hen_109</td><td>0</td><td>1074.598</td><td> 3.6252701</td></tr>\n",
       "\t<tr><td>hen_111</td><td>0</td><td>1031.902</td><td>-2.1059052</td></tr>\n",
       "\t<tr><td>hen_112</td><td>0</td><td>1245.773</td><td>14.4069902</td></tr>\n",
       "\t<tr><td>hen_113</td><td>0</td><td>1276.468</td><td>-0.6333604</td></tr>\n",
       "\t<tr><td>hen_115</td><td>0</td><td>1158.238</td><td> 3.8819777</td></tr>\n",
       "\t<tr><td>hen_116</td><td>0</td><td>1219.690</td><td> 0.2880710</td></tr>\n",
       "\t<tr><td>hen_118</td><td>0</td><td>1085.893</td><td>-3.8192510</td></tr>\n",
       "\t<tr><td>hen_119</td><td>0</td><td>1226.783</td><td> 1.5716091</td></tr>\n",
       "\t<tr><td>hen_12 </td><td>0</td><td>1259.963</td><td> 3.5272968</td></tr>\n",
       "\t<tr><td>hen_120</td><td>0</td><td>1148.056</td><td>-2.7924205</td></tr>\n",
       "\t<tr><td>hen_122</td><td>0</td><td>1243.575</td><td> 1.3149015</td></tr>\n",
       "\t<tr><td>hen_123</td><td>0</td><td>1138.712</td><td>-7.1790370</td></tr>\n",
       "\t<tr><td>hen_124</td><td>0</td><td>1175.730</td><td>-0.4820519</td></tr>\n",
       "\t<tr><td>hen_126</td><td>0</td><td>1263.541</td><td>-4.7614778</td></tr>\n",
       "\t<tr><td>hen_127</td><td>0</td><td>1090.730</td><td>-0.4820519</td></tr>\n",
       "\t<tr><td>hen_128</td><td>0</td><td>1257.872</td><td>-5.6162043</td></tr>\n",
       "\t<tr><td>hen_13 </td><td>0</td><td>1000.769</td><td>-8.4399882</td></tr>\n",
       "\t<tr><td>hen_131</td><td>0</td><td>1221.678</td><td>-5.4522090</td></tr>\n",
       "\t<tr><td>hen_133</td><td>0</td><td>1246.134</td><td> 1.5716091</td></tr>\n",
       "\t<tr><td>hen_134</td><td>0</td><td>1111.497</td><td>-2.2790052</td></tr>\n",
       "\t<tr><td>hen_136</td><td>0</td><td>1372.076</td><td> 1.8283167</td></tr>\n",
       "\t<tr><td>hen_137</td><td>0</td><td>1072.533</td><td> 2.5984396</td></tr>\n",
       "\t<tr><td>...</td><td>...</td><td>...</td><td>...</td></tr>\n",
       "\t<tr><td>hen_69</td><td>195</td><td>1914.697</td><td>20.28759</td></tr>\n",
       "\t<tr><td>hen_7 </td><td>195</td><td>1966.059</td><td>41.85103</td></tr>\n",
       "\t<tr><td>hen_71</td><td>195</td><td>1883.909</td><td>46.05927</td></tr>\n",
       "\t<tr><td>hen_72</td><td>195</td><td>1783.388</td><td>25.93516</td></tr>\n",
       "\t<tr><td>hen_73</td><td>195</td><td>1848.749</td><td>31.58273</td></tr>\n",
       "\t<tr><td>hen_75</td><td>195</td><td>1754.721</td><td>29.56676</td></tr>\n",
       "\t<tr><td>hen_76</td><td>195</td><td>1990.938</td><td>29.78577</td></tr>\n",
       "\t<tr><td>hen_77</td><td>195</td><td>1830.419</td><td>33.39538</td></tr>\n",
       "\t<tr><td>hen_78</td><td>195</td><td>1637.754</td><td>27.47540</td></tr>\n",
       "\t<tr><td>hen_79</td><td>195</td><td>1990.704</td><td>27.21870</td></tr>\n",
       "\t<tr><td>hen_8 </td><td>195</td><td>1849.104</td><td>38.51383</td></tr>\n",
       "\t<tr><td>hen_80</td><td>195</td><td>1951.611</td><td>26.70528</td></tr>\n",
       "\t<tr><td>hen_81</td><td>195</td><td>1862.803</td><td>39.87458</td></tr>\n",
       "\t<tr><td>hen_82</td><td>195</td><td>1870.059</td><td>19.84797</td></tr>\n",
       "\t<tr><td>hen_83</td><td>195</td><td>1855.408</td><td>26.19187</td></tr>\n",
       "\t<tr><td>hen_84</td><td>195</td><td>1934.954</td><td>32.35285</td></tr>\n",
       "\t<tr><td>hen_85</td><td>195</td><td>1955.629</td><td>19.00405</td></tr>\n",
       "\t<tr><td>hen_86</td><td>195</td><td>1825.978</td><td>23.97109</td></tr>\n",
       "\t<tr><td>hen_87</td><td>195</td><td>1926.765</td><td>24.90833</td></tr>\n",
       "\t<tr><td>hen_89</td><td>195</td><td>1910.064</td><td>31.92284</td></tr>\n",
       "\t<tr><td>hen_9 </td><td>195</td><td>1644.090</td><td>44.16140</td></tr>\n",
       "\t<tr><td>hen_90</td><td>195</td><td>1749.363</td><td>24.13820</td></tr>\n",
       "\t<tr><td>hen_92</td><td>195</td><td>1763.764</td><td>34.14980</td></tr>\n",
       "\t<tr><td>hen_93</td><td>195</td><td>1775.384</td><td>23.36808</td></tr>\n",
       "\t<tr><td>hen_94</td><td>195</td><td>1931.556</td><td>29.56676</td></tr>\n",
       "\t<tr><td>hen_95</td><td>195</td><td>1882.712</td><td>30.55590</td></tr>\n",
       "\t<tr><td>hen_96</td><td>195</td><td>1915.099</td><td>37.48700</td></tr>\n",
       "\t<tr><td>hen_97</td><td>195</td><td>1853.384</td><td>23.36808</td></tr>\n",
       "\t<tr><td>hen_98</td><td>195</td><td>1777.624</td><td>26.96199</td></tr>\n",
       "\t<tr><td>hen_99</td><td>195</td><td>1756.841</td><td>23.88150</td></tr>\n",
       "</tbody>\n",
       "</table>\n"
      ],
      "text/latex": [
       "A data.frame: 936 × 4\n",
       "\\begin{tabular}{llll}\n",
       " HenID & DIB & predictedWeight & predictedKBF\\\\\n",
       " <fct> & <int> & <dbl> & <dbl>\\\\\n",
       "\\hline\n",
       "\t hen\\_1   & 0 & 1173.263 &  7.6716840\\\\\n",
       "\t hen\\_10  & 0 & 1010.102 &  8.2460073\\\\\n",
       "\t hen\\_101 & 0 & 1104.451 & -4.3326662\\\\\n",
       "\t hen\\_102 & 0 & 1355.434 &  9.2728377\\\\\n",
       "\t hen\\_105 & 0 & 1111.072 & -6.8180488\\\\\n",
       "\t hen\\_106 & 0 & 1189.853 & -9.2101110\\\\\n",
       "\t hen\\_107 & 0 & 1237.460 &  0.5447786\\\\\n",
       "\t hen\\_108 & 0 & 1152.248 &  9.0854356\\\\\n",
       "\t hen\\_109 & 0 & 1074.598 &  3.6252701\\\\\n",
       "\t hen\\_111 & 0 & 1031.902 & -2.1059052\\\\\n",
       "\t hen\\_112 & 0 & 1245.773 & 14.4069902\\\\\n",
       "\t hen\\_113 & 0 & 1276.468 & -0.6333604\\\\\n",
       "\t hen\\_115 & 0 & 1158.238 &  3.8819777\\\\\n",
       "\t hen\\_116 & 0 & 1219.690 &  0.2880710\\\\\n",
       "\t hen\\_118 & 0 & 1085.893 & -3.8192510\\\\\n",
       "\t hen\\_119 & 0 & 1226.783 &  1.5716091\\\\\n",
       "\t hen\\_12  & 0 & 1259.963 &  3.5272968\\\\\n",
       "\t hen\\_120 & 0 & 1148.056 & -2.7924205\\\\\n",
       "\t hen\\_122 & 0 & 1243.575 &  1.3149015\\\\\n",
       "\t hen\\_123 & 0 & 1138.712 & -7.1790370\\\\\n",
       "\t hen\\_124 & 0 & 1175.730 & -0.4820519\\\\\n",
       "\t hen\\_126 & 0 & 1263.541 & -4.7614778\\\\\n",
       "\t hen\\_127 & 0 & 1090.730 & -0.4820519\\\\\n",
       "\t hen\\_128 & 0 & 1257.872 & -5.6162043\\\\\n",
       "\t hen\\_13  & 0 & 1000.769 & -8.4399882\\\\\n",
       "\t hen\\_131 & 0 & 1221.678 & -5.4522090\\\\\n",
       "\t hen\\_133 & 0 & 1246.134 &  1.5716091\\\\\n",
       "\t hen\\_134 & 0 & 1111.497 & -2.2790052\\\\\n",
       "\t hen\\_136 & 0 & 1372.076 &  1.8283167\\\\\n",
       "\t hen\\_137 & 0 & 1072.533 &  2.5984396\\\\\n",
       "\t ... & ... & ... & ...\\\\\n",
       "\t hen\\_69 & 195 & 1914.697 & 20.28759\\\\\n",
       "\t hen\\_7  & 195 & 1966.059 & 41.85103\\\\\n",
       "\t hen\\_71 & 195 & 1883.909 & 46.05927\\\\\n",
       "\t hen\\_72 & 195 & 1783.388 & 25.93516\\\\\n",
       "\t hen\\_73 & 195 & 1848.749 & 31.58273\\\\\n",
       "\t hen\\_75 & 195 & 1754.721 & 29.56676\\\\\n",
       "\t hen\\_76 & 195 & 1990.938 & 29.78577\\\\\n",
       "\t hen\\_77 & 195 & 1830.419 & 33.39538\\\\\n",
       "\t hen\\_78 & 195 & 1637.754 & 27.47540\\\\\n",
       "\t hen\\_79 & 195 & 1990.704 & 27.21870\\\\\n",
       "\t hen\\_8  & 195 & 1849.104 & 38.51383\\\\\n",
       "\t hen\\_80 & 195 & 1951.611 & 26.70528\\\\\n",
       "\t hen\\_81 & 195 & 1862.803 & 39.87458\\\\\n",
       "\t hen\\_82 & 195 & 1870.059 & 19.84797\\\\\n",
       "\t hen\\_83 & 195 & 1855.408 & 26.19187\\\\\n",
       "\t hen\\_84 & 195 & 1934.954 & 32.35285\\\\\n",
       "\t hen\\_85 & 195 & 1955.629 & 19.00405\\\\\n",
       "\t hen\\_86 & 195 & 1825.978 & 23.97109\\\\\n",
       "\t hen\\_87 & 195 & 1926.765 & 24.90833\\\\\n",
       "\t hen\\_89 & 195 & 1910.064 & 31.92284\\\\\n",
       "\t hen\\_9  & 195 & 1644.090 & 44.16140\\\\\n",
       "\t hen\\_90 & 195 & 1749.363 & 24.13820\\\\\n",
       "\t hen\\_92 & 195 & 1763.764 & 34.14980\\\\\n",
       "\t hen\\_93 & 195 & 1775.384 & 23.36808\\\\\n",
       "\t hen\\_94 & 195 & 1931.556 & 29.56676\\\\\n",
       "\t hen\\_95 & 195 & 1882.712 & 30.55590\\\\\n",
       "\t hen\\_96 & 195 & 1915.099 & 37.48700\\\\\n",
       "\t hen\\_97 & 195 & 1853.384 & 23.36808\\\\\n",
       "\t hen\\_98 & 195 & 1777.624 & 26.96199\\\\\n",
       "\t hen\\_99 & 195 & 1756.841 & 23.88150\\\\\n",
       "\\end{tabular}\n"
      ],
      "text/markdown": [
       "\n",
       "A data.frame: 936 × 4\n",
       "\n",
       "| HenID &lt;fct&gt; | DIB &lt;int&gt; | predictedWeight &lt;dbl&gt; | predictedKBF &lt;dbl&gt; |\n",
       "|---|---|---|---|\n",
       "| hen_1   | 0 | 1173.263 |  7.6716840 |\n",
       "| hen_10  | 0 | 1010.102 |  8.2460073 |\n",
       "| hen_101 | 0 | 1104.451 | -4.3326662 |\n",
       "| hen_102 | 0 | 1355.434 |  9.2728377 |\n",
       "| hen_105 | 0 | 1111.072 | -6.8180488 |\n",
       "| hen_106 | 0 | 1189.853 | -9.2101110 |\n",
       "| hen_107 | 0 | 1237.460 |  0.5447786 |\n",
       "| hen_108 | 0 | 1152.248 |  9.0854356 |\n",
       "| hen_109 | 0 | 1074.598 |  3.6252701 |\n",
       "| hen_111 | 0 | 1031.902 | -2.1059052 |\n",
       "| hen_112 | 0 | 1245.773 | 14.4069902 |\n",
       "| hen_113 | 0 | 1276.468 | -0.6333604 |\n",
       "| hen_115 | 0 | 1158.238 |  3.8819777 |\n",
       "| hen_116 | 0 | 1219.690 |  0.2880710 |\n",
       "| hen_118 | 0 | 1085.893 | -3.8192510 |\n",
       "| hen_119 | 0 | 1226.783 |  1.5716091 |\n",
       "| hen_12  | 0 | 1259.963 |  3.5272968 |\n",
       "| hen_120 | 0 | 1148.056 | -2.7924205 |\n",
       "| hen_122 | 0 | 1243.575 |  1.3149015 |\n",
       "| hen_123 | 0 | 1138.712 | -7.1790370 |\n",
       "| hen_124 | 0 | 1175.730 | -0.4820519 |\n",
       "| hen_126 | 0 | 1263.541 | -4.7614778 |\n",
       "| hen_127 | 0 | 1090.730 | -0.4820519 |\n",
       "| hen_128 | 0 | 1257.872 | -5.6162043 |\n",
       "| hen_13  | 0 | 1000.769 | -8.4399882 |\n",
       "| hen_131 | 0 | 1221.678 | -5.4522090 |\n",
       "| hen_133 | 0 | 1246.134 |  1.5716091 |\n",
       "| hen_134 | 0 | 1111.497 | -2.2790052 |\n",
       "| hen_136 | 0 | 1372.076 |  1.8283167 |\n",
       "| hen_137 | 0 | 1072.533 |  2.5984396 |\n",
       "| ... | ... | ... | ... |\n",
       "| hen_69 | 195 | 1914.697 | 20.28759 |\n",
       "| hen_7  | 195 | 1966.059 | 41.85103 |\n",
       "| hen_71 | 195 | 1883.909 | 46.05927 |\n",
       "| hen_72 | 195 | 1783.388 | 25.93516 |\n",
       "| hen_73 | 195 | 1848.749 | 31.58273 |\n",
       "| hen_75 | 195 | 1754.721 | 29.56676 |\n",
       "| hen_76 | 195 | 1990.938 | 29.78577 |\n",
       "| hen_77 | 195 | 1830.419 | 33.39538 |\n",
       "| hen_78 | 195 | 1637.754 | 27.47540 |\n",
       "| hen_79 | 195 | 1990.704 | 27.21870 |\n",
       "| hen_8  | 195 | 1849.104 | 38.51383 |\n",
       "| hen_80 | 195 | 1951.611 | 26.70528 |\n",
       "| hen_81 | 195 | 1862.803 | 39.87458 |\n",
       "| hen_82 | 195 | 1870.059 | 19.84797 |\n",
       "| hen_83 | 195 | 1855.408 | 26.19187 |\n",
       "| hen_84 | 195 | 1934.954 | 32.35285 |\n",
       "| hen_85 | 195 | 1955.629 | 19.00405 |\n",
       "| hen_86 | 195 | 1825.978 | 23.97109 |\n",
       "| hen_87 | 195 | 1926.765 | 24.90833 |\n",
       "| hen_89 | 195 | 1910.064 | 31.92284 |\n",
       "| hen_9  | 195 | 1644.090 | 44.16140 |\n",
       "| hen_90 | 195 | 1749.363 | 24.13820 |\n",
       "| hen_92 | 195 | 1763.764 | 34.14980 |\n",
       "| hen_93 | 195 | 1775.384 | 23.36808 |\n",
       "| hen_94 | 195 | 1931.556 | 29.56676 |\n",
       "| hen_95 | 195 | 1882.712 | 30.55590 |\n",
       "| hen_96 | 195 | 1915.099 | 37.48700 |\n",
       "| hen_97 | 195 | 1853.384 | 23.36808 |\n",
       "| hen_98 | 195 | 1777.624 | 26.96199 |\n",
       "| hen_99 | 195 | 1756.841 | 23.88150 |\n",
       "\n"
      ],
      "text/plain": [
       "    HenID   DIB predictedWeight predictedKBF\n",
       "1   hen_1   0   1173.263         7.6716840  \n",
       "2   hen_10  0   1010.102         8.2460073  \n",
       "3   hen_101 0   1104.451        -4.3326662  \n",
       "4   hen_102 0   1355.434         9.2728377  \n",
       "5   hen_105 0   1111.072        -6.8180488  \n",
       "6   hen_106 0   1189.853        -9.2101110  \n",
       "7   hen_107 0   1237.460         0.5447786  \n",
       "8   hen_108 0   1152.248         9.0854356  \n",
       "9   hen_109 0   1074.598         3.6252701  \n",
       "10  hen_111 0   1031.902        -2.1059052  \n",
       "11  hen_112 0   1245.773        14.4069902  \n",
       "12  hen_113 0   1276.468        -0.6333604  \n",
       "13  hen_115 0   1158.238         3.8819777  \n",
       "14  hen_116 0   1219.690         0.2880710  \n",
       "15  hen_118 0   1085.893        -3.8192510  \n",
       "16  hen_119 0   1226.783         1.5716091  \n",
       "17  hen_12  0   1259.963         3.5272968  \n",
       "18  hen_120 0   1148.056        -2.7924205  \n",
       "19  hen_122 0   1243.575         1.3149015  \n",
       "20  hen_123 0   1138.712        -7.1790370  \n",
       "21  hen_124 0   1175.730        -0.4820519  \n",
       "22  hen_126 0   1263.541        -4.7614778  \n",
       "23  hen_127 0   1090.730        -0.4820519  \n",
       "24  hen_128 0   1257.872        -5.6162043  \n",
       "25  hen_13  0   1000.769        -8.4399882  \n",
       "26  hen_131 0   1221.678        -5.4522090  \n",
       "27  hen_133 0   1246.134         1.5716091  \n",
       "28  hen_134 0   1111.497        -2.2790052  \n",
       "29  hen_136 0   1372.076         1.8283167  \n",
       "30  hen_137 0   1072.533         2.5984396  \n",
       "... ...     ... ...             ...         \n",
       "907 hen_69  195 1914.697        20.28759    \n",
       "908 hen_7   195 1966.059        41.85103    \n",
       "909 hen_71  195 1883.909        46.05927    \n",
       "910 hen_72  195 1783.388        25.93516    \n",
       "911 hen_73  195 1848.749        31.58273    \n",
       "912 hen_75  195 1754.721        29.56676    \n",
       "913 hen_76  195 1990.938        29.78577    \n",
       "914 hen_77  195 1830.419        33.39538    \n",
       "915 hen_78  195 1637.754        27.47540    \n",
       "916 hen_79  195 1990.704        27.21870    \n",
       "917 hen_8   195 1849.104        38.51383    \n",
       "918 hen_80  195 1951.611        26.70528    \n",
       "919 hen_81  195 1862.803        39.87458    \n",
       "920 hen_82  195 1870.059        19.84797    \n",
       "921 hen_83  195 1855.408        26.19187    \n",
       "922 hen_84  195 1934.954        32.35285    \n",
       "923 hen_85  195 1955.629        19.00405    \n",
       "924 hen_86  195 1825.978        23.97109    \n",
       "925 hen_87  195 1926.765        24.90833    \n",
       "926 hen_89  195 1910.064        31.92284    \n",
       "927 hen_9   195 1644.090        44.16140    \n",
       "928 hen_90  195 1749.363        24.13820    \n",
       "929 hen_92  195 1763.764        34.14980    \n",
       "930 hen_93  195 1775.384        23.36808    \n",
       "931 hen_94  195 1931.556        29.56676    \n",
       "932 hen_95  195 1882.712        30.55590    \n",
       "933 hen_96  195 1915.099        37.48700    \n",
       "934 hen_97  195 1853.384        23.36808    \n",
       "935 hen_98  195 1777.624        26.96199    \n",
       "936 hen_99  195 1756.841        23.88150    "
      ]
     },
     "metadata": {},
     "output_type": "display_data"
    }
   ],
   "source": [
    "df_2predict$predictedKBF = predict(MAVG2, newdata=df_2predict, re.form = NULL, allow.new.levels = TRUE)\n",
    "df_2predict"
   ]
  },
  {
   "cell_type": "markdown",
   "metadata": {},
   "source": [
    "# FeatherDamage"
   ]
  },
  {
   "cell_type": "code",
   "execution_count": 31,
   "metadata": {},
   "outputs": [
    {
     "data": {
      "text/plain": [
       "Linear mixed model fit by maximum likelihood . t-tests use Satterthwaite's\n",
       "  method [lmerModLmerTest]\n",
       "Formula: FeatherDamage ~ poly(scale(DIB), degree = 3) + (1 | HenID)\n",
       "   Data: df\n",
       "\n",
       "     AIC      BIC   logLik deviance df.resid \n",
       "  4998.9   5026.4  -2493.4   4986.9      725 \n",
       "\n",
       "Scaled residuals: \n",
       "    Min      1Q  Median      3Q     Max \n",
       "-2.9460 -0.5532 -0.0194  0.5158  4.1596 \n",
       "\n",
       "Random effects:\n",
       " Groups   Name        Variance Std.Dev.\n",
       " HenID    (Intercept) 16.64    4.079   \n",
       " Residual             43.16    6.569   \n",
       "Number of obs: 731, groups:  HenID, 156\n",
       "\n",
       "Fixed effects:\n",
       "                              Estimate Std. Error       df t value Pr(>|t|)    \n",
       "(Intercept)                    10.1290     0.4146 169.5526  24.429  < 2e-16 ***\n",
       "poly(scale(DIB), degree = 3)1 336.3319     7.1888 597.2078  46.786  < 2e-16 ***\n",
       "poly(scale(DIB), degree = 3)2  74.8400     6.6110 583.5769  11.320  < 2e-16 ***\n",
       "poly(scale(DIB), degree = 3)3 -30.4020     7.7256 583.6485  -3.935 9.31e-05 ***\n",
       "---\n",
       "Signif. codes:  0 '***' 0.001 '**' 0.01 '*' 0.05 '.' 0.1 ' ' 1\n",
       "\n",
       "Correlation of Fixed Effects:\n",
       "              (Intr) p((DIB),d=3)1 p((DIB),d=3)2\n",
       "p((DIB),d=3)1 -0.105                            \n",
       "p((DIB),d=3)2 -0.011  0.030                     \n",
       "p((DIB),d=3)3  0.159 -0.197        -0.024       "
      ]
     },
     "metadata": {},
     "output_type": "display_data"
    },
    {
     "data": {
      "text/html": [
       "<table class=\"dataframe\">\n",
       "<caption>A matrix: 1 × 2 of type dbl</caption>\n",
       "<thead>\n",
       "\t<tr><th scope=col>R2m</th><th scope=col>R2c</th></tr>\n",
       "</thead>\n",
       "<tbody>\n",
       "\t<tr><td>0.7018266</td><td>0.7848076</td></tr>\n",
       "</tbody>\n",
       "</table>\n"
      ],
      "text/latex": [
       "A matrix: 1 × 2 of type dbl\n",
       "\\begin{tabular}{ll}\n",
       " R2m & R2c\\\\\n",
       "\\hline\n",
       "\t 0.7018266 & 0.7848076\\\\\n",
       "\\end{tabular}\n"
      ],
      "text/markdown": [
       "\n",
       "A matrix: 1 × 2 of type dbl\n",
       "\n",
       "| R2m | R2c |\n",
       "|---|---|\n",
       "| 0.7018266 | 0.7848076 |\n",
       "\n"
      ],
      "text/plain": [
       "     R2m       R2c      \n",
       "[1,] 0.7018266 0.7848076"
      ]
     },
     "metadata": {},
     "output_type": "display_data"
    },
    {
     "data": {
      "image/png": "[encoded data removed]",
      "text/plain": [
       "Plot with title \"Normal Q-Q Plot\""
      ]
     },
     "metadata": {
      "image/png": {
       "height": 420,
       "width": 420
      }
     },
     "output_type": "display_data"
    },
    {
     "data": {
      "image/png": "[encoded data removed]",
      "text/plain": [
       "Plot with title \"Histogram of resid(MAVG2)\""
      ]
     },
     "metadata": {
      "image/png": {
       "height": 420,
       "width": 420
      }
     },
     "output_type": "display_data"
    },
    {
     "data": {
      "image/png": "[encoded data removed]",
      "text/plain": [
       "plot without title"
      ]
     },
     "metadata": {
      "image/png": {
       "height": 420,
       "width": 420
      }
     },
     "output_type": "display_data"
    }
   ],
   "source": [
    "#we use raw=TRUE to be comparable, but then we will set it to FALSE to avoid collineartiy issues\n",
    "#poly(cDIB, 2, raw = FALSE)1 is the slope coefficient of the quadratic function \n",
    "#poly(cDIB, 2, raw = FALSE)2 is the quadratic coefficient of the quadratic functionthat reflects the curvature of the regression\n",
    "MAVG2 = lmerTest::lmer(FeatherDamage ~ poly(scale(DIB),degree=3) + (1|HenID), REML=FALSE, data = df)\n",
    "summary(MAVG2)\n",
    "r.squaredGLMM(MAVG2)\n",
    "###### normally distributed residuals\n",
    "qqnorm(resid(MAVG2))\n",
    "qqline(resid(MAVG2))\n",
    "hist(resid(MAVG2))\n",
    "######check homogeneity of variance (residuals has constant variance)\n",
    "plot(MAVG2)"
   ]
  },
  {
   "cell_type": "code",
   "execution_count": 33,
   "metadata": {
    "scrolled": true
   },
   "outputs": [],
   "source": [
    "#df_2predict$predictedFeatherDamage = predict(MAVG2, newdata=df_2predict, re.form = NULL, allow.new.levels = TRUE)\n",
    "#df_2predict"
   ]
  },
  {
   "cell_type": "markdown",
   "metadata": {},
   "source": [
    "# Save"
   ]
  },
  {
   "cell_type": "code",
   "execution_count": 34,
   "metadata": {},
   "outputs": [],
   "source": [
    "write.csv(df_2predict, file.path(path_,'EstimatedHA.csv'), row.names = FALSE)"
   ]
  },
  {
   "cell_type": "code",
   "execution_count": null,
   "metadata": {},
   "outputs": [],
   "source": []
  },
  {
   "cell_type": "code",
   "execution_count": null,
   "metadata": {},
   "outputs": [],
   "source": []
  },
  {
   "cell_type": "code",
   "execution_count": null,
   "metadata": {},
   "outputs": [],
   "source": []
  },
  {
   "cell_type": "code",
   "execution_count": null,
   "metadata": {},
   "outputs": [],
   "source": []
  },
  {
   "cell_type": "code",
   "execution_count": null,
   "metadata": {},
   "outputs": [],
   "source": []
  }
 ],
 "metadata": {
  "kernelspec": {
   "display_name": " Rkernel ",
   "language": "R",
   "name": "rkernel"
  },
  "language_info": {
   "codemirror_mode": "r",
   "file_extension": ".r",
   "mimetype": "text/x-r-source",
   "name": "R",
   "pygments_lexer": "r",
   "version": "3.6.1"
  }
 },
 "nbformat": 4,
 "nbformat_minor": 4
}
