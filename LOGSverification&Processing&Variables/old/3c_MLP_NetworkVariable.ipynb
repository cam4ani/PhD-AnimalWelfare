{
 "cells": [
  {
   "cell_type": "code",
   "execution_count": 1,
   "metadata": {},
   "outputs": [],
   "source": [
    "#basic package\n",
    "import tqdm\n",
    "import os\n",
    "import numpy as np\n",
    "import glob\n",
    "import pandas as pd\n",
    "import sys\n",
    "import time\n",
    "import datetime as dt\n",
    "import itertools\n",
    "import re\n",
    "import math\n",
    "from collections import Counter\n",
    "import operator\n",
    "from dtaidistance import dtw\n",
    "import random\n",
    "from sklearn.preprocessing import normalize\n",
    "import pickle #to save/load list of selected hens\n",
    "\n",
    "#plot\n",
    "import matplotlib.pyplot as plt\n",
    "import seaborn as sns\n",
    "\n",
    "#network\n",
    "import networkx as nx"
   ]
  },
  {
   "cell_type": "code",
   "execution_count": 2,
   "metadata": {},
   "outputs": [
    {
     "name": "stderr",
     "output_type": "stream",
     "text": [
      "C:\\Users\\camil\\anaconda3\\lib\\site-packages\\scipy\\sparse\\sparsetools.py:21: DeprecationWarning: `scipy.sparse.sparsetools` is deprecated!\n",
      "scipy.sparse.sparsetools is a private module for scipy.sparse, and should not be used.\n",
      "  _deprecated()\n"
     ]
    },
    {
     "name": "stdout",
     "output_type": "stream",
     "text": [
      "2\n"
     ]
    }
   ],
   "source": [
    "PACKAGE_PARENT = '../'\n",
    "SCRIPT_DIR = os.path.dirname(os.path.realpath(os.path.join(os.getcwd(), os.path.expanduser('__file__'))))\n",
    "sys.path.append(os.path.normpath(os.path.join(SCRIPT_DIR, PACKAGE_PARENT)))\n",
    "from UTILS import chi2_distance, correct_key\n",
    "import config_origins as config"
   ]
  },
  {
   "cell_type": "markdown",
   "metadata": {},
   "source": [
    "# Define parameters"
   ]
  },
  {
   "cell_type": "code",
   "execution_count": 3,
   "metadata": {
    "scrolled": true
   },
   "outputs": [
    {
     "name": "stdout",
     "output_type": "stream",
     "text": [
      "change the configuration file if not done yet!\n",
      "correctlightschedule_\n"
     ]
    },
    {
     "name": "stderr",
     "output_type": "stream",
     "text": [
      "C:\\Users\\camil\\anaconda3\\lib\\site-packages\\ipykernel\\ipkernel.py:283: DeprecationWarning: `should_run_async` will not call `transform_cell` automatically in the future. Please pass the result to `transformed_cell` argument and any exception that happen during thetransform in `preprocessing_exc_tuple` in IPython 7.17 and above.\n",
      "  and should_run_async(code)\n"
     ]
    }
   ],
   "source": [
    "print('change the configuration file if not done yet!')\n",
    "path_extracted_data = config.path_extracted_data\n",
    "path_initial_data = config.path_initial_data\n",
    "id_run = config.id_run\n",
    "#id_run = 'chapter0_final_'\n",
    "#path_dataoutput = r'G:\\VPHI\\Welfare\\2- Research Projects\\OFHE2.OriginsE2\\DataOutput'\n",
    "#path_extracted_data = os.path.join(path_dataoutput,'TrackingSystem') \n",
    "#path_extracted_data = os.path.join(path_extracted_data, id_run)\n",
    "dico_night_hour = config.dico_night_hour\n",
    "dico_matching = config.dico_matching\n",
    "li_binmn = config.li_binmn\n",
    "penalty = config.penalty\n",
    "dico_window = config.dico_window\n",
    "path_extracted_data_SNA = config.path_extracted_data_SNA\n",
    "path_extracted_data_visual_adap = os.path.join(path_extracted_data,'visual','Treatment&Classs','adaptability')\n",
    "#create a director if not existing\n",
    "if not os.path.exists(path_extracted_data_SNA):\n",
    "    os.makedirs(path_extracted_data_SNA)\n",
    "print(id_run)"
   ]
  },
  {
   "cell_type": "markdown",
   "metadata": {},
   "source": [
    "# Download variables"
   ]
  },
  {
   "cell_type": "code",
   "execution_count": 130,
   "metadata": {},
   "outputs": [
    {
     "name": "stderr",
     "output_type": "stream",
     "text": [
      "C:\\Users\\camil\\anaconda3\\lib\\site-packages\\ipykernel\\ipkernel.py:283: DeprecationWarning: `should_run_async` will not call `transform_cell` automatically in the future. Please pass the result to `transformed_cell` argument and any exception that happen during thetransform in `preprocessing_exc_tuple` in IPython 7.17 and above.\n",
      "  and should_run_async(code)\n"
     ]
    },
    {
     "name": "stdout",
     "output_type": "stream",
     "text": [
      "(42905, 165)\n"
     ]
    },
    {
     "data": {
      "text/html": [
       "<div>\n",
       "<style scoped>\n",
       "    .dataframe tbody tr th:only-of-type {\n",
       "        vertical-align: middle;\n",
       "    }\n",
       "\n",
       "    .dataframe tbody tr th {\n",
       "        vertical-align: top;\n",
       "    }\n",
       "\n",
       "    .dataframe thead th {\n",
       "        text-align: right;\n",
       "    }\n",
       "</style>\n",
       "<table border=\"1\" class=\"dataframe\">\n",
       "  <thead>\n",
       "    <tr style=\"text-align: right;\">\n",
       "      <th></th>\n",
       "      <th>HenID</th>\n",
       "      <th>level</th>\n",
       "      <th>duration_1_Zone</th>\n",
       "      <th>duration_2_Zone</th>\n",
       "      <th>duration_3_Zone</th>\n",
       "      <th>duration_4_Zone</th>\n",
       "      <th>duration_5_Zone</th>\n",
       "      <th>verification_daily_total_duration</th>\n",
       "      <th>verification_daily_total_nbr_hour</th>\n",
       "      <th>dur_values</th>\n",
       "      <th>...</th>\n",
       "      <th>nbr_transition_at_h21</th>\n",
       "      <th>nbr_transition_at_h22</th>\n",
       "      <th>nbr_transition_at_h23</th>\n",
       "      <th>nbr_transition_next1hafterlightoff</th>\n",
       "      <th>nbr_h_per_day</th>\n",
       "      <th>correct_amount_of_hour</th>\n",
       "      <th>DOA</th>\n",
       "      <th>WOA</th>\n",
       "      <th>DIB</th>\n",
       "      <th>WIB</th>\n",
       "    </tr>\n",
       "  </thead>\n",
       "  <tbody>\n",
       "    <tr>\n",
       "      <th>0</th>\n",
       "      <td>hen_130</td>\n",
       "      <td>2020-10-05</td>\n",
       "      <td>0.0</td>\n",
       "      <td>0.0</td>\n",
       "      <td>0.0</td>\n",
       "      <td>0.0</td>\n",
       "      <td>32400.0</td>\n",
       "      <td>32400.0</td>\n",
       "      <td>9.0</td>\n",
       "      <td>[0.0, 0.0, 0.0, 0.0, 32400.0]</td>\n",
       "      <td>...</td>\n",
       "      <td>0.0</td>\n",
       "      <td>0.0</td>\n",
       "      <td>0.0</td>\n",
       "      <td>0.0</td>\n",
       "      <td>9</td>\n",
       "      <td>True</td>\n",
       "      <td>124</td>\n",
       "      <td>18</td>\n",
       "      <td>6</td>\n",
       "      <td>1</td>\n",
       "    </tr>\n",
       "    <tr>\n",
       "      <th>1</th>\n",
       "      <td>hen_130</td>\n",
       "      <td>2020-10-06</td>\n",
       "      <td>0.0</td>\n",
       "      <td>0.0</td>\n",
       "      <td>780.0</td>\n",
       "      <td>325.0</td>\n",
       "      <td>31295.0</td>\n",
       "      <td>32400.0</td>\n",
       "      <td>9.0</td>\n",
       "      <td>[0.0, 0.0, 780.0, 325.0, 31295.0]</td>\n",
       "      <td>...</td>\n",
       "      <td>0.0</td>\n",
       "      <td>0.0</td>\n",
       "      <td>0.0</td>\n",
       "      <td>0.0</td>\n",
       "      <td>9</td>\n",
       "      <td>True</td>\n",
       "      <td>125</td>\n",
       "      <td>18</td>\n",
       "      <td>7</td>\n",
       "      <td>1</td>\n",
       "    </tr>\n",
       "    <tr>\n",
       "      <th>2</th>\n",
       "      <td>hen_130</td>\n",
       "      <td>2020-10-07</td>\n",
       "      <td>0.0</td>\n",
       "      <td>206.0</td>\n",
       "      <td>249.0</td>\n",
       "      <td>130.0</td>\n",
       "      <td>31815.0</td>\n",
       "      <td>32400.0</td>\n",
       "      <td>9.0</td>\n",
       "      <td>[0.0, 206.0, 249.0, 130.0, 31815.0]</td>\n",
       "      <td>...</td>\n",
       "      <td>0.0</td>\n",
       "      <td>0.0</td>\n",
       "      <td>0.0</td>\n",
       "      <td>0.0</td>\n",
       "      <td>9</td>\n",
       "      <td>True</td>\n",
       "      <td>126</td>\n",
       "      <td>18</td>\n",
       "      <td>8</td>\n",
       "      <td>2</td>\n",
       "    </tr>\n",
       "  </tbody>\n",
       "</table>\n",
       "<p>3 rows × 165 columns</p>\n",
       "</div>"
      ],
      "text/plain": [
       "     HenID      level  duration_1_Zone  duration_2_Zone  duration_3_Zone  \\\n",
       "0  hen_130 2020-10-05              0.0              0.0              0.0   \n",
       "1  hen_130 2020-10-06              0.0              0.0            780.0   \n",
       "2  hen_130 2020-10-07              0.0            206.0            249.0   \n",
       "\n",
       "   duration_4_Zone  duration_5_Zone  verification_daily_total_duration  \\\n",
       "0              0.0          32400.0                            32400.0   \n",
       "1            325.0          31295.0                            32400.0   \n",
       "2            130.0          31815.0                            32400.0   \n",
       "\n",
       "   verification_daily_total_nbr_hour                           dur_values  \\\n",
       "0                                9.0        [0.0, 0.0, 0.0, 0.0, 32400.0]   \n",
       "1                                9.0    [0.0, 0.0, 780.0, 325.0, 31295.0]   \n",
       "2                                9.0  [0.0, 206.0, 249.0, 130.0, 31815.0]   \n",
       "\n",
       "   ... nbr_transition_at_h21  nbr_transition_at_h22  nbr_transition_at_h23  \\\n",
       "0  ...                   0.0                    0.0                    0.0   \n",
       "1  ...                   0.0                    0.0                    0.0   \n",
       "2  ...                   0.0                    0.0                    0.0   \n",
       "\n",
       "   nbr_transition_next1hafterlightoff  nbr_h_per_day  correct_amount_of_hour  \\\n",
       "0                                 0.0              9                    True   \n",
       "1                                 0.0              9                    True   \n",
       "2                                 0.0              9                    True   \n",
       "\n",
       "   DOA  WOA DIB WIB  \n",
       "0  124   18   6   1  \n",
       "1  125   18   7   1  \n",
       "2  126   18   8   2  \n",
       "\n",
       "[3 rows x 165 columns]"
      ]
     },
     "execution_count": 130,
     "metadata": {},
     "output_type": "execute_result"
    }
   ],
   "source": [
    "#daily variables (one row per (henID, date)): in order to know which day one can use\n",
    "df_daily = pd.read_csv(os.path.join(path_extracted_data, id_run+'_daily_ALL_variables.csv'), sep=';',\n",
    "                     parse_dates=['level','FirstTimestamp_1_Zone', 'FirstTimestamp_2_Zone', 'FirstTimestamp_3_Zone',\n",
    "                              'FirstTimestamp_4_Zone', 'FirstTimestamp_5_Zone', \n",
    "                              'Nestbox_time_of_first_staid_longer_than900sec',\n",
    "                              'duration_last-firsttransition_mn'], dayfirst=True) \n",
    "#filter first date\n",
    "df_daily = df_daily[df_daily['level']>dt.datetime(2020,9,29)]\n",
    "\n",
    "#removing data over night but not existing over days\n",
    "df_daily = df_daily[~df_daily['verification_daily_total_duration'].isnull()]\n",
    "print(df_daily.shape)\n",
    "df_daily.head(3)"
   ]
  },
  {
   "cell_type": "code",
   "execution_count": 114,
   "metadata": {},
   "outputs": [
    {
     "name": "stderr",
     "output_type": "stream",
     "text": [
      "C:\\Users\\camil\\anaconda3\\lib\\site-packages\\ipykernel\\ipkernel.py:283: DeprecationWarning: `should_run_async` will not call `transform_cell` automatically in the future. Please pass the result to `transformed_cell` argument and any exception that happen during thetransform in `preprocessing_exc_tuple` in IPython 7.17 and above.\n",
      "  and should_run_async(code)\n"
     ]
    },
    {
     "data": {
      "text/html": [
       "<div>\n",
       "<style scoped>\n",
       "    .dataframe tbody tr th:only-of-type {\n",
       "        vertical-align: middle;\n",
       "    }\n",
       "\n",
       "    .dataframe tbody tr th {\n",
       "        vertical-align: top;\n",
       "    }\n",
       "\n",
       "    .dataframe thead th {\n",
       "        text-align: right;\n",
       "    }\n",
       "</style>\n",
       "<table border=\"1\" class=\"dataframe\">\n",
       "  <thead>\n",
       "    <tr style=\"text-align: right;\">\n",
       "      <th></th>\n",
       "      <th>HenID1</th>\n",
       "      <th>HenID2</th>\n",
       "      <th>date</th>\n",
       "      <th>total_nbr_sec_involved</th>\n",
       "      <th>nbr_sec_CommunZone</th>\n",
       "      <th>PenID1</th>\n",
       "      <th>PenID2</th>\n",
       "      <th>perc_time_communZone</th>\n",
       "      <th>hen_pair</th>\n",
       "      <th>pen_pair</th>\n",
       "    </tr>\n",
       "  </thead>\n",
       "  <tbody>\n",
       "    <tr>\n",
       "      <th>0</th>\n",
       "      <td>hen_131</td>\n",
       "      <td>hen_134</td>\n",
       "      <td>2020-10-02</td>\n",
       "      <td>32400</td>\n",
       "      <td>17427</td>\n",
       "      <td>pen10</td>\n",
       "      <td>pen10</td>\n",
       "      <td>53.787037</td>\n",
       "      <td>hen_131-hen_134</td>\n",
       "      <td>pen10-pen10</td>\n",
       "    </tr>\n",
       "    <tr>\n",
       "      <th>1</th>\n",
       "      <td>hen_131</td>\n",
       "      <td>hen_138</td>\n",
       "      <td>2020-10-02</td>\n",
       "      <td>32400</td>\n",
       "      <td>7520</td>\n",
       "      <td>pen10</td>\n",
       "      <td>pen10</td>\n",
       "      <td>23.209877</td>\n",
       "      <td>hen_131-hen_138</td>\n",
       "      <td>pen10-pen10</td>\n",
       "    </tr>\n",
       "    <tr>\n",
       "      <th>2</th>\n",
       "      <td>hen_131</td>\n",
       "      <td>hen_139</td>\n",
       "      <td>2020-10-02</td>\n",
       "      <td>32400</td>\n",
       "      <td>11292</td>\n",
       "      <td>pen10</td>\n",
       "      <td>pen10</td>\n",
       "      <td>34.851852</td>\n",
       "      <td>hen_131-hen_139</td>\n",
       "      <td>pen10-pen10</td>\n",
       "    </tr>\n",
       "  </tbody>\n",
       "</table>\n",
       "</div>"
      ],
      "text/plain": [
       "    HenID1   HenID2       date  total_nbr_sec_involved  nbr_sec_CommunZone  \\\n",
       "0  hen_131  hen_134 2020-10-02                   32400               17427   \n",
       "1  hen_131  hen_138 2020-10-02                   32400                7520   \n",
       "2  hen_131  hen_139 2020-10-02                   32400               11292   \n",
       "\n",
       "  PenID1 PenID2  perc_time_communZone         hen_pair     pen_pair  \n",
       "0  pen10  pen10             53.787037  hen_131-hen_134  pen10-pen10  \n",
       "1  pen10  pen10             23.209877  hen_131-hen_138  pen10-pen10  \n",
       "2  pen10  pen10             34.851852  hen_131-hen_139  pen10-pen10  "
      ]
     },
     "metadata": {},
     "output_type": "display_data"
    },
    {
     "data": {
      "text/plain": [
       "(99626, 10)"
      ]
     },
     "execution_count": 114,
     "metadata": {},
     "output_type": "execute_result"
    }
   ],
   "source": [
    "#similarities\n",
    "df_distance = pd.read_csv(os.path.join(path_extracted_data, id_run+'df_proximity_perctime.csv'), sep=';',\n",
    "                      parse_dates=['date'])\n",
    "display(df_distance.head(3))\n",
    "df_distance.shape"
   ]
  },
  {
   "cell_type": "code",
   "execution_count": 124,
   "metadata": {},
   "outputs": [
    {
     "name": "stderr",
     "output_type": "stream",
     "text": [
      "C:\\Users\\camil\\anaconda3\\lib\\site-packages\\ipykernel\\ipkernel.py:283: DeprecationWarning: `should_run_async` will not call `transform_cell` automatically in the future. Please pass the result to `transformed_cell` argument and any exception that happen during thetransform in `preprocessing_exc_tuple` in IPython 7.17 and above.\n",
      "  and should_run_async(code)\n"
     ]
    },
    {
     "data": {
      "text/plain": [
       "Timestamp('2020-10-10 00:00:00')"
      ]
     },
     "execution_count": 124,
     "metadata": {},
     "output_type": "execute_result"
    }
   ],
   "source": [
    "d"
   ]
  },
  {
   "cell_type": "code",
   "execution_count": 115,
   "metadata": {},
   "outputs": [
    {
     "name": "stderr",
     "output_type": "stream",
     "text": [
      "C:\\Users\\camil\\anaconda3\\lib\\site-packages\\ipykernel\\ipkernel.py:283: DeprecationWarning: `should_run_async` will not call `transform_cell` automatically in the future. Please pass the result to `transformed_cell` argument and any exception that happen during thetransform in `preprocessing_exc_tuple` in IPython 7.17 and above.\n",
      "  and should_run_async(code)\n"
     ]
    },
    {
     "data": {
      "text/plain": [
       "2020-10-15    12090\n",
       "2020-10-16    11935\n",
       "2020-10-10    11325\n",
       "2020-10-07    11175\n",
       "2020-10-06    11175\n",
       "2020-10-02    10878\n",
       "2020-10-17     6814\n",
       "2020-10-04     6441\n",
       "2020-10-12     4656\n",
       "2020-10-11     4656\n",
       "2020-10-14     4560\n",
       "2020-10-05     1770\n",
       "2020-10-03     1485\n",
       "2020-10-13      666\n",
       "Name: date, dtype: int64"
      ]
     },
     "execution_count": 115,
     "metadata": {},
     "output_type": "execute_result"
    }
   ],
   "source": [
    "df_distance['date'].value_counts()"
   ]
  },
  {
   "cell_type": "markdown",
   "metadata": {},
   "source": [
    "# Compute a Network / day"
   ]
  },
  {
   "cell_type": "code",
   "execution_count": 116,
   "metadata": {},
   "outputs": [
    {
     "name": "stderr",
     "output_type": "stream",
     "text": [
      "C:\\Users\\camil\\anaconda3\\lib\\site-packages\\ipykernel\\ipkernel.py:283: DeprecationWarning: `should_run_async` will not call `transform_cell` automatically in the future. Please pass the result to `transformed_cell` argument and any exception that happen during thetransform in `preprocessing_exc_tuple` in IPython 7.17 and above.\n",
      "  and should_run_async(code)\n"
     ]
    },
    {
     "data": {
      "image/png": "[encoded data removed]",
      "text/plain": [
       "<Figure size 432x288 with 1 Axes>"
      ]
     },
     "metadata": {
      "needs_background": "light"
     },
     "output_type": "display_data"
    }
   ],
   "source": [
    "plt.hist(df_distance['perc_time_communZone']);"
   ]
  },
  {
   "cell_type": "code",
   "execution_count": 118,
   "metadata": {},
   "outputs": [
    {
     "name": "stderr",
     "output_type": "stream",
     "text": [
      "C:\\Users\\camil\\anaconda3\\lib\\site-packages\\ipykernel\\ipkernel.py:283: DeprecationWarning: `should_run_async` will not call `transform_cell` automatically in the future. Please pass the result to `transformed_cell` argument and any exception that happen during thetransform in `preprocessing_exc_tuple` in IPython 7.17 and above.\n",
      "  and should_run_async(code)\n"
     ]
    }
   ],
   "source": [
    "def weighted_degree_centrality(G, max_sim):\n",
    "    \"\"\"Compute the degree centrality for nodes by summing the weight of the connected edges and normalising it by the max it \n",
    "    could\n",
    "    \"\"\"\n",
    "    if len(G) <= 1:\n",
    "        return {n: 1 for n in G}\n",
    "    \n",
    "    #for each node sum all weight of its edges and save it in a dico\n",
    "    # node can connect with any other node except himself, and with the other he has a similiratiy of maximum \"max_sim\"\n",
    "    max_WD = (len(G)-1)*max_sim\n",
    "    li_h_WD = {}\n",
    "    for h in G.nodes():\n",
    "        w = 0\n",
    "        for h1,h2 in G.edges(h):\n",
    "            w = w + G.get_edge_data(h1, h2)['weight']\n",
    "        li_h_WD[h] = w/max_WD\n",
    "\n",
    "    return li_h_WD"
   ]
  },
  {
   "cell_type": "code",
   "execution_count": 131,
   "metadata": {},
   "outputs": [
    {
     "name": "stderr",
     "output_type": "stream",
     "text": [
      "C:\\Users\\camil\\anaconda3\\lib\\site-packages\\ipykernel\\ipkernel.py:283: DeprecationWarning: `should_run_async` will not call `transform_cell` automatically in the future. Please pass the result to `transformed_cell` argument and any exception that happen during thetransform in `preprocessing_exc_tuple` in IPython 7.17 and above.\n",
      "  and should_run_async(code)\n",
      "  1%|▊                                                                                 | 3/285 [00:11<18:11,  3.87s/it]"
     ]
    },
    {
     "name": "stdout",
     "output_type": "stream",
     "text": [
      "(148, 7)\n"
     ]
    },
    {
     "name": "stderr",
     "output_type": "stream",
     "text": [
      "\r",
      "  2%|██                                                                                | 7/285 [00:23<16:47,  3.62s/it]"
     ]
    },
    {
     "name": "stdout",
     "output_type": "stream",
     "text": [
      "(150, 7)\n"
     ]
    },
    {
     "name": "stderr",
     "output_type": "stream",
     "text": [
      "\r",
      "  3%|██▎                                                                               | 8/285 [00:35<28:10,  6.10s/it]"
     ]
    },
    {
     "name": "stdout",
     "output_type": "stream",
     "text": [
      "(150, 7)\n"
     ]
    },
    {
     "name": "stderr",
     "output_type": "stream",
     "text": [
      "\r",
      "  3%|██▌                                                                               | 9/285 [00:48<36:47,  8.00s/it]"
     ]
    },
    {
     "name": "stdout",
     "output_type": "stream",
     "text": [
      "(151, 7)\n"
     ]
    },
    {
     "name": "stderr",
     "output_type": "stream",
     "text": [
      "\r",
      "  5%|███▉                                                                             | 14/285 [01:02<29:05,  6.44s/it]"
     ]
    },
    {
     "name": "stdout",
     "output_type": "stream",
     "text": [
      "(156, 7)\n"
     ]
    },
    {
     "name": "stderr",
     "output_type": "stream",
     "text": [
      "100%|████████████████████████████████████████████████████████████████████████████████| 285/285 [01:15<00:00,  3.76it/s]"
     ]
    },
    {
     "name": "stdout",
     "output_type": "stream",
     "text": [
      "(155, 7)\n",
      "(910, 7)\n"
     ]
    },
    {
     "name": "stderr",
     "output_type": "stream",
     "text": [
      "\n"
     ]
    },
    {
     "data": {
      "text/html": [
       "<div>\n",
       "<style scoped>\n",
       "    .dataframe tbody tr th:only-of-type {\n",
       "        vertical-align: middle;\n",
       "    }\n",
       "\n",
       "    .dataframe tbody tr th {\n",
       "        vertical-align: top;\n",
       "    }\n",
       "\n",
       "    .dataframe thead th {\n",
       "        text-align: right;\n",
       "    }\n",
       "</style>\n",
       "<table border=\"1\" class=\"dataframe\">\n",
       "  <thead>\n",
       "    <tr style=\"text-align: right;\">\n",
       "      <th></th>\n",
       "      <th>HenID</th>\n",
       "      <th>closeness</th>\n",
       "      <th>betweeness</th>\n",
       "      <th>degree</th>\n",
       "      <th>WeightedDegree</th>\n",
       "      <th>date</th>\n",
       "      <th>distance_measure</th>\n",
       "    </tr>\n",
       "  </thead>\n",
       "  <tbody>\n",
       "    <tr>\n",
       "      <th>0</th>\n",
       "      <td>hen_131</td>\n",
       "      <td>36.809117</td>\n",
       "      <td>0.014071</td>\n",
       "      <td>0.918367</td>\n",
       "      <td>0.391565</td>\n",
       "      <td>2020-10-02</td>\n",
       "      <td>perc_time_communZone</td>\n",
       "    </tr>\n",
       "    <tr>\n",
       "      <th>1</th>\n",
       "      <td>hen_134</td>\n",
       "      <td>39.194668</td>\n",
       "      <td>0.000000</td>\n",
       "      <td>0.734694</td>\n",
       "      <td>0.512245</td>\n",
       "      <td>2020-10-02</td>\n",
       "      <td>perc_time_communZone</td>\n",
       "    </tr>\n",
       "    <tr>\n",
       "      <th>2</th>\n",
       "      <td>hen_138</td>\n",
       "      <td>26.553669</td>\n",
       "      <td>0.000000</td>\n",
       "      <td>0.414966</td>\n",
       "      <td>0.197279</td>\n",
       "      <td>2020-10-02</td>\n",
       "      <td>perc_time_communZone</td>\n",
       "    </tr>\n",
       "  </tbody>\n",
       "</table>\n",
       "</div>"
      ],
      "text/plain": [
       "     HenID  closeness  betweeness    degree  WeightedDegree       date  \\\n",
       "0  hen_131  36.809117    0.014071  0.918367        0.391565 2020-10-02   \n",
       "1  hen_134  39.194668    0.000000  0.734694        0.512245 2020-10-02   \n",
       "2  hen_138  26.553669    0.000000  0.414966        0.197279 2020-10-02   \n",
       "\n",
       "       distance_measure  \n",
       "0  perc_time_communZone  \n",
       "1  perc_time_communZone  \n",
       "2  perc_time_communZone  "
      ]
     },
     "execution_count": 131,
     "metadata": {},
     "output_type": "execute_result"
    }
   ],
   "source": [
    "#lets set the min percentage of time to have before an edge exists to be the value expected by random (1/5: as 5 zones, approx\n",
    "#as we also have WG that is not open all day long)\n",
    "#or percentiles as not all zones are expected to be visited as much?\n",
    "min_dist = 20 #np.percentile(df_distance['perc_time_communZone'].tolist(),50)\n",
    "D = 'perc_time_communZone'\n",
    "li_df = []\n",
    "li_date = set(df_distance['date'].tolist())\n",
    "for d,df_graph in df_distance.groupby(['date']):\n",
    "    #if we already have computed most of the hens similarities\n",
    "    #initialise graph\n",
    "    G = nx.Graph()\n",
    "    #assign graph attributes (i.e. similarity)\n",
    "    G.graph['similarity_name'] = D\n",
    "\n",
    "    #add nodes (s: with attributes if needed)\n",
    "    li_hen_d = set(list(df_distance['HenID1'].unique())+list(df_distance['HenID2'].unique()))\n",
    "    for h in li_hen_d:\n",
    "        #s = max(df_movement[df_movement['HenID']==h]['severity'].tolist())\n",
    "        G.add_node(h) #attributes:, max_severity=int(round(s,0)))\n",
    "\n",
    "    #we use a symmetric measure, so we only do each combination once\n",
    "    for i,h1 in enumerate(li_hen_d):\n",
    "        #lets compute for hen h1 its difference with all other birds one by one\n",
    "        for h2 in li_hen_d[i+1:]:\n",
    "            dist = df_graph[df_graph['hen_pair']=='-'.join(sorted([h1,h2]))][D].values[0]\n",
    "            #link if dist > min_dist\n",
    "            if dist>min_dist:\n",
    "                G.add_edge(h1, h2, weight=int(round(dist,2)), distance=1/int(round(dist,2)))\n",
    "\n",
    "    #save G (networkX graph) in GEXF format for gephi\n",
    "    nx.write_gexf(G, os.path.join(path_extracted_data_SNA, D+str(d).split(' ')[0]+'.gexf'))\n",
    "\n",
    "    ######## centrality measures: SEE THEIR CODE SOURCE FOR REFERENCES\n",
    "\n",
    "    #returns a Dictionary of nodes with degree centrality as the value\n",
    "    #The degree centrality values are normalized by dividing by the maximum possible degree in a simple graph n-1 where n is \n",
    "    #the number of nodes in G.: degree centrality refers to the proportion of nodes in the graph to which a node is connected.\n",
    "    #For weighted networks sums the weights of the edges (stronger weight: more similar)\n",
    "    dico_v_dg = nx.degree_centrality(G)\n",
    "\n",
    "    #For weighted networks sums the weights of the edges (stronger weight: more similar) and divide by th emax possible\n",
    "    #i.e. divide by (len(G)-1) * max_sim\n",
    "    dico_v_Wdg = weighted_degree_centrality(G, max_sim=100)\n",
    "\n",
    "    #Compute the shortest-path betweenness centrality for nodes. see doc for additional info\n",
    "    #return a Dictionary of nodes with betweenness centrality as the value.\n",
    "    #from doc: \"Weights are used to calculate weighted shortest paths, so they are interpreted as distances.\"\n",
    "    #with weight it uses Dijkstra's algorithm\n",
    "    dico_v_bw = nx.betweenness_centrality(G, weight='distance')\n",
    "\n",
    "    #Compute closeness centrality for node, see doc for additional info\n",
    "    #return a Dictionary of nodes with closeness centrality as the value\n",
    "    #its uses of \"distance\" instead of \"weight\"\n",
    "    dico_v_cl = nx.closeness_centrality(G, distance='distance')\n",
    "    #into a dataframe\n",
    "    df_ = pd.DataFrame(list(dico_v_cl.items()),columns = ['HenID','closeness'])\n",
    "    df_['betweeness'] = df_['HenID'].map(lambda x: dico_v_bw[x])\n",
    "    df_['degree'] = df_['HenID'].map(lambda x: dico_v_dg[x])\n",
    "    df_['WeightedDegree'] = df_['HenID'].map(lambda x: dico_v_Wdg[x])\n",
    "    df_['date'] = d  \n",
    "    df_['distance_measure'] = D\n",
    "    print(df_.shape)\n",
    "    li_df.append(df_)\n",
    "#visualise G:\n",
    "#G.edges(data='distance')\n",
    "df_SNA = pd.concat(li_df)\n",
    "print(df_SNA.shape)\n",
    "df_SNA.to_csv(os.path.join(path_extracted_data ,id_run+'_df_SNA.csv'), sep=';', index=False)\n",
    "df_SNA.head(3)"
   ]
  },
  {
   "cell_type": "code",
   "execution_count": 142,
   "metadata": {},
   "outputs": [
    {
     "name": "stderr",
     "output_type": "stream",
     "text": [
      "C:\\Users\\camil\\anaconda3\\lib\\site-packages\\ipykernel\\ipkernel.py:283: DeprecationWarning: `should_run_async` will not call `transform_cell` automatically in the future. Please pass the result to `transformed_cell` argument and any exception that happen during thetransform in `preprocessing_exc_tuple` in IPython 7.17 and above.\n",
      "  and should_run_async(code)\n"
     ]
    },
    {
     "data": {
      "image/png": "[encoded data removed]",
      "text/plain": [
       "<Figure size 1080x576 with 1 Axes>"
      ]
     },
     "metadata": {
      "needs_background": "light"
     },
     "output_type": "display_data"
    }
   ],
   "source": [
    "plt.figure(figsize=(15,8))\n",
    "sns.boxplot(x='HenID',y='closeness',data=df_SNA.sort_values(['closeness']));"
   ]
  },
  {
   "cell_type": "code",
   "execution_count": 147,
   "metadata": {},
   "outputs": [
    {
     "name": "stderr",
     "output_type": "stream",
     "text": [
      "C:\\Users\\camil\\anaconda3\\lib\\site-packages\\ipykernel\\ipkernel.py:283: DeprecationWarning: `should_run_async` will not call `transform_cell` automatically in the future. Please pass the result to `transformed_cell` argument and any exception that happen during thetransform in `preprocessing_exc_tuple` in IPython 7.17 and above.\n",
      "  and should_run_async(code)\n"
     ]
    },
    {
     "data": {
      "image/png": "[encoded data removed]",
      "text/plain": [
       "<Figure size 432x288 with 1 Axes>"
      ]
     },
     "metadata": {
      "needs_background": "light"
     },
     "output_type": "display_data"
    }
   ],
   "source": [
    "sns.scatterplot(x='degree',y='betweeness',data=df_SNA, hue='date');"
   ]
  },
  {
   "cell_type": "code",
   "execution_count": 148,
   "metadata": {},
   "outputs": [
    {
     "name": "stderr",
     "output_type": "stream",
     "text": [
      "C:\\Users\\camil\\anaconda3\\lib\\site-packages\\ipykernel\\ipkernel.py:283: DeprecationWarning: `should_run_async` will not call `transform_cell` automatically in the future. Please pass the result to `transformed_cell` argument and any exception that happen during thetransform in `preprocessing_exc_tuple` in IPython 7.17 and above.\n",
      "  and should_run_async(code)\n"
     ]
    },
    {
     "data": {
      "image/png": "[encoded data removed]",
      "text/plain": [
       "<Figure size 432x288 with 1 Axes>"
      ]
     },
     "metadata": {
      "needs_background": "light"
     },
     "output_type": "display_data"
    }
   ],
   "source": [
    "sns.scatterplot(x='closeness',y='betweeness',data=df_SNA, hue='date');"
   ]
  },
  {
   "cell_type": "markdown",
   "metadata": {},
   "source": [
    "## small verification"
   ]
  },
  {
   "cell_type": "code",
   "execution_count": 112,
   "metadata": {},
   "outputs": [
    {
     "name": "stdout",
     "output_type": "stream",
     "text": [
      "------------- degree\n"
     ]
    },
    {
     "name": "stderr",
     "output_type": "stream",
     "text": [
      "C:\\Users\\camil\\anaconda3\\lib\\site-packages\\ipykernel\\ipkernel.py:283: DeprecationWarning: `should_run_async` will not call `transform_cell` automatically in the future. Please pass the result to `transformed_cell` argument and any exception that happen during thetransform in `preprocessing_exc_tuple` in IPython 7.17 and above.\n",
      "  and should_run_async(code)\n"
     ]
    },
    {
     "data": {
      "text/plain": [
       "{1: 0.375,\n",
       " 2: 0.375,\n",
       " 3: 0.625,\n",
       " 4: 0.5,\n",
       " 5: 0.125,\n",
       " 6: 0.25,\n",
       " 7: 0.125,\n",
       " 8: 0.25,\n",
       " 9: 0.125}"
      ]
     },
     "metadata": {},
     "output_type": "display_data"
    },
    {
     "name": "stdout",
     "output_type": "stream",
     "text": [
      "------------- weighted degree\n"
     ]
    },
    {
     "data": {
      "text/plain": [
       "{1: 0.02375,\n",
       " 2: 0.005,\n",
       " 3: 0.045,\n",
       " 4: 0.015,\n",
       " 5: 0.0025,\n",
       " 6: 0.00375,\n",
       " 7: 0.01875,\n",
       " 8: 0.00875,\n",
       " 9: 0.01}"
      ]
     },
     "metadata": {},
     "output_type": "display_data"
    },
    {
     "name": "stdout",
     "output_type": "stream",
     "text": [
      "------------- betweenness\n"
     ]
    },
    {
     "data": {
      "text/plain": [
       "{1: 0.25,\n",
       " 2: 0.0,\n",
       " 3: 0.7142857142857142,\n",
       " 4: 0.42857142857142855,\n",
       " 5: 0.0,\n",
       " 6: 0.0,\n",
       " 7: 0.0,\n",
       " 8: 0.0,\n",
       " 9: 0.0}"
      ]
     },
     "metadata": {},
     "output_type": "display_data"
    },
    {
     "name": "stdout",
     "output_type": "stream",
     "text": [
      "------------- closeness\n"
     ]
    },
    {
     "data": {
      "text/plain": [
       "{1: 2.4678663239074554,\n",
       " 2: 1.3241379310344827,\n",
       " 3: 2.9179331306990877,\n",
       " 4: 2.480620155038759,\n",
       " 5: 1.1895910780669146,\n",
       " 6: 1.2260536398467434,\n",
       " 7: 2.493506493506494,\n",
       " 8: 1.93158953722334,\n",
       " 9: 1.9433198380566803}"
      ]
     },
     "metadata": {},
     "output_type": "display_data"
    },
    {
     "data": {
      "image/png": "[encoded data removed]",
      "text/plain": [
       "<Figure size 432x288 with 1 Axes>"
      ]
     },
     "metadata": {},
     "output_type": "display_data"
    }
   ],
   "source": [
    "# we mainly want to verify that we used distanc einstead of weight correctly.\n",
    "# we want that if an edge increase its weight, adjacent nodes should have higher degree, closenness and betweeness\n",
    "G_test=nx.Graph()\n",
    "G_test.add_node(1,pos=(1,1))\n",
    "G_test.add_node(2,pos=(2,2))\n",
    "G_test.add_node(3,pos=(1,0))\n",
    "G_test.add_node(4,pos=(3,3))\n",
    "G_test.add_node(5,pos=(5,5))\n",
    "G_test.add_node(6,pos=(3,6))\n",
    "G_test.add_node(7,pos=(2,4))\n",
    "G_test.add_node(8,pos=(5,1))\n",
    "G_test.add_node(9,pos=(4,4))\n",
    "G_test.add_edge(1,2,weight=1, distance=1/1)\n",
    "G_test.add_edge(1,3,weight=10, distance=1/10)\n",
    "G_test.add_edge(1,9,weight=8, distance=1/8)\n",
    "G_test.add_edge(2,3,weight=2, distance=1/2)\n",
    "G_test.add_edge(2,6,weight=1, distance=1/1)\n",
    "G_test.add_edge(3,7,weight=15, distance=1/15)\n",
    "G_test.add_edge(3,8,weight=4, distance=1/4)\n",
    "G_test.add_edge(4,3,weight=5, distance=1/5)\n",
    "G_test.add_edge(4,5,weight=2, distance=1/2)\n",
    "G_test.add_edge(4,6,weight=2, distance=1/2)\n",
    "G_test.add_edge(4,8,weight=3, distance=1/3)\n",
    "pos=nx.get_node_attributes(G_test,'pos')\n",
    "nx.draw(G_test,pos)\n",
    "labels = nx.get_edge_attributes(G_test,'weight')\n",
    "nx.draw(G_test,pos,edge_color='black',width=1,linewidths=1,\\\n",
    "node_size=500,node_color='pink',alpha=0.9,\\\n",
    "labels={node:node for node in G_test.nodes()})\n",
    "\n",
    "nx.draw_networkx_edge_labels(G_test,pos,edge_labels=nx.get_edge_attributes(G_test,'weight'));\n",
    "dico_v_dg = nx.degree_centrality(G_test)\n",
    "print('------------- degree')\n",
    "display(dico_v_dg)\n",
    "\n",
    "#For weighted networks sums the weights of the edges (stronger weight: more similar) and divide by th emax possible\n",
    "#i.e. divide by (len(G)-1) * max_sim\n",
    "dico_v_Wdg = weighted_degree_centrality(G_test, max_sim=100)\n",
    "print('------------- weighted degree')\n",
    "display(dico_v_Wdg)\n",
    "\n",
    "#Compute the shortest-path betweenness centrality for nodes. see doc for additional info\n",
    "#return a Dictionary of nodes with betweenness centrality as the value.\n",
    "#from doc: \"Weights are used to calculate weighted shortest paths, so they are interpreted as distances.\"\n",
    "#with weight it uses Dijkstra's algorithm\n",
    "dico_v_bw = nx.betweenness_centrality(G_test, weight='distance')\n",
    "print('------------- betweenness')\n",
    "display(dico_v_bw)\n",
    "\n",
    "#Compute closeness centrality for node, see doc for additional info\n",
    "#return a Dictionary of nodes with closeness centrality as the value\n",
    "#its uses of \"distance\" instead of \"weight\"\n",
    "dico_v_cl = nx.closeness_centrality(G_test, distance='distance')\n",
    "print('------------- closeness')\n",
    "display(dico_v_cl)"
   ]
  },
  {
   "cell_type": "code",
   "execution_count": 111,
   "metadata": {},
   "outputs": [
    {
     "name": "stdout",
     "output_type": "stream",
     "text": [
      "------------- degree\n"
     ]
    },
    {
     "name": "stderr",
     "output_type": "stream",
     "text": [
      "C:\\Users\\camil\\anaconda3\\lib\\site-packages\\ipykernel\\ipkernel.py:283: DeprecationWarning: `should_run_async` will not call `transform_cell` automatically in the future. Please pass the result to `transformed_cell` argument and any exception that happen during thetransform in `preprocessing_exc_tuple` in IPython 7.17 and above.\n",
      "  and should_run_async(code)\n"
     ]
    },
    {
     "data": {
      "text/plain": [
       "{1: 0.375,\n",
       " 2: 0.375,\n",
       " 3: 0.625,\n",
       " 4: 0.5,\n",
       " 5: 0.125,\n",
       " 6: 0.25,\n",
       " 7: 0.125,\n",
       " 8: 0.25,\n",
       " 9: 0.125}"
      ]
     },
     "metadata": {},
     "output_type": "display_data"
    },
    {
     "name": "stdout",
     "output_type": "stream",
     "text": [
      "------------- weighted degree\n"
     ]
    },
    {
     "data": {
      "text/plain": [
       "{1: 0.02375,\n",
       " 2: 0.005,\n",
       " 3: 0.0575,\n",
       " 4: 0.0275,\n",
       " 5: 0.0025,\n",
       " 6: 0.00375,\n",
       " 7: 0.01875,\n",
       " 8: 0.00875,\n",
       " 9: 0.01}"
      ]
     },
     "metadata": {},
     "output_type": "display_data"
    },
    {
     "name": "stdout",
     "output_type": "stream",
     "text": [
      "------------- betweenness\n"
     ]
    },
    {
     "data": {
      "text/plain": [
       "{1: 0.25,\n",
       " 2: 0.0,\n",
       " 3: 0.8214285714285714,\n",
       " 4: 0.42857142857142855,\n",
       " 5: 0.0,\n",
       " 6: 0.0,\n",
       " 7: 0.0,\n",
       " 8: 0.0,\n",
       " 9: 0.0}"
      ]
     },
     "metadata": {},
     "output_type": "display_data"
    },
    {
     "name": "stdout",
     "output_type": "stream",
     "text": [
      "------------- closeness\n"
     ]
    },
    {
     "data": {
      "text/plain": [
       "{1: 2.81524926686217,\n",
       " 2: 1.3852813852813852,\n",
       " 3: 3.4163701067615655,\n",
       " 4: 3.147540983606557,\n",
       " 5: 1.324137931034483,\n",
       " 6: 1.3389121338912136,\n",
       " 7: 2.8486646884273,\n",
       " 8: 1.955193482688391,\n",
       " 9: 2.1524663677130045}"
      ]
     },
     "metadata": {},
     "output_type": "display_data"
    },
    {
     "data": {
      "image/png": "[encoded data removed]",
      "text/plain": [
       "<Figure size 432x288 with 1 Axes>"
      ]
     },
     "metadata": {},
     "output_type": "display_data"
    }
   ],
   "source": [
    "#EDGE 3-4 NOW HIGHER DEGREE\n",
    "# we mainly want to verify that we used distanc einstead of weight correctly.\n",
    "# we want that if an edge increase its weight, adjacent nodes should have higher degree, closenness and betweeness\n",
    "G_test=nx.Graph()\n",
    "G_test.add_node(1,pos=(1,1))\n",
    "G_test.add_node(2,pos=(2,2))\n",
    "G_test.add_node(3,pos=(1,0))\n",
    "G_test.add_node(4,pos=(3,3))\n",
    "G_test.add_node(5,pos=(5,5))\n",
    "G_test.add_node(6,pos=(3,6))\n",
    "G_test.add_node(7,pos=(2,4))\n",
    "G_test.add_node(8,pos=(5,1))\n",
    "G_test.add_node(9,pos=(4,4))\n",
    "G_test.add_edge(1,2,weight=1, distance=1/1)\n",
    "G_test.add_edge(1,3,weight=10, distance=1/10)\n",
    "G_test.add_edge(1,9,weight=8, distance=1/8)\n",
    "G_test.add_edge(2,3,weight=2, distance=1/2)\n",
    "G_test.add_edge(2,6,weight=1, distance=1/1)\n",
    "G_test.add_edge(3,7,weight=15, distance=1/15)\n",
    "G_test.add_edge(3,8,weight=4, distance=1/4)\n",
    "G_test.add_edge(4,3,weight=15, distance=1/15)\n",
    "G_test.add_edge(4,5,weight=2, distance=1/2)\n",
    "G_test.add_edge(4,6,weight=2, distance=1/2)\n",
    "G_test.add_edge(4,8,weight=3, distance=1/3)\n",
    "pos=nx.get_node_attributes(G_test,'pos')\n",
    "nx.draw(G_test,pos)\n",
    "labels = nx.get_edge_attributes(G_test,'weight')\n",
    "nx.draw(G_test,pos,edge_color='black',width=1,linewidths=1,\\\n",
    "node_size=500,node_color='pink',alpha=0.9,\\\n",
    "labels={node:node for node in G_test.nodes()})\n",
    "\n",
    "nx.draw_networkx_edge_labels(G_test,pos,edge_labels=nx.get_edge_attributes(G_test,'weight'));\n",
    "dico_v_dg = nx.degree_centrality(G_test)\n",
    "print('------------- degree')\n",
    "display(dico_v_dg)\n",
    "\n",
    "#For weighted networks sums the weights of the edges (stronger weight: more similar) and divide by th emax possible\n",
    "#i.e. divide by (len(G)-1) * max_sim\n",
    "dico_v_Wdg = weighted_degree_centrality(G_test, max_sim=100)\n",
    "print('------------- weighted degree')\n",
    "display(dico_v_Wdg)\n",
    "\n",
    "#Compute the shortest-path betweenness centrality for nodes. see doc for additional info\n",
    "#return a Dictionary of nodes with betweenness centrality as the value.\n",
    "#from doc: \"Weights are used to calculate weighted shortest paths, so they are interpreted as distances.\"\n",
    "#with weight it uses Dijkstra's algorithm\n",
    "dico_v_bw = nx.betweenness_centrality(G_test, weight='distance')\n",
    "print('------------- betweenness')\n",
    "display(dico_v_bw)\n",
    "\n",
    "#Compute closeness centrality for node, see doc for additional info\n",
    "#return a Dictionary of nodes with closeness centrality as the value\n",
    "#its uses of \"distance\" instead of \"weight\"\n",
    "dico_v_cl = nx.closeness_centrality(G_test, distance='distance')\n",
    "print('------------- closeness')\n",
    "display(dico_v_cl)"
   ]
  },
  {
   "cell_type": "code",
   "execution_count": null,
   "metadata": {},
   "outputs": [],
   "source": []
  },
  {
   "cell_type": "code",
   "execution_count": null,
   "metadata": {},
   "outputs": [],
   "source": []
  },
  {
   "cell_type": "code",
   "execution_count": null,
   "metadata": {},
   "outputs": [],
   "source": []
  },
  {
   "cell_type": "code",
   "execution_count": null,
   "metadata": {},
   "outputs": [],
   "source": []
  },
  {
   "cell_type": "code",
   "execution_count": null,
   "metadata": {},
   "outputs": [],
   "source": []
  },
  {
   "cell_type": "code",
   "execution_count": null,
   "metadata": {},
   "outputs": [],
   "source": []
  }
 ],
 "metadata": {
  "kernelspec": {
   "display_name": "Python 3",
   "language": "python",
   "name": "python3"
  },
  "language_info": {
   "codemirror_mode": {
    "name": "ipython",
    "version": 3
   },
   "file_extension": ".py",
   "mimetype": "text/x-python",
   "name": "python",
   "nbconvert_exporter": "python",
   "pygments_lexer": "ipython3",
   "version": "3.8.5"
  }
 },
 "nbformat": 4,
 "nbformat_minor": 2
}
