{
 "cells": [
  {
   "cell_type": "code",
   "execution_count": 2,
   "metadata": {},
   "outputs": [],
   "source": [
    "#basic package\n",
    "import tqdm\n",
    "import os\n",
    "import numpy as np\n",
    "import glob\n",
    "import pandas as pd\n",
    "import sys\n",
    "import time\n",
    "import datetime as dt\n",
    "import itertools\n",
    "import re\n",
    "import math\n",
    "from collections import Counter\n",
    "import operator\n",
    "\n",
    "#plot\n",
    "import matplotlib.pyplot as plt\n",
    "import seaborn as sns"
   ]
  },
  {
   "cell_type": "code",
   "execution_count": 3,
   "metadata": {},
   "outputs": [
    {
     "ename": "SyntaxError",
     "evalue": "invalid syntax (UTILS.py, line 3938)",
     "output_type": "error",
     "traceback": [
      "Traceback \u001b[1;36m(most recent call last)\u001b[0m:\n",
      "  File \u001b[0;32m\"C:\\Users\\camil\\anaconda3\\lib\\site-packages\\IPython\\core\\interactiveshell.py\"\u001b[0m, line \u001b[0;32m3418\u001b[0m, in \u001b[0;35mrun_code\u001b[0m\n    exec(code_obj, self.user_global_ns, self.user_ns)\n",
      "\u001b[1;36m  File \u001b[1;32m\"<ipython-input-3-649f84ef4226>\"\u001b[1;36m, line \u001b[1;32m4\u001b[1;36m, in \u001b[1;35m<module>\u001b[1;36m\u001b[0m\n\u001b[1;33m    from UTILS import preprocessing_Origins,verification_based_on_initial_record,\\\u001b[0m\n",
      "\u001b[1;36m  File \u001b[1;32m\"C:\\Users\\camil\\Desktop\\animals_code\\PhD-AnimalWelfare\\UTILS.py\"\u001b[1;36m, line \u001b[1;32m3938\u001b[0m\n\u001b[1;33m    if c!='duration_1_Zone'\u001b[0m\n\u001b[1;37m                           ^\u001b[0m\n\u001b[1;31mSyntaxError\u001b[0m\u001b[1;31m:\u001b[0m invalid syntax\n"
     ]
    }
   ],
   "source": [
    "PACKAGE_PARENT = '../'\n",
    "SCRIPT_DIR = os.path.dirname(os.path.realpath(os.path.join(os.getcwd(), os.path.expanduser('__file__'))))\n",
    "sys.path.append(os.path.normpath(os.path.join(SCRIPT_DIR, PACKAGE_PARENT)))\n",
    "from UTILS import preprocessing_Origins,verification_based_on_initial_record,\\\n",
    "time_series_henColumn_tsRow,is_day,vertical_travel_distance, li_missingZone_mvtPerc_DU, li_event_chaoticmvt_z_d,\\\n",
    "ZoneVariable, HenDailyVariable_Origins, boxplot_distribution_entropy,\\\n",
    "nbr_transition, max_duration_zones, openDevice, kmeans_clustering\n",
    "import config_origins as config"
   ]
  },
  {
   "cell_type": "markdown",
   "metadata": {},
   "source": [
    "# Define parameters"
   ]
  },
  {
   "cell_type": "code",
   "execution_count": 3,
   "metadata": {
    "scrolled": true
   },
   "outputs": [
    {
     "name": "stdout",
     "output_type": "stream",
     "text": [
      "change the configuration file if not done yet!\n",
      "correctlightschedule_\n"
     ]
    },
    {
     "name": "stderr",
     "output_type": "stream",
     "text": [
      "C:\\Users\\camil\\anaconda3\\lib\\site-packages\\ipykernel\\ipkernel.py:283: DeprecationWarning: `should_run_async` will not call `transform_cell` automatically in the future. Please pass the result to `transformed_cell` argument and any exception that happen during thetransform in `preprocessing_exc_tuple` in IPython 7.17 and above.\n",
      "  and should_run_async(code)\n"
     ]
    }
   ],
   "source": [
    "print('change the configuration file if not done yet!')\n",
    "path_extracted_data = config.path_extracted_data\n",
    "path_initial_data = config.path_initial_data\n",
    "id_run = config.id_run\n",
    "dico_matching = config.dico_matching\n",
    "print(id_run)\n",
    "path_extracted_data_visual = os.path.join(path_extracted_data,'visual')\n",
    "#create a director if not existing\n",
    "if not os.path.exists(path_extracted_data_visual):\n",
    "    os.makedirs(path_extracted_data_visual)"
   ]
  },
  {
   "cell_type": "markdown",
   "metadata": {},
   "source": [
    "# Variables at Hen level"
   ]
  },
  {
   "cell_type": "code",
   "execution_count": 4,
   "metadata": {},
   "outputs": [
    {
     "name": "stderr",
     "output_type": "stream",
     "text": [
      "C:\\Users\\camil\\anaconda3\\lib\\site-packages\\ipykernel\\ipkernel.py:283: DeprecationWarning: `should_run_async` will not call `transform_cell` automatically in the future. Please pass the result to `transformed_cell` argument and any exception that happen during thetransform in `preprocessing_exc_tuple` in IPython 7.17 and above.\n",
      "  and should_run_async(code)\n"
     ]
    }
   ],
   "source": [
    "#WARNING: we do it at seconds level, so the miliseconds from the general cleaning is not used!! "
   ]
  },
  {
   "cell_type": "code",
   "execution_count": 5,
   "metadata": {},
   "outputs": [
    {
     "name": "stderr",
     "output_type": "stream",
     "text": [
      "C:\\Users\\camil\\anaconda3\\lib\\site-packages\\ipykernel\\ipkernel.py:283: DeprecationWarning: `should_run_async` will not call `transform_cell` automatically in the future. Please pass the result to `transformed_cell` argument and any exception that happen during thetransform in `preprocessing_exc_tuple` in IPython 7.17 and above.\n",
      "  and should_run_async(code)\n"
     ]
    },
    {
     "name": "stdout",
     "output_type": "stream",
     "text": [
      "(2059712, 16)\n"
     ]
    },
    {
     "data": {
      "text/html": [
       "<div>\n",
       "<style scoped>\n",
       "    .dataframe tbody tr th:only-of-type {\n",
       "        vertical-align: middle;\n",
       "    }\n",
       "\n",
       "    .dataframe tbody tr th {\n",
       "        vertical-align: top;\n",
       "    }\n",
       "\n",
       "    .dataframe thead th {\n",
       "        text-align: right;\n",
       "    }\n",
       "</style>\n",
       "<table border=\"1\" class=\"dataframe\">\n",
       "  <thead>\n",
       "    <tr style=\"text-align: right;\">\n",
       "      <th></th>\n",
       "      <th>HenID</th>\n",
       "      <th>PenID</th>\n",
       "      <th>system</th>\n",
       "      <th>Zone</th>\n",
       "      <th>model_prediction</th>\n",
       "      <th>Timestamp</th>\n",
       "      <th>date</th>\n",
       "      <th>next_record_date</th>\n",
       "      <th>duration</th>\n",
       "      <th>previous_record_date</th>\n",
       "      <th>previous_duration</th>\n",
       "      <th>next_zone</th>\n",
       "      <th>previous_zone</th>\n",
       "      <th>previous_previous_zone</th>\n",
       "      <th>correction_is_consecutive_equal_initial_zone</th>\n",
       "      <th>is_WG_open</th>\n",
       "    </tr>\n",
       "  </thead>\n",
       "  <tbody>\n",
       "    <tr>\n",
       "      <th>0</th>\n",
       "      <td>hen_71</td>\n",
       "      <td>pen12</td>\n",
       "      <td>10 - 12</td>\n",
       "      <td>3_Zone</td>\n",
       "      <td>1</td>\n",
       "      <td>2020-09-29 09:07:00</td>\n",
       "      <td>2020-09-29</td>\n",
       "      <td>2020-09-29 09:08:26.000</td>\n",
       "      <td>0 days 00:01:26</td>\n",
       "      <td>NaN</td>\n",
       "      <td>NaN</td>\n",
       "      <td>3_Zone</td>\n",
       "      <td>NaN</td>\n",
       "      <td>NaN</td>\n",
       "      <td>False</td>\n",
       "      <td>False</td>\n",
       "    </tr>\n",
       "    <tr>\n",
       "      <th>1</th>\n",
       "      <td>hen_7</td>\n",
       "      <td>pen11</td>\n",
       "      <td>10 - 12</td>\n",
       "      <td>3_Zone</td>\n",
       "      <td>1</td>\n",
       "      <td>2020-09-29 09:08:12</td>\n",
       "      <td>2020-09-29</td>\n",
       "      <td>2020-09-29 09:12:16.000</td>\n",
       "      <td>0 days 00:04:04</td>\n",
       "      <td>NaN</td>\n",
       "      <td>NaN</td>\n",
       "      <td>3_Zone</td>\n",
       "      <td>NaN</td>\n",
       "      <td>NaN</td>\n",
       "      <td>False</td>\n",
       "      <td>False</td>\n",
       "    </tr>\n",
       "    <tr>\n",
       "      <th>2</th>\n",
       "      <td>hen_10</td>\n",
       "      <td>pen11</td>\n",
       "      <td>10 - 12</td>\n",
       "      <td>3_Zone</td>\n",
       "      <td>1</td>\n",
       "      <td>2020-09-29 09:19:19</td>\n",
       "      <td>2020-09-29</td>\n",
       "      <td>2020-09-29 09:20:27.000</td>\n",
       "      <td>0 days 00:01:08</td>\n",
       "      <td>NaN</td>\n",
       "      <td>NaN</td>\n",
       "      <td>3_Zone</td>\n",
       "      <td>NaN</td>\n",
       "      <td>NaN</td>\n",
       "      <td>False</td>\n",
       "      <td>False</td>\n",
       "    </tr>\n",
       "  </tbody>\n",
       "</table>\n",
       "</div>"
      ],
      "text/plain": [
       "    HenID  PenID   system    Zone  model_prediction           Timestamp  \\\n",
       "0  hen_71  pen12  10 - 12  3_Zone                 1 2020-09-29 09:07:00   \n",
       "1   hen_7  pen11  10 - 12  3_Zone                 1 2020-09-29 09:08:12   \n",
       "2  hen_10  pen11  10 - 12  3_Zone                 1 2020-09-29 09:19:19   \n",
       "\n",
       "        date         next_record_date         duration previous_record_date  \\\n",
       "0 2020-09-29  2020-09-29 09:08:26.000  0 days 00:01:26                  NaN   \n",
       "1 2020-09-29  2020-09-29 09:12:16.000  0 days 00:04:04                  NaN   \n",
       "2 2020-09-29  2020-09-29 09:20:27.000  0 days 00:01:08                  NaN   \n",
       "\n",
       "  previous_duration next_zone previous_zone previous_previous_zone  \\\n",
       "0               NaN    3_Zone           NaN                    NaN   \n",
       "1               NaN    3_Zone           NaN                    NaN   \n",
       "2               NaN    3_Zone           NaN                    NaN   \n",
       "\n",
       "   correction_is_consecutive_equal_initial_zone  is_WG_open  \n",
       "0                                         False       False  \n",
       "1                                         False       False  \n",
       "2                                         False       False  "
      ]
     },
     "execution_count": 5,
     "metadata": {},
     "output_type": "execute_result"
    }
   ],
   "source": [
    "#for being more reproductible, we open the file that was saved from cleaning\n",
    "df = pd.read_csv(os.path.join(path_extracted_data, id_run+'_CLEANEDDATA.csv'), sep=';', parse_dates=['Timestamp', 'date']) \n",
    "print(df.shape)\n",
    "df.head(3)"
   ]
  },
  {
   "cell_type": "code",
   "execution_count": 6,
   "metadata": {
    "scrolled": true
   },
   "outputs": [
    {
     "name": "stderr",
     "output_type": "stream",
     "text": [
      "C:\\Users\\camil\\anaconda3\\lib\\site-packages\\ipykernel\\ipkernel.py:283: DeprecationWarning: `should_run_async` will not call `transform_cell` automatically in the future. Please pass the result to `transformed_cell` argument and any exception that happen during thetransform in `preprocessing_exc_tuple` in IPython 7.17 and above.\n",
      "  and should_run_async(code)\n",
      "\r",
      "  0%|                                                                                            | 0/8 [00:00<?, ?it/s]"
     ]
    },
    {
     "name": "stdout",
     "output_type": "stream",
     "text": [
      "pen12\n"
     ]
    },
    {
     "name": "stderr",
     "output_type": "stream",
     "text": [
      "C:\\Users\\camil\\Desktop\\animals_code\\PhD-AnimalWelfare\\UTILS.py:3969: SettingWithCopyWarning: \n",
      "A value is trying to be set on a copy of a slice from a DataFrame\n",
      "\n",
      "See the caveats in the documentation: https://pandas.pydata.org/pandas-docs/stable/user_guide/indexing.html#returning-a-view-versus-a-copy\n",
      "  df.sort_values([timestamp_name], inplace=True)\n",
      "C:\\Users\\camil\\Desktop\\animals_code\\PhD-AnimalWelfare\\UTILS.py:3971: SettingWithCopyWarning: \n",
      "A value is trying to be set on a copy of a slice from a DataFrame.\n",
      "Try using .loc[row_indexer,col_indexer] = value instead\n",
      "\n",
      "See the caveats in the documentation: https://pandas.pydata.org/pandas-docs/stable/user_guide/indexing.html#returning-a-view-versus-a-copy\n",
      "  df[timestamp_name] = df[timestamp_name].map(lambda x: dt.datetime(x.year,x.month,x.day,x.hour,x.minute, x.second))\n"
     ]
    },
    {
     "name": "stdout",
     "output_type": "stream",
     "text": [
      "----------------- Create time serie\n",
      "in this time series there is 31 hens\n",
      "The initial starting date in over all is: 2020-09-29 09:07:00, and the ending date will be: 2021-05-10 08:42:20\n",
      "But note that birds may have different ending and starting date which should be taken into account when computing variables\n",
      "and after ending the last day at midnight : 2020-09-29 09:07:00, and the ending date will be: 2021-05-10 23:59:59\n",
      "Total running time: 5.25 mn\n",
      "your time series has 1 seconds between two timestamps\n",
      "----------------- main night zone and nbr of transitions over night....\n",
      "----------------- total duration per Zone in seconds....\n",
      "----------------- first timestamp in each zone per day....\n",
      "----------------- number of Zone (excluding nan)....\n",
      "----------------- compute some variables based on a list of zones over a day....\n",
      "----------------NESTBOX\n"
     ]
    },
    {
     "name": "stderr",
     "output_type": "stream",
     "text": [
      "\n",
      "  0%|                                                                                           | 0/31 [00:00<?, ?it/s]\u001b[A\n",
      "  6%|█████▎                                                                             | 2/31 [00:00<00:12,  2.25it/s]\u001b[A\n",
      " 10%|████████                                                                           | 3/31 [00:01<00:12,  2.23it/s]\u001b[A\n",
      " 13%|██████████▋                                                                        | 4/31 [00:01<00:09,  2.89it/s]\u001b[A\n",
      " 16%|█████████████▍                                                                     | 5/31 [00:01<00:10,  2.59it/s]\u001b[A\n",
      " 19%|████████████████                                                                   | 6/31 [00:02<00:10,  2.34it/s]\u001b[A\n",
      " 23%|██████████████████▋                                                                | 7/31 [00:02<00:08,  2.76it/s]\u001b[A\n",
      " 26%|█████████████████████▍                                                             | 8/31 [00:03<00:08,  2.74it/s]\u001b[A\n",
      " 32%|██████████████████████████▍                                                       | 10/31 [00:03<00:06,  3.40it/s]\u001b[A\n",
      " 39%|███████████████████████████████▋                                                  | 12/31 [00:04<00:06,  3.13it/s]\u001b[A\n",
      " 42%|██████████████████████████████████▍                                               | 13/31 [00:04<00:05,  3.05it/s]\u001b[A\n",
      " 45%|█████████████████████████████████████                                             | 14/31 [00:04<00:06,  2.64it/s]\u001b[A\n",
      " 48%|███████████████████████████████████████▋                                          | 15/31 [00:05<00:05,  3.07it/s]\u001b[A\n",
      " 55%|████████████████████████████████████████████▉                                     | 17/31 [00:05<00:03,  3.70it/s]\u001b[A\n",
      " 61%|██████████████████████████████████████████████████▎                               | 19/31 [00:05<00:02,  4.32it/s]\u001b[A\n",
      " 71%|██████████████████████████████████████████████████████████▏                       | 22/31 [00:06<00:01,  4.91it/s]\u001b[A\n",
      " 74%|████████████████████████████████████████████████████████████▊                     | 23/31 [00:06<00:02,  3.91it/s]\u001b[A\n",
      " 77%|███████████████████████████████████████████████████████████████▍                  | 24/31 [00:06<00:02,  3.44it/s]\u001b[A\n",
      " 84%|████████████████████████████████████████████████████████████████████▊             | 26/31 [00:07<00:01,  4.33it/s]\u001b[A\n",
      " 90%|██████████████████████████████████████████████████████████████████████████        | 28/31 [00:07<00:00,  4.03it/s]\u001b[A\n",
      " 94%|████████████████████████████████████████████████████████████████████████████▋     | 29/31 [00:08<00:00,  2.62it/s]\u001b[A\n",
      " 97%|███████████████████████████████████████████████████████████████████████████████▎  | 30/31 [00:08<00:00,  2.61it/s]\u001b[A\n",
      "100%|██████████████████████████████████████████████████████████████████████████████████| 31/31 [00:09<00:00,  3.42it/s]\u001b[A\n",
      "C:\\Users\\camil\\anaconda3\\lib\\site-packages\\numpy\\lib\\nanfunctions.py:1366: RuntimeWarning: Mean of empty slice\n",
      "  return np.nanmean(a, axis, out=out, keepdims=keepdims)\n"
     ]
    },
    {
     "name": "stdout",
     "output_type": "stream",
     "text": [
      "------------ add hen basics info\n",
      "From the focalBirdinfo, you have 158 ative tags\n",
      "(5951, 119)\n",
      "(4423, 121)\n",
      "-------------- Lets remove unwanted dates at PENS level\n"
     ]
    },
    {
     "data": {
      "text/html": [
       "<text style=color:black>By removing the unwanted days we passed from 4423 to 4151 timestamp (losing </text> <text style=color:red>272</text> <text style=color:black> timestamp)</text>"
      ],
      "text/plain": [
       "<IPython.core.display.HTML object>"
      ]
     },
     "metadata": {},
     "output_type": "display_data"
    },
    {
     "name": "stdout",
     "output_type": "stream",
     "text": [
      "All the night variables are:  Index(['HenID', 'night_level', 'night_Max_duration_zones',\n",
      "       'night_distribution_entropy', 'night_Total_number_transition',\n",
      "       'is_mvt_night', 'nbr_transition_at_h0', 'nbr_transition_at_h1',\n",
      "       'nbr_transition_at_h2', 'nbr_transition_at_h3', 'nbr_transition_at_h4',\n",
      "       'nbr_transition_at_h5', 'nbr_transition_at_h6', 'nbr_transition_at_h7',\n",
      "       'nbr_transition_at_h8', 'nbr_transition_at_h21',\n",
      "       'nbr_transition_at_h22', 'nbr_transition_at_h23',\n",
      "       'nbr_transition_next1hafterlightoff', 'level', 'PenID', 'CLASS',\n",
      "       'R-Pen', 'InitialStartDate', '29-09 weight', '10-12 juin weight',\n",
      "       'weight 23-11-2020', 'weight 04-01-2021', 'weight 01-02-21',\n",
      "       'weight 12-04-21', 'Treatment'],\n",
      "      dtype='object')\n",
      "['night_level']\n",
      "-------------- Lets remove dates of tags when they were not giving deviceupdate regularly\n"
     ]
    },
    {
     "data": {
      "text/html": [
       "<text style=color:black>By removing the unwanted days we passed from 5823 to 5766 timestamp (losing </text> <text style=color:red>57</text> <text style=color:black> timestamp)</text>"
      ],
      "text/plain": [
       "<IPython.core.display.HTML object>"
      ]
     },
     "metadata": {},
     "output_type": "display_data"
    },
    {
     "name": "stdout",
     "output_type": "stream",
     "text": [
      "-------------- Lets remove dates of tags when they were having more or equal than 10 times LFCOUNTER=0 a day\n"
     ]
    },
    {
     "data": {
      "text/html": [
       "<text style=color:black>By removing the unwanted days we passed from 5766 to 5735 timestamp (losing </text> <text style=color:red>31</text> <text style=color:black> timestamp)</text>"
      ],
      "text/plain": [
       "<IPython.core.display.HTML object>"
      ]
     },
     "metadata": {},
     "output_type": "display_data"
    },
    {
     "name": "stdout",
     "output_type": "stream",
     "text": [
      "-------------- Lets remove the 30.09.2020 for the tags taht still had no transition from before the light went on \n"
     ]
    },
    {
     "data": {
      "text/html": [
       "<text style=color:black>By removing the unwanted days we passed from 5735 to 5735 timestamp (losing </text> <text style=color:red>0</text> <text style=color:black> timestamp)</text>"
      ],
      "text/plain": [
       "<IPython.core.display.HTML object>"
      ]
     },
     "metadata": {},
     "output_type": "display_data"
    },
    {
     "name": "stdout",
     "output_type": "stream",
     "text": [
      "save\n"
     ]
    },
    {
     "name": "stderr",
     "output_type": "stream",
     "text": [
      "\r",
      " 12%|██████████                                                                      | 1/8 [56:24<6:34:54, 3384.94s/it]"
     ]
    },
    {
     "name": "stdout",
     "output_type": "stream",
     "text": [
      "Total running time: 56.26 mn\n",
      "(5735, 147)\n",
      "pen11\n"
     ]
    },
    {
     "name": "stderr",
     "output_type": "stream",
     "text": [
      "C:\\Users\\camil\\Desktop\\animals_code\\PhD-AnimalWelfare\\UTILS.py:3969: SettingWithCopyWarning: \n",
      "A value is trying to be set on a copy of a slice from a DataFrame\n",
      "\n",
      "See the caveats in the documentation: https://pandas.pydata.org/pandas-docs/stable/user_guide/indexing.html#returning-a-view-versus-a-copy\n",
      "  df.sort_values([timestamp_name], inplace=True)\n",
      "C:\\Users\\camil\\Desktop\\animals_code\\PhD-AnimalWelfare\\UTILS.py:3971: SettingWithCopyWarning: \n",
      "A value is trying to be set on a copy of a slice from a DataFrame.\n",
      "Try using .loc[row_indexer,col_indexer] = value instead\n",
      "\n",
      "See the caveats in the documentation: https://pandas.pydata.org/pandas-docs/stable/user_guide/indexing.html#returning-a-view-versus-a-copy\n",
      "  df[timestamp_name] = df[timestamp_name].map(lambda x: dt.datetime(x.year,x.month,x.day,x.hour,x.minute, x.second))\n"
     ]
    },
    {
     "name": "stdout",
     "output_type": "stream",
     "text": [
      "----------------- Create time serie\n",
      "in this time series there is 28 hens\n",
      "The initial starting date in over all is: 2020-09-29 09:08:12, and the ending date will be: 2021-05-10 08:42:22\n",
      "But note that birds may have different ending and starting date which should be taken into account when computing variables\n",
      "and after ending the last day at midnight : 2020-09-29 09:08:12, and the ending date will be: 2021-05-10 23:59:59\n",
      "Total running time: 3.92 mn\n",
      "your time series has 1 seconds between two timestamps\n",
      "----------------- main night zone and nbr of transitions over night....\n",
      "----------------- total duration per Zone in seconds....\n",
      "----------------- first timestamp in each zone per day....\n",
      "----------------- number of Zone (excluding nan)....\n",
      "----------------- compute some variables based on a list of zones over a day....\n",
      "several max-duration-zone\n",
      "several max-duration-zone\n",
      "----------------NESTBOX\n"
     ]
    },
    {
     "name": "stderr",
     "output_type": "stream",
     "text": [
      "\n",
      "  0%|                                                                                           | 0/28 [00:00<?, ?it/s]\u001b[A\n",
      "  4%|██▉                                                                                | 1/28 [00:00<00:10,  2.64it/s]\u001b[A\n",
      "  7%|█████▉                                                                             | 2/28 [00:00<00:09,  2.60it/s]\u001b[A\n",
      " 11%|████████▉                                                                          | 3/28 [00:01<00:08,  2.90it/s]\u001b[A\n",
      " 14%|███████████▊                                                                       | 4/28 [00:01<00:09,  2.62it/s]\u001b[A\n",
      " 21%|█████████████████▊                                                                 | 6/28 [00:02<00:07,  2.85it/s]\u001b[A\n",
      " 25%|████████████████████▊                                                              | 7/28 [00:02<00:07,  2.82it/s]\u001b[A\n",
      " 29%|███████████████████████▋                                                           | 8/28 [00:02<00:08,  2.42it/s]\u001b[A\n",
      " 32%|██████████████████████████▋                                                        | 9/28 [00:03<00:08,  2.32it/s]\u001b[A\n",
      " 36%|█████████████████████████████▎                                                    | 10/28 [00:03<00:07,  2.31it/s]\u001b[A\n",
      " 39%|████████████████████████████████▏                                                 | 11/28 [00:04<00:07,  2.40it/s]\u001b[A\n",
      " 43%|███████████████████████████████████▏                                              | 12/28 [00:04<00:05,  2.87it/s]\u001b[A\n",
      " 46%|██████████████████████████████████████                                            | 13/28 [00:04<00:04,  3.27it/s]\u001b[A\n",
      " 50%|█████████████████████████████████████████                                         | 14/28 [00:04<00:03,  3.59it/s]\u001b[A\n",
      " 61%|█████████████████████████████████████████████████▊                                | 17/28 [00:05<00:02,  3.98it/s]\u001b[A\n",
      " 75%|█████████████████████████████████████████████████████████████▌                    | 21/28 [00:05<00:01,  4.63it/s]\u001b[A\n",
      " 79%|████████████████████████████████████████████████████████████████▍                 | 22/28 [00:06<00:01,  3.56it/s]\u001b[A\n",
      " 82%|███████████████████████████████████████████████████████████████████▎              | 23/28 [00:06<00:01,  2.96it/s]\u001b[A\n",
      " 86%|██████████████████████████████████████████████████████████████████████▎           | 24/28 [00:07<00:01,  3.08it/s]\u001b[A\n",
      " 89%|█████████████████████████████████████████████████████████████████████████▏        | 25/28 [00:07<00:01,  2.59it/s]\u001b[A\n",
      " 96%|███████████████████████████████████████████████████████████████████████████████   | 27/28 [00:08<00:00,  2.89it/s]\u001b[A\n",
      "100%|██████████████████████████████████████████████████████████████████████████████████| 28/28 [00:08<00:00,  3.20it/s]\u001b[A\n",
      "C:\\Users\\camil\\anaconda3\\lib\\site-packages\\numpy\\lib\\nanfunctions.py:1366: RuntimeWarning: Mean of empty slice\n",
      "  return np.nanmean(a, axis, out=out, keepdims=keepdims)\n"
     ]
    },
    {
     "name": "stdout",
     "output_type": "stream",
     "text": [
      "------------ add hen basics info\n",
      "From the focalBirdinfo, you have 158 ative tags\n",
      "(5494, 119)\n",
      "(4469, 121)\n",
      "-------------- Lets remove unwanted dates at PENS level\n"
     ]
    },
    {
     "data": {
      "text/html": [
       "<text style=color:black>By removing the unwanted days we passed from 4469 to 4193 timestamp (losing </text> <text style=color:red>276</text> <text style=color:black> timestamp)</text>"
      ],
      "text/plain": [
       "<IPython.core.display.HTML object>"
      ]
     },
     "metadata": {},
     "output_type": "display_data"
    },
    {
     "name": "stdout",
     "output_type": "stream",
     "text": [
      "All the night variables are:  Index(['HenID', 'night_level', 'night_Max_duration_zones',\n",
      "       'night_distribution_entropy', 'night_Total_number_transition',\n",
      "       'is_mvt_night', 'nbr_transition_at_h0', 'nbr_transition_at_h1',\n",
      "       'nbr_transition_at_h2', 'nbr_transition_at_h3', 'nbr_transition_at_h4',\n",
      "       'nbr_transition_at_h5', 'nbr_transition_at_h6', 'nbr_transition_at_h7',\n",
      "       'nbr_transition_at_h8', 'nbr_transition_at_h21',\n",
      "       'nbr_transition_at_h22', 'nbr_transition_at_h23',\n",
      "       'nbr_transition_next1hafterlightoff', 'level', 'PenID', 'CLASS',\n",
      "       'R-Pen', 'InitialStartDate', '29-09 weight', '10-12 juin weight',\n",
      "       'weight 23-11-2020', 'weight 04-01-2021', 'weight 01-02-21',\n",
      "       'weight 12-04-21', 'Treatment'],\n",
      "      dtype='object')\n",
      "['night_level']\n",
      "-------------- Lets remove dates of tags when they were not giving deviceupdate regularly\n"
     ]
    },
    {
     "data": {
      "text/html": [
       "<text style=color:black>By removing the unwanted days we passed from 5374 to 5320 timestamp (losing </text> <text style=color:red>54</text> <text style=color:black> timestamp)</text>"
      ],
      "text/plain": [
       "<IPython.core.display.HTML object>"
      ]
     },
     "metadata": {},
     "output_type": "display_data"
    },
    {
     "name": "stdout",
     "output_type": "stream",
     "text": [
      "-------------- Lets remove dates of tags when they were having more or equal than 10 times LFCOUNTER=0 a day\n"
     ]
    },
    {
     "data": {
      "text/html": [
       "<text style=color:black>By removing the unwanted days we passed from 5320 to 5318 timestamp (losing </text> <text style=color:red>2</text> <text style=color:black> timestamp)</text>"
      ],
      "text/plain": [
       "<IPython.core.display.HTML object>"
      ]
     },
     "metadata": {},
     "output_type": "display_data"
    },
    {
     "name": "stdout",
     "output_type": "stream",
     "text": [
      "-------------- Lets remove the 30.09.2020 for the tags taht still had no transition from before the light went on \n"
     ]
    },
    {
     "data": {
      "text/html": [
       "<text style=color:black>By removing the unwanted days we passed from 5318 to 5318 timestamp (losing </text> <text style=color:red>0</text> <text style=color:black> timestamp)</text>"
      ],
      "text/plain": [
       "<IPython.core.display.HTML object>"
      ]
     },
     "metadata": {},
     "output_type": "display_data"
    },
    {
     "name": "stdout",
     "output_type": "stream",
     "text": [
      "save\n"
     ]
    },
    {
     "name": "stderr",
     "output_type": "stream",
     "text": [
      "\r",
      " 25%|███████████████████▌                                                          | 2/8 [1:42:30<5:19:55, 3199.27s/it]"
     ]
    },
    {
     "name": "stdout",
     "output_type": "stream",
     "text": [
      "Total running time: 45.95 mn\n",
      "(5318, 147)\n",
      "pen10\n"
     ]
    },
    {
     "name": "stderr",
     "output_type": "stream",
     "text": [
      "C:\\Users\\camil\\Desktop\\animals_code\\PhD-AnimalWelfare\\UTILS.py:3969: SettingWithCopyWarning: \n",
      "A value is trying to be set on a copy of a slice from a DataFrame\n",
      "\n",
      "See the caveats in the documentation: https://pandas.pydata.org/pandas-docs/stable/user_guide/indexing.html#returning-a-view-versus-a-copy\n",
      "  df.sort_values([timestamp_name], inplace=True)\n",
      "C:\\Users\\camil\\Desktop\\animals_code\\PhD-AnimalWelfare\\UTILS.py:3971: SettingWithCopyWarning: \n",
      "A value is trying to be set on a copy of a slice from a DataFrame.\n",
      "Try using .loc[row_indexer,col_indexer] = value instead\n",
      "\n",
      "See the caveats in the documentation: https://pandas.pydata.org/pandas-docs/stable/user_guide/indexing.html#returning-a-view-versus-a-copy\n",
      "  df[timestamp_name] = df[timestamp_name].map(lambda x: dt.datetime(x.year,x.month,x.day,x.hour,x.minute, x.second))\n"
     ]
    },
    {
     "name": "stdout",
     "output_type": "stream",
     "text": [
      "----------------- Create time serie\n",
      "in this time series there is 28 hens\n",
      "The initial starting date in over all is: 2020-09-29 09:20:21, and the ending date will be: 2021-05-10 08:42:27\n",
      "But note that birds may have different ending and starting date which should be taken into account when computing variables\n",
      "and after ending the last day at midnight : 2020-09-29 09:20:21, and the ending date will be: 2021-05-10 23:59:59\n",
      "Total running time: 3.94 mn\n",
      "your time series has 1 seconds between two timestamps\n",
      "----------------- main night zone and nbr of transitions over night....\n",
      "----------------- total duration per Zone in seconds....\n",
      "----------------- first timestamp in each zone per day....\n",
      "----------------- number of Zone (excluding nan)....\n",
      "----------------- compute some variables based on a list of zones over a day....\n",
      "----------------NESTBOX\n"
     ]
    },
    {
     "name": "stderr",
     "output_type": "stream",
     "text": [
      "\n",
      "  0%|                                                                                           | 0/28 [00:00<?, ?it/s]\u001b[A\n",
      "  7%|█████▉                                                                             | 2/28 [00:00<00:05,  5.11it/s]\u001b[A\n",
      " 11%|████████▉                                                                          | 3/28 [00:00<00:07,  3.27it/s]\u001b[A\n",
      " 14%|███████████▊                                                                       | 4/28 [00:01<00:08,  2.75it/s]\u001b[A\n",
      " 18%|██████████████▊                                                                    | 5/28 [00:01<00:08,  2.85it/s]\u001b[A\n",
      " 21%|█████████████████▊                                                                 | 6/28 [00:02<00:09,  2.41it/s]\u001b[A\n",
      " 25%|████████████████████▊                                                              | 7/28 [00:02<00:07,  2.72it/s]\u001b[A\n",
      " 29%|███████████████████████▋                                                           | 8/28 [00:02<00:07,  2.80it/s]\u001b[A\n",
      " 39%|████████████████████████████████▏                                                 | 11/28 [00:03<00:04,  3.55it/s]\u001b[A\n",
      " 43%|███████████████████████████████████▏                                              | 12/28 [00:03<00:05,  2.71it/s]\u001b[A\n",
      " 46%|██████████████████████████████████████                                            | 13/28 [00:04<00:05,  2.66it/s]\u001b[A\n",
      " 50%|█████████████████████████████████████████                                         | 14/28 [00:04<00:04,  3.18it/s]\u001b[A\n",
      " 54%|███████████████████████████████████████████▉                                      | 15/28 [00:04<00:03,  3.63it/s]\u001b[A\n",
      " 57%|██████████████████████████████████████████████▊                                   | 16/28 [00:04<00:03,  3.88it/s]\u001b[A\n",
      " 68%|███████████████████████████████████████████████████████▋                          | 19/28 [00:04<00:01,  5.07it/s]\u001b[A\n",
      " 71%|██████████████████████████████████████████████████████████▌                       | 20/28 [00:05<00:02,  3.66it/s]\u001b[A\n",
      " 75%|█████████████████████████████████████████████████████████████▌                    | 21/28 [00:05<00:02,  3.24it/s]\u001b[A\n",
      " 79%|████████████████████████████████████████████████████████████████▍                 | 22/28 [00:06<00:01,  3.16it/s]\u001b[A\n",
      " 82%|███████████████████████████████████████████████████████████████████▎              | 23/28 [00:06<00:01,  2.55it/s]\u001b[A\n",
      " 86%|██████████████████████████████████████████████████████████████████████▎           | 24/28 [00:07<00:01,  2.28it/s]\u001b[A\n",
      " 89%|█████████████████████████████████████████████████████████████████████████▏        | 25/28 [00:07<00:01,  2.16it/s]\u001b[A\n",
      " 93%|████████████████████████████████████████████████████████████████████████████▏     | 26/28 [00:08<00:01,  1.93it/s]\u001b[A\n",
      "100%|██████████████████████████████████████████████████████████████████████████████████| 28/28 [00:09<00:00,  3.10it/s]\u001b[A\n",
      "C:\\Users\\camil\\anaconda3\\lib\\site-packages\\numpy\\lib\\nanfunctions.py:1366: RuntimeWarning: Mean of empty slice\n",
      "  return np.nanmean(a, axis, out=out, keepdims=keepdims)\n"
     ]
    },
    {
     "name": "stdout",
     "output_type": "stream",
     "text": [
      "------------ add hen basics info\n",
      "From the focalBirdinfo, you have 158 ative tags\n",
      "(5489, 119)\n",
      "(4447, 121)\n",
      "-------------- Lets remove unwanted dates at PENS level\n"
     ]
    },
    {
     "data": {
      "text/html": [
       "<text style=color:black>By removing the unwanted days we passed from 4447 to 4177 timestamp (losing </text> <text style=color:red>270</text> <text style=color:black> timestamp)</text>"
      ],
      "text/plain": [
       "<IPython.core.display.HTML object>"
      ]
     },
     "metadata": {},
     "output_type": "display_data"
    },
    {
     "name": "stdout",
     "output_type": "stream",
     "text": [
      "All the night variables are:  Index(['HenID', 'night_level', 'night_Max_duration_zones',\n",
      "       'night_distribution_entropy', 'night_Total_number_transition',\n",
      "       'is_mvt_night', 'nbr_transition_at_h0', 'nbr_transition_at_h1',\n",
      "       'nbr_transition_at_h2', 'nbr_transition_at_h3', 'nbr_transition_at_h4',\n",
      "       'nbr_transition_at_h5', 'nbr_transition_at_h6', 'nbr_transition_at_h7',\n",
      "       'nbr_transition_at_h8', 'nbr_transition_at_h21',\n",
      "       'nbr_transition_at_h22', 'nbr_transition_at_h23',\n",
      "       'nbr_transition_next1hafterlightoff', 'level', 'PenID', 'CLASS',\n",
      "       'R-Pen', 'InitialStartDate', '29-09 weight', '10-12 juin weight',\n",
      "       'weight 23-11-2020', 'weight 04-01-2021', 'weight 01-02-21',\n",
      "       'weight 12-04-21', 'Treatment'],\n",
      "      dtype='object')\n",
      "['night_level']\n",
      "-------------- Lets remove dates of tags when they were not giving deviceupdate regularly\n"
     ]
    },
    {
     "data": {
      "text/html": [
       "<text style=color:black>By removing the unwanted days we passed from 5368 to 5317 timestamp (losing </text> <text style=color:red>51</text> <text style=color:black> timestamp)</text>"
      ],
      "text/plain": [
       "<IPython.core.display.HTML object>"
      ]
     },
     "metadata": {},
     "output_type": "display_data"
    },
    {
     "name": "stdout",
     "output_type": "stream",
     "text": [
      "-------------- Lets remove dates of tags when they were having more or equal than 10 times LFCOUNTER=0 a day\n"
     ]
    },
    {
     "data": {
      "text/html": [
       "<text style=color:black>By removing the unwanted days we passed from 5317 to 5316 timestamp (losing </text> <text style=color:red>1</text> <text style=color:black> timestamp)</text>"
      ],
      "text/plain": [
       "<IPython.core.display.HTML object>"
      ]
     },
     "metadata": {},
     "output_type": "display_data"
    },
    {
     "name": "stdout",
     "output_type": "stream",
     "text": [
      "-------------- Lets remove the 30.09.2020 for the tags taht still had no transition from before the light went on \n"
     ]
    },
    {
     "data": {
      "text/html": [
       "<text style=color:black>By removing the unwanted days we passed from 5316 to 5316 timestamp (losing </text> <text style=color:red>0</text> <text style=color:black> timestamp)</text>"
      ],
      "text/plain": [
       "<IPython.core.display.HTML object>"
      ]
     },
     "metadata": {},
     "output_type": "display_data"
    },
    {
     "name": "stdout",
     "output_type": "stream",
     "text": [
      "save\n"
     ]
    },
    {
     "name": "stderr",
     "output_type": "stream",
     "text": [
      "\r",
      " 38%|█████████████████████████████▎                                                | 3/8 [2:25:57<4:11:47, 3021.53s/it]"
     ]
    },
    {
     "name": "stdout",
     "output_type": "stream",
     "text": [
      "Total running time: 43.29 mn\n",
      "(5316, 147)\n",
      "pen3\n"
     ]
    },
    {
     "name": "stderr",
     "output_type": "stream",
     "text": [
      "C:\\Users\\camil\\Desktop\\animals_code\\PhD-AnimalWelfare\\UTILS.py:3969: SettingWithCopyWarning: \n",
      "A value is trying to be set on a copy of a slice from a DataFrame\n",
      "\n",
      "See the caveats in the documentation: https://pandas.pydata.org/pandas-docs/stable/user_guide/indexing.html#returning-a-view-versus-a-copy\n",
      "  df.sort_values([timestamp_name], inplace=True)\n",
      "C:\\Users\\camil\\Desktop\\animals_code\\PhD-AnimalWelfare\\UTILS.py:3971: SettingWithCopyWarning: \n",
      "A value is trying to be set on a copy of a slice from a DataFrame.\n",
      "Try using .loc[row_indexer,col_indexer] = value instead\n",
      "\n",
      "See the caveats in the documentation: https://pandas.pydata.org/pandas-docs/stable/user_guide/indexing.html#returning-a-view-versus-a-copy\n",
      "  df[timestamp_name] = df[timestamp_name].map(lambda x: dt.datetime(x.year,x.month,x.day,x.hour,x.minute, x.second))\n",
      "C:\\Users\\camil\\anaconda3\\lib\\site-packages\\pandas\\core\\frame.py:4162: SettingWithCopyWarning: \n",
      "A value is trying to be set on a copy of a slice from a DataFrame\n",
      "\n",
      "See the caveats in the documentation: https://pandas.pydata.org/pandas-docs/stable/user_guide/indexing.html#returning-a-view-versus-a-copy\n",
      "  return super().drop(\n"
     ]
    },
    {
     "name": "stdout",
     "output_type": "stream",
     "text": [
      "----------------- Create time serie\n",
      "in this time series there is 28 hens\n",
      "The initial starting date in over all is: 2020-09-29 09:32:45, and the ending date will be: 2021-05-10 08:26:44\n",
      "But note that birds may have different ending and starting date which should be taken into account when computing variables\n",
      "and after ending the last day at midnight : 2020-09-29 09:32:45, and the ending date will be: 2021-05-10 23:59:59\n",
      "Total running time: 4.02 mn\n",
      "your time series has 1 seconds between two timestamps\n",
      "----------------- main night zone and nbr of transitions over night....\n",
      "----------------- total duration per Zone in seconds....\n",
      "----------------- first timestamp in each zone per day....\n",
      "----------------- number of Zone (excluding nan)....\n",
      "----------------- compute some variables based on a list of zones over a day....\n",
      "----------------NESTBOX\n"
     ]
    },
    {
     "name": "stderr",
     "output_type": "stream",
     "text": [
      "\n",
      "  0%|                                                                                           | 0/28 [00:00<?, ?it/s]\u001b[A\n",
      "  4%|██▉                                                                                | 1/28 [00:00<00:08,  3.03it/s]\u001b[A\n",
      "  7%|█████▉                                                                             | 2/28 [00:00<00:06,  3.82it/s]\u001b[A\n",
      " 14%|███████████▊                                                                       | 4/28 [00:00<00:06,  3.94it/s]\u001b[A\n",
      " 18%|██████████████▊                                                                    | 5/28 [00:01<00:06,  3.41it/s]\u001b[A\n",
      " 21%|█████████████████▊                                                                 | 6/28 [00:01<00:05,  3.86it/s]\u001b[A\n",
      " 25%|████████████████████▊                                                              | 7/28 [00:01<00:06,  3.40it/s]\u001b[A\n",
      " 29%|███████████████████████▋                                                           | 8/28 [00:02<00:05,  3.51it/s]\u001b[A\n",
      " 32%|██████████████████████████▋                                                        | 9/28 [00:02<00:05,  3.47it/s]\u001b[A\n",
      " 36%|█████████████████████████████▎                                                    | 10/28 [00:02<00:06,  2.81it/s]\u001b[A\n",
      " 39%|████████████████████████████████▏                                                 | 11/28 [00:03<00:05,  3.17it/s]\u001b[A\n",
      " 43%|███████████████████████████████████▏                                              | 12/28 [00:03<00:05,  2.96it/s]\u001b[A\n",
      " 46%|██████████████████████████████████████                                            | 13/28 [00:03<00:04,  3.36it/s]\u001b[A\n",
      " 57%|██████████████████████████████████████████████▊                                   | 16/28 [00:03<00:02,  4.56it/s]\u001b[A\n",
      " 64%|████████████████████████████████████████████████████▋                             | 18/28 [00:04<00:02,  4.05it/s]\u001b[A\n",
      " 75%|█████████████████████████████████████████████████████████████▌                    | 21/28 [00:04<00:01,  4.85it/s]\u001b[A\n",
      " 79%|████████████████████████████████████████████████████████████████▍                 | 22/28 [00:04<00:01,  4.98it/s]\u001b[A\n",
      " 82%|███████████████████████████████████████████████████████████████████▎              | 23/28 [00:05<00:00,  5.31it/s]\u001b[A\n",
      " 86%|██████████████████████████████████████████████████████████████████████▎           | 24/28 [00:05<00:00,  4.82it/s]\u001b[A\n",
      " 89%|█████████████████████████████████████████████████████████████████████████▏        | 25/28 [00:05<00:00,  3.88it/s]\u001b[A\n",
      " 93%|████████████████████████████████████████████████████████████████████████████▏     | 26/28 [00:06<00:00,  3.56it/s]\u001b[A\n",
      " 96%|███████████████████████████████████████████████████████████████████████████████   | 27/28 [00:06<00:00,  3.79it/s]\u001b[A\n",
      "100%|██████████████████████████████████████████████████████████████████████████████████| 28/28 [00:06<00:00,  4.30it/s]\u001b[A\n",
      "C:\\Users\\camil\\anaconda3\\lib\\site-packages\\numpy\\lib\\nanfunctions.py:1366: RuntimeWarning: Mean of empty slice\n",
      "  return np.nanmean(a, axis, out=out, keepdims=keepdims)\n"
     ]
    },
    {
     "name": "stdout",
     "output_type": "stream",
     "text": [
      "------------ add hen basics info\n",
      "From the focalBirdinfo, you have 158 ative tags\n",
      "(5482, 119)\n",
      "(4445, 121)\n",
      "-------------- Lets remove unwanted dates at PENS level\n"
     ]
    },
    {
     "data": {
      "text/html": [
       "<text style=color:black>By removing the unwanted days we passed from 4445 to 4092 timestamp (losing </text> <text style=color:red>353</text> <text style=color:black> timestamp)</text>"
      ],
      "text/plain": [
       "<IPython.core.display.HTML object>"
      ]
     },
     "metadata": {},
     "output_type": "display_data"
    },
    {
     "name": "stdout",
     "output_type": "stream",
     "text": [
      "All the night variables are:  Index(['HenID', 'night_level', 'night_Max_duration_zones',\n",
      "       'night_distribution_entropy', 'night_Total_number_transition',\n",
      "       'is_mvt_night', 'nbr_transition_at_h0', 'nbr_transition_at_h1',\n",
      "       'nbr_transition_at_h2', 'nbr_transition_at_h3', 'nbr_transition_at_h4',\n",
      "       'nbr_transition_at_h5', 'nbr_transition_at_h6', 'nbr_transition_at_h7',\n",
      "       'nbr_transition_at_h8', 'nbr_transition_at_h21',\n",
      "       'nbr_transition_at_h22', 'nbr_transition_at_h23',\n",
      "       'nbr_transition_next1hafterlightoff', 'level', 'PenID', 'CLASS',\n",
      "       'R-Pen', 'InitialStartDate', '29-09 weight', '10-12 juin weight',\n",
      "       'weight 23-11-2020', 'weight 04-01-2021', 'weight 01-02-21',\n",
      "       'weight 12-04-21', 'Treatment'],\n",
      "      dtype='object')\n",
      "['night_level']\n",
      "-------------- Lets remove dates of tags when they were not giving deviceupdate regularly\n"
     ]
    },
    {
     "data": {
      "text/html": [
       "<text style=color:black>By removing the unwanted days we passed from 5384 to 5341 timestamp (losing </text> <text style=color:red>43</text> <text style=color:black> timestamp)</text>"
      ],
      "text/plain": [
       "<IPython.core.display.HTML object>"
      ]
     },
     "metadata": {},
     "output_type": "display_data"
    },
    {
     "name": "stdout",
     "output_type": "stream",
     "text": [
      "-------------- Lets remove dates of tags when they were having more or equal than 10 times LFCOUNTER=0 a day\n"
     ]
    },
    {
     "data": {
      "text/html": [
       "<text style=color:black>By removing the unwanted days we passed from 5341 to 5252 timestamp (losing </text> <text style=color:red>89</text> <text style=color:black> timestamp)</text>"
      ],
      "text/plain": [
       "<IPython.core.display.HTML object>"
      ]
     },
     "metadata": {},
     "output_type": "display_data"
    },
    {
     "name": "stdout",
     "output_type": "stream",
     "text": [
      "-------------- Lets remove the 30.09.2020 for the tags taht still had no transition from before the light went on \n"
     ]
    },
    {
     "data": {
      "text/html": [
       "<text style=color:black>By removing the unwanted days we passed from 5252 to 5251 timestamp (losing </text> <text style=color:red>1</text> <text style=color:black> timestamp)</text>"
      ],
      "text/plain": [
       "<IPython.core.display.HTML object>"
      ]
     },
     "metadata": {},
     "output_type": "display_data"
    },
    {
     "name": "stdout",
     "output_type": "stream",
     "text": [
      "save\n"
     ]
    },
    {
     "name": "stderr",
     "output_type": "stream",
     "text": [
      "\r",
      " 50%|███████████████████████████████████████                                       | 4/8 [3:14:06<3:18:47, 2981.79s/it]"
     ]
    },
    {
     "name": "stdout",
     "output_type": "stream",
     "text": [
      "Total running time: 47.96 mn\n",
      "(5251, 147)\n",
      "pen4\n"
     ]
    },
    {
     "name": "stderr",
     "output_type": "stream",
     "text": [
      "C:\\Users\\camil\\Desktop\\animals_code\\PhD-AnimalWelfare\\UTILS.py:3969: SettingWithCopyWarning: \n",
      "A value is trying to be set on a copy of a slice from a DataFrame\n",
      "\n",
      "See the caveats in the documentation: https://pandas.pydata.org/pandas-docs/stable/user_guide/indexing.html#returning-a-view-versus-a-copy\n",
      "  df.sort_values([timestamp_name], inplace=True)\n",
      "C:\\Users\\camil\\Desktop\\animals_code\\PhD-AnimalWelfare\\UTILS.py:3971: SettingWithCopyWarning: \n",
      "A value is trying to be set on a copy of a slice from a DataFrame.\n",
      "Try using .loc[row_indexer,col_indexer] = value instead\n",
      "\n",
      "See the caveats in the documentation: https://pandas.pydata.org/pandas-docs/stable/user_guide/indexing.html#returning-a-view-versus-a-copy\n",
      "  df[timestamp_name] = df[timestamp_name].map(lambda x: dt.datetime(x.year,x.month,x.day,x.hour,x.minute, x.second))\n",
      "C:\\Users\\camil\\anaconda3\\lib\\site-packages\\pandas\\core\\frame.py:4162: SettingWithCopyWarning: \n",
      "A value is trying to be set on a copy of a slice from a DataFrame\n",
      "\n",
      "See the caveats in the documentation: https://pandas.pydata.org/pandas-docs/stable/user_guide/indexing.html#returning-a-view-versus-a-copy\n",
      "  return super().drop(\n"
     ]
    },
    {
     "name": "stdout",
     "output_type": "stream",
     "text": [
      "----------------- Create time serie\n",
      "in this time series there is 27 hens\n",
      "The initial starting date in over all is: 2020-09-29 09:33:43, and the ending date will be: 2021-05-10 08:26:01\n",
      "But note that birds may have different ending and starting date which should be taken into account when computing variables\n",
      "and after ending the last day at midnight : 2020-09-29 09:33:43, and the ending date will be: 2021-05-10 23:59:59\n",
      "Total running time: 3.83 mn\n",
      "your time series has 1 seconds between two timestamps\n",
      "----------------- main night zone and nbr of transitions over night....\n",
      "----------------- total duration per Zone in seconds....\n",
      "----------------- first timestamp in each zone per day....\n",
      "----------------- number of Zone (excluding nan)....\n",
      "----------------- compute some variables based on a list of zones over a day....\n",
      "several max-duration-zone\n",
      "----------------NESTBOX\n"
     ]
    },
    {
     "name": "stderr",
     "output_type": "stream",
     "text": [
      "\n",
      "  0%|                                                                                           | 0/27 [00:00<?, ?it/s]\u001b[A\n",
      "  4%|███                                                                                | 1/27 [00:00<00:04,  5.25it/s]\u001b[A\n",
      " 11%|█████████▏                                                                         | 3/27 [00:00<00:05,  4.67it/s]\u001b[A\n",
      " 15%|████████████▎                                                                      | 4/27 [00:01<00:05,  4.24it/s]\u001b[A\n",
      " 19%|███████████████▎                                                                   | 5/27 [00:01<00:05,  3.99it/s]\u001b[A\n",
      " 22%|██████████████████▍                                                                | 6/27 [00:01<00:07,  2.98it/s]\u001b[A\n",
      " 26%|█████████████████████▌                                                             | 7/27 [00:02<00:06,  3.14it/s]\u001b[A\n",
      " 30%|████████████████████████▌                                                          | 8/27 [00:02<00:06,  2.79it/s]\u001b[A\n",
      " 33%|███████████████████████████▋                                                       | 9/27 [00:03<00:07,  2.47it/s]\u001b[A\n",
      " 37%|██████████████████████████████▎                                                   | 10/27 [00:03<00:07,  2.33it/s]\u001b[A\n",
      " 41%|█████████████████████████████████▍                                                | 11/27 [00:04<00:06,  2.30it/s]\u001b[A\n",
      " 44%|████████████████████████████████████▍                                             | 12/27 [00:04<00:05,  2.55it/s]\u001b[A\n",
      " 48%|███████████████████████████████████████▍                                          | 13/27 [00:04<00:05,  2.58it/s]\u001b[A\n",
      " 52%|██████████████████████████████████████████▌                                       | 14/27 [00:04<00:04,  3.01it/s]\u001b[A\n",
      " 56%|█████████████████████████████████████████████▌                                    | 15/27 [00:05<00:03,  3.22it/s]\u001b[A\n",
      " 67%|██████████████████████████████████████████████████████▋                           | 18/27 [00:05<00:02,  4.34it/s]\u001b[A\n",
      " 70%|█████████████████████████████████████████████████████████▋                        | 19/27 [00:05<00:02,  3.25it/s]\u001b[A\n",
      " 74%|████████████████████████████████████████████████████████████▋                     | 20/27 [00:06<00:02,  3.04it/s]\u001b[A\n",
      " 78%|███████████████████████████████████████████████████████████████▊                  | 21/27 [00:06<00:02,  2.67it/s]\u001b[A\n",
      " 85%|█████████████████████████████████████████████████████████████████████▊            | 23/27 [00:07<00:01,  3.00it/s]\u001b[A\n",
      " 89%|████████████████████████████████████████████████████████████████████████▉         | 24/27 [00:07<00:01,  2.84it/s]\u001b[A\n",
      " 93%|███████████████████████████████████████████████████████████████████████████▉      | 25/27 [00:07<00:00,  2.64it/s]\u001b[A\n",
      " 96%|██████████████████████████████████████████████████████████████████████████████▉   | 26/27 [00:08<00:00,  2.73it/s]\u001b[A\n",
      "100%|██████████████████████████████████████████████████████████████████████████████████| 27/27 [00:14<00:00,  1.89it/s]\u001b[A\n",
      "C:\\Users\\camil\\anaconda3\\lib\\site-packages\\numpy\\lib\\nanfunctions.py:1366: RuntimeWarning: Mean of empty slice\n",
      "  return np.nanmean(a, axis, out=out, keepdims=keepdims)\n"
     ]
    },
    {
     "name": "stdout",
     "output_type": "stream",
     "text": [
      "------------ add hen basics info\n",
      "From the focalBirdinfo, you have 158 ative tags\n",
      "(5250, 119)\n",
      "(4436, 121)\n",
      "-------------- Lets remove unwanted dates at PENS level\n"
     ]
    },
    {
     "data": {
      "text/html": [
       "<text style=color:black>By removing the unwanted days we passed from 4436 to 4091 timestamp (losing </text> <text style=color:red>345</text> <text style=color:black> timestamp)</text>"
      ],
      "text/plain": [
       "<IPython.core.display.HTML object>"
      ]
     },
     "metadata": {},
     "output_type": "display_data"
    },
    {
     "name": "stdout",
     "output_type": "stream",
     "text": [
      "All the night variables are:  Index(['HenID', 'night_level', 'night_Max_duration_zones',\n",
      "       'night_distribution_entropy', 'night_Total_number_transition',\n",
      "       'is_mvt_night', 'nbr_transition_at_h0', 'nbr_transition_at_h1',\n",
      "       'nbr_transition_at_h2', 'nbr_transition_at_h3', 'nbr_transition_at_h4',\n",
      "       'nbr_transition_at_h5', 'nbr_transition_at_h6', 'nbr_transition_at_h7',\n",
      "       'nbr_transition_at_h8', 'nbr_transition_at_h21',\n",
      "       'nbr_transition_at_h22', 'nbr_transition_at_h23',\n",
      "       'nbr_transition_next1hafterlightoff', 'level', 'PenID', 'CLASS',\n",
      "       'R-Pen', 'InitialStartDate', '29-09 weight', '10-12 juin weight',\n",
      "       'weight 23-11-2020', 'weight 04-01-2021', 'weight 01-02-21',\n",
      "       'weight 12-04-21', 'Treatment'],\n",
      "      dtype='object')\n",
      "['night_level']\n",
      "-------------- Lets remove dates of tags when they were not giving deviceupdate regularly\n"
     ]
    },
    {
     "data": {
      "text/html": [
       "<text style=color:black>By removing the unwanted days we passed from 5160 to 5122 timestamp (losing </text> <text style=color:red>38</text> <text style=color:black> timestamp)</text>"
      ],
      "text/plain": [
       "<IPython.core.display.HTML object>"
      ]
     },
     "metadata": {},
     "output_type": "display_data"
    },
    {
     "name": "stdout",
     "output_type": "stream",
     "text": [
      "-------------- Lets remove dates of tags when they were having more or equal than 10 times LFCOUNTER=0 a day\n"
     ]
    },
    {
     "data": {
      "text/html": [
       "<text style=color:black>By removing the unwanted days we passed from 5122 to 5082 timestamp (losing </text> <text style=color:red>40</text> <text style=color:black> timestamp)</text>"
      ],
      "text/plain": [
       "<IPython.core.display.HTML object>"
      ]
     },
     "metadata": {},
     "output_type": "display_data"
    },
    {
     "name": "stdout",
     "output_type": "stream",
     "text": [
      "-------------- Lets remove the 30.09.2020 for the tags taht still had no transition from before the light went on \n"
     ]
    },
    {
     "data": {
      "text/html": [
       "<text style=color:black>By removing the unwanted days we passed from 5082 to 5082 timestamp (losing </text> <text style=color:red>0</text> <text style=color:black> timestamp)</text>"
      ],
      "text/plain": [
       "<IPython.core.display.HTML object>"
      ]
     },
     "metadata": {},
     "output_type": "display_data"
    },
    {
     "name": "stdout",
     "output_type": "stream",
     "text": [
      "save\n"
     ]
    },
    {
     "name": "stderr",
     "output_type": "stream",
     "text": [
      "\r",
      " 62%|████████████████████████████████████████████████▊                             | 5/8 [3:57:20<2:23:15, 2865.26s/it]"
     ]
    },
    {
     "name": "stdout",
     "output_type": "stream",
     "text": [
      "Total running time: 43.10 mn\n",
      "(5082, 147)\n",
      "pen5\n"
     ]
    },
    {
     "name": "stderr",
     "output_type": "stream",
     "text": [
      "C:\\Users\\camil\\Desktop\\animals_code\\PhD-AnimalWelfare\\UTILS.py:3969: SettingWithCopyWarning: \n",
      "A value is trying to be set on a copy of a slice from a DataFrame\n",
      "\n",
      "See the caveats in the documentation: https://pandas.pydata.org/pandas-docs/stable/user_guide/indexing.html#returning-a-view-versus-a-copy\n",
      "  df.sort_values([timestamp_name], inplace=True)\n",
      "C:\\Users\\camil\\Desktop\\animals_code\\PhD-AnimalWelfare\\UTILS.py:3971: SettingWithCopyWarning: \n",
      "A value is trying to be set on a copy of a slice from a DataFrame.\n",
      "Try using .loc[row_indexer,col_indexer] = value instead\n",
      "\n",
      "See the caveats in the documentation: https://pandas.pydata.org/pandas-docs/stable/user_guide/indexing.html#returning-a-view-versus-a-copy\n",
      "  df[timestamp_name] = df[timestamp_name].map(lambda x: dt.datetime(x.year,x.month,x.day,x.hour,x.minute, x.second))\n"
     ]
    },
    {
     "name": "stdout",
     "output_type": "stream",
     "text": [
      "----------------- Create time serie\n",
      "in this time series there is 29 hens\n",
      "The initial starting date in over all is: 2020-09-29 09:33:48, and the ending date will be: 2021-05-10 08:26:39\n",
      "But note that birds may have different ending and starting date which should be taken into account when computing variables\n",
      "and after ending the last day at midnight : 2020-09-29 09:33:48, and the ending date will be: 2021-05-10 23:59:59\n",
      "Total running time: 3.86 mn\n",
      "your time series has 1 seconds between two timestamps\n",
      "----------------- main night zone and nbr of transitions over night....\n",
      "----------------- total duration per Zone in seconds....\n",
      "----------------- first timestamp in each zone per day....\n",
      "----------------- number of Zone (excluding nan)....\n",
      "----------------- compute some variables based on a list of zones over a day....\n",
      "----------------NESTBOX\n"
     ]
    },
    {
     "name": "stderr",
     "output_type": "stream",
     "text": [
      "\n",
      "  0%|                                                                                           | 0/29 [00:00<?, ?it/s]\u001b[A\n",
      "  3%|██▊                                                                                | 1/29 [00:00<00:02,  9.55it/s]\u001b[A\n",
      "  7%|█████▋                                                                             | 2/29 [00:00<00:05,  4.80it/s]\u001b[A\n",
      " 10%|████████▌                                                                          | 3/29 [00:01<00:07,  3.35it/s]\u001b[A\n",
      " 14%|███████████▍                                                                       | 4/29 [00:01<00:07,  3.32it/s]\u001b[A\n",
      " 21%|█████████████████▏                                                                 | 6/29 [00:01<00:06,  3.53it/s]\u001b[A\n",
      " 24%|████████████████████                                                               | 7/29 [00:01<00:05,  4.15it/s]\u001b[A\n",
      " 28%|██████████████████████▉                                                            | 8/29 [00:02<00:05,  3.76it/s]\u001b[A\n",
      " 31%|█████████████████████████▊                                                         | 9/29 [00:02<00:06,  3.16it/s]\u001b[A\n",
      " 34%|████████████████████████████▎                                                     | 10/29 [00:03<00:06,  3.13it/s]\u001b[A\n",
      " 38%|███████████████████████████████                                                   | 11/29 [00:03<00:05,  3.24it/s]\u001b[A\n",
      " 41%|█████████████████████████████████▉                                                | 12/29 [00:03<00:04,  3.55it/s]\u001b[A\n",
      " 45%|████████████████████████████████████▊                                             | 13/29 [00:03<00:04,  3.76it/s]\u001b[A\n",
      " 48%|███████████████████████████████████████▌                                          | 14/29 [00:03<00:03,  4.22it/s]\u001b[A\n",
      " 52%|██████████████████████████████████████████▍                                       | 15/29 [00:04<00:03,  4.18it/s]\u001b[A\n",
      " 55%|█████████████████████████████████████████████▏                                    | 16/29 [00:04<00:03,  3.71it/s]\u001b[A\n",
      " 66%|█████████████████████████████████████████████████████▋                            | 19/29 [00:04<00:02,  4.56it/s]\u001b[A\n",
      " 69%|████████████████████████████████████████████████████████▌                         | 20/29 [00:05<00:02,  3.97it/s]\u001b[A\n",
      " 72%|███████████████████████████████████████████████████████████▍                      | 21/29 [00:05<00:01,  4.15it/s]\u001b[A\n",
      " 83%|███████████████████████████████████████████████████████████████████▊              | 24/29 [00:05<00:00,  5.31it/s]\u001b[A\n",
      " 86%|██████████████████████████████████████████████████████████████████████▋           | 25/29 [00:05<00:00,  4.32it/s]\u001b[A\n",
      " 90%|█████████████████████████████████████████████████████████████████████████▌        | 26/29 [00:06<00:00,  4.21it/s]\u001b[A\n",
      " 93%|████████████████████████████████████████████████████████████████████████████▎     | 27/29 [00:06<00:00,  3.60it/s]\u001b[A\n",
      "100%|██████████████████████████████████████████████████████████████████████████████████| 29/29 [00:06<00:00,  4.26it/s]\u001b[A\n",
      "C:\\Users\\camil\\anaconda3\\lib\\site-packages\\numpy\\lib\\nanfunctions.py:1366: RuntimeWarning: Mean of empty slice\n",
      "  return np.nanmean(a, axis, out=out, keepdims=keepdims)\n"
     ]
    },
    {
     "name": "stdout",
     "output_type": "stream",
     "text": [
      "------------ add hen basics info\n",
      "From the focalBirdinfo, you have 158 ative tags\n",
      "(5637, 119)\n",
      "(4429, 121)\n",
      "-------------- Lets remove unwanted dates at PENS level\n"
     ]
    },
    {
     "data": {
      "text/html": [
       "<text style=color:black>By removing the unwanted days we passed from 4429 to 3982 timestamp (losing </text> <text style=color:red>447</text> <text style=color:black> timestamp)</text>"
      ],
      "text/plain": [
       "<IPython.core.display.HTML object>"
      ]
     },
     "metadata": {},
     "output_type": "display_data"
    },
    {
     "name": "stdout",
     "output_type": "stream",
     "text": [
      "All the night variables are:  Index(['HenID', 'night_level', 'night_Max_duration_zones',\n",
      "       'night_distribution_entropy', 'night_Total_number_transition',\n",
      "       'is_mvt_night', 'nbr_transition_at_h0', 'nbr_transition_at_h1',\n",
      "       'nbr_transition_at_h2', 'nbr_transition_at_h3', 'nbr_transition_at_h4',\n",
      "       'nbr_transition_at_h5', 'nbr_transition_at_h6', 'nbr_transition_at_h7',\n",
      "       'nbr_transition_at_h8', 'nbr_transition_at_h21',\n",
      "       'nbr_transition_at_h22', 'nbr_transition_at_h23',\n",
      "       'nbr_transition_next1hafterlightoff', 'level', 'PenID', 'CLASS',\n",
      "       'R-Pen', 'InitialStartDate', '29-09 weight', '10-12 juin weight',\n",
      "       'weight 23-11-2020', 'weight 04-01-2021', 'weight 01-02-21',\n",
      "       'weight 12-04-21', 'Treatment'],\n",
      "      dtype='object')\n",
      "['night_level']\n",
      "-------------- Lets remove dates of tags when they were not giving deviceupdate regularly\n"
     ]
    },
    {
     "data": {
      "text/html": [
       "<text style=color:black>By removing the unwanted days we passed from 5424 to 5380 timestamp (losing </text> <text style=color:red>44</text> <text style=color:black> timestamp)</text>"
      ],
      "text/plain": [
       "<IPython.core.display.HTML object>"
      ]
     },
     "metadata": {},
     "output_type": "display_data"
    },
    {
     "name": "stdout",
     "output_type": "stream",
     "text": [
      "-------------- Lets remove dates of tags when they were having more or equal than 10 times LFCOUNTER=0 a day\n"
     ]
    },
    {
     "data": {
      "text/html": [
       "<text style=color:black>By removing the unwanted days we passed from 5380 to 5371 timestamp (losing </text> <text style=color:red>9</text> <text style=color:black> timestamp)</text>"
      ],
      "text/plain": [
       "<IPython.core.display.HTML object>"
      ]
     },
     "metadata": {},
     "output_type": "display_data"
    },
    {
     "name": "stdout",
     "output_type": "stream",
     "text": [
      "-------------- Lets remove the 30.09.2020 for the tags taht still had no transition from before the light went on \n"
     ]
    },
    {
     "data": {
      "text/html": [
       "<text style=color:black>By removing the unwanted days we passed from 5371 to 5370 timestamp (losing </text> <text style=color:red>1</text> <text style=color:black> timestamp)</text>"
      ],
      "text/plain": [
       "<IPython.core.display.HTML object>"
      ]
     },
     "metadata": {},
     "output_type": "display_data"
    },
    {
     "name": "stdout",
     "output_type": "stream",
     "text": [
      "save\n"
     ]
    },
    {
     "name": "stderr",
     "output_type": "stream",
     "text": [
      "\r",
      " 75%|██████████████████████████████████████████████████████████▌                   | 6/8 [4:44:01<1:34:52, 2846.08s/it]"
     ]
    },
    {
     "name": "stdout",
     "output_type": "stream",
     "text": [
      "Total running time: 46.55 mn\n",
      "(5370, 147)\n",
      "pen9\n"
     ]
    },
    {
     "name": "stderr",
     "output_type": "stream",
     "text": [
      "C:\\Users\\camil\\Desktop\\animals_code\\PhD-AnimalWelfare\\UTILS.py:3969: SettingWithCopyWarning: \n",
      "A value is trying to be set on a copy of a slice from a DataFrame\n",
      "\n",
      "See the caveats in the documentation: https://pandas.pydata.org/pandas-docs/stable/user_guide/indexing.html#returning-a-view-versus-a-copy\n",
      "  df.sort_values([timestamp_name], inplace=True)\n",
      "C:\\Users\\camil\\Desktop\\animals_code\\PhD-AnimalWelfare\\UTILS.py:3971: SettingWithCopyWarning: \n",
      "A value is trying to be set on a copy of a slice from a DataFrame.\n",
      "Try using .loc[row_indexer,col_indexer] = value instead\n",
      "\n",
      "See the caveats in the documentation: https://pandas.pydata.org/pandas-docs/stable/user_guide/indexing.html#returning-a-view-versus-a-copy\n",
      "  df[timestamp_name] = df[timestamp_name].map(lambda x: dt.datetime(x.year,x.month,x.day,x.hour,x.minute, x.second))\n",
      "C:\\Users\\camil\\anaconda3\\lib\\site-packages\\pandas\\core\\frame.py:4162: SettingWithCopyWarning: \n",
      "A value is trying to be set on a copy of a slice from a DataFrame\n",
      "\n",
      "See the caveats in the documentation: https://pandas.pydata.org/pandas-docs/stable/user_guide/indexing.html#returning-a-view-versus-a-copy\n",
      "  return super().drop(\n"
     ]
    },
    {
     "name": "stdout",
     "output_type": "stream",
     "text": [
      "----------------- Create time serie\n",
      "in this time series there is 28 hens\n",
      "The initial starting date in over all is: 2020-09-29 09:36:51, and the ending date will be: 2021-05-10 08:39:39\n",
      "But note that birds may have different ending and starting date which should be taken into account when computing variables\n",
      "and after ending the last day at midnight : 2020-09-29 09:36:51, and the ending date will be: 2021-05-10 23:59:59\n",
      "Total running time: 3.93 mn\n",
      "your time series has 1 seconds between two timestamps\n",
      "----------------- main night zone and nbr of transitions over night....\n",
      "----------------- total duration per Zone in seconds....\n",
      "----------------- first timestamp in each zone per day....\n",
      "----------------- number of Zone (excluding nan)....\n",
      "----------------- compute some variables based on a list of zones over a day....\n",
      "several max-duration-zone\n",
      "several max-duration-zone\n",
      "----------------NESTBOX\n"
     ]
    },
    {
     "name": "stderr",
     "output_type": "stream",
     "text": [
      "\n",
      "  0%|                                                                                           | 0/28 [00:00<?, ?it/s]\u001b[A\n",
      "  4%|██▉                                                                                | 1/28 [00:00<00:05,  4.54it/s]\u001b[A\n",
      "  7%|█████▉                                                                             | 2/28 [00:00<00:06,  4.04it/s]\u001b[A\n",
      " 11%|████████▉                                                                          | 3/28 [00:00<00:07,  3.35it/s]\u001b[A\n",
      " 18%|██████████████▊                                                                    | 5/28 [00:01<00:06,  3.82it/s]\u001b[A\n",
      " 25%|████████████████████▊                                                              | 7/28 [00:01<00:04,  4.43it/s]\u001b[A\n",
      " 29%|███████████████████████▋                                                           | 8/28 [00:02<00:06,  3.14it/s]\u001b[A\n",
      " 32%|██████████████████████████▋                                                        | 9/28 [00:02<00:07,  2.56it/s]\u001b[A\n",
      " 39%|████████████████████████████████▏                                                 | 11/28 [00:02<00:05,  3.39it/s]\u001b[A\n",
      " 43%|███████████████████████████████████▏                                              | 12/28 [00:02<00:03,  4.06it/s]\u001b[A\n",
      " 46%|██████████████████████████████████████                                            | 13/28 [00:03<00:04,  3.53it/s]\u001b[A\n",
      " 50%|█████████████████████████████████████████                                         | 14/28 [00:03<00:04,  2.87it/s]\u001b[A\n",
      " 54%|███████████████████████████████████████████▉                                      | 15/28 [00:04<00:04,  2.65it/s]\u001b[A\n",
      " 57%|██████████████████████████████████████████████▊                                   | 16/28 [00:04<00:03,  3.10it/s]\u001b[A\n",
      " 61%|█████████████████████████████████████████████████▊                                | 17/28 [00:04<00:03,  3.55it/s]\u001b[A\n",
      " 64%|████████████████████████████████████████████████████▋                             | 18/28 [00:05<00:03,  3.15it/s]\u001b[A\n",
      " 71%|██████████████████████████████████████████████████████████▌                       | 20/28 [00:05<00:01,  4.15it/s]\u001b[A\n",
      " 75%|█████████████████████████████████████████████████████████████▌                    | 21/28 [00:05<00:02,  2.93it/s]\u001b[A\n",
      " 79%|████████████████████████████████████████████████████████████████▍                 | 22/28 [00:05<00:01,  3.27it/s]\u001b[A\n",
      " 82%|███████████████████████████████████████████████████████████████████▎              | 23/28 [00:06<00:01,  3.10it/s]\u001b[A\n",
      " 89%|█████████████████████████████████████████████████████████████████████████▏        | 25/28 [00:06<00:00,  3.88it/s]\u001b[A\n",
      " 93%|████████████████████████████████████████████████████████████████████████████▏     | 26/28 [00:07<00:00,  2.33it/s]\u001b[A\n",
      " 96%|███████████████████████████████████████████████████████████████████████████████   | 27/28 [00:07<00:00,  3.02it/s]\u001b[A\n",
      "100%|██████████████████████████████████████████████████████████████████████████████████| 28/28 [00:07<00:00,  3.55it/s]\u001b[A\n",
      "C:\\Users\\camil\\anaconda3\\lib\\site-packages\\numpy\\lib\\nanfunctions.py:1366: RuntimeWarning: Mean of empty slice\n",
      "  return np.nanmean(a, axis, out=out, keepdims=keepdims)\n"
     ]
    },
    {
     "name": "stdout",
     "output_type": "stream",
     "text": [
      "------------ add hen basics info\n",
      "From the focalBirdinfo, you have 158 ative tags\n",
      "(5435, 119)\n",
      "(4431, 121)\n",
      "-------------- Lets remove unwanted dates at PENS level\n"
     ]
    },
    {
     "data": {
      "text/html": [
       "<text style=color:black>By removing the unwanted days we passed from 4431 to 4149 timestamp (losing </text> <text style=color:red>282</text> <text style=color:black> timestamp)</text>"
      ],
      "text/plain": [
       "<IPython.core.display.HTML object>"
      ]
     },
     "metadata": {},
     "output_type": "display_data"
    },
    {
     "name": "stdout",
     "output_type": "stream",
     "text": [
      "All the night variables are:  Index(['HenID', 'night_level', 'night_Max_duration_zones',\n",
      "       'night_distribution_entropy', 'night_Total_number_transition',\n",
      "       'is_mvt_night', 'nbr_transition_at_h0', 'nbr_transition_at_h1',\n",
      "       'nbr_transition_at_h2', 'nbr_transition_at_h3', 'nbr_transition_at_h4',\n",
      "       'nbr_transition_at_h5', 'nbr_transition_at_h6', 'nbr_transition_at_h7',\n",
      "       'nbr_transition_at_h8', 'nbr_transition_at_h21',\n",
      "       'nbr_transition_at_h22', 'nbr_transition_at_h23',\n",
      "       'nbr_transition_next1hafterlightoff', 'level', 'PenID', 'CLASS',\n",
      "       'R-Pen', 'InitialStartDate', '29-09 weight', '10-12 juin weight',\n",
      "       'weight 23-11-2020', 'weight 04-01-2021', 'weight 01-02-21',\n",
      "       'weight 12-04-21', 'Treatment'],\n",
      "      dtype='object')\n",
      "['night_level']\n",
      "-------------- Lets remove dates of tags when they were not giving deviceupdate regularly\n"
     ]
    },
    {
     "data": {
      "text/html": [
       "<text style=color:black>By removing the unwanted days we passed from 5347 to 5268 timestamp (losing </text> <text style=color:red>79</text> <text style=color:black> timestamp)</text>"
      ],
      "text/plain": [
       "<IPython.core.display.HTML object>"
      ]
     },
     "metadata": {},
     "output_type": "display_data"
    },
    {
     "name": "stdout",
     "output_type": "stream",
     "text": [
      "-------------- Lets remove dates of tags when they were having more or equal than 10 times LFCOUNTER=0 a day\n"
     ]
    },
    {
     "data": {
      "text/html": [
       "<text style=color:black>By removing the unwanted days we passed from 5268 to 5253 timestamp (losing </text> <text style=color:red>15</text> <text style=color:black> timestamp)</text>"
      ],
      "text/plain": [
       "<IPython.core.display.HTML object>"
      ]
     },
     "metadata": {},
     "output_type": "display_data"
    },
    {
     "name": "stdout",
     "output_type": "stream",
     "text": [
      "-------------- Lets remove the 30.09.2020 for the tags taht still had no transition from before the light went on \n"
     ]
    },
    {
     "data": {
      "text/html": [
       "<text style=color:black>By removing the unwanted days we passed from 5253 to 5253 timestamp (losing </text> <text style=color:red>0</text> <text style=color:black> timestamp)</text>"
      ],
      "text/plain": [
       "<IPython.core.display.HTML object>"
      ]
     },
     "metadata": {},
     "output_type": "display_data"
    },
    {
     "name": "stdout",
     "output_type": "stream",
     "text": [
      "save\n"
     ]
    },
    {
     "name": "stderr",
     "output_type": "stream",
     "text": [
      "\r",
      " 88%|██████████████████████████████████████████████████████████████████████          | 7/8 [5:28:11<46:27, 2787.11s/it]"
     ]
    },
    {
     "name": "stdout",
     "output_type": "stream",
     "text": [
      "Total running time: 44.02 mn\n",
      "(5253, 147)\n",
      "pen8\n"
     ]
    },
    {
     "name": "stderr",
     "output_type": "stream",
     "text": [
      "C:\\Users\\camil\\Desktop\\animals_code\\PhD-AnimalWelfare\\UTILS.py:3969: SettingWithCopyWarning: \n",
      "A value is trying to be set on a copy of a slice from a DataFrame\n",
      "\n",
      "See the caveats in the documentation: https://pandas.pydata.org/pandas-docs/stable/user_guide/indexing.html#returning-a-view-versus-a-copy\n",
      "  df.sort_values([timestamp_name], inplace=True)\n",
      "C:\\Users\\camil\\Desktop\\animals_code\\PhD-AnimalWelfare\\UTILS.py:3971: SettingWithCopyWarning: \n",
      "A value is trying to be set on a copy of a slice from a DataFrame.\n",
      "Try using .loc[row_indexer,col_indexer] = value instead\n",
      "\n",
      "See the caveats in the documentation: https://pandas.pydata.org/pandas-docs/stable/user_guide/indexing.html#returning-a-view-versus-a-copy\n",
      "  df[timestamp_name] = df[timestamp_name].map(lambda x: dt.datetime(x.year,x.month,x.day,x.hour,x.minute, x.second))\n",
      "C:\\Users\\camil\\anaconda3\\lib\\site-packages\\pandas\\core\\frame.py:4162: SettingWithCopyWarning: \n",
      "A value is trying to be set on a copy of a slice from a DataFrame\n",
      "\n",
      "See the caveats in the documentation: https://pandas.pydata.org/pandas-docs/stable/user_guide/indexing.html#returning-a-view-versus-a-copy\n",
      "  return super().drop(\n"
     ]
    },
    {
     "name": "stdout",
     "output_type": "stream",
     "text": [
      "----------------- Create time serie\n",
      "in this time series there is 29 hens\n",
      "The initial starting date in over all is: 2020-09-29 09:52:12, and the ending date will be: 2021-05-10 08:40:33\n",
      "But note that birds may have different ending and starting date which should be taken into account when computing variables\n",
      "and after ending the last day at midnight : 2020-09-29 09:52:12, and the ending date will be: 2021-05-10 23:59:59\n",
      "Total running time: 3.86 mn\n",
      "your time series has 1 seconds between two timestamps\n",
      "----------------- main night zone and nbr of transitions over night....\n",
      "----------------- total duration per Zone in seconds....\n",
      "----------------- first timestamp in each zone per day....\n",
      "----------------- number of Zone (excluding nan)....\n",
      "----------------- compute some variables based on a list of zones over a day....\n",
      "----------------NESTBOX\n"
     ]
    },
    {
     "name": "stderr",
     "output_type": "stream",
     "text": [
      "\n",
      "  0%|                                                                                           | 0/29 [00:00<?, ?it/s]\u001b[A\n",
      "  3%|██▊                                                                                | 1/29 [00:00<00:10,  2.67it/s]\u001b[A\n",
      "  7%|█████▋                                                                             | 2/29 [00:00<00:08,  3.19it/s]\u001b[A\n",
      " 10%|████████▌                                                                          | 3/29 [00:01<00:10,  2.47it/s]\u001b[A\n",
      " 21%|█████████████████▏                                                                 | 6/29 [00:01<00:06,  3.32it/s]\u001b[A\n",
      " 28%|██████████████████████▉                                                            | 8/29 [00:01<00:05,  3.83it/s]\u001b[A\n",
      " 31%|█████████████████████████▊                                                         | 9/29 [00:02<00:06,  3.05it/s]\u001b[A\n",
      " 34%|████████████████████████████▎                                                     | 10/29 [00:02<00:07,  2.69it/s]\u001b[A\n",
      " 38%|███████████████████████████████                                                   | 11/29 [00:02<00:06,  2.87it/s]\u001b[A\n",
      " 41%|█████████████████████████████████▉                                                | 12/29 [00:03<00:06,  2.63it/s]\u001b[A\n",
      " 45%|████████████████████████████████████▊                                             | 13/29 [00:03<00:06,  2.50it/s]\u001b[A\n",
      " 48%|███████████████████████████████████████▌                                          | 14/29 [00:04<00:05,  2.77it/s]\u001b[A\n",
      " 52%|██████████████████████████████████████████▍                                       | 15/29 [00:04<00:04,  3.10it/s]\u001b[A\n",
      " 59%|████████████████████████████████████████████████                                  | 17/29 [00:04<00:02,  4.14it/s]\u001b[A\n",
      " 69%|████████████████████████████████████████████████████████▌                         | 20/29 [00:04<00:01,  5.48it/s]\u001b[A\n",
      " 76%|██████████████████████████████████████████████████████████████▏                   | 22/29 [00:05<00:01,  4.56it/s]\u001b[A\n",
      " 79%|█████████████████████████████████████████████████████████████████                 | 23/29 [00:05<00:01,  4.45it/s]\u001b[A\n",
      " 83%|███████████████████████████████████████████████████████████████████▊              | 24/29 [00:05<00:01,  3.63it/s]\u001b[A\n",
      " 86%|██████████████████████████████████████████████████████████████████████▋           | 25/29 [00:06<00:01,  3.30it/s]\u001b[A\n",
      " 90%|█████████████████████████████████████████████████████████████████████████▌        | 26/29 [00:06<00:01,  2.97it/s]\u001b[A\n",
      " 93%|████████████████████████████████████████████████████████████████████████████▎     | 27/29 [00:06<00:00,  3.16it/s]\u001b[A\n",
      "100%|██████████████████████████████████████████████████████████████████████████████████| 29/29 [00:07<00:00,  3.94it/s]\u001b[A\n",
      "C:\\Users\\camil\\anaconda3\\lib\\site-packages\\numpy\\lib\\nanfunctions.py:1366: RuntimeWarning: Mean of empty slice\n",
      "  return np.nanmean(a, axis, out=out, keepdims=keepdims)\n"
     ]
    },
    {
     "name": "stdout",
     "output_type": "stream",
     "text": [
      "------------ add hen basics info\n",
      "From the focalBirdinfo, you have 158 ative tags\n",
      "(5459, 119)\n",
      "(4350, 121)\n",
      "-------------- Lets remove unwanted dates at PENS level\n"
     ]
    },
    {
     "data": {
      "text/html": [
       "<text style=color:black>By removing the unwanted days we passed from 4350 to 4069 timestamp (losing </text> <text style=color:red>281</text> <text style=color:black> timestamp)</text>"
      ],
      "text/plain": [
       "<IPython.core.display.HTML object>"
      ]
     },
     "metadata": {},
     "output_type": "display_data"
    },
    {
     "name": "stdout",
     "output_type": "stream",
     "text": [
      "All the night variables are:  Index(['HenID', 'night_level', 'night_Max_duration_zones',\n",
      "       'night_distribution_entropy', 'night_Total_number_transition',\n",
      "       'is_mvt_night', 'nbr_transition_at_h0', 'nbr_transition_at_h1',\n",
      "       'nbr_transition_at_h2', 'nbr_transition_at_h3', 'nbr_transition_at_h4',\n",
      "       'nbr_transition_at_h5', 'nbr_transition_at_h6', 'nbr_transition_at_h7',\n",
      "       'nbr_transition_at_h8', 'nbr_transition_at_h21',\n",
      "       'nbr_transition_at_h22', 'nbr_transition_at_h23',\n",
      "       'nbr_transition_next1hafterlightoff', 'level', 'PenID', 'CLASS',\n",
      "       'R-Pen', 'InitialStartDate', '29-09 weight', '10-12 juin weight',\n",
      "       'weight 23-11-2020', 'weight 04-01-2021', 'weight 01-02-21',\n",
      "       'weight 12-04-21', 'Treatment'],\n",
      "      dtype='object')\n",
      "['night_level']\n",
      "-------------- Lets remove dates of tags when they were not giving deviceupdate regularly\n"
     ]
    },
    {
     "data": {
      "text/html": [
       "<text style=color:black>By removing the unwanted days we passed from 5368 to 5290 timestamp (losing </text> <text style=color:red>78</text> <text style=color:black> timestamp)</text>"
      ],
      "text/plain": [
       "<IPython.core.display.HTML object>"
      ]
     },
     "metadata": {},
     "output_type": "display_data"
    },
    {
     "name": "stdout",
     "output_type": "stream",
     "text": [
      "-------------- Lets remove dates of tags when they were having more or equal than 10 times LFCOUNTER=0 a day\n"
     ]
    },
    {
     "data": {
      "text/html": [
       "<text style=color:black>By removing the unwanted days we passed from 5290 to 5190 timestamp (losing </text> <text style=color:red>100</text> <text style=color:black> timestamp)</text>"
      ],
      "text/plain": [
       "<IPython.core.display.HTML object>"
      ]
     },
     "metadata": {},
     "output_type": "display_data"
    },
    {
     "name": "stdout",
     "output_type": "stream",
     "text": [
      "-------------- Lets remove the 30.09.2020 for the tags taht still had no transition from before the light went on \n"
     ]
    },
    {
     "data": {
      "text/html": [
       "<text style=color:black>By removing the unwanted days we passed from 5190 to 5190 timestamp (losing </text> <text style=color:red>0</text> <text style=color:black> timestamp)</text>"
      ],
      "text/plain": [
       "<IPython.core.display.HTML object>"
      ]
     },
     "metadata": {},
     "output_type": "display_data"
    },
    {
     "name": "stdout",
     "output_type": "stream",
     "text": [
      "save\n"
     ]
    },
    {
     "name": "stderr",
     "output_type": "stream",
     "text": [
      "100%|████████████████████████████████████████████████████████████████████████████████| 8/8 [6:15:08<00:00, 2813.52s/it]"
     ]
    },
    {
     "name": "stdout",
     "output_type": "stream",
     "text": [
      "Total running time: 46.75 mn\n",
      "(5190, 147)\n",
      "Total running time: 375.14 mn\n"
     ]
    },
    {
     "name": "stderr",
     "output_type": "stream",
     "text": [
      "\n"
     ]
    }
   ],
   "source": [
    "#open time series per session and compute the variables for each session (car time series make sence at session level), et en \n",
    "#plus des variables tel que running entropy over the whole session ateach last timestamp of each level make sence only at \n",
    "#session level\n",
    "#once to much data, do this per pen!!! with name=pens!!\n",
    "START_TIME = time.perf_counter()\n",
    "for p in tqdm.tqdm(df['PenID'].unique()):\n",
    "    print(p)\n",
    "    df_daily = HenDailyVariable_Origins(df[df['PenID']==p], config, name_=p, timestamp_name='Timestamp', \n",
    "                                        has_cons_equal_zone=False)\n",
    "    print(df_daily.shape)\n",
    "    df_daily.head(3)\n",
    "END_TIME = time.perf_counter()\n",
    "print (\"Total running time: %.2f mn\" %((END_TIME-START_TIME)/60))  "
   ]
  },
  {
   "cell_type": "code",
   "execution_count": 7,
   "metadata": {
    "scrolled": true
   },
   "outputs": [
    {
     "name": "stderr",
     "output_type": "stream",
     "text": [
      "C:\\Users\\camil\\anaconda3\\lib\\site-packages\\ipykernel\\ipkernel.py:283: DeprecationWarning: `should_run_async` will not call `transform_cell` automatically in the future. Please pass the result to `transformed_cell` argument and any exception that happen during thetransform in `preprocessing_exc_tuple` in IPython 7.17 and above.\n",
      "  and should_run_async(code)\n",
      "  0%|                                                                                            | 0/8 [00:00<?, ?it/s]C:\\Users\\camil\\anaconda3\\lib\\site-packages\\IPython\\core\\interactiveshell.py:3146: DtypeWarning: Columns (91,103) have mixed types.Specify dtype option on import or set low_memory=False.\n",
      "  has_raised = await self.run_ast_nodes(code_ast.body, cell_name,\n",
      " 12%|██████████▌                                                                         | 1/8 [00:28<03:20, 28.59s/it]"
     ]
    },
    {
     "name": "stdout",
     "output_type": "stream",
     "text": [
      "(5316, 147)\n"
     ]
    },
    {
     "name": "stderr",
     "output_type": "stream",
     "text": [
      "\r",
      " 25%|█████████████████████                                                               | 2/8 [00:48<02:35, 25.95s/it]"
     ]
    },
    {
     "name": "stdout",
     "output_type": "stream",
     "text": [
      "(5318, 147)\n"
     ]
    },
    {
     "name": "stderr",
     "output_type": "stream",
     "text": [
      "C:\\Users\\camil\\anaconda3\\lib\\site-packages\\IPython\\core\\interactiveshell.py:3146: DtypeWarning: Columns (8,9,16,17,18,19,23,24,61,63,64,65,66,67,78,79,80,81,82,83,85,88,91,92,93,95,97,99,101,103,116,117,137,142) have mixed types.Specify dtype option on import or set low_memory=False.\n",
      "  has_raised = await self.run_ast_nodes(code_ast.body, cell_name,\n",
      "\r",
      " 38%|███████████████████████████████▌                                                    | 3/8 [01:18<02:15, 27.05s/it]"
     ]
    },
    {
     "name": "stdout",
     "output_type": "stream",
     "text": [
      "(5735, 147)\n"
     ]
    },
    {
     "name": "stderr",
     "output_type": "stream",
     "text": [
      "\r",
      " 50%|██████████████████████████████████████████                                          | 4/8 [01:44<01:47, 26.90s/it]"
     ]
    },
    {
     "name": "stdout",
     "output_type": "stream",
     "text": [
      "(5251, 147)\n"
     ]
    },
    {
     "name": "stderr",
     "output_type": "stream",
     "text": [
      "\r",
      " 62%|████████████████████████████████████████████████████▌                               | 5/8 [02:20<01:29, 29.70s/it]"
     ]
    },
    {
     "name": "stdout",
     "output_type": "stream",
     "text": [
      "(5082, 147)\n"
     ]
    },
    {
     "name": "stderr",
     "output_type": "stream",
     "text": [
      "\r",
      " 75%|███████████████████████████████████████████████████████████████                     | 6/8 [02:47<00:57, 28.77s/it]"
     ]
    },
    {
     "name": "stdout",
     "output_type": "stream",
     "text": [
      "(5370, 147)\n"
     ]
    },
    {
     "name": "stderr",
     "output_type": "stream",
     "text": [
      "\r",
      " 88%|█████████████████████████████████████████████████████████████████████████▌          | 7/8 [03:15<00:28, 28.63s/it]"
     ]
    },
    {
     "name": "stdout",
     "output_type": "stream",
     "text": [
      "(5190, 147)\n"
     ]
    },
    {
     "name": "stderr",
     "output_type": "stream",
     "text": [
      "100%|████████████████████████████████████████████████████████████████████████████████████| 8/8 [03:44<00:00, 28.09s/it]"
     ]
    },
    {
     "name": "stdout",
     "output_type": "stream",
     "text": [
      "(5253, 147)\n"
     ]
    },
    {
     "name": "stderr",
     "output_type": "stream",
     "text": [
      "\n"
     ]
    },
    {
     "name": "stdout",
     "output_type": "stream",
     "text": [
      "(42515, 147)\n"
     ]
    },
    {
     "data": {
      "text/html": [
       "<div>\n",
       "<style scoped>\n",
       "    .dataframe tbody tr th:only-of-type {\n",
       "        vertical-align: middle;\n",
       "    }\n",
       "\n",
       "    .dataframe tbody tr th {\n",
       "        vertical-align: top;\n",
       "    }\n",
       "\n",
       "    .dataframe thead th {\n",
       "        text-align: right;\n",
       "    }\n",
       "</style>\n",
       "<table border=\"1\" class=\"dataframe\">\n",
       "  <thead>\n",
       "    <tr style=\"text-align: right;\">\n",
       "      <th></th>\n",
       "      <th>HenID</th>\n",
       "      <th>level</th>\n",
       "      <th>duration_1_Zone</th>\n",
       "      <th>duration_2_Zone</th>\n",
       "      <th>duration_3_Zone</th>\n",
       "      <th>duration_4_Zone</th>\n",
       "      <th>duration_5_Zone</th>\n",
       "      <th>verification_daily_total_duration</th>\n",
       "      <th>dur_values</th>\n",
       "      <th>dur_values_normalized</th>\n",
       "      <th>...</th>\n",
       "      <th>list_of_night20_2_temperature</th>\n",
       "      <th>nbr_temperature_nnnan</th>\n",
       "      <th>temperature_night20_2_median</th>\n",
       "      <th>temperature_night20_2_max</th>\n",
       "      <th>temperature_night20_2_var</th>\n",
       "      <th>list_of_MovementCounter_day</th>\n",
       "      <th>len_MovementCounter_day</th>\n",
       "      <th>MovementCounter_day_amount_nnactivity</th>\n",
       "      <th>MovementCounter_day_max</th>\n",
       "      <th>MovementCounter_day_mean</th>\n",
       "    </tr>\n",
       "  </thead>\n",
       "  <tbody>\n",
       "    <tr>\n",
       "      <th>0</th>\n",
       "      <td>hen_130</td>\n",
       "      <td>2020-10-04</td>\n",
       "      <td>0.0</td>\n",
       "      <td>140.0</td>\n",
       "      <td>1166.0</td>\n",
       "      <td>79.0</td>\n",
       "      <td>30613.0</td>\n",
       "      <td>31998.0</td>\n",
       "      <td>[0.0, 140.0, 1166.0, 79.0, 30613.0]</td>\n",
       "      <td>[0.0, 0.004375273454590912, 0.0364397774860928...</td>\n",
       "      <td>...</td>\n",
       "      <td>NaN</td>\n",
       "      <td>NaN</td>\n",
       "      <td>NaN</td>\n",
       "      <td>NaN</td>\n",
       "      <td>NaN</td>\n",
       "      <td>NaN</td>\n",
       "      <td>NaN</td>\n",
       "      <td>NaN</td>\n",
       "      <td>NaN</td>\n",
       "      <td>NaN</td>\n",
       "    </tr>\n",
       "    <tr>\n",
       "      <th>1</th>\n",
       "      <td>hen_130</td>\n",
       "      <td>2020-10-05</td>\n",
       "      <td>0.0</td>\n",
       "      <td>0.0</td>\n",
       "      <td>0.0</td>\n",
       "      <td>0.0</td>\n",
       "      <td>32400.0</td>\n",
       "      <td>32400.0</td>\n",
       "      <td>[0.0, 0.0, 0.0, 0.0, 32400.0]</td>\n",
       "      <td>[0.0, 0.0, 0.0, 0.0, 1.0]</td>\n",
       "      <td>...</td>\n",
       "      <td>NaN</td>\n",
       "      <td>NaN</td>\n",
       "      <td>NaN</td>\n",
       "      <td>NaN</td>\n",
       "      <td>NaN</td>\n",
       "      <td>NaN</td>\n",
       "      <td>NaN</td>\n",
       "      <td>NaN</td>\n",
       "      <td>NaN</td>\n",
       "      <td>NaN</td>\n",
       "    </tr>\n",
       "    <tr>\n",
       "      <th>2</th>\n",
       "      <td>hen_130</td>\n",
       "      <td>2020-10-06</td>\n",
       "      <td>0.0</td>\n",
       "      <td>0.0</td>\n",
       "      <td>780.0</td>\n",
       "      <td>325.0</td>\n",
       "      <td>31295.0</td>\n",
       "      <td>32400.0</td>\n",
       "      <td>[0.0, 0.0, 780.0, 325.0, 31295.0]</td>\n",
       "      <td>[0.0, 0.0, 0.024074074074074074, 0.01003086419...</td>\n",
       "      <td>...</td>\n",
       "      <td>NaN</td>\n",
       "      <td>NaN</td>\n",
       "      <td>NaN</td>\n",
       "      <td>NaN</td>\n",
       "      <td>NaN</td>\n",
       "      <td>NaN</td>\n",
       "      <td>NaN</td>\n",
       "      <td>NaN</td>\n",
       "      <td>NaN</td>\n",
       "      <td>NaN</td>\n",
       "    </tr>\n",
       "  </tbody>\n",
       "</table>\n",
       "<p>3 rows × 147 columns</p>\n",
       "</div>"
      ],
      "text/plain": [
       "     HenID      level  duration_1_Zone  duration_2_Zone  duration_3_Zone  \\\n",
       "0  hen_130 2020-10-04              0.0            140.0           1166.0   \n",
       "1  hen_130 2020-10-05              0.0              0.0              0.0   \n",
       "2  hen_130 2020-10-06              0.0              0.0            780.0   \n",
       "\n",
       "   duration_4_Zone  duration_5_Zone  verification_daily_total_duration  \\\n",
       "0             79.0          30613.0                            31998.0   \n",
       "1              0.0          32400.0                            32400.0   \n",
       "2            325.0          31295.0                            32400.0   \n",
       "\n",
       "                            dur_values  \\\n",
       "0  [0.0, 140.0, 1166.0, 79.0, 30613.0]   \n",
       "1        [0.0, 0.0, 0.0, 0.0, 32400.0]   \n",
       "2    [0.0, 0.0, 780.0, 325.0, 31295.0]   \n",
       "\n",
       "                               dur_values_normalized  ...  \\\n",
       "0  [0.0, 0.004375273454590912, 0.0364397774860928...  ...   \n",
       "1                          [0.0, 0.0, 0.0, 0.0, 1.0]  ...   \n",
       "2  [0.0, 0.0, 0.024074074074074074, 0.01003086419...  ...   \n",
       "\n",
       "  list_of_night20_2_temperature nbr_temperature_nnnan  \\\n",
       "0                           NaN                   NaN   \n",
       "1                           NaN                   NaN   \n",
       "2                           NaN                   NaN   \n",
       "\n",
       "  temperature_night20_2_median temperature_night20_2_max  \\\n",
       "0                          NaN                       NaN   \n",
       "1                          NaN                       NaN   \n",
       "2                          NaN                       NaN   \n",
       "\n",
       "  temperature_night20_2_var  list_of_MovementCounter_day  \\\n",
       "0                       NaN                          NaN   \n",
       "1                       NaN                          NaN   \n",
       "2                       NaN                          NaN   \n",
       "\n",
       "  len_MovementCounter_day MovementCounter_day_amount_nnactivity  \\\n",
       "0                     NaN                                   NaN   \n",
       "1                     NaN                                   NaN   \n",
       "2                     NaN                                   NaN   \n",
       "\n",
       "  MovementCounter_day_max MovementCounter_day_mean  \n",
       "0                     NaN                      NaN  \n",
       "1                     NaN                      NaN  \n",
       "2                     NaN                      NaN  \n",
       "\n",
       "[3 rows x 147 columns]"
      ]
     },
     "execution_count": 7,
     "metadata": {},
     "output_type": "execute_result"
    }
   ],
   "source": [
    "#Concatenate all HenVariables csv into one\n",
    "li_paths_var = glob.glob(os.path.join(path_extracted_data, id_run+'_daily__pen'+'*_variables.csv'))\n",
    "li_df = []\n",
    "if len(li_paths_var)!=8:\n",
    "    print('ERROR: not the correct number of files, there must have one per pen')\n",
    "    sys.exit()\n",
    "for path_var in tqdm.tqdm(li_paths_var):\n",
    "    #for being more reproductible, we open the file that was saved from cleaning\n",
    "    df_ = pd.read_csv(path_var, sep=';',parse_dates=['level', 'FirstTimestamp_1_Zone', 'FirstTimestamp_2_Zone', \n",
    "                                                     'FirstTimestamp_3_Zone','FirstTimestamp_4_Zone',\n",
    "                                                     'FirstTimestamp_5_Zone']) \n",
    "    print(df_.shape)\n",
    "    li_df.append(df_)\n",
    "df_daily = pd.concat(li_df)\n",
    "df_daily.to_csv(os.path.join(path_extracted_data, id_run+'_daily_ALL_variables.csv'), sep=';', index=False)\n",
    "print(df_daily.shape)\n",
    "df_daily.head(3)"
   ]
  },
  {
   "cell_type": "markdown",
   "metadata": {},
   "source": [
    "# Chi2distance"
   ]
  },
  {
   "cell_type": "markdown",
   "metadata": {},
   "source": [
    "#computed here as its a variable and not a visual computed out of variable\n",
    "#compute for every level a symmetric chi2distance heatmap\n",
    "if compute_chi2_distance:   \n",
    "\n",
    "    #sort by lowest entropy (i.e. need less info to predict futur. more predictibale should induce more similarities \n",
    "    #(as less different solution)), to potentialy make a nicer visual\n",
    "    df_ = df_daily.groupby(['HenID'])['distribution_entropy'].agg(lambda x:np.mean(x)).reset_index().sort_values(['distribution_entropy'])\n",
    "    li = df_['HenID'].tolist()\n",
    "    axis_label = [i.split('_')[1] for i in li]\n",
    "    #create path to save visual if not existing\n",
    "    path_ = os.path.join(path_extracted_data,'visual','chi2distance')\n",
    "    #create a director if not existing\n",
    "    if not os.path.exists(path_):\n",
    "        os.makedirs(path_)\n",
    "\n",
    "    print('----------------- Compute Chi2 distance....')\n",
    "    for d in li_date:\n",
    "        M = np.zeros(shape=(len(li),len(li)))\n",
    "        for i, h1 in enumerate(li[:-1]):\n",
    "            for j in range(i+1,len(li)):\n",
    "                h2 = li[j]\n",
    "                li_hen_in = df_daily[df_daily['level']==d]['HenID'].unique()\n",
    "                #if both hen have at least one record this day (typically not always all hen have values the first day of session)\n",
    "                if (h1 in li_hen_in) & (h2 in li_hen_in):\n",
    "                    l1 = df_daily[(df_daily['HenID']==h1)&(df_daily['level']==d)]['dur_values_normalized'].values[0]\n",
    "                    l2 = df_daily[(df_daily['HenID']==h2)&(df_daily['level']==d)]['dur_values_normalized'].values[0]\n",
    "                    chi2 = chi2_distance(l1,l2)\n",
    "                    M[i][j] = chi2\n",
    "                    M[j][i] = chi2\n",
    "        #clear old plot\n",
    "        plt.figure()\n",
    "        sns.set(font_scale=0.25) \n",
    "        sns.heatmap(M, cmap=\"YlGnBu\", xticklabels=axis_label, yticklabels=axis_label)\n",
    "        plt.title(d)\n",
    "        if save:\n",
    "            plt.savefig(os.path.join(path_,id_run+'_chi2distance_'+str(d).split('T')[0]+'_daily_'+'.png'), dpi=300,\n",
    "                        format='png',bbox_inches='tight')\n",
    "        #plt.show() \n",
    "        plt.close()\n",
    "\n"
   ]
  },
  {
   "cell_type": "raw",
   "metadata": {},
   "source": [
    "TODO NEXT STEPS\n",
    "duration_1_Zone / verification_daily_total_duration --> proportion_time_1_Zone\n",
    "nbr_stays_2_Zone:nbr bouts?\n",
    "skweness : verify if ift make sense, what is the avg of obs taken into avvount?\n",
    "image analysis\n",
    "tf-idf"
   ]
  },
  {
   "cell_type": "code",
   "execution_count": null,
   "metadata": {},
   "outputs": [],
   "source": []
  },
  {
   "cell_type": "code",
   "execution_count": null,
   "metadata": {},
   "outputs": [],
   "source": []
  },
  {
   "cell_type": "code",
   "execution_count": null,
   "metadata": {},
   "outputs": [],
   "source": []
  },
  {
   "cell_type": "code",
   "execution_count": null,
   "metadata": {},
   "outputs": [],
   "source": []
  },
  {
   "cell_type": "code",
   "execution_count": null,
   "metadata": {},
   "outputs": [],
   "source": []
  },
  {
   "cell_type": "code",
   "execution_count": null,
   "metadata": {},
   "outputs": [],
   "source": []
  },
  {
   "cell_type": "code",
   "execution_count": null,
   "metadata": {},
   "outputs": [],
   "source": []
  },
  {
   "cell_type": "code",
   "execution_count": null,
   "metadata": {},
   "outputs": [],
   "source": []
  }
 ],
 "metadata": {
  "kernelspec": {
   "display_name": "Python 3",
   "language": "python",
   "name": "python3"
  },
  "language_info": {
   "codemirror_mode": {
    "name": "ipython",
    "version": 3
   },
   "file_extension": ".py",
   "mimetype": "text/x-python",
   "name": "python",
   "nbconvert_exporter": "python",
   "pygments_lexer": "ipython3",
   "version": "3.8.5"
  }
 },
 "nbformat": 4,
 "nbformat_minor": 2
}
