{
 "cells": [
  {
   "cell_type": "code",
   "execution_count": 1,
   "metadata": {},
   "outputs": [],
   "source": [
    "#basic package\n",
    "import tqdm\n",
    "import os\n",
    "import numpy as np\n",
    "import glob\n",
    "import pandas as pd\n",
    "import sys\n",
    "import time\n",
    "import datetime as dt\n",
    "import itertools\n",
    "import re\n",
    "import math\n",
    "from collections import Counter\n",
    "import operator\n",
    "\n",
    "#plot\n",
    "import matplotlib.pyplot as plt\n",
    "import seaborn as sns"
   ]
  },
  {
   "cell_type": "markdown",
   "metadata": {},
   "source": [
    "!pip install --upgrade scipy"
   ]
  },
  {
   "cell_type": "code",
   "execution_count": 2,
   "metadata": {},
   "outputs": [
    {
     "name": "stderr",
     "output_type": "stream",
     "text": [
      "C:\\Users\\camil\\anaconda3\\lib\\site-packages\\scipy\\sparse\\sparsetools.py:21: DeprecationWarning: `scipy.sparse.sparsetools` is deprecated!\n",
      "scipy.sparse.sparsetools is a private module for scipy.sparse, and should not be used.\n",
      "  _deprecated()\n"
     ]
    },
    {
     "name": "stdout",
     "output_type": "stream",
     "text": [
      "2\n"
     ]
    }
   ],
   "source": [
    "PACKAGE_PARENT = '../'\n",
    "SCRIPT_DIR = os.path.dirname(os.path.realpath(os.path.join(os.getcwd(), os.path.expanduser('__file__'))))\n",
    "sys.path.append(os.path.normpath(os.path.join(SCRIPT_DIR, PACKAGE_PARENT)))\n",
    "from UTILS import preprocessing_Origins,is_day,vertical_travel_distance, li_missingZone_mvtPerc_DU, li_event_chaoticmvt_z_d,\\\n",
    "ZoneVariable, HenDailyVariable_Origins, boxplot_distribution_entropy,\\\n",
    "nbr_transition, max_duration_zones, openDevice, kmeans_clustering, sampen, time_series_henColumn_tsRow\n",
    "import config_origins as config"
   ]
  },
  {
   "cell_type": "markdown",
   "metadata": {},
   "source": [
    "# Define parameters"
   ]
  },
  {
   "cell_type": "code",
   "execution_count": 3,
   "metadata": {
    "scrolled": true
   },
   "outputs": [
    {
     "name": "stdout",
     "output_type": "stream",
     "text": [
      "change the configuration file if not done yet!\n",
      "ALLDATA_\n"
     ]
    },
    {
     "name": "stderr",
     "output_type": "stream",
     "text": [
      "C:\\Users\\camil\\anaconda3\\lib\\site-packages\\ipykernel\\ipkernel.py:283: DeprecationWarning: `should_run_async` will not call `transform_cell` automatically in the future. Please pass the result to `transformed_cell` argument and any exception that happen during thetransform in `preprocessing_exc_tuple` in IPython 7.17 and above.\n",
      "  and should_run_async(code)\n"
     ]
    }
   ],
   "source": [
    "print('change the configuration file if not done yet!')\n",
    "path_extracted_data = config.path_extracted_data\n",
    "path_initial_data = config.path_initial_data\n",
    "id_run = config.id_run\n",
    "dico_matching = config.dico_matching\n",
    "print(id_run)\n",
    "path_extracted_data_visual = os.path.join(path_extracted_data,'visual')\n",
    "#create a director if not existing\n",
    "if not os.path.exists(path_extracted_data_visual):\n",
    "    os.makedirs(path_extracted_data_visual)"
   ]
  },
  {
   "cell_type": "markdown",
   "metadata": {},
   "source": [
    "# Variables at Hen level"
   ]
  },
  {
   "cell_type": "code",
   "execution_count": 4,
   "metadata": {},
   "outputs": [
    {
     "name": "stderr",
     "output_type": "stream",
     "text": [
      "C:\\Users\\camil\\anaconda3\\lib\\site-packages\\ipykernel\\ipkernel.py:283: DeprecationWarning: `should_run_async` will not call `transform_cell` automatically in the future. Please pass the result to `transformed_cell` argument and any exception that happen during thetransform in `preprocessing_exc_tuple` in IPython 7.17 and above.\n",
      "  and should_run_async(code)\n"
     ]
    }
   ],
   "source": [
    "#WARNING: we do it at seconds level, so the miliseconds from the general cleaning is not used!! "
   ]
  },
  {
   "cell_type": "code",
   "execution_count": 5,
   "metadata": {},
   "outputs": [
    {
     "name": "stderr",
     "output_type": "stream",
     "text": [
      "C:\\Users\\camil\\anaconda3\\lib\\site-packages\\ipykernel\\ipkernel.py:283: DeprecationWarning: `should_run_async` will not call `transform_cell` automatically in the future. Please pass the result to `transformed_cell` argument and any exception that happen during thetransform in `preprocessing_exc_tuple` in IPython 7.17 and above.\n",
      "  and should_run_async(code)\n"
     ]
    },
    {
     "name": "stdout",
     "output_type": "stream",
     "text": [
      "(2695668, 16)\n"
     ]
    },
    {
     "data": {
      "text/html": [
       "<div>\n",
       "<style scoped>\n",
       "    .dataframe tbody tr th:only-of-type {\n",
       "        vertical-align: middle;\n",
       "    }\n",
       "\n",
       "    .dataframe tbody tr th {\n",
       "        vertical-align: top;\n",
       "    }\n",
       "\n",
       "    .dataframe thead th {\n",
       "        text-align: right;\n",
       "    }\n",
       "</style>\n",
       "<table border=\"1\" class=\"dataframe\">\n",
       "  <thead>\n",
       "    <tr style=\"text-align: right;\">\n",
       "      <th></th>\n",
       "      <th>HenID</th>\n",
       "      <th>PenID</th>\n",
       "      <th>system</th>\n",
       "      <th>Zone</th>\n",
       "      <th>model_prediction</th>\n",
       "      <th>Timestamp</th>\n",
       "      <th>date</th>\n",
       "      <th>next_record_date</th>\n",
       "      <th>duration</th>\n",
       "      <th>previous_record_date</th>\n",
       "      <th>previous_duration</th>\n",
       "      <th>next_zone</th>\n",
       "      <th>previous_zone</th>\n",
       "      <th>previous_previous_zone</th>\n",
       "      <th>correction_is_consecutive_equal_initial_zone</th>\n",
       "      <th>is_WG_open</th>\n",
       "    </tr>\n",
       "  </thead>\n",
       "  <tbody>\n",
       "    <tr>\n",
       "      <th>0</th>\n",
       "      <td>hen_71</td>\n",
       "      <td>pen12</td>\n",
       "      <td>10 - 12</td>\n",
       "      <td>3_Zone</td>\n",
       "      <td>1.0</td>\n",
       "      <td>2020-09-29 09:07:00</td>\n",
       "      <td>2020-09-29</td>\n",
       "      <td>2020-09-29 09:08:26</td>\n",
       "      <td>0 days 00:01:26</td>\n",
       "      <td>NaN</td>\n",
       "      <td>NaN</td>\n",
       "      <td>3_Zone</td>\n",
       "      <td>NaN</td>\n",
       "      <td>NaN</td>\n",
       "      <td>False</td>\n",
       "      <td>False</td>\n",
       "    </tr>\n",
       "    <tr>\n",
       "      <th>1</th>\n",
       "      <td>hen_7</td>\n",
       "      <td>pen11</td>\n",
       "      <td>10 - 12</td>\n",
       "      <td>3_Zone</td>\n",
       "      <td>1.0</td>\n",
       "      <td>2020-09-29 09:08:12</td>\n",
       "      <td>2020-09-29</td>\n",
       "      <td>2020-09-29 09:12:16</td>\n",
       "      <td>0 days 00:04:04</td>\n",
       "      <td>NaN</td>\n",
       "      <td>NaN</td>\n",
       "      <td>3_Zone</td>\n",
       "      <td>NaN</td>\n",
       "      <td>NaN</td>\n",
       "      <td>False</td>\n",
       "      <td>False</td>\n",
       "    </tr>\n",
       "    <tr>\n",
       "      <th>2</th>\n",
       "      <td>hen_10</td>\n",
       "      <td>pen11</td>\n",
       "      <td>10 - 12</td>\n",
       "      <td>3_Zone</td>\n",
       "      <td>1.0</td>\n",
       "      <td>2020-09-29 09:19:19</td>\n",
       "      <td>2020-09-29</td>\n",
       "      <td>2020-09-29 09:20:27</td>\n",
       "      <td>0 days 00:01:08</td>\n",
       "      <td>NaN</td>\n",
       "      <td>NaN</td>\n",
       "      <td>3_Zone</td>\n",
       "      <td>NaN</td>\n",
       "      <td>NaN</td>\n",
       "      <td>False</td>\n",
       "      <td>False</td>\n",
       "    </tr>\n",
       "  </tbody>\n",
       "</table>\n",
       "</div>"
      ],
      "text/plain": [
       "    HenID  PenID   system    Zone  model_prediction           Timestamp  \\\n",
       "0  hen_71  pen12  10 - 12  3_Zone               1.0 2020-09-29 09:07:00   \n",
       "1   hen_7  pen11  10 - 12  3_Zone               1.0 2020-09-29 09:08:12   \n",
       "2  hen_10  pen11  10 - 12  3_Zone               1.0 2020-09-29 09:19:19   \n",
       "\n",
       "        date     next_record_date         duration previous_record_date  \\\n",
       "0 2020-09-29  2020-09-29 09:08:26  0 days 00:01:26                  NaN   \n",
       "1 2020-09-29  2020-09-29 09:12:16  0 days 00:04:04                  NaN   \n",
       "2 2020-09-29  2020-09-29 09:20:27  0 days 00:01:08                  NaN   \n",
       "\n",
       "  previous_duration next_zone previous_zone previous_previous_zone  \\\n",
       "0               NaN    3_Zone           NaN                    NaN   \n",
       "1               NaN    3_Zone           NaN                    NaN   \n",
       "2               NaN    3_Zone           NaN                    NaN   \n",
       "\n",
       "   correction_is_consecutive_equal_initial_zone  is_WG_open  \n",
       "0                                         False       False  \n",
       "1                                         False       False  \n",
       "2                                         False       False  "
      ]
     },
     "execution_count": 5,
     "metadata": {},
     "output_type": "execute_result"
    }
   ],
   "source": [
    "df = pd.read_csv(os.path.join(path_extracted_data, id_run+'_CLEANEDDATA.csv'), sep=';', parse_dates=['Timestamp', 'date'],\n",
    "                dayfirst=True) \n",
    "print(df.shape)\n",
    "df.head(3)"
   ]
  },
  {
   "cell_type": "code",
   "execution_count": 6,
   "metadata": {},
   "outputs": [
    {
     "name": "stdout",
     "output_type": "stream",
     "text": [
      "['HenID', 'PenID', 'system', 'Zone', 'model_prediction', 'Timestamp', 'date', 'next_record_date', 'duration', 'previous_record_date', 'previous_duration', 'next_zone', 'previous_zone', 'previous_previous_zone', 'correction_is_consecutive_equal_initial_zone', 'is_WG_open']\n"
     ]
    },
    {
     "name": "stderr",
     "output_type": "stream",
     "text": [
      "C:\\Users\\camil\\anaconda3\\lib\\site-packages\\ipykernel\\ipkernel.py:283: DeprecationWarning: `should_run_async` will not call `transform_cell` automatically in the future. Please pass the result to `transformed_cell` argument and any exception that happen during thetransform in `preprocessing_exc_tuple` in IPython 7.17 and above.\n",
      "  and should_run_async(code)\n"
     ]
    }
   ],
   "source": [
    "print(list(df.columns))"
   ]
  },
  {
   "cell_type": "code",
   "execution_count": 7,
   "metadata": {
    "scrolled": true
   },
   "outputs": [
    {
     "name": "stderr",
     "output_type": "stream",
     "text": [
      "C:\\Users\\camil\\anaconda3\\lib\\site-packages\\ipykernel\\ipkernel.py:283: DeprecationWarning: `should_run_async` will not call `transform_cell` automatically in the future. Please pass the result to `transformed_cell` argument and any exception that happen during thetransform in `preprocessing_exc_tuple` in IPython 7.17 and above.\n",
      "  and should_run_async(code)\n",
      "\r",
      "  0%|                                                                                            | 0/8 [00:00<?, ?it/s]"
     ]
    },
    {
     "name": "stdout",
     "output_type": "stream",
     "text": [
      "pen12\n"
     ]
    },
    {
     "name": "stderr",
     "output_type": "stream",
     "text": [
      "C:\\Users\\camil\\Desktop\\animals_code\\PhD-AnimalWelfare\\UTILS.py:2785: SettingWithCopyWarning: \n",
      "A value is trying to be set on a copy of a slice from a DataFrame\n",
      "\n",
      "See the caveats in the documentation: https://pandas.pydata.org/pandas-docs/stable/user_guide/indexing.html#returning-a-view-versus-a-copy\n",
      "  df.sort_values([timestamp_name], inplace=True)\n",
      "C:\\Users\\camil\\Desktop\\animals_code\\PhD-AnimalWelfare\\UTILS.py:2787: SettingWithCopyWarning: \n",
      "A value is trying to be set on a copy of a slice from a DataFrame.\n",
      "Try using .loc[row_indexer,col_indexer] = value instead\n",
      "\n",
      "See the caveats in the documentation: https://pandas.pydata.org/pandas-docs/stable/user_guide/indexing.html#returning-a-view-versus-a-copy\n",
      "  df[timestamp_name] = df[timestamp_name].map(lambda x: dt.datetime(x.year,x.month,x.day,x.hour,x.minute, x.second))\n"
     ]
    },
    {
     "name": "stdout",
     "output_type": "stream",
     "text": [
      "----------------- Create time serie\n",
      "in this time series there is 31 hens\n",
      "The initial starting date in over all is: 2020-09-29 09:07:00, and the ending date will be: 2021-07-25 17:08:42\n",
      "But note that birds may have different ending and starting date which should be taken into account when computing variables\n",
      "and after ending the last day at midnight : 2020-09-29 09:07:00, and the ending date will be: 2021-07-25 23:59:59\n",
      "Total running time: 5.86 mn\n",
      "your time series has 1 seconds between two timestamps\n",
      "----------------- main night zone and nbr of transitions over night....\n",
      "----------------- total & percentage duration per Zone in seconds....\n",
      "----------------- first timestamp in each zone per day & latency var....\n",
      "----------------- number of Zone (excluding nan)....\n",
      "----------------- compute some variables based on a list of zones over a day....\n"
     ]
    },
    {
     "name": "stderr",
     "output_type": "stream",
     "text": [
      "C:\\Users\\camil\\Desktop\\animals_code\\PhD-AnimalWelfare\\UTILS.py:2762: RuntimeWarning: invalid value encountered in long_scalars\n",
      "  return -np.log(A/B)\n",
      "C:\\Users\\camil\\Desktop\\animals_code\\PhD-AnimalWelfare\\UTILS.py:2762: RuntimeWarning: divide by zero encountered in log\n",
      "  return -np.log(A/B)\n"
     ]
    },
    {
     "name": "stdout",
     "output_type": "stream",
     "text": [
      "----------------NESTBOX\n"
     ]
    },
    {
     "name": "stderr",
     "output_type": "stream",
     "text": [
      "\n",
      "  0%|                                                                                           | 0/31 [00:00<?, ?it/s]\u001b[A\n",
      "  6%|█████▎                                                                             | 2/31 [00:00<00:12,  2.28it/s]\u001b[A\n",
      " 10%|████████                                                                           | 3/31 [00:01<00:10,  2.56it/s]\u001b[A\n",
      " 16%|█████████████▍                                                                     | 5/31 [00:08<00:36,  1.42s/it]\u001b[A\n",
      " 19%|████████████████                                                                   | 6/31 [00:09<00:29,  1.18s/it]\u001b[A\n",
      " 23%|██████████████████▋                                                                | 7/31 [00:09<00:21,  1.13it/s]\u001b[A\n",
      " 26%|█████████████████████▍                                                             | 8/31 [00:10<00:17,  1.31it/s]\u001b[A\n",
      " 32%|██████████████████████████▍                                                       | 10/31 [00:10<00:11,  1.76it/s]\u001b[A\n",
      " 39%|███████████████████████████████▋                                                  | 12/31 [00:11<00:09,  1.91it/s]\u001b[A\n",
      " 42%|██████████████████████████████████▍                                               | 13/31 [00:11<00:08,  2.05it/s]\u001b[A\n",
      " 45%|█████████████████████████████████████                                             | 14/31 [00:12<00:08,  1.92it/s]\u001b[A\n",
      " 48%|███████████████████████████████████████▋                                          | 15/31 [00:12<00:06,  2.30it/s]\u001b[A\n",
      " 55%|████████████████████████████████████████████▉                                     | 17/31 [00:12<00:04,  2.82it/s]\u001b[A\n",
      " 61%|██████████████████████████████████████████████████▎                               | 19/31 [00:13<00:03,  3.14it/s]\u001b[A\n",
      " 65%|████████████████████████████████████████████████████▉                             | 20/31 [00:13<00:02,  3.84it/s]\u001b[A\n",
      " 71%|██████████████████████████████████████████████████████████▏                       | 22/31 [00:13<00:02,  4.13it/s]\u001b[A\n",
      " 74%|████████████████████████████████████████████████████████████▊                     | 23/31 [00:14<00:02,  3.37it/s]\u001b[A\n",
      " 77%|███████████████████████████████████████████████████████████████▍                  | 24/31 [00:14<00:02,  2.99it/s]\u001b[A\n",
      " 84%|████████████████████████████████████████████████████████████████████▊             | 26/31 [00:14<00:01,  3.81it/s]\u001b[A\n",
      " 90%|██████████████████████████████████████████████████████████████████████████        | 28/31 [00:15<00:00,  3.50it/s]\u001b[A\n",
      " 94%|████████████████████████████████████████████████████████████████████████████▋     | 29/31 [00:16<00:00,  2.23it/s]\u001b[A\n",
      " 97%|███████████████████████████████████████████████████████████████████████████████▎  | 30/31 [00:16<00:00,  2.38it/s]\u001b[A\n",
      "100%|██████████████████████████████████████████████████████████████████████████████████| 31/31 [00:17<00:00,  1.81it/s]\u001b[A\n",
      "C:\\Users\\camil\\anaconda3\\lib\\site-packages\\numpy\\lib\\nanfunctions.py:1366: RuntimeWarning: Mean of empty slice\n",
      "  return np.nanmean(a, axis, out=out, keepdims=keepdims)\n"
     ]
    },
    {
     "name": "stdout",
     "output_type": "stream",
     "text": [
      "------------ add hen basics info\n",
      "From the focalBirdinfo, you have 155 ative tags\n",
      "(8180, 134)\n",
      "(5728, 136)\n",
      "-------------- Lets remove unwanted dates at PENS level\n"
     ]
    },
    {
     "data": {
      "text/html": [
       "<text style=color:black>By removing the unwanted days we passed from 5728 to 5429 timestamp (losing </text> <text style=color:red>299</text> <text style=color:black> timestamp)</text>"
      ],
      "text/plain": [
       "<IPython.core.display.HTML object>"
      ]
     },
     "metadata": {},
     "output_type": "display_data"
    },
    {
     "name": "stdout",
     "output_type": "stream",
     "text": [
      "All the night variables are:  Index(['HenID', 'night_level', 'night_Max_duration_zones',\n",
      "       'night_distribution_entropy', 'night_Total_number_transition',\n",
      "       'is_mvt_night', 'nbr_transition_at_h0', 'nbr_transition_at_h1',\n",
      "       'nbr_transition_at_h2', 'nbr_transition_at_h3', 'nbr_transition_at_h4',\n",
      "       'nbr_transition_at_h5', 'nbr_transition_at_h6', 'nbr_transition_at_h7',\n",
      "       'nbr_transition_at_h8', 'nbr_transition_at_h21',\n",
      "       'nbr_transition_at_h22', 'nbr_transition_at_h23',\n",
      "       'nbr_transition_next1hafterlightoff', 'level', 'PenID', 'CLASS',\n",
      "       'R-Pen', 'InitialStartDate', 'early_death', 'Treatment'],\n",
      "      dtype='object')\n",
      "['night_level']\n",
      "-------------- Lets remove dates of tags when they were not giving deviceupdate correctly\n"
     ]
    },
    {
     "data": {
      "text/html": [
       "<text style=color:black>By removing the unwanted days we passed from 8013 to 5198 timestamp (losing </text> <text style=color:red>2815</text> <text style=color:black> timestamp)</text>"
      ],
      "text/plain": [
       "<IPython.core.display.HTML object>"
      ]
     },
     "metadata": {},
     "output_type": "display_data"
    },
    {
     "name": "stdout",
     "output_type": "stream",
     "text": [
      "-------------- Lets remove the 30.09.2020 for the tags that still had no transition from before the light went on \n"
     ]
    },
    {
     "data": {
      "text/html": [
       "<text style=color:black>By removing the unwanted days we passed from 5198 to 5180 timestamp (losing </text> <text style=color:red>18</text> <text style=color:black> timestamp)</text>"
      ],
      "text/plain": [
       "<IPython.core.display.HTML object>"
      ]
     },
     "metadata": {},
     "output_type": "display_data"
    },
    {
     "name": "stdout",
     "output_type": "stream",
     "text": [
      "-------------- Lets remove all (dates,tagid) with not all seconds tracked (e.g. first day an animal is tracked), and no night variable\n"
     ]
    },
    {
     "data": {
      "text/html": [
       "<text style=color:black>By removing the unwanted days we passed from 5180 to 5148 timestamp (losing </text> <text style=color:red>32</text> <text style=color:black> timestamp)</text>"
      ],
      "text/plain": [
       "<IPython.core.display.HTML object>"
      ]
     },
     "metadata": {},
     "output_type": "display_data"
    },
    {
     "name": "stdout",
     "output_type": "stream",
     "text": [
      "-------------- remove days with only the night and not the days variables, as due to flickering we wotn really use night\n"
     ]
    },
    {
     "data": {
      "text/html": [
       "<text style=color:black>By removing the unwanted days we passed from 5148 to 5148 timestamp (losing </text> <text style=color:red>0</text> <text style=color:black> timestamp)</text>"
      ],
      "text/plain": [
       "<IPython.core.display.HTML object>"
      ]
     },
     "metadata": {},
     "output_type": "display_data"
    },
    {
     "name": "stdout",
     "output_type": "stream",
     "text": [
      "-------------- Lets remove all above the last official tracked day\n"
     ]
    },
    {
     "data": {
      "text/html": [
       "<text style=color:black>By removing the unwanted days we passed from 5148 to 5148 timestamp (losing </text> <text style=color:red>0</text> <text style=color:black> timestamp)</text>"
      ],
      "text/plain": [
       "<IPython.core.display.HTML object>"
      ]
     },
     "metadata": {},
     "output_type": "display_data"
    },
    {
     "name": "stdout",
     "output_type": "stream",
     "text": [
      "save\n"
     ]
    },
    {
     "name": "stderr",
     "output_type": "stream",
     "text": [
      "\r",
      " 12%|██████████                                                                      | 1/8 [57:36<6:43:13, 3456.25s/it]"
     ]
    },
    {
     "name": "stdout",
     "output_type": "stream",
     "text": [
      "Total running time: 57.41 mn\n",
      "(5148, 158)\n",
      "2020-09-30 00:00:00\n",
      "pen11\n"
     ]
    },
    {
     "name": "stderr",
     "output_type": "stream",
     "text": [
      "C:\\Users\\camil\\Desktop\\animals_code\\PhD-AnimalWelfare\\UTILS.py:2785: SettingWithCopyWarning: \n",
      "A value is trying to be set on a copy of a slice from a DataFrame\n",
      "\n",
      "See the caveats in the documentation: https://pandas.pydata.org/pandas-docs/stable/user_guide/indexing.html#returning-a-view-versus-a-copy\n",
      "  df.sort_values([timestamp_name], inplace=True)\n",
      "C:\\Users\\camil\\Desktop\\animals_code\\PhD-AnimalWelfare\\UTILS.py:2787: SettingWithCopyWarning: \n",
      "A value is trying to be set on a copy of a slice from a DataFrame.\n",
      "Try using .loc[row_indexer,col_indexer] = value instead\n",
      "\n",
      "See the caveats in the documentation: https://pandas.pydata.org/pandas-docs/stable/user_guide/indexing.html#returning-a-view-versus-a-copy\n",
      "  df[timestamp_name] = df[timestamp_name].map(lambda x: dt.datetime(x.year,x.month,x.day,x.hour,x.minute, x.second))\n"
     ]
    },
    {
     "name": "stdout",
     "output_type": "stream",
     "text": [
      "----------------- Create time serie\n",
      "in this time series there is 28 hens\n",
      "The initial starting date in over all is: 2020-09-29 09:08:12, and the ending date will be: 2021-07-25 22:58:37\n",
      "But note that birds may have different ending and starting date which should be taken into account when computing variables\n",
      "and after ending the last day at midnight : 2020-09-29 09:08:12, and the ending date will be: 2021-07-25 23:59:59\n",
      "Total running time: 5.08 mn\n",
      "your time series has 1 seconds between two timestamps\n",
      "----------------- main night zone and nbr of transitions over night....\n",
      "----------------- total & percentage duration per Zone in seconds....\n",
      "----------------- first timestamp in each zone per day & latency var....\n",
      "----------------- number of Zone (excluding nan)....\n",
      "----------------- compute some variables based on a list of zones over a day....\n",
      "several max-duration-zone\n",
      "several max-duration-zone\n"
     ]
    },
    {
     "name": "stderr",
     "output_type": "stream",
     "text": [
      "C:\\Users\\camil\\Desktop\\animals_code\\PhD-AnimalWelfare\\UTILS.py:2762: RuntimeWarning: divide by zero encountered in log\n",
      "  return -np.log(A/B)\n",
      "C:\\Users\\camil\\Desktop\\animals_code\\PhD-AnimalWelfare\\UTILS.py:2762: RuntimeWarning: invalid value encountered in long_scalars\n",
      "  return -np.log(A/B)\n"
     ]
    },
    {
     "name": "stdout",
     "output_type": "stream",
     "text": [
      "----------------NESTBOX\n"
     ]
    },
    {
     "name": "stderr",
     "output_type": "stream",
     "text": [
      "\n",
      "  0%|                                                                                           | 0/28 [00:00<?, ?it/s]\u001b[A\n",
      "  4%|██▉                                                                                | 1/28 [00:00<00:13,  2.06it/s]\u001b[A\n",
      "  7%|█████▉                                                                             | 2/28 [00:00<00:11,  2.22it/s]\u001b[A\n",
      " 11%|████████▉                                                                          | 3/28 [00:01<00:09,  2.57it/s]\u001b[A\n",
      " 14%|███████████▊                                                                       | 4/28 [00:01<00:10,  2.36it/s]\u001b[A\n",
      " 21%|█████████████████▊                                                                 | 6/28 [00:02<00:08,  2.55it/s]\u001b[A\n",
      " 25%|████████████████████▊                                                              | 7/28 [00:02<00:08,  2.52it/s]\u001b[A\n",
      " 29%|███████████████████████▋                                                           | 8/28 [00:03<00:09,  2.15it/s]\u001b[A\n",
      " 32%|██████████████████████████▋                                                        | 9/28 [00:03<00:09,  2.10it/s]\u001b[A\n",
      " 36%|█████████████████████████████▎                                                    | 10/28 [00:04<00:08,  2.02it/s]\u001b[A\n",
      " 39%|████████████████████████████████▏                                                 | 11/28 [00:04<00:08,  2.10it/s]\u001b[A\n",
      " 43%|███████████████████████████████████▏                                              | 12/28 [00:05<00:06,  2.40it/s]\u001b[A\n",
      " 46%|██████████████████████████████████████                                            | 13/28 [00:05<00:05,  2.55it/s]\u001b[A\n",
      " 50%|█████████████████████████████████████████                                         | 14/28 [00:05<00:04,  3.01it/s]\u001b[A\n",
      " 54%|███████████████████████████████████████████▉                                      | 15/28 [00:05<00:03,  3.78it/s]\u001b[A\n",
      " 57%|██████████████████████████████████████████████▊                                   | 16/28 [00:05<00:02,  4.03it/s]\u001b[A\n",
      " 61%|█████████████████████████████████████████████████▊                                | 17/28 [00:06<00:03,  2.91it/s]\u001b[A\n",
      " 75%|█████████████████████████████████████████████████████████████▌                    | 21/28 [00:07<00:02,  3.46it/s]\u001b[A\n",
      " 79%|████████████████████████████████████████████████████████████████▍                 | 22/28 [00:07<00:02,  2.75it/s]\u001b[A\n",
      " 82%|███████████████████████████████████████████████████████████████████▎              | 23/28 [00:08<00:02,  2.41it/s]\u001b[A\n",
      " 86%|██████████████████████████████████████████████████████████████████████▎           | 24/28 [00:08<00:01,  2.52it/s]\u001b[A\n",
      " 89%|█████████████████████████████████████████████████████████████████████████▏        | 25/28 [00:09<00:01,  2.17it/s]\u001b[A\n",
      " 96%|███████████████████████████████████████████████████████████████████████████████   | 27/28 [00:09<00:00,  2.43it/s]\u001b[A\n",
      "100%|██████████████████████████████████████████████████████████████████████████████████| 28/28 [00:10<00:00,  2.72it/s]\u001b[A\n",
      "C:\\Users\\camil\\anaconda3\\lib\\site-packages\\numpy\\lib\\nanfunctions.py:1366: RuntimeWarning: Mean of empty slice\n",
      "  return np.nanmean(a, axis, out=out, keepdims=keepdims)\n"
     ]
    },
    {
     "name": "stdout",
     "output_type": "stream",
     "text": [
      "------------ add hen basics info\n",
      "From the focalBirdinfo, you have 155 ative tags\n",
      "(7622, 134)\n",
      "(5989, 136)\n",
      "-------------- Lets remove unwanted dates at PENS level\n"
     ]
    },
    {
     "data": {
      "text/html": [
       "<text style=color:black>By removing the unwanted days we passed from 5989 to 5673 timestamp (losing </text> <text style=color:red>316</text> <text style=color:black> timestamp)</text>"
      ],
      "text/plain": [
       "<IPython.core.display.HTML object>"
      ]
     },
     "metadata": {},
     "output_type": "display_data"
    },
    {
     "name": "stdout",
     "output_type": "stream",
     "text": [
      "All the night variables are:  Index(['HenID', 'night_level', 'night_Max_duration_zones',\n",
      "       'night_distribution_entropy', 'night_Total_number_transition',\n",
      "       'is_mvt_night', 'nbr_transition_at_h0', 'nbr_transition_at_h1',\n",
      "       'nbr_transition_at_h2', 'nbr_transition_at_h3', 'nbr_transition_at_h4',\n",
      "       'nbr_transition_at_h5', 'nbr_transition_at_h6', 'nbr_transition_at_h7',\n",
      "       'nbr_transition_at_h8', 'nbr_transition_at_h21',\n",
      "       'nbr_transition_at_h22', 'nbr_transition_at_h23',\n",
      "       'nbr_transition_next1hafterlightoff', 'level', 'PenID', 'CLASS',\n",
      "       'R-Pen', 'InitialStartDate', 'early_death', 'Treatment'],\n",
      "      dtype='object')\n",
      "['night_level']\n",
      "-------------- Lets remove dates of tags when they were not giving deviceupdate correctly\n"
     ]
    },
    {
     "data": {
      "text/html": [
       "<text style=color:black>By removing the unwanted days we passed from 7466 to 5491 timestamp (losing </text> <text style=color:red>1975</text> <text style=color:black> timestamp)</text>"
      ],
      "text/plain": [
       "<IPython.core.display.HTML object>"
      ]
     },
     "metadata": {},
     "output_type": "display_data"
    },
    {
     "name": "stdout",
     "output_type": "stream",
     "text": [
      "-------------- Lets remove the 30.09.2020 for the tags that still had no transition from before the light went on \n"
     ]
    },
    {
     "data": {
      "text/html": [
       "<text style=color:black>By removing the unwanted days we passed from 5491 to 5471 timestamp (losing </text> <text style=color:red>20</text> <text style=color:black> timestamp)</text>"
      ],
      "text/plain": [
       "<IPython.core.display.HTML object>"
      ]
     },
     "metadata": {},
     "output_type": "display_data"
    },
    {
     "name": "stdout",
     "output_type": "stream",
     "text": [
      "-------------- Lets remove all (dates,tagid) with not all seconds tracked (e.g. first day an animal is tracked), and no night variable\n"
     ]
    },
    {
     "data": {
      "text/html": [
       "<text style=color:black>By removing the unwanted days we passed from 5471 to 5441 timestamp (losing </text> <text style=color:red>30</text> <text style=color:black> timestamp)</text>"
      ],
      "text/plain": [
       "<IPython.core.display.HTML object>"
      ]
     },
     "metadata": {},
     "output_type": "display_data"
    },
    {
     "name": "stdout",
     "output_type": "stream",
     "text": [
      "-------------- remove days with only the night and not the days variables, as due to flickering we wotn really use night\n"
     ]
    },
    {
     "data": {
      "text/html": [
       "<text style=color:black>By removing the unwanted days we passed from 5441 to 5441 timestamp (losing </text> <text style=color:red>0</text> <text style=color:black> timestamp)</text>"
      ],
      "text/plain": [
       "<IPython.core.display.HTML object>"
      ]
     },
     "metadata": {},
     "output_type": "display_data"
    },
    {
     "name": "stdout",
     "output_type": "stream",
     "text": [
      "-------------- Lets remove all above the last official tracked day\n"
     ]
    },
    {
     "data": {
      "text/html": [
       "<text style=color:black>By removing the unwanted days we passed from 5441 to 5441 timestamp (losing </text> <text style=color:red>0</text> <text style=color:black> timestamp)</text>"
      ],
      "text/plain": [
       "<IPython.core.display.HTML object>"
      ]
     },
     "metadata": {},
     "output_type": "display_data"
    },
    {
     "name": "stdout",
     "output_type": "stream",
     "text": [
      "save\n"
     ]
    },
    {
     "name": "stderr",
     "output_type": "stream",
     "text": [
      "\r",
      " 25%|███████████████████▌                                                          | 2/8 [1:49:34<5:35:29, 3354.84s/it]"
     ]
    },
    {
     "name": "stdout",
     "output_type": "stream",
     "text": [
      "Total running time: 51.78 mn\n",
      "(5441, 158)\n",
      "2020-09-30 00:00:00\n",
      "pen10\n"
     ]
    },
    {
     "name": "stderr",
     "output_type": "stream",
     "text": [
      "C:\\Users\\camil\\Desktop\\animals_code\\PhD-AnimalWelfare\\UTILS.py:2785: SettingWithCopyWarning: \n",
      "A value is trying to be set on a copy of a slice from a DataFrame\n",
      "\n",
      "See the caveats in the documentation: https://pandas.pydata.org/pandas-docs/stable/user_guide/indexing.html#returning-a-view-versus-a-copy\n",
      "  df.sort_values([timestamp_name], inplace=True)\n",
      "C:\\Users\\camil\\Desktop\\animals_code\\PhD-AnimalWelfare\\UTILS.py:2787: SettingWithCopyWarning: \n",
      "A value is trying to be set on a copy of a slice from a DataFrame.\n",
      "Try using .loc[row_indexer,col_indexer] = value instead\n",
      "\n",
      "See the caveats in the documentation: https://pandas.pydata.org/pandas-docs/stable/user_guide/indexing.html#returning-a-view-versus-a-copy\n",
      "  df[timestamp_name] = df[timestamp_name].map(lambda x: dt.datetime(x.year,x.month,x.day,x.hour,x.minute, x.second))\n"
     ]
    },
    {
     "name": "stdout",
     "output_type": "stream",
     "text": [
      "----------------- Create time serie\n",
      "in this time series there is 28 hens\n",
      "The initial starting date in over all is: 2020-09-29 09:20:21, and the ending date will be: 2021-07-25 18:46:46\n",
      "But note that birds may have different ending and starting date which should be taken into account when computing variables\n",
      "and after ending the last day at midnight : 2020-09-29 09:20:21, and the ending date will be: 2021-07-25 23:59:59\n",
      "Total running time: 4.93 mn\n",
      "your time series has 1 seconds between two timestamps\n",
      "----------------- main night zone and nbr of transitions over night....\n",
      "----------------- total & percentage duration per Zone in seconds....\n",
      "----------------- first timestamp in each zone per day & latency var....\n",
      "----------------- number of Zone (excluding nan)....\n",
      "----------------- compute some variables based on a list of zones over a day....\n"
     ]
    },
    {
     "name": "stderr",
     "output_type": "stream",
     "text": [
      "C:\\Users\\camil\\Desktop\\animals_code\\PhD-AnimalWelfare\\UTILS.py:2762: RuntimeWarning: invalid value encountered in long_scalars\n",
      "  return -np.log(A/B)\n",
      "C:\\Users\\camil\\Desktop\\animals_code\\PhD-AnimalWelfare\\UTILS.py:2762: RuntimeWarning: divide by zero encountered in log\n",
      "  return -np.log(A/B)\n"
     ]
    },
    {
     "name": "stdout",
     "output_type": "stream",
     "text": [
      "----------------NESTBOX\n"
     ]
    },
    {
     "name": "stderr",
     "output_type": "stream",
     "text": [
      "\n",
      "  0%|                                                                                           | 0/28 [00:00<?, ?it/s]\u001b[A\n",
      "  7%|█████▉                                                                             | 2/28 [00:00<00:04,  6.25it/s]\u001b[A\n",
      " 11%|████████▉                                                                          | 3/28 [00:00<00:07,  3.52it/s]\u001b[A\n",
      " 14%|███████████▊                                                                       | 4/28 [00:01<00:08,  2.93it/s]\u001b[A\n",
      " 18%|██████████████▊                                                                    | 5/28 [00:01<00:08,  2.77it/s]\u001b[A\n",
      " 21%|█████████████████▊                                                                 | 6/28 [00:02<00:09,  2.35it/s]\u001b[A\n",
      " 25%|████████████████████▊                                                              | 7/28 [00:02<00:07,  2.74it/s]\u001b[A\n",
      " 29%|███████████████████████▋                                                           | 8/28 [00:02<00:07,  2.73it/s]\u001b[A\n",
      " 32%|██████████████████████████▋                                                        | 9/28 [00:03<00:05,  3.47it/s]\u001b[A\n",
      " 39%|████████████████████████████████▏                                                 | 11/28 [00:03<00:04,  4.11it/s]\u001b[A\n",
      " 43%|███████████████████████████████████▏                                              | 12/28 [00:03<00:05,  2.83it/s]\u001b[A\n",
      " 46%|██████████████████████████████████████                                            | 13/28 [00:04<00:05,  2.64it/s]\u001b[A\n",
      " 50%|█████████████████████████████████████████                                         | 14/28 [00:04<00:04,  3.12it/s]\u001b[A\n",
      " 54%|███████████████████████████████████████████▉                                      | 15/28 [00:04<00:03,  3.34it/s]\u001b[A\n",
      " 57%|██████████████████████████████████████████████▊                                   | 16/28 [00:05<00:03,  3.34it/s]\u001b[A\n",
      " 68%|███████████████████████████████████████████████████████▋                          | 19/28 [00:05<00:02,  4.38it/s]\u001b[A\n",
      " 71%|██████████████████████████████████████████████████████████▌                       | 20/28 [00:05<00:02,  3.82it/s]\u001b[A\n",
      " 75%|█████████████████████████████████████████████████████████████▌                    | 21/28 [00:05<00:01,  3.58it/s]\u001b[A\n",
      " 79%|████████████████████████████████████████████████████████████████▍                 | 22/28 [00:06<00:01,  3.28it/s]\u001b[A\n",
      " 82%|███████████████████████████████████████████████████████████████████▎              | 23/28 [00:06<00:01,  2.68it/s]\u001b[A\n",
      " 86%|██████████████████████████████████████████████████████████████████████▎           | 24/28 [00:07<00:01,  2.34it/s]\u001b[A\n",
      " 89%|█████████████████████████████████████████████████████████████████████████▏        | 25/28 [00:07<00:01,  2.18it/s]\u001b[A\n",
      " 93%|████████████████████████████████████████████████████████████████████████████▏     | 26/28 [00:08<00:01,  1.92it/s]\u001b[A\n",
      "100%|██████████████████████████████████████████████████████████████████████████████████| 28/28 [00:09<00:00,  3.02it/s]\u001b[A\n",
      "C:\\Users\\camil\\anaconda3\\lib\\site-packages\\numpy\\lib\\nanfunctions.py:1366: RuntimeWarning: Mean of empty slice\n",
      "  return np.nanmean(a, axis, out=out, keepdims=keepdims)\n"
     ]
    },
    {
     "name": "stdout",
     "output_type": "stream",
     "text": [
      "------------ add hen basics info\n",
      "From the focalBirdinfo, you have 155 ative tags\n",
      "(7617, 134)\n",
      "(5967, 136)\n",
      "-------------- Lets remove unwanted dates at PENS level\n"
     ]
    },
    {
     "data": {
      "text/html": [
       "<text style=color:black>By removing the unwanted days we passed from 5967 to 5657 timestamp (losing </text> <text style=color:red>310</text> <text style=color:black> timestamp)</text>"
      ],
      "text/plain": [
       "<IPython.core.display.HTML object>"
      ]
     },
     "metadata": {},
     "output_type": "display_data"
    },
    {
     "name": "stdout",
     "output_type": "stream",
     "text": [
      "All the night variables are:  Index(['HenID', 'night_level', 'night_Max_duration_zones',\n",
      "       'night_distribution_entropy', 'night_Total_number_transition',\n",
      "       'is_mvt_night', 'nbr_transition_at_h0', 'nbr_transition_at_h1',\n",
      "       'nbr_transition_at_h2', 'nbr_transition_at_h3', 'nbr_transition_at_h4',\n",
      "       'nbr_transition_at_h5', 'nbr_transition_at_h6', 'nbr_transition_at_h7',\n",
      "       'nbr_transition_at_h8', 'nbr_transition_at_h21',\n",
      "       'nbr_transition_at_h22', 'nbr_transition_at_h23',\n",
      "       'nbr_transition_next1hafterlightoff', 'level', 'PenID', 'CLASS',\n",
      "       'R-Pen', 'InitialStartDate', 'early_death', 'Treatment'],\n",
      "      dtype='object')\n",
      "['night_level']\n",
      "-------------- Lets remove dates of tags when they were not giving deviceupdate correctly\n"
     ]
    },
    {
     "data": {
      "text/html": [
       "<text style=color:black>By removing the unwanted days we passed from 7460 to 5502 timestamp (losing </text> <text style=color:red>1958</text> <text style=color:black> timestamp)</text>"
      ],
      "text/plain": [
       "<IPython.core.display.HTML object>"
      ]
     },
     "metadata": {},
     "output_type": "display_data"
    },
    {
     "name": "stdout",
     "output_type": "stream",
     "text": [
      "-------------- Lets remove the 30.09.2020 for the tags that still had no transition from before the light went on \n"
     ]
    },
    {
     "data": {
      "text/html": [
       "<text style=color:black>By removing the unwanted days we passed from 5502 to 5483 timestamp (losing </text> <text style=color:red>19</text> <text style=color:black> timestamp)</text>"
      ],
      "text/plain": [
       "<IPython.core.display.HTML object>"
      ]
     },
     "metadata": {},
     "output_type": "display_data"
    },
    {
     "name": "stdout",
     "output_type": "stream",
     "text": [
      "-------------- Lets remove all (dates,tagid) with not all seconds tracked (e.g. first day an animal is tracked), and no night variable\n"
     ]
    },
    {
     "data": {
      "text/html": [
       "<text style=color:black>By removing the unwanted days we passed from 5483 to 5453 timestamp (losing </text> <text style=color:red>30</text> <text style=color:black> timestamp)</text>"
      ],
      "text/plain": [
       "<IPython.core.display.HTML object>"
      ]
     },
     "metadata": {},
     "output_type": "display_data"
    },
    {
     "name": "stdout",
     "output_type": "stream",
     "text": [
      "-------------- remove days with only the night and not the days variables, as due to flickering we wotn really use night\n"
     ]
    },
    {
     "data": {
      "text/html": [
       "<text style=color:black>By removing the unwanted days we passed from 5453 to 5453 timestamp (losing </text> <text style=color:red>0</text> <text style=color:black> timestamp)</text>"
      ],
      "text/plain": [
       "<IPython.core.display.HTML object>"
      ]
     },
     "metadata": {},
     "output_type": "display_data"
    },
    {
     "name": "stdout",
     "output_type": "stream",
     "text": [
      "-------------- Lets remove all above the last official tracked day\n"
     ]
    },
    {
     "data": {
      "text/html": [
       "<text style=color:black>By removing the unwanted days we passed from 5453 to 5453 timestamp (losing </text> <text style=color:red>0</text> <text style=color:black> timestamp)</text>"
      ],
      "text/plain": [
       "<IPython.core.display.HTML object>"
      ]
     },
     "metadata": {},
     "output_type": "display_data"
    },
    {
     "name": "stdout",
     "output_type": "stream",
     "text": [
      "save\n"
     ]
    },
    {
     "name": "stderr",
     "output_type": "stream",
     "text": [
      "\r",
      " 38%|█████████████████████████████▎                                                | 3/8 [2:44:39<4:38:18, 3339.76s/it]"
     ]
    },
    {
     "name": "stdout",
     "output_type": "stream",
     "text": [
      "Total running time: 54.91 mn\n",
      "(5453, 158)\n",
      "2020-09-30 00:00:00\n",
      "pen3\n"
     ]
    },
    {
     "name": "stderr",
     "output_type": "stream",
     "text": [
      "C:\\Users\\camil\\Desktop\\animals_code\\PhD-AnimalWelfare\\UTILS.py:2785: SettingWithCopyWarning: \n",
      "A value is trying to be set on a copy of a slice from a DataFrame\n",
      "\n",
      "See the caveats in the documentation: https://pandas.pydata.org/pandas-docs/stable/user_guide/indexing.html#returning-a-view-versus-a-copy\n",
      "  df.sort_values([timestamp_name], inplace=True)\n",
      "C:\\Users\\camil\\Desktop\\animals_code\\PhD-AnimalWelfare\\UTILS.py:2787: SettingWithCopyWarning: \n",
      "A value is trying to be set on a copy of a slice from a DataFrame.\n",
      "Try using .loc[row_indexer,col_indexer] = value instead\n",
      "\n",
      "See the caveats in the documentation: https://pandas.pydata.org/pandas-docs/stable/user_guide/indexing.html#returning-a-view-versus-a-copy\n",
      "  df[timestamp_name] = df[timestamp_name].map(lambda x: dt.datetime(x.year,x.month,x.day,x.hour,x.minute, x.second))\n"
     ]
    },
    {
     "name": "stdout",
     "output_type": "stream",
     "text": [
      "----------------- Create time serie\n",
      "in this time series there is 28 hens\n",
      "The initial starting date in over all is: 2020-09-29 09:32:45, and the ending date will be: 2021-07-25 17:30:26\n",
      "But note that birds may have different ending and starting date which should be taken into account when computing variables\n",
      "and after ending the last day at midnight : 2020-09-29 09:32:45, and the ending date will be: 2021-07-25 23:59:59\n",
      "Total running time: 5.04 mn\n",
      "your time series has 1 seconds between two timestamps\n",
      "----------------- main night zone and nbr of transitions over night....\n",
      "----------------- total & percentage duration per Zone in seconds....\n",
      "----------------- first timestamp in each zone per day & latency var....\n",
      "----------------- number of Zone (excluding nan)....\n",
      "----------------- compute some variables based on a list of zones over a day....\n"
     ]
    },
    {
     "name": "stderr",
     "output_type": "stream",
     "text": [
      "C:\\Users\\camil\\Desktop\\animals_code\\PhD-AnimalWelfare\\UTILS.py:2762: RuntimeWarning: divide by zero encountered in log\n",
      "  return -np.log(A/B)\n",
      "C:\\Users\\camil\\Desktop\\animals_code\\PhD-AnimalWelfare\\UTILS.py:2762: RuntimeWarning: invalid value encountered in long_scalars\n",
      "  return -np.log(A/B)\n"
     ]
    },
    {
     "name": "stdout",
     "output_type": "stream",
     "text": [
      "----------------NESTBOX\n"
     ]
    },
    {
     "name": "stderr",
     "output_type": "stream",
     "text": [
      "\n",
      "  0%|                                                                                           | 0/28 [00:00<?, ?it/s]\u001b[A\n",
      "  4%|██▉                                                                                | 1/28 [00:00<00:12,  2.25it/s]\u001b[A\n",
      "  7%|█████▉                                                                             | 2/28 [00:00<00:08,  2.92it/s]\u001b[A\n",
      " 14%|███████████▊                                                                       | 4/28 [00:01<00:07,  3.08it/s]\u001b[A\n",
      " 18%|██████████████▊                                                                    | 5/28 [00:01<00:08,  2.64it/s]\u001b[A\n",
      " 21%|█████████████████▊                                                                 | 6/28 [00:01<00:07,  2.98it/s]\u001b[A\n",
      " 25%|████████████████████▊                                                              | 7/28 [00:02<00:08,  2.60it/s]\u001b[A\n",
      " 29%|███████████████████████▋                                                           | 8/28 [00:02<00:07,  2.66it/s]\u001b[A\n",
      " 32%|██████████████████████████▋                                                        | 9/28 [00:03<00:07,  2.49it/s]\u001b[A\n",
      " 36%|█████████████████████████████▎                                                    | 10/28 [00:03<00:08,  2.01it/s]\u001b[A\n",
      " 39%|████████████████████████████████▏                                                 | 11/28 [00:04<00:07,  2.26it/s]\u001b[A\n",
      " 43%|███████████████████████████████████▏                                              | 12/28 [00:04<00:07,  2.16it/s]\u001b[A\n",
      " 46%|██████████████████████████████████████                                            | 13/28 [00:05<00:06,  2.35it/s]\u001b[A\n",
      " 54%|███████████████████████████████████████████▉                                      | 15/28 [00:05<00:04,  3.11it/s]\u001b[A\n",
      " 57%|██████████████████████████████████████████████▊                                   | 16/28 [00:05<00:03,  3.49it/s]\u001b[A\n",
      " 61%|█████████████████████████████████████████████████▊                                | 17/28 [00:05<00:03,  2.95it/s]\u001b[A\n",
      " 64%|████████████████████████████████████████████████████▋                             | 18/28 [00:06<00:03,  3.12it/s]\u001b[A\n",
      " 75%|█████████████████████████████████████████████████████████████▌                    | 21/28 [00:06<00:01,  3.72it/s]\u001b[A\n",
      " 79%|████████████████████████████████████████████████████████████████▍                 | 22/28 [00:06<00:01,  4.12it/s]\u001b[A\n",
      " 82%|███████████████████████████████████████████████████████████████████▎              | 23/28 [00:06<00:01,  4.67it/s]\u001b[A\n",
      " 86%|██████████████████████████████████████████████████████████████████████▎           | 24/28 [00:07<00:00,  4.45it/s]\u001b[A\n",
      " 89%|█████████████████████████████████████████████████████████████████████████▏        | 25/28 [00:07<00:00,  3.41it/s]\u001b[A\n",
      " 93%|████████████████████████████████████████████████████████████████████████████▏     | 26/28 [00:07<00:00,  3.19it/s]\u001b[A\n",
      " 96%|███████████████████████████████████████████████████████████████████████████████   | 27/28 [00:08<00:00,  3.09it/s]\u001b[A\n",
      "100%|██████████████████████████████████████████████████████████████████████████████████| 28/28 [00:08<00:00,  3.26it/s]\u001b[A\n",
      "C:\\Users\\camil\\anaconda3\\lib\\site-packages\\numpy\\lib\\nanfunctions.py:1366: RuntimeWarning: Mean of empty slice\n",
      "  return np.nanmean(a, axis, out=out, keepdims=keepdims)\n"
     ]
    },
    {
     "name": "stdout",
     "output_type": "stream",
     "text": [
      "------------ add hen basics info\n",
      "From the focalBirdinfo, you have 155 ative tags\n",
      "(7610, 134)\n",
      "(5889, 136)\n",
      "-------------- Lets remove unwanted dates at PENS level\n"
     ]
    },
    {
     "data": {
      "text/html": [
       "<text style=color:black>By removing the unwanted days we passed from 5889 to 5517 timestamp (losing </text> <text style=color:red>372</text> <text style=color:black> timestamp)</text>"
      ],
      "text/plain": [
       "<IPython.core.display.HTML object>"
      ]
     },
     "metadata": {},
     "output_type": "display_data"
    },
    {
     "name": "stdout",
     "output_type": "stream",
     "text": [
      "All the night variables are:  Index(['HenID', 'night_level', 'night_Max_duration_zones',\n",
      "       'night_distribution_entropy', 'night_Total_number_transition',\n",
      "       'is_mvt_night', 'nbr_transition_at_h0', 'nbr_transition_at_h1',\n",
      "       'nbr_transition_at_h2', 'nbr_transition_at_h3', 'nbr_transition_at_h4',\n",
      "       'nbr_transition_at_h5', 'nbr_transition_at_h6', 'nbr_transition_at_h7',\n",
      "       'nbr_transition_at_h8', 'nbr_transition_at_h21',\n",
      "       'nbr_transition_at_h22', 'nbr_transition_at_h23',\n",
      "       'nbr_transition_next1hafterlightoff', 'level', 'PenID', 'CLASS',\n",
      "       'R-Pen', 'InitialStartDate', 'early_death', 'Treatment'],\n",
      "      dtype='object')\n",
      "['night_level']\n",
      "-------------- Lets remove dates of tags when they were not giving deviceupdate correctly\n"
     ]
    },
    {
     "data": {
      "text/html": [
       "<text style=color:black>By removing the unwanted days we passed from 7484 to 5329 timestamp (losing </text> <text style=color:red>2155</text> <text style=color:black> timestamp)</text>"
      ],
      "text/plain": [
       "<IPython.core.display.HTML object>"
      ]
     },
     "metadata": {},
     "output_type": "display_data"
    },
    {
     "name": "stdout",
     "output_type": "stream",
     "text": [
      "-------------- Lets remove the 30.09.2020 for the tags that still had no transition from before the light went on \n"
     ]
    },
    {
     "data": {
      "text/html": [
       "<text style=color:black>By removing the unwanted days we passed from 5329 to 5311 timestamp (losing </text> <text style=color:red>18</text> <text style=color:black> timestamp)</text>"
      ],
      "text/plain": [
       "<IPython.core.display.HTML object>"
      ]
     },
     "metadata": {},
     "output_type": "display_data"
    },
    {
     "name": "stdout",
     "output_type": "stream",
     "text": [
      "-------------- Lets remove all (dates,tagid) with not all seconds tracked (e.g. first day an animal is tracked), and no night variable\n"
     ]
    },
    {
     "data": {
      "text/html": [
       "<text style=color:black>By removing the unwanted days we passed from 5311 to 5242 timestamp (losing </text> <text style=color:red>69</text> <text style=color:black> timestamp)</text>"
      ],
      "text/plain": [
       "<IPython.core.display.HTML object>"
      ]
     },
     "metadata": {},
     "output_type": "display_data"
    },
    {
     "name": "stdout",
     "output_type": "stream",
     "text": [
      "-------------- remove days with only the night and not the days variables, as due to flickering we wotn really use night\n"
     ]
    },
    {
     "data": {
      "text/html": [
       "<text style=color:black>By removing the unwanted days we passed from 5242 to 5242 timestamp (losing </text> <text style=color:red>0</text> <text style=color:black> timestamp)</text>"
      ],
      "text/plain": [
       "<IPython.core.display.HTML object>"
      ]
     },
     "metadata": {},
     "output_type": "display_data"
    },
    {
     "name": "stdout",
     "output_type": "stream",
     "text": [
      "-------------- Lets remove all above the last official tracked day\n"
     ]
    },
    {
     "data": {
      "text/html": [
       "<text style=color:black>By removing the unwanted days we passed from 5242 to 5242 timestamp (losing </text> <text style=color:red>0</text> <text style=color:black> timestamp)</text>"
      ],
      "text/plain": [
       "<IPython.core.display.HTML object>"
      ]
     },
     "metadata": {},
     "output_type": "display_data"
    },
    {
     "name": "stdout",
     "output_type": "stream",
     "text": [
      "save\n"
     ]
    },
    {
     "name": "stderr",
     "output_type": "stream",
     "text": [
      "\r",
      " 50%|███████████████████████████████████████                                       | 4/8 [3:37:26<3:39:12, 3288.11s/it]"
     ]
    },
    {
     "name": "stdout",
     "output_type": "stream",
     "text": [
      "Total running time: 52.60 mn\n",
      "(5242, 158)\n",
      "2020-09-30 00:00:00\n",
      "pen4\n"
     ]
    },
    {
     "name": "stderr",
     "output_type": "stream",
     "text": [
      "C:\\Users\\camil\\Desktop\\animals_code\\PhD-AnimalWelfare\\UTILS.py:2785: SettingWithCopyWarning: \n",
      "A value is trying to be set on a copy of a slice from a DataFrame\n",
      "\n",
      "See the caveats in the documentation: https://pandas.pydata.org/pandas-docs/stable/user_guide/indexing.html#returning-a-view-versus-a-copy\n",
      "  df.sort_values([timestamp_name], inplace=True)\n",
      "C:\\Users\\camil\\Desktop\\animals_code\\PhD-AnimalWelfare\\UTILS.py:2787: SettingWithCopyWarning: \n",
      "A value is trying to be set on a copy of a slice from a DataFrame.\n",
      "Try using .loc[row_indexer,col_indexer] = value instead\n",
      "\n",
      "See the caveats in the documentation: https://pandas.pydata.org/pandas-docs/stable/user_guide/indexing.html#returning-a-view-versus-a-copy\n",
      "  df[timestamp_name] = df[timestamp_name].map(lambda x: dt.datetime(x.year,x.month,x.day,x.hour,x.minute, x.second))\n"
     ]
    },
    {
     "name": "stdout",
     "output_type": "stream",
     "text": [
      "----------------- Create time serie\n",
      "in this time series there is 27 hens\n",
      "The initial starting date in over all is: 2020-09-29 09:33:43, and the ending date will be: 2021-07-25 23:50:25\n",
      "But note that birds may have different ending and starting date which should be taken into account when computing variables\n",
      "and after ending the last day at midnight : 2020-09-29 09:33:43, and the ending date will be: 2021-07-25 23:59:59\n",
      "Total running time: 4.98 mn\n",
      "your time series has 1 seconds between two timestamps\n",
      "----------------- main night zone and nbr of transitions over night....\n",
      "----------------- total & percentage duration per Zone in seconds....\n",
      "----------------- first timestamp in each zone per day & latency var....\n",
      "----------------- number of Zone (excluding nan)....\n",
      "----------------- compute some variables based on a list of zones over a day....\n",
      "several max-duration-zone\n",
      "several max-duration-zone\n"
     ]
    },
    {
     "name": "stderr",
     "output_type": "stream",
     "text": [
      "C:\\Users\\camil\\Desktop\\animals_code\\PhD-AnimalWelfare\\UTILS.py:2762: RuntimeWarning: divide by zero encountered in log\n",
      "  return -np.log(A/B)\n",
      "C:\\Users\\camil\\Desktop\\animals_code\\PhD-AnimalWelfare\\UTILS.py:2762: RuntimeWarning: invalid value encountered in long_scalars\n",
      "  return -np.log(A/B)\n"
     ]
    },
    {
     "name": "stdout",
     "output_type": "stream",
     "text": [
      "----------------NESTBOX\n"
     ]
    },
    {
     "name": "stderr",
     "output_type": "stream",
     "text": [
      "\n",
      "  0%|                                                                                           | 0/27 [00:00<?, ?it/s]\u001b[A\n",
      "  4%|███                                                                                | 1/27 [00:00<00:05,  4.59it/s]\u001b[A\n",
      " 11%|█████████▏                                                                         | 3/27 [00:00<00:06,  3.87it/s]\u001b[A\n",
      " 15%|████████████▎                                                                      | 4/27 [00:01<00:06,  3.68it/s]\u001b[A\n",
      " 19%|███████████████▎                                                                   | 5/27 [00:01<00:06,  3.31it/s]\u001b[A\n",
      " 22%|██████████████████▍                                                                | 6/27 [00:02<00:09,  2.30it/s]\u001b[A\n",
      " 26%|█████████████████████▌                                                             | 7/27 [00:02<00:08,  2.37it/s]\u001b[A\n",
      " 30%|████████████████████████▌                                                          | 8/27 [00:03<00:08,  2.16it/s]\u001b[A\n",
      " 33%|███████████████████████████▋                                                       | 9/27 [00:04<00:09,  1.85it/s]\u001b[A\n",
      " 37%|██████████████████████████████▎                                                   | 10/27 [00:04<00:10,  1.70it/s]\u001b[A\n",
      " 41%|█████████████████████████████████▍                                                | 11/27 [00:05<00:09,  1.65it/s]\u001b[A\n",
      " 44%|████████████████████████████████████▍                                             | 12/27 [00:05<00:08,  1.83it/s]\u001b[A\n",
      " 48%|███████████████████████████████████████▍                                          | 13/27 [00:06<00:07,  1.90it/s]\u001b[A\n",
      " 52%|██████████████████████████████████████████▌                                       | 14/27 [00:06<00:06,  2.10it/s]\u001b[A\n",
      " 56%|█████████████████████████████████████████████▌                                    | 15/27 [00:07<00:05,  2.15it/s]\u001b[A\n",
      " 59%|████████████████████████████████████████████████▌                                 | 16/27 [00:07<00:04,  2.67it/s]\u001b[A\n",
      " 63%|███████████████████████████████████████████████████▋                              | 17/27 [00:07<00:03,  3.28it/s]\u001b[A\n",
      " 70%|█████████████████████████████████████████████████████████▋                        | 19/27 [00:17<00:13,  1.67s/it]\u001b[A\n",
      " 74%|████████████████████████████████████████████████████████████▋                     | 20/27 [00:17<00:09,  1.29s/it]\u001b[A\n",
      " 78%|███████████████████████████████████████████████████████████████▊                  | 21/27 [00:18<00:06,  1.09s/it]\u001b[A\n",
      " 85%|█████████████████████████████████████████████████████████████████████▊            | 23/27 [00:18<00:03,  1.16it/s]\u001b[A\n",
      " 89%|████████████████████████████████████████████████████████████████████████▉         | 24/27 [00:19<00:02,  1.31it/s]\u001b[A\n",
      " 93%|███████████████████████████████████████████████████████████████████████████▉      | 25/27 [00:19<00:01,  1.49it/s]\u001b[A\n",
      " 96%|██████████████████████████████████████████████████████████████████████████████▉   | 26/27 [00:20<00:00,  1.65it/s]\u001b[A\n",
      "100%|██████████████████████████████████████████████████████████████████████████████████| 27/27 [00:20<00:00,  1.29it/s]\u001b[A\n",
      "C:\\Users\\camil\\anaconda3\\lib\\site-packages\\numpy\\lib\\nanfunctions.py:1366: RuntimeWarning: Mean of empty slice\n",
      "  return np.nanmean(a, axis, out=out, keepdims=keepdims)\n"
     ]
    },
    {
     "name": "stdout",
     "output_type": "stream",
     "text": [
      "------------ add hen basics info\n",
      "From the focalBirdinfo, you have 155 ative tags\n",
      "(7302, 134)\n",
      "(5947, 136)\n",
      "-------------- Lets remove unwanted dates at PENS level\n"
     ]
    },
    {
     "data": {
      "text/html": [
       "<text style=color:black>By removing the unwanted days we passed from 5947 to 5583 timestamp (losing </text> <text style=color:red>364</text> <text style=color:black> timestamp)</text>"
      ],
      "text/plain": [
       "<IPython.core.display.HTML object>"
      ]
     },
     "metadata": {},
     "output_type": "display_data"
    },
    {
     "name": "stdout",
     "output_type": "stream",
     "text": [
      "All the night variables are:  Index(['HenID', 'night_level', 'night_Max_duration_zones',\n",
      "       'night_distribution_entropy', 'night_Total_number_transition',\n",
      "       'is_mvt_night', 'nbr_transition_at_h0', 'nbr_transition_at_h1',\n",
      "       'nbr_transition_at_h2', 'nbr_transition_at_h3', 'nbr_transition_at_h4',\n",
      "       'nbr_transition_at_h5', 'nbr_transition_at_h6', 'nbr_transition_at_h7',\n",
      "       'nbr_transition_at_h8', 'nbr_transition_at_h21',\n",
      "       'nbr_transition_at_h22', 'nbr_transition_at_h23',\n",
      "       'nbr_transition_next1hafterlightoff', 'level', 'PenID', 'CLASS',\n",
      "       'R-Pen', 'InitialStartDate', 'early_death', 'Treatment'],\n",
      "      dtype='object')\n",
      "['night_level']\n",
      "-------------- Lets remove dates of tags when they were not giving deviceupdate correctly\n"
     ]
    },
    {
     "data": {
      "text/html": [
       "<text style=color:black>By removing the unwanted days we passed from 7185 to 5425 timestamp (losing </text> <text style=color:red>1760</text> <text style=color:black> timestamp)</text>"
      ],
      "text/plain": [
       "<IPython.core.display.HTML object>"
      ]
     },
     "metadata": {},
     "output_type": "display_data"
    },
    {
     "name": "stdout",
     "output_type": "stream",
     "text": [
      "-------------- Lets remove the 30.09.2020 for the tags that still had no transition from before the light went on \n"
     ]
    },
    {
     "data": {
      "text/html": [
       "<text style=color:black>By removing the unwanted days we passed from 5425 to 5408 timestamp (losing </text> <text style=color:red>17</text> <text style=color:black> timestamp)</text>"
      ],
      "text/plain": [
       "<IPython.core.display.HTML object>"
      ]
     },
     "metadata": {},
     "output_type": "display_data"
    },
    {
     "name": "stdout",
     "output_type": "stream",
     "text": [
      "-------------- Lets remove all (dates,tagid) with not all seconds tracked (e.g. first day an animal is tracked), and no night variable\n"
     ]
    },
    {
     "data": {
      "text/html": [
       "<text style=color:black>By removing the unwanted days we passed from 5408 to 5342 timestamp (losing </text> <text style=color:red>66</text> <text style=color:black> timestamp)</text>"
      ],
      "text/plain": [
       "<IPython.core.display.HTML object>"
      ]
     },
     "metadata": {},
     "output_type": "display_data"
    },
    {
     "name": "stdout",
     "output_type": "stream",
     "text": [
      "-------------- remove days with only the night and not the days variables, as due to flickering we wotn really use night\n"
     ]
    },
    {
     "data": {
      "text/html": [
       "<text style=color:black>By removing the unwanted days we passed from 5342 to 5342 timestamp (losing </text> <text style=color:red>0</text> <text style=color:black> timestamp)</text>"
      ],
      "text/plain": [
       "<IPython.core.display.HTML object>"
      ]
     },
     "metadata": {},
     "output_type": "display_data"
    },
    {
     "name": "stdout",
     "output_type": "stream",
     "text": [
      "-------------- Lets remove all above the last official tracked day\n"
     ]
    },
    {
     "data": {
      "text/html": [
       "<text style=color:black>By removing the unwanted days we passed from 5342 to 5342 timestamp (losing </text> <text style=color:red>0</text> <text style=color:black> timestamp)</text>"
      ],
      "text/plain": [
       "<IPython.core.display.HTML object>"
      ]
     },
     "metadata": {},
     "output_type": "display_data"
    },
    {
     "name": "stdout",
     "output_type": "stream",
     "text": [
      "save\n"
     ]
    },
    {
     "name": "stderr",
     "output_type": "stream",
     "text": [
      "\r",
      " 62%|████████████████████████████████████████████████▊                             | 5/8 [4:28:13<2:40:46, 3215.60s/it]"
     ]
    },
    {
     "name": "stdout",
     "output_type": "stream",
     "text": [
      "Total running time: 50.58 mn\n",
      "(5342, 158)\n",
      "2020-09-30 00:00:00\n",
      "pen5\n"
     ]
    },
    {
     "name": "stderr",
     "output_type": "stream",
     "text": [
      "C:\\Users\\camil\\Desktop\\animals_code\\PhD-AnimalWelfare\\UTILS.py:2785: SettingWithCopyWarning: \n",
      "A value is trying to be set on a copy of a slice from a DataFrame\n",
      "\n",
      "See the caveats in the documentation: https://pandas.pydata.org/pandas-docs/stable/user_guide/indexing.html#returning-a-view-versus-a-copy\n",
      "  df.sort_values([timestamp_name], inplace=True)\n",
      "C:\\Users\\camil\\Desktop\\animals_code\\PhD-AnimalWelfare\\UTILS.py:2787: SettingWithCopyWarning: \n",
      "A value is trying to be set on a copy of a slice from a DataFrame.\n",
      "Try using .loc[row_indexer,col_indexer] = value instead\n",
      "\n",
      "See the caveats in the documentation: https://pandas.pydata.org/pandas-docs/stable/user_guide/indexing.html#returning-a-view-versus-a-copy\n",
      "  df[timestamp_name] = df[timestamp_name].map(lambda x: dt.datetime(x.year,x.month,x.day,x.hour,x.minute, x.second))\n"
     ]
    },
    {
     "name": "stdout",
     "output_type": "stream",
     "text": [
      "----------------- Create time serie\n",
      "in this time series there is 29 hens\n",
      "The initial starting date in over all is: 2020-09-29 09:33:48, and the ending date will be: 2021-07-25 20:05:09\n",
      "But note that birds may have different ending and starting date which should be taken into account when computing variables\n",
      "and after ending the last day at midnight : 2020-09-29 09:33:48, and the ending date will be: 2021-07-25 23:59:59\n",
      "Total running time: 5.48 mn\n",
      "your time series has 1 seconds between two timestamps\n",
      "----------------- main night zone and nbr of transitions over night....\n",
      "----------------- total & percentage duration per Zone in seconds....\n",
      "----------------- first timestamp in each zone per day & latency var....\n",
      "----------------- number of Zone (excluding nan)....\n",
      "----------------- compute some variables based on a list of zones over a day....\n"
     ]
    },
    {
     "name": "stderr",
     "output_type": "stream",
     "text": [
      "C:\\Users\\camil\\Desktop\\animals_code\\PhD-AnimalWelfare\\UTILS.py:2762: RuntimeWarning: divide by zero encountered in log\n",
      "  return -np.log(A/B)\n",
      "C:\\Users\\camil\\Desktop\\animals_code\\PhD-AnimalWelfare\\UTILS.py:2762: RuntimeWarning: invalid value encountered in long_scalars\n",
      "  return -np.log(A/B)\n"
     ]
    },
    {
     "name": "stdout",
     "output_type": "stream",
     "text": [
      "----------------NESTBOX\n"
     ]
    },
    {
     "name": "stderr",
     "output_type": "stream",
     "text": [
      "\n",
      "  0%|                                                                                           | 0/29 [00:00<?, ?it/s]\u001b[A\n",
      "  3%|██▊                                                                                | 1/29 [00:00<00:03,  8.03it/s]\u001b[A\n",
      "  7%|█████▋                                                                             | 2/29 [00:00<00:07,  3.75it/s]\u001b[A\n",
      " 10%|████████▌                                                                          | 3/29 [00:01<00:09,  2.63it/s]\u001b[A\n",
      " 14%|███████████▍                                                                       | 4/29 [00:01<00:09,  2.52it/s]\u001b[A\n",
      " 21%|█████████████████▏                                                                 | 6/29 [00:02<00:08,  2.65it/s]\u001b[A\n",
      " 24%|████████████████████                                                               | 7/29 [00:02<00:06,  3.28it/s]\u001b[A\n",
      " 28%|██████████████████████▉                                                            | 8/29 [00:03<00:07,  2.88it/s]\u001b[A\n",
      " 31%|█████████████████████████▊                                                         | 9/29 [00:03<00:08,  2.37it/s]\u001b[A\n",
      " 34%|████████████████████████████▎                                                     | 10/29 [00:04<00:08,  2.35it/s]\u001b[A\n",
      " 38%|███████████████████████████████                                                   | 11/29 [00:04<00:07,  2.31it/s]\u001b[A\n",
      " 41%|█████████████████████████████████▉                                                | 12/29 [00:04<00:06,  2.47it/s]\u001b[A\n",
      " 45%|████████████████████████████████████▊                                             | 13/29 [00:05<00:06,  2.63it/s]\u001b[A\n",
      " 48%|███████████████████████████████████████▌                                          | 14/29 [00:05<00:05,  2.84it/s]\u001b[A\n",
      " 52%|██████████████████████████████████████████▍                                       | 15/29 [00:05<00:05,  2.69it/s]\u001b[A\n",
      " 55%|█████████████████████████████████████████████▏                                    | 16/29 [00:06<00:05,  2.51it/s]\u001b[A\n",
      " 59%|████████████████████████████████████████████████                                  | 17/29 [00:06<00:03,  3.05it/s]\u001b[A\n",
      " 62%|██████████████████████████████████████████████████▉                               | 18/29 [00:06<00:03,  3.62it/s]\u001b[A\n",
      " 66%|█████████████████████████████████████████████████████▋                            | 19/29 [00:06<00:02,  3.45it/s]\u001b[A\n",
      " 69%|████████████████████████████████████████████████████████▌                         | 20/29 [00:07<00:02,  3.02it/s]\u001b[A\n",
      " 72%|███████████████████████████████████████████████████████████▍                      | 21/29 [00:07<00:02,  3.35it/s]\u001b[A\n",
      " 83%|███████████████████████████████████████████████████████████████████▊              | 24/29 [00:07<00:01,  4.30it/s]\u001b[A\n",
      " 86%|██████████████████████████████████████████████████████████████████████▋           | 25/29 [00:08<00:01,  3.79it/s]\u001b[A\n",
      " 90%|█████████████████████████████████████████████████████████████████████████▌        | 26/29 [00:08<00:00,  3.42it/s]\u001b[A\n",
      " 93%|████████████████████████████████████████████████████████████████████████████▎     | 27/29 [00:09<00:00,  2.74it/s]\u001b[A\n",
      "100%|██████████████████████████████████████████████████████████████████████████████████| 29/29 [00:09<00:00,  3.10it/s]\u001b[A\n",
      "C:\\Users\\camil\\anaconda3\\lib\\site-packages\\numpy\\lib\\nanfunctions.py:1366: RuntimeWarning: Mean of empty slice\n",
      "  return np.nanmean(a, axis, out=out, keepdims=keepdims)\n"
     ]
    },
    {
     "name": "stdout",
     "output_type": "stream",
     "text": [
      "------------ add hen basics info\n",
      "From the focalBirdinfo, you have 155 ative tags\n",
      "(7841, 134)\n",
      "(5949, 136)\n",
      "-------------- Lets remove unwanted dates at PENS level\n"
     ]
    },
    {
     "data": {
      "text/html": [
       "<text style=color:black>By removing the unwanted days we passed from 5949 to 5482 timestamp (losing </text> <text style=color:red>467</text> <text style=color:black> timestamp)</text>"
      ],
      "text/plain": [
       "<IPython.core.display.HTML object>"
      ]
     },
     "metadata": {},
     "output_type": "display_data"
    },
    {
     "name": "stdout",
     "output_type": "stream",
     "text": [
      "All the night variables are:  Index(['HenID', 'night_level', 'night_Max_duration_zones',\n",
      "       'night_distribution_entropy', 'night_Total_number_transition',\n",
      "       'is_mvt_night', 'nbr_transition_at_h0', 'nbr_transition_at_h1',\n",
      "       'nbr_transition_at_h2', 'nbr_transition_at_h3', 'nbr_transition_at_h4',\n",
      "       'nbr_transition_at_h5', 'nbr_transition_at_h6', 'nbr_transition_at_h7',\n",
      "       'nbr_transition_at_h8', 'nbr_transition_at_h21',\n",
      "       'nbr_transition_at_h22', 'nbr_transition_at_h23',\n",
      "       'nbr_transition_next1hafterlightoff', 'level', 'PenID', 'CLASS',\n",
      "       'R-Pen', 'InitialStartDate', 'early_death', 'Treatment'],\n",
      "      dtype='object')\n",
      "['night_level']\n",
      "-------------- Lets remove dates of tags when they were not giving deviceupdate correctly\n"
     ]
    },
    {
     "data": {
      "text/html": [
       "<text style=color:black>By removing the unwanted days we passed from 7599 to 5487 timestamp (losing </text> <text style=color:red>2112</text> <text style=color:black> timestamp)</text>"
      ],
      "text/plain": [
       "<IPython.core.display.HTML object>"
      ]
     },
     "metadata": {},
     "output_type": "display_data"
    },
    {
     "name": "stdout",
     "output_type": "stream",
     "text": [
      "-------------- Lets remove the 30.09.2020 for the tags that still had no transition from before the light went on \n"
     ]
    },
    {
     "data": {
      "text/html": [
       "<text style=color:black>By removing the unwanted days we passed from 5487 to 5468 timestamp (losing </text> <text style=color:red>19</text> <text style=color:black> timestamp)</text>"
      ],
      "text/plain": [
       "<IPython.core.display.HTML object>"
      ]
     },
     "metadata": {},
     "output_type": "display_data"
    },
    {
     "name": "stdout",
     "output_type": "stream",
     "text": [
      "-------------- Lets remove all (dates,tagid) with not all seconds tracked (e.g. first day an animal is tracked), and no night variable\n"
     ]
    },
    {
     "data": {
      "text/html": [
       "<text style=color:black>By removing the unwanted days we passed from 5468 to 5400 timestamp (losing </text> <text style=color:red>68</text> <text style=color:black> timestamp)</text>"
      ],
      "text/plain": [
       "<IPython.core.display.HTML object>"
      ]
     },
     "metadata": {},
     "output_type": "display_data"
    },
    {
     "name": "stdout",
     "output_type": "stream",
     "text": [
      "-------------- remove days with only the night and not the days variables, as due to flickering we wotn really use night\n"
     ]
    },
    {
     "data": {
      "text/html": [
       "<text style=color:black>By removing the unwanted days we passed from 5400 to 5400 timestamp (losing </text> <text style=color:red>0</text> <text style=color:black> timestamp)</text>"
      ],
      "text/plain": [
       "<IPython.core.display.HTML object>"
      ]
     },
     "metadata": {},
     "output_type": "display_data"
    },
    {
     "name": "stdout",
     "output_type": "stream",
     "text": [
      "-------------- Lets remove all above the last official tracked day\n"
     ]
    },
    {
     "data": {
      "text/html": [
       "<text style=color:black>By removing the unwanted days we passed from 5400 to 5400 timestamp (losing </text> <text style=color:red>0</text> <text style=color:black> timestamp)</text>"
      ],
      "text/plain": [
       "<IPython.core.display.HTML object>"
      ]
     },
     "metadata": {},
     "output_type": "display_data"
    },
    {
     "name": "stdout",
     "output_type": "stream",
     "text": [
      "save\n"
     ]
    },
    {
     "name": "stderr",
     "output_type": "stream",
     "text": [
      "\r",
      " 75%|██████████████████████████████████████████████████████████▌                   | 6/8 [5:22:03<1:47:20, 3220.15s/it]"
     ]
    },
    {
     "name": "stdout",
     "output_type": "stream",
     "text": [
      "Total running time: 53.66 mn\n",
      "(5400, 158)\n",
      "2020-09-30 00:00:00\n",
      "pen9\n"
     ]
    },
    {
     "name": "stderr",
     "output_type": "stream",
     "text": [
      "C:\\Users\\camil\\Desktop\\animals_code\\PhD-AnimalWelfare\\UTILS.py:2785: SettingWithCopyWarning: \n",
      "A value is trying to be set on a copy of a slice from a DataFrame\n",
      "\n",
      "See the caveats in the documentation: https://pandas.pydata.org/pandas-docs/stable/user_guide/indexing.html#returning-a-view-versus-a-copy\n",
      "  df.sort_values([timestamp_name], inplace=True)\n",
      "C:\\Users\\camil\\Desktop\\animals_code\\PhD-AnimalWelfare\\UTILS.py:2787: SettingWithCopyWarning: \n",
      "A value is trying to be set on a copy of a slice from a DataFrame.\n",
      "Try using .loc[row_indexer,col_indexer] = value instead\n",
      "\n",
      "See the caveats in the documentation: https://pandas.pydata.org/pandas-docs/stable/user_guide/indexing.html#returning-a-view-versus-a-copy\n",
      "  df[timestamp_name] = df[timestamp_name].map(lambda x: dt.datetime(x.year,x.month,x.day,x.hour,x.minute, x.second))\n"
     ]
    },
    {
     "name": "stdout",
     "output_type": "stream",
     "text": [
      "----------------- Create time serie\n",
      "in this time series there is 28 hens\n",
      "The initial starting date in over all is: 2020-09-29 09:36:51, and the ending date will be: 2021-07-25 23:53:11\n",
      "But note that birds may have different ending and starting date which should be taken into account when computing variables\n",
      "and after ending the last day at midnight : 2020-09-29 09:36:51, and the ending date will be: 2021-07-25 23:59:59\n",
      "Total running time: 5.07 mn\n",
      "your time series has 1 seconds between two timestamps\n",
      "----------------- main night zone and nbr of transitions over night....\n",
      "----------------- total & percentage duration per Zone in seconds....\n",
      "----------------- first timestamp in each zone per day & latency var....\n",
      "----------------- number of Zone (excluding nan)....\n",
      "----------------- compute some variables based on a list of zones over a day....\n",
      "several max-duration-zone\n",
      "several max-duration-zone\n"
     ]
    },
    {
     "name": "stderr",
     "output_type": "stream",
     "text": [
      "C:\\Users\\camil\\Desktop\\animals_code\\PhD-AnimalWelfare\\UTILS.py:2762: RuntimeWarning: invalid value encountered in long_scalars\n",
      "  return -np.log(A/B)\n",
      "C:\\Users\\camil\\Desktop\\animals_code\\PhD-AnimalWelfare\\UTILS.py:2762: RuntimeWarning: divide by zero encountered in log\n",
      "  return -np.log(A/B)\n"
     ]
    },
    {
     "name": "stdout",
     "output_type": "stream",
     "text": [
      "----------------NESTBOX\n"
     ]
    },
    {
     "name": "stderr",
     "output_type": "stream",
     "text": [
      "\n",
      "  0%|                                                                                           | 0/28 [00:00<?, ?it/s]\u001b[A\n",
      "  4%|██▉                                                                                | 1/28 [00:00<00:10,  2.46it/s]\u001b[A\n",
      "  7%|█████▉                                                                             | 2/28 [00:00<00:10,  2.42it/s]\u001b[A\n",
      " 11%|████████▉                                                                          | 3/28 [00:01<00:12,  2.01it/s]\u001b[A\n",
      " 18%|██████████████▊                                                                    | 5/28 [00:02<00:09,  2.37it/s]\u001b[A\n",
      " 25%|████████████████████▊                                                              | 7/28 [00:02<00:07,  2.72it/s]\u001b[A\n",
      " 29%|███████████████████████▋                                                           | 8/28 [00:03<00:10,  1.91it/s]\u001b[A\n",
      " 32%|██████████████████████████▋                                                        | 9/28 [00:04<00:12,  1.54it/s]\u001b[A\n",
      " 39%|████████████████████████████████▏                                                 | 11/28 [00:04<00:08,  2.01it/s]\u001b[A\n",
      " 43%|███████████████████████████████████▏                                              | 12/28 [00:04<00:06,  2.36it/s]\u001b[A\n",
      " 46%|██████████████████████████████████████                                            | 13/28 [00:05<00:07,  2.08it/s]\u001b[A\n",
      " 50%|█████████████████████████████████████████                                         | 14/28 [00:06<00:08,  1.69it/s]\u001b[A\n",
      " 54%|███████████████████████████████████████████▉                                      | 15/28 [00:07<00:08,  1.57it/s]\u001b[A\n",
      " 57%|██████████████████████████████████████████████▊                                   | 16/28 [00:07<00:06,  1.74it/s]\u001b[A\n",
      " 61%|█████████████████████████████████████████████████▊                                | 17/28 [00:07<00:05,  1.95it/s]\u001b[A\n",
      " 64%|████████████████████████████████████████████████████▋                             | 18/28 [00:08<00:05,  1.86it/s]\u001b[A\n",
      " 68%|███████████████████████████████████████████████████████▋                          | 19/28 [00:08<00:03,  2.28it/s]\u001b[A\n",
      " 71%|██████████████████████████████████████████████████████████▌                       | 20/28 [00:08<00:03,  2.60it/s]\u001b[A\n",
      " 75%|█████████████████████████████████████████████████████████████▌                    | 21/28 [00:09<00:04,  1.74it/s]\u001b[A\n",
      " 79%|████████████████████████████████████████████████████████████████▍                 | 22/28 [00:10<00:02,  2.05it/s]\u001b[A\n",
      " 82%|███████████████████████████████████████████████████████████████████▎              | 23/28 [00:10<00:02,  1.90it/s]\u001b[A\n",
      " 89%|█████████████████████████████████████████████████████████████████████████▏        | 25/28 [00:11<00:01,  2.34it/s]\u001b[A\n",
      " 93%|████████████████████████████████████████████████████████████████████████████▏     | 26/28 [00:12<00:01,  1.39it/s]\u001b[A\n",
      " 96%|███████████████████████████████████████████████████████████████████████████████   | 27/28 [00:12<00:00,  1.82it/s]\u001b[A\n",
      "100%|██████████████████████████████████████████████████████████████████████████████████| 28/28 [00:13<00:00,  2.06it/s]\u001b[A\n",
      "C:\\Users\\camil\\anaconda3\\lib\\site-packages\\numpy\\lib\\nanfunctions.py:1366: RuntimeWarning: Mean of empty slice\n",
      "  return np.nanmean(a, axis, out=out, keepdims=keepdims)\n"
     ]
    },
    {
     "name": "stdout",
     "output_type": "stream",
     "text": [
      "------------ add hen basics info\n",
      "From the focalBirdinfo, you have 155 ative tags\n",
      "(7563, 134)\n",
      "(5941, 136)\n",
      "-------------- Lets remove unwanted dates at PENS level\n"
     ]
    },
    {
     "data": {
      "text/html": [
       "<text style=color:black>By removing the unwanted days we passed from 5941 to 5640 timestamp (losing </text> <text style=color:red>301</text> <text style=color:black> timestamp)</text>"
      ],
      "text/plain": [
       "<IPython.core.display.HTML object>"
      ]
     },
     "metadata": {},
     "output_type": "display_data"
    },
    {
     "name": "stdout",
     "output_type": "stream",
     "text": [
      "All the night variables are:  Index(['HenID', 'night_level', 'night_Max_duration_zones',\n",
      "       'night_distribution_entropy', 'night_Total_number_transition',\n",
      "       'is_mvt_night', 'nbr_transition_at_h0', 'nbr_transition_at_h1',\n",
      "       'nbr_transition_at_h2', 'nbr_transition_at_h3', 'nbr_transition_at_h4',\n",
      "       'nbr_transition_at_h5', 'nbr_transition_at_h6', 'nbr_transition_at_h7',\n",
      "       'nbr_transition_at_h8', 'nbr_transition_at_h21',\n",
      "       'nbr_transition_at_h22', 'nbr_transition_at_h23',\n",
      "       'nbr_transition_next1hafterlightoff', 'level', 'PenID', 'CLASS',\n",
      "       'R-Pen', 'InitialStartDate', 'early_death', 'Treatment'],\n",
      "      dtype='object')\n",
      "['night_level']\n",
      "-------------- Lets remove dates of tags when they were not giving deviceupdate correctly\n"
     ]
    },
    {
     "data": {
      "text/html": [
       "<text style=color:black>By removing the unwanted days we passed from 7439 to 5531 timestamp (losing </text> <text style=color:red>1908</text> <text style=color:black> timestamp)</text>"
      ],
      "text/plain": [
       "<IPython.core.display.HTML object>"
      ]
     },
     "metadata": {},
     "output_type": "display_data"
    },
    {
     "name": "stdout",
     "output_type": "stream",
     "text": [
      "-------------- Lets remove the 30.09.2020 for the tags that still had no transition from before the light went on \n"
     ]
    },
    {
     "data": {
      "text/html": [
       "<text style=color:black>By removing the unwanted days we passed from 5531 to 5514 timestamp (losing </text> <text style=color:red>17</text> <text style=color:black> timestamp)</text>"
      ],
      "text/plain": [
       "<IPython.core.display.HTML object>"
      ]
     },
     "metadata": {},
     "output_type": "display_data"
    },
    {
     "name": "stdout",
     "output_type": "stream",
     "text": [
      "-------------- Lets remove all (dates,tagid) with not all seconds tracked (e.g. first day an animal is tracked), and no night variable\n"
     ]
    },
    {
     "data": {
      "text/html": [
       "<text style=color:black>By removing the unwanted days we passed from 5514 to 5453 timestamp (losing </text> <text style=color:red>61</text> <text style=color:black> timestamp)</text>"
      ],
      "text/plain": [
       "<IPython.core.display.HTML object>"
      ]
     },
     "metadata": {},
     "output_type": "display_data"
    },
    {
     "name": "stdout",
     "output_type": "stream",
     "text": [
      "-------------- remove days with only the night and not the days variables, as due to flickering we wotn really use night\n"
     ]
    },
    {
     "data": {
      "text/html": [
       "<text style=color:black>By removing the unwanted days we passed from 5453 to 5453 timestamp (losing </text> <text style=color:red>0</text> <text style=color:black> timestamp)</text>"
      ],
      "text/plain": [
       "<IPython.core.display.HTML object>"
      ]
     },
     "metadata": {},
     "output_type": "display_data"
    },
    {
     "name": "stdout",
     "output_type": "stream",
     "text": [
      "-------------- Lets remove all above the last official tracked day\n"
     ]
    },
    {
     "data": {
      "text/html": [
       "<text style=color:black>By removing the unwanted days we passed from 5453 to 5453 timestamp (losing </text> <text style=color:red>0</text> <text style=color:black> timestamp)</text>"
      ],
      "text/plain": [
       "<IPython.core.display.HTML object>"
      ]
     },
     "metadata": {},
     "output_type": "display_data"
    },
    {
     "name": "stdout",
     "output_type": "stream",
     "text": [
      "save\n"
     ]
    },
    {
     "name": "stderr",
     "output_type": "stream",
     "text": [
      "\r",
      " 88%|██████████████████████████████████████████████████████████████████████          | 7/8 [6:29:06<57:40, 3460.87s/it]"
     ]
    },
    {
     "name": "stdout",
     "output_type": "stream",
     "text": [
      "Total running time: 66.78 mn\n",
      "(5453, 158)\n",
      "2020-09-30 00:00:00\n",
      "pen8\n"
     ]
    },
    {
     "name": "stderr",
     "output_type": "stream",
     "text": [
      "C:\\Users\\camil\\Desktop\\animals_code\\PhD-AnimalWelfare\\UTILS.py:2785: SettingWithCopyWarning: \n",
      "A value is trying to be set on a copy of a slice from a DataFrame\n",
      "\n",
      "See the caveats in the documentation: https://pandas.pydata.org/pandas-docs/stable/user_guide/indexing.html#returning-a-view-versus-a-copy\n",
      "  df.sort_values([timestamp_name], inplace=True)\n",
      "C:\\Users\\camil\\Desktop\\animals_code\\PhD-AnimalWelfare\\UTILS.py:2787: SettingWithCopyWarning: \n",
      "A value is trying to be set on a copy of a slice from a DataFrame.\n",
      "Try using .loc[row_indexer,col_indexer] = value instead\n",
      "\n",
      "See the caveats in the documentation: https://pandas.pydata.org/pandas-docs/stable/user_guide/indexing.html#returning-a-view-versus-a-copy\n",
      "  df[timestamp_name] = df[timestamp_name].map(lambda x: dt.datetime(x.year,x.month,x.day,x.hour,x.minute, x.second))\n"
     ]
    },
    {
     "name": "stdout",
     "output_type": "stream",
     "text": [
      "----------------- Create time serie\n",
      "in this time series there is 28 hens\n",
      "The initial starting date in over all is: 2020-09-29 09:52:12, and the ending date will be: 2021-07-25 23:56:18\n",
      "But note that birds may have different ending and starting date which should be taken into account when computing variables\n",
      "and after ending the last day at midnight : 2020-09-29 09:52:12, and the ending date will be: 2021-07-25 23:59:59\n",
      "Total running time: 6.85 mn\n",
      "your time series has 1 seconds between two timestamps\n",
      "----------------- main night zone and nbr of transitions over night....\n",
      "----------------- total & percentage duration per Zone in seconds....\n",
      "----------------- first timestamp in each zone per day & latency var....\n",
      "----------------- number of Zone (excluding nan)....\n",
      "----------------- compute some variables based on a list of zones over a day....\n"
     ]
    },
    {
     "name": "stderr",
     "output_type": "stream",
     "text": [
      "C:\\Users\\camil\\Desktop\\animals_code\\PhD-AnimalWelfare\\UTILS.py:2762: RuntimeWarning: divide by zero encountered in log\n",
      "  return -np.log(A/B)\n",
      "C:\\Users\\camil\\Desktop\\animals_code\\PhD-AnimalWelfare\\UTILS.py:2762: RuntimeWarning: invalid value encountered in long_scalars\n",
      "  return -np.log(A/B)\n"
     ]
    },
    {
     "name": "stdout",
     "output_type": "stream",
     "text": [
      "----------------NESTBOX\n"
     ]
    },
    {
     "name": "stderr",
     "output_type": "stream",
     "text": [
      "\n",
      "  0%|                                                                                           | 0/28 [00:00<?, ?it/s]\u001b[A\n",
      "  4%|██▉                                                                                | 1/28 [00:00<00:11,  2.29it/s]\u001b[A\n",
      "  7%|█████▉                                                                             | 2/28 [00:00<00:09,  2.82it/s]\u001b[A\n",
      " 11%|████████▉                                                                          | 3/28 [00:01<00:11,  2.12it/s]\u001b[A\n",
      " 18%|██████████████▊                                                                    | 5/28 [00:01<00:08,  2.78it/s]\u001b[A\n",
      " 25%|████████████████████▊                                                              | 7/28 [00:01<00:06,  3.17it/s]\u001b[A\n",
      " 29%|███████████████████████▋                                                           | 8/28 [00:02<00:07,  2.61it/s]\u001b[A\n",
      " 32%|██████████████████████████▋                                                        | 9/28 [00:03<00:08,  2.33it/s]\u001b[A\n",
      " 36%|█████████████████████████████▎                                                    | 10/28 [00:03<00:07,  2.40it/s]\u001b[A\n",
      " 39%|████████████████████████████████▏                                                 | 11/28 [00:03<00:07,  2.19it/s]\u001b[A\n",
      " 43%|███████████████████████████████████▏                                              | 12/28 [00:04<00:07,  2.08it/s]\u001b[A\n",
      " 46%|██████████████████████████████████████                                            | 13/28 [00:04<00:06,  2.21it/s]\u001b[A\n",
      " 50%|█████████████████████████████████████████                                         | 14/28 [00:05<00:05,  2.36it/s]\u001b[A\n",
      " 57%|██████████████████████████████████████████████▊                                   | 16/28 [00:05<00:03,  3.13it/s]\u001b[A\n",
      " 61%|█████████████████████████████████████████████████▊                                | 17/28 [00:05<00:02,  3.71it/s]\u001b[A\n",
      " 68%|███████████████████████████████████████████████████████▋                          | 19/28 [00:05<00:01,  4.78it/s]\u001b[A\n",
      " 71%|██████████████████████████████████████████████████████████▌                       | 20/28 [00:05<00:01,  4.26it/s]\u001b[A\n",
      " 75%|█████████████████████████████████████████████████████████████▌                    | 21/28 [00:06<00:02,  3.32it/s]\u001b[A\n",
      " 79%|████████████████████████████████████████████████████████████████▍                 | 22/28 [00:06<00:01,  3.27it/s]\u001b[A\n",
      " 82%|███████████████████████████████████████████████████████████████████▎              | 23/28 [00:07<00:01,  3.07it/s]\u001b[A\n",
      " 86%|██████████████████████████████████████████████████████████████████████▎           | 24/28 [00:07<00:01,  2.68it/s]\u001b[A\n",
      " 89%|█████████████████████████████████████████████████████████████████████████▏        | 25/28 [00:08<00:01,  2.42it/s]\u001b[A\n",
      " 93%|████████████████████████████████████████████████████████████████████████████▏     | 26/28 [00:08<00:00,  2.69it/s]\u001b[A\n",
      "100%|██████████████████████████████████████████████████████████████████████████████████| 28/28 [00:08<00:00,  3.15it/s]\u001b[A\n",
      "C:\\Users\\camil\\anaconda3\\lib\\site-packages\\numpy\\lib\\nanfunctions.py:1366: RuntimeWarning: Mean of empty slice\n",
      "  return np.nanmean(a, axis, out=out, keepdims=keepdims)\n"
     ]
    },
    {
     "name": "stdout",
     "output_type": "stream",
     "text": [
      "------------ add hen basics info\n",
      "From the focalBirdinfo, you have 155 ative tags\n",
      "(7275, 134)\n",
      "(5770, 136)\n",
      "-------------- Lets remove unwanted dates at PENS level\n"
     ]
    },
    {
     "data": {
      "text/html": [
       "<text style=color:black>By removing the unwanted days we passed from 5770 to 5478 timestamp (losing </text> <text style=color:red>292</text> <text style=color:black> timestamp)</text>"
      ],
      "text/plain": [
       "<IPython.core.display.HTML object>"
      ]
     },
     "metadata": {},
     "output_type": "display_data"
    },
    {
     "name": "stdout",
     "output_type": "stream",
     "text": [
      "All the night variables are:  Index(['HenID', 'night_level', 'night_Max_duration_zones',\n",
      "       'night_distribution_entropy', 'night_Total_number_transition',\n",
      "       'is_mvt_night', 'nbr_transition_at_h0', 'nbr_transition_at_h1',\n",
      "       'nbr_transition_at_h2', 'nbr_transition_at_h3', 'nbr_transition_at_h4',\n",
      "       'nbr_transition_at_h5', 'nbr_transition_at_h6', 'nbr_transition_at_h7',\n",
      "       'nbr_transition_at_h8', 'nbr_transition_at_h21',\n",
      "       'nbr_transition_at_h22', 'nbr_transition_at_h23',\n",
      "       'nbr_transition_next1hafterlightoff', 'level', 'PenID', 'CLASS',\n",
      "       'R-Pen', 'InitialStartDate', 'early_death', 'Treatment'],\n",
      "      dtype='object')\n",
      "['night_level']\n",
      "-------------- Lets remove dates of tags when they were not giving deviceupdate correctly\n"
     ]
    },
    {
     "data": {
      "text/html": [
       "<text style=color:black>By removing the unwanted days we passed from 7165 to 5349 timestamp (losing </text> <text style=color:red>1816</text> <text style=color:black> timestamp)</text>"
      ],
      "text/plain": [
       "<IPython.core.display.HTML object>"
      ]
     },
     "metadata": {},
     "output_type": "display_data"
    },
    {
     "name": "stdout",
     "output_type": "stream",
     "text": [
      "-------------- Lets remove the 30.09.2020 for the tags that still had no transition from before the light went on \n"
     ]
    },
    {
     "data": {
      "text/html": [
       "<text style=color:black>By removing the unwanted days we passed from 5349 to 5332 timestamp (losing </text> <text style=color:red>17</text> <text style=color:black> timestamp)</text>"
      ],
      "text/plain": [
       "<IPython.core.display.HTML object>"
      ]
     },
     "metadata": {},
     "output_type": "display_data"
    },
    {
     "name": "stdout",
     "output_type": "stream",
     "text": [
      "-------------- Lets remove all (dates,tagid) with not all seconds tracked (e.g. first day an animal is tracked), and no night variable\n"
     ]
    },
    {
     "data": {
      "text/html": [
       "<text style=color:black>By removing the unwanted days we passed from 5332 to 5271 timestamp (losing </text> <text style=color:red>61</text> <text style=color:black> timestamp)</text>"
      ],
      "text/plain": [
       "<IPython.core.display.HTML object>"
      ]
     },
     "metadata": {},
     "output_type": "display_data"
    },
    {
     "name": "stdout",
     "output_type": "stream",
     "text": [
      "-------------- remove days with only the night and not the days variables, as due to flickering we wotn really use night\n"
     ]
    },
    {
     "data": {
      "text/html": [
       "<text style=color:black>By removing the unwanted days we passed from 5271 to 5271 timestamp (losing </text> <text style=color:red>0</text> <text style=color:black> timestamp)</text>"
      ],
      "text/plain": [
       "<IPython.core.display.HTML object>"
      ]
     },
     "metadata": {},
     "output_type": "display_data"
    },
    {
     "name": "stdout",
     "output_type": "stream",
     "text": [
      "-------------- Lets remove all above the last official tracked day\n"
     ]
    },
    {
     "data": {
      "text/html": [
       "<text style=color:black>By removing the unwanted days we passed from 5271 to 5271 timestamp (losing </text> <text style=color:red>0</text> <text style=color:black> timestamp)</text>"
      ],
      "text/plain": [
       "<IPython.core.display.HTML object>"
      ]
     },
     "metadata": {},
     "output_type": "display_data"
    },
    {
     "name": "stdout",
     "output_type": "stream",
     "text": [
      "save\n"
     ]
    },
    {
     "name": "stderr",
     "output_type": "stream",
     "text": [
      "100%|████████████████████████████████████████████████████████████████████████████████| 8/8 [7:22:43<00:00, 3320.45s/it]"
     ]
    },
    {
     "name": "stdout",
     "output_type": "stream",
     "text": [
      "Total running time: 53.46 mn\n",
      "(5271, 158)\n",
      "2020-09-30 00:00:00\n",
      "Total running time: 442.73 mn\n"
     ]
    },
    {
     "name": "stderr",
     "output_type": "stream",
     "text": [
      "\n"
     ]
    }
   ],
   "source": [
    "#open time series per session and compute the variables for each session (car time series make sence at session level), et en \n",
    "#plus des variables tel que running entropy over the whole session ateach last timestamp of each level make sence only at \n",
    "#session level\n",
    "#once to much data, do this per pen!!! with name=pens!!\n",
    "START_TIME = time.perf_counter()\n",
    "for p in tqdm.tqdm(df['PenID'].unique()):\n",
    "    print(p)\n",
    "    #&(df['date']<=dt.datetime(2020,11,10))\n",
    "    df_daily = HenDailyVariable_Origins(df[(df['PenID']==p)], config, name_=p, timestamp_name='Timestamp', \n",
    "                                        has_cons_equal_zone=False, save=True)\n",
    "    print(df_daily.shape)\n",
    "    df_daily.head(3)\n",
    "    print(df_daily['level'].min())\n",
    "END_TIME = time.perf_counter()\n",
    "print (\"Total running time: %.2f mn\" %((END_TIME-START_TIME)/60))  "
   ]
  },
  {
   "cell_type": "code",
   "execution_count": 8,
   "metadata": {
    "scrolled": true
   },
   "outputs": [
    {
     "name": "stderr",
     "output_type": "stream",
     "text": [
      "C:\\Users\\camil\\anaconda3\\lib\\site-packages\\ipykernel\\ipkernel.py:283: DeprecationWarning: `should_run_async` will not call `transform_cell` automatically in the future. Please pass the result to `transformed_cell` argument and any exception that happen during thetransform in `preprocessing_exc_tuple` in IPython 7.17 and above.\n",
      "  and should_run_async(code)\n",
      " 12%|██████████▌                                                                         | 1/8 [00:09<01:03,  9.08s/it]"
     ]
    },
    {
     "name": "stdout",
     "output_type": "stream",
     "text": [
      "(5453, 158)\n"
     ]
    },
    {
     "name": "stderr",
     "output_type": "stream",
     "text": [
      "\r",
      " 25%|█████████████████████                                                               | 2/8 [00:17<00:53,  8.95s/it]"
     ]
    },
    {
     "name": "stdout",
     "output_type": "stream",
     "text": [
      "(5441, 158)\n"
     ]
    },
    {
     "name": "stderr",
     "output_type": "stream",
     "text": [
      "\r",
      " 38%|███████████████████████████████▌                                                    | 3/8 [00:24<00:41,  8.34s/it]"
     ]
    },
    {
     "name": "stdout",
     "output_type": "stream",
     "text": [
      "(5148, 158)\n"
     ]
    },
    {
     "name": "stderr",
     "output_type": "stream",
     "text": [
      "\r",
      " 50%|██████████████████████████████████████████                                          | 4/8 [00:32<00:32,  8.08s/it]"
     ]
    },
    {
     "name": "stdout",
     "output_type": "stream",
     "text": [
      "(5242, 158)\n"
     ]
    },
    {
     "name": "stderr",
     "output_type": "stream",
     "text": [
      "\r",
      " 62%|████████████████████████████████████████████████████▌                               | 5/8 [00:40<00:24,  8.20s/it]"
     ]
    },
    {
     "name": "stdout",
     "output_type": "stream",
     "text": [
      "(5342, 158)\n"
     ]
    },
    {
     "name": "stderr",
     "output_type": "stream",
     "text": [
      "\r",
      " 75%|███████████████████████████████████████████████████████████████                     | 6/8 [00:47<00:15,  7.70s/it]"
     ]
    },
    {
     "name": "stdout",
     "output_type": "stream",
     "text": [
      "(5400, 158)\n"
     ]
    },
    {
     "name": "stderr",
     "output_type": "stream",
     "text": [
      "\r",
      " 88%|█████████████████████████████████████████████████████████████████████████▌          | 7/8 [00:51<00:06,  6.64s/it]"
     ]
    },
    {
     "name": "stdout",
     "output_type": "stream",
     "text": [
      "(5271, 158)\n"
     ]
    },
    {
     "name": "stderr",
     "output_type": "stream",
     "text": [
      "100%|████████████████████████████████████████████████████████████████████████████████████| 8/8 [00:56<00:00,  7.10s/it]"
     ]
    },
    {
     "name": "stdout",
     "output_type": "stream",
     "text": [
      "(5453, 158)\n"
     ]
    },
    {
     "name": "stderr",
     "output_type": "stream",
     "text": [
      "\n"
     ]
    },
    {
     "name": "stdout",
     "output_type": "stream",
     "text": [
      "(42750, 158)\n"
     ]
    },
    {
     "data": {
      "text/html": [
       "<div>\n",
       "<style scoped>\n",
       "    .dataframe tbody tr th:only-of-type {\n",
       "        vertical-align: middle;\n",
       "    }\n",
       "\n",
       "    .dataframe tbody tr th {\n",
       "        vertical-align: top;\n",
       "    }\n",
       "\n",
       "    .dataframe thead th {\n",
       "        text-align: right;\n",
       "    }\n",
       "</style>\n",
       "<table border=\"1\" class=\"dataframe\">\n",
       "  <thead>\n",
       "    <tr style=\"text-align: right;\">\n",
       "      <th></th>\n",
       "      <th>HenID</th>\n",
       "      <th>level</th>\n",
       "      <th>duration_1_Zone</th>\n",
       "      <th>duration_2_Zone</th>\n",
       "      <th>duration_3_Zone</th>\n",
       "      <th>duration_4_Zone</th>\n",
       "      <th>duration_5_Zone</th>\n",
       "      <th>verification_daily_total_duration</th>\n",
       "      <th>verification_daily_total_nbr_hour</th>\n",
       "      <th>dur_values</th>\n",
       "      <th>...</th>\n",
       "      <th>nbr_transition_at_h21</th>\n",
       "      <th>nbr_transition_at_h22</th>\n",
       "      <th>nbr_transition_at_h23</th>\n",
       "      <th>nbr_transition_next1hafterlightoff</th>\n",
       "      <th>nbr_h_per_day</th>\n",
       "      <th>correct_amount_of_hour</th>\n",
       "      <th>DOA</th>\n",
       "      <th>WOA</th>\n",
       "      <th>DIB</th>\n",
       "      <th>WIB</th>\n",
       "    </tr>\n",
       "  </thead>\n",
       "  <tbody>\n",
       "    <tr>\n",
       "      <th>0</th>\n",
       "      <td>hen_130</td>\n",
       "      <td>2020-10-05</td>\n",
       "      <td>NaN</td>\n",
       "      <td>0.0</td>\n",
       "      <td>0.0</td>\n",
       "      <td>0.0</td>\n",
       "      <td>32400.0</td>\n",
       "      <td>32400.0</td>\n",
       "      <td>9.0</td>\n",
       "      <td>[0.0, 0.0, 0.0, 0.0, 32400.0]</td>\n",
       "      <td>...</td>\n",
       "      <td>0.0</td>\n",
       "      <td>0.0</td>\n",
       "      <td>0.0</td>\n",
       "      <td>0.0</td>\n",
       "      <td>9</td>\n",
       "      <td>True</td>\n",
       "      <td>124</td>\n",
       "      <td>18</td>\n",
       "      <td>6</td>\n",
       "      <td>1</td>\n",
       "    </tr>\n",
       "    <tr>\n",
       "      <th>1</th>\n",
       "      <td>hen_130</td>\n",
       "      <td>2020-10-06</td>\n",
       "      <td>NaN</td>\n",
       "      <td>0.0</td>\n",
       "      <td>780.0</td>\n",
       "      <td>325.0</td>\n",
       "      <td>31295.0</td>\n",
       "      <td>32400.0</td>\n",
       "      <td>9.0</td>\n",
       "      <td>[0.0, 0.0, 780.0, 325.0, 31295.0]</td>\n",
       "      <td>...</td>\n",
       "      <td>0.0</td>\n",
       "      <td>0.0</td>\n",
       "      <td>0.0</td>\n",
       "      <td>0.0</td>\n",
       "      <td>9</td>\n",
       "      <td>True</td>\n",
       "      <td>125</td>\n",
       "      <td>18</td>\n",
       "      <td>7</td>\n",
       "      <td>1</td>\n",
       "    </tr>\n",
       "    <tr>\n",
       "      <th>2</th>\n",
       "      <td>hen_130</td>\n",
       "      <td>2020-10-07</td>\n",
       "      <td>NaN</td>\n",
       "      <td>206.0</td>\n",
       "      <td>249.0</td>\n",
       "      <td>130.0</td>\n",
       "      <td>31815.0</td>\n",
       "      <td>32400.0</td>\n",
       "      <td>9.0</td>\n",
       "      <td>[0.0, 206.0, 249.0, 130.0, 31815.0]</td>\n",
       "      <td>...</td>\n",
       "      <td>0.0</td>\n",
       "      <td>0.0</td>\n",
       "      <td>0.0</td>\n",
       "      <td>0.0</td>\n",
       "      <td>9</td>\n",
       "      <td>True</td>\n",
       "      <td>126</td>\n",
       "      <td>18</td>\n",
       "      <td>8</td>\n",
       "      <td>2</td>\n",
       "    </tr>\n",
       "  </tbody>\n",
       "</table>\n",
       "<p>3 rows × 158 columns</p>\n",
       "</div>"
      ],
      "text/plain": [
       "     HenID      level  duration_1_Zone  duration_2_Zone  duration_3_Zone  \\\n",
       "0  hen_130 2020-10-05              NaN              0.0              0.0   \n",
       "1  hen_130 2020-10-06              NaN              0.0            780.0   \n",
       "2  hen_130 2020-10-07              NaN            206.0            249.0   \n",
       "\n",
       "   duration_4_Zone  duration_5_Zone  verification_daily_total_duration  \\\n",
       "0              0.0          32400.0                            32400.0   \n",
       "1            325.0          31295.0                            32400.0   \n",
       "2            130.0          31815.0                            32400.0   \n",
       "\n",
       "   verification_daily_total_nbr_hour                           dur_values  \\\n",
       "0                                9.0        [0.0, 0.0, 0.0, 0.0, 32400.0]   \n",
       "1                                9.0    [0.0, 0.0, 780.0, 325.0, 31295.0]   \n",
       "2                                9.0  [0.0, 206.0, 249.0, 130.0, 31815.0]   \n",
       "\n",
       "   ... nbr_transition_at_h21  nbr_transition_at_h22  nbr_transition_at_h23  \\\n",
       "0  ...                   0.0                    0.0                    0.0   \n",
       "1  ...                   0.0                    0.0                    0.0   \n",
       "2  ...                   0.0                    0.0                    0.0   \n",
       "\n",
       "   nbr_transition_next1hafterlightoff  nbr_h_per_day  correct_amount_of_hour  \\\n",
       "0                                 0.0              9                    True   \n",
       "1                                 0.0              9                    True   \n",
       "2                                 0.0              9                    True   \n",
       "\n",
       "   DOA  WOA DIB WIB  \n",
       "0  124   18   6   1  \n",
       "1  125   18   7   1  \n",
       "2  126   18   8   2  \n",
       "\n",
       "[3 rows x 158 columns]"
      ]
     },
     "execution_count": 8,
     "metadata": {},
     "output_type": "execute_result"
    }
   ],
   "source": [
    "#Concatenate all HenVariables csv into one\n",
    "li_paths_var = glob.glob(os.path.join(path_extracted_data, id_run+'_daily__pen'+'*_variables.csv'))\n",
    "li_df = []\n",
    "if len(li_paths_var)!=8:\n",
    "    print('ERROR: not the correct number of files, there must have one per pen')\n",
    "    sys.exit()\n",
    "for path_var in tqdm.tqdm(li_paths_var):\n",
    "    #for being more reproductible, we open the file that was saved from cleaning\n",
    "    df_ = pd.read_csv(path_var, sep=';',parse_dates=['level', 'FirstTimestamp_1_Zone', 'FirstTimestamp_2_Zone', \n",
    "                                                     'FirstTimestamp_3_Zone','FirstTimestamp_4_Zone',\n",
    "                                                     'FirstTimestamp_5_Zone']) \n",
    "    print(df_.shape)\n",
    "    li_df.append(df_)\n",
    "df_daily = pd.concat(li_df)\n",
    "df_daily.to_csv(os.path.join(path_extracted_data, id_run+'_daily_ALL_variables.csv'), sep=';', index=False)\n",
    "print(df_daily.shape)\n",
    "df_daily.head(3)"
   ]
  },
  {
   "cell_type": "code",
   "execution_count": 9,
   "metadata": {},
   "outputs": [
    {
     "name": "stderr",
     "output_type": "stream",
     "text": [
      "C:\\Users\\camil\\anaconda3\\lib\\site-packages\\ipykernel\\ipkernel.py:283: DeprecationWarning: `should_run_async` will not call `transform_cell` automatically in the future. Please pass the result to `transformed_cell` argument and any exception that happen during thetransform in `preprocessing_exc_tuple` in IPython 7.17 and above.\n",
      "  and should_run_async(code)\n"
     ]
    },
    {
     "data": {
      "text/plain": [
       "['HenID',\n",
       " 'level',\n",
       " 'duration_1_Zone',\n",
       " 'duration_2_Zone',\n",
       " 'duration_3_Zone',\n",
       " 'duration_4_Zone',\n",
       " 'duration_5_Zone',\n",
       " 'verification_daily_total_duration',\n",
       " 'verification_daily_total_nbr_hour',\n",
       " 'dur_values',\n",
       " 'dur_values_normalized',\n",
       " 'perc_duration_3_Zone',\n",
       " 'perc_duration_4_Zone',\n",
       " 'perc_duration_5_Zone',\n",
       " 'perc_duration_2_Zone',\n",
       " 'perc_duration_1_Zone',\n",
       " 'time_wg_open_sec',\n",
       " 'perc_1_Zone_while_WG_open',\n",
       " 'FirstTimestamp_1_Zone',\n",
       " 'FirstTimestamp_2_Zone',\n",
       " 'FirstTimestamp_3_Zone',\n",
       " 'FirstTimestamp_4_Zone',\n",
       " 'FirstTimestamp_5_Zone',\n",
       " 'latency_3_Zone_h',\n",
       " 'latency_4_Zone_h',\n",
       " 'latency_5_Zone_h',\n",
       " 'latency_2_Zone_h',\n",
       " 'latency_1_Zone_h',\n",
       " 'Total_number_zone',\n",
       " 'list_of_durations',\n",
       " 'list_of_zones',\n",
       " 'Max_duration_zones',\n",
       " 'dico_zone_sortedduration',\n",
       " 'Total_number_transition',\n",
       " 'distribution_entropy',\n",
       " 'vertical_travel_distance',\n",
       " 't_DU_missingZone_mvtPerc',\n",
       " 'li_event_chaoticmvt_z_d',\n",
       " 'SampleEntropy',\n",
       " 'nbr_stays_total',\n",
       " 'nbr_stays_3_Zone',\n",
       " 'perc_nbr_stays_3_Zone',\n",
       " 'nbr_appearances_3_Zone',\n",
       " 'empproba_3_Zone',\n",
       " 'nbr_stays_4_Zone',\n",
       " 'perc_nbr_stays_4_Zone',\n",
       " 'nbr_appearances_4_Zone',\n",
       " 'empproba_4_Zone',\n",
       " 'nbr_stays_5_Zone',\n",
       " 'perc_nbr_stays_5_Zone',\n",
       " 'nbr_appearances_5_Zone',\n",
       " 'empproba_5_Zone',\n",
       " 'nbr_stays_2_Zone',\n",
       " 'perc_nbr_stays_2_Zone',\n",
       " 'nbr_appearances_2_Zone',\n",
       " 'empproba_2_Zone',\n",
       " 'nbr_stays_1_Zone',\n",
       " 'perc_nbr_stays_1_Zone',\n",
       " 'nbr_appearances_1_Zone',\n",
       " 'empproba_1_Zone',\n",
       " 'Max_duration_zone_4',\n",
       " 'down_missingZone_mvtPerc',\n",
       " 'up_missingZone_mvtPerc',\n",
       " 'mean_duration',\n",
       " 'median_duration',\n",
       " 'max_duration',\n",
       " 'min_duration',\n",
       " 'variance_duration',\n",
       " 'percentile_5',\n",
       " 'percentile_15_duration',\n",
       " 'percentile_85_duration',\n",
       " 'percentile_95_duration',\n",
       " 'median_abs_deviation_duration',\n",
       " 'kurtosis_duration',\n",
       " 'skew_duration',\n",
       " 'stay_longer_60sec',\n",
       " 'stay_longer_60sec_3_Zone',\n",
       " 'stay_longer_60sec_4_Zone',\n",
       " 'stay_longer_60sec_5_Zone',\n",
       " 'stay_longer_60sec_2_Zone',\n",
       " 'stay_longer_60sec_1_Zone',\n",
       " 'dico_z_chaoticmvtMiddleDuration',\n",
       " '0',\n",
       " 'chaoticmvt_Middle1_Zone',\n",
       " 'chaoticmvt_Middle2_Zone',\n",
       " 'chaoticmvt_Middle3_Zone',\n",
       " 'chaoticmvt_Middle4_Zone',\n",
       " 'chaoticmvt_Middle5_Zone',\n",
       " 'chaoticmvt_Middle1_Zone_nbr_180mn',\n",
       " 'chaoticmvt_Middle2_Zone_nbr_180mn',\n",
       " 'chaoticmvt_Middle3_Zone_nbr_180mn',\n",
       " 'chaoticmvt_Middle4_Zone_nbr_180mn',\n",
       " 'chaoticmvt_Middle5_Zone_nbr_180mn',\n",
       " 'ratio_percdur_percstays_3_Zone',\n",
       " 'ratio_percdur_percstays_4_Zone',\n",
       " 'ratio_percdur_percstays_5_Zone',\n",
       " 'ratio_percdur_percstays_2_Zone',\n",
       " 'ratio_percdur_percstays_1_Zone',\n",
       " '1_Zone_tuple_ts_dur',\n",
       " '2_Zone_tuple_ts_dur',\n",
       " '3_Zone_tuple_ts_dur',\n",
       " '4_Zone_tuple_ts_dur',\n",
       " '5_Zone_tuple_ts_dur',\n",
       " 'Nestbox_time_of_first_staid_longer_than900sec',\n",
       " 'latency_since15mnnestbox_h',\n",
       " 'sucessIntrusion_9',\n",
       " 'BNestboxHour_nbrd',\n",
       " 'B10h_Nestbox_nbrvisit',\n",
       " 'B10h_Nestbox_Longestduration',\n",
       " 'ANestboxHour_nbrd',\n",
       " 'A12h_Nestbox_nbrvisit',\n",
       " 'A12h_Nestbox_Longestduration',\n",
       " 'NBtimefirstvisitlonger900_minus_time1visit',\n",
       " 'list_timestamps',\n",
       " 'list_timestamps_seondsOfTheDay',\n",
       " 'activity_25percentile_h',\n",
       " 'activity_25percentile_time',\n",
       " 'activity_50percentile_h',\n",
       " 'activity_50percentile_time',\n",
       " 'activity_5percentile_h',\n",
       " 'activity_5percentile_time',\n",
       " 'activity_95percentile_h',\n",
       " 'activity_95percentile_time',\n",
       " 'duration_last-firsttransition_mn',\n",
       " 'in_WG_15mnAfterOpening',\n",
       " 'Max_duration_WG_h',\n",
       " 'PenID',\n",
       " 'CLASS',\n",
       " 'R-Pen',\n",
       " 'InitialStartDate',\n",
       " 'early_death',\n",
       " 'Treatment',\n",
       " 'TagID',\n",
       " 'FocalLegringName',\n",
       " 'night_level',\n",
       " 'night_Max_duration_zones',\n",
       " 'night_distribution_entropy',\n",
       " 'night_Total_number_transition',\n",
       " 'is_mvt_night',\n",
       " 'nbr_transition_at_h0',\n",
       " 'nbr_transition_at_h1',\n",
       " 'nbr_transition_at_h2',\n",
       " 'nbr_transition_at_h3',\n",
       " 'nbr_transition_at_h4',\n",
       " 'nbr_transition_at_h5',\n",
       " 'nbr_transition_at_h6',\n",
       " 'nbr_transition_at_h7',\n",
       " 'nbr_transition_at_h8',\n",
       " 'nbr_transition_at_h21',\n",
       " 'nbr_transition_at_h22',\n",
       " 'nbr_transition_at_h23',\n",
       " 'nbr_transition_next1hafterlightoff',\n",
       " 'nbr_h_per_day',\n",
       " 'correct_amount_of_hour',\n",
       " 'DOA',\n",
       " 'WOA',\n",
       " 'DIB',\n",
       " 'WIB']"
      ]
     },
     "metadata": {},
     "output_type": "display_data"
    }
   ],
   "source": [
    "display(list(df_daily.columns))"
   ]
  },
  {
   "cell_type": "code",
   "execution_count": 10,
   "metadata": {},
   "outputs": [
    {
     "name": "stderr",
     "output_type": "stream",
     "text": [
      "C:\\Users\\camil\\anaconda3\\lib\\site-packages\\ipykernel\\ipkernel.py:283: DeprecationWarning: `should_run_async` will not call `transform_cell` automatically in the future. Please pass the result to `transformed_cell` argument and any exception that happen during thetransform in `preprocessing_exc_tuple` in IPython 7.17 and above.\n",
      "  and should_run_async(code)\n"
     ]
    },
    {
     "data": {
      "text/plain": [
       "Timestamp('2020-09-30 00:00:00')"
      ]
     },
     "execution_count": 10,
     "metadata": {},
     "output_type": "execute_result"
    }
   ],
   "source": [
    "df_daily['level'].min()"
   ]
  },
  {
   "cell_type": "markdown",
   "metadata": {},
   "source": [
    "# Chi2distance"
   ]
  },
  {
   "cell_type": "markdown",
   "metadata": {},
   "source": [
    "#computed here as its a variable and not a visual computed out of variable\n",
    "#compute for every level a symmetric chi2distance heatmap\n",
    "if compute_chi2_distance:   \n",
    "\n",
    "    #sort by lowest entropy (i.e. need less info to predict futur. more predictibale should induce more similarities \n",
    "    #(as less different solution)), to potentialy make a nicer visual\n",
    "    df_ = df_daily.groupby(['HenID'])['distribution_entropy'].agg(lambda x:np.mean(x)).reset_index().sort_values(['distribution_entropy'])\n",
    "    li = df_['HenID'].tolist()\n",
    "    axis_label = [i.split('_')[1] for i in li]\n",
    "    #create path to save visual if not existing\n",
    "    path_ = os.path.join(path_extracted_data,'visual','chi2distance')\n",
    "    #create a director if not existing\n",
    "    if not os.path.exists(path_):\n",
    "        os.makedirs(path_)\n",
    "\n",
    "    print('----------------- Compute Chi2 distance....')\n",
    "    for d in li_date:\n",
    "        M = np.zeros(shape=(len(li),len(li)))\n",
    "        for i, h1 in enumerate(li[:-1]):\n",
    "            for j in range(i+1,len(li)):\n",
    "                h2 = li[j]\n",
    "                li_hen_in = df_daily[df_daily['level']==d]['HenID'].unique()\n",
    "                #if both hen have at least one record this day (typically not always all hen have values the first day of session)\n",
    "                if (h1 in li_hen_in) & (h2 in li_hen_in):\n",
    "                    l1 = df_daily[(df_daily['HenID']==h1)&(df_daily['level']==d)]['dur_values_normalized'].values[0]\n",
    "                    l2 = df_daily[(df_daily['HenID']==h2)&(df_daily['level']==d)]['dur_values_normalized'].values[0]\n",
    "                    chi2 = chi2_distance(l1,l2)\n",
    "                    M[i][j] = chi2\n",
    "                    M[j][i] = chi2\n",
    "        #clear old plot\n",
    "        plt.figure()\n",
    "        sns.set(font_scale=0.25) \n",
    "        sns.heatmap(M, cmap=\"YlGnBu\", xticklabels=axis_label, yticklabels=axis_label)\n",
    "        plt.title(d)\n",
    "        if save:\n",
    "            plt.savefig(os.path.join(path_,id_run+'_chi2distance_'+str(d).split('T')[0]+'_daily_'+'.png'), dpi=300,\n",
    "                        format='png',bbox_inches='tight')\n",
    "        #plt.show() \n",
    "        plt.close()\n",
    "\n"
   ]
  },
  {
   "cell_type": "raw",
   "metadata": {},
   "source": [
    "TODO NEXT STEPS\n",
    "duration_1_Zone / verification_daily_total_duration --> proportion_time_1_Zone\n",
    "nbr_stays_2_Zone:nbr bouts?\n",
    "skweness : verify if ift make sense, what is the avg of obs taken into avvount?\n",
    "image analysis\n",
    "tf-idf"
   ]
  },
  {
   "cell_type": "code",
   "execution_count": null,
   "metadata": {},
   "outputs": [],
   "source": []
  },
  {
   "cell_type": "code",
   "execution_count": null,
   "metadata": {},
   "outputs": [],
   "source": []
  },
  {
   "cell_type": "code",
   "execution_count": null,
   "metadata": {},
   "outputs": [],
   "source": []
  },
  {
   "cell_type": "code",
   "execution_count": null,
   "metadata": {},
   "outputs": [],
   "source": []
  },
  {
   "cell_type": "code",
   "execution_count": null,
   "metadata": {},
   "outputs": [],
   "source": []
  },
  {
   "cell_type": "code",
   "execution_count": null,
   "metadata": {},
   "outputs": [],
   "source": []
  },
  {
   "cell_type": "code",
   "execution_count": null,
   "metadata": {},
   "outputs": [],
   "source": []
  },
  {
   "cell_type": "code",
   "execution_count": null,
   "metadata": {},
   "outputs": [],
   "source": []
  }
 ],
 "metadata": {
  "kernelspec": {
   "display_name": "Python 3",
   "language": "python",
   "name": "python3"
  },
  "language_info": {
   "codemirror_mode": {
    "name": "ipython",
    "version": 3
   },
   "file_extension": ".py",
   "mimetype": "text/x-python",
   "name": "python",
   "nbconvert_exporter": "python",
   "pygments_lexer": "ipython3",
   "version": "3.8.5"
  }
 },
 "nbformat": 4,
 "nbformat_minor": 2
}
