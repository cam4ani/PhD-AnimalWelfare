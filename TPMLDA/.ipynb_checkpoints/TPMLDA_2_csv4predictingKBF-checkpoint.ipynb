{
 "cells": [
  {
   "cell_type": "code",
   "execution_count": 1,
   "metadata": {},
   "outputs": [
    {
     "name": "stderr",
     "output_type": "stream",
     "text": [
      "c:\\users\\camil\\anaconda3\\lib\\site-packages\\statsmodels\\compat\\pandas.py:56: FutureWarning: The pandas.core.datetools module is deprecated and will be removed in a future version. Please use the pandas.tseries module instead.\n",
      "  from pandas.core import datetools\n"
     ]
    }
   ],
   "source": [
    "#basic package\n",
    "import json\n",
    "import tqdm\n",
    "import os\n",
    "import numpy as np\n",
    "import glob\n",
    "import pandas as pd\n",
    "import sys\n",
    "import shutil\n",
    "import time\n",
    "import datetime as dt\n",
    "import itertools\n",
    "import time\n",
    "import re\n",
    "from collections import Counter\n",
    "from collections import defaultdict\n",
    "import operator\n",
    "import math\n",
    "from scipy import stats\n",
    "import pickle\n",
    "from collections import Counter\n",
    "\n",
    "from scipy.stats import kurtosis, skew, spearmanr, pearsonr\n",
    "\n",
    "\n",
    "#modelling\n",
    "import statsmodels\n",
    "import statsmodels.api as sm\n",
    "import statsmodels.formula.api as smf\n",
    "\n",
    "#plot\n",
    "import matplotlib\n",
    "import matplotlib.pyplot as plt\n",
    "from statsmodels.graphics.tsaplots import plot_acf, plot_pacf, acf, pacf\n",
    "\n",
    "from matplotlib.collections import LineCollection\n",
    "from matplotlib.colors import BoundaryNorm\n",
    "import seaborn as sns"
   ]
  },
  {
   "cell_type": "code",
   "execution_count": 2,
   "metadata": {},
   "outputs": [
    {
     "name": "stderr",
     "output_type": "stream",
     "text": [
      "c:\\users\\camil\\anaconda3\\lib\\site-packages\\_pytest\\fixtures.py:844: DeprecationWarning: The `convert` argument is deprecated in favor of `converter`.  It will be removed after 2019/01.\n",
      "  params = attr.ib(convert=attr.converters.optional(tuple))\n",
      "c:\\users\\camil\\anaconda3\\lib\\site-packages\\_pytest\\fixtures.py:846: DeprecationWarning: The `convert` argument is deprecated in favor of `converter`.  It will be removed after 2019/01.\n",
      "  ids = attr.ib(default=None, convert=_ensure_immutable_ids)\n",
      "c:\\users\\camil\\anaconda3\\lib\\site-packages\\scipy\\sparse\\sparsetools.py:21: DeprecationWarning: `scipy.sparse.sparsetools` is deprecated!\n",
      "scipy.sparse.sparsetools is a private module for scipy.sparse, and should not be used.\n",
      "  _deprecated()\n"
     ]
    },
    {
     "name": "stdout",
     "output_type": "stream",
     "text": [
      "we restrict the time series to one value per 60 seconds \n",
      "we compute the complexity variables each 30 minutes \n",
      "each variables includes the values of at least the last 120.00 minutes (i.e. are using 120.00 values)\n"
     ]
    }
   ],
   "source": [
    "from UTILS import perc_element_dico\n",
    "import config_mobility as config"
   ]
  },
  {
   "cell_type": "code",
   "execution_count": 3,
   "metadata": {},
   "outputs": [],
   "source": [
    "#comment on this run of the script\n",
    "comment = ''\n",
    "\n",
    "### choose hybrid type\n",
    "type_hybrid = 'LB' #LSL, all, LB\n",
    "\n",
    "### choose type of word definition\n",
    "type_ = 'fixedLength' ; length_words = 3 ; comment = comment+'lengthwords_'+str(length_words)\n",
    "#type_ = 'varyinglength' ; morethan4_in1 = True ; comment = comment+'morethan4in1_'+str(int(morethan4_in1))\n",
    "\n",
    "### choose session to take into account\n",
    "li_sess = [[1,2,3],[2,3,4],[3,4,5],[4,5,6],[5,6,7],[6,7,8],[7,8,9],[8,9,10],[9,10,11]]\n",
    "li_sess = [[1,2,3,4],[2,3,4,5],[3,4,5,6],[4,5,6,7],[5,6,7,8],[6,7,8,9],[7,8,9,10],[8,9,10,11]]"
   ]
  },
  {
   "cell_type": "code",
   "execution_count": 4,
   "metadata": {},
   "outputs": [],
   "source": [
    "path_extracted_data = config.path_extracted_data\n",
    "path_initial_data = config.path_initial_data\n",
    "id_run = config.id_run"
   ]
  },
  {
   "cell_type": "markdown",
   "metadata": {},
   "source": [
    "## Data at KBF level"
   ]
  },
  {
   "cell_type": "code",
   "execution_count": 5,
   "metadata": {},
   "outputs": [
    {
     "name": "stdout",
     "output_type": "stream",
     "text": [
      "(7920, 43)\n"
     ]
    },
    {
     "data": {
      "text/html": [
       "<div>\n",
       "<style scoped>\n",
       "    .dataframe tbody tr th:only-of-type {\n",
       "        vertical-align: middle;\n",
       "    }\n",
       "\n",
       "    .dataframe tbody tr th {\n",
       "        vertical-align: top;\n",
       "    }\n",
       "\n",
       "    .dataframe thead th {\n",
       "        text-align: right;\n",
       "    }\n",
       "</style>\n",
       "<table border=\"1\" class=\"dataframe\">\n",
       "  <thead>\n",
       "    <tr style=\"text-align: right;\">\n",
       "      <th></th>\n",
       "      <th>HenID</th>\n",
       "      <th>timepoint</th>\n",
       "      <th>group</th>\n",
       "      <th>age</th>\n",
       "      <th>DayID</th>\n",
       "      <th>day</th>\n",
       "      <th>file</th>\n",
       "      <th>severity</th>\n",
       "      <th>pen</th>\n",
       "      <th>hybrid</th>\n",
       "      <th>...</th>\n",
       "      <th>meanchange</th>\n",
       "      <th>mean1</th>\n",
       "      <th>medianchange</th>\n",
       "      <th>transitions</th>\n",
       "      <th>real0</th>\n",
       "      <th>sumdur</th>\n",
       "      <th>nest_vs_total</th>\n",
       "      <th>severity_diff</th>\n",
       "      <th>KBF_new</th>\n",
       "      <th>indicator</th>\n",
       "    </tr>\n",
       "  </thead>\n",
       "  <tbody>\n",
       "    <tr>\n",
       "      <th>0</th>\n",
       "      <td>hen_1</td>\n",
       "      <td>1</td>\n",
       "      <td>A</td>\n",
       "      <td>21</td>\n",
       "      <td>1</td>\n",
       "      <td>2016-10-27</td>\n",
       "      <td>1A01</td>\n",
       "      <td>0.0</td>\n",
       "      <td>1</td>\n",
       "      <td>LSL</td>\n",
       "      <td>...</td>\n",
       "      <td>1.23</td>\n",
       "      <td>1.0</td>\n",
       "      <td>1.0</td>\n",
       "      <td>91.0</td>\n",
       "      <td>NaN</td>\n",
       "      <td>57067.0</td>\n",
       "      <td>0.177419</td>\n",
       "      <td>NaN</td>\n",
       "      <td>0.0</td>\n",
       "      <td>NaN</td>\n",
       "    </tr>\n",
       "    <tr>\n",
       "      <th>1</th>\n",
       "      <td>hen_1</td>\n",
       "      <td>1</td>\n",
       "      <td>A</td>\n",
       "      <td>21</td>\n",
       "      <td>2</td>\n",
       "      <td>2016-10-28</td>\n",
       "      <td>1A01</td>\n",
       "      <td>0.0</td>\n",
       "      <td>1</td>\n",
       "      <td>LSL</td>\n",
       "      <td>...</td>\n",
       "      <td>1.28</td>\n",
       "      <td>1.0</td>\n",
       "      <td>1.0</td>\n",
       "      <td>108.0</td>\n",
       "      <td>NaN</td>\n",
       "      <td>56854.0</td>\n",
       "      <td>0.171053</td>\n",
       "      <td>0.0</td>\n",
       "      <td>0.0</td>\n",
       "      <td>NaN</td>\n",
       "    </tr>\n",
       "    <tr>\n",
       "      <th>2</th>\n",
       "      <td>hen_1</td>\n",
       "      <td>1</td>\n",
       "      <td>A</td>\n",
       "      <td>21</td>\n",
       "      <td>3</td>\n",
       "      <td>2016-10-29</td>\n",
       "      <td>1A01</td>\n",
       "      <td>0.0</td>\n",
       "      <td>1</td>\n",
       "      <td>LSL</td>\n",
       "      <td>...</td>\n",
       "      <td>1.17</td>\n",
       "      <td>1.0</td>\n",
       "      <td>1.0</td>\n",
       "      <td>128.0</td>\n",
       "      <td>NaN</td>\n",
       "      <td>56721.0</td>\n",
       "      <td>0.255319</td>\n",
       "      <td>0.0</td>\n",
       "      <td>0.0</td>\n",
       "      <td>NaN</td>\n",
       "    </tr>\n",
       "  </tbody>\n",
       "</table>\n",
       "<p>3 rows × 43 columns</p>\n",
       "</div>"
      ],
      "text/plain": [
       "   HenID  timepoint group  age DayID        day  file  severity  pen hybrid  \\\n",
       "0  hen_1          1     A   21     1 2016-10-27  1A01       0.0    1    LSL   \n",
       "1  hen_1          1     A   21     2 2016-10-28  1A01       0.0    1    LSL   \n",
       "2  hen_1          1     A   21     3 2016-10-29  1A01       0.0    1    LSL   \n",
       "\n",
       "     ...      meanchange  mean1  medianchange  transitions  real0   sumdur  \\\n",
       "0    ...            1.23    1.0           1.0         91.0    NaN  57067.0   \n",
       "1    ...            1.28    1.0           1.0        108.0    NaN  56854.0   \n",
       "2    ...            1.17    1.0           1.0        128.0    NaN  56721.0   \n",
       "\n",
       "   nest_vs_total  severity_diff  KBF_new  indicator  \n",
       "0       0.177419            NaN      0.0        NaN  \n",
       "1       0.171053            0.0      0.0        NaN  \n",
       "2       0.255319            0.0      0.0        NaN  \n",
       "\n",
       "[3 rows x 43 columns]"
      ]
     },
     "execution_count": 5,
     "metadata": {},
     "output_type": "execute_result"
    }
   ],
   "source": [
    "df_master = pd.read_csv(os.path.join(path_initial_data,'Mo_Masterfile.csv'), sep=';', parse_dates=['day']) #, parse_dates=['date']) wrong!\n",
    "df_master.rename(columns={'time':'Timestamp','day':'DayID','hen':'HenID','date':'day'}, inplace=True)\n",
    "#dico or join by hen (not day as some are nan but we actually know then)\n",
    "df_master['day'] = df_master['day'].map(lambda x: dt.datetime.strptime(x, \"%d.%m.%Y\"))\n",
    "df_master['HenID'] = df_master['HenID'].map(str)\n",
    "dico_hen_group = dict(zip(df_master['HenID'].tolist(), df_master['group'].tolist()))\n",
    "df_master['HenID'] = df_master['HenID'].map(lambda x: 'hen_'+str(x))\n",
    "#df_master.filter(['HenID','group'])\n",
    "print(df_master.shape)\n",
    "df_master.head(3)"
   ]
  },
  {
   "cell_type": "code",
   "execution_count": 8,
   "metadata": {},
   "outputs": [
    {
     "data": {
      "text/plain": [
       "0.0    373\n",
       "1.0    332\n",
       "Name: gap, dtype: int64"
      ]
     },
     "metadata": {},
     "output_type": "display_data"
    },
    {
     "name": "stderr",
     "output_type": "stream",
     "text": [
      "c:\\users\\camil\\anaconda3\\lib\\site-packages\\statsmodels\\nonparametric\\kde.py:475: DeprecationWarning: object of type <class 'numpy.float64'> cannot be safely interpreted as an integer.\n",
      "  grid,delta = np.linspace(a,b,gridsize,retstep=True)\n",
      "c:\\users\\camil\\anaconda3\\lib\\site-packages\\statsmodels\\nonparametric\\kde.py:475: DeprecationWarning: object of type <class 'numpy.float64'> cannot be safely interpreted as an integer.\n",
      "  grid,delta = np.linspace(a,b,gridsize,retstep=True)\n"
     ]
    },
    {
     "data": {
      "image/png": "[encoded data removed]",
      "text/plain": [
       "<Figure size 432x288 with 1 Axes>"
      ]
     },
     "metadata": {
      "needs_background": "light"
     },
     "output_type": "display_data"
    }
   ],
   "source": [
    "#gap variable\n",
    "df_ = df_master[['gap','severity','timepoint']].drop_duplicates(subset=None, keep='first', inplace=False)\n",
    "display(df_['gap'].value_counts())\n",
    "df_[df_['gap']==0]['severity']\n",
    "sns.distplot( df_[df_['gap']==0]['severity'], color=\"green\", label=\"gap 0\")\n",
    "sns.distplot( df_[df_['gap']==1]['severity'], color=\"red\", label=\"gap 1\")\n",
    "plt.legend();\n",
    "plt.title('severity histogram per gap')\n",
    "plt.savefig(os.path.join(path_extracted_data, 'visual', 'severity histogram per gap.png'),dpi=300,bbox_inches='tight')\n",
    "plt.show()"
   ]
  },
  {
   "cell_type": "code",
   "execution_count": 9,
   "metadata": {},
   "outputs": [],
   "source": [
    "#create dico to match each day to the session and number of days of the session\n",
    "df_ = df_master.groupby('timepoint')['day'].agg(lambda x: sorted(set(x))).reset_index()\n",
    "dico_day_sessiontpt = {}\n",
    "for tpt in df_master['timepoint'].unique():\n",
    "    li_d = df_[df_['timepoint']==tpt]['day'].values[0]\n",
    "    for i,d in enumerate(li_d):\n",
    "        dico_day_sessiontpt[d] = 'sess_'+str(tpt)+'_day'+str(i%6) #modulo 6 to take into account groups A and B\n",
    "#dico_day_sessiontpt"
   ]
  },
  {
   "cell_type": "code",
   "execution_count": 10,
   "metadata": {},
   "outputs": [
    {
     "name": "stdout",
     "output_type": "stream",
     "text": [
      "(1320, 5)\n"
     ]
    },
    {
     "data": {
      "text/html": [
       "<div>\n",
       "<style scoped>\n",
       "    .dataframe tbody tr th:only-of-type {\n",
       "        vertical-align: middle;\n",
       "    }\n",
       "\n",
       "    .dataframe tbody tr th {\n",
       "        vertical-align: top;\n",
       "    }\n",
       "\n",
       "    .dataframe thead th {\n",
       "        text-align: right;\n",
       "    }\n",
       "</style>\n",
       "<table border=\"1\" class=\"dataframe\">\n",
       "  <thead>\n",
       "    <tr style=\"text-align: right;\">\n",
       "      <th></th>\n",
       "      <th>HenID</th>\n",
       "      <th>severity</th>\n",
       "      <th>gap</th>\n",
       "      <th>timepoint</th>\n",
       "      <th>hybrid</th>\n",
       "    </tr>\n",
       "  </thead>\n",
       "  <tbody>\n",
       "    <tr>\n",
       "      <th>0</th>\n",
       "      <td>hen_1</td>\n",
       "      <td>0.0</td>\n",
       "      <td>0.0</td>\n",
       "      <td>1</td>\n",
       "      <td>LSL</td>\n",
       "    </tr>\n",
       "    <tr>\n",
       "      <th>6</th>\n",
       "      <td>hen_1</td>\n",
       "      <td>0.0</td>\n",
       "      <td>0.0</td>\n",
       "      <td>2</td>\n",
       "      <td>LSL</td>\n",
       "    </tr>\n",
       "    <tr>\n",
       "      <th>12</th>\n",
       "      <td>hen_1</td>\n",
       "      <td>0.8</td>\n",
       "      <td>0.0</td>\n",
       "      <td>3</td>\n",
       "      <td>LSL</td>\n",
       "    </tr>\n",
       "  </tbody>\n",
       "</table>\n",
       "</div>"
      ],
      "text/plain": [
       "    HenID  severity  gap  timepoint hybrid\n",
       "0   hen_1       0.0  0.0          1    LSL\n",
       "6   hen_1       0.0  0.0          2    LSL\n",
       "12  hen_1       0.8  0.0          3    LSL"
      ]
     },
     "execution_count": 10,
     "metadata": {},
     "output_type": "execute_result"
    }
   ],
   "source": [
    "df_kbf = df_master[['HenID','severity','gap','timepoint','hybrid']].copy()\n",
    "df_kbf = df_kbf.drop_duplicates(subset=None, keep='first', inplace=False)\n",
    "print(df_kbf.shape)\n",
    "df_kbf.head(3)"
   ]
  },
  {
   "cell_type": "code",
   "execution_count": 11,
   "metadata": {},
   "outputs": [
    {
     "name": "stdout",
     "output_type": "stream",
     "text": [
      "60 60\n"
     ]
    },
    {
     "data": {
      "text/plain": [
       "array(['hen_41', 'hen_42'], dtype=object)"
      ]
     },
     "execution_count": 11,
     "metadata": {},
     "output_type": "execute_result"
    }
   ],
   "source": [
    "#dico to match henID to hybrid\n",
    "dico_henid_hybrid = dict(zip(df_kbf['HenID'].tolist(),df_kbf['hybrid'].tolist()))\n",
    "li_LB = df_master[df_master['hybrid']=='LB']['HenID'].unique()\n",
    "li_LSL = df_master[df_master['hybrid']=='LSL']['HenID'].unique()\n",
    "print(len(li_LB), len(li_LSL))\n",
    "li_LB[0:2]"
   ]
  },
  {
   "cell_type": "markdown",
   "metadata": {},
   "source": [
    "## Rest"
   ]
  },
  {
   "cell_type": "code",
   "execution_count": 12,
   "metadata": {},
   "outputs": [],
   "source": [
    "li_mlp = ['FirstTimestamp_zone_1_h','FirstTimestamp_zone_2_h','FirstTimestamp_zone_3_h',\n",
    "          'FirstTimestamp_zone_4_h','FirstTimestamp_zone_5_h','Max_duration_zone_4',\n",
    "          'median_duration','min_duration','mean_duration','max_duration','variance_duration',\n",
    "          'SampEnt_order2',\n",
    "          'Total_number_transition','Total_number_zone','distribution_entropy','duration_zone_1',\n",
    "          'duration_zone_3','duration_zone_4','duration_zone_5','nbr_bouts_zone_1',\n",
    "          'nbr_bouts_zone_3','nbr_bouts_zone_4','nbr_bouts_zone_5',\n",
    "          'down_missingZone_mvtPerc','up_missingZone_mvtPerc','down_missingZone_mvtNbr','up_missingZone_mvtNbr',\n",
    "          'chatoicmvt_Middlezone_1_nbr','chatoicmvt_Middlezone_2_nbr','chatoicmvt_Middlezone_3_nbr',\n",
    "          'chatoicmvt_Middlezone_4_nbr', 'chatoicmvt_Middlezone_5_nbr',\n",
    "          'percentile_5','percentile_15','percentile_85','percentile_95']"
   ]
  },
  {
   "cell_type": "code",
   "execution_count": 13,
   "metadata": {},
   "outputs": [],
   "source": [
    "#plt.hist(df_mlp['Total_number_transition'].tolist(), bins=300);"
   ]
  },
  {
   "cell_type": "code",
   "execution_count": 12,
   "metadata": {
    "scrolled": true
   },
   "outputs": [
    {
     "name": "stdout",
     "output_type": "stream",
     "text": [
      "The topic modeling used is named: LB---fixedLength---lengthwords_3---sess_1_2_3_4\n"
     ]
    },
    {
     "name": "stderr",
     "output_type": "stream",
     "text": [
      "c:\\users\\camil\\anaconda3\\lib\\site-packages\\pandas\\core\\groupby.py:4291: FutureWarning: using a dict with renaming is deprecated and will be removed in a future version\n",
      "  return super(DataFrameGroupBy, self).aggregate(arg, *args, **kwargs)\n",
      "c:\\users\\camil\\anaconda3\\lib\\site-packages\\numpy\\core\\fromnumeric.py:3118: RuntimeWarning: Mean of empty slice.\n",
      "  out=out, **kwargs)\n",
      "c:\\users\\camil\\anaconda3\\lib\\site-packages\\numpy\\core\\_methods.py:85: RuntimeWarning: invalid value encountered in double_scalars\n",
      "  ret = ret.dtype.type(ret / rcount)\n",
      "c:\\users\\camil\\anaconda3\\lib\\site-packages\\ipykernel_launcher.py:125: RuntimeWarning: invalid value encountered in double_scalars\n",
      "c:\\users\\camil\\anaconda3\\lib\\site-packages\\pandas\\core\\reshape\\merge.py:558: UserWarning: merging between different levels can give an unintended result (1 levels on the left, 2 on the right)\n",
      "  warnings.warn(msg, UserWarning)\n",
      "c:\\users\\camil\\anaconda3\\lib\\site-packages\\pandas\\core\\generic.py:2530: PerformanceWarning: dropping on a non-lexsorted multi-index without a level parameter may impact performance.\n",
      "  obj = obj._drop_axis(labels, axis, level=level, errors=errors)\n"
     ]
    },
    {
     "name": "stdout",
     "output_type": "stream",
     "text": [
      "(1278, 222)\n",
      "The topic modeling used is named: LB---fixedLength---lengthwords_3---sess_2_3_4_5\n",
      "(1278, 317)\n",
      "The topic modeling used is named: LB---fixedLength---lengthwords_3---sess_3_4_5_6\n",
      "(1244, 317)\n",
      "The topic modeling used is named: LB---fixedLength---lengthwords_3---sess_4_5_6_7\n",
      "(1216, 296)\n",
      "The topic modeling used is named: LB---fixedLength---lengthwords_3---sess_5_6_7_8\n",
      "(1220, 317)\n",
      "The topic modeling used is named: LB---fixedLength---lengthwords_3---sess_6_7_8_9\n",
      "(1171, 296)\n",
      "The topic modeling used is named: LB---fixedLength---lengthwords_3---sess_7_8_9_10\n",
      "(1093, 96)\n",
      "The topic modeling used is named: LB---fixedLength---lengthwords_3---sess_8_9_10_11\n",
      "(1019, 317)\n"
     ]
    }
   ],
   "source": [
    "for Sess2keep in li_sess:\n",
    "\n",
    "    ### unique naming\n",
    "    title_ = type_hybrid+'---'+type_+'---'+comment+'---sess_'+'_'.join([str(x) for x in Sess2keep]) \n",
    "    #'_LB', '_all','_LSL' '_LB_newword_def' '_all_newword_def'\n",
    "    print('The topic modeling used is named: '+title_)\n",
    "    path_save_ = os.path.join(path_extracted_data, 'visual', 'predict_KBF', title_)\n",
    "    #create a director if not existinga\n",
    "    if not os.path.exists(path_save_):\n",
    "        os.makedirs(path_save_)\n",
    "    \n",
    "    ################## Data at day level\n",
    "    ### topic modelling (all k into one dataframe)\n",
    "    li_dflda = []\n",
    "    min_topic = 2\n",
    "    li_path = glob.glob(os.path.join(path_extracted_data,'visual','TM', title_, '*'))\n",
    "    max_topic = max([int(x.split('\\\\')[-1]) for x in li_path if x.split('\\\\')[-1].isdigit()])\n",
    "    df_all_lda = pd.DataFrame(columns=['day','HenID'])\n",
    "    for nbr_topics_ in range(min_topic,max_topic+1):\n",
    "        #print(df_all_lda.shape)\n",
    "        path_save = os.path.join(path_extracted_data,'visual','TM', title_, str(nbr_topics_))\n",
    "        df_lda = pd.read_csv(os.path.join(path_save,'df_topics'+str(nbr_topics_)+'.csv'), sep=';',parse_dates=['day']) \n",
    "        #print(df_lda.shape)\n",
    "        #df_lda.head(3)\n",
    "        df_lda['topic'] = df_lda['topic'].map(lambda x: 'topic_'+str(x))\n",
    "        #lets take the topic distribution / main topic of the clustering with k=6-15 over all the days of the first session\n",
    "        li_sorted_days = df_lda.sort_values(['day'],ascending=True)['day'].unique()\n",
    "        li_topics = [x for x in df_lda.columns if (x.startswith('topic')) & (x!='topic_info')]\n",
    "        dico_topics_newtopics = {c:'k'+str(nbr_topics_)+'_'+ c for c in li_topics}\n",
    "        df_lda.rename(columns=dico_topics_newtopics, inplace=True)\n",
    "        df_all_lda = pd.merge(df_all_lda, df_lda[['HenID','day']+list(dico_topics_newtopics.values())], on=['HenID','day'], \n",
    "                              how='outer')\n",
    "    #print(df_all_lda.shape)\n",
    "    df_all_lda.head(3)\n",
    "\n",
    "    ### MLPS session metrics\n",
    "    li_path = glob.glob(os.path.join(path_extracted_data,'VF_time_serie_day_*_variables.csv')) #_SIMPLER\n",
    "    li_zone = ['zone_1', 'zone_2', 'zone_3', 'zone_4', 'zone_5']\n",
    "    li_df = []\n",
    "    for path_ in li_path:\n",
    "        sessID = path_.split('_')[-2]\n",
    "        df_ = pd.read_csv(path_, sep=';', parse_dates=['level','FirstTimestamp_zone_1','FirstTimestamp_zone_2',\n",
    "                                                       'FirstTimestamp_zone_3','FirstTimestamp_zone_4','FirstTimestamp_zone_5'])\n",
    "        #day 2017-08-07 egg quality must be linked to the MLPs variable of the day 2017-08-06 with possible bias induce by if the hen \n",
    "        #laid the egg at 9h on the 2017-08-06 (or anytime after 8h, the time where the people take the egg). \n",
    "        df_['egg_level'] = df_['level'].map(lambda x: x+dt.timedelta(days=1))\n",
    "        #for z in li_zone:\n",
    "        #    df_['SampEnt_'+z] = df_['SampEnt_perZone'].map(lambda x: eval(x).get(z,0))\n",
    "        #    df_['SampEnt_'+z] = df_['SampEnt_'+z].replace(-0.0,0)\n",
    "        #df_.drop(columns=['verification_daily_total_duration','SampEnt_perZone'], inplace=True)    \n",
    "        #put to have less change among the dependant variable entries\n",
    "        df_['SampEnt_order2'] = df_['SampEnt_order2'].map(lambda x: x*10000)\n",
    "        for v in ['duration_zone_1','duration_zone_2','duration_zone_3','duration_zone_4','duration_zone_5']:\n",
    "            df_[v] = df_[v].map(lambda x: x/60/60)\n",
    "        #df_['Variance_duration'] = df_['Variance_duration'].map(lambda x: x/(60*60)/(60*60))\n",
    "        li_fts = ['FirstTimestamp_zone_1','FirstTimestamp_zone_2','FirstTimestamp_zone_3','FirstTimestamp_zone_4',\n",
    "                  'FirstTimestamp_zone_5']\n",
    "        for x in li_fts:\n",
    "            df_[x+'_h'] = df_[x].map(lambda x: x.hour+x.minute/60+x.second/60/60)\n",
    "            #lets say if we dont know that they went to 17h\n",
    "            df_[x+'_h'].fillna(17, inplace=True)\n",
    "        df_['session'] = sessID\n",
    "        li_df.append(df_)\n",
    "    df_mlp = pd.concat(li_df)\n",
    "    #fill nan\n",
    "    li = ['SampEnt_order2', 'SampEnt_zone_1','SampEnt_zone_2', 'SampEnt_zone_3', 'SampEnt_zone_4', 'SampEnt_zone_5',\n",
    "          'RunSampEnt_onLastTsOfEachLevel', 'RunDistEnt_onLastTsOfEachLevel',\n",
    "          'RunSampEnt_onLastTsOfEachLevel_1', 'RunSampEnt_onLastTsOfEachLevel_2',\n",
    "          'RunSampEnt_onLastTsOfEachLevel_3', 'RunSampEnt_onLastTsOfEachLevel_4',\n",
    "          'RunSampEnt_onLastTsOfEachLevel_5',\n",
    "          'distribution_entropy']\n",
    "    li = [x for x in li if x in df_mlp.columns]\n",
    "    df_mlp[li] = df_mlp[li].fillna(0.0)\n",
    "    #print(df_mlp.shape)\n",
    "    #display(df_mlp.head(3))\n",
    "    \n",
    "    #keep columns of one species only if wanted\n",
    "    #print(df_mlp.shape)\n",
    "    if 'LB' in title_:\n",
    "        df_mlp = df_mlp[df_mlp['HenID'].isin(li_LB)]\n",
    "    if 'LSL' in title_:\n",
    "        df_mlp = df_mlp[df_mlp['HenID'].isin(li_LSL)]\n",
    "    #print(df_mlp.shape)\n",
    "    #keep good sessions\n",
    "    df_mlp['timepoint'] = df_mlp['session'].map(lambda x: int(x[:-1]))\n",
    "    df_mlp = df_mlp[df_mlp['timepoint'].isin(Sess2keep)]\n",
    "\n",
    "    ################### Egg quality level\n",
    "    df_egg = pd.read_csv(os.path.join(path_initial_data,'Mo_eggs_matched_with_ID.csv'), sep=';', parse_dates=['Date'])\n",
    "    #print(df_egg.shape)\n",
    "    #df_egg = df_egg[df_egg['Strength']!='na']\n",
    "    df_egg['Date']= df_egg['Date'].replace(dt.datetime(2017,9,15), dt.datetime(2017,8,15)) #TODO: ASK YAMENAH CORRECT?\n",
    "    df_egg = df_egg.replace('na', np.nan)\n",
    "    df_egg['Strength'] = df_egg['Strength'].astype(float)\n",
    "    df_egg['Mass'] = df_egg['Mass'].astype(float)\n",
    "    df_egg['Width'] = df_egg['Width'].astype(float)\n",
    "    df_egg.rename(columns={'Date':'egg_level', 'HenID_Christina':'HenID'}, inplace=True)\n",
    "    df_egg['HenID'] = df_egg['HenID'].map(lambda x: 'hen_'+str(x))\n",
    "    df_egg['is_LSL'] = df_egg['hybrid'].map(lambda x: float(x=='LSL'))\n",
    "    #print(df_egg[df_egg['Strength'].isnull()].shape, df_egg[df_egg['Mass'].isnull()].shape, df_egg[df_egg['Width'].isnull()].shape)\n",
    "    #print(df_egg.shape)\n",
    "    #display(df_egg.head(3))\n",
    "    df_egg_summary = df_egg.groupby(['HenID']).agg({t: {'tuple':lambda x: tuple(x), \n",
    "                                                'nbr':lambda x: len(set(x)),\n",
    "                                                'variance':lambda x: np.var(x),\n",
    "                                                'mean':lambda x: np.mean(x)} for t in ['Strength','Mass','Width']}).reset_index()\n",
    "    #print(df_egg_summary.shape)\n",
    "    #display(df_egg_summary)\n",
    "\n",
    "    ############# Aggregate for modelling\n",
    "    ###### one row per hen\n",
    "    #KBF\n",
    "    df_hen = df_kbf.groupby('HenID')['severity','gap'].agg(lambda x: list(x)).reset_index()\n",
    "    df_hen.rename(columns={'severity':'li_severity','gap':'li_gap'}, inplace=True)\n",
    "    df_hen['nbr_nan'] = df_hen['li_severity'].map(lambda x: sum(math.isnan(i) for i in x))\n",
    "    ##### gap var\n",
    "    #df_hen['max_gap'] = df_hen['li_gap'].map(lambda x: max(x)) #only 1's\n",
    "    #what was the severity when the gap went into 1? issue: 8,4 would mean: soit chicken had severity from 0 to 8,4 and hence a \n",
    "    #gap, soit le chicks had 0,2,4,5,6,8 severity and no gap during long time! Two different chicken!!\n",
    "    #--> sum of severity with gap 0 (0: mean never gap while severity OR never severity and never gap). WE REMOVE THE SEVERITY=0\n",
    "    df_hen['AvgSeverity_gap1'] = df_hen.apply(lambda x:np.mean(np.array(x['li_severity'])[np.array(x['li_gap'])==1]),axis=1)\n",
    "    df_hen['AvgSeverity_gap0'] = df_hen.apply(lambda x:np.mean([i for i in np.array(x['li_severity'])[np.array(x['li_gap'])==0] if i!=0]),axis=1)\n",
    "    #issue with this var:  if severity is ver low, and chick has gap0 during this time then the average severity during gap0 will be\n",
    "    #lower, but actually it is still good to have gap 0 for low severity and long time!\n",
    "    df_hen['AvgSeverity_gap1-AvgSeverity_gap0'] = df_hen['AvgSeverity_gap1']-df_hen['AvgSeverity_gap0']\n",
    "    #this measure is better!!\n",
    "    df_hen['maxsevGap0_divided_maxsev'] = df_hen.apply(lambda x: max(np.array(x['li_severity'])[np.array(x['li_gap'])==0])/max(np.array(x['li_severity'])), axis=1)\n",
    "    ##### severity var\n",
    "    df_hen['max_severity'] = df_hen['li_severity'].map(lambda x: max(x))\n",
    "    df_hen['positive_rate_in_severity'] = df_hen['li_severity'].map(lambda x: [x[i+1]-x[i] for i in range(0,len(x)-1) if (x[i+1]>x[i]) & (len(x)>0)]+[0])\n",
    "    df_hen['max_positive_rate_in_severity'] = df_hen['positive_rate_in_severity'].map(lambda x: max(x))\n",
    "    #removing the hens that have more than 7 nan and the one that have more than 2 nan and a low severity (i.e. if a lot of \n",
    "    #nan but high severity then we can still keep it)\n",
    "    #print(df_hen.shape)\n",
    "    df_hen = df_hen[~((df_hen['nbr_nan']>7) | ((df_hen['max_severity']<5) & (df_hen['nbr_nan']>=2)))]\n",
    "    #print(df_hen.shape)\n",
    "    #variation without nan\n",
    "    df_hen['li_severity_nonan'] = df_hen['li_severity'].map(lambda x: [i for i in x if not math.isnan(i)])\n",
    "    df_hen['time_of_max_severity'] = df_hen['li_severity_nonan'].map(lambda x: x.index(max(x)))\n",
    "    df_hen['var_severity'] = df_hen['li_severity_nonan'].map(lambda x: np.var([i for i in x if not math.isnan(i)]))\n",
    "    #lets define the capacity of healing by the sum of the do (the closest is to one, the more healing there is. 1 would mean equal number of healing than \n",
    "    #non-healing, meaning ending at 0 KBF)\n",
    "    df_hen['ratio_HealingAndNonhealing'] = df_hen['li_severity_nonan'].map(lambda x: sum([x[i]-x[i+1] for i in range(0,len(x)-1) if x[i+1]<x[i]])/\\\n",
    "                                                                                     sum([x[i+1]-x[i] for i in range(0,len(x)-1) if x[i+1]>x[i]]))\n",
    "    df_hen['ratio_HealingAndNonhealing_round'] = df_hen['ratio_HealingAndNonhealing'].map(lambda x: round(x,1))\n",
    "    dico_henid_healinratio = dict(zip(df_hen['HenID'].tolist(),df_hen['ratio_HealingAndNonhealing_round']))\n",
    "    dico_henid_var = dict(zip(df_hen['HenID'].tolist(),df_hen['var_severity']))\n",
    "    df_hen\n",
    "\n",
    "    #egg quality info\n",
    "    #print(df_hen.shape)\n",
    "    df_hen = pd.merge(df_hen, df_egg_summary, on='HenID', how='left')\n",
    "    #print(df_hen.shape)\n",
    "    #display(df_hen)\n",
    "    #save hen info\n",
    "    df_hen['hybrid'] = df_hen['HenID'].map(lambda x: dico_henid_hybrid[x])\n",
    "    df_hen.to_csv(os.path.join(path_extracted_data,'df_1row1hen_kbf&egg.csv'), index=False, sep=';')\n",
    "    #keep columns of one species only if waned\n",
    "    #print(df_hen.shape)\n",
    "    if 'LB' in title_:\n",
    "        df_hen = df_hen[df_hen['HenID'].isin(li_LB)]\n",
    "    if 'LSL' in title_:\n",
    "        df_hen = df_hen[df_hen['HenID'].isin(li_LSL)]\n",
    "    #print(df_hen.shape)\n",
    "\n",
    "    #### one row per hen per day\n",
    "    #first merge all day level time series\n",
    "    df_mlp.rename(columns={'level':'day'}, inplace=True)\n",
    "    df_day = pd.merge(df_all_lda, df_mlp, on=['HenID', 'day'], how='outer')\n",
    "    #df_day = pd.merge(df_day, df_IDS, on=['HenID', 'day'], how='left')\n",
    "    #print(df_all_lda.shape, df_mlp.shape, df_day.shape)\n",
    "    #add session id to match each day to an \"age\" independantly to the group (A or B)\n",
    "    df_day['sessionid'] = df_day['day'].map(lambda x: dico_day_sessiontpt.get(x,np.nan))\n",
    "    #df_day.head(3)\n",
    "\n",
    "    ################ aggregate for modelling - one row per hen per day\n",
    "    df_modelling = pd.merge(df_day, df_hen, on=['HenID'], how='left')\n",
    "    #print(df_day.shape, df_hen.shape, df_modelling.shape)\n",
    "    #display(df_modelling.head(3))\n",
    "\n",
    "    ######### save\n",
    "    #print(df_modelling.shape)\n",
    "    df_modelling = df_modelling[~df_modelling['max_severity'].isnull()]\n",
    "    #keep only the birds with at least 5 transition over the day\n",
    "    df_modelling = df_modelling[df_modelling['Total_number_transition']>=5]\n",
    "    df_modelling.to_csv(os.path.join(path_save_,'df_modelling.csv'), index=False, sep=';')\n",
    "    print(df_modelling.shape)\n",
    "    df_modelling.head(3)"
   ]
  },
  {
   "cell_type": "code",
   "execution_count": 13,
   "metadata": {},
   "outputs": [
    {
     "data": {
      "text/plain": [
       "Index(['FirstTimestamp_zone_1', 'FirstTimestamp_zone_1_h',\n",
       "       'FirstTimestamp_zone_2', 'FirstTimestamp_zone_2_h',\n",
       "       'FirstTimestamp_zone_3', 'FirstTimestamp_zone_3_h',\n",
       "       'FirstTimestamp_zone_4', 'FirstTimestamp_zone_4_h',\n",
       "       'FirstTimestamp_zone_5', 'FirstTimestamp_zone_5_h', 'HenID',\n",
       "       'Max_duration_zone_4', 'Max_duration_zones', 'SampEnt_order2',\n",
       "       'Total_number_transition', 'Total_number_zone',\n",
       "       'chatoicmvt_Middlezone_1', 'chatoicmvt_Middlezone_1_nbr',\n",
       "       'chatoicmvt_Middlezone_2', 'chatoicmvt_Middlezone_2_nbr',\n",
       "       'chatoicmvt_Middlezone_3', 'chatoicmvt_Middlezone_3_nbr',\n",
       "       'chatoicmvt_Middlezone_4', 'chatoicmvt_Middlezone_4_nbr',\n",
       "       'chatoicmvt_Middlezone_5', 'chatoicmvt_Middlezone_5_nbr',\n",
       "       'dico_z_chaoticmvtMiddleDuration', 'dico_zone_sortedduration',\n",
       "       'distribution_entropy', 'down_missingZone_mvtNbr',\n",
       "       'down_missingZone_mvtPerc', 'dur_values', 'dur_values_normalized',\n",
       "       'duration_zone_1', 'duration_zone_2', 'duration_zone_3',\n",
       "       'duration_zone_4', 'duration_zone_5', 'egg_level', 'day',\n",
       "       'li_event_chaoticmvt_z_d', 'list_of_durations', 'max_duration',\n",
       "       'mean_duration', 'median_duration', 'min_duration', 'nbr_bouts_zone_1',\n",
       "       'nbr_bouts_zone_2', 'nbr_bouts_zone_3', 'nbr_bouts_zone_4',\n",
       "       'nbr_bouts_zone_5', 'percentile_15', 'percentile_5', 'percentile_85',\n",
       "       'percentile_95', 'session', 't_DU_missingZone_mvtPerc',\n",
       "       'up_missingZone_mvtNbr', 'up_missingZone_mvtPerc', 'variance_duration',\n",
       "       'verification_daily_total_duration', 'zone_list', 'timepoint'],\n",
       "      dtype='object')"
      ]
     },
     "execution_count": 13,
     "metadata": {},
     "output_type": "execute_result"
    }
   ],
   "source": [
    "df_mlp.columns"
   ]
  },
  {
   "cell_type": "code",
   "execution_count": 14,
   "metadata": {},
   "outputs": [
    {
     "data": {
      "text/html": [
       "<div>\n",
       "<style scoped>\n",
       "    .dataframe tbody tr th:only-of-type {\n",
       "        vertical-align: middle;\n",
       "    }\n",
       "\n",
       "    .dataframe tbody tr th {\n",
       "        vertical-align: top;\n",
       "    }\n",
       "\n",
       "    .dataframe thead th {\n",
       "        text-align: right;\n",
       "    }\n",
       "</style>\n",
       "<table border=\"1\" class=\"dataframe\">\n",
       "  <thead>\n",
       "    <tr style=\"text-align: right;\">\n",
       "      <th></th>\n",
       "      <th>percentile_5</th>\n",
       "      <th>percentile_15</th>\n",
       "      <th>percentile_85</th>\n",
       "      <th>percentile_95</th>\n",
       "      <th>chatoicmvt_Middlezone_1_nbr</th>\n",
       "      <th>chatoicmvt_Middlezone_2_nbr</th>\n",
       "      <th>chatoicmvt_Middlezone_3_nbr</th>\n",
       "      <th>chatoicmvt_Middlezone_4_nbr</th>\n",
       "      <th>chatoicmvt_Middlezone_5_nbr</th>\n",
       "    </tr>\n",
       "  </thead>\n",
       "  <tbody>\n",
       "    <tr>\n",
       "      <th>180</th>\n",
       "      <td>0.340000</td>\n",
       "      <td>0.4675</td>\n",
       "      <td>41.191667</td>\n",
       "      <td>76.807500</td>\n",
       "      <td>0</td>\n",
       "      <td>1</td>\n",
       "      <td>1</td>\n",
       "      <td>3</td>\n",
       "      <td>2</td>\n",
       "    </tr>\n",
       "    <tr>\n",
       "      <th>181</th>\n",
       "      <td>0.148333</td>\n",
       "      <td>0.7525</td>\n",
       "      <td>31.924167</td>\n",
       "      <td>58.425833</td>\n",
       "      <td>1</td>\n",
       "      <td>2</td>\n",
       "      <td>1</td>\n",
       "      <td>3</td>\n",
       "      <td>1</td>\n",
       "    </tr>\n",
       "    <tr>\n",
       "      <th>182</th>\n",
       "      <td>0.226667</td>\n",
       "      <td>0.5075</td>\n",
       "      <td>50.223333</td>\n",
       "      <td>81.794167</td>\n",
       "      <td>0</td>\n",
       "      <td>0</td>\n",
       "      <td>0</td>\n",
       "      <td>4</td>\n",
       "      <td>3</td>\n",
       "    </tr>\n",
       "  </tbody>\n",
       "</table>\n",
       "</div>"
      ],
      "text/plain": [
       "     percentile_5  percentile_15  percentile_85  percentile_95  \\\n",
       "180      0.340000         0.4675      41.191667      76.807500   \n",
       "181      0.148333         0.7525      31.924167      58.425833   \n",
       "182      0.226667         0.5075      50.223333      81.794167   \n",
       "\n",
       "     chatoicmvt_Middlezone_1_nbr  chatoicmvt_Middlezone_2_nbr  \\\n",
       "180                            0                            1   \n",
       "181                            1                            2   \n",
       "182                            0                            0   \n",
       "\n",
       "     chatoicmvt_Middlezone_3_nbr  chatoicmvt_Middlezone_4_nbr  \\\n",
       "180                            1                            3   \n",
       "181                            1                            3   \n",
       "182                            0                            4   \n",
       "\n",
       "     chatoicmvt_Middlezone_5_nbr  \n",
       "180                            2  \n",
       "181                            1  \n",
       "182                            3  "
      ]
     },
     "execution_count": 14,
     "metadata": {},
     "output_type": "execute_result"
    }
   ],
   "source": [
    "df_mlp[['percentile_5', 'percentile_15', 'percentile_85','percentile_95', 'chatoicmvt_Middlezone_1_nbr',\n",
    "        'chatoicmvt_Middlezone_2_nbr','chatoicmvt_Middlezone_3_nbr','chatoicmvt_Middlezone_4_nbr', \n",
    "        'chatoicmvt_Middlezone_5_nbr']].head(3)"
   ]
  },
  {
   "cell_type": "code",
   "execution_count": 15,
   "metadata": {
    "scrolled": true
   },
   "outputs": [],
   "source": [
    "#print rows with at least 10 nan values\n",
    "#df_modelling[df_modelling.isnull().sum(axis=1)>10]"
   ]
  },
  {
   "cell_type": "code",
   "execution_count": 117,
   "metadata": {
    "scrolled": true
   },
   "outputs": [
    {
     "name": "stdout",
     "output_type": "stream",
     "text": [
      "(57, 30)\n"
     ]
    },
    {
     "data": {
      "text/html": [
       "<div>\n",
       "<style scoped>\n",
       "    .dataframe tbody tr th:only-of-type {\n",
       "        vertical-align: middle;\n",
       "    }\n",
       "\n",
       "    .dataframe tbody tr th {\n",
       "        vertical-align: top;\n",
       "    }\n",
       "\n",
       "    .dataframe thead th {\n",
       "        text-align: right;\n",
       "    }\n",
       "</style>\n",
       "<table border=\"1\" class=\"dataframe\">\n",
       "  <thead>\n",
       "    <tr style=\"text-align: right;\">\n",
       "      <th></th>\n",
       "      <th>HenID</th>\n",
       "      <th>li_severity</th>\n",
       "      <th>li_gap</th>\n",
       "      <th>nbr_nan</th>\n",
       "      <th>AvgSeverity_gap1</th>\n",
       "      <th>AvgSeverity_gap0</th>\n",
       "      <th>AvgSeverity_gap1-AvgSeverity_gap0</th>\n",
       "      <th>maxsevGap0_divided_maxsev</th>\n",
       "      <th>max_severity</th>\n",
       "      <th>positive_rate_in_severity</th>\n",
       "      <th>...</th>\n",
       "      <th>('Mass', 'tuple')</th>\n",
       "      <th>('Mass', 'nbr')</th>\n",
       "      <th>('Mass', 'variance')</th>\n",
       "      <th>('Mass', 'mean')</th>\n",
       "      <th>('Width', 'tuple')</th>\n",
       "      <th>('Width', 'nbr')</th>\n",
       "      <th>('Width', 'variance')</th>\n",
       "      <th>('Width', 'mean')</th>\n",
       "      <th>hybrid</th>\n",
       "      <th>time_of_max_severity</th>\n",
       "    </tr>\n",
       "  </thead>\n",
       "  <tbody>\n",
       "    <tr>\n",
       "      <th>1</th>\n",
       "      <td>hen_100</td>\n",
       "      <td>[0.0, 0.0, 0.0, 4.5, 4.3, 3.0, 8.5, 8.6, 8.6, ...</td>\n",
       "      <td>[0.0, 0.0, 0.0, 1.0, 0.0, 0.0, 1.0, 1.0, 0.0, ...</td>\n",
       "      <td>0</td>\n",
       "      <td>7.200000</td>\n",
       "      <td>6.620000</td>\n",
       "      <td>0.580000</td>\n",
       "      <td>1.000000</td>\n",
       "      <td>8.7</td>\n",
       "      <td>[4.5, 5.5, 0.09999999999999964, 0.099999999999...</td>\n",
       "      <td>...</td>\n",
       "      <td>(59.6, 58.6, 67.7, 66.9)</td>\n",
       "      <td>4.0</td>\n",
       "      <td>17.015000</td>\n",
       "      <td>63.200000</td>\n",
       "      <td>(0.3, 0.36, 0.3, 0.32)</td>\n",
       "      <td>3.0</td>\n",
       "      <td>0.000600</td>\n",
       "      <td>0.320000</td>\n",
       "      <td>LB</td>\n",
       "      <td>9</td>\n",
       "    </tr>\n",
       "    <tr>\n",
       "      <th>2</th>\n",
       "      <td>hen_101</td>\n",
       "      <td>[3.0, 2.9, 2.6, 5.1, 6.1, 6.2, 9.8, 9.4, 9.8, ...</td>\n",
       "      <td>[0.0, 0.0, 0.0, 1.0, 1.0, 1.0, 1.0, 1.0, 1.0, ...</td>\n",
       "      <td>0</td>\n",
       "      <td>8.225000</td>\n",
       "      <td>2.833333</td>\n",
       "      <td>5.391667</td>\n",
       "      <td>0.306122</td>\n",
       "      <td>9.8</td>\n",
       "      <td>[2.4999999999999996, 1.0, 0.10000000000000053,...</td>\n",
       "      <td>...</td>\n",
       "      <td>(57.4, 58.2, 58.3, 56.0, 55.6)</td>\n",
       "      <td>5.0</td>\n",
       "      <td>1.240000</td>\n",
       "      <td>57.100000</td>\n",
       "      <td>(0.31, 0.3, 0.26, 0.31, 0.27)</td>\n",
       "      <td>4.0</td>\n",
       "      <td>0.000440</td>\n",
       "      <td>0.290000</td>\n",
       "      <td>LB</td>\n",
       "      <td>6</td>\n",
       "    </tr>\n",
       "    <tr>\n",
       "      <th>3</th>\n",
       "      <td>hen_102</td>\n",
       "      <td>[0.0, 0.0, 0.0, 2.0, 4.3, 3.2, 2.8, 2.9, 3.2, ...</td>\n",
       "      <td>[0.0, 0.0, 0.0, 1.0, 1.0, 0.0, 0.0, 0.0, 0.0, ...</td>\n",
       "      <td>0</td>\n",
       "      <td>3.633333</td>\n",
       "      <td>3.160000</td>\n",
       "      <td>0.473333</td>\n",
       "      <td>0.804348</td>\n",
       "      <td>4.6</td>\n",
       "      <td>[2.0, 2.3, 0.10000000000000009, 0.300000000000...</td>\n",
       "      <td>...</td>\n",
       "      <td>(64.0, 63.6, 60.4)</td>\n",
       "      <td>3.0</td>\n",
       "      <td>2.595556</td>\n",
       "      <td>62.666667</td>\n",
       "      <td>(0.34, 0.33, 0.36)</td>\n",
       "      <td>3.0</td>\n",
       "      <td>0.000156</td>\n",
       "      <td>0.343333</td>\n",
       "      <td>LB</td>\n",
       "      <td>9</td>\n",
       "    </tr>\n",
       "  </tbody>\n",
       "</table>\n",
       "<p>3 rows × 30 columns</p>\n",
       "</div>"
      ],
      "text/plain": [
       "     HenID                                        li_severity  \\\n",
       "1  hen_100  [0.0, 0.0, 0.0, 4.5, 4.3, 3.0, 8.5, 8.6, 8.6, ...   \n",
       "2  hen_101  [3.0, 2.9, 2.6, 5.1, 6.1, 6.2, 9.8, 9.4, 9.8, ...   \n",
       "3  hen_102  [0.0, 0.0, 0.0, 2.0, 4.3, 3.2, 2.8, 2.9, 3.2, ...   \n",
       "\n",
       "                                              li_gap  nbr_nan  \\\n",
       "1  [0.0, 0.0, 0.0, 1.0, 0.0, 0.0, 1.0, 1.0, 0.0, ...        0   \n",
       "2  [0.0, 0.0, 0.0, 1.0, 1.0, 1.0, 1.0, 1.0, 1.0, ...        0   \n",
       "3  [0.0, 0.0, 0.0, 1.0, 1.0, 0.0, 0.0, 0.0, 0.0, ...        0   \n",
       "\n",
       "   AvgSeverity_gap1  AvgSeverity_gap0  AvgSeverity_gap1-AvgSeverity_gap0  \\\n",
       "1          7.200000          6.620000                           0.580000   \n",
       "2          8.225000          2.833333                           5.391667   \n",
       "3          3.633333          3.160000                           0.473333   \n",
       "\n",
       "   maxsevGap0_divided_maxsev  max_severity  \\\n",
       "1                   1.000000           8.7   \n",
       "2                   0.306122           9.8   \n",
       "3                   0.804348           4.6   \n",
       "\n",
       "                           positive_rate_in_severity          ...           \\\n",
       "1  [4.5, 5.5, 0.09999999999999964, 0.099999999999...          ...            \n",
       "2  [2.4999999999999996, 1.0, 0.10000000000000053,...          ...            \n",
       "3  [2.0, 2.3, 0.10000000000000009, 0.300000000000...          ...            \n",
       "\n",
       "                ('Mass', 'tuple')  ('Mass', 'nbr') ('Mass', 'variance')  \\\n",
       "1        (59.6, 58.6, 67.7, 66.9)              4.0            17.015000   \n",
       "2  (57.4, 58.2, 58.3, 56.0, 55.6)              5.0             1.240000   \n",
       "3              (64.0, 63.6, 60.4)              3.0             2.595556   \n",
       "\n",
       "   ('Mass', 'mean')             ('Width', 'tuple')  ('Width', 'nbr')  \\\n",
       "1         63.200000         (0.3, 0.36, 0.3, 0.32)               3.0   \n",
       "2         57.100000  (0.31, 0.3, 0.26, 0.31, 0.27)               4.0   \n",
       "3         62.666667             (0.34, 0.33, 0.36)               3.0   \n",
       "\n",
       "  ('Width', 'variance')  ('Width', 'mean')  hybrid  time_of_max_severity  \n",
       "1              0.000600           0.320000      LB                     9  \n",
       "2              0.000440           0.290000      LB                     6  \n",
       "3              0.000156           0.343333      LB                     9  \n",
       "\n",
       "[3 rows x 30 columns]"
      ]
     },
     "execution_count": 117,
     "metadata": {},
     "output_type": "execute_result"
    }
   ],
   "source": [
    "df_hen = pd.read_csv(os.path.join(path_extracted_data,'df_1row1hen_kbf&egg.csv'), sep=';')\n",
    "#can not do eval with nan in the list!\n",
    "df_hen['li_severity_nonan'] = df_hen['li_severity_nonan'].map(lambda x: eval(x))\n",
    "df_hen['time_of_max_severity'] = df_hen['li_severity_nonan'].map(lambda x: x.index(max(x)))\n",
    "df_hen = df_hen[df_hen['hybrid']=='LB']\n",
    "print(df_hen.shape)\n",
    "df_hen.head(3)"
   ]
  },
  {
   "cell_type": "markdown",
   "metadata": {},
   "source": [
    "### maxsevGap0_divided_maxsev link to max_severity or time of max_severity?"
   ]
  },
  {
   "cell_type": "raw",
   "metadata": {},
   "source": [
    "Potential issues: \n",
    "1) good value (i.e. close to one) means: KBF came very fast and hence have time to recover, or good at healing. Hence lets see how \"maxsevGap0_divided_maxsev\" metric is correlated to the session time of max severity. From plot later: OK\n",
    "2) Bad value as we in the same time dont want high KBF, and in the same time we want to have no GAP if there is KBF"
   ]
  },
  {
   "cell_type": "code",
   "execution_count": 118,
   "metadata": {},
   "outputs": [
    {
     "data": {
      "image/png": "[encoded data removed]",
      "text/plain": [
       "<Figure size 432x288 with 1 Axes>"
      ]
     },
     "metadata": {
      "needs_background": "light"
     },
     "output_type": "display_data"
    },
    {
     "name": "stdout",
     "output_type": "stream",
     "text": [
      "SpearmanrResult(correlation=0.05423059728795105, pvalue=0.6886731952850222) (0.03375396532565306, 0.8031580961167949)\n"
     ]
    },
    {
     "data": {
      "image/png": "[encoded data removed]",
      "text/plain": [
       "<Figure size 432x288 with 1 Axes>"
      ]
     },
     "metadata": {
      "needs_background": "light"
     },
     "output_type": "display_data"
    },
    {
     "name": "stdout",
     "output_type": "stream",
     "text": [
      "SpearmanrResult(correlation=-0.025854708753275855, pvalue=0.8485991812925615) (-0.032117783262371774, 0.8125226144954076)\n"
     ]
    }
   ],
   "source": [
    "for y in ['time_of_max_severity','max_severity']:\n",
    "    sns.regplot(x='maxsevGap0_divided_maxsev', y=y, data=df_hen);\n",
    "    plt.show();\n",
    "    print(spearmanr(df_hen['maxsevGap0_divided_maxsev'].tolist(), df_hen[y].tolist()), \n",
    "          pearsonr(df_hen['maxsevGap0_divided_maxsev'].tolist(), df_hen[y].tolist()))\n",
    "\n",
    "#sns.lmplot(x='time_of_max_severity', y='maxsevGap0_divided_maxsev', x_partial='max_severity', data=df_hen);\n",
    "#--> not link!! good!!"
   ]
  },
  {
   "cell_type": "markdown",
   "metadata": {},
   "source": [
    "### maxsevGap0_divided_maxsev link to productivity?"
   ]
  },
  {
   "cell_type": "raw",
   "metadata": {},
   "source": [
    "Not linked to mass/strength/width, but as a fact KBF exists as long as hens are asked to do an egg per day. SO one can try to reduce there pain and strength."
   ]
  },
  {
   "cell_type": "code",
   "execution_count": 119,
   "metadata": {},
   "outputs": [
    {
     "data": {
      "text/html": [
       "<div>\n",
       "<style scoped>\n",
       "    .dataframe tbody tr th:only-of-type {\n",
       "        vertical-align: middle;\n",
       "    }\n",
       "\n",
       "    .dataframe tbody tr th {\n",
       "        vertical-align: top;\n",
       "    }\n",
       "\n",
       "    .dataframe thead th {\n",
       "        text-align: right;\n",
       "    }\n",
       "</style>\n",
       "<table border=\"1\" class=\"dataframe\">\n",
       "  <thead>\n",
       "    <tr style=\"text-align: right;\">\n",
       "      <th></th>\n",
       "      <th>HenID</th>\n",
       "      <th>li_severity</th>\n",
       "      <th>li_gap</th>\n",
       "      <th>nbr_nan</th>\n",
       "      <th>AvgSeverity_gap1</th>\n",
       "      <th>AvgSeverity_gap0</th>\n",
       "      <th>AvgSeverity_gap1-AvgSeverity_gap0</th>\n",
       "      <th>maxsevGap0_divided_maxsev</th>\n",
       "      <th>max_severity</th>\n",
       "      <th>positive_rate_in_severity</th>\n",
       "      <th>...</th>\n",
       "      <th>('Mass', 'tuple')</th>\n",
       "      <th>('Mass', 'nbr')</th>\n",
       "      <th>('Mass', 'variance')</th>\n",
       "      <th>('Mass', 'mean')</th>\n",
       "      <th>('Width', 'tuple')</th>\n",
       "      <th>('Width', 'nbr')</th>\n",
       "      <th>('Width', 'variance')</th>\n",
       "      <th>('Width', 'mean')</th>\n",
       "      <th>hybrid</th>\n",
       "      <th>time_of_max_severity</th>\n",
       "    </tr>\n",
       "  </thead>\n",
       "  <tbody>\n",
       "  </tbody>\n",
       "</table>\n",
       "<p>0 rows × 30 columns</p>\n",
       "</div>"
      ],
      "text/plain": [
       "Empty DataFrame\n",
       "Columns: [HenID, li_severity, li_gap, nbr_nan, AvgSeverity_gap1, AvgSeverity_gap0, AvgSeverity_gap1-AvgSeverity_gap0, maxsevGap0_divided_maxsev, max_severity, positive_rate_in_severity, max_positive_rate_in_severity, value_of_first_positive_rate_in_severity, li_severity_nonan, var_severity, ratio_HealingAndNonhealing, ratio_HealingAndNonhealing_round, ('Strength', 'tuple'), ('Strength', 'nbr'), ('Strength', 'variance'), ('Strength', 'mean'), ('Mass', 'tuple'), ('Mass', 'nbr'), ('Mass', 'variance'), ('Mass', 'mean'), ('Width', 'tuple'), ('Width', 'nbr'), ('Width', 'variance'), ('Width', 'mean'), hybrid, time_of_max_severity]\n",
       "Index: []\n",
       "\n",
       "[0 rows x 30 columns]"
      ]
     },
     "execution_count": 119,
     "metadata": {},
     "output_type": "execute_result"
    }
   ],
   "source": [
    "df_hen[df_hen['HenID']=='hen_108']"
   ]
  },
  {
   "cell_type": "code",
   "execution_count": 120,
   "metadata": {},
   "outputs": [
    {
     "name": "stdout",
     "output_type": "stream",
     "text": [
      "SpearmanrResult(correlation=-0.11674361748516791, pvalue=0.41944240926556786) (0.03426699054547815, 0.8132425849652136)\n"
     ]
    },
    {
     "data": {
      "image/png": "[encoded data removed]",
      "text/plain": [
       "<Figure size 432x288 with 1 Axes>"
      ]
     },
     "metadata": {
      "needs_background": "light"
     },
     "output_type": "display_data"
    },
    {
     "name": "stdout",
     "output_type": "stream",
     "text": [
      "SpearmanrResult(correlation=-0.1390201306399026, pvalue=0.3356260756116315) (-0.06464037165406349, 0.6556098057064632)\n"
     ]
    },
    {
     "data": {
      "image/png": "[encoded data removed]",
      "text/plain": [
       "<Figure size 432x288 with 1 Axes>"
      ]
     },
     "metadata": {
      "needs_background": "light"
     },
     "output_type": "display_data"
    },
    {
     "name": "stdout",
     "output_type": "stream",
     "text": [
      "SpearmanrResult(correlation=0.057831609045315875, pvalue=0.6899504150677246) (0.13943541823853428, 0.33417021277138437)\n"
     ]
    },
    {
     "data": {
      "image/png": "[encoded data removed]",
      "text/plain": [
       "<Figure size 432x288 with 1 Axes>"
      ]
     },
     "metadata": {
      "needs_background": "light"
     },
     "output_type": "display_data"
    }
   ],
   "source": [
    "for y in [\"('Mass', 'mean')\", \"('Strength', 'mean')\", \"('Width', 'mean')\"]:\n",
    "    df_ = df_hen[~df_hen[y].isnull()]\n",
    "    sns.regplot(x='maxsevGap0_divided_maxsev', y=y, data=df_);\n",
    "    print(spearmanr(df_['maxsevGap0_divided_maxsev'].tolist(), df_[y].tolist()), \n",
    "          pearsonr(df_['maxsevGap0_divided_maxsev'].tolist(), df_[y].tolist()))\n",
    "    plt.show();\n",
    "#to bad no link with egg strength!"
   ]
  },
  {
   "cell_type": "markdown",
   "metadata": {},
   "source": [
    "### max_severity link to productivity?"
   ]
  },
  {
   "cell_type": "code",
   "execution_count": 121,
   "metadata": {},
   "outputs": [
    {
     "name": "stdout",
     "output_type": "stream",
     "text": [
      "SpearmanrResult(correlation=0.010957327763003009, pvalue=0.9397989705251966) (0.031258897843957044, 0.8293807856911591)\n"
     ]
    },
    {
     "data": {
      "image/png": "[encoded data removed]",
      "text/plain": [
       "<Figure size 432x288 with 1 Axes>"
      ]
     },
     "metadata": {
      "needs_background": "light"
     },
     "output_type": "display_data"
    },
    {
     "name": "stdout",
     "output_type": "stream",
     "text": [
      "SpearmanrResult(correlation=-0.08831801428703674, pvalue=0.5419274636573892) (-0.22564250156980376, 0.11512414115455628)\n"
     ]
    },
    {
     "data": {
      "image/png": "[encoded data removed]",
      "text/plain": [
       "<Figure size 432x288 with 1 Axes>"
      ]
     },
     "metadata": {
      "needs_background": "light"
     },
     "output_type": "display_data"
    },
    {
     "name": "stdout",
     "output_type": "stream",
     "text": [
      "SpearmanrResult(correlation=-0.24657505424246587, pvalue=0.08430886788602591) (-0.2952929149542184, 0.0373516494517515)\n"
     ]
    },
    {
     "data": {
      "image/png": "[encoded data removed]",
      "text/plain": [
       "<Figure size 432x288 with 1 Axes>"
      ]
     },
     "metadata": {
      "needs_background": "light"
     },
     "output_type": "display_data"
    }
   ],
   "source": [
    "for y in [\"('Mass', 'mean')\", \"('Strength', 'mean')\", \"('Width', 'mean')\"]:\n",
    "    df_ = df_hen[~df_hen[y].isnull()]\n",
    "    sns.regplot(x='max_severity', y=y, data=df_);\n",
    "    print(spearmanr(df_['max_severity'].tolist(), df_[y].tolist()), \n",
    "          pearsonr(df_['max_severity'].tolist(), df_[y].tolist()))\n",
    "    plt.show();\n",
    "#to bad no link with egg strength!"
   ]
  },
  {
   "cell_type": "code",
   "execution_count": 138,
   "metadata": {},
   "outputs": [
    {
     "data": {
      "text/html": [
       "<div>\n",
       "<style scoped>\n",
       "    .dataframe tbody tr th:only-of-type {\n",
       "        vertical-align: middle;\n",
       "    }\n",
       "\n",
       "    .dataframe tbody tr th {\n",
       "        vertical-align: top;\n",
       "    }\n",
       "\n",
       "    .dataframe thead th {\n",
       "        text-align: right;\n",
       "    }\n",
       "</style>\n",
       "<table border=\"1\" class=\"dataframe\">\n",
       "  <thead>\n",
       "    <tr style=\"text-align: right;\">\n",
       "      <th></th>\n",
       "      <th>HenID</th>\n",
       "      <th>level</th>\n",
       "      <th>duration_zone_1</th>\n",
       "      <th>duration_zone_2</th>\n",
       "      <th>duration_zone_3</th>\n",
       "      <th>duration_zone_4</th>\n",
       "      <th>duration_zone_5</th>\n",
       "      <th>verification_daily_total_duration</th>\n",
       "      <th>dur_values</th>\n",
       "      <th>dur_values_normalized</th>\n",
       "      <th>...</th>\n",
       "      <th>chatoicmvt_Middlezone_1</th>\n",
       "      <th>chatoicmvt_Middlezone_2</th>\n",
       "      <th>chatoicmvt_Middlezone_3</th>\n",
       "      <th>chatoicmvt_Middlezone_4</th>\n",
       "      <th>chatoicmvt_Middlezone_5</th>\n",
       "      <th>chatoicmvt_Middlezone_1_nbr</th>\n",
       "      <th>chatoicmvt_Middlezone_2_nbr</th>\n",
       "      <th>chatoicmvt_Middlezone_3_nbr</th>\n",
       "      <th>chatoicmvt_Middlezone_4_nbr</th>\n",
       "      <th>chatoicmvt_Middlezone_5_nbr</th>\n",
       "    </tr>\n",
       "  </thead>\n",
       "  <tbody>\n",
       "    <tr>\n",
       "      <th>312</th>\n",
       "      <td>hen_58</td>\n",
       "      <td>2016-10-27</td>\n",
       "      <td>2612.0</td>\n",
       "      <td>1481.0</td>\n",
       "      <td>43741.0</td>\n",
       "      <td>6130.0</td>\n",
       "      <td>36.0</td>\n",
       "      <td>54000.0</td>\n",
       "      <td>[2612.0, 1481.0, 43741.0, 6130.0, 36.0]</td>\n",
       "      <td>[0.04837037037037037, 0.027425925925925927, 0....</td>\n",
       "      <td>...</td>\n",
       "      <td>0</td>\n",
       "      <td>[64.0, 25.0, 1010.0]</td>\n",
       "      <td>0</td>\n",
       "      <td>0</td>\n",
       "      <td>0</td>\n",
       "      <td>0</td>\n",
       "      <td>1</td>\n",
       "      <td>0</td>\n",
       "      <td>0</td>\n",
       "      <td>0</td>\n",
       "    </tr>\n",
       "    <tr>\n",
       "      <th>313</th>\n",
       "      <td>hen_58</td>\n",
       "      <td>2016-10-28</td>\n",
       "      <td>0.0</td>\n",
       "      <td>769.0</td>\n",
       "      <td>50176.0</td>\n",
       "      <td>3055.0</td>\n",
       "      <td>0.0</td>\n",
       "      <td>54000.0</td>\n",
       "      <td>[0.0, 769.0, 50176.0, 3055.0, 0.0]</td>\n",
       "      <td>[0.0, 0.014240740740740741, 0.9291851851851852...</td>\n",
       "      <td>...</td>\n",
       "      <td>0</td>\n",
       "      <td>[769.0]</td>\n",
       "      <td>0</td>\n",
       "      <td>[59.0, 15.0]</td>\n",
       "      <td>0</td>\n",
       "      <td>0</td>\n",
       "      <td>1</td>\n",
       "      <td>0</td>\n",
       "      <td>0</td>\n",
       "      <td>0</td>\n",
       "    </tr>\n",
       "    <tr>\n",
       "      <th>314</th>\n",
       "      <td>hen_58</td>\n",
       "      <td>2016-10-29</td>\n",
       "      <td>36.0</td>\n",
       "      <td>600.0</td>\n",
       "      <td>44271.0</td>\n",
       "      <td>9093.0</td>\n",
       "      <td>0.0</td>\n",
       "      <td>54000.0</td>\n",
       "      <td>[36.0, 600.0, 44271.0, 9093.0, 0.0]</td>\n",
       "      <td>[0.0006666666666666666, 0.011111111111111112, ...</td>\n",
       "      <td>...</td>\n",
       "      <td>0</td>\n",
       "      <td>[325.0]</td>\n",
       "      <td>0</td>\n",
       "      <td>[1.0, 61.0, 10.0]</td>\n",
       "      <td>0</td>\n",
       "      <td>0</td>\n",
       "      <td>1</td>\n",
       "      <td>0</td>\n",
       "      <td>0</td>\n",
       "      <td>0</td>\n",
       "    </tr>\n",
       "    <tr>\n",
       "      <th>315</th>\n",
       "      <td>hen_58</td>\n",
       "      <td>2016-10-30</td>\n",
       "      <td>0.0</td>\n",
       "      <td>20.0</td>\n",
       "      <td>50943.0</td>\n",
       "      <td>3037.0</td>\n",
       "      <td>0.0</td>\n",
       "      <td>54000.0</td>\n",
       "      <td>[0.0, 20.0, 50943.0, 3037.0, 0.0]</td>\n",
       "      <td>[0.0, 0.00037037037037037035, 0.94338888888888...</td>\n",
       "      <td>...</td>\n",
       "      <td>0</td>\n",
       "      <td>[1.0, 19.0]</td>\n",
       "      <td>0</td>\n",
       "      <td>[3037.0]</td>\n",
       "      <td>0</td>\n",
       "      <td>0</td>\n",
       "      <td>0</td>\n",
       "      <td>0</td>\n",
       "      <td>1</td>\n",
       "      <td>0</td>\n",
       "    </tr>\n",
       "    <tr>\n",
       "      <th>316</th>\n",
       "      <td>hen_58</td>\n",
       "      <td>2016-10-31</td>\n",
       "      <td>0.0</td>\n",
       "      <td>24.0</td>\n",
       "      <td>52104.0</td>\n",
       "      <td>146.0</td>\n",
       "      <td>1726.0</td>\n",
       "      <td>54000.0</td>\n",
       "      <td>[0.0, 24.0, 52104.0, 146.0, 1726.0]</td>\n",
       "      <td>[0.0, 0.00044444444444444447, 0.96488888888888...</td>\n",
       "      <td>...</td>\n",
       "      <td>0</td>\n",
       "      <td>[6.0]</td>\n",
       "      <td>0</td>\n",
       "      <td>0</td>\n",
       "      <td>0</td>\n",
       "      <td>0</td>\n",
       "      <td>0</td>\n",
       "      <td>0</td>\n",
       "      <td>0</td>\n",
       "      <td>0</td>\n",
       "    </tr>\n",
       "    <tr>\n",
       "      <th>317</th>\n",
       "      <td>hen_58</td>\n",
       "      <td>2016-11-01</td>\n",
       "      <td>0.0</td>\n",
       "      <td>2230.0</td>\n",
       "      <td>51410.0</td>\n",
       "      <td>360.0</td>\n",
       "      <td>0.0</td>\n",
       "      <td>54000.0</td>\n",
       "      <td>[0.0, 2230.0, 51410.0, 360.0, 0.0]</td>\n",
       "      <td>[0.0, 0.041296296296296296, 0.952037037037037,...</td>\n",
       "      <td>...</td>\n",
       "      <td>0</td>\n",
       "      <td>[2091.0]</td>\n",
       "      <td>0</td>\n",
       "      <td>[92.0, 42.0]</td>\n",
       "      <td>0</td>\n",
       "      <td>0</td>\n",
       "      <td>1</td>\n",
       "      <td>0</td>\n",
       "      <td>0</td>\n",
       "      <td>0</td>\n",
       "    </tr>\n",
       "  </tbody>\n",
       "</table>\n",
       "<p>6 rows × 55 columns</p>\n",
       "</div>"
      ],
      "text/plain": [
       "      HenID      level  duration_zone_1  duration_zone_2  duration_zone_3  \\\n",
       "312  hen_58 2016-10-27           2612.0           1481.0          43741.0   \n",
       "313  hen_58 2016-10-28              0.0            769.0          50176.0   \n",
       "314  hen_58 2016-10-29             36.0            600.0          44271.0   \n",
       "315  hen_58 2016-10-30              0.0             20.0          50943.0   \n",
       "316  hen_58 2016-10-31              0.0             24.0          52104.0   \n",
       "317  hen_58 2016-11-01              0.0           2230.0          51410.0   \n",
       "\n",
       "     duration_zone_4  duration_zone_5  verification_daily_total_duration  \\\n",
       "312           6130.0             36.0                            54000.0   \n",
       "313           3055.0              0.0                            54000.0   \n",
       "314           9093.0              0.0                            54000.0   \n",
       "315           3037.0              0.0                            54000.0   \n",
       "316            146.0           1726.0                            54000.0   \n",
       "317            360.0              0.0                            54000.0   \n",
       "\n",
       "                                  dur_values  \\\n",
       "312  [2612.0, 1481.0, 43741.0, 6130.0, 36.0]   \n",
       "313       [0.0, 769.0, 50176.0, 3055.0, 0.0]   \n",
       "314      [36.0, 600.0, 44271.0, 9093.0, 0.0]   \n",
       "315        [0.0, 20.0, 50943.0, 3037.0, 0.0]   \n",
       "316      [0.0, 24.0, 52104.0, 146.0, 1726.0]   \n",
       "317       [0.0, 2230.0, 51410.0, 360.0, 0.0]   \n",
       "\n",
       "                                 dur_values_normalized  \\\n",
       "312  [0.04837037037037037, 0.027425925925925927, 0....   \n",
       "313  [0.0, 0.014240740740740741, 0.9291851851851852...   \n",
       "314  [0.0006666666666666666, 0.011111111111111112, ...   \n",
       "315  [0.0, 0.00037037037037037035, 0.94338888888888...   \n",
       "316  [0.0, 0.00044444444444444447, 0.96488888888888...   \n",
       "317  [0.0, 0.041296296296296296, 0.952037037037037,...   \n",
       "\n",
       "                ...             chatoicmvt_Middlezone_1  \\\n",
       "312             ...                                   0   \n",
       "313             ...                                   0   \n",
       "314             ...                                   0   \n",
       "315             ...                                   0   \n",
       "316             ...                                   0   \n",
       "317             ...                                   0   \n",
       "\n",
       "    chatoicmvt_Middlezone_2 chatoicmvt_Middlezone_3 chatoicmvt_Middlezone_4  \\\n",
       "312    [64.0, 25.0, 1010.0]                       0                       0   \n",
       "313                 [769.0]                       0            [59.0, 15.0]   \n",
       "314                 [325.0]                       0       [1.0, 61.0, 10.0]   \n",
       "315             [1.0, 19.0]                       0                [3037.0]   \n",
       "316                   [6.0]                       0                       0   \n",
       "317                [2091.0]                       0            [92.0, 42.0]   \n",
       "\n",
       "    chatoicmvt_Middlezone_5  chatoicmvt_Middlezone_1_nbr  \\\n",
       "312                       0                            0   \n",
       "313                       0                            0   \n",
       "314                       0                            0   \n",
       "315                       0                            0   \n",
       "316                       0                            0   \n",
       "317                       0                            0   \n",
       "\n",
       "    chatoicmvt_Middlezone_2_nbr chatoicmvt_Middlezone_3_nbr  \\\n",
       "312                           1                           0   \n",
       "313                           1                           0   \n",
       "314                           1                           0   \n",
       "315                           0                           0   \n",
       "316                           0                           0   \n",
       "317                           1                           0   \n",
       "\n",
       "    chatoicmvt_Middlezone_4_nbr chatoicmvt_Middlezone_5_nbr  \n",
       "312                           0                           0  \n",
       "313                           0                           0  \n",
       "314                           0                           0  \n",
       "315                           1                           0  \n",
       "316                           0                           0  \n",
       "317                           0                           0  \n",
       "\n",
       "[6 rows x 55 columns]"
      ]
     },
     "execution_count": 138,
     "metadata": {},
     "output_type": "execute_result"
    }
   ],
   "source": [
    "df_mlp = pd.read_csv(r'D:\\\\vm_exchange\\\\AVIFORUM\\\\data\\\\extracted_info_mobility_VF\\\\VF_time_serie_day_1A_variables.csv',\n",
    "                  sep=';', parse_dates=['level','FirstTimestamp_zone_1','FirstTimestamp_zone_2','FirstTimestamp_zone_3',\n",
    "                                        'FirstTimestamp_zone_4','FirstTimestamp_zone_5'])\n",
    "df_mlp[(df_mlp['HenID']=='hen_58')] #(df_mlp['level']=='2016-10-31')"
   ]
  },
  {
   "cell_type": "code",
   "execution_count": 133,
   "metadata": {},
   "outputs": [
    {
     "data": {
      "text/plain": [
       "'D:\\\\vm_exchange\\\\AVIFORUM\\\\data\\\\extracted_info_mobility_VF\\\\VF_time_serie_day_9B_variables.csv'"
      ]
     },
     "execution_count": 133,
     "metadata": {},
     "output_type": "execute_result"
    }
   ],
   "source": [
    "path_"
   ]
  },
  {
   "cell_type": "code",
   "execution_count": 134,
   "metadata": {},
   "outputs": [
    {
     "data": {
      "text/plain": [
       "['D:\\\\vm_exchange\\\\AVIFORUM\\\\data\\\\extracted_info_mobility_VF\\\\VF_time_serie_day_10A_variables.csv',\n",
       " 'D:\\\\vm_exchange\\\\AVIFORUM\\\\data\\\\extracted_info_mobility_VF\\\\VF_time_serie_day_10B_variables.csv',\n",
       " 'D:\\\\vm_exchange\\\\AVIFORUM\\\\data\\\\extracted_info_mobility_VF\\\\VF_time_serie_day_11A_variables.csv',\n",
       " 'D:\\\\vm_exchange\\\\AVIFORUM\\\\data\\\\extracted_info_mobility_VF\\\\VF_time_serie_day_11B_variables.csv',\n",
       " 'D:\\\\vm_exchange\\\\AVIFORUM\\\\data\\\\extracted_info_mobility_VF\\\\VF_time_serie_day_1A_variables.csv',\n",
       " 'D:\\\\vm_exchange\\\\AVIFORUM\\\\data\\\\extracted_info_mobility_VF\\\\VF_time_serie_day_1B_variables.csv',\n",
       " 'D:\\\\vm_exchange\\\\AVIFORUM\\\\data\\\\extracted_info_mobility_VF\\\\VF_time_serie_day_2A_variables.csv',\n",
       " 'D:\\\\vm_exchange\\\\AVIFORUM\\\\data\\\\extracted_info_mobility_VF\\\\VF_time_serie_day_2B_variables.csv',\n",
       " 'D:\\\\vm_exchange\\\\AVIFORUM\\\\data\\\\extracted_info_mobility_VF\\\\VF_time_serie_day_3A_variables.csv',\n",
       " 'D:\\\\vm_exchange\\\\AVIFORUM\\\\data\\\\extracted_info_mobility_VF\\\\VF_time_serie_day_3B_variables.csv',\n",
       " 'D:\\\\vm_exchange\\\\AVIFORUM\\\\data\\\\extracted_info_mobility_VF\\\\VF_time_serie_day_4A_variables.csv',\n",
       " 'D:\\\\vm_exchange\\\\AVIFORUM\\\\data\\\\extracted_info_mobility_VF\\\\VF_time_serie_day_4B_variables.csv',\n",
       " 'D:\\\\vm_exchange\\\\AVIFORUM\\\\data\\\\extracted_info_mobility_VF\\\\VF_time_serie_day_5A_variables.csv',\n",
       " 'D:\\\\vm_exchange\\\\AVIFORUM\\\\data\\\\extracted_info_mobility_VF\\\\VF_time_serie_day_5B_variables.csv',\n",
       " 'D:\\\\vm_exchange\\\\AVIFORUM\\\\data\\\\extracted_info_mobility_VF\\\\VF_time_serie_day_6A_variables.csv',\n",
       " 'D:\\\\vm_exchange\\\\AVIFORUM\\\\data\\\\extracted_info_mobility_VF\\\\VF_time_serie_day_6B_variables.csv',\n",
       " 'D:\\\\vm_exchange\\\\AVIFORUM\\\\data\\\\extracted_info_mobility_VF\\\\VF_time_serie_day_7A_variables.csv',\n",
       " 'D:\\\\vm_exchange\\\\AVIFORUM\\\\data\\\\extracted_info_mobility_VF\\\\VF_time_serie_day_7B_variables.csv',\n",
       " 'D:\\\\vm_exchange\\\\AVIFORUM\\\\data\\\\extracted_info_mobility_VF\\\\VF_time_serie_day_8A_variables.csv',\n",
       " 'D:\\\\vm_exchange\\\\AVIFORUM\\\\data\\\\extracted_info_mobility_VF\\\\VF_time_serie_day_8B_variables.csv',\n",
       " 'D:\\\\vm_exchange\\\\AVIFORUM\\\\data\\\\extracted_info_mobility_VF\\\\VF_time_serie_day_9A_variables.csv',\n",
       " 'D:\\\\vm_exchange\\\\AVIFORUM\\\\data\\\\extracted_info_mobility_VF\\\\VF_time_serie_day_9B_variables.csv']"
      ]
     },
     "execution_count": 134,
     "metadata": {},
     "output_type": "execute_result"
    }
   ],
   "source": [
    "li_path"
   ]
  },
  {
   "cell_type": "code",
   "execution_count": 137,
   "metadata": {},
   "outputs": [
    {
     "data": {
      "text/html": [
       "<div>\n",
       "<style scoped>\n",
       "    .dataframe tbody tr th:only-of-type {\n",
       "        vertical-align: middle;\n",
       "    }\n",
       "\n",
       "    .dataframe tbody tr th {\n",
       "        vertical-align: top;\n",
       "    }\n",
       "\n",
       "    .dataframe thead th {\n",
       "        text-align: right;\n",
       "    }\n",
       "</style>\n",
       "<table border=\"1\" class=\"dataframe\">\n",
       "  <thead>\n",
       "    <tr style=\"text-align: right;\">\n",
       "      <th></th>\n",
       "      <th>HenID</th>\n",
       "      <th>level</th>\n",
       "      <th>duration_zone_1</th>\n",
       "      <th>duration_zone_2</th>\n",
       "      <th>duration_zone_3</th>\n",
       "      <th>duration_zone_4</th>\n",
       "      <th>duration_zone_5</th>\n",
       "      <th>verification_daily_total_duration</th>\n",
       "      <th>dur_values</th>\n",
       "      <th>dur_values_normalized</th>\n",
       "      <th>...</th>\n",
       "      <th>chatoicmvt_Middlezone_1</th>\n",
       "      <th>chatoicmvt_Middlezone_2</th>\n",
       "      <th>chatoicmvt_Middlezone_3</th>\n",
       "      <th>chatoicmvt_Middlezone_4</th>\n",
       "      <th>chatoicmvt_Middlezone_5</th>\n",
       "      <th>chatoicmvt_Middlezone_1_nbr</th>\n",
       "      <th>chatoicmvt_Middlezone_2_nbr</th>\n",
       "      <th>chatoicmvt_Middlezone_3_nbr</th>\n",
       "      <th>chatoicmvt_Middlezone_4_nbr</th>\n",
       "      <th>chatoicmvt_Middlezone_5_nbr</th>\n",
       "    </tr>\n",
       "  </thead>\n",
       "  <tbody>\n",
       "  </tbody>\n",
       "</table>\n",
       "<p>0 rows × 55 columns</p>\n",
       "</div>"
      ],
      "text/plain": [
       "Empty DataFrame\n",
       "Columns: [HenID, level, duration_zone_1, duration_zone_2, duration_zone_3, duration_zone_4, duration_zone_5, verification_daily_total_duration, dur_values, dur_values_normalized, FirstTimestamp_zone_1, FirstTimestamp_zone_2, FirstTimestamp_zone_3, FirstTimestamp_zone_4, FirstTimestamp_zone_5, Total_number_zone, list_of_durations, zone_list, Max_duration_zones, dico_zone_sortedduration, Total_number_transition, distribution_entropy, SampEnt_order2, t_DU_missingZone_mvtPerc, li_event_chaoticmvt_z_d, nbr_bouts_zone_3, nbr_bouts_zone_2, nbr_bouts_zone_4, nbr_bouts_zone_5, nbr_bouts_zone_1, Max_duration_zone_4, down_missingZone_mvtPerc, up_missingZone_mvtPerc, down_missingZone_mvtNbr, up_missingZone_mvtNbr, max_duration, mean_duration, median_duration, min_duration, percentile_15, percentile_5, percentile_85, percentile_95, variance_duration, dico_z_chaoticmvtMiddleDuration, chatoicmvt_Middlezone_1, chatoicmvt_Middlezone_2, chatoicmvt_Middlezone_3, chatoicmvt_Middlezone_4, chatoicmvt_Middlezone_5, chatoicmvt_Middlezone_1_nbr, chatoicmvt_Middlezone_2_nbr, chatoicmvt_Middlezone_3_nbr, chatoicmvt_Middlezone_4_nbr, chatoicmvt_Middlezone_5_nbr]\n",
       "Index: []\n",
       "\n",
       "[0 rows x 55 columns]"
      ]
     },
     "execution_count": 137,
     "metadata": {},
     "output_type": "execute_result"
    }
   ],
   "source": [
    "df_mlp[(df_mlp['HenID']=='hen_58')] #(df_mlp['level']=='2016-10-31')"
   ]
  },
  {
   "cell_type": "code",
   "execution_count": 127,
   "metadata": {},
   "outputs": [
    {
     "data": {
      "text/plain": [
       "Index(['FirstTimestamp_zone_1', 'FirstTimestamp_zone_1_h',\n",
       "       'FirstTimestamp_zone_2', 'FirstTimestamp_zone_2_h',\n",
       "       'FirstTimestamp_zone_3', 'FirstTimestamp_zone_3_h',\n",
       "       'FirstTimestamp_zone_4', 'FirstTimestamp_zone_4_h',\n",
       "       'FirstTimestamp_zone_5', 'FirstTimestamp_zone_5_h', 'HenID',\n",
       "       'Max_duration_zone_4', 'Max_duration_zones', 'SampEnt_order2',\n",
       "       'Total_number_transition', 'Total_number_zone',\n",
       "       'chatoicmvt_Middlezone_1', 'chatoicmvt_Middlezone_1_nbr',\n",
       "       'chatoicmvt_Middlezone_2', 'chatoicmvt_Middlezone_2_nbr',\n",
       "       'chatoicmvt_Middlezone_3', 'chatoicmvt_Middlezone_3_nbr',\n",
       "       'chatoicmvt_Middlezone_4', 'chatoicmvt_Middlezone_4_nbr',\n",
       "       'chatoicmvt_Middlezone_5', 'chatoicmvt_Middlezone_5_nbr',\n",
       "       'dico_z_chaoticmvtMiddleDuration', 'dico_zone_sortedduration',\n",
       "       'distribution_entropy', 'down_missingZone_mvtNbr',\n",
       "       'down_missingZone_mvtPerc', 'dur_values', 'dur_values_normalized',\n",
       "       'duration_zone_1', 'duration_zone_2', 'duration_zone_3',\n",
       "       'duration_zone_4', 'duration_zone_5', 'egg_level', 'day',\n",
       "       'li_event_chaoticmvt_z_d', 'list_of_durations', 'max_duration',\n",
       "       'mean_duration', 'median_duration', 'min_duration', 'nbr_bouts_zone_1',\n",
       "       'nbr_bouts_zone_2', 'nbr_bouts_zone_3', 'nbr_bouts_zone_4',\n",
       "       'nbr_bouts_zone_5', 'percentile_15', 'percentile_5', 'percentile_85',\n",
       "       'percentile_95', 'session', 't_DU_missingZone_mvtPerc',\n",
       "       'up_missingZone_mvtNbr', 'up_missingZone_mvtPerc', 'variance_duration',\n",
       "       'verification_daily_total_duration', 'zone_list', 'timepoint'],\n",
       "      dtype='object')"
      ]
     },
     "execution_count": 127,
     "metadata": {},
     "output_type": "execute_result"
    }
   ],
   "source": [
    "df_mlp.columns"
   ]
  },
  {
   "cell_type": "code",
   "execution_count": null,
   "metadata": {},
   "outputs": [],
   "source": []
  },
  {
   "cell_type": "code",
   "execution_count": null,
   "metadata": {},
   "outputs": [],
   "source": []
  },
  {
   "cell_type": "code",
   "execution_count": null,
   "metadata": {},
   "outputs": [],
   "source": []
  },
  {
   "cell_type": "code",
   "execution_count": null,
   "metadata": {},
   "outputs": [],
   "source": []
  },
  {
   "cell_type": "code",
   "execution_count": null,
   "metadata": {},
   "outputs": [],
   "source": []
  }
 ],
 "metadata": {
  "kernelspec": {
   "display_name": "Python 3",
   "language": "python",
   "name": "python3"
  },
  "language_info": {
   "codemirror_mode": {
    "name": "ipython",
    "version": 3
   },
   "file_extension": ".py",
   "mimetype": "text/x-python",
   "name": "python",
   "nbconvert_exporter": "python",
   "pygments_lexer": "ipython3",
   "version": "3.6.10"
  }
 },
 "nbformat": 4,
 "nbformat_minor": 2
}
