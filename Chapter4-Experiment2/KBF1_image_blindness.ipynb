{
 "cells": [
  {
   "cell_type": "code",
   "execution_count": 1,
   "metadata": {},
   "outputs": [],
   "source": [
    "#packages\n",
    "import tqdm\n",
    "import os\n",
    "import sys\n",
    "import glob\n",
    "import pandas as pd\n",
    "import shutil \n",
    "import random"
   ]
  },
  {
   "cell_type": "code",
   "execution_count": 2,
   "metadata": {},
   "outputs": [],
   "source": [
    "PACKAGE_PARENT = '../'\n",
    "SCRIPT_DIR = os.path.dirname(os.path.realpath(os.path.join(os.getcwd(), os.path.expanduser('__file__'))))\n",
    "sys.path.append(os.path.normpath(os.path.join(SCRIPT_DIR, PACKAGE_PARENT)))\n",
    "import config_origins as config"
   ]
  },
  {
   "cell_type": "code",
   "execution_count": 3,
   "metadata": {},
   "outputs": [],
   "source": [
    "#initialise parameter\n",
    "path_dataoutput = config.path_dataoutput\n",
    "path_KBF = os.path.join(path_dataoutput, 'HA')\n",
    "# to avoid loosing information in case we run this code with folders containg more/differetn images, we will save the images\n",
    "#into a fodler with a specific ID that you can change\n",
    "id_run_KBF = '27-07-2021'\n",
    "path_saveIMAGE = os.path.join(path_KBF, 'AllPictures_'+id_run_KBF)"
   ]
  },
  {
   "cell_type": "raw",
   "metadata": {},
   "source": [
    "necessary structure for code to work:\n",
    "put ALL AND ONLY ALL FOLDER YOU WANT TO RATE in path_KBF: HA* --> KBF* --> any folder(s) mages must be there"
   ]
  },
  {
   "cell_type": "markdown",
   "metadata": {},
   "source": [
    "## Step 1 - list of images paths"
   ]
  },
  {
   "cell_type": "code",
   "execution_count": 4,
   "metadata": {},
   "outputs": [
    {
     "name": "stdout",
     "output_type": "stream",
     "text": [
      "--------------------- FOLDER: KBF-04-01-2021\n",
      "have 501 documents\n",
      "we have now a TOTAL of 163 JPG images\n",
      "--------------------- FOLDER: KBF-26-07-2021\n",
      "have 660 documents\n",
      "we have now a TOTAL of 372 JPG images\n",
      "We have a total of 372 images\n"
     ]
    }
   ],
   "source": [
    "#search in any folder and create a list of img paths\n",
    "#os.walk: Python method walk() generates the file names in a directory tree by walking the tree top-down or bottom-up\n",
    "#to avoid saving images several times, we will do it specifically for images in the KBF folder:\n",
    "li_allpictures = []\n",
    "for path_ in glob.glob(os.path.join(path_KBF, 'HA*', 'KBF*')):\n",
    "    print('--------------------- FOLDER: %s'%path_.split('\\\\')[-1])\n",
    "    li_allDocuments = [os.path.join(path, name) for path, subdirs, files in os.walk(path_) for name in files]\n",
    "    print('have %d documents'%len(li_allDocuments))\n",
    "    li_allpictures.extend([x for x in li_allDocuments if x.endswith('.JPG')])\n",
    "    print('we have now a TOTAL of %d JPG images'%len(li_allpictures))\n",
    "if len(li_allpictures)!=len(set(li_allpictures)):\n",
    "    print('YOU HAVE DUPLICATE IMAGE NAME')\n",
    "    sys.exit()\n",
    "print('We have a total of %d images'%len(li_allpictures))"
   ]
  },
  {
   "cell_type": "markdown",
   "metadata": {},
   "source": [
    "## Step 2 - put all images into one folder (with all HA) & random id number"
   ]
  },
  {
   "cell_type": "code",
   "execution_count": 5,
   "metadata": {},
   "outputs": [],
   "source": [
    "#folder to save images with correct ID in the ONE folder including all images from all HA\n",
    "if not os.path.exists(path_saveIMAGE):\n",
    "        os.makedirs(path_saveIMAGE)"
   ]
  },
  {
   "cell_type": "code",
   "execution_count": 6,
   "metadata": {},
   "outputs": [
    {
     "name": "stderr",
     "output_type": "stream",
     "text": [
      "372it [00:42,  8.66it/s]\n"
     ]
    }
   ],
   "source": [
    "#shuffle the images path list to have a random id (that corresponds to the image order in that list)\n",
    "random.seed(0) #fix random seed for reproducibility \n",
    "#sort the list first\n",
    "li_allpictures = sorted(li_allpictures)\n",
    "random.shuffle(li_allpictures)\n",
    "li_df = []\n",
    "for i,path_img in tqdm.tqdm(enumerate(li_allpictures)):\n",
    "    #copy the image into ONE folder incldgin all HA, in a CODED way for blindness\n",
    "    #in one folder\n",
    "    new_path_img = os.path.join(path_KBF, path_saveIMAGE, str(i)+'.jpg')\n",
    "    shutil.copy(path_img, new_path_img) \n",
    "    #keep inforation about that image\n",
    "    li_df.append({'initial_path_img':path_img, 'actual_path_img':new_path_img, 'imageID':i})"
   ]
  },
  {
   "cell_type": "markdown",
   "metadata": {},
   "source": [
    "## Step 3 - CSV file for grading the pictures"
   ]
  },
  {
   "cell_type": "markdown",
   "metadata": {},
   "source": [
    "df_imgID = pd.read_csv(os.path.join(path_KBF, path_saveIMAGE,'DF_IMAGE_INFO.csv'), sep=';')\n",
    "print(df_imgID.shape)\n",
    "df_imgID.head(3)"
   ]
  },
  {
   "cell_type": "code",
   "execution_count": 7,
   "metadata": {},
   "outputs": [
    {
     "name": "stdout",
     "output_type": "stream",
     "text": [
      "(372, 5)\n"
     ]
    },
    {
     "data": {
      "text/html": [
       "<div>\n",
       "<style scoped>\n",
       "    .dataframe tbody tr th:only-of-type {\n",
       "        vertical-align: middle;\n",
       "    }\n",
       "\n",
       "    .dataframe tbody tr th {\n",
       "        vertical-align: top;\n",
       "    }\n",
       "\n",
       "    .dataframe thead th {\n",
       "        text-align: right;\n",
       "    }\n",
       "</style>\n",
       "<table border=\"1\" class=\"dataframe\">\n",
       "  <thead>\n",
       "    <tr style=\"text-align: right;\">\n",
       "      <th></th>\n",
       "      <th>initial_path_img</th>\n",
       "      <th>actual_path_img</th>\n",
       "      <th>imageID</th>\n",
       "      <th>HAID</th>\n",
       "      <th>random_order1</th>\n",
       "    </tr>\n",
       "  </thead>\n",
       "  <tbody>\n",
       "    <tr>\n",
       "      <th>0</th>\n",
       "      <td>G:\\VPHI\\Welfare\\2- Research Projects\\OFHE2.Ori...</td>\n",
       "      <td>G:\\VPHI\\Welfare\\2- Research Projects\\OFHE2.Ori...</td>\n",
       "      <td>0</td>\n",
       "      <td>HA2</td>\n",
       "      <td>146</td>\n",
       "    </tr>\n",
       "    <tr>\n",
       "      <th>1</th>\n",
       "      <td>G:\\VPHI\\Welfare\\2- Research Projects\\OFHE2.Ori...</td>\n",
       "      <td>G:\\VPHI\\Welfare\\2- Research Projects\\OFHE2.Ori...</td>\n",
       "      <td>1</td>\n",
       "      <td>HA2</td>\n",
       "      <td>200</td>\n",
       "    </tr>\n",
       "    <tr>\n",
       "      <th>2</th>\n",
       "      <td>G:\\VPHI\\Welfare\\2- Research Projects\\OFHE2.Ori...</td>\n",
       "      <td>G:\\VPHI\\Welfare\\2- Research Projects\\OFHE2.Ori...</td>\n",
       "      <td>2</td>\n",
       "      <td>HA2</td>\n",
       "      <td>202</td>\n",
       "    </tr>\n",
       "  </tbody>\n",
       "</table>\n",
       "</div>"
      ],
      "text/plain": [
       "                                    initial_path_img  \\\n",
       "0  G:\\VPHI\\Welfare\\2- Research Projects\\OFHE2.Ori...   \n",
       "1  G:\\VPHI\\Welfare\\2- Research Projects\\OFHE2.Ori...   \n",
       "2  G:\\VPHI\\Welfare\\2- Research Projects\\OFHE2.Ori...   \n",
       "\n",
       "                                     actual_path_img  imageID HAID  \\\n",
       "0  G:\\VPHI\\Welfare\\2- Research Projects\\OFHE2.Ori...        0  HA2   \n",
       "1  G:\\VPHI\\Welfare\\2- Research Projects\\OFHE2.Ori...        1  HA2   \n",
       "2  G:\\VPHI\\Welfare\\2- Research Projects\\OFHE2.Ori...        2  HA2   \n",
       "\n",
       "   random_order1  \n",
       "0            146  \n",
       "1            200  \n",
       "2            202  "
      ]
     },
     "execution_count": 7,
     "metadata": {},
     "output_type": "execute_result"
    }
   ],
   "source": [
    "df_imgID = pd.DataFrame(li_df)\n",
    "df_imgID['HAID'] = df_imgID['initial_path_img'].map(lambda x: x.split('\\\\KBF')[0].split('\\\\')[-1])\n",
    "#add a random order for intra reliability\n",
    "random.seed(1)\n",
    "li_random_order = list(range(0,df_imgID.shape[0]))\n",
    "random.shuffle(li_random_order)\n",
    "df_imgID['random_order1'] = li_random_order\n",
    "df_imgID.to_csv(os.path.join(path_KBF, path_saveIMAGE,'DF_IMAGE_INFO.csv'), index=False, sep=';')\n",
    "print(df_imgID.shape)\n",
    "df_imgID.head(3)"
   ]
  },
  {
   "cell_type": "code",
   "execution_count": null,
   "metadata": {},
   "outputs": [],
   "source": []
  },
  {
   "cell_type": "code",
   "execution_count": null,
   "metadata": {},
   "outputs": [],
   "source": []
  },
  {
   "cell_type": "code",
   "execution_count": null,
   "metadata": {},
   "outputs": [],
   "source": []
  },
  {
   "cell_type": "code",
   "execution_count": null,
   "metadata": {},
   "outputs": [],
   "source": []
  },
  {
   "cell_type": "code",
   "execution_count": null,
   "metadata": {},
   "outputs": [],
   "source": []
  },
  {
   "cell_type": "code",
   "execution_count": null,
   "metadata": {},
   "outputs": [],
   "source": []
  },
  {
   "cell_type": "code",
   "execution_count": null,
   "metadata": {},
   "outputs": [],
   "source": []
  },
  {
   "cell_type": "code",
   "execution_count": null,
   "metadata": {},
   "outputs": [],
   "source": []
  }
 ],
 "metadata": {
  "kernelspec": {
   "display_name": "Python 3 (ipykernel)",
   "language": "python",
   "name": "python3"
  },
  "language_info": {
   "codemirror_mode": {
    "name": "ipython",
    "version": 3
   },
   "file_extension": ".py",
   "mimetype": "text/x-python",
   "name": "python",
   "nbconvert_exporter": "python",
   "pygments_lexer": "ipython3",
   "version": "3.8.12"
  }
 },
 "nbformat": 4,
 "nbformat_minor": 2
}
