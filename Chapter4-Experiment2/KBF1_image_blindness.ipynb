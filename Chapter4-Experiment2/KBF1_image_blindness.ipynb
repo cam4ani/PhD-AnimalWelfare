{
 "cells": [
  {
   "cell_type": "code",
   "execution_count": 1,
   "metadata": {},
   "outputs": [],
   "source": [
    "#packages\n",
    "import tqdm\n",
    "import os\n",
    "import sys\n",
    "import glob\n",
    "import pandas as pd\n",
    "import shutil \n",
    "import random"
   ]
  },
  {
   "cell_type": "code",
   "execution_count": 2,
   "metadata": {},
   "outputs": [],
   "source": [
    "PACKAGE_PARENT = '../'\n",
    "SCRIPT_DIR = os.path.dirname(os.path.realpath(os.path.join(os.getcwd(), os.path.expanduser('__file__'))))\n",
    "sys.path.append(os.path.normpath(os.path.join(SCRIPT_DIR, PACKAGE_PARENT)))\n",
    "import config_exp2 as config"
   ]
  },
  {
   "cell_type": "code",
   "execution_count": 5,
   "metadata": {},
   "outputs": [
    {
     "data": {
      "text/plain": [
       "'G:\\\\VPHI\\\\Welfare\\\\2- Research Projects\\\\Camille Montalcini\\\\Origins.GS\\\\DataOutput\\\\HA\\\\AllPicturesKBF_all'"
      ]
     },
     "execution_count": 5,
     "metadata": {},
     "output_type": "execute_result"
    }
   ],
   "source": [
    "#initialise parameter\n",
    "path_extracted_HA = config.path_extracted_HA\n",
    "# to avoid loosing information in case we run this code with folders containg more/differetn images, we will save the images\n",
    "#into a fodler with a specific ID that you can change\n",
    "id_run_KBF = 'all'\n",
    "path_saveIMAGE = os.path.join(path_extracted_HA, 'AllPicturesKBF_'+id_run_KBF)\n",
    "#folder to save images with correct ID in the ONE folder including all images from all HA\n",
    "if not os.path.exists(path_saveIMAGE):\n",
    "        os.makedirs(path_saveIMAGE)\n",
    "path_saveIMAGE"
   ]
  },
  {
   "cell_type": "raw",
   "metadata": {},
   "source": [
    "necessary structure for code to work:\n",
    "put ALL AND ONLY ALL FOLDER YOU WANT TO RATE in path_KBF: HA* --> KBF* --> any folder(s) mages must be there"
   ]
  },
  {
   "cell_type": "markdown",
   "metadata": {},
   "source": [
    "## Step 1 - list of images paths"
   ]
  },
  {
   "cell_type": "code",
   "execution_count": 8,
   "metadata": {},
   "outputs": [
    {
     "name": "stdout",
     "output_type": "stream",
     "text": [
      "--------------------- FOLDER: KBF_30112021\n",
      "have 555 documents\n",
      "we have now a TOTAL of 181 JPG images\n",
      "--------------------- FOLDER: KBF_Origines08022022\n",
      "have 568 documents\n",
      "we have now a TOTAL of 366 JPG images\n",
      "--------------------- FOLDER: KBF_OriginR312.04.2022\n",
      "have 559 documents\n",
      "we have now a TOTAL of 548 JPG images\n",
      "--------------------- FOLDER: KBF_Origin05072022\n",
      "have 634 documents\n",
      "we have now a TOTAL of 755 JPG images\n",
      "We have a total of 755 images\n"
     ]
    }
   ],
   "source": [
    "#search in any folder and create a list of img paths\n",
    "#os.walk: Python method walk() generates the file names in a directory tree by walking the tree top-down or bottom-up\n",
    "#to avoid saving images several times, we will do it specifically for images in the KBF folder:\n",
    "li_allpictures = []\n",
    "for path_ in glob.glob(os.path.join(path_extracted_HA, 'HA*', 'KBF*')):\n",
    "    print('--------------------- FOLDER: %s'%path_.split('\\\\')[-1])\n",
    "    li_allDocuments = [os.path.join(path, name) for path, subdirs, files in os.walk(path_) for name in files]\n",
    "    print('have %d documents'%len(li_allDocuments))\n",
    "    li_allpictures.extend([x for x in li_allDocuments if x.endswith('.JPG')])\n",
    "    print('we have now a TOTAL of %d JPG images'%len(li_allpictures))\n",
    "if len(li_allpictures)!=len(set(li_allpictures)):\n",
    "    print('YOU HAVE DUPLICATE IMAGE NAME')\n",
    "    sys.exit()\n",
    "print('We have a total of %d images'%len(li_allpictures))"
   ]
  },
  {
   "cell_type": "markdown",
   "metadata": {},
   "source": [
    "## Step 2 - put all images into one folder (with all HA) & random id number"
   ]
  },
  {
   "cell_type": "code",
   "execution_count": 10,
   "metadata": {},
   "outputs": [
    {
     "name": "stderr",
     "output_type": "stream",
     "text": [
      "755it [01:11, 10.58it/s]\n"
     ]
    }
   ],
   "source": [
    "#shuffle the images path list to have a random id (that corresponds to the image order in that list)\n",
    "random.seed(0) #fix random seed for reproducibility \n",
    "#sort the list first\n",
    "li_allpictures = sorted(li_allpictures)\n",
    "random.shuffle(li_allpictures)\n",
    "li_df = []\n",
    "for i,path_img in tqdm.tqdm(enumerate(li_allpictures)):\n",
    "    #copy the image into ONE folder including all HA, in a CODED (the name and thus the order is a random number) way for \n",
    "    #blindness\n",
    "    new_path_img = os.path.join(path_extracted_HA, path_saveIMAGE, str(i)+'.jpg')\n",
    "    shutil.copy(path_img, new_path_img) \n",
    "    #keep information about that image\n",
    "    li_df.append({'initial_path_img':path_img, 'actual_path_img':new_path_img, 'imageID':i})"
   ]
  },
  {
   "cell_type": "markdown",
   "metadata": {},
   "source": [
    "## Step 3 - CSV file for grading the pictures"
   ]
  },
  {
   "cell_type": "markdown",
   "metadata": {},
   "source": [
    "df_imgID = pd.read_csv(os.path.join(path_extracted_HA, path_saveIMAGE,'DF_IMAGE_INFO.csv'), sep=';')\n",
    "print(df_imgID.shape)\n",
    "df_imgID.head(3)"
   ]
  },
  {
   "cell_type": "code",
   "execution_count": 18,
   "metadata": {},
   "outputs": [
    {
     "name": "stdout",
     "output_type": "stream",
     "text": [
      "(755, 5)\n"
     ]
    },
    {
     "data": {
      "text/html": [
       "<div>\n",
       "<style scoped>\n",
       "    .dataframe tbody tr th:only-of-type {\n",
       "        vertical-align: middle;\n",
       "    }\n",
       "\n",
       "    .dataframe tbody tr th {\n",
       "        vertical-align: top;\n",
       "    }\n",
       "\n",
       "    .dataframe thead th {\n",
       "        text-align: right;\n",
       "    }\n",
       "</style>\n",
       "<table border=\"1\" class=\"dataframe\">\n",
       "  <thead>\n",
       "    <tr style=\"text-align: right;\">\n",
       "      <th></th>\n",
       "      <th>initial_path_img</th>\n",
       "      <th>actual_path_img</th>\n",
       "      <th>imageID</th>\n",
       "      <th>HAID</th>\n",
       "      <th>random_order1</th>\n",
       "    </tr>\n",
       "  </thead>\n",
       "  <tbody>\n",
       "    <tr>\n",
       "      <th>0</th>\n",
       "      <td>G:\\VPHI\\Welfare\\2- Research Projects\\Camille M...</td>\n",
       "      <td>G:\\VPHI\\Welfare\\2- Research Projects\\Camille M...</td>\n",
       "      <td>0</td>\n",
       "      <td>HA2</td>\n",
       "      <td>330</td>\n",
       "    </tr>\n",
       "    <tr>\n",
       "      <th>1</th>\n",
       "      <td>G:\\VPHI\\Welfare\\2- Research Projects\\Camille M...</td>\n",
       "      <td>G:\\VPHI\\Welfare\\2- Research Projects\\Camille M...</td>\n",
       "      <td>1</td>\n",
       "      <td>HA3</td>\n",
       "      <td>77</td>\n",
       "    </tr>\n",
       "    <tr>\n",
       "      <th>2</th>\n",
       "      <td>G:\\VPHI\\Welfare\\2- Research Projects\\Camille M...</td>\n",
       "      <td>G:\\VPHI\\Welfare\\2- Research Projects\\Camille M...</td>\n",
       "      <td>2</td>\n",
       "      <td>HA1</td>\n",
       "      <td>50</td>\n",
       "    </tr>\n",
       "  </tbody>\n",
       "</table>\n",
       "</div>"
      ],
      "text/plain": [
       "                                    initial_path_img  \\\n",
       "0  G:\\VPHI\\Welfare\\2- Research Projects\\Camille M...   \n",
       "1  G:\\VPHI\\Welfare\\2- Research Projects\\Camille M...   \n",
       "2  G:\\VPHI\\Welfare\\2- Research Projects\\Camille M...   \n",
       "\n",
       "                                     actual_path_img  imageID HAID  \\\n",
       "0  G:\\VPHI\\Welfare\\2- Research Projects\\Camille M...        0  HA2   \n",
       "1  G:\\VPHI\\Welfare\\2- Research Projects\\Camille M...        1  HA3   \n",
       "2  G:\\VPHI\\Welfare\\2- Research Projects\\Camille M...        2  HA1   \n",
       "\n",
       "   random_order1  \n",
       "0            330  \n",
       "1             77  \n",
       "2             50  "
      ]
     },
     "execution_count": 18,
     "metadata": {},
     "output_type": "execute_result"
    }
   ],
   "source": [
    "df_imgID = pd.DataFrame(li_df)\n",
    "df_imgID['HAID'] = df_imgID['initial_path_img'].map(lambda x: x.split('HA\\\\')[1].split('\\\\')[0])\n",
    "#add a random order for intra reliability\n",
    "random.seed(1)\n",
    "li_random_order = list(range(0,df_imgID.shape[0]))\n",
    "random.shuffle(li_random_order)\n",
    "df_imgID['random_order1'] = li_random_order\n",
    "df_imgID.to_csv(os.path.join(path_extracted_HA, path_saveIMAGE,'DF_IMAGE_INFO.csv'), index=False, sep=';')\n",
    "print(df_imgID.shape)\n",
    "df_imgID.head(3)"
   ]
  },
  {
   "cell_type": "code",
   "execution_count": 19,
   "metadata": {},
   "outputs": [],
   "source": [
    "df_imgID.to_csv(os.path.join(path_extracted_HA, path_saveIMAGE,'DF_IMAGE_INFO_comma.csv'), index=False, sep=',')"
   ]
  },
  {
   "cell_type": "code",
   "execution_count": 21,
   "metadata": {},
   "outputs": [
    {
     "data": {
      "text/plain": [
       "HAID\n",
       "HA1    181\n",
       "HA2    185\n",
       "HA3    182\n",
       "HA4    207\n",
       "Name: initial_path_img, dtype: int64"
      ]
     },
     "execution_count": 21,
     "metadata": {},
     "output_type": "execute_result"
    }
   ],
   "source": [
    "df_imgID.groupby(['HAID'])['initial_path_img'].count()"
   ]
  },
  {
   "cell_type": "code",
   "execution_count": null,
   "metadata": {},
   "outputs": [],
   "source": []
  },
  {
   "cell_type": "code",
   "execution_count": null,
   "metadata": {},
   "outputs": [],
   "source": []
  },
  {
   "cell_type": "code",
   "execution_count": null,
   "metadata": {},
   "outputs": [],
   "source": []
  },
  {
   "cell_type": "code",
   "execution_count": null,
   "metadata": {},
   "outputs": [],
   "source": []
  },
  {
   "cell_type": "code",
   "execution_count": null,
   "metadata": {},
   "outputs": [],
   "source": []
  }
 ],
 "metadata": {
  "kernelspec": {
   "display_name": "Python 3 (ipykernel)",
   "language": "python",
   "name": "python3"
  },
  "language_info": {
   "codemirror_mode": {
    "name": "ipython",
    "version": 3
   },
   "file_extension": ".py",
   "mimetype": "text/x-python",
   "name": "python",
   "nbconvert_exporter": "python",
   "pygments_lexer": "ipython3",
   "version": "3.8.12"
  }
 },
 "nbformat": 4,
 "nbformat_minor": 2
}
