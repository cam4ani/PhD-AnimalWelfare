{
 "cells": [
  {
   "cell_type": "code",
   "execution_count": 1,
   "metadata": {},
   "outputs": [
    {
     "name": "stderr",
     "output_type": "stream",
     "text": [
      "Loading required package: lpSolve\n",
      "\n"
     ]
    }
   ],
   "source": [
    "library('irr') #kappa\n",
    "library('DescTools') #Lin's concordance correlation coefficient (CCC) is the concordance"
   ]
  },
  {
   "cell_type": "code",
   "execution_count": 2,
   "metadata": {},
   "outputs": [
    {
     "data": {
      "text/plain": [
       "\n",
       "To cite package 'DescTools' in publications use:\n",
       "\n",
       "  Andri Signorell et mult. al. (2021). DescTools: Tools for descriptive\n",
       "  statistics. R package version 0.99.41.\n",
       "\n",
       "A BibTeX entry for LaTeX users is\n",
       "\n",
       "  @Manual{,\n",
       "    title = {{DescTools}: Tools for Descriptive Statistics},\n",
       "    author = {Signorell {Andri et mult. al.}},\n",
       "    year = {2021},\n",
       "    note = {R package version 0.99.41},\n",
       "    url = {https://cran.r-project.org/package=DescTools},\n",
       "  }\n"
      ]
     },
     "metadata": {},
     "output_type": "display_data"
    }
   ],
   "source": [
    "citation('DescTools')"
   ]
  },
  {
   "cell_type": "code",
   "execution_count": 3,
   "metadata": {},
   "outputs": [],
   "source": [
    "li_cont_T = c('CombPecks','Injuries','Pododermatitis')\n",
    "li_cat_T = c('Diarrhea', 'Bumblefoot','HasBumblefoot','GeneralToe')\n",
    "li_cont_F = c('Feathers','NeckFeather', 'BreastFeather', 'CloacaFeather', 'BackFeather', 'WingFeather','TailFeather')"
   ]
  },
  {
   "cell_type": "markdown",
   "metadata": {},
   "source": [
    "# Toes - Inter"
   ]
  },
  {
   "cell_type": "code",
   "execution_count": 4,
   "metadata": {},
   "outputs": [
    {
     "name": "stdout",
     "output_type": "stream",
     "text": [
      "'data.frame':\t2074 obs. of  4 variables:\n",
      " $ ID4Rea    : Factor w/ 300 levels \"pen10_HA2_18orange_1\",..: 1 2 3 4 5 6 7 8 9 10 ...\n",
      " $ C         : num  0 0 50 40 15 10 25 10 25 25 ...\n",
      " $ M         : num  0 0 50 50 50 25 25 0 10 0 ...\n",
      " $ HAvariable: Factor w/ 7 levels \"Bumblefoot\",\"CombPecks\",..: 2 2 2 2 2 2 2 2 2 2 ...\n"
     ]
    }
   ],
   "source": [
    "#download data\n",
    "path_analysis = \"G:/VPHI/Welfare/2- Research Projects/OFHE2.OriginsE2/DataOutput/HA\"\n",
    "df = read.csv(file.path(path_analysis,\"df_HA_T_inter_pivot.csv\"),  header = TRUE, sep = \";\")\n",
    "str(df)\n",
    "\n",
    "#create a file to register data\n",
    "sink(file.path(path_analysis,'ToesRealiabilityInter.txt'))\n",
    "\n",
    "#continuous data\n",
    "for (var in li_cont_T){\n",
    "    cat(paste0('\\n-----------------',var), file=file.path(path_analysis,'ToesRealiabilityInter.txt'), append=TRUE)\n",
    "    cat(paste0('\\n------------- CCC'), file=file.path(path_analysis,'ToesRealiabilityInter.txt'), append=TRUE)\n",
    "    capture.output(CCC(x=subset(df, df$HAvariable==var)[['C']], \n",
    "                       y=subset(df, df$HAvariable==var)[['M']], ci = \"z-transform\", conf.level = 0.95, na.rm = FALSE)$rho.c,\n",
    "                   file=file.path(path_analysis,'ToesRealiabilityInter.txt'), append=TRUE)}\n",
    "\n",
    "#categorical/binary data\n",
    "for (var in li_cat_T){\n",
    "    cat(paste0('\\n-----------------',var),file=file.path(path_analysis,'ToesRealiabilityInter.txt'), append=TRUE)\n",
    "    df_ = data.frame(data.frame(subset(df, df$HAvariable==var)[['M']]),\n",
    "                     data.frame(subset(df, df$HAvariable==var)[['C']]))\n",
    "    capture.output(kappa2(df_[,c(1,2)], \"unweighted\"), \n",
    "                   file=file.path(path_analysis,'ToesRealiabilityInter.txt'), append=TRUE)}"
   ]
  },
  {
   "cell_type": "markdown",
   "metadata": {},
   "source": [
    "# Toes - Intra"
   ]
  },
  {
   "cell_type": "code",
   "execution_count": 5,
   "metadata": {},
   "outputs": [
    {
     "name": "stdout",
     "output_type": "stream",
     "text": [
      "'data.frame':\t2076 obs. of  5 variables:\n",
      " $ ID4Rea    : Factor w/ 150 levels \"pen10_HA2_18orange\",..: 1 1 2 2 3 3 4 4 5 5 ...\n",
      " $ Person_toe: Factor w/ 2 levels \"C\",\"M\": 1 2 1 2 1 2 1 2 1 2 ...\n",
      " $ X1.0      : num  0 0 50 50 15 50 25 25 25 10 ...\n",
      " $ X2.0      : num  0 0 40 50 10 25 10 0 25 0 ...\n",
      " $ HAvariable: Factor w/ 7 levels \"Bumblefoot\",\"CombPecks\",..: 2 2 2 2 2 2 2 2 2 2 ...\n"
     ]
    }
   ],
   "source": [
    "#download data\n",
    "path_analysis = \"G:/VPHI/Welfare/2- Research Projects/OFHE2.OriginsE2/DataOutput/HA\"\n",
    "df = read.csv(file.path(path_analysis,\"df_HA_T_intra_pivot.csv\"),  header = TRUE, sep = \";\")\n",
    "str(df)\n",
    "\n",
    "#create a file to register data\n",
    "sink(file.path(path_analysis,'ToesRealiabilityIntra.txt'))\n",
    "\n",
    "#continuous data with ICC & CCC\n",
    "for (person in unique(df[['Person_toe']])){\n",
    "    #print(person)\n",
    "    if (is.na(person)==FALSE){\n",
    "        cat(paste0('\\n--------------------------------------------------', person),\n",
    "            file=file.path(path_analysis,'ToesRealiabilityIntra.txt'), append=TRUE)\n",
    "        \n",
    "        #continuous data with CCC\n",
    "        for (var in li_cont_T){\n",
    "            #print(var)\n",
    "            cat(paste0('\\n-----------------',var), file=file.path(path_analysis,'ToesRealiabilityIntra.txt'), append=TRUE)\n",
    "            x=subset(df, (df$HAvariable==var) & (df$Person_toe==person))[['X1.0']]\n",
    "            y=subset(df, (df$HAvariable==var) & (df$Person_toe==person))[['X2.0']]\n",
    "            cat(paste0('\\n------------ CCC'), file=file.path(path_analysis,'ToesRealiabilityIntra.txt'), append=TRUE)            \n",
    "            capture.output(CCC(x=x, y=y, ci=\"z-transform\", conf.level=0.95, na.rm=FALSE)$rho.c,\n",
    "                       file=file.path(path_analysis,'ToesRealiabilityIntra.txt'), append=TRUE)}\n",
    "            \n",
    "        #categorical/binary data \n",
    "        for (var in li_cat_T){\n",
    "            cat(paste0('\\n-----------------',var),file=file.path(path_analysis,'ToesRealiabilityIntra.txt'), append=TRUE)\n",
    "            df_ = data.frame(data.frame(subset(df, (df$HAvariable==var) & (df$Person_toe==person))[['X1.0']]),\n",
    "                             data.frame(subset(df, (df$HAvariable==var) & (df$Person_toe==person))[['X2.0']]))\n",
    "            capture.output(kappa2(df_[,c(1,2)], \"unweighted\"), \n",
    "                           file=file.path(path_analysis,'ToesRealiabilityIntra.txt'), append=TRUE)\n",
    "        }}}"
   ]
  },
  {
   "cell_type": "markdown",
   "metadata": {},
   "source": [
    "# Feather - Inter"
   ]
  },
  {
   "cell_type": "code",
   "execution_count": 6,
   "metadata": {},
   "outputs": [
    {
     "name": "stdout",
     "output_type": "stream",
     "text": [
      "'data.frame':\t1645 obs. of  4 variables:\n",
      " $ ID4Rea    : Factor w/ 235 levels \"pen10_HA2_18orange_1\",..: 1 2 3 4 5 6 7 8 9 10 ...\n",
      " $ sabine    : num  100 100 90.7 96.3 99.3 ...\n",
      " $ satar     : num  99.3 100 100 100 100 ...\n",
      " $ HAvariable: Factor w/ 7 levels \"BackFeather\",..: 4 4 4 4 4 4 4 4 4 4 ...\n"
     ]
    }
   ],
   "source": [
    "#download data\n",
    "path_analysis = \"G:/VPHI/Welfare/2- Research Projects/OFHE2.OriginsE2/DataOutput/HA\"\n",
    "df = read.csv(file.path(path_analysis,\"df_HA_F_inter_pivot.csv\"), header = TRUE, sep = \";\")\n",
    "str(df)\n",
    "\n",
    "#create a file to register data\n",
    "sink(file.path(path_analysis,'FeathersRealiabilityInter.txt'))\n",
    "\n",
    "#continuous data\n",
    "for (var in li_cont_F){\n",
    "    cat(paste0('\\n-----------------',var), file=file.path(path_analysis,'FeathersRealiabilityInter.txt'), append=TRUE)\n",
    "    cat(paste0('\\n------------- CCC'), file=file.path(path_analysis,'FeathersRealiabilityInter.txt'), append=TRUE)\n",
    "    capture.output(CCC(x=subset(df, df$HAvariable==var)[['sabine']], \n",
    "                       y=subset(df, df$HAvariable==var)[['satar']], ci = \"z-transform\", conf.level = 0.95, na.rm = FALSE)$rho.c,\n",
    "                   file=file.path(path_analysis,'FeathersRealiabilityInter.txt'), append=TRUE)}"
   ]
  },
  {
   "cell_type": "markdown",
   "metadata": {},
   "source": [
    "# Feather - Intra"
   ]
  },
  {
   "cell_type": "code",
   "execution_count": 7,
   "metadata": {},
   "outputs": [
    {
     "name": "stdout",
     "output_type": "stream",
     "text": [
      "'data.frame':\t1645 obs. of  6 variables:\n",
      " $ ID4Rea        : Factor w/ 118 levels \"pen10_HA2_18orange\",..: 1 1 2 2 3 3 4 4 5 5 ...\n",
      " $ HAID          : Factor w/ 4 levels \"HA2\",\"HA3\",\"HA4\",..: 1 1 1 1 1 1 1 1 2 2 ...\n",
      " $ Person_feather: Factor w/ 2 levels \"sabine\",\"satar\": 1 2 1 2 1 2 1 2 1 2 ...\n",
      " $ X1.0          : num  100 99.3 90.7 100 99.3 ...\n",
      " $ X2.0          : num  100 100 96.3 100 100 ...\n",
      " $ HAvariable    : Factor w/ 7 levels \"BackFeather\",..: 4 4 4 4 4 4 4 4 4 4 ...\n"
     ]
    }
   ],
   "source": [
    "#download data\n",
    "path_analysis = \"G:/VPHI/Welfare/2- Research Projects/OFHE2.OriginsE2/DataOutput/HA\"\n",
    "df = read.csv(file.path(path_analysis,\"df_HA_F_intra_pivot.csv\"),  header = TRUE, sep = \";\")\n",
    "str(df)\n",
    "\n",
    "#create a file to register data\n",
    "sink(file.path(path_analysis,'FeatherRealiabilityIntra.txt'))\n",
    "\n",
    "#continuous data with CCC\n",
    "for (person in unique(df[['Person_feather']])){\n",
    "    #print(person)\n",
    "    if (is.na(person)==FALSE){\n",
    "        cat(paste0('\\n--------------------------------------------------', person),\n",
    "            file=file.path(path_analysis,'FeatherRealiabilityIntra.txt'), append=TRUE)\n",
    "        \n",
    "        #continuous data with CCC\n",
    "        for (var in li_cont_F){\n",
    "            #print(var)\n",
    "            cat(paste0('\\n-----------------',var), file=file.path(path_analysis,'FeatherRealiabilityIntra.txt'), append=TRUE)\n",
    "            x=subset(df, (df$HAvariable==var) & (df$Person_feather==person))[['X1.0']]\n",
    "            y=subset(df, (df$HAvariable==var) & (df$Person_feather==person))[['X2.0']]\n",
    "            cat(paste0('------------ CCC'), file=file.path(path_analysis,'FeatherRealiabilityIntra.txt'), append=TRUE)            \n",
    "            capture.output(CCC(x=x, y=y, ci=\"z-transform\", conf.level=0.95, na.rm=FALSE)$rho.c,\n",
    "                       file=file.path(path_analysis,'FeatherRealiabilityIntra.txt'), append=TRUE)\n",
    "        }}}"
   ]
  },
  {
   "cell_type": "markdown",
   "metadata": {},
   "source": [
    "df = as.data.frame(CCC(x=x, y=y, ci=\"z-transform\", conf.level=0.95, na.rm=FALSE)$rho.c, col.names = names(x), stringsAsFactors = FALSE)\n",
    "df = as.data.frame(c(''))\n",
    "df_ = as.data.frame(CCC(x=x, y=y, ci=\"z-transform\", conf.level=0.95, na.rm=FALSE)$rho.c, col.names = names(x), stringsAsFactors = FALSE)\n",
    "df = rbind(df, df_)\n",
    "df"
   ]
  },
  {
   "cell_type": "code",
   "execution_count": null,
   "metadata": {},
   "outputs": [],
   "source": [
    "#nn parametric:"
   ]
  },
  {
   "cell_type": "code",
   "execution_count": 9,
   "metadata": {},
   "outputs": [
    {
     "data": {
      "image/png": "[encoded data removed]",
      "text/plain": [
       "Plot with title \"Histogram of subset(df, (df$HAvariable == var) & (df$Person_feather == person))[[\"X1.0\"]]\""
      ]
     },
     "metadata": {
      "image/png": {
       "height": 420,
       "width": 420
      }
     },
     "output_type": "display_data"
    }
   ],
   "source": [
    "hist(subset(df, (df$HAvariable==var) & (df$Person_feather==person))[['X1.0']])"
   ]
  },
  {
   "cell_type": "code",
   "execution_count": 10,
   "metadata": {},
   "outputs": [
    {
     "data": {
      "image/png": "[encoded data removed]",
      "text/plain": [
       "Plot with title \"Histogram of subset(df, (df$HAvariable == var) & (df$Person_feather == person))[[\"X2.0\"]]\""
      ]
     },
     "metadata": {
      "image/png": {
       "height": 420,
       "width": 420
      }
     },
     "output_type": "display_data"
    }
   ],
   "source": [
    "hist(subset(df, (df$HAvariable==var) & (df$Person_feather==person))[['X2.0']])"
   ]
  },
  {
   "cell_type": "code",
   "execution_count": null,
   "metadata": {},
   "outputs": [],
   "source": []
  },
  {
   "cell_type": "code",
   "execution_count": null,
   "metadata": {},
   "outputs": [],
   "source": []
  },
  {
   "cell_type": "code",
   "execution_count": null,
   "metadata": {},
   "outputs": [],
   "source": []
  },
  {
   "cell_type": "code",
   "execution_count": null,
   "metadata": {},
   "outputs": [],
   "source": []
  },
  {
   "cell_type": "code",
   "execution_count": null,
   "metadata": {},
   "outputs": [],
   "source": []
  }
 ],
 "metadata": {
  "kernelspec": {
   "display_name": "R",
   "language": "R",
   "name": "ir"
  },
  "language_info": {
   "codemirror_mode": "r",
   "file_extension": ".r",
   "mimetype": "text/x-r-source",
   "name": "R",
   "pygments_lexer": "r",
   "version": "3.6.3"
  }
 },
 "nbformat": 4,
 "nbformat_minor": 4
}
