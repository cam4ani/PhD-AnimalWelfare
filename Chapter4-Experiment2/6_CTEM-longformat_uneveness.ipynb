{
 "cells": [
  {
   "cell_type": "code",
   "execution_count": 1,
   "id": "f295e75d",
   "metadata": {
    "scrolled": true
   },
   "outputs": [
    {
     "name": "stderr",
     "output_type": "stream",
     "text": [
      "Warning message:\n",
      "\"le package 'ctsem' a été compilé avec la version R 4.1.3\"\n",
      "Le chargement a nécessité le package : Rcpp\n",
      "\n",
      "Warning message:\n",
      "\"le package 'Rcpp' a été compilé avec la version R 4.1.2\"\n",
      "ctsem also changes in time, for manual run ctDocs(), for blog see https://cdriver.netlify.app/, for citation info run citation('ctsem'), for original OpenMx functionality install.packages('ctsemOMX'), and for discussion https://github.com/cdriveraus/ctsem/discussions\n",
      "\n",
      "Warning message in doTryCatch(return(expr), name, parentenv, handler):\n",
      "\"The following important packages for ctsem are out of date: rstan\"\n",
      "Warning message:\n",
      "\"le package 'dplyr' a été compilé avec la version R 4.1.2\"\n",
      "\n",
      "Attachement du package : 'dplyr'\n",
      "\n",
      "\n",
      "Les objets suivants sont masqués depuis 'package:stats':\n",
      "\n",
      "    filter, lag\n",
      "\n",
      "\n",
      "Les objets suivants sont masqués depuis 'package:base':\n",
      "\n",
      "    intersect, setdiff, setequal, union\n",
      "\n",
      "\n",
      "Warning message:\n",
      "\"le package 'plyr' a été compilé avec la version R 4.1.2\"\n",
      "------------------------------------------------------------------------------\n",
      "\n",
      "You have loaded plyr after dplyr - this is likely to cause problems.\n",
      "If you need functions from both plyr and dplyr, please load plyr first, then dplyr:\n",
      "library(plyr); library(dplyr)\n",
      "\n",
      "------------------------------------------------------------------------------\n",
      "\n",
      "\n",
      "Attachement du package : 'plyr'\n",
      "\n",
      "\n",
      "Les objets suivants sont masqués depuis 'package:dplyr':\n",
      "\n",
      "    arrange, count, desc, failwith, id, mutate, rename, summarise,\n",
      "    summarize\n",
      "\n",
      "\n",
      "Warning message:\n",
      "\"le package 'ICC' a été compilé avec la version R 4.1.3\"\n",
      "Warning message:\n",
      "\"le package 'rmcorr' a été compilé avec la version R 4.1.3\"\n"
     ]
    }
   ],
   "source": [
    "library(ctsem)\n",
    "library(dplyr)\n",
    "library(plyr)\n",
    "library(ICC)\n",
    "library(rmcorr)\n",
    "library(Rcpp)"
   ]
  },
  {
   "cell_type": "code",
   "execution_count": 2,
   "id": "2f7580c7",
   "metadata": {},
   "outputs": [],
   "source": [
    "setwd(\"G:/VPHI/Welfare/2- Research Projects/Camille Montalcini/Origins.GS/DataOutput/TrackingSystem/EXP2_\")"
   ]
  },
  {
   "cell_type": "markdown",
   "id": "2769d5e7",
   "metadata": {},
   "source": [
    "# Download data"
   ]
  },
  {
   "cell_type": "code",
   "execution_count": 3,
   "id": "c5fd5c2b",
   "metadata": {
    "scrolled": true
   },
   "outputs": [
    {
     "name": "stderr",
     "output_type": "stream",
     "text": [
      "Warning message in dir.create(path_save):\n",
      "\"'LongformatModels' existe déjà\"\n"
     ]
    },
    {
     "data": {
      "text/plain": [
       "     HAID                    HenID            id         MonthInstudy  \n",
       " Length:2228        EXP3_hen_101:  12   Min.   :  1.0   Min.   :0.000  \n",
       " Class :character   EXP3_hen_103:  12   1st Qu.:113.8   1st Qu.:0.820  \n",
       " Mode  :character   EXP3_hen_104:  12   Median :220.0   Median :3.120  \n",
       "                    EXP3_hen_105:  12   Mean   :211.0   Mean   :3.511  \n",
       "                    EXP3_hen_106:  12   3rd Qu.:320.2   3rd Qu.:5.420  \n",
       "                    EXP3_hen_109:  12   Max.   :372.0   Max.   :9.500  \n",
       "                    (Other)     :2156                                  \n",
       "     DOAHA           IsOFH        ExperimentID  Is_relocated      Is_exp1      \n",
       " Min.   :148.0   Min.   :0.0000   Exp1:798     Min.   :0.000   Min.   :0.0000  \n",
       " 1st Qu.:173.0   1st Qu.:0.0000   Exp2:796     1st Qu.:0.000   1st Qu.:0.0000  \n",
       " Median :243.0   Median :0.0000   Exp3:634     Median :0.000   Median :0.0000  \n",
       " Mean   :254.8   Mean   :0.1854                Mean   :0.175   Mean   :0.3582  \n",
       " 3rd Qu.:313.0   3rd Qu.:0.0000                3rd Qu.:0.000   3rd Qu.:1.0000  \n",
       " Max.   :437.0   Max.   :1.0000                Max.   :1.000   Max.   :1.0000  \n",
       "                                                                               \n",
       "    Is_exp2          Is_exp3        early_death        time2event   \n",
       " Min.   :0.0000   Min.   :0.0000   Min.   :0.00000   Min.   :1.500  \n",
       " 1st Qu.:0.0000   1st Qu.:0.0000   1st Qu.:0.00000   1st Qu.:3.500  \n",
       " Median :0.0000   Median :0.0000   Median :0.00000   Median :3.833  \n",
       " Mean   :0.3573   Mean   :0.2846   Mean   :0.01391   Mean   :3.732  \n",
       " 3rd Qu.:1.0000   3rd Qu.:1.0000   3rd Qu.:0.00000   3rd Qu.:4.000  \n",
       " Max.   :1.0000   Max.   :1.0000   Max.   :1.00000   Max.   :7.000  \n",
       "                                                                    \n",
       "   meanDOAmvt        PropZ5         VTDperhour        unevenness    \n",
       " Min.   :144.5   Min.   :0.0000   Min.   : 0.0417   Min.   :0.2043  \n",
       " 1st Qu.:211.2   1st Qu.:0.0601   1st Qu.: 2.6667   1st Qu.:0.5510  \n",
       " Median :241.5   Median :0.2077   Median : 3.7812   Median :0.7095  \n",
       " Mean   :271.2   Mean   :0.2858   Mean   : 3.8424   Mean   :0.8275  \n",
       " 3rd Qu.:321.5   3rd Qu.:0.4608   3rd Qu.: 4.8776   3rd Qu.:1.0451  \n",
       " Max.   :433.5   Max.   :0.9699   Max.   :15.2292   Max.   :1.9913  \n",
       " NA's   :353     NA's   :353      NA's   :353       NA's   :353     \n",
       "    severity           gap             weight     proptime_2_Zone\n",
       " Min.   :  0.00   Min.   :0.0000   Min.   :1228   Mode:logical   \n",
       " 1st Qu.:  1.00   1st Qu.:0.0000   1st Qu.:1701   NA's:2228      \n",
       " Median : 16.00   Median :0.0000   Median :1790                  \n",
       " Mean   : 23.61   Mean   :0.2448   Mean   :1797                  \n",
       " 3rd Qu.: 38.00   3rd Qu.:0.0000   3rd Qu.:1886                  \n",
       " Max.   :100.00   Max.   :1.0000   Max.   :2331                  \n",
       " NA's   :353      NA's   :353      NA's   :964                   \n",
       " proptime_5_Zone mid_cum_Z4_h_Morning\n",
       " Mode:logical    Mode:logical        \n",
       " NA's:2228       NA's:2228           \n",
       "                                     \n",
       "                                     \n",
       "                                     \n",
       "                                     \n",
       "                                     "
      ]
     },
     "metadata": {},
     "output_type": "display_data"
    },
    {
     "name": "stdout",
     "output_type": "stream",
     "text": [
      "[1] 2228   23\n"
     ]
    },
    {
     "data": {
      "text/html": [
       "<table class=\"dataframe\">\n",
       "<caption>A data.frame: 6 × 23</caption>\n",
       "<thead>\n",
       "\t<tr><th></th><th scope=col>HAID</th><th scope=col>HenID</th><th scope=col>id</th><th scope=col>MonthInstudy</th><th scope=col>DOAHA</th><th scope=col>IsOFH</th><th scope=col>ExperimentID</th><th scope=col>Is_relocated</th><th scope=col>Is_exp1</th><th scope=col>Is_exp2</th><th scope=col>...</th><th scope=col>meanDOAmvt</th><th scope=col>PropZ5</th><th scope=col>VTDperhour</th><th scope=col>unevenness</th><th scope=col>severity</th><th scope=col>gap</th><th scope=col>weight</th><th scope=col>proptime_2_Zone</th><th scope=col>proptime_5_Zone</th><th scope=col>mid_cum_Z4_h_Morning</th></tr>\n",
       "\t<tr><th></th><th scope=col>&lt;chr&gt;</th><th scope=col>&lt;fct&gt;</th><th scope=col>&lt;int&gt;</th><th scope=col>&lt;dbl&gt;</th><th scope=col>&lt;int&gt;</th><th scope=col>&lt;int&gt;</th><th scope=col>&lt;fct&gt;</th><th scope=col>&lt;int&gt;</th><th scope=col>&lt;int&gt;</th><th scope=col>&lt;int&gt;</th><th scope=col>...</th><th scope=col>&lt;dbl&gt;</th><th scope=col>&lt;dbl&gt;</th><th scope=col>&lt;dbl&gt;</th><th scope=col>&lt;dbl&gt;</th><th scope=col>&lt;dbl&gt;</th><th scope=col>&lt;dbl&gt;</th><th scope=col>&lt;dbl&gt;</th><th scope=col>&lt;lgl&gt;</th><th scope=col>&lt;lgl&gt;</th><th scope=col>&lt;lgl&gt;</th></tr>\n",
       "</thead>\n",
       "<tbody>\n",
       "\t<tr><th scope=row>1</th><td>created</td><td>EXP2_hen_1 </td><td>1</td><td>0.00</td><td>148</td><td>0</td><td>Exp2</td><td>1</td><td>0</td><td>1</td><td>...</td><td> NA</td><td>       NA</td><td>      NA</td><td>       NA</td><td>NA</td><td>NA</td><td>    NA</td><td>NA</td><td>NA</td><td>NA</td></tr>\n",
       "\t<tr><th scope=row>2</th><td>HA1    </td><td>EXP2_hen_1 </td><td>1</td><td>0.85</td><td>174</td><td>0</td><td>Exp2</td><td>1</td><td>0</td><td>1</td><td>...</td><td>170</td><td>0.1429359</td><td>3.680272</td><td>0.4956481</td><td> 0</td><td> 0</td><td>1691.7</td><td>NA</td><td>NA</td><td>NA</td></tr>\n",
       "\t<tr><th scope=row>3</th><td>HA2    </td><td>EXP2_hen_1 </td><td>1</td><td>3.16</td><td>244</td><td>0</td><td>Exp2</td><td>1</td><td>0</td><td>1</td><td>...</td><td>240</td><td>0.1195238</td><td>5.030612</td><td>0.4865883</td><td> 0</td><td> 0</td><td>1722.2</td><td>NA</td><td>NA</td><td>NA</td></tr>\n",
       "\t<tr><th scope=row>4</th><td>HA3    </td><td>EXP2_hen_1 </td><td>1</td><td>5.23</td><td>307</td><td>0</td><td>Exp2</td><td>1</td><td>0</td><td>1</td><td>...</td><td>303</td><td>0.1299773</td><td>5.112245</td><td>0.3923037</td><td> 1</td><td> 0</td><td>1655.2</td><td>NA</td><td>NA</td><td>NA</td></tr>\n",
       "\t<tr><th scope=row>5</th><td>HA4    </td><td>EXP2_hen_1 </td><td>1</td><td>7.99</td><td>391</td><td>0</td><td>Exp2</td><td>1</td><td>0</td><td>1</td><td>...</td><td>387</td><td>0.1178005</td><td>3.336735</td><td>0.2613006</td><td>18</td><td> 0</td><td>1663.7</td><td>NA</td><td>NA</td><td>NA</td></tr>\n",
       "\t<tr><th scope=row>6</th><td>created</td><td>EXP2_hen_10</td><td>2</td><td>0.00</td><td>148</td><td>0</td><td>Exp2</td><td>1</td><td>0</td><td>1</td><td>...</td><td> NA</td><td>       NA</td><td>      NA</td><td>       NA</td><td>NA</td><td>NA</td><td>    NA</td><td>NA</td><td>NA</td><td>NA</td></tr>\n",
       "</tbody>\n",
       "</table>\n"
      ],
      "text/latex": [
       "A data.frame: 6 × 23\n",
       "\\begin{tabular}{r|lllllllllllllllllllll}\n",
       "  & HAID & HenID & id & MonthInstudy & DOAHA & IsOFH & ExperimentID & Is\\_relocated & Is\\_exp1 & Is\\_exp2 & ... & meanDOAmvt & PropZ5 & VTDperhour & unevenness & severity & gap & weight & proptime\\_2\\_Zone & proptime\\_5\\_Zone & mid\\_cum\\_Z4\\_h\\_Morning\\\\\n",
       "  & <chr> & <fct> & <int> & <dbl> & <int> & <int> & <fct> & <int> & <int> & <int> & ... & <dbl> & <dbl> & <dbl> & <dbl> & <dbl> & <dbl> & <dbl> & <lgl> & <lgl> & <lgl>\\\\\n",
       "\\hline\n",
       "\t1 & created & EXP2\\_hen\\_1  & 1 & 0.00 & 148 & 0 & Exp2 & 1 & 0 & 1 & ... &  NA &        NA &       NA &        NA & NA & NA &     NA & NA & NA & NA\\\\\n",
       "\t2 & HA1     & EXP2\\_hen\\_1  & 1 & 0.85 & 174 & 0 & Exp2 & 1 & 0 & 1 & ... & 170 & 0.1429359 & 3.680272 & 0.4956481 &  0 &  0 & 1691.7 & NA & NA & NA\\\\\n",
       "\t3 & HA2     & EXP2\\_hen\\_1  & 1 & 3.16 & 244 & 0 & Exp2 & 1 & 0 & 1 & ... & 240 & 0.1195238 & 5.030612 & 0.4865883 &  0 &  0 & 1722.2 & NA & NA & NA\\\\\n",
       "\t4 & HA3     & EXP2\\_hen\\_1  & 1 & 5.23 & 307 & 0 & Exp2 & 1 & 0 & 1 & ... & 303 & 0.1299773 & 5.112245 & 0.3923037 &  1 &  0 & 1655.2 & NA & NA & NA\\\\\n",
       "\t5 & HA4     & EXP2\\_hen\\_1  & 1 & 7.99 & 391 & 0 & Exp2 & 1 & 0 & 1 & ... & 387 & 0.1178005 & 3.336735 & 0.2613006 & 18 &  0 & 1663.7 & NA & NA & NA\\\\\n",
       "\t6 & created & EXP2\\_hen\\_10 & 2 & 0.00 & 148 & 0 & Exp2 & 1 & 0 & 1 & ... &  NA &        NA &       NA &        NA & NA & NA &     NA & NA & NA & NA\\\\\n",
       "\\end{tabular}\n"
      ],
      "text/markdown": [
       "\n",
       "A data.frame: 6 × 23\n",
       "\n",
       "| <!--/--> | HAID &lt;chr&gt; | HenID &lt;fct&gt; | id &lt;int&gt; | MonthInstudy &lt;dbl&gt; | DOAHA &lt;int&gt; | IsOFH &lt;int&gt; | ExperimentID &lt;fct&gt; | Is_relocated &lt;int&gt; | Is_exp1 &lt;int&gt; | Is_exp2 &lt;int&gt; | ... ... | meanDOAmvt &lt;dbl&gt; | PropZ5 &lt;dbl&gt; | VTDperhour &lt;dbl&gt; | unevenness &lt;dbl&gt; | severity &lt;dbl&gt; | gap &lt;dbl&gt; | weight &lt;dbl&gt; | proptime_2_Zone &lt;lgl&gt; | proptime_5_Zone &lt;lgl&gt; | mid_cum_Z4_h_Morning &lt;lgl&gt; |\n",
       "|---|---|---|---|---|---|---|---|---|---|---|---|---|---|---|---|---|---|---|---|---|---|\n",
       "| 1 | created | EXP2_hen_1  | 1 | 0.00 | 148 | 0 | Exp2 | 1 | 0 | 1 | ... |  NA |        NA |       NA |        NA | NA | NA |     NA | NA | NA | NA |\n",
       "| 2 | HA1     | EXP2_hen_1  | 1 | 0.85 | 174 | 0 | Exp2 | 1 | 0 | 1 | ... | 170 | 0.1429359 | 3.680272 | 0.4956481 |  0 |  0 | 1691.7 | NA | NA | NA |\n",
       "| 3 | HA2     | EXP2_hen_1  | 1 | 3.16 | 244 | 0 | Exp2 | 1 | 0 | 1 | ... | 240 | 0.1195238 | 5.030612 | 0.4865883 |  0 |  0 | 1722.2 | NA | NA | NA |\n",
       "| 4 | HA3     | EXP2_hen_1  | 1 | 5.23 | 307 | 0 | Exp2 | 1 | 0 | 1 | ... | 303 | 0.1299773 | 5.112245 | 0.3923037 |  1 |  0 | 1655.2 | NA | NA | NA |\n",
       "| 5 | HA4     | EXP2_hen_1  | 1 | 7.99 | 391 | 0 | Exp2 | 1 | 0 | 1 | ... | 387 | 0.1178005 | 3.336735 | 0.2613006 | 18 |  0 | 1663.7 | NA | NA | NA |\n",
       "| 6 | created | EXP2_hen_10 | 2 | 0.00 | 148 | 0 | Exp2 | 1 | 0 | 1 | ... |  NA |        NA |       NA |        NA | NA | NA |     NA | NA | NA | NA |\n",
       "\n"
      ],
      "text/plain": [
       "  HAID    HenID       id MonthInstudy DOAHA IsOFH ExperimentID Is_relocated\n",
       "1 created EXP2_hen_1  1  0.00         148   0     Exp2         1           \n",
       "2 HA1     EXP2_hen_1  1  0.85         174   0     Exp2         1           \n",
       "3 HA2     EXP2_hen_1  1  3.16         244   0     Exp2         1           \n",
       "4 HA3     EXP2_hen_1  1  5.23         307   0     Exp2         1           \n",
       "5 HA4     EXP2_hen_1  1  7.99         391   0     Exp2         1           \n",
       "6 created EXP2_hen_10 2  0.00         148   0     Exp2         1           \n",
       "  Is_exp1 Is_exp2 ... meanDOAmvt PropZ5    VTDperhour unevenness severity gap\n",
       "1 0       1       ...  NA               NA       NA          NA  NA       NA \n",
       "2 0       1       ... 170        0.1429359 3.680272   0.4956481   0        0 \n",
       "3 0       1       ... 240        0.1195238 5.030612   0.4865883   0        0 \n",
       "4 0       1       ... 303        0.1299773 5.112245   0.3923037   1        0 \n",
       "5 0       1       ... 387        0.1178005 3.336735   0.2613006  18        0 \n",
       "6 0       1       ...  NA               NA       NA          NA  NA       NA \n",
       "  weight proptime_2_Zone proptime_5_Zone mid_cum_Z4_h_Morning\n",
       "1     NA NA              NA              NA                  \n",
       "2 1691.7 NA              NA              NA                  \n",
       "3 1722.2 NA              NA              NA                  \n",
       "4 1655.2 NA              NA              NA                  \n",
       "5 1663.7 NA              NA              NA                  \n",
       "6     NA NA              NA              NA                  "
      ]
     },
     "metadata": {},
     "output_type": "display_data"
    }
   ],
   "source": [
    "path_save = file.path('LongformatModels')\n",
    "dir.create(path_save)\n",
    "df = read.csv('df_longformatALL.csv', header = TRUE, sep = \",\")\n",
    "df$HenID = as.factor(df$HenID)   \n",
    "df$ExperimentID = as.factor(df$ExperimentID)   \n",
    "#tme is for now week of age\n",
    "summary(df)\n",
    "print(dim(df))\n",
    "head(df)\n",
    "#describe(df)"
   ]
  },
  {
   "cell_type": "code",
   "execution_count": 4,
   "id": "e12a3828",
   "metadata": {},
   "outputs": [
    {
     "data": {
      "text/html": [
       "<style>\n",
       ".list-inline {list-style: none; margin:0; padding: 0}\n",
       ".list-inline>li {display: inline-block}\n",
       ".list-inline>li:not(:last-child)::after {content: \"\\00b7\"; padding: 0 .5ex}\n",
       "</style>\n",
       "<ol class=list-inline><li>'created'</li><li>'HA1'</li><li>'HA2'</li><li>'HA3'</li><li>'HA4'</li><li>'HA5'</li><li>'HA1A'</li><li>'HA2A'</li><li>'HA3A'</li><li>'HA4A'</li><li>'HA5A'</li><li>'HA6A'</li><li>'HA7A'</li><li>'HA8A'</li><li>'HA9A'</li><li>'HA10A'</li><li>'HA11A'</li><li>'HA1B'</li><li>'HA2B'</li><li>'HA3B'</li><li>'HA4B'</li><li>'HA5B'</li><li>'HA6B'</li><li>'HA7B'</li><li>'HA8B'</li><li>'HA9B'</li><li>'HA11B'</li><li>'HA10B'</li></ol>\n"
      ],
      "text/latex": [
       "\\begin{enumerate*}\n",
       "\\item 'created'\n",
       "\\item 'HA1'\n",
       "\\item 'HA2'\n",
       "\\item 'HA3'\n",
       "\\item 'HA4'\n",
       "\\item 'HA5'\n",
       "\\item 'HA1A'\n",
       "\\item 'HA2A'\n",
       "\\item 'HA3A'\n",
       "\\item 'HA4A'\n",
       "\\item 'HA5A'\n",
       "\\item 'HA6A'\n",
       "\\item 'HA7A'\n",
       "\\item 'HA8A'\n",
       "\\item 'HA9A'\n",
       "\\item 'HA10A'\n",
       "\\item 'HA11A'\n",
       "\\item 'HA1B'\n",
       "\\item 'HA2B'\n",
       "\\item 'HA3B'\n",
       "\\item 'HA4B'\n",
       "\\item 'HA5B'\n",
       "\\item 'HA6B'\n",
       "\\item 'HA7B'\n",
       "\\item 'HA8B'\n",
       "\\item 'HA9B'\n",
       "\\item 'HA11B'\n",
       "\\item 'HA10B'\n",
       "\\end{enumerate*}\n"
      ],
      "text/markdown": [
       "1. 'created'\n",
       "2. 'HA1'\n",
       "3. 'HA2'\n",
       "4. 'HA3'\n",
       "5. 'HA4'\n",
       "6. 'HA5'\n",
       "7. 'HA1A'\n",
       "8. 'HA2A'\n",
       "9. 'HA3A'\n",
       "10. 'HA4A'\n",
       "11. 'HA5A'\n",
       "12. 'HA6A'\n",
       "13. 'HA7A'\n",
       "14. 'HA8A'\n",
       "15. 'HA9A'\n",
       "16. 'HA10A'\n",
       "17. 'HA11A'\n",
       "18. 'HA1B'\n",
       "19. 'HA2B'\n",
       "20. 'HA3B'\n",
       "21. 'HA4B'\n",
       "22. 'HA5B'\n",
       "23. 'HA6B'\n",
       "24. 'HA7B'\n",
       "25. 'HA8B'\n",
       "26. 'HA9B'\n",
       "27. 'HA11B'\n",
       "28. 'HA10B'\n",
       "\n",
       "\n"
      ],
      "text/plain": [
       " [1] \"created\" \"HA1\"     \"HA2\"     \"HA3\"     \"HA4\"     \"HA5\"     \"HA1A\"   \n",
       " [8] \"HA2A\"    \"HA3A\"    \"HA4A\"    \"HA5A\"    \"HA6A\"    \"HA7A\"    \"HA8A\"   \n",
       "[15] \"HA9A\"    \"HA10A\"   \"HA11A\"   \"HA1B\"    \"HA2B\"    \"HA3B\"    \"HA4B\"   \n",
       "[22] \"HA5B\"    \"HA6B\"    \"HA7B\"    \"HA8B\"    \"HA9B\"    \"HA11B\"   \"HA10B\"  "
      ]
     },
     "metadata": {},
     "output_type": "display_data"
    }
   ],
   "source": [
    "unique(df$HAID)"
   ]
  },
  {
   "cell_type": "code",
   "execution_count": 5,
   "id": "0baec775",
   "metadata": {},
   "outputs": [
    {
     "data": {
      "text/html": [
       "<style>\n",
       ".list-inline {list-style: none; margin:0; padding: 0}\n",
       ".list-inline>li {display: inline-block}\n",
       ".list-inline>li:not(:last-child)::after {content: \"\\00b7\"; padding: 0 .5ex}\n",
       "</style>\n",
       "<ol class=list-inline><li>'HAID'</li><li>'HenID'</li><li>'id'</li><li>'MonthInstudy'</li><li>'DOAHA'</li><li>'IsOFH'</li><li>'ExperimentID'</li><li>'Is_relocated'</li><li>'Is_exp1'</li><li>'Is_exp2'</li><li>'Is_exp3'</li><li>'early_death'</li><li>'time2event'</li><li>'meanDOAmvt'</li><li>'PropZ5'</li><li>'VTDperhour'</li><li>'unevenness'</li><li>'severity'</li><li>'gap'</li><li>'weight'</li><li>'proptime_2_Zone'</li><li>'proptime_5_Zone'</li><li>'mid_cum_Z4_h_Morning'</li></ol>\n"
      ],
      "text/latex": [
       "\\begin{enumerate*}\n",
       "\\item 'HAID'\n",
       "\\item 'HenID'\n",
       "\\item 'id'\n",
       "\\item 'MonthInstudy'\n",
       "\\item 'DOAHA'\n",
       "\\item 'IsOFH'\n",
       "\\item 'ExperimentID'\n",
       "\\item 'Is\\_relocated'\n",
       "\\item 'Is\\_exp1'\n",
       "\\item 'Is\\_exp2'\n",
       "\\item 'Is\\_exp3'\n",
       "\\item 'early\\_death'\n",
       "\\item 'time2event'\n",
       "\\item 'meanDOAmvt'\n",
       "\\item 'PropZ5'\n",
       "\\item 'VTDperhour'\n",
       "\\item 'unevenness'\n",
       "\\item 'severity'\n",
       "\\item 'gap'\n",
       "\\item 'weight'\n",
       "\\item 'proptime\\_2\\_Zone'\n",
       "\\item 'proptime\\_5\\_Zone'\n",
       "\\item 'mid\\_cum\\_Z4\\_h\\_Morning'\n",
       "\\end{enumerate*}\n"
      ],
      "text/markdown": [
       "1. 'HAID'\n",
       "2. 'HenID'\n",
       "3. 'id'\n",
       "4. 'MonthInstudy'\n",
       "5. 'DOAHA'\n",
       "6. 'IsOFH'\n",
       "7. 'ExperimentID'\n",
       "8. 'Is_relocated'\n",
       "9. 'Is_exp1'\n",
       "10. 'Is_exp2'\n",
       "11. 'Is_exp3'\n",
       "12. 'early_death'\n",
       "13. 'time2event'\n",
       "14. 'meanDOAmvt'\n",
       "15. 'PropZ5'\n",
       "16. 'VTDperhour'\n",
       "17. 'unevenness'\n",
       "18. 'severity'\n",
       "19. 'gap'\n",
       "20. 'weight'\n",
       "21. 'proptime_2_Zone'\n",
       "22. 'proptime_5_Zone'\n",
       "23. 'mid_cum_Z4_h_Morning'\n",
       "\n",
       "\n"
      ],
      "text/plain": [
       " [1] \"HAID\"                 \"HenID\"                \"id\"                  \n",
       " [4] \"MonthInstudy\"         \"DOAHA\"                \"IsOFH\"               \n",
       " [7] \"ExperimentID\"         \"Is_relocated\"         \"Is_exp1\"             \n",
       "[10] \"Is_exp2\"              \"Is_exp3\"              \"early_death\"         \n",
       "[13] \"time2event\"           \"meanDOAmvt\"           \"PropZ5\"              \n",
       "[16] \"VTDperhour\"           \"unevenness\"           \"severity\"            \n",
       "[19] \"gap\"                  \"weight\"               \"proptime_2_Zone\"     \n",
       "[22] \"proptime_5_Zone\"      \"mid_cum_Z4_h_Morning\""
      ]
     },
     "metadata": {},
     "output_type": "display_data"
    }
   ],
   "source": [
    "colnames(df)"
   ]
  },
  {
   "cell_type": "markdown",
   "id": "98c550a1",
   "metadata": {
    "scrolled": true
   },
   "source": [
    "#repeated measures correlations #TODO once all good: make sure its bootstrap!\n",
    "v1 = rmcorr(HenID, severity, VTDperhour, data = df, CIs=\"bootstrap\")\n",
    "v2 = rmcorr(HenID, severity, proptime_2_Zone, data = df, CIs=\"bootstrap\")\n",
    "v3 = rmcorr(HenID, severity, proptime_5_Zone, data = df,CIs=\"bootstrap\") #bstrap.out=T,\n",
    "\n",
    "v1\n",
    "plot(v1)\n",
    "\n",
    "v2\n",
    "plot(v2)\n",
    "\n",
    "v3\n",
    "plot(v3)"
   ]
  },
  {
   "cell_type": "code",
   "execution_count": 6,
   "id": "fa63e1c8",
   "metadata": {},
   "outputs": [
    {
     "data": {
      "image/png": "[encoded data removed]",
      "text/plain": [
       "Plot with title \"Histogram of df$unevenness\""
      ]
     },
     "metadata": {
      "image/png": {
       "height": 420,
       "width": 420
      }
     },
     "output_type": "display_data"
    }
   ],
   "source": [
    "#TODO once all good: add R if we want\n",
    "hist(df$unevenness)"
   ]
  },
  {
   "cell_type": "code",
   "execution_count": 7,
   "id": "96086b06",
   "metadata": {},
   "outputs": [
    {
     "data": {
      "image/png": "[encoded data removed]",
      "text/plain": [
       "Plot with title \"Histogram of df$severity\""
      ]
     },
     "metadata": {
      "image/png": {
       "height": 420,
       "width": 420
      }
     },
     "output_type": "display_data"
    }
   ],
   "source": [
    "hist(df$severity)"
   ]
  },
  {
   "cell_type": "code",
   "execution_count": 8,
   "id": "883d074f",
   "metadata": {},
   "outputs": [],
   "source": [
    "#TODO on final model, only relevant when optimize=FALSE, \n",
    "iter_ = 2000 \n",
    "chains_ = 2 \n",
    "bool_optimize = TRUE #documentation FALSE: \"which also mean intoverpop will be set to FALSE automatically and therefore we integrates over \n",
    "#full sampling rather than population distribution of parameters\"\n",
    "#number of cpu cores to use to speed up\n",
    "cores_ = 5 \n",
    "folds_ = 3"
   ]
  },
  {
   "cell_type": "markdown",
   "id": "4c5b907a",
   "metadata": {},
   "source": [
    "# Hierarchical Bayesian continuous time dynamic model - VTD & KBF severity"
   ]
  },
  {
   "cell_type": "code",
   "execution_count": 10,
   "id": "94bafd34",
   "metadata": {},
   "outputs": [
    {
     "data": {
      "text/html": [
       "<table class=\"dataframe\">\n",
       "<caption>A data.frame: 2 × 7</caption>\n",
       "<thead>\n",
       "\t<tr><th></th><th scope=col>ExperimentID</th><th scope=col>IsOFH</th><th scope=col>Is_relocated</th><th scope=col>Is_exp1</th><th scope=col>Is_exp2</th><th scope=col>Is_exp3</th><th scope=col>time2event</th></tr>\n",
       "\t<tr><th></th><th scope=col>&lt;fct&gt;</th><th scope=col>&lt;int&gt;</th><th scope=col>&lt;int&gt;</th><th scope=col>&lt;int&gt;</th><th scope=col>&lt;int&gt;</th><th scope=col>&lt;int&gt;</th><th scope=col>&lt;dbl&gt;</th></tr>\n",
       "</thead>\n",
       "<tbody>\n",
       "\t<tr><th scope=row>1</th><td>Exp2</td><td>0</td><td>1</td><td>0</td><td>1</td><td>0</td><td>3.731609</td></tr>\n",
       "\t<tr><th scope=row>2</th><td>Exp2</td><td>0</td><td>1</td><td>0</td><td>1</td><td>0</td><td>4.000000</td></tr>\n",
       "</tbody>\n",
       "</table>\n"
      ],
      "text/latex": [
       "A data.frame: 2 × 7\n",
       "\\begin{tabular}{r|lllllll}\n",
       "  & ExperimentID & IsOFH & Is\\_relocated & Is\\_exp1 & Is\\_exp2 & Is\\_exp3 & time2event\\\\\n",
       "  & <fct> & <int> & <int> & <int> & <int> & <int> & <dbl>\\\\\n",
       "\\hline\n",
       "\t1 & Exp2 & 0 & 1 & 0 & 1 & 0 & 3.731609\\\\\n",
       "\t2 & Exp2 & 0 & 1 & 0 & 1 & 0 & 4.000000\\\\\n",
       "\\end{tabular}\n"
      ],
      "text/markdown": [
       "\n",
       "A data.frame: 2 × 7\n",
       "\n",
       "| <!--/--> | ExperimentID &lt;fct&gt; | IsOFH &lt;int&gt; | Is_relocated &lt;int&gt; | Is_exp1 &lt;int&gt; | Is_exp2 &lt;int&gt; | Is_exp3 &lt;int&gt; | time2event &lt;dbl&gt; |\n",
       "|---|---|---|---|---|---|---|---|\n",
       "| 1 | Exp2 | 0 | 1 | 0 | 1 | 0 | 3.731609 |\n",
       "| 2 | Exp2 | 0 | 1 | 0 | 1 | 0 | 4.000000 |\n",
       "\n"
      ],
      "text/plain": [
       "  ExperimentID IsOFH Is_relocated Is_exp1 Is_exp2 Is_exp3 time2event\n",
       "1 Exp2         0     1            0       1       0       3.731609  \n",
       "2 Exp2         0     1            0       1       0       4.000000  "
      ]
     },
     "metadata": {},
     "output_type": "display_data"
    }
   ],
   "source": [
    "head(df[,c('ExperimentID','IsOFH', 'Is_relocated','Is_exp1','Is_exp2','Is_exp3','time2event')],2)"
   ]
  },
  {
   "cell_type": "code",
   "execution_count": 11,
   "id": "0b45d33f",
   "metadata": {
    "scrolled": true
   },
   "outputs": [
    {
     "data": {
      "text/html": [
       "<style>\n",
       ".list-inline {list-style: none; margin:0; padding: 0}\n",
       ".list-inline>li {display: inline-block}\n",
       ".list-inline>li:not(:last-child)::after {content: \"\\00b7\"; padding: 0 .5ex}\n",
       "</style>\n",
       "<ol class=list-inline><li>1875</li><li>3</li></ol>\n"
      ],
      "text/latex": [
       "\\begin{enumerate*}\n",
       "\\item 1875\n",
       "\\item 3\n",
       "\\end{enumerate*}\n"
      ],
      "text/markdown": [
       "1. 1875\n",
       "2. 3\n",
       "\n",
       "\n"
      ],
      "text/plain": [
       "[1] 1875    3"
      ]
     },
     "metadata": {},
     "output_type": "display_data"
    },
    {
     "data": {
      "text/html": [
       "<table class=\"dataframe\">\n",
       "<caption>A matrix: 3 × 3 of type dbl</caption>\n",
       "<thead>\n",
       "\t<tr><th></th><th scope=col>time</th><th scope=col>Y1</th><th scope=col>Y2</th></tr>\n",
       "</thead>\n",
       "<tbody>\n",
       "\t<tr><th scope=row>time</th><td> 1.00</td><td>0.51</td><td>-0.05</td></tr>\n",
       "\t<tr><th scope=row>Y1</th><td> 0.51</td><td>1.00</td><td> 0.23</td></tr>\n",
       "\t<tr><th scope=row>Y2</th><td>-0.05</td><td>0.23</td><td> 1.00</td></tr>\n",
       "</tbody>\n",
       "</table>\n"
      ],
      "text/latex": [
       "A matrix: 3 × 3 of type dbl\n",
       "\\begin{tabular}{r|lll}\n",
       "  & time & Y1 & Y2\\\\\n",
       "\\hline\n",
       "\ttime &  1.00 & 0.51 & -0.05\\\\\n",
       "\tY1 &  0.51 & 1.00 &  0.23\\\\\n",
       "\tY2 & -0.05 & 0.23 &  1.00\\\\\n",
       "\\end{tabular}\n"
      ],
      "text/markdown": [
       "\n",
       "A matrix: 3 × 3 of type dbl\n",
       "\n",
       "| <!--/--> | time | Y1 | Y2 |\n",
       "|---|---|---|---|\n",
       "| time |  1.00 | 0.51 | -0.05 |\n",
       "| Y1 |  0.51 | 1.00 |  0.23 |\n",
       "| Y2 | -0.05 | 0.23 |  1.00 |\n",
       "\n"
      ],
      "text/plain": [
       "     time  Y1   Y2   \n",
       "time  1.00 0.51 -0.05\n",
       "Y1    0.51 1.00  0.23\n",
       "Y2   -0.05 0.23  1.00"
      ]
     },
     "metadata": {},
     "output_type": "display_data"
    },
    {
     "data": {
      "text/html": [
       "<table class=\"dataframe\">\n",
       "<caption>A matrix: 3 × 3 of type dbl</caption>\n",
       "<thead>\n",
       "\t<tr><th></th><th scope=col>time</th><th scope=col>Y1</th><th scope=col>Y2</th></tr>\n",
       "</thead>\n",
       "<tbody>\n",
       "\t<tr><th scope=row>time</th><td> 1.00</td><td>0.62</td><td>-0.10</td></tr>\n",
       "\t<tr><th scope=row>Y1</th><td> 0.62</td><td>1.00</td><td> 0.09</td></tr>\n",
       "\t<tr><th scope=row>Y2</th><td>-0.10</td><td>0.09</td><td> 1.00</td></tr>\n",
       "</tbody>\n",
       "</table>\n"
      ],
      "text/latex": [
       "A matrix: 3 × 3 of type dbl\n",
       "\\begin{tabular}{r|lll}\n",
       "  & time & Y1 & Y2\\\\\n",
       "\\hline\n",
       "\ttime &  1.00 & 0.62 & -0.10\\\\\n",
       "\tY1 &  0.62 & 1.00 &  0.09\\\\\n",
       "\tY2 & -0.10 & 0.09 &  1.00\\\\\n",
       "\\end{tabular}\n"
      ],
      "text/markdown": [
       "\n",
       "A matrix: 3 × 3 of type dbl\n",
       "\n",
       "| <!--/--> | time | Y1 | Y2 |\n",
       "|---|---|---|---|\n",
       "| time |  1.00 | 0.62 | -0.10 |\n",
       "| Y1 |  0.62 | 1.00 |  0.09 |\n",
       "| Y2 | -0.10 | 0.09 |  1.00 |\n",
       "\n"
      ],
      "text/plain": [
       "     time  Y1   Y2   \n",
       "time  1.00 0.62 -0.10\n",
       "Y1    0.62 1.00  0.09\n",
       "Y2   -0.10 0.09  1.00"
      ]
     },
     "metadata": {},
     "output_type": "display_data"
    },
    {
     "data": {
      "text/html": [
       "<style>\n",
       ".list-inline {list-style: none; margin:0; padding: 0}\n",
       ".list-inline>li {display: inline-block}\n",
       ".list-inline>li:not(:last-child)::after {content: \"\\00b7\"; padding: 0 .5ex}\n",
       "</style>\n",
       "<ol class=list-inline><li>2228</li><li>9</li></ol>\n"
      ],
      "text/latex": [
       "\\begin{enumerate*}\n",
       "\\item 2228\n",
       "\\item 9\n",
       "\\end{enumerate*}\n"
      ],
      "text/markdown": [
       "1. 2228\n",
       "2. 9\n",
       "\n",
       "\n"
      ],
      "text/plain": [
       "[1] 2228    9"
      ]
     },
     "metadata": {},
     "output_type": "display_data"
    },
    {
     "data": {
      "text/html": [
       "<table class=\"dataframe\">\n",
       "<caption>A data.frame: 2 × 9</caption>\n",
       "<thead>\n",
       "\t<tr><th></th><th scope=col>id</th><th scope=col>time</th><th scope=col>Y1</th><th scope=col>Y2</th><th scope=col>time2event</th><th scope=col>IsOFH</th><th scope=col>Is_exp2</th><th scope=col>Is_exp3</th><th scope=col>weight</th></tr>\n",
       "\t<tr><th></th><th scope=col>&lt;int&gt;</th><th scope=col>&lt;dbl&gt;</th><th scope=col>&lt;dbl&gt;</th><th scope=col>&lt;dbl&gt;</th><th scope=col>&lt;dbl&gt;</th><th scope=col>&lt;dbl&gt;</th><th scope=col>&lt;dbl&gt;</th><th scope=col>&lt;dbl&gt;</th><th scope=col>&lt;dbl&gt;</th></tr>\n",
       "</thead>\n",
       "<tbody>\n",
       "\t<tr><th scope=row>1</th><td>1</td><td>0.00</td><td>       NA</td><td>        NA</td><td>3.731609</td><td>0</td><td>1</td><td>0</td><td>    NA</td></tr>\n",
       "\t<tr><th scope=row>2</th><td>1</td><td>0.85</td><td>-0.931354</td><td>-0.8783412</td><td>4.000000</td><td>0</td><td>1</td><td>0</td><td>1691.7</td></tr>\n",
       "</tbody>\n",
       "</table>\n"
      ],
      "text/latex": [
       "A data.frame: 2 × 9\n",
       "\\begin{tabular}{r|lllllllll}\n",
       "  & id & time & Y1 & Y2 & time2event & IsOFH & Is\\_exp2 & Is\\_exp3 & weight\\\\\n",
       "  & <int> & <dbl> & <dbl> & <dbl> & <dbl> & <dbl> & <dbl> & <dbl> & <dbl>\\\\\n",
       "\\hline\n",
       "\t1 & 1 & 0.00 &        NA &         NA & 3.731609 & 0 & 1 & 0 &     NA\\\\\n",
       "\t2 & 1 & 0.85 & -0.931354 & -0.8783412 & 4.000000 & 0 & 1 & 0 & 1691.7\\\\\n",
       "\\end{tabular}\n"
      ],
      "text/markdown": [
       "\n",
       "A data.frame: 2 × 9\n",
       "\n",
       "| <!--/--> | id &lt;int&gt; | time &lt;dbl&gt; | Y1 &lt;dbl&gt; | Y2 &lt;dbl&gt; | time2event &lt;dbl&gt; | IsOFH &lt;dbl&gt; | Is_exp2 &lt;dbl&gt; | Is_exp3 &lt;dbl&gt; | weight &lt;dbl&gt; |\n",
       "|---|---|---|---|---|---|---|---|---|---|\n",
       "| 1 | 1 | 0.00 |        NA |         NA | 3.731609 | 0 | 1 | 0 |     NA |\n",
       "| 2 | 1 | 0.85 | -0.931354 | -0.8783412 | 4.000000 | 0 | 1 | 0 | 1691.7 |\n",
       "\n"
      ],
      "text/plain": [
       "  id time Y1        Y2         time2event IsOFH Is_exp2 Is_exp3 weight\n",
       "1 1  0.00        NA         NA 3.731609   0     1       0           NA\n",
       "2 1  0.85 -0.931354 -0.8783412 4.000000   0     1       0       1691.7"
      ]
     },
     "metadata": {},
     "output_type": "display_data"
    },
    {
     "data": {
      "text/plain": [
       "       id             time             Y1                Y2         \n",
       " Min.   :  1.0   Min.   :0.000   Min.   :-0.9314   Min.   :-1.6495  \n",
       " 1st Qu.:113.8   1st Qu.:0.820   1st Qu.:-0.8919   1st Qu.:-0.7320  \n",
       " Median :220.0   Median :3.120   Median :-0.3003   Median :-0.3123  \n",
       " Mean   :211.0   Mean   :3.511   Mean   : 0.0000   Mean   : 0.0000  \n",
       " 3rd Qu.:320.2   3rd Qu.:5.420   3rd Qu.: 0.5674   3rd Qu.: 0.5757  \n",
       " Max.   :372.0   Max.   :9.500   Max.   : 3.0128   Max.   : 3.0797  \n",
       "                                 NA's   :353       NA's   :353      \n",
       "   time2event        IsOFH           Is_exp2          Is_exp3      \n",
       " Min.   :1.500   Min.   :0.0000   Min.   :0.0000   Min.   :0.0000  \n",
       " 1st Qu.:3.500   1st Qu.:0.0000   1st Qu.:0.0000   1st Qu.:0.0000  \n",
       " Median :3.833   Median :0.0000   Median :0.0000   Median :0.0000  \n",
       " Mean   :3.732   Mean   :0.1854   Mean   :0.3573   Mean   :0.2846  \n",
       " 3rd Qu.:4.000   3rd Qu.:0.0000   3rd Qu.:1.0000   3rd Qu.:1.0000  \n",
       " Max.   :7.000   Max.   :1.0000   Max.   :1.0000   Max.   :1.0000  \n",
       "                                                                   \n",
       "     weight    \n",
       " Min.   :1228  \n",
       " 1st Qu.:1701  \n",
       " Median :1790  \n",
       " Mean   :1797  \n",
       " 3rd Qu.:1886  \n",
       " Max.   :2331  \n",
       " NA's   :964   "
      ]
     },
     "metadata": {},
     "output_type": "display_data"
    },
    {
     "name": "stdout",
     "output_type": "stream",
     "text": [
      "'data.frame':\t2228 obs. of  9 variables:\n",
      " $ id        : int  1 1 1 1 1 2 2 2 2 2 ...\n",
      " $ time      : num  0 0.85 3.16 5.23 7.99 0 0.85 3.16 5.23 7.99 ...\n",
      " $ Y1        : num  NA -0.931 -0.931 -0.892 -0.221 ...\n",
      " $ Y2        : num  NA -0.878 -0.902 -1.152 -1.499 ...\n",
      " $ time2event: num  3.73 4 4 4 4 ...\n",
      " $ IsOFH     : num  0 0 0 0 0 0 0 0 0 0 ...\n",
      " $ Is_exp2   : num  1 1 1 1 1 1 1 1 1 1 ...\n",
      " $ Is_exp3   : num  0 0 0 0 0 0 0 0 0 0 ...\n",
      " $ weight    : num  NA 1692 1722 1655 1664 ...\n"
     ]
    }
   ],
   "source": [
    "############ \n",
    "#initialise what we want\n",
    "name = 'unevenness_severity_trend_rs0'\n",
    "#data_mvtha = subset(df,df$HAID!='created')\n",
    "#data_mvtha = data_mvtha %>% select (id, MonthInstudy, severity, VTDperhour)\n",
    "data_mvtha = df %>% select (id, MonthInstudy, severity, unevenness, time2event,IsOFH,Is_exp2,Is_exp3,weight)#, IsOFH, Is_relocated,Is_exp2,Is_exp3)\n",
    "data_mvtha = plyr::rename(data_mvtha, c('MonthInstudy'='time',\"severity\"=\"Y1\", \"unevenness\"=\"Y2\"))\n",
    "#data_mvtha$Y1 = sqrt(data_mvtha$Y1)\n",
    "\n",
    "#create directory\n",
    "path_save_ = file.path(path_save,name)\n",
    "dir.create(path_save_)\n",
    "#convert into double (integer leads to warning as Y1 and Y2 are double)\n",
    "#without centered TI: we get a warning: \"Uncentered TI predictors noted -- interpretability may be hindered and default priors \n",
    "#may not be appropriate\"\n",
    "#centering and scaling variables in the model\n",
    "li_sc = c('Y1','Y2')#, 'IsOFH', 'Is_relocated','Is_exp1','Is_exp2','Is_exp3')\n",
    "data_mvtha[,li_sc] = scale(data_mvtha[,li_sc]) \n",
    "#warning if we have double and integer, and as Y1 and Y2 are double, let set them all\n",
    "data_mvtha[li_sc] = sapply(data_mvtha[li_sc],as.double)\n",
    "data_mvtha[c('IsOFH','Is_exp2','Is_exp3')] = sapply(data_mvtha[c('IsOFH','Is_exp2','Is_exp3')],as.double)\n",
    "\n",
    "#pearson correlation\n",
    "df_ = na.omit(data_mvtha[,c('time','Y1', \"Y2\")])\n",
    "dim(df_)\n",
    "round(cor(df_[,c('time','Y1', \"Y2\")], method = c(\"pearson\")), 2)\n",
    "round(cor(df_[,c('time','Y1', \"Y2\")], method = c(\"spearman\")), 2)\n",
    "#show info\n",
    "dim(data_mvtha)\n",
    "head(data_mvtha,2)\n",
    "summary(data_mvtha)\n",
    "str(data_mvtha)"
   ]
  },
  {
   "cell_type": "code",
   "execution_count": 12,
   "id": "2e23a7a5",
   "metadata": {},
   "outputs": [
    {
     "data": {
      "text/html": [
       "<table class=\"dataframe\">\n",
       "<caption>A matrix: 6 × 6 of type chr</caption>\n",
       "<tbody>\n",
       "\t<tr><td>0</td><td>0</td><td>0</td><td>0</td><td>0                  </td><td>0           </td></tr>\n",
       "\t<tr><td>0</td><td>0</td><td>0</td><td>0</td><td>0                  </td><td>0           </td></tr>\n",
       "\t<tr><td>0</td><td>0</td><td>0</td><td>0</td><td>0                  </td><td>0           </td></tr>\n",
       "\t<tr><td>0</td><td>0</td><td>0</td><td>0</td><td>0                  </td><td>0           </td></tr>\n",
       "\t<tr><td>0</td><td>0</td><td>0</td><td>0</td><td>diffu_dynKBF       </td><td>0           </td></tr>\n",
       "\t<tr><td>0</td><td>0</td><td>0</td><td>0</td><td>diffu_dynVTD_dynKBF</td><td>diffu_dynVTD</td></tr>\n",
       "</tbody>\n",
       "</table>\n"
      ],
      "text/latex": [
       "A matrix: 6 × 6 of type chr\n",
       "\\begin{tabular}{llllll}\n",
       "\t 0 & 0 & 0 & 0 & 0                   & 0           \\\\\n",
       "\t 0 & 0 & 0 & 0 & 0                   & 0           \\\\\n",
       "\t 0 & 0 & 0 & 0 & 0                   & 0           \\\\\n",
       "\t 0 & 0 & 0 & 0 & 0                   & 0           \\\\\n",
       "\t 0 & 0 & 0 & 0 & diffu\\_dynKBF        & 0           \\\\\n",
       "\t 0 & 0 & 0 & 0 & diffu\\_dynVTD\\_dynKBF & diffu\\_dynVTD\\\\\n",
       "\\end{tabular}\n"
      ],
      "text/markdown": [
       "\n",
       "A matrix: 6 × 6 of type chr\n",
       "\n",
       "| 0 | 0 | 0 | 0 | 0                   | 0            |\n",
       "| 0 | 0 | 0 | 0 | 0                   | 0            |\n",
       "| 0 | 0 | 0 | 0 | 0                   | 0            |\n",
       "| 0 | 0 | 0 | 0 | 0                   | 0            |\n",
       "| 0 | 0 | 0 | 0 | diffu_dynKBF        | 0            |\n",
       "| 0 | 0 | 0 | 0 | diffu_dynVTD_dynKBF | diffu_dynVTD |\n",
       "\n"
      ],
      "text/plain": [
       "     [,1] [,2] [,3] [,4] [,5]                [,6]        \n",
       "[1,] 0    0    0    0    0                   0           \n",
       "[2,] 0    0    0    0    0                   0           \n",
       "[3,] 0    0    0    0    0                   0           \n",
       "[4,] 0    0    0    0    0                   0           \n",
       "[5,] 0    0    0    0    diffu_dynKBF        0           \n",
       "[6,] 0    0    0    0    diffu_dynVTD_dynKBF diffu_dynVTD"
      ]
     },
     "metadata": {},
     "output_type": "display_data"
    }
   ],
   "source": [
    "Mdiffu = matrix(c(0,0,0,0,0,0,\n",
    "              0,0,0,0,0,0,\n",
    "              0,0,0,0,0,0,\n",
    "              0,0,0,0,0,0,\n",
    "              0,0,0,0,'diffu_dynKBF','diffu_dynVTD_dynKBF',\n",
    "              0,0,0,0,0,'diffu_dynVTD'), ncol = 6)\n",
    "Mdiffu"
   ]
  },
  {
   "cell_type": "code",
   "execution_count": 13,
   "id": "7d0bb7b1",
   "metadata": {},
   "outputs": [
    {
     "data": {
      "text/html": [
       "<table class=\"dataframe\">\n",
       "<caption>A matrix: 6 × 6 of type chr</caption>\n",
       "<tbody>\n",
       "\t<tr><td>T0var_KBF        </td><td>0                </td><td>0                    </td><td>0            </td><td>0</td><td>0</td></tr>\n",
       "\t<tr><td>T0var_VTD_KBF    </td><td>T0var_VTD        </td><td>0                    </td><td>0            </td><td>0</td><td>0</td></tr>\n",
       "\t<tr><td>T0var_cintKBF_KBF</td><td>T0var_cintKBF_VTD</td><td>T0var_cintKBF        </td><td>0            </td><td>0</td><td>0</td></tr>\n",
       "\t<tr><td>T0var_cintVTD_KBF</td><td>T0var_cintVTD_VTD</td><td>T0var_cintVTD_cintKBF</td><td>T0var_cintVTD</td><td>0</td><td>0</td></tr>\n",
       "\t<tr><td>0                </td><td>0                </td><td>0                    </td><td>0            </td><td>0</td><td>0</td></tr>\n",
       "\t<tr><td>0                </td><td>0                </td><td>0                    </td><td>0            </td><td>0</td><td>0</td></tr>\n",
       "</tbody>\n",
       "</table>\n"
      ],
      "text/latex": [
       "A matrix: 6 × 6 of type chr\n",
       "\\begin{tabular}{llllll}\n",
       "\t T0var\\_KBF         & 0                 & 0                     & 0             & 0 & 0\\\\\n",
       "\t T0var\\_VTD\\_KBF     & T0var\\_VTD         & 0                     & 0             & 0 & 0\\\\\n",
       "\t T0var\\_cintKBF\\_KBF & T0var\\_cintKBF\\_VTD & T0var\\_cintKBF         & 0             & 0 & 0\\\\\n",
       "\t T0var\\_cintVTD\\_KBF & T0var\\_cintVTD\\_VTD & T0var\\_cintVTD\\_cintKBF & T0var\\_cintVTD & 0 & 0\\\\\n",
       "\t 0                 & 0                 & 0                     & 0             & 0 & 0\\\\\n",
       "\t 0                 & 0                 & 0                     & 0             & 0 & 0\\\\\n",
       "\\end{tabular}\n"
      ],
      "text/markdown": [
       "\n",
       "A matrix: 6 × 6 of type chr\n",
       "\n",
       "| T0var_KBF         | 0                 | 0                     | 0             | 0 | 0 |\n",
       "| T0var_VTD_KBF     | T0var_VTD         | 0                     | 0             | 0 | 0 |\n",
       "| T0var_cintKBF_KBF | T0var_cintKBF_VTD | T0var_cintKBF         | 0             | 0 | 0 |\n",
       "| T0var_cintVTD_KBF | T0var_cintVTD_VTD | T0var_cintVTD_cintKBF | T0var_cintVTD | 0 | 0 |\n",
       "| 0                 | 0                 | 0                     | 0             | 0 | 0 |\n",
       "| 0                 | 0                 | 0                     | 0             | 0 | 0 |\n",
       "\n"
      ],
      "text/plain": [
       "     [,1]              [,2]              [,3]                  [,4]         \n",
       "[1,] T0var_KBF         0                 0                     0            \n",
       "[2,] T0var_VTD_KBF     T0var_VTD         0                     0            \n",
       "[3,] T0var_cintKBF_KBF T0var_cintKBF_VTD T0var_cintKBF         0            \n",
       "[4,] T0var_cintVTD_KBF T0var_cintVTD_VTD T0var_cintVTD_cintKBF T0var_cintVTD\n",
       "[5,] 0                 0                 0                     0            \n",
       "[6,] 0                 0                 0                     0            \n",
       "     [,5] [,6]\n",
       "[1,] 0    0   \n",
       "[2,] 0    0   \n",
       "[3,] 0    0   \n",
       "[4,] 0    0   \n",
       "[5,] 0    0   \n",
       "[6,] 0    0   "
      ]
     },
     "metadata": {},
     "output_type": "display_data"
    }
   ],
   "source": [
    "#\"initial covariance matrices are fixed to zero in many elements such that these new dynamics processes do not interact or \n",
    "#co-vary with the other processes in the system\"\n",
    "Mt0var = matrix(c('T0var_KBF','T0var_VTD_KBF','T0var_cintKBF_KBF','T0var_cintVTD_KBF',0,0,\n",
    "                  0,'T0var_VTD','T0var_cintKBF_VTD','T0var_cintVTD_VTD',0,0,\n",
    "                  0,0,'T0var_cintKBF','T0var_cintVTD_cintKBF',0,0,\n",
    "                  0,0,0,'T0var_cintVTD',0,0,\n",
    "                  0,0,0,0,0,0,\n",
    "                  0,0,0,0,0,0), ncol=6)\n",
    "#TODO: no initial var in the dynamics process as it set to 0 always... correct?\n",
    "Mt0var"
   ]
  },
  {
   "cell_type": "code",
   "execution_count": 14,
   "id": "99ba431f",
   "metadata": {},
   "outputs": [
    {
     "data": {
      "text/html": [
       "<table class=\"dataframe\">\n",
       "<caption>A matrix: 6 × 1 of type chr</caption>\n",
       "<tbody>\n",
       "\t<tr><td>T0m_KBF    </td></tr>\n",
       "\t<tr><td>T0m_VTD    </td></tr>\n",
       "\t<tr><td>T0m_cintKBF</td></tr>\n",
       "\t<tr><td>T0m_cintVTD</td></tr>\n",
       "\t<tr><td>0          </td></tr>\n",
       "\t<tr><td>0          </td></tr>\n",
       "</tbody>\n",
       "</table>\n"
      ],
      "text/latex": [
       "A matrix: 6 × 1 of type chr\n",
       "\\begin{tabular}{l}\n",
       "\t T0m\\_KBF    \\\\\n",
       "\t T0m\\_VTD    \\\\\n",
       "\t T0m\\_cintKBF\\\\\n",
       "\t T0m\\_cintVTD\\\\\n",
       "\t 0          \\\\\n",
       "\t 0          \\\\\n",
       "\\end{tabular}\n"
      ],
      "text/markdown": [
       "\n",
       "A matrix: 6 × 1 of type chr\n",
       "\n",
       "| T0m_KBF     |\n",
       "| T0m_VTD     |\n",
       "| T0m_cintKBF |\n",
       "| T0m_cintVTD |\n",
       "| 0           |\n",
       "| 0           |\n",
       "\n"
      ],
      "text/plain": [
       "     [,1]       \n",
       "[1,] T0m_KBF    \n",
       "[2,] T0m_VTD    \n",
       "[3,] T0m_cintKBF\n",
       "[4,] T0m_cintVTD\n",
       "[5,] 0          \n",
       "[6,] 0          "
      ]
     },
     "metadata": {},
     "output_type": "display_data"
    }
   ],
   "source": [
    "#The initial state and continuous intercept for each dynamical process is set to zero, to ensure that the processes capture \n",
    "#only the fluctuations and not the general trends\n",
    "Mt0means = matrix(c('T0m_KBF','T0m_VTD','T0m_cintKBF','T0m_cintVTD',0,0),ncol=1)\n",
    "Mt0means\n",
    "MCINT = matrix(c(0,0,0,0,0,0),ncol=1)"
   ]
  },
  {
   "cell_type": "code",
   "execution_count": 15,
   "id": "fc1bc5c5",
   "metadata": {},
   "outputs": [
    {
     "data": {
      "text/html": [
       "<table class=\"dataframe\">\n",
       "<caption>A matrix: 6 × 6 of type chr</caption>\n",
       "<tbody>\n",
       "\t<tr><td>drift_KBF</td><td>0        </td><td>1</td><td>0</td><td>0                  </td><td>0                  </td></tr>\n",
       "\t<tr><td>0        </td><td>drift_VTD</td><td>0</td><td>1</td><td>0                  </td><td>0                  </td></tr>\n",
       "\t<tr><td>0        </td><td>0        </td><td>0</td><td>0</td><td>0                  </td><td>0                  </td></tr>\n",
       "\t<tr><td>0        </td><td>0        </td><td>0</td><td>0</td><td>0                  </td><td>0                  </td></tr>\n",
       "\t<tr><td>0        </td><td>0        </td><td>0</td><td>0</td><td>drift_dynKBF       </td><td>drift_dynKBF_dynVTD</td></tr>\n",
       "\t<tr><td>0        </td><td>0        </td><td>0</td><td>0</td><td>drift_dynVTD_dynKBF</td><td>drift_dynVTD       </td></tr>\n",
       "</tbody>\n",
       "</table>\n"
      ],
      "text/latex": [
       "A matrix: 6 × 6 of type chr\n",
       "\\begin{tabular}{llllll}\n",
       "\t drift\\_KBF & 0         & 1 & 0 & 0                   & 0                  \\\\\n",
       "\t 0         & drift\\_VTD & 0 & 1 & 0                   & 0                  \\\\\n",
       "\t 0         & 0         & 0 & 0 & 0                   & 0                  \\\\\n",
       "\t 0         & 0         & 0 & 0 & 0                   & 0                  \\\\\n",
       "\t 0         & 0         & 0 & 0 & drift\\_dynKBF        & drift\\_dynKBF\\_dynVTD\\\\\n",
       "\t 0         & 0         & 0 & 0 & drift\\_dynVTD\\_dynKBF & drift\\_dynVTD       \\\\\n",
       "\\end{tabular}\n"
      ],
      "text/markdown": [
       "\n",
       "A matrix: 6 × 6 of type chr\n",
       "\n",
       "| drift_KBF | 0         | 1 | 0 | 0                   | 0                   |\n",
       "| 0         | drift_VTD | 0 | 1 | 0                   | 0                   |\n",
       "| 0         | 0         | 0 | 0 | 0                   | 0                   |\n",
       "| 0         | 0         | 0 | 0 | 0                   | 0                   |\n",
       "| 0         | 0         | 0 | 0 | drift_dynKBF        | drift_dynKBF_dynVTD |\n",
       "| 0         | 0         | 0 | 0 | drift_dynVTD_dynKBF | drift_dynVTD        |\n",
       "\n"
      ],
      "text/plain": [
       "     [,1]      [,2]      [,3] [,4] [,5]                [,6]               \n",
       "[1,] drift_KBF 0         1    0    0                   0                  \n",
       "[2,] 0         drift_VTD 0    1    0                   0                  \n",
       "[3,] 0         0         0    0    0                   0                  \n",
       "[4,] 0         0         0    0    0                   0                  \n",
       "[5,] 0         0         0    0    drift_dynKBF        drift_dynKBF_dynVTD\n",
       "[6,] 0         0         0    0    drift_dynVTD_dynKBF drift_dynVTD       "
      ]
     },
     "metadata": {},
     "output_type": "display_data"
    }
   ],
   "source": [
    "#\"The auto-effect of the dynamics processes is estimated, setting the speed of the fluctuations\"\n",
    "Mdrift = matrix(c('drift_KBF',0,0,0,0,0,\n",
    "                    0,'drift_VTD',0,0,0,0,\n",
    "                    1,0,0,0,0,0,\n",
    "                    0,1,0,0,0,0,\n",
    "                    0,0,0,0,'drift_dynKBF','drift_dynVTD_dynKBF',\n",
    "                    0,0,0,0,'drift_dynKBF_dynVTD','drift_dynVTD'), ncol = 6)\n",
    "Mdrift"
   ]
  },
  {
   "cell_type": "code",
   "execution_count": 16,
   "id": "ac2a6b49",
   "metadata": {
    "scrolled": true
   },
   "outputs": [
    {
     "name": "stderr",
     "output_type": "stream",
     "text": [
      "Warning message in ctStanModel(completemodel, type = type, tipredDefault = tipredDefault):\n",
      "\"TI predictors included but no effects specified!\"\n"
     ]
    },
    {
     "data": {
      "text/html": [
       "<table class=\"dataframe\">\n",
       "<caption>A data.frame: 138 × 11</caption>\n",
       "<thead>\n",
       "\t<tr><th></th><th scope=col>matrix</th><th scope=col>row</th><th scope=col>col</th><th scope=col>param</th><th scope=col>value</th><th scope=col>transform</th><th scope=col>indvarying</th><th scope=col>sdscale</th><th scope=col>Is_exp3_effect</th><th scope=col>Is_exp2_effect</th><th scope=col>IsOFH_effect</th></tr>\n",
       "\t<tr><th></th><th scope=col>&lt;chr&gt;</th><th scope=col>&lt;int&gt;</th><th scope=col>&lt;int&gt;</th><th scope=col>&lt;chr&gt;</th><th scope=col>&lt;dbl&gt;</th><th scope=col>&lt;chr&gt;</th><th scope=col>&lt;lgl&gt;</th><th scope=col>&lt;dbl&gt;</th><th scope=col>&lt;lgl&gt;</th><th scope=col>&lt;lgl&gt;</th><th scope=col>&lt;lgl&gt;</th></tr>\n",
       "</thead>\n",
       "<tbody>\n",
       "\t<tr><th scope=row>1</th><td>T0MEANS</td><td>1</td><td>1</td><td>T0m_KBF    </td><td>NA</td><td>10 * param                            </td><td> TRUE</td><td> 1</td><td>FALSE</td><td>FALSE</td><td>FALSE</td></tr>\n",
       "\t<tr><th scope=row>2</th><td>T0MEANS</td><td>2</td><td>1</td><td>T0m_VTD    </td><td>NA</td><td>10 * param                            </td><td> TRUE</td><td> 1</td><td>FALSE</td><td>FALSE</td><td>FALSE</td></tr>\n",
       "\t<tr><th scope=row>3</th><td>T0MEANS</td><td>3</td><td>1</td><td>T0m_cintKBF</td><td>NA</td><td>10 * param                            </td><td> TRUE</td><td> 1</td><td>FALSE</td><td>FALSE</td><td>FALSE</td></tr>\n",
       "\t<tr><th scope=row>4</th><td>T0MEANS</td><td>4</td><td>1</td><td>T0m_cintVTD</td><td>NA</td><td>10 * param                            </td><td> TRUE</td><td> 1</td><td>FALSE</td><td>FALSE</td><td>FALSE</td></tr>\n",
       "\t<tr><th scope=row>5</th><td>T0MEANS</td><td>5</td><td>1</td><td>NA         </td><td> 0</td><td>NA                                    </td><td> TRUE</td><td>NA</td><td>FALSE</td><td>FALSE</td><td>FALSE</td></tr>\n",
       "\t<tr><th scope=row>6</th><td>T0MEANS</td><td>6</td><td>1</td><td>NA         </td><td> 0</td><td>NA                                    </td><td> TRUE</td><td>NA</td><td>FALSE</td><td>FALSE</td><td>FALSE</td></tr>\n",
       "\t<tr><th scope=row>7</th><td>LAMBDA </td><td>1</td><td>1</td><td>NA         </td><td> 1</td><td>NA                                    </td><td>FALSE</td><td>NA</td><td>FALSE</td><td>FALSE</td><td>FALSE</td></tr>\n",
       "\t<tr><th scope=row>8</th><td>LAMBDA </td><td>1</td><td>2</td><td>NA         </td><td> 0</td><td>NA                                    </td><td>FALSE</td><td>NA</td><td>FALSE</td><td>FALSE</td><td>FALSE</td></tr>\n",
       "\t<tr><th scope=row>9</th><td>LAMBDA </td><td>1</td><td>3</td><td>NA         </td><td> 0</td><td>NA                                    </td><td>FALSE</td><td>NA</td><td>FALSE</td><td>FALSE</td><td>FALSE</td></tr>\n",
       "\t<tr><th scope=row>10</th><td>LAMBDA </td><td>1</td><td>4</td><td>NA         </td><td> 0</td><td>NA                                    </td><td>FALSE</td><td>NA</td><td>FALSE</td><td>FALSE</td><td>FALSE</td></tr>\n",
       "\t<tr><th scope=row>11</th><td>LAMBDA </td><td>1</td><td>5</td><td>NA         </td><td> 1</td><td>NA                                    </td><td>FALSE</td><td>NA</td><td>FALSE</td><td>FALSE</td><td>FALSE</td></tr>\n",
       "\t<tr><th scope=row>12</th><td>LAMBDA </td><td>1</td><td>6</td><td>NA         </td><td> 0</td><td>NA                                    </td><td>FALSE</td><td>NA</td><td>FALSE</td><td>FALSE</td><td>FALSE</td></tr>\n",
       "\t<tr><th scope=row>13</th><td>LAMBDA </td><td>2</td><td>1</td><td>NA         </td><td> 0</td><td>NA                                    </td><td>FALSE</td><td>NA</td><td>FALSE</td><td>FALSE</td><td>FALSE</td></tr>\n",
       "\t<tr><th scope=row>14</th><td>LAMBDA </td><td>2</td><td>2</td><td>NA         </td><td> 1</td><td>NA                                    </td><td>FALSE</td><td>NA</td><td>FALSE</td><td>FALSE</td><td>FALSE</td></tr>\n",
       "\t<tr><th scope=row>15</th><td>LAMBDA </td><td>2</td><td>3</td><td>NA         </td><td> 0</td><td>NA                                    </td><td>FALSE</td><td>NA</td><td>FALSE</td><td>FALSE</td><td>FALSE</td></tr>\n",
       "\t<tr><th scope=row>16</th><td>LAMBDA </td><td>2</td><td>4</td><td>NA         </td><td> 0</td><td>NA                                    </td><td>FALSE</td><td>NA</td><td>FALSE</td><td>FALSE</td><td>FALSE</td></tr>\n",
       "\t<tr><th scope=row>17</th><td>LAMBDA </td><td>2</td><td>5</td><td>NA         </td><td> 0</td><td>NA                                    </td><td>FALSE</td><td>NA</td><td>FALSE</td><td>FALSE</td><td>FALSE</td></tr>\n",
       "\t<tr><th scope=row>18</th><td>LAMBDA </td><td>2</td><td>6</td><td>NA         </td><td> 1</td><td>NA                                    </td><td>FALSE</td><td>NA</td><td>FALSE</td><td>FALSE</td><td>FALSE</td></tr>\n",
       "\t<tr><th scope=row>19</th><td>DRIFT  </td><td>1</td><td>1</td><td>drift_KBF  </td><td>NA</td><td>-(1e-06 + 2 * log1p_exp(-(2 * param)))</td><td>FALSE</td><td> 1</td><td>FALSE</td><td>FALSE</td><td>FALSE</td></tr>\n",
       "\t<tr><th scope=row>20</th><td>DRIFT  </td><td>1</td><td>2</td><td>NA         </td><td> 0</td><td>NA                                    </td><td>FALSE</td><td>NA</td><td>FALSE</td><td>FALSE</td><td>FALSE</td></tr>\n",
       "\t<tr><th scope=row>21</th><td>DRIFT  </td><td>1</td><td>3</td><td>NA         </td><td> 1</td><td>NA                                    </td><td>FALSE</td><td>NA</td><td>FALSE</td><td>FALSE</td><td>FALSE</td></tr>\n",
       "\t<tr><th scope=row>22</th><td>DRIFT  </td><td>1</td><td>4</td><td>NA         </td><td> 0</td><td>NA                                    </td><td>FALSE</td><td>NA</td><td>FALSE</td><td>FALSE</td><td>FALSE</td></tr>\n",
       "\t<tr><th scope=row>23</th><td>DRIFT  </td><td>1</td><td>5</td><td>NA         </td><td> 0</td><td>NA                                    </td><td>FALSE</td><td>NA</td><td>FALSE</td><td>FALSE</td><td>FALSE</td></tr>\n",
       "\t<tr><th scope=row>24</th><td>DRIFT  </td><td>1</td><td>6</td><td>NA         </td><td> 0</td><td>NA                                    </td><td>FALSE</td><td>NA</td><td>FALSE</td><td>FALSE</td><td>FALSE</td></tr>\n",
       "\t<tr><th scope=row>25</th><td>DRIFT  </td><td>2</td><td>1</td><td>NA         </td><td> 0</td><td>NA                                    </td><td>FALSE</td><td>NA</td><td>FALSE</td><td>FALSE</td><td>FALSE</td></tr>\n",
       "\t<tr><th scope=row>26</th><td>DRIFT  </td><td>2</td><td>2</td><td>drift_VTD  </td><td>NA</td><td>-(1e-06 + 2 * log1p_exp(-(2 * param)))</td><td>FALSE</td><td> 1</td><td>FALSE</td><td>FALSE</td><td>FALSE</td></tr>\n",
       "\t<tr><th scope=row>27</th><td>DRIFT  </td><td>2</td><td>3</td><td>NA         </td><td> 0</td><td>NA                                    </td><td>FALSE</td><td>NA</td><td>FALSE</td><td>FALSE</td><td>FALSE</td></tr>\n",
       "\t<tr><th scope=row>28</th><td>DRIFT  </td><td>2</td><td>4</td><td>NA         </td><td> 1</td><td>NA                                    </td><td>FALSE</td><td>NA</td><td>FALSE</td><td>FALSE</td><td>FALSE</td></tr>\n",
       "\t<tr><th scope=row>29</th><td>DRIFT  </td><td>2</td><td>5</td><td>NA         </td><td> 0</td><td>NA                                    </td><td>FALSE</td><td>NA</td><td>FALSE</td><td>FALSE</td><td>FALSE</td></tr>\n",
       "\t<tr><th scope=row>30</th><td>DRIFT  </td><td>2</td><td>6</td><td>NA         </td><td> 0</td><td>NA                                    </td><td>FALSE</td><td>NA</td><td>FALSE</td><td>FALSE</td><td>FALSE</td></tr>\n",
       "\t<tr><th scope=row>...</th><td>...</td><td>...</td><td>...</td><td>...</td><td>...</td><td>...</td><td>...</td><td>...</td><td>...</td><td>...</td><td>...</td></tr>\n",
       "\t<tr><th scope=row>109</th><td>T0VAR</td><td>2</td><td>1</td><td>T0var_VTD_KBF        </td><td>NA</td><td>2/(1 + exp(-param)) - 1         </td><td>FALSE</td><td> 1</td><td>FALSE</td><td>FALSE</td><td>FALSE</td></tr>\n",
       "\t<tr><th scope=row>110</th><td>T0VAR</td><td>2</td><td>2</td><td>T0var_VTD            </td><td>NA</td><td>1e-10 + 5 * log1p_exp(2 * param)</td><td>FALSE</td><td> 1</td><td>FALSE</td><td>FALSE</td><td>FALSE</td></tr>\n",
       "\t<tr><th scope=row>111</th><td>T0VAR</td><td>2</td><td>3</td><td>NA                   </td><td> 0</td><td>NA                              </td><td>FALSE</td><td>NA</td><td>FALSE</td><td>FALSE</td><td>FALSE</td></tr>\n",
       "\t<tr><th scope=row>112</th><td>T0VAR</td><td>2</td><td>4</td><td>NA                   </td><td> 0</td><td>NA                              </td><td>FALSE</td><td>NA</td><td>FALSE</td><td>FALSE</td><td>FALSE</td></tr>\n",
       "\t<tr><th scope=row>113</th><td>T0VAR</td><td>2</td><td>5</td><td>NA                   </td><td> 0</td><td>NA                              </td><td>FALSE</td><td>NA</td><td>FALSE</td><td>FALSE</td><td>FALSE</td></tr>\n",
       "\t<tr><th scope=row>114</th><td>T0VAR</td><td>2</td><td>6</td><td>NA                   </td><td> 0</td><td>NA                              </td><td>FALSE</td><td>NA</td><td>FALSE</td><td>FALSE</td><td>FALSE</td></tr>\n",
       "\t<tr><th scope=row>115</th><td>T0VAR</td><td>3</td><td>1</td><td>T0var_cintKBF_KBF    </td><td>NA</td><td>2/(1 + exp(-param)) - 1         </td><td>FALSE</td><td> 1</td><td>FALSE</td><td>FALSE</td><td>FALSE</td></tr>\n",
       "\t<tr><th scope=row>116</th><td>T0VAR</td><td>3</td><td>2</td><td>T0var_cintKBF_VTD    </td><td>NA</td><td>2/(1 + exp(-param)) - 1         </td><td>FALSE</td><td> 1</td><td>FALSE</td><td>FALSE</td><td>FALSE</td></tr>\n",
       "\t<tr><th scope=row>117</th><td>T0VAR</td><td>3</td><td>3</td><td>T0var_cintKBF        </td><td>NA</td><td>1e-10 + 5 * log1p_exp(2 * param)</td><td>FALSE</td><td> 1</td><td>FALSE</td><td>FALSE</td><td>FALSE</td></tr>\n",
       "\t<tr><th scope=row>118</th><td>T0VAR</td><td>3</td><td>4</td><td>NA                   </td><td> 0</td><td>NA                              </td><td>FALSE</td><td>NA</td><td>FALSE</td><td>FALSE</td><td>FALSE</td></tr>\n",
       "\t<tr><th scope=row>119</th><td>T0VAR</td><td>3</td><td>5</td><td>NA                   </td><td> 0</td><td>NA                              </td><td>FALSE</td><td>NA</td><td>FALSE</td><td>FALSE</td><td>FALSE</td></tr>\n",
       "\t<tr><th scope=row>120</th><td>T0VAR</td><td>3</td><td>6</td><td>NA                   </td><td> 0</td><td>NA                              </td><td>FALSE</td><td>NA</td><td>FALSE</td><td>FALSE</td><td>FALSE</td></tr>\n",
       "\t<tr><th scope=row>121</th><td>T0VAR</td><td>4</td><td>1</td><td>T0var_cintVTD_KBF    </td><td>NA</td><td>2/(1 + exp(-param)) - 1         </td><td>FALSE</td><td> 1</td><td>FALSE</td><td>FALSE</td><td>FALSE</td></tr>\n",
       "\t<tr><th scope=row>122</th><td>T0VAR</td><td>4</td><td>2</td><td>T0var_cintVTD_VTD    </td><td>NA</td><td>2/(1 + exp(-param)) - 1         </td><td>FALSE</td><td> 1</td><td>FALSE</td><td>FALSE</td><td>FALSE</td></tr>\n",
       "\t<tr><th scope=row>123</th><td>T0VAR</td><td>4</td><td>3</td><td>T0var_cintVTD_cintKBF</td><td>NA</td><td>2/(1 + exp(-param)) - 1         </td><td>FALSE</td><td> 1</td><td>FALSE</td><td>FALSE</td><td>FALSE</td></tr>\n",
       "\t<tr><th scope=row>124</th><td>T0VAR</td><td>4</td><td>4</td><td>T0var_cintVTD        </td><td>NA</td><td>1e-10 + 5 * log1p_exp(2 * param)</td><td>FALSE</td><td> 1</td><td>FALSE</td><td>FALSE</td><td>FALSE</td></tr>\n",
       "\t<tr><th scope=row>125</th><td>T0VAR</td><td>4</td><td>5</td><td>NA                   </td><td> 0</td><td>NA                              </td><td>FALSE</td><td>NA</td><td>FALSE</td><td>FALSE</td><td>FALSE</td></tr>\n",
       "\t<tr><th scope=row>126</th><td>T0VAR</td><td>4</td><td>6</td><td>NA                   </td><td> 0</td><td>NA                              </td><td>FALSE</td><td>NA</td><td>FALSE</td><td>FALSE</td><td>FALSE</td></tr>\n",
       "\t<tr><th scope=row>127</th><td>T0VAR</td><td>5</td><td>1</td><td>NA                   </td><td> 0</td><td>NA                              </td><td>FALSE</td><td>NA</td><td>FALSE</td><td>FALSE</td><td>FALSE</td></tr>\n",
       "\t<tr><th scope=row>128</th><td>T0VAR</td><td>5</td><td>2</td><td>NA                   </td><td> 0</td><td>NA                              </td><td>FALSE</td><td>NA</td><td>FALSE</td><td>FALSE</td><td>FALSE</td></tr>\n",
       "\t<tr><th scope=row>129</th><td>T0VAR</td><td>5</td><td>3</td><td>NA                   </td><td> 0</td><td>NA                              </td><td>FALSE</td><td>NA</td><td>FALSE</td><td>FALSE</td><td>FALSE</td></tr>\n",
       "\t<tr><th scope=row>130</th><td>T0VAR</td><td>5</td><td>4</td><td>NA                   </td><td> 0</td><td>NA                              </td><td>FALSE</td><td>NA</td><td>FALSE</td><td>FALSE</td><td>FALSE</td></tr>\n",
       "\t<tr><th scope=row>131</th><td>T0VAR</td><td>5</td><td>5</td><td>NA                   </td><td> 0</td><td>NA                              </td><td>FALSE</td><td>NA</td><td>FALSE</td><td>FALSE</td><td>FALSE</td></tr>\n",
       "\t<tr><th scope=row>132</th><td>T0VAR</td><td>5</td><td>6</td><td>NA                   </td><td> 0</td><td>NA                              </td><td>FALSE</td><td>NA</td><td>FALSE</td><td>FALSE</td><td>FALSE</td></tr>\n",
       "\t<tr><th scope=row>133</th><td>T0VAR</td><td>6</td><td>1</td><td>NA                   </td><td> 0</td><td>NA                              </td><td>FALSE</td><td>NA</td><td>FALSE</td><td>FALSE</td><td>FALSE</td></tr>\n",
       "\t<tr><th scope=row>134</th><td>T0VAR</td><td>6</td><td>2</td><td>NA                   </td><td> 0</td><td>NA                              </td><td>FALSE</td><td>NA</td><td>FALSE</td><td>FALSE</td><td>FALSE</td></tr>\n",
       "\t<tr><th scope=row>135</th><td>T0VAR</td><td>6</td><td>3</td><td>NA                   </td><td> 0</td><td>NA                              </td><td>FALSE</td><td>NA</td><td>FALSE</td><td>FALSE</td><td>FALSE</td></tr>\n",
       "\t<tr><th scope=row>136</th><td>T0VAR</td><td>6</td><td>4</td><td>NA                   </td><td> 0</td><td>NA                              </td><td>FALSE</td><td>NA</td><td>FALSE</td><td>FALSE</td><td>FALSE</td></tr>\n",
       "\t<tr><th scope=row>137</th><td>T0VAR</td><td>6</td><td>5</td><td>NA                   </td><td> 0</td><td>NA                              </td><td>FALSE</td><td>NA</td><td>FALSE</td><td>FALSE</td><td>FALSE</td></tr>\n",
       "\t<tr><th scope=row>138</th><td>T0VAR</td><td>6</td><td>6</td><td>NA                   </td><td> 0</td><td>NA                              </td><td>FALSE</td><td>NA</td><td>FALSE</td><td>FALSE</td><td>FALSE</td></tr>\n",
       "</tbody>\n",
       "</table>\n"
      ],
      "text/latex": [
       "A data.frame: 138 × 11\n",
       "\\begin{tabular}{r|lllllllllll}\n",
       "  & matrix & row & col & param & value & transform & indvarying & sdscale & Is\\_exp3\\_effect & Is\\_exp2\\_effect & IsOFH\\_effect\\\\\n",
       "  & <chr> & <int> & <int> & <chr> & <dbl> & <chr> & <lgl> & <dbl> & <lgl> & <lgl> & <lgl>\\\\\n",
       "\\hline\n",
       "\t1 & T0MEANS & 1 & 1 & T0m\\_KBF     & NA & 10 * param                             &  TRUE &  1 & FALSE & FALSE & FALSE\\\\\n",
       "\t2 & T0MEANS & 2 & 1 & T0m\\_VTD     & NA & 10 * param                             &  TRUE &  1 & FALSE & FALSE & FALSE\\\\\n",
       "\t3 & T0MEANS & 3 & 1 & T0m\\_cintKBF & NA & 10 * param                             &  TRUE &  1 & FALSE & FALSE & FALSE\\\\\n",
       "\t4 & T0MEANS & 4 & 1 & T0m\\_cintVTD & NA & 10 * param                             &  TRUE &  1 & FALSE & FALSE & FALSE\\\\\n",
       "\t5 & T0MEANS & 5 & 1 & NA          &  0 & NA                                     &  TRUE & NA & FALSE & FALSE & FALSE\\\\\n",
       "\t6 & T0MEANS & 6 & 1 & NA          &  0 & NA                                     &  TRUE & NA & FALSE & FALSE & FALSE\\\\\n",
       "\t7 & LAMBDA  & 1 & 1 & NA          &  1 & NA                                     & FALSE & NA & FALSE & FALSE & FALSE\\\\\n",
       "\t8 & LAMBDA  & 1 & 2 & NA          &  0 & NA                                     & FALSE & NA & FALSE & FALSE & FALSE\\\\\n",
       "\t9 & LAMBDA  & 1 & 3 & NA          &  0 & NA                                     & FALSE & NA & FALSE & FALSE & FALSE\\\\\n",
       "\t10 & LAMBDA  & 1 & 4 & NA          &  0 & NA                                     & FALSE & NA & FALSE & FALSE & FALSE\\\\\n",
       "\t11 & LAMBDA  & 1 & 5 & NA          &  1 & NA                                     & FALSE & NA & FALSE & FALSE & FALSE\\\\\n",
       "\t12 & LAMBDA  & 1 & 6 & NA          &  0 & NA                                     & FALSE & NA & FALSE & FALSE & FALSE\\\\\n",
       "\t13 & LAMBDA  & 2 & 1 & NA          &  0 & NA                                     & FALSE & NA & FALSE & FALSE & FALSE\\\\\n",
       "\t14 & LAMBDA  & 2 & 2 & NA          &  1 & NA                                     & FALSE & NA & FALSE & FALSE & FALSE\\\\\n",
       "\t15 & LAMBDA  & 2 & 3 & NA          &  0 & NA                                     & FALSE & NA & FALSE & FALSE & FALSE\\\\\n",
       "\t16 & LAMBDA  & 2 & 4 & NA          &  0 & NA                                     & FALSE & NA & FALSE & FALSE & FALSE\\\\\n",
       "\t17 & LAMBDA  & 2 & 5 & NA          &  0 & NA                                     & FALSE & NA & FALSE & FALSE & FALSE\\\\\n",
       "\t18 & LAMBDA  & 2 & 6 & NA          &  1 & NA                                     & FALSE & NA & FALSE & FALSE & FALSE\\\\\n",
       "\t19 & DRIFT   & 1 & 1 & drift\\_KBF   & NA & -(1e-06 + 2 * log1p\\_exp(-(2 * param))) & FALSE &  1 & FALSE & FALSE & FALSE\\\\\n",
       "\t20 & DRIFT   & 1 & 2 & NA          &  0 & NA                                     & FALSE & NA & FALSE & FALSE & FALSE\\\\\n",
       "\t21 & DRIFT   & 1 & 3 & NA          &  1 & NA                                     & FALSE & NA & FALSE & FALSE & FALSE\\\\\n",
       "\t22 & DRIFT   & 1 & 4 & NA          &  0 & NA                                     & FALSE & NA & FALSE & FALSE & FALSE\\\\\n",
       "\t23 & DRIFT   & 1 & 5 & NA          &  0 & NA                                     & FALSE & NA & FALSE & FALSE & FALSE\\\\\n",
       "\t24 & DRIFT   & 1 & 6 & NA          &  0 & NA                                     & FALSE & NA & FALSE & FALSE & FALSE\\\\\n",
       "\t25 & DRIFT   & 2 & 1 & NA          &  0 & NA                                     & FALSE & NA & FALSE & FALSE & FALSE\\\\\n",
       "\t26 & DRIFT   & 2 & 2 & drift\\_VTD   & NA & -(1e-06 + 2 * log1p\\_exp(-(2 * param))) & FALSE &  1 & FALSE & FALSE & FALSE\\\\\n",
       "\t27 & DRIFT   & 2 & 3 & NA          &  0 & NA                                     & FALSE & NA & FALSE & FALSE & FALSE\\\\\n",
       "\t28 & DRIFT   & 2 & 4 & NA          &  1 & NA                                     & FALSE & NA & FALSE & FALSE & FALSE\\\\\n",
       "\t29 & DRIFT   & 2 & 5 & NA          &  0 & NA                                     & FALSE & NA & FALSE & FALSE & FALSE\\\\\n",
       "\t30 & DRIFT   & 2 & 6 & NA          &  0 & NA                                     & FALSE & NA & FALSE & FALSE & FALSE\\\\\n",
       "\t... & ... & ... & ... & ... & ... & ... & ... & ... & ... & ... & ...\\\\\n",
       "\t109 & T0VAR & 2 & 1 & T0var\\_VTD\\_KBF         & NA & 2/(1 + exp(-param)) - 1          & FALSE &  1 & FALSE & FALSE & FALSE\\\\\n",
       "\t110 & T0VAR & 2 & 2 & T0var\\_VTD             & NA & 1e-10 + 5 * log1p\\_exp(2 * param) & FALSE &  1 & FALSE & FALSE & FALSE\\\\\n",
       "\t111 & T0VAR & 2 & 3 & NA                    &  0 & NA                               & FALSE & NA & FALSE & FALSE & FALSE\\\\\n",
       "\t112 & T0VAR & 2 & 4 & NA                    &  0 & NA                               & FALSE & NA & FALSE & FALSE & FALSE\\\\\n",
       "\t113 & T0VAR & 2 & 5 & NA                    &  0 & NA                               & FALSE & NA & FALSE & FALSE & FALSE\\\\\n",
       "\t114 & T0VAR & 2 & 6 & NA                    &  0 & NA                               & FALSE & NA & FALSE & FALSE & FALSE\\\\\n",
       "\t115 & T0VAR & 3 & 1 & T0var\\_cintKBF\\_KBF     & NA & 2/(1 + exp(-param)) - 1          & FALSE &  1 & FALSE & FALSE & FALSE\\\\\n",
       "\t116 & T0VAR & 3 & 2 & T0var\\_cintKBF\\_VTD     & NA & 2/(1 + exp(-param)) - 1          & FALSE &  1 & FALSE & FALSE & FALSE\\\\\n",
       "\t117 & T0VAR & 3 & 3 & T0var\\_cintKBF         & NA & 1e-10 + 5 * log1p\\_exp(2 * param) & FALSE &  1 & FALSE & FALSE & FALSE\\\\\n",
       "\t118 & T0VAR & 3 & 4 & NA                    &  0 & NA                               & FALSE & NA & FALSE & FALSE & FALSE\\\\\n",
       "\t119 & T0VAR & 3 & 5 & NA                    &  0 & NA                               & FALSE & NA & FALSE & FALSE & FALSE\\\\\n",
       "\t120 & T0VAR & 3 & 6 & NA                    &  0 & NA                               & FALSE & NA & FALSE & FALSE & FALSE\\\\\n",
       "\t121 & T0VAR & 4 & 1 & T0var\\_cintVTD\\_KBF     & NA & 2/(1 + exp(-param)) - 1          & FALSE &  1 & FALSE & FALSE & FALSE\\\\\n",
       "\t122 & T0VAR & 4 & 2 & T0var\\_cintVTD\\_VTD     & NA & 2/(1 + exp(-param)) - 1          & FALSE &  1 & FALSE & FALSE & FALSE\\\\\n",
       "\t123 & T0VAR & 4 & 3 & T0var\\_cintVTD\\_cintKBF & NA & 2/(1 + exp(-param)) - 1          & FALSE &  1 & FALSE & FALSE & FALSE\\\\\n",
       "\t124 & T0VAR & 4 & 4 & T0var\\_cintVTD         & NA & 1e-10 + 5 * log1p\\_exp(2 * param) & FALSE &  1 & FALSE & FALSE & FALSE\\\\\n",
       "\t125 & T0VAR & 4 & 5 & NA                    &  0 & NA                               & FALSE & NA & FALSE & FALSE & FALSE\\\\\n",
       "\t126 & T0VAR & 4 & 6 & NA                    &  0 & NA                               & FALSE & NA & FALSE & FALSE & FALSE\\\\\n",
       "\t127 & T0VAR & 5 & 1 & NA                    &  0 & NA                               & FALSE & NA & FALSE & FALSE & FALSE\\\\\n",
       "\t128 & T0VAR & 5 & 2 & NA                    &  0 & NA                               & FALSE & NA & FALSE & FALSE & FALSE\\\\\n",
       "\t129 & T0VAR & 5 & 3 & NA                    &  0 & NA                               & FALSE & NA & FALSE & FALSE & FALSE\\\\\n",
       "\t130 & T0VAR & 5 & 4 & NA                    &  0 & NA                               & FALSE & NA & FALSE & FALSE & FALSE\\\\\n",
       "\t131 & T0VAR & 5 & 5 & NA                    &  0 & NA                               & FALSE & NA & FALSE & FALSE & FALSE\\\\\n",
       "\t132 & T0VAR & 5 & 6 & NA                    &  0 & NA                               & FALSE & NA & FALSE & FALSE & FALSE\\\\\n",
       "\t133 & T0VAR & 6 & 1 & NA                    &  0 & NA                               & FALSE & NA & FALSE & FALSE & FALSE\\\\\n",
       "\t134 & T0VAR & 6 & 2 & NA                    &  0 & NA                               & FALSE & NA & FALSE & FALSE & FALSE\\\\\n",
       "\t135 & T0VAR & 6 & 3 & NA                    &  0 & NA                               & FALSE & NA & FALSE & FALSE & FALSE\\\\\n",
       "\t136 & T0VAR & 6 & 4 & NA                    &  0 & NA                               & FALSE & NA & FALSE & FALSE & FALSE\\\\\n",
       "\t137 & T0VAR & 6 & 5 & NA                    &  0 & NA                               & FALSE & NA & FALSE & FALSE & FALSE\\\\\n",
       "\t138 & T0VAR & 6 & 6 & NA                    &  0 & NA                               & FALSE & NA & FALSE & FALSE & FALSE\\\\\n",
       "\\end{tabular}\n"
      ],
      "text/markdown": [
       "\n",
       "A data.frame: 138 × 11\n",
       "\n",
       "| <!--/--> | matrix &lt;chr&gt; | row &lt;int&gt; | col &lt;int&gt; | param &lt;chr&gt; | value &lt;dbl&gt; | transform &lt;chr&gt; | indvarying &lt;lgl&gt; | sdscale &lt;dbl&gt; | Is_exp3_effect &lt;lgl&gt; | Is_exp2_effect &lt;lgl&gt; | IsOFH_effect &lt;lgl&gt; |\n",
       "|---|---|---|---|---|---|---|---|---|---|---|---|\n",
       "| 1 | T0MEANS | 1 | 1 | T0m_KBF     | NA | 10 * param                             |  TRUE |  1 | FALSE | FALSE | FALSE |\n",
       "| 2 | T0MEANS | 2 | 1 | T0m_VTD     | NA | 10 * param                             |  TRUE |  1 | FALSE | FALSE | FALSE |\n",
       "| 3 | T0MEANS | 3 | 1 | T0m_cintKBF | NA | 10 * param                             |  TRUE |  1 | FALSE | FALSE | FALSE |\n",
       "| 4 | T0MEANS | 4 | 1 | T0m_cintVTD | NA | 10 * param                             |  TRUE |  1 | FALSE | FALSE | FALSE |\n",
       "| 5 | T0MEANS | 5 | 1 | NA          |  0 | NA                                     |  TRUE | NA | FALSE | FALSE | FALSE |\n",
       "| 6 | T0MEANS | 6 | 1 | NA          |  0 | NA                                     |  TRUE | NA | FALSE | FALSE | FALSE |\n",
       "| 7 | LAMBDA  | 1 | 1 | NA          |  1 | NA                                     | FALSE | NA | FALSE | FALSE | FALSE |\n",
       "| 8 | LAMBDA  | 1 | 2 | NA          |  0 | NA                                     | FALSE | NA | FALSE | FALSE | FALSE |\n",
       "| 9 | LAMBDA  | 1 | 3 | NA          |  0 | NA                                     | FALSE | NA | FALSE | FALSE | FALSE |\n",
       "| 10 | LAMBDA  | 1 | 4 | NA          |  0 | NA                                     | FALSE | NA | FALSE | FALSE | FALSE |\n",
       "| 11 | LAMBDA  | 1 | 5 | NA          |  1 | NA                                     | FALSE | NA | FALSE | FALSE | FALSE |\n",
       "| 12 | LAMBDA  | 1 | 6 | NA          |  0 | NA                                     | FALSE | NA | FALSE | FALSE | FALSE |\n",
       "| 13 | LAMBDA  | 2 | 1 | NA          |  0 | NA                                     | FALSE | NA | FALSE | FALSE | FALSE |\n",
       "| 14 | LAMBDA  | 2 | 2 | NA          |  1 | NA                                     | FALSE | NA | FALSE | FALSE | FALSE |\n",
       "| 15 | LAMBDA  | 2 | 3 | NA          |  0 | NA                                     | FALSE | NA | FALSE | FALSE | FALSE |\n",
       "| 16 | LAMBDA  | 2 | 4 | NA          |  0 | NA                                     | FALSE | NA | FALSE | FALSE | FALSE |\n",
       "| 17 | LAMBDA  | 2 | 5 | NA          |  0 | NA                                     | FALSE | NA | FALSE | FALSE | FALSE |\n",
       "| 18 | LAMBDA  | 2 | 6 | NA          |  1 | NA                                     | FALSE | NA | FALSE | FALSE | FALSE |\n",
       "| 19 | DRIFT   | 1 | 1 | drift_KBF   | NA | -(1e-06 + 2 * log1p_exp(-(2 * param))) | FALSE |  1 | FALSE | FALSE | FALSE |\n",
       "| 20 | DRIFT   | 1 | 2 | NA          |  0 | NA                                     | FALSE | NA | FALSE | FALSE | FALSE |\n",
       "| 21 | DRIFT   | 1 | 3 | NA          |  1 | NA                                     | FALSE | NA | FALSE | FALSE | FALSE |\n",
       "| 22 | DRIFT   | 1 | 4 | NA          |  0 | NA                                     | FALSE | NA | FALSE | FALSE | FALSE |\n",
       "| 23 | DRIFT   | 1 | 5 | NA          |  0 | NA                                     | FALSE | NA | FALSE | FALSE | FALSE |\n",
       "| 24 | DRIFT   | 1 | 6 | NA          |  0 | NA                                     | FALSE | NA | FALSE | FALSE | FALSE |\n",
       "| 25 | DRIFT   | 2 | 1 | NA          |  0 | NA                                     | FALSE | NA | FALSE | FALSE | FALSE |\n",
       "| 26 | DRIFT   | 2 | 2 | drift_VTD   | NA | -(1e-06 + 2 * log1p_exp(-(2 * param))) | FALSE |  1 | FALSE | FALSE | FALSE |\n",
       "| 27 | DRIFT   | 2 | 3 | NA          |  0 | NA                                     | FALSE | NA | FALSE | FALSE | FALSE |\n",
       "| 28 | DRIFT   | 2 | 4 | NA          |  1 | NA                                     | FALSE | NA | FALSE | FALSE | FALSE |\n",
       "| 29 | DRIFT   | 2 | 5 | NA          |  0 | NA                                     | FALSE | NA | FALSE | FALSE | FALSE |\n",
       "| 30 | DRIFT   | 2 | 6 | NA          |  0 | NA                                     | FALSE | NA | FALSE | FALSE | FALSE |\n",
       "| ... | ... | ... | ... | ... | ... | ... | ... | ... | ... | ... | ... |\n",
       "| 109 | T0VAR | 2 | 1 | T0var_VTD_KBF         | NA | 2/(1 + exp(-param)) - 1          | FALSE |  1 | FALSE | FALSE | FALSE |\n",
       "| 110 | T0VAR | 2 | 2 | T0var_VTD             | NA | 1e-10 + 5 * log1p_exp(2 * param) | FALSE |  1 | FALSE | FALSE | FALSE |\n",
       "| 111 | T0VAR | 2 | 3 | NA                    |  0 | NA                               | FALSE | NA | FALSE | FALSE | FALSE |\n",
       "| 112 | T0VAR | 2 | 4 | NA                    |  0 | NA                               | FALSE | NA | FALSE | FALSE | FALSE |\n",
       "| 113 | T0VAR | 2 | 5 | NA                    |  0 | NA                               | FALSE | NA | FALSE | FALSE | FALSE |\n",
       "| 114 | T0VAR | 2 | 6 | NA                    |  0 | NA                               | FALSE | NA | FALSE | FALSE | FALSE |\n",
       "| 115 | T0VAR | 3 | 1 | T0var_cintKBF_KBF     | NA | 2/(1 + exp(-param)) - 1          | FALSE |  1 | FALSE | FALSE | FALSE |\n",
       "| 116 | T0VAR | 3 | 2 | T0var_cintKBF_VTD     | NA | 2/(1 + exp(-param)) - 1          | FALSE |  1 | FALSE | FALSE | FALSE |\n",
       "| 117 | T0VAR | 3 | 3 | T0var_cintKBF         | NA | 1e-10 + 5 * log1p_exp(2 * param) | FALSE |  1 | FALSE | FALSE | FALSE |\n",
       "| 118 | T0VAR | 3 | 4 | NA                    |  0 | NA                               | FALSE | NA | FALSE | FALSE | FALSE |\n",
       "| 119 | T0VAR | 3 | 5 | NA                    |  0 | NA                               | FALSE | NA | FALSE | FALSE | FALSE |\n",
       "| 120 | T0VAR | 3 | 6 | NA                    |  0 | NA                               | FALSE | NA | FALSE | FALSE | FALSE |\n",
       "| 121 | T0VAR | 4 | 1 | T0var_cintVTD_KBF     | NA | 2/(1 + exp(-param)) - 1          | FALSE |  1 | FALSE | FALSE | FALSE |\n",
       "| 122 | T0VAR | 4 | 2 | T0var_cintVTD_VTD     | NA | 2/(1 + exp(-param)) - 1          | FALSE |  1 | FALSE | FALSE | FALSE |\n",
       "| 123 | T0VAR | 4 | 3 | T0var_cintVTD_cintKBF | NA | 2/(1 + exp(-param)) - 1          | FALSE |  1 | FALSE | FALSE | FALSE |\n",
       "| 124 | T0VAR | 4 | 4 | T0var_cintVTD         | NA | 1e-10 + 5 * log1p_exp(2 * param) | FALSE |  1 | FALSE | FALSE | FALSE |\n",
       "| 125 | T0VAR | 4 | 5 | NA                    |  0 | NA                               | FALSE | NA | FALSE | FALSE | FALSE |\n",
       "| 126 | T0VAR | 4 | 6 | NA                    |  0 | NA                               | FALSE | NA | FALSE | FALSE | FALSE |\n",
       "| 127 | T0VAR | 5 | 1 | NA                    |  0 | NA                               | FALSE | NA | FALSE | FALSE | FALSE |\n",
       "| 128 | T0VAR | 5 | 2 | NA                    |  0 | NA                               | FALSE | NA | FALSE | FALSE | FALSE |\n",
       "| 129 | T0VAR | 5 | 3 | NA                    |  0 | NA                               | FALSE | NA | FALSE | FALSE | FALSE |\n",
       "| 130 | T0VAR | 5 | 4 | NA                    |  0 | NA                               | FALSE | NA | FALSE | FALSE | FALSE |\n",
       "| 131 | T0VAR | 5 | 5 | NA                    |  0 | NA                               | FALSE | NA | FALSE | FALSE | FALSE |\n",
       "| 132 | T0VAR | 5 | 6 | NA                    |  0 | NA                               | FALSE | NA | FALSE | FALSE | FALSE |\n",
       "| 133 | T0VAR | 6 | 1 | NA                    |  0 | NA                               | FALSE | NA | FALSE | FALSE | FALSE |\n",
       "| 134 | T0VAR | 6 | 2 | NA                    |  0 | NA                               | FALSE | NA | FALSE | FALSE | FALSE |\n",
       "| 135 | T0VAR | 6 | 3 | NA                    |  0 | NA                               | FALSE | NA | FALSE | FALSE | FALSE |\n",
       "| 136 | T0VAR | 6 | 4 | NA                    |  0 | NA                               | FALSE | NA | FALSE | FALSE | FALSE |\n",
       "| 137 | T0VAR | 6 | 5 | NA                    |  0 | NA                               | FALSE | NA | FALSE | FALSE | FALSE |\n",
       "| 138 | T0VAR | 6 | 6 | NA                    |  0 | NA                               | FALSE | NA | FALSE | FALSE | FALSE |\n",
       "\n"
      ],
      "text/plain": [
       "    matrix  row col param                 value\n",
       "1   T0MEANS 1   1   T0m_KBF               NA   \n",
       "2   T0MEANS 2   1   T0m_VTD               NA   \n",
       "3   T0MEANS 3   1   T0m_cintKBF           NA   \n",
       "4   T0MEANS 4   1   T0m_cintVTD           NA   \n",
       "5   T0MEANS 5   1   NA                     0   \n",
       "6   T0MEANS 6   1   NA                     0   \n",
       "7   LAMBDA  1   1   NA                     1   \n",
       "8   LAMBDA  1   2   NA                     0   \n",
       "9   LAMBDA  1   3   NA                     0   \n",
       "10  LAMBDA  1   4   NA                     0   \n",
       "11  LAMBDA  1   5   NA                     1   \n",
       "12  LAMBDA  1   6   NA                     0   \n",
       "13  LAMBDA  2   1   NA                     0   \n",
       "14  LAMBDA  2   2   NA                     1   \n",
       "15  LAMBDA  2   3   NA                     0   \n",
       "16  LAMBDA  2   4   NA                     0   \n",
       "17  LAMBDA  2   5   NA                     0   \n",
       "18  LAMBDA  2   6   NA                     1   \n",
       "19  DRIFT   1   1   drift_KBF             NA   \n",
       "20  DRIFT   1   2   NA                     0   \n",
       "21  DRIFT   1   3   NA                     1   \n",
       "22  DRIFT   1   4   NA                     0   \n",
       "23  DRIFT   1   5   NA                     0   \n",
       "24  DRIFT   1   6   NA                     0   \n",
       "25  DRIFT   2   1   NA                     0   \n",
       "26  DRIFT   2   2   drift_VTD             NA   \n",
       "27  DRIFT   2   3   NA                     0   \n",
       "28  DRIFT   2   4   NA                     1   \n",
       "29  DRIFT   2   5   NA                     0   \n",
       "30  DRIFT   2   6   NA                     0   \n",
       "... ...     ... ... ...                   ...  \n",
       "109 T0VAR   2   1   T0var_VTD_KBF         NA   \n",
       "110 T0VAR   2   2   T0var_VTD             NA   \n",
       "111 T0VAR   2   3   NA                     0   \n",
       "112 T0VAR   2   4   NA                     0   \n",
       "113 T0VAR   2   5   NA                     0   \n",
       "114 T0VAR   2   6   NA                     0   \n",
       "115 T0VAR   3   1   T0var_cintKBF_KBF     NA   \n",
       "116 T0VAR   3   2   T0var_cintKBF_VTD     NA   \n",
       "117 T0VAR   3   3   T0var_cintKBF         NA   \n",
       "118 T0VAR   3   4   NA                     0   \n",
       "119 T0VAR   3   5   NA                     0   \n",
       "120 T0VAR   3   6   NA                     0   \n",
       "121 T0VAR   4   1   T0var_cintVTD_KBF     NA   \n",
       "122 T0VAR   4   2   T0var_cintVTD_VTD     NA   \n",
       "123 T0VAR   4   3   T0var_cintVTD_cintKBF NA   \n",
       "124 T0VAR   4   4   T0var_cintVTD         NA   \n",
       "125 T0VAR   4   5   NA                     0   \n",
       "126 T0VAR   4   6   NA                     0   \n",
       "127 T0VAR   5   1   NA                     0   \n",
       "128 T0VAR   5   2   NA                     0   \n",
       "129 T0VAR   5   3   NA                     0   \n",
       "130 T0VAR   5   4   NA                     0   \n",
       "131 T0VAR   5   5   NA                     0   \n",
       "132 T0VAR   5   6   NA                     0   \n",
       "133 T0VAR   6   1   NA                     0   \n",
       "134 T0VAR   6   2   NA                     0   \n",
       "135 T0VAR   6   3   NA                     0   \n",
       "136 T0VAR   6   4   NA                     0   \n",
       "137 T0VAR   6   5   NA                     0   \n",
       "138 T0VAR   6   6   NA                     0   \n",
       "    transform                              indvarying sdscale Is_exp3_effect\n",
       "1   10 * param                              TRUE       1      FALSE         \n",
       "2   10 * param                              TRUE       1      FALSE         \n",
       "3   10 * param                              TRUE       1      FALSE         \n",
       "4   10 * param                              TRUE       1      FALSE         \n",
       "5   NA                                      TRUE      NA      FALSE         \n",
       "6   NA                                      TRUE      NA      FALSE         \n",
       "7   NA                                     FALSE      NA      FALSE         \n",
       "8   NA                                     FALSE      NA      FALSE         \n",
       "9   NA                                     FALSE      NA      FALSE         \n",
       "10  NA                                     FALSE      NA      FALSE         \n",
       "11  NA                                     FALSE      NA      FALSE         \n",
       "12  NA                                     FALSE      NA      FALSE         \n",
       "13  NA                                     FALSE      NA      FALSE         \n",
       "14  NA                                     FALSE      NA      FALSE         \n",
       "15  NA                                     FALSE      NA      FALSE         \n",
       "16  NA                                     FALSE      NA      FALSE         \n",
       "17  NA                                     FALSE      NA      FALSE         \n",
       "18  NA                                     FALSE      NA      FALSE         \n",
       "19  -(1e-06 + 2 * log1p_exp(-(2 * param))) FALSE       1      FALSE         \n",
       "20  NA                                     FALSE      NA      FALSE         \n",
       "21  NA                                     FALSE      NA      FALSE         \n",
       "22  NA                                     FALSE      NA      FALSE         \n",
       "23  NA                                     FALSE      NA      FALSE         \n",
       "24  NA                                     FALSE      NA      FALSE         \n",
       "25  NA                                     FALSE      NA      FALSE         \n",
       "26  -(1e-06 + 2 * log1p_exp(-(2 * param))) FALSE       1      FALSE         \n",
       "27  NA                                     FALSE      NA      FALSE         \n",
       "28  NA                                     FALSE      NA      FALSE         \n",
       "29  NA                                     FALSE      NA      FALSE         \n",
       "30  NA                                     FALSE      NA      FALSE         \n",
       "... ...                                    ...        ...     ...           \n",
       "109 2/(1 + exp(-param)) - 1                FALSE       1      FALSE         \n",
       "110 1e-10 + 5 * log1p_exp(2 * param)       FALSE       1      FALSE         \n",
       "111 NA                                     FALSE      NA      FALSE         \n",
       "112 NA                                     FALSE      NA      FALSE         \n",
       "113 NA                                     FALSE      NA      FALSE         \n",
       "114 NA                                     FALSE      NA      FALSE         \n",
       "115 2/(1 + exp(-param)) - 1                FALSE       1      FALSE         \n",
       "116 2/(1 + exp(-param)) - 1                FALSE       1      FALSE         \n",
       "117 1e-10 + 5 * log1p_exp(2 * param)       FALSE       1      FALSE         \n",
       "118 NA                                     FALSE      NA      FALSE         \n",
       "119 NA                                     FALSE      NA      FALSE         \n",
       "120 NA                                     FALSE      NA      FALSE         \n",
       "121 2/(1 + exp(-param)) - 1                FALSE       1      FALSE         \n",
       "122 2/(1 + exp(-param)) - 1                FALSE       1      FALSE         \n",
       "123 2/(1 + exp(-param)) - 1                FALSE       1      FALSE         \n",
       "124 1e-10 + 5 * log1p_exp(2 * param)       FALSE       1      FALSE         \n",
       "125 NA                                     FALSE      NA      FALSE         \n",
       "126 NA                                     FALSE      NA      FALSE         \n",
       "127 NA                                     FALSE      NA      FALSE         \n",
       "128 NA                                     FALSE      NA      FALSE         \n",
       "129 NA                                     FALSE      NA      FALSE         \n",
       "130 NA                                     FALSE      NA      FALSE         \n",
       "131 NA                                     FALSE      NA      FALSE         \n",
       "132 NA                                     FALSE      NA      FALSE         \n",
       "133 NA                                     FALSE      NA      FALSE         \n",
       "134 NA                                     FALSE      NA      FALSE         \n",
       "135 NA                                     FALSE      NA      FALSE         \n",
       "136 NA                                     FALSE      NA      FALSE         \n",
       "137 NA                                     FALSE      NA      FALSE         \n",
       "138 NA                                     FALSE      NA      FALSE         \n",
       "    Is_exp2_effect IsOFH_effect\n",
       "1   FALSE          FALSE       \n",
       "2   FALSE          FALSE       \n",
       "3   FALSE          FALSE       \n",
       "4   FALSE          FALSE       \n",
       "5   FALSE          FALSE       \n",
       "6   FALSE          FALSE       \n",
       "7   FALSE          FALSE       \n",
       "8   FALSE          FALSE       \n",
       "9   FALSE          FALSE       \n",
       "10  FALSE          FALSE       \n",
       "11  FALSE          FALSE       \n",
       "12  FALSE          FALSE       \n",
       "13  FALSE          FALSE       \n",
       "14  FALSE          FALSE       \n",
       "15  FALSE          FALSE       \n",
       "16  FALSE          FALSE       \n",
       "17  FALSE          FALSE       \n",
       "18  FALSE          FALSE       \n",
       "19  FALSE          FALSE       \n",
       "20  FALSE          FALSE       \n",
       "21  FALSE          FALSE       \n",
       "22  FALSE          FALSE       \n",
       "23  FALSE          FALSE       \n",
       "24  FALSE          FALSE       \n",
       "25  FALSE          FALSE       \n",
       "26  FALSE          FALSE       \n",
       "27  FALSE          FALSE       \n",
       "28  FALSE          FALSE       \n",
       "29  FALSE          FALSE       \n",
       "30  FALSE          FALSE       \n",
       "... ...            ...         \n",
       "109 FALSE          FALSE       \n",
       "110 FALSE          FALSE       \n",
       "111 FALSE          FALSE       \n",
       "112 FALSE          FALSE       \n",
       "113 FALSE          FALSE       \n",
       "114 FALSE          FALSE       \n",
       "115 FALSE          FALSE       \n",
       "116 FALSE          FALSE       \n",
       "117 FALSE          FALSE       \n",
       "118 FALSE          FALSE       \n",
       "119 FALSE          FALSE       \n",
       "120 FALSE          FALSE       \n",
       "121 FALSE          FALSE       \n",
       "122 FALSE          FALSE       \n",
       "123 FALSE          FALSE       \n",
       "124 FALSE          FALSE       \n",
       "125 FALSE          FALSE       \n",
       "126 FALSE          FALSE       \n",
       "127 FALSE          FALSE       \n",
       "128 FALSE          FALSE       \n",
       "129 FALSE          FALSE       \n",
       "130 FALSE          FALSE       \n",
       "131 FALSE          FALSE       \n",
       "132 FALSE          FALSE       \n",
       "133 FALSE          FALSE       \n",
       "134 FALSE          FALSE       \n",
       "135 FALSE          FALSE       \n",
       "136 FALSE          FALSE       \n",
       "137 FALSE          FALSE       \n",
       "138 FALSE          FALSE       "
      ]
     },
     "metadata": {},
     "output_type": "display_data"
    }
   ],
   "source": [
    "#initialize the model with two latent each with one manifest variable\n",
    "#LAMBDA: n.manifest*n.latent loading matrix relating latent to manifest variables, with latent process 1:n.latent along the \n",
    "#columns, and manifest variables 1:n.manifest in the rows.\n",
    "#DIFFUSION: lower triangular n.latent*n.latent cholesky matrix of diffusion process variance and covariance (latent error / \n",
    "#dynamic innovation). \"auto\" freely estimates all parameters.\n",
    "#stanct’ for continuous time or ’standt’ for discrete time\n",
    "model_fit = ctModel(type='stanct', n.manifest=2, n.latent=6, id=\"id\", time=\"time\",\n",
    "                    manifestNames=c('Y1','Y2'), latentNames=c('KBF','VTD','cintKBF','cintVTD','dynKBF','dynVTD'), \n",
    "                    T0MEANS=Mt0means, #initial state of dynamical process set to 0\n",
    "                    T0VAR=Mt0var,\n",
    "                    CINT = MCINT,\n",
    "                    MANIFESTMEANS=matrix(c(0,0),ncol=1),\n",
    "                    n.TIpred = 3, TIpredNames=c('Is_exp3','Is_exp2','IsOFH'),\n",
    "                    LAMBDA=matrix(c(1,0, \n",
    "                                    0,1,\n",
    "                                    0,0,\n",
    "                                    0,0,\n",
    "                                    1,0,\n",
    "                                    0,1), ncol=6),  \n",
    "                    DRIFT=Mdrift,\n",
    "                    tipredDefault=FALSE,\n",
    "                    DIFFUSION=Mdiffu) \n",
    "\n",
    "#we let ind. var in trend\n",
    "model_fit$pars$indvarying[model_fit$pars$matrix %in% c('T0MEANS','CINT')] = TRUE\n",
    "#https://discourse.mc-stan.org/t/r-package-ctsem-hierarchical-continuous-time-dynamic-models/117/14\n",
    "#as we want some parameter in the system to vary by subject, we set very tight priors, as some individuals have only 3 timetamps\n",
    "#model_fit$pars$sdscale[model_fit$pars$matrix %in% c('DRIFT')] = 0.05 #only for more complex like drit and manifestvar\n",
    "model_fit$pars"
   ]
  },
  {
   "cell_type": "code",
   "execution_count": 17,
   "id": "796c52ce",
   "metadata": {},
   "outputs": [
    {
     "data": {
      "text/html": [
       "<table class=\"dataframe\">\n",
       "<caption>A data.frame: 12 × 11</caption>\n",
       "<thead>\n",
       "\t<tr><th></th><th scope=col>matrix</th><th scope=col>row</th><th scope=col>col</th><th scope=col>param</th><th scope=col>value</th><th scope=col>transform</th><th scope=col>indvarying</th><th scope=col>sdscale</th><th scope=col>Is_exp3_effect</th><th scope=col>Is_exp2_effect</th><th scope=col>IsOFH_effect</th></tr>\n",
       "\t<tr><th></th><th scope=col>&lt;chr&gt;</th><th scope=col>&lt;int&gt;</th><th scope=col>&lt;int&gt;</th><th scope=col>&lt;chr&gt;</th><th scope=col>&lt;dbl&gt;</th><th scope=col>&lt;chr&gt;</th><th scope=col>&lt;lgl&gt;</th><th scope=col>&lt;dbl&gt;</th><th scope=col>&lt;lgl&gt;</th><th scope=col>&lt;lgl&gt;</th><th scope=col>&lt;lgl&gt;</th></tr>\n",
       "</thead>\n",
       "<tbody>\n",
       "\t<tr><th scope=row>1</th><td>T0MEANS</td><td>1</td><td>1</td><td>T0m_KBF    </td><td>NA</td><td>10 * param</td><td>TRUE</td><td> 1</td><td>TRUE</td><td>TRUE</td><td>TRUE</td></tr>\n",
       "\t<tr><th scope=row>2</th><td>T0MEANS</td><td>2</td><td>1</td><td>T0m_VTD    </td><td>NA</td><td>10 * param</td><td>TRUE</td><td> 1</td><td>TRUE</td><td>TRUE</td><td>TRUE</td></tr>\n",
       "\t<tr><th scope=row>3</th><td>T0MEANS</td><td>3</td><td>1</td><td>T0m_cintKBF</td><td>NA</td><td>10 * param</td><td>TRUE</td><td> 1</td><td>TRUE</td><td>TRUE</td><td>TRUE</td></tr>\n",
       "\t<tr><th scope=row>4</th><td>T0MEANS</td><td>4</td><td>1</td><td>T0m_cintVTD</td><td>NA</td><td>10 * param</td><td>TRUE</td><td> 1</td><td>TRUE</td><td>TRUE</td><td>TRUE</td></tr>\n",
       "\t<tr><th scope=row>5</th><td>T0MEANS</td><td>5</td><td>1</td><td>NA         </td><td> 0</td><td>NA        </td><td>TRUE</td><td>NA</td><td>TRUE</td><td>TRUE</td><td>TRUE</td></tr>\n",
       "\t<tr><th scope=row>6</th><td>T0MEANS</td><td>6</td><td>1</td><td>NA         </td><td> 0</td><td>NA        </td><td>TRUE</td><td>NA</td><td>TRUE</td><td>TRUE</td><td>TRUE</td></tr>\n",
       "\t<tr><th scope=row>97</th><td>CINT   </td><td>1</td><td>1</td><td>NA         </td><td> 0</td><td>NA        </td><td>TRUE</td><td>NA</td><td>TRUE</td><td>TRUE</td><td>TRUE</td></tr>\n",
       "\t<tr><th scope=row>98</th><td>CINT   </td><td>2</td><td>1</td><td>NA         </td><td> 0</td><td>NA        </td><td>TRUE</td><td>NA</td><td>TRUE</td><td>TRUE</td><td>TRUE</td></tr>\n",
       "\t<tr><th scope=row>99</th><td>CINT   </td><td>3</td><td>1</td><td>NA         </td><td> 0</td><td>NA        </td><td>TRUE</td><td>NA</td><td>TRUE</td><td>TRUE</td><td>TRUE</td></tr>\n",
       "\t<tr><th scope=row>100</th><td>CINT   </td><td>4</td><td>1</td><td>NA         </td><td> 0</td><td>NA        </td><td>TRUE</td><td>NA</td><td>TRUE</td><td>TRUE</td><td>TRUE</td></tr>\n",
       "\t<tr><th scope=row>101</th><td>CINT   </td><td>5</td><td>1</td><td>NA         </td><td> 0</td><td>NA        </td><td>TRUE</td><td>NA</td><td>TRUE</td><td>TRUE</td><td>TRUE</td></tr>\n",
       "\t<tr><th scope=row>102</th><td>CINT   </td><td>6</td><td>1</td><td>NA         </td><td> 0</td><td>NA        </td><td>TRUE</td><td>NA</td><td>TRUE</td><td>TRUE</td><td>TRUE</td></tr>\n",
       "</tbody>\n",
       "</table>\n"
      ],
      "text/latex": [
       "A data.frame: 12 × 11\n",
       "\\begin{tabular}{r|lllllllllll}\n",
       "  & matrix & row & col & param & value & transform & indvarying & sdscale & Is\\_exp3\\_effect & Is\\_exp2\\_effect & IsOFH\\_effect\\\\\n",
       "  & <chr> & <int> & <int> & <chr> & <dbl> & <chr> & <lgl> & <dbl> & <lgl> & <lgl> & <lgl>\\\\\n",
       "\\hline\n",
       "\t1 & T0MEANS & 1 & 1 & T0m\\_KBF     & NA & 10 * param & TRUE &  1 & TRUE & TRUE & TRUE\\\\\n",
       "\t2 & T0MEANS & 2 & 1 & T0m\\_VTD     & NA & 10 * param & TRUE &  1 & TRUE & TRUE & TRUE\\\\\n",
       "\t3 & T0MEANS & 3 & 1 & T0m\\_cintKBF & NA & 10 * param & TRUE &  1 & TRUE & TRUE & TRUE\\\\\n",
       "\t4 & T0MEANS & 4 & 1 & T0m\\_cintVTD & NA & 10 * param & TRUE &  1 & TRUE & TRUE & TRUE\\\\\n",
       "\t5 & T0MEANS & 5 & 1 & NA          &  0 & NA         & TRUE & NA & TRUE & TRUE & TRUE\\\\\n",
       "\t6 & T0MEANS & 6 & 1 & NA          &  0 & NA         & TRUE & NA & TRUE & TRUE & TRUE\\\\\n",
       "\t97 & CINT    & 1 & 1 & NA          &  0 & NA         & TRUE & NA & TRUE & TRUE & TRUE\\\\\n",
       "\t98 & CINT    & 2 & 1 & NA          &  0 & NA         & TRUE & NA & TRUE & TRUE & TRUE\\\\\n",
       "\t99 & CINT    & 3 & 1 & NA          &  0 & NA         & TRUE & NA & TRUE & TRUE & TRUE\\\\\n",
       "\t100 & CINT    & 4 & 1 & NA          &  0 & NA         & TRUE & NA & TRUE & TRUE & TRUE\\\\\n",
       "\t101 & CINT    & 5 & 1 & NA          &  0 & NA         & TRUE & NA & TRUE & TRUE & TRUE\\\\\n",
       "\t102 & CINT    & 6 & 1 & NA          &  0 & NA         & TRUE & NA & TRUE & TRUE & TRUE\\\\\n",
       "\\end{tabular}\n"
      ],
      "text/markdown": [
       "\n",
       "A data.frame: 12 × 11\n",
       "\n",
       "| <!--/--> | matrix &lt;chr&gt; | row &lt;int&gt; | col &lt;int&gt; | param &lt;chr&gt; | value &lt;dbl&gt; | transform &lt;chr&gt; | indvarying &lt;lgl&gt; | sdscale &lt;dbl&gt; | Is_exp3_effect &lt;lgl&gt; | Is_exp2_effect &lt;lgl&gt; | IsOFH_effect &lt;lgl&gt; |\n",
       "|---|---|---|---|---|---|---|---|---|---|---|---|\n",
       "| 1 | T0MEANS | 1 | 1 | T0m_KBF     | NA | 10 * param | TRUE |  1 | TRUE | TRUE | TRUE |\n",
       "| 2 | T0MEANS | 2 | 1 | T0m_VTD     | NA | 10 * param | TRUE |  1 | TRUE | TRUE | TRUE |\n",
       "| 3 | T0MEANS | 3 | 1 | T0m_cintKBF | NA | 10 * param | TRUE |  1 | TRUE | TRUE | TRUE |\n",
       "| 4 | T0MEANS | 4 | 1 | T0m_cintVTD | NA | 10 * param | TRUE |  1 | TRUE | TRUE | TRUE |\n",
       "| 5 | T0MEANS | 5 | 1 | NA          |  0 | NA         | TRUE | NA | TRUE | TRUE | TRUE |\n",
       "| 6 | T0MEANS | 6 | 1 | NA          |  0 | NA         | TRUE | NA | TRUE | TRUE | TRUE |\n",
       "| 97 | CINT    | 1 | 1 | NA          |  0 | NA         | TRUE | NA | TRUE | TRUE | TRUE |\n",
       "| 98 | CINT    | 2 | 1 | NA          |  0 | NA         | TRUE | NA | TRUE | TRUE | TRUE |\n",
       "| 99 | CINT    | 3 | 1 | NA          |  0 | NA         | TRUE | NA | TRUE | TRUE | TRUE |\n",
       "| 100 | CINT    | 4 | 1 | NA          |  0 | NA         | TRUE | NA | TRUE | TRUE | TRUE |\n",
       "| 101 | CINT    | 5 | 1 | NA          |  0 | NA         | TRUE | NA | TRUE | TRUE | TRUE |\n",
       "| 102 | CINT    | 6 | 1 | NA          |  0 | NA         | TRUE | NA | TRUE | TRUE | TRUE |\n",
       "\n"
      ],
      "text/plain": [
       "    matrix  row col param       value transform  indvarying sdscale\n",
       "1   T0MEANS 1   1   T0m_KBF     NA    10 * param TRUE        1     \n",
       "2   T0MEANS 2   1   T0m_VTD     NA    10 * param TRUE        1     \n",
       "3   T0MEANS 3   1   T0m_cintKBF NA    10 * param TRUE        1     \n",
       "4   T0MEANS 4   1   T0m_cintVTD NA    10 * param TRUE        1     \n",
       "5   T0MEANS 5   1   NA           0    NA         TRUE       NA     \n",
       "6   T0MEANS 6   1   NA           0    NA         TRUE       NA     \n",
       "97  CINT    1   1   NA           0    NA         TRUE       NA     \n",
       "98  CINT    2   1   NA           0    NA         TRUE       NA     \n",
       "99  CINT    3   1   NA           0    NA         TRUE       NA     \n",
       "100 CINT    4   1   NA           0    NA         TRUE       NA     \n",
       "101 CINT    5   1   NA           0    NA         TRUE       NA     \n",
       "102 CINT    6   1   NA           0    NA         TRUE       NA     \n",
       "    Is_exp3_effect Is_exp2_effect IsOFH_effect\n",
       "1   TRUE           TRUE           TRUE        \n",
       "2   TRUE           TRUE           TRUE        \n",
       "3   TRUE           TRUE           TRUE        \n",
       "4   TRUE           TRUE           TRUE        \n",
       "5   TRUE           TRUE           TRUE        \n",
       "6   TRUE           TRUE           TRUE        \n",
       "97  TRUE           TRUE           TRUE        \n",
       "98  TRUE           TRUE           TRUE        \n",
       "99  TRUE           TRUE           TRUE        \n",
       "100 TRUE           TRUE           TRUE        \n",
       "101 TRUE           TRUE           TRUE        \n",
       "102 TRUE           TRUE           TRUE        "
      ]
     },
     "metadata": {},
     "output_type": "display_data"
    }
   ],
   "source": [
    "#group can vary in trend\n",
    "model_fit$pars$Is_exp3_effect[model_fit$pars$matrix %in% c('T0MEANS','CINT')] = TRUE\n",
    "model_fit$pars$Is_exp2_effect[model_fit$pars$matrix %in% c('T0MEANS','CINT')] = TRUE\n",
    "model_fit$pars$IsOFH_effect[model_fit$pars$matrix %in% c('T0MEANS','CINT')] = TRUE\n",
    "#model_fit$pars$Is_exp3_effect[(model_fit$pars$matrix %in% c('CINT','T0MEANS'))&(model_fit$pars$row %in% c(1,3))] = TRUE\n",
    "#check what we did\n",
    "model_fit$pars[model_fit$pars$matrix %in% c('T0MEANS','CINT'),]"
   ]
  },
  {
   "cell_type": "code",
   "execution_count": 18,
   "id": "93388c45",
   "metadata": {},
   "outputs": [
    {
     "data": {
      "text/html": [
       "<style>\n",
       ".list-inline {list-style: none; margin:0; padding: 0}\n",
       ".list-inline>li {display: inline-block}\n",
       ".list-inline>li:not(:last-child)::after {content: \"\\00b7\"; padding: 0 .5ex}\n",
       "</style>\n",
       "<ol class=list-inline><li>'T0MEANS'</li><li>'LAMBDA'</li><li>'DRIFT'</li><li>'DIFFUSION'</li><li>'MANIFESTVAR'</li><li>'MANIFESTMEANS'</li><li>'CINT'</li><li>'T0VAR'</li></ol>\n"
      ],
      "text/latex": [
       "\\begin{enumerate*}\n",
       "\\item 'T0MEANS'\n",
       "\\item 'LAMBDA'\n",
       "\\item 'DRIFT'\n",
       "\\item 'DIFFUSION'\n",
       "\\item 'MANIFESTVAR'\n",
       "\\item 'MANIFESTMEANS'\n",
       "\\item 'CINT'\n",
       "\\item 'T0VAR'\n",
       "\\end{enumerate*}\n"
      ],
      "text/markdown": [
       "1. 'T0MEANS'\n",
       "2. 'LAMBDA'\n",
       "3. 'DRIFT'\n",
       "4. 'DIFFUSION'\n",
       "5. 'MANIFESTVAR'\n",
       "6. 'MANIFESTMEANS'\n",
       "7. 'CINT'\n",
       "8. 'T0VAR'\n",
       "\n",
       "\n"
      ],
      "text/plain": [
       "[1] \"T0MEANS\"       \"LAMBDA\"        \"DRIFT\"         \"DIFFUSION\"    \n",
       "[5] \"MANIFESTVAR\"   \"MANIFESTMEANS\" \"CINT\"          \"T0VAR\"        "
      ]
     },
     "metadata": {},
     "output_type": "display_data"
    }
   ],
   "source": [
    "unique(model_fit$pars$matrix)"
   ]
  },
  {
   "cell_type": "code",
   "execution_count": null,
   "id": "415e2608",
   "metadata": {
    "scrolled": true
   },
   "outputs": [
    {
     "name": "stderr",
     "output_type": "stream",
     "text": [
      "Maximum a posteriori estimation requested\n",
      "\n",
      "Setting DRIFT diagonals of 0 to approximate 0 of -1e-06\n",
      "\n",
      "Free T0VAR parameters as well as indvarying T0MEANS -- fixing T0VAR pars to diag matrix of 1e-3\n",
      "\n",
      "Uncentered TI predictors noted -- interpretability may be hindered and default priors may not be appropriate\n",
      "\n",
      "Using 5/12 logical CPU cores\n",
      "\n",
      "Doing 1st pass optimize...\n",
      "\n",
      "Converged -- lp and par change within tolerances\n",
      "\n",
      "Including TI predictors...\n",
      "\n",
      "Warning message in sgd(init, fitfunc = target, parsets = parsets, nsubsets = nsubsets, :\n",
      "\"Gradient of parameter 26, 28, 29, 31, 32, 34, 35, 37 is exactly zero, maybe model problem?\"\n",
      "Warning message in sgd(init, fitfunc = target, parsets = parsets, nsubsets = nsubsets, :\n",
      "\"Gradient of parameter 26, 28, 29, 31, 32, 34, 35, 37 is exactly zero, maybe model problem?\"\n",
      "Warning message in sgd(init, fitfunc = target, parsets = parsets, nsubsets = nsubsets, :\n",
      "\"Gradient of parameter 26, 28, 29, 31, 32, 34, 35, 37 is exactly zero, maybe model problem?\"\n",
      "Warning message in sgd(init, fitfunc = target, parsets = parsets, nsubsets = nsubsets, :\n",
      "\"Gradient of parameter 26, 28, 29, 31, 32, 34, 35, 37 is exactly zero, maybe model problem?\"\n",
      "Warning message in sgd(init, fitfunc = target, parsets = parsets, nsubsets = nsubsets, :\n",
      "\"Gradient of parameter 26, 28, 29, 31, 32, 34, 35, 37 is exactly zero, maybe model problem?\"\n",
      "Warning message in sgd(init, fitfunc = target, parsets = parsets, nsubsets = nsubsets, :\n",
      "\"Gradient of parameter 26, 28, 29, 31, 32, 34, 35, 37 is exactly zero, maybe model problem?\"\n",
      "Warning message in sgd(init, fitfunc = target, parsets = parsets, nsubsets = nsubsets, :\n",
      "\"Gradient of parameter 26, 28, 29, 31, 32, 34, 35, 37 is exactly zero, maybe model problem?\"\n",
      "Warning message in sgd(init, fitfunc = target, parsets = parsets, nsubsets = nsubsets, :\n",
      "\"Gradient of parameter 26, 28, 29, 31, 32, 34, 35, 37 is exactly zero, maybe model problem?\"\n",
      "Warning message in sgd(init, fitfunc = target, parsets = parsets, nsubsets = nsubsets, :\n",
      "\"Gradient of parameter 26, 28, 29, 31, 32, 34, 35, 37 is exactly zero, maybe model problem?\"\n",
      "Warning message in sgd(init, fitfunc = target, parsets = parsets, nsubsets = nsubsets, :\n",
      "\"Gradient of parameter 26, 28, 29, 31, 32, 34, 35, 37 is exactly zero, maybe model problem?\"\n",
      "Warning message in sgd(init, fitfunc = target, parsets = parsets, nsubsets = nsubsets, :\n",
      "\"Gradient of parameter 26, 28, 29, 31, 32, 34, 35, 37 is exactly zero, maybe model problem?\"\n",
      "Warning message in sgd(init, fitfunc = target, parsets = parsets, nsubsets = nsubsets, :\n",
      "\"Gradient of parameter 26, 28, 29, 31, 32, 34, 35, 37 is exactly zero, maybe model problem?\"\n",
      "Warning message in sgd(init, fitfunc = target, parsets = parsets, nsubsets = nsubsets, :\n",
      "\"Gradient of parameter 26, 28, 29, 31, 32, 34, 35, 37 is exactly zero, maybe model problem?\"\n",
      "Warning message in sgd(init, fitfunc = target, parsets = parsets, nsubsets = nsubsets, :\n",
      "\"Gradient of parameter 26, 28, 29, 31, 32, 34, 35, 37 is exactly zero, maybe model problem?\"\n",
      "Warning message in sgd(init, fitfunc = target, parsets = parsets, nsubsets = nsubsets, :\n",
      "\"Gradient of parameter 26, 28, 29, 31, 32, 34, 35, 37 is exactly zero, maybe model problem?\"\n",
      "Warning message in sgd(init, fitfunc = target, parsets = parsets, nsubsets = nsubsets, :\n",
      "\"Gradient of parameter 26, 28, 29, 31, 32, 34, 35, 37 is exactly zero, maybe model problem?\"\n",
      "Warning message in sgd(init, fitfunc = target, parsets = parsets, nsubsets = nsubsets, :\n",
      "\"Gradient of parameter 26, 28, 29, 31, 32, 34, 35, 37 is exactly zero, maybe model problem?\"\n",
      "Warning message in sgd(init, fitfunc = target, parsets = parsets, nsubsets = nsubsets, :\n",
      "\"Gradient of parameter 26, 28, 29, 31, 32, 34, 35, 37 is exactly zero, maybe model problem?\"\n",
      "Warning message in sgd(init, fitfunc = target, parsets = parsets, nsubsets = nsubsets, :\n",
      "\"Gradient of parameter 26, 29, 32, 35 is exactly zero, maybe model problem?\"\n",
      "Warning message in sgd(init, fitfunc = target, parsets = parsets, nsubsets = nsubsets, :\n",
      "\"Gradient of parameter 26, 29, 32, 35 is exactly zero, maybe model problem?\"\n",
      "Warning message in sgd(init, fitfunc = target, parsets = parsets, nsubsets = nsubsets, :\n",
      "\"Gradient of parameter 26, 29, 32, 35 is exactly zero, maybe model problem?\"\n",
      "Warning message in sgd(init, fitfunc = target, parsets = parsets, nsubsets = nsubsets, :\n",
      "\"Gradient of parameter 26, 29, 32, 35 is exactly zero, maybe model problem?\"\n",
      "Warning message in sgd(init, fitfunc = target, parsets = parsets, nsubsets = nsubsets, :\n",
      "\"Gradient of parameter 26, 29, 32, 35 is exactly zero, maybe model problem?\"\n",
      "Warning message in sgd(init, fitfunc = target, parsets = parsets, nsubsets = nsubsets, :\n",
      "\"Gradient of parameter 26, 29, 32, 35 is exactly zero, maybe model problem?\"\n",
      "Warning message in sgd(init, fitfunc = target, parsets = parsets, nsubsets = nsubsets, :\n",
      "\"Gradient of parameter 26, 29, 32, 35 is exactly zero, maybe model problem?\"\n",
      "Warning message in sgd(init, fitfunc = target, parsets = parsets, nsubsets = nsubsets, :\n",
      "\"Gradient of parameter 26, 29, 32, 35 is exactly zero, maybe model problem?\"\n",
      "Warning message in sgd(init, fitfunc = target, parsets = parsets, nsubsets = nsubsets, :\n",
      "\"Gradient of parameter 26, 29, 32, 35 is exactly zero, maybe model problem?\"\n",
      "Warning message in sgd(init, fitfunc = target, parsets = parsets, nsubsets = nsubsets, :\n",
      "\"Gradient of parameter 26, 29, 32, 35 is exactly zero, maybe model problem?\"\n",
      "Warning message in sgd(init, fitfunc = target, parsets = parsets, nsubsets = nsubsets, :\n",
      "\"Gradient of parameter 26, 29, 32, 35 is exactly zero, maybe model problem?\"\n",
      "Warning message in sgd(init, fitfunc = target, parsets = parsets, nsubsets = nsubsets, :\n",
      "\"Gradient of parameter 26, 29, 32, 35 is exactly zero, maybe model problem?\"\n",
      "Warning message in sgd(init, fitfunc = target, parsets = parsets, nsubsets = nsubsets, :\n",
      "\"Gradient of parameter 26, 29, 32, 35 is exactly zero, maybe model problem?\"\n",
      "Warning message in sgd(init, fitfunc = target, parsets = parsets, nsubsets = nsubsets, :\n",
      "\"Gradient of parameter 26, 29, 32, 35 is exactly zero, maybe model problem?\"\n",
      "Converged -- lp and par change within tolerances\n",
      "\n",
      "Optimizing...\n",
      "\n",
      "Converged -- lp change within itertol\n",
      "\n",
      "Finishing optimization...\n",
      "\n",
      "Estimating Hessian\n",
      "\n",
      "Computing posterior with 1000 samples\n",
      "\n",
      "Computing quantities for 2000 samples...\n",
      "\n",
      "Generating data from posterior mean\n",
      "\n",
      "Using 5/12 logical CPU cores\n",
      "\n"
     ]
    }
   ],
   "source": [
    "set.seed(0)\n",
    "#fit the model and save all results provided by the folder\n",
    "#documentation: https://rdrr.io/cran/ctsem/man/ctStanFit.html : \n",
    "## iter number of iterations, half of which will be devoted to warmup by default when sampling. When optimizing, this is the \n",
    "\n",
    "## maximum number of iterations to allow – convergence hopefully occurs before this (default: 1000)\n",
    "#intoverstates: logical indicating whether or not to integrate over latent states using a Kalman filter. Generally recommended \n",
    "#to set TRUE unless using non-gaussian measurement model. KBF is not gaussion but when set to FALSE it does not work (\"NA gradient encountered at param 282\" etc)\n",
    "\n",
    "## optimize: if TRUE, use stanoptimis function for maximum a posteriori / importance sampling estimates, otherwise use the HMC \n",
    "#sampler from Stan, which is (much) slower, but generally more robust, accurate, and informative. default: TRUE\n",
    "\n",
    "## stationary: Logical. If TRUE, T0VAR and T0MEANS input matrices are ignored, the parameters are instead fixed to long run \n",
    "#expectations. More control over this can be achieved by instead setting parameter names of T0MEANS and T0VAR matrices in the \n",
    "#input model to 'stationary', for elements that should be fixed to stationarity.\n",
    "#nl = 6 #number of latent processes\n",
    "#derrind = (nl*2+1):(nl*3) #dynamic error indices -- speeds computation: from ctsem paper\n",
    "## nopriors: If TRUE, any priors are disabled (i.e. Si VRAI, tous les priors sont désactivés)\n",
    "fit_mvtha = ctStanFit(datalong=data_mvtha, ctstanmodel=model_fit, verbose=0, cores=cores_, nopriors=FALSE, #maybe TRUE when optimize ML\n",
    "                      iter=iter_, chains=chains_, optimize=bool_optimize)#, derrind) #nlcontrol=list(maxtimestep=10)\n",
    "#Individual variation in T0VAR parameters not possible: as we have no variation at T0\n",
    "ctsem:::ctSummarise(fit_mvtha, folder=file.path(path_save_,name), cores=cores_, ctStanPlotPost=F, nsamples=1000)\n",
    "#\"diag(.) had 0 or NA entries; non-finite result is doubtful\": TODO: var in diffusiocov are set to 0... so maybe its normal?"
   ]
  },
  {
   "cell_type": "code",
   "execution_count": null,
   "id": "cf558459",
   "metadata": {
    "scrolled": true
   },
   "outputs": [],
   "source": [
    "summary(fit_mvtha)"
   ]
  },
  {
   "cell_type": "code",
   "execution_count": null,
   "id": "b7e66185",
   "metadata": {},
   "outputs": [],
   "source": [
    "#### asympDIFF :  variance/covariance  of  the  latent  process\n",
    "tiff(file.path(path_save_, paste0(name,'RandomDataPosterior_to_observedData.tiff')), width=400, height=400)\n",
    "ctStanPostPredict(fit_mvtha, wait=FALSE) #compare randomly generated data from posterior to observed data\n",
    "dev.off()\n",
    "\n",
    "tiff(file.path(path_save_, paste0(name,'RadomDataPosteriorMeanCOv_to_observedData.tiff')), width=400, height=400)\n",
    "cf = ctCheckFit(fit_mvtha) #compare mean and covariance of randomly generated data to observed cov plot(cf,wait=FALSE)\n",
    "dev.off()\n",
    "\n",
    "#calculate discrete time parameters (1,2,3 months)\n",
    "df_lag = summary(fit_mvtha, timeinterval=1)\n",
    "write.csv(df_lag$parmatrices, file=file.path(path_save_,paste0(name,\"lag1.csv\")))\n",
    "df_lag = summary(fit_mvtha, timeinterval=2)\n",
    "write.csv(df_lag$parmatrices, file=file.path(path_save_,paste0(name,\"lag2.csv\")))\n",
    "df_lag = summary(fit_mvtha, timeinterval=3)\n",
    "write.csv(df_lag$parmatrices, file=file.path(path_save_,paste0(name,\"lag3.csv\")))\n",
    "\n",
    "#plot basics (regression kalan, priorcheck)\n",
    "tiff(file.path(path_save_, paste0(name,'plotdiscretedrift_regression.tiff')), width=400, height=400)\n",
    "plot(fit_mvtha,types=c('regression'), wait=FALSE)\n",
    "dev.off()\n",
    "tiff(file.path(path_save_, paste0(name,'plotdiscretedrift_kalman.tiff')), width=400, height=400)\n",
    "plot(fit_mvtha,types=c('kalman'), wait=FALSE)\n",
    "dev.off()\n",
    "tiff(file.path(path_save_, paste0(name,'plotdiscretedrift_priorcheck.tiff')), width=400, height=400)\n",
    "plot(fit_mvtha,types=c('priorcheck'), wait=FALSE)\n",
    "dev.off()\n",
    "\n",
    "\n",
    "#plot of discrete timedrift estimate all together \n",
    "tiff(file.path(path_save_, paste0(name,'plotdiscretedrift.tiff')), width=400, height=400)\n",
    "ctStanDiscretePars(fit_mvtha, plot=T)\n",
    "dev.off()\n",
    "\n",
    "#check the id are correct\n",
    "df_idmap = fit_mvtha$setup$idmap\n",
    "head(df_idmap,2)\n",
    "tail(df_idmap,2)\n",
    "if (identical(df_idmap[['original']],df_idmap[['new']])==FALSE){\n",
    "    print('ERROR: makes sure your id column will be the same as the one given by ctsem, just to ensure no error later on')\n",
    "    stop() #couldnt find equivalent to sys.exit() in python, but that do the job as well (stop the code)\n",
    "}\n",
    "\n",
    "#print(fit_mvtha$setup$idmap[c(1,100,200,300,400), 1])\n",
    "#plot 5 hens without uncertainty and width for visibility purposes\n",
    "tiff(file.path(path_save_, paste0(name,'5individual_nouncertainty.tiff')), width=400, height=400)\n",
    "ctKalman(fit_mvtha,subjects=c(1,100,200,300,400),plot=T,kalmanvec=c('y','ysmooth'), polygonsteps=0)\n",
    "dev.off()\n",
    "tiff(file.path(path_save_, paste0(name,'5otherindividual_nouncertainty.tiff')), width=400, height=400)\n",
    "ctKalman(fit_mvtha,subjects=c(10,110,210,310,410),plot=T,kalmanvec=c('y','ysmooth'), polygonsteps=0)\n",
    "dev.off()\n",
    "tiff(file.path(path_save_, paste0(name,'5other2individual_nouncertainty.tiff')), width=400, height=400)\n",
    "ctKalman(fit_mvtha,subjects=c(20,120,220,320,420),plot=T,kalmanvec=c('y','ysmooth'), polygonsteps=0)\n",
    "dev.off()\n",
    "#plot parameters for two hen  with polygonsteps=10 (the default) to see uncertainty\n",
    "tiff(file.path(path_save_, paste0(name,'2individual_witthcertainty.tiff')), width=400, height=400)\n",
    "ctKalman(fit_mvtha,subjects=c(300,400),plot=T,kalmanvec=c('y','ysmooth'), polygonsteps=10)\n",
    "dev.off()\n",
    "#plot parameters for two hen  with polygonsteps=10 (the default) to see uncertainty\n",
    "tiff(file.path(path_save_, paste0(name,'2otherindividual_witthcertainty.tiff')), width=400, height=400)\n",
    "ctKalman(fit_mvtha,subjects=c(310,410),plot=T,kalmanvec=c('y','ysmooth'), polygonsteps=10)\n",
    "dev.off()\n",
    "#plot parameters for two hen  with polygonsteps=10 (the default) to see uncertainty\n",
    "tiff(file.path(path_save_, paste0(name,'2other2individual_witthcertainty.tiff')), width=400, height=400)\n",
    "ctKalman(fit_mvtha,subjects=c(320,420),plot=T,kalmanvec=c('y','ysmooth'), polygonsteps=10)\n",
    "dev.off()\n",
    "\n",
    "#extract estimates of individual parameters, taking into account any covariates and random effects\n",
    "#output an nsamples by nsubjects by nparams array.\n",
    "indpars = ctStanSubjectPars(fit_mvtha, cores=cores_, nsamples=\"all\")[1,,]\n",
    "ind.data = data.frame(indpars)\n",
    "ind.data$id = fit_mvtha$setup$idmap$original #or new, its the same\n",
    "head(ind.data,3)\n",
    "dim(ind.data)\n",
    "write.csv(ind.data, file=file.path(path_save_,paste0(name,\"HenIDParameters.csv\")))"
   ]
  },
  {
   "cell_type": "code",
   "execution_count": null,
   "id": "000638f5",
   "metadata": {},
   "outputs": [],
   "source": [
    "ctKalman(fit_mvtha,subjects=c(300,400),plot=T,kalmanvec=c('y','yprior'), polygonsteps=10)"
   ]
  },
  {
   "cell_type": "code",
   "execution_count": null,
   "id": "cf0b9fbc",
   "metadata": {},
   "outputs": [],
   "source": [
    "#TODO: standardized resiudals (ctstankalman with stderror=TRUE)"
   ]
  },
  {
   "cell_type": "code",
   "execution_count": null,
   "id": "2ffeb7b9",
   "metadata": {},
   "outputs": [],
   "source": [
    "df_res = ctKalman(fit_mvtha,subjects=fit_mvtha$setup$idmap[,1],plot=F)#,kalmanvec=c('y','yprior'))\n",
    "dim(df_res)\n",
    "write.csv(df_res, file=file.path(path_save_,paste0(name,\"df_res_yprior.csv\")))"
   ]
  },
  {
   "cell_type": "code",
   "execution_count": null,
   "id": "460f3075",
   "metadata": {
    "scrolled": true
   },
   "outputs": [],
   "source": [
    "#compare randomly generated data from posterior to observed data\n",
    "ctStanPostPredict(fit_mvtha, wait=FALSE)"
   ]
  },
  {
   "cell_type": "code",
   "execution_count": null,
   "id": "1a8d5cd7",
   "metadata": {},
   "outputs": [],
   "source": [
    "x = ctStanDiscretePars(fit_mvtha, subjects='popmean')\n",
    "#ctStanDiscreteParsPlot(x, indices='CR',facets='Subject')\n",
    "write.csv(as.data.frame(x), file=file.path(path_save_,paste0(name,\"ctStanDiscretePars.csv\")))"
   ]
  },
  {
   "cell_type": "code",
   "execution_count": null,
   "id": "0dfeec25",
   "metadata": {},
   "outputs": [],
   "source": [
    "#K fold cross validation for ctStanFit objects\n",
    "#\"folds Number of cross validation splits to use – 3 folds implies that the model is re-fit 3 times, each time to a data set \n",
    "#with 1/3 of the observations randomly removed\"\n",
    "loores = ctLOO(fit_mvtha, folds = folds_, cores = cores_, subjectwise=TRUE)\n",
    "for (i in folds_){\n",
    "    df_fold = loores$foldrows[as.character(i-1)]\n",
    "    write.csv(df_fold, file=file.path(path_save_,paste0(name,'df_',i,\"fold.csv\")))}\n",
    "df_foldpars = loores$foldpars\n",
    "write.csv(df_foldpars, file=file.path(path_save_,paste0(name,\"df_foldpars.csv\")))\n",
    "df_sampleloglikrow = data.frame('out'=loores$outsampleLogLikRow,'in'=c(loores$insampleLogLikRow))\n",
    "write.csv(df_sampleloglikrow, file=file.path(path_save_,paste0(name,\"df_sampleloglikrow.csv\")))\n",
    "df_resloo = data.frame('insampleLogLik' = loores$insampleLogLik,\n",
    "           'outsampleLogLik' = loores$outsampleLogLik,\n",
    "           'outsampleLogLik' = loores$insampleRowwiseEntropy,\n",
    "           'outsampleRowwiseEntropy' = loores$outsampleRowwiseEntropy,\n",
    "           'insampleSubjectwiseEntropy' = loores$insampleSubjectwiseEntropy,\n",
    "           'outsampleSubjectwiseEntropy' = loores$outsampleSubjectwiseEntropy,\n",
    "           'insampleRowwiseLogLikSD' = loores$insampleRowwiseLogLikSD,\n",
    "           'outsampleRowwiseLogLikSD' = loores$outsampleRowwiseLogLikSD,\n",
    "           'insampleSubjectwiseLogLikSD' = loores$insampleSubjectwiseLogLikSD,\n",
    "           'outsampleSubjectwiseLogLikSD' = loores$outsampleSubjectwiseLogLikSD)\n",
    "write.csv(df_resloo, file=file.path(path_save_,paste0(name,\"df_resloo.csv\")))\n",
    "##\n",
    "fit_mvtha$cv =ctLOO(fit_mvtha, folds = folds_, cores = cores_, subjectwise=TRUE)\n",
    "save(fit_mvtha,file=file.path(path_save_,'fit_mvtha.rda'))"
   ]
  },
  {
   "cell_type": "code",
   "execution_count": null,
   "id": "22b858f5",
   "metadata": {},
   "outputs": [],
   "source": []
  },
  {
   "cell_type": "code",
   "execution_count": null,
   "id": "2102f0c8",
   "metadata": {},
   "outputs": [],
   "source": []
  },
  {
   "cell_type": "code",
   "execution_count": null,
   "id": "e1d03d4b",
   "metadata": {},
   "outputs": [],
   "source": []
  },
  {
   "cell_type": "code",
   "execution_count": null,
   "id": "764f96f6",
   "metadata": {},
   "outputs": [],
   "source": []
  },
  {
   "cell_type": "code",
   "execution_count": null,
   "id": "47b8bb8e",
   "metadata": {},
   "outputs": [],
   "source": []
  },
  {
   "cell_type": "code",
   "execution_count": null,
   "id": "340a7d2f",
   "metadata": {},
   "outputs": [],
   "source": []
  },
  {
   "cell_type": "code",
   "execution_count": null,
   "id": "bef05d4c",
   "metadata": {},
   "outputs": [],
   "source": []
  },
  {
   "cell_type": "code",
   "execution_count": null,
   "id": "5bb6f978",
   "metadata": {},
   "outputs": [],
   "source": []
  }
 ],
 "metadata": {
  "kernelspec": {
   "display_name": " Rkernel_4",
   "language": "R",
   "name": "rkernel_4"
  },
  "language_info": {
   "codemirror_mode": "r",
   "file_extension": ".r",
   "mimetype": "text/x-r-source",
   "name": "R",
   "pygments_lexer": "r",
   "version": "4.1.1"
  }
 },
 "nbformat": 4,
 "nbformat_minor": 5
}
