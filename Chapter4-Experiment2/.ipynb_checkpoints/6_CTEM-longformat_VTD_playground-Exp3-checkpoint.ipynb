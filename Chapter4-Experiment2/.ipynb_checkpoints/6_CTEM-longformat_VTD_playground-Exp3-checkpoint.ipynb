{
 "cells": [
  {
   "cell_type": "code",
   "execution_count": 1,
   "id": "f295e75d",
   "metadata": {
    "scrolled": true
   },
   "outputs": [
    {
     "name": "stderr",
     "output_type": "stream",
     "text": [
      "Warning message:\n",
      "\"le package 'ctsem' a été compilé avec la version R 4.1.3\"\n",
      "Le chargement a nécessité le package : Rcpp\n",
      "\n",
      "Warning message:\n",
      "\"le package 'Rcpp' a été compilé avec la version R 4.1.2\"\n",
      "ctsem also changes in time, for manual run ctDocs(), for blog see https://cdriver.netlify.app/, for citation info run citation('ctsem'), for original OpenMx functionality install.packages('ctsemOMX'), and for discussion https://github.com/cdriveraus/ctsem/discussions\n",
      "\n",
      "Warning message in doTryCatch(return(expr), name, parentenv, handler):\n",
      "\"The following important packages for ctsem are out of date: rstan\"\n",
      "Warning message:\n",
      "\"le package 'dplyr' a été compilé avec la version R 4.1.2\"\n",
      "\n",
      "Attachement du package : 'dplyr'\n",
      "\n",
      "\n",
      "Les objets suivants sont masqués depuis 'package:stats':\n",
      "\n",
      "    filter, lag\n",
      "\n",
      "\n",
      "Les objets suivants sont masqués depuis 'package:base':\n",
      "\n",
      "    intersect, setdiff, setequal, union\n",
      "\n",
      "\n",
      "Warning message:\n",
      "\"le package 'plyr' a été compilé avec la version R 4.1.2\"\n",
      "------------------------------------------------------------------------------\n",
      "\n",
      "You have loaded plyr after dplyr - this is likely to cause problems.\n",
      "If you need functions from both plyr and dplyr, please load plyr first, then dplyr:\n",
      "library(plyr); library(dplyr)\n",
      "\n",
      "------------------------------------------------------------------------------\n",
      "\n",
      "\n",
      "Attachement du package : 'plyr'\n",
      "\n",
      "\n",
      "Les objets suivants sont masqués depuis 'package:dplyr':\n",
      "\n",
      "    arrange, count, desc, failwith, id, mutate, rename, summarise,\n",
      "    summarize\n",
      "\n",
      "\n",
      "Warning message:\n",
      "\"le package 'ICC' a été compilé avec la version R 4.1.3\"\n",
      "Warning message:\n",
      "\"le package 'rmcorr' a été compilé avec la version R 4.1.3\"\n"
     ]
    }
   ],
   "source": [
    "library(ctsem)\n",
    "library(dplyr)\n",
    "library(plyr)\n",
    "library(ICC)\n",
    "library(rmcorr)\n",
    "library(Rcpp)"
   ]
  },
  {
   "cell_type": "code",
   "execution_count": 2,
   "id": "2f7580c7",
   "metadata": {},
   "outputs": [],
   "source": [
    "setwd(\"G:/VPHI/Welfare/2- Research Projects/Camille Montalcini/Origins.GS/DataOutput/TrackingSystem/EXP2_\")"
   ]
  },
  {
   "cell_type": "markdown",
   "id": "2769d5e7",
   "metadata": {},
   "source": [
    "# Download data"
   ]
  },
  {
   "cell_type": "code",
   "execution_count": 3,
   "id": "c5fd5c2b",
   "metadata": {
    "scrolled": true
   },
   "outputs": [
    {
     "name": "stderr",
     "output_type": "stream",
     "text": [
      "Warning message in dir.create(path_save):\n",
      "\"'LongformatModels' existe déjà\"\n"
     ]
    },
    {
     "data": {
      "text/plain": [
       "     HAID                    HenID            id         MonthInstudy  \n",
       " Length:2228        EXP3_hen_101:  12   Min.   :  1.0   Min.   :0.000  \n",
       " Class :character   EXP3_hen_103:  12   1st Qu.:113.8   1st Qu.:0.820  \n",
       " Mode  :character   EXP3_hen_104:  12   Median :220.0   Median :3.120  \n",
       "                    EXP3_hen_105:  12   Mean   :211.0   Mean   :3.511  \n",
       "                    EXP3_hen_106:  12   3rd Qu.:320.2   3rd Qu.:5.420  \n",
       "                    EXP3_hen_109:  12   Max.   :372.0   Max.   :9.500  \n",
       "                    (Other)     :2156                                  \n",
       "     DOAHA           IsOFH        ExperimentID  Is_relocated      Is_exp1      \n",
       " Min.   :148.0   Min.   :0.0000   Exp1:798     Min.   :0.000   Min.   :0.0000  \n",
       " 1st Qu.:173.0   1st Qu.:0.0000   Exp2:796     1st Qu.:0.000   1st Qu.:0.0000  \n",
       " Median :243.0   Median :0.0000   Exp3:634     Median :0.000   Median :0.0000  \n",
       " Mean   :254.8   Mean   :0.1854                Mean   :0.175   Mean   :0.3582  \n",
       " 3rd Qu.:313.0   3rd Qu.:0.0000                3rd Qu.:0.000   3rd Qu.:1.0000  \n",
       " Max.   :437.0   Max.   :1.0000                Max.   :1.000   Max.   :1.0000  \n",
       "                                                                               \n",
       "    Is_exp2          Is_exp3        early_death        time2event   \n",
       " Min.   :0.0000   Min.   :0.0000   Min.   :0.00000   Min.   :1.500  \n",
       " 1st Qu.:0.0000   1st Qu.:0.0000   1st Qu.:0.00000   1st Qu.:3.500  \n",
       " Median :0.0000   Median :0.0000   Median :0.00000   Median :3.833  \n",
       " Mean   :0.3573   Mean   :0.2846   Mean   :0.01391   Mean   :3.732  \n",
       " 3rd Qu.:1.0000   3rd Qu.:1.0000   3rd Qu.:0.00000   3rd Qu.:4.000  \n",
       " Max.   :1.0000   Max.   :1.0000   Max.   :1.00000   Max.   :7.000  \n",
       "                                                                    \n",
       "      DOA        proptime_2_Zone proptime_5_Zone    VTDperhour     \n",
       " Min.   :144.5   Min.   : 0.00   Min.   : 0.000   Min.   : 0.0417  \n",
       " 1st Qu.:211.2   1st Qu.:18.96   1st Qu.: 6.012   1st Qu.: 2.6667  \n",
       " Median :241.5   Median :35.31   Median :20.769   Median : 3.7812  \n",
       " Mean   :271.2   Mean   :33.98   Mean   :28.554   Mean   : 3.8424  \n",
       " 3rd Qu.:321.5   3rd Qu.:48.61   3rd Qu.:46.052   3rd Qu.: 4.8776  \n",
       " Max.   :433.5   Max.   :72.46   Max.   :96.965   Max.   :15.2292  \n",
       " NA's   :353     NA's   :353     NA's   :353      NA's   :353      \n",
       " mid_cum_Z4_h_Morning  chi2distance       severity           gap        \n",
       " Min.   :2.453        Min.   :0.0222   Min.   :  0.00   Min.   :0.0000  \n",
       " 1st Qu.:4.219        1st Qu.:0.1679   1st Qu.:  1.00   1st Qu.:0.0000  \n",
       " Median :4.843        Median :0.2181   Median : 16.00   Median :0.0000  \n",
       " Mean   :4.938        Mean   :0.2345   Mean   : 23.61   Mean   :0.2448  \n",
       " 3rd Qu.:5.619        3rd Qu.:0.2898   3rd Qu.: 38.00   3rd Qu.:0.0000  \n",
       " Max.   :7.762        Max.   :0.6202   Max.   :100.00   Max.   :1.0000  \n",
       " NA's   :946          NA's   :353      NA's   :353      NA's   :353     \n",
       "     weight    \n",
       " Min.   :1228  \n",
       " 1st Qu.:1701  \n",
       " Median :1790  \n",
       " Mean   :1797  \n",
       " 3rd Qu.:1886  \n",
       " Max.   :2331  \n",
       " NA's   :964   "
      ]
     },
     "metadata": {},
     "output_type": "display_data"
    },
    {
     "name": "stdout",
     "output_type": "stream",
     "text": [
      "[1] 2228   22\n"
     ]
    },
    {
     "data": {
      "text/html": [
       "<table class=\"dataframe\">\n",
       "<caption>A data.frame: 6 × 22</caption>\n",
       "<thead>\n",
       "\t<tr><th></th><th scope=col>HAID</th><th scope=col>HenID</th><th scope=col>id</th><th scope=col>MonthInstudy</th><th scope=col>DOAHA</th><th scope=col>IsOFH</th><th scope=col>ExperimentID</th><th scope=col>Is_relocated</th><th scope=col>Is_exp1</th><th scope=col>Is_exp2</th><th scope=col>...</th><th scope=col>time2event</th><th scope=col>DOA</th><th scope=col>proptime_2_Zone</th><th scope=col>proptime_5_Zone</th><th scope=col>VTDperhour</th><th scope=col>mid_cum_Z4_h_Morning</th><th scope=col>chi2distance</th><th scope=col>severity</th><th scope=col>gap</th><th scope=col>weight</th></tr>\n",
       "\t<tr><th></th><th scope=col>&lt;chr&gt;</th><th scope=col>&lt;fct&gt;</th><th scope=col>&lt;int&gt;</th><th scope=col>&lt;dbl&gt;</th><th scope=col>&lt;int&gt;</th><th scope=col>&lt;int&gt;</th><th scope=col>&lt;fct&gt;</th><th scope=col>&lt;int&gt;</th><th scope=col>&lt;int&gt;</th><th scope=col>&lt;int&gt;</th><th scope=col>...</th><th scope=col>&lt;dbl&gt;</th><th scope=col>&lt;dbl&gt;</th><th scope=col>&lt;dbl&gt;</th><th scope=col>&lt;dbl&gt;</th><th scope=col>&lt;dbl&gt;</th><th scope=col>&lt;dbl&gt;</th><th scope=col>&lt;dbl&gt;</th><th scope=col>&lt;dbl&gt;</th><th scope=col>&lt;dbl&gt;</th><th scope=col>&lt;dbl&gt;</th></tr>\n",
       "</thead>\n",
       "<tbody>\n",
       "\t<tr><th scope=row>1</th><td>created</td><td>EXP2_hen_1 </td><td>1</td><td>0.00</td><td>148</td><td>0</td><td>Exp2</td><td>1</td><td>0</td><td>1</td><td>...</td><td>3.731609</td><td> NA</td><td>      NA</td><td>      NA</td><td>      NA</td><td>      NA</td><td>       NA</td><td>NA</td><td>NA</td><td>    NA</td></tr>\n",
       "\t<tr><th scope=row>2</th><td>HA1    </td><td>EXP2_hen_1 </td><td>1</td><td>0.85</td><td>174</td><td>0</td><td>Exp2</td><td>1</td><td>0</td><td>1</td><td>...</td><td>4.000000</td><td>170</td><td>56.73802</td><td>14.29359</td><td>3.680272</td><td>5.312341</td><td>0.2478436</td><td> 0</td><td> 0</td><td>1691.7</td></tr>\n",
       "\t<tr><th scope=row>3</th><td>HA2    </td><td>EXP2_hen_1 </td><td>1</td><td>3.16</td><td>244</td><td>0</td><td>Exp2</td><td>1</td><td>0</td><td>1</td><td>...</td><td>4.000000</td><td>240</td><td>65.24008</td><td>11.95238</td><td>5.030612</td><td>4.624683</td><td>0.2946513</td><td> 0</td><td> 0</td><td>1722.2</td></tr>\n",
       "\t<tr><th scope=row>4</th><td>HA3    </td><td>EXP2_hen_1 </td><td>1</td><td>5.23</td><td>307</td><td>0</td><td>Exp2</td><td>1</td><td>0</td><td>1</td><td>...</td><td>4.000000</td><td>303</td><td>58.90306</td><td>12.99773</td><td>5.112245</td><td>4.937619</td><td>0.2250795</td><td> 1</td><td> 0</td><td>1655.2</td></tr>\n",
       "\t<tr><th scope=row>5</th><td>HA4    </td><td>EXP2_hen_1 </td><td>1</td><td>7.99</td><td>391</td><td>0</td><td>Exp2</td><td>1</td><td>0</td><td>1</td><td>...</td><td>4.000000</td><td>387</td><td>55.78231</td><td>11.78005</td><td>3.336735</td><td>5.653373</td><td>0.1631886</td><td>18</td><td> 0</td><td>1663.7</td></tr>\n",
       "\t<tr><th scope=row>6</th><td>created</td><td>EXP2_hen_10</td><td>2</td><td>0.00</td><td>148</td><td>0</td><td>Exp2</td><td>1</td><td>0</td><td>1</td><td>...</td><td>3.731609</td><td> NA</td><td>      NA</td><td>      NA</td><td>      NA</td><td>      NA</td><td>       NA</td><td>NA</td><td>NA</td><td>    NA</td></tr>\n",
       "</tbody>\n",
       "</table>\n"
      ],
      "text/latex": [
       "A data.frame: 6 × 22\n",
       "\\begin{tabular}{r|lllllllllllllllllllll}\n",
       "  & HAID & HenID & id & MonthInstudy & DOAHA & IsOFH & ExperimentID & Is\\_relocated & Is\\_exp1 & Is\\_exp2 & ... & time2event & DOA & proptime\\_2\\_Zone & proptime\\_5\\_Zone & VTDperhour & mid\\_cum\\_Z4\\_h\\_Morning & chi2distance & severity & gap & weight\\\\\n",
       "  & <chr> & <fct> & <int> & <dbl> & <int> & <int> & <fct> & <int> & <int> & <int> & ... & <dbl> & <dbl> & <dbl> & <dbl> & <dbl> & <dbl> & <dbl> & <dbl> & <dbl> & <dbl>\\\\\n",
       "\\hline\n",
       "\t1 & created & EXP2\\_hen\\_1  & 1 & 0.00 & 148 & 0 & Exp2 & 1 & 0 & 1 & ... & 3.731609 &  NA &       NA &       NA &       NA &       NA &        NA & NA & NA &     NA\\\\\n",
       "\t2 & HA1     & EXP2\\_hen\\_1  & 1 & 0.85 & 174 & 0 & Exp2 & 1 & 0 & 1 & ... & 4.000000 & 170 & 56.73802 & 14.29359 & 3.680272 & 5.312341 & 0.2478436 &  0 &  0 & 1691.7\\\\\n",
       "\t3 & HA2     & EXP2\\_hen\\_1  & 1 & 3.16 & 244 & 0 & Exp2 & 1 & 0 & 1 & ... & 4.000000 & 240 & 65.24008 & 11.95238 & 5.030612 & 4.624683 & 0.2946513 &  0 &  0 & 1722.2\\\\\n",
       "\t4 & HA3     & EXP2\\_hen\\_1  & 1 & 5.23 & 307 & 0 & Exp2 & 1 & 0 & 1 & ... & 4.000000 & 303 & 58.90306 & 12.99773 & 5.112245 & 4.937619 & 0.2250795 &  1 &  0 & 1655.2\\\\\n",
       "\t5 & HA4     & EXP2\\_hen\\_1  & 1 & 7.99 & 391 & 0 & Exp2 & 1 & 0 & 1 & ... & 4.000000 & 387 & 55.78231 & 11.78005 & 3.336735 & 5.653373 & 0.1631886 & 18 &  0 & 1663.7\\\\\n",
       "\t6 & created & EXP2\\_hen\\_10 & 2 & 0.00 & 148 & 0 & Exp2 & 1 & 0 & 1 & ... & 3.731609 &  NA &       NA &       NA &       NA &       NA &        NA & NA & NA &     NA\\\\\n",
       "\\end{tabular}\n"
      ],
      "text/markdown": [
       "\n",
       "A data.frame: 6 × 22\n",
       "\n",
       "| <!--/--> | HAID &lt;chr&gt; | HenID &lt;fct&gt; | id &lt;int&gt; | MonthInstudy &lt;dbl&gt; | DOAHA &lt;int&gt; | IsOFH &lt;int&gt; | ExperimentID &lt;fct&gt; | Is_relocated &lt;int&gt; | Is_exp1 &lt;int&gt; | Is_exp2 &lt;int&gt; | ... ... | time2event &lt;dbl&gt; | DOA &lt;dbl&gt; | proptime_2_Zone &lt;dbl&gt; | proptime_5_Zone &lt;dbl&gt; | VTDperhour &lt;dbl&gt; | mid_cum_Z4_h_Morning &lt;dbl&gt; | chi2distance &lt;dbl&gt; | severity &lt;dbl&gt; | gap &lt;dbl&gt; | weight &lt;dbl&gt; |\n",
       "|---|---|---|---|---|---|---|---|---|---|---|---|---|---|---|---|---|---|---|---|---|---|\n",
       "| 1 | created | EXP2_hen_1  | 1 | 0.00 | 148 | 0 | Exp2 | 1 | 0 | 1 | ... | 3.731609 |  NA |       NA |       NA |       NA |       NA |        NA | NA | NA |     NA |\n",
       "| 2 | HA1     | EXP2_hen_1  | 1 | 0.85 | 174 | 0 | Exp2 | 1 | 0 | 1 | ... | 4.000000 | 170 | 56.73802 | 14.29359 | 3.680272 | 5.312341 | 0.2478436 |  0 |  0 | 1691.7 |\n",
       "| 3 | HA2     | EXP2_hen_1  | 1 | 3.16 | 244 | 0 | Exp2 | 1 | 0 | 1 | ... | 4.000000 | 240 | 65.24008 | 11.95238 | 5.030612 | 4.624683 | 0.2946513 |  0 |  0 | 1722.2 |\n",
       "| 4 | HA3     | EXP2_hen_1  | 1 | 5.23 | 307 | 0 | Exp2 | 1 | 0 | 1 | ... | 4.000000 | 303 | 58.90306 | 12.99773 | 5.112245 | 4.937619 | 0.2250795 |  1 |  0 | 1655.2 |\n",
       "| 5 | HA4     | EXP2_hen_1  | 1 | 7.99 | 391 | 0 | Exp2 | 1 | 0 | 1 | ... | 4.000000 | 387 | 55.78231 | 11.78005 | 3.336735 | 5.653373 | 0.1631886 | 18 |  0 | 1663.7 |\n",
       "| 6 | created | EXP2_hen_10 | 2 | 0.00 | 148 | 0 | Exp2 | 1 | 0 | 1 | ... | 3.731609 |  NA |       NA |       NA |       NA |       NA |        NA | NA | NA |     NA |\n",
       "\n"
      ],
      "text/plain": [
       "  HAID    HenID       id MonthInstudy DOAHA IsOFH ExperimentID Is_relocated\n",
       "1 created EXP2_hen_1  1  0.00         148   0     Exp2         1           \n",
       "2 HA1     EXP2_hen_1  1  0.85         174   0     Exp2         1           \n",
       "3 HA2     EXP2_hen_1  1  3.16         244   0     Exp2         1           \n",
       "4 HA3     EXP2_hen_1  1  5.23         307   0     Exp2         1           \n",
       "5 HA4     EXP2_hen_1  1  7.99         391   0     Exp2         1           \n",
       "6 created EXP2_hen_10 2  0.00         148   0     Exp2         1           \n",
       "  Is_exp1 Is_exp2 ... time2event DOA proptime_2_Zone proptime_5_Zone VTDperhour\n",
       "1 0       1       ... 3.731609    NA       NA              NA              NA  \n",
       "2 0       1       ... 4.000000   170 56.73802        14.29359        3.680272  \n",
       "3 0       1       ... 4.000000   240 65.24008        11.95238        5.030612  \n",
       "4 0       1       ... 4.000000   303 58.90306        12.99773        5.112245  \n",
       "5 0       1       ... 4.000000   387 55.78231        11.78005        3.336735  \n",
       "6 0       1       ... 3.731609    NA       NA              NA              NA  \n",
       "  mid_cum_Z4_h_Morning chi2distance severity gap weight\n",
       "1       NA                    NA    NA       NA      NA\n",
       "2 5.312341             0.2478436     0        0  1691.7\n",
       "3 4.624683             0.2946513     0        0  1722.2\n",
       "4 4.937619             0.2250795     1        0  1655.2\n",
       "5 5.653373             0.1631886    18        0  1663.7\n",
       "6       NA                    NA    NA       NA      NA"
      ]
     },
     "metadata": {},
     "output_type": "display_data"
    }
   ],
   "source": [
    "path_save = file.path('LongformatModels')\n",
    "dir.create(path_save)\n",
    "df = read.csv('df_longformatALL.csv', header = TRUE, sep = \",\")\n",
    "df$HenID = as.factor(df$HenID)   \n",
    "df$ExperimentID = as.factor(df$ExperimentID)   \n",
    "#tme is for now week of age\n",
    "summary(df)\n",
    "print(dim(df))\n",
    "head(df)\n",
    "#describe(df)"
   ]
  },
  {
   "cell_type": "code",
   "execution_count": 4,
   "id": "e12a3828",
   "metadata": {},
   "outputs": [
    {
     "data": {
      "text/html": [
       "<style>\n",
       ".list-inline {list-style: none; margin:0; padding: 0}\n",
       ".list-inline>li {display: inline-block}\n",
       ".list-inline>li:not(:last-child)::after {content: \"\\00b7\"; padding: 0 .5ex}\n",
       "</style>\n",
       "<ol class=list-inline><li>'created'</li><li>'HA1'</li><li>'HA2'</li><li>'HA3'</li><li>'HA4'</li><li>'HA5'</li><li>'HA1A'</li><li>'HA2A'</li><li>'HA3A'</li><li>'HA4A'</li><li>'HA5A'</li><li>'HA6A'</li><li>'HA7A'</li><li>'HA8A'</li><li>'HA9A'</li><li>'HA10A'</li><li>'HA11A'</li><li>'HA1B'</li><li>'HA2B'</li><li>'HA3B'</li><li>'HA4B'</li><li>'HA5B'</li><li>'HA6B'</li><li>'HA7B'</li><li>'HA8B'</li><li>'HA9B'</li><li>'HA11B'</li><li>'HA10B'</li></ol>\n"
      ],
      "text/latex": [
       "\\begin{enumerate*}\n",
       "\\item 'created'\n",
       "\\item 'HA1'\n",
       "\\item 'HA2'\n",
       "\\item 'HA3'\n",
       "\\item 'HA4'\n",
       "\\item 'HA5'\n",
       "\\item 'HA1A'\n",
       "\\item 'HA2A'\n",
       "\\item 'HA3A'\n",
       "\\item 'HA4A'\n",
       "\\item 'HA5A'\n",
       "\\item 'HA6A'\n",
       "\\item 'HA7A'\n",
       "\\item 'HA8A'\n",
       "\\item 'HA9A'\n",
       "\\item 'HA10A'\n",
       "\\item 'HA11A'\n",
       "\\item 'HA1B'\n",
       "\\item 'HA2B'\n",
       "\\item 'HA3B'\n",
       "\\item 'HA4B'\n",
       "\\item 'HA5B'\n",
       "\\item 'HA6B'\n",
       "\\item 'HA7B'\n",
       "\\item 'HA8B'\n",
       "\\item 'HA9B'\n",
       "\\item 'HA11B'\n",
       "\\item 'HA10B'\n",
       "\\end{enumerate*}\n"
      ],
      "text/markdown": [
       "1. 'created'\n",
       "2. 'HA1'\n",
       "3. 'HA2'\n",
       "4. 'HA3'\n",
       "5. 'HA4'\n",
       "6. 'HA5'\n",
       "7. 'HA1A'\n",
       "8. 'HA2A'\n",
       "9. 'HA3A'\n",
       "10. 'HA4A'\n",
       "11. 'HA5A'\n",
       "12. 'HA6A'\n",
       "13. 'HA7A'\n",
       "14. 'HA8A'\n",
       "15. 'HA9A'\n",
       "16. 'HA10A'\n",
       "17. 'HA11A'\n",
       "18. 'HA1B'\n",
       "19. 'HA2B'\n",
       "20. 'HA3B'\n",
       "21. 'HA4B'\n",
       "22. 'HA5B'\n",
       "23. 'HA6B'\n",
       "24. 'HA7B'\n",
       "25. 'HA8B'\n",
       "26. 'HA9B'\n",
       "27. 'HA11B'\n",
       "28. 'HA10B'\n",
       "\n",
       "\n"
      ],
      "text/plain": [
       " [1] \"created\" \"HA1\"     \"HA2\"     \"HA3\"     \"HA4\"     \"HA5\"     \"HA1A\"   \n",
       " [8] \"HA2A\"    \"HA3A\"    \"HA4A\"    \"HA5A\"    \"HA6A\"    \"HA7A\"    \"HA8A\"   \n",
       "[15] \"HA9A\"    \"HA10A\"   \"HA11A\"   \"HA1B\"    \"HA2B\"    \"HA3B\"    \"HA4B\"   \n",
       "[22] \"HA5B\"    \"HA6B\"    \"HA7B\"    \"HA8B\"    \"HA9B\"    \"HA11B\"   \"HA10B\"  "
      ]
     },
     "metadata": {},
     "output_type": "display_data"
    }
   ],
   "source": [
    "unique(df$HAID)"
   ]
  },
  {
   "cell_type": "code",
   "execution_count": 5,
   "id": "0baec775",
   "metadata": {},
   "outputs": [
    {
     "data": {
      "text/html": [
       "<style>\n",
       ".list-inline {list-style: none; margin:0; padding: 0}\n",
       ".list-inline>li {display: inline-block}\n",
       ".list-inline>li:not(:last-child)::after {content: \"\\00b7\"; padding: 0 .5ex}\n",
       "</style>\n",
       "<ol class=list-inline><li>'HAID'</li><li>'HenID'</li><li>'id'</li><li>'MonthInstudy'</li><li>'DOAHA'</li><li>'IsOFH'</li><li>'ExperimentID'</li><li>'Is_relocated'</li><li>'Is_exp1'</li><li>'Is_exp2'</li><li>'Is_exp3'</li><li>'early_death'</li><li>'time2event'</li><li>'DOA'</li><li>'proptime_2_Zone'</li><li>'proptime_5_Zone'</li><li>'VTDperhour'</li><li>'mid_cum_Z4_h_Morning'</li><li>'chi2distance'</li><li>'severity'</li><li>'gap'</li><li>'weight'</li></ol>\n"
      ],
      "text/latex": [
       "\\begin{enumerate*}\n",
       "\\item 'HAID'\n",
       "\\item 'HenID'\n",
       "\\item 'id'\n",
       "\\item 'MonthInstudy'\n",
       "\\item 'DOAHA'\n",
       "\\item 'IsOFH'\n",
       "\\item 'ExperimentID'\n",
       "\\item 'Is\\_relocated'\n",
       "\\item 'Is\\_exp1'\n",
       "\\item 'Is\\_exp2'\n",
       "\\item 'Is\\_exp3'\n",
       "\\item 'early\\_death'\n",
       "\\item 'time2event'\n",
       "\\item 'DOA'\n",
       "\\item 'proptime\\_2\\_Zone'\n",
       "\\item 'proptime\\_5\\_Zone'\n",
       "\\item 'VTDperhour'\n",
       "\\item 'mid\\_cum\\_Z4\\_h\\_Morning'\n",
       "\\item 'chi2distance'\n",
       "\\item 'severity'\n",
       "\\item 'gap'\n",
       "\\item 'weight'\n",
       "\\end{enumerate*}\n"
      ],
      "text/markdown": [
       "1. 'HAID'\n",
       "2. 'HenID'\n",
       "3. 'id'\n",
       "4. 'MonthInstudy'\n",
       "5. 'DOAHA'\n",
       "6. 'IsOFH'\n",
       "7. 'ExperimentID'\n",
       "8. 'Is_relocated'\n",
       "9. 'Is_exp1'\n",
       "10. 'Is_exp2'\n",
       "11. 'Is_exp3'\n",
       "12. 'early_death'\n",
       "13. 'time2event'\n",
       "14. 'DOA'\n",
       "15. 'proptime_2_Zone'\n",
       "16. 'proptime_5_Zone'\n",
       "17. 'VTDperhour'\n",
       "18. 'mid_cum_Z4_h_Morning'\n",
       "19. 'chi2distance'\n",
       "20. 'severity'\n",
       "21. 'gap'\n",
       "22. 'weight'\n",
       "\n",
       "\n"
      ],
      "text/plain": [
       " [1] \"HAID\"                 \"HenID\"                \"id\"                  \n",
       " [4] \"MonthInstudy\"         \"DOAHA\"                \"IsOFH\"               \n",
       " [7] \"ExperimentID\"         \"Is_relocated\"         \"Is_exp1\"             \n",
       "[10] \"Is_exp2\"              \"Is_exp3\"              \"early_death\"         \n",
       "[13] \"time2event\"           \"DOA\"                  \"proptime_2_Zone\"     \n",
       "[16] \"proptime_5_Zone\"      \"VTDperhour\"           \"mid_cum_Z4_h_Morning\"\n",
       "[19] \"chi2distance\"         \"severity\"             \"gap\"                 \n",
       "[22] \"weight\"              "
      ]
     },
     "metadata": {},
     "output_type": "display_data"
    }
   ],
   "source": [
    "colnames(df)"
   ]
  },
  {
   "cell_type": "markdown",
   "id": "98c550a1",
   "metadata": {
    "scrolled": true
   },
   "source": [
    "#repeated measures correlations #TODO once all good: make sure its bootstrap!\n",
    "v1 = rmcorr(HenID, severity, VTDperhour, data = df, CIs=\"bootstrap\")\n",
    "v2 = rmcorr(HenID, severity, proptime_2_Zone, data = df, CIs=\"bootstrap\")\n",
    "v3 = rmcorr(HenID, severity, proptime_5_Zone, data = df,CIs=\"bootstrap\") #bstrap.out=T,\n",
    "\n",
    "v1\n",
    "plot(v1)\n",
    "\n",
    "v2\n",
    "plot(v2)\n",
    "\n",
    "v3\n",
    "plot(v3)"
   ]
  },
  {
   "cell_type": "code",
   "execution_count": 6,
   "id": "fa63e1c8",
   "metadata": {},
   "outputs": [
    {
     "data": {
      "image/png": "[encoded data removed]",
      "text/plain": [
       "Plot with title \"Histogram of df$VTDperhour\""
      ]
     },
     "metadata": {
      "image/png": {
       "height": 420,
       "width": 420
      }
     },
     "output_type": "display_data"
    }
   ],
   "source": [
    "#TODO once all good: add R if we want\n",
    "hist(df$VTDperhour)"
   ]
  },
  {
   "cell_type": "code",
   "execution_count": 7,
   "id": "96086b06",
   "metadata": {},
   "outputs": [
    {
     "data": {
      "image/png": "[encoded data removed]",
      "text/plain": [
       "Plot with title \"Histogram of df$severity\""
      ]
     },
     "metadata": {
      "image/png": {
       "height": 420,
       "width": 420
      }
     },
     "output_type": "display_data"
    }
   ],
   "source": [
    "hist(df$severity)"
   ]
  },
  {
   "cell_type": "code",
   "execution_count": 8,
   "id": "883d074f",
   "metadata": {},
   "outputs": [],
   "source": [
    "#TODO on final model, only relevant when optimize=FALSE, \n",
    "iter_ = 2000 \n",
    "chains_ = 2 \n",
    "bool_optimize = TRUE #documentation FALSE: \"which also mean intoverpop will be set to FALSE automatically and therefore we integrates over \n",
    "#full sampling rather than population distribution of parameters\"\n",
    "#number of cpu cores to use to speed up\n",
    "cores_ = 5 \n",
    "folds_ = 3"
   ]
  },
  {
   "cell_type": "markdown",
   "id": "4c5b907a",
   "metadata": {},
   "source": [
    "# Hierarchical Bayesian continuous time dynamic model - VTD & KBF severity"
   ]
  },
  {
   "cell_type": "code",
   "execution_count": 9,
   "id": "94bafd34",
   "metadata": {},
   "outputs": [
    {
     "data": {
      "text/html": [
       "<table class=\"dataframe\">\n",
       "<caption>A data.frame: 2 × 7</caption>\n",
       "<thead>\n",
       "\t<tr><th></th><th scope=col>ExperimentID</th><th scope=col>IsOFH</th><th scope=col>Is_relocated</th><th scope=col>Is_exp1</th><th scope=col>Is_exp2</th><th scope=col>Is_exp3</th><th scope=col>time2event</th></tr>\n",
       "\t<tr><th></th><th scope=col>&lt;fct&gt;</th><th scope=col>&lt;int&gt;</th><th scope=col>&lt;int&gt;</th><th scope=col>&lt;int&gt;</th><th scope=col>&lt;int&gt;</th><th scope=col>&lt;int&gt;</th><th scope=col>&lt;dbl&gt;</th></tr>\n",
       "</thead>\n",
       "<tbody>\n",
       "\t<tr><th scope=row>1</th><td>Exp2</td><td>0</td><td>1</td><td>0</td><td>1</td><td>0</td><td>3.731609</td></tr>\n",
       "\t<tr><th scope=row>2</th><td>Exp2</td><td>0</td><td>1</td><td>0</td><td>1</td><td>0</td><td>4.000000</td></tr>\n",
       "</tbody>\n",
       "</table>\n"
      ],
      "text/latex": [
       "A data.frame: 2 × 7\n",
       "\\begin{tabular}{r|lllllll}\n",
       "  & ExperimentID & IsOFH & Is\\_relocated & Is\\_exp1 & Is\\_exp2 & Is\\_exp3 & time2event\\\\\n",
       "  & <fct> & <int> & <int> & <int> & <int> & <int> & <dbl>\\\\\n",
       "\\hline\n",
       "\t1 & Exp2 & 0 & 1 & 0 & 1 & 0 & 3.731609\\\\\n",
       "\t2 & Exp2 & 0 & 1 & 0 & 1 & 0 & 4.000000\\\\\n",
       "\\end{tabular}\n"
      ],
      "text/markdown": [
       "\n",
       "A data.frame: 2 × 7\n",
       "\n",
       "| <!--/--> | ExperimentID &lt;fct&gt; | IsOFH &lt;int&gt; | Is_relocated &lt;int&gt; | Is_exp1 &lt;int&gt; | Is_exp2 &lt;int&gt; | Is_exp3 &lt;int&gt; | time2event &lt;dbl&gt; |\n",
       "|---|---|---|---|---|---|---|---|\n",
       "| 1 | Exp2 | 0 | 1 | 0 | 1 | 0 | 3.731609 |\n",
       "| 2 | Exp2 | 0 | 1 | 0 | 1 | 0 | 4.000000 |\n",
       "\n"
      ],
      "text/plain": [
       "  ExperimentID IsOFH Is_relocated Is_exp1 Is_exp2 Is_exp3 time2event\n",
       "1 Exp2         0     1            0       1       0       3.731609  \n",
       "2 Exp2         0     1            0       1       0       4.000000  "
      ]
     },
     "metadata": {},
     "output_type": "display_data"
    }
   ],
   "source": [
    "head(df[,c('ExperimentID','IsOFH', 'Is_relocated','Is_exp1','Is_exp2','Is_exp3','time2event')],2)"
   ]
  },
  {
   "cell_type": "code",
   "execution_count": 26,
   "id": "0b45d33f",
   "metadata": {
    "scrolled": true
   },
   "outputs": [
    {
     "name": "stderr",
     "output_type": "stream",
     "text": [
      "Warning message in dir.create(path_save_):\n",
      "\"'LongformatModels\\VTD_severity_trend_allti_rs0_final2test3' existe déjà\"\n"
     ]
    },
    {
     "data": {
      "text/html": [
       "<style>\n",
       ".list-inline {list-style: none; margin:0; padding: 0}\n",
       ".list-inline>li {display: inline-block}\n",
       ".list-inline>li:not(:last-child)::after {content: \"\\00b7\"; padding: 0 .5ex}\n",
       "</style>\n",
       "<ol class=list-inline><li>593</li><li>3</li></ol>\n"
      ],
      "text/latex": [
       "\\begin{enumerate*}\n",
       "\\item 593\n",
       "\\item 3\n",
       "\\end{enumerate*}\n"
      ],
      "text/markdown": [
       "1. 593\n",
       "2. 3\n",
       "\n",
       "\n"
      ],
      "text/plain": [
       "[1] 593   3"
      ]
     },
     "metadata": {},
     "output_type": "display_data"
    },
    {
     "data": {
      "text/html": [
       "<table class=\"dataframe\">\n",
       "<caption>A matrix: 3 × 3 of type dbl</caption>\n",
       "<thead>\n",
       "\t<tr><th></th><th scope=col>time</th><th scope=col>Y1</th><th scope=col>Y2</th></tr>\n",
       "</thead>\n",
       "<tbody>\n",
       "\t<tr><th scope=row>time</th><td> 1.00</td><td> 0.70</td><td>-0.25</td></tr>\n",
       "\t<tr><th scope=row>Y1</th><td> 0.70</td><td> 1.00</td><td>-0.27</td></tr>\n",
       "\t<tr><th scope=row>Y2</th><td>-0.25</td><td>-0.27</td><td> 1.00</td></tr>\n",
       "</tbody>\n",
       "</table>\n"
      ],
      "text/latex": [
       "A matrix: 3 × 3 of type dbl\n",
       "\\begin{tabular}{r|lll}\n",
       "  & time & Y1 & Y2\\\\\n",
       "\\hline\n",
       "\ttime &  1.00 &  0.70 & -0.25\\\\\n",
       "\tY1 &  0.70 &  1.00 & -0.27\\\\\n",
       "\tY2 & -0.25 & -0.27 &  1.00\\\\\n",
       "\\end{tabular}\n"
      ],
      "text/markdown": [
       "\n",
       "A matrix: 3 × 3 of type dbl\n",
       "\n",
       "| <!--/--> | time | Y1 | Y2 |\n",
       "|---|---|---|---|\n",
       "| time |  1.00 |  0.70 | -0.25 |\n",
       "| Y1 |  0.70 |  1.00 | -0.27 |\n",
       "| Y2 | -0.25 | -0.27 |  1.00 |\n",
       "\n"
      ],
      "text/plain": [
       "     time  Y1    Y2   \n",
       "time  1.00  0.70 -0.25\n",
       "Y1    0.70  1.00 -0.27\n",
       "Y2   -0.25 -0.27  1.00"
      ]
     },
     "metadata": {},
     "output_type": "display_data"
    },
    {
     "data": {
      "text/html": [
       "<table class=\"dataframe\">\n",
       "<caption>A matrix: 3 × 3 of type dbl</caption>\n",
       "<thead>\n",
       "\t<tr><th></th><th scope=col>time</th><th scope=col>Y1</th><th scope=col>Y2</th></tr>\n",
       "</thead>\n",
       "<tbody>\n",
       "\t<tr><th scope=row>time</th><td> 1.00</td><td> 0.72</td><td>-0.24</td></tr>\n",
       "\t<tr><th scope=row>Y1</th><td> 0.72</td><td> 1.00</td><td>-0.29</td></tr>\n",
       "\t<tr><th scope=row>Y2</th><td>-0.24</td><td>-0.29</td><td> 1.00</td></tr>\n",
       "</tbody>\n",
       "</table>\n"
      ],
      "text/latex": [
       "A matrix: 3 × 3 of type dbl\n",
       "\\begin{tabular}{r|lll}\n",
       "  & time & Y1 & Y2\\\\\n",
       "\\hline\n",
       "\ttime &  1.00 &  0.72 & -0.24\\\\\n",
       "\tY1 &  0.72 &  1.00 & -0.29\\\\\n",
       "\tY2 & -0.24 & -0.29 &  1.00\\\\\n",
       "\\end{tabular}\n"
      ],
      "text/markdown": [
       "\n",
       "A matrix: 3 × 3 of type dbl\n",
       "\n",
       "| <!--/--> | time | Y1 | Y2 |\n",
       "|---|---|---|---|\n",
       "| time |  1.00 |  0.72 | -0.24 |\n",
       "| Y1 |  0.72 |  1.00 | -0.29 |\n",
       "| Y2 | -0.24 | -0.29 |  1.00 |\n",
       "\n"
      ],
      "text/plain": [
       "     time  Y1    Y2   \n",
       "time  1.00  0.72 -0.24\n",
       "Y1    0.72  1.00 -0.29\n",
       "Y2   -0.24 -0.29  1.00"
      ]
     },
     "metadata": {},
     "output_type": "display_data"
    },
    {
     "data": {
      "text/html": [
       "<style>\n",
       ".list-inline {list-style: none; margin:0; padding: 0}\n",
       ".list-inline>li {display: inline-block}\n",
       ".list-inline>li:not(:last-child)::after {content: \"\\00b7\"; padding: 0 .5ex}\n",
       "</style>\n",
       "<ol class=list-inline><li>634</li><li>9</li></ol>\n"
      ],
      "text/latex": [
       "\\begin{enumerate*}\n",
       "\\item 634\n",
       "\\item 9\n",
       "\\end{enumerate*}\n"
      ],
      "text/markdown": [
       "1. 634\n",
       "2. 9\n",
       "\n",
       "\n"
      ],
      "text/plain": [
       "[1] 634   9"
      ]
     },
     "metadata": {},
     "output_type": "display_data"
    },
    {
     "data": {
      "text/html": [
       "<table class=\"dataframe\">\n",
       "<caption>A data.frame: 2 × 9</caption>\n",
       "<thead>\n",
       "\t<tr><th></th><th scope=col>id</th><th scope=col>time</th><th scope=col>Y1</th><th scope=col>Y2</th><th scope=col>time2event</th><th scope=col>IsOFH</th><th scope=col>Is_exp2</th><th scope=col>Is_exp3</th><th scope=col>weight</th></tr>\n",
       "\t<tr><th></th><th scope=col>&lt;int&gt;</th><th scope=col>&lt;dbl&gt;</th><th scope=col>&lt;dbl&gt;</th><th scope=col>&lt;dbl&gt;</th><th scope=col>&lt;dbl&gt;</th><th scope=col>&lt;dbl&gt;</th><th scope=col>&lt;dbl&gt;</th><th scope=col>&lt;dbl&gt;</th><th scope=col>&lt;dbl&gt;</th></tr>\n",
       "</thead>\n",
       "<tbody>\n",
       "\t<tr><th scope=row>1595</th><td>313</td><td>0.00</td><td>-0.1618407</td><td>-0.01392178</td><td>3.5</td><td>0</td><td>0</td><td>1</td><td>NA</td></tr>\n",
       "\t<tr><th scope=row>1596</th><td>313</td><td>0.69</td><td>-0.5557877</td><td>-0.19719766</td><td>3.5</td><td>0</td><td>0</td><td>1</td><td>NA</td></tr>\n",
       "</tbody>\n",
       "</table>\n"
      ],
      "text/latex": [
       "A data.frame: 2 × 9\n",
       "\\begin{tabular}{r|lllllllll}\n",
       "  & id & time & Y1 & Y2 & time2event & IsOFH & Is\\_exp2 & Is\\_exp3 & weight\\\\\n",
       "  & <int> & <dbl> & <dbl> & <dbl> & <dbl> & <dbl> & <dbl> & <dbl> & <dbl>\\\\\n",
       "\\hline\n",
       "\t1595 & 313 & 0.00 & -0.1618407 & -0.01392178 & 3.5 & 0 & 0 & 1 & NA\\\\\n",
       "\t1596 & 313 & 0.69 & -0.5557877 & -0.19719766 & 3.5 & 0 & 0 & 1 & NA\\\\\n",
       "\\end{tabular}\n"
      ],
      "text/markdown": [
       "\n",
       "A data.frame: 2 × 9\n",
       "\n",
       "| <!--/--> | id &lt;int&gt; | time &lt;dbl&gt; | Y1 &lt;dbl&gt; | Y2 &lt;dbl&gt; | time2event &lt;dbl&gt; | IsOFH &lt;dbl&gt; | Is_exp2 &lt;dbl&gt; | Is_exp3 &lt;dbl&gt; | weight &lt;dbl&gt; |\n",
       "|---|---|---|---|---|---|---|---|---|---|\n",
       "| 1595 | 313 | 0.00 | -0.1618407 | -0.01392178 | 3.5 | 0 | 0 | 1 | NA |\n",
       "| 1596 | 313 | 0.69 | -0.5557877 | -0.19719766 | 3.5 | 0 | 0 | 1 | NA |\n",
       "\n"
      ],
      "text/plain": [
       "     id  time Y1         Y2          time2event IsOFH Is_exp2 Is_exp3 weight\n",
       "1595 313 0.00 -0.1618407 -0.01392178 3.5        0     0       1       NA    \n",
       "1596 313 0.69 -0.5557877 -0.19719766 3.5        0     0       1       NA    "
      ]
     },
     "metadata": {},
     "output_type": "display_data"
    },
    {
     "data": {
      "text/plain": [
       "       id             time             Y1                Y2         \n",
       " Min.   :313.0   Min.   :0.000   Min.   :-1.2225   Min.   :-1.5573  \n",
       " 1st Qu.:329.0   1st Qu.:1.380   1st Qu.:-1.2225   1st Qu.:-0.6940  \n",
       " Median :344.0   Median :3.480   Median : 0.1412   Median :-0.1104  \n",
       " Mean   :343.2   Mean   :4.005   Mean   : 0.0000   Mean   : 0.0000  \n",
       " 3rd Qu.:358.0   3rd Qu.:6.480   3rd Qu.: 0.8382   3rd Qu.: 0.4973  \n",
       " Max.   :372.0   Max.   :9.500   Max.   : 1.8079   Max.   : 5.4747  \n",
       "                                 NA's   :41        NA's   :41       \n",
       "   time2event       IsOFH      Is_exp2     Is_exp3      weight   \n",
       " Min.   :3.00   Min.   :0   Min.   :0   Min.   :1   Min.   : NA  \n",
       " 1st Qu.:3.50   1st Qu.:0   1st Qu.:0   1st Qu.:1   1st Qu.: NA  \n",
       " Median :3.50   Median :0   Median :0   Median :1   Median : NA  \n",
       " Mean   :3.57   Mean   :0   Mean   :0   Mean   :1   Mean   :NaN  \n",
       " 3rd Qu.:3.50   3rd Qu.:0   3rd Qu.:0   3rd Qu.:1   3rd Qu.: NA  \n",
       " Max.   :6.00   Max.   :0   Max.   :0   Max.   :1   Max.   : NA  \n",
       "                                                    NA's   :634  "
      ]
     },
     "metadata": {},
     "output_type": "display_data"
    },
    {
     "name": "stdout",
     "output_type": "stream",
     "text": [
      "'data.frame':\t634 obs. of  9 variables:\n",
      " $ id        : int  313 313 313 313 313 313 313 313 313 313 ...\n",
      " $ time      : num  0 0.69 1.38 2.3 3.22 4.14 5.56 6.21 7.13 8.28 ...\n",
      " $ Y1        : num  -0.1618 -0.5558 -0.5255 -0.0103 0.0806 ...\n",
      " $ Y2        : num  -0.0139 -0.1972 -0.5493 0.0729 0.2128 ...\n",
      " $ time2event: num  3.5 3.5 3.5 3.5 3.5 3.5 3.5 3.5 3.5 3.5 ...\n",
      " $ IsOFH     : num  0 0 0 0 0 0 0 0 0 0 ...\n",
      " $ Is_exp2   : num  0 0 0 0 0 0 0 0 0 0 ...\n",
      " $ Is_exp3   : num  1 1 1 1 1 1 1 1 1 1 ...\n",
      " $ weight    : num  NA NA NA NA NA NA NA NA NA NA ...\n"
     ]
    }
   ],
   "source": [
    "############ \n",
    "#initialise what we want\n",
    "name = 'VTD_severity_trend_allti_rs0_final2test3'\n",
    "data_mvtha = subset(df,df$Is_exp3==1)\n",
    "#data_mvtha = data_mvtha %>% select (id, MonthInstudy, severity, VTDperhour)\n",
    "data_mvtha = data_mvtha %>% select (id, MonthInstudy, severity, VTDperhour, time2event,IsOFH,Is_exp2,Is_exp3,weight)#, IsOFH, Is_relocated,Is_exp2,Is_exp3)\n",
    "data_mvtha = plyr::rename(data_mvtha, c('MonthInstudy'='time',\"severity\"=\"Y1\", \"VTDperhour\"=\"Y2\"))\n",
    "#data_mvtha$Y1 = sqrt(data_mvtha$Y1)\n",
    "\n",
    "#create directory\n",
    "path_save_ = file.path(path_save,name)\n",
    "dir.create(path_save_)\n",
    "#convert into double (integer leads to warning as Y1 and Y2 are double)\n",
    "#without centered TI: we get a warning: \"Uncentered TI predictors noted -- interpretability may be hindered and default priors \n",
    "#may not be appropriate\"\n",
    "#centering and scaling variables in the model\n",
    "li_sc = c('Y1','Y2')#, 'IsOFH', 'Is_relocated','Is_exp1','Is_exp2','Is_exp3')\n",
    "data_mvtha[,li_sc] = scale(data_mvtha[,li_sc]) \n",
    "#warning if we have double and integer, and as Y1 and Y2 are double, let set them all\n",
    "data_mvtha[li_sc] = sapply(data_mvtha[li_sc],as.double)\n",
    "data_mvtha[c('IsOFH','Is_exp2','Is_exp3')] = sapply(data_mvtha[c('IsOFH','Is_exp2','Is_exp3')],as.double)\n",
    "\n",
    "#pearson correlation\n",
    "df_ = na.omit(data_mvtha[,c('time','Y1', \"Y2\")])\n",
    "dim(df_)\n",
    "round(cor(df_[,c('time','Y1', \"Y2\")], method = c(\"pearson\")), 2)\n",
    "round(cor(df_[,c('time','Y1', \"Y2\")], method = c(\"spearman\")), 2)\n",
    "#show info\n",
    "dim(data_mvtha)\n",
    "head(data_mvtha,2)\n",
    "summary(data_mvtha)\n",
    "str(data_mvtha)"
   ]
  },
  {
   "cell_type": "code",
   "execution_count": 27,
   "id": "2e23a7a5",
   "metadata": {},
   "outputs": [
    {
     "data": {
      "text/html": [
       "<table class=\"dataframe\">\n",
       "<caption>A matrix: 6 × 6 of type chr</caption>\n",
       "<tbody>\n",
       "\t<tr><td>0</td><td>0</td><td>0</td><td>0</td><td>0                  </td><td>0           </td></tr>\n",
       "\t<tr><td>0</td><td>0</td><td>0</td><td>0</td><td>0                  </td><td>0           </td></tr>\n",
       "\t<tr><td>0</td><td>0</td><td>0</td><td>0</td><td>0                  </td><td>0           </td></tr>\n",
       "\t<tr><td>0</td><td>0</td><td>0</td><td>0</td><td>0                  </td><td>0           </td></tr>\n",
       "\t<tr><td>0</td><td>0</td><td>0</td><td>0</td><td>diffu_dynKBF       </td><td>0           </td></tr>\n",
       "\t<tr><td>0</td><td>0</td><td>0</td><td>0</td><td>diffu_dynVTD_dynKBF</td><td>diffu_dynVTD</td></tr>\n",
       "</tbody>\n",
       "</table>\n"
      ],
      "text/latex": [
       "A matrix: 6 × 6 of type chr\n",
       "\\begin{tabular}{llllll}\n",
       "\t 0 & 0 & 0 & 0 & 0                   & 0           \\\\\n",
       "\t 0 & 0 & 0 & 0 & 0                   & 0           \\\\\n",
       "\t 0 & 0 & 0 & 0 & 0                   & 0           \\\\\n",
       "\t 0 & 0 & 0 & 0 & 0                   & 0           \\\\\n",
       "\t 0 & 0 & 0 & 0 & diffu\\_dynKBF        & 0           \\\\\n",
       "\t 0 & 0 & 0 & 0 & diffu\\_dynVTD\\_dynKBF & diffu\\_dynVTD\\\\\n",
       "\\end{tabular}\n"
      ],
      "text/markdown": [
       "\n",
       "A matrix: 6 × 6 of type chr\n",
       "\n",
       "| 0 | 0 | 0 | 0 | 0                   | 0            |\n",
       "| 0 | 0 | 0 | 0 | 0                   | 0            |\n",
       "| 0 | 0 | 0 | 0 | 0                   | 0            |\n",
       "| 0 | 0 | 0 | 0 | 0                   | 0            |\n",
       "| 0 | 0 | 0 | 0 | diffu_dynKBF        | 0            |\n",
       "| 0 | 0 | 0 | 0 | diffu_dynVTD_dynKBF | diffu_dynVTD |\n",
       "\n"
      ],
      "text/plain": [
       "     [,1] [,2] [,3] [,4] [,5]                [,6]        \n",
       "[1,] 0    0    0    0    0                   0           \n",
       "[2,] 0    0    0    0    0                   0           \n",
       "[3,] 0    0    0    0    0                   0           \n",
       "[4,] 0    0    0    0    0                   0           \n",
       "[5,] 0    0    0    0    diffu_dynKBF        0           \n",
       "[6,] 0    0    0    0    diffu_dynVTD_dynKBF diffu_dynVTD"
      ]
     },
     "metadata": {},
     "output_type": "display_data"
    }
   ],
   "source": [
    "Mdiffu = matrix(c(0,0,0,0,0,0,\n",
    "              0,0,0,0,0,0,\n",
    "              0,0,0,0,0,0,\n",
    "              0,0,0,0,0,0,\n",
    "              0,0,0,0,'diffu_dynKBF','diffu_dynVTD_dynKBF',\n",
    "              0,0,0,0,0,'diffu_dynVTD'), ncol = 6)\n",
    "Mdiffu"
   ]
  },
  {
   "cell_type": "code",
   "execution_count": 28,
   "id": "7d0bb7b1",
   "metadata": {},
   "outputs": [
    {
     "data": {
      "text/html": [
       "<table class=\"dataframe\">\n",
       "<caption>A matrix: 6 × 6 of type chr</caption>\n",
       "<tbody>\n",
       "\t<tr><td>T0var_KBF        </td><td>0                </td><td>0                    </td><td>0            </td><td>0</td><td>0</td></tr>\n",
       "\t<tr><td>T0var_VTD_KBF    </td><td>T0var_VTD        </td><td>0                    </td><td>0            </td><td>0</td><td>0</td></tr>\n",
       "\t<tr><td>T0var_cintKBF_KBF</td><td>T0var_cintKBF_VTD</td><td>T0var_cintKBF        </td><td>0            </td><td>0</td><td>0</td></tr>\n",
       "\t<tr><td>T0var_cintVTD_KBF</td><td>T0var_cintVTD_VTD</td><td>T0var_cintVTD_cintKBF</td><td>T0var_cintVTD</td><td>0</td><td>0</td></tr>\n",
       "\t<tr><td>0                </td><td>0                </td><td>0                    </td><td>0            </td><td>0</td><td>0</td></tr>\n",
       "\t<tr><td>0                </td><td>0                </td><td>0                    </td><td>0            </td><td>0</td><td>0</td></tr>\n",
       "</tbody>\n",
       "</table>\n"
      ],
      "text/latex": [
       "A matrix: 6 × 6 of type chr\n",
       "\\begin{tabular}{llllll}\n",
       "\t T0var\\_KBF         & 0                 & 0                     & 0             & 0 & 0\\\\\n",
       "\t T0var\\_VTD\\_KBF     & T0var\\_VTD         & 0                     & 0             & 0 & 0\\\\\n",
       "\t T0var\\_cintKBF\\_KBF & T0var\\_cintKBF\\_VTD & T0var\\_cintKBF         & 0             & 0 & 0\\\\\n",
       "\t T0var\\_cintVTD\\_KBF & T0var\\_cintVTD\\_VTD & T0var\\_cintVTD\\_cintKBF & T0var\\_cintVTD & 0 & 0\\\\\n",
       "\t 0                 & 0                 & 0                     & 0             & 0 & 0\\\\\n",
       "\t 0                 & 0                 & 0                     & 0             & 0 & 0\\\\\n",
       "\\end{tabular}\n"
      ],
      "text/markdown": [
       "\n",
       "A matrix: 6 × 6 of type chr\n",
       "\n",
       "| T0var_KBF         | 0                 | 0                     | 0             | 0 | 0 |\n",
       "| T0var_VTD_KBF     | T0var_VTD         | 0                     | 0             | 0 | 0 |\n",
       "| T0var_cintKBF_KBF | T0var_cintKBF_VTD | T0var_cintKBF         | 0             | 0 | 0 |\n",
       "| T0var_cintVTD_KBF | T0var_cintVTD_VTD | T0var_cintVTD_cintKBF | T0var_cintVTD | 0 | 0 |\n",
       "| 0                 | 0                 | 0                     | 0             | 0 | 0 |\n",
       "| 0                 | 0                 | 0                     | 0             | 0 | 0 |\n",
       "\n"
      ],
      "text/plain": [
       "     [,1]              [,2]              [,3]                  [,4]         \n",
       "[1,] T0var_KBF         0                 0                     0            \n",
       "[2,] T0var_VTD_KBF     T0var_VTD         0                     0            \n",
       "[3,] T0var_cintKBF_KBF T0var_cintKBF_VTD T0var_cintKBF         0            \n",
       "[4,] T0var_cintVTD_KBF T0var_cintVTD_VTD T0var_cintVTD_cintKBF T0var_cintVTD\n",
       "[5,] 0                 0                 0                     0            \n",
       "[6,] 0                 0                 0                     0            \n",
       "     [,5] [,6]\n",
       "[1,] 0    0   \n",
       "[2,] 0    0   \n",
       "[3,] 0    0   \n",
       "[4,] 0    0   \n",
       "[5,] 0    0   \n",
       "[6,] 0    0   "
      ]
     },
     "metadata": {},
     "output_type": "display_data"
    }
   ],
   "source": [
    "#\"initial covariance matrices are fixed to zero in many elements such that these new dynamics processes do not interact or \n",
    "#co-vary with the other processes in the system\"\n",
    "Mt0var = matrix(c('T0var_KBF','T0var_VTD_KBF','T0var_cintKBF_KBF','T0var_cintVTD_KBF',0,0,\n",
    "                  0,'T0var_VTD','T0var_cintKBF_VTD','T0var_cintVTD_VTD',0,0,\n",
    "                  0,0,'T0var_cintKBF','T0var_cintVTD_cintKBF',0,0,\n",
    "                  0,0,0,'T0var_cintVTD',0,0,\n",
    "                  0,0,0,0,0,0,\n",
    "                  0,0,0,0,0,0), ncol=6)\n",
    "#TODO: no initial var in the dynamics process as it set to 0 always... correct?\n",
    "Mt0var"
   ]
  },
  {
   "cell_type": "code",
   "execution_count": 29,
   "id": "99ba431f",
   "metadata": {},
   "outputs": [
    {
     "data": {
      "text/html": [
       "<table class=\"dataframe\">\n",
       "<caption>A matrix: 6 × 1 of type chr</caption>\n",
       "<tbody>\n",
       "\t<tr><td>T0m_KBF    </td></tr>\n",
       "\t<tr><td>T0m_VTD    </td></tr>\n",
       "\t<tr><td>T0m_cintKBF</td></tr>\n",
       "\t<tr><td>T0m_cintVTD</td></tr>\n",
       "\t<tr><td>0          </td></tr>\n",
       "\t<tr><td>0          </td></tr>\n",
       "</tbody>\n",
       "</table>\n"
      ],
      "text/latex": [
       "A matrix: 6 × 1 of type chr\n",
       "\\begin{tabular}{l}\n",
       "\t T0m\\_KBF    \\\\\n",
       "\t T0m\\_VTD    \\\\\n",
       "\t T0m\\_cintKBF\\\\\n",
       "\t T0m\\_cintVTD\\\\\n",
       "\t 0          \\\\\n",
       "\t 0          \\\\\n",
       "\\end{tabular}\n"
      ],
      "text/markdown": [
       "\n",
       "A matrix: 6 × 1 of type chr\n",
       "\n",
       "| T0m_KBF     |\n",
       "| T0m_VTD     |\n",
       "| T0m_cintKBF |\n",
       "| T0m_cintVTD |\n",
       "| 0           |\n",
       "| 0           |\n",
       "\n"
      ],
      "text/plain": [
       "     [,1]       \n",
       "[1,] T0m_KBF    \n",
       "[2,] T0m_VTD    \n",
       "[3,] T0m_cintKBF\n",
       "[4,] T0m_cintVTD\n",
       "[5,] 0          \n",
       "[6,] 0          "
      ]
     },
     "metadata": {},
     "output_type": "display_data"
    }
   ],
   "source": [
    "#The initial state and continuous intercept for each dynamical process is set to zero, to ensure that the processes capture \n",
    "#only the fluctuations and not the general trends\n",
    "Mt0means = matrix(c('T0m_KBF','T0m_VTD','T0m_cintKBF','T0m_cintVTD',0,0),ncol=1)\n",
    "Mt0means\n",
    "MCINT = matrix(c(0,0,0,0,0,0),ncol=1)"
   ]
  },
  {
   "cell_type": "code",
   "execution_count": 30,
   "id": "fc1bc5c5",
   "metadata": {},
   "outputs": [
    {
     "data": {
      "text/html": [
       "<table class=\"dataframe\">\n",
       "<caption>A matrix: 6 × 6 of type chr</caption>\n",
       "<tbody>\n",
       "\t<tr><td>drift_KBF</td><td>0        </td><td>1</td><td>0</td><td>0                  </td><td>0                  </td></tr>\n",
       "\t<tr><td>0        </td><td>drift_VTD</td><td>0</td><td>1</td><td>0                  </td><td>0                  </td></tr>\n",
       "\t<tr><td>0        </td><td>0        </td><td>0</td><td>0</td><td>0                  </td><td>0                  </td></tr>\n",
       "\t<tr><td>0        </td><td>0        </td><td>0</td><td>0</td><td>0                  </td><td>0                  </td></tr>\n",
       "\t<tr><td>0        </td><td>0        </td><td>0</td><td>0</td><td>drift_dynKBF       </td><td>drift_dynKBF_dynVTD</td></tr>\n",
       "\t<tr><td>0        </td><td>0        </td><td>0</td><td>0</td><td>drift_dynVTD_dynKBF</td><td>drift_dynVTD       </td></tr>\n",
       "</tbody>\n",
       "</table>\n"
      ],
      "text/latex": [
       "A matrix: 6 × 6 of type chr\n",
       "\\begin{tabular}{llllll}\n",
       "\t drift\\_KBF & 0         & 1 & 0 & 0                   & 0                  \\\\\n",
       "\t 0         & drift\\_VTD & 0 & 1 & 0                   & 0                  \\\\\n",
       "\t 0         & 0         & 0 & 0 & 0                   & 0                  \\\\\n",
       "\t 0         & 0         & 0 & 0 & 0                   & 0                  \\\\\n",
       "\t 0         & 0         & 0 & 0 & drift\\_dynKBF        & drift\\_dynKBF\\_dynVTD\\\\\n",
       "\t 0         & 0         & 0 & 0 & drift\\_dynVTD\\_dynKBF & drift\\_dynVTD       \\\\\n",
       "\\end{tabular}\n"
      ],
      "text/markdown": [
       "\n",
       "A matrix: 6 × 6 of type chr\n",
       "\n",
       "| drift_KBF | 0         | 1 | 0 | 0                   | 0                   |\n",
       "| 0         | drift_VTD | 0 | 1 | 0                   | 0                   |\n",
       "| 0         | 0         | 0 | 0 | 0                   | 0                   |\n",
       "| 0         | 0         | 0 | 0 | 0                   | 0                   |\n",
       "| 0         | 0         | 0 | 0 | drift_dynKBF        | drift_dynKBF_dynVTD |\n",
       "| 0         | 0         | 0 | 0 | drift_dynVTD_dynKBF | drift_dynVTD        |\n",
       "\n"
      ],
      "text/plain": [
       "     [,1]      [,2]      [,3] [,4] [,5]                [,6]               \n",
       "[1,] drift_KBF 0         1    0    0                   0                  \n",
       "[2,] 0         drift_VTD 0    1    0                   0                  \n",
       "[3,] 0         0         0    0    0                   0                  \n",
       "[4,] 0         0         0    0    0                   0                  \n",
       "[5,] 0         0         0    0    drift_dynKBF        drift_dynKBF_dynVTD\n",
       "[6,] 0         0         0    0    drift_dynVTD_dynKBF drift_dynVTD       "
      ]
     },
     "metadata": {},
     "output_type": "display_data"
    }
   ],
   "source": [
    "#\"The auto-effect of the dynamics processes is estimated, setting the speed of the fluctuations\"\n",
    "Mdrift = matrix(c('drift_KBF',0,0,0,0,0,\n",
    "                    0,'drift_VTD',0,0,0,0,\n",
    "                    1,0,0,0,0,0,\n",
    "                    0,1,0,0,0,0,\n",
    "                    0,0,0,0,'drift_dynKBF','drift_dynVTD_dynKBF',\n",
    "                    0,0,0,0,'drift_dynKBF_dynVTD','drift_dynVTD'), ncol = 6)\n",
    "Mdrift"
   ]
  },
  {
   "cell_type": "code",
   "execution_count": 31,
   "id": "ac2a6b49",
   "metadata": {
    "scrolled": true
   },
   "outputs": [
    {
     "data": {
      "text/html": [
       "<table class=\"dataframe\">\n",
       "<caption>A data.frame: 138 × 8</caption>\n",
       "<thead>\n",
       "\t<tr><th></th><th scope=col>matrix</th><th scope=col>row</th><th scope=col>col</th><th scope=col>param</th><th scope=col>value</th><th scope=col>transform</th><th scope=col>indvarying</th><th scope=col>sdscale</th></tr>\n",
       "\t<tr><th></th><th scope=col>&lt;chr&gt;</th><th scope=col>&lt;int&gt;</th><th scope=col>&lt;int&gt;</th><th scope=col>&lt;chr&gt;</th><th scope=col>&lt;dbl&gt;</th><th scope=col>&lt;chr&gt;</th><th scope=col>&lt;lgl&gt;</th><th scope=col>&lt;dbl&gt;</th></tr>\n",
       "</thead>\n",
       "<tbody>\n",
       "\t<tr><th scope=row>1</th><td>T0MEANS</td><td>1</td><td>1</td><td>T0m_KBF    </td><td>NA</td><td>10 * param                            </td><td> TRUE</td><td> 1</td></tr>\n",
       "\t<tr><th scope=row>2</th><td>T0MEANS</td><td>2</td><td>1</td><td>T0m_VTD    </td><td>NA</td><td>10 * param                            </td><td> TRUE</td><td> 1</td></tr>\n",
       "\t<tr><th scope=row>3</th><td>T0MEANS</td><td>3</td><td>1</td><td>T0m_cintKBF</td><td>NA</td><td>10 * param                            </td><td> TRUE</td><td> 1</td></tr>\n",
       "\t<tr><th scope=row>4</th><td>T0MEANS</td><td>4</td><td>1</td><td>T0m_cintVTD</td><td>NA</td><td>10 * param                            </td><td> TRUE</td><td> 1</td></tr>\n",
       "\t<tr><th scope=row>5</th><td>T0MEANS</td><td>5</td><td>1</td><td>NA         </td><td> 0</td><td>NA                                    </td><td> TRUE</td><td>NA</td></tr>\n",
       "\t<tr><th scope=row>6</th><td>T0MEANS</td><td>6</td><td>1</td><td>NA         </td><td> 0</td><td>NA                                    </td><td> TRUE</td><td>NA</td></tr>\n",
       "\t<tr><th scope=row>7</th><td>LAMBDA </td><td>1</td><td>1</td><td>NA         </td><td> 1</td><td>NA                                    </td><td>FALSE</td><td>NA</td></tr>\n",
       "\t<tr><th scope=row>8</th><td>LAMBDA </td><td>1</td><td>2</td><td>NA         </td><td> 0</td><td>NA                                    </td><td>FALSE</td><td>NA</td></tr>\n",
       "\t<tr><th scope=row>9</th><td>LAMBDA </td><td>1</td><td>3</td><td>NA         </td><td> 0</td><td>NA                                    </td><td>FALSE</td><td>NA</td></tr>\n",
       "\t<tr><th scope=row>10</th><td>LAMBDA </td><td>1</td><td>4</td><td>NA         </td><td> 0</td><td>NA                                    </td><td>FALSE</td><td>NA</td></tr>\n",
       "\t<tr><th scope=row>11</th><td>LAMBDA </td><td>1</td><td>5</td><td>NA         </td><td> 1</td><td>NA                                    </td><td>FALSE</td><td>NA</td></tr>\n",
       "\t<tr><th scope=row>12</th><td>LAMBDA </td><td>1</td><td>6</td><td>NA         </td><td> 0</td><td>NA                                    </td><td>FALSE</td><td>NA</td></tr>\n",
       "\t<tr><th scope=row>13</th><td>LAMBDA </td><td>2</td><td>1</td><td>NA         </td><td> 0</td><td>NA                                    </td><td>FALSE</td><td>NA</td></tr>\n",
       "\t<tr><th scope=row>14</th><td>LAMBDA </td><td>2</td><td>2</td><td>NA         </td><td> 1</td><td>NA                                    </td><td>FALSE</td><td>NA</td></tr>\n",
       "\t<tr><th scope=row>15</th><td>LAMBDA </td><td>2</td><td>3</td><td>NA         </td><td> 0</td><td>NA                                    </td><td>FALSE</td><td>NA</td></tr>\n",
       "\t<tr><th scope=row>16</th><td>LAMBDA </td><td>2</td><td>4</td><td>NA         </td><td> 0</td><td>NA                                    </td><td>FALSE</td><td>NA</td></tr>\n",
       "\t<tr><th scope=row>17</th><td>LAMBDA </td><td>2</td><td>5</td><td>NA         </td><td> 0</td><td>NA                                    </td><td>FALSE</td><td>NA</td></tr>\n",
       "\t<tr><th scope=row>18</th><td>LAMBDA </td><td>2</td><td>6</td><td>NA         </td><td> 1</td><td>NA                                    </td><td>FALSE</td><td>NA</td></tr>\n",
       "\t<tr><th scope=row>19</th><td>DRIFT  </td><td>1</td><td>1</td><td>drift_KBF  </td><td>NA</td><td>-(1e-06 + 2 * log1p_exp(-(2 * param)))</td><td>FALSE</td><td> 1</td></tr>\n",
       "\t<tr><th scope=row>20</th><td>DRIFT  </td><td>1</td><td>2</td><td>NA         </td><td> 0</td><td>NA                                    </td><td>FALSE</td><td>NA</td></tr>\n",
       "\t<tr><th scope=row>21</th><td>DRIFT  </td><td>1</td><td>3</td><td>NA         </td><td> 1</td><td>NA                                    </td><td>FALSE</td><td>NA</td></tr>\n",
       "\t<tr><th scope=row>22</th><td>DRIFT  </td><td>1</td><td>4</td><td>NA         </td><td> 0</td><td>NA                                    </td><td>FALSE</td><td>NA</td></tr>\n",
       "\t<tr><th scope=row>23</th><td>DRIFT  </td><td>1</td><td>5</td><td>NA         </td><td> 0</td><td>NA                                    </td><td>FALSE</td><td>NA</td></tr>\n",
       "\t<tr><th scope=row>24</th><td>DRIFT  </td><td>1</td><td>6</td><td>NA         </td><td> 0</td><td>NA                                    </td><td>FALSE</td><td>NA</td></tr>\n",
       "\t<tr><th scope=row>25</th><td>DRIFT  </td><td>2</td><td>1</td><td>NA         </td><td> 0</td><td>NA                                    </td><td>FALSE</td><td>NA</td></tr>\n",
       "\t<tr><th scope=row>26</th><td>DRIFT  </td><td>2</td><td>2</td><td>drift_VTD  </td><td>NA</td><td>-(1e-06 + 2 * log1p_exp(-(2 * param)))</td><td>FALSE</td><td> 1</td></tr>\n",
       "\t<tr><th scope=row>27</th><td>DRIFT  </td><td>2</td><td>3</td><td>NA         </td><td> 0</td><td>NA                                    </td><td>FALSE</td><td>NA</td></tr>\n",
       "\t<tr><th scope=row>28</th><td>DRIFT  </td><td>2</td><td>4</td><td>NA         </td><td> 1</td><td>NA                                    </td><td>FALSE</td><td>NA</td></tr>\n",
       "\t<tr><th scope=row>29</th><td>DRIFT  </td><td>2</td><td>5</td><td>NA         </td><td> 0</td><td>NA                                    </td><td>FALSE</td><td>NA</td></tr>\n",
       "\t<tr><th scope=row>30</th><td>DRIFT  </td><td>2</td><td>6</td><td>NA         </td><td> 0</td><td>NA                                    </td><td>FALSE</td><td>NA</td></tr>\n",
       "\t<tr><th scope=row>...</th><td>...</td><td>...</td><td>...</td><td>...</td><td>...</td><td>...</td><td>...</td><td>...</td></tr>\n",
       "\t<tr><th scope=row>109</th><td>T0VAR</td><td>2</td><td>1</td><td>T0var_VTD_KBF        </td><td>NA</td><td>2/(1 + exp(-param)) - 1         </td><td>FALSE</td><td> 1</td></tr>\n",
       "\t<tr><th scope=row>110</th><td>T0VAR</td><td>2</td><td>2</td><td>T0var_VTD            </td><td>NA</td><td>1e-10 + 5 * log1p_exp(2 * param)</td><td>FALSE</td><td> 1</td></tr>\n",
       "\t<tr><th scope=row>111</th><td>T0VAR</td><td>2</td><td>3</td><td>NA                   </td><td> 0</td><td>NA                              </td><td>FALSE</td><td>NA</td></tr>\n",
       "\t<tr><th scope=row>112</th><td>T0VAR</td><td>2</td><td>4</td><td>NA                   </td><td> 0</td><td>NA                              </td><td>FALSE</td><td>NA</td></tr>\n",
       "\t<tr><th scope=row>113</th><td>T0VAR</td><td>2</td><td>5</td><td>NA                   </td><td> 0</td><td>NA                              </td><td>FALSE</td><td>NA</td></tr>\n",
       "\t<tr><th scope=row>114</th><td>T0VAR</td><td>2</td><td>6</td><td>NA                   </td><td> 0</td><td>NA                              </td><td>FALSE</td><td>NA</td></tr>\n",
       "\t<tr><th scope=row>115</th><td>T0VAR</td><td>3</td><td>1</td><td>T0var_cintKBF_KBF    </td><td>NA</td><td>2/(1 + exp(-param)) - 1         </td><td>FALSE</td><td> 1</td></tr>\n",
       "\t<tr><th scope=row>116</th><td>T0VAR</td><td>3</td><td>2</td><td>T0var_cintKBF_VTD    </td><td>NA</td><td>2/(1 + exp(-param)) - 1         </td><td>FALSE</td><td> 1</td></tr>\n",
       "\t<tr><th scope=row>117</th><td>T0VAR</td><td>3</td><td>3</td><td>T0var_cintKBF        </td><td>NA</td><td>1e-10 + 5 * log1p_exp(2 * param)</td><td>FALSE</td><td> 1</td></tr>\n",
       "\t<tr><th scope=row>118</th><td>T0VAR</td><td>3</td><td>4</td><td>NA                   </td><td> 0</td><td>NA                              </td><td>FALSE</td><td>NA</td></tr>\n",
       "\t<tr><th scope=row>119</th><td>T0VAR</td><td>3</td><td>5</td><td>NA                   </td><td> 0</td><td>NA                              </td><td>FALSE</td><td>NA</td></tr>\n",
       "\t<tr><th scope=row>120</th><td>T0VAR</td><td>3</td><td>6</td><td>NA                   </td><td> 0</td><td>NA                              </td><td>FALSE</td><td>NA</td></tr>\n",
       "\t<tr><th scope=row>121</th><td>T0VAR</td><td>4</td><td>1</td><td>T0var_cintVTD_KBF    </td><td>NA</td><td>2/(1 + exp(-param)) - 1         </td><td>FALSE</td><td> 1</td></tr>\n",
       "\t<tr><th scope=row>122</th><td>T0VAR</td><td>4</td><td>2</td><td>T0var_cintVTD_VTD    </td><td>NA</td><td>2/(1 + exp(-param)) - 1         </td><td>FALSE</td><td> 1</td></tr>\n",
       "\t<tr><th scope=row>123</th><td>T0VAR</td><td>4</td><td>3</td><td>T0var_cintVTD_cintKBF</td><td>NA</td><td>2/(1 + exp(-param)) - 1         </td><td>FALSE</td><td> 1</td></tr>\n",
       "\t<tr><th scope=row>124</th><td>T0VAR</td><td>4</td><td>4</td><td>T0var_cintVTD        </td><td>NA</td><td>1e-10 + 5 * log1p_exp(2 * param)</td><td>FALSE</td><td> 1</td></tr>\n",
       "\t<tr><th scope=row>125</th><td>T0VAR</td><td>4</td><td>5</td><td>NA                   </td><td> 0</td><td>NA                              </td><td>FALSE</td><td>NA</td></tr>\n",
       "\t<tr><th scope=row>126</th><td>T0VAR</td><td>4</td><td>6</td><td>NA                   </td><td> 0</td><td>NA                              </td><td>FALSE</td><td>NA</td></tr>\n",
       "\t<tr><th scope=row>127</th><td>T0VAR</td><td>5</td><td>1</td><td>NA                   </td><td> 0</td><td>NA                              </td><td>FALSE</td><td>NA</td></tr>\n",
       "\t<tr><th scope=row>128</th><td>T0VAR</td><td>5</td><td>2</td><td>NA                   </td><td> 0</td><td>NA                              </td><td>FALSE</td><td>NA</td></tr>\n",
       "\t<tr><th scope=row>129</th><td>T0VAR</td><td>5</td><td>3</td><td>NA                   </td><td> 0</td><td>NA                              </td><td>FALSE</td><td>NA</td></tr>\n",
       "\t<tr><th scope=row>130</th><td>T0VAR</td><td>5</td><td>4</td><td>NA                   </td><td> 0</td><td>NA                              </td><td>FALSE</td><td>NA</td></tr>\n",
       "\t<tr><th scope=row>131</th><td>T0VAR</td><td>5</td><td>5</td><td>NA                   </td><td> 0</td><td>NA                              </td><td>FALSE</td><td>NA</td></tr>\n",
       "\t<tr><th scope=row>132</th><td>T0VAR</td><td>5</td><td>6</td><td>NA                   </td><td> 0</td><td>NA                              </td><td>FALSE</td><td>NA</td></tr>\n",
       "\t<tr><th scope=row>133</th><td>T0VAR</td><td>6</td><td>1</td><td>NA                   </td><td> 0</td><td>NA                              </td><td>FALSE</td><td>NA</td></tr>\n",
       "\t<tr><th scope=row>134</th><td>T0VAR</td><td>6</td><td>2</td><td>NA                   </td><td> 0</td><td>NA                              </td><td>FALSE</td><td>NA</td></tr>\n",
       "\t<tr><th scope=row>135</th><td>T0VAR</td><td>6</td><td>3</td><td>NA                   </td><td> 0</td><td>NA                              </td><td>FALSE</td><td>NA</td></tr>\n",
       "\t<tr><th scope=row>136</th><td>T0VAR</td><td>6</td><td>4</td><td>NA                   </td><td> 0</td><td>NA                              </td><td>FALSE</td><td>NA</td></tr>\n",
       "\t<tr><th scope=row>137</th><td>T0VAR</td><td>6</td><td>5</td><td>NA                   </td><td> 0</td><td>NA                              </td><td>FALSE</td><td>NA</td></tr>\n",
       "\t<tr><th scope=row>138</th><td>T0VAR</td><td>6</td><td>6</td><td>NA                   </td><td> 0</td><td>NA                              </td><td>FALSE</td><td>NA</td></tr>\n",
       "</tbody>\n",
       "</table>\n"
      ],
      "text/latex": [
       "A data.frame: 138 × 8\n",
       "\\begin{tabular}{r|llllllll}\n",
       "  & matrix & row & col & param & value & transform & indvarying & sdscale\\\\\n",
       "  & <chr> & <int> & <int> & <chr> & <dbl> & <chr> & <lgl> & <dbl>\\\\\n",
       "\\hline\n",
       "\t1 & T0MEANS & 1 & 1 & T0m\\_KBF     & NA & 10 * param                             &  TRUE &  1\\\\\n",
       "\t2 & T0MEANS & 2 & 1 & T0m\\_VTD     & NA & 10 * param                             &  TRUE &  1\\\\\n",
       "\t3 & T0MEANS & 3 & 1 & T0m\\_cintKBF & NA & 10 * param                             &  TRUE &  1\\\\\n",
       "\t4 & T0MEANS & 4 & 1 & T0m\\_cintVTD & NA & 10 * param                             &  TRUE &  1\\\\\n",
       "\t5 & T0MEANS & 5 & 1 & NA          &  0 & NA                                     &  TRUE & NA\\\\\n",
       "\t6 & T0MEANS & 6 & 1 & NA          &  0 & NA                                     &  TRUE & NA\\\\\n",
       "\t7 & LAMBDA  & 1 & 1 & NA          &  1 & NA                                     & FALSE & NA\\\\\n",
       "\t8 & LAMBDA  & 1 & 2 & NA          &  0 & NA                                     & FALSE & NA\\\\\n",
       "\t9 & LAMBDA  & 1 & 3 & NA          &  0 & NA                                     & FALSE & NA\\\\\n",
       "\t10 & LAMBDA  & 1 & 4 & NA          &  0 & NA                                     & FALSE & NA\\\\\n",
       "\t11 & LAMBDA  & 1 & 5 & NA          &  1 & NA                                     & FALSE & NA\\\\\n",
       "\t12 & LAMBDA  & 1 & 6 & NA          &  0 & NA                                     & FALSE & NA\\\\\n",
       "\t13 & LAMBDA  & 2 & 1 & NA          &  0 & NA                                     & FALSE & NA\\\\\n",
       "\t14 & LAMBDA  & 2 & 2 & NA          &  1 & NA                                     & FALSE & NA\\\\\n",
       "\t15 & LAMBDA  & 2 & 3 & NA          &  0 & NA                                     & FALSE & NA\\\\\n",
       "\t16 & LAMBDA  & 2 & 4 & NA          &  0 & NA                                     & FALSE & NA\\\\\n",
       "\t17 & LAMBDA  & 2 & 5 & NA          &  0 & NA                                     & FALSE & NA\\\\\n",
       "\t18 & LAMBDA  & 2 & 6 & NA          &  1 & NA                                     & FALSE & NA\\\\\n",
       "\t19 & DRIFT   & 1 & 1 & drift\\_KBF   & NA & -(1e-06 + 2 * log1p\\_exp(-(2 * param))) & FALSE &  1\\\\\n",
       "\t20 & DRIFT   & 1 & 2 & NA          &  0 & NA                                     & FALSE & NA\\\\\n",
       "\t21 & DRIFT   & 1 & 3 & NA          &  1 & NA                                     & FALSE & NA\\\\\n",
       "\t22 & DRIFT   & 1 & 4 & NA          &  0 & NA                                     & FALSE & NA\\\\\n",
       "\t23 & DRIFT   & 1 & 5 & NA          &  0 & NA                                     & FALSE & NA\\\\\n",
       "\t24 & DRIFT   & 1 & 6 & NA          &  0 & NA                                     & FALSE & NA\\\\\n",
       "\t25 & DRIFT   & 2 & 1 & NA          &  0 & NA                                     & FALSE & NA\\\\\n",
       "\t26 & DRIFT   & 2 & 2 & drift\\_VTD   & NA & -(1e-06 + 2 * log1p\\_exp(-(2 * param))) & FALSE &  1\\\\\n",
       "\t27 & DRIFT   & 2 & 3 & NA          &  0 & NA                                     & FALSE & NA\\\\\n",
       "\t28 & DRIFT   & 2 & 4 & NA          &  1 & NA                                     & FALSE & NA\\\\\n",
       "\t29 & DRIFT   & 2 & 5 & NA          &  0 & NA                                     & FALSE & NA\\\\\n",
       "\t30 & DRIFT   & 2 & 6 & NA          &  0 & NA                                     & FALSE & NA\\\\\n",
       "\t... & ... & ... & ... & ... & ... & ... & ... & ...\\\\\n",
       "\t109 & T0VAR & 2 & 1 & T0var\\_VTD\\_KBF         & NA & 2/(1 + exp(-param)) - 1          & FALSE &  1\\\\\n",
       "\t110 & T0VAR & 2 & 2 & T0var\\_VTD             & NA & 1e-10 + 5 * log1p\\_exp(2 * param) & FALSE &  1\\\\\n",
       "\t111 & T0VAR & 2 & 3 & NA                    &  0 & NA                               & FALSE & NA\\\\\n",
       "\t112 & T0VAR & 2 & 4 & NA                    &  0 & NA                               & FALSE & NA\\\\\n",
       "\t113 & T0VAR & 2 & 5 & NA                    &  0 & NA                               & FALSE & NA\\\\\n",
       "\t114 & T0VAR & 2 & 6 & NA                    &  0 & NA                               & FALSE & NA\\\\\n",
       "\t115 & T0VAR & 3 & 1 & T0var\\_cintKBF\\_KBF     & NA & 2/(1 + exp(-param)) - 1          & FALSE &  1\\\\\n",
       "\t116 & T0VAR & 3 & 2 & T0var\\_cintKBF\\_VTD     & NA & 2/(1 + exp(-param)) - 1          & FALSE &  1\\\\\n",
       "\t117 & T0VAR & 3 & 3 & T0var\\_cintKBF         & NA & 1e-10 + 5 * log1p\\_exp(2 * param) & FALSE &  1\\\\\n",
       "\t118 & T0VAR & 3 & 4 & NA                    &  0 & NA                               & FALSE & NA\\\\\n",
       "\t119 & T0VAR & 3 & 5 & NA                    &  0 & NA                               & FALSE & NA\\\\\n",
       "\t120 & T0VAR & 3 & 6 & NA                    &  0 & NA                               & FALSE & NA\\\\\n",
       "\t121 & T0VAR & 4 & 1 & T0var\\_cintVTD\\_KBF     & NA & 2/(1 + exp(-param)) - 1          & FALSE &  1\\\\\n",
       "\t122 & T0VAR & 4 & 2 & T0var\\_cintVTD\\_VTD     & NA & 2/(1 + exp(-param)) - 1          & FALSE &  1\\\\\n",
       "\t123 & T0VAR & 4 & 3 & T0var\\_cintVTD\\_cintKBF & NA & 2/(1 + exp(-param)) - 1          & FALSE &  1\\\\\n",
       "\t124 & T0VAR & 4 & 4 & T0var\\_cintVTD         & NA & 1e-10 + 5 * log1p\\_exp(2 * param) & FALSE &  1\\\\\n",
       "\t125 & T0VAR & 4 & 5 & NA                    &  0 & NA                               & FALSE & NA\\\\\n",
       "\t126 & T0VAR & 4 & 6 & NA                    &  0 & NA                               & FALSE & NA\\\\\n",
       "\t127 & T0VAR & 5 & 1 & NA                    &  0 & NA                               & FALSE & NA\\\\\n",
       "\t128 & T0VAR & 5 & 2 & NA                    &  0 & NA                               & FALSE & NA\\\\\n",
       "\t129 & T0VAR & 5 & 3 & NA                    &  0 & NA                               & FALSE & NA\\\\\n",
       "\t130 & T0VAR & 5 & 4 & NA                    &  0 & NA                               & FALSE & NA\\\\\n",
       "\t131 & T0VAR & 5 & 5 & NA                    &  0 & NA                               & FALSE & NA\\\\\n",
       "\t132 & T0VAR & 5 & 6 & NA                    &  0 & NA                               & FALSE & NA\\\\\n",
       "\t133 & T0VAR & 6 & 1 & NA                    &  0 & NA                               & FALSE & NA\\\\\n",
       "\t134 & T0VAR & 6 & 2 & NA                    &  0 & NA                               & FALSE & NA\\\\\n",
       "\t135 & T0VAR & 6 & 3 & NA                    &  0 & NA                               & FALSE & NA\\\\\n",
       "\t136 & T0VAR & 6 & 4 & NA                    &  0 & NA                               & FALSE & NA\\\\\n",
       "\t137 & T0VAR & 6 & 5 & NA                    &  0 & NA                               & FALSE & NA\\\\\n",
       "\t138 & T0VAR & 6 & 6 & NA                    &  0 & NA                               & FALSE & NA\\\\\n",
       "\\end{tabular}\n"
      ],
      "text/markdown": [
       "\n",
       "A data.frame: 138 × 8\n",
       "\n",
       "| <!--/--> | matrix &lt;chr&gt; | row &lt;int&gt; | col &lt;int&gt; | param &lt;chr&gt; | value &lt;dbl&gt; | transform &lt;chr&gt; | indvarying &lt;lgl&gt; | sdscale &lt;dbl&gt; |\n",
       "|---|---|---|---|---|---|---|---|---|\n",
       "| 1 | T0MEANS | 1 | 1 | T0m_KBF     | NA | 10 * param                             |  TRUE |  1 |\n",
       "| 2 | T0MEANS | 2 | 1 | T0m_VTD     | NA | 10 * param                             |  TRUE |  1 |\n",
       "| 3 | T0MEANS | 3 | 1 | T0m_cintKBF | NA | 10 * param                             |  TRUE |  1 |\n",
       "| 4 | T0MEANS | 4 | 1 | T0m_cintVTD | NA | 10 * param                             |  TRUE |  1 |\n",
       "| 5 | T0MEANS | 5 | 1 | NA          |  0 | NA                                     |  TRUE | NA |\n",
       "| 6 | T0MEANS | 6 | 1 | NA          |  0 | NA                                     |  TRUE | NA |\n",
       "| 7 | LAMBDA  | 1 | 1 | NA          |  1 | NA                                     | FALSE | NA |\n",
       "| 8 | LAMBDA  | 1 | 2 | NA          |  0 | NA                                     | FALSE | NA |\n",
       "| 9 | LAMBDA  | 1 | 3 | NA          |  0 | NA                                     | FALSE | NA |\n",
       "| 10 | LAMBDA  | 1 | 4 | NA          |  0 | NA                                     | FALSE | NA |\n",
       "| 11 | LAMBDA  | 1 | 5 | NA          |  1 | NA                                     | FALSE | NA |\n",
       "| 12 | LAMBDA  | 1 | 6 | NA          |  0 | NA                                     | FALSE | NA |\n",
       "| 13 | LAMBDA  | 2 | 1 | NA          |  0 | NA                                     | FALSE | NA |\n",
       "| 14 | LAMBDA  | 2 | 2 | NA          |  1 | NA                                     | FALSE | NA |\n",
       "| 15 | LAMBDA  | 2 | 3 | NA          |  0 | NA                                     | FALSE | NA |\n",
       "| 16 | LAMBDA  | 2 | 4 | NA          |  0 | NA                                     | FALSE | NA |\n",
       "| 17 | LAMBDA  | 2 | 5 | NA          |  0 | NA                                     | FALSE | NA |\n",
       "| 18 | LAMBDA  | 2 | 6 | NA          |  1 | NA                                     | FALSE | NA |\n",
       "| 19 | DRIFT   | 1 | 1 | drift_KBF   | NA | -(1e-06 + 2 * log1p_exp(-(2 * param))) | FALSE |  1 |\n",
       "| 20 | DRIFT   | 1 | 2 | NA          |  0 | NA                                     | FALSE | NA |\n",
       "| 21 | DRIFT   | 1 | 3 | NA          |  1 | NA                                     | FALSE | NA |\n",
       "| 22 | DRIFT   | 1 | 4 | NA          |  0 | NA                                     | FALSE | NA |\n",
       "| 23 | DRIFT   | 1 | 5 | NA          |  0 | NA                                     | FALSE | NA |\n",
       "| 24 | DRIFT   | 1 | 6 | NA          |  0 | NA                                     | FALSE | NA |\n",
       "| 25 | DRIFT   | 2 | 1 | NA          |  0 | NA                                     | FALSE | NA |\n",
       "| 26 | DRIFT   | 2 | 2 | drift_VTD   | NA | -(1e-06 + 2 * log1p_exp(-(2 * param))) | FALSE |  1 |\n",
       "| 27 | DRIFT   | 2 | 3 | NA          |  0 | NA                                     | FALSE | NA |\n",
       "| 28 | DRIFT   | 2 | 4 | NA          |  1 | NA                                     | FALSE | NA |\n",
       "| 29 | DRIFT   | 2 | 5 | NA          |  0 | NA                                     | FALSE | NA |\n",
       "| 30 | DRIFT   | 2 | 6 | NA          |  0 | NA                                     | FALSE | NA |\n",
       "| ... | ... | ... | ... | ... | ... | ... | ... | ... |\n",
       "| 109 | T0VAR | 2 | 1 | T0var_VTD_KBF         | NA | 2/(1 + exp(-param)) - 1          | FALSE |  1 |\n",
       "| 110 | T0VAR | 2 | 2 | T0var_VTD             | NA | 1e-10 + 5 * log1p_exp(2 * param) | FALSE |  1 |\n",
       "| 111 | T0VAR | 2 | 3 | NA                    |  0 | NA                               | FALSE | NA |\n",
       "| 112 | T0VAR | 2 | 4 | NA                    |  0 | NA                               | FALSE | NA |\n",
       "| 113 | T0VAR | 2 | 5 | NA                    |  0 | NA                               | FALSE | NA |\n",
       "| 114 | T0VAR | 2 | 6 | NA                    |  0 | NA                               | FALSE | NA |\n",
       "| 115 | T0VAR | 3 | 1 | T0var_cintKBF_KBF     | NA | 2/(1 + exp(-param)) - 1          | FALSE |  1 |\n",
       "| 116 | T0VAR | 3 | 2 | T0var_cintKBF_VTD     | NA | 2/(1 + exp(-param)) - 1          | FALSE |  1 |\n",
       "| 117 | T0VAR | 3 | 3 | T0var_cintKBF         | NA | 1e-10 + 5 * log1p_exp(2 * param) | FALSE |  1 |\n",
       "| 118 | T0VAR | 3 | 4 | NA                    |  0 | NA                               | FALSE | NA |\n",
       "| 119 | T0VAR | 3 | 5 | NA                    |  0 | NA                               | FALSE | NA |\n",
       "| 120 | T0VAR | 3 | 6 | NA                    |  0 | NA                               | FALSE | NA |\n",
       "| 121 | T0VAR | 4 | 1 | T0var_cintVTD_KBF     | NA | 2/(1 + exp(-param)) - 1          | FALSE |  1 |\n",
       "| 122 | T0VAR | 4 | 2 | T0var_cintVTD_VTD     | NA | 2/(1 + exp(-param)) - 1          | FALSE |  1 |\n",
       "| 123 | T0VAR | 4 | 3 | T0var_cintVTD_cintKBF | NA | 2/(1 + exp(-param)) - 1          | FALSE |  1 |\n",
       "| 124 | T0VAR | 4 | 4 | T0var_cintVTD         | NA | 1e-10 + 5 * log1p_exp(2 * param) | FALSE |  1 |\n",
       "| 125 | T0VAR | 4 | 5 | NA                    |  0 | NA                               | FALSE | NA |\n",
       "| 126 | T0VAR | 4 | 6 | NA                    |  0 | NA                               | FALSE | NA |\n",
       "| 127 | T0VAR | 5 | 1 | NA                    |  0 | NA                               | FALSE | NA |\n",
       "| 128 | T0VAR | 5 | 2 | NA                    |  0 | NA                               | FALSE | NA |\n",
       "| 129 | T0VAR | 5 | 3 | NA                    |  0 | NA                               | FALSE | NA |\n",
       "| 130 | T0VAR | 5 | 4 | NA                    |  0 | NA                               | FALSE | NA |\n",
       "| 131 | T0VAR | 5 | 5 | NA                    |  0 | NA                               | FALSE | NA |\n",
       "| 132 | T0VAR | 5 | 6 | NA                    |  0 | NA                               | FALSE | NA |\n",
       "| 133 | T0VAR | 6 | 1 | NA                    |  0 | NA                               | FALSE | NA |\n",
       "| 134 | T0VAR | 6 | 2 | NA                    |  0 | NA                               | FALSE | NA |\n",
       "| 135 | T0VAR | 6 | 3 | NA                    |  0 | NA                               | FALSE | NA |\n",
       "| 136 | T0VAR | 6 | 4 | NA                    |  0 | NA                               | FALSE | NA |\n",
       "| 137 | T0VAR | 6 | 5 | NA                    |  0 | NA                               | FALSE | NA |\n",
       "| 138 | T0VAR | 6 | 6 | NA                    |  0 | NA                               | FALSE | NA |\n",
       "\n"
      ],
      "text/plain": [
       "    matrix  row col param                 value\n",
       "1   T0MEANS 1   1   T0m_KBF               NA   \n",
       "2   T0MEANS 2   1   T0m_VTD               NA   \n",
       "3   T0MEANS 3   1   T0m_cintKBF           NA   \n",
       "4   T0MEANS 4   1   T0m_cintVTD           NA   \n",
       "5   T0MEANS 5   1   NA                     0   \n",
       "6   T0MEANS 6   1   NA                     0   \n",
       "7   LAMBDA  1   1   NA                     1   \n",
       "8   LAMBDA  1   2   NA                     0   \n",
       "9   LAMBDA  1   3   NA                     0   \n",
       "10  LAMBDA  1   4   NA                     0   \n",
       "11  LAMBDA  1   5   NA                     1   \n",
       "12  LAMBDA  1   6   NA                     0   \n",
       "13  LAMBDA  2   1   NA                     0   \n",
       "14  LAMBDA  2   2   NA                     1   \n",
       "15  LAMBDA  2   3   NA                     0   \n",
       "16  LAMBDA  2   4   NA                     0   \n",
       "17  LAMBDA  2   5   NA                     0   \n",
       "18  LAMBDA  2   6   NA                     1   \n",
       "19  DRIFT   1   1   drift_KBF             NA   \n",
       "20  DRIFT   1   2   NA                     0   \n",
       "21  DRIFT   1   3   NA                     1   \n",
       "22  DRIFT   1   4   NA                     0   \n",
       "23  DRIFT   1   5   NA                     0   \n",
       "24  DRIFT   1   6   NA                     0   \n",
       "25  DRIFT   2   1   NA                     0   \n",
       "26  DRIFT   2   2   drift_VTD             NA   \n",
       "27  DRIFT   2   3   NA                     0   \n",
       "28  DRIFT   2   4   NA                     1   \n",
       "29  DRIFT   2   5   NA                     0   \n",
       "30  DRIFT   2   6   NA                     0   \n",
       "... ...     ... ... ...                   ...  \n",
       "109 T0VAR   2   1   T0var_VTD_KBF         NA   \n",
       "110 T0VAR   2   2   T0var_VTD             NA   \n",
       "111 T0VAR   2   3   NA                     0   \n",
       "112 T0VAR   2   4   NA                     0   \n",
       "113 T0VAR   2   5   NA                     0   \n",
       "114 T0VAR   2   6   NA                     0   \n",
       "115 T0VAR   3   1   T0var_cintKBF_KBF     NA   \n",
       "116 T0VAR   3   2   T0var_cintKBF_VTD     NA   \n",
       "117 T0VAR   3   3   T0var_cintKBF         NA   \n",
       "118 T0VAR   3   4   NA                     0   \n",
       "119 T0VAR   3   5   NA                     0   \n",
       "120 T0VAR   3   6   NA                     0   \n",
       "121 T0VAR   4   1   T0var_cintVTD_KBF     NA   \n",
       "122 T0VAR   4   2   T0var_cintVTD_VTD     NA   \n",
       "123 T0VAR   4   3   T0var_cintVTD_cintKBF NA   \n",
       "124 T0VAR   4   4   T0var_cintVTD         NA   \n",
       "125 T0VAR   4   5   NA                     0   \n",
       "126 T0VAR   4   6   NA                     0   \n",
       "127 T0VAR   5   1   NA                     0   \n",
       "128 T0VAR   5   2   NA                     0   \n",
       "129 T0VAR   5   3   NA                     0   \n",
       "130 T0VAR   5   4   NA                     0   \n",
       "131 T0VAR   5   5   NA                     0   \n",
       "132 T0VAR   5   6   NA                     0   \n",
       "133 T0VAR   6   1   NA                     0   \n",
       "134 T0VAR   6   2   NA                     0   \n",
       "135 T0VAR   6   3   NA                     0   \n",
       "136 T0VAR   6   4   NA                     0   \n",
       "137 T0VAR   6   5   NA                     0   \n",
       "138 T0VAR   6   6   NA                     0   \n",
       "    transform                              indvarying sdscale\n",
       "1   10 * param                              TRUE       1     \n",
       "2   10 * param                              TRUE       1     \n",
       "3   10 * param                              TRUE       1     \n",
       "4   10 * param                              TRUE       1     \n",
       "5   NA                                      TRUE      NA     \n",
       "6   NA                                      TRUE      NA     \n",
       "7   NA                                     FALSE      NA     \n",
       "8   NA                                     FALSE      NA     \n",
       "9   NA                                     FALSE      NA     \n",
       "10  NA                                     FALSE      NA     \n",
       "11  NA                                     FALSE      NA     \n",
       "12  NA                                     FALSE      NA     \n",
       "13  NA                                     FALSE      NA     \n",
       "14  NA                                     FALSE      NA     \n",
       "15  NA                                     FALSE      NA     \n",
       "16  NA                                     FALSE      NA     \n",
       "17  NA                                     FALSE      NA     \n",
       "18  NA                                     FALSE      NA     \n",
       "19  -(1e-06 + 2 * log1p_exp(-(2 * param))) FALSE       1     \n",
       "20  NA                                     FALSE      NA     \n",
       "21  NA                                     FALSE      NA     \n",
       "22  NA                                     FALSE      NA     \n",
       "23  NA                                     FALSE      NA     \n",
       "24  NA                                     FALSE      NA     \n",
       "25  NA                                     FALSE      NA     \n",
       "26  -(1e-06 + 2 * log1p_exp(-(2 * param))) FALSE       1     \n",
       "27  NA                                     FALSE      NA     \n",
       "28  NA                                     FALSE      NA     \n",
       "29  NA                                     FALSE      NA     \n",
       "30  NA                                     FALSE      NA     \n",
       "... ...                                    ...        ...    \n",
       "109 2/(1 + exp(-param)) - 1                FALSE       1     \n",
       "110 1e-10 + 5 * log1p_exp(2 * param)       FALSE       1     \n",
       "111 NA                                     FALSE      NA     \n",
       "112 NA                                     FALSE      NA     \n",
       "113 NA                                     FALSE      NA     \n",
       "114 NA                                     FALSE      NA     \n",
       "115 2/(1 + exp(-param)) - 1                FALSE       1     \n",
       "116 2/(1 + exp(-param)) - 1                FALSE       1     \n",
       "117 1e-10 + 5 * log1p_exp(2 * param)       FALSE       1     \n",
       "118 NA                                     FALSE      NA     \n",
       "119 NA                                     FALSE      NA     \n",
       "120 NA                                     FALSE      NA     \n",
       "121 2/(1 + exp(-param)) - 1                FALSE       1     \n",
       "122 2/(1 + exp(-param)) - 1                FALSE       1     \n",
       "123 2/(1 + exp(-param)) - 1                FALSE       1     \n",
       "124 1e-10 + 5 * log1p_exp(2 * param)       FALSE       1     \n",
       "125 NA                                     FALSE      NA     \n",
       "126 NA                                     FALSE      NA     \n",
       "127 NA                                     FALSE      NA     \n",
       "128 NA                                     FALSE      NA     \n",
       "129 NA                                     FALSE      NA     \n",
       "130 NA                                     FALSE      NA     \n",
       "131 NA                                     FALSE      NA     \n",
       "132 NA                                     FALSE      NA     \n",
       "133 NA                                     FALSE      NA     \n",
       "134 NA                                     FALSE      NA     \n",
       "135 NA                                     FALSE      NA     \n",
       "136 NA                                     FALSE      NA     \n",
       "137 NA                                     FALSE      NA     \n",
       "138 NA                                     FALSE      NA     "
      ]
     },
     "metadata": {},
     "output_type": "display_data"
    }
   ],
   "source": [
    "#initialize the model with two latent each with one manifest variable\n",
    "#LAMBDA: n.manifest*n.latent loading matrix relating latent to manifest variables, with latent process 1:n.latent along the \n",
    "#columns, and manifest variables 1:n.manifest in the rows.\n",
    "#DIFFUSION: lower triangular n.latent*n.latent cholesky matrix of diffusion process variance and covariance (latent error / \n",
    "#dynamic innovation). \"auto\" freely estimates all parameters.\n",
    "#stanct’ for continuous time or ’standt’ for discrete time\n",
    "model_fit = ctModel(type='stanct', n.manifest=2, n.latent=6, id=\"id\", time=\"time\",\n",
    "                    manifestNames=c('Y1','Y2'), latentNames=c('KBF','VTD','cintKBF','cintVTD','dynKBF','dynVTD'), \n",
    "                    T0MEANS=Mt0means, #initial state of dynamical process set to 0\n",
    "                    T0VAR=Mt0var,\n",
    "                    CINT = MCINT,\n",
    "                    MANIFESTMEANS=matrix(c(0,0),ncol=1),\n",
    "                    #n.TIpred = 1, TIpredNames=c('Is_exp3'),\n",
    "                    LAMBDA=matrix(c(1,0, \n",
    "                                    0,1,\n",
    "                                    0,0,\n",
    "                                    0,0,\n",
    "                                    1,0,\n",
    "                                    0,1), ncol=6),  \n",
    "                    DRIFT=Mdrift,\n",
    "                    #tipredDefault=FALSE,\n",
    "                    DIFFUSION=Mdiffu) \n",
    "\n",
    "#we let ind. var in trend\n",
    "model_fit$pars$indvarying[model_fit$pars$matrix %in% c('T0MEANS','CINT')] = TRUE\n",
    "#https://discourse.mc-stan.org/t/r-package-ctsem-hierarchical-continuous-time-dynamic-models/117/14\n",
    "#as we want some parameter in the system to vary by subject, we set very tight priors, as some individuals have only 3 timetamps\n",
    "#model_fit$pars$sdscale[model_fit$pars$matrix %in% c('DRIFT')] = 0.05 #only for more complex like drit and manifestvar\n",
    "#check model parameters\n",
    "\n",
    "#model_fit$pars$time2event_effect[model_fit$pars$matrix %in% c('DRIFT')] = TRUE\n",
    "#group can vary in trend\n",
    "#model_fit$pars$Is_exp3_effect[model_fit$pars$matrix %in% c('T0MEANS','CINT')] = TRUE #FUCK\n",
    "\n",
    "#model_fit$pars$Is_exp3_effect[model_fit$pars$matrix %in% c('CINT')] = TRUE #FUCK\n",
    "#model_fit$pars$Is_exp3_effect[(model_fit$pars$matrix %in% c('T0MEANS'))&(model_fit$pars$value==0)] = FALSE\n",
    "#model_fit$pars$Is_exp3_effect[(model_fit$pars$matrix %in% c('T0MEANS'))&(model_fit$pars$param %in% c('T0m_cintKBF','T0m_cintVTD'))] = TRUE\n",
    "\n",
    "#model_fit$pars$Is_exp2_effect[model_fit$pars$matrix %in% c('T0MEANS','CINT')] = TRUE\n",
    "#model_fit$pars$IsOFH_effect[model_fit$pars$matrix %in% c('T0MEANS','CINT')] = TRUE\n",
    "model_fit$pars"
   ]
  },
  {
   "cell_type": "code",
   "execution_count": 32,
   "id": "9a7bfdd1",
   "metadata": {},
   "outputs": [
    {
     "data": {
      "text/plain": [
       "NULL"
      ]
     },
     "metadata": {},
     "output_type": "display_data"
    }
   ],
   "source": [
    "model_fit$pars$Is_exp3_effect[model_fit$pars$matrix %in% c('T0MEANS','CINT')]"
   ]
  },
  {
   "cell_type": "code",
   "execution_count": 33,
   "id": "93388c45",
   "metadata": {},
   "outputs": [
    {
     "data": {
      "text/html": [
       "<style>\n",
       ".list-inline {list-style: none; margin:0; padding: 0}\n",
       ".list-inline>li {display: inline-block}\n",
       ".list-inline>li:not(:last-child)::after {content: \"\\00b7\"; padding: 0 .5ex}\n",
       "</style>\n",
       "<ol class=list-inline><li>'T0MEANS'</li><li>'LAMBDA'</li><li>'DRIFT'</li><li>'DIFFUSION'</li><li>'MANIFESTVAR'</li><li>'MANIFESTMEANS'</li><li>'CINT'</li><li>'T0VAR'</li></ol>\n"
      ],
      "text/latex": [
       "\\begin{enumerate*}\n",
       "\\item 'T0MEANS'\n",
       "\\item 'LAMBDA'\n",
       "\\item 'DRIFT'\n",
       "\\item 'DIFFUSION'\n",
       "\\item 'MANIFESTVAR'\n",
       "\\item 'MANIFESTMEANS'\n",
       "\\item 'CINT'\n",
       "\\item 'T0VAR'\n",
       "\\end{enumerate*}\n"
      ],
      "text/markdown": [
       "1. 'T0MEANS'\n",
       "2. 'LAMBDA'\n",
       "3. 'DRIFT'\n",
       "4. 'DIFFUSION'\n",
       "5. 'MANIFESTVAR'\n",
       "6. 'MANIFESTMEANS'\n",
       "7. 'CINT'\n",
       "8. 'T0VAR'\n",
       "\n",
       "\n"
      ],
      "text/plain": [
       "[1] \"T0MEANS\"       \"LAMBDA\"        \"DRIFT\"         \"DIFFUSION\"    \n",
       "[5] \"MANIFESTVAR\"   \"MANIFESTMEANS\" \"CINT\"          \"T0VAR\"        "
      ]
     },
     "metadata": {},
     "output_type": "display_data"
    }
   ],
   "source": [
    "unique(model_fit$pars$matrix)"
   ]
  },
  {
   "cell_type": "code",
   "execution_count": null,
   "id": "415e2608",
   "metadata": {
    "scrolled": true
   },
   "outputs": [
    {
     "name": "stderr",
     "output_type": "stream",
     "text": [
      "Maximum a posteriori estimation requested\n",
      "\n",
      "Setting DRIFT diagonals of 0 to approximate 0 of -1e-06\n",
      "\n",
      "Free T0VAR parameters as well as indvarying T0MEANS -- fixing T0VAR pars to diag matrix of 1e-3\n",
      "\n",
      "Using 5/12 logical CPU cores\n",
      "\n",
      "Doing 1st pass optimize...\n",
      "\n"
     ]
    }
   ],
   "source": [
    "set.seed(0)\n",
    "#fit the model and save all results provided by the folder\n",
    "#documentation: https://rdrr.io/cran/ctsem/man/ctStanFit.html : \n",
    "## iter number of iterations, half of which will be devoted to warmup by default when sampling. When optimizing, this is the \n",
    "\n",
    "## maximum number of iterations to allow – convergence hopefully occurs before this (default: 1000)\n",
    "#intoverstates: logical indicating whether or not to integrate over latent states using a Kalman filter. Generally recommended \n",
    "#to set TRUE unless using non-gaussian measurement model. KBF is not gaussion but when set to FALSE it does not work (\"NA gradient encountered at param 282\" etc)\n",
    "\n",
    "## optimize: if TRUE, use stanoptimis function for maximum a posteriori / importance sampling estimates, otherwise use the HMC \n",
    "#sampler from Stan, which is (much) slower, but generally more robust, accurate, and informative. default: TRUE\n",
    "\n",
    "## stationary: Logical. If TRUE, T0VAR and T0MEANS input matrices are ignored, the parameters are instead fixed to long run \n",
    "#expectations. More control over this can be achieved by instead setting parameter names of T0MEANS and T0VAR matrices in the \n",
    "#input model to 'stationary', for elements that should be fixed to stationarity.\n",
    "#nl = 6 #number of latent processes\n",
    "#derrind = (nl*2+1):(nl*3) #dynamic error indices -- speeds computation: from ctsem paper\n",
    "## nopriors: If TRUE, any priors are disabled (i.e. Si VRAI, tous les priors sont désactivés)\n",
    "fit_mvtha = ctStanFit(datalong=data_mvtha, ctstanmodel=model_fit, verbose=0, cores=cores_, nopriors=FALSE, #maybe TRUE when optimize ML\n",
    "                      iter=iter_, chains=chains_, optimize=bool_optimize)#, derrind) #nlcontrol=list(maxtimestep=10)\n",
    "#Individual variation in T0VAR parameters not possible: as we have no variation at T0\n",
    "ctsem:::ctSummarise(fit_mvtha, folder=file.path(path_save_,name), cores=cores_, ctStanPlotPost=F, nsamples=1000)\n",
    "#\"diag(.) had 0 or NA entries; non-finite result is doubtful\": TODO: var in diffusiocov are set to 0... so maybe its normal?"
   ]
  },
  {
   "cell_type": "code",
   "execution_count": null,
   "id": "af628b47",
   "metadata": {},
   "outputs": [],
   "source": []
  },
  {
   "cell_type": "code",
   "execution_count": null,
   "id": "bc4905cf",
   "metadata": {},
   "outputs": [],
   "source": []
  },
  {
   "cell_type": "code",
   "execution_count": 31,
   "id": "cf558459",
   "metadata": {
    "scrolled": true
   },
   "outputs": [
    {
     "data": {
      "text/html": [
       "<dl>\n",
       "\t<dt>$residCovStd</dt>\n",
       "\t\t<dd><table class=\"dataframe\">\n",
       "<caption>A data.frame: 2 × 2</caption>\n",
       "<thead>\n",
       "\t<tr><th></th><th scope=col>Y1</th><th scope=col>Y2</th></tr>\n",
       "\t<tr><th></th><th scope=col>&lt;dbl&gt;</th><th scope=col>&lt;dbl&gt;</th></tr>\n",
       "</thead>\n",
       "<tbody>\n",
       "\t<tr><th scope=row>Y1</th><td> 0.259</td><td>-0.022</td></tr>\n",
       "\t<tr><th scope=row>Y2</th><td>-0.022</td><td> 0.526</td></tr>\n",
       "</tbody>\n",
       "</table>\n",
       "</dd>\n",
       "\t<dt>$resiCovStdNote</dt>\n",
       "\t\t<dd>'Standardised covariance of residuals'</dd>\n",
       "\t<dt>$rawpopcorr</dt>\n",
       "\t\t<dd><table class=\"dataframe\">\n",
       "<caption>A data.frame: 6 × 6</caption>\n",
       "<thead>\n",
       "\t<tr><th></th><th scope=col>mean</th><th scope=col>sd</th><th scope=col>2.5%</th><th scope=col>50%</th><th scope=col>97.5%</th><th scope=col>z</th></tr>\n",
       "\t<tr><th></th><th scope=col>&lt;dbl&gt;</th><th scope=col>&lt;dbl&gt;</th><th scope=col>&lt;dbl&gt;</th><th scope=col>&lt;dbl&gt;</th><th scope=col>&lt;dbl&gt;</th><th scope=col>&lt;dbl&gt;</th></tr>\n",
       "</thead>\n",
       "<tbody>\n",
       "\t<tr><th scope=row>T0m_VTD__T0m_KBF</th><td> 0.0617</td><td>0.1552</td><td>-0.2472</td><td> 0.0624</td><td>0.3761</td><td> 0.3975</td></tr>\n",
       "\t<tr><th scope=row>T0m_cintKBF__T0m_KBF</th><td> 0.3001</td><td>0.1786</td><td>-0.0600</td><td> 0.3152</td><td>0.6250</td><td> 1.6805</td></tr>\n",
       "\t<tr><th scope=row>T0m_cintVTD__T0m_KBF</th><td>-0.1273</td><td>0.1503</td><td>-0.4067</td><td>-0.1299</td><td>0.1815</td><td>-0.8475</td></tr>\n",
       "\t<tr><th scope=row>T0m_cintKBF__T0m_VTD</th><td> 0.0728</td><td>0.0942</td><td>-0.1163</td><td> 0.0736</td><td>0.2551</td><td> 0.7721</td></tr>\n",
       "\t<tr><th scope=row>T0m_cintVTD__T0m_VTD</th><td> 0.3022</td><td>0.0986</td><td> 0.0951</td><td> 0.3057</td><td>0.4848</td><td> 3.0656</td></tr>\n",
       "\t<tr><th scope=row>T0m_cintVTD__T0m_cintKBF</th><td>-0.2024</td><td>0.1009</td><td>-0.3844</td><td>-0.2047</td><td>0.0039</td><td>-2.0059</td></tr>\n",
       "</tbody>\n",
       "</table>\n",
       "</dd>\n",
       "\t<dt>$tipreds</dt>\n",
       "\t\t<dd><table class=\"dataframe\">\n",
       "<caption>A data.frame: 12 × 6</caption>\n",
       "<thead>\n",
       "\t<tr><th></th><th scope=col>mean</th><th scope=col>sd</th><th scope=col>2.5%</th><th scope=col>50%</th><th scope=col>97.5%</th><th scope=col>z</th></tr>\n",
       "\t<tr><th></th><th scope=col>&lt;dbl&gt;</th><th scope=col>&lt;dbl&gt;</th><th scope=col>&lt;dbl&gt;</th><th scope=col>&lt;dbl&gt;</th><th scope=col>&lt;dbl&gt;</th><th scope=col>&lt;dbl&gt;</th></tr>\n",
       "</thead>\n",
       "<tbody>\n",
       "\t<tr><th scope=row>tip_Is_exp3_T0m_KBF</th><td>-0.1491</td><td>0.0927</td><td>-0.3358</td><td>-0.1473</td><td> 0.0291</td><td>-1.6088</td></tr>\n",
       "\t<tr><th scope=row>tip_Is_exp3_T0m_VTD</th><td> 0.6516</td><td>0.2496</td><td> 0.1577</td><td> 0.6539</td><td> 1.1462</td><td> 2.6109</td></tr>\n",
       "\t<tr><th scope=row>tip_Is_exp3_T0m_cintKBF</th><td> 0.3638</td><td>0.0327</td><td> 0.3020</td><td> 0.3637</td><td> 0.4239</td><td>11.1399</td></tr>\n",
       "\t<tr><th scope=row>tip_Is_exp3_T0m_cintVTD</th><td>-0.5259</td><td>0.1389</td><td>-0.7859</td><td>-0.5222</td><td>-0.2555</td><td>-3.7851</td></tr>\n",
       "\t<tr><th scope=row>tip_Is_exp2_T0m_KBF</th><td>-0.0309</td><td>0.0907</td><td>-0.2206</td><td>-0.0288</td><td> 0.1420</td><td>-0.3408</td></tr>\n",
       "\t<tr><th scope=row>tip_Is_exp2_T0m_VTD</th><td> 0.7906</td><td>0.2435</td><td> 0.2941</td><td> 0.7918</td><td> 1.2911</td><td> 3.2466</td></tr>\n",
       "\t<tr><th scope=row>tip_Is_exp2_T0m_cintKBF</th><td>-0.1549</td><td>0.0263</td><td>-0.2071</td><td>-0.1542</td><td>-0.1068</td><td>-5.9010</td></tr>\n",
       "\t<tr><th scope=row>tip_Is_exp2_T0m_cintVTD</th><td>-0.1385</td><td>0.0957</td><td>-0.3180</td><td>-0.1383</td><td> 0.0533</td><td>-1.4473</td></tr>\n",
       "\t<tr><th scope=row>tip_IsOFH_T0m_KBF</th><td> 0.0052</td><td>0.0963</td><td>-0.1806</td><td> 0.0010</td><td> 0.1972</td><td> 0.0540</td></tr>\n",
       "\t<tr><th scope=row>tip_IsOFH_T0m_VTD</th><td>-0.5418</td><td>0.2526</td><td>-1.0082</td><td>-0.5450</td><td>-0.0100</td><td>-2.1453</td></tr>\n",
       "\t<tr><th scope=row>tip_IsOFH_T0m_cintKBF</th><td> 0.0629</td><td>0.0283</td><td> 0.0053</td><td> 0.0633</td><td> 0.1164</td><td> 2.2247</td></tr>\n",
       "\t<tr><th scope=row>tip_IsOFH_T0m_cintVTD</th><td>-0.1272</td><td>0.1152</td><td>-0.3508</td><td>-0.1291</td><td> 0.0953</td><td>-1.1036</td></tr>\n",
       "</tbody>\n",
       "</table>\n",
       "</dd>\n",
       "\t<dt>$parmatrices</dt>\n",
       "\t\t<dd><table class=\"dataframe\">\n",
       "<caption>A data.frame: 216 × 8</caption>\n",
       "<thead>\n",
       "\t<tr><th></th><th scope=col>matrix</th><th scope=col>row</th><th scope=col>col</th><th scope=col>Mean</th><th scope=col>sd</th><th scope=col>2.5%</th><th scope=col>50%</th><th scope=col>97.5%</th></tr>\n",
       "\t<tr><th></th><th scope=col>&lt;chr&gt;</th><th scope=col>&lt;int&gt;</th><th scope=col>&lt;int&gt;</th><th scope=col>&lt;dbl&gt;</th><th scope=col>&lt;dbl&gt;</th><th scope=col>&lt;dbl&gt;</th><th scope=col>&lt;dbl&gt;</th><th scope=col>&lt;dbl&gt;</th></tr>\n",
       "</thead>\n",
       "<tbody>\n",
       "\t<tr><th scope=row>1</th><td>T0MEANS</td><td>1</td><td>1</td><td>-0.9123</td><td>0.0761</td><td>-1.0583</td><td>-0.9109</td><td>-0.7582</td></tr>\n",
       "\t<tr><th scope=row>2</th><td>T0MEANS</td><td>2</td><td>1</td><td>-0.3285</td><td>0.2011</td><td>-0.7374</td><td>-0.3181</td><td> 0.0536</td></tr>\n",
       "\t<tr><th scope=row>3</th><td>T0MEANS</td><td>3</td><td>1</td><td> 0.1182</td><td>0.0209</td><td> 0.0774</td><td> 0.1187</td><td> 0.1576</td></tr>\n",
       "\t<tr><th scope=row>4</th><td>T0MEANS</td><td>4</td><td>1</td><td> 0.2035</td><td>0.0860</td><td> 0.0312</td><td> 0.2067</td><td> 0.3678</td></tr>\n",
       "\t<tr><th scope=row>5</th><td>T0MEANS</td><td>5</td><td>1</td><td> 0.0000</td><td>0.0000</td><td> 0.0000</td><td> 0.0000</td><td> 0.0000</td></tr>\n",
       "\t<tr><th scope=row>6</th><td>T0MEANS</td><td>6</td><td>1</td><td> 0.0000</td><td>0.0000</td><td> 0.0000</td><td> 0.0000</td><td> 0.0000</td></tr>\n",
       "\t<tr><th scope=row>7</th><td>LAMBDA </td><td>1</td><td>1</td><td> 1.0000</td><td>0.0000</td><td> 1.0000</td><td> 1.0000</td><td> 1.0000</td></tr>\n",
       "\t<tr><th scope=row>8</th><td>LAMBDA </td><td>1</td><td>2</td><td> 0.0000</td><td>0.0000</td><td> 0.0000</td><td> 0.0000</td><td> 0.0000</td></tr>\n",
       "\t<tr><th scope=row>9</th><td>LAMBDA </td><td>1</td><td>3</td><td> 0.0000</td><td>0.0000</td><td> 0.0000</td><td> 0.0000</td><td> 0.0000</td></tr>\n",
       "\t<tr><th scope=row>10</th><td>LAMBDA </td><td>1</td><td>4</td><td> 0.0000</td><td>0.0000</td><td> 0.0000</td><td> 0.0000</td><td> 0.0000</td></tr>\n",
       "\t<tr><th scope=row>11</th><td>LAMBDA </td><td>1</td><td>5</td><td> 1.0000</td><td>0.0000</td><td> 1.0000</td><td> 1.0000</td><td> 1.0000</td></tr>\n",
       "\t<tr><th scope=row>12</th><td>LAMBDA </td><td>1</td><td>6</td><td> 0.0000</td><td>0.0000</td><td> 0.0000</td><td> 0.0000</td><td> 0.0000</td></tr>\n",
       "\t<tr><th scope=row>13</th><td>LAMBDA </td><td>2</td><td>1</td><td> 0.0000</td><td>0.0000</td><td> 0.0000</td><td> 0.0000</td><td> 0.0000</td></tr>\n",
       "\t<tr><th scope=row>14</th><td>LAMBDA </td><td>2</td><td>2</td><td> 1.0000</td><td>0.0000</td><td> 1.0000</td><td> 1.0000</td><td> 1.0000</td></tr>\n",
       "\t<tr><th scope=row>15</th><td>LAMBDA </td><td>2</td><td>3</td><td> 0.0000</td><td>0.0000</td><td> 0.0000</td><td> 0.0000</td><td> 0.0000</td></tr>\n",
       "\t<tr><th scope=row>16</th><td>LAMBDA </td><td>2</td><td>4</td><td> 0.0000</td><td>0.0000</td><td> 0.0000</td><td> 0.0000</td><td> 0.0000</td></tr>\n",
       "\t<tr><th scope=row>17</th><td>LAMBDA </td><td>2</td><td>5</td><td> 0.0000</td><td>0.0000</td><td> 0.0000</td><td> 0.0000</td><td> 0.0000</td></tr>\n",
       "\t<tr><th scope=row>18</th><td>LAMBDA </td><td>2</td><td>6</td><td> 1.0000</td><td>0.0000</td><td> 1.0000</td><td> 1.0000</td><td> 1.0000</td></tr>\n",
       "\t<tr><th scope=row>19</th><td>DRIFT  </td><td>1</td><td>1</td><td>-0.2175</td><td>0.0201</td><td>-0.2610</td><td>-0.2160</td><td>-0.1812</td></tr>\n",
       "\t<tr><th scope=row>20</th><td>DRIFT  </td><td>1</td><td>2</td><td> 0.0000</td><td>0.0000</td><td> 0.0000</td><td> 0.0000</td><td> 0.0000</td></tr>\n",
       "\t<tr><th scope=row>21</th><td>DRIFT  </td><td>1</td><td>3</td><td> 1.0000</td><td>0.0000</td><td> 1.0000</td><td> 1.0000</td><td> 1.0000</td></tr>\n",
       "\t<tr><th scope=row>22</th><td>DRIFT  </td><td>1</td><td>4</td><td> 0.0000</td><td>0.0000</td><td> 0.0000</td><td> 0.0000</td><td> 0.0000</td></tr>\n",
       "\t<tr><th scope=row>23</th><td>DRIFT  </td><td>1</td><td>5</td><td> 0.0000</td><td>0.0000</td><td> 0.0000</td><td> 0.0000</td><td> 0.0000</td></tr>\n",
       "\t<tr><th scope=row>24</th><td>DRIFT  </td><td>1</td><td>6</td><td> 0.0000</td><td>0.0000</td><td> 0.0000</td><td> 0.0000</td><td> 0.0000</td></tr>\n",
       "\t<tr><th scope=row>25</th><td>DRIFT  </td><td>2</td><td>1</td><td> 0.0000</td><td>0.0000</td><td> 0.0000</td><td> 0.0000</td><td> 0.0000</td></tr>\n",
       "\t<tr><th scope=row>26</th><td>DRIFT  </td><td>2</td><td>2</td><td>-0.8177</td><td>0.1449</td><td>-1.1336</td><td>-0.8039</td><td>-0.5667</td></tr>\n",
       "\t<tr><th scope=row>27</th><td>DRIFT  </td><td>2</td><td>3</td><td> 0.0000</td><td>0.0000</td><td> 0.0000</td><td> 0.0000</td><td> 0.0000</td></tr>\n",
       "\t<tr><th scope=row>28</th><td>DRIFT  </td><td>2</td><td>4</td><td> 1.0000</td><td>0.0000</td><td> 1.0000</td><td> 1.0000</td><td> 1.0000</td></tr>\n",
       "\t<tr><th scope=row>29</th><td>DRIFT  </td><td>2</td><td>5</td><td> 0.0000</td><td>0.0000</td><td> 0.0000</td><td> 0.0000</td><td> 0.0000</td></tr>\n",
       "\t<tr><th scope=row>30</th><td>DRIFT  </td><td>2</td><td>6</td><td> 0.0000</td><td>0.0000</td><td> 0.0000</td><td> 0.0000</td><td> 0.0000</td></tr>\n",
       "\t<tr><th scope=row>...</th><td>...</td><td>...</td><td>...</td><td>...</td><td>...</td><td>...</td><td>...</td><td>...</td></tr>\n",
       "\t<tr><th scope=row>259</th><td>dtDRIFT</td><td>2</td><td>1</td><td> 0.0000</td><td>0.0000</td><td> 0.0000</td><td> 0.0000</td><td>0.0000</td></tr>\n",
       "\t<tr><th scope=row>260</th><td>dtDRIFT</td><td>2</td><td>2</td><td> 0.4460</td><td>0.0627</td><td> 0.3219</td><td> 0.4476</td><td>0.5674</td></tr>\n",
       "\t<tr><th scope=row>261</th><td>dtDRIFT</td><td>2</td><td>3</td><td> 0.0000</td><td>0.0000</td><td> 0.0000</td><td> 0.0000</td><td>0.0000</td></tr>\n",
       "\t<tr><th scope=row>262</th><td>dtDRIFT</td><td>2</td><td>4</td><td> 0.6850</td><td>0.0421</td><td> 0.5982</td><td> 0.6872</td><td>0.7634</td></tr>\n",
       "\t<tr><th scope=row>263</th><td>dtDRIFT</td><td>2</td><td>5</td><td> 0.0000</td><td>0.0000</td><td> 0.0000</td><td> 0.0000</td><td>0.0000</td></tr>\n",
       "\t<tr><th scope=row>264</th><td>dtDRIFT</td><td>2</td><td>6</td><td> 0.0000</td><td>0.0000</td><td> 0.0000</td><td> 0.0000</td><td>0.0000</td></tr>\n",
       "\t<tr><th scope=row>265</th><td>dtDRIFT</td><td>3</td><td>1</td><td> 0.0000</td><td>0.0000</td><td> 0.0000</td><td> 0.0000</td><td>0.0000</td></tr>\n",
       "\t<tr><th scope=row>266</th><td>dtDRIFT</td><td>3</td><td>2</td><td> 0.0000</td><td>0.0000</td><td> 0.0000</td><td> 0.0000</td><td>0.0000</td></tr>\n",
       "\t<tr><th scope=row>267</th><td>dtDRIFT</td><td>3</td><td>3</td><td> 1.0000</td><td>0.0000</td><td> 1.0000</td><td> 1.0000</td><td>1.0000</td></tr>\n",
       "\t<tr><th scope=row>268</th><td>dtDRIFT</td><td>3</td><td>4</td><td> 0.0000</td><td>0.0000</td><td> 0.0000</td><td> 0.0000</td><td>0.0000</td></tr>\n",
       "\t<tr><th scope=row>269</th><td>dtDRIFT</td><td>3</td><td>5</td><td> 0.0000</td><td>0.0000</td><td> 0.0000</td><td> 0.0000</td><td>0.0000</td></tr>\n",
       "\t<tr><th scope=row>270</th><td>dtDRIFT</td><td>3</td><td>6</td><td> 0.0000</td><td>0.0000</td><td> 0.0000</td><td> 0.0000</td><td>0.0000</td></tr>\n",
       "\t<tr><th scope=row>271</th><td>dtDRIFT</td><td>4</td><td>1</td><td> 0.0000</td><td>0.0000</td><td> 0.0000</td><td> 0.0000</td><td>0.0000</td></tr>\n",
       "\t<tr><th scope=row>272</th><td>dtDRIFT</td><td>4</td><td>2</td><td> 0.0000</td><td>0.0000</td><td> 0.0000</td><td> 0.0000</td><td>0.0000</td></tr>\n",
       "\t<tr><th scope=row>273</th><td>dtDRIFT</td><td>4</td><td>3</td><td> 0.0000</td><td>0.0000</td><td> 0.0000</td><td> 0.0000</td><td>0.0000</td></tr>\n",
       "\t<tr><th scope=row>274</th><td>dtDRIFT</td><td>4</td><td>4</td><td> 1.0000</td><td>0.0000</td><td> 1.0000</td><td> 1.0000</td><td>1.0000</td></tr>\n",
       "\t<tr><th scope=row>275</th><td>dtDRIFT</td><td>4</td><td>5</td><td> 0.0000</td><td>0.0000</td><td> 0.0000</td><td> 0.0000</td><td>0.0000</td></tr>\n",
       "\t<tr><th scope=row>276</th><td>dtDRIFT</td><td>4</td><td>6</td><td> 0.0000</td><td>0.0000</td><td> 0.0000</td><td> 0.0000</td><td>0.0000</td></tr>\n",
       "\t<tr><th scope=row>277</th><td>dtDRIFT</td><td>5</td><td>1</td><td> 0.0000</td><td>0.0000</td><td> 0.0000</td><td> 0.0000</td><td>0.0000</td></tr>\n",
       "\t<tr><th scope=row>278</th><td>dtDRIFT</td><td>5</td><td>2</td><td> 0.0000</td><td>0.0000</td><td> 0.0000</td><td> 0.0000</td><td>0.0000</td></tr>\n",
       "\t<tr><th scope=row>279</th><td>dtDRIFT</td><td>5</td><td>3</td><td> 0.0000</td><td>0.0000</td><td> 0.0000</td><td> 0.0000</td><td>0.0000</td></tr>\n",
       "\t<tr><th scope=row>280</th><td>dtDRIFT</td><td>5</td><td>4</td><td> 0.0000</td><td>0.0000</td><td> 0.0000</td><td> 0.0000</td><td>0.0000</td></tr>\n",
       "\t<tr><th scope=row>281</th><td>dtDRIFT</td><td>5</td><td>5</td><td> 0.5735</td><td>0.0802</td><td> 0.4081</td><td> 0.5768</td><td>0.7176</td></tr>\n",
       "\t<tr><th scope=row>282</th><td>dtDRIFT</td><td>5</td><td>6</td><td> 0.0033</td><td>0.0382</td><td>-0.0681</td><td> 0.0013</td><td>0.0808</td></tr>\n",
       "\t<tr><th scope=row>283</th><td>dtDRIFT</td><td>6</td><td>1</td><td> 0.0000</td><td>0.0000</td><td> 0.0000</td><td> 0.0000</td><td>0.0000</td></tr>\n",
       "\t<tr><th scope=row>284</th><td>dtDRIFT</td><td>6</td><td>2</td><td> 0.0000</td><td>0.0000</td><td> 0.0000</td><td> 0.0000</td><td>0.0000</td></tr>\n",
       "\t<tr><th scope=row>285</th><td>dtDRIFT</td><td>6</td><td>3</td><td> 0.0000</td><td>0.0000</td><td> 0.0000</td><td> 0.0000</td><td>0.0000</td></tr>\n",
       "\t<tr><th scope=row>286</th><td>dtDRIFT</td><td>6</td><td>4</td><td> 0.0000</td><td>0.0000</td><td> 0.0000</td><td> 0.0000</td><td>0.0000</td></tr>\n",
       "\t<tr><th scope=row>287</th><td>dtDRIFT</td><td>6</td><td>5</td><td>-0.1120</td><td>0.0600</td><td>-0.2289</td><td>-0.1115</td><td>0.0060</td></tr>\n",
       "\t<tr><th scope=row>288</th><td>dtDRIFT</td><td>6</td><td>6</td><td> 0.7127</td><td>0.0528</td><td> 0.6035</td><td> 0.7176</td><td>0.8080</td></tr>\n",
       "</tbody>\n",
       "</table>\n",
       "</dd>\n",
       "\t<dt>$popsd</dt>\n",
       "\t\t<dd><table class=\"dataframe\">\n",
       "<caption>A data.frame: 4 × 5</caption>\n",
       "<thead>\n",
       "\t<tr><th></th><th scope=col>mean</th><th scope=col>sd</th><th scope=col>2.5%</th><th scope=col>50%</th><th scope=col>97.5%</th></tr>\n",
       "\t<tr><th></th><th scope=col>&lt;dbl&gt;</th><th scope=col>&lt;dbl&gt;</th><th scope=col>&lt;dbl&gt;</th><th scope=col>&lt;dbl&gt;</th><th scope=col>&lt;dbl&gt;</th></tr>\n",
       "</thead>\n",
       "<tbody>\n",
       "\t<tr><th scope=row>T0m_KBF</th><td>0.2075</td><td>0.0402</td><td>0.1405</td><td>0.2030</td><td>0.2967</td></tr>\n",
       "\t<tr><th scope=row>T0m_VTD</th><td>0.9479</td><td>0.0799</td><td>0.8031</td><td>0.9454</td><td>1.1172</td></tr>\n",
       "\t<tr><th scope=row>T0m_cintKBF</th><td>0.1184</td><td>0.0125</td><td>0.0964</td><td>0.1176</td><td>0.1455</td></tr>\n",
       "\t<tr><th scope=row>T0m_cintVTD</th><td>0.5490</td><td>0.1015</td><td>0.3793</td><td>0.5391</td><td>0.7690</td></tr>\n",
       "</tbody>\n",
       "</table>\n",
       "</dd>\n",
       "\t<dt>$popmeans</dt>\n",
       "\t\t<dd><table class=\"dataframe\">\n",
       "<caption>A data.frame: 15 × 5</caption>\n",
       "<thead>\n",
       "\t<tr><th></th><th scope=col>mean</th><th scope=col>sd</th><th scope=col>2.5%</th><th scope=col>50%</th><th scope=col>97.5%</th></tr>\n",
       "\t<tr><th></th><th scope=col>&lt;dbl&gt;</th><th scope=col>&lt;dbl&gt;</th><th scope=col>&lt;dbl&gt;</th><th scope=col>&lt;dbl&gt;</th><th scope=col>&lt;dbl&gt;</th></tr>\n",
       "</thead>\n",
       "<tbody>\n",
       "\t<tr><th scope=row>T0m_KBF</th><td>-0.9123</td><td>0.0761</td><td>-1.0583</td><td>-0.9109</td><td>-0.7582</td></tr>\n",
       "\t<tr><th scope=row>T0m_VTD</th><td>-0.3285</td><td>0.2011</td><td>-0.7374</td><td>-0.3181</td><td> 0.0536</td></tr>\n",
       "\t<tr><th scope=row>T0m_cintKBF</th><td> 0.1182</td><td>0.0209</td><td> 0.0774</td><td> 0.1187</td><td> 0.1576</td></tr>\n",
       "\t<tr><th scope=row>T0m_cintVTD</th><td> 0.2035</td><td>0.0860</td><td> 0.0312</td><td> 0.2067</td><td> 0.3678</td></tr>\n",
       "\t<tr><th scope=row>drift_KBF</th><td>-0.2175</td><td>0.0201</td><td>-0.2610</td><td>-0.2160</td><td>-0.1812</td></tr>\n",
       "\t<tr><th scope=row>drift_VTD</th><td>-0.8177</td><td>0.1449</td><td>-1.1336</td><td>-0.8039</td><td>-0.5667</td></tr>\n",
       "\t<tr><th scope=row>drift_dynKBF</th><td>-0.5673</td><td>0.1475</td><td>-0.8965</td><td>-0.5509</td><td>-0.3319</td></tr>\n",
       "\t<tr><th scope=row>drift_dynKBF_dynVTD</th><td> 0.0041</td><td>0.0598</td><td>-0.1101</td><td> 0.0020</td><td> 0.1255</td></tr>\n",
       "\t<tr><th scope=row>drift_dynVTD_dynKBF</th><td>-0.1771</td><td>0.0962</td><td>-0.3635</td><td>-0.1774</td><td> 0.0107</td></tr>\n",
       "\t<tr><th scope=row>drift_dynVTD</th><td>-0.3423</td><td>0.0762</td><td>-0.5057</td><td>-0.3327</td><td>-0.2131</td></tr>\n",
       "\t<tr><th scope=row>diffu_dynKBF</th><td> 0.4214</td><td>0.0541</td><td> 0.3241</td><td> 0.4182</td><td> 0.5334</td></tr>\n",
       "\t<tr><th scope=row>diffu_dynVTD_dynKBF</th><td>-0.0014</td><td>0.0428</td><td>-0.0813</td><td>-0.0021</td><td> 0.0843</td></tr>\n",
       "\t<tr><th scope=row>diffu_dynVTD</th><td> 0.4732</td><td>0.0432</td><td> 0.3959</td><td> 0.4717</td><td> 0.5625</td></tr>\n",
       "\t<tr><th scope=row>mvarY1</th><td> 0.3126</td><td>0.0244</td><td> 0.2678</td><td> 0.3118</td><td> 0.3659</td></tr>\n",
       "\t<tr><th scope=row>mvarY2</th><td> 0.3814</td><td>0.0270</td><td> 0.3328</td><td> 0.3805</td><td> 0.4384</td></tr>\n",
       "</tbody>\n",
       "</table>\n",
       "</dd>\n",
       "\t<dt>$popNote</dt>\n",
       "\t\t<dd>'popmeans are reported as specified in ctModel -- covariance related matrices are in sd / unconstrained correlation form -- see $parmatrices for simpler interpretations!'</dd>\n",
       "\t<dt>$loglik</dt>\n",
       "\t\t<dd>-3485.96275411309</dd>\n",
       "\t<dt>$npars</dt>\n",
       "\t\t<dd>37</dd>\n",
       "\t<dt>$aic</dt>\n",
       "\t\t<dd>7045.92550822618</dd>\n",
       "\t<dt>$logposterior</dt>\n",
       "\t\t<dd>-3528.64829977984</dd>\n",
       "</dl>\n"
      ],
      "text/latex": [
       "\\begin{description}\n",
       "\\item[\\$residCovStd] A data.frame: 2 × 2\n",
       "\\begin{tabular}{r|ll}\n",
       "  & Y1 & Y2\\\\\n",
       "  & <dbl> & <dbl>\\\\\n",
       "\\hline\n",
       "\tY1 &  0.259 & -0.022\\\\\n",
       "\tY2 & -0.022 &  0.526\\\\\n",
       "\\end{tabular}\n",
       "\n",
       "\\item[\\$resiCovStdNote] 'Standardised covariance of residuals'\n",
       "\\item[\\$rawpopcorr] A data.frame: 6 × 6\n",
       "\\begin{tabular}{r|llllll}\n",
       "  & mean & sd & 2.5\\% & 50\\% & 97.5\\% & z\\\\\n",
       "  & <dbl> & <dbl> & <dbl> & <dbl> & <dbl> & <dbl>\\\\\n",
       "\\hline\n",
       "\tT0m\\_VTD\\_\\_T0m\\_KBF &  0.0617 & 0.1552 & -0.2472 &  0.0624 & 0.3761 &  0.3975\\\\\n",
       "\tT0m\\_cintKBF\\_\\_T0m\\_KBF &  0.3001 & 0.1786 & -0.0600 &  0.3152 & 0.6250 &  1.6805\\\\\n",
       "\tT0m\\_cintVTD\\_\\_T0m\\_KBF & -0.1273 & 0.1503 & -0.4067 & -0.1299 & 0.1815 & -0.8475\\\\\n",
       "\tT0m\\_cintKBF\\_\\_T0m\\_VTD &  0.0728 & 0.0942 & -0.1163 &  0.0736 & 0.2551 &  0.7721\\\\\n",
       "\tT0m\\_cintVTD\\_\\_T0m\\_VTD &  0.3022 & 0.0986 &  0.0951 &  0.3057 & 0.4848 &  3.0656\\\\\n",
       "\tT0m\\_cintVTD\\_\\_T0m\\_cintKBF & -0.2024 & 0.1009 & -0.3844 & -0.2047 & 0.0039 & -2.0059\\\\\n",
       "\\end{tabular}\n",
       "\n",
       "\\item[\\$tipreds] A data.frame: 12 × 6\n",
       "\\begin{tabular}{r|llllll}\n",
       "  & mean & sd & 2.5\\% & 50\\% & 97.5\\% & z\\\\\n",
       "  & <dbl> & <dbl> & <dbl> & <dbl> & <dbl> & <dbl>\\\\\n",
       "\\hline\n",
       "\ttip\\_Is\\_exp3\\_T0m\\_KBF & -0.1491 & 0.0927 & -0.3358 & -0.1473 &  0.0291 & -1.6088\\\\\n",
       "\ttip\\_Is\\_exp3\\_T0m\\_VTD &  0.6516 & 0.2496 &  0.1577 &  0.6539 &  1.1462 &  2.6109\\\\\n",
       "\ttip\\_Is\\_exp3\\_T0m\\_cintKBF &  0.3638 & 0.0327 &  0.3020 &  0.3637 &  0.4239 & 11.1399\\\\\n",
       "\ttip\\_Is\\_exp3\\_T0m\\_cintVTD & -0.5259 & 0.1389 & -0.7859 & -0.5222 & -0.2555 & -3.7851\\\\\n",
       "\ttip\\_Is\\_exp2\\_T0m\\_KBF & -0.0309 & 0.0907 & -0.2206 & -0.0288 &  0.1420 & -0.3408\\\\\n",
       "\ttip\\_Is\\_exp2\\_T0m\\_VTD &  0.7906 & 0.2435 &  0.2941 &  0.7918 &  1.2911 &  3.2466\\\\\n",
       "\ttip\\_Is\\_exp2\\_T0m\\_cintKBF & -0.1549 & 0.0263 & -0.2071 & -0.1542 & -0.1068 & -5.9010\\\\\n",
       "\ttip\\_Is\\_exp2\\_T0m\\_cintVTD & -0.1385 & 0.0957 & -0.3180 & -0.1383 &  0.0533 & -1.4473\\\\\n",
       "\ttip\\_IsOFH\\_T0m\\_KBF &  0.0052 & 0.0963 & -0.1806 &  0.0010 &  0.1972 &  0.0540\\\\\n",
       "\ttip\\_IsOFH\\_T0m\\_VTD & -0.5418 & 0.2526 & -1.0082 & -0.5450 & -0.0100 & -2.1453\\\\\n",
       "\ttip\\_IsOFH\\_T0m\\_cintKBF &  0.0629 & 0.0283 &  0.0053 &  0.0633 &  0.1164 &  2.2247\\\\\n",
       "\ttip\\_IsOFH\\_T0m\\_cintVTD & -0.1272 & 0.1152 & -0.3508 & -0.1291 &  0.0953 & -1.1036\\\\\n",
       "\\end{tabular}\n",
       "\n",
       "\\item[\\$parmatrices] A data.frame: 216 × 8\n",
       "\\begin{tabular}{r|llllllll}\n",
       "  & matrix & row & col & Mean & sd & 2.5\\% & 50\\% & 97.5\\%\\\\\n",
       "  & <chr> & <int> & <int> & <dbl> & <dbl> & <dbl> & <dbl> & <dbl>\\\\\n",
       "\\hline\n",
       "\t1 & T0MEANS & 1 & 1 & -0.9123 & 0.0761 & -1.0583 & -0.9109 & -0.7582\\\\\n",
       "\t2 & T0MEANS & 2 & 1 & -0.3285 & 0.2011 & -0.7374 & -0.3181 &  0.0536\\\\\n",
       "\t3 & T0MEANS & 3 & 1 &  0.1182 & 0.0209 &  0.0774 &  0.1187 &  0.1576\\\\\n",
       "\t4 & T0MEANS & 4 & 1 &  0.2035 & 0.0860 &  0.0312 &  0.2067 &  0.3678\\\\\n",
       "\t5 & T0MEANS & 5 & 1 &  0.0000 & 0.0000 &  0.0000 &  0.0000 &  0.0000\\\\\n",
       "\t6 & T0MEANS & 6 & 1 &  0.0000 & 0.0000 &  0.0000 &  0.0000 &  0.0000\\\\\n",
       "\t7 & LAMBDA  & 1 & 1 &  1.0000 & 0.0000 &  1.0000 &  1.0000 &  1.0000\\\\\n",
       "\t8 & LAMBDA  & 1 & 2 &  0.0000 & 0.0000 &  0.0000 &  0.0000 &  0.0000\\\\\n",
       "\t9 & LAMBDA  & 1 & 3 &  0.0000 & 0.0000 &  0.0000 &  0.0000 &  0.0000\\\\\n",
       "\t10 & LAMBDA  & 1 & 4 &  0.0000 & 0.0000 &  0.0000 &  0.0000 &  0.0000\\\\\n",
       "\t11 & LAMBDA  & 1 & 5 &  1.0000 & 0.0000 &  1.0000 &  1.0000 &  1.0000\\\\\n",
       "\t12 & LAMBDA  & 1 & 6 &  0.0000 & 0.0000 &  0.0000 &  0.0000 &  0.0000\\\\\n",
       "\t13 & LAMBDA  & 2 & 1 &  0.0000 & 0.0000 &  0.0000 &  0.0000 &  0.0000\\\\\n",
       "\t14 & LAMBDA  & 2 & 2 &  1.0000 & 0.0000 &  1.0000 &  1.0000 &  1.0000\\\\\n",
       "\t15 & LAMBDA  & 2 & 3 &  0.0000 & 0.0000 &  0.0000 &  0.0000 &  0.0000\\\\\n",
       "\t16 & LAMBDA  & 2 & 4 &  0.0000 & 0.0000 &  0.0000 &  0.0000 &  0.0000\\\\\n",
       "\t17 & LAMBDA  & 2 & 5 &  0.0000 & 0.0000 &  0.0000 &  0.0000 &  0.0000\\\\\n",
       "\t18 & LAMBDA  & 2 & 6 &  1.0000 & 0.0000 &  1.0000 &  1.0000 &  1.0000\\\\\n",
       "\t19 & DRIFT   & 1 & 1 & -0.2175 & 0.0201 & -0.2610 & -0.2160 & -0.1812\\\\\n",
       "\t20 & DRIFT   & 1 & 2 &  0.0000 & 0.0000 &  0.0000 &  0.0000 &  0.0000\\\\\n",
       "\t21 & DRIFT   & 1 & 3 &  1.0000 & 0.0000 &  1.0000 &  1.0000 &  1.0000\\\\\n",
       "\t22 & DRIFT   & 1 & 4 &  0.0000 & 0.0000 &  0.0000 &  0.0000 &  0.0000\\\\\n",
       "\t23 & DRIFT   & 1 & 5 &  0.0000 & 0.0000 &  0.0000 &  0.0000 &  0.0000\\\\\n",
       "\t24 & DRIFT   & 1 & 6 &  0.0000 & 0.0000 &  0.0000 &  0.0000 &  0.0000\\\\\n",
       "\t25 & DRIFT   & 2 & 1 &  0.0000 & 0.0000 &  0.0000 &  0.0000 &  0.0000\\\\\n",
       "\t26 & DRIFT   & 2 & 2 & -0.8177 & 0.1449 & -1.1336 & -0.8039 & -0.5667\\\\\n",
       "\t27 & DRIFT   & 2 & 3 &  0.0000 & 0.0000 &  0.0000 &  0.0000 &  0.0000\\\\\n",
       "\t28 & DRIFT   & 2 & 4 &  1.0000 & 0.0000 &  1.0000 &  1.0000 &  1.0000\\\\\n",
       "\t29 & DRIFT   & 2 & 5 &  0.0000 & 0.0000 &  0.0000 &  0.0000 &  0.0000\\\\\n",
       "\t30 & DRIFT   & 2 & 6 &  0.0000 & 0.0000 &  0.0000 &  0.0000 &  0.0000\\\\\n",
       "\t... & ... & ... & ... & ... & ... & ... & ... & ...\\\\\n",
       "\t259 & dtDRIFT & 2 & 1 &  0.0000 & 0.0000 &  0.0000 &  0.0000 & 0.0000\\\\\n",
       "\t260 & dtDRIFT & 2 & 2 &  0.4460 & 0.0627 &  0.3219 &  0.4476 & 0.5674\\\\\n",
       "\t261 & dtDRIFT & 2 & 3 &  0.0000 & 0.0000 &  0.0000 &  0.0000 & 0.0000\\\\\n",
       "\t262 & dtDRIFT & 2 & 4 &  0.6850 & 0.0421 &  0.5982 &  0.6872 & 0.7634\\\\\n",
       "\t263 & dtDRIFT & 2 & 5 &  0.0000 & 0.0000 &  0.0000 &  0.0000 & 0.0000\\\\\n",
       "\t264 & dtDRIFT & 2 & 6 &  0.0000 & 0.0000 &  0.0000 &  0.0000 & 0.0000\\\\\n",
       "\t265 & dtDRIFT & 3 & 1 &  0.0000 & 0.0000 &  0.0000 &  0.0000 & 0.0000\\\\\n",
       "\t266 & dtDRIFT & 3 & 2 &  0.0000 & 0.0000 &  0.0000 &  0.0000 & 0.0000\\\\\n",
       "\t267 & dtDRIFT & 3 & 3 &  1.0000 & 0.0000 &  1.0000 &  1.0000 & 1.0000\\\\\n",
       "\t268 & dtDRIFT & 3 & 4 &  0.0000 & 0.0000 &  0.0000 &  0.0000 & 0.0000\\\\\n",
       "\t269 & dtDRIFT & 3 & 5 &  0.0000 & 0.0000 &  0.0000 &  0.0000 & 0.0000\\\\\n",
       "\t270 & dtDRIFT & 3 & 6 &  0.0000 & 0.0000 &  0.0000 &  0.0000 & 0.0000\\\\\n",
       "\t271 & dtDRIFT & 4 & 1 &  0.0000 & 0.0000 &  0.0000 &  0.0000 & 0.0000\\\\\n",
       "\t272 & dtDRIFT & 4 & 2 &  0.0000 & 0.0000 &  0.0000 &  0.0000 & 0.0000\\\\\n",
       "\t273 & dtDRIFT & 4 & 3 &  0.0000 & 0.0000 &  0.0000 &  0.0000 & 0.0000\\\\\n",
       "\t274 & dtDRIFT & 4 & 4 &  1.0000 & 0.0000 &  1.0000 &  1.0000 & 1.0000\\\\\n",
       "\t275 & dtDRIFT & 4 & 5 &  0.0000 & 0.0000 &  0.0000 &  0.0000 & 0.0000\\\\\n",
       "\t276 & dtDRIFT & 4 & 6 &  0.0000 & 0.0000 &  0.0000 &  0.0000 & 0.0000\\\\\n",
       "\t277 & dtDRIFT & 5 & 1 &  0.0000 & 0.0000 &  0.0000 &  0.0000 & 0.0000\\\\\n",
       "\t278 & dtDRIFT & 5 & 2 &  0.0000 & 0.0000 &  0.0000 &  0.0000 & 0.0000\\\\\n",
       "\t279 & dtDRIFT & 5 & 3 &  0.0000 & 0.0000 &  0.0000 &  0.0000 & 0.0000\\\\\n",
       "\t280 & dtDRIFT & 5 & 4 &  0.0000 & 0.0000 &  0.0000 &  0.0000 & 0.0000\\\\\n",
       "\t281 & dtDRIFT & 5 & 5 &  0.5735 & 0.0802 &  0.4081 &  0.5768 & 0.7176\\\\\n",
       "\t282 & dtDRIFT & 5 & 6 &  0.0033 & 0.0382 & -0.0681 &  0.0013 & 0.0808\\\\\n",
       "\t283 & dtDRIFT & 6 & 1 &  0.0000 & 0.0000 &  0.0000 &  0.0000 & 0.0000\\\\\n",
       "\t284 & dtDRIFT & 6 & 2 &  0.0000 & 0.0000 &  0.0000 &  0.0000 & 0.0000\\\\\n",
       "\t285 & dtDRIFT & 6 & 3 &  0.0000 & 0.0000 &  0.0000 &  0.0000 & 0.0000\\\\\n",
       "\t286 & dtDRIFT & 6 & 4 &  0.0000 & 0.0000 &  0.0000 &  0.0000 & 0.0000\\\\\n",
       "\t287 & dtDRIFT & 6 & 5 & -0.1120 & 0.0600 & -0.2289 & -0.1115 & 0.0060\\\\\n",
       "\t288 & dtDRIFT & 6 & 6 &  0.7127 & 0.0528 &  0.6035 &  0.7176 & 0.8080\\\\\n",
       "\\end{tabular}\n",
       "\n",
       "\\item[\\$popsd] A data.frame: 4 × 5\n",
       "\\begin{tabular}{r|lllll}\n",
       "  & mean & sd & 2.5\\% & 50\\% & 97.5\\%\\\\\n",
       "  & <dbl> & <dbl> & <dbl> & <dbl> & <dbl>\\\\\n",
       "\\hline\n",
       "\tT0m\\_KBF & 0.2075 & 0.0402 & 0.1405 & 0.2030 & 0.2967\\\\\n",
       "\tT0m\\_VTD & 0.9479 & 0.0799 & 0.8031 & 0.9454 & 1.1172\\\\\n",
       "\tT0m\\_cintKBF & 0.1184 & 0.0125 & 0.0964 & 0.1176 & 0.1455\\\\\n",
       "\tT0m\\_cintVTD & 0.5490 & 0.1015 & 0.3793 & 0.5391 & 0.7690\\\\\n",
       "\\end{tabular}\n",
       "\n",
       "\\item[\\$popmeans] A data.frame: 15 × 5\n",
       "\\begin{tabular}{r|lllll}\n",
       "  & mean & sd & 2.5\\% & 50\\% & 97.5\\%\\\\\n",
       "  & <dbl> & <dbl> & <dbl> & <dbl> & <dbl>\\\\\n",
       "\\hline\n",
       "\tT0m\\_KBF & -0.9123 & 0.0761 & -1.0583 & -0.9109 & -0.7582\\\\\n",
       "\tT0m\\_VTD & -0.3285 & 0.2011 & -0.7374 & -0.3181 &  0.0536\\\\\n",
       "\tT0m\\_cintKBF &  0.1182 & 0.0209 &  0.0774 &  0.1187 &  0.1576\\\\\n",
       "\tT0m\\_cintVTD &  0.2035 & 0.0860 &  0.0312 &  0.2067 &  0.3678\\\\\n",
       "\tdrift\\_KBF & -0.2175 & 0.0201 & -0.2610 & -0.2160 & -0.1812\\\\\n",
       "\tdrift\\_VTD & -0.8177 & 0.1449 & -1.1336 & -0.8039 & -0.5667\\\\\n",
       "\tdrift\\_dynKBF & -0.5673 & 0.1475 & -0.8965 & -0.5509 & -0.3319\\\\\n",
       "\tdrift\\_dynKBF\\_dynVTD &  0.0041 & 0.0598 & -0.1101 &  0.0020 &  0.1255\\\\\n",
       "\tdrift\\_dynVTD\\_dynKBF & -0.1771 & 0.0962 & -0.3635 & -0.1774 &  0.0107\\\\\n",
       "\tdrift\\_dynVTD & -0.3423 & 0.0762 & -0.5057 & -0.3327 & -0.2131\\\\\n",
       "\tdiffu\\_dynKBF &  0.4214 & 0.0541 &  0.3241 &  0.4182 &  0.5334\\\\\n",
       "\tdiffu\\_dynVTD\\_dynKBF & -0.0014 & 0.0428 & -0.0813 & -0.0021 &  0.0843\\\\\n",
       "\tdiffu\\_dynVTD &  0.4732 & 0.0432 &  0.3959 &  0.4717 &  0.5625\\\\\n",
       "\tmvarY1 &  0.3126 & 0.0244 &  0.2678 &  0.3118 &  0.3659\\\\\n",
       "\tmvarY2 &  0.3814 & 0.0270 &  0.3328 &  0.3805 &  0.4384\\\\\n",
       "\\end{tabular}\n",
       "\n",
       "\\item[\\$popNote] 'popmeans are reported as specified in ctModel -- covariance related matrices are in sd / unconstrained correlation form -- see \\$parmatrices for simpler interpretations!'\n",
       "\\item[\\$loglik] -3485.96275411309\n",
       "\\item[\\$npars] 37\n",
       "\\item[\\$aic] 7045.92550822618\n",
       "\\item[\\$logposterior] -3528.64829977984\n",
       "\\end{description}\n"
      ],
      "text/markdown": [
       "$residCovStd\n",
       ":   \n",
       "A data.frame: 2 × 2\n",
       "\n",
       "| <!--/--> | Y1 &lt;dbl&gt; | Y2 &lt;dbl&gt; |\n",
       "|---|---|---|\n",
       "| Y1 |  0.259 | -0.022 |\n",
       "| Y2 | -0.022 |  0.526 |\n",
       "\n",
       "\n",
       "$resiCovStdNote\n",
       ":   'Standardised covariance of residuals'\n",
       "$rawpopcorr\n",
       ":   \n",
       "A data.frame: 6 × 6\n",
       "\n",
       "| <!--/--> | mean &lt;dbl&gt; | sd &lt;dbl&gt; | 2.5% &lt;dbl&gt; | 50% &lt;dbl&gt; | 97.5% &lt;dbl&gt; | z &lt;dbl&gt; |\n",
       "|---|---|---|---|---|---|---|\n",
       "| T0m_VTD__T0m_KBF |  0.0617 | 0.1552 | -0.2472 |  0.0624 | 0.3761 |  0.3975 |\n",
       "| T0m_cintKBF__T0m_KBF |  0.3001 | 0.1786 | -0.0600 |  0.3152 | 0.6250 |  1.6805 |\n",
       "| T0m_cintVTD__T0m_KBF | -0.1273 | 0.1503 | -0.4067 | -0.1299 | 0.1815 | -0.8475 |\n",
       "| T0m_cintKBF__T0m_VTD |  0.0728 | 0.0942 | -0.1163 |  0.0736 | 0.2551 |  0.7721 |\n",
       "| T0m_cintVTD__T0m_VTD |  0.3022 | 0.0986 |  0.0951 |  0.3057 | 0.4848 |  3.0656 |\n",
       "| T0m_cintVTD__T0m_cintKBF | -0.2024 | 0.1009 | -0.3844 | -0.2047 | 0.0039 | -2.0059 |\n",
       "\n",
       "\n",
       "$tipreds\n",
       ":   \n",
       "A data.frame: 12 × 6\n",
       "\n",
       "| <!--/--> | mean &lt;dbl&gt; | sd &lt;dbl&gt; | 2.5% &lt;dbl&gt; | 50% &lt;dbl&gt; | 97.5% &lt;dbl&gt; | z &lt;dbl&gt; |\n",
       "|---|---|---|---|---|---|---|\n",
       "| tip_Is_exp3_T0m_KBF | -0.1491 | 0.0927 | -0.3358 | -0.1473 |  0.0291 | -1.6088 |\n",
       "| tip_Is_exp3_T0m_VTD |  0.6516 | 0.2496 |  0.1577 |  0.6539 |  1.1462 |  2.6109 |\n",
       "| tip_Is_exp3_T0m_cintKBF |  0.3638 | 0.0327 |  0.3020 |  0.3637 |  0.4239 | 11.1399 |\n",
       "| tip_Is_exp3_T0m_cintVTD | -0.5259 | 0.1389 | -0.7859 | -0.5222 | -0.2555 | -3.7851 |\n",
       "| tip_Is_exp2_T0m_KBF | -0.0309 | 0.0907 | -0.2206 | -0.0288 |  0.1420 | -0.3408 |\n",
       "| tip_Is_exp2_T0m_VTD |  0.7906 | 0.2435 |  0.2941 |  0.7918 |  1.2911 |  3.2466 |\n",
       "| tip_Is_exp2_T0m_cintKBF | -0.1549 | 0.0263 | -0.2071 | -0.1542 | -0.1068 | -5.9010 |\n",
       "| tip_Is_exp2_T0m_cintVTD | -0.1385 | 0.0957 | -0.3180 | -0.1383 |  0.0533 | -1.4473 |\n",
       "| tip_IsOFH_T0m_KBF |  0.0052 | 0.0963 | -0.1806 |  0.0010 |  0.1972 |  0.0540 |\n",
       "| tip_IsOFH_T0m_VTD | -0.5418 | 0.2526 | -1.0082 | -0.5450 | -0.0100 | -2.1453 |\n",
       "| tip_IsOFH_T0m_cintKBF |  0.0629 | 0.0283 |  0.0053 |  0.0633 |  0.1164 |  2.2247 |\n",
       "| tip_IsOFH_T0m_cintVTD | -0.1272 | 0.1152 | -0.3508 | -0.1291 |  0.0953 | -1.1036 |\n",
       "\n",
       "\n",
       "$parmatrices\n",
       ":   \n",
       "A data.frame: 216 × 8\n",
       "\n",
       "| <!--/--> | matrix &lt;chr&gt; | row &lt;int&gt; | col &lt;int&gt; | Mean &lt;dbl&gt; | sd &lt;dbl&gt; | 2.5% &lt;dbl&gt; | 50% &lt;dbl&gt; | 97.5% &lt;dbl&gt; |\n",
       "|---|---|---|---|---|---|---|---|---|\n",
       "| 1 | T0MEANS | 1 | 1 | -0.9123 | 0.0761 | -1.0583 | -0.9109 | -0.7582 |\n",
       "| 2 | T0MEANS | 2 | 1 | -0.3285 | 0.2011 | -0.7374 | -0.3181 |  0.0536 |\n",
       "| 3 | T0MEANS | 3 | 1 |  0.1182 | 0.0209 |  0.0774 |  0.1187 |  0.1576 |\n",
       "| 4 | T0MEANS | 4 | 1 |  0.2035 | 0.0860 |  0.0312 |  0.2067 |  0.3678 |\n",
       "| 5 | T0MEANS | 5 | 1 |  0.0000 | 0.0000 |  0.0000 |  0.0000 |  0.0000 |\n",
       "| 6 | T0MEANS | 6 | 1 |  0.0000 | 0.0000 |  0.0000 |  0.0000 |  0.0000 |\n",
       "| 7 | LAMBDA  | 1 | 1 |  1.0000 | 0.0000 |  1.0000 |  1.0000 |  1.0000 |\n",
       "| 8 | LAMBDA  | 1 | 2 |  0.0000 | 0.0000 |  0.0000 |  0.0000 |  0.0000 |\n",
       "| 9 | LAMBDA  | 1 | 3 |  0.0000 | 0.0000 |  0.0000 |  0.0000 |  0.0000 |\n",
       "| 10 | LAMBDA  | 1 | 4 |  0.0000 | 0.0000 |  0.0000 |  0.0000 |  0.0000 |\n",
       "| 11 | LAMBDA  | 1 | 5 |  1.0000 | 0.0000 |  1.0000 |  1.0000 |  1.0000 |\n",
       "| 12 | LAMBDA  | 1 | 6 |  0.0000 | 0.0000 |  0.0000 |  0.0000 |  0.0000 |\n",
       "| 13 | LAMBDA  | 2 | 1 |  0.0000 | 0.0000 |  0.0000 |  0.0000 |  0.0000 |\n",
       "| 14 | LAMBDA  | 2 | 2 |  1.0000 | 0.0000 |  1.0000 |  1.0000 |  1.0000 |\n",
       "| 15 | LAMBDA  | 2 | 3 |  0.0000 | 0.0000 |  0.0000 |  0.0000 |  0.0000 |\n",
       "| 16 | LAMBDA  | 2 | 4 |  0.0000 | 0.0000 |  0.0000 |  0.0000 |  0.0000 |\n",
       "| 17 | LAMBDA  | 2 | 5 |  0.0000 | 0.0000 |  0.0000 |  0.0000 |  0.0000 |\n",
       "| 18 | LAMBDA  | 2 | 6 |  1.0000 | 0.0000 |  1.0000 |  1.0000 |  1.0000 |\n",
       "| 19 | DRIFT   | 1 | 1 | -0.2175 | 0.0201 | -0.2610 | -0.2160 | -0.1812 |\n",
       "| 20 | DRIFT   | 1 | 2 |  0.0000 | 0.0000 |  0.0000 |  0.0000 |  0.0000 |\n",
       "| 21 | DRIFT   | 1 | 3 |  1.0000 | 0.0000 |  1.0000 |  1.0000 |  1.0000 |\n",
       "| 22 | DRIFT   | 1 | 4 |  0.0000 | 0.0000 |  0.0000 |  0.0000 |  0.0000 |\n",
       "| 23 | DRIFT   | 1 | 5 |  0.0000 | 0.0000 |  0.0000 |  0.0000 |  0.0000 |\n",
       "| 24 | DRIFT   | 1 | 6 |  0.0000 | 0.0000 |  0.0000 |  0.0000 |  0.0000 |\n",
       "| 25 | DRIFT   | 2 | 1 |  0.0000 | 0.0000 |  0.0000 |  0.0000 |  0.0000 |\n",
       "| 26 | DRIFT   | 2 | 2 | -0.8177 | 0.1449 | -1.1336 | -0.8039 | -0.5667 |\n",
       "| 27 | DRIFT   | 2 | 3 |  0.0000 | 0.0000 |  0.0000 |  0.0000 |  0.0000 |\n",
       "| 28 | DRIFT   | 2 | 4 |  1.0000 | 0.0000 |  1.0000 |  1.0000 |  1.0000 |\n",
       "| 29 | DRIFT   | 2 | 5 |  0.0000 | 0.0000 |  0.0000 |  0.0000 |  0.0000 |\n",
       "| 30 | DRIFT   | 2 | 6 |  0.0000 | 0.0000 |  0.0000 |  0.0000 |  0.0000 |\n",
       "| ... | ... | ... | ... | ... | ... | ... | ... | ... |\n",
       "| 259 | dtDRIFT | 2 | 1 |  0.0000 | 0.0000 |  0.0000 |  0.0000 | 0.0000 |\n",
       "| 260 | dtDRIFT | 2 | 2 |  0.4460 | 0.0627 |  0.3219 |  0.4476 | 0.5674 |\n",
       "| 261 | dtDRIFT | 2 | 3 |  0.0000 | 0.0000 |  0.0000 |  0.0000 | 0.0000 |\n",
       "| 262 | dtDRIFT | 2 | 4 |  0.6850 | 0.0421 |  0.5982 |  0.6872 | 0.7634 |\n",
       "| 263 | dtDRIFT | 2 | 5 |  0.0000 | 0.0000 |  0.0000 |  0.0000 | 0.0000 |\n",
       "| 264 | dtDRIFT | 2 | 6 |  0.0000 | 0.0000 |  0.0000 |  0.0000 | 0.0000 |\n",
       "| 265 | dtDRIFT | 3 | 1 |  0.0000 | 0.0000 |  0.0000 |  0.0000 | 0.0000 |\n",
       "| 266 | dtDRIFT | 3 | 2 |  0.0000 | 0.0000 |  0.0000 |  0.0000 | 0.0000 |\n",
       "| 267 | dtDRIFT | 3 | 3 |  1.0000 | 0.0000 |  1.0000 |  1.0000 | 1.0000 |\n",
       "| 268 | dtDRIFT | 3 | 4 |  0.0000 | 0.0000 |  0.0000 |  0.0000 | 0.0000 |\n",
       "| 269 | dtDRIFT | 3 | 5 |  0.0000 | 0.0000 |  0.0000 |  0.0000 | 0.0000 |\n",
       "| 270 | dtDRIFT | 3 | 6 |  0.0000 | 0.0000 |  0.0000 |  0.0000 | 0.0000 |\n",
       "| 271 | dtDRIFT | 4 | 1 |  0.0000 | 0.0000 |  0.0000 |  0.0000 | 0.0000 |\n",
       "| 272 | dtDRIFT | 4 | 2 |  0.0000 | 0.0000 |  0.0000 |  0.0000 | 0.0000 |\n",
       "| 273 | dtDRIFT | 4 | 3 |  0.0000 | 0.0000 |  0.0000 |  0.0000 | 0.0000 |\n",
       "| 274 | dtDRIFT | 4 | 4 |  1.0000 | 0.0000 |  1.0000 |  1.0000 | 1.0000 |\n",
       "| 275 | dtDRIFT | 4 | 5 |  0.0000 | 0.0000 |  0.0000 |  0.0000 | 0.0000 |\n",
       "| 276 | dtDRIFT | 4 | 6 |  0.0000 | 0.0000 |  0.0000 |  0.0000 | 0.0000 |\n",
       "| 277 | dtDRIFT | 5 | 1 |  0.0000 | 0.0000 |  0.0000 |  0.0000 | 0.0000 |\n",
       "| 278 | dtDRIFT | 5 | 2 |  0.0000 | 0.0000 |  0.0000 |  0.0000 | 0.0000 |\n",
       "| 279 | dtDRIFT | 5 | 3 |  0.0000 | 0.0000 |  0.0000 |  0.0000 | 0.0000 |\n",
       "| 280 | dtDRIFT | 5 | 4 |  0.0000 | 0.0000 |  0.0000 |  0.0000 | 0.0000 |\n",
       "| 281 | dtDRIFT | 5 | 5 |  0.5735 | 0.0802 |  0.4081 |  0.5768 | 0.7176 |\n",
       "| 282 | dtDRIFT | 5 | 6 |  0.0033 | 0.0382 | -0.0681 |  0.0013 | 0.0808 |\n",
       "| 283 | dtDRIFT | 6 | 1 |  0.0000 | 0.0000 |  0.0000 |  0.0000 | 0.0000 |\n",
       "| 284 | dtDRIFT | 6 | 2 |  0.0000 | 0.0000 |  0.0000 |  0.0000 | 0.0000 |\n",
       "| 285 | dtDRIFT | 6 | 3 |  0.0000 | 0.0000 |  0.0000 |  0.0000 | 0.0000 |\n",
       "| 286 | dtDRIFT | 6 | 4 |  0.0000 | 0.0000 |  0.0000 |  0.0000 | 0.0000 |\n",
       "| 287 | dtDRIFT | 6 | 5 | -0.1120 | 0.0600 | -0.2289 | -0.1115 | 0.0060 |\n",
       "| 288 | dtDRIFT | 6 | 6 |  0.7127 | 0.0528 |  0.6035 |  0.7176 | 0.8080 |\n",
       "\n",
       "\n",
       "$popsd\n",
       ":   \n",
       "A data.frame: 4 × 5\n",
       "\n",
       "| <!--/--> | mean &lt;dbl&gt; | sd &lt;dbl&gt; | 2.5% &lt;dbl&gt; | 50% &lt;dbl&gt; | 97.5% &lt;dbl&gt; |\n",
       "|---|---|---|---|---|---|\n",
       "| T0m_KBF | 0.2075 | 0.0402 | 0.1405 | 0.2030 | 0.2967 |\n",
       "| T0m_VTD | 0.9479 | 0.0799 | 0.8031 | 0.9454 | 1.1172 |\n",
       "| T0m_cintKBF | 0.1184 | 0.0125 | 0.0964 | 0.1176 | 0.1455 |\n",
       "| T0m_cintVTD | 0.5490 | 0.1015 | 0.3793 | 0.5391 | 0.7690 |\n",
       "\n",
       "\n",
       "$popmeans\n",
       ":   \n",
       "A data.frame: 15 × 5\n",
       "\n",
       "| <!--/--> | mean &lt;dbl&gt; | sd &lt;dbl&gt; | 2.5% &lt;dbl&gt; | 50% &lt;dbl&gt; | 97.5% &lt;dbl&gt; |\n",
       "|---|---|---|---|---|---|\n",
       "| T0m_KBF | -0.9123 | 0.0761 | -1.0583 | -0.9109 | -0.7582 |\n",
       "| T0m_VTD | -0.3285 | 0.2011 | -0.7374 | -0.3181 |  0.0536 |\n",
       "| T0m_cintKBF |  0.1182 | 0.0209 |  0.0774 |  0.1187 |  0.1576 |\n",
       "| T0m_cintVTD |  0.2035 | 0.0860 |  0.0312 |  0.2067 |  0.3678 |\n",
       "| drift_KBF | -0.2175 | 0.0201 | -0.2610 | -0.2160 | -0.1812 |\n",
       "| drift_VTD | -0.8177 | 0.1449 | -1.1336 | -0.8039 | -0.5667 |\n",
       "| drift_dynKBF | -0.5673 | 0.1475 | -0.8965 | -0.5509 | -0.3319 |\n",
       "| drift_dynKBF_dynVTD |  0.0041 | 0.0598 | -0.1101 |  0.0020 |  0.1255 |\n",
       "| drift_dynVTD_dynKBF | -0.1771 | 0.0962 | -0.3635 | -0.1774 |  0.0107 |\n",
       "| drift_dynVTD | -0.3423 | 0.0762 | -0.5057 | -0.3327 | -0.2131 |\n",
       "| diffu_dynKBF |  0.4214 | 0.0541 |  0.3241 |  0.4182 |  0.5334 |\n",
       "| diffu_dynVTD_dynKBF | -0.0014 | 0.0428 | -0.0813 | -0.0021 |  0.0843 |\n",
       "| diffu_dynVTD |  0.4732 | 0.0432 |  0.3959 |  0.4717 |  0.5625 |\n",
       "| mvarY1 |  0.3126 | 0.0244 |  0.2678 |  0.3118 |  0.3659 |\n",
       "| mvarY2 |  0.3814 | 0.0270 |  0.3328 |  0.3805 |  0.4384 |\n",
       "\n",
       "\n",
       "$popNote\n",
       ":   'popmeans are reported as specified in ctModel -- covariance related matrices are in sd / unconstrained correlation form -- see $parmatrices for simpler interpretations!'\n",
       "$loglik\n",
       ":   -3485.96275411309\n",
       "$npars\n",
       ":   37\n",
       "$aic\n",
       ":   7045.92550822618\n",
       "$logposterior\n",
       ":   -3528.64829977984\n",
       "\n",
       "\n"
      ],
      "text/plain": [
       "$residCovStd\n",
       "       Y1     Y2\n",
       "Y1  0.259 -0.022\n",
       "Y2 -0.022  0.526\n",
       "\n",
       "$resiCovStdNote\n",
       "[1] \"Standardised covariance of residuals\"\n",
       "\n",
       "$rawpopcorr\n",
       "                            mean     sd    2.5%     50%  97.5%       z\n",
       "T0m_VTD__T0m_KBF          0.0617 0.1552 -0.2472  0.0624 0.3761  0.3975\n",
       "T0m_cintKBF__T0m_KBF      0.3001 0.1786 -0.0600  0.3152 0.6250  1.6805\n",
       "T0m_cintVTD__T0m_KBF     -0.1273 0.1503 -0.4067 -0.1299 0.1815 -0.8475\n",
       "T0m_cintKBF__T0m_VTD      0.0728 0.0942 -0.1163  0.0736 0.2551  0.7721\n",
       "T0m_cintVTD__T0m_VTD      0.3022 0.0986  0.0951  0.3057 0.4848  3.0656\n",
       "T0m_cintVTD__T0m_cintKBF -0.2024 0.1009 -0.3844 -0.2047 0.0039 -2.0059\n",
       "\n",
       "$tipreds\n",
       "                           mean     sd    2.5%     50%   97.5%       z\n",
       "tip_Is_exp3_T0m_KBF     -0.1491 0.0927 -0.3358 -0.1473  0.0291 -1.6088\n",
       "tip_Is_exp3_T0m_VTD      0.6516 0.2496  0.1577  0.6539  1.1462  2.6109\n",
       "tip_Is_exp3_T0m_cintKBF  0.3638 0.0327  0.3020  0.3637  0.4239 11.1399\n",
       "tip_Is_exp3_T0m_cintVTD -0.5259 0.1389 -0.7859 -0.5222 -0.2555 -3.7851\n",
       "tip_Is_exp2_T0m_KBF     -0.0309 0.0907 -0.2206 -0.0288  0.1420 -0.3408\n",
       "tip_Is_exp2_T0m_VTD      0.7906 0.2435  0.2941  0.7918  1.2911  3.2466\n",
       "tip_Is_exp2_T0m_cintKBF -0.1549 0.0263 -0.2071 -0.1542 -0.1068 -5.9010\n",
       "tip_Is_exp2_T0m_cintVTD -0.1385 0.0957 -0.3180 -0.1383  0.0533 -1.4473\n",
       "tip_IsOFH_T0m_KBF        0.0052 0.0963 -0.1806  0.0010  0.1972  0.0540\n",
       "tip_IsOFH_T0m_VTD       -0.5418 0.2526 -1.0082 -0.5450 -0.0100 -2.1453\n",
       "tip_IsOFH_T0m_cintKBF    0.0629 0.0283  0.0053  0.0633  0.1164  2.2247\n",
       "tip_IsOFH_T0m_cintVTD   -0.1272 0.1152 -0.3508 -0.1291  0.0953 -1.1036\n",
       "\n",
       "$parmatrices\n",
       "              matrix row col    Mean     sd    2.5%     50%   97.5%\n",
       "1            T0MEANS   1   1 -0.9123 0.0761 -1.0583 -0.9109 -0.7582\n",
       "2            T0MEANS   2   1 -0.3285 0.2011 -0.7374 -0.3181  0.0536\n",
       "3            T0MEANS   3   1  0.1182 0.0209  0.0774  0.1187  0.1576\n",
       "4            T0MEANS   4   1  0.2035 0.0860  0.0312  0.2067  0.3678\n",
       "5            T0MEANS   5   1  0.0000 0.0000  0.0000  0.0000  0.0000\n",
       "6            T0MEANS   6   1  0.0000 0.0000  0.0000  0.0000  0.0000\n",
       "7             LAMBDA   1   1  1.0000 0.0000  1.0000  1.0000  1.0000\n",
       "8             LAMBDA   1   2  0.0000 0.0000  0.0000  0.0000  0.0000\n",
       "9             LAMBDA   1   3  0.0000 0.0000  0.0000  0.0000  0.0000\n",
       "10            LAMBDA   1   4  0.0000 0.0000  0.0000  0.0000  0.0000\n",
       "11            LAMBDA   1   5  1.0000 0.0000  1.0000  1.0000  1.0000\n",
       "12            LAMBDA   1   6  0.0000 0.0000  0.0000  0.0000  0.0000\n",
       "13            LAMBDA   2   1  0.0000 0.0000  0.0000  0.0000  0.0000\n",
       "14            LAMBDA   2   2  1.0000 0.0000  1.0000  1.0000  1.0000\n",
       "15            LAMBDA   2   3  0.0000 0.0000  0.0000  0.0000  0.0000\n",
       "16            LAMBDA   2   4  0.0000 0.0000  0.0000  0.0000  0.0000\n",
       "17            LAMBDA   2   5  0.0000 0.0000  0.0000  0.0000  0.0000\n",
       "18            LAMBDA   2   6  1.0000 0.0000  1.0000  1.0000  1.0000\n",
       "19             DRIFT   1   1 -0.2175 0.0201 -0.2610 -0.2160 -0.1812\n",
       "20             DRIFT   1   2  0.0000 0.0000  0.0000  0.0000  0.0000\n",
       "21             DRIFT   1   3  1.0000 0.0000  1.0000  1.0000  1.0000\n",
       "22             DRIFT   1   4  0.0000 0.0000  0.0000  0.0000  0.0000\n",
       "23             DRIFT   1   5  0.0000 0.0000  0.0000  0.0000  0.0000\n",
       "24             DRIFT   1   6  0.0000 0.0000  0.0000  0.0000  0.0000\n",
       "25             DRIFT   2   1  0.0000 0.0000  0.0000  0.0000  0.0000\n",
       "26             DRIFT   2   2 -0.8177 0.1449 -1.1336 -0.8039 -0.5667\n",
       "27             DRIFT   2   3  0.0000 0.0000  0.0000  0.0000  0.0000\n",
       "28             DRIFT   2   4  1.0000 0.0000  1.0000  1.0000  1.0000\n",
       "29             DRIFT   2   5  0.0000 0.0000  0.0000  0.0000  0.0000\n",
       "30             DRIFT   2   6  0.0000 0.0000  0.0000  0.0000  0.0000\n",
       "31             DRIFT   3   1  0.0000 0.0000  0.0000  0.0000  0.0000\n",
       "32             DRIFT   3   2  0.0000 0.0000  0.0000  0.0000  0.0000\n",
       "33             DRIFT   3   3  0.0000 0.0000  0.0000  0.0000  0.0000\n",
       "34             DRIFT   3   4  0.0000 0.0000  0.0000  0.0000  0.0000\n",
       "35             DRIFT   3   5  0.0000 0.0000  0.0000  0.0000  0.0000\n",
       "36             DRIFT   3   6  0.0000 0.0000  0.0000  0.0000  0.0000\n",
       "37             DRIFT   4   1  0.0000 0.0000  0.0000  0.0000  0.0000\n",
       "38             DRIFT   4   2  0.0000 0.0000  0.0000  0.0000  0.0000\n",
       "39             DRIFT   4   3  0.0000 0.0000  0.0000  0.0000  0.0000\n",
       "40             DRIFT   4   4  0.0000 0.0000  0.0000  0.0000  0.0000\n",
       "41             DRIFT   4   5  0.0000 0.0000  0.0000  0.0000  0.0000\n",
       "42             DRIFT   4   6  0.0000 0.0000  0.0000  0.0000  0.0000\n",
       "43             DRIFT   5   1  0.0000 0.0000  0.0000  0.0000  0.0000\n",
       "44             DRIFT   5   2  0.0000 0.0000  0.0000  0.0000  0.0000\n",
       "45             DRIFT   5   3  0.0000 0.0000  0.0000  0.0000  0.0000\n",
       "46             DRIFT   5   4  0.0000 0.0000  0.0000  0.0000  0.0000\n",
       "47             DRIFT   5   5 -0.5673 0.1475 -0.8965 -0.5509 -0.3319\n",
       "48             DRIFT   5   6  0.0041 0.0598 -0.1101  0.0020  0.1255\n",
       "49             DRIFT   6   1  0.0000 0.0000  0.0000  0.0000  0.0000\n",
       "50             DRIFT   6   2  0.0000 0.0000  0.0000  0.0000  0.0000\n",
       "51             DRIFT   6   3  0.0000 0.0000  0.0000  0.0000  0.0000\n",
       "52             DRIFT   6   4  0.0000 0.0000  0.0000  0.0000  0.0000\n",
       "53             DRIFT   6   5 -0.1771 0.0962 -0.3635 -0.1774  0.0107\n",
       "54             DRIFT   6   6 -0.3423 0.0762 -0.5057 -0.3327 -0.2131\n",
       "91     MANIFESTMEANS   1   1  0.0000 0.0000  0.0000  0.0000  0.0000\n",
       "92     MANIFESTMEANS   2   1  0.0000 0.0000  0.0000  0.0000  0.0000\n",
       "93              CINT   1   1  0.0000 0.0000  0.0000  0.0000  0.0000\n",
       "94              CINT   2   1  0.0000 0.0000  0.0000  0.0000  0.0000\n",
       "95              CINT   3   1  0.0000 0.0000  0.0000  0.0000  0.0000\n",
       "96              CINT   4   1  0.0000 0.0000  0.0000  0.0000  0.0000\n",
       "97              CINT   5   1  0.0000 0.0000  0.0000  0.0000  0.0000\n",
       "98              CINT   6   1  0.0000 0.0000  0.0000  0.0000  0.0000\n",
       "135         asymCINT   1   1  0.0000 0.0000  0.0000  0.0000  0.0000\n",
       "136         asymCINT   2   1  0.0000 0.0000  0.0000  0.0000  0.0000\n",
       "137         asymCINT   3   1  0.0000 0.0000  0.0000  0.0000  0.0000\n",
       "138         asymCINT   4   1  0.0000 0.0000  0.0000  0.0000  0.0000\n",
       "139         asymCINT   5   1  0.0000 0.0000  0.0000  0.0000  0.0000\n",
       "140         asymCINT   6   1  0.0000 0.0000  0.0000  0.0000  0.0000\n",
       "141 asymDIFFUSIONcov   1   1  0.0000 0.0000  0.0000  0.0000  0.0000\n",
       "142 asymDIFFUSIONcov   1   2  0.0000 0.0000  0.0000  0.0000  0.0000\n",
       "143 asymDIFFUSIONcov   1   3  0.0000 0.0000  0.0000  0.0000  0.0000\n",
       "144 asymDIFFUSIONcov   1   4  0.0000 0.0000  0.0000  0.0000  0.0000\n",
       "145 asymDIFFUSIONcov   1   5  0.0000 0.0000  0.0000  0.0000  0.0000\n",
       "146 asymDIFFUSIONcov   1   6  0.0000 0.0000  0.0000  0.0000  0.0000\n",
       "147 asymDIFFUSIONcov   2   1  0.0000 0.0000  0.0000  0.0000  0.0000\n",
       "148 asymDIFFUSIONcov   2   2  0.0000 0.0000  0.0000  0.0000  0.0000\n",
       "149 asymDIFFUSIONcov   2   3  0.0000 0.0000  0.0000  0.0000  0.0000\n",
       "150 asymDIFFUSIONcov   2   4  0.0000 0.0000  0.0000  0.0000  0.0000\n",
       "151 asymDIFFUSIONcov   2   5  0.0000 0.0000  0.0000  0.0000  0.0000\n",
       "152 asymDIFFUSIONcov   2   6  0.0000 0.0000  0.0000  0.0000  0.0000\n",
       "153 asymDIFFUSIONcov   3   1  0.0000 0.0000  0.0000  0.0000  0.0000\n",
       "154 asymDIFFUSIONcov   3   2  0.0000 0.0000  0.0000  0.0000  0.0000\n",
       "155 asymDIFFUSIONcov   3   3  0.0000 0.0000  0.0000  0.0000  0.0000\n",
       "156 asymDIFFUSIONcov   3   4  0.0000 0.0000  0.0000  0.0000  0.0000\n",
       "157 asymDIFFUSIONcov   3   5  0.0000 0.0000  0.0000  0.0000  0.0000\n",
       "158 asymDIFFUSIONcov   3   6  0.0000 0.0000  0.0000  0.0000  0.0000\n",
       "159 asymDIFFUSIONcov   4   1  0.0000 0.0000  0.0000  0.0000  0.0000\n",
       "160 asymDIFFUSIONcov   4   2  0.0000 0.0000  0.0000  0.0000  0.0000\n",
       "161 asymDIFFUSIONcov   4   3  0.0000 0.0000  0.0000  0.0000  0.0000\n",
       "162 asymDIFFUSIONcov   4   4  0.0000 0.0000  0.0000  0.0000  0.0000\n",
       "163 asymDIFFUSIONcov   4   5  0.0000 0.0000  0.0000  0.0000  0.0000\n",
       "164 asymDIFFUSIONcov   4   6  0.0000 0.0000  0.0000  0.0000  0.0000\n",
       "165 asymDIFFUSIONcov   5   1  0.0000 0.0000  0.0000  0.0000  0.0000\n",
       "166 asymDIFFUSIONcov   5   2  0.0000 0.0000  0.0000  0.0000  0.0000\n",
       "167 asymDIFFUSIONcov   5   3  0.0000 0.0000  0.0000  0.0000  0.0000\n",
       "168 asymDIFFUSIONcov   5   4  0.0000 0.0000  0.0000  0.0000  0.0000\n",
       "169 asymDIFFUSIONcov   5   5  0.1624 0.0217  0.1242  0.1604  0.2081\n",
       "170 asymDIFFUSIONcov   5   6 -0.0307 0.0278 -0.0880 -0.0292  0.0225\n",
       "171 asymDIFFUSIONcov   6   1  0.0000 0.0000  0.0000  0.0000  0.0000\n",
       "172 asymDIFFUSIONcov   6   2  0.0000 0.0000  0.0000  0.0000  0.0000\n",
       "173 asymDIFFUSIONcov   6   3  0.0000 0.0000  0.0000  0.0000  0.0000\n",
       "174 asymDIFFUSIONcov   6   4  0.0000 0.0000  0.0000  0.0000  0.0000\n",
       "175 asymDIFFUSIONcov   6   5 -0.0307 0.0278 -0.0880 -0.0292  0.0225\n",
       "176 asymDIFFUSIONcov   6   6  0.3570 0.0557  0.2639  0.3506  0.4859\n",
       "177     DIFFUSIONcov   1   1  0.0000 0.0000  0.0000  0.0000  0.0000\n",
       "178     DIFFUSIONcov   1   2  0.0000 0.0000  0.0000  0.0000  0.0000\n",
       "179     DIFFUSIONcov   1   3  0.0000 0.0000  0.0000  0.0000  0.0000\n",
       "180     DIFFUSIONcov   1   4  0.0000 0.0000  0.0000  0.0000  0.0000\n",
       "181     DIFFUSIONcov   1   5  0.0000 0.0000  0.0000  0.0000  0.0000\n",
       "182     DIFFUSIONcov   1   6  0.0000 0.0000  0.0000  0.0000  0.0000\n",
       "183     DIFFUSIONcov   2   1  0.0000 0.0000  0.0000  0.0000  0.0000\n",
       "184     DIFFUSIONcov   2   2  0.0000 0.0000  0.0000  0.0000  0.0000\n",
       "185     DIFFUSIONcov   2   3  0.0000 0.0000  0.0000  0.0000  0.0000\n",
       "186     DIFFUSIONcov   2   4  0.0000 0.0000  0.0000  0.0000  0.0000\n",
       "187     DIFFUSIONcov   2   5  0.0000 0.0000  0.0000  0.0000  0.0000\n",
       "188     DIFFUSIONcov   2   6  0.0000 0.0000  0.0000  0.0000  0.0000\n",
       "189     DIFFUSIONcov   3   1  0.0000 0.0000  0.0000  0.0000  0.0000\n",
       "190     DIFFUSIONcov   3   2  0.0000 0.0000  0.0000  0.0000  0.0000\n",
       "191     DIFFUSIONcov   3   3  0.0000 0.0000  0.0000  0.0000  0.0000\n",
       "192     DIFFUSIONcov   3   4  0.0000 0.0000  0.0000  0.0000  0.0000\n",
       "193     DIFFUSIONcov   3   5  0.0000 0.0000  0.0000  0.0000  0.0000\n",
       "194     DIFFUSIONcov   3   6  0.0000 0.0000  0.0000  0.0000  0.0000\n",
       "195     DIFFUSIONcov   4   1  0.0000 0.0000  0.0000  0.0000  0.0000\n",
       "196     DIFFUSIONcov   4   2  0.0000 0.0000  0.0000  0.0000  0.0000\n",
       "197     DIFFUSIONcov   4   3  0.0000 0.0000  0.0000  0.0000  0.0000\n",
       "198     DIFFUSIONcov   4   4  0.0000 0.0000  0.0000  0.0000  0.0000\n",
       "199     DIFFUSIONcov   4   5  0.0000 0.0000  0.0000  0.0000  0.0000\n",
       "200     DIFFUSIONcov   4   6  0.0000 0.0000  0.0000  0.0000  0.0000\n",
       "201     DIFFUSIONcov   5   1  0.0000 0.0000  0.0000  0.0000  0.0000\n",
       "202     DIFFUSIONcov   5   2  0.0000 0.0000  0.0000  0.0000  0.0000\n",
       "203     DIFFUSIONcov   5   3  0.0000 0.0000  0.0000  0.0000  0.0000\n",
       "204     DIFFUSIONcov   5   4  0.0000 0.0000  0.0000  0.0000  0.0000\n",
       "205     DIFFUSIONcov   5   5  0.1805 0.0465  0.1051  0.1749  0.2846\n",
       "206     DIFFUSIONcov   5   6 -0.0001 0.0170 -0.0309 -0.0008  0.0373\n",
       "207     DIFFUSIONcov   6   1  0.0000 0.0000  0.0000  0.0000  0.0000\n",
       "208     DIFFUSIONcov   6   2  0.0000 0.0000  0.0000  0.0000  0.0000\n",
       "209     DIFFUSIONcov   6   3  0.0000 0.0000  0.0000  0.0000  0.0000\n",
       "210     DIFFUSIONcov   6   4  0.0000 0.0000  0.0000  0.0000  0.0000\n",
       "211     DIFFUSIONcov   6   5 -0.0001 0.0170 -0.0309 -0.0008  0.0373\n",
       "212     DIFFUSIONcov   6   6  0.2258 0.0414  0.1568  0.2225  0.3164\n",
       "213      MANIFESTcov   1   1  0.0983 0.0155  0.0717  0.0972  0.1339\n",
       "214      MANIFESTcov   1   2  0.0000 0.0000  0.0000  0.0000  0.0000\n",
       "215      MANIFESTcov   2   1  0.0000 0.0000  0.0000  0.0000  0.0000\n",
       "216      MANIFESTcov   2   2  0.1462 0.0209  0.1107  0.1448  0.1922\n",
       "217            T0cov   1   1  0.0447 0.0177  0.0196  0.0408  0.0872\n",
       "218            T0cov   1   2  0.0119 0.0317 -0.0518  0.0123  0.0738\n",
       "219            T0cov   1   3  0.0069 0.0040 -0.0018  0.0073  0.0140\n",
       "220            T0cov   1   4 -0.0141 0.0178 -0.0510 -0.0138  0.0227\n",
       "221            T0cov   1   5  0.0000 0.0000  0.0000  0.0000  0.0000\n",
       "222            T0cov   1   6  0.0000 0.0000  0.0000  0.0000  0.0000\n",
       "223            T0cov   2   1  0.0119 0.0317 -0.0518  0.0123  0.0738\n",
       "224            T0cov   2   2  0.9063 0.1483  0.6522  0.8952  1.2276\n",
       "225            T0cov   2   3  0.0082 0.0108 -0.0136  0.0080  0.0294\n",
       "226            T0cov   2   4  0.1547 0.0544  0.0545  0.1525  0.2642\n",
       "227            T0cov   2   5  0.0000 0.0000  0.0000  0.0000  0.0000\n",
       "228            T0cov   2   6  0.0000 0.0000  0.0000  0.0000  0.0000\n",
       "229            T0cov   3   1  0.0069 0.0040 -0.0018  0.0073  0.0140\n",
       "230            T0cov   3   2  0.0082 0.0108 -0.0136  0.0080  0.0294\n",
       "231            T0cov   3   3  0.0142 0.0030  0.0094  0.0139  0.0213\n",
       "232            T0cov   3   4 -0.0131 0.0072 -0.0277 -0.0126  0.0003\n",
       "233            T0cov   3   5  0.0000 0.0000  0.0000  0.0000  0.0000\n",
       "234            T0cov   3   6  0.0000 0.0000  0.0000  0.0000  0.0000\n",
       "235            T0cov   4   1 -0.0141 0.0178 -0.0510 -0.0138  0.0227\n",
       "236            T0cov   4   2  0.1547 0.0544  0.0545  0.1525  0.2642\n",
       "237            T0cov   4   3 -0.0131 0.0072 -0.0277 -0.0126  0.0003\n",
       "238            T0cov   4   4  0.3121 0.1172  0.1463  0.2904  0.5858\n",
       "239            T0cov   4   5  0.0000 0.0000  0.0000  0.0000  0.0000\n",
       "240            T0cov   4   6  0.0000 0.0000  0.0000  0.0000  0.0000\n",
       "241            T0cov   5   1  0.0000 0.0000  0.0000  0.0000  0.0000\n",
       "242            T0cov   5   2  0.0000 0.0000  0.0000  0.0000  0.0000\n",
       "243            T0cov   5   3  0.0000 0.0000  0.0000  0.0000  0.0000\n",
       "244            T0cov   5   4  0.0000 0.0000  0.0000  0.0000  0.0000\n",
       "245            T0cov   5   5  0.0000 0.0000  0.0000  0.0000  0.0000\n",
       "246            T0cov   5   6  0.0000 0.0000  0.0000  0.0000  0.0000\n",
       "247            T0cov   6   1  0.0000 0.0000  0.0000  0.0000  0.0000\n",
       "248            T0cov   6   2  0.0000 0.0000  0.0000  0.0000  0.0000\n",
       "249            T0cov   6   3  0.0000 0.0000  0.0000  0.0000  0.0000\n",
       "250            T0cov   6   4  0.0000 0.0000  0.0000  0.0000  0.0000\n",
       "251            T0cov   6   5  0.0000 0.0000  0.0000  0.0000  0.0000\n",
       "252            T0cov   6   6  0.0000 0.0000  0.0000  0.0000  0.0000\n",
       "253          dtDRIFT   1   1  0.8047 0.0162  0.7703  0.8058  0.8342\n",
       "254          dtDRIFT   1   2  0.0000 0.0000  0.0000  0.0000  0.0000\n",
       "255          dtDRIFT   1   3  0.8988 0.0087  0.8802  0.8994  0.9146\n",
       "256          dtDRIFT   1   4  0.0000 0.0000  0.0000  0.0000  0.0000\n",
       "257          dtDRIFT   1   5  0.0000 0.0000  0.0000  0.0000  0.0000\n",
       "258          dtDRIFT   1   6  0.0000 0.0000  0.0000  0.0000  0.0000\n",
       "259          dtDRIFT   2   1  0.0000 0.0000  0.0000  0.0000  0.0000\n",
       "260          dtDRIFT   2   2  0.4460 0.0627  0.3219  0.4476  0.5674\n",
       "261          dtDRIFT   2   3  0.0000 0.0000  0.0000  0.0000  0.0000\n",
       "262          dtDRIFT   2   4  0.6850 0.0421  0.5982  0.6872  0.7634\n",
       "263          dtDRIFT   2   5  0.0000 0.0000  0.0000  0.0000  0.0000\n",
       "264          dtDRIFT   2   6  0.0000 0.0000  0.0000  0.0000  0.0000\n",
       "265          dtDRIFT   3   1  0.0000 0.0000  0.0000  0.0000  0.0000\n",
       "266          dtDRIFT   3   2  0.0000 0.0000  0.0000  0.0000  0.0000\n",
       "267          dtDRIFT   3   3  1.0000 0.0000  1.0000  1.0000  1.0000\n",
       "268          dtDRIFT   3   4  0.0000 0.0000  0.0000  0.0000  0.0000\n",
       "269          dtDRIFT   3   5  0.0000 0.0000  0.0000  0.0000  0.0000\n",
       "270          dtDRIFT   3   6  0.0000 0.0000  0.0000  0.0000  0.0000\n",
       "271          dtDRIFT   4   1  0.0000 0.0000  0.0000  0.0000  0.0000\n",
       "272          dtDRIFT   4   2  0.0000 0.0000  0.0000  0.0000  0.0000\n",
       "273          dtDRIFT   4   3  0.0000 0.0000  0.0000  0.0000  0.0000\n",
       "274          dtDRIFT   4   4  1.0000 0.0000  1.0000  1.0000  1.0000\n",
       "275          dtDRIFT   4   5  0.0000 0.0000  0.0000  0.0000  0.0000\n",
       "276          dtDRIFT   4   6  0.0000 0.0000  0.0000  0.0000  0.0000\n",
       "277          dtDRIFT   5   1  0.0000 0.0000  0.0000  0.0000  0.0000\n",
       "278          dtDRIFT   5   2  0.0000 0.0000  0.0000  0.0000  0.0000\n",
       "279          dtDRIFT   5   3  0.0000 0.0000  0.0000  0.0000  0.0000\n",
       "280          dtDRIFT   5   4  0.0000 0.0000  0.0000  0.0000  0.0000\n",
       "281          dtDRIFT   5   5  0.5735 0.0802  0.4081  0.5768  0.7176\n",
       "282          dtDRIFT   5   6  0.0033 0.0382 -0.0681  0.0013  0.0808\n",
       "283          dtDRIFT   6   1  0.0000 0.0000  0.0000  0.0000  0.0000\n",
       "284          dtDRIFT   6   2  0.0000 0.0000  0.0000  0.0000  0.0000\n",
       "285          dtDRIFT   6   3  0.0000 0.0000  0.0000  0.0000  0.0000\n",
       "286          dtDRIFT   6   4  0.0000 0.0000  0.0000  0.0000  0.0000\n",
       "287          dtDRIFT   6   5 -0.1120 0.0600 -0.2289 -0.1115  0.0060\n",
       "288          dtDRIFT   6   6  0.7127 0.0528  0.6035  0.7176  0.8080\n",
       "\n",
       "$popsd\n",
       "              mean     sd   2.5%    50%  97.5%\n",
       "T0m_KBF     0.2075 0.0402 0.1405 0.2030 0.2967\n",
       "T0m_VTD     0.9479 0.0799 0.8031 0.9454 1.1172\n",
       "T0m_cintKBF 0.1184 0.0125 0.0964 0.1176 0.1455\n",
       "T0m_cintVTD 0.5490 0.1015 0.3793 0.5391 0.7690\n",
       "\n",
       "$popmeans\n",
       "                       mean     sd    2.5%     50%   97.5%\n",
       "T0m_KBF             -0.9123 0.0761 -1.0583 -0.9109 -0.7582\n",
       "T0m_VTD             -0.3285 0.2011 -0.7374 -0.3181  0.0536\n",
       "T0m_cintKBF          0.1182 0.0209  0.0774  0.1187  0.1576\n",
       "T0m_cintVTD          0.2035 0.0860  0.0312  0.2067  0.3678\n",
       "drift_KBF           -0.2175 0.0201 -0.2610 -0.2160 -0.1812\n",
       "drift_VTD           -0.8177 0.1449 -1.1336 -0.8039 -0.5667\n",
       "drift_dynKBF        -0.5673 0.1475 -0.8965 -0.5509 -0.3319\n",
       "drift_dynKBF_dynVTD  0.0041 0.0598 -0.1101  0.0020  0.1255\n",
       "drift_dynVTD_dynKBF -0.1771 0.0962 -0.3635 -0.1774  0.0107\n",
       "drift_dynVTD        -0.3423 0.0762 -0.5057 -0.3327 -0.2131\n",
       "diffu_dynKBF         0.4214 0.0541  0.3241  0.4182  0.5334\n",
       "diffu_dynVTD_dynKBF -0.0014 0.0428 -0.0813 -0.0021  0.0843\n",
       "diffu_dynVTD         0.4732 0.0432  0.3959  0.4717  0.5625\n",
       "mvarY1               0.3126 0.0244  0.2678  0.3118  0.3659\n",
       "mvarY2               0.3814 0.0270  0.3328  0.3805  0.4384\n",
       "\n",
       "$popNote\n",
       "[1] \"popmeans are reported as specified in ctModel -- covariance related matrices are in sd / unconstrained correlation form -- see $parmatrices for simpler interpretations!\"\n",
       "\n",
       "$loglik\n",
       "[1] -3485.963\n",
       "\n",
       "$npars\n",
       "[1] 37\n",
       "\n",
       "$aic\n",
       "[1] 7045.926\n",
       "\n",
       "$logposterior\n",
       "[1] -3528.648\n"
      ]
     },
     "metadata": {},
     "output_type": "display_data"
    }
   ],
   "source": [
    "summary(fit_mvtha)"
   ]
  },
  {
   "cell_type": "code",
   "execution_count": 32,
   "id": "b7e66185",
   "metadata": {},
   "outputs": [
    {
     "name": "stderr",
     "output_type": "stream",
     "text": [
      "Computing quantities for 1500 samples...\n",
      "\n",
      "Generating data from posterior\n",
      "\n",
      "Using 2/12 logical CPU cores\n",
      "\n"
     ]
    },
    {
     "data": {
      "text/plain": [
       "NULL"
      ]
     },
     "metadata": {},
     "output_type": "display_data"
    },
    {
     "data": {
      "text/html": [
       "<strong>png:</strong> 2"
      ],
      "text/latex": [
       "\\textbf{png:} 2"
      ],
      "text/markdown": [
       "**png:** 2"
      ],
      "text/plain": [
       "png \n",
       "  2 "
      ]
     },
     "metadata": {},
     "output_type": "display_data"
    },
    {
     "name": "stderr",
     "output_type": "stream",
     "text": [
      "Warning message in melt.data.table(data = ldat, id.vars = idvars):\n",
      "\"'measure.vars' [Y1, Y2, Is_exp3, Is_exp2, ...] are not all of the same type. By order of hierarchy, the molten data value column will be of type 'double'. All measure variables not of type 'double' will be coerced too. Check DETAILS in ?melt.data.table for more on coercion.\"\n"
     ]
    },
    {
     "data": {
      "text/html": [
       "<strong>png:</strong> 2"
      ],
      "text/latex": [
       "\\textbf{png:} 2"
      ],
      "text/markdown": [
       "**png:** 2"
      ],
      "text/plain": [
       "png \n",
       "  2 "
      ]
     },
     "metadata": {},
     "output_type": "display_data"
    },
    {
     "name": "stderr",
     "output_type": "stream",
     "text": [
      "Plotting model implied regression coeffcients conditional on time interval using ctStanDiscretePars\n",
      "\n",
      "Computing temporal regression coefficients for 100 samples, may take a moment...\n",
      "\n"
     ]
    },
    {
     "data": {
      "text/html": [
       "<strong>png:</strong> 2"
      ],
      "text/latex": [
       "\\textbf{png:} 2"
      ],
      "text/markdown": [
       "**png:** 2"
      ],
      "text/plain": [
       "png \n",
       "  2 "
      ]
     },
     "metadata": {},
     "output_type": "display_data"
    },
    {
     "name": "stderr",
     "output_type": "stream",
     "text": [
      "Plotting expectations from Kalman filter using ctKalman\n",
      "\n",
      "Computing state estimates..\n",
      "\n",
      "Computing quantities for 1 samples...\n",
      "\n"
     ]
    },
    {
     "data": {
      "text/html": [
       "<strong>png:</strong> 2"
      ],
      "text/latex": [
       "\\textbf{png:} 2"
      ],
      "text/markdown": [
       "**png:** 2"
      ],
      "text/plain": [
       "png \n",
       "  2 "
      ]
     },
     "metadata": {},
     "output_type": "display_data"
    },
    {
     "name": "stderr",
     "output_type": "stream",
     "text": [
      "Plotting prior and posterior densities using ctStanPlotPost\n",
      "\n",
      "Fitting model to empty dataset...\n",
      "\n",
      "Maximum a posteriori estimation requested\n",
      "\n",
      "Setting DRIFT diagonals of 0 to approximate 0 of -1e-06\n",
      "\n",
      "Free T0VAR parameters as well as indvarying T0MEANS -- fixing T0VAR pars to diag matrix of 1e-3\n",
      "\n",
      "Using 2/12 logical CPU cores\n",
      "\n",
      "Optimizing...\n",
      "\n",
      "Finishing optimization...\n",
      "\n",
      "Estimating Hessian\n",
      "\n",
      "Computing posterior with 10000 samples\n",
      "\n"
     ]
    },
    {
     "data": {
      "text/html": [
       "<strong>png:</strong> 2"
      ],
      "text/latex": [
       "\\textbf{png:} 2"
      ],
      "text/markdown": [
       "**png:** 2"
      ],
      "text/plain": [
       "png \n",
       "  2 "
      ]
     },
     "metadata": {},
     "output_type": "display_data"
    },
    {
     "name": "stderr",
     "output_type": "stream",
     "text": [
      "Computing temporal regression coefficients for 100 samples, may take a moment...\n",
      "\n"
     ]
    },
    {
     "data": {
      "text/html": [
       "<strong>png:</strong> 2"
      ],
      "text/latex": [
       "\\textbf{png:} 2"
      ],
      "text/markdown": [
       "**png:** 2"
      ],
      "text/plain": [
       "png \n",
       "  2 "
      ]
     },
     "metadata": {},
     "output_type": "display_data"
    },
    {
     "data": {
      "text/html": [
       "<table class=\"dataframe\">\n",
       "<caption>A data.frame: 2 × 2</caption>\n",
       "<thead>\n",
       "\t<tr><th></th><th scope=col>original</th><th scope=col>new</th></tr>\n",
       "\t<tr><th></th><th scope=col>&lt;int&gt;</th><th scope=col>&lt;int&gt;</th></tr>\n",
       "</thead>\n",
       "<tbody>\n",
       "\t<tr><th scope=row>1</th><td>1</td><td>1</td></tr>\n",
       "\t<tr><th scope=row>2</th><td>2</td><td>2</td></tr>\n",
       "</tbody>\n",
       "</table>\n"
      ],
      "text/latex": [
       "A data.frame: 2 × 2\n",
       "\\begin{tabular}{r|ll}\n",
       "  & original & new\\\\\n",
       "  & <int> & <int>\\\\\n",
       "\\hline\n",
       "\t1 & 1 & 1\\\\\n",
       "\t2 & 2 & 2\\\\\n",
       "\\end{tabular}\n"
      ],
      "text/markdown": [
       "\n",
       "A data.frame: 2 × 2\n",
       "\n",
       "| <!--/--> | original &lt;int&gt; | new &lt;int&gt; |\n",
       "|---|---|---|\n",
       "| 1 | 1 | 1 |\n",
       "| 2 | 2 | 2 |\n",
       "\n"
      ],
      "text/plain": [
       "  original new\n",
       "1 1        1  \n",
       "2 2        2  "
      ]
     },
     "metadata": {},
     "output_type": "display_data"
    },
    {
     "data": {
      "text/html": [
       "<table class=\"dataframe\">\n",
       "<caption>A data.frame: 2 × 2</caption>\n",
       "<thead>\n",
       "\t<tr><th></th><th scope=col>original</th><th scope=col>new</th></tr>\n",
       "\t<tr><th></th><th scope=col>&lt;int&gt;</th><th scope=col>&lt;int&gt;</th></tr>\n",
       "</thead>\n",
       "<tbody>\n",
       "\t<tr><th scope=row>371</th><td>371</td><td>371</td></tr>\n",
       "\t<tr><th scope=row>372</th><td>372</td><td>372</td></tr>\n",
       "</tbody>\n",
       "</table>\n"
      ],
      "text/latex": [
       "A data.frame: 2 × 2\n",
       "\\begin{tabular}{r|ll}\n",
       "  & original & new\\\\\n",
       "  & <int> & <int>\\\\\n",
       "\\hline\n",
       "\t371 & 371 & 371\\\\\n",
       "\t372 & 372 & 372\\\\\n",
       "\\end{tabular}\n"
      ],
      "text/markdown": [
       "\n",
       "A data.frame: 2 × 2\n",
       "\n",
       "| <!--/--> | original &lt;int&gt; | new &lt;int&gt; |\n",
       "|---|---|---|\n",
       "| 371 | 371 | 371 |\n",
       "| 372 | 372 | 372 |\n",
       "\n"
      ],
      "text/plain": [
       "    original new\n",
       "371 371      371\n",
       "372 372      372"
      ]
     },
     "metadata": {},
     "output_type": "display_data"
    },
    {
     "name": "stderr",
     "output_type": "stream",
     "text": [
      "Computing state estimates..\n",
      "\n",
      "Computing quantities for 1 samples...\n",
      "\n"
     ]
    },
    {
     "data": {
      "text/html": [
       "<strong>png:</strong> 2"
      ],
      "text/latex": [
       "\\textbf{png:} 2"
      ],
      "text/markdown": [
       "**png:** 2"
      ],
      "text/plain": [
       "png \n",
       "  2 "
      ]
     },
     "metadata": {},
     "output_type": "display_data"
    },
    {
     "name": "stderr",
     "output_type": "stream",
     "text": [
      "Computing state estimates..\n",
      "\n",
      "Computing quantities for 1 samples...\n",
      "\n"
     ]
    },
    {
     "data": {
      "text/html": [
       "<strong>png:</strong> 2"
      ],
      "text/latex": [
       "\\textbf{png:} 2"
      ],
      "text/markdown": [
       "**png:** 2"
      ],
      "text/plain": [
       "png \n",
       "  2 "
      ]
     },
     "metadata": {},
     "output_type": "display_data"
    },
    {
     "name": "stderr",
     "output_type": "stream",
     "text": [
      "Computing state estimates..\n",
      "\n",
      "Computing quantities for 1 samples...\n",
      "\n"
     ]
    },
    {
     "data": {
      "text/html": [
       "<strong>png:</strong> 2"
      ],
      "text/latex": [
       "\\textbf{png:} 2"
      ],
      "text/markdown": [
       "**png:** 2"
      ],
      "text/plain": [
       "png \n",
       "  2 "
      ]
     },
     "metadata": {},
     "output_type": "display_data"
    },
    {
     "name": "stderr",
     "output_type": "stream",
     "text": [
      "Computing state estimates..\n",
      "\n",
      "Computing quantities for 1 samples...\n",
      "\n"
     ]
    },
    {
     "data": {
      "text/html": [
       "<strong>png:</strong> 2"
      ],
      "text/latex": [
       "\\textbf{png:} 2"
      ],
      "text/markdown": [
       "**png:** 2"
      ],
      "text/plain": [
       "png \n",
       "  2 "
      ]
     },
     "metadata": {},
     "output_type": "display_data"
    },
    {
     "name": "stderr",
     "output_type": "stream",
     "text": [
      "Computing state estimates..\n",
      "\n",
      "Computing quantities for 1 samples...\n",
      "\n"
     ]
    },
    {
     "data": {
      "text/html": [
       "<strong>png:</strong> 2"
      ],
      "text/latex": [
       "\\textbf{png:} 2"
      ],
      "text/markdown": [
       "**png:** 2"
      ],
      "text/plain": [
       "png \n",
       "  2 "
      ]
     },
     "metadata": {},
     "output_type": "display_data"
    },
    {
     "name": "stderr",
     "output_type": "stream",
     "text": [
      "Computing state estimates..\n",
      "\n",
      "Computing quantities for 1 samples...\n",
      "\n"
     ]
    },
    {
     "data": {
      "text/html": [
       "<strong>png:</strong> 2"
      ],
      "text/latex": [
       "\\textbf{png:} 2"
      ],
      "text/markdown": [
       "**png:** 2"
      ],
      "text/plain": [
       "png \n",
       "  2 "
      ]
     },
     "metadata": {},
     "output_type": "display_data"
    },
    {
     "data": {
      "text/html": [
       "<table class=\"dataframe\">\n",
       "<caption>A data.frame: 3 × 5</caption>\n",
       "<thead>\n",
       "\t<tr><th></th><th scope=col>T0m_cintKBF</th><th scope=col>T0m_cintVTD</th><th scope=col>T0m_KBF</th><th scope=col>T0m_VTD</th><th scope=col>id</th></tr>\n",
       "\t<tr><th></th><th scope=col>&lt;dbl&gt;</th><th scope=col>&lt;dbl&gt;</th><th scope=col>&lt;dbl&gt;</th><th scope=col>&lt;dbl&gt;</th><th scope=col>&lt;int&gt;</th></tr>\n",
       "</thead>\n",
       "<tbody>\n",
       "\t<tr><th scope=row>1</th><td>-0.07420435</td><td>0.1201487</td><td>-0.9932119</td><td> 0.09537594</td><td>1</td></tr>\n",
       "\t<tr><th scope=row>2</th><td>-0.08816661</td><td>0.3674557</td><td>-1.0048843</td><td>-0.01185992</td><td>2</td></tr>\n",
       "\t<tr><th scope=row>3</th><td>-0.01083974</td><td>0.4775070</td><td>-0.9327801</td><td> 0.68659990</td><td>3</td></tr>\n",
       "</tbody>\n",
       "</table>\n"
      ],
      "text/latex": [
       "A data.frame: 3 × 5\n",
       "\\begin{tabular}{r|lllll}\n",
       "  & T0m\\_cintKBF & T0m\\_cintVTD & T0m\\_KBF & T0m\\_VTD & id\\\\\n",
       "  & <dbl> & <dbl> & <dbl> & <dbl> & <int>\\\\\n",
       "\\hline\n",
       "\t1 & -0.07420435 & 0.1201487 & -0.9932119 &  0.09537594 & 1\\\\\n",
       "\t2 & -0.08816661 & 0.3674557 & -1.0048843 & -0.01185992 & 2\\\\\n",
       "\t3 & -0.01083974 & 0.4775070 & -0.9327801 &  0.68659990 & 3\\\\\n",
       "\\end{tabular}\n"
      ],
      "text/markdown": [
       "\n",
       "A data.frame: 3 × 5\n",
       "\n",
       "| <!--/--> | T0m_cintKBF &lt;dbl&gt; | T0m_cintVTD &lt;dbl&gt; | T0m_KBF &lt;dbl&gt; | T0m_VTD &lt;dbl&gt; | id &lt;int&gt; |\n",
       "|---|---|---|---|---|---|\n",
       "| 1 | -0.07420435 | 0.1201487 | -0.9932119 |  0.09537594 | 1 |\n",
       "| 2 | -0.08816661 | 0.3674557 | -1.0048843 | -0.01185992 | 2 |\n",
       "| 3 | -0.01083974 | 0.4775070 | -0.9327801 |  0.68659990 | 3 |\n",
       "\n"
      ],
      "text/plain": [
       "  T0m_cintKBF T0m_cintVTD T0m_KBF    T0m_VTD     id\n",
       "1 -0.07420435 0.1201487   -0.9932119  0.09537594 1 \n",
       "2 -0.08816661 0.3674557   -1.0048843 -0.01185992 2 \n",
       "3 -0.01083974 0.4775070   -0.9327801  0.68659990 3 "
      ]
     },
     "metadata": {},
     "output_type": "display_data"
    },
    {
     "data": {
      "text/html": [
       "<style>\n",
       ".list-inline {list-style: none; margin:0; padding: 0}\n",
       ".list-inline>li {display: inline-block}\n",
       ".list-inline>li:not(:last-child)::after {content: \"\\00b7\"; padding: 0 .5ex}\n",
       "</style>\n",
       "<ol class=list-inline><li>372</li><li>5</li></ol>\n"
      ],
      "text/latex": [
       "\\begin{enumerate*}\n",
       "\\item 372\n",
       "\\item 5\n",
       "\\end{enumerate*}\n"
      ],
      "text/markdown": [
       "1. 372\n",
       "2. 5\n",
       "\n",
       "\n"
      ],
      "text/plain": [
       "[1] 372   5"
      ]
     },
     "metadata": {},
     "output_type": "display_data"
    }
   ],
   "source": [
    "#### asympDIFF :  variance/covariance  of  the  latent  process\n",
    "tiff(file.path(path_save_, paste0(name,'RandomDataPosterior_to_observedData.tiff')), width=400, height=400)\n",
    "ctStanPostPredict(fit_mvtha, wait=FALSE) #compare randomly generated data from posterior to observed data\n",
    "dev.off()\n",
    "\n",
    "tiff(file.path(path_save_, paste0(name,'RadomDataPosteriorMeanCOv_to_observedData.tiff')), width=400, height=400)\n",
    "cf = ctCheckFit(fit_mvtha) #compare mean and covariance of randomly generated data to observed cov plot(cf,wait=FALSE)\n",
    "dev.off()\n",
    "\n",
    "#calculate discrete time parameters (1,2,3 months)\n",
    "df_lag = summary(fit_mvtha, timeinterval=1)\n",
    "write.csv(df_lag$parmatrices, file=file.path(path_save_,paste0(name,\"lag1.csv\")))\n",
    "df_lag = summary(fit_mvtha, timeinterval=2)\n",
    "write.csv(df_lag$parmatrices, file=file.path(path_save_,paste0(name,\"lag2.csv\")))\n",
    "df_lag = summary(fit_mvtha, timeinterval=3)\n",
    "write.csv(df_lag$parmatrices, file=file.path(path_save_,paste0(name,\"lag3.csv\")))\n",
    "\n",
    "#plot basics (regression kalan, priorcheck)\n",
    "tiff(file.path(path_save_, paste0(name,'plotdiscretedrift_regression.tiff')), width=400, height=400)\n",
    "plot(fit_mvtha,types=c('regression'), wait=FALSE)\n",
    "dev.off()\n",
    "tiff(file.path(path_save_, paste0(name,'plotdiscretedrift_kalman.tiff')), width=400, height=400)\n",
    "plot(fit_mvtha,types=c('kalman'), wait=FALSE)\n",
    "dev.off()\n",
    "tiff(file.path(path_save_, paste0(name,'plotdiscretedrift_priorcheck.tiff')), width=400, height=400)\n",
    "plot(fit_mvtha,types=c('priorcheck'), wait=FALSE)\n",
    "dev.off()\n",
    "\n",
    "\n",
    "#plot of discrete timedrift estimate all together \n",
    "tiff(file.path(path_save_, paste0(name,'plotdiscretedrift.tiff')), width=400, height=400)\n",
    "ctStanDiscretePars(fit_mvtha, plot=T)\n",
    "dev.off()\n",
    "\n",
    "#check the id are correct\n",
    "df_idmap = fit_mvtha$setup$idmap\n",
    "head(df_idmap,2)\n",
    "tail(df_idmap,2)\n",
    "if (identical(df_idmap[['original']],df_idmap[['new']])==FALSE){\n",
    "    print('ERROR: makes sure your id column will be the same as the one given by ctsem, just to ensure no error later on')\n",
    "    stop() #couldnt find equivalent to sys.exit() in python, but that do the job as well (stop the code)\n",
    "}\n",
    "\n",
    "#print(fit_mvtha$setup$idmap[c(1,100,200,300,400), 1])\n",
    "#plot 5 hens without uncertainty and width for visibility purposes\n",
    "tiff(file.path(path_save_, paste0(name,'5individual_nouncertainty.tiff')), width=400, height=400)\n",
    "ctKalman(fit_mvtha,subjects=c(1,100,200,300,400),plot=T,kalmanvec=c('y','ysmooth'), polygonsteps=0)\n",
    "dev.off()\n",
    "tiff(file.path(path_save_, paste0(name,'5otherindividual_nouncertainty.tiff')), width=400, height=400)\n",
    "ctKalman(fit_mvtha,subjects=c(10,110,210,310,410),plot=T,kalmanvec=c('y','ysmooth'), polygonsteps=0)\n",
    "dev.off()\n",
    "tiff(file.path(path_save_, paste0(name,'5other2individual_nouncertainty.tiff')), width=400, height=400)\n",
    "ctKalman(fit_mvtha,subjects=c(20,120,220,320,420),plot=T,kalmanvec=c('y','ysmooth'), polygonsteps=0)\n",
    "dev.off()\n",
    "#plot parameters for two hen  with polygonsteps=10 (the default) to see uncertainty\n",
    "tiff(file.path(path_save_, paste0(name,'2individual_witthcertainty.tiff')), width=400, height=400)\n",
    "ctKalman(fit_mvtha,subjects=c(300,400),plot=T,kalmanvec=c('y','ysmooth'), polygonsteps=10)\n",
    "dev.off()\n",
    "#plot parameters for two hen  with polygonsteps=10 (the default) to see uncertainty\n",
    "tiff(file.path(path_save_, paste0(name,'2otherindividual_witthcertainty.tiff')), width=400, height=400)\n",
    "ctKalman(fit_mvtha,subjects=c(310,410),plot=T,kalmanvec=c('y','ysmooth'), polygonsteps=10)\n",
    "dev.off()\n",
    "#plot parameters for two hen  with polygonsteps=10 (the default) to see uncertainty\n",
    "tiff(file.path(path_save_, paste0(name,'2other2individual_witthcertainty.tiff')), width=400, height=400)\n",
    "ctKalman(fit_mvtha,subjects=c(320,420),plot=T,kalmanvec=c('y','ysmooth'), polygonsteps=10)\n",
    "dev.off()\n",
    "\n",
    "#extract estimates of individual parameters, taking into account any covariates and random effects\n",
    "#output an nsamples by nsubjects by nparams array.\n",
    "indpars = ctStanSubjectPars(fit_mvtha, cores=cores_, nsamples=\"all\")[1,,]\n",
    "ind.data = data.frame(indpars)\n",
    "ind.data$id = fit_mvtha$setup$idmap$original #or new, its the same\n",
    "head(ind.data,3)\n",
    "dim(ind.data)\n",
    "write.csv(ind.data, file=file.path(path_save_,paste0(name,\"HenIDParameters.csv\")))"
   ]
  },
  {
   "cell_type": "code",
   "execution_count": 33,
   "id": "000638f5",
   "metadata": {},
   "outputs": [
    {
     "name": "stderr",
     "output_type": "stream",
     "text": [
      "Computing state estimates..\n",
      "\n",
      "Computing quantities for 1 samples...\n",
      "\n"
     ]
    },
    {
     "data": {
      "image/png": "[encoded data removed]",
      "text/plain": [
       "plot without title"
      ]
     },
     "metadata": {
      "image/png": {
       "height": 420,
       "width": 420
      }
     },
     "output_type": "display_data"
    }
   ],
   "source": [
    "ctKalman(fit_mvtha,subjects=c(300,400),plot=T,kalmanvec=c('y','yprior'), polygonsteps=10)"
   ]
  },
  {
   "cell_type": "code",
   "execution_count": null,
   "id": "cf0b9fbc",
   "metadata": {},
   "outputs": [],
   "source": [
    "#TODO: standardized resiudals (ctstankalman with stderror=TRUE)"
   ]
  },
  {
   "cell_type": "code",
   "execution_count": null,
   "id": "2ffeb7b9",
   "metadata": {},
   "outputs": [
    {
     "name": "stderr",
     "output_type": "stream",
     "text": [
      "Computing state estimates..\n",
      "\n",
      "Computing quantities for 1 samples...\n",
      "\n"
     ]
    },
    {
     "data": {
      "text/html": [
       "<style>\n",
       ".list-inline {list-style: none; margin:0; padding: 0}\n",
       ".list-inline>li {display: inline-block}\n",
       ".list-inline>li:not(:last-child)::after {content: \"\\00b7\"; padding: 0 .5ex}\n",
       "</style>\n",
       "<ol class=list-inline><li>9447444</li><li>11</li></ol>\n"
      ],
      "text/latex": [
       "\\begin{enumerate*}\n",
       "\\item 9447444\n",
       "\\item 11\n",
       "\\end{enumerate*}\n"
      ],
      "text/markdown": [
       "1. 9447444\n",
       "2. 11\n",
       "\n",
       "\n"
      ],
      "text/plain": [
       "[1] 9447444      11"
      ]
     },
     "metadata": {},
     "output_type": "display_data"
    }
   ],
   "source": [
    "df_res = ctKalman(fit_mvtha,subjects=fit_mvtha$setup$idmap[,1],plot=F)#,kalmanvec=c('y','yprior'))\n",
    "dim(df_res)\n",
    "write.csv(df_res, file=file.path(path_save_,paste0(name,\"df_res_yprior.csv\")))"
   ]
  },
  {
   "cell_type": "code",
   "execution_count": null,
   "id": "460f3075",
   "metadata": {
    "scrolled": true
   },
   "outputs": [],
   "source": [
    "#compare randomly generated data from posterior to observed data\n",
    "ctStanPostPredict(fit_mvtha, wait=FALSE)"
   ]
  },
  {
   "cell_type": "code",
   "execution_count": null,
   "id": "1a8d5cd7",
   "metadata": {},
   "outputs": [],
   "source": [
    "x = ctStanDiscretePars(fit_mvtha, subjects='popmean')\n",
    "#ctStanDiscreteParsPlot(x, indices='CR',facets='Subject')\n",
    "write.csv(as.data.frame(x), file=file.path(path_save_,paste0(name,\"ctStanDiscretePars.csv\")))"
   ]
  },
  {
   "cell_type": "code",
   "execution_count": null,
   "id": "0dfeec25",
   "metadata": {},
   "outputs": [],
   "source": [
    "#K fold cross validation for ctStanFit objects\n",
    "#\"folds Number of cross validation splits to use – 3 folds implies that the model is re-fit 3 times, each time to a data set \n",
    "#with 1/3 of the observations randomly removed\"\n",
    "loores = ctLOO(fit_mvtha, folds = folds_, cores = cores_, subjectwise=TRUE)\n",
    "for (i in folds_){\n",
    "    df_fold = loores$foldrows[as.character(i-1)]\n",
    "    write.csv(df_fold, file=file.path(path_save_,paste0(name,'df_',i,\"fold.csv\")))}\n",
    "df_foldpars = loores$foldpars\n",
    "write.csv(df_foldpars, file=file.path(path_save_,paste0(name,\"df_foldpars.csv\")))\n",
    "df_sampleloglikrow = data.frame('out'=loores$outsampleLogLikRow,'in'=c(loores$insampleLogLikRow))\n",
    "write.csv(df_sampleloglikrow, file=file.path(path_save_,paste0(name,\"df_sampleloglikrow.csv\")))\n",
    "df_resloo = data.frame('insampleLogLik' = loores$insampleLogLik,\n",
    "           'outsampleLogLik' = loores$outsampleLogLik,\n",
    "           'outsampleLogLik' = loores$insampleRowwiseEntropy,\n",
    "           'outsampleRowwiseEntropy' = loores$outsampleRowwiseEntropy,\n",
    "           'insampleSubjectwiseEntropy' = loores$insampleSubjectwiseEntropy,\n",
    "           'outsampleSubjectwiseEntropy' = loores$outsampleSubjectwiseEntropy,\n",
    "           'insampleRowwiseLogLikSD' = loores$insampleRowwiseLogLikSD,\n",
    "           'outsampleRowwiseLogLikSD' = loores$outsampleRowwiseLogLikSD,\n",
    "           'insampleSubjectwiseLogLikSD' = loores$insampleSubjectwiseLogLikSD,\n",
    "           'outsampleSubjectwiseLogLikSD' = loores$outsampleSubjectwiseLogLikSD)\n",
    "write.csv(df_resloo, file=file.path(path_save_,paste0(name,\"df_resloo.csv\")))\n",
    "##\n",
    "fit_mvtha$cv =ctLOO(fit_mvtha, folds = folds_, cores = cores_, subjectwise=TRUE)\n",
    "save(fit_mvtha,file=file.path(path_save_,'fit_mvtha.rda'))"
   ]
  },
  {
   "cell_type": "code",
   "execution_count": null,
   "id": "22b858f5",
   "metadata": {},
   "outputs": [],
   "source": []
  },
  {
   "cell_type": "code",
   "execution_count": null,
   "id": "2102f0c8",
   "metadata": {},
   "outputs": [],
   "source": []
  },
  {
   "cell_type": "code",
   "execution_count": null,
   "id": "e1d03d4b",
   "metadata": {},
   "outputs": [],
   "source": []
  },
  {
   "cell_type": "code",
   "execution_count": null,
   "id": "764f96f6",
   "metadata": {},
   "outputs": [],
   "source": []
  },
  {
   "cell_type": "code",
   "execution_count": null,
   "id": "47b8bb8e",
   "metadata": {},
   "outputs": [],
   "source": []
  },
  {
   "cell_type": "code",
   "execution_count": null,
   "id": "340a7d2f",
   "metadata": {},
   "outputs": [],
   "source": []
  },
  {
   "cell_type": "code",
   "execution_count": null,
   "id": "bef05d4c",
   "metadata": {},
   "outputs": [],
   "source": []
  },
  {
   "cell_type": "code",
   "execution_count": null,
   "id": "5bb6f978",
   "metadata": {},
   "outputs": [],
   "source": []
  }
 ],
 "metadata": {
  "kernelspec": {
   "display_name": " Rkernel_4",
   "language": "R",
   "name": "rkernel_4"
  },
  "language_info": {
   "codemirror_mode": "r",
   "file_extension": ".r",
   "mimetype": "text/x-r-source",
   "name": "R",
   "pygments_lexer": "r",
   "version": "4.1.1"
  }
 },
 "nbformat": 4,
 "nbformat_minor": 5
}
