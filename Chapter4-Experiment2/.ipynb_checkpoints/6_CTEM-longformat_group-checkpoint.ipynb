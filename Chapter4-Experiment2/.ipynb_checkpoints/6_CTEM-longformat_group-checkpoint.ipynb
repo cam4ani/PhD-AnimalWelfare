{
 "cells": [
  {
   "cell_type": "code",
   "execution_count": 1,
   "id": "f295e75d",
   "metadata": {
    "scrolled": true
   },
   "outputs": [
    {
     "name": "stderr",
     "output_type": "stream",
     "text": [
      "Warning message:\n",
      "\"le package 'ctsem' a été compilé avec la version R 4.1.3\"\n",
      "Le chargement a nécessité le package : Rcpp\n",
      "\n",
      "Warning message:\n",
      "\"le package 'Rcpp' a été compilé avec la version R 4.1.2\"\n",
      "ctsem also changes in time, for manual run ctDocs(), for blog see https://cdriver.netlify.app/, for citation info run citation('ctsem'), for original OpenMx functionality install.packages('ctsemOMX'), and for discussion https://github.com/cdriveraus/ctsem/discussions\n",
      "\n",
      "Warning message in doTryCatch(return(expr), name, parentenv, handler):\n",
      "\"The following important packages for ctsem are out of date: rstan\"\n",
      "Warning message:\n",
      "\"le package 'dplyr' a été compilé avec la version R 4.1.2\"\n",
      "\n",
      "Attachement du package : 'dplyr'\n",
      "\n",
      "\n",
      "Les objets suivants sont masqués depuis 'package:stats':\n",
      "\n",
      "    filter, lag\n",
      "\n",
      "\n",
      "Les objets suivants sont masqués depuis 'package:base':\n",
      "\n",
      "    intersect, setdiff, setequal, union\n",
      "\n",
      "\n",
      "Warning message:\n",
      "\"le package 'plyr' a été compilé avec la version R 4.1.2\"\n",
      "------------------------------------------------------------------------------\n",
      "\n",
      "You have loaded plyr after dplyr - this is likely to cause problems.\n",
      "If you need functions from both plyr and dplyr, please load plyr first, then dplyr:\n",
      "library(plyr); library(dplyr)\n",
      "\n",
      "------------------------------------------------------------------------------\n",
      "\n",
      "\n",
      "Attachement du package : 'plyr'\n",
      "\n",
      "\n",
      "Les objets suivants sont masqués depuis 'package:dplyr':\n",
      "\n",
      "    arrange, count, desc, failwith, id, mutate, rename, summarise,\n",
      "    summarize\n",
      "\n",
      "\n",
      "Warning message:\n",
      "\"le package 'ICC' a été compilé avec la version R 4.1.3\"\n",
      "Warning message:\n",
      "\"le package 'rmcorr' a été compilé avec la version R 4.1.3\"\n"
     ]
    }
   ],
   "source": [
    "library(ctsem)\n",
    "library(dplyr)\n",
    "library(plyr)\n",
    "library(ICC)\n",
    "library(rmcorr)\n",
    "library(Rcpp)\n",
    "library(ctsemOMX) #multigroup"
   ]
  },
  {
   "cell_type": "code",
   "execution_count": 2,
   "id": "2f7580c7",
   "metadata": {},
   "outputs": [],
   "source": [
    "setwd(\"G:/VPHI/Welfare/2- Research Projects/Camille Montalcini/Origins.GS/DataOutput/TrackingSystem/EXP2_\")"
   ]
  },
  {
   "cell_type": "markdown",
   "id": "2769d5e7",
   "metadata": {},
   "source": [
    "# Download data"
   ]
  },
  {
   "cell_type": "code",
   "execution_count": 42,
   "id": "c5fd5c2b",
   "metadata": {
    "scrolled": true
   },
   "outputs": [
    {
     "name": "stderr",
     "output_type": "stream",
     "text": [
      "Warning message in dir.create(path_save):\n",
      "\"'LongformatModels' existe déjà\"\n"
     ]
    },
    {
     "data": {
      "text/plain": [
       "     HAID                    HenID            id         MonthInstudy  \n",
       " Length:2228        EXP3_hen_101:  12   Min.   :  1.0   Min.   :0.000  \n",
       " Class :character   EXP3_hen_103:  12   1st Qu.:113.8   1st Qu.:0.820  \n",
       " Mode  :character   EXP3_hen_104:  12   Median :220.0   Median :3.120  \n",
       "                    EXP3_hen_105:  12   Mean   :211.0   Mean   :3.511  \n",
       "                    EXP3_hen_106:  12   3rd Qu.:320.2   3rd Qu.:5.420  \n",
       "                    EXP3_hen_109:  12   Max.   :372.0   Max.   :9.500  \n",
       "                    (Other)     :2156                                  \n",
       "     DOAHA           IsOFH        ExperimentID        Is_relocated  \n",
       " Min.   :148.0   Min.   :0.0000   Length:2228        Min.   :0.000  \n",
       " 1st Qu.:173.0   1st Qu.:0.0000   Class :character   1st Qu.:0.000  \n",
       " Median :243.0   Median :0.0000   Mode  :character   Median :0.000  \n",
       " Mean   :254.8   Mean   :0.1854                      Mean   :0.175  \n",
       " 3rd Qu.:313.0   3rd Qu.:0.0000                      3rd Qu.:0.000  \n",
       " Max.   :437.0   Max.   :1.0000                      Max.   :1.000  \n",
       "                                                                    \n",
       "    Is_exp1          Is_exp2          Is_exp3        early_death     \n",
       " Min.   :0.0000   Min.   :0.0000   Min.   :0.0000   Min.   :0.00000  \n",
       " 1st Qu.:0.0000   1st Qu.:0.0000   1st Qu.:0.0000   1st Qu.:0.00000  \n",
       " Median :0.0000   Median :0.0000   Median :0.0000   Median :0.00000  \n",
       " Mean   :0.3582   Mean   :0.3573   Mean   :0.2846   Mean   :0.01391  \n",
       " 3rd Qu.:1.0000   3rd Qu.:1.0000   3rd Qu.:1.0000   3rd Qu.:0.00000  \n",
       " Max.   :1.0000   Max.   :1.0000   Max.   :1.0000   Max.   :1.00000  \n",
       "                                                                     \n",
       "   time2event         DOA        proptime_2_Zone proptime_5_Zone \n",
       " Min.   :1.500   Min.   :144.5   Min.   : 0.00   Min.   : 0.000  \n",
       " 1st Qu.:3.500   1st Qu.:211.2   1st Qu.:18.96   1st Qu.: 6.012  \n",
       " Median :4.000   Median :241.5   Median :35.31   Median :20.769  \n",
       " Mean   :3.732   Mean   :271.2   Mean   :33.98   Mean   :28.554  \n",
       " 3rd Qu.:4.000   3rd Qu.:321.5   3rd Qu.:48.61   3rd Qu.:46.052  \n",
       " Max.   :7.000   Max.   :433.5   Max.   :72.46   Max.   :96.965  \n",
       " NA's   :353     NA's   :353     NA's   :353     NA's   :353     \n",
       "   VTDperhour      mid_cum_Z4_h_Morning  chi2distance       severity     \n",
       " Min.   : 0.0417   Min.   :2.453        Min.   :0.0222   Min.   :  0.00  \n",
       " 1st Qu.: 2.6667   1st Qu.:4.219        1st Qu.:0.1679   1st Qu.:  1.00  \n",
       " Median : 3.7812   Median :4.843        Median :0.2181   Median : 16.00  \n",
       " Mean   : 3.8424   Mean   :4.938        Mean   :0.2345   Mean   : 23.61  \n",
       " 3rd Qu.: 4.8776   3rd Qu.:5.619        3rd Qu.:0.2898   3rd Qu.: 38.00  \n",
       " Max.   :15.2292   Max.   :7.762        Max.   :0.6202   Max.   :100.00  \n",
       " NA's   :353       NA's   :946          NA's   :353      NA's   :353     \n",
       "      gap        \n",
       " Min.   :0.0000  \n",
       " 1st Qu.:0.0000  \n",
       " Median :0.0000  \n",
       " Mean   :0.2448  \n",
       " 3rd Qu.:0.0000  \n",
       " Max.   :1.0000  \n",
       " NA's   :353     "
      ]
     },
     "metadata": {},
     "output_type": "display_data"
    },
    {
     "name": "stdout",
     "output_type": "stream",
     "text": [
      "[1] 2228   21\n"
     ]
    },
    {
     "data": {
      "text/html": [
       "<table class=\"dataframe\">\n",
       "<caption>A data.frame: 6 × 21</caption>\n",
       "<thead>\n",
       "\t<tr><th></th><th scope=col>HAID</th><th scope=col>HenID</th><th scope=col>id</th><th scope=col>MonthInstudy</th><th scope=col>DOAHA</th><th scope=col>IsOFH</th><th scope=col>ExperimentID</th><th scope=col>Is_relocated</th><th scope=col>Is_exp1</th><th scope=col>Is_exp2</th><th scope=col>...</th><th scope=col>early_death</th><th scope=col>time2event</th><th scope=col>DOA</th><th scope=col>proptime_2_Zone</th><th scope=col>proptime_5_Zone</th><th scope=col>VTDperhour</th><th scope=col>mid_cum_Z4_h_Morning</th><th scope=col>chi2distance</th><th scope=col>severity</th><th scope=col>gap</th></tr>\n",
       "\t<tr><th></th><th scope=col>&lt;chr&gt;</th><th scope=col>&lt;fct&gt;</th><th scope=col>&lt;int&gt;</th><th scope=col>&lt;dbl&gt;</th><th scope=col>&lt;int&gt;</th><th scope=col>&lt;int&gt;</th><th scope=col>&lt;chr&gt;</th><th scope=col>&lt;int&gt;</th><th scope=col>&lt;int&gt;</th><th scope=col>&lt;int&gt;</th><th scope=col>...</th><th scope=col>&lt;dbl&gt;</th><th scope=col>&lt;dbl&gt;</th><th scope=col>&lt;dbl&gt;</th><th scope=col>&lt;dbl&gt;</th><th scope=col>&lt;dbl&gt;</th><th scope=col>&lt;dbl&gt;</th><th scope=col>&lt;dbl&gt;</th><th scope=col>&lt;dbl&gt;</th><th scope=col>&lt;dbl&gt;</th><th scope=col>&lt;dbl&gt;</th></tr>\n",
       "</thead>\n",
       "<tbody>\n",
       "\t<tr><th scope=row>1</th><td>created</td><td>EXP2_hen_1 </td><td>1</td><td>0.00</td><td>148</td><td>0</td><td>Exp2</td><td>1</td><td>0</td><td>1</td><td>...</td><td>0</td><td>NA</td><td> NA</td><td>      NA</td><td>      NA</td><td>      NA</td><td>      NA</td><td>       NA</td><td>NA</td><td>NA</td></tr>\n",
       "\t<tr><th scope=row>2</th><td>HA1    </td><td>EXP2_hen_1 </td><td>1</td><td>0.85</td><td>174</td><td>0</td><td>Exp2</td><td>1</td><td>0</td><td>1</td><td>...</td><td>0</td><td> 4</td><td>170</td><td>56.73802</td><td>14.29359</td><td>3.680272</td><td>5.312341</td><td>0.2478436</td><td> 0</td><td> 0</td></tr>\n",
       "\t<tr><th scope=row>3</th><td>HA2    </td><td>EXP2_hen_1 </td><td>1</td><td>3.16</td><td>244</td><td>0</td><td>Exp2</td><td>1</td><td>0</td><td>1</td><td>...</td><td>0</td><td> 4</td><td>240</td><td>65.24008</td><td>11.95238</td><td>5.030612</td><td>4.624683</td><td>0.2946513</td><td> 0</td><td> 0</td></tr>\n",
       "\t<tr><th scope=row>4</th><td>HA3    </td><td>EXP2_hen_1 </td><td>1</td><td>5.23</td><td>307</td><td>0</td><td>Exp2</td><td>1</td><td>0</td><td>1</td><td>...</td><td>0</td><td> 4</td><td>303</td><td>58.90306</td><td>12.99773</td><td>5.112245</td><td>4.937619</td><td>0.2250795</td><td> 1</td><td> 0</td></tr>\n",
       "\t<tr><th scope=row>5</th><td>HA4    </td><td>EXP2_hen_1 </td><td>1</td><td>7.99</td><td>391</td><td>0</td><td>Exp2</td><td>1</td><td>0</td><td>1</td><td>...</td><td>0</td><td> 4</td><td>387</td><td>55.78231</td><td>11.78005</td><td>3.336735</td><td>5.653373</td><td>0.1631886</td><td>18</td><td> 0</td></tr>\n",
       "\t<tr><th scope=row>6</th><td>created</td><td>EXP2_hen_10</td><td>2</td><td>0.00</td><td>148</td><td>0</td><td>Exp2</td><td>1</td><td>0</td><td>1</td><td>...</td><td>0</td><td>NA</td><td> NA</td><td>      NA</td><td>      NA</td><td>      NA</td><td>      NA</td><td>       NA</td><td>NA</td><td>NA</td></tr>\n",
       "</tbody>\n",
       "</table>\n"
      ],
      "text/latex": [
       "A data.frame: 6 × 21\n",
       "\\begin{tabular}{r|lllllllllllllllllllll}\n",
       "  & HAID & HenID & id & MonthInstudy & DOAHA & IsOFH & ExperimentID & Is\\_relocated & Is\\_exp1 & Is\\_exp2 & ... & early\\_death & time2event & DOA & proptime\\_2\\_Zone & proptime\\_5\\_Zone & VTDperhour & mid\\_cum\\_Z4\\_h\\_Morning & chi2distance & severity & gap\\\\\n",
       "  & <chr> & <fct> & <int> & <dbl> & <int> & <int> & <chr> & <int> & <int> & <int> & ... & <dbl> & <dbl> & <dbl> & <dbl> & <dbl> & <dbl> & <dbl> & <dbl> & <dbl> & <dbl>\\\\\n",
       "\\hline\n",
       "\t1 & created & EXP2\\_hen\\_1  & 1 & 0.00 & 148 & 0 & Exp2 & 1 & 0 & 1 & ... & 0 & NA &  NA &       NA &       NA &       NA &       NA &        NA & NA & NA\\\\\n",
       "\t2 & HA1     & EXP2\\_hen\\_1  & 1 & 0.85 & 174 & 0 & Exp2 & 1 & 0 & 1 & ... & 0 &  4 & 170 & 56.73802 & 14.29359 & 3.680272 & 5.312341 & 0.2478436 &  0 &  0\\\\\n",
       "\t3 & HA2     & EXP2\\_hen\\_1  & 1 & 3.16 & 244 & 0 & Exp2 & 1 & 0 & 1 & ... & 0 &  4 & 240 & 65.24008 & 11.95238 & 5.030612 & 4.624683 & 0.2946513 &  0 &  0\\\\\n",
       "\t4 & HA3     & EXP2\\_hen\\_1  & 1 & 5.23 & 307 & 0 & Exp2 & 1 & 0 & 1 & ... & 0 &  4 & 303 & 58.90306 & 12.99773 & 5.112245 & 4.937619 & 0.2250795 &  1 &  0\\\\\n",
       "\t5 & HA4     & EXP2\\_hen\\_1  & 1 & 7.99 & 391 & 0 & Exp2 & 1 & 0 & 1 & ... & 0 &  4 & 387 & 55.78231 & 11.78005 & 3.336735 & 5.653373 & 0.1631886 & 18 &  0\\\\\n",
       "\t6 & created & EXP2\\_hen\\_10 & 2 & 0.00 & 148 & 0 & Exp2 & 1 & 0 & 1 & ... & 0 & NA &  NA &       NA &       NA &       NA &       NA &        NA & NA & NA\\\\\n",
       "\\end{tabular}\n"
      ],
      "text/markdown": [
       "\n",
       "A data.frame: 6 × 21\n",
       "\n",
       "| <!--/--> | HAID &lt;chr&gt; | HenID &lt;fct&gt; | id &lt;int&gt; | MonthInstudy &lt;dbl&gt; | DOAHA &lt;int&gt; | IsOFH &lt;int&gt; | ExperimentID &lt;chr&gt; | Is_relocated &lt;int&gt; | Is_exp1 &lt;int&gt; | Is_exp2 &lt;int&gt; | ... ... | early_death &lt;dbl&gt; | time2event &lt;dbl&gt; | DOA &lt;dbl&gt; | proptime_2_Zone &lt;dbl&gt; | proptime_5_Zone &lt;dbl&gt; | VTDperhour &lt;dbl&gt; | mid_cum_Z4_h_Morning &lt;dbl&gt; | chi2distance &lt;dbl&gt; | severity &lt;dbl&gt; | gap &lt;dbl&gt; |\n",
       "|---|---|---|---|---|---|---|---|---|---|---|---|---|---|---|---|---|---|---|---|---|---|\n",
       "| 1 | created | EXP2_hen_1  | 1 | 0.00 | 148 | 0 | Exp2 | 1 | 0 | 1 | ... | 0 | NA |  NA |       NA |       NA |       NA |       NA |        NA | NA | NA |\n",
       "| 2 | HA1     | EXP2_hen_1  | 1 | 0.85 | 174 | 0 | Exp2 | 1 | 0 | 1 | ... | 0 |  4 | 170 | 56.73802 | 14.29359 | 3.680272 | 5.312341 | 0.2478436 |  0 |  0 |\n",
       "| 3 | HA2     | EXP2_hen_1  | 1 | 3.16 | 244 | 0 | Exp2 | 1 | 0 | 1 | ... | 0 |  4 | 240 | 65.24008 | 11.95238 | 5.030612 | 4.624683 | 0.2946513 |  0 |  0 |\n",
       "| 4 | HA3     | EXP2_hen_1  | 1 | 5.23 | 307 | 0 | Exp2 | 1 | 0 | 1 | ... | 0 |  4 | 303 | 58.90306 | 12.99773 | 5.112245 | 4.937619 | 0.2250795 |  1 |  0 |\n",
       "| 5 | HA4     | EXP2_hen_1  | 1 | 7.99 | 391 | 0 | Exp2 | 1 | 0 | 1 | ... | 0 |  4 | 387 | 55.78231 | 11.78005 | 3.336735 | 5.653373 | 0.1631886 | 18 |  0 |\n",
       "| 6 | created | EXP2_hen_10 | 2 | 0.00 | 148 | 0 | Exp2 | 1 | 0 | 1 | ... | 0 | NA |  NA |       NA |       NA |       NA |       NA |        NA | NA | NA |\n",
       "\n"
      ],
      "text/plain": [
       "  HAID    HenID       id MonthInstudy DOAHA IsOFH ExperimentID Is_relocated\n",
       "1 created EXP2_hen_1  1  0.00         148   0     Exp2         1           \n",
       "2 HA1     EXP2_hen_1  1  0.85         174   0     Exp2         1           \n",
       "3 HA2     EXP2_hen_1  1  3.16         244   0     Exp2         1           \n",
       "4 HA3     EXP2_hen_1  1  5.23         307   0     Exp2         1           \n",
       "5 HA4     EXP2_hen_1  1  7.99         391   0     Exp2         1           \n",
       "6 created EXP2_hen_10 2  0.00         148   0     Exp2         1           \n",
       "  Is_exp1 Is_exp2 ... early_death time2event DOA proptime_2_Zone\n",
       "1 0       1       ... 0           NA          NA       NA       \n",
       "2 0       1       ... 0            4         170 56.73802       \n",
       "3 0       1       ... 0            4         240 65.24008       \n",
       "4 0       1       ... 0            4         303 58.90306       \n",
       "5 0       1       ... 0            4         387 55.78231       \n",
       "6 0       1       ... 0           NA          NA       NA       \n",
       "  proptime_5_Zone VTDperhour mid_cum_Z4_h_Morning chi2distance severity gap\n",
       "1       NA              NA         NA                    NA    NA       NA \n",
       "2 14.29359        3.680272   5.312341             0.2478436     0        0 \n",
       "3 11.95238        5.030612   4.624683             0.2946513     0        0 \n",
       "4 12.99773        5.112245   4.937619             0.2250795     1        0 \n",
       "5 11.78005        3.336735   5.653373             0.1631886    18        0 \n",
       "6       NA              NA         NA                    NA    NA       NA "
      ]
     },
     "metadata": {},
     "output_type": "display_data"
    }
   ],
   "source": [
    "path_save = file.path('LongformatModels')\n",
    "dir.create(path_save)\n",
    "df = read.csv('df_longformatALL.csv', header = TRUE, sep = \",\")\n",
    "df$HenID = as.factor(df$HenID)   \n",
    "#df$ExperimentID = as.factor(df$ExperimentID)   \n",
    "#tme is for now week of age\n",
    "summary(df)\n",
    "print(dim(df))\n",
    "head(df)\n",
    "#describe(df)"
   ]
  },
  {
   "cell_type": "code",
   "execution_count": 43,
   "id": "e12a3828",
   "metadata": {},
   "outputs": [
    {
     "data": {
      "text/html": [
       "<style>\n",
       ".list-inline {list-style: none; margin:0; padding: 0}\n",
       ".list-inline>li {display: inline-block}\n",
       ".list-inline>li:not(:last-child)::after {content: \"\\00b7\"; padding: 0 .5ex}\n",
       "</style>\n",
       "<ol class=list-inline><li>'created'</li><li>'HA1'</li><li>'HA2'</li><li>'HA3'</li><li>'HA4'</li><li>'HA5'</li><li>'HA1A'</li><li>'HA2A'</li><li>'HA3A'</li><li>'HA4A'</li><li>'HA5A'</li><li>'HA6A'</li><li>'HA7A'</li><li>'HA8A'</li><li>'HA9A'</li><li>'HA10A'</li><li>'HA11A'</li><li>'HA1B'</li><li>'HA2B'</li><li>'HA3B'</li><li>'HA4B'</li><li>'HA5B'</li><li>'HA6B'</li><li>'HA7B'</li><li>'HA8B'</li><li>'HA9B'</li><li>'HA11B'</li><li>'HA10B'</li></ol>\n"
      ],
      "text/latex": [
       "\\begin{enumerate*}\n",
       "\\item 'created'\n",
       "\\item 'HA1'\n",
       "\\item 'HA2'\n",
       "\\item 'HA3'\n",
       "\\item 'HA4'\n",
       "\\item 'HA5'\n",
       "\\item 'HA1A'\n",
       "\\item 'HA2A'\n",
       "\\item 'HA3A'\n",
       "\\item 'HA4A'\n",
       "\\item 'HA5A'\n",
       "\\item 'HA6A'\n",
       "\\item 'HA7A'\n",
       "\\item 'HA8A'\n",
       "\\item 'HA9A'\n",
       "\\item 'HA10A'\n",
       "\\item 'HA11A'\n",
       "\\item 'HA1B'\n",
       "\\item 'HA2B'\n",
       "\\item 'HA3B'\n",
       "\\item 'HA4B'\n",
       "\\item 'HA5B'\n",
       "\\item 'HA6B'\n",
       "\\item 'HA7B'\n",
       "\\item 'HA8B'\n",
       "\\item 'HA9B'\n",
       "\\item 'HA11B'\n",
       "\\item 'HA10B'\n",
       "\\end{enumerate*}\n"
      ],
      "text/markdown": [
       "1. 'created'\n",
       "2. 'HA1'\n",
       "3. 'HA2'\n",
       "4. 'HA3'\n",
       "5. 'HA4'\n",
       "6. 'HA5'\n",
       "7. 'HA1A'\n",
       "8. 'HA2A'\n",
       "9. 'HA3A'\n",
       "10. 'HA4A'\n",
       "11. 'HA5A'\n",
       "12. 'HA6A'\n",
       "13. 'HA7A'\n",
       "14. 'HA8A'\n",
       "15. 'HA9A'\n",
       "16. 'HA10A'\n",
       "17. 'HA11A'\n",
       "18. 'HA1B'\n",
       "19. 'HA2B'\n",
       "20. 'HA3B'\n",
       "21. 'HA4B'\n",
       "22. 'HA5B'\n",
       "23. 'HA6B'\n",
       "24. 'HA7B'\n",
       "25. 'HA8B'\n",
       "26. 'HA9B'\n",
       "27. 'HA11B'\n",
       "28. 'HA10B'\n",
       "\n",
       "\n"
      ],
      "text/plain": [
       " [1] \"created\" \"HA1\"     \"HA2\"     \"HA3\"     \"HA4\"     \"HA5\"     \"HA1A\"   \n",
       " [8] \"HA2A\"    \"HA3A\"    \"HA4A\"    \"HA5A\"    \"HA6A\"    \"HA7A\"    \"HA8A\"   \n",
       "[15] \"HA9A\"    \"HA10A\"   \"HA11A\"   \"HA1B\"    \"HA2B\"    \"HA3B\"    \"HA4B\"   \n",
       "[22] \"HA5B\"    \"HA6B\"    \"HA7B\"    \"HA8B\"    \"HA9B\"    \"HA11B\"   \"HA10B\"  "
      ]
     },
     "metadata": {},
     "output_type": "display_data"
    }
   ],
   "source": [
    "unique(df$HAID)"
   ]
  },
  {
   "cell_type": "code",
   "execution_count": 44,
   "id": "0baec775",
   "metadata": {},
   "outputs": [
    {
     "data": {
      "text/html": [
       "<style>\n",
       ".list-inline {list-style: none; margin:0; padding: 0}\n",
       ".list-inline>li {display: inline-block}\n",
       ".list-inline>li:not(:last-child)::after {content: \"\\00b7\"; padding: 0 .5ex}\n",
       "</style>\n",
       "<ol class=list-inline><li>'HAID'</li><li>'HenID'</li><li>'id'</li><li>'MonthInstudy'</li><li>'DOAHA'</li><li>'IsOFH'</li><li>'ExperimentID'</li><li>'Is_relocated'</li><li>'Is_exp1'</li><li>'Is_exp2'</li><li>'Is_exp3'</li><li>'early_death'</li><li>'time2event'</li><li>'DOA'</li><li>'proptime_2_Zone'</li><li>'proptime_5_Zone'</li><li>'VTDperhour'</li><li>'mid_cum_Z4_h_Morning'</li><li>'chi2distance'</li><li>'severity'</li><li>'gap'</li></ol>\n"
      ],
      "text/latex": [
       "\\begin{enumerate*}\n",
       "\\item 'HAID'\n",
       "\\item 'HenID'\n",
       "\\item 'id'\n",
       "\\item 'MonthInstudy'\n",
       "\\item 'DOAHA'\n",
       "\\item 'IsOFH'\n",
       "\\item 'ExperimentID'\n",
       "\\item 'Is\\_relocated'\n",
       "\\item 'Is\\_exp1'\n",
       "\\item 'Is\\_exp2'\n",
       "\\item 'Is\\_exp3'\n",
       "\\item 'early\\_death'\n",
       "\\item 'time2event'\n",
       "\\item 'DOA'\n",
       "\\item 'proptime\\_2\\_Zone'\n",
       "\\item 'proptime\\_5\\_Zone'\n",
       "\\item 'VTDperhour'\n",
       "\\item 'mid\\_cum\\_Z4\\_h\\_Morning'\n",
       "\\item 'chi2distance'\n",
       "\\item 'severity'\n",
       "\\item 'gap'\n",
       "\\end{enumerate*}\n"
      ],
      "text/markdown": [
       "1. 'HAID'\n",
       "2. 'HenID'\n",
       "3. 'id'\n",
       "4. 'MonthInstudy'\n",
       "5. 'DOAHA'\n",
       "6. 'IsOFH'\n",
       "7. 'ExperimentID'\n",
       "8. 'Is_relocated'\n",
       "9. 'Is_exp1'\n",
       "10. 'Is_exp2'\n",
       "11. 'Is_exp3'\n",
       "12. 'early_death'\n",
       "13. 'time2event'\n",
       "14. 'DOA'\n",
       "15. 'proptime_2_Zone'\n",
       "16. 'proptime_5_Zone'\n",
       "17. 'VTDperhour'\n",
       "18. 'mid_cum_Z4_h_Morning'\n",
       "19. 'chi2distance'\n",
       "20. 'severity'\n",
       "21. 'gap'\n",
       "\n",
       "\n"
      ],
      "text/plain": [
       " [1] \"HAID\"                 \"HenID\"                \"id\"                  \n",
       " [4] \"MonthInstudy\"         \"DOAHA\"                \"IsOFH\"               \n",
       " [7] \"ExperimentID\"         \"Is_relocated\"         \"Is_exp1\"             \n",
       "[10] \"Is_exp2\"              \"Is_exp3\"              \"early_death\"         \n",
       "[13] \"time2event\"           \"DOA\"                  \"proptime_2_Zone\"     \n",
       "[16] \"proptime_5_Zone\"      \"VTDperhour\"           \"mid_cum_Z4_h_Morning\"\n",
       "[19] \"chi2distance\"         \"severity\"             \"gap\"                 "
      ]
     },
     "metadata": {},
     "output_type": "display_data"
    }
   ],
   "source": [
    "colnames(df)"
   ]
  },
  {
   "cell_type": "markdown",
   "id": "98c550a1",
   "metadata": {
    "scrolled": true
   },
   "source": [
    "#repeated measures correlations #TODO once all good: make sure its bootstrap!\n",
    "v1 = rmcorr(HenID, severity, VTDperhour, data = df, CIs=\"bootstrap\")\n",
    "v2 = rmcorr(HenID, severity, proptime_2_Zone, data = df, CIs=\"bootstrap\")\n",
    "v3 = rmcorr(HenID, severity, proptime_5_Zone, data = df,CIs=\"bootstrap\") #bstrap.out=T,\n",
    "\n",
    "v1\n",
    "plot(v1)\n",
    "\n",
    "v2\n",
    "plot(v2)\n",
    "\n",
    "v3\n",
    "plot(v3)"
   ]
  },
  {
   "cell_type": "code",
   "execution_count": 45,
   "id": "fa63e1c8",
   "metadata": {},
   "outputs": [
    {
     "data": {
      "image/png": "[encoded data removed]",
      "text/plain": [
       "Plot with title \"Histogram of df$VTDperhour\""
      ]
     },
     "metadata": {
      "image/png": {
       "height": 420,
       "width": 420
      }
     },
     "output_type": "display_data"
    }
   ],
   "source": [
    "#TODO once all good: add R if we want\n",
    "hist(df$VTDperhour)"
   ]
  },
  {
   "cell_type": "code",
   "execution_count": 46,
   "id": "883d074f",
   "metadata": {},
   "outputs": [],
   "source": [
    "#TODO on final model, only relevant when optimize=FALSE, \n",
    "iter_ = 2000 \n",
    "chains_ = 2 \n",
    "bool_optimize = TRUE #documentation FALSE: \"which also mean intoverpop will be set to FALSE automatically and therefore we integrates over \n",
    "#full sampling rather than population distribution of parameters\"\n",
    "#number of cpu cores to use to speed up\n",
    "cores_ = 5 \n",
    "folds_ = 3"
   ]
  },
  {
   "cell_type": "markdown",
   "id": "4c5b907a",
   "metadata": {},
   "source": [
    "# Hierarchical Bayesian continuous time dynamic model - VTD & KBF severity"
   ]
  },
  {
   "cell_type": "code",
   "execution_count": 47,
   "id": "94bafd34",
   "metadata": {},
   "outputs": [
    {
     "data": {
      "text/html": [
       "<table class=\"dataframe\">\n",
       "<caption>A data.frame: 2 × 6</caption>\n",
       "<thead>\n",
       "\t<tr><th></th><th scope=col>IsOFH</th><th scope=col>ExperimentID</th><th scope=col>Is_relocated</th><th scope=col>Is_exp1</th><th scope=col>Is_exp2</th><th scope=col>Is_exp3</th></tr>\n",
       "\t<tr><th></th><th scope=col>&lt;int&gt;</th><th scope=col>&lt;chr&gt;</th><th scope=col>&lt;int&gt;</th><th scope=col>&lt;int&gt;</th><th scope=col>&lt;int&gt;</th><th scope=col>&lt;int&gt;</th></tr>\n",
       "</thead>\n",
       "<tbody>\n",
       "\t<tr><th scope=row>1</th><td>0</td><td>Exp2</td><td>1</td><td>0</td><td>1</td><td>0</td></tr>\n",
       "\t<tr><th scope=row>2</th><td>0</td><td>Exp2</td><td>1</td><td>0</td><td>1</td><td>0</td></tr>\n",
       "</tbody>\n",
       "</table>\n"
      ],
      "text/latex": [
       "A data.frame: 2 × 6\n",
       "\\begin{tabular}{r|llllll}\n",
       "  & IsOFH & ExperimentID & Is\\_relocated & Is\\_exp1 & Is\\_exp2 & Is\\_exp3\\\\\n",
       "  & <int> & <chr> & <int> & <int> & <int> & <int>\\\\\n",
       "\\hline\n",
       "\t1 & 0 & Exp2 & 1 & 0 & 1 & 0\\\\\n",
       "\t2 & 0 & Exp2 & 1 & 0 & 1 & 0\\\\\n",
       "\\end{tabular}\n"
      ],
      "text/markdown": [
       "\n",
       "A data.frame: 2 × 6\n",
       "\n",
       "| <!--/--> | IsOFH &lt;int&gt; | ExperimentID &lt;chr&gt; | Is_relocated &lt;int&gt; | Is_exp1 &lt;int&gt; | Is_exp2 &lt;int&gt; | Is_exp3 &lt;int&gt; |\n",
       "|---|---|---|---|---|---|---|\n",
       "| 1 | 0 | Exp2 | 1 | 0 | 1 | 0 |\n",
       "| 2 | 0 | Exp2 | 1 | 0 | 1 | 0 |\n",
       "\n"
      ],
      "text/plain": [
       "  IsOFH ExperimentID Is_relocated Is_exp1 Is_exp2 Is_exp3\n",
       "1 0     Exp2         1            0       1       0      \n",
       "2 0     Exp2         1            0       1       0      "
      ]
     },
     "metadata": {},
     "output_type": "display_data"
    }
   ],
   "source": [
    "head(df[,c('IsOFH','ExperimentID', 'Is_relocated','Is_exp1','Is_exp2','Is_exp3')],2)"
   ]
  },
  {
   "cell_type": "code",
   "execution_count": 48,
   "id": "0b45d33f",
   "metadata": {
    "scrolled": true
   },
   "outputs": [
    {
     "name": "stderr",
     "output_type": "stream",
     "text": [
      "Warning message in dir.create(path_save_):\n",
      "\"'LongformatModels\\VTD_severity_trend_group' existe déjà\"\n"
     ]
    },
    {
     "data": {
      "text/html": [
       "<style>\n",
       ".list-inline {list-style: none; margin:0; padding: 0}\n",
       ".list-inline>li {display: inline-block}\n",
       ".list-inline>li:not(:last-child)::after {content: \"\\00b7\"; padding: 0 .5ex}\n",
       "</style>\n",
       "<ol class=list-inline><li>1875</li><li>3</li></ol>\n"
      ],
      "text/latex": [
       "\\begin{enumerate*}\n",
       "\\item 1875\n",
       "\\item 3\n",
       "\\end{enumerate*}\n"
      ],
      "text/markdown": [
       "1. 1875\n",
       "2. 3\n",
       "\n",
       "\n"
      ],
      "text/plain": [
       "[1] 1875    3"
      ]
     },
     "metadata": {},
     "output_type": "display_data"
    },
    {
     "data": {
      "text/html": [
       "<table class=\"dataframe\">\n",
       "<caption>A matrix: 3 × 3 of type dbl</caption>\n",
       "<thead>\n",
       "\t<tr><th></th><th scope=col>time</th><th scope=col>Y1</th><th scope=col>Y2</th></tr>\n",
       "</thead>\n",
       "<tbody>\n",
       "\t<tr><th scope=row>time</th><td> 1.00</td><td> 0.51</td><td>-0.17</td></tr>\n",
       "\t<tr><th scope=row>Y1</th><td> 0.51</td><td> 1.00</td><td>-0.25</td></tr>\n",
       "\t<tr><th scope=row>Y2</th><td>-0.17</td><td>-0.25</td><td> 1.00</td></tr>\n",
       "</tbody>\n",
       "</table>\n"
      ],
      "text/latex": [
       "A matrix: 3 × 3 of type dbl\n",
       "\\begin{tabular}{r|lll}\n",
       "  & time & Y1 & Y2\\\\\n",
       "\\hline\n",
       "\ttime &  1.00 &  0.51 & -0.17\\\\\n",
       "\tY1 &  0.51 &  1.00 & -0.25\\\\\n",
       "\tY2 & -0.17 & -0.25 &  1.00\\\\\n",
       "\\end{tabular}\n"
      ],
      "text/markdown": [
       "\n",
       "A matrix: 3 × 3 of type dbl\n",
       "\n",
       "| <!--/--> | time | Y1 | Y2 |\n",
       "|---|---|---|---|\n",
       "| time |  1.00 |  0.51 | -0.17 |\n",
       "| Y1 |  0.51 |  1.00 | -0.25 |\n",
       "| Y2 | -0.17 | -0.25 |  1.00 |\n",
       "\n"
      ],
      "text/plain": [
       "     time  Y1    Y2   \n",
       "time  1.00  0.51 -0.17\n",
       "Y1    0.51  1.00 -0.25\n",
       "Y2   -0.17 -0.25  1.00"
      ]
     },
     "metadata": {},
     "output_type": "display_data"
    },
    {
     "data": {
      "text/html": [
       "<table class=\"dataframe\">\n",
       "<caption>A matrix: 3 × 3 of type dbl</caption>\n",
       "<thead>\n",
       "\t<tr><th></th><th scope=col>time</th><th scope=col>Y1</th><th scope=col>Y2</th></tr>\n",
       "</thead>\n",
       "<tbody>\n",
       "\t<tr><th scope=row>time</th><td> 1.00</td><td> 0.62</td><td>-0.15</td></tr>\n",
       "\t<tr><th scope=row>Y1</th><td> 0.62</td><td> 1.00</td><td>-0.21</td></tr>\n",
       "\t<tr><th scope=row>Y2</th><td>-0.15</td><td>-0.21</td><td> 1.00</td></tr>\n",
       "</tbody>\n",
       "</table>\n"
      ],
      "text/latex": [
       "A matrix: 3 × 3 of type dbl\n",
       "\\begin{tabular}{r|lll}\n",
       "  & time & Y1 & Y2\\\\\n",
       "\\hline\n",
       "\ttime &  1.00 &  0.62 & -0.15\\\\\n",
       "\tY1 &  0.62 &  1.00 & -0.21\\\\\n",
       "\tY2 & -0.15 & -0.21 &  1.00\\\\\n",
       "\\end{tabular}\n"
      ],
      "text/markdown": [
       "\n",
       "A matrix: 3 × 3 of type dbl\n",
       "\n",
       "| <!--/--> | time | Y1 | Y2 |\n",
       "|---|---|---|---|\n",
       "| time |  1.00 |  0.62 | -0.15 |\n",
       "| Y1 |  0.62 |  1.00 | -0.21 |\n",
       "| Y2 | -0.15 | -0.21 |  1.00 |\n",
       "\n"
      ],
      "text/plain": [
       "     time  Y1    Y2   \n",
       "time  1.00  0.62 -0.15\n",
       "Y1    0.62  1.00 -0.21\n",
       "Y2   -0.15 -0.21  1.00"
      ]
     },
     "metadata": {},
     "output_type": "display_data"
    },
    {
     "data": {
      "text/html": [
       "<style>\n",
       ".list-inline {list-style: none; margin:0; padding: 0}\n",
       ".list-inline>li {display: inline-block}\n",
       ".list-inline>li:not(:last-child)::after {content: \"\\00b7\"; padding: 0 .5ex}\n",
       "</style>\n",
       "<ol class=list-inline><li>2228</li><li>5</li></ol>\n"
      ],
      "text/latex": [
       "\\begin{enumerate*}\n",
       "\\item 2228\n",
       "\\item 5\n",
       "\\end{enumerate*}\n"
      ],
      "text/markdown": [
       "1. 2228\n",
       "2. 5\n",
       "\n",
       "\n"
      ],
      "text/plain": [
       "[1] 2228    5"
      ]
     },
     "metadata": {},
     "output_type": "display_data"
    },
    {
     "data": {
      "text/html": [
       "<table class=\"dataframe\">\n",
       "<caption>A data.frame: 2 × 5</caption>\n",
       "<thead>\n",
       "\t<tr><th></th><th scope=col>id</th><th scope=col>time</th><th scope=col>Y1</th><th scope=col>Y2</th><th scope=col>ExperimentID</th></tr>\n",
       "\t<tr><th></th><th scope=col>&lt;int&gt;</th><th scope=col>&lt;dbl&gt;</th><th scope=col>&lt;dbl&gt;</th><th scope=col>&lt;dbl&gt;</th><th scope=col>&lt;chr&gt;</th></tr>\n",
       "</thead>\n",
       "<tbody>\n",
       "\t<tr><th scope=row>1</th><td>1</td><td>0.00</td><td>       NA</td><td>         NA</td><td>Exp2</td></tr>\n",
       "\t<tr><th scope=row>2</th><td>1</td><td>0.85</td><td>-0.931354</td><td>-0.09099543</td><td>Exp2</td></tr>\n",
       "</tbody>\n",
       "</table>\n"
      ],
      "text/latex": [
       "A data.frame: 2 × 5\n",
       "\\begin{tabular}{r|lllll}\n",
       "  & id & time & Y1 & Y2 & ExperimentID\\\\\n",
       "  & <int> & <dbl> & <dbl> & <dbl> & <chr>\\\\\n",
       "\\hline\n",
       "\t1 & 1 & 0.00 &        NA &          NA & Exp2\\\\\n",
       "\t2 & 1 & 0.85 & -0.931354 & -0.09099543 & Exp2\\\\\n",
       "\\end{tabular}\n"
      ],
      "text/markdown": [
       "\n",
       "A data.frame: 2 × 5\n",
       "\n",
       "| <!--/--> | id &lt;int&gt; | time &lt;dbl&gt; | Y1 &lt;dbl&gt; | Y2 &lt;dbl&gt; | ExperimentID &lt;chr&gt; |\n",
       "|---|---|---|---|---|---|\n",
       "| 1 | 1 | 0.00 |        NA |          NA | Exp2 |\n",
       "| 2 | 1 | 0.85 | -0.931354 | -0.09099543 | Exp2 |\n",
       "\n"
      ],
      "text/plain": [
       "  id time Y1        Y2          ExperimentID\n",
       "1 1  0.00        NA          NA Exp2        \n",
       "2 1  0.85 -0.931354 -0.09099543 Exp2        "
      ]
     },
     "metadata": {},
     "output_type": "display_data"
    },
    {
     "data": {
      "text/plain": [
       "       id             time             Y1                Y2         \n",
       " Min.   :  1.0   Min.   :0.000   Min.   :-0.9314   Min.   :-2.1331  \n",
       " 1st Qu.:113.8   1st Qu.:0.820   1st Qu.:-0.8919   1st Qu.:-0.6599  \n",
       " Median :220.0   Median :3.120   Median :-0.3003   Median :-0.0343  \n",
       " Mean   :211.0   Mean   :3.511   Mean   : 0.0000   Mean   : 0.0000  \n",
       " 3rd Qu.:320.2   3rd Qu.:5.420   3rd Qu.: 0.5674   3rd Qu.: 0.5810  \n",
       " Max.   :372.0   Max.   :9.500   Max.   : 3.0128   Max.   : 6.3906  \n",
       "                                 NA's   :353       NA's   :353      \n",
       " ExperimentID      \n",
       " Length:2228       \n",
       " Class :character  \n",
       " Mode  :character  \n",
       "                   \n",
       "                   \n",
       "                   \n",
       "                   "
      ]
     },
     "metadata": {},
     "output_type": "display_data"
    },
    {
     "name": "stdout",
     "output_type": "stream",
     "text": [
      "'data.frame':\t2228 obs. of  5 variables:\n",
      " $ id          : int  1 1 1 1 1 2 2 2 2 2 ...\n",
      " $ time        : num  0 0.85 3.16 5.23 7.99 0 0.85 3.16 5.23 7.99 ...\n",
      " $ Y1          : num  NA -0.931 -0.931 -0.892 -0.221 ...\n",
      " $ Y2          : num  NA -0.091 0.667 0.713 -0.284 ...\n",
      " $ ExperimentID: chr  \"Exp2\" \"Exp2\" \"Exp2\" \"Exp2\" ...\n"
     ]
    }
   ],
   "source": [
    "############ TEST SENSITIVTY TO EXPERIMENTS\n",
    "#name = 'VTD_severity_MonthInstudyPerInd'\n",
    "#dim(df)\n",
    "#data_mvtha = subset(df, df$ExperimentID!='Exp2')\n",
    "#dim(data_mvtha)\n",
    "#data_mvtha = data_mvtha %>% select (id, MonthInstudyPerInd, severity, VTDperhour)\n",
    "#data_mvtha = plyr::rename(data_mvtha, c('MonthInstudyPerInd'='time',\"severity\"=\"Y1\", \"VTDperhour\"=\"Y2\"))\n",
    "\n",
    "############ \n",
    "#initialise what we want\n",
    "name = 'VTD_severity_trend_group'\n",
    "#data_mvtha = subset(df,df$HAID!='created')\n",
    "#data_mvtha = data_mvtha %>% select (id, MonthInstudy, severity, VTDperhour)\n",
    "data_mvtha = df %>% select (id, MonthInstudy, severity, VTDperhour, ExperimentID)\n",
    "data_mvtha = plyr::rename(data_mvtha, c('MonthInstudy'='time',\"severity\"=\"Y1\", \"VTDperhour\"=\"Y2\"))\n",
    "#data_mvtha$Y1 = sqrt(data_mvtha$Y1)\n",
    "\n",
    "#create directory\n",
    "path_save_ = file.path(path_save,name)\n",
    "dir.create(path_save_)\n",
    "#convert into double (integer leads to warning as Y1 and Y2 are double)\n",
    "#without centered TI: we get a warning: \"Uncentered TI predictors noted -- interpretability may be hindered and default priors \n",
    "#may not be appropriate\"\n",
    "#centering and scaling variables in the model\n",
    "li_sc = c('Y1','Y2')\n",
    "data_mvtha[,li_sc] = scale(data_mvtha[,li_sc]) \n",
    "#warning if we have double and integer, and as Y1 and Y2 are double, let set them all\n",
    "data_mvtha[li_sc] = sapply(data_mvtha[li_sc],as.double)\n",
    "#pearson correlation\n",
    "df_ = na.omit(data_mvtha[,c('time','Y1', \"Y2\")])\n",
    "dim(df_)\n",
    "round(cor(df_[,c('time','Y1', \"Y2\")], method = c(\"pearson\")), 2)\n",
    "round(cor(df_[,c('time','Y1', \"Y2\")], method = c(\"spearman\")), 2)\n",
    "#show info\n",
    "dim(data_mvtha)\n",
    "head(data_mvtha,2)\n",
    "summary(data_mvtha)\n",
    "str(data_mvtha)"
   ]
  },
  {
   "cell_type": "code",
   "execution_count": 49,
   "id": "2e23a7a5",
   "metadata": {},
   "outputs": [
    {
     "data": {
      "text/html": [
       "<table class=\"dataframe\">\n",
       "<caption>A matrix: 6 × 6 of type chr</caption>\n",
       "<tbody>\n",
       "\t<tr><td>0</td><td>0</td><td>0</td><td>0</td><td>0                  </td><td>0           </td></tr>\n",
       "\t<tr><td>0</td><td>0</td><td>0</td><td>0</td><td>0                  </td><td>0           </td></tr>\n",
       "\t<tr><td>0</td><td>0</td><td>0</td><td>0</td><td>0                  </td><td>0           </td></tr>\n",
       "\t<tr><td>0</td><td>0</td><td>0</td><td>0</td><td>0                  </td><td>0           </td></tr>\n",
       "\t<tr><td>0</td><td>0</td><td>0</td><td>0</td><td>diffu_dynKBF       </td><td>0           </td></tr>\n",
       "\t<tr><td>0</td><td>0</td><td>0</td><td>0</td><td>diffu_dynVTD_dynKBF</td><td>diffu_dynVTD</td></tr>\n",
       "</tbody>\n",
       "</table>\n"
      ],
      "text/latex": [
       "A matrix: 6 × 6 of type chr\n",
       "\\begin{tabular}{llllll}\n",
       "\t 0 & 0 & 0 & 0 & 0                   & 0           \\\\\n",
       "\t 0 & 0 & 0 & 0 & 0                   & 0           \\\\\n",
       "\t 0 & 0 & 0 & 0 & 0                   & 0           \\\\\n",
       "\t 0 & 0 & 0 & 0 & 0                   & 0           \\\\\n",
       "\t 0 & 0 & 0 & 0 & diffu\\_dynKBF        & 0           \\\\\n",
       "\t 0 & 0 & 0 & 0 & diffu\\_dynVTD\\_dynKBF & diffu\\_dynVTD\\\\\n",
       "\\end{tabular}\n"
      ],
      "text/markdown": [
       "\n",
       "A matrix: 6 × 6 of type chr\n",
       "\n",
       "| 0 | 0 | 0 | 0 | 0                   | 0            |\n",
       "| 0 | 0 | 0 | 0 | 0                   | 0            |\n",
       "| 0 | 0 | 0 | 0 | 0                   | 0            |\n",
       "| 0 | 0 | 0 | 0 | 0                   | 0            |\n",
       "| 0 | 0 | 0 | 0 | diffu_dynKBF        | 0            |\n",
       "| 0 | 0 | 0 | 0 | diffu_dynVTD_dynKBF | diffu_dynVTD |\n",
       "\n"
      ],
      "text/plain": [
       "     [,1] [,2] [,3] [,4] [,5]                [,6]        \n",
       "[1,] 0    0    0    0    0                   0           \n",
       "[2,] 0    0    0    0    0                   0           \n",
       "[3,] 0    0    0    0    0                   0           \n",
       "[4,] 0    0    0    0    0                   0           \n",
       "[5,] 0    0    0    0    diffu_dynKBF        0           \n",
       "[6,] 0    0    0    0    diffu_dynVTD_dynKBF diffu_dynVTD"
      ]
     },
     "metadata": {},
     "output_type": "display_data"
    }
   ],
   "source": [
    "Mdiffu = matrix(c(0,0,0,0,0,0,\n",
    "              0,0,0,0,0,0,\n",
    "              0,0,0,0,0,0,\n",
    "              0,0,0,0,0,0,\n",
    "              0,0,0,0,'diffu_dynKBF','diffu_dynVTD_dynKBF',\n",
    "              0,0,0,0,0,'diffu_dynVTD'), ncol = 6)\n",
    "Mdiffu"
   ]
  },
  {
   "cell_type": "code",
   "execution_count": 50,
   "id": "7d0bb7b1",
   "metadata": {},
   "outputs": [
    {
     "data": {
      "text/html": [
       "<table class=\"dataframe\">\n",
       "<caption>A matrix: 6 × 6 of type chr</caption>\n",
       "<tbody>\n",
       "\t<tr><td>T0var_KBF        </td><td>0                </td><td>0                    </td><td>0            </td><td>0</td><td>0</td></tr>\n",
       "\t<tr><td>T0var_VTD_KBF    </td><td>T0var_VTD        </td><td>0                    </td><td>0            </td><td>0</td><td>0</td></tr>\n",
       "\t<tr><td>T0var_cintKBF_KBF</td><td>T0var_cintKBF_VTD</td><td>T0var_cintKBF        </td><td>0            </td><td>0</td><td>0</td></tr>\n",
       "\t<tr><td>T0var_cintVTD_KBF</td><td>T0var_cintVTD_VTD</td><td>T0var_cintVTD_cintKBF</td><td>T0var_cintVTD</td><td>0</td><td>0</td></tr>\n",
       "\t<tr><td>0                </td><td>0                </td><td>0                    </td><td>0            </td><td>0</td><td>0</td></tr>\n",
       "\t<tr><td>0                </td><td>0                </td><td>0                    </td><td>0            </td><td>0</td><td>0</td></tr>\n",
       "</tbody>\n",
       "</table>\n"
      ],
      "text/latex": [
       "A matrix: 6 × 6 of type chr\n",
       "\\begin{tabular}{llllll}\n",
       "\t T0var\\_KBF         & 0                 & 0                     & 0             & 0 & 0\\\\\n",
       "\t T0var\\_VTD\\_KBF     & T0var\\_VTD         & 0                     & 0             & 0 & 0\\\\\n",
       "\t T0var\\_cintKBF\\_KBF & T0var\\_cintKBF\\_VTD & T0var\\_cintKBF         & 0             & 0 & 0\\\\\n",
       "\t T0var\\_cintVTD\\_KBF & T0var\\_cintVTD\\_VTD & T0var\\_cintVTD\\_cintKBF & T0var\\_cintVTD & 0 & 0\\\\\n",
       "\t 0                 & 0                 & 0                     & 0             & 0 & 0\\\\\n",
       "\t 0                 & 0                 & 0                     & 0             & 0 & 0\\\\\n",
       "\\end{tabular}\n"
      ],
      "text/markdown": [
       "\n",
       "A matrix: 6 × 6 of type chr\n",
       "\n",
       "| T0var_KBF         | 0                 | 0                     | 0             | 0 | 0 |\n",
       "| T0var_VTD_KBF     | T0var_VTD         | 0                     | 0             | 0 | 0 |\n",
       "| T0var_cintKBF_KBF | T0var_cintKBF_VTD | T0var_cintKBF         | 0             | 0 | 0 |\n",
       "| T0var_cintVTD_KBF | T0var_cintVTD_VTD | T0var_cintVTD_cintKBF | T0var_cintVTD | 0 | 0 |\n",
       "| 0                 | 0                 | 0                     | 0             | 0 | 0 |\n",
       "| 0                 | 0                 | 0                     | 0             | 0 | 0 |\n",
       "\n"
      ],
      "text/plain": [
       "     [,1]              [,2]              [,3]                  [,4]         \n",
       "[1,] T0var_KBF         0                 0                     0            \n",
       "[2,] T0var_VTD_KBF     T0var_VTD         0                     0            \n",
       "[3,] T0var_cintKBF_KBF T0var_cintKBF_VTD T0var_cintKBF         0            \n",
       "[4,] T0var_cintVTD_KBF T0var_cintVTD_VTD T0var_cintVTD_cintKBF T0var_cintVTD\n",
       "[5,] 0                 0                 0                     0            \n",
       "[6,] 0                 0                 0                     0            \n",
       "     [,5] [,6]\n",
       "[1,] 0    0   \n",
       "[2,] 0    0   \n",
       "[3,] 0    0   \n",
       "[4,] 0    0   \n",
       "[5,] 0    0   \n",
       "[6,] 0    0   "
      ]
     },
     "metadata": {},
     "output_type": "display_data"
    }
   ],
   "source": [
    "#\"initial covariance matrices are fixed to zero in many elements such that these new dynamics processes do not interact or \n",
    "#co-vary with the other processes in the system\"\n",
    "Mt0var = matrix(c('T0var_KBF','T0var_VTD_KBF','T0var_cintKBF_KBF','T0var_cintVTD_KBF',0,0,\n",
    "                  0,'T0var_VTD','T0var_cintKBF_VTD','T0var_cintVTD_VTD',0,0,\n",
    "                  0,0,'T0var_cintKBF','T0var_cintVTD_cintKBF',0,0,\n",
    "                  0,0,0,'T0var_cintVTD',0,0,\n",
    "                  0,0,0,0,0,0,\n",
    "                  0,0,0,0,0,0), ncol=6)\n",
    "#TODO: no initial var in the dynamics process as it set to 0 always... correct?\n",
    "Mt0var"
   ]
  },
  {
   "cell_type": "code",
   "execution_count": 51,
   "id": "99ba431f",
   "metadata": {},
   "outputs": [
    {
     "data": {
      "text/html": [
       "<table class=\"dataframe\">\n",
       "<caption>A matrix: 6 × 1 of type chr</caption>\n",
       "<tbody>\n",
       "\t<tr><td>T0m_KBF    </td></tr>\n",
       "\t<tr><td>T0m_VTD    </td></tr>\n",
       "\t<tr><td>T0m_cintKBF</td></tr>\n",
       "\t<tr><td>T0m_cintVTD</td></tr>\n",
       "\t<tr><td>0          </td></tr>\n",
       "\t<tr><td>0          </td></tr>\n",
       "</tbody>\n",
       "</table>\n"
      ],
      "text/latex": [
       "A matrix: 6 × 1 of type chr\n",
       "\\begin{tabular}{l}\n",
       "\t T0m\\_KBF    \\\\\n",
       "\t T0m\\_VTD    \\\\\n",
       "\t T0m\\_cintKBF\\\\\n",
       "\t T0m\\_cintVTD\\\\\n",
       "\t 0          \\\\\n",
       "\t 0          \\\\\n",
       "\\end{tabular}\n"
      ],
      "text/markdown": [
       "\n",
       "A matrix: 6 × 1 of type chr\n",
       "\n",
       "| T0m_KBF     |\n",
       "| T0m_VTD     |\n",
       "| T0m_cintKBF |\n",
       "| T0m_cintVTD |\n",
       "| 0           |\n",
       "| 0           |\n",
       "\n"
      ],
      "text/plain": [
       "     [,1]       \n",
       "[1,] T0m_KBF    \n",
       "[2,] T0m_VTD    \n",
       "[3,] T0m_cintKBF\n",
       "[4,] T0m_cintVTD\n",
       "[5,] 0          \n",
       "[6,] 0          "
      ]
     },
     "metadata": {},
     "output_type": "display_data"
    }
   ],
   "source": [
    "#The initial state and continuous intercept for each dynamical process is set to zero, to ensure that the processes capture \n",
    "#only the fluctuations and not the general trends\n",
    "Mt0means = matrix(c('T0m_KBF','T0m_VTD','T0m_cintKBF','T0m_cintVTD',0,0),ncol=1)\n",
    "Mt0means\n",
    "MCINT = matrix(c(0,0,0,0,0,0),ncol=1)"
   ]
  },
  {
   "cell_type": "code",
   "execution_count": 52,
   "id": "fc1bc5c5",
   "metadata": {},
   "outputs": [
    {
     "data": {
      "text/html": [
       "<table class=\"dataframe\">\n",
       "<caption>A matrix: 6 × 6 of type chr</caption>\n",
       "<tbody>\n",
       "\t<tr><td>drift_KBF</td><td>0        </td><td>1</td><td>0</td><td>0                  </td><td>0                  </td></tr>\n",
       "\t<tr><td>0        </td><td>drift_VTD</td><td>0</td><td>1</td><td>0                  </td><td>0                  </td></tr>\n",
       "\t<tr><td>0        </td><td>0        </td><td>0</td><td>0</td><td>0                  </td><td>0                  </td></tr>\n",
       "\t<tr><td>0        </td><td>0        </td><td>0</td><td>0</td><td>0                  </td><td>0                  </td></tr>\n",
       "\t<tr><td>0        </td><td>0        </td><td>0</td><td>0</td><td>drift_dynKBF       </td><td>drift_dynKBF_dynVTD</td></tr>\n",
       "\t<tr><td>0        </td><td>0        </td><td>0</td><td>0</td><td>drift_dynVTD_dynKBF</td><td>drift_dynVTD       </td></tr>\n",
       "</tbody>\n",
       "</table>\n"
      ],
      "text/latex": [
       "A matrix: 6 × 6 of type chr\n",
       "\\begin{tabular}{llllll}\n",
       "\t drift\\_KBF & 0         & 1 & 0 & 0                   & 0                  \\\\\n",
       "\t 0         & drift\\_VTD & 0 & 1 & 0                   & 0                  \\\\\n",
       "\t 0         & 0         & 0 & 0 & 0                   & 0                  \\\\\n",
       "\t 0         & 0         & 0 & 0 & 0                   & 0                  \\\\\n",
       "\t 0         & 0         & 0 & 0 & drift\\_dynKBF        & drift\\_dynKBF\\_dynVTD\\\\\n",
       "\t 0         & 0         & 0 & 0 & drift\\_dynVTD\\_dynKBF & drift\\_dynVTD       \\\\\n",
       "\\end{tabular}\n"
      ],
      "text/markdown": [
       "\n",
       "A matrix: 6 × 6 of type chr\n",
       "\n",
       "| drift_KBF | 0         | 1 | 0 | 0                   | 0                   |\n",
       "| 0         | drift_VTD | 0 | 1 | 0                   | 0                   |\n",
       "| 0         | 0         | 0 | 0 | 0                   | 0                   |\n",
       "| 0         | 0         | 0 | 0 | 0                   | 0                   |\n",
       "| 0         | 0         | 0 | 0 | drift_dynKBF        | drift_dynKBF_dynVTD |\n",
       "| 0         | 0         | 0 | 0 | drift_dynVTD_dynKBF | drift_dynVTD        |\n",
       "\n"
      ],
      "text/plain": [
       "     [,1]      [,2]      [,3] [,4] [,5]                [,6]               \n",
       "[1,] drift_KBF 0         1    0    0                   0                  \n",
       "[2,] 0         drift_VTD 0    1    0                   0                  \n",
       "[3,] 0         0         0    0    0                   0                  \n",
       "[4,] 0         0         0    0    0                   0                  \n",
       "[5,] 0         0         0    0    drift_dynKBF        drift_dynKBF_dynVTD\n",
       "[6,] 0         0         0    0    drift_dynVTD_dynKBF drift_dynVTD       "
      ]
     },
     "metadata": {},
     "output_type": "display_data"
    }
   ],
   "source": [
    "#\"The auto-effect of the dynamics processes is estimated, setting the speed of the fluctuations\"\n",
    "Mdrift = matrix(c('drift_KBF',0,0,0,0,0,\n",
    "                    0,'drift_VTD',0,0,0,0,\n",
    "                    1,0,0,0,0,0,\n",
    "                    0,1,0,0,0,0,\n",
    "                    0,0,0,0,'drift_dynKBF','drift_dynVTD_dynKBF',\n",
    "                    0,0,0,0,'drift_dynKBF_dynVTD','drift_dynVTD'), ncol = 6)\n",
    "Mdrift"
   ]
  },
  {
   "cell_type": "code",
   "execution_count": 86,
   "id": "ac2a6b49",
   "metadata": {
    "scrolled": true
   },
   "outputs": [],
   "source": [
    "#initialize the model with two latent each with ne manifest variable\n",
    "#LAMBDA: n.manifest*n.latent loading matrix relating latent to manifest variables, with latent process 1:n.latent along the \n",
    "#columns, and manifest variables 1:n.manifest in the rows.\n",
    "#DIFFUSION: lower triangular n.latent*n.latent cholesky matrix of diffusion process variance and covariance (latent error / \n",
    "#dynamic innovation). \"auto\" freely estimates all parameters.\n",
    "set.seed(0)\n",
    "#stanct’ for continuous time or ’standt’ for discrete time\n",
    "model_fit = ctModel(type='stanct', n.manifest=2, n.latent=6, id=\"id\", time=\"time\",\n",
    "                    manifestNames=c('Y1','Y2'), latentNames=c('KBF','VTD','cintKBF','cintVTD','dynKBF','dynVTD'), \n",
    "                    T0MEANS=Mt0means, #initial state of dynamical process set to 0\n",
    "                    T0VAR=Mt0var,\n",
    "                    CINT=MCINT,\n",
    "                    LAMBDA=matrix(c(1,0, \n",
    "                                    0,1,\n",
    "                                    0,0,\n",
    "                                    0,0,\n",
    "                                    1,0,\n",
    "                                    0,1), ncol = 6),  #TODO: why not 1/2 instead of 1 in the entire matrix?\n",
    "                    DRIFT=Mdrift,\n",
    "                    DIFFUSION=Mdiffu) \n",
    "freemodel <- model_fit"
   ]
  },
  {
   "cell_type": "code",
   "execution_count": 54,
   "id": "a38ce620",
   "metadata": {
    "scrolled": true
   },
   "outputs": [
    {
     "data": {
      "text/html": [
       "<table class=\"dataframe\">\n",
       "<caption>A data.frame: 138 × 8</caption>\n",
       "<thead>\n",
       "\t<tr><th></th><th scope=col>matrix</th><th scope=col>row</th><th scope=col>col</th><th scope=col>param</th><th scope=col>value</th><th scope=col>transform</th><th scope=col>indvarying</th><th scope=col>sdscale</th></tr>\n",
       "\t<tr><th></th><th scope=col>&lt;chr&gt;</th><th scope=col>&lt;int&gt;</th><th scope=col>&lt;int&gt;</th><th scope=col>&lt;chr&gt;</th><th scope=col>&lt;dbl&gt;</th><th scope=col>&lt;chr&gt;</th><th scope=col>&lt;lgl&gt;</th><th scope=col>&lt;dbl&gt;</th></tr>\n",
       "</thead>\n",
       "<tbody>\n",
       "\t<tr><th scope=row>1</th><td>T0MEANS</td><td>1</td><td>1</td><td>T0m_KBF    </td><td>NA</td><td>10 * param                            </td><td> TRUE</td><td>1.00</td></tr>\n",
       "\t<tr><th scope=row>2</th><td>T0MEANS</td><td>2</td><td>1</td><td>T0m_VTD    </td><td>NA</td><td>10 * param                            </td><td> TRUE</td><td>1.00</td></tr>\n",
       "\t<tr><th scope=row>3</th><td>T0MEANS</td><td>3</td><td>1</td><td>T0m_cintKBF</td><td>NA</td><td>10 * param                            </td><td> TRUE</td><td>1.00</td></tr>\n",
       "\t<tr><th scope=row>4</th><td>T0MEANS</td><td>4</td><td>1</td><td>T0m_cintVTD</td><td>NA</td><td>10 * param                            </td><td> TRUE</td><td>1.00</td></tr>\n",
       "\t<tr><th scope=row>5</th><td>T0MEANS</td><td>5</td><td>1</td><td>NA         </td><td> 0</td><td>NA                                    </td><td> TRUE</td><td>  NA</td></tr>\n",
       "\t<tr><th scope=row>6</th><td>T0MEANS</td><td>6</td><td>1</td><td>NA         </td><td> 0</td><td>NA                                    </td><td> TRUE</td><td>  NA</td></tr>\n",
       "\t<tr><th scope=row>7</th><td>LAMBDA </td><td>1</td><td>1</td><td>NA         </td><td> 1</td><td>NA                                    </td><td>FALSE</td><td>  NA</td></tr>\n",
       "\t<tr><th scope=row>8</th><td>LAMBDA </td><td>1</td><td>2</td><td>NA         </td><td> 0</td><td>NA                                    </td><td>FALSE</td><td>  NA</td></tr>\n",
       "\t<tr><th scope=row>9</th><td>LAMBDA </td><td>1</td><td>3</td><td>NA         </td><td> 0</td><td>NA                                    </td><td>FALSE</td><td>  NA</td></tr>\n",
       "\t<tr><th scope=row>10</th><td>LAMBDA </td><td>1</td><td>4</td><td>NA         </td><td> 0</td><td>NA                                    </td><td>FALSE</td><td>  NA</td></tr>\n",
       "\t<tr><th scope=row>11</th><td>LAMBDA </td><td>1</td><td>5</td><td>NA         </td><td> 1</td><td>NA                                    </td><td>FALSE</td><td>  NA</td></tr>\n",
       "\t<tr><th scope=row>12</th><td>LAMBDA </td><td>1</td><td>6</td><td>NA         </td><td> 0</td><td>NA                                    </td><td>FALSE</td><td>  NA</td></tr>\n",
       "\t<tr><th scope=row>13</th><td>LAMBDA </td><td>2</td><td>1</td><td>NA         </td><td> 0</td><td>NA                                    </td><td>FALSE</td><td>  NA</td></tr>\n",
       "\t<tr><th scope=row>14</th><td>LAMBDA </td><td>2</td><td>2</td><td>NA         </td><td> 1</td><td>NA                                    </td><td>FALSE</td><td>  NA</td></tr>\n",
       "\t<tr><th scope=row>15</th><td>LAMBDA </td><td>2</td><td>3</td><td>NA         </td><td> 0</td><td>NA                                    </td><td>FALSE</td><td>  NA</td></tr>\n",
       "\t<tr><th scope=row>16</th><td>LAMBDA </td><td>2</td><td>4</td><td>NA         </td><td> 0</td><td>NA                                    </td><td>FALSE</td><td>  NA</td></tr>\n",
       "\t<tr><th scope=row>17</th><td>LAMBDA </td><td>2</td><td>5</td><td>NA         </td><td> 0</td><td>NA                                    </td><td>FALSE</td><td>  NA</td></tr>\n",
       "\t<tr><th scope=row>18</th><td>LAMBDA </td><td>2</td><td>6</td><td>NA         </td><td> 1</td><td>NA                                    </td><td>FALSE</td><td>  NA</td></tr>\n",
       "\t<tr><th scope=row>19</th><td>DRIFT  </td><td>1</td><td>1</td><td>drift_KBF  </td><td>NA</td><td>-(1e-06 + 2 * log1p_exp(-(2 * param)))</td><td> TRUE</td><td>0.05</td></tr>\n",
       "\t<tr><th scope=row>20</th><td>DRIFT  </td><td>1</td><td>2</td><td>NA         </td><td> 0</td><td>NA                                    </td><td> TRUE</td><td>0.05</td></tr>\n",
       "\t<tr><th scope=row>21</th><td>DRIFT  </td><td>1</td><td>3</td><td>NA         </td><td> 1</td><td>NA                                    </td><td> TRUE</td><td>0.05</td></tr>\n",
       "\t<tr><th scope=row>22</th><td>DRIFT  </td><td>1</td><td>4</td><td>NA         </td><td> 0</td><td>NA                                    </td><td> TRUE</td><td>0.05</td></tr>\n",
       "\t<tr><th scope=row>23</th><td>DRIFT  </td><td>1</td><td>5</td><td>NA         </td><td> 0</td><td>NA                                    </td><td> TRUE</td><td>0.05</td></tr>\n",
       "\t<tr><th scope=row>24</th><td>DRIFT  </td><td>1</td><td>6</td><td>NA         </td><td> 0</td><td>NA                                    </td><td> TRUE</td><td>0.05</td></tr>\n",
       "\t<tr><th scope=row>25</th><td>DRIFT  </td><td>2</td><td>1</td><td>NA         </td><td> 0</td><td>NA                                    </td><td> TRUE</td><td>0.05</td></tr>\n",
       "\t<tr><th scope=row>26</th><td>DRIFT  </td><td>2</td><td>2</td><td>drift_VTD  </td><td>NA</td><td>-(1e-06 + 2 * log1p_exp(-(2 * param)))</td><td> TRUE</td><td>0.05</td></tr>\n",
       "\t<tr><th scope=row>27</th><td>DRIFT  </td><td>2</td><td>3</td><td>NA         </td><td> 0</td><td>NA                                    </td><td> TRUE</td><td>0.05</td></tr>\n",
       "\t<tr><th scope=row>28</th><td>DRIFT  </td><td>2</td><td>4</td><td>NA         </td><td> 1</td><td>NA                                    </td><td> TRUE</td><td>0.05</td></tr>\n",
       "\t<tr><th scope=row>29</th><td>DRIFT  </td><td>2</td><td>5</td><td>NA         </td><td> 0</td><td>NA                                    </td><td> TRUE</td><td>0.05</td></tr>\n",
       "\t<tr><th scope=row>30</th><td>DRIFT  </td><td>2</td><td>6</td><td>NA         </td><td> 0</td><td>NA                                    </td><td> TRUE</td><td>0.05</td></tr>\n",
       "\t<tr><th scope=row>...</th><td>...</td><td>...</td><td>...</td><td>...</td><td>...</td><td>...</td><td>...</td><td>...</td></tr>\n",
       "\t<tr><th scope=row>109</th><td>T0VAR</td><td>2</td><td>1</td><td>T0var_VTD_KBF        </td><td>NA</td><td>2/(1 + exp(-param)) - 1         </td><td>FALSE</td><td> 1</td></tr>\n",
       "\t<tr><th scope=row>110</th><td>T0VAR</td><td>2</td><td>2</td><td>T0var_VTD            </td><td>NA</td><td>1e-10 + 5 * log1p_exp(2 * param)</td><td>FALSE</td><td> 1</td></tr>\n",
       "\t<tr><th scope=row>111</th><td>T0VAR</td><td>2</td><td>3</td><td>NA                   </td><td> 0</td><td>NA                              </td><td>FALSE</td><td>NA</td></tr>\n",
       "\t<tr><th scope=row>112</th><td>T0VAR</td><td>2</td><td>4</td><td>NA                   </td><td> 0</td><td>NA                              </td><td>FALSE</td><td>NA</td></tr>\n",
       "\t<tr><th scope=row>113</th><td>T0VAR</td><td>2</td><td>5</td><td>NA                   </td><td> 0</td><td>NA                              </td><td>FALSE</td><td>NA</td></tr>\n",
       "\t<tr><th scope=row>114</th><td>T0VAR</td><td>2</td><td>6</td><td>NA                   </td><td> 0</td><td>NA                              </td><td>FALSE</td><td>NA</td></tr>\n",
       "\t<tr><th scope=row>115</th><td>T0VAR</td><td>3</td><td>1</td><td>T0var_cintKBF_KBF    </td><td>NA</td><td>2/(1 + exp(-param)) - 1         </td><td>FALSE</td><td> 1</td></tr>\n",
       "\t<tr><th scope=row>116</th><td>T0VAR</td><td>3</td><td>2</td><td>T0var_cintKBF_VTD    </td><td>NA</td><td>2/(1 + exp(-param)) - 1         </td><td>FALSE</td><td> 1</td></tr>\n",
       "\t<tr><th scope=row>117</th><td>T0VAR</td><td>3</td><td>3</td><td>T0var_cintKBF        </td><td>NA</td><td>1e-10 + 5 * log1p_exp(2 * param)</td><td>FALSE</td><td> 1</td></tr>\n",
       "\t<tr><th scope=row>118</th><td>T0VAR</td><td>3</td><td>4</td><td>NA                   </td><td> 0</td><td>NA                              </td><td>FALSE</td><td>NA</td></tr>\n",
       "\t<tr><th scope=row>119</th><td>T0VAR</td><td>3</td><td>5</td><td>NA                   </td><td> 0</td><td>NA                              </td><td>FALSE</td><td>NA</td></tr>\n",
       "\t<tr><th scope=row>120</th><td>T0VAR</td><td>3</td><td>6</td><td>NA                   </td><td> 0</td><td>NA                              </td><td>FALSE</td><td>NA</td></tr>\n",
       "\t<tr><th scope=row>121</th><td>T0VAR</td><td>4</td><td>1</td><td>T0var_cintVTD_KBF    </td><td>NA</td><td>2/(1 + exp(-param)) - 1         </td><td>FALSE</td><td> 1</td></tr>\n",
       "\t<tr><th scope=row>122</th><td>T0VAR</td><td>4</td><td>2</td><td>T0var_cintVTD_VTD    </td><td>NA</td><td>2/(1 + exp(-param)) - 1         </td><td>FALSE</td><td> 1</td></tr>\n",
       "\t<tr><th scope=row>123</th><td>T0VAR</td><td>4</td><td>3</td><td>T0var_cintVTD_cintKBF</td><td>NA</td><td>2/(1 + exp(-param)) - 1         </td><td>FALSE</td><td> 1</td></tr>\n",
       "\t<tr><th scope=row>124</th><td>T0VAR</td><td>4</td><td>4</td><td>T0var_cintVTD        </td><td>NA</td><td>1e-10 + 5 * log1p_exp(2 * param)</td><td>FALSE</td><td> 1</td></tr>\n",
       "\t<tr><th scope=row>125</th><td>T0VAR</td><td>4</td><td>5</td><td>NA                   </td><td> 0</td><td>NA                              </td><td>FALSE</td><td>NA</td></tr>\n",
       "\t<tr><th scope=row>126</th><td>T0VAR</td><td>4</td><td>6</td><td>NA                   </td><td> 0</td><td>NA                              </td><td>FALSE</td><td>NA</td></tr>\n",
       "\t<tr><th scope=row>127</th><td>T0VAR</td><td>5</td><td>1</td><td>NA                   </td><td> 0</td><td>NA                              </td><td>FALSE</td><td>NA</td></tr>\n",
       "\t<tr><th scope=row>128</th><td>T0VAR</td><td>5</td><td>2</td><td>NA                   </td><td> 0</td><td>NA                              </td><td>FALSE</td><td>NA</td></tr>\n",
       "\t<tr><th scope=row>129</th><td>T0VAR</td><td>5</td><td>3</td><td>NA                   </td><td> 0</td><td>NA                              </td><td>FALSE</td><td>NA</td></tr>\n",
       "\t<tr><th scope=row>130</th><td>T0VAR</td><td>5</td><td>4</td><td>NA                   </td><td> 0</td><td>NA                              </td><td>FALSE</td><td>NA</td></tr>\n",
       "\t<tr><th scope=row>131</th><td>T0VAR</td><td>5</td><td>5</td><td>NA                   </td><td> 0</td><td>NA                              </td><td>FALSE</td><td>NA</td></tr>\n",
       "\t<tr><th scope=row>132</th><td>T0VAR</td><td>5</td><td>6</td><td>NA                   </td><td> 0</td><td>NA                              </td><td>FALSE</td><td>NA</td></tr>\n",
       "\t<tr><th scope=row>133</th><td>T0VAR</td><td>6</td><td>1</td><td>NA                   </td><td> 0</td><td>NA                              </td><td>FALSE</td><td>NA</td></tr>\n",
       "\t<tr><th scope=row>134</th><td>T0VAR</td><td>6</td><td>2</td><td>NA                   </td><td> 0</td><td>NA                              </td><td>FALSE</td><td>NA</td></tr>\n",
       "\t<tr><th scope=row>135</th><td>T0VAR</td><td>6</td><td>3</td><td>NA                   </td><td> 0</td><td>NA                              </td><td>FALSE</td><td>NA</td></tr>\n",
       "\t<tr><th scope=row>136</th><td>T0VAR</td><td>6</td><td>4</td><td>NA                   </td><td> 0</td><td>NA                              </td><td>FALSE</td><td>NA</td></tr>\n",
       "\t<tr><th scope=row>137</th><td>T0VAR</td><td>6</td><td>5</td><td>NA                   </td><td> 0</td><td>NA                              </td><td>FALSE</td><td>NA</td></tr>\n",
       "\t<tr><th scope=row>138</th><td>T0VAR</td><td>6</td><td>6</td><td>NA                   </td><td> 0</td><td>NA                              </td><td>FALSE</td><td>NA</td></tr>\n",
       "</tbody>\n",
       "</table>\n"
      ],
      "text/latex": [
       "A data.frame: 138 × 8\n",
       "\\begin{tabular}{r|llllllll}\n",
       "  & matrix & row & col & param & value & transform & indvarying & sdscale\\\\\n",
       "  & <chr> & <int> & <int> & <chr> & <dbl> & <chr> & <lgl> & <dbl>\\\\\n",
       "\\hline\n",
       "\t1 & T0MEANS & 1 & 1 & T0m\\_KBF     & NA & 10 * param                             &  TRUE & 1.00\\\\\n",
       "\t2 & T0MEANS & 2 & 1 & T0m\\_VTD     & NA & 10 * param                             &  TRUE & 1.00\\\\\n",
       "\t3 & T0MEANS & 3 & 1 & T0m\\_cintKBF & NA & 10 * param                             &  TRUE & 1.00\\\\\n",
       "\t4 & T0MEANS & 4 & 1 & T0m\\_cintVTD & NA & 10 * param                             &  TRUE & 1.00\\\\\n",
       "\t5 & T0MEANS & 5 & 1 & NA          &  0 & NA                                     &  TRUE &   NA\\\\\n",
       "\t6 & T0MEANS & 6 & 1 & NA          &  0 & NA                                     &  TRUE &   NA\\\\\n",
       "\t7 & LAMBDA  & 1 & 1 & NA          &  1 & NA                                     & FALSE &   NA\\\\\n",
       "\t8 & LAMBDA  & 1 & 2 & NA          &  0 & NA                                     & FALSE &   NA\\\\\n",
       "\t9 & LAMBDA  & 1 & 3 & NA          &  0 & NA                                     & FALSE &   NA\\\\\n",
       "\t10 & LAMBDA  & 1 & 4 & NA          &  0 & NA                                     & FALSE &   NA\\\\\n",
       "\t11 & LAMBDA  & 1 & 5 & NA          &  1 & NA                                     & FALSE &   NA\\\\\n",
       "\t12 & LAMBDA  & 1 & 6 & NA          &  0 & NA                                     & FALSE &   NA\\\\\n",
       "\t13 & LAMBDA  & 2 & 1 & NA          &  0 & NA                                     & FALSE &   NA\\\\\n",
       "\t14 & LAMBDA  & 2 & 2 & NA          &  1 & NA                                     & FALSE &   NA\\\\\n",
       "\t15 & LAMBDA  & 2 & 3 & NA          &  0 & NA                                     & FALSE &   NA\\\\\n",
       "\t16 & LAMBDA  & 2 & 4 & NA          &  0 & NA                                     & FALSE &   NA\\\\\n",
       "\t17 & LAMBDA  & 2 & 5 & NA          &  0 & NA                                     & FALSE &   NA\\\\\n",
       "\t18 & LAMBDA  & 2 & 6 & NA          &  1 & NA                                     & FALSE &   NA\\\\\n",
       "\t19 & DRIFT   & 1 & 1 & drift\\_KBF   & NA & -(1e-06 + 2 * log1p\\_exp(-(2 * param))) &  TRUE & 0.05\\\\\n",
       "\t20 & DRIFT   & 1 & 2 & NA          &  0 & NA                                     &  TRUE & 0.05\\\\\n",
       "\t21 & DRIFT   & 1 & 3 & NA          &  1 & NA                                     &  TRUE & 0.05\\\\\n",
       "\t22 & DRIFT   & 1 & 4 & NA          &  0 & NA                                     &  TRUE & 0.05\\\\\n",
       "\t23 & DRIFT   & 1 & 5 & NA          &  0 & NA                                     &  TRUE & 0.05\\\\\n",
       "\t24 & DRIFT   & 1 & 6 & NA          &  0 & NA                                     &  TRUE & 0.05\\\\\n",
       "\t25 & DRIFT   & 2 & 1 & NA          &  0 & NA                                     &  TRUE & 0.05\\\\\n",
       "\t26 & DRIFT   & 2 & 2 & drift\\_VTD   & NA & -(1e-06 + 2 * log1p\\_exp(-(2 * param))) &  TRUE & 0.05\\\\\n",
       "\t27 & DRIFT   & 2 & 3 & NA          &  0 & NA                                     &  TRUE & 0.05\\\\\n",
       "\t28 & DRIFT   & 2 & 4 & NA          &  1 & NA                                     &  TRUE & 0.05\\\\\n",
       "\t29 & DRIFT   & 2 & 5 & NA          &  0 & NA                                     &  TRUE & 0.05\\\\\n",
       "\t30 & DRIFT   & 2 & 6 & NA          &  0 & NA                                     &  TRUE & 0.05\\\\\n",
       "\t... & ... & ... & ... & ... & ... & ... & ... & ...\\\\\n",
       "\t109 & T0VAR & 2 & 1 & T0var\\_VTD\\_KBF         & NA & 2/(1 + exp(-param)) - 1          & FALSE &  1\\\\\n",
       "\t110 & T0VAR & 2 & 2 & T0var\\_VTD             & NA & 1e-10 + 5 * log1p\\_exp(2 * param) & FALSE &  1\\\\\n",
       "\t111 & T0VAR & 2 & 3 & NA                    &  0 & NA                               & FALSE & NA\\\\\n",
       "\t112 & T0VAR & 2 & 4 & NA                    &  0 & NA                               & FALSE & NA\\\\\n",
       "\t113 & T0VAR & 2 & 5 & NA                    &  0 & NA                               & FALSE & NA\\\\\n",
       "\t114 & T0VAR & 2 & 6 & NA                    &  0 & NA                               & FALSE & NA\\\\\n",
       "\t115 & T0VAR & 3 & 1 & T0var\\_cintKBF\\_KBF     & NA & 2/(1 + exp(-param)) - 1          & FALSE &  1\\\\\n",
       "\t116 & T0VAR & 3 & 2 & T0var\\_cintKBF\\_VTD     & NA & 2/(1 + exp(-param)) - 1          & FALSE &  1\\\\\n",
       "\t117 & T0VAR & 3 & 3 & T0var\\_cintKBF         & NA & 1e-10 + 5 * log1p\\_exp(2 * param) & FALSE &  1\\\\\n",
       "\t118 & T0VAR & 3 & 4 & NA                    &  0 & NA                               & FALSE & NA\\\\\n",
       "\t119 & T0VAR & 3 & 5 & NA                    &  0 & NA                               & FALSE & NA\\\\\n",
       "\t120 & T0VAR & 3 & 6 & NA                    &  0 & NA                               & FALSE & NA\\\\\n",
       "\t121 & T0VAR & 4 & 1 & T0var\\_cintVTD\\_KBF     & NA & 2/(1 + exp(-param)) - 1          & FALSE &  1\\\\\n",
       "\t122 & T0VAR & 4 & 2 & T0var\\_cintVTD\\_VTD     & NA & 2/(1 + exp(-param)) - 1          & FALSE &  1\\\\\n",
       "\t123 & T0VAR & 4 & 3 & T0var\\_cintVTD\\_cintKBF & NA & 2/(1 + exp(-param)) - 1          & FALSE &  1\\\\\n",
       "\t124 & T0VAR & 4 & 4 & T0var\\_cintVTD         & NA & 1e-10 + 5 * log1p\\_exp(2 * param) & FALSE &  1\\\\\n",
       "\t125 & T0VAR & 4 & 5 & NA                    &  0 & NA                               & FALSE & NA\\\\\n",
       "\t126 & T0VAR & 4 & 6 & NA                    &  0 & NA                               & FALSE & NA\\\\\n",
       "\t127 & T0VAR & 5 & 1 & NA                    &  0 & NA                               & FALSE & NA\\\\\n",
       "\t128 & T0VAR & 5 & 2 & NA                    &  0 & NA                               & FALSE & NA\\\\\n",
       "\t129 & T0VAR & 5 & 3 & NA                    &  0 & NA                               & FALSE & NA\\\\\n",
       "\t130 & T0VAR & 5 & 4 & NA                    &  0 & NA                               & FALSE & NA\\\\\n",
       "\t131 & T0VAR & 5 & 5 & NA                    &  0 & NA                               & FALSE & NA\\\\\n",
       "\t132 & T0VAR & 5 & 6 & NA                    &  0 & NA                               & FALSE & NA\\\\\n",
       "\t133 & T0VAR & 6 & 1 & NA                    &  0 & NA                               & FALSE & NA\\\\\n",
       "\t134 & T0VAR & 6 & 2 & NA                    &  0 & NA                               & FALSE & NA\\\\\n",
       "\t135 & T0VAR & 6 & 3 & NA                    &  0 & NA                               & FALSE & NA\\\\\n",
       "\t136 & T0VAR & 6 & 4 & NA                    &  0 & NA                               & FALSE & NA\\\\\n",
       "\t137 & T0VAR & 6 & 5 & NA                    &  0 & NA                               & FALSE & NA\\\\\n",
       "\t138 & T0VAR & 6 & 6 & NA                    &  0 & NA                               & FALSE & NA\\\\\n",
       "\\end{tabular}\n"
      ],
      "text/markdown": [
       "\n",
       "A data.frame: 138 × 8\n",
       "\n",
       "| <!--/--> | matrix &lt;chr&gt; | row &lt;int&gt; | col &lt;int&gt; | param &lt;chr&gt; | value &lt;dbl&gt; | transform &lt;chr&gt; | indvarying &lt;lgl&gt; | sdscale &lt;dbl&gt; |\n",
       "|---|---|---|---|---|---|---|---|---|\n",
       "| 1 | T0MEANS | 1 | 1 | T0m_KBF     | NA | 10 * param                             |  TRUE | 1.00 |\n",
       "| 2 | T0MEANS | 2 | 1 | T0m_VTD     | NA | 10 * param                             |  TRUE | 1.00 |\n",
       "| 3 | T0MEANS | 3 | 1 | T0m_cintKBF | NA | 10 * param                             |  TRUE | 1.00 |\n",
       "| 4 | T0MEANS | 4 | 1 | T0m_cintVTD | NA | 10 * param                             |  TRUE | 1.00 |\n",
       "| 5 | T0MEANS | 5 | 1 | NA          |  0 | NA                                     |  TRUE |   NA |\n",
       "| 6 | T0MEANS | 6 | 1 | NA          |  0 | NA                                     |  TRUE |   NA |\n",
       "| 7 | LAMBDA  | 1 | 1 | NA          |  1 | NA                                     | FALSE |   NA |\n",
       "| 8 | LAMBDA  | 1 | 2 | NA          |  0 | NA                                     | FALSE |   NA |\n",
       "| 9 | LAMBDA  | 1 | 3 | NA          |  0 | NA                                     | FALSE |   NA |\n",
       "| 10 | LAMBDA  | 1 | 4 | NA          |  0 | NA                                     | FALSE |   NA |\n",
       "| 11 | LAMBDA  | 1 | 5 | NA          |  1 | NA                                     | FALSE |   NA |\n",
       "| 12 | LAMBDA  | 1 | 6 | NA          |  0 | NA                                     | FALSE |   NA |\n",
       "| 13 | LAMBDA  | 2 | 1 | NA          |  0 | NA                                     | FALSE |   NA |\n",
       "| 14 | LAMBDA  | 2 | 2 | NA          |  1 | NA                                     | FALSE |   NA |\n",
       "| 15 | LAMBDA  | 2 | 3 | NA          |  0 | NA                                     | FALSE |   NA |\n",
       "| 16 | LAMBDA  | 2 | 4 | NA          |  0 | NA                                     | FALSE |   NA |\n",
       "| 17 | LAMBDA  | 2 | 5 | NA          |  0 | NA                                     | FALSE |   NA |\n",
       "| 18 | LAMBDA  | 2 | 6 | NA          |  1 | NA                                     | FALSE |   NA |\n",
       "| 19 | DRIFT   | 1 | 1 | drift_KBF   | NA | -(1e-06 + 2 * log1p_exp(-(2 * param))) |  TRUE | 0.05 |\n",
       "| 20 | DRIFT   | 1 | 2 | NA          |  0 | NA                                     |  TRUE | 0.05 |\n",
       "| 21 | DRIFT   | 1 | 3 | NA          |  1 | NA                                     |  TRUE | 0.05 |\n",
       "| 22 | DRIFT   | 1 | 4 | NA          |  0 | NA                                     |  TRUE | 0.05 |\n",
       "| 23 | DRIFT   | 1 | 5 | NA          |  0 | NA                                     |  TRUE | 0.05 |\n",
       "| 24 | DRIFT   | 1 | 6 | NA          |  0 | NA                                     |  TRUE | 0.05 |\n",
       "| 25 | DRIFT   | 2 | 1 | NA          |  0 | NA                                     |  TRUE | 0.05 |\n",
       "| 26 | DRIFT   | 2 | 2 | drift_VTD   | NA | -(1e-06 + 2 * log1p_exp(-(2 * param))) |  TRUE | 0.05 |\n",
       "| 27 | DRIFT   | 2 | 3 | NA          |  0 | NA                                     |  TRUE | 0.05 |\n",
       "| 28 | DRIFT   | 2 | 4 | NA          |  1 | NA                                     |  TRUE | 0.05 |\n",
       "| 29 | DRIFT   | 2 | 5 | NA          |  0 | NA                                     |  TRUE | 0.05 |\n",
       "| 30 | DRIFT   | 2 | 6 | NA          |  0 | NA                                     |  TRUE | 0.05 |\n",
       "| ... | ... | ... | ... | ... | ... | ... | ... | ... |\n",
       "| 109 | T0VAR | 2 | 1 | T0var_VTD_KBF         | NA | 2/(1 + exp(-param)) - 1          | FALSE |  1 |\n",
       "| 110 | T0VAR | 2 | 2 | T0var_VTD             | NA | 1e-10 + 5 * log1p_exp(2 * param) | FALSE |  1 |\n",
       "| 111 | T0VAR | 2 | 3 | NA                    |  0 | NA                               | FALSE | NA |\n",
       "| 112 | T0VAR | 2 | 4 | NA                    |  0 | NA                               | FALSE | NA |\n",
       "| 113 | T0VAR | 2 | 5 | NA                    |  0 | NA                               | FALSE | NA |\n",
       "| 114 | T0VAR | 2 | 6 | NA                    |  0 | NA                               | FALSE | NA |\n",
       "| 115 | T0VAR | 3 | 1 | T0var_cintKBF_KBF     | NA | 2/(1 + exp(-param)) - 1          | FALSE |  1 |\n",
       "| 116 | T0VAR | 3 | 2 | T0var_cintKBF_VTD     | NA | 2/(1 + exp(-param)) - 1          | FALSE |  1 |\n",
       "| 117 | T0VAR | 3 | 3 | T0var_cintKBF         | NA | 1e-10 + 5 * log1p_exp(2 * param) | FALSE |  1 |\n",
       "| 118 | T0VAR | 3 | 4 | NA                    |  0 | NA                               | FALSE | NA |\n",
       "| 119 | T0VAR | 3 | 5 | NA                    |  0 | NA                               | FALSE | NA |\n",
       "| 120 | T0VAR | 3 | 6 | NA                    |  0 | NA                               | FALSE | NA |\n",
       "| 121 | T0VAR | 4 | 1 | T0var_cintVTD_KBF     | NA | 2/(1 + exp(-param)) - 1          | FALSE |  1 |\n",
       "| 122 | T0VAR | 4 | 2 | T0var_cintVTD_VTD     | NA | 2/(1 + exp(-param)) - 1          | FALSE |  1 |\n",
       "| 123 | T0VAR | 4 | 3 | T0var_cintVTD_cintKBF | NA | 2/(1 + exp(-param)) - 1          | FALSE |  1 |\n",
       "| 124 | T0VAR | 4 | 4 | T0var_cintVTD         | NA | 1e-10 + 5 * log1p_exp(2 * param) | FALSE |  1 |\n",
       "| 125 | T0VAR | 4 | 5 | NA                    |  0 | NA                               | FALSE | NA |\n",
       "| 126 | T0VAR | 4 | 6 | NA                    |  0 | NA                               | FALSE | NA |\n",
       "| 127 | T0VAR | 5 | 1 | NA                    |  0 | NA                               | FALSE | NA |\n",
       "| 128 | T0VAR | 5 | 2 | NA                    |  0 | NA                               | FALSE | NA |\n",
       "| 129 | T0VAR | 5 | 3 | NA                    |  0 | NA                               | FALSE | NA |\n",
       "| 130 | T0VAR | 5 | 4 | NA                    |  0 | NA                               | FALSE | NA |\n",
       "| 131 | T0VAR | 5 | 5 | NA                    |  0 | NA                               | FALSE | NA |\n",
       "| 132 | T0VAR | 5 | 6 | NA                    |  0 | NA                               | FALSE | NA |\n",
       "| 133 | T0VAR | 6 | 1 | NA                    |  0 | NA                               | FALSE | NA |\n",
       "| 134 | T0VAR | 6 | 2 | NA                    |  0 | NA                               | FALSE | NA |\n",
       "| 135 | T0VAR | 6 | 3 | NA                    |  0 | NA                               | FALSE | NA |\n",
       "| 136 | T0VAR | 6 | 4 | NA                    |  0 | NA                               | FALSE | NA |\n",
       "| 137 | T0VAR | 6 | 5 | NA                    |  0 | NA                               | FALSE | NA |\n",
       "| 138 | T0VAR | 6 | 6 | NA                    |  0 | NA                               | FALSE | NA |\n",
       "\n"
      ],
      "text/plain": [
       "    matrix  row col param                 value\n",
       "1   T0MEANS 1   1   T0m_KBF               NA   \n",
       "2   T0MEANS 2   1   T0m_VTD               NA   \n",
       "3   T0MEANS 3   1   T0m_cintKBF           NA   \n",
       "4   T0MEANS 4   1   T0m_cintVTD           NA   \n",
       "5   T0MEANS 5   1   NA                     0   \n",
       "6   T0MEANS 6   1   NA                     0   \n",
       "7   LAMBDA  1   1   NA                     1   \n",
       "8   LAMBDA  1   2   NA                     0   \n",
       "9   LAMBDA  1   3   NA                     0   \n",
       "10  LAMBDA  1   4   NA                     0   \n",
       "11  LAMBDA  1   5   NA                     1   \n",
       "12  LAMBDA  1   6   NA                     0   \n",
       "13  LAMBDA  2   1   NA                     0   \n",
       "14  LAMBDA  2   2   NA                     1   \n",
       "15  LAMBDA  2   3   NA                     0   \n",
       "16  LAMBDA  2   4   NA                     0   \n",
       "17  LAMBDA  2   5   NA                     0   \n",
       "18  LAMBDA  2   6   NA                     1   \n",
       "19  DRIFT   1   1   drift_KBF             NA   \n",
       "20  DRIFT   1   2   NA                     0   \n",
       "21  DRIFT   1   3   NA                     1   \n",
       "22  DRIFT   1   4   NA                     0   \n",
       "23  DRIFT   1   5   NA                     0   \n",
       "24  DRIFT   1   6   NA                     0   \n",
       "25  DRIFT   2   1   NA                     0   \n",
       "26  DRIFT   2   2   drift_VTD             NA   \n",
       "27  DRIFT   2   3   NA                     0   \n",
       "28  DRIFT   2   4   NA                     1   \n",
       "29  DRIFT   2   5   NA                     0   \n",
       "30  DRIFT   2   6   NA                     0   \n",
       "... ...     ... ... ...                   ...  \n",
       "109 T0VAR   2   1   T0var_VTD_KBF         NA   \n",
       "110 T0VAR   2   2   T0var_VTD             NA   \n",
       "111 T0VAR   2   3   NA                     0   \n",
       "112 T0VAR   2   4   NA                     0   \n",
       "113 T0VAR   2   5   NA                     0   \n",
       "114 T0VAR   2   6   NA                     0   \n",
       "115 T0VAR   3   1   T0var_cintKBF_KBF     NA   \n",
       "116 T0VAR   3   2   T0var_cintKBF_VTD     NA   \n",
       "117 T0VAR   3   3   T0var_cintKBF         NA   \n",
       "118 T0VAR   3   4   NA                     0   \n",
       "119 T0VAR   3   5   NA                     0   \n",
       "120 T0VAR   3   6   NA                     0   \n",
       "121 T0VAR   4   1   T0var_cintVTD_KBF     NA   \n",
       "122 T0VAR   4   2   T0var_cintVTD_VTD     NA   \n",
       "123 T0VAR   4   3   T0var_cintVTD_cintKBF NA   \n",
       "124 T0VAR   4   4   T0var_cintVTD         NA   \n",
       "125 T0VAR   4   5   NA                     0   \n",
       "126 T0VAR   4   6   NA                     0   \n",
       "127 T0VAR   5   1   NA                     0   \n",
       "128 T0VAR   5   2   NA                     0   \n",
       "129 T0VAR   5   3   NA                     0   \n",
       "130 T0VAR   5   4   NA                     0   \n",
       "131 T0VAR   5   5   NA                     0   \n",
       "132 T0VAR   5   6   NA                     0   \n",
       "133 T0VAR   6   1   NA                     0   \n",
       "134 T0VAR   6   2   NA                     0   \n",
       "135 T0VAR   6   3   NA                     0   \n",
       "136 T0VAR   6   4   NA                     0   \n",
       "137 T0VAR   6   5   NA                     0   \n",
       "138 T0VAR   6   6   NA                     0   \n",
       "    transform                              indvarying sdscale\n",
       "1   10 * param                              TRUE      1.00   \n",
       "2   10 * param                              TRUE      1.00   \n",
       "3   10 * param                              TRUE      1.00   \n",
       "4   10 * param                              TRUE      1.00   \n",
       "5   NA                                      TRUE        NA   \n",
       "6   NA                                      TRUE        NA   \n",
       "7   NA                                     FALSE        NA   \n",
       "8   NA                                     FALSE        NA   \n",
       "9   NA                                     FALSE        NA   \n",
       "10  NA                                     FALSE        NA   \n",
       "11  NA                                     FALSE        NA   \n",
       "12  NA                                     FALSE        NA   \n",
       "13  NA                                     FALSE        NA   \n",
       "14  NA                                     FALSE        NA   \n",
       "15  NA                                     FALSE        NA   \n",
       "16  NA                                     FALSE        NA   \n",
       "17  NA                                     FALSE        NA   \n",
       "18  NA                                     FALSE        NA   \n",
       "19  -(1e-06 + 2 * log1p_exp(-(2 * param)))  TRUE      0.05   \n",
       "20  NA                                      TRUE      0.05   \n",
       "21  NA                                      TRUE      0.05   \n",
       "22  NA                                      TRUE      0.05   \n",
       "23  NA                                      TRUE      0.05   \n",
       "24  NA                                      TRUE      0.05   \n",
       "25  NA                                      TRUE      0.05   \n",
       "26  -(1e-06 + 2 * log1p_exp(-(2 * param)))  TRUE      0.05   \n",
       "27  NA                                      TRUE      0.05   \n",
       "28  NA                                      TRUE      0.05   \n",
       "29  NA                                      TRUE      0.05   \n",
       "30  NA                                      TRUE      0.05   \n",
       "... ...                                    ...        ...    \n",
       "109 2/(1 + exp(-param)) - 1                FALSE       1     \n",
       "110 1e-10 + 5 * log1p_exp(2 * param)       FALSE       1     \n",
       "111 NA                                     FALSE      NA     \n",
       "112 NA                                     FALSE      NA     \n",
       "113 NA                                     FALSE      NA     \n",
       "114 NA                                     FALSE      NA     \n",
       "115 2/(1 + exp(-param)) - 1                FALSE       1     \n",
       "116 2/(1 + exp(-param)) - 1                FALSE       1     \n",
       "117 1e-10 + 5 * log1p_exp(2 * param)       FALSE       1     \n",
       "118 NA                                     FALSE      NA     \n",
       "119 NA                                     FALSE      NA     \n",
       "120 NA                                     FALSE      NA     \n",
       "121 2/(1 + exp(-param)) - 1                FALSE       1     \n",
       "122 2/(1 + exp(-param)) - 1                FALSE       1     \n",
       "123 2/(1 + exp(-param)) - 1                FALSE       1     \n",
       "124 1e-10 + 5 * log1p_exp(2 * param)       FALSE       1     \n",
       "125 NA                                     FALSE      NA     \n",
       "126 NA                                     FALSE      NA     \n",
       "127 NA                                     FALSE      NA     \n",
       "128 NA                                     FALSE      NA     \n",
       "129 NA                                     FALSE      NA     \n",
       "130 NA                                     FALSE      NA     \n",
       "131 NA                                     FALSE      NA     \n",
       "132 NA                                     FALSE      NA     \n",
       "133 NA                                     FALSE      NA     \n",
       "134 NA                                     FALSE      NA     \n",
       "135 NA                                     FALSE      NA     \n",
       "136 NA                                     FALSE      NA     \n",
       "137 NA                                     FALSE      NA     \n",
       "138 NA                                     FALSE      NA     "
      ]
     },
     "metadata": {},
     "output_type": "display_data"
    }
   ],
   "source": [
    "\n",
    "#TODO: T0var not sure\n",
    "#MANIFESTVAR: TODO maybe test by adding it. if yes, should also be sdscale = 0.05?\n",
    "model_fit$pars$indvarying[model_fit$pars$matrix %in% c('T0MEANS','MANIFESTMEANS','CINT','DRIFT')] = TRUE\n",
    "#https://discourse.mc-stan.org/t/r-package-ctsem-hierarchical-continuous-time-dynamic-models/117/14\n",
    "#as we want some parameter in the system to vary by subject, we set very tight priors, as some individuals have only 3 timetamps\n",
    "model_fit$pars$sdscale[model_fit$pars$matrix %in% c('DRIFT')] = 0.05\n",
    "#check model parameters\n",
    "model_fit$pars"
   ]
  },
  {
   "cell_type": "code",
   "execution_count": 91,
   "id": "c7446843",
   "metadata": {
    "scrolled": true
   },
   "outputs": [
    {
     "name": "stderr",
     "output_type": "stream",
     "text": [
      "Begin carefulFit start value estimation for group g1\n",
      "\n"
     ]
    },
    {
     "ename": "ERROR",
     "evalue": "Error in if (ncol(datawide) != neededColumns & discreteTime != TRUE) stop(\"Number of columns in data (\", : l'argument est de longueur nulle\n",
     "output_type": "error",
     "traceback": [
      "Error in if (ncol(datawide) != neededColumns & discreteTime != TRUE) stop(\"Number of columns in data (\", : l'argument est de longueur nulle\nTraceback:\n",
      "1. ctMultigroupFit(dat = ctExample4, groupings = groups, ctmodelobj = basemodeltest, \n .     freemodel = freemodeltest)",
      "2. ctFit(singlegroup, singlectspec, nofit = TRUE, carefulFit = carefulFit, \n .     dataform = dataform, ...)"
     ]
    }
   ],
   "source": [
    "data(\"ctExample4\")\n",
    "basemodeltest <- ctModel(type='stanct',n.latent = 1, n.manifest = 3, LAMBDA = matrix(c(1, \"lambda2\", \"lambda3\"), nrow = 3, ncol =1))\n",
    "freemodeltest <- basemodeltest\n",
    "#freemodeltest$LAMBDA[3, 1] <- \"groupfree\"\n",
    "groups <- paste0(\"g\", rep(1:2, each = 10))\n",
    "multif <- ctMultigroupFit(dat = ctExample4, groupings = groups,ctmodelobj = basemodeltest, freemodel = freemodeltest)"
   ]
  },
  {
   "cell_type": "code",
   "execution_count": 93,
   "id": "714ba99f",
   "metadata": {},
   "outputs": [
    {
     "data": {
      "text/html": [
       "<table class=\"dataframe\">\n",
       "<caption>A data.frame: 138 × 8</caption>\n",
       "<thead>\n",
       "\t<tr><th></th><th scope=col>matrix</th><th scope=col>row</th><th scope=col>col</th><th scope=col>param</th><th scope=col>value</th><th scope=col>transform</th><th scope=col>indvarying</th><th scope=col>sdscale</th></tr>\n",
       "\t<tr><th></th><th scope=col>&lt;chr&gt;</th><th scope=col>&lt;int&gt;</th><th scope=col>&lt;int&gt;</th><th scope=col>&lt;chr&gt;</th><th scope=col>&lt;dbl&gt;</th><th scope=col>&lt;chr&gt;</th><th scope=col>&lt;lgl&gt;</th><th scope=col>&lt;dbl&gt;</th></tr>\n",
       "</thead>\n",
       "<tbody>\n",
       "\t<tr><th scope=row>1</th><td>T0MEANS</td><td>1</td><td>1</td><td>T0m_KBF    </td><td>NA</td><td>10 * param                            </td><td> TRUE</td><td> 1</td></tr>\n",
       "\t<tr><th scope=row>2</th><td>T0MEANS</td><td>2</td><td>1</td><td>T0m_VTD    </td><td>NA</td><td>10 * param                            </td><td> TRUE</td><td> 1</td></tr>\n",
       "\t<tr><th scope=row>3</th><td>T0MEANS</td><td>3</td><td>1</td><td>T0m_cintKBF</td><td>NA</td><td>10 * param                            </td><td> TRUE</td><td> 1</td></tr>\n",
       "\t<tr><th scope=row>4</th><td>T0MEANS</td><td>4</td><td>1</td><td>T0m_cintVTD</td><td>NA</td><td>10 * param                            </td><td> TRUE</td><td> 1</td></tr>\n",
       "\t<tr><th scope=row>5</th><td>T0MEANS</td><td>5</td><td>1</td><td>NA         </td><td> 0</td><td>NA                                    </td><td>FALSE</td><td>NA</td></tr>\n",
       "\t<tr><th scope=row>6</th><td>T0MEANS</td><td>6</td><td>1</td><td>NA         </td><td> 0</td><td>NA                                    </td><td>FALSE</td><td>NA</td></tr>\n",
       "\t<tr><th scope=row>7</th><td>LAMBDA </td><td>1</td><td>1</td><td>NA         </td><td> 1</td><td>NA                                    </td><td>FALSE</td><td>NA</td></tr>\n",
       "\t<tr><th scope=row>8</th><td>LAMBDA </td><td>1</td><td>2</td><td>NA         </td><td> 0</td><td>NA                                    </td><td>FALSE</td><td>NA</td></tr>\n",
       "\t<tr><th scope=row>9</th><td>LAMBDA </td><td>1</td><td>3</td><td>NA         </td><td> 0</td><td>NA                                    </td><td>FALSE</td><td>NA</td></tr>\n",
       "\t<tr><th scope=row>10</th><td>LAMBDA </td><td>1</td><td>4</td><td>NA         </td><td> 0</td><td>NA                                    </td><td>FALSE</td><td>NA</td></tr>\n",
       "\t<tr><th scope=row>11</th><td>LAMBDA </td><td>1</td><td>5</td><td>NA         </td><td> 1</td><td>NA                                    </td><td>FALSE</td><td>NA</td></tr>\n",
       "\t<tr><th scope=row>12</th><td>LAMBDA </td><td>1</td><td>6</td><td>NA         </td><td> 0</td><td>NA                                    </td><td>FALSE</td><td>NA</td></tr>\n",
       "\t<tr><th scope=row>13</th><td>LAMBDA </td><td>2</td><td>1</td><td>NA         </td><td> 0</td><td>NA                                    </td><td>FALSE</td><td>NA</td></tr>\n",
       "\t<tr><th scope=row>14</th><td>LAMBDA </td><td>2</td><td>2</td><td>NA         </td><td> 1</td><td>NA                                    </td><td>FALSE</td><td>NA</td></tr>\n",
       "\t<tr><th scope=row>15</th><td>LAMBDA </td><td>2</td><td>3</td><td>NA         </td><td> 0</td><td>NA                                    </td><td>FALSE</td><td>NA</td></tr>\n",
       "\t<tr><th scope=row>16</th><td>LAMBDA </td><td>2</td><td>4</td><td>NA         </td><td> 0</td><td>NA                                    </td><td>FALSE</td><td>NA</td></tr>\n",
       "\t<tr><th scope=row>17</th><td>LAMBDA </td><td>2</td><td>5</td><td>NA         </td><td> 0</td><td>NA                                    </td><td>FALSE</td><td>NA</td></tr>\n",
       "\t<tr><th scope=row>18</th><td>LAMBDA </td><td>2</td><td>6</td><td>NA         </td><td> 1</td><td>NA                                    </td><td>FALSE</td><td>NA</td></tr>\n",
       "\t<tr><th scope=row>19</th><td>DRIFT  </td><td>1</td><td>1</td><td>drift_KBF  </td><td>NA</td><td>-(1e-06 + 2 * log1p_exp(-(2 * param)))</td><td>FALSE</td><td> 1</td></tr>\n",
       "\t<tr><th scope=row>20</th><td>DRIFT  </td><td>1</td><td>2</td><td>NA         </td><td> 0</td><td>NA                                    </td><td>FALSE</td><td>NA</td></tr>\n",
       "\t<tr><th scope=row>21</th><td>DRIFT  </td><td>1</td><td>3</td><td>NA         </td><td> 1</td><td>NA                                    </td><td>FALSE</td><td>NA</td></tr>\n",
       "\t<tr><th scope=row>22</th><td>DRIFT  </td><td>1</td><td>4</td><td>NA         </td><td> 0</td><td>NA                                    </td><td>FALSE</td><td>NA</td></tr>\n",
       "\t<tr><th scope=row>23</th><td>DRIFT  </td><td>1</td><td>5</td><td>NA         </td><td> 0</td><td>NA                                    </td><td>FALSE</td><td>NA</td></tr>\n",
       "\t<tr><th scope=row>24</th><td>DRIFT  </td><td>1</td><td>6</td><td>NA         </td><td> 0</td><td>NA                                    </td><td>FALSE</td><td>NA</td></tr>\n",
       "\t<tr><th scope=row>25</th><td>DRIFT  </td><td>2</td><td>1</td><td>NA         </td><td> 0</td><td>NA                                    </td><td>FALSE</td><td>NA</td></tr>\n",
       "\t<tr><th scope=row>26</th><td>DRIFT  </td><td>2</td><td>2</td><td>drift_VTD  </td><td>NA</td><td>-(1e-06 + 2 * log1p_exp(-(2 * param)))</td><td>FALSE</td><td> 1</td></tr>\n",
       "\t<tr><th scope=row>27</th><td>DRIFT  </td><td>2</td><td>3</td><td>NA         </td><td> 0</td><td>NA                                    </td><td>FALSE</td><td>NA</td></tr>\n",
       "\t<tr><th scope=row>28</th><td>DRIFT  </td><td>2</td><td>4</td><td>NA         </td><td> 1</td><td>NA                                    </td><td>FALSE</td><td>NA</td></tr>\n",
       "\t<tr><th scope=row>29</th><td>DRIFT  </td><td>2</td><td>5</td><td>NA         </td><td> 0</td><td>NA                                    </td><td>FALSE</td><td>NA</td></tr>\n",
       "\t<tr><th scope=row>30</th><td>DRIFT  </td><td>2</td><td>6</td><td>NA         </td><td> 0</td><td>NA                                    </td><td>FALSE</td><td>NA</td></tr>\n",
       "\t<tr><th scope=row>...</th><td>...</td><td>...</td><td>...</td><td>...</td><td>...</td><td>...</td><td>...</td><td>...</td></tr>\n",
       "\t<tr><th scope=row>109</th><td>T0VAR</td><td>2</td><td>1</td><td>T0var_VTD_KBF        </td><td>NA</td><td>2/(1 + exp(-param)) - 1         </td><td>FALSE</td><td> 1</td></tr>\n",
       "\t<tr><th scope=row>110</th><td>T0VAR</td><td>2</td><td>2</td><td>T0var_VTD            </td><td>NA</td><td>1e-10 + 5 * log1p_exp(2 * param)</td><td>FALSE</td><td> 1</td></tr>\n",
       "\t<tr><th scope=row>111</th><td>T0VAR</td><td>2</td><td>3</td><td>NA                   </td><td> 0</td><td>NA                              </td><td>FALSE</td><td>NA</td></tr>\n",
       "\t<tr><th scope=row>112</th><td>T0VAR</td><td>2</td><td>4</td><td>NA                   </td><td> 0</td><td>NA                              </td><td>FALSE</td><td>NA</td></tr>\n",
       "\t<tr><th scope=row>113</th><td>T0VAR</td><td>2</td><td>5</td><td>NA                   </td><td> 0</td><td>NA                              </td><td>FALSE</td><td>NA</td></tr>\n",
       "\t<tr><th scope=row>114</th><td>T0VAR</td><td>2</td><td>6</td><td>NA                   </td><td> 0</td><td>NA                              </td><td>FALSE</td><td>NA</td></tr>\n",
       "\t<tr><th scope=row>115</th><td>T0VAR</td><td>3</td><td>1</td><td>T0var_cintKBF_KBF    </td><td>NA</td><td>2/(1 + exp(-param)) - 1         </td><td>FALSE</td><td> 1</td></tr>\n",
       "\t<tr><th scope=row>116</th><td>T0VAR</td><td>3</td><td>2</td><td>T0var_cintKBF_VTD    </td><td>NA</td><td>2/(1 + exp(-param)) - 1         </td><td>FALSE</td><td> 1</td></tr>\n",
       "\t<tr><th scope=row>117</th><td>T0VAR</td><td>3</td><td>3</td><td>T0var_cintKBF        </td><td>NA</td><td>1e-10 + 5 * log1p_exp(2 * param)</td><td>FALSE</td><td> 1</td></tr>\n",
       "\t<tr><th scope=row>118</th><td>T0VAR</td><td>3</td><td>4</td><td>NA                   </td><td> 0</td><td>NA                              </td><td>FALSE</td><td>NA</td></tr>\n",
       "\t<tr><th scope=row>119</th><td>T0VAR</td><td>3</td><td>5</td><td>NA                   </td><td> 0</td><td>NA                              </td><td>FALSE</td><td>NA</td></tr>\n",
       "\t<tr><th scope=row>120</th><td>T0VAR</td><td>3</td><td>6</td><td>NA                   </td><td> 0</td><td>NA                              </td><td>FALSE</td><td>NA</td></tr>\n",
       "\t<tr><th scope=row>121</th><td>T0VAR</td><td>4</td><td>1</td><td>T0var_cintVTD_KBF    </td><td>NA</td><td>2/(1 + exp(-param)) - 1         </td><td>FALSE</td><td> 1</td></tr>\n",
       "\t<tr><th scope=row>122</th><td>T0VAR</td><td>4</td><td>2</td><td>T0var_cintVTD_VTD    </td><td>NA</td><td>2/(1 + exp(-param)) - 1         </td><td>FALSE</td><td> 1</td></tr>\n",
       "\t<tr><th scope=row>123</th><td>T0VAR</td><td>4</td><td>3</td><td>T0var_cintVTD_cintKBF</td><td>NA</td><td>2/(1 + exp(-param)) - 1         </td><td>FALSE</td><td> 1</td></tr>\n",
       "\t<tr><th scope=row>124</th><td>T0VAR</td><td>4</td><td>4</td><td>T0var_cintVTD        </td><td>NA</td><td>1e-10 + 5 * log1p_exp(2 * param)</td><td>FALSE</td><td> 1</td></tr>\n",
       "\t<tr><th scope=row>125</th><td>T0VAR</td><td>4</td><td>5</td><td>NA                   </td><td> 0</td><td>NA                              </td><td>FALSE</td><td>NA</td></tr>\n",
       "\t<tr><th scope=row>126</th><td>T0VAR</td><td>4</td><td>6</td><td>NA                   </td><td> 0</td><td>NA                              </td><td>FALSE</td><td>NA</td></tr>\n",
       "\t<tr><th scope=row>127</th><td>T0VAR</td><td>5</td><td>1</td><td>NA                   </td><td> 0</td><td>NA                              </td><td>FALSE</td><td>NA</td></tr>\n",
       "\t<tr><th scope=row>128</th><td>T0VAR</td><td>5</td><td>2</td><td>NA                   </td><td> 0</td><td>NA                              </td><td>FALSE</td><td>NA</td></tr>\n",
       "\t<tr><th scope=row>129</th><td>T0VAR</td><td>5</td><td>3</td><td>NA                   </td><td> 0</td><td>NA                              </td><td>FALSE</td><td>NA</td></tr>\n",
       "\t<tr><th scope=row>130</th><td>T0VAR</td><td>5</td><td>4</td><td>NA                   </td><td> 0</td><td>NA                              </td><td>FALSE</td><td>NA</td></tr>\n",
       "\t<tr><th scope=row>131</th><td>T0VAR</td><td>5</td><td>5</td><td>NA                   </td><td> 0</td><td>NA                              </td><td>FALSE</td><td>NA</td></tr>\n",
       "\t<tr><th scope=row>132</th><td>T0VAR</td><td>5</td><td>6</td><td>NA                   </td><td> 0</td><td>NA                              </td><td>FALSE</td><td>NA</td></tr>\n",
       "\t<tr><th scope=row>133</th><td>T0VAR</td><td>6</td><td>1</td><td>NA                   </td><td> 0</td><td>NA                              </td><td>FALSE</td><td>NA</td></tr>\n",
       "\t<tr><th scope=row>134</th><td>T0VAR</td><td>6</td><td>2</td><td>NA                   </td><td> 0</td><td>NA                              </td><td>FALSE</td><td>NA</td></tr>\n",
       "\t<tr><th scope=row>135</th><td>T0VAR</td><td>6</td><td>3</td><td>NA                   </td><td> 0</td><td>NA                              </td><td>FALSE</td><td>NA</td></tr>\n",
       "\t<tr><th scope=row>136</th><td>T0VAR</td><td>6</td><td>4</td><td>NA                   </td><td> 0</td><td>NA                              </td><td>FALSE</td><td>NA</td></tr>\n",
       "\t<tr><th scope=row>137</th><td>T0VAR</td><td>6</td><td>5</td><td>NA                   </td><td> 0</td><td>NA                              </td><td>FALSE</td><td>NA</td></tr>\n",
       "\t<tr><th scope=row>138</th><td>T0VAR</td><td>6</td><td>6</td><td>NA                   </td><td> 0</td><td>NA                              </td><td>FALSE</td><td>NA</td></tr>\n",
       "</tbody>\n",
       "</table>\n"
      ],
      "text/latex": [
       "A data.frame: 138 × 8\n",
       "\\begin{tabular}{r|llllllll}\n",
       "  & matrix & row & col & param & value & transform & indvarying & sdscale\\\\\n",
       "  & <chr> & <int> & <int> & <chr> & <dbl> & <chr> & <lgl> & <dbl>\\\\\n",
       "\\hline\n",
       "\t1 & T0MEANS & 1 & 1 & T0m\\_KBF     & NA & 10 * param                             &  TRUE &  1\\\\\n",
       "\t2 & T0MEANS & 2 & 1 & T0m\\_VTD     & NA & 10 * param                             &  TRUE &  1\\\\\n",
       "\t3 & T0MEANS & 3 & 1 & T0m\\_cintKBF & NA & 10 * param                             &  TRUE &  1\\\\\n",
       "\t4 & T0MEANS & 4 & 1 & T0m\\_cintVTD & NA & 10 * param                             &  TRUE &  1\\\\\n",
       "\t5 & T0MEANS & 5 & 1 & NA          &  0 & NA                                     & FALSE & NA\\\\\n",
       "\t6 & T0MEANS & 6 & 1 & NA          &  0 & NA                                     & FALSE & NA\\\\\n",
       "\t7 & LAMBDA  & 1 & 1 & NA          &  1 & NA                                     & FALSE & NA\\\\\n",
       "\t8 & LAMBDA  & 1 & 2 & NA          &  0 & NA                                     & FALSE & NA\\\\\n",
       "\t9 & LAMBDA  & 1 & 3 & NA          &  0 & NA                                     & FALSE & NA\\\\\n",
       "\t10 & LAMBDA  & 1 & 4 & NA          &  0 & NA                                     & FALSE & NA\\\\\n",
       "\t11 & LAMBDA  & 1 & 5 & NA          &  1 & NA                                     & FALSE & NA\\\\\n",
       "\t12 & LAMBDA  & 1 & 6 & NA          &  0 & NA                                     & FALSE & NA\\\\\n",
       "\t13 & LAMBDA  & 2 & 1 & NA          &  0 & NA                                     & FALSE & NA\\\\\n",
       "\t14 & LAMBDA  & 2 & 2 & NA          &  1 & NA                                     & FALSE & NA\\\\\n",
       "\t15 & LAMBDA  & 2 & 3 & NA          &  0 & NA                                     & FALSE & NA\\\\\n",
       "\t16 & LAMBDA  & 2 & 4 & NA          &  0 & NA                                     & FALSE & NA\\\\\n",
       "\t17 & LAMBDA  & 2 & 5 & NA          &  0 & NA                                     & FALSE & NA\\\\\n",
       "\t18 & LAMBDA  & 2 & 6 & NA          &  1 & NA                                     & FALSE & NA\\\\\n",
       "\t19 & DRIFT   & 1 & 1 & drift\\_KBF   & NA & -(1e-06 + 2 * log1p\\_exp(-(2 * param))) & FALSE &  1\\\\\n",
       "\t20 & DRIFT   & 1 & 2 & NA          &  0 & NA                                     & FALSE & NA\\\\\n",
       "\t21 & DRIFT   & 1 & 3 & NA          &  1 & NA                                     & FALSE & NA\\\\\n",
       "\t22 & DRIFT   & 1 & 4 & NA          &  0 & NA                                     & FALSE & NA\\\\\n",
       "\t23 & DRIFT   & 1 & 5 & NA          &  0 & NA                                     & FALSE & NA\\\\\n",
       "\t24 & DRIFT   & 1 & 6 & NA          &  0 & NA                                     & FALSE & NA\\\\\n",
       "\t25 & DRIFT   & 2 & 1 & NA          &  0 & NA                                     & FALSE & NA\\\\\n",
       "\t26 & DRIFT   & 2 & 2 & drift\\_VTD   & NA & -(1e-06 + 2 * log1p\\_exp(-(2 * param))) & FALSE &  1\\\\\n",
       "\t27 & DRIFT   & 2 & 3 & NA          &  0 & NA                                     & FALSE & NA\\\\\n",
       "\t28 & DRIFT   & 2 & 4 & NA          &  1 & NA                                     & FALSE & NA\\\\\n",
       "\t29 & DRIFT   & 2 & 5 & NA          &  0 & NA                                     & FALSE & NA\\\\\n",
       "\t30 & DRIFT   & 2 & 6 & NA          &  0 & NA                                     & FALSE & NA\\\\\n",
       "\t... & ... & ... & ... & ... & ... & ... & ... & ...\\\\\n",
       "\t109 & T0VAR & 2 & 1 & T0var\\_VTD\\_KBF         & NA & 2/(1 + exp(-param)) - 1          & FALSE &  1\\\\\n",
       "\t110 & T0VAR & 2 & 2 & T0var\\_VTD             & NA & 1e-10 + 5 * log1p\\_exp(2 * param) & FALSE &  1\\\\\n",
       "\t111 & T0VAR & 2 & 3 & NA                    &  0 & NA                               & FALSE & NA\\\\\n",
       "\t112 & T0VAR & 2 & 4 & NA                    &  0 & NA                               & FALSE & NA\\\\\n",
       "\t113 & T0VAR & 2 & 5 & NA                    &  0 & NA                               & FALSE & NA\\\\\n",
       "\t114 & T0VAR & 2 & 6 & NA                    &  0 & NA                               & FALSE & NA\\\\\n",
       "\t115 & T0VAR & 3 & 1 & T0var\\_cintKBF\\_KBF     & NA & 2/(1 + exp(-param)) - 1          & FALSE &  1\\\\\n",
       "\t116 & T0VAR & 3 & 2 & T0var\\_cintKBF\\_VTD     & NA & 2/(1 + exp(-param)) - 1          & FALSE &  1\\\\\n",
       "\t117 & T0VAR & 3 & 3 & T0var\\_cintKBF         & NA & 1e-10 + 5 * log1p\\_exp(2 * param) & FALSE &  1\\\\\n",
       "\t118 & T0VAR & 3 & 4 & NA                    &  0 & NA                               & FALSE & NA\\\\\n",
       "\t119 & T0VAR & 3 & 5 & NA                    &  0 & NA                               & FALSE & NA\\\\\n",
       "\t120 & T0VAR & 3 & 6 & NA                    &  0 & NA                               & FALSE & NA\\\\\n",
       "\t121 & T0VAR & 4 & 1 & T0var\\_cintVTD\\_KBF     & NA & 2/(1 + exp(-param)) - 1          & FALSE &  1\\\\\n",
       "\t122 & T0VAR & 4 & 2 & T0var\\_cintVTD\\_VTD     & NA & 2/(1 + exp(-param)) - 1          & FALSE &  1\\\\\n",
       "\t123 & T0VAR & 4 & 3 & T0var\\_cintVTD\\_cintKBF & NA & 2/(1 + exp(-param)) - 1          & FALSE &  1\\\\\n",
       "\t124 & T0VAR & 4 & 4 & T0var\\_cintVTD         & NA & 1e-10 + 5 * log1p\\_exp(2 * param) & FALSE &  1\\\\\n",
       "\t125 & T0VAR & 4 & 5 & NA                    &  0 & NA                               & FALSE & NA\\\\\n",
       "\t126 & T0VAR & 4 & 6 & NA                    &  0 & NA                               & FALSE & NA\\\\\n",
       "\t127 & T0VAR & 5 & 1 & NA                    &  0 & NA                               & FALSE & NA\\\\\n",
       "\t128 & T0VAR & 5 & 2 & NA                    &  0 & NA                               & FALSE & NA\\\\\n",
       "\t129 & T0VAR & 5 & 3 & NA                    &  0 & NA                               & FALSE & NA\\\\\n",
       "\t130 & T0VAR & 5 & 4 & NA                    &  0 & NA                               & FALSE & NA\\\\\n",
       "\t131 & T0VAR & 5 & 5 & NA                    &  0 & NA                               & FALSE & NA\\\\\n",
       "\t132 & T0VAR & 5 & 6 & NA                    &  0 & NA                               & FALSE & NA\\\\\n",
       "\t133 & T0VAR & 6 & 1 & NA                    &  0 & NA                               & FALSE & NA\\\\\n",
       "\t134 & T0VAR & 6 & 2 & NA                    &  0 & NA                               & FALSE & NA\\\\\n",
       "\t135 & T0VAR & 6 & 3 & NA                    &  0 & NA                               & FALSE & NA\\\\\n",
       "\t136 & T0VAR & 6 & 4 & NA                    &  0 & NA                               & FALSE & NA\\\\\n",
       "\t137 & T0VAR & 6 & 5 & NA                    &  0 & NA                               & FALSE & NA\\\\\n",
       "\t138 & T0VAR & 6 & 6 & NA                    &  0 & NA                               & FALSE & NA\\\\\n",
       "\\end{tabular}\n"
      ],
      "text/markdown": [
       "\n",
       "A data.frame: 138 × 8\n",
       "\n",
       "| <!--/--> | matrix &lt;chr&gt; | row &lt;int&gt; | col &lt;int&gt; | param &lt;chr&gt; | value &lt;dbl&gt; | transform &lt;chr&gt; | indvarying &lt;lgl&gt; | sdscale &lt;dbl&gt; |\n",
       "|---|---|---|---|---|---|---|---|---|\n",
       "| 1 | T0MEANS | 1 | 1 | T0m_KBF     | NA | 10 * param                             |  TRUE |  1 |\n",
       "| 2 | T0MEANS | 2 | 1 | T0m_VTD     | NA | 10 * param                             |  TRUE |  1 |\n",
       "| 3 | T0MEANS | 3 | 1 | T0m_cintKBF | NA | 10 * param                             |  TRUE |  1 |\n",
       "| 4 | T0MEANS | 4 | 1 | T0m_cintVTD | NA | 10 * param                             |  TRUE |  1 |\n",
       "| 5 | T0MEANS | 5 | 1 | NA          |  0 | NA                                     | FALSE | NA |\n",
       "| 6 | T0MEANS | 6 | 1 | NA          |  0 | NA                                     | FALSE | NA |\n",
       "| 7 | LAMBDA  | 1 | 1 | NA          |  1 | NA                                     | FALSE | NA |\n",
       "| 8 | LAMBDA  | 1 | 2 | NA          |  0 | NA                                     | FALSE | NA |\n",
       "| 9 | LAMBDA  | 1 | 3 | NA          |  0 | NA                                     | FALSE | NA |\n",
       "| 10 | LAMBDA  | 1 | 4 | NA          |  0 | NA                                     | FALSE | NA |\n",
       "| 11 | LAMBDA  | 1 | 5 | NA          |  1 | NA                                     | FALSE | NA |\n",
       "| 12 | LAMBDA  | 1 | 6 | NA          |  0 | NA                                     | FALSE | NA |\n",
       "| 13 | LAMBDA  | 2 | 1 | NA          |  0 | NA                                     | FALSE | NA |\n",
       "| 14 | LAMBDA  | 2 | 2 | NA          |  1 | NA                                     | FALSE | NA |\n",
       "| 15 | LAMBDA  | 2 | 3 | NA          |  0 | NA                                     | FALSE | NA |\n",
       "| 16 | LAMBDA  | 2 | 4 | NA          |  0 | NA                                     | FALSE | NA |\n",
       "| 17 | LAMBDA  | 2 | 5 | NA          |  0 | NA                                     | FALSE | NA |\n",
       "| 18 | LAMBDA  | 2 | 6 | NA          |  1 | NA                                     | FALSE | NA |\n",
       "| 19 | DRIFT   | 1 | 1 | drift_KBF   | NA | -(1e-06 + 2 * log1p_exp(-(2 * param))) | FALSE |  1 |\n",
       "| 20 | DRIFT   | 1 | 2 | NA          |  0 | NA                                     | FALSE | NA |\n",
       "| 21 | DRIFT   | 1 | 3 | NA          |  1 | NA                                     | FALSE | NA |\n",
       "| 22 | DRIFT   | 1 | 4 | NA          |  0 | NA                                     | FALSE | NA |\n",
       "| 23 | DRIFT   | 1 | 5 | NA          |  0 | NA                                     | FALSE | NA |\n",
       "| 24 | DRIFT   | 1 | 6 | NA          |  0 | NA                                     | FALSE | NA |\n",
       "| 25 | DRIFT   | 2 | 1 | NA          |  0 | NA                                     | FALSE | NA |\n",
       "| 26 | DRIFT   | 2 | 2 | drift_VTD   | NA | -(1e-06 + 2 * log1p_exp(-(2 * param))) | FALSE |  1 |\n",
       "| 27 | DRIFT   | 2 | 3 | NA          |  0 | NA                                     | FALSE | NA |\n",
       "| 28 | DRIFT   | 2 | 4 | NA          |  1 | NA                                     | FALSE | NA |\n",
       "| 29 | DRIFT   | 2 | 5 | NA          |  0 | NA                                     | FALSE | NA |\n",
       "| 30 | DRIFT   | 2 | 6 | NA          |  0 | NA                                     | FALSE | NA |\n",
       "| ... | ... | ... | ... | ... | ... | ... | ... | ... |\n",
       "| 109 | T0VAR | 2 | 1 | T0var_VTD_KBF         | NA | 2/(1 + exp(-param)) - 1          | FALSE |  1 |\n",
       "| 110 | T0VAR | 2 | 2 | T0var_VTD             | NA | 1e-10 + 5 * log1p_exp(2 * param) | FALSE |  1 |\n",
       "| 111 | T0VAR | 2 | 3 | NA                    |  0 | NA                               | FALSE | NA |\n",
       "| 112 | T0VAR | 2 | 4 | NA                    |  0 | NA                               | FALSE | NA |\n",
       "| 113 | T0VAR | 2 | 5 | NA                    |  0 | NA                               | FALSE | NA |\n",
       "| 114 | T0VAR | 2 | 6 | NA                    |  0 | NA                               | FALSE | NA |\n",
       "| 115 | T0VAR | 3 | 1 | T0var_cintKBF_KBF     | NA | 2/(1 + exp(-param)) - 1          | FALSE |  1 |\n",
       "| 116 | T0VAR | 3 | 2 | T0var_cintKBF_VTD     | NA | 2/(1 + exp(-param)) - 1          | FALSE |  1 |\n",
       "| 117 | T0VAR | 3 | 3 | T0var_cintKBF         | NA | 1e-10 + 5 * log1p_exp(2 * param) | FALSE |  1 |\n",
       "| 118 | T0VAR | 3 | 4 | NA                    |  0 | NA                               | FALSE | NA |\n",
       "| 119 | T0VAR | 3 | 5 | NA                    |  0 | NA                               | FALSE | NA |\n",
       "| 120 | T0VAR | 3 | 6 | NA                    |  0 | NA                               | FALSE | NA |\n",
       "| 121 | T0VAR | 4 | 1 | T0var_cintVTD_KBF     | NA | 2/(1 + exp(-param)) - 1          | FALSE |  1 |\n",
       "| 122 | T0VAR | 4 | 2 | T0var_cintVTD_VTD     | NA | 2/(1 + exp(-param)) - 1          | FALSE |  1 |\n",
       "| 123 | T0VAR | 4 | 3 | T0var_cintVTD_cintKBF | NA | 2/(1 + exp(-param)) - 1          | FALSE |  1 |\n",
       "| 124 | T0VAR | 4 | 4 | T0var_cintVTD         | NA | 1e-10 + 5 * log1p_exp(2 * param) | FALSE |  1 |\n",
       "| 125 | T0VAR | 4 | 5 | NA                    |  0 | NA                               | FALSE | NA |\n",
       "| 126 | T0VAR | 4 | 6 | NA                    |  0 | NA                               | FALSE | NA |\n",
       "| 127 | T0VAR | 5 | 1 | NA                    |  0 | NA                               | FALSE | NA |\n",
       "| 128 | T0VAR | 5 | 2 | NA                    |  0 | NA                               | FALSE | NA |\n",
       "| 129 | T0VAR | 5 | 3 | NA                    |  0 | NA                               | FALSE | NA |\n",
       "| 130 | T0VAR | 5 | 4 | NA                    |  0 | NA                               | FALSE | NA |\n",
       "| 131 | T0VAR | 5 | 5 | NA                    |  0 | NA                               | FALSE | NA |\n",
       "| 132 | T0VAR | 5 | 6 | NA                    |  0 | NA                               | FALSE | NA |\n",
       "| 133 | T0VAR | 6 | 1 | NA                    |  0 | NA                               | FALSE | NA |\n",
       "| 134 | T0VAR | 6 | 2 | NA                    |  0 | NA                               | FALSE | NA |\n",
       "| 135 | T0VAR | 6 | 3 | NA                    |  0 | NA                               | FALSE | NA |\n",
       "| 136 | T0VAR | 6 | 4 | NA                    |  0 | NA                               | FALSE | NA |\n",
       "| 137 | T0VAR | 6 | 5 | NA                    |  0 | NA                               | FALSE | NA |\n",
       "| 138 | T0VAR | 6 | 6 | NA                    |  0 | NA                               | FALSE | NA |\n",
       "\n"
      ],
      "text/plain": [
       "    matrix  row col param                 value\n",
       "1   T0MEANS 1   1   T0m_KBF               NA   \n",
       "2   T0MEANS 2   1   T0m_VTD               NA   \n",
       "3   T0MEANS 3   1   T0m_cintKBF           NA   \n",
       "4   T0MEANS 4   1   T0m_cintVTD           NA   \n",
       "5   T0MEANS 5   1   NA                     0   \n",
       "6   T0MEANS 6   1   NA                     0   \n",
       "7   LAMBDA  1   1   NA                     1   \n",
       "8   LAMBDA  1   2   NA                     0   \n",
       "9   LAMBDA  1   3   NA                     0   \n",
       "10  LAMBDA  1   4   NA                     0   \n",
       "11  LAMBDA  1   5   NA                     1   \n",
       "12  LAMBDA  1   6   NA                     0   \n",
       "13  LAMBDA  2   1   NA                     0   \n",
       "14  LAMBDA  2   2   NA                     1   \n",
       "15  LAMBDA  2   3   NA                     0   \n",
       "16  LAMBDA  2   4   NA                     0   \n",
       "17  LAMBDA  2   5   NA                     0   \n",
       "18  LAMBDA  2   6   NA                     1   \n",
       "19  DRIFT   1   1   drift_KBF             NA   \n",
       "20  DRIFT   1   2   NA                     0   \n",
       "21  DRIFT   1   3   NA                     1   \n",
       "22  DRIFT   1   4   NA                     0   \n",
       "23  DRIFT   1   5   NA                     0   \n",
       "24  DRIFT   1   6   NA                     0   \n",
       "25  DRIFT   2   1   NA                     0   \n",
       "26  DRIFT   2   2   drift_VTD             NA   \n",
       "27  DRIFT   2   3   NA                     0   \n",
       "28  DRIFT   2   4   NA                     1   \n",
       "29  DRIFT   2   5   NA                     0   \n",
       "30  DRIFT   2   6   NA                     0   \n",
       "... ...     ... ... ...                   ...  \n",
       "109 T0VAR   2   1   T0var_VTD_KBF         NA   \n",
       "110 T0VAR   2   2   T0var_VTD             NA   \n",
       "111 T0VAR   2   3   NA                     0   \n",
       "112 T0VAR   2   4   NA                     0   \n",
       "113 T0VAR   2   5   NA                     0   \n",
       "114 T0VAR   2   6   NA                     0   \n",
       "115 T0VAR   3   1   T0var_cintKBF_KBF     NA   \n",
       "116 T0VAR   3   2   T0var_cintKBF_VTD     NA   \n",
       "117 T0VAR   3   3   T0var_cintKBF         NA   \n",
       "118 T0VAR   3   4   NA                     0   \n",
       "119 T0VAR   3   5   NA                     0   \n",
       "120 T0VAR   3   6   NA                     0   \n",
       "121 T0VAR   4   1   T0var_cintVTD_KBF     NA   \n",
       "122 T0VAR   4   2   T0var_cintVTD_VTD     NA   \n",
       "123 T0VAR   4   3   T0var_cintVTD_cintKBF NA   \n",
       "124 T0VAR   4   4   T0var_cintVTD         NA   \n",
       "125 T0VAR   4   5   NA                     0   \n",
       "126 T0VAR   4   6   NA                     0   \n",
       "127 T0VAR   5   1   NA                     0   \n",
       "128 T0VAR   5   2   NA                     0   \n",
       "129 T0VAR   5   3   NA                     0   \n",
       "130 T0VAR   5   4   NA                     0   \n",
       "131 T0VAR   5   5   NA                     0   \n",
       "132 T0VAR   5   6   NA                     0   \n",
       "133 T0VAR   6   1   NA                     0   \n",
       "134 T0VAR   6   2   NA                     0   \n",
       "135 T0VAR   6   3   NA                     0   \n",
       "136 T0VAR   6   4   NA                     0   \n",
       "137 T0VAR   6   5   NA                     0   \n",
       "138 T0VAR   6   6   NA                     0   \n",
       "    transform                              indvarying sdscale\n",
       "1   10 * param                              TRUE       1     \n",
       "2   10 * param                              TRUE       1     \n",
       "3   10 * param                              TRUE       1     \n",
       "4   10 * param                              TRUE       1     \n",
       "5   NA                                     FALSE      NA     \n",
       "6   NA                                     FALSE      NA     \n",
       "7   NA                                     FALSE      NA     \n",
       "8   NA                                     FALSE      NA     \n",
       "9   NA                                     FALSE      NA     \n",
       "10  NA                                     FALSE      NA     \n",
       "11  NA                                     FALSE      NA     \n",
       "12  NA                                     FALSE      NA     \n",
       "13  NA                                     FALSE      NA     \n",
       "14  NA                                     FALSE      NA     \n",
       "15  NA                                     FALSE      NA     \n",
       "16  NA                                     FALSE      NA     \n",
       "17  NA                                     FALSE      NA     \n",
       "18  NA                                     FALSE      NA     \n",
       "19  -(1e-06 + 2 * log1p_exp(-(2 * param))) FALSE       1     \n",
       "20  NA                                     FALSE      NA     \n",
       "21  NA                                     FALSE      NA     \n",
       "22  NA                                     FALSE      NA     \n",
       "23  NA                                     FALSE      NA     \n",
       "24  NA                                     FALSE      NA     \n",
       "25  NA                                     FALSE      NA     \n",
       "26  -(1e-06 + 2 * log1p_exp(-(2 * param))) FALSE       1     \n",
       "27  NA                                     FALSE      NA     \n",
       "28  NA                                     FALSE      NA     \n",
       "29  NA                                     FALSE      NA     \n",
       "30  NA                                     FALSE      NA     \n",
       "... ...                                    ...        ...    \n",
       "109 2/(1 + exp(-param)) - 1                FALSE       1     \n",
       "110 1e-10 + 5 * log1p_exp(2 * param)       FALSE       1     \n",
       "111 NA                                     FALSE      NA     \n",
       "112 NA                                     FALSE      NA     \n",
       "113 NA                                     FALSE      NA     \n",
       "114 NA                                     FALSE      NA     \n",
       "115 2/(1 + exp(-param)) - 1                FALSE       1     \n",
       "116 2/(1 + exp(-param)) - 1                FALSE       1     \n",
       "117 1e-10 + 5 * log1p_exp(2 * param)       FALSE       1     \n",
       "118 NA                                     FALSE      NA     \n",
       "119 NA                                     FALSE      NA     \n",
       "120 NA                                     FALSE      NA     \n",
       "121 2/(1 + exp(-param)) - 1                FALSE       1     \n",
       "122 2/(1 + exp(-param)) - 1                FALSE       1     \n",
       "123 2/(1 + exp(-param)) - 1                FALSE       1     \n",
       "124 1e-10 + 5 * log1p_exp(2 * param)       FALSE       1     \n",
       "125 NA                                     FALSE      NA     \n",
       "126 NA                                     FALSE      NA     \n",
       "127 NA                                     FALSE      NA     \n",
       "128 NA                                     FALSE      NA     \n",
       "129 NA                                     FALSE      NA     \n",
       "130 NA                                     FALSE      NA     \n",
       "131 NA                                     FALSE      NA     \n",
       "132 NA                                     FALSE      NA     \n",
       "133 NA                                     FALSE      NA     \n",
       "134 NA                                     FALSE      NA     \n",
       "135 NA                                     FALSE      NA     \n",
       "136 NA                                     FALSE      NA     \n",
       "137 NA                                     FALSE      NA     \n",
       "138 NA                                     FALSE      NA     "
      ]
     },
     "metadata": {},
     "output_type": "display_data"
    }
   ],
   "source": [
    "model_fit$pars$matrix"
   ]
  },
  {
   "cell_type": "code",
   "execution_count": 83,
   "id": "813eeca2",
   "metadata": {},
   "outputs": [
    {
     "data": {
      "text/plain": [
       "$pars\n",
       "           matrix row col                 param value\n",
       "1         T0MEANS   1   1               T0m_KBF    NA\n",
       "2         T0MEANS   2   1               T0m_VTD    NA\n",
       "3         T0MEANS   3   1           T0m_cintKBF    NA\n",
       "4         T0MEANS   4   1           T0m_cintVTD    NA\n",
       "5         T0MEANS   5   1                  <NA>     0\n",
       "6         T0MEANS   6   1                  <NA>     0\n",
       "7          LAMBDA   1   1                  <NA>     1\n",
       "8          LAMBDA   1   2                  <NA>     0\n",
       "9          LAMBDA   1   3                  <NA>     0\n",
       "10         LAMBDA   1   4                  <NA>     0\n",
       "11         LAMBDA   1   5                  <NA>     1\n",
       "12         LAMBDA   1   6                  <NA>     0\n",
       "13         LAMBDA   2   1                  <NA>     0\n",
       "14         LAMBDA   2   2                  <NA>     1\n",
       "15         LAMBDA   2   3                  <NA>     0\n",
       "16         LAMBDA   2   4                  <NA>     0\n",
       "17         LAMBDA   2   5                  <NA>     0\n",
       "18         LAMBDA   2   6                  <NA>     1\n",
       "19          DRIFT   1   1             drift_KBF    NA\n",
       "20          DRIFT   1   2                  <NA>     0\n",
       "21          DRIFT   1   3                  <NA>     1\n",
       "22          DRIFT   1   4                  <NA>     0\n",
       "23          DRIFT   1   5                  <NA>     0\n",
       "24          DRIFT   1   6                  <NA>     0\n",
       "25          DRIFT   2   1                  <NA>     0\n",
       "26          DRIFT   2   2             drift_VTD    NA\n",
       "27          DRIFT   2   3                  <NA>     0\n",
       "28          DRIFT   2   4                  <NA>     1\n",
       "29          DRIFT   2   5                  <NA>     0\n",
       "30          DRIFT   2   6                  <NA>     0\n",
       "31          DRIFT   3   1                  <NA>     0\n",
       "32          DRIFT   3   2                  <NA>     0\n",
       "33          DRIFT   3   3                  <NA>     0\n",
       "34          DRIFT   3   4                  <NA>     0\n",
       "35          DRIFT   3   5                  <NA>     0\n",
       "36          DRIFT   3   6                  <NA>     0\n",
       "37          DRIFT   4   1                  <NA>     0\n",
       "38          DRIFT   4   2                  <NA>     0\n",
       "39          DRIFT   4   3                  <NA>     0\n",
       "40          DRIFT   4   4                  <NA>     0\n",
       "41          DRIFT   4   5                  <NA>     0\n",
       "42          DRIFT   4   6                  <NA>     0\n",
       "43          DRIFT   5   1                  <NA>     0\n",
       "44          DRIFT   5   2                  <NA>     0\n",
       "45          DRIFT   5   3                  <NA>     0\n",
       "46          DRIFT   5   4                  <NA>     0\n",
       "47          DRIFT   5   5          drift_dynKBF    NA\n",
       "48          DRIFT   5   6   drift_dynKBF_dynVTD    NA\n",
       "49          DRIFT   6   1                  <NA>     0\n",
       "50          DRIFT   6   2                  <NA>     0\n",
       "51          DRIFT   6   3                  <NA>     0\n",
       "52          DRIFT   6   4                  <NA>     0\n",
       "53          DRIFT   6   5   drift_dynVTD_dynKBF    NA\n",
       "54          DRIFT   6   6          drift_dynVTD    NA\n",
       "55      DIFFUSION   1   1                  <NA>     0\n",
       "56      DIFFUSION   1   2                  <NA>     0\n",
       "57      DIFFUSION   1   3                  <NA>     0\n",
       "58      DIFFUSION   1   4                  <NA>     0\n",
       "59      DIFFUSION   1   5                  <NA>     0\n",
       "60      DIFFUSION   1   6                  <NA>     0\n",
       "61      DIFFUSION   2   1                  <NA>     0\n",
       "62      DIFFUSION   2   2                  <NA>     0\n",
       "63      DIFFUSION   2   3                  <NA>     0\n",
       "64      DIFFUSION   2   4                  <NA>     0\n",
       "65      DIFFUSION   2   5                  <NA>     0\n",
       "66      DIFFUSION   2   6                  <NA>     0\n",
       "67      DIFFUSION   3   1                  <NA>     0\n",
       "68      DIFFUSION   3   2                  <NA>     0\n",
       "69      DIFFUSION   3   3                  <NA>     0\n",
       "70      DIFFUSION   3   4                  <NA>     0\n",
       "71      DIFFUSION   3   5                  <NA>     0\n",
       "72      DIFFUSION   3   6                  <NA>     0\n",
       "73      DIFFUSION   4   1                  <NA>     0\n",
       "74      DIFFUSION   4   2                  <NA>     0\n",
       "75      DIFFUSION   4   3                  <NA>     0\n",
       "76      DIFFUSION   4   4                  <NA>     0\n",
       "77      DIFFUSION   4   5                  <NA>     0\n",
       "78      DIFFUSION   4   6                  <NA>     0\n",
       "79      DIFFUSION   5   1                  <NA>     0\n",
       "80      DIFFUSION   5   2                  <NA>     0\n",
       "81      DIFFUSION   5   3                  <NA>     0\n",
       "82      DIFFUSION   5   4                  <NA>     0\n",
       "83      DIFFUSION   5   5          diffu_dynKBF    NA\n",
       "84      DIFFUSION   5   6                  <NA>     0\n",
       "85      DIFFUSION   6   1                  <NA>     0\n",
       "86      DIFFUSION   6   2                  <NA>     0\n",
       "87      DIFFUSION   6   3                  <NA>     0\n",
       "88      DIFFUSION   6   4                  <NA>     0\n",
       "89      DIFFUSION   6   5   diffu_dynVTD_dynKBF    NA\n",
       "90      DIFFUSION   6   6          diffu_dynVTD    NA\n",
       "91    MANIFESTVAR   1   1                mvarY1    NA\n",
       "92    MANIFESTVAR   1   2                  <NA>     0\n",
       "93    MANIFESTVAR   2   1                  <NA>     0\n",
       "94    MANIFESTVAR   2   2                mvarY2    NA\n",
       "95  MANIFESTMEANS   1   1                 mm_Y1    NA\n",
       "96  MANIFESTMEANS   2   1                 mm_Y2    NA\n",
       "97           CINT   1   1                  <NA>     0\n",
       "98           CINT   2   1                  <NA>     0\n",
       "99           CINT   3   1                  <NA>     0\n",
       "100          CINT   4   1                  <NA>     0\n",
       "101          CINT   5   1                  <NA>     0\n",
       "102          CINT   6   1                  <NA>     0\n",
       "103         T0VAR   1   1             T0var_KBF    NA\n",
       "104         T0VAR   1   2                  <NA>     0\n",
       "105         T0VAR   1   3                  <NA>     0\n",
       "106         T0VAR   1   4                  <NA>     0\n",
       "107         T0VAR   1   5                  <NA>     0\n",
       "108         T0VAR   1   6                  <NA>     0\n",
       "109         T0VAR   2   1         T0var_VTD_KBF    NA\n",
       "110         T0VAR   2   2             T0var_VTD    NA\n",
       "111         T0VAR   2   3                  <NA>     0\n",
       "112         T0VAR   2   4                  <NA>     0\n",
       "113         T0VAR   2   5                  <NA>     0\n",
       "114         T0VAR   2   6                  <NA>     0\n",
       "115         T0VAR   3   1     T0var_cintKBF_KBF    NA\n",
       "116         T0VAR   3   2     T0var_cintKBF_VTD    NA\n",
       "117         T0VAR   3   3         T0var_cintKBF    NA\n",
       "118         T0VAR   3   4                  <NA>     0\n",
       "119         T0VAR   3   5                  <NA>     0\n",
       "120         T0VAR   3   6                  <NA>     0\n",
       "121         T0VAR   4   1     T0var_cintVTD_KBF    NA\n",
       "122         T0VAR   4   2     T0var_cintVTD_VTD    NA\n",
       "123         T0VAR   4   3 T0var_cintVTD_cintKBF    NA\n",
       "124         T0VAR   4   4         T0var_cintVTD    NA\n",
       "125         T0VAR   4   5                  <NA>     0\n",
       "126         T0VAR   4   6                  <NA>     0\n",
       "127         T0VAR   5   1                  <NA>     0\n",
       "128         T0VAR   5   2                  <NA>     0\n",
       "129         T0VAR   5   3                  <NA>     0\n",
       "130         T0VAR   5   4                  <NA>     0\n",
       "131         T0VAR   5   5                  <NA>     0\n",
       "132         T0VAR   5   6                  <NA>     0\n",
       "133         T0VAR   6   1                  <NA>     0\n",
       "134         T0VAR   6   2                  <NA>     0\n",
       "135         T0VAR   6   3                  <NA>     0\n",
       "136         T0VAR   6   4                  <NA>     0\n",
       "137         T0VAR   6   5                  <NA>     0\n",
       "138         T0VAR   6   6                  <NA>     0\n",
       "                                 transform indvarying sdscale\n",
       "1                               10 * param       TRUE       1\n",
       "2                               10 * param       TRUE       1\n",
       "3                               10 * param       TRUE       1\n",
       "4                               10 * param       TRUE       1\n",
       "5                                     <NA>      FALSE      NA\n",
       "6                                     <NA>      FALSE      NA\n",
       "7                                     <NA>      FALSE      NA\n",
       "8                                     <NA>      FALSE      NA\n",
       "9                                     <NA>      FALSE      NA\n",
       "10                                    <NA>      FALSE      NA\n",
       "11                                    <NA>      FALSE      NA\n",
       "12                                    <NA>      FALSE      NA\n",
       "13                                    <NA>      FALSE      NA\n",
       "14                                    <NA>      FALSE      NA\n",
       "15                                    <NA>      FALSE      NA\n",
       "16                                    <NA>      FALSE      NA\n",
       "17                                    <NA>      FALSE      NA\n",
       "18                                    <NA>      FALSE      NA\n",
       "19  -(1e-06 + 2 * log1p_exp(-(2 * param)))      FALSE       1\n",
       "20                                    <NA>      FALSE      NA\n",
       "21                                    <NA>      FALSE      NA\n",
       "22                                    <NA>      FALSE      NA\n",
       "23                                    <NA>      FALSE      NA\n",
       "24                                    <NA>      FALSE      NA\n",
       "25                                    <NA>      FALSE      NA\n",
       "26  -(1e-06 + 2 * log1p_exp(-(2 * param)))      FALSE       1\n",
       "27                                    <NA>      FALSE      NA\n",
       "28                                    <NA>      FALSE      NA\n",
       "29                                    <NA>      FALSE      NA\n",
       "30                                    <NA>      FALSE      NA\n",
       "31                                    <NA>      FALSE      NA\n",
       "32                                    <NA>      FALSE      NA\n",
       "33                                    <NA>      FALSE      NA\n",
       "34                                    <NA>      FALSE      NA\n",
       "35                                    <NA>      FALSE      NA\n",
       "36                                    <NA>      FALSE      NA\n",
       "37                                    <NA>      FALSE      NA\n",
       "38                                    <NA>      FALSE      NA\n",
       "39                                    <NA>      FALSE      NA\n",
       "40                                    <NA>      FALSE      NA\n",
       "41                                    <NA>      FALSE      NA\n",
       "42                                    <NA>      FALSE      NA\n",
       "43                                    <NA>      FALSE      NA\n",
       "44                                    <NA>      FALSE      NA\n",
       "45                                    <NA>      FALSE      NA\n",
       "46                                    <NA>      FALSE      NA\n",
       "47  -(1e-06 + 2 * log1p_exp(-(2 * param)))      FALSE       1\n",
       "48                                   param      FALSE       1\n",
       "49                                    <NA>      FALSE      NA\n",
       "50                                    <NA>      FALSE      NA\n",
       "51                                    <NA>      FALSE      NA\n",
       "52                                    <NA>      FALSE      NA\n",
       "53                                   param      FALSE       1\n",
       "54  -(1e-06 + 2 * log1p_exp(-(2 * param)))      FALSE       1\n",
       "55                                    <NA>      FALSE      NA\n",
       "56                                    <NA>      FALSE      NA\n",
       "57                                    <NA>      FALSE      NA\n",
       "58                                    <NA>      FALSE      NA\n",
       "59                                    <NA>      FALSE      NA\n",
       "60                                    <NA>      FALSE      NA\n",
       "61                                    <NA>      FALSE      NA\n",
       "62                                    <NA>      FALSE      NA\n",
       "63                                    <NA>      FALSE      NA\n",
       "64                                    <NA>      FALSE      NA\n",
       "65                                    <NA>      FALSE      NA\n",
       "66                                    <NA>      FALSE      NA\n",
       "67                                    <NA>      FALSE      NA\n",
       "68                                    <NA>      FALSE      NA\n",
       "69                                    <NA>      FALSE      NA\n",
       "70                                    <NA>      FALSE      NA\n",
       "71                                    <NA>      FALSE      NA\n",
       "72                                    <NA>      FALSE      NA\n",
       "73                                    <NA>      FALSE      NA\n",
       "74                                    <NA>      FALSE      NA\n",
       "75                                    <NA>      FALSE      NA\n",
       "76                                    <NA>      FALSE      NA\n",
       "77                                    <NA>      FALSE      NA\n",
       "78                                    <NA>      FALSE      NA\n",
       "79                                    <NA>      FALSE      NA\n",
       "80                                    <NA>      FALSE      NA\n",
       "81                                    <NA>      FALSE      NA\n",
       "82                                    <NA>      FALSE      NA\n",
       "83       10 * log1p_exp(2 * param) + 1e-10      FALSE       1\n",
       "84                                    <NA>      FALSE      NA\n",
       "85                                    <NA>      FALSE      NA\n",
       "86                                    <NA>      FALSE      NA\n",
       "87                                    <NA>      FALSE      NA\n",
       "88                                    <NA>      FALSE      NA\n",
       "89                 2/(1 + exp(-param)) - 1      FALSE       1\n",
       "90       10 * log1p_exp(2 * param) + 1e-10      FALSE       1\n",
       "91        1e-10 + 5 * log1p_exp(2 * param)      FALSE       1\n",
       "92                                    <NA>      FALSE      NA\n",
       "93                                    <NA>      FALSE      NA\n",
       "94        1e-10 + 5 * log1p_exp(2 * param)      FALSE       1\n",
       "95                              10 * param       TRUE       1\n",
       "96                              10 * param       TRUE       1\n",
       "97                                    <NA>      FALSE      NA\n",
       "98                                    <NA>      FALSE      NA\n",
       "99                                    <NA>      FALSE      NA\n",
       "100                                   <NA>      FALSE      NA\n",
       "101                                   <NA>      FALSE      NA\n",
       "102                                   <NA>      FALSE      NA\n",
       "103       1e-10 + 5 * log1p_exp(2 * param)      FALSE       1\n",
       "104                                   <NA>      FALSE      NA\n",
       "105                                   <NA>      FALSE      NA\n",
       "106                                   <NA>      FALSE      NA\n",
       "107                                   <NA>      FALSE      NA\n",
       "108                                   <NA>      FALSE      NA\n",
       "109                2/(1 + exp(-param)) - 1      FALSE       1\n",
       "110       1e-10 + 5 * log1p_exp(2 * param)      FALSE       1\n",
       "111                                   <NA>      FALSE      NA\n",
       "112                                   <NA>      FALSE      NA\n",
       "113                                   <NA>      FALSE      NA\n",
       "114                                   <NA>      FALSE      NA\n",
       "115                2/(1 + exp(-param)) - 1      FALSE       1\n",
       "116                2/(1 + exp(-param)) - 1      FALSE       1\n",
       "117       1e-10 + 5 * log1p_exp(2 * param)      FALSE       1\n",
       "118                                   <NA>      FALSE      NA\n",
       "119                                   <NA>      FALSE      NA\n",
       "120                                   <NA>      FALSE      NA\n",
       "121                2/(1 + exp(-param)) - 1      FALSE       1\n",
       "122                2/(1 + exp(-param)) - 1      FALSE       1\n",
       "123                2/(1 + exp(-param)) - 1      FALSE       1\n",
       "124       1e-10 + 5 * log1p_exp(2 * param)      FALSE       1\n",
       "125                                   <NA>      FALSE      NA\n",
       "126                                   <NA>      FALSE      NA\n",
       "127                                   <NA>      FALSE      NA\n",
       "128                                   <NA>      FALSE      NA\n",
       "129                                   <NA>      FALSE      NA\n",
       "130                                   <NA>      FALSE      NA\n",
       "131                                   <NA>      FALSE      NA\n",
       "132                                   <NA>      FALSE      NA\n",
       "133                                   <NA>      FALSE      NA\n",
       "134                                   <NA>      FALSE      NA\n",
       "135                                   <NA>      FALSE      NA\n",
       "136                                   <NA>      FALSE      NA\n",
       "137                                   <NA>      FALSE      NA\n",
       "138                                   <NA>      FALSE      NA\n",
       "\n",
       "$n.latent\n",
       "[1] 6\n",
       "\n",
       "$n.manifest\n",
       "[1] 2\n",
       "\n",
       "$n.TIpred\n",
       "[1] 0\n",
       "\n",
       "$n.TDpred\n",
       "[1] 0\n",
       "\n",
       "$latentNames\n",
       "[1] \"KBF\"     \"VTD\"     \"cintKBF\" \"cintVTD\" \"dynKBF\"  \"dynVTD\" \n",
       "\n",
       "$manifestNames\n",
       "[1] \"Y1\" \"Y2\"\n",
       "\n",
       "$TIpredNames\n",
       "NULL\n",
       "\n",
       "$TDpredNames\n",
       "NULL\n",
       "\n",
       "$subjectIDname\n",
       "[1] \"id\"\n",
       "\n",
       "$timeName\n",
       "[1] \"time\"\n",
       "\n",
       "$continuoustime\n",
       "[1] TRUE\n",
       "\n",
       "$tipredeffectscale\n",
       "[1] 1\n",
       "\n",
       "$tipredsimputedscale\n",
       "[1] 1\n",
       "\n",
       "$rawpopsdbase\n",
       "[1] \"normal(0,1)\"\n",
       "\n",
       "$rawpopsdbaselowerbound\n",
       "[1] NA\n",
       "\n",
       "$rawpopsdtransform\n",
       "[1] \"log1p_exp(2*rawpopsdbase-1) .* sdscale\"\n",
       "\n",
       "$manifesttype\n",
       "[1] 0 0\n",
       "\n",
       "$covmattransform\n",
       "[1] \"rawcorr\"\n",
       "\n",
       "attr(,\"class\")\n",
       "[1] \"ctStanModel\""
      ]
     },
     "metadata": {},
     "output_type": "display_data"
    }
   ],
   "source": [
    "model_fit"
   ]
  },
  {
   "cell_type": "code",
   "execution_count": 76,
   "id": "50bd7313",
   "metadata": {},
   "outputs": [
    {
     "data": {
      "text/plain": [
       "NULL"
      ]
     },
     "metadata": {},
     "output_type": "display_data"
    }
   ],
   "source": [
    "model_fit$LAMBDA"
   ]
  },
  {
   "cell_type": "code",
   "execution_count": 67,
   "id": "d6803343",
   "metadata": {},
   "outputs": [
    {
     "data": {
      "text/html": [
       "<table class=\"dataframe\">\n",
       "<caption>A matrix: 3 × 1 of type chr</caption>\n",
       "<thead>\n",
       "\t<tr><th></th><th scope=col>eta1</th></tr>\n",
       "</thead>\n",
       "<tbody>\n",
       "\t<tr><th scope=row>Y1</th><td>1      </td></tr>\n",
       "\t<tr><th scope=row>Y2</th><td>lambda2</td></tr>\n",
       "\t<tr><th scope=row>Y3</th><td>lambda3</td></tr>\n",
       "</tbody>\n",
       "</table>\n"
      ],
      "text/latex": [
       "A matrix: 3 × 1 of type chr\n",
       "\\begin{tabular}{r|l}\n",
       "  & eta1\\\\\n",
       "\\hline\n",
       "\tY1 & 1      \\\\\n",
       "\tY2 & lambda2\\\\\n",
       "\tY3 & lambda3\\\\\n",
       "\\end{tabular}\n"
      ],
      "text/markdown": [
       "\n",
       "A matrix: 3 × 1 of type chr\n",
       "\n",
       "| <!--/--> | eta1 |\n",
       "|---|---|\n",
       "| Y1 | 1       |\n",
       "| Y2 | lambda2 |\n",
       "| Y3 | lambda3 |\n",
       "\n"
      ],
      "text/plain": [
       "   eta1   \n",
       "Y1 1      \n",
       "Y2 lambda2\n",
       "Y3 lambda3"
      ]
     },
     "metadata": {},
     "output_type": "display_data"
    }
   ],
   "source": [
    "freemodel$LAMBDA"
   ]
  },
  {
   "cell_type": "code",
   "execution_count": 70,
   "id": "e6167269",
   "metadata": {},
   "outputs": [
    {
     "data": {
      "text/plain": [
       "NULL"
      ]
     },
     "metadata": {},
     "output_type": "display_data"
    }
   ],
   "source": [
    "model_fit$LAMBDA"
   ]
  },
  {
   "cell_type": "code",
   "execution_count": 62,
   "id": "009b0a54",
   "metadata": {},
   "outputs": [
    {
     "data": {
      "text/plain": [
       "NULL"
      ]
     },
     "metadata": {},
     "output_type": "display_data"
    }
   ],
   "source": [
    "freemodel$pars$LAMBDA"
   ]
  },
  {
   "cell_type": "code",
   "execution_count": null,
   "id": "c79cf3bf",
   "metadata": {},
   "outputs": [],
   "source": [
    "pars"
   ]
  },
  {
   "cell_type": "code",
   "execution_count": 58,
   "id": "be2f9957",
   "metadata": {
    "scrolled": true
   },
   "outputs": [
    {
     "data": {
      "text/html": [
       "<table class=\"dataframe\">\n",
       "<caption>A data.frame: 2228 × 5</caption>\n",
       "<thead>\n",
       "\t<tr><th scope=col>id</th><th scope=col>time</th><th scope=col>Y1</th><th scope=col>Y2</th><th scope=col>ExperimentID</th></tr>\n",
       "\t<tr><th scope=col>&lt;int&gt;</th><th scope=col>&lt;dbl&gt;</th><th scope=col>&lt;dbl&gt;</th><th scope=col>&lt;dbl&gt;</th><th scope=col>&lt;chr&gt;</th></tr>\n",
       "</thead>\n",
       "<tbody>\n",
       "\t<tr><td>1</td><td>0.00</td><td>        NA</td><td>         NA</td><td>Exp2</td></tr>\n",
       "\t<tr><td>1</td><td>0.85</td><td>-0.9313540</td><td>-0.09099543</td><td>Exp2</td></tr>\n",
       "\t<tr><td>1</td><td>3.16</td><td>-0.9313540</td><td> 0.66686073</td><td>Exp2</td></tr>\n",
       "\t<tr><td>1</td><td>5.23</td><td>-0.8919121</td><td> 0.71267571</td><td>Exp2</td></tr>\n",
       "\t<tr><td>1</td><td>7.99</td><td>-0.2214004</td><td>-0.28380015</td><td>Exp2</td></tr>\n",
       "\t<tr><td>2</td><td>0.00</td><td>        NA</td><td>         NA</td><td>Exp2</td></tr>\n",
       "\t<tr><td>2</td><td>0.85</td><td>-0.9313540</td><td>-0.15696052</td><td>Exp2</td></tr>\n",
       "\t<tr><td>2</td><td>3.16</td><td>-0.9313540</td><td> 0.87016472</td><td>Exp2</td></tr>\n",
       "\t<tr><td>2</td><td>5.23</td><td>-0.9313540</td><td> 1.14219117</td><td>Exp2</td></tr>\n",
       "\t<tr><td>2</td><td>7.99</td><td>-0.3791678</td><td> 0.63822637</td><td>Exp2</td></tr>\n",
       "\t<tr><td>3</td><td>0.00</td><td>        NA</td><td>         NA</td><td>Exp2</td></tr>\n",
       "\t<tr><td>3</td><td>0.85</td><td>-0.9313540</td><td> 0.67895080</td><td>Exp2</td></tr>\n",
       "\t<tr><td>3</td><td>3.16</td><td>-0.1425166</td><td> 1.50155244</td><td>Exp2</td></tr>\n",
       "\t<tr><td>3</td><td>5.23</td><td>-0.2608422</td><td> 1.77214718</td><td>Exp2</td></tr>\n",
       "\t<tr><td>3</td><td>7.99</td><td>-0.1425166</td><td>-0.31243451</td><td>Exp2</td></tr>\n",
       "\t<tr><td>4</td><td>0.00</td><td>        NA</td><td>         NA</td><td>Exp2</td></tr>\n",
       "\t<tr><td>4</td><td>0.85</td><td>-0.9313540</td><td> 0.96147652</td><td>Exp2</td></tr>\n",
       "\t<tr><td>4</td><td>3.16</td><td>-0.6947028</td><td>-1.61816150</td><td>Exp2</td></tr>\n",
       "\t<tr><td>4</td><td>5.23</td><td>-0.6947028</td><td>-1.77851394</td><td>Exp2</td></tr>\n",
       "\t<tr><td>4</td><td>7.99</td><td>-0.5369353</td><td>-1.65252274</td><td>Exp2</td></tr>\n",
       "\t<tr><td>5</td><td>0.00</td><td>        NA</td><td>         NA</td><td>Exp2</td></tr>\n",
       "\t<tr><td>5</td><td>0.85</td><td>-0.9313540</td><td>-1.26564067</td><td>Exp2</td></tr>\n",
       "\t<tr><td>5</td><td>3.16</td><td>-0.8919121</td><td> 1.84086965</td><td>Exp2</td></tr>\n",
       "\t<tr><td>5</td><td>5.23</td><td>-0.8130284</td><td> 1.90959212</td><td>Exp2</td></tr>\n",
       "\t<tr><td>5</td><td>7.99</td><td>-0.6158190</td><td> 0.25452589</td><td>Exp2</td></tr>\n",
       "\t<tr><td>6</td><td>0.00</td><td>        NA</td><td>         NA</td><td>Exp2</td></tr>\n",
       "\t<tr><td>6</td><td>0.85</td><td>-0.9313540</td><td> 0.94662907</td><td>Exp2</td></tr>\n",
       "\t<tr><td>6</td><td>3.16</td><td>-0.9313540</td><td> 0.56950389</td><td>Exp2</td></tr>\n",
       "\t<tr><td>6</td><td>5.23</td><td>-0.9313540</td><td> 0.58095764</td><td>Exp2</td></tr>\n",
       "\t<tr><td>6</td><td>7.99</td><td>-0.6947028</td><td> 0.68404135</td><td>Exp2</td></tr>\n",
       "\t<tr><td>...</td><td>...</td><td>...</td><td>...</td><td>...</td></tr>\n",
       "\t<tr><td>369</td><td>4.41</td><td> 1.6718093</td><td> 0.29890916</td><td>Exp3</td></tr>\n",
       "\t<tr><td>369</td><td>5.82</td><td> 2.2239955</td><td>-1.14509795</td><td>Exp3</td></tr>\n",
       "\t<tr><td>369</td><td>6.48</td><td> 2.2239955</td><td>-0.77678845</td><td>Exp3</td></tr>\n",
       "\t<tr><td>369</td><td>8.58</td><td> 2.3028792</td><td>-1.07611300</td><td>Exp3</td></tr>\n",
       "\t<tr><td>369</td><td>9.50</td><td> 2.3028792</td><td>-1.36140671</td><td>Exp3</td></tr>\n",
       "\t<tr><td>370</td><td>0.00</td><td>        NA</td><td>         NA</td><td>Exp3</td></tr>\n",
       "\t<tr><td>370</td><td>0.26</td><td>-0.9313540</td><td> 1.16414418</td><td>Exp3</td></tr>\n",
       "\t<tr><td>370</td><td>0.95</td><td>-0.9313540</td><td> 0.28137061</td><td>Exp3</td></tr>\n",
       "\t<tr><td>370</td><td>1.64</td><td>-0.5369353</td><td>-0.50201786</td><td>Exp3</td></tr>\n",
       "\t<tr><td>370</td><td>2.56</td><td> 0.2124602</td><td>-0.31494002</td><td>Exp3</td></tr>\n",
       "\t<tr><td>370</td><td>3.48</td><td> 0.8829720</td><td>-1.12171322</td><td>Exp3</td></tr>\n",
       "\t<tr><td>370</td><td>4.41</td><td> 0.9618557</td><td>-1.04571285</td><td>Exp3</td></tr>\n",
       "\t<tr><td>370</td><td>5.82</td><td> 1.2379488</td><td>-1.47833036</td><td>Exp3</td></tr>\n",
       "\t<tr><td>370</td><td>6.48</td><td> 1.7506930</td><td>-1.41402235</td><td>Exp3</td></tr>\n",
       "\t<tr><td>370</td><td>7.40</td><td> 1.7506930</td><td>-1.35556053</td><td>Exp3</td></tr>\n",
       "\t<tr><td>370</td><td>8.58</td><td> 1.6718093</td><td>-1.39180686</td><td>Exp3</td></tr>\n",
       "\t<tr><td>370</td><td>9.50</td><td> 2.2239955</td><td>-1.29125252</td><td>Exp3</td></tr>\n",
       "\t<tr><td>371</td><td>0.00</td><td>        NA</td><td>         NA</td><td>Exp3</td></tr>\n",
       "\t<tr><td>371</td><td>0.69</td><td>-0.9313540</td><td> 0.03583094</td><td>Exp3</td></tr>\n",
       "\t<tr><td>371</td><td>1.38</td><td>-0.9313540</td><td>-0.60724915</td><td>Exp3</td></tr>\n",
       "\t<tr><td>371</td><td>2.30</td><td>-0.9313540</td><td> 0.71983431</td><td>Exp3</td></tr>\n",
       "\t<tr><td>371</td><td>3.22</td><td> 2.3423211</td><td>-0.19801637</td><td>Exp3</td></tr>\n",
       "\t<tr><td>372</td><td>0.00</td><td>        NA</td><td>         NA</td><td>Exp3</td></tr>\n",
       "\t<tr><td>372</td><td>0.95</td><td>-0.9313540</td><td>-0.88201973</td><td>Exp3</td></tr>\n",
       "\t<tr><td>372</td><td>1.64</td><td>-0.1819585</td><td>-0.78848081</td><td>Exp3</td></tr>\n",
       "\t<tr><td>372</td><td>2.56</td><td>-0.5369353</td><td>-0.40847894</td><td>Exp3</td></tr>\n",
       "\t<tr><td>372</td><td>3.48</td><td>-0.5763772</td><td>-1.10417467</td><td>Exp3</td></tr>\n",
       "\t<tr><td>372</td><td>5.82</td><td>-0.2214004</td><td>-0.48447931</td><td>Exp3</td></tr>\n",
       "\t<tr><td>372</td><td>6.48</td><td>-0.3002841</td><td>-0.84694264</td><td>Exp3</td></tr>\n",
       "\t<tr><td>372</td><td>7.40</td><td>-0.1819585</td><td>-0.47278695</td><td>Exp3</td></tr>\n",
       "</tbody>\n",
       "</table>\n"
      ],
      "text/latex": [
       "A data.frame: 2228 × 5\n",
       "\\begin{tabular}{lllll}\n",
       " id & time & Y1 & Y2 & ExperimentID\\\\\n",
       " <int> & <dbl> & <dbl> & <dbl> & <chr>\\\\\n",
       "\\hline\n",
       "\t 1 & 0.00 &         NA &          NA & Exp2\\\\\n",
       "\t 1 & 0.85 & -0.9313540 & -0.09099543 & Exp2\\\\\n",
       "\t 1 & 3.16 & -0.9313540 &  0.66686073 & Exp2\\\\\n",
       "\t 1 & 5.23 & -0.8919121 &  0.71267571 & Exp2\\\\\n",
       "\t 1 & 7.99 & -0.2214004 & -0.28380015 & Exp2\\\\\n",
       "\t 2 & 0.00 &         NA &          NA & Exp2\\\\\n",
       "\t 2 & 0.85 & -0.9313540 & -0.15696052 & Exp2\\\\\n",
       "\t 2 & 3.16 & -0.9313540 &  0.87016472 & Exp2\\\\\n",
       "\t 2 & 5.23 & -0.9313540 &  1.14219117 & Exp2\\\\\n",
       "\t 2 & 7.99 & -0.3791678 &  0.63822637 & Exp2\\\\\n",
       "\t 3 & 0.00 &         NA &          NA & Exp2\\\\\n",
       "\t 3 & 0.85 & -0.9313540 &  0.67895080 & Exp2\\\\\n",
       "\t 3 & 3.16 & -0.1425166 &  1.50155244 & Exp2\\\\\n",
       "\t 3 & 5.23 & -0.2608422 &  1.77214718 & Exp2\\\\\n",
       "\t 3 & 7.99 & -0.1425166 & -0.31243451 & Exp2\\\\\n",
       "\t 4 & 0.00 &         NA &          NA & Exp2\\\\\n",
       "\t 4 & 0.85 & -0.9313540 &  0.96147652 & Exp2\\\\\n",
       "\t 4 & 3.16 & -0.6947028 & -1.61816150 & Exp2\\\\\n",
       "\t 4 & 5.23 & -0.6947028 & -1.77851394 & Exp2\\\\\n",
       "\t 4 & 7.99 & -0.5369353 & -1.65252274 & Exp2\\\\\n",
       "\t 5 & 0.00 &         NA &          NA & Exp2\\\\\n",
       "\t 5 & 0.85 & -0.9313540 & -1.26564067 & Exp2\\\\\n",
       "\t 5 & 3.16 & -0.8919121 &  1.84086965 & Exp2\\\\\n",
       "\t 5 & 5.23 & -0.8130284 &  1.90959212 & Exp2\\\\\n",
       "\t 5 & 7.99 & -0.6158190 &  0.25452589 & Exp2\\\\\n",
       "\t 6 & 0.00 &         NA &          NA & Exp2\\\\\n",
       "\t 6 & 0.85 & -0.9313540 &  0.94662907 & Exp2\\\\\n",
       "\t 6 & 3.16 & -0.9313540 &  0.56950389 & Exp2\\\\\n",
       "\t 6 & 5.23 & -0.9313540 &  0.58095764 & Exp2\\\\\n",
       "\t 6 & 7.99 & -0.6947028 &  0.68404135 & Exp2\\\\\n",
       "\t ... & ... & ... & ... & ...\\\\\n",
       "\t 369 & 4.41 &  1.6718093 &  0.29890916 & Exp3\\\\\n",
       "\t 369 & 5.82 &  2.2239955 & -1.14509795 & Exp3\\\\\n",
       "\t 369 & 6.48 &  2.2239955 & -0.77678845 & Exp3\\\\\n",
       "\t 369 & 8.58 &  2.3028792 & -1.07611300 & Exp3\\\\\n",
       "\t 369 & 9.50 &  2.3028792 & -1.36140671 & Exp3\\\\\n",
       "\t 370 & 0.00 &         NA &          NA & Exp3\\\\\n",
       "\t 370 & 0.26 & -0.9313540 &  1.16414418 & Exp3\\\\\n",
       "\t 370 & 0.95 & -0.9313540 &  0.28137061 & Exp3\\\\\n",
       "\t 370 & 1.64 & -0.5369353 & -0.50201786 & Exp3\\\\\n",
       "\t 370 & 2.56 &  0.2124602 & -0.31494002 & Exp3\\\\\n",
       "\t 370 & 3.48 &  0.8829720 & -1.12171322 & Exp3\\\\\n",
       "\t 370 & 4.41 &  0.9618557 & -1.04571285 & Exp3\\\\\n",
       "\t 370 & 5.82 &  1.2379488 & -1.47833036 & Exp3\\\\\n",
       "\t 370 & 6.48 &  1.7506930 & -1.41402235 & Exp3\\\\\n",
       "\t 370 & 7.40 &  1.7506930 & -1.35556053 & Exp3\\\\\n",
       "\t 370 & 8.58 &  1.6718093 & -1.39180686 & Exp3\\\\\n",
       "\t 370 & 9.50 &  2.2239955 & -1.29125252 & Exp3\\\\\n",
       "\t 371 & 0.00 &         NA &          NA & Exp3\\\\\n",
       "\t 371 & 0.69 & -0.9313540 &  0.03583094 & Exp3\\\\\n",
       "\t 371 & 1.38 & -0.9313540 & -0.60724915 & Exp3\\\\\n",
       "\t 371 & 2.30 & -0.9313540 &  0.71983431 & Exp3\\\\\n",
       "\t 371 & 3.22 &  2.3423211 & -0.19801637 & Exp3\\\\\n",
       "\t 372 & 0.00 &         NA &          NA & Exp3\\\\\n",
       "\t 372 & 0.95 & -0.9313540 & -0.88201973 & Exp3\\\\\n",
       "\t 372 & 1.64 & -0.1819585 & -0.78848081 & Exp3\\\\\n",
       "\t 372 & 2.56 & -0.5369353 & -0.40847894 & Exp3\\\\\n",
       "\t 372 & 3.48 & -0.5763772 & -1.10417467 & Exp3\\\\\n",
       "\t 372 & 5.82 & -0.2214004 & -0.48447931 & Exp3\\\\\n",
       "\t 372 & 6.48 & -0.3002841 & -0.84694264 & Exp3\\\\\n",
       "\t 372 & 7.40 & -0.1819585 & -0.47278695 & Exp3\\\\\n",
       "\\end{tabular}\n"
      ],
      "text/markdown": [
       "\n",
       "A data.frame: 2228 × 5\n",
       "\n",
       "| id &lt;int&gt; | time &lt;dbl&gt; | Y1 &lt;dbl&gt; | Y2 &lt;dbl&gt; | ExperimentID &lt;chr&gt; |\n",
       "|---|---|---|---|---|\n",
       "| 1 | 0.00 |         NA |          NA | Exp2 |\n",
       "| 1 | 0.85 | -0.9313540 | -0.09099543 | Exp2 |\n",
       "| 1 | 3.16 | -0.9313540 |  0.66686073 | Exp2 |\n",
       "| 1 | 5.23 | -0.8919121 |  0.71267571 | Exp2 |\n",
       "| 1 | 7.99 | -0.2214004 | -0.28380015 | Exp2 |\n",
       "| 2 | 0.00 |         NA |          NA | Exp2 |\n",
       "| 2 | 0.85 | -0.9313540 | -0.15696052 | Exp2 |\n",
       "| 2 | 3.16 | -0.9313540 |  0.87016472 | Exp2 |\n",
       "| 2 | 5.23 | -0.9313540 |  1.14219117 | Exp2 |\n",
       "| 2 | 7.99 | -0.3791678 |  0.63822637 | Exp2 |\n",
       "| 3 | 0.00 |         NA |          NA | Exp2 |\n",
       "| 3 | 0.85 | -0.9313540 |  0.67895080 | Exp2 |\n",
       "| 3 | 3.16 | -0.1425166 |  1.50155244 | Exp2 |\n",
       "| 3 | 5.23 | -0.2608422 |  1.77214718 | Exp2 |\n",
       "| 3 | 7.99 | -0.1425166 | -0.31243451 | Exp2 |\n",
       "| 4 | 0.00 |         NA |          NA | Exp2 |\n",
       "| 4 | 0.85 | -0.9313540 |  0.96147652 | Exp2 |\n",
       "| 4 | 3.16 | -0.6947028 | -1.61816150 | Exp2 |\n",
       "| 4 | 5.23 | -0.6947028 | -1.77851394 | Exp2 |\n",
       "| 4 | 7.99 | -0.5369353 | -1.65252274 | Exp2 |\n",
       "| 5 | 0.00 |         NA |          NA | Exp2 |\n",
       "| 5 | 0.85 | -0.9313540 | -1.26564067 | Exp2 |\n",
       "| 5 | 3.16 | -0.8919121 |  1.84086965 | Exp2 |\n",
       "| 5 | 5.23 | -0.8130284 |  1.90959212 | Exp2 |\n",
       "| 5 | 7.99 | -0.6158190 |  0.25452589 | Exp2 |\n",
       "| 6 | 0.00 |         NA |          NA | Exp2 |\n",
       "| 6 | 0.85 | -0.9313540 |  0.94662907 | Exp2 |\n",
       "| 6 | 3.16 | -0.9313540 |  0.56950389 | Exp2 |\n",
       "| 6 | 5.23 | -0.9313540 |  0.58095764 | Exp2 |\n",
       "| 6 | 7.99 | -0.6947028 |  0.68404135 | Exp2 |\n",
       "| ... | ... | ... | ... | ... |\n",
       "| 369 | 4.41 |  1.6718093 |  0.29890916 | Exp3 |\n",
       "| 369 | 5.82 |  2.2239955 | -1.14509795 | Exp3 |\n",
       "| 369 | 6.48 |  2.2239955 | -0.77678845 | Exp3 |\n",
       "| 369 | 8.58 |  2.3028792 | -1.07611300 | Exp3 |\n",
       "| 369 | 9.50 |  2.3028792 | -1.36140671 | Exp3 |\n",
       "| 370 | 0.00 |         NA |          NA | Exp3 |\n",
       "| 370 | 0.26 | -0.9313540 |  1.16414418 | Exp3 |\n",
       "| 370 | 0.95 | -0.9313540 |  0.28137061 | Exp3 |\n",
       "| 370 | 1.64 | -0.5369353 | -0.50201786 | Exp3 |\n",
       "| 370 | 2.56 |  0.2124602 | -0.31494002 | Exp3 |\n",
       "| 370 | 3.48 |  0.8829720 | -1.12171322 | Exp3 |\n",
       "| 370 | 4.41 |  0.9618557 | -1.04571285 | Exp3 |\n",
       "| 370 | 5.82 |  1.2379488 | -1.47833036 | Exp3 |\n",
       "| 370 | 6.48 |  1.7506930 | -1.41402235 | Exp3 |\n",
       "| 370 | 7.40 |  1.7506930 | -1.35556053 | Exp3 |\n",
       "| 370 | 8.58 |  1.6718093 | -1.39180686 | Exp3 |\n",
       "| 370 | 9.50 |  2.2239955 | -1.29125252 | Exp3 |\n",
       "| 371 | 0.00 |         NA |          NA | Exp3 |\n",
       "| 371 | 0.69 | -0.9313540 |  0.03583094 | Exp3 |\n",
       "| 371 | 1.38 | -0.9313540 | -0.60724915 | Exp3 |\n",
       "| 371 | 2.30 | -0.9313540 |  0.71983431 | Exp3 |\n",
       "| 371 | 3.22 |  2.3423211 | -0.19801637 | Exp3 |\n",
       "| 372 | 0.00 |         NA |          NA | Exp3 |\n",
       "| 372 | 0.95 | -0.9313540 | -0.88201973 | Exp3 |\n",
       "| 372 | 1.64 | -0.1819585 | -0.78848081 | Exp3 |\n",
       "| 372 | 2.56 | -0.5369353 | -0.40847894 | Exp3 |\n",
       "| 372 | 3.48 | -0.5763772 | -1.10417467 | Exp3 |\n",
       "| 372 | 5.82 | -0.2214004 | -0.48447931 | Exp3 |\n",
       "| 372 | 6.48 | -0.3002841 | -0.84694264 | Exp3 |\n",
       "| 372 | 7.40 | -0.1819585 | -0.47278695 | Exp3 |\n",
       "\n"
      ],
      "text/plain": [
       "     id  time Y1         Y2          ExperimentID\n",
       "1    1   0.00         NA          NA Exp2        \n",
       "2    1   0.85 -0.9313540 -0.09099543 Exp2        \n",
       "3    1   3.16 -0.9313540  0.66686073 Exp2        \n",
       "4    1   5.23 -0.8919121  0.71267571 Exp2        \n",
       "5    1   7.99 -0.2214004 -0.28380015 Exp2        \n",
       "6    2   0.00         NA          NA Exp2        \n",
       "7    2   0.85 -0.9313540 -0.15696052 Exp2        \n",
       "8    2   3.16 -0.9313540  0.87016472 Exp2        \n",
       "9    2   5.23 -0.9313540  1.14219117 Exp2        \n",
       "10   2   7.99 -0.3791678  0.63822637 Exp2        \n",
       "11   3   0.00         NA          NA Exp2        \n",
       "12   3   0.85 -0.9313540  0.67895080 Exp2        \n",
       "13   3   3.16 -0.1425166  1.50155244 Exp2        \n",
       "14   3   5.23 -0.2608422  1.77214718 Exp2        \n",
       "15   3   7.99 -0.1425166 -0.31243451 Exp2        \n",
       "16   4   0.00         NA          NA Exp2        \n",
       "17   4   0.85 -0.9313540  0.96147652 Exp2        \n",
       "18   4   3.16 -0.6947028 -1.61816150 Exp2        \n",
       "19   4   5.23 -0.6947028 -1.77851394 Exp2        \n",
       "20   4   7.99 -0.5369353 -1.65252274 Exp2        \n",
       "21   5   0.00         NA          NA Exp2        \n",
       "22   5   0.85 -0.9313540 -1.26564067 Exp2        \n",
       "23   5   3.16 -0.8919121  1.84086965 Exp2        \n",
       "24   5   5.23 -0.8130284  1.90959212 Exp2        \n",
       "25   5   7.99 -0.6158190  0.25452589 Exp2        \n",
       "26   6   0.00         NA          NA Exp2        \n",
       "27   6   0.85 -0.9313540  0.94662907 Exp2        \n",
       "28   6   3.16 -0.9313540  0.56950389 Exp2        \n",
       "29   6   5.23 -0.9313540  0.58095764 Exp2        \n",
       "30   6   7.99 -0.6947028  0.68404135 Exp2        \n",
       "...  ... ...  ...        ...         ...         \n",
       "2199 369 4.41  1.6718093  0.29890916 Exp3        \n",
       "2200 369 5.82  2.2239955 -1.14509795 Exp3        \n",
       "2201 369 6.48  2.2239955 -0.77678845 Exp3        \n",
       "2202 369 8.58  2.3028792 -1.07611300 Exp3        \n",
       "2203 369 9.50  2.3028792 -1.36140671 Exp3        \n",
       "2204 370 0.00         NA          NA Exp3        \n",
       "2205 370 0.26 -0.9313540  1.16414418 Exp3        \n",
       "2206 370 0.95 -0.9313540  0.28137061 Exp3        \n",
       "2207 370 1.64 -0.5369353 -0.50201786 Exp3        \n",
       "2208 370 2.56  0.2124602 -0.31494002 Exp3        \n",
       "2209 370 3.48  0.8829720 -1.12171322 Exp3        \n",
       "2210 370 4.41  0.9618557 -1.04571285 Exp3        \n",
       "2211 370 5.82  1.2379488 -1.47833036 Exp3        \n",
       "2212 370 6.48  1.7506930 -1.41402235 Exp3        \n",
       "2213 370 7.40  1.7506930 -1.35556053 Exp3        \n",
       "2214 370 8.58  1.6718093 -1.39180686 Exp3        \n",
       "2215 370 9.50  2.2239955 -1.29125252 Exp3        \n",
       "2216 371 0.00         NA          NA Exp3        \n",
       "2217 371 0.69 -0.9313540  0.03583094 Exp3        \n",
       "2218 371 1.38 -0.9313540 -0.60724915 Exp3        \n",
       "2219 371 2.30 -0.9313540  0.71983431 Exp3        \n",
       "2220 371 3.22  2.3423211 -0.19801637 Exp3        \n",
       "2221 372 0.00         NA          NA Exp3        \n",
       "2222 372 0.95 -0.9313540 -0.88201973 Exp3        \n",
       "2223 372 1.64 -0.1819585 -0.78848081 Exp3        \n",
       "2224 372 2.56 -0.5369353 -0.40847894 Exp3        \n",
       "2225 372 3.48 -0.5763772 -1.10417467 Exp3        \n",
       "2226 372 5.82 -0.2214004 -0.48447931 Exp3        \n",
       "2227 372 6.48 -0.3002841 -0.84694264 Exp3        \n",
       "2228 372 7.40 -0.1819585 -0.47278695 Exp3        "
      ]
     },
     "metadata": {},
     "output_type": "display_data"
    }
   ],
   "source": [
    "data_mvtha"
   ]
  },
  {
   "cell_type": "code",
   "execution_count": 57,
   "id": "834196a7",
   "metadata": {},
   "outputs": [
    {
     "name": "stderr",
     "output_type": "stream",
     "text": [
      "Begin carefulFit start value estimation for group Exp2\n",
      "\n"
     ]
    },
    {
     "ename": "ERROR",
     "evalue": "Error in ctFit(singlegroup, singlectspec, nofit = TRUE, carefulFit = carefulFit, : Columns for 'Y1' and 'Y2' are missing from the data frame - e.g.  'Y1' and 'Y2'_T0\n",
     "output_type": "error",
     "traceback": [
      "Error in ctFit(singlegroup, singlectspec, nofit = TRUE, carefulFit = carefulFit, : Columns for 'Y1' and 'Y2' are missing from the data frame - e.g.  'Y1' and 'Y2'_T0\nTraceback:\n",
      "1. ctMultigroupFit(dat = data_mvtha, groupings = data_mvtha$ExperimentID, \n .     ctmodelobj = model_fit, freemodel = freemodel)",
      "2. ctFit(singlegroup, singlectspec, nofit = TRUE, carefulFit = carefulFit, \n .     dataform = dataform, ...)",
      "3. stop(paste(\"Columns for\", omxQuotes(manifestNames[missingManifest]), \n .     \"are missing from the data frame - e.g. \", paste0(omxQuotes(manifestNames[missingManifest]), \n .         \"_T0\")))"
     ]
    }
   ],
   "source": [
    "freemodel <- model_fit\n",
    "#freemodel$LAMBDA[3, 1] <- \"groupfree\"\n",
    "#groups <- paste0(\"g\", rep(1:2, each = 10))\n",
    "multif <- ctMultigroupFit(dat = data_mvtha, groupings = data_mvtha$ExperimentID,ctmodelobj = model_fit, freemodel = freemodel)"
   ]
  },
  {
   "cell_type": "code",
   "execution_count": null,
   "id": "8bf162b8",
   "metadata": {},
   "outputs": [],
   "source": []
  },
  {
   "cell_type": "code",
   "execution_count": null,
   "id": "9c1c1b45",
   "metadata": {},
   "outputs": [],
   "source": []
  },
  {
   "cell_type": "code",
   "execution_count": null,
   "id": "9d094dbb",
   "metadata": {},
   "outputs": [],
   "source": []
  },
  {
   "cell_type": "code",
   "execution_count": 17,
   "id": "66a714d5",
   "metadata": {
    "scrolled": true
   },
   "outputs": [
    {
     "name": "stderr",
     "output_type": "stream",
     "text": [
      "Maximum a posteriori estimation requested\n",
      "\n",
      "Setting DRIFT diagonals of 0 to approximate 0 of -1e-06\n",
      "\n",
      "Using 11/12 logical CPU cores\n",
      "\n",
      "Doing 1st pass optimize...\n",
      "\n",
      "Converged -- lp and par change within tolerances\n",
      "\n",
      "Optimizing...\n",
      "\n",
      "Converged -- lp change within itertol\n",
      "\n",
      "Finishing optimization...\n",
      "\n",
      "Estimating Hessian\n",
      "\n",
      "Computing posterior with 1000 samples\n",
      "\n",
      "Computing quantities for 2000 samples...\n",
      "\n",
      "Generating data from posterior mean\n",
      "\n",
      "Using 11/12 logical CPU cores\n",
      "\n",
      "Warning message in cov2cor(cp$T0cov):\n",
      "\"diag(.) had 0 or NA entries; non-finite result is doubtful\"\n",
      "Warning message in cov2cor(cp$DIFFUSIONcov):\n",
      "\"diag(.) had 0 or NA entries; non-finite result is doubtful\"\n",
      "Warning message in cov2cor(cp$asymDIFFUSION):\n",
      "\"diag(.) had 0 or NA entries; non-finite result is doubtful\"\n",
      "Computing quantities for 1 samples...\n",
      "\n",
      "Free T0VAR parameters as well as indvarying T0MEANS -- fixing T0VAR pars to diag matrix of 1e-3\n",
      "\n",
      "Free T0VAR parameters as well as indvarying T0MEANS -- fixing T0VAR pars to diag matrix of 1e-3\n",
      "\n",
      "Computing quantities for 1000 samples...\n",
      "\n",
      "Warning message:\n",
      "\"Using alpha for a discrete variable is not advised.\"\n",
      "Computing state estimates..\n",
      "\n",
      "Computing quantities for 1 samples...\n",
      "\n",
      "Computing state estimates..\n",
      "\n",
      "Computing quantities for 1 samples...\n",
      "\n",
      "Warning message:\n",
      "\"Removed 30900 rows containing missing values (geom_point).\"\n",
      "Warning message:\n",
      "\"Removed 30900 rows containing missing values (geom_point).\"\n",
      "Warning message:\n",
      "\"Removed 10300 rows containing missing values (geom_point).\"\n",
      "Warning message:\n",
      "\"Removed 10300 rows containing missing values (geom_point).\"\n",
      "Computing temporal regression coefficients for 100 samples, may take a moment...\n",
      "\n",
      "Computing temporal regression coefficients for 100 samples, may take a moment...\n",
      "\n",
      "Le chargement a nécessité le package : arules\n",
      "\n"
     ]
    },
    {
     "name": "stdout",
     "output_type": "stream",
     "text": [
      "Error in eval(expr, envir, enclos) : \n",
      "  Exception: multi_normal_lpdf: Covariance matrix is not symmetric. Covariance matrix[3,4] = 3.15596e+10, but Covariance matrix[4,3] = 3.15596e+10  (in 'model_cov' at line 94)\n",
      "\n",
      "Error in eval(expr, envir, enclos) : \n",
      "  Exception: multi_normal_lpdf: Covariance matrix is not symmetric. Covariance matrix[3,4] = 2.58473e+10, but Covariance matrix[4,3] = 2.58473e+10  (in 'model_cov' at line 94)\n",
      "\n",
      "Error in eval(expr, envir, enclos) : \n",
      "  Exception: multi_normal_lpdf: Covariance matrix is not symmetric. Covariance matrix[3,4] = 2.96204e+10, but Covariance matrix[4,3] = 2.96204e+10  (in 'model_cov' at line 94)\n",
      "\n",
      "Error in eval(expr, envir, enclos) : \n",
      "  Exception: multi_normal_lpdf: Covariance matrix is not symmetric. Covariance matrix[3,4] = 2.58473e+10, but Covariance matrix[4,3] = 2.58473e+10  (in 'model_cov' at line 94)\n",
      "\n",
      "Error in eval(expr, envir, enclos) : \n",
      "  Exception: multi_normal_lpdf: Covariance matrix is not symmetric. Covariance matrix[3,4] = 2.58473e+10, but Covariance matrix[4,3] = 2.58473e+10  (in 'model_cov' at line 94)\n",
      "\n"
     ]
    }
   ],
   "source": [
    "#fit the model and save all results provided by the folder\n",
    "#documentation: https://rdrr.io/cran/ctsem/man/ctStanFit.html : \n",
    "## iter number of iterations, half of which will be devoted to warmup by default when sampling. When optimizing, this is the \n",
    "\n",
    "## maximum number of iterations to allow – convergence hopefully occurs before this (default: 1000)\n",
    "#intoverstates: logical indicating whether or not to integrate over latent states using a Kalman filter. Generally recommended \n",
    "#to set TRUE unless using non-gaussian measurement model. KBF is not gaussion but when set to FALSE it does not work (\"NA gradient encountered at param 282\" etc)\n",
    "\n",
    "## optimize: if TRUE, use stanoptimis function for maximum a posteriori / importance sampling estimates, otherwise use the HMC \n",
    "#sampler from Stan, which is (much) slower, but generally more robust, accurate, and informative. default: TRUE\n",
    "\n",
    "## stationary: Logical. If TRUE, T0VAR and T0MEANS input matrices are ignored, the parameters are instead fixed to long run \n",
    "#expectations. More control over this can be achieved by instead setting parameter names of T0MEANS and T0VAR matrices in the \n",
    "#input model to 'stationary', for elements that should be fixed to stationarity.\n",
    "\n",
    "## nopriors: If TRUE, any priors are disabled (i.e. Si VRAI, tous les priors sont désactivés)\n",
    "fit_mvtha = ctStanFit(datalong=data_mvtha, ctstanmodel=model_fit, verbose=0, cores=cores_, nopriors=FALSE, \n",
    "                      iter=iter_, chains=chains_, optimize=bool_optimize) #nlcontrol=list(maxtimestep=10)\n",
    "#Individual variation in T0VAR parameters not possible: as we have no variation at T0\n",
    "ctsem:::ctSummarise(fit_mvtha, folder=file.path(path_save_,name), cores=cores_, ctStanPlotPost=F, nsamples=1000)"
   ]
  },
  {
   "cell_type": "code",
   "execution_count": 18,
   "id": "27c2272f",
   "metadata": {
    "scrolled": true
   },
   "outputs": [
    {
     "name": "stderr",
     "output_type": "stream",
     "text": [
      "Computing quantities for 1500 samples...\n",
      "\n",
      "Generating data from posterior\n",
      "\n",
      "Using 2/12 logical CPU cores\n",
      "\n"
     ]
    },
    {
     "data": {
      "text/plain": [
       "NULL"
      ]
     },
     "metadata": {},
     "output_type": "display_data"
    },
    {
     "data": {
      "text/html": [
       "<strong>png:</strong> 2"
      ],
      "text/latex": [
       "\\textbf{png:} 2"
      ],
      "text/markdown": [
       "**png:** 2"
      ],
      "text/plain": [
       "png \n",
       "  2 "
      ]
     },
     "metadata": {},
     "output_type": "display_data"
    },
    {
     "data": {
      "text/html": [
       "<strong>png:</strong> 2"
      ],
      "text/latex": [
       "\\textbf{png:} 2"
      ],
      "text/markdown": [
       "**png:** 2"
      ],
      "text/plain": [
       "png \n",
       "  2 "
      ]
     },
     "metadata": {},
     "output_type": "display_data"
    },
    {
     "name": "stderr",
     "output_type": "stream",
     "text": [
      "Plotting model implied regression coeffcients conditional on time interval using ctStanDiscretePars\n",
      "\n",
      "Computing temporal regression coefficients for 100 samples, may take a moment...\n",
      "\n"
     ]
    },
    {
     "data": {
      "text/html": [
       "<strong>png:</strong> 2"
      ],
      "text/latex": [
       "\\textbf{png:} 2"
      ],
      "text/markdown": [
       "**png:** 2"
      ],
      "text/plain": [
       "png \n",
       "  2 "
      ]
     },
     "metadata": {},
     "output_type": "display_data"
    },
    {
     "name": "stderr",
     "output_type": "stream",
     "text": [
      "Plotting expectations from Kalman filter using ctKalman\n",
      "\n",
      "Computing state estimates..\n",
      "\n",
      "Computing quantities for 1 samples...\n",
      "\n"
     ]
    },
    {
     "data": {
      "text/html": [
       "<strong>png:</strong> 2"
      ],
      "text/latex": [
       "\\textbf{png:} 2"
      ],
      "text/markdown": [
       "**png:** 2"
      ],
      "text/plain": [
       "png \n",
       "  2 "
      ]
     },
     "metadata": {},
     "output_type": "display_data"
    },
    {
     "name": "stderr",
     "output_type": "stream",
     "text": [
      "Plotting prior and posterior densities using ctStanPlotPost\n",
      "\n",
      "Fitting model to empty dataset...\n",
      "\n",
      "Maximum a posteriori estimation requested\n",
      "\n",
      "Setting DRIFT diagonals of 0 to approximate 0 of -1e-06\n",
      "\n",
      "Using 2/12 logical CPU cores\n",
      "\n",
      "Optimizing...\n",
      "\n",
      "Finishing optimization...\n",
      "\n",
      "Estimating Hessian\n",
      "\n",
      "Computing posterior with 10000 samples\n",
      "\n"
     ]
    },
    {
     "data": {
      "text/html": [
       "<strong>png:</strong> 2"
      ],
      "text/latex": [
       "\\textbf{png:} 2"
      ],
      "text/markdown": [
       "**png:** 2"
      ],
      "text/plain": [
       "png \n",
       "  2 "
      ]
     },
     "metadata": {},
     "output_type": "display_data"
    },
    {
     "name": "stderr",
     "output_type": "stream",
     "text": [
      "Computing temporal regression coefficients for 100 samples, may take a moment...\n",
      "\n"
     ]
    },
    {
     "data": {
      "text/html": [
       "<strong>png:</strong> 2"
      ],
      "text/latex": [
       "\\textbf{png:} 2"
      ],
      "text/markdown": [
       "**png:** 2"
      ],
      "text/plain": [
       "png \n",
       "  2 "
      ]
     },
     "metadata": {},
     "output_type": "display_data"
    },
    {
     "data": {
      "text/html": [
       "<table class=\"dataframe\">\n",
       "<caption>A data.frame: 2 × 2</caption>\n",
       "<thead>\n",
       "\t<tr><th></th><th scope=col>original</th><th scope=col>new</th></tr>\n",
       "\t<tr><th></th><th scope=col>&lt;int&gt;</th><th scope=col>&lt;int&gt;</th></tr>\n",
       "</thead>\n",
       "<tbody>\n",
       "\t<tr><th scope=row>1</th><td>1</td><td>1</td></tr>\n",
       "\t<tr><th scope=row>2</th><td>2</td><td>2</td></tr>\n",
       "</tbody>\n",
       "</table>\n"
      ],
      "text/latex": [
       "A data.frame: 2 × 2\n",
       "\\begin{tabular}{r|ll}\n",
       "  & original & new\\\\\n",
       "  & <int> & <int>\\\\\n",
       "\\hline\n",
       "\t1 & 1 & 1\\\\\n",
       "\t2 & 2 & 2\\\\\n",
       "\\end{tabular}\n"
      ],
      "text/markdown": [
       "\n",
       "A data.frame: 2 × 2\n",
       "\n",
       "| <!--/--> | original &lt;int&gt; | new &lt;int&gt; |\n",
       "|---|---|---|\n",
       "| 1 | 1 | 1 |\n",
       "| 2 | 2 | 2 |\n",
       "\n"
      ],
      "text/plain": [
       "  original new\n",
       "1 1        1  \n",
       "2 2        2  "
      ]
     },
     "metadata": {},
     "output_type": "display_data"
    },
    {
     "data": {
      "text/html": [
       "<table class=\"dataframe\">\n",
       "<caption>A data.frame: 2 × 2</caption>\n",
       "<thead>\n",
       "\t<tr><th></th><th scope=col>original</th><th scope=col>new</th></tr>\n",
       "\t<tr><th></th><th scope=col>&lt;int&gt;</th><th scope=col>&lt;int&gt;</th></tr>\n",
       "</thead>\n",
       "<tbody>\n",
       "\t<tr><th scope=row>371</th><td>371</td><td>371</td></tr>\n",
       "\t<tr><th scope=row>372</th><td>372</td><td>372</td></tr>\n",
       "</tbody>\n",
       "</table>\n"
      ],
      "text/latex": [
       "A data.frame: 2 × 2\n",
       "\\begin{tabular}{r|ll}\n",
       "  & original & new\\\\\n",
       "  & <int> & <int>\\\\\n",
       "\\hline\n",
       "\t371 & 371 & 371\\\\\n",
       "\t372 & 372 & 372\\\\\n",
       "\\end{tabular}\n"
      ],
      "text/markdown": [
       "\n",
       "A data.frame: 2 × 2\n",
       "\n",
       "| <!--/--> | original &lt;int&gt; | new &lt;int&gt; |\n",
       "|---|---|---|\n",
       "| 371 | 371 | 371 |\n",
       "| 372 | 372 | 372 |\n",
       "\n"
      ],
      "text/plain": [
       "    original new\n",
       "371 371      371\n",
       "372 372      372"
      ]
     },
     "metadata": {},
     "output_type": "display_data"
    },
    {
     "name": "stderr",
     "output_type": "stream",
     "text": [
      "Computing state estimates..\n",
      "\n",
      "Computing quantities for 1 samples...\n",
      "\n"
     ]
    },
    {
     "data": {
      "text/html": [
       "<strong>png:</strong> 2"
      ],
      "text/latex": [
       "\\textbf{png:} 2"
      ],
      "text/markdown": [
       "**png:** 2"
      ],
      "text/plain": [
       "png \n",
       "  2 "
      ]
     },
     "metadata": {},
     "output_type": "display_data"
    },
    {
     "name": "stderr",
     "output_type": "stream",
     "text": [
      "Computing state estimates..\n",
      "\n",
      "Computing quantities for 1 samples...\n",
      "\n"
     ]
    },
    {
     "data": {
      "text/html": [
       "<strong>png:</strong> 2"
      ],
      "text/latex": [
       "\\textbf{png:} 2"
      ],
      "text/markdown": [
       "**png:** 2"
      ],
      "text/plain": [
       "png \n",
       "  2 "
      ]
     },
     "metadata": {},
     "output_type": "display_data"
    },
    {
     "name": "stderr",
     "output_type": "stream",
     "text": [
      "Computing state estimates..\n",
      "\n",
      "Computing quantities for 1 samples...\n",
      "\n"
     ]
    },
    {
     "data": {
      "text/html": [
       "<strong>png:</strong> 2"
      ],
      "text/latex": [
       "\\textbf{png:} 2"
      ],
      "text/markdown": [
       "**png:** 2"
      ],
      "text/plain": [
       "png \n",
       "  2 "
      ]
     },
     "metadata": {},
     "output_type": "display_data"
    },
    {
     "name": "stderr",
     "output_type": "stream",
     "text": [
      "Computing state estimates..\n",
      "\n",
      "Computing quantities for 1 samples...\n",
      "\n"
     ]
    },
    {
     "data": {
      "text/html": [
       "<strong>png:</strong> 2"
      ],
      "text/latex": [
       "\\textbf{png:} 2"
      ],
      "text/markdown": [
       "**png:** 2"
      ],
      "text/plain": [
       "png \n",
       "  2 "
      ]
     },
     "metadata": {},
     "output_type": "display_data"
    },
    {
     "name": "stderr",
     "output_type": "stream",
     "text": [
      "Computing state estimates..\n",
      "\n",
      "Computing quantities for 1 samples...\n",
      "\n"
     ]
    },
    {
     "data": {
      "text/html": [
       "<strong>png:</strong> 2"
      ],
      "text/latex": [
       "\\textbf{png:} 2"
      ],
      "text/markdown": [
       "**png:** 2"
      ],
      "text/plain": [
       "png \n",
       "  2 "
      ]
     },
     "metadata": {},
     "output_type": "display_data"
    },
    {
     "name": "stderr",
     "output_type": "stream",
     "text": [
      "Computing state estimates..\n",
      "\n",
      "Computing quantities for 1 samples...\n",
      "\n"
     ]
    },
    {
     "data": {
      "text/html": [
       "<strong>png:</strong> 2"
      ],
      "text/latex": [
       "\\textbf{png:} 2"
      ],
      "text/markdown": [
       "**png:** 2"
      ],
      "text/plain": [
       "png \n",
       "  2 "
      ]
     },
     "metadata": {},
     "output_type": "display_data"
    },
    {
     "data": {
      "text/html": [
       "<table class=\"dataframe\">\n",
       "<caption>A data.frame: 3 × 13</caption>\n",
       "<thead>\n",
       "\t<tr><th></th><th scope=col>drift_dynKBF</th><th scope=col>drift_dynKBF_dynVTD</th><th scope=col>drift_dynVTD</th><th scope=col>drift_dynVTD_dynKBF</th><th scope=col>drift_KBF</th><th scope=col>drift_VTD</th><th scope=col>mm_Y1</th><th scope=col>mm_Y2</th><th scope=col>T0m_cintKBF</th><th scope=col>T0m_cintVTD</th><th scope=col>T0m_KBF</th><th scope=col>T0m_VTD</th><th scope=col>id</th></tr>\n",
       "\t<tr><th></th><th scope=col>&lt;dbl&gt;</th><th scope=col>&lt;dbl&gt;</th><th scope=col>&lt;dbl&gt;</th><th scope=col>&lt;dbl&gt;</th><th scope=col>&lt;dbl&gt;</th><th scope=col>&lt;dbl&gt;</th><th scope=col>&lt;dbl&gt;</th><th scope=col>&lt;dbl&gt;</th><th scope=col>&lt;dbl&gt;</th><th scope=col>&lt;dbl&gt;</th><th scope=col>&lt;dbl&gt;</th><th scope=col>&lt;dbl&gt;</th><th scope=col>&lt;int&gt;</th></tr>\n",
       "</thead>\n",
       "<tbody>\n",
       "\t<tr><th scope=row>1</th><td>-1.449046</td><td> 0.4484742</td><td>-1.4820140</td><td>-0.6977886</td><td>-0.1610700</td><td>-0.7252406</td><td>3.373324</td><td>-1.751086</td><td>-0.3904175</td><td>1.315876</td><td>-4.171377</td><td>1.581122</td><td>1</td></tr>\n",
       "\t<tr><th scope=row>2</th><td>-1.541595</td><td> 0.1837676</td><td>-1.3250885</td><td>-0.2559463</td><td>-0.1729910</td><td>-0.7469985</td><td>3.376739</td><td>-1.488749</td><td>-0.6009586</td><td>1.645923</td><td>-4.418071</td><td>1.128436</td><td>2</td></tr>\n",
       "\t<tr><th scope=row>3</th><td>-2.647960</td><td>-0.5124293</td><td>-0.9253989</td><td> 0.3469977</td><td>-0.2869147</td><td>-0.7083834</td><td>3.170424</td><td>-2.109948</td><td>-0.6913871</td><td>2.241521</td><td>-4.118945</td><td>3.032252</td><td>3</td></tr>\n",
       "</tbody>\n",
       "</table>\n"
      ],
      "text/latex": [
       "A data.frame: 3 × 13\n",
       "\\begin{tabular}{r|lllllllllllll}\n",
       "  & drift\\_dynKBF & drift\\_dynKBF\\_dynVTD & drift\\_dynVTD & drift\\_dynVTD\\_dynKBF & drift\\_KBF & drift\\_VTD & mm\\_Y1 & mm\\_Y2 & T0m\\_cintKBF & T0m\\_cintVTD & T0m\\_KBF & T0m\\_VTD & id\\\\\n",
       "  & <dbl> & <dbl> & <dbl> & <dbl> & <dbl> & <dbl> & <dbl> & <dbl> & <dbl> & <dbl> & <dbl> & <dbl> & <int>\\\\\n",
       "\\hline\n",
       "\t1 & -1.449046 &  0.4484742 & -1.4820140 & -0.6977886 & -0.1610700 & -0.7252406 & 3.373324 & -1.751086 & -0.3904175 & 1.315876 & -4.171377 & 1.581122 & 1\\\\\n",
       "\t2 & -1.541595 &  0.1837676 & -1.3250885 & -0.2559463 & -0.1729910 & -0.7469985 & 3.376739 & -1.488749 & -0.6009586 & 1.645923 & -4.418071 & 1.128436 & 2\\\\\n",
       "\t3 & -2.647960 & -0.5124293 & -0.9253989 &  0.3469977 & -0.2869147 & -0.7083834 & 3.170424 & -2.109948 & -0.6913871 & 2.241521 & -4.118945 & 3.032252 & 3\\\\\n",
       "\\end{tabular}\n"
      ],
      "text/markdown": [
       "\n",
       "A data.frame: 3 × 13\n",
       "\n",
       "| <!--/--> | drift_dynKBF &lt;dbl&gt; | drift_dynKBF_dynVTD &lt;dbl&gt; | drift_dynVTD &lt;dbl&gt; | drift_dynVTD_dynKBF &lt;dbl&gt; | drift_KBF &lt;dbl&gt; | drift_VTD &lt;dbl&gt; | mm_Y1 &lt;dbl&gt; | mm_Y2 &lt;dbl&gt; | T0m_cintKBF &lt;dbl&gt; | T0m_cintVTD &lt;dbl&gt; | T0m_KBF &lt;dbl&gt; | T0m_VTD &lt;dbl&gt; | id &lt;int&gt; |\n",
       "|---|---|---|---|---|---|---|---|---|---|---|---|---|---|\n",
       "| 1 | -1.449046 |  0.4484742 | -1.4820140 | -0.6977886 | -0.1610700 | -0.7252406 | 3.373324 | -1.751086 | -0.3904175 | 1.315876 | -4.171377 | 1.581122 | 1 |\n",
       "| 2 | -1.541595 |  0.1837676 | -1.3250885 | -0.2559463 | -0.1729910 | -0.7469985 | 3.376739 | -1.488749 | -0.6009586 | 1.645923 | -4.418071 | 1.128436 | 2 |\n",
       "| 3 | -2.647960 | -0.5124293 | -0.9253989 |  0.3469977 | -0.2869147 | -0.7083834 | 3.170424 | -2.109948 | -0.6913871 | 2.241521 | -4.118945 | 3.032252 | 3 |\n",
       "\n"
      ],
      "text/plain": [
       "  drift_dynKBF drift_dynKBF_dynVTD drift_dynVTD drift_dynVTD_dynKBF drift_KBF \n",
       "1 -1.449046     0.4484742          -1.4820140   -0.6977886          -0.1610700\n",
       "2 -1.541595     0.1837676          -1.3250885   -0.2559463          -0.1729910\n",
       "3 -2.647960    -0.5124293          -0.9253989    0.3469977          -0.2869147\n",
       "  drift_VTD  mm_Y1    mm_Y2     T0m_cintKBF T0m_cintVTD T0m_KBF   T0m_VTD  id\n",
       "1 -0.7252406 3.373324 -1.751086 -0.3904175  1.315876    -4.171377 1.581122 1 \n",
       "2 -0.7469985 3.376739 -1.488749 -0.6009586  1.645923    -4.418071 1.128436 2 \n",
       "3 -0.7083834 3.170424 -2.109948 -0.6913871  2.241521    -4.118945 3.032252 3 "
      ]
     },
     "metadata": {},
     "output_type": "display_data"
    },
    {
     "data": {
      "text/html": [
       "<style>\n",
       ".list-inline {list-style: none; margin:0; padding: 0}\n",
       ".list-inline>li {display: inline-block}\n",
       ".list-inline>li:not(:last-child)::after {content: \"\\00b7\"; padding: 0 .5ex}\n",
       "</style>\n",
       "<ol class=list-inline><li>372</li><li>13</li></ol>\n"
      ],
      "text/latex": [
       "\\begin{enumerate*}\n",
       "\\item 372\n",
       "\\item 13\n",
       "\\end{enumerate*}\n"
      ],
      "text/markdown": [
       "1. 372\n",
       "2. 13\n",
       "\n",
       "\n"
      ],
      "text/plain": [
       "[1] 372  13"
      ]
     },
     "metadata": {},
     "output_type": "display_data"
    }
   ],
   "source": [
    "#### asympDIFF :  variance/covariance  of  the  latent  process\n",
    "tiff(file.path(path_save_, paste0(name,'RandomDataPosterior_to_observedData.tiff')), width=400, height=400)\n",
    "ctStanPostPredict(fit_mvtha, wait=FALSE) #compare randomly generated data from posterior to observed data\n",
    "dev.off()\n",
    "\n",
    "tiff(file.path(path_save_, paste0(name,'RadomDataPosteriorMeanCOv_to_observedData.tiff')), width=400, height=400)\n",
    "cf = ctCheckFit(fit_mvtha) #compare mean and covariance of randomly generated data to observed cov plot(cf,wait=FALSE)\n",
    "dev.off()\n",
    "\n",
    "#calculate discrete time parameters (1,2,3 months)\n",
    "df_lag = summary(fit_mvtha, timeinterval=1)\n",
    "write.csv(df_lag$parmatrices, file=file.path(path_save_,paste0(name,\"lag1.csv\")))\n",
    "df_lag = summary(fit_mvtha, timeinterval=2)\n",
    "write.csv(df_lag$parmatrices, file=file.path(path_save_,paste0(name,\"lag2.csv\")))\n",
    "df_lag = summary(fit_mvtha, timeinterval=3)\n",
    "write.csv(df_lag$parmatrices, file=file.path(path_save_,paste0(name,\"lag3.csv\")))\n",
    "\n",
    "#plot basics (regression kalan, priorcheck)\n",
    "tiff(file.path(path_save_, paste0(name,'plotdiscretedrift_regression.tiff')), width=400, height=400)\n",
    "plot(fit_mvtha,types=c('regression'), wait=FALSE)\n",
    "dev.off()\n",
    "tiff(file.path(path_save_, paste0(name,'plotdiscretedrift_kalman.tiff')), width=400, height=400)\n",
    "plot(fit_mvtha,types=c('kalman'), wait=FALSE)\n",
    "dev.off()\n",
    "tiff(file.path(path_save_, paste0(name,'plotdiscretedrift_priorcheck.tiff')), width=400, height=400)\n",
    "plot(fit_mvtha,types=c('priorcheck'), wait=FALSE)\n",
    "dev.off()\n",
    "\n",
    "\n",
    "#plot of discrete timedrift estimate all together \n",
    "tiff(file.path(path_save_, paste0(name,'plotdiscretedrift.tiff')), width=400, height=400)\n",
    "ctStanDiscretePars(fit_mvtha, plot=T)\n",
    "dev.off()\n",
    "\n",
    "#check the id are correct\n",
    "df_idmap = fit_mvtha$setup$idmap\n",
    "head(df_idmap,2)\n",
    "tail(df_idmap,2)\n",
    "if (identical(df_idmap[['original']],df_idmap[['new']])==FALSE){\n",
    "    print('ERROR: makes sure your id column will be the same as the one given by ctsem, just to ensure no error later on')\n",
    "    stop() #couldnt find equivalent to sys.exit() in python, but that do the job as well (stop the code)\n",
    "}\n",
    "\n",
    "#print(fit_mvtha$setup$idmap[c(1,100,200,300,400), 1])\n",
    "#plot 5 hens without uncertainty and width for visibility purposes\n",
    "tiff(file.path(path_save_, paste0(name,'5individual_nouncertainty.tiff')), width=400, height=400)\n",
    "ctKalman(fit_mvtha,subjects=c(1,100,200,300,400),plot=T,kalmanvec=c('y','ysmooth'), polygonsteps=0)\n",
    "dev.off()\n",
    "tiff(file.path(path_save_, paste0(name,'5otherindividual_nouncertainty.tiff')), width=400, height=400)\n",
    "ctKalman(fit_mvtha,subjects=c(10,110,210,310,410),plot=T,kalmanvec=c('y','ysmooth'), polygonsteps=0)\n",
    "dev.off()\n",
    "tiff(file.path(path_save_, paste0(name,'5other2individual_nouncertainty.tiff')), width=400, height=400)\n",
    "ctKalman(fit_mvtha,subjects=c(20,120,220,320,420),plot=T,kalmanvec=c('y','ysmooth'), polygonsteps=0)\n",
    "dev.off()\n",
    "#plot parameters for two hen  with polygonsteps=10 (the default) to see uncertainty\n",
    "tiff(file.path(path_save_, paste0(name,'2individual_witthcertainty.tiff')), width=400, height=400)\n",
    "ctKalman(fit_mvtha,subjects=c(300,400),plot=T,kalmanvec=c('y','ysmooth'), polygonsteps=10)\n",
    "dev.off()\n",
    "#plot parameters for two hen  with polygonsteps=10 (the default) to see uncertainty\n",
    "tiff(file.path(path_save_, paste0(name,'2otherindividual_witthcertainty.tiff')), width=400, height=400)\n",
    "ctKalman(fit_mvtha,subjects=c(310,410),plot=T,kalmanvec=c('y','ysmooth'), polygonsteps=10)\n",
    "dev.off()\n",
    "#plot parameters for two hen  with polygonsteps=10 (the default) to see uncertainty\n",
    "tiff(file.path(path_save_, paste0(name,'2other2individual_witthcertainty.tiff')), width=400, height=400)\n",
    "ctKalman(fit_mvtha,subjects=c(320,420),plot=T,kalmanvec=c('y','ysmooth'), polygonsteps=10)\n",
    "dev.off()\n",
    "\n",
    "#extract estimates of individual parameters, taking into account any covariates and random effects\n",
    "#output an nsamples by nsubjects by nparams array.\n",
    "indpars = ctStanSubjectPars(fit_mvtha, cores=cores_, nsamples=\"all\")[1,,]\n",
    "ind.data = data.frame(indpars)\n",
    "ind.data$id = fit_mvtha$setup$idmap$original #or new, its the same\n",
    "head(ind.data,3)\n",
    "dim(ind.data)\n",
    "write.csv(ind.data, file=file.path(path_save_,paste0(name,\"HenIDParameters.csv\")))"
   ]
  },
  {
   "cell_type": "code",
   "execution_count": 19,
   "id": "460f3075",
   "metadata": {
    "scrolled": true
   },
   "outputs": [
    {
     "name": "stderr",
     "output_type": "stream",
     "text": [
      "Computing quantities for 1500 samples...\n",
      "\n",
      "Generating data from posterior\n",
      "\n",
      "Using 2/12 logical CPU cores\n",
      "\n"
     ]
    },
    {
     "data": {
      "image/png": "[encoded data removed]",
      "text/plain": [
       "plot without title"
      ]
     },
     "metadata": {
      "image/png": {
       "height": 420,
       "width": 420
      }
     },
     "output_type": "display_data"
    },
    {
     "data": {
      "image/png": "[encoded data removed]",
      "text/plain": [
       "plot without title"
      ]
     },
     "metadata": {
      "image/png": {
       "height": 420,
       "width": 420
      }
     },
     "output_type": "display_data"
    },
    {
     "data": {
      "text/plain": [
       "NULL"
      ]
     },
     "metadata": {},
     "output_type": "display_data"
    },
    {
     "data": {
      "image/png": "[encoded data removed]",
      "text/plain": [
       "plot without title"
      ]
     },
     "metadata": {
      "image/png": {
       "height": 420,
       "width": 420
      }
     },
     "output_type": "display_data"
    }
   ],
   "source": [
    "#compare randomly generated data from posterior to observed data\n",
    "ctStanPostPredict(fit_mvtha, wait=FALSE)"
   ]
  },
  {
   "cell_type": "code",
   "execution_count": 20,
   "id": "1a8d5cd7",
   "metadata": {},
   "outputs": [
    {
     "name": "stderr",
     "output_type": "stream",
     "text": [
      "Computing temporal regression coefficients for 100 samples, may take a moment...\n",
      "\n"
     ]
    }
   ],
   "source": [
    "x = ctStanDiscretePars(fit_mvtha, subjects='popmean')\n",
    "#ctStanDiscreteParsPlot(x, indices='CR',facets='Subject')\n",
    "write.csv(as.data.frame(x), file=file.path(path_save_,paste0(name,\"ctStanDiscretePars.csv\")))"
   ]
  },
  {
   "cell_type": "markdown",
   "id": "781a64c6",
   "metadata": {},
   "source": [
    "#K fold cross validation for ctStanFit objects\n",
    "#\"folds Number of cross validation splits to use – 3 folds implies that the model is re-fit 3 times, each time to a data set \n",
    "#with 1/3 of the observations randomly removed\"\n",
    "loores = ctLOO(fit_mvtha, folds = folds_, cores = cores_)\n",
    "for (i in folds_){\n",
    "    df_fold = loores$foldrows[as.character(i-1)]\n",
    "    write.csv(df_fold, file=file.path(path_save_,paste0(name,'df_',i,\"fold.csv\")))}\n",
    "df_foldpars = loores$foldpars\n",
    "write.csv(df_foldpars, file=file.path(path_save_,paste0(name,\"df_foldpars.csv\")))\n",
    "df_sampleloglikrow = data.frame('out'=loores$outsampleLogLikRow,'in'=c(loores$insampleLogLikRow))\n",
    "write.csv(df_sampleloglikrow, file=file.path(path_save_,paste0(name,\"df_sampleloglikrow.csv\")))\n",
    "df_resloo = data.frame('insampleLogLik' = loores$insampleLogLik,\n",
    "           'outsampleLogLik' = loores$outsampleLogLik,\n",
    "           'outsampleLogLik' = loores$insampleRowwiseEntropy,\n",
    "           'outsampleRowwiseEntropy' = loores$outsampleRowwiseEntropy,\n",
    "           'insampleSubjectwiseEntropy' = loores$insampleSubjectwiseEntropy,\n",
    "           'outsampleSubjectwiseEntropy' = loores$outsampleSubjectwiseEntropy,\n",
    "           'insampleRowwiseLogLikSD' = loores$insampleRowwiseLogLikSD,\n",
    "           'outsampleRowwiseLogLikSD' = loores$outsampleRowwiseLogLikSD,\n",
    "           'insampleSubjectwiseLogLikSD' = loores$insampleSubjectwiseLogLikSD,\n",
    "           'outsampleSubjectwiseLogLikSD' = loores$outsampleSubjectwiseLogLikSD)\n",
    "write.csv(df_resloo, file=file.path(path_save_,paste0(name,\"df_resloo.csv\")))"
   ]
  },
  {
   "cell_type": "code",
   "execution_count": null,
   "id": "22b858f5",
   "metadata": {},
   "outputs": [],
   "source": []
  },
  {
   "cell_type": "code",
   "execution_count": null,
   "id": "2102f0c8",
   "metadata": {},
   "outputs": [],
   "source": []
  },
  {
   "cell_type": "code",
   "execution_count": null,
   "id": "4764c6b6",
   "metadata": {},
   "outputs": [],
   "source": []
  },
  {
   "cell_type": "code",
   "execution_count": null,
   "id": "8f685c25",
   "metadata": {},
   "outputs": [],
   "source": []
  },
  {
   "cell_type": "code",
   "execution_count": null,
   "id": "47b8bb8e",
   "metadata": {},
   "outputs": [],
   "source": []
  },
  {
   "cell_type": "code",
   "execution_count": null,
   "id": "340a7d2f",
   "metadata": {},
   "outputs": [],
   "source": []
  },
  {
   "cell_type": "code",
   "execution_count": null,
   "id": "bef05d4c",
   "metadata": {},
   "outputs": [],
   "source": []
  },
  {
   "cell_type": "code",
   "execution_count": null,
   "id": "5bb6f978",
   "metadata": {},
   "outputs": [],
   "source": []
  }
 ],
 "metadata": {
  "kernelspec": {
   "display_name": " Rkernel_4",
   "language": "R",
   "name": "rkernel_4"
  },
  "language_info": {
   "codemirror_mode": "r",
   "file_extension": ".r",
   "mimetype": "text/x-r-source",
   "name": "R",
   "pygments_lexer": "r",
   "version": "4.1.1"
  }
 },
 "nbformat": 4,
 "nbformat_minor": 5
}
