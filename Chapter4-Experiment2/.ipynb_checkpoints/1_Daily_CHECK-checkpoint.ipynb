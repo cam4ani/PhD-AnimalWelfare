{
 "cells": [
  {
   "cell_type": "code",
   "execution_count": 1,
   "metadata": {},
   "outputs": [],
   "source": [
    "#packages\n",
    "import json\n",
    "import tqdm\n",
    "import os\n",
    "import numpy as np\n",
    "import sys\n",
    "import glob\n",
    "import pandas as pd\n",
    "import datetime as dt\n",
    "import re\n",
    "import math\n",
    "from collections import defaultdict\n",
    "import operator\n",
    "\n",
    "#plot\n",
    "import matplotlib.pyplot as plt\n",
    "import seaborn as sns"
   ]
  },
  {
   "cell_type": "code",
   "execution_count": 2,
   "metadata": {},
   "outputs": [
    {
     "name": "stderr",
     "output_type": "stream",
     "text": [
      "C:\\Users\\camil\\anaconda3\\lib\\site-packages\\scipy\\sparse\\sparsetools.py:21: DeprecationWarning: `scipy.sparse.sparsetools` is deprecated!\n",
      "scipy.sparse.sparsetools is a private module for scipy.sparse, and should not be used.\n",
      "  _deprecated()\n"
     ]
    },
    {
     "name": "stdout",
     "output_type": "stream",
     "text": [
      "2\n"
     ]
    }
   ],
   "source": [
    "PACKAGE_PARENT = '../'\n",
    "SCRIPT_DIR = os.path.dirname(os.path.realpath(os.path.join(os.getcwd(), os.path.expanduser('__file__'))))\n",
    "sys.path.append(os.path.normpath(os.path.join(SCRIPT_DIR, PACKAGE_PARENT)))\n",
    "from UTILS import preprocessing_Origins,\\\n",
    "ZoneVariable, HenDailyVariable_Origins, FB_process, is_day\n",
    "import config_exp2 as config"
   ]
  },
  {
   "cell_type": "code",
   "execution_count": 3,
   "metadata": {},
   "outputs": [],
   "source": [
    "#initialise parameter\n",
    "path_initial_data = config.path_initial_data\n",
    "path_extracted_data_daily_check = config.path_extracted_data_daily_check\n",
    "id_run = config.id_run\n",
    "dico_rc_sys = config.dico_rc_sys\n",
    "path_FocalBird = config.path_FocalBird\n",
    "\n",
    "focal_name = config.focal_name\n",
    "path_Days = config.path_Days"
   ]
  },
  {
   "cell_type": "code",
   "execution_count": 4,
   "metadata": {},
   "outputs": [],
   "source": [
    "#voltage thresholds\n",
    "#Threshold for minimarker and wintergarden battery change\n",
    "thresh_dev = 3100\n",
    "#Threshold for tag battery change\n",
    "thresh_tag = 2930"
   ]
  },
  {
   "cell_type": "raw",
   "metadata": {},
   "source": [
    "Why have I done a new notebook for daily check: notebook from previous study issues, among these:\n",
    "1. need to download 6 files, rename them and put in the folder before using the cript. WIth this one download one file, no need of rename and then use the script directly\n",
    "2. not general enought to be used with three systems, so one should copy paste a lot of the script which makes it very long and ugly\n",
    "3. not correct regarding tagID in different hen and henID with multiple Tagid\n",
    "4. not correct regarding nan and 0 voltage\n",
    "..."
   ]
  },
  {
   "cell_type": "markdown",
   "metadata": {},
   "source": [
    "# Download data"
   ]
  },
  {
   "cell_type": "code",
   "execution_count": 5,
   "metadata": {},
   "outputs": [],
   "source": [
    "#for the logs and device updates\n",
    "over_last_Xdays = 6"
   ]
  },
  {
   "cell_type": "markdown",
   "metadata": {},
   "source": [
    "### logs with their associated HenID"
   ]
  },
  {
   "cell_type": "code",
   "execution_count": 6,
   "metadata": {
    "scrolled": false
   },
   "outputs": [
    {
     "name": "stderr",
     "output_type": "stream",
     "text": [
      "C:\\Users\\camil\\anaconda3\\lib\\site-packages\\ipykernel\\ipkernel.py:283: DeprecationWarning: `should_run_async` will not call `transform_cell` automatically in the future. Please pass the result to `transformed_cell` argument and any exception that happen during thetransform in `preprocessing_exc_tuple` in IPython 7.17 and above.\n",
      "  and should_run_async(code)\n",
      "<>:1: DeprecationWarning: invalid escape sequence \\T\n",
      "<>:1: DeprecationWarning: invalid escape sequence \\T\n",
      "<ipython-input-6-dff51f11de74>:1: DeprecationWarning: invalid escape sequence \\T\n",
      "  p = glob.glob(os.path.join(path_initial_data, 'Barn 4 Pen*\\TagUpdates\\log*'))\n"
     ]
    },
    {
     "data": {
      "text/html": [
       "<text style=color:black>log: log_00000009 has </text> <text style=color:green>367465</text> <text style=color:black> rows</text>"
      ],
      "text/plain": [
       "<IPython.core.display.HTML object>"
      ]
     },
     "metadata": {},
     "output_type": "display_data"
    },
    {
     "data": {
      "text/html": [
       "<text style=color:black>log: log_00000010 has </text> <text style=color:green>285750</text> <text style=color:black> rows</text>"
      ],
      "text/plain": [
       "<IPython.core.display.HTML object>"
      ]
     },
     "metadata": {},
     "output_type": "display_data"
    },
    {
     "data": {
      "text/html": [
       "<text style=color:black>log: log_00000008 has </text> <text style=color:green>371711</text> <text style=color:black> rows</text>"
      ],
      "text/plain": [
       "<IPython.core.display.HTML object>"
      ]
     },
     "metadata": {},
     "output_type": "display_data"
    },
    {
     "data": {
      "text/html": [
       "<text style=color:black>log: log_00000009 has </text> <text style=color:green>199754</text> <text style=color:black> rows</text>"
      ],
      "text/plain": [
       "<IPython.core.display.HTML object>"
      ]
     },
     "metadata": {},
     "output_type": "display_data"
    },
    {
     "data": {
      "text/html": [
       "<text style=color:black>log: log_00000005 has </text> <text style=color:green>370065</text> <text style=color:black> rows</text>"
      ],
      "text/plain": [
       "<IPython.core.display.HTML object>"
      ]
     },
     "metadata": {},
     "output_type": "display_data"
    },
    {
     "data": {
      "text/html": [
       "<text style=color:black>log: log_00000006 has </text> <text style=color:red>22240</text> <text style=color:black> rows</text>"
      ],
      "text/plain": [
       "<IPython.core.display.HTML object>"
      ]
     },
     "metadata": {},
     "output_type": "display_data"
    },
    {
     "name": "stderr",
     "output_type": "stream",
     "text": [
      "C:\\Users\\camil\\anaconda3\\lib\\site-packages\\pandas\\core\\computation\\expressions.py:68: FutureWarning: elementwise comparison failed; returning scalar instead, but in the future will perform elementwise comparison\n",
      "  return op(a, b)\n"
     ]
    },
    {
     "name": "stdout",
     "output_type": "stream",
     "text": [
      "From the focalBirdinfo, you have 169 ative tags\n",
      "(878338, 36)\n"
     ]
    },
    {
     "data": {
      "text/html": [
       "<div>\n",
       "<style scoped>\n",
       "    .dataframe tbody tr th:only-of-type {\n",
       "        vertical-align: middle;\n",
       "    }\n",
       "\n",
       "    .dataframe tbody tr th {\n",
       "        vertical-align: top;\n",
       "    }\n",
       "\n",
       "    .dataframe thead th {\n",
       "        text-align: right;\n",
       "    }\n",
       "</style>\n",
       "<table border=\"1\" class=\"dataframe\">\n",
       "  <thead>\n",
       "    <tr style=\"text-align: right;\">\n",
       "      <th></th>\n",
       "      <th>Timestamp</th>\n",
       "      <th>TagSerialNumber</th>\n",
       "      <th>TagID</th>\n",
       "      <th>Zone</th>\n",
       "      <th>systemgantnerid</th>\n",
       "      <th>useless_zone</th>\n",
       "      <th>signalstrength</th>\n",
       "      <th>zone2</th>\n",
       "      <th>signalstzone2</th>\n",
       "      <th>zone3</th>\n",
       "      <th>...</th>\n",
       "      <th>FocalLegringName</th>\n",
       "      <th>commentSelection</th>\n",
       "      <th>weight-08-10-2021</th>\n",
       "      <th>BackpackID</th>\n",
       "      <th>commentPopulation</th>\n",
       "      <th>exception</th>\n",
       "      <th>InitialStartDate</th>\n",
       "      <th>StartDate</th>\n",
       "      <th>EndDate</th>\n",
       "      <th>ShouldBeExcluded</th>\n",
       "    </tr>\n",
       "  </thead>\n",
       "  <tbody>\n",
       "    <tr>\n",
       "      <th>304809</th>\n",
       "      <td>2021-10-08 00:00:17</td>\n",
       "      <td>02002D19</td>\n",
       "      <td>tag_218</td>\n",
       "      <td>2_Zone</td>\n",
       "      <td>1.0</td>\n",
       "      <td>1.0</td>\n",
       "      <td>5.0</td>\n",
       "      <td>0.0</td>\n",
       "      <td>0.0</td>\n",
       "      <td>0.0</td>\n",
       "      <td>...</td>\n",
       "      <td>yellow5</td>\n",
       "      <td>NaN</td>\n",
       "      <td>1189.6</td>\n",
       "      <td>NaN</td>\n",
       "      <td>was selected randomly by computer as 23  but m...</td>\n",
       "      <td></td>\n",
       "      <td>2021-09-28</td>\n",
       "      <td>2021-10-07</td>\n",
       "      <td>2022-08-01</td>\n",
       "      <td>NaN</td>\n",
       "    </tr>\n",
       "    <tr>\n",
       "      <th>304810</th>\n",
       "      <td>2021-10-08 00:00:19</td>\n",
       "      <td>02002D19</td>\n",
       "      <td>tag_218</td>\n",
       "      <td>3_Zone</td>\n",
       "      <td>1.0</td>\n",
       "      <td>2.0</td>\n",
       "      <td>10.0</td>\n",
       "      <td>1.0</td>\n",
       "      <td>5.0</td>\n",
       "      <td>0.0</td>\n",
       "      <td>...</td>\n",
       "      <td>yellow5</td>\n",
       "      <td>NaN</td>\n",
       "      <td>1189.6</td>\n",
       "      <td>NaN</td>\n",
       "      <td>was selected randomly by computer as 23  but m...</td>\n",
       "      <td></td>\n",
       "      <td>2021-09-28</td>\n",
       "      <td>2021-10-07</td>\n",
       "      <td>2022-08-01</td>\n",
       "      <td>NaN</td>\n",
       "    </tr>\n",
       "    <tr>\n",
       "      <th>304923</th>\n",
       "      <td>2021-10-08 00:00:50</td>\n",
       "      <td>02001559</td>\n",
       "      <td>tag_59</td>\n",
       "      <td>2_Zone</td>\n",
       "      <td>1.0</td>\n",
       "      <td>1.0</td>\n",
       "      <td>6.0</td>\n",
       "      <td>0.0</td>\n",
       "      <td>0.0</td>\n",
       "      <td>0.0</td>\n",
       "      <td>...</td>\n",
       "      <td>brightgreen21</td>\n",
       "      <td>NaN</td>\n",
       "      <td>1100.6</td>\n",
       "      <td>NaN</td>\n",
       "      <td>NaN</td>\n",
       "      <td>NaN</td>\n",
       "      <td>2021-09-28</td>\n",
       "      <td>2021-10-07</td>\n",
       "      <td>2022-08-01</td>\n",
       "      <td>NaN</td>\n",
       "    </tr>\n",
       "  </tbody>\n",
       "</table>\n",
       "<p>3 rows × 36 columns</p>\n",
       "</div>"
      ],
      "text/plain": [
       "                 Timestamp TagSerialNumber    TagID    Zone  systemgantnerid  \\\n",
       "304809 2021-10-08 00:00:17        02002D19  tag_218  2_Zone              1.0   \n",
       "304810 2021-10-08 00:00:19        02002D19  tag_218  3_Zone              1.0   \n",
       "304923 2021-10-08 00:00:50        02001559   tag_59  2_Zone              1.0   \n",
       "\n",
       "        useless_zone  signalstrength  zone2  signalstzone2  zone3  ...  \\\n",
       "304809           1.0             5.0    0.0            0.0    0.0  ...   \n",
       "304810           2.0            10.0    1.0            5.0    0.0  ...   \n",
       "304923           1.0             6.0    0.0            0.0    0.0  ...   \n",
       "\n",
       "        FocalLegringName  commentSelection  weight-08-10-2021 BackpackID  \\\n",
       "304809           yellow5               NaN             1189.6        NaN   \n",
       "304810           yellow5               NaN             1189.6        NaN   \n",
       "304923     brightgreen21               NaN             1100.6        NaN   \n",
       "\n",
       "                                        commentPopulation exception  \\\n",
       "304809  was selected randomly by computer as 23  but m...             \n",
       "304810  was selected randomly by computer as 23  but m...             \n",
       "304923                                                NaN       NaN   \n",
       "\n",
       "        InitialStartDate  StartDate    EndDate ShouldBeExcluded  \n",
       "304809        2021-09-28 2021-10-07 2022-08-01              NaN  \n",
       "304810        2021-09-28 2021-10-07 2022-08-01              NaN  \n",
       "304923        2021-09-28 2021-10-07 2022-08-01              NaN  \n",
       "\n",
       "[3 rows x 36 columns]"
      ]
     },
     "metadata": {},
     "output_type": "display_data"
    },
    {
     "data": {
      "text/html": [
       "<div>\n",
       "<style scoped>\n",
       "    .dataframe tbody tr th:only-of-type {\n",
       "        vertical-align: middle;\n",
       "    }\n",
       "\n",
       "    .dataframe tbody tr th {\n",
       "        vertical-align: top;\n",
       "    }\n",
       "\n",
       "    .dataframe thead th {\n",
       "        text-align: right;\n",
       "    }\n",
       "</style>\n",
       "<table border=\"1\" class=\"dataframe\">\n",
       "  <thead>\n",
       "    <tr style=\"text-align: right;\">\n",
       "      <th></th>\n",
       "      <th>Timestamp</th>\n",
       "      <th>TagSerialNumber</th>\n",
       "      <th>TagID</th>\n",
       "      <th>Zone</th>\n",
       "      <th>systemgantnerid</th>\n",
       "      <th>useless_zone</th>\n",
       "      <th>signalstrength</th>\n",
       "      <th>zone2</th>\n",
       "      <th>signalstzone2</th>\n",
       "      <th>zone3</th>\n",
       "      <th>...</th>\n",
       "      <th>FocalLegringName</th>\n",
       "      <th>commentSelection</th>\n",
       "      <th>weight-08-10-2021</th>\n",
       "      <th>BackpackID</th>\n",
       "      <th>commentPopulation</th>\n",
       "      <th>exception</th>\n",
       "      <th>InitialStartDate</th>\n",
       "      <th>StartDate</th>\n",
       "      <th>EndDate</th>\n",
       "      <th>ShouldBeExcluded</th>\n",
       "    </tr>\n",
       "  </thead>\n",
       "  <tbody>\n",
       "    <tr>\n",
       "      <th>302737</th>\n",
       "      <td>2021-11-29 09:04:41</td>\n",
       "      <td>02001E78</td>\n",
       "      <td>tag_144</td>\n",
       "      <td>3_Zone</td>\n",
       "      <td>2.0</td>\n",
       "      <td>8.0</td>\n",
       "      <td>13.0</td>\n",
       "      <td>2.0</td>\n",
       "      <td>10.0</td>\n",
       "      <td>3.0</td>\n",
       "      <td>...</td>\n",
       "      <td>pink45</td>\n",
       "      <td>NaN</td>\n",
       "      <td>1335.5</td>\n",
       "      <td>sglpt</td>\n",
       "      <td>NaN</td>\n",
       "      <td>NaN</td>\n",
       "      <td>2021-09-28</td>\n",
       "      <td>2021-10-07</td>\n",
       "      <td>2022-08-01</td>\n",
       "      <td>NaN</td>\n",
       "    </tr>\n",
       "    <tr>\n",
       "      <th>302738</th>\n",
       "      <td>2021-11-29 09:04:56</td>\n",
       "      <td>02001E78</td>\n",
       "      <td>tag_144</td>\n",
       "      <td>3_Zone</td>\n",
       "      <td>2.0</td>\n",
       "      <td>2.0</td>\n",
       "      <td>13.0</td>\n",
       "      <td>8.0</td>\n",
       "      <td>10.0</td>\n",
       "      <td>3.0</td>\n",
       "      <td>...</td>\n",
       "      <td>pink45</td>\n",
       "      <td>NaN</td>\n",
       "      <td>1335.5</td>\n",
       "      <td>sglpt</td>\n",
       "      <td>NaN</td>\n",
       "      <td>NaN</td>\n",
       "      <td>2021-09-28</td>\n",
       "      <td>2021-10-07</td>\n",
       "      <td>2022-08-01</td>\n",
       "      <td>NaN</td>\n",
       "    </tr>\n",
       "    <tr>\n",
       "      <th>304762</th>\n",
       "      <td>2021-11-29 09:04:56</td>\n",
       "      <td>02001E7C</td>\n",
       "      <td>tag_176</td>\n",
       "      <td>4_Zone</td>\n",
       "      <td>2.0</td>\n",
       "      <td>3.0</td>\n",
       "      <td>18.0</td>\n",
       "      <td>4.0</td>\n",
       "      <td>15.0</td>\n",
       "      <td>2.0</td>\n",
       "      <td>...</td>\n",
       "      <td>lightblue30</td>\n",
       "      <td>NaN</td>\n",
       "      <td>1191.2</td>\n",
       "      <td>NaN</td>\n",
       "      <td>NaN</td>\n",
       "      <td>NaN</td>\n",
       "      <td>2021-09-28</td>\n",
       "      <td>2021-10-07</td>\n",
       "      <td>2022-08-01</td>\n",
       "      <td>NaN</td>\n",
       "    </tr>\n",
       "  </tbody>\n",
       "</table>\n",
       "<p>3 rows × 36 columns</p>\n",
       "</div>"
      ],
      "text/plain": [
       "                 Timestamp TagSerialNumber    TagID    Zone  systemgantnerid  \\\n",
       "302737 2021-11-29 09:04:41        02001E78  tag_144  3_Zone              2.0   \n",
       "302738 2021-11-29 09:04:56        02001E78  tag_144  3_Zone              2.0   \n",
       "304762 2021-11-29 09:04:56        02001E7C  tag_176  4_Zone              2.0   \n",
       "\n",
       "        useless_zone  signalstrength  zone2  signalstzone2  zone3  ...  \\\n",
       "302737           8.0            13.0    2.0           10.0    3.0  ...   \n",
       "302738           2.0            13.0    8.0           10.0    3.0  ...   \n",
       "304762           3.0            18.0    4.0           15.0    2.0  ...   \n",
       "\n",
       "        FocalLegringName  commentSelection  weight-08-10-2021 BackpackID  \\\n",
       "302737            pink45               NaN             1335.5      sglpt   \n",
       "302738            pink45               NaN             1335.5      sglpt   \n",
       "304762       lightblue30               NaN             1191.2        NaN   \n",
       "\n",
       "       commentPopulation exception  InitialStartDate  StartDate    EndDate  \\\n",
       "302737               NaN       NaN        2021-09-28 2021-10-07 2022-08-01   \n",
       "302738               NaN       NaN        2021-09-28 2021-10-07 2022-08-01   \n",
       "304762               NaN       NaN        2021-09-28 2021-10-07 2022-08-01   \n",
       "\n",
       "       ShouldBeExcluded  \n",
       "302737              NaN  \n",
       "302738              NaN  \n",
       "304762              NaN  \n",
       "\n",
       "[3 rows x 36 columns]"
      ]
     },
     "metadata": {},
     "output_type": "display_data"
    }
   ],
   "source": [
    "p = glob.glob(os.path.join(path_initial_data, 'Barn 4 Pen*\\TagUpdates\\log*'))\n",
    "#mtime = os.stat(os.path.join('.', p[0])).st_mtime\n",
    "#download_time = dt.datetime.fromtimestamp(mtime).strftime('%Y-%m-%d-%H:%M')\n",
    "#download_time = dt.datetime.strptime(download_time, '%Y-%m-%d-%H:%M')\n",
    "#print('The file were downloaded at: ', download_time)\n",
    "#print('There is %d log files:\\n  %s'%(len(p),'  \\n  '.join(p)))\n",
    "df = preprocessing_Origins(p, config, save=False, dodevice=False)\n",
    "print(df.shape)\n",
    "display(df.head(3))\n",
    "display(df.tail(3))"
   ]
  },
  {
   "cell_type": "code",
   "execution_count": 7,
   "metadata": {},
   "outputs": [
    {
     "name": "stdout",
     "output_type": "stream",
     "text": [
      "From the focalBirdinfo, you have 169 ative tags\n"
     ]
    },
    {
     "name": "stderr",
     "output_type": "stream",
     "text": [
      "C:\\Users\\camil\\anaconda3\\lib\\site-packages\\ipykernel\\ipkernel.py:283: DeprecationWarning: `should_run_async` will not call `transform_cell` automatically in the future. Please pass the result to `transformed_cell` argument and any exception that happen during thetransform in `preprocessing_exc_tuple` in IPython 7.17 and above.\n",
      "  and should_run_async(code)\n",
      "C:\\Users\\camil\\anaconda3\\lib\\site-packages\\pandas\\core\\computation\\expressions.py:68: FutureWarning: elementwise comparison failed; returning scalar instead, but in the future will perform elementwise comparison\n",
      "  return op(a, b)\n"
     ]
    }
   ],
   "source": [
    "df_FB = pd.read_csv(path_FocalBird, sep=';', parse_dates=['StartDate','EndDate'], dayfirst=True, encoding='latin') #verified dates:correct\n",
    "#fill end date to today+1 for the birds which we dont know when is there end date (+1: so that today is taken into account)\n",
    "df_FB['EndDate'].fillna(config.date_max+dt.timedelta(days=1), inplace=True)\n",
    "df_FB['TagID'] = df_FB['TagID'].map(lambda x: 'tag_'+str(x)) #new:exp2\n",
    "df_FB['PenID'] = df_FB['PenID'].map(int).map(str)\n",
    "#exclude rows were tags were not functionning correctly for some reason \n",
    "df_FB = df_FB[df_FB['ShouldBeExcluded']!='yes']\n",
    "#define a list with the active tags of today/last date\n",
    "li_active_tags = list(df_FB[df_FB['EndDate']>=config.date_max]['TagID'].unique())\n",
    "#Counter(li_active_tags)\n",
    "print('From the focalBirdinfo, you have %d ative tags'%len(li_active_tags))"
   ]
  },
  {
   "cell_type": "markdown",
   "metadata": {},
   "source": [
    "### active tags"
   ]
  },
  {
   "cell_type": "code",
   "execution_count": 8,
   "metadata": {},
   "outputs": [
    {
     "name": "stdout",
     "output_type": "stream",
     "text": [
      "(169, 18)\n",
      "(169, 18)\n"
     ]
    },
    {
     "name": "stderr",
     "output_type": "stream",
     "text": [
      "C:\\Users\\camil\\anaconda3\\lib\\site-packages\\ipykernel\\ipkernel.py:283: DeprecationWarning: `should_run_async` will not call `transform_cell` automatically in the future. Please pass the result to `transformed_cell` argument and any exception that happen during thetransform in `preprocessing_exc_tuple` in IPython 7.17 and above.\n",
      "  and should_run_async(code)\n",
      "C:\\Users\\camil\\anaconda3\\lib\\site-packages\\pandas\\core\\computation\\expressions.py:68: FutureWarning: elementwise comparison failed; returning scalar instead, but in the future will perform elementwise comparison\n",
      "  return op(a, b)\n"
     ]
    },
    {
     "data": {
      "text/html": [
       "<div>\n",
       "<style scoped>\n",
       "    .dataframe tbody tr th:only-of-type {\n",
       "        vertical-align: middle;\n",
       "    }\n",
       "\n",
       "    .dataframe tbody tr th {\n",
       "        vertical-align: top;\n",
       "    }\n",
       "\n",
       "    .dataframe thead th {\n",
       "        text-align: right;\n",
       "    }\n",
       "</style>\n",
       "<table border=\"1\" class=\"dataframe\">\n",
       "  <thead>\n",
       "    <tr style=\"text-align: right;\">\n",
       "      <th></th>\n",
       "      <th>HenID</th>\n",
       "      <th>SireID</th>\n",
       "      <th>RPenID</th>\n",
       "      <th>PenID</th>\n",
       "      <th>Rtreatment</th>\n",
       "      <th>LPLegring</th>\n",
       "      <th>legringID</th>\n",
       "      <th>FocalLegringName</th>\n",
       "      <th>commentSelection</th>\n",
       "      <th>weight-08-10-2021</th>\n",
       "      <th>BackpackID</th>\n",
       "      <th>TagID</th>\n",
       "      <th>commentPopulation</th>\n",
       "      <th>exception</th>\n",
       "      <th>InitialStartDate</th>\n",
       "      <th>StartDate</th>\n",
       "      <th>EndDate</th>\n",
       "      <th>ShouldBeExcluded</th>\n",
       "    </tr>\n",
       "  </thead>\n",
       "  <tbody>\n",
       "    <tr>\n",
       "      <th>0</th>\n",
       "      <td>1</td>\n",
       "      <td>15</td>\n",
       "      <td>Rpen12</td>\n",
       "      <td>10</td>\n",
       "      <td>Queue</td>\n",
       "      <td>red</td>\n",
       "      <td>1</td>\n",
       "      <td>red1</td>\n",
       "      <td>was slected as 46 by random on computer  but n...</td>\n",
       "      <td>1122.0</td>\n",
       "      <td>NaN</td>\n",
       "      <td>tag_5</td>\n",
       "      <td>NaN</td>\n",
       "      <td>NaN</td>\n",
       "      <td>28.09.2021</td>\n",
       "      <td>2021-10-07</td>\n",
       "      <td>2022-08-01</td>\n",
       "      <td>NaN</td>\n",
       "    </tr>\n",
       "    <tr>\n",
       "      <th>1</th>\n",
       "      <td>2</td>\n",
       "      <td>63</td>\n",
       "      <td>Rpen13</td>\n",
       "      <td>10</td>\n",
       "      <td>NoQueue</td>\n",
       "      <td>red</td>\n",
       "      <td>17</td>\n",
       "      <td>red17</td>\n",
       "      <td>NaN</td>\n",
       "      <td>1343.8</td>\n",
       "      <td>NaN</td>\n",
       "      <td>tag_16</td>\n",
       "      <td>NaN</td>\n",
       "      <td>NaN</td>\n",
       "      <td>28.09.2021</td>\n",
       "      <td>2021-10-07</td>\n",
       "      <td>2022-08-01</td>\n",
       "      <td>NaN</td>\n",
       "    </tr>\n",
       "    <tr>\n",
       "      <th>2</th>\n",
       "      <td>3</td>\n",
       "      <td>78</td>\n",
       "      <td>Rpen13</td>\n",
       "      <td>10</td>\n",
       "      <td>NoQueue</td>\n",
       "      <td>red</td>\n",
       "      <td>15</td>\n",
       "      <td>red15</td>\n",
       "      <td>NaN</td>\n",
       "      <td>1252.7</td>\n",
       "      <td>NaN</td>\n",
       "      <td>tag_19</td>\n",
       "      <td>NaN</td>\n",
       "      <td>NaN</td>\n",
       "      <td>28.09.2021</td>\n",
       "      <td>2021-10-07</td>\n",
       "      <td>2022-08-01</td>\n",
       "      <td>NaN</td>\n",
       "    </tr>\n",
       "  </tbody>\n",
       "</table>\n",
       "</div>"
      ],
      "text/plain": [
       "   HenID  SireID  RPenID  PenID Rtreatment LPLegring  legringID  \\\n",
       "0      1      15  Rpen12     10      Queue       red          1   \n",
       "1      2      63  Rpen13     10    NoQueue       red         17   \n",
       "2      3      78  Rpen13     10    NoQueue       red         15   \n",
       "\n",
       "  FocalLegringName                                   commentSelection  \\\n",
       "0             red1  was slected as 46 by random on computer  but n...   \n",
       "1            red17                                                NaN   \n",
       "2            red15                                                NaN   \n",
       "\n",
       "   weight-08-10-2021 BackpackID   TagID commentPopulation exception  \\\n",
       "0             1122.0        NaN   tag_5               NaN       NaN   \n",
       "1             1343.8        NaN  tag_16               NaN       NaN   \n",
       "2             1252.7        NaN  tag_19               NaN       NaN   \n",
       "\n",
       "  InitialStartDate  StartDate    EndDate  ShouldBeExcluded  \n",
       "0       28.09.2021 2021-10-07 2022-08-01               NaN  \n",
       "1       28.09.2021 2021-10-07 2022-08-01               NaN  \n",
       "2       28.09.2021 2021-10-07 2022-08-01               NaN  "
      ]
     },
     "execution_count": 8,
     "metadata": {},
     "output_type": "execute_result"
    }
   ],
   "source": [
    "df_tag = pd.read_csv(path_FocalBird, sep=';', parse_dates=['StartDate','EndDate'], dayfirst=True, encoding='latin')\n",
    "df_tag['EndDate'].fillna(dt.date.today(), inplace=True)\n",
    "print(df_tag.shape)\n",
    "df_tag = df_tag[df_tag['ShouldBeExcluded']!='yes']\n",
    "df_tag['TagID'] = df_tag['TagID'].map(lambda x: 'tag_'+str(x)) #new:exp2\n",
    "print(df_tag.shape)\n",
    "df_tag.head(3)"
   ]
  },
  {
   "cell_type": "code",
   "execution_count": 9,
   "metadata": {},
   "outputs": [
    {
     "name": "stdout",
     "output_type": "stream",
     "text": [
      "From your focalbird document you should have 169 ative tags\n"
     ]
    },
    {
     "name": "stderr",
     "output_type": "stream",
     "text": [
      "C:\\Users\\camil\\anaconda3\\lib\\site-packages\\ipykernel\\ipkernel.py:283: DeprecationWarning: `should_run_async` will not call `transform_cell` automatically in the future. Please pass the result to `transformed_cell` argument and any exception that happen during thetransform in `preprocessing_exc_tuple` in IPython 7.17 and above.\n",
      "  and should_run_async(code)\n"
     ]
    }
   ],
   "source": [
    "li_active_tags = list(set(df_tag[df_tag['EndDate']>=pd.to_datetime(dt.date.today())]['TagID'].unique()))\n",
    "#Counter(li_active_tags)\n",
    "print('From your focalbird document you should have %d ative tags'%len(li_active_tags))"
   ]
  },
  {
   "cell_type": "markdown",
   "metadata": {},
   "source": [
    "### device"
   ]
  },
  {
   "cell_type": "code",
   "execution_count": 10,
   "metadata": {},
   "outputs": [
    {
     "name": "stderr",
     "output_type": "stream",
     "text": [
      "C:\\Users\\camil\\anaconda3\\lib\\site-packages\\ipykernel\\ipkernel.py:283: DeprecationWarning: `should_run_async` will not call `transform_cell` automatically in the future. Please pass the result to `transformed_cell` argument and any exception that happen during thetransform in `preprocessing_exc_tuple` in IPython 7.17 and above.\n",
      "  and should_run_async(code)\n",
      "<>:4: DeprecationWarning: invalid escape sequence \\D\n",
      "<>:4: DeprecationWarning: invalid escape sequence \\D\n",
      "<ipython-input-10-7fe44d0a0414>:4: DeprecationWarning: invalid escape sequence \\D\n",
      "  for path_system in glob.glob(os.path.join(path_initial_data, 'Barn 4 Pen*\\DeviceUpdates')):\n",
      " 11%|█████████▎                                                                          | 1/9 [00:19<02:33, 19.15s/it]"
     ]
    },
    {
     "name": "stdout",
     "output_type": "stream",
     "text": [
      "(216216, 20)\n",
      "----------------- G:\\VPHI\\Welfare\\2- Research Projects\\Camille Montalcini\\Origins.GS\\GantnerSystem\\DATA\\Barn 4 Pen 10 - 12\\DeviceUpdates\\log_00000025.csv\n"
     ]
    },
    {
     "name": "stderr",
     "output_type": "stream",
     "text": [
      "\r",
      " 22%|██████████████████▋                                                                 | 2/9 [00:32<02:00, 17.27s/it]"
     ]
    },
    {
     "name": "stdout",
     "output_type": "stream",
     "text": [
      "(254208, 20)\n",
      "----------------- G:\\VPHI\\Welfare\\2- Research Projects\\Camille Montalcini\\Origins.GS\\GantnerSystem\\DATA\\Barn 4 Pen 10 - 12\\DeviceUpdates\\log_00000024.csv\n"
     ]
    },
    {
     "name": "stderr",
     "output_type": "stream",
     "text": [
      "\r",
      " 33%|████████████████████████████                                                        | 3/9 [00:47<01:39, 16.60s/it]"
     ]
    },
    {
     "name": "stdout",
     "output_type": "stream",
     "text": [
      "(165960, 20)\n",
      "----------------- G:\\VPHI\\Welfare\\2- Research Projects\\Camille Montalcini\\Origins.GS\\GantnerSystem\\DATA\\Barn 4 Pen 10 - 12\\DeviceUpdates\\log_00000026.csv\n"
     ]
    },
    {
     "name": "stderr",
     "output_type": "stream",
     "text": [
      "\r",
      " 44%|█████████████████████████████████████▎                                              | 4/9 [00:53<01:08, 13.70s/it]"
     ]
    },
    {
     "name": "stdout",
     "output_type": "stream",
     "text": [
      "(410110, 20)\n",
      "----------------- G:\\VPHI\\Welfare\\2- Research Projects\\Camille Montalcini\\Origins.GS\\GantnerSystem\\DATA\\Barn 4 Pen 3 - 5\\DeviceUpdates\\log_00000023.csv\n"
     ]
    },
    {
     "name": "stderr",
     "output_type": "stream",
     "text": [
      "\r",
      " 56%|██████████████████████████████████████████████▋                                     | 5/9 [01:00<00:46, 11.55s/it]"
     ]
    },
    {
     "name": "stdout",
     "output_type": "stream",
     "text": [
      "(93018, 20)\n",
      "----------------- G:\\VPHI\\Welfare\\2- Research Projects\\Camille Montalcini\\Origins.GS\\GantnerSystem\\DATA\\Barn 4 Pen 3 - 5\\DeviceUpdates\\log_00000026.csv\n"
     ]
    },
    {
     "name": "stderr",
     "output_type": "stream",
     "text": [
      "\r",
      " 67%|████████████████████████████████████████████████████████                            | 6/9 [01:19<00:41, 13.80s/it]"
     ]
    },
    {
     "name": "stdout",
     "output_type": "stream",
     "text": [
      "(214378, 20)\n",
      "----------------- G:\\VPHI\\Welfare\\2- Research Projects\\Camille Montalcini\\Origins.GS\\GantnerSystem\\DATA\\Barn 4 Pen 3 - 5\\DeviceUpdates\\log_00000025.csv\n"
     ]
    },
    {
     "name": "stderr",
     "output_type": "stream",
     "text": [
      "\r",
      " 78%|█████████████████████████████████████████████████████████████████▎                  | 7/9 [01:40<00:31, 15.85s/it]"
     ]
    },
    {
     "name": "stdout",
     "output_type": "stream",
     "text": [
      "(219200, 20)\n",
      "----------------- G:\\VPHI\\Welfare\\2- Research Projects\\Camille Montalcini\\Origins.GS\\GantnerSystem\\DATA\\Barn 4 Pen 8 - 9\\DeviceUpdates\\log_00000017.csv\n"
     ]
    },
    {
     "name": "stderr",
     "output_type": "stream",
     "text": [
      "\r",
      " 89%|██████████████████████████████████████████████████████████████████████████▋         | 8/9 [01:47<00:13, 13.27s/it]"
     ]
    },
    {
     "name": "stdout",
     "output_type": "stream",
     "text": [
      "(381636, 20)\n",
      "----------------- G:\\VPHI\\Welfare\\2- Research Projects\\Camille Montalcini\\Origins.GS\\GantnerSystem\\DATA\\Barn 4 Pen 8 - 9\\DeviceUpdates\\log_00000016.csv\n"
     ]
    },
    {
     "name": "stderr",
     "output_type": "stream",
     "text": [
      "100%|████████████████████████████████████████████████████████████████████████████████████| 9/9 [02:01<00:00, 13.46s/it]"
     ]
    },
    {
     "name": "stdout",
     "output_type": "stream",
     "text": [
      "(153650, 20)\n",
      "----------------- G:\\VPHI\\Welfare\\2- Research Projects\\Camille Montalcini\\Origins.GS\\GantnerSystem\\DATA\\Barn 4 Pen 8 - 9\\DeviceUpdates\\log_00000018.csv\n"
     ]
    },
    {
     "name": "stderr",
     "output_type": "stream",
     "text": [
      "\n"
     ]
    },
    {
     "name": "stdout",
     "output_type": "stream",
     "text": [
      "(2108376, 22)\n",
      "['log_00000025' 'log_00000024' 'log_00000026' 'log_00000023'\n",
      " 'log_00000017' 'log_00000016' 'log_00000018']\n",
      "(2048937, 22)\n"
     ]
    },
    {
     "data": {
      "text/html": [
       "<div>\n",
       "<style scoped>\n",
       "    .dataframe tbody tr th:only-of-type {\n",
       "        vertical-align: middle;\n",
       "    }\n",
       "\n",
       "    .dataframe tbody tr th {\n",
       "        vertical-align: top;\n",
       "    }\n",
       "\n",
       "    .dataframe thead th {\n",
       "        text-align: right;\n",
       "    }\n",
       "</style>\n",
       "<table border=\"1\" class=\"dataframe\">\n",
       "  <thead>\n",
       "    <tr style=\"text-align: right;\">\n",
       "      <th></th>\n",
       "      <th>Timestamp</th>\n",
       "      <th>sort</th>\n",
       "      <th>code</th>\n",
       "      <th>sender</th>\n",
       "      <th>Temperature</th>\n",
       "      <th>Battery Voltage</th>\n",
       "      <th>MovementCounter</th>\n",
       "      <th>LastLFSeen</th>\n",
       "      <th>LFCounter</th>\n",
       "      <th>LFRSSISum</th>\n",
       "      <th>...</th>\n",
       "      <th>Time</th>\n",
       "      <th>LastInfo</th>\n",
       "      <th>LastLocation</th>\n",
       "      <th>LastAction</th>\n",
       "      <th>data_path</th>\n",
       "      <th>system</th>\n",
       "      <th>logID</th>\n",
       "      <th>date</th>\n",
       "      <th>NeedsBatteries</th>\n",
       "      <th>sender_tag</th>\n",
       "    </tr>\n",
       "  </thead>\n",
       "  <tbody>\n",
       "    <tr>\n",
       "      <th>153647</th>\n",
       "      <td>2021-11-29 09:02:12</td>\n",
       "      <td>Tag</td>\n",
       "      <td>02002178</td>\n",
       "      <td>tag_191</td>\n",
       "      <td>28.0</td>\n",
       "      <td>3006.0</td>\n",
       "      <td>49.0</td>\n",
       "      <td>0.0</td>\n",
       "      <td>810.0</td>\n",
       "      <td>4781.0</td>\n",
       "      <td>...</td>\n",
       "      <td>124.0</td>\n",
       "      <td>29.11.2021 08:55:15</td>\n",
       "      <td>29.11.2021 08:53:10</td>\n",
       "      <td>2021-11-29 09:01:17</td>\n",
       "      <td>G:\\VPHI\\Welfare\\2- Research Projects\\Camille M...</td>\n",
       "      <td>pens:8 - 9</td>\n",
       "      <td>log_00000018</td>\n",
       "      <td>2021-11-29</td>\n",
       "      <td>True</td>\n",
       "      <td>tag_191</td>\n",
       "    </tr>\n",
       "    <tr>\n",
       "      <th>153648</th>\n",
       "      <td>2021-11-29 09:02:12</td>\n",
       "      <td>Tag</td>\n",
       "      <td>020026EF</td>\n",
       "      <td>tag_205</td>\n",
       "      <td>28.0</td>\n",
       "      <td>2995.0</td>\n",
       "      <td>52.0</td>\n",
       "      <td>0.0</td>\n",
       "      <td>776.0</td>\n",
       "      <td>9937.0</td>\n",
       "      <td>...</td>\n",
       "      <td>255.0</td>\n",
       "      <td>29.11.2021 09:01:20</td>\n",
       "      <td>29.11.2021 06:53:28</td>\n",
       "      <td>2021-11-29 09:01:51</td>\n",
       "      <td>G:\\VPHI\\Welfare\\2- Research Projects\\Camille M...</td>\n",
       "      <td>pens:8 - 9</td>\n",
       "      <td>log_00000018</td>\n",
       "      <td>2021-11-29</td>\n",
       "      <td>True</td>\n",
       "      <td>tag_205</td>\n",
       "    </tr>\n",
       "    <tr>\n",
       "      <th>153649</th>\n",
       "      <td>2021-11-29 09:02:12</td>\n",
       "      <td>Tag</td>\n",
       "      <td>020026FF</td>\n",
       "      <td>tag_207</td>\n",
       "      <td>26.0</td>\n",
       "      <td>3012.0</td>\n",
       "      <td>54.0</td>\n",
       "      <td>1.0</td>\n",
       "      <td>514.0</td>\n",
       "      <td>5972.0</td>\n",
       "      <td>...</td>\n",
       "      <td>255.0</td>\n",
       "      <td>29.11.2021 08:52:09</td>\n",
       "      <td>29.11.2021 05:36:35</td>\n",
       "      <td>2021-11-29 09:00:17</td>\n",
       "      <td>G:\\VPHI\\Welfare\\2- Research Projects\\Camille M...</td>\n",
       "      <td>pens:8 - 9</td>\n",
       "      <td>log_00000018</td>\n",
       "      <td>2021-11-29</td>\n",
       "      <td>True</td>\n",
       "      <td>tag_207</td>\n",
       "    </tr>\n",
       "  </tbody>\n",
       "</table>\n",
       "<p>3 rows × 22 columns</p>\n",
       "</div>"
      ],
      "text/plain": [
       "                 Timestamp sort      code   sender  Temperature  \\\n",
       "153647 2021-11-29 09:02:12  Tag  02002178  tag_191         28.0   \n",
       "153648 2021-11-29 09:02:12  Tag  020026EF  tag_205         28.0   \n",
       "153649 2021-11-29 09:02:12  Tag  020026FF  tag_207         26.0   \n",
       "\n",
       "        Battery Voltage  MovementCounter  LastLFSeen  LFCounter  LFRSSISum  \\\n",
       "153647           3006.0             49.0         0.0      810.0     4781.0   \n",
       "153648           2995.0             52.0         0.0      776.0     9937.0   \n",
       "153649           3012.0             54.0         1.0      514.0     5972.0   \n",
       "\n",
       "        ...   Time             LastInfo         LastLocation  \\\n",
       "153647  ...  124.0  29.11.2021 08:55:15  29.11.2021 08:53:10   \n",
       "153648  ...  255.0  29.11.2021 09:01:20  29.11.2021 06:53:28   \n",
       "153649  ...  255.0  29.11.2021 08:52:09  29.11.2021 05:36:35   \n",
       "\n",
       "                LastAction                                          data_path  \\\n",
       "153647 2021-11-29 09:01:17  G:\\VPHI\\Welfare\\2- Research Projects\\Camille M...   \n",
       "153648 2021-11-29 09:01:51  G:\\VPHI\\Welfare\\2- Research Projects\\Camille M...   \n",
       "153649 2021-11-29 09:00:17  G:\\VPHI\\Welfare\\2- Research Projects\\Camille M...   \n",
       "\n",
       "            system         logID        date NeedsBatteries sender_tag  \n",
       "153647  pens:8 - 9  log_00000018  2021-11-29           True    tag_191  \n",
       "153648  pens:8 - 9  log_00000018  2021-11-29           True    tag_205  \n",
       "153649  pens:8 - 9  log_00000018  2021-11-29           True    tag_207  \n",
       "\n",
       "[3 rows x 22 columns]"
      ]
     },
     "execution_count": 10,
     "metadata": {},
     "output_type": "execute_result"
    }
   ],
   "source": [
    "#select last x logs\n",
    "last_x_logs = math.ceil(over_last_Xdays/2) #arondi en haut\n",
    "li_logs = []\n",
    "for path_system in glob.glob(os.path.join(path_initial_data, 'Barn 4 Pen*\\DeviceUpdates')):\n",
    "    li_ = glob.glob(os.path.join(path_system, 'log*'))\n",
    "    li_.sort(key=lambda x: os.path.getmtime(x), reverse=False)\n",
    "    li_logs.extend(li_[-last_x_logs:]) \n",
    "#next version\n",
    "#li_newFirmwarecol = ['Timestamp','sort','code','sender','Temperature','Battery Voltage','MovementCounter','LastLFSeen',\n",
    "#                     'LFCounter','LFRSSISum','Zone', 'Subzone','LFRSSI','Time','LastInfo','LastLocation','LastAction']\n",
    "li_newFirmwarecol = ['Timestamp','sort','code','sender','Temperature','Battery Voltage','MovementCounter','LastLFSeen',\n",
    "                     'LFCounter','LFRSSISum','Zone', 'Subzone','Time','LastInfo','LastLocation','LastAction']\n",
    "#lastReg = LastAction\n",
    "li_df = []\n",
    "for path_log in tqdm.tqdm(li_logs):\n",
    "    #confused month and day\n",
    "    df_device = pd.read_csv(os.path.join(path_log), sep=';', names=li_newFirmwarecol, parse_dates=['LastAction','Timestamp'],\n",
    "                           dayfirst=True)\n",
    "    df_device['data_path'] = path_log\n",
    "    df_device['system'] = 'pens:'+path_log.split('Barn 4 Pen ')[1].split('\\\\')[0]\n",
    "    df_device['logID'] = path_log.split('\\\\')[-1].split('.')[0]\n",
    "    #df_device = df_device[:-1] #remove last row as str some times \n",
    "    #df_device['Timestamp'] = df_test['Timestamp'].map(lambda x: dt.datetime.strptime(x, \"%d.%m.%Y %H:%M:%S\")) #faster than parse_dates\n",
    "    df_device['date'] = df_device['Timestamp'].map(lambda x: dt.datetime.date(x))\n",
    "    print(df_device.shape)\n",
    "    print('-----------------', path_log)\n",
    "    #display(df_device.head(3))\n",
    "    #display(df_device.tail(3))\n",
    "    li_df.append(df_device)\n",
    "df_device = pd.concat(li_df)\n",
    "df_device = df_device[df_device['Timestamp']>=dt.datetime(2020,9,29)]\n",
    "df_device['sender'].fillna(' ', inplace=True)\n",
    "#add the info on if the device needs batterie or not\n",
    "df_device['NeedsBatteries'] = df_device.apply(lambda x: ('mini' in x['sender']) | (x['sender']=='Wintergarten') | \\\n",
    "                                              (x['sort']=='Tag'), axis=1)\n",
    "\n",
    "#add 'tag_' to the tag names\n",
    "df_device['sender_tag'] = df_device['sender'].map(lambda x: 'tag_'+str(x)) #new:exp2\n",
    "df_device['sender'] = np.where(df_device['sort']=='Tag', df_device['sender_tag'], df_device['sender'])\n",
    "\n",
    "#remove old tags\n",
    "print(df_device.shape)\n",
    "df_device = df_device[~((df_device['sort']=='Tag')&(~df_device['sender'].isin(li_active_tags)))]\n",
    "print(df_device['logID'].unique())\n",
    "print(df_device.shape)\n",
    "df_device.tail(3)"
   ]
  },
  {
   "cell_type": "code",
   "execution_count": 11,
   "metadata": {},
   "outputs": [
    {
     "name": "stderr",
     "output_type": "stream",
     "text": [
      "C:\\Users\\camil\\anaconda3\\lib\\site-packages\\ipykernel\\ipkernel.py:283: DeprecationWarning: `should_run_async` will not call `transform_cell` automatically in the future. Please pass the result to `transformed_cell` argument and any exception that happen during thetransform in `preprocessing_exc_tuple` in IPython 7.17 and above.\n",
      "  and should_run_async(code)\n"
     ]
    }
   ],
   "source": [
    "#df_device.groupby(['system','logID'])['NeedsBatteries'].count().reset_index()"
   ]
  },
  {
   "cell_type": "code",
   "execution_count": 12,
   "metadata": {},
   "outputs": [
    {
     "name": "stderr",
     "output_type": "stream",
     "text": [
      "C:\\Users\\camil\\anaconda3\\lib\\site-packages\\ipykernel\\ipkernel.py:283: DeprecationWarning: `should_run_async` will not call `transform_cell` automatically in the future. Please pass the result to `transformed_cell` argument and any exception that happen during thetransform in `preprocessing_exc_tuple` in IPython 7.17 and above.\n",
      "  and should_run_async(code)\n"
     ]
    }
   ],
   "source": [
    "#df_device[df_device['logID']=='log_00000010']"
   ]
  },
  {
   "cell_type": "code",
   "execution_count": 13,
   "metadata": {},
   "outputs": [
    {
     "name": "stderr",
     "output_type": "stream",
     "text": [
      "C:\\Users\\camil\\anaconda3\\lib\\site-packages\\ipykernel\\ipkernel.py:283: DeprecationWarning: `should_run_async` will not call `transform_cell` automatically in the future. Please pass the result to `transformed_cell` argument and any exception that happen during thetransform in `preprocessing_exc_tuple` in IPython 7.17 and above.\n",
      "  and should_run_async(code)\n"
     ]
    }
   ],
   "source": [
    "#an error might be cause if the alst row was not complet when the file was downloaded"
   ]
  },
  {
   "cell_type": "code",
   "execution_count": 14,
   "metadata": {},
   "outputs": [
    {
     "name": "stderr",
     "output_type": "stream",
     "text": [
      "C:\\Users\\camil\\anaconda3\\lib\\site-packages\\ipykernel\\ipkernel.py:283: DeprecationWarning: `should_run_async` will not call `transform_cell` automatically in the future. Please pass the result to `transformed_cell` argument and any exception that happen during thetransform in `preprocessing_exc_tuple` in IPython 7.17 and above.\n",
      "  and should_run_async(code)\n"
     ]
    }
   ],
   "source": [
    "#df_device[df_device['sort']=='Marker'][['code','sender','system']].drop_duplicates() #all actives at least once"
   ]
  },
  {
   "cell_type": "code",
   "execution_count": 15,
   "metadata": {},
   "outputs": [
    {
     "name": "stderr",
     "output_type": "stream",
     "text": [
      "C:\\Users\\camil\\anaconda3\\lib\\site-packages\\ipykernel\\ipkernel.py:283: DeprecationWarning: `should_run_async` will not call `transform_cell` automatically in the future. Please pass the result to `transformed_cell` argument and any exception that happen during thetransform in `preprocessing_exc_tuple` in IPython 7.17 and above.\n",
      "  and should_run_async(code)\n"
     ]
    }
   ],
   "source": [
    "#df_device[(df_device['sort']=='Tag')&(df_device['Battery Voltage']<0)]"
   ]
  },
  {
   "cell_type": "markdown",
   "metadata": {},
   "source": [
    "# Use only the last few days"
   ]
  },
  {
   "cell_type": "code",
   "execution_count": 18,
   "metadata": {},
   "outputs": [
    {
     "name": "stderr",
     "output_type": "stream",
     "text": [
      "C:\\Users\\camil\\anaconda3\\lib\\site-packages\\ipykernel\\ipkernel.py:283: DeprecationWarning: `should_run_async` will not call `transform_cell` automatically in the future. Please pass the result to `transformed_cell` argument and any exception that happen during thetransform in `preprocessing_exc_tuple` in IPython 7.17 and above.\n",
      "  and should_run_async(code)\n"
     ]
    },
    {
     "data": {
      "text/plain": [
       "array(['2021-11-23T00:00:00.000000000', '2021-11-24T00:00:00.000000000',\n",
       "       '2021-11-25T00:00:00.000000000', '2021-11-26T00:00:00.000000000',\n",
       "       '2021-11-27T00:00:00.000000000', '2021-11-28T00:00:00.000000000',\n",
       "       '2021-11-29T00:00:00.000000000'], dtype='datetime64[ns]')"
      ]
     },
     "execution_count": 18,
     "metadata": {},
     "output_type": "execute_result"
    }
   ],
   "source": [
    "download_time = max(df_device['Timestamp'].tolist())\n",
    "\n",
    "#remove the days we dont want\n",
    "df_device['to_analyse'] = df_device['Timestamp'].map(lambda x: x>=(download_time-dt.timedelta(days=over_last_Xdays)))\n",
    "df_device = df_device[df_device['to_analyse']]\n",
    "\n",
    "path_daily_ver = os.path.join(path_extracted_data_daily_check,str(download_time).split(' ')[0])\n",
    "#create a director if not existing\n",
    "if not os.path.exists(path_daily_ver):\n",
    "    os.makedirs(path_daily_ver)\n",
    "\n",
    "#keep only the last over_last_Xdays days in the logs\n",
    "df['to_analyse'] = df['Timestamp'].map(lambda x: x>=(download_time-dt.timedelta(days=over_last_Xdays)))\n",
    "df = df[df['to_analyse']]\n",
    "df[df['to_analyse']]['date'].unique()    "
   ]
  },
  {
   "cell_type": "code",
   "execution_count": 19,
   "metadata": {},
   "outputs": [
    {
     "name": "stderr",
     "output_type": "stream",
     "text": [
      "C:\\Users\\camil\\anaconda3\\lib\\site-packages\\ipykernel\\ipkernel.py:283: DeprecationWarning: `should_run_async` will not call `transform_cell` automatically in the future. Please pass the result to `transformed_cell` argument and any exception that happen during thetransform in `preprocessing_exc_tuple` in IPython 7.17 and above.\n",
      "  and should_run_async(code)\n"
     ]
    },
    {
     "data": {
      "text/plain": [
       "Timestamp('2021-11-29 09:02:12')"
      ]
     },
     "execution_count": 19,
     "metadata": {},
     "output_type": "execute_result"
    }
   ],
   "source": [
    "download_time"
   ]
  },
  {
   "cell_type": "markdown",
   "metadata": {},
   "source": [
    "# Tags last records"
   ]
  },
  {
   "cell_type": "code",
   "execution_count": 20,
   "metadata": {},
   "outputs": [
    {
     "name": "stderr",
     "output_type": "stream",
     "text": [
      "C:\\Users\\camil\\anaconda3\\lib\\site-packages\\ipykernel\\ipkernel.py:283: DeprecationWarning: `should_run_async` will not call `transform_cell` automatically in the future. Please pass the result to `transformed_cell` argument and any exception that happen during thetransform in `preprocessing_exc_tuple` in IPython 7.17 and above.\n",
      "  and should_run_async(code)\n"
     ]
    },
    {
     "name": "stdout",
     "output_type": "stream",
     "text": [
      "(1, 2) (168, 5)\n",
      "(169, 5)\n",
      "------------- Tags with no records since at least 10 hours: -------------\n",
      "There is 2 such tags, we will print a maximum of 50 line (starting form the worst ones)\n",
      "There is 2 tags with at least one issue\n"
     ]
    },
    {
     "data": {
      "text/html": [
       "<div>\n",
       "<style scoped>\n",
       "    .dataframe tbody tr th:only-of-type {\n",
       "        vertical-align: middle;\n",
       "    }\n",
       "\n",
       "    .dataframe tbody tr th {\n",
       "        vertical-align: top;\n",
       "    }\n",
       "\n",
       "    .dataframe thead th {\n",
       "        text-align: right;\n",
       "    }\n",
       "</style>\n",
       "<table border=\"1\" class=\"dataframe\">\n",
       "  <thead>\n",
       "    <tr style=\"text-align: right;\">\n",
       "      <th></th>\n",
       "      <th>TagID</th>\n",
       "      <th>PenID</th>\n",
       "      <th>last_record_timestamp</th>\n",
       "      <th>nbr_h_since_lastrecord</th>\n",
       "    </tr>\n",
       "  </thead>\n",
       "  <tbody>\n",
       "    <tr>\n",
       "      <th>0</th>\n",
       "      <td>tag_89</td>\n",
       "      <td>NaN</td>\n",
       "      <td>NaT</td>\n",
       "      <td>9999</td>\n",
       "    </tr>\n",
       "    <tr>\n",
       "      <th>133</th>\n",
       "      <td>tag_52</td>\n",
       "      <td>pen11</td>\n",
       "      <td>2021-11-28 16:42:32</td>\n",
       "      <td>16</td>\n",
       "    </tr>\n",
       "  </tbody>\n",
       "</table>\n",
       "</div>"
      ],
      "text/plain": [
       "      TagID  PenID last_record_timestamp  nbr_h_since_lastrecord\n",
       "0    tag_89    NaN                   NaT                    9999\n",
       "133  tag_52  pen11   2021-11-28 16:42:32                      16"
      ]
     },
     "execution_count": 20,
     "metadata": {},
     "output_type": "execute_result"
    }
   ],
   "source": [
    "#tags last records and active tags with no records\n",
    "df_ = df[df['TagID'].isin(li_active_tags)].groupby(['TagID','PenID'])['Timestamp'].agg(lambda x: list(x)).reset_index()\n",
    "df_['last_record_timestamp'] = df_['Timestamp'].map(lambda x: max(x))\n",
    "df_['nbr_h_since_lastrecord'] = df_['last_record_timestamp'].map(lambda x: int((download_time-x).total_seconds()/60/60))\n",
    "\n",
    "#add active tags that had no transition at all\n",
    "li_no_transition = [i for i in li_active_tags if i not in df['TagID'].unique()]\n",
    "df_no_transition = pd.DataFrame([{'TagID':tag_, 'nbr_h_since_lastrecord':9999} for tag_ in li_no_transition])\n",
    "print(df_no_transition.shape, df_.shape)\n",
    "df_ = pd.concat([df_, df_no_transition])\n",
    "print(df_.shape)\n",
    "#remove the older row of tags taht appear two times (i.e. if they changed pens for example)\n",
    "df_.sort_values(['nbr_h_since_lastrecord'], ascending=False, inplace=True)\n",
    "df_.drop_duplicates(subset=['TagID'], keep='last', inplace=True)\n",
    "df_[['TagID','PenID','last_record_timestamp','nbr_h_since_lastrecord']].to_csv(os.path.join(path_daily_ver, \n",
    "                                                                           id_run+str(download_time).split(' ')[0]+'h_TagsLastRecords.csv'), \n",
    "                                                              sep=';', index=False)\n",
    "\n",
    "h = 10\n",
    "print('------------- Tags with no records since at least %d hours: -------------'%h)\n",
    "print('There is %d such tags, we will print a maximum of 50 line (starting form the worst ones)'%df_[df_['nbr_h_since_lastrecord']>h].shape[0])\n",
    "li_tag_issues = df_[df_['nbr_h_since_lastrecord']>h][['TagID','PenID','last_record_timestamp','nbr_h_since_lastrecord']]['TagID'].tolist()\n",
    "print('There is %d tags with at least one issue'%len(set(li_tag_issues)))\n",
    "df_tag_summary = df_.copy()\n",
    "df_[df_['nbr_h_since_lastrecord']>h][['TagID','PenID','last_record_timestamp','nbr_h_since_lastrecord']].head(50)"
   ]
  },
  {
   "cell_type": "code",
   "execution_count": 21,
   "metadata": {},
   "outputs": [
    {
     "name": "stderr",
     "output_type": "stream",
     "text": [
      "C:\\Users\\camil\\anaconda3\\lib\\site-packages\\ipykernel\\ipkernel.py:283: DeprecationWarning: `should_run_async` will not call `transform_cell` automatically in the future. Please pass the result to `transformed_cell` argument and any exception that happen during thetransform in `preprocessing_exc_tuple` in IPython 7.17 and above.\n",
      "  and should_run_async(code)\n"
     ]
    }
   ],
   "source": [
    "#df[df['TagID']=='19'] #10.04 morning: verify in video\n",
    "#df_device[df_device['sender']=='29']"
   ]
  },
  {
   "cell_type": "markdown",
   "metadata": {},
   "source": [
    "# Reader last update"
   ]
  },
  {
   "cell_type": "markdown",
   "metadata": {},
   "source": [
    "#understand how the device logs are\n",
    "df_test = df_device.groupby('code')['system'].agg(lambda x: len(set(x))).reset_index()\n",
    "df_test[df_test['system']>1] #--> no code in two system!!\n",
    "#importantly:\n",
    "df_device[df_device['sort']!='Tag'].groupby(['sender'])['system','code','sort'].agg(lambda x: set(x)).reset_index()"
   ]
  },
  {
   "cell_type": "code",
   "execution_count": 22,
   "metadata": {},
   "outputs": [
    {
     "name": "stdout",
     "output_type": "stream",
     "text": [
      "The last read out from the reader of Reader Pen 3-5 arrived at: 2021-11-29 08:52:15\n",
      "The last read out from the reader of Reader Pen 8-9 arrived at: 2021-11-29 09:02:08\n",
      "The last read out from the reader of Reader Pen 10-12 arrived at: 2021-11-29 08:56:56\n"
     ]
    },
    {
     "name": "stderr",
     "output_type": "stream",
     "text": [
      "C:\\Users\\camil\\anaconda3\\lib\\site-packages\\ipykernel\\ipkernel.py:283: DeprecationWarning: `should_run_async` will not call `transform_cell` automatically in the future. Please pass the result to `transformed_cell` argument and any exception that happen during thetransform in `preprocessing_exc_tuple` in IPython 7.17 and above.\n",
      "  and should_run_async(code)\n"
     ]
    }
   ],
   "source": [
    "for reader_code in dico_rc_sys.keys():\n",
    "    print(\"The last read out from the reader of %s arrived at: %s\"%(dico_rc_sys[reader_code],\n",
    "                                                    str(max(df_device[df_device['code']==reader_code]['LastAction'].tolist()))))"
   ]
  },
  {
   "cell_type": "markdown",
   "metadata": {},
   "source": [
    "#cleaning step: remove days for specific hens when the tag was not sending output regularly anymore\n",
    "df_test = df_device[df_device['sort']=='Tag'].copy()\n",
    "df_test['date'] = df_test['Timestamp'].map(lambda x: dt.datetime.date(x))\n",
    "df_test = df_test.groupby(['sender','date','hour'])['LastAction'].agg(lambda x: list(x)).reset_index()\n",
    "df_test.rename(columns={'sender':'TagID'}, inplace=True)\n",
    "df_test['nbr_last_action']\n",
    "#last action biggest gap\n",
    "print(df_test.shape)\n",
    "df_test.head(3)"
   ]
  },
  {
   "cell_type": "markdown",
   "metadata": {},
   "source": [
    "## LF Counter"
   ]
  },
  {
   "cell_type": "code",
   "execution_count": 23,
   "metadata": {},
   "outputs": [
    {
     "name": "stderr",
     "output_type": "stream",
     "text": [
      "C:\\Users\\camil\\anaconda3\\lib\\site-packages\\ipykernel\\ipkernel.py:283: DeprecationWarning: `should_run_async` will not call `transform_cell` automatically in the future. Please pass the result to `transformed_cell` argument and any exception that happen during thetransform in `preprocessing_exc_tuple` in IPython 7.17 and above.\n",
      "  and should_run_async(code)\n"
     ]
    },
    {
     "name": "stdout",
     "output_type": "stream",
     "text": [
      "(1183, 5)\n"
     ]
    },
    {
     "data": {
      "text/html": [
       "<div>\n",
       "<style scoped>\n",
       "    .dataframe tbody tr th:only-of-type {\n",
       "        vertical-align: middle;\n",
       "    }\n",
       "\n",
       "    .dataframe tbody tr th {\n",
       "        vertical-align: top;\n",
       "    }\n",
       "\n",
       "    .dataframe thead th {\n",
       "        text-align: right;\n",
       "    }\n",
       "</style>\n",
       "<table border=\"1\" class=\"dataframe\">\n",
       "  <thead>\n",
       "    <tr style=\"text-align: right;\">\n",
       "      <th></th>\n",
       "      <th>sender</th>\n",
       "      <th>date</th>\n",
       "      <th>LFCounter_nbr_equal0</th>\n",
       "    </tr>\n",
       "  </thead>\n",
       "  <tbody>\n",
       "    <tr>\n",
       "      <th>0</th>\n",
       "      <td>tag_107</td>\n",
       "      <td>[2021-11-23, 2021-11-24, 2021-11-26, 2021-11-2...</td>\n",
       "      <td>[2, 1, 2, 4, 1]</td>\n",
       "    </tr>\n",
       "    <tr>\n",
       "      <th>1</th>\n",
       "      <td>tag_108</td>\n",
       "      <td>[2021-11-24]</td>\n",
       "      <td>[1]</td>\n",
       "    </tr>\n",
       "    <tr>\n",
       "      <th>2</th>\n",
       "      <td>tag_119</td>\n",
       "      <td>[2021-11-24]</td>\n",
       "      <td>[1]</td>\n",
       "    </tr>\n",
       "    <tr>\n",
       "      <th>3</th>\n",
       "      <td>tag_135</td>\n",
       "      <td>[2021-11-24]</td>\n",
       "      <td>[1]</td>\n",
       "    </tr>\n",
       "    <tr>\n",
       "      <th>4</th>\n",
       "      <td>tag_16</td>\n",
       "      <td>[2021-11-23, 2021-11-25, 2021-11-26, 2021-11-27]</td>\n",
       "      <td>[1, 1, 1, 1]</td>\n",
       "    </tr>\n",
       "    <tr>\n",
       "      <th>5</th>\n",
       "      <td>tag_167</td>\n",
       "      <td>[2021-11-28]</td>\n",
       "      <td>[1]</td>\n",
       "    </tr>\n",
       "    <tr>\n",
       "      <th>6</th>\n",
       "      <td>tag_19</td>\n",
       "      <td>[2021-11-23, 2021-11-24, 2021-11-27]</td>\n",
       "      <td>[1, 1, 2]</td>\n",
       "    </tr>\n",
       "    <tr>\n",
       "      <th>7</th>\n",
       "      <td>tag_203</td>\n",
       "      <td>[2021-11-23]</td>\n",
       "      <td>[1]</td>\n",
       "    </tr>\n",
       "    <tr>\n",
       "      <th>8</th>\n",
       "      <td>tag_25</td>\n",
       "      <td>[2021-11-26]</td>\n",
       "      <td>[1]</td>\n",
       "    </tr>\n",
       "    <tr>\n",
       "      <th>9</th>\n",
       "      <td>tag_32</td>\n",
       "      <td>[2021-11-25, 2021-11-27, 2021-11-28]</td>\n",
       "      <td>[1, 1, 1]</td>\n",
       "    </tr>\n",
       "    <tr>\n",
       "      <th>10</th>\n",
       "      <td>tag_33</td>\n",
       "      <td>[2021-11-25]</td>\n",
       "      <td>[1]</td>\n",
       "    </tr>\n",
       "    <tr>\n",
       "      <th>11</th>\n",
       "      <td>tag_37</td>\n",
       "      <td>[2021-11-23, 2021-11-27]</td>\n",
       "      <td>[1, 1]</td>\n",
       "    </tr>\n",
       "    <tr>\n",
       "      <th>12</th>\n",
       "      <td>tag_42</td>\n",
       "      <td>[2021-11-25]</td>\n",
       "      <td>[1]</td>\n",
       "    </tr>\n",
       "    <tr>\n",
       "      <th>13</th>\n",
       "      <td>tag_50</td>\n",
       "      <td>[2021-11-23, 2021-11-26, 2021-11-28]</td>\n",
       "      <td>[1, 1, 1]</td>\n",
       "    </tr>\n",
       "    <tr>\n",
       "      <th>14</th>\n",
       "      <td>tag_52</td>\n",
       "      <td>[2021-11-25, 2021-11-27]</td>\n",
       "      <td>[1, 1]</td>\n",
       "    </tr>\n",
       "    <tr>\n",
       "      <th>15</th>\n",
       "      <td>tag_56</td>\n",
       "      <td>[2021-11-27]</td>\n",
       "      <td>[1]</td>\n",
       "    </tr>\n",
       "    <tr>\n",
       "      <th>16</th>\n",
       "      <td>tag_57</td>\n",
       "      <td>[2021-11-27]</td>\n",
       "      <td>[1]</td>\n",
       "    </tr>\n",
       "    <tr>\n",
       "      <th>17</th>\n",
       "      <td>tag_60</td>\n",
       "      <td>[2021-11-28]</td>\n",
       "      <td>[1]</td>\n",
       "    </tr>\n",
       "    <tr>\n",
       "      <th>18</th>\n",
       "      <td>tag_62</td>\n",
       "      <td>[2021-11-24]</td>\n",
       "      <td>[1]</td>\n",
       "    </tr>\n",
       "    <tr>\n",
       "      <th>19</th>\n",
       "      <td>tag_83</td>\n",
       "      <td>[2021-11-23, 2021-11-24, 2021-11-25, 2021-11-2...</td>\n",
       "      <td>[5, 2, 2, 49, 45, 18]</td>\n",
       "    </tr>\n",
       "    <tr>\n",
       "      <th>20</th>\n",
       "      <td>tag_89</td>\n",
       "      <td>[2021-11-23, 2021-11-24, 2021-11-25, 2021-11-2...</td>\n",
       "      <td>[4, 1, 1, 5, 27, 7, 11]</td>\n",
       "    </tr>\n",
       "  </tbody>\n",
       "</table>\n",
       "</div>"
      ],
      "text/plain": [
       "     sender                                               date  \\\n",
       "0   tag_107  [2021-11-23, 2021-11-24, 2021-11-26, 2021-11-2...   \n",
       "1   tag_108                                       [2021-11-24]   \n",
       "2   tag_119                                       [2021-11-24]   \n",
       "3   tag_135                                       [2021-11-24]   \n",
       "4    tag_16   [2021-11-23, 2021-11-25, 2021-11-26, 2021-11-27]   \n",
       "5   tag_167                                       [2021-11-28]   \n",
       "6    tag_19               [2021-11-23, 2021-11-24, 2021-11-27]   \n",
       "7   tag_203                                       [2021-11-23]   \n",
       "8    tag_25                                       [2021-11-26]   \n",
       "9    tag_32               [2021-11-25, 2021-11-27, 2021-11-28]   \n",
       "10   tag_33                                       [2021-11-25]   \n",
       "11   tag_37                           [2021-11-23, 2021-11-27]   \n",
       "12   tag_42                                       [2021-11-25]   \n",
       "13   tag_50               [2021-11-23, 2021-11-26, 2021-11-28]   \n",
       "14   tag_52                           [2021-11-25, 2021-11-27]   \n",
       "15   tag_56                                       [2021-11-27]   \n",
       "16   tag_57                                       [2021-11-27]   \n",
       "17   tag_60                                       [2021-11-28]   \n",
       "18   tag_62                                       [2021-11-24]   \n",
       "19   tag_83  [2021-11-23, 2021-11-24, 2021-11-25, 2021-11-2...   \n",
       "20   tag_89  [2021-11-23, 2021-11-24, 2021-11-25, 2021-11-2...   \n",
       "\n",
       "       LFCounter_nbr_equal0  \n",
       "0           [2, 1, 2, 4, 1]  \n",
       "1                       [1]  \n",
       "2                       [1]  \n",
       "3                       [1]  \n",
       "4              [1, 1, 1, 1]  \n",
       "5                       [1]  \n",
       "6                 [1, 1, 2]  \n",
       "7                       [1]  \n",
       "8                       [1]  \n",
       "9                 [1, 1, 1]  \n",
       "10                      [1]  \n",
       "11                   [1, 1]  \n",
       "12                      [1]  \n",
       "13                [1, 1, 1]  \n",
       "14                   [1, 1]  \n",
       "15                      [1]  \n",
       "16                      [1]  \n",
       "17                      [1]  \n",
       "18                      [1]  \n",
       "19    [5, 2, 2, 49, 45, 18]  \n",
       "20  [4, 1, 1, 5, 27, 7, 11]  "
      ]
     },
     "execution_count": 23,
     "metadata": {},
     "output_type": "execute_result"
    }
   ],
   "source": [
    "df_LFCoutner = df_device[df_device['sort']=='Tag'].copy()\n",
    "df_LFCoutner['date'] = df_LFCoutner['Timestamp'].map(lambda x: dt.datetime.date(x))\n",
    "#df_LFCoutner['is_day'] = df_LFCoutner['Timestamp'].map(lambda x: is_day(x, config.dico_night_hour))\n",
    "df_LFCoutner = df_LFCoutner.groupby(['sender','date'])['LFCounter'].agg(lambda x: sorted(list(x))).reset_index()\n",
    "df_LFCoutner['LFCounter_nbr_equal0'] = df_LFCoutner['LFCounter'].map(lambda x: sum([i==0 for i in x]))\n",
    "df_LFCoutner['LFCounter_atleastone0'] = df_LFCoutner['LFCounter_nbr_equal0'].map(lambda x: x>0)\n",
    "print(df_LFCoutner.shape)\n",
    "df_ = df_LFCoutner[df_LFCoutner['LFCounter_atleastone0']].groupby(['sender'])[['date',\n",
    "                                                                'LFCounter_nbr_equal0']].agg(lambda x: list(x)).reset_index()\n",
    "df_.to_csv(os.path.join(path_daily_ver, id_run+str(download_time).split(' ')[0]+'_LFCounterEqual0.csv'),sep=';')\n",
    "df_"
   ]
  },
  {
   "cell_type": "markdown",
   "metadata": {},
   "source": [
    "# Device Last update"
   ]
  },
  {
   "cell_type": "code",
   "execution_count": 24,
   "metadata": {},
   "outputs": [
    {
     "name": "stderr",
     "output_type": "stream",
     "text": [
      "C:\\Users\\camil\\anaconda3\\lib\\site-packages\\ipykernel\\ipkernel.py:283: DeprecationWarning: `should_run_async` will not call `transform_cell` automatically in the future. Please pass the result to `transformed_cell` argument and any exception that happen during thetransform in `preprocessing_exc_tuple` in IPython 7.17 and above.\n",
      "  and should_run_async(code)\n"
     ]
    }
   ],
   "source": [
    "#TODO\n",
    "#New data!!!: plt.hist(df_device['MovementCounter'].dropna(),bins='auto');\n",
    "#plt.hist(df_device['Temperature'].dropna(),bins=30);"
   ]
  },
  {
   "cell_type": "markdown",
   "metadata": {},
   "source": [
    "## biggest gap over the entire day"
   ]
  },
  {
   "cell_type": "code",
   "execution_count": 25,
   "metadata": {},
   "outputs": [
    {
     "name": "stderr",
     "output_type": "stream",
     "text": [
      "C:\\Users\\camil\\anaconda3\\lib\\site-packages\\ipykernel\\ipkernel.py:283: DeprecationWarning: `should_run_async` will not call `transform_cell` automatically in the future. Please pass the result to `transformed_cell` argument and any exception that happen during thetransform in `preprocessing_exc_tuple` in IPython 7.17 and above.\n",
      "  and should_run_async(code)\n"
     ]
    },
    {
     "name": "stdout",
     "output_type": "stream",
     "text": [
      "(1183, 6)\n"
     ]
    },
    {
     "data": {
      "text/html": [
       "<div>\n",
       "<style scoped>\n",
       "    .dataframe tbody tr th:only-of-type {\n",
       "        vertical-align: middle;\n",
       "    }\n",
       "\n",
       "    .dataframe tbody tr th {\n",
       "        vertical-align: top;\n",
       "    }\n",
       "\n",
       "    .dataframe thead th {\n",
       "        text-align: right;\n",
       "    }\n",
       "</style>\n",
       "<table border=\"1\" class=\"dataframe\">\n",
       "  <thead>\n",
       "    <tr style=\"text-align: right;\">\n",
       "      <th></th>\n",
       "      <th>sender</th>\n",
       "      <th>date</th>\n",
       "      <th>LastAction</th>\n",
       "      <th>li_gap_of_the_day_tsstarted</th>\n",
       "      <th>biggest_gap_of_day_mn</th>\n",
       "      <th>start_biggest_gap_of_day</th>\n",
       "    </tr>\n",
       "  </thead>\n",
       "  <tbody>\n",
       "    <tr>\n",
       "      <th>750</th>\n",
       "      <td>tag_219</td>\n",
       "      <td>2021-11-24</td>\n",
       "      <td>[2021-11-24 00:01:20, 2021-11-24 00:11:23, 202...</td>\n",
       "      <td>{2021-11-24 00:01:20: 603.0, 2021-11-24 00:11:...</td>\n",
       "      <td>14.0</td>\n",
       "      <td>2021-11-24 18:18:05</td>\n",
       "    </tr>\n",
       "    <tr>\n",
       "      <th>753</th>\n",
       "      <td>tag_219</td>\n",
       "      <td>2021-11-27</td>\n",
       "      <td>[2021-11-27 00:01:21, 2021-11-27 00:11:34, 202...</td>\n",
       "      <td>{2021-11-27 00:01:21: 613.0, 2021-11-27 00:11:...</td>\n",
       "      <td>22.0</td>\n",
       "      <td>2021-11-27 18:39:21</td>\n",
       "    </tr>\n",
       "    <tr>\n",
       "      <th>754</th>\n",
       "      <td>tag_219</td>\n",
       "      <td>2021-11-28</td>\n",
       "      <td>[2021-11-28 00:02:14, 2021-11-28 00:12:19, 202...</td>\n",
       "      <td>{2021-11-28 00:02:14: 605.0, 2021-11-28 00:12:...</td>\n",
       "      <td>22.0</td>\n",
       "      <td>2021-11-28 23:19:53</td>\n",
       "    </tr>\n",
       "    <tr>\n",
       "      <th>1099</th>\n",
       "      <td>tag_83</td>\n",
       "      <td>2021-11-23</td>\n",
       "      <td>[2021-11-23 09:04:27, 2021-11-23 09:14:34, 202...</td>\n",
       "      <td>{2021-11-23 09:04:27: 607.0, 2021-11-23 09:14:...</td>\n",
       "      <td>33.0</td>\n",
       "      <td>2021-11-23 11:52:07</td>\n",
       "    </tr>\n",
       "    <tr>\n",
       "      <th>1101</th>\n",
       "      <td>tag_83</td>\n",
       "      <td>2021-11-25</td>\n",
       "      <td>[2021-11-25 00:04:53, 2021-11-25 00:14:58, 202...</td>\n",
       "      <td>{2021-11-25 00:04:53: 605.0, 2021-11-25 00:14:...</td>\n",
       "      <td>286.0</td>\n",
       "      <td>2021-11-25 16:58:39</td>\n",
       "    </tr>\n",
       "    <tr>\n",
       "      <th>1102</th>\n",
       "      <td>tag_83</td>\n",
       "      <td>2021-11-26</td>\n",
       "      <td>[2021-11-25 21:47:05, 2021-11-25 21:47:05, 202...</td>\n",
       "      <td>{2021-11-25 21:47:05: 19666.0, 2021-11-26 03:1...</td>\n",
       "      <td>328.0</td>\n",
       "      <td>2021-11-25 21:47:05</td>\n",
       "    </tr>\n",
       "    <tr>\n",
       "      <th>1103</th>\n",
       "      <td>tag_83</td>\n",
       "      <td>2021-11-27</td>\n",
       "      <td>[2021-11-26 16:35:07, 2021-11-26 16:35:07, 202...</td>\n",
       "      <td>{2021-11-26 16:35:07: 49249.0, 2021-11-27 06:1...</td>\n",
       "      <td>821.0</td>\n",
       "      <td>2021-11-26 16:35:07</td>\n",
       "    </tr>\n",
       "    <tr>\n",
       "      <th>1104</th>\n",
       "      <td>tag_83</td>\n",
       "      <td>2021-11-28</td>\n",
       "      <td>[2021-11-28 00:04:38, 2021-11-28 00:14:42, 202...</td>\n",
       "      <td>{2021-11-28 00:04:38: 604.0, 2021-11-28 00:14:...</td>\n",
       "      <td>200.0</td>\n",
       "      <td>2021-11-28 11:16:13</td>\n",
       "    </tr>\n",
       "  </tbody>\n",
       "</table>\n",
       "</div>"
      ],
      "text/plain": [
       "       sender        date                                         LastAction  \\\n",
       "750   tag_219  2021-11-24  [2021-11-24 00:01:20, 2021-11-24 00:11:23, 202...   \n",
       "753   tag_219  2021-11-27  [2021-11-27 00:01:21, 2021-11-27 00:11:34, 202...   \n",
       "754   tag_219  2021-11-28  [2021-11-28 00:02:14, 2021-11-28 00:12:19, 202...   \n",
       "1099   tag_83  2021-11-23  [2021-11-23 09:04:27, 2021-11-23 09:14:34, 202...   \n",
       "1101   tag_83  2021-11-25  [2021-11-25 00:04:53, 2021-11-25 00:14:58, 202...   \n",
       "1102   tag_83  2021-11-26  [2021-11-25 21:47:05, 2021-11-25 21:47:05, 202...   \n",
       "1103   tag_83  2021-11-27  [2021-11-26 16:35:07, 2021-11-26 16:35:07, 202...   \n",
       "1104   tag_83  2021-11-28  [2021-11-28 00:04:38, 2021-11-28 00:14:42, 202...   \n",
       "\n",
       "                            li_gap_of_the_day_tsstarted  \\\n",
       "750   {2021-11-24 00:01:20: 603.0, 2021-11-24 00:11:...   \n",
       "753   {2021-11-27 00:01:21: 613.0, 2021-11-27 00:11:...   \n",
       "754   {2021-11-28 00:02:14: 605.0, 2021-11-28 00:12:...   \n",
       "1099  {2021-11-23 09:04:27: 607.0, 2021-11-23 09:14:...   \n",
       "1101  {2021-11-25 00:04:53: 605.0, 2021-11-25 00:14:...   \n",
       "1102  {2021-11-25 21:47:05: 19666.0, 2021-11-26 03:1...   \n",
       "1103  {2021-11-26 16:35:07: 49249.0, 2021-11-27 06:1...   \n",
       "1104  {2021-11-28 00:04:38: 604.0, 2021-11-28 00:14:...   \n",
       "\n",
       "      biggest_gap_of_day_mn start_biggest_gap_of_day  \n",
       "750                    14.0      2021-11-24 18:18:05  \n",
       "753                    22.0      2021-11-27 18:39:21  \n",
       "754                    22.0      2021-11-28 23:19:53  \n",
       "1099                   33.0      2021-11-23 11:52:07  \n",
       "1101                  286.0      2021-11-25 16:58:39  \n",
       "1102                  328.0      2021-11-25 21:47:05  \n",
       "1103                  821.0      2021-11-26 16:35:07  \n",
       "1104                  200.0      2021-11-28 11:16:13  "
      ]
     },
     "execution_count": 25,
     "metadata": {},
     "output_type": "execute_result"
    }
   ],
   "source": [
    "df_lastactionGAP = df_device[df_device['sort']=='Tag'].copy()\n",
    "df_lastactionGAP['date'] = df_lastactionGAP['Timestamp'].map(lambda x: dt.datetime.date(x))\n",
    "#df_lastactionGAP['is_day'] = df_lastactionGAP['Timestamp'].map(lambda x: is_day(x, config.dico_night_hour))\n",
    "#df_lastactionGAP = df_lastactionGAP[df_lastactionGAP['is_day']]\n",
    "df_lastactionGAP = df_lastactionGAP.groupby(['sender','date'])['LastAction'].agg(lambda x: sorted(list(x))).reset_index()\n",
    "#last action biggest gap of the day\n",
    "df_lastactionGAP['li_gap_of_the_day_tsstarted'] = df_lastactionGAP['LastAction'].map(lambda x: {x[i]:(x[i+1]-x[i]).total_seconds() for i in range(0,len(x)-1)})\n",
    "df_lastactionGAP['biggest_gap_of_day_mn'] = df_lastactionGAP['li_gap_of_the_day_tsstarted'].map(lambda x: round(max(x.items(), \n",
    "                                                                                         key=operator.itemgetter(1))[1]/60,0))\n",
    "df_lastactionGAP['start_biggest_gap_of_day'] = df_lastactionGAP['li_gap_of_the_day_tsstarted'].map(lambda x: max(x.items(), \n",
    "                                                                                               key=operator.itemgetter(1))[0])\n",
    "df_lastactionGAP.to_csv(os.path.join(path_daily_ver, id_run+str(download_time).split(' ')[0]+'_LastactionGAP.csv'),sep=';')\n",
    "print(df_lastactionGAP.shape)\n",
    "df_lastactionGAP[df_lastactionGAP['biggest_gap_of_day_mn']>12]"
   ]
  },
  {
   "cell_type": "markdown",
   "metadata": {},
   "source": [
    "### very last update"
   ]
  },
  {
   "cell_type": "code",
   "execution_count": 26,
   "metadata": {},
   "outputs": [
    {
     "name": "stderr",
     "output_type": "stream",
     "text": [
      "C:\\Users\\camil\\anaconda3\\lib\\site-packages\\ipykernel\\ipkernel.py:283: DeprecationWarning: `should_run_async` will not call `transform_cell` automatically in the future. Please pass the result to `transformed_cell` argument and any exception that happen during thetransform in `preprocessing_exc_tuple` in IPython 7.17 and above.\n",
      "  and should_run_async(code)\n"
     ]
    },
    {
     "name": "stdout",
     "output_type": "stream",
     "text": [
      "(0, 0) (196, 8)\n",
      "(196, 8)\n",
      "There is 0 device with 0 updates\n",
      "There is 2 tags with at least one issue\n",
      "------------- Device with no update since at least 12 minutes -------------\n"
     ]
    },
    {
     "data": {
      "text/html": [
       "<div>\n",
       "<style scoped>\n",
       "    .dataframe tbody tr th:only-of-type {\n",
       "        vertical-align: middle;\n",
       "    }\n",
       "\n",
       "    .dataframe tbody tr th {\n",
       "        vertical-align: top;\n",
       "    }\n",
       "\n",
       "    .dataframe thead th {\n",
       "        text-align: right;\n",
       "    }\n",
       "</style>\n",
       "<table border=\"1\" class=\"dataframe\">\n",
       "  <thead>\n",
       "    <tr style=\"text-align: right;\">\n",
       "      <th></th>\n",
       "      <th>code</th>\n",
       "      <th>sender</th>\n",
       "      <th>system</th>\n",
       "      <th>sort</th>\n",
       "      <th>last_LastAction</th>\n",
       "      <th>nbr_mn_since_LastUpdate</th>\n",
       "    </tr>\n",
       "  </thead>\n",
       "  <tbody>\n",
       "  </tbody>\n",
       "</table>\n",
       "</div>"
      ],
      "text/plain": [
       "Empty DataFrame\n",
       "Columns: [code, sender, system, sort, last_LastAction, nbr_mn_since_LastUpdate]\n",
       "Index: []"
      ]
     },
     "metadata": {},
     "output_type": "display_data"
    }
   ],
   "source": [
    "#sort by date in order to take the last voltage using a simple list\n",
    "df_ = df_device.groupby(['code','sender','system','sort','NeedsBatteries'])['LastAction'].agg(lambda x: list(x)).reset_index()\n",
    "df_['last_LastAction'] = df_['LastAction'].map(lambda x: max(x))\n",
    "df_['nbr_mn_since_LastUpdate'] = df_['last_LastAction'].map(lambda x: (download_time-x).total_seconds()/60)\n",
    "\n",
    "#add tags with no update:\n",
    "li_no_transition = [i for i in li_active_tags if i not in df_device['sender'].unique()]\n",
    "df_no_transition = pd.DataFrame([{'sender':tag_, 'nbr_mn_since_LastUpdate':9999} for tag_ in li_no_transition])\n",
    "print(df_no_transition.shape, df_.shape)\n",
    "df_ = pd.concat([df_, df_no_transition])\n",
    "print(df_.shape)\n",
    "print('There is %d device with 0 updates'%df_no_transition.shape[0])\n",
    "df_.sort_values(['nbr_mn_since_LastUpdate'], ascending=False, inplace=True)\n",
    "#remove the older sender that appear two times (i.e. if they changed pens for example)\n",
    "df_.drop_duplicates(subset=['system','sender'], keep='last', inplace=True)\n",
    "df_[['code','sender','system','sort','last_LastAction','nbr_mn_since_LastUpdate']].to_csv(os.path.join(path_daily_ver, \n",
    "                                            id_run+str(download_time).split(' ')[0]+'h_DeviceLastUpdate.csv'), sep=';', index=False)\n",
    "\n",
    "\n",
    "mn = 12\n",
    "li_tag_issues.extend(df_[df_['nbr_mn_since_LastUpdate']>mn]['sender'])\n",
    "print('There is %d tags with at least one issue'%len(set(li_tag_issues)))\n",
    "\n",
    "print('------------- Device with no update since at least %d minutes -------------'%mn)\n",
    "df_tag_summary = pd.merge(df_tag_summary, df_[df_['sort']=='Tag'], left_on='TagID', right_on='sender', how='outer')\n",
    "#display(df_tag_summary.head(3))\n",
    "display(df_[df_['nbr_mn_since_LastUpdate']>mn][['code','sender','system','sort','last_LastAction','nbr_mn_since_LastUpdate']])"
   ]
  },
  {
   "cell_type": "code",
   "execution_count": 27,
   "metadata": {},
   "outputs": [
    {
     "name": "stderr",
     "output_type": "stream",
     "text": [
      "C:\\Users\\camil\\anaconda3\\lib\\site-packages\\ipykernel\\ipkernel.py:283: DeprecationWarning: `should_run_async` will not call `transform_cell` automatically in the future. Please pass the result to `transformed_cell` argument and any exception that happen during thetransform in `preprocessing_exc_tuple` in IPython 7.17 and above.\n",
      "  and should_run_async(code)\n"
     ]
    },
    {
     "data": {
      "text/plain": [
       "Timestamp('2021-11-29 09:02:12')"
      ]
     },
     "execution_count": 27,
     "metadata": {},
     "output_type": "execute_result"
    }
   ],
   "source": [
    "download_time"
   ]
  },
  {
   "cell_type": "markdown",
   "metadata": {},
   "source": [
    "# Critical Voltage last D days"
   ]
  },
  {
   "cell_type": "code",
   "execution_count": 28,
   "metadata": {
    "scrolled": false
   },
   "outputs": [
    {
     "name": "stderr",
     "output_type": "stream",
     "text": [
      "C:\\Users\\camil\\anaconda3\\lib\\site-packages\\ipykernel\\ipkernel.py:283: DeprecationWarning: `should_run_async` will not call `transform_cell` automatically in the future. Please pass the result to `transformed_cell` argument and any exception that happen during thetransform in `preprocessing_exc_tuple` in IPython 7.17 and above.\n",
      "  and should_run_async(code)\n",
      "<ipython-input-28-207c442b845e>:7: RuntimeWarning: Mean of empty slice\n",
      "  df_['avg_Battery_Voltage_last_'+str(D)+'days'] = df_['Battery Voltage'].map(lambda x: np.nanmean(x))\n"
     ]
    },
    {
     "name": "stdout",
     "output_type": "stream",
     "text": [
      "------------- Critical Battery Voltage of device/tags (under threshold at least once during the last 7 days -------------\n",
      "(169, 13)\n",
      "(169, 16)\n",
      "There is 13 tags with at least one issue:\n"
     ]
    },
    {
     "data": {
      "text/html": [
       "<div>\n",
       "<style scoped>\n",
       "    .dataframe tbody tr th:only-of-type {\n",
       "        vertical-align: middle;\n",
       "    }\n",
       "\n",
       "    .dataframe tbody tr th {\n",
       "        vertical-align: top;\n",
       "    }\n",
       "\n",
       "    .dataframe thead th {\n",
       "        text-align: right;\n",
       "    }\n",
       "</style>\n",
       "<table border=\"1\" class=\"dataframe\">\n",
       "  <thead>\n",
       "    <tr style=\"text-align: right;\">\n",
       "      <th></th>\n",
       "      <th>code</th>\n",
       "      <th>sender</th>\n",
       "      <th>system</th>\n",
       "      <th>sort</th>\n",
       "      <th>NeedsBatteries</th>\n",
       "      <th>Battery Voltage</th>\n",
       "      <th>min_Battery_Voltage_last_7days</th>\n",
       "      <th>avg_Battery_Voltage_last_7days</th>\n",
       "      <th>CRITICAL</th>\n",
       "    </tr>\n",
       "  </thead>\n",
       "  <tbody>\n",
       "    <tr>\n",
       "      <th>116</th>\n",
       "      <td>02001E67</td>\n",
       "      <td>tag_167</td>\n",
       "      <td>pens:8 - 9</td>\n",
       "      <td>Tag</td>\n",
       "      <td>True</td>\n",
       "      <td>[3008.0, 3003.0, 3005.0, 3002.0, 3004.0, 3003....</td>\n",
       "      <td>2921.0</td>\n",
       "      <td>3003.366474</td>\n",
       "      <td>True</td>\n",
       "    </tr>\n",
       "    <tr>\n",
       "      <th>63</th>\n",
       "      <td>020015BC</td>\n",
       "      <td>tag_16</td>\n",
       "      <td>pens:10 - 12</td>\n",
       "      <td>Tag</td>\n",
       "      <td>True</td>\n",
       "      <td>[3009.0, 3011.0, 3009.0, 3011.0, 3006.0, 3007....</td>\n",
       "      <td>2918.0</td>\n",
       "      <td>3007.430058</td>\n",
       "      <td>True</td>\n",
       "    </tr>\n",
       "    <tr>\n",
       "      <th>77</th>\n",
       "      <td>0200196D</td>\n",
       "      <td>tag_119</td>\n",
       "      <td>pens:3 - 5</td>\n",
       "      <td>Tag</td>\n",
       "      <td>True</td>\n",
       "      <td>[3006.0, 3003.0, 3007.0, 3002.0, 3002.0, 3004....</td>\n",
       "      <td>2910.0</td>\n",
       "      <td>3001.432870</td>\n",
       "      <td>True</td>\n",
       "    </tr>\n",
       "    <tr>\n",
       "      <th>29</th>\n",
       "      <td>0200152C</td>\n",
       "      <td>tag_42</td>\n",
       "      <td>pens:8 - 9</td>\n",
       "      <td>Tag</td>\n",
       "      <td>True</td>\n",
       "      <td>[2999.0, 2991.0, 2992.0, 2991.0, 2995.0, 2991....</td>\n",
       "      <td>2909.0</td>\n",
       "      <td>2989.986127</td>\n",
       "      <td>True</td>\n",
       "    </tr>\n",
       "    <tr>\n",
       "      <th>120</th>\n",
       "      <td>02001E6C</td>\n",
       "      <td>tag_168</td>\n",
       "      <td>pens:8 - 9</td>\n",
       "      <td>Tag</td>\n",
       "      <td>True</td>\n",
       "      <td>[2937.0, 2937.0, 2937.0, 2938.0, 2937.0, 2933....</td>\n",
       "      <td>2903.0</td>\n",
       "      <td>2929.661272</td>\n",
       "      <td>True</td>\n",
       "    </tr>\n",
       "    <tr>\n",
       "      <th>14</th>\n",
       "      <td>02001419</td>\n",
       "      <td>tag_19</td>\n",
       "      <td>pens:10 - 12</td>\n",
       "      <td>Tag</td>\n",
       "      <td>True</td>\n",
       "      <td>[3026.0, 3029.0, 3023.0, 3025.0, 3026.0, 3026....</td>\n",
       "      <td>2902.0</td>\n",
       "      <td>3024.166474</td>\n",
       "      <td>True</td>\n",
       "    </tr>\n",
       "    <tr>\n",
       "      <th>32</th>\n",
       "      <td>02001530</td>\n",
       "      <td>tag_107</td>\n",
       "      <td>pens:8 - 9</td>\n",
       "      <td>Tag</td>\n",
       "      <td>True</td>\n",
       "      <td>[2994.0, 2996.0, 2998.0, 2998.0, 2995.0, 2997....</td>\n",
       "      <td>2899.0</td>\n",
       "      <td>2994.021965</td>\n",
       "      <td>True</td>\n",
       "    </tr>\n",
       "    <tr>\n",
       "      <th>70</th>\n",
       "      <td>020015CA</td>\n",
       "      <td>tag_89</td>\n",
       "      <td>pens:8 - 9</td>\n",
       "      <td>Tag</td>\n",
       "      <td>True</td>\n",
       "      <td>[2950.0, 2949.0, 2944.0, 2945.0, 2947.0, 2945....</td>\n",
       "      <td>2891.0</td>\n",
       "      <td>2978.541040</td>\n",
       "      <td>True</td>\n",
       "    </tr>\n",
       "    <tr>\n",
       "      <th>28</th>\n",
       "      <td>02001525</td>\n",
       "      <td>tag_25</td>\n",
       "      <td>pens:3 - 5</td>\n",
       "      <td>Tag</td>\n",
       "      <td>True</td>\n",
       "      <td>[2999.0, 2999.0, 2999.0, 3003.0, 3001.0, 2999....</td>\n",
       "      <td>2888.0</td>\n",
       "      <td>2999.018519</td>\n",
       "      <td>True</td>\n",
       "    </tr>\n",
       "    <tr>\n",
       "      <th>96</th>\n",
       "      <td>02001E26</td>\n",
       "      <td>tag_170</td>\n",
       "      <td>pens:3 - 5</td>\n",
       "      <td>Tag</td>\n",
       "      <td>True</td>\n",
       "      <td>[2844.0, 2854.0, 2843.0, 2826.0, 2834.0, 2850....</td>\n",
       "      <td>2763.0</td>\n",
       "      <td>2838.350694</td>\n",
       "      <td>True</td>\n",
       "    </tr>\n",
       "    <tr>\n",
       "      <th>23</th>\n",
       "      <td>0200151B</td>\n",
       "      <td>tag_83</td>\n",
       "      <td>pens:10 - 12</td>\n",
       "      <td>Tag</td>\n",
       "      <td>True</td>\n",
       "      <td>[3004.0, 3002.0, 3002.0, 3002.0, 3003.0, 3002....</td>\n",
       "      <td>2754.0</td>\n",
       "      <td>2997.595376</td>\n",
       "      <td>True</td>\n",
       "    </tr>\n",
       "    <tr>\n",
       "      <th>56</th>\n",
       "      <td>0200156B</td>\n",
       "      <td>tag_105</td>\n",
       "      <td>pens:3 - 5</td>\n",
       "      <td>Tag</td>\n",
       "      <td>True</td>\n",
       "      <td>[2890.0, 2890.0, 2882.0, 2893.0, 2893.0, 2882....</td>\n",
       "      <td>2601.0</td>\n",
       "      <td>2889.716435</td>\n",
       "      <td>True</td>\n",
       "    </tr>\n",
       "  </tbody>\n",
       "</table>\n",
       "</div>"
      ],
      "text/plain": [
       "         code   sender        system sort  NeedsBatteries  \\\n",
       "116  02001E67  tag_167    pens:8 - 9  Tag            True   \n",
       "63   020015BC   tag_16  pens:10 - 12  Tag            True   \n",
       "77   0200196D  tag_119    pens:3 - 5  Tag            True   \n",
       "29   0200152C   tag_42    pens:8 - 9  Tag            True   \n",
       "120  02001E6C  tag_168    pens:8 - 9  Tag            True   \n",
       "14   02001419   tag_19  pens:10 - 12  Tag            True   \n",
       "32   02001530  tag_107    pens:8 - 9  Tag            True   \n",
       "70   020015CA   tag_89    pens:8 - 9  Tag            True   \n",
       "28   02001525   tag_25    pens:3 - 5  Tag            True   \n",
       "96   02001E26  tag_170    pens:3 - 5  Tag            True   \n",
       "23   0200151B   tag_83  pens:10 - 12  Tag            True   \n",
       "56   0200156B  tag_105    pens:3 - 5  Tag            True   \n",
       "\n",
       "                                       Battery Voltage  \\\n",
       "116  [3008.0, 3003.0, 3005.0, 3002.0, 3004.0, 3003....   \n",
       "63   [3009.0, 3011.0, 3009.0, 3011.0, 3006.0, 3007....   \n",
       "77   [3006.0, 3003.0, 3007.0, 3002.0, 3002.0, 3004....   \n",
       "29   [2999.0, 2991.0, 2992.0, 2991.0, 2995.0, 2991....   \n",
       "120  [2937.0, 2937.0, 2937.0, 2938.0, 2937.0, 2933....   \n",
       "14   [3026.0, 3029.0, 3023.0, 3025.0, 3026.0, 3026....   \n",
       "32   [2994.0, 2996.0, 2998.0, 2998.0, 2995.0, 2997....   \n",
       "70   [2950.0, 2949.0, 2944.0, 2945.0, 2947.0, 2945....   \n",
       "28   [2999.0, 2999.0, 2999.0, 3003.0, 3001.0, 2999....   \n",
       "96   [2844.0, 2854.0, 2843.0, 2826.0, 2834.0, 2850....   \n",
       "23   [3004.0, 3002.0, 3002.0, 3002.0, 3003.0, 3002....   \n",
       "56   [2890.0, 2890.0, 2882.0, 2893.0, 2893.0, 2882....   \n",
       "\n",
       "     min_Battery_Voltage_last_7days  avg_Battery_Voltage_last_7days  CRITICAL  \n",
       "116                          2921.0                     3003.366474      True  \n",
       "63                           2918.0                     3007.430058      True  \n",
       "77                           2910.0                     3001.432870      True  \n",
       "29                           2909.0                     2989.986127      True  \n",
       "120                          2903.0                     2929.661272      True  \n",
       "14                           2902.0                     3024.166474      True  \n",
       "32                           2899.0                     2994.021965      True  \n",
       "70                           2891.0                     2978.541040      True  \n",
       "28                           2888.0                     2999.018519      True  \n",
       "96                           2763.0                     2838.350694      True  \n",
       "23                           2754.0                     2997.595376      True  \n",
       "56                           2601.0                     2889.716435      True  "
      ]
     },
     "execution_count": 28,
     "metadata": {},
     "output_type": "execute_result"
    }
   ],
   "source": [
    "D = 7 #assuming I do this one a week, it make sense to plot it once a week\n",
    "#D=2 was not enough as we would miss some tags that were at 2600 (e.g. 82)\n",
    "df_device['is_last_'+str(D)+'days'] = df_device['Timestamp'].map(lambda x: x>=(download_time-dt.timedelta(days=D)))\n",
    "df_ = df_device[df_device['is_last_'+str(D)+'days']].groupby(['code','sender','system','sort',\n",
    "                                                        'NeedsBatteries'])['Battery Voltage'].agg(lambda x: list(x)).reset_index()\n",
    "df_['min_Battery_Voltage_last_'+str(D)+'days'] = df_['Battery Voltage'].map(lambda x: min(x))\n",
    "df_['avg_Battery_Voltage_last_'+str(D)+'days'] = df_['Battery Voltage'].map(lambda x: np.nanmean(x))\n",
    "df_.sort_values(['min_Battery_Voltage_last_'+str(D)+'days'], ascending=False, inplace=True)\n",
    "# check whether at least one of the last entries was below the critical threshold \n",
    "df_['CRITICAL'] = df_.apply(lambda x:sum([i<thresh_dev for i in x['Battery Voltage']])>=1 if x['sort']!='Tag' \\\n",
    "                            else sum([i<thresh_tag for i in x['Battery Voltage']])>=1, axis=1)\n",
    "df_.to_csv(os.path.join(path_daily_ver,id_run+str(download_time).split(' ')[0]+'h_Battery VoltageLast'+str(D)+'days.csv'), sep=';', index=False)\n",
    "print('------------- Critical Battery Voltage of device/tags (under threshold at least once during the last %d days -------------'%D)\n",
    "li_tag_issues.extend(df_[(df_['CRITICAL'])&(df_['sort']=='Tag')]['sender'])\n",
    "print(df_tag_summary.shape)\n",
    "df_tag_summary = df_tag_summary.drop(['sender'], axis=1)\n",
    "df_tag_summary = pd.merge(df_tag_summary, df_[df_['sort']=='Tag'][['CRITICAL','min_Battery_Voltage_last_'+str(D)+'days',\n",
    "                                                                   'avg_Battery_Voltage_last_'+str(D)+'days','sender']], \n",
    "                          left_on='TagID', right_on='sender', how='outer')\n",
    "df_tag_summary.drop(['LastAction','Timestamp','NeedsBatteries'], axis=1).to_csv(os.path.join(path_daily_ver,id_run+str(download_time).split(' ')[0]+'_TagSummary.csv'), sep=';', index=False)\n",
    "print(df_tag_summary.shape)\n",
    "#display(df_tag_summary.head(3))\n",
    "print('There is %d tags with at least one issue:'%len(set(li_tag_issues)))\n",
    "df_[(df_['CRITICAL'])&(df_['NeedsBatteries'])]"
   ]
  },
  {
   "cell_type": "markdown",
   "metadata": {
    "scrolled": true
   },
   "source": [
    "#plot\n",
    "\n",
    "df_device = df_device.sort_values(['LastAction'])\n",
    "for tag in li_active_tags:\n",
    "    df_plt = df_device[df_device['sender']==str(tag)][['voltage','Timestamp']]\n",
    "    plt.plot(df_plt['Timestamp'].tolist(), df_plt['voltage'].tolist());\n",
    "    plt.title(tag)\n",
    "    plt.show()"
   ]
  },
  {
   "cell_type": "markdown",
   "metadata": {},
   "source": [
    "# Plot Tags"
   ]
  },
  {
   "cell_type": "markdown",
   "metadata": {},
   "source": [
    "#plot the batterie level, the tagupdates and the number of transition for each tags, one plot per day\n",
    "df_device['date'] = df_device['Timestamp'].map(lambda x: dt.datetime.date(x))\n",
    "df_device = df_device.sort_values(['LastAction'])\n",
    "#us the log files to crate a df_tr file with one row per hen per hour, and the number of transition in a column\n",
    "df['hour'] = df['Timestamp'].map(lambda x: x.hour if pd.isnull(x)!=np.nan else np.nan)\n",
    "df_tr = df.groupby(['TagID','date','hour'])['Timestamp'].count().reset_index()\n",
    "df_tr.rename(columns={'Timestamp':'nbr_transition_last1h'}, inplace=True)\n",
    "df_tr['date_hour'] = df_tr.apply(lambda x: dt.datetime(x['date'].year, x['date'].month, x['date'].day, x['hour'],0,0), axis=1)\n",
    "\n",
    "#for tag in tqdm.tqdm(set(li_tag_issues)):\n",
    "for tag in tqdm.tqdm(li_active_tags):\n",
    "    try:\n",
    "        plt.figure(figsize=(18,4))\n",
    "        ax = plt.subplot(111) \n",
    "\n",
    "        #Battery Voltage\n",
    "        df_plt = df_device[df_device['sender']==tag].copy()\n",
    "        SystemID = df_plt['system'].iloc[0]\n",
    "        ax.plot(df_plt['Timestamp'].tolist(), df_plt['Battery Voltage'].tolist(), color='blue');\n",
    "\n",
    "        #number of transition in the last hours    \n",
    "        ax2=ax.twinx()\n",
    "        df_tr_ = df_tr[df_tr['TagID']==tag].copy()\n",
    "        ax2.plot(df_tr_['date_hour'].tolist(), df_tr_['nbr_transition_last1h'].tolist(), color='green');\n",
    "\n",
    "        #number of device update in the last hour\n",
    "        df_plt['hour'] = df_plt['Timestamp'].map(lambda x: x.hour if pd.isnull(x)!=np.nan else np.nan)\n",
    "        df_up = df_plt.groupby(['date','hour'])['LastAction'].agg(lambda x: list(x)).reset_index()\n",
    "        df_up['date_hour'] = df_up.apply(lambda x: dt.datetime(x['date'].year, x['date'].month, x['date'].day, x['hour'],0,0), axis=1)\n",
    "        df_up['nbr_update_last1h'] = df_up.apply(lambda x: sum([i>=(x['date_hour']-dt.timedelta(hours=1)) for i in x['LastAction']]), \n",
    "                                                 axis=1)\n",
    "        ax2.plot(df_up['date_hour'].tolist(), df_up['nbr_update_last1h'].tolist(), color='r');\n",
    "\n",
    "        #add days and plot\n",
    "        for day in df_plt['date'].unique() : \n",
    "            plt.axvline(x=day, linewidth=1, color='b')\n",
    "        plt.title('TagID: '+tag)\n",
    "        #for label in ax.get_xticklabels():\n",
    "        #    label.set_rotation(90) \n",
    "        y_ = np.nanmax(df_plt['Battery Voltage'].tolist())\n",
    "        x_ = np.nanmin(df_plt['date'].unique())\n",
    "        ax.text(x_, y_-0.1*(y_-np.nanmin(df_plt['Battery Voltage'].tolist())), '#device update in the last hour -right axis', fontsize=10, color='r')\n",
    "        ax.text(x_, y_-0.2*(y_-np.nanmin(df_plt['Battery Voltage'].tolist())), '#transition in the last hour -right axis', fontsize=10, color='green')\n",
    "        ax.text(x_, y_-0.3*(y_-np.nanmin(df_plt['Battery Voltage'].tolist())), 'Battery Voltage -left axis', fontsize=10, color='blue')\n",
    "\n",
    "        #create a director if not existing\n",
    "        path_incase = os.path.join(path_daily_ver, 'INcaseALLplot', SystemID.replace(':',''))\n",
    "        if not os.path.exists(path_incase):\n",
    "            os.makedirs(path_incase)\n",
    "        plt.savefig(os.path.join(path_incase,id_run+'_'+str(tag)+'Tag_CHECK.png'), dpi=300,\n",
    "                                format='png', bbox_inches='tight')\n",
    "    except Exception as e:\n",
    "                print('ERROR:-------------',e, '    TAG: ',tag)\n",
    "    #plt.show()"
   ]
  },
  {
   "cell_type": "raw",
   "metadata": {},
   "source": [
    "Tag with potential issues:\n"
   ]
  },
  {
   "cell_type": "code",
   "execution_count": null,
   "metadata": {},
   "outputs": [],
   "source": []
  },
  {
   "cell_type": "code",
   "execution_count": null,
   "metadata": {},
   "outputs": [],
   "source": []
  },
  {
   "cell_type": "code",
   "execution_count": null,
   "metadata": {},
   "outputs": [],
   "source": []
  },
  {
   "cell_type": "code",
   "execution_count": null,
   "metadata": {},
   "outputs": [],
   "source": []
  },
  {
   "cell_type": "code",
   "execution_count": null,
   "metadata": {},
   "outputs": [],
   "source": []
  },
  {
   "cell_type": "code",
   "execution_count": null,
   "metadata": {},
   "outputs": [],
   "source": []
  },
  {
   "cell_type": "code",
   "execution_count": null,
   "metadata": {},
   "outputs": [],
   "source": []
  },
  {
   "cell_type": "code",
   "execution_count": null,
   "metadata": {},
   "outputs": [],
   "source": []
  }
 ],
 "metadata": {
  "kernelspec": {
   "display_name": "Python 3 (ipykernel)",
   "language": "python",
   "name": "python3"
  },
  "language_info": {
   "codemirror_mode": {
    "name": "ipython",
    "version": 3
   },
   "file_extension": ".py",
   "mimetype": "text/x-python",
   "name": "python",
   "nbconvert_exporter": "python",
   "pygments_lexer": "ipython3",
   "version": "3.8.12"
  }
 },
 "nbformat": 4,
 "nbformat_minor": 2
}
