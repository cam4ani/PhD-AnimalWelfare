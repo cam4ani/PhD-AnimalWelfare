{
 "cells": [
  {
   "cell_type": "code",
   "execution_count": 1,
   "id": "f295e75d",
   "metadata": {
    "scrolled": true
   },
   "outputs": [
    {
     "name": "stderr",
     "output_type": "stream",
     "text": [
      "Warning message:\n",
      "\"le package 'ctsem' a été compilé avec la version R 4.1.3\"\n",
      "Le chargement a nécessité le package : Rcpp\n",
      "\n",
      "Warning message:\n",
      "\"le package 'Rcpp' a été compilé avec la version R 4.1.2\"\n",
      "ctsem also changes in time, for manual run ctDocs(), for blog see https://cdriver.netlify.app/, for citation info run citation('ctsem'), for original OpenMx functionality install.packages('ctsemOMX'), and for discussion https://github.com/cdriveraus/ctsem/discussions\n",
      "\n",
      "Warning message in doTryCatch(return(expr), name, parentenv, handler):\n",
      "\"The following important packages for ctsem are out of date: rstan\"\n",
      "Warning message:\n",
      "\"le package 'dplyr' a été compilé avec la version R 4.1.2\"\n",
      "\n",
      "Attachement du package : 'dplyr'\n",
      "\n",
      "\n",
      "Les objets suivants sont masqués depuis 'package:stats':\n",
      "\n",
      "    filter, lag\n",
      "\n",
      "\n",
      "Les objets suivants sont masqués depuis 'package:base':\n",
      "\n",
      "    intersect, setdiff, setequal, union\n",
      "\n",
      "\n",
      "Warning message:\n",
      "\"le package 'plyr' a été compilé avec la version R 4.1.2\"\n",
      "------------------------------------------------------------------------------\n",
      "\n",
      "You have loaded plyr after dplyr - this is likely to cause problems.\n",
      "If you need functions from both plyr and dplyr, please load plyr first, then dplyr:\n",
      "library(plyr); library(dplyr)\n",
      "\n",
      "------------------------------------------------------------------------------\n",
      "\n",
      "\n",
      "Attachement du package : 'plyr'\n",
      "\n",
      "\n",
      "Les objets suivants sont masqués depuis 'package:dplyr':\n",
      "\n",
      "    arrange, count, desc, failwith, id, mutate, rename, summarise,\n",
      "    summarize\n",
      "\n",
      "\n",
      "Warning message:\n",
      "\"le package 'ICC' a été compilé avec la version R 4.1.3\"\n",
      "Warning message:\n",
      "\"le package 'rmcorr' a été compilé avec la version R 4.1.3\"\n"
     ]
    }
   ],
   "source": [
    "library(ctsem)\n",
    "library(dplyr)\n",
    "library(plyr)\n",
    "library(ICC)\n",
    "library(rmcorr)\n",
    "library(Rcpp)"
   ]
  },
  {
   "cell_type": "code",
   "execution_count": 2,
   "id": "2f7580c7",
   "metadata": {},
   "outputs": [],
   "source": [
    "setwd(\"G:/VPHI/Welfare/2- Research Projects/Camille Montalcini/Origins.GS/DataOutput/TrackingSystem/EXP2_\")"
   ]
  },
  {
   "cell_type": "markdown",
   "id": "2769d5e7",
   "metadata": {},
   "source": [
    "# Download data"
   ]
  },
  {
   "cell_type": "code",
   "execution_count": 3,
   "id": "c5fd5c2b",
   "metadata": {
    "scrolled": true
   },
   "outputs": [
    {
     "name": "stderr",
     "output_type": "stream",
     "text": [
      "Warning message in dir.create(path_save):\n",
      "\"'LongformatModels' existe déjà\"\n"
     ]
    },
    {
     "data": {
      "text/plain": [
       "     HAID                    HenID            id         MonthInstudy  \n",
       " Length:2228        EXP3_hen_101:  12   Min.   :  1.0   Min.   :0.000  \n",
       " Class :character   EXP3_hen_103:  12   1st Qu.:113.8   1st Qu.:0.820  \n",
       " Mode  :character   EXP3_hen_104:  12   Median :220.0   Median :3.120  \n",
       "                    EXP3_hen_105:  12   Mean   :211.0   Mean   :3.511  \n",
       "                    EXP3_hen_106:  12   3rd Qu.:320.2   3rd Qu.:5.420  \n",
       "                    EXP3_hen_109:  12   Max.   :372.0   Max.   :9.500  \n",
       "                    (Other)     :2156                                  \n",
       "     DOAHA           IsOFH        ExperimentID  Is_relocated      Is_exp1      \n",
       " Min.   :148.0   Min.   :0.0000   Exp1:798     Min.   :0.000   Min.   :0.0000  \n",
       " 1st Qu.:173.0   1st Qu.:0.0000   Exp2:796     1st Qu.:0.000   1st Qu.:0.0000  \n",
       " Median :243.0   Median :0.0000   Exp3:634     Median :0.000   Median :0.0000  \n",
       " Mean   :254.8   Mean   :0.1854                Mean   :0.175   Mean   :0.3582  \n",
       " 3rd Qu.:313.0   3rd Qu.:0.0000                3rd Qu.:0.000   3rd Qu.:1.0000  \n",
       " Max.   :437.0   Max.   :1.0000                Max.   :1.000   Max.   :1.0000  \n",
       "                                                                               \n",
       "    Is_exp2          Is_exp3        early_death        time2event   \n",
       " Min.   :0.0000   Min.   :0.0000   Min.   :0.00000   Min.   :1.500  \n",
       " 1st Qu.:0.0000   1st Qu.:0.0000   1st Qu.:0.00000   1st Qu.:3.500  \n",
       " Median :0.0000   Median :0.0000   Median :0.00000   Median :3.833  \n",
       " Mean   :0.3573   Mean   :0.2846   Mean   :0.01391   Mean   :3.732  \n",
       " 3rd Qu.:1.0000   3rd Qu.:1.0000   3rd Qu.:0.00000   3rd Qu.:4.000  \n",
       " Max.   :1.0000   Max.   :1.0000   Max.   :1.00000   Max.   :7.000  \n",
       "                                                                    \n",
       "   meanDOAmvt        PropZ5         VTDperhour        unevenness    \n",
       " Min.   :144.5   Min.   :0.0000   Min.   : 0.0417   Min.   :0.2043  \n",
       " 1st Qu.:211.2   1st Qu.:0.0601   1st Qu.: 2.6667   1st Qu.:0.5510  \n",
       " Median :241.5   Median :0.2077   Median : 3.7812   Median :0.7095  \n",
       " Mean   :271.2   Mean   :0.2858   Mean   : 3.8424   Mean   :0.8275  \n",
       " 3rd Qu.:321.5   3rd Qu.:0.4608   3rd Qu.: 4.8776   3rd Qu.:1.0451  \n",
       " Max.   :433.5   Max.   :0.9699   Max.   :15.2292   Max.   :1.9913  \n",
       " NA's   :353     NA's   :353      NA's   :353       NA's   :353     \n",
       "    severity           gap             weight     proptime_2_Zone\n",
       " Min.   :  0.00   Min.   :0.0000   Min.   :1228   Mode:logical   \n",
       " 1st Qu.:  1.00   1st Qu.:0.0000   1st Qu.:1701   NA's:2228      \n",
       " Median : 16.00   Median :0.0000   Median :1790                  \n",
       " Mean   : 23.61   Mean   :0.2448   Mean   :1797                  \n",
       " 3rd Qu.: 38.00   3rd Qu.:0.0000   3rd Qu.:1886                  \n",
       " Max.   :100.00   Max.   :1.0000   Max.   :2331                  \n",
       " NA's   :353      NA's   :353      NA's   :964                   \n",
       " proptime_5_Zone mid_cum_Z4_h_Morning\n",
       " Mode:logical    Mode:logical        \n",
       " NA's:2228       NA's:2228           \n",
       "                                     \n",
       "                                     \n",
       "                                     \n",
       "                                     \n",
       "                                     "
      ]
     },
     "metadata": {},
     "output_type": "display_data"
    },
    {
     "name": "stdout",
     "output_type": "stream",
     "text": [
      "[1] 2228   23\n"
     ]
    },
    {
     "data": {
      "text/html": [
       "<table class=\"dataframe\">\n",
       "<caption>A data.frame: 6 × 23</caption>\n",
       "<thead>\n",
       "\t<tr><th></th><th scope=col>HAID</th><th scope=col>HenID</th><th scope=col>id</th><th scope=col>MonthInstudy</th><th scope=col>DOAHA</th><th scope=col>IsOFH</th><th scope=col>ExperimentID</th><th scope=col>Is_relocated</th><th scope=col>Is_exp1</th><th scope=col>Is_exp2</th><th scope=col>...</th><th scope=col>meanDOAmvt</th><th scope=col>PropZ5</th><th scope=col>VTDperhour</th><th scope=col>unevenness</th><th scope=col>severity</th><th scope=col>gap</th><th scope=col>weight</th><th scope=col>proptime_2_Zone</th><th scope=col>proptime_5_Zone</th><th scope=col>mid_cum_Z4_h_Morning</th></tr>\n",
       "\t<tr><th></th><th scope=col>&lt;chr&gt;</th><th scope=col>&lt;fct&gt;</th><th scope=col>&lt;int&gt;</th><th scope=col>&lt;dbl&gt;</th><th scope=col>&lt;int&gt;</th><th scope=col>&lt;int&gt;</th><th scope=col>&lt;fct&gt;</th><th scope=col>&lt;int&gt;</th><th scope=col>&lt;int&gt;</th><th scope=col>&lt;int&gt;</th><th scope=col>...</th><th scope=col>&lt;dbl&gt;</th><th scope=col>&lt;dbl&gt;</th><th scope=col>&lt;dbl&gt;</th><th scope=col>&lt;dbl&gt;</th><th scope=col>&lt;dbl&gt;</th><th scope=col>&lt;dbl&gt;</th><th scope=col>&lt;dbl&gt;</th><th scope=col>&lt;lgl&gt;</th><th scope=col>&lt;lgl&gt;</th><th scope=col>&lt;lgl&gt;</th></tr>\n",
       "</thead>\n",
       "<tbody>\n",
       "\t<tr><th scope=row>1</th><td>created</td><td>EXP2_hen_1 </td><td>1</td><td>0.00</td><td>148</td><td>0</td><td>Exp2</td><td>1</td><td>0</td><td>1</td><td>...</td><td> NA</td><td>       NA</td><td>      NA</td><td>       NA</td><td>NA</td><td>NA</td><td>    NA</td><td>NA</td><td>NA</td><td>NA</td></tr>\n",
       "\t<tr><th scope=row>2</th><td>HA1    </td><td>EXP2_hen_1 </td><td>1</td><td>0.85</td><td>174</td><td>0</td><td>Exp2</td><td>1</td><td>0</td><td>1</td><td>...</td><td>170</td><td>0.1429359</td><td>3.680272</td><td>0.4956481</td><td> 0</td><td> 0</td><td>1691.7</td><td>NA</td><td>NA</td><td>NA</td></tr>\n",
       "\t<tr><th scope=row>3</th><td>HA2    </td><td>EXP2_hen_1 </td><td>1</td><td>3.16</td><td>244</td><td>0</td><td>Exp2</td><td>1</td><td>0</td><td>1</td><td>...</td><td>240</td><td>0.1195238</td><td>5.030612</td><td>0.4865883</td><td> 0</td><td> 0</td><td>1722.2</td><td>NA</td><td>NA</td><td>NA</td></tr>\n",
       "\t<tr><th scope=row>4</th><td>HA3    </td><td>EXP2_hen_1 </td><td>1</td><td>5.23</td><td>307</td><td>0</td><td>Exp2</td><td>1</td><td>0</td><td>1</td><td>...</td><td>303</td><td>0.1299773</td><td>5.112245</td><td>0.3923037</td><td> 1</td><td> 0</td><td>1655.2</td><td>NA</td><td>NA</td><td>NA</td></tr>\n",
       "\t<tr><th scope=row>5</th><td>HA4    </td><td>EXP2_hen_1 </td><td>1</td><td>7.99</td><td>391</td><td>0</td><td>Exp2</td><td>1</td><td>0</td><td>1</td><td>...</td><td>387</td><td>0.1178005</td><td>3.336735</td><td>0.2613006</td><td>18</td><td> 0</td><td>1663.7</td><td>NA</td><td>NA</td><td>NA</td></tr>\n",
       "\t<tr><th scope=row>6</th><td>created</td><td>EXP2_hen_10</td><td>2</td><td>0.00</td><td>148</td><td>0</td><td>Exp2</td><td>1</td><td>0</td><td>1</td><td>...</td><td> NA</td><td>       NA</td><td>      NA</td><td>       NA</td><td>NA</td><td>NA</td><td>    NA</td><td>NA</td><td>NA</td><td>NA</td></tr>\n",
       "</tbody>\n",
       "</table>\n"
      ],
      "text/latex": [
       "A data.frame: 6 × 23\n",
       "\\begin{tabular}{r|lllllllllllllllllllll}\n",
       "  & HAID & HenID & id & MonthInstudy & DOAHA & IsOFH & ExperimentID & Is\\_relocated & Is\\_exp1 & Is\\_exp2 & ... & meanDOAmvt & PropZ5 & VTDperhour & unevenness & severity & gap & weight & proptime\\_2\\_Zone & proptime\\_5\\_Zone & mid\\_cum\\_Z4\\_h\\_Morning\\\\\n",
       "  & <chr> & <fct> & <int> & <dbl> & <int> & <int> & <fct> & <int> & <int> & <int> & ... & <dbl> & <dbl> & <dbl> & <dbl> & <dbl> & <dbl> & <dbl> & <lgl> & <lgl> & <lgl>\\\\\n",
       "\\hline\n",
       "\t1 & created & EXP2\\_hen\\_1  & 1 & 0.00 & 148 & 0 & Exp2 & 1 & 0 & 1 & ... &  NA &        NA &       NA &        NA & NA & NA &     NA & NA & NA & NA\\\\\n",
       "\t2 & HA1     & EXP2\\_hen\\_1  & 1 & 0.85 & 174 & 0 & Exp2 & 1 & 0 & 1 & ... & 170 & 0.1429359 & 3.680272 & 0.4956481 &  0 &  0 & 1691.7 & NA & NA & NA\\\\\n",
       "\t3 & HA2     & EXP2\\_hen\\_1  & 1 & 3.16 & 244 & 0 & Exp2 & 1 & 0 & 1 & ... & 240 & 0.1195238 & 5.030612 & 0.4865883 &  0 &  0 & 1722.2 & NA & NA & NA\\\\\n",
       "\t4 & HA3     & EXP2\\_hen\\_1  & 1 & 5.23 & 307 & 0 & Exp2 & 1 & 0 & 1 & ... & 303 & 0.1299773 & 5.112245 & 0.3923037 &  1 &  0 & 1655.2 & NA & NA & NA\\\\\n",
       "\t5 & HA4     & EXP2\\_hen\\_1  & 1 & 7.99 & 391 & 0 & Exp2 & 1 & 0 & 1 & ... & 387 & 0.1178005 & 3.336735 & 0.2613006 & 18 &  0 & 1663.7 & NA & NA & NA\\\\\n",
       "\t6 & created & EXP2\\_hen\\_10 & 2 & 0.00 & 148 & 0 & Exp2 & 1 & 0 & 1 & ... &  NA &        NA &       NA &        NA & NA & NA &     NA & NA & NA & NA\\\\\n",
       "\\end{tabular}\n"
      ],
      "text/markdown": [
       "\n",
       "A data.frame: 6 × 23\n",
       "\n",
       "| <!--/--> | HAID &lt;chr&gt; | HenID &lt;fct&gt; | id &lt;int&gt; | MonthInstudy &lt;dbl&gt; | DOAHA &lt;int&gt; | IsOFH &lt;int&gt; | ExperimentID &lt;fct&gt; | Is_relocated &lt;int&gt; | Is_exp1 &lt;int&gt; | Is_exp2 &lt;int&gt; | ... ... | meanDOAmvt &lt;dbl&gt; | PropZ5 &lt;dbl&gt; | VTDperhour &lt;dbl&gt; | unevenness &lt;dbl&gt; | severity &lt;dbl&gt; | gap &lt;dbl&gt; | weight &lt;dbl&gt; | proptime_2_Zone &lt;lgl&gt; | proptime_5_Zone &lt;lgl&gt; | mid_cum_Z4_h_Morning &lt;lgl&gt; |\n",
       "|---|---|---|---|---|---|---|---|---|---|---|---|---|---|---|---|---|---|---|---|---|---|\n",
       "| 1 | created | EXP2_hen_1  | 1 | 0.00 | 148 | 0 | Exp2 | 1 | 0 | 1 | ... |  NA |        NA |       NA |        NA | NA | NA |     NA | NA | NA | NA |\n",
       "| 2 | HA1     | EXP2_hen_1  | 1 | 0.85 | 174 | 0 | Exp2 | 1 | 0 | 1 | ... | 170 | 0.1429359 | 3.680272 | 0.4956481 |  0 |  0 | 1691.7 | NA | NA | NA |\n",
       "| 3 | HA2     | EXP2_hen_1  | 1 | 3.16 | 244 | 0 | Exp2 | 1 | 0 | 1 | ... | 240 | 0.1195238 | 5.030612 | 0.4865883 |  0 |  0 | 1722.2 | NA | NA | NA |\n",
       "| 4 | HA3     | EXP2_hen_1  | 1 | 5.23 | 307 | 0 | Exp2 | 1 | 0 | 1 | ... | 303 | 0.1299773 | 5.112245 | 0.3923037 |  1 |  0 | 1655.2 | NA | NA | NA |\n",
       "| 5 | HA4     | EXP2_hen_1  | 1 | 7.99 | 391 | 0 | Exp2 | 1 | 0 | 1 | ... | 387 | 0.1178005 | 3.336735 | 0.2613006 | 18 |  0 | 1663.7 | NA | NA | NA |\n",
       "| 6 | created | EXP2_hen_10 | 2 | 0.00 | 148 | 0 | Exp2 | 1 | 0 | 1 | ... |  NA |        NA |       NA |        NA | NA | NA |     NA | NA | NA | NA |\n",
       "\n"
      ],
      "text/plain": [
       "  HAID    HenID       id MonthInstudy DOAHA IsOFH ExperimentID Is_relocated\n",
       "1 created EXP2_hen_1  1  0.00         148   0     Exp2         1           \n",
       "2 HA1     EXP2_hen_1  1  0.85         174   0     Exp2         1           \n",
       "3 HA2     EXP2_hen_1  1  3.16         244   0     Exp2         1           \n",
       "4 HA3     EXP2_hen_1  1  5.23         307   0     Exp2         1           \n",
       "5 HA4     EXP2_hen_1  1  7.99         391   0     Exp2         1           \n",
       "6 created EXP2_hen_10 2  0.00         148   0     Exp2         1           \n",
       "  Is_exp1 Is_exp2 ... meanDOAmvt PropZ5    VTDperhour unevenness severity gap\n",
       "1 0       1       ...  NA               NA       NA          NA  NA       NA \n",
       "2 0       1       ... 170        0.1429359 3.680272   0.4956481   0        0 \n",
       "3 0       1       ... 240        0.1195238 5.030612   0.4865883   0        0 \n",
       "4 0       1       ... 303        0.1299773 5.112245   0.3923037   1        0 \n",
       "5 0       1       ... 387        0.1178005 3.336735   0.2613006  18        0 \n",
       "6 0       1       ...  NA               NA       NA          NA  NA       NA \n",
       "  weight proptime_2_Zone proptime_5_Zone mid_cum_Z4_h_Morning\n",
       "1     NA NA              NA              NA                  \n",
       "2 1691.7 NA              NA              NA                  \n",
       "3 1722.2 NA              NA              NA                  \n",
       "4 1655.2 NA              NA              NA                  \n",
       "5 1663.7 NA              NA              NA                  \n",
       "6     NA NA              NA              NA                  "
      ]
     },
     "metadata": {},
     "output_type": "display_data"
    }
   ],
   "source": [
    "path_save = file.path('LongformatModels')\n",
    "dir.create(path_save)\n",
    "df = read.csv('df_longformatALL.csv', header = TRUE, sep = \",\")\n",
    "df$HenID = as.factor(df$HenID)   \n",
    "df$ExperimentID = as.factor(df$ExperimentID)   \n",
    "#tme is for now week of age\n",
    "summary(df)\n",
    "print(dim(df))\n",
    "head(df)\n",
    "#describe(df)"
   ]
  },
  {
   "cell_type": "code",
   "execution_count": 4,
   "id": "e12a3828",
   "metadata": {},
   "outputs": [
    {
     "data": {
      "text/html": [
       "<style>\n",
       ".list-inline {list-style: none; margin:0; padding: 0}\n",
       ".list-inline>li {display: inline-block}\n",
       ".list-inline>li:not(:last-child)::after {content: \"\\00b7\"; padding: 0 .5ex}\n",
       "</style>\n",
       "<ol class=list-inline><li>'created'</li><li>'HA1'</li><li>'HA2'</li><li>'HA3'</li><li>'HA4'</li><li>'HA5'</li><li>'HA1A'</li><li>'HA2A'</li><li>'HA3A'</li><li>'HA4A'</li><li>'HA5A'</li><li>'HA6A'</li><li>'HA7A'</li><li>'HA8A'</li><li>'HA9A'</li><li>'HA10A'</li><li>'HA11A'</li><li>'HA1B'</li><li>'HA2B'</li><li>'HA3B'</li><li>'HA4B'</li><li>'HA5B'</li><li>'HA6B'</li><li>'HA7B'</li><li>'HA8B'</li><li>'HA9B'</li><li>'HA11B'</li><li>'HA10B'</li></ol>\n"
      ],
      "text/latex": [
       "\\begin{enumerate*}\n",
       "\\item 'created'\n",
       "\\item 'HA1'\n",
       "\\item 'HA2'\n",
       "\\item 'HA3'\n",
       "\\item 'HA4'\n",
       "\\item 'HA5'\n",
       "\\item 'HA1A'\n",
       "\\item 'HA2A'\n",
       "\\item 'HA3A'\n",
       "\\item 'HA4A'\n",
       "\\item 'HA5A'\n",
       "\\item 'HA6A'\n",
       "\\item 'HA7A'\n",
       "\\item 'HA8A'\n",
       "\\item 'HA9A'\n",
       "\\item 'HA10A'\n",
       "\\item 'HA11A'\n",
       "\\item 'HA1B'\n",
       "\\item 'HA2B'\n",
       "\\item 'HA3B'\n",
       "\\item 'HA4B'\n",
       "\\item 'HA5B'\n",
       "\\item 'HA6B'\n",
       "\\item 'HA7B'\n",
       "\\item 'HA8B'\n",
       "\\item 'HA9B'\n",
       "\\item 'HA11B'\n",
       "\\item 'HA10B'\n",
       "\\end{enumerate*}\n"
      ],
      "text/markdown": [
       "1. 'created'\n",
       "2. 'HA1'\n",
       "3. 'HA2'\n",
       "4. 'HA3'\n",
       "5. 'HA4'\n",
       "6. 'HA5'\n",
       "7. 'HA1A'\n",
       "8. 'HA2A'\n",
       "9. 'HA3A'\n",
       "10. 'HA4A'\n",
       "11. 'HA5A'\n",
       "12. 'HA6A'\n",
       "13. 'HA7A'\n",
       "14. 'HA8A'\n",
       "15. 'HA9A'\n",
       "16. 'HA10A'\n",
       "17. 'HA11A'\n",
       "18. 'HA1B'\n",
       "19. 'HA2B'\n",
       "20. 'HA3B'\n",
       "21. 'HA4B'\n",
       "22. 'HA5B'\n",
       "23. 'HA6B'\n",
       "24. 'HA7B'\n",
       "25. 'HA8B'\n",
       "26. 'HA9B'\n",
       "27. 'HA11B'\n",
       "28. 'HA10B'\n",
       "\n",
       "\n"
      ],
      "text/plain": [
       " [1] \"created\" \"HA1\"     \"HA2\"     \"HA3\"     \"HA4\"     \"HA5\"     \"HA1A\"   \n",
       " [8] \"HA2A\"    \"HA3A\"    \"HA4A\"    \"HA5A\"    \"HA6A\"    \"HA7A\"    \"HA8A\"   \n",
       "[15] \"HA9A\"    \"HA10A\"   \"HA11A\"   \"HA1B\"    \"HA2B\"    \"HA3B\"    \"HA4B\"   \n",
       "[22] \"HA5B\"    \"HA6B\"    \"HA7B\"    \"HA8B\"    \"HA9B\"    \"HA11B\"   \"HA10B\"  "
      ]
     },
     "metadata": {},
     "output_type": "display_data"
    }
   ],
   "source": [
    "unique(df$HAID)"
   ]
  },
  {
   "cell_type": "code",
   "execution_count": 5,
   "id": "0baec775",
   "metadata": {},
   "outputs": [
    {
     "data": {
      "text/html": [
       "<style>\n",
       ".list-inline {list-style: none; margin:0; padding: 0}\n",
       ".list-inline>li {display: inline-block}\n",
       ".list-inline>li:not(:last-child)::after {content: \"\\00b7\"; padding: 0 .5ex}\n",
       "</style>\n",
       "<ol class=list-inline><li>'HAID'</li><li>'HenID'</li><li>'id'</li><li>'MonthInstudy'</li><li>'DOAHA'</li><li>'IsOFH'</li><li>'ExperimentID'</li><li>'Is_relocated'</li><li>'Is_exp1'</li><li>'Is_exp2'</li><li>'Is_exp3'</li><li>'early_death'</li><li>'time2event'</li><li>'meanDOAmvt'</li><li>'PropZ5'</li><li>'VTDperhour'</li><li>'unevenness'</li><li>'severity'</li><li>'gap'</li><li>'weight'</li><li>'proptime_2_Zone'</li><li>'proptime_5_Zone'</li><li>'mid_cum_Z4_h_Morning'</li></ol>\n"
      ],
      "text/latex": [
       "\\begin{enumerate*}\n",
       "\\item 'HAID'\n",
       "\\item 'HenID'\n",
       "\\item 'id'\n",
       "\\item 'MonthInstudy'\n",
       "\\item 'DOAHA'\n",
       "\\item 'IsOFH'\n",
       "\\item 'ExperimentID'\n",
       "\\item 'Is\\_relocated'\n",
       "\\item 'Is\\_exp1'\n",
       "\\item 'Is\\_exp2'\n",
       "\\item 'Is\\_exp3'\n",
       "\\item 'early\\_death'\n",
       "\\item 'time2event'\n",
       "\\item 'meanDOAmvt'\n",
       "\\item 'PropZ5'\n",
       "\\item 'VTDperhour'\n",
       "\\item 'unevenness'\n",
       "\\item 'severity'\n",
       "\\item 'gap'\n",
       "\\item 'weight'\n",
       "\\item 'proptime\\_2\\_Zone'\n",
       "\\item 'proptime\\_5\\_Zone'\n",
       "\\item 'mid\\_cum\\_Z4\\_h\\_Morning'\n",
       "\\end{enumerate*}\n"
      ],
      "text/markdown": [
       "1. 'HAID'\n",
       "2. 'HenID'\n",
       "3. 'id'\n",
       "4. 'MonthInstudy'\n",
       "5. 'DOAHA'\n",
       "6. 'IsOFH'\n",
       "7. 'ExperimentID'\n",
       "8. 'Is_relocated'\n",
       "9. 'Is_exp1'\n",
       "10. 'Is_exp2'\n",
       "11. 'Is_exp3'\n",
       "12. 'early_death'\n",
       "13. 'time2event'\n",
       "14. 'meanDOAmvt'\n",
       "15. 'PropZ5'\n",
       "16. 'VTDperhour'\n",
       "17. 'unevenness'\n",
       "18. 'severity'\n",
       "19. 'gap'\n",
       "20. 'weight'\n",
       "21. 'proptime_2_Zone'\n",
       "22. 'proptime_5_Zone'\n",
       "23. 'mid_cum_Z4_h_Morning'\n",
       "\n",
       "\n"
      ],
      "text/plain": [
       " [1] \"HAID\"                 \"HenID\"                \"id\"                  \n",
       " [4] \"MonthInstudy\"         \"DOAHA\"                \"IsOFH\"               \n",
       " [7] \"ExperimentID\"         \"Is_relocated\"         \"Is_exp1\"             \n",
       "[10] \"Is_exp2\"              \"Is_exp3\"              \"early_death\"         \n",
       "[13] \"time2event\"           \"meanDOAmvt\"           \"PropZ5\"              \n",
       "[16] \"VTDperhour\"           \"unevenness\"           \"severity\"            \n",
       "[19] \"gap\"                  \"weight\"               \"proptime_2_Zone\"     \n",
       "[22] \"proptime_5_Zone\"      \"mid_cum_Z4_h_Morning\""
      ]
     },
     "metadata": {},
     "output_type": "display_data"
    }
   ],
   "source": [
    "colnames(df)"
   ]
  },
  {
   "cell_type": "markdown",
   "id": "98c550a1",
   "metadata": {
    "scrolled": true
   },
   "source": [
    "#repeated measures correlations #TODO once all good: make sure its bootstrap!\n",
    "v1 = rmcorr(HenID, severity, VTDperhour, data = df, CIs=\"bootstrap\")\n",
    "v2 = rmcorr(HenID, severity, proptime_2_Zone, data = df, CIs=\"bootstrap\")\n",
    "v3 = rmcorr(HenID, severity, proptime_5_Zone, data = df,CIs=\"bootstrap\") #bstrap.out=T,\n",
    "\n",
    "v1\n",
    "plot(v1)\n",
    "\n",
    "v2\n",
    "plot(v2)\n",
    "\n",
    "v3\n",
    "plot(v3)"
   ]
  },
  {
   "cell_type": "code",
   "execution_count": 6,
   "id": "fa63e1c8",
   "metadata": {},
   "outputs": [
    {
     "data": {
      "image/png": "[encoded data removed]",
      "text/plain": [
       "Plot with title \"Histogram of df$unevenness\""
      ]
     },
     "metadata": {
      "image/png": {
       "height": 420,
       "width": 420
      }
     },
     "output_type": "display_data"
    }
   ],
   "source": [
    "#TODO once all good: add R if we want\n",
    "hist(df$unevenness)"
   ]
  },
  {
   "cell_type": "code",
   "execution_count": 7,
   "id": "96086b06",
   "metadata": {},
   "outputs": [
    {
     "data": {
      "image/png": "[encoded data removed]",
      "text/plain": [
       "Plot with title \"Histogram of df$severity\""
      ]
     },
     "metadata": {
      "image/png": {
       "height": 420,
       "width": 420
      }
     },
     "output_type": "display_data"
    }
   ],
   "source": [
    "hist(df$severity)"
   ]
  },
  {
   "cell_type": "code",
   "execution_count": 8,
   "id": "883d074f",
   "metadata": {},
   "outputs": [],
   "source": [
    "#TODO on final model, only relevant when optimize=FALSE, \n",
    "iter_ = 2000 \n",
    "chains_ = 2 \n",
    "bool_optimize = TRUE #documentation FALSE: \"which also mean intoverpop will be set to FALSE automatically and therefore we integrates over \n",
    "#full sampling rather than population distribution of parameters\"\n",
    "#number of cpu cores to use to speed up\n",
    "cores_ = 5 \n",
    "folds_ = 3"
   ]
  },
  {
   "cell_type": "markdown",
   "id": "4c5b907a",
   "metadata": {},
   "source": [
    "# Hierarchical Bayesian continuous time dynamic model - VTD & KBF severity"
   ]
  },
  {
   "cell_type": "code",
   "execution_count": 10,
   "id": "94bafd34",
   "metadata": {},
   "outputs": [
    {
     "data": {
      "text/html": [
       "<table class=\"dataframe\">\n",
       "<caption>A data.frame: 2 × 7</caption>\n",
       "<thead>\n",
       "\t<tr><th></th><th scope=col>ExperimentID</th><th scope=col>IsOFH</th><th scope=col>Is_relocated</th><th scope=col>Is_exp1</th><th scope=col>Is_exp2</th><th scope=col>Is_exp3</th><th scope=col>time2event</th></tr>\n",
       "\t<tr><th></th><th scope=col>&lt;fct&gt;</th><th scope=col>&lt;int&gt;</th><th scope=col>&lt;int&gt;</th><th scope=col>&lt;int&gt;</th><th scope=col>&lt;int&gt;</th><th scope=col>&lt;int&gt;</th><th scope=col>&lt;dbl&gt;</th></tr>\n",
       "</thead>\n",
       "<tbody>\n",
       "\t<tr><th scope=row>1</th><td>Exp2</td><td>0</td><td>1</td><td>0</td><td>1</td><td>0</td><td>3.731609</td></tr>\n",
       "\t<tr><th scope=row>2</th><td>Exp2</td><td>0</td><td>1</td><td>0</td><td>1</td><td>0</td><td>4.000000</td></tr>\n",
       "</tbody>\n",
       "</table>\n"
      ],
      "text/latex": [
       "A data.frame: 2 × 7\n",
       "\\begin{tabular}{r|lllllll}\n",
       "  & ExperimentID & IsOFH & Is\\_relocated & Is\\_exp1 & Is\\_exp2 & Is\\_exp3 & time2event\\\\\n",
       "  & <fct> & <int> & <int> & <int> & <int> & <int> & <dbl>\\\\\n",
       "\\hline\n",
       "\t1 & Exp2 & 0 & 1 & 0 & 1 & 0 & 3.731609\\\\\n",
       "\t2 & Exp2 & 0 & 1 & 0 & 1 & 0 & 4.000000\\\\\n",
       "\\end{tabular}\n"
      ],
      "text/markdown": [
       "\n",
       "A data.frame: 2 × 7\n",
       "\n",
       "| <!--/--> | ExperimentID &lt;fct&gt; | IsOFH &lt;int&gt; | Is_relocated &lt;int&gt; | Is_exp1 &lt;int&gt; | Is_exp2 &lt;int&gt; | Is_exp3 &lt;int&gt; | time2event &lt;dbl&gt; |\n",
       "|---|---|---|---|---|---|---|---|\n",
       "| 1 | Exp2 | 0 | 1 | 0 | 1 | 0 | 3.731609 |\n",
       "| 2 | Exp2 | 0 | 1 | 0 | 1 | 0 | 4.000000 |\n",
       "\n"
      ],
      "text/plain": [
       "  ExperimentID IsOFH Is_relocated Is_exp1 Is_exp2 Is_exp3 time2event\n",
       "1 Exp2         0     1            0       1       0       3.731609  \n",
       "2 Exp2         0     1            0       1       0       4.000000  "
      ]
     },
     "metadata": {},
     "output_type": "display_data"
    }
   ],
   "source": [
    "head(df[,c('ExperimentID','IsOFH', 'Is_relocated','Is_exp1','Is_exp2','Is_exp3','time2event')],2)"
   ]
  },
  {
   "cell_type": "code",
   "execution_count": 11,
   "id": "0b45d33f",
   "metadata": {
    "scrolled": true
   },
   "outputs": [
    {
     "data": {
      "text/html": [
       "<style>\n",
       ".list-inline {list-style: none; margin:0; padding: 0}\n",
       ".list-inline>li {display: inline-block}\n",
       ".list-inline>li:not(:last-child)::after {content: \"\\00b7\"; padding: 0 .5ex}\n",
       "</style>\n",
       "<ol class=list-inline><li>1875</li><li>3</li></ol>\n"
      ],
      "text/latex": [
       "\\begin{enumerate*}\n",
       "\\item 1875\n",
       "\\item 3\n",
       "\\end{enumerate*}\n"
      ],
      "text/markdown": [
       "1. 1875\n",
       "2. 3\n",
       "\n",
       "\n"
      ],
      "text/plain": [
       "[1] 1875    3"
      ]
     },
     "metadata": {},
     "output_type": "display_data"
    },
    {
     "data": {
      "text/html": [
       "<table class=\"dataframe\">\n",
       "<caption>A matrix: 3 × 3 of type dbl</caption>\n",
       "<thead>\n",
       "\t<tr><th></th><th scope=col>time</th><th scope=col>Y1</th><th scope=col>Y2</th></tr>\n",
       "</thead>\n",
       "<tbody>\n",
       "\t<tr><th scope=row>time</th><td> 1.00</td><td>0.51</td><td>-0.05</td></tr>\n",
       "\t<tr><th scope=row>Y1</th><td> 0.51</td><td>1.00</td><td> 0.23</td></tr>\n",
       "\t<tr><th scope=row>Y2</th><td>-0.05</td><td>0.23</td><td> 1.00</td></tr>\n",
       "</tbody>\n",
       "</table>\n"
      ],
      "text/latex": [
       "A matrix: 3 × 3 of type dbl\n",
       "\\begin{tabular}{r|lll}\n",
       "  & time & Y1 & Y2\\\\\n",
       "\\hline\n",
       "\ttime &  1.00 & 0.51 & -0.05\\\\\n",
       "\tY1 &  0.51 & 1.00 &  0.23\\\\\n",
       "\tY2 & -0.05 & 0.23 &  1.00\\\\\n",
       "\\end{tabular}\n"
      ],
      "text/markdown": [
       "\n",
       "A matrix: 3 × 3 of type dbl\n",
       "\n",
       "| <!--/--> | time | Y1 | Y2 |\n",
       "|---|---|---|---|\n",
       "| time |  1.00 | 0.51 | -0.05 |\n",
       "| Y1 |  0.51 | 1.00 |  0.23 |\n",
       "| Y2 | -0.05 | 0.23 |  1.00 |\n",
       "\n"
      ],
      "text/plain": [
       "     time  Y1   Y2   \n",
       "time  1.00 0.51 -0.05\n",
       "Y1    0.51 1.00  0.23\n",
       "Y2   -0.05 0.23  1.00"
      ]
     },
     "metadata": {},
     "output_type": "display_data"
    },
    {
     "data": {
      "text/html": [
       "<table class=\"dataframe\">\n",
       "<caption>A matrix: 3 × 3 of type dbl</caption>\n",
       "<thead>\n",
       "\t<tr><th></th><th scope=col>time</th><th scope=col>Y1</th><th scope=col>Y2</th></tr>\n",
       "</thead>\n",
       "<tbody>\n",
       "\t<tr><th scope=row>time</th><td> 1.00</td><td>0.62</td><td>-0.10</td></tr>\n",
       "\t<tr><th scope=row>Y1</th><td> 0.62</td><td>1.00</td><td> 0.09</td></tr>\n",
       "\t<tr><th scope=row>Y2</th><td>-0.10</td><td>0.09</td><td> 1.00</td></tr>\n",
       "</tbody>\n",
       "</table>\n"
      ],
      "text/latex": [
       "A matrix: 3 × 3 of type dbl\n",
       "\\begin{tabular}{r|lll}\n",
       "  & time & Y1 & Y2\\\\\n",
       "\\hline\n",
       "\ttime &  1.00 & 0.62 & -0.10\\\\\n",
       "\tY1 &  0.62 & 1.00 &  0.09\\\\\n",
       "\tY2 & -0.10 & 0.09 &  1.00\\\\\n",
       "\\end{tabular}\n"
      ],
      "text/markdown": [
       "\n",
       "A matrix: 3 × 3 of type dbl\n",
       "\n",
       "| <!--/--> | time | Y1 | Y2 |\n",
       "|---|---|---|---|\n",
       "| time |  1.00 | 0.62 | -0.10 |\n",
       "| Y1 |  0.62 | 1.00 |  0.09 |\n",
       "| Y2 | -0.10 | 0.09 |  1.00 |\n",
       "\n"
      ],
      "text/plain": [
       "     time  Y1   Y2   \n",
       "time  1.00 0.62 -0.10\n",
       "Y1    0.62 1.00  0.09\n",
       "Y2   -0.10 0.09  1.00"
      ]
     },
     "metadata": {},
     "output_type": "display_data"
    },
    {
     "data": {
      "text/html": [
       "<style>\n",
       ".list-inline {list-style: none; margin:0; padding: 0}\n",
       ".list-inline>li {display: inline-block}\n",
       ".list-inline>li:not(:last-child)::after {content: \"\\00b7\"; padding: 0 .5ex}\n",
       "</style>\n",
       "<ol class=list-inline><li>2228</li><li>9</li></ol>\n"
      ],
      "text/latex": [
       "\\begin{enumerate*}\n",
       "\\item 2228\n",
       "\\item 9\n",
       "\\end{enumerate*}\n"
      ],
      "text/markdown": [
       "1. 2228\n",
       "2. 9\n",
       "\n",
       "\n"
      ],
      "text/plain": [
       "[1] 2228    9"
      ]
     },
     "metadata": {},
     "output_type": "display_data"
    },
    {
     "data": {
      "text/html": [
       "<table class=\"dataframe\">\n",
       "<caption>A data.frame: 2 × 9</caption>\n",
       "<thead>\n",
       "\t<tr><th></th><th scope=col>id</th><th scope=col>time</th><th scope=col>Y1</th><th scope=col>Y2</th><th scope=col>time2event</th><th scope=col>IsOFH</th><th scope=col>Is_exp2</th><th scope=col>Is_exp3</th><th scope=col>weight</th></tr>\n",
       "\t<tr><th></th><th scope=col>&lt;int&gt;</th><th scope=col>&lt;dbl&gt;</th><th scope=col>&lt;dbl&gt;</th><th scope=col>&lt;dbl&gt;</th><th scope=col>&lt;dbl&gt;</th><th scope=col>&lt;dbl&gt;</th><th scope=col>&lt;dbl&gt;</th><th scope=col>&lt;dbl&gt;</th><th scope=col>&lt;dbl&gt;</th></tr>\n",
       "</thead>\n",
       "<tbody>\n",
       "\t<tr><th scope=row>1</th><td>1</td><td>0.00</td><td>       NA</td><td>        NA</td><td>3.731609</td><td>0</td><td>1</td><td>0</td><td>    NA</td></tr>\n",
       "\t<tr><th scope=row>2</th><td>1</td><td>0.85</td><td>-0.931354</td><td>-0.8783412</td><td>4.000000</td><td>0</td><td>1</td><td>0</td><td>1691.7</td></tr>\n",
       "</tbody>\n",
       "</table>\n"
      ],
      "text/latex": [
       "A data.frame: 2 × 9\n",
       "\\begin{tabular}{r|lllllllll}\n",
       "  & id & time & Y1 & Y2 & time2event & IsOFH & Is\\_exp2 & Is\\_exp3 & weight\\\\\n",
       "  & <int> & <dbl> & <dbl> & <dbl> & <dbl> & <dbl> & <dbl> & <dbl> & <dbl>\\\\\n",
       "\\hline\n",
       "\t1 & 1 & 0.00 &        NA &         NA & 3.731609 & 0 & 1 & 0 &     NA\\\\\n",
       "\t2 & 1 & 0.85 & -0.931354 & -0.8783412 & 4.000000 & 0 & 1 & 0 & 1691.7\\\\\n",
       "\\end{tabular}\n"
      ],
      "text/markdown": [
       "\n",
       "A data.frame: 2 × 9\n",
       "\n",
       "| <!--/--> | id &lt;int&gt; | time &lt;dbl&gt; | Y1 &lt;dbl&gt; | Y2 &lt;dbl&gt; | time2event &lt;dbl&gt; | IsOFH &lt;dbl&gt; | Is_exp2 &lt;dbl&gt; | Is_exp3 &lt;dbl&gt; | weight &lt;dbl&gt; |\n",
       "|---|---|---|---|---|---|---|---|---|---|\n",
       "| 1 | 1 | 0.00 |        NA |         NA | 3.731609 | 0 | 1 | 0 |     NA |\n",
       "| 2 | 1 | 0.85 | -0.931354 | -0.8783412 | 4.000000 | 0 | 1 | 0 | 1691.7 |\n",
       "\n"
      ],
      "text/plain": [
       "  id time Y1        Y2         time2event IsOFH Is_exp2 Is_exp3 weight\n",
       "1 1  0.00        NA         NA 3.731609   0     1       0           NA\n",
       "2 1  0.85 -0.931354 -0.8783412 4.000000   0     1       0       1691.7"
      ]
     },
     "metadata": {},
     "output_type": "display_data"
    },
    {
     "data": {
      "text/plain": [
       "       id             time             Y1                Y2         \n",
       " Min.   :  1.0   Min.   :0.000   Min.   :-0.9314   Min.   :-1.6495  \n",
       " 1st Qu.:113.8   1st Qu.:0.820   1st Qu.:-0.8919   1st Qu.:-0.7320  \n",
       " Median :220.0   Median :3.120   Median :-0.3003   Median :-0.3123  \n",
       " Mean   :211.0   Mean   :3.511   Mean   : 0.0000   Mean   : 0.0000  \n",
       " 3rd Qu.:320.2   3rd Qu.:5.420   3rd Qu.: 0.5674   3rd Qu.: 0.5757  \n",
       " Max.   :372.0   Max.   :9.500   Max.   : 3.0128   Max.   : 3.0797  \n",
       "                                 NA's   :353       NA's   :353      \n",
       "   time2event        IsOFH           Is_exp2          Is_exp3      \n",
       " Min.   :1.500   Min.   :0.0000   Min.   :0.0000   Min.   :0.0000  \n",
       " 1st Qu.:3.500   1st Qu.:0.0000   1st Qu.:0.0000   1st Qu.:0.0000  \n",
       " Median :3.833   Median :0.0000   Median :0.0000   Median :0.0000  \n",
       " Mean   :3.732   Mean   :0.1854   Mean   :0.3573   Mean   :0.2846  \n",
       " 3rd Qu.:4.000   3rd Qu.:0.0000   3rd Qu.:1.0000   3rd Qu.:1.0000  \n",
       " Max.   :7.000   Max.   :1.0000   Max.   :1.0000   Max.   :1.0000  \n",
       "                                                                   \n",
       "     weight    \n",
       " Min.   :1228  \n",
       " 1st Qu.:1701  \n",
       " Median :1790  \n",
       " Mean   :1797  \n",
       " 3rd Qu.:1886  \n",
       " Max.   :2331  \n",
       " NA's   :964   "
      ]
     },
     "metadata": {},
     "output_type": "display_data"
    },
    {
     "name": "stdout",
     "output_type": "stream",
     "text": [
      "'data.frame':\t2228 obs. of  9 variables:\n",
      " $ id        : int  1 1 1 1 1 2 2 2 2 2 ...\n",
      " $ time      : num  0 0.85 3.16 5.23 7.99 0 0.85 3.16 5.23 7.99 ...\n",
      " $ Y1        : num  NA -0.931 -0.931 -0.892 -0.221 ...\n",
      " $ Y2        : num  NA -0.878 -0.902 -1.152 -1.499 ...\n",
      " $ time2event: num  3.73 4 4 4 4 ...\n",
      " $ IsOFH     : num  0 0 0 0 0 0 0 0 0 0 ...\n",
      " $ Is_exp2   : num  1 1 1 1 1 1 1 1 1 1 ...\n",
      " $ Is_exp3   : num  0 0 0 0 0 0 0 0 0 0 ...\n",
      " $ weight    : num  NA 1692 1722 1655 1664 ...\n"
     ]
    }
   ],
   "source": [
    "############ \n",
    "#initialise what we want\n",
    "name = 'unevenness_severity_trend_rs0'\n",
    "#data_mvtha = subset(df,df$HAID!='created')\n",
    "#data_mvtha = data_mvtha %>% select (id, MonthInstudy, severity, VTDperhour)\n",
    "data_mvtha = df %>% select (id, MonthInstudy, severity, unevenness, time2event,IsOFH,Is_exp2,Is_exp3,weight)#, IsOFH, Is_relocated,Is_exp2,Is_exp3)\n",
    "data_mvtha = plyr::rename(data_mvtha, c('MonthInstudy'='time',\"severity\"=\"Y1\", \"unevenness\"=\"Y2\"))\n",
    "#data_mvtha$Y1 = sqrt(data_mvtha$Y1)\n",
    "\n",
    "#create directory\n",
    "path_save_ = file.path(path_save,name)\n",
    "dir.create(path_save_)\n",
    "#convert into double (integer leads to warning as Y1 and Y2 are double)\n",
    "#without centered TI: we get a warning: \"Uncentered TI predictors noted -- interpretability may be hindered and default priors \n",
    "#may not be appropriate\"\n",
    "#centering and scaling variables in the model\n",
    "li_sc = c('Y1','Y2')#, 'IsOFH', 'Is_relocated','Is_exp1','Is_exp2','Is_exp3')\n",
    "data_mvtha[,li_sc] = scale(data_mvtha[,li_sc]) \n",
    "#warning if we have double and integer, and as Y1 and Y2 are double, let set them all\n",
    "data_mvtha[li_sc] = sapply(data_mvtha[li_sc],as.double)\n",
    "data_mvtha[c('IsOFH','Is_exp2','Is_exp3')] = sapply(data_mvtha[c('IsOFH','Is_exp2','Is_exp3')],as.double)\n",
    "\n",
    "#pearson correlation\n",
    "df_ = na.omit(data_mvtha[,c('time','Y1', \"Y2\")])\n",
    "dim(df_)\n",
    "round(cor(df_[,c('time','Y1', \"Y2\")], method = c(\"pearson\")), 2)\n",
    "round(cor(df_[,c('time','Y1', \"Y2\")], method = c(\"spearman\")), 2)\n",
    "#show info\n",
    "dim(data_mvtha)\n",
    "head(data_mvtha,2)\n",
    "summary(data_mvtha)\n",
    "str(data_mvtha)"
   ]
  },
  {
   "cell_type": "code",
   "execution_count": 12,
   "id": "2e23a7a5",
   "metadata": {},
   "outputs": [
    {
     "data": {
      "text/html": [
       "<table class=\"dataframe\">\n",
       "<caption>A matrix: 6 × 6 of type chr</caption>\n",
       "<tbody>\n",
       "\t<tr><td>0</td><td>0</td><td>0</td><td>0</td><td>0                  </td><td>0           </td></tr>\n",
       "\t<tr><td>0</td><td>0</td><td>0</td><td>0</td><td>0                  </td><td>0           </td></tr>\n",
       "\t<tr><td>0</td><td>0</td><td>0</td><td>0</td><td>0                  </td><td>0           </td></tr>\n",
       "\t<tr><td>0</td><td>0</td><td>0</td><td>0</td><td>0                  </td><td>0           </td></tr>\n",
       "\t<tr><td>0</td><td>0</td><td>0</td><td>0</td><td>diffu_dynKBF       </td><td>0           </td></tr>\n",
       "\t<tr><td>0</td><td>0</td><td>0</td><td>0</td><td>diffu_dynVTD_dynKBF</td><td>diffu_dynVTD</td></tr>\n",
       "</tbody>\n",
       "</table>\n"
      ],
      "text/latex": [
       "A matrix: 6 × 6 of type chr\n",
       "\\begin{tabular}{llllll}\n",
       "\t 0 & 0 & 0 & 0 & 0                   & 0           \\\\\n",
       "\t 0 & 0 & 0 & 0 & 0                   & 0           \\\\\n",
       "\t 0 & 0 & 0 & 0 & 0                   & 0           \\\\\n",
       "\t 0 & 0 & 0 & 0 & 0                   & 0           \\\\\n",
       "\t 0 & 0 & 0 & 0 & diffu\\_dynKBF        & 0           \\\\\n",
       "\t 0 & 0 & 0 & 0 & diffu\\_dynVTD\\_dynKBF & diffu\\_dynVTD\\\\\n",
       "\\end{tabular}\n"
      ],
      "text/markdown": [
       "\n",
       "A matrix: 6 × 6 of type chr\n",
       "\n",
       "| 0 | 0 | 0 | 0 | 0                   | 0            |\n",
       "| 0 | 0 | 0 | 0 | 0                   | 0            |\n",
       "| 0 | 0 | 0 | 0 | 0                   | 0            |\n",
       "| 0 | 0 | 0 | 0 | 0                   | 0            |\n",
       "| 0 | 0 | 0 | 0 | diffu_dynKBF        | 0            |\n",
       "| 0 | 0 | 0 | 0 | diffu_dynVTD_dynKBF | diffu_dynVTD |\n",
       "\n"
      ],
      "text/plain": [
       "     [,1] [,2] [,3] [,4] [,5]                [,6]        \n",
       "[1,] 0    0    0    0    0                   0           \n",
       "[2,] 0    0    0    0    0                   0           \n",
       "[3,] 0    0    0    0    0                   0           \n",
       "[4,] 0    0    0    0    0                   0           \n",
       "[5,] 0    0    0    0    diffu_dynKBF        0           \n",
       "[6,] 0    0    0    0    diffu_dynVTD_dynKBF diffu_dynVTD"
      ]
     },
     "metadata": {},
     "output_type": "display_data"
    }
   ],
   "source": [
    "Mdiffu = matrix(c(0,0,0,0,0,0,\n",
    "              0,0,0,0,0,0,\n",
    "              0,0,0,0,0,0,\n",
    "              0,0,0,0,0,0,\n",
    "              0,0,0,0,'diffu_dynKBF','diffu_dynVTD_dynKBF',\n",
    "              0,0,0,0,0,'diffu_dynVTD'), ncol = 6)\n",
    "Mdiffu"
   ]
  },
  {
   "cell_type": "code",
   "execution_count": 13,
   "id": "7d0bb7b1",
   "metadata": {},
   "outputs": [
    {
     "data": {
      "text/html": [
       "<table class=\"dataframe\">\n",
       "<caption>A matrix: 6 × 6 of type chr</caption>\n",
       "<tbody>\n",
       "\t<tr><td>T0var_KBF        </td><td>0                </td><td>0                    </td><td>0            </td><td>0</td><td>0</td></tr>\n",
       "\t<tr><td>T0var_VTD_KBF    </td><td>T0var_VTD        </td><td>0                    </td><td>0            </td><td>0</td><td>0</td></tr>\n",
       "\t<tr><td>T0var_cintKBF_KBF</td><td>T0var_cintKBF_VTD</td><td>T0var_cintKBF        </td><td>0            </td><td>0</td><td>0</td></tr>\n",
       "\t<tr><td>T0var_cintVTD_KBF</td><td>T0var_cintVTD_VTD</td><td>T0var_cintVTD_cintKBF</td><td>T0var_cintVTD</td><td>0</td><td>0</td></tr>\n",
       "\t<tr><td>0                </td><td>0                </td><td>0                    </td><td>0            </td><td>0</td><td>0</td></tr>\n",
       "\t<tr><td>0                </td><td>0                </td><td>0                    </td><td>0            </td><td>0</td><td>0</td></tr>\n",
       "</tbody>\n",
       "</table>\n"
      ],
      "text/latex": [
       "A matrix: 6 × 6 of type chr\n",
       "\\begin{tabular}{llllll}\n",
       "\t T0var\\_KBF         & 0                 & 0                     & 0             & 0 & 0\\\\\n",
       "\t T0var\\_VTD\\_KBF     & T0var\\_VTD         & 0                     & 0             & 0 & 0\\\\\n",
       "\t T0var\\_cintKBF\\_KBF & T0var\\_cintKBF\\_VTD & T0var\\_cintKBF         & 0             & 0 & 0\\\\\n",
       "\t T0var\\_cintVTD\\_KBF & T0var\\_cintVTD\\_VTD & T0var\\_cintVTD\\_cintKBF & T0var\\_cintVTD & 0 & 0\\\\\n",
       "\t 0                 & 0                 & 0                     & 0             & 0 & 0\\\\\n",
       "\t 0                 & 0                 & 0                     & 0             & 0 & 0\\\\\n",
       "\\end{tabular}\n"
      ],
      "text/markdown": [
       "\n",
       "A matrix: 6 × 6 of type chr\n",
       "\n",
       "| T0var_KBF         | 0                 | 0                     | 0             | 0 | 0 |\n",
       "| T0var_VTD_KBF     | T0var_VTD         | 0                     | 0             | 0 | 0 |\n",
       "| T0var_cintKBF_KBF | T0var_cintKBF_VTD | T0var_cintKBF         | 0             | 0 | 0 |\n",
       "| T0var_cintVTD_KBF | T0var_cintVTD_VTD | T0var_cintVTD_cintKBF | T0var_cintVTD | 0 | 0 |\n",
       "| 0                 | 0                 | 0                     | 0             | 0 | 0 |\n",
       "| 0                 | 0                 | 0                     | 0             | 0 | 0 |\n",
       "\n"
      ],
      "text/plain": [
       "     [,1]              [,2]              [,3]                  [,4]         \n",
       "[1,] T0var_KBF         0                 0                     0            \n",
       "[2,] T0var_VTD_KBF     T0var_VTD         0                     0            \n",
       "[3,] T0var_cintKBF_KBF T0var_cintKBF_VTD T0var_cintKBF         0            \n",
       "[4,] T0var_cintVTD_KBF T0var_cintVTD_VTD T0var_cintVTD_cintKBF T0var_cintVTD\n",
       "[5,] 0                 0                 0                     0            \n",
       "[6,] 0                 0                 0                     0            \n",
       "     [,5] [,6]\n",
       "[1,] 0    0   \n",
       "[2,] 0    0   \n",
       "[3,] 0    0   \n",
       "[4,] 0    0   \n",
       "[5,] 0    0   \n",
       "[6,] 0    0   "
      ]
     },
     "metadata": {},
     "output_type": "display_data"
    }
   ],
   "source": [
    "#\"initial covariance matrices are fixed to zero in many elements such that these new dynamics processes do not interact or \n",
    "#co-vary with the other processes in the system\"\n",
    "Mt0var = matrix(c('T0var_KBF','T0var_VTD_KBF','T0var_cintKBF_KBF','T0var_cintVTD_KBF',0,0,\n",
    "                  0,'T0var_VTD','T0var_cintKBF_VTD','T0var_cintVTD_VTD',0,0,\n",
    "                  0,0,'T0var_cintKBF','T0var_cintVTD_cintKBF',0,0,\n",
    "                  0,0,0,'T0var_cintVTD',0,0,\n",
    "                  0,0,0,0,0,0,\n",
    "                  0,0,0,0,0,0), ncol=6)\n",
    "#TODO: no initial var in the dynamics process as it set to 0 always... correct?\n",
    "Mt0var"
   ]
  },
  {
   "cell_type": "code",
   "execution_count": 14,
   "id": "99ba431f",
   "metadata": {},
   "outputs": [
    {
     "data": {
      "text/html": [
       "<table class=\"dataframe\">\n",
       "<caption>A matrix: 6 × 1 of type chr</caption>\n",
       "<tbody>\n",
       "\t<tr><td>T0m_KBF    </td></tr>\n",
       "\t<tr><td>T0m_VTD    </td></tr>\n",
       "\t<tr><td>T0m_cintKBF</td></tr>\n",
       "\t<tr><td>T0m_cintVTD</td></tr>\n",
       "\t<tr><td>0          </td></tr>\n",
       "\t<tr><td>0          </td></tr>\n",
       "</tbody>\n",
       "</table>\n"
      ],
      "text/latex": [
       "A matrix: 6 × 1 of type chr\n",
       "\\begin{tabular}{l}\n",
       "\t T0m\\_KBF    \\\\\n",
       "\t T0m\\_VTD    \\\\\n",
       "\t T0m\\_cintKBF\\\\\n",
       "\t T0m\\_cintVTD\\\\\n",
       "\t 0          \\\\\n",
       "\t 0          \\\\\n",
       "\\end{tabular}\n"
      ],
      "text/markdown": [
       "\n",
       "A matrix: 6 × 1 of type chr\n",
       "\n",
       "| T0m_KBF     |\n",
       "| T0m_VTD     |\n",
       "| T0m_cintKBF |\n",
       "| T0m_cintVTD |\n",
       "| 0           |\n",
       "| 0           |\n",
       "\n"
      ],
      "text/plain": [
       "     [,1]       \n",
       "[1,] T0m_KBF    \n",
       "[2,] T0m_VTD    \n",
       "[3,] T0m_cintKBF\n",
       "[4,] T0m_cintVTD\n",
       "[5,] 0          \n",
       "[6,] 0          "
      ]
     },
     "metadata": {},
     "output_type": "display_data"
    }
   ],
   "source": [
    "#The initial state and continuous intercept for each dynamical process is set to zero, to ensure that the processes capture \n",
    "#only the fluctuations and not the general trends\n",
    "Mt0means = matrix(c('T0m_KBF','T0m_VTD','T0m_cintKBF','T0m_cintVTD',0,0),ncol=1)\n",
    "Mt0means\n",
    "MCINT = matrix(c(0,0,0,0,0,0),ncol=1)"
   ]
  },
  {
   "cell_type": "code",
   "execution_count": 15,
   "id": "fc1bc5c5",
   "metadata": {},
   "outputs": [
    {
     "data": {
      "text/html": [
       "<table class=\"dataframe\">\n",
       "<caption>A matrix: 6 × 6 of type chr</caption>\n",
       "<tbody>\n",
       "\t<tr><td>drift_KBF</td><td>0        </td><td>1</td><td>0</td><td>0                  </td><td>0                  </td></tr>\n",
       "\t<tr><td>0        </td><td>drift_VTD</td><td>0</td><td>1</td><td>0                  </td><td>0                  </td></tr>\n",
       "\t<tr><td>0        </td><td>0        </td><td>0</td><td>0</td><td>0                  </td><td>0                  </td></tr>\n",
       "\t<tr><td>0        </td><td>0        </td><td>0</td><td>0</td><td>0                  </td><td>0                  </td></tr>\n",
       "\t<tr><td>0        </td><td>0        </td><td>0</td><td>0</td><td>drift_dynKBF       </td><td>drift_dynKBF_dynVTD</td></tr>\n",
       "\t<tr><td>0        </td><td>0        </td><td>0</td><td>0</td><td>drift_dynVTD_dynKBF</td><td>drift_dynVTD       </td></tr>\n",
       "</tbody>\n",
       "</table>\n"
      ],
      "text/latex": [
       "A matrix: 6 × 6 of type chr\n",
       "\\begin{tabular}{llllll}\n",
       "\t drift\\_KBF & 0         & 1 & 0 & 0                   & 0                  \\\\\n",
       "\t 0         & drift\\_VTD & 0 & 1 & 0                   & 0                  \\\\\n",
       "\t 0         & 0         & 0 & 0 & 0                   & 0                  \\\\\n",
       "\t 0         & 0         & 0 & 0 & 0                   & 0                  \\\\\n",
       "\t 0         & 0         & 0 & 0 & drift\\_dynKBF        & drift\\_dynKBF\\_dynVTD\\\\\n",
       "\t 0         & 0         & 0 & 0 & drift\\_dynVTD\\_dynKBF & drift\\_dynVTD       \\\\\n",
       "\\end{tabular}\n"
      ],
      "text/markdown": [
       "\n",
       "A matrix: 6 × 6 of type chr\n",
       "\n",
       "| drift_KBF | 0         | 1 | 0 | 0                   | 0                   |\n",
       "| 0         | drift_VTD | 0 | 1 | 0                   | 0                   |\n",
       "| 0         | 0         | 0 | 0 | 0                   | 0                   |\n",
       "| 0         | 0         | 0 | 0 | 0                   | 0                   |\n",
       "| 0         | 0         | 0 | 0 | drift_dynKBF        | drift_dynKBF_dynVTD |\n",
       "| 0         | 0         | 0 | 0 | drift_dynVTD_dynKBF | drift_dynVTD        |\n",
       "\n"
      ],
      "text/plain": [
       "     [,1]      [,2]      [,3] [,4] [,5]                [,6]               \n",
       "[1,] drift_KBF 0         1    0    0                   0                  \n",
       "[2,] 0         drift_VTD 0    1    0                   0                  \n",
       "[3,] 0         0         0    0    0                   0                  \n",
       "[4,] 0         0         0    0    0                   0                  \n",
       "[5,] 0         0         0    0    drift_dynKBF        drift_dynKBF_dynVTD\n",
       "[6,] 0         0         0    0    drift_dynVTD_dynKBF drift_dynVTD       "
      ]
     },
     "metadata": {},
     "output_type": "display_data"
    }
   ],
   "source": [
    "#\"The auto-effect of the dynamics processes is estimated, setting the speed of the fluctuations\"\n",
    "Mdrift = matrix(c('drift_KBF',0,0,0,0,0,\n",
    "                    0,'drift_VTD',0,0,0,0,\n",
    "                    1,0,0,0,0,0,\n",
    "                    0,1,0,0,0,0,\n",
    "                    0,0,0,0,'drift_dynKBF','drift_dynVTD_dynKBF',\n",
    "                    0,0,0,0,'drift_dynKBF_dynVTD','drift_dynVTD'), ncol = 6)\n",
    "Mdrift"
   ]
  },
  {
   "cell_type": "code",
   "execution_count": 16,
   "id": "ac2a6b49",
   "metadata": {
    "scrolled": true
   },
   "outputs": [
    {
     "name": "stderr",
     "output_type": "stream",
     "text": [
      "Warning message in ctStanModel(completemodel, type = type, tipredDefault = tipredDefault):\n",
      "\"TI predictors included but no effects specified!\"\n"
     ]
    },
    {
     "data": {
      "text/html": [
       "<table class=\"dataframe\">\n",
       "<caption>A data.frame: 138 × 11</caption>\n",
       "<thead>\n",
       "\t<tr><th></th><th scope=col>matrix</th><th scope=col>row</th><th scope=col>col</th><th scope=col>param</th><th scope=col>value</th><th scope=col>transform</th><th scope=col>indvarying</th><th scope=col>sdscale</th><th scope=col>Is_exp3_effect</th><th scope=col>Is_exp2_effect</th><th scope=col>IsOFH_effect</th></tr>\n",
       "\t<tr><th></th><th scope=col>&lt;chr&gt;</th><th scope=col>&lt;int&gt;</th><th scope=col>&lt;int&gt;</th><th scope=col>&lt;chr&gt;</th><th scope=col>&lt;dbl&gt;</th><th scope=col>&lt;chr&gt;</th><th scope=col>&lt;lgl&gt;</th><th scope=col>&lt;dbl&gt;</th><th scope=col>&lt;lgl&gt;</th><th scope=col>&lt;lgl&gt;</th><th scope=col>&lt;lgl&gt;</th></tr>\n",
       "</thead>\n",
       "<tbody>\n",
       "\t<tr><th scope=row>1</th><td>T0MEANS</td><td>1</td><td>1</td><td>T0m_KBF    </td><td>NA</td><td>10 * param                            </td><td> TRUE</td><td> 1</td><td>FALSE</td><td>FALSE</td><td>FALSE</td></tr>\n",
       "\t<tr><th scope=row>2</th><td>T0MEANS</td><td>2</td><td>1</td><td>T0m_VTD    </td><td>NA</td><td>10 * param                            </td><td> TRUE</td><td> 1</td><td>FALSE</td><td>FALSE</td><td>FALSE</td></tr>\n",
       "\t<tr><th scope=row>3</th><td>T0MEANS</td><td>3</td><td>1</td><td>T0m_cintKBF</td><td>NA</td><td>10 * param                            </td><td> TRUE</td><td> 1</td><td>FALSE</td><td>FALSE</td><td>FALSE</td></tr>\n",
       "\t<tr><th scope=row>4</th><td>T0MEANS</td><td>4</td><td>1</td><td>T0m_cintVTD</td><td>NA</td><td>10 * param                            </td><td> TRUE</td><td> 1</td><td>FALSE</td><td>FALSE</td><td>FALSE</td></tr>\n",
       "\t<tr><th scope=row>5</th><td>T0MEANS</td><td>5</td><td>1</td><td>NA         </td><td> 0</td><td>NA                                    </td><td> TRUE</td><td>NA</td><td>FALSE</td><td>FALSE</td><td>FALSE</td></tr>\n",
       "\t<tr><th scope=row>6</th><td>T0MEANS</td><td>6</td><td>1</td><td>NA         </td><td> 0</td><td>NA                                    </td><td> TRUE</td><td>NA</td><td>FALSE</td><td>FALSE</td><td>FALSE</td></tr>\n",
       "\t<tr><th scope=row>7</th><td>LAMBDA </td><td>1</td><td>1</td><td>NA         </td><td> 1</td><td>NA                                    </td><td>FALSE</td><td>NA</td><td>FALSE</td><td>FALSE</td><td>FALSE</td></tr>\n",
       "\t<tr><th scope=row>8</th><td>LAMBDA </td><td>1</td><td>2</td><td>NA         </td><td> 0</td><td>NA                                    </td><td>FALSE</td><td>NA</td><td>FALSE</td><td>FALSE</td><td>FALSE</td></tr>\n",
       "\t<tr><th scope=row>9</th><td>LAMBDA </td><td>1</td><td>3</td><td>NA         </td><td> 0</td><td>NA                                    </td><td>FALSE</td><td>NA</td><td>FALSE</td><td>FALSE</td><td>FALSE</td></tr>\n",
       "\t<tr><th scope=row>10</th><td>LAMBDA </td><td>1</td><td>4</td><td>NA         </td><td> 0</td><td>NA                                    </td><td>FALSE</td><td>NA</td><td>FALSE</td><td>FALSE</td><td>FALSE</td></tr>\n",
       "\t<tr><th scope=row>11</th><td>LAMBDA </td><td>1</td><td>5</td><td>NA         </td><td> 1</td><td>NA                                    </td><td>FALSE</td><td>NA</td><td>FALSE</td><td>FALSE</td><td>FALSE</td></tr>\n",
       "\t<tr><th scope=row>12</th><td>LAMBDA </td><td>1</td><td>6</td><td>NA         </td><td> 0</td><td>NA                                    </td><td>FALSE</td><td>NA</td><td>FALSE</td><td>FALSE</td><td>FALSE</td></tr>\n",
       "\t<tr><th scope=row>13</th><td>LAMBDA </td><td>2</td><td>1</td><td>NA         </td><td> 0</td><td>NA                                    </td><td>FALSE</td><td>NA</td><td>FALSE</td><td>FALSE</td><td>FALSE</td></tr>\n",
       "\t<tr><th scope=row>14</th><td>LAMBDA </td><td>2</td><td>2</td><td>NA         </td><td> 1</td><td>NA                                    </td><td>FALSE</td><td>NA</td><td>FALSE</td><td>FALSE</td><td>FALSE</td></tr>\n",
       "\t<tr><th scope=row>15</th><td>LAMBDA </td><td>2</td><td>3</td><td>NA         </td><td> 0</td><td>NA                                    </td><td>FALSE</td><td>NA</td><td>FALSE</td><td>FALSE</td><td>FALSE</td></tr>\n",
       "\t<tr><th scope=row>16</th><td>LAMBDA </td><td>2</td><td>4</td><td>NA         </td><td> 0</td><td>NA                                    </td><td>FALSE</td><td>NA</td><td>FALSE</td><td>FALSE</td><td>FALSE</td></tr>\n",
       "\t<tr><th scope=row>17</th><td>LAMBDA </td><td>2</td><td>5</td><td>NA         </td><td> 0</td><td>NA                                    </td><td>FALSE</td><td>NA</td><td>FALSE</td><td>FALSE</td><td>FALSE</td></tr>\n",
       "\t<tr><th scope=row>18</th><td>LAMBDA </td><td>2</td><td>6</td><td>NA         </td><td> 1</td><td>NA                                    </td><td>FALSE</td><td>NA</td><td>FALSE</td><td>FALSE</td><td>FALSE</td></tr>\n",
       "\t<tr><th scope=row>19</th><td>DRIFT  </td><td>1</td><td>1</td><td>drift_KBF  </td><td>NA</td><td>-(1e-06 + 2 * log1p_exp(-(2 * param)))</td><td>FALSE</td><td> 1</td><td>FALSE</td><td>FALSE</td><td>FALSE</td></tr>\n",
       "\t<tr><th scope=row>20</th><td>DRIFT  </td><td>1</td><td>2</td><td>NA         </td><td> 0</td><td>NA                                    </td><td>FALSE</td><td>NA</td><td>FALSE</td><td>FALSE</td><td>FALSE</td></tr>\n",
       "\t<tr><th scope=row>21</th><td>DRIFT  </td><td>1</td><td>3</td><td>NA         </td><td> 1</td><td>NA                                    </td><td>FALSE</td><td>NA</td><td>FALSE</td><td>FALSE</td><td>FALSE</td></tr>\n",
       "\t<tr><th scope=row>22</th><td>DRIFT  </td><td>1</td><td>4</td><td>NA         </td><td> 0</td><td>NA                                    </td><td>FALSE</td><td>NA</td><td>FALSE</td><td>FALSE</td><td>FALSE</td></tr>\n",
       "\t<tr><th scope=row>23</th><td>DRIFT  </td><td>1</td><td>5</td><td>NA         </td><td> 0</td><td>NA                                    </td><td>FALSE</td><td>NA</td><td>FALSE</td><td>FALSE</td><td>FALSE</td></tr>\n",
       "\t<tr><th scope=row>24</th><td>DRIFT  </td><td>1</td><td>6</td><td>NA         </td><td> 0</td><td>NA                                    </td><td>FALSE</td><td>NA</td><td>FALSE</td><td>FALSE</td><td>FALSE</td></tr>\n",
       "\t<tr><th scope=row>25</th><td>DRIFT  </td><td>2</td><td>1</td><td>NA         </td><td> 0</td><td>NA                                    </td><td>FALSE</td><td>NA</td><td>FALSE</td><td>FALSE</td><td>FALSE</td></tr>\n",
       "\t<tr><th scope=row>26</th><td>DRIFT  </td><td>2</td><td>2</td><td>drift_VTD  </td><td>NA</td><td>-(1e-06 + 2 * log1p_exp(-(2 * param)))</td><td>FALSE</td><td> 1</td><td>FALSE</td><td>FALSE</td><td>FALSE</td></tr>\n",
       "\t<tr><th scope=row>27</th><td>DRIFT  </td><td>2</td><td>3</td><td>NA         </td><td> 0</td><td>NA                                    </td><td>FALSE</td><td>NA</td><td>FALSE</td><td>FALSE</td><td>FALSE</td></tr>\n",
       "\t<tr><th scope=row>28</th><td>DRIFT  </td><td>2</td><td>4</td><td>NA         </td><td> 1</td><td>NA                                    </td><td>FALSE</td><td>NA</td><td>FALSE</td><td>FALSE</td><td>FALSE</td></tr>\n",
       "\t<tr><th scope=row>29</th><td>DRIFT  </td><td>2</td><td>5</td><td>NA         </td><td> 0</td><td>NA                                    </td><td>FALSE</td><td>NA</td><td>FALSE</td><td>FALSE</td><td>FALSE</td></tr>\n",
       "\t<tr><th scope=row>30</th><td>DRIFT  </td><td>2</td><td>6</td><td>NA         </td><td> 0</td><td>NA                                    </td><td>FALSE</td><td>NA</td><td>FALSE</td><td>FALSE</td><td>FALSE</td></tr>\n",
       "\t<tr><th scope=row>...</th><td>...</td><td>...</td><td>...</td><td>...</td><td>...</td><td>...</td><td>...</td><td>...</td><td>...</td><td>...</td><td>...</td></tr>\n",
       "\t<tr><th scope=row>109</th><td>T0VAR</td><td>2</td><td>1</td><td>T0var_VTD_KBF        </td><td>NA</td><td>2/(1 + exp(-param)) - 1         </td><td>FALSE</td><td> 1</td><td>FALSE</td><td>FALSE</td><td>FALSE</td></tr>\n",
       "\t<tr><th scope=row>110</th><td>T0VAR</td><td>2</td><td>2</td><td>T0var_VTD            </td><td>NA</td><td>1e-10 + 5 * log1p_exp(2 * param)</td><td>FALSE</td><td> 1</td><td>FALSE</td><td>FALSE</td><td>FALSE</td></tr>\n",
       "\t<tr><th scope=row>111</th><td>T0VAR</td><td>2</td><td>3</td><td>NA                   </td><td> 0</td><td>NA                              </td><td>FALSE</td><td>NA</td><td>FALSE</td><td>FALSE</td><td>FALSE</td></tr>\n",
       "\t<tr><th scope=row>112</th><td>T0VAR</td><td>2</td><td>4</td><td>NA                   </td><td> 0</td><td>NA                              </td><td>FALSE</td><td>NA</td><td>FALSE</td><td>FALSE</td><td>FALSE</td></tr>\n",
       "\t<tr><th scope=row>113</th><td>T0VAR</td><td>2</td><td>5</td><td>NA                   </td><td> 0</td><td>NA                              </td><td>FALSE</td><td>NA</td><td>FALSE</td><td>FALSE</td><td>FALSE</td></tr>\n",
       "\t<tr><th scope=row>114</th><td>T0VAR</td><td>2</td><td>6</td><td>NA                   </td><td> 0</td><td>NA                              </td><td>FALSE</td><td>NA</td><td>FALSE</td><td>FALSE</td><td>FALSE</td></tr>\n",
       "\t<tr><th scope=row>115</th><td>T0VAR</td><td>3</td><td>1</td><td>T0var_cintKBF_KBF    </td><td>NA</td><td>2/(1 + exp(-param)) - 1         </td><td>FALSE</td><td> 1</td><td>FALSE</td><td>FALSE</td><td>FALSE</td></tr>\n",
       "\t<tr><th scope=row>116</th><td>T0VAR</td><td>3</td><td>2</td><td>T0var_cintKBF_VTD    </td><td>NA</td><td>2/(1 + exp(-param)) - 1         </td><td>FALSE</td><td> 1</td><td>FALSE</td><td>FALSE</td><td>FALSE</td></tr>\n",
       "\t<tr><th scope=row>117</th><td>T0VAR</td><td>3</td><td>3</td><td>T0var_cintKBF        </td><td>NA</td><td>1e-10 + 5 * log1p_exp(2 * param)</td><td>FALSE</td><td> 1</td><td>FALSE</td><td>FALSE</td><td>FALSE</td></tr>\n",
       "\t<tr><th scope=row>118</th><td>T0VAR</td><td>3</td><td>4</td><td>NA                   </td><td> 0</td><td>NA                              </td><td>FALSE</td><td>NA</td><td>FALSE</td><td>FALSE</td><td>FALSE</td></tr>\n",
       "\t<tr><th scope=row>119</th><td>T0VAR</td><td>3</td><td>5</td><td>NA                   </td><td> 0</td><td>NA                              </td><td>FALSE</td><td>NA</td><td>FALSE</td><td>FALSE</td><td>FALSE</td></tr>\n",
       "\t<tr><th scope=row>120</th><td>T0VAR</td><td>3</td><td>6</td><td>NA                   </td><td> 0</td><td>NA                              </td><td>FALSE</td><td>NA</td><td>FALSE</td><td>FALSE</td><td>FALSE</td></tr>\n",
       "\t<tr><th scope=row>121</th><td>T0VAR</td><td>4</td><td>1</td><td>T0var_cintVTD_KBF    </td><td>NA</td><td>2/(1 + exp(-param)) - 1         </td><td>FALSE</td><td> 1</td><td>FALSE</td><td>FALSE</td><td>FALSE</td></tr>\n",
       "\t<tr><th scope=row>122</th><td>T0VAR</td><td>4</td><td>2</td><td>T0var_cintVTD_VTD    </td><td>NA</td><td>2/(1 + exp(-param)) - 1         </td><td>FALSE</td><td> 1</td><td>FALSE</td><td>FALSE</td><td>FALSE</td></tr>\n",
       "\t<tr><th scope=row>123</th><td>T0VAR</td><td>4</td><td>3</td><td>T0var_cintVTD_cintKBF</td><td>NA</td><td>2/(1 + exp(-param)) - 1         </td><td>FALSE</td><td> 1</td><td>FALSE</td><td>FALSE</td><td>FALSE</td></tr>\n",
       "\t<tr><th scope=row>124</th><td>T0VAR</td><td>4</td><td>4</td><td>T0var_cintVTD        </td><td>NA</td><td>1e-10 + 5 * log1p_exp(2 * param)</td><td>FALSE</td><td> 1</td><td>FALSE</td><td>FALSE</td><td>FALSE</td></tr>\n",
       "\t<tr><th scope=row>125</th><td>T0VAR</td><td>4</td><td>5</td><td>NA                   </td><td> 0</td><td>NA                              </td><td>FALSE</td><td>NA</td><td>FALSE</td><td>FALSE</td><td>FALSE</td></tr>\n",
       "\t<tr><th scope=row>126</th><td>T0VAR</td><td>4</td><td>6</td><td>NA                   </td><td> 0</td><td>NA                              </td><td>FALSE</td><td>NA</td><td>FALSE</td><td>FALSE</td><td>FALSE</td></tr>\n",
       "\t<tr><th scope=row>127</th><td>T0VAR</td><td>5</td><td>1</td><td>NA                   </td><td> 0</td><td>NA                              </td><td>FALSE</td><td>NA</td><td>FALSE</td><td>FALSE</td><td>FALSE</td></tr>\n",
       "\t<tr><th scope=row>128</th><td>T0VAR</td><td>5</td><td>2</td><td>NA                   </td><td> 0</td><td>NA                              </td><td>FALSE</td><td>NA</td><td>FALSE</td><td>FALSE</td><td>FALSE</td></tr>\n",
       "\t<tr><th scope=row>129</th><td>T0VAR</td><td>5</td><td>3</td><td>NA                   </td><td> 0</td><td>NA                              </td><td>FALSE</td><td>NA</td><td>FALSE</td><td>FALSE</td><td>FALSE</td></tr>\n",
       "\t<tr><th scope=row>130</th><td>T0VAR</td><td>5</td><td>4</td><td>NA                   </td><td> 0</td><td>NA                              </td><td>FALSE</td><td>NA</td><td>FALSE</td><td>FALSE</td><td>FALSE</td></tr>\n",
       "\t<tr><th scope=row>131</th><td>T0VAR</td><td>5</td><td>5</td><td>NA                   </td><td> 0</td><td>NA                              </td><td>FALSE</td><td>NA</td><td>FALSE</td><td>FALSE</td><td>FALSE</td></tr>\n",
       "\t<tr><th scope=row>132</th><td>T0VAR</td><td>5</td><td>6</td><td>NA                   </td><td> 0</td><td>NA                              </td><td>FALSE</td><td>NA</td><td>FALSE</td><td>FALSE</td><td>FALSE</td></tr>\n",
       "\t<tr><th scope=row>133</th><td>T0VAR</td><td>6</td><td>1</td><td>NA                   </td><td> 0</td><td>NA                              </td><td>FALSE</td><td>NA</td><td>FALSE</td><td>FALSE</td><td>FALSE</td></tr>\n",
       "\t<tr><th scope=row>134</th><td>T0VAR</td><td>6</td><td>2</td><td>NA                   </td><td> 0</td><td>NA                              </td><td>FALSE</td><td>NA</td><td>FALSE</td><td>FALSE</td><td>FALSE</td></tr>\n",
       "\t<tr><th scope=row>135</th><td>T0VAR</td><td>6</td><td>3</td><td>NA                   </td><td> 0</td><td>NA                              </td><td>FALSE</td><td>NA</td><td>FALSE</td><td>FALSE</td><td>FALSE</td></tr>\n",
       "\t<tr><th scope=row>136</th><td>T0VAR</td><td>6</td><td>4</td><td>NA                   </td><td> 0</td><td>NA                              </td><td>FALSE</td><td>NA</td><td>FALSE</td><td>FALSE</td><td>FALSE</td></tr>\n",
       "\t<tr><th scope=row>137</th><td>T0VAR</td><td>6</td><td>5</td><td>NA                   </td><td> 0</td><td>NA                              </td><td>FALSE</td><td>NA</td><td>FALSE</td><td>FALSE</td><td>FALSE</td></tr>\n",
       "\t<tr><th scope=row>138</th><td>T0VAR</td><td>6</td><td>6</td><td>NA                   </td><td> 0</td><td>NA                              </td><td>FALSE</td><td>NA</td><td>FALSE</td><td>FALSE</td><td>FALSE</td></tr>\n",
       "</tbody>\n",
       "</table>\n"
      ],
      "text/latex": [
       "A data.frame: 138 × 11\n",
       "\\begin{tabular}{r|lllllllllll}\n",
       "  & matrix & row & col & param & value & transform & indvarying & sdscale & Is\\_exp3\\_effect & Is\\_exp2\\_effect & IsOFH\\_effect\\\\\n",
       "  & <chr> & <int> & <int> & <chr> & <dbl> & <chr> & <lgl> & <dbl> & <lgl> & <lgl> & <lgl>\\\\\n",
       "\\hline\n",
       "\t1 & T0MEANS & 1 & 1 & T0m\\_KBF     & NA & 10 * param                             &  TRUE &  1 & FALSE & FALSE & FALSE\\\\\n",
       "\t2 & T0MEANS & 2 & 1 & T0m\\_VTD     & NA & 10 * param                             &  TRUE &  1 & FALSE & FALSE & FALSE\\\\\n",
       "\t3 & T0MEANS & 3 & 1 & T0m\\_cintKBF & NA & 10 * param                             &  TRUE &  1 & FALSE & FALSE & FALSE\\\\\n",
       "\t4 & T0MEANS & 4 & 1 & T0m\\_cintVTD & NA & 10 * param                             &  TRUE &  1 & FALSE & FALSE & FALSE\\\\\n",
       "\t5 & T0MEANS & 5 & 1 & NA          &  0 & NA                                     &  TRUE & NA & FALSE & FALSE & FALSE\\\\\n",
       "\t6 & T0MEANS & 6 & 1 & NA          &  0 & NA                                     &  TRUE & NA & FALSE & FALSE & FALSE\\\\\n",
       "\t7 & LAMBDA  & 1 & 1 & NA          &  1 & NA                                     & FALSE & NA & FALSE & FALSE & FALSE\\\\\n",
       "\t8 & LAMBDA  & 1 & 2 & NA          &  0 & NA                                     & FALSE & NA & FALSE & FALSE & FALSE\\\\\n",
       "\t9 & LAMBDA  & 1 & 3 & NA          &  0 & NA                                     & FALSE & NA & FALSE & FALSE & FALSE\\\\\n",
       "\t10 & LAMBDA  & 1 & 4 & NA          &  0 & NA                                     & FALSE & NA & FALSE & FALSE & FALSE\\\\\n",
       "\t11 & LAMBDA  & 1 & 5 & NA          &  1 & NA                                     & FALSE & NA & FALSE & FALSE & FALSE\\\\\n",
       "\t12 & LAMBDA  & 1 & 6 & NA          &  0 & NA                                     & FALSE & NA & FALSE & FALSE & FALSE\\\\\n",
       "\t13 & LAMBDA  & 2 & 1 & NA          &  0 & NA                                     & FALSE & NA & FALSE & FALSE & FALSE\\\\\n",
       "\t14 & LAMBDA  & 2 & 2 & NA          &  1 & NA                                     & FALSE & NA & FALSE & FALSE & FALSE\\\\\n",
       "\t15 & LAMBDA  & 2 & 3 & NA          &  0 & NA                                     & FALSE & NA & FALSE & FALSE & FALSE\\\\\n",
       "\t16 & LAMBDA  & 2 & 4 & NA          &  0 & NA                                     & FALSE & NA & FALSE & FALSE & FALSE\\\\\n",
       "\t17 & LAMBDA  & 2 & 5 & NA          &  0 & NA                                     & FALSE & NA & FALSE & FALSE & FALSE\\\\\n",
       "\t18 & LAMBDA  & 2 & 6 & NA          &  1 & NA                                     & FALSE & NA & FALSE & FALSE & FALSE\\\\\n",
       "\t19 & DRIFT   & 1 & 1 & drift\\_KBF   & NA & -(1e-06 + 2 * log1p\\_exp(-(2 * param))) & FALSE &  1 & FALSE & FALSE & FALSE\\\\\n",
       "\t20 & DRIFT   & 1 & 2 & NA          &  0 & NA                                     & FALSE & NA & FALSE & FALSE & FALSE\\\\\n",
       "\t21 & DRIFT   & 1 & 3 & NA          &  1 & NA                                     & FALSE & NA & FALSE & FALSE & FALSE\\\\\n",
       "\t22 & DRIFT   & 1 & 4 & NA          &  0 & NA                                     & FALSE & NA & FALSE & FALSE & FALSE\\\\\n",
       "\t23 & DRIFT   & 1 & 5 & NA          &  0 & NA                                     & FALSE & NA & FALSE & FALSE & FALSE\\\\\n",
       "\t24 & DRIFT   & 1 & 6 & NA          &  0 & NA                                     & FALSE & NA & FALSE & FALSE & FALSE\\\\\n",
       "\t25 & DRIFT   & 2 & 1 & NA          &  0 & NA                                     & FALSE & NA & FALSE & FALSE & FALSE\\\\\n",
       "\t26 & DRIFT   & 2 & 2 & drift\\_VTD   & NA & -(1e-06 + 2 * log1p\\_exp(-(2 * param))) & FALSE &  1 & FALSE & FALSE & FALSE\\\\\n",
       "\t27 & DRIFT   & 2 & 3 & NA          &  0 & NA                                     & FALSE & NA & FALSE & FALSE & FALSE\\\\\n",
       "\t28 & DRIFT   & 2 & 4 & NA          &  1 & NA                                     & FALSE & NA & FALSE & FALSE & FALSE\\\\\n",
       "\t29 & DRIFT   & 2 & 5 & NA          &  0 & NA                                     & FALSE & NA & FALSE & FALSE & FALSE\\\\\n",
       "\t30 & DRIFT   & 2 & 6 & NA          &  0 & NA                                     & FALSE & NA & FALSE & FALSE & FALSE\\\\\n",
       "\t... & ... & ... & ... & ... & ... & ... & ... & ... & ... & ... & ...\\\\\n",
       "\t109 & T0VAR & 2 & 1 & T0var\\_VTD\\_KBF         & NA & 2/(1 + exp(-param)) - 1          & FALSE &  1 & FALSE & FALSE & FALSE\\\\\n",
       "\t110 & T0VAR & 2 & 2 & T0var\\_VTD             & NA & 1e-10 + 5 * log1p\\_exp(2 * param) & FALSE &  1 & FALSE & FALSE & FALSE\\\\\n",
       "\t111 & T0VAR & 2 & 3 & NA                    &  0 & NA                               & FALSE & NA & FALSE & FALSE & FALSE\\\\\n",
       "\t112 & T0VAR & 2 & 4 & NA                    &  0 & NA                               & FALSE & NA & FALSE & FALSE & FALSE\\\\\n",
       "\t113 & T0VAR & 2 & 5 & NA                    &  0 & NA                               & FALSE & NA & FALSE & FALSE & FALSE\\\\\n",
       "\t114 & T0VAR & 2 & 6 & NA                    &  0 & NA                               & FALSE & NA & FALSE & FALSE & FALSE\\\\\n",
       "\t115 & T0VAR & 3 & 1 & T0var\\_cintKBF\\_KBF     & NA & 2/(1 + exp(-param)) - 1          & FALSE &  1 & FALSE & FALSE & FALSE\\\\\n",
       "\t116 & T0VAR & 3 & 2 & T0var\\_cintKBF\\_VTD     & NA & 2/(1 + exp(-param)) - 1          & FALSE &  1 & FALSE & FALSE & FALSE\\\\\n",
       "\t117 & T0VAR & 3 & 3 & T0var\\_cintKBF         & NA & 1e-10 + 5 * log1p\\_exp(2 * param) & FALSE &  1 & FALSE & FALSE & FALSE\\\\\n",
       "\t118 & T0VAR & 3 & 4 & NA                    &  0 & NA                               & FALSE & NA & FALSE & FALSE & FALSE\\\\\n",
       "\t119 & T0VAR & 3 & 5 & NA                    &  0 & NA                               & FALSE & NA & FALSE & FALSE & FALSE\\\\\n",
       "\t120 & T0VAR & 3 & 6 & NA                    &  0 & NA                               & FALSE & NA & FALSE & FALSE & FALSE\\\\\n",
       "\t121 & T0VAR & 4 & 1 & T0var\\_cintVTD\\_KBF     & NA & 2/(1 + exp(-param)) - 1          & FALSE &  1 & FALSE & FALSE & FALSE\\\\\n",
       "\t122 & T0VAR & 4 & 2 & T0var\\_cintVTD\\_VTD     & NA & 2/(1 + exp(-param)) - 1          & FALSE &  1 & FALSE & FALSE & FALSE\\\\\n",
       "\t123 & T0VAR & 4 & 3 & T0var\\_cintVTD\\_cintKBF & NA & 2/(1 + exp(-param)) - 1          & FALSE &  1 & FALSE & FALSE & FALSE\\\\\n",
       "\t124 & T0VAR & 4 & 4 & T0var\\_cintVTD         & NA & 1e-10 + 5 * log1p\\_exp(2 * param) & FALSE &  1 & FALSE & FALSE & FALSE\\\\\n",
       "\t125 & T0VAR & 4 & 5 & NA                    &  0 & NA                               & FALSE & NA & FALSE & FALSE & FALSE\\\\\n",
       "\t126 & T0VAR & 4 & 6 & NA                    &  0 & NA                               & FALSE & NA & FALSE & FALSE & FALSE\\\\\n",
       "\t127 & T0VAR & 5 & 1 & NA                    &  0 & NA                               & FALSE & NA & FALSE & FALSE & FALSE\\\\\n",
       "\t128 & T0VAR & 5 & 2 & NA                    &  0 & NA                               & FALSE & NA & FALSE & FALSE & FALSE\\\\\n",
       "\t129 & T0VAR & 5 & 3 & NA                    &  0 & NA                               & FALSE & NA & FALSE & FALSE & FALSE\\\\\n",
       "\t130 & T0VAR & 5 & 4 & NA                    &  0 & NA                               & FALSE & NA & FALSE & FALSE & FALSE\\\\\n",
       "\t131 & T0VAR & 5 & 5 & NA                    &  0 & NA                               & FALSE & NA & FALSE & FALSE & FALSE\\\\\n",
       "\t132 & T0VAR & 5 & 6 & NA                    &  0 & NA                               & FALSE & NA & FALSE & FALSE & FALSE\\\\\n",
       "\t133 & T0VAR & 6 & 1 & NA                    &  0 & NA                               & FALSE & NA & FALSE & FALSE & FALSE\\\\\n",
       "\t134 & T0VAR & 6 & 2 & NA                    &  0 & NA                               & FALSE & NA & FALSE & FALSE & FALSE\\\\\n",
       "\t135 & T0VAR & 6 & 3 & NA                    &  0 & NA                               & FALSE & NA & FALSE & FALSE & FALSE\\\\\n",
       "\t136 & T0VAR & 6 & 4 & NA                    &  0 & NA                               & FALSE & NA & FALSE & FALSE & FALSE\\\\\n",
       "\t137 & T0VAR & 6 & 5 & NA                    &  0 & NA                               & FALSE & NA & FALSE & FALSE & FALSE\\\\\n",
       "\t138 & T0VAR & 6 & 6 & NA                    &  0 & NA                               & FALSE & NA & FALSE & FALSE & FALSE\\\\\n",
       "\\end{tabular}\n"
      ],
      "text/markdown": [
       "\n",
       "A data.frame: 138 × 11\n",
       "\n",
       "| <!--/--> | matrix &lt;chr&gt; | row &lt;int&gt; | col &lt;int&gt; | param &lt;chr&gt; | value &lt;dbl&gt; | transform &lt;chr&gt; | indvarying &lt;lgl&gt; | sdscale &lt;dbl&gt; | Is_exp3_effect &lt;lgl&gt; | Is_exp2_effect &lt;lgl&gt; | IsOFH_effect &lt;lgl&gt; |\n",
       "|---|---|---|---|---|---|---|---|---|---|---|---|\n",
       "| 1 | T0MEANS | 1 | 1 | T0m_KBF     | NA | 10 * param                             |  TRUE |  1 | FALSE | FALSE | FALSE |\n",
       "| 2 | T0MEANS | 2 | 1 | T0m_VTD     | NA | 10 * param                             |  TRUE |  1 | FALSE | FALSE | FALSE |\n",
       "| 3 | T0MEANS | 3 | 1 | T0m_cintKBF | NA | 10 * param                             |  TRUE |  1 | FALSE | FALSE | FALSE |\n",
       "| 4 | T0MEANS | 4 | 1 | T0m_cintVTD | NA | 10 * param                             |  TRUE |  1 | FALSE | FALSE | FALSE |\n",
       "| 5 | T0MEANS | 5 | 1 | NA          |  0 | NA                                     |  TRUE | NA | FALSE | FALSE | FALSE |\n",
       "| 6 | T0MEANS | 6 | 1 | NA          |  0 | NA                                     |  TRUE | NA | FALSE | FALSE | FALSE |\n",
       "| 7 | LAMBDA  | 1 | 1 | NA          |  1 | NA                                     | FALSE | NA | FALSE | FALSE | FALSE |\n",
       "| 8 | LAMBDA  | 1 | 2 | NA          |  0 | NA                                     | FALSE | NA | FALSE | FALSE | FALSE |\n",
       "| 9 | LAMBDA  | 1 | 3 | NA          |  0 | NA                                     | FALSE | NA | FALSE | FALSE | FALSE |\n",
       "| 10 | LAMBDA  | 1 | 4 | NA          |  0 | NA                                     | FALSE | NA | FALSE | FALSE | FALSE |\n",
       "| 11 | LAMBDA  | 1 | 5 | NA          |  1 | NA                                     | FALSE | NA | FALSE | FALSE | FALSE |\n",
       "| 12 | LAMBDA  | 1 | 6 | NA          |  0 | NA                                     | FALSE | NA | FALSE | FALSE | FALSE |\n",
       "| 13 | LAMBDA  | 2 | 1 | NA          |  0 | NA                                     | FALSE | NA | FALSE | FALSE | FALSE |\n",
       "| 14 | LAMBDA  | 2 | 2 | NA          |  1 | NA                                     | FALSE | NA | FALSE | FALSE | FALSE |\n",
       "| 15 | LAMBDA  | 2 | 3 | NA          |  0 | NA                                     | FALSE | NA | FALSE | FALSE | FALSE |\n",
       "| 16 | LAMBDA  | 2 | 4 | NA          |  0 | NA                                     | FALSE | NA | FALSE | FALSE | FALSE |\n",
       "| 17 | LAMBDA  | 2 | 5 | NA          |  0 | NA                                     | FALSE | NA | FALSE | FALSE | FALSE |\n",
       "| 18 | LAMBDA  | 2 | 6 | NA          |  1 | NA                                     | FALSE | NA | FALSE | FALSE | FALSE |\n",
       "| 19 | DRIFT   | 1 | 1 | drift_KBF   | NA | -(1e-06 + 2 * log1p_exp(-(2 * param))) | FALSE |  1 | FALSE | FALSE | FALSE |\n",
       "| 20 | DRIFT   | 1 | 2 | NA          |  0 | NA                                     | FALSE | NA | FALSE | FALSE | FALSE |\n",
       "| 21 | DRIFT   | 1 | 3 | NA          |  1 | NA                                     | FALSE | NA | FALSE | FALSE | FALSE |\n",
       "| 22 | DRIFT   | 1 | 4 | NA          |  0 | NA                                     | FALSE | NA | FALSE | FALSE | FALSE |\n",
       "| 23 | DRIFT   | 1 | 5 | NA          |  0 | NA                                     | FALSE | NA | FALSE | FALSE | FALSE |\n",
       "| 24 | DRIFT   | 1 | 6 | NA          |  0 | NA                                     | FALSE | NA | FALSE | FALSE | FALSE |\n",
       "| 25 | DRIFT   | 2 | 1 | NA          |  0 | NA                                     | FALSE | NA | FALSE | FALSE | FALSE |\n",
       "| 26 | DRIFT   | 2 | 2 | drift_VTD   | NA | -(1e-06 + 2 * log1p_exp(-(2 * param))) | FALSE |  1 | FALSE | FALSE | FALSE |\n",
       "| 27 | DRIFT   | 2 | 3 | NA          |  0 | NA                                     | FALSE | NA | FALSE | FALSE | FALSE |\n",
       "| 28 | DRIFT   | 2 | 4 | NA          |  1 | NA                                     | FALSE | NA | FALSE | FALSE | FALSE |\n",
       "| 29 | DRIFT   | 2 | 5 | NA          |  0 | NA                                     | FALSE | NA | FALSE | FALSE | FALSE |\n",
       "| 30 | DRIFT   | 2 | 6 | NA          |  0 | NA                                     | FALSE | NA | FALSE | FALSE | FALSE |\n",
       "| ... | ... | ... | ... | ... | ... | ... | ... | ... | ... | ... | ... |\n",
       "| 109 | T0VAR | 2 | 1 | T0var_VTD_KBF         | NA | 2/(1 + exp(-param)) - 1          | FALSE |  1 | FALSE | FALSE | FALSE |\n",
       "| 110 | T0VAR | 2 | 2 | T0var_VTD             | NA | 1e-10 + 5 * log1p_exp(2 * param) | FALSE |  1 | FALSE | FALSE | FALSE |\n",
       "| 111 | T0VAR | 2 | 3 | NA                    |  0 | NA                               | FALSE | NA | FALSE | FALSE | FALSE |\n",
       "| 112 | T0VAR | 2 | 4 | NA                    |  0 | NA                               | FALSE | NA | FALSE | FALSE | FALSE |\n",
       "| 113 | T0VAR | 2 | 5 | NA                    |  0 | NA                               | FALSE | NA | FALSE | FALSE | FALSE |\n",
       "| 114 | T0VAR | 2 | 6 | NA                    |  0 | NA                               | FALSE | NA | FALSE | FALSE | FALSE |\n",
       "| 115 | T0VAR | 3 | 1 | T0var_cintKBF_KBF     | NA | 2/(1 + exp(-param)) - 1          | FALSE |  1 | FALSE | FALSE | FALSE |\n",
       "| 116 | T0VAR | 3 | 2 | T0var_cintKBF_VTD     | NA | 2/(1 + exp(-param)) - 1          | FALSE |  1 | FALSE | FALSE | FALSE |\n",
       "| 117 | T0VAR | 3 | 3 | T0var_cintKBF         | NA | 1e-10 + 5 * log1p_exp(2 * param) | FALSE |  1 | FALSE | FALSE | FALSE |\n",
       "| 118 | T0VAR | 3 | 4 | NA                    |  0 | NA                               | FALSE | NA | FALSE | FALSE | FALSE |\n",
       "| 119 | T0VAR | 3 | 5 | NA                    |  0 | NA                               | FALSE | NA | FALSE | FALSE | FALSE |\n",
       "| 120 | T0VAR | 3 | 6 | NA                    |  0 | NA                               | FALSE | NA | FALSE | FALSE | FALSE |\n",
       "| 121 | T0VAR | 4 | 1 | T0var_cintVTD_KBF     | NA | 2/(1 + exp(-param)) - 1          | FALSE |  1 | FALSE | FALSE | FALSE |\n",
       "| 122 | T0VAR | 4 | 2 | T0var_cintVTD_VTD     | NA | 2/(1 + exp(-param)) - 1          | FALSE |  1 | FALSE | FALSE | FALSE |\n",
       "| 123 | T0VAR | 4 | 3 | T0var_cintVTD_cintKBF | NA | 2/(1 + exp(-param)) - 1          | FALSE |  1 | FALSE | FALSE | FALSE |\n",
       "| 124 | T0VAR | 4 | 4 | T0var_cintVTD         | NA | 1e-10 + 5 * log1p_exp(2 * param) | FALSE |  1 | FALSE | FALSE | FALSE |\n",
       "| 125 | T0VAR | 4 | 5 | NA                    |  0 | NA                               | FALSE | NA | FALSE | FALSE | FALSE |\n",
       "| 126 | T0VAR | 4 | 6 | NA                    |  0 | NA                               | FALSE | NA | FALSE | FALSE | FALSE |\n",
       "| 127 | T0VAR | 5 | 1 | NA                    |  0 | NA                               | FALSE | NA | FALSE | FALSE | FALSE |\n",
       "| 128 | T0VAR | 5 | 2 | NA                    |  0 | NA                               | FALSE | NA | FALSE | FALSE | FALSE |\n",
       "| 129 | T0VAR | 5 | 3 | NA                    |  0 | NA                               | FALSE | NA | FALSE | FALSE | FALSE |\n",
       "| 130 | T0VAR | 5 | 4 | NA                    |  0 | NA                               | FALSE | NA | FALSE | FALSE | FALSE |\n",
       "| 131 | T0VAR | 5 | 5 | NA                    |  0 | NA                               | FALSE | NA | FALSE | FALSE | FALSE |\n",
       "| 132 | T0VAR | 5 | 6 | NA                    |  0 | NA                               | FALSE | NA | FALSE | FALSE | FALSE |\n",
       "| 133 | T0VAR | 6 | 1 | NA                    |  0 | NA                               | FALSE | NA | FALSE | FALSE | FALSE |\n",
       "| 134 | T0VAR | 6 | 2 | NA                    |  0 | NA                               | FALSE | NA | FALSE | FALSE | FALSE |\n",
       "| 135 | T0VAR | 6 | 3 | NA                    |  0 | NA                               | FALSE | NA | FALSE | FALSE | FALSE |\n",
       "| 136 | T0VAR | 6 | 4 | NA                    |  0 | NA                               | FALSE | NA | FALSE | FALSE | FALSE |\n",
       "| 137 | T0VAR | 6 | 5 | NA                    |  0 | NA                               | FALSE | NA | FALSE | FALSE | FALSE |\n",
       "| 138 | T0VAR | 6 | 6 | NA                    |  0 | NA                               | FALSE | NA | FALSE | FALSE | FALSE |\n",
       "\n"
      ],
      "text/plain": [
       "    matrix  row col param                 value\n",
       "1   T0MEANS 1   1   T0m_KBF               NA   \n",
       "2   T0MEANS 2   1   T0m_VTD               NA   \n",
       "3   T0MEANS 3   1   T0m_cintKBF           NA   \n",
       "4   T0MEANS 4   1   T0m_cintVTD           NA   \n",
       "5   T0MEANS 5   1   NA                     0   \n",
       "6   T0MEANS 6   1   NA                     0   \n",
       "7   LAMBDA  1   1   NA                     1   \n",
       "8   LAMBDA  1   2   NA                     0   \n",
       "9   LAMBDA  1   3   NA                     0   \n",
       "10  LAMBDA  1   4   NA                     0   \n",
       "11  LAMBDA  1   5   NA                     1   \n",
       "12  LAMBDA  1   6   NA                     0   \n",
       "13  LAMBDA  2   1   NA                     0   \n",
       "14  LAMBDA  2   2   NA                     1   \n",
       "15  LAMBDA  2   3   NA                     0   \n",
       "16  LAMBDA  2   4   NA                     0   \n",
       "17  LAMBDA  2   5   NA                     0   \n",
       "18  LAMBDA  2   6   NA                     1   \n",
       "19  DRIFT   1   1   drift_KBF             NA   \n",
       "20  DRIFT   1   2   NA                     0   \n",
       "21  DRIFT   1   3   NA                     1   \n",
       "22  DRIFT   1   4   NA                     0   \n",
       "23  DRIFT   1   5   NA                     0   \n",
       "24  DRIFT   1   6   NA                     0   \n",
       "25  DRIFT   2   1   NA                     0   \n",
       "26  DRIFT   2   2   drift_VTD             NA   \n",
       "27  DRIFT   2   3   NA                     0   \n",
       "28  DRIFT   2   4   NA                     1   \n",
       "29  DRIFT   2   5   NA                     0   \n",
       "30  DRIFT   2   6   NA                     0   \n",
       "... ...     ... ... ...                   ...  \n",
       "109 T0VAR   2   1   T0var_VTD_KBF         NA   \n",
       "110 T0VAR   2   2   T0var_VTD             NA   \n",
       "111 T0VAR   2   3   NA                     0   \n",
       "112 T0VAR   2   4   NA                     0   \n",
       "113 T0VAR   2   5   NA                     0   \n",
       "114 T0VAR   2   6   NA                     0   \n",
       "115 T0VAR   3   1   T0var_cintKBF_KBF     NA   \n",
       "116 T0VAR   3   2   T0var_cintKBF_VTD     NA   \n",
       "117 T0VAR   3   3   T0var_cintKBF         NA   \n",
       "118 T0VAR   3   4   NA                     0   \n",
       "119 T0VAR   3   5   NA                     0   \n",
       "120 T0VAR   3   6   NA                     0   \n",
       "121 T0VAR   4   1   T0var_cintVTD_KBF     NA   \n",
       "122 T0VAR   4   2   T0var_cintVTD_VTD     NA   \n",
       "123 T0VAR   4   3   T0var_cintVTD_cintKBF NA   \n",
       "124 T0VAR   4   4   T0var_cintVTD         NA   \n",
       "125 T0VAR   4   5   NA                     0   \n",
       "126 T0VAR   4   6   NA                     0   \n",
       "127 T0VAR   5   1   NA                     0   \n",
       "128 T0VAR   5   2   NA                     0   \n",
       "129 T0VAR   5   3   NA                     0   \n",
       "130 T0VAR   5   4   NA                     0   \n",
       "131 T0VAR   5   5   NA                     0   \n",
       "132 T0VAR   5   6   NA                     0   \n",
       "133 T0VAR   6   1   NA                     0   \n",
       "134 T0VAR   6   2   NA                     0   \n",
       "135 T0VAR   6   3   NA                     0   \n",
       "136 T0VAR   6   4   NA                     0   \n",
       "137 T0VAR   6   5   NA                     0   \n",
       "138 T0VAR   6   6   NA                     0   \n",
       "    transform                              indvarying sdscale Is_exp3_effect\n",
       "1   10 * param                              TRUE       1      FALSE         \n",
       "2   10 * param                              TRUE       1      FALSE         \n",
       "3   10 * param                              TRUE       1      FALSE         \n",
       "4   10 * param                              TRUE       1      FALSE         \n",
       "5   NA                                      TRUE      NA      FALSE         \n",
       "6   NA                                      TRUE      NA      FALSE         \n",
       "7   NA                                     FALSE      NA      FALSE         \n",
       "8   NA                                     FALSE      NA      FALSE         \n",
       "9   NA                                     FALSE      NA      FALSE         \n",
       "10  NA                                     FALSE      NA      FALSE         \n",
       "11  NA                                     FALSE      NA      FALSE         \n",
       "12  NA                                     FALSE      NA      FALSE         \n",
       "13  NA                                     FALSE      NA      FALSE         \n",
       "14  NA                                     FALSE      NA      FALSE         \n",
       "15  NA                                     FALSE      NA      FALSE         \n",
       "16  NA                                     FALSE      NA      FALSE         \n",
       "17  NA                                     FALSE      NA      FALSE         \n",
       "18  NA                                     FALSE      NA      FALSE         \n",
       "19  -(1e-06 + 2 * log1p_exp(-(2 * param))) FALSE       1      FALSE         \n",
       "20  NA                                     FALSE      NA      FALSE         \n",
       "21  NA                                     FALSE      NA      FALSE         \n",
       "22  NA                                     FALSE      NA      FALSE         \n",
       "23  NA                                     FALSE      NA      FALSE         \n",
       "24  NA                                     FALSE      NA      FALSE         \n",
       "25  NA                                     FALSE      NA      FALSE         \n",
       "26  -(1e-06 + 2 * log1p_exp(-(2 * param))) FALSE       1      FALSE         \n",
       "27  NA                                     FALSE      NA      FALSE         \n",
       "28  NA                                     FALSE      NA      FALSE         \n",
       "29  NA                                     FALSE      NA      FALSE         \n",
       "30  NA                                     FALSE      NA      FALSE         \n",
       "... ...                                    ...        ...     ...           \n",
       "109 2/(1 + exp(-param)) - 1                FALSE       1      FALSE         \n",
       "110 1e-10 + 5 * log1p_exp(2 * param)       FALSE       1      FALSE         \n",
       "111 NA                                     FALSE      NA      FALSE         \n",
       "112 NA                                     FALSE      NA      FALSE         \n",
       "113 NA                                     FALSE      NA      FALSE         \n",
       "114 NA                                     FALSE      NA      FALSE         \n",
       "115 2/(1 + exp(-param)) - 1                FALSE       1      FALSE         \n",
       "116 2/(1 + exp(-param)) - 1                FALSE       1      FALSE         \n",
       "117 1e-10 + 5 * log1p_exp(2 * param)       FALSE       1      FALSE         \n",
       "118 NA                                     FALSE      NA      FALSE         \n",
       "119 NA                                     FALSE      NA      FALSE         \n",
       "120 NA                                     FALSE      NA      FALSE         \n",
       "121 2/(1 + exp(-param)) - 1                FALSE       1      FALSE         \n",
       "122 2/(1 + exp(-param)) - 1                FALSE       1      FALSE         \n",
       "123 2/(1 + exp(-param)) - 1                FALSE       1      FALSE         \n",
       "124 1e-10 + 5 * log1p_exp(2 * param)       FALSE       1      FALSE         \n",
       "125 NA                                     FALSE      NA      FALSE         \n",
       "126 NA                                     FALSE      NA      FALSE         \n",
       "127 NA                                     FALSE      NA      FALSE         \n",
       "128 NA                                     FALSE      NA      FALSE         \n",
       "129 NA                                     FALSE      NA      FALSE         \n",
       "130 NA                                     FALSE      NA      FALSE         \n",
       "131 NA                                     FALSE      NA      FALSE         \n",
       "132 NA                                     FALSE      NA      FALSE         \n",
       "133 NA                                     FALSE      NA      FALSE         \n",
       "134 NA                                     FALSE      NA      FALSE         \n",
       "135 NA                                     FALSE      NA      FALSE         \n",
       "136 NA                                     FALSE      NA      FALSE         \n",
       "137 NA                                     FALSE      NA      FALSE         \n",
       "138 NA                                     FALSE      NA      FALSE         \n",
       "    Is_exp2_effect IsOFH_effect\n",
       "1   FALSE          FALSE       \n",
       "2   FALSE          FALSE       \n",
       "3   FALSE          FALSE       \n",
       "4   FALSE          FALSE       \n",
       "5   FALSE          FALSE       \n",
       "6   FALSE          FALSE       \n",
       "7   FALSE          FALSE       \n",
       "8   FALSE          FALSE       \n",
       "9   FALSE          FALSE       \n",
       "10  FALSE          FALSE       \n",
       "11  FALSE          FALSE       \n",
       "12  FALSE          FALSE       \n",
       "13  FALSE          FALSE       \n",
       "14  FALSE          FALSE       \n",
       "15  FALSE          FALSE       \n",
       "16  FALSE          FALSE       \n",
       "17  FALSE          FALSE       \n",
       "18  FALSE          FALSE       \n",
       "19  FALSE          FALSE       \n",
       "20  FALSE          FALSE       \n",
       "21  FALSE          FALSE       \n",
       "22  FALSE          FALSE       \n",
       "23  FALSE          FALSE       \n",
       "24  FALSE          FALSE       \n",
       "25  FALSE          FALSE       \n",
       "26  FALSE          FALSE       \n",
       "27  FALSE          FALSE       \n",
       "28  FALSE          FALSE       \n",
       "29  FALSE          FALSE       \n",
       "30  FALSE          FALSE       \n",
       "... ...            ...         \n",
       "109 FALSE          FALSE       \n",
       "110 FALSE          FALSE       \n",
       "111 FALSE          FALSE       \n",
       "112 FALSE          FALSE       \n",
       "113 FALSE          FALSE       \n",
       "114 FALSE          FALSE       \n",
       "115 FALSE          FALSE       \n",
       "116 FALSE          FALSE       \n",
       "117 FALSE          FALSE       \n",
       "118 FALSE          FALSE       \n",
       "119 FALSE          FALSE       \n",
       "120 FALSE          FALSE       \n",
       "121 FALSE          FALSE       \n",
       "122 FALSE          FALSE       \n",
       "123 FALSE          FALSE       \n",
       "124 FALSE          FALSE       \n",
       "125 FALSE          FALSE       \n",
       "126 FALSE          FALSE       \n",
       "127 FALSE          FALSE       \n",
       "128 FALSE          FALSE       \n",
       "129 FALSE          FALSE       \n",
       "130 FALSE          FALSE       \n",
       "131 FALSE          FALSE       \n",
       "132 FALSE          FALSE       \n",
       "133 FALSE          FALSE       \n",
       "134 FALSE          FALSE       \n",
       "135 FALSE          FALSE       \n",
       "136 FALSE          FALSE       \n",
       "137 FALSE          FALSE       \n",
       "138 FALSE          FALSE       "
      ]
     },
     "metadata": {},
     "output_type": "display_data"
    }
   ],
   "source": [
    "#initialize the model with two latent each with one manifest variable\n",
    "#LAMBDA: n.manifest*n.latent loading matrix relating latent to manifest variables, with latent process 1:n.latent along the \n",
    "#columns, and manifest variables 1:n.manifest in the rows.\n",
    "#DIFFUSION: lower triangular n.latent*n.latent cholesky matrix of diffusion process variance and covariance (latent error / \n",
    "#dynamic innovation). \"auto\" freely estimates all parameters.\n",
    "#stanct’ for continuous time or ’standt’ for discrete time\n",
    "model_fit = ctModel(type='stanct', n.manifest=2, n.latent=6, id=\"id\", time=\"time\",\n",
    "                    manifestNames=c('Y1','Y2'), latentNames=c('KBF','VTD','cintKBF','cintVTD','dynKBF','dynVTD'), \n",
    "                    T0MEANS=Mt0means, #initial state of dynamical process set to 0\n",
    "                    T0VAR=Mt0var,\n",
    "                    CINT = MCINT,\n",
    "                    MANIFESTMEANS=matrix(c(0,0),ncol=1),\n",
    "                    n.TIpred = 3, TIpredNames=c('Is_exp3','Is_exp2','IsOFH'),\n",
    "                    LAMBDA=matrix(c(1,0, \n",
    "                                    0,1,\n",
    "                                    0,0,\n",
    "                                    0,0,\n",
    "                                    1,0,\n",
    "                                    0,1), ncol=6),  \n",
    "                    DRIFT=Mdrift,\n",
    "                    tipredDefault=FALSE,\n",
    "                    DIFFUSION=Mdiffu) \n",
    "\n",
    "#we let ind. var in trend\n",
    "model_fit$pars$indvarying[model_fit$pars$matrix %in% c('T0MEANS','CINT')] = TRUE\n",
    "#https://discourse.mc-stan.org/t/r-package-ctsem-hierarchical-continuous-time-dynamic-models/117/14\n",
    "#as we want some parameter in the system to vary by subject, we set very tight priors, as some individuals have only 3 timetamps\n",
    "#model_fit$pars$sdscale[model_fit$pars$matrix %in% c('DRIFT')] = 0.05 #only for more complex like drit and manifestvar\n",
    "model_fit$pars"
   ]
  },
  {
   "cell_type": "code",
   "execution_count": 17,
   "id": "796c52ce",
   "metadata": {},
   "outputs": [
    {
     "data": {
      "text/html": [
       "<table class=\"dataframe\">\n",
       "<caption>A data.frame: 12 × 11</caption>\n",
       "<thead>\n",
       "\t<tr><th></th><th scope=col>matrix</th><th scope=col>row</th><th scope=col>col</th><th scope=col>param</th><th scope=col>value</th><th scope=col>transform</th><th scope=col>indvarying</th><th scope=col>sdscale</th><th scope=col>Is_exp3_effect</th><th scope=col>Is_exp2_effect</th><th scope=col>IsOFH_effect</th></tr>\n",
       "\t<tr><th></th><th scope=col>&lt;chr&gt;</th><th scope=col>&lt;int&gt;</th><th scope=col>&lt;int&gt;</th><th scope=col>&lt;chr&gt;</th><th scope=col>&lt;dbl&gt;</th><th scope=col>&lt;chr&gt;</th><th scope=col>&lt;lgl&gt;</th><th scope=col>&lt;dbl&gt;</th><th scope=col>&lt;lgl&gt;</th><th scope=col>&lt;lgl&gt;</th><th scope=col>&lt;lgl&gt;</th></tr>\n",
       "</thead>\n",
       "<tbody>\n",
       "\t<tr><th scope=row>1</th><td>T0MEANS</td><td>1</td><td>1</td><td>T0m_KBF    </td><td>NA</td><td>10 * param</td><td>TRUE</td><td> 1</td><td>TRUE</td><td>TRUE</td><td>TRUE</td></tr>\n",
       "\t<tr><th scope=row>2</th><td>T0MEANS</td><td>2</td><td>1</td><td>T0m_VTD    </td><td>NA</td><td>10 * param</td><td>TRUE</td><td> 1</td><td>TRUE</td><td>TRUE</td><td>TRUE</td></tr>\n",
       "\t<tr><th scope=row>3</th><td>T0MEANS</td><td>3</td><td>1</td><td>T0m_cintKBF</td><td>NA</td><td>10 * param</td><td>TRUE</td><td> 1</td><td>TRUE</td><td>TRUE</td><td>TRUE</td></tr>\n",
       "\t<tr><th scope=row>4</th><td>T0MEANS</td><td>4</td><td>1</td><td>T0m_cintVTD</td><td>NA</td><td>10 * param</td><td>TRUE</td><td> 1</td><td>TRUE</td><td>TRUE</td><td>TRUE</td></tr>\n",
       "\t<tr><th scope=row>5</th><td>T0MEANS</td><td>5</td><td>1</td><td>NA         </td><td> 0</td><td>NA        </td><td>TRUE</td><td>NA</td><td>TRUE</td><td>TRUE</td><td>TRUE</td></tr>\n",
       "\t<tr><th scope=row>6</th><td>T0MEANS</td><td>6</td><td>1</td><td>NA         </td><td> 0</td><td>NA        </td><td>TRUE</td><td>NA</td><td>TRUE</td><td>TRUE</td><td>TRUE</td></tr>\n",
       "\t<tr><th scope=row>97</th><td>CINT   </td><td>1</td><td>1</td><td>NA         </td><td> 0</td><td>NA        </td><td>TRUE</td><td>NA</td><td>TRUE</td><td>TRUE</td><td>TRUE</td></tr>\n",
       "\t<tr><th scope=row>98</th><td>CINT   </td><td>2</td><td>1</td><td>NA         </td><td> 0</td><td>NA        </td><td>TRUE</td><td>NA</td><td>TRUE</td><td>TRUE</td><td>TRUE</td></tr>\n",
       "\t<tr><th scope=row>99</th><td>CINT   </td><td>3</td><td>1</td><td>NA         </td><td> 0</td><td>NA        </td><td>TRUE</td><td>NA</td><td>TRUE</td><td>TRUE</td><td>TRUE</td></tr>\n",
       "\t<tr><th scope=row>100</th><td>CINT   </td><td>4</td><td>1</td><td>NA         </td><td> 0</td><td>NA        </td><td>TRUE</td><td>NA</td><td>TRUE</td><td>TRUE</td><td>TRUE</td></tr>\n",
       "\t<tr><th scope=row>101</th><td>CINT   </td><td>5</td><td>1</td><td>NA         </td><td> 0</td><td>NA        </td><td>TRUE</td><td>NA</td><td>TRUE</td><td>TRUE</td><td>TRUE</td></tr>\n",
       "\t<tr><th scope=row>102</th><td>CINT   </td><td>6</td><td>1</td><td>NA         </td><td> 0</td><td>NA        </td><td>TRUE</td><td>NA</td><td>TRUE</td><td>TRUE</td><td>TRUE</td></tr>\n",
       "</tbody>\n",
       "</table>\n"
      ],
      "text/latex": [
       "A data.frame: 12 × 11\n",
       "\\begin{tabular}{r|lllllllllll}\n",
       "  & matrix & row & col & param & value & transform & indvarying & sdscale & Is\\_exp3\\_effect & Is\\_exp2\\_effect & IsOFH\\_effect\\\\\n",
       "  & <chr> & <int> & <int> & <chr> & <dbl> & <chr> & <lgl> & <dbl> & <lgl> & <lgl> & <lgl>\\\\\n",
       "\\hline\n",
       "\t1 & T0MEANS & 1 & 1 & T0m\\_KBF     & NA & 10 * param & TRUE &  1 & TRUE & TRUE & TRUE\\\\\n",
       "\t2 & T0MEANS & 2 & 1 & T0m\\_VTD     & NA & 10 * param & TRUE &  1 & TRUE & TRUE & TRUE\\\\\n",
       "\t3 & T0MEANS & 3 & 1 & T0m\\_cintKBF & NA & 10 * param & TRUE &  1 & TRUE & TRUE & TRUE\\\\\n",
       "\t4 & T0MEANS & 4 & 1 & T0m\\_cintVTD & NA & 10 * param & TRUE &  1 & TRUE & TRUE & TRUE\\\\\n",
       "\t5 & T0MEANS & 5 & 1 & NA          &  0 & NA         & TRUE & NA & TRUE & TRUE & TRUE\\\\\n",
       "\t6 & T0MEANS & 6 & 1 & NA          &  0 & NA         & TRUE & NA & TRUE & TRUE & TRUE\\\\\n",
       "\t97 & CINT    & 1 & 1 & NA          &  0 & NA         & TRUE & NA & TRUE & TRUE & TRUE\\\\\n",
       "\t98 & CINT    & 2 & 1 & NA          &  0 & NA         & TRUE & NA & TRUE & TRUE & TRUE\\\\\n",
       "\t99 & CINT    & 3 & 1 & NA          &  0 & NA         & TRUE & NA & TRUE & TRUE & TRUE\\\\\n",
       "\t100 & CINT    & 4 & 1 & NA          &  0 & NA         & TRUE & NA & TRUE & TRUE & TRUE\\\\\n",
       "\t101 & CINT    & 5 & 1 & NA          &  0 & NA         & TRUE & NA & TRUE & TRUE & TRUE\\\\\n",
       "\t102 & CINT    & 6 & 1 & NA          &  0 & NA         & TRUE & NA & TRUE & TRUE & TRUE\\\\\n",
       "\\end{tabular}\n"
      ],
      "text/markdown": [
       "\n",
       "A data.frame: 12 × 11\n",
       "\n",
       "| <!--/--> | matrix &lt;chr&gt; | row &lt;int&gt; | col &lt;int&gt; | param &lt;chr&gt; | value &lt;dbl&gt; | transform &lt;chr&gt; | indvarying &lt;lgl&gt; | sdscale &lt;dbl&gt; | Is_exp3_effect &lt;lgl&gt; | Is_exp2_effect &lt;lgl&gt; | IsOFH_effect &lt;lgl&gt; |\n",
       "|---|---|---|---|---|---|---|---|---|---|---|---|\n",
       "| 1 | T0MEANS | 1 | 1 | T0m_KBF     | NA | 10 * param | TRUE |  1 | TRUE | TRUE | TRUE |\n",
       "| 2 | T0MEANS | 2 | 1 | T0m_VTD     | NA | 10 * param | TRUE |  1 | TRUE | TRUE | TRUE |\n",
       "| 3 | T0MEANS | 3 | 1 | T0m_cintKBF | NA | 10 * param | TRUE |  1 | TRUE | TRUE | TRUE |\n",
       "| 4 | T0MEANS | 4 | 1 | T0m_cintVTD | NA | 10 * param | TRUE |  1 | TRUE | TRUE | TRUE |\n",
       "| 5 | T0MEANS | 5 | 1 | NA          |  0 | NA         | TRUE | NA | TRUE | TRUE | TRUE |\n",
       "| 6 | T0MEANS | 6 | 1 | NA          |  0 | NA         | TRUE | NA | TRUE | TRUE | TRUE |\n",
       "| 97 | CINT    | 1 | 1 | NA          |  0 | NA         | TRUE | NA | TRUE | TRUE | TRUE |\n",
       "| 98 | CINT    | 2 | 1 | NA          |  0 | NA         | TRUE | NA | TRUE | TRUE | TRUE |\n",
       "| 99 | CINT    | 3 | 1 | NA          |  0 | NA         | TRUE | NA | TRUE | TRUE | TRUE |\n",
       "| 100 | CINT    | 4 | 1 | NA          |  0 | NA         | TRUE | NA | TRUE | TRUE | TRUE |\n",
       "| 101 | CINT    | 5 | 1 | NA          |  0 | NA         | TRUE | NA | TRUE | TRUE | TRUE |\n",
       "| 102 | CINT    | 6 | 1 | NA          |  0 | NA         | TRUE | NA | TRUE | TRUE | TRUE |\n",
       "\n"
      ],
      "text/plain": [
       "    matrix  row col param       value transform  indvarying sdscale\n",
       "1   T0MEANS 1   1   T0m_KBF     NA    10 * param TRUE        1     \n",
       "2   T0MEANS 2   1   T0m_VTD     NA    10 * param TRUE        1     \n",
       "3   T0MEANS 3   1   T0m_cintKBF NA    10 * param TRUE        1     \n",
       "4   T0MEANS 4   1   T0m_cintVTD NA    10 * param TRUE        1     \n",
       "5   T0MEANS 5   1   NA           0    NA         TRUE       NA     \n",
       "6   T0MEANS 6   1   NA           0    NA         TRUE       NA     \n",
       "97  CINT    1   1   NA           0    NA         TRUE       NA     \n",
       "98  CINT    2   1   NA           0    NA         TRUE       NA     \n",
       "99  CINT    3   1   NA           0    NA         TRUE       NA     \n",
       "100 CINT    4   1   NA           0    NA         TRUE       NA     \n",
       "101 CINT    5   1   NA           0    NA         TRUE       NA     \n",
       "102 CINT    6   1   NA           0    NA         TRUE       NA     \n",
       "    Is_exp3_effect Is_exp2_effect IsOFH_effect\n",
       "1   TRUE           TRUE           TRUE        \n",
       "2   TRUE           TRUE           TRUE        \n",
       "3   TRUE           TRUE           TRUE        \n",
       "4   TRUE           TRUE           TRUE        \n",
       "5   TRUE           TRUE           TRUE        \n",
       "6   TRUE           TRUE           TRUE        \n",
       "97  TRUE           TRUE           TRUE        \n",
       "98  TRUE           TRUE           TRUE        \n",
       "99  TRUE           TRUE           TRUE        \n",
       "100 TRUE           TRUE           TRUE        \n",
       "101 TRUE           TRUE           TRUE        \n",
       "102 TRUE           TRUE           TRUE        "
      ]
     },
     "metadata": {},
     "output_type": "display_data"
    }
   ],
   "source": [
    "#group can vary in trend\n",
    "model_fit$pars$Is_exp3_effect[model_fit$pars$matrix %in% c('T0MEANS','CINT')] = TRUE\n",
    "model_fit$pars$Is_exp2_effect[model_fit$pars$matrix %in% c('T0MEANS','CINT')] = TRUE\n",
    "model_fit$pars$IsOFH_effect[model_fit$pars$matrix %in% c('T0MEANS','CINT')] = TRUE\n",
    "#model_fit$pars$Is_exp3_effect[(model_fit$pars$matrix %in% c('CINT','T0MEANS'))&(model_fit$pars$row %in% c(1,3))] = TRUE\n",
    "#check what we did\n",
    "model_fit$pars[model_fit$pars$matrix %in% c('T0MEANS','CINT'),]"
   ]
  },
  {
   "cell_type": "code",
   "execution_count": 18,
   "id": "93388c45",
   "metadata": {},
   "outputs": [
    {
     "data": {
      "text/html": [
       "<style>\n",
       ".list-inline {list-style: none; margin:0; padding: 0}\n",
       ".list-inline>li {display: inline-block}\n",
       ".list-inline>li:not(:last-child)::after {content: \"\\00b7\"; padding: 0 .5ex}\n",
       "</style>\n",
       "<ol class=list-inline><li>'T0MEANS'</li><li>'LAMBDA'</li><li>'DRIFT'</li><li>'DIFFUSION'</li><li>'MANIFESTVAR'</li><li>'MANIFESTMEANS'</li><li>'CINT'</li><li>'T0VAR'</li></ol>\n"
      ],
      "text/latex": [
       "\\begin{enumerate*}\n",
       "\\item 'T0MEANS'\n",
       "\\item 'LAMBDA'\n",
       "\\item 'DRIFT'\n",
       "\\item 'DIFFUSION'\n",
       "\\item 'MANIFESTVAR'\n",
       "\\item 'MANIFESTMEANS'\n",
       "\\item 'CINT'\n",
       "\\item 'T0VAR'\n",
       "\\end{enumerate*}\n"
      ],
      "text/markdown": [
       "1. 'T0MEANS'\n",
       "2. 'LAMBDA'\n",
       "3. 'DRIFT'\n",
       "4. 'DIFFUSION'\n",
       "5. 'MANIFESTVAR'\n",
       "6. 'MANIFESTMEANS'\n",
       "7. 'CINT'\n",
       "8. 'T0VAR'\n",
       "\n",
       "\n"
      ],
      "text/plain": [
       "[1] \"T0MEANS\"       \"LAMBDA\"        \"DRIFT\"         \"DIFFUSION\"    \n",
       "[5] \"MANIFESTVAR\"   \"MANIFESTMEANS\" \"CINT\"          \"T0VAR\"        "
      ]
     },
     "metadata": {},
     "output_type": "display_data"
    }
   ],
   "source": [
    "unique(model_fit$pars$matrix)"
   ]
  },
  {
   "cell_type": "code",
   "execution_count": 19,
   "id": "415e2608",
   "metadata": {
    "scrolled": true
   },
   "outputs": [
    {
     "name": "stderr",
     "output_type": "stream",
     "text": [
      "Maximum a posteriori estimation requested\n",
      "\n",
      "Setting DRIFT diagonals of 0 to approximate 0 of -1e-06\n",
      "\n",
      "Free T0VAR parameters as well as indvarying T0MEANS -- fixing T0VAR pars to diag matrix of 1e-3\n",
      "\n",
      "Uncentered TI predictors noted -- interpretability may be hindered and default priors may not be appropriate\n",
      "\n",
      "Using 5/12 logical CPU cores\n",
      "\n",
      "Doing 1st pass optimize...\n",
      "\n",
      "Converged -- lp and par change within tolerances\n",
      "\n",
      "Including TI predictors...\n",
      "\n",
      "Warning message in sgd(init, fitfunc = target, parsets = parsets, nsubsets = nsubsets, :\n",
      "\"Gradient of parameter 26, 28, 29, 31, 32, 34, 35, 37 is exactly zero, maybe model problem?\"\n",
      "Warning message in sgd(init, fitfunc = target, parsets = parsets, nsubsets = nsubsets, :\n",
      "\"Gradient of parameter 26, 28, 29, 31, 32, 34, 35, 37 is exactly zero, maybe model problem?\"\n",
      "Warning message in sgd(init, fitfunc = target, parsets = parsets, nsubsets = nsubsets, :\n",
      "\"Gradient of parameter 26, 28, 29, 31, 32, 34, 35, 37 is exactly zero, maybe model problem?\"\n",
      "Warning message in sgd(init, fitfunc = target, parsets = parsets, nsubsets = nsubsets, :\n",
      "\"Gradient of parameter 26, 28, 29, 31, 32, 34, 35, 37 is exactly zero, maybe model problem?\"\n",
      "Warning message in sgd(init, fitfunc = target, parsets = parsets, nsubsets = nsubsets, :\n",
      "\"Gradient of parameter 26, 28, 29, 31, 32, 34, 35, 37 is exactly zero, maybe model problem?\"\n",
      "Warning message in sgd(init, fitfunc = target, parsets = parsets, nsubsets = nsubsets, :\n",
      "\"Gradient of parameter 26, 28, 29, 31, 32, 34, 35, 37 is exactly zero, maybe model problem?\"\n",
      "Warning message in sgd(init, fitfunc = target, parsets = parsets, nsubsets = nsubsets, :\n",
      "\"Gradient of parameter 26, 28, 29, 31, 32, 34, 35, 37 is exactly zero, maybe model problem?\"\n",
      "Warning message in sgd(init, fitfunc = target, parsets = parsets, nsubsets = nsubsets, :\n",
      "\"Gradient of parameter 26, 28, 29, 31, 32, 34, 35, 37 is exactly zero, maybe model problem?\"\n",
      "Warning message in sgd(init, fitfunc = target, parsets = parsets, nsubsets = nsubsets, :\n",
      "\"Gradient of parameter 26, 28, 29, 31, 32, 34, 35, 37 is exactly zero, maybe model problem?\"\n",
      "Warning message in sgd(init, fitfunc = target, parsets = parsets, nsubsets = nsubsets, :\n",
      "\"Gradient of parameter 26, 28, 29, 31, 32, 34, 35, 37 is exactly zero, maybe model problem?\"\n",
      "Warning message in sgd(init, fitfunc = target, parsets = parsets, nsubsets = nsubsets, :\n",
      "\"Gradient of parameter 26, 28, 29, 31, 32, 34, 35, 37 is exactly zero, maybe model problem?\"\n",
      "Warning message in sgd(init, fitfunc = target, parsets = parsets, nsubsets = nsubsets, :\n",
      "\"Gradient of parameter 26, 28, 29, 31, 32, 34, 35, 37 is exactly zero, maybe model problem?\"\n",
      "Warning message in sgd(init, fitfunc = target, parsets = parsets, nsubsets = nsubsets, :\n",
      "\"Gradient of parameter 26, 28, 29, 31, 32, 34, 35, 37 is exactly zero, maybe model problem?\"\n",
      "Warning message in sgd(init, fitfunc = target, parsets = parsets, nsubsets = nsubsets, :\n",
      "\"Gradient of parameter 26, 28, 29, 31, 32, 34, 35, 37 is exactly zero, maybe model problem?\"\n",
      "Warning message in sgd(init, fitfunc = target, parsets = parsets, nsubsets = nsubsets, :\n",
      "\"Gradient of parameter 26, 28, 29, 31, 32, 34, 35, 37 is exactly zero, maybe model problem?\"\n",
      "Warning message in sgd(init, fitfunc = target, parsets = parsets, nsubsets = nsubsets, :\n",
      "\"Gradient of parameter 26, 28, 29, 31, 32, 34, 35, 37 is exactly zero, maybe model problem?\"\n",
      "Warning message in sgd(init, fitfunc = target, parsets = parsets, nsubsets = nsubsets, :\n",
      "\"Gradient of parameter 26, 28, 29, 31, 32, 34, 35, 37 is exactly zero, maybe model problem?\"\n",
      "Warning message in sgd(init, fitfunc = target, parsets = parsets, nsubsets = nsubsets, :\n",
      "\"Gradient of parameter 26, 28, 29, 31, 32, 34, 35, 37 is exactly zero, maybe model problem?\"\n",
      "Warning message in sgd(init, fitfunc = target, parsets = parsets, nsubsets = nsubsets, :\n",
      "\"Gradient of parameter 26, 29, 32, 35 is exactly zero, maybe model problem?\"\n",
      "Warning message in sgd(init, fitfunc = target, parsets = parsets, nsubsets = nsubsets, :\n",
      "\"Gradient of parameter 26, 29, 32, 35 is exactly zero, maybe model problem?\"\n",
      "Warning message in sgd(init, fitfunc = target, parsets = parsets, nsubsets = nsubsets, :\n",
      "\"Gradient of parameter 26, 29, 32, 35 is exactly zero, maybe model problem?\"\n",
      "Warning message in sgd(init, fitfunc = target, parsets = parsets, nsubsets = nsubsets, :\n",
      "\"Gradient of parameter 26, 29, 32, 35 is exactly zero, maybe model problem?\"\n",
      "Warning message in sgd(init, fitfunc = target, parsets = parsets, nsubsets = nsubsets, :\n",
      "\"Gradient of parameter 26, 29, 32, 35 is exactly zero, maybe model problem?\"\n",
      "Warning message in sgd(init, fitfunc = target, parsets = parsets, nsubsets = nsubsets, :\n",
      "\"Gradient of parameter 26, 29, 32, 35 is exactly zero, maybe model problem?\"\n",
      "Warning message in sgd(init, fitfunc = target, parsets = parsets, nsubsets = nsubsets, :\n",
      "\"Gradient of parameter 26, 29, 32, 35 is exactly zero, maybe model problem?\"\n",
      "Warning message in sgd(init, fitfunc = target, parsets = parsets, nsubsets = nsubsets, :\n",
      "\"Gradient of parameter 26, 29, 32, 35 is exactly zero, maybe model problem?\"\n",
      "Warning message in sgd(init, fitfunc = target, parsets = parsets, nsubsets = nsubsets, :\n",
      "\"Gradient of parameter 26, 29, 32, 35 is exactly zero, maybe model problem?\"\n",
      "Warning message in sgd(init, fitfunc = target, parsets = parsets, nsubsets = nsubsets, :\n",
      "\"Gradient of parameter 26, 29, 32, 35 is exactly zero, maybe model problem?\"\n",
      "Warning message in sgd(init, fitfunc = target, parsets = parsets, nsubsets = nsubsets, :\n",
      "\"Gradient of parameter 26, 29, 32, 35 is exactly zero, maybe model problem?\"\n",
      "Warning message in sgd(init, fitfunc = target, parsets = parsets, nsubsets = nsubsets, :\n",
      "\"Gradient of parameter 26, 29, 32, 35 is exactly zero, maybe model problem?\"\n",
      "Warning message in sgd(init, fitfunc = target, parsets = parsets, nsubsets = nsubsets, :\n",
      "\"Gradient of parameter 26, 29, 32, 35 is exactly zero, maybe model problem?\"\n",
      "Warning message in sgd(init, fitfunc = target, parsets = parsets, nsubsets = nsubsets, :\n",
      "\"Gradient of parameter 26, 29, 32, 35 is exactly zero, maybe model problem?\"\n",
      "Converged -- lp and par change within tolerances\n",
      "\n",
      "Optimizing...\n",
      "\n",
      "Converged -- lp change within itertol\n",
      "\n",
      "Finishing optimization...\n",
      "\n",
      "Estimating Hessian\n",
      "\n",
      "Computing posterior with 1000 samples\n",
      "\n",
      "Computing quantities for 2000 samples...\n",
      "\n",
      "Generating data from posterior mean\n",
      "\n",
      "Using 5/12 logical CPU cores\n",
      "\n",
      "Warning message in cov2cor(cp$T0cov):\n",
      "\"diag(.) had 0 or NA entries; non-finite result is doubtful\"\n",
      "Warning message in cov2cor(cp$DIFFUSIONcov):\n",
      "\"diag(.) had 0 or NA entries; non-finite result is doubtful\"\n",
      "Warning message in cov2cor(cp$asymDIFFUSION):\n",
      "\"diag(.) had 0 or NA entries; non-finite result is doubtful\"\n",
      "Computing quantities for 1 samples...\n",
      "\n",
      "Free T0VAR parameters as well as indvarying T0MEANS -- fixing T0VAR pars to diag matrix of 1e-3\n",
      "\n",
      "Free T0VAR parameters as well as indvarying T0MEANS -- fixing T0VAR pars to diag matrix of 1e-3\n",
      "\n",
      "Computing quantities for 1000 samples...\n",
      "\n",
      "Warning message:\n",
      "\"Using alpha for a discrete variable is not advised.\"\n",
      "Warning message in ctKalman(fit = sf, subjects = 1:sf$standata$nsubjects, realid = TRUE, :\n",
      "\"Specified subjects not found in original id set -- assuming integers correspond to internal integer mapping. Consider setting realid=FALSE\"\n",
      "Computing state estimates..\n",
      "\n",
      "Computing quantities for 1 samples...\n",
      "\n",
      "Scale for 'colour' is already present. Adding another scale for 'colour',\n",
      "which will replace the existing scale.\n",
      "\n",
      "Warning message in ctKalman(fit = sf, subjects = 1:sf$standata$nsubjects, realid = TRUE, :\n",
      "\"Specified subjects not found in original id set -- assuming integers correspond to internal integer mapping. Consider setting realid=FALSE\"\n",
      "Computing state estimates..\n",
      "\n",
      "Computing quantities for 1 samples...\n",
      "\n",
      "Scale for 'colour' is already present. Adding another scale for 'colour',\n",
      "which will replace the existing scale.\n",
      "\n",
      "Warning message in ctKalman(fit = sf, subjects = 1:sf$standata$nsubjects, realid = TRUE, :\n",
      "\"Specified subjects not found in original id set -- assuming integers correspond to internal integer mapping. Consider setting realid=FALSE\"\n",
      "Computing state estimates..\n",
      "\n",
      "Computing quantities for 1 samples...\n",
      "\n",
      "Scale for 'colour' is already present. Adding another scale for 'colour',\n",
      "which will replace the existing scale.\n",
      "\n"
     ]
    },
    {
     "name": "stderr",
     "output_type": "stream",
     "text": [
      "Warning message in ctKalman(fit = sf, subjects = 1:sf$standata$nsubjects, realid = TRUE, :\n",
      "\"Specified subjects not found in original id set -- assuming integers correspond to internal integer mapping. Consider setting realid=FALSE\"\n",
      "Computing state estimates..\n",
      "\n",
      "Computing quantities for 1 samples...\n",
      "\n",
      "Scale for 'colour' is already present. Adding another scale for 'colour',\n",
      "which will replace the existing scale.\n",
      "\n",
      "Warning message in ctKalman(fit = sf, subjects = 1:sf$standata$nsubjects, realid = TRUE, :\n",
      "\"Specified subjects not found in original id set -- assuming integers correspond to internal integer mapping. Consider setting realid=FALSE\"\n",
      "Computing state estimates..\n",
      "\n",
      "Computing quantities for 1 samples...\n",
      "\n",
      "Scale for 'colour' is already present. Adding another scale for 'colour',\n",
      "which will replace the existing scale.\n",
      "\n",
      "Warning message in ctKalman(fit = sf, subjects = 1:sf$standata$nsubjects, realid = TRUE, :\n",
      "\"Specified subjects not found in original id set -- assuming integers correspond to internal integer mapping. Consider setting realid=FALSE\"\n",
      "Computing state estimates..\n",
      "\n",
      "Computing quantities for 1 samples...\n",
      "\n",
      "Scale for 'colour' is already present. Adding another scale for 'colour',\n",
      "which will replace the existing scale.\n",
      "\n",
      "Warning message in ctKalman(fit = sf, subjects = 1:sf$standata$nsubjects, realid = TRUE, :\n",
      "\"Specified subjects not found in original id set -- assuming integers correspond to internal integer mapping. Consider setting realid=FALSE\"\n",
      "Computing state estimates..\n",
      "\n",
      "Computing quantities for 1 samples...\n",
      "\n",
      "Scale for 'colour' is already present. Adding another scale for 'colour',\n",
      "which will replace the existing scale.\n",
      "\n",
      "Warning message in ctKalman(fit = sf, subjects = 1:sf$standata$nsubjects, realid = TRUE, :\n",
      "\"Specified subjects not found in original id set -- assuming integers correspond to internal integer mapping. Consider setting realid=FALSE\"\n",
      "Computing state estimates..\n",
      "\n",
      "Computing quantities for 1 samples...\n",
      "\n",
      "Scale for 'colour' is already present. Adding another scale for 'colour',\n",
      "which will replace the existing scale.\n",
      "\n",
      "Computing state estimates..\n",
      "\n",
      "Computing quantities for 1 samples...\n",
      "\n",
      "Computing state estimates..\n",
      "\n",
      "Computing quantities for 1 samples...\n",
      "\n",
      "Warning message:\n",
      "\"Removed 30900 rows containing missing values (geom_point).\"\n",
      "Warning message:\n",
      "\"Removed 30900 rows containing missing values (geom_point).\"\n",
      "Warning message:\n",
      "\"Removed 10300 rows containing missing values (geom_point).\"\n",
      "Warning message:\n",
      "\"Removed 10300 rows containing missing values (geom_point).\"\n",
      "Computing temporal regression coefficients for 100 samples, may take a moment...\n",
      "\n",
      "Computing temporal regression coefficients for 100 samples, may take a moment...\n",
      "\n",
      "Getting 200 samples by 20 subjects for 4000 total samples\n",
      "\n",
      "Calculating time independent predictor effects...\n",
      "\n",
      "Computing quantities for 4000 samples...\n",
      "\n",
      "Getting 200 samples by 20 subjects for 4000 total samples\n",
      "\n",
      "Calculating time independent predictor effects...\n",
      "\n",
      "Computing quantities for 4000 samples...\n",
      "\n",
      "Getting 200 samples by 20 subjects for 4000 total samples\n",
      "\n",
      "Calculating time independent predictor effects...\n",
      "\n",
      "Computing quantities for 4000 samples...\n",
      "\n",
      "Le chargement a nécessité le package : arules\n",
      "\n"
     ]
    }
   ],
   "source": [
    "set.seed(0)\n",
    "#fit the model and save all results provided by the folder\n",
    "#documentation: https://rdrr.io/cran/ctsem/man/ctStanFit.html : \n",
    "## iter number of iterations, half of which will be devoted to warmup by default when sampling. When optimizing, this is the \n",
    "\n",
    "## maximum number of iterations to allow – convergence hopefully occurs before this (default: 1000)\n",
    "#intoverstates: logical indicating whether or not to integrate over latent states using a Kalman filter. Generally recommended \n",
    "#to set TRUE unless using non-gaussian measurement model. KBF is not gaussion but when set to FALSE it does not work (\"NA gradient encountered at param 282\" etc)\n",
    "\n",
    "## optimize: if TRUE, use stanoptimis function for maximum a posteriori / importance sampling estimates, otherwise use the HMC \n",
    "#sampler from Stan, which is (much) slower, but generally more robust, accurate, and informative. default: TRUE\n",
    "\n",
    "## stationary: Logical. If TRUE, T0VAR and T0MEANS input matrices are ignored, the parameters are instead fixed to long run \n",
    "#expectations. More control over this can be achieved by instead setting parameter names of T0MEANS and T0VAR matrices in the \n",
    "#input model to 'stationary', for elements that should be fixed to stationarity.\n",
    "#nl = 6 #number of latent processes\n",
    "#derrind = (nl*2+1):(nl*3) #dynamic error indices -- speeds computation: from ctsem paper\n",
    "## nopriors: If TRUE, any priors are disabled (i.e. Si VRAI, tous les priors sont désactivés)\n",
    "fit_mvtha = ctStanFit(datalong=data_mvtha, ctstanmodel=model_fit, verbose=0, cores=cores_, nopriors=FALSE, #maybe TRUE when optimize ML\n",
    "                      iter=iter_, chains=chains_, optimize=bool_optimize)#, derrind) #nlcontrol=list(maxtimestep=10)\n",
    "#Individual variation in T0VAR parameters not possible: as we have no variation at T0\n",
    "ctsem:::ctSummarise(fit_mvtha, folder=file.path(path_save_,name), cores=cores_, ctStanPlotPost=F, nsamples=1000)\n",
    "#\"diag(.) had 0 or NA entries; non-finite result is doubtful\": TODO: var in diffusiocov are set to 0... so maybe its normal?"
   ]
  },
  {
   "cell_type": "code",
   "execution_count": 20,
   "id": "cf558459",
   "metadata": {
    "scrolled": true
   },
   "outputs": [
    {
     "data": {
      "text/html": [
       "<dl>\n",
       "\t<dt>$residCovStd</dt>\n",
       "\t\t<dd><table class=\"dataframe\">\n",
       "<caption>A data.frame: 2 × 2</caption>\n",
       "<thead>\n",
       "\t<tr><th></th><th scope=col>Y1</th><th scope=col>Y2</th></tr>\n",
       "\t<tr><th></th><th scope=col>&lt;dbl&gt;</th><th scope=col>&lt;dbl&gt;</th></tr>\n",
       "</thead>\n",
       "<tbody>\n",
       "\t<tr><th scope=row>Y1</th><td>0.258</td><td>0.019</td></tr>\n",
       "\t<tr><th scope=row>Y2</th><td>0.019</td><td>0.399</td></tr>\n",
       "</tbody>\n",
       "</table>\n",
       "</dd>\n",
       "\t<dt>$resiCovStdNote</dt>\n",
       "\t\t<dd>'Standardised covariance of residuals'</dd>\n",
       "\t<dt>$rawpopcorr</dt>\n",
       "\t\t<dd><table class=\"dataframe\">\n",
       "<caption>A data.frame: 6 × 6</caption>\n",
       "<thead>\n",
       "\t<tr><th></th><th scope=col>mean</th><th scope=col>sd</th><th scope=col>2.5%</th><th scope=col>50%</th><th scope=col>97.5%</th><th scope=col>z</th></tr>\n",
       "\t<tr><th></th><th scope=col>&lt;dbl&gt;</th><th scope=col>&lt;dbl&gt;</th><th scope=col>&lt;dbl&gt;</th><th scope=col>&lt;dbl&gt;</th><th scope=col>&lt;dbl&gt;</th><th scope=col>&lt;dbl&gt;</th></tr>\n",
       "</thead>\n",
       "<tbody>\n",
       "\t<tr><th scope=row>T0m_VTD__T0m_KBF</th><td>-0.1246</td><td>0.1698</td><td>-0.4530</td><td>-0.1308</td><td>0.2259</td><td>-0.7341</td></tr>\n",
       "\t<tr><th scope=row>T0m_cintKBF__T0m_KBF</th><td> 0.3201</td><td>0.1763</td><td>-0.0512</td><td> 0.3329</td><td>0.6157</td><td> 1.8161</td></tr>\n",
       "\t<tr><th scope=row>T0m_cintVTD__T0m_KBF</th><td> 0.1084</td><td>0.1489</td><td>-0.1756</td><td> 0.1107</td><td>0.3896</td><td> 0.7282</td></tr>\n",
       "\t<tr><th scope=row>T0m_cintKBF__T0m_VTD</th><td>-0.0097</td><td>0.0887</td><td>-0.1836</td><td>-0.0099</td><td>0.1637</td><td>-0.1100</td></tr>\n",
       "\t<tr><th scope=row>T0m_cintVTD__T0m_VTD</th><td> 0.2842</td><td>0.0837</td><td> 0.1100</td><td> 0.2878</td><td>0.4426</td><td> 3.3967</td></tr>\n",
       "\t<tr><th scope=row>T0m_cintVTD__T0m_cintKBF</th><td> 0.3376</td><td>0.1080</td><td> 0.1016</td><td> 0.3417</td><td>0.5333</td><td> 3.1272</td></tr>\n",
       "</tbody>\n",
       "</table>\n",
       "</dd>\n",
       "\t<dt>$tipreds</dt>\n",
       "\t\t<dd><table class=\"dataframe\">\n",
       "<caption>A data.frame: 12 × 6</caption>\n",
       "<thead>\n",
       "\t<tr><th></th><th scope=col>mean</th><th scope=col>sd</th><th scope=col>2.5%</th><th scope=col>50%</th><th scope=col>97.5%</th><th scope=col>z</th></tr>\n",
       "\t<tr><th></th><th scope=col>&lt;dbl&gt;</th><th scope=col>&lt;dbl&gt;</th><th scope=col>&lt;dbl&gt;</th><th scope=col>&lt;dbl&gt;</th><th scope=col>&lt;dbl&gt;</th><th scope=col>&lt;dbl&gt;</th></tr>\n",
       "</thead>\n",
       "<tbody>\n",
       "\t<tr><th scope=row>tip_Is_exp3_T0m_KBF</th><td>-0.1436</td><td>0.0887</td><td>-0.3148</td><td>-0.1454</td><td> 0.0369</td><td>-1.6181</td></tr>\n",
       "\t<tr><th scope=row>tip_Is_exp3_T0m_VTD</th><td> 0.4867</td><td>0.2080</td><td> 0.0536</td><td> 0.4920</td><td> 0.8818</td><td> 2.3403</td></tr>\n",
       "\t<tr><th scope=row>tip_Is_exp3_T0m_cintKBF</th><td> 0.3536</td><td>0.0325</td><td> 0.2904</td><td> 0.3536</td><td> 0.4188</td><td>10.8657</td></tr>\n",
       "\t<tr><th scope=row>tip_Is_exp3_T0m_cintVTD</th><td> 0.5976</td><td>0.1214</td><td> 0.3652</td><td> 0.5979</td><td> 0.8333</td><td> 4.9228</td></tr>\n",
       "\t<tr><th scope=row>tip_Is_exp2_T0m_KBF</th><td>-0.0400</td><td>0.0865</td><td>-0.2139</td><td>-0.0391</td><td> 0.1214</td><td>-0.4620</td></tr>\n",
       "\t<tr><th scope=row>tip_Is_exp2_T0m_VTD</th><td>-0.7143</td><td>0.1966</td><td>-1.0947</td><td>-0.7130</td><td>-0.3374</td><td>-3.6334</td></tr>\n",
       "\t<tr><th scope=row>tip_Is_exp2_T0m_cintKBF</th><td>-0.1497</td><td>0.0254</td><td>-0.1989</td><td>-0.1503</td><td>-0.0979</td><td>-5.9015</td></tr>\n",
       "\t<tr><th scope=row>tip_Is_exp2_T0m_cintVTD</th><td> 0.0823</td><td>0.0871</td><td>-0.0983</td><td> 0.0822</td><td> 0.2465</td><td> 0.9450</td></tr>\n",
       "\t<tr><th scope=row>tip_IsOFH_T0m_KBF</th><td>-0.0047</td><td>0.0958</td><td>-0.1935</td><td>-0.0032</td><td> 0.1850</td><td>-0.0489</td></tr>\n",
       "\t<tr><th scope=row>tip_IsOFH_T0m_VTD</th><td> 0.2429</td><td>0.2112</td><td>-0.1658</td><td> 0.2554</td><td> 0.6493</td><td> 1.1505</td></tr>\n",
       "\t<tr><th scope=row>tip_IsOFH_T0m_cintKBF</th><td> 0.0625</td><td>0.0278</td><td> 0.0086</td><td> 0.0622</td><td> 0.1184</td><td> 2.2516</td></tr>\n",
       "\t<tr><th scope=row>tip_IsOFH_T0m_cintVTD</th><td> 0.1628</td><td>0.1038</td><td>-0.0390</td><td> 0.1614</td><td> 0.3545</td><td> 1.5678</td></tr>\n",
       "</tbody>\n",
       "</table>\n",
       "</dd>\n",
       "\t<dt>$parmatrices</dt>\n",
       "\t\t<dd><table class=\"dataframe\">\n",
       "<caption>A data.frame: 216 × 8</caption>\n",
       "<thead>\n",
       "\t<tr><th></th><th scope=col>matrix</th><th scope=col>row</th><th scope=col>col</th><th scope=col>Mean</th><th scope=col>sd</th><th scope=col>2.5%</th><th scope=col>50%</th><th scope=col>97.5%</th></tr>\n",
       "\t<tr><th></th><th scope=col>&lt;chr&gt;</th><th scope=col>&lt;int&gt;</th><th scope=col>&lt;int&gt;</th><th scope=col>&lt;dbl&gt;</th><th scope=col>&lt;dbl&gt;</th><th scope=col>&lt;dbl&gt;</th><th scope=col>&lt;dbl&gt;</th><th scope=col>&lt;dbl&gt;</th></tr>\n",
       "</thead>\n",
       "<tbody>\n",
       "\t<tr><th scope=row>1</th><td>T0MEANS</td><td>1</td><td>1</td><td>-0.9186</td><td>0.0730</td><td>-1.0570</td><td>-0.9188</td><td>-0.7703</td></tr>\n",
       "\t<tr><th scope=row>2</th><td>T0MEANS</td><td>2</td><td>1</td><td> 0.4124</td><td>0.1651</td><td> 0.0949</td><td> 0.4084</td><td> 0.7372</td></tr>\n",
       "\t<tr><th scope=row>3</th><td>T0MEANS</td><td>3</td><td>1</td><td> 0.1242</td><td>0.0198</td><td> 0.0843</td><td> 0.1247</td><td> 0.1613</td></tr>\n",
       "\t<tr><th scope=row>4</th><td>T0MEANS</td><td>4</td><td>1</td><td>-0.2988</td><td>0.0758</td><td>-0.4416</td><td>-0.2983</td><td>-0.1456</td></tr>\n",
       "\t<tr><th scope=row>5</th><td>T0MEANS</td><td>5</td><td>1</td><td> 0.0000</td><td>0.0000</td><td> 0.0000</td><td> 0.0000</td><td> 0.0000</td></tr>\n",
       "\t<tr><th scope=row>6</th><td>T0MEANS</td><td>6</td><td>1</td><td> 0.0000</td><td>0.0000</td><td> 0.0000</td><td> 0.0000</td><td> 0.0000</td></tr>\n",
       "\t<tr><th scope=row>7</th><td>LAMBDA </td><td>1</td><td>1</td><td> 1.0000</td><td>0.0000</td><td> 1.0000</td><td> 1.0000</td><td> 1.0000</td></tr>\n",
       "\t<tr><th scope=row>8</th><td>LAMBDA </td><td>1</td><td>2</td><td> 0.0000</td><td>0.0000</td><td> 0.0000</td><td> 0.0000</td><td> 0.0000</td></tr>\n",
       "\t<tr><th scope=row>9</th><td>LAMBDA </td><td>1</td><td>3</td><td> 0.0000</td><td>0.0000</td><td> 0.0000</td><td> 0.0000</td><td> 0.0000</td></tr>\n",
       "\t<tr><th scope=row>10</th><td>LAMBDA </td><td>1</td><td>4</td><td> 0.0000</td><td>0.0000</td><td> 0.0000</td><td> 0.0000</td><td> 0.0000</td></tr>\n",
       "\t<tr><th scope=row>11</th><td>LAMBDA </td><td>1</td><td>5</td><td> 1.0000</td><td>0.0000</td><td> 1.0000</td><td> 1.0000</td><td> 1.0000</td></tr>\n",
       "\t<tr><th scope=row>12</th><td>LAMBDA </td><td>1</td><td>6</td><td> 0.0000</td><td>0.0000</td><td> 0.0000</td><td> 0.0000</td><td> 0.0000</td></tr>\n",
       "\t<tr><th scope=row>13</th><td>LAMBDA </td><td>2</td><td>1</td><td> 0.0000</td><td>0.0000</td><td> 0.0000</td><td> 0.0000</td><td> 0.0000</td></tr>\n",
       "\t<tr><th scope=row>14</th><td>LAMBDA </td><td>2</td><td>2</td><td> 1.0000</td><td>0.0000</td><td> 1.0000</td><td> 1.0000</td><td> 1.0000</td></tr>\n",
       "\t<tr><th scope=row>15</th><td>LAMBDA </td><td>2</td><td>3</td><td> 0.0000</td><td>0.0000</td><td> 0.0000</td><td> 0.0000</td><td> 0.0000</td></tr>\n",
       "\t<tr><th scope=row>16</th><td>LAMBDA </td><td>2</td><td>4</td><td> 0.0000</td><td>0.0000</td><td> 0.0000</td><td> 0.0000</td><td> 0.0000</td></tr>\n",
       "\t<tr><th scope=row>17</th><td>LAMBDA </td><td>2</td><td>5</td><td> 0.0000</td><td>0.0000</td><td> 0.0000</td><td> 0.0000</td><td> 0.0000</td></tr>\n",
       "\t<tr><th scope=row>18</th><td>LAMBDA </td><td>2</td><td>6</td><td> 1.0000</td><td>0.0000</td><td> 1.0000</td><td> 1.0000</td><td> 1.0000</td></tr>\n",
       "\t<tr><th scope=row>19</th><td>DRIFT  </td><td>1</td><td>1</td><td>-0.2095</td><td>0.0191</td><td>-0.2489</td><td>-0.2088</td><td>-0.1744</td></tr>\n",
       "\t<tr><th scope=row>20</th><td>DRIFT  </td><td>1</td><td>2</td><td> 0.0000</td><td>0.0000</td><td> 0.0000</td><td> 0.0000</td><td> 0.0000</td></tr>\n",
       "\t<tr><th scope=row>21</th><td>DRIFT  </td><td>1</td><td>3</td><td> 1.0000</td><td>0.0000</td><td> 1.0000</td><td> 1.0000</td><td> 1.0000</td></tr>\n",
       "\t<tr><th scope=row>22</th><td>DRIFT  </td><td>1</td><td>4</td><td> 0.0000</td><td>0.0000</td><td> 0.0000</td><td> 0.0000</td><td> 0.0000</td></tr>\n",
       "\t<tr><th scope=row>23</th><td>DRIFT  </td><td>1</td><td>5</td><td> 0.0000</td><td>0.0000</td><td> 0.0000</td><td> 0.0000</td><td> 0.0000</td></tr>\n",
       "\t<tr><th scope=row>24</th><td>DRIFT  </td><td>1</td><td>6</td><td> 0.0000</td><td>0.0000</td><td> 0.0000</td><td> 0.0000</td><td> 0.0000</td></tr>\n",
       "\t<tr><th scope=row>25</th><td>DRIFT  </td><td>2</td><td>1</td><td> 0.0000</td><td>0.0000</td><td> 0.0000</td><td> 0.0000</td><td> 0.0000</td></tr>\n",
       "\t<tr><th scope=row>26</th><td>DRIFT  </td><td>2</td><td>2</td><td>-0.6900</td><td>0.0851</td><td>-0.8777</td><td>-0.6832</td><td>-0.5432</td></tr>\n",
       "\t<tr><th scope=row>27</th><td>DRIFT  </td><td>2</td><td>3</td><td> 0.0000</td><td>0.0000</td><td> 0.0000</td><td> 0.0000</td><td> 0.0000</td></tr>\n",
       "\t<tr><th scope=row>28</th><td>DRIFT  </td><td>2</td><td>4</td><td> 1.0000</td><td>0.0000</td><td> 1.0000</td><td> 1.0000</td><td> 1.0000</td></tr>\n",
       "\t<tr><th scope=row>29</th><td>DRIFT  </td><td>2</td><td>5</td><td> 0.0000</td><td>0.0000</td><td> 0.0000</td><td> 0.0000</td><td> 0.0000</td></tr>\n",
       "\t<tr><th scope=row>30</th><td>DRIFT  </td><td>2</td><td>6</td><td> 0.0000</td><td>0.0000</td><td> 0.0000</td><td> 0.0000</td><td> 0.0000</td></tr>\n",
       "\t<tr><th scope=row>...</th><td>...</td><td>...</td><td>...</td><td>...</td><td>...</td><td>...</td><td>...</td><td>...</td></tr>\n",
       "\t<tr><th scope=row>259</th><td>dtDRIFT</td><td>2</td><td>1</td><td> 0.0000</td><td>0.0000</td><td> 0.0000</td><td> 0.0000</td><td>0.0000</td></tr>\n",
       "\t<tr><th scope=row>260</th><td>dtDRIFT</td><td>2</td><td>2</td><td> 0.5034</td><td>0.0420</td><td> 0.4157</td><td> 0.5050</td><td>0.5809</td></tr>\n",
       "\t<tr><th scope=row>261</th><td>dtDRIFT</td><td>2</td><td>3</td><td> 0.0000</td><td>0.0000</td><td> 0.0000</td><td> 0.0000</td><td>0.0000</td></tr>\n",
       "\t<tr><th scope=row>262</th><td>dtDRIFT</td><td>2</td><td>4</td><td> 0.7231</td><td>0.0269</td><td> 0.6657</td><td> 0.7245</td><td>0.7716</td></tr>\n",
       "\t<tr><th scope=row>263</th><td>dtDRIFT</td><td>2</td><td>5</td><td> 0.0000</td><td>0.0000</td><td> 0.0000</td><td> 0.0000</td><td>0.0000</td></tr>\n",
       "\t<tr><th scope=row>264</th><td>dtDRIFT</td><td>2</td><td>6</td><td> 0.0000</td><td>0.0000</td><td> 0.0000</td><td> 0.0000</td><td>0.0000</td></tr>\n",
       "\t<tr><th scope=row>265</th><td>dtDRIFT</td><td>3</td><td>1</td><td> 0.0000</td><td>0.0000</td><td> 0.0000</td><td> 0.0000</td><td>0.0000</td></tr>\n",
       "\t<tr><th scope=row>266</th><td>dtDRIFT</td><td>3</td><td>2</td><td> 0.0000</td><td>0.0000</td><td> 0.0000</td><td> 0.0000</td><td>0.0000</td></tr>\n",
       "\t<tr><th scope=row>267</th><td>dtDRIFT</td><td>3</td><td>3</td><td> 1.0000</td><td>0.0000</td><td> 1.0000</td><td> 1.0000</td><td>1.0000</td></tr>\n",
       "\t<tr><th scope=row>268</th><td>dtDRIFT</td><td>3</td><td>4</td><td> 0.0000</td><td>0.0000</td><td> 0.0000</td><td> 0.0000</td><td>0.0000</td></tr>\n",
       "\t<tr><th scope=row>269</th><td>dtDRIFT</td><td>3</td><td>5</td><td> 0.0000</td><td>0.0000</td><td> 0.0000</td><td> 0.0000</td><td>0.0000</td></tr>\n",
       "\t<tr><th scope=row>270</th><td>dtDRIFT</td><td>3</td><td>6</td><td> 0.0000</td><td>0.0000</td><td> 0.0000</td><td> 0.0000</td><td>0.0000</td></tr>\n",
       "\t<tr><th scope=row>271</th><td>dtDRIFT</td><td>4</td><td>1</td><td> 0.0000</td><td>0.0000</td><td> 0.0000</td><td> 0.0000</td><td>0.0000</td></tr>\n",
       "\t<tr><th scope=row>272</th><td>dtDRIFT</td><td>4</td><td>2</td><td> 0.0000</td><td>0.0000</td><td> 0.0000</td><td> 0.0000</td><td>0.0000</td></tr>\n",
       "\t<tr><th scope=row>273</th><td>dtDRIFT</td><td>4</td><td>3</td><td> 0.0000</td><td>0.0000</td><td> 0.0000</td><td> 0.0000</td><td>0.0000</td></tr>\n",
       "\t<tr><th scope=row>274</th><td>dtDRIFT</td><td>4</td><td>4</td><td> 1.0000</td><td>0.0000</td><td> 1.0000</td><td> 1.0000</td><td>1.0000</td></tr>\n",
       "\t<tr><th scope=row>275</th><td>dtDRIFT</td><td>4</td><td>5</td><td> 0.0000</td><td>0.0000</td><td> 0.0000</td><td> 0.0000</td><td>0.0000</td></tr>\n",
       "\t<tr><th scope=row>276</th><td>dtDRIFT</td><td>4</td><td>6</td><td> 0.0000</td><td>0.0000</td><td> 0.0000</td><td> 0.0000</td><td>0.0000</td></tr>\n",
       "\t<tr><th scope=row>277</th><td>dtDRIFT</td><td>5</td><td>1</td><td> 0.0000</td><td>0.0000</td><td> 0.0000</td><td> 0.0000</td><td>0.0000</td></tr>\n",
       "\t<tr><th scope=row>278</th><td>dtDRIFT</td><td>5</td><td>2</td><td> 0.0000</td><td>0.0000</td><td> 0.0000</td><td> 0.0000</td><td>0.0000</td></tr>\n",
       "\t<tr><th scope=row>279</th><td>dtDRIFT</td><td>5</td><td>3</td><td> 0.0000</td><td>0.0000</td><td> 0.0000</td><td> 0.0000</td><td>0.0000</td></tr>\n",
       "\t<tr><th scope=row>280</th><td>dtDRIFT</td><td>5</td><td>4</td><td> 0.0000</td><td>0.0000</td><td> 0.0000</td><td> 0.0000</td><td>0.0000</td></tr>\n",
       "\t<tr><th scope=row>281</th><td>dtDRIFT</td><td>5</td><td>5</td><td> 0.5794</td><td>0.0863</td><td> 0.4017</td><td> 0.5853</td><td>0.7406</td></tr>\n",
       "\t<tr><th scope=row>282</th><td>dtDRIFT</td><td>5</td><td>6</td><td>-0.0523</td><td>0.0411</td><td>-0.1326</td><td>-0.0512</td><td>0.0317</td></tr>\n",
       "\t<tr><th scope=row>283</th><td>dtDRIFT</td><td>6</td><td>1</td><td> 0.0000</td><td>0.0000</td><td> 0.0000</td><td> 0.0000</td><td>0.0000</td></tr>\n",
       "\t<tr><th scope=row>284</th><td>dtDRIFT</td><td>6</td><td>2</td><td> 0.0000</td><td>0.0000</td><td> 0.0000</td><td> 0.0000</td><td>0.0000</td></tr>\n",
       "\t<tr><th scope=row>285</th><td>dtDRIFT</td><td>6</td><td>3</td><td> 0.0000</td><td>0.0000</td><td> 0.0000</td><td> 0.0000</td><td>0.0000</td></tr>\n",
       "\t<tr><th scope=row>286</th><td>dtDRIFT</td><td>6</td><td>4</td><td> 0.0000</td><td>0.0000</td><td> 0.0000</td><td> 0.0000</td><td>0.0000</td></tr>\n",
       "\t<tr><th scope=row>287</th><td>dtDRIFT</td><td>6</td><td>5</td><td> 0.0305</td><td>0.0542</td><td>-0.0779</td><td> 0.0289</td><td>0.1442</td></tr>\n",
       "\t<tr><th scope=row>288</th><td>dtDRIFT</td><td>6</td><td>6</td><td> 0.7804</td><td>0.0495</td><td> 0.6678</td><td> 0.7847</td><td>0.8626</td></tr>\n",
       "</tbody>\n",
       "</table>\n",
       "</dd>\n",
       "\t<dt>$popsd</dt>\n",
       "\t\t<dd><table class=\"dataframe\">\n",
       "<caption>A data.frame: 4 × 5</caption>\n",
       "<thead>\n",
       "\t<tr><th></th><th scope=col>mean</th><th scope=col>sd</th><th scope=col>2.5%</th><th scope=col>50%</th><th scope=col>97.5%</th></tr>\n",
       "\t<tr><th></th><th scope=col>&lt;dbl&gt;</th><th scope=col>&lt;dbl&gt;</th><th scope=col>&lt;dbl&gt;</th><th scope=col>&lt;dbl&gt;</th><th scope=col>&lt;dbl&gt;</th></tr>\n",
       "</thead>\n",
       "<tbody>\n",
       "\t<tr><th scope=row>T0m_KBF</th><td>0.2100</td><td>0.0388</td><td>0.1420</td><td>0.2069</td><td>0.2918</td></tr>\n",
       "\t<tr><th scope=row>T0m_VTD</th><td>0.9456</td><td>0.0715</td><td>0.8173</td><td>0.9432</td><td>1.0942</td></tr>\n",
       "\t<tr><th scope=row>T0m_cintKBF</th><td>0.1141</td><td>0.0131</td><td>0.0908</td><td>0.1133</td><td>0.1403</td></tr>\n",
       "\t<tr><th scope=row>T0m_cintVTD</th><td>0.5101</td><td>0.0637</td><td>0.3996</td><td>0.5056</td><td>0.6469</td></tr>\n",
       "</tbody>\n",
       "</table>\n",
       "</dd>\n",
       "\t<dt>$popmeans</dt>\n",
       "\t\t<dd><table class=\"dataframe\">\n",
       "<caption>A data.frame: 15 × 5</caption>\n",
       "<thead>\n",
       "\t<tr><th></th><th scope=col>mean</th><th scope=col>sd</th><th scope=col>2.5%</th><th scope=col>50%</th><th scope=col>97.5%</th></tr>\n",
       "\t<tr><th></th><th scope=col>&lt;dbl&gt;</th><th scope=col>&lt;dbl&gt;</th><th scope=col>&lt;dbl&gt;</th><th scope=col>&lt;dbl&gt;</th><th scope=col>&lt;dbl&gt;</th></tr>\n",
       "</thead>\n",
       "<tbody>\n",
       "\t<tr><th scope=row>T0m_KBF</th><td>-0.9186</td><td>0.0730</td><td>-1.0570</td><td>-0.9188</td><td>-0.7703</td></tr>\n",
       "\t<tr><th scope=row>T0m_VTD</th><td> 0.4124</td><td>0.1651</td><td> 0.0949</td><td> 0.4084</td><td> 0.7372</td></tr>\n",
       "\t<tr><th scope=row>T0m_cintKBF</th><td> 0.1242</td><td>0.0198</td><td> 0.0843</td><td> 0.1247</td><td> 0.1613</td></tr>\n",
       "\t<tr><th scope=row>T0m_cintVTD</th><td>-0.2988</td><td>0.0758</td><td>-0.4416</td><td>-0.2983</td><td>-0.1456</td></tr>\n",
       "\t<tr><th scope=row>drift_KBF</th><td>-0.2095</td><td>0.0191</td><td>-0.2489</td><td>-0.2088</td><td>-0.1744</td></tr>\n",
       "\t<tr><th scope=row>drift_VTD</th><td>-0.6900</td><td>0.0851</td><td>-0.8777</td><td>-0.6832</td><td>-0.5432</td></tr>\n",
       "\t<tr><th scope=row>drift_dynKBF</th><td>-0.5572</td><td>0.1563</td><td>-0.9074</td><td>-0.5354</td><td>-0.2998</td></tr>\n",
       "\t<tr><th scope=row>drift_dynKBF_dynVTD</th><td>-0.0782</td><td>0.0611</td><td>-0.2035</td><td>-0.0759</td><td> 0.0470</td></tr>\n",
       "\t<tr><th scope=row>drift_dynVTD_dynKBF</th><td> 0.0451</td><td>0.0802</td><td>-0.1212</td><td> 0.0440</td><td> 0.2117</td></tr>\n",
       "\t<tr><th scope=row>drift_dynVTD</th><td>-0.2498</td><td>0.0651</td><td>-0.4027</td><td>-0.2426</td><td>-0.1474</td></tr>\n",
       "\t<tr><th scope=row>diffu_dynKBF</th><td> 0.4153</td><td>0.0561</td><td> 0.3184</td><td> 0.4108</td><td> 0.5366</td></tr>\n",
       "\t<tr><th scope=row>diffu_dynVTD_dynKBF</th><td> 0.0464</td><td>0.0401</td><td>-0.0278</td><td> 0.0473</td><td> 0.1235</td></tr>\n",
       "\t<tr><th scope=row>diffu_dynVTD</th><td> 0.4167</td><td>0.0311</td><td> 0.3587</td><td> 0.4150</td><td> 0.4840</td></tr>\n",
       "\t<tr><th scope=row>mvarY1</th><td> 0.3151</td><td>0.0252</td><td> 0.2693</td><td> 0.3144</td><td> 0.3669</td></tr>\n",
       "\t<tr><th scope=row>mvarY2</th><td> 0.2404</td><td>0.0241</td><td> 0.1959</td><td> 0.2398</td><td> 0.2919</td></tr>\n",
       "</tbody>\n",
       "</table>\n",
       "</dd>\n",
       "\t<dt>$popNote</dt>\n",
       "\t\t<dd>'popmeans are reported as specified in ctModel -- covariance related matrices are in sd / unconstrained correlation form -- see $parmatrices for simpler interpretations!'</dd>\n",
       "\t<dt>$loglik</dt>\n",
       "\t\t<dd>-3185.23823625708</dd>\n",
       "\t<dt>$npars</dt>\n",
       "\t\t<dd>37</dd>\n",
       "\t<dt>$aic</dt>\n",
       "\t\t<dd>6444.47647251416</dd>\n",
       "\t<dt>$logposterior</dt>\n",
       "\t\t<dd>-3228.68750215907</dd>\n",
       "</dl>\n"
      ],
      "text/latex": [
       "\\begin{description}\n",
       "\\item[\\$residCovStd] A data.frame: 2 × 2\n",
       "\\begin{tabular}{r|ll}\n",
       "  & Y1 & Y2\\\\\n",
       "  & <dbl> & <dbl>\\\\\n",
       "\\hline\n",
       "\tY1 & 0.258 & 0.019\\\\\n",
       "\tY2 & 0.019 & 0.399\\\\\n",
       "\\end{tabular}\n",
       "\n",
       "\\item[\\$resiCovStdNote] 'Standardised covariance of residuals'\n",
       "\\item[\\$rawpopcorr] A data.frame: 6 × 6\n",
       "\\begin{tabular}{r|llllll}\n",
       "  & mean & sd & 2.5\\% & 50\\% & 97.5\\% & z\\\\\n",
       "  & <dbl> & <dbl> & <dbl> & <dbl> & <dbl> & <dbl>\\\\\n",
       "\\hline\n",
       "\tT0m\\_VTD\\_\\_T0m\\_KBF & -0.1246 & 0.1698 & -0.4530 & -0.1308 & 0.2259 & -0.7341\\\\\n",
       "\tT0m\\_cintKBF\\_\\_T0m\\_KBF &  0.3201 & 0.1763 & -0.0512 &  0.3329 & 0.6157 &  1.8161\\\\\n",
       "\tT0m\\_cintVTD\\_\\_T0m\\_KBF &  0.1084 & 0.1489 & -0.1756 &  0.1107 & 0.3896 &  0.7282\\\\\n",
       "\tT0m\\_cintKBF\\_\\_T0m\\_VTD & -0.0097 & 0.0887 & -0.1836 & -0.0099 & 0.1637 & -0.1100\\\\\n",
       "\tT0m\\_cintVTD\\_\\_T0m\\_VTD &  0.2842 & 0.0837 &  0.1100 &  0.2878 & 0.4426 &  3.3967\\\\\n",
       "\tT0m\\_cintVTD\\_\\_T0m\\_cintKBF &  0.3376 & 0.1080 &  0.1016 &  0.3417 & 0.5333 &  3.1272\\\\\n",
       "\\end{tabular}\n",
       "\n",
       "\\item[\\$tipreds] A data.frame: 12 × 6\n",
       "\\begin{tabular}{r|llllll}\n",
       "  & mean & sd & 2.5\\% & 50\\% & 97.5\\% & z\\\\\n",
       "  & <dbl> & <dbl> & <dbl> & <dbl> & <dbl> & <dbl>\\\\\n",
       "\\hline\n",
       "\ttip\\_Is\\_exp3\\_T0m\\_KBF & -0.1436 & 0.0887 & -0.3148 & -0.1454 &  0.0369 & -1.6181\\\\\n",
       "\ttip\\_Is\\_exp3\\_T0m\\_VTD &  0.4867 & 0.2080 &  0.0536 &  0.4920 &  0.8818 &  2.3403\\\\\n",
       "\ttip\\_Is\\_exp3\\_T0m\\_cintKBF &  0.3536 & 0.0325 &  0.2904 &  0.3536 &  0.4188 & 10.8657\\\\\n",
       "\ttip\\_Is\\_exp3\\_T0m\\_cintVTD &  0.5976 & 0.1214 &  0.3652 &  0.5979 &  0.8333 &  4.9228\\\\\n",
       "\ttip\\_Is\\_exp2\\_T0m\\_KBF & -0.0400 & 0.0865 & -0.2139 & -0.0391 &  0.1214 & -0.4620\\\\\n",
       "\ttip\\_Is\\_exp2\\_T0m\\_VTD & -0.7143 & 0.1966 & -1.0947 & -0.7130 & -0.3374 & -3.6334\\\\\n",
       "\ttip\\_Is\\_exp2\\_T0m\\_cintKBF & -0.1497 & 0.0254 & -0.1989 & -0.1503 & -0.0979 & -5.9015\\\\\n",
       "\ttip\\_Is\\_exp2\\_T0m\\_cintVTD &  0.0823 & 0.0871 & -0.0983 &  0.0822 &  0.2465 &  0.9450\\\\\n",
       "\ttip\\_IsOFH\\_T0m\\_KBF & -0.0047 & 0.0958 & -0.1935 & -0.0032 &  0.1850 & -0.0489\\\\\n",
       "\ttip\\_IsOFH\\_T0m\\_VTD &  0.2429 & 0.2112 & -0.1658 &  0.2554 &  0.6493 &  1.1505\\\\\n",
       "\ttip\\_IsOFH\\_T0m\\_cintKBF &  0.0625 & 0.0278 &  0.0086 &  0.0622 &  0.1184 &  2.2516\\\\\n",
       "\ttip\\_IsOFH\\_T0m\\_cintVTD &  0.1628 & 0.1038 & -0.0390 &  0.1614 &  0.3545 &  1.5678\\\\\n",
       "\\end{tabular}\n",
       "\n",
       "\\item[\\$parmatrices] A data.frame: 216 × 8\n",
       "\\begin{tabular}{r|llllllll}\n",
       "  & matrix & row & col & Mean & sd & 2.5\\% & 50\\% & 97.5\\%\\\\\n",
       "  & <chr> & <int> & <int> & <dbl> & <dbl> & <dbl> & <dbl> & <dbl>\\\\\n",
       "\\hline\n",
       "\t1 & T0MEANS & 1 & 1 & -0.9186 & 0.0730 & -1.0570 & -0.9188 & -0.7703\\\\\n",
       "\t2 & T0MEANS & 2 & 1 &  0.4124 & 0.1651 &  0.0949 &  0.4084 &  0.7372\\\\\n",
       "\t3 & T0MEANS & 3 & 1 &  0.1242 & 0.0198 &  0.0843 &  0.1247 &  0.1613\\\\\n",
       "\t4 & T0MEANS & 4 & 1 & -0.2988 & 0.0758 & -0.4416 & -0.2983 & -0.1456\\\\\n",
       "\t5 & T0MEANS & 5 & 1 &  0.0000 & 0.0000 &  0.0000 &  0.0000 &  0.0000\\\\\n",
       "\t6 & T0MEANS & 6 & 1 &  0.0000 & 0.0000 &  0.0000 &  0.0000 &  0.0000\\\\\n",
       "\t7 & LAMBDA  & 1 & 1 &  1.0000 & 0.0000 &  1.0000 &  1.0000 &  1.0000\\\\\n",
       "\t8 & LAMBDA  & 1 & 2 &  0.0000 & 0.0000 &  0.0000 &  0.0000 &  0.0000\\\\\n",
       "\t9 & LAMBDA  & 1 & 3 &  0.0000 & 0.0000 &  0.0000 &  0.0000 &  0.0000\\\\\n",
       "\t10 & LAMBDA  & 1 & 4 &  0.0000 & 0.0000 &  0.0000 &  0.0000 &  0.0000\\\\\n",
       "\t11 & LAMBDA  & 1 & 5 &  1.0000 & 0.0000 &  1.0000 &  1.0000 &  1.0000\\\\\n",
       "\t12 & LAMBDA  & 1 & 6 &  0.0000 & 0.0000 &  0.0000 &  0.0000 &  0.0000\\\\\n",
       "\t13 & LAMBDA  & 2 & 1 &  0.0000 & 0.0000 &  0.0000 &  0.0000 &  0.0000\\\\\n",
       "\t14 & LAMBDA  & 2 & 2 &  1.0000 & 0.0000 &  1.0000 &  1.0000 &  1.0000\\\\\n",
       "\t15 & LAMBDA  & 2 & 3 &  0.0000 & 0.0000 &  0.0000 &  0.0000 &  0.0000\\\\\n",
       "\t16 & LAMBDA  & 2 & 4 &  0.0000 & 0.0000 &  0.0000 &  0.0000 &  0.0000\\\\\n",
       "\t17 & LAMBDA  & 2 & 5 &  0.0000 & 0.0000 &  0.0000 &  0.0000 &  0.0000\\\\\n",
       "\t18 & LAMBDA  & 2 & 6 &  1.0000 & 0.0000 &  1.0000 &  1.0000 &  1.0000\\\\\n",
       "\t19 & DRIFT   & 1 & 1 & -0.2095 & 0.0191 & -0.2489 & -0.2088 & -0.1744\\\\\n",
       "\t20 & DRIFT   & 1 & 2 &  0.0000 & 0.0000 &  0.0000 &  0.0000 &  0.0000\\\\\n",
       "\t21 & DRIFT   & 1 & 3 &  1.0000 & 0.0000 &  1.0000 &  1.0000 &  1.0000\\\\\n",
       "\t22 & DRIFT   & 1 & 4 &  0.0000 & 0.0000 &  0.0000 &  0.0000 &  0.0000\\\\\n",
       "\t23 & DRIFT   & 1 & 5 &  0.0000 & 0.0000 &  0.0000 &  0.0000 &  0.0000\\\\\n",
       "\t24 & DRIFT   & 1 & 6 &  0.0000 & 0.0000 &  0.0000 &  0.0000 &  0.0000\\\\\n",
       "\t25 & DRIFT   & 2 & 1 &  0.0000 & 0.0000 &  0.0000 &  0.0000 &  0.0000\\\\\n",
       "\t26 & DRIFT   & 2 & 2 & -0.6900 & 0.0851 & -0.8777 & -0.6832 & -0.5432\\\\\n",
       "\t27 & DRIFT   & 2 & 3 &  0.0000 & 0.0000 &  0.0000 &  0.0000 &  0.0000\\\\\n",
       "\t28 & DRIFT   & 2 & 4 &  1.0000 & 0.0000 &  1.0000 &  1.0000 &  1.0000\\\\\n",
       "\t29 & DRIFT   & 2 & 5 &  0.0000 & 0.0000 &  0.0000 &  0.0000 &  0.0000\\\\\n",
       "\t30 & DRIFT   & 2 & 6 &  0.0000 & 0.0000 &  0.0000 &  0.0000 &  0.0000\\\\\n",
       "\t... & ... & ... & ... & ... & ... & ... & ... & ...\\\\\n",
       "\t259 & dtDRIFT & 2 & 1 &  0.0000 & 0.0000 &  0.0000 &  0.0000 & 0.0000\\\\\n",
       "\t260 & dtDRIFT & 2 & 2 &  0.5034 & 0.0420 &  0.4157 &  0.5050 & 0.5809\\\\\n",
       "\t261 & dtDRIFT & 2 & 3 &  0.0000 & 0.0000 &  0.0000 &  0.0000 & 0.0000\\\\\n",
       "\t262 & dtDRIFT & 2 & 4 &  0.7231 & 0.0269 &  0.6657 &  0.7245 & 0.7716\\\\\n",
       "\t263 & dtDRIFT & 2 & 5 &  0.0000 & 0.0000 &  0.0000 &  0.0000 & 0.0000\\\\\n",
       "\t264 & dtDRIFT & 2 & 6 &  0.0000 & 0.0000 &  0.0000 &  0.0000 & 0.0000\\\\\n",
       "\t265 & dtDRIFT & 3 & 1 &  0.0000 & 0.0000 &  0.0000 &  0.0000 & 0.0000\\\\\n",
       "\t266 & dtDRIFT & 3 & 2 &  0.0000 & 0.0000 &  0.0000 &  0.0000 & 0.0000\\\\\n",
       "\t267 & dtDRIFT & 3 & 3 &  1.0000 & 0.0000 &  1.0000 &  1.0000 & 1.0000\\\\\n",
       "\t268 & dtDRIFT & 3 & 4 &  0.0000 & 0.0000 &  0.0000 &  0.0000 & 0.0000\\\\\n",
       "\t269 & dtDRIFT & 3 & 5 &  0.0000 & 0.0000 &  0.0000 &  0.0000 & 0.0000\\\\\n",
       "\t270 & dtDRIFT & 3 & 6 &  0.0000 & 0.0000 &  0.0000 &  0.0000 & 0.0000\\\\\n",
       "\t271 & dtDRIFT & 4 & 1 &  0.0000 & 0.0000 &  0.0000 &  0.0000 & 0.0000\\\\\n",
       "\t272 & dtDRIFT & 4 & 2 &  0.0000 & 0.0000 &  0.0000 &  0.0000 & 0.0000\\\\\n",
       "\t273 & dtDRIFT & 4 & 3 &  0.0000 & 0.0000 &  0.0000 &  0.0000 & 0.0000\\\\\n",
       "\t274 & dtDRIFT & 4 & 4 &  1.0000 & 0.0000 &  1.0000 &  1.0000 & 1.0000\\\\\n",
       "\t275 & dtDRIFT & 4 & 5 &  0.0000 & 0.0000 &  0.0000 &  0.0000 & 0.0000\\\\\n",
       "\t276 & dtDRIFT & 4 & 6 &  0.0000 & 0.0000 &  0.0000 &  0.0000 & 0.0000\\\\\n",
       "\t277 & dtDRIFT & 5 & 1 &  0.0000 & 0.0000 &  0.0000 &  0.0000 & 0.0000\\\\\n",
       "\t278 & dtDRIFT & 5 & 2 &  0.0000 & 0.0000 &  0.0000 &  0.0000 & 0.0000\\\\\n",
       "\t279 & dtDRIFT & 5 & 3 &  0.0000 & 0.0000 &  0.0000 &  0.0000 & 0.0000\\\\\n",
       "\t280 & dtDRIFT & 5 & 4 &  0.0000 & 0.0000 &  0.0000 &  0.0000 & 0.0000\\\\\n",
       "\t281 & dtDRIFT & 5 & 5 &  0.5794 & 0.0863 &  0.4017 &  0.5853 & 0.7406\\\\\n",
       "\t282 & dtDRIFT & 5 & 6 & -0.0523 & 0.0411 & -0.1326 & -0.0512 & 0.0317\\\\\n",
       "\t283 & dtDRIFT & 6 & 1 &  0.0000 & 0.0000 &  0.0000 &  0.0000 & 0.0000\\\\\n",
       "\t284 & dtDRIFT & 6 & 2 &  0.0000 & 0.0000 &  0.0000 &  0.0000 & 0.0000\\\\\n",
       "\t285 & dtDRIFT & 6 & 3 &  0.0000 & 0.0000 &  0.0000 &  0.0000 & 0.0000\\\\\n",
       "\t286 & dtDRIFT & 6 & 4 &  0.0000 & 0.0000 &  0.0000 &  0.0000 & 0.0000\\\\\n",
       "\t287 & dtDRIFT & 6 & 5 &  0.0305 & 0.0542 & -0.0779 &  0.0289 & 0.1442\\\\\n",
       "\t288 & dtDRIFT & 6 & 6 &  0.7804 & 0.0495 &  0.6678 &  0.7847 & 0.8626\\\\\n",
       "\\end{tabular}\n",
       "\n",
       "\\item[\\$popsd] A data.frame: 4 × 5\n",
       "\\begin{tabular}{r|lllll}\n",
       "  & mean & sd & 2.5\\% & 50\\% & 97.5\\%\\\\\n",
       "  & <dbl> & <dbl> & <dbl> & <dbl> & <dbl>\\\\\n",
       "\\hline\n",
       "\tT0m\\_KBF & 0.2100 & 0.0388 & 0.1420 & 0.2069 & 0.2918\\\\\n",
       "\tT0m\\_VTD & 0.9456 & 0.0715 & 0.8173 & 0.9432 & 1.0942\\\\\n",
       "\tT0m\\_cintKBF & 0.1141 & 0.0131 & 0.0908 & 0.1133 & 0.1403\\\\\n",
       "\tT0m\\_cintVTD & 0.5101 & 0.0637 & 0.3996 & 0.5056 & 0.6469\\\\\n",
       "\\end{tabular}\n",
       "\n",
       "\\item[\\$popmeans] A data.frame: 15 × 5\n",
       "\\begin{tabular}{r|lllll}\n",
       "  & mean & sd & 2.5\\% & 50\\% & 97.5\\%\\\\\n",
       "  & <dbl> & <dbl> & <dbl> & <dbl> & <dbl>\\\\\n",
       "\\hline\n",
       "\tT0m\\_KBF & -0.9186 & 0.0730 & -1.0570 & -0.9188 & -0.7703\\\\\n",
       "\tT0m\\_VTD &  0.4124 & 0.1651 &  0.0949 &  0.4084 &  0.7372\\\\\n",
       "\tT0m\\_cintKBF &  0.1242 & 0.0198 &  0.0843 &  0.1247 &  0.1613\\\\\n",
       "\tT0m\\_cintVTD & -0.2988 & 0.0758 & -0.4416 & -0.2983 & -0.1456\\\\\n",
       "\tdrift\\_KBF & -0.2095 & 0.0191 & -0.2489 & -0.2088 & -0.1744\\\\\n",
       "\tdrift\\_VTD & -0.6900 & 0.0851 & -0.8777 & -0.6832 & -0.5432\\\\\n",
       "\tdrift\\_dynKBF & -0.5572 & 0.1563 & -0.9074 & -0.5354 & -0.2998\\\\\n",
       "\tdrift\\_dynKBF\\_dynVTD & -0.0782 & 0.0611 & -0.2035 & -0.0759 &  0.0470\\\\\n",
       "\tdrift\\_dynVTD\\_dynKBF &  0.0451 & 0.0802 & -0.1212 &  0.0440 &  0.2117\\\\\n",
       "\tdrift\\_dynVTD & -0.2498 & 0.0651 & -0.4027 & -0.2426 & -0.1474\\\\\n",
       "\tdiffu\\_dynKBF &  0.4153 & 0.0561 &  0.3184 &  0.4108 &  0.5366\\\\\n",
       "\tdiffu\\_dynVTD\\_dynKBF &  0.0464 & 0.0401 & -0.0278 &  0.0473 &  0.1235\\\\\n",
       "\tdiffu\\_dynVTD &  0.4167 & 0.0311 &  0.3587 &  0.4150 &  0.4840\\\\\n",
       "\tmvarY1 &  0.3151 & 0.0252 &  0.2693 &  0.3144 &  0.3669\\\\\n",
       "\tmvarY2 &  0.2404 & 0.0241 &  0.1959 &  0.2398 &  0.2919\\\\\n",
       "\\end{tabular}\n",
       "\n",
       "\\item[\\$popNote] 'popmeans are reported as specified in ctModel -- covariance related matrices are in sd / unconstrained correlation form -- see \\$parmatrices for simpler interpretations!'\n",
       "\\item[\\$loglik] -3185.23823625708\n",
       "\\item[\\$npars] 37\n",
       "\\item[\\$aic] 6444.47647251416\n",
       "\\item[\\$logposterior] -3228.68750215907\n",
       "\\end{description}\n"
      ],
      "text/markdown": [
       "$residCovStd\n",
       ":   \n",
       "A data.frame: 2 × 2\n",
       "\n",
       "| <!--/--> | Y1 &lt;dbl&gt; | Y2 &lt;dbl&gt; |\n",
       "|---|---|---|\n",
       "| Y1 | 0.258 | 0.019 |\n",
       "| Y2 | 0.019 | 0.399 |\n",
       "\n",
       "\n",
       "$resiCovStdNote\n",
       ":   'Standardised covariance of residuals'\n",
       "$rawpopcorr\n",
       ":   \n",
       "A data.frame: 6 × 6\n",
       "\n",
       "| <!--/--> | mean &lt;dbl&gt; | sd &lt;dbl&gt; | 2.5% &lt;dbl&gt; | 50% &lt;dbl&gt; | 97.5% &lt;dbl&gt; | z &lt;dbl&gt; |\n",
       "|---|---|---|---|---|---|---|\n",
       "| T0m_VTD__T0m_KBF | -0.1246 | 0.1698 | -0.4530 | -0.1308 | 0.2259 | -0.7341 |\n",
       "| T0m_cintKBF__T0m_KBF |  0.3201 | 0.1763 | -0.0512 |  0.3329 | 0.6157 |  1.8161 |\n",
       "| T0m_cintVTD__T0m_KBF |  0.1084 | 0.1489 | -0.1756 |  0.1107 | 0.3896 |  0.7282 |\n",
       "| T0m_cintKBF__T0m_VTD | -0.0097 | 0.0887 | -0.1836 | -0.0099 | 0.1637 | -0.1100 |\n",
       "| T0m_cintVTD__T0m_VTD |  0.2842 | 0.0837 |  0.1100 |  0.2878 | 0.4426 |  3.3967 |\n",
       "| T0m_cintVTD__T0m_cintKBF |  0.3376 | 0.1080 |  0.1016 |  0.3417 | 0.5333 |  3.1272 |\n",
       "\n",
       "\n",
       "$tipreds\n",
       ":   \n",
       "A data.frame: 12 × 6\n",
       "\n",
       "| <!--/--> | mean &lt;dbl&gt; | sd &lt;dbl&gt; | 2.5% &lt;dbl&gt; | 50% &lt;dbl&gt; | 97.5% &lt;dbl&gt; | z &lt;dbl&gt; |\n",
       "|---|---|---|---|---|---|---|\n",
       "| tip_Is_exp3_T0m_KBF | -0.1436 | 0.0887 | -0.3148 | -0.1454 |  0.0369 | -1.6181 |\n",
       "| tip_Is_exp3_T0m_VTD |  0.4867 | 0.2080 |  0.0536 |  0.4920 |  0.8818 |  2.3403 |\n",
       "| tip_Is_exp3_T0m_cintKBF |  0.3536 | 0.0325 |  0.2904 |  0.3536 |  0.4188 | 10.8657 |\n",
       "| tip_Is_exp3_T0m_cintVTD |  0.5976 | 0.1214 |  0.3652 |  0.5979 |  0.8333 |  4.9228 |\n",
       "| tip_Is_exp2_T0m_KBF | -0.0400 | 0.0865 | -0.2139 | -0.0391 |  0.1214 | -0.4620 |\n",
       "| tip_Is_exp2_T0m_VTD | -0.7143 | 0.1966 | -1.0947 | -0.7130 | -0.3374 | -3.6334 |\n",
       "| tip_Is_exp2_T0m_cintKBF | -0.1497 | 0.0254 | -0.1989 | -0.1503 | -0.0979 | -5.9015 |\n",
       "| tip_Is_exp2_T0m_cintVTD |  0.0823 | 0.0871 | -0.0983 |  0.0822 |  0.2465 |  0.9450 |\n",
       "| tip_IsOFH_T0m_KBF | -0.0047 | 0.0958 | -0.1935 | -0.0032 |  0.1850 | -0.0489 |\n",
       "| tip_IsOFH_T0m_VTD |  0.2429 | 0.2112 | -0.1658 |  0.2554 |  0.6493 |  1.1505 |\n",
       "| tip_IsOFH_T0m_cintKBF |  0.0625 | 0.0278 |  0.0086 |  0.0622 |  0.1184 |  2.2516 |\n",
       "| tip_IsOFH_T0m_cintVTD |  0.1628 | 0.1038 | -0.0390 |  0.1614 |  0.3545 |  1.5678 |\n",
       "\n",
       "\n",
       "$parmatrices\n",
       ":   \n",
       "A data.frame: 216 × 8\n",
       "\n",
       "| <!--/--> | matrix &lt;chr&gt; | row &lt;int&gt; | col &lt;int&gt; | Mean &lt;dbl&gt; | sd &lt;dbl&gt; | 2.5% &lt;dbl&gt; | 50% &lt;dbl&gt; | 97.5% &lt;dbl&gt; |\n",
       "|---|---|---|---|---|---|---|---|---|\n",
       "| 1 | T0MEANS | 1 | 1 | -0.9186 | 0.0730 | -1.0570 | -0.9188 | -0.7703 |\n",
       "| 2 | T0MEANS | 2 | 1 |  0.4124 | 0.1651 |  0.0949 |  0.4084 |  0.7372 |\n",
       "| 3 | T0MEANS | 3 | 1 |  0.1242 | 0.0198 |  0.0843 |  0.1247 |  0.1613 |\n",
       "| 4 | T0MEANS | 4 | 1 | -0.2988 | 0.0758 | -0.4416 | -0.2983 | -0.1456 |\n",
       "| 5 | T0MEANS | 5 | 1 |  0.0000 | 0.0000 |  0.0000 |  0.0000 |  0.0000 |\n",
       "| 6 | T0MEANS | 6 | 1 |  0.0000 | 0.0000 |  0.0000 |  0.0000 |  0.0000 |\n",
       "| 7 | LAMBDA  | 1 | 1 |  1.0000 | 0.0000 |  1.0000 |  1.0000 |  1.0000 |\n",
       "| 8 | LAMBDA  | 1 | 2 |  0.0000 | 0.0000 |  0.0000 |  0.0000 |  0.0000 |\n",
       "| 9 | LAMBDA  | 1 | 3 |  0.0000 | 0.0000 |  0.0000 |  0.0000 |  0.0000 |\n",
       "| 10 | LAMBDA  | 1 | 4 |  0.0000 | 0.0000 |  0.0000 |  0.0000 |  0.0000 |\n",
       "| 11 | LAMBDA  | 1 | 5 |  1.0000 | 0.0000 |  1.0000 |  1.0000 |  1.0000 |\n",
       "| 12 | LAMBDA  | 1 | 6 |  0.0000 | 0.0000 |  0.0000 |  0.0000 |  0.0000 |\n",
       "| 13 | LAMBDA  | 2 | 1 |  0.0000 | 0.0000 |  0.0000 |  0.0000 |  0.0000 |\n",
       "| 14 | LAMBDA  | 2 | 2 |  1.0000 | 0.0000 |  1.0000 |  1.0000 |  1.0000 |\n",
       "| 15 | LAMBDA  | 2 | 3 |  0.0000 | 0.0000 |  0.0000 |  0.0000 |  0.0000 |\n",
       "| 16 | LAMBDA  | 2 | 4 |  0.0000 | 0.0000 |  0.0000 |  0.0000 |  0.0000 |\n",
       "| 17 | LAMBDA  | 2 | 5 |  0.0000 | 0.0000 |  0.0000 |  0.0000 |  0.0000 |\n",
       "| 18 | LAMBDA  | 2 | 6 |  1.0000 | 0.0000 |  1.0000 |  1.0000 |  1.0000 |\n",
       "| 19 | DRIFT   | 1 | 1 | -0.2095 | 0.0191 | -0.2489 | -0.2088 | -0.1744 |\n",
       "| 20 | DRIFT   | 1 | 2 |  0.0000 | 0.0000 |  0.0000 |  0.0000 |  0.0000 |\n",
       "| 21 | DRIFT   | 1 | 3 |  1.0000 | 0.0000 |  1.0000 |  1.0000 |  1.0000 |\n",
       "| 22 | DRIFT   | 1 | 4 |  0.0000 | 0.0000 |  0.0000 |  0.0000 |  0.0000 |\n",
       "| 23 | DRIFT   | 1 | 5 |  0.0000 | 0.0000 |  0.0000 |  0.0000 |  0.0000 |\n",
       "| 24 | DRIFT   | 1 | 6 |  0.0000 | 0.0000 |  0.0000 |  0.0000 |  0.0000 |\n",
       "| 25 | DRIFT   | 2 | 1 |  0.0000 | 0.0000 |  0.0000 |  0.0000 |  0.0000 |\n",
       "| 26 | DRIFT   | 2 | 2 | -0.6900 | 0.0851 | -0.8777 | -0.6832 | -0.5432 |\n",
       "| 27 | DRIFT   | 2 | 3 |  0.0000 | 0.0000 |  0.0000 |  0.0000 |  0.0000 |\n",
       "| 28 | DRIFT   | 2 | 4 |  1.0000 | 0.0000 |  1.0000 |  1.0000 |  1.0000 |\n",
       "| 29 | DRIFT   | 2 | 5 |  0.0000 | 0.0000 |  0.0000 |  0.0000 |  0.0000 |\n",
       "| 30 | DRIFT   | 2 | 6 |  0.0000 | 0.0000 |  0.0000 |  0.0000 |  0.0000 |\n",
       "| ... | ... | ... | ... | ... | ... | ... | ... | ... |\n",
       "| 259 | dtDRIFT | 2 | 1 |  0.0000 | 0.0000 |  0.0000 |  0.0000 | 0.0000 |\n",
       "| 260 | dtDRIFT | 2 | 2 |  0.5034 | 0.0420 |  0.4157 |  0.5050 | 0.5809 |\n",
       "| 261 | dtDRIFT | 2 | 3 |  0.0000 | 0.0000 |  0.0000 |  0.0000 | 0.0000 |\n",
       "| 262 | dtDRIFT | 2 | 4 |  0.7231 | 0.0269 |  0.6657 |  0.7245 | 0.7716 |\n",
       "| 263 | dtDRIFT | 2 | 5 |  0.0000 | 0.0000 |  0.0000 |  0.0000 | 0.0000 |\n",
       "| 264 | dtDRIFT | 2 | 6 |  0.0000 | 0.0000 |  0.0000 |  0.0000 | 0.0000 |\n",
       "| 265 | dtDRIFT | 3 | 1 |  0.0000 | 0.0000 |  0.0000 |  0.0000 | 0.0000 |\n",
       "| 266 | dtDRIFT | 3 | 2 |  0.0000 | 0.0000 |  0.0000 |  0.0000 | 0.0000 |\n",
       "| 267 | dtDRIFT | 3 | 3 |  1.0000 | 0.0000 |  1.0000 |  1.0000 | 1.0000 |\n",
       "| 268 | dtDRIFT | 3 | 4 |  0.0000 | 0.0000 |  0.0000 |  0.0000 | 0.0000 |\n",
       "| 269 | dtDRIFT | 3 | 5 |  0.0000 | 0.0000 |  0.0000 |  0.0000 | 0.0000 |\n",
       "| 270 | dtDRIFT | 3 | 6 |  0.0000 | 0.0000 |  0.0000 |  0.0000 | 0.0000 |\n",
       "| 271 | dtDRIFT | 4 | 1 |  0.0000 | 0.0000 |  0.0000 |  0.0000 | 0.0000 |\n",
       "| 272 | dtDRIFT | 4 | 2 |  0.0000 | 0.0000 |  0.0000 |  0.0000 | 0.0000 |\n",
       "| 273 | dtDRIFT | 4 | 3 |  0.0000 | 0.0000 |  0.0000 |  0.0000 | 0.0000 |\n",
       "| 274 | dtDRIFT | 4 | 4 |  1.0000 | 0.0000 |  1.0000 |  1.0000 | 1.0000 |\n",
       "| 275 | dtDRIFT | 4 | 5 |  0.0000 | 0.0000 |  0.0000 |  0.0000 | 0.0000 |\n",
       "| 276 | dtDRIFT | 4 | 6 |  0.0000 | 0.0000 |  0.0000 |  0.0000 | 0.0000 |\n",
       "| 277 | dtDRIFT | 5 | 1 |  0.0000 | 0.0000 |  0.0000 |  0.0000 | 0.0000 |\n",
       "| 278 | dtDRIFT | 5 | 2 |  0.0000 | 0.0000 |  0.0000 |  0.0000 | 0.0000 |\n",
       "| 279 | dtDRIFT | 5 | 3 |  0.0000 | 0.0000 |  0.0000 |  0.0000 | 0.0000 |\n",
       "| 280 | dtDRIFT | 5 | 4 |  0.0000 | 0.0000 |  0.0000 |  0.0000 | 0.0000 |\n",
       "| 281 | dtDRIFT | 5 | 5 |  0.5794 | 0.0863 |  0.4017 |  0.5853 | 0.7406 |\n",
       "| 282 | dtDRIFT | 5 | 6 | -0.0523 | 0.0411 | -0.1326 | -0.0512 | 0.0317 |\n",
       "| 283 | dtDRIFT | 6 | 1 |  0.0000 | 0.0000 |  0.0000 |  0.0000 | 0.0000 |\n",
       "| 284 | dtDRIFT | 6 | 2 |  0.0000 | 0.0000 |  0.0000 |  0.0000 | 0.0000 |\n",
       "| 285 | dtDRIFT | 6 | 3 |  0.0000 | 0.0000 |  0.0000 |  0.0000 | 0.0000 |\n",
       "| 286 | dtDRIFT | 6 | 4 |  0.0000 | 0.0000 |  0.0000 |  0.0000 | 0.0000 |\n",
       "| 287 | dtDRIFT | 6 | 5 |  0.0305 | 0.0542 | -0.0779 |  0.0289 | 0.1442 |\n",
       "| 288 | dtDRIFT | 6 | 6 |  0.7804 | 0.0495 |  0.6678 |  0.7847 | 0.8626 |\n",
       "\n",
       "\n",
       "$popsd\n",
       ":   \n",
       "A data.frame: 4 × 5\n",
       "\n",
       "| <!--/--> | mean &lt;dbl&gt; | sd &lt;dbl&gt; | 2.5% &lt;dbl&gt; | 50% &lt;dbl&gt; | 97.5% &lt;dbl&gt; |\n",
       "|---|---|---|---|---|---|\n",
       "| T0m_KBF | 0.2100 | 0.0388 | 0.1420 | 0.2069 | 0.2918 |\n",
       "| T0m_VTD | 0.9456 | 0.0715 | 0.8173 | 0.9432 | 1.0942 |\n",
       "| T0m_cintKBF | 0.1141 | 0.0131 | 0.0908 | 0.1133 | 0.1403 |\n",
       "| T0m_cintVTD | 0.5101 | 0.0637 | 0.3996 | 0.5056 | 0.6469 |\n",
       "\n",
       "\n",
       "$popmeans\n",
       ":   \n",
       "A data.frame: 15 × 5\n",
       "\n",
       "| <!--/--> | mean &lt;dbl&gt; | sd &lt;dbl&gt; | 2.5% &lt;dbl&gt; | 50% &lt;dbl&gt; | 97.5% &lt;dbl&gt; |\n",
       "|---|---|---|---|---|---|\n",
       "| T0m_KBF | -0.9186 | 0.0730 | -1.0570 | -0.9188 | -0.7703 |\n",
       "| T0m_VTD |  0.4124 | 0.1651 |  0.0949 |  0.4084 |  0.7372 |\n",
       "| T0m_cintKBF |  0.1242 | 0.0198 |  0.0843 |  0.1247 |  0.1613 |\n",
       "| T0m_cintVTD | -0.2988 | 0.0758 | -0.4416 | -0.2983 | -0.1456 |\n",
       "| drift_KBF | -0.2095 | 0.0191 | -0.2489 | -0.2088 | -0.1744 |\n",
       "| drift_VTD | -0.6900 | 0.0851 | -0.8777 | -0.6832 | -0.5432 |\n",
       "| drift_dynKBF | -0.5572 | 0.1563 | -0.9074 | -0.5354 | -0.2998 |\n",
       "| drift_dynKBF_dynVTD | -0.0782 | 0.0611 | -0.2035 | -0.0759 |  0.0470 |\n",
       "| drift_dynVTD_dynKBF |  0.0451 | 0.0802 | -0.1212 |  0.0440 |  0.2117 |\n",
       "| drift_dynVTD | -0.2498 | 0.0651 | -0.4027 | -0.2426 | -0.1474 |\n",
       "| diffu_dynKBF |  0.4153 | 0.0561 |  0.3184 |  0.4108 |  0.5366 |\n",
       "| diffu_dynVTD_dynKBF |  0.0464 | 0.0401 | -0.0278 |  0.0473 |  0.1235 |\n",
       "| diffu_dynVTD |  0.4167 | 0.0311 |  0.3587 |  0.4150 |  0.4840 |\n",
       "| mvarY1 |  0.3151 | 0.0252 |  0.2693 |  0.3144 |  0.3669 |\n",
       "| mvarY2 |  0.2404 | 0.0241 |  0.1959 |  0.2398 |  0.2919 |\n",
       "\n",
       "\n",
       "$popNote\n",
       ":   'popmeans are reported as specified in ctModel -- covariance related matrices are in sd / unconstrained correlation form -- see $parmatrices for simpler interpretations!'\n",
       "$loglik\n",
       ":   -3185.23823625708\n",
       "$npars\n",
       ":   37\n",
       "$aic\n",
       ":   6444.47647251416\n",
       "$logposterior\n",
       ":   -3228.68750215907\n",
       "\n",
       "\n"
      ],
      "text/plain": [
       "$residCovStd\n",
       "      Y1    Y2\n",
       "Y1 0.258 0.019\n",
       "Y2 0.019 0.399\n",
       "\n",
       "$resiCovStdNote\n",
       "[1] \"Standardised covariance of residuals\"\n",
       "\n",
       "$rawpopcorr\n",
       "                            mean     sd    2.5%     50%  97.5%       z\n",
       "T0m_VTD__T0m_KBF         -0.1246 0.1698 -0.4530 -0.1308 0.2259 -0.7341\n",
       "T0m_cintKBF__T0m_KBF      0.3201 0.1763 -0.0512  0.3329 0.6157  1.8161\n",
       "T0m_cintVTD__T0m_KBF      0.1084 0.1489 -0.1756  0.1107 0.3896  0.7282\n",
       "T0m_cintKBF__T0m_VTD     -0.0097 0.0887 -0.1836 -0.0099 0.1637 -0.1100\n",
       "T0m_cintVTD__T0m_VTD      0.2842 0.0837  0.1100  0.2878 0.4426  3.3967\n",
       "T0m_cintVTD__T0m_cintKBF  0.3376 0.1080  0.1016  0.3417 0.5333  3.1272\n",
       "\n",
       "$tipreds\n",
       "                           mean     sd    2.5%     50%   97.5%       z\n",
       "tip_Is_exp3_T0m_KBF     -0.1436 0.0887 -0.3148 -0.1454  0.0369 -1.6181\n",
       "tip_Is_exp3_T0m_VTD      0.4867 0.2080  0.0536  0.4920  0.8818  2.3403\n",
       "tip_Is_exp3_T0m_cintKBF  0.3536 0.0325  0.2904  0.3536  0.4188 10.8657\n",
       "tip_Is_exp3_T0m_cintVTD  0.5976 0.1214  0.3652  0.5979  0.8333  4.9228\n",
       "tip_Is_exp2_T0m_KBF     -0.0400 0.0865 -0.2139 -0.0391  0.1214 -0.4620\n",
       "tip_Is_exp2_T0m_VTD     -0.7143 0.1966 -1.0947 -0.7130 -0.3374 -3.6334\n",
       "tip_Is_exp2_T0m_cintKBF -0.1497 0.0254 -0.1989 -0.1503 -0.0979 -5.9015\n",
       "tip_Is_exp2_T0m_cintVTD  0.0823 0.0871 -0.0983  0.0822  0.2465  0.9450\n",
       "tip_IsOFH_T0m_KBF       -0.0047 0.0958 -0.1935 -0.0032  0.1850 -0.0489\n",
       "tip_IsOFH_T0m_VTD        0.2429 0.2112 -0.1658  0.2554  0.6493  1.1505\n",
       "tip_IsOFH_T0m_cintKBF    0.0625 0.0278  0.0086  0.0622  0.1184  2.2516\n",
       "tip_IsOFH_T0m_cintVTD    0.1628 0.1038 -0.0390  0.1614  0.3545  1.5678\n",
       "\n",
       "$parmatrices\n",
       "              matrix row col    Mean     sd    2.5%     50%   97.5%\n",
       "1            T0MEANS   1   1 -0.9186 0.0730 -1.0570 -0.9188 -0.7703\n",
       "2            T0MEANS   2   1  0.4124 0.1651  0.0949  0.4084  0.7372\n",
       "3            T0MEANS   3   1  0.1242 0.0198  0.0843  0.1247  0.1613\n",
       "4            T0MEANS   4   1 -0.2988 0.0758 -0.4416 -0.2983 -0.1456\n",
       "5            T0MEANS   5   1  0.0000 0.0000  0.0000  0.0000  0.0000\n",
       "6            T0MEANS   6   1  0.0000 0.0000  0.0000  0.0000  0.0000\n",
       "7             LAMBDA   1   1  1.0000 0.0000  1.0000  1.0000  1.0000\n",
       "8             LAMBDA   1   2  0.0000 0.0000  0.0000  0.0000  0.0000\n",
       "9             LAMBDA   1   3  0.0000 0.0000  0.0000  0.0000  0.0000\n",
       "10            LAMBDA   1   4  0.0000 0.0000  0.0000  0.0000  0.0000\n",
       "11            LAMBDA   1   5  1.0000 0.0000  1.0000  1.0000  1.0000\n",
       "12            LAMBDA   1   6  0.0000 0.0000  0.0000  0.0000  0.0000\n",
       "13            LAMBDA   2   1  0.0000 0.0000  0.0000  0.0000  0.0000\n",
       "14            LAMBDA   2   2  1.0000 0.0000  1.0000  1.0000  1.0000\n",
       "15            LAMBDA   2   3  0.0000 0.0000  0.0000  0.0000  0.0000\n",
       "16            LAMBDA   2   4  0.0000 0.0000  0.0000  0.0000  0.0000\n",
       "17            LAMBDA   2   5  0.0000 0.0000  0.0000  0.0000  0.0000\n",
       "18            LAMBDA   2   6  1.0000 0.0000  1.0000  1.0000  1.0000\n",
       "19             DRIFT   1   1 -0.2095 0.0191 -0.2489 -0.2088 -0.1744\n",
       "20             DRIFT   1   2  0.0000 0.0000  0.0000  0.0000  0.0000\n",
       "21             DRIFT   1   3  1.0000 0.0000  1.0000  1.0000  1.0000\n",
       "22             DRIFT   1   4  0.0000 0.0000  0.0000  0.0000  0.0000\n",
       "23             DRIFT   1   5  0.0000 0.0000  0.0000  0.0000  0.0000\n",
       "24             DRIFT   1   6  0.0000 0.0000  0.0000  0.0000  0.0000\n",
       "25             DRIFT   2   1  0.0000 0.0000  0.0000  0.0000  0.0000\n",
       "26             DRIFT   2   2 -0.6900 0.0851 -0.8777 -0.6832 -0.5432\n",
       "27             DRIFT   2   3  0.0000 0.0000  0.0000  0.0000  0.0000\n",
       "28             DRIFT   2   4  1.0000 0.0000  1.0000  1.0000  1.0000\n",
       "29             DRIFT   2   5  0.0000 0.0000  0.0000  0.0000  0.0000\n",
       "30             DRIFT   2   6  0.0000 0.0000  0.0000  0.0000  0.0000\n",
       "31             DRIFT   3   1  0.0000 0.0000  0.0000  0.0000  0.0000\n",
       "32             DRIFT   3   2  0.0000 0.0000  0.0000  0.0000  0.0000\n",
       "33             DRIFT   3   3  0.0000 0.0000  0.0000  0.0000  0.0000\n",
       "34             DRIFT   3   4  0.0000 0.0000  0.0000  0.0000  0.0000\n",
       "35             DRIFT   3   5  0.0000 0.0000  0.0000  0.0000  0.0000\n",
       "36             DRIFT   3   6  0.0000 0.0000  0.0000  0.0000  0.0000\n",
       "37             DRIFT   4   1  0.0000 0.0000  0.0000  0.0000  0.0000\n",
       "38             DRIFT   4   2  0.0000 0.0000  0.0000  0.0000  0.0000\n",
       "39             DRIFT   4   3  0.0000 0.0000  0.0000  0.0000  0.0000\n",
       "40             DRIFT   4   4  0.0000 0.0000  0.0000  0.0000  0.0000\n",
       "41             DRIFT   4   5  0.0000 0.0000  0.0000  0.0000  0.0000\n",
       "42             DRIFT   4   6  0.0000 0.0000  0.0000  0.0000  0.0000\n",
       "43             DRIFT   5   1  0.0000 0.0000  0.0000  0.0000  0.0000\n",
       "44             DRIFT   5   2  0.0000 0.0000  0.0000  0.0000  0.0000\n",
       "45             DRIFT   5   3  0.0000 0.0000  0.0000  0.0000  0.0000\n",
       "46             DRIFT   5   4  0.0000 0.0000  0.0000  0.0000  0.0000\n",
       "47             DRIFT   5   5 -0.5572 0.1563 -0.9074 -0.5354 -0.2998\n",
       "48             DRIFT   5   6 -0.0782 0.0611 -0.2035 -0.0759  0.0470\n",
       "49             DRIFT   6   1  0.0000 0.0000  0.0000  0.0000  0.0000\n",
       "50             DRIFT   6   2  0.0000 0.0000  0.0000  0.0000  0.0000\n",
       "51             DRIFT   6   3  0.0000 0.0000  0.0000  0.0000  0.0000\n",
       "52             DRIFT   6   4  0.0000 0.0000  0.0000  0.0000  0.0000\n",
       "53             DRIFT   6   5  0.0451 0.0802 -0.1212  0.0440  0.2117\n",
       "54             DRIFT   6   6 -0.2498 0.0651 -0.4027 -0.2426 -0.1474\n",
       "91     MANIFESTMEANS   1   1  0.0000 0.0000  0.0000  0.0000  0.0000\n",
       "92     MANIFESTMEANS   2   1  0.0000 0.0000  0.0000  0.0000  0.0000\n",
       "93              CINT   1   1  0.0000 0.0000  0.0000  0.0000  0.0000\n",
       "94              CINT   2   1  0.0000 0.0000  0.0000  0.0000  0.0000\n",
       "95              CINT   3   1  0.0000 0.0000  0.0000  0.0000  0.0000\n",
       "96              CINT   4   1  0.0000 0.0000  0.0000  0.0000  0.0000\n",
       "97              CINT   5   1  0.0000 0.0000  0.0000  0.0000  0.0000\n",
       "98              CINT   6   1  0.0000 0.0000  0.0000  0.0000  0.0000\n",
       "135         asymCINT   1   1  0.0000 0.0000  0.0000  0.0000  0.0000\n",
       "136         asymCINT   2   1  0.0000 0.0000  0.0000  0.0000  0.0000\n",
       "137         asymCINT   3   1  0.0000 0.0000  0.0000  0.0000  0.0000\n",
       "138         asymCINT   4   1  0.0000 0.0000  0.0000  0.0000  0.0000\n",
       "139         asymCINT   5   1  0.0000 0.0000  0.0000  0.0000  0.0000\n",
       "140         asymCINT   6   1  0.0000 0.0000  0.0000  0.0000  0.0000\n",
       "141 asymDIFFUSIONcov   1   1  0.0000 0.0000  0.0000  0.0000  0.0000\n",
       "142 asymDIFFUSIONcov   1   2  0.0000 0.0000  0.0000  0.0000  0.0000\n",
       "143 asymDIFFUSIONcov   1   3  0.0000 0.0000  0.0000  0.0000  0.0000\n",
       "144 asymDIFFUSIONcov   1   4  0.0000 0.0000  0.0000  0.0000  0.0000\n",
       "145 asymDIFFUSIONcov   1   5  0.0000 0.0000  0.0000  0.0000  0.0000\n",
       "146 asymDIFFUSIONcov   1   6  0.0000 0.0000  0.0000  0.0000  0.0000\n",
       "147 asymDIFFUSIONcov   2   1  0.0000 0.0000  0.0000  0.0000  0.0000\n",
       "148 asymDIFFUSIONcov   2   2  0.0000 0.0000  0.0000  0.0000  0.0000\n",
       "149 asymDIFFUSIONcov   2   3  0.0000 0.0000  0.0000  0.0000  0.0000\n",
       "150 asymDIFFUSIONcov   2   4  0.0000 0.0000  0.0000  0.0000  0.0000\n",
       "151 asymDIFFUSIONcov   2   5  0.0000 0.0000  0.0000  0.0000  0.0000\n",
       "152 asymDIFFUSIONcov   2   6  0.0000 0.0000  0.0000  0.0000  0.0000\n",
       "153 asymDIFFUSIONcov   3   1  0.0000 0.0000  0.0000  0.0000  0.0000\n",
       "154 asymDIFFUSIONcov   3   2  0.0000 0.0000  0.0000  0.0000  0.0000\n",
       "155 asymDIFFUSIONcov   3   3  0.0000 0.0000  0.0000  0.0000  0.0000\n",
       "156 asymDIFFUSIONcov   3   4  0.0000 0.0000  0.0000  0.0000  0.0000\n",
       "157 asymDIFFUSIONcov   3   5  0.0000 0.0000  0.0000  0.0000  0.0000\n",
       "158 asymDIFFUSIONcov   3   6  0.0000 0.0000  0.0000  0.0000  0.0000\n",
       "159 asymDIFFUSIONcov   4   1  0.0000 0.0000  0.0000  0.0000  0.0000\n",
       "160 asymDIFFUSIONcov   4   2  0.0000 0.0000  0.0000  0.0000  0.0000\n",
       "161 asymDIFFUSIONcov   4   3  0.0000 0.0000  0.0000  0.0000  0.0000\n",
       "162 asymDIFFUSIONcov   4   4  0.0000 0.0000  0.0000  0.0000  0.0000\n",
       "163 asymDIFFUSIONcov   4   5  0.0000 0.0000  0.0000  0.0000  0.0000\n",
       "164 asymDIFFUSIONcov   4   6  0.0000 0.0000  0.0000  0.0000  0.0000\n",
       "165 asymDIFFUSIONcov   5   1  0.0000 0.0000  0.0000  0.0000  0.0000\n",
       "166 asymDIFFUSIONcov   5   2  0.0000 0.0000  0.0000  0.0000  0.0000\n",
       "167 asymDIFFUSIONcov   5   3  0.0000 0.0000  0.0000  0.0000  0.0000\n",
       "168 asymDIFFUSIONcov   5   4  0.0000 0.0000  0.0000  0.0000  0.0000\n",
       "169 asymDIFFUSIONcov   5   5  0.1644 0.0256  0.1253  0.1624  0.2173\n",
       "170 asymDIFFUSIONcov   5   6 -0.0072 0.0379 -0.0792 -0.0054  0.0610\n",
       "171 asymDIFFUSIONcov   6   1  0.0000 0.0000  0.0000  0.0000  0.0000\n",
       "172 asymDIFFUSIONcov   6   2  0.0000 0.0000  0.0000  0.0000  0.0000\n",
       "173 asymDIFFUSIONcov   6   3  0.0000 0.0000  0.0000  0.0000  0.0000\n",
       "174 asymDIFFUSIONcov   6   4  0.0000 0.0000  0.0000  0.0000  0.0000\n",
       "175 asymDIFFUSIONcov   6   5 -0.0072 0.0379 -0.0792 -0.0054  0.0610\n",
       "176 asymDIFFUSIONcov   6   6  0.3697 0.0692  0.2606  0.3621  0.5153\n",
       "177     DIFFUSIONcov   1   1  0.0000 0.0000  0.0000  0.0000  0.0000\n",
       "178     DIFFUSIONcov   1   2  0.0000 0.0000  0.0000  0.0000  0.0000\n",
       "179     DIFFUSIONcov   1   3  0.0000 0.0000  0.0000  0.0000  0.0000\n",
       "180     DIFFUSIONcov   1   4  0.0000 0.0000  0.0000  0.0000  0.0000\n",
       "181     DIFFUSIONcov   1   5  0.0000 0.0000  0.0000  0.0000  0.0000\n",
       "182     DIFFUSIONcov   1   6  0.0000 0.0000  0.0000  0.0000  0.0000\n",
       "183     DIFFUSIONcov   2   1  0.0000 0.0000  0.0000  0.0000  0.0000\n",
       "184     DIFFUSIONcov   2   2  0.0000 0.0000  0.0000  0.0000  0.0000\n",
       "185     DIFFUSIONcov   2   3  0.0000 0.0000  0.0000  0.0000  0.0000\n",
       "186     DIFFUSIONcov   2   4  0.0000 0.0000  0.0000  0.0000  0.0000\n",
       "187     DIFFUSIONcov   2   5  0.0000 0.0000  0.0000  0.0000  0.0000\n",
       "188     DIFFUSIONcov   2   6  0.0000 0.0000  0.0000  0.0000  0.0000\n",
       "189     DIFFUSIONcov   3   1  0.0000 0.0000  0.0000  0.0000  0.0000\n",
       "190     DIFFUSIONcov   3   2  0.0000 0.0000  0.0000  0.0000  0.0000\n",
       "191     DIFFUSIONcov   3   3  0.0000 0.0000  0.0000  0.0000  0.0000\n",
       "192     DIFFUSIONcov   3   4  0.0000 0.0000  0.0000  0.0000  0.0000\n",
       "193     DIFFUSIONcov   3   5  0.0000 0.0000  0.0000  0.0000  0.0000\n",
       "194     DIFFUSIONcov   3   6  0.0000 0.0000  0.0000  0.0000  0.0000\n",
       "195     DIFFUSIONcov   4   1  0.0000 0.0000  0.0000  0.0000  0.0000\n",
       "196     DIFFUSIONcov   4   2  0.0000 0.0000  0.0000  0.0000  0.0000\n",
       "197     DIFFUSIONcov   4   3  0.0000 0.0000  0.0000  0.0000  0.0000\n",
       "198     DIFFUSIONcov   4   4  0.0000 0.0000  0.0000  0.0000  0.0000\n",
       "199     DIFFUSIONcov   4   5  0.0000 0.0000  0.0000  0.0000  0.0000\n",
       "200     DIFFUSIONcov   4   6  0.0000 0.0000  0.0000  0.0000  0.0000\n",
       "201     DIFFUSIONcov   5   1  0.0000 0.0000  0.0000  0.0000  0.0000\n",
       "202     DIFFUSIONcov   5   2  0.0000 0.0000  0.0000  0.0000  0.0000\n",
       "203     DIFFUSIONcov   5   3  0.0000 0.0000  0.0000  0.0000  0.0000\n",
       "204     DIFFUSIONcov   5   4  0.0000 0.0000  0.0000  0.0000  0.0000\n",
       "205     DIFFUSIONcov   5   5  0.1757 0.0480  0.1014  0.1688  0.2879\n",
       "206     DIFFUSIONcov   5   6  0.0157 0.0140 -0.0096  0.0152  0.0444\n",
       "207     DIFFUSIONcov   6   1  0.0000 0.0000  0.0000  0.0000  0.0000\n",
       "208     DIFFUSIONcov   6   2  0.0000 0.0000  0.0000  0.0000  0.0000\n",
       "209     DIFFUSIONcov   6   3  0.0000 0.0000  0.0000  0.0000  0.0000\n",
       "210     DIFFUSIONcov   6   4  0.0000 0.0000  0.0000  0.0000  0.0000\n",
       "211     DIFFUSIONcov   6   5  0.0157 0.0140 -0.0096  0.0152  0.0444\n",
       "212     DIFFUSIONcov   6   6  0.1746 0.0263  0.1286  0.1723  0.2342\n",
       "213      MANIFESTcov   1   1  0.0999 0.0160  0.0725  0.0988  0.1346\n",
       "214      MANIFESTcov   1   2  0.0000 0.0000  0.0000  0.0000  0.0000\n",
       "215      MANIFESTcov   2   1  0.0000 0.0000  0.0000  0.0000  0.0000\n",
       "216      MANIFESTcov   2   2  0.0584 0.0118  0.0384  0.0575  0.0852\n",
       "217            T0cov   1   1  0.0456 0.0170  0.0205  0.0428  0.0852\n",
       "218            T0cov   1   2 -0.0248 0.0347 -0.0948 -0.0253  0.0444\n",
       "219            T0cov   1   3  0.0072 0.0039 -0.0015  0.0076  0.0135\n",
       "220            T0cov   1   4  0.0115 0.0164 -0.0207  0.0116  0.0458\n",
       "221            T0cov   1   5  0.0000 0.0000  0.0000  0.0000  0.0000\n",
       "222            T0cov   1   6  0.0000 0.0000  0.0000  0.0000  0.0000\n",
       "223            T0cov   2   1 -0.0248 0.0347 -0.0948 -0.0253  0.0444\n",
       "224            T0cov   2   2  0.8984 0.1283  0.6633  0.8933  1.1722\n",
       "225            T0cov   2   3 -0.0011 0.0097 -0.0211 -0.0011  0.0175\n",
       "226            T0cov   2   4  0.1365 0.0440  0.0525  0.1351  0.2270\n",
       "227            T0cov   2   5  0.0000 0.0000  0.0000  0.0000  0.0000\n",
       "228            T0cov   2   6  0.0000 0.0000  0.0000  0.0000  0.0000\n",
       "229            T0cov   3   1  0.0072 0.0039 -0.0015  0.0076  0.0135\n",
       "230            T0cov   3   2 -0.0011 0.0097 -0.0211 -0.0011  0.0175\n",
       "231            T0cov   3   3  0.0132 0.0030  0.0084  0.0129  0.0199\n",
       "232            T0cov   3   4  0.0195 0.0068  0.0064  0.0193  0.0326\n",
       "233            T0cov   3   5  0.0000 0.0000  0.0000  0.0000  0.0000\n",
       "234            T0cov   3   6  0.0000 0.0000  0.0000  0.0000  0.0000\n",
       "235            T0cov   4   1  0.0115 0.0164 -0.0207  0.0116  0.0458\n",
       "236            T0cov   4   2  0.1365 0.0440  0.0525  0.1351  0.2270\n",
       "237            T0cov   4   3  0.0195 0.0068  0.0064  0.0193  0.0326\n",
       "238            T0cov   4   4  0.2641 0.0669  0.1591  0.2560  0.4171\n",
       "239            T0cov   4   5  0.0000 0.0000  0.0000  0.0000  0.0000\n",
       "240            T0cov   4   6  0.0000 0.0000  0.0000  0.0000  0.0000\n",
       "241            T0cov   5   1  0.0000 0.0000  0.0000  0.0000  0.0000\n",
       "242            T0cov   5   2  0.0000 0.0000  0.0000  0.0000  0.0000\n",
       "243            T0cov   5   3  0.0000 0.0000  0.0000  0.0000  0.0000\n",
       "244            T0cov   5   4  0.0000 0.0000  0.0000  0.0000  0.0000\n",
       "245            T0cov   5   5  0.0000 0.0000  0.0000  0.0000  0.0000\n",
       "246            T0cov   5   6  0.0000 0.0000  0.0000  0.0000  0.0000\n",
       "247            T0cov   6   1  0.0000 0.0000  0.0000  0.0000  0.0000\n",
       "248            T0cov   6   2  0.0000 0.0000  0.0000  0.0000  0.0000\n",
       "249            T0cov   6   3  0.0000 0.0000  0.0000  0.0000  0.0000\n",
       "250            T0cov   6   4  0.0000 0.0000  0.0000  0.0000  0.0000\n",
       "251            T0cov   6   5  0.0000 0.0000  0.0000  0.0000  0.0000\n",
       "252            T0cov   6   6  0.0000 0.0000  0.0000  0.0000  0.0000\n",
       "253          dtDRIFT   1   1  0.8112 0.0155  0.7797  0.8115  0.8400\n",
       "254          dtDRIFT   1   2  0.0000 0.0000  0.0000  0.0000  0.0000\n",
       "255          dtDRIFT   1   3  0.9023 0.0083  0.8853  0.9025  0.9176\n",
       "256          dtDRIFT   1   4  0.0000 0.0000  0.0000  0.0000  0.0000\n",
       "257          dtDRIFT   1   5  0.0000 0.0000  0.0000  0.0000  0.0000\n",
       "258          dtDRIFT   1   6  0.0000 0.0000  0.0000  0.0000  0.0000\n",
       "259          dtDRIFT   2   1  0.0000 0.0000  0.0000  0.0000  0.0000\n",
       "260          dtDRIFT   2   2  0.5034 0.0420  0.4157  0.5050  0.5809\n",
       "261          dtDRIFT   2   3  0.0000 0.0000  0.0000  0.0000  0.0000\n",
       "262          dtDRIFT   2   4  0.7231 0.0269  0.6657  0.7245  0.7716\n",
       "263          dtDRIFT   2   5  0.0000 0.0000  0.0000  0.0000  0.0000\n",
       "264          dtDRIFT   2   6  0.0000 0.0000  0.0000  0.0000  0.0000\n",
       "265          dtDRIFT   3   1  0.0000 0.0000  0.0000  0.0000  0.0000\n",
       "266          dtDRIFT   3   2  0.0000 0.0000  0.0000  0.0000  0.0000\n",
       "267          dtDRIFT   3   3  1.0000 0.0000  1.0000  1.0000  1.0000\n",
       "268          dtDRIFT   3   4  0.0000 0.0000  0.0000  0.0000  0.0000\n",
       "269          dtDRIFT   3   5  0.0000 0.0000  0.0000  0.0000  0.0000\n",
       "270          dtDRIFT   3   6  0.0000 0.0000  0.0000  0.0000  0.0000\n",
       "271          dtDRIFT   4   1  0.0000 0.0000  0.0000  0.0000  0.0000\n",
       "272          dtDRIFT   4   2  0.0000 0.0000  0.0000  0.0000  0.0000\n",
       "273          dtDRIFT   4   3  0.0000 0.0000  0.0000  0.0000  0.0000\n",
       "274          dtDRIFT   4   4  1.0000 0.0000  1.0000  1.0000  1.0000\n",
       "275          dtDRIFT   4   5  0.0000 0.0000  0.0000  0.0000  0.0000\n",
       "276          dtDRIFT   4   6  0.0000 0.0000  0.0000  0.0000  0.0000\n",
       "277          dtDRIFT   5   1  0.0000 0.0000  0.0000  0.0000  0.0000\n",
       "278          dtDRIFT   5   2  0.0000 0.0000  0.0000  0.0000  0.0000\n",
       "279          dtDRIFT   5   3  0.0000 0.0000  0.0000  0.0000  0.0000\n",
       "280          dtDRIFT   5   4  0.0000 0.0000  0.0000  0.0000  0.0000\n",
       "281          dtDRIFT   5   5  0.5794 0.0863  0.4017  0.5853  0.7406\n",
       "282          dtDRIFT   5   6 -0.0523 0.0411 -0.1326 -0.0512  0.0317\n",
       "283          dtDRIFT   6   1  0.0000 0.0000  0.0000  0.0000  0.0000\n",
       "284          dtDRIFT   6   2  0.0000 0.0000  0.0000  0.0000  0.0000\n",
       "285          dtDRIFT   6   3  0.0000 0.0000  0.0000  0.0000  0.0000\n",
       "286          dtDRIFT   6   4  0.0000 0.0000  0.0000  0.0000  0.0000\n",
       "287          dtDRIFT   6   5  0.0305 0.0542 -0.0779  0.0289  0.1442\n",
       "288          dtDRIFT   6   6  0.7804 0.0495  0.6678  0.7847  0.8626\n",
       "\n",
       "$popsd\n",
       "              mean     sd   2.5%    50%  97.5%\n",
       "T0m_KBF     0.2100 0.0388 0.1420 0.2069 0.2918\n",
       "T0m_VTD     0.9456 0.0715 0.8173 0.9432 1.0942\n",
       "T0m_cintKBF 0.1141 0.0131 0.0908 0.1133 0.1403\n",
       "T0m_cintVTD 0.5101 0.0637 0.3996 0.5056 0.6469\n",
       "\n",
       "$popmeans\n",
       "                       mean     sd    2.5%     50%   97.5%\n",
       "T0m_KBF             -0.9186 0.0730 -1.0570 -0.9188 -0.7703\n",
       "T0m_VTD              0.4124 0.1651  0.0949  0.4084  0.7372\n",
       "T0m_cintKBF          0.1242 0.0198  0.0843  0.1247  0.1613\n",
       "T0m_cintVTD         -0.2988 0.0758 -0.4416 -0.2983 -0.1456\n",
       "drift_KBF           -0.2095 0.0191 -0.2489 -0.2088 -0.1744\n",
       "drift_VTD           -0.6900 0.0851 -0.8777 -0.6832 -0.5432\n",
       "drift_dynKBF        -0.5572 0.1563 -0.9074 -0.5354 -0.2998\n",
       "drift_dynKBF_dynVTD -0.0782 0.0611 -0.2035 -0.0759  0.0470\n",
       "drift_dynVTD_dynKBF  0.0451 0.0802 -0.1212  0.0440  0.2117\n",
       "drift_dynVTD        -0.2498 0.0651 -0.4027 -0.2426 -0.1474\n",
       "diffu_dynKBF         0.4153 0.0561  0.3184  0.4108  0.5366\n",
       "diffu_dynVTD_dynKBF  0.0464 0.0401 -0.0278  0.0473  0.1235\n",
       "diffu_dynVTD         0.4167 0.0311  0.3587  0.4150  0.4840\n",
       "mvarY1               0.3151 0.0252  0.2693  0.3144  0.3669\n",
       "mvarY2               0.2404 0.0241  0.1959  0.2398  0.2919\n",
       "\n",
       "$popNote\n",
       "[1] \"popmeans are reported as specified in ctModel -- covariance related matrices are in sd / unconstrained correlation form -- see $parmatrices for simpler interpretations!\"\n",
       "\n",
       "$loglik\n",
       "[1] -3185.238\n",
       "\n",
       "$npars\n",
       "[1] 37\n",
       "\n",
       "$aic\n",
       "[1] 6444.476\n",
       "\n",
       "$logposterior\n",
       "[1] -3228.688\n"
      ]
     },
     "metadata": {},
     "output_type": "display_data"
    }
   ],
   "source": [
    "summary(fit_mvtha)"
   ]
  },
  {
   "cell_type": "code",
   "execution_count": 21,
   "id": "b7e66185",
   "metadata": {},
   "outputs": [
    {
     "name": "stderr",
     "output_type": "stream",
     "text": [
      "Computing quantities for 1500 samples...\n",
      "\n",
      "Generating data from posterior\n",
      "\n",
      "Using 2/12 logical CPU cores\n",
      "\n"
     ]
    },
    {
     "data": {
      "text/plain": [
       "NULL"
      ]
     },
     "metadata": {},
     "output_type": "display_data"
    },
    {
     "data": {
      "text/html": [
       "<strong>png:</strong> 2"
      ],
      "text/latex": [
       "\\textbf{png:} 2"
      ],
      "text/markdown": [
       "**png:** 2"
      ],
      "text/plain": [
       "png \n",
       "  2 "
      ]
     },
     "metadata": {},
     "output_type": "display_data"
    },
    {
     "data": {
      "text/html": [
       "<strong>png:</strong> 2"
      ],
      "text/latex": [
       "\\textbf{png:} 2"
      ],
      "text/markdown": [
       "**png:** 2"
      ],
      "text/plain": [
       "png \n",
       "  2 "
      ]
     },
     "metadata": {},
     "output_type": "display_data"
    },
    {
     "name": "stderr",
     "output_type": "stream",
     "text": [
      "Plotting model implied regression coeffcients conditional on time interval using ctStanDiscretePars\n",
      "\n",
      "Computing temporal regression coefficients for 100 samples, may take a moment...\n",
      "\n"
     ]
    },
    {
     "data": {
      "text/html": [
       "<strong>png:</strong> 2"
      ],
      "text/latex": [
       "\\textbf{png:} 2"
      ],
      "text/markdown": [
       "**png:** 2"
      ],
      "text/plain": [
       "png \n",
       "  2 "
      ]
     },
     "metadata": {},
     "output_type": "display_data"
    },
    {
     "name": "stderr",
     "output_type": "stream",
     "text": [
      "Plotting expectations from Kalman filter using ctKalman\n",
      "\n",
      "Computing state estimates..\n",
      "\n",
      "Computing quantities for 1 samples...\n",
      "\n"
     ]
    },
    {
     "data": {
      "text/html": [
       "<strong>png:</strong> 2"
      ],
      "text/latex": [
       "\\textbf{png:} 2"
      ],
      "text/markdown": [
       "**png:** 2"
      ],
      "text/plain": [
       "png \n",
       "  2 "
      ]
     },
     "metadata": {},
     "output_type": "display_data"
    },
    {
     "name": "stderr",
     "output_type": "stream",
     "text": [
      "Plotting prior and posterior densities using ctStanPlotPost\n",
      "\n",
      "Fitting model to empty dataset...\n",
      "\n",
      "Maximum a posteriori estimation requested\n",
      "\n",
      "Setting DRIFT diagonals of 0 to approximate 0 of -1e-06\n",
      "\n",
      "Free T0VAR parameters as well as indvarying T0MEANS -- fixing T0VAR pars to diag matrix of 1e-3\n",
      "\n",
      "Using 2/12 logical CPU cores\n",
      "\n",
      "Optimizing...\n",
      "\n",
      "Finishing optimization...\n",
      "\n",
      "Estimating Hessian\n",
      "\n",
      "Computing posterior with 10000 samples\n",
      "\n"
     ]
    },
    {
     "data": {
      "text/html": [
       "<strong>png:</strong> 2"
      ],
      "text/latex": [
       "\\textbf{png:} 2"
      ],
      "text/markdown": [
       "**png:** 2"
      ],
      "text/plain": [
       "png \n",
       "  2 "
      ]
     },
     "metadata": {},
     "output_type": "display_data"
    },
    {
     "name": "stderr",
     "output_type": "stream",
     "text": [
      "Computing temporal regression coefficients for 100 samples, may take a moment...\n",
      "\n"
     ]
    },
    {
     "data": {
      "text/html": [
       "<strong>png:</strong> 2"
      ],
      "text/latex": [
       "\\textbf{png:} 2"
      ],
      "text/markdown": [
       "**png:** 2"
      ],
      "text/plain": [
       "png \n",
       "  2 "
      ]
     },
     "metadata": {},
     "output_type": "display_data"
    },
    {
     "data": {
      "text/html": [
       "<table class=\"dataframe\">\n",
       "<caption>A data.frame: 2 × 2</caption>\n",
       "<thead>\n",
       "\t<tr><th></th><th scope=col>original</th><th scope=col>new</th></tr>\n",
       "\t<tr><th></th><th scope=col>&lt;int&gt;</th><th scope=col>&lt;int&gt;</th></tr>\n",
       "</thead>\n",
       "<tbody>\n",
       "\t<tr><th scope=row>1</th><td>1</td><td>1</td></tr>\n",
       "\t<tr><th scope=row>2</th><td>2</td><td>2</td></tr>\n",
       "</tbody>\n",
       "</table>\n"
      ],
      "text/latex": [
       "A data.frame: 2 × 2\n",
       "\\begin{tabular}{r|ll}\n",
       "  & original & new\\\\\n",
       "  & <int> & <int>\\\\\n",
       "\\hline\n",
       "\t1 & 1 & 1\\\\\n",
       "\t2 & 2 & 2\\\\\n",
       "\\end{tabular}\n"
      ],
      "text/markdown": [
       "\n",
       "A data.frame: 2 × 2\n",
       "\n",
       "| <!--/--> | original &lt;int&gt; | new &lt;int&gt; |\n",
       "|---|---|---|\n",
       "| 1 | 1 | 1 |\n",
       "| 2 | 2 | 2 |\n",
       "\n"
      ],
      "text/plain": [
       "  original new\n",
       "1 1        1  \n",
       "2 2        2  "
      ]
     },
     "metadata": {},
     "output_type": "display_data"
    },
    {
     "data": {
      "text/html": [
       "<table class=\"dataframe\">\n",
       "<caption>A data.frame: 2 × 2</caption>\n",
       "<thead>\n",
       "\t<tr><th></th><th scope=col>original</th><th scope=col>new</th></tr>\n",
       "\t<tr><th></th><th scope=col>&lt;int&gt;</th><th scope=col>&lt;int&gt;</th></tr>\n",
       "</thead>\n",
       "<tbody>\n",
       "\t<tr><th scope=row>371</th><td>371</td><td>371</td></tr>\n",
       "\t<tr><th scope=row>372</th><td>372</td><td>372</td></tr>\n",
       "</tbody>\n",
       "</table>\n"
      ],
      "text/latex": [
       "A data.frame: 2 × 2\n",
       "\\begin{tabular}{r|ll}\n",
       "  & original & new\\\\\n",
       "  & <int> & <int>\\\\\n",
       "\\hline\n",
       "\t371 & 371 & 371\\\\\n",
       "\t372 & 372 & 372\\\\\n",
       "\\end{tabular}\n"
      ],
      "text/markdown": [
       "\n",
       "A data.frame: 2 × 2\n",
       "\n",
       "| <!--/--> | original &lt;int&gt; | new &lt;int&gt; |\n",
       "|---|---|---|\n",
       "| 371 | 371 | 371 |\n",
       "| 372 | 372 | 372 |\n",
       "\n"
      ],
      "text/plain": [
       "    original new\n",
       "371 371      371\n",
       "372 372      372"
      ]
     },
     "metadata": {},
     "output_type": "display_data"
    },
    {
     "name": "stderr",
     "output_type": "stream",
     "text": [
      "Computing state estimates..\n",
      "\n",
      "Computing quantities for 1 samples...\n",
      "\n"
     ]
    },
    {
     "data": {
      "text/html": [
       "<strong>png:</strong> 2"
      ],
      "text/latex": [
       "\\textbf{png:} 2"
      ],
      "text/markdown": [
       "**png:** 2"
      ],
      "text/plain": [
       "png \n",
       "  2 "
      ]
     },
     "metadata": {},
     "output_type": "display_data"
    },
    {
     "name": "stderr",
     "output_type": "stream",
     "text": [
      "Computing state estimates..\n",
      "\n",
      "Computing quantities for 1 samples...\n",
      "\n"
     ]
    },
    {
     "data": {
      "text/html": [
       "<strong>png:</strong> 2"
      ],
      "text/latex": [
       "\\textbf{png:} 2"
      ],
      "text/markdown": [
       "**png:** 2"
      ],
      "text/plain": [
       "png \n",
       "  2 "
      ]
     },
     "metadata": {},
     "output_type": "display_data"
    },
    {
     "name": "stderr",
     "output_type": "stream",
     "text": [
      "Computing state estimates..\n",
      "\n",
      "Computing quantities for 1 samples...\n",
      "\n"
     ]
    },
    {
     "data": {
      "text/html": [
       "<strong>png:</strong> 2"
      ],
      "text/latex": [
       "\\textbf{png:} 2"
      ],
      "text/markdown": [
       "**png:** 2"
      ],
      "text/plain": [
       "png \n",
       "  2 "
      ]
     },
     "metadata": {},
     "output_type": "display_data"
    },
    {
     "name": "stderr",
     "output_type": "stream",
     "text": [
      "Computing state estimates..\n",
      "\n",
      "Computing quantities for 1 samples...\n",
      "\n"
     ]
    },
    {
     "data": {
      "text/html": [
       "<strong>png:</strong> 2"
      ],
      "text/latex": [
       "\\textbf{png:} 2"
      ],
      "text/markdown": [
       "**png:** 2"
      ],
      "text/plain": [
       "png \n",
       "  2 "
      ]
     },
     "metadata": {},
     "output_type": "display_data"
    },
    {
     "name": "stderr",
     "output_type": "stream",
     "text": [
      "Computing state estimates..\n",
      "\n",
      "Computing quantities for 1 samples...\n",
      "\n"
     ]
    },
    {
     "data": {
      "text/html": [
       "<strong>png:</strong> 2"
      ],
      "text/latex": [
       "\\textbf{png:} 2"
      ],
      "text/markdown": [
       "**png:** 2"
      ],
      "text/plain": [
       "png \n",
       "  2 "
      ]
     },
     "metadata": {},
     "output_type": "display_data"
    },
    {
     "name": "stderr",
     "output_type": "stream",
     "text": [
      "Computing state estimates..\n",
      "\n",
      "Computing quantities for 1 samples...\n",
      "\n"
     ]
    },
    {
     "data": {
      "text/html": [
       "<strong>png:</strong> 2"
      ],
      "text/latex": [
       "\\textbf{png:} 2"
      ],
      "text/markdown": [
       "**png:** 2"
      ],
      "text/plain": [
       "png \n",
       "  2 "
      ]
     },
     "metadata": {},
     "output_type": "display_data"
    },
    {
     "data": {
      "text/html": [
       "<table class=\"dataframe\">\n",
       "<caption>A data.frame: 3 × 5</caption>\n",
       "<thead>\n",
       "\t<tr><th></th><th scope=col>T0m_cintKBF</th><th scope=col>T0m_cintVTD</th><th scope=col>T0m_KBF</th><th scope=col>T0m_VTD</th><th scope=col>id</th></tr>\n",
       "\t<tr><th></th><th scope=col>&lt;dbl&gt;</th><th scope=col>&lt;dbl&gt;</th><th scope=col>&lt;dbl&gt;</th><th scope=col>&lt;dbl&gt;</th><th scope=col>&lt;int&gt;</th></tr>\n",
       "</thead>\n",
       "<tbody>\n",
       "\t<tr><th scope=row>1</th><td>-0.072921856</td><td>-0.6638475</td><td>-1.0052381</td><td>-0.6874520</td><td>1</td></tr>\n",
       "\t<tr><th scope=row>2</th><td>-0.078936022</td><td>-0.4565078</td><td>-1.0152376</td><td>-0.3823993</td><td>2</td></tr>\n",
       "\t<tr><th scope=row>3</th><td>-0.007032475</td><td>-0.4491389</td><td>-0.9263384</td><td>-1.2644533</td><td>3</td></tr>\n",
       "</tbody>\n",
       "</table>\n"
      ],
      "text/latex": [
       "A data.frame: 3 × 5\n",
       "\\begin{tabular}{r|lllll}\n",
       "  & T0m\\_cintKBF & T0m\\_cintVTD & T0m\\_KBF & T0m\\_VTD & id\\\\\n",
       "  & <dbl> & <dbl> & <dbl> & <dbl> & <int>\\\\\n",
       "\\hline\n",
       "\t1 & -0.072921856 & -0.6638475 & -1.0052381 & -0.6874520 & 1\\\\\n",
       "\t2 & -0.078936022 & -0.4565078 & -1.0152376 & -0.3823993 & 2\\\\\n",
       "\t3 & -0.007032475 & -0.4491389 & -0.9263384 & -1.2644533 & 3\\\\\n",
       "\\end{tabular}\n"
      ],
      "text/markdown": [
       "\n",
       "A data.frame: 3 × 5\n",
       "\n",
       "| <!--/--> | T0m_cintKBF &lt;dbl&gt; | T0m_cintVTD &lt;dbl&gt; | T0m_KBF &lt;dbl&gt; | T0m_VTD &lt;dbl&gt; | id &lt;int&gt; |\n",
       "|---|---|---|---|---|---|\n",
       "| 1 | -0.072921856 | -0.6638475 | -1.0052381 | -0.6874520 | 1 |\n",
       "| 2 | -0.078936022 | -0.4565078 | -1.0152376 | -0.3823993 | 2 |\n",
       "| 3 | -0.007032475 | -0.4491389 | -0.9263384 | -1.2644533 | 3 |\n",
       "\n"
      ],
      "text/plain": [
       "  T0m_cintKBF  T0m_cintVTD T0m_KBF    T0m_VTD    id\n",
       "1 -0.072921856 -0.6638475  -1.0052381 -0.6874520 1 \n",
       "2 -0.078936022 -0.4565078  -1.0152376 -0.3823993 2 \n",
       "3 -0.007032475 -0.4491389  -0.9263384 -1.2644533 3 "
      ]
     },
     "metadata": {},
     "output_type": "display_data"
    },
    {
     "data": {
      "text/html": [
       "<style>\n",
       ".list-inline {list-style: none; margin:0; padding: 0}\n",
       ".list-inline>li {display: inline-block}\n",
       ".list-inline>li:not(:last-child)::after {content: \"\\00b7\"; padding: 0 .5ex}\n",
       "</style>\n",
       "<ol class=list-inline><li>372</li><li>5</li></ol>\n"
      ],
      "text/latex": [
       "\\begin{enumerate*}\n",
       "\\item 372\n",
       "\\item 5\n",
       "\\end{enumerate*}\n"
      ],
      "text/markdown": [
       "1. 372\n",
       "2. 5\n",
       "\n",
       "\n"
      ],
      "text/plain": [
       "[1] 372   5"
      ]
     },
     "metadata": {},
     "output_type": "display_data"
    }
   ],
   "source": [
    "#### asympDIFF :  variance/covariance  of  the  latent  process\n",
    "tiff(file.path(path_save_, paste0(name,'RandomDataPosterior_to_observedData.tiff')), width=400, height=400)\n",
    "ctStanPostPredict(fit_mvtha, wait=FALSE) #compare randomly generated data from posterior to observed data\n",
    "dev.off()\n",
    "\n",
    "tiff(file.path(path_save_, paste0(name,'RadomDataPosteriorMeanCOv_to_observedData.tiff')), width=400, height=400)\n",
    "cf = ctCheckFit(fit_mvtha) #compare mean and covariance of randomly generated data to observed cov plot(cf,wait=FALSE)\n",
    "dev.off()\n",
    "\n",
    "#calculate discrete time parameters (1,2,3 months)\n",
    "df_lag = summary(fit_mvtha, timeinterval=1)\n",
    "write.csv(df_lag$parmatrices, file=file.path(path_save_,paste0(name,\"lag1.csv\")))\n",
    "df_lag = summary(fit_mvtha, timeinterval=2)\n",
    "write.csv(df_lag$parmatrices, file=file.path(path_save_,paste0(name,\"lag2.csv\")))\n",
    "df_lag = summary(fit_mvtha, timeinterval=3)\n",
    "write.csv(df_lag$parmatrices, file=file.path(path_save_,paste0(name,\"lag3.csv\")))\n",
    "\n",
    "#plot basics (regression kalan, priorcheck)\n",
    "tiff(file.path(path_save_, paste0(name,'plotdiscretedrift_regression.tiff')), width=400, height=400)\n",
    "plot(fit_mvtha,types=c('regression'), wait=FALSE)\n",
    "dev.off()\n",
    "tiff(file.path(path_save_, paste0(name,'plotdiscretedrift_kalman.tiff')), width=400, height=400)\n",
    "plot(fit_mvtha,types=c('kalman'), wait=FALSE)\n",
    "dev.off()\n",
    "tiff(file.path(path_save_, paste0(name,'plotdiscretedrift_priorcheck.tiff')), width=400, height=400)\n",
    "plot(fit_mvtha,types=c('priorcheck'), wait=FALSE)\n",
    "dev.off()\n",
    "\n",
    "\n",
    "#plot of discrete timedrift estimate all together \n",
    "tiff(file.path(path_save_, paste0(name,'plotdiscretedrift.tiff')), width=400, height=400)\n",
    "ctStanDiscretePars(fit_mvtha, plot=T)\n",
    "dev.off()\n",
    "\n",
    "#check the id are correct\n",
    "df_idmap = fit_mvtha$setup$idmap\n",
    "head(df_idmap,2)\n",
    "tail(df_idmap,2)\n",
    "if (identical(df_idmap[['original']],df_idmap[['new']])==FALSE){\n",
    "    print('ERROR: makes sure your id column will be the same as the one given by ctsem, just to ensure no error later on')\n",
    "    stop() #couldnt find equivalent to sys.exit() in python, but that do the job as well (stop the code)\n",
    "}\n",
    "\n",
    "#print(fit_mvtha$setup$idmap[c(1,100,200,300,400), 1])\n",
    "#plot 5 hens without uncertainty and width for visibility purposes\n",
    "tiff(file.path(path_save_, paste0(name,'5individual_nouncertainty.tiff')), width=400, height=400)\n",
    "ctKalman(fit_mvtha,subjects=c(1,100,200,300,400),plot=T,kalmanvec=c('y','ysmooth'), polygonsteps=0)\n",
    "dev.off()\n",
    "tiff(file.path(path_save_, paste0(name,'5otherindividual_nouncertainty.tiff')), width=400, height=400)\n",
    "ctKalman(fit_mvtha,subjects=c(10,110,210,310,410),plot=T,kalmanvec=c('y','ysmooth'), polygonsteps=0)\n",
    "dev.off()\n",
    "tiff(file.path(path_save_, paste0(name,'5other2individual_nouncertainty.tiff')), width=400, height=400)\n",
    "ctKalman(fit_mvtha,subjects=c(20,120,220,320,420),plot=T,kalmanvec=c('y','ysmooth'), polygonsteps=0)\n",
    "dev.off()\n",
    "#plot parameters for two hen  with polygonsteps=10 (the default) to see uncertainty\n",
    "tiff(file.path(path_save_, paste0(name,'2individual_witthcertainty.tiff')), width=400, height=400)\n",
    "ctKalman(fit_mvtha,subjects=c(300,400),plot=T,kalmanvec=c('y','ysmooth'), polygonsteps=10)\n",
    "dev.off()\n",
    "#plot parameters for two hen  with polygonsteps=10 (the default) to see uncertainty\n",
    "tiff(file.path(path_save_, paste0(name,'2otherindividual_witthcertainty.tiff')), width=400, height=400)\n",
    "ctKalman(fit_mvtha,subjects=c(310,410),plot=T,kalmanvec=c('y','ysmooth'), polygonsteps=10)\n",
    "dev.off()\n",
    "#plot parameters for two hen  with polygonsteps=10 (the default) to see uncertainty\n",
    "tiff(file.path(path_save_, paste0(name,'2other2individual_witthcertainty.tiff')), width=400, height=400)\n",
    "ctKalman(fit_mvtha,subjects=c(320,420),plot=T,kalmanvec=c('y','ysmooth'), polygonsteps=10)\n",
    "dev.off()\n",
    "\n",
    "#extract estimates of individual parameters, taking into account any covariates and random effects\n",
    "#output an nsamples by nsubjects by nparams array.\n",
    "indpars = ctStanSubjectPars(fit_mvtha, cores=cores_, nsamples=\"all\")[1,,]\n",
    "ind.data = data.frame(indpars)\n",
    "ind.data$id = fit_mvtha$setup$idmap$original #or new, its the same\n",
    "head(ind.data,3)\n",
    "dim(ind.data)\n",
    "write.csv(ind.data, file=file.path(path_save_,paste0(name,\"HenIDParameters.csv\")))"
   ]
  },
  {
   "cell_type": "code",
   "execution_count": 22,
   "id": "000638f5",
   "metadata": {},
   "outputs": [
    {
     "name": "stderr",
     "output_type": "stream",
     "text": [
      "Computing state estimates..\n",
      "\n",
      "Computing quantities for 1 samples...\n",
      "\n"
     ]
    },
    {
     "data": {
      "image/png": "[encoded data removed]",
      "text/plain": [
       "plot without title"
      ]
     },
     "metadata": {
      "image/png": {
       "height": 420,
       "width": 420
      }
     },
     "output_type": "display_data"
    }
   ],
   "source": [
    "ctKalman(fit_mvtha,subjects=c(300,400),plot=T,kalmanvec=c('y','yprior'), polygonsteps=10)"
   ]
  },
  {
   "cell_type": "code",
   "execution_count": 23,
   "id": "cf0b9fbc",
   "metadata": {},
   "outputs": [],
   "source": [
    "#TODO: standardized resiudals (ctstankalman with stderror=TRUE)"
   ]
  },
  {
   "cell_type": "code",
   "execution_count": 24,
   "id": "2ffeb7b9",
   "metadata": {},
   "outputs": [
    {
     "name": "stderr",
     "output_type": "stream",
     "text": [
      "Computing state estimates..\n",
      "\n",
      "Computing quantities for 1 samples...\n",
      "\n"
     ]
    },
    {
     "data": {
      "text/html": [
       "<style>\n",
       ".list-inline {list-style: none; margin:0; padding: 0}\n",
       ".list-inline>li {display: inline-block}\n",
       ".list-inline>li:not(:last-child)::after {content: \"\\00b7\"; padding: 0 .5ex}\n",
       "</style>\n",
       "<ol class=list-inline><li>9447444</li><li>11</li></ol>\n"
      ],
      "text/latex": [
       "\\begin{enumerate*}\n",
       "\\item 9447444\n",
       "\\item 11\n",
       "\\end{enumerate*}\n"
      ],
      "text/markdown": [
       "1. 9447444\n",
       "2. 11\n",
       "\n",
       "\n"
      ],
      "text/plain": [
       "[1] 9447444      11"
      ]
     },
     "metadata": {},
     "output_type": "display_data"
    }
   ],
   "source": [
    "df_res = ctKalman(fit_mvtha,subjects=fit_mvtha$setup$idmap[,1],plot=F)#,kalmanvec=c('y','yprior'))\n",
    "dim(df_res)\n",
    "write.csv(df_res, file=file.path(path_save_,paste0(name,\"df_res_yprior.csv\")))"
   ]
  },
  {
   "cell_type": "code",
   "execution_count": 25,
   "id": "460f3075",
   "metadata": {
    "scrolled": true
   },
   "outputs": [
    {
     "name": "stderr",
     "output_type": "stream",
     "text": [
      "Computing quantities for 1500 samples...\n",
      "\n",
      "Generating data from posterior\n",
      "\n",
      "Using 2/12 logical CPU cores\n",
      "\n"
     ]
    },
    {
     "data": {
      "image/png": "[encoded data removed]",
      "text/plain": [
       "plot without title"
      ]
     },
     "metadata": {
      "image/png": {
       "height": 420,
       "width": 420
      }
     },
     "output_type": "display_data"
    },
    {
     "data": {
      "image/png": "[encoded data removed]",
      "text/plain": [
       "plot without title"
      ]
     },
     "metadata": {
      "image/png": {
       "height": 420,
       "width": 420
      }
     },
     "output_type": "display_data"
    },
    {
     "data": {
      "text/plain": [
       "NULL"
      ]
     },
     "metadata": {},
     "output_type": "display_data"
    },
    {
     "data": {
      "image/png": "[encoded data removed]",
      "text/plain": [
       "plot without title"
      ]
     },
     "metadata": {
      "image/png": {
       "height": 420,
       "width": 420
      }
     },
     "output_type": "display_data"
    }
   ],
   "source": [
    "#compare randomly generated data from posterior to observed data\n",
    "ctStanPostPredict(fit_mvtha, wait=FALSE)"
   ]
  },
  {
   "cell_type": "code",
   "execution_count": 26,
   "id": "1a8d5cd7",
   "metadata": {},
   "outputs": [
    {
     "name": "stderr",
     "output_type": "stream",
     "text": [
      "Computing temporal regression coefficients for 100 samples, may take a moment...\n",
      "\n"
     ]
    }
   ],
   "source": [
    "x = ctStanDiscretePars(fit_mvtha, subjects='popmean')\n",
    "#ctStanDiscreteParsPlot(x, indices='CR',facets='Subject')\n",
    "write.csv(as.data.frame(x), file=file.path(path_save_,paste0(name,\"ctStanDiscretePars.csv\")))"
   ]
  },
  {
   "cell_type": "code",
   "execution_count": 27,
   "id": "0dfeec25",
   "metadata": {},
   "outputs": [
    {
     "name": "stderr",
     "output_type": "stream",
     "text": [
      "Using 5/12 available CPU cores\n",
      "\n",
      "Using 5/12 logical CPU cores\n",
      "\n",
      "Optimizing...\n",
      "\n",
      "Finishing optimization...\n",
      "\n",
      "Using 5/12 logical CPU cores\n",
      "\n",
      "Optimizing...\n",
      "\n",
      "Finishing optimization...\n",
      "\n",
      "Using 5/12 logical CPU cores\n",
      "\n",
      "Optimizing...\n",
      "\n",
      "Finishing optimization...\n",
      "\n",
      "Using 5/12 available CPU cores\n",
      "\n",
      "Using 5/12 logical CPU cores\n",
      "\n",
      "Optimizing...\n",
      "\n",
      "Finishing optimization...\n",
      "\n",
      "Using 5/12 logical CPU cores\n",
      "\n",
      "Optimizing...\n",
      "\n",
      "Finishing optimization...\n",
      "\n",
      "Using 5/12 logical CPU cores\n",
      "\n",
      "Optimizing...\n",
      "\n",
      "Finishing optimization...\n",
      "\n"
     ]
    }
   ],
   "source": [
    "#K fold cross validation for ctStanFit objects\n",
    "#\"folds Number of cross validation splits to use – 3 folds implies that the model is re-fit 3 times, each time to a data set \n",
    "#with 1/3 of the observations randomly removed\"\n",
    "loores = ctLOO(fit_mvtha, folds = folds_, cores = cores_, subjectwise=TRUE)\n",
    "for (i in folds_){\n",
    "    df_fold = loores$foldrows[as.character(i-1)]\n",
    "    write.csv(df_fold, file=file.path(path_save_,paste0(name,'df_',i,\"fold.csv\")))}\n",
    "df_foldpars = loores$foldpars\n",
    "write.csv(df_foldpars, file=file.path(path_save_,paste0(name,\"df_foldpars.csv\")))\n",
    "df_sampleloglikrow = data.frame('out'=loores$outsampleLogLikRow,'in'=c(loores$insampleLogLikRow))\n",
    "write.csv(df_sampleloglikrow, file=file.path(path_save_,paste0(name,\"df_sampleloglikrow.csv\")))\n",
    "df_resloo = data.frame('insampleLogLik' = loores$insampleLogLik,\n",
    "           'outsampleLogLik' = loores$outsampleLogLik,\n",
    "           'outsampleLogLik' = loores$insampleRowwiseEntropy,\n",
    "           'outsampleRowwiseEntropy' = loores$outsampleRowwiseEntropy,\n",
    "           'insampleSubjectwiseEntropy' = loores$insampleSubjectwiseEntropy,\n",
    "           'outsampleSubjectwiseEntropy' = loores$outsampleSubjectwiseEntropy,\n",
    "           'insampleRowwiseLogLikSD' = loores$insampleRowwiseLogLikSD,\n",
    "           'outsampleRowwiseLogLikSD' = loores$outsampleRowwiseLogLikSD,\n",
    "           'insampleSubjectwiseLogLikSD' = loores$insampleSubjectwiseLogLikSD,\n",
    "           'outsampleSubjectwiseLogLikSD' = loores$outsampleSubjectwiseLogLikSD)\n",
    "write.csv(df_resloo, file=file.path(path_save_,paste0(name,\"df_resloo.csv\")))\n",
    "##\n",
    "fit_mvtha$cv =ctLOO(fit_mvtha, folds = folds_, cores = cores_, subjectwise=TRUE)\n",
    "save(fit_mvtha,file=file.path(path_save_,'fit_mvtha.rda'))"
   ]
  },
  {
   "cell_type": "code",
   "execution_count": null,
   "id": "22b858f5",
   "metadata": {},
   "outputs": [],
   "source": []
  },
  {
   "cell_type": "code",
   "execution_count": null,
   "id": "2102f0c8",
   "metadata": {},
   "outputs": [],
   "source": []
  },
  {
   "cell_type": "code",
   "execution_count": null,
   "id": "e1d03d4b",
   "metadata": {},
   "outputs": [],
   "source": []
  },
  {
   "cell_type": "code",
   "execution_count": null,
   "id": "764f96f6",
   "metadata": {},
   "outputs": [],
   "source": []
  },
  {
   "cell_type": "code",
   "execution_count": null,
   "id": "47b8bb8e",
   "metadata": {},
   "outputs": [],
   "source": []
  },
  {
   "cell_type": "code",
   "execution_count": null,
   "id": "340a7d2f",
   "metadata": {},
   "outputs": [],
   "source": []
  },
  {
   "cell_type": "code",
   "execution_count": null,
   "id": "bef05d4c",
   "metadata": {},
   "outputs": [],
   "source": []
  },
  {
   "cell_type": "code",
   "execution_count": null,
   "id": "5bb6f978",
   "metadata": {},
   "outputs": [],
   "source": []
  }
 ],
 "metadata": {
  "kernelspec": {
   "display_name": " Rkernel_4",
   "language": "R",
   "name": "rkernel_4"
  },
  "language_info": {
   "codemirror_mode": "r",
   "file_extension": ".r",
   "mimetype": "text/x-r-source",
   "name": "R",
   "pygments_lexer": "r",
   "version": "4.1.1"
  }
 },
 "nbformat": 4,
 "nbformat_minor": 5
}
