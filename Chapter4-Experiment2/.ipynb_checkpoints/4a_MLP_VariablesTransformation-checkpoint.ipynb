{
 "cells": [
  {
   "cell_type": "code",
   "execution_count": 1,
   "metadata": {},
   "outputs": [],
   "source": [
    "#basic package\n",
    "import tqdm\n",
    "import os\n",
    "import numpy as np\n",
    "import glob\n",
    "import pandas as pd\n",
    "import sys\n",
    "import time\n",
    "import datetime as dt\n",
    "import itertools\n",
    "import re\n",
    "import math\n",
    "import pickle #to download MLP vectors\n",
    "from scipy.stats import entropy, variation\n",
    "import random\n",
    "\n",
    "#plot\n",
    "import matplotlib.pyplot as plt\n",
    "import seaborn as sns"
   ]
  },
  {
   "cell_type": "code",
   "execution_count": 2,
   "metadata": {},
   "outputs": [
    {
     "name": "stderr",
     "output_type": "stream",
     "text": [
      "C:\\Users\\camil\\anaconda3\\lib\\site-packages\\scipy\\sparse\\sparsetools.py:21: DeprecationWarning: `scipy.sparse.sparsetools` is deprecated!\n",
      "scipy.sparse.sparsetools is a private module for scipy.sparse, and should not be used.\n",
      "  _deprecated()\n"
     ]
    },
    {
     "name": "stdout",
     "output_type": "stream",
     "text": [
      "2\n"
     ]
    }
   ],
   "source": [
    "PACKAGE_PARENT = '../'\n",
    "SCRIPT_DIR = os.path.dirname(os.path.realpath(os.path.join(os.getcwd(), os.path.expanduser('__file__'))))\n",
    "sys.path.append(os.path.normpath(os.path.join(SCRIPT_DIR, PACKAGE_PARENT)))\n",
    "from UTILS import nbrh_WG_open, mid_cum_Z4_sec\n",
    "import config_exp2 as config"
   ]
  },
  {
   "cell_type": "raw",
   "metadata": {},
   "source": [
    "This notebook serves for two things\n",
    "1) verify the variables\n",
    "2) check things in variables when needed"
   ]
  },
  {
   "cell_type": "markdown",
   "metadata": {},
   "source": [
    "# Define parameters"
   ]
  },
  {
   "cell_type": "code",
   "execution_count": 3,
   "metadata": {
    "scrolled": true
   },
   "outputs": [
    {
     "name": "stdout",
     "output_type": "stream",
     "text": [
      "change the configuration file if not done yet!\n",
      "EXP2_\n"
     ]
    }
   ],
   "source": [
    "print('change the configuration file if not done yet!')\n",
    "path_extracted_data = config.path_extracted_data\n",
    "path_initial_data = config.path_initial_data\n",
    "dico_garden_opening_hour = config.dico_garden_opening_hour\n",
    "id_run = config.id_run\n",
    "dico_matching = config.dico_matching\n",
    "dico_night_hour = config.dico_night_hour\n",
    "print(id_run)"
   ]
  },
  {
   "cell_type": "markdown",
   "metadata": {},
   "source": [
    "# Download data"
   ]
  },
  {
   "cell_type": "code",
   "execution_count": 4,
   "metadata": {},
   "outputs": [
    {
     "name": "stdout",
     "output_type": "stream",
     "text": [
      "(7597, 54)\n"
     ]
    },
    {
     "data": {
      "text/html": [
       "<div>\n",
       "<style scoped>\n",
       "    .dataframe tbody tr th:only-of-type {\n",
       "        vertical-align: middle;\n",
       "    }\n",
       "\n",
       "    .dataframe tbody tr th {\n",
       "        vertical-align: top;\n",
       "    }\n",
       "\n",
       "    .dataframe thead th {\n",
       "        text-align: right;\n",
       "    }\n",
       "</style>\n",
       "<table border=\"1\" class=\"dataframe\">\n",
       "  <thead>\n",
       "    <tr style=\"text-align: right;\">\n",
       "      <th></th>\n",
       "      <th>HenID</th>\n",
       "      <th>level</th>\n",
       "      <th>duration_2_Zone</th>\n",
       "      <th>duration_3_Zone</th>\n",
       "      <th>duration_4_Zone</th>\n",
       "      <th>duration_5_Zone</th>\n",
       "      <th>verification_daily_total_duration</th>\n",
       "      <th>verification_daily_total_nbr_hour</th>\n",
       "      <th>dur_values</th>\n",
       "      <th>dur_values_normalized</th>\n",
       "      <th>...</th>\n",
       "      <th>DOA</th>\n",
       "      <th>WOA</th>\n",
       "      <th>duration_1_Zone</th>\n",
       "      <th>perc_duration_1_Zone</th>\n",
       "      <th>perc_1_Zone_while_WG_open</th>\n",
       "      <th>FirstTimestamp_1_Zone</th>\n",
       "      <th>nbr_h_WGopen</th>\n",
       "      <th>FirstTimestamp_1_Zone_sec</th>\n",
       "      <th>latency_1_Zone_h</th>\n",
       "      <th>nbr_stays_1_Zone</th>\n",
       "    </tr>\n",
       "  </thead>\n",
       "  <tbody>\n",
       "    <tr>\n",
       "      <th>0</th>\n",
       "      <td>hen_1</td>\n",
       "      <td>2021-10-09</td>\n",
       "      <td>28415.0</td>\n",
       "      <td>3985.0</td>\n",
       "      <td>0.0</td>\n",
       "      <td>0.0</td>\n",
       "      <td>32400.0</td>\n",
       "      <td>9.0</td>\n",
       "      <td>[28415.0, 3985.0, 0.0, 0.0]</td>\n",
       "      <td>[0.8770061728395062, 0.12299382716049383, 0.0,...</td>\n",
       "      <td>...</td>\n",
       "      <td>122</td>\n",
       "      <td>18</td>\n",
       "      <td>NaN</td>\n",
       "      <td>NaN</td>\n",
       "      <td>NaN</td>\n",
       "      <td>NaT</td>\n",
       "      <td>NaN</td>\n",
       "      <td>NaN</td>\n",
       "      <td>NaN</td>\n",
       "      <td>NaN</td>\n",
       "    </tr>\n",
       "    <tr>\n",
       "      <th>1</th>\n",
       "      <td>hen_1</td>\n",
       "      <td>2021-10-10</td>\n",
       "      <td>21881.0</td>\n",
       "      <td>9182.0</td>\n",
       "      <td>1337.0</td>\n",
       "      <td>0.0</td>\n",
       "      <td>32400.0</td>\n",
       "      <td>9.0</td>\n",
       "      <td>[21881.0, 9182.0, 1337.0, 0.0]</td>\n",
       "      <td>[0.6753395061728396, 0.28339506172839507, 0.04...</td>\n",
       "      <td>...</td>\n",
       "      <td>123</td>\n",
       "      <td>18</td>\n",
       "      <td>NaN</td>\n",
       "      <td>NaN</td>\n",
       "      <td>NaN</td>\n",
       "      <td>NaT</td>\n",
       "      <td>NaN</td>\n",
       "      <td>NaN</td>\n",
       "      <td>NaN</td>\n",
       "      <td>NaN</td>\n",
       "    </tr>\n",
       "    <tr>\n",
       "      <th>2</th>\n",
       "      <td>hen_1</td>\n",
       "      <td>2021-10-16</td>\n",
       "      <td>27548.0</td>\n",
       "      <td>4852.0</td>\n",
       "      <td>0.0</td>\n",
       "      <td>0.0</td>\n",
       "      <td>32400.0</td>\n",
       "      <td>9.0</td>\n",
       "      <td>[27548.0, 4852.0, 0.0, 0.0]</td>\n",
       "      <td>[0.850246913580247, 0.14975308641975307, 0.0, ...</td>\n",
       "      <td>...</td>\n",
       "      <td>129</td>\n",
       "      <td>19</td>\n",
       "      <td>NaN</td>\n",
       "      <td>NaN</td>\n",
       "      <td>NaN</td>\n",
       "      <td>NaT</td>\n",
       "      <td>NaN</td>\n",
       "      <td>NaN</td>\n",
       "      <td>NaN</td>\n",
       "      <td>NaN</td>\n",
       "    </tr>\n",
       "  </tbody>\n",
       "</table>\n",
       "<p>3 rows × 54 columns</p>\n",
       "</div>"
      ],
      "text/plain": [
       "   HenID      level  duration_2_Zone  duration_3_Zone  duration_4_Zone  \\\n",
       "0  hen_1 2021-10-09          28415.0           3985.0              0.0   \n",
       "1  hen_1 2021-10-10          21881.0           9182.0           1337.0   \n",
       "2  hen_1 2021-10-16          27548.0           4852.0              0.0   \n",
       "\n",
       "   duration_5_Zone  verification_daily_total_duration  \\\n",
       "0              0.0                            32400.0   \n",
       "1              0.0                            32400.0   \n",
       "2              0.0                            32400.0   \n",
       "\n",
       "   verification_daily_total_nbr_hour                      dur_values  \\\n",
       "0                                9.0     [28415.0, 3985.0, 0.0, 0.0]   \n",
       "1                                9.0  [21881.0, 9182.0, 1337.0, 0.0]   \n",
       "2                                9.0     [27548.0, 4852.0, 0.0, 0.0]   \n",
       "\n",
       "                               dur_values_normalized  ...  DOA  WOA  \\\n",
       "0  [0.8770061728395062, 0.12299382716049383, 0.0,...  ...  122   18   \n",
       "1  [0.6753395061728396, 0.28339506172839507, 0.04...  ...  123   18   \n",
       "2  [0.850246913580247, 0.14975308641975307, 0.0, ...  ...  129   19   \n",
       "\n",
       "   duration_1_Zone  perc_duration_1_Zone  perc_1_Zone_while_WG_open  \\\n",
       "0              NaN                   NaN                        NaN   \n",
       "1              NaN                   NaN                        NaN   \n",
       "2              NaN                   NaN                        NaN   \n",
       "\n",
       "   FirstTimestamp_1_Zone nbr_h_WGopen FirstTimestamp_1_Zone_sec  \\\n",
       "0                    NaT          NaN                       NaN   \n",
       "1                    NaT          NaN                       NaN   \n",
       "2                    NaT          NaN                       NaN   \n",
       "\n",
       "  latency_1_Zone_h nbr_stays_1_Zone  \n",
       "0              NaN              NaN  \n",
       "1              NaN              NaN  \n",
       "2              NaN              NaN  \n",
       "\n",
       "[3 rows x 54 columns]"
      ]
     },
     "execution_count": 4,
     "metadata": {},
     "output_type": "execute_result"
    }
   ],
   "source": [
    "#daily var\n",
    "df_daily = pd.read_csv(os.path.join(path_extracted_data, id_run+'_daily_ALL_variables.csv'), sep=';',\n",
    "                 parse_dates=['level', 'FirstTimestamp_1_Zone', 'FirstTimestamp_2_Zone', 'FirstTimestamp_3_Zone',\n",
    "                             'FirstTimestamp_4_Zone','FirstTimestamp_5_Zone'],\n",
    "                 dayfirst=True) \n",
    "print(df_daily.shape)\n",
    "df_daily.head(3)"
   ]
  },
  {
   "cell_type": "code",
   "execution_count": 22,
   "metadata": {},
   "outputs": [
    {
     "data": {
      "text/html": [
       "<div>\n",
       "<style scoped>\n",
       "    .dataframe tbody tr th:only-of-type {\n",
       "        vertical-align: middle;\n",
       "    }\n",
       "\n",
       "    .dataframe tbody tr th {\n",
       "        vertical-align: top;\n",
       "    }\n",
       "\n",
       "    .dataframe thead th {\n",
       "        text-align: right;\n",
       "    }\n",
       "</style>\n",
       "<table border=\"1\" class=\"dataframe\">\n",
       "  <thead>\n",
       "    <tr style=\"text-align: right;\">\n",
       "      <th></th>\n",
       "      <th>list_ZALL</th>\n",
       "      <th>list_of_zones</th>\n",
       "      <th>list_of_durations</th>\n",
       "    </tr>\n",
       "  </thead>\n",
       "  <tbody>\n",
       "    <tr>\n",
       "      <th>0</th>\n",
       "      <td>[2, 2, 2, 2, 2, 2, 2, 2, 2, 2, 2, 2, 2, 2, 2, ...</td>\n",
       "      <td>['2_Zone', '3_Zone', '2_Zone', '3_Zone', '2_Zo...</td>\n",
       "      <td>[9207.0, 1589.0, 6737.0, 91.0, 7981.0, 2305.0,...</td>\n",
       "    </tr>\n",
       "    <tr>\n",
       "      <th>1</th>\n",
       "      <td>[2, 2, 2, 2, 2, 2, 2, 2, 2, 2, 2, 2, 2, 2, 2, ...</td>\n",
       "      <td>['2_Zone', '3_Zone', '2_Zone', '3_Zone', '2_Zo...</td>\n",
       "      <td>[1207.0, 101.0, 1045.0, 446.0, 1654.0, 757.0, ...</td>\n",
       "    </tr>\n",
       "    <tr>\n",
       "      <th>2</th>\n",
       "      <td>[2, 2, 2, 2, 2, 2, 2, 2, 2, 2, 2, 2, 2, 2, 2, ...</td>\n",
       "      <td>['2_Zone', '3_Zone', '2_Zone', '3_Zone', '2_Zo...</td>\n",
       "      <td>[687.0, 3062.0, 8785.0, 1344.0, 8646.0, 446.0,...</td>\n",
       "    </tr>\n",
       "    <tr>\n",
       "      <th>3</th>\n",
       "      <td>[2, 2, 2, 2, 2, 2, 2, 2, 2, 2, 2, 2, 2, 2, 2, ...</td>\n",
       "      <td>['2_Zone', '3_Zone', '2_Zone', '3_Zone', '4_Zo...</td>\n",
       "      <td>[543.0, 2262.0, 5925.0, 963.0, 345.0, 1678.0, ...</td>\n",
       "    </tr>\n",
       "    <tr>\n",
       "      <th>4</th>\n",
       "      <td>[2, 2, 2, 2, 2, 2, 2, 2, 2, 2, 2, 2, 2, 2, 2, ...</td>\n",
       "      <td>['2_Zone', '3_Zone', '2_Zone', '3_Zone', '2_Zo...</td>\n",
       "      <td>[610.0, 1993.0, 9217.0, 1437.0, 19143.0]</td>\n",
       "    </tr>\n",
       "    <tr>\n",
       "      <th>...</th>\n",
       "      <td>...</td>\n",
       "      <td>...</td>\n",
       "      <td>...</td>\n",
       "    </tr>\n",
       "    <tr>\n",
       "      <th>7592</th>\n",
       "      <td>[4, 4, 4, 4, 4, 4, 4, 4, 4, 4, 4, 4, 4, 4, 4, ...</td>\n",
       "      <td>['4_Zone', '3_Zone', '4_Zone', '3_Zone', '5_Zo...</td>\n",
       "      <td>[564.0, 303.0, 257.0, 2116.0, 2251.0, 1557.0, ...</td>\n",
       "    </tr>\n",
       "    <tr>\n",
       "      <th>7593</th>\n",
       "      <td>[5, 5, 5, 5, 5, 5, 5, 5, 5, 5, 5, 5, 5, 5, 5, ...</td>\n",
       "      <td>['5_Zone', '3_Zone', '5_Zone', '4_Zone', '2_Zo...</td>\n",
       "      <td>[4730.0, 3002.0, 18204.0, 212.0, 1512.0, 1260....</td>\n",
       "    </tr>\n",
       "    <tr>\n",
       "      <th>7594</th>\n",
       "      <td>[5, 5, 5, 5, 5, 5, 5, 5, 5, 5, 5, 5, 5, 5, 5, ...</td>\n",
       "      <td>['5_Zone', '3_Zone', '2_Zone', '3_Zone', '2_Zo...</td>\n",
       "      <td>[2453.0, 3833.0, 212.0, 90.0, 256.0, 347.0, 13...</td>\n",
       "    </tr>\n",
       "    <tr>\n",
       "      <th>7595</th>\n",
       "      <td>[3, 3, 3, 3, 3, 3, 3, 3, 3, 3, 3, 3, 3, 3, 3, ...</td>\n",
       "      <td>['3_Zone', '4_Zone', '3_Zone', '5_Zone', '4_Zo...</td>\n",
       "      <td>[416.0, 219.0, 265.0, 71.0, 264.0, 439.0, 377....</td>\n",
       "    </tr>\n",
       "    <tr>\n",
       "      <th>7596</th>\n",
       "      <td>[5, 5, 5, 5, 5, 5, 5, 5, 5, 5, 5, 5, 5, 5, 5, ...</td>\n",
       "      <td>['5_Zone', '3_Zone', '5_Zone', '3_Zone', '4_Zo...</td>\n",
       "      <td>[1990.0, 1289.0, 2043.0, 1202.0, 593.0, 2069.0...</td>\n",
       "    </tr>\n",
       "  </tbody>\n",
       "</table>\n",
       "<p>7597 rows × 3 columns</p>\n",
       "</div>"
      ],
      "text/plain": [
       "                                              list_ZALL  \\\n",
       "0     [2, 2, 2, 2, 2, 2, 2, 2, 2, 2, 2, 2, 2, 2, 2, ...   \n",
       "1     [2, 2, 2, 2, 2, 2, 2, 2, 2, 2, 2, 2, 2, 2, 2, ...   \n",
       "2     [2, 2, 2, 2, 2, 2, 2, 2, 2, 2, 2, 2, 2, 2, 2, ...   \n",
       "3     [2, 2, 2, 2, 2, 2, 2, 2, 2, 2, 2, 2, 2, 2, 2, ...   \n",
       "4     [2, 2, 2, 2, 2, 2, 2, 2, 2, 2, 2, 2, 2, 2, 2, ...   \n",
       "...                                                 ...   \n",
       "7592  [4, 4, 4, 4, 4, 4, 4, 4, 4, 4, 4, 4, 4, 4, 4, ...   \n",
       "7593  [5, 5, 5, 5, 5, 5, 5, 5, 5, 5, 5, 5, 5, 5, 5, ...   \n",
       "7594  [5, 5, 5, 5, 5, 5, 5, 5, 5, 5, 5, 5, 5, 5, 5, ...   \n",
       "7595  [3, 3, 3, 3, 3, 3, 3, 3, 3, 3, 3, 3, 3, 3, 3, ...   \n",
       "7596  [5, 5, 5, 5, 5, 5, 5, 5, 5, 5, 5, 5, 5, 5, 5, ...   \n",
       "\n",
       "                                          list_of_zones  \\\n",
       "0     ['2_Zone', '3_Zone', '2_Zone', '3_Zone', '2_Zo...   \n",
       "1     ['2_Zone', '3_Zone', '2_Zone', '3_Zone', '2_Zo...   \n",
       "2     ['2_Zone', '3_Zone', '2_Zone', '3_Zone', '2_Zo...   \n",
       "3     ['2_Zone', '3_Zone', '2_Zone', '3_Zone', '4_Zo...   \n",
       "4     ['2_Zone', '3_Zone', '2_Zone', '3_Zone', '2_Zo...   \n",
       "...                                                 ...   \n",
       "7592  ['4_Zone', '3_Zone', '4_Zone', '3_Zone', '5_Zo...   \n",
       "7593  ['5_Zone', '3_Zone', '5_Zone', '4_Zone', '2_Zo...   \n",
       "7594  ['5_Zone', '3_Zone', '2_Zone', '3_Zone', '2_Zo...   \n",
       "7595  ['3_Zone', '4_Zone', '3_Zone', '5_Zone', '4_Zo...   \n",
       "7596  ['5_Zone', '3_Zone', '5_Zone', '3_Zone', '4_Zo...   \n",
       "\n",
       "                                      list_of_durations  \n",
       "0     [9207.0, 1589.0, 6737.0, 91.0, 7981.0, 2305.0,...  \n",
       "1     [1207.0, 101.0, 1045.0, 446.0, 1654.0, 757.0, ...  \n",
       "2     [687.0, 3062.0, 8785.0, 1344.0, 8646.0, 446.0,...  \n",
       "3     [543.0, 2262.0, 5925.0, 963.0, 345.0, 1678.0, ...  \n",
       "4              [610.0, 1993.0, 9217.0, 1437.0, 19143.0]  \n",
       "...                                                 ...  \n",
       "7592  [564.0, 303.0, 257.0, 2116.0, 2251.0, 1557.0, ...  \n",
       "7593  [4730.0, 3002.0, 18204.0, 212.0, 1512.0, 1260....  \n",
       "7594  [2453.0, 3833.0, 212.0, 90.0, 256.0, 347.0, 13...  \n",
       "7595  [416.0, 219.0, 265.0, 71.0, 264.0, 439.0, 377....  \n",
       "7596  [1990.0, 1289.0, 2043.0, 1202.0, 593.0, 2069.0...  \n",
       "\n",
       "[7597 rows x 3 columns]"
      ]
     },
     "execution_count": 22,
     "metadata": {},
     "output_type": "execute_result"
    }
   ],
   "source": [
    "df_daily[['list_ZALL','list_of_zones','list_of_durations']]"
   ]
  },
  {
   "cell_type": "code",
   "execution_count": 6,
   "metadata": {},
   "outputs": [
    {
     "name": "stdout",
     "output_type": "stream",
     "text": [
      "['HenID', 'level', 'duration_2_Zone', 'duration_3_Zone', 'duration_4_Zone', 'duration_5_Zone', 'verification_daily_total_duration', 'verification_daily_total_nbr_hour', 'dur_values', 'dur_values_normalized', 'perc_duration_3_Zone', 'perc_duration_2_Zone', 'perc_duration_4_Zone', 'perc_duration_5_Zone', 'time_wg_open_sec', 'duration_sincedaystarted_beforeWGopened_sec', 'FirstTimestamp_2_Zone', 'FirstTimestamp_3_Zone', 'FirstTimestamp_4_Zone', 'FirstTimestamp_5_Zone', 'Total_number_zone', 'list_of_durations', 'list_of_zones', 'list_ZALL', 'mid_cum_Z4_sec', 'Total_number_transition', 'nbr_stays', 'distribution_entropy', 'vertical_travel_distance', 'nestboxes_related_behavior', 'nbr_stays_total', 'nbr_stays_3_Zone', 'nbr_stays_2_Zone', 'nbr_stays_4_Zone', 'nbr_stays_5_Zone', 'TagID', 'PenID', 'night_level', 'night_Max_duration_zones', 'night_duration_Z5', 'night_Total_number_transition', 'is_mvt_night', 'nbr_h_per_day', 'correct_amount_of_hour', 'DOA', 'WOA', 'duration_1_Zone', 'perc_duration_1_Zone', 'perc_1_Zone_while_WG_open', 'FirstTimestamp_1_Zone', 'nbr_h_WGopen', 'FirstTimestamp_1_Zone_sec', 'latency_1_Zone_h', 'nbr_stays_1_Zone']\n"
     ]
    }
   ],
   "source": [
    "print(list(df_daily.columns))"
   ]
  },
  {
   "cell_type": "markdown",
   "metadata": {},
   "source": [
    "# Quick transformation - Could be added in UTILS if another run"
   ]
  },
  {
   "cell_type": "code",
   "execution_count": 7,
   "metadata": {},
   "outputs": [
    {
     "data": {
      "text/plain": [
       "Timestamp('2022-07-03 00:00:00')"
      ]
     },
     "execution_count": 7,
     "metadata": {},
     "output_type": "execute_result"
    }
   ],
   "source": [
    "#weekdays\n",
    "dico_d_week = {0:'monday',\n",
    "               1:'tuesday',\n",
    "               2:'wednesday',\n",
    "               3:'thursday',\n",
    "               4:'friday',\n",
    "               5:'saturday',\n",
    "               6:'sunday'}\n",
    "df_daily['weekday'] = df_daily['level'].map(lambda x : dico_d_week[x.weekday()]) \n",
    "df_daily[df_daily['weekday']=='sunday']['level'].max() #check manually: correct"
   ]
  },
  {
   "cell_type": "code",
   "execution_count": 8,
   "metadata": {},
   "outputs": [
    {
     "data": {
      "text/plain": [
       "TrackingSystem 10-12    2880\n",
       "TrackingSystem 3-5      2829\n",
       "TrackingSystem 8-9      1888\n",
       "Name: TrackingSystemID, dtype: int64"
      ]
     },
     "metadata": {},
     "output_type": "display_data"
    }
   ],
   "source": [
    "#add tracking system ID\n",
    "df_daily['TrackingSystemID'] = df_daily['PenID'].map(lambda x: config.dico_pen_ts[x])\n",
    "display(df_daily['TrackingSystemID'].value_counts())"
   ]
  },
  {
   "cell_type": "code",
   "execution_count": 9,
   "metadata": {},
   "outputs": [
    {
     "name": "stdout",
     "output_type": "stream",
     "text": [
      "(0, 57)\n"
     ]
    },
    {
     "data": {
      "text/plain": [
       "3    0.626958\n",
       "1    0.170725\n",
       "2    0.110043\n",
       "0    0.092273\n",
       "Name: SleepingHeight, dtype: float64"
      ]
     },
     "metadata": {},
     "output_type": "display_data"
    },
    {
     "data": {
      "text/plain": [
       "0    0.626958\n",
       "1    0.373042\n",
       "Name: Sleeping_NotUppest, dtype: float64"
      ]
     },
     "metadata": {},
     "output_type": "display_data"
    },
    {
     "data": {
      "text/plain": [
       "1.0    4763\n",
       "0.0    2834\n",
       "Name: Sleeping_Uppest, dtype: int64"
      ]
     },
     "execution_count": 9,
     "metadata": {},
     "output_type": "execute_result"
    }
   ],
   "source": [
    "#add if animal is not sleeping uppest\n",
    "df_daily.loc[df_daily['night_Max_duration_zones'].isnull(),'night_Max_duration_zones'] = ''\n",
    "df_daily['SleepingHeight'] = df_daily['night_Max_duration_zones'].map(lambda x: int(x.split('_')[0])-2 if x!='' else np.nan)#-2: litter (zon2: equal to 0 tiers underneath)\n",
    "print(df_daily[df_daily['night_Max_duration_zones'].isnull()].shape)\n",
    "display(df_daily['SleepingHeight'].value_counts(normalize=True))\n",
    "df_daily['Sleeping_NotUppest'] = df_daily['SleepingHeight'].map(lambda x: int(x!=3))\n",
    "display(df_daily['Sleeping_NotUppest'].value_counts(normalize=True))\n",
    "df_daily['Sleeping_Uppest'] = df_daily['Sleeping_NotUppest'].map(lambda x: 1-x)\n",
    "df_daily.loc[df_daily['night_Max_duration_zones'].isnull(),'Sleeping_Uppest'] = np.nan\n",
    "df_daily['Sleeping_Uppest'].value_counts()"
   ]
  },
  {
   "cell_type": "code",
   "execution_count": 10,
   "metadata": {},
   "outputs": [
    {
     "data": {
      "text/plain": [
       "1    0.596156\n",
       "0    0.403844\n",
       "Name: WentinWG, dtype: float64"
      ]
     },
     "metadata": {},
     "output_type": "display_data"
    }
   ],
   "source": [
    "#add wentinWG\n",
    "df_daily['WentinWG'] = df_daily['perc_1_Zone_while_WG_open'].map(lambda x: int(x>0))\n",
    "display(df_daily['WentinWG'].value_counts(normalize=True))"
   ]
  },
  {
   "cell_type": "code",
   "execution_count": 11,
   "metadata": {},
   "outputs": [
    {
     "name": "stdout",
     "output_type": "stream",
     "text": [
      "Index(['HenID', 'level', 'duration_2_Zone', 'duration_3_Zone',\n",
      "       'duration_4_Zone', 'duration_5_Zone',\n",
      "       'verification_daily_total_duration',\n",
      "       'verification_daily_total_nbr_hour', 'dur_values',\n",
      "       'dur_values_normalized', 'perc_duration_3_Zone', 'perc_duration_2_Zone',\n",
      "       'perc_duration_4_Zone', 'perc_duration_5_Zone', 'time_wg_open_sec',\n",
      "       'duration_sincedaystarted_beforeWGopened_sec', 'FirstTimestamp_2_Zone',\n",
      "       'FirstTimestamp_3_Zone', 'FirstTimestamp_4_Zone',\n",
      "       'FirstTimestamp_5_Zone', 'Total_number_zone', 'list_of_durations',\n",
      "       'list_of_zones', 'list_ZALL', 'mid_cum_Z4_sec',\n",
      "       'Total_number_transition', 'nbr_stays', 'distribution_entropy',\n",
      "       'vertical_travel_distance', 'nestboxes_related_behavior',\n",
      "       'nbr_stays_total', 'nbr_stays_3_Zone', 'nbr_stays_2_Zone',\n",
      "       'nbr_stays_4_Zone', 'nbr_stays_5_Zone', 'TagID', 'PenID', 'night_level',\n",
      "       'night_Max_duration_zones', 'night_duration_Z5',\n",
      "       'night_Total_number_transition', 'is_mvt_night', 'nbr_h_per_day',\n",
      "       'correct_amount_of_hour', 'DOA', 'WOA', 'duration_1_Zone',\n",
      "       'perc_duration_1_Zone', 'perc_1_Zone_while_WG_open',\n",
      "       'FirstTimestamp_1_Zone', 'nbr_h_WGopen', 'FirstTimestamp_1_Zone_sec',\n",
      "       'latency_1_Zone_h', 'nbr_stays_1_Zone', 'weekday', 'TrackingSystemID',\n",
      "       'SleepingHeight', 'Sleeping_NotUppest', 'Sleeping_Uppest', 'WentinWG'],\n",
      "      dtype='object')\n"
     ]
    }
   ],
   "source": [
    "print(df_daily.columns)"
   ]
  },
  {
   "cell_type": "code",
   "execution_count": 12,
   "metadata": {},
   "outputs": [
    {
     "data": {
      "image/png": "[encoded data removed]",
      "text/plain": [
       "<Figure size 432x288 with 1 Axes>"
      ]
     },
     "metadata": {
      "needs_background": "light"
     },
     "output_type": "display_data"
    }
   ],
   "source": [
    "# add vertical distance /inside hour (not that when the wg is close the duarion is nan, and the division will be nan, so we \n",
    "#controlled for this too)\n",
    "df_daily['vertical_travel_distance_perinsideh'] = df_daily.apply(lambda x: x['vertical_travel_distance']/(x['verification_daily_total_nbr_hour']-x['duration_1_Zone']/60/60) \\\n",
    "                                                                 if x['level']>config.date_first_opening_WG else x['vertical_travel_distance']/x['verification_daily_total_nbr_hour'],axis=1)\n",
    "plt.hist(df_daily['vertical_travel_distance_perinsideh']);"
   ]
  },
  {
   "cell_type": "code",
   "execution_count": 13,
   "metadata": {
    "scrolled": true
   },
   "outputs": [
    {
     "data": {
      "text/html": [
       "<div>\n",
       "<style scoped>\n",
       "    .dataframe tbody tr th:only-of-type {\n",
       "        vertical-align: middle;\n",
       "    }\n",
       "\n",
       "    .dataframe tbody tr th {\n",
       "        vertical-align: top;\n",
       "    }\n",
       "\n",
       "    .dataframe thead th {\n",
       "        text-align: right;\n",
       "    }\n",
       "</style>\n",
       "<table border=\"1\" class=\"dataframe\">\n",
       "  <thead>\n",
       "    <tr style=\"text-align: right;\">\n",
       "      <th></th>\n",
       "      <th>level</th>\n",
       "      <th>verification_daily_total_nbr_hour</th>\n",
       "      <th>day_lighth</th>\n",
       "    </tr>\n",
       "  </thead>\n",
       "  <tbody>\n",
       "    <tr>\n",
       "      <th>0</th>\n",
       "      <td>2021-10-09</td>\n",
       "      <td>9.0</td>\n",
       "      <td>8</td>\n",
       "    </tr>\n",
       "    <tr>\n",
       "      <th>1</th>\n",
       "      <td>2021-10-10</td>\n",
       "      <td>9.0</td>\n",
       "      <td>8</td>\n",
       "    </tr>\n",
       "    <tr>\n",
       "      <th>2</th>\n",
       "      <td>2021-10-16</td>\n",
       "      <td>9.0</td>\n",
       "      <td>8</td>\n",
       "    </tr>\n",
       "    <tr>\n",
       "      <th>3</th>\n",
       "      <td>2021-10-17</td>\n",
       "      <td>9.0</td>\n",
       "      <td>8</td>\n",
       "    </tr>\n",
       "    <tr>\n",
       "      <th>4</th>\n",
       "      <td>2021-10-18</td>\n",
       "      <td>9.0</td>\n",
       "      <td>8</td>\n",
       "    </tr>\n",
       "    <tr>\n",
       "      <th>...</th>\n",
       "      <td>...</td>\n",
       "      <td>...</td>\n",
       "      <td>...</td>\n",
       "    </tr>\n",
       "    <tr>\n",
       "      <th>7592</th>\n",
       "      <td>2022-06-30</td>\n",
       "      <td>14.0</td>\n",
       "      <td>3</td>\n",
       "    </tr>\n",
       "    <tr>\n",
       "      <th>7593</th>\n",
       "      <td>2022-07-01</td>\n",
       "      <td>14.0</td>\n",
       "      <td>3</td>\n",
       "    </tr>\n",
       "    <tr>\n",
       "      <th>7594</th>\n",
       "      <td>2022-07-02</td>\n",
       "      <td>14.0</td>\n",
       "      <td>3</td>\n",
       "    </tr>\n",
       "    <tr>\n",
       "      <th>7595</th>\n",
       "      <td>2022-07-03</td>\n",
       "      <td>14.0</td>\n",
       "      <td>3</td>\n",
       "    </tr>\n",
       "    <tr>\n",
       "      <th>7596</th>\n",
       "      <td>2022-07-04</td>\n",
       "      <td>14.0</td>\n",
       "      <td>3</td>\n",
       "    </tr>\n",
       "  </tbody>\n",
       "</table>\n",
       "<p>7597 rows × 3 columns</p>\n",
       "</div>"
      ],
      "text/plain": [
       "          level  verification_daily_total_nbr_hour  day_lighth\n",
       "0    2021-10-09                                9.0           8\n",
       "1    2021-10-10                                9.0           8\n",
       "2    2021-10-16                                9.0           8\n",
       "3    2021-10-17                                9.0           8\n",
       "4    2021-10-18                                9.0           8\n",
       "...         ...                                ...         ...\n",
       "7592 2022-06-30                               14.0           3\n",
       "7593 2022-07-01                               14.0           3\n",
       "7594 2022-07-02                               14.0           3\n",
       "7595 2022-07-03                               14.0           3\n",
       "7596 2022-07-04                               14.0           3\n",
       "\n",
       "[7597 rows x 3 columns]"
      ]
     },
     "metadata": {},
     "output_type": "display_data"
    },
    {
     "name": "stdout",
     "output_type": "stream",
     "text": [
      "9.0\n"
     ]
    },
    {
     "data": {
      "image/png": "[encoded data removed]",
      "text/plain": [
       "<Figure size 432x288 with 1 Axes>"
      ]
     },
     "metadata": {
      "needs_background": "light"
     },
     "output_type": "display_data"
    },
    {
     "data": {
      "image/png": "[encoded data removed]",
      "text/plain": [
       "<Figure size 432x288 with 1 Axes>"
      ]
     },
     "metadata": {
      "needs_background": "light"
     },
     "output_type": "display_data"
    }
   ],
   "source": [
    "#add mid-nestbox usage morning (from light on until 8!)\n",
    "def starting_h_day(x, dico_):\n",
    "    '''from a timestamp value x, and the dico_night_hour parameter, it will output true if its during the day, false otherwise'''\n",
    "    if max(dico_.keys())<dt.datetime(x.year,x.month,x.day,0,0,0):\n",
    "        print('ERROR: your \\\"dico_night_hour\\\" parameter does not include information for the date: %s'%str(x))\n",
    "        sys.exit()\n",
    "    else:\n",
    "        #take info (i.e. values) of the dico_night_hour key that represent the smallest date among all the date>=x:\n",
    "        m = min([d for d in dico_.keys() if d>=dt.datetime(x.year,x.month,x.day,0,0,0)])\n",
    "        return dico_[m]['start_h']\n",
    "df_daily['day_lighth'] = df_daily['level'].map(lambda x: starting_h_day(x, dico_night_hour))\n",
    "#small verification\n",
    "display(df_daily[['level','verification_daily_total_nbr_hour','day_lighth']])\n",
    "#mid-time Z4 ONLY MORNING\n",
    "print(len(eval(df_daily['list_ZALL'].iloc[1]))/60/60)\n",
    "#find mid number of seconds after the light was turned on of the morning usage (i.e. until 8h in the morning)\n",
    "df_daily['mid_durationafterlightturnedon_Z4_h_Morning'] = df_daily.apply(lambda x: mid_cum_Z4_sec(eval(x['list_ZALL'])[0:((8-x['day_lighth'])*60*60)])/60/60 if x['day_lighth']<8 else np.nan, axis=1)\n",
    "df_daily['mid_cum_Z4_h_Morning'] = df_daily.apply(lambda x: x['mid_durationafterlightturnedon_Z4_h_Morning']+x['day_lighth'], axis=1)\n",
    "plt.hist(df_daily['mid_durationafterlightturnedon_Z4_h_Morning'])\n",
    "plt.show()\n",
    "plt.hist(df_daily['mid_cum_Z4_h_Morning']);"
   ]
  },
  {
   "cell_type": "code",
   "execution_count": 14,
   "metadata": {},
   "outputs": [
    {
     "name": "stdout",
     "output_type": "stream",
     "text": [
      "9\n",
      "nan\n"
     ]
    }
   ],
   "source": [
    "#small check: nan when no mvt value in the nestbox\n",
    "print(mid_cum_Z4_sec([1,1,1,1,1,1,4,4,4,4,4,4,1,1,1]))\n",
    "print(mid_cum_Z4_sec([1,1,1,1,1,1,3,3,3,3,3,1,1,1]))"
   ]
  },
  {
   "cell_type": "code",
   "execution_count": 15,
   "metadata": {},
   "outputs": [
    {
     "data": {
      "text/plain": [
       "3    6790\n",
       "8     807\n",
       "Name: day_lighth, dtype: int64"
      ]
     },
     "execution_count": 15,
     "metadata": {},
     "output_type": "execute_result"
    }
   ],
   "source": [
    "df_daily['day_lighth'].value_counts()"
   ]
  },
  {
   "cell_type": "code",
   "execution_count": 16,
   "metadata": {},
   "outputs": [
    {
     "data": {
      "image/png": "[encoded data removed]",
      "text/plain": [
       "<Figure size 432x288 with 1 Axes>"
      ]
     },
     "metadata": {
      "needs_background": "light"
     },
     "output_type": "display_data"
    }
   ],
   "source": [
    "#not efficient, but small data so I'd rather keep it short in lines than short in time here (takes 1mn to run)\n",
    "df_daily['previous_mid_cum_Z4_h_Morning'] = df_daily.apply(lambda x: df_daily[(df_daily['HenID']==x['HenID'])&\\\n",
    "                                                                              (df_daily['level']==x['level']-dt.timedelta(days=1))]['mid_cum_Z4_h_Morning'].values, axis=1)\n",
    "df_daily['previous_mid_cum_Z4_h_Morning'] = df_daily['previous_mid_cum_Z4_h_Morning'].map(lambda x: x[0] if len(x)==1 else np.nan)\n",
    "df_daily['Intervaltime_midcumZ4hmorning_h'] = df_daily.apply(lambda x: 24+(x['mid_cum_Z4_h_Morning']-x['previous_mid_cum_Z4_h_Morning']) if not math.isnan(x['previous_mid_cum_Z4_h_Morning']) else np.nan, axis=1)\n",
    "#small check\n",
    "df_daily[df_daily['HenID']=='hen_1'][['level','mid_cum_Z4_h_Morning','previous_mid_cum_Z4_h_Morning','Intervaltime_midcumZ4hmorning_h']].tail(5)\n",
    "plt.hist(df_daily['Intervaltime_midcumZ4hmorning_h']);"
   ]
  },
  {
   "cell_type": "markdown",
   "metadata": {},
   "source": [
    "# Add food var once we have the feed schedule"
   ]
  },
  {
   "cell_type": "markdown",
   "metadata": {},
   "source": [
    "tupleFR_h_mn = [(6,1),(9,1),(12,1),(14,16)]\n",
    "dico_nbr_liFAKEdate = {}\n",
    "#minus 4 minutes for the period before as these timestmap will be used as stating point of the fake periods, and we want the \n",
    "#full period to be included within that timing only\n",
    "dico_nbr_liFAKEdate[1] = list(pd.date_range(start=dt.datetime(2020,1,1,4,55,0)-dt.timedelta(minutes=4), \n",
    "                                  end=dt.datetime(2020,1,1,5,40,0)-dt.timedelta(minutes=4), \n",
    "                                  freq = 'S'))\n",
    "dico_nbr_liFAKEdate[1].extend(pd.date_range(start=dt.datetime(2020,1,1,6,20,0), \n",
    "                                  end=dt.datetime(2020,1,1,7,5,0), \n",
    "                                  freq = 'S'))\n",
    "\n",
    "dico_nbr_liFAKEdate[2] = list(pd.date_range(start=dt.datetime(2020,1,1,7,55,0)-dt.timedelta(minutes=4), \n",
    "                                  end=dt.datetime(2020,1,1,8,40,0)-dt.timedelta(minutes=4), \n",
    "                                  freq = 'S'))\n",
    "dico_nbr_liFAKEdate[2].extend(pd.date_range(start=dt.datetime(2020,1,1,9,20,0), \n",
    "                                  end=dt.datetime(2020,1,1,10,5,0), \n",
    "                                  freq = 'S'))\n",
    "\n",
    "dico_nbr_liFAKEdate[3] = list(pd.date_range(start=dt.datetime(2020,1,1,10,55,0)-dt.timedelta(minutes=4), \n",
    "                                  end=dt.datetime(2020,1,1,11,40,0)-dt.timedelta(minutes=4), \n",
    "                                  freq = 'S'))\n",
    "dico_nbr_liFAKEdate[3].extend(pd.date_range(start=dt.datetime(2020,1,1,12,20,0), \n",
    "                                  end=dt.datetime(2020,1,1,13,5,0), \n",
    "                                  freq = 'S'))      \n",
    "\n",
    "dico_nbr_liFAKEdate[4] = list(pd.date_range(start=dt.datetime(2020,1,1,13,10,0)-dt.timedelta(minutes=4), \n",
    "                                  end=dt.datetime(2020,1,1,13,55,0)-dt.timedelta(minutes=4), \n",
    "                                  freq = 'S'))\n",
    "dico_nbr_liFAKEdate[4].extend(pd.date_range(start=dt.datetime(2020,1,1,14,35,0), \n",
    "                                  end=dt.datetime(2020,1,1,15,20,0), \n",
    "                                  freq = 'S'))      "
   ]
  },
  {
   "cell_type": "markdown",
   "metadata": {},
   "source": [
    "def food_SameDurationProperties(li_Z, config, dico_nbr_liFAKEdate, tupleFR_h_mn,\n",
    "                                Nbr_random, fake_sec=0, onlydurnottiming=False):\n",
    "    \n",
    "    #put into good format and check if the length corresponds to what is expected (2h-16h59)\n",
    "    #from 1_zone to 1\n",
    "    if len(li_Z)!=15*60*60:\n",
    "        return (np.nan, np.nan, [np.nan], [np.nan], np.nan, np.nan)\n",
    "    \n",
    "    #initialise known parameters from configuration file\n",
    "    dur_FR_beforeandafter_mn = config.dur_FR_beforeandafter_mn\n",
    "   \n",
    "    #initialise output values\n",
    "    tFZ_ALL = []\n",
    "    tFZ_ALL_FAKE = []\n",
    "    li_res = []\n",
    "    li_li_res = []\n",
    "    \n",
    "    if onlydurnottiming:\n",
    "        li_choices = []\n",
    "        for v in config.dico_nbr_liFAKEdate.values():\n",
    "            li_choices.extend(v)\n",
    "    \n",
    "    #intialise the number of batch we will consider for that day-hen\n",
    "    nbr_batch_considered = 0\n",
    "    #initialise a dico with a list of zone where the hen was for each time the food was delivered\n",
    "    dico_nbr_liz = {}\n",
    "    for nbr,(h,mn) in enumerate(tupleFR_h_mn):\n",
    "        \n",
    "        #extract a list of the zone where the hen was during that batch of food delivery\n",
    "        #substract 2 as it starts at 2h\n",
    "        li_ = li_Z[((h-2)*60*60+mn*60-dur_FR_beforeandafter_mn*60)+fake_sec:((h-2)*60*60+mn*60+dur_FR_beforeandafter_mn*60)+fake_sec]\n",
    "        dico_nbr_liz[nbr] = li_\n",
    "        if len(li_)!=4*60:\n",
    "            print(len(li_))\n",
    "            print('ERROR ELSE DELETE THIS HERE')\n",
    "            sys.exit()\n",
    "        \n",
    "        #compute time in a food zone and time inside\n",
    "        tFZ = sum([(v==3)|(v==5) for v in li_])\n",
    "        tFZINSIDE = sum([(v!=1) for v in li_])\n",
    "            \n",
    "        #then, for each period of food delivery, and for each cases where the hen was inside the whole time, \n",
    "        #we take a surrounding random period, without accounting the 20mn before or after food delivery, and chose a \n",
    "        #random period (but that does not include WG, just as the food timing batch time)\n",
    "        if tFZINSIDE==4*60:\n",
    "            #if hen is inside the whole period, we will consider that batch (and normalize with)\n",
    "            nbr_batch_considered = nbr_batch_considered + 1\n",
    "            #without replacement, choose Nbr_random element from the list\n",
    "            li_todo = random.sample(dico_nbr_liFAKEdate[nbr+1], Nbr_random*3) #*3 as the hen should be outside\n",
    "            if onlydurnottiming:\n",
    "                li_todo = random.sample(li_choices, Nbr_random*3)\n",
    "            #for each fake starting time, compute the duration in food zone and output the mean\n",
    "            li_tFZ_fake = []\n",
    "            k = 0\n",
    "            while k < Nbr_random:\n",
    "                for faketime in li_todo:\n",
    "                    h_ = faketime.hour\n",
    "                    mn_ = faketime.minute\n",
    "                    sec_ = faketime.second\n",
    "                    li_fakezone = li_Z[((h_-2)*60*60+mn_*60+sec_):((h_-2)*60*60+mn_*60+sec_+dur_FR_beforeandafter_mn*60*2)]\n",
    "                    if len(li_fakezone)!=4*60:\n",
    "                        print(len(li_fakezone), h_, mn_, sec_)\n",
    "                        print('ERROR ELSE DELETE THIS HERE')\n",
    "                        sys.exit()\n",
    "                    #if never went outside then keep it\n",
    "                    tFZINSIDE_fake = sum([(v!=1) for v in li_])\n",
    "                    if tFZINSIDE_fake==4*60:\n",
    "                        #compute time in a food zone vs time in a non food zone\n",
    "                        tFZ_fake = sum([(v==3)|(v==5) for v in li_fakezone])\n",
    "                        li_tFZ_fake.append(tFZ_fake)\n",
    "                        k = k +1\n",
    "            #add the duration in foodzone based on random timing to the list for all the food-batches\n",
    "            li_thisperiod_res = [(tFZ-v)/(tFZ+v) if (tFZ+v)!=0 else 0 for v in li_tFZ_fake]\n",
    "            li_li_res.append(li_thisperiod_res) #verified, correct\n",
    "            tFZ_ALL.append(tFZ)\n",
    "            tFZ_ALL_FAKE.append([round(v,2) for v in li_tFZ_fake])\n",
    "            li_res.append(np.mean(li_thisperiod_res))\n",
    "        else:\n",
    "            #keep track of which period was not available\n",
    "            li_li_res.append([np.nan])\n",
    "            tFZ_ALL.append(np.nan)\n",
    "            tFZ_ALL_FAKE.append([np.nan])\n",
    "            li_res.append(np.nan)\n",
    "            \n",
    "    return (round(np.nansum(li_res)/nbr_batch_considered,2), tFZ_ALL, tFZ_ALL_FAKE, li_li_res, nbr_batch_considered, li_res)"
   ]
  },
  {
   "cell_type": "markdown",
   "metadata": {},
   "source": [
    "df_daily['food_sameDurTiming_r50_nbrbatch'] = df_daily['list_ZALL'].map(lambda x: food_SameDurationProperties(li_Z=eval(x), config=config, Nbr_random=50,\n",
    "                                                                                                            dico_nbr_liFAKEdate=dico_nbr_liFAKEdate, tupleFR_h_mn=tupleFR_h_mn))\n",
    "#df_daily.loc[df_daily['food_sameDurTiming_r50_nbrbatch'].isnull(),'food_sameDurTiming_r50_nbrbatch'] = 9\n",
    "df_daily['food_sameDurTiming_r50'] = df_daily['food_sameDurTiming_r50_nbrbatch'].map(lambda x: x[0])\n",
    "df_daily['food_sameDurTiming_tFZ_ALL'] = df_daily['food_sameDurTiming_r50_nbrbatch'].map(lambda x: x[1])\n",
    "df_daily['food_sameDurTiming_tFZ_ALL_FAKE'] = df_daily['food_sameDurTiming_r50_nbrbatch'].map(lambda x: x[2])\n",
    "df_daily['food_sameDurTiming_li_li_res'] = df_daily['food_sameDurTiming_r50_nbrbatch'].map(lambda x: x[3])\n",
    "df_daily['food_sameDurTiming_nbrbatch'] = df_daily['food_sameDurTiming_r50_nbrbatch'].map(lambda x: x[4])\n",
    "df_daily['food_sameDurTiming_lires'] = df_daily['food_sameDurTiming_r50_nbrbatch'].map(lambda x: x[5])\n",
    "display(df_daily[['HenID','level','food_sameDurTiming_r50_nbrbatch','food_sameDurTiming_r50','food_sameDurTiming_nbrbatch']].head(3))\n",
    "display(df_daily[['HenID','level','food_sameDurTiming_r50_nbrbatch','food_sameDurTiming_r50','food_sameDurTiming_nbrbatch',\n",
    "                 'food_sameDurTiming_tFZ_ALL','food_sameDurTiming_tFZ_ALL_FAKE','food_sameDurTiming_lires']].tail(3))\n",
    "display(df_daily['food_sameDurTiming_nbrbatch'].value_counts())\n",
    "plt.hist(df_daily['food_sameDurTiming_r50'], bins=20)\n",
    "plt.show()"
   ]
  },
  {
   "cell_type": "markdown",
   "metadata": {},
   "source": [
    "fake_sec_ = 20*60 #20 minutes in second \n",
    "df_daily['food_sameDurTiming_r50_nbrbatch_AP'] = df_daily['list_ZALL'].map(lambda x: food_SameDurationProperties(li_Z=eval(x), config=config, Nbr_random=50, fake_sec=fake_sec_,\n",
    "                                                                                                            dico_nbr_liFAKEdate=dico_nbr_liFAKEdate, tupleFR_h_mn=tupleFR_h_mn))\n",
    "#df_daily.loc[df_daily['food_sameDurTiming_r50_nbrbatch'].isnull(),'food_sameDurTiming_r50_nbrbatch'] = 9\n",
    "df_daily['food_sameDurTiming_r50_AP'] = df_daily['food_sameDurTiming_r50_nbrbatch_AP'].map(lambda x: x[0])\n",
    "df_daily['food_sameDurTiming_tFZ_ALL_AP'] = df_daily['food_sameDurTiming_r50_nbrbatch_AP'].map(lambda x: x[1])\n",
    "df_daily['food_sameDurTiming_tFZ_ALL_FAKE_AP'] = df_daily['food_sameDurTiming_r50_nbrbatch_AP'].map(lambda x: x[2])\n",
    "df_daily['food_sameDurTiming_li_li_res_AP'] = df_daily['food_sameDurTiming_r50_nbrbatch_AP'].map(lambda x: x[3])\n",
    "df_daily['food_sameDurTiming_nbrbatch_AP'] = df_daily['food_sameDurTiming_r50_nbrbatch_AP'].map(lambda x: x[4])\n",
    "df_daily['food_sameDurTiming_lires_AP'] = df_daily['food_sameDurTiming_r50_nbrbatch_AP'].map(lambda x: x[5])\n",
    "\n",
    "display(df_daily[['HenID','level','food_sameDurTiming_r50_nbrbatch_AP','food_sameDurTiming_r50_AP','food_sameDurTiming_nbrbatch_AP',\n",
    "                 'food_sameDurTiming_tFZ_ALL_AP','food_sameDurTiming_tFZ_ALL_FAKE_AP','food_sameDurTiming_lires_AP']].head(3))\n",
    "display(df_daily[['HenID','level','food_sameDurTiming_r50_nbrbatch_AP','food_sameDurTiming_r50_AP','food_sameDurTiming_nbrbatch_AP',\n",
    "                 'food_sameDurTiming_tFZ_ALL_AP','food_sameDurTiming_tFZ_ALL_FAKE_AP','food_sameDurTiming_lires_AP']].tail(3))\n",
    "plt.hist(df_daily['food_sameDurTiming_r50_AP'], bins=20)\n",
    "plt.show()"
   ]
  },
  {
   "cell_type": "markdown",
   "metadata": {},
   "source": [
    "fake_sec_ = -20*60\n",
    "df_daily['food_sameDurTiming_r50_nbrbatch_AB'] = df_daily['list_ZALL'].map(lambda x: food_SameDurationProperties(li_Z=eval(x), config=config, Nbr_random=50, fake_sec=fake_sec_,\n",
    "                                                                                                            dico_nbr_liFAKEdate=dico_nbr_liFAKEdate, tupleFR_h_mn=tupleFR_h_mn))\n",
    "#df_daily.loc[df_daily['food_sameDurTiming_r50_nbrbatch'].isnull(),'food_sameDurTiming_r50_nbrbatch'] = 9\n",
    "df_daily['food_sameDurTiming_r50_AB'] = df_daily['food_sameDurTiming_r50_nbrbatch_AB'].map(lambda x: x[0])\n",
    "df_daily['food_sameDurTiming_tFZ_ALL_AB'] = df_daily['food_sameDurTiming_r50_nbrbatch_AB'].map(lambda x: x[1])\n",
    "df_daily['food_sameDurTiming_tFZ_ALL_FAKE_AB'] = df_daily['food_sameDurTiming_r50_nbrbatch_AB'].map(lambda x: x[2])\n",
    "df_daily['food_sameDurTiming_li_li_res_AB'] = df_daily['food_sameDurTiming_r50_nbrbatch_AB'].map(lambda x: x[3])\n",
    "df_daily['food_sameDurTiming_nbrbatch_AB'] = df_daily['food_sameDurTiming_r50_nbrbatch_AB'].map(lambda x: x[4])\n",
    "df_daily['food_sameDurTiming_lires_AB'] = df_daily['food_sameDurTiming_r50_nbrbatch_AB'].map(lambda x: x[5])\n",
    "display(df_daily[['HenID','level','food_sameDurTiming_r50_nbrbatch_AB','food_sameDurTiming_r50_AB','food_sameDurTiming_nbrbatch_AB']].head(3))\n",
    "display(df_daily[['HenID','level','food_sameDurTiming_r50_nbrbatch_AB','food_sameDurTiming_r50_AB','food_sameDurTiming_nbrbatch_AB']].tail(3))\n",
    "plt.hist(df_daily['food_sameDurTiming_r50_AB'], bins=20)\n",
    "plt.show()"
   ]
  },
  {
   "cell_type": "markdown",
   "metadata": {},
   "source": [
    "df_BS = df_daily[df_daily['level']<=dt.datetime(2021,3,27)].copy()\n",
    "pal_ = {'food_sameDurTiming_r50_AB':'darkorange',\n",
    "        'food_sameDurTiming_r50_AP':'indianred',\n",
    "        'food_sameDurTiming_r50':'steelblue'}\n",
    "l=1\n",
    "c=3\n",
    "fig = plt.figure(figsize=(13,4)) #/100 si trop grand nbr\n",
    "df_plt = df_BS.groupby(['HenID']).mean().reset_index()\n",
    "plt.subplot(l,c,1)\n",
    "#plt.figure(figsize=(5,4))\n",
    "sns.scatterplot(data=df_plt, x='vertical_travel_distance_fulllight_perinsideh', y='food_sameDurTiming_r50',\n",
    "                color=pal_['food_sameDurTiming_r50'])#,  size=\"size\", sizes=(20, 200))\n",
    "plt.xlabel('')\n",
    "plt.ylabel('')\n",
    "#plt.title('food reactivity index')\n",
    "plt.yticks(fontsize=10)\n",
    "plt.ylim((-0.8, 0.8))\n",
    "\n",
    "#plt.figure(figsize=(5,4))\n",
    "plt.subplot(l,c,2)\n",
    "sns.scatterplot(data=df_plt, x='vertical_travel_distance_fulllight_perinsideh', y='food_sameDurTiming_r50_AP',\n",
    "                color=pal_['food_sameDurTiming_r50_AP'])#,  size=\"size\", sizes=(20, 200))\n",
    "plt.ylabel('')\n",
    "#plt.title('hens\\' mean value')\n",
    "plt.xlabel('vertical travelled distance during full light (/h)', size=13)\n",
    "plt.ylim((-0.8, 0.8))\n",
    "\n",
    "#plt.figure(figsize=(5,4))\n",
    "plt.subplot(l,c,3)\n",
    "sns.scatterplot(data=df_plt, x='vertical_travel_distance_fulllight_perinsideh', y='food_sameDurTiming_r50_AB',\n",
    "                color=pal_['food_sameDurTiming_r50_AB'])#,  size=\"size\", sizes=(20, 200))\n",
    "plt.ylabel('')\n",
    "#plt.title('food reactivity index backward push')\n",
    "plt.xlabel('')\n",
    "plt.ylim((-0.8, 0.8))\n",
    "#plt.savefig(os.path.join(path_extracted_data,'dfBS_Raw_VTD_food.png'),dpi=300,format='png',bbox_inches='tight')\n",
    "plt.show();"
   ]
  },
  {
   "cell_type": "markdown",
   "metadata": {},
   "source": [
    "# Adding (henID;period) serie"
   ]
  },
  {
   "cell_type": "code",
   "execution_count": 17,
   "metadata": {},
   "outputs": [
    {
     "data": {
      "text/plain": [
       "R3       2452\n",
       "R2       1923\n",
       "R1       1314\n",
       "late     1101\n",
       "early     807\n",
       "Name: Period_type, dtype: int64"
      ]
     },
     "execution_count": 17,
     "metadata": {},
     "output_type": "execute_result"
    }
   ],
   "source": [
    "df_daily['Period_type'] = df_daily['level'].map(lambda x: 'early' if x in config.li_initdate else '')\n",
    "df_daily['Period_type'] = df_daily.apply(lambda x: 'R1' if x['level'] in config.li_HA1 else x['Period_type'], axis=1)\n",
    "df_daily['Period_type'] = df_daily.apply(lambda x: 'R2' if x['level'] in config.li_HA2 else x['Period_type'], axis=1)\n",
    "df_daily['Period_type'] = df_daily.apply(lambda x: 'R3' if x['level'] in config.li_HA3 else x['Period_type'], axis=1)\n",
    "df_daily['Period_type'] = df_daily.apply(lambda x: 'late' if x['level'] in config.li_HA4 else x['Period_type'], axis=1)\n",
    "df_daily['Period_type'].value_counts()"
   ]
  },
  {
   "cell_type": "code",
   "execution_count": 18,
   "metadata": {},
   "outputs": [
    {
     "data": {
      "text/html": [
       "<div>\n",
       "<style scoped>\n",
       "    .dataframe tbody tr th:only-of-type {\n",
       "        vertical-align: middle;\n",
       "    }\n",
       "\n",
       "    .dataframe tbody tr th {\n",
       "        vertical-align: top;\n",
       "    }\n",
       "\n",
       "    .dataframe thead th {\n",
       "        text-align: right;\n",
       "    }\n",
       "</style>\n",
       "<table border=\"1\" class=\"dataframe\">\n",
       "  <thead>\n",
       "    <tr style=\"text-align: right;\">\n",
       "      <th></th>\n",
       "      <th>HenID_Period</th>\n",
       "      <th>HenID</th>\n",
       "    </tr>\n",
       "  </thead>\n",
       "  <tbody>\n",
       "    <tr>\n",
       "      <th>0</th>\n",
       "      <td>hen_1_early</td>\n",
       "      <td>hen_1</td>\n",
       "    </tr>\n",
       "    <tr>\n",
       "      <th>1</th>\n",
       "      <td>hen_1_early</td>\n",
       "      <td>hen_1</td>\n",
       "    </tr>\n",
       "    <tr>\n",
       "      <th>2</th>\n",
       "      <td>hen_1_early</td>\n",
       "      <td>hen_1</td>\n",
       "    </tr>\n",
       "    <tr>\n",
       "      <th>3</th>\n",
       "      <td>hen_1_early</td>\n",
       "      <td>hen_1</td>\n",
       "    </tr>\n",
       "    <tr>\n",
       "      <th>4</th>\n",
       "      <td>hen_1_early</td>\n",
       "      <td>hen_1</td>\n",
       "    </tr>\n",
       "  </tbody>\n",
       "</table>\n",
       "</div>"
      ],
      "text/plain": [
       "  HenID_Period  HenID\n",
       "0  hen_1_early  hen_1\n",
       "1  hen_1_early  hen_1\n",
       "2  hen_1_early  hen_1\n",
       "3  hen_1_early  hen_1\n",
       "4  hen_1_early  hen_1"
      ]
     },
     "execution_count": 18,
     "metadata": {},
     "output_type": "execute_result"
    }
   ],
   "source": [
    "df_daily['HenID_Period'] = df_daily.apply(lambda x: x['HenID']+'_'+x['Period_type'], axis=1)\n",
    "df_daily[['HenID_Period','HenID']].head(5)"
   ]
  },
  {
   "cell_type": "markdown",
   "metadata": {},
   "source": [
    "# Save"
   ]
  },
  {
   "cell_type": "code",
   "execution_count": 24,
   "metadata": {},
   "outputs": [],
   "source": [
    "del df_daily['nestboxes_related_behavior']\n",
    "del df_daily['mid_cum_Z4_sec']"
   ]
  },
  {
   "cell_type": "code",
   "execution_count": null,
   "metadata": {},
   "outputs": [],
   "source": [
    "df_daily_ = df_daily.drop(['list_of_zones','list_ZALL'],axis=1)\n",
    "df_daily_.to_csv(os.path.join(path_extracted_data, id_run+'_daily_ALL_variables_added.csv'),sep=';',index=False)\n",
    "print(df_daily_.shape)\n",
    "df_daily_.head(3)"
   ]
  },
  {
   "cell_type": "code",
   "execution_count": 21,
   "metadata": {},
   "outputs": [
    {
     "data": {
      "text/plain": [
       "0       22200.0\n",
       "1       22200.0\n",
       "2       22200.0\n",
       "3       22200.0\n",
       "4       22200.0\n",
       "         ...   \n",
       "7592    30000.0\n",
       "7593    30000.0\n",
       "7594    29400.0\n",
       "7595    29400.0\n",
       "7596    30600.0\n",
       "Name: time_wg_open_sec, Length: 7597, dtype: float64"
      ]
     },
     "execution_count": 21,
     "metadata": {},
     "output_type": "execute_result"
    }
   ],
   "source": [
    "df_daily['time_wg_open_sec']"
   ]
  },
  {
   "cell_type": "code",
   "execution_count": null,
   "metadata": {},
   "outputs": [],
   "source": []
  },
  {
   "cell_type": "code",
   "execution_count": null,
   "metadata": {},
   "outputs": [],
   "source": []
  },
  {
   "cell_type": "code",
   "execution_count": null,
   "metadata": {},
   "outputs": [],
   "source": []
  },
  {
   "cell_type": "code",
   "execution_count": null,
   "metadata": {},
   "outputs": [],
   "source": []
  },
  {
   "cell_type": "code",
   "execution_count": null,
   "metadata": {},
   "outputs": [],
   "source": []
  },
  {
   "cell_type": "code",
   "execution_count": null,
   "metadata": {},
   "outputs": [],
   "source": []
  }
 ],
 "metadata": {
  "kernelspec": {
   "display_name": "Python 3 (ipykernel)",
   "language": "python",
   "name": "python3"
  },
  "language_info": {
   "codemirror_mode": {
    "name": "ipython",
    "version": 3
   },
   "file_extension": ".py",
   "mimetype": "text/x-python",
   "name": "python",
   "nbconvert_exporter": "python",
   "pygments_lexer": "ipython3",
   "version": "3.8.12"
  }
 },
 "nbformat": 4,
 "nbformat_minor": 2
}
