{
 "cells": [
  {
   "cell_type": "code",
   "execution_count": 1,
   "id": "f295e75d",
   "metadata": {
    "scrolled": true
   },
   "outputs": [
    {
     "name": "stderr",
     "output_type": "stream",
     "text": [
      "Warning message:\n",
      "\"le package 'ctsem' a été compilé avec la version R 4.1.3\"\n",
      "Le chargement a nécessité le package : Rcpp\n",
      "\n",
      "Warning message:\n",
      "\"le package 'Rcpp' a été compilé avec la version R 4.1.2\"\n",
      "ctsem also changes in time, for manual run ctDocs(), for blog see https://cdriver.netlify.app/, for citation info run citation('ctsem'), for original OpenMx functionality install.packages('ctsemOMX'), and for discussion https://github.com/cdriveraus/ctsem/discussions\n",
      "\n",
      "Warning message in doTryCatch(return(expr), name, parentenv, handler):\n",
      "\"The following important packages for ctsem are out of date: rstan, ctsem\"\n",
      "Warning message:\n",
      "\"le package 'dplyr' a été compilé avec la version R 4.1.2\"\n",
      "\n",
      "Attachement du package : 'dplyr'\n",
      "\n",
      "\n",
      "Les objets suivants sont masqués depuis 'package:stats':\n",
      "\n",
      "    filter, lag\n",
      "\n",
      "\n",
      "Les objets suivants sont masqués depuis 'package:base':\n",
      "\n",
      "    intersect, setdiff, setequal, union\n",
      "\n",
      "\n",
      "Warning message:\n",
      "\"le package 'plyr' a été compilé avec la version R 4.1.2\"\n",
      "------------------------------------------------------------------------------\n",
      "\n",
      "You have loaded plyr after dplyr - this is likely to cause problems.\n",
      "If you need functions from both plyr and dplyr, please load plyr first, then dplyr:\n",
      "library(plyr); library(dplyr)\n",
      "\n",
      "------------------------------------------------------------------------------\n",
      "\n",
      "\n",
      "Attachement du package : 'plyr'\n",
      "\n",
      "\n",
      "Les objets suivants sont masqués depuis 'package:dplyr':\n",
      "\n",
      "    arrange, count, desc, failwith, id, mutate, rename, summarise,\n",
      "    summarize\n",
      "\n",
      "\n"
     ]
    }
   ],
   "source": [
    "library(ctsem)\n",
    "library(dplyr)\n",
    "library(plyr)"
   ]
  },
  {
   "cell_type": "code",
   "execution_count": 2,
   "id": "6feb7d4c",
   "metadata": {},
   "outputs": [
    {
     "data": {
      "text/plain": [
       "R version 4.1.1 (2021-08-10)\n",
       "Platform: x86_64-w64-mingw32/x64 (64-bit)\n",
       "Running under: Windows 10 x64 (build 19044)\n",
       "\n",
       "Matrix products: default\n",
       "\n",
       "locale:\n",
       "[1] LC_COLLATE=French_Switzerland.1252  LC_CTYPE=French_Switzerland.1252   \n",
       "[3] LC_MONETARY=French_Switzerland.1252 LC_NUMERIC=C                       \n",
       "[5] LC_TIME=French_Switzerland.1252    \n",
       "\n",
       "attached base packages:\n",
       "[1] stats     graphics  grDevices utils     datasets  methods   base     \n",
       "\n",
       "other attached packages:\n",
       "[1] plyr_1.8.6  dplyr_1.0.7 ctsem_3.7.2 Rcpp_1.0.7 \n",
       "\n",
       "loaded via a namespace (and not attached):\n",
       " [1] lattice_0.20-45      prettyunits_1.1.1    ps_1.6.0            \n",
       " [4] assertthat_0.2.1     digest_0.6.29        utf8_1.2.2          \n",
       " [7] V8_3.6.0             IRdisplay_1.0        R6_2.5.1            \n",
       "[10] repr_1.1.3           stats4_4.1.1         evaluate_0.14       \n",
       "[13] mize_0.2.4           ggplot2_3.4.1        pillar_1.8.1        \n",
       "[16] rlang_1.1.0          curl_4.3.2           uuid_1.0-3          \n",
       "[19] data.table_1.14.2    callr_3.7.3          Matrix_1.3-4        \n",
       "[22] loo_2.5.1            munsell_0.5.0        compiler_4.1.1      \n",
       "[25] Deriv_4.1.3          rstan_2.21.2         pkgconfig_2.0.3     \n",
       "[28] base64enc_0.1-3      pkgbuild_1.4.0       htmltools_0.5.2     \n",
       "[31] tidyselect_1.1.1     tibble_3.1.6         gridExtra_2.3       \n",
       "[34] expm_0.999-6         codetools_0.2-18     matrixStats_0.61.0  \n",
       "[37] fansi_0.5.0          crayon_1.5.2         withr_2.5.0         \n",
       "[40] grid_4.1.1           jsonlite_1.7.2       gtable_0.3.1        \n",
       "[43] lifecycle_1.0.3      DBI_1.1.2            magrittr_2.0.1      \n",
       "[46] StanHeaders_2.21.0-7 scales_1.2.1         RcppParallel_5.1.4  \n",
       "[49] cli_3.6.0            cOde_1.1.1           ellipsis_0.3.2      \n",
       "[52] generics_0.1.1       vctrs_0.5.2          IRkernel_1.3.2      \n",
       "[55] tools_4.1.1          glue_1.5.1           purrr_0.3.4         \n",
       "[58] processx_3.8.0       parallel_4.1.1       fastmap_1.1.0       \n",
       "[61] inline_0.3.19        colorspace_2.0-2     pbdZMQ_0.3-6        "
      ]
     },
     "metadata": {},
     "output_type": "display_data"
    }
   ],
   "source": [
    "sessionInfo()"
   ]
  },
  {
   "cell_type": "code",
   "execution_count": 3,
   "id": "2f7580c7",
   "metadata": {},
   "outputs": [],
   "source": [
    "setwd(\"G:/VPHI/Welfare/2- Research Projects/Camille Montalcini/Origins.GS/DataOutput/TrackingSystem/EXP2_\")"
   ]
  },
  {
   "cell_type": "markdown",
   "id": "2769d5e7",
   "metadata": {},
   "source": [
    "# Download data"
   ]
  },
  {
   "cell_type": "code",
   "execution_count": 4,
   "id": "c5fd5c2b",
   "metadata": {
    "scrolled": true
   },
   "outputs": [
    {
     "name": "stderr",
     "output_type": "stream",
     "text": [
      "Warning message in dir.create(path_save):\n",
      "\"'LongformatModels' existe déjà\"\n"
     ]
    },
    {
     "data": {
      "text/plain": [
       "     HAID                    HenID         PenID                 id       \n",
       " Length:2246        EXP3_hen_101:  12   Length:2246        Min.   :  1.0  \n",
       " Class :character   EXP3_hen_103:  12   Class :character   1st Qu.: 54.0  \n",
       " Mode  :character   EXP3_hen_104:  12   Mode  :character   Median :155.0  \n",
       "                    EXP3_hen_105:  12                      Mean   :163.5  \n",
       "                    EXP3_hen_106:  12                      3rd Qu.:262.0  \n",
       "                    EXP3_hen_109:  12                      Max.   :376.0  \n",
       "                    (Other)     :2174                                     \n",
       "  MonthInstudy       DOAHA           IsOFH        ExperimentID  Is_relocated   \n",
       " Min.   :0.000   Min.   :148.0   Min.   :0.0000   Exp1:811     Min.   :0.0000  \n",
       " 1st Qu.:0.820   1st Qu.:173.0   1st Qu.:0.0000   Exp2:801     1st Qu.:0.0000  \n",
       " Median :3.120   Median :243.0   Median :0.0000   Exp3:634     Median :0.0000  \n",
       " Mean   :3.503   Mean   :254.6   Mean   :0.1857                Mean   :0.1736  \n",
       " 3rd Qu.:5.420   3rd Qu.:313.0   3rd Qu.:0.0000                3rd Qu.:0.0000  \n",
       " Max.   :9.500   Max.   :437.0   Max.   :1.0000                Max.   :1.0000  \n",
       "                                                                               \n",
       "    Dataset1         Dataset2         Dataset3       early_death     \n",
       " Min.   :0.0000   Min.   :0.0000   Min.   :0.0000   Min.   :0.00000  \n",
       " 1st Qu.:0.0000   1st Qu.:0.0000   1st Qu.:0.0000   1st Qu.:0.00000  \n",
       " Median :0.0000   Median :0.0000   Median :0.0000   Median :0.00000  \n",
       " Mean   :0.2823   Mean   :0.3611   Mean   :0.3566   Mean   :0.01558  \n",
       " 3rd Qu.:1.0000   3rd Qu.:1.0000   3rd Qu.:1.0000   3rd Qu.:0.00000  \n",
       " Max.   :1.0000   Max.   :1.0000   Max.   :1.0000   Max.   :1.00000  \n",
       "                                                                     \n",
       "   time2event    meanDOAmvt        PropZ5           PropZ4      \n",
       " Min.   :1.5   Min.   :144.5   Min.   :0.0000   Min.   :0.0000  \n",
       " 1st Qu.:3.5   1st Qu.:211.2   1st Qu.:0.0579   1st Qu.:0.0501  \n",
       " Median :3.7   Median :241.5   Median :0.2077   Median :0.0686  \n",
       " Mean   :3.7   Mean   :271.0   Mean   :0.2867   Mean   :0.0813  \n",
       " 3rd Qu.:4.0   3rd Qu.:321.5   3rd Qu.:0.4616   3rd Qu.:0.0963  \n",
       " Max.   :7.0   Max.   :433.5   Max.   :0.9699   Max.   :0.7381  \n",
       "               NA's   :357     NA's   :357      NA's   :357     \n",
       "     PropZ3           PropZ2           PropZ1         VTDperhour     \n",
       " Min.   :0.0000   Min.   :0.0000   Min.   :0.0000   Min.   : 0.0417  \n",
       " 1st Qu.:0.1232   1st Qu.:0.1887   1st Qu.:0.0030   1st Qu.: 2.6476  \n",
       " Median :0.2207   Median :0.3536   Median :0.0195   Median : 3.7708  \n",
       " Mean   :0.2397   Mean   :0.3396   Mean   :0.0527   Mean   : 3.8385  \n",
       " 3rd Qu.:0.3180   3rd Qu.:0.4856   3rd Qu.:0.0763   3rd Qu.: 4.8857  \n",
       " Max.   :0.9071   Max.   :0.7246   Max.   :0.4287   Max.   :15.6750  \n",
       " NA's   :357      NA's   :357      NA's   :357      NA's   :357      \n",
       " zonecrossed2transition   unevenness        severity           gap       \n",
       " Min.   :1.000          Min.   :0.2043   Min.   :  0.00   Min.   :0.000  \n",
       " 1st Qu.:1.011          1st Qu.:0.5513   1st Qu.:  1.00   1st Qu.:0.000  \n",
       " Median :1.030          Median :0.7097   Median : 16.00   Median :0.000  \n",
       " Mean   :1.062          Mean   :0.8291   Mean   : 23.44   Mean   :0.243  \n",
       " 3rd Qu.:1.081          3rd Qu.:1.0480   3rd Qu.: 38.00   3rd Qu.:0.000  \n",
       " Max.   :1.670          Max.   :1.9913   Max.   :100.00   Max.   :1.000  \n",
       " NA's   :995            NA's   :357      NA's   :357      NA's   :357    \n",
       "     weight    \n",
       " Min.   :1228  \n",
       " 1st Qu.:1700  \n",
       " Median :1789  \n",
       " Mean   :1797  \n",
       " 3rd Qu.:1886  \n",
       " Max.   :2331  \n",
       " NA's   :969   "
      ]
     },
     "metadata": {},
     "output_type": "display_data"
    },
    {
     "name": "stdout",
     "output_type": "stream",
     "text": [
      "[1] 2246   26\n"
     ]
    },
    {
     "data": {
      "text/html": [
       "<table class=\"dataframe\">\n",
       "<caption>A data.frame: 6 × 26</caption>\n",
       "<thead>\n",
       "\t<tr><th></th><th scope=col>HAID</th><th scope=col>HenID</th><th scope=col>PenID</th><th scope=col>id</th><th scope=col>MonthInstudy</th><th scope=col>DOAHA</th><th scope=col>IsOFH</th><th scope=col>ExperimentID</th><th scope=col>Is_relocated</th><th scope=col>Dataset1</th><th scope=col>...</th><th scope=col>PropZ4</th><th scope=col>PropZ3</th><th scope=col>PropZ2</th><th scope=col>PropZ1</th><th scope=col>VTDperhour</th><th scope=col>zonecrossed2transition</th><th scope=col>unevenness</th><th scope=col>severity</th><th scope=col>gap</th><th scope=col>weight</th></tr>\n",
       "\t<tr><th></th><th scope=col>&lt;chr&gt;</th><th scope=col>&lt;fct&gt;</th><th scope=col>&lt;chr&gt;</th><th scope=col>&lt;int&gt;</th><th scope=col>&lt;dbl&gt;</th><th scope=col>&lt;int&gt;</th><th scope=col>&lt;int&gt;</th><th scope=col>&lt;fct&gt;</th><th scope=col>&lt;int&gt;</th><th scope=col>&lt;int&gt;</th><th scope=col>...</th><th scope=col>&lt;dbl&gt;</th><th scope=col>&lt;dbl&gt;</th><th scope=col>&lt;dbl&gt;</th><th scope=col>&lt;dbl&gt;</th><th scope=col>&lt;dbl&gt;</th><th scope=col>&lt;dbl&gt;</th><th scope=col>&lt;dbl&gt;</th><th scope=col>&lt;dbl&gt;</th><th scope=col>&lt;dbl&gt;</th><th scope=col>&lt;dbl&gt;</th></tr>\n",
       "</thead>\n",
       "<tbody>\n",
       "\t<tr><th scope=row>1</th><td>created</td><td>EXP3_hen_93</td><td>pen4</td><td>1</td><td>0.00</td><td>148</td><td>0</td><td>Exp3</td><td>0</td><td>1</td><td>...</td><td>        NA</td><td>       NA</td><td>        NA</td><td>       NA</td><td>      NA</td><td>      NA</td><td>       NA</td><td>NA</td><td>NA</td><td>NA</td></tr>\n",
       "\t<tr><th scope=row>2</th><td>HA2B   </td><td>EXP3_hen_93</td><td>pen4</td><td>1</td><td>0.95</td><td>177</td><td>0</td><td>Exp3</td><td>0</td><td>1</td><td>...</td><td>0.07763253</td><td>0.1742291</td><td>0.06714536</td><td>0.2143261</td><td>2.270833</td><td>1.056667</td><td>0.9707686</td><td> 0</td><td> 0</td><td>NA</td></tr>\n",
       "\t<tr><th scope=row>3</th><td>HA3B   </td><td>EXP3_hen_93</td><td>pen4</td><td>1</td><td>1.64</td><td>198</td><td>0</td><td>Exp3</td><td>0</td><td>1</td><td>...</td><td>0.07617498</td><td>0.3239533</td><td>0.10082141</td><td>0.1317688</td><td>2.437500</td><td>1.040000</td><td>0.8468724</td><td>19</td><td> 1</td><td>NA</td></tr>\n",
       "\t<tr><th scope=row>4</th><td>HA4B   </td><td>EXP3_hen_93</td><td>pen4</td><td>1</td><td>2.53</td><td>225</td><td>0</td><td>Exp3</td><td>0</td><td>1</td><td>...</td><td>0.11966637</td><td>0.2696165</td><td>0.33903806</td><td>0.0745669</td><td>3.350000</td><td>1.004000</td><td>0.5514076</td><td>10</td><td> 0</td><td>NA</td></tr>\n",
       "\t<tr><th scope=row>5</th><td>HA5B   </td><td>EXP3_hen_93</td><td>pen4</td><td>1</td><td>3.48</td><td>254</td><td>0</td><td>Exp3</td><td>0</td><td>1</td><td>...</td><td>0.08249680</td><td>0.2756794</td><td>0.15738827</td><td>0.1579139</td><td>1.875000</td><td>1.018333</td><td>0.7717222</td><td> 9</td><td> 0</td><td>NA</td></tr>\n",
       "\t<tr><th scope=row>6</th><td>HA7B   </td><td>EXP3_hen_93</td><td>pen4</td><td>1</td><td>5.82</td><td>325</td><td>0</td><td>Exp3</td><td>0</td><td>1</td><td>...</td><td>0.07141513</td><td>0.1976381</td><td>0.21906863</td><td>0.2142265</td><td>2.979167</td><td>1.006667</td><td>0.7026734</td><td>18</td><td> 0</td><td>NA</td></tr>\n",
       "</tbody>\n",
       "</table>\n"
      ],
      "text/latex": [
       "A data.frame: 6 × 26\n",
       "\\begin{tabular}{r|lllllllllllllllllllll}\n",
       "  & HAID & HenID & PenID & id & MonthInstudy & DOAHA & IsOFH & ExperimentID & Is\\_relocated & Dataset1 & ... & PropZ4 & PropZ3 & PropZ2 & PropZ1 & VTDperhour & zonecrossed2transition & unevenness & severity & gap & weight\\\\\n",
       "  & <chr> & <fct> & <chr> & <int> & <dbl> & <int> & <int> & <fct> & <int> & <int> & ... & <dbl> & <dbl> & <dbl> & <dbl> & <dbl> & <dbl> & <dbl> & <dbl> & <dbl> & <dbl>\\\\\n",
       "\\hline\n",
       "\t1 & created & EXP3\\_hen\\_93 & pen4 & 1 & 0.00 & 148 & 0 & Exp3 & 0 & 1 & ... &         NA &        NA &         NA &        NA &       NA &       NA &        NA & NA & NA & NA\\\\\n",
       "\t2 & HA2B    & EXP3\\_hen\\_93 & pen4 & 1 & 0.95 & 177 & 0 & Exp3 & 0 & 1 & ... & 0.07763253 & 0.1742291 & 0.06714536 & 0.2143261 & 2.270833 & 1.056667 & 0.9707686 &  0 &  0 & NA\\\\\n",
       "\t3 & HA3B    & EXP3\\_hen\\_93 & pen4 & 1 & 1.64 & 198 & 0 & Exp3 & 0 & 1 & ... & 0.07617498 & 0.3239533 & 0.10082141 & 0.1317688 & 2.437500 & 1.040000 & 0.8468724 & 19 &  1 & NA\\\\\n",
       "\t4 & HA4B    & EXP3\\_hen\\_93 & pen4 & 1 & 2.53 & 225 & 0 & Exp3 & 0 & 1 & ... & 0.11966637 & 0.2696165 & 0.33903806 & 0.0745669 & 3.350000 & 1.004000 & 0.5514076 & 10 &  0 & NA\\\\\n",
       "\t5 & HA5B    & EXP3\\_hen\\_93 & pen4 & 1 & 3.48 & 254 & 0 & Exp3 & 0 & 1 & ... & 0.08249680 & 0.2756794 & 0.15738827 & 0.1579139 & 1.875000 & 1.018333 & 0.7717222 &  9 &  0 & NA\\\\\n",
       "\t6 & HA7B    & EXP3\\_hen\\_93 & pen4 & 1 & 5.82 & 325 & 0 & Exp3 & 0 & 1 & ... & 0.07141513 & 0.1976381 & 0.21906863 & 0.2142265 & 2.979167 & 1.006667 & 0.7026734 & 18 &  0 & NA\\\\\n",
       "\\end{tabular}\n"
      ],
      "text/markdown": [
       "\n",
       "A data.frame: 6 × 26\n",
       "\n",
       "| <!--/--> | HAID &lt;chr&gt; | HenID &lt;fct&gt; | PenID &lt;chr&gt; | id &lt;int&gt; | MonthInstudy &lt;dbl&gt; | DOAHA &lt;int&gt; | IsOFH &lt;int&gt; | ExperimentID &lt;fct&gt; | Is_relocated &lt;int&gt; | Dataset1 &lt;int&gt; | ... ... | PropZ4 &lt;dbl&gt; | PropZ3 &lt;dbl&gt; | PropZ2 &lt;dbl&gt; | PropZ1 &lt;dbl&gt; | VTDperhour &lt;dbl&gt; | zonecrossed2transition &lt;dbl&gt; | unevenness &lt;dbl&gt; | severity &lt;dbl&gt; | gap &lt;dbl&gt; | weight &lt;dbl&gt; |\n",
       "|---|---|---|---|---|---|---|---|---|---|---|---|---|---|---|---|---|---|---|---|---|---|\n",
       "| 1 | created | EXP3_hen_93 | pen4 | 1 | 0.00 | 148 | 0 | Exp3 | 0 | 1 | ... |         NA |        NA |         NA |        NA |       NA |       NA |        NA | NA | NA | NA |\n",
       "| 2 | HA2B    | EXP3_hen_93 | pen4 | 1 | 0.95 | 177 | 0 | Exp3 | 0 | 1 | ... | 0.07763253 | 0.1742291 | 0.06714536 | 0.2143261 | 2.270833 | 1.056667 | 0.9707686 |  0 |  0 | NA |\n",
       "| 3 | HA3B    | EXP3_hen_93 | pen4 | 1 | 1.64 | 198 | 0 | Exp3 | 0 | 1 | ... | 0.07617498 | 0.3239533 | 0.10082141 | 0.1317688 | 2.437500 | 1.040000 | 0.8468724 | 19 |  1 | NA |\n",
       "| 4 | HA4B    | EXP3_hen_93 | pen4 | 1 | 2.53 | 225 | 0 | Exp3 | 0 | 1 | ... | 0.11966637 | 0.2696165 | 0.33903806 | 0.0745669 | 3.350000 | 1.004000 | 0.5514076 | 10 |  0 | NA |\n",
       "| 5 | HA5B    | EXP3_hen_93 | pen4 | 1 | 3.48 | 254 | 0 | Exp3 | 0 | 1 | ... | 0.08249680 | 0.2756794 | 0.15738827 | 0.1579139 | 1.875000 | 1.018333 | 0.7717222 |  9 |  0 | NA |\n",
       "| 6 | HA7B    | EXP3_hen_93 | pen4 | 1 | 5.82 | 325 | 0 | Exp3 | 0 | 1 | ... | 0.07141513 | 0.1976381 | 0.21906863 | 0.2142265 | 2.979167 | 1.006667 | 0.7026734 | 18 |  0 | NA |\n",
       "\n"
      ],
      "text/plain": [
       "  HAID    HenID       PenID id MonthInstudy DOAHA IsOFH ExperimentID\n",
       "1 created EXP3_hen_93 pen4  1  0.00         148   0     Exp3        \n",
       "2 HA2B    EXP3_hen_93 pen4  1  0.95         177   0     Exp3        \n",
       "3 HA3B    EXP3_hen_93 pen4  1  1.64         198   0     Exp3        \n",
       "4 HA4B    EXP3_hen_93 pen4  1  2.53         225   0     Exp3        \n",
       "5 HA5B    EXP3_hen_93 pen4  1  3.48         254   0     Exp3        \n",
       "6 HA7B    EXP3_hen_93 pen4  1  5.82         325   0     Exp3        \n",
       "  Is_relocated Dataset1 ... PropZ4     PropZ3    PropZ2     PropZ1   \n",
       "1 0            1        ...         NA        NA         NA        NA\n",
       "2 0            1        ... 0.07763253 0.1742291 0.06714536 0.2143261\n",
       "3 0            1        ... 0.07617498 0.3239533 0.10082141 0.1317688\n",
       "4 0            1        ... 0.11966637 0.2696165 0.33903806 0.0745669\n",
       "5 0            1        ... 0.08249680 0.2756794 0.15738827 0.1579139\n",
       "6 0            1        ... 0.07141513 0.1976381 0.21906863 0.2142265\n",
       "  VTDperhour zonecrossed2transition unevenness severity gap weight\n",
       "1       NA         NA                      NA  NA       NA  NA    \n",
       "2 2.270833   1.056667               0.9707686   0        0  NA    \n",
       "3 2.437500   1.040000               0.8468724  19        1  NA    \n",
       "4 3.350000   1.004000               0.5514076  10        0  NA    \n",
       "5 1.875000   1.018333               0.7717222   9        0  NA    \n",
       "6 2.979167   1.006667               0.7026734  18        0  NA    "
      ]
     },
     "metadata": {},
     "output_type": "display_data"
    }
   ],
   "source": [
    "path_save = file.path('LongformatModels')\n",
    "dir.create(path_save)\n",
    "df = read.csv('df_longformatALL.csv', header = TRUE, sep = \",\")\n",
    "df$HenID = as.factor(df$HenID)   \n",
    "#df$id = as.factor(df$id)    #otherwise original and new ID differ\n",
    "df$ExperimentID = as.factor(df$ExperimentID)   \n",
    "#tme is for now week of age\n",
    "summary(df)\n",
    "print(dim(df))\n",
    "head(df)\n",
    "#describe(df)"
   ]
  },
  {
   "cell_type": "code",
   "execution_count": 5,
   "id": "dc6bb6ca",
   "metadata": {},
   "outputs": [
    {
     "data": {
      "text/html": [
       "<table class=\"dataframe\">\n",
       "<caption>A data.frame: 6 × 26</caption>\n",
       "<thead>\n",
       "\t<tr><th></th><th scope=col>HAID</th><th scope=col>HenID</th><th scope=col>PenID</th><th scope=col>id</th><th scope=col>MonthInstudy</th><th scope=col>DOAHA</th><th scope=col>IsOFH</th><th scope=col>ExperimentID</th><th scope=col>Is_relocated</th><th scope=col>Dataset1</th><th scope=col>...</th><th scope=col>PropZ4</th><th scope=col>PropZ3</th><th scope=col>PropZ2</th><th scope=col>PropZ1</th><th scope=col>VTDperhour</th><th scope=col>zonecrossed2transition</th><th scope=col>unevenness</th><th scope=col>severity</th><th scope=col>gap</th><th scope=col>weight</th></tr>\n",
       "\t<tr><th></th><th scope=col>&lt;chr&gt;</th><th scope=col>&lt;fct&gt;</th><th scope=col>&lt;chr&gt;</th><th scope=col>&lt;int&gt;</th><th scope=col>&lt;dbl&gt;</th><th scope=col>&lt;int&gt;</th><th scope=col>&lt;int&gt;</th><th scope=col>&lt;fct&gt;</th><th scope=col>&lt;int&gt;</th><th scope=col>&lt;int&gt;</th><th scope=col>...</th><th scope=col>&lt;dbl&gt;</th><th scope=col>&lt;dbl&gt;</th><th scope=col>&lt;dbl&gt;</th><th scope=col>&lt;dbl&gt;</th><th scope=col>&lt;dbl&gt;</th><th scope=col>&lt;dbl&gt;</th><th scope=col>&lt;dbl&gt;</th><th scope=col>&lt;dbl&gt;</th><th scope=col>&lt;dbl&gt;</th><th scope=col>&lt;dbl&gt;</th></tr>\n",
       "</thead>\n",
       "<tbody>\n",
       "\t<tr><th scope=row>2241</th><td>HA4    </td><td>EXP2_hen_46</td><td>pen12</td><td>375</td><td>7.99</td><td>391</td><td>0</td><td>Exp2</td><td>0</td><td>0</td><td>...</td><td>0.05543934</td><td>0.1900794</td><td>0.3850142</td><td>0.13136905</td><td>2.020408</td><td>NA</td><td>0.4121076</td><td>24</td><td> 0</td><td>1779.9</td></tr>\n",
       "\t<tr><th scope=row>2242</th><td>created</td><td>EXP2_hen_1 </td><td>pen9 </td><td>376</td><td>0.00</td><td>148</td><td>0</td><td>Exp2</td><td>1</td><td>0</td><td>...</td><td>        NA</td><td>       NA</td><td>       NA</td><td>        NA</td><td>      NA</td><td>NA</td><td>       NA</td><td>NA</td><td>NA</td><td>    NA</td></tr>\n",
       "\t<tr><th scope=row>2243</th><td>HA1    </td><td>EXP2_hen_1 </td><td>pen10</td><td>376</td><td>0.85</td><td>174</td><td>0</td><td>Exp2</td><td>1</td><td>0</td><td>...</td><td>0.06033247</td><td>0.2293514</td><td>0.5673802</td><td>0.00000000</td><td>3.680272</td><td>NA</td><td>0.4956481</td><td> 0</td><td> 0</td><td>1691.7</td></tr>\n",
       "\t<tr><th scope=row>2244</th><td>HA2    </td><td>EXP2_hen_1 </td><td>pen11</td><td>376</td><td>3.16</td><td>244</td><td>0</td><td>Exp2</td><td>1</td><td>0</td><td>...</td><td>0.03694114</td><td>0.1873710</td><td>0.6391634</td><td>0.00000000</td><td>5.142857</td><td>NA</td><td>0.4612279</td><td> 0</td><td> 0</td><td>1722.2</td></tr>\n",
       "\t<tr><th scope=row>2245</th><td>HA3    </td><td>EXP2_hen_1 </td><td>pen8 </td><td>376</td><td>5.23</td><td>307</td><td>0</td><td>Exp2</td><td>1</td><td>0</td><td>...</td><td>0.06248583</td><td>0.2006151</td><td>0.5890306</td><td>0.01789116</td><td>5.112245</td><td>NA</td><td>0.3923037</td><td> 1</td><td> 0</td><td>1655.2</td></tr>\n",
       "\t<tr><th scope=row>2246</th><td>HA4    </td><td>EXP2_hen_1 </td><td>pen9 </td><td>376</td><td>7.99</td><td>391</td><td>0</td><td>Exp2</td><td>1</td><td>0</td><td>...</td><td>0.06154762</td><td>0.1794926</td><td>0.5578231</td><td>0.08333617</td><td>3.336735</td><td>NA</td><td>0.2613006</td><td>18</td><td> 0</td><td>1663.7</td></tr>\n",
       "</tbody>\n",
       "</table>\n"
      ],
      "text/latex": [
       "A data.frame: 6 × 26\n",
       "\\begin{tabular}{r|lllllllllllllllllllll}\n",
       "  & HAID & HenID & PenID & id & MonthInstudy & DOAHA & IsOFH & ExperimentID & Is\\_relocated & Dataset1 & ... & PropZ4 & PropZ3 & PropZ2 & PropZ1 & VTDperhour & zonecrossed2transition & unevenness & severity & gap & weight\\\\\n",
       "  & <chr> & <fct> & <chr> & <int> & <dbl> & <int> & <int> & <fct> & <int> & <int> & ... & <dbl> & <dbl> & <dbl> & <dbl> & <dbl> & <dbl> & <dbl> & <dbl> & <dbl> & <dbl>\\\\\n",
       "\\hline\n",
       "\t2241 & HA4     & EXP2\\_hen\\_46 & pen12 & 375 & 7.99 & 391 & 0 & Exp2 & 0 & 0 & ... & 0.05543934 & 0.1900794 & 0.3850142 & 0.13136905 & 2.020408 & NA & 0.4121076 & 24 &  0 & 1779.9\\\\\n",
       "\t2242 & created & EXP2\\_hen\\_1  & pen9  & 376 & 0.00 & 148 & 0 & Exp2 & 1 & 0 & ... &         NA &        NA &        NA &         NA &       NA & NA &        NA & NA & NA &     NA\\\\\n",
       "\t2243 & HA1     & EXP2\\_hen\\_1  & pen10 & 376 & 0.85 & 174 & 0 & Exp2 & 1 & 0 & ... & 0.06033247 & 0.2293514 & 0.5673802 & 0.00000000 & 3.680272 & NA & 0.4956481 &  0 &  0 & 1691.7\\\\\n",
       "\t2244 & HA2     & EXP2\\_hen\\_1  & pen11 & 376 & 3.16 & 244 & 0 & Exp2 & 1 & 0 & ... & 0.03694114 & 0.1873710 & 0.6391634 & 0.00000000 & 5.142857 & NA & 0.4612279 &  0 &  0 & 1722.2\\\\\n",
       "\t2245 & HA3     & EXP2\\_hen\\_1  & pen8  & 376 & 5.23 & 307 & 0 & Exp2 & 1 & 0 & ... & 0.06248583 & 0.2006151 & 0.5890306 & 0.01789116 & 5.112245 & NA & 0.3923037 &  1 &  0 & 1655.2\\\\\n",
       "\t2246 & HA4     & EXP2\\_hen\\_1  & pen9  & 376 & 7.99 & 391 & 0 & Exp2 & 1 & 0 & ... & 0.06154762 & 0.1794926 & 0.5578231 & 0.08333617 & 3.336735 & NA & 0.2613006 & 18 &  0 & 1663.7\\\\\n",
       "\\end{tabular}\n"
      ],
      "text/markdown": [
       "\n",
       "A data.frame: 6 × 26\n",
       "\n",
       "| <!--/--> | HAID &lt;chr&gt; | HenID &lt;fct&gt; | PenID &lt;chr&gt; | id &lt;int&gt; | MonthInstudy &lt;dbl&gt; | DOAHA &lt;int&gt; | IsOFH &lt;int&gt; | ExperimentID &lt;fct&gt; | Is_relocated &lt;int&gt; | Dataset1 &lt;int&gt; | ... ... | PropZ4 &lt;dbl&gt; | PropZ3 &lt;dbl&gt; | PropZ2 &lt;dbl&gt; | PropZ1 &lt;dbl&gt; | VTDperhour &lt;dbl&gt; | zonecrossed2transition &lt;dbl&gt; | unevenness &lt;dbl&gt; | severity &lt;dbl&gt; | gap &lt;dbl&gt; | weight &lt;dbl&gt; |\n",
       "|---|---|---|---|---|---|---|---|---|---|---|---|---|---|---|---|---|---|---|---|---|---|\n",
       "| 2241 | HA4     | EXP2_hen_46 | pen12 | 375 | 7.99 | 391 | 0 | Exp2 | 0 | 0 | ... | 0.05543934 | 0.1900794 | 0.3850142 | 0.13136905 | 2.020408 | NA | 0.4121076 | 24 |  0 | 1779.9 |\n",
       "| 2242 | created | EXP2_hen_1  | pen9  | 376 | 0.00 | 148 | 0 | Exp2 | 1 | 0 | ... |         NA |        NA |        NA |         NA |       NA | NA |        NA | NA | NA |     NA |\n",
       "| 2243 | HA1     | EXP2_hen_1  | pen10 | 376 | 0.85 | 174 | 0 | Exp2 | 1 | 0 | ... | 0.06033247 | 0.2293514 | 0.5673802 | 0.00000000 | 3.680272 | NA | 0.4956481 |  0 |  0 | 1691.7 |\n",
       "| 2244 | HA2     | EXP2_hen_1  | pen11 | 376 | 3.16 | 244 | 0 | Exp2 | 1 | 0 | ... | 0.03694114 | 0.1873710 | 0.6391634 | 0.00000000 | 5.142857 | NA | 0.4612279 |  0 |  0 | 1722.2 |\n",
       "| 2245 | HA3     | EXP2_hen_1  | pen8  | 376 | 5.23 | 307 | 0 | Exp2 | 1 | 0 | ... | 0.06248583 | 0.2006151 | 0.5890306 | 0.01789116 | 5.112245 | NA | 0.3923037 |  1 |  0 | 1655.2 |\n",
       "| 2246 | HA4     | EXP2_hen_1  | pen9  | 376 | 7.99 | 391 | 0 | Exp2 | 1 | 0 | ... | 0.06154762 | 0.1794926 | 0.5578231 | 0.08333617 | 3.336735 | NA | 0.2613006 | 18 |  0 | 1663.7 |\n",
       "\n"
      ],
      "text/plain": [
       "     HAID    HenID       PenID id  MonthInstudy DOAHA IsOFH ExperimentID\n",
       "2241 HA4     EXP2_hen_46 pen12 375 7.99         391   0     Exp2        \n",
       "2242 created EXP2_hen_1  pen9  376 0.00         148   0     Exp2        \n",
       "2243 HA1     EXP2_hen_1  pen10 376 0.85         174   0     Exp2        \n",
       "2244 HA2     EXP2_hen_1  pen11 376 3.16         244   0     Exp2        \n",
       "2245 HA3     EXP2_hen_1  pen8  376 5.23         307   0     Exp2        \n",
       "2246 HA4     EXP2_hen_1  pen9  376 7.99         391   0     Exp2        \n",
       "     Is_relocated Dataset1 ... PropZ4     PropZ3    PropZ2    PropZ1    \n",
       "2241 0            0        ... 0.05543934 0.1900794 0.3850142 0.13136905\n",
       "2242 1            0        ...         NA        NA        NA         NA\n",
       "2243 1            0        ... 0.06033247 0.2293514 0.5673802 0.00000000\n",
       "2244 1            0        ... 0.03694114 0.1873710 0.6391634 0.00000000\n",
       "2245 1            0        ... 0.06248583 0.2006151 0.5890306 0.01789116\n",
       "2246 1            0        ... 0.06154762 0.1794926 0.5578231 0.08333617\n",
       "     VTDperhour zonecrossed2transition unevenness severity gap weight\n",
       "2241 2.020408   NA                     0.4121076  24        0  1779.9\n",
       "2242       NA   NA                            NA  NA       NA      NA\n",
       "2243 3.680272   NA                     0.4956481   0        0  1691.7\n",
       "2244 5.142857   NA                     0.4612279   0        0  1722.2\n",
       "2245 5.112245   NA                     0.3923037   1        0  1655.2\n",
       "2246 3.336735   NA                     0.2613006  18        0  1663.7"
      ]
     },
     "metadata": {},
     "output_type": "display_data"
    }
   ],
   "source": [
    "tail(df)"
   ]
  },
  {
   "cell_type": "code",
   "execution_count": 6,
   "id": "e12a3828",
   "metadata": {},
   "outputs": [
    {
     "data": {
      "text/html": [
       "<style>\n",
       ".list-inline {list-style: none; margin:0; padding: 0}\n",
       ".list-inline>li {display: inline-block}\n",
       ".list-inline>li:not(:last-child)::after {content: \"\\00b7\"; padding: 0 .5ex}\n",
       "</style>\n",
       "<ol class=list-inline><li>'created'</li><li>'HA2B'</li><li>'HA3B'</li><li>'HA4B'</li><li>'HA5B'</li><li>'HA7B'</li><li>'HA8B'</li><li>'HA9B'</li><li>'HA1B'</li><li>'HA6B'</li><li>'HA10B'</li><li>'HA11B'</li><li>'HA1A'</li><li>'HA2A'</li><li>'HA3A'</li><li>'HA5A'</li><li>'HA6A'</li><li>'HA7A'</li><li>'HA8A'</li><li>'HA9A'</li><li>'HA11A'</li><li>'HA4A'</li><li>'HA10A'</li><li>'HA1'</li><li>'HA2'</li><li>'HA3'</li><li>'HA4'</li><li>'HA5'</li></ol>\n"
      ],
      "text/latex": [
       "\\begin{enumerate*}\n",
       "\\item 'created'\n",
       "\\item 'HA2B'\n",
       "\\item 'HA3B'\n",
       "\\item 'HA4B'\n",
       "\\item 'HA5B'\n",
       "\\item 'HA7B'\n",
       "\\item 'HA8B'\n",
       "\\item 'HA9B'\n",
       "\\item 'HA1B'\n",
       "\\item 'HA6B'\n",
       "\\item 'HA10B'\n",
       "\\item 'HA11B'\n",
       "\\item 'HA1A'\n",
       "\\item 'HA2A'\n",
       "\\item 'HA3A'\n",
       "\\item 'HA5A'\n",
       "\\item 'HA6A'\n",
       "\\item 'HA7A'\n",
       "\\item 'HA8A'\n",
       "\\item 'HA9A'\n",
       "\\item 'HA11A'\n",
       "\\item 'HA4A'\n",
       "\\item 'HA10A'\n",
       "\\item 'HA1'\n",
       "\\item 'HA2'\n",
       "\\item 'HA3'\n",
       "\\item 'HA4'\n",
       "\\item 'HA5'\n",
       "\\end{enumerate*}\n"
      ],
      "text/markdown": [
       "1. 'created'\n",
       "2. 'HA2B'\n",
       "3. 'HA3B'\n",
       "4. 'HA4B'\n",
       "5. 'HA5B'\n",
       "6. 'HA7B'\n",
       "7. 'HA8B'\n",
       "8. 'HA9B'\n",
       "9. 'HA1B'\n",
       "10. 'HA6B'\n",
       "11. 'HA10B'\n",
       "12. 'HA11B'\n",
       "13. 'HA1A'\n",
       "14. 'HA2A'\n",
       "15. 'HA3A'\n",
       "16. 'HA5A'\n",
       "17. 'HA6A'\n",
       "18. 'HA7A'\n",
       "19. 'HA8A'\n",
       "20. 'HA9A'\n",
       "21. 'HA11A'\n",
       "22. 'HA4A'\n",
       "23. 'HA10A'\n",
       "24. 'HA1'\n",
       "25. 'HA2'\n",
       "26. 'HA3'\n",
       "27. 'HA4'\n",
       "28. 'HA5'\n",
       "\n",
       "\n"
      ],
      "text/plain": [
       " [1] \"created\" \"HA2B\"    \"HA3B\"    \"HA4B\"    \"HA5B\"    \"HA7B\"    \"HA8B\"   \n",
       " [8] \"HA9B\"    \"HA1B\"    \"HA6B\"    \"HA10B\"   \"HA11B\"   \"HA1A\"    \"HA2A\"   \n",
       "[15] \"HA3A\"    \"HA5A\"    \"HA6A\"    \"HA7A\"    \"HA8A\"    \"HA9A\"    \"HA11A\"  \n",
       "[22] \"HA4A\"    \"HA10A\"   \"HA1\"     \"HA2\"     \"HA3\"     \"HA4\"     \"HA5\"    "
      ]
     },
     "metadata": {},
     "output_type": "display_data"
    }
   ],
   "source": [
    "unique(df$HAID)"
   ]
  },
  {
   "cell_type": "code",
   "execution_count": 7,
   "id": "0baec775",
   "metadata": {},
   "outputs": [
    {
     "data": {
      "text/html": [
       "<style>\n",
       ".list-inline {list-style: none; margin:0; padding: 0}\n",
       ".list-inline>li {display: inline-block}\n",
       ".list-inline>li:not(:last-child)::after {content: \"\\00b7\"; padding: 0 .5ex}\n",
       "</style>\n",
       "<ol class=list-inline><li>'HAID'</li><li>'HenID'</li><li>'PenID'</li><li>'id'</li><li>'MonthInstudy'</li><li>'DOAHA'</li><li>'IsOFH'</li><li>'ExperimentID'</li><li>'Is_relocated'</li><li>'Dataset1'</li><li>'Dataset2'</li><li>'Dataset3'</li><li>'early_death'</li><li>'time2event'</li><li>'meanDOAmvt'</li><li>'PropZ5'</li><li>'PropZ4'</li><li>'PropZ3'</li><li>'PropZ2'</li><li>'PropZ1'</li><li>'VTDperhour'</li><li>'zonecrossed2transition'</li><li>'unevenness'</li><li>'severity'</li><li>'gap'</li><li>'weight'</li></ol>\n"
      ],
      "text/latex": [
       "\\begin{enumerate*}\n",
       "\\item 'HAID'\n",
       "\\item 'HenID'\n",
       "\\item 'PenID'\n",
       "\\item 'id'\n",
       "\\item 'MonthInstudy'\n",
       "\\item 'DOAHA'\n",
       "\\item 'IsOFH'\n",
       "\\item 'ExperimentID'\n",
       "\\item 'Is\\_relocated'\n",
       "\\item 'Dataset1'\n",
       "\\item 'Dataset2'\n",
       "\\item 'Dataset3'\n",
       "\\item 'early\\_death'\n",
       "\\item 'time2event'\n",
       "\\item 'meanDOAmvt'\n",
       "\\item 'PropZ5'\n",
       "\\item 'PropZ4'\n",
       "\\item 'PropZ3'\n",
       "\\item 'PropZ2'\n",
       "\\item 'PropZ1'\n",
       "\\item 'VTDperhour'\n",
       "\\item 'zonecrossed2transition'\n",
       "\\item 'unevenness'\n",
       "\\item 'severity'\n",
       "\\item 'gap'\n",
       "\\item 'weight'\n",
       "\\end{enumerate*}\n"
      ],
      "text/markdown": [
       "1. 'HAID'\n",
       "2. 'HenID'\n",
       "3. 'PenID'\n",
       "4. 'id'\n",
       "5. 'MonthInstudy'\n",
       "6. 'DOAHA'\n",
       "7. 'IsOFH'\n",
       "8. 'ExperimentID'\n",
       "9. 'Is_relocated'\n",
       "10. 'Dataset1'\n",
       "11. 'Dataset2'\n",
       "12. 'Dataset3'\n",
       "13. 'early_death'\n",
       "14. 'time2event'\n",
       "15. 'meanDOAmvt'\n",
       "16. 'PropZ5'\n",
       "17. 'PropZ4'\n",
       "18. 'PropZ3'\n",
       "19. 'PropZ2'\n",
       "20. 'PropZ1'\n",
       "21. 'VTDperhour'\n",
       "22. 'zonecrossed2transition'\n",
       "23. 'unevenness'\n",
       "24. 'severity'\n",
       "25. 'gap'\n",
       "26. 'weight'\n",
       "\n",
       "\n"
      ],
      "text/plain": [
       " [1] \"HAID\"                   \"HenID\"                  \"PenID\"                 \n",
       " [4] \"id\"                     \"MonthInstudy\"           \"DOAHA\"                 \n",
       " [7] \"IsOFH\"                  \"ExperimentID\"           \"Is_relocated\"          \n",
       "[10] \"Dataset1\"               \"Dataset2\"               \"Dataset3\"              \n",
       "[13] \"early_death\"            \"time2event\"             \"meanDOAmvt\"            \n",
       "[16] \"PropZ5\"                 \"PropZ4\"                 \"PropZ3\"                \n",
       "[19] \"PropZ2\"                 \"PropZ1\"                 \"VTDperhour\"            \n",
       "[22] \"zonecrossed2transition\" \"unevenness\"             \"severity\"              \n",
       "[25] \"gap\"                    \"weight\"                "
      ]
     },
     "metadata": {},
     "output_type": "display_data"
    }
   ],
   "source": [
    "colnames(df)"
   ]
  },
  {
   "cell_type": "code",
   "execution_count": 8,
   "id": "883d074f",
   "metadata": {},
   "outputs": [],
   "source": [
    "#TODO on final model, only relevant when optimize=FALSE, \n",
    "iter_ = 2000 \n",
    "chains_ = 2 \n",
    "bool_optimize = TRUE #documentation FALSE: \"which also mean intoverpop will be set to FALSE automatically and therefore we integrates over \n",
    "#full sampling rather than population distribution of parameters\"\n",
    "#number of cpu cores to use to speed up\n",
    "cores_ = 5 \n",
    "folds_ = 3"
   ]
  },
  {
   "cell_type": "markdown",
   "id": "4c5b907a",
   "metadata": {},
   "source": [
    "# Hierarchical Bayesian continuous time dynamic model - MVT & KBF"
   ]
  },
  {
   "cell_type": "code",
   "execution_count": 9,
   "id": "71e57404",
   "metadata": {},
   "outputs": [],
   "source": [
    "#initialise what we want\n",
    "variable = 'zonecrossed2transition' #VTDperhour PropZ5 zonecrossed2transition unevenness"
   ]
  },
  {
   "cell_type": "code",
   "execution_count": 10,
   "id": "94bafd34",
   "metadata": {},
   "outputs": [],
   "source": [
    "#head(df[,c('ExperimentID','IsOFH', 'Is_relocated','Dataset1','Dataset2','Dataset3')],2)"
   ]
  },
  {
   "cell_type": "code",
   "execution_count": 11,
   "id": "0b45d33f",
   "metadata": {
    "scrolled": true
   },
   "outputs": [
    {
     "name": "stdout",
     "output_type": "stream",
     "text": [
      "[1] \"zonecrossed2transitionds1_KBF_trend_rs0_\"\n"
     ]
    },
    {
     "data": {
      "text/html": [
       "<style>\n",
       ".list-inline {list-style: none; margin:0; padding: 0}\n",
       ".list-inline>li {display: inline-block}\n",
       ".list-inline>li:not(:last-child)::after {content: \"\\00b7\"; padding: 0 .5ex}\n",
       "</style>\n",
       "<ol class=list-inline><li>593</li><li>3</li></ol>\n"
      ],
      "text/latex": [
       "\\begin{enumerate*}\n",
       "\\item 593\n",
       "\\item 3\n",
       "\\end{enumerate*}\n"
      ],
      "text/markdown": [
       "1. 593\n",
       "2. 3\n",
       "\n",
       "\n"
      ],
      "text/plain": [
       "[1] 593   3"
      ]
     },
     "metadata": {},
     "output_type": "display_data"
    },
    {
     "data": {
      "text/html": [
       "<table class=\"dataframe\">\n",
       "<caption>A matrix: 3 × 3 of type dbl</caption>\n",
       "<thead>\n",
       "\t<tr><th></th><th scope=col>MonthInstudy</th><th scope=col>severity</th><th scope=col>zonecrossed2transition</th></tr>\n",
       "</thead>\n",
       "<tbody>\n",
       "\t<tr><th scope=row>MonthInstudy</th><td>1.00</td><td>0.70</td><td>0.07</td></tr>\n",
       "\t<tr><th scope=row>severity</th><td>0.70</td><td>1.00</td><td>0.26</td></tr>\n",
       "\t<tr><th scope=row>zonecrossed2transition</th><td>0.07</td><td>0.26</td><td>1.00</td></tr>\n",
       "</tbody>\n",
       "</table>\n"
      ],
      "text/latex": [
       "A matrix: 3 × 3 of type dbl\n",
       "\\begin{tabular}{r|lll}\n",
       "  & MonthInstudy & severity & zonecrossed2transition\\\\\n",
       "\\hline\n",
       "\tMonthInstudy & 1.00 & 0.70 & 0.07\\\\\n",
       "\tseverity & 0.70 & 1.00 & 0.26\\\\\n",
       "\tzonecrossed2transition & 0.07 & 0.26 & 1.00\\\\\n",
       "\\end{tabular}\n"
      ],
      "text/markdown": [
       "\n",
       "A matrix: 3 × 3 of type dbl\n",
       "\n",
       "| <!--/--> | MonthInstudy | severity | zonecrossed2transition |\n",
       "|---|---|---|---|\n",
       "| MonthInstudy | 1.00 | 0.70 | 0.07 |\n",
       "| severity | 0.70 | 1.00 | 0.26 |\n",
       "| zonecrossed2transition | 0.07 | 0.26 | 1.00 |\n",
       "\n"
      ],
      "text/plain": [
       "                       MonthInstudy severity zonecrossed2transition\n",
       "MonthInstudy           1.00         0.70     0.07                  \n",
       "severity               0.70         1.00     0.26                  \n",
       "zonecrossed2transition 0.07         0.26     1.00                  "
      ]
     },
     "metadata": {},
     "output_type": "display_data"
    },
    {
     "data": {
      "text/html": [
       "<table class=\"dataframe\">\n",
       "<caption>A matrix: 3 × 3 of type dbl</caption>\n",
       "<thead>\n",
       "\t<tr><th></th><th scope=col>MonthInstudy</th><th scope=col>severity</th><th scope=col>zonecrossed2transition</th></tr>\n",
       "</thead>\n",
       "<tbody>\n",
       "\t<tr><th scope=row>MonthInstudy</th><td>1.00</td><td>0.72</td><td>0.08</td></tr>\n",
       "\t<tr><th scope=row>severity</th><td>0.72</td><td>1.00</td><td>0.20</td></tr>\n",
       "\t<tr><th scope=row>zonecrossed2transition</th><td>0.08</td><td>0.20</td><td>1.00</td></tr>\n",
       "</tbody>\n",
       "</table>\n"
      ],
      "text/latex": [
       "A matrix: 3 × 3 of type dbl\n",
       "\\begin{tabular}{r|lll}\n",
       "  & MonthInstudy & severity & zonecrossed2transition\\\\\n",
       "\\hline\n",
       "\tMonthInstudy & 1.00 & 0.72 & 0.08\\\\\n",
       "\tseverity & 0.72 & 1.00 & 0.20\\\\\n",
       "\tzonecrossed2transition & 0.08 & 0.20 & 1.00\\\\\n",
       "\\end{tabular}\n"
      ],
      "text/markdown": [
       "\n",
       "A matrix: 3 × 3 of type dbl\n",
       "\n",
       "| <!--/--> | MonthInstudy | severity | zonecrossed2transition |\n",
       "|---|---|---|---|\n",
       "| MonthInstudy | 1.00 | 0.72 | 0.08 |\n",
       "| severity | 0.72 | 1.00 | 0.20 |\n",
       "| zonecrossed2transition | 0.08 | 0.20 | 1.00 |\n",
       "\n"
      ],
      "text/plain": [
       "                       MonthInstudy severity zonecrossed2transition\n",
       "MonthInstudy           1.00         0.72     0.08                  \n",
       "severity               0.72         1.00     0.20                  \n",
       "zonecrossed2transition 0.08         0.20     1.00                  "
      ]
     },
     "metadata": {},
     "output_type": "display_data"
    },
    {
     "data": {
      "text/html": [
       "<style>\n",
       ".list-inline {list-style: none; margin:0; padding: 0}\n",
       ".list-inline>li {display: inline-block}\n",
       ".list-inline>li:not(:last-child)::after {content: \"\\00b7\"; padding: 0 .5ex}\n",
       "</style>\n",
       "<ol class=list-inline><li>634</li><li>4</li></ol>\n"
      ],
      "text/latex": [
       "\\begin{enumerate*}\n",
       "\\item 634\n",
       "\\item 4\n",
       "\\end{enumerate*}\n"
      ],
      "text/markdown": [
       "1. 634\n",
       "2. 4\n",
       "\n",
       "\n"
      ],
      "text/plain": [
       "[1] 634   4"
      ]
     },
     "metadata": {},
     "output_type": "display_data"
    },
    {
     "data": {
      "text/html": [
       "<table class=\"dataframe\">\n",
       "<caption>A data.frame: 2 × 4</caption>\n",
       "<thead>\n",
       "\t<tr><th></th><th scope=col>id</th><th scope=col>MonthInstudy</th><th scope=col>severity</th><th scope=col>zonecrossed2transition</th></tr>\n",
       "\t<tr><th></th><th scope=col>&lt;int&gt;</th><th scope=col>&lt;dbl&gt;</th><th scope=col>&lt;dbl&gt;</th><th scope=col>&lt;dbl&gt;</th></tr>\n",
       "</thead>\n",
       "<tbody>\n",
       "\t<tr><th scope=row>1</th><td>1</td><td>0.00</td><td>       NA</td><td>       NA</td></tr>\n",
       "\t<tr><th scope=row>2</th><td>1</td><td>0.95</td><td>-1.222467</td><td>0.2236674</td></tr>\n",
       "</tbody>\n",
       "</table>\n"
      ],
      "text/latex": [
       "A data.frame: 2 × 4\n",
       "\\begin{tabular}{r|llll}\n",
       "  & id & MonthInstudy & severity & zonecrossed2transition\\\\\n",
       "  & <int> & <dbl> & <dbl> & <dbl>\\\\\n",
       "\\hline\n",
       "\t1 & 1 & 0.00 &        NA &        NA\\\\\n",
       "\t2 & 1 & 0.95 & -1.222467 & 0.2236674\\\\\n",
       "\\end{tabular}\n"
      ],
      "text/markdown": [
       "\n",
       "A data.frame: 2 × 4\n",
       "\n",
       "| <!--/--> | id &lt;int&gt; | MonthInstudy &lt;dbl&gt; | severity &lt;dbl&gt; | zonecrossed2transition &lt;dbl&gt; |\n",
       "|---|---|---|---|---|\n",
       "| 1 | 1 | 0.00 |        NA |        NA |\n",
       "| 2 | 1 | 0.95 | -1.222467 | 0.2236674 |\n",
       "\n"
      ],
      "text/plain": [
       "  id MonthInstudy severity  zonecrossed2transition\n",
       "1 1  0.00                NA        NA             \n",
       "2 1  0.95         -1.222467 0.2236674             "
      ]
     },
     "metadata": {},
     "output_type": "display_data"
    },
    {
     "data": {
      "text/plain": [
       "       id         MonthInstudy      severity       zonecrossed2transition\n",
       " Min.   : 1.00   Min.   :0.000   Min.   :-1.2225   Min.   :-0.57596      \n",
       " 1st Qu.:15.25   1st Qu.:1.380   1st Qu.:-1.2225   1st Qu.:-0.48189      \n",
       " Median :32.00   Median :3.480   Median : 0.1412   Median :-0.34078      \n",
       " Mean   :31.25   Mean   :4.003   Mean   : 0.0000   Mean   : 0.00000      \n",
       " 3rd Qu.:46.75   3rd Qu.:6.480   3rd Qu.: 0.8382   3rd Qu.:-0.03504      \n",
       " Max.   :60.00   Max.   :9.500   Max.   : 1.8079   Max.   : 6.97347      \n",
       "                                 NA's   :41        NA's   :41            "
      ]
     },
     "metadata": {},
     "output_type": "display_data"
    },
    {
     "name": "stdout",
     "output_type": "stream",
     "text": [
      "'data.frame':\t634 obs. of  4 variables:\n",
      " $ id                    : int  1 1 1 1 1 1 1 1 2 2 ...\n",
      " $ MonthInstudy          : num  0 0.95 1.64 2.53 3.48 5.82 6.48 7.4 0 0.26 ...\n",
      " $ severity              : num  NA -1.222 -0.647 -0.919 -0.95 ...\n",
      " $ zonecrossed2transition: num  NA 0.2237 -0.0115 -0.5195 -0.3173 ...\n"
     ]
    }
   ],
   "source": [
    "############ \n",
    "name = paste0(variable, 'ds1_KBF_trend_rs0_')\n",
    "print(name)\n",
    "data_mvtha = subset(df,df$Dataset1==1)\n",
    "#data_mvtha = data_mvtha %>% select (id, MonthInstudy, severity, VTDperhour)\n",
    "data_mvtha = data_mvtha[,c('id', 'MonthInstudy', 'severity', variable)]\n",
    "#data_mvtha = plyr::rename(data_mvtha, c('MonthInstudy'='time',\"severity\"=\"Y1\", \"VTDperhour\"=\"Y2\"))\n",
    "#data_mvtha$Y1 = sqrt(data_mvtha$Y1)\n",
    "\n",
    "#create directory\n",
    "path_save_ = file.path(path_save,name)\n",
    "dir.create(path_save_)\n",
    "#convert into double (integer leads to warning as Y1 and Y2 are double)\n",
    "#without centered TI: we get a warning: \"Uncentered TI predictors noted -- interpretability may be hindered and default priors \n",
    "#may not be appropriate\"\n",
    "#centering and scaling variables in the model\n",
    "li_sc = c('severity',variable)\n",
    "data_mvtha[,li_sc] = scale(data_mvtha[,li_sc]) \n",
    "#warning if we have double and integer, and as Y1 and Y2 are double, let set them all\n",
    "data_mvtha[li_sc] = sapply(data_mvtha[li_sc],as.double)\n",
    "\n",
    "#pearson correlation\n",
    "df_ = na.omit(data_mvtha[,c('MonthInstudy','severity', variable)])\n",
    "dim(df_)\n",
    "round(cor(df_[,c('MonthInstudy','severity', variable)], method = c(\"pearson\")), 2)\n",
    "round(cor(df_[,c('MonthInstudy','severity', variable)], method = c(\"spearman\")), 2)\n",
    "#show info\n",
    "dim(data_mvtha)\n",
    "head(data_mvtha,2)\n",
    "summary(data_mvtha)\n",
    "str(data_mvtha)"
   ]
  },
  {
   "cell_type": "code",
   "execution_count": 12,
   "id": "7da1c2cf",
   "metadata": {},
   "outputs": [
    {
     "data": {
      "text/html": [
       "<table class=\"dataframe\">\n",
       "<caption>A matrix: 6 × 6 of type chr</caption>\n",
       "<tbody>\n",
       "\t<tr><td>0</td><td>0</td><td>0</td><td>0</td><td>0                  </td><td>0           </td></tr>\n",
       "\t<tr><td>0</td><td>0</td><td>0</td><td>0</td><td>0                  </td><td>0           </td></tr>\n",
       "\t<tr><td>0</td><td>0</td><td>0</td><td>0</td><td>0                  </td><td>0           </td></tr>\n",
       "\t<tr><td>0</td><td>0</td><td>0</td><td>0</td><td>0                  </td><td>0           </td></tr>\n",
       "\t<tr><td>0</td><td>0</td><td>0</td><td>0</td><td>diffu_dynKBF       </td><td>0           </td></tr>\n",
       "\t<tr><td>0</td><td>0</td><td>0</td><td>0</td><td>diffu_dynBHV_dynKBF</td><td>diffu_dynBHV</td></tr>\n",
       "</tbody>\n",
       "</table>\n"
      ],
      "text/latex": [
       "A matrix: 6 × 6 of type chr\n",
       "\\begin{tabular}{llllll}\n",
       "\t 0 & 0 & 0 & 0 & 0                   & 0           \\\\\n",
       "\t 0 & 0 & 0 & 0 & 0                   & 0           \\\\\n",
       "\t 0 & 0 & 0 & 0 & 0                   & 0           \\\\\n",
       "\t 0 & 0 & 0 & 0 & 0                   & 0           \\\\\n",
       "\t 0 & 0 & 0 & 0 & diffu\\_dynKBF        & 0           \\\\\n",
       "\t 0 & 0 & 0 & 0 & diffu\\_dynBHV\\_dynKBF & diffu\\_dynBHV\\\\\n",
       "\\end{tabular}\n"
      ],
      "text/markdown": [
       "\n",
       "A matrix: 6 × 6 of type chr\n",
       "\n",
       "| 0 | 0 | 0 | 0 | 0                   | 0            |\n",
       "| 0 | 0 | 0 | 0 | 0                   | 0            |\n",
       "| 0 | 0 | 0 | 0 | 0                   | 0            |\n",
       "| 0 | 0 | 0 | 0 | 0                   | 0            |\n",
       "| 0 | 0 | 0 | 0 | diffu_dynKBF        | 0            |\n",
       "| 0 | 0 | 0 | 0 | diffu_dynBHV_dynKBF | diffu_dynBHV |\n",
       "\n"
      ],
      "text/plain": [
       "     [,1] [,2] [,3] [,4] [,5]                [,6]        \n",
       "[1,] 0    0    0    0    0                   0           \n",
       "[2,] 0    0    0    0    0                   0           \n",
       "[3,] 0    0    0    0    0                   0           \n",
       "[4,] 0    0    0    0    0                   0           \n",
       "[5,] 0    0    0    0    diffu_dynKBF        0           \n",
       "[6,] 0    0    0    0    diffu_dynBHV_dynKBF diffu_dynBHV"
      ]
     },
     "metadata": {},
     "output_type": "display_data"
    },
    {
     "data": {
      "text/html": [
       "<table class=\"dataframe\">\n",
       "<caption>A matrix: 6 × 6 of type chr</caption>\n",
       "<tbody>\n",
       "\t<tr><td>T0var_KBF        </td><td>0                </td><td>0                    </td><td>0            </td><td>0</td><td>0</td></tr>\n",
       "\t<tr><td>T0var_BHV_KBF    </td><td>T0var_BHV        </td><td>0                    </td><td>0            </td><td>0</td><td>0</td></tr>\n",
       "\t<tr><td>T0var_cintKBF_KBF</td><td>T0var_cintKBF_BHV</td><td>T0var_cintKBF        </td><td>0            </td><td>0</td><td>0</td></tr>\n",
       "\t<tr><td>T0var_cintBHV_KBF</td><td>T0var_cintBHV_BHV</td><td>T0var_cintBHV_cintKBF</td><td>T0var_cintBHV</td><td>0</td><td>0</td></tr>\n",
       "\t<tr><td>0                </td><td>0                </td><td>0                    </td><td>0            </td><td>0</td><td>0</td></tr>\n",
       "\t<tr><td>0                </td><td>0                </td><td>0                    </td><td>0            </td><td>0</td><td>0</td></tr>\n",
       "</tbody>\n",
       "</table>\n"
      ],
      "text/latex": [
       "A matrix: 6 × 6 of type chr\n",
       "\\begin{tabular}{llllll}\n",
       "\t T0var\\_KBF         & 0                 & 0                     & 0             & 0 & 0\\\\\n",
       "\t T0var\\_BHV\\_KBF     & T0var\\_BHV         & 0                     & 0             & 0 & 0\\\\\n",
       "\t T0var\\_cintKBF\\_KBF & T0var\\_cintKBF\\_BHV & T0var\\_cintKBF         & 0             & 0 & 0\\\\\n",
       "\t T0var\\_cintBHV\\_KBF & T0var\\_cintBHV\\_BHV & T0var\\_cintBHV\\_cintKBF & T0var\\_cintBHV & 0 & 0\\\\\n",
       "\t 0                 & 0                 & 0                     & 0             & 0 & 0\\\\\n",
       "\t 0                 & 0                 & 0                     & 0             & 0 & 0\\\\\n",
       "\\end{tabular}\n"
      ],
      "text/markdown": [
       "\n",
       "A matrix: 6 × 6 of type chr\n",
       "\n",
       "| T0var_KBF         | 0                 | 0                     | 0             | 0 | 0 |\n",
       "| T0var_BHV_KBF     | T0var_BHV         | 0                     | 0             | 0 | 0 |\n",
       "| T0var_cintKBF_KBF | T0var_cintKBF_BHV | T0var_cintKBF         | 0             | 0 | 0 |\n",
       "| T0var_cintBHV_KBF | T0var_cintBHV_BHV | T0var_cintBHV_cintKBF | T0var_cintBHV | 0 | 0 |\n",
       "| 0                 | 0                 | 0                     | 0             | 0 | 0 |\n",
       "| 0                 | 0                 | 0                     | 0             | 0 | 0 |\n",
       "\n"
      ],
      "text/plain": [
       "     [,1]              [,2]              [,3]                  [,4]         \n",
       "[1,] T0var_KBF         0                 0                     0            \n",
       "[2,] T0var_BHV_KBF     T0var_BHV         0                     0            \n",
       "[3,] T0var_cintKBF_KBF T0var_cintKBF_BHV T0var_cintKBF         0            \n",
       "[4,] T0var_cintBHV_KBF T0var_cintBHV_BHV T0var_cintBHV_cintKBF T0var_cintBHV\n",
       "[5,] 0                 0                 0                     0            \n",
       "[6,] 0                 0                 0                     0            \n",
       "     [,5] [,6]\n",
       "[1,] 0    0   \n",
       "[2,] 0    0   \n",
       "[3,] 0    0   \n",
       "[4,] 0    0   \n",
       "[5,] 0    0   \n",
       "[6,] 0    0   "
      ]
     },
     "metadata": {},
     "output_type": "display_data"
    },
    {
     "data": {
      "text/html": [
       "<table class=\"dataframe\">\n",
       "<caption>A matrix: 6 × 1 of type chr</caption>\n",
       "<tbody>\n",
       "\t<tr><td>T0m_KBF    </td></tr>\n",
       "\t<tr><td>T0m_BHV    </td></tr>\n",
       "\t<tr><td>T0m_cintKBF</td></tr>\n",
       "\t<tr><td>T0m_cintBHV</td></tr>\n",
       "\t<tr><td>0          </td></tr>\n",
       "\t<tr><td>0          </td></tr>\n",
       "</tbody>\n",
       "</table>\n"
      ],
      "text/latex": [
       "A matrix: 6 × 1 of type chr\n",
       "\\begin{tabular}{l}\n",
       "\t T0m\\_KBF    \\\\\n",
       "\t T0m\\_BHV    \\\\\n",
       "\t T0m\\_cintKBF\\\\\n",
       "\t T0m\\_cintBHV\\\\\n",
       "\t 0          \\\\\n",
       "\t 0          \\\\\n",
       "\\end{tabular}\n"
      ],
      "text/markdown": [
       "\n",
       "A matrix: 6 × 1 of type chr\n",
       "\n",
       "| T0m_KBF     |\n",
       "| T0m_BHV     |\n",
       "| T0m_cintKBF |\n",
       "| T0m_cintBHV |\n",
       "| 0           |\n",
       "| 0           |\n",
       "\n"
      ],
      "text/plain": [
       "     [,1]       \n",
       "[1,] T0m_KBF    \n",
       "[2,] T0m_BHV    \n",
       "[3,] T0m_cintKBF\n",
       "[4,] T0m_cintBHV\n",
       "[5,] 0          \n",
       "[6,] 0          "
      ]
     },
     "metadata": {},
     "output_type": "display_data"
    },
    {
     "data": {
      "text/html": [
       "<table class=\"dataframe\">\n",
       "<caption>A matrix: 6 × 6 of type chr</caption>\n",
       "<tbody>\n",
       "\t<tr><td>drift_KBF</td><td>0        </td><td>1</td><td>0</td><td>0                  </td><td>0                  </td></tr>\n",
       "\t<tr><td>0        </td><td>drift_BHV</td><td>0</td><td>1</td><td>0                  </td><td>0                  </td></tr>\n",
       "\t<tr><td>0        </td><td>0        </td><td>0</td><td>0</td><td>0                  </td><td>0                  </td></tr>\n",
       "\t<tr><td>0        </td><td>0        </td><td>0</td><td>0</td><td>0                  </td><td>0                  </td></tr>\n",
       "\t<tr><td>0        </td><td>0        </td><td>0</td><td>0</td><td>drift_dynKBF       </td><td>drift_dynKBF_dynBHV</td></tr>\n",
       "\t<tr><td>0        </td><td>0        </td><td>0</td><td>0</td><td>drift_dynBHV_dynKBF</td><td>drift_dynBHV       </td></tr>\n",
       "</tbody>\n",
       "</table>\n"
      ],
      "text/latex": [
       "A matrix: 6 × 6 of type chr\n",
       "\\begin{tabular}{llllll}\n",
       "\t drift\\_KBF & 0         & 1 & 0 & 0                   & 0                  \\\\\n",
       "\t 0         & drift\\_BHV & 0 & 1 & 0                   & 0                  \\\\\n",
       "\t 0         & 0         & 0 & 0 & 0                   & 0                  \\\\\n",
       "\t 0         & 0         & 0 & 0 & 0                   & 0                  \\\\\n",
       "\t 0         & 0         & 0 & 0 & drift\\_dynKBF        & drift\\_dynKBF\\_dynBHV\\\\\n",
       "\t 0         & 0         & 0 & 0 & drift\\_dynBHV\\_dynKBF & drift\\_dynBHV       \\\\\n",
       "\\end{tabular}\n"
      ],
      "text/markdown": [
       "\n",
       "A matrix: 6 × 6 of type chr\n",
       "\n",
       "| drift_KBF | 0         | 1 | 0 | 0                   | 0                   |\n",
       "| 0         | drift_BHV | 0 | 1 | 0                   | 0                   |\n",
       "| 0         | 0         | 0 | 0 | 0                   | 0                   |\n",
       "| 0         | 0         | 0 | 0 | 0                   | 0                   |\n",
       "| 0         | 0         | 0 | 0 | drift_dynKBF        | drift_dynKBF_dynBHV |\n",
       "| 0         | 0         | 0 | 0 | drift_dynBHV_dynKBF | drift_dynBHV        |\n",
       "\n"
      ],
      "text/plain": [
       "     [,1]      [,2]      [,3] [,4] [,5]                [,6]               \n",
       "[1,] drift_KBF 0         1    0    0                   0                  \n",
       "[2,] 0         drift_BHV 0    1    0                   0                  \n",
       "[3,] 0         0         0    0    0                   0                  \n",
       "[4,] 0         0         0    0    0                   0                  \n",
       "[5,] 0         0         0    0    drift_dynKBF        drift_dynKBF_dynBHV\n",
       "[6,] 0         0         0    0    drift_dynBHV_dynKBF drift_dynBHV       "
      ]
     },
     "metadata": {},
     "output_type": "display_data"
    },
    {
     "data": {
      "text/html": [
       "<table class=\"dataframe\">\n",
       "<caption>A data.frame: 138 × 8</caption>\n",
       "<thead>\n",
       "\t<tr><th></th><th scope=col>matrix</th><th scope=col>row</th><th scope=col>col</th><th scope=col>param</th><th scope=col>value</th><th scope=col>transform</th><th scope=col>indvarying</th><th scope=col>sdscale</th></tr>\n",
       "\t<tr><th></th><th scope=col>&lt;chr&gt;</th><th scope=col>&lt;int&gt;</th><th scope=col>&lt;int&gt;</th><th scope=col>&lt;chr&gt;</th><th scope=col>&lt;dbl&gt;</th><th scope=col>&lt;chr&gt;</th><th scope=col>&lt;lgl&gt;</th><th scope=col>&lt;dbl&gt;</th></tr>\n",
       "</thead>\n",
       "<tbody>\n",
       "\t<tr><th scope=row>1</th><td>T0MEANS</td><td>1</td><td>1</td><td>T0m_KBF    </td><td>NA</td><td>10 * param                            </td><td> TRUE</td><td> 1</td></tr>\n",
       "\t<tr><th scope=row>2</th><td>T0MEANS</td><td>2</td><td>1</td><td>T0m_BHV    </td><td>NA</td><td>10 * param                            </td><td> TRUE</td><td> 1</td></tr>\n",
       "\t<tr><th scope=row>3</th><td>T0MEANS</td><td>3</td><td>1</td><td>T0m_cintKBF</td><td>NA</td><td>10 * param                            </td><td> TRUE</td><td> 1</td></tr>\n",
       "\t<tr><th scope=row>4</th><td>T0MEANS</td><td>4</td><td>1</td><td>T0m_cintBHV</td><td>NA</td><td>10 * param                            </td><td> TRUE</td><td> 1</td></tr>\n",
       "\t<tr><th scope=row>5</th><td>T0MEANS</td><td>5</td><td>1</td><td>NA         </td><td> 0</td><td>NA                                    </td><td> TRUE</td><td>NA</td></tr>\n",
       "\t<tr><th scope=row>6</th><td>T0MEANS</td><td>6</td><td>1</td><td>NA         </td><td> 0</td><td>NA                                    </td><td> TRUE</td><td>NA</td></tr>\n",
       "\t<tr><th scope=row>7</th><td>LAMBDA </td><td>1</td><td>1</td><td>NA         </td><td> 1</td><td>NA                                    </td><td>FALSE</td><td>NA</td></tr>\n",
       "\t<tr><th scope=row>8</th><td>LAMBDA </td><td>1</td><td>2</td><td>NA         </td><td> 0</td><td>NA                                    </td><td>FALSE</td><td>NA</td></tr>\n",
       "\t<tr><th scope=row>9</th><td>LAMBDA </td><td>1</td><td>3</td><td>NA         </td><td> 0</td><td>NA                                    </td><td>FALSE</td><td>NA</td></tr>\n",
       "\t<tr><th scope=row>10</th><td>LAMBDA </td><td>1</td><td>4</td><td>NA         </td><td> 0</td><td>NA                                    </td><td>FALSE</td><td>NA</td></tr>\n",
       "\t<tr><th scope=row>11</th><td>LAMBDA </td><td>1</td><td>5</td><td>NA         </td><td> 1</td><td>NA                                    </td><td>FALSE</td><td>NA</td></tr>\n",
       "\t<tr><th scope=row>12</th><td>LAMBDA </td><td>1</td><td>6</td><td>NA         </td><td> 0</td><td>NA                                    </td><td>FALSE</td><td>NA</td></tr>\n",
       "\t<tr><th scope=row>13</th><td>LAMBDA </td><td>2</td><td>1</td><td>NA         </td><td> 0</td><td>NA                                    </td><td>FALSE</td><td>NA</td></tr>\n",
       "\t<tr><th scope=row>14</th><td>LAMBDA </td><td>2</td><td>2</td><td>NA         </td><td> 1</td><td>NA                                    </td><td>FALSE</td><td>NA</td></tr>\n",
       "\t<tr><th scope=row>15</th><td>LAMBDA </td><td>2</td><td>3</td><td>NA         </td><td> 0</td><td>NA                                    </td><td>FALSE</td><td>NA</td></tr>\n",
       "\t<tr><th scope=row>16</th><td>LAMBDA </td><td>2</td><td>4</td><td>NA         </td><td> 0</td><td>NA                                    </td><td>FALSE</td><td>NA</td></tr>\n",
       "\t<tr><th scope=row>17</th><td>LAMBDA </td><td>2</td><td>5</td><td>NA         </td><td> 0</td><td>NA                                    </td><td>FALSE</td><td>NA</td></tr>\n",
       "\t<tr><th scope=row>18</th><td>LAMBDA </td><td>2</td><td>6</td><td>NA         </td><td> 1</td><td>NA                                    </td><td>FALSE</td><td>NA</td></tr>\n",
       "\t<tr><th scope=row>19</th><td>DRIFT  </td><td>1</td><td>1</td><td>drift_KBF  </td><td>NA</td><td>-(1e-06 + 2 * log1p_exp(-(2 * param)))</td><td>FALSE</td><td> 1</td></tr>\n",
       "\t<tr><th scope=row>20</th><td>DRIFT  </td><td>1</td><td>2</td><td>NA         </td><td> 0</td><td>NA                                    </td><td>FALSE</td><td>NA</td></tr>\n",
       "\t<tr><th scope=row>21</th><td>DRIFT  </td><td>1</td><td>3</td><td>NA         </td><td> 1</td><td>NA                                    </td><td>FALSE</td><td>NA</td></tr>\n",
       "\t<tr><th scope=row>22</th><td>DRIFT  </td><td>1</td><td>4</td><td>NA         </td><td> 0</td><td>NA                                    </td><td>FALSE</td><td>NA</td></tr>\n",
       "\t<tr><th scope=row>23</th><td>DRIFT  </td><td>1</td><td>5</td><td>NA         </td><td> 0</td><td>NA                                    </td><td>FALSE</td><td>NA</td></tr>\n",
       "\t<tr><th scope=row>24</th><td>DRIFT  </td><td>1</td><td>6</td><td>NA         </td><td> 0</td><td>NA                                    </td><td>FALSE</td><td>NA</td></tr>\n",
       "\t<tr><th scope=row>25</th><td>DRIFT  </td><td>2</td><td>1</td><td>NA         </td><td> 0</td><td>NA                                    </td><td>FALSE</td><td>NA</td></tr>\n",
       "\t<tr><th scope=row>26</th><td>DRIFT  </td><td>2</td><td>2</td><td>drift_BHV  </td><td>NA</td><td>-(1e-06 + 2 * log1p_exp(-(2 * param)))</td><td>FALSE</td><td> 1</td></tr>\n",
       "\t<tr><th scope=row>27</th><td>DRIFT  </td><td>2</td><td>3</td><td>NA         </td><td> 0</td><td>NA                                    </td><td>FALSE</td><td>NA</td></tr>\n",
       "\t<tr><th scope=row>28</th><td>DRIFT  </td><td>2</td><td>4</td><td>NA         </td><td> 1</td><td>NA                                    </td><td>FALSE</td><td>NA</td></tr>\n",
       "\t<tr><th scope=row>29</th><td>DRIFT  </td><td>2</td><td>5</td><td>NA         </td><td> 0</td><td>NA                                    </td><td>FALSE</td><td>NA</td></tr>\n",
       "\t<tr><th scope=row>30</th><td>DRIFT  </td><td>2</td><td>6</td><td>NA         </td><td> 0</td><td>NA                                    </td><td>FALSE</td><td>NA</td></tr>\n",
       "\t<tr><th scope=row>...</th><td>...</td><td>...</td><td>...</td><td>...</td><td>...</td><td>...</td><td>...</td><td>...</td></tr>\n",
       "\t<tr><th scope=row>109</th><td>T0VAR</td><td>2</td><td>1</td><td>T0var_BHV_KBF        </td><td>NA</td><td>2/(1 + exp(-param)) - 1         </td><td>FALSE</td><td> 1</td></tr>\n",
       "\t<tr><th scope=row>110</th><td>T0VAR</td><td>2</td><td>2</td><td>T0var_BHV            </td><td>NA</td><td>1e-10 + 5 * log1p_exp(2 * param)</td><td>FALSE</td><td> 1</td></tr>\n",
       "\t<tr><th scope=row>111</th><td>T0VAR</td><td>2</td><td>3</td><td>NA                   </td><td> 0</td><td>NA                              </td><td>FALSE</td><td>NA</td></tr>\n",
       "\t<tr><th scope=row>112</th><td>T0VAR</td><td>2</td><td>4</td><td>NA                   </td><td> 0</td><td>NA                              </td><td>FALSE</td><td>NA</td></tr>\n",
       "\t<tr><th scope=row>113</th><td>T0VAR</td><td>2</td><td>5</td><td>NA                   </td><td> 0</td><td>NA                              </td><td>FALSE</td><td>NA</td></tr>\n",
       "\t<tr><th scope=row>114</th><td>T0VAR</td><td>2</td><td>6</td><td>NA                   </td><td> 0</td><td>NA                              </td><td>FALSE</td><td>NA</td></tr>\n",
       "\t<tr><th scope=row>115</th><td>T0VAR</td><td>3</td><td>1</td><td>T0var_cintKBF_KBF    </td><td>NA</td><td>2/(1 + exp(-param)) - 1         </td><td>FALSE</td><td> 1</td></tr>\n",
       "\t<tr><th scope=row>116</th><td>T0VAR</td><td>3</td><td>2</td><td>T0var_cintKBF_BHV    </td><td>NA</td><td>2/(1 + exp(-param)) - 1         </td><td>FALSE</td><td> 1</td></tr>\n",
       "\t<tr><th scope=row>117</th><td>T0VAR</td><td>3</td><td>3</td><td>T0var_cintKBF        </td><td>NA</td><td>1e-10 + 5 * log1p_exp(2 * param)</td><td>FALSE</td><td> 1</td></tr>\n",
       "\t<tr><th scope=row>118</th><td>T0VAR</td><td>3</td><td>4</td><td>NA                   </td><td> 0</td><td>NA                              </td><td>FALSE</td><td>NA</td></tr>\n",
       "\t<tr><th scope=row>119</th><td>T0VAR</td><td>3</td><td>5</td><td>NA                   </td><td> 0</td><td>NA                              </td><td>FALSE</td><td>NA</td></tr>\n",
       "\t<tr><th scope=row>120</th><td>T0VAR</td><td>3</td><td>6</td><td>NA                   </td><td> 0</td><td>NA                              </td><td>FALSE</td><td>NA</td></tr>\n",
       "\t<tr><th scope=row>121</th><td>T0VAR</td><td>4</td><td>1</td><td>T0var_cintBHV_KBF    </td><td>NA</td><td>2/(1 + exp(-param)) - 1         </td><td>FALSE</td><td> 1</td></tr>\n",
       "\t<tr><th scope=row>122</th><td>T0VAR</td><td>4</td><td>2</td><td>T0var_cintBHV_BHV    </td><td>NA</td><td>2/(1 + exp(-param)) - 1         </td><td>FALSE</td><td> 1</td></tr>\n",
       "\t<tr><th scope=row>123</th><td>T0VAR</td><td>4</td><td>3</td><td>T0var_cintBHV_cintKBF</td><td>NA</td><td>2/(1 + exp(-param)) - 1         </td><td>FALSE</td><td> 1</td></tr>\n",
       "\t<tr><th scope=row>124</th><td>T0VAR</td><td>4</td><td>4</td><td>T0var_cintBHV        </td><td>NA</td><td>1e-10 + 5 * log1p_exp(2 * param)</td><td>FALSE</td><td> 1</td></tr>\n",
       "\t<tr><th scope=row>125</th><td>T0VAR</td><td>4</td><td>5</td><td>NA                   </td><td> 0</td><td>NA                              </td><td>FALSE</td><td>NA</td></tr>\n",
       "\t<tr><th scope=row>126</th><td>T0VAR</td><td>4</td><td>6</td><td>NA                   </td><td> 0</td><td>NA                              </td><td>FALSE</td><td>NA</td></tr>\n",
       "\t<tr><th scope=row>127</th><td>T0VAR</td><td>5</td><td>1</td><td>NA                   </td><td> 0</td><td>NA                              </td><td>FALSE</td><td>NA</td></tr>\n",
       "\t<tr><th scope=row>128</th><td>T0VAR</td><td>5</td><td>2</td><td>NA                   </td><td> 0</td><td>NA                              </td><td>FALSE</td><td>NA</td></tr>\n",
       "\t<tr><th scope=row>129</th><td>T0VAR</td><td>5</td><td>3</td><td>NA                   </td><td> 0</td><td>NA                              </td><td>FALSE</td><td>NA</td></tr>\n",
       "\t<tr><th scope=row>130</th><td>T0VAR</td><td>5</td><td>4</td><td>NA                   </td><td> 0</td><td>NA                              </td><td>FALSE</td><td>NA</td></tr>\n",
       "\t<tr><th scope=row>131</th><td>T0VAR</td><td>5</td><td>5</td><td>NA                   </td><td> 0</td><td>NA                              </td><td>FALSE</td><td>NA</td></tr>\n",
       "\t<tr><th scope=row>132</th><td>T0VAR</td><td>5</td><td>6</td><td>NA                   </td><td> 0</td><td>NA                              </td><td>FALSE</td><td>NA</td></tr>\n",
       "\t<tr><th scope=row>133</th><td>T0VAR</td><td>6</td><td>1</td><td>NA                   </td><td> 0</td><td>NA                              </td><td>FALSE</td><td>NA</td></tr>\n",
       "\t<tr><th scope=row>134</th><td>T0VAR</td><td>6</td><td>2</td><td>NA                   </td><td> 0</td><td>NA                              </td><td>FALSE</td><td>NA</td></tr>\n",
       "\t<tr><th scope=row>135</th><td>T0VAR</td><td>6</td><td>3</td><td>NA                   </td><td> 0</td><td>NA                              </td><td>FALSE</td><td>NA</td></tr>\n",
       "\t<tr><th scope=row>136</th><td>T0VAR</td><td>6</td><td>4</td><td>NA                   </td><td> 0</td><td>NA                              </td><td>FALSE</td><td>NA</td></tr>\n",
       "\t<tr><th scope=row>137</th><td>T0VAR</td><td>6</td><td>5</td><td>NA                   </td><td> 0</td><td>NA                              </td><td>FALSE</td><td>NA</td></tr>\n",
       "\t<tr><th scope=row>138</th><td>T0VAR</td><td>6</td><td>6</td><td>NA                   </td><td> 0</td><td>NA                              </td><td>FALSE</td><td>NA</td></tr>\n",
       "</tbody>\n",
       "</table>\n"
      ],
      "text/latex": [
       "A data.frame: 138 × 8\n",
       "\\begin{tabular}{r|llllllll}\n",
       "  & matrix & row & col & param & value & transform & indvarying & sdscale\\\\\n",
       "  & <chr> & <int> & <int> & <chr> & <dbl> & <chr> & <lgl> & <dbl>\\\\\n",
       "\\hline\n",
       "\t1 & T0MEANS & 1 & 1 & T0m\\_KBF     & NA & 10 * param                             &  TRUE &  1\\\\\n",
       "\t2 & T0MEANS & 2 & 1 & T0m\\_BHV     & NA & 10 * param                             &  TRUE &  1\\\\\n",
       "\t3 & T0MEANS & 3 & 1 & T0m\\_cintKBF & NA & 10 * param                             &  TRUE &  1\\\\\n",
       "\t4 & T0MEANS & 4 & 1 & T0m\\_cintBHV & NA & 10 * param                             &  TRUE &  1\\\\\n",
       "\t5 & T0MEANS & 5 & 1 & NA          &  0 & NA                                     &  TRUE & NA\\\\\n",
       "\t6 & T0MEANS & 6 & 1 & NA          &  0 & NA                                     &  TRUE & NA\\\\\n",
       "\t7 & LAMBDA  & 1 & 1 & NA          &  1 & NA                                     & FALSE & NA\\\\\n",
       "\t8 & LAMBDA  & 1 & 2 & NA          &  0 & NA                                     & FALSE & NA\\\\\n",
       "\t9 & LAMBDA  & 1 & 3 & NA          &  0 & NA                                     & FALSE & NA\\\\\n",
       "\t10 & LAMBDA  & 1 & 4 & NA          &  0 & NA                                     & FALSE & NA\\\\\n",
       "\t11 & LAMBDA  & 1 & 5 & NA          &  1 & NA                                     & FALSE & NA\\\\\n",
       "\t12 & LAMBDA  & 1 & 6 & NA          &  0 & NA                                     & FALSE & NA\\\\\n",
       "\t13 & LAMBDA  & 2 & 1 & NA          &  0 & NA                                     & FALSE & NA\\\\\n",
       "\t14 & LAMBDA  & 2 & 2 & NA          &  1 & NA                                     & FALSE & NA\\\\\n",
       "\t15 & LAMBDA  & 2 & 3 & NA          &  0 & NA                                     & FALSE & NA\\\\\n",
       "\t16 & LAMBDA  & 2 & 4 & NA          &  0 & NA                                     & FALSE & NA\\\\\n",
       "\t17 & LAMBDA  & 2 & 5 & NA          &  0 & NA                                     & FALSE & NA\\\\\n",
       "\t18 & LAMBDA  & 2 & 6 & NA          &  1 & NA                                     & FALSE & NA\\\\\n",
       "\t19 & DRIFT   & 1 & 1 & drift\\_KBF   & NA & -(1e-06 + 2 * log1p\\_exp(-(2 * param))) & FALSE &  1\\\\\n",
       "\t20 & DRIFT   & 1 & 2 & NA          &  0 & NA                                     & FALSE & NA\\\\\n",
       "\t21 & DRIFT   & 1 & 3 & NA          &  1 & NA                                     & FALSE & NA\\\\\n",
       "\t22 & DRIFT   & 1 & 4 & NA          &  0 & NA                                     & FALSE & NA\\\\\n",
       "\t23 & DRIFT   & 1 & 5 & NA          &  0 & NA                                     & FALSE & NA\\\\\n",
       "\t24 & DRIFT   & 1 & 6 & NA          &  0 & NA                                     & FALSE & NA\\\\\n",
       "\t25 & DRIFT   & 2 & 1 & NA          &  0 & NA                                     & FALSE & NA\\\\\n",
       "\t26 & DRIFT   & 2 & 2 & drift\\_BHV   & NA & -(1e-06 + 2 * log1p\\_exp(-(2 * param))) & FALSE &  1\\\\\n",
       "\t27 & DRIFT   & 2 & 3 & NA          &  0 & NA                                     & FALSE & NA\\\\\n",
       "\t28 & DRIFT   & 2 & 4 & NA          &  1 & NA                                     & FALSE & NA\\\\\n",
       "\t29 & DRIFT   & 2 & 5 & NA          &  0 & NA                                     & FALSE & NA\\\\\n",
       "\t30 & DRIFT   & 2 & 6 & NA          &  0 & NA                                     & FALSE & NA\\\\\n",
       "\t... & ... & ... & ... & ... & ... & ... & ... & ...\\\\\n",
       "\t109 & T0VAR & 2 & 1 & T0var\\_BHV\\_KBF         & NA & 2/(1 + exp(-param)) - 1          & FALSE &  1\\\\\n",
       "\t110 & T0VAR & 2 & 2 & T0var\\_BHV             & NA & 1e-10 + 5 * log1p\\_exp(2 * param) & FALSE &  1\\\\\n",
       "\t111 & T0VAR & 2 & 3 & NA                    &  0 & NA                               & FALSE & NA\\\\\n",
       "\t112 & T0VAR & 2 & 4 & NA                    &  0 & NA                               & FALSE & NA\\\\\n",
       "\t113 & T0VAR & 2 & 5 & NA                    &  0 & NA                               & FALSE & NA\\\\\n",
       "\t114 & T0VAR & 2 & 6 & NA                    &  0 & NA                               & FALSE & NA\\\\\n",
       "\t115 & T0VAR & 3 & 1 & T0var\\_cintKBF\\_KBF     & NA & 2/(1 + exp(-param)) - 1          & FALSE &  1\\\\\n",
       "\t116 & T0VAR & 3 & 2 & T0var\\_cintKBF\\_BHV     & NA & 2/(1 + exp(-param)) - 1          & FALSE &  1\\\\\n",
       "\t117 & T0VAR & 3 & 3 & T0var\\_cintKBF         & NA & 1e-10 + 5 * log1p\\_exp(2 * param) & FALSE &  1\\\\\n",
       "\t118 & T0VAR & 3 & 4 & NA                    &  0 & NA                               & FALSE & NA\\\\\n",
       "\t119 & T0VAR & 3 & 5 & NA                    &  0 & NA                               & FALSE & NA\\\\\n",
       "\t120 & T0VAR & 3 & 6 & NA                    &  0 & NA                               & FALSE & NA\\\\\n",
       "\t121 & T0VAR & 4 & 1 & T0var\\_cintBHV\\_KBF     & NA & 2/(1 + exp(-param)) - 1          & FALSE &  1\\\\\n",
       "\t122 & T0VAR & 4 & 2 & T0var\\_cintBHV\\_BHV     & NA & 2/(1 + exp(-param)) - 1          & FALSE &  1\\\\\n",
       "\t123 & T0VAR & 4 & 3 & T0var\\_cintBHV\\_cintKBF & NA & 2/(1 + exp(-param)) - 1          & FALSE &  1\\\\\n",
       "\t124 & T0VAR & 4 & 4 & T0var\\_cintBHV         & NA & 1e-10 + 5 * log1p\\_exp(2 * param) & FALSE &  1\\\\\n",
       "\t125 & T0VAR & 4 & 5 & NA                    &  0 & NA                               & FALSE & NA\\\\\n",
       "\t126 & T0VAR & 4 & 6 & NA                    &  0 & NA                               & FALSE & NA\\\\\n",
       "\t127 & T0VAR & 5 & 1 & NA                    &  0 & NA                               & FALSE & NA\\\\\n",
       "\t128 & T0VAR & 5 & 2 & NA                    &  0 & NA                               & FALSE & NA\\\\\n",
       "\t129 & T0VAR & 5 & 3 & NA                    &  0 & NA                               & FALSE & NA\\\\\n",
       "\t130 & T0VAR & 5 & 4 & NA                    &  0 & NA                               & FALSE & NA\\\\\n",
       "\t131 & T0VAR & 5 & 5 & NA                    &  0 & NA                               & FALSE & NA\\\\\n",
       "\t132 & T0VAR & 5 & 6 & NA                    &  0 & NA                               & FALSE & NA\\\\\n",
       "\t133 & T0VAR & 6 & 1 & NA                    &  0 & NA                               & FALSE & NA\\\\\n",
       "\t134 & T0VAR & 6 & 2 & NA                    &  0 & NA                               & FALSE & NA\\\\\n",
       "\t135 & T0VAR & 6 & 3 & NA                    &  0 & NA                               & FALSE & NA\\\\\n",
       "\t136 & T0VAR & 6 & 4 & NA                    &  0 & NA                               & FALSE & NA\\\\\n",
       "\t137 & T0VAR & 6 & 5 & NA                    &  0 & NA                               & FALSE & NA\\\\\n",
       "\t138 & T0VAR & 6 & 6 & NA                    &  0 & NA                               & FALSE & NA\\\\\n",
       "\\end{tabular}\n"
      ],
      "text/markdown": [
       "\n",
       "A data.frame: 138 × 8\n",
       "\n",
       "| <!--/--> | matrix &lt;chr&gt; | row &lt;int&gt; | col &lt;int&gt; | param &lt;chr&gt; | value &lt;dbl&gt; | transform &lt;chr&gt; | indvarying &lt;lgl&gt; | sdscale &lt;dbl&gt; |\n",
       "|---|---|---|---|---|---|---|---|---|\n",
       "| 1 | T0MEANS | 1 | 1 | T0m_KBF     | NA | 10 * param                             |  TRUE |  1 |\n",
       "| 2 | T0MEANS | 2 | 1 | T0m_BHV     | NA | 10 * param                             |  TRUE |  1 |\n",
       "| 3 | T0MEANS | 3 | 1 | T0m_cintKBF | NA | 10 * param                             |  TRUE |  1 |\n",
       "| 4 | T0MEANS | 4 | 1 | T0m_cintBHV | NA | 10 * param                             |  TRUE |  1 |\n",
       "| 5 | T0MEANS | 5 | 1 | NA          |  0 | NA                                     |  TRUE | NA |\n",
       "| 6 | T0MEANS | 6 | 1 | NA          |  0 | NA                                     |  TRUE | NA |\n",
       "| 7 | LAMBDA  | 1 | 1 | NA          |  1 | NA                                     | FALSE | NA |\n",
       "| 8 | LAMBDA  | 1 | 2 | NA          |  0 | NA                                     | FALSE | NA |\n",
       "| 9 | LAMBDA  | 1 | 3 | NA          |  0 | NA                                     | FALSE | NA |\n",
       "| 10 | LAMBDA  | 1 | 4 | NA          |  0 | NA                                     | FALSE | NA |\n",
       "| 11 | LAMBDA  | 1 | 5 | NA          |  1 | NA                                     | FALSE | NA |\n",
       "| 12 | LAMBDA  | 1 | 6 | NA          |  0 | NA                                     | FALSE | NA |\n",
       "| 13 | LAMBDA  | 2 | 1 | NA          |  0 | NA                                     | FALSE | NA |\n",
       "| 14 | LAMBDA  | 2 | 2 | NA          |  1 | NA                                     | FALSE | NA |\n",
       "| 15 | LAMBDA  | 2 | 3 | NA          |  0 | NA                                     | FALSE | NA |\n",
       "| 16 | LAMBDA  | 2 | 4 | NA          |  0 | NA                                     | FALSE | NA |\n",
       "| 17 | LAMBDA  | 2 | 5 | NA          |  0 | NA                                     | FALSE | NA |\n",
       "| 18 | LAMBDA  | 2 | 6 | NA          |  1 | NA                                     | FALSE | NA |\n",
       "| 19 | DRIFT   | 1 | 1 | drift_KBF   | NA | -(1e-06 + 2 * log1p_exp(-(2 * param))) | FALSE |  1 |\n",
       "| 20 | DRIFT   | 1 | 2 | NA          |  0 | NA                                     | FALSE | NA |\n",
       "| 21 | DRIFT   | 1 | 3 | NA          |  1 | NA                                     | FALSE | NA |\n",
       "| 22 | DRIFT   | 1 | 4 | NA          |  0 | NA                                     | FALSE | NA |\n",
       "| 23 | DRIFT   | 1 | 5 | NA          |  0 | NA                                     | FALSE | NA |\n",
       "| 24 | DRIFT   | 1 | 6 | NA          |  0 | NA                                     | FALSE | NA |\n",
       "| 25 | DRIFT   | 2 | 1 | NA          |  0 | NA                                     | FALSE | NA |\n",
       "| 26 | DRIFT   | 2 | 2 | drift_BHV   | NA | -(1e-06 + 2 * log1p_exp(-(2 * param))) | FALSE |  1 |\n",
       "| 27 | DRIFT   | 2 | 3 | NA          |  0 | NA                                     | FALSE | NA |\n",
       "| 28 | DRIFT   | 2 | 4 | NA          |  1 | NA                                     | FALSE | NA |\n",
       "| 29 | DRIFT   | 2 | 5 | NA          |  0 | NA                                     | FALSE | NA |\n",
       "| 30 | DRIFT   | 2 | 6 | NA          |  0 | NA                                     | FALSE | NA |\n",
       "| ... | ... | ... | ... | ... | ... | ... | ... | ... |\n",
       "| 109 | T0VAR | 2 | 1 | T0var_BHV_KBF         | NA | 2/(1 + exp(-param)) - 1          | FALSE |  1 |\n",
       "| 110 | T0VAR | 2 | 2 | T0var_BHV             | NA | 1e-10 + 5 * log1p_exp(2 * param) | FALSE |  1 |\n",
       "| 111 | T0VAR | 2 | 3 | NA                    |  0 | NA                               | FALSE | NA |\n",
       "| 112 | T0VAR | 2 | 4 | NA                    |  0 | NA                               | FALSE | NA |\n",
       "| 113 | T0VAR | 2 | 5 | NA                    |  0 | NA                               | FALSE | NA |\n",
       "| 114 | T0VAR | 2 | 6 | NA                    |  0 | NA                               | FALSE | NA |\n",
       "| 115 | T0VAR | 3 | 1 | T0var_cintKBF_KBF     | NA | 2/(1 + exp(-param)) - 1          | FALSE |  1 |\n",
       "| 116 | T0VAR | 3 | 2 | T0var_cintKBF_BHV     | NA | 2/(1 + exp(-param)) - 1          | FALSE |  1 |\n",
       "| 117 | T0VAR | 3 | 3 | T0var_cintKBF         | NA | 1e-10 + 5 * log1p_exp(2 * param) | FALSE |  1 |\n",
       "| 118 | T0VAR | 3 | 4 | NA                    |  0 | NA                               | FALSE | NA |\n",
       "| 119 | T0VAR | 3 | 5 | NA                    |  0 | NA                               | FALSE | NA |\n",
       "| 120 | T0VAR | 3 | 6 | NA                    |  0 | NA                               | FALSE | NA |\n",
       "| 121 | T0VAR | 4 | 1 | T0var_cintBHV_KBF     | NA | 2/(1 + exp(-param)) - 1          | FALSE |  1 |\n",
       "| 122 | T0VAR | 4 | 2 | T0var_cintBHV_BHV     | NA | 2/(1 + exp(-param)) - 1          | FALSE |  1 |\n",
       "| 123 | T0VAR | 4 | 3 | T0var_cintBHV_cintKBF | NA | 2/(1 + exp(-param)) - 1          | FALSE |  1 |\n",
       "| 124 | T0VAR | 4 | 4 | T0var_cintBHV         | NA | 1e-10 + 5 * log1p_exp(2 * param) | FALSE |  1 |\n",
       "| 125 | T0VAR | 4 | 5 | NA                    |  0 | NA                               | FALSE | NA |\n",
       "| 126 | T0VAR | 4 | 6 | NA                    |  0 | NA                               | FALSE | NA |\n",
       "| 127 | T0VAR | 5 | 1 | NA                    |  0 | NA                               | FALSE | NA |\n",
       "| 128 | T0VAR | 5 | 2 | NA                    |  0 | NA                               | FALSE | NA |\n",
       "| 129 | T0VAR | 5 | 3 | NA                    |  0 | NA                               | FALSE | NA |\n",
       "| 130 | T0VAR | 5 | 4 | NA                    |  0 | NA                               | FALSE | NA |\n",
       "| 131 | T0VAR | 5 | 5 | NA                    |  0 | NA                               | FALSE | NA |\n",
       "| 132 | T0VAR | 5 | 6 | NA                    |  0 | NA                               | FALSE | NA |\n",
       "| 133 | T0VAR | 6 | 1 | NA                    |  0 | NA                               | FALSE | NA |\n",
       "| 134 | T0VAR | 6 | 2 | NA                    |  0 | NA                               | FALSE | NA |\n",
       "| 135 | T0VAR | 6 | 3 | NA                    |  0 | NA                               | FALSE | NA |\n",
       "| 136 | T0VAR | 6 | 4 | NA                    |  0 | NA                               | FALSE | NA |\n",
       "| 137 | T0VAR | 6 | 5 | NA                    |  0 | NA                               | FALSE | NA |\n",
       "| 138 | T0VAR | 6 | 6 | NA                    |  0 | NA                               | FALSE | NA |\n",
       "\n"
      ],
      "text/plain": [
       "    matrix  row col param                 value\n",
       "1   T0MEANS 1   1   T0m_KBF               NA   \n",
       "2   T0MEANS 2   1   T0m_BHV               NA   \n",
       "3   T0MEANS 3   1   T0m_cintKBF           NA   \n",
       "4   T0MEANS 4   1   T0m_cintBHV           NA   \n",
       "5   T0MEANS 5   1   NA                     0   \n",
       "6   T0MEANS 6   1   NA                     0   \n",
       "7   LAMBDA  1   1   NA                     1   \n",
       "8   LAMBDA  1   2   NA                     0   \n",
       "9   LAMBDA  1   3   NA                     0   \n",
       "10  LAMBDA  1   4   NA                     0   \n",
       "11  LAMBDA  1   5   NA                     1   \n",
       "12  LAMBDA  1   6   NA                     0   \n",
       "13  LAMBDA  2   1   NA                     0   \n",
       "14  LAMBDA  2   2   NA                     1   \n",
       "15  LAMBDA  2   3   NA                     0   \n",
       "16  LAMBDA  2   4   NA                     0   \n",
       "17  LAMBDA  2   5   NA                     0   \n",
       "18  LAMBDA  2   6   NA                     1   \n",
       "19  DRIFT   1   1   drift_KBF             NA   \n",
       "20  DRIFT   1   2   NA                     0   \n",
       "21  DRIFT   1   3   NA                     1   \n",
       "22  DRIFT   1   4   NA                     0   \n",
       "23  DRIFT   1   5   NA                     0   \n",
       "24  DRIFT   1   6   NA                     0   \n",
       "25  DRIFT   2   1   NA                     0   \n",
       "26  DRIFT   2   2   drift_BHV             NA   \n",
       "27  DRIFT   2   3   NA                     0   \n",
       "28  DRIFT   2   4   NA                     1   \n",
       "29  DRIFT   2   5   NA                     0   \n",
       "30  DRIFT   2   6   NA                     0   \n",
       "... ...     ... ... ...                   ...  \n",
       "109 T0VAR   2   1   T0var_BHV_KBF         NA   \n",
       "110 T0VAR   2   2   T0var_BHV             NA   \n",
       "111 T0VAR   2   3   NA                     0   \n",
       "112 T0VAR   2   4   NA                     0   \n",
       "113 T0VAR   2   5   NA                     0   \n",
       "114 T0VAR   2   6   NA                     0   \n",
       "115 T0VAR   3   1   T0var_cintKBF_KBF     NA   \n",
       "116 T0VAR   3   2   T0var_cintKBF_BHV     NA   \n",
       "117 T0VAR   3   3   T0var_cintKBF         NA   \n",
       "118 T0VAR   3   4   NA                     0   \n",
       "119 T0VAR   3   5   NA                     0   \n",
       "120 T0VAR   3   6   NA                     0   \n",
       "121 T0VAR   4   1   T0var_cintBHV_KBF     NA   \n",
       "122 T0VAR   4   2   T0var_cintBHV_BHV     NA   \n",
       "123 T0VAR   4   3   T0var_cintBHV_cintKBF NA   \n",
       "124 T0VAR   4   4   T0var_cintBHV         NA   \n",
       "125 T0VAR   4   5   NA                     0   \n",
       "126 T0VAR   4   6   NA                     0   \n",
       "127 T0VAR   5   1   NA                     0   \n",
       "128 T0VAR   5   2   NA                     0   \n",
       "129 T0VAR   5   3   NA                     0   \n",
       "130 T0VAR   5   4   NA                     0   \n",
       "131 T0VAR   5   5   NA                     0   \n",
       "132 T0VAR   5   6   NA                     0   \n",
       "133 T0VAR   6   1   NA                     0   \n",
       "134 T0VAR   6   2   NA                     0   \n",
       "135 T0VAR   6   3   NA                     0   \n",
       "136 T0VAR   6   4   NA                     0   \n",
       "137 T0VAR   6   5   NA                     0   \n",
       "138 T0VAR   6   6   NA                     0   \n",
       "    transform                              indvarying sdscale\n",
       "1   10 * param                              TRUE       1     \n",
       "2   10 * param                              TRUE       1     \n",
       "3   10 * param                              TRUE       1     \n",
       "4   10 * param                              TRUE       1     \n",
       "5   NA                                      TRUE      NA     \n",
       "6   NA                                      TRUE      NA     \n",
       "7   NA                                     FALSE      NA     \n",
       "8   NA                                     FALSE      NA     \n",
       "9   NA                                     FALSE      NA     \n",
       "10  NA                                     FALSE      NA     \n",
       "11  NA                                     FALSE      NA     \n",
       "12  NA                                     FALSE      NA     \n",
       "13  NA                                     FALSE      NA     \n",
       "14  NA                                     FALSE      NA     \n",
       "15  NA                                     FALSE      NA     \n",
       "16  NA                                     FALSE      NA     \n",
       "17  NA                                     FALSE      NA     \n",
       "18  NA                                     FALSE      NA     \n",
       "19  -(1e-06 + 2 * log1p_exp(-(2 * param))) FALSE       1     \n",
       "20  NA                                     FALSE      NA     \n",
       "21  NA                                     FALSE      NA     \n",
       "22  NA                                     FALSE      NA     \n",
       "23  NA                                     FALSE      NA     \n",
       "24  NA                                     FALSE      NA     \n",
       "25  NA                                     FALSE      NA     \n",
       "26  -(1e-06 + 2 * log1p_exp(-(2 * param))) FALSE       1     \n",
       "27  NA                                     FALSE      NA     \n",
       "28  NA                                     FALSE      NA     \n",
       "29  NA                                     FALSE      NA     \n",
       "30  NA                                     FALSE      NA     \n",
       "... ...                                    ...        ...    \n",
       "109 2/(1 + exp(-param)) - 1                FALSE       1     \n",
       "110 1e-10 + 5 * log1p_exp(2 * param)       FALSE       1     \n",
       "111 NA                                     FALSE      NA     \n",
       "112 NA                                     FALSE      NA     \n",
       "113 NA                                     FALSE      NA     \n",
       "114 NA                                     FALSE      NA     \n",
       "115 2/(1 + exp(-param)) - 1                FALSE       1     \n",
       "116 2/(1 + exp(-param)) - 1                FALSE       1     \n",
       "117 1e-10 + 5 * log1p_exp(2 * param)       FALSE       1     \n",
       "118 NA                                     FALSE      NA     \n",
       "119 NA                                     FALSE      NA     \n",
       "120 NA                                     FALSE      NA     \n",
       "121 2/(1 + exp(-param)) - 1                FALSE       1     \n",
       "122 2/(1 + exp(-param)) - 1                FALSE       1     \n",
       "123 2/(1 + exp(-param)) - 1                FALSE       1     \n",
       "124 1e-10 + 5 * log1p_exp(2 * param)       FALSE       1     \n",
       "125 NA                                     FALSE      NA     \n",
       "126 NA                                     FALSE      NA     \n",
       "127 NA                                     FALSE      NA     \n",
       "128 NA                                     FALSE      NA     \n",
       "129 NA                                     FALSE      NA     \n",
       "130 NA                                     FALSE      NA     \n",
       "131 NA                                     FALSE      NA     \n",
       "132 NA                                     FALSE      NA     \n",
       "133 NA                                     FALSE      NA     \n",
       "134 NA                                     FALSE      NA     \n",
       "135 NA                                     FALSE      NA     \n",
       "136 NA                                     FALSE      NA     \n",
       "137 NA                                     FALSE      NA     \n",
       "138 NA                                     FALSE      NA     "
      ]
     },
     "metadata": {},
     "output_type": "display_data"
    }
   ],
   "source": [
    "Mdiffu = matrix(c(0,0,0,0,0,0,\n",
    "              0,0,0,0,0,0,\n",
    "              0,0,0,0,0,0,\n",
    "              0,0,0,0,0,0,\n",
    "              0,0,0,0,'diffu_dynKBF','diffu_dynBHV_dynKBF',\n",
    "              0,0,0,0,0,'diffu_dynBHV'), ncol = 6)\n",
    "Mdiffu\n",
    "\n",
    "#\"initial covariance matrices are fixed to zero in many elements such that these new dynamics processes do not interact or \n",
    "#co-vary with the other processes in the system\"\n",
    "Mt0var = matrix(c('T0var_KBF','T0var_BHV_KBF','T0var_cintKBF_KBF','T0var_cintBHV_KBF',0,0,\n",
    "                  0,'T0var_BHV','T0var_cintKBF_BHV','T0var_cintBHV_BHV',0,0,\n",
    "                  0,0,'T0var_cintKBF','T0var_cintBHV_cintKBF',0,0,\n",
    "                  0,0,0,'T0var_cintBHV',0,0,\n",
    "                  0,0,0,0,0,0,\n",
    "                  0,0,0,0,0,0), ncol=6)\n",
    "#TODO: no initial var in the dynamics process as it set to 0 always... correct?\n",
    "Mt0var\n",
    "\n",
    "#The initial state and continuous intercept for each dynamical process is set to zero, to ensure that the processes capture \n",
    "#only the fluctuations and not the general trends\n",
    "Mt0means = matrix(c('T0m_KBF','T0m_BHV','T0m_cintKBF','T0m_cintBHV',0,0),ncol=1)\n",
    "Mt0means\n",
    "MCINT = matrix(c(0,0,0,0,0,0),ncol=1)\n",
    "\n",
    "#\"The auto-effect of the dynamics processes is estimated, setting the speed of the fluctuations\"\n",
    "Mdrift = matrix(c('drift_KBF',0,0,0,0,0,\n",
    "                    0,'drift_BHV',0,0,0,0,\n",
    "                    1,0,0,0,0,0,\n",
    "                    0,1,0,0,0,0,\n",
    "                    0,0,0,0,'drift_dynKBF','drift_dynBHV_dynKBF',\n",
    "                    0,0,0,0,'drift_dynKBF_dynBHV','drift_dynBHV'), ncol = 6)\n",
    "Mdrift\n",
    "\n",
    "#initialize the model with two latent each with one manifest variable\n",
    "#LAMBDA: n.manifest*n.latent loading matrix relating latent to manifest variables, with latent process 1:n.latent along the \n",
    "#columns, and manifest variables 1:n.manifest in the rows.\n",
    "#DIFFUSION: lower triangular n.latent*n.latent cholesky matrix of diffusion process variance and covariance (latent error / \n",
    "#dynamic innovation). \"auto\" freely estimates all parameters.\n",
    "#stanct’ for continuous time or ’standt’ for discrete time\n",
    "model_fit = ctModel(type='stanct', n.manifest=2, n.latent=6, id=\"id\", time=\"MonthInstudy\",\n",
    "                    manifestNames=c('severity',variable), latentNames=c('KBF','BHV','cintKBF','cintBHV','dynKBF','dynBHV'), \n",
    "                    T0MEANS=Mt0means, #initial state of dynamical process set to 0\n",
    "                    T0VAR=Mt0var,\n",
    "                    CINT = MCINT,\n",
    "                    MANIFESTMEANS=matrix(c(0,0),ncol=1),\n",
    "                    LAMBDA=matrix(c(1,0, \n",
    "                                    0,1,\n",
    "                                    0,0,\n",
    "                                    0,0,\n",
    "                                    1,0,\n",
    "                                    0,1), ncol=6),  \n",
    "                    DRIFT=Mdrift,\n",
    "                    DIFFUSION=Mdiffu) \n",
    "\n",
    "#we let ind. var in trend\n",
    "model_fit$pars$indvarying[model_fit$pars$matrix %in% c('T0MEANS')] = TRUE\n",
    "#https://discourse.mc-stan.org/t/r-package-ctsem-hierarchical-continuous-time-dynamic-models/117/14\n",
    "#as we want some parameter in the system to vary by subject, we set very tight priors, as some individuals have only 3 timetamps\n",
    "#model_fit$pars$sdscale[model_fit$pars$matrix %in% c('DRIFT')] = 0.05 #only for more complex like drit and manifestvar\n",
    "model_fit$pars"
   ]
  },
  {
   "cell_type": "code",
   "execution_count": 13,
   "id": "93388c45",
   "metadata": {},
   "outputs": [
    {
     "data": {
      "text/html": [
       "<style>\n",
       ".list-inline {list-style: none; margin:0; padding: 0}\n",
       ".list-inline>li {display: inline-block}\n",
       ".list-inline>li:not(:last-child)::after {content: \"\\00b7\"; padding: 0 .5ex}\n",
       "</style>\n",
       "<ol class=list-inline><li>'T0MEANS'</li><li>'LAMBDA'</li><li>'DRIFT'</li><li>'DIFFUSION'</li><li>'MANIFESTVAR'</li><li>'MANIFESTMEANS'</li><li>'CINT'</li><li>'T0VAR'</li></ol>\n"
      ],
      "text/latex": [
       "\\begin{enumerate*}\n",
       "\\item 'T0MEANS'\n",
       "\\item 'LAMBDA'\n",
       "\\item 'DRIFT'\n",
       "\\item 'DIFFUSION'\n",
       "\\item 'MANIFESTVAR'\n",
       "\\item 'MANIFESTMEANS'\n",
       "\\item 'CINT'\n",
       "\\item 'T0VAR'\n",
       "\\end{enumerate*}\n"
      ],
      "text/markdown": [
       "1. 'T0MEANS'\n",
       "2. 'LAMBDA'\n",
       "3. 'DRIFT'\n",
       "4. 'DIFFUSION'\n",
       "5. 'MANIFESTVAR'\n",
       "6. 'MANIFESTMEANS'\n",
       "7. 'CINT'\n",
       "8. 'T0VAR'\n",
       "\n",
       "\n"
      ],
      "text/plain": [
       "[1] \"T0MEANS\"       \"LAMBDA\"        \"DRIFT\"         \"DIFFUSION\"    \n",
       "[5] \"MANIFESTVAR\"   \"MANIFESTMEANS\" \"CINT\"          \"T0VAR\"        "
      ]
     },
     "metadata": {},
     "output_type": "display_data"
    }
   ],
   "source": [
    "unique(model_fit$pars$matrix)"
   ]
  },
  {
   "cell_type": "code",
   "execution_count": 14,
   "id": "415e2608",
   "metadata": {
    "scrolled": true
   },
   "outputs": [
    {
     "name": "stderr",
     "output_type": "stream",
     "text": [
      "Maximum a posteriori estimation requested\n",
      "\n",
      "Setting DRIFT diagonals of 0 to approximate 0 of -1e-06\n",
      "\n",
      "Free T0VAR parameters as well as indvarying T0MEANS -- fixing T0VAR pars to diag matrix of 1e-3\n",
      "\n",
      "Using 5/12 logical CPU cores\n",
      "\n",
      "Doing 1st pass optimize...\n",
      "\n",
      "Optimizing...\n",
      "\n",
      "Converged -- lp change within itertol\n",
      "\n",
      "Finishing optimization...\n",
      "\n",
      "Estimating Hessian\n",
      "\n",
      "Computing posterior with 1000 samples\n",
      "\n",
      "Computing quantities for 2000 samples...\n",
      "\n",
      "Generating data from posterior mean\n",
      "\n",
      "Using 5/12 logical CPU cores\n",
      "\n",
      "Warning message in cov2cor(cp$T0cov):\n",
      "\"diag(.) had 0 or NA entries; non-finite result is doubtful\"\n",
      "Warning message in cov2cor(cp$DIFFUSIONcov):\n",
      "\"diag(.) had 0 or NA entries; non-finite result is doubtful\"\n",
      "Warning message in cov2cor(cp$asymDIFFUSION):\n",
      "\"diag(.) had 0 or NA entries; non-finite result is doubtful\"\n",
      "Computing quantities for 1 samples...\n",
      "\n",
      "Free T0VAR parameters as well as indvarying T0MEANS -- fixing T0VAR pars to diag matrix of 1e-3\n",
      "\n",
      "Free T0VAR parameters as well as indvarying T0MEANS -- fixing T0VAR pars to diag matrix of 1e-3\n",
      "\n",
      "Computing quantities for 1000 samples...\n",
      "\n",
      "Warning message:\n",
      "\"\u001b[1m\u001b[22mUsing alpha for a discrete variable is not advised.\"\n",
      "Computing state estimates..\n",
      "\n",
      "Computing quantities for 1 samples...\n",
      "\n",
      "Computing state estimates..\n",
      "\n",
      "Computing quantities for 1 samples...\n",
      "\n",
      "Warning message:\n",
      "\"\u001b[1m\u001b[22mRemoved 30180 rows containing missing values (`geom_point()`).\"\n",
      "Warning message:\n",
      "\"\u001b[1m\u001b[22mRemoved 30180 rows containing missing values (`geom_point()`).\"\n",
      "Warning message:\n",
      "\"\u001b[1m\u001b[22mRemoved 10060 rows containing missing values (`geom_point()`).\"\n",
      "Warning message:\n",
      "\"\u001b[1m\u001b[22mRemoved 10060 rows containing missing values (`geom_point()`).\"\n",
      "Computing temporal regression coefficients for 100 samples, may take a moment...\n",
      "\n",
      "Computing temporal regression coefficients for 100 samples, may take a moment...\n",
      "\n",
      "Le chargement a nécessité le package : arules\n",
      "\n"
     ]
    }
   ],
   "source": [
    "set.seed(0)\n",
    "#fit the model and save all results provided by the folder\n",
    "#documentation: https://rdrr.io/cran/ctsem/man/ctStanFit.html : \n",
    "## iter number of iterations, half of which will be devoted to warmup by default when sampling. When optimizing, this is the \n",
    "\n",
    "## maximum number of iterations to allow – convergence hopefully occurs before this (default: 1000)\n",
    "#intoverstates: logical indicating whether or not to integrate over latent states using a Kalman filter. Generally recommended \n",
    "#to set TRUE unless using non-gaussian measurement model. KBF is not gaussion but when set to FALSE it does not work (\"NA gradient encountered at param 282\" etc)\n",
    "\n",
    "## optimize: if TRUE, use stanoptimis function for maximum a posteriori / importance sampling estimates, otherwise use the HMC \n",
    "#sampler from Stan, which is (much) slower, but generally more robust, accurate, and informative. default: TRUE\n",
    "\n",
    "## stationary: Logical. If TRUE, T0VAR and T0MEANS input matrices are ignored, the parameters are instead fixed to long run \n",
    "#expectations. More control over this can be achieved by instead setting parameter names of T0MEANS and T0VAR matrices in the \n",
    "#input model to 'stationary', for elements that should be fixed to stationarity.\n",
    "#nl = 6 #number of latent processes\n",
    "#derrind = (nl*2+1):(nl*3) #dynamic error indices -- speeds computation: from ctsem paper\n",
    "## nopriors: If TRUE, any priors are disabled (i.e. Si VRAI, tous les priors sont désactivés)\n",
    "fit_mvtha = ctStanFit(datalong=data_mvtha, ctstanmodel=model_fit, verbose=0, cores=cores_, nopriors=FALSE,\n",
    "                      iter=iter_, chains=chains_, optimize=bool_optimize, optimcontrol = list(nsubsets=1))#, optimcontrol = list(nsubsets=1)#, derrind) #nlcontrol=list(maxtimestep=10)\n",
    "#Individual variation in T0VAR parameters not possible: as we have no variation at T0\n",
    "ctsem:::ctSummarise(fit_mvtha, folder=file.path(path_save_,name), cores=cores_, ctStanPlotPost=F, nsamples=1000)\n",
    "save(fit_mvtha,file=file.path(path_save_,'model.rda'))"
   ]
  },
  {
   "cell_type": "code",
   "execution_count": 15,
   "id": "4bfd1e9b",
   "metadata": {
    "scrolled": true
   },
   "outputs": [
    {
     "name": "stderr",
     "output_type": "stream",
     "text": [
      "Maximum a posteriori estimation requested\n",
      "\n",
      "Setting DRIFT diagonals of 0 to approximate 0 of -1e-06\n",
      "\n",
      "Free T0VAR parameters as well as indvarying T0MEANS -- fixing T0VAR pars to diag matrix of 1e-3\n",
      "\n",
      "Using 5/12 logical CPU cores\n",
      "\n",
      "Doing 1st pass optimize...\n",
      "\n",
      "Converged -- count of non-improving iterations exceeded\n",
      "\n",
      "Optimizing...\n",
      "\n",
      "Converged -- lp change within itertol\n",
      "\n",
      "Finishing optimization...\n",
      "\n",
      "Estimating Hessian\n",
      "\n",
      "Computing posterior with 1000 samples\n",
      "\n",
      "Warning message in dir.create(file.path(oldwd, folder)):\n",
      "\"'G:\\VPHI\\Welfare\\2- Research Projects\\Camille Montalcini\\Origins.GS\\DataOutput\\TrackingSystem\\EXP2_\\LongformatModels\\zonecrossed2transitionds1_KBF_trend_rs0_\\zonecrossed2transitionds1_KBF_trend_rs0_' existe déjà\"\n",
      "Computing quantities for 2000 samples...\n",
      "\n",
      "Generating data from posterior mean\n",
      "\n",
      "Using 5/12 logical CPU cores\n",
      "\n",
      "Warning message in cov2cor(cp$T0cov):\n",
      "\"diag(.) had 0 or NA entries; non-finite result is doubtful\"\n",
      "Warning message in cov2cor(cp$DIFFUSIONcov):\n",
      "\"diag(.) had 0 or NA entries; non-finite result is doubtful\"\n",
      "Warning message in cov2cor(cp$asymDIFFUSION):\n",
      "\"diag(.) had 0 or NA entries; non-finite result is doubtful\"\n",
      "Computing quantities for 1 samples...\n",
      "\n",
      "Free T0VAR parameters as well as indvarying T0MEANS -- fixing T0VAR pars to diag matrix of 1e-3\n",
      "\n",
      "Free T0VAR parameters as well as indvarying T0MEANS -- fixing T0VAR pars to diag matrix of 1e-3\n",
      "\n",
      "Computing quantities for 1000 samples...\n",
      "\n",
      "Warning message:\n",
      "\"\u001b[1m\u001b[22mUsing alpha for a discrete variable is not advised.\"\n",
      "Computing state estimates..\n",
      "\n",
      "Computing quantities for 1 samples...\n",
      "\n",
      "Computing state estimates..\n",
      "\n",
      "Computing quantities for 1 samples...\n",
      "\n",
      "Warning message:\n",
      "\"\u001b[1m\u001b[22mRemoved 30180 rows containing missing values (`geom_point()`).\"\n",
      "Warning message:\n",
      "\"\u001b[1m\u001b[22mRemoved 30180 rows containing missing values (`geom_point()`).\"\n",
      "Warning message:\n",
      "\"\u001b[1m\u001b[22mRemoved 10060 rows containing missing values (`geom_point()`).\"\n",
      "Warning message:\n",
      "\"\u001b[1m\u001b[22mRemoved 10060 rows containing missing values (`geom_point()`).\"\n",
      "Computing temporal regression coefficients for 100 samples, may take a moment...\n",
      "\n",
      "Computing temporal regression coefficients for 100 samples, may take a moment...\n",
      "\n"
     ]
    }
   ],
   "source": [
    "set.seed(0)\n",
    "# if no warning then do: \n",
    "fit_mvtha = ctStanFit(datalong=data_mvtha, ctstanmodel=model_fit, verbose=0, cores=cores_, nopriors=FALSE, #maybe TRUE when optimize ML\n",
    "                      iter=iter_, chains=chains_, optimize=bool_optimize)#, optimcontrol = list(nsubsets=1)#, derrind) #nlcontrol=list(maxtimestep=10)\n",
    "#Individual variation in T0VAR parameters not possible: as we have no variation at T0\n",
    "ctsem:::ctSummarise(fit_mvtha, folder=file.path(path_save_,name), cores=cores_, ctStanPlotPost=F, nsamples=1000)\n",
    "#\"diag(.) had 0 or NA entries; non-finite result is doubtful\": TODO: var in diffusiocov are set to 0... so maybe its normal?"
   ]
  },
  {
   "cell_type": "code",
   "execution_count": 16,
   "id": "cf558459",
   "metadata": {},
   "outputs": [
    {
     "data": {
      "text/html": [
       "<dl>\n",
       "\t<dt>$residCovStd</dt>\n",
       "\t\t<dd><table class=\"dataframe\">\n",
       "<caption>A data.frame: 2 × 2</caption>\n",
       "<thead>\n",
       "\t<tr><th></th><th scope=col>severity</th><th scope=col>zonecrossed2transition</th></tr>\n",
       "\t<tr><th></th><th scope=col>&lt;dbl&gt;</th><th scope=col>&lt;dbl&gt;</th></tr>\n",
       "</thead>\n",
       "<tbody>\n",
       "\t<tr><th scope=row>severity</th><td>0.239</td><td>0.040</td></tr>\n",
       "\t<tr><th scope=row>zonecrossed2transition</th><td>0.040</td><td>0.476</td></tr>\n",
       "</tbody>\n",
       "</table>\n",
       "</dd>\n",
       "\t<dt>$resiCovStdNote</dt>\n",
       "\t\t<dd>'Standardised covariance of residuals'</dd>\n",
       "\t<dt>$rawpopcorr</dt>\n",
       "\t\t<dd><table class=\"dataframe\">\n",
       "<caption>A data.frame: 6 × 6</caption>\n",
       "<thead>\n",
       "\t<tr><th></th><th scope=col>mean</th><th scope=col>sd</th><th scope=col>2.5%</th><th scope=col>50%</th><th scope=col>97.5%</th><th scope=col>z</th></tr>\n",
       "\t<tr><th></th><th scope=col>&lt;dbl&gt;</th><th scope=col>&lt;dbl&gt;</th><th scope=col>&lt;dbl&gt;</th><th scope=col>&lt;dbl&gt;</th><th scope=col>&lt;dbl&gt;</th><th scope=col>&lt;dbl&gt;</th></tr>\n",
       "</thead>\n",
       "<tbody>\n",
       "\t<tr><th scope=row>T0m_BHV__T0m_KBF</th><td> 0.2890</td><td>0.2926</td><td>-0.3178</td><td> 0.3248</td><td>0.7512</td><td> 0.9875</td></tr>\n",
       "\t<tr><th scope=row>T0m_cintKBF__T0m_KBF</th><td> 0.1460</td><td>0.2294</td><td>-0.3087</td><td> 0.1502</td><td>0.5670</td><td> 0.6364</td></tr>\n",
       "\t<tr><th scope=row>T0m_cintBHV__T0m_KBF</th><td> 0.0905</td><td>0.1954</td><td>-0.2896</td><td> 0.0890</td><td>0.4722</td><td> 0.4630</td></tr>\n",
       "\t<tr><th scope=row>T0m_cintKBF__T0m_BHV</th><td>-0.3399</td><td>0.3152</td><td>-0.8225</td><td>-0.3768</td><td>0.3731</td><td>-1.0784</td></tr>\n",
       "\t<tr><th scope=row>T0m_cintBHV__T0m_BHV</th><td>-0.0739</td><td>0.2494</td><td>-0.5185</td><td>-0.0791</td><td>0.4039</td><td>-0.2963</td></tr>\n",
       "\t<tr><th scope=row>T0m_cintBHV__T0m_cintKBF</th><td> 0.4726</td><td>0.1541</td><td> 0.1457</td><td> 0.4863</td><td>0.7281</td><td> 3.0656</td></tr>\n",
       "</tbody>\n",
       "</table>\n",
       "</dd>\n",
       "\t<dt>$priorcheck_note</dt>\n",
       "\t\t<dd>'The following posteriors exceeded arbitrary limits re normal(0,1) -- priors / transforms are likely somewhat informative. Not necessarily a problem.'</dd>\n",
       "\t<dt>$priorcheck</dt>\n",
       "\t\t<dd><table class=\"dataframe\">\n",
       "<caption>A data.frame: 1 × 2</caption>\n",
       "<thead>\n",
       "\t<tr><th></th><th scope=col>mean</th><th scope=col>sd</th></tr>\n",
       "\t<tr><th></th><th scope=col>&lt;dbl&gt;</th><th scope=col>&lt;dbl&gt;</th></tr>\n",
       "</thead>\n",
       "<tbody>\n",
       "\t<tr><th scope=row>rawpopsdbase_2</th><td>-1.57</td><td>0.22</td></tr>\n",
       "</tbody>\n",
       "</table>\n",
       "</dd>\n",
       "\t<dt>$parmatrices</dt>\n",
       "\t\t<dd><table class=\"dataframe\">\n",
       "<caption>A data.frame: 216 × 8</caption>\n",
       "<thead>\n",
       "\t<tr><th></th><th scope=col>matrix</th><th scope=col>row</th><th scope=col>col</th><th scope=col>Mean</th><th scope=col>sd</th><th scope=col>2.5%</th><th scope=col>50%</th><th scope=col>97.5%</th></tr>\n",
       "\t<tr><th></th><th scope=col>&lt;chr&gt;</th><th scope=col>&lt;int&gt;</th><th scope=col>&lt;int&gt;</th><th scope=col>&lt;dbl&gt;</th><th scope=col>&lt;dbl&gt;</th><th scope=col>&lt;dbl&gt;</th><th scope=col>&lt;dbl&gt;</th><th scope=col>&lt;dbl&gt;</th></tr>\n",
       "</thead>\n",
       "<tbody>\n",
       "\t<tr><th scope=row>1</th><td>T0MEANS</td><td>1</td><td>1</td><td>-1.2775</td><td>0.0526</td><td>-1.3767</td><td>-1.2787</td><td>-1.1711</td></tr>\n",
       "\t<tr><th scope=row>2</th><td>T0MEANS</td><td>2</td><td>1</td><td>-0.2952</td><td>0.0471</td><td>-0.3871</td><td>-0.2949</td><td>-0.2084</td></tr>\n",
       "\t<tr><th scope=row>3</th><td>T0MEANS</td><td>3</td><td>1</td><td> 0.2657</td><td>0.0247</td><td> 0.2162</td><td> 0.2664</td><td> 0.3135</td></tr>\n",
       "\t<tr><th scope=row>4</th><td>T0MEANS</td><td>4</td><td>1</td><td> 0.0817</td><td>0.1127</td><td>-0.1428</td><td> 0.0803</td><td> 0.3143</td></tr>\n",
       "\t<tr><th scope=row>5</th><td>T0MEANS</td><td>5</td><td>1</td><td> 0.0000</td><td>0.0000</td><td> 0.0000</td><td> 0.0000</td><td> 0.0000</td></tr>\n",
       "\t<tr><th scope=row>6</th><td>T0MEANS</td><td>6</td><td>1</td><td> 0.0000</td><td>0.0000</td><td> 0.0000</td><td> 0.0000</td><td> 0.0000</td></tr>\n",
       "\t<tr><th scope=row>7</th><td>LAMBDA </td><td>1</td><td>1</td><td> 1.0000</td><td>0.0000</td><td> 1.0000</td><td> 1.0000</td><td> 1.0000</td></tr>\n",
       "\t<tr><th scope=row>8</th><td>LAMBDA </td><td>1</td><td>2</td><td> 0.0000</td><td>0.0000</td><td> 0.0000</td><td> 0.0000</td><td> 0.0000</td></tr>\n",
       "\t<tr><th scope=row>9</th><td>LAMBDA </td><td>1</td><td>3</td><td> 0.0000</td><td>0.0000</td><td> 0.0000</td><td> 0.0000</td><td> 0.0000</td></tr>\n",
       "\t<tr><th scope=row>10</th><td>LAMBDA </td><td>1</td><td>4</td><td> 0.0000</td><td>0.0000</td><td> 0.0000</td><td> 0.0000</td><td> 0.0000</td></tr>\n",
       "\t<tr><th scope=row>11</th><td>LAMBDA </td><td>1</td><td>5</td><td> 1.0000</td><td>0.0000</td><td> 1.0000</td><td> 1.0000</td><td> 1.0000</td></tr>\n",
       "\t<tr><th scope=row>12</th><td>LAMBDA </td><td>1</td><td>6</td><td> 0.0000</td><td>0.0000</td><td> 0.0000</td><td> 0.0000</td><td> 0.0000</td></tr>\n",
       "\t<tr><th scope=row>13</th><td>LAMBDA </td><td>2</td><td>1</td><td> 0.0000</td><td>0.0000</td><td> 0.0000</td><td> 0.0000</td><td> 0.0000</td></tr>\n",
       "\t<tr><th scope=row>14</th><td>LAMBDA </td><td>2</td><td>2</td><td> 1.0000</td><td>0.0000</td><td> 1.0000</td><td> 1.0000</td><td> 1.0000</td></tr>\n",
       "\t<tr><th scope=row>15</th><td>LAMBDA </td><td>2</td><td>3</td><td> 0.0000</td><td>0.0000</td><td> 0.0000</td><td> 0.0000</td><td> 0.0000</td></tr>\n",
       "\t<tr><th scope=row>16</th><td>LAMBDA </td><td>2</td><td>4</td><td> 0.0000</td><td>0.0000</td><td> 0.0000</td><td> 0.0000</td><td> 0.0000</td></tr>\n",
       "\t<tr><th scope=row>17</th><td>LAMBDA </td><td>2</td><td>5</td><td> 0.0000</td><td>0.0000</td><td> 0.0000</td><td> 0.0000</td><td> 0.0000</td></tr>\n",
       "\t<tr><th scope=row>18</th><td>LAMBDA </td><td>2</td><td>6</td><td> 1.0000</td><td>0.0000</td><td> 1.0000</td><td> 1.0000</td><td> 1.0000</td></tr>\n",
       "\t<tr><th scope=row>19</th><td>DRIFT  </td><td>1</td><td>1</td><td>-0.2108</td><td>0.0310</td><td>-0.2737</td><td>-0.2089</td><td>-0.1545</td></tr>\n",
       "\t<tr><th scope=row>20</th><td>DRIFT  </td><td>1</td><td>2</td><td> 0.0000</td><td>0.0000</td><td> 0.0000</td><td> 0.0000</td><td> 0.0000</td></tr>\n",
       "\t<tr><th scope=row>21</th><td>DRIFT  </td><td>1</td><td>3</td><td> 1.0000</td><td>0.0000</td><td> 1.0000</td><td> 1.0000</td><td> 1.0000</td></tr>\n",
       "\t<tr><th scope=row>22</th><td>DRIFT  </td><td>1</td><td>4</td><td> 0.0000</td><td>0.0000</td><td> 0.0000</td><td> 0.0000</td><td> 0.0000</td></tr>\n",
       "\t<tr><th scope=row>23</th><td>DRIFT  </td><td>1</td><td>5</td><td> 0.0000</td><td>0.0000</td><td> 0.0000</td><td> 0.0000</td><td> 0.0000</td></tr>\n",
       "\t<tr><th scope=row>24</th><td>DRIFT  </td><td>1</td><td>6</td><td> 0.0000</td><td>0.0000</td><td> 0.0000</td><td> 0.0000</td><td> 0.0000</td></tr>\n",
       "\t<tr><th scope=row>25</th><td>DRIFT  </td><td>2</td><td>1</td><td> 0.0000</td><td>0.0000</td><td> 0.0000</td><td> 0.0000</td><td> 0.0000</td></tr>\n",
       "\t<tr><th scope=row>26</th><td>DRIFT  </td><td>2</td><td>2</td><td>-0.9023</td><td>0.1559</td><td>-1.2232</td><td>-0.8929</td><td>-0.6184</td></tr>\n",
       "\t<tr><th scope=row>27</th><td>DRIFT  </td><td>2</td><td>3</td><td> 0.0000</td><td>0.0000</td><td> 0.0000</td><td> 0.0000</td><td> 0.0000</td></tr>\n",
       "\t<tr><th scope=row>28</th><td>DRIFT  </td><td>2</td><td>4</td><td> 1.0000</td><td>0.0000</td><td> 1.0000</td><td> 1.0000</td><td> 1.0000</td></tr>\n",
       "\t<tr><th scope=row>29</th><td>DRIFT  </td><td>2</td><td>5</td><td> 0.0000</td><td>0.0000</td><td> 0.0000</td><td> 0.0000</td><td> 0.0000</td></tr>\n",
       "\t<tr><th scope=row>30</th><td>DRIFT  </td><td>2</td><td>6</td><td> 0.0000</td><td>0.0000</td><td> 0.0000</td><td> 0.0000</td><td> 0.0000</td></tr>\n",
       "\t<tr><th scope=row>...</th><td>...</td><td>...</td><td>...</td><td>...</td><td>...</td><td>...</td><td>...</td><td>...</td></tr>\n",
       "\t<tr><th scope=row>259</th><td>dtDRIFT</td><td>2</td><td>1</td><td>0.0000</td><td>0.0000</td><td> 0.0000</td><td>0.0000</td><td>0.0000</td></tr>\n",
       "\t<tr><th scope=row>260</th><td>dtDRIFT</td><td>2</td><td>2</td><td>0.4105</td><td>0.0633</td><td> 0.2943</td><td>0.4095</td><td>0.5388</td></tr>\n",
       "\t<tr><th scope=row>261</th><td>dtDRIFT</td><td>2</td><td>3</td><td>0.0000</td><td>0.0000</td><td> 0.0000</td><td>0.0000</td><td>0.0000</td></tr>\n",
       "\t<tr><th scope=row>262</th><td>dtDRIFT</td><td>2</td><td>4</td><td>0.6608</td><td>0.0436</td><td> 0.5769</td><td>0.6614</td><td>0.7458</td></tr>\n",
       "\t<tr><th scope=row>263</th><td>dtDRIFT</td><td>2</td><td>5</td><td>0.0000</td><td>0.0000</td><td> 0.0000</td><td>0.0000</td><td>0.0000</td></tr>\n",
       "\t<tr><th scope=row>264</th><td>dtDRIFT</td><td>2</td><td>6</td><td>0.0000</td><td>0.0000</td><td> 0.0000</td><td>0.0000</td><td>0.0000</td></tr>\n",
       "\t<tr><th scope=row>265</th><td>dtDRIFT</td><td>3</td><td>1</td><td>0.0000</td><td>0.0000</td><td> 0.0000</td><td>0.0000</td><td>0.0000</td></tr>\n",
       "\t<tr><th scope=row>266</th><td>dtDRIFT</td><td>3</td><td>2</td><td>0.0000</td><td>0.0000</td><td> 0.0000</td><td>0.0000</td><td>0.0000</td></tr>\n",
       "\t<tr><th scope=row>267</th><td>dtDRIFT</td><td>3</td><td>3</td><td>1.0000</td><td>0.0000</td><td> 1.0000</td><td>1.0000</td><td>1.0000</td></tr>\n",
       "\t<tr><th scope=row>268</th><td>dtDRIFT</td><td>3</td><td>4</td><td>0.0000</td><td>0.0000</td><td> 0.0000</td><td>0.0000</td><td>0.0000</td></tr>\n",
       "\t<tr><th scope=row>269</th><td>dtDRIFT</td><td>3</td><td>5</td><td>0.0000</td><td>0.0000</td><td> 0.0000</td><td>0.0000</td><td>0.0000</td></tr>\n",
       "\t<tr><th scope=row>270</th><td>dtDRIFT</td><td>3</td><td>6</td><td>0.0000</td><td>0.0000</td><td> 0.0000</td><td>0.0000</td><td>0.0000</td></tr>\n",
       "\t<tr><th scope=row>271</th><td>dtDRIFT</td><td>4</td><td>1</td><td>0.0000</td><td>0.0000</td><td> 0.0000</td><td>0.0000</td><td>0.0000</td></tr>\n",
       "\t<tr><th scope=row>272</th><td>dtDRIFT</td><td>4</td><td>2</td><td>0.0000</td><td>0.0000</td><td> 0.0000</td><td>0.0000</td><td>0.0000</td></tr>\n",
       "\t<tr><th scope=row>273</th><td>dtDRIFT</td><td>4</td><td>3</td><td>0.0000</td><td>0.0000</td><td> 0.0000</td><td>0.0000</td><td>0.0000</td></tr>\n",
       "\t<tr><th scope=row>274</th><td>dtDRIFT</td><td>4</td><td>4</td><td>1.0000</td><td>0.0000</td><td> 1.0000</td><td>1.0000</td><td>1.0000</td></tr>\n",
       "\t<tr><th scope=row>275</th><td>dtDRIFT</td><td>4</td><td>5</td><td>0.0000</td><td>0.0000</td><td> 0.0000</td><td>0.0000</td><td>0.0000</td></tr>\n",
       "\t<tr><th scope=row>276</th><td>dtDRIFT</td><td>4</td><td>6</td><td>0.0000</td><td>0.0000</td><td> 0.0000</td><td>0.0000</td><td>0.0000</td></tr>\n",
       "\t<tr><th scope=row>277</th><td>dtDRIFT</td><td>5</td><td>1</td><td>0.0000</td><td>0.0000</td><td> 0.0000</td><td>0.0000</td><td>0.0000</td></tr>\n",
       "\t<tr><th scope=row>278</th><td>dtDRIFT</td><td>5</td><td>2</td><td>0.0000</td><td>0.0000</td><td> 0.0000</td><td>0.0000</td><td>0.0000</td></tr>\n",
       "\t<tr><th scope=row>279</th><td>dtDRIFT</td><td>5</td><td>3</td><td>0.0000</td><td>0.0000</td><td> 0.0000</td><td>0.0000</td><td>0.0000</td></tr>\n",
       "\t<tr><th scope=row>280</th><td>dtDRIFT</td><td>5</td><td>4</td><td>0.0000</td><td>0.0000</td><td> 0.0000</td><td>0.0000</td><td>0.0000</td></tr>\n",
       "\t<tr><th scope=row>281</th><td>dtDRIFT</td><td>5</td><td>5</td><td>0.6040</td><td>0.0918</td><td> 0.4136</td><td>0.6095</td><td>0.7656</td></tr>\n",
       "\t<tr><th scope=row>282</th><td>dtDRIFT</td><td>5</td><td>6</td><td>0.0326</td><td>0.0455</td><td>-0.0610</td><td>0.0338</td><td>0.1218</td></tr>\n",
       "\t<tr><th scope=row>283</th><td>dtDRIFT</td><td>6</td><td>1</td><td>0.0000</td><td>0.0000</td><td> 0.0000</td><td>0.0000</td><td>0.0000</td></tr>\n",
       "\t<tr><th scope=row>284</th><td>dtDRIFT</td><td>6</td><td>2</td><td>0.0000</td><td>0.0000</td><td> 0.0000</td><td>0.0000</td><td>0.0000</td></tr>\n",
       "\t<tr><th scope=row>285</th><td>dtDRIFT</td><td>6</td><td>3</td><td>0.0000</td><td>0.0000</td><td> 0.0000</td><td>0.0000</td><td>0.0000</td></tr>\n",
       "\t<tr><th scope=row>286</th><td>dtDRIFT</td><td>6</td><td>4</td><td>0.0000</td><td>0.0000</td><td> 0.0000</td><td>0.0000</td><td>0.0000</td></tr>\n",
       "\t<tr><th scope=row>287</th><td>dtDRIFT</td><td>6</td><td>5</td><td>0.1564</td><td>0.0847</td><td>-0.0199</td><td>0.1577</td><td>0.3223</td></tr>\n",
       "\t<tr><th scope=row>288</th><td>dtDRIFT</td><td>6</td><td>6</td><td>0.3715</td><td>0.0651</td><td> 0.2463</td><td>0.3716</td><td>0.5005</td></tr>\n",
       "</tbody>\n",
       "</table>\n",
       "</dd>\n",
       "\t<dt>$popsd</dt>\n",
       "\t\t<dd><table class=\"dataframe\">\n",
       "<caption>A data.frame: 4 × 5</caption>\n",
       "<thead>\n",
       "\t<tr><th></th><th scope=col>mean</th><th scope=col>sd</th><th scope=col>2.5%</th><th scope=col>50%</th><th scope=col>97.5%</th></tr>\n",
       "\t<tr><th></th><th scope=col>&lt;dbl&gt;</th><th scope=col>&lt;dbl&gt;</th><th scope=col>&lt;dbl&gt;</th><th scope=col>&lt;dbl&gt;</th><th scope=col>&lt;dbl&gt;</th></tr>\n",
       "</thead>\n",
       "<tbody>\n",
       "\t<tr><th scope=row>T0m_KBF</th><td>0.2229</td><td>0.0505</td><td>0.1402</td><td>0.2176</td><td>0.3405</td></tr>\n",
       "\t<tr><th scope=row>T0m_BHV</th><td>0.1735</td><td>0.0804</td><td>0.0697</td><td>0.1590</td><td>0.3706</td></tr>\n",
       "\t<tr><th scope=row>T0m_cintKBF</th><td>0.1516</td><td>0.0323</td><td>0.0940</td><td>0.1487</td><td>0.2249</td></tr>\n",
       "\t<tr><th scope=row>T0m_cintBHV</th><td>0.8275</td><td>0.1451</td><td>0.5681</td><td>0.8190</td><td>1.1290</td></tr>\n",
       "</tbody>\n",
       "</table>\n",
       "</dd>\n",
       "\t<dt>$popmeans</dt>\n",
       "\t\t<dd><table class=\"dataframe\">\n",
       "<caption>A data.frame: 15 × 5</caption>\n",
       "<thead>\n",
       "\t<tr><th></th><th scope=col>mean</th><th scope=col>sd</th><th scope=col>2.5%</th><th scope=col>50%</th><th scope=col>97.5%</th></tr>\n",
       "\t<tr><th></th><th scope=col>&lt;dbl&gt;</th><th scope=col>&lt;dbl&gt;</th><th scope=col>&lt;dbl&gt;</th><th scope=col>&lt;dbl&gt;</th><th scope=col>&lt;dbl&gt;</th></tr>\n",
       "</thead>\n",
       "<tbody>\n",
       "\t<tr><th scope=row>T0m_KBF</th><td>-1.2775</td><td>0.0526</td><td>-1.3767</td><td>-1.2787</td><td>-1.1711</td></tr>\n",
       "\t<tr><th scope=row>T0m_BHV</th><td>-0.2952</td><td>0.0471</td><td>-0.3871</td><td>-0.2949</td><td>-0.2084</td></tr>\n",
       "\t<tr><th scope=row>T0m_cintKBF</th><td> 0.2657</td><td>0.0247</td><td> 0.2162</td><td> 0.2664</td><td> 0.3135</td></tr>\n",
       "\t<tr><th scope=row>T0m_cintBHV</th><td> 0.0817</td><td>0.1127</td><td>-0.1428</td><td> 0.0803</td><td> 0.3143</td></tr>\n",
       "\t<tr><th scope=row>drift_KBF</th><td>-0.2108</td><td>0.0310</td><td>-0.2737</td><td>-0.2089</td><td>-0.1545</td></tr>\n",
       "\t<tr><th scope=row>drift_BHV</th><td>-0.9023</td><td>0.1559</td><td>-1.2232</td><td>-0.8929</td><td>-0.6184</td></tr>\n",
       "\t<tr><th scope=row>drift_dynKBF</th><td>-0.5287</td><td>0.1622</td><td>-0.8971</td><td>-0.5082</td><td>-0.2726</td></tr>\n",
       "\t<tr><th scope=row>drift_dynKBF_dynBHV</th><td> 0.0707</td><td>0.0958</td><td>-0.1243</td><td> 0.0736</td><td> 0.2594</td></tr>\n",
       "\t<tr><th scope=row>drift_dynBHV_dynKBF</th><td> 0.3366</td><td>0.1833</td><td>-0.0359</td><td> 0.3367</td><td> 0.6809</td></tr>\n",
       "\t<tr><th scope=row>drift_dynBHV</th><td>-1.0231</td><td>0.1841</td><td>-1.4253</td><td>-1.0114</td><td>-0.7070</td></tr>\n",
       "\t<tr><th scope=row>diffu_dynKBF</th><td> 0.5378</td><td>0.0607</td><td> 0.4328</td><td> 0.5341</td><td> 0.6682</td></tr>\n",
       "\t<tr><th scope=row>diffu_dynBHV_dynKBF</th><td>-0.0152</td><td>0.0426</td><td>-0.0980</td><td>-0.0151</td><td> 0.0652</td></tr>\n",
       "\t<tr><th scope=row>diffu_dynBHV</th><td> 0.9268</td><td>0.0748</td><td> 0.7892</td><td> 0.9246</td><td> 1.0746</td></tr>\n",
       "\t<tr><th scope=row>mvarseverity</th><td> 0.2171</td><td>0.0451</td><td> 0.1399</td><td> 0.2135</td><td> 0.3159</td></tr>\n",
       "\t<tr><th scope=row>mvarzonecrossed2transition</th><td> 0.1883</td><td>0.0666</td><td> 0.0876</td><td> 0.1771</td><td> 0.3449</td></tr>\n",
       "</tbody>\n",
       "</table>\n",
       "</dd>\n",
       "\t<dt>$popNote</dt>\n",
       "\t\t<dd>'popmeans are reported as specified in ctModel -- covariance related matrices are in sd / unconstrained correlation form -- see $parmatrices for simpler interpretations!'</dd>\n",
       "\t<dt>$loglik</dt>\n",
       "\t\t<dd>-1005.74854203044</dd>\n",
       "\t<dt>$npars</dt>\n",
       "\t\t<dd>25</dd>\n",
       "\t<dt>$aic</dt>\n",
       "\t\t<dd>2061.49708406087</dd>\n",
       "\t<dt>$logposterior</dt>\n",
       "\t\t<dd>-1038.20166850526</dd>\n",
       "</dl>\n"
      ],
      "text/latex": [
       "\\begin{description}\n",
       "\\item[\\$residCovStd] A data.frame: 2 × 2\n",
       "\\begin{tabular}{r|ll}\n",
       "  & severity & zonecrossed2transition\\\\\n",
       "  & <dbl> & <dbl>\\\\\n",
       "\\hline\n",
       "\tseverity & 0.239 & 0.040\\\\\n",
       "\tzonecrossed2transition & 0.040 & 0.476\\\\\n",
       "\\end{tabular}\n",
       "\n",
       "\\item[\\$resiCovStdNote] 'Standardised covariance of residuals'\n",
       "\\item[\\$rawpopcorr] A data.frame: 6 × 6\n",
       "\\begin{tabular}{r|llllll}\n",
       "  & mean & sd & 2.5\\% & 50\\% & 97.5\\% & z\\\\\n",
       "  & <dbl> & <dbl> & <dbl> & <dbl> & <dbl> & <dbl>\\\\\n",
       "\\hline\n",
       "\tT0m\\_BHV\\_\\_T0m\\_KBF &  0.2890 & 0.2926 & -0.3178 &  0.3248 & 0.7512 &  0.9875\\\\\n",
       "\tT0m\\_cintKBF\\_\\_T0m\\_KBF &  0.1460 & 0.2294 & -0.3087 &  0.1502 & 0.5670 &  0.6364\\\\\n",
       "\tT0m\\_cintBHV\\_\\_T0m\\_KBF &  0.0905 & 0.1954 & -0.2896 &  0.0890 & 0.4722 &  0.4630\\\\\n",
       "\tT0m\\_cintKBF\\_\\_T0m\\_BHV & -0.3399 & 0.3152 & -0.8225 & -0.3768 & 0.3731 & -1.0784\\\\\n",
       "\tT0m\\_cintBHV\\_\\_T0m\\_BHV & -0.0739 & 0.2494 & -0.5185 & -0.0791 & 0.4039 & -0.2963\\\\\n",
       "\tT0m\\_cintBHV\\_\\_T0m\\_cintKBF &  0.4726 & 0.1541 &  0.1457 &  0.4863 & 0.7281 &  3.0656\\\\\n",
       "\\end{tabular}\n",
       "\n",
       "\\item[\\$priorcheck\\_note] 'The following posteriors exceeded arbitrary limits re normal(0,1) -- priors / transforms are likely somewhat informative. Not necessarily a problem.'\n",
       "\\item[\\$priorcheck] A data.frame: 1 × 2\n",
       "\\begin{tabular}{r|ll}\n",
       "  & mean & sd\\\\\n",
       "  & <dbl> & <dbl>\\\\\n",
       "\\hline\n",
       "\trawpopsdbase\\_2 & -1.57 & 0.22\\\\\n",
       "\\end{tabular}\n",
       "\n",
       "\\item[\\$parmatrices] A data.frame: 216 × 8\n",
       "\\begin{tabular}{r|llllllll}\n",
       "  & matrix & row & col & Mean & sd & 2.5\\% & 50\\% & 97.5\\%\\\\\n",
       "  & <chr> & <int> & <int> & <dbl> & <dbl> & <dbl> & <dbl> & <dbl>\\\\\n",
       "\\hline\n",
       "\t1 & T0MEANS & 1 & 1 & -1.2775 & 0.0526 & -1.3767 & -1.2787 & -1.1711\\\\\n",
       "\t2 & T0MEANS & 2 & 1 & -0.2952 & 0.0471 & -0.3871 & -0.2949 & -0.2084\\\\\n",
       "\t3 & T0MEANS & 3 & 1 &  0.2657 & 0.0247 &  0.2162 &  0.2664 &  0.3135\\\\\n",
       "\t4 & T0MEANS & 4 & 1 &  0.0817 & 0.1127 & -0.1428 &  0.0803 &  0.3143\\\\\n",
       "\t5 & T0MEANS & 5 & 1 &  0.0000 & 0.0000 &  0.0000 &  0.0000 &  0.0000\\\\\n",
       "\t6 & T0MEANS & 6 & 1 &  0.0000 & 0.0000 &  0.0000 &  0.0000 &  0.0000\\\\\n",
       "\t7 & LAMBDA  & 1 & 1 &  1.0000 & 0.0000 &  1.0000 &  1.0000 &  1.0000\\\\\n",
       "\t8 & LAMBDA  & 1 & 2 &  0.0000 & 0.0000 &  0.0000 &  0.0000 &  0.0000\\\\\n",
       "\t9 & LAMBDA  & 1 & 3 &  0.0000 & 0.0000 &  0.0000 &  0.0000 &  0.0000\\\\\n",
       "\t10 & LAMBDA  & 1 & 4 &  0.0000 & 0.0000 &  0.0000 &  0.0000 &  0.0000\\\\\n",
       "\t11 & LAMBDA  & 1 & 5 &  1.0000 & 0.0000 &  1.0000 &  1.0000 &  1.0000\\\\\n",
       "\t12 & LAMBDA  & 1 & 6 &  0.0000 & 0.0000 &  0.0000 &  0.0000 &  0.0000\\\\\n",
       "\t13 & LAMBDA  & 2 & 1 &  0.0000 & 0.0000 &  0.0000 &  0.0000 &  0.0000\\\\\n",
       "\t14 & LAMBDA  & 2 & 2 &  1.0000 & 0.0000 &  1.0000 &  1.0000 &  1.0000\\\\\n",
       "\t15 & LAMBDA  & 2 & 3 &  0.0000 & 0.0000 &  0.0000 &  0.0000 &  0.0000\\\\\n",
       "\t16 & LAMBDA  & 2 & 4 &  0.0000 & 0.0000 &  0.0000 &  0.0000 &  0.0000\\\\\n",
       "\t17 & LAMBDA  & 2 & 5 &  0.0000 & 0.0000 &  0.0000 &  0.0000 &  0.0000\\\\\n",
       "\t18 & LAMBDA  & 2 & 6 &  1.0000 & 0.0000 &  1.0000 &  1.0000 &  1.0000\\\\\n",
       "\t19 & DRIFT   & 1 & 1 & -0.2108 & 0.0310 & -0.2737 & -0.2089 & -0.1545\\\\\n",
       "\t20 & DRIFT   & 1 & 2 &  0.0000 & 0.0000 &  0.0000 &  0.0000 &  0.0000\\\\\n",
       "\t21 & DRIFT   & 1 & 3 &  1.0000 & 0.0000 &  1.0000 &  1.0000 &  1.0000\\\\\n",
       "\t22 & DRIFT   & 1 & 4 &  0.0000 & 0.0000 &  0.0000 &  0.0000 &  0.0000\\\\\n",
       "\t23 & DRIFT   & 1 & 5 &  0.0000 & 0.0000 &  0.0000 &  0.0000 &  0.0000\\\\\n",
       "\t24 & DRIFT   & 1 & 6 &  0.0000 & 0.0000 &  0.0000 &  0.0000 &  0.0000\\\\\n",
       "\t25 & DRIFT   & 2 & 1 &  0.0000 & 0.0000 &  0.0000 &  0.0000 &  0.0000\\\\\n",
       "\t26 & DRIFT   & 2 & 2 & -0.9023 & 0.1559 & -1.2232 & -0.8929 & -0.6184\\\\\n",
       "\t27 & DRIFT   & 2 & 3 &  0.0000 & 0.0000 &  0.0000 &  0.0000 &  0.0000\\\\\n",
       "\t28 & DRIFT   & 2 & 4 &  1.0000 & 0.0000 &  1.0000 &  1.0000 &  1.0000\\\\\n",
       "\t29 & DRIFT   & 2 & 5 &  0.0000 & 0.0000 &  0.0000 &  0.0000 &  0.0000\\\\\n",
       "\t30 & DRIFT   & 2 & 6 &  0.0000 & 0.0000 &  0.0000 &  0.0000 &  0.0000\\\\\n",
       "\t... & ... & ... & ... & ... & ... & ... & ... & ...\\\\\n",
       "\t259 & dtDRIFT & 2 & 1 & 0.0000 & 0.0000 &  0.0000 & 0.0000 & 0.0000\\\\\n",
       "\t260 & dtDRIFT & 2 & 2 & 0.4105 & 0.0633 &  0.2943 & 0.4095 & 0.5388\\\\\n",
       "\t261 & dtDRIFT & 2 & 3 & 0.0000 & 0.0000 &  0.0000 & 0.0000 & 0.0000\\\\\n",
       "\t262 & dtDRIFT & 2 & 4 & 0.6608 & 0.0436 &  0.5769 & 0.6614 & 0.7458\\\\\n",
       "\t263 & dtDRIFT & 2 & 5 & 0.0000 & 0.0000 &  0.0000 & 0.0000 & 0.0000\\\\\n",
       "\t264 & dtDRIFT & 2 & 6 & 0.0000 & 0.0000 &  0.0000 & 0.0000 & 0.0000\\\\\n",
       "\t265 & dtDRIFT & 3 & 1 & 0.0000 & 0.0000 &  0.0000 & 0.0000 & 0.0000\\\\\n",
       "\t266 & dtDRIFT & 3 & 2 & 0.0000 & 0.0000 &  0.0000 & 0.0000 & 0.0000\\\\\n",
       "\t267 & dtDRIFT & 3 & 3 & 1.0000 & 0.0000 &  1.0000 & 1.0000 & 1.0000\\\\\n",
       "\t268 & dtDRIFT & 3 & 4 & 0.0000 & 0.0000 &  0.0000 & 0.0000 & 0.0000\\\\\n",
       "\t269 & dtDRIFT & 3 & 5 & 0.0000 & 0.0000 &  0.0000 & 0.0000 & 0.0000\\\\\n",
       "\t270 & dtDRIFT & 3 & 6 & 0.0000 & 0.0000 &  0.0000 & 0.0000 & 0.0000\\\\\n",
       "\t271 & dtDRIFT & 4 & 1 & 0.0000 & 0.0000 &  0.0000 & 0.0000 & 0.0000\\\\\n",
       "\t272 & dtDRIFT & 4 & 2 & 0.0000 & 0.0000 &  0.0000 & 0.0000 & 0.0000\\\\\n",
       "\t273 & dtDRIFT & 4 & 3 & 0.0000 & 0.0000 &  0.0000 & 0.0000 & 0.0000\\\\\n",
       "\t274 & dtDRIFT & 4 & 4 & 1.0000 & 0.0000 &  1.0000 & 1.0000 & 1.0000\\\\\n",
       "\t275 & dtDRIFT & 4 & 5 & 0.0000 & 0.0000 &  0.0000 & 0.0000 & 0.0000\\\\\n",
       "\t276 & dtDRIFT & 4 & 6 & 0.0000 & 0.0000 &  0.0000 & 0.0000 & 0.0000\\\\\n",
       "\t277 & dtDRIFT & 5 & 1 & 0.0000 & 0.0000 &  0.0000 & 0.0000 & 0.0000\\\\\n",
       "\t278 & dtDRIFT & 5 & 2 & 0.0000 & 0.0000 &  0.0000 & 0.0000 & 0.0000\\\\\n",
       "\t279 & dtDRIFT & 5 & 3 & 0.0000 & 0.0000 &  0.0000 & 0.0000 & 0.0000\\\\\n",
       "\t280 & dtDRIFT & 5 & 4 & 0.0000 & 0.0000 &  0.0000 & 0.0000 & 0.0000\\\\\n",
       "\t281 & dtDRIFT & 5 & 5 & 0.6040 & 0.0918 &  0.4136 & 0.6095 & 0.7656\\\\\n",
       "\t282 & dtDRIFT & 5 & 6 & 0.0326 & 0.0455 & -0.0610 & 0.0338 & 0.1218\\\\\n",
       "\t283 & dtDRIFT & 6 & 1 & 0.0000 & 0.0000 &  0.0000 & 0.0000 & 0.0000\\\\\n",
       "\t284 & dtDRIFT & 6 & 2 & 0.0000 & 0.0000 &  0.0000 & 0.0000 & 0.0000\\\\\n",
       "\t285 & dtDRIFT & 6 & 3 & 0.0000 & 0.0000 &  0.0000 & 0.0000 & 0.0000\\\\\n",
       "\t286 & dtDRIFT & 6 & 4 & 0.0000 & 0.0000 &  0.0000 & 0.0000 & 0.0000\\\\\n",
       "\t287 & dtDRIFT & 6 & 5 & 0.1564 & 0.0847 & -0.0199 & 0.1577 & 0.3223\\\\\n",
       "\t288 & dtDRIFT & 6 & 6 & 0.3715 & 0.0651 &  0.2463 & 0.3716 & 0.5005\\\\\n",
       "\\end{tabular}\n",
       "\n",
       "\\item[\\$popsd] A data.frame: 4 × 5\n",
       "\\begin{tabular}{r|lllll}\n",
       "  & mean & sd & 2.5\\% & 50\\% & 97.5\\%\\\\\n",
       "  & <dbl> & <dbl> & <dbl> & <dbl> & <dbl>\\\\\n",
       "\\hline\n",
       "\tT0m\\_KBF & 0.2229 & 0.0505 & 0.1402 & 0.2176 & 0.3405\\\\\n",
       "\tT0m\\_BHV & 0.1735 & 0.0804 & 0.0697 & 0.1590 & 0.3706\\\\\n",
       "\tT0m\\_cintKBF & 0.1516 & 0.0323 & 0.0940 & 0.1487 & 0.2249\\\\\n",
       "\tT0m\\_cintBHV & 0.8275 & 0.1451 & 0.5681 & 0.8190 & 1.1290\\\\\n",
       "\\end{tabular}\n",
       "\n",
       "\\item[\\$popmeans] A data.frame: 15 × 5\n",
       "\\begin{tabular}{r|lllll}\n",
       "  & mean & sd & 2.5\\% & 50\\% & 97.5\\%\\\\\n",
       "  & <dbl> & <dbl> & <dbl> & <dbl> & <dbl>\\\\\n",
       "\\hline\n",
       "\tT0m\\_KBF & -1.2775 & 0.0526 & -1.3767 & -1.2787 & -1.1711\\\\\n",
       "\tT0m\\_BHV & -0.2952 & 0.0471 & -0.3871 & -0.2949 & -0.2084\\\\\n",
       "\tT0m\\_cintKBF &  0.2657 & 0.0247 &  0.2162 &  0.2664 &  0.3135\\\\\n",
       "\tT0m\\_cintBHV &  0.0817 & 0.1127 & -0.1428 &  0.0803 &  0.3143\\\\\n",
       "\tdrift\\_KBF & -0.2108 & 0.0310 & -0.2737 & -0.2089 & -0.1545\\\\\n",
       "\tdrift\\_BHV & -0.9023 & 0.1559 & -1.2232 & -0.8929 & -0.6184\\\\\n",
       "\tdrift\\_dynKBF & -0.5287 & 0.1622 & -0.8971 & -0.5082 & -0.2726\\\\\n",
       "\tdrift\\_dynKBF\\_dynBHV &  0.0707 & 0.0958 & -0.1243 &  0.0736 &  0.2594\\\\\n",
       "\tdrift\\_dynBHV\\_dynKBF &  0.3366 & 0.1833 & -0.0359 &  0.3367 &  0.6809\\\\\n",
       "\tdrift\\_dynBHV & -1.0231 & 0.1841 & -1.4253 & -1.0114 & -0.7070\\\\\n",
       "\tdiffu\\_dynKBF &  0.5378 & 0.0607 &  0.4328 &  0.5341 &  0.6682\\\\\n",
       "\tdiffu\\_dynBHV\\_dynKBF & -0.0152 & 0.0426 & -0.0980 & -0.0151 &  0.0652\\\\\n",
       "\tdiffu\\_dynBHV &  0.9268 & 0.0748 &  0.7892 &  0.9246 &  1.0746\\\\\n",
       "\tmvarseverity &  0.2171 & 0.0451 &  0.1399 &  0.2135 &  0.3159\\\\\n",
       "\tmvarzonecrossed2transition &  0.1883 & 0.0666 &  0.0876 &  0.1771 &  0.3449\\\\\n",
       "\\end{tabular}\n",
       "\n",
       "\\item[\\$popNote] 'popmeans are reported as specified in ctModel -- covariance related matrices are in sd / unconstrained correlation form -- see \\$parmatrices for simpler interpretations!'\n",
       "\\item[\\$loglik] -1005.74854203044\n",
       "\\item[\\$npars] 25\n",
       "\\item[\\$aic] 2061.49708406087\n",
       "\\item[\\$logposterior] -1038.20166850526\n",
       "\\end{description}\n"
      ],
      "text/markdown": [
       "$residCovStd\n",
       ":   \n",
       "A data.frame: 2 × 2\n",
       "\n",
       "| <!--/--> | severity &lt;dbl&gt; | zonecrossed2transition &lt;dbl&gt; |\n",
       "|---|---|---|\n",
       "| severity | 0.239 | 0.040 |\n",
       "| zonecrossed2transition | 0.040 | 0.476 |\n",
       "\n",
       "\n",
       "$resiCovStdNote\n",
       ":   'Standardised covariance of residuals'\n",
       "$rawpopcorr\n",
       ":   \n",
       "A data.frame: 6 × 6\n",
       "\n",
       "| <!--/--> | mean &lt;dbl&gt; | sd &lt;dbl&gt; | 2.5% &lt;dbl&gt; | 50% &lt;dbl&gt; | 97.5% &lt;dbl&gt; | z &lt;dbl&gt; |\n",
       "|---|---|---|---|---|---|---|\n",
       "| T0m_BHV__T0m_KBF |  0.2890 | 0.2926 | -0.3178 |  0.3248 | 0.7512 |  0.9875 |\n",
       "| T0m_cintKBF__T0m_KBF |  0.1460 | 0.2294 | -0.3087 |  0.1502 | 0.5670 |  0.6364 |\n",
       "| T0m_cintBHV__T0m_KBF |  0.0905 | 0.1954 | -0.2896 |  0.0890 | 0.4722 |  0.4630 |\n",
       "| T0m_cintKBF__T0m_BHV | -0.3399 | 0.3152 | -0.8225 | -0.3768 | 0.3731 | -1.0784 |\n",
       "| T0m_cintBHV__T0m_BHV | -0.0739 | 0.2494 | -0.5185 | -0.0791 | 0.4039 | -0.2963 |\n",
       "| T0m_cintBHV__T0m_cintKBF |  0.4726 | 0.1541 |  0.1457 |  0.4863 | 0.7281 |  3.0656 |\n",
       "\n",
       "\n",
       "$priorcheck_note\n",
       ":   'The following posteriors exceeded arbitrary limits re normal(0,1) -- priors / transforms are likely somewhat informative. Not necessarily a problem.'\n",
       "$priorcheck\n",
       ":   \n",
       "A data.frame: 1 × 2\n",
       "\n",
       "| <!--/--> | mean &lt;dbl&gt; | sd &lt;dbl&gt; |\n",
       "|---|---|---|\n",
       "| rawpopsdbase_2 | -1.57 | 0.22 |\n",
       "\n",
       "\n",
       "$parmatrices\n",
       ":   \n",
       "A data.frame: 216 × 8\n",
       "\n",
       "| <!--/--> | matrix &lt;chr&gt; | row &lt;int&gt; | col &lt;int&gt; | Mean &lt;dbl&gt; | sd &lt;dbl&gt; | 2.5% &lt;dbl&gt; | 50% &lt;dbl&gt; | 97.5% &lt;dbl&gt; |\n",
       "|---|---|---|---|---|---|---|---|---|\n",
       "| 1 | T0MEANS | 1 | 1 | -1.2775 | 0.0526 | -1.3767 | -1.2787 | -1.1711 |\n",
       "| 2 | T0MEANS | 2 | 1 | -0.2952 | 0.0471 | -0.3871 | -0.2949 | -0.2084 |\n",
       "| 3 | T0MEANS | 3 | 1 |  0.2657 | 0.0247 |  0.2162 |  0.2664 |  0.3135 |\n",
       "| 4 | T0MEANS | 4 | 1 |  0.0817 | 0.1127 | -0.1428 |  0.0803 |  0.3143 |\n",
       "| 5 | T0MEANS | 5 | 1 |  0.0000 | 0.0000 |  0.0000 |  0.0000 |  0.0000 |\n",
       "| 6 | T0MEANS | 6 | 1 |  0.0000 | 0.0000 |  0.0000 |  0.0000 |  0.0000 |\n",
       "| 7 | LAMBDA  | 1 | 1 |  1.0000 | 0.0000 |  1.0000 |  1.0000 |  1.0000 |\n",
       "| 8 | LAMBDA  | 1 | 2 |  0.0000 | 0.0000 |  0.0000 |  0.0000 |  0.0000 |\n",
       "| 9 | LAMBDA  | 1 | 3 |  0.0000 | 0.0000 |  0.0000 |  0.0000 |  0.0000 |\n",
       "| 10 | LAMBDA  | 1 | 4 |  0.0000 | 0.0000 |  0.0000 |  0.0000 |  0.0000 |\n",
       "| 11 | LAMBDA  | 1 | 5 |  1.0000 | 0.0000 |  1.0000 |  1.0000 |  1.0000 |\n",
       "| 12 | LAMBDA  | 1 | 6 |  0.0000 | 0.0000 |  0.0000 |  0.0000 |  0.0000 |\n",
       "| 13 | LAMBDA  | 2 | 1 |  0.0000 | 0.0000 |  0.0000 |  0.0000 |  0.0000 |\n",
       "| 14 | LAMBDA  | 2 | 2 |  1.0000 | 0.0000 |  1.0000 |  1.0000 |  1.0000 |\n",
       "| 15 | LAMBDA  | 2 | 3 |  0.0000 | 0.0000 |  0.0000 |  0.0000 |  0.0000 |\n",
       "| 16 | LAMBDA  | 2 | 4 |  0.0000 | 0.0000 |  0.0000 |  0.0000 |  0.0000 |\n",
       "| 17 | LAMBDA  | 2 | 5 |  0.0000 | 0.0000 |  0.0000 |  0.0000 |  0.0000 |\n",
       "| 18 | LAMBDA  | 2 | 6 |  1.0000 | 0.0000 |  1.0000 |  1.0000 |  1.0000 |\n",
       "| 19 | DRIFT   | 1 | 1 | -0.2108 | 0.0310 | -0.2737 | -0.2089 | -0.1545 |\n",
       "| 20 | DRIFT   | 1 | 2 |  0.0000 | 0.0000 |  0.0000 |  0.0000 |  0.0000 |\n",
       "| 21 | DRIFT   | 1 | 3 |  1.0000 | 0.0000 |  1.0000 |  1.0000 |  1.0000 |\n",
       "| 22 | DRIFT   | 1 | 4 |  0.0000 | 0.0000 |  0.0000 |  0.0000 |  0.0000 |\n",
       "| 23 | DRIFT   | 1 | 5 |  0.0000 | 0.0000 |  0.0000 |  0.0000 |  0.0000 |\n",
       "| 24 | DRIFT   | 1 | 6 |  0.0000 | 0.0000 |  0.0000 |  0.0000 |  0.0000 |\n",
       "| 25 | DRIFT   | 2 | 1 |  0.0000 | 0.0000 |  0.0000 |  0.0000 |  0.0000 |\n",
       "| 26 | DRIFT   | 2 | 2 | -0.9023 | 0.1559 | -1.2232 | -0.8929 | -0.6184 |\n",
       "| 27 | DRIFT   | 2 | 3 |  0.0000 | 0.0000 |  0.0000 |  0.0000 |  0.0000 |\n",
       "| 28 | DRIFT   | 2 | 4 |  1.0000 | 0.0000 |  1.0000 |  1.0000 |  1.0000 |\n",
       "| 29 | DRIFT   | 2 | 5 |  0.0000 | 0.0000 |  0.0000 |  0.0000 |  0.0000 |\n",
       "| 30 | DRIFT   | 2 | 6 |  0.0000 | 0.0000 |  0.0000 |  0.0000 |  0.0000 |\n",
       "| ... | ... | ... | ... | ... | ... | ... | ... | ... |\n",
       "| 259 | dtDRIFT | 2 | 1 | 0.0000 | 0.0000 |  0.0000 | 0.0000 | 0.0000 |\n",
       "| 260 | dtDRIFT | 2 | 2 | 0.4105 | 0.0633 |  0.2943 | 0.4095 | 0.5388 |\n",
       "| 261 | dtDRIFT | 2 | 3 | 0.0000 | 0.0000 |  0.0000 | 0.0000 | 0.0000 |\n",
       "| 262 | dtDRIFT | 2 | 4 | 0.6608 | 0.0436 |  0.5769 | 0.6614 | 0.7458 |\n",
       "| 263 | dtDRIFT | 2 | 5 | 0.0000 | 0.0000 |  0.0000 | 0.0000 | 0.0000 |\n",
       "| 264 | dtDRIFT | 2 | 6 | 0.0000 | 0.0000 |  0.0000 | 0.0000 | 0.0000 |\n",
       "| 265 | dtDRIFT | 3 | 1 | 0.0000 | 0.0000 |  0.0000 | 0.0000 | 0.0000 |\n",
       "| 266 | dtDRIFT | 3 | 2 | 0.0000 | 0.0000 |  0.0000 | 0.0000 | 0.0000 |\n",
       "| 267 | dtDRIFT | 3 | 3 | 1.0000 | 0.0000 |  1.0000 | 1.0000 | 1.0000 |\n",
       "| 268 | dtDRIFT | 3 | 4 | 0.0000 | 0.0000 |  0.0000 | 0.0000 | 0.0000 |\n",
       "| 269 | dtDRIFT | 3 | 5 | 0.0000 | 0.0000 |  0.0000 | 0.0000 | 0.0000 |\n",
       "| 270 | dtDRIFT | 3 | 6 | 0.0000 | 0.0000 |  0.0000 | 0.0000 | 0.0000 |\n",
       "| 271 | dtDRIFT | 4 | 1 | 0.0000 | 0.0000 |  0.0000 | 0.0000 | 0.0000 |\n",
       "| 272 | dtDRIFT | 4 | 2 | 0.0000 | 0.0000 |  0.0000 | 0.0000 | 0.0000 |\n",
       "| 273 | dtDRIFT | 4 | 3 | 0.0000 | 0.0000 |  0.0000 | 0.0000 | 0.0000 |\n",
       "| 274 | dtDRIFT | 4 | 4 | 1.0000 | 0.0000 |  1.0000 | 1.0000 | 1.0000 |\n",
       "| 275 | dtDRIFT | 4 | 5 | 0.0000 | 0.0000 |  0.0000 | 0.0000 | 0.0000 |\n",
       "| 276 | dtDRIFT | 4 | 6 | 0.0000 | 0.0000 |  0.0000 | 0.0000 | 0.0000 |\n",
       "| 277 | dtDRIFT | 5 | 1 | 0.0000 | 0.0000 |  0.0000 | 0.0000 | 0.0000 |\n",
       "| 278 | dtDRIFT | 5 | 2 | 0.0000 | 0.0000 |  0.0000 | 0.0000 | 0.0000 |\n",
       "| 279 | dtDRIFT | 5 | 3 | 0.0000 | 0.0000 |  0.0000 | 0.0000 | 0.0000 |\n",
       "| 280 | dtDRIFT | 5 | 4 | 0.0000 | 0.0000 |  0.0000 | 0.0000 | 0.0000 |\n",
       "| 281 | dtDRIFT | 5 | 5 | 0.6040 | 0.0918 |  0.4136 | 0.6095 | 0.7656 |\n",
       "| 282 | dtDRIFT | 5 | 6 | 0.0326 | 0.0455 | -0.0610 | 0.0338 | 0.1218 |\n",
       "| 283 | dtDRIFT | 6 | 1 | 0.0000 | 0.0000 |  0.0000 | 0.0000 | 0.0000 |\n",
       "| 284 | dtDRIFT | 6 | 2 | 0.0000 | 0.0000 |  0.0000 | 0.0000 | 0.0000 |\n",
       "| 285 | dtDRIFT | 6 | 3 | 0.0000 | 0.0000 |  0.0000 | 0.0000 | 0.0000 |\n",
       "| 286 | dtDRIFT | 6 | 4 | 0.0000 | 0.0000 |  0.0000 | 0.0000 | 0.0000 |\n",
       "| 287 | dtDRIFT | 6 | 5 | 0.1564 | 0.0847 | -0.0199 | 0.1577 | 0.3223 |\n",
       "| 288 | dtDRIFT | 6 | 6 | 0.3715 | 0.0651 |  0.2463 | 0.3716 | 0.5005 |\n",
       "\n",
       "\n",
       "$popsd\n",
       ":   \n",
       "A data.frame: 4 × 5\n",
       "\n",
       "| <!--/--> | mean &lt;dbl&gt; | sd &lt;dbl&gt; | 2.5% &lt;dbl&gt; | 50% &lt;dbl&gt; | 97.5% &lt;dbl&gt; |\n",
       "|---|---|---|---|---|---|\n",
       "| T0m_KBF | 0.2229 | 0.0505 | 0.1402 | 0.2176 | 0.3405 |\n",
       "| T0m_BHV | 0.1735 | 0.0804 | 0.0697 | 0.1590 | 0.3706 |\n",
       "| T0m_cintKBF | 0.1516 | 0.0323 | 0.0940 | 0.1487 | 0.2249 |\n",
       "| T0m_cintBHV | 0.8275 | 0.1451 | 0.5681 | 0.8190 | 1.1290 |\n",
       "\n",
       "\n",
       "$popmeans\n",
       ":   \n",
       "A data.frame: 15 × 5\n",
       "\n",
       "| <!--/--> | mean &lt;dbl&gt; | sd &lt;dbl&gt; | 2.5% &lt;dbl&gt; | 50% &lt;dbl&gt; | 97.5% &lt;dbl&gt; |\n",
       "|---|---|---|---|---|---|\n",
       "| T0m_KBF | -1.2775 | 0.0526 | -1.3767 | -1.2787 | -1.1711 |\n",
       "| T0m_BHV | -0.2952 | 0.0471 | -0.3871 | -0.2949 | -0.2084 |\n",
       "| T0m_cintKBF |  0.2657 | 0.0247 |  0.2162 |  0.2664 |  0.3135 |\n",
       "| T0m_cintBHV |  0.0817 | 0.1127 | -0.1428 |  0.0803 |  0.3143 |\n",
       "| drift_KBF | -0.2108 | 0.0310 | -0.2737 | -0.2089 | -0.1545 |\n",
       "| drift_BHV | -0.9023 | 0.1559 | -1.2232 | -0.8929 | -0.6184 |\n",
       "| drift_dynKBF | -0.5287 | 0.1622 | -0.8971 | -0.5082 | -0.2726 |\n",
       "| drift_dynKBF_dynBHV |  0.0707 | 0.0958 | -0.1243 |  0.0736 |  0.2594 |\n",
       "| drift_dynBHV_dynKBF |  0.3366 | 0.1833 | -0.0359 |  0.3367 |  0.6809 |\n",
       "| drift_dynBHV | -1.0231 | 0.1841 | -1.4253 | -1.0114 | -0.7070 |\n",
       "| diffu_dynKBF |  0.5378 | 0.0607 |  0.4328 |  0.5341 |  0.6682 |\n",
       "| diffu_dynBHV_dynKBF | -0.0152 | 0.0426 | -0.0980 | -0.0151 |  0.0652 |\n",
       "| diffu_dynBHV |  0.9268 | 0.0748 |  0.7892 |  0.9246 |  1.0746 |\n",
       "| mvarseverity |  0.2171 | 0.0451 |  0.1399 |  0.2135 |  0.3159 |\n",
       "| mvarzonecrossed2transition |  0.1883 | 0.0666 |  0.0876 |  0.1771 |  0.3449 |\n",
       "\n",
       "\n",
       "$popNote\n",
       ":   'popmeans are reported as specified in ctModel -- covariance related matrices are in sd / unconstrained correlation form -- see $parmatrices for simpler interpretations!'\n",
       "$loglik\n",
       ":   -1005.74854203044\n",
       "$npars\n",
       ":   25\n",
       "$aic\n",
       ":   2061.49708406087\n",
       "$logposterior\n",
       ":   -1038.20166850526\n",
       "\n",
       "\n"
      ],
      "text/plain": [
       "$residCovStd\n",
       "                       severity zonecrossed2transition\n",
       "severity                  0.239                  0.040\n",
       "zonecrossed2transition    0.040                  0.476\n",
       "\n",
       "$resiCovStdNote\n",
       "[1] \"Standardised covariance of residuals\"\n",
       "\n",
       "$rawpopcorr\n",
       "                            mean     sd    2.5%     50%  97.5%       z\n",
       "T0m_BHV__T0m_KBF          0.2890 0.2926 -0.3178  0.3248 0.7512  0.9875\n",
       "T0m_cintKBF__T0m_KBF      0.1460 0.2294 -0.3087  0.1502 0.5670  0.6364\n",
       "T0m_cintBHV__T0m_KBF      0.0905 0.1954 -0.2896  0.0890 0.4722  0.4630\n",
       "T0m_cintKBF__T0m_BHV     -0.3399 0.3152 -0.8225 -0.3768 0.3731 -1.0784\n",
       "T0m_cintBHV__T0m_BHV     -0.0739 0.2494 -0.5185 -0.0791 0.4039 -0.2963\n",
       "T0m_cintBHV__T0m_cintKBF  0.4726 0.1541  0.1457  0.4863 0.7281  3.0656\n",
       "\n",
       "$priorcheck_note\n",
       "[1] \"The following posteriors exceeded arbitrary limits re normal(0,1) -- priors / transforms are likely somewhat informative. Not necessarily a problem.\"\n",
       "\n",
       "$priorcheck\n",
       "                mean   sd\n",
       "rawpopsdbase_2 -1.57 0.22\n",
       "\n",
       "$parmatrices\n",
       "              matrix row col    Mean     sd    2.5%     50%   97.5%\n",
       "1            T0MEANS   1   1 -1.2775 0.0526 -1.3767 -1.2787 -1.1711\n",
       "2            T0MEANS   2   1 -0.2952 0.0471 -0.3871 -0.2949 -0.2084\n",
       "3            T0MEANS   3   1  0.2657 0.0247  0.2162  0.2664  0.3135\n",
       "4            T0MEANS   4   1  0.0817 0.1127 -0.1428  0.0803  0.3143\n",
       "5            T0MEANS   5   1  0.0000 0.0000  0.0000  0.0000  0.0000\n",
       "6            T0MEANS   6   1  0.0000 0.0000  0.0000  0.0000  0.0000\n",
       "7             LAMBDA   1   1  1.0000 0.0000  1.0000  1.0000  1.0000\n",
       "8             LAMBDA   1   2  0.0000 0.0000  0.0000  0.0000  0.0000\n",
       "9             LAMBDA   1   3  0.0000 0.0000  0.0000  0.0000  0.0000\n",
       "10            LAMBDA   1   4  0.0000 0.0000  0.0000  0.0000  0.0000\n",
       "11            LAMBDA   1   5  1.0000 0.0000  1.0000  1.0000  1.0000\n",
       "12            LAMBDA   1   6  0.0000 0.0000  0.0000  0.0000  0.0000\n",
       "13            LAMBDA   2   1  0.0000 0.0000  0.0000  0.0000  0.0000\n",
       "14            LAMBDA   2   2  1.0000 0.0000  1.0000  1.0000  1.0000\n",
       "15            LAMBDA   2   3  0.0000 0.0000  0.0000  0.0000  0.0000\n",
       "16            LAMBDA   2   4  0.0000 0.0000  0.0000  0.0000  0.0000\n",
       "17            LAMBDA   2   5  0.0000 0.0000  0.0000  0.0000  0.0000\n",
       "18            LAMBDA   2   6  1.0000 0.0000  1.0000  1.0000  1.0000\n",
       "19             DRIFT   1   1 -0.2108 0.0310 -0.2737 -0.2089 -0.1545\n",
       "20             DRIFT   1   2  0.0000 0.0000  0.0000  0.0000  0.0000\n",
       "21             DRIFT   1   3  1.0000 0.0000  1.0000  1.0000  1.0000\n",
       "22             DRIFT   1   4  0.0000 0.0000  0.0000  0.0000  0.0000\n",
       "23             DRIFT   1   5  0.0000 0.0000  0.0000  0.0000  0.0000\n",
       "24             DRIFT   1   6  0.0000 0.0000  0.0000  0.0000  0.0000\n",
       "25             DRIFT   2   1  0.0000 0.0000  0.0000  0.0000  0.0000\n",
       "26             DRIFT   2   2 -0.9023 0.1559 -1.2232 -0.8929 -0.6184\n",
       "27             DRIFT   2   3  0.0000 0.0000  0.0000  0.0000  0.0000\n",
       "28             DRIFT   2   4  1.0000 0.0000  1.0000  1.0000  1.0000\n",
       "29             DRIFT   2   5  0.0000 0.0000  0.0000  0.0000  0.0000\n",
       "30             DRIFT   2   6  0.0000 0.0000  0.0000  0.0000  0.0000\n",
       "31             DRIFT   3   1  0.0000 0.0000  0.0000  0.0000  0.0000\n",
       "32             DRIFT   3   2  0.0000 0.0000  0.0000  0.0000  0.0000\n",
       "33             DRIFT   3   3  0.0000 0.0000  0.0000  0.0000  0.0000\n",
       "34             DRIFT   3   4  0.0000 0.0000  0.0000  0.0000  0.0000\n",
       "35             DRIFT   3   5  0.0000 0.0000  0.0000  0.0000  0.0000\n",
       "36             DRIFT   3   6  0.0000 0.0000  0.0000  0.0000  0.0000\n",
       "37             DRIFT   4   1  0.0000 0.0000  0.0000  0.0000  0.0000\n",
       "38             DRIFT   4   2  0.0000 0.0000  0.0000  0.0000  0.0000\n",
       "39             DRIFT   4   3  0.0000 0.0000  0.0000  0.0000  0.0000\n",
       "40             DRIFT   4   4  0.0000 0.0000  0.0000  0.0000  0.0000\n",
       "41             DRIFT   4   5  0.0000 0.0000  0.0000  0.0000  0.0000\n",
       "42             DRIFT   4   6  0.0000 0.0000  0.0000  0.0000  0.0000\n",
       "43             DRIFT   5   1  0.0000 0.0000  0.0000  0.0000  0.0000\n",
       "44             DRIFT   5   2  0.0000 0.0000  0.0000  0.0000  0.0000\n",
       "45             DRIFT   5   3  0.0000 0.0000  0.0000  0.0000  0.0000\n",
       "46             DRIFT   5   4  0.0000 0.0000  0.0000  0.0000  0.0000\n",
       "47             DRIFT   5   5 -0.5287 0.1622 -0.8971 -0.5082 -0.2726\n",
       "48             DRIFT   5   6  0.0707 0.0958 -0.1243  0.0736  0.2594\n",
       "49             DRIFT   6   1  0.0000 0.0000  0.0000  0.0000  0.0000\n",
       "50             DRIFT   6   2  0.0000 0.0000  0.0000  0.0000  0.0000\n",
       "51             DRIFT   6   3  0.0000 0.0000  0.0000  0.0000  0.0000\n",
       "52             DRIFT   6   4  0.0000 0.0000  0.0000  0.0000  0.0000\n",
       "53             DRIFT   6   5  0.3366 0.1833 -0.0359  0.3367  0.6809\n",
       "54             DRIFT   6   6 -1.0231 0.1841 -1.4253 -1.0114 -0.7070\n",
       "91     MANIFESTMEANS   1   1  0.0000 0.0000  0.0000  0.0000  0.0000\n",
       "92     MANIFESTMEANS   2   1  0.0000 0.0000  0.0000  0.0000  0.0000\n",
       "93              CINT   1   1  0.0000 0.0000  0.0000  0.0000  0.0000\n",
       "94              CINT   2   1  0.0000 0.0000  0.0000  0.0000  0.0000\n",
       "95              CINT   3   1  0.0000 0.0000  0.0000  0.0000  0.0000\n",
       "96              CINT   4   1  0.0000 0.0000  0.0000  0.0000  0.0000\n",
       "97              CINT   5   1  0.0000 0.0000  0.0000  0.0000  0.0000\n",
       "98              CINT   6   1  0.0000 0.0000  0.0000  0.0000  0.0000\n",
       "135         asymCINT   1   1  0.0000 0.0000  0.0000  0.0000  0.0000\n",
       "136         asymCINT   2   1  0.0000 0.0000  0.0000  0.0000  0.0000\n",
       "137         asymCINT   3   1  0.0000 0.0000  0.0000  0.0000  0.0000\n",
       "138         asymCINT   4   1  0.0000 0.0000  0.0000  0.0000  0.0000\n",
       "139         asymCINT   5   1  0.0000 0.0000  0.0000  0.0000  0.0000\n",
       "140         asymCINT   6   1  0.0000 0.0000  0.0000  0.0000  0.0000\n",
       "141 asymDIFFUSIONcov   1   1  0.0000 0.0000  0.0000  0.0000  0.0000\n",
       "142 asymDIFFUSIONcov   1   2  0.0000 0.0000  0.0000  0.0000  0.0000\n",
       "143 asymDIFFUSIONcov   1   3  0.0000 0.0000  0.0000  0.0000  0.0000\n",
       "144 asymDIFFUSIONcov   1   4  0.0000 0.0000  0.0000  0.0000  0.0000\n",
       "145 asymDIFFUSIONcov   1   5  0.0000 0.0000  0.0000  0.0000  0.0000\n",
       "146 asymDIFFUSIONcov   1   6  0.0000 0.0000  0.0000  0.0000  0.0000\n",
       "147 asymDIFFUSIONcov   2   1  0.0000 0.0000  0.0000  0.0000  0.0000\n",
       "148 asymDIFFUSIONcov   2   2  0.0000 0.0000  0.0000  0.0000  0.0000\n",
       "149 asymDIFFUSIONcov   2   3  0.0000 0.0000  0.0000  0.0000  0.0000\n",
       "150 asymDIFFUSIONcov   2   4  0.0000 0.0000  0.0000  0.0000  0.0000\n",
       "151 asymDIFFUSIONcov   2   5  0.0000 0.0000  0.0000  0.0000  0.0000\n",
       "152 asymDIFFUSIONcov   2   6  0.0000 0.0000  0.0000  0.0000  0.0000\n",
       "153 asymDIFFUSIONcov   3   1  0.0000 0.0000  0.0000  0.0000  0.0000\n",
       "154 asymDIFFUSIONcov   3   2  0.0000 0.0000  0.0000  0.0000  0.0000\n",
       "155 asymDIFFUSIONcov   3   3  0.0000 0.0000  0.0000  0.0000  0.0000\n",
       "156 asymDIFFUSIONcov   3   4  0.0000 0.0000  0.0000  0.0000  0.0000\n",
       "157 asymDIFFUSIONcov   3   5  0.0000 0.0000  0.0000  0.0000  0.0000\n",
       "158 asymDIFFUSIONcov   3   6  0.0000 0.0000  0.0000  0.0000  0.0000\n",
       "159 asymDIFFUSIONcov   4   1  0.0000 0.0000  0.0000  0.0000  0.0000\n",
       "160 asymDIFFUSIONcov   4   2  0.0000 0.0000  0.0000  0.0000  0.0000\n",
       "161 asymDIFFUSIONcov   4   3  0.0000 0.0000  0.0000  0.0000  0.0000\n",
       "162 asymDIFFUSIONcov   4   4  0.0000 0.0000  0.0000  0.0000  0.0000\n",
       "163 asymDIFFUSIONcov   4   5  0.0000 0.0000  0.0000  0.0000  0.0000\n",
       "164 asymDIFFUSIONcov   4   6  0.0000 0.0000  0.0000  0.0000  0.0000\n",
       "165 asymDIFFUSIONcov   5   1  0.0000 0.0000  0.0000  0.0000  0.0000\n",
       "166 asymDIFFUSIONcov   5   2  0.0000 0.0000  0.0000  0.0000  0.0000\n",
       "167 asymDIFFUSIONcov   5   3  0.0000 0.0000  0.0000  0.0000  0.0000\n",
       "168 asymDIFFUSIONcov   5   4  0.0000 0.0000  0.0000  0.0000  0.0000\n",
       "169 asymDIFFUSIONcov   5   5  0.3062 0.0752  0.2048  0.2958  0.4632\n",
       "170 asymDIFFUSIONcov   5   6  0.0811 0.0560  0.0018  0.0729  0.2060\n",
       "171 asymDIFFUSIONcov   6   1  0.0000 0.0000  0.0000  0.0000  0.0000\n",
       "172 asymDIFFUSIONcov   6   2  0.0000 0.0000  0.0000  0.0000  0.0000\n",
       "173 asymDIFFUSIONcov   6   3  0.0000 0.0000  0.0000  0.0000  0.0000\n",
       "174 asymDIFFUSIONcov   6   4  0.0000 0.0000  0.0000  0.0000  0.0000\n",
       "175 asymDIFFUSIONcov   6   5  0.0811 0.0560  0.0018  0.0729  0.2060\n",
       "176 asymDIFFUSIONcov   6   6  0.4591 0.0587  0.3628  0.4546  0.5830\n",
       "177     DIFFUSIONcov   1   1  0.0000 0.0000  0.0000  0.0000  0.0000\n",
       "178     DIFFUSIONcov   1   2  0.0000 0.0000  0.0000  0.0000  0.0000\n",
       "179     DIFFUSIONcov   1   3  0.0000 0.0000  0.0000  0.0000  0.0000\n",
       "180     DIFFUSIONcov   1   4  0.0000 0.0000  0.0000  0.0000  0.0000\n",
       "181     DIFFUSIONcov   1   5  0.0000 0.0000  0.0000  0.0000  0.0000\n",
       "182     DIFFUSIONcov   1   6  0.0000 0.0000  0.0000  0.0000  0.0000\n",
       "183     DIFFUSIONcov   2   1  0.0000 0.0000  0.0000  0.0000  0.0000\n",
       "184     DIFFUSIONcov   2   2  0.0000 0.0000  0.0000  0.0000  0.0000\n",
       "185     DIFFUSIONcov   2   3  0.0000 0.0000  0.0000  0.0000  0.0000\n",
       "186     DIFFUSIONcov   2   4  0.0000 0.0000  0.0000  0.0000  0.0000\n",
       "187     DIFFUSIONcov   2   5  0.0000 0.0000  0.0000  0.0000  0.0000\n",
       "188     DIFFUSIONcov   2   6  0.0000 0.0000  0.0000  0.0000  0.0000\n",
       "189     DIFFUSIONcov   3   1  0.0000 0.0000  0.0000  0.0000  0.0000\n",
       "190     DIFFUSIONcov   3   2  0.0000 0.0000  0.0000  0.0000  0.0000\n",
       "191     DIFFUSIONcov   3   3  0.0000 0.0000  0.0000  0.0000  0.0000\n",
       "192     DIFFUSIONcov   3   4  0.0000 0.0000  0.0000  0.0000  0.0000\n",
       "193     DIFFUSIONcov   3   5  0.0000 0.0000  0.0000  0.0000  0.0000\n",
       "194     DIFFUSIONcov   3   6  0.0000 0.0000  0.0000  0.0000  0.0000\n",
       "195     DIFFUSIONcov   4   1  0.0000 0.0000  0.0000  0.0000  0.0000\n",
       "196     DIFFUSIONcov   4   2  0.0000 0.0000  0.0000  0.0000  0.0000\n",
       "197     DIFFUSIONcov   4   3  0.0000 0.0000  0.0000  0.0000  0.0000\n",
       "198     DIFFUSIONcov   4   4  0.0000 0.0000  0.0000  0.0000  0.0000\n",
       "199     DIFFUSIONcov   4   5  0.0000 0.0000  0.0000  0.0000  0.0000\n",
       "200     DIFFUSIONcov   4   6  0.0000 0.0000  0.0000  0.0000  0.0000\n",
       "201     DIFFUSIONcov   5   1  0.0000 0.0000  0.0000  0.0000  0.0000\n",
       "202     DIFFUSIONcov   5   2  0.0000 0.0000  0.0000  0.0000  0.0000\n",
       "203     DIFFUSIONcov   5   3  0.0000 0.0000  0.0000  0.0000  0.0000\n",
       "204     DIFFUSIONcov   5   4  0.0000 0.0000  0.0000  0.0000  0.0000\n",
       "205     DIFFUSIONcov   5   5  0.2929 0.0667  0.1874  0.2852  0.4465\n",
       "206     DIFFUSIONcov   5   6 -0.0155 0.0415 -0.0992 -0.0147  0.0614\n",
       "207     DIFFUSIONcov   6   1  0.0000 0.0000  0.0000  0.0000  0.0000\n",
       "208     DIFFUSIONcov   6   2  0.0000 0.0000  0.0000  0.0000  0.0000\n",
       "209     DIFFUSIONcov   6   3  0.0000 0.0000  0.0000  0.0000  0.0000\n",
       "210     DIFFUSIONcov   6   4  0.0000 0.0000  0.0000  0.0000  0.0000\n",
       "211     DIFFUSIONcov   6   5 -0.0155 0.0415 -0.0992 -0.0147  0.0614\n",
       "212     DIFFUSIONcov   6   6  0.8646 0.1410  0.6228  0.8549  1.1547\n",
       "213      MANIFESTcov   1   1  0.0492 0.0210  0.0196  0.0456  0.0998\n",
       "214      MANIFESTcov   1   2  0.0000 0.0000  0.0000  0.0000  0.0000\n",
       "215      MANIFESTcov   2   1  0.0000 0.0000  0.0000  0.0000  0.0000\n",
       "216      MANIFESTcov   2   2  0.0399 0.0298  0.0077  0.0314  0.1189\n",
       "217            T0cov   1   1  0.0522 0.0240  0.0197  0.0478  0.1134\n",
       "218            T0cov   1   2  0.0103 0.0142 -0.0159  0.0091  0.0406\n",
       "219            T0cov   1   3  0.0046 0.0082 -0.0119  0.0045  0.0216\n",
       "220            T0cov   1   4  0.0173 0.0381 -0.0541  0.0146  0.0978\n",
       "221            T0cov   1   5  0.0000 0.0000  0.0000  0.0000  0.0000\n",
       "222            T0cov   1   6  0.0000 0.0000  0.0000  0.0000  0.0000\n",
       "223            T0cov   2   1  0.0103 0.0142 -0.0159  0.0091  0.0406\n",
       "224            T0cov   2   2  0.0366 0.0403  0.0048  0.0252  0.1394\n",
       "225            T0cov   2   3 -0.0077 0.0095 -0.0269 -0.0079  0.0126\n",
       "226            T0cov   2   4 -0.0063 0.0428 -0.0874 -0.0090  0.0883\n",
       "227            T0cov   2   5  0.0000 0.0000  0.0000  0.0000  0.0000\n",
       "228            T0cov   2   6  0.0000 0.0000  0.0000  0.0000  0.0000\n",
       "229            T0cov   3   1  0.0046 0.0082 -0.0119  0.0045  0.0216\n",
       "230            T0cov   3   2 -0.0077 0.0095 -0.0269 -0.0079  0.0126\n",
       "231            T0cov   3   3  0.0241 0.0104  0.0090  0.0223  0.0500\n",
       "232            T0cov   3   4  0.0605 0.0290  0.0139  0.0571  0.1334\n",
       "233            T0cov   3   5  0.0000 0.0000  0.0000  0.0000  0.0000\n",
       "234            T0cov   3   6  0.0000 0.0000  0.0000  0.0000  0.0000\n",
       "235            T0cov   4   1  0.0173 0.0381 -0.0541  0.0146  0.0978\n",
       "236            T0cov   4   2 -0.0063 0.0428 -0.0874 -0.0090  0.0883\n",
       "237            T0cov   4   3  0.0605 0.0290  0.0139  0.0571  0.1334\n",
       "238            T0cov   4   4  0.7072 0.2531  0.3315  0.6689  1.2831\n",
       "239            T0cov   4   5  0.0000 0.0000  0.0000  0.0000  0.0000\n",
       "240            T0cov   4   6  0.0000 0.0000  0.0000  0.0000  0.0000\n",
       "241            T0cov   5   1  0.0000 0.0000  0.0000  0.0000  0.0000\n",
       "242            T0cov   5   2  0.0000 0.0000  0.0000  0.0000  0.0000\n",
       "243            T0cov   5   3  0.0000 0.0000  0.0000  0.0000  0.0000\n",
       "244            T0cov   5   4  0.0000 0.0000  0.0000  0.0000  0.0000\n",
       "245            T0cov   5   5  0.0000 0.0000  0.0000  0.0000  0.0000\n",
       "246            T0cov   5   6  0.0000 0.0000  0.0000  0.0000  0.0000\n",
       "247            T0cov   6   1  0.0000 0.0000  0.0000  0.0000  0.0000\n",
       "248            T0cov   6   2  0.0000 0.0000  0.0000  0.0000  0.0000\n",
       "249            T0cov   6   3  0.0000 0.0000  0.0000  0.0000  0.0000\n",
       "250            T0cov   6   4  0.0000 0.0000  0.0000  0.0000  0.0000\n",
       "251            T0cov   6   5  0.0000 0.0000  0.0000  0.0000  0.0000\n",
       "252            T0cov   6   6  0.0000 0.0000  0.0000  0.0000  0.0000\n",
       "253          dtDRIFT   1   1  0.8103 0.0250  0.7606  0.8114  0.8569\n",
       "254          dtDRIFT   1   2  0.0000 0.0000  0.0000  0.0000  0.0000\n",
       "255          dtDRIFT   1   3  0.9018 0.0135  0.8748  0.9024  0.9266\n",
       "256          dtDRIFT   1   4  0.0000 0.0000  0.0000  0.0000  0.0000\n",
       "257          dtDRIFT   1   5  0.0000 0.0000  0.0000  0.0000  0.0000\n",
       "258          dtDRIFT   1   6  0.0000 0.0000  0.0000  0.0000  0.0000\n",
       "259          dtDRIFT   2   1  0.0000 0.0000  0.0000  0.0000  0.0000\n",
       "260          dtDRIFT   2   2  0.4105 0.0633  0.2943  0.4095  0.5388\n",
       "261          dtDRIFT   2   3  0.0000 0.0000  0.0000  0.0000  0.0000\n",
       "262          dtDRIFT   2   4  0.6608 0.0436  0.5769  0.6614  0.7458\n",
       "263          dtDRIFT   2   5  0.0000 0.0000  0.0000  0.0000  0.0000\n",
       "264          dtDRIFT   2   6  0.0000 0.0000  0.0000  0.0000  0.0000\n",
       "265          dtDRIFT   3   1  0.0000 0.0000  0.0000  0.0000  0.0000\n",
       "266          dtDRIFT   3   2  0.0000 0.0000  0.0000  0.0000  0.0000\n",
       "267          dtDRIFT   3   3  1.0000 0.0000  1.0000  1.0000  1.0000\n",
       "268          dtDRIFT   3   4  0.0000 0.0000  0.0000  0.0000  0.0000\n",
       "269          dtDRIFT   3   5  0.0000 0.0000  0.0000  0.0000  0.0000\n",
       "270          dtDRIFT   3   6  0.0000 0.0000  0.0000  0.0000  0.0000\n",
       "271          dtDRIFT   4   1  0.0000 0.0000  0.0000  0.0000  0.0000\n",
       "272          dtDRIFT   4   2  0.0000 0.0000  0.0000  0.0000  0.0000\n",
       "273          dtDRIFT   4   3  0.0000 0.0000  0.0000  0.0000  0.0000\n",
       "274          dtDRIFT   4   4  1.0000 0.0000  1.0000  1.0000  1.0000\n",
       "275          dtDRIFT   4   5  0.0000 0.0000  0.0000  0.0000  0.0000\n",
       "276          dtDRIFT   4   6  0.0000 0.0000  0.0000  0.0000  0.0000\n",
       "277          dtDRIFT   5   1  0.0000 0.0000  0.0000  0.0000  0.0000\n",
       "278          dtDRIFT   5   2  0.0000 0.0000  0.0000  0.0000  0.0000\n",
       "279          dtDRIFT   5   3  0.0000 0.0000  0.0000  0.0000  0.0000\n",
       "280          dtDRIFT   5   4  0.0000 0.0000  0.0000  0.0000  0.0000\n",
       "281          dtDRIFT   5   5  0.6040 0.0918  0.4136  0.6095  0.7656\n",
       "282          dtDRIFT   5   6  0.0326 0.0455 -0.0610  0.0338  0.1218\n",
       "283          dtDRIFT   6   1  0.0000 0.0000  0.0000  0.0000  0.0000\n",
       "284          dtDRIFT   6   2  0.0000 0.0000  0.0000  0.0000  0.0000\n",
       "285          dtDRIFT   6   3  0.0000 0.0000  0.0000  0.0000  0.0000\n",
       "286          dtDRIFT   6   4  0.0000 0.0000  0.0000  0.0000  0.0000\n",
       "287          dtDRIFT   6   5  0.1564 0.0847 -0.0199  0.1577  0.3223\n",
       "288          dtDRIFT   6   6  0.3715 0.0651  0.2463  0.3716  0.5005\n",
       "\n",
       "$popsd\n",
       "              mean     sd   2.5%    50%  97.5%\n",
       "T0m_KBF     0.2229 0.0505 0.1402 0.2176 0.3405\n",
       "T0m_BHV     0.1735 0.0804 0.0697 0.1590 0.3706\n",
       "T0m_cintKBF 0.1516 0.0323 0.0940 0.1487 0.2249\n",
       "T0m_cintBHV 0.8275 0.1451 0.5681 0.8190 1.1290\n",
       "\n",
       "$popmeans\n",
       "                              mean     sd    2.5%     50%   97.5%\n",
       "T0m_KBF                    -1.2775 0.0526 -1.3767 -1.2787 -1.1711\n",
       "T0m_BHV                    -0.2952 0.0471 -0.3871 -0.2949 -0.2084\n",
       "T0m_cintKBF                 0.2657 0.0247  0.2162  0.2664  0.3135\n",
       "T0m_cintBHV                 0.0817 0.1127 -0.1428  0.0803  0.3143\n",
       "drift_KBF                  -0.2108 0.0310 -0.2737 -0.2089 -0.1545\n",
       "drift_BHV                  -0.9023 0.1559 -1.2232 -0.8929 -0.6184\n",
       "drift_dynKBF               -0.5287 0.1622 -0.8971 -0.5082 -0.2726\n",
       "drift_dynKBF_dynBHV         0.0707 0.0958 -0.1243  0.0736  0.2594\n",
       "drift_dynBHV_dynKBF         0.3366 0.1833 -0.0359  0.3367  0.6809\n",
       "drift_dynBHV               -1.0231 0.1841 -1.4253 -1.0114 -0.7070\n",
       "diffu_dynKBF                0.5378 0.0607  0.4328  0.5341  0.6682\n",
       "diffu_dynBHV_dynKBF        -0.0152 0.0426 -0.0980 -0.0151  0.0652\n",
       "diffu_dynBHV                0.9268 0.0748  0.7892  0.9246  1.0746\n",
       "mvarseverity                0.2171 0.0451  0.1399  0.2135  0.3159\n",
       "mvarzonecrossed2transition  0.1883 0.0666  0.0876  0.1771  0.3449\n",
       "\n",
       "$popNote\n",
       "[1] \"popmeans are reported as specified in ctModel -- covariance related matrices are in sd / unconstrained correlation form -- see $parmatrices for simpler interpretations!\"\n",
       "\n",
       "$loglik\n",
       "[1] -1005.749\n",
       "\n",
       "$npars\n",
       "[1] 25\n",
       "\n",
       "$aic\n",
       "[1] 2061.497\n",
       "\n",
       "$logposterior\n",
       "[1] -1038.202\n"
      ]
     },
     "metadata": {},
     "output_type": "display_data"
    }
   ],
   "source": [
    "summary(fit_mvtha)"
   ]
  },
  {
   "cell_type": "code",
   "execution_count": 17,
   "id": "e791f595",
   "metadata": {},
   "outputs": [
    {
     "name": "stderr",
     "output_type": "stream",
     "text": [
      "Computing temporal regression coefficients for 1000 samples, may take a moment...\n",
      "\n"
     ]
    },
    {
     "data": {
      "text/html": [
       "<style>\n",
       ".list-inline {list-style: none; margin:0; padding: 0}\n",
       ".list-inline>li {display: inline-block}\n",
       ".list-inline>li:not(:last-child)::after {content: \"\\00b7\"; padding: 0 .5ex}\n",
       "</style>\n",
       "<ol class=list-inline><li>1000</li><li>1</li><li>101</li><li>6</li><li>6</li></ol>\n"
      ],
      "text/latex": [
       "\\begin{enumerate*}\n",
       "\\item 1000\n",
       "\\item 1\n",
       "\\item 101\n",
       "\\item 6\n",
       "\\item 6\n",
       "\\end{enumerate*}\n"
      ],
      "text/markdown": [
       "1. 1000\n",
       "2. 1\n",
       "3. 101\n",
       "4. 6\n",
       "5. 6\n",
       "\n",
       "\n"
      ],
      "text/plain": [
       "[1] 1000    1  101    6    6"
      ]
     },
     "metadata": {},
     "output_type": "display_data"
    }
   ],
   "source": [
    "set.seed(0)\n",
    "#\"outputs expected regression values – also interpretable as an independent 1 unit change on each process, giving the expected \n",
    "#response under a 1 unit experimental impulse\"\n",
    "df_res = ctStanDiscretePars(fit_mvtha, plot=F, nsamples = 1000, times = seq(from = 0, to = 10, by = 0.1))\n",
    "dim(df_res)\n",
    "write.csv(df_res, file=file.path(path_save_,paste0(name,\"df_discretedrift.csv\")))"
   ]
  },
  {
   "cell_type": "code",
   "execution_count": 18,
   "id": "b7e66185",
   "metadata": {},
   "outputs": [
    {
     "name": "stderr",
     "output_type": "stream",
     "text": [
      "Computing quantities for 1500 samples...\n",
      "\n",
      "Generating data from posterior\n",
      "\n",
      "Using 2/12 logical CPU cores\n",
      "\n"
     ]
    },
    {
     "data": {
      "text/plain": [
       "NULL"
      ]
     },
     "metadata": {},
     "output_type": "display_data"
    },
    {
     "data": {
      "text/html": [
       "<strong>png:</strong> 2"
      ],
      "text/latex": [
       "\\textbf{png:} 2"
      ],
      "text/markdown": [
       "**png:** 2"
      ],
      "text/plain": [
       "png \n",
       "  2 "
      ]
     },
     "metadata": {},
     "output_type": "display_data"
    },
    {
     "data": {
      "text/html": [
       "<strong>png:</strong> 2"
      ],
      "text/latex": [
       "\\textbf{png:} 2"
      ],
      "text/markdown": [
       "**png:** 2"
      ],
      "text/plain": [
       "png \n",
       "  2 "
      ]
     },
     "metadata": {},
     "output_type": "display_data"
    },
    {
     "name": "stderr",
     "output_type": "stream",
     "text": [
      "Plotting model implied regression coeffcients conditional on time interval using ctStanDiscretePars\n",
      "\n",
      "Computing temporal regression coefficients for 100 samples, may take a moment...\n",
      "\n"
     ]
    },
    {
     "data": {
      "text/html": [
       "<strong>png:</strong> 2"
      ],
      "text/latex": [
       "\\textbf{png:} 2"
      ],
      "text/markdown": [
       "**png:** 2"
      ],
      "text/plain": [
       "png \n",
       "  2 "
      ]
     },
     "metadata": {},
     "output_type": "display_data"
    },
    {
     "name": "stderr",
     "output_type": "stream",
     "text": [
      "Plotting expectations from Kalman filter using ctKalman\n",
      "\n",
      "Computing state estimates..\n",
      "\n",
      "Computing quantities for 1 samples...\n",
      "\n"
     ]
    },
    {
     "data": {
      "text/html": [
       "<strong>png:</strong> 2"
      ],
      "text/latex": [
       "\\textbf{png:} 2"
      ],
      "text/markdown": [
       "**png:** 2"
      ],
      "text/plain": [
       "png \n",
       "  2 "
      ]
     },
     "metadata": {},
     "output_type": "display_data"
    },
    {
     "name": "stderr",
     "output_type": "stream",
     "text": [
      "Plotting prior and posterior densities using ctStanPlotPost\n",
      "\n",
      "Fitting model to empty dataset...\n",
      "\n",
      "Maximum a posteriori estimation requested\n",
      "\n",
      "Setting DRIFT diagonals of 0 to approximate 0 of -1e-06\n",
      "\n",
      "Free T0VAR parameters as well as indvarying T0MEANS -- fixing T0VAR pars to diag matrix of 1e-3\n",
      "\n",
      "Using 2/12 logical CPU cores\n",
      "\n",
      "Optimizing...\n",
      "\n",
      "Finishing optimization...\n",
      "\n",
      "Estimating Hessian\n",
      "\n",
      "Computing posterior with 10000 samples\n",
      "\n"
     ]
    },
    {
     "data": {
      "text/html": [
       "<strong>png:</strong> 2"
      ],
      "text/latex": [
       "\\textbf{png:} 2"
      ],
      "text/markdown": [
       "**png:** 2"
      ],
      "text/plain": [
       "png \n",
       "  2 "
      ]
     },
     "metadata": {},
     "output_type": "display_data"
    },
    {
     "data": {
      "text/html": [
       "<table class=\"dataframe\">\n",
       "<caption>A data.frame: 2 × 2</caption>\n",
       "<thead>\n",
       "\t<tr><th></th><th scope=col>original</th><th scope=col>new</th></tr>\n",
       "\t<tr><th></th><th scope=col>&lt;int&gt;</th><th scope=col>&lt;int&gt;</th></tr>\n",
       "</thead>\n",
       "<tbody>\n",
       "\t<tr><th scope=row>1</th><td>1</td><td>1</td></tr>\n",
       "\t<tr><th scope=row>2</th><td>2</td><td>2</td></tr>\n",
       "</tbody>\n",
       "</table>\n"
      ],
      "text/latex": [
       "A data.frame: 2 × 2\n",
       "\\begin{tabular}{r|ll}\n",
       "  & original & new\\\\\n",
       "  & <int> & <int>\\\\\n",
       "\\hline\n",
       "\t1 & 1 & 1\\\\\n",
       "\t2 & 2 & 2\\\\\n",
       "\\end{tabular}\n"
      ],
      "text/markdown": [
       "\n",
       "A data.frame: 2 × 2\n",
       "\n",
       "| <!--/--> | original &lt;int&gt; | new &lt;int&gt; |\n",
       "|---|---|---|\n",
       "| 1 | 1 | 1 |\n",
       "| 2 | 2 | 2 |\n",
       "\n"
      ],
      "text/plain": [
       "  original new\n",
       "1 1        1  \n",
       "2 2        2  "
      ]
     },
     "metadata": {},
     "output_type": "display_data"
    },
    {
     "data": {
      "text/html": [
       "<table class=\"dataframe\">\n",
       "<caption>A data.frame: 2 × 2</caption>\n",
       "<thead>\n",
       "\t<tr><th></th><th scope=col>original</th><th scope=col>new</th></tr>\n",
       "\t<tr><th></th><th scope=col>&lt;int&gt;</th><th scope=col>&lt;int&gt;</th></tr>\n",
       "</thead>\n",
       "<tbody>\n",
       "\t<tr><th scope=row>59</th><td>59</td><td>59</td></tr>\n",
       "\t<tr><th scope=row>60</th><td>60</td><td>60</td></tr>\n",
       "</tbody>\n",
       "</table>\n"
      ],
      "text/latex": [
       "A data.frame: 2 × 2\n",
       "\\begin{tabular}{r|ll}\n",
       "  & original & new\\\\\n",
       "  & <int> & <int>\\\\\n",
       "\\hline\n",
       "\t59 & 59 & 59\\\\\n",
       "\t60 & 60 & 60\\\\\n",
       "\\end{tabular}\n"
      ],
      "text/markdown": [
       "\n",
       "A data.frame: 2 × 2\n",
       "\n",
       "| <!--/--> | original &lt;int&gt; | new &lt;int&gt; |\n",
       "|---|---|---|\n",
       "| 59 | 59 | 59 |\n",
       "| 60 | 60 | 60 |\n",
       "\n"
      ],
      "text/plain": [
       "   original new\n",
       "59 59       59 \n",
       "60 60       60 "
      ]
     },
     "metadata": {},
     "output_type": "display_data"
    },
    {
     "name": "stderr",
     "output_type": "stream",
     "text": [
      "Computing state estimates..\n",
      "\n",
      "Computing quantities for 1 samples...\n",
      "\n"
     ]
    },
    {
     "data": {
      "text/html": [
       "<strong>png:</strong> 2"
      ],
      "text/latex": [
       "\\textbf{png:} 2"
      ],
      "text/markdown": [
       "**png:** 2"
      ],
      "text/plain": [
       "png \n",
       "  2 "
      ]
     },
     "metadata": {},
     "output_type": "display_data"
    },
    {
     "name": "stderr",
     "output_type": "stream",
     "text": [
      "Computing state estimates..\n",
      "\n",
      "Computing quantities for 1 samples...\n",
      "\n"
     ]
    },
    {
     "data": {
      "text/html": [
       "<strong>png:</strong> 2"
      ],
      "text/latex": [
       "\\textbf{png:} 2"
      ],
      "text/markdown": [
       "**png:** 2"
      ],
      "text/plain": [
       "png \n",
       "  2 "
      ]
     },
     "metadata": {},
     "output_type": "display_data"
    },
    {
     "name": "stderr",
     "output_type": "stream",
     "text": [
      "Computing state estimates..\n",
      "\n",
      "Computing quantities for 1 samples...\n",
      "\n"
     ]
    },
    {
     "data": {
      "text/html": [
       "<strong>png:</strong> 2"
      ],
      "text/latex": [
       "\\textbf{png:} 2"
      ],
      "text/markdown": [
       "**png:** 2"
      ],
      "text/plain": [
       "png \n",
       "  2 "
      ]
     },
     "metadata": {},
     "output_type": "display_data"
    },
    {
     "name": "stderr",
     "output_type": "stream",
     "text": [
      "Computing state estimates..\n",
      "\n",
      "Computing quantities for 1 samples...\n",
      "\n"
     ]
    },
    {
     "data": {
      "text/html": [
       "<strong>png:</strong> 2"
      ],
      "text/latex": [
       "\\textbf{png:} 2"
      ],
      "text/markdown": [
       "**png:** 2"
      ],
      "text/plain": [
       "png \n",
       "  2 "
      ]
     },
     "metadata": {},
     "output_type": "display_data"
    },
    {
     "name": "stderr",
     "output_type": "stream",
     "text": [
      "Computing state estimates..\n",
      "\n",
      "Computing quantities for 1 samples...\n",
      "\n"
     ]
    },
    {
     "data": {
      "text/html": [
       "<strong>png:</strong> 2"
      ],
      "text/latex": [
       "\\textbf{png:} 2"
      ],
      "text/markdown": [
       "**png:** 2"
      ],
      "text/plain": [
       "png \n",
       "  2 "
      ]
     },
     "metadata": {},
     "output_type": "display_data"
    },
    {
     "name": "stderr",
     "output_type": "stream",
     "text": [
      "Computing state estimates..\n",
      "\n",
      "Computing quantities for 1 samples...\n",
      "\n"
     ]
    },
    {
     "data": {
      "text/html": [
       "<strong>png:</strong> 2"
      ],
      "text/latex": [
       "\\textbf{png:} 2"
      ],
      "text/markdown": [
       "**png:** 2"
      ],
      "text/plain": [
       "png \n",
       "  2 "
      ]
     },
     "metadata": {},
     "output_type": "display_data"
    },
    {
     "data": {
      "text/html": [
       "<table class=\"dataframe\">\n",
       "<caption>A data.frame: 3 × 5</caption>\n",
       "<thead>\n",
       "\t<tr><th></th><th scope=col>T0m_BHV</th><th scope=col>T0m_cintBHV</th><th scope=col>T0m_cintKBF</th><th scope=col>T0m_KBF</th><th scope=col>id</th></tr>\n",
       "\t<tr><th></th><th scope=col>&lt;dbl&gt;</th><th scope=col>&lt;dbl&gt;</th><th scope=col>&lt;dbl&gt;</th><th scope=col>&lt;dbl&gt;</th><th scope=col>&lt;int&gt;</th></tr>\n",
       "</thead>\n",
       "<tbody>\n",
       "\t<tr><th scope=row>1</th><td>-0.2020299</td><td>-0.2422164</td><td>0.06413949</td><td>-1.364121</td><td>1</td></tr>\n",
       "\t<tr><th scope=row>2</th><td>-0.2348159</td><td>-0.2139683</td><td>0.10469692</td><td>-1.336045</td><td>2</td></tr>\n",
       "\t<tr><th scope=row>3</th><td>-0.2822605</td><td>-0.2803410</td><td>0.19963951</td><td>-1.321732</td><td>3</td></tr>\n",
       "</tbody>\n",
       "</table>\n"
      ],
      "text/latex": [
       "A data.frame: 3 × 5\n",
       "\\begin{tabular}{r|lllll}\n",
       "  & T0m\\_BHV & T0m\\_cintBHV & T0m\\_cintKBF & T0m\\_KBF & id\\\\\n",
       "  & <dbl> & <dbl> & <dbl> & <dbl> & <int>\\\\\n",
       "\\hline\n",
       "\t1 & -0.2020299 & -0.2422164 & 0.06413949 & -1.364121 & 1\\\\\n",
       "\t2 & -0.2348159 & -0.2139683 & 0.10469692 & -1.336045 & 2\\\\\n",
       "\t3 & -0.2822605 & -0.2803410 & 0.19963951 & -1.321732 & 3\\\\\n",
       "\\end{tabular}\n"
      ],
      "text/markdown": [
       "\n",
       "A data.frame: 3 × 5\n",
       "\n",
       "| <!--/--> | T0m_BHV &lt;dbl&gt; | T0m_cintBHV &lt;dbl&gt; | T0m_cintKBF &lt;dbl&gt; | T0m_KBF &lt;dbl&gt; | id &lt;int&gt; |\n",
       "|---|---|---|---|---|---|\n",
       "| 1 | -0.2020299 | -0.2422164 | 0.06413949 | -1.364121 | 1 |\n",
       "| 2 | -0.2348159 | -0.2139683 | 0.10469692 | -1.336045 | 2 |\n",
       "| 3 | -0.2822605 | -0.2803410 | 0.19963951 | -1.321732 | 3 |\n",
       "\n"
      ],
      "text/plain": [
       "  T0m_BHV    T0m_cintBHV T0m_cintKBF T0m_KBF   id\n",
       "1 -0.2020299 -0.2422164  0.06413949  -1.364121 1 \n",
       "2 -0.2348159 -0.2139683  0.10469692  -1.336045 2 \n",
       "3 -0.2822605 -0.2803410  0.19963951  -1.321732 3 "
      ]
     },
     "metadata": {},
     "output_type": "display_data"
    },
    {
     "data": {
      "text/html": [
       "<style>\n",
       ".list-inline {list-style: none; margin:0; padding: 0}\n",
       ".list-inline>li {display: inline-block}\n",
       ".list-inline>li:not(:last-child)::after {content: \"\\00b7\"; padding: 0 .5ex}\n",
       "</style>\n",
       "<ol class=list-inline><li>60</li><li>5</li></ol>\n"
      ],
      "text/latex": [
       "\\begin{enumerate*}\n",
       "\\item 60\n",
       "\\item 5\n",
       "\\end{enumerate*}\n"
      ],
      "text/markdown": [
       "1. 60\n",
       "2. 5\n",
       "\n",
       "\n"
      ],
      "text/plain": [
       "[1] 60  5"
      ]
     },
     "metadata": {},
     "output_type": "display_data"
    }
   ],
   "source": [
    "#### asympDIFF :  variance/covariance  of  the  latent  process\n",
    "tiff(file.path(path_save_, paste0(name,'RandomDataPosterior_to_observedData.tiff')), width=400, height=400)\n",
    "ctStanPostPredict(fit_mvtha, wait=FALSE) #compare randomly generated data from posterior to observed data\n",
    "dev.off()\n",
    "\n",
    "tiff(file.path(path_save_, paste0(name,'RadomDataPosteriorMeanCOv_to_observedData.tiff')), width=400, height=400)\n",
    "cf = ctCheckFit(fit_mvtha) #compare mean and covariance of randomly generated data to observed cov plot(cf,wait=FALSE)\n",
    "dev.off()\n",
    "\n",
    "#plot basics (regression kalan, priorcheck)\n",
    "tiff(file.path(path_save_, paste0(name,'plotdiscretedrift_regression.tiff')), width=400, height=400)\n",
    "plot(fit_mvtha,types=c('regression'), wait=FALSE)\n",
    "dev.off()\n",
    "#equivalent too\n",
    "#tiff(file.path(path_save_, paste0(name,'plotdiscretedrift.tiff')), width=400, height=400)\n",
    "#ctStanDiscretePars(fit_mvtha, plot=T)\n",
    "#dev.off()\n",
    "\n",
    "tiff(file.path(path_save_, paste0(name,'plotdiscretedrift_kalman.tiff')), width=400, height=400)\n",
    "plot(fit_mvtha,types=c('kalman'), wait=FALSE)\n",
    "dev.off()\n",
    "tiff(file.path(path_save_, paste0(name,'plotdiscretedrift_priorcheck.tiff')), width=400, height=400)\n",
    "plot(fit_mvtha,types=c('priorcheck'), wait=FALSE)\n",
    "dev.off()\n",
    "\n",
    "\n",
    "#check the id are correct\n",
    "df_idmap = fit_mvtha$setup$idmap\n",
    "head(df_idmap,2)\n",
    "tail(df_idmap,2)\n",
    "if (identical(df_idmap[['original']],df_idmap[['new']])==FALSE){\n",
    "    print('ERROR: makes sure your id column will be the same as the one given by ctsem, just to ensure no error later on')\n",
    "    stop() #couldnt find equivalent to sys.exit() in python, but that do the job as well (stop the code)\n",
    "}\n",
    "\n",
    "#print(fit_mvtha$setup$idmap[c(1,100,200,300,400), 1])\n",
    "#plot 5 hens without uncertainty and width for visibility purposes\n",
    "tiff(file.path(path_save_, paste0(name,'5individual_nouncertainty.tiff')), width=400, height=400)\n",
    "ctKalman(fit_mvtha,subjects=c(1,10,20,30,50),plot=T,kalmanvec=c('y','ysmooth'), polygonsteps=0)\n",
    "dev.off()\n",
    "tiff(file.path(path_save_, paste0(name,'5otherindividual_nouncertainty.tiff')), width=400, height=400)\n",
    "ctKalman(fit_mvtha,subjects=c(2,11,21,31,51),plot=T,kalmanvec=c('y','ysmooth'), polygonsteps=0)\n",
    "dev.off()\n",
    "tiff(file.path(path_save_, paste0(name,'5other2individual_nouncertainty.tiff')), width=400, height=400)\n",
    "ctKalman(fit_mvtha,subjects=c(3,12,22,32,52),plot=T,kalmanvec=c('y','ysmooth'), polygonsteps=0)\n",
    "dev.off()\n",
    "#plot parameters for two hen  with polygonsteps=10 (the default) to see uncertainty\n",
    "tiff(file.path(path_save_, paste0(name,'2individual_witthcertainty.tiff')), width=400, height=400)\n",
    "ctKalman(fit_mvtha,subjects=c(1,20),plot=T,kalmanvec=c('y','ysmooth'), polygonsteps=10)\n",
    "dev.off()\n",
    "#plot parameters for two hen  with polygonsteps=10 (the default) to see uncertainty\n",
    "tiff(file.path(path_save_, paste0(name,'2otherindividual_witthcertainty.tiff')), width=400, height=400)\n",
    "ctKalman(fit_mvtha,subjects=c(30,40),plot=T,kalmanvec=c('y','ysmooth'), polygonsteps=10)\n",
    "dev.off()\n",
    "#plot parameters for two hen  with polygonsteps=10 (the default) to see uncertainty\n",
    "tiff(file.path(path_save_, paste0(name,'2other2individual_witthcertainty.tiff')), width=400, height=400)\n",
    "ctKalman(fit_mvtha,subjects=c(40,50),plot=T,kalmanvec=c('y','ysmooth'), polygonsteps=10)\n",
    "dev.off()\n",
    "\n",
    "#extract estimates of individual parameters, taking into account any covariates and random effects\n",
    "#output an nsamples by nsubjects by nparams array.\n",
    "indpars = ctStanSubjectPars(fit_mvtha, cores=cores_, nsamples=\"all\")[1,,]\n",
    "ind.data = data.frame(indpars)\n",
    "ind.data$id = fit_mvtha$setup$idmap$original #or new, its the same\n",
    "head(ind.data,3)\n",
    "dim(ind.data)\n",
    "write.csv(ind.data, file=file.path(path_save_,paste0(name,\"HenIDParameters.csv\")))"
   ]
  },
  {
   "cell_type": "code",
   "execution_count": 19,
   "id": "000638f5",
   "metadata": {},
   "outputs": [
    {
     "name": "stderr",
     "output_type": "stream",
     "text": [
      "Computing state estimates..\n",
      "\n",
      "Computing quantities for 1 samples...\n",
      "\n"
     ]
    },
    {
     "data": {
      "image/png": "[encoded data removed]",
      "text/plain": [
       "plot without title"
      ]
     },
     "metadata": {
      "image/png": {
       "height": 420,
       "width": 420
      }
     },
     "output_type": "display_data"
    }
   ],
   "source": [
    "ctKalman(fit_mvtha,subjects=c(52,202),plot=T,kalmanvec=c('y','yprior'), polygonsteps=10)"
   ]
  },
  {
   "cell_type": "markdown",
   "id": "2be86d3a",
   "metadata": {},
   "source": [
    "#get Standardize residuals\n",
    "df_res = ctStanKalman(fit_mvtha, standardisederrors=TRUE)\n",
    "dim(df_res)\n",
    "#write.csv(df_res, file=file.path(path_save_,paste0(name,\"df_standardized_residual.csv\")))"
   ]
  },
  {
   "cell_type": "code",
   "execution_count": 20,
   "id": "2ffeb7b9",
   "metadata": {},
   "outputs": [
    {
     "name": "stderr",
     "output_type": "stream",
     "text": [
      "Computing state estimates..\n",
      "\n",
      "Computing quantities for 1 samples...\n",
      "\n"
     ]
    },
    {
     "data": {
      "text/html": [
       "<style>\n",
       ".list-inline {list-style: none; margin:0; padding: 0}\n",
       ".list-inline>li {display: inline-block}\n",
       ".list-inline>li:not(:last-child)::after {content: \"\\00b7\"; padding: 0 .5ex}\n",
       "</style>\n",
       "<ol class=list-inline><li>1529082</li><li>11</li></ol>\n"
      ],
      "text/latex": [
       "\\begin{enumerate*}\n",
       "\\item 1529082\n",
       "\\item 11\n",
       "\\end{enumerate*}\n"
      ],
      "text/markdown": [
       "1. 1529082\n",
       "2. 11\n",
       "\n",
       "\n"
      ],
      "text/plain": [
       "[1] 1529082      11"
      ]
     },
     "metadata": {},
     "output_type": "display_data"
    }
   ],
   "source": [
    "df_res = ctKalman(fit_mvtha,subjects=fit_mvtha$setup$idmap[,1],plot=F)#,kalmanvec=c('y','yprior'))\n",
    "dim(df_res)\n",
    "write.csv(df_res, file=file.path(path_save_,paste0(name,\"df_res_yprior.csv\")))"
   ]
  },
  {
   "cell_type": "code",
   "execution_count": 21,
   "id": "460f3075",
   "metadata": {
    "scrolled": true
   },
   "outputs": [
    {
     "name": "stderr",
     "output_type": "stream",
     "text": [
      "Computing quantities for 1500 samples...\n",
      "\n",
      "Generating data from posterior\n",
      "\n",
      "Using 2/12 logical CPU cores\n",
      "\n"
     ]
    },
    {
     "data": {
      "image/png": "[encoded data removed]",
      "text/plain": [
       "plot without title"
      ]
     },
     "metadata": {
      "image/png": {
       "height": 420,
       "width": 420
      }
     },
     "output_type": "display_data"
    },
    {
     "data": {
      "image/png": "[encoded data removed]",
      "text/plain": [
       "plot without title"
      ]
     },
     "metadata": {
      "image/png": {
       "height": 420,
       "width": 420
      }
     },
     "output_type": "display_data"
    },
    {
     "data": {
      "text/plain": [
       "NULL"
      ]
     },
     "metadata": {},
     "output_type": "display_data"
    },
    {
     "data": {
      "image/png": "[encoded data removed]",
      "text/plain": [
       "plot without title"
      ]
     },
     "metadata": {
      "image/png": {
       "height": 420,
       "width": 420
      }
     },
     "output_type": "display_data"
    }
   ],
   "source": [
    "#compare randomly generated data from posterior to observed data\n",
    "ctStanPostPredict(fit_mvtha, wait=FALSE)"
   ]
  },
  {
   "cell_type": "code",
   "execution_count": 22,
   "id": "1a8d5cd7",
   "metadata": {},
   "outputs": [
    {
     "name": "stderr",
     "output_type": "stream",
     "text": [
      "Computing temporal regression coefficients for 100 samples, may take a moment...\n",
      "\n"
     ]
    }
   ],
   "source": [
    "x = ctStanDiscretePars(fit_mvtha, subjects='popmean')\n",
    "#ctStanDiscreteParsPlot(x, indices='CR',facets='Subject')\n",
    "write.csv(as.data.frame(x), file=file.path(path_save_,paste0(name,\"ctStanDiscretePars.csv\")))"
   ]
  },
  {
   "cell_type": "code",
   "execution_count": 23,
   "id": "0dfeec25",
   "metadata": {},
   "outputs": [
    {
     "name": "stderr",
     "output_type": "stream",
     "text": [
      "Using 5/12 available CPU cores\n",
      "\n",
      "Using 5/12 logical CPU cores\n",
      "\n",
      "Optimizing...\n",
      "\n",
      "Finishing optimization...\n",
      "\n",
      "Using 5/12 logical CPU cores\n",
      "\n",
      "Optimizing...\n",
      "\n",
      "Finishing optimization...\n",
      "\n",
      "Using 5/12 logical CPU cores\n",
      "\n",
      "Optimizing...\n",
      "\n",
      "Finishing optimization...\n",
      "\n",
      "Using 5/12 available CPU cores\n",
      "\n",
      "Using 5/12 logical CPU cores\n",
      "\n",
      "Optimizing...\n",
      "\n",
      "Finishing optimization...\n",
      "\n",
      "Using 5/12 logical CPU cores\n",
      "\n",
      "Optimizing...\n",
      "\n",
      "Finishing optimization...\n",
      "\n",
      "Using 5/12 logical CPU cores\n",
      "\n",
      "Optimizing...\n",
      "\n",
      "Finishing optimization...\n",
      "\n"
     ]
    }
   ],
   "source": [
    "#K fold cross validation for ctStanFit objects\n",
    "#\"folds Number of cross validation splits to use – 3 folds implies that the model is re-fit 3 times, each time to a data set \n",
    "#with 1/3 of the observations randomly removed\"\n",
    "loores = ctLOO(fit_mvtha, folds = folds_, cores = cores_, subjectwise=TRUE)\n",
    "for (i in folds_){\n",
    "    df_fold = loores$foldrows[as.character(i-1)]\n",
    "    write.csv(df_fold, file=file.path(path_save_,paste0(name,'df_',i,\"fold.csv\")))}\n",
    "df_foldpars = loores$foldpars\n",
    "write.csv(df_foldpars, file=file.path(path_save_,paste0(name,\"df_foldpars.csv\")))\n",
    "df_sampleloglikrow = data.frame('out'=loores$outsampleLogLikRow,'in'=c(loores$insampleLogLikRow))\n",
    "write.csv(df_sampleloglikrow, file=file.path(path_save_,paste0(name,\"df_sampleloglikrow.csv\")))\n",
    "df_resloo = data.frame('insampleLogLik' = loores$insampleLogLik,\n",
    "           'outsampleLogLik' = loores$outsampleLogLik,\n",
    "           'outsampleLogLik' = loores$insampleRowwiseEntropy,\n",
    "           'outsampleRowwiseEntropy' = loores$outsampleRowwiseEntropy,\n",
    "           'insampleSubjectwiseEntropy' = loores$insampleSubjectwiseEntropy,\n",
    "           'outsampleSubjectwiseEntropy' = loores$outsampleSubjectwiseEntropy,\n",
    "           'insampleRowwiseLogLikSD' = loores$insampleRowwiseLogLikSD,\n",
    "           'outsampleRowwiseLogLikSD' = loores$outsampleRowwiseLogLikSD,\n",
    "           'insampleSubjectwiseLogLikSD' = loores$insampleSubjectwiseLogLikSD,\n",
    "           'outsampleSubjectwiseLogLikSD' = loores$outsampleSubjectwiseLogLikSD)\n",
    "write.csv(df_resloo, file=file.path(path_save_,paste0(name,\"df_resloo.csv\")))\n",
    "##\n",
    "fit_mvtha$cv =ctLOO(fit_mvtha, folds = folds_, cores = cores_, subjectwise=TRUE)\n",
    "save(fit_mvtha,file=file.path(path_save_,'fit_mvtha.rda'))"
   ]
  },
  {
   "cell_type": "code",
   "execution_count": null,
   "id": "2102f0c8",
   "metadata": {},
   "outputs": [],
   "source": []
  },
  {
   "cell_type": "code",
   "execution_count": null,
   "id": "e1d03d4b",
   "metadata": {},
   "outputs": [],
   "source": []
  },
  {
   "cell_type": "code",
   "execution_count": null,
   "id": "764f96f6",
   "metadata": {},
   "outputs": [],
   "source": []
  },
  {
   "cell_type": "code",
   "execution_count": null,
   "id": "47b8bb8e",
   "metadata": {},
   "outputs": [],
   "source": []
  },
  {
   "cell_type": "code",
   "execution_count": null,
   "id": "340a7d2f",
   "metadata": {},
   "outputs": [],
   "source": []
  },
  {
   "cell_type": "code",
   "execution_count": null,
   "id": "bef05d4c",
   "metadata": {},
   "outputs": [],
   "source": []
  },
  {
   "cell_type": "code",
   "execution_count": null,
   "id": "5bb6f978",
   "metadata": {},
   "outputs": [],
   "source": []
  }
 ],
 "metadata": {
  "kernelspec": {
   "display_name": " Rkernel_4",
   "language": "R",
   "name": "rkernel_4"
  },
  "language_info": {
   "codemirror_mode": "r",
   "file_extension": ".r",
   "mimetype": "text/x-r-source",
   "name": "R",
   "pygments_lexer": "r",
   "version": "4.1.1"
  }
 },
 "nbformat": 4,
 "nbformat_minor": 5
}
