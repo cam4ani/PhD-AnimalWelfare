{
 "cells": [
  {
   "cell_type": "code",
   "execution_count": 1,
   "metadata": {},
   "outputs": [],
   "source": [
    "#basic package\n",
    "import json\n",
    "import tqdm\n",
    "import os\n",
    "import numpy as np\n",
    "import glob\n",
    "import pandas as pd\n",
    "import sys\n",
    "import shutil\n",
    "import time\n",
    "import datetime as dt\n",
    "import itertools\n",
    "import time\n",
    "import re\n",
    "from collections import Counter\n",
    "from collections import defaultdict\n",
    "import operator\n",
    "import math\n",
    "\n",
    "#plot\n",
    "import matplotlib.pyplot as plt\n",
    "import seaborn as sns"
   ]
  },
  {
   "cell_type": "code",
   "execution_count": 2,
   "metadata": {},
   "outputs": [],
   "source": [
    "#change r to 0 from 0.2\n",
    "sys.path.append('C:\\\\Users\\\\camil\\\\Desktop\\\\animals_code\\\\entropy')\n",
    "from entropy.entropy import sample_entropy\n",
    "#from entropy.entropy import sample_entropy #https://github.com/raphaelvallat/entropy"
   ]
  },
  {
   "cell_type": "code",
   "execution_count": 3,
   "metadata": {},
   "outputs": [
    {
     "name": "stdout",
     "output_type": "stream",
     "text": [
      "we restrict the time series to one value per 60 seconds \n",
      "we compute the complexity variables each 30 minutes \n",
      "each variables includes the values of at least the last 120.00 minutes (i.e. are using 120.00 values)\n"
     ]
    }
   ],
   "source": [
    "from UTILS import time_series_henColumn_tsRow, crosscorr, is_day, CrossCorrelationHeatmap\n",
    "import config_mobility as config"
   ]
  },
  {
   "cell_type": "code",
   "execution_count": 4,
   "metadata": {},
   "outputs": [],
   "source": [
    "path_extracted_data = config.path_extracted_data\n",
    "id_run = config.id_run\n",
    "nbr_sec = config.nbr_sec"
   ]
  },
  {
   "cell_type": "markdown",
   "metadata": {},
   "source": [
    "# Variable at Day Level computation"
   ]
  },
  {
   "cell_type": "code",
   "execution_count": 5,
   "metadata": {},
   "outputs": [
    {
     "name": "stderr",
     "output_type": "stream",
     "text": [
      "\r",
      "  0%|                                                                                           | 0/11 [00:00<?, ?it/s]"
     ]
    },
    {
     "name": "stdout",
     "output_type": "stream",
     "text": [
      "------------------------------------------------------------------------- 4B\n",
      "There is 59 hens and hence 1711 relation\n"
     ]
    },
    {
     "name": "stderr",
     "output_type": "stream",
     "text": [
      "\r",
      "  9%|███████▌                                                                           | 1/11 [00:14<02:27, 14.78s/it]"
     ]
    },
    {
     "name": "stdout",
     "output_type": "stream",
     "text": [
      "------------------------------------------------------------------------- 5B\n",
      "There is 58 hens and hence 1653 relation\n"
     ]
    },
    {
     "name": "stderr",
     "output_type": "stream",
     "text": [
      "\r",
      " 27%|██████████████████████▋                                                            | 3/11 [00:29<01:40, 12.56s/it]"
     ]
    },
    {
     "name": "stdout",
     "output_type": "stream",
     "text": [
      "------------------------------------------------------------------------- 6B\n",
      "There is 58 hens and hence 1653 relation\n"
     ]
    },
    {
     "name": "stderr",
     "output_type": "stream",
     "text": [
      "\r",
      " 45%|███████████████████████████████████                                          | 5/11 [7:09:38<6:27:07, 3871.19s/it]"
     ]
    },
    {
     "name": "stdout",
     "output_type": "stream",
     "text": [
      "------------------------------------------------------------------------- 7B\n",
      "There is 56 hens and hence 1540 relation\n"
     ]
    },
    {
     "name": "stderr",
     "output_type": "stream",
     "text": [
      "\r",
      " 64%|████████████████████████████████████████████████▎                           | 7/11 [12:43:37<6:21:02, 5715.66s/it]"
     ]
    },
    {
     "name": "stdout",
     "output_type": "stream",
     "text": [
      "------------------------------------------------------------------------- 8B\n",
      "There is 57 hens and hence 1596 relation\n"
     ]
    },
    {
     "name": "stderr",
     "output_type": "stream",
     "text": [
      "ERROR:root:Internal Python error in the inspect module.\n",
      "Below is the traceback from this internal error.\n",
      "\n"
     ]
    },
    {
     "name": "stdout",
     "output_type": "stream",
     "text": [
      "Traceback (most recent call last):\n",
      "  File \"c:\\users\\camil\\anaconda3\\lib\\site-packages\\IPython\\core\\interactiveshell.py\", line 2910, in run_code\n",
      "    exec(code_obj, self.user_global_ns, self.user_ns)\n",
      "  File \"<ipython-input-5-86a4aee4c145>\", line 22, in <module>\n",
      "    li_choosen_relationship, if_not_already_done=True)\n",
      "  File \"C:\\Users\\camil\\Desktop\\animals_code\\PhD\\UTILS.py\", line 2233, in CrossCorrelationHeatmap\n",
      "    rs = [crosscorr(d1_, d2_, lag, wrap=False) for lag in range(-shift,shift)]\n",
      "  File \"C:\\Users\\camil\\Desktop\\animals_code\\PhD\\UTILS.py\", line 2233, in <listcomp>\n",
      "    rs = [crosscorr(d1_, d2_, lag, wrap=False) for lag in range(-shift,shift)]\n",
      "  File \"C:\\Users\\camil\\Desktop\\animals_code\\PhD\\UTILS.py\", line 2175, in crosscorr\n",
      "    return datax.corr(datay.shift(shift))\n",
      "  File \"c:\\users\\camil\\anaconda3\\lib\\site-packages\\pandas\\core\\series.py\", line 1490, in corr\n",
      "    min_periods=min_periods)\n",
      "  File \"c:\\users\\camil\\anaconda3\\lib\\site-packages\\pandas\\core\\nanops.py\", line 77, in _f\n",
      "    return f(*args, **kwargs)\n",
      "  File \"c:\\users\\camil\\anaconda3\\lib\\site-packages\\pandas\\core\\nanops.py\", line 750, in nancorr\n",
      "    valid = notna(a) & notna(b)\n",
      "  File \"c:\\users\\camil\\anaconda3\\lib\\site-packages\\pandas\\core\\dtypes\\missing.py\", line 212, in notna\n",
      "    res = isna(obj)\n",
      "  File \"c:\\users\\camil\\anaconda3\\lib\\site-packages\\pandas\\core\\dtypes\\missing.py\", line 45, in isna\n",
      "    return _isna(obj)\n",
      "  File \"c:\\users\\camil\\anaconda3\\lib\\site-packages\\pandas\\core\\dtypes\\missing.py\", line 58, in _isna_new\n",
      "    return _isna_ndarraylike(obj)\n",
      "  File \"c:\\users\\camil\\anaconda3\\lib\\site-packages\\pandas\\core\\dtypes\\missing.py\", line 153, in _isna_ndarraylike\n",
      "    result = np.isnan(values)\n",
      "KeyboardInterrupt\n",
      "\n",
      "During handling of the above exception, another exception occurred:\n",
      "\n",
      "Traceback (most recent call last):\n",
      "  File \"c:\\users\\camil\\anaconda3\\lib\\site-packages\\IPython\\core\\interactiveshell.py\", line 1828, in showtraceback\n",
      "    stb = value._render_traceback_()\n",
      "AttributeError: 'KeyboardInterrupt' object has no attribute '_render_traceback_'\n",
      "\n",
      "During handling of the above exception, another exception occurred:\n",
      "\n",
      "Traceback (most recent call last):\n",
      "  File \"c:\\users\\camil\\anaconda3\\lib\\site-packages\\IPython\\core\\ultratb.py\", line 1090, in get_records\n",
      "    return _fixed_getinnerframes(etb, number_of_lines_of_context, tb_offset)\n",
      "  File \"c:\\users\\camil\\anaconda3\\lib\\site-packages\\IPython\\core\\ultratb.py\", line 311, in wrapped\n",
      "    return f(*args, **kwargs)\n",
      "  File \"c:\\users\\camil\\anaconda3\\lib\\site-packages\\IPython\\core\\ultratb.py\", line 345, in _fixed_getinnerframes\n",
      "    records = fix_frame_records_filenames(inspect.getinnerframes(etb, context))\n",
      "  File \"c:\\users\\camil\\anaconda3\\lib\\inspect.py\", line 1483, in getinnerframes\n",
      "    frameinfo = (tb.tb_frame,) + getframeinfo(tb, context)\n",
      "  File \"c:\\users\\camil\\anaconda3\\lib\\inspect.py\", line 1441, in getframeinfo\n",
      "    filename = getsourcefile(frame) or getfile(frame)\n",
      "  File \"c:\\users\\camil\\anaconda3\\lib\\inspect.py\", line 696, in getsourcefile\n",
      "    if getattr(getmodule(object, filename), '__loader__', None) is not None:\n",
      "  File \"c:\\users\\camil\\anaconda3\\lib\\inspect.py\", line 739, in getmodule\n",
      "    f = getabsfile(module)\n",
      "  File \"c:\\users\\camil\\anaconda3\\lib\\inspect.py\", line 708, in getabsfile\n",
      "    _filename = getsourcefile(object) or getfile(object)\n",
      "  File \"c:\\users\\camil\\anaconda3\\lib\\inspect.py\", line 693, in getsourcefile\n",
      "    if os.path.exists(filename):\n",
      "  File \"c:\\users\\camil\\anaconda3\\lib\\genericpath.py\", line 19, in exists\n",
      "    os.stat(path)\n",
      "KeyboardInterrupt\n"
     ]
    },
    {
     "ename": "KeyboardInterrupt",
     "evalue": "",
     "output_type": "error",
     "traceback": [
      "\u001b[1;31m---------------------------------------------------------------------------\u001b[0m"
     ]
    }
   ],
   "source": [
    "ValueDelta = 30 #one value per ValueDelta seconds\n",
    "window_size = 1200 #samples size \n",
    "step_size = 120 #when to compute the cross correlation \n",
    "shift = 240 #Shift/TimeLag\n",
    "save = True\n",
    "ts_name = 'time_serie_day'\n",
    "#li_choosen_relationship = [{'hen_72','hen_79'},{'hen_61','hen_63'},{'hen_74','hen_72'},{'hen_82','hen_99'},\n",
    "#{'hen_103','hen_110'},{'hen_103','hen_120'}]\n",
    "li_choosen_relationship = []\n",
    "\n",
    "START_TIME = time.clock()\n",
    "li_path = glob.glob(os.path.join(path_extracted_data, id_run+'_TimeSeries_*.csv'))\n",
    "li_path = [i for i in li_path if '_hen_' not in i]\n",
    "for path_ in tqdm.tqdm(li_path[11:]):\n",
    "\n",
    "    ######################### download time series associated to this session\n",
    "    name_ = path_.split('_')[-1].split('.')[0]\n",
    "    if name_.endswith('B'):\n",
    "        print('-------------------------------------------------------------------------', name_)\n",
    "        df_ts = pd.read_csv(path_, sep=';', parse_dates=['Timestamp', 'day']) \n",
    "        CrossCorrelationHeatmap(df_ts, ValueDelta, window_size, step_size, shift, name_, config, save, ts_name, \n",
    "                                li_choosen_relationship, if_not_already_done=True)"
   ]
  },
  {
   "cell_type": "markdown",
   "metadata": {},
   "source": [
    "#small tests\n",
    "pd.Series([1,2,3,4,5,6]).corr(pd.Series([1,1,1,1,5]))"
   ]
  },
  {
   "cell_type": "code",
   "execution_count": null,
   "metadata": {},
   "outputs": [],
   "source": []
  },
  {
   "cell_type": "code",
   "execution_count": null,
   "metadata": {},
   "outputs": [],
   "source": []
  },
  {
   "cell_type": "code",
   "execution_count": null,
   "metadata": {},
   "outputs": [],
   "source": []
  },
  {
   "cell_type": "code",
   "execution_count": null,
   "metadata": {},
   "outputs": [],
   "source": []
  },
  {
   "cell_type": "code",
   "execution_count": null,
   "metadata": {},
   "outputs": [],
   "source": []
  },
  {
   "cell_type": "code",
   "execution_count": null,
   "metadata": {},
   "outputs": [],
   "source": []
  },
  {
   "cell_type": "code",
   "execution_count": null,
   "metadata": {},
   "outputs": [],
   "source": []
  },
  {
   "cell_type": "code",
   "execution_count": null,
   "metadata": {},
   "outputs": [],
   "source": []
  }
 ],
 "metadata": {
  "kernelspec": {
   "display_name": "Python 3",
   "language": "python",
   "name": "python3"
  },
  "language_info": {
   "codemirror_mode": {
    "name": "ipython",
    "version": 3
   },
   "file_extension": ".py",
   "mimetype": "text/x-python",
   "name": "python",
   "nbconvert_exporter": "python",
   "pygments_lexer": "ipython3",
   "version": "3.6.4"
  }
 },
 "nbformat": 4,
 "nbformat_minor": 2
}
