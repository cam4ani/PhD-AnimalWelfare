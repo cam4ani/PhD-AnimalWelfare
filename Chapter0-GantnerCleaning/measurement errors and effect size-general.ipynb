{
 "cells": [
  {
   "cell_type": "code",
   "execution_count": 47,
   "metadata": {},
   "outputs": [
    {
     "name": "stderr",
     "output_type": "stream",
     "text": [
      "C:\\Users\\camil\\anaconda3\\lib\\site-packages\\ipykernel\\ipkernel.py:283: DeprecationWarning: `should_run_async` will not call `transform_cell` automatically in the future. Please pass the result to `transformed_cell` argument and any exception that happen during thetransform in `preprocessing_exc_tuple` in IPython 7.17 and above.\n",
      "  and should_run_async(code)\n"
     ]
    }
   ],
   "source": [
    "import numpy as np\n",
    "import pandas as pd\n",
    "from sklearn.metrics import explained_variance_score\n",
    "from scipy import stats\n",
    "import matplotlib.pyplot as plt\n",
    "import seaborn as sns\n",
    "import os\n",
    "import sys\n",
    "import tqdm as tqdm"
   ]
  },
  {
   "cell_type": "code",
   "execution_count": 48,
   "metadata": {},
   "outputs": [
    {
     "name": "stderr",
     "output_type": "stream",
     "text": [
      "C:\\Users\\camil\\anaconda3\\lib\\site-packages\\ipykernel\\ipkernel.py:283: DeprecationWarning: `should_run_async` will not call `transform_cell` automatically in the future. Please pass the result to `transformed_cell` argument and any exception that happen during thetransform in `preprocessing_exc_tuple` in IPython 7.17 and above.\n",
      "  and should_run_async(code)\n"
     ]
    }
   ],
   "source": [
    "PACKAGE_PARENT = '../'\n",
    "SCRIPT_DIR = os.path.dirname(os.path.realpath(os.path.join(os.getcwd(), os.path.expanduser('__file__'))))\n",
    "sys.path.append(os.path.normpath(os.path.join(SCRIPT_DIR, PACKAGE_PARENT)))\n",
    "from UTILS import cleaning_processing, preprocessing_Origins\n",
    "import config_origins_chapter0 as config"
   ]
  },
  {
   "cell_type": "code",
   "execution_count": 3,
   "metadata": {},
   "outputs": [
    {
     "name": "stderr",
     "output_type": "stream",
     "text": [
      "C:\\Users\\camil\\anaconda3\\lib\\site-packages\\ipykernel\\ipkernel.py:283: DeprecationWarning: `should_run_async` will not call `transform_cell` automatically in the future. Please pass the result to `transformed_cell` argument and any exception that happen during thetransform in `preprocessing_exc_tuple` in IPython 7.17 and above.\n",
      "  and should_run_async(code)\n"
     ]
    }
   ],
   "source": [
    "path_extracted_data = config.path_extracted_data\n",
    "path_extracted_data_cleaning = os.path.join(path_extracted_data,'Cleaning')"
   ]
  },
  {
   "cell_type": "code",
   "execution_count": 84,
   "metadata": {},
   "outputs": [
    {
     "name": "stderr",
     "output_type": "stream",
     "text": [
      "C:\\Users\\camil\\anaconda3\\lib\\site-packages\\ipykernel\\ipkernel.py:283: DeprecationWarning: `should_run_async` will not call `transform_cell` automatically in the future. Please pass the result to `transformed_cell` argument and any exception that happen during thetransform in `preprocessing_exc_tuple` in IPython 7.17 and above.\n",
      "  and should_run_async(code)\n"
     ]
    }
   ],
   "source": [
    "#initialise parameters\n",
    "num_samples = 80\n",
    "cov = 0.3\n",
    "var = 1\n",
    "max_k = 100\n",
    "cov_noise = 0.1\n",
    "pval_sign = 0.05\n",
    "total_run = 1000"
   ]
  },
  {
   "cell_type": "code",
   "execution_count": 85,
   "metadata": {
    "scrolled": true
   },
   "outputs": [
    {
     "name": "stderr",
     "output_type": "stream",
     "text": [
      "C:\\Users\\camil\\anaconda3\\lib\\site-packages\\ipykernel\\ipkernel.py:283: DeprecationWarning: `should_run_async` will not call `transform_cell` automatically in the future. Please pass the result to `transformed_cell` argument and any exception that happen during thetransform in `preprocessing_exc_tuple` in IPython 7.17 and above.\n",
      "  and should_run_async(code)\n",
      "100%|██████████████████████████████████████████████████████████████████████████████| 1000/1000 [01:45<00:00,  9.50it/s]\n"
     ]
    },
    {
     "name": "stdout",
     "output_type": "stream",
     "text": [
      "(73730, 10)\n"
     ]
    },
    {
     "data": {
      "text/html": [
       "<div>\n",
       "<style scoped>\n",
       "    .dataframe tbody tr th:only-of-type {\n",
       "        vertical-align: middle;\n",
       "    }\n",
       "\n",
       "    .dataframe tbody tr th {\n",
       "        vertical-align: top;\n",
       "    }\n",
       "\n",
       "    .dataframe thead th {\n",
       "        text-align: right;\n",
       "    }\n",
       "</style>\n",
       "<table border=\"1\" class=\"dataframe\">\n",
       "  <thead>\n",
       "    <tr style=\"text-align: right;\">\n",
       "      <th></th>\n",
       "      <th>correlation coefficient</th>\n",
       "      <th>pvalue</th>\n",
       "      <th>EV</th>\n",
       "      <th>significant</th>\n",
       "      <th>initial effect size</th>\n",
       "      <th>TR</th>\n",
       "      <th>loss in effect size</th>\n",
       "      <th>percent loss in effect size</th>\n",
       "      <th>initial effect size class</th>\n",
       "      <th>EV class</th>\n",
       "    </tr>\n",
       "  </thead>\n",
       "  <tbody>\n",
       "    <tr>\n",
       "      <th>0</th>\n",
       "      <td>0.362494</td>\n",
       "      <td>0.000952</td>\n",
       "      <td>1.00</td>\n",
       "      <td>True</td>\n",
       "      <td>0.36</td>\n",
       "      <td>0</td>\n",
       "      <td>-0.002494</td>\n",
       "      <td>-0.688050</td>\n",
       "      <td>0.35</td>\n",
       "      <td>1.00</td>\n",
       "    </tr>\n",
       "    <tr>\n",
       "      <th>1</th>\n",
       "      <td>0.349742</td>\n",
       "      <td>0.001473</td>\n",
       "      <td>0.99</td>\n",
       "      <td>True</td>\n",
       "      <td>0.36</td>\n",
       "      <td>0</td>\n",
       "      <td>0.010258</td>\n",
       "      <td>2.932976</td>\n",
       "      <td>0.35</td>\n",
       "      <td>0.95</td>\n",
       "    </tr>\n",
       "    <tr>\n",
       "      <th>2</th>\n",
       "      <td>0.363408</td>\n",
       "      <td>0.000922</td>\n",
       "      <td>0.98</td>\n",
       "      <td>True</td>\n",
       "      <td>0.36</td>\n",
       "      <td>0</td>\n",
       "      <td>-0.003408</td>\n",
       "      <td>-0.937883</td>\n",
       "      <td>0.35</td>\n",
       "      <td>0.95</td>\n",
       "    </tr>\n",
       "    <tr>\n",
       "      <th>3</th>\n",
       "      <td>0.340788</td>\n",
       "      <td>0.001980</td>\n",
       "      <td>0.97</td>\n",
       "      <td>True</td>\n",
       "      <td>0.36</td>\n",
       "      <td>0</td>\n",
       "      <td>0.019212</td>\n",
       "      <td>5.637639</td>\n",
       "      <td>0.35</td>\n",
       "      <td>0.95</td>\n",
       "    </tr>\n",
       "    <tr>\n",
       "      <th>4</th>\n",
       "      <td>0.339334</td>\n",
       "      <td>0.002075</td>\n",
       "      <td>0.96</td>\n",
       "      <td>True</td>\n",
       "      <td>0.36</td>\n",
       "      <td>0</td>\n",
       "      <td>0.020666</td>\n",
       "      <td>6.090080</td>\n",
       "      <td>0.35</td>\n",
       "      <td>0.95</td>\n",
       "    </tr>\n",
       "  </tbody>\n",
       "</table>\n",
       "</div>"
      ],
      "text/plain": [
       "   correlation coefficient    pvalue    EV  significant  initial effect size  \\\n",
       "0                 0.362494  0.000952  1.00         True                 0.36   \n",
       "1                 0.349742  0.001473  0.99         True                 0.36   \n",
       "2                 0.363408  0.000922  0.98         True                 0.36   \n",
       "3                 0.340788  0.001980  0.97         True                 0.36   \n",
       "4                 0.339334  0.002075  0.96         True                 0.36   \n",
       "\n",
       "   TR  loss in effect size  percent loss in effect size  \\\n",
       "0   0            -0.002494                    -0.688050   \n",
       "1   0             0.010258                     2.932976   \n",
       "2   0            -0.003408                    -0.937883   \n",
       "3   0             0.019212                     5.637639   \n",
       "4   0             0.020666                     6.090080   \n",
       "\n",
       "   initial effect size class  EV class  \n",
       "0                       0.35      1.00  \n",
       "1                       0.35      0.95  \n",
       "2                       0.35      0.95  \n",
       "3                       0.35      0.95  \n",
       "4                       0.35      0.95  "
      ]
     },
     "execution_count": 85,
     "metadata": {},
     "output_type": "execute_result"
    }
   ],
   "source": [
    "li_df = []\n",
    "for TR in tqdm.tqdm(range(0,total_run)):\n",
    "    ############################### Simulate data ###############################\n",
    "    #mean\n",
    "    mu = np.array([0, 0])\n",
    "    #covariance matrix\n",
    "    r = np.array([[var, cov], #diagnonal: variance and other is covaraince\n",
    "                  [cov,  var]])\n",
    "    #generate the random samples and plot it\n",
    "    y = np.random.multivariate_normal(mu, r, size=num_samples)\n",
    "    #plt.plot(y[:,0], y[:,1], 'b.')\n",
    "    df = pd.DataFrame(y)\n",
    "\n",
    "    #################### Add random noise and match it to EV ####################\n",
    "    df['0_noise0'] = df[0].copy()\n",
    "    k = 1\n",
    "    while k<=max_k:\n",
    "        #add noise\n",
    "        noise = np.random.normal(0,cov_noise,num_samples) #at each run it prodices a different noise\n",
    "        df['0_noise'+str(k)] = df['0_noise'+str(k-1)] + noise\n",
    "        k = k+1\n",
    "\n",
    "    ############## Measurement error effect on the corr. coeff. ###############\n",
    "    li_coeff = []\n",
    "    li_pval = []\n",
    "    li_EV = []\n",
    "    for k in range(0,max_k+1):\n",
    "        coeff,pval = stats.spearmanr(df[1].tolist(), df['0_noise'+str(k)].tolist())\n",
    "        li_coeff.append(coeff)\n",
    "        li_pval.append(pval)\n",
    "        li_EV.append(round(explained_variance_score(df['0_noise'+str(k)].tolist(), df['0_noise0'].tolist()),2))\n",
    "    init_effectsize_corr_pval = stats.spearmanr(df[1].tolist(), df[0].tolist())\n",
    "    df_res = pd.DataFrame({'correlation coefficient':li_coeff, 'pvalue':li_pval, 'EV':li_EV})\n",
    "    df_res['significant'] = df_res['pvalue'].map(lambda x: x<=0.05)\n",
    "    #if initial effect size is significant (otherwise non sense to check)\n",
    "    init_effectsize_pval = init_effectsize_corr_pval[1]\n",
    "    init_effectsize = round(init_effectsize_corr_pval[0],2)\n",
    "    df_res['initial effect size'] = init_effectsize\n",
    "    df_res['TR'] = TR\n",
    "    if init_effectsize_pval<=pval_sign:\n",
    "        df_res['loss in effect size'] = df_res['correlation coefficient'].map(lambda x: init_effectsize-x)\n",
    "        df_res['percent loss in effect size'] = df_res['correlation coefficient'].map(lambda x: (init_effectsize-x)/x*100)\n",
    "        li_df.append(df_res)\n",
    "    #df_res\n",
    "    #sns.scatterplot('correlation coefficient','EV',data=df_res, hue='pvalue', size='significant');\n",
    "    #plt.savefig(os.path.join(path_extracted_data_cleaning,'simulatedEffectofMeasurementErrors.png'), dpi=300, bbox_inches='tight')\n",
    "    \n",
    "df_allresults = pd.concat(li_df)\n",
    "df_allresults['initial effect size class'] = df_allresults['initial effect size'].map(lambda x: int(x*100/5)*5/100)\n",
    "#df_allresults[df_allresults['initial effect size class']>0.3]\n",
    "df_allresults['EV class'] = df_allresults['EV'].map(lambda x: int(x*100/5)*5/100)\n",
    "#df_allresults[df_allresults['percent loss in effect size']>100]\n",
    "#to avoid mroe than 100 percent loss in effect size, and also because it makes sense, we replace by 100% loss all the cases\n",
    "#which result to be unsignificant\n",
    "#replace by a cst value 'x' the values in col2 on a condition of col1\n",
    "df_allresults.loc[df_allresults['significant']==False,'percent loss in effect size'] = 100\n",
    "print(df_allresults.shape)\n",
    "df_allresults.head(5)"
   ]
  },
  {
   "cell_type": "code",
   "execution_count": 89,
   "metadata": {},
   "outputs": [
    {
     "name": "stderr",
     "output_type": "stream",
     "text": [
      "C:\\Users\\camil\\anaconda3\\lib\\site-packages\\ipykernel\\ipkernel.py:283: DeprecationWarning: `should_run_async` will not call `transform_cell` automatically in the future. Please pass the result to `transformed_cell` argument and any exception that happen during thetransform in `preprocessing_exc_tuple` in IPython 7.17 and above.\n",
      "  and should_run_async(code)\n"
     ]
    },
    {
     "data": {
      "image/png": "[encoded data removed]",
      "text/plain": [
       "<Figure size 432x288 with 1 Axes>"
      ]
     },
     "metadata": {
      "needs_background": "light"
     },
     "output_type": "display_data"
    }
   ],
   "source": [
    "sns.boxplot(x='initial effect size class', y='percent loss in effect size', \n",
    "            data=df_allresults[(df_allresults['EV class']>=0.75)&(df_allresults['EV class']<=0.9)&(df_allresults['EV']!=1)], hue='EV class');\n",
    "plt.savefig(os.path.join(path_extracted_data_cleaning,'simulatedEffectofMeasurementErrors_ALL.png'), dpi=300, bbox_inches='tight')"
   ]
  },
  {
   "cell_type": "code",
   "execution_count": null,
   "metadata": {},
   "outputs": [],
   "source": []
  },
  {
   "cell_type": "code",
   "execution_count": null,
   "metadata": {},
   "outputs": [],
   "source": []
  },
  {
   "cell_type": "code",
   "execution_count": null,
   "metadata": {},
   "outputs": [],
   "source": []
  },
  {
   "cell_type": "code",
   "execution_count": null,
   "metadata": {},
   "outputs": [],
   "source": []
  },
  {
   "cell_type": "code",
   "execution_count": null,
   "metadata": {},
   "outputs": [],
   "source": []
  },
  {
   "cell_type": "code",
   "execution_count": null,
   "metadata": {},
   "outputs": [],
   "source": []
  },
  {
   "cell_type": "code",
   "execution_count": null,
   "metadata": {},
   "outputs": [],
   "source": []
  },
  {
   "cell_type": "code",
   "execution_count": null,
   "metadata": {},
   "outputs": [],
   "source": []
  },
  {
   "cell_type": "code",
   "execution_count": null,
   "metadata": {},
   "outputs": [],
   "source": []
  },
  {
   "cell_type": "code",
   "execution_count": null,
   "metadata": {},
   "outputs": [],
   "source": []
  }
 ],
 "metadata": {
  "kernelspec": {
   "display_name": "Python 3",
   "language": "python",
   "name": "python3"
  },
  "language_info": {
   "codemirror_mode": {
    "name": "ipython",
    "version": 3
   },
   "file_extension": ".py",
   "mimetype": "text/x-python",
   "name": "python",
   "nbconvert_exporter": "python",
   "pygments_lexer": "ipython3",
   "version": "3.8.5"
  }
 },
 "nbformat": 4,
 "nbformat_minor": 4
}
