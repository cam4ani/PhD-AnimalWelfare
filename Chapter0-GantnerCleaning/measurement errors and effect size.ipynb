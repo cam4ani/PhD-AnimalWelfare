{
 "cells": [
  {
   "cell_type": "code",
   "execution_count": 22,
   "metadata": {},
   "outputs": [],
   "source": [
    "import numpy as np\n",
    "import pandas as pd\n",
    "from sklearn.metrics import explained_variance_score\n",
    "from scipy import stats\n",
    "import matplotlib.pyplot as plt\n",
    "import seaborn as sns\n",
    "import os\n",
    "import sys"
   ]
  },
  {
   "cell_type": "code",
   "execution_count": 23,
   "metadata": {},
   "outputs": [
    {
     "name": "stderr",
     "output_type": "stream",
     "text": [
      "C:\\Users\\camil\\anaconda3\\lib\\site-packages\\scipy\\sparse\\sparsetools.py:21: DeprecationWarning: `scipy.sparse.sparsetools` is deprecated!\n",
      "scipy.sparse.sparsetools is a private module for scipy.sparse, and should not be used.\n",
      "  _deprecated()\n"
     ]
    },
    {
     "name": "stdout",
     "output_type": "stream",
     "text": [
      "2\n"
     ]
    }
   ],
   "source": [
    "PACKAGE_PARENT = '../'\n",
    "SCRIPT_DIR = os.path.dirname(os.path.realpath(os.path.join(os.getcwd(), os.path.expanduser('__file__'))))\n",
    "sys.path.append(os.path.normpath(os.path.join(SCRIPT_DIR, PACKAGE_PARENT)))\n",
    "from UTILS import cleaning_processing, preprocessing_Origins\n",
    "import config_origins_chapter0 as config"
   ]
  },
  {
   "cell_type": "code",
   "execution_count": 24,
   "metadata": {},
   "outputs": [
    {
     "name": "stderr",
     "output_type": "stream",
     "text": [
      "C:\\Users\\camil\\anaconda3\\lib\\site-packages\\ipykernel\\ipkernel.py:283: DeprecationWarning: `should_run_async` will not call `transform_cell` automatically in the future. Please pass the result to `transformed_cell` argument and any exception that happen during thetransform in `preprocessing_exc_tuple` in IPython 7.17 and above.\n",
      "  and should_run_async(code)\n"
     ]
    }
   ],
   "source": [
    "path_extracted_data = config.path_extracted_data\n",
    "path_extracted_data_cleaning = os.path.join(path_extracted_data,'Cleaning')"
   ]
  },
  {
   "cell_type": "markdown",
   "metadata": {},
   "source": [
    "## Simulate data"
   ]
  },
  {
   "cell_type": "code",
   "execution_count": 2,
   "metadata": {},
   "outputs": [
    {
     "data": {
      "text/html": [
       "<div>\n",
       "<style scoped>\n",
       "    .dataframe tbody tr th:only-of-type {\n",
       "        vertical-align: middle;\n",
       "    }\n",
       "\n",
       "    .dataframe tbody tr th {\n",
       "        vertical-align: top;\n",
       "    }\n",
       "\n",
       "    .dataframe thead th {\n",
       "        text-align: right;\n",
       "    }\n",
       "</style>\n",
       "<table border=\"1\" class=\"dataframe\">\n",
       "  <thead>\n",
       "    <tr style=\"text-align: right;\">\n",
       "      <th></th>\n",
       "      <th>0</th>\n",
       "      <th>1</th>\n",
       "    </tr>\n",
       "  </thead>\n",
       "  <tbody>\n",
       "    <tr>\n",
       "      <th>0</th>\n",
       "      <td>-0.087485</td>\n",
       "      <td>-1.333915</td>\n",
       "    </tr>\n",
       "    <tr>\n",
       "      <th>1</th>\n",
       "      <td>1.466121</td>\n",
       "      <td>0.389875</td>\n",
       "    </tr>\n",
       "    <tr>\n",
       "      <th>2</th>\n",
       "      <td>-0.142676</td>\n",
       "      <td>1.012680</td>\n",
       "    </tr>\n",
       "  </tbody>\n",
       "</table>\n",
       "</div>"
      ],
      "text/plain": [
       "          0         1\n",
       "0 -0.087485 -1.333915\n",
       "1  1.466121  0.389875\n",
       "2 -0.142676  1.012680"
      ]
     },
     "metadata": {},
     "output_type": "display_data"
    },
    {
     "data": {
      "image/png": "[encoded data removed]",
      "text/plain": [
       "<Figure size 432x288 with 1 Axes>"
      ]
     },
     "metadata": {
      "needs_background": "light"
     },
     "output_type": "display_data"
    }
   ],
   "source": [
    "num_samples = 80\n",
    "#mean\n",
    "mu = np.array([0, 0])\n",
    "#the desired covariance matrix.\n",
    "r = np.array([[1, 0.3], #diagnonal: variance and other is covaraince\n",
    "              [0.3,  1]])\n",
    "#generate the random samples and plot it\n",
    "y = np.random.multivariate_normal(mu, r, size=num_samples)\n",
    "plt.plot(y[:,0], y[:,1], 'b.')\n",
    "plt.grid(True)\n",
    "#put in dataframe\n",
    "df = pd.DataFrame(y)\n",
    "display(df.head(3))"
   ]
  },
  {
   "cell_type": "markdown",
   "metadata": {},
   "source": [
    "## Add random noise and match it to EV"
   ]
  },
  {
   "cell_type": "code",
   "execution_count": 3,
   "metadata": {},
   "outputs": [],
   "source": [
    "#(vector of noise centered around 1 and multiply to the data)\n",
    "#OR vector of noise centered around 0 and add it to your data\n",
    "noise = np.random.normal(0,1,num_samples)\n",
    "#0: mean of the normal distribution you are choosing from\n",
    "#1: standard deviation of the normal distribution\n",
    "#100: nbr of elements you get in array noise"
   ]
  },
  {
   "cell_type": "code",
   "execution_count": 4,
   "metadata": {},
   "outputs": [
    {
     "name": "stdout",
     "output_type": "stream",
     "text": [
      "(80, 103)\n"
     ]
    },
    {
     "data": {
      "text/html": [
       "<div>\n",
       "<style scoped>\n",
       "    .dataframe tbody tr th:only-of-type {\n",
       "        vertical-align: middle;\n",
       "    }\n",
       "\n",
       "    .dataframe tbody tr th {\n",
       "        vertical-align: top;\n",
       "    }\n",
       "\n",
       "    .dataframe thead th {\n",
       "        text-align: right;\n",
       "    }\n",
       "</style>\n",
       "<table border=\"1\" class=\"dataframe\">\n",
       "  <thead>\n",
       "    <tr style=\"text-align: right;\">\n",
       "      <th></th>\n",
       "      <th>0</th>\n",
       "      <th>1</th>\n",
       "      <th>0_noise0</th>\n",
       "      <th>0_noise1</th>\n",
       "      <th>0_noise2</th>\n",
       "      <th>0_noise3</th>\n",
       "      <th>0_noise4</th>\n",
       "      <th>0_noise5</th>\n",
       "      <th>0_noise6</th>\n",
       "      <th>0_noise7</th>\n",
       "      <th>...</th>\n",
       "      <th>0_noise91</th>\n",
       "      <th>0_noise92</th>\n",
       "      <th>0_noise93</th>\n",
       "      <th>0_noise94</th>\n",
       "      <th>0_noise95</th>\n",
       "      <th>0_noise96</th>\n",
       "      <th>0_noise97</th>\n",
       "      <th>0_noise98</th>\n",
       "      <th>0_noise99</th>\n",
       "      <th>0_noise100</th>\n",
       "    </tr>\n",
       "  </thead>\n",
       "  <tbody>\n",
       "    <tr>\n",
       "      <th>0</th>\n",
       "      <td>-0.087485</td>\n",
       "      <td>-1.333915</td>\n",
       "      <td>-0.087485</td>\n",
       "      <td>-0.050029</td>\n",
       "      <td>0.074815</td>\n",
       "      <td>0.242483</td>\n",
       "      <td>0.113718</td>\n",
       "      <td>0.163042</td>\n",
       "      <td>0.262698</td>\n",
       "      <td>0.333456</td>\n",
       "      <td>...</td>\n",
       "      <td>-0.747041</td>\n",
       "      <td>-0.695238</td>\n",
       "      <td>-0.723098</td>\n",
       "      <td>-0.906924</td>\n",
       "      <td>-0.832999</td>\n",
       "      <td>-0.759771</td>\n",
       "      <td>-0.481493</td>\n",
       "      <td>-0.350345</td>\n",
       "      <td>-0.498836</td>\n",
       "      <td>-0.290681</td>\n",
       "    </tr>\n",
       "    <tr>\n",
       "      <th>1</th>\n",
       "      <td>1.466121</td>\n",
       "      <td>0.389875</td>\n",
       "      <td>1.466121</td>\n",
       "      <td>1.295896</td>\n",
       "      <td>1.214120</td>\n",
       "      <td>1.222406</td>\n",
       "      <td>1.214379</td>\n",
       "      <td>1.205877</td>\n",
       "      <td>1.169791</td>\n",
       "      <td>1.049903</td>\n",
       "      <td>...</td>\n",
       "      <td>-0.340066</td>\n",
       "      <td>-0.350431</td>\n",
       "      <td>-0.303997</td>\n",
       "      <td>-0.459553</td>\n",
       "      <td>-0.404327</td>\n",
       "      <td>-0.348614</td>\n",
       "      <td>-0.341006</td>\n",
       "      <td>-0.502175</td>\n",
       "      <td>-0.371986</td>\n",
       "      <td>-0.400510</td>\n",
       "    </tr>\n",
       "    <tr>\n",
       "      <th>2</th>\n",
       "      <td>-0.142676</td>\n",
       "      <td>1.012680</td>\n",
       "      <td>-0.142676</td>\n",
       "      <td>-0.141918</td>\n",
       "      <td>-0.042143</td>\n",
       "      <td>-0.013522</td>\n",
       "      <td>-0.212459</td>\n",
       "      <td>-0.189616</td>\n",
       "      <td>-0.339764</td>\n",
       "      <td>-0.253256</td>\n",
       "      <td>...</td>\n",
       "      <td>-0.744221</td>\n",
       "      <td>-0.815941</td>\n",
       "      <td>-0.788658</td>\n",
       "      <td>-0.686835</td>\n",
       "      <td>-0.747848</td>\n",
       "      <td>-0.886862</td>\n",
       "      <td>-0.876374</td>\n",
       "      <td>-0.853905</td>\n",
       "      <td>-0.885731</td>\n",
       "      <td>-0.748348</td>\n",
       "    </tr>\n",
       "  </tbody>\n",
       "</table>\n",
       "<p>3 rows × 103 columns</p>\n",
       "</div>"
      ],
      "text/plain": [
       "          0         1  0_noise0  0_noise1  0_noise2  0_noise3  0_noise4  \\\n",
       "0 -0.087485 -1.333915 -0.087485 -0.050029  0.074815  0.242483  0.113718   \n",
       "1  1.466121  0.389875  1.466121  1.295896  1.214120  1.222406  1.214379   \n",
       "2 -0.142676  1.012680 -0.142676 -0.141918 -0.042143 -0.013522 -0.212459   \n",
       "\n",
       "   0_noise5  0_noise6  0_noise7  ...  0_noise91  0_noise92  0_noise93  \\\n",
       "0  0.163042  0.262698  0.333456  ...  -0.747041  -0.695238  -0.723098   \n",
       "1  1.205877  1.169791  1.049903  ...  -0.340066  -0.350431  -0.303997   \n",
       "2 -0.189616 -0.339764 -0.253256  ...  -0.744221  -0.815941  -0.788658   \n",
       "\n",
       "   0_noise94  0_noise95  0_noise96  0_noise97  0_noise98  0_noise99  \\\n",
       "0  -0.906924  -0.832999  -0.759771  -0.481493  -0.350345  -0.498836   \n",
       "1  -0.459553  -0.404327  -0.348614  -0.341006  -0.502175  -0.371986   \n",
       "2  -0.686835  -0.747848  -0.886862  -0.876374  -0.853905  -0.885731   \n",
       "\n",
       "   0_noise100  \n",
       "0   -0.290681  \n",
       "1   -0.400510  \n",
       "2   -0.748348  \n",
       "\n",
       "[3 rows x 103 columns]"
      ]
     },
     "execution_count": 4,
     "metadata": {},
     "output_type": "execute_result"
    },
    {
     "data": {
      "image/png": "[encoded data removed]",
      "text/plain": [
       "<Figure size 432x288 with 1 Axes>"
      ]
     },
     "metadata": {
      "needs_background": "light"
     },
     "output_type": "display_data"
    }
   ],
   "source": [
    "df['0_noise0'] = df[0].copy()\n",
    "k = 1\n",
    "li_EV = []\n",
    "max_k = 100\n",
    "while k<=max_k:\n",
    "    #add noise\n",
    "    noise = np.random.normal(0,0.1,num_samples) #at each run it prodices a different noise\n",
    "    df['0_noise'+str(k)] = df['0_noise'+str(k-1)] + noise\n",
    "    #convert it to EV from the noisy vector on the initial one\n",
    "    li_EV.append(explained_variance_score(df['0_noise'+str(k)].tolist(), df['0_noise0'].tolist()))\n",
    "    k = k+1\n",
    "plt.plot(li_EV)\n",
    "print(df.shape)\n",
    "df.head(3)"
   ]
  },
  {
   "cell_type": "markdown",
   "metadata": {},
   "source": [
    "## Measurement error effect on the corr. coeff"
   ]
  },
  {
   "cell_type": "code",
   "execution_count": 5,
   "metadata": {},
   "outputs": [
    {
     "data": {
      "text/html": [
       "<div>\n",
       "<style scoped>\n",
       "    .dataframe tbody tr th:only-of-type {\n",
       "        vertical-align: middle;\n",
       "    }\n",
       "\n",
       "    .dataframe tbody tr th {\n",
       "        vertical-align: top;\n",
       "    }\n",
       "\n",
       "    .dataframe thead th {\n",
       "        text-align: right;\n",
       "    }\n",
       "</style>\n",
       "<table border=\"1\" class=\"dataframe\">\n",
       "  <thead>\n",
       "    <tr style=\"text-align: right;\">\n",
       "      <th></th>\n",
       "      <th>correlation coefficient</th>\n",
       "      <th>pvalue</th>\n",
       "      <th>EV</th>\n",
       "    </tr>\n",
       "  </thead>\n",
       "  <tbody>\n",
       "    <tr>\n",
       "      <th>0</th>\n",
       "      <td>0.279934</td>\n",
       "      <td>0.011907</td>\n",
       "      <td>1.000000</td>\n",
       "    </tr>\n",
       "    <tr>\n",
       "      <th>1</th>\n",
       "      <td>0.292241</td>\n",
       "      <td>0.008528</td>\n",
       "      <td>0.991392</td>\n",
       "    </tr>\n",
       "    <tr>\n",
       "      <th>2</th>\n",
       "      <td>0.292382</td>\n",
       "      <td>0.008494</td>\n",
       "      <td>0.978473</td>\n",
       "    </tr>\n",
       "    <tr>\n",
       "      <th>3</th>\n",
       "      <td>0.259611</td>\n",
       "      <td>0.020045</td>\n",
       "      <td>0.975856</td>\n",
       "    </tr>\n",
       "    <tr>\n",
       "      <th>4</th>\n",
       "      <td>0.262353</td>\n",
       "      <td>0.018725</td>\n",
       "      <td>0.964396</td>\n",
       "    </tr>\n",
       "    <tr>\n",
       "      <th>...</th>\n",
       "      <td>...</td>\n",
       "      <td>...</td>\n",
       "      <td>...</td>\n",
       "    </tr>\n",
       "    <tr>\n",
       "      <th>96</th>\n",
       "      <td>0.010759</td>\n",
       "      <td>0.924534</td>\n",
       "      <td>0.359870</td>\n",
       "    </tr>\n",
       "    <tr>\n",
       "      <th>97</th>\n",
       "      <td>-0.010947</td>\n",
       "      <td>0.923223</td>\n",
       "      <td>0.347592</td>\n",
       "    </tr>\n",
       "    <tr>\n",
       "      <th>98</th>\n",
       "      <td>-0.019948</td>\n",
       "      <td>0.860582</td>\n",
       "      <td>0.339338</td>\n",
       "    </tr>\n",
       "    <tr>\n",
       "      <th>99</th>\n",
       "      <td>0.007759</td>\n",
       "      <td>0.945541</td>\n",
       "      <td>0.358773</td>\n",
       "    </tr>\n",
       "    <tr>\n",
       "      <th>100</th>\n",
       "      <td>-0.001805</td>\n",
       "      <td>0.987322</td>\n",
       "      <td>0.363154</td>\n",
       "    </tr>\n",
       "  </tbody>\n",
       "</table>\n",
       "<p>101 rows × 3 columns</p>\n",
       "</div>"
      ],
      "text/plain": [
       "     correlation coefficient    pvalue        EV\n",
       "0                   0.279934  0.011907  1.000000\n",
       "1                   0.292241  0.008528  0.991392\n",
       "2                   0.292382  0.008494  0.978473\n",
       "3                   0.259611  0.020045  0.975856\n",
       "4                   0.262353  0.018725  0.964396\n",
       "..                       ...       ...       ...\n",
       "96                  0.010759  0.924534  0.359870\n",
       "97                 -0.010947  0.923223  0.347592\n",
       "98                 -0.019948  0.860582  0.339338\n",
       "99                  0.007759  0.945541  0.358773\n",
       "100                -0.001805  0.987322  0.363154\n",
       "\n",
       "[101 rows x 3 columns]"
      ]
     },
     "execution_count": 5,
     "metadata": {},
     "output_type": "execute_result"
    }
   ],
   "source": [
    "li_coeff = []\n",
    "li_pval = []\n",
    "li_EV = []\n",
    "for k in range(0,max_k+1):\n",
    "    coeff,pval = stats.spearmanr(df[1].tolist(), df['0_noise'+str(k)].tolist())\n",
    "    li_coeff.append(coeff)\n",
    "    li_pval.append(pval)\n",
    "    li_EV.append(explained_variance_score(df['0_noise'+str(k)].tolist(), df['0_noise0'].tolist()))\n",
    "df_res = pd.DataFrame({'correlation coefficient':li_coeff, 'pvalue':li_pval, 'EV':li_EV})\n",
    "df_res"
   ]
  },
  {
   "cell_type": "code",
   "execution_count": 14,
   "metadata": {},
   "outputs": [],
   "source": [
    "df_res['significant'] = df_res['pvalue'].map(lambda x: x<=0.05)"
   ]
  },
  {
   "cell_type": "markdown",
   "metadata": {},
   "source": [
    "plt.plot(df_res['correlation coefficient'].tolist(), df_res['EV'].tolist());\n",
    "plt.plot(df_res['correlation coefficient'].tolist(), df_res['EV'].tolist(), \"or\")\n",
    "plt.xlabel('correlation coefficient')\n",
    "plt.ylabel('MS expressed with explained variance')\n",
    "#plt.title('Measurement error (MS) effect on Pearson correlation coefficient')\n",
    "plt.grid(True)"
   ]
  },
  {
   "cell_type": "code",
   "execution_count": 26,
   "metadata": {},
   "outputs": [
    {
     "name": "stderr",
     "output_type": "stream",
     "text": [
      "C:\\Users\\camil\\anaconda3\\lib\\site-packages\\ipykernel\\ipkernel.py:283: DeprecationWarning: `should_run_async` will not call `transform_cell` automatically in the future. Please pass the result to `transformed_cell` argument and any exception that happen during thetransform in `preprocessing_exc_tuple` in IPython 7.17 and above.\n",
      "  and should_run_async(code)\n",
      "C:\\Users\\camil\\anaconda3\\lib\\site-packages\\seaborn\\_decorators.py:36: FutureWarning: Pass the following variables as keyword args: x, y. From version 0.12, the only valid positional argument will be `data`, and passing other arguments without an explicit keyword will result in an error or misinterpretation.\n",
      "  warnings.warn(\n"
     ]
    },
    {
     "data": {
      "image/png": "[encoded data removed]",
      "text/plain": [
       "<Figure size 432x288 with 1 Axes>"
      ]
     },
     "metadata": {
      "needs_background": "light"
     },
     "output_type": "display_data"
    }
   ],
   "source": [
    "sns.scatterplot('correlation coefficient','EV',data=df_res, hue='pvalue', size='significant');\n",
    "plt.savefig(os.path.join(path_extracted_data_cleaning,'simulatedEffectofMeasurementErrors.png'), dpi=300, bbox_inches='tight')"
   ]
  },
  {
   "cell_type": "code",
   "execution_count": 7,
   "metadata": {},
   "outputs": [],
   "source": []
  },
  {
   "cell_type": "code",
   "execution_count": null,
   "metadata": {},
   "outputs": [],
   "source": []
  },
  {
   "cell_type": "code",
   "execution_count": null,
   "metadata": {},
   "outputs": [],
   "source": []
  },
  {
   "cell_type": "code",
   "execution_count": null,
   "metadata": {},
   "outputs": [],
   "source": []
  },
  {
   "cell_type": "code",
   "execution_count": null,
   "metadata": {},
   "outputs": [],
   "source": []
  },
  {
   "cell_type": "code",
   "execution_count": null,
   "metadata": {},
   "outputs": [],
   "source": []
  },
  {
   "cell_type": "code",
   "execution_count": null,
   "metadata": {},
   "outputs": [],
   "source": []
  },
  {
   "cell_type": "code",
   "execution_count": null,
   "metadata": {},
   "outputs": [],
   "source": []
  }
 ],
 "metadata": {
  "kernelspec": {
   "display_name": "Python 3",
   "language": "python",
   "name": "python3"
  },
  "language_info": {
   "codemirror_mode": {
    "name": "ipython",
    "version": 3
   },
   "file_extension": ".py",
   "mimetype": "text/x-python",
   "name": "python",
   "nbconvert_exporter": "python",
   "pygments_lexer": "ipython3",
   "version": "3.8.5"
  }
 },
 "nbformat": 4,
 "nbformat_minor": 4
}
