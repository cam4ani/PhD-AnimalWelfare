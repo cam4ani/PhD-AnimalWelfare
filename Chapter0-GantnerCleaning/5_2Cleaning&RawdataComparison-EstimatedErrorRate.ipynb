{
 "cells": [
  {
   "cell_type": "code",
   "execution_count": 1,
   "metadata": {},
   "outputs": [
    {
     "name": "stderr",
     "output_type": "stream",
     "text": [
      "C:\\Users\\camil\\anaconda3\\lib\\site-packages\\outdated\\utils.py:14: OutdatedPackageWarning: The package pingouin is out of date. Your version is 0.3.8, the latest is 0.4.0.\n",
      "Set the environment variable OUTDATED_IGNORE=1 to disable these warnings.\n",
      "  return warn(\n",
      "C:\\Users\\camil\\anaconda3\\lib\\site-packages\\outdated\\utils.py:14: OutdatedPackageWarning: The package outdated is out of date. Your version is 0.2.0, the latest is 0.2.1.\n",
      "Set the environment variable OUTDATED_IGNORE=1 to disable these warnings.\n",
      "  return warn(\n"
     ]
    }
   ],
   "source": [
    "#basic package\n",
    "import json\n",
    "import tqdm\n",
    "import os\n",
    "import numpy as np\n",
    "import glob\n",
    "import pandas as pd\n",
    "import sys\n",
    "import time\n",
    "import random\n",
    "import datetime as dt\n",
    "import math\n",
    "import itertools\n",
    "from itertools import count\n",
    "from sklearn import preprocessing\n",
    "from sklearn.metrics import mean_squared_error, mean_absolute_error, explained_variance_score\n",
    "import statsmodels.stats.api as sms\n",
    "from scipy import stats\n",
    "from scipy.special import logit\n",
    "import collections\n",
    "from collections import Counter\n",
    "from scipy.stats import spearmanr, pearsonr\n",
    "import pingouin as pg #repeated measure correlation\n",
    "#plot\n",
    "from matplotlib.colors import DivergingNorm\n",
    "import matplotlib.pyplot as plt\n",
    "import seaborn as sns"
   ]
  },
  {
   "cell_type": "code",
   "execution_count": 2,
   "metadata": {},
   "outputs": [],
   "source": [
    "PACKAGE_PARENT = '../'\n",
    "SCRIPT_DIR = os.path.dirname(os.path.realpath(os.path.join(os.getcwd(), os.path.expanduser('__file__'))))\n",
    "sys.path.append(os.path.normpath(os.path.join(SCRIPT_DIR, PACKAGE_PARENT)))\n",
    "import config_origins_chapter0 as config"
   ]
  },
  {
   "cell_type": "code",
   "execution_count": 3,
   "metadata": {},
   "outputs": [],
   "source": [
    "#choose method to run the script on\n",
    "name_method = 'ML-method'\n",
    "#name_method = 'TD-method'"
   ]
  },
  {
   "cell_type": "code",
   "execution_count": 4,
   "metadata": {},
   "outputs": [],
   "source": [
    "#initialise parameters\n",
    "path_extracted_data = config.path_extracted_data\n",
    "path_initial_data = config.path_initial_data\n",
    "id_run = config.id_run\n",
    "pal_ = config.pal_\n",
    "pal_zone = config.pal_zone\n",
    "pal_pens = config.pal_pens\n",
    "dico_pen_ts = config.dico_pen_ts\n",
    "pal_tracking_system = config.pal_tracking_system\n",
    "path_extracted_data_cleaning = os.path.join(path_extracted_data,'Cleaning')\n",
    "path_extracted_data_cleaning_model = os.path.join(path_extracted_data_cleaning,'model')  \n",
    "path_extracted_data_cleaning_rawvscleaned = os.path.join(path_extracted_data_cleaning,'Raw&Cleaned')  \n",
    "path_extracted_data_cleaning_rawvscleaned_MLP = os.path.join(path_extracted_data_cleaning_rawvscleaned, 'MLP')\n",
    "if not os.path.exists(path_extracted_data_cleaning_rawvscleaned_MLP):\n",
    "    os.makedirs(path_extracted_data_cleaning_rawvscleaned_MLP)"
   ]
  },
  {
   "cell_type": "markdown",
   "metadata": {},
   "source": [
    "# Download data"
   ]
  },
  {
   "cell_type": "code",
   "execution_count": null,
   "metadata": {},
   "outputs": [],
   "source": [
    "#var to select hens based on their available tracked days AND to find the estiamted number of transitions\n",
    "#Note: this dataset ccontain the variable estimates for the processed and unprocessed dataset\n",
    "df_var = pd.read_csv(os.path.join(path_extracted_data_cleaning_rawvscleaned, name_method+'_daily_ALL_variables.csv'), sep=';', \n",
    "                     parse_dates=['level'], dayfirst=True) \n",
    "print(df_var.shape)\n",
    "df_var['tracking_system'] = df_var['PenID'].map(lambda x: dico_pen_ts[x])\n",
    "df_var['PenID'] = df_var['PenID'].map(lambda x: 'Pen '+str(int(x)))\n",
    "#keep days with same artificial light (not that due to technical issue, sometimes we loose few hours on specific days for \n",
    "#some animals, thus we will remove these)\n",
    "df_var = df_var[df_var['verification_daily_total_duration']==54000]\n",
    "#remove the two dates with irregular WG openeing schedule:\n",
    "li_date2remove = [dt.datetime(2021,1,4), dt.datetime(2020,11,13)] #first one already not here due to health assessment\n",
    "df_var = df_var[~df_var['level'].isin(li_date2remove)]\n",
    "#keep hens with at least 54 days (55 drop from 140 to 90)\n",
    "df_henselection = df_var.groupby('HenID')['level'].agg(lambda x: len(set(x))).reset_index() #set as cleaning & raw\n",
    "print(df_henselection['level'].value_counts())\n",
    "#we choose that all use hens have approxiamely same amount of observations, otherwise if a hen have only 9 days, it will \n",
    "#sometims acount as much as another hen having 54 days\n",
    "df_henselection['has_more_54_days'] = df_henselection['level'].map(lambda x: x>=54)\n",
    "df_henselection['has_more_54_days'].value_counts()\n",
    "li_hen_2keep = df_henselection[df_henselection['has_more_54_days']]['HenID'].unique()\n",
    "print((len(li_hen_2keep)))\n",
    "df_var = df_var[df_var['HenID'].isin(li_hen_2keep)]\n",
    "print(df_var.shape)\n",
    "print('You are analysing %d days, starting at: %s until: %s, with %d hens'%(len(df_var['level'].unique()), \n",
    "                                                              str(df_var['level'].min()), \n",
    "                                                              str(df_var['level'].max()),\n",
    "                                                              len(df_var['HenID'].unique())))\n",
    "df_var.head(3)"
   ]
  },
  {
   "cell_type": "code",
   "execution_count": null,
   "metadata": {},
   "outputs": [],
   "source": [
    "#weather conditions\n",
    "path_weather = os.path.join(r'C:\\Users\\camil\\Desktop\\vm_exchange\\PhD_Data\\Weather','Weather_process.csv')\n",
    "df_weather_h = pd.read_csv(path_weather, sep=';', parse_dates=['date','Timestamp'])\n",
    "df_weather_h = df_weather_h.sort_values('Timestamp') \n",
    "df_weather_h = df_weather_h.drop(['date'], axis=1)\n",
    "df_weather_h['Timestamp_weather'] = df_weather_h['Timestamp'].copy()\n",
    "print(df_weather_h.shape)\n",
    "display(df_weather_h.head(3))"
   ]
  },
  {
   "cell_type": "code",
   "execution_count": null,
   "metadata": {},
   "outputs": [],
   "source": [
    "#prediction per records\n",
    "df_pred = pd.read_csv(os.path.join(path_extracted_data_cleaning_rawvscleaned, id_run+name_method+'_Rawdata&Model.csv'), sep=';', \n",
    "                 parse_dates=['Timestamp','date'], dayfirst=True)\n",
    "df_pred.rename(columns={'Trackingsystem_Zone':'Zone'}, inplace=True)\n",
    "#add when WG is open and select only during the day when wg is open\n",
    "df_pred['is_WG_open'] = df_pred['Timestamp'].map(lambda x: x.hour in [10,11,12,13,14,15])\n",
    "df_pred = df_pred[df_pred['HenID'].isin(li_hen_2keep)]\n",
    "df_pred = df_pred.sort_values('Timestamp') \n",
    "df_pred.rename(columns={'date':'level'}, inplace=True)\n",
    "print(df_pred.shape)\n",
    "display(df_pred.head(3))\n",
    "print(min(df_pred['Timestamp']), max(df_pred['Timestamp']))"
   ]
  },
  {
   "cell_type": "code",
   "execution_count": null,
   "metadata": {},
   "outputs": [],
   "source": [
    "#keep only when tags was functioning (i.e. when we computed the var)\n",
    "print(df_pred.shape, df_var.shape)\n",
    "df_pred = pd.merge(df_pred, df_var[df_var['type']=='cleaning'][['HenID', 'level','verification_daily_total_duration']], \n",
    "                    on=['level','HenID'], how='left')\n",
    "df_pred = df_pred[~df_pred['verification_daily_total_duration'].isnull()]\n",
    "print(df_pred.shape)\n",
    "df_pred.head(3)"
   ]
  },
  {
   "cell_type": "code",
   "execution_count": null,
   "metadata": {},
   "outputs": [],
   "source": [
    "df_pred['prediction'].value_counts(normalize=True)"
   ]
  },
  {
   "cell_type": "markdown",
   "metadata": {},
   "source": [
    "# Humidity and Temperature - hourly estimated error"
   ]
  },
  {
   "cell_type": "code",
   "execution_count": null,
   "metadata": {},
   "outputs": [],
   "source": [
    "#check variation over the day... exist very much\n",
    "df_weather_h['date'] = df_weather_h['Timestamp'].map(lambda x: dt.datetime.date(x))\n",
    "df_wday = df_weather_h[df_weather_h['hour'].isin([11,12,13,14,15,16])].groupby(['date'])[['temperature_C', 'humidity_avgpercent']].agg(lambda x: list(x)).reset_index()\n",
    "df_wday['humidity_avgpercent_avg'] = df_wday['humidity_avgpercent'].map(lambda x: np.mean(x))\n",
    "df_wday['temperature_C_avg'] = df_wday['temperature_C'].map(lambda x: np.mean(x))\n",
    "df_wday"
   ]
  },
  {
   "cell_type": "code",
   "execution_count": null,
   "metadata": {},
   "outputs": [],
   "source": [
    "#merge it to the corresponding (closest) Timestamp and keep only when the WG is open and only the WG registration\n",
    "#only when WG is open, and only WG registrations (as we have externa weather conditions, not internal, internal is control by\n",
    "#the barn automatically)\n",
    "df_pred_weather = pd.merge_asof(df_pred, df_weather_h, on='Timestamp')\n",
    "df_pred_weather['hour'] = df_pred_weather['Timestamp'].map(lambda x: x.hour)\n",
    "display(df_pred_weather.tail(3))\n",
    "df_pred_weather = df_pred_weather[(df_pred_weather['Zone']=='1_Zone') & (df_pred_weather['is_WG_open'])]\n",
    "print(df_pred_weather.shape)\n",
    "df_pred_weather[['temperature_C', 'humidity_avgpercent','hour','PenID','Timestamp_weather']].head(3)"
   ]
  },
  {
   "cell_type": "code",
   "execution_count": null,
   "metadata": {},
   "outputs": [],
   "source": [
    "df_quantitatif_weather = df_pred_weather.groupby(['Timestamp_weather','PenID','hour','system'])[['prediction','temperature_C',\n",
    "                                                            'humidity_avgpercent']].agg(lambda x: list(x)).reset_index()\n",
    "df_quantitatif_weather['humidity_avgpercent'] = df_quantitatif_weather['humidity_avgpercent'].map(lambda x: x[0])\n",
    "df_quantitatif_weather['temperature_C'] = df_quantitatif_weather['temperature_C'].map(lambda x: x[0])\n",
    "df_quantitatif_weather['IFR'] = df_quantitatif_weather['prediction'].map(lambda x: len(x)-sum(x))\n",
    "df_quantitatif_weather['nbr registrations'] = df_quantitatif_weather['prediction'].map(lambda x: len(x))\n",
    "df_quantitatif_weather['estimated error rate'] = df_quantitatif_weather.apply(lambda x: x['IFR']/x['nbr registrations'], axis=1)\n",
    "df_quantitatif_weather['estimated transitions'] = df_quantitatif_weather['prediction'].agg(lambda x: sum(x))\n",
    "#print(df_quantitatif_weather.shape)\n",
    "#df_quantitatif_weather = df_quantitatif_weather[df_quantitatif_weather['nbr registrations']>5] #does not chagne results\n",
    "print(df_quantitatif_weather.shape)\n",
    "df_quantitatif_weather = df_quantitatif_weather[df_quantitatif_weather['hour']!=17]\n",
    "print(df_quantitatif_weather.shape)\n",
    "display(df_quantitatif_weather.head(3))\n",
    "df_quantitatif_weather.to_csv(os.path.join(path_extracted_data_cleaning_rawvscleaned,\n",
    "                                               'environmentalfactorestimatederrorrate.csv'), index=False, sep=';')\n",
    "#sns.histplot(df_quantitatif_weather, x='estimated error rate');\n",
    "#sns.histplot(df_quantitatif_weather,x='nbr registrations');"
   ]
  },
  {
   "cell_type": "markdown",
   "metadata": {},
   "source": [
    "## Estimated error within pen-zone areas"
   ]
  },
  {
   "cell_type": "code",
   "execution_count": null,
   "metadata": {},
   "outputs": [],
   "source": [
    "#computing per animal and taking the mean +-std deviation\n",
    "#IRF/nbr registrations = estimated error rate\n",
    "#all except zone 1 when wg is close (important to keep nights for nestboxes!)\n",
    "df_quantitatif = df_pred[~((~df_pred['is_WG_open'])&(df_pred['Zone']=='1_Zone'))].groupby(['PenID','Zone','HenID'])['prediction'].agg(lambda x: (len(x)-sum(x))/len(x)).reset_index()\n",
    "display(df_quantitatif.head(3))\n",
    "df_quantitatif = df_quantitatif.groupby(['PenID','Zone'])['prediction'].agg(lambda x: list(x)).reset_index()\n",
    "df_quantitatif.rename(columns={'prediction':'estimated error rate','Zone':'Trackingsystem_Zone'}, inplace=True)\n",
    "display(df_quantitatif.head(3))\n",
    "#mean and std over hens\n",
    "df_quantitatif['stddev'] = df_quantitatif['estimated error rate'].map(lambda x: np.std(x)) #not IC as not normally distrib.\n",
    "df_quantitatif['mean'] = df_quantitatif['estimated error rate'].map(lambda x: np.mean(x))\n",
    "df_quantitatif['annot'] = df_quantitatif.apply(lambda x: str(round(x['mean'],2))+' \\n +/-'+str(round(x['stddev'],2)), axis=1)\n",
    "display(df_quantitatif.head(3))\n",
    "#annotations\n",
    "df_annot = df_quantitatif.pivot(values='annot',index='PenID',columns='Trackingsystem_Zone')\n",
    "print('annotations:')\n",
    "display(df_annot)\n",
    "annot_mean_std = df_annot.to_numpy()\n",
    "#values\n",
    "df_quantitatif = df_quantitatif.pivot(values='mean',index='PenID',columns='Trackingsystem_Zone')\n",
    "print('values:')\n",
    "display(df_quantitatif)\n",
    "M = df_quantitatif.to_numpy()\n",
    "dico_x_name = {'1_Zone':'Winter garden',\n",
    "               '2_Zone':'Litter',\n",
    "               '3_Zone':'Lower perch',\n",
    "               '4_Zone':'Nestbox',\n",
    "               '5_Zone':'Top floor'}\n",
    "dico_pen_name = {'pen3':'Pen 3',\n",
    "               'pen4':'Pen 4',\n",
    "               'pen5':'Pen 5',\n",
    "               'pen6':'Pen 6',\n",
    "               'pen8':'Pen 8',\n",
    "               'pen9':'Pen 9',\n",
    "               'pen10':'Pen 10',\n",
    "               'pen11':'Pen 11',\n",
    "               'pen12':'Pen 12'}\n",
    "plt.figure(figsize=(8,4))\n",
    "sns.heatmap(M.transpose(), xticklabels=[dico_pen_name[x] for x in df_quantitatif.index.tolist()], \n",
    "            yticklabels=[dico_x_name[x] for x in df_quantitatif.columns.tolist()], cmap=sns.color_palette(\"Greys\"),\n",
    "            annot=annot_mean_std.transpose(), fmt='', annot_kws={\"size\":8.4})\n",
    "plt.title(r'Estimated error rate')\n",
    "plt.savefig(os.path.join(path_extracted_data_cleaning_rawvscleaned, 'EER_ZonePerPen.png'),format='png',dpi=300,\n",
    "           bbox_inches='tight')\n",
    "plt.show()"
   ]
  },
  {
   "cell_type": "markdown",
   "metadata": {},
   "source": [
    "# amount of transitions"
   ]
  },
  {
   "cell_type": "code",
   "execution_count": null,
   "metadata": {},
   "outputs": [],
   "source": [
    "#only when WG is open to include all zones\n",
    "#use all except zone 1  when the winter garden is close, as these period can only have FR and no CR"
   ]
  },
  {
   "cell_type": "code",
   "execution_count": null,
   "metadata": {},
   "outputs": [],
   "source": [
    "def nbr_transition(li):\n",
    "    '''function to compute number of transition from list of consecutives zone name'''\n",
    "    return max(len(list(itertools.groupby(li, lambda x: x)))-1,0) #max in case of empty list\n",
    "#small test\n",
    "#t = [1,1,1,1,2,2,2,3,3,3,4,4,2,2,2,2]\n",
    "#print(nbr_transition(t)) #4\n",
    "\n",
    "#only when WG is open to have full barn access\n",
    "df_pred_ = df_pred[df_pred['is_WG_open']].copy()\n",
    "#unprocessed\n",
    "df_tr = df_pred_.groupby(['HenID','level'])['Zone'].agg(lambda x: nbr_transition(list(x))).reset_index()\n",
    "df_tr.rename(columns={'Zone':'Unprocessed_number_transition'}, inplace=True)\n",
    "display(df_tr.head(3))\n",
    "\n",
    "#unproc\n",
    "df_estiamtedtr = df_pred_[df_pred_['prediction']==1].groupby(['HenID','level'])['Zone'].agg(lambda x: nbr_transition(list(x))).reset_index()\n",
    "df_estiamtedtr.rename(columns={'Zone':'Estimated_number_transition'}, inplace=True)\n",
    "display(df_estiamtedtr.head(3))"
   ]
  },
  {
   "cell_type": "code",
   "execution_count": null,
   "metadata": {},
   "outputs": [],
   "source": [
    "#merge processed and unnprocessed amount of transitions per day\n",
    "df_trall = pd.merge(df_estiamtedtr, df_tr, on=['HenID','level'])\n",
    "print(df_estiamtedtr.shape, df_tr.shape, df_trall.shape)\n",
    "df_trall.head(3)"
   ]
  },
  {
   "cell_type": "code",
   "execution_count": null,
   "metadata": {},
   "outputs": [],
   "source": [
    "#all zones are linked: an error in one induce an error in another. we will here look if the overall nbr of estimated correct \n",
    "#registrations is linked with the estimated error rate\n",
    "#to keep all zones and everything equal, we will only look while the WG is open: i.e the full pen is available for the birds\n",
    "df_transitionlevel = df_pred_.groupby(['HenID','PenID','system','level'])['prediction'].agg(lambda x: list(x)).reset_index()\n",
    "df_transitionlevel['IFR'] = df_transitionlevel['prediction'].map(lambda x: len(x)-sum(x))\n",
    "df_transitionlevel['nbr registrations'] = df_transitionlevel['prediction'].map(lambda x: len(x))\n",
    "df_transitionlevel['EER'] = df_transitionlevel.apply(lambda x: x['IFR']/x['nbr registrations'], axis=1)\n",
    "#add estimated number of transitions over that day per bird\n",
    "df_transitionlevel = pd.merge(df_transitionlevel, df_trall, on=['level','HenID'], how='left')\n",
    "df_transitionlevel.to_csv(os.path.join(path_extracted_data_cleaning_rawvscleaned,\n",
    "                                               'estimatednumbertransitionsestimatederrorrate.csv'), index=False, sep=';')\n",
    "print(df_transitionlevel.shape)"
   ]
  },
  {
   "cell_type": "code",
   "execution_count": null,
   "metadata": {},
   "outputs": [],
   "source": [
    "sns.scatterplot(x='Estimated_number_transition', y='EER', data=df_transitionlevel);"
   ]
  },
  {
   "cell_type": "code",
   "execution_count": null,
   "metadata": {},
   "outputs": [],
   "source": [
    "#df_pred[(df_pred['HenID']=='hen_1')&(df_pred['level']==dt.datetime(2020,11,14))].iloc[0:25]"
   ]
  },
  {
   "cell_type": "code",
   "execution_count": null,
   "metadata": {},
   "outputs": [],
   "source": []
  },
  {
   "cell_type": "code",
   "execution_count": null,
   "metadata": {},
   "outputs": [],
   "source": []
  },
  {
   "cell_type": "code",
   "execution_count": null,
   "metadata": {},
   "outputs": [],
   "source": []
  },
  {
   "cell_type": "code",
   "execution_count": null,
   "metadata": {},
   "outputs": [],
   "source": []
  },
  {
   "cell_type": "code",
   "execution_count": null,
   "metadata": {},
   "outputs": [],
   "source": []
  },
  {
   "cell_type": "code",
   "execution_count": null,
   "metadata": {},
   "outputs": [],
   "source": []
  },
  {
   "cell_type": "code",
   "execution_count": null,
   "metadata": {},
   "outputs": [],
   "source": []
  }
 ],
 "metadata": {
  "kernelspec": {
   "display_name": "Python 3",
   "language": "python",
   "name": "python3"
  },
  "language_info": {
   "codemirror_mode": {
    "name": "ipython",
    "version": 3
   },
   "file_extension": ".py",
   "mimetype": "text/x-python",
   "name": "python",
   "nbconvert_exporter": "python",
   "pygments_lexer": "ipython3",
   "version": "3.8.5"
  }
 },
 "nbformat": 4,
 "nbformat_minor": 2
}
