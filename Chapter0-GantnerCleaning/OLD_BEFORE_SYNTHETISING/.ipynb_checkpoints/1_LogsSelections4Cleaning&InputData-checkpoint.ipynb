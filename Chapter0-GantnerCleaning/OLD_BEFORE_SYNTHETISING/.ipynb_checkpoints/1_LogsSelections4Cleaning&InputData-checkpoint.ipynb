{
 "cells": [
  {
   "cell_type": "code",
   "execution_count": 1,
   "metadata": {},
   "outputs": [],
   "source": [
    "#basic package\n",
    "import json\n",
    "import tqdm\n",
    "import os\n",
    "import numpy as np\n",
    "import glob\n",
    "import pandas as pd\n",
    "import sys\n",
    "import shutil\n",
    "import time\n",
    "import datetime as dt\n",
    "import itertools\n",
    "import time\n",
    "import re\n",
    "from collections import Counter\n",
    "from collections import defaultdict\n",
    "import operator\n",
    "import math\n",
    "import functools\n",
    "import collections\n",
    "from sklearn.metrics import confusion_matrix\n",
    "import random\n",
    "from sklearn.utils import shuffle\n",
    "\n",
    "#plot\n",
    "import matplotlib.pyplot as plt\n",
    "import seaborn as sns"
   ]
  },
  {
   "cell_type": "code",
   "execution_count": 2,
   "metadata": {},
   "outputs": [
    {
     "ename": "ModuleNotFoundError",
     "evalue": "No module named 'UTILS'",
     "output_type": "error",
     "traceback": [
      "\u001b[1;31m---------------------------------------------------------------------------\u001b[0m",
      "\u001b[1;31mModuleNotFoundError\u001b[0m                       Traceback (most recent call last)",
      "\u001b[1;32m<ipython-input-2-ef451f8260ba>\u001b[0m in \u001b[0;36m<module>\u001b[1;34m\u001b[0m\n\u001b[0;32m      2\u001b[0m \u001b[0mSCRIPT_DIR\u001b[0m \u001b[1;33m=\u001b[0m \u001b[0mos\u001b[0m\u001b[1;33m.\u001b[0m\u001b[0mpath\u001b[0m\u001b[1;33m.\u001b[0m\u001b[0mdirname\u001b[0m\u001b[1;33m(\u001b[0m\u001b[0mos\u001b[0m\u001b[1;33m.\u001b[0m\u001b[0mpath\u001b[0m\u001b[1;33m.\u001b[0m\u001b[0mrealpath\u001b[0m\u001b[1;33m(\u001b[0m\u001b[0mos\u001b[0m\u001b[1;33m.\u001b[0m\u001b[0mpath\u001b[0m\u001b[1;33m.\u001b[0m\u001b[0mjoin\u001b[0m\u001b[1;33m(\u001b[0m\u001b[0mos\u001b[0m\u001b[1;33m.\u001b[0m\u001b[0mgetcwd\u001b[0m\u001b[1;33m(\u001b[0m\u001b[1;33m)\u001b[0m\u001b[1;33m,\u001b[0m \u001b[0mos\u001b[0m\u001b[1;33m.\u001b[0m\u001b[0mpath\u001b[0m\u001b[1;33m.\u001b[0m\u001b[0mexpanduser\u001b[0m\u001b[1;33m(\u001b[0m\u001b[1;34m'__file__'\u001b[0m\u001b[1;33m)\u001b[0m\u001b[1;33m)\u001b[0m\u001b[1;33m)\u001b[0m\u001b[1;33m)\u001b[0m\u001b[1;33m\u001b[0m\u001b[1;33m\u001b[0m\u001b[0m\n\u001b[0;32m      3\u001b[0m \u001b[0msys\u001b[0m\u001b[1;33m.\u001b[0m\u001b[0mpath\u001b[0m\u001b[1;33m.\u001b[0m\u001b[0mappend\u001b[0m\u001b[1;33m(\u001b[0m\u001b[0mos\u001b[0m\u001b[1;33m.\u001b[0m\u001b[0mpath\u001b[0m\u001b[1;33m.\u001b[0m\u001b[0mnormpath\u001b[0m\u001b[1;33m(\u001b[0m\u001b[0mos\u001b[0m\u001b[1;33m.\u001b[0m\u001b[0mpath\u001b[0m\u001b[1;33m.\u001b[0m\u001b[0mjoin\u001b[0m\u001b[1;33m(\u001b[0m\u001b[0mSCRIPT_DIR\u001b[0m\u001b[1;33m,\u001b[0m \u001b[0mPACKAGE_PARENT\u001b[0m\u001b[1;33m)\u001b[0m\u001b[1;33m)\u001b[0m\u001b[1;33m)\u001b[0m\u001b[1;33m\u001b[0m\u001b[1;33m\u001b[0m\u001b[0m\n\u001b[1;32m----> 4\u001b[1;33m \u001b[1;32mfrom\u001b[0m \u001b[0mUTILS\u001b[0m \u001b[1;32mimport\u001b[0m \u001b[0mis_WG_open\u001b[0m\u001b[1;33m,\u001b[0m \u001b[0mcleaning_processing\u001b[0m\u001b[1;33m,\u001b[0m \u001b[0mpreprocessing_Origins\u001b[0m\u001b[1;33m\u001b[0m\u001b[1;33m\u001b[0m\u001b[0m\n\u001b[0m\u001b[0;32m      5\u001b[0m \u001b[1;32mimport\u001b[0m \u001b[0mconfig_origins\u001b[0m \u001b[1;32mas\u001b[0m \u001b[0mconfig\u001b[0m\u001b[1;33m\u001b[0m\u001b[1;33m\u001b[0m\u001b[0m\n",
      "\u001b[1;31mModuleNotFoundError\u001b[0m: No module named 'UTILS'"
     ]
    }
   ],
   "source": [
    "PACKAGE_PARENT = '../'\n",
    "SCRIPT_DIR = os.path.dirname(os.path.realpath(os.path.join(os.getcwd(), os.path.expanduser('__file__'))))\n",
    "sys.path.append(os.path.normpath(os.path.join(SCRIPT_DIR, PACKAGE_PARENT)))\n",
    "from UTILS import is_WG_open, cleaning_processing, preprocessing_Origins\n",
    "import config_origins as config"
   ]
  },
  {
   "cell_type": "code",
   "execution_count": null,
   "metadata": {},
   "outputs": [],
   "source": [
    "print('change the configuration file if not done yet!')\n",
    "path_extracted_data = config.path_extracted_data\n",
    "path_initial_data = config.path_initial_data\n",
    "id_run = config.id_run\n",
    "dico_matching = config.dico_matching\n",
    "date_first_opening_WG = config.date_first_opening_WG\n",
    "dico_garden_opening_hour = config.dico_garden_opening_hour\n",
    "print(id_run)\n",
    "path_cleaning_records = r'G:\\VPHI\\Welfare\\2- Research Projects\\OFHE2.OriginsE2\\GantnerSystem\\GantnerCleaning\\Results'\n",
    "path_extracted_data_cleaning = os.path.join(path_extracted_data,'Cleaning')\n",
    "#path_extracted_data_cleaning = r'D:\\vm_exchange\\PhD_Data\\LogsCleaning'\n",
    "#create a director if not existing\n",
    "if not os.path.exists(path_extracted_data_cleaning):\n",
    "    os.makedirs(path_extracted_data_cleaning)"
   ]
  },
  {
   "cell_type": "markdown",
   "metadata": {},
   "source": [
    "# Download Students records"
   ]
  },
  {
   "cell_type": "markdown",
   "metadata": {
    "scrolled": true
   },
   "source": [
    "df_WG = pd.read_excel(os.path.join(path_cleaning_records,'Pen8_WG_CM.xlsm'), parse_dates=['Timestamp'], index_col=False)\n",
    "df_WG['type'] = 'studentsWGspecific'\n",
    "df_WG['algo_type'] = 'cleaning'\n",
    "print(df_WG.shape)\n",
    "df_WG.head(3)"
   ]
  },
  {
   "cell_type": "code",
   "execution_count": null,
   "metadata": {},
   "outputs": [],
   "source": [
    "df_records = pd.read_csv(os.path.join(path_cleaning_records,'Results_all.csv'), parse_dates=['Date'], sep=';')\n",
    "df_records = df_records.dropna(subset=['VideoAnalyse'])\n",
    "df_records['Timestamp'] = df_records.apply(lambda x: dt.datetime(x['Date'].year, x['Date'].month, x['Date'].day, \n",
    "                                                             int(x['Time'].split(':')[0]), int(x['Time'].split(':')[1]), \n",
    "                                                             int(x['Time'].split(':')[2])), axis=1)\n",
    "df_records.drop_duplicates(subset=['Timestamp','TagID'], keep='last', inplace=True)\n",
    "df_records['type'] = 'students'\n",
    "print(df_records.shape)\n",
    "df_records.head(3)"
   ]
  },
  {
   "cell_type": "code",
   "execution_count": null,
   "metadata": {},
   "outputs": [],
   "source": [
    "df_records['Zone'].unique()"
   ]
  },
  {
   "cell_type": "code",
   "execution_count": null,
   "metadata": {
    "scrolled": true
   },
   "outputs": [],
   "source": [
    "#first check the accuracy per verification batch\n",
    "df_ver = df_records[df_records['algo_type']=='verification'].copy()\n",
    "df_ver = df_ver.groupby(['BatchID'])[['VideoAnalyse','Zone']].agg(lambda x: list(x)).reset_index()\n",
    "df_ver['VideoAnalyse'] = df_ver['VideoAnalyse'].map(lambda x: [i for i in x if i in ['0','1']])\n",
    "df_ver['accuracy'] = df_ver['VideoAnalyse'].map(lambda x: sum([i=='1' for i in x])/len(x))\n",
    "df_ver['nbr_transition'] = df_ver['VideoAnalyse'].map(lambda x: len(x))\n",
    "display(df_ver[df_ver['accuracy']==min(df_ver['accuracy'].tolist())])\n",
    "df_ver.head(5)"
   ]
  },
  {
   "cell_type": "code",
   "execution_count": null,
   "metadata": {},
   "outputs": [],
   "source": [
    "#remove WG from cleaning (keeping for verification) as unsure of any time when its actually true, due to the cameras not \n",
    "#filming the pophole\n",
    "print(df_records.shape)\n",
    "df_records = df_records[~((df_records['Zone']=='Wintergarten')&(df_records['algo_type']=='cleaning'))]\n",
    "print(df_records.shape)"
   ]
  },
  {
   "cell_type": "code",
   "execution_count": null,
   "metadata": {},
   "outputs": [],
   "source": [
    "df_records[df_records['VideoAnalyse'].isin(['0','1'])].shape"
   ]
  },
  {
   "cell_type": "markdown",
   "metadata": {},
   "source": [
    "#### concat all"
   ]
  },
  {
   "cell_type": "code",
   "execution_count": null,
   "metadata": {},
   "outputs": [],
   "source": [
    "#df_students = pd.concat([df_WG, df_records])\n",
    "df_students = df_records.dropna(subset=['VideoAnalyse'])\n",
    "df_students['VideoAnalyse'] = df_students['VideoAnalyse'].map(lambda x: str(x).strip())\n",
    "df_students['Zone'] = df_students['Zone'].map(lambda x: config.dico_matching[x])\n",
    "df_students['TagID'] = df_students['TagID'].astype(int).astype(str)\n",
    "df_students['TagID'] = df_students['TagID'].map(lambda x: 'tag_'+str(x))\n",
    "df_students.drop_duplicates(subset=['Timestamp','TagID'], keep='last', inplace=True)\n",
    "df_students.rename(columns={'Date':'date'}, inplace=True)\n",
    "df_students['next_was_missed'].fillna(0,inplace=True)\n",
    "df_students['is_first_observation'].fillna(0,inplace=True)\n",
    "print(df_students.shape)\n",
    "df_students.head(3)"
   ]
  },
  {
   "cell_type": "markdown",
   "metadata": {},
   "source": [
    "# Add henID, previous and next zones from raw data"
   ]
  },
  {
   "cell_type": "code",
   "execution_count": null,
   "metadata": {},
   "outputs": [],
   "source": [
    "p = glob.glob(os.path.join(path_initial_data, 'Barn 4 Pen*\\TagUpdates\\log*'))\n",
    "#print('There is %d log files:\\n  %s'%(len(p),'  \\n  '.join(p)))\n",
    "df = preprocessing_Origins(p, config, save=True, dodevice=False)\n",
    "print(df.shape)\n",
    "display(df.head(2))\n",
    "display(df.tail(2))"
   ]
  },
  {
   "cell_type": "code",
   "execution_count": null,
   "metadata": {},
   "outputs": [],
   "source": [
    "#download data and add the necessary processing as the duration, next/previous zones etc\n",
    "df = cleaning_processing(date_min=dt.datetime(2020,10,1), date_max=dt.datetime(2020,10,30), config=config)\n",
    "print(df.shape)\n",
    "df.head(3)"
   ]
  },
  {
   "cell_type": "code",
   "execution_count": null,
   "metadata": {},
   "outputs": [],
   "source": [
    "#merge info on the students file\n",
    "df_students_info = pd.merge(df_students.filter(['Timestamp', 'TagID', 'Zone', 'VideoAnalyse','is_first_observation',\n",
    "                                                'Date', 'BirdID', 'type','algo_type','BatchID','next_was_missed'], axis=1), \n",
    "                            df, on=['Timestamp','TagID','Zone'], how='left')\n",
    "\n",
    "#add observed zone, note that when its equal to 1 or 3, it means that the zone was correctly observed\n",
    "df_students_info['Observed_Zone'] = df_students_info.apply(lambda x: x['Zone'] if str(x['VideoAnalyse']) in ['1','3'] else \\\n",
    "                                                          x['previous1_zone'], axis=1)\n",
    "#what makes it complicate: if after a missed zone the record was incorrectly registered, then we would need to say that the\n",
    "#observed zone is not the previous_registered zone (\"previous1_zone\"), but the missed zone. Hence, we will only use the first\n",
    "#record of each verification batch as well as all the records linked to a VideoAnalyse=1 or 3 in the \n",
    "#\"4_CleaningMethodsComparison.ipynb\"\n",
    "print(df_students_info.shape)\n",
    "df_students_info.head(3)"
   ]
  },
  {
   "cell_type": "markdown",
   "metadata": {},
   "source": [
    "#### check nan values"
   ]
  },
  {
   "cell_type": "code",
   "execution_count": 47,
   "metadata": {
    "scrolled": false
   },
   "outputs": [
    {
     "name": "stderr",
     "output_type": "stream",
     "text": [
      "C:\\Users\\camil\\anaconda3\\lib\\site-packages\\ipykernel\\ipkernel.py:283: DeprecationWarning: `should_run_async` will not call `transform_cell` automatically in the future. Please pass the result to `transformed_cell` argument and any exception that happen during thetransform in `preprocessing_exc_tuple` in IPython 7.17 and above.\n",
      "  and should_run_async(code)\n"
     ]
    },
    {
     "data": {
      "text/html": [
       "<div>\n",
       "<style scoped>\n",
       "    .dataframe tbody tr th:only-of-type {\n",
       "        vertical-align: middle;\n",
       "    }\n",
       "\n",
       "    .dataframe tbody tr th {\n",
       "        vertical-align: top;\n",
       "    }\n",
       "\n",
       "    .dataframe thead th {\n",
       "        text-align: right;\n",
       "    }\n",
       "</style>\n",
       "<table border=\"1\" class=\"dataframe\">\n",
       "  <thead>\n",
       "    <tr style=\"text-align: right;\">\n",
       "      <th></th>\n",
       "      <th>Timestamp</th>\n",
       "      <th>TagID</th>\n",
       "      <th>Zone</th>\n",
       "      <th>VideoAnalyse</th>\n",
       "      <th>is_first_observation</th>\n",
       "      <th>BirdID</th>\n",
       "      <th>type</th>\n",
       "      <th>algo_type</th>\n",
       "      <th>BatchID</th>\n",
       "      <th>next_was_missed</th>\n",
       "      <th>...</th>\n",
       "      <th>next5_zone</th>\n",
       "      <th>previous5_zone</th>\n",
       "      <th>previousZone==NextZone</th>\n",
       "      <th>zone2_match</th>\n",
       "      <th>zone3_match</th>\n",
       "      <th>zone4_match</th>\n",
       "      <th>zone3_match_exist</th>\n",
       "      <th>next2zone==Zone</th>\n",
       "      <th>previous2zone==Zone</th>\n",
       "      <th>Observed_Zone</th>\n",
       "    </tr>\n",
       "  </thead>\n",
       "  <tbody>\n",
       "  </tbody>\n",
       "</table>\n",
       "<p>0 rows × 47 columns</p>\n",
       "</div>"
      ],
      "text/plain": [
       "Empty DataFrame\n",
       "Columns: [Timestamp, TagID, Zone, VideoAnalyse, is_first_observation, BirdID, type, algo_type, BatchID, next_was_missed, HenID, PenID, signalstrength, system, date, signalstzone2, next1_record_date, next2_record_date, next3_record_date, next4_record_date, next5_record_date, duration, previous_duration, next_duration, previous1_record_date, previous2_record_date, previous3_record_date, previous4_record_date, previous5_record_date, next1_zone, previous1_zone, next2_zone, previous2_zone, next3_zone, previous3_zone, next4_zone, previous4_zone, next5_zone, previous5_zone, previousZone==NextZone, zone2_match, zone3_match, zone4_match, zone3_match_exist, next2zone==Zone, previous2zone==Zone, Observed_Zone]\n",
       "Index: []\n",
       "\n",
       "[0 rows x 47 columns]"
      ]
     },
     "execution_count": 47,
     "metadata": {},
     "output_type": "execute_result"
    }
   ],
   "source": [
    "#df_students_info[(df_students_info['Observed_Zone'].isnull())&(df_students_info['VideoAnalyse'].isin(['0','1']))]['TagID'].value_counts()\n",
    "df_students_info[(df_students_info['Observed_Zone'].isnull())&(df_students_info['VideoAnalyse'].isin(['0','1']))]"
   ]
  },
  {
   "cell_type": "code",
   "execution_count": 48,
   "metadata": {},
   "outputs": [
    {
     "name": "stdout",
     "output_type": "stream",
     "text": [
      "(5315, 47)\n",
      "(5222, 47)\n"
     ]
    },
    {
     "name": "stderr",
     "output_type": "stream",
     "text": [
      "C:\\Users\\camil\\anaconda3\\lib\\site-packages\\ipykernel\\ipkernel.py:283: DeprecationWarning: `should_run_async` will not call `transform_cell` automatically in the future. Please pass the result to `transformed_cell` argument and any exception that happen during thetransform in `preprocessing_exc_tuple` in IPython 7.17 and above.\n",
      "  and should_run_async(code)\n"
     ]
    }
   ],
   "source": [
    "#remove added zone by students\n",
    "print(df_students_info.shape)\n",
    "df_students_info  = df_students_info[(~df_students_info['Zone'].isnull())|(df_students_info['VideoAnalyse']=='3')]\n",
    "print(df_students_info.shape)"
   ]
  },
  {
   "cell_type": "code",
   "execution_count": 49,
   "metadata": {},
   "outputs": [
    {
     "name": "stdout",
     "output_type": "stream",
     "text": [
      "(5222, 47)\n",
      "(0, 47)\n"
     ]
    },
    {
     "name": "stderr",
     "output_type": "stream",
     "text": [
      "C:\\Users\\camil\\anaconda3\\lib\\site-packages\\ipykernel\\ipkernel.py:283: DeprecationWarning: `should_run_async` will not call `transform_cell` automatically in the future. Please pass the result to `transformed_cell` argument and any exception that happen during thetransform in `preprocessing_exc_tuple` in IPython 7.17 and above.\n",
      "  and should_run_async(code)\n"
     ]
    },
    {
     "data": {
      "text/html": [
       "<div>\n",
       "<style scoped>\n",
       "    .dataframe tbody tr th:only-of-type {\n",
       "        vertical-align: middle;\n",
       "    }\n",
       "\n",
       "    .dataframe tbody tr th {\n",
       "        vertical-align: top;\n",
       "    }\n",
       "\n",
       "    .dataframe thead th {\n",
       "        text-align: right;\n",
       "    }\n",
       "</style>\n",
       "<table border=\"1\" class=\"dataframe\">\n",
       "  <thead>\n",
       "    <tr style=\"text-align: right;\">\n",
       "      <th></th>\n",
       "      <th>Timestamp</th>\n",
       "      <th>TagID</th>\n",
       "      <th>Zone</th>\n",
       "      <th>VideoAnalyse</th>\n",
       "      <th>is_first_observation</th>\n",
       "      <th>BirdID</th>\n",
       "      <th>type</th>\n",
       "      <th>algo_type</th>\n",
       "      <th>BatchID</th>\n",
       "      <th>next_was_missed</th>\n",
       "      <th>...</th>\n",
       "      <th>next5_zone</th>\n",
       "      <th>previous5_zone</th>\n",
       "      <th>previousZone==NextZone</th>\n",
       "      <th>zone2_match</th>\n",
       "      <th>zone3_match</th>\n",
       "      <th>zone4_match</th>\n",
       "      <th>zone3_match_exist</th>\n",
       "      <th>next2zone==Zone</th>\n",
       "      <th>previous2zone==Zone</th>\n",
       "      <th>Observed_Zone</th>\n",
       "    </tr>\n",
       "  </thead>\n",
       "  <tbody>\n",
       "    <tr>\n",
       "      <th>1196</th>\n",
       "      <td>2020-10-17 13:22:00</td>\n",
       "      <td>tag_117</td>\n",
       "      <td>2_Zone</td>\n",
       "      <td>1</td>\n",
       "      <td>0.0</td>\n",
       "      <td>10sp</td>\n",
       "      <td>students</td>\n",
       "      <td>cleaning</td>\n",
       "      <td>NaN</td>\n",
       "      <td>1.0</td>\n",
       "      <td>...</td>\n",
       "      <td>NaN</td>\n",
       "      <td>NaN</td>\n",
       "      <td>NaN</td>\n",
       "      <td>NaN</td>\n",
       "      <td>NaN</td>\n",
       "      <td>NaN</td>\n",
       "      <td>NaN</td>\n",
       "      <td>NaN</td>\n",
       "      <td>NaN</td>\n",
       "      <td>2_Zone</td>\n",
       "    </tr>\n",
       "    <tr>\n",
       "      <th>3061</th>\n",
       "      <td>2020-10-15 13:05:45</td>\n",
       "      <td>tag_75</td>\n",
       "      <td>2_Zone</td>\n",
       "      <td>1</td>\n",
       "      <td>0.0</td>\n",
       "      <td>8sb</td>\n",
       "      <td>students</td>\n",
       "      <td>verification</td>\n",
       "      <td>ID6</td>\n",
       "      <td>0.0</td>\n",
       "      <td>...</td>\n",
       "      <td>NaN</td>\n",
       "      <td>NaN</td>\n",
       "      <td>NaN</td>\n",
       "      <td>NaN</td>\n",
       "      <td>NaN</td>\n",
       "      <td>NaN</td>\n",
       "      <td>NaN</td>\n",
       "      <td>NaN</td>\n",
       "      <td>NaN</td>\n",
       "      <td>2_Zone</td>\n",
       "    </tr>\n",
       "    <tr>\n",
       "      <th>3428</th>\n",
       "      <td>2020-10-21 12:50:26</td>\n",
       "      <td>tag_125</td>\n",
       "      <td>5_Zone</td>\n",
       "      <td>3</td>\n",
       "      <td>0.0</td>\n",
       "      <td>10pp</td>\n",
       "      <td>students</td>\n",
       "      <td>verification</td>\n",
       "      <td>ID27</td>\n",
       "      <td>0.0</td>\n",
       "      <td>...</td>\n",
       "      <td>NaN</td>\n",
       "      <td>NaN</td>\n",
       "      <td>NaN</td>\n",
       "      <td>NaN</td>\n",
       "      <td>NaN</td>\n",
       "      <td>NaN</td>\n",
       "      <td>NaN</td>\n",
       "      <td>NaN</td>\n",
       "      <td>NaN</td>\n",
       "      <td>5_Zone</td>\n",
       "    </tr>\n",
       "    <tr>\n",
       "      <th>3429</th>\n",
       "      <td>2020-10-21 12:50:29</td>\n",
       "      <td>tag_125</td>\n",
       "      <td>4_Zone</td>\n",
       "      <td>3</td>\n",
       "      <td>0.0</td>\n",
       "      <td>10pp</td>\n",
       "      <td>students</td>\n",
       "      <td>verification</td>\n",
       "      <td>ID27</td>\n",
       "      <td>0.0</td>\n",
       "      <td>...</td>\n",
       "      <td>NaN</td>\n",
       "      <td>NaN</td>\n",
       "      <td>NaN</td>\n",
       "      <td>NaN</td>\n",
       "      <td>NaN</td>\n",
       "      <td>NaN</td>\n",
       "      <td>NaN</td>\n",
       "      <td>NaN</td>\n",
       "      <td>NaN</td>\n",
       "      <td>4_Zone</td>\n",
       "    </tr>\n",
       "    <tr>\n",
       "      <th>3456</th>\n",
       "      <td>2020-10-21 13:43:25</td>\n",
       "      <td>tag_125</td>\n",
       "      <td>2_Zone</td>\n",
       "      <td>3</td>\n",
       "      <td>0.0</td>\n",
       "      <td>10pp</td>\n",
       "      <td>students</td>\n",
       "      <td>verification</td>\n",
       "      <td>ID27</td>\n",
       "      <td>0.0</td>\n",
       "      <td>...</td>\n",
       "      <td>NaN</td>\n",
       "      <td>NaN</td>\n",
       "      <td>NaN</td>\n",
       "      <td>NaN</td>\n",
       "      <td>NaN</td>\n",
       "      <td>NaN</td>\n",
       "      <td>NaN</td>\n",
       "      <td>NaN</td>\n",
       "      <td>NaN</td>\n",
       "      <td>2_Zone</td>\n",
       "    </tr>\n",
       "    <tr>\n",
       "      <th>3457</th>\n",
       "      <td>2020-10-21 13:43:31</td>\n",
       "      <td>tag_125</td>\n",
       "      <td>3_Zone</td>\n",
       "      <td>3</td>\n",
       "      <td>0.0</td>\n",
       "      <td>10pp</td>\n",
       "      <td>students</td>\n",
       "      <td>verification</td>\n",
       "      <td>ID27</td>\n",
       "      <td>0.0</td>\n",
       "      <td>...</td>\n",
       "      <td>NaN</td>\n",
       "      <td>NaN</td>\n",
       "      <td>NaN</td>\n",
       "      <td>NaN</td>\n",
       "      <td>NaN</td>\n",
       "      <td>NaN</td>\n",
       "      <td>NaN</td>\n",
       "      <td>NaN</td>\n",
       "      <td>NaN</td>\n",
       "      <td>3_Zone</td>\n",
       "    </tr>\n",
       "    <tr>\n",
       "      <th>3531</th>\n",
       "      <td>2020-10-23 15:50:35</td>\n",
       "      <td>tag_62</td>\n",
       "      <td>4_Zone</td>\n",
       "      <td>3</td>\n",
       "      <td>0.0</td>\n",
       "      <td>5bb</td>\n",
       "      <td>students</td>\n",
       "      <td>verification</td>\n",
       "      <td>ID30</td>\n",
       "      <td>0.0</td>\n",
       "      <td>...</td>\n",
       "      <td>NaN</td>\n",
       "      <td>NaN</td>\n",
       "      <td>NaN</td>\n",
       "      <td>NaN</td>\n",
       "      <td>NaN</td>\n",
       "      <td>NaN</td>\n",
       "      <td>NaN</td>\n",
       "      <td>NaN</td>\n",
       "      <td>NaN</td>\n",
       "      <td>4_Zone</td>\n",
       "    </tr>\n",
       "    <tr>\n",
       "      <th>4358</th>\n",
       "      <td>2020-10-16 14:43:53</td>\n",
       "      <td>tag_158</td>\n",
       "      <td>2_Zone</td>\n",
       "      <td>Tier 1</td>\n",
       "      <td>0.0</td>\n",
       "      <td>11bb</td>\n",
       "      <td>students</td>\n",
       "      <td>cleaning</td>\n",
       "      <td>NaN</td>\n",
       "      <td>0.0</td>\n",
       "      <td>...</td>\n",
       "      <td>NaN</td>\n",
       "      <td>NaN</td>\n",
       "      <td>NaN</td>\n",
       "      <td>NaN</td>\n",
       "      <td>NaN</td>\n",
       "      <td>NaN</td>\n",
       "      <td>NaN</td>\n",
       "      <td>NaN</td>\n",
       "      <td>NaN</td>\n",
       "      <td>NaN</td>\n",
       "    </tr>\n",
       "    <tr>\n",
       "      <th>4365</th>\n",
       "      <td>2020-10-16 15:14:17</td>\n",
       "      <td>tag_158</td>\n",
       "      <td>2_Zone</td>\n",
       "      <td>Tier 1</td>\n",
       "      <td>0.0</td>\n",
       "      <td>11bb</td>\n",
       "      <td>students</td>\n",
       "      <td>cleaning</td>\n",
       "      <td>NaN</td>\n",
       "      <td>0.0</td>\n",
       "      <td>...</td>\n",
       "      <td>NaN</td>\n",
       "      <td>NaN</td>\n",
       "      <td>NaN</td>\n",
       "      <td>NaN</td>\n",
       "      <td>NaN</td>\n",
       "      <td>NaN</td>\n",
       "      <td>NaN</td>\n",
       "      <td>NaN</td>\n",
       "      <td>NaN</td>\n",
       "      <td>NaN</td>\n",
       "    </tr>\n",
       "    <tr>\n",
       "      <th>4369</th>\n",
       "      <td>2020-10-16 13:59:34</td>\n",
       "      <td>tag_140</td>\n",
       "      <td>3_Zone</td>\n",
       "      <td>1</td>\n",
       "      <td>0.0</td>\n",
       "      <td>11wp</td>\n",
       "      <td>students</td>\n",
       "      <td>cleaning</td>\n",
       "      <td>NaN</td>\n",
       "      <td>0.0</td>\n",
       "      <td>...</td>\n",
       "      <td>NaN</td>\n",
       "      <td>NaN</td>\n",
       "      <td>NaN</td>\n",
       "      <td>NaN</td>\n",
       "      <td>NaN</td>\n",
       "      <td>NaN</td>\n",
       "      <td>NaN</td>\n",
       "      <td>NaN</td>\n",
       "      <td>NaN</td>\n",
       "      <td>3_Zone</td>\n",
       "    </tr>\n",
       "  </tbody>\n",
       "</table>\n",
       "<p>10 rows × 47 columns</p>\n",
       "</div>"
      ],
      "text/plain": [
       "               Timestamp    TagID    Zone VideoAnalyse  is_first_observation  \\\n",
       "1196 2020-10-17 13:22:00  tag_117  2_Zone            1                   0.0   \n",
       "3061 2020-10-15 13:05:45   tag_75  2_Zone            1                   0.0   \n",
       "3428 2020-10-21 12:50:26  tag_125  5_Zone            3                   0.0   \n",
       "3429 2020-10-21 12:50:29  tag_125  4_Zone            3                   0.0   \n",
       "3456 2020-10-21 13:43:25  tag_125  2_Zone            3                   0.0   \n",
       "3457 2020-10-21 13:43:31  tag_125  3_Zone            3                   0.0   \n",
       "3531 2020-10-23 15:50:35   tag_62  4_Zone            3                   0.0   \n",
       "4358 2020-10-16 14:43:53  tag_158  2_Zone       Tier 1                   0.0   \n",
       "4365 2020-10-16 15:14:17  tag_158  2_Zone       Tier 1                   0.0   \n",
       "4369 2020-10-16 13:59:34  tag_140  3_Zone            1                   0.0   \n",
       "\n",
       "     BirdID      type     algo_type BatchID  next_was_missed  ... next5_zone  \\\n",
       "1196   10sp  students      cleaning     NaN              1.0  ...        NaN   \n",
       "3061    8sb  students  verification     ID6              0.0  ...        NaN   \n",
       "3428   10pp  students  verification    ID27              0.0  ...        NaN   \n",
       "3429   10pp  students  verification    ID27              0.0  ...        NaN   \n",
       "3456   10pp  students  verification    ID27              0.0  ...        NaN   \n",
       "3457   10pp  students  verification    ID27              0.0  ...        NaN   \n",
       "3531    5bb  students  verification    ID30              0.0  ...        NaN   \n",
       "4358   11bb  students      cleaning     NaN              0.0  ...        NaN   \n",
       "4365   11bb  students      cleaning     NaN              0.0  ...        NaN   \n",
       "4369   11wp  students      cleaning     NaN              0.0  ...        NaN   \n",
       "\n",
       "     previous5_zone  previousZone==NextZone zone2_match zone3_match  \\\n",
       "1196            NaN                     NaN         NaN         NaN   \n",
       "3061            NaN                     NaN         NaN         NaN   \n",
       "3428            NaN                     NaN         NaN         NaN   \n",
       "3429            NaN                     NaN         NaN         NaN   \n",
       "3456            NaN                     NaN         NaN         NaN   \n",
       "3457            NaN                     NaN         NaN         NaN   \n",
       "3531            NaN                     NaN         NaN         NaN   \n",
       "4358            NaN                     NaN         NaN         NaN   \n",
       "4365            NaN                     NaN         NaN         NaN   \n",
       "4369            NaN                     NaN         NaN         NaN   \n",
       "\n",
       "      zone4_match zone3_match_exist next2zone==Zone previous2zone==Zone  \\\n",
       "1196          NaN               NaN             NaN                 NaN   \n",
       "3061          NaN               NaN             NaN                 NaN   \n",
       "3428          NaN               NaN             NaN                 NaN   \n",
       "3429          NaN               NaN             NaN                 NaN   \n",
       "3456          NaN               NaN             NaN                 NaN   \n",
       "3457          NaN               NaN             NaN                 NaN   \n",
       "3531          NaN               NaN             NaN                 NaN   \n",
       "4358          NaN               NaN             NaN                 NaN   \n",
       "4365          NaN               NaN             NaN                 NaN   \n",
       "4369          NaN               NaN             NaN                 NaN   \n",
       "\n",
       "     Observed_Zone  \n",
       "1196        2_Zone  \n",
       "3061        2_Zone  \n",
       "3428        5_Zone  \n",
       "3429        4_Zone  \n",
       "3456        2_Zone  \n",
       "3457        3_Zone  \n",
       "3531        4_Zone  \n",
       "4358           NaN  \n",
       "4365           NaN  \n",
       "4369        3_Zone  \n",
       "\n",
       "[10 rows x 47 columns]"
      ]
     },
     "execution_count": 49,
     "metadata": {},
     "output_type": "execute_result"
    }
   ],
   "source": [
    "print(df_students_info.shape)\n",
    "print(df_students_info[df_students_info['VideoAnalyse'].isnull()].shape)\n",
    "df_students_info[df_students_info['duration'].isnull()]\n",
    "#-->we will remove those"
   ]
  },
  {
   "cell_type": "code",
   "execution_count": 50,
   "metadata": {},
   "outputs": [
    {
     "name": "stdout",
     "output_type": "stream",
     "text": [
      "(5217, 47)\n"
     ]
    },
    {
     "name": "stderr",
     "output_type": "stream",
     "text": [
      "C:\\Users\\camil\\anaconda3\\lib\\site-packages\\ipykernel\\ipkernel.py:283: DeprecationWarning: `should_run_async` will not call `transform_cell` automatically in the future. Please pass the result to `transformed_cell` argument and any exception that happen during thetransform in `preprocessing_exc_tuple` in IPython 7.17 and above.\n",
      "  and should_run_async(code)\n"
     ]
    }
   ],
   "source": [
    "df_students_info  = df_students_info[(~df_students_info['duration'].isnull())|(df_students_info['VideoAnalyse']=='3')]\n",
    "print(df_students_info.shape)"
   ]
  },
  {
   "cell_type": "code",
   "execution_count": 51,
   "metadata": {},
   "outputs": [
    {
     "name": "stderr",
     "output_type": "stream",
     "text": [
      "C:\\Users\\camil\\anaconda3\\lib\\site-packages\\ipykernel\\ipkernel.py:283: DeprecationWarning: `should_run_async` will not call `transform_cell` automatically in the future. Please pass the result to `transformed_cell` argument and any exception that happen during thetransform in `preprocessing_exc_tuple` in IPython 7.17 and above.\n",
      "  and should_run_async(code)\n"
     ]
    },
    {
     "data": {
      "text/plain": [
       "1     4559\n",
       "0      578\n",
       "-1      75\n",
       "3        5\n",
       "Name: VideoAnalyse, dtype: int64"
      ]
     },
     "execution_count": 51,
     "metadata": {},
     "output_type": "execute_result"
    }
   ],
   "source": [
    "#df_students_info[df_students_info['VideoAnalyse']=='Tier 2'] #students error. but wil be removed\n",
    "df_students_info['VideoAnalyse'].value_counts()"
   ]
  },
  {
   "cell_type": "code",
   "execution_count": 52,
   "metadata": {},
   "outputs": [
    {
     "name": "stderr",
     "output_type": "stream",
     "text": [
      "C:\\Users\\camil\\anaconda3\\lib\\site-packages\\ipykernel\\ipkernel.py:283: DeprecationWarning: `should_run_async` will not call `transform_cell` automatically in the future. Please pass the result to `transformed_cell` argument and any exception that happen during thetransform in `preprocessing_exc_tuple` in IPython 7.17 and above.\n",
      "  and should_run_async(code)\n"
     ]
    },
    {
     "data": {
      "text/html": [
       "<div>\n",
       "<style scoped>\n",
       "    .dataframe tbody tr th:only-of-type {\n",
       "        vertical-align: middle;\n",
       "    }\n",
       "\n",
       "    .dataframe tbody tr th {\n",
       "        vertical-align: top;\n",
       "    }\n",
       "\n",
       "    .dataframe thead th {\n",
       "        text-align: right;\n",
       "    }\n",
       "</style>\n",
       "<table border=\"1\" class=\"dataframe\">\n",
       "  <thead>\n",
       "    <tr style=\"text-align: right;\">\n",
       "      <th></th>\n",
       "      <th>next transition was missed</th>\n",
       "      <th>number of wrong records</th>\n",
       "      <th>minimum duration</th>\n",
       "    </tr>\n",
       "  </thead>\n",
       "  <tbody>\n",
       "    <tr>\n",
       "      <th>0</th>\n",
       "      <td>0.0</td>\n",
       "      <td>109</td>\n",
       "      <td>100</td>\n",
       "    </tr>\n",
       "    <tr>\n",
       "      <th>1</th>\n",
       "      <td>1.0</td>\n",
       "      <td>1</td>\n",
       "      <td>100</td>\n",
       "    </tr>\n",
       "    <tr>\n",
       "      <th>0</th>\n",
       "      <td>0.0</td>\n",
       "      <td>107</td>\n",
       "      <td>101</td>\n",
       "    </tr>\n",
       "  </tbody>\n",
       "</table>\n",
       "</div>"
      ],
      "text/plain": [
       "   next transition was missed  number of wrong records  minimum duration\n",
       "0                         0.0                      109               100\n",
       "1                         1.0                        1               100\n",
       "0                         0.0                      107               101"
      ]
     },
     "metadata": {},
     "output_type": "display_data"
    },
    {
     "data": {
      "image/png": "[encoded data removed]",
      "text/plain": [
       "<Figure size 432x288 with 1 Axes>"
      ]
     },
     "metadata": {
      "needs_background": "light"
     },
     "output_type": "display_data"
    }
   ],
   "source": [
    "df_ = df_students_info[(df_students_info['algo_type']=='cleaning')&\\\n",
    "                          (df_students_info['type']=='students')&\\\n",
    "                          (df_students_info['VideoAnalyse']=='0')]\n",
    "li_df = []\n",
    "for v in range(100,800):\n",
    "    df__ = df_[df_['duration']>v]['next_was_missed'].value_counts().reset_index()\n",
    "    df__.rename(columns={'index':'next transition was missed', 'next_was_missed':'number of wrong records'}, inplace=True)\n",
    "    df__['minimum duration'] = v\n",
    "    li_df.append(df__)\n",
    "df_plt = pd.concat(li_df)\n",
    "display(df_plt.head(3))\n",
    "sns.lineplot(data=df_plt, hue='next transition was missed', x='minimum duration',y='number of wrong records');\n",
    "plt.savefig(os.path.join(path_extracted_data_cleaning, 'MissedTransition_duration.png'), bbox_inches='tight')\n",
    "#--> bigger than 10 minutes, do not filter the record!!\n",
    "#small verification\n",
    "#df__ = df_[(df_['duration']>700)&(df_['VideoAnalyse']=='0')]['next_was_missed'].value_counts().reset_index()\n",
    "#df__.rename(columns={'index':'next transition was missed', 'next_was_missed':'nbr records'})"
   ]
  },
  {
   "cell_type": "markdown",
   "metadata": {},
   "source": [
    "#TO KEEP\n",
    "li_df = []\n",
    "df_ = df_students_info[(df_students_info['algo_type']=='cleaning')&\\\n",
    "                          (df_students_info['type']=='students')&\\\n",
    "                          (df_students_info['VideoAnalyse']!='-1')]\n",
    "for v in range(1,121):\n",
    "    df__ = df_[(df_['duration']<v)&(df_['next_was_missed']==0)]['VideoAnalyse'].value_counts().reset_index()\n",
    "    df__.rename(columns={'index':'VideoAnalysis', 'VideoAnalyse':'number of records'}, inplace=True)\n",
    "    df__['maximum duration'] = v\n",
    "    li_df.append(df__)\n",
    "df_plt = pd.concat(li_df)\n",
    "display(df_plt.head(3))\n",
    "sns.lineplot(data=df_plt, hue='VideoAnalysis', x='maximum duration',y='number of records');\n",
    "#--> under 60 seconds, there is still much more correct records than not correct ones! but thats perhaps not transitions!!\n",
    "#hence not saved as no need for now, and better to change with real transition as binning doe snot intend to remove wrong\n",
    "#records, but intend to remove all records that is not a transition!!!!\n",
    "\n",
    "\n",
    "#AGAIN ONLY MAKE SENCE IF WE SPEAK ABOUT TRANSITIONAL RECORDS ONLY\n",
    "#duration of wrong records before removing nan and hence the missed records\n",
    "df_ = df_students_info[(df_students_info['algo_type']=='cleaning')&\\\n",
    "                          (df_students_info['type']=='students')&\\\n",
    "                          (df_students_info['VideoAnalyse']!='-1')&\\\n",
    "                          ~((df_students_info['duration']>2000)&(df_students_info['VideoAnalyse']=='1'))]\n",
    "sns.boxplot(data=df_, y='duration', x='VideoAnalyse', hue='next_was_missed');\n",
    "plt.savefig(os.path.join(path_extracted_data_cleaning, 'MissedTransition_duration.png'), bbox_inches='tight')\n",
    "#--> bigger than 8 minutes, do not filter the record!!"
   ]
  },
  {
   "cell_type": "code",
   "execution_count": 17,
   "metadata": {},
   "outputs": [
    {
     "name": "stderr",
     "output_type": "stream",
     "text": [
      "C:\\Users\\camil\\anaconda3\\lib\\site-packages\\ipykernel\\ipkernel.py:283: DeprecationWarning: `should_run_async` will not call `transform_cell` automatically in the future. Please pass the result to `transformed_cell` argument and any exception that happen during thetransform in `preprocessing_exc_tuple` in IPython 7.17 and above.\n",
      "  and should_run_async(code)\n"
     ]
    }
   ],
   "source": [
    "#print rows with nan values\n",
    "#df[df.isnull().any(axis=1)]"
   ]
  },
  {
   "cell_type": "markdown",
   "metadata": {},
   "source": [
    "# Select more based on best MLPs"
   ]
  },
  {
   "cell_type": "markdown",
   "metadata": {},
   "source": [
    "df_new_observation = df[df['date'].isin([dt.datetime(2020,10,21), dt.datetime(2020,10,23), dt.datetime(2020,10,24), \n",
    "                                        dt.datetime(2020,10,25), dt.datetime(2020,10,26)])].copy()\n",
    "df_new_observation['hours'] = df_new_observation['Timestamp'].map(lambda x: x.hour)\n",
    "df_new_observation = df_new_observation[df_new_observation['hours'].isin([10,11,12,13,14,15,16,17])]\n",
    "print(df_new_observation.shape)\n",
    "df_new_observation.head(3)"
   ]
  },
  {
   "cell_type": "markdown",
   "metadata": {},
   "source": [
    "df_ = df_new_observation[df_new_observation['hours'].isin([13,14,15,16,17])]\n",
    "print(df_.shape)\n",
    "df_ = df_.groupby(['HenID','date']).agg(\n",
    "    nbr_transition=pd.NamedAgg(column='Zone', aggfunc=lambda x: len(list(x))),\n",
    "    nbr_WG= pd.NamedAgg(column='Zone', aggfunc=lambda x: sum([i=='1_Zone' for i in x]))).reset_index()\n",
    "df_[df_['nbr_WG']>8]"
   ]
  },
  {
   "cell_type": "markdown",
   "metadata": {},
   "source": [
    "df_ = df_new_observation.groupby(['HenID','date']).agg(\n",
    "    nbr_transition=pd.NamedAgg(column='Zone', aggfunc=lambda x: len(list(x))),\n",
    "    nbr = pd.NamedAgg(column='Zone', aggfunc=lambda x: sum([i=='2_Zone' for i in x]))).reset_index()\n",
    "df_[df_['nbr']>30].head(20)"
   ]
  },
  {
   "cell_type": "markdown",
   "metadata": {},
   "source": [
    "df_ = df_new_observation.groupby(['HenID','date']).agg(\n",
    "    nbr_transition=pd.NamedAgg(column='Zone', aggfunc=lambda x: len(list(x))),\n",
    "    nbr = pd.NamedAgg(column='Zone', aggfunc=lambda x: sum([i=='4_Zone' for i in x]))).reset_index()\n",
    "df_[df_['nbr']>20]"
   ]
  },
  {
   "cell_type": "markdown",
   "metadata": {},
   "source": [
    "# Add WG records when closed to cleaning procedure"
   ]
  },
  {
   "cell_type": "markdown",
   "metadata": {},
   "source": [
    "df['hour'] = df['Timestamp'].map(lambda x: x.hour)\n",
    "df['is_WG_open'] = df['hour'].map(lambda x: (x<9)|(x>18))\n",
    "print(df['is_WG_open'].value_counts())"
   ]
  },
  {
   "cell_type": "markdown",
   "metadata": {},
   "source": [
    "#add other restriction to make sure we dont influence badly the algorithm (add most strongest case)\n",
    "df_WGlogs = df[(~df['is_WG_open'])&(df['Zone']=='1_Zone')&(df['duration']<180)&(df['signalstrength']<8)&\\\n",
    "               (df['date']<dt.datetime(2020,10,31))&(df['date']>dt.datetime(2020,10,1))].copy()\n",
    "#df_WGlogs['BirdID'] = df_WGlogs.apply(lambda x: str(x['PenID'])+x['backpackID'],axis=1)\n",
    "df_WGlogs['VideoAnalyse'] = 0\n",
    "df_WGlogs['type'] = 'logs'\n",
    "df_WGlogs['algo_type'] = 'cleaning'\n",
    "#if we want more info: merge this on tagID et date with the logs having the next_zone and duration and a list of \n",
    "#previous and next zone\n",
    "print(df_WGlogs.shape)\n",
    "df_WGlogs.head(3)"
   ]
  },
  {
   "cell_type": "markdown",
   "metadata": {},
   "source": [
    "#keep only part of it for the cleaning process (not the verification, as we want this to be representatif of the overall data)\n",
    "#keep 100 values \n",
    "df_WGlogs = shuffle(df_WGlogs)\n",
    "df_WGlogs = df_WGlogs[0:100]\n",
    "df_WGlogs.head(3)"
   ]
  },
  {
   "cell_type": "markdown",
   "metadata": {},
   "source": [
    "li_col = ['Timestamp','TagID', 'HenID', 'Zone', 'PenID','VideoAnalyse', 'system', 'date','type', 'signalstrength', \n",
    "          'signalstzone2', 'signalstrzone3', 'signalstrzone4','zone2_match','zone3_match','zone4_match',\n",
    "          'next1_zone','next2_zone', 'next3_zone', 'next4_zone', 'next5_zone',\n",
    "          'previous1_zone', 'previous2_zone', 'previous3_zone', 'previous4_zone','previous5_zone',\n",
    "          'duration','previous_duration','algo_type','BatchID','previousZone==NextZone','next_duration',\n",
    "          'next2zone==Zone','previous2zone==Zone','zone3_match_exist','is_first_observation']\n",
    "print(df_WGlogs.shape, df_students_info.shape)\n",
    "df_algo = pd.concat([df_WGlogs.filter(li_col, axis=1), df_students_info.filter(li_col, axis=1)])\n",
    "df_algo['VideoAnalyse'] = df_algo['VideoAnalyse'].map(lambda x: str(x).strip())\n",
    "print(df_algo.shape)\n",
    "df_algo.head(3)"
   ]
  },
  {
   "cell_type": "markdown",
   "metadata": {},
   "source": [
    "# Saving of final Input data for algo"
   ]
  },
  {
   "cell_type": "code",
   "execution_count": 18,
   "metadata": {},
   "outputs": [
    {
     "name": "stderr",
     "output_type": "stream",
     "text": [
      "C:\\Users\\camil\\anaconda3\\lib\\site-packages\\ipykernel\\ipkernel.py:283: DeprecationWarning: `should_run_async` will not call `transform_cell` automatically in the future. Please pass the result to `transformed_cell` argument and any exception that happen during thetransform in `preprocessing_exc_tuple` in IPython 7.17 and above.\n",
      "  and should_run_async(code)\n"
     ]
    }
   ],
   "source": [
    "li_col = ['Timestamp','TagID', 'HenID', 'Zone', 'PenID','VideoAnalyse', 'system', 'date','type', 'signalstrength', \n",
    "          'signalstzone2', 'signalstrzone3', 'signalstrzone4','zone2_match','zone3_match','zone4_match',\n",
    "          'next1_zone','next2_zone', 'next3_zone', 'next4_zone', 'next5_zone',\n",
    "          'previous1_zone', 'previous2_zone', 'previous3_zone', 'previous4_zone','previous5_zone',\n",
    "          'duration','previous_duration','algo_type','BatchID','previousZone==NextZone','next_duration',\n",
    "          'next2zone==Zone','previous2zone==Zone','zone3_match_exist','is_first_observation']\n",
    "df_students_info = df_students_info.filter(li_col, axis=1)"
   ]
  },
  {
   "cell_type": "code",
   "execution_count": 19,
   "metadata": {},
   "outputs": [
    {
     "name": "stderr",
     "output_type": "stream",
     "text": [
      "C:\\Users\\camil\\anaconda3\\lib\\site-packages\\ipykernel\\ipkernel.py:283: DeprecationWarning: `should_run_async` will not call `transform_cell` automatically in the future. Please pass the result to `transformed_cell` argument and any exception that happen during thetransform in `preprocessing_exc_tuple` in IPython 7.17 and above.\n",
      "  and should_run_async(code)\n"
     ]
    },
    {
     "data": {
      "text/html": [
       "<div>\n",
       "<style scoped>\n",
       "    .dataframe tbody tr th:only-of-type {\n",
       "        vertical-align: middle;\n",
       "    }\n",
       "\n",
       "    .dataframe tbody tr th {\n",
       "        vertical-align: top;\n",
       "    }\n",
       "\n",
       "    .dataframe thead th {\n",
       "        text-align: right;\n",
       "    }\n",
       "</style>\n",
       "<table border=\"1\" class=\"dataframe\">\n",
       "  <thead>\n",
       "    <tr style=\"text-align: right;\">\n",
       "      <th></th>\n",
       "      <th>type</th>\n",
       "      <th>algo_type</th>\n",
       "      <th>VideoAnalyse</th>\n",
       "    </tr>\n",
       "  </thead>\n",
       "  <tbody>\n",
       "    <tr>\n",
       "      <th>0</th>\n",
       "      <td>students</td>\n",
       "      <td>cleaning</td>\n",
       "      <td>4331</td>\n",
       "    </tr>\n",
       "    <tr>\n",
       "      <th>1</th>\n",
       "      <td>students</td>\n",
       "      <td>verification</td>\n",
       "      <td>886</td>\n",
       "    </tr>\n",
       "  </tbody>\n",
       "</table>\n",
       "</div>"
      ],
      "text/plain": [
       "       type     algo_type  VideoAnalyse\n",
       "0  students      cleaning          4331\n",
       "1  students  verification           886"
      ]
     },
     "execution_count": 19,
     "metadata": {},
     "output_type": "execute_result"
    }
   ],
   "source": [
    "df_students_info.groupby(['type','algo_type'])['VideoAnalyse'].count().reset_index()"
   ]
  },
  {
   "cell_type": "code",
   "execution_count": 20,
   "metadata": {},
   "outputs": [
    {
     "name": "stderr",
     "output_type": "stream",
     "text": [
      "C:\\Users\\camil\\anaconda3\\lib\\site-packages\\ipykernel\\ipkernel.py:283: DeprecationWarning: `should_run_async` will not call `transform_cell` automatically in the future. Please pass the result to `transformed_cell` argument and any exception that happen during thetransform in `preprocessing_exc_tuple` in IPython 7.17 and above.\n",
      "  and should_run_async(code)\n"
     ]
    },
    {
     "data": {
      "text/plain": [
       "cleaning        4331\n",
       "verification     886\n",
       "Name: algo_type, dtype: int64"
      ]
     },
     "execution_count": 20,
     "metadata": {},
     "output_type": "execute_result"
    }
   ],
   "source": [
    "df_students_info['algo_type'].value_counts()"
   ]
  },
  {
   "cell_type": "code",
   "execution_count": 21,
   "metadata": {},
   "outputs": [
    {
     "name": "stderr",
     "output_type": "stream",
     "text": [
      "C:\\Users\\camil\\anaconda3\\lib\\site-packages\\ipykernel\\ipkernel.py:283: DeprecationWarning: `should_run_async` will not call `transform_cell` automatically in the future. Please pass the result to `transformed_cell` argument and any exception that happen during thetransform in `preprocessing_exc_tuple` in IPython 7.17 and above.\n",
      "  and should_run_async(code)\n"
     ]
    }
   ],
   "source": [
    "#add human observed zone\n",
    "df_students_info['Observed_Zone'] = df_students_info.apply(lambda x: x['Zone'] if str(x['VideoAnalyse']) in ['1','3'] else x['previous1_zone'], axis=1)\n",
    "#VideoAnalyse=3: stands for the missed zone in the verification dataset\n",
    "df_students_info = df_students_info[df_students_info['VideoAnalyse'].isin(['0','1','3'])]\n",
    "df_students_info['VideoAnalyse'] = df_students_info['VideoAnalyse'].map(lambda x: int(x))\n",
    "df_students_info = shuffle(df_students_info)\n",
    "df_students_info.rename(columns={'Zone':'Trackingsystem_Zone'}, inplace=True)\n",
    "df_students_info.to_csv(os.path.join(path_extracted_data_cleaning, id_run+'InputCleaning.csv'), sep=';', index=False)      "
   ]
  },
  {
   "cell_type": "markdown",
   "metadata": {},
   "source": [
    "# Look at the data repartition across zone and correct/false that we will use"
   ]
  },
  {
   "cell_type": "code",
   "execution_count": 22,
   "metadata": {},
   "outputs": [
    {
     "name": "stderr",
     "output_type": "stream",
     "text": [
      "C:\\Users\\camil\\anaconda3\\lib\\site-packages\\ipykernel\\ipkernel.py:283: DeprecationWarning: `should_run_async` will not call `transform_cell` automatically in the future. Please pass the result to `transformed_cell` argument and any exception that happen during thetransform in `preprocessing_exc_tuple` in IPython 7.17 and above.\n",
      "  and should_run_async(code)\n"
     ]
    },
    {
     "data": {
      "text/html": [
       "<div>\n",
       "<style scoped>\n",
       "    .dataframe tbody tr th:only-of-type {\n",
       "        vertical-align: middle;\n",
       "    }\n",
       "\n",
       "    .dataframe tbody tr th {\n",
       "        vertical-align: top;\n",
       "    }\n",
       "\n",
       "    .dataframe thead th {\n",
       "        text-align: right;\n",
       "    }\n",
       "</style>\n",
       "<table border=\"1\" class=\"dataframe\">\n",
       "  <thead>\n",
       "    <tr style=\"text-align: right;\">\n",
       "      <th></th>\n",
       "      <th>Trackingsystem_Zone</th>\n",
       "      <th>VideoAnalyse</th>\n",
       "      <th>type</th>\n",
       "      <th>date</th>\n",
       "    </tr>\n",
       "  </thead>\n",
       "  <tbody>\n",
       "    <tr>\n",
       "      <th>0</th>\n",
       "      <td>1_Zone</td>\n",
       "      <td>0</td>\n",
       "      <td>students</td>\n",
       "      <td>3</td>\n",
       "    </tr>\n",
       "    <tr>\n",
       "      <th>1</th>\n",
       "      <td>1_Zone</td>\n",
       "      <td>1</td>\n",
       "      <td>students</td>\n",
       "      <td>24</td>\n",
       "    </tr>\n",
       "    <tr>\n",
       "      <th>2</th>\n",
       "      <td>2_Zone</td>\n",
       "      <td>0</td>\n",
       "      <td>students</td>\n",
       "      <td>2</td>\n",
       "    </tr>\n",
       "    <tr>\n",
       "      <th>3</th>\n",
       "      <td>2_Zone</td>\n",
       "      <td>1</td>\n",
       "      <td>students</td>\n",
       "      <td>146</td>\n",
       "    </tr>\n",
       "    <tr>\n",
       "      <th>4</th>\n",
       "      <td>2_Zone</td>\n",
       "      <td>3</td>\n",
       "      <td>students</td>\n",
       "      <td>0</td>\n",
       "    </tr>\n",
       "    <tr>\n",
       "      <th>5</th>\n",
       "      <td>3_Zone</td>\n",
       "      <td>0</td>\n",
       "      <td>students</td>\n",
       "      <td>29</td>\n",
       "    </tr>\n",
       "    <tr>\n",
       "      <th>6</th>\n",
       "      <td>3_Zone</td>\n",
       "      <td>1</td>\n",
       "      <td>students</td>\n",
       "      <td>509</td>\n",
       "    </tr>\n",
       "    <tr>\n",
       "      <th>7</th>\n",
       "      <td>3_Zone</td>\n",
       "      <td>3</td>\n",
       "      <td>students</td>\n",
       "      <td>0</td>\n",
       "    </tr>\n",
       "    <tr>\n",
       "      <th>8</th>\n",
       "      <td>4_Zone</td>\n",
       "      <td>0</td>\n",
       "      <td>students</td>\n",
       "      <td>7</td>\n",
       "    </tr>\n",
       "    <tr>\n",
       "      <th>9</th>\n",
       "      <td>4_Zone</td>\n",
       "      <td>1</td>\n",
       "      <td>students</td>\n",
       "      <td>86</td>\n",
       "    </tr>\n",
       "    <tr>\n",
       "      <th>10</th>\n",
       "      <td>4_Zone</td>\n",
       "      <td>3</td>\n",
       "      <td>students</td>\n",
       "      <td>0</td>\n",
       "    </tr>\n",
       "    <tr>\n",
       "      <th>11</th>\n",
       "      <td>5_Zone</td>\n",
       "      <td>0</td>\n",
       "      <td>students</td>\n",
       "      <td>1</td>\n",
       "    </tr>\n",
       "    <tr>\n",
       "      <th>12</th>\n",
       "      <td>5_Zone</td>\n",
       "      <td>1</td>\n",
       "      <td>students</td>\n",
       "      <td>56</td>\n",
       "    </tr>\n",
       "    <tr>\n",
       "      <th>13</th>\n",
       "      <td>5_Zone</td>\n",
       "      <td>3</td>\n",
       "      <td>students</td>\n",
       "      <td>0</td>\n",
       "    </tr>\n",
       "  </tbody>\n",
       "</table>\n",
       "</div>"
      ],
      "text/plain": [
       "   Trackingsystem_Zone  VideoAnalyse      type  date\n",
       "0               1_Zone             0  students     3\n",
       "1               1_Zone             1  students    24\n",
       "2               2_Zone             0  students     2\n",
       "3               2_Zone             1  students   146\n",
       "4               2_Zone             3  students     0\n",
       "5               3_Zone             0  students    29\n",
       "6               3_Zone             1  students   509\n",
       "7               3_Zone             3  students     0\n",
       "8               4_Zone             0  students     7\n",
       "9               4_Zone             1  students    86\n",
       "10              4_Zone             3  students     0\n",
       "11              5_Zone             0  students     1\n",
       "12              5_Zone             1  students    56\n",
       "13              5_Zone             3  students     0"
      ]
     },
     "execution_count": 22,
     "metadata": {},
     "output_type": "execute_result"
    }
   ],
   "source": [
    "df_testing = df_students_info[df_students_info['algo_type']=='verification'].copy()\n",
    "df_testing.groupby(['Trackingsystem_Zone','VideoAnalyse','type'])['date'].count().reset_index()"
   ]
  },
  {
   "cell_type": "code",
   "execution_count": 23,
   "metadata": {},
   "outputs": [
    {
     "name": "stderr",
     "output_type": "stream",
     "text": [
      "C:\\Users\\camil\\anaconda3\\lib\\site-packages\\ipykernel\\ipkernel.py:283: DeprecationWarning: `should_run_async` will not call `transform_cell` automatically in the future. Please pass the result to `transformed_cell` argument and any exception that happen during thetransform in `preprocessing_exc_tuple` in IPython 7.17 and above.\n",
      "  and should_run_async(code)\n"
     ]
    },
    {
     "data": {
      "text/html": [
       "<div>\n",
       "<style scoped>\n",
       "    .dataframe tbody tr th:only-of-type {\n",
       "        vertical-align: middle;\n",
       "    }\n",
       "\n",
       "    .dataframe tbody tr th {\n",
       "        vertical-align: top;\n",
       "    }\n",
       "\n",
       "    .dataframe thead th {\n",
       "        text-align: right;\n",
       "    }\n",
       "</style>\n",
       "<table border=\"1\" class=\"dataframe\">\n",
       "  <thead>\n",
       "    <tr style=\"text-align: right;\">\n",
       "      <th></th>\n",
       "      <th>Trackingsystem_Zone</th>\n",
       "      <th>VideoAnalyse</th>\n",
       "      <th>type</th>\n",
       "      <th>date</th>\n",
       "    </tr>\n",
       "  </thead>\n",
       "  <tbody>\n",
       "    <tr>\n",
       "      <th>0</th>\n",
       "      <td>2_Zone</td>\n",
       "      <td>0</td>\n",
       "      <td>students</td>\n",
       "      <td>15</td>\n",
       "    </tr>\n",
       "    <tr>\n",
       "      <th>1</th>\n",
       "      <td>2_Zone</td>\n",
       "      <td>1</td>\n",
       "      <td>students</td>\n",
       "      <td>901</td>\n",
       "    </tr>\n",
       "    <tr>\n",
       "      <th>2</th>\n",
       "      <td>3_Zone</td>\n",
       "      <td>0</td>\n",
       "      <td>students</td>\n",
       "      <td>468</td>\n",
       "    </tr>\n",
       "    <tr>\n",
       "      <th>3</th>\n",
       "      <td>3_Zone</td>\n",
       "      <td>1</td>\n",
       "      <td>students</td>\n",
       "      <td>1925</td>\n",
       "    </tr>\n",
       "    <tr>\n",
       "      <th>4</th>\n",
       "      <td>4_Zone</td>\n",
       "      <td>0</td>\n",
       "      <td>students</td>\n",
       "      <td>18</td>\n",
       "    </tr>\n",
       "    <tr>\n",
       "      <th>5</th>\n",
       "      <td>4_Zone</td>\n",
       "      <td>1</td>\n",
       "      <td>students</td>\n",
       "      <td>386</td>\n",
       "    </tr>\n",
       "    <tr>\n",
       "      <th>6</th>\n",
       "      <td>5_Zone</td>\n",
       "      <td>0</td>\n",
       "      <td>students</td>\n",
       "      <td>35</td>\n",
       "    </tr>\n",
       "    <tr>\n",
       "      <th>7</th>\n",
       "      <td>5_Zone</td>\n",
       "      <td>1</td>\n",
       "      <td>students</td>\n",
       "      <td>526</td>\n",
       "    </tr>\n",
       "  </tbody>\n",
       "</table>\n",
       "</div>"
      ],
      "text/plain": [
       "  Trackingsystem_Zone  VideoAnalyse      type  date\n",
       "0              2_Zone             0  students    15\n",
       "1              2_Zone             1  students   901\n",
       "2              3_Zone             0  students   468\n",
       "3              3_Zone             1  students  1925\n",
       "4              4_Zone             0  students    18\n",
       "5              4_Zone             1  students   386\n",
       "6              5_Zone             0  students    35\n",
       "7              5_Zone             1  students   526"
      ]
     },
     "execution_count": 23,
     "metadata": {},
     "output_type": "execute_result"
    }
   ],
   "source": [
    "df_cleaning = df_students_info[df_students_info['algo_type']=='cleaning'].copy()\n",
    "df_cleaning.groupby(['Trackingsystem_Zone','VideoAnalyse','type'])['date'].count().reset_index()"
   ]
  },
  {
   "cell_type": "code",
   "execution_count": 24,
   "metadata": {},
   "outputs": [
    {
     "name": "stderr",
     "output_type": "stream",
     "text": [
      "C:\\Users\\camil\\anaconda3\\lib\\site-packages\\ipykernel\\ipkernel.py:283: DeprecationWarning: `should_run_async` will not call `transform_cell` automatically in the future. Please pass the result to `transformed_cell` argument and any exception that happen during thetransform in `preprocessing_exc_tuple` in IPython 7.17 and above.\n",
      "  and should_run_async(code)\n"
     ]
    },
    {
     "data": {
      "text/plain": [
       "1    4559\n",
       "0     578\n",
       "3       5\n",
       "Name: VideoAnalyse, dtype: int64"
      ]
     },
     "execution_count": 24,
     "metadata": {},
     "output_type": "execute_result"
    }
   ],
   "source": [
    "df_students_info['VideoAnalyse'].value_counts()"
   ]
  },
  {
   "cell_type": "code",
   "execution_count": 25,
   "metadata": {},
   "outputs": [
    {
     "name": "stderr",
     "output_type": "stream",
     "text": [
      "C:\\Users\\camil\\anaconda3\\lib\\site-packages\\ipykernel\\ipkernel.py:283: DeprecationWarning: `should_run_async` will not call `transform_cell` automatically in the future. Please pass the result to `transformed_cell` argument and any exception that happen during thetransform in `preprocessing_exc_tuple` in IPython 7.17 and above.\n",
      "  and should_run_async(code)\n"
     ]
    },
    {
     "data": {
      "text/plain": [
       "cleaning        4274\n",
       "verification     868\n",
       "Name: algo_type, dtype: int64"
      ]
     },
     "execution_count": 25,
     "metadata": {},
     "output_type": "execute_result"
    }
   ],
   "source": [
    "df_students_info['algo_type'].value_counts()"
   ]
  },
  {
   "cell_type": "code",
   "execution_count": 26,
   "metadata": {},
   "outputs": [
    {
     "name": "stderr",
     "output_type": "stream",
     "text": [
      "C:\\Users\\camil\\anaconda3\\lib\\site-packages\\ipykernel\\ipkernel.py:283: DeprecationWarning: `should_run_async` will not call `transform_cell` automatically in the future. Please pass the result to `transformed_cell` argument and any exception that happen during thetransform in `preprocessing_exc_tuple` in IPython 7.17 and above.\n",
      "  and should_run_async(code)\n",
      "C:\\Users\\camil\\anaconda3\\lib\\site-packages\\sklearn\\utils\\validation.py:67: FutureWarning: Pass labels=['2_Zone', '3_Zone', '4_Zone', '5_Zone'] as keyword args. From version 0.25 passing these as positional arguments will result in an error\n",
      "  warnings.warn(\"Pass {} as keyword args. From version 0.25 \"\n",
      "<ipython-input-26-faac09e578fa>:12: UserWarning: FixedFormatter should only be used together with FixedLocator\n",
      "  ax.set_xticklabels([''] + labels)\n",
      "<ipython-input-26-faac09e578fa>:13: UserWarning: FixedFormatter should only be used together with FixedLocator\n",
      "  ax.set_yticklabels([''] + labels)\n"
     ]
    },
    {
     "name": "stdout",
     "output_type": "stream",
     "text": [
      "[[147  14   0   0]\n",
      " [  2 510   2   1]\n",
      " [  0   1  88   0]\n",
      " [  0  14   5  57]]\n"
     ]
    },
    {
     "data": {
      "image/png": "[encoded data removed]",
      "text/plain": [
       "<Figure size 360x360 with 2 Axes>"
      ]
     },
     "metadata": {
      "needs_background": "light"
     },
     "output_type": "display_data"
    }
   ],
   "source": [
    "#we will only look at when the records was wrongly recorded, not when we issed a record, due to results from validation: only\n",
    "#very very few such cases\n",
    "labels = ['2_Zone', '3_Zone', '4_Zone', '5_Zone']\n",
    "#y_true, y_pred\n",
    "cm = confusion_matrix(df_testing['Observed_Zone'].tolist(), df_testing['Trackingsystem_Zone'].tolist(), labels)\n",
    "print(cm)\n",
    "fig = plt.figure(figsize=(5,5))\n",
    "ax = fig.add_subplot(111)\n",
    "cax = ax.matshow(cm)\n",
    "#plt.title('Confusion matrix of the Tracking system')\n",
    "fig.colorbar(cax)\n",
    "ax.set_xticklabels([''] + labels)\n",
    "ax.set_yticklabels([''] + labels)\n",
    "plt.xlabel('Tracking system')\n",
    "plt.ylabel('Observed')\n",
    "plt.savefig(os.path.join(path_extracted_data_cleaning, id_run+'_confusion_matrix_testing_rawdata.png'), bbox_inches='tight')\n",
    "plt.show()"
   ]
  },
  {
   "cell_type": "code",
   "execution_count": 27,
   "metadata": {},
   "outputs": [
    {
     "name": "stderr",
     "output_type": "stream",
     "text": [
      "C:\\Users\\camil\\anaconda3\\lib\\site-packages\\ipykernel\\ipkernel.py:283: DeprecationWarning: `should_run_async` will not call `transform_cell` automatically in the future. Please pass the result to `transformed_cell` argument and any exception that happen during thetransform in `preprocessing_exc_tuple` in IPython 7.17 and above.\n",
      "  and should_run_async(code)\n",
      "<ipython-input-27-8fa20f5553dc>:12: UserWarning: FixedFormatter should only be used together with FixedLocator\n",
      "  ax.set_xticklabels([''] + labels)\n",
      "<ipython-input-27-8fa20f5553dc>:13: UserWarning: FixedFormatter should only be used together with FixedLocator\n",
      "  ax.set_yticklabels([''] + labels)\n"
     ]
    },
    {
     "name": "stdout",
     "output_type": "stream",
     "text": [
      "[[ 902   71    0   12]\n",
      " [  13 1929    8   20]\n",
      " [   0    9  386    3]\n",
      " [   1  384   10  526]]\n"
     ]
    },
    {
     "data": {
      "image/png": "[encoded data removed]",
      "text/plain": [
       "<Figure size 360x360 with 2 Axes>"
      ]
     },
     "metadata": {
      "needs_background": "light"
     },
     "output_type": "display_data"
    }
   ],
   "source": [
    "#we will only look at when the records was wrongly recorded, not when we issed a record, due to results from validation: only\n",
    "#very very few such cases\n",
    "labels = ['2_Zone', '3_Zone', '4_Zone', '5_Zone']\n",
    "#y_true, y_pred\n",
    "cm = confusion_matrix(df_cleaning['Observed_Zone'].tolist(), df_cleaning['Trackingsystem_Zone'].tolist(), labels)\n",
    "print(cm)\n",
    "fig = plt.figure(figsize=(5,5))\n",
    "ax = fig.add_subplot(111)\n",
    "cax = ax.matshow(cm)\n",
    "#plt.title('Confusion matrix of the Tracking system')\n",
    "fig.colorbar(cax)\n",
    "ax.set_xticklabels([''] + labels)\n",
    "ax.set_yticklabels([''] + labels)\n",
    "plt.xlabel('Tracking system')\n",
    "plt.ylabel('Observed')\n",
    "plt.savefig(os.path.join(path_extracted_data_cleaning, id_run+'_confusion_matrix_cleaning_rawdata.png'), bbox_inches='tight')\n",
    "plt.show()"
   ]
  },
  {
   "cell_type": "code",
   "execution_count": 28,
   "metadata": {},
   "outputs": [
    {
     "name": "stderr",
     "output_type": "stream",
     "text": [
      "C:\\Users\\camil\\anaconda3\\lib\\site-packages\\ipykernel\\ipkernel.py:283: DeprecationWarning: `should_run_async` will not call `transform_cell` automatically in the future. Please pass the result to `transformed_cell` argument and any exception that happen during thetransform in `preprocessing_exc_tuple` in IPython 7.17 and above.\n",
      "  and should_run_async(code)\n"
     ]
    },
    {
     "name": "stdout",
     "output_type": "stream",
     "text": [
      "(5137, 35)\n"
     ]
    },
    {
     "data": {
      "text/html": [
       "<div>\n",
       "<style scoped>\n",
       "    .dataframe tbody tr th:only-of-type {\n",
       "        vertical-align: middle;\n",
       "    }\n",
       "\n",
       "    .dataframe tbody tr th {\n",
       "        vertical-align: top;\n",
       "    }\n",
       "\n",
       "    .dataframe thead th {\n",
       "        text-align: right;\n",
       "    }\n",
       "</style>\n",
       "<table border=\"1\" class=\"dataframe\">\n",
       "  <thead>\n",
       "    <tr style=\"text-align: right;\">\n",
       "      <th></th>\n",
       "      <th>Timestamp</th>\n",
       "      <th>TagID</th>\n",
       "      <th>HenID</th>\n",
       "      <th>Trackingsystem_Zone</th>\n",
       "      <th>PenID</th>\n",
       "      <th>VideoAnalyse</th>\n",
       "      <th>system</th>\n",
       "      <th>date</th>\n",
       "      <th>type</th>\n",
       "      <th>signalstrength</th>\n",
       "      <th>...</th>\n",
       "      <th>previous_duration</th>\n",
       "      <th>algo_type</th>\n",
       "      <th>BatchID</th>\n",
       "      <th>previousZone==NextZone</th>\n",
       "      <th>next_duration</th>\n",
       "      <th>next2zone==Zone</th>\n",
       "      <th>previous2zone==Zone</th>\n",
       "      <th>zone3_match_exist</th>\n",
       "      <th>is_first_observation</th>\n",
       "      <th>Observed_Zone</th>\n",
       "    </tr>\n",
       "  </thead>\n",
       "  <tbody>\n",
       "    <tr>\n",
       "      <th>4482</th>\n",
       "      <td>2020-10-15 12:48:51</td>\n",
       "      <td>tag_60</td>\n",
       "      <td>hen_88</td>\n",
       "      <td>3_Zone</td>\n",
       "      <td>pen5</td>\n",
       "      <td>0</td>\n",
       "      <td>3 - 5</td>\n",
       "      <td>2020-10-15</td>\n",
       "      <td>students</td>\n",
       "      <td>10.0</td>\n",
       "      <td>...</td>\n",
       "      <td>9.0</td>\n",
       "      <td>cleaning</td>\n",
       "      <td>NaN</td>\n",
       "      <td>False</td>\n",
       "      <td>1231.0</td>\n",
       "      <td>1.0</td>\n",
       "      <td>1.0</td>\n",
       "      <td>1.0</td>\n",
       "      <td>0.0</td>\n",
       "      <td>5_Zone</td>\n",
       "    </tr>\n",
       "    <tr>\n",
       "      <th>572</th>\n",
       "      <td>2020-10-17 15:45:59</td>\n",
       "      <td>tag_90</td>\n",
       "      <td>hen_158</td>\n",
       "      <td>3_Zone</td>\n",
       "      <td>pen8</td>\n",
       "      <td>1</td>\n",
       "      <td>8 - 9</td>\n",
       "      <td>2020-10-17</td>\n",
       "      <td>students</td>\n",
       "      <td>15.0</td>\n",
       "      <td>...</td>\n",
       "      <td>61.0</td>\n",
       "      <td>cleaning</td>\n",
       "      <td>NaN</td>\n",
       "      <td>False</td>\n",
       "      <td>39.0</td>\n",
       "      <td>1.0</td>\n",
       "      <td>0.0</td>\n",
       "      <td>1.0</td>\n",
       "      <td>0.0</td>\n",
       "      <td>3_Zone</td>\n",
       "    </tr>\n",
       "    <tr>\n",
       "      <th>792</th>\n",
       "      <td>2020-10-24 16:41:28</td>\n",
       "      <td>tag_135</td>\n",
       "      <td>hen_46</td>\n",
       "      <td>1_Zone</td>\n",
       "      <td>pen10</td>\n",
       "      <td>1</td>\n",
       "      <td>10 - 12</td>\n",
       "      <td>2020-10-24</td>\n",
       "      <td>students</td>\n",
       "      <td>7.0</td>\n",
       "      <td>...</td>\n",
       "      <td>726.0</td>\n",
       "      <td>verification</td>\n",
       "      <td>ID40</td>\n",
       "      <td>True</td>\n",
       "      <td>492.0</td>\n",
       "      <td>0.0</td>\n",
       "      <td>0.0</td>\n",
       "      <td>0.0</td>\n",
       "      <td>0.0</td>\n",
       "      <td>1_Zone</td>\n",
       "    </tr>\n",
       "  </tbody>\n",
       "</table>\n",
       "<p>3 rows × 35 columns</p>\n",
       "</div>"
      ],
      "text/plain": [
       "               Timestamp    TagID    HenID Trackingsystem_Zone  PenID  \\\n",
       "4482 2020-10-15 12:48:51   tag_60   hen_88              3_Zone   pen5   \n",
       "572  2020-10-17 15:45:59   tag_90  hen_158              3_Zone   pen8   \n",
       "792  2020-10-24 16:41:28  tag_135   hen_46              1_Zone  pen10   \n",
       "\n",
       "      VideoAnalyse   system       date      type  signalstrength  ...  \\\n",
       "4482             0    3 - 5 2020-10-15  students            10.0  ...   \n",
       "572              1    8 - 9 2020-10-17  students            15.0  ...   \n",
       "792              1  10 - 12 2020-10-24  students             7.0  ...   \n",
       "\n",
       "      previous_duration     algo_type BatchID previousZone==NextZone  \\\n",
       "4482                9.0      cleaning     NaN                  False   \n",
       "572                61.0      cleaning     NaN                  False   \n",
       "792               726.0  verification    ID40                   True   \n",
       "\n",
       "     next_duration next2zone==Zone previous2zone==Zone zone3_match_exist  \\\n",
       "4482        1231.0             1.0                 1.0               1.0   \n",
       "572           39.0             1.0                 0.0               1.0   \n",
       "792          492.0             0.0                 0.0               0.0   \n",
       "\n",
       "     is_first_observation Observed_Zone  \n",
       "4482                  0.0        5_Zone  \n",
       "572                   0.0        3_Zone  \n",
       "792                   0.0        1_Zone  \n",
       "\n",
       "[3 rows x 35 columns]"
      ]
     },
     "execution_count": 28,
     "metadata": {},
     "output_type": "execute_result"
    }
   ],
   "source": [
    "#stats for paper\n",
    "df_students_info = pd.read_csv(os.path.join(path_extracted_data_cleaning, id_run+'InputCleaning.csv'), parse_dates=['Timestamp', 'date'], \n",
    "                 dayfirst=True, sep=';')\n",
    "df_students_info['VideoAnalyse'] = df_students_info['VideoAnalyse'].map(lambda x: int(x)) #not before as tehre was srting as well\n",
    "df_students_info = df_students_info[df_students_info['VideoAnalyse'].isin([0,1])]\n",
    "df_students_info = shuffle(df_students_info)\n",
    "print(df_students_info.shape)\n",
    "df_students_info.head(3)"
   ]
  },
  {
   "cell_type": "code",
   "execution_count": 38,
   "metadata": {},
   "outputs": [
    {
     "name": "stdout",
     "output_type": "stream",
     "text": [
      "There is 11 dates with more than 10 observations\n"
     ]
    },
    {
     "name": "stderr",
     "output_type": "stream",
     "text": [
      "C:\\Users\\camil\\anaconda3\\lib\\site-packages\\ipykernel\\ipkernel.py:283: DeprecationWarning: `should_run_async` will not call `transform_cell` automatically in the future. Please pass the result to `transformed_cell` argument and any exception that happen during thetransform in `preprocessing_exc_tuple` in IPython 7.17 and above.\n",
      "  and should_run_async(code)\n"
     ]
    }
   ],
   "source": [
    "df_d = df_students_info[df_students_info['algo_type']=='cleaning']['date'].value_counts().reset_index()\n",
    "print('There is %d dates with more than 10 observations'%df_d[df_d['date']>10].shape[0])"
   ]
  },
  {
   "cell_type": "code",
   "execution_count": 30,
   "metadata": {},
   "outputs": [
    {
     "name": "stderr",
     "output_type": "stream",
     "text": [
      "C:\\Users\\camil\\anaconda3\\lib\\site-packages\\ipykernel\\ipkernel.py:283: DeprecationWarning: `should_run_async` will not call `transform_cell` automatically in the future. Please pass the result to `transformed_cell` argument and any exception that happen during thetransform in `preprocessing_exc_tuple` in IPython 7.17 and above.\n",
      "  and should_run_async(code)\n"
     ]
    },
    {
     "data": {
      "text/html": [
       "<div>\n",
       "<style scoped>\n",
       "    .dataframe tbody tr th:only-of-type {\n",
       "        vertical-align: middle;\n",
       "    }\n",
       "\n",
       "    .dataframe tbody tr th {\n",
       "        vertical-align: top;\n",
       "    }\n",
       "\n",
       "    .dataframe thead th {\n",
       "        text-align: right;\n",
       "    }\n",
       "</style>\n",
       "<table border=\"1\" class=\"dataframe\">\n",
       "  <thead>\n",
       "    <tr style=\"text-align: right;\">\n",
       "      <th></th>\n",
       "      <th>system</th>\n",
       "      <th>HenID</th>\n",
       "    </tr>\n",
       "  </thead>\n",
       "  <tbody>\n",
       "    <tr>\n",
       "      <th>0</th>\n",
       "      <td>10 - 12</td>\n",
       "      <td>1407</td>\n",
       "    </tr>\n",
       "    <tr>\n",
       "      <th>1</th>\n",
       "      <td>3 - 5</td>\n",
       "      <td>1740</td>\n",
       "    </tr>\n",
       "    <tr>\n",
       "      <th>2</th>\n",
       "      <td>8 - 9</td>\n",
       "      <td>1127</td>\n",
       "    </tr>\n",
       "  </tbody>\n",
       "</table>\n",
       "</div>"
      ],
      "text/plain": [
       "    system  HenID\n",
       "0  10 - 12   1407\n",
       "1    3 - 5   1740\n",
       "2    8 - 9   1127"
      ]
     },
     "execution_count": 30,
     "metadata": {},
     "output_type": "execute_result"
    }
   ],
   "source": [
    "#number of observations per tracking system\n",
    "df_students_info[df_students_info['algo_type']=='cleaning'].groupby(['system'])['HenID'].count().reset_index()"
   ]
  },
  {
   "cell_type": "code",
   "execution_count": 39,
   "metadata": {},
   "outputs": [
    {
     "name": "stderr",
     "output_type": "stream",
     "text": [
      "C:\\Users\\camil\\anaconda3\\lib\\site-packages\\ipykernel\\ipkernel.py:283: DeprecationWarning: `should_run_async` will not call `transform_cell` automatically in the future. Please pass the result to `transformed_cell` argument and any exception that happen during thetransform in `preprocessing_exc_tuple` in IPython 7.17 and above.\n",
      "  and should_run_async(code)\n"
     ]
    },
    {
     "data": {
      "text/html": [
       "<div>\n",
       "<style scoped>\n",
       "    .dataframe tbody tr th:only-of-type {\n",
       "        vertical-align: middle;\n",
       "    }\n",
       "\n",
       "    .dataframe tbody tr th {\n",
       "        vertical-align: top;\n",
       "    }\n",
       "\n",
       "    .dataframe thead th {\n",
       "        text-align: right;\n",
       "    }\n",
       "</style>\n",
       "<table border=\"1\" class=\"dataframe\">\n",
       "  <thead>\n",
       "    <tr style=\"text-align: right;\">\n",
       "      <th></th>\n",
       "      <th>system</th>\n",
       "      <th>HenID</th>\n",
       "    </tr>\n",
       "  </thead>\n",
       "  <tbody>\n",
       "    <tr>\n",
       "      <th>0</th>\n",
       "      <td>10 - 12</td>\n",
       "      <td>15</td>\n",
       "    </tr>\n",
       "    <tr>\n",
       "      <th>1</th>\n",
       "      <td>3 - 5</td>\n",
       "      <td>18</td>\n",
       "    </tr>\n",
       "    <tr>\n",
       "      <th>2</th>\n",
       "      <td>8 - 9</td>\n",
       "      <td>13</td>\n",
       "    </tr>\n",
       "  </tbody>\n",
       "</table>\n",
       "</div>"
      ],
      "text/plain": [
       "    system  HenID\n",
       "0  10 - 12     15\n",
       "1    3 - 5     18\n",
       "2    8 - 9     13"
      ]
     },
     "execution_count": 39,
     "metadata": {},
     "output_type": "execute_result"
    }
   ],
   "source": [
    "#number of involved hens per tracking system for the cleaning dataset\n",
    "df_students_info[df_students_info['algo_type']=='cleaning'].groupby(['system'])['HenID'].agg(lambda x: len(set(x))).reset_index()"
   ]
  },
  {
   "cell_type": "code",
   "execution_count": 32,
   "metadata": {},
   "outputs": [
    {
     "name": "stderr",
     "output_type": "stream",
     "text": [
      "C:\\Users\\camil\\anaconda3\\lib\\site-packages\\ipykernel\\ipkernel.py:283: DeprecationWarning: `should_run_async` will not call `transform_cell` automatically in the future. Please pass the result to `transformed_cell` argument and any exception that happen during thetransform in `preprocessing_exc_tuple` in IPython 7.17 and above.\n",
      "  and should_run_async(code)\n"
     ]
    },
    {
     "data": {
      "text/html": [
       "<div>\n",
       "<style scoped>\n",
       "    .dataframe tbody tr th:only-of-type {\n",
       "        vertical-align: middle;\n",
       "    }\n",
       "\n",
       "    .dataframe tbody tr th {\n",
       "        vertical-align: top;\n",
       "    }\n",
       "\n",
       "    .dataframe thead th {\n",
       "        text-align: right;\n",
       "    }\n",
       "</style>\n",
       "<table border=\"1\" class=\"dataframe\">\n",
       "  <thead>\n",
       "    <tr style=\"text-align: right;\">\n",
       "      <th></th>\n",
       "      <th>PenID</th>\n",
       "      <th>HenID</th>\n",
       "    </tr>\n",
       "  </thead>\n",
       "  <tbody>\n",
       "    <tr>\n",
       "      <th>0</th>\n",
       "      <td>pen10</td>\n",
       "      <td>6</td>\n",
       "    </tr>\n",
       "    <tr>\n",
       "      <th>1</th>\n",
       "      <td>pen11</td>\n",
       "      <td>5</td>\n",
       "    </tr>\n",
       "    <tr>\n",
       "      <th>2</th>\n",
       "      <td>pen12</td>\n",
       "      <td>4</td>\n",
       "    </tr>\n",
       "    <tr>\n",
       "      <th>3</th>\n",
       "      <td>pen3</td>\n",
       "      <td>6</td>\n",
       "    </tr>\n",
       "    <tr>\n",
       "      <th>4</th>\n",
       "      <td>pen4</td>\n",
       "      <td>5</td>\n",
       "    </tr>\n",
       "    <tr>\n",
       "      <th>5</th>\n",
       "      <td>pen5</td>\n",
       "      <td>5</td>\n",
       "    </tr>\n",
       "    <tr>\n",
       "      <th>6</th>\n",
       "      <td>pen8</td>\n",
       "      <td>6</td>\n",
       "    </tr>\n",
       "    <tr>\n",
       "      <th>7</th>\n",
       "      <td>pen9</td>\n",
       "      <td>4</td>\n",
       "    </tr>\n",
       "  </tbody>\n",
       "</table>\n",
       "</div>"
      ],
      "text/plain": [
       "   PenID  HenID\n",
       "0  pen10      6\n",
       "1  pen11      5\n",
       "2  pen12      4\n",
       "3   pen3      6\n",
       "4   pen4      5\n",
       "5   pen5      5\n",
       "6   pen8      6\n",
       "7   pen9      4"
      ]
     },
     "execution_count": 32,
     "metadata": {},
     "output_type": "execute_result"
    }
   ],
   "source": [
    "#number of involved hens per PEN for the verification dataset\n",
    "df_students_info[df_students_info['algo_type']=='verification'].groupby(['PenID'])['HenID'].agg(lambda x: len(set(x))).reset_index()"
   ]
  },
  {
   "cell_type": "code",
   "execution_count": 40,
   "metadata": {},
   "outputs": [
    {
     "name": "stderr",
     "output_type": "stream",
     "text": [
      "C:\\Users\\camil\\anaconda3\\lib\\site-packages\\ipykernel\\ipkernel.py:283: DeprecationWarning: `should_run_async` will not call `transform_cell` automatically in the future. Please pass the result to `transformed_cell` argument and any exception that happen during thetransform in `preprocessing_exc_tuple` in IPython 7.17 and above.\n",
      "  and should_run_async(code)\n"
     ]
    },
    {
     "data": {
      "text/html": [
       "<div>\n",
       "<style scoped>\n",
       "    .dataframe tbody tr th:only-of-type {\n",
       "        vertical-align: middle;\n",
       "    }\n",
       "\n",
       "    .dataframe tbody tr th {\n",
       "        vertical-align: top;\n",
       "    }\n",
       "\n",
       "    .dataframe thead th {\n",
       "        text-align: right;\n",
       "    }\n",
       "</style>\n",
       "<table border=\"1\" class=\"dataframe\">\n",
       "  <thead>\n",
       "    <tr style=\"text-align: right;\">\n",
       "      <th></th>\n",
       "      <th>PenID</th>\n",
       "      <th>date</th>\n",
       "    </tr>\n",
       "  </thead>\n",
       "  <tbody>\n",
       "    <tr>\n",
       "      <th>0</th>\n",
       "      <td>pen10</td>\n",
       "      <td>6</td>\n",
       "    </tr>\n",
       "    <tr>\n",
       "      <th>1</th>\n",
       "      <td>pen11</td>\n",
       "      <td>4</td>\n",
       "    </tr>\n",
       "    <tr>\n",
       "      <th>2</th>\n",
       "      <td>pen12</td>\n",
       "      <td>4</td>\n",
       "    </tr>\n",
       "    <tr>\n",
       "      <th>3</th>\n",
       "      <td>pen3</td>\n",
       "      <td>5</td>\n",
       "    </tr>\n",
       "    <tr>\n",
       "      <th>4</th>\n",
       "      <td>pen4</td>\n",
       "      <td>5</td>\n",
       "    </tr>\n",
       "    <tr>\n",
       "      <th>5</th>\n",
       "      <td>pen5</td>\n",
       "      <td>5</td>\n",
       "    </tr>\n",
       "    <tr>\n",
       "      <th>6</th>\n",
       "      <td>pen8</td>\n",
       "      <td>6</td>\n",
       "    </tr>\n",
       "    <tr>\n",
       "      <th>7</th>\n",
       "      <td>pen9</td>\n",
       "      <td>4</td>\n",
       "    </tr>\n",
       "  </tbody>\n",
       "</table>\n",
       "</div>"
      ],
      "text/plain": [
       "   PenID  date\n",
       "0  pen10     6\n",
       "1  pen11     4\n",
       "2  pen12     4\n",
       "3   pen3     5\n",
       "4   pen4     5\n",
       "5   pen5     5\n",
       "6   pen8     6\n",
       "7   pen9     4"
      ]
     },
     "execution_count": 40,
     "metadata": {},
     "output_type": "execute_result"
    }
   ],
   "source": [
    "#number of involved DATE per pens for the verification dataset\n",
    "df_students_info[df_students_info['algo_type']=='verification'].groupby(['PenID'])['date'].agg(lambda x: len(set(x))).reset_index()"
   ]
  },
  {
   "cell_type": "code",
   "execution_count": 34,
   "metadata": {},
   "outputs": [
    {
     "name": "stderr",
     "output_type": "stream",
     "text": [
      "C:\\Users\\camil\\anaconda3\\lib\\site-packages\\ipykernel\\ipkernel.py:283: DeprecationWarning: `should_run_async` will not call `transform_cell` automatically in the future. Please pass the result to `transformed_cell` argument and any exception that happen during thetransform in `preprocessing_exc_tuple` in IPython 7.17 and above.\n",
      "  and should_run_async(code)\n"
     ]
    },
    {
     "data": {
      "text/html": [
       "<div>\n",
       "<style scoped>\n",
       "    .dataframe tbody tr th:only-of-type {\n",
       "        vertical-align: middle;\n",
       "    }\n",
       "\n",
       "    .dataframe tbody tr th {\n",
       "        vertical-align: top;\n",
       "    }\n",
       "\n",
       "    .dataframe thead th {\n",
       "        text-align: right;\n",
       "    }\n",
       "</style>\n",
       "<table border=\"1\" class=\"dataframe\">\n",
       "  <thead>\n",
       "    <tr style=\"text-align: right;\">\n",
       "      <th></th>\n",
       "      <th>PenID</th>\n",
       "      <th>VideoAnalyse</th>\n",
       "      <th>HenID</th>\n",
       "    </tr>\n",
       "  </thead>\n",
       "  <tbody>\n",
       "    <tr>\n",
       "      <th>0</th>\n",
       "      <td>pen10</td>\n",
       "      <td>0</td>\n",
       "      <td>36</td>\n",
       "    </tr>\n",
       "    <tr>\n",
       "      <th>1</th>\n",
       "      <td>pen10</td>\n",
       "      <td>1</td>\n",
       "      <td>707</td>\n",
       "    </tr>\n",
       "    <tr>\n",
       "      <th>2</th>\n",
       "      <td>pen11</td>\n",
       "      <td>1</td>\n",
       "      <td>96</td>\n",
       "    </tr>\n",
       "    <tr>\n",
       "      <th>3</th>\n",
       "      <td>pen12</td>\n",
       "      <td>0</td>\n",
       "      <td>10</td>\n",
       "    </tr>\n",
       "    <tr>\n",
       "      <th>4</th>\n",
       "      <td>pen12</td>\n",
       "      <td>1</td>\n",
       "      <td>558</td>\n",
       "    </tr>\n",
       "    <tr>\n",
       "      <th>5</th>\n",
       "      <td>pen3</td>\n",
       "      <td>0</td>\n",
       "      <td>77</td>\n",
       "    </tr>\n",
       "    <tr>\n",
       "      <th>6</th>\n",
       "      <td>pen3</td>\n",
       "      <td>1</td>\n",
       "      <td>491</td>\n",
       "    </tr>\n",
       "    <tr>\n",
       "      <th>7</th>\n",
       "      <td>pen4</td>\n",
       "      <td>0</td>\n",
       "      <td>21</td>\n",
       "    </tr>\n",
       "    <tr>\n",
       "      <th>8</th>\n",
       "      <td>pen4</td>\n",
       "      <td>1</td>\n",
       "      <td>293</td>\n",
       "    </tr>\n",
       "    <tr>\n",
       "      <th>9</th>\n",
       "      <td>pen5</td>\n",
       "      <td>0</td>\n",
       "      <td>375</td>\n",
       "    </tr>\n",
       "    <tr>\n",
       "      <th>10</th>\n",
       "      <td>pen5</td>\n",
       "      <td>1</td>\n",
       "      <td>483</td>\n",
       "    </tr>\n",
       "    <tr>\n",
       "      <th>11</th>\n",
       "      <td>pen8</td>\n",
       "      <td>0</td>\n",
       "      <td>13</td>\n",
       "    </tr>\n",
       "    <tr>\n",
       "      <th>12</th>\n",
       "      <td>pen8</td>\n",
       "      <td>1</td>\n",
       "      <td>463</td>\n",
       "    </tr>\n",
       "    <tr>\n",
       "      <th>13</th>\n",
       "      <td>pen9</td>\n",
       "      <td>0</td>\n",
       "      <td>4</td>\n",
       "    </tr>\n",
       "    <tr>\n",
       "      <th>14</th>\n",
       "      <td>pen9</td>\n",
       "      <td>1</td>\n",
       "      <td>647</td>\n",
       "    </tr>\n",
       "  </tbody>\n",
       "</table>\n",
       "</div>"
      ],
      "text/plain": [
       "    PenID  VideoAnalyse  HenID\n",
       "0   pen10             0     36\n",
       "1   pen10             1    707\n",
       "2   pen11             1     96\n",
       "3   pen12             0     10\n",
       "4   pen12             1    558\n",
       "5    pen3             0     77\n",
       "6    pen3             1    491\n",
       "7    pen4             0     21\n",
       "8    pen4             1    293\n",
       "9    pen5             0    375\n",
       "10   pen5             1    483\n",
       "11   pen8             0     13\n",
       "12   pen8             1    463\n",
       "13   pen9             0      4\n",
       "14   pen9             1    647"
      ]
     },
     "execution_count": 34,
     "metadata": {},
     "output_type": "execute_result"
    }
   ],
   "source": [
    "#number of wrong records and correct records per pen\n",
    "df_students_info[df_students_info['algo_type']=='cleaning'].groupby(['PenID','VideoAnalyse'])[['HenID']].count().reset_index()"
   ]
  },
  {
   "cell_type": "code",
   "execution_count": 35,
   "metadata": {},
   "outputs": [
    {
     "name": "stderr",
     "output_type": "stream",
     "text": [
      "C:\\Users\\camil\\anaconda3\\lib\\site-packages\\ipykernel\\ipkernel.py:283: DeprecationWarning: `should_run_async` will not call `transform_cell` automatically in the future. Please pass the result to `transformed_cell` argument and any exception that happen during thetransform in `preprocessing_exc_tuple` in IPython 7.17 and above.\n",
      "  and should_run_async(code)\n"
     ]
    },
    {
     "data": {
      "text/html": [
       "<div>\n",
       "<style scoped>\n",
       "    .dataframe tbody tr th:only-of-type {\n",
       "        vertical-align: middle;\n",
       "    }\n",
       "\n",
       "    .dataframe tbody tr th {\n",
       "        vertical-align: top;\n",
       "    }\n",
       "\n",
       "    .dataframe thead th {\n",
       "        text-align: right;\n",
       "    }\n",
       "</style>\n",
       "<table border=\"1\" class=\"dataframe\">\n",
       "  <thead>\n",
       "    <tr style=\"text-align: right;\">\n",
       "      <th></th>\n",
       "      <th>PenID</th>\n",
       "      <th>Trackingsystem_Zone</th>\n",
       "      <th>HenID</th>\n",
       "    </tr>\n",
       "  </thead>\n",
       "  <tbody>\n",
       "    <tr>\n",
       "      <th>0</th>\n",
       "      <td>pen10</td>\n",
       "      <td>2_Zone</td>\n",
       "      <td>110</td>\n",
       "    </tr>\n",
       "    <tr>\n",
       "      <th>1</th>\n",
       "      <td>pen10</td>\n",
       "      <td>3_Zone</td>\n",
       "      <td>491</td>\n",
       "    </tr>\n",
       "    <tr>\n",
       "      <th>2</th>\n",
       "      <td>pen10</td>\n",
       "      <td>4_Zone</td>\n",
       "      <td>105</td>\n",
       "    </tr>\n",
       "    <tr>\n",
       "      <th>3</th>\n",
       "      <td>pen10</td>\n",
       "      <td>5_Zone</td>\n",
       "      <td>37</td>\n",
       "    </tr>\n",
       "    <tr>\n",
       "      <th>4</th>\n",
       "      <td>pen11</td>\n",
       "      <td>2_Zone</td>\n",
       "      <td>25</td>\n",
       "    </tr>\n",
       "    <tr>\n",
       "      <th>5</th>\n",
       "      <td>pen11</td>\n",
       "      <td>3_Zone</td>\n",
       "      <td>69</td>\n",
       "    </tr>\n",
       "    <tr>\n",
       "      <th>6</th>\n",
       "      <td>pen11</td>\n",
       "      <td>4_Zone</td>\n",
       "      <td>1</td>\n",
       "    </tr>\n",
       "    <tr>\n",
       "      <th>7</th>\n",
       "      <td>pen11</td>\n",
       "      <td>5_Zone</td>\n",
       "      <td>1</td>\n",
       "    </tr>\n",
       "    <tr>\n",
       "      <th>8</th>\n",
       "      <td>pen12</td>\n",
       "      <td>2_Zone</td>\n",
       "      <td>198</td>\n",
       "    </tr>\n",
       "    <tr>\n",
       "      <th>9</th>\n",
       "      <td>pen12</td>\n",
       "      <td>3_Zone</td>\n",
       "      <td>304</td>\n",
       "    </tr>\n",
       "    <tr>\n",
       "      <th>10</th>\n",
       "      <td>pen12</td>\n",
       "      <td>4_Zone</td>\n",
       "      <td>44</td>\n",
       "    </tr>\n",
       "    <tr>\n",
       "      <th>11</th>\n",
       "      <td>pen12</td>\n",
       "      <td>5_Zone</td>\n",
       "      <td>22</td>\n",
       "    </tr>\n",
       "    <tr>\n",
       "      <th>12</th>\n",
       "      <td>pen3</td>\n",
       "      <td>2_Zone</td>\n",
       "      <td>137</td>\n",
       "    </tr>\n",
       "    <tr>\n",
       "      <th>13</th>\n",
       "      <td>pen3</td>\n",
       "      <td>3_Zone</td>\n",
       "      <td>319</td>\n",
       "    </tr>\n",
       "    <tr>\n",
       "      <th>14</th>\n",
       "      <td>pen3</td>\n",
       "      <td>4_Zone</td>\n",
       "      <td>55</td>\n",
       "    </tr>\n",
       "    <tr>\n",
       "      <th>15</th>\n",
       "      <td>pen3</td>\n",
       "      <td>5_Zone</td>\n",
       "      <td>57</td>\n",
       "    </tr>\n",
       "    <tr>\n",
       "      <th>16</th>\n",
       "      <td>pen4</td>\n",
       "      <td>2_Zone</td>\n",
       "      <td>57</td>\n",
       "    </tr>\n",
       "    <tr>\n",
       "      <th>17</th>\n",
       "      <td>pen4</td>\n",
       "      <td>3_Zone</td>\n",
       "      <td>155</td>\n",
       "    </tr>\n",
       "    <tr>\n",
       "      <th>18</th>\n",
       "      <td>pen4</td>\n",
       "      <td>4_Zone</td>\n",
       "      <td>67</td>\n",
       "    </tr>\n",
       "    <tr>\n",
       "      <th>19</th>\n",
       "      <td>pen4</td>\n",
       "      <td>5_Zone</td>\n",
       "      <td>35</td>\n",
       "    </tr>\n",
       "    <tr>\n",
       "      <th>20</th>\n",
       "      <td>pen5</td>\n",
       "      <td>2_Zone</td>\n",
       "      <td>25</td>\n",
       "    </tr>\n",
       "    <tr>\n",
       "      <th>21</th>\n",
       "      <td>pen5</td>\n",
       "      <td>3_Zone</td>\n",
       "      <td>427</td>\n",
       "    </tr>\n",
       "    <tr>\n",
       "      <th>22</th>\n",
       "      <td>pen5</td>\n",
       "      <td>4_Zone</td>\n",
       "      <td>35</td>\n",
       "    </tr>\n",
       "    <tr>\n",
       "      <th>23</th>\n",
       "      <td>pen5</td>\n",
       "      <td>5_Zone</td>\n",
       "      <td>371</td>\n",
       "    </tr>\n",
       "    <tr>\n",
       "      <th>24</th>\n",
       "      <td>pen8</td>\n",
       "      <td>2_Zone</td>\n",
       "      <td>165</td>\n",
       "    </tr>\n",
       "    <tr>\n",
       "      <th>25</th>\n",
       "      <td>pen8</td>\n",
       "      <td>3_Zone</td>\n",
       "      <td>260</td>\n",
       "    </tr>\n",
       "    <tr>\n",
       "      <th>26</th>\n",
       "      <td>pen8</td>\n",
       "      <td>4_Zone</td>\n",
       "      <td>38</td>\n",
       "    </tr>\n",
       "    <tr>\n",
       "      <th>27</th>\n",
       "      <td>pen8</td>\n",
       "      <td>5_Zone</td>\n",
       "      <td>13</td>\n",
       "    </tr>\n",
       "    <tr>\n",
       "      <th>28</th>\n",
       "      <td>pen9</td>\n",
       "      <td>2_Zone</td>\n",
       "      <td>199</td>\n",
       "    </tr>\n",
       "    <tr>\n",
       "      <th>29</th>\n",
       "      <td>pen9</td>\n",
       "      <td>3_Zone</td>\n",
       "      <td>368</td>\n",
       "    </tr>\n",
       "    <tr>\n",
       "      <th>30</th>\n",
       "      <td>pen9</td>\n",
       "      <td>4_Zone</td>\n",
       "      <td>59</td>\n",
       "    </tr>\n",
       "    <tr>\n",
       "      <th>31</th>\n",
       "      <td>pen9</td>\n",
       "      <td>5_Zone</td>\n",
       "      <td>25</td>\n",
       "    </tr>\n",
       "  </tbody>\n",
       "</table>\n",
       "</div>"
      ],
      "text/plain": [
       "    PenID Trackingsystem_Zone  HenID\n",
       "0   pen10              2_Zone    110\n",
       "1   pen10              3_Zone    491\n",
       "2   pen10              4_Zone    105\n",
       "3   pen10              5_Zone     37\n",
       "4   pen11              2_Zone     25\n",
       "5   pen11              3_Zone     69\n",
       "6   pen11              4_Zone      1\n",
       "7   pen11              5_Zone      1\n",
       "8   pen12              2_Zone    198\n",
       "9   pen12              3_Zone    304\n",
       "10  pen12              4_Zone     44\n",
       "11  pen12              5_Zone     22\n",
       "12   pen3              2_Zone    137\n",
       "13   pen3              3_Zone    319\n",
       "14   pen3              4_Zone     55\n",
       "15   pen3              5_Zone     57\n",
       "16   pen4              2_Zone     57\n",
       "17   pen4              3_Zone    155\n",
       "18   pen4              4_Zone     67\n",
       "19   pen4              5_Zone     35\n",
       "20   pen5              2_Zone     25\n",
       "21   pen5              3_Zone    427\n",
       "22   pen5              4_Zone     35\n",
       "23   pen5              5_Zone    371\n",
       "24   pen8              2_Zone    165\n",
       "25   pen8              3_Zone    260\n",
       "26   pen8              4_Zone     38\n",
       "27   pen8              5_Zone     13\n",
       "28   pen9              2_Zone    199\n",
       "29   pen9              3_Zone    368\n",
       "30   pen9              4_Zone     59\n",
       "31   pen9              5_Zone     25"
      ]
     },
     "execution_count": 35,
     "metadata": {},
     "output_type": "execute_result"
    }
   ],
   "source": [
    "#number of records per zone\n",
    "df_students_info[df_students_info['algo_type']=='cleaning'].groupby(['PenID','Trackingsystem_Zone'])[['HenID']].count().reset_index()"
   ]
  },
  {
   "cell_type": "code",
   "execution_count": null,
   "metadata": {},
   "outputs": [],
   "source": []
  },
  {
   "cell_type": "code",
   "execution_count": null,
   "metadata": {},
   "outputs": [],
   "source": []
  },
  {
   "cell_type": "code",
   "execution_count": null,
   "metadata": {},
   "outputs": [],
   "source": []
  },
  {
   "cell_type": "code",
   "execution_count": null,
   "metadata": {},
   "outputs": [],
   "source": []
  },
  {
   "cell_type": "code",
   "execution_count": null,
   "metadata": {},
   "outputs": [],
   "source": []
  },
  {
   "cell_type": "code",
   "execution_count": null,
   "metadata": {},
   "outputs": [],
   "source": []
  },
  {
   "cell_type": "code",
   "execution_count": null,
   "metadata": {},
   "outputs": [],
   "source": []
  }
 ],
 "metadata": {
  "kernelspec": {
   "display_name": "Python 3",
   "language": "python",
   "name": "python3"
  },
  "language_info": {
   "codemirror_mode": {
    "name": "ipython",
    "version": 3
   },
   "file_extension": ".py",
   "mimetype": "text/x-python",
   "name": "python",
   "nbconvert_exporter": "python",
   "pygments_lexer": "ipython3",
   "version": "3.8.5"
  }
 },
 "nbformat": 4,
 "nbformat_minor": 2
}
