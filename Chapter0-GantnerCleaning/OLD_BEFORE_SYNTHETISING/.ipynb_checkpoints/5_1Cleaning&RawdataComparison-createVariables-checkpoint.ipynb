{
 "cells": [
  {
   "cell_type": "code",
   "execution_count": 1,
   "metadata": {},
   "outputs": [],
   "source": [
    "#basic package\n",
    "import json\n",
    "import tqdm\n",
    "import os\n",
    "import numpy as np\n",
    "import glob\n",
    "import pandas as pd\n",
    "import sys\n",
    "import shutil\n",
    "import time\n",
    "import datetime as dt\n",
    "import itertools\n",
    "import re\n",
    "from collections import Counter\n",
    "from collections import defaultdict\n",
    "import operator\n",
    "import math\n",
    "import functools\n",
    "import collections\n",
    "import random\n",
    "from matplotlib.colors import DivergingNorm\n",
    "\n",
    "#0-1 normalisation\n",
    "from sklearn import preprocessing\n",
    "\n",
    "from scipy.stats import pearsonr\n",
    "import scipy.stats as stats\n",
    "\n",
    "#modelling\n",
    "from sklearn.preprocessing import StandardScaler, MinMaxScaler\n",
    "from sklearn.utils import shuffle\n",
    "from sklearn.metrics import classification_report, confusion_matrix, plot_confusion_matrix, cohen_kappa_score, r2_score,\\\n",
    "mean_squared_error, mean_absolute_error, explained_variance_score#catboost, for a better support of categorical data\n",
    "from catboost import CatBoostClassifier, Pool\n",
    "\n",
    "#plot\n",
    "import matplotlib.pyplot as plt\n",
    "import seaborn as sns"
   ]
  },
  {
   "cell_type": "code",
   "execution_count": 2,
   "metadata": {},
   "outputs": [
    {
     "name": "stderr",
     "output_type": "stream",
     "text": [
      "C:\\Users\\camil\\anaconda3\\lib\\site-packages\\scipy\\sparse\\sparsetools.py:21: DeprecationWarning: `scipy.sparse.sparsetools` is deprecated!\n",
      "scipy.sparse.sparsetools is a private module for scipy.sparse, and should not be used.\n",
      "  _deprecated()\n"
     ]
    }
   ],
   "source": [
    "PACKAGE_PARENT = '../'\n",
    "SCRIPT_DIR = os.path.dirname(os.path.realpath(os.path.join(os.getcwd(), os.path.expanduser('__file__'))))\n",
    "sys.path.append(os.path.normpath(os.path.join(SCRIPT_DIR, PACKAGE_PARENT)))\n",
    "from UTILS import cleaning_processing, HenDailyVariable_Origins\n",
    "import config_origins as config"
   ]
  },
  {
   "cell_type": "code",
   "execution_count": 3,
   "metadata": {},
   "outputs": [
    {
     "name": "stderr",
     "output_type": "stream",
     "text": [
      "C:\\Users\\camil\\anaconda3\\lib\\site-packages\\ipykernel\\ipkernel.py:283: DeprecationWarning: `should_run_async` will not call `transform_cell` automatically in the future. Please pass the result to `transformed_cell` argument and any exception that happen during thetransform in `preprocessing_exc_tuple` in IPython 7.17 and above.\n",
      "  and should_run_async(code)\n"
     ]
    }
   ],
   "source": [
    "random.seed(0)"
   ]
  },
  {
   "cell_type": "code",
   "execution_count": 4,
   "metadata": {},
   "outputs": [
    {
     "name": "stderr",
     "output_type": "stream",
     "text": [
      "C:\\Users\\camil\\anaconda3\\lib\\site-packages\\ipykernel\\ipkernel.py:283: DeprecationWarning: `should_run_async` will not call `transform_cell` automatically in the future. Please pass the result to `transformed_cell` argument and any exception that happen during thetransform in `preprocessing_exc_tuple` in IPython 7.17 and above.\n",
      "  and should_run_async(code)\n"
     ]
    }
   ],
   "source": [
    "#initialise parameters\n",
    "path_extracted_data = config.path_extracted_data\n",
    "path_initial_data = config.path_initial_data\n",
    "id_run = config.id_run\n",
    "dico_matching = config.dico_matching\n",
    "dico_night_hour = config.dico_night_hour\n",
    "nbr_maxdur2beremoved = config.nbr_maxdur2beremoved\n",
    "dico_garden_opening_hour = config.dico_garden_opening_hour\n",
    "path_extracted_data_cleaning = os.path.join(path_extracted_data,'Cleaning')\n",
    "path_extracted_data_cleaning_model = os.path.join(path_extracted_data_cleaning,'model')  \n",
    "path_extracted_data_cleaning_rawvscleaned = os.path.join(path_extracted_data_cleaning,'Raw&Cleaned')  \n",
    "#create a director if not existing\n",
    "if not os.path.exists(path_extracted_data_cleaning_rawvscleaned):\n",
    "    os.makedirs(path_extracted_data_cleaning_rawvscleaned)\n",
    "    \n",
    "path_extracted_data_cleaning_rawvscleaned_DF = os.path.join(path_extracted_data_cleaning_rawvscleaned,'var_expl')\n",
    "if not os.path.exists(path_extracted_data_cleaning_rawvscleaned_DF):\n",
    "    os.makedirs(path_extracted_data_cleaning_rawvscleaned_DF)\n",
    "\n",
    "#feature for model\n",
    "li_cont_select = config.li_cont_select\n",
    "li_bin = config.li_bin\n",
    "li_cat_select = config.li_cat_select"
   ]
  },
  {
   "cell_type": "markdown",
   "metadata": {},
   "source": [
    "# Download data & model"
   ]
  },
  {
   "cell_type": "code",
   "execution_count": 5,
   "metadata": {},
   "outputs": [
    {
     "name": "stderr",
     "output_type": "stream",
     "text": [
      "C:\\Users\\camil\\anaconda3\\lib\\site-packages\\ipykernel\\ipkernel.py:283: DeprecationWarning: `should_run_async` will not call `transform_cell` automatically in the future. Please pass the result to `transformed_cell` argument and any exception that happen during thetransform in `preprocessing_exc_tuple` in IPython 7.17 and above.\n",
      "  and should_run_async(code)\n"
     ]
    }
   ],
   "source": [
    "#start end of october, on data that the system never saw!!\n",
    "date_min = dt.datetime(2020, 10, 27)\n",
    "#end at the very end to have most info\n",
    "date_max = dt.datetime(2022,12,30)"
   ]
  },
  {
   "cell_type": "code",
   "execution_count": 6,
   "metadata": {},
   "outputs": [
    {
     "name": "stderr",
     "output_type": "stream",
     "text": [
      "C:\\Users\\camil\\anaconda3\\lib\\site-packages\\ipykernel\\ipkernel.py:283: DeprecationWarning: `should_run_async` will not call `transform_cell` automatically in the future. Please pass the result to `transformed_cell` argument and any exception that happen during thetransform in `preprocessing_exc_tuple` in IPython 7.17 and above.\n",
      "  and should_run_async(code)\n",
      "C:\\Users\\camil\\anaconda3\\lib\\site-packages\\numpy\\lib\\arraysetops.py:580: FutureWarning: elementwise comparison failed; returning scalar instead, but in the future will perform elementwise comparison\n",
      "  mask |= (ar1 == a)\n"
     ]
    },
    {
     "name": "stdout",
     "output_type": "stream",
     "text": [
      "(2425329, 15)\n"
     ]
    },
    {
     "name": "stderr",
     "output_type": "stream",
     "text": [
      "\r",
      "  0%|                                                                                          | 0/179 [00:00<?, ?it/s]"
     ]
    },
    {
     "name": "stdout",
     "output_type": "stream",
     "text": [
      "(2148188, 15)\n"
     ]
    },
    {
     "name": "stderr",
     "output_type": "stream",
     "text": [
      "100%|████████████████████████████████████████████████████████████████████████████████| 179/179 [03:35<00:00,  1.21s/it]\n"
     ]
    },
    {
     "name": "stdout",
     "output_type": "stream",
     "text": [
      "small VERIFICATION of zone matching, before droping the old names\n"
     ]
    },
    {
     "data": {
      "text/html": [
       "<div>\n",
       "<style scoped>\n",
       "    .dataframe tbody tr th:only-of-type {\n",
       "        vertical-align: middle;\n",
       "    }\n",
       "\n",
       "    .dataframe tbody tr th {\n",
       "        vertical-align: top;\n",
       "    }\n",
       "\n",
       "    .dataframe thead th {\n",
       "        text-align: right;\n",
       "    }\n",
       "</style>\n",
       "<table border=\"1\" class=\"dataframe\">\n",
       "  <thead>\n",
       "    <tr style=\"text-align: right;\">\n",
       "      <th></th>\n",
       "      <th>system</th>\n",
       "      <th>zone2</th>\n",
       "      <th>zone3</th>\n",
       "      <th>zone4</th>\n",
       "      <th>zone2_match</th>\n",
       "      <th>zone3_match</th>\n",
       "      <th>zone4_match</th>\n",
       "    </tr>\n",
       "  </thead>\n",
       "  <tbody>\n",
       "    <tr>\n",
       "      <th>277141</th>\n",
       "      <td>3 - 5</td>\n",
       "      <td>2</td>\n",
       "      <td>1</td>\n",
       "      <td>0</td>\n",
       "      <td>3_Zone</td>\n",
       "      <td>2_Zone</td>\n",
       "      <td>NoOtherZone</td>\n",
       "    </tr>\n",
       "    <tr>\n",
       "      <th>277142</th>\n",
       "      <td>3 - 5</td>\n",
       "      <td>3</td>\n",
       "      <td>0</td>\n",
       "      <td>0</td>\n",
       "      <td>4_Zone</td>\n",
       "      <td>NoOtherZone</td>\n",
       "      <td>NoOtherZone</td>\n",
       "    </tr>\n",
       "    <tr>\n",
       "      <th>277143</th>\n",
       "      <td>3 - 5</td>\n",
       "      <td>4</td>\n",
       "      <td>0</td>\n",
       "      <td>0</td>\n",
       "      <td>5_Zone</td>\n",
       "      <td>NoOtherZone</td>\n",
       "      <td>NoOtherZone</td>\n",
       "    </tr>\n",
       "    <tr>\n",
       "      <th>277144</th>\n",
       "      <td>3 - 5</td>\n",
       "      <td>3</td>\n",
       "      <td>4</td>\n",
       "      <td>0</td>\n",
       "      <td>4_Zone</td>\n",
       "      <td>5_Zone</td>\n",
       "      <td>NoOtherZone</td>\n",
       "    </tr>\n",
       "    <tr>\n",
       "      <th>277145</th>\n",
       "      <td>3 - 5</td>\n",
       "      <td>4</td>\n",
       "      <td>0</td>\n",
       "      <td>0</td>\n",
       "      <td>5_Zone</td>\n",
       "      <td>NoOtherZone</td>\n",
       "      <td>NoOtherZone</td>\n",
       "    </tr>\n",
       "    <tr>\n",
       "      <th>277146</th>\n",
       "      <td>3 - 5</td>\n",
       "      <td>3</td>\n",
       "      <td>4</td>\n",
       "      <td>0</td>\n",
       "      <td>4_Zone</td>\n",
       "      <td>5_Zone</td>\n",
       "      <td>NoOtherZone</td>\n",
       "    </tr>\n",
       "    <tr>\n",
       "      <th>277147</th>\n",
       "      <td>3 - 5</td>\n",
       "      <td>3</td>\n",
       "      <td>1</td>\n",
       "      <td>0</td>\n",
       "      <td>4_Zone</td>\n",
       "      <td>2_Zone</td>\n",
       "      <td>NoOtherZone</td>\n",
       "    </tr>\n",
       "    <tr>\n",
       "      <th>277148</th>\n",
       "      <td>3 - 5</td>\n",
       "      <td>2</td>\n",
       "      <td>3</td>\n",
       "      <td>1</td>\n",
       "      <td>3_Zone</td>\n",
       "      <td>4_Zone</td>\n",
       "      <td>2_Zone</td>\n",
       "    </tr>\n",
       "    <tr>\n",
       "      <th>277149</th>\n",
       "      <td>8 - 9</td>\n",
       "      <td>1</td>\n",
       "      <td>3</td>\n",
       "      <td>6</td>\n",
       "      <td>2_Zone</td>\n",
       "      <td>4_Zone</td>\n",
       "      <td>miniZone3</td>\n",
       "    </tr>\n",
       "    <tr>\n",
       "      <th>277150</th>\n",
       "      <td>8 - 9</td>\n",
       "      <td>4</td>\n",
       "      <td>3</td>\n",
       "      <td>1</td>\n",
       "      <td>5_Zone</td>\n",
       "      <td>4_Zone</td>\n",
       "      <td>2_Zone</td>\n",
       "    </tr>\n",
       "  </tbody>\n",
       "</table>\n",
       "</div>"
      ],
      "text/plain": [
       "       system  zone2  zone3  zone4 zone2_match  zone3_match  zone4_match\n",
       "277141  3 - 5      2      1      0      3_Zone       2_Zone  NoOtherZone\n",
       "277142  3 - 5      3      0      0      4_Zone  NoOtherZone  NoOtherZone\n",
       "277143  3 - 5      4      0      0      5_Zone  NoOtherZone  NoOtherZone\n",
       "277144  3 - 5      3      4      0      4_Zone       5_Zone  NoOtherZone\n",
       "277145  3 - 5      4      0      0      5_Zone  NoOtherZone  NoOtherZone\n",
       "277146  3 - 5      3      4      0      4_Zone       5_Zone  NoOtherZone\n",
       "277147  3 - 5      3      1      0      4_Zone       2_Zone  NoOtherZone\n",
       "277148  3 - 5      2      3      1      3_Zone       4_Zone       2_Zone\n",
       "277149  8 - 9      1      3      6      2_Zone       4_Zone    miniZone3\n",
       "277150  8 - 9      4      3      1      5_Zone       4_Zone       2_Zone"
      ]
     },
     "metadata": {},
     "output_type": "display_data"
    },
    {
     "name": "stdout",
     "output_type": "stream",
     "text": [
      "specifically, a small verification of when zone2 was equal to 9\n"
     ]
    },
    {
     "data": {
      "text/html": [
       "<div>\n",
       "<style scoped>\n",
       "    .dataframe tbody tr th:only-of-type {\n",
       "        vertical-align: middle;\n",
       "    }\n",
       "\n",
       "    .dataframe tbody tr th {\n",
       "        vertical-align: top;\n",
       "    }\n",
       "\n",
       "    .dataframe thead th {\n",
       "        text-align: right;\n",
       "    }\n",
       "</style>\n",
       "<table border=\"1\" class=\"dataframe\">\n",
       "  <thead>\n",
       "    <tr style=\"text-align: right;\">\n",
       "      <th></th>\n",
       "      <th>Timestamp</th>\n",
       "      <th>HenID</th>\n",
       "      <th>Zone</th>\n",
       "      <th>PenID</th>\n",
       "      <th>TagID</th>\n",
       "      <th>signalstrength</th>\n",
       "      <th>system</th>\n",
       "      <th>date</th>\n",
       "      <th>zone2</th>\n",
       "      <th>signalstzone2</th>\n",
       "      <th>...</th>\n",
       "      <th>next3_zone</th>\n",
       "      <th>previous3_zone</th>\n",
       "      <th>next4_zone</th>\n",
       "      <th>previous4_zone</th>\n",
       "      <th>next5_zone</th>\n",
       "      <th>previous5_zone</th>\n",
       "      <th>previousZone==NextZone</th>\n",
       "      <th>zone2_match</th>\n",
       "      <th>zone3_match</th>\n",
       "      <th>zone4_match</th>\n",
       "    </tr>\n",
       "  </thead>\n",
       "  <tbody>\n",
       "    <tr>\n",
       "      <th>278062</th>\n",
       "      <td>2020-10-27 05:14:29</td>\n",
       "      <td>hen_47</td>\n",
       "      <td>2_Zone</td>\n",
       "      <td>pen12</td>\n",
       "      <td>tag_175</td>\n",
       "      <td>6</td>\n",
       "      <td>10 - 12</td>\n",
       "      <td>2020-10-27</td>\n",
       "      <td>9</td>\n",
       "      <td>4</td>\n",
       "      <td>...</td>\n",
       "      <td>2_Zone</td>\n",
       "      <td>3_Zone</td>\n",
       "      <td>2_Zone</td>\n",
       "      <td>NaN</td>\n",
       "      <td>2_Zone</td>\n",
       "      <td>NaN</td>\n",
       "      <td>True</td>\n",
       "      <td>2_Zone</td>\n",
       "      <td>5_Zone</td>\n",
       "      <td>3_Zone</td>\n",
       "    </tr>\n",
       "    <tr>\n",
       "      <th>278072</th>\n",
       "      <td>2020-10-27 05:14:45</td>\n",
       "      <td>hen_68</td>\n",
       "      <td>2_Zone</td>\n",
       "      <td>pen12</td>\n",
       "      <td>tag_179</td>\n",
       "      <td>6</td>\n",
       "      <td>10 - 12</td>\n",
       "      <td>2020-10-27</td>\n",
       "      <td>9</td>\n",
       "      <td>5</td>\n",
       "      <td>...</td>\n",
       "      <td>3_Zone</td>\n",
       "      <td>3_Zone</td>\n",
       "      <td>3_Zone</td>\n",
       "      <td>3_Zone</td>\n",
       "      <td>3_Zone</td>\n",
       "      <td>3_Zone</td>\n",
       "      <td>True</td>\n",
       "      <td>2_Zone</td>\n",
       "      <td>NoOtherZone</td>\n",
       "      <td>NoOtherZone</td>\n",
       "    </tr>\n",
       "    <tr>\n",
       "      <th>278109</th>\n",
       "      <td>2020-10-27 05:16:02</td>\n",
       "      <td>hen_68</td>\n",
       "      <td>2_Zone</td>\n",
       "      <td>pen12</td>\n",
       "      <td>tag_179</td>\n",
       "      <td>18</td>\n",
       "      <td>10 - 12</td>\n",
       "      <td>2020-10-27</td>\n",
       "      <td>9</td>\n",
       "      <td>8</td>\n",
       "      <td>...</td>\n",
       "      <td>3_Zone</td>\n",
       "      <td>2_Zone</td>\n",
       "      <td>3_Zone</td>\n",
       "      <td>2_Zone</td>\n",
       "      <td>3_Zone</td>\n",
       "      <td>3_Zone</td>\n",
       "      <td>False</td>\n",
       "      <td>2_Zone</td>\n",
       "      <td>5_Zone</td>\n",
       "      <td>3_Zone</td>\n",
       "    </tr>\n",
       "  </tbody>\n",
       "</table>\n",
       "<p>3 rows × 39 columns</p>\n",
       "</div>"
      ],
      "text/plain": [
       "                 Timestamp   HenID    Zone  PenID    TagID  signalstrength  \\\n",
       "278062 2020-10-27 05:14:29  hen_47  2_Zone  pen12  tag_175               6   \n",
       "278072 2020-10-27 05:14:45  hen_68  2_Zone  pen12  tag_179               6   \n",
       "278109 2020-10-27 05:16:02  hen_68  2_Zone  pen12  tag_179              18   \n",
       "\n",
       "         system       date  zone2  signalstzone2  ...  next3_zone  \\\n",
       "278062  10 - 12 2020-10-27      9              4  ...      2_Zone   \n",
       "278072  10 - 12 2020-10-27      9              5  ...      3_Zone   \n",
       "278109  10 - 12 2020-10-27      9              8  ...      3_Zone   \n",
       "\n",
       "        previous3_zone next4_zone previous4_zone next5_zone previous5_zone  \\\n",
       "278062          3_Zone     2_Zone            NaN     2_Zone            NaN   \n",
       "278072          3_Zone     3_Zone         3_Zone     3_Zone         3_Zone   \n",
       "278109          2_Zone     3_Zone         2_Zone     3_Zone         3_Zone   \n",
       "\n",
       "       previousZone==NextZone  zone2_match  zone3_match  zone4_match  \n",
       "278062                   True       2_Zone       5_Zone       3_Zone  \n",
       "278072                   True       2_Zone  NoOtherZone  NoOtherZone  \n",
       "278109                  False       2_Zone       5_Zone       3_Zone  \n",
       "\n",
       "[3 rows x 39 columns]"
      ]
     },
     "metadata": {},
     "output_type": "display_data"
    },
    {
     "name": "stdout",
     "output_type": "stream",
     "text": [
      "Total running time: 25.12 mn\n",
      "(2144152, 40)\n"
     ]
    },
    {
     "data": {
      "text/html": [
       "<div>\n",
       "<style scoped>\n",
       "    .dataframe tbody tr th:only-of-type {\n",
       "        vertical-align: middle;\n",
       "    }\n",
       "\n",
       "    .dataframe tbody tr th {\n",
       "        vertical-align: top;\n",
       "    }\n",
       "\n",
       "    .dataframe thead th {\n",
       "        text-align: right;\n",
       "    }\n",
       "</style>\n",
       "<table border=\"1\" class=\"dataframe\">\n",
       "  <thead>\n",
       "    <tr style=\"text-align: right;\">\n",
       "      <th></th>\n",
       "      <th>Timestamp</th>\n",
       "      <th>HenID</th>\n",
       "      <th>Trackingsystem_Zone</th>\n",
       "      <th>PenID</th>\n",
       "      <th>TagID</th>\n",
       "      <th>signalstrength</th>\n",
       "      <th>system</th>\n",
       "      <th>date</th>\n",
       "      <th>signalstzone2</th>\n",
       "      <th>next1_record_date</th>\n",
       "      <th>...</th>\n",
       "      <th>next5_zone</th>\n",
       "      <th>previous5_zone</th>\n",
       "      <th>previousZone==NextZone</th>\n",
       "      <th>zone2_match</th>\n",
       "      <th>zone3_match</th>\n",
       "      <th>zone4_match</th>\n",
       "      <th>zone3_match_exist</th>\n",
       "      <th>next2zone==Zone</th>\n",
       "      <th>previous2zone==Zone</th>\n",
       "      <th>time</th>\n",
       "    </tr>\n",
       "  </thead>\n",
       "  <tbody>\n",
       "    <tr>\n",
       "      <th>277141</th>\n",
       "      <td>2020-10-27 00:03:07</td>\n",
       "      <td>hen_100</td>\n",
       "      <td>4_Zone</td>\n",
       "      <td>pen5</td>\n",
       "      <td>tag_121</td>\n",
       "      <td>6</td>\n",
       "      <td>3 - 5</td>\n",
       "      <td>2020-10-27</td>\n",
       "      <td>5</td>\n",
       "      <td>2020-10-27 00:03:12</td>\n",
       "      <td>...</td>\n",
       "      <td>5_Zone</td>\n",
       "      <td>NaN</td>\n",
       "      <td>False</td>\n",
       "      <td>3_Zone</td>\n",
       "      <td>2_Zone</td>\n",
       "      <td>NoOtherZone</td>\n",
       "      <td>1</td>\n",
       "      <td>0</td>\n",
       "      <td>0</td>\n",
       "      <td>00:03:07</td>\n",
       "    </tr>\n",
       "    <tr>\n",
       "      <th>277142</th>\n",
       "      <td>2020-10-27 00:03:12</td>\n",
       "      <td>hen_100</td>\n",
       "      <td>5_Zone</td>\n",
       "      <td>pen5</td>\n",
       "      <td>tag_121</td>\n",
       "      <td>9</td>\n",
       "      <td>3 - 5</td>\n",
       "      <td>2020-10-27</td>\n",
       "      <td>6</td>\n",
       "      <td>2020-10-27 00:20:52</td>\n",
       "      <td>...</td>\n",
       "      <td>3_Zone</td>\n",
       "      <td>NaN</td>\n",
       "      <td>False</td>\n",
       "      <td>4_Zone</td>\n",
       "      <td>NoOtherZone</td>\n",
       "      <td>NoOtherZone</td>\n",
       "      <td>0</td>\n",
       "      <td>1</td>\n",
       "      <td>0</td>\n",
       "      <td>00:03:12</td>\n",
       "    </tr>\n",
       "    <tr>\n",
       "      <th>277143</th>\n",
       "      <td>2020-10-27 00:15:39</td>\n",
       "      <td>hen_73</td>\n",
       "      <td>4_Zone</td>\n",
       "      <td>pen4</td>\n",
       "      <td>tag_41</td>\n",
       "      <td>4</td>\n",
       "      <td>3 - 5</td>\n",
       "      <td>2020-10-27</td>\n",
       "      <td>3</td>\n",
       "      <td>2020-10-27 00:15:42</td>\n",
       "      <td>...</td>\n",
       "      <td>3_Zone</td>\n",
       "      <td>NaN</td>\n",
       "      <td>False</td>\n",
       "      <td>5_Zone</td>\n",
       "      <td>NoOtherZone</td>\n",
       "      <td>NoOtherZone</td>\n",
       "      <td>0</td>\n",
       "      <td>1</td>\n",
       "      <td>0</td>\n",
       "      <td>00:15:39</td>\n",
       "    </tr>\n",
       "  </tbody>\n",
       "</table>\n",
       "<p>3 rows × 40 columns</p>\n",
       "</div>"
      ],
      "text/plain": [
       "                 Timestamp    HenID Trackingsystem_Zone PenID    TagID  \\\n",
       "277141 2020-10-27 00:03:07  hen_100              4_Zone  pen5  tag_121   \n",
       "277142 2020-10-27 00:03:12  hen_100              5_Zone  pen5  tag_121   \n",
       "277143 2020-10-27 00:15:39   hen_73              4_Zone  pen4   tag_41   \n",
       "\n",
       "        signalstrength system       date  signalstzone2   next1_record_date  \\\n",
       "277141               6  3 - 5 2020-10-27              5 2020-10-27 00:03:12   \n",
       "277142               9  3 - 5 2020-10-27              6 2020-10-27 00:20:52   \n",
       "277143               4  3 - 5 2020-10-27              3 2020-10-27 00:15:42   \n",
       "\n",
       "        ... next5_zone previous5_zone previousZone==NextZone zone2_match  \\\n",
       "277141  ...     5_Zone            NaN                  False      3_Zone   \n",
       "277142  ...     3_Zone            NaN                  False      4_Zone   \n",
       "277143  ...     3_Zone            NaN                  False      5_Zone   \n",
       "\n",
       "        zone3_match  zone4_match  zone3_match_exist next2zone==Zone  \\\n",
       "277141       2_Zone  NoOtherZone                  1               0   \n",
       "277142  NoOtherZone  NoOtherZone                  0               1   \n",
       "277143  NoOtherZone  NoOtherZone                  0               1   \n",
       "\n",
       "       previous2zone==Zone      time  \n",
       "277141                   0  00:03:07  \n",
       "277142                   0  00:03:12  \n",
       "277143                   0  00:15:39  \n",
       "\n",
       "[3 rows x 40 columns]"
      ]
     },
     "execution_count": 6,
     "metadata": {},
     "output_type": "execute_result"
    }
   ],
   "source": [
    "#download data and add the necessary processing as the duraiton, next/previous zones etc\n",
    "START_TIME = time.perf_counter()\n",
    "#min date is dt.datetime(2020, 10, 15) so that we dont have only birds not moving\n",
    "df = cleaning_processing(date_min=date_min, date_max=date_max, config=config)\n",
    "df['time'] = df['Timestamp'].map(lambda x: dt.datetime.time(x))\n",
    "df.rename(columns={'Zone':'Trackingsystem_Zone'}, inplace=True)\n",
    "df.to_csv(os.path.join(path_extracted_data_cleaning_rawvscleaned,'df_records_initial_processed.csv'), sep=';', index=False)\n",
    "END_TIME = time.perf_counter()\n",
    "print (\"Total running time: %.2f mn\" %((END_TIME-START_TIME)/60))\n",
    "print(df.shape)\n",
    "df.head(3)"
   ]
  },
  {
   "cell_type": "code",
   "execution_count": 7,
   "metadata": {},
   "outputs": [
    {
     "name": "stderr",
     "output_type": "stream",
     "text": [
      "C:\\Users\\camil\\anaconda3\\lib\\site-packages\\ipykernel\\ipkernel.py:283: DeprecationWarning: `should_run_async` will not call `transform_cell` automatically in the future. Please pass the result to `transformed_cell` argument and any exception that happen during thetransform in `preprocessing_exc_tuple` in IPython 7.17 and above.\n",
      "  and should_run_async(code)\n"
     ]
    }
   ],
   "source": [
    "model = CatBoostClassifier()\n",
    "model.load_model(os.path.join(path_extracted_data_cleaning_model,'FINAL_Catboost'));"
   ]
  },
  {
   "cell_type": "markdown",
   "metadata": {},
   "source": [
    "# Data preprocessing"
   ]
  },
  {
   "cell_type": "code",
   "execution_count": 5,
   "metadata": {},
   "outputs": [
    {
     "name": "stderr",
     "output_type": "stream",
     "text": [
      "C:\\Users\\camil\\anaconda3\\lib\\site-packages\\ipykernel\\ipkernel.py:283: DeprecationWarning: `should_run_async` will not call `transform_cell` automatically in the future. Please pass the result to `transformed_cell` argument and any exception that happen during thetransform in `preprocessing_exc_tuple` in IPython 7.17 and above.\n",
      "  and should_run_async(code)\n"
     ]
    },
    {
     "name": "stdout",
     "output_type": "stream",
     "text": [
      "6.0\n"
     ]
    },
    {
     "data": {
      "text/plain": [
       "False    1960341\n",
       "True      183811\n",
       "Name: is_dur_bigger_900, dtype: int64"
      ]
     },
     "metadata": {},
     "output_type": "display_data"
    },
    {
     "data": {
      "text/plain": [
       "False    1081483\n",
       "True     1062669\n",
       "Name: is_dur_smaller_60sec, dtype: int64"
      ]
     },
     "metadata": {},
     "output_type": "display_data"
    },
    {
     "name": "stdout",
     "output_type": "stream",
     "text": [
      "(2144152, 42)\n"
     ]
    },
    {
     "data": {
      "text/html": [
       "<div>\n",
       "<style scoped>\n",
       "    .dataframe tbody tr th:only-of-type {\n",
       "        vertical-align: middle;\n",
       "    }\n",
       "\n",
       "    .dataframe tbody tr th {\n",
       "        vertical-align: top;\n",
       "    }\n",
       "\n",
       "    .dataframe thead th {\n",
       "        text-align: right;\n",
       "    }\n",
       "</style>\n",
       "<table border=\"1\" class=\"dataframe\">\n",
       "  <thead>\n",
       "    <tr style=\"text-align: right;\">\n",
       "      <th></th>\n",
       "      <th>Timestamp</th>\n",
       "      <th>HenID</th>\n",
       "      <th>Trackingsystem_Zone</th>\n",
       "      <th>PenID</th>\n",
       "      <th>TagID</th>\n",
       "      <th>signalstrength</th>\n",
       "      <th>system</th>\n",
       "      <th>date</th>\n",
       "      <th>signalstzone2</th>\n",
       "      <th>next1_record_date</th>\n",
       "      <th>...</th>\n",
       "      <th>previousZone==NextZone</th>\n",
       "      <th>zone2_match</th>\n",
       "      <th>zone3_match</th>\n",
       "      <th>zone4_match</th>\n",
       "      <th>zone3_match_exist</th>\n",
       "      <th>next2zone==Zone</th>\n",
       "      <th>previous2zone==Zone</th>\n",
       "      <th>time</th>\n",
       "      <th>is_dur_bigger_900</th>\n",
       "      <th>is_dur_smaller_60sec</th>\n",
       "    </tr>\n",
       "  </thead>\n",
       "  <tbody>\n",
       "    <tr>\n",
       "      <th>0</th>\n",
       "      <td>2020-10-27 00:03:07</td>\n",
       "      <td>hen_100</td>\n",
       "      <td>4_Zone</td>\n",
       "      <td>pen5</td>\n",
       "      <td>tag_121</td>\n",
       "      <td>6</td>\n",
       "      <td>3 - 5</td>\n",
       "      <td>2020-10-27</td>\n",
       "      <td>5</td>\n",
       "      <td>2020-10-27 00:03:12</td>\n",
       "      <td>...</td>\n",
       "      <td>False</td>\n",
       "      <td>3_Zone</td>\n",
       "      <td>2_Zone</td>\n",
       "      <td>NoOtherZone</td>\n",
       "      <td>1</td>\n",
       "      <td>0</td>\n",
       "      <td>0</td>\n",
       "      <td>00:03:07</td>\n",
       "      <td>False</td>\n",
       "      <td>True</td>\n",
       "    </tr>\n",
       "    <tr>\n",
       "      <th>1</th>\n",
       "      <td>2020-10-27 00:03:12</td>\n",
       "      <td>hen_100</td>\n",
       "      <td>5_Zone</td>\n",
       "      <td>pen5</td>\n",
       "      <td>tag_121</td>\n",
       "      <td>9</td>\n",
       "      <td>3 - 5</td>\n",
       "      <td>2020-10-27</td>\n",
       "      <td>6</td>\n",
       "      <td>2020-10-27 00:20:52</td>\n",
       "      <td>...</td>\n",
       "      <td>False</td>\n",
       "      <td>4_Zone</td>\n",
       "      <td>NoOtherZone</td>\n",
       "      <td>NoOtherZone</td>\n",
       "      <td>0</td>\n",
       "      <td>1</td>\n",
       "      <td>0</td>\n",
       "      <td>00:03:12</td>\n",
       "      <td>True</td>\n",
       "      <td>False</td>\n",
       "    </tr>\n",
       "    <tr>\n",
       "      <th>2</th>\n",
       "      <td>2020-10-27 00:15:39</td>\n",
       "      <td>hen_73</td>\n",
       "      <td>4_Zone</td>\n",
       "      <td>pen4</td>\n",
       "      <td>tag_41</td>\n",
       "      <td>4</td>\n",
       "      <td>3 - 5</td>\n",
       "      <td>2020-10-27</td>\n",
       "      <td>3</td>\n",
       "      <td>2020-10-27 00:15:42</td>\n",
       "      <td>...</td>\n",
       "      <td>False</td>\n",
       "      <td>5_Zone</td>\n",
       "      <td>NoOtherZone</td>\n",
       "      <td>NoOtherZone</td>\n",
       "      <td>0</td>\n",
       "      <td>1</td>\n",
       "      <td>0</td>\n",
       "      <td>00:15:39</td>\n",
       "      <td>False</td>\n",
       "      <td>True</td>\n",
       "    </tr>\n",
       "  </tbody>\n",
       "</table>\n",
       "<p>3 rows × 42 columns</p>\n",
       "</div>"
      ],
      "text/plain": [
       "            Timestamp    HenID Trackingsystem_Zone PenID    TagID  \\\n",
       "0 2020-10-27 00:03:07  hen_100              4_Zone  pen5  tag_121   \n",
       "1 2020-10-27 00:03:12  hen_100              5_Zone  pen5  tag_121   \n",
       "2 2020-10-27 00:15:39   hen_73              4_Zone  pen4   tag_41   \n",
       "\n",
       "   signalstrength system       date  signalstzone2    next1_record_date  ...  \\\n",
       "0               6  3 - 5 2020-10-27              5  2020-10-27 00:03:12  ...   \n",
       "1               9  3 - 5 2020-10-27              6  2020-10-27 00:20:52  ...   \n",
       "2               4  3 - 5 2020-10-27              3  2020-10-27 00:15:42  ...   \n",
       "\n",
       "  previousZone==NextZone zone2_match  zone3_match  zone4_match  \\\n",
       "0                  False      3_Zone       2_Zone  NoOtherZone   \n",
       "1                  False      4_Zone  NoOtherZone  NoOtherZone   \n",
       "2                  False      5_Zone  NoOtherZone  NoOtherZone   \n",
       "\n",
       "   zone3_match_exist  next2zone==Zone  previous2zone==Zone      time  \\\n",
       "0                  1                0                    0  00:03:07   \n",
       "1                  0                1                    0  00:03:12   \n",
       "2                  0                1                    0  00:15:39   \n",
       "\n",
       "  is_dur_bigger_900 is_dur_smaller_60sec  \n",
       "0             False                 True  \n",
       "1              True                False  \n",
       "2             False                 True  \n",
       "\n",
       "[3 rows x 42 columns]"
      ]
     },
     "execution_count": 5,
     "metadata": {},
     "output_type": "execute_result"
    }
   ],
   "source": [
    "df = pd.read_csv(os.path.join(path_extracted_data_cleaning_rawvscleaned,'df_records_initial_processed.csv'), sep=';',\n",
    "                 parse_dates=['Timestamp','date'], dayfirst=True) \n",
    "df['is_dur_bigger_'+str(nbr_maxdur2beremoved)] = df['duration'].map(lambda x: x>=nbr_maxdur2beremoved)\n",
    "display(df['is_dur_bigger_'+str(nbr_maxdur2beremoved)].value_counts())\n",
    "df['is_dur_smaller_60sec'] = df['duration'].map(lambda x: x<60)\n",
    "display(df['is_dur_smaller_60sec'].value_counts())\n",
    "print(df.shape)\n",
    "df.head(3)"
   ]
  },
  {
   "cell_type": "markdown",
   "metadata": {},
   "source": [
    "### handle nan"
   ]
  },
  {
   "cell_type": "code",
   "execution_count": 9,
   "metadata": {},
   "outputs": [
    {
     "name": "stderr",
     "output_type": "stream",
     "text": [
      "C:\\Users\\camil\\anaconda3\\lib\\site-packages\\ipykernel\\ipkernel.py:283: DeprecationWarning: `should_run_async` will not call `transform_cell` automatically in the future. Please pass the result to `transformed_cell` argument and any exception that happen during thetransform in `preprocessing_exc_tuple` in IPython 7.17 and above.\n",
      "  and should_run_async(code)\n"
     ]
    },
    {
     "data": {
      "text/plain": [
       "0    2143531\n",
       "1        443\n",
       "2        178\n",
       "Name: nbr_nan, dtype: int64"
      ]
     },
     "metadata": {},
     "output_type": "display_data"
    }
   ],
   "source": [
    "#add info on nan values in the initial df, in order to replace at the end all prediction based on features involvig at least \n",
    "#one nan, by 1\n",
    "#Indeed, for records with some nan features, we will predict them a 1 all the time its only 0,05% of the time , i.e. when its \n",
    "#first or last transition. Indeed, we dont want to loose any records!\n",
    "df['nbr_nan'] = df.filter(li_cont_select+li_cat_select, axis=1).isnull().sum(axis=1).tolist()\n",
    "display(df['nbr_nan'].value_counts())"
   ]
  },
  {
   "cell_type": "code",
   "execution_count": 10,
   "metadata": {},
   "outputs": [
    {
     "name": "stderr",
     "output_type": "stream",
     "text": [
      "C:\\Users\\camil\\anaconda3\\lib\\site-packages\\ipykernel\\ipkernel.py:283: DeprecationWarning: `should_run_async` will not call `transform_cell` automatically in the future. Please pass the result to `transformed_cell` argument and any exception that happen during thetransform in `preprocessing_exc_tuple` in IPython 7.17 and above.\n",
      "  and should_run_async(code)\n"
     ]
    },
    {
     "data": {
      "text/html": [
       "<div>\n",
       "<style scoped>\n",
       "    .dataframe tbody tr th:only-of-type {\n",
       "        vertical-align: middle;\n",
       "    }\n",
       "\n",
       "    .dataframe tbody tr th {\n",
       "        vertical-align: top;\n",
       "    }\n",
       "\n",
       "    .dataframe thead th {\n",
       "        text-align: right;\n",
       "    }\n",
       "</style>\n",
       "<table border=\"1\" class=\"dataframe\">\n",
       "  <thead>\n",
       "    <tr style=\"text-align: right;\">\n",
       "      <th></th>\n",
       "      <th>Trackingsystem_Zone</th>\n",
       "      <th>zone2_match</th>\n",
       "      <th>previous1_zone</th>\n",
       "      <th>next1_zone</th>\n",
       "      <th>system</th>\n",
       "    </tr>\n",
       "  </thead>\n",
       "  <tbody>\n",
       "    <tr>\n",
       "      <th>0</th>\n",
       "      <td>4_Zone</td>\n",
       "      <td>3_Zone</td>\n",
       "      <td>NaN</td>\n",
       "      <td>5_Zone</td>\n",
       "      <td>3 - 5</td>\n",
       "    </tr>\n",
       "    <tr>\n",
       "      <th>1</th>\n",
       "      <td>5_Zone</td>\n",
       "      <td>4_Zone</td>\n",
       "      <td>4_Zone</td>\n",
       "      <td>3_Zone</td>\n",
       "      <td>3 - 5</td>\n",
       "    </tr>\n",
       "    <tr>\n",
       "      <th>2</th>\n",
       "      <td>4_Zone</td>\n",
       "      <td>5_Zone</td>\n",
       "      <td>NaN</td>\n",
       "      <td>3_Zone</td>\n",
       "      <td>3 - 5</td>\n",
       "    </tr>\n",
       "  </tbody>\n",
       "</table>\n",
       "</div>"
      ],
      "text/plain": [
       "  Trackingsystem_Zone zone2_match previous1_zone next1_zone system\n",
       "0              4_Zone      3_Zone            NaN     5_Zone  3 - 5\n",
       "1              5_Zone      4_Zone         4_Zone     3_Zone  3 - 5\n",
       "2              4_Zone      5_Zone            NaN     3_Zone  3 - 5"
      ]
     },
     "metadata": {},
     "output_type": "display_data"
    },
    {
     "data": {
      "text/html": [
       "<div>\n",
       "<style scoped>\n",
       "    .dataframe tbody tr th:only-of-type {\n",
       "        vertical-align: middle;\n",
       "    }\n",
       "\n",
       "    .dataframe tbody tr th {\n",
       "        vertical-align: top;\n",
       "    }\n",
       "\n",
       "    .dataframe thead th {\n",
       "        text-align: right;\n",
       "    }\n",
       "</style>\n",
       "<table border=\"1\" class=\"dataframe\">\n",
       "  <thead>\n",
       "    <tr style=\"text-align: right;\">\n",
       "      <th></th>\n",
       "      <th>Trackingsystem_Zone</th>\n",
       "      <th>zone2_match</th>\n",
       "      <th>previous1_zone</th>\n",
       "      <th>next1_zone</th>\n",
       "      <th>system</th>\n",
       "    </tr>\n",
       "  </thead>\n",
       "  <tbody>\n",
       "    <tr>\n",
       "      <th>0</th>\n",
       "      <td>4_Zone</td>\n",
       "      <td>3_Zone</td>\n",
       "      <td>3_Zone</td>\n",
       "      <td>5_Zone</td>\n",
       "      <td>3 - 5</td>\n",
       "    </tr>\n",
       "    <tr>\n",
       "      <th>1</th>\n",
       "      <td>5_Zone</td>\n",
       "      <td>4_Zone</td>\n",
       "      <td>4_Zone</td>\n",
       "      <td>3_Zone</td>\n",
       "      <td>3 - 5</td>\n",
       "    </tr>\n",
       "    <tr>\n",
       "      <th>2</th>\n",
       "      <td>4_Zone</td>\n",
       "      <td>5_Zone</td>\n",
       "      <td>3_Zone</td>\n",
       "      <td>3_Zone</td>\n",
       "      <td>3 - 5</td>\n",
       "    </tr>\n",
       "  </tbody>\n",
       "</table>\n",
       "</div>"
      ],
      "text/plain": [
       "  Trackingsystem_Zone zone2_match previous1_zone next1_zone system\n",
       "0              4_Zone      3_Zone         3_Zone     5_Zone  3 - 5\n",
       "1              5_Zone      4_Zone         4_Zone     3_Zone  3 - 5\n",
       "2              4_Zone      5_Zone         3_Zone     3_Zone  3 - 5"
      ]
     },
     "execution_count": 10,
     "metadata": {},
     "output_type": "execute_result"
    }
   ],
   "source": [
    "#fillnan for simplicity, but we will remove those rows predictions anyway\n",
    "#display BEFORE categoricalfeatures\n",
    "display(df[li_cat_select].head(3))\n",
    "df[li_cont_select] = df[li_cont_select].fillna(df[li_cont_select].mean().iloc[0])\n",
    "#display AFTER categoricalfeatures\n",
    "df[li_cat_select] = df[li_cat_select].fillna(df[li_cat_select].mode().iloc[0])\n",
    "df[li_cat_select].head(3)"
   ]
  },
  {
   "cell_type": "markdown",
   "metadata": {},
   "source": [
    "### scaling"
   ]
  },
  {
   "cell_type": "code",
   "execution_count": 11,
   "metadata": {},
   "outputs": [
    {
     "name": "stderr",
     "output_type": "stream",
     "text": [
      "C:\\Users\\camil\\anaconda3\\lib\\site-packages\\ipykernel\\ipkernel.py:283: DeprecationWarning: `should_run_async` will not call `transform_cell` automatically in the future. Please pass the result to `transformed_cell` argument and any exception that happen during thetransform in `preprocessing_exc_tuple` in IPython 7.17 and above.\n",
      "  and should_run_async(code)\n"
     ]
    },
    {
     "data": {
      "text/html": [
       "<div>\n",
       "<style scoped>\n",
       "    .dataframe tbody tr th:only-of-type {\n",
       "        vertical-align: middle;\n",
       "    }\n",
       "\n",
       "    .dataframe tbody tr th {\n",
       "        vertical-align: top;\n",
       "    }\n",
       "\n",
       "    .dataframe thead th {\n",
       "        text-align: right;\n",
       "    }\n",
       "</style>\n",
       "<table border=\"1\" class=\"dataframe\">\n",
       "  <thead>\n",
       "    <tr style=\"text-align: right;\">\n",
       "      <th></th>\n",
       "      <th>signalstrength</th>\n",
       "      <th>signalstzone2</th>\n",
       "      <th>duration</th>\n",
       "      <th>next_duration</th>\n",
       "      <th>previous_duration</th>\n",
       "      <th>next2zone==Zone</th>\n",
       "      <th>previous2zone==Zone</th>\n",
       "      <th>zone3_match_exist</th>\n",
       "    </tr>\n",
       "  </thead>\n",
       "  <tbody>\n",
       "    <tr>\n",
       "      <th>0</th>\n",
       "      <td>6</td>\n",
       "      <td>5</td>\n",
       "      <td>5.0</td>\n",
       "      <td>1060.0</td>\n",
       "      <td>0.0</td>\n",
       "      <td>0</td>\n",
       "      <td>0</td>\n",
       "      <td>1</td>\n",
       "    </tr>\n",
       "    <tr>\n",
       "      <th>1</th>\n",
       "      <td>9</td>\n",
       "      <td>6</td>\n",
       "      <td>1060.0</td>\n",
       "      <td>7.0</td>\n",
       "      <td>5.0</td>\n",
       "      <td>1</td>\n",
       "      <td>0</td>\n",
       "      <td>0</td>\n",
       "    </tr>\n",
       "    <tr>\n",
       "      <th>2</th>\n",
       "      <td>4</td>\n",
       "      <td>3</td>\n",
       "      <td>3.0</td>\n",
       "      <td>297.0</td>\n",
       "      <td>0.0</td>\n",
       "      <td>1</td>\n",
       "      <td>0</td>\n",
       "      <td>0</td>\n",
       "    </tr>\n",
       "  </tbody>\n",
       "</table>\n",
       "</div>"
      ],
      "text/plain": [
       "   signalstrength  signalstzone2  duration  next_duration  previous_duration  \\\n",
       "0               6              5       5.0         1060.0                0.0   \n",
       "1               9              6    1060.0            7.0                5.0   \n",
       "2               4              3       3.0          297.0                0.0   \n",
       "\n",
       "   next2zone==Zone  previous2zone==Zone  zone3_match_exist  \n",
       "0                0                    0                  1  \n",
       "1                1                    0                  0  \n",
       "2                1                    0                  0  "
      ]
     },
     "metadata": {},
     "output_type": "display_data"
    },
    {
     "data": {
      "text/html": [
       "<div>\n",
       "<style scoped>\n",
       "    .dataframe tbody tr th:only-of-type {\n",
       "        vertical-align: middle;\n",
       "    }\n",
       "\n",
       "    .dataframe tbody tr th {\n",
       "        vertical-align: top;\n",
       "    }\n",
       "\n",
       "    .dataframe thead th {\n",
       "        text-align: right;\n",
       "    }\n",
       "</style>\n",
       "<table border=\"1\" class=\"dataframe\">\n",
       "  <thead>\n",
       "    <tr style=\"text-align: right;\">\n",
       "      <th></th>\n",
       "      <th>signalstrength</th>\n",
       "      <th>signalstzone2</th>\n",
       "      <th>duration</th>\n",
       "      <th>next_duration</th>\n",
       "      <th>previous_duration</th>\n",
       "      <th>next2zone==Zone</th>\n",
       "      <th>previous2zone==Zone</th>\n",
       "      <th>zone3_match_exist</th>\n",
       "    </tr>\n",
       "  </thead>\n",
       "  <tbody>\n",
       "    <tr>\n",
       "      <th>0</th>\n",
       "      <td>-1.344953</td>\n",
       "      <td>-0.737476</td>\n",
       "      <td>-0.123721</td>\n",
       "      <td>0.123503</td>\n",
       "      <td>-0.124897</td>\n",
       "      <td>0</td>\n",
       "      <td>0</td>\n",
       "      <td>1</td>\n",
       "    </tr>\n",
       "    <tr>\n",
       "      <th>1</th>\n",
       "      <td>-0.595354</td>\n",
       "      <td>-0.465135</td>\n",
       "      <td>0.123292</td>\n",
       "      <td>-0.123163</td>\n",
       "      <td>-0.123727</td>\n",
       "      <td>1</td>\n",
       "      <td>0</td>\n",
       "      <td>0</td>\n",
       "    </tr>\n",
       "    <tr>\n",
       "      <th>2</th>\n",
       "      <td>-1.844685</td>\n",
       "      <td>-1.282158</td>\n",
       "      <td>-0.124189</td>\n",
       "      <td>-0.055230</td>\n",
       "      <td>-0.124897</td>\n",
       "      <td>1</td>\n",
       "      <td>0</td>\n",
       "      <td>0</td>\n",
       "    </tr>\n",
       "  </tbody>\n",
       "</table>\n",
       "</div>"
      ],
      "text/plain": [
       "   signalstrength  signalstzone2  duration  next_duration  previous_duration  \\\n",
       "0       -1.344953      -0.737476 -0.123721       0.123503          -0.124897   \n",
       "1       -0.595354      -0.465135  0.123292      -0.123163          -0.123727   \n",
       "2       -1.844685      -1.282158 -0.124189      -0.055230          -0.124897   \n",
       "\n",
       "   next2zone==Zone  previous2zone==Zone  zone3_match_exist  \n",
       "0                0                    0                  1  \n",
       "1                1                    0                  0  \n",
       "2                1                    0                  0  "
      ]
     },
     "metadata": {},
     "output_type": "display_data"
    }
   ],
   "source": [
    "#scaling numerical data: necessary due to duration high values\n",
    "display(df[li_cont_select].head(3))\n",
    "sc = StandardScaler()\n",
    "li_scale = [x for x in li_cont_select if x not in li_bin]\n",
    "df[li_scale] = sc.fit_transform(df[li_scale])\n",
    "display(df[li_cont_select].head(3))"
   ]
  },
  {
   "cell_type": "code",
   "execution_count": 12,
   "metadata": {},
   "outputs": [
    {
     "name": "stderr",
     "output_type": "stream",
     "text": [
      "C:\\Users\\camil\\anaconda3\\lib\\site-packages\\ipykernel\\ipkernel.py:283: DeprecationWarning: `should_run_async` will not call `transform_cell` automatically in the future. Please pass the result to `transformed_cell` argument and any exception that happen during thetransform in `preprocessing_exc_tuple` in IPython 7.17 and above.\n",
      "  and should_run_async(code)\n"
     ]
    },
    {
     "data": {
      "text/html": [
       "<div>\n",
       "<style scoped>\n",
       "    .dataframe tbody tr th:only-of-type {\n",
       "        vertical-align: middle;\n",
       "    }\n",
       "\n",
       "    .dataframe tbody tr th {\n",
       "        vertical-align: top;\n",
       "    }\n",
       "\n",
       "    .dataframe thead th {\n",
       "        text-align: right;\n",
       "    }\n",
       "</style>\n",
       "<table border=\"1\" class=\"dataframe\">\n",
       "  <thead>\n",
       "    <tr style=\"text-align: right;\">\n",
       "      <th></th>\n",
       "      <th>Trackingsystem_Zone</th>\n",
       "      <th>zone2_match</th>\n",
       "      <th>previous1_zone</th>\n",
       "      <th>next1_zone</th>\n",
       "      <th>system</th>\n",
       "    </tr>\n",
       "  </thead>\n",
       "  <tbody>\n",
       "    <tr>\n",
       "      <th>0</th>\n",
       "      <td>4_Zone</td>\n",
       "      <td>3_Zone</td>\n",
       "      <td>3_Zone</td>\n",
       "      <td>5_Zone</td>\n",
       "      <td>3 - 5</td>\n",
       "    </tr>\n",
       "    <tr>\n",
       "      <th>1</th>\n",
       "      <td>5_Zone</td>\n",
       "      <td>4_Zone</td>\n",
       "      <td>4_Zone</td>\n",
       "      <td>3_Zone</td>\n",
       "      <td>3 - 5</td>\n",
       "    </tr>\n",
       "    <tr>\n",
       "      <th>2</th>\n",
       "      <td>4_Zone</td>\n",
       "      <td>5_Zone</td>\n",
       "      <td>3_Zone</td>\n",
       "      <td>3_Zone</td>\n",
       "      <td>3 - 5</td>\n",
       "    </tr>\n",
       "  </tbody>\n",
       "</table>\n",
       "</div>"
      ],
      "text/plain": [
       "  Trackingsystem_Zone zone2_match previous1_zone next1_zone system\n",
       "0              4_Zone      3_Zone         3_Zone     5_Zone  3 - 5\n",
       "1              5_Zone      4_Zone         4_Zone     3_Zone  3 - 5\n",
       "2              4_Zone      5_Zone         3_Zone     3_Zone  3 - 5"
      ]
     },
     "execution_count": 12,
     "metadata": {},
     "output_type": "execute_result"
    }
   ],
   "source": [
    "df[li_cat_select].head(3)"
   ]
  },
  {
   "cell_type": "markdown",
   "metadata": {},
   "source": [
    "# Cleaning"
   ]
  },
  {
   "cell_type": "code",
   "execution_count": 13,
   "metadata": {
    "scrolled": true
   },
   "outputs": [
    {
     "name": "stderr",
     "output_type": "stream",
     "text": [
      "C:\\Users\\camil\\anaconda3\\lib\\site-packages\\ipykernel\\ipkernel.py:283: DeprecationWarning: `should_run_async` will not call `transform_cell` automatically in the future. Please pass the result to `transformed_cell` argument and any exception that happen during thetransform in `preprocessing_exc_tuple` in IPython 7.17 and above.\n",
      "  and should_run_async(code)\n"
     ]
    },
    {
     "name": "stdout",
     "output_type": "stream",
     "text": [
      "Total running time for prediction: 0.20 mn\n"
     ]
    },
    {
     "data": {
      "text/plain": [
       "1.0    0.947516\n",
       "0.0    0.052484\n",
       "Name: model_prediction, dtype: float64"
      ]
     },
     "metadata": {},
     "output_type": "display_data"
    }
   ],
   "source": [
    "####################### predict\n",
    "START_TIME = time.perf_counter()\n",
    "#predict, and if its wintergarten (i.e. 1_Zone) put always = 1\n",
    "df_ = df[df['Trackingsystem_Zone']!='1_Zone'].copy()\n",
    "predictions = model.predict(df_.filter(li_cont_select+li_cat_select, axis=1))\n",
    "df_['model_prediction'] = predictions\n",
    "df = pd.merge(df, df_.filter(['model_prediction','HenID','Timestamp'], axis=1), on=['HenID','Timestamp'], how='left')\n",
    "\n",
    "#predict false if <60seconds in WG else True\n",
    "df.loc[df['Trackingsystem_Zone']=='1_Zone','model_prediction'] = 1\n",
    "df.loc[(df['is_dur_smaller_60sec'])&(df['Trackingsystem_Zone']=='1_Zone'), 'model_prediction'] = 0\n",
    "\n",
    "#always =1 if >15mn or if there was some nan values\n",
    "df.loc[(df['is_dur_bigger_'+str(nbr_maxdur2beremoved)])|(df['nbr_nan']!=0), 'model_prediction'] = 1\n",
    "\n",
    "#prediction_proba = model.predict_proba(df[df['Trackingsystem_Zone']!='1_Zone'])\n",
    "#df['model_prediction_proba0'] = [round(x[0],2) for x in prediction_proba]\n",
    "#df['model_prediction_proba1'] = [round(x[1],2) for x in prediction_proba]\n",
    "END_TIME = time.perf_counter()\n",
    "print (\"Total running time for prediction: %.2f mn\" %((END_TIME-START_TIME)/60))\n",
    "display(df['model_prediction'].value_counts(normalize=True)) #in testing it was 4,9% of wrong records: 42/(42+821)*100)\n",
    "#will take TIME to save\n",
    "df.filter(['HenID','PenID','system','Trackingsystem_Zone','model_prediction','Timestamp','date'],\n",
    "          axis=1).to_csv(os.path.join(path_extracted_data_cleaning_rawvscleaned, id_run+'_Rawdata&Model.csv'),\n",
    "                         index=False, sep=';')"
   ]
  },
  {
   "cell_type": "markdown",
   "metadata": {},
   "source": [
    "####################### add the induced model_Observation (so that we can easily compare in the same excel as the raw data)\n",
    "'''df = df.sort_values(['Timestamp'], ascending=True)\n",
    "df_ = df[df['model_prediction']==0].copy()\n",
    "df_['previous1_correctzone'] = df_.apply(lambda x: ([None]+list(df[(df['HenID']==x['HenID'])&\\\n",
    "                                                                (df['Timestamp']<x['Timestamp'])&\\\n",
    "                                                (df['model_prediction']==1)]['Trackingsystem_Zone'].values))[-1], axis=1)\n",
    "\n",
    "df_['previous1_correctzone'] = df_.apply(lambda x: df[(df['HenID']==x['HenID'])&(df['Timestamp']<x['Timestamp'])&\\\n",
    "                                                    (df['model_prediction']==1)]['Trackingsystem_Zone'], axis=1)\n",
    "df = pd.merge(df, df_.filter(['previous1_correctzone','HenID','Timestamp'], axis=1), on=['HenID','Timestamp'], how='left')\n",
    "\n",
    "#add the zone that would be selected with this algorithm output: if==0, then the true zone is the one before\n",
    "df['model_ObservedZone'] = df.apply(lambda x: x['Trackingsystem_Zone'] if x['model_prediction']==1 else \\\n",
    "                                    x['previous1_correctzone'],axis=1)'''\n",
    "display(df.head(3))\n",
    "#total time\n",
    "END_TIME = time.perf_counter()\n",
    "print (\"Total running time to process&save prediction: %.2f mn\" %((END_TIME-START_TIME)/60))\n"
   ]
  },
  {
   "cell_type": "markdown",
   "metadata": {},
   "source": [
    "# Assess henID/system/pen explained variance of match vs non-match"
   ]
  },
  {
   "cell_type": "markdown",
   "metadata": {},
   "source": [
    "li_sel_hen = list(df['HenID'].unique())\n",
    "#restrict to 50 hens:\n",
    "#li_sel_hen = random.sample(list(df['HenID'].unique()),50) #not enough 50 to assess penID and system explained variance\n",
    "#number of disjoint set of days to run per #days involved\n",
    "nbr_comb = 10\n",
    "#compute disjoint set of days \n",
    "li_disjoint_set = []\n",
    "#min nbr of days to include\n",
    "min_days = 4\n",
    "\n",
    "#to have disjoint set of days\n",
    "li_date = df['date'].unique()\n",
    "for nbr_days in tqdm.tqdm(range(min_days, int(len(li_date)/nbr_comb)+1)):\n",
    "    li_sel = []\n",
    "    li_date_ = li_date.copy()\n",
    "    while len(li_sel)!=nbr_comb:\n",
    "        li_ = random.sample(list(li_date_), nbr_days)\n",
    "        li_sel.append(li_)\n",
    "        li_date_ = [x for x in li_date_ if x not in li_]\n",
    "    li_disjoint_set.extend(li_sel)\n",
    "#do the one with all batches for final outputs\n",
    "len(li_disjoint_set)\n",
    "#li_disjoint_set"
   ]
  },
  {
   "cell_type": "markdown",
   "metadata": {},
   "source": [
    "for i,li_d in tqdm.tqdm(enumerate(li_disjoint_set)):\n",
    "    nbr_days = len(li_d)\n",
    "    df_ = df[(df['date'].isin(li_d)) &(df['HenID'].isin(li_sel_hen))].copy()\n",
    "    df_ = df_.dropna()\n",
    "    #save to do in R\n",
    "    df_.filter(['HenID', 'PenID', 'system','Zone','model_prediction'],\n",
    "               axis=1).to_csv(os.path.join(path_extracted_data_cleaning_rawvscleaned_DF,\n",
    "                                           'df_EV_day'+str(nbr_days)+'_'+str(i)+'.csv'), sep=';', index=False)"
   ]
  },
  {
   "cell_type": "markdown",
   "metadata": {},
   "source": [
    "df_varexp = pd.read_csv(os.path.join(path_extracted_data_cleaning_rawvscleaned,'var_expl','df_VarExpl.csv'),\n",
    "                       names=['csvID', 'Deviance', 'indvar'], index_col=False, sep=';', header=None)\n",
    "df_varexp = df_varexp.iloc[1:79]\n",
    "df_varexp['nbr_days'] = df_varexp['csvID'].map(lambda x: int(x.split('day')[1].split('_')[0]))\n",
    "df_varexp['Deviance'] = df_varexp['Deviance'].map(lambda x: np.round(float(x),2))\n",
    "print(df_varexp.shape)\n",
    "display(df_varexp.head(3))\n",
    "\n",
    "#plot\n",
    "ax = sns.boxplot(x=\"nbr_days\", y=\"Deviance\", hue='indvar', data=df_varexp)\n",
    "#ax = sns.swarmplot(x=\"nbr_days\", y=\"Deviance\", hue='indvar', data=df_varexp)\n",
    "#a réentrainer dans le temps? ou peut-etre que dans le temps les erreur entre poule se compenseront et limportance de la \n",
    "#henid diminuerai\n",
    "plt.savefig(os.path.join(path_extracted_data_cleaning_rawvscleaned, 'deviance_features_overtime.png'), "
   ]
  },
  {
   "cell_type": "markdown",
   "metadata": {},
   "source": [
    "# Compute variable"
   ]
  },
  {
   "cell_type": "code",
   "execution_count": 5,
   "metadata": {},
   "outputs": [
    {
     "name": "stderr",
     "output_type": "stream",
     "text": [
      "C:\\Users\\camil\\anaconda3\\lib\\site-packages\\ipykernel\\ipkernel.py:283: DeprecationWarning: `should_run_async` will not call `transform_cell` automatically in the future. Please pass the result to `transformed_cell` argument and any exception that happen during thetransform in `preprocessing_exc_tuple` in IPython 7.17 and above.\n",
      "  and should_run_async(code)\n"
     ]
    },
    {
     "name": "stdout",
     "output_type": "stream",
     "text": [
      "(2144152, 7)\n"
     ]
    },
    {
     "data": {
      "text/html": [
       "<div>\n",
       "<style scoped>\n",
       "    .dataframe tbody tr th:only-of-type {\n",
       "        vertical-align: middle;\n",
       "    }\n",
       "\n",
       "    .dataframe tbody tr th {\n",
       "        vertical-align: top;\n",
       "    }\n",
       "\n",
       "    .dataframe thead th {\n",
       "        text-align: right;\n",
       "    }\n",
       "</style>\n",
       "<table border=\"1\" class=\"dataframe\">\n",
       "  <thead>\n",
       "    <tr style=\"text-align: right;\">\n",
       "      <th></th>\n",
       "      <th>HenID</th>\n",
       "      <th>PenID</th>\n",
       "      <th>system</th>\n",
       "      <th>Trackingsystem_Zone</th>\n",
       "      <th>model_prediction</th>\n",
       "      <th>Timestamp</th>\n",
       "      <th>date</th>\n",
       "    </tr>\n",
       "  </thead>\n",
       "  <tbody>\n",
       "    <tr>\n",
       "      <th>0</th>\n",
       "      <td>hen_100</td>\n",
       "      <td>pen5</td>\n",
       "      <td>3 - 5</td>\n",
       "      <td>4_Zone</td>\n",
       "      <td>1.0</td>\n",
       "      <td>2020-10-27 00:03:07</td>\n",
       "      <td>2020-10-27</td>\n",
       "    </tr>\n",
       "    <tr>\n",
       "      <th>1</th>\n",
       "      <td>hen_100</td>\n",
       "      <td>pen5</td>\n",
       "      <td>3 - 5</td>\n",
       "      <td>5_Zone</td>\n",
       "      <td>1.0</td>\n",
       "      <td>2020-10-27 00:03:12</td>\n",
       "      <td>2020-10-27</td>\n",
       "    </tr>\n",
       "    <tr>\n",
       "      <th>2</th>\n",
       "      <td>hen_73</td>\n",
       "      <td>pen4</td>\n",
       "      <td>3 - 5</td>\n",
       "      <td>4_Zone</td>\n",
       "      <td>1.0</td>\n",
       "      <td>2020-10-27 00:15:39</td>\n",
       "      <td>2020-10-27</td>\n",
       "    </tr>\n",
       "  </tbody>\n",
       "</table>\n",
       "</div>"
      ],
      "text/plain": [
       "     HenID PenID system Trackingsystem_Zone  model_prediction  \\\n",
       "0  hen_100  pen5  3 - 5              4_Zone               1.0   \n",
       "1  hen_100  pen5  3 - 5              5_Zone               1.0   \n",
       "2   hen_73  pen4  3 - 5              4_Zone               1.0   \n",
       "\n",
       "            Timestamp       date  \n",
       "0 2020-10-27 00:03:07 2020-10-27  \n",
       "1 2020-10-27 00:03:12 2020-10-27  \n",
       "2 2020-10-27 00:15:39 2020-10-27  "
      ]
     },
     "execution_count": 5,
     "metadata": {},
     "output_type": "execute_result"
    }
   ],
   "source": [
    "#for being more reproductible, we open the file that was saved from cleaning\n",
    "df = pd.read_csv(os.path.join(path_extracted_data_cleaning_rawvscleaned, id_run+'_Rawdata&Model.csv'), sep=';', \n",
    "                 parse_dates=['Timestamp','date'], dayfirst=True)\n",
    "print(df.shape)\n",
    "df.head(3)"
   ]
  },
  {
   "cell_type": "code",
   "execution_count": 6,
   "metadata": {},
   "outputs": [
    {
     "name": "stderr",
     "output_type": "stream",
     "text": [
      "C:\\Users\\camil\\anaconda3\\lib\\site-packages\\ipykernel\\ipkernel.py:283: DeprecationWarning: `should_run_async` will not call `transform_cell` automatically in the future. Please pass the result to `transformed_cell` argument and any exception that happen during thetransform in `preprocessing_exc_tuple` in IPython 7.17 and above.\n",
      "  and should_run_async(code)\n"
     ]
    }
   ],
   "source": [
    "#start end of october, on data that the system never saw!!\n",
    "date_min = dt.datetime(2020, 10, 20)\n",
    "#end at the very end to have most info\n",
    "date_max = dt.datetime(2022, 11, 5)"
   ]
  },
  {
   "cell_type": "code",
   "execution_count": 8,
   "metadata": {},
   "outputs": [
    {
     "name": "stderr",
     "output_type": "stream",
     "text": [
      "C:\\Users\\camil\\anaconda3\\lib\\site-packages\\ipykernel\\ipkernel.py:283: DeprecationWarning: `should_run_async` will not call `transform_cell` automatically in the future. Please pass the result to `transformed_cell` argument and any exception that happen during thetransform in `preprocessing_exc_tuple` in IPython 7.17 and above.\n",
      "  and should_run_async(code)\n"
     ]
    },
    {
     "name": "stdout",
     "output_type": "stream",
     "text": [
      "(2144152, 7)\n",
      "(2031618, 7)\n"
     ]
    },
    {
     "data": {
      "text/html": [
       "<div>\n",
       "<style scoped>\n",
       "    .dataframe tbody tr th:only-of-type {\n",
       "        vertical-align: middle;\n",
       "    }\n",
       "\n",
       "    .dataframe tbody tr th {\n",
       "        vertical-align: top;\n",
       "    }\n",
       "\n",
       "    .dataframe thead th {\n",
       "        text-align: right;\n",
       "    }\n",
       "</style>\n",
       "<table border=\"1\" class=\"dataframe\">\n",
       "  <thead>\n",
       "    <tr style=\"text-align: right;\">\n",
       "      <th></th>\n",
       "      <th>HenID</th>\n",
       "      <th>PenID</th>\n",
       "      <th>system</th>\n",
       "      <th>Zone</th>\n",
       "      <th>model_prediction</th>\n",
       "      <th>Timestamp</th>\n",
       "      <th>date</th>\n",
       "    </tr>\n",
       "  </thead>\n",
       "  <tbody>\n",
       "    <tr>\n",
       "      <th>0</th>\n",
       "      <td>hen_100</td>\n",
       "      <td>pen5</td>\n",
       "      <td>3 - 5</td>\n",
       "      <td>4_Zone</td>\n",
       "      <td>1.0</td>\n",
       "      <td>2020-10-27 00:03:07</td>\n",
       "      <td>2020-10-27</td>\n",
       "    </tr>\n",
       "    <tr>\n",
       "      <th>1</th>\n",
       "      <td>hen_100</td>\n",
       "      <td>pen5</td>\n",
       "      <td>3 - 5</td>\n",
       "      <td>5_Zone</td>\n",
       "      <td>1.0</td>\n",
       "      <td>2020-10-27 00:03:12</td>\n",
       "      <td>2020-10-27</td>\n",
       "    </tr>\n",
       "  </tbody>\n",
       "</table>\n",
       "</div>"
      ],
      "text/plain": [
       "     HenID PenID system    Zone  model_prediction           Timestamp  \\\n",
       "0  hen_100  pen5  3 - 5  4_Zone               1.0 2020-10-27 00:03:07   \n",
       "1  hen_100  pen5  3 - 5  5_Zone               1.0 2020-10-27 00:03:12   \n",
       "\n",
       "        date  \n",
       "0 2020-10-27  \n",
       "1 2020-10-27  "
      ]
     },
     "metadata": {},
     "output_type": "display_data"
    },
    {
     "name": "stderr",
     "output_type": "stream",
     "text": [
      "\r",
      "  0%|                                                                                            | 0/8 [00:00<?, ?it/s]"
     ]
    },
    {
     "name": "stdout",
     "output_type": "stream",
     "text": [
      "----------------- Create time serie\n",
      "in this time series there is 23 hens\n",
      "The initial starting date in over all is: 2020-10-27 00:03:07, and the ending date will be: 2021-01-18 08:36:57\n",
      "But note that birds may have different ending and starting date which should be taken into account when computing variables\n",
      "and after ending the last day at midnight : 2020-10-27 00:03:07, and the ending date will be: 2021-01-18 23:59:59\n",
      "Total running time: 2.00 mn\n",
      "your time series has 1 seconds between two timestamps\n",
      "----------------- main night zone and nbr of transitions over night....\n",
      "----------------- total duration per Zone in seconds....\n",
      "----------------- first timestamp in each zone per day....\n",
      "----------------- number of Zone (excluding nan)....\n",
      "----------------- compute some variables based on a list of zones over a day....\n",
      "----------------NESTBOX\n"
     ]
    },
    {
     "name": "stderr",
     "output_type": "stream",
     "text": [
      "\n",
      "  0%|                                                                                           | 0/23 [00:00<?, ?it/s]\u001b[A\n",
      "  4%|███▌                                                                               | 1/23 [00:00<00:03,  5.57it/s]\u001b[A\n",
      "  9%|███████▏                                                                           | 2/23 [00:01<00:09,  2.30it/s]\u001b[A\n",
      " 13%|██████████▊                                                                        | 3/23 [00:01<00:10,  1.98it/s]\u001b[A\n",
      " 17%|██████████████▍                                                                    | 4/23 [00:02<00:08,  2.32it/s]\u001b[A\n",
      " 26%|█████████████████████▋                                                             | 6/23 [00:02<00:07,  2.33it/s]\u001b[A\n",
      " 30%|█████████████████████████▎                                                         | 7/23 [00:03<00:06,  2.64it/s]\u001b[A\n",
      " 35%|████████████████████████████▊                                                      | 8/23 [00:04<00:07,  2.02it/s]\u001b[A\n",
      " 39%|████████████████████████████████▍                                                  | 9/23 [00:04<00:07,  1.86it/s]\u001b[A\n",
      " 43%|███████████████████████████████████▋                                              | 10/23 [00:05<00:06,  1.91it/s]\u001b[A\n",
      " 48%|███████████████████████████████████████▏                                          | 11/23 [00:05<00:06,  1.99it/s]\u001b[A\n",
      " 52%|██████████████████████████████████████████▊                                       | 12/23 [00:05<00:04,  2.36it/s]\u001b[A\n",
      " 57%|██████████████████████████████████████████████▎                                   | 13/23 [00:05<00:03,  3.03it/s]\u001b[A\n",
      " 61%|█████████████████████████████████████████████████▉                                | 14/23 [00:06<00:04,  1.98it/s]\u001b[A\n",
      " 65%|█████████████████████████████████████████████████████▍                            | 15/23 [00:07<00:03,  2.47it/s]\u001b[A\n",
      " 70%|█████████████████████████████████████████████████████████                         | 16/23 [00:07<00:03,  1.84it/s]\u001b[A\n",
      " 74%|████████████████████████████████████████████████████████████▌                     | 17/23 [00:08<00:03,  1.95it/s]\u001b[A\n",
      " 78%|████████████████████████████████████████████████████████████████▏                 | 18/23 [00:08<00:02,  2.48it/s]\u001b[A\n",
      " 83%|███████████████████████████████████████████████████████████████████▋              | 19/23 [00:09<00:02,  1.99it/s]\u001b[A\n",
      " 87%|███████████████████████████████████████████████████████████████████████▎          | 20/23 [00:09<00:01,  2.34it/s]\u001b[A\n",
      " 91%|██████████████████████████████████████████████████████████████████████████▊       | 21/23 [00:10<00:00,  2.12it/s]\u001b[A\n",
      " 96%|██████████████████████████████████████████████████████████████████████████████▍   | 22/23 [00:10<00:00,  2.66it/s]\u001b[A\n",
      "100%|██████████████████████████████████████████████████████████████████████████████████| 23/23 [00:10<00:00,  2.19it/s]\u001b[A\n",
      "C:\\Users\\camil\\anaconda3\\lib\\site-packages\\numpy\\lib\\nanfunctions.py:1366: RuntimeWarning: Mean of empty slice\n",
      "  return np.nanmean(a, axis, out=out, keepdims=keepdims)\n"
     ]
    },
    {
     "name": "stdout",
     "output_type": "stream",
     "text": [
      "-------------- Lets remove unwanted dates at PENS level\n"
     ]
    },
    {
     "data": {
      "text/html": [
       "<text style=color:black>By removing the unwanted days we passed from 1848 to 1659 timestamp (losing </text> <text style=color:red>189</text> <text style=color:black> timestamp)</text>"
      ],
      "text/plain": [
       "<IPython.core.display.HTML object>"
      ]
     },
     "metadata": {},
     "output_type": "display_data"
    },
    {
     "name": "stdout",
     "output_type": "stream",
     "text": [
      "-------------- Lets remove dates that impacted few hens\n"
     ]
    },
    {
     "data": {
      "text/html": [
       "<text style=color:black>By removing the unwanted days we passed from 1659 to 1487 timestamp (losing </text> <text style=color:red>172</text> <text style=color:black> timestamp)</text>"
      ],
      "text/plain": [
       "<IPython.core.display.HTML object>"
      ]
     },
     "metadata": {},
     "output_type": "display_data"
    },
    {
     "name": "stdout",
     "output_type": "stream",
     "text": [
      "All the night variables are:  Index(['HenID', 'night_level', 'night_Max_duration_zones',\n",
      "       'night_Total_number_transition', 'level', 'PenID', 'CLASS', 'TagID',\n",
      "       'FocalLegringName', 'R-Pen', 'InitialStartDate', '29-09 weight',\n",
      "       '10-12 juin weight', 'weight 23-11-2020', 'weight 04-01-2021'],\n",
      "      dtype='object')\n",
      "['night_level']\n",
      "-------------- Lets remove dates of tags when they were not giving deviceupdate regularly\n"
     ]
    },
    {
     "data": {
      "text/html": [
       "<text style=color:black>By removing the unwanted days we passed from 1712 to 1678 timestamp (losing </text> <text style=color:red>34</text> <text style=color:black> timestamp)</text>"
      ],
      "text/plain": [
       "<IPython.core.display.HTML object>"
      ]
     },
     "metadata": {},
     "output_type": "display_data"
    },
    {
     "name": "stdout",
     "output_type": "stream",
     "text": [
      "-------------- Lets remove the 30.09.2020 for the tags taht still had no transition from before the light went on \n"
     ]
    },
    {
     "data": {
      "text/html": [
       "<text style=color:black>By removing the unwanted days we passed from 1678 to 1678 timestamp (losing </text> <text style=color:red>0</text> <text style=color:black> timestamp)</text>"
      ],
      "text/plain": [
       "<IPython.core.display.HTML object>"
      ]
     },
     "metadata": {},
     "output_type": "display_data"
    },
    {
     "name": "stdout",
     "output_type": "stream",
     "text": [
      "save\n"
     ]
    },
    {
     "name": "stderr",
     "output_type": "stream",
     "text": [
      "\r",
      " 12%|██████████▏                                                                      | 1/8 [15:17<1:46:59, 917.08s/it]"
     ]
    },
    {
     "name": "stdout",
     "output_type": "stream",
     "text": [
      "Total running time: 15.25 mn\n",
      "(1678, 117)\n",
      "----------------- Create time serie\n",
      "in this time series there is 22 hens\n",
      "The initial starting date in over all is: 2020-10-27 00:15:39, and the ending date will be: 2021-01-18 08:37:33\n",
      "But note that birds may have different ending and starting date which should be taken into account when computing variables\n",
      "and after ending the last day at midnight : 2020-10-27 00:15:39, and the ending date will be: 2021-01-18 23:59:59\n",
      "Total running time: 2.02 mn\n",
      "your time series has 1 seconds between two timestamps\n",
      "----------------- main night zone and nbr of transitions over night....\n",
      "----------------- total duration per Zone in seconds....\n",
      "----------------- first timestamp in each zone per day....\n",
      "----------------- number of Zone (excluding nan)....\n",
      "----------------- compute some variables based on a list of zones over a day....\n",
      "----------------NESTBOX\n"
     ]
    },
    {
     "name": "stderr",
     "output_type": "stream",
     "text": [
      "\n",
      "  0%|                                                                                           | 0/22 [00:00<?, ?it/s]\u001b[A\n",
      "  5%|███▊                                                                               | 1/22 [00:00<00:04,  4.94it/s]\u001b[A\n",
      "  9%|███████▌                                                                           | 2/22 [00:00<00:05,  3.65it/s]\u001b[A\n",
      " 14%|███████████▎                                                                       | 3/22 [00:01<00:06,  2.93it/s]\u001b[A\n",
      " 18%|███████████████                                                                    | 4/22 [00:01<00:06,  2.93it/s]\u001b[A\n",
      " 23%|██████████████████▊                                                                | 5/22 [00:03<00:12,  1.34it/s]\u001b[A\n",
      " 27%|██████████████████████▋                                                            | 6/22 [00:03<00:09,  1.71it/s]\u001b[A\n",
      " 32%|██████████████████████████▍                                                        | 7/22 [00:04<00:09,  1.61it/s]\u001b[A\n",
      " 36%|██████████████████████████████▏                                                    | 8/22 [00:04<00:08,  1.72it/s]\u001b[A\n",
      " 41%|█████████████████████████████████▉                                                 | 9/22 [00:05<00:07,  1.65it/s]\u001b[A\n",
      " 45%|█████████████████████████████████████▎                                            | 10/22 [00:05<00:07,  1.60it/s]\u001b[A\n",
      " 50%|█████████████████████████████████████████                                         | 11/22 [00:06<00:05,  2.03it/s]\u001b[A\n",
      " 55%|████████████████████████████████████████████▋                                     | 12/22 [00:06<00:04,  2.18it/s]\u001b[A\n",
      " 59%|████████████████████████████████████████████████▍                                 | 13/22 [00:06<00:03,  2.84it/s]\u001b[A\n",
      " 64%|████████████████████████████████████████████████████▏                             | 14/22 [00:07<00:03,  2.18it/s]\u001b[A\n",
      " 68%|███████████████████████████████████████████████████████▉                          | 15/22 [00:07<00:03,  2.30it/s]\u001b[A\n",
      " 73%|███████████████████████████████████████████████████████████▋                      | 16/22 [00:08<00:02,  2.14it/s]\u001b[A\n",
      " 82%|███████████████████████████████████████████████████████████████████               | 18/22 [00:08<00:01,  2.43it/s]\u001b[A\n",
      " 86%|██████████████████████████████████████████████████████████████████████▊           | 19/22 [00:09<00:01,  2.16it/s]\u001b[A\n",
      " 91%|██████████████████████████████████████████████████████████████████████████▌       | 20/22 [00:09<00:00,  2.24it/s]\u001b[A\n",
      " 95%|██████████████████████████████████████████████████████████████████████████████▎   | 21/22 [00:10<00:00,  2.58it/s]\u001b[A\n",
      "100%|██████████████████████████████████████████████████████████████████████████████████| 22/22 [00:10<00:00,  2.11it/s]\u001b[A\n",
      "C:\\Users\\camil\\anaconda3\\lib\\site-packages\\numpy\\lib\\nanfunctions.py:1366: RuntimeWarning: Mean of empty slice\n",
      "  return np.nanmean(a, axis, out=out, keepdims=keepdims)\n"
     ]
    },
    {
     "name": "stdout",
     "output_type": "stream",
     "text": [
      "-------------- Lets remove unwanted dates at PENS level\n"
     ]
    },
    {
     "data": {
      "text/html": [
       "<text style=color:black>By removing the unwanted days we passed from 1792 to 1706 timestamp (losing </text> <text style=color:red>86</text> <text style=color:black> timestamp)</text>"
      ],
      "text/plain": [
       "<IPython.core.display.HTML object>"
      ]
     },
     "metadata": {},
     "output_type": "display_data"
    },
    {
     "name": "stdout",
     "output_type": "stream",
     "text": [
      "-------------- Lets remove dates that impacted few hens\n"
     ]
    },
    {
     "data": {
      "text/html": [
       "<text style=color:black>By removing the unwanted days we passed from 1706 to 1600 timestamp (losing </text> <text style=color:red>106</text> <text style=color:black> timestamp)</text>"
      ],
      "text/plain": [
       "<IPython.core.display.HTML object>"
      ]
     },
     "metadata": {},
     "output_type": "display_data"
    },
    {
     "name": "stdout",
     "output_type": "stream",
     "text": [
      "All the night variables are:  Index(['HenID', 'night_level', 'night_Max_duration_zones',\n",
      "       'night_Total_number_transition', 'level', 'PenID', 'CLASS', 'TagID',\n",
      "       'FocalLegringName', 'R-Pen', 'InitialStartDate', '29-09 weight',\n",
      "       '10-12 juin weight', 'weight 23-11-2020', 'weight 04-01-2021'],\n",
      "      dtype='object')\n",
      "['night_level']\n",
      "-------------- Lets remove dates of tags when they were not giving deviceupdate regularly\n"
     ]
    },
    {
     "data": {
      "text/html": [
       "<text style=color:black>By removing the unwanted days we passed from 1758 to 1736 timestamp (losing </text> <text style=color:red>22</text> <text style=color:black> timestamp)</text>"
      ],
      "text/plain": [
       "<IPython.core.display.HTML object>"
      ]
     },
     "metadata": {},
     "output_type": "display_data"
    },
    {
     "name": "stdout",
     "output_type": "stream",
     "text": [
      "-------------- Lets remove the 30.09.2020 for the tags taht still had no transition from before the light went on \n"
     ]
    },
    {
     "data": {
      "text/html": [
       "<text style=color:black>By removing the unwanted days we passed from 1736 to 1736 timestamp (losing </text> <text style=color:red>0</text> <text style=color:black> timestamp)</text>"
      ],
      "text/plain": [
       "<IPython.core.display.HTML object>"
      ]
     },
     "metadata": {},
     "output_type": "display_data"
    },
    {
     "name": "stdout",
     "output_type": "stream",
     "text": [
      "save\n"
     ]
    },
    {
     "name": "stderr",
     "output_type": "stream",
     "text": [
      "\r",
      " 25%|████████████████████▎                                                            | 2/8 [30:24<1:31:25, 914.32s/it]"
     ]
    },
    {
     "name": "stdout",
     "output_type": "stream",
     "text": [
      "Total running time: 15.10 mn\n",
      "(1736, 117)\n",
      "----------------- Create time serie\n",
      "in this time series there is 22 hens\n",
      "The initial starting date in over all is: 2020-10-27 00:22:38, and the ending date will be: 2021-01-18 08:39:27\n",
      "But note that birds may have different ending and starting date which should be taken into account when computing variables\n",
      "and after ending the last day at midnight : 2020-10-27 00:22:38, and the ending date will be: 2021-01-18 23:59:59\n",
      "Total running time: 1.96 mn\n",
      "your time series has 1 seconds between two timestamps\n",
      "----------------- main night zone and nbr of transitions over night....\n",
      "----------------- total duration per Zone in seconds....\n",
      "----------------- first timestamp in each zone per day....\n",
      "----------------- number of Zone (excluding nan)....\n",
      "----------------- compute some variables based on a list of zones over a day....\n",
      "----------------NESTBOX\n"
     ]
    },
    {
     "name": "stderr",
     "output_type": "stream",
     "text": [
      "\n",
      "  0%|                                                                                           | 0/22 [00:00<?, ?it/s]\u001b[A\n",
      "  5%|███▊                                                                               | 1/22 [00:00<00:12,  1.74it/s]\u001b[A\n",
      "  9%|███████▌                                                                           | 2/22 [00:00<00:09,  2.06it/s]\u001b[A\n",
      " 14%|███████████▎                                                                       | 3/22 [00:01<00:12,  1.56it/s]\u001b[A\n",
      " 18%|███████████████                                                                    | 4/22 [00:01<00:08,  2.05it/s]\u001b[A\n",
      " 27%|██████████████████████▋                                                            | 6/22 [00:02<00:06,  2.37it/s]\u001b[A\n",
      " 32%|██████████████████████████▍                                                        | 7/22 [00:03<00:06,  2.15it/s]\u001b[A\n",
      " 36%|██████████████████████████████▏                                                    | 8/22 [00:03<00:07,  1.76it/s]\u001b[A\n",
      " 41%|█████████████████████████████████▉                                                 | 9/22 [00:04<00:06,  2.08it/s]\u001b[A\n",
      " 45%|█████████████████████████████████████▎                                            | 10/22 [00:04<00:06,  1.94it/s]\u001b[A\n",
      " 50%|█████████████████████████████████████████                                         | 11/22 [00:06<00:08,  1.27it/s]\u001b[A\n",
      " 55%|████████████████████████████████████████████▋                                     | 12/22 [00:06<00:06,  1.63it/s]\u001b[A\n",
      " 64%|████████████████████████████████████████████████████▏                             | 14/22 [00:07<00:04,  1.91it/s]\u001b[A\n",
      " 68%|███████████████████████████████████████████████████████▉                          | 15/22 [00:07<00:03,  1.77it/s]\u001b[A\n",
      " 73%|███████████████████████████████████████████████████████████▋                      | 16/22 [00:07<00:02,  2.27it/s]\u001b[A\n",
      " 77%|███████████████████████████████████████████████████████████████▎                  | 17/22 [00:08<00:02,  2.00it/s]\u001b[A\n",
      " 82%|███████████████████████████████████████████████████████████████████               | 18/22 [00:08<00:01,  2.41it/s]\u001b[A\n",
      " 86%|██████████████████████████████████████████████████████████████████████▊           | 19/22 [00:09<00:01,  1.84it/s]\u001b[A\n",
      " 91%|██████████████████████████████████████████████████████████████████████████▌       | 20/22 [00:09<00:01,  1.99it/s]\u001b[A\n",
      " 95%|██████████████████████████████████████████████████████████████████████████████▎   | 21/22 [00:10<00:00,  2.43it/s]\u001b[A\n",
      "100%|██████████████████████████████████████████████████████████████████████████████████| 22/22 [00:10<00:00,  2.02it/s]\u001b[A\n",
      "C:\\Users\\camil\\anaconda3\\lib\\site-packages\\numpy\\lib\\nanfunctions.py:1366: RuntimeWarning: Mean of empty slice\n",
      "  return np.nanmean(a, axis, out=out, keepdims=keepdims)\n"
     ]
    },
    {
     "name": "stdout",
     "output_type": "stream",
     "text": [
      "-------------- Lets remove unwanted dates at PENS level\n"
     ]
    },
    {
     "data": {
      "text/html": [
       "<text style=color:black>By removing the unwanted days we passed from 1791 to 1727 timestamp (losing </text> <text style=color:red>64</text> <text style=color:black> timestamp)</text>"
      ],
      "text/plain": [
       "<IPython.core.display.HTML object>"
      ]
     },
     "metadata": {},
     "output_type": "display_data"
    },
    {
     "name": "stdout",
     "output_type": "stream",
     "text": [
      "-------------- Lets remove dates that impacted few hens\n"
     ]
    },
    {
     "data": {
      "text/html": [
       "<text style=color:black>By removing the unwanted days we passed from 1727 to 1619 timestamp (losing </text> <text style=color:red>108</text> <text style=color:black> timestamp)</text>"
      ],
      "text/plain": [
       "<IPython.core.display.HTML object>"
      ]
     },
     "metadata": {},
     "output_type": "display_data"
    },
    {
     "name": "stdout",
     "output_type": "stream",
     "text": [
      "All the night variables are:  Index(['HenID', 'night_level', 'night_Max_duration_zones',\n",
      "       'night_Total_number_transition', 'level', 'PenID', 'CLASS', 'TagID',\n",
      "       'FocalLegringName', 'R-Pen', 'InitialStartDate', '29-09 weight',\n",
      "       '10-12 juin weight', 'weight 23-11-2020', 'weight 04-01-2021'],\n",
      "      dtype='object')\n",
      "['night_level']\n",
      "-------------- Lets remove dates of tags when they were not giving deviceupdate regularly\n"
     ]
    },
    {
     "data": {
      "text/html": [
       "<text style=color:black>By removing the unwanted days we passed from 1753 to 1736 timestamp (losing </text> <text style=color:red>17</text> <text style=color:black> timestamp)</text>"
      ],
      "text/plain": [
       "<IPython.core.display.HTML object>"
      ]
     },
     "metadata": {},
     "output_type": "display_data"
    },
    {
     "name": "stdout",
     "output_type": "stream",
     "text": [
      "-------------- Lets remove the 30.09.2020 for the tags taht still had no transition from before the light went on \n"
     ]
    },
    {
     "data": {
      "text/html": [
       "<text style=color:black>By removing the unwanted days we passed from 1736 to 1736 timestamp (losing </text> <text style=color:red>0</text> <text style=color:black> timestamp)</text>"
      ],
      "text/plain": [
       "<IPython.core.display.HTML object>"
      ]
     },
     "metadata": {},
     "output_type": "display_data"
    },
    {
     "name": "stdout",
     "output_type": "stream",
     "text": [
      "save\n"
     ]
    },
    {
     "name": "stderr",
     "output_type": "stream",
     "text": [
      "\r",
      " 38%|██████████████████████████████▍                                                  | 3/8 [45:33<1:16:03, 912.66s/it]"
     ]
    },
    {
     "name": "stdout",
     "output_type": "stream",
     "text": [
      "Total running time: 15.11 mn\n",
      "(1736, 117)\n",
      "----------------- Create time serie\n",
      "in this time series there is 23 hens\n",
      "The initial starting date in over all is: 2020-10-27 00:36:34, and the ending date will be: 2021-01-18 08:39:32\n",
      "But note that birds may have different ending and starting date which should be taken into account when computing variables\n",
      "and after ending the last day at midnight : 2020-10-27 00:36:34, and the ending date will be: 2021-01-18 23:59:59\n",
      "Total running time: 2.02 mn\n",
      "your time series has 1 seconds between two timestamps\n",
      "----------------- main night zone and nbr of transitions over night....\n",
      "----------------- total duration per Zone in seconds....\n",
      "----------------- first timestamp in each zone per day....\n",
      "----------------- number of Zone (excluding nan)....\n",
      "----------------- compute some variables based on a list of zones over a day....\n",
      "----------------NESTBOX\n"
     ]
    },
    {
     "name": "stderr",
     "output_type": "stream",
     "text": [
      "\n",
      "  0%|                                                                                           | 0/23 [00:00<?, ?it/s]\u001b[A\n",
      "  4%|███▌                                                                               | 1/23 [00:00<00:06,  3.43it/s]\u001b[A\n",
      "  9%|███████▏                                                                           | 2/23 [00:00<00:05,  3.69it/s]\u001b[A\n",
      " 13%|██████████▊                                                                        | 3/23 [00:00<00:05,  3.50it/s]\u001b[A\n",
      " 17%|██████████████▍                                                                    | 4/23 [00:00<00:04,  4.28it/s]\u001b[A\n",
      " 22%|██████████████████                                                                 | 5/23 [00:01<00:04,  3.85it/s]\u001b[A\n",
      " 30%|█████████████████████████▎                                                         | 7/23 [00:01<00:03,  4.93it/s]\u001b[A\n",
      " 35%|████████████████████████████▊                                                      | 8/23 [00:01<00:03,  4.33it/s]\u001b[A\n",
      " 39%|████████████████████████████████▍                                                  | 9/23 [00:02<00:03,  3.91it/s]\u001b[A\n",
      " 48%|███████████████████████████████████████▏                                          | 11/23 [00:02<00:02,  4.82it/s]\u001b[A\n",
      " 57%|██████████████████████████████████████████████▎                                   | 13/23 [00:02<00:01,  5.46it/s]\u001b[A\n",
      " 61%|█████████████████████████████████████████████████▉                                | 14/23 [00:02<00:01,  5.00it/s]\u001b[A\n",
      " 65%|█████████████████████████████████████████████████████▍                            | 15/23 [00:03<00:01,  4.33it/s]\u001b[A\n",
      " 70%|█████████████████████████████████████████████████████████                         | 16/23 [00:03<00:01,  4.84it/s]\u001b[A\n",
      " 74%|████████████████████████████████████████████████████████████▌                     | 17/23 [00:03<00:01,  4.25it/s]\u001b[A\n",
      " 78%|████████████████████████████████████████████████████████████████▏                 | 18/23 [00:03<00:01,  3.76it/s]\u001b[A\n",
      " 83%|███████████████████████████████████████████████████████████████████▋              | 19/23 [00:04<00:01,  3.60it/s]\u001b[A\n",
      " 87%|███████████████████████████████████████████████████████████████████████▎          | 20/23 [00:04<00:00,  4.31it/s]\u001b[A\n",
      " 91%|██████████████████████████████████████████████████████████████████████████▊       | 21/23 [00:04<00:00,  3.00it/s]\u001b[A\n",
      "100%|██████████████████████████████████████████████████████████████████████████████████| 23/23 [00:04<00:00,  4.65it/s]\u001b[A\n",
      "C:\\Users\\camil\\anaconda3\\lib\\site-packages\\numpy\\lib\\nanfunctions.py:1366: RuntimeWarning: Mean of empty slice\n",
      "  return np.nanmean(a, axis, out=out, keepdims=keepdims)\n"
     ]
    },
    {
     "name": "stdout",
     "output_type": "stream",
     "text": [
      "-------------- Lets remove unwanted dates at PENS level\n"
     ]
    },
    {
     "data": {
      "text/html": [
       "<text style=color:black>By removing the unwanted days we passed from 1870 to 1803 timestamp (losing </text> <text style=color:red>67</text> <text style=color:black> timestamp)</text>"
      ],
      "text/plain": [
       "<IPython.core.display.HTML object>"
      ]
     },
     "metadata": {},
     "output_type": "display_data"
    },
    {
     "name": "stdout",
     "output_type": "stream",
     "text": [
      "-------------- Lets remove dates that impacted few hens\n"
     ]
    },
    {
     "data": {
      "text/html": [
       "<text style=color:black>By removing the unwanted days we passed from 1803 to 1616 timestamp (losing </text> <text style=color:red>187</text> <text style=color:black> timestamp)</text>"
      ],
      "text/plain": [
       "<IPython.core.display.HTML object>"
      ]
     },
     "metadata": {},
     "output_type": "display_data"
    },
    {
     "name": "stdout",
     "output_type": "stream",
     "text": [
      "All the night variables are:  Index(['HenID', 'night_level', 'night_Max_duration_zones',\n",
      "       'night_Total_number_transition', 'level', 'PenID', 'CLASS', 'TagID',\n",
      "       'FocalLegringName', 'R-Pen', 'InitialStartDate', '29-09 weight',\n",
      "       '10-12 juin weight', 'weight 23-11-2020', 'weight 04-01-2021'],\n",
      "      dtype='object')\n",
      "['night_level']\n",
      "-------------- Lets remove dates of tags when they were not giving deviceupdate regularly\n"
     ]
    },
    {
     "data": {
      "text/html": [
       "<text style=color:black>By removing the unwanted days we passed from 1831 to 1817 timestamp (losing </text> <text style=color:red>14</text> <text style=color:black> timestamp)</text>"
      ],
      "text/plain": [
       "<IPython.core.display.HTML object>"
      ]
     },
     "metadata": {},
     "output_type": "display_data"
    },
    {
     "name": "stdout",
     "output_type": "stream",
     "text": [
      "-------------- Lets remove the 30.09.2020 for the tags taht still had no transition from before the light went on \n"
     ]
    },
    {
     "data": {
      "text/html": [
       "<text style=color:black>By removing the unwanted days we passed from 1817 to 1817 timestamp (losing </text> <text style=color:red>0</text> <text style=color:black> timestamp)</text>"
      ],
      "text/plain": [
       "<IPython.core.display.HTML object>"
      ]
     },
     "metadata": {},
     "output_type": "display_data"
    },
    {
     "name": "stdout",
     "output_type": "stream",
     "text": [
      "save\n"
     ]
    },
    {
     "name": "stderr",
     "output_type": "stream",
     "text": [
      "\r",
      " 50%|█████████████████████████████████████████▌                                         | 4/8 [57:50<57:19, 859.83s/it]"
     ]
    },
    {
     "name": "stdout",
     "output_type": "stream",
     "text": [
      "Total running time: 12.25 mn\n",
      "(1817, 117)\n",
      "----------------- Create time serie\n",
      "in this time series there is 22 hens\n",
      "The initial starting date in over all is: 2020-10-27 00:46:06, and the ending date will be: 2021-01-18 08:41:28\n",
      "But note that birds may have different ending and starting date which should be taken into account when computing variables\n",
      "and after ending the last day at midnight : 2020-10-27 00:46:06, and the ending date will be: 2021-01-18 23:59:59\n",
      "Total running time: 1.40 mn\n",
      "your time series has 1 seconds between two timestamps\n",
      "----------------- main night zone and nbr of transitions over night....\n",
      "----------------- total duration per Zone in seconds....\n",
      "----------------- first timestamp in each zone per day....\n",
      "----------------- number of Zone (excluding nan)....\n",
      "----------------- compute some variables based on a list of zones over a day....\n",
      "several max-duration-zone\n",
      "----------------NESTBOX\n"
     ]
    },
    {
     "name": "stderr",
     "output_type": "stream",
     "text": [
      "\n",
      "  0%|                                                                                           | 0/22 [00:00<?, ?it/s]\u001b[A\n",
      "  5%|███▊                                                                               | 1/22 [00:00<00:11,  1.78it/s]\u001b[A\n",
      "  9%|███████▌                                                                           | 2/22 [00:00<00:09,  2.12it/s]\u001b[A\n",
      " 14%|███████████▎                                                                       | 3/22 [00:01<00:08,  2.16it/s]\u001b[A\n",
      " 18%|███████████████                                                                    | 4/22 [00:01<00:06,  2.68it/s]\u001b[A\n",
      " 23%|██████████████████▊                                                                | 5/22 [00:02<00:07,  2.28it/s]\u001b[A\n",
      " 27%|██████████████████████▋                                                            | 6/22 [00:02<00:06,  2.45it/s]\u001b[A\n",
      " 32%|██████████████████████████▍                                                        | 7/22 [00:02<00:05,  2.50it/s]\u001b[A\n",
      " 36%|██████████████████████████████▏                                                    | 8/22 [00:02<00:04,  3.02it/s]\u001b[A\n",
      " 41%|█████████████████████████████████▉                                                 | 9/22 [00:03<00:03,  3.62it/s]\u001b[A\n",
      " 45%|█████████████████████████████████████▎                                            | 10/22 [00:03<00:04,  2.88it/s]\u001b[A\n",
      " 50%|█████████████████████████████████████████                                         | 11/22 [00:03<00:03,  2.86it/s]\u001b[A\n",
      " 55%|████████████████████████████████████████████▋                                     | 12/22 [00:04<00:02,  3.63it/s]\u001b[A\n",
      " 59%|████████████████████████████████████████████████▍                                 | 13/22 [00:04<00:02,  4.31it/s]\u001b[A\n",
      " 64%|████████████████████████████████████████████████████▏                             | 14/22 [00:04<00:02,  3.79it/s]\u001b[A\n",
      " 68%|███████████████████████████████████████████████████████▉                          | 15/22 [00:05<00:02,  2.65it/s]\u001b[A\n",
      " 73%|███████████████████████████████████████████████████████████▋                      | 16/22 [00:05<00:01,  3.12it/s]\u001b[A\n",
      " 77%|███████████████████████████████████████████████████████████████▎                  | 17/22 [00:05<00:01,  3.16it/s]\u001b[A\n",
      " 82%|███████████████████████████████████████████████████████████████████               | 18/22 [00:06<00:01,  2.67it/s]\u001b[A\n",
      " 86%|██████████████████████████████████████████████████████████████████████▊           | 19/22 [00:07<00:02,  1.46it/s]\u001b[A\n",
      " 91%|██████████████████████████████████████████████████████████████████████████▌       | 20/22 [00:07<00:01,  1.70it/s]\u001b[A\n",
      " 95%|██████████████████████████████████████████████████████████████████████████████▎   | 21/22 [00:08<00:00,  2.26it/s]\u001b[A\n",
      "100%|██████████████████████████████████████████████████████████████████████████████████| 22/22 [00:08<00:00,  2.67it/s]\u001b[A\n",
      "C:\\Users\\camil\\anaconda3\\lib\\site-packages\\numpy\\lib\\nanfunctions.py:1366: RuntimeWarning: Mean of empty slice\n",
      "  return np.nanmean(a, axis, out=out, keepdims=keepdims)\n"
     ]
    },
    {
     "name": "stdout",
     "output_type": "stream",
     "text": [
      "-------------- Lets remove unwanted dates at PENS level\n"
     ]
    },
    {
     "data": {
      "text/html": [
       "<text style=color:black>By removing the unwanted days we passed from 1792 to 1706 timestamp (losing </text> <text style=color:red>86</text> <text style=color:black> timestamp)</text>"
      ],
      "text/plain": [
       "<IPython.core.display.HTML object>"
      ]
     },
     "metadata": {},
     "output_type": "display_data"
    },
    {
     "name": "stdout",
     "output_type": "stream",
     "text": [
      "-------------- Lets remove dates that impacted few hens\n"
     ]
    },
    {
     "data": {
      "text/html": [
       "<text style=color:black>By removing the unwanted days we passed from 1706 to 1600 timestamp (losing </text> <text style=color:red>106</text> <text style=color:black> timestamp)</text>"
      ],
      "text/plain": [
       "<IPython.core.display.HTML object>"
      ]
     },
     "metadata": {},
     "output_type": "display_data"
    },
    {
     "name": "stdout",
     "output_type": "stream",
     "text": [
      "All the night variables are:  Index(['HenID', 'night_level', 'night_Max_duration_zones',\n",
      "       'night_Total_number_transition', 'level', 'PenID', 'CLASS', 'TagID',\n",
      "       'FocalLegringName', 'R-Pen', 'InitialStartDate', '29-09 weight',\n",
      "       '10-12 juin weight', 'weight 23-11-2020', 'weight 04-01-2021'],\n",
      "      dtype='object')\n",
      "['night_level']\n",
      "-------------- Lets remove dates of tags when they were not giving deviceupdate regularly\n"
     ]
    },
    {
     "data": {
      "text/html": [
       "<text style=color:black>By removing the unwanted days we passed from 1757 to 1732 timestamp (losing </text> <text style=color:red>25</text> <text style=color:black> timestamp)</text>"
      ],
      "text/plain": [
       "<IPython.core.display.HTML object>"
      ]
     },
     "metadata": {},
     "output_type": "display_data"
    },
    {
     "name": "stdout",
     "output_type": "stream",
     "text": [
      "-------------- Lets remove the 30.09.2020 for the tags taht still had no transition from before the light went on \n"
     ]
    },
    {
     "data": {
      "text/html": [
       "<text style=color:black>By removing the unwanted days we passed from 1732 to 1732 timestamp (losing </text> <text style=color:red>0</text> <text style=color:black> timestamp)</text>"
      ],
      "text/plain": [
       "<IPython.core.display.HTML object>"
      ]
     },
     "metadata": {},
     "output_type": "display_data"
    },
    {
     "name": "stdout",
     "output_type": "stream",
     "text": [
      "save\n"
     ]
    },
    {
     "name": "stderr",
     "output_type": "stream",
     "text": [
      "\r",
      " 62%|██████████████████████████████████████████████████▋                              | 5/8 [1:08:35<39:46, 795.50s/it]"
     ]
    },
    {
     "name": "stdout",
     "output_type": "stream",
     "text": [
      "Total running time: 10.73 mn\n",
      "(1732, 117)\n",
      "----------------- Create time serie\n",
      "in this time series there is 23 hens\n",
      "The initial starting date in over all is: 2020-10-27 02:07:16, and the ending date will be: 2021-01-18 08:40:40\n",
      "But note that birds may have different ending and starting date which should be taken into account when computing variables\n",
      "and after ending the last day at midnight : 2020-10-27 02:07:16, and the ending date will be: 2021-01-18 23:59:59\n",
      "Total running time: 1.40 mn\n",
      "your time series has 1 seconds between two timestamps\n",
      "----------------- main night zone and nbr of transitions over night....\n",
      "----------------- total duration per Zone in seconds....\n",
      "----------------- first timestamp in each zone per day....\n",
      "----------------- number of Zone (excluding nan)....\n",
      "----------------- compute some variables based on a list of zones over a day....\n",
      "----------------NESTBOX\n"
     ]
    },
    {
     "name": "stderr",
     "output_type": "stream",
     "text": [
      "\n",
      "  0%|                                                                                           | 0/23 [00:00<?, ?it/s]\u001b[A\n",
      "  4%|███▌                                                                               | 1/23 [00:00<00:16,  1.36it/s]\u001b[A\n",
      "  9%|███████▏                                                                           | 2/23 [00:01<00:12,  1.62it/s]\u001b[A\n",
      " 13%|██████████▊                                                                        | 3/23 [00:01<00:10,  1.86it/s]\u001b[A\n",
      " 17%|██████████████▍                                                                    | 4/23 [00:01<00:09,  1.93it/s]\u001b[A\n",
      " 22%|██████████████████                                                                 | 5/23 [00:02<00:08,  2.04it/s]\u001b[A\n",
      " 26%|█████████████████████▋                                                             | 6/23 [00:02<00:07,  2.22it/s]\u001b[A\n",
      " 30%|█████████████████████████▎                                                         | 7/23 [00:03<00:06,  2.40it/s]\u001b[A\n",
      " 35%|████████████████████████████▊                                                      | 8/23 [00:04<00:09,  1.59it/s]\u001b[A\n",
      " 39%|████████████████████████████████▍                                                  | 9/23 [00:04<00:08,  1.56it/s]\u001b[A\n",
      " 43%|███████████████████████████████████▋                                              | 10/23 [00:05<00:07,  1.76it/s]\u001b[A\n",
      " 48%|███████████████████████████████████████▏                                          | 11/23 [00:05<00:05,  2.07it/s]\u001b[A\n",
      " 52%|██████████████████████████████████████████▊                                       | 12/23 [00:05<00:04,  2.56it/s]\u001b[A\n",
      " 61%|█████████████████████████████████████████████████▉                                | 14/23 [00:06<00:03,  2.84it/s]\u001b[A\n",
      " 65%|█████████████████████████████████████████████████████▍                            | 15/23 [00:06<00:02,  2.96it/s]\u001b[A\n",
      " 70%|█████████████████████████████████████████████████████████                         | 16/23 [00:06<00:02,  3.23it/s]\u001b[A\n",
      " 78%|████████████████████████████████████████████████████████████████▏                 | 18/23 [00:07<00:01,  3.84it/s]\u001b[A\n",
      " 83%|███████████████████████████████████████████████████████████████████▋              | 19/23 [00:07<00:00,  4.70it/s]\u001b[A\n",
      " 87%|███████████████████████████████████████████████████████████████████████▎          | 20/23 [00:07<00:00,  3.21it/s]\u001b[A\n",
      " 91%|██████████████████████████████████████████████████████████████████████████▊       | 21/23 [00:08<00:00,  2.91it/s]\u001b[A\n",
      " 96%|██████████████████████████████████████████████████████████████████████████████▍   | 22/23 [00:08<00:00,  2.77it/s]\u001b[A\n",
      "100%|██████████████████████████████████████████████████████████████████████████████████| 23/23 [00:08<00:00,  2.64it/s]\u001b[A\n",
      "C:\\Users\\camil\\anaconda3\\lib\\site-packages\\numpy\\lib\\nanfunctions.py:1366: RuntimeWarning: Mean of empty slice\n",
      "  return np.nanmean(a, axis, out=out, keepdims=keepdims)\n"
     ]
    },
    {
     "name": "stdout",
     "output_type": "stream",
     "text": [
      "-------------- Lets remove unwanted dates at PENS level\n"
     ]
    },
    {
     "data": {
      "text/html": [
       "<text style=color:black>By removing the unwanted days we passed from 1848 to 1759 timestamp (losing </text> <text style=color:red>89</text> <text style=color:black> timestamp)</text>"
      ],
      "text/plain": [
       "<IPython.core.display.HTML object>"
      ]
     },
     "metadata": {},
     "output_type": "display_data"
    },
    {
     "name": "stdout",
     "output_type": "stream",
     "text": [
      "-------------- Lets remove dates that impacted few hens\n"
     ]
    },
    {
     "data": {
      "text/html": [
       "<text style=color:black>By removing the unwanted days we passed from 1759 to 1597 timestamp (losing </text> <text style=color:red>162</text> <text style=color:black> timestamp)</text>"
      ],
      "text/plain": [
       "<IPython.core.display.HTML object>"
      ]
     },
     "metadata": {},
     "output_type": "display_data"
    },
    {
     "name": "stdout",
     "output_type": "stream",
     "text": [
      "All the night variables are:  Index(['HenID', 'night_level', 'night_Max_duration_zones',\n",
      "       'night_Total_number_transition', 'level', 'PenID', 'CLASS', 'TagID',\n",
      "       'FocalLegringName', 'R-Pen', 'InitialStartDate', '29-09 weight',\n",
      "       '10-12 juin weight', 'weight 23-11-2020', 'weight 04-01-2021'],\n",
      "      dtype='object')\n",
      "['night_level']\n",
      "-------------- Lets remove dates of tags when they were not giving deviceupdate regularly\n"
     ]
    },
    {
     "data": {
      "text/html": [
       "<text style=color:black>By removing the unwanted days we passed from 1811 to 1784 timestamp (losing </text> <text style=color:red>27</text> <text style=color:black> timestamp)</text>"
      ],
      "text/plain": [
       "<IPython.core.display.HTML object>"
      ]
     },
     "metadata": {},
     "output_type": "display_data"
    },
    {
     "name": "stdout",
     "output_type": "stream",
     "text": [
      "-------------- Lets remove the 30.09.2020 for the tags taht still had no transition from before the light went on \n"
     ]
    },
    {
     "data": {
      "text/html": [
       "<text style=color:black>By removing the unwanted days we passed from 1784 to 1784 timestamp (losing </text> <text style=color:red>0</text> <text style=color:black> timestamp)</text>"
      ],
      "text/plain": [
       "<IPython.core.display.HTML object>"
      ]
     },
     "metadata": {},
     "output_type": "display_data"
    },
    {
     "name": "stdout",
     "output_type": "stream",
     "text": [
      "save\n"
     ]
    },
    {
     "name": "stderr",
     "output_type": "stream",
     "text": [
      "\r",
      " 75%|████████████████████████████████████████████████████████████▊                    | 6/8 [1:19:39<25:11, 755.87s/it]"
     ]
    },
    {
     "name": "stdout",
     "output_type": "stream",
     "text": [
      "Total running time: 11.03 mn\n",
      "(1784, 117)\n",
      "----------------- Create time serie\n",
      "in this time series there is 22 hens\n",
      "The initial starting date in over all is: 2020-10-27 02:13:34, and the ending date will be: 2021-01-18 08:37:18\n",
      "But note that birds may have different ending and starting date which should be taken into account when computing variables\n",
      "and after ending the last day at midnight : 2020-10-27 02:13:34, and the ending date will be: 2021-01-18 23:59:59\n",
      "Total running time: 1.40 mn\n",
      "your time series has 1 seconds between two timestamps\n",
      "----------------- main night zone and nbr of transitions over night....\n",
      "----------------- total duration per Zone in seconds....\n",
      "----------------- first timestamp in each zone per day....\n",
      "----------------- number of Zone (excluding nan)....\n",
      "----------------- compute some variables based on a list of zones over a day....\n",
      "----------------NESTBOX\n"
     ]
    },
    {
     "name": "stderr",
     "output_type": "stream",
     "text": [
      "\n",
      "  0%|                                                                                           | 0/22 [00:00<?, ?it/s]\u001b[A\n",
      "  5%|███▊                                                                               | 1/22 [00:00<00:02,  7.88it/s]\u001b[A\n",
      "  9%|███████▌                                                                           | 2/22 [00:00<00:02,  8.39it/s]\u001b[A\n",
      " 18%|███████████████                                                                    | 4/22 [00:01<00:04,  3.77it/s]\u001b[A\n",
      " 23%|██████████████████▊                                                                | 5/22 [00:01<00:05,  3.29it/s]\u001b[A\n",
      " 32%|██████████████████████████▍                                                        | 7/22 [00:02<00:04,  3.56it/s]\u001b[A\n",
      " 36%|██████████████████████████████▏                                                    | 8/22 [00:02<00:03,  3.75it/s]\u001b[A\n",
      " 41%|█████████████████████████████████▉                                                 | 9/22 [00:02<00:03,  4.16it/s]\u001b[A\n",
      " 45%|█████████████████████████████████████▎                                            | 10/22 [00:02<00:02,  4.84it/s]\u001b[A\n",
      " 50%|█████████████████████████████████████████                                         | 11/22 [00:02<00:01,  5.52it/s]\u001b[A\n",
      " 55%|████████████████████████████████████████████▋                                     | 12/22 [00:03<00:02,  3.72it/s]\u001b[A\n",
      " 59%|████████████████████████████████████████████████▍                                 | 13/22 [00:03<00:02,  3.34it/s]\u001b[A\n",
      " 64%|████████████████████████████████████████████████████▏                             | 14/22 [00:04<00:03,  2.59it/s]\u001b[A\n",
      " 68%|███████████████████████████████████████████████████████▉                          | 15/22 [00:04<00:02,  2.53it/s]\u001b[A\n",
      " 73%|███████████████████████████████████████████████████████████▋                      | 16/22 [00:05<00:02,  2.90it/s]\u001b[A\n",
      " 82%|███████████████████████████████████████████████████████████████████               | 18/22 [00:05<00:01,  3.00it/s]\u001b[A\n",
      " 86%|██████████████████████████████████████████████████████████████████████▊           | 19/22 [00:05<00:01,  2.97it/s]\u001b[A\n",
      " 91%|██████████████████████████████████████████████████████████████████████████▌       | 20/22 [00:06<00:00,  2.85it/s]\u001b[A\n",
      " 95%|██████████████████████████████████████████████████████████████████████████████▎   | 21/22 [00:06<00:00,  3.02it/s]\u001b[A\n",
      "100%|██████████████████████████████████████████████████████████████████████████████████| 22/22 [00:06<00:00,  3.25it/s]\u001b[A\n",
      "C:\\Users\\camil\\anaconda3\\lib\\site-packages\\numpy\\lib\\nanfunctions.py:1366: RuntimeWarning: Mean of empty slice\n",
      "  return np.nanmean(a, axis, out=out, keepdims=keepdims)\n"
     ]
    },
    {
     "name": "stdout",
     "output_type": "stream",
     "text": [
      "-------------- Lets remove unwanted dates at PENS level\n"
     ]
    },
    {
     "data": {
      "text/html": [
       "<text style=color:black>By removing the unwanted days we passed from 1792 to 1706 timestamp (losing </text> <text style=color:red>86</text> <text style=color:black> timestamp)</text>"
      ],
      "text/plain": [
       "<IPython.core.display.HTML object>"
      ]
     },
     "metadata": {},
     "output_type": "display_data"
    },
    {
     "name": "stdout",
     "output_type": "stream",
     "text": [
      "-------------- Lets remove dates that impacted few hens\n"
     ]
    },
    {
     "data": {
      "text/html": [
       "<text style=color:black>By removing the unwanted days we passed from 1706 to 1600 timestamp (losing </text> <text style=color:red>106</text> <text style=color:black> timestamp)</text>"
      ],
      "text/plain": [
       "<IPython.core.display.HTML object>"
      ]
     },
     "metadata": {},
     "output_type": "display_data"
    },
    {
     "name": "stdout",
     "output_type": "stream",
     "text": [
      "All the night variables are:  Index(['HenID', 'night_level', 'night_Max_duration_zones',\n",
      "       'night_Total_number_transition', 'level', 'PenID', 'CLASS', 'TagID',\n",
      "       'FocalLegringName', 'R-Pen', 'InitialStartDate', '29-09 weight',\n",
      "       '10-12 juin weight', 'weight 23-11-2020', 'weight 04-01-2021'],\n",
      "      dtype='object')\n",
      "['night_level']\n",
      "-------------- Lets remove dates of tags when they were not giving deviceupdate regularly\n"
     ]
    },
    {
     "data": {
      "text/html": [
       "<text style=color:black>By removing the unwanted days we passed from 1754 to 1733 timestamp (losing </text> <text style=color:red>21</text> <text style=color:black> timestamp)</text>"
      ],
      "text/plain": [
       "<IPython.core.display.HTML object>"
      ]
     },
     "metadata": {},
     "output_type": "display_data"
    },
    {
     "name": "stdout",
     "output_type": "stream",
     "text": [
      "-------------- Lets remove the 30.09.2020 for the tags taht still had no transition from before the light went on \n"
     ]
    },
    {
     "data": {
      "text/html": [
       "<text style=color:black>By removing the unwanted days we passed from 1733 to 1733 timestamp (losing </text> <text style=color:red>0</text> <text style=color:black> timestamp)</text>"
      ],
      "text/plain": [
       "<IPython.core.display.HTML object>"
      ]
     },
     "metadata": {},
     "output_type": "display_data"
    },
    {
     "name": "stdout",
     "output_type": "stream",
     "text": [
      "save\n"
     ]
    },
    {
     "name": "stderr",
     "output_type": "stream",
     "text": [
      "\r",
      " 88%|██████████████████████████████████████████████████████████████████████▉          | 7/8 [1:30:20<12:01, 721.39s/it]"
     ]
    },
    {
     "name": "stdout",
     "output_type": "stream",
     "text": [
      "Total running time: 10.66 mn\n",
      "(1733, 117)\n",
      "----------------- Create time serie\n",
      "in this time series there is 22 hens\n",
      "The initial starting date in over all is: 2020-10-27 04:29:01, and the ending date will be: 2021-01-18 08:41:21\n",
      "But note that birds may have different ending and starting date which should be taken into account when computing variables\n",
      "and after ending the last day at midnight : 2020-10-27 04:29:01, and the ending date will be: 2021-01-18 23:59:59\n",
      "Total running time: 1.41 mn\n",
      "your time series has 1 seconds between two timestamps\n",
      "----------------- main night zone and nbr of transitions over night....\n",
      "----------------- total duration per Zone in seconds....\n",
      "----------------- first timestamp in each zone per day....\n",
      "----------------- number of Zone (excluding nan)....\n",
      "----------------- compute some variables based on a list of zones over a day....\n",
      "----------------NESTBOX\n"
     ]
    },
    {
     "name": "stderr",
     "output_type": "stream",
     "text": [
      "\n",
      "  0%|                                                                                           | 0/22 [00:00<?, ?it/s]\u001b[A\n",
      "  5%|███▊                                                                               | 1/22 [00:00<00:06,  3.02it/s]\u001b[A\n",
      "  9%|███████▌                                                                           | 2/22 [00:00<00:06,  2.95it/s]\u001b[A\n",
      " 14%|███████████▎                                                                       | 3/22 [00:00<00:06,  3.12it/s]\u001b[A\n",
      " 18%|███████████████                                                                    | 4/22 [00:01<00:05,  3.08it/s]\u001b[A\n",
      " 27%|██████████████████████▋                                                            | 6/22 [00:01<00:04,  3.37it/s]\u001b[A\n",
      " 32%|██████████████████████████▍                                                        | 7/22 [00:02<00:04,  3.05it/s]\u001b[A\n",
      " 36%|██████████████████████████████▏                                                    | 8/22 [00:02<00:06,  2.10it/s]\u001b[A\n",
      " 41%|█████████████████████████████████▉                                                 | 9/22 [00:03<00:05,  2.21it/s]\u001b[A\n",
      " 45%|█████████████████████████████████████▎                                            | 10/22 [00:04<00:06,  1.86it/s]\u001b[A\n",
      " 50%|█████████████████████████████████████████                                         | 11/22 [00:04<00:04,  2.22it/s]\u001b[A\n",
      " 55%|████████████████████████████████████████████▋                                     | 12/22 [00:04<00:04,  2.42it/s]\u001b[A\n",
      " 59%|████████████████████████████████████████████████▍                                 | 13/22 [00:05<00:03,  2.51it/s]\u001b[A\n",
      " 68%|███████████████████████████████████████████████████████▉                          | 15/22 [00:05<00:02,  3.09it/s]\u001b[A\n",
      " 73%|███████████████████████████████████████████████████████████▋                      | 16/22 [00:05<00:02,  2.96it/s]\u001b[A\n",
      " 77%|███████████████████████████████████████████████████████████████▎                  | 17/22 [00:06<00:01,  2.88it/s]\u001b[A\n",
      " 82%|███████████████████████████████████████████████████████████████████               | 18/22 [00:06<00:01,  3.10it/s]\u001b[A\n",
      " 86%|██████████████████████████████████████████████████████████████████████▊           | 19/22 [00:06<00:01,  2.71it/s]\u001b[A\n",
      " 91%|██████████████████████████████████████████████████████████████████████████▌       | 20/22 [00:06<00:00,  3.30it/s]\u001b[A\n",
      " 95%|██████████████████████████████████████████████████████████████████████████████▎   | 21/22 [00:07<00:00,  2.93it/s]\u001b[A\n",
      "100%|██████████████████████████████████████████████████████████████████████████████████| 22/22 [00:07<00:00,  2.84it/s]\u001b[A\n",
      "C:\\Users\\camil\\anaconda3\\lib\\site-packages\\numpy\\lib\\nanfunctions.py:1366: RuntimeWarning: Mean of empty slice\n",
      "  return np.nanmean(a, axis, out=out, keepdims=keepdims)\n"
     ]
    },
    {
     "name": "stdout",
     "output_type": "stream",
     "text": [
      "-------------- Lets remove unwanted dates at PENS level\n"
     ]
    },
    {
     "data": {
      "text/html": [
       "<text style=color:black>By removing the unwanted days we passed from 1792 to 1706 timestamp (losing </text> <text style=color:red>86</text> <text style=color:black> timestamp)</text>"
      ],
      "text/plain": [
       "<IPython.core.display.HTML object>"
      ]
     },
     "metadata": {},
     "output_type": "display_data"
    },
    {
     "name": "stdout",
     "output_type": "stream",
     "text": [
      "-------------- Lets remove dates that impacted few hens\n"
     ]
    },
    {
     "data": {
      "text/html": [
       "<text style=color:black>By removing the unwanted days we passed from 1706 to 1600 timestamp (losing </text> <text style=color:red>106</text> <text style=color:black> timestamp)</text>"
      ],
      "text/plain": [
       "<IPython.core.display.HTML object>"
      ]
     },
     "metadata": {},
     "output_type": "display_data"
    },
    {
     "name": "stdout",
     "output_type": "stream",
     "text": [
      "All the night variables are:  Index(['HenID', 'night_level', 'night_Max_duration_zones',\n",
      "       'night_Total_number_transition', 'level', 'PenID', 'CLASS', 'TagID',\n",
      "       'FocalLegringName', 'R-Pen', 'InitialStartDate', '29-09 weight',\n",
      "       '10-12 juin weight', 'weight 23-11-2020', 'weight 04-01-2021'],\n",
      "      dtype='object')\n",
      "['night_level']\n",
      "-------------- Lets remove dates of tags when they were not giving deviceupdate regularly\n"
     ]
    },
    {
     "data": {
      "text/html": [
       "<text style=color:black>By removing the unwanted days we passed from 1750 to 1728 timestamp (losing </text> <text style=color:red>22</text> <text style=color:black> timestamp)</text>"
      ],
      "text/plain": [
       "<IPython.core.display.HTML object>"
      ]
     },
     "metadata": {},
     "output_type": "display_data"
    },
    {
     "name": "stdout",
     "output_type": "stream",
     "text": [
      "-------------- Lets remove the 30.09.2020 for the tags taht still had no transition from before the light went on \n"
     ]
    },
    {
     "data": {
      "text/html": [
       "<text style=color:black>By removing the unwanted days we passed from 1728 to 1728 timestamp (losing </text> <text style=color:red>0</text> <text style=color:black> timestamp)</text>"
      ],
      "text/plain": [
       "<IPython.core.display.HTML object>"
      ]
     },
     "metadata": {},
     "output_type": "display_data"
    },
    {
     "name": "stdout",
     "output_type": "stream",
     "text": [
      "save\n"
     ]
    },
    {
     "name": "stderr",
     "output_type": "stream",
     "text": [
      "100%|█████████████████████████████████████████████████████████████████████████████████| 8/8 [1:41:06<00:00, 758.37s/it]\n",
      "  0%|                                                                                            | 0/8 [00:00<?, ?it/s]"
     ]
    },
    {
     "name": "stdout",
     "output_type": "stream",
     "text": [
      "Total running time: 10.76 mn\n",
      "(1728, 117)\n",
      "Total running time: 101.13 mn\n"
     ]
    },
    {
     "name": "stderr",
     "output_type": "stream",
     "text": [
      "\r",
      " 12%|██████████▌                                                                         | 1/8 [00:02<00:20,  2.94s/it]"
     ]
    },
    {
     "name": "stdout",
     "output_type": "stream",
     "text": [
      "(1732, 117)\n"
     ]
    },
    {
     "name": "stderr",
     "output_type": "stream",
     "text": [
      "\r",
      " 25%|█████████████████████                                                               | 2/8 [00:04<00:15,  2.55s/it]"
     ]
    },
    {
     "name": "stdout",
     "output_type": "stream",
     "text": [
      "(1728, 117)\n"
     ]
    },
    {
     "name": "stderr",
     "output_type": "stream",
     "text": [
      "\r",
      " 38%|███████████████████████████████▌                                                    | 3/8 [00:06<00:11,  2.39s/it]"
     ]
    },
    {
     "name": "stdout",
     "output_type": "stream",
     "text": [
      "(1784, 117)\n"
     ]
    },
    {
     "name": "stderr",
     "output_type": "stream",
     "text": [
      "\r",
      " 50%|██████████████████████████████████████████                                          | 4/8 [00:07<00:08,  2.05s/it]"
     ]
    },
    {
     "name": "stdout",
     "output_type": "stream",
     "text": [
      "(1733, 117)\n"
     ]
    },
    {
     "name": "stderr",
     "output_type": "stream",
     "text": [
      "\r",
      " 62%|████████████████████████████████████████████████████▌                               | 5/8 [00:11<00:07,  2.41s/it]"
     ]
    },
    {
     "name": "stdout",
     "output_type": "stream",
     "text": [
      "(1736, 117)\n"
     ]
    },
    {
     "name": "stderr",
     "output_type": "stream",
     "text": [
      "\r",
      " 75%|███████████████████████████████████████████████████████████████                     | 6/8 [00:14<00:05,  2.73s/it]"
     ]
    },
    {
     "name": "stdout",
     "output_type": "stream",
     "text": [
      "(1678, 117)\n"
     ]
    },
    {
     "name": "stderr",
     "output_type": "stream",
     "text": [
      "\r",
      " 88%|█████████████████████████████████████████████████████████████████████████▌          | 7/8 [00:16<00:02,  2.63s/it]"
     ]
    },
    {
     "name": "stdout",
     "output_type": "stream",
     "text": [
      "(1736, 117)\n"
     ]
    },
    {
     "name": "stderr",
     "output_type": "stream",
     "text": [
      "100%|████████████████████████████████████████████████████████████████████████████████████| 8/8 [00:19<00:00,  2.50s/it]"
     ]
    },
    {
     "name": "stdout",
     "output_type": "stream",
     "text": [
      "(1817, 117)\n"
     ]
    },
    {
     "name": "stderr",
     "output_type": "stream",
     "text": [
      "\n"
     ]
    },
    {
     "name": "stdout",
     "output_type": "stream",
     "text": [
      "(13944, 117)\n"
     ]
    },
    {
     "data": {
      "text/html": [
       "<div>\n",
       "<style scoped>\n",
       "    .dataframe tbody tr th:only-of-type {\n",
       "        vertical-align: middle;\n",
       "    }\n",
       "\n",
       "    .dataframe tbody tr th {\n",
       "        vertical-align: top;\n",
       "    }\n",
       "\n",
       "    .dataframe thead th {\n",
       "        text-align: right;\n",
       "    }\n",
       "</style>\n",
       "<table border=\"1\" class=\"dataframe\">\n",
       "  <thead>\n",
       "    <tr style=\"text-align: right;\">\n",
       "      <th></th>\n",
       "      <th>HenID</th>\n",
       "      <th>level</th>\n",
       "      <th>duration_1_Zone</th>\n",
       "      <th>duration_2_Zone</th>\n",
       "      <th>duration_3_Zone</th>\n",
       "      <th>duration_4_Zone</th>\n",
       "      <th>duration_5_Zone</th>\n",
       "      <th>verification_daily_total_duration</th>\n",
       "      <th>dur_values</th>\n",
       "      <th>dur_values_normalized</th>\n",
       "      <th>...</th>\n",
       "      <th>list_of_night20_2_temperature</th>\n",
       "      <th>nbr_temperature_nnnan</th>\n",
       "      <th>temperature_night20_2_median</th>\n",
       "      <th>temperature_night20_2_max</th>\n",
       "      <th>temperature_night20_2_var</th>\n",
       "      <th>list_of_MovementCounter_day</th>\n",
       "      <th>len_MovementCounter_day</th>\n",
       "      <th>MovementCounter_day_amount_nnactivity</th>\n",
       "      <th>MovementCounter_day_max</th>\n",
       "      <th>MovementCounter_day_mean</th>\n",
       "    </tr>\n",
       "  </thead>\n",
       "  <tbody>\n",
       "    <tr>\n",
       "      <th>0</th>\n",
       "      <td>hen_131</td>\n",
       "      <td>2020-10-27</td>\n",
       "      <td>2258.0</td>\n",
       "      <td>19888.0</td>\n",
       "      <td>16978.0</td>\n",
       "      <td>3204.0</td>\n",
       "      <td>872.0</td>\n",
       "      <td>43200.0</td>\n",
       "      <td>[2258.0, 19888.0, 16978.0, 3204.0, 872.0]</td>\n",
       "      <td>[0.05226851851851852, 0.4603703703703704, 0.39...</td>\n",
       "      <td>...</td>\n",
       "      <td>[29.0, 29.0, 30.0, 29.0, 29.0, 29.0, 29.0, 30....</td>\n",
       "      <td>36.0</td>\n",
       "      <td>29.0</td>\n",
       "      <td>30.0</td>\n",
       "      <td>0.212191</td>\n",
       "      <td>[41.0, 62.0, 72.0, 71.0, 63.0, 50.0, 36.0, 39....</td>\n",
       "      <td>72.0</td>\n",
       "      <td>0.000000</td>\n",
       "      <td>103.0</td>\n",
       "      <td>67.236111</td>\n",
       "    </tr>\n",
       "    <tr>\n",
       "      <th>1</th>\n",
       "      <td>hen_131</td>\n",
       "      <td>2020-10-28</td>\n",
       "      <td>3643.0</td>\n",
       "      <td>19470.0</td>\n",
       "      <td>17180.0</td>\n",
       "      <td>2504.0</td>\n",
       "      <td>403.0</td>\n",
       "      <td>43200.0</td>\n",
       "      <td>[3643.0, 19470.0, 17180.0, 2504.0, 403.0]</td>\n",
       "      <td>[0.0843287037037037, 0.45069444444444445, 0.39...</td>\n",
       "      <td>...</td>\n",
       "      <td>[28.0, 28.0, 28.0, 28.0, 28.0, 29.0, 29.0, 28....</td>\n",
       "      <td>36.0</td>\n",
       "      <td>29.0</td>\n",
       "      <td>29.0</td>\n",
       "      <td>0.212191</td>\n",
       "      <td>[45.0, 78.0, 59.0, 64.0, 52.0, 43.0, 43.0, 55....</td>\n",
       "      <td>72.0</td>\n",
       "      <td>0.000000</td>\n",
       "      <td>109.0</td>\n",
       "      <td>69.138889</td>\n",
       "    </tr>\n",
       "    <tr>\n",
       "      <th>2</th>\n",
       "      <td>hen_131</td>\n",
       "      <td>2020-10-29</td>\n",
       "      <td>2642.0</td>\n",
       "      <td>21300.0</td>\n",
       "      <td>19136.0</td>\n",
       "      <td>2727.0</td>\n",
       "      <td>995.0</td>\n",
       "      <td>46800.0</td>\n",
       "      <td>[2642.0, 21300.0, 19136.0, 2727.0, 995.0]</td>\n",
       "      <td>[0.05645299145299145, 0.4551282051282051, 0.40...</td>\n",
       "      <td>...</td>\n",
       "      <td>[29.0, 29.0, 29.0, 29.0, 29.0, 29.0, 29.0, 29....</td>\n",
       "      <td>36.0</td>\n",
       "      <td>29.0</td>\n",
       "      <td>29.0</td>\n",
       "      <td>0.076389</td>\n",
       "      <td>[18.0, 30.0, 30.0, 65.0, 48.0, 44.0, 66.0, 61....</td>\n",
       "      <td>78.0</td>\n",
       "      <td>0.012821</td>\n",
       "      <td>108.0</td>\n",
       "      <td>69.333333</td>\n",
       "    </tr>\n",
       "  </tbody>\n",
       "</table>\n",
       "<p>3 rows × 117 columns</p>\n",
       "</div>"
      ],
      "text/plain": [
       "     HenID      level  duration_1_Zone  duration_2_Zone  duration_3_Zone  \\\n",
       "0  hen_131 2020-10-27           2258.0          19888.0          16978.0   \n",
       "1  hen_131 2020-10-28           3643.0          19470.0          17180.0   \n",
       "2  hen_131 2020-10-29           2642.0          21300.0          19136.0   \n",
       "\n",
       "   duration_4_Zone  duration_5_Zone  verification_daily_total_duration  \\\n",
       "0           3204.0            872.0                            43200.0   \n",
       "1           2504.0            403.0                            43200.0   \n",
       "2           2727.0            995.0                            46800.0   \n",
       "\n",
       "                                  dur_values  \\\n",
       "0  [2258.0, 19888.0, 16978.0, 3204.0, 872.0]   \n",
       "1  [3643.0, 19470.0, 17180.0, 2504.0, 403.0]   \n",
       "2  [2642.0, 21300.0, 19136.0, 2727.0, 995.0]   \n",
       "\n",
       "                               dur_values_normalized  ...  \\\n",
       "0  [0.05226851851851852, 0.4603703703703704, 0.39...  ...   \n",
       "1  [0.0843287037037037, 0.45069444444444445, 0.39...  ...   \n",
       "2  [0.05645299145299145, 0.4551282051282051, 0.40...  ...   \n",
       "\n",
       "                       list_of_night20_2_temperature nbr_temperature_nnnan  \\\n",
       "0  [29.0, 29.0, 30.0, 29.0, 29.0, 29.0, 29.0, 30....                  36.0   \n",
       "1  [28.0, 28.0, 28.0, 28.0, 28.0, 29.0, 29.0, 28....                  36.0   \n",
       "2  [29.0, 29.0, 29.0, 29.0, 29.0, 29.0, 29.0, 29....                  36.0   \n",
       "\n",
       "  temperature_night20_2_median temperature_night20_2_max  \\\n",
       "0                         29.0                      30.0   \n",
       "1                         29.0                      29.0   \n",
       "2                         29.0                      29.0   \n",
       "\n",
       "  temperature_night20_2_var  \\\n",
       "0                  0.212191   \n",
       "1                  0.212191   \n",
       "2                  0.076389   \n",
       "\n",
       "                         list_of_MovementCounter_day len_MovementCounter_day  \\\n",
       "0  [41.0, 62.0, 72.0, 71.0, 63.0, 50.0, 36.0, 39....                    72.0   \n",
       "1  [45.0, 78.0, 59.0, 64.0, 52.0, 43.0, 43.0, 55....                    72.0   \n",
       "2  [18.0, 30.0, 30.0, 65.0, 48.0, 44.0, 66.0, 61....                    78.0   \n",
       "\n",
       "  MovementCounter_day_amount_nnactivity MovementCounter_day_max  \\\n",
       "0                              0.000000                   103.0   \n",
       "1                              0.000000                   109.0   \n",
       "2                              0.012821                   108.0   \n",
       "\n",
       "  MovementCounter_day_mean  \n",
       "0                67.236111  \n",
       "1                69.138889  \n",
       "2                69.333333  \n",
       "\n",
       "[3 rows x 117 columns]"
      ]
     },
     "execution_count": 8,
     "metadata": {},
     "output_type": "execute_result"
    }
   ],
   "source": [
    "############## cleaned dataset\n",
    "START_TIME = time.perf_counter()\n",
    "df_ = df[(df['date']<date_max)&(df['date']>date_min)].copy()\n",
    "#remove predicted-wrong-records\n",
    "print(df_.shape)\n",
    "df_ = df_[df_['model_prediction']!=0].copy()\n",
    "print(df_.shape)\n",
    "#simply rename the tracking system zone into the model zone :) \n",
    "df_.rename(columns={'Trackingsystem_Zone':'Zone'}, inplace=True)\n",
    "display(df_.head(2))\n",
    "for p in tqdm.tqdm(df_['PenID'].unique()):\n",
    "    df_daily = HenDailyVariable_Origins(df_[df_['PenID']==p], config, name_='CLEANING_'+p, timestamp_name='Timestamp',\n",
    "                                       has_cons_equal_zone=True)\n",
    "    print(df_daily.shape)\n",
    "    df_daily.head(3)\n",
    "END_TIME = time.perf_counter()\n",
    "print (\"Total running time: %.2f mn\" %((END_TIME-START_TIME)/60))  \n",
    "\n",
    "#Concatenate all HenVariables csv into one\n",
    "li_paths_var = glob.glob(os.path.join(path_extracted_data, id_run+'_daily__CLEANING'+'*_variables.csv'))\n",
    "li_df = []\n",
    "for path_var in tqdm.tqdm(li_paths_var):\n",
    "    #for being more reproductible, we open the file that was saved from cleaning\n",
    "    df_ = pd.read_csv(path_var, sep=';',parse_dates=['level', 'FirstTimestamp_1_Zone', 'FirstTimestamp_2_Zone', \n",
    "                                                     'FirstTimestamp_3_Zone','FirstTimestamp_4_Zone',\n",
    "                                                     'FirstTimestamp_5_Zone']) \n",
    "    print(df_.shape)\n",
    "    li_df.append(df_)\n",
    "df_daily = pd.concat(li_df)\n",
    "df_daily.to_csv(os.path.join(path_extracted_data, id_run+'_daily_CLEANING_ALL_variables.csv'), sep=';', index=False)\n",
    "print(df_daily.shape)\n",
    "df_daily.head(3)"
   ]
  },
  {
   "cell_type": "code",
   "execution_count": 9,
   "metadata": {
    "scrolled": true
   },
   "outputs": [
    {
     "name": "stderr",
     "output_type": "stream",
     "text": [
      "C:\\Users\\camil\\anaconda3\\lib\\site-packages\\ipykernel\\ipkernel.py:283: DeprecationWarning: `should_run_async` will not call `transform_cell` automatically in the future. Please pass the result to `transformed_cell` argument and any exception that happen during thetransform in `preprocessing_exc_tuple` in IPython 7.17 and above.\n",
      "  and should_run_async(code)\n"
     ]
    },
    {
     "data": {
      "text/html": [
       "<div>\n",
       "<style scoped>\n",
       "    .dataframe tbody tr th:only-of-type {\n",
       "        vertical-align: middle;\n",
       "    }\n",
       "\n",
       "    .dataframe tbody tr th {\n",
       "        vertical-align: top;\n",
       "    }\n",
       "\n",
       "    .dataframe thead th {\n",
       "        text-align: right;\n",
       "    }\n",
       "</style>\n",
       "<table border=\"1\" class=\"dataframe\">\n",
       "  <thead>\n",
       "    <tr style=\"text-align: right;\">\n",
       "      <th></th>\n",
       "      <th>HenID</th>\n",
       "      <th>PenID</th>\n",
       "      <th>system</th>\n",
       "      <th>Zone</th>\n",
       "      <th>model_prediction</th>\n",
       "      <th>Timestamp</th>\n",
       "      <th>date</th>\n",
       "    </tr>\n",
       "  </thead>\n",
       "  <tbody>\n",
       "    <tr>\n",
       "      <th>0</th>\n",
       "      <td>hen_100</td>\n",
       "      <td>pen5</td>\n",
       "      <td>3 - 5</td>\n",
       "      <td>4_Zone</td>\n",
       "      <td>1.0</td>\n",
       "      <td>2020-10-27 00:03:07</td>\n",
       "      <td>2020-10-27</td>\n",
       "    </tr>\n",
       "    <tr>\n",
       "      <th>1</th>\n",
       "      <td>hen_100</td>\n",
       "      <td>pen5</td>\n",
       "      <td>3 - 5</td>\n",
       "      <td>5_Zone</td>\n",
       "      <td>1.0</td>\n",
       "      <td>2020-10-27 00:03:12</td>\n",
       "      <td>2020-10-27</td>\n",
       "    </tr>\n",
       "  </tbody>\n",
       "</table>\n",
       "</div>"
      ],
      "text/plain": [
       "     HenID PenID system    Zone  model_prediction           Timestamp  \\\n",
       "0  hen_100  pen5  3 - 5  4_Zone               1.0 2020-10-27 00:03:07   \n",
       "1  hen_100  pen5  3 - 5  5_Zone               1.0 2020-10-27 00:03:12   \n",
       "\n",
       "        date  \n",
       "0 2020-10-27  \n",
       "1 2020-10-27  "
      ]
     },
     "metadata": {},
     "output_type": "display_data"
    },
    {
     "name": "stderr",
     "output_type": "stream",
     "text": [
      "\r",
      "  0%|                                                                                            | 0/8 [00:00<?, ?it/s]"
     ]
    },
    {
     "name": "stdout",
     "output_type": "stream",
     "text": [
      "----------------- Create time serie\n",
      "in this time series there is 23 hens\n",
      "The initial starting date in over all is: 2020-10-27 00:03:07, and the ending date will be: 2021-01-18 08:36:57\n",
      "But note that birds may have different ending and starting date which should be taken into account when computing variables\n",
      "and after ending the last day at midnight : 2020-10-27 00:03:07, and the ending date will be: 2021-01-18 23:59:59\n",
      "Total running time: 1.43 mn\n",
      "your time series has 1 seconds between two timestamps\n",
      "----------------- main night zone and nbr of transitions over night....\n",
      "----------------- total duration per Zone in seconds....\n",
      "----------------- first timestamp in each zone per day....\n",
      "----------------- number of Zone (excluding nan)....\n",
      "----------------- compute some variables based on a list of zones over a day....\n",
      "----------------NESTBOX\n"
     ]
    },
    {
     "name": "stderr",
     "output_type": "stream",
     "text": [
      "\n",
      "  0%|                                                                                           | 0/23 [00:00<?, ?it/s]\u001b[A\n",
      "  4%|███▌                                                                               | 1/23 [00:00<00:03,  7.26it/s]\u001b[A\n",
      "  9%|███████▏                                                                           | 2/23 [00:01<00:10,  1.94it/s]\u001b[A\n",
      " 13%|██████████▊                                                                        | 3/23 [00:02<00:10,  1.96it/s]\u001b[A\n",
      " 17%|██████████████▍                                                                    | 4/23 [00:02<00:07,  2.41it/s]\u001b[A\n",
      " 26%|█████████████████████▋                                                             | 6/23 [00:02<00:06,  2.61it/s]\u001b[A\n",
      " 30%|█████████████████████████▎                                                         | 7/23 [00:03<00:05,  2.99it/s]\u001b[A\n",
      " 35%|████████████████████████████▊                                                      | 8/23 [00:03<00:06,  2.48it/s]\u001b[A\n",
      " 39%|████████████████████████████████▍                                                  | 9/23 [00:04<00:05,  2.35it/s]\u001b[A\n",
      " 43%|███████████████████████████████████▋                                              | 10/23 [00:04<00:05,  2.45it/s]\u001b[A\n",
      " 48%|███████████████████████████████████████▏                                          | 11/23 [00:04<00:04,  2.66it/s]\u001b[A\n",
      " 52%|██████████████████████████████████████████▊                                       | 12/23 [00:04<00:03,  3.14it/s]\u001b[A\n",
      " 61%|█████████████████████████████████████████████████▉                                | 14/23 [00:05<00:03,  2.99it/s]\u001b[A\n",
      " 65%|█████████████████████████████████████████████████████▍                            | 15/23 [00:05<00:02,  3.66it/s]\u001b[A\n",
      " 70%|█████████████████████████████████████████████████████████                         | 16/23 [00:06<00:02,  2.64it/s]\u001b[A\n",
      " 74%|████████████████████████████████████████████████████████████▌                     | 17/23 [00:06<00:02,  2.77it/s]\u001b[A\n",
      " 78%|████████████████████████████████████████████████████████████████▏                 | 18/23 [00:06<00:01,  3.49it/s]\u001b[A\n",
      " 83%|███████████████████████████████████████████████████████████████████▋              | 19/23 [00:07<00:01,  2.79it/s]\u001b[A\n",
      " 87%|███████████████████████████████████████████████████████████████████████▎          | 20/23 [00:07<00:00,  3.24it/s]\u001b[A\n",
      " 91%|██████████████████████████████████████████████████████████████████████████▊       | 21/23 [00:08<00:00,  2.96it/s]\u001b[A\n",
      " 96%|██████████████████████████████████████████████████████████████████████████████▍   | 22/23 [00:08<00:00,  3.70it/s]\u001b[A\n",
      "100%|██████████████████████████████████████████████████████████████████████████████████| 23/23 [00:08<00:00,  2.76it/s]\u001b[A\n",
      "C:\\Users\\camil\\anaconda3\\lib\\site-packages\\numpy\\lib\\nanfunctions.py:1366: RuntimeWarning: Mean of empty slice\n",
      "  return np.nanmean(a, axis, out=out, keepdims=keepdims)\n"
     ]
    },
    {
     "name": "stdout",
     "output_type": "stream",
     "text": [
      "-------------- Lets remove unwanted dates at PENS level\n"
     ]
    },
    {
     "data": {
      "text/html": [
       "<text style=color:black>By removing the unwanted days we passed from 1848 to 1659 timestamp (losing </text> <text style=color:red>189</text> <text style=color:black> timestamp)</text>"
      ],
      "text/plain": [
       "<IPython.core.display.HTML object>"
      ]
     },
     "metadata": {},
     "output_type": "display_data"
    },
    {
     "name": "stdout",
     "output_type": "stream",
     "text": [
      "-------------- Lets remove dates that impacted few hens\n"
     ]
    },
    {
     "data": {
      "text/html": [
       "<text style=color:black>By removing the unwanted days we passed from 1659 to 1487 timestamp (losing </text> <text style=color:red>172</text> <text style=color:black> timestamp)</text>"
      ],
      "text/plain": [
       "<IPython.core.display.HTML object>"
      ]
     },
     "metadata": {},
     "output_type": "display_data"
    },
    {
     "name": "stdout",
     "output_type": "stream",
     "text": [
      "All the night variables are:  Index(['HenID', 'night_level', 'night_Max_duration_zones',\n",
      "       'night_Total_number_transition', 'level', 'PenID', 'CLASS', 'TagID',\n",
      "       'FocalLegringName', 'R-Pen', 'InitialStartDate', '29-09 weight',\n",
      "       '10-12 juin weight', 'weight 23-11-2020', 'weight 04-01-2021'],\n",
      "      dtype='object')\n",
      "['night_level']\n",
      "-------------- Lets remove dates of tags when they were not giving deviceupdate regularly\n"
     ]
    },
    {
     "data": {
      "text/html": [
       "<text style=color:black>By removing the unwanted days we passed from 1712 to 1678 timestamp (losing </text> <text style=color:red>34</text> <text style=color:black> timestamp)</text>"
      ],
      "text/plain": [
       "<IPython.core.display.HTML object>"
      ]
     },
     "metadata": {},
     "output_type": "display_data"
    },
    {
     "name": "stdout",
     "output_type": "stream",
     "text": [
      "-------------- Lets remove the 30.09.2020 for the tags taht still had no transition from before the light went on \n"
     ]
    },
    {
     "data": {
      "text/html": [
       "<text style=color:black>By removing the unwanted days we passed from 1678 to 1678 timestamp (losing </text> <text style=color:red>0</text> <text style=color:black> timestamp)</text>"
      ],
      "text/plain": [
       "<IPython.core.display.HTML object>"
      ]
     },
     "metadata": {},
     "output_type": "display_data"
    },
    {
     "name": "stdout",
     "output_type": "stream",
     "text": [
      "save\n",
      "Total running time: 10.98 mn\n"
     ]
    },
    {
     "name": "stderr",
     "output_type": "stream",
     "text": [
      "\r",
      " 12%|██████████▏                                                                      | 1/8 [11:00<1:17:01, 660.16s/it]"
     ]
    },
    {
     "name": "stdout",
     "output_type": "stream",
     "text": [
      "(1678, 117)\n",
      "----------------- Create time serie\n",
      "in this time series there is 22 hens\n",
      "The initial starting date in over all is: 2020-10-27 00:15:39, and the ending date will be: 2021-01-18 08:37:33\n",
      "But note that birds may have different ending and starting date which should be taken into account when computing variables\n",
      "and after ending the last day at midnight : 2020-10-27 00:15:39, and the ending date will be: 2021-01-18 23:59:59\n",
      "Total running time: 1.42 mn\n",
      "your time series has 1 seconds between two timestamps\n",
      "----------------- main night zone and nbr of transitions over night....\n",
      "----------------- total duration per Zone in seconds....\n",
      "----------------- first timestamp in each zone per day....\n",
      "----------------- number of Zone (excluding nan)....\n",
      "----------------- compute some variables based on a list of zones over a day....\n",
      "----------------NESTBOX\n"
     ]
    },
    {
     "name": "stderr",
     "output_type": "stream",
     "text": [
      "\n",
      "  0%|                                                                                           | 0/22 [00:00<?, ?it/s]\u001b[A\n",
      "  5%|███▊                                                                               | 1/22 [00:00<00:03,  6.36it/s]\u001b[A\n",
      "  9%|███████▌                                                                           | 2/22 [00:00<00:04,  4.73it/s]\u001b[A\n",
      " 14%|███████████▎                                                                       | 3/22 [00:00<00:04,  3.85it/s]\u001b[A\n",
      " 18%|███████████████                                                                    | 4/22 [00:01<00:04,  3.90it/s]\u001b[A\n",
      " 23%|██████████████████▊                                                                | 5/22 [00:01<00:06,  2.78it/s]\u001b[A\n",
      " 27%|██████████████████████▋                                                            | 6/22 [00:01<00:04,  3.35it/s]\u001b[A\n",
      " 32%|██████████████████████████▍                                                        | 7/22 [00:02<00:05,  2.69it/s]\u001b[A\n",
      " 36%|██████████████████████████████▏                                                    | 8/22 [00:02<00:05,  2.70it/s]\u001b[A\n",
      " 41%|█████████████████████████████████▉                                                 | 9/22 [00:03<00:05,  2.41it/s]\u001b[A\n",
      " 45%|█████████████████████████████████████▎                                            | 10/22 [00:03<00:05,  2.26it/s]\u001b[A\n",
      " 50%|█████████████████████████████████████████                                         | 11/22 [00:03<00:03,  2.85it/s]\u001b[A\n",
      " 55%|████████████████████████████████████████████▋                                     | 12/22 [00:04<00:03,  3.01it/s]\u001b[A\n",
      " 64%|████████████████████████████████████████████████████▏                             | 14/22 [00:04<00:02,  3.11it/s]\u001b[A\n",
      " 68%|███████████████████████████████████████████████████████▉                          | 15/22 [00:05<00:02,  3.22it/s]\u001b[A\n",
      " 73%|███████████████████████████████████████████████████████████▋                      | 16/22 [00:05<00:02,  2.90it/s]\u001b[A\n",
      " 82%|███████████████████████████████████████████████████████████████████               | 18/22 [00:05<00:01,  3.27it/s]\u001b[A\n",
      " 86%|██████████████████████████████████████████████████████████████████████▊           | 19/22 [00:07<00:01,  1.73it/s]\u001b[A\n",
      " 91%|██████████████████████████████████████████████████████████████████████████▌       | 20/22 [00:07<00:00,  2.01it/s]\u001b[A\n",
      " 95%|██████████████████████████████████████████████████████████████████████████████▎   | 21/22 [00:07<00:00,  2.46it/s]\u001b[A\n",
      "100%|██████████████████████████████████████████████████████████████████████████████████| 22/22 [00:08<00:00,  2.75it/s]\u001b[A\n",
      "C:\\Users\\camil\\anaconda3\\lib\\site-packages\\numpy\\lib\\nanfunctions.py:1366: RuntimeWarning: Mean of empty slice\n",
      "  return np.nanmean(a, axis, out=out, keepdims=keepdims)\n"
     ]
    },
    {
     "name": "stdout",
     "output_type": "stream",
     "text": [
      "-------------- Lets remove unwanted dates at PENS level\n"
     ]
    },
    {
     "data": {
      "text/html": [
       "<text style=color:black>By removing the unwanted days we passed from 1792 to 1706 timestamp (losing </text> <text style=color:red>86</text> <text style=color:black> timestamp)</text>"
      ],
      "text/plain": [
       "<IPython.core.display.HTML object>"
      ]
     },
     "metadata": {},
     "output_type": "display_data"
    },
    {
     "name": "stdout",
     "output_type": "stream",
     "text": [
      "-------------- Lets remove dates that impacted few hens\n"
     ]
    },
    {
     "data": {
      "text/html": [
       "<text style=color:black>By removing the unwanted days we passed from 1706 to 1600 timestamp (losing </text> <text style=color:red>106</text> <text style=color:black> timestamp)</text>"
      ],
      "text/plain": [
       "<IPython.core.display.HTML object>"
      ]
     },
     "metadata": {},
     "output_type": "display_data"
    },
    {
     "name": "stdout",
     "output_type": "stream",
     "text": [
      "All the night variables are:  Index(['HenID', 'night_level', 'night_Max_duration_zones',\n",
      "       'night_Total_number_transition', 'level', 'PenID', 'CLASS', 'TagID',\n",
      "       'FocalLegringName', 'R-Pen', 'InitialStartDate', '29-09 weight',\n",
      "       '10-12 juin weight', 'weight 23-11-2020', 'weight 04-01-2021'],\n",
      "      dtype='object')\n",
      "['night_level']\n",
      "-------------- Lets remove dates of tags when they were not giving deviceupdate regularly\n"
     ]
    },
    {
     "data": {
      "text/html": [
       "<text style=color:black>By removing the unwanted days we passed from 1758 to 1736 timestamp (losing </text> <text style=color:red>22</text> <text style=color:black> timestamp)</text>"
      ],
      "text/plain": [
       "<IPython.core.display.HTML object>"
      ]
     },
     "metadata": {},
     "output_type": "display_data"
    },
    {
     "name": "stdout",
     "output_type": "stream",
     "text": [
      "-------------- Lets remove the 30.09.2020 for the tags taht still had no transition from before the light went on \n"
     ]
    },
    {
     "data": {
      "text/html": [
       "<text style=color:black>By removing the unwanted days we passed from 1736 to 1736 timestamp (losing </text> <text style=color:red>0</text> <text style=color:black> timestamp)</text>"
      ],
      "text/plain": [
       "<IPython.core.display.HTML object>"
      ]
     },
     "metadata": {},
     "output_type": "display_data"
    },
    {
     "name": "stdout",
     "output_type": "stream",
     "text": [
      "save\n"
     ]
    },
    {
     "name": "stderr",
     "output_type": "stream",
     "text": [
      "\r",
      " 25%|████████████████████▎                                                            | 2/8 [21:51<1:05:44, 657.44s/it]"
     ]
    },
    {
     "name": "stdout",
     "output_type": "stream",
     "text": [
      "Total running time: 10.83 mn\n",
      "(1736, 117)\n",
      "----------------- Create time serie\n",
      "in this time series there is 22 hens\n",
      "The initial starting date in over all is: 2020-10-27 00:22:38, and the ending date will be: 2021-01-18 08:39:27\n",
      "But note that birds may have different ending and starting date which should be taken into account when computing variables\n",
      "and after ending the last day at midnight : 2020-10-27 00:22:38, and the ending date will be: 2021-01-18 23:59:59\n",
      "Total running time: 1.44 mn\n",
      "your time series has 1 seconds between two timestamps\n",
      "----------------- main night zone and nbr of transitions over night....\n",
      "----------------- total duration per Zone in seconds....\n",
      "----------------- first timestamp in each zone per day....\n",
      "----------------- number of Zone (excluding nan)....\n",
      "----------------- compute some variables based on a list of zones over a day....\n",
      "several max-duration-zone\n",
      "several max-duration-zone\n",
      "----------------NESTBOX\n"
     ]
    },
    {
     "name": "stderr",
     "output_type": "stream",
     "text": [
      "\n",
      "  0%|                                                                                           | 0/22 [00:00<?, ?it/s]\u001b[A\n",
      "  5%|███▊                                                                               | 1/22 [00:00<00:08,  2.37it/s]\u001b[A\n",
      "  9%|███████▌                                                                           | 2/22 [00:00<00:07,  2.81it/s]\u001b[A\n",
      " 14%|███████████▎                                                                       | 3/22 [00:01<00:09,  2.11it/s]\u001b[A\n",
      " 23%|██████████████████▊                                                                | 5/22 [00:01<00:06,  2.83it/s]\u001b[A\n",
      " 27%|██████████████████████▋                                                            | 6/22 [00:01<00:05,  2.78it/s]\u001b[A\n",
      " 32%|██████████████████████████▍                                                        | 7/22 [00:02<00:05,  2.65it/s]\u001b[A\n",
      " 36%|██████████████████████████████▏                                                    | 8/22 [00:02<00:06,  2.26it/s]\u001b[A\n",
      " 41%|█████████████████████████████████▉                                                 | 9/22 [00:03<00:04,  2.68it/s]\u001b[A\n",
      " 45%|█████████████████████████████████████▎                                            | 10/22 [00:04<00:07,  1.62it/s]\u001b[A\n",
      " 50%|█████████████████████████████████████████                                         | 11/22 [00:04<00:05,  1.93it/s]\u001b[A\n",
      " 55%|████████████████████████████████████████████▋                                     | 12/22 [00:04<00:04,  2.45it/s]\u001b[A\n",
      " 64%|████████████████████████████████████████████████████▏                             | 14/22 [00:05<00:02,  2.83it/s]\u001b[A\n",
      " 68%|███████████████████████████████████████████████████████▉                          | 15/22 [00:05<00:02,  2.60it/s]\u001b[A\n",
      " 73%|███████████████████████████████████████████████████████████▋                      | 16/22 [00:05<00:01,  3.31it/s]\u001b[A\n",
      " 77%|███████████████████████████████████████████████████████████████▎                  | 17/22 [00:06<00:01,  2.93it/s]\u001b[A\n",
      " 82%|███████████████████████████████████████████████████████████████████               | 18/22 [00:06<00:01,  3.50it/s]\u001b[A\n",
      " 86%|██████████████████████████████████████████████████████████████████████▊           | 19/22 [00:06<00:01,  2.65it/s]\u001b[A\n",
      " 91%|██████████████████████████████████████████████████████████████████████████▌       | 20/22 [00:07<00:00,  2.83it/s]\u001b[A\n",
      " 95%|██████████████████████████████████████████████████████████████████████████████▎   | 21/22 [00:07<00:00,  3.43it/s]\u001b[A\n",
      "100%|██████████████████████████████████████████████████████████████████████████████████| 22/22 [00:07<00:00,  2.77it/s]\u001b[A\n",
      "C:\\Users\\camil\\anaconda3\\lib\\site-packages\\numpy\\lib\\nanfunctions.py:1366: RuntimeWarning: Mean of empty slice\n",
      "  return np.nanmean(a, axis, out=out, keepdims=keepdims)\n"
     ]
    },
    {
     "name": "stdout",
     "output_type": "stream",
     "text": [
      "-------------- Lets remove unwanted dates at PENS level\n"
     ]
    },
    {
     "data": {
      "text/html": [
       "<text style=color:black>By removing the unwanted days we passed from 1791 to 1727 timestamp (losing </text> <text style=color:red>64</text> <text style=color:black> timestamp)</text>"
      ],
      "text/plain": [
       "<IPython.core.display.HTML object>"
      ]
     },
     "metadata": {},
     "output_type": "display_data"
    },
    {
     "name": "stdout",
     "output_type": "stream",
     "text": [
      "-------------- Lets remove dates that impacted few hens\n"
     ]
    },
    {
     "data": {
      "text/html": [
       "<text style=color:black>By removing the unwanted days we passed from 1727 to 1619 timestamp (losing </text> <text style=color:red>108</text> <text style=color:black> timestamp)</text>"
      ],
      "text/plain": [
       "<IPython.core.display.HTML object>"
      ]
     },
     "metadata": {},
     "output_type": "display_data"
    },
    {
     "name": "stdout",
     "output_type": "stream",
     "text": [
      "All the night variables are:  Index(['HenID', 'night_level', 'night_Max_duration_zones',\n",
      "       'night_Total_number_transition', 'level', 'PenID', 'CLASS', 'TagID',\n",
      "       'FocalLegringName', 'R-Pen', 'InitialStartDate', '29-09 weight',\n",
      "       '10-12 juin weight', 'weight 23-11-2020', 'weight 04-01-2021'],\n",
      "      dtype='object')\n",
      "['night_level']\n",
      "-------------- Lets remove dates of tags when they were not giving deviceupdate regularly\n"
     ]
    },
    {
     "data": {
      "text/html": [
       "<text style=color:black>By removing the unwanted days we passed from 1753 to 1736 timestamp (losing </text> <text style=color:red>17</text> <text style=color:black> timestamp)</text>"
      ],
      "text/plain": [
       "<IPython.core.display.HTML object>"
      ]
     },
     "metadata": {},
     "output_type": "display_data"
    },
    {
     "name": "stdout",
     "output_type": "stream",
     "text": [
      "-------------- Lets remove the 30.09.2020 for the tags taht still had no transition from before the light went on \n"
     ]
    },
    {
     "data": {
      "text/html": [
       "<text style=color:black>By removing the unwanted days we passed from 1736 to 1736 timestamp (losing </text> <text style=color:red>0</text> <text style=color:black> timestamp)</text>"
      ],
      "text/plain": [
       "<IPython.core.display.HTML object>"
      ]
     },
     "metadata": {},
     "output_type": "display_data"
    },
    {
     "name": "stdout",
     "output_type": "stream",
     "text": [
      "save\n"
     ]
    },
    {
     "name": "stderr",
     "output_type": "stream",
     "text": [
      "\r",
      " 38%|███████████████████████████████▏                                                   | 3/8 [32:45<54:41, 656.36s/it]"
     ]
    },
    {
     "name": "stdout",
     "output_type": "stream",
     "text": [
      "Total running time: 10.87 mn\n",
      "(1736, 117)\n",
      "----------------- Create time serie\n",
      "in this time series there is 23 hens\n",
      "The initial starting date in over all is: 2020-10-27 00:36:34, and the ending date will be: 2021-01-18 08:39:32\n",
      "But note that birds may have different ending and starting date which should be taken into account when computing variables\n",
      "and after ending the last day at midnight : 2020-10-27 00:36:34, and the ending date will be: 2021-01-18 23:59:59\n",
      "Total running time: 1.44 mn\n",
      "your time series has 1 seconds between two timestamps\n",
      "----------------- main night zone and nbr of transitions over night....\n",
      "----------------- total duration per Zone in seconds....\n",
      "----------------- first timestamp in each zone per day....\n",
      "----------------- number of Zone (excluding nan)....\n",
      "----------------- compute some variables based on a list of zones over a day....\n",
      "----------------NESTBOX\n"
     ]
    },
    {
     "name": "stderr",
     "output_type": "stream",
     "text": [
      "\n",
      "  0%|                                                                                           | 0/23 [00:00<?, ?it/s]\u001b[A\n",
      "  4%|███▌                                                                               | 1/23 [00:00<00:07,  3.02it/s]\u001b[A\n",
      "  9%|███████▏                                                                           | 2/23 [00:01<00:11,  1.89it/s]\u001b[A\n",
      " 13%|██████████▊                                                                        | 3/23 [00:01<00:09,  2.11it/s]\u001b[A\n",
      " 17%|██████████████▍                                                                    | 4/23 [00:01<00:06,  2.74it/s]\u001b[A\n",
      " 22%|██████████████████                                                                 | 5/23 [00:02<00:06,  2.84it/s]\u001b[A\n",
      " 30%|█████████████████████████▎                                                         | 7/23 [00:02<00:04,  3.74it/s]\u001b[A\n",
      " 35%|████████████████████████████▊                                                      | 8/23 [00:02<00:04,  3.62it/s]\u001b[A\n",
      " 39%|████████████████████████████████▍                                                  | 9/23 [00:02<00:04,  3.40it/s]\u001b[A\n",
      " 48%|███████████████████████████████████████▏                                          | 11/23 [00:03<00:02,  4.20it/s]\u001b[A\n",
      " 57%|██████████████████████████████████████████████▎                                   | 13/23 [00:03<00:02,  4.89it/s]\u001b[A\n",
      " 61%|█████████████████████████████████████████████████▉                                | 14/23 [00:03<00:02,  4.41it/s]\u001b[A\n",
      " 65%|█████████████████████████████████████████████████████▍                            | 15/23 [00:03<00:02,  3.98it/s]\u001b[A\n",
      " 70%|█████████████████████████████████████████████████████████                         | 16/23 [00:04<00:01,  4.52it/s]\u001b[A\n",
      " 74%|████████████████████████████████████████████████████████████▌                     | 17/23 [00:04<00:01,  4.07it/s]\u001b[A\n",
      " 78%|████████████████████████████████████████████████████████████████▏                 | 18/23 [00:04<00:01,  3.50it/s]\u001b[A\n",
      " 83%|███████████████████████████████████████████████████████████████████▋              | 19/23 [00:05<00:01,  3.33it/s]\u001b[A\n",
      " 87%|███████████████████████████████████████████████████████████████████████▎          | 20/23 [00:05<00:00,  3.95it/s]\u001b[A\n",
      " 91%|██████████████████████████████████████████████████████████████████████████▊       | 21/23 [00:05<00:00,  2.85it/s]\u001b[A\n",
      "100%|██████████████████████████████████████████████████████████████████████████████████| 23/23 [00:05<00:00,  3.85it/s]\u001b[A\n",
      "C:\\Users\\camil\\anaconda3\\lib\\site-packages\\numpy\\lib\\nanfunctions.py:1366: RuntimeWarning: Mean of empty slice\n",
      "  return np.nanmean(a, axis, out=out, keepdims=keepdims)\n"
     ]
    },
    {
     "name": "stdout",
     "output_type": "stream",
     "text": [
      "-------------- Lets remove unwanted dates at PENS level\n"
     ]
    },
    {
     "data": {
      "text/html": [
       "<text style=color:black>By removing the unwanted days we passed from 1870 to 1803 timestamp (losing </text> <text style=color:red>67</text> <text style=color:black> timestamp)</text>"
      ],
      "text/plain": [
       "<IPython.core.display.HTML object>"
      ]
     },
     "metadata": {},
     "output_type": "display_data"
    },
    {
     "name": "stdout",
     "output_type": "stream",
     "text": [
      "-------------- Lets remove dates that impacted few hens\n"
     ]
    },
    {
     "data": {
      "text/html": [
       "<text style=color:black>By removing the unwanted days we passed from 1803 to 1616 timestamp (losing </text> <text style=color:red>187</text> <text style=color:black> timestamp)</text>"
      ],
      "text/plain": [
       "<IPython.core.display.HTML object>"
      ]
     },
     "metadata": {},
     "output_type": "display_data"
    },
    {
     "name": "stdout",
     "output_type": "stream",
     "text": [
      "All the night variables are:  Index(['HenID', 'night_level', 'night_Max_duration_zones',\n",
      "       'night_Total_number_transition', 'level', 'PenID', 'CLASS', 'TagID',\n",
      "       'FocalLegringName', 'R-Pen', 'InitialStartDate', '29-09 weight',\n",
      "       '10-12 juin weight', 'weight 23-11-2020', 'weight 04-01-2021'],\n",
      "      dtype='object')\n",
      "['night_level']\n",
      "-------------- Lets remove dates of tags when they were not giving deviceupdate regularly\n"
     ]
    },
    {
     "data": {
      "text/html": [
       "<text style=color:black>By removing the unwanted days we passed from 1831 to 1817 timestamp (losing </text> <text style=color:red>14</text> <text style=color:black> timestamp)</text>"
      ],
      "text/plain": [
       "<IPython.core.display.HTML object>"
      ]
     },
     "metadata": {},
     "output_type": "display_data"
    },
    {
     "name": "stdout",
     "output_type": "stream",
     "text": [
      "-------------- Lets remove the 30.09.2020 for the tags taht still had no transition from before the light went on \n"
     ]
    },
    {
     "data": {
      "text/html": [
       "<text style=color:black>By removing the unwanted days we passed from 1817 to 1817 timestamp (losing </text> <text style=color:red>0</text> <text style=color:black> timestamp)</text>"
      ],
      "text/plain": [
       "<IPython.core.display.HTML object>"
      ]
     },
     "metadata": {},
     "output_type": "display_data"
    },
    {
     "name": "stdout",
     "output_type": "stream",
     "text": [
      "save\n"
     ]
    },
    {
     "name": "stderr",
     "output_type": "stream",
     "text": [
      "\r",
      " 50%|█████████████████████████████████████████▌                                         | 4/8 [43:46<43:51, 657.92s/it]"
     ]
    },
    {
     "name": "stdout",
     "output_type": "stream",
     "text": [
      "Total running time: 11.00 mn\n",
      "(1817, 117)\n",
      "----------------- Create time serie\n",
      "in this time series there is 22 hens\n",
      "The initial starting date in over all is: 2020-10-27 00:46:06, and the ending date will be: 2021-01-18 08:41:28\n",
      "But note that birds may have different ending and starting date which should be taken into account when computing variables\n",
      "and after ending the last day at midnight : 2020-10-27 00:46:06, and the ending date will be: 2021-01-18 23:59:59\n",
      "Total running time: 1.36 mn\n",
      "your time series has 1 seconds between two timestamps\n",
      "----------------- main night zone and nbr of transitions over night....\n",
      "----------------- total duration per Zone in seconds....\n",
      "----------------- first timestamp in each zone per day....\n",
      "----------------- number of Zone (excluding nan)....\n",
      "----------------- compute some variables based on a list of zones over a day....\n",
      "several max-duration-zone\n",
      "----------------NESTBOX\n"
     ]
    },
    {
     "name": "stderr",
     "output_type": "stream",
     "text": [
      "\n",
      "  0%|                                                                                           | 0/22 [00:00<?, ?it/s]\u001b[A\n",
      "  5%|███▊                                                                               | 1/22 [00:00<00:11,  1.77it/s]\u001b[A\n",
      "  9%|███████▌                                                                           | 2/22 [00:00<00:09,  2.10it/s]\u001b[A\n",
      " 14%|███████████▎                                                                       | 3/22 [00:01<00:08,  2.14it/s]\u001b[A\n",
      " 18%|███████████████                                                                    | 4/22 [00:01<00:06,  2.64it/s]\u001b[A\n",
      " 23%|██████████████████▊                                                                | 5/22 [00:02<00:07,  2.25it/s]\u001b[A\n",
      " 27%|██████████████████████▋                                                            | 6/22 [00:02<00:06,  2.42it/s]\u001b[A\n",
      " 32%|██████████████████████████▍                                                        | 7/22 [00:02<00:06,  2.45it/s]\u001b[A\n",
      " 36%|██████████████████████████████▏                                                    | 8/22 [00:02<00:04,  2.95it/s]\u001b[A\n",
      " 41%|█████████████████████████████████▉                                                 | 9/22 [00:03<00:03,  3.50it/s]\u001b[A\n",
      " 45%|█████████████████████████████████████▎                                            | 10/22 [00:04<00:07,  1.70it/s]\u001b[A\n",
      " 50%|█████████████████████████████████████████                                         | 11/22 [00:04<00:05,  1.94it/s]\u001b[A\n",
      " 55%|████████████████████████████████████████████▋                                     | 12/22 [00:04<00:03,  2.56it/s]\u001b[A\n",
      " 59%|████████████████████████████████████████████████▍                                 | 13/22 [00:05<00:02,  3.18it/s]\u001b[A\n",
      " 64%|████████████████████████████████████████████████████▏                             | 14/22 [00:05<00:02,  3.08it/s]\u001b[A\n",
      " 68%|███████████████████████████████████████████████████████▉                          | 15/22 [00:06<00:03,  2.30it/s]\u001b[A\n",
      " 73%|███████████████████████████████████████████████████████████▋                      | 16/22 [00:06<00:02,  2.74it/s]\u001b[A\n",
      " 77%|███████████████████████████████████████████████████████████████▎                  | 17/22 [00:06<00:01,  2.87it/s]\u001b[A\n",
      " 82%|███████████████████████████████████████████████████████████████████               | 18/22 [00:07<00:01,  2.53it/s]\u001b[A\n",
      " 86%|██████████████████████████████████████████████████████████████████████▊           | 19/22 [00:07<00:01,  2.01it/s]\u001b[A\n",
      " 91%|██████████████████████████████████████████████████████████████████████████▌       | 20/22 [00:08<00:00,  2.17it/s]\u001b[A\n",
      " 95%|██████████████████████████████████████████████████████████████████████████████▎   | 21/22 [00:08<00:00,  2.84it/s]\u001b[A\n",
      "100%|██████████████████████████████████████████████████████████████████████████████████| 22/22 [00:08<00:00,  2.58it/s]\u001b[A\n",
      "C:\\Users\\camil\\anaconda3\\lib\\site-packages\\numpy\\lib\\nanfunctions.py:1366: RuntimeWarning: Mean of empty slice\n",
      "  return np.nanmean(a, axis, out=out, keepdims=keepdims)\n"
     ]
    },
    {
     "name": "stdout",
     "output_type": "stream",
     "text": [
      "-------------- Lets remove unwanted dates at PENS level\n"
     ]
    },
    {
     "data": {
      "text/html": [
       "<text style=color:black>By removing the unwanted days we passed from 1792 to 1706 timestamp (losing </text> <text style=color:red>86</text> <text style=color:black> timestamp)</text>"
      ],
      "text/plain": [
       "<IPython.core.display.HTML object>"
      ]
     },
     "metadata": {},
     "output_type": "display_data"
    },
    {
     "name": "stdout",
     "output_type": "stream",
     "text": [
      "-------------- Lets remove dates that impacted few hens\n"
     ]
    },
    {
     "data": {
      "text/html": [
       "<text style=color:black>By removing the unwanted days we passed from 1706 to 1600 timestamp (losing </text> <text style=color:red>106</text> <text style=color:black> timestamp)</text>"
      ],
      "text/plain": [
       "<IPython.core.display.HTML object>"
      ]
     },
     "metadata": {},
     "output_type": "display_data"
    },
    {
     "name": "stdout",
     "output_type": "stream",
     "text": [
      "All the night variables are:  Index(['HenID', 'night_level', 'night_Max_duration_zones',\n",
      "       'night_Total_number_transition', 'level', 'PenID', 'CLASS', 'TagID',\n",
      "       'FocalLegringName', 'R-Pen', 'InitialStartDate', '29-09 weight',\n",
      "       '10-12 juin weight', 'weight 23-11-2020', 'weight 04-01-2021'],\n",
      "      dtype='object')\n",
      "['night_level']\n",
      "-------------- Lets remove dates of tags when they were not giving deviceupdate regularly\n"
     ]
    },
    {
     "data": {
      "text/html": [
       "<text style=color:black>By removing the unwanted days we passed from 1757 to 1732 timestamp (losing </text> <text style=color:red>25</text> <text style=color:black> timestamp)</text>"
      ],
      "text/plain": [
       "<IPython.core.display.HTML object>"
      ]
     },
     "metadata": {},
     "output_type": "display_data"
    },
    {
     "name": "stdout",
     "output_type": "stream",
     "text": [
      "-------------- Lets remove the 30.09.2020 for the tags taht still had no transition from before the light went on \n"
     ]
    },
    {
     "data": {
      "text/html": [
       "<text style=color:black>By removing the unwanted days we passed from 1732 to 1732 timestamp (losing </text> <text style=color:red>0</text> <text style=color:black> timestamp)</text>"
      ],
      "text/plain": [
       "<IPython.core.display.HTML object>"
      ]
     },
     "metadata": {},
     "output_type": "display_data"
    },
    {
     "name": "stdout",
     "output_type": "stream",
     "text": [
      "save\n"
     ]
    },
    {
     "name": "stderr",
     "output_type": "stream",
     "text": [
      "\r",
      " 62%|███████████████████████████████████████████████████▉                               | 5/8 [54:26<32:37, 652.53s/it]"
     ]
    },
    {
     "name": "stdout",
     "output_type": "stream",
     "text": [
      "Total running time: 10.64 mn\n",
      "(1732, 117)\n",
      "----------------- Create time serie\n",
      "in this time series there is 23 hens\n",
      "The initial starting date in over all is: 2020-10-27 02:07:16, and the ending date will be: 2021-01-18 08:40:40\n",
      "But note that birds may have different ending and starting date which should be taken into account when computing variables\n",
      "and after ending the last day at midnight : 2020-10-27 02:07:16, and the ending date will be: 2021-01-18 23:59:59\n",
      "Total running time: 1.38 mn\n",
      "your time series has 1 seconds between two timestamps\n",
      "----------------- main night zone and nbr of transitions over night....\n",
      "----------------- total duration per Zone in seconds....\n",
      "----------------- first timestamp in each zone per day....\n",
      "----------------- number of Zone (excluding nan)....\n",
      "----------------- compute some variables based on a list of zones over a day....\n",
      "----------------NESTBOX\n"
     ]
    },
    {
     "name": "stderr",
     "output_type": "stream",
     "text": [
      "\n",
      "  0%|                                                                                           | 0/23 [00:00<?, ?it/s]\u001b[A\n",
      "  4%|███▌                                                                               | 1/23 [00:00<00:16,  1.33it/s]\u001b[A\n",
      "  9%|███████▏                                                                           | 2/23 [00:01<00:13,  1.58it/s]\u001b[A\n",
      " 13%|██████████▊                                                                        | 3/23 [00:01<00:11,  1.78it/s]\u001b[A\n",
      " 17%|██████████████▍                                                                    | 4/23 [00:01<00:10,  1.86it/s]\u001b[A\n",
      " 22%|██████████████████                                                                 | 5/23 [00:02<00:09,  1.97it/s]\u001b[A\n",
      " 26%|█████████████████████▋                                                             | 6/23 [00:02<00:07,  2.14it/s]\u001b[A\n",
      " 30%|█████████████████████████▎                                                         | 7/23 [00:03<00:07,  2.28it/s]\u001b[A\n",
      " 35%|████████████████████████████▊                                                      | 8/23 [00:03<00:06,  2.33it/s]\u001b[A\n",
      " 39%|████████████████████████████████▍                                                  | 9/23 [00:04<00:07,  1.97it/s]\u001b[A\n",
      " 43%|███████████████████████████████████▋                                              | 10/23 [00:04<00:06,  2.05it/s]\u001b[A\n",
      " 48%|███████████████████████████████████████▏                                          | 11/23 [00:04<00:05,  2.33it/s]\u001b[A\n",
      " 52%|██████████████████████████████████████████▊                                       | 12/23 [00:05<00:03,  2.80it/s]\u001b[A\n",
      " 61%|█████████████████████████████████████████████████▉                                | 14/23 [00:05<00:02,  3.01it/s]\u001b[A\n",
      " 65%|█████████████████████████████████████████████████████▍                            | 15/23 [00:06<00:02,  3.01it/s]\u001b[A\n",
      " 70%|█████████████████████████████████████████████████████████                         | 16/23 [00:06<00:02,  3.21it/s]\u001b[A\n",
      " 78%|████████████████████████████████████████████████████████████████▏                 | 18/23 [00:06<00:01,  3.79it/s]\u001b[A\n",
      " 83%|███████████████████████████████████████████████████████████████████▋              | 19/23 [00:06<00:00,  4.57it/s]\u001b[A\n",
      " 87%|███████████████████████████████████████████████████████████████████████▎          | 20/23 [00:07<00:00,  3.11it/s]\u001b[A\n",
      " 91%|██████████████████████████████████████████████████████████████████████████▊       | 21/23 [00:07<00:00,  2.79it/s]\u001b[A\n",
      " 96%|██████████████████████████████████████████████████████████████████████████████▍   | 22/23 [00:08<00:00,  2.69it/s]\u001b[A\n",
      "100%|██████████████████████████████████████████████████████████████████████████████████| 23/23 [00:08<00:00,  2.75it/s]\u001b[A\n",
      "C:\\Users\\camil\\anaconda3\\lib\\site-packages\\numpy\\lib\\nanfunctions.py:1366: RuntimeWarning: Mean of empty slice\n",
      "  return np.nanmean(a, axis, out=out, keepdims=keepdims)\n"
     ]
    },
    {
     "name": "stdout",
     "output_type": "stream",
     "text": [
      "-------------- Lets remove unwanted dates at PENS level\n"
     ]
    },
    {
     "data": {
      "text/html": [
       "<text style=color:black>By removing the unwanted days we passed from 1848 to 1759 timestamp (losing </text> <text style=color:red>89</text> <text style=color:black> timestamp)</text>"
      ],
      "text/plain": [
       "<IPython.core.display.HTML object>"
      ]
     },
     "metadata": {},
     "output_type": "display_data"
    },
    {
     "name": "stdout",
     "output_type": "stream",
     "text": [
      "-------------- Lets remove dates that impacted few hens\n"
     ]
    },
    {
     "data": {
      "text/html": [
       "<text style=color:black>By removing the unwanted days we passed from 1759 to 1597 timestamp (losing </text> <text style=color:red>162</text> <text style=color:black> timestamp)</text>"
      ],
      "text/plain": [
       "<IPython.core.display.HTML object>"
      ]
     },
     "metadata": {},
     "output_type": "display_data"
    },
    {
     "name": "stdout",
     "output_type": "stream",
     "text": [
      "All the night variables are:  Index(['HenID', 'night_level', 'night_Max_duration_zones',\n",
      "       'night_Total_number_transition', 'level', 'PenID', 'CLASS', 'TagID',\n",
      "       'FocalLegringName', 'R-Pen', 'InitialStartDate', '29-09 weight',\n",
      "       '10-12 juin weight', 'weight 23-11-2020', 'weight 04-01-2021'],\n",
      "      dtype='object')\n",
      "['night_level']\n",
      "-------------- Lets remove dates of tags when they were not giving deviceupdate regularly\n"
     ]
    },
    {
     "data": {
      "text/html": [
       "<text style=color:black>By removing the unwanted days we passed from 1811 to 1784 timestamp (losing </text> <text style=color:red>27</text> <text style=color:black> timestamp)</text>"
      ],
      "text/plain": [
       "<IPython.core.display.HTML object>"
      ]
     },
     "metadata": {},
     "output_type": "display_data"
    },
    {
     "name": "stdout",
     "output_type": "stream",
     "text": [
      "-------------- Lets remove the 30.09.2020 for the tags taht still had no transition from before the light went on \n"
     ]
    },
    {
     "data": {
      "text/html": [
       "<text style=color:black>By removing the unwanted days we passed from 1784 to 1784 timestamp (losing </text> <text style=color:red>0</text> <text style=color:black> timestamp)</text>"
      ],
      "text/plain": [
       "<IPython.core.display.HTML object>"
      ]
     },
     "metadata": {},
     "output_type": "display_data"
    },
    {
     "name": "stdout",
     "output_type": "stream",
     "text": [
      "save\n"
     ]
    },
    {
     "name": "stderr",
     "output_type": "stream",
     "text": [
      "\r",
      " 75%|████████████████████████████████████████████████████████████▊                    | 6/8 [1:05:20<21:45, 652.82s/it]"
     ]
    },
    {
     "name": "stdout",
     "output_type": "stream",
     "text": [
      "Total running time: 10.87 mn\n",
      "(1784, 117)\n",
      "----------------- Create time serie\n",
      "in this time series there is 22 hens\n",
      "The initial starting date in over all is: 2020-10-27 02:13:34, and the ending date will be: 2021-01-18 08:37:18\n",
      "But note that birds may have different ending and starting date which should be taken into account when computing variables\n",
      "and after ending the last day at midnight : 2020-10-27 02:13:34, and the ending date will be: 2021-01-18 23:59:59\n",
      "Total running time: 1.37 mn\n",
      "your time series has 1 seconds between two timestamps\n",
      "----------------- main night zone and nbr of transitions over night....\n",
      "----------------- total duration per Zone in seconds....\n",
      "----------------- first timestamp in each zone per day....\n",
      "----------------- number of Zone (excluding nan)....\n",
      "----------------- compute some variables based on a list of zones over a day....\n",
      "----------------NESTBOX\n"
     ]
    },
    {
     "name": "stderr",
     "output_type": "stream",
     "text": [
      "\n",
      "  0%|                                                                                           | 0/22 [00:00<?, ?it/s]\u001b[A\n",
      "  5%|███▊                                                                               | 1/22 [00:00<00:02,  7.77it/s]\u001b[A\n",
      " 14%|███████████▎                                                                       | 3/22 [00:00<00:02,  8.77it/s]\u001b[A\n",
      " 18%|███████████████                                                                    | 4/22 [00:00<00:03,  4.62it/s]\u001b[A\n",
      " 23%|██████████████████▊                                                                | 5/22 [00:01<00:08,  1.97it/s]\u001b[A\n",
      " 32%|██████████████████████████▍                                                        | 7/22 [00:02<00:06,  2.36it/s]\u001b[A\n",
      " 36%|██████████████████████████████▏                                                    | 8/22 [00:02<00:05,  2.71it/s]\u001b[A\n",
      " 41%|█████████████████████████████████▉                                                 | 9/22 [00:02<00:04,  3.21it/s]\u001b[A\n",
      " 45%|█████████████████████████████████████▎                                            | 10/22 [00:02<00:03,  3.87it/s]\u001b[A\n",
      " 50%|█████████████████████████████████████████                                         | 11/22 [00:03<00:02,  4.57it/s]\u001b[A\n",
      " 55%|████████████████████████████████████████████▋                                     | 12/22 [00:03<00:02,  3.34it/s]\u001b[A\n",
      " 59%|████████████████████████████████████████████████▍                                 | 13/22 [00:03<00:02,  3.08it/s]\u001b[A\n",
      " 64%|████████████████████████████████████████████████████▏                             | 14/22 [00:04<00:03,  2.52it/s]\u001b[A\n",
      " 68%|███████████████████████████████████████████████████████▉                          | 15/22 [00:04<00:02,  2.45it/s]\u001b[A\n",
      " 73%|███████████████████████████████████████████████████████████▋                      | 16/22 [00:05<00:02,  2.79it/s]\u001b[A\n",
      " 82%|███████████████████████████████████████████████████████████████████               | 18/22 [00:05<00:01,  2.88it/s]\u001b[A\n",
      " 86%|██████████████████████████████████████████████████████████████████████▊           | 19/22 [00:06<00:01,  2.88it/s]\u001b[A\n",
      " 91%|██████████████████████████████████████████████████████████████████████████▌       | 20/22 [00:06<00:00,  2.75it/s]\u001b[A\n",
      " 95%|██████████████████████████████████████████████████████████████████████████████▎   | 21/22 [00:06<00:00,  2.94it/s]\u001b[A\n",
      "100%|██████████████████████████████████████████████████████████████████████████████████| 22/22 [00:06<00:00,  3.15it/s]\u001b[A\n",
      "C:\\Users\\camil\\anaconda3\\lib\\site-packages\\numpy\\lib\\nanfunctions.py:1366: RuntimeWarning: Mean of empty slice\n",
      "  return np.nanmean(a, axis, out=out, keepdims=keepdims)\n"
     ]
    },
    {
     "name": "stdout",
     "output_type": "stream",
     "text": [
      "-------------- Lets remove unwanted dates at PENS level\n"
     ]
    },
    {
     "data": {
      "text/html": [
       "<text style=color:black>By removing the unwanted days we passed from 1792 to 1706 timestamp (losing </text> <text style=color:red>86</text> <text style=color:black> timestamp)</text>"
      ],
      "text/plain": [
       "<IPython.core.display.HTML object>"
      ]
     },
     "metadata": {},
     "output_type": "display_data"
    },
    {
     "name": "stdout",
     "output_type": "stream",
     "text": [
      "-------------- Lets remove dates that impacted few hens\n"
     ]
    },
    {
     "data": {
      "text/html": [
       "<text style=color:black>By removing the unwanted days we passed from 1706 to 1600 timestamp (losing </text> <text style=color:red>106</text> <text style=color:black> timestamp)</text>"
      ],
      "text/plain": [
       "<IPython.core.display.HTML object>"
      ]
     },
     "metadata": {},
     "output_type": "display_data"
    },
    {
     "name": "stdout",
     "output_type": "stream",
     "text": [
      "All the night variables are:  Index(['HenID', 'night_level', 'night_Max_duration_zones',\n",
      "       'night_Total_number_transition', 'level', 'PenID', 'CLASS', 'TagID',\n",
      "       'FocalLegringName', 'R-Pen', 'InitialStartDate', '29-09 weight',\n",
      "       '10-12 juin weight', 'weight 23-11-2020', 'weight 04-01-2021'],\n",
      "      dtype='object')\n",
      "['night_level']\n",
      "-------------- Lets remove dates of tags when they were not giving deviceupdate regularly\n"
     ]
    },
    {
     "data": {
      "text/html": [
       "<text style=color:black>By removing the unwanted days we passed from 1754 to 1733 timestamp (losing </text> <text style=color:red>21</text> <text style=color:black> timestamp)</text>"
      ],
      "text/plain": [
       "<IPython.core.display.HTML object>"
      ]
     },
     "metadata": {},
     "output_type": "display_data"
    },
    {
     "name": "stdout",
     "output_type": "stream",
     "text": [
      "-------------- Lets remove the 30.09.2020 for the tags taht still had no transition from before the light went on \n"
     ]
    },
    {
     "data": {
      "text/html": [
       "<text style=color:black>By removing the unwanted days we passed from 1733 to 1733 timestamp (losing </text> <text style=color:red>0</text> <text style=color:black> timestamp)</text>"
      ],
      "text/plain": [
       "<IPython.core.display.HTML object>"
      ]
     },
     "metadata": {},
     "output_type": "display_data"
    },
    {
     "name": "stdout",
     "output_type": "stream",
     "text": [
      "save\n"
     ]
    },
    {
     "name": "stderr",
     "output_type": "stream",
     "text": [
      "\r",
      " 88%|██████████████████████████████████████████████████████████████████████▉          | 7/8 [1:15:49<10:45, 645.87s/it]"
     ]
    },
    {
     "name": "stdout",
     "output_type": "stream",
     "text": [
      "Total running time: 10.47 mn\n",
      "(1733, 117)\n",
      "----------------- Create time serie\n",
      "in this time series there is 22 hens\n",
      "The initial starting date in over all is: 2020-10-27 04:29:01, and the ending date will be: 2021-01-18 08:41:21\n",
      "But note that birds may have different ending and starting date which should be taken into account when computing variables\n",
      "and after ending the last day at midnight : 2020-10-27 04:29:01, and the ending date will be: 2021-01-18 23:59:59\n",
      "Total running time: 1.38 mn\n",
      "your time series has 1 seconds between two timestamps\n",
      "----------------- main night zone and nbr of transitions over night....\n",
      "----------------- total duration per Zone in seconds....\n",
      "----------------- first timestamp in each zone per day....\n",
      "----------------- number of Zone (excluding nan)....\n",
      "----------------- compute some variables based on a list of zones over a day....\n",
      "----------------NESTBOX\n"
     ]
    },
    {
     "name": "stderr",
     "output_type": "stream",
     "text": [
      "\n",
      "  0%|                                                                                           | 0/22 [00:00<?, ?it/s]\u001b[A\n",
      "  5%|███▊                                                                               | 1/22 [00:00<00:07,  2.89it/s]\u001b[A\n",
      "  9%|███████▌                                                                           | 2/22 [00:00<00:06,  2.88it/s]\u001b[A\n",
      " 14%|███████████▎                                                                       | 3/22 [00:00<00:06,  3.09it/s]\u001b[A\n",
      " 18%|███████████████                                                                    | 4/22 [00:01<00:05,  3.09it/s]\u001b[A\n",
      " 27%|██████████████████████▋                                                            | 6/22 [00:01<00:04,  3.40it/s]\u001b[A\n",
      " 32%|██████████████████████████▍                                                        | 7/22 [00:02<00:04,  3.16it/s]\u001b[A\n",
      " 36%|██████████████████████████████▏                                                    | 8/22 [00:02<00:06,  2.15it/s]\u001b[A\n",
      " 41%|█████████████████████████████████▉                                                 | 9/22 [00:03<00:05,  2.26it/s]\u001b[A\n",
      " 45%|█████████████████████████████████████▎                                            | 10/22 [00:04<00:06,  1.91it/s]\u001b[A\n",
      " 50%|█████████████████████████████████████████                                         | 11/22 [00:04<00:04,  2.27it/s]\u001b[A\n",
      " 55%|████████████████████████████████████████████▋                                     | 12/22 [00:04<00:04,  2.48it/s]\u001b[A\n",
      " 59%|████████████████████████████████████████████████▍                                 | 13/22 [00:04<00:03,  2.58it/s]\u001b[A\n",
      " 68%|███████████████████████████████████████████████████████▉                          | 15/22 [00:05<00:02,  3.17it/s]\u001b[A\n",
      " 73%|███████████████████████████████████████████████████████████▋                      | 16/22 [00:05<00:01,  3.03it/s]\u001b[A\n",
      " 77%|███████████████████████████████████████████████████████████████▎                  | 17/22 [00:05<00:01,  2.94it/s]\u001b[A\n",
      " 82%|███████████████████████████████████████████████████████████████████               | 18/22 [00:06<00:01,  3.15it/s]\u001b[A\n",
      " 86%|██████████████████████████████████████████████████████████████████████▊           | 19/22 [00:06<00:01,  2.75it/s]\u001b[A\n",
      " 91%|██████████████████████████████████████████████████████████████████████████▌       | 20/22 [00:06<00:00,  3.35it/s]\u001b[A\n",
      " 95%|██████████████████████████████████████████████████████████████████████████████▎   | 21/22 [00:07<00:00,  3.00it/s]\u001b[A\n",
      "100%|██████████████████████████████████████████████████████████████████████████████████| 22/22 [00:07<00:00,  2.91it/s]\u001b[A\n",
      "C:\\Users\\camil\\anaconda3\\lib\\site-packages\\numpy\\lib\\nanfunctions.py:1366: RuntimeWarning: Mean of empty slice\n",
      "  return np.nanmean(a, axis, out=out, keepdims=keepdims)\n"
     ]
    },
    {
     "name": "stdout",
     "output_type": "stream",
     "text": [
      "-------------- Lets remove unwanted dates at PENS level\n"
     ]
    },
    {
     "data": {
      "text/html": [
       "<text style=color:black>By removing the unwanted days we passed from 1792 to 1706 timestamp (losing </text> <text style=color:red>86</text> <text style=color:black> timestamp)</text>"
      ],
      "text/plain": [
       "<IPython.core.display.HTML object>"
      ]
     },
     "metadata": {},
     "output_type": "display_data"
    },
    {
     "name": "stdout",
     "output_type": "stream",
     "text": [
      "-------------- Lets remove dates that impacted few hens\n"
     ]
    },
    {
     "data": {
      "text/html": [
       "<text style=color:black>By removing the unwanted days we passed from 1706 to 1600 timestamp (losing </text> <text style=color:red>106</text> <text style=color:black> timestamp)</text>"
      ],
      "text/plain": [
       "<IPython.core.display.HTML object>"
      ]
     },
     "metadata": {},
     "output_type": "display_data"
    },
    {
     "name": "stdout",
     "output_type": "stream",
     "text": [
      "All the night variables are:  Index(['HenID', 'night_level', 'night_Max_duration_zones',\n",
      "       'night_Total_number_transition', 'level', 'PenID', 'CLASS', 'TagID',\n",
      "       'FocalLegringName', 'R-Pen', 'InitialStartDate', '29-09 weight',\n",
      "       '10-12 juin weight', 'weight 23-11-2020', 'weight 04-01-2021'],\n",
      "      dtype='object')\n",
      "['night_level']\n",
      "-------------- Lets remove dates of tags when they were not giving deviceupdate regularly\n"
     ]
    },
    {
     "data": {
      "text/html": [
       "<text style=color:black>By removing the unwanted days we passed from 1750 to 1728 timestamp (losing </text> <text style=color:red>22</text> <text style=color:black> timestamp)</text>"
      ],
      "text/plain": [
       "<IPython.core.display.HTML object>"
      ]
     },
     "metadata": {},
     "output_type": "display_data"
    },
    {
     "name": "stdout",
     "output_type": "stream",
     "text": [
      "-------------- Lets remove the 30.09.2020 for the tags taht still had no transition from before the light went on \n"
     ]
    },
    {
     "data": {
      "text/html": [
       "<text style=color:black>By removing the unwanted days we passed from 1728 to 1728 timestamp (losing </text> <text style=color:red>0</text> <text style=color:black> timestamp)</text>"
      ],
      "text/plain": [
       "<IPython.core.display.HTML object>"
      ]
     },
     "metadata": {},
     "output_type": "display_data"
    },
    {
     "name": "stdout",
     "output_type": "stream",
     "text": [
      "save\n"
     ]
    },
    {
     "name": "stderr",
     "output_type": "stream",
     "text": [
      "100%|█████████████████████████████████████████████████████████████████████████████████| 8/8 [1:26:22<00:00, 647.76s/it]\n",
      "  0%|                                                                                            | 0/8 [00:00<?, ?it/s]"
     ]
    },
    {
     "name": "stdout",
     "output_type": "stream",
     "text": [
      "Total running time: 10.51 mn\n",
      "(1728, 117)\n",
      "Total running time: 86.37 mn\n"
     ]
    },
    {
     "name": "stderr",
     "output_type": "stream",
     "text": [
      "\r",
      " 12%|██████████▌                                                                         | 1/8 [00:03<00:23,  3.31s/it]"
     ]
    },
    {
     "name": "stdout",
     "output_type": "stream",
     "text": [
      "(1732, 117)\n"
     ]
    },
    {
     "name": "stderr",
     "output_type": "stream",
     "text": [
      "\r",
      " 25%|█████████████████████                                                               | 2/8 [00:04<00:16,  2.82s/it]"
     ]
    },
    {
     "name": "stdout",
     "output_type": "stream",
     "text": [
      "(1728, 117)\n"
     ]
    },
    {
     "name": "stderr",
     "output_type": "stream",
     "text": [
      "\r",
      " 38%|███████████████████████████████▌                                                    | 3/8 [00:08<00:15,  3.10s/it]"
     ]
    },
    {
     "name": "stdout",
     "output_type": "stream",
     "text": [
      "(1784, 117)\n"
     ]
    },
    {
     "name": "stderr",
     "output_type": "stream",
     "text": [
      "\r",
      " 50%|██████████████████████████████████████████                                          | 4/8 [00:11<00:11,  2.95s/it]"
     ]
    },
    {
     "name": "stdout",
     "output_type": "stream",
     "text": [
      "(1733, 117)\n"
     ]
    },
    {
     "name": "stderr",
     "output_type": "stream",
     "text": [
      "\r",
      " 62%|████████████████████████████████████████████████████▌                               | 5/8 [00:13<00:08,  2.86s/it]"
     ]
    },
    {
     "name": "stdout",
     "output_type": "stream",
     "text": [
      "(1736, 117)\n"
     ]
    },
    {
     "name": "stderr",
     "output_type": "stream",
     "text": [
      "\r",
      " 75%|███████████████████████████████████████████████████████████████                     | 6/8 [00:16<00:05,  2.63s/it]"
     ]
    },
    {
     "name": "stdout",
     "output_type": "stream",
     "text": [
      "(1678, 117)\n"
     ]
    },
    {
     "name": "stderr",
     "output_type": "stream",
     "text": [
      "\r",
      " 88%|█████████████████████████████████████████████████████████████████████████▌          | 7/8 [00:19<00:02,  2.90s/it]"
     ]
    },
    {
     "name": "stdout",
     "output_type": "stream",
     "text": [
      "(1736, 117)\n"
     ]
    },
    {
     "name": "stderr",
     "output_type": "stream",
     "text": [
      "100%|████████████████████████████████████████████████████████████████████████████████████| 8/8 [00:21<00:00,  2.69s/it]"
     ]
    },
    {
     "name": "stdout",
     "output_type": "stream",
     "text": [
      "(1817, 117)\n"
     ]
    },
    {
     "name": "stderr",
     "output_type": "stream",
     "text": [
      "\n"
     ]
    },
    {
     "name": "stdout",
     "output_type": "stream",
     "text": [
      "(13944, 117)\n"
     ]
    },
    {
     "data": {
      "text/html": [
       "<div>\n",
       "<style scoped>\n",
       "    .dataframe tbody tr th:only-of-type {\n",
       "        vertical-align: middle;\n",
       "    }\n",
       "\n",
       "    .dataframe tbody tr th {\n",
       "        vertical-align: top;\n",
       "    }\n",
       "\n",
       "    .dataframe thead th {\n",
       "        text-align: right;\n",
       "    }\n",
       "</style>\n",
       "<table border=\"1\" class=\"dataframe\">\n",
       "  <thead>\n",
       "    <tr style=\"text-align: right;\">\n",
       "      <th></th>\n",
       "      <th>HenID</th>\n",
       "      <th>level</th>\n",
       "      <th>duration_1_Zone</th>\n",
       "      <th>duration_2_Zone</th>\n",
       "      <th>duration_3_Zone</th>\n",
       "      <th>duration_4_Zone</th>\n",
       "      <th>duration_5_Zone</th>\n",
       "      <th>verification_daily_total_duration</th>\n",
       "      <th>dur_values</th>\n",
       "      <th>dur_values_normalized</th>\n",
       "      <th>...</th>\n",
       "      <th>list_of_night20_2_temperature</th>\n",
       "      <th>nbr_temperature_nnnan</th>\n",
       "      <th>temperature_night20_2_median</th>\n",
       "      <th>temperature_night20_2_max</th>\n",
       "      <th>temperature_night20_2_var</th>\n",
       "      <th>list_of_MovementCounter_day</th>\n",
       "      <th>len_MovementCounter_day</th>\n",
       "      <th>MovementCounter_day_amount_nnactivity</th>\n",
       "      <th>MovementCounter_day_max</th>\n",
       "      <th>MovementCounter_day_mean</th>\n",
       "    </tr>\n",
       "  </thead>\n",
       "  <tbody>\n",
       "    <tr>\n",
       "      <th>0</th>\n",
       "      <td>hen_131</td>\n",
       "      <td>2020-10-27</td>\n",
       "      <td>2258.0</td>\n",
       "      <td>19862.0</td>\n",
       "      <td>17004.0</td>\n",
       "      <td>3204.0</td>\n",
       "      <td>872.0</td>\n",
       "      <td>43200.0</td>\n",
       "      <td>[2258.0, 19862.0, 17004.0, 3204.0, 872.0]</td>\n",
       "      <td>[0.05226851851851852, 0.4597685185185185, 0.39...</td>\n",
       "      <td>...</td>\n",
       "      <td>[29.0, 29.0, 30.0, 29.0, 29.0, 29.0, 29.0, 30....</td>\n",
       "      <td>36.0</td>\n",
       "      <td>29.0</td>\n",
       "      <td>30.0</td>\n",
       "      <td>0.212191</td>\n",
       "      <td>[41.0, 62.0, 72.0, 71.0, 63.0, 50.0, 36.0, 39....</td>\n",
       "      <td>72.0</td>\n",
       "      <td>0.000000</td>\n",
       "      <td>103.0</td>\n",
       "      <td>67.236111</td>\n",
       "    </tr>\n",
       "    <tr>\n",
       "      <th>1</th>\n",
       "      <td>hen_131</td>\n",
       "      <td>2020-10-28</td>\n",
       "      <td>3669.0</td>\n",
       "      <td>19439.0</td>\n",
       "      <td>17185.0</td>\n",
       "      <td>2504.0</td>\n",
       "      <td>403.0</td>\n",
       "      <td>43200.0</td>\n",
       "      <td>[3669.0, 19439.0, 17185.0, 2504.0, 403.0]</td>\n",
       "      <td>[0.08493055555555555, 0.4499768518518519, 0.39...</td>\n",
       "      <td>...</td>\n",
       "      <td>[28.0, 28.0, 28.0, 28.0, 28.0, 29.0, 29.0, 28....</td>\n",
       "      <td>36.0</td>\n",
       "      <td>29.0</td>\n",
       "      <td>29.0</td>\n",
       "      <td>0.212191</td>\n",
       "      <td>[45.0, 78.0, 59.0, 64.0, 52.0, 43.0, 43.0, 55....</td>\n",
       "      <td>72.0</td>\n",
       "      <td>0.000000</td>\n",
       "      <td>109.0</td>\n",
       "      <td>69.138889</td>\n",
       "    </tr>\n",
       "    <tr>\n",
       "      <th>2</th>\n",
       "      <td>hen_131</td>\n",
       "      <td>2020-10-29</td>\n",
       "      <td>2741.0</td>\n",
       "      <td>21189.0</td>\n",
       "      <td>19148.0</td>\n",
       "      <td>2727.0</td>\n",
       "      <td>995.0</td>\n",
       "      <td>46800.0</td>\n",
       "      <td>[2741.0, 21189.0, 19148.0, 2727.0, 995.0]</td>\n",
       "      <td>[0.05856837606837607, 0.4527564102564103, 0.40...</td>\n",
       "      <td>...</td>\n",
       "      <td>[29.0, 29.0, 29.0, 29.0, 29.0, 29.0, 29.0, 29....</td>\n",
       "      <td>36.0</td>\n",
       "      <td>29.0</td>\n",
       "      <td>29.0</td>\n",
       "      <td>0.076389</td>\n",
       "      <td>[18.0, 30.0, 30.0, 65.0, 48.0, 44.0, 66.0, 61....</td>\n",
       "      <td>78.0</td>\n",
       "      <td>0.012821</td>\n",
       "      <td>108.0</td>\n",
       "      <td>69.333333</td>\n",
       "    </tr>\n",
       "  </tbody>\n",
       "</table>\n",
       "<p>3 rows × 117 columns</p>\n",
       "</div>"
      ],
      "text/plain": [
       "     HenID      level  duration_1_Zone  duration_2_Zone  duration_3_Zone  \\\n",
       "0  hen_131 2020-10-27           2258.0          19862.0          17004.0   \n",
       "1  hen_131 2020-10-28           3669.0          19439.0          17185.0   \n",
       "2  hen_131 2020-10-29           2741.0          21189.0          19148.0   \n",
       "\n",
       "   duration_4_Zone  duration_5_Zone  verification_daily_total_duration  \\\n",
       "0           3204.0            872.0                            43200.0   \n",
       "1           2504.0            403.0                            43200.0   \n",
       "2           2727.0            995.0                            46800.0   \n",
       "\n",
       "                                  dur_values  \\\n",
       "0  [2258.0, 19862.0, 17004.0, 3204.0, 872.0]   \n",
       "1  [3669.0, 19439.0, 17185.0, 2504.0, 403.0]   \n",
       "2  [2741.0, 21189.0, 19148.0, 2727.0, 995.0]   \n",
       "\n",
       "                               dur_values_normalized  ...  \\\n",
       "0  [0.05226851851851852, 0.4597685185185185, 0.39...  ...   \n",
       "1  [0.08493055555555555, 0.4499768518518519, 0.39...  ...   \n",
       "2  [0.05856837606837607, 0.4527564102564103, 0.40...  ...   \n",
       "\n",
       "                       list_of_night20_2_temperature nbr_temperature_nnnan  \\\n",
       "0  [29.0, 29.0, 30.0, 29.0, 29.0, 29.0, 29.0, 30....                  36.0   \n",
       "1  [28.0, 28.0, 28.0, 28.0, 28.0, 29.0, 29.0, 28....                  36.0   \n",
       "2  [29.0, 29.0, 29.0, 29.0, 29.0, 29.0, 29.0, 29....                  36.0   \n",
       "\n",
       "  temperature_night20_2_median temperature_night20_2_max  \\\n",
       "0                         29.0                      30.0   \n",
       "1                         29.0                      29.0   \n",
       "2                         29.0                      29.0   \n",
       "\n",
       "  temperature_night20_2_var  \\\n",
       "0                  0.212191   \n",
       "1                  0.212191   \n",
       "2                  0.076389   \n",
       "\n",
       "                         list_of_MovementCounter_day len_MovementCounter_day  \\\n",
       "0  [41.0, 62.0, 72.0, 71.0, 63.0, 50.0, 36.0, 39....                    72.0   \n",
       "1  [45.0, 78.0, 59.0, 64.0, 52.0, 43.0, 43.0, 55....                    72.0   \n",
       "2  [18.0, 30.0, 30.0, 65.0, 48.0, 44.0, 66.0, 61....                    78.0   \n",
       "\n",
       "  MovementCounter_day_amount_nnactivity MovementCounter_day_max  \\\n",
       "0                              0.000000                   103.0   \n",
       "1                              0.000000                   109.0   \n",
       "2                              0.012821                   108.0   \n",
       "\n",
       "  MovementCounter_day_mean  \n",
       "0                67.236111  \n",
       "1                69.138889  \n",
       "2                69.333333  \n",
       "\n",
       "[3 rows x 117 columns]"
      ]
     },
     "execution_count": 9,
     "metadata": {},
     "output_type": "execute_result"
    }
   ],
   "source": [
    "############## raw dataset\n",
    "#open time series per session and compute the variables for each session (car time series make sence at session level), et en \n",
    "#plus des variables tel que running entropy over the whole session ateach last timestamp of each level make sence only at \n",
    "#session level\n",
    "#once to much data, do this per pen!!! with name=pens!!\n",
    "START_TIME = time.perf_counter()\n",
    "df_ = df[(df['date']<date_max)&(df['date']>date_min)].copy()\n",
    "df_.rename(columns={'Trackingsystem_Zone':'Zone'}, inplace=True)\n",
    "display(df_.head(2))\n",
    "for p in tqdm.tqdm(df_['PenID'].unique()):\n",
    "    df_daily = HenDailyVariable_Origins(df_[df_['PenID']==p], config, name_='RAW_'+p, timestamp_name='Timestamp',\n",
    "                                       has_cons_equal_zone=True)\n",
    "    print(df_daily.shape)\n",
    "    df_daily.head(3)\n",
    "END_TIME = time.perf_counter()\n",
    "print (\"Total running time: %.2f mn\" %((END_TIME-START_TIME)/60))  \n",
    "\n",
    "#Concatenate all HenVariables csv into one\n",
    "li_paths_var = glob.glob(os.path.join(path_extracted_data, id_run+'_daily__RAW'+'*_variables.csv'))\n",
    "li_df = []\n",
    "for path_var in tqdm.tqdm(li_paths_var):\n",
    "    #for being more reproductible, we open the file that was saved from cleaning\n",
    "    df_ = pd.read_csv(path_var, sep=';',parse_dates=['level', 'FirstTimestamp_1_Zone', 'FirstTimestamp_2_Zone', \n",
    "                                                     'FirstTimestamp_3_Zone','FirstTimestamp_4_Zone',\n",
    "                                                     'FirstTimestamp_5_Zone']) \n",
    "    print(df_.shape)\n",
    "    li_df.append(df_)\n",
    "df_daily = pd.concat(li_df)\n",
    "df_daily.to_csv(os.path.join(path_extracted_data, id_run+'_daily_RAW_ALL_variables.csv'), sep=';', index=False)\n",
    "print(df_daily.shape)\n",
    "df_daily.head(3)"
   ]
  },
  {
   "cell_type": "code",
   "execution_count": 12,
   "metadata": {},
   "outputs": [
    {
     "name": "stderr",
     "output_type": "stream",
     "text": [
      "C:\\Users\\camil\\anaconda3\\lib\\site-packages\\ipykernel\\ipkernel.py:283: DeprecationWarning: `should_run_async` will not call `transform_cell` automatically in the future. Please pass the result to `transformed_cell` argument and any exception that happen during thetransform in `preprocessing_exc_tuple` in IPython 7.17 and above.\n",
      "  and should_run_async(code)\n"
     ]
    },
    {
     "name": "stdout",
     "output_type": "stream",
     "text": [
      "(13944, 118) (13944, 118) (27888, 118)\n",
      "(27888, 118)\n"
     ]
    },
    {
     "data": {
      "text/html": [
       "<div>\n",
       "<style scoped>\n",
       "    .dataframe tbody tr th:only-of-type {\n",
       "        vertical-align: middle;\n",
       "    }\n",
       "\n",
       "    .dataframe tbody tr th {\n",
       "        vertical-align: top;\n",
       "    }\n",
       "\n",
       "    .dataframe thead th {\n",
       "        text-align: right;\n",
       "    }\n",
       "</style>\n",
       "<table border=\"1\" class=\"dataframe\">\n",
       "  <thead>\n",
       "    <tr style=\"text-align: right;\">\n",
       "      <th></th>\n",
       "      <th>HenID</th>\n",
       "      <th>level</th>\n",
       "      <th>duration_1_Zone</th>\n",
       "      <th>duration_2_Zone</th>\n",
       "      <th>duration_3_Zone</th>\n",
       "      <th>duration_4_Zone</th>\n",
       "      <th>duration_5_Zone</th>\n",
       "      <th>verification_daily_total_duration</th>\n",
       "      <th>dur_values</th>\n",
       "      <th>dur_values_normalized</th>\n",
       "      <th>...</th>\n",
       "      <th>nbr_temperature_nnnan</th>\n",
       "      <th>temperature_night20_2_median</th>\n",
       "      <th>temperature_night20_2_max</th>\n",
       "      <th>temperature_night20_2_var</th>\n",
       "      <th>list_of_MovementCounter_day</th>\n",
       "      <th>len_MovementCounter_day</th>\n",
       "      <th>MovementCounter_day_amount_nnactivity</th>\n",
       "      <th>MovementCounter_day_max</th>\n",
       "      <th>MovementCounter_day_mean</th>\n",
       "      <th>type</th>\n",
       "    </tr>\n",
       "  </thead>\n",
       "  <tbody>\n",
       "    <tr>\n",
       "      <th>0</th>\n",
       "      <td>hen_131</td>\n",
       "      <td>2020-10-27</td>\n",
       "      <td>2258.0</td>\n",
       "      <td>19888.0</td>\n",
       "      <td>16978.0</td>\n",
       "      <td>3204.0</td>\n",
       "      <td>872.0</td>\n",
       "      <td>43200.0</td>\n",
       "      <td>[2258.0, 19888.0, 16978.0, 3204.0, 872.0]</td>\n",
       "      <td>[0.05226851851851852, 0.4603703703703704, 0.39...</td>\n",
       "      <td>...</td>\n",
       "      <td>36.0</td>\n",
       "      <td>29.0</td>\n",
       "      <td>30.0</td>\n",
       "      <td>0.212191</td>\n",
       "      <td>[41.0, 62.0, 72.0, 71.0, 63.0, 50.0, 36.0, 39....</td>\n",
       "      <td>72.0</td>\n",
       "      <td>0.000000</td>\n",
       "      <td>103.0</td>\n",
       "      <td>67.236111</td>\n",
       "      <td>cleaning</td>\n",
       "    </tr>\n",
       "    <tr>\n",
       "      <th>1</th>\n",
       "      <td>hen_131</td>\n",
       "      <td>2020-10-28</td>\n",
       "      <td>3643.0</td>\n",
       "      <td>19470.0</td>\n",
       "      <td>17180.0</td>\n",
       "      <td>2504.0</td>\n",
       "      <td>403.0</td>\n",
       "      <td>43200.0</td>\n",
       "      <td>[3643.0, 19470.0, 17180.0, 2504.0, 403.0]</td>\n",
       "      <td>[0.0843287037037037, 0.45069444444444445, 0.39...</td>\n",
       "      <td>...</td>\n",
       "      <td>36.0</td>\n",
       "      <td>29.0</td>\n",
       "      <td>29.0</td>\n",
       "      <td>0.212191</td>\n",
       "      <td>[45.0, 78.0, 59.0, 64.0, 52.0, 43.0, 43.0, 55....</td>\n",
       "      <td>72.0</td>\n",
       "      <td>0.000000</td>\n",
       "      <td>109.0</td>\n",
       "      <td>69.138889</td>\n",
       "      <td>cleaning</td>\n",
       "    </tr>\n",
       "    <tr>\n",
       "      <th>2</th>\n",
       "      <td>hen_131</td>\n",
       "      <td>2020-10-29</td>\n",
       "      <td>2642.0</td>\n",
       "      <td>21300.0</td>\n",
       "      <td>19136.0</td>\n",
       "      <td>2727.0</td>\n",
       "      <td>995.0</td>\n",
       "      <td>46800.0</td>\n",
       "      <td>[2642.0, 21300.0, 19136.0, 2727.0, 995.0]</td>\n",
       "      <td>[0.05645299145299145, 0.4551282051282051, 0.40...</td>\n",
       "      <td>...</td>\n",
       "      <td>36.0</td>\n",
       "      <td>29.0</td>\n",
       "      <td>29.0</td>\n",
       "      <td>0.076389</td>\n",
       "      <td>[18.0, 30.0, 30.0, 65.0, 48.0, 44.0, 66.0, 61....</td>\n",
       "      <td>78.0</td>\n",
       "      <td>0.012821</td>\n",
       "      <td>108.0</td>\n",
       "      <td>69.333333</td>\n",
       "      <td>cleaning</td>\n",
       "    </tr>\n",
       "  </tbody>\n",
       "</table>\n",
       "<p>3 rows × 118 columns</p>\n",
       "</div>"
      ],
      "text/plain": [
       "     HenID      level  duration_1_Zone  duration_2_Zone  duration_3_Zone  \\\n",
       "0  hen_131 2020-10-27           2258.0          19888.0          16978.0   \n",
       "1  hen_131 2020-10-28           3643.0          19470.0          17180.0   \n",
       "2  hen_131 2020-10-29           2642.0          21300.0          19136.0   \n",
       "\n",
       "   duration_4_Zone  duration_5_Zone  verification_daily_total_duration  \\\n",
       "0           3204.0            872.0                            43200.0   \n",
       "1           2504.0            403.0                            43200.0   \n",
       "2           2727.0            995.0                            46800.0   \n",
       "\n",
       "                                  dur_values  \\\n",
       "0  [2258.0, 19888.0, 16978.0, 3204.0, 872.0]   \n",
       "1  [3643.0, 19470.0, 17180.0, 2504.0, 403.0]   \n",
       "2  [2642.0, 21300.0, 19136.0, 2727.0, 995.0]   \n",
       "\n",
       "                               dur_values_normalized  ...  \\\n",
       "0  [0.05226851851851852, 0.4603703703703704, 0.39...  ...   \n",
       "1  [0.0843287037037037, 0.45069444444444445, 0.39...  ...   \n",
       "2  [0.05645299145299145, 0.4551282051282051, 0.40...  ...   \n",
       "\n",
       "  nbr_temperature_nnnan temperature_night20_2_median  \\\n",
       "0                  36.0                         29.0   \n",
       "1                  36.0                         29.0   \n",
       "2                  36.0                         29.0   \n",
       "\n",
       "  temperature_night20_2_max temperature_night20_2_var  \\\n",
       "0                      30.0                  0.212191   \n",
       "1                      29.0                  0.212191   \n",
       "2                      29.0                  0.076389   \n",
       "\n",
       "                         list_of_MovementCounter_day  len_MovementCounter_day  \\\n",
       "0  [41.0, 62.0, 72.0, 71.0, 63.0, 50.0, 36.0, 39....                     72.0   \n",
       "1  [45.0, 78.0, 59.0, 64.0, 52.0, 43.0, 43.0, 55....                     72.0   \n",
       "2  [18.0, 30.0, 30.0, 65.0, 48.0, 44.0, 66.0, 61....                     78.0   \n",
       "\n",
       "  MovementCounter_day_amount_nnactivity MovementCounter_day_max  \\\n",
       "0                              0.000000                   103.0   \n",
       "1                              0.000000                   109.0   \n",
       "2                              0.012821                   108.0   \n",
       "\n",
       "  MovementCounter_day_mean      type  \n",
       "0                67.236111  cleaning  \n",
       "1                69.138889  cleaning  \n",
       "2                69.333333  cleaning  \n",
       "\n",
       "[3 rows x 118 columns]"
      ]
     },
     "execution_count": 12,
     "metadata": {},
     "output_type": "execute_result"
    }
   ],
   "source": [
    "#for being more reproductible, we open the file that was saved from cleaning\n",
    "df_c = pd.read_csv(os.path.join(path_extracted_data, id_run+'_daily_CLEANING_ALL_variables.csv'), sep=';', parse_dates=['level'],\n",
    "                 dayfirst=True) \n",
    "df_c['type'] = 'cleaning'\n",
    "df_r = pd.read_csv(os.path.join(path_extracted_data, id_run+'_daily_RAW_ALL_variables.csv'), sep=';', parse_dates=['level'],\n",
    "                 dayfirst=True) \n",
    "df_r['type'] = 'raw'\n",
    "df_var = pd.concat([df_c,df_r])\n",
    "df_var.to_csv(os.path.join(path_extracted_data_cleaning_rawvscleaned,'daily_ALL_variables.csv'), sep=';', index=False)\n",
    "print(df_r.shape,df_c.shape,df_var.shape)\n",
    "print(df_var.shape)\n",
    "df_var.head(3)"
   ]
  },
  {
   "cell_type": "code",
   "execution_count": 13,
   "metadata": {},
   "outputs": [
    {
     "name": "stderr",
     "output_type": "stream",
     "text": [
      "C:\\Users\\camil\\anaconda3\\lib\\site-packages\\ipykernel\\ipkernel.py:283: DeprecationWarning: `should_run_async` will not call `transform_cell` automatically in the future. Please pass the result to `transformed_cell` argument and any exception that happen during thetransform in `preprocessing_exc_tuple` in IPython 7.17 and above.\n",
      "  and should_run_async(code)\n"
     ]
    },
    {
     "data": {
      "text/plain": [
       "(numpy.datetime64('2020-10-26T00:00:00.000000000'),\n",
       " numpy.datetime64('2021-01-18T00:00:00.000000000'))"
      ]
     },
     "execution_count": 13,
     "metadata": {},
     "output_type": "execute_result"
    }
   ],
   "source": [
    "min(df_var['level'].unique()), max(df_var['level'].unique())"
   ]
  },
  {
   "cell_type": "markdown",
   "metadata": {},
   "source": [
    "df_var.sort_values(['duration_5_Zone','HenID'], inplace=True)\n",
    "df_var['in_WG_15mnAfterOpening'] = df_var['in_WG_15mnAfterOpening'].astype(float)\n",
    "li_var = ['duration_5_Zone','duration_4_Zone','duration_3_Zone','duration_2_Zone', #duration variables\n",
    "          'nbr_bouts_1_Zone','in_WG_15mnAfterOpening', #garden variables\n",
    "          'night_Total_number_transition','Total_number_transition'] #transition variables\n",
    "df_hm = df_var[li_var+['HenID','level','type']]\n",
    "df_hm = df_hm[~df_hm.isna().any(axis=1)]\n",
    "df_sel_hen = df_hm.groupby(['HenID'])['level'].count().reset_index()\n",
    "nbr = max(df_sel_hen['level'].unique())\n",
    "li_sel_hen = df_sel_hen[df_sel_hen['level']==max(df_sel_hen['level'].unique())]['HenID'].tolist()\n",
    "print('We have %d hens with %d days having 0 nan'%(len(li_sel_hen),nbr))\n",
    "df_hm = df_hm[df_hm['HenID'].isin(li_sel_hen)]\n",
    "df_hm.head(3)"
   ]
  },
  {
   "cell_type": "code",
   "execution_count": null,
   "metadata": {},
   "outputs": [],
   "source": []
  },
  {
   "cell_type": "code",
   "execution_count": null,
   "metadata": {},
   "outputs": [],
   "source": []
  },
  {
   "cell_type": "code",
   "execution_count": null,
   "metadata": {},
   "outputs": [],
   "source": []
  },
  {
   "cell_type": "code",
   "execution_count": null,
   "metadata": {},
   "outputs": [],
   "source": []
  },
  {
   "cell_type": "code",
   "execution_count": null,
   "metadata": {},
   "outputs": [],
   "source": []
  },
  {
   "cell_type": "code",
   "execution_count": null,
   "metadata": {},
   "outputs": [],
   "source": []
  }
 ],
 "metadata": {
  "kernelspec": {
   "display_name": "Python 3",
   "language": "python",
   "name": "python3"
  },
  "language_info": {
   "codemirror_mode": {
    "name": "ipython",
    "version": 3
   },
   "file_extension": ".py",
   "mimetype": "text/x-python",
   "name": "python",
   "nbconvert_exporter": "python",
   "pygments_lexer": "ipython3",
   "version": "3.8.5"
  }
 },
 "nbformat": 4,
 "nbformat_minor": 2
}
