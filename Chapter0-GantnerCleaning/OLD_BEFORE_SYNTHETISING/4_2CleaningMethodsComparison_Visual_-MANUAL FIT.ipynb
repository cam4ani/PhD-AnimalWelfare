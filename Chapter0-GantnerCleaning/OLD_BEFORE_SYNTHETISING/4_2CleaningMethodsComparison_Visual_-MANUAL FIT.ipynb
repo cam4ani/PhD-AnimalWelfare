{
 "cells": [
  {
   "cell_type": "code",
   "execution_count": 1,
   "metadata": {},
   "outputs": [],
   "source": [
    "#basic package\n",
    "import tqdm\n",
    "import os\n",
    "import numpy as np\n",
    "import glob\n",
    "import pandas as pd\n",
    "import sys\n",
    "import time\n",
    "import datetime as dt\n",
    "import collections\n",
    "from collections import Counter\n",
    "import math\n",
    "import random\n",
    "import uuid #generate random id\n",
    "\n",
    "#modelling\n",
    "from sklearn.model_selection import train_test_split\n",
    "from sklearn.metrics import classification_report, mean_squared_error, mean_absolute_error, explained_variance_score\n",
    "#catboost, for a better support of categorical data\n",
    "from catboost import CatBoostClassifier\n",
    "\n",
    "#correaltion  test of transitions\n",
    "import scipy\n",
    "from scipy.stats import t\n",
    "\n",
    "#visuals\n",
    "import matplotlib.pyplot as plt\n",
    "import seaborn as sns"
   ]
  },
  {
   "cell_type": "code",
   "execution_count": 2,
   "metadata": {},
   "outputs": [
    {
     "name": "stderr",
     "output_type": "stream",
     "text": [
      "C:\\Users\\camil\\anaconda3\\lib\\site-packages\\scipy\\sparse\\sparsetools.py:21: DeprecationWarning: `scipy.sparse.sparsetools` is deprecated!\n",
      "scipy.sparse.sparsetools is a private module for scipy.sparse, and should not be used.\n",
      "  _deprecated()\n"
     ]
    }
   ],
   "source": [
    "PACKAGE_PARENT = '../'\n",
    "SCRIPT_DIR = os.path.dirname(os.path.realpath(os.path.join(os.getcwd(), os.path.expanduser('__file__'))))\n",
    "sys.path.append(os.path.normpath(os.path.join(SCRIPT_DIR, PACKAGE_PARENT)))\n",
    "from UTILS import dict_of_zones_appearances_with_transitionalZones, res_intodico\n",
    "import config_origins as config"
   ]
  },
  {
   "cell_type": "code",
   "execution_count": 3,
   "metadata": {},
   "outputs": [
    {
     "name": "stderr",
     "output_type": "stream",
     "text": [
      "C:\\Users\\camil\\anaconda3\\lib\\site-packages\\ipykernel\\ipkernel.py:283: DeprecationWarning: `should_run_async` will not call `transform_cell` automatically in the future. Please pass the result to `transformed_cell` argument and any exception that happen during thetransform in `preprocessing_exc_tuple` in IPython 7.17 and above.\n",
      "  and should_run_async(code)\n"
     ]
    }
   ],
   "source": [
    "#avoid this warnign until its fixed in IPykernel ; DeprecationWarning: `should_run_async` will not call `transform_cell` automatically in the future. \n",
    "import warnings\n",
    "warnings.filterwarnings(\"ignore\", category=DeprecationWarning)"
   ]
  },
  {
   "cell_type": "code",
   "execution_count": 4,
   "metadata": {},
   "outputs": [],
   "source": [
    "#define parameters\n",
    "path_extracted_data = config.path_extracted_data\n",
    "path_initial_data = config.path_initial_data\n",
    "id_run = config.id_run\n",
    "#id_run = 'chapter0_'\n",
    "dico_matching = config.dico_matching\n",
    "dico_garden_opening_hour = config.dico_garden_opening_hour\n",
    "dico_BatchID_endhour = config.dico_BatchID_endhour\n",
    "path_extracted_data_cleaning = os.path.join(path_extracted_data,'Cleaning')    \n",
    "#color names in searborn:\n",
    "#https://python-graph-gallery.com/100-calling-a-color-with-seaborn/\n",
    "pal_ = config.pal_"
   ]
  },
  {
   "cell_type": "markdown",
   "metadata": {},
   "source": [
    "# Download Input Data"
   ]
  },
  {
   "cell_type": "code",
   "execution_count": 5,
   "metadata": {},
   "outputs": [
    {
     "name": "stdout",
     "output_type": "stream",
     "text": [
      "(2268, 39)\n"
     ]
    },
    {
     "data": {
      "text/html": [
       "<div>\n",
       "<style scoped>\n",
       "    .dataframe tbody tr th:only-of-type {\n",
       "        vertical-align: middle;\n",
       "    }\n",
       "\n",
       "    .dataframe tbody tr th {\n",
       "        vertical-align: top;\n",
       "    }\n",
       "\n",
       "    .dataframe thead th {\n",
       "        text-align: right;\n",
       "    }\n",
       "</style>\n",
       "<table border=\"1\" class=\"dataframe\">\n",
       "  <thead>\n",
       "    <tr style=\"text-align: right;\">\n",
       "      <th></th>\n",
       "      <th>accuracy</th>\n",
       "      <th>support</th>\n",
       "      <th>macroavg_precision</th>\n",
       "      <th>macroavg_recall</th>\n",
       "      <th>macroavg_f1</th>\n",
       "      <th>weightedavg_precision</th>\n",
       "      <th>weightedavg_recall</th>\n",
       "      <th>weightedavg_f1</th>\n",
       "      <th>2_Zone_precision</th>\n",
       "      <th>2_Zone_recall</th>\n",
       "      <th>...</th>\n",
       "      <th>CPairID</th>\n",
       "      <th>RMSE</th>\n",
       "      <th>MAE</th>\n",
       "      <th>explained_variance_score</th>\n",
       "      <th>Spearmanr_correlation_coefficient</th>\n",
       "      <th>Spearmanr_correlation_pvalue</th>\n",
       "      <th>1_Zone_precision</th>\n",
       "      <th>1_Zone_recall</th>\n",
       "      <th>1_Zone_f1-score</th>\n",
       "      <th>1_Zone_support</th>\n",
       "    </tr>\n",
       "  </thead>\n",
       "  <tbody>\n",
       "    <tr>\n",
       "      <th>0</th>\n",
       "      <td>0.990674</td>\n",
       "      <td>49327</td>\n",
       "      <td>0.989783</td>\n",
       "      <td>0.987169</td>\n",
       "      <td>0.988240</td>\n",
       "      <td>0.989783</td>\n",
       "      <td>0.987169</td>\n",
       "      <td>0.988240</td>\n",
       "      <td>1.000000</td>\n",
       "      <td>0.999657</td>\n",
       "      <td>...</td>\n",
       "      <td>0</td>\n",
       "      <td>NaN</td>\n",
       "      <td>NaN</td>\n",
       "      <td>NaN</td>\n",
       "      <td>NaN</td>\n",
       "      <td>NaN</td>\n",
       "      <td>NaN</td>\n",
       "      <td>NaN</td>\n",
       "      <td>NaN</td>\n",
       "      <td>NaN</td>\n",
       "    </tr>\n",
       "    <tr>\n",
       "      <th>1</th>\n",
       "      <td>0.999696</td>\n",
       "      <td>49327</td>\n",
       "      <td>0.999657</td>\n",
       "      <td>0.999592</td>\n",
       "      <td>0.999624</td>\n",
       "      <td>0.999657</td>\n",
       "      <td>0.999592</td>\n",
       "      <td>0.999624</td>\n",
       "      <td>1.000000</td>\n",
       "      <td>1.000000</td>\n",
       "      <td>...</td>\n",
       "      <td>0</td>\n",
       "      <td>NaN</td>\n",
       "      <td>NaN</td>\n",
       "      <td>NaN</td>\n",
       "      <td>NaN</td>\n",
       "      <td>NaN</td>\n",
       "      <td>NaN</td>\n",
       "      <td>NaN</td>\n",
       "      <td>NaN</td>\n",
       "      <td>NaN</td>\n",
       "    </tr>\n",
       "    <tr>\n",
       "      <th>2</th>\n",
       "      <td>0.972307</td>\n",
       "      <td>49327</td>\n",
       "      <td>0.970441</td>\n",
       "      <td>0.969374</td>\n",
       "      <td>0.969676</td>\n",
       "      <td>0.970441</td>\n",
       "      <td>0.969374</td>\n",
       "      <td>0.969676</td>\n",
       "      <td>0.988659</td>\n",
       "      <td>0.982555</td>\n",
       "      <td>...</td>\n",
       "      <td>0</td>\n",
       "      <td>NaN</td>\n",
       "      <td>NaN</td>\n",
       "      <td>NaN</td>\n",
       "      <td>NaN</td>\n",
       "      <td>NaN</td>\n",
       "      <td>NaN</td>\n",
       "      <td>NaN</td>\n",
       "      <td>NaN</td>\n",
       "      <td>NaN</td>\n",
       "    </tr>\n",
       "  </tbody>\n",
       "</table>\n",
       "<p>3 rows × 39 columns</p>\n",
       "</div>"
      ],
      "text/plain": [
       "   accuracy  support  macroavg_precision  macroavg_recall  macroavg_f1  \\\n",
       "0  0.990674    49327            0.989783         0.987169     0.988240   \n",
       "1  0.999696    49327            0.999657         0.999592     0.999624   \n",
       "2  0.972307    49327            0.970441         0.969374     0.969676   \n",
       "\n",
       "   weightedavg_precision  weightedavg_recall  weightedavg_f1  \\\n",
       "0               0.989783            0.987169        0.988240   \n",
       "1               0.999657            0.999592        0.999624   \n",
       "2               0.970441            0.969374        0.969676   \n",
       "\n",
       "   2_Zone_precision  2_Zone_recall  ...  CPairID  RMSE  MAE  \\\n",
       "0          1.000000       0.999657  ...        0   NaN  NaN   \n",
       "1          1.000000       1.000000  ...        0   NaN  NaN   \n",
       "2          0.988659       0.982555  ...        0   NaN  NaN   \n",
       "\n",
       "   explained_variance_score  Spearmanr_correlation_coefficient  \\\n",
       "0                       NaN                                NaN   \n",
       "1                       NaN                                NaN   \n",
       "2                       NaN                                NaN   \n",
       "\n",
       "   Spearmanr_correlation_pvalue  1_Zone_precision  1_Zone_recall  \\\n",
       "0                           NaN               NaN            NaN   \n",
       "1                           NaN               NaN            NaN   \n",
       "2                           NaN               NaN            NaN   \n",
       "\n",
       "   1_Zone_f1-score  1_Zone_support  \n",
       "0              NaN             NaN  \n",
       "1              NaN             NaN  \n",
       "2              NaN             NaN  \n",
       "\n",
       "[3 rows x 39 columns]"
      ]
     },
     "execution_count": 5,
     "metadata": {},
     "output_type": "execute_result"
    }
   ],
   "source": [
    "df_results = pd.read_csv(os.path.join(path_extracted_data_cleaning,'ModelComparison_RESULTS.csv'), sep=';')\n",
    "dico_meth_name = {'Trackingsystem_Zone':'Unprocessed records', \n",
    "                  'Model_Zone':'ML-dataset', \n",
    "                  'Binning_Zone':'BIN-dataset',\n",
    "                  'ThresholdOnDuration_Zone':'TD-dataset'}\n",
    "df_results['method'] = df_results['method'].map(lambda x: dico_meth_name[x])\n",
    "print(df_results.shape)\n",
    "df_results.head(3)"
   ]
  },
  {
   "cell_type": "code",
   "execution_count": 6,
   "metadata": {},
   "outputs": [
    {
     "name": "stdout",
     "output_type": "stream",
     "text": [
      "(210, 7)\n"
     ]
    },
    {
     "data": {
      "text/html": [
       "<div>\n",
       "<style scoped>\n",
       "    .dataframe tbody tr th:only-of-type {\n",
       "        vertical-align: middle;\n",
       "    }\n",
       "\n",
       "    .dataframe tbody tr th {\n",
       "        vertical-align: top;\n",
       "    }\n",
       "\n",
       "    .dataframe thead th {\n",
       "        text-align: right;\n",
       "    }\n",
       "</style>\n",
       "<table border=\"1\" class=\"dataframe\">\n",
       "  <thead>\n",
       "    <tr style=\"text-align: right;\">\n",
       "      <th></th>\n",
       "      <th>BatchID</th>\n",
       "      <th>variable</th>\n",
       "      <th>ThresholdOnDuration_Zone</th>\n",
       "      <th>Binning_Zone</th>\n",
       "      <th>Observed_Zone</th>\n",
       "      <th>Model_Zone</th>\n",
       "      <th>Trackingsystem_Zone</th>\n",
       "    </tr>\n",
       "  </thead>\n",
       "  <tbody>\n",
       "    <tr>\n",
       "      <th>0</th>\n",
       "      <td>ID1</td>\n",
       "      <td>2_Zone</td>\n",
       "      <td>3</td>\n",
       "      <td>3</td>\n",
       "      <td>3</td>\n",
       "      <td>3</td>\n",
       "      <td>5</td>\n",
       "    </tr>\n",
       "    <tr>\n",
       "      <th>1</th>\n",
       "      <td>ID10</td>\n",
       "      <td>2_Zone</td>\n",
       "      <td>3</td>\n",
       "      <td>3</td>\n",
       "      <td>3</td>\n",
       "      <td>3</td>\n",
       "      <td>3</td>\n",
       "    </tr>\n",
       "    <tr>\n",
       "      <th>2</th>\n",
       "      <td>ID11</td>\n",
       "      <td>2_Zone</td>\n",
       "      <td>2</td>\n",
       "      <td>3</td>\n",
       "      <td>2</td>\n",
       "      <td>2</td>\n",
       "      <td>4</td>\n",
       "    </tr>\n",
       "  </tbody>\n",
       "</table>\n",
       "</div>"
      ],
      "text/plain": [
       "  BatchID variable  ThresholdOnDuration_Zone  Binning_Zone  Observed_Zone  \\\n",
       "0     ID1   2_Zone                         3             3              3   \n",
       "1    ID10   2_Zone                         3             3              3   \n",
       "2    ID11   2_Zone                         2             3              2   \n",
       "\n",
       "   Model_Zone  Trackingsystem_Zone  \n",
       "0           3                    5  \n",
       "1           3                    3  \n",
       "2           2                    4  "
      ]
     },
     "execution_count": 6,
     "metadata": {},
     "output_type": "execute_result"
    }
   ],
   "source": [
    "#for more detiled plot (with regression line)\n",
    "df_rel_transitions = pd.read_csv(os.path.join(path_extracted_data_cleaning, 'reliability_transition.csv'), sep=';')\n",
    "print(df_rel_transitions.shape)\n",
    "df_rel_transitions.head(3)"
   ]
  },
  {
   "cell_type": "code",
   "execution_count": 7,
   "metadata": {},
   "outputs": [
    {
     "data": {
      "text/plain": [
       "42"
      ]
     },
     "execution_count": 7,
     "metadata": {},
     "output_type": "execute_result"
    }
   ],
   "source": [
    "nbr_batch = len(df_rel_transitions['BatchID'].unique())\n",
    "nbr_batch"
   ]
  },
  {
   "cell_type": "markdown",
   "metadata": {},
   "source": [
    "# Stability Visuals"
   ]
  },
  {
   "cell_type": "markdown",
   "metadata": {},
   "source": [
    "### 1sec categorical time serie"
   ]
  },
  {
   "cell_type": "code",
   "execution_count": 8,
   "metadata": {},
   "outputs": [
    {
     "data": {
      "text/html": [
       "<div>\n",
       "<style scoped>\n",
       "    .dataframe tbody tr th:only-of-type {\n",
       "        vertical-align: middle;\n",
       "    }\n",
       "\n",
       "    .dataframe tbody tr th {\n",
       "        vertical-align: top;\n",
       "    }\n",
       "\n",
       "    .dataframe thead th {\n",
       "        text-align: right;\n",
       "    }\n",
       "</style>\n",
       "<table border=\"1\" class=\"dataframe\">\n",
       "  <thead>\n",
       "    <tr style=\"text-align: right;\">\n",
       "      <th></th>\n",
       "      <th>method</th>\n",
       "      <th>accuracy</th>\n",
       "      <th>nbr_batch</th>\n",
       "      <th>runID</th>\n",
       "      <th>li_batch_selected</th>\n",
       "    </tr>\n",
       "  </thead>\n",
       "  <tbody>\n",
       "    <tr>\n",
       "      <th>0</th>\n",
       "      <td>Unprocessed records</td>\n",
       "      <td>0.990674</td>\n",
       "      <td>7</td>\n",
       "      <td>000f95f4-9e99-11eb-a877-089798b63972</td>\n",
       "      <td>['ID35', 'ID15', 'ID21', 'ID19', 'ID16', 'ID8'...</td>\n",
       "    </tr>\n",
       "    <tr>\n",
       "      <th>1</th>\n",
       "      <td>ML-dataset</td>\n",
       "      <td>0.999696</td>\n",
       "      <td>7</td>\n",
       "      <td>000f95f4-9e99-11eb-a877-089798b63972</td>\n",
       "      <td>['ID35', 'ID15', 'ID21', 'ID19', 'ID16', 'ID8'...</td>\n",
       "    </tr>\n",
       "    <tr>\n",
       "      <th>2</th>\n",
       "      <td>BIN-dataset</td>\n",
       "      <td>0.972307</td>\n",
       "      <td>7</td>\n",
       "      <td>000f95f4-9e99-11eb-a877-089798b63972</td>\n",
       "      <td>['ID35', 'ID15', 'ID21', 'ID19', 'ID16', 'ID8'...</td>\n",
       "    </tr>\n",
       "  </tbody>\n",
       "</table>\n",
       "</div>"
      ],
      "text/plain": [
       "                method  accuracy  nbr_batch  \\\n",
       "0  Unprocessed records  0.990674          7   \n",
       "1           ML-dataset  0.999696          7   \n",
       "2          BIN-dataset  0.972307          7   \n",
       "\n",
       "                                  runID  \\\n",
       "0  000f95f4-9e99-11eb-a877-089798b63972   \n",
       "1  000f95f4-9e99-11eb-a877-089798b63972   \n",
       "2  000f95f4-9e99-11eb-a877-089798b63972   \n",
       "\n",
       "                                   li_batch_selected  \n",
       "0  ['ID35', 'ID15', 'ID21', 'ID19', 'ID16', 'ID8'...  \n",
       "1  ['ID35', 'ID15', 'ID21', 'ID19', 'ID16', 'ID8'...  \n",
       "2  ['ID35', 'ID15', 'ID21', 'ID19', 'ID16', 'ID8'...  "
      ]
     },
     "metadata": {},
     "output_type": "display_data"
    },
    {
     "name": "stdout",
     "output_type": "stream",
     "text": [
      "(560, 6)\n"
     ]
    },
    {
     "name": "stderr",
     "output_type": "stream",
     "text": [
      "<ipython-input-8-de5bc58ec10e>:6: FutureWarning: Indexing with multiple keys (implicitly converted to a tuple of keys) will be deprecated, use a list instead.\n",
      "  df_acc_diff = df_.groupby(['runID','method','nbr_batch'])['accuracy','li_batch_selected'].agg(lambda x: list(x)).reset_index()\n"
     ]
    },
    {
     "data": {
      "text/html": [
       "<div>\n",
       "<style scoped>\n",
       "    .dataframe tbody tr th:only-of-type {\n",
       "        vertical-align: middle;\n",
       "    }\n",
       "\n",
       "    .dataframe tbody tr th {\n",
       "        vertical-align: top;\n",
       "    }\n",
       "\n",
       "    .dataframe thead th {\n",
       "        text-align: right;\n",
       "    }\n",
       "</style>\n",
       "<table border=\"1\" class=\"dataframe\">\n",
       "  <thead>\n",
       "    <tr style=\"text-align: right;\">\n",
       "      <th></th>\n",
       "      <th>runID</th>\n",
       "      <th>method</th>\n",
       "      <th>nbr_batch</th>\n",
       "      <th>accuracy</th>\n",
       "      <th>li_batch_selected</th>\n",
       "      <th>accuracy_diff</th>\n",
       "    </tr>\n",
       "  </thead>\n",
       "  <tbody>\n",
       "    <tr>\n",
       "      <th>0</th>\n",
       "      <td>000f95f4-9e99-11eb-a877-089798b63972</td>\n",
       "      <td>BIN-dataset</td>\n",
       "      <td>7</td>\n",
       "      <td>[0.9723072556611998, 0.978481899195788]</td>\n",
       "      <td>[['ID35', 'ID15', 'ID21', 'ID19', 'ID16', 'ID8...</td>\n",
       "      <td>0.006175</td>\n",
       "    </tr>\n",
       "    <tr>\n",
       "      <th>1</th>\n",
       "      <td>000f95f4-9e99-11eb-a877-089798b63972</td>\n",
       "      <td>ML-dataset</td>\n",
       "      <td>7</td>\n",
       "      <td>[0.9996959069069676, 0.999782645446422]</td>\n",
       "      <td>[['ID35', 'ID15', 'ID21', 'ID19', 'ID16', 'ID8...</td>\n",
       "      <td>0.000087</td>\n",
       "    </tr>\n",
       "    <tr>\n",
       "      <th>2</th>\n",
       "      <td>000f95f4-9e99-11eb-a877-089798b63972</td>\n",
       "      <td>TD-dataset</td>\n",
       "      <td>7</td>\n",
       "      <td>[0.9699556024084172, 0.9773951264278988]</td>\n",
       "      <td>[['ID35', 'ID15', 'ID21', 'ID19', 'ID16', 'ID8...</td>\n",
       "      <td>0.007440</td>\n",
       "    </tr>\n",
       "  </tbody>\n",
       "</table>\n",
       "</div>"
      ],
      "text/plain": [
       "                                  runID       method  nbr_batch  \\\n",
       "0  000f95f4-9e99-11eb-a877-089798b63972  BIN-dataset          7   \n",
       "1  000f95f4-9e99-11eb-a877-089798b63972   ML-dataset          7   \n",
       "2  000f95f4-9e99-11eb-a877-089798b63972   TD-dataset          7   \n",
       "\n",
       "                                   accuracy  \\\n",
       "0   [0.9723072556611998, 0.978481899195788]   \n",
       "1   [0.9996959069069676, 0.999782645446422]   \n",
       "2  [0.9699556024084172, 0.9773951264278988]   \n",
       "\n",
       "                                   li_batch_selected  accuracy_diff  \n",
       "0  [['ID35', 'ID15', 'ID21', 'ID19', 'ID16', 'ID8...       0.006175  \n",
       "1  [['ID35', 'ID15', 'ID21', 'ID19', 'ID16', 'ID8...       0.000087  \n",
       "2  [['ID35', 'ID15', 'ID21', 'ID19', 'ID16', 'ID8...       0.007440  "
      ]
     },
     "metadata": {},
     "output_type": "display_data"
    },
    {
     "data": {
      "image/png": "[encoded data removed]",
      "text/plain": [
       "<Figure size 576x432 with 1 Axes>"
      ]
     },
     "metadata": {
      "needs_background": "light"
     },
     "output_type": "display_data"
    }
   ],
   "source": [
    "#compute difference across the associated batches combination \n",
    "#note that per run, we should have the results for two disjoint set of batches\n",
    "df_ = df_results[(df_results['nbr_batch']!=nbr_batch)&(df_results['reliability_type']=='duration_1secTS')]\n",
    "df_ = df_.filter(['method','accuracy','nbr_batch','runID','li_batch_selected'], axis=1)\n",
    "display(df_.head(3))\n",
    "df_acc_diff = df_.groupby(['runID','method','nbr_batch'])['accuracy','li_batch_selected'].agg(lambda x: list(x)).reset_index()\n",
    "df_acc_diff['accuracy_diff'] = df_acc_diff['accuracy'].map(lambda x: abs(x[0]-x[1]) if len(x)==2 else np.nan)\n",
    "print(df_acc_diff.shape)\n",
    "df_acc_diff.to_csv(os.path.join(path_extracted_data_cleaning,'Stability_results_duration.csv'), sep=';', index=False)\n",
    "display(df_acc_diff.head(3))\n",
    "\n",
    "#plot\n",
    "plt.figure(figsize=(8,6))\n",
    "order = np.sort(df_acc_diff['nbr_batch'].unique())\n",
    "hue_order = ['Unprocessed records', 'ML-dataset', 'TD-dataset','BIN-dataset']\n",
    "ax = sns.boxplot(x=\"nbr_batch\", y=\"accuracy_diff\", hue=\"method\", data=df_acc_diff, palette=pal_,order=order,hue_order=hue_order)\n",
    "plt.title('One seconds time series dataset - Accuracy')\n",
    "plt.xlabel('number of batched in a set')\n",
    "plt.ylabel('accuracy\\'s difference over 2 sets of disjoint batches')\n",
    "plt.grid()\n",
    "plt.savefig(os.path.join(path_extracted_data_cleaning,'Stability_results_duration_1secTS.png'), bbox_inches='tight')\n",
    "plt.show()"
   ]
  },
  {
   "cell_type": "code",
   "execution_count": 9,
   "metadata": {},
   "outputs": [
    {
     "data": {
      "text/plain": [
       "(0.03364638676779241, 0.008093545877198575)"
      ]
     },
     "execution_count": 9,
     "metadata": {},
     "output_type": "execute_result"
    }
   ],
   "source": [
    "li = df_acc_diff['accuracy_diff'].tolist()\n",
    "max(li), np.mean(li)"
   ]
  },
  {
   "cell_type": "markdown",
   "metadata": {},
   "source": [
    "### Appearances"
   ]
  },
  {
   "cell_type": "code",
   "execution_count": 10,
   "metadata": {
    "scrolled": false
   },
   "outputs": [
    {
     "data": {
      "text/html": [
       "<div>\n",
       "<style scoped>\n",
       "    .dataframe tbody tr th:only-of-type {\n",
       "        vertical-align: middle;\n",
       "    }\n",
       "\n",
       "    .dataframe tbody tr th {\n",
       "        vertical-align: top;\n",
       "    }\n",
       "\n",
       "    .dataframe thead th {\n",
       "        text-align: right;\n",
       "    }\n",
       "</style>\n",
       "<table border=\"1\" class=\"dataframe\">\n",
       "  <thead>\n",
       "    <tr style=\"text-align: right;\">\n",
       "      <th></th>\n",
       "      <th>method</th>\n",
       "      <th>nbr_batch</th>\n",
       "      <th>runID</th>\n",
       "      <th>li_batch_selected</th>\n",
       "      <th>RMSE</th>\n",
       "      <th>MAE</th>\n",
       "      <th>explained_variance_score</th>\n",
       "    </tr>\n",
       "  </thead>\n",
       "  <tbody>\n",
       "    <tr>\n",
       "      <th>4</th>\n",
       "      <td>Unprocessed records</td>\n",
       "      <td>7</td>\n",
       "      <td>000f95f4-9e99-11eb-a877-089798b63972</td>\n",
       "      <td>['ID35', 'ID15', 'ID21', 'ID19', 'ID16', 'ID8'...</td>\n",
       "      <td>3.058945</td>\n",
       "      <td>1.142857</td>\n",
       "      <td>-0.059772</td>\n",
       "    </tr>\n",
       "    <tr>\n",
       "      <th>5</th>\n",
       "      <td>ML-dataset</td>\n",
       "      <td>7</td>\n",
       "      <td>000f95f4-9e99-11eb-a877-089798b63972</td>\n",
       "      <td>['ID35', 'ID15', 'ID21', 'ID19', 'ID16', 'ID8'...</td>\n",
       "      <td>0.267261</td>\n",
       "      <td>0.071429</td>\n",
       "      <td>0.991269</td>\n",
       "    </tr>\n",
       "    <tr>\n",
       "      <th>6</th>\n",
       "      <td>BIN-dataset</td>\n",
       "      <td>7</td>\n",
       "      <td>000f95f4-9e99-11eb-a877-089798b63972</td>\n",
       "      <td>['ID35', 'ID15', 'ID21', 'ID19', 'ID16', 'ID8'...</td>\n",
       "      <td>0.626783</td>\n",
       "      <td>0.250000</td>\n",
       "      <td>0.948455</td>\n",
       "    </tr>\n",
       "  </tbody>\n",
       "</table>\n",
       "</div>"
      ],
      "text/plain": [
       "                method  nbr_batch                                 runID  \\\n",
       "4  Unprocessed records          7  000f95f4-9e99-11eb-a877-089798b63972   \n",
       "5           ML-dataset          7  000f95f4-9e99-11eb-a877-089798b63972   \n",
       "6          BIN-dataset          7  000f95f4-9e99-11eb-a877-089798b63972   \n",
       "\n",
       "                                   li_batch_selected      RMSE       MAE  \\\n",
       "4  ['ID35', 'ID15', 'ID21', 'ID19', 'ID16', 'ID8'...  3.058945  1.142857   \n",
       "5  ['ID35', 'ID15', 'ID21', 'ID19', 'ID16', 'ID8'...  0.267261  0.071429   \n",
       "6  ['ID35', 'ID15', 'ID21', 'ID19', 'ID16', 'ID8'...  0.626783  0.250000   \n",
       "\n",
       "   explained_variance_score  \n",
       "4                 -0.059772  \n",
       "5                  0.991269  \n",
       "6                  0.948455  "
      ]
     },
     "metadata": {},
     "output_type": "display_data"
    },
    {
     "name": "stdout",
     "output_type": "stream",
     "text": [
      "------------------------------------------------------------- RMSE\n"
     ]
    },
    {
     "data": {
      "text/html": [
       "<div>\n",
       "<style scoped>\n",
       "    .dataframe tbody tr th:only-of-type {\n",
       "        vertical-align: middle;\n",
       "    }\n",
       "\n",
       "    .dataframe tbody tr th {\n",
       "        vertical-align: top;\n",
       "    }\n",
       "\n",
       "    .dataframe thead th {\n",
       "        text-align: right;\n",
       "    }\n",
       "</style>\n",
       "<table border=\"1\" class=\"dataframe\">\n",
       "  <thead>\n",
       "    <tr style=\"text-align: right;\">\n",
       "      <th></th>\n",
       "      <th>runID</th>\n",
       "      <th>method</th>\n",
       "      <th>nbr_batch</th>\n",
       "      <th>RMSE</th>\n",
       "      <th>li_batch_selected</th>\n",
       "      <th>RMSE_diff</th>\n",
       "    </tr>\n",
       "  </thead>\n",
       "  <tbody>\n",
       "    <tr>\n",
       "      <th>0</th>\n",
       "      <td>000f95f4-9e99-11eb-a877-089798b63972</td>\n",
       "      <td>BIN-dataset</td>\n",
       "      <td>7</td>\n",
       "      <td>[0.6267831705280087, 0.6094494002200439]</td>\n",
       "      <td>[['ID35', 'ID15', 'ID21', 'ID19', 'ID16', 'ID8...</td>\n",
       "      <td>0.017334</td>\n",
       "    </tr>\n",
       "    <tr>\n",
       "      <th>1</th>\n",
       "      <td>000f95f4-9e99-11eb-a877-089798b63972</td>\n",
       "      <td>ML-dataset</td>\n",
       "      <td>7</td>\n",
       "      <td>[0.2672612419124244, 0.3380617018914066]</td>\n",
       "      <td>[['ID35', 'ID15', 'ID21', 'ID19', 'ID16', 'ID8...</td>\n",
       "      <td>0.070800</td>\n",
       "    </tr>\n",
       "    <tr>\n",
       "      <th>2</th>\n",
       "      <td>000f95f4-9e99-11eb-a877-089798b63972</td>\n",
       "      <td>TD-dataset</td>\n",
       "      <td>7</td>\n",
       "      <td>[0.8864052604279183, 0.6094494002200439]</td>\n",
       "      <td>[['ID35', 'ID15', 'ID21', 'ID19', 'ID16', 'ID8...</td>\n",
       "      <td>0.276956</td>\n",
       "    </tr>\n",
       "  </tbody>\n",
       "</table>\n",
       "</div>"
      ],
      "text/plain": [
       "                                  runID       method  nbr_batch  \\\n",
       "0  000f95f4-9e99-11eb-a877-089798b63972  BIN-dataset          7   \n",
       "1  000f95f4-9e99-11eb-a877-089798b63972   ML-dataset          7   \n",
       "2  000f95f4-9e99-11eb-a877-089798b63972   TD-dataset          7   \n",
       "\n",
       "                                       RMSE  \\\n",
       "0  [0.6267831705280087, 0.6094494002200439]   \n",
       "1  [0.2672612419124244, 0.3380617018914066]   \n",
       "2  [0.8864052604279183, 0.6094494002200439]   \n",
       "\n",
       "                                   li_batch_selected  RMSE_diff  \n",
       "0  [['ID35', 'ID15', 'ID21', 'ID19', 'ID16', 'ID8...   0.017334  \n",
       "1  [['ID35', 'ID15', 'ID21', 'ID19', 'ID16', 'ID8...   0.070800  \n",
       "2  [['ID35', 'ID15', 'ID21', 'ID19', 'ID16', 'ID8...   0.276956  "
      ]
     },
     "metadata": {},
     "output_type": "display_data"
    },
    {
     "name": "stdout",
     "output_type": "stream",
     "text": [
      "(560, 6)\n",
      "LOOk AT THIS AND LOOK AT THE MOST EXTREME CASES:\n"
     ]
    },
    {
     "data": {
      "text/html": [
       "<div>\n",
       "<style scoped>\n",
       "    .dataframe tbody tr th:only-of-type {\n",
       "        vertical-align: middle;\n",
       "    }\n",
       "\n",
       "    .dataframe tbody tr th {\n",
       "        vertical-align: top;\n",
       "    }\n",
       "\n",
       "    .dataframe thead th {\n",
       "        text-align: right;\n",
       "    }\n",
       "</style>\n",
       "<table border=\"1\" class=\"dataframe\">\n",
       "  <thead>\n",
       "    <tr style=\"text-align: right;\">\n",
       "      <th></th>\n",
       "      <th>runID</th>\n",
       "      <th>method</th>\n",
       "      <th>nbr_batch</th>\n",
       "      <th>RMSE</th>\n",
       "      <th>li_batch_selected</th>\n",
       "      <th>RMSE_diff</th>\n",
       "    </tr>\n",
       "  </thead>\n",
       "  <tbody>\n",
       "    <tr>\n",
       "      <th>67</th>\n",
       "      <td>148422d3-9e99-11eb-9691-089798b63972</td>\n",
       "      <td>Unprocessed records</td>\n",
       "      <td>8</td>\n",
       "      <td>[0.9746794344808964, 4.040420770167383]</td>\n",
       "      <td>[['ID25', 'ID7', 'ID14', 'ID20', 'ID26', 'ID17...</td>\n",
       "      <td>3.065741</td>\n",
       "    </tr>\n",
       "    <tr>\n",
       "      <th>43</th>\n",
       "      <td>0d86753f-9e99-11eb-a786-089798b63972</td>\n",
       "      <td>Unprocessed records</td>\n",
       "      <td>7</td>\n",
       "      <td>[2.9952343099378003, 0.0]</td>\n",
       "      <td>[['ID2', 'ID21', 'ID18', 'ID19', 'ID28', 'ID37...</td>\n",
       "      <td>2.995234</td>\n",
       "    </tr>\n",
       "    <tr>\n",
       "      <th>115</th>\n",
       "      <td>24315820-9e99-11eb-bb6e-089798b63972</td>\n",
       "      <td>Unprocessed records</td>\n",
       "      <td>8</td>\n",
       "      <td>[0.4472135954999579, 3.427827300200522]</td>\n",
       "      <td>[['ID9', 'ID33', 'ID14', 'ID15', 'ID11', 'ID17...</td>\n",
       "      <td>2.980614</td>\n",
       "    </tr>\n",
       "    <tr>\n",
       "      <th>467</th>\n",
       "      <td>b5b44ad5-9e99-11eb-b7c9-089798b63972</td>\n",
       "      <td>Unprocessed records</td>\n",
       "      <td>14</td>\n",
       "      <td>[0.1690308509457033, 3.1396087108337016]</td>\n",
       "      <td>[['ID10', 'ID9', 'ID28', 'ID22', 'ID40', 'ID34...</td>\n",
       "      <td>2.970578</td>\n",
       "    </tr>\n",
       "    <tr>\n",
       "      <th>95</th>\n",
       "      <td>1e65d427-9e99-11eb-bd46-089798b63972</td>\n",
       "      <td>Unprocessed records</td>\n",
       "      <td>8</td>\n",
       "      <td>[0.22360679774997896, 3.1503968004046734]</td>\n",
       "      <td>[['ID17', 'ID18', 'ID9', 'ID38', 'ID35', 'ID15...</td>\n",
       "      <td>2.926790</td>\n",
       "    </tr>\n",
       "  </tbody>\n",
       "</table>\n",
       "</div>"
      ],
      "text/plain": [
       "                                    runID               method  nbr_batch  \\\n",
       "67   148422d3-9e99-11eb-9691-089798b63972  Unprocessed records          8   \n",
       "43   0d86753f-9e99-11eb-a786-089798b63972  Unprocessed records          7   \n",
       "115  24315820-9e99-11eb-bb6e-089798b63972  Unprocessed records          8   \n",
       "467  b5b44ad5-9e99-11eb-b7c9-089798b63972  Unprocessed records         14   \n",
       "95   1e65d427-9e99-11eb-bd46-089798b63972  Unprocessed records          8   \n",
       "\n",
       "                                          RMSE  \\\n",
       "67     [0.9746794344808964, 4.040420770167383]   \n",
       "43                   [2.9952343099378003, 0.0]   \n",
       "115    [0.4472135954999579, 3.427827300200522]   \n",
       "467   [0.1690308509457033, 3.1396087108337016]   \n",
       "95   [0.22360679774997896, 3.1503968004046734]   \n",
       "\n",
       "                                     li_batch_selected  RMSE_diff  \n",
       "67   [['ID25', 'ID7', 'ID14', 'ID20', 'ID26', 'ID17...   3.065741  \n",
       "43   [['ID2', 'ID21', 'ID18', 'ID19', 'ID28', 'ID37...   2.995234  \n",
       "115  [['ID9', 'ID33', 'ID14', 'ID15', 'ID11', 'ID17...   2.980614  \n",
       "467  [['ID10', 'ID9', 'ID28', 'ID22', 'ID40', 'ID34...   2.970578  \n",
       "95   [['ID17', 'ID18', 'ID9', 'ID38', 'ID35', 'ID15...   2.926790  "
      ]
     },
     "metadata": {},
     "output_type": "display_data"
    },
    {
     "data": {
      "image/png": "[encoded data removed]",
      "text/plain": [
       "<Figure size 576x432 with 2 Axes>"
      ]
     },
     "metadata": {},
     "output_type": "display_data"
    },
    {
     "name": "stdout",
     "output_type": "stream",
     "text": [
      "------------------------------------------------------------- MAE\n"
     ]
    },
    {
     "data": {
      "text/html": [
       "<div>\n",
       "<style scoped>\n",
       "    .dataframe tbody tr th:only-of-type {\n",
       "        vertical-align: middle;\n",
       "    }\n",
       "\n",
       "    .dataframe tbody tr th {\n",
       "        vertical-align: top;\n",
       "    }\n",
       "\n",
       "    .dataframe thead th {\n",
       "        text-align: right;\n",
       "    }\n",
       "</style>\n",
       "<table border=\"1\" class=\"dataframe\">\n",
       "  <thead>\n",
       "    <tr style=\"text-align: right;\">\n",
       "      <th></th>\n",
       "      <th>runID</th>\n",
       "      <th>method</th>\n",
       "      <th>nbr_batch</th>\n",
       "      <th>MAE</th>\n",
       "      <th>li_batch_selected</th>\n",
       "      <th>MAE_diff</th>\n",
       "    </tr>\n",
       "  </thead>\n",
       "  <tbody>\n",
       "    <tr>\n",
       "      <th>0</th>\n",
       "      <td>000f95f4-9e99-11eb-a877-089798b63972</td>\n",
       "      <td>BIN-dataset</td>\n",
       "      <td>7</td>\n",
       "      <td>[0.25, 0.2571428571428571]</td>\n",
       "      <td>[['ID35', 'ID15', 'ID21', 'ID19', 'ID16', 'ID8...</td>\n",
       "      <td>0.007143</td>\n",
       "    </tr>\n",
       "    <tr>\n",
       "      <th>1</th>\n",
       "      <td>000f95f4-9e99-11eb-a877-089798b63972</td>\n",
       "      <td>ML-dataset</td>\n",
       "      <td>7</td>\n",
       "      <td>[0.07142857142857142, 0.11428571428571427]</td>\n",
       "      <td>[['ID35', 'ID15', 'ID21', 'ID19', 'ID16', 'ID8...</td>\n",
       "      <td>0.042857</td>\n",
       "    </tr>\n",
       "    <tr>\n",
       "      <th>2</th>\n",
       "      <td>000f95f4-9e99-11eb-a877-089798b63972</td>\n",
       "      <td>TD-dataset</td>\n",
       "      <td>7</td>\n",
       "      <td>[0.5714285714285714, 0.2571428571428571]</td>\n",
       "      <td>[['ID35', 'ID15', 'ID21', 'ID19', 'ID16', 'ID8...</td>\n",
       "      <td>0.314286</td>\n",
       "    </tr>\n",
       "  </tbody>\n",
       "</table>\n",
       "</div>"
      ],
      "text/plain": [
       "                                  runID       method  nbr_batch  \\\n",
       "0  000f95f4-9e99-11eb-a877-089798b63972  BIN-dataset          7   \n",
       "1  000f95f4-9e99-11eb-a877-089798b63972   ML-dataset          7   \n",
       "2  000f95f4-9e99-11eb-a877-089798b63972   TD-dataset          7   \n",
       "\n",
       "                                          MAE  \\\n",
       "0                  [0.25, 0.2571428571428571]   \n",
       "1  [0.07142857142857142, 0.11428571428571427]   \n",
       "2    [0.5714285714285714, 0.2571428571428571]   \n",
       "\n",
       "                                   li_batch_selected  MAE_diff  \n",
       "0  [['ID35', 'ID15', 'ID21', 'ID19', 'ID16', 'ID8...  0.007143  \n",
       "1  [['ID35', 'ID15', 'ID21', 'ID19', 'ID16', 'ID8...  0.042857  \n",
       "2  [['ID35', 'ID15', 'ID21', 'ID19', 'ID16', 'ID8...  0.314286  "
      ]
     },
     "metadata": {},
     "output_type": "display_data"
    },
    {
     "name": "stdout",
     "output_type": "stream",
     "text": [
      "(560, 6)\n",
      "LOOk AT THIS AND LOOK AT THE MOST EXTREME CASES:\n"
     ]
    },
    {
     "data": {
      "text/html": [
       "<div>\n",
       "<style scoped>\n",
       "    .dataframe tbody tr th:only-of-type {\n",
       "        vertical-align: middle;\n",
       "    }\n",
       "\n",
       "    .dataframe tbody tr th {\n",
       "        vertical-align: top;\n",
       "    }\n",
       "\n",
       "    .dataframe thead th {\n",
       "        text-align: right;\n",
       "    }\n",
       "</style>\n",
       "<table border=\"1\" class=\"dataframe\">\n",
       "  <thead>\n",
       "    <tr style=\"text-align: right;\">\n",
       "      <th></th>\n",
       "      <th>runID</th>\n",
       "      <th>method</th>\n",
       "      <th>nbr_batch</th>\n",
       "      <th>MAE</th>\n",
       "      <th>li_batch_selected</th>\n",
       "      <th>MAE_diff</th>\n",
       "    </tr>\n",
       "  </thead>\n",
       "  <tbody>\n",
       "    <tr>\n",
       "      <th>67</th>\n",
       "      <td>148422d3-9e99-11eb-9691-089798b63972</td>\n",
       "      <td>Unprocessed records</td>\n",
       "      <td>8</td>\n",
       "      <td>[0.3, 1.625]</td>\n",
       "      <td>[['ID25', 'ID7', 'ID14', 'ID20', 'ID26', 'ID17...</td>\n",
       "      <td>1.325000</td>\n",
       "    </tr>\n",
       "    <tr>\n",
       "      <th>43</th>\n",
       "      <td>0d86753f-9e99-11eb-a786-089798b63972</td>\n",
       "      <td>Unprocessed records</td>\n",
       "      <td>7</td>\n",
       "      <td>[1.2571428571428571, 0.0]</td>\n",
       "      <td>[['ID2', 'ID21', 'ID18', 'ID19', 'ID28', 'ID37...</td>\n",
       "      <td>1.257143</td>\n",
       "    </tr>\n",
       "    <tr>\n",
       "      <th>115</th>\n",
       "      <td>24315820-9e99-11eb-bb6e-089798b63972</td>\n",
       "      <td>Unprocessed records</td>\n",
       "      <td>8</td>\n",
       "      <td>[0.1, 1.35]</td>\n",
       "      <td>[['ID9', 'ID33', 'ID14', 'ID15', 'ID11', 'ID17...</td>\n",
       "      <td>1.250000</td>\n",
       "    </tr>\n",
       "    <tr>\n",
       "      <th>347</th>\n",
       "      <td>79b0c960-9e99-11eb-a9f6-089798b63972</td>\n",
       "      <td>Unprocessed records</td>\n",
       "      <td>12</td>\n",
       "      <td>[1.3, 0.16666666666666666]</td>\n",
       "      <td>[['ID38', 'ID23', 'ID6', 'ID35', 'ID19', 'ID28...</td>\n",
       "      <td>1.133333</td>\n",
       "    </tr>\n",
       "    <tr>\n",
       "      <th>71</th>\n",
       "      <td>169ab8cf-9e99-11eb-b326-089798b63972</td>\n",
       "      <td>Unprocessed records</td>\n",
       "      <td>8</td>\n",
       "      <td>[1.3125, 0.2]</td>\n",
       "      <td>[['ID29', 'ID34', 'ID13', 'ID4', 'ID19', 'ID37...</td>\n",
       "      <td>1.112500</td>\n",
       "    </tr>\n",
       "  </tbody>\n",
       "</table>\n",
       "</div>"
      ],
      "text/plain": [
       "                                    runID               method  nbr_batch  \\\n",
       "67   148422d3-9e99-11eb-9691-089798b63972  Unprocessed records          8   \n",
       "43   0d86753f-9e99-11eb-a786-089798b63972  Unprocessed records          7   \n",
       "115  24315820-9e99-11eb-bb6e-089798b63972  Unprocessed records          8   \n",
       "347  79b0c960-9e99-11eb-a9f6-089798b63972  Unprocessed records         12   \n",
       "71   169ab8cf-9e99-11eb-b326-089798b63972  Unprocessed records          8   \n",
       "\n",
       "                            MAE  \\\n",
       "67                 [0.3, 1.625]   \n",
       "43    [1.2571428571428571, 0.0]   \n",
       "115                 [0.1, 1.35]   \n",
       "347  [1.3, 0.16666666666666666]   \n",
       "71                [1.3125, 0.2]   \n",
       "\n",
       "                                     li_batch_selected  MAE_diff  \n",
       "67   [['ID25', 'ID7', 'ID14', 'ID20', 'ID26', 'ID17...  1.325000  \n",
       "43   [['ID2', 'ID21', 'ID18', 'ID19', 'ID28', 'ID37...  1.257143  \n",
       "115  [['ID9', 'ID33', 'ID14', 'ID15', 'ID11', 'ID17...  1.250000  \n",
       "347  [['ID38', 'ID23', 'ID6', 'ID35', 'ID19', 'ID28...  1.133333  \n",
       "71   [['ID29', 'ID34', 'ID13', 'ID4', 'ID19', 'ID37...  1.112500  "
      ]
     },
     "metadata": {},
     "output_type": "display_data"
    },
    {
     "data": {
      "image/png": "[encoded data removed]",
      "text/plain": [
       "<Figure size 576x432 with 2 Axes>"
      ]
     },
     "metadata": {},
     "output_type": "display_data"
    },
    {
     "name": "stdout",
     "output_type": "stream",
     "text": [
      "------------------------------------------------------------- EXPLAINED_VARIANCE_SCORE\n"
     ]
    },
    {
     "data": {
      "text/html": [
       "<div>\n",
       "<style scoped>\n",
       "    .dataframe tbody tr th:only-of-type {\n",
       "        vertical-align: middle;\n",
       "    }\n",
       "\n",
       "    .dataframe tbody tr th {\n",
       "        vertical-align: top;\n",
       "    }\n",
       "\n",
       "    .dataframe thead th {\n",
       "        text-align: right;\n",
       "    }\n",
       "</style>\n",
       "<table border=\"1\" class=\"dataframe\">\n",
       "  <thead>\n",
       "    <tr style=\"text-align: right;\">\n",
       "      <th></th>\n",
       "      <th>runID</th>\n",
       "      <th>method</th>\n",
       "      <th>nbr_batch</th>\n",
       "      <th>explained_variance_score</th>\n",
       "      <th>li_batch_selected</th>\n",
       "      <th>explained_variance_score_diff</th>\n",
       "    </tr>\n",
       "  </thead>\n",
       "  <tbody>\n",
       "    <tr>\n",
       "      <th>0</th>\n",
       "      <td>000f95f4-9e99-11eb-a877-089798b63972</td>\n",
       "      <td>BIN-dataset</td>\n",
       "      <td>7</td>\n",
       "      <td>[0.9484553391537944, 0.9362210095497954]</td>\n",
       "      <td>[['ID35', 'ID15', 'ID21', 'ID19', 'ID16', 'ID8...</td>\n",
       "      <td>0.012234</td>\n",
       "    </tr>\n",
       "    <tr>\n",
       "      <th>1</th>\n",
       "      <td>000f95f4-9e99-11eb-a877-089798b63972</td>\n",
       "      <td>ML-dataset</td>\n",
       "      <td>7</td>\n",
       "      <td>[0.9912693082605776, 0.9788540245566166]</td>\n",
       "      <td>[['ID35', 'ID15', 'ID21', 'ID19', 'ID16', 'ID8...</td>\n",
       "      <td>0.012415</td>\n",
       "    </tr>\n",
       "    <tr>\n",
       "      <th>2</th>\n",
       "      <td>000f95f4-9e99-11eb-a877-089798b63972</td>\n",
       "      <td>TD-dataset</td>\n",
       "      <td>7</td>\n",
       "      <td>[0.9026192075218268, 0.9307639836289222]</td>\n",
       "      <td>[['ID35', 'ID15', 'ID21', 'ID19', 'ID16', 'ID8...</td>\n",
       "      <td>0.028145</td>\n",
       "    </tr>\n",
       "  </tbody>\n",
       "</table>\n",
       "</div>"
      ],
      "text/plain": [
       "                                  runID       method  nbr_batch  \\\n",
       "0  000f95f4-9e99-11eb-a877-089798b63972  BIN-dataset          7   \n",
       "1  000f95f4-9e99-11eb-a877-089798b63972   ML-dataset          7   \n",
       "2  000f95f4-9e99-11eb-a877-089798b63972   TD-dataset          7   \n",
       "\n",
       "                   explained_variance_score  \\\n",
       "0  [0.9484553391537944, 0.9362210095497954]   \n",
       "1  [0.9912693082605776, 0.9788540245566166]   \n",
       "2  [0.9026192075218268, 0.9307639836289222]   \n",
       "\n",
       "                                   li_batch_selected  \\\n",
       "0  [['ID35', 'ID15', 'ID21', 'ID19', 'ID16', 'ID8...   \n",
       "1  [['ID35', 'ID15', 'ID21', 'ID19', 'ID16', 'ID8...   \n",
       "2  [['ID35', 'ID15', 'ID21', 'ID19', 'ID16', 'ID8...   \n",
       "\n",
       "   explained_variance_score_diff  \n",
       "0                       0.012234  \n",
       "1                       0.012415  \n",
       "2                       0.028145  "
      ]
     },
     "metadata": {},
     "output_type": "display_data"
    },
    {
     "name": "stdout",
     "output_type": "stream",
     "text": [
      "(560, 6)\n",
      "LOOk AT THIS AND LOOK AT THE MOST EXTREME CASES:\n"
     ]
    },
    {
     "data": {
      "text/html": [
       "<div>\n",
       "<style scoped>\n",
       "    .dataframe tbody tr th:only-of-type {\n",
       "        vertical-align: middle;\n",
       "    }\n",
       "\n",
       "    .dataframe tbody tr th {\n",
       "        vertical-align: top;\n",
       "    }\n",
       "\n",
       "    .dataframe thead th {\n",
       "        text-align: right;\n",
       "    }\n",
       "</style>\n",
       "<table border=\"1\" class=\"dataframe\">\n",
       "  <thead>\n",
       "    <tr style=\"text-align: right;\">\n",
       "      <th></th>\n",
       "      <th>runID</th>\n",
       "      <th>method</th>\n",
       "      <th>nbr_batch</th>\n",
       "      <th>explained_variance_score</th>\n",
       "      <th>li_batch_selected</th>\n",
       "      <th>explained_variance_score_diff</th>\n",
       "    </tr>\n",
       "  </thead>\n",
       "  <tbody>\n",
       "    <tr>\n",
       "      <th>291</th>\n",
       "      <td>648f8695-9e99-11eb-956f-089798b63972</td>\n",
       "      <td>Unprocessed records</td>\n",
       "      <td>11</td>\n",
       "      <td>[-3.4067603494113183, 0.9813640973630832]</td>\n",
       "      <td>[['ID34', 'ID10', 'ID7', 'ID6', 'ID30', 'ID1',...</td>\n",
       "      <td>4.388124</td>\n",
       "    </tr>\n",
       "    <tr>\n",
       "      <th>511</th>\n",
       "      <td>d7dad1f4-9e99-11eb-9083-089798b63972</td>\n",
       "      <td>Unprocessed records</td>\n",
       "      <td>15</td>\n",
       "      <td>[0.8612120163754828, -2.5374509211718497]</td>\n",
       "      <td>[['ID18', 'ID1', 'ID35', 'ID20', 'ID21', 'ID33...</td>\n",
       "      <td>3.398663</td>\n",
       "    </tr>\n",
       "    <tr>\n",
       "      <th>67</th>\n",
       "      <td>148422d3-9e99-11eb-9691-089798b63972</td>\n",
       "      <td>Unprocessed records</td>\n",
       "      <td>8</td>\n",
       "      <td>[0.8643533123028391, -2.529174725983236]</td>\n",
       "      <td>[['ID25', 'ID7', 'ID14', 'ID20', 'ID26', 'ID17...</td>\n",
       "      <td>3.393528</td>\n",
       "    </tr>\n",
       "    <tr>\n",
       "      <th>311</th>\n",
       "      <td>6bfd25d9-9e99-11eb-807f-089798b63972</td>\n",
       "      <td>Unprocessed records</td>\n",
       "      <td>11</td>\n",
       "      <td>[0.8772355928461029, -1.8690476190476195]</td>\n",
       "      <td>[['ID33', 'ID26', 'ID21', 'ID7', 'ID23', 'ID32...</td>\n",
       "      <td>2.746283</td>\n",
       "    </tr>\n",
       "    <tr>\n",
       "      <th>23</th>\n",
       "      <td>07be3671-9e99-11eb-8c21-089798b63972</td>\n",
       "      <td>Unprocessed records</td>\n",
       "      <td>7</td>\n",
       "      <td>[-0.5414392059553346, -3.2716823406478572]</td>\n",
       "      <td>[['ID14', 'ID17', 'ID33', 'ID8', 'ID10', 'ID30...</td>\n",
       "      <td>2.730243</td>\n",
       "    </tr>\n",
       "  </tbody>\n",
       "</table>\n",
       "</div>"
      ],
      "text/plain": [
       "                                    runID               method  nbr_batch  \\\n",
       "291  648f8695-9e99-11eb-956f-089798b63972  Unprocessed records         11   \n",
       "511  d7dad1f4-9e99-11eb-9083-089798b63972  Unprocessed records         15   \n",
       "67   148422d3-9e99-11eb-9691-089798b63972  Unprocessed records          8   \n",
       "311  6bfd25d9-9e99-11eb-807f-089798b63972  Unprocessed records         11   \n",
       "23   07be3671-9e99-11eb-8c21-089798b63972  Unprocessed records          7   \n",
       "\n",
       "                       explained_variance_score  \\\n",
       "291   [-3.4067603494113183, 0.9813640973630832]   \n",
       "511   [0.8612120163754828, -2.5374509211718497]   \n",
       "67     [0.8643533123028391, -2.529174725983236]   \n",
       "311   [0.8772355928461029, -1.8690476190476195]   \n",
       "23   [-0.5414392059553346, -3.2716823406478572]   \n",
       "\n",
       "                                     li_batch_selected  \\\n",
       "291  [['ID34', 'ID10', 'ID7', 'ID6', 'ID30', 'ID1',...   \n",
       "511  [['ID18', 'ID1', 'ID35', 'ID20', 'ID21', 'ID33...   \n",
       "67   [['ID25', 'ID7', 'ID14', 'ID20', 'ID26', 'ID17...   \n",
       "311  [['ID33', 'ID26', 'ID21', 'ID7', 'ID23', 'ID32...   \n",
       "23   [['ID14', 'ID17', 'ID33', 'ID8', 'ID10', 'ID30...   \n",
       "\n",
       "     explained_variance_score_diff  \n",
       "291                       4.388124  \n",
       "511                       3.398663  \n",
       "67                        3.393528  \n",
       "311                       2.746283  \n",
       "23                        2.730243  "
      ]
     },
     "metadata": {},
     "output_type": "display_data"
    },
    {
     "data": {
      "image/png": "[encoded data removed]",
      "text/plain": [
       "<Figure size 576x432 with 2 Axes>"
      ]
     },
     "metadata": {},
     "output_type": "display_data"
    }
   ],
   "source": [
    "li_score = ['RMSE','MAE','explained_variance_score']\n",
    "df_ = df_results[(df_results['nbr_batch']!=nbr_batch)&(df_results['reliability_type']=='transitions')]    \n",
    "df_ = df_.filter(['method','nbr_batch','runID','li_batch_selected']+li_score, axis=1)\n",
    "display(df_.head(3))\n",
    "\n",
    "#compute&plot diff. across the associated batches combination. Per run, we should have the results for 2 disjoint set of batches\n",
    "for s in li_score:\n",
    "    print('------------------------------------------------------------- '+s.upper())\n",
    "    ##################################### compute diff in scores\n",
    "    df_diff = df_.groupby(['runID','method','nbr_batch'])[[s,'li_batch_selected']].agg(lambda x: list(x)).reset_index()\n",
    "    df_diff[s+'_diff'] = df_diff[s].map(lambda x: abs(x[0]-x[1]) if len(x)==2 else np.nan)\n",
    "    display(df_diff.head(3))\n",
    "    print(df_diff.shape)\n",
    "    df_diff.to_csv(os.path.join(path_extracted_data_cleaning,'Stability_results_transition_'+s+'.csv'),sep=';',index=False)\n",
    "    print('LOOk AT THIS AND LOOK AT THE MOST EXTREME CASES:')\n",
    "    display(df_diff.sort_values([s+'_diff'], ascending=False).head(5))\n",
    "    \n",
    "    ##################################### plot\n",
    "    plt.figure(figsize=(8,6))\n",
    "    \n",
    "    ############# without tracking zone\n",
    "    df__1 = df_diff.copy()\n",
    "    df__1.loc[df__1['method']=='Unprocessed records', s+'_diff'] = np.nan\n",
    "    order = np.sort(df__1['nbr_batch'].unique()) #x-axis order\n",
    "    hue_order = ['Unprocessed records', 'ML-dataset', 'TD-dataset','BIN-dataset']\n",
    "    ax1 = sns.boxplot(x=\"nbr_batch\", y=s+'_diff', hue=\"method\", data=df__1, palette=pal_, order=order, hue_order=hue_order)\n",
    "    plt.xlabel('number of batched in a set')\n",
    "    plt.ylabel('score abs. difference btw. 2 sets of disjoint batches')\n",
    "    plt.grid()\n",
    "    \n",
    "    ############# with only tracking zone\n",
    "    df__2 = df_diff.copy()\n",
    "    df__2.loc[df__2['method']!='Unprocessed records', s+'_diff'] = np.nan\n",
    "    ax2 = ax1.twinx()\n",
    "    ax2.yaxis.set_label_position(\"right\")\n",
    "    ax2.yaxis.tick_right()\n",
    "    ax2.tick_params(axis='y', colors='goldenrod')\n",
    "    sns.boxplot(x=\"nbr_batch\", y=s+'_diff', hue=\"method\", data=df__2, palette=pal_, order=order, hue_order=hue_order)#, boxprops=dict(alpha=0.7)) #palette=\"Set3\")\n",
    "    plt.title('Number of appearances - '+s)\n",
    "    plt.ylabel('Unprocessed records', color='goldenrod')\n",
    "    plt.savefig(os.path.join(path_extracted_data_cleaning,'Stability_results_transitions_'+s+'.png'), bbox_inches='tight')\n",
    "    plt.show();"
   ]
  },
  {
   "cell_type": "markdown",
   "metadata": {},
   "source": [
    "# Evaluation of performance measures on the 1secTS"
   ]
  },
  {
   "cell_type": "code",
   "execution_count": 14,
   "metadata": {},
   "outputs": [
    {
     "data": {
      "text/html": [
       "<div>\n",
       "<style scoped>\n",
       "    .dataframe tbody tr th:only-of-type {\n",
       "        vertical-align: middle;\n",
       "    }\n",
       "\n",
       "    .dataframe tbody tr th {\n",
       "        vertical-align: top;\n",
       "    }\n",
       "\n",
       "    .dataframe thead th {\n",
       "        text-align: right;\n",
       "    }\n",
       "</style>\n",
       "<table border=\"1\" class=\"dataframe\">\n",
       "  <thead>\n",
       "    <tr style=\"text-align: right;\">\n",
       "      <th></th>\n",
       "      <th>runID</th>\n",
       "      <th>CPairID</th>\n",
       "      <th>method</th>\n",
       "      <th>reliability_type</th>\n",
       "      <th>variable</th>\n",
       "      <th>value</th>\n",
       "    </tr>\n",
       "  </thead>\n",
       "  <tbody>\n",
       "    <tr>\n",
       "      <th>2</th>\n",
       "      <td>a971df33-9e9a-11eb-afe2-089798b63972</td>\n",
       "      <td>0</td>\n",
       "      <td>BIN-dataset</td>\n",
       "      <td>duration_1secTS</td>\n",
       "      <td>accuracy</td>\n",
       "      <td>0.973926</td>\n",
       "    </tr>\n",
       "    <tr>\n",
       "      <th>6</th>\n",
       "      <td>a971df33-9e9a-11eb-afe2-089798b63972</td>\n",
       "      <td>0</td>\n",
       "      <td>BIN-dataset</td>\n",
       "      <td>duration_1secTS</td>\n",
       "      <td>macroavg_precision</td>\n",
       "      <td>0.970904</td>\n",
       "    </tr>\n",
       "    <tr>\n",
       "      <th>10</th>\n",
       "      <td>a971df33-9e9a-11eb-afe2-089798b63972</td>\n",
       "      <td>0</td>\n",
       "      <td>BIN-dataset</td>\n",
       "      <td>duration_1secTS</td>\n",
       "      <td>macroavg_recall</td>\n",
       "      <td>0.973228</td>\n",
       "    </tr>\n",
       "    <tr>\n",
       "      <th>1</th>\n",
       "      <td>a971df33-9e9a-11eb-afe2-089798b63972</td>\n",
       "      <td>0</td>\n",
       "      <td>ML-dataset</td>\n",
       "      <td>duration_1secTS</td>\n",
       "      <td>accuracy</td>\n",
       "      <td>0.997310</td>\n",
       "    </tr>\n",
       "    <tr>\n",
       "      <th>5</th>\n",
       "      <td>a971df33-9e9a-11eb-afe2-089798b63972</td>\n",
       "      <td>0</td>\n",
       "      <td>ML-dataset</td>\n",
       "      <td>duration_1secTS</td>\n",
       "      <td>macroavg_precision</td>\n",
       "      <td>0.997540</td>\n",
       "    </tr>\n",
       "    <tr>\n",
       "      <th>9</th>\n",
       "      <td>a971df33-9e9a-11eb-afe2-089798b63972</td>\n",
       "      <td>0</td>\n",
       "      <td>ML-dataset</td>\n",
       "      <td>duration_1secTS</td>\n",
       "      <td>macroavg_recall</td>\n",
       "      <td>0.997052</td>\n",
       "    </tr>\n",
       "    <tr>\n",
       "      <th>3</th>\n",
       "      <td>a971df33-9e9a-11eb-afe2-089798b63972</td>\n",
       "      <td>0</td>\n",
       "      <td>TD-dataset</td>\n",
       "      <td>duration_1secTS</td>\n",
       "      <td>accuracy</td>\n",
       "      <td>0.979166</td>\n",
       "    </tr>\n",
       "    <tr>\n",
       "      <th>7</th>\n",
       "      <td>a971df33-9e9a-11eb-afe2-089798b63972</td>\n",
       "      <td>0</td>\n",
       "      <td>TD-dataset</td>\n",
       "      <td>duration_1secTS</td>\n",
       "      <td>macroavg_precision</td>\n",
       "      <td>0.977026</td>\n",
       "    </tr>\n",
       "    <tr>\n",
       "      <th>11</th>\n",
       "      <td>a971df33-9e9a-11eb-afe2-089798b63972</td>\n",
       "      <td>0</td>\n",
       "      <td>TD-dataset</td>\n",
       "      <td>duration_1secTS</td>\n",
       "      <td>macroavg_recall</td>\n",
       "      <td>0.979059</td>\n",
       "    </tr>\n",
       "    <tr>\n",
       "      <th>0</th>\n",
       "      <td>a971df33-9e9a-11eb-afe2-089798b63972</td>\n",
       "      <td>0</td>\n",
       "      <td>Unprocessed records</td>\n",
       "      <td>duration_1secTS</td>\n",
       "      <td>accuracy</td>\n",
       "      <td>0.991363</td>\n",
       "    </tr>\n",
       "    <tr>\n",
       "      <th>4</th>\n",
       "      <td>a971df33-9e9a-11eb-afe2-089798b63972</td>\n",
       "      <td>0</td>\n",
       "      <td>Unprocessed records</td>\n",
       "      <td>duration_1secTS</td>\n",
       "      <td>macroavg_precision</td>\n",
       "      <td>0.990676</td>\n",
       "    </tr>\n",
       "    <tr>\n",
       "      <th>8</th>\n",
       "      <td>a971df33-9e9a-11eb-afe2-089798b63972</td>\n",
       "      <td>0</td>\n",
       "      <td>Unprocessed records</td>\n",
       "      <td>duration_1secTS</td>\n",
       "      <td>macroavg_recall</td>\n",
       "      <td>0.992906</td>\n",
       "    </tr>\n",
       "  </tbody>\n",
       "</table>\n",
       "</div>"
      ],
      "text/plain": [
       "                                   runID  CPairID               method  \\\n",
       "2   a971df33-9e9a-11eb-afe2-089798b63972        0          BIN-dataset   \n",
       "6   a971df33-9e9a-11eb-afe2-089798b63972        0          BIN-dataset   \n",
       "10  a971df33-9e9a-11eb-afe2-089798b63972        0          BIN-dataset   \n",
       "1   a971df33-9e9a-11eb-afe2-089798b63972        0           ML-dataset   \n",
       "5   a971df33-9e9a-11eb-afe2-089798b63972        0           ML-dataset   \n",
       "9   a971df33-9e9a-11eb-afe2-089798b63972        0           ML-dataset   \n",
       "3   a971df33-9e9a-11eb-afe2-089798b63972        0           TD-dataset   \n",
       "7   a971df33-9e9a-11eb-afe2-089798b63972        0           TD-dataset   \n",
       "11  a971df33-9e9a-11eb-afe2-089798b63972        0           TD-dataset   \n",
       "0   a971df33-9e9a-11eb-afe2-089798b63972        0  Unprocessed records   \n",
       "4   a971df33-9e9a-11eb-afe2-089798b63972        0  Unprocessed records   \n",
       "8   a971df33-9e9a-11eb-afe2-089798b63972        0  Unprocessed records   \n",
       "\n",
       "   reliability_type            variable     value  \n",
       "2   duration_1secTS            accuracy  0.973926  \n",
       "6   duration_1secTS  macroavg_precision  0.970904  \n",
       "10  duration_1secTS     macroavg_recall  0.973228  \n",
       "1   duration_1secTS            accuracy  0.997310  \n",
       "5   duration_1secTS  macroavg_precision  0.997540  \n",
       "9   duration_1secTS     macroavg_recall  0.997052  \n",
       "3   duration_1secTS            accuracy  0.979166  \n",
       "7   duration_1secTS  macroavg_precision  0.977026  \n",
       "11  duration_1secTS     macroavg_recall  0.979059  \n",
       "0   duration_1secTS            accuracy  0.991363  \n",
       "4   duration_1secTS  macroavg_precision  0.990676  \n",
       "8   duration_1secTS     macroavg_recall  0.992906  "
      ]
     },
     "execution_count": 14,
     "metadata": {},
     "output_type": "execute_result"
    }
   ],
   "source": [
    "#enough data to do per zone\n",
    "df_plt = df_results[(df_results['nbr_batch']==nbr_batch)&\\\n",
    "                    (df_results['reliability_type']=='duration_1secTS')]\n",
    "df_plt = pd.melt(df_plt, id_vars=['runID','CPairID','method','reliability_type'], \n",
    "                 value_vars=['accuracy','macroavg_precision', 'macroavg_recall'])\n",
    "df_plt.sort_values(['method'])"
   ]
  },
  {
   "cell_type": "markdown",
   "metadata": {},
   "source": [
    "# Evaluation of performance measures on the transitions"
   ]
  },
  {
   "cell_type": "code",
   "execution_count": 15,
   "metadata": {},
   "outputs": [
    {
     "data": {
      "text/plain": [
       "3_Zone    42\n",
       "4_Zone    42\n",
       "2_Zone    42\n",
       "5_Zone    42\n",
       "1_Zone    42\n",
       "Name: variable, dtype: int64"
      ]
     },
     "execution_count": 15,
     "metadata": {},
     "output_type": "execute_result"
    }
   ],
   "source": [
    "df_rel_transitions['variable'].value_counts()"
   ]
  },
  {
   "cell_type": "code",
   "execution_count": 16,
   "metadata": {},
   "outputs": [
    {
     "data": {
      "text/html": [
       "<div>\n",
       "<style scoped>\n",
       "    .dataframe tbody tr th:only-of-type {\n",
       "        vertical-align: middle;\n",
       "    }\n",
       "\n",
       "    .dataframe tbody tr th {\n",
       "        vertical-align: top;\n",
       "    }\n",
       "\n",
       "    .dataframe thead th {\n",
       "        text-align: right;\n",
       "    }\n",
       "</style>\n",
       "<table border=\"1\" class=\"dataframe\">\n",
       "  <thead>\n",
       "    <tr style=\"text-align: right;\">\n",
       "      <th></th>\n",
       "      <th>BatchID</th>\n",
       "      <th>variable</th>\n",
       "      <th>ThresholdOnDuration_Zone</th>\n",
       "      <th>Binning_Zone</th>\n",
       "      <th>Observed_Zone</th>\n",
       "      <th>Model_Zone</th>\n",
       "      <th>Trackingsystem_Zone</th>\n",
       "    </tr>\n",
       "  </thead>\n",
       "  <tbody>\n",
       "    <tr>\n",
       "      <th>0</th>\n",
       "      <td>ID1</td>\n",
       "      <td>2_Zone</td>\n",
       "      <td>3</td>\n",
       "      <td>3</td>\n",
       "      <td>3</td>\n",
       "      <td>3</td>\n",
       "      <td>5</td>\n",
       "    </tr>\n",
       "    <tr>\n",
       "      <th>1</th>\n",
       "      <td>ID10</td>\n",
       "      <td>2_Zone</td>\n",
       "      <td>3</td>\n",
       "      <td>3</td>\n",
       "      <td>3</td>\n",
       "      <td>3</td>\n",
       "      <td>3</td>\n",
       "    </tr>\n",
       "    <tr>\n",
       "      <th>2</th>\n",
       "      <td>ID11</td>\n",
       "      <td>2_Zone</td>\n",
       "      <td>2</td>\n",
       "      <td>3</td>\n",
       "      <td>2</td>\n",
       "      <td>2</td>\n",
       "      <td>4</td>\n",
       "    </tr>\n",
       "  </tbody>\n",
       "</table>\n",
       "</div>"
      ],
      "text/plain": [
       "  BatchID variable  ThresholdOnDuration_Zone  Binning_Zone  Observed_Zone  \\\n",
       "0     ID1   2_Zone                         3             3              3   \n",
       "1    ID10   2_Zone                         3             3              3   \n",
       "2    ID11   2_Zone                         2             3              2   \n",
       "\n",
       "   Model_Zone  Trackingsystem_Zone  \n",
       "0           3                    5  \n",
       "1           3                    3  \n",
       "2           2                    4  "
      ]
     },
     "execution_count": 16,
     "metadata": {},
     "output_type": "execute_result"
    }
   ],
   "source": [
    "df_rel_transitions.head(3)"
   ]
  },
  {
   "cell_type": "code",
   "execution_count": 34,
   "metadata": {},
   "outputs": [
    {
     "name": "stderr",
     "output_type": "stream",
     "text": [
      "C:\\Users\\camil\\anaconda3\\lib\\site-packages\\seaborn\\_decorators.py:36: FutureWarning: Pass the following variables as keyword args: x, y. From version 0.12, the only valid positional argument will be `data`, and passing other arguments without an explicit keyword will result in an error or misinterpretation.\n",
      "  warnings.warn(\n"
     ]
    },
    {
     "data": {
      "image/png": "[encoded data removed]",
      "text/plain": [
       "<Figure size 432x288 with 1 Axes>"
      ]
     },
     "metadata": {
      "needs_background": "light"
     },
     "output_type": "display_data"
    },
    {
     "name": "stderr",
     "output_type": "stream",
     "text": [
      "C:\\Users\\camil\\anaconda3\\lib\\site-packages\\seaborn\\_decorators.py:36: FutureWarning: Pass the following variables as keyword args: x, y. From version 0.12, the only valid positional argument will be `data`, and passing other arguments without an explicit keyword will result in an error or misinterpretation.\n",
      "  warnings.warn(\n"
     ]
    },
    {
     "data": {
      "image/png": "[encoded data removed]",
      "text/plain": [
       "<Figure size 432x288 with 1 Axes>"
      ]
     },
     "metadata": {
      "needs_background": "light"
     },
     "output_type": "display_data"
    },
    {
     "name": "stderr",
     "output_type": "stream",
     "text": [
      "C:\\Users\\camil\\anaconda3\\lib\\site-packages\\seaborn\\_decorators.py:36: FutureWarning: Pass the following variables as keyword args: x, y. From version 0.12, the only valid positional argument will be `data`, and passing other arguments without an explicit keyword will result in an error or misinterpretation.\n",
      "  warnings.warn(\n"
     ]
    },
    {
     "data": {
      "image/png": "[encoded data removed]",
      "text/plain": [
       "<Figure size 432x288 with 1 Axes>"
      ]
     },
     "metadata": {
      "needs_background": "light"
     },
     "output_type": "display_data"
    },
    {
     "name": "stderr",
     "output_type": "stream",
     "text": [
      "C:\\Users\\camil\\anaconda3\\lib\\site-packages\\seaborn\\_decorators.py:36: FutureWarning: Pass the following variables as keyword args: x, y. From version 0.12, the only valid positional argument will be `data`, and passing other arguments without an explicit keyword will result in an error or misinterpretation.\n",
      "  warnings.warn(\n"
     ]
    },
    {
     "data": {
      "image/png": "[encoded data removed]",
      "text/plain": [
       "<Figure size 432x288 with 1 Axes>"
      ]
     },
     "metadata": {
      "needs_background": "light"
     },
     "output_type": "display_data"
    }
   ],
   "source": [
    "dico_name_title = {'Trackingsystem_Zone':'Unprocessed records\\' number of appearances',\n",
    "                   'ThresholdOnDuration_Zone':'TD-dataset\\' number of appearances', \n",
    "                   'Binning_Zone':'BIN-dataset\\' number of appearances',\n",
    "                   'Model_Zone':'ML-dataset\\' number of appearances'}\n",
    "\n",
    "for y_ in ['Trackingsystem_Zone','ThresholdOnDuration_Zone', 'Binning_Zone','Model_Zone']:\n",
    "    x = np.array(df_rel_transitions['Observed_Zone'].tolist())\n",
    "    y = np.array(df_rel_transitions[y_].tolist())\n",
    "    Explvarscore = explained_variance_score(x, y)\n",
    "    RMSE = math.sqrt(mean_squared_error(x, y))\n",
    "    MAE = mean_absolute_error(x, y)\n",
    "    ax = sns.regplot(x,y,color=pal_[y_])\n",
    "    #add text\n",
    "    ax.set_xlabel('Video observations\\' number of appearances')\n",
    "    ax.set_ylabel(dico_name_title[y_])\n",
    "    ax.text(1, max(y)-int(0.12*max(y)), 'Explained variance score = ' + str(np.round(Explvarscore,2)))\n",
    "    ax.text(1, max(y)-int(0.24*max(y)), 'RMSE = ' + str(np.round(RMSE,2)) +'     MAE = ' + str(np.round(MAE,2)))\n",
    "    ax.axline((0, 0), slope=1, c=\"black\", ls=\"--\", zorder=0) #add diagonal line\n",
    "    #add scatter plot with size\n",
    "    c = Counter(zip(x,y)) # count the occurrences of each point\n",
    "    s = [5*c[(xx,yy)] for xx,yy in zip(x,y)] # create a list of the sizes, here multiplied by 5 for scale\n",
    "    ax.scatter(x, y, s=s, color=pal_[y_]) \n",
    "    #save\n",
    "    plt.savefig(os.path.join(path_extracted_data_cleaning, \"Transition_reliability_\"+y_+\".png\"),\n",
    "                dpi=300,format='png',bbox_inches='tight')\n",
    "    plt.show()"
   ]
  },
  {
   "cell_type": "markdown",
   "metadata": {},
   "source": [
    "#OR MANUALLY\n",
    "#inspired from: https://stackoverflow.com/questions/27164114/show-confidence-limits-and-prediction-limits-in-scatter-plot\n",
    "dico_name_title = {'Trackingsystem_Zone':'Unprocessed records\\' number of appearances',\n",
    "                   'ThresholdOnDuration_Zone':'TD-dataset\\' number of appearances', \n",
    "                   'Binning_Zone':'BIN-dataset\\' number of appearances',\n",
    "                   'Model_Zone':'ML-dataset\\' number of appearances'}\n",
    "\n",
    "for y_ in ['Trackingsystem_Zone','ThresholdOnDuration_Zone', 'Binning_Zone','Model_Zone']:\n",
    "    ############### Computation\n",
    "    x = np.array(df_rel_transitions['Observed_Zone'].tolist())\n",
    "    y = np.array(df_rel_transitions[y_].tolist())\n",
    "    Explvarscore = explained_variance_score(x, y)\n",
    "    RMSE = math.sqrt(mean_squared_error(x, y))\n",
    "    MAE = mean_absolute_error(x, y)\n",
    "    #linear model & it's the 95% CI\n",
    "    slope, intercept = np.polyfit(x, y, 1) #degree=1: fit a linear model\n",
    "    y_model = np.polyval([slope, intercept], x) #evaluate the y_pred by the model\n",
    "    x_mean = np.mean(x) ; y_mean = np.mean(y)\n",
    "    n = x.size                        # number of samples\n",
    "    dof = n - 2                       # degrees of freedom: size-#parameters\n",
    "    t_ = scipy.stats.t.ppf(0.975, dof)       # Students statistic of interval confidence: two-sided 95% t-statistic\n",
    "    residual = y - y_model\n",
    "\n",
    "    ############### Plot\n",
    "    plt.rcParams.update({'font.size': 11})\n",
    "    fig = plt.figure()\n",
    "    ax = fig.add_axes([.1, .1, .8, .8])\n",
    "    #plot points with size equal to the amount of points (as count data)\n",
    "    c = Counter(zip(x,y)) # count the occurrences of each point\n",
    "    s = [5*c[(xx,yy)] for xx,yy in zip(x,y)] # create a list of the sizes, here multiplied by 5 for scale\n",
    "    ax.scatter(x, y, s=s, color=pal_[y_]) \n",
    "    #plot middle line and 95% IC\n",
    "    x_line = np.linspace(np.min(x), np.max(x), 100)\n",
    "    y_line = np.polyval([slope, intercept], x_line)\n",
    "    # confidence interval\n",
    "    std_error = (np.sum(residual**2) / dof)**.5   # Standard deviation of the error\n",
    "    ci = t_ * std_error * (1/n + (x_line - x_mean)**2 / np.sum((x - x_mean)**2))**.5\n",
    "    ax.plot(x_line, y_line, color=pal_[y_])\n",
    "    ax.fill_between(x_line, y_line + ci, y_line - ci, color=pal_[y_], label = '95% confidence interval', alpha=0.3)\n",
    "    #add text\n",
    "    ax.set_xlabel('Video observations\\' number of appearances')\n",
    "    ax.set_ylabel(dico_name_title[y_])\n",
    "    ax.text(0, max(y)-int(0.12*max(y)), 'Explained variance score = ' + str(np.round(Explvarscore,2)))\n",
    "    ax.text(0, max(y)-int(0.24*max(y)), 'RMSE = ' + str(np.round(RMSE,2)) +'     MAE = ' + str(np.round(MAE,2)))\n",
    "    plt.legend(bbox_to_anchor=(1, .25), fontsize=12);\n",
    "    #add diagonal line\n",
    "    ax.axline((0, 0), slope=1, c=\"black\", ls=\"--\", zorder=0)\n",
    "    #save\n",
    "    plt.savefig(os.path.join(path_extracted_data_cleaning, \"Transition_reliability_\"+y_+\".png\"),\n",
    "                dpi=300,format='png',bbox_inches='tight')"
   ]
  },
  {
   "cell_type": "code",
   "execution_count": null,
   "metadata": {},
   "outputs": [],
   "source": []
  },
  {
   "cell_type": "code",
   "execution_count": null,
   "metadata": {},
   "outputs": [],
   "source": []
  },
  {
   "cell_type": "code",
   "execution_count": null,
   "metadata": {},
   "outputs": [],
   "source": []
  },
  {
   "cell_type": "code",
   "execution_count": null,
   "metadata": {},
   "outputs": [],
   "source": []
  },
  {
   "cell_type": "code",
   "execution_count": null,
   "metadata": {},
   "outputs": [],
   "source": []
  },
  {
   "cell_type": "code",
   "execution_count": 26,
   "metadata": {},
   "outputs": [
    {
     "data": {
      "text/plain": [
       "(array([72.,  0.,  0., 42., 38., 18., 18., 13.,  3.,  6.]),\n",
       " array([0.        , 0.31622777, 0.63245553, 0.9486833 , 1.26491106,\n",
       "        1.58113883, 1.8973666 , 2.21359436, 2.52982213, 2.84604989,\n",
       "        3.16227766]),\n",
       " <BarContainer object of 10 artists>)"
      ]
     },
     "execution_count": 26,
     "metadata": {},
     "output_type": "execute_result"
    },
    {
     "data": {
      "image/png": "[encoded data removed]",
      "text/plain": [
       "<Figure size 432x288 with 1 Axes>"
      ]
     },
     "metadata": {
      "needs_background": "light"
     },
     "output_type": "display_data"
    }
   ],
   "source": [
    "plt.hist(np.sqrt(x))"
   ]
  },
  {
   "cell_type": "code",
   "execution_count": null,
   "metadata": {},
   "outputs": [],
   "source": []
  },
  {
   "cell_type": "code",
   "execution_count": 18,
   "metadata": {},
   "outputs": [
    {
     "name": "stdout",
     "output_type": "stream",
     "text": [
      "the minimum support is 42\n",
      "the minimum support is 42\n",
      "the minimum support is 42\n"
     ]
    },
    {
     "data": {
      "image/png": "[encoded data removed]",
      "text/plain": [
       "<Figure size 576x432 with 1 Axes>"
      ]
     },
     "metadata": {
      "needs_background": "light"
     },
     "output_type": "display_data"
    },
    {
     "data": {
      "image/png": "[encoded data removed]",
      "text/plain": [
       "<Figure size 576x432 with 1 Axes>"
      ]
     },
     "metadata": {
      "needs_background": "light"
     },
     "output_type": "display_data"
    },
    {
     "data": {
      "image/png": "[encoded data removed]",
      "text/plain": [
       "<Figure size 576x432 with 1 Axes>"
      ]
     },
     "metadata": {
      "needs_background": "light"
     },
     "output_type": "display_data"
    }
   ],
   "source": [
    "#just to verify if the above results correspond to the one find previousinly (in 4_1CleaningMethodsComparison_Computation.ipynb)\n",
    "#note that we can't remove this computation from the previous script as it was done on a lot of different set of batches\n",
    "#for the stability results! that was the main purpose of it :)\n",
    "li_rel_type = ['transitions','transitions_1_Zone', 'transitions_2_Zone', 'transitions_3_Zone', 'transitions_4_Zone', \n",
    "               'transitions_5_Zone']\n",
    "li_score = ['RMSE','MAE','explained_variance_score']\n",
    "for v in li_score:\n",
    "    df_plt = df_results[(df_results['nbr_batch']==nbr_batch)&\\\n",
    "                        (df_results['reliability_type'].isin(li_rel_type))][['reliability_type','method','support',v]]\n",
    "    #display(df_plt.head(3))\n",
    "    print('the minimum support is %s'%min(df_plt['support'].tolist()))\n",
    "    df_plt = pd.melt(df_plt, id_vars=['method','support','reliability_type'], value_vars=[v])\n",
    "    #display(df_plt.head(3))\n",
    "\n",
    "    plt.figure(figsize=(8,6))\n",
    "    ax = sns.barplot(x=\"reliability_type\", y=\"value\", hue=\"method\", data=df_plt, palette=pal_)\n",
    "    plt.xticks(fontsize=10,rotation=70)\n",
    "    #plt.ylim(0.6,1)\n",
    "    plt.xlabel('type of reliability')\n",
    "    plt.ylabel('scores');\n",
    "    plt.title('Transition dataset - '+v)\n",
    "    plt.savefig(os.path.join(path_extracted_data_cleaning,\n",
    "                             \"ReliabilityMethodsComparison_transition_\"+v+\".png\"), bbox_inches='tight')"
   ]
  },
  {
   "cell_type": "code",
   "execution_count": null,
   "metadata": {},
   "outputs": [],
   "source": []
  },
  {
   "cell_type": "code",
   "execution_count": null,
   "metadata": {},
   "outputs": [],
   "source": []
  },
  {
   "cell_type": "code",
   "execution_count": null,
   "metadata": {},
   "outputs": [],
   "source": []
  },
  {
   "cell_type": "code",
   "execution_count": null,
   "metadata": {},
   "outputs": [],
   "source": []
  },
  {
   "cell_type": "code",
   "execution_count": null,
   "metadata": {},
   "outputs": [],
   "source": []
  },
  {
   "cell_type": "code",
   "execution_count": null,
   "metadata": {},
   "outputs": [],
   "source": []
  },
  {
   "cell_type": "code",
   "execution_count": null,
   "metadata": {},
   "outputs": [],
   "source": []
  },
  {
   "cell_type": "code",
   "execution_count": null,
   "metadata": {},
   "outputs": [],
   "source": []
  }
 ],
 "metadata": {
  "kernelspec": {
   "display_name": "Python 3",
   "language": "python",
   "name": "python3"
  },
  "language_info": {
   "codemirror_mode": {
    "name": "ipython",
    "version": 3
   },
   "file_extension": ".py",
   "mimetype": "text/x-python",
   "name": "python",
   "nbconvert_exporter": "python",
   "pygments_lexer": "ipython3",
   "version": "3.8.5"
  }
 },
 "nbformat": 4,
 "nbformat_minor": 2
}
