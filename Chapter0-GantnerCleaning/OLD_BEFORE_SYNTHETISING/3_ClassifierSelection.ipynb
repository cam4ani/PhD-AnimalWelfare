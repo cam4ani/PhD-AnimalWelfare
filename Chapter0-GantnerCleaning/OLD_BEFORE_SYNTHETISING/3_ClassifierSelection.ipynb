{
 "cells": [
  {
   "cell_type": "code",
   "execution_count": 1,
   "metadata": {},
   "outputs": [],
   "source": [
    "#basic package\n",
    "import json\n",
    "import tqdm\n",
    "import os\n",
    "import numpy as np\n",
    "import glob\n",
    "import pandas as pd\n",
    "import sys\n",
    "import shutil\n",
    "import time\n",
    "import datetime as dt\n",
    "import itertools\n",
    "import time\n",
    "import re\n",
    "from collections import Counter\n",
    "from collections import defaultdict\n",
    "import operator\n",
    "import math\n",
    "import functools\n",
    "import collections\n",
    "import random\n",
    "\n",
    "#generate random id\n",
    "import uuid\n",
    "\n",
    "#ICC in python\n",
    "import pingouin as pg\n",
    "\n",
    "#modelling\n",
    "from sklearn.preprocessing import StandardScaler, MinMaxScaler\n",
    "from sklearn.utils import shuffle\n",
    "from sklearn.model_selection import train_test_split\n",
    "from sklearn.ensemble import GradientBoostingClassifier, RandomForestClassifier\n",
    "from xgboost import XGBClassifier\n",
    "from sklearn.neighbors import KNeighborsClassifier\n",
    "from sklearn.model_selection import GridSearchCV, RandomizedSearchCV\n",
    "from sklearn.metrics import classification_report, confusion_matrix, plot_confusion_matrix, cohen_kappa_score\n",
    "from xgboost import plot_importance\n",
    "#catboost, for a better support of categorical data\n",
    "from catboost import CatBoostClassifier, Pool\n",
    "#to use all except one core\n",
    "import multiprocessing\n",
    "\n",
    "#save models\n",
    "import joblib\n",
    "\n",
    "#comapring models statistically\n",
    "from statsmodels.stats.contingency_tables import mcnemar\n",
    "\n",
    "#plot\n",
    "import matplotlib.pyplot as plt\n",
    "import seaborn as sns"
   ]
  },
  {
   "cell_type": "code",
   "execution_count": 2,
   "metadata": {},
   "outputs": [
    {
     "name": "stderr",
     "output_type": "stream",
     "text": [
      "C:\\Users\\camil\\anaconda3\\lib\\site-packages\\scipy\\sparse\\sparsetools.py:21: DeprecationWarning: `scipy.sparse.sparsetools` is deprecated!\n",
      "scipy.sparse.sparsetools is a private module for scipy.sparse, and should not be used.\n",
      "  _deprecated()\n"
     ]
    }
   ],
   "source": [
    "PACKAGE_PARENT = '../'\n",
    "SCRIPT_DIR = os.path.dirname(os.path.realpath(os.path.join(os.getcwd(), os.path.expanduser('__file__'))))\n",
    "sys.path.append(os.path.normpath(os.path.join(SCRIPT_DIR, PACKAGE_PARENT)))\n",
    "from UTILS import is_WG_open, ConfMat, list_of_zones, res_intodico\n",
    "import config_origins as config"
   ]
  },
  {
   "cell_type": "code",
   "execution_count": 3,
   "metadata": {},
   "outputs": [
    {
     "name": "stderr",
     "output_type": "stream",
     "text": [
      "C:\\Users\\camil\\anaconda3\\lib\\site-packages\\ipykernel\\ipkernel.py:283: DeprecationWarning: `should_run_async` will not call `transform_cell` automatically in the future. Please pass the result to `transformed_cell` argument and any exception that happen during thetransform in `preprocessing_exc_tuple` in IPython 7.17 and above.\n",
      "  and should_run_async(code)\n"
     ]
    }
   ],
   "source": [
    "random.seed(0)"
   ]
  },
  {
   "cell_type": "markdown",
   "metadata": {},
   "source": [
    "# Download Input Data"
   ]
  },
  {
   "cell_type": "code",
   "execution_count": 4,
   "metadata": {},
   "outputs": [
    {
     "name": "stderr",
     "output_type": "stream",
     "text": [
      "C:\\Users\\camil\\anaconda3\\lib\\site-packages\\ipykernel\\ipkernel.py:283: DeprecationWarning: `should_run_async` will not call `transform_cell` automatically in the future. Please pass the result to `transformed_cell` argument and any exception that happen during thetransform in `preprocessing_exc_tuple` in IPython 7.17 and above.\n",
      "  and should_run_async(code)\n"
     ]
    }
   ],
   "source": [
    "#define parameters\n",
    "path_extracted_data = config.path_extracted_data\n",
    "path_initial_data = config.path_initial_data\n",
    "id_run = config.id_run\n",
    "dico_matching = config.dico_matching\n",
    "dico_garden_opening_hour = config.dico_garden_opening_hour\n",
    "path_extracted_data_cleaning = os.path.join(path_extracted_data,'Cleaning')\n",
    "dico_BatchID_endhour = config.dico_BatchID_endhour\n",
    "li_cont_select = config.li_cont_select\n",
    "li_bin = config.li_bin\n",
    "li_cat_select = config.li_cat_select\n",
    "path_extracted_data_cleaning_model = os.path.join(path_extracted_data_cleaning,'model')    \n",
    "path__ = os.path.join(path_extracted_data_cleaning,'1secTS')\n",
    "#create a director if not existing\n",
    "if not os.path.exists(path__):\n",
    "    os.makedirs(path__)"
   ]
  },
  {
   "cell_type": "code",
   "execution_count": 5,
   "metadata": {},
   "outputs": [
    {
     "name": "stderr",
     "output_type": "stream",
     "text": [
      "C:\\Users\\camil\\anaconda3\\lib\\site-packages\\ipykernel\\ipkernel.py:283: DeprecationWarning: `should_run_async` will not call `transform_cell` automatically in the future. Please pass the result to `transformed_cell` argument and any exception that happen during thetransform in `preprocessing_exc_tuple` in IPython 7.17 and above.\n",
      "  and should_run_async(code)\n"
     ]
    },
    {
     "name": "stdout",
     "output_type": "stream",
     "text": [
      "(5137, 35)\n"
     ]
    },
    {
     "data": {
      "text/html": [
       "<div>\n",
       "<style scoped>\n",
       "    .dataframe tbody tr th:only-of-type {\n",
       "        vertical-align: middle;\n",
       "    }\n",
       "\n",
       "    .dataframe tbody tr th {\n",
       "        vertical-align: top;\n",
       "    }\n",
       "\n",
       "    .dataframe thead th {\n",
       "        text-align: right;\n",
       "    }\n",
       "</style>\n",
       "<table border=\"1\" class=\"dataframe\">\n",
       "  <thead>\n",
       "    <tr style=\"text-align: right;\">\n",
       "      <th></th>\n",
       "      <th>Timestamp</th>\n",
       "      <th>TagID</th>\n",
       "      <th>HenID</th>\n",
       "      <th>Trackingsystem_Zone</th>\n",
       "      <th>PenID</th>\n",
       "      <th>VideoAnalyse</th>\n",
       "      <th>system</th>\n",
       "      <th>date</th>\n",
       "      <th>type</th>\n",
       "      <th>signalstrength</th>\n",
       "      <th>...</th>\n",
       "      <th>previous_duration</th>\n",
       "      <th>algo_type</th>\n",
       "      <th>BatchID</th>\n",
       "      <th>previousZone==NextZone</th>\n",
       "      <th>next_duration</th>\n",
       "      <th>next2zone==Zone</th>\n",
       "      <th>previous2zone==Zone</th>\n",
       "      <th>zone3_match_exist</th>\n",
       "      <th>is_first_observation</th>\n",
       "      <th>Observed_Zone</th>\n",
       "    </tr>\n",
       "  </thead>\n",
       "  <tbody>\n",
       "    <tr>\n",
       "      <th>4775</th>\n",
       "      <td>2020-10-14 13:32:59</td>\n",
       "      <td>tag_16</td>\n",
       "      <td>hen_92</td>\n",
       "      <td>3_Zone</td>\n",
       "      <td>pen3</td>\n",
       "      <td>0</td>\n",
       "      <td>3 - 5</td>\n",
       "      <td>2020-10-14</td>\n",
       "      <td>students</td>\n",
       "      <td>3.0</td>\n",
       "      <td>...</td>\n",
       "      <td>612.0</td>\n",
       "      <td>cleaning</td>\n",
       "      <td>NaN</td>\n",
       "      <td>True</td>\n",
       "      <td>376.0</td>\n",
       "      <td>1.0</td>\n",
       "      <td>0.0</td>\n",
       "      <td>0.0</td>\n",
       "      <td>0.0</td>\n",
       "      <td>2_Zone</td>\n",
       "    </tr>\n",
       "    <tr>\n",
       "      <th>1824</th>\n",
       "      <td>2020-10-15 12:48:01</td>\n",
       "      <td>tag_60</td>\n",
       "      <td>hen_88</td>\n",
       "      <td>3_Zone</td>\n",
       "      <td>pen5</td>\n",
       "      <td>0</td>\n",
       "      <td>3 - 5</td>\n",
       "      <td>2020-10-15</td>\n",
       "      <td>students</td>\n",
       "      <td>11.0</td>\n",
       "      <td>...</td>\n",
       "      <td>57.0</td>\n",
       "      <td>cleaning</td>\n",
       "      <td>NaN</td>\n",
       "      <td>True</td>\n",
       "      <td>9.0</td>\n",
       "      <td>1.0</td>\n",
       "      <td>1.0</td>\n",
       "      <td>1.0</td>\n",
       "      <td>0.0</td>\n",
       "      <td>5_Zone</td>\n",
       "    </tr>\n",
       "    <tr>\n",
       "      <th>1887</th>\n",
       "      <td>2020-10-25 12:00:37</td>\n",
       "      <td>tag_49</td>\n",
       "      <td>hen_122</td>\n",
       "      <td>2_Zone</td>\n",
       "      <td>pen12</td>\n",
       "      <td>1</td>\n",
       "      <td>10 - 12</td>\n",
       "      <td>2020-10-25</td>\n",
       "      <td>students</td>\n",
       "      <td>15.0</td>\n",
       "      <td>...</td>\n",
       "      <td>266.0</td>\n",
       "      <td>cleaning</td>\n",
       "      <td>NaN</td>\n",
       "      <td>False</td>\n",
       "      <td>161.0</td>\n",
       "      <td>1.0</td>\n",
       "      <td>0.0</td>\n",
       "      <td>0.0</td>\n",
       "      <td>0.0</td>\n",
       "      <td>2_Zone</td>\n",
       "    </tr>\n",
       "  </tbody>\n",
       "</table>\n",
       "<p>3 rows × 35 columns</p>\n",
       "</div>"
      ],
      "text/plain": [
       "               Timestamp   TagID    HenID Trackingsystem_Zone  PenID  \\\n",
       "4775 2020-10-14 13:32:59  tag_16   hen_92              3_Zone   pen3   \n",
       "1824 2020-10-15 12:48:01  tag_60   hen_88              3_Zone   pen5   \n",
       "1887 2020-10-25 12:00:37  tag_49  hen_122              2_Zone  pen12   \n",
       "\n",
       "      VideoAnalyse   system       date      type  signalstrength  ...  \\\n",
       "4775             0    3 - 5 2020-10-14  students             3.0  ...   \n",
       "1824             0    3 - 5 2020-10-15  students            11.0  ...   \n",
       "1887             1  10 - 12 2020-10-25  students            15.0  ...   \n",
       "\n",
       "      previous_duration algo_type BatchID previousZone==NextZone  \\\n",
       "4775              612.0  cleaning     NaN                   True   \n",
       "1824               57.0  cleaning     NaN                   True   \n",
       "1887              266.0  cleaning     NaN                  False   \n",
       "\n",
       "     next_duration next2zone==Zone previous2zone==Zone zone3_match_exist  \\\n",
       "4775         376.0             1.0                 0.0               0.0   \n",
       "1824           9.0             1.0                 1.0               1.0   \n",
       "1887         161.0             1.0                 0.0               0.0   \n",
       "\n",
       "     is_first_observation Observed_Zone  \n",
       "4775                  0.0        2_Zone  \n",
       "1824                  0.0        5_Zone  \n",
       "1887                  0.0        2_Zone  \n",
       "\n",
       "[3 rows x 35 columns]"
      ]
     },
     "execution_count": 5,
     "metadata": {},
     "output_type": "execute_result"
    }
   ],
   "source": [
    "df = pd.read_csv(os.path.join(path_extracted_data_cleaning, id_run+'InputCleaning.csv'), parse_dates=['Timestamp', 'date'], \n",
    "                 dayfirst=True, sep=';')\n",
    "df = shuffle(df)\n",
    "df['VideoAnalyse'] = df['VideoAnalyse'].map(lambda x: int(x))\n",
    "df = df[df['VideoAnalyse'].isin([0,1])]\n",
    "print(df.shape)\n",
    "df.head(3)"
   ]
  },
  {
   "cell_type": "markdown",
   "metadata": {},
   "source": [
    "# Data preprocessing"
   ]
  },
  {
   "cell_type": "code",
   "execution_count": 6,
   "metadata": {},
   "outputs": [
    {
     "name": "stderr",
     "output_type": "stream",
     "text": [
      "C:\\Users\\camil\\anaconda3\\lib\\site-packages\\ipykernel\\ipkernel.py:283: DeprecationWarning: `should_run_async` will not call `transform_cell` automatically in the future. Please pass the result to `transformed_cell` argument and any exception that happen during thetransform in `preprocessing_exc_tuple` in IPython 7.17 and above.\n",
      "  and should_run_async(code)\n"
     ]
    },
    {
     "data": {
      "text/html": [
       "<div>\n",
       "<style scoped>\n",
       "    .dataframe tbody tr th:only-of-type {\n",
       "        vertical-align: middle;\n",
       "    }\n",
       "\n",
       "    .dataframe tbody tr th {\n",
       "        vertical-align: top;\n",
       "    }\n",
       "\n",
       "    .dataframe thead th {\n",
       "        text-align: right;\n",
       "    }\n",
       "</style>\n",
       "<table border=\"1\" class=\"dataframe\">\n",
       "  <thead>\n",
       "    <tr style=\"text-align: right;\">\n",
       "      <th></th>\n",
       "      <th>signalstrength</th>\n",
       "      <th>signalstzone2</th>\n",
       "      <th>duration</th>\n",
       "      <th>next_duration</th>\n",
       "      <th>previous_duration</th>\n",
       "      <th>next2zone==Zone</th>\n",
       "      <th>previous2zone==Zone</th>\n",
       "      <th>zone3_match_exist</th>\n",
       "    </tr>\n",
       "  </thead>\n",
       "  <tbody>\n",
       "    <tr>\n",
       "      <th>4775</th>\n",
       "      <td>3.0</td>\n",
       "      <td>0.0</td>\n",
       "      <td>16.0</td>\n",
       "      <td>376.0</td>\n",
       "      <td>612.0</td>\n",
       "      <td>1.0</td>\n",
       "      <td>0.0</td>\n",
       "      <td>0.0</td>\n",
       "    </tr>\n",
       "    <tr>\n",
       "      <th>1824</th>\n",
       "      <td>11.0</td>\n",
       "      <td>9.0</td>\n",
       "      <td>41.0</td>\n",
       "      <td>9.0</td>\n",
       "      <td>57.0</td>\n",
       "      <td>1.0</td>\n",
       "      <td>1.0</td>\n",
       "      <td>1.0</td>\n",
       "    </tr>\n",
       "    <tr>\n",
       "      <th>1887</th>\n",
       "      <td>15.0</td>\n",
       "      <td>0.0</td>\n",
       "      <td>11.0</td>\n",
       "      <td>161.0</td>\n",
       "      <td>266.0</td>\n",
       "      <td>1.0</td>\n",
       "      <td>0.0</td>\n",
       "      <td>0.0</td>\n",
       "    </tr>\n",
       "  </tbody>\n",
       "</table>\n",
       "</div>"
      ],
      "text/plain": [
       "      signalstrength  signalstzone2  duration  next_duration  \\\n",
       "4775             3.0            0.0      16.0          376.0   \n",
       "1824            11.0            9.0      41.0            9.0   \n",
       "1887            15.0            0.0      11.0          161.0   \n",
       "\n",
       "      previous_duration  next2zone==Zone  previous2zone==Zone  \\\n",
       "4775              612.0              1.0                  0.0   \n",
       "1824               57.0              1.0                  1.0   \n",
       "1887              266.0              1.0                  0.0   \n",
       "\n",
       "      zone3_match_exist  \n",
       "4775                0.0  \n",
       "1824                1.0  \n",
       "1887                0.0  "
      ]
     },
     "metadata": {},
     "output_type": "display_data"
    },
    {
     "data": {
      "text/html": [
       "<div>\n",
       "<style scoped>\n",
       "    .dataframe tbody tr th:only-of-type {\n",
       "        vertical-align: middle;\n",
       "    }\n",
       "\n",
       "    .dataframe tbody tr th {\n",
       "        vertical-align: top;\n",
       "    }\n",
       "\n",
       "    .dataframe thead th {\n",
       "        text-align: right;\n",
       "    }\n",
       "</style>\n",
       "<table border=\"1\" class=\"dataframe\">\n",
       "  <thead>\n",
       "    <tr style=\"text-align: right;\">\n",
       "      <th></th>\n",
       "      <th>signalstrength</th>\n",
       "      <th>signalstzone2</th>\n",
       "      <th>duration</th>\n",
       "      <th>next_duration</th>\n",
       "      <th>previous_duration</th>\n",
       "      <th>next2zone==Zone</th>\n",
       "      <th>previous2zone==Zone</th>\n",
       "      <th>zone3_match_exist</th>\n",
       "    </tr>\n",
       "  </thead>\n",
       "  <tbody>\n",
       "    <tr>\n",
       "      <th>4775</th>\n",
       "      <td>-2.142876</td>\n",
       "      <td>-2.054917</td>\n",
       "      <td>-0.054113</td>\n",
       "      <td>-0.011803</td>\n",
       "      <td>0.002239</td>\n",
       "      <td>1.0</td>\n",
       "      <td>0.0</td>\n",
       "      <td>0.0</td>\n",
       "    </tr>\n",
       "    <tr>\n",
       "      <th>1824</th>\n",
       "      <td>-0.158120</td>\n",
       "      <td>0.303697</td>\n",
       "      <td>-0.050927</td>\n",
       "      <td>-0.058159</td>\n",
       "      <td>-0.034649</td>\n",
       "      <td>1.0</td>\n",
       "      <td>1.0</td>\n",
       "      <td>1.0</td>\n",
       "    </tr>\n",
       "    <tr>\n",
       "      <th>1887</th>\n",
       "      <td>0.834258</td>\n",
       "      <td>-2.054917</td>\n",
       "      <td>-0.054750</td>\n",
       "      <td>-0.038960</td>\n",
       "      <td>-0.020758</td>\n",
       "      <td>1.0</td>\n",
       "      <td>0.0</td>\n",
       "      <td>0.0</td>\n",
       "    </tr>\n",
       "  </tbody>\n",
       "</table>\n",
       "</div>"
      ],
      "text/plain": [
       "      signalstrength  signalstzone2  duration  next_duration  \\\n",
       "4775       -2.142876      -2.054917 -0.054113      -0.011803   \n",
       "1824       -0.158120       0.303697 -0.050927      -0.058159   \n",
       "1887        0.834258      -2.054917 -0.054750      -0.038960   \n",
       "\n",
       "      previous_duration  next2zone==Zone  previous2zone==Zone  \\\n",
       "4775           0.002239              1.0                  0.0   \n",
       "1824          -0.034649              1.0                  1.0   \n",
       "1887          -0.020758              1.0                  0.0   \n",
       "\n",
       "      zone3_match_exist  \n",
       "4775                0.0  \n",
       "1824                1.0  \n",
       "1887                0.0  "
      ]
     },
     "execution_count": 6,
     "metadata": {},
     "output_type": "execute_result"
    }
   ],
   "source": [
    "#scaling numerical data: necessary due to duration high values\n",
    "display(df[li_cont_select].head(3))\n",
    "sc = StandardScaler()\n",
    "li_scale = [x for x in li_cont_select if x not in li_bin]\n",
    "df[li_scale] = sc.fit_transform(df[li_scale])\n",
    "df[li_cont_select].head(3)"
   ]
  },
  {
   "cell_type": "code",
   "execution_count": 7,
   "metadata": {},
   "outputs": [
    {
     "name": "stderr",
     "output_type": "stream",
     "text": [
      "C:\\Users\\camil\\anaconda3\\lib\\site-packages\\ipykernel\\ipkernel.py:283: DeprecationWarning: `should_run_async` will not call `transform_cell` automatically in the future. Please pass the result to `transformed_cell` argument and any exception that happen during thetransform in `preprocessing_exc_tuple` in IPython 7.17 and above.\n",
      "  and should_run_async(code)\n"
     ]
    },
    {
     "data": {
      "text/html": [
       "<div>\n",
       "<style scoped>\n",
       "    .dataframe tbody tr th:only-of-type {\n",
       "        vertical-align: middle;\n",
       "    }\n",
       "\n",
       "    .dataframe tbody tr th {\n",
       "        vertical-align: top;\n",
       "    }\n",
       "\n",
       "    .dataframe thead th {\n",
       "        text-align: right;\n",
       "    }\n",
       "</style>\n",
       "<table border=\"1\" class=\"dataframe\">\n",
       "  <thead>\n",
       "    <tr style=\"text-align: right;\">\n",
       "      <th></th>\n",
       "      <th>Trackingsystem_Zone</th>\n",
       "      <th>zone2_match</th>\n",
       "      <th>previous1_zone</th>\n",
       "      <th>next1_zone</th>\n",
       "      <th>system</th>\n",
       "    </tr>\n",
       "  </thead>\n",
       "  <tbody>\n",
       "    <tr>\n",
       "      <th>4775</th>\n",
       "      <td>3_Zone</td>\n",
       "      <td>NoOtherZone</td>\n",
       "      <td>2_Zone</td>\n",
       "      <td>2_Zone</td>\n",
       "      <td>3 - 5</td>\n",
       "    </tr>\n",
       "    <tr>\n",
       "      <th>1824</th>\n",
       "      <td>3_Zone</td>\n",
       "      <td>5_Zone</td>\n",
       "      <td>5_Zone</td>\n",
       "      <td>5_Zone</td>\n",
       "      <td>3 - 5</td>\n",
       "    </tr>\n",
       "    <tr>\n",
       "      <th>1887</th>\n",
       "      <td>2_Zone</td>\n",
       "      <td>NoOtherZone</td>\n",
       "      <td>3_Zone</td>\n",
       "      <td>1_Zone</td>\n",
       "      <td>10 - 12</td>\n",
       "    </tr>\n",
       "  </tbody>\n",
       "</table>\n",
       "</div>"
      ],
      "text/plain": [
       "     Trackingsystem_Zone  zone2_match previous1_zone next1_zone   system\n",
       "4775              3_Zone  NoOtherZone         2_Zone     2_Zone    3 - 5\n",
       "1824              3_Zone       5_Zone         5_Zone     5_Zone    3 - 5\n",
       "1887              2_Zone  NoOtherZone         3_Zone     1_Zone  10 - 12"
      ]
     },
     "execution_count": 7,
     "metadata": {},
     "output_type": "execute_result"
    }
   ],
   "source": [
    "#display categoricalfeatures\n",
    "df[li_cat_select].head(3)"
   ]
  },
  {
   "cell_type": "code",
   "execution_count": 8,
   "metadata": {},
   "outputs": [
    {
     "name": "stderr",
     "output_type": "stream",
     "text": [
      "C:\\Users\\camil\\anaconda3\\lib\\site-packages\\ipykernel\\ipkernel.py:283: DeprecationWarning: `should_run_async` will not call `transform_cell` automatically in the future. Please pass the result to `transformed_cell` argument and any exception that happen during thetransform in `preprocessing_exc_tuple` in IPython 7.17 and above.\n",
      "  and should_run_async(code)\n"
     ]
    },
    {
     "data": {
      "text/html": [
       "<div>\n",
       "<style scoped>\n",
       "    .dataframe tbody tr th:only-of-type {\n",
       "        vertical-align: middle;\n",
       "    }\n",
       "\n",
       "    .dataframe tbody tr th {\n",
       "        vertical-align: top;\n",
       "    }\n",
       "\n",
       "    .dataframe thead th {\n",
       "        text-align: right;\n",
       "    }\n",
       "</style>\n",
       "<table border=\"1\" class=\"dataframe\">\n",
       "  <thead>\n",
       "    <tr style=\"text-align: right;\">\n",
       "      <th></th>\n",
       "      <th>signalstrength</th>\n",
       "      <th>signalstzone2</th>\n",
       "      <th>duration</th>\n",
       "      <th>next_duration</th>\n",
       "      <th>previous_duration</th>\n",
       "      <th>next2zone==Zone</th>\n",
       "      <th>previous2zone==Zone</th>\n",
       "      <th>zone3_match_exist</th>\n",
       "    </tr>\n",
       "  </thead>\n",
       "  <tbody>\n",
       "    <tr>\n",
       "      <th>4775</th>\n",
       "      <td>-2.142876</td>\n",
       "      <td>-2.054917</td>\n",
       "      <td>-0.054113</td>\n",
       "      <td>-0.011803</td>\n",
       "      <td>0.002239</td>\n",
       "      <td>1.0</td>\n",
       "      <td>0.0</td>\n",
       "      <td>0.0</td>\n",
       "    </tr>\n",
       "    <tr>\n",
       "      <th>1824</th>\n",
       "      <td>-0.158120</td>\n",
       "      <td>0.303697</td>\n",
       "      <td>-0.050927</td>\n",
       "      <td>-0.058159</td>\n",
       "      <td>-0.034649</td>\n",
       "      <td>1.0</td>\n",
       "      <td>1.0</td>\n",
       "      <td>1.0</td>\n",
       "    </tr>\n",
       "    <tr>\n",
       "      <th>1887</th>\n",
       "      <td>0.834258</td>\n",
       "      <td>-2.054917</td>\n",
       "      <td>-0.054750</td>\n",
       "      <td>-0.038960</td>\n",
       "      <td>-0.020758</td>\n",
       "      <td>1.0</td>\n",
       "      <td>0.0</td>\n",
       "      <td>0.0</td>\n",
       "    </tr>\n",
       "  </tbody>\n",
       "</table>\n",
       "</div>"
      ],
      "text/plain": [
       "      signalstrength  signalstzone2  duration  next_duration  \\\n",
       "4775       -2.142876      -2.054917 -0.054113      -0.011803   \n",
       "1824       -0.158120       0.303697 -0.050927      -0.058159   \n",
       "1887        0.834258      -2.054917 -0.054750      -0.038960   \n",
       "\n",
       "      previous_duration  next2zone==Zone  previous2zone==Zone  \\\n",
       "4775           0.002239              1.0                  0.0   \n",
       "1824          -0.034649              1.0                  1.0   \n",
       "1887          -0.020758              1.0                  0.0   \n",
       "\n",
       "      zone3_match_exist  \n",
       "4775                0.0  \n",
       "1824                1.0  \n",
       "1887                0.0  "
      ]
     },
     "execution_count": 8,
     "metadata": {},
     "output_type": "execute_result"
    }
   ],
   "source": [
    "#display numerical features\n",
    "df[li_cont_select].head(3)"
   ]
  },
  {
   "cell_type": "markdown",
   "metadata": {},
   "source": [
    "# Compare models with different random seeds"
   ]
  },
  {
   "cell_type": "code",
   "execution_count": 10,
   "metadata": {},
   "outputs": [
    {
     "name": "stderr",
     "output_type": "stream",
     "text": [
      "C:\\Users\\camil\\anaconda3\\lib\\site-packages\\ipykernel\\ipkernel.py:283: DeprecationWarning: `should_run_async` will not call `transform_cell` automatically in the future. Please pass the result to `transformed_cell` argument and any exception that happen during thetransform in `preprocessing_exc_tuple` in IPython 7.17 and above.\n",
      "  and should_run_async(code)\n",
      "100%|████████████████████████████████████████████████████████████████████████████████| 100/100 [18:30<00:00, 11.10s/it]\n"
     ]
    },
    {
     "data": {
      "text/html": [
       "<div>\n",
       "<style scoped>\n",
       "    .dataframe tbody tr th:only-of-type {\n",
       "        vertical-align: middle;\n",
       "    }\n",
       "\n",
       "    .dataframe tbody tr th {\n",
       "        vertical-align: top;\n",
       "    }\n",
       "\n",
       "    .dataframe thead th {\n",
       "        text-align: right;\n",
       "    }\n",
       "</style>\n",
       "<table border=\"1\" class=\"dataframe\">\n",
       "  <thead>\n",
       "    <tr style=\"text-align: right;\">\n",
       "      <th></th>\n",
       "      <th>algo</th>\n",
       "      <th>model_param_used</th>\n",
       "      <th>random_seed</th>\n",
       "      <th>accuracy_training</th>\n",
       "      <th>accuracy_testing</th>\n",
       "    </tr>\n",
       "  </thead>\n",
       "  <tbody>\n",
       "    <tr>\n",
       "      <th>0</th>\n",
       "      <td>GradientBoostingClassifier</td>\n",
       "      <td>([DecisionTreeRegressor(criterion='friedman_ms...</td>\n",
       "      <td>4321</td>\n",
       "      <td>0.996</td>\n",
       "      <td>0.990</td>\n",
       "    </tr>\n",
       "    <tr>\n",
       "      <th>1</th>\n",
       "      <td>CatBoost</td>\n",
       "      <td>{'nan_mode': 'Min', 'eval_metric': 'Logloss', ...</td>\n",
       "      <td>4321</td>\n",
       "      <td>0.995</td>\n",
       "      <td>0.989</td>\n",
       "    </tr>\n",
       "    <tr>\n",
       "      <th>2</th>\n",
       "      <td>RandomForest</td>\n",
       "      <td>(DecisionTreeClassifier(criterion='entropy', m...</td>\n",
       "      <td>4321</td>\n",
       "      <td>0.995</td>\n",
       "      <td>0.993</td>\n",
       "    </tr>\n",
       "  </tbody>\n",
       "</table>\n",
       "</div>"
      ],
      "text/plain": [
       "                         algo  \\\n",
       "0  GradientBoostingClassifier   \n",
       "1                    CatBoost   \n",
       "2                RandomForest   \n",
       "\n",
       "                                    model_param_used  random_seed  \\\n",
       "0  ([DecisionTreeRegressor(criterion='friedman_ms...         4321   \n",
       "1  {'nan_mode': 'Min', 'eval_metric': 'Logloss', ...         4321   \n",
       "2  (DecisionTreeClassifier(criterion='entropy', m...         4321   \n",
       "\n",
       "   accuracy_training  accuracy_testing  \n",
       "0              0.996             0.990  \n",
       "1              0.995             0.989  \n",
       "2              0.995             0.993  "
      ]
     },
     "metadata": {},
     "output_type": "display_data"
    },
    {
     "data": {
      "text/html": [
       "<div>\n",
       "<style scoped>\n",
       "    .dataframe tbody tr th:only-of-type {\n",
       "        vertical-align: middle;\n",
       "    }\n",
       "\n",
       "    .dataframe tbody tr th {\n",
       "        vertical-align: top;\n",
       "    }\n",
       "\n",
       "    .dataframe thead th {\n",
       "        text-align: right;\n",
       "    }\n",
       "</style>\n",
       "<table border=\"1\" class=\"dataframe\">\n",
       "  <thead>\n",
       "    <tr style=\"text-align: right;\">\n",
       "      <th></th>\n",
       "      <th>type</th>\n",
       "      <th>stat</th>\n",
       "      <th>pval</th>\n",
       "    </tr>\n",
       "  </thead>\n",
       "  <tbody>\n",
       "    <tr>\n",
       "      <th>0</th>\n",
       "      <td>RF - GBC</td>\n",
       "      <td>2.0</td>\n",
       "      <td>0.6875</td>\n",
       "    </tr>\n",
       "    <tr>\n",
       "      <th>1</th>\n",
       "      <td>RF - CB</td>\n",
       "      <td>1.0</td>\n",
       "      <td>0.3750</td>\n",
       "    </tr>\n",
       "    <tr>\n",
       "      <th>2</th>\n",
       "      <td>GBC - CB</td>\n",
       "      <td>3.0</td>\n",
       "      <td>1.0000</td>\n",
       "    </tr>\n",
       "  </tbody>\n",
       "</table>\n",
       "</div>"
      ],
      "text/plain": [
       "       type  stat    pval\n",
       "0  RF - GBC   2.0  0.6875\n",
       "1   RF - CB   1.0  0.3750\n",
       "2  GBC - CB   3.0  1.0000"
      ]
     },
     "metadata": {},
     "output_type": "display_data"
    }
   ],
   "source": [
    "###############################################################################################################################\n",
    "############################# Split into training and validation (for parameter tuning) & dummies #############################\n",
    "###############################################################################################################################\n",
    "#sklearn: RF and gradientboosting\n",
    "li_dico = []\n",
    "li_dico_test = []\n",
    "for rs in tqdm.tqdm(random.sample(range(0,100000),100)):\n",
    "    \n",
    "    ####### train,test dummie : RF & GB#######\n",
    "    #reinitialise\n",
    "    df_cleaning = df[df['algo_type']=='cleaning'].copy()\n",
    "    #remove WG from testing (this will only be used for the method comparison)\n",
    "    df_testing = df[(df['algo_type']=='verification')&(df['Trackingsystem_Zone']!='1_Zone')].copy()\n",
    "    \n",
    "    #transform categorical data into dumies\n",
    "    df_cl_d = pd.get_dummies(df_cleaning.filter(li_cont_select+li_cat_select, axis=1), columns=li_cat_select, drop_first=True)\n",
    "    df_te_d = pd.get_dummies(df_testing.filter(li_cont_select+li_cat_select, axis=1), columns=li_cat_select, drop_first=True)\n",
    "\n",
    "    if len(df_te_d.columns)!=len(df_cl_d.columns):\n",
    "        print('the test set does not have the same amount of features than the cleaning set, certainly due to low amount of data,\\\n",
    "        Please remove some varibles that has missing values in the testing set')\n",
    "        sys.exit()\n",
    "\n",
    "    #split into train, test and put into good format\n",
    "    #train\n",
    "    X_train = df_cl_d.values\n",
    "    y_train = df_cleaning[['VideoAnalyse']].values\n",
    "    y_train = np.ravel(y_train)\n",
    "    #print(X_train.shape, y_train.shape)\n",
    "\n",
    "    #test\n",
    "    X_test = df_te_d.values\n",
    "    y_test = df_testing[['VideoAnalyse']].values\n",
    "    y_test = np.ravel(y_test) #from (x,1) to (x,)\n",
    "    #print(X_test.shape, y_test.shape)\n",
    "\n",
    "    #var name\n",
    "    var_name = df_cl_d.columns\n",
    "    #split into a validation dataset for first step of parameter tuning (narrow down without over-fitting)\n",
    "    val_size = 0.2\n",
    "    X_train_tuning, X_val_tuning, y_train_tuning, y_val_tuning = train_test_split(X_train, y_train, \n",
    "                                                                                  test_size=val_size, random_state=rs)\n",
    "\n",
    "    #small control: show rows with at least one nan\n",
    "    if df_cl_d[df_cl_d.isna().any(axis=1)].shape[0]!=0:\n",
    "        print('ERROR: you have nan in your cleaning set')\n",
    "        sys.exit()\n",
    "    if df_te_d[df_te_d.isna().any(axis=1)].shape[0]!=0:\n",
    "        print('ERROR: you have nan in your testing set')\n",
    "        sys.exit()\n",
    "\n",
    "    ####### train, val, test (no dummie): CB #######\n",
    "    #we need to keep into dataframe format in order to have the columns names to specify in the hyperparamters the names of the\n",
    "    #categorical variables\n",
    "    #split into train, test and validation\n",
    "    #for algo from sklearn, we should add val+train together, while for the Catboost we will not add them up\n",
    "    #train\n",
    "    df_X_train_cb_init = df_cleaning.filter(li_cont_select+li_cat_select, axis=1)\n",
    "    df_y_train_cb_init = df_cleaning[['VideoAnalyse']]\n",
    "\n",
    "    #test\n",
    "    df_X_test_cb = df_testing.filter(li_cont_select+li_cat_select, axis=1)\n",
    "    df_y_test_cb = df_testing[['VideoAnalyse']]\n",
    "\n",
    "    #split training into validation: for algo from sklearn, we should add val+train together, while for the Catboost we will not add them up\n",
    "    df_X_train_cb, df_X_val_cb, df_y_train_cb, df_y_val_cb = train_test_split(df_X_train_cb_init, df_y_train_cb_init, \n",
    "                                                                              test_size=val_size, random_state=rs)\n",
    "    #print(df_X_train_cb.shape, df_y_train_cb.shape, df_X_val_cb.shape, df_y_val_cb.shape, df_X_test_cb.shape, df_y_test_cb.shape)\n",
    "\n",
    "    \n",
    "    ###############################################################################################################################\n",
    "    ############################################### model with different random seed ##############################################\n",
    "    ###############################################################################################################################\n",
    "\n",
    "    dico_name_model = {}\n",
    "    ################# Randomforest\n",
    "    model_RF = RandomForestClassifier(class_weight={0: 6.973880597014926, 1: 1}, criterion='entropy', max_depth=13, \n",
    "                                      max_features='sqrt', min_impurity_decrease=0.0003340000000000001, min_samples_leaf=3,\n",
    "                                      min_samples_split=5, n_estimators=120, random_state=rs)            \n",
    "    #model_RF = joblib.load(os.path.join(path_extracted_data_cleaning_model, 'selected_randomforest.pkl')) #need t add \"rs\"\n",
    "    model_RF.fit(X_train, y_train)\n",
    "    dico_RF = {'algo':'RandomForest', 'model_param_used':model_RF, 'random_seed':rs,\n",
    "                    'accuracy_training':round(model_RF.score(X_train, y_train),3),\n",
    "                    'accuracy_testing':round(model_RF.score(X_test, y_test),3)}\n",
    "    dico_name_model['RandomForest'] = model_RF\n",
    "\n",
    "    ################# GradientBoostingClassifier\n",
    "    model_GBC = GradientBoostingClassifier(learning_rate=0.15, max_depth=6, max_features='sqrt',\n",
    "                                           min_impurity_decrease=0.0002575, min_samples_leaf=4,\n",
    "                                           min_samples_split=7, n_iter_no_change=8, tol=0.001,\n",
    "                                           validation_fraction=0.2, random_state=rs)\n",
    "    \n",
    "    #model_GBC = joblib.load(os.path.join(path_extracted_data_cleaning_model, 'selected_GBC.pkl')) #need t add \"rs\"\n",
    "    model_GBC.fit(X_train, y_train)\n",
    "    dico_GBC = {'algo':'GradientBoostingClassifier', 'model_param_used':model_GBC, 'random_seed':rs,\n",
    "                    'accuracy_training':round(model_GBC.score(X_train, y_train),3),\n",
    "                    'accuracy_testing':round(model_GBC.score(X_test, y_test),3)}\n",
    "    dico_name_model['gradientboosintclassifier'] = model_GBC\n",
    "\n",
    "    ################# Catboost\n",
    "    model_CB = CatBoostClassifier()\n",
    "    model_CB.load_model(os.path.join(path_extracted_data_cleaning_model,'selected_Catboost'));\n",
    "    dico_ = model_CB.get_params()\n",
    "    #add the li_cat that way as its not getting saved\n",
    "    model_CB = CatBoostClassifier(min_data_in_leaf=dico_['min_data_in_leaf'],\n",
    "                                 cat_features=np.array(li_cat_select),\n",
    "                                 iterations=dico_['iterations'], max_depth=dico_['depth'], task_type='CPU',\n",
    "                                 class_weights=dico_['class_weights'], use_best_model=True,\n",
    "                                 od_wait=dico_['od_wait'], od_pval=dico_['od_pval'], loss_function=dico_['loss_function'], \n",
    "                                  l2_leaf_reg=dico_['l2_leaf_reg'], random_state=rs)\n",
    "    \n",
    "    '''model_CB = CatBoostClassifier(min_data_in_leaf= 1,\n",
    "                             cat_features= np.array(np.array(li_cat_select)),\n",
    "                             n_estimators= 500, #instead of 900\n",
    "                             max_depth= 8, #instead of 4\n",
    "                             task_type= 'CPU',\n",
    "                             class_weights= {0: 1, 1: 1},\n",
    "                             use_best_model= True,\n",
    "                             od_wait= 10,\n",
    "                             od_pval= 1e-06,\n",
    "                             loss_function= 'Logloss',\n",
    "                             l2_leaf_reg= 2,  random_state=rs)\n",
    "    '''\n",
    "    model_CB.fit(df_X_train_cb, df_y_train_cb, eval_set=(df_X_val_cb,df_y_val_cb) , verbose=False)\n",
    "    dico_CB = {'algo':'CatBoost', 'model_param_used':model_CB.get_all_params(), 'random_seed':rs,\n",
    "                    'accuracy_training':round(model_CB.score(df_X_train_cb_init, df_y_train_cb_init),3),\n",
    "                    'accuracy_testing':round(model_CB.score(df_X_test_cb, df_y_test_cb),3)}\n",
    "    dico_name_model['CatBoost'] = model_CB\n",
    "\n",
    "    ##########################################################################################################\n",
    "    ################################################ predict #################################################\n",
    "    ##########################################################################################################\n",
    "    #transform categorical data into dumies\n",
    "    df_te_d = pd.get_dummies(df_testing.filter(li_cont_select+li_cat_select, axis=1), columns=li_cat_select, drop_first=True)\n",
    "    X_test = df_te_d.values\n",
    "    #y_test = df_testing[['VideoAnalyse']].values\n",
    "    for name, model in dico_name_model.items():\n",
    "        #print(name)\n",
    "        if name=='CatBoost':\n",
    "            predictions = model.predict(df_X_test_cb)\n",
    "            prediction_proba = model.predict_proba(df_X_test_cb)\n",
    "        else:\n",
    "            predictions = model.predict(X_test)\n",
    "            prediction_proba = model.predict_proba(X_test)\n",
    "        df_testing['model_prediction_'+name] = predictions\n",
    "        df_testing['model_prediction_proba0_'+name] = [round(x[0],2) for x in prediction_proba]\n",
    "        df_testing['model_prediction_proba1_'+name] = [round(x[1],2) for x in prediction_proba]\n",
    "        #df_testing.groupby(['Zone','model_prediction'])['date'].count().reset_index()\n",
    "        #add the zone that would be selected with this algorithm output: if==0, then the true zone is the one before\n",
    "        df_testing['model_IsCorrect'+name] = df_testing.apply(lambda x: x['model_prediction_'+name]==x['VideoAnalyse'], axis=1)\n",
    "    #df_testing.to_csv(os.path.join(path_extracted_data_cleaning, id_run+'_ModelSelection.csv'), index=False, sep=';')\n",
    "    \n",
    "    \n",
    "    ###############################################################################################################################\n",
    "    ################################################# relevance on testing dataset ################################################\n",
    "    ###############################################################################################################################\n",
    "    li_mod = [x for x in df_testing.columns if x.startswith('model_IsCorrect')]\n",
    "    #display(df_testing[['TagID','Timestamp','PenID','Zone']+li_mod].head(5))\n",
    "    #tranform into a contingency table\n",
    "    M = [[df_testing[(df_testing['model_IsCorrectRandomForest'])&(df_testing['model_IsCorrectgradientboosintclassifier'])].shape[0],\n",
    "         df_testing[(~df_testing['model_IsCorrectRandomForest'])&(df_testing['model_IsCorrectgradientboosintclassifier'])].shape[0]],\n",
    "        [df_testing[(df_testing['model_IsCorrectRandomForest'])&(~df_testing['model_IsCorrectgradientboosintclassifier'])].shape[0],\n",
    "         df_testing[(~df_testing['model_IsCorrectRandomForest'])&(~df_testing['model_IsCorrectgradientboosintclassifier'])].shape[0]]]\n",
    "    #print(M)\n",
    "    result = mcnemar(M, exact=True) #exact=True: as not all used cells are >25!\n",
    "    #print('statistic=%.3f, p-value=%.3f' % (result.statistic, result.pvalue))\n",
    "    alpha = 0.05\n",
    "    #if result.pvalue > alpha:\n",
    "    #    print('Same proportions of errors (fail to reject H0)')\n",
    "    #else:\n",
    "    #    print('Different proportions of errors (reject H0)')\n",
    "    li_dico_test.append({'type':'RF - GBC','stat':result.statistic,'pval':result.pvalue})\n",
    "\n",
    "    #tranform into a contingency table\n",
    "    M = [[df_testing[(df_testing['model_IsCorrectRandomForest'])&(df_testing['model_IsCorrectCatBoost'])].shape[0],\n",
    "         df_testing[(~df_testing['model_IsCorrectRandomForest'])&(df_testing['model_IsCorrectCatBoost'])].shape[0]],\n",
    "        [df_testing[(df_testing['model_IsCorrectRandomForest'])&(~df_testing['model_IsCorrectCatBoost'])].shape[0],\n",
    "         df_testing[(~df_testing['model_IsCorrectRandomForest'])&(~df_testing['model_IsCorrectCatBoost'])].shape[0]]]\n",
    "    #print(M)\n",
    "    result = mcnemar(M, exact=True)\n",
    "    #print('statistic=%.3f, p-value=%.3f' % (result.statistic, result.pvalue))\n",
    "    li_dico_test.append({'type':'RF - CB','stat':result.statistic,'pval':result.pvalue})\n",
    "\n",
    "    #tranform into a contingency table\n",
    "    M = [[df_testing[(df_testing['model_IsCorrectgradientboosintclassifier'])&(df_testing['model_IsCorrectCatBoost'])].shape[0],\n",
    "         df_testing[(~df_testing['model_IsCorrectgradientboosintclassifier'])&(df_testing['model_IsCorrectCatBoost'])].shape[0]],\n",
    "        [df_testing[(df_testing['model_IsCorrectgradientboosintclassifier'])&(~df_testing['model_IsCorrectCatBoost'])].shape[0],\n",
    "         df_testing[(~df_testing['model_IsCorrectgradientboosintclassifier'])&(~df_testing['model_IsCorrectCatBoost'])].shape[0]]]\n",
    "    #print(M)\n",
    "    result = mcnemar(M, exact=True)\n",
    "    #print('statistic=%.3f, p-value=%.3f' % (result.statistic, result.pvalue))\n",
    "    li_dico_test.append({'type':'GBC - CB','stat':result.statistic,'pval':result.pvalue})\n",
    "        \n",
    "    li_dico.append(dico_GBC)\n",
    "    li_dico.append(dico_CB)\n",
    "    li_dico.append(dico_RF)\n",
    "    \n",
    "df_results = pd.DataFrame(li_dico)    \n",
    "display(df_results.head(3))\n",
    "\n",
    "df_test = pd.DataFrame(li_dico_test)    \n",
    "display(df_test.head(3))"
   ]
  },
  {
   "cell_type": "code",
   "execution_count": 11,
   "metadata": {
    "scrolled": true
   },
   "outputs": [
    {
     "name": "stderr",
     "output_type": "stream",
     "text": [
      "C:\\Users\\camil\\anaconda3\\lib\\site-packages\\ipykernel\\ipkernel.py:283: DeprecationWarning: `should_run_async` will not call `transform_cell` automatically in the future. Please pass the result to `transformed_cell` argument and any exception that happen during thetransform in `preprocessing_exc_tuple` in IPython 7.17 and above.\n",
      "  and should_run_async(code)\n"
     ]
    },
    {
     "data": {
      "image/png": "[encoded data removed]",
      "text/plain": [
       "<Figure size 432x288 with 1 Axes>"
      ]
     },
     "metadata": {
      "needs_background": "light"
     },
     "output_type": "display_data"
    }
   ],
   "source": [
    "ax = sns.boxplot(x=\"type\", y=\"pval\", data=df_test, palette=\"Set3\")\n",
    "plt.savefig(os.path.join(path_extracted_data_cleaning,'ModelSelection_mcnemarTest.png'), bbox_inches='tight')\n",
    "#we used exact=True, as some cells was<25 obs: https://machinelearningmastery.com/mcnemars-test-for-machine-learning/\n",
    "#--> the binomial distribution was used\n",
    "#p > alpha: fail to reject H0, no difference in the disagreement \n",
    "#p <= alpha: reject H0, significant difference in the disagreemen"
   ]
  },
  {
   "cell_type": "code",
   "execution_count": 12,
   "metadata": {
    "scrolled": false
   },
   "outputs": [
    {
     "name": "stderr",
     "output_type": "stream",
     "text": [
      "C:\\Users\\camil\\anaconda3\\lib\\site-packages\\ipykernel\\ipkernel.py:283: DeprecationWarning: `should_run_async` will not call `transform_cell` automatically in the future. Please pass the result to `transformed_cell` argument and any exception that happen during thetransform in `preprocessing_exc_tuple` in IPython 7.17 and above.\n",
      "  and should_run_async(code)\n"
     ]
    },
    {
     "data": {
      "text/html": [
       "<div>\n",
       "<style scoped>\n",
       "    .dataframe tbody tr th:only-of-type {\n",
       "        vertical-align: middle;\n",
       "    }\n",
       "\n",
       "    .dataframe tbody tr th {\n",
       "        vertical-align: top;\n",
       "    }\n",
       "\n",
       "    .dataframe thead th {\n",
       "        text-align: right;\n",
       "    }\n",
       "</style>\n",
       "<table border=\"1\" class=\"dataframe\">\n",
       "  <thead>\n",
       "    <tr style=\"text-align: right;\">\n",
       "      <th></th>\n",
       "      <th>algo</th>\n",
       "      <th>accuracy</th>\n",
       "      <th>value</th>\n",
       "    </tr>\n",
       "  </thead>\n",
       "  <tbody>\n",
       "    <tr>\n",
       "      <th>523</th>\n",
       "      <td>CatBoost</td>\n",
       "      <td>accuracy_testing</td>\n",
       "      <td>0.989</td>\n",
       "    </tr>\n",
       "    <tr>\n",
       "      <th>223</th>\n",
       "      <td>CatBoost</td>\n",
       "      <td>accuracy_training</td>\n",
       "      <td>0.993</td>\n",
       "    </tr>\n",
       "    <tr>\n",
       "      <th>226</th>\n",
       "      <td>CatBoost</td>\n",
       "      <td>accuracy_training</td>\n",
       "      <td>0.996</td>\n",
       "    </tr>\n",
       "  </tbody>\n",
       "</table>\n",
       "</div>"
      ],
      "text/plain": [
       "         algo           accuracy  value\n",
       "523  CatBoost   accuracy_testing  0.989\n",
       "223  CatBoost  accuracy_training  0.993\n",
       "226  CatBoost  accuracy_training  0.996"
      ]
     },
     "metadata": {},
     "output_type": "display_data"
    },
    {
     "data": {
      "image/png": "[encoded data removed]",
      "text/plain": [
       "<Figure size 432x288 with 1 Axes>"
      ]
     },
     "metadata": {
      "needs_background": "light"
     },
     "output_type": "display_data"
    }
   ],
   "source": [
    "df_plt = pd.melt(df_results, id_vars=['algo'], value_vars=['accuracy_training', 'accuracy_testing'])\n",
    "df_plt.sort_values(['algo'], inplace=True)\n",
    "df_plt.rename(columns={'variable':'accuracy'}, inplace=True)\n",
    "display(df_plt.head(3))\n",
    "ax = sns.barplot(x=\"algo\", y=\"value\", hue=\"accuracy\", data=df_plt, palette=\"Set3\", ci=95)\n",
    "plt.xlabel('')\n",
    "plt.xlabel('accuracy')\n",
    "plt.ylim(0.9,1);\n",
    "plt.savefig(os.path.join(path_extracted_data_cleaning,'ModelSelection_accuracy.png'), bbox_inches='tight')"
   ]
  },
  {
   "cell_type": "code",
   "execution_count": 15,
   "metadata": {},
   "outputs": [
    {
     "name": "stderr",
     "output_type": "stream",
     "text": [
      "C:\\Users\\camil\\anaconda3\\lib\\site-packages\\ipykernel\\ipkernel.py:283: DeprecationWarning: `should_run_async` will not call `transform_cell` automatically in the future. Please pass the result to `transformed_cell` argument and any exception that happen during thetransform in `preprocessing_exc_tuple` in IPython 7.17 and above.\n",
      "  and should_run_async(code)\n"
     ]
    },
    {
     "data": {
      "text/html": [
       "<div>\n",
       "<style scoped>\n",
       "    .dataframe tbody tr th:only-of-type {\n",
       "        vertical-align: middle;\n",
       "    }\n",
       "\n",
       "    .dataframe tbody tr th {\n",
       "        vertical-align: top;\n",
       "    }\n",
       "\n",
       "    .dataframe thead th {\n",
       "        text-align: right;\n",
       "    }\n",
       "</style>\n",
       "<table border=\"1\" class=\"dataframe\">\n",
       "  <thead>\n",
       "    <tr style=\"text-align: right;\">\n",
       "      <th></th>\n",
       "      <th>algo</th>\n",
       "      <th>accuracy</th>\n",
       "      <th>value</th>\n",
       "    </tr>\n",
       "  </thead>\n",
       "  <tbody>\n",
       "    <tr>\n",
       "      <th>523</th>\n",
       "      <td>CatBoost</td>\n",
       "      <td>accuracy_testing</td>\n",
       "      <td>0.989</td>\n",
       "    </tr>\n",
       "    <tr>\n",
       "      <th>223</th>\n",
       "      <td>CatBoost</td>\n",
       "      <td>accuracy_training</td>\n",
       "      <td>0.993</td>\n",
       "    </tr>\n",
       "    <tr>\n",
       "      <th>226</th>\n",
       "      <td>CatBoost</td>\n",
       "      <td>accuracy_training</td>\n",
       "      <td>0.996</td>\n",
       "    </tr>\n",
       "  </tbody>\n",
       "</table>\n",
       "</div>"
      ],
      "text/plain": [
       "         algo           accuracy  value\n",
       "523  CatBoost   accuracy_testing  0.989\n",
       "223  CatBoost  accuracy_training  0.993\n",
       "226  CatBoost  accuracy_training  0.996"
      ]
     },
     "metadata": {},
     "output_type": "display_data"
    },
    {
     "data": {
      "image/png": "[encoded data removed]",
      "text/plain": [
       "<Figure size 432x288 with 1 Axes>"
      ]
     },
     "metadata": {
      "needs_background": "light"
     },
     "output_type": "display_data"
    }
   ],
   "source": [
    "df_plt = pd.melt(df_results, id_vars=['algo'], value_vars=['accuracy_training', 'accuracy_testing'])\n",
    "df_plt.sort_values(['algo'], inplace=True)\n",
    "df_plt.rename(columns={'variable':'accuracy'}, inplace=True)\n",
    "display(df_plt.head(3))\n",
    "ax = sns.barplot(x=\"algo\", y=\"value\", hue=\"accuracy\", data=df_plt, palette=\"Set3\", ci=95)\n",
    "plt.xlabel('')\n",
    "plt.xlabel('accuracy')\n",
    "plt.ylim(0.9,1);\n",
    "plt.savefig(os.path.join(path_extracted_data_cleaning,'ModelSelection_accuracy.png'), bbox_inches='tight')"
   ]
  },
  {
   "cell_type": "code",
   "execution_count": 22,
   "metadata": {},
   "outputs": [
    {
     "name": "stderr",
     "output_type": "stream",
     "text": [
      "C:\\Users\\camil\\anaconda3\\lib\\site-packages\\ipykernel\\ipkernel.py:283: DeprecationWarning: `should_run_async` will not call `transform_cell` automatically in the future. Please pass the result to `transformed_cell` argument and any exception that happen during thetransform in `preprocessing_exc_tuple` in IPython 7.17 and above.\n",
      "  and should_run_async(code)\n"
     ]
    },
    {
     "data": {
      "text/plain": [
       "0.987"
      ]
     },
     "execution_count": 22,
     "metadata": {},
     "output_type": "execute_result"
    }
   ],
   "source": [
    "df_plt[df_plt['accuracy']=='accuracy_testing']['value'].min()"
   ]
  },
  {
   "cell_type": "code",
   "execution_count": 23,
   "metadata": {},
   "outputs": [
    {
     "name": "stderr",
     "output_type": "stream",
     "text": [
      "C:\\Users\\camil\\anaconda3\\lib\\site-packages\\ipykernel\\ipkernel.py:283: DeprecationWarning: `should_run_async` will not call `transform_cell` automatically in the future. Please pass the result to `transformed_cell` argument and any exception that happen during thetransform in `preprocessing_exc_tuple` in IPython 7.17 and above.\n",
      "  and should_run_async(code)\n"
     ]
    },
    {
     "data": {
      "text/plain": [
       "0.994"
      ]
     },
     "execution_count": 23,
     "metadata": {},
     "output_type": "execute_result"
    }
   ],
   "source": [
    "df_plt[df_plt['accuracy']=='accuracy_testing']['value'].max()"
   ]
  },
  {
   "cell_type": "raw",
   "metadata": {},
   "source": [
    "#K-cross validation not used as testing dataset very small. we used it to finetuning hyperparameters"
   ]
  },
  {
   "cell_type": "markdown",
   "metadata": {},
   "source": [
    "# Save best Classifier with fixed random seed"
   ]
  },
  {
   "cell_type": "code",
   "execution_count": 13,
   "metadata": {},
   "outputs": [
    {
     "name": "stderr",
     "output_type": "stream",
     "text": [
      "C:\\Users\\camil\\anaconda3\\lib\\site-packages\\ipykernel\\ipkernel.py:283: DeprecationWarning: `should_run_async` will not call `transform_cell` automatically in the future. Please pass the result to `transformed_cell` argument and any exception that happen during thetransform in `preprocessing_exc_tuple` in IPython 7.17 and above.\n",
      "  and should_run_async(code)\n"
     ]
    },
    {
     "data": {
      "text/html": [
       "<div>\n",
       "<style scoped>\n",
       "    .dataframe tbody tr th:only-of-type {\n",
       "        vertical-align: middle;\n",
       "    }\n",
       "\n",
       "    .dataframe tbody tr th {\n",
       "        vertical-align: top;\n",
       "    }\n",
       "\n",
       "    .dataframe thead th {\n",
       "        text-align: right;\n",
       "    }\n",
       "</style>\n",
       "<table border=\"1\" class=\"dataframe\">\n",
       "  <thead>\n",
       "    <tr style=\"text-align: right;\">\n",
       "      <th></th>\n",
       "      <th>algo</th>\n",
       "      <th>model_param_used</th>\n",
       "      <th>accuracy_training</th>\n",
       "      <th>accuracy_validation</th>\n",
       "      <th>accuracy_testing</th>\n",
       "    </tr>\n",
       "  </thead>\n",
       "  <tbody>\n",
       "    <tr>\n",
       "      <th>0</th>\n",
       "      <td>FINAL_Catboost</td>\n",
       "      <td>{'nan_mode': 'Min', 'eval_metric': 'Logloss', ...</td>\n",
       "      <td>0.999</td>\n",
       "      <td>0.993</td>\n",
       "      <td>0.989</td>\n",
       "    </tr>\n",
       "  </tbody>\n",
       "</table>\n",
       "</div>"
      ],
      "text/plain": [
       "             algo                                   model_param_used  \\\n",
       "0  FINAL_Catboost  {'nan_mode': 'Min', 'eval_metric': 'Logloss', ...   \n",
       "\n",
       "   accuracy_training  accuracy_validation  accuracy_testing  \n",
       "0              0.999                0.993             0.989  "
      ]
     },
     "execution_count": 13,
     "metadata": {},
     "output_type": "execute_result"
    }
   ],
   "source": [
    "li_dico = []\n",
    "model_final = CatBoostClassifier(min_data_in_leaf= 1,\n",
    "                             cat_features= np.array(np.array(li_cat_select)),\n",
    "                             n_estimators= 500,\n",
    "                             max_depth= 8,\n",
    "                             task_type= 'CPU',\n",
    "                             class_weights= {0: 1, 1: 1},\n",
    "                             use_best_model= True,\n",
    "                             od_wait= 10,\n",
    "                             od_pval= 1e-06,\n",
    "                             loss_function= 'Logloss',\n",
    "                             l2_leaf_reg= 2,  random_state=0)\n",
    "model_final.fit(df_X_train_cb, df_y_train_cb, eval_set=(df_X_val_cb,df_y_val_cb) , verbose=False)\n",
    "name_ = 'FINAL_Catboost'\n",
    "li_dico.append({'algo':name_, 'model_param_used':model_final.get_all_params(), \n",
    "                'accuracy_training':round(model_final.score(df_X_train_cb, df_y_train_cb),3),\n",
    "                'accuracy_validation':round(model_final.score(df_X_val_cb, df_y_val_cb),3),\n",
    "                'accuracy_testing':round(model_final.score(df_X_test_cb, df_y_test_cb),3)})\n",
    "#save\n",
    "model_final.save_model(os.path.join(path_extracted_data_cleaning_model,name_),format=\"cbm\")\n",
    "pd.DataFrame(li_dico)"
   ]
  },
  {
   "cell_type": "markdown",
   "metadata": {},
   "source": [
    "# Most influential training observation"
   ]
  },
  {
   "cell_type": "markdown",
   "metadata": {},
   "source": [
    "dataset = Pool(data=df_X_test_cb,\n",
    "               cat_features=np.array(np.array(li_cat_select)),\n",
    "               label=df_y_test_cb)\n",
    "\n",
    "train_dataset = Pool(data=df_X_train_cb,\n",
    "                     label=df_y_train_cb,\n",
    "                     cat_features=np.array(np.array(li_cat_select)))\n",
    "#top_size=Defines the number of most important objects from the training dataset. The number of returned objects is limited to this number.\n",
    "indices, scores = model.get_object_importance(pool=dataset, train_pool=train_dataset, update_method='AllPoints',\n",
    "                                             top_size=10) #, type='PerObject': better not to use, simpler without\n",
    "#pd.DataFrame([indices,scores]).transpose()\n",
    "df_X_train_cb.iloc[indices]"
   ]
  },
  {
   "cell_type": "code",
   "execution_count": null,
   "metadata": {},
   "outputs": [],
   "source": []
  },
  {
   "cell_type": "code",
   "execution_count": null,
   "metadata": {},
   "outputs": [],
   "source": []
  },
  {
   "cell_type": "code",
   "execution_count": null,
   "metadata": {},
   "outputs": [],
   "source": []
  },
  {
   "cell_type": "code",
   "execution_count": null,
   "metadata": {},
   "outputs": [],
   "source": []
  },
  {
   "cell_type": "code",
   "execution_count": null,
   "metadata": {},
   "outputs": [],
   "source": []
  },
  {
   "cell_type": "code",
   "execution_count": null,
   "metadata": {},
   "outputs": [],
   "source": []
  },
  {
   "cell_type": "code",
   "execution_count": null,
   "metadata": {},
   "outputs": [],
   "source": []
  },
  {
   "cell_type": "code",
   "execution_count": null,
   "metadata": {},
   "outputs": [],
   "source": []
  },
  {
   "cell_type": "code",
   "execution_count": null,
   "metadata": {},
   "outputs": [],
   "source": []
  }
 ],
 "metadata": {
  "kernelspec": {
   "display_name": "Python 3",
   "language": "python",
   "name": "python3"
  },
  "language_info": {
   "codemirror_mode": {
    "name": "ipython",
    "version": 3
   },
   "file_extension": ".py",
   "mimetype": "text/x-python",
   "name": "python",
   "nbconvert_exporter": "python",
   "pygments_lexer": "ipython3",
   "version": "3.8.5"
  }
 },
 "nbformat": 4,
 "nbformat_minor": 2
}
