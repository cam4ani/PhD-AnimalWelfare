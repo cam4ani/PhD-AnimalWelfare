{
 "cells": [
  {
   "cell_type": "code",
   "execution_count": 1,
   "metadata": {},
   "outputs": [],
   "source": [
    "#basic package\n",
    "import json\n",
    "import tqdm\n",
    "import os\n",
    "import numpy as np\n",
    "import glob\n",
    "import pandas as pd\n",
    "import sys\n",
    "import shutil\n",
    "import time\n",
    "import datetime as dt\n",
    "import itertools\n",
    "import time\n",
    "import re\n",
    "from collections import Counter\n",
    "from collections import defaultdict\n",
    "import operator\n",
    "import math\n",
    "import functools\n",
    "import collections\n",
    "import random\n",
    "\n",
    "#modelling\n",
    "from sklearn.preprocessing import StandardScaler, MinMaxScaler\n",
    "from sklearn.utils import shuffle\n",
    "from sklearn.model_selection import train_test_split\n",
    "from sklearn.ensemble import GradientBoostingClassifier, RandomForestClassifier\n",
    "from xgboost import XGBClassifier\n",
    "from sklearn.neighbors import KNeighborsClassifier\n",
    "from sklearn.model_selection import GridSearchCV, RandomizedSearchCV\n",
    "from sklearn.metrics import classification_report, confusion_matrix, plot_confusion_matrix, cohen_kappa_score\n",
    "from xgboost import plot_importance\n",
    "#catboost, for a better support of categorical data\n",
    "from catboost import CatBoostClassifier, Pool\n",
    "#to use all except one core\n",
    "import multiprocessing\n",
    "\n",
    "#save models\n",
    "import joblib\n",
    "\n",
    "#plot\n",
    "import matplotlib.pyplot as plt\n",
    "import seaborn as sns"
   ]
  },
  {
   "cell_type": "code",
   "execution_count": 2,
   "metadata": {},
   "outputs": [
    {
     "name": "stderr",
     "output_type": "stream",
     "text": [
      "C:\\Users\\camil\\anaconda3\\lib\\site-packages\\scipy\\sparse\\sparsetools.py:21: DeprecationWarning: `scipy.sparse.sparsetools` is deprecated!\n",
      "scipy.sparse.sparsetools is a private module for scipy.sparse, and should not be used.\n",
      "  _deprecated()\n"
     ]
    }
   ],
   "source": [
    "PACKAGE_PARENT = '../'\n",
    "SCRIPT_DIR = os.path.dirname(os.path.realpath(os.path.join(os.getcwd(), os.path.expanduser('__file__'))))\n",
    "sys.path.append(os.path.normpath(os.path.join(SCRIPT_DIR, PACKAGE_PARENT)))\n",
    "from UTILS import is_WG_open, ConfMat, list_of_zones, res_intodico\n",
    "import config_origins as config"
   ]
  },
  {
   "cell_type": "markdown",
   "metadata": {},
   "source": [
    "# Download Input Data"
   ]
  },
  {
   "cell_type": "code",
   "execution_count": 3,
   "metadata": {},
   "outputs": [
    {
     "name": "stderr",
     "output_type": "stream",
     "text": [
      "C:\\Users\\camil\\anaconda3\\lib\\site-packages\\ipykernel\\ipkernel.py:283: DeprecationWarning: `should_run_async` will not call `transform_cell` automatically in the future. Please pass the result to `transformed_cell` argument and any exception that happen during thetransform in `preprocessing_exc_tuple` in IPython 7.17 and above.\n",
      "  and should_run_async(code)\n"
     ]
    }
   ],
   "source": [
    "#define parameters\n",
    "path_extracted_data = config.path_extracted_data\n",
    "path_initial_data = config.path_initial_data\n",
    "id_run = config.id_run\n",
    "dico_matching = config.dico_matching\n",
    "dico_garden_opening_hour = config.dico_garden_opening_hour\n",
    "path_extracted_data_cleaning = os.path.join(path_extracted_data,'Cleaning')\n",
    "path__ = os.path.join(path_extracted_data_cleaning,'1secTS')\n",
    "#create a director if not existing\n",
    "if not os.path.exists(path__):\n",
    "    os.makedirs(path__)\n",
    "path_extracted_data_cleaning_model = os.path.join(path_extracted_data_cleaning,'model') \n",
    "if not os.path.exists(path_extracted_data_cleaning_model):\n",
    "    os.makedirs(path_extracted_data_cleaning_model)    \n",
    "#feature for model\n",
    "li_cont_select = config.li_cont_select\n",
    "li_bin = config.li_bin\n",
    "li_cat_select = config.li_cat_select"
   ]
  },
  {
   "cell_type": "code",
   "execution_count": 4,
   "metadata": {},
   "outputs": [
    {
     "name": "stderr",
     "output_type": "stream",
     "text": [
      "C:\\Users\\camil\\anaconda3\\lib\\site-packages\\ipykernel\\ipkernel.py:283: DeprecationWarning: `should_run_async` will not call `transform_cell` automatically in the future. Please pass the result to `transformed_cell` argument and any exception that happen during thetransform in `preprocessing_exc_tuple` in IPython 7.17 and above.\n",
      "  and should_run_async(code)\n"
     ]
    },
    {
     "name": "stdout",
     "output_type": "stream",
     "text": [
      "(5137, 35)\n"
     ]
    },
    {
     "data": {
      "text/html": [
       "<div>\n",
       "<style scoped>\n",
       "    .dataframe tbody tr th:only-of-type {\n",
       "        vertical-align: middle;\n",
       "    }\n",
       "\n",
       "    .dataframe tbody tr th {\n",
       "        vertical-align: top;\n",
       "    }\n",
       "\n",
       "    .dataframe thead th {\n",
       "        text-align: right;\n",
       "    }\n",
       "</style>\n",
       "<table border=\"1\" class=\"dataframe\">\n",
       "  <thead>\n",
       "    <tr style=\"text-align: right;\">\n",
       "      <th></th>\n",
       "      <th>Timestamp</th>\n",
       "      <th>TagID</th>\n",
       "      <th>HenID</th>\n",
       "      <th>Trackingsystem_Zone</th>\n",
       "      <th>PenID</th>\n",
       "      <th>VideoAnalyse</th>\n",
       "      <th>system</th>\n",
       "      <th>date</th>\n",
       "      <th>type</th>\n",
       "      <th>signalstrength</th>\n",
       "      <th>...</th>\n",
       "      <th>previous_duration</th>\n",
       "      <th>algo_type</th>\n",
       "      <th>BatchID</th>\n",
       "      <th>previousZone==NextZone</th>\n",
       "      <th>next_duration</th>\n",
       "      <th>next2zone==Zone</th>\n",
       "      <th>previous2zone==Zone</th>\n",
       "      <th>zone3_match_exist</th>\n",
       "      <th>is_first_observation</th>\n",
       "      <th>Observed_Zone</th>\n",
       "    </tr>\n",
       "  </thead>\n",
       "  <tbody>\n",
       "    <tr>\n",
       "      <th>463</th>\n",
       "      <td>2020-10-24 14:25:11</td>\n",
       "      <td>tag_42</td>\n",
       "      <td>hen_64</td>\n",
       "      <td>3_Zone</td>\n",
       "      <td>pen4</td>\n",
       "      <td>1</td>\n",
       "      <td>3 - 5</td>\n",
       "      <td>2020-10-24</td>\n",
       "      <td>students</td>\n",
       "      <td>8.0</td>\n",
       "      <td>...</td>\n",
       "      <td>321.0</td>\n",
       "      <td>cleaning</td>\n",
       "      <td>NaN</td>\n",
       "      <td>True</td>\n",
       "      <td>159.0</td>\n",
       "      <td>1.0</td>\n",
       "      <td>1.0</td>\n",
       "      <td>1.0</td>\n",
       "      <td>0.0</td>\n",
       "      <td>3_Zone</td>\n",
       "    </tr>\n",
       "    <tr>\n",
       "      <th>1989</th>\n",
       "      <td>2020-10-23 14:31:51</td>\n",
       "      <td>tag_62</td>\n",
       "      <td>hen_12</td>\n",
       "      <td>2_Zone</td>\n",
       "      <td>pen5</td>\n",
       "      <td>1</td>\n",
       "      <td>3 - 5</td>\n",
       "      <td>2020-10-23</td>\n",
       "      <td>students</td>\n",
       "      <td>16.0</td>\n",
       "      <td>...</td>\n",
       "      <td>93.0</td>\n",
       "      <td>verification</td>\n",
       "      <td>ID30</td>\n",
       "      <td>False</td>\n",
       "      <td>882.0</td>\n",
       "      <td>1.0</td>\n",
       "      <td>0.0</td>\n",
       "      <td>1.0</td>\n",
       "      <td>0.0</td>\n",
       "      <td>2_Zone</td>\n",
       "    </tr>\n",
       "    <tr>\n",
       "      <th>2882</th>\n",
       "      <td>2020-10-16 11:17:49</td>\n",
       "      <td>tag_107</td>\n",
       "      <td>hen_5</td>\n",
       "      <td>3_Zone</td>\n",
       "      <td>pen9</td>\n",
       "      <td>1</td>\n",
       "      <td>8 - 9</td>\n",
       "      <td>2020-10-16</td>\n",
       "      <td>students</td>\n",
       "      <td>15.0</td>\n",
       "      <td>...</td>\n",
       "      <td>1436.0</td>\n",
       "      <td>verification</td>\n",
       "      <td>ID11</td>\n",
       "      <td>True</td>\n",
       "      <td>1630.0</td>\n",
       "      <td>1.0</td>\n",
       "      <td>0.0</td>\n",
       "      <td>0.0</td>\n",
       "      <td>0.0</td>\n",
       "      <td>3_Zone</td>\n",
       "    </tr>\n",
       "  </tbody>\n",
       "</table>\n",
       "<p>3 rows × 35 columns</p>\n",
       "</div>"
      ],
      "text/plain": [
       "               Timestamp    TagID   HenID Trackingsystem_Zone PenID  \\\n",
       "463  2020-10-24 14:25:11   tag_42  hen_64              3_Zone  pen4   \n",
       "1989 2020-10-23 14:31:51   tag_62  hen_12              2_Zone  pen5   \n",
       "2882 2020-10-16 11:17:49  tag_107   hen_5              3_Zone  pen9   \n",
       "\n",
       "      VideoAnalyse system       date      type  signalstrength  ...  \\\n",
       "463              1  3 - 5 2020-10-24  students             8.0  ...   \n",
       "1989             1  3 - 5 2020-10-23  students            16.0  ...   \n",
       "2882             1  8 - 9 2020-10-16  students            15.0  ...   \n",
       "\n",
       "      previous_duration     algo_type BatchID previousZone==NextZone  \\\n",
       "463               321.0      cleaning     NaN                   True   \n",
       "1989               93.0  verification    ID30                  False   \n",
       "2882             1436.0  verification    ID11                   True   \n",
       "\n",
       "     next_duration next2zone==Zone previous2zone==Zone zone3_match_exist  \\\n",
       "463          159.0             1.0                 1.0               1.0   \n",
       "1989         882.0             1.0                 0.0               1.0   \n",
       "2882        1630.0             1.0                 0.0               0.0   \n",
       "\n",
       "     is_first_observation Observed_Zone  \n",
       "463                   0.0        3_Zone  \n",
       "1989                  0.0        2_Zone  \n",
       "2882                  0.0        3_Zone  \n",
       "\n",
       "[3 rows x 35 columns]"
      ]
     },
     "execution_count": 4,
     "metadata": {},
     "output_type": "execute_result"
    }
   ],
   "source": [
    "df = pd.read_csv(os.path.join(path_extracted_data_cleaning, id_run+'InputCleaning.csv'), parse_dates=['Timestamp', 'date'], \n",
    "                 dayfirst=True, sep=';')\n",
    "df['VideoAnalyse'] = df['VideoAnalyse'].map(lambda x: int(x)) #not before as tehre was srting as well\n",
    "df = df[df['VideoAnalyse'].isin([0,1])]\n",
    "df = shuffle(df)\n",
    "print(df.shape)\n",
    "df.head(3)"
   ]
  },
  {
   "cell_type": "code",
   "execution_count": 5,
   "metadata": {},
   "outputs": [
    {
     "name": "stderr",
     "output_type": "stream",
     "text": [
      "C:\\Users\\camil\\anaconda3\\lib\\site-packages\\ipykernel\\ipkernel.py:283: DeprecationWarning: `should_run_async` will not call `transform_cell` automatically in the future. Please pass the result to `transformed_cell` argument and any exception that happen during thetransform in `preprocessing_exc_tuple` in IPython 7.17 and above.\n",
      "  and should_run_async(code)\n"
     ]
    },
    {
     "data": {
      "text/plain": [
       "1    4559\n",
       "0     578\n",
       "Name: VideoAnalyse, dtype: int64"
      ]
     },
     "execution_count": 5,
     "metadata": {},
     "output_type": "execute_result"
    }
   ],
   "source": [
    "df['VideoAnalyse'].value_counts()"
   ]
  },
  {
   "cell_type": "markdown",
   "metadata": {},
   "source": [
    "# Data preprocessing"
   ]
  },
  {
   "cell_type": "code",
   "execution_count": 6,
   "metadata": {},
   "outputs": [
    {
     "name": "stderr",
     "output_type": "stream",
     "text": [
      "C:\\Users\\camil\\anaconda3\\lib\\site-packages\\ipykernel\\ipkernel.py:283: DeprecationWarning: `should_run_async` will not call `transform_cell` automatically in the future. Please pass the result to `transformed_cell` argument and any exception that happen during thetransform in `preprocessing_exc_tuple` in IPython 7.17 and above.\n",
      "  and should_run_async(code)\n"
     ]
    },
    {
     "data": {
      "text/html": [
       "<div>\n",
       "<style scoped>\n",
       "    .dataframe tbody tr th:only-of-type {\n",
       "        vertical-align: middle;\n",
       "    }\n",
       "\n",
       "    .dataframe tbody tr th {\n",
       "        vertical-align: top;\n",
       "    }\n",
       "\n",
       "    .dataframe thead th {\n",
       "        text-align: right;\n",
       "    }\n",
       "</style>\n",
       "<table border=\"1\" class=\"dataframe\">\n",
       "  <thead>\n",
       "    <tr style=\"text-align: right;\">\n",
       "      <th></th>\n",
       "      <th>signalstrength</th>\n",
       "      <th>signalstzone2</th>\n",
       "      <th>duration</th>\n",
       "      <th>next_duration</th>\n",
       "      <th>previous_duration</th>\n",
       "      <th>next2zone==Zone</th>\n",
       "      <th>previous2zone==Zone</th>\n",
       "      <th>zone3_match_exist</th>\n",
       "    </tr>\n",
       "  </thead>\n",
       "  <tbody>\n",
       "    <tr>\n",
       "      <th>463</th>\n",
       "      <td>8.0</td>\n",
       "      <td>6.0</td>\n",
       "      <td>5.0</td>\n",
       "      <td>159.0</td>\n",
       "      <td>321.0</td>\n",
       "      <td>1.0</td>\n",
       "      <td>1.0</td>\n",
       "      <td>1.0</td>\n",
       "    </tr>\n",
       "    <tr>\n",
       "      <th>1989</th>\n",
       "      <td>16.0</td>\n",
       "      <td>10.0</td>\n",
       "      <td>105.0</td>\n",
       "      <td>882.0</td>\n",
       "      <td>93.0</td>\n",
       "      <td>1.0</td>\n",
       "      <td>0.0</td>\n",
       "      <td>1.0</td>\n",
       "    </tr>\n",
       "    <tr>\n",
       "      <th>2882</th>\n",
       "      <td>15.0</td>\n",
       "      <td>5.0</td>\n",
       "      <td>144.0</td>\n",
       "      <td>1630.0</td>\n",
       "      <td>1436.0</td>\n",
       "      <td>1.0</td>\n",
       "      <td>0.0</td>\n",
       "      <td>0.0</td>\n",
       "    </tr>\n",
       "  </tbody>\n",
       "</table>\n",
       "</div>"
      ],
      "text/plain": [
       "      signalstrength  signalstzone2  duration  next_duration  \\\n",
       "463              8.0            6.0       5.0          159.0   \n",
       "1989            16.0           10.0     105.0          882.0   \n",
       "2882            15.0            5.0     144.0         1630.0   \n",
       "\n",
       "      previous_duration  next2zone==Zone  previous2zone==Zone  \\\n",
       "463               321.0              1.0                  1.0   \n",
       "1989               93.0              1.0                  0.0   \n",
       "2882             1436.0              1.0                  0.0   \n",
       "\n",
       "      zone3_match_exist  \n",
       "463                 1.0  \n",
       "1989                1.0  \n",
       "2882                0.0  "
      ]
     },
     "metadata": {},
     "output_type": "display_data"
    },
    {
     "data": {
      "text/html": [
       "<div>\n",
       "<style scoped>\n",
       "    .dataframe tbody tr th:only-of-type {\n",
       "        vertical-align: middle;\n",
       "    }\n",
       "\n",
       "    .dataframe tbody tr th {\n",
       "        vertical-align: top;\n",
       "    }\n",
       "\n",
       "    .dataframe thead th {\n",
       "        text-align: right;\n",
       "    }\n",
       "</style>\n",
       "<table border=\"1\" class=\"dataframe\">\n",
       "  <thead>\n",
       "    <tr style=\"text-align: right;\">\n",
       "      <th></th>\n",
       "      <th>signalstrength</th>\n",
       "      <th>signalstzone2</th>\n",
       "      <th>duration</th>\n",
       "      <th>next_duration</th>\n",
       "      <th>previous_duration</th>\n",
       "      <th>next2zone==Zone</th>\n",
       "      <th>previous2zone==Zone</th>\n",
       "      <th>zone3_match_exist</th>\n",
       "    </tr>\n",
       "  </thead>\n",
       "  <tbody>\n",
       "    <tr>\n",
       "      <th>463</th>\n",
       "      <td>-0.902404</td>\n",
       "      <td>-0.482508</td>\n",
       "      <td>-0.055514</td>\n",
       "      <td>-0.039212</td>\n",
       "      <td>-0.017102</td>\n",
       "      <td>1.0</td>\n",
       "      <td>1.0</td>\n",
       "      <td>1.0</td>\n",
       "    </tr>\n",
       "    <tr>\n",
       "      <th>1989</th>\n",
       "      <td>1.082353</td>\n",
       "      <td>0.565766</td>\n",
       "      <td>-0.042772</td>\n",
       "      <td>0.052111</td>\n",
       "      <td>-0.032257</td>\n",
       "      <td>1.0</td>\n",
       "      <td>0.0</td>\n",
       "      <td>1.0</td>\n",
       "    </tr>\n",
       "    <tr>\n",
       "      <th>2882</th>\n",
       "      <td>0.834258</td>\n",
       "      <td>-0.744576</td>\n",
       "      <td>-0.037802</td>\n",
       "      <td>0.146593</td>\n",
       "      <td>0.057007</td>\n",
       "      <td>1.0</td>\n",
       "      <td>0.0</td>\n",
       "      <td>0.0</td>\n",
       "    </tr>\n",
       "  </tbody>\n",
       "</table>\n",
       "</div>"
      ],
      "text/plain": [
       "      signalstrength  signalstzone2  duration  next_duration  \\\n",
       "463        -0.902404      -0.482508 -0.055514      -0.039212   \n",
       "1989        1.082353       0.565766 -0.042772       0.052111   \n",
       "2882        0.834258      -0.744576 -0.037802       0.146593   \n",
       "\n",
       "      previous_duration  next2zone==Zone  previous2zone==Zone  \\\n",
       "463           -0.017102              1.0                  1.0   \n",
       "1989          -0.032257              1.0                  0.0   \n",
       "2882           0.057007              1.0                  0.0   \n",
       "\n",
       "      zone3_match_exist  \n",
       "463                 1.0  \n",
       "1989                1.0  \n",
       "2882                0.0  "
      ]
     },
     "metadata": {},
     "output_type": "display_data"
    },
    {
     "data": {
      "text/html": [
       "<div>\n",
       "<style scoped>\n",
       "    .dataframe tbody tr th:only-of-type {\n",
       "        vertical-align: middle;\n",
       "    }\n",
       "\n",
       "    .dataframe tbody tr th {\n",
       "        vertical-align: top;\n",
       "    }\n",
       "\n",
       "    .dataframe thead th {\n",
       "        text-align: right;\n",
       "    }\n",
       "</style>\n",
       "<table border=\"1\" class=\"dataframe\">\n",
       "  <thead>\n",
       "    <tr style=\"text-align: right;\">\n",
       "      <th></th>\n",
       "      <th>Trackingsystem_Zone</th>\n",
       "      <th>zone2_match</th>\n",
       "      <th>previous1_zone</th>\n",
       "      <th>next1_zone</th>\n",
       "      <th>system</th>\n",
       "    </tr>\n",
       "  </thead>\n",
       "  <tbody>\n",
       "    <tr>\n",
       "      <th>463</th>\n",
       "      <td>3_Zone</td>\n",
       "      <td>3_Zone</td>\n",
       "      <td>3_Zone</td>\n",
       "      <td>3_Zone</td>\n",
       "      <td>3 - 5</td>\n",
       "    </tr>\n",
       "    <tr>\n",
       "      <th>1989</th>\n",
       "      <td>2_Zone</td>\n",
       "      <td>3_Zone</td>\n",
       "      <td>3_Zone</td>\n",
       "      <td>1_Zone</td>\n",
       "      <td>3 - 5</td>\n",
       "    </tr>\n",
       "    <tr>\n",
       "      <th>2882</th>\n",
       "      <td>3_Zone</td>\n",
       "      <td>2_Zone</td>\n",
       "      <td>2_Zone</td>\n",
       "      <td>2_Zone</td>\n",
       "      <td>8 - 9</td>\n",
       "    </tr>\n",
       "  </tbody>\n",
       "</table>\n",
       "</div>"
      ],
      "text/plain": [
       "     Trackingsystem_Zone zone2_match previous1_zone next1_zone system\n",
       "463               3_Zone      3_Zone         3_Zone     3_Zone  3 - 5\n",
       "1989              2_Zone      3_Zone         3_Zone     1_Zone  3 - 5\n",
       "2882              3_Zone      2_Zone         2_Zone     2_Zone  8 - 9"
      ]
     },
     "execution_count": 6,
     "metadata": {},
     "output_type": "execute_result"
    }
   ],
   "source": [
    "#scaling numerical data: necessary due to duration high values\n",
    "display(df[li_cont_select].head(3))\n",
    "sc = StandardScaler()\n",
    "li_scale = [x for x in li_cont_select if x not in li_bin]\n",
    "df[li_scale] = sc.fit_transform(df[li_scale])\n",
    "display(df[li_cont_select].head(3))\n",
    "\n",
    "#display categoricalfeatures\n",
    "df[li_cat_select].head(3)"
   ]
  },
  {
   "cell_type": "markdown",
   "metadata": {},
   "source": [
    "# Split into training and validation (for parameter tuning) & dummies"
   ]
  },
  {
   "cell_type": "code",
   "execution_count": 7,
   "metadata": {},
   "outputs": [
    {
     "name": "stderr",
     "output_type": "stream",
     "text": [
      "C:\\Users\\camil\\anaconda3\\lib\\site-packages\\ipykernel\\ipkernel.py:283: DeprecationWarning: `should_run_async` will not call `transform_cell` automatically in the future. Please pass the result to `transformed_cell` argument and any exception that happen during thetransform in `preprocessing_exc_tuple` in IPython 7.17 and above.\n",
      "  and should_run_async(code)\n"
     ]
    },
    {
     "data": {
      "text/plain": [
       "1    3738\n",
       "0     536\n",
       "Name: VideoAnalyse, dtype: int64"
      ]
     },
     "execution_count": 7,
     "metadata": {},
     "output_type": "execute_result"
    }
   ],
   "source": [
    "df_cleaning = df[df['algo_type']=='cleaning'].copy()\n",
    "df_cleaning['VideoAnalyse'].value_counts()"
   ]
  },
  {
   "cell_type": "code",
   "execution_count": 8,
   "metadata": {},
   "outputs": [
    {
     "name": "stdout",
     "output_type": "stream",
     "text": [
      "(4274, 27) (4274,)\n"
     ]
    },
    {
     "name": "stderr",
     "output_type": "stream",
     "text": [
      "C:\\Users\\camil\\anaconda3\\lib\\site-packages\\ipykernel\\ipkernel.py:283: DeprecationWarning: `should_run_async` will not call `transform_cell` automatically in the future. Please pass the result to `transformed_cell` argument and any exception that happen during thetransform in `preprocessing_exc_tuple` in IPython 7.17 and above.\n",
      "  and should_run_async(code)\n"
     ]
    }
   ],
   "source": [
    "#sklearn: RF and gradientboosting\n",
    "####### train,test dummie #######\n",
    "#transform categorical data into dumies\n",
    "df_cl_d = pd.get_dummies(df_cleaning.filter(li_cont_select+li_cat_select, axis=1), columns=li_cat_select, drop_first=True)\n",
    "    \n",
    "#split into train, test and put into good format\n",
    "#train\n",
    "X_train = df_cl_d.values\n",
    "y_train = df_cleaning[['VideoAnalyse']].values\n",
    "y_train = np.ravel(y_train) #from (x,1) to (x,)\n",
    "print(X_train.shape, y_train.shape)\n",
    "\n",
    "#var name\n",
    "var_name = df_cl_d.columns\n",
    "#split into a validation dataset for first step of parameter tuning (narrow down without over-fitting)\n",
    "val_size = 0.2; rs = 0\n",
    "X_train_tuning, X_val_tuning, y_train_tuning, y_val_tuning = train_test_split(X_train, y_train, \n",
    "                                                                              test_size=val_size, random_state=rs)\n",
    "\n",
    "#small control: show rows with at least one nan\n",
    "if df_cl_d[df_cl_d.isna().any(axis=1)].shape[0]!=0:\n",
    "    print('ERROR: you have nan in your cleaning set')\n",
    "    sys.exit()"
   ]
  },
  {
   "cell_type": "markdown",
   "metadata": {},
   "source": [
    "# Model"
   ]
  },
  {
   "cell_type": "code",
   "execution_count": 9,
   "metadata": {},
   "outputs": [
    {
     "name": "stderr",
     "output_type": "stream",
     "text": [
      "C:\\Users\\camil\\anaconda3\\lib\\site-packages\\ipykernel\\ipkernel.py:283: DeprecationWarning: `should_run_async` will not call `transform_cell` automatically in the future. Please pass the result to `transformed_cell` argument and any exception that happen during thetransform in `preprocessing_exc_tuple` in IPython 7.17 and above.\n",
      "  and should_run_async(code)\n"
     ]
    }
   ],
   "source": [
    "li_dico = []"
   ]
  },
  {
   "cell_type": "markdown",
   "metadata": {},
   "source": [
    "### 1 - Random forest & GradientBoostingMachine"
   ]
  },
  {
   "cell_type": "raw",
   "metadata": {},
   "source": [
    "--------- maxdepth\n",
    "=The maximum depth of the tree.\n",
    "if to big: risk of overfitting \n",
    "default=3 in GBM, \n",
    "default = None in RF (i.e. grows until all leaves are pure (i.e. all its data points contain the same label) or nbr sample < min_sample split(default 2), should be smaller for GBM as trees here should be simpler.\n",
    "From plot: RF: 13 GBM:5,6\n",
    "--------- n_estimators\n",
    "the more trees you add, the higher the risk of overfitting!! vs RF\n",
    "default=100 in both cases. \n",
    "we may want this to be bigger for RF\n",
    "RF:100-150\n",
    "GBM:100 \n",
    "--------- min_samples_split\n",
    "=min nbr of samples required to split a node\n",
    "default in both case is 2\n",
    "we may want this to be bigger for GBM (simple trees)\n",
    "RF:~5\n",
    "GBM:~10\n",
    "--------- min_samples_leaf\n",
    "=min samples at a leaf node\n",
    "default=1 in both cases\n",
    "we may want this to be bigger for GBM\n",
    "RF:2-3\n",
    "GBM:2-3\n",
    "--------- min_impurity_decrease\n",
    "=A node will be split if this split induces a decrease of the impurity greater than or equal to this value.\n",
    "default=0 in both cases\n",
    "min_impurity_decrease: https://towardsdatascience.com/decision-trees-and-random-forests-74b89a374db. Here is where min_impurity_decrease can help us as well. If the impurity of a split goes up then that would mean we are making a split which is not helping us and is instead over-fitting to the training data.\n",
    "RF: 0.00000001 to 0.0001\n",
    "GCB:0.00001 to 0.0001"
   ]
  },
  {
   "cell_type": "code",
   "execution_count": 10,
   "metadata": {
    "scrolled": true
   },
   "outputs": [
    {
     "name": "stderr",
     "output_type": "stream",
     "text": [
      "C:\\Users\\camil\\anaconda3\\lib\\site-packages\\ipykernel\\ipkernel.py:283: DeprecationWarning: `should_run_async` will not call `transform_cell` automatically in the future. Please pass the result to `transformed_cell` argument and any exception that happen during thetransform in `preprocessing_exc_tuple` in IPython 7.17 and above.\n",
      "  and should_run_async(code)\n",
      "\r",
      "  0%|                                                                                            | 0/5 [00:00<?, ?it/s]"
     ]
    },
    {
     "data": {
      "image/png": "[encoded data removed]",
      "text/plain": [
       "<Figure size 432x288 with 1 Axes>"
      ]
     },
     "metadata": {
      "needs_background": "light"
     },
     "output_type": "display_data"
    },
    {
     "name": "stderr",
     "output_type": "stream",
     "text": [
      "\r",
      " 20%|████████████████▊                                                                   | 1/5 [01:03<04:15, 63.90s/it]"
     ]
    },
    {
     "data": {
      "image/png": "[encoded data removed]",
      "text/plain": [
       "<Figure size 432x288 with 1 Axes>"
      ]
     },
     "metadata": {
      "needs_background": "light"
     },
     "output_type": "display_data"
    },
    {
     "name": "stderr",
     "output_type": "stream",
     "text": [
      "\r",
      " 40%|█████████████████████████████████▌                                                  | 2/5 [01:23<02:31, 50.55s/it]"
     ]
    },
    {
     "data": {
      "image/png": "[encoded data removed]",
      "text/plain": [
       "<Figure size 432x288 with 1 Axes>"
      ]
     },
     "metadata": {
      "needs_background": "light"
     },
     "output_type": "display_data"
    },
    {
     "name": "stderr",
     "output_type": "stream",
     "text": [
      "\r",
      " 60%|██████████████████████████████████████████████████▍                                 | 3/5 [01:40<01:20, 40.40s/it]"
     ]
    },
    {
     "data": {
      "image/png": "[encoded data removed]",
      "text/plain": [
       "<Figure size 432x288 with 1 Axes>"
      ]
     },
     "metadata": {
      "needs_background": "light"
     },
     "output_type": "display_data"
    },
    {
     "name": "stderr",
     "output_type": "stream",
     "text": [
      "\r",
      " 80%|███████████████████████████████████████████████████████████████████▏                | 4/5 [01:46<00:30, 30.14s/it]"
     ]
    },
    {
     "data": {
      "image/png": "[encoded data removed]",
      "text/plain": [
       "<Figure size 432x288 with 1 Axes>"
      ]
     },
     "metadata": {
      "needs_background": "light"
     },
     "output_type": "display_data"
    },
    {
     "name": "stderr",
     "output_type": "stream",
     "text": [
      "100%|████████████████████████████████████████████████████████████████████████████████████| 5/5 [02:07<00:00, 25.60s/it]\n"
     ]
    }
   ],
   "source": [
    "#FIRST: SEE WHICH RANGE FOR EACH PARAMETER AVOIDING OVERFITTING\n",
    "li_plt = []\n",
    "dico_hyperparam_values = {'max_depth': range(2,20),\n",
    "                          'n_estimators': range(40,300,20),\n",
    "                          'min_samples_split':range(2,20),\n",
    "                          'min_samples_leaf':range(1,7),\n",
    "                          'min_impurity_decrease':[x for x in np.linspace(start = 0, stop = 0.005, num = 30)]}\n",
    "\n",
    "#lets fix maxdepth first and then keep rest default except max_features\n",
    "for hp,li in tqdm.tqdm(dico_hyperparam_values.items()):\n",
    "    for v in li:\n",
    "        if hp=='max_depth':\n",
    "            dico_mod = {'RandomForest':RandomForestClassifier(max_features='sqrt', random_state=rs,\n",
    "                                                             max_depth=v),\n",
    "                        'GradientBoostingClassifier': GradientBoostingClassifier(max_features='sqrt', random_state=rs,\n",
    "                                                                                 max_depth=v)}\n",
    "        if hp=='n_estimators':\n",
    "            dico_mod = {'RandomForest':RandomForestClassifier(max_features='sqrt', random_state=rs,\n",
    "                                                              max_depth = 9,                                                                                 min_samples_split=10,\n",
    "                                                              n_estimators=v),\n",
    "                        'GradientBoostingClassifier': GradientBoostingClassifier(max_features='sqrt', random_state=rs,\n",
    "                                                                                 max_depth = 5, \n",
    "                                                                                 n_estimators=v)}\n",
    "        if hp=='min_samples_split':\n",
    "            dico_mod = {'RandomForest':RandomForestClassifier(max_features='sqrt', random_state=rs,\n",
    "                                                              max_depth = 9, \n",
    "                                                              min_samples_split=v),\n",
    "                        'GradientBoostingClassifier': GradientBoostingClassifier(max_features='sqrt', random_state=rs,\n",
    "                                                                                 max_depth = 5,\n",
    "                                                                                 min_samples_split=v)}\n",
    "        if hp=='min_samples_leaf':\n",
    "            dico_mod = {'RandomForest':RandomForestClassifier(max_features='sqrt', random_state=rs,\n",
    "                                                              max_depth = 9, \n",
    "                                                              min_samples_leaf=v),\n",
    "                        'GradientBoostingClassifier': GradientBoostingClassifier(max_features='sqrt', random_state=rs,\n",
    "                                                                                 max_depth = 5, \n",
    "                                                                                 min_samples_leaf=v)}\n",
    "        if hp=='min_impurity_decrease':\n",
    "            dico_mod = {'RandomForest':RandomForestClassifier(max_features='sqrt', random_state=rs,\n",
    "                                                              max_depth = 9, \n",
    "                                                              min_impurity_decrease=v),\n",
    "                        'GradientBoostingClassifier': GradientBoostingClassifier(max_features='sqrt', random_state=rs,\n",
    "                                                                                 max_depth = 5, \n",
    "                                                                                 min_impurity_decrease=v)}\n",
    "        for name,mod in dico_mod.items():\n",
    "            mod.fit(X_train_tuning, y_train_tuning)\n",
    "            li_plt.append({'algo':name, hp:v, 'type':'training', 'accuracy':round(mod.score(X_train_tuning, y_train_tuning),2)})\n",
    "            li_plt.append({'algo':name, hp:v, 'type':'validation', 'accuracy':round(mod.score(X_val_tuning, y_val_tuning),2)})\n",
    "            #save it\n",
    "            #predictor.score(X,Y) internally calculates Y'=predictor.predict(X) and then compares Y' against Y to give an accuracy\n",
    "            #measure. This applies not only to logistic regression but to any other model.\n",
    "            li_dico.append({'algo':name, 'model_param_used':mod,\n",
    "                            'accuracy_training':round(mod.score(X_train_tuning, y_train_tuning),2),\n",
    "                            'accuracy_validation':round(mod.score(X_val_tuning, y_val_tuning),2)})\n",
    "    sns.lineplot(data=pd.DataFrame(li_plt), x=hp, y=\"accuracy\", hue=\"algo\", style=\"type\");\n",
    "    plt.savefig(os.path.join(path_extracted_data_cleaning,id_run+'_ClassifierParamTuning_'+hp+'.png'), bbox_inches='tight')\n",
    "    plt.show()"
   ]
  },
  {
   "cell_type": "markdown",
   "metadata": {},
   "source": [
    "### 1- Random Forest"
   ]
  },
  {
   "cell_type": "raw",
   "metadata": {},
   "source": [
    "class weight but no early stopping"
   ]
  },
  {
   "cell_type": "code",
   "execution_count": 11,
   "metadata": {},
   "outputs": [
    {
     "name": "stderr",
     "output_type": "stream",
     "text": [
      "C:\\Users\\camil\\anaconda3\\lib\\site-packages\\ipykernel\\ipkernel.py:283: DeprecationWarning: `should_run_async` will not call `transform_cell` automatically in the future. Please pass the result to `transformed_cell` argument and any exception that happen during thetransform in `preprocessing_exc_tuple` in IPython 7.17 and above.\n",
      "  and should_run_async(code)\n",
      "[Parallel(n_jobs=-1)]: Using backend LokyBackend with 12 concurrent workers.\n"
     ]
    },
    {
     "name": "stdout",
     "output_type": "stream",
     "text": [
      "6.973880597014926\n",
      "Fitting 3 folds for each of 480 candidates, totalling 1440 fits\n"
     ]
    },
    {
     "name": "stderr",
     "output_type": "stream",
     "text": [
      "[Parallel(n_jobs=-1)]: Done  17 tasks      | elapsed:    3.2s\n",
      "[Parallel(n_jobs=-1)]: Done 138 tasks      | elapsed:    8.9s\n",
      "[Parallel(n_jobs=-1)]: Done 341 tasks      | elapsed:   18.1s\n",
      "[Parallel(n_jobs=-1)]: Done 624 tasks      | elapsed:   30.5s\n",
      "[Parallel(n_jobs=-1)]: Done 989 tasks      | elapsed:   48.3s\n",
      "[Parallel(n_jobs=-1)]: Done 1440 out of 1440 | elapsed:  1.2min finished\n"
     ]
    },
    {
     "data": {
      "text/plain": [
       "RandomForestClassifier(class_weight={0: 6.973880597014926, 1: 1},\n",
       "                       criterion='entropy', max_depth=13, max_features='sqrt',\n",
       "                       min_impurity_decrease=0.0003340000000000001,\n",
       "                       min_samples_leaf=3, min_samples_split=5,\n",
       "                       n_estimators=120)"
      ]
     },
     "metadata": {},
     "output_type": "display_data"
    }
   ],
   "source": [
    "#THEN: refine the parameters\n",
    "x1 = df_cleaning[df_cleaning['VideoAnalyse']==1].shape[0]\n",
    "x0 = df_cleaning[df_cleaning['VideoAnalyse']==0].shape[0]\n",
    "print(x1/x0)\n",
    "P = {'max_features': ['sqrt'], #nbr of features to consider when looking for the best split\n",
    "      'criterion':['gini', 'entropy'],\n",
    "      'max_depth': [13],\n",
    "      'min_samples_leaf': [2,3],#min samples at a leaf node\n",
    "      'min_samples_split':[2,3,4,5], #min nbr of samples required to split a node, we may want this to be bigger for RF (more complex trees)\n",
    "      'n_estimators':[100,110,120],#nbr of trees in the forest default=100\n",
    "      'min_impurity_decrease':[x for x in np.linspace(start = 0.000001, stop = 0.001, num = 10)],\n",
    "      'bootstrap': [True],\n",
    "      'class_weight': [{0:x1/x0, 1:1}]}\n",
    "#define the model with all these options and fit it (as many combinationa s asked for)\n",
    "mod = GridSearchCV(estimator = RandomForestClassifier(), param_grid = P, cv = 3, n_jobs = -1, verbose = 2) \n",
    "mod.fit(X_train, y_train)\n",
    "#define the best model and fit it \n",
    "mod_final = mod.best_estimator_\n",
    "mod_final.fit(X_train, y_train)\n",
    "#save the trained classifier\n",
    "joblib.dump(mod_final, os.path.join(path_extracted_data_cleaning_model, 'selected_randomforest.pkl') )\n",
    "display(mod_final)"
   ]
  },
  {
   "cell_type": "code",
   "execution_count": 12,
   "metadata": {},
   "outputs": [
    {
     "name": "stderr",
     "output_type": "stream",
     "text": [
      "C:\\Users\\camil\\anaconda3\\lib\\site-packages\\ipykernel\\ipkernel.py:283: DeprecationWarning: `should_run_async` will not call `transform_cell` automatically in the future. Please pass the result to `transformed_cell` argument and any exception that happen during thetransform in `preprocessing_exc_tuple` in IPython 7.17 and above.\n",
      "  and should_run_async(code)\n"
     ]
    },
    {
     "data": {
      "text/html": [
       "<div>\n",
       "<style scoped>\n",
       "    .dataframe tbody tr th:only-of-type {\n",
       "        vertical-align: middle;\n",
       "    }\n",
       "\n",
       "    .dataframe tbody tr th {\n",
       "        vertical-align: top;\n",
       "    }\n",
       "\n",
       "    .dataframe thead th {\n",
       "        text-align: right;\n",
       "    }\n",
       "</style>\n",
       "<table border=\"1\" class=\"dataframe\">\n",
       "  <thead>\n",
       "    <tr style=\"text-align: right;\">\n",
       "      <th></th>\n",
       "      <th>algo</th>\n",
       "      <th>model_param_used</th>\n",
       "      <th>accuracy_training</th>\n",
       "      <th>accuracy_validation</th>\n",
       "    </tr>\n",
       "  </thead>\n",
       "  <tbody>\n",
       "    <tr>\n",
       "      <th>0</th>\n",
       "      <td>RandomForest</td>\n",
       "      <td>(DecisionTreeClassifier(max_depth=2, max_featu...</td>\n",
       "      <td>0.960</td>\n",
       "      <td>0.96</td>\n",
       "    </tr>\n",
       "    <tr>\n",
       "      <th>1</th>\n",
       "      <td>GradientBoostingClassifier</td>\n",
       "      <td>([DecisionTreeRegressor(criterion='friedman_ms...</td>\n",
       "      <td>0.980</td>\n",
       "      <td>0.98</td>\n",
       "    </tr>\n",
       "    <tr>\n",
       "      <th>2</th>\n",
       "      <td>RandomForest</td>\n",
       "      <td>(DecisionTreeClassifier(max_depth=3, max_featu...</td>\n",
       "      <td>0.960</td>\n",
       "      <td>0.96</td>\n",
       "    </tr>\n",
       "    <tr>\n",
       "      <th>3</th>\n",
       "      <td>GradientBoostingClassifier</td>\n",
       "      <td>([DecisionTreeRegressor(criterion='friedman_ms...</td>\n",
       "      <td>0.990</td>\n",
       "      <td>0.99</td>\n",
       "    </tr>\n",
       "    <tr>\n",
       "      <th>4</th>\n",
       "      <td>RandomForest</td>\n",
       "      <td>(DecisionTreeClassifier(max_depth=4, max_featu...</td>\n",
       "      <td>0.980</td>\n",
       "      <td>0.98</td>\n",
       "    </tr>\n",
       "    <tr>\n",
       "      <th>...</th>\n",
       "      <td>...</td>\n",
       "      <td>...</td>\n",
       "      <td>...</td>\n",
       "      <td>...</td>\n",
       "    </tr>\n",
       "    <tr>\n",
       "      <th>166</th>\n",
       "      <td>RandomForest</td>\n",
       "      <td>(DecisionTreeClassifier(max_depth=9, max_featu...</td>\n",
       "      <td>0.960</td>\n",
       "      <td>0.96</td>\n",
       "    </tr>\n",
       "    <tr>\n",
       "      <th>167</th>\n",
       "      <td>GradientBoostingClassifier</td>\n",
       "      <td>([DecisionTreeRegressor(criterion='friedman_ms...</td>\n",
       "      <td>1.000</td>\n",
       "      <td>0.99</td>\n",
       "    </tr>\n",
       "    <tr>\n",
       "      <th>168</th>\n",
       "      <td>RandomForest</td>\n",
       "      <td>(DecisionTreeClassifier(max_depth=9, max_featu...</td>\n",
       "      <td>0.960</td>\n",
       "      <td>0.96</td>\n",
       "    </tr>\n",
       "    <tr>\n",
       "      <th>169</th>\n",
       "      <td>GradientBoostingClassifier</td>\n",
       "      <td>([DecisionTreeRegressor(criterion='friedman_ms...</td>\n",
       "      <td>1.000</td>\n",
       "      <td>0.99</td>\n",
       "    </tr>\n",
       "    <tr>\n",
       "      <th>170</th>\n",
       "      <td>best-randomforest</td>\n",
       "      <td>(DecisionTreeClassifier(criterion='entropy', m...</td>\n",
       "      <td>0.994</td>\n",
       "      <td>NaN</td>\n",
       "    </tr>\n",
       "  </tbody>\n",
       "</table>\n",
       "<p>171 rows × 4 columns</p>\n",
       "</div>"
      ],
      "text/plain": [
       "                           algo  \\\n",
       "0                  RandomForest   \n",
       "1    GradientBoostingClassifier   \n",
       "2                  RandomForest   \n",
       "3    GradientBoostingClassifier   \n",
       "4                  RandomForest   \n",
       "..                          ...   \n",
       "166                RandomForest   \n",
       "167  GradientBoostingClassifier   \n",
       "168                RandomForest   \n",
       "169  GradientBoostingClassifier   \n",
       "170           best-randomforest   \n",
       "\n",
       "                                      model_param_used  accuracy_training  \\\n",
       "0    (DecisionTreeClassifier(max_depth=2, max_featu...              0.960   \n",
       "1    ([DecisionTreeRegressor(criterion='friedman_ms...              0.980   \n",
       "2    (DecisionTreeClassifier(max_depth=3, max_featu...              0.960   \n",
       "3    ([DecisionTreeRegressor(criterion='friedman_ms...              0.990   \n",
       "4    (DecisionTreeClassifier(max_depth=4, max_featu...              0.980   \n",
       "..                                                 ...                ...   \n",
       "166  (DecisionTreeClassifier(max_depth=9, max_featu...              0.960   \n",
       "167  ([DecisionTreeRegressor(criterion='friedman_ms...              1.000   \n",
       "168  (DecisionTreeClassifier(max_depth=9, max_featu...              0.960   \n",
       "169  ([DecisionTreeRegressor(criterion='friedman_ms...              1.000   \n",
       "170  (DecisionTreeClassifier(criterion='entropy', m...              0.994   \n",
       "\n",
       "     accuracy_validation  \n",
       "0                   0.96  \n",
       "1                   0.98  \n",
       "2                   0.96  \n",
       "3                   0.99  \n",
       "4                   0.98  \n",
       "..                   ...  \n",
       "166                 0.96  \n",
       "167                 0.99  \n",
       "168                 0.96  \n",
       "169                 0.99  \n",
       "170                  NaN  \n",
       "\n",
       "[171 rows x 4 columns]"
      ]
     },
     "execution_count": 12,
     "metadata": {},
     "output_type": "execute_result"
    }
   ],
   "source": [
    "li_dico.append({'algo':'best-randomforest', 'model_param_used':mod_final, \n",
    "                'accuracy_training':round(mod_final.score(X_train, y_train),3)})\n",
    "pd.DataFrame(li_dico)"
   ]
  },
  {
   "cell_type": "markdown",
   "metadata": {},
   "source": [
    "### 2 - GradientBoostingClassifier"
   ]
  },
  {
   "cell_type": "raw",
   "metadata": {},
   "source": [
    "early stopping but no class weight\n",
    "Sample Weights change the loss function and your score that you're trying to optimize. This is often used in case of survey data where sampling approaches have gaps.\n",
    "\n",
    "Class Weights are used to correct class imbalances as a proxy for over \\ undersampling. There is no direct way to do that for GB in sklearn (you can do that in Random Forests though)"
   ]
  },
  {
   "cell_type": "code",
   "execution_count": 13,
   "metadata": {
    "scrolled": true
   },
   "outputs": [
    {
     "name": "stderr",
     "output_type": "stream",
     "text": [
      "C:\\Users\\camil\\anaconda3\\lib\\site-packages\\ipykernel\\ipkernel.py:283: DeprecationWarning: `should_run_async` will not call `transform_cell` automatically in the future. Please pass the result to `transformed_cell` argument and any exception that happen during thetransform in `preprocessing_exc_tuple` in IPython 7.17 and above.\n",
      "  and should_run_async(code)\n",
      "[Parallel(n_jobs=-1)]: Using backend LokyBackend with 12 concurrent workers.\n"
     ]
    },
    {
     "name": "stdout",
     "output_type": "stream",
     "text": [
      "Fitting 3 folds for each of 8820 candidates, totalling 26460 fits\n"
     ]
    },
    {
     "name": "stderr",
     "output_type": "stream",
     "text": [
      "[Parallel(n_jobs=-1)]: Done  17 tasks      | elapsed:    0.6s\n",
      "[Parallel(n_jobs=-1)]: Done 252 tasks      | elapsed:    7.1s\n",
      "[Parallel(n_jobs=-1)]: Done 658 tasks      | elapsed:   17.6s\n",
      "[Parallel(n_jobs=-1)]: Done 1224 tasks      | elapsed:   32.6s\n",
      "[Parallel(n_jobs=-1)]: Done 1954 tasks      | elapsed:   51.0s\n",
      "[Parallel(n_jobs=-1)]: Done 2844 tasks      | elapsed:  1.3min\n",
      "[Parallel(n_jobs=-1)]: Done 3898 tasks      | elapsed:  1.8min\n",
      "[Parallel(n_jobs=-1)]: Done 5112 tasks      | elapsed:  2.2min\n",
      "[Parallel(n_jobs=-1)]: Done 6490 tasks      | elapsed:  2.7min\n",
      "[Parallel(n_jobs=-1)]: Done 8028 tasks      | elapsed:  3.2min\n",
      "[Parallel(n_jobs=-1)]: Done 9730 tasks      | elapsed:  3.7min\n",
      "[Parallel(n_jobs=-1)]: Done 11592 tasks      | elapsed:  4.1min\n",
      "[Parallel(n_jobs=-1)]: Done 13618 tasks      | elapsed:  4.4min\n",
      "[Parallel(n_jobs=-1)]: Done 15804 tasks      | elapsed:  4.7min\n",
      "[Parallel(n_jobs=-1)]: Done 17933 tasks      | elapsed:  6.1min\n",
      "[Parallel(n_jobs=-1)]: Done 19188 tasks      | elapsed: 10.2min\n",
      "[Parallel(n_jobs=-1)]: Done 20525 tasks      | elapsed: 14.9min\n",
      "[Parallel(n_jobs=-1)]: Done 21942 tasks      | elapsed: 19.3min\n",
      "[Parallel(n_jobs=-1)]: Done 23441 tasks      | elapsed: 23.6min\n",
      "[Parallel(n_jobs=-1)]: Done 25020 tasks      | elapsed: 28.0min\n",
      "[Parallel(n_jobs=-1)]: Done 26460 out of 26460 | elapsed: 31.3min finished\n"
     ]
    },
    {
     "data": {
      "text/plain": [
       "GradientBoostingClassifier(learning_rate=0.15, max_depth=6, max_features='sqrt',\n",
       "                           min_impurity_decrease=0.0002575, min_samples_leaf=4,\n",
       "                           min_samples_split=7, n_iter_no_change=8, tol=0.001,\n",
       "                           validation_fraction=0.2)"
      ]
     },
     "metadata": {},
     "output_type": "display_data"
    }
   ],
   "source": [
    "#THEN: refine the parameters\n",
    "P = {'max_features': ['sqrt'],\n",
    "     'n_estimators': [100], #the more trees you add, the higher the risk of overfitting!! default:100\n",
    "     'min_samples_split':range(3,10),\n",
    "     'min_samples_leaf':[4,5,6],\n",
    "     'max_depth': [5,6], #if to big: risk of overfitting default=3, should be smaller than RF, trees here should be simpler\n",
    "     'min_impurity_decrease':[x for x in np.linspace(start = 0.00001, stop = 0.001, num = 5)],\n",
    "     'learning_rate':[0.1,0.15],\n",
    "     'loss':['deviance'], #deviance is gradiant boosting\n",
    "     'criterion':['friedman_mse','mse','mae'],\n",
    "     'validation_fraction':[val_size], #to have early stopping avoiding overfitting keep same as for catboost\n",
    "     'n_iter_no_change':range(3,10),#to have early stopping avoiding overfitting. If set to a number, it will set aside validation_fraction size of the training data as validation and terminate training when validation score is not improving in all of the previous n_iter_no_change numbers of iterations.\n",
    "     'tol':[0.001]#to have early stopping avoiding overfitting. default 1e-4 \n",
    "    }\n",
    "mod = GridSearchCV(estimator = GradientBoostingClassifier(), param_grid=P, cv=3, n_jobs=-1, verbose=2) \n",
    "mod.fit(X_train, y_train)\n",
    "mod_final = mod.best_estimator_\n",
    "mod_final.fit(X_train, y_train)\n",
    "# save the trained classifier\n",
    "joblib.dump(mod_final, os.path.join(path_extracted_data_cleaning_model, 'selected_GBC.pkl') )\n",
    "display(mod_final)"
   ]
  },
  {
   "cell_type": "code",
   "execution_count": 14,
   "metadata": {},
   "outputs": [
    {
     "name": "stderr",
     "output_type": "stream",
     "text": [
      "C:\\Users\\camil\\anaconda3\\lib\\site-packages\\ipykernel\\ipkernel.py:283: DeprecationWarning: `should_run_async` will not call `transform_cell` automatically in the future. Please pass the result to `transformed_cell` argument and any exception that happen during thetransform in `preprocessing_exc_tuple` in IPython 7.17 and above.\n",
      "  and should_run_async(code)\n"
     ]
    },
    {
     "data": {
      "text/html": [
       "<div>\n",
       "<style scoped>\n",
       "    .dataframe tbody tr th:only-of-type {\n",
       "        vertical-align: middle;\n",
       "    }\n",
       "\n",
       "    .dataframe tbody tr th {\n",
       "        vertical-align: top;\n",
       "    }\n",
       "\n",
       "    .dataframe thead th {\n",
       "        text-align: right;\n",
       "    }\n",
       "</style>\n",
       "<table border=\"1\" class=\"dataframe\">\n",
       "  <thead>\n",
       "    <tr style=\"text-align: right;\">\n",
       "      <th></th>\n",
       "      <th>algo</th>\n",
       "      <th>model_param_used</th>\n",
       "      <th>accuracy_training</th>\n",
       "      <th>accuracy_validation</th>\n",
       "    </tr>\n",
       "  </thead>\n",
       "  <tbody>\n",
       "    <tr>\n",
       "      <th>0</th>\n",
       "      <td>RandomForest</td>\n",
       "      <td>(DecisionTreeClassifier(max_depth=2, max_featu...</td>\n",
       "      <td>0.960</td>\n",
       "      <td>0.96</td>\n",
       "    </tr>\n",
       "    <tr>\n",
       "      <th>1</th>\n",
       "      <td>GradientBoostingClassifier</td>\n",
       "      <td>([DecisionTreeRegressor(criterion='friedman_ms...</td>\n",
       "      <td>0.980</td>\n",
       "      <td>0.98</td>\n",
       "    </tr>\n",
       "    <tr>\n",
       "      <th>2</th>\n",
       "      <td>RandomForest</td>\n",
       "      <td>(DecisionTreeClassifier(max_depth=3, max_featu...</td>\n",
       "      <td>0.960</td>\n",
       "      <td>0.96</td>\n",
       "    </tr>\n",
       "    <tr>\n",
       "      <th>3</th>\n",
       "      <td>GradientBoostingClassifier</td>\n",
       "      <td>([DecisionTreeRegressor(criterion='friedman_ms...</td>\n",
       "      <td>0.990</td>\n",
       "      <td>0.99</td>\n",
       "    </tr>\n",
       "    <tr>\n",
       "      <th>4</th>\n",
       "      <td>RandomForest</td>\n",
       "      <td>(DecisionTreeClassifier(max_depth=4, max_featu...</td>\n",
       "      <td>0.980</td>\n",
       "      <td>0.98</td>\n",
       "    </tr>\n",
       "    <tr>\n",
       "      <th>...</th>\n",
       "      <td>...</td>\n",
       "      <td>...</td>\n",
       "      <td>...</td>\n",
       "      <td>...</td>\n",
       "    </tr>\n",
       "    <tr>\n",
       "      <th>167</th>\n",
       "      <td>GradientBoostingClassifier</td>\n",
       "      <td>([DecisionTreeRegressor(criterion='friedman_ms...</td>\n",
       "      <td>1.000</td>\n",
       "      <td>0.99</td>\n",
       "    </tr>\n",
       "    <tr>\n",
       "      <th>168</th>\n",
       "      <td>RandomForest</td>\n",
       "      <td>(DecisionTreeClassifier(max_depth=9, max_featu...</td>\n",
       "      <td>0.960</td>\n",
       "      <td>0.96</td>\n",
       "    </tr>\n",
       "    <tr>\n",
       "      <th>169</th>\n",
       "      <td>GradientBoostingClassifier</td>\n",
       "      <td>([DecisionTreeRegressor(criterion='friedman_ms...</td>\n",
       "      <td>1.000</td>\n",
       "      <td>0.99</td>\n",
       "    </tr>\n",
       "    <tr>\n",
       "      <th>170</th>\n",
       "      <td>best-randomforest</td>\n",
       "      <td>(DecisionTreeClassifier(criterion='entropy', m...</td>\n",
       "      <td>0.994</td>\n",
       "      <td>NaN</td>\n",
       "    </tr>\n",
       "    <tr>\n",
       "      <th>171</th>\n",
       "      <td>best-GradientBoostingClassifier</td>\n",
       "      <td>([DecisionTreeRegressor(criterion='friedman_ms...</td>\n",
       "      <td>0.997</td>\n",
       "      <td>NaN</td>\n",
       "    </tr>\n",
       "  </tbody>\n",
       "</table>\n",
       "<p>172 rows × 4 columns</p>\n",
       "</div>"
      ],
      "text/plain": [
       "                                algo  \\\n",
       "0                       RandomForest   \n",
       "1         GradientBoostingClassifier   \n",
       "2                       RandomForest   \n",
       "3         GradientBoostingClassifier   \n",
       "4                       RandomForest   \n",
       "..                               ...   \n",
       "167       GradientBoostingClassifier   \n",
       "168                     RandomForest   \n",
       "169       GradientBoostingClassifier   \n",
       "170                best-randomforest   \n",
       "171  best-GradientBoostingClassifier   \n",
       "\n",
       "                                      model_param_used  accuracy_training  \\\n",
       "0    (DecisionTreeClassifier(max_depth=2, max_featu...              0.960   \n",
       "1    ([DecisionTreeRegressor(criterion='friedman_ms...              0.980   \n",
       "2    (DecisionTreeClassifier(max_depth=3, max_featu...              0.960   \n",
       "3    ([DecisionTreeRegressor(criterion='friedman_ms...              0.990   \n",
       "4    (DecisionTreeClassifier(max_depth=4, max_featu...              0.980   \n",
       "..                                                 ...                ...   \n",
       "167  ([DecisionTreeRegressor(criterion='friedman_ms...              1.000   \n",
       "168  (DecisionTreeClassifier(max_depth=9, max_featu...              0.960   \n",
       "169  ([DecisionTreeRegressor(criterion='friedman_ms...              1.000   \n",
       "170  (DecisionTreeClassifier(criterion='entropy', m...              0.994   \n",
       "171  ([DecisionTreeRegressor(criterion='friedman_ms...              0.997   \n",
       "\n",
       "     accuracy_validation  \n",
       "0                   0.96  \n",
       "1                   0.98  \n",
       "2                   0.96  \n",
       "3                   0.99  \n",
       "4                   0.98  \n",
       "..                   ...  \n",
       "167                 0.99  \n",
       "168                 0.96  \n",
       "169                 0.99  \n",
       "170                  NaN  \n",
       "171                  NaN  \n",
       "\n",
       "[172 rows x 4 columns]"
      ]
     },
     "execution_count": 14,
     "metadata": {},
     "output_type": "execute_result"
    }
   ],
   "source": [
    "li_dico.append({'algo':'best-GradientBoostingClassifier', 'model_param_used':mod_final, \n",
    "                'accuracy_training':round(mod_final.score(X_train, y_train),3)})\n",
    "pd.DataFrame(li_dico)"
   ]
  },
  {
   "cell_type": "markdown",
   "metadata": {},
   "source": [
    "# save final results"
   ]
  },
  {
   "cell_type": "code",
   "execution_count": 15,
   "metadata": {},
   "outputs": [
    {
     "name": "stdout",
     "output_type": "stream",
     "text": [
      "(172, 4)\n"
     ]
    },
    {
     "name": "stderr",
     "output_type": "stream",
     "text": [
      "C:\\Users\\camil\\anaconda3\\lib\\site-packages\\ipykernel\\ipkernel.py:283: DeprecationWarning: `should_run_async` will not call `transform_cell` automatically in the future. Please pass the result to `transformed_cell` argument and any exception that happen during thetransform in `preprocessing_exc_tuple` in IPython 7.17 and above.\n",
      "  and should_run_async(code)\n"
     ]
    }
   ],
   "source": [
    "df_res = pd.DataFrame(li_dico)\n",
    "print(df_res.shape)\n",
    "df_res.to_csv(os.path.join(path_extracted_data_cleaning, 'RF&GB_finetuning.csv'), sep=';', index=False)      "
   ]
  },
  {
   "cell_type": "code",
   "execution_count": null,
   "metadata": {},
   "outputs": [],
   "source": []
  },
  {
   "cell_type": "code",
   "execution_count": null,
   "metadata": {},
   "outputs": [],
   "source": []
  },
  {
   "cell_type": "code",
   "execution_count": null,
   "metadata": {},
   "outputs": [],
   "source": []
  },
  {
   "cell_type": "code",
   "execution_count": null,
   "metadata": {},
   "outputs": [],
   "source": []
  },
  {
   "cell_type": "code",
   "execution_count": null,
   "metadata": {},
   "outputs": [],
   "source": []
  },
  {
   "cell_type": "code",
   "execution_count": null,
   "metadata": {},
   "outputs": [],
   "source": []
  },
  {
   "cell_type": "code",
   "execution_count": null,
   "metadata": {},
   "outputs": [],
   "source": []
  }
 ],
 "metadata": {
  "kernelspec": {
   "display_name": "Python 3",
   "language": "python",
   "name": "python3"
  },
  "language_info": {
   "codemirror_mode": {
    "name": "ipython",
    "version": 3
   },
   "file_extension": ".py",
   "mimetype": "text/x-python",
   "name": "python",
   "nbconvert_exporter": "python",
   "pygments_lexer": "ipython3",
   "version": "3.8.5"
  }
 },
 "nbformat": 4,
 "nbformat_minor": 2
}
