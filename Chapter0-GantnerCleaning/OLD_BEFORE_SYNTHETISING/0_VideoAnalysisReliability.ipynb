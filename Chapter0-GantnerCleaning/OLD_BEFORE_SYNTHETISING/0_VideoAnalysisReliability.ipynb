{
 "cells": [
  {
   "cell_type": "code",
   "execution_count": 1,
   "metadata": {},
   "outputs": [
    {
     "name": "stderr",
     "output_type": "stream",
     "text": [
      "Loading required package: lattice\n",
      "\n",
      "Loading required package: ggplot2\n",
      "\n",
      "\n",
      "Attaching package: 'ggplot2'\n",
      "\n",
      "\n",
      "The following objects are masked from 'package:psych':\n",
      "\n",
      "    %+%, alpha\n",
      "\n",
      "\n"
     ]
    }
   ],
   "source": [
    "library ('psych') #cohens kappa\n",
    "library('readr') #read_delim\n",
    "library('caret') #confusion matrix"
   ]
  },
  {
   "cell_type": "code",
   "execution_count": 2,
   "metadata": {},
   "outputs": [
    {
     "data": {
      "text/plain": [
       "R version 3.6.3 (2020-02-29)\n",
       "Platform: x86_64-w64-mingw32/x64 (64-bit)\n",
       "Running under: Windows 10 x64 (build 19042)\n",
       "\n",
       "Matrix products: default\n",
       "\n",
       "locale:\n",
       "[1] LC_COLLATE=French_Switzerland.1252  LC_CTYPE=French_Switzerland.1252   \n",
       "[3] LC_MONETARY=French_Switzerland.1252 LC_NUMERIC=C                       \n",
       "[5] LC_TIME=French_Switzerland.1252    \n",
       "\n",
       "attached base packages:\n",
       "[1] stats     graphics  grDevices utils     datasets  methods   base     \n",
       "\n",
       "other attached packages:\n",
       "[1] caret_6.0-86    ggplot2_3.3.3   lattice_0.20-41 readr_1.4.0    \n",
       "[5] psych_2.1.3    \n",
       "\n",
       "loaded via a namespace (and not attached):\n",
       " [1] Rcpp_1.0.1           lubridate_1.7.10     class_7.3-17        \n",
       " [4] assertthat_0.2.1     digest_0.6.18        ipred_0.9-9         \n",
       " [7] foreach_1.5.1        IRdisplay_0.7.0      R6_2.5.0            \n",
       "[10] plyr_1.8.6           repr_0.19.2          stats4_3.6.3        \n",
       "[13] evaluate_0.13        pillar_1.4.7         rlang_0.4.10        \n",
       "[16] uuid_0.1-2           data.table_1.13.6    rpart_4.1-15        \n",
       "[19] Matrix_1.3-2         splines_3.6.3        gower_0.2.2         \n",
       "[22] stringr_1.4.0        munsell_0.5.0        compiler_3.6.3      \n",
       "[25] pkgconfig_2.0.3      base64enc_0.1-3      mnormt_2.0.2        \n",
       "[28] tmvnsim_1.0-2        htmltools_0.3.6      nnet_7.3-14         \n",
       "[31] tidyselect_1.1.0     tibble_3.0.5         prodlim_2019.11.13  \n",
       "[34] codetools_0.2-18     crayon_1.3.4         dplyr_1.0.3         \n",
       "[37] withr_2.4.0          ModelMetrics_1.2.2.2 MASS_7.3-53         \n",
       "[40] recipes_0.1.15       grid_3.6.3           nlme_3.1-151        \n",
       "[43] jsonlite_1.6         gtable_0.3.0         lifecycle_0.2.0     \n",
       "[46] DBI_1.1.1            magrittr_2.0.1       pROC_1.17.0.1       \n",
       "[49] scales_1.1.1         stringi_1.5.3        reshape2_1.4.4      \n",
       "[52] timeDate_3043.102    ellipsis_0.3.1       generics_0.1.0      \n",
       "[55] vctrs_0.3.6          IRkernel_1.1.1       lava_1.6.8.1        \n",
       "[58] iterators_1.0.13     tools_3.6.3          glue_1.4.2          \n",
       "[61] purrr_0.3.4          hms_1.0.0            parallel_3.6.3      \n",
       "[64] survival_3.2-7       colorspace_2.0-0     pbdZMQ_0.3-3        "
      ]
     },
     "metadata": {},
     "output_type": "display_data"
    }
   ],
   "source": [
    "sessionInfo()"
   ]
  },
  {
   "cell_type": "markdown",
   "metadata": {},
   "source": [
    "# Video Raters reliability"
   ]
  },
  {
   "cell_type": "code",
   "execution_count": 3,
   "metadata": {},
   "outputs": [
    {
     "name": "stderr",
     "output_type": "stream",
     "text": [
      "\n",
      "\u001b[36m--\u001b[39m \u001b[1m\u001b[1mColumn specification\u001b[1m\u001b[22m \u001b[36m------------------------------------------------------------------------------------------------\u001b[39m\n",
      "cols(\n",
      "  Pen = \u001b[32mcol_double()\u001b[39m,\n",
      "  Date = \u001b[31mcol_character()\u001b[39m,\n",
      "  Time = \u001b[34mcol_time(format = \"\")\u001b[39m,\n",
      "  SerianlNumber = \u001b[31mcol_character()\u001b[39m,\n",
      "  Tag = \u001b[32mcol_double()\u001b[39m,\n",
      "  BirdID = \u001b[31mcol_character()\u001b[39m,\n",
      "  TransLogged = \u001b[31mcol_character()\u001b[39m,\n",
      "  Dori = \u001b[32mcol_double()\u001b[39m,\n",
      "  CommentsDori = \u001b[31mcol_character()\u001b[39m,\n",
      "  Masha = \u001b[32mcol_double()\u001b[39m,\n",
      "  CommentsMasha = \u001b[31mcol_character()\u001b[39m\n",
      ")\n",
      "\n",
      "\n"
     ]
    },
    {
     "data": {
      "text/html": [
       "<table>\n",
       "<thead><tr><th scope=col>Pen</th><th scope=col>Date</th><th scope=col>Time</th><th scope=col>SerianlNumber</th><th scope=col>Tag</th><th scope=col>BirdID</th><th scope=col>TransLogged</th><th scope=col>Dori</th><th scope=col>CommentsDori</th><th scope=col>Masha</th><th scope=col>CommentsMasha</th></tr></thead>\n",
       "<tbody>\n",
       "\t<tr><td>11                    </td><td>14.10.2020            </td><td>14:02:04              </td><td>02001E6A              </td><td>140                   </td><td>11wp                  </td><td>Tier 2 + untere Stange</td><td>1                     </td><td>NA                    </td><td>1                     </td><td>NA                    </td></tr>\n",
       "\t<tr><td>11                    </td><td>14.10.2020            </td><td>14:02:30              </td><td>02001E6A              </td><td>140                   </td><td>11wp                  </td><td>Tier 1                </td><td>1                     </td><td>NA                    </td><td>1                     </td><td>NA                    </td></tr>\n",
       "\t<tr><td>11                    </td><td>14.10.2020            </td><td>14:13:45              </td><td>02001E6A              </td><td>140                   </td><td>11wp                  </td><td>Tier 2 (mini 11)      </td><td>1                     </td><td>NA                    </td><td>1                     </td><td>NA                    </td></tr>\n",
       "</tbody>\n",
       "</table>\n"
      ],
      "text/latex": [
       "\\begin{tabular}{r|lllllllllll}\n",
       " Pen & Date & Time & SerianlNumber & Tag & BirdID & TransLogged & Dori & CommentsDori & Masha & CommentsMasha\\\\\n",
       "\\hline\n",
       "\t 11                     & 14.10.2020             & 14:02:04               & 02001E6A               & 140                    & 11wp                   & Tier 2 + untere Stange & 1                      & NA                     & 1                      & NA                    \\\\\n",
       "\t 11                     & 14.10.2020             & 14:02:30               & 02001E6A               & 140                    & 11wp                   & Tier 1                 & 1                      & NA                     & 1                      & NA                    \\\\\n",
       "\t 11                     & 14.10.2020             & 14:13:45               & 02001E6A               & 140                    & 11wp                   & Tier 2 (mini 11)       & 1                      & NA                     & 1                      & NA                    \\\\\n",
       "\\end{tabular}\n"
      ],
      "text/markdown": [
       "\n",
       "| Pen | Date | Time | SerianlNumber | Tag | BirdID | TransLogged | Dori | CommentsDori | Masha | CommentsMasha |\n",
       "|---|---|---|---|---|---|---|---|---|---|---|\n",
       "| 11                     | 14.10.2020             | 14:02:04               | 02001E6A               | 140                    | 11wp                   | Tier 2 + untere Stange | 1                      | NA                     | 1                      | NA                     |\n",
       "| 11                     | 14.10.2020             | 14:02:30               | 02001E6A               | 140                    | 11wp                   | Tier 1                 | 1                      | NA                     | 1                      | NA                     |\n",
       "| 11                     | 14.10.2020             | 14:13:45               | 02001E6A               | 140                    | 11wp                   | Tier 2 (mini 11)       | 1                      | NA                     | 1                      | NA                     |\n",
       "\n"
      ],
      "text/plain": [
       "  Pen Date       Time     SerianlNumber Tag BirdID TransLogged            Dori\n",
       "1 11  14.10.2020 14:02:04 02001E6A      140 11wp   Tier 2 + untere Stange 1   \n",
       "2 11  14.10.2020 14:02:30 02001E6A      140 11wp   Tier 1                 1   \n",
       "3 11  14.10.2020 14:13:45 02001E6A      140 11wp   Tier 2 (mini 11)       1   \n",
       "  CommentsDori Masha CommentsMasha\n",
       "1 NA           1     NA           \n",
       "2 NA           1     NA           \n",
       "3 NA           1     NA           "
      ]
     },
     "metadata": {},
     "output_type": "display_data"
    }
   ],
   "source": [
    "#open data\n",
    "path_analysis = \"G:/VPHI/Welfare/2- Research Projects/OFHE2.OriginsE2/GantnerSystem/GantnerCleaning/Results\"\n",
    "df_2raters = read_delim(file.path(path_analysis,'Reliability_Dori&Masha.csv'),';',trim_ws=TRUE)\n",
    "c_2student = c('Dori','Masha')\n",
    "df_2raters[c_2student] = lapply(df_2raters[c_2student], factor)\n",
    "head(df_2raters,3)"
   ]
  },
  {
   "cell_type": "code",
   "execution_count": 4,
   "metadata": {},
   "outputs": [
    {
     "data": {
      "text/plain": [
       "Call: cohen.kappa1(x = x, w = w, n.obs = n.obs, alpha = alpha, levels = levels)\n",
       "\n",
       "Cohen Kappa and Weighted Kappa correlation coefficients and confidence boundaries \n",
       "                 lower estimate upper\n",
       "unweighted kappa     1        1     1\n",
       "weighted kappa       1        1     1\n",
       "\n",
       " Number of subjects = 137 "
      ]
     },
     "metadata": {},
     "output_type": "display_data"
    }
   ],
   "source": [
    "#### reliability for two helpers ####\n",
    "CM = confusionMatrix(df_2raters$Masha, df_2raters$Dori)\n",
    "cohen.kappa(CM$table, alpha=.05)"
   ]
  },
  {
   "cell_type": "code",
   "execution_count": null,
   "metadata": {},
   "outputs": [],
   "source": []
  },
  {
   "cell_type": "code",
   "execution_count": null,
   "metadata": {},
   "outputs": [],
   "source": []
  },
  {
   "cell_type": "code",
   "execution_count": null,
   "metadata": {},
   "outputs": [],
   "source": []
  },
  {
   "cell_type": "code",
   "execution_count": null,
   "metadata": {},
   "outputs": [],
   "source": []
  },
  {
   "cell_type": "code",
   "execution_count": null,
   "metadata": {},
   "outputs": [],
   "source": []
  },
  {
   "cell_type": "code",
   "execution_count": null,
   "metadata": {},
   "outputs": [],
   "source": []
  }
 ],
 "metadata": {
  "kernelspec": {
   "display_name": "R",
   "language": "R",
   "name": "ir"
  },
  "language_info": {
   "codemirror_mode": "r",
   "file_extension": ".r",
   "mimetype": "text/x-r-source",
   "name": "R",
   "pygments_lexer": "r",
   "version": "3.6.3"
  }
 },
 "nbformat": 4,
 "nbformat_minor": 2
}
