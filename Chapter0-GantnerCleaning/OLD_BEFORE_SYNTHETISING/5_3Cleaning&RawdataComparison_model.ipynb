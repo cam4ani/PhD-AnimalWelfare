{
 "cells": [
  {
   "cell_type": "code",
   "execution_count": 15,
   "metadata": {},
   "outputs": [
    {
     "name": "stderr",
     "output_type": "stream",
     "text": [
      "Warning message:\n",
      "\"package 'performance' is in use and will not be installed\"\n"
     ]
    }
   ],
   "source": [
    "install.packages(\"performance\")\n",
    "library(DHARMa)\n",
    "library(lindia)\n",
    "library(tidyverse)\n",
    "library(caret)\n",
    "library(leaps)\n",
    "library(MASS)\n",
    "library(modEvA)\n",
    "library(dplyr)\n",
    "library(broom)\n",
    "library(ggpubr) \n",
    "library(rstatix)\n",
    "library(WRS2) #robust ancova\n",
    "\n",
    "library(lme4) #random effect\n",
    "library(lmerTest) #like lmer but with p-value\n",
    "library(robustlmm) #robust (with weight) linear mixed effect models\n",
    "\n",
    "library(rstanarm) #r2 in mixed effect models\n",
    "library(performance) #r2 in mixed effect models"
   ]
  },
  {
   "cell_type": "code",
   "execution_count": 17,
   "metadata": {},
   "outputs": [
    {
     "data": {
      "text/plain": [
       "               _                           \n",
       "platform       x86_64-w64-mingw32          \n",
       "arch           x86_64                      \n",
       "os             mingw32                     \n",
       "system         x86_64, mingw32             \n",
       "status                                     \n",
       "major          4                           \n",
       "minor          0.3                         \n",
       "year           2020                        \n",
       "month          10                          \n",
       "day            10                          \n",
       "svn rev        79318                       \n",
       "language       R                           \n",
       "version.string R version 4.0.3 (2020-10-10)\n",
       "nickname       Bunny-Wunnies Freak Out     "
      ]
     },
     "metadata": {},
     "output_type": "display_data"
    }
   ],
   "source": [
    "R.version"
   ]
  },
  {
   "cell_type": "markdown",
   "metadata": {},
   "source": [
    "install.packages(\"WRS\", repos=\"http://R-Forge.R-project.org\", type=\"source\")\n",
    "library(WRS)"
   ]
  },
  {
   "cell_type": "markdown",
   "metadata": {},
   "source": [
    "## Download data"
   ]
  },
  {
   "cell_type": "code",
   "execution_count": 2,
   "metadata": {},
   "outputs": [
    {
     "name": "stdout",
     "output_type": "stream",
     "text": [
      "[1] 40735    14\n"
     ]
    },
    {
     "data": {
      "text/plain": [
       " absolute_difference     PenID                  tracking_system \n",
       " Min.   : 0.000      Pen 8  :5200   TrackingSystem 10-12:15035  \n",
       " 1st Qu.: 0.000      Pen 9  :5200   TrackingSystem 3-5  :15300  \n",
       " Median : 1.000      Pen 11 :5100   TrackingSystem 8-9  :10400  \n",
       " Mean   : 3.145      Pen 3  :5100                               \n",
       " 3rd Qu.: 4.000      Pen 4  :5100                               \n",
       " Max.   :70.000      Pen 5  :5100                               \n",
       "                     (Other):9935                               \n",
       "       Trackingsystem_Zone     HenID              level       level_continuous\n",
       " nbr_stays_1_Zone:8147     hen_1  :  260   2020-11-26:  795   Min.   : 0.00   \n",
       " nbr_stays_2_Zone:8147     hen_105:  260   2020-11-27:  795   1st Qu.:12.00   \n",
       " nbr_stays_3_Zone:8147     hen_106:  260   2020-11-28:  795   Median :27.00   \n",
       " nbr_stays_4_Zone:8147     hen_113:  260   2020-11-29:  795   Mean   :26.23   \n",
       " nbr_stays_5_Zone:8147     hen_116:  260   2020-11-30:  795   3rd Qu.:40.00   \n",
       "                           hen_120:  260   2020-12-01:  795   Max.   :53.00   \n",
       "                           (Other):39175   (Other)   :35965                   \n",
       " temperature_C    humidity_avgpercent had_rainorsnow   Total_number_transition\n",
       " Min.   :-3.500   Min.   : 59.75      Min.   :0.0000   Min.   : 3521          \n",
       " 1st Qu.: 0.125   1st Qu.: 80.12      1st Qu.:0.0000   1st Qu.: 8984          \n",
       " Median : 1.750   Median : 86.25      Median :1.0000   Median : 9577          \n",
       " Mean   : 1.865   Mean   : 85.59      Mean   :0.6562   Mean   : 9342          \n",
       " 3rd Qu.: 3.375   3rd Qu.: 96.50      3rd Qu.:1.0000   3rd Qu.: 9966          \n",
       " Max.   : 9.000   Max.   :100.00      Max.   :1.0000   Max.   :10898          \n",
       "                                                                              \n",
       " absolute_difference_log_1 absolute_difference_log_0 absolute_difference_sqrt\n",
       " Min.   :0.0000            Min.   :-2.30259          Min.   :0.000           \n",
       " 1st Qu.:0.0000            1st Qu.:-2.30259          1st Qu.:0.000           \n",
       " Median :0.6931            Median : 0.09531          Median :1.000           \n",
       " Mean   :0.8330            Mean   :-0.43505          Mean   :1.120           \n",
       " 3rd Qu.:1.6094            3rd Qu.: 1.41099          3rd Qu.:2.000           \n",
       " Max.   :4.2627            Max.   : 4.24992          Max.   :8.367           \n",
       "                                                                             "
      ]
     },
     "metadata": {},
     "output_type": "display_data"
    }
   ],
   "source": [
    "path_ = 'G:/VPHI/Welfare/2- Research Projects/OFHE2.OriginsE2/DataOutput/TrackingSystem/chapter0_final_/Cleaning/Raw&Cleaned'\n",
    "#path_ = 'C:/Users/camil/Desktop'\n",
    "name = 'df4DifferenceModelling'\n",
    "#name = 'df4DifferenceModelling_4lowerDF'\n",
    "#name = 'df4DifferenceModelling_mixedHenID'\n",
    "sink(file.path(path_,paste(name,'.txt', sep='')))\n",
    "df = read.csv(file.path(path_, paste(name,'.csv', sep='')), header = TRUE, sep = \";\")\n",
    "df$PenID = as.factor(df$PenID)\n",
    "df$tracking_system = as.factor(df$tracking_system)\n",
    "df$Trackingsystem_Zone = as.factor(df$Trackingsystem_Zone)\n",
    "df$HenID = as.factor(df$HenID)\n",
    "df$level = as.factor(df$level)\n",
    "df$level_continuous = as.integer(df$level_continuous)\n",
    "df$absolute_difference_log_1 = log(df$absolute_difference+1) #add one then take the log\n",
    "df$absolute_difference_log_0 = log(df$absolute_difference+0.1) #add one then take the log\n",
    "df$absolute_difference_sqrt = sqrt(df$absolute_difference)\n",
    "#print(as.data.frame(table(df$maxsevGap0_divided_maxsev_round)))\n",
    "print(dim(df))\n",
    "summary(df)"
   ]
  },
  {
   "cell_type": "code",
   "execution_count": 3,
   "metadata": {
    "scrolled": false
   },
   "outputs": [
    {
     "data": {
      "image/png": "[encoded data removed]",
      "text/plain": [
       "plot without title"
      ]
     },
     "metadata": {
      "image/png": {
       "height": 420,
       "width": 420
      }
     },
     "output_type": "display_data"
    }
   ],
   "source": [
    "ggplot(df, aes(y = Trackingsystem_Zone, x = absolute_difference, col=Trackingsystem_Zone)) + geom_point() + facet_grid(PenID ~ .)\n",
    "ggsave(path = path_, width = 9, height = 6, device='tiff', filename=paste('visualisation_basics_',name,'.jpg', sep=''), dpi=700)"
   ]
  },
  {
   "cell_type": "markdown",
   "metadata": {},
   "source": [
    "# Model"
   ]
  },
  {
   "cell_type": "raw",
   "metadata": {},
   "source": [
    "We used mixed models with the hen IDs and the date as random effect to better model the inter-pen*zone variabilities."
   ]
  },
  {
   "cell_type": "code",
   "execution_count": 4,
   "metadata": {
    "scrolled": true
   },
   "outputs": [
    {
     "name": "stderr",
     "output_type": "stream",
     "text": [
      "\n",
      "Correlation matrix not shown by default, as p = 42 > 12.\n",
      "Use print(item$value, correlation=TRUE)  or\n",
      "    vcov(item$value)        if you need it\n",
      "\n",
      "\n",
      "\n",
      "Correlation matrix not shown by default, as p = 42 > 12.\n",
      "Use print(obj, correlation=TRUE)  or\n",
      "    vcov(obj)        if you need it\n",
      "\n",
      "\n"
     ]
    },
    {
     "data": {
      "text/plain": [
       "Linear mixed model fit by REML. t-tests use Satterthwaite's method [\n",
       "lmerModLmerTest]\n",
       "Formula: \n",
       "absolute_difference_log_0 ~ PenID * Trackingsystem_Zone + humidity_avgpercent +  \n",
       "    temperature_C + (1 | HenID) + (1 | level)\n",
       "   Data: df\n",
       "\n",
       "REML criterion at convergence: 132502.2\n",
       "\n",
       "Scaled residuals: \n",
       "    Min      1Q  Median      3Q     Max \n",
       "-3.9962 -0.6139 -0.0465  0.6315  4.5544 \n",
       "\n",
       "Random effects:\n",
       " Groups   Name        Variance Std.Dev.\n",
       " HenID    (Intercept) 0.43854  0.6622  \n",
       " level    (Intercept) 0.01815  0.1347  \n",
       " Residual             1.47967  1.2164  \n",
       "Number of obs: 40735, groups:  HenID, 159; level, 52\n",
       "\n",
       "Fixed effects:\n",
       "                                                  Estimate Std. Error\n",
       "(Intercept)                                     -1.853e+00  2.172e-01\n",
       "PenIDPen 11                                      1.628e-01  2.162e-01\n",
       "PenIDPen 12                                      2.197e-02  2.191e-01\n",
       "PenIDPen 3                                      -5.040e-02  2.162e-01\n",
       "PenIDPen 4                                      -2.176e-02  2.162e-01\n",
       "PenIDPen 5                                       7.981e-03  2.162e-01\n",
       "PenIDPen 8                                       2.103e+00  2.162e-01\n",
       "PenIDPen 9                                       2.813e+00  2.162e-01\n",
       "Trackingsystem_Zonenbr_stays_2_Zone              3.613e+00  5.392e-02\n",
       "Trackingsystem_Zonenbr_stays_3_Zone              3.674e+00  5.392e-02\n",
       "Trackingsystem_Zonenbr_stays_4_Zone              2.362e-01  5.392e-02\n",
       "Trackingsystem_Zonenbr_stays_5_Zone              5.857e-01  5.392e-02\n",
       "humidity_avgpercent                             -1.289e-03  1.816e-03\n",
       "temperature_C                                    6.382e-03  7.590e-03\n",
       "PenIDPen 11:Trackingsystem_Zonenbr_stays_2_Zone -2.441e+00  7.621e-02\n",
       "PenIDPen 12:Trackingsystem_Zonenbr_stays_2_Zone -9.471e-02  7.721e-02\n",
       "PenIDPen 3:Trackingsystem_Zonenbr_stays_2_Zone  -8.926e-02  7.621e-02\n",
       "PenIDPen 4:Trackingsystem_Zonenbr_stays_2_Zone  -1.134e-01  7.621e-02\n",
       "PenIDPen 5:Trackingsystem_Zonenbr_stays_2_Zone  -2.741e+00  7.621e-02\n",
       "PenIDPen 8:Trackingsystem_Zonenbr_stays_2_Zone  -3.059e+00  7.584e-02\n",
       "PenIDPen 9:Trackingsystem_Zonenbr_stays_2_Zone  -3.025e+00  7.584e-02\n",
       "PenIDPen 11:Trackingsystem_Zonenbr_stays_3_Zone -2.883e+00  7.621e-02\n",
       "PenIDPen 12:Trackingsystem_Zonenbr_stays_3_Zone -4.070e-01  7.721e-02\n",
       "PenIDPen 3:Trackingsystem_Zonenbr_stays_3_Zone  -3.975e-02  7.621e-02\n",
       "PenIDPen 4:Trackingsystem_Zonenbr_stays_3_Zone   3.215e-01  7.621e-02\n",
       "PenIDPen 5:Trackingsystem_Zonenbr_stays_3_Zone  -1.329e+00  7.621e-02\n",
       "PenIDPen 8:Trackingsystem_Zonenbr_stays_3_Zone  -3.767e+00  7.584e-02\n",
       "PenIDPen 9:Trackingsystem_Zonenbr_stays_3_Zone  -4.120e+00  7.584e-02\n",
       "PenIDPen 11:Trackingsystem_Zonenbr_stays_4_Zone -6.819e-01  7.621e-02\n",
       "PenIDPen 12:Trackingsystem_Zonenbr_stays_4_Zone -6.463e-02  7.721e-02\n",
       "PenIDPen 3:Trackingsystem_Zonenbr_stays_4_Zone  -7.562e-02  7.621e-02\n",
       "PenIDPen 4:Trackingsystem_Zonenbr_stays_4_Zone   1.927e+00  7.621e-02\n",
       "PenIDPen 5:Trackingsystem_Zonenbr_stays_4_Zone  -3.453e-01  7.621e-02\n",
       "PenIDPen 8:Trackingsystem_Zonenbr_stays_4_Zone  -1.286e+00  7.584e-02\n",
       "PenIDPen 9:Trackingsystem_Zonenbr_stays_4_Zone  -9.703e-01  7.584e-02\n",
       "PenIDPen 11:Trackingsystem_Zonenbr_stays_5_Zone -4.254e-01  7.621e-02\n",
       "PenIDPen 12:Trackingsystem_Zonenbr_stays_5_Zone  2.112e-01  7.721e-02\n",
       "PenIDPen 3:Trackingsystem_Zonenbr_stays_5_Zone  -3.945e-01  7.621e-02\n",
       "PenIDPen 4:Trackingsystem_Zonenbr_stays_5_Zone  -3.777e-01  7.621e-02\n",
       "PenIDPen 5:Trackingsystem_Zonenbr_stays_5_Zone   8.220e-01  7.621e-02\n",
       "PenIDPen 8:Trackingsystem_Zonenbr_stays_5_Zone  -2.042e+00  7.584e-02\n",
       "PenIDPen 9:Trackingsystem_Zonenbr_stays_5_Zone  -1.982e+00  7.584e-02\n",
       "                                                        df t value Pr(>|t|)    \n",
       "(Intercept)                                      1.512e+02  -8.532 1.40e-14 ***\n",
       "PenIDPen 11                                      1.673e+02   0.753  0.45257    \n",
       "PenIDPen 12                                      1.673e+02   0.100  0.92023    \n",
       "PenIDPen 3                                       1.673e+02  -0.233  0.81599    \n",
       "PenIDPen 4                                       1.673e+02  -0.101  0.91995    \n",
       "PenIDPen 5                                       1.673e+02   0.037  0.97060    \n",
       "PenIDPen 8                                       1.671e+02   9.729  < 2e-16 ***\n",
       "PenIDPen 9                                       1.671e+02  13.012  < 2e-16 ***\n",
       "Trackingsystem_Zonenbr_stays_2_Zone              4.049e+04  67.011  < 2e-16 ***\n",
       "Trackingsystem_Zonenbr_stays_3_Zone              4.049e+04  68.136  < 2e-16 ***\n",
       "Trackingsystem_Zonenbr_stays_4_Zone              4.049e+04   4.382 1.18e-05 ***\n",
       "Trackingsystem_Zonenbr_stays_5_Zone              4.049e+04  10.863  < 2e-16 ***\n",
       "humidity_avgpercent                              4.938e+01  -0.710  0.48130    \n",
       "temperature_C                                    4.929e+01   0.841  0.40452    \n",
       "PenIDPen 11:Trackingsystem_Zonenbr_stays_2_Zone  4.049e+04 -32.029  < 2e-16 ***\n",
       "PenIDPen 12:Trackingsystem_Zonenbr_stays_2_Zone  4.049e+04  -1.227  0.21995    \n",
       "PenIDPen 3:Trackingsystem_Zonenbr_stays_2_Zone   4.049e+04  -1.171  0.24155    \n",
       "PenIDPen 4:Trackingsystem_Zonenbr_stays_2_Zone   4.049e+04  -1.488  0.13668    \n",
       "PenIDPen 5:Trackingsystem_Zonenbr_stays_2_Zone   4.049e+04 -35.971  < 2e-16 ***\n",
       "PenIDPen 8:Trackingsystem_Zonenbr_stays_2_Zone   4.049e+04 -40.330  < 2e-16 ***\n",
       "PenIDPen 9:Trackingsystem_Zonenbr_stays_2_Zone   4.049e+04 -39.888  < 2e-16 ***\n",
       "PenIDPen 11:Trackingsystem_Zonenbr_stays_3_Zone  4.049e+04 -37.822  < 2e-16 ***\n",
       "PenIDPen 12:Trackingsystem_Zonenbr_stays_3_Zone  4.049e+04  -5.272 1.36e-07 ***\n",
       "PenIDPen 3:Trackingsystem_Zonenbr_stays_3_Zone   4.049e+04  -0.522  0.60193    \n",
       "PenIDPen 4:Trackingsystem_Zonenbr_stays_3_Zone   4.049e+04   4.218 2.47e-05 ***\n",
       "PenIDPen 5:Trackingsystem_Zonenbr_stays_3_Zone   4.049e+04 -17.437  < 2e-16 ***\n",
       "PenIDPen 8:Trackingsystem_Zonenbr_stays_3_Zone   4.049e+04 -49.664  < 2e-16 ***\n",
       "PenIDPen 9:Trackingsystem_Zonenbr_stays_3_Zone   4.049e+04 -54.315  < 2e-16 ***\n",
       "PenIDPen 11:Trackingsystem_Zonenbr_stays_4_Zone  4.049e+04  -8.948  < 2e-16 ***\n",
       "PenIDPen 12:Trackingsystem_Zonenbr_stays_4_Zone  4.049e+04  -0.837  0.40257    \n",
       "PenIDPen 3:Trackingsystem_Zonenbr_stays_4_Zone   4.049e+04  -0.992  0.32111    \n",
       "PenIDPen 4:Trackingsystem_Zonenbr_stays_4_Zone   4.049e+04  25.281  < 2e-16 ***\n",
       "PenIDPen 5:Trackingsystem_Zonenbr_stays_4_Zone   4.049e+04  -4.530 5.91e-06 ***\n",
       "PenIDPen 8:Trackingsystem_Zonenbr_stays_4_Zone   4.049e+04 -16.958  < 2e-16 ***\n",
       "PenIDPen 9:Trackingsystem_Zonenbr_stays_4_Zone   4.049e+04 -12.793  < 2e-16 ***\n",
       "PenIDPen 11:Trackingsystem_Zonenbr_stays_5_Zone  4.049e+04  -5.582 2.39e-08 ***\n",
       "PenIDPen 12:Trackingsystem_Zonenbr_stays_5_Zone  4.049e+04   2.736  0.00622 ** \n",
       "PenIDPen 3:Trackingsystem_Zonenbr_stays_5_Zone   4.049e+04  -5.176 2.28e-07 ***\n",
       "PenIDPen 4:Trackingsystem_Zonenbr_stays_5_Zone   4.049e+04  -4.956 7.22e-07 ***\n",
       "PenIDPen 5:Trackingsystem_Zonenbr_stays_5_Zone   4.049e+04  10.786  < 2e-16 ***\n",
       "PenIDPen 8:Trackingsystem_Zonenbr_stays_5_Zone   4.049e+04 -26.928  < 2e-16 ***\n",
       "PenIDPen 9:Trackingsystem_Zonenbr_stays_5_Zone   4.049e+04 -26.133  < 2e-16 ***\n",
       "---\n",
       "Signif. codes:  0 '***' 0.001 '**' 0.01 '*' 0.05 '.' 0.1 ' ' 1"
      ]
     },
     "metadata": {},
     "output_type": "display_data"
    }
   ],
   "source": [
    "fit = lmer(absolute_difference_log_0 ~ PenID*Trackingsystem_Zone + humidity_avgpercent + temperature_C + (1|HenID)+(1|level), data = df)\n",
    "#Hence, this boils down to comparing the variation between different PenID (having 7 degrees of freedom) to the variation \n",
    "#due to the interaction between Trackingsystem_Zone and HenID (having  5*159=795  degrees of freedom).\n",
    "capture.output(summary(fit), file=file.path(path_,paste(name,'.txt', sep='')), append=TRUE)\n",
    "summary(fit)"
   ]
  },
  {
   "cell_type": "code",
   "execution_count": 5,
   "metadata": {},
   "outputs": [
    {
     "data": {
      "text/plain": [
       "\u001b[34m# R2 for Mixed Models\n",
       "\n",
       "\u001b[39m  Conditional R2: 0.615\n",
       "     Marginal R2: 0.496"
      ]
     },
     "metadata": {},
     "output_type": "display_data"
    }
   ],
   "source": [
    "#from: https://easystats.github.io/performance/index.html\n",
    "capture.output(r2(fit), file=file.path(path_,paste(name,'.txt', sep='')), append=TRUE)\n",
    "r2(fit)"
   ]
  },
  {
   "cell_type": "code",
   "execution_count": 6,
   "metadata": {},
   "outputs": [
    {
     "data": {
      "text/plain": [
       "\u001b[34m# R2 for Mixed Models\n",
       "\n",
       "\u001b[39m  Conditional R2: 0.615\n",
       "     Marginal R2: 0.496"
      ]
     },
     "metadata": {},
     "output_type": "display_data"
    }
   ],
   "source": [
    "r2(fit, by_group = FALSE, tolerance = 1e-05)"
   ]
  },
  {
   "cell_type": "code",
   "execution_count": 7,
   "metadata": {},
   "outputs": [
    {
     "data": {
      "text/html": [
       "<table class=\"dataframe\">\n",
       "<caption>A anova: 3 × 6</caption>\n",
       "<thead>\n",
       "\t<tr><th></th><th scope=col>npar</th><th scope=col>logLik</th><th scope=col>AIC</th><th scope=col>LRT</th><th scope=col>Df</th><th scope=col>Pr(&gt;Chisq)</th></tr>\n",
       "\t<tr><th></th><th scope=col>&lt;int&gt;</th><th scope=col>&lt;dbl&gt;</th><th scope=col>&lt;dbl&gt;</th><th scope=col>&lt;dbl&gt;</th><th scope=col>&lt;dbl&gt;</th><th scope=col>&lt;dbl&gt;</th></tr>\n",
       "</thead>\n",
       "<tbody>\n",
       "\t<tr><th scope=row>&lt;none&gt;</th><td>45</td><td>-66251.12</td><td>132592.2</td><td>       NA</td><td>NA</td><td>          NA</td></tr>\n",
       "\t<tr><th scope=row>(1 | HenID)</th><td>44</td><td>-71001.56</td><td>142091.1</td><td>9500.8760</td><td> 1</td><td>0.000000e+00</td></tr>\n",
       "\t<tr><th scope=row>(1 | level)</th><td>44</td><td>-66430.11</td><td>132948.2</td><td> 357.9753</td><td> 1</td><td>7.770792e-80</td></tr>\n",
       "</tbody>\n",
       "</table>\n"
      ],
      "text/latex": [
       "A anova: 3 × 6\n",
       "\\begin{tabular}{r|llllll}\n",
       "  & npar & logLik & AIC & LRT & Df & Pr(>Chisq)\\\\\n",
       "  & <int> & <dbl> & <dbl> & <dbl> & <dbl> & <dbl>\\\\\n",
       "\\hline\n",
       "\t<none> & 45 & -66251.12 & 132592.2 &        NA & NA &           NA\\\\\n",
       "\t(1 \\textbar{} HenID) & 44 & -71001.56 & 142091.1 & 9500.8760 &  1 & 0.000000e+00\\\\\n",
       "\t(1 \\textbar{} level) & 44 & -66430.11 & 132948.2 &  357.9753 &  1 & 7.770792e-80\\\\\n",
       "\\end{tabular}\n"
      ],
      "text/markdown": [
       "\n",
       "A anova: 3 × 6\n",
       "\n",
       "| <!--/--> | npar &lt;int&gt; | logLik &lt;dbl&gt; | AIC &lt;dbl&gt; | LRT &lt;dbl&gt; | Df &lt;dbl&gt; | Pr(&gt;Chisq) &lt;dbl&gt; |\n",
       "|---|---|---|---|---|---|---|\n",
       "| &lt;none&gt; | 45 | -66251.12 | 132592.2 |        NA | NA |           NA |\n",
       "| (1 | HenID) | 44 | -71001.56 | 142091.1 | 9500.8760 |  1 | 0.000000e+00 |\n",
       "| (1 | level) | 44 | -66430.11 | 132948.2 |  357.9753 |  1 | 7.770792e-80 |\n",
       "\n"
      ],
      "text/plain": [
       "            npar logLik    AIC      LRT       Df Pr(>Chisq)  \n",
       "<none>      45   -66251.12 132592.2        NA NA           NA\n",
       "(1 | HenID) 44   -71001.56 142091.1 9500.8760  1 0.000000e+00\n",
       "(1 | level) 44   -66430.11 132948.2  357.9753  1 7.770792e-80"
      ]
     },
     "metadata": {},
     "output_type": "display_data"
    }
   ],
   "source": [
    "#rand: Likelihood Ratio Test On Random Effects Of Linear Mixed Effects Model\n",
    "#tests the hypothesis that the random effect variation is significant versus the null that there is no between group-level \n",
    "capture.output(rand(fit), file=file.path(path_,paste(name,'.txt', sep='')), append=TRUE)\n",
    "#variation\n",
    "rand(fit)"
   ]
  },
  {
   "cell_type": "code",
   "execution_count": 8,
   "metadata": {},
   "outputs": [
    {
     "data": {
      "text/plain": [
       "$HenID\n",
       "         (Intercept)\n",
       "hen_1    1.065789132\n",
       "hen_10   0.576982329\n",
       "hen_101 -0.455510307\n",
       "hen_102 -0.821536211\n",
       "hen_105  0.749286272\n",
       "hen_106  0.778689691\n",
       "hen_107  0.758340667\n",
       "hen_108 -0.420643048\n",
       "hen_109  0.040511861\n",
       "hen_111 -0.006924933\n",
       "hen_112 -0.330144194\n",
       "hen_113  0.172033818\n",
       "hen_115  0.432178892\n",
       "hen_116 -1.322753536\n",
       "hen_118  0.138980528\n",
       "hen_119 -0.369930524\n",
       "hen_12   0.686322670\n",
       "hen_120  0.402110208\n",
       "hen_122 -0.277130216\n",
       "hen_123 -0.460254950\n",
       "hen_124 -0.399734788\n",
       "hen_126 -0.454764736\n",
       "hen_127  1.129820729\n",
       "hen_128 -0.178323811\n",
       "hen_13   0.341714647\n",
       "hen_131 -0.026120470\n",
       "hen_134  0.249253980\n",
       "hen_135  0.160948539\n",
       "hen_136 -1.453517159\n",
       "hen_137 -0.075893628\n",
       "hen_138  0.353641994\n",
       "hen_139 -0.084876807\n",
       "hen_14  -0.530485651\n",
       "hen_140  0.578876716\n",
       "hen_141 -0.337646653\n",
       "hen_142  0.140905865\n",
       "hen_143  0.141544690\n",
       "hen_144 -0.336565779\n",
       "hen_145 -1.030547748\n",
       "hen_146 -1.672264289\n",
       "hen_147  1.081656662\n",
       "hen_149 -0.145110437\n",
       "hen_15  -0.834303690\n",
       "hen_150  1.440418107\n",
       "hen_151  0.089471689\n",
       "hen_152 -1.305635069\n",
       "hen_153  0.601163871\n",
       "hen_154 -0.132110547\n",
       "hen_155 -0.302476565\n",
       "hen_156  0.071064784\n",
       "hen_158  1.516765774\n",
       "hen_159 -0.225810115\n",
       "hen_163  0.242893789\n",
       "hen_164  0.611977735\n",
       "hen_165  0.248929151\n",
       "hen_166 -0.407428526\n",
       "hen_167  0.432222575\n",
       "hen_168  0.208753708\n",
       "hen_169 -0.140389880\n",
       "hen_17   0.200630523\n",
       "hen_170  0.600090933\n",
       "hen_171 -0.939860586\n",
       "hen_172 -0.689701814\n",
       "hen_173  0.506769274\n",
       "hen_174  0.141762480\n",
       "hen_175 -0.005587369\n",
       "hen_177  0.404427203\n",
       "hen_18   0.523242963\n",
       "hen_180  0.883610830\n",
       "hen_181 -1.374497646\n",
       "hen_182 -0.578719625\n",
       "hen_183  0.081355194\n",
       "hen_184 -0.310673998\n",
       "hen_185  0.636225378\n",
       "hen_186 -0.317998111\n",
       "hen_187  0.575357509\n",
       "hen_188  0.587089360\n",
       "hen_189 -0.532936259\n",
       "hen_19  -0.715937877\n",
       "hen_190  1.140651533\n",
       "hen_191  0.103549162\n",
       "hen_192  0.096425479\n",
       "hen_193 -0.729023013\n",
       "hen_194 -0.392848281\n",
       "hen_195  0.411273686\n",
       "hen_196 -0.440231564\n",
       "hen_197  0.643115064\n",
       "hen_198 -0.257445088\n",
       "hen_199 -1.098972479\n",
       "hen_2   -0.182158874\n",
       "hen_20   0.287298053\n",
       "hen_21   0.416994955\n",
       "hen_22  -0.514957526\n",
       "hen_23  -1.072320208\n",
       "hen_24  -0.380120725\n",
       "hen_25   0.224826172\n",
       "hen_26  -0.074298813\n",
       "hen_27   0.548445961\n",
       "hen_28  -0.162749249\n",
       "hen_29   1.067955565\n",
       "hen_3    0.873597993\n",
       "hen_32  -0.010227244\n",
       "hen_34  -0.233233100\n",
       "hen_39  -0.791075560\n",
       "hen_4    0.174922734\n",
       "hen_40   0.362462564\n",
       "hen_41   0.258404239\n",
       "hen_42   0.661020465\n",
       "hen_45   0.168384037\n",
       "hen_48   0.032522433\n",
       "hen_49   0.185407933\n",
       "hen_5    0.341052397\n",
       "hen_50  -0.194778034\n",
       "hen_51  -0.435207132\n",
       "hen_52   0.224116914\n",
       "hen_54   0.468423358\n",
       "hen_56  -1.500664402\n",
       "hen_57  -0.091693880\n",
       "hen_58  -0.097148037\n",
       "hen_59  -0.148839859\n",
       "hen_6    0.315283422\n",
       "hen_60  -0.293850247\n",
       "hen_61   0.288327866\n",
       "hen_62   1.048859090\n",
       "hen_64  -0.127085996\n",
       "hen_65   1.279346014\n",
       "hen_66  -0.920923254\n",
       "hen_67   0.058742574\n",
       "hen_68   0.188193789\n",
       "hen_69   0.334745086\n",
       "hen_7    0.440406243\n",
       "hen_71   0.055064366\n",
       "hen_72   0.757277825\n",
       "hen_73   0.634263201\n",
       "hen_75  -0.077505144\n",
       "hen_76  -0.603746277\n",
       "hen_77   1.033300202\n",
       "hen_78  -0.383789448\n",
       "hen_79  -1.138654282\n",
       "hen_8    0.154911226\n",
       "hen_80  -0.071791952\n",
       "hen_81  -0.589509123\n",
       "hen_82   0.490663198\n",
       "hen_83  -0.328010269\n",
       "hen_84  -0.116581072\n",
       "hen_85  -0.666644311\n",
       "hen_86   0.787086954\n",
       "hen_87  -0.156360729\n",
       "hen_89  -0.635228889\n",
       "hen_9    0.913928666\n",
       "hen_90   0.648583116\n",
       "hen_92  -0.219396484\n",
       "hen_93  -2.449443407\n",
       "hen_94   0.205620735\n",
       "hen_95  -0.374418020\n",
       "hen_96  -0.367846436\n",
       "hen_97   0.045054628\n",
       "hen_98  -1.163446185\n",
       "hen_99   0.542650530\n",
       "\n",
       "$level\n",
       "            (Intercept)\n",
       "2020-11-26 -0.027450619\n",
       "2020-11-27 -0.067583384\n",
       "2020-11-28  0.025798255\n",
       "2020-11-29 -0.121249442\n",
       "2020-11-30 -0.034258941\n",
       "2020-12-01 -0.090794581\n",
       "2020-12-02 -0.011639732\n",
       "2020-12-03 -0.043908350\n",
       "2020-12-04 -0.166865291\n",
       "2020-12-05 -0.052530045\n",
       "2020-12-06 -0.039318185\n",
       "2020-12-07 -0.090526889\n",
       "2020-12-08 -0.077809553\n",
       "2020-12-09 -0.023916086\n",
       "2020-12-10  0.049301368\n",
       "2020-12-11  0.012149018\n",
       "2020-12-12 -0.012231025\n",
       "2020-12-13  0.064067058\n",
       "2020-12-14  0.017080702\n",
       "2020-12-15 -0.090227885\n",
       "2020-12-16 -0.017120771\n",
       "2020-12-17  0.073664181\n",
       "2020-12-18  0.169421071\n",
       "2020-12-19  0.145434037\n",
       "2020-12-20  0.006870571\n",
       "2020-12-21  0.070098374\n",
       "2020-12-23  0.088974377\n",
       "2020-12-24 -0.046867710\n",
       "2020-12-25 -0.009177577\n",
       "2020-12-26  0.009262236\n",
       "2020-12-27  0.070703730\n",
       "2020-12-28 -0.007214522\n",
       "2020-12-29  0.150557655\n",
       "2020-12-30  0.030303140\n",
       "2020-12-31  0.124594150\n",
       "2021-01-01  0.116527036\n",
       "2021-01-02  0.056277926\n",
       "2021-01-03  0.108763350\n",
       "2021-01-05  0.064013305\n",
       "2021-01-06 -0.028628675\n",
       "2021-01-07  0.133617132\n",
       "2021-01-08  0.047392872\n",
       "2021-01-09  0.047377378\n",
       "2021-01-10  0.069248329\n",
       "2021-01-11 -0.070825738\n",
       "2021-01-12 -0.001037291\n",
       "2021-01-13  0.003633850\n",
       "2021-01-14 -0.025258753\n",
       "2021-01-15  0.115769679\n",
       "2021-01-16  0.017400950\n",
       "2021-01-17 -0.013821744\n",
       "2021-01-18 -0.718038943\n",
       "\n",
       "with conditional variances for \"HenID\" \"level\" "
      ]
     },
     "metadata": {},
     "output_type": "display_data"
    }
   ],
   "source": [
    "ranef(fit)"
   ]
  },
  {
   "cell_type": "code",
   "execution_count": 9,
   "metadata": {},
   "outputs": [
    {
     "data": {
      "text/html": [
       "<strong>png:</strong> 2"
      ],
      "text/latex": [
       "\\textbf{png:} 2"
      ],
      "text/markdown": [
       "**png:** 2"
      ],
      "text/plain": [
       "png \n",
       "  2 "
      ]
     },
     "metadata": {},
     "output_type": "display_data"
    }
   ],
   "source": [
    "#linearity #todooooooooooo run it!!!\n",
    "jpeg(file.path(path_, paste('diagnostic_plot_linearity_',name,'.jpg', sep='')))\n",
    "plot(resid(fit),df$absolute_difference_log_0)\n",
    "dev.off()"
   ]
  },
  {
   "cell_type": "code",
   "execution_count": 10,
   "metadata": {},
   "outputs": [
    {
     "data": {
      "text/html": [
       "<strong>png:</strong> 2"
      ],
      "text/latex": [
       "\\textbf{png:} 2"
      ],
      "text/markdown": [
       "**png:** 2"
      ],
      "text/plain": [
       "png \n",
       "  2 "
      ]
     },
     "metadata": {},
     "output_type": "display_data"
    }
   ],
   "source": [
    "#check homogeneity of variance\n",
    "#variance of the residuals is equal across groups\n",
    "jpeg(file.path(path_, paste('diagnostic_plot_homo-var_',name,'.jpg', sep='')))\n",
    "plot(fit)\n",
    "dev.off()"
   ]
  },
  {
   "cell_type": "code",
   "execution_count": 11,
   "metadata": {},
   "outputs": [
    {
     "data": {
      "text/html": [
       "<strong>png:</strong> 2"
      ],
      "text/latex": [
       "\\textbf{png:} 2"
      ],
      "text/markdown": [
       "**png:** 2"
      ],
      "text/plain": [
       "png \n",
       "  2 "
      ]
     },
     "metadata": {},
     "output_type": "display_data"
    }
   ],
   "source": [
    "#normally distributed residuals\n",
    "#qqmath(fit) #same\n",
    "jpeg(file.path(path_, paste('diagnostic_plot_normal-resid_',name,'.jpg', sep='')))\n",
    "qqnorm(resid(fit))\n",
    "dev.off()"
   ]
  },
  {
   "cell_type": "code",
   "execution_count": 12,
   "metadata": {},
   "outputs": [
    {
     "data": {
      "text/plain": [
       "$HenID\n",
       "\n",
       "$level\n"
      ]
     },
     "metadata": {},
     "output_type": "display_data"
    },
    {
     "data": {
      "image/png": "[encoded data removed]",
      "text/plain": [
       "plot without title"
      ]
     },
     "metadata": {
      "image/png": {
       "height": 420,
       "width": 420
      }
     },
     "output_type": "display_data"
    },
    {
     "data": {
      "image/png": "[encoded data removed]",
      "text/plain": [
       "plot without title"
      ]
     },
     "metadata": {
      "image/png": {
       "height": 420,
       "width": 420
      }
     },
     "output_type": "display_data"
    }
   ],
   "source": [
    "#qqplot\n",
    "qqmath(ranef(fit))"
   ]
  },
  {
   "cell_type": "code",
   "execution_count": 13,
   "metadata": {},
   "outputs": [],
   "source": [
    "#TODO: TOREAD: https://stat.ethz.ch/~meier/teaching/anova/random-and-mixed-effects-models.html"
   ]
  },
  {
   "cell_type": "code",
   "execution_count": null,
   "metadata": {},
   "outputs": [],
   "source": []
  },
  {
   "cell_type": "code",
   "execution_count": null,
   "metadata": {},
   "outputs": [],
   "source": []
  },
  {
   "cell_type": "code",
   "execution_count": null,
   "metadata": {},
   "outputs": [],
   "source": []
  },
  {
   "cell_type": "code",
   "execution_count": null,
   "metadata": {},
   "outputs": [],
   "source": []
  },
  {
   "cell_type": "code",
   "execution_count": null,
   "metadata": {},
   "outputs": [],
   "source": []
  },
  {
   "cell_type": "code",
   "execution_count": null,
   "metadata": {},
   "outputs": [],
   "source": []
  },
  {
   "cell_type": "code",
   "execution_count": null,
   "metadata": {},
   "outputs": [],
   "source": []
  },
  {
   "cell_type": "code",
   "execution_count": null,
   "metadata": {},
   "outputs": [],
   "source": []
  },
  {
   "cell_type": "code",
   "execution_count": null,
   "metadata": {},
   "outputs": [],
   "source": []
  }
 ],
 "metadata": {
  "kernelspec": {
   "display_name": "R 4.0.3",
   "language": "R",
   "name": "ir35"
  },
  "language_info": {
   "codemirror_mode": "r",
   "file_extension": ".r",
   "mimetype": "text/x-r-source",
   "name": "R",
   "pygments_lexer": "r",
   "version": "4.0.3"
  }
 },
 "nbformat": 4,
 "nbformat_minor": 4
}
