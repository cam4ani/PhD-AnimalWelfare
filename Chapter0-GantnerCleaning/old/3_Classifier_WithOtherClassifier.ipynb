{
 "cells": [
  {
   "cell_type": "code",
   "execution_count": 1,
   "metadata": {},
   "outputs": [],
   "source": [
    "#basic package\n",
    "import json\n",
    "import tqdm\n",
    "import os\n",
    "import numpy as np\n",
    "import glob\n",
    "import pandas as pd\n",
    "import sys\n",
    "import shutil\n",
    "import time\n",
    "import datetime as dt\n",
    "import itertools\n",
    "import time\n",
    "import re\n",
    "from collections import Counter\n",
    "from collections import defaultdict\n",
    "import operator\n",
    "import math\n",
    "import functools\n",
    "import collections\n",
    "import random\n",
    "\n",
    "#generate random id\n",
    "import uuid\n",
    "\n",
    "#ICC in python\n",
    "import pingouin as pg\n",
    "\n",
    "#modelling\n",
    "from sklearn.preprocessing import StandardScaler, MinMaxScaler\n",
    "from sklearn.utils import shuffle\n",
    "from sklearn.model_selection import train_test_split\n",
    "from sklearn.ensemble import GradientBoostingClassifier, RandomForestClassifier\n",
    "from xgboost import XGBClassifier\n",
    "from sklearn.neighbors import KNeighborsClassifier\n",
    "from sklearn.model_selection import GridSearchCV, RandomizedSearchCV\n",
    "from sklearn.metrics import classification_report, confusion_matrix, plot_confusion_matrix, cohen_kappa_score\n",
    "from xgboost import plot_importance\n",
    "#catboost, for a better support of categorical data\n",
    "from catboost import CatBoostClassifier, Pool\n",
    "\n",
    "#plot\n",
    "import matplotlib.pyplot as plt\n",
    "import seaborn as sns"
   ]
  },
  {
   "cell_type": "code",
   "execution_count": 2,
   "metadata": {},
   "outputs": [
    {
     "name": "stderr",
     "output_type": "stream",
     "text": [
      "C:\\Users\\camil\\Anaconda3\\lib\\site-packages\\scipy\\sparse\\sparsetools.py:21: DeprecationWarning: `scipy.sparse.sparsetools` is deprecated!\n",
      "scipy.sparse.sparsetools is a private module for scipy.sparse, and should not be used.\n",
      "  _deprecated()\n"
     ]
    }
   ],
   "source": [
    "PACKAGE_PARENT = '../'\n",
    "SCRIPT_DIR = os.path.dirname(os.path.realpath(os.path.join(os.getcwd(), os.path.expanduser('__file__'))))\n",
    "sys.path.append(os.path.normpath(os.path.join(SCRIPT_DIR, PACKAGE_PARENT)))\n",
    "from UTILS import is_WG_open, ConfMat, list_of_zones, res_intodico, all_subsets\n",
    "import config_origins as config"
   ]
  },
  {
   "cell_type": "markdown",
   "metadata": {},
   "source": [
    "# Download Input Data"
   ]
  },
  {
   "cell_type": "code",
   "execution_count": 3,
   "metadata": {},
   "outputs": [],
   "source": [
    "#define parameters\n",
    "path_extracted_data = config.path_extracted_data\n",
    "path_initial_data = config.path_initial_data\n",
    "id_run = config.id_run\n",
    "dico_matching = config.dico_matching\n",
    "dico_garden_opening_hour = config.dico_garden_opening_hour\n",
    "path_extracted_data_cleaning = os.path.join(path_extracted_data,'Cleaning')\n",
    "#path_extracted_data_cleaning = r'D:\\vm_exchange\\PhD_Data\\LogsCleaning'\n",
    "#create a director if not existing\n",
    "if not os.path.exists(path_extracted_data_cleaning):\n",
    "    os.makedirs(path_extracted_data_cleaning)\n",
    "    \n",
    "path__ = os.path.join(path_extracted_data_cleaning,'1secTS')\n",
    "#create a director if not existing\n",
    "if not os.path.exists(path__):\n",
    "    os.makedirs(path__)"
   ]
  },
  {
   "cell_type": "code",
   "execution_count": 4,
   "metadata": {},
   "outputs": [
    {
     "name": "stdout",
     "output_type": "stream",
     "text": [
      "(3193, 36)\n"
     ]
    },
    {
     "data": {
      "text/html": [
       "<div>\n",
       "<style scoped>\n",
       "    .dataframe tbody tr th:only-of-type {\n",
       "        vertical-align: middle;\n",
       "    }\n",
       "\n",
       "    .dataframe tbody tr th {\n",
       "        vertical-align: top;\n",
       "    }\n",
       "\n",
       "    .dataframe thead th {\n",
       "        text-align: right;\n",
       "    }\n",
       "</style>\n",
       "<table border=\"1\" class=\"dataframe\">\n",
       "  <thead>\n",
       "    <tr style=\"text-align: right;\">\n",
       "      <th></th>\n",
       "      <th>Timestamp</th>\n",
       "      <th>TagID</th>\n",
       "      <th>HenID</th>\n",
       "      <th>Zone</th>\n",
       "      <th>PenID</th>\n",
       "      <th>VideoAnalyse</th>\n",
       "      <th>system</th>\n",
       "      <th>date</th>\n",
       "      <th>type</th>\n",
       "      <th>signalstrength</th>\n",
       "      <th>...</th>\n",
       "      <th>previousZone==NextZone</th>\n",
       "      <th>nextduration</th>\n",
       "      <th>BatchID</th>\n",
       "      <th>zone2match</th>\n",
       "      <th>zone3match</th>\n",
       "      <th>zone4match</th>\n",
       "      <th>ObservedZone</th>\n",
       "      <th>zone3matchexist</th>\n",
       "      <th>next2zone==Zone</th>\n",
       "      <th>previous2zone==Zone</th>\n",
       "    </tr>\n",
       "  </thead>\n",
       "  <tbody>\n",
       "    <tr>\n",
       "      <th>2812</th>\n",
       "      <td>2020-10-25 09:04:09</td>\n",
       "      <td>139</td>\n",
       "      <td>hen_65</td>\n",
       "      <td>3_Zone</td>\n",
       "      <td>10.0</td>\n",
       "      <td>1</td>\n",
       "      <td>10 - 12</td>\n",
       "      <td>2020-10-25</td>\n",
       "      <td>students</td>\n",
       "      <td>7.0</td>\n",
       "      <td>...</td>\n",
       "      <td>True</td>\n",
       "      <td>30.0</td>\n",
       "      <td>NaN</td>\n",
       "      <td>3_Zone</td>\n",
       "      <td>4_Zone</td>\n",
       "      <td>NoOtherZone</td>\n",
       "      <td>3_Zone</td>\n",
       "      <td>True</td>\n",
       "      <td>False</td>\n",
       "      <td>False</td>\n",
       "    </tr>\n",
       "    <tr>\n",
       "      <th>689</th>\n",
       "      <td>2020-10-15 12:06:12</td>\n",
       "      <td>60</td>\n",
       "      <td>hen_88</td>\n",
       "      <td>5_Zone</td>\n",
       "      <td>5.0</td>\n",
       "      <td>1</td>\n",
       "      <td>3 - 5</td>\n",
       "      <td>2020-10-15</td>\n",
       "      <td>students</td>\n",
       "      <td>9.0</td>\n",
       "      <td>...</td>\n",
       "      <td>True</td>\n",
       "      <td>64.0</td>\n",
       "      <td>NaN</td>\n",
       "      <td>3_Zone</td>\n",
       "      <td>2_Zone</td>\n",
       "      <td>4_Zone</td>\n",
       "      <td>5_Zone</td>\n",
       "      <td>True</td>\n",
       "      <td>False</td>\n",
       "      <td>True</td>\n",
       "    </tr>\n",
       "    <tr>\n",
       "      <th>3171</th>\n",
       "      <td>2020-10-16 10:13:19</td>\n",
       "      <td>144</td>\n",
       "      <td>hen_165</td>\n",
       "      <td>3_Zone</td>\n",
       "      <td>11.0</td>\n",
       "      <td>1</td>\n",
       "      <td>10 - 12</td>\n",
       "      <td>2020-10-16</td>\n",
       "      <td>students</td>\n",
       "      <td>8.0</td>\n",
       "      <td>...</td>\n",
       "      <td>True</td>\n",
       "      <td>22.0</td>\n",
       "      <td>ID16</td>\n",
       "      <td>3_Zone</td>\n",
       "      <td>miniZone3</td>\n",
       "      <td>NoOtherZone</td>\n",
       "      <td>3_Zone</td>\n",
       "      <td>True</td>\n",
       "      <td>True</td>\n",
       "      <td>True</td>\n",
       "    </tr>\n",
       "  </tbody>\n",
       "</table>\n",
       "<p>3 rows × 36 columns</p>\n",
       "</div>"
      ],
      "text/plain": [
       "               Timestamp  TagID    HenID    Zone  PenID  VideoAnalyse  \\\n",
       "2812 2020-10-25 09:04:09    139   hen_65  3_Zone   10.0             1   \n",
       "689  2020-10-15 12:06:12     60   hen_88  5_Zone    5.0             1   \n",
       "3171 2020-10-16 10:13:19    144  hen_165  3_Zone   11.0             1   \n",
       "\n",
       "       system       date      type  signalstrength  ...  \\\n",
       "2812  10 - 12 2020-10-25  students             7.0  ...   \n",
       "689     3 - 5 2020-10-15  students             9.0  ...   \n",
       "3171  10 - 12 2020-10-16  students             8.0  ...   \n",
       "\n",
       "      previousZone==NextZone  nextduration  BatchID zone2match zone3match  \\\n",
       "2812                    True          30.0      NaN     3_Zone     4_Zone   \n",
       "689                     True          64.0      NaN     3_Zone     2_Zone   \n",
       "3171                    True          22.0     ID16     3_Zone  miniZone3   \n",
       "\n",
       "       zone4match ObservedZone zone3matchexist next2zone==Zone  \\\n",
       "2812  NoOtherZone       3_Zone            True           False   \n",
       "689        4_Zone       5_Zone            True           False   \n",
       "3171  NoOtherZone       3_Zone            True            True   \n",
       "\n",
       "     previous2zone==Zone  \n",
       "2812               False  \n",
       "689                 True  \n",
       "3171                True  \n",
       "\n",
       "[3 rows x 36 columns]"
      ]
     },
     "execution_count": 4,
     "metadata": {},
     "output_type": "execute_result"
    }
   ],
   "source": [
    "df = pd.read_csv(os.path.join(path_extracted_data, id_run+'InputCleaning.csv'), parse_dates=['Timestamp', 'date'], \n",
    "                 dayfirst=True, sep=';')\n",
    "df = shuffle(df)\n",
    "df = df.rename(columns={c:c.replace('_','') for c in df.columns})\n",
    "df['HenID'] = df['HenID'].map(lambda x: 'hen_'+str(int(x)))\n",
    "print(df.shape)\n",
    "df.head(3)"
   ]
  },
  {
   "cell_type": "code",
   "execution_count": 5,
   "metadata": {},
   "outputs": [
    {
     "data": {
      "text/plain": [
       "10.0    654\n",
       "8.0     604\n",
       "3.0     517\n",
       "5.0     516\n",
       "9.0     372\n",
       "12.0    221\n",
       "4.0     217\n",
       "11.0     92\n",
       "Name: PenID, dtype: int64"
      ]
     },
     "execution_count": 5,
     "metadata": {},
     "output_type": "execute_result"
    }
   ],
   "source": [
    "df['PenID'].value_counts()"
   ]
  },
  {
   "cell_type": "code",
   "execution_count": 6,
   "metadata": {},
   "outputs": [
    {
     "data": {
      "text/plain": [
       "1    2576\n",
       "0     617\n",
       "Name: VideoAnalyse, dtype: int64"
      ]
     },
     "execution_count": 6,
     "metadata": {},
     "output_type": "execute_result"
    }
   ],
   "source": [
    "df['VideoAnalyse'].value_counts()"
   ]
  },
  {
   "cell_type": "markdown",
   "metadata": {},
   "source": [
    "# Data preprocessing"
   ]
  },
  {
   "cell_type": "code",
   "execution_count": 7,
   "metadata": {},
   "outputs": [],
   "source": [
    "#available features (zone4match is totally point less it ~never exist)\n",
    "licat = ['TagID', 'Zone', 'PenID', 'VideoAnalyse', 'system', 'date',\n",
    "         'zone2match', 'zone3match','zone3matchexist',\n",
    "         'next1zone','next2zone', 'next3zone', 'next4zone', 'next5zone',\n",
    "         'previous1zone', 'previous2zone', 'previous3zone', 'previous4zone','previous5zone']\n",
    "licont = ['signalstrength', 'signalstzone2', 'signalstrzone3', 'signalstrzone4', 'duration','previousduration','nextduration',\n",
    "         'next2zone==Zone','previous2zone==Zone','previousZone==NextZone']\n",
    "\n",
    "#select some features\n",
    "li_cont_select = ['signalstrength', 'signalstzone2','duration','nextduration','previousduration',\n",
    "                 'next2zone==Zone','previous2zone==Zone','zone3matchexist'] \n",
    "li_cat_select = ['Zone','zone2match','previous1zone','next1zone'] #ADD WHEN WE HAVE DORIS DATA: PenID\n",
    "#zone3match_exist: important for WG cleaning"
   ]
  },
  {
   "cell_type": "code",
   "execution_count": 8,
   "metadata": {},
   "outputs": [
    {
     "data": {
      "text/html": [
       "<div>\n",
       "<style scoped>\n",
       "    .dataframe tbody tr th:only-of-type {\n",
       "        vertical-align: middle;\n",
       "    }\n",
       "\n",
       "    .dataframe tbody tr th {\n",
       "        vertical-align: top;\n",
       "    }\n",
       "\n",
       "    .dataframe thead th {\n",
       "        text-align: right;\n",
       "    }\n",
       "</style>\n",
       "<table border=\"1\" class=\"dataframe\">\n",
       "  <thead>\n",
       "    <tr style=\"text-align: right;\">\n",
       "      <th></th>\n",
       "      <th>signalstrength</th>\n",
       "      <th>signalstzone2</th>\n",
       "      <th>duration</th>\n",
       "      <th>nextduration</th>\n",
       "      <th>previousduration</th>\n",
       "      <th>next2zone==Zone</th>\n",
       "      <th>previous2zone==Zone</th>\n",
       "      <th>zone3matchexist</th>\n",
       "    </tr>\n",
       "  </thead>\n",
       "  <tbody>\n",
       "    <tr>\n",
       "      <th>2812</th>\n",
       "      <td>7.0</td>\n",
       "      <td>5.0</td>\n",
       "      <td>23.0</td>\n",
       "      <td>30.0</td>\n",
       "      <td>11.0</td>\n",
       "      <td>False</td>\n",
       "      <td>False</td>\n",
       "      <td>True</td>\n",
       "    </tr>\n",
       "    <tr>\n",
       "      <th>689</th>\n",
       "      <td>9.0</td>\n",
       "      <td>8.0</td>\n",
       "      <td>18.0</td>\n",
       "      <td>64.0</td>\n",
       "      <td>10.0</td>\n",
       "      <td>False</td>\n",
       "      <td>True</td>\n",
       "      <td>True</td>\n",
       "    </tr>\n",
       "    <tr>\n",
       "      <th>3171</th>\n",
       "      <td>8.0</td>\n",
       "      <td>7.0</td>\n",
       "      <td>130.0</td>\n",
       "      <td>22.0</td>\n",
       "      <td>53.0</td>\n",
       "      <td>True</td>\n",
       "      <td>True</td>\n",
       "      <td>True</td>\n",
       "    </tr>\n",
       "  </tbody>\n",
       "</table>\n",
       "</div>"
      ],
      "text/plain": [
       "      signalstrength  signalstzone2  duration  nextduration  previousduration  \\\n",
       "2812             7.0            5.0      23.0          30.0              11.0   \n",
       "689              9.0            8.0      18.0          64.0              10.0   \n",
       "3171             8.0            7.0     130.0          22.0              53.0   \n",
       "\n",
       "      next2zone==Zone  previous2zone==Zone  zone3matchexist  \n",
       "2812            False                False             True  \n",
       "689             False                 True             True  \n",
       "3171             True                 True             True  "
      ]
     },
     "execution_count": 8,
     "metadata": {},
     "output_type": "execute_result"
    }
   ],
   "source": [
    "df[li_cont_select].head(3)"
   ]
  },
  {
   "cell_type": "code",
   "execution_count": 9,
   "metadata": {},
   "outputs": [
    {
     "data": {
      "text/html": [
       "<div>\n",
       "<style scoped>\n",
       "    .dataframe tbody tr th:only-of-type {\n",
       "        vertical-align: middle;\n",
       "    }\n",
       "\n",
       "    .dataframe tbody tr th {\n",
       "        vertical-align: top;\n",
       "    }\n",
       "\n",
       "    .dataframe thead th {\n",
       "        text-align: right;\n",
       "    }\n",
       "</style>\n",
       "<table border=\"1\" class=\"dataframe\">\n",
       "  <thead>\n",
       "    <tr style=\"text-align: right;\">\n",
       "      <th></th>\n",
       "      <th>signalstrength</th>\n",
       "      <th>signalstzone2</th>\n",
       "      <th>duration</th>\n",
       "      <th>nextduration</th>\n",
       "      <th>previousduration</th>\n",
       "      <th>next2zone==Zone</th>\n",
       "      <th>previous2zone==Zone</th>\n",
       "      <th>zone3matchexist</th>\n",
       "    </tr>\n",
       "  </thead>\n",
       "  <tbody>\n",
       "    <tr>\n",
       "      <th>2812</th>\n",
       "      <td>-0.870740</td>\n",
       "      <td>-0.563642</td>\n",
       "      <td>-0.046173</td>\n",
       "      <td>-0.049852</td>\n",
       "      <td>-0.202119</td>\n",
       "      <td>-1.428619</td>\n",
       "      <td>-1.432683</td>\n",
       "      <td>0.675767</td>\n",
       "    </tr>\n",
       "    <tr>\n",
       "      <th>689</th>\n",
       "      <td>-0.404369</td>\n",
       "      <td>0.210426</td>\n",
       "      <td>-0.046802</td>\n",
       "      <td>-0.045607</td>\n",
       "      <td>-0.202897</td>\n",
       "      <td>-1.428619</td>\n",
       "      <td>0.697991</td>\n",
       "      <td>0.675767</td>\n",
       "    </tr>\n",
       "    <tr>\n",
       "      <th>3171</th>\n",
       "      <td>-0.637554</td>\n",
       "      <td>-0.047596</td>\n",
       "      <td>-0.032714</td>\n",
       "      <td>-0.050851</td>\n",
       "      <td>-0.169453</td>\n",
       "      <td>0.699977</td>\n",
       "      <td>0.697991</td>\n",
       "      <td>0.675767</td>\n",
       "    </tr>\n",
       "  </tbody>\n",
       "</table>\n",
       "</div>"
      ],
      "text/plain": [
       "      signalstrength  signalstzone2  duration  nextduration  previousduration  \\\n",
       "2812       -0.870740      -0.563642 -0.046173     -0.049852         -0.202119   \n",
       "689        -0.404369       0.210426 -0.046802     -0.045607         -0.202897   \n",
       "3171       -0.637554      -0.047596 -0.032714     -0.050851         -0.169453   \n",
       "\n",
       "      next2zone==Zone  previous2zone==Zone  zone3matchexist  \n",
       "2812        -1.428619            -1.432683         0.675767  \n",
       "689         -1.428619             0.697991         0.675767  \n",
       "3171         0.699977             0.697991         0.675767  "
      ]
     },
     "execution_count": 9,
     "metadata": {},
     "output_type": "execute_result"
    }
   ],
   "source": [
    "#scaling numercial data: necessary due to duration high values\n",
    "sc = StandardScaler()\n",
    "df[li_cont_select] = sc.fit_transform(df[li_cont_select])\n",
    "df[li_cont_select].head(3)"
   ]
  },
  {
   "cell_type": "markdown",
   "metadata": {},
   "source": [
    "# Split into training-validation and testing (holdout dataset)"
   ]
  },
  {
   "cell_type": "code",
   "execution_count": 10,
   "metadata": {},
   "outputs": [
    {
     "data": {
      "text/html": [
       "<div>\n",
       "<style scoped>\n",
       "    .dataframe tbody tr th:only-of-type {\n",
       "        vertical-align: middle;\n",
       "    }\n",
       "\n",
       "    .dataframe tbody tr th {\n",
       "        vertical-align: top;\n",
       "    }\n",
       "\n",
       "    .dataframe thead th {\n",
       "        text-align: right;\n",
       "    }\n",
       "</style>\n",
       "<table border=\"1\" class=\"dataframe\">\n",
       "  <thead>\n",
       "    <tr style=\"text-align: right;\">\n",
       "      <th></th>\n",
       "      <th>signalstrength</th>\n",
       "      <th>signalstzone2</th>\n",
       "      <th>duration</th>\n",
       "      <th>nextduration</th>\n",
       "      <th>previousduration</th>\n",
       "      <th>next2zone==Zone</th>\n",
       "      <th>previous2zone==Zone</th>\n",
       "      <th>zone3matchexist</th>\n",
       "      <th>Zone</th>\n",
       "      <th>zone2match</th>\n",
       "      <th>previous1zone</th>\n",
       "      <th>next1zone</th>\n",
       "    </tr>\n",
       "  </thead>\n",
       "  <tbody>\n",
       "    <tr>\n",
       "      <th>2812</th>\n",
       "      <td>-0.870740</td>\n",
       "      <td>-0.563642</td>\n",
       "      <td>-0.046173</td>\n",
       "      <td>-0.049852</td>\n",
       "      <td>-0.202119</td>\n",
       "      <td>-1.428619</td>\n",
       "      <td>-1.432683</td>\n",
       "      <td>0.675767</td>\n",
       "      <td>3Zone</td>\n",
       "      <td>3Zone</td>\n",
       "      <td>3Zone</td>\n",
       "      <td>3Zone</td>\n",
       "    </tr>\n",
       "    <tr>\n",
       "      <th>689</th>\n",
       "      <td>-0.404369</td>\n",
       "      <td>0.210426</td>\n",
       "      <td>-0.046802</td>\n",
       "      <td>-0.045607</td>\n",
       "      <td>-0.202897</td>\n",
       "      <td>-1.428619</td>\n",
       "      <td>0.697991</td>\n",
       "      <td>0.675767</td>\n",
       "      <td>5Zone</td>\n",
       "      <td>3Zone</td>\n",
       "      <td>3Zone</td>\n",
       "      <td>3Zone</td>\n",
       "    </tr>\n",
       "    <tr>\n",
       "      <th>3171</th>\n",
       "      <td>-0.637554</td>\n",
       "      <td>-0.047596</td>\n",
       "      <td>-0.032714</td>\n",
       "      <td>-0.050851</td>\n",
       "      <td>-0.169453</td>\n",
       "      <td>0.699977</td>\n",
       "      <td>0.697991</td>\n",
       "      <td>0.675767</td>\n",
       "      <td>3Zone</td>\n",
       "      <td>3Zone</td>\n",
       "      <td>3Zone</td>\n",
       "      <td>3Zone</td>\n",
       "    </tr>\n",
       "  </tbody>\n",
       "</table>\n",
       "</div>"
      ],
      "text/plain": [
       "      signalstrength  signalstzone2  duration  nextduration  previousduration  \\\n",
       "2812       -0.870740      -0.563642 -0.046173     -0.049852         -0.202119   \n",
       "689        -0.404369       0.210426 -0.046802     -0.045607         -0.202897   \n",
       "3171       -0.637554      -0.047596 -0.032714     -0.050851         -0.169453   \n",
       "\n",
       "      next2zone==Zone  previous2zone==Zone  zone3matchexist   Zone zone2match  \\\n",
       "2812        -1.428619            -1.432683         0.675767  3Zone      3Zone   \n",
       "689         -1.428619             0.697991         0.675767  5Zone      3Zone   \n",
       "3171         0.699977             0.697991         0.675767  3Zone      3Zone   \n",
       "\n",
       "     previous1zone next1zone  \n",
       "2812         3Zone     3Zone  \n",
       "689          3Zone     3Zone  \n",
       "3171         3Zone     3Zone  "
      ]
     },
     "execution_count": 10,
     "metadata": {},
     "output_type": "execute_result"
    }
   ],
   "source": [
    "#necessary in order to later sum categories within the features importances\n",
    "for x in li_cat_select+['ObservedZone']:\n",
    "    df[x] = df[x].map(lambda x: str(x).replace('_',''))\n",
    "df[li_cont_select+li_cat_select].head(3)"
   ]
  },
  {
   "cell_type": "code",
   "execution_count": 11,
   "metadata": {},
   "outputs": [
    {
     "data": {
      "text/html": [
       "<div>\n",
       "<style scoped>\n",
       "    .dataframe tbody tr th:only-of-type {\n",
       "        vertical-align: middle;\n",
       "    }\n",
       "\n",
       "    .dataframe tbody tr th {\n",
       "        vertical-align: top;\n",
       "    }\n",
       "\n",
       "    .dataframe thead th {\n",
       "        text-align: right;\n",
       "    }\n",
       "</style>\n",
       "<table border=\"1\" class=\"dataframe\">\n",
       "  <thead>\n",
       "    <tr style=\"text-align: right;\">\n",
       "      <th></th>\n",
       "      <th>Timestamp</th>\n",
       "      <th>TagID</th>\n",
       "      <th>HenID</th>\n",
       "      <th>Zone</th>\n",
       "      <th>PenID</th>\n",
       "      <th>VideoAnalyse</th>\n",
       "      <th>system</th>\n",
       "      <th>date</th>\n",
       "      <th>type</th>\n",
       "      <th>signalstrength</th>\n",
       "      <th>...</th>\n",
       "      <th>previousZone==NextZone</th>\n",
       "      <th>nextduration</th>\n",
       "      <th>BatchID</th>\n",
       "      <th>zone2match</th>\n",
       "      <th>zone3match</th>\n",
       "      <th>zone4match</th>\n",
       "      <th>ObservedZone</th>\n",
       "      <th>zone3matchexist</th>\n",
       "      <th>next2zone==Zone</th>\n",
       "      <th>previous2zone==Zone</th>\n",
       "    </tr>\n",
       "  </thead>\n",
       "  <tbody>\n",
       "    <tr>\n",
       "      <th>2812</th>\n",
       "      <td>2020-10-25 09:04:09</td>\n",
       "      <td>139</td>\n",
       "      <td>hen_65</td>\n",
       "      <td>3Zone</td>\n",
       "      <td>10.0</td>\n",
       "      <td>1</td>\n",
       "      <td>10 - 12</td>\n",
       "      <td>2020-10-25</td>\n",
       "      <td>students</td>\n",
       "      <td>-0.870740</td>\n",
       "      <td>...</td>\n",
       "      <td>True</td>\n",
       "      <td>-0.049852</td>\n",
       "      <td>NaN</td>\n",
       "      <td>3Zone</td>\n",
       "      <td>4_Zone</td>\n",
       "      <td>NoOtherZone</td>\n",
       "      <td>3Zone</td>\n",
       "      <td>0.675767</td>\n",
       "      <td>-1.428619</td>\n",
       "      <td>-1.432683</td>\n",
       "    </tr>\n",
       "    <tr>\n",
       "      <th>689</th>\n",
       "      <td>2020-10-15 12:06:12</td>\n",
       "      <td>60</td>\n",
       "      <td>hen_88</td>\n",
       "      <td>5Zone</td>\n",
       "      <td>5.0</td>\n",
       "      <td>1</td>\n",
       "      <td>3 - 5</td>\n",
       "      <td>2020-10-15</td>\n",
       "      <td>students</td>\n",
       "      <td>-0.404369</td>\n",
       "      <td>...</td>\n",
       "      <td>True</td>\n",
       "      <td>-0.045607</td>\n",
       "      <td>NaN</td>\n",
       "      <td>3Zone</td>\n",
       "      <td>2_Zone</td>\n",
       "      <td>4_Zone</td>\n",
       "      <td>5Zone</td>\n",
       "      <td>0.675767</td>\n",
       "      <td>-1.428619</td>\n",
       "      <td>0.697991</td>\n",
       "    </tr>\n",
       "    <tr>\n",
       "      <th>203</th>\n",
       "      <td>2020-10-17 02:21:40</td>\n",
       "      <td>3</td>\n",
       "      <td>hen_104</td>\n",
       "      <td>5Zone</td>\n",
       "      <td>3.0</td>\n",
       "      <td>1</td>\n",
       "      <td>3 - 5</td>\n",
       "      <td>2020-10-17</td>\n",
       "      <td>students</td>\n",
       "      <td>-0.404369</td>\n",
       "      <td>...</td>\n",
       "      <td>True</td>\n",
       "      <td>-0.046606</td>\n",
       "      <td>NaN</td>\n",
       "      <td>2Zone</td>\n",
       "      <td>NoOtherZone</td>\n",
       "      <td>NoOtherZone</td>\n",
       "      <td>5Zone</td>\n",
       "      <td>-1.479801</td>\n",
       "      <td>0.699977</td>\n",
       "      <td>0.697991</td>\n",
       "    </tr>\n",
       "    <tr>\n",
       "      <th>1012</th>\n",
       "      <td>2020-10-16 15:01:34</td>\n",
       "      <td>117</td>\n",
       "      <td>hen_177</td>\n",
       "      <td>1Zone</td>\n",
       "      <td>10.0</td>\n",
       "      <td>1</td>\n",
       "      <td>10 - 12</td>\n",
       "      <td>2020-10-16</td>\n",
       "      <td>students</td>\n",
       "      <td>-0.870740</td>\n",
       "      <td>...</td>\n",
       "      <td>True</td>\n",
       "      <td>-0.048229</td>\n",
       "      <td>NaN</td>\n",
       "      <td>NoOtherZone</td>\n",
       "      <td>NoOtherZone</td>\n",
       "      <td>NoOtherZone</td>\n",
       "      <td>1Zone</td>\n",
       "      <td>-1.479801</td>\n",
       "      <td>-1.428619</td>\n",
       "      <td>-1.432683</td>\n",
       "    </tr>\n",
       "    <tr>\n",
       "      <th>2910</th>\n",
       "      <td>2020-10-24 14:41:45</td>\n",
       "      <td>44</td>\n",
       "      <td>hen_79</td>\n",
       "      <td>1Zone</td>\n",
       "      <td>4.0</td>\n",
       "      <td>1</td>\n",
       "      <td>3 - 5</td>\n",
       "      <td>2020-10-24</td>\n",
       "      <td>students</td>\n",
       "      <td>-1.803482</td>\n",
       "      <td>...</td>\n",
       "      <td>False</td>\n",
       "      <td>0.172365</td>\n",
       "      <td>NaN</td>\n",
       "      <td>NoOtherZone</td>\n",
       "      <td>NoOtherZone</td>\n",
       "      <td>NoOtherZone</td>\n",
       "      <td>1Zone</td>\n",
       "      <td>-1.479801</td>\n",
       "      <td>-1.428619</td>\n",
       "      <td>-1.432683</td>\n",
       "    </tr>\n",
       "    <tr>\n",
       "      <th>...</th>\n",
       "      <td>...</td>\n",
       "      <td>...</td>\n",
       "      <td>...</td>\n",
       "      <td>...</td>\n",
       "      <td>...</td>\n",
       "      <td>...</td>\n",
       "      <td>...</td>\n",
       "      <td>...</td>\n",
       "      <td>...</td>\n",
       "      <td>...</td>\n",
       "      <td>...</td>\n",
       "      <td>...</td>\n",
       "      <td>...</td>\n",
       "      <td>...</td>\n",
       "      <td>...</td>\n",
       "      <td>...</td>\n",
       "      <td>...</td>\n",
       "      <td>...</td>\n",
       "      <td>...</td>\n",
       "      <td>...</td>\n",
       "      <td>...</td>\n",
       "    </tr>\n",
       "    <tr>\n",
       "      <th>2414</th>\n",
       "      <td>2020-10-25 11:38:47</td>\n",
       "      <td>49</td>\n",
       "      <td>hen_122</td>\n",
       "      <td>3Zone</td>\n",
       "      <td>12.0</td>\n",
       "      <td>1</td>\n",
       "      <td>10 - 12</td>\n",
       "      <td>2020-10-25</td>\n",
       "      <td>students</td>\n",
       "      <td>1.694302</td>\n",
       "      <td>...</td>\n",
       "      <td>True</td>\n",
       "      <td>-0.041363</td>\n",
       "      <td>NaN</td>\n",
       "      <td>3Zone</td>\n",
       "      <td>4_Zone</td>\n",
       "      <td>NoOtherZone</td>\n",
       "      <td>3Zone</td>\n",
       "      <td>0.675767</td>\n",
       "      <td>-1.428619</td>\n",
       "      <td>0.697991</td>\n",
       "    </tr>\n",
       "    <tr>\n",
       "      <th>820</th>\n",
       "      <td>2020-10-18 14:59:08</td>\n",
       "      <td>115</td>\n",
       "      <td>hen_143</td>\n",
       "      <td>5Zone</td>\n",
       "      <td>10.0</td>\n",
       "      <td>1</td>\n",
       "      <td>10 - 12</td>\n",
       "      <td>2020-10-18</td>\n",
       "      <td>students</td>\n",
       "      <td>0.761560</td>\n",
       "      <td>...</td>\n",
       "      <td>False</td>\n",
       "      <td>-0.040489</td>\n",
       "      <td>NaN</td>\n",
       "      <td>3Zone</td>\n",
       "      <td>2_Zone</td>\n",
       "      <td>4_Zone</td>\n",
       "      <td>5Zone</td>\n",
       "      <td>0.675767</td>\n",
       "      <td>-1.428619</td>\n",
       "      <td>-1.432683</td>\n",
       "    </tr>\n",
       "    <tr>\n",
       "      <th>2239</th>\n",
       "      <td>2020-10-16 15:59:33</td>\n",
       "      <td>8</td>\n",
       "      <td>hen_20</td>\n",
       "      <td>3Zone</td>\n",
       "      <td>3.0</td>\n",
       "      <td>1</td>\n",
       "      <td>3 - 5</td>\n",
       "      <td>2020-10-16</td>\n",
       "      <td>students</td>\n",
       "      <td>-0.404369</td>\n",
       "      <td>...</td>\n",
       "      <td>True</td>\n",
       "      <td>-0.048604</td>\n",
       "      <td>NaN</td>\n",
       "      <td>miniZone3</td>\n",
       "      <td>2_Zone</td>\n",
       "      <td>NoOtherZone</td>\n",
       "      <td>3Zone</td>\n",
       "      <td>0.675767</td>\n",
       "      <td>0.699977</td>\n",
       "      <td>0.697991</td>\n",
       "    </tr>\n",
       "    <tr>\n",
       "      <th>544</th>\n",
       "      <td>2020-10-18 12:57:10</td>\n",
       "      <td>76</td>\n",
       "      <td>hen_62</td>\n",
       "      <td>3Zone</td>\n",
       "      <td>8.0</td>\n",
       "      <td>1</td>\n",
       "      <td>8 - 9</td>\n",
       "      <td>2020-10-18</td>\n",
       "      <td>students</td>\n",
       "      <td>0.994745</td>\n",
       "      <td>...</td>\n",
       "      <td>False</td>\n",
       "      <td>-0.051100</td>\n",
       "      <td>NaN</td>\n",
       "      <td>2Zone</td>\n",
       "      <td>5_Zone</td>\n",
       "      <td>NoOtherZone</td>\n",
       "      <td>3Zone</td>\n",
       "      <td>0.675767</td>\n",
       "      <td>0.699977</td>\n",
       "      <td>-1.432683</td>\n",
       "    </tr>\n",
       "    <tr>\n",
       "      <th>2766</th>\n",
       "      <td>2020-10-26 11:49:58</td>\n",
       "      <td>93</td>\n",
       "      <td>hen_105</td>\n",
       "      <td>3Zone</td>\n",
       "      <td>9.0</td>\n",
       "      <td>1</td>\n",
       "      <td>8 - 9</td>\n",
       "      <td>2020-10-26</td>\n",
       "      <td>students</td>\n",
       "      <td>0.062003</td>\n",
       "      <td>...</td>\n",
       "      <td>True</td>\n",
       "      <td>-0.052224</td>\n",
       "      <td>NaN</td>\n",
       "      <td>miniZone3</td>\n",
       "      <td>2_Zone</td>\n",
       "      <td>NoOtherZone</td>\n",
       "      <td>3Zone</td>\n",
       "      <td>0.675767</td>\n",
       "      <td>0.699977</td>\n",
       "      <td>0.697991</td>\n",
       "    </tr>\n",
       "  </tbody>\n",
       "</table>\n",
       "<p>2911 rows × 36 columns</p>\n",
       "</div>"
      ],
      "text/plain": [
       "               Timestamp  TagID    HenID   Zone  PenID  VideoAnalyse   system  \\\n",
       "2812 2020-10-25 09:04:09    139   hen_65  3Zone   10.0             1  10 - 12   \n",
       "689  2020-10-15 12:06:12     60   hen_88  5Zone    5.0             1    3 - 5   \n",
       "203  2020-10-17 02:21:40      3  hen_104  5Zone    3.0             1    3 - 5   \n",
       "1012 2020-10-16 15:01:34    117  hen_177  1Zone   10.0             1  10 - 12   \n",
       "2910 2020-10-24 14:41:45     44   hen_79  1Zone    4.0             1    3 - 5   \n",
       "...                  ...    ...      ...    ...    ...           ...      ...   \n",
       "2414 2020-10-25 11:38:47     49  hen_122  3Zone   12.0             1  10 - 12   \n",
       "820  2020-10-18 14:59:08    115  hen_143  5Zone   10.0             1  10 - 12   \n",
       "2239 2020-10-16 15:59:33      8   hen_20  3Zone    3.0             1    3 - 5   \n",
       "544  2020-10-18 12:57:10     76   hen_62  3Zone    8.0             1    8 - 9   \n",
       "2766 2020-10-26 11:49:58     93  hen_105  3Zone    9.0             1    8 - 9   \n",
       "\n",
       "           date      type  signalstrength  ...  previousZone==NextZone  \\\n",
       "2812 2020-10-25  students       -0.870740  ...                    True   \n",
       "689  2020-10-15  students       -0.404369  ...                    True   \n",
       "203  2020-10-17  students       -0.404369  ...                    True   \n",
       "1012 2020-10-16  students       -0.870740  ...                    True   \n",
       "2910 2020-10-24  students       -1.803482  ...                   False   \n",
       "...         ...       ...             ...  ...                     ...   \n",
       "2414 2020-10-25  students        1.694302  ...                    True   \n",
       "820  2020-10-18  students        0.761560  ...                   False   \n",
       "2239 2020-10-16  students       -0.404369  ...                    True   \n",
       "544  2020-10-18  students        0.994745  ...                   False   \n",
       "2766 2020-10-26  students        0.062003  ...                    True   \n",
       "\n",
       "      nextduration  BatchID   zone2match   zone3match   zone4match  \\\n",
       "2812     -0.049852      NaN        3Zone       4_Zone  NoOtherZone   \n",
       "689      -0.045607      NaN        3Zone       2_Zone       4_Zone   \n",
       "203      -0.046606      NaN        2Zone  NoOtherZone  NoOtherZone   \n",
       "1012     -0.048229      NaN  NoOtherZone  NoOtherZone  NoOtherZone   \n",
       "2910      0.172365      NaN  NoOtherZone  NoOtherZone  NoOtherZone   \n",
       "...            ...      ...          ...          ...          ...   \n",
       "2414     -0.041363      NaN        3Zone       4_Zone  NoOtherZone   \n",
       "820      -0.040489      NaN        3Zone       2_Zone       4_Zone   \n",
       "2239     -0.048604      NaN    miniZone3       2_Zone  NoOtherZone   \n",
       "544      -0.051100      NaN        2Zone       5_Zone  NoOtherZone   \n",
       "2766     -0.052224      NaN    miniZone3       2_Zone  NoOtherZone   \n",
       "\n",
       "     ObservedZone zone3matchexist next2zone==Zone previous2zone==Zone  \n",
       "2812        3Zone        0.675767       -1.428619           -1.432683  \n",
       "689         5Zone        0.675767       -1.428619            0.697991  \n",
       "203         5Zone       -1.479801        0.699977            0.697991  \n",
       "1012        1Zone       -1.479801       -1.428619           -1.432683  \n",
       "2910        1Zone       -1.479801       -1.428619           -1.432683  \n",
       "...           ...             ...             ...                 ...  \n",
       "2414        3Zone        0.675767       -1.428619            0.697991  \n",
       "820         5Zone        0.675767       -1.428619           -1.432683  \n",
       "2239        3Zone        0.675767        0.699977            0.697991  \n",
       "544         3Zone        0.675767        0.699977           -1.432683  \n",
       "2766        3Zone        0.675767        0.699977            0.697991  \n",
       "\n",
       "[2911 rows x 36 columns]"
      ]
     },
     "execution_count": 11,
     "metadata": {},
     "output_type": "execute_result"
    }
   ],
   "source": [
    "#show rows with at least one nan\n",
    "df[df.isna().any(axis=1)]"
   ]
  },
  {
   "cell_type": "code",
   "execution_count": 12,
   "metadata": {},
   "outputs": [
    {
     "name": "stdout",
     "output_type": "stream",
     "text": [
      "(3193, 36)\n",
      "(3193, 36)\n"
     ]
    }
   ],
   "source": [
    "#exception\n",
    "print(df.shape)\n",
    "df = df[~((df['nextduration'].isnull())&(df['algotype']=='cleaning'))]\n",
    "print(df.shape)"
   ]
  },
  {
   "cell_type": "code",
   "execution_count": 13,
   "metadata": {},
   "outputs": [],
   "source": [
    "df_testing = df[df['algotype']=='verification'].copy()\n",
    "df_cleaning = df[df['algotype']=='cleaning'].copy()"
   ]
  },
  {
   "cell_type": "code",
   "execution_count": 14,
   "metadata": {},
   "outputs": [
    {
     "data": {
      "text/plain": [
       "1    2307\n",
       "0     604\n",
       "Name: VideoAnalyse, dtype: int64"
      ]
     },
     "execution_count": 14,
     "metadata": {},
     "output_type": "execute_result"
    }
   ],
   "source": [
    "df_cleaning['VideoAnalyse'].value_counts()"
   ]
  },
  {
   "cell_type": "code",
   "execution_count": 15,
   "metadata": {},
   "outputs": [
    {
     "name": "stdout",
     "output_type": "stream",
     "text": [
      "(282, 36) (2911, 36)\n"
     ]
    }
   ],
   "source": [
    "print(df_testing.shape, df_cleaning.shape)"
   ]
  },
  {
   "cell_type": "markdown",
   "metadata": {},
   "source": [
    "# Split into training and validation (for parameter tuning)"
   ]
  },
  {
   "cell_type": "code",
   "execution_count": 16,
   "metadata": {},
   "outputs": [
    {
     "name": "stdout",
     "output_type": "stream",
     "text": [
      "(2911, 26) (2911, 1)\n",
      "(282, 26) (282,)\n"
     ]
    }
   ],
   "source": [
    "#transform categorical data into dumies\n",
    "df_cl_d = pd.get_dummies(df_cleaning.filter(li_cont_select+li_cat_select, axis=1), columns=li_cat_select, drop_first=True)\n",
    "df_te_d = pd.get_dummies(df_testing.filter(li_cont_select+li_cat_select, axis=1), columns=li_cat_select, drop_first=True)\n",
    "\n",
    "if len(df_te_d.columns)!=len(df_cl_d.columns):\n",
    "    print('the test set does not have the same amount of features than the cleaning set, certainly due to low amount of data,\\\n",
    "    Please remove some varibles that has missing values in the testing set')\n",
    "    sys.exit()\n",
    "    \n",
    "#split into train, test and vlaidation as its simpler like this. But for algo from sklearn, we should add val+train together,\n",
    "#while for the Catboost we will not add them up\n",
    "#train\n",
    "X_train = df_cl_d.values\n",
    "y_train = df_cleaning[['VideoAnalyse']].values\n",
    "print(X_train.shape, y_train.shape)\n",
    "\n",
    "#test\n",
    "X_test = df_te_d.values\n",
    "y_test = df_testing[['VideoAnalyse']].values\n",
    "y_test = np.ravel(y_test) #from (x,1) to (x,)\n",
    "print(X_test.shape, y_test.shape)\n",
    "\n",
    "#var name\n",
    "var_name = df_cl_d.columns\n",
    "\n",
    "#split training into validation\n",
    "val_size = 0.2   \n",
    "X_train, X_val, y_train, y_val = train_test_split(X_train, y_train, test_size=val_size, random_state=0)\n",
    "y_train = np.ravel(y_train) #from (x,1) to (x,)\n",
    "y_val = np.ravel(y_val) #from (x,1) to (x,)\n",
    "#add back for sklearn models\n",
    "X_trainval = np.concatenate((X_train,X_val), axis=0)\n",
    "y_trainval = np.concatenate((y_train,y_val), axis=0)\n",
    "\n",
    "#small control: show rows with at least one nan\n",
    "if df_cl_d[df_cl_d.isna().any(axis=1)].shape[0]!=0:\n",
    "    print('ERROR: you have nan in your cleaning set')\n",
    "    sys.exit()\n",
    "if df_te_d[df_te_d.isna().any(axis=1)].shape[0]!=0:\n",
    "    print('ERROR: you have nan in your testing set')\n",
    "    sys.exit()"
   ]
  },
  {
   "cell_type": "markdown",
   "metadata": {},
   "source": [
    "# Model"
   ]
  },
  {
   "cell_type": "code",
   "execution_count": 17,
   "metadata": {},
   "outputs": [],
   "source": [
    "li_dico = []"
   ]
  },
  {
   "cell_type": "markdown",
   "metadata": {},
   "source": [
    "### 1 - Random forest & GradientBoostingMachine"
   ]
  },
  {
   "cell_type": "raw",
   "metadata": {},
   "source": [
    "--------- maxdepth\n",
    "=The maximum depth of the tree.\n",
    "if to big: risk of overfitting \n",
    "default=3 in GBM, \n",
    "default = None in RF (i.e. grows until all leaves are pure (i.e. all its data points contain the same label) or nbr sample < min_sample split(default 2), should be smaller for GBM as trees here should be simpler.\n",
    "From plot: RF: 6,7,8,9, GBM:3,4,5\n",
    "--------- n_estimators\n",
    "the more trees you add, the higher the risk of overfitting!! vs RF\n",
    "default=100 in both cases. \n",
    "we may want this to be bigger for RF\n",
    "RF:100-150\n",
    "GBM:100 \n",
    "--------- min_samples_split\n",
    "=min nbr of samples required to split a node\n",
    "default in both case is 2\n",
    "we may want this to be bigger for GBM (simple trees)\n",
    "RF:~5\n",
    "GBM:~10\n",
    "--------- min_samples_leaf\n",
    "=min samples at a leaf node\n",
    "default=1 in both cases\n",
    "we may want this to be bigger for GBM\n",
    "RF:2-3\n",
    "GBM:2-3\n",
    "--------- min_impurity_decrease\n",
    "=A node will be split if this split induces a decrease of the impurity greater than or equal to this value.\n",
    "default=0 in both cases\n",
    "min_impurity_decrease: https://towardsdatascience.com/decision-trees-and-random-forests-74b89a374db. Here is where min_impurity_decrease can help us as well. If the impurity of a split goes up then that would mean we are making a split which is not helping us and is instead over-fitting to the training data.\n",
    "RF:0 to 0.0002\n",
    "GCB:0.0001 to 0.002"
   ]
  },
  {
   "cell_type": "code",
   "execution_count": 69,
   "metadata": {
    "scrolled": true
   },
   "outputs": [
    {
     "name": "stderr",
     "output_type": "stream",
     "text": [
      "100%|██████████████████████████████████████████████████████████████████████████████████| 18/18 [00:32<00:00,  1.79s/it]\n"
     ]
    },
    {
     "data": {
      "image/png": "[encoded data removed]",
      "text/plain": [
       "<Figure size 432x288 with 1 Axes>"
      ]
     },
     "metadata": {
      "needs_background": "light"
     },
     "output_type": "display_data"
    },
    {
     "name": "stderr",
     "output_type": "stream",
     "text": [
      "100%|██████████████████████████████████████████████████████████████████████████████████| 11/11 [00:09<00:00,  1.13it/s]\n"
     ]
    },
    {
     "data": {
      "image/png": "[encoded data removed]",
      "text/plain": [
       "<Figure size 432x288 with 1 Axes>"
      ]
     },
     "metadata": {
      "needs_background": "light"
     },
     "output_type": "display_data"
    },
    {
     "name": "stderr",
     "output_type": "stream",
     "text": [
      "100%|██████████████████████████████████████████████████████████████████████████████████| 18/18 [00:10<00:00,  1.69it/s]\n"
     ]
    },
    {
     "data": {
      "image/png": "[encoded data removed]",
      "text/plain": [
       "<Figure size 432x288 with 1 Axes>"
      ]
     },
     "metadata": {
      "needs_background": "light"
     },
     "output_type": "display_data"
    },
    {
     "name": "stderr",
     "output_type": "stream",
     "text": [
      "100%|████████████████████████████████████████████████████████████████████████████████████| 6/6 [00:03<00:00,  1.74it/s]\n"
     ]
    },
    {
     "data": {
      "image/png": "[encoded data removed]",
      "text/plain": [
       "<Figure size 432x288 with 1 Axes>"
      ]
     },
     "metadata": {
      "needs_background": "light"
     },
     "output_type": "display_data"
    },
    {
     "name": "stderr",
     "output_type": "stream",
     "text": [
      "100%|██████████████████████████████████████████████████████████████████████████████████| 10/10 [00:04<00:00,  2.11it/s]\n"
     ]
    },
    {
     "data": {
      "image/png": "[encoded data removed]",
      "text/plain": [
       "<Figure size 432x288 with 1 Axes>"
      ]
     },
     "metadata": {
      "needs_background": "light"
     },
     "output_type": "display_data"
    }
   ],
   "source": [
    "#FIRST: SEE WHICH RANGE FOR EACH PARAMETER AVOIDING OVERFITTING\n",
    "li_plt = []\n",
    "dico_hyperparam_values = {'max_depth': range(2,20),\n",
    "                          'n_estimators': range(40,300,20),\n",
    "                          'min_samples_split':range(2,20),\n",
    "                          'min_samples_leaf':range(1,7),\n",
    "                          'min_impurity_decrease':[x for x in np.linspace(start = 0, stop = 0.03, num = 10)]}\n",
    "\n",
    "#lets fix maxdepth first and then keep rest default except max_features\n",
    "for hp,li in dico_hyperparam_values.items():\n",
    "    for v in tqdm.tqdm(li):\n",
    "        if hp=='max_depth':\n",
    "            dico_mod = {'RandomForest':RandomForestClassifier(max_features='sqrt', random_state=0,\n",
    "                                                             max_depth=v),\n",
    "                        'GradientBoostingClassifier': GradientBoostingClassifier(max_features='sqrt', random_state=0,\n",
    "                                                                                 max_depth=v)}\n",
    "        if hp=='n_estimators':\n",
    "            dico_mod = {'RandomForest':RandomForestClassifier(max_features='sqrt', random_state=0,\n",
    "                                                              max_depth = 9,                                                                                 min_samples_split=10,\n",
    "                                                              n_estimators=v),\n",
    "                        'GradientBoostingClassifier': GradientBoostingClassifier(max_features='sqrt', random_state=0,\n",
    "                                                                                 max_depth = 5, \n",
    "                                                                                 n_estimators=v)}\n",
    "        if hp=='min_samples_split':\n",
    "            dico_mod = {'RandomForest':RandomForestClassifier(max_features='sqrt', random_state=0,\n",
    "                                                              max_depth = 9, \n",
    "                                                              min_samples_split=v),\n",
    "                        'GradientBoostingClassifier': GradientBoostingClassifier(max_features='sqrt', random_state=0,\n",
    "                                                                                 max_depth = 5,\n",
    "                                                                                 min_samples_split=v)}\n",
    "        if hp=='min_samples_leaf':\n",
    "            dico_mod = {'RandomForest':RandomForestClassifier(max_features='sqrt', random_state=0,\n",
    "                                                              max_depth = 9, \n",
    "                                                              min_samples_leaf=v),\n",
    "                        'GradientBoostingClassifier': GradientBoostingClassifier(max_features='sqrt', random_state=0,\n",
    "                                                                                 max_depth = 5, \n",
    "                                                                                 min_samples_leaf=v)}\n",
    "        if hp=='min_impurity_decrease':\n",
    "            dico_mod = {'RandomForest':RandomForestClassifier(max_features='sqrt', random_state=0,\n",
    "                                                              max_depth = 9, \n",
    "                                                              min_impurity_decrease=v),\n",
    "                        'GradientBoostingClassifier': GradientBoostingClassifier(max_features='sqrt', random_state=0,\n",
    "                                                                                 max_depth = 5, \n",
    "                                                                                 min_impurity_decrease=v)}\n",
    "        for name,mod in dico_mod.items():\n",
    "            mod.fit(X_train, y_train)\n",
    "            li_plt.append({'algo':name, hp:v, 'type':'training', 'accuracy':round(mod.score(X_train, y_train),2)})\n",
    "            li_plt.append({'algo':name, hp:v, 'type':'validation', 'accuracy':round(mod.score(X_val, y_val),2)})\n",
    "            li_plt.append({'algo':name, hp:v, 'type':'testing', 'accuracy':round(mod.score(X_test, y_test),2)})\n",
    "            #save it\n",
    "            #predictor.score(X,Y) internally calculates Y'=predictor.predict(X) and then compares Y' against Y to give an accuracy\n",
    "            #measure. This applies not only to logistic regression but to any other model.\n",
    "            li_dico.append({'algo':name, 'model_param_used':mod,\n",
    "                            'accuracy_training':round(mod.score(X_train, y_train),2),\n",
    "                            'accuracy_validation':round(mod.score(X_val, y_val),2),\n",
    "                            'accuracy_testing':round(mod.score(X_test, y_test),2)})\n",
    "    sns.lineplot(data=pd.DataFrame(li_plt), x=hp, y=\"accuracy\", hue=\"algo\", style=\"type\");\n",
    "    plt.savefig(os.path.join(path_extracted_data_cleaning,id_run+'_ClassifierParamTuning_'+hp+'.png'), bbox_inches='tight')\n",
    "    plt.show()"
   ]
  },
  {
   "cell_type": "markdown",
   "metadata": {},
   "source": [
    "#OLD FIRST: have an idea on what are the good parameters\n",
    "P = {'bootstrap': [True],\n",
    "      'max_depth': [int(x) for x in np.linspace(start = 2, stop = 6, num = 4)],\n",
    "      'max_features': ['sqrt'], #nbr of features to consider when looking for the best split\n",
    "      'min_samples_leaf': [int(x) for x in np.linspace(start = 1, stop = 15, num = 4)],#min samples at a leaf node\n",
    "      'min_samples_split':[int(x) for x in np.linspace(start = 2, stop = 10, num = 4)], #min sample that can be split alone\n",
    "      'n_estimators':[int(x) for x in np.linspace(start = 50, stop = 1500, num = 4)],#nbr of trees in the forest default=100\n",
    "      'criterion':['gini', 'entropy'],\n",
    "      'min_impurity_decrease':[x for x in np.linspace(start = 0.0001, stop = 0.05, num = 4)]}\n",
    "mod = RandomizedSearchCV(estimator = RandomForestClassifier(), param_distributions = P, n_iter = 200, cv = 3, verbose=2, \n",
    "                               random_state=0, n_jobs = -1)\n",
    "mod.fit(X_train, y_train)\n",
    "mod = mod.best_estimator_\n",
    "display(mod)"
   ]
  },
  {
   "cell_type": "markdown",
   "metadata": {},
   "source": [
    "### 1- Random Forest"
   ]
  },
  {
   "cell_type": "raw",
   "metadata": {},
   "source": [
    "no implemented early stoping"
   ]
  },
  {
   "cell_type": "code",
   "execution_count": 20,
   "metadata": {
    "collapsed": true
   },
   "outputs": [
    {
     "name": "stdout",
     "output_type": "stream",
     "text": [
      "Fitting 3 folds for each of 144 candidates, totalling 432 fits\n"
     ]
    },
    {
     "name": "stderr",
     "output_type": "stream",
     "text": [
      "[Parallel(n_jobs=-1)]: Using backend LokyBackend with 8 concurrent workers.\n",
      "[Parallel(n_jobs=-1)]: Done  25 tasks      | elapsed:   14.4s\n",
      "[Parallel(n_jobs=-1)]: Done 146 tasks      | elapsed:  1.0min\n",
      "[Parallel(n_jobs=-1)]: Done 349 tasks      | elapsed:  2.5min\n",
      "[Parallel(n_jobs=-1)]: Done 432 out of 432 | elapsed:  3.0min finished\n",
      "C:\\Users\\camil\\Anaconda3\\lib\\site-packages\\sklearn\\model_selection\\_search.py:765: DataConversionWarning: A column-vector y was passed when a 1d array was expected. Please change the shape of y to (n_samples,), for example using ravel().\n",
      "  self.best_estimator_.fit(X, y, **fit_params)\n",
      "C:\\Users\\camil\\Anaconda3\\lib\\site-packages\\ipykernel_launcher.py:15: DataConversionWarning: A column-vector y was passed when a 1d array was expected. Please change the shape of y to (n_samples,), for example using ravel().\n",
      "  from ipykernel import kernelapp as app\n"
     ]
    },
    {
     "data": {
      "text/plain": [
       "RandomForestClassifier(criterion='entropy', max_depth=6,\n",
       "                       min_impurity_decrease=0.0001, min_samples_leaf=2,\n",
       "                       min_samples_split=0.15, n_estimators=900)"
      ]
     },
     "metadata": {},
     "output_type": "display_data"
    }
   ],
   "source": [
    "#THEN: refine the parameters\n",
    "P = {'max_features': ['sqrt'], #nbr of features to consider when looking for the best split\n",
    "      'criterion':['gini', 'entropy'],\n",
    "      'max_depth': [5,6],\n",
    "      'min_samples_leaf': [2,3],#min samples at a leaf node\n",
    "      'min_samples_split':[2,3,4], #min nbr of samples required to split a node, we may want this to be bigger for RF (more complex trees)\n",
    "      'n_estimators':[800,900,1000],#nbr of trees in the forest default=100\n",
    "      'min_impurity_decrease':[x for x in np.linspace(start = 0.0001, stop = 0.01, num = 2)],\n",
    "      'bootstrap': [True],\n",
    "      'class_weight': [{0:x1/x0, 1:1}]}\n",
    "#define the model with all these options and fit it (as many combinationa s asked for)\n",
    "mod = GridSearchCV(estimator = RandomForestClassifier(), param_grid = P, cv = 3, n_jobs = -1, verbose = 2) \n",
    "mod.fit(X_train, y_train)\n",
    "#define the best model and fit it \n",
    "mod_final = mod.best_estimator_\n",
    "mod_final.fit(X_train, y_train)\n",
    "display(mod_final)"
   ]
  },
  {
   "cell_type": "code",
   "execution_count": 21,
   "metadata": {},
   "outputs": [
    {
     "data": {
      "text/html": [
       "<div>\n",
       "<style scoped>\n",
       "    .dataframe tbody tr th:only-of-type {\n",
       "        vertical-align: middle;\n",
       "    }\n",
       "\n",
       "    .dataframe tbody tr th {\n",
       "        vertical-align: top;\n",
       "    }\n",
       "\n",
       "    .dataframe thead th {\n",
       "        text-align: right;\n",
       "    }\n",
       "</style>\n",
       "<table border=\"1\" class=\"dataframe\">\n",
       "  <thead>\n",
       "    <tr style=\"text-align: right;\">\n",
       "      <th></th>\n",
       "      <th>algo</th>\n",
       "      <th>model_param_used</th>\n",
       "      <th>accuracy_training</th>\n",
       "      <th>accuracy_validation</th>\n",
       "      <th>accuracy_testing</th>\n",
       "    </tr>\n",
       "  </thead>\n",
       "  <tbody>\n",
       "    <tr>\n",
       "      <th>0</th>\n",
       "      <td>randomforest</td>\n",
       "      <td>(DecisionTreeClassifier(criterion='entropy', m...</td>\n",
       "      <td>0.931</td>\n",
       "      <td>0.953</td>\n",
       "      <td>0.947</td>\n",
       "    </tr>\n",
       "  </tbody>\n",
       "</table>\n",
       "</div>"
      ],
      "text/plain": [
       "           algo                                   model_param_used  \\\n",
       "0  randomforest  (DecisionTreeClassifier(criterion='entropy', m...   \n",
       "\n",
       "   accuracy_training  accuracy_validation  accuracy_testing  \n",
       "0              0.931                0.953             0.947  "
      ]
     },
     "execution_count": 21,
     "metadata": {},
     "output_type": "execute_result"
    }
   ],
   "source": [
    "li_dico.append({'algo':'randomforest', 'model_param_used':mod_final, \n",
    "                'accuracy_training':round(mod_final.score(X_train, y_train),3),\n",
    "                'accuracy_validation':round(mod_final.score(X_val, y_val),3),\n",
    "                'accuracy_testing':round(mod_final.score(X_test, y_test),3)})\n",
    "pd.DataFrame(li_dico)"
   ]
  },
  {
   "cell_type": "markdown",
   "metadata": {},
   "source": [
    "### 2 - GradientBoostingClassifier"
   ]
  },
  {
   "cell_type": "markdown",
   "metadata": {},
   "source": [
    "#FIRST: have an idea on what are the good parameters\n",
    "#Create the parameter grid based on the results of random search \n",
    "#n_estimaro: The number of boosting stages to perform. Gradient boosting is fairly robust to over-fitting so a large number\n",
    "#usually results in better performance.\n",
    "P = {'n_estimators': [int(x) for x in np.linspace(start = 50, stop = 200, num = 10)],\n",
    "     'learning_rate':[x for x in np.linspace(start = 0.05, stop = 0.2, num = 10)],\n",
    "     'loss':['deviance', 'exponential'],\n",
    "     'min_samples_split':[int(x) for x in np.linspace(start = 2, stop = 10, num = 4)],,\n",
    "     'min_samples_leaf':[int(x) for x in np.linspace(start = 1, stop = 15, num = 4)],\n",
    "     'max_depth': [int(x) for x in np.linspace(start = 2, stop = 6, num = 4)],\n",
    "     'min_impurity_decrease':[x for x in np.linspace(start = 0.0001, stop = 0.05, num = 4)],\n",
    "     'max_features': ['sqrt']\n",
    "    }\n",
    "mod = RandomizedSearchCV(estimator = GradientBoostingClassifier(), param_distributions = P, n_iter = 200, cv = 3, verbose=2, \n",
    "                        random_state=0, n_jobs = -1)\n",
    "mod.fit(X_train, y_train)\n",
    "mod = mod.best_estimator_\n",
    "display(mod)"
   ]
  },
  {
   "cell_type": "code",
   "execution_count": 19,
   "metadata": {},
   "outputs": [
    {
     "name": "stdout",
     "output_type": "stream",
     "text": [
      "Fitting 3 folds for each of 1944 candidates, totalling 5832 fits\n"
     ]
    },
    {
     "name": "stderr",
     "output_type": "stream",
     "text": [
      "[Parallel(n_jobs=-1)]: Using backend LokyBackend with 8 concurrent workers.\n",
      "[Parallel(n_jobs=-1)]: Done  25 tasks      | elapsed:    3.8s\n",
      "[Parallel(n_jobs=-1)]: Done 146 tasks      | elapsed:    6.8s\n",
      "[Parallel(n_jobs=-1)]: Done 349 tasks      | elapsed:   11.8s\n",
      "[Parallel(n_jobs=-1)]: Done 632 tasks      | elapsed:   19.1s\n",
      "[Parallel(n_jobs=-1)]: Done 997 tasks      | elapsed:   30.3s\n",
      "[Parallel(n_jobs=-1)]: Done 1442 tasks      | elapsed:   39.6s\n",
      "[Parallel(n_jobs=-1)]: Done 1969 tasks      | elapsed:   51.9s\n",
      "[Parallel(n_jobs=-1)]: Done 2576 tasks      | elapsed:  1.0min\n",
      "[Parallel(n_jobs=-1)]: Done 3570 tasks      | elapsed:  1.3min\n",
      "[Parallel(n_jobs=-1)]: Done 4522 tasks      | elapsed:  3.2min\n",
      "[Parallel(n_jobs=-1)]: Done 5373 tasks      | elapsed:  5.4min\n",
      "[Parallel(n_jobs=-1)]: Done 5832 out of 5832 | elapsed:  6.6min finished\n"
     ]
    },
    {
     "data": {
      "text/plain": [
       "GradientBoostingClassifier(max_depth=6, max_features='sqrt',\n",
       "                           min_impurity_decrease=0.0001, min_samples_leaf=4,\n",
       "                           min_samples_split=4, n_estimators=200,\n",
       "                           n_iter_no_change=5, tol=1e-10,\n",
       "                           validation_fraction=0.2)"
      ]
     },
     "metadata": {},
     "output_type": "display_data"
    }
   ],
   "source": [
    "#THEN: refine the parameters\n",
    "P = {'max_features': ['sqrt'],\n",
    "     'n_estimators': [180,200], #the more trees you add, the higher the risk of overfitting!! default:100\n",
    "     'min_samples_split':[2,3,4],\n",
    "     'min_samples_leaf':[4,5,6],\n",
    "     'max_depth': [4,5,6], #if to big: risk of overfitting default=3, should be smaller than RF, trees here should be simpler\n",
    "     'min_impurity_decrease':[0.0001],\n",
    "     'learning_rate':[0.1,0.15],\n",
    "     'loss':['deviance'], #deviance is greatant boosting, otherwise its adap which is least robust to noise TODO: other as well???\n",
    "     'criterion':['friedman_mse','mse','mae'],\n",
    "     'validation_fraction':[val_size], #to have early stopping avoiding overfitting keep same as for catboost\n",
    "     'n_iter_no_change':range(3,10),#to have early stopping avoiding overfitting. If set to a number, it will set aside validation_fraction size of the training data as validation and terminate training when validation score is not improving in all of the previous n_iter_no_change numbers of iterations.\n",
    "     'tol':[x for x in np.linspace(start = 10**-8, stop = 10**-2, num = 10)]#to have early stopping avoiding overfitting. default 1e-4 \n",
    "     \n",
    "    }\n",
    "mod = GridSearchCV(estimator = GradientBoostingClassifier(), param_grid = P, cv = 3, n_jobs = -1, verbose = 2) \n",
    "mod.fit(X_trainval, y_trainval)\n",
    "mod_final = mod.best_estimator_\n",
    "mod_final.fit(X_trainval, y_trainval)\n",
    "display(mod_final)"
   ]
  },
  {
   "cell_type": "code",
   "execution_count": 21,
   "metadata": {},
   "outputs": [
    {
     "data": {
      "text/html": [
       "<div>\n",
       "<style scoped>\n",
       "    .dataframe tbody tr th:only-of-type {\n",
       "        vertical-align: middle;\n",
       "    }\n",
       "\n",
       "    .dataframe tbody tr th {\n",
       "        vertical-align: top;\n",
       "    }\n",
       "\n",
       "    .dataframe thead th {\n",
       "        text-align: right;\n",
       "    }\n",
       "</style>\n",
       "<table border=\"1\" class=\"dataframe\">\n",
       "  <thead>\n",
       "    <tr style=\"text-align: right;\">\n",
       "      <th></th>\n",
       "      <th>algo</th>\n",
       "      <th>model_param_used</th>\n",
       "      <th>accuracy_training</th>\n",
       "      <th>accuracy_validation</th>\n",
       "      <th>accuracy_testing</th>\n",
       "    </tr>\n",
       "  </thead>\n",
       "  <tbody>\n",
       "    <tr>\n",
       "      <th>0</th>\n",
       "      <td>GradientBoostingClassifier</td>\n",
       "      <td>([DecisionTreeRegressor(criterion='friedman_ms...</td>\n",
       "      <td>0.992</td>\n",
       "      <td>0.991</td>\n",
       "      <td>0.965</td>\n",
       "    </tr>\n",
       "    <tr>\n",
       "      <th>1</th>\n",
       "      <td>GradientBoostingClassifier</td>\n",
       "      <td>([DecisionTreeRegressor(criterion='friedman_ms...</td>\n",
       "      <td>0.992</td>\n",
       "      <td>0.991</td>\n",
       "      <td>0.965</td>\n",
       "    </tr>\n",
       "  </tbody>\n",
       "</table>\n",
       "</div>"
      ],
      "text/plain": [
       "                         algo  \\\n",
       "0  GradientBoostingClassifier   \n",
       "1  GradientBoostingClassifier   \n",
       "\n",
       "                                    model_param_used  accuracy_training  \\\n",
       "0  ([DecisionTreeRegressor(criterion='friedman_ms...              0.992   \n",
       "1  ([DecisionTreeRegressor(criterion='friedman_ms...              0.992   \n",
       "\n",
       "   accuracy_validation  accuracy_testing  \n",
       "0                0.991             0.965  \n",
       "1                0.991             0.965  "
      ]
     },
     "execution_count": 21,
     "metadata": {},
     "output_type": "execute_result"
    }
   ],
   "source": [
    "li_dico.append({'algo':'GradientBoostingClassifier', 'model_param_used':mod_final, \n",
    "                'accuracy_training':round(mod_final.score(X_train, y_train),3),\n",
    "                'accuracy_validation':round(mod_final.score(X_val, y_val),3),\n",
    "                'accuracy_testing':round(mod_final.score(X_test, y_test),3)})\n",
    "pd.DataFrame(li_dico)"
   ]
  },
  {
   "cell_type": "markdown",
   "metadata": {},
   "source": [
    "### 3 - Catboost"
   ]
  },
  {
   "cell_type": "code",
   "execution_count": 22,
   "metadata": {},
   "outputs": [],
   "source": [
    "#https://towardsdatascience.com/catboost-demystified-8b0b538bfa31\n",
    "#ordered stat: https://medium.com/data-from-the-trenches/how-do-gradient-boosting-algorithms-handle-categorical-variables-e56ace858ba2"
   ]
  },
  {
   "cell_type": "code",
   "execution_count": 21,
   "metadata": {},
   "outputs": [
    {
     "name": "stdout",
     "output_type": "stream",
     "text": [
      "3.8195364238410594\n",
      "Fitting 3 folds for each of 3520 candidates, totalling 10560 fits\n"
     ]
    },
    {
     "name": "stderr",
     "output_type": "stream",
     "text": [
      "[Parallel(n_jobs=-1)]: Using backend LokyBackend with 8 concurrent workers.\n",
      "[Parallel(n_jobs=-1)]: Done  25 tasks      | elapsed:   48.6s\n",
      "ERROR:root:Internal Python error in the inspect module.\n",
      "Below is the traceback from this internal error.\n",
      "\n"
     ]
    },
    {
     "name": "stdout",
     "output_type": "stream",
     "text": [
      "Traceback (most recent call last):\n",
      "  File \"C:\\Users\\camil\\Anaconda3\\lib\\site-packages\\IPython\\core\\interactiveshell.py\", line 3343, in run_code\n",
      "    exec(code_obj, self.user_global_ns, self.user_ns)\n",
      "  File \"<ipython-input-21-7206985b2817>\", line 18, in <module>\n",
      "    mod.fit(X_train, y_train) #, eval_set=eval_dataset, verbose=False)\n",
      "  File \"C:\\Users\\camil\\Anaconda3\\lib\\site-packages\\sklearn\\utils\\validation.py\", line 72, in inner_f\n",
      "    return f(**kwargs)\n",
      "  File \"C:\\Users\\camil\\Anaconda3\\lib\\site-packages\\sklearn\\model_selection\\_search.py\", line 736, in fit\n",
      "    self._run_search(evaluate_candidates)\n",
      "  File \"C:\\Users\\camil\\Anaconda3\\lib\\site-packages\\sklearn\\model_selection\\_search.py\", line 1188, in _run_search\n",
      "    evaluate_candidates(ParameterGrid(self.param_grid))\n",
      "  File \"C:\\Users\\camil\\Anaconda3\\lib\\site-packages\\sklearn\\model_selection\\_search.py\", line 715, in evaluate_candidates\n",
      "    cv.split(X, y, groups)))\n",
      "  File \"C:\\Users\\camil\\Anaconda3\\lib\\site-packages\\joblib\\parallel.py\", line 1042, in __call__\n",
      "    self.retrieve()\n",
      "  File \"C:\\Users\\camil\\Anaconda3\\lib\\site-packages\\joblib\\parallel.py\", line 921, in retrieve\n",
      "    self._output.extend(job.get(timeout=self.timeout))\n",
      "  File \"C:\\Users\\camil\\Anaconda3\\lib\\site-packages\\joblib\\_parallel_backends.py\", line 542, in wrap_future_result\n",
      "    return future.result(timeout=timeout)\n",
      "  File \"C:\\Users\\camil\\Anaconda3\\lib\\concurrent\\futures\\_base.py\", line 427, in result\n",
      "    self._condition.wait(timeout)\n",
      "  File \"C:\\Users\\camil\\Anaconda3\\lib\\threading.py\", line 295, in wait\n",
      "    waiter.acquire()\n",
      "KeyboardInterrupt\n",
      "\n",
      "During handling of the above exception, another exception occurred:\n",
      "\n",
      "Traceback (most recent call last):\n",
      "  File \"C:\\Users\\camil\\Anaconda3\\lib\\site-packages\\IPython\\core\\interactiveshell.py\", line 2044, in showtraceback\n",
      "    stb = value._render_traceback_()\n",
      "AttributeError: 'KeyboardInterrupt' object has no attribute '_render_traceback_'\n",
      "\n",
      "During handling of the above exception, another exception occurred:\n",
      "\n",
      "Traceback (most recent call last):\n",
      "  File \"C:\\Users\\camil\\Anaconda3\\lib\\genericpath.py\", line 19, in exists\n",
      "    os.stat(path)\n",
      "OSError: [WinError 123] La syntaxe du nom de fichier, de répertoire ou de volume est incorrecte: '<ipython-input-21-7206985b2817>'\n",
      "\n",
      "During handling of the above exception, another exception occurred:\n",
      "\n",
      "Traceback (most recent call last):\n",
      "  File \"C:\\Users\\camil\\Anaconda3\\lib\\site-packages\\IPython\\core\\ultratb.py\", line 1169, in get_records\n",
      "    return _fixed_getinnerframes(etb, number_of_lines_of_context, tb_offset)\n",
      "  File \"C:\\Users\\camil\\Anaconda3\\lib\\site-packages\\IPython\\core\\ultratb.py\", line 316, in wrapped\n",
      "    return f(*args, **kwargs)\n",
      "  File \"C:\\Users\\camil\\Anaconda3\\lib\\site-packages\\IPython\\core\\ultratb.py\", line 350, in _fixed_getinnerframes\n",
      "    records = fix_frame_records_filenames(inspect.getinnerframes(etb, context))\n",
      "  File \"C:\\Users\\camil\\Anaconda3\\lib\\inspect.py\", line 1490, in getinnerframes\n",
      "    frameinfo = (tb.tb_frame,) + getframeinfo(tb, context)\n",
      "  File \"C:\\Users\\camil\\Anaconda3\\lib\\inspect.py\", line 1452, in getframeinfo\n",
      "    lines, lnum = findsource(frame)\n",
      "  File \"C:\\Users\\camil\\Anaconda3\\lib\\site-packages\\IPython\\core\\ultratb.py\", line 170, in findsource\n",
      "    file = getsourcefile(object) or getfile(object)\n",
      "  File \"C:\\Users\\camil\\Anaconda3\\lib\\inspect.py\", line 693, in getsourcefile\n",
      "    if os.path.exists(filename):\n",
      "  File \"C:\\Users\\camil\\Anaconda3\\lib\\genericpath.py\", line 19, in exists\n",
      "    os.stat(path)\n",
      "KeyboardInterrupt\n"
     ]
    },
    {
     "ename": "TypeError",
     "evalue": "object of type 'NoneType' has no len()",
     "output_type": "error",
     "traceback": [
      "\u001b[1;31m---------------------------------------------------------------------------\u001b[0m",
      "\u001b[1;31mKeyboardInterrupt\u001b[0m                         Traceback (most recent call last)",
      "    \u001b[1;31m[... skipping hidden 1 frame]\u001b[0m\n",
      "\u001b[1;32m<ipython-input-21-7206985b2817>\u001b[0m in \u001b[0;36m<module>\u001b[1;34m\u001b[0m\n\u001b[0;32m     17\u001b[0m \u001b[0meval_dataset\u001b[0m \u001b[1;33m=\u001b[0m \u001b[0mPool\u001b[0m\u001b[1;33m(\u001b[0m\u001b[0mX_val\u001b[0m\u001b[1;33m,\u001b[0m\u001b[0my_val\u001b[0m\u001b[1;33m)\u001b[0m\u001b[1;33m\u001b[0m\u001b[1;33m\u001b[0m\u001b[0m\n\u001b[1;32m---> 18\u001b[1;33m \u001b[0mmod\u001b[0m\u001b[1;33m.\u001b[0m\u001b[0mfit\u001b[0m\u001b[1;33m(\u001b[0m\u001b[0mX_train\u001b[0m\u001b[1;33m,\u001b[0m \u001b[0my_train\u001b[0m\u001b[1;33m)\u001b[0m \u001b[1;31m#, eval_set=eval_dataset, verbose=False)\u001b[0m\u001b[1;33m\u001b[0m\u001b[1;33m\u001b[0m\u001b[0m\n\u001b[0m\u001b[0;32m     19\u001b[0m \u001b[0mmod_final\u001b[0m \u001b[1;33m=\u001b[0m \u001b[0mmod\u001b[0m\u001b[1;33m.\u001b[0m\u001b[0mbest_estimator_\u001b[0m\u001b[1;33m\u001b[0m\u001b[1;33m\u001b[0m\u001b[0m\n",
      "\u001b[1;32m~\\Anaconda3\\lib\\site-packages\\sklearn\\utils\\validation.py\u001b[0m in \u001b[0;36minner_f\u001b[1;34m(*args, **kwargs)\u001b[0m\n\u001b[0;32m     71\u001b[0m         \u001b[0mkwargs\u001b[0m\u001b[1;33m.\u001b[0m\u001b[0mupdate\u001b[0m\u001b[1;33m(\u001b[0m\u001b[1;33m{\u001b[0m\u001b[0mk\u001b[0m\u001b[1;33m:\u001b[0m \u001b[0marg\u001b[0m \u001b[1;32mfor\u001b[0m \u001b[0mk\u001b[0m\u001b[1;33m,\u001b[0m \u001b[0marg\u001b[0m \u001b[1;32min\u001b[0m \u001b[0mzip\u001b[0m\u001b[1;33m(\u001b[0m\u001b[0msig\u001b[0m\u001b[1;33m.\u001b[0m\u001b[0mparameters\u001b[0m\u001b[1;33m,\u001b[0m \u001b[0margs\u001b[0m\u001b[1;33m)\u001b[0m\u001b[1;33m}\u001b[0m\u001b[1;33m)\u001b[0m\u001b[1;33m\u001b[0m\u001b[1;33m\u001b[0m\u001b[0m\n\u001b[1;32m---> 72\u001b[1;33m         \u001b[1;32mreturn\u001b[0m \u001b[0mf\u001b[0m\u001b[1;33m(\u001b[0m\u001b[1;33m**\u001b[0m\u001b[0mkwargs\u001b[0m\u001b[1;33m)\u001b[0m\u001b[1;33m\u001b[0m\u001b[1;33m\u001b[0m\u001b[0m\n\u001b[0m\u001b[0;32m     73\u001b[0m     \u001b[1;32mreturn\u001b[0m \u001b[0minner_f\u001b[0m\u001b[1;33m\u001b[0m\u001b[1;33m\u001b[0m\u001b[0m\n",
      "\u001b[1;32m~\\Anaconda3\\lib\\site-packages\\sklearn\\model_selection\\_search.py\u001b[0m in \u001b[0;36mfit\u001b[1;34m(self, X, y, groups, **fit_params)\u001b[0m\n\u001b[0;32m    735\u001b[0m \u001b[1;33m\u001b[0m\u001b[0m\n\u001b[1;32m--> 736\u001b[1;33m             \u001b[0mself\u001b[0m\u001b[1;33m.\u001b[0m\u001b[0m_run_search\u001b[0m\u001b[1;33m(\u001b[0m\u001b[0mevaluate_candidates\u001b[0m\u001b[1;33m)\u001b[0m\u001b[1;33m\u001b[0m\u001b[1;33m\u001b[0m\u001b[0m\n\u001b[0m\u001b[0;32m    737\u001b[0m \u001b[1;33m\u001b[0m\u001b[0m\n",
      "\u001b[1;32m~\\Anaconda3\\lib\\site-packages\\sklearn\\model_selection\\_search.py\u001b[0m in \u001b[0;36m_run_search\u001b[1;34m(self, evaluate_candidates)\u001b[0m\n\u001b[0;32m   1187\u001b[0m         \u001b[1;34m\"\"\"Search all candidates in param_grid\"\"\"\u001b[0m\u001b[1;33m\u001b[0m\u001b[1;33m\u001b[0m\u001b[0m\n\u001b[1;32m-> 1188\u001b[1;33m         \u001b[0mevaluate_candidates\u001b[0m\u001b[1;33m(\u001b[0m\u001b[0mParameterGrid\u001b[0m\u001b[1;33m(\u001b[0m\u001b[0mself\u001b[0m\u001b[1;33m.\u001b[0m\u001b[0mparam_grid\u001b[0m\u001b[1;33m)\u001b[0m\u001b[1;33m)\u001b[0m\u001b[1;33m\u001b[0m\u001b[1;33m\u001b[0m\u001b[0m\n\u001b[0m\u001b[0;32m   1189\u001b[0m \u001b[1;33m\u001b[0m\u001b[0m\n",
      "\u001b[1;32m~\\Anaconda3\\lib\\site-packages\\sklearn\\model_selection\\_search.py\u001b[0m in \u001b[0;36mevaluate_candidates\u001b[1;34m(candidate_params)\u001b[0m\n\u001b[0;32m    714\u001b[0m                                in product(candidate_params,\n\u001b[1;32m--> 715\u001b[1;33m                                           cv.split(X, y, groups)))\n\u001b[0m\u001b[0;32m    716\u001b[0m \u001b[1;33m\u001b[0m\u001b[0m\n",
      "\u001b[1;32m~\\Anaconda3\\lib\\site-packages\\joblib\\parallel.py\u001b[0m in \u001b[0;36m__call__\u001b[1;34m(self, iterable)\u001b[0m\n\u001b[0;32m   1041\u001b[0m             \u001b[1;32mwith\u001b[0m \u001b[0mself\u001b[0m\u001b[1;33m.\u001b[0m\u001b[0m_backend\u001b[0m\u001b[1;33m.\u001b[0m\u001b[0mretrieval_context\u001b[0m\u001b[1;33m(\u001b[0m\u001b[1;33m)\u001b[0m\u001b[1;33m:\u001b[0m\u001b[1;33m\u001b[0m\u001b[1;33m\u001b[0m\u001b[0m\n\u001b[1;32m-> 1042\u001b[1;33m                 \u001b[0mself\u001b[0m\u001b[1;33m.\u001b[0m\u001b[0mretrieve\u001b[0m\u001b[1;33m(\u001b[0m\u001b[1;33m)\u001b[0m\u001b[1;33m\u001b[0m\u001b[1;33m\u001b[0m\u001b[0m\n\u001b[0m\u001b[0;32m   1043\u001b[0m             \u001b[1;31m# Make sure that we get a last message telling us we are done\u001b[0m\u001b[1;33m\u001b[0m\u001b[1;33m\u001b[0m\u001b[1;33m\u001b[0m\u001b[0m\n",
      "\u001b[1;32m~\\Anaconda3\\lib\\site-packages\\joblib\\parallel.py\u001b[0m in \u001b[0;36mretrieve\u001b[1;34m(self)\u001b[0m\n\u001b[0;32m    920\u001b[0m                 \u001b[1;32mif\u001b[0m \u001b[0mgetattr\u001b[0m\u001b[1;33m(\u001b[0m\u001b[0mself\u001b[0m\u001b[1;33m.\u001b[0m\u001b[0m_backend\u001b[0m\u001b[1;33m,\u001b[0m \u001b[1;34m'supports_timeout'\u001b[0m\u001b[1;33m,\u001b[0m \u001b[1;32mFalse\u001b[0m\u001b[1;33m)\u001b[0m\u001b[1;33m:\u001b[0m\u001b[1;33m\u001b[0m\u001b[1;33m\u001b[0m\u001b[0m\n\u001b[1;32m--> 921\u001b[1;33m                     \u001b[0mself\u001b[0m\u001b[1;33m.\u001b[0m\u001b[0m_output\u001b[0m\u001b[1;33m.\u001b[0m\u001b[0mextend\u001b[0m\u001b[1;33m(\u001b[0m\u001b[0mjob\u001b[0m\u001b[1;33m.\u001b[0m\u001b[0mget\u001b[0m\u001b[1;33m(\u001b[0m\u001b[0mtimeout\u001b[0m\u001b[1;33m=\u001b[0m\u001b[0mself\u001b[0m\u001b[1;33m.\u001b[0m\u001b[0mtimeout\u001b[0m\u001b[1;33m)\u001b[0m\u001b[1;33m)\u001b[0m\u001b[1;33m\u001b[0m\u001b[1;33m\u001b[0m\u001b[0m\n\u001b[0m\u001b[0;32m    922\u001b[0m                 \u001b[1;32melse\u001b[0m\u001b[1;33m:\u001b[0m\u001b[1;33m\u001b[0m\u001b[1;33m\u001b[0m\u001b[0m\n",
      "\u001b[1;32m~\\Anaconda3\\lib\\site-packages\\joblib\\_parallel_backends.py\u001b[0m in \u001b[0;36mwrap_future_result\u001b[1;34m(future, timeout)\u001b[0m\n\u001b[0;32m    541\u001b[0m         \u001b[1;32mtry\u001b[0m\u001b[1;33m:\u001b[0m\u001b[1;33m\u001b[0m\u001b[1;33m\u001b[0m\u001b[0m\n\u001b[1;32m--> 542\u001b[1;33m             \u001b[1;32mreturn\u001b[0m \u001b[0mfuture\u001b[0m\u001b[1;33m.\u001b[0m\u001b[0mresult\u001b[0m\u001b[1;33m(\u001b[0m\u001b[0mtimeout\u001b[0m\u001b[1;33m=\u001b[0m\u001b[0mtimeout\u001b[0m\u001b[1;33m)\u001b[0m\u001b[1;33m\u001b[0m\u001b[1;33m\u001b[0m\u001b[0m\n\u001b[0m\u001b[0;32m    543\u001b[0m         \u001b[1;32mexcept\u001b[0m \u001b[0mCfTimeoutError\u001b[0m \u001b[1;32mas\u001b[0m \u001b[0me\u001b[0m\u001b[1;33m:\u001b[0m\u001b[1;33m\u001b[0m\u001b[1;33m\u001b[0m\u001b[0m\n",
      "\u001b[1;32m~\\Anaconda3\\lib\\concurrent\\futures\\_base.py\u001b[0m in \u001b[0;36mresult\u001b[1;34m(self, timeout)\u001b[0m\n\u001b[0;32m    426\u001b[0m \u001b[1;33m\u001b[0m\u001b[0m\n\u001b[1;32m--> 427\u001b[1;33m             \u001b[0mself\u001b[0m\u001b[1;33m.\u001b[0m\u001b[0m_condition\u001b[0m\u001b[1;33m.\u001b[0m\u001b[0mwait\u001b[0m\u001b[1;33m(\u001b[0m\u001b[0mtimeout\u001b[0m\u001b[1;33m)\u001b[0m\u001b[1;33m\u001b[0m\u001b[1;33m\u001b[0m\u001b[0m\n\u001b[0m\u001b[0;32m    428\u001b[0m \u001b[1;33m\u001b[0m\u001b[0m\n",
      "\u001b[1;32m~\\Anaconda3\\lib\\threading.py\u001b[0m in \u001b[0;36mwait\u001b[1;34m(self, timeout)\u001b[0m\n\u001b[0;32m    294\u001b[0m             \u001b[1;32mif\u001b[0m \u001b[0mtimeout\u001b[0m \u001b[1;32mis\u001b[0m \u001b[1;32mNone\u001b[0m\u001b[1;33m:\u001b[0m\u001b[1;33m\u001b[0m\u001b[1;33m\u001b[0m\u001b[0m\n\u001b[1;32m--> 295\u001b[1;33m                 \u001b[0mwaiter\u001b[0m\u001b[1;33m.\u001b[0m\u001b[0macquire\u001b[0m\u001b[1;33m(\u001b[0m\u001b[1;33m)\u001b[0m\u001b[1;33m\u001b[0m\u001b[1;33m\u001b[0m\u001b[0m\n\u001b[0m\u001b[0;32m    296\u001b[0m                 \u001b[0mgotit\u001b[0m \u001b[1;33m=\u001b[0m \u001b[1;32mTrue\u001b[0m\u001b[1;33m\u001b[0m\u001b[1;33m\u001b[0m\u001b[0m\n",
      "\u001b[1;31mKeyboardInterrupt\u001b[0m: ",
      "\nDuring handling of the above exception, another exception occurred:\n",
      "\u001b[1;31mAttributeError\u001b[0m                            Traceback (most recent call last)",
      "\u001b[1;32m~\\Anaconda3\\lib\\site-packages\\IPython\\core\\interactiveshell.py\u001b[0m in \u001b[0;36mshowtraceback\u001b[1;34m(self, exc_tuple, filename, tb_offset, exception_only, running_compiled_code)\u001b[0m\n\u001b[0;32m   2043\u001b[0m                         \u001b[1;31m# in the engines. This should return a list of strings.\u001b[0m\u001b[1;33m\u001b[0m\u001b[1;33m\u001b[0m\u001b[1;33m\u001b[0m\u001b[0m\n\u001b[1;32m-> 2044\u001b[1;33m                         \u001b[0mstb\u001b[0m \u001b[1;33m=\u001b[0m \u001b[0mvalue\u001b[0m\u001b[1;33m.\u001b[0m\u001b[0m_render_traceback_\u001b[0m\u001b[1;33m(\u001b[0m\u001b[1;33m)\u001b[0m\u001b[1;33m\u001b[0m\u001b[1;33m\u001b[0m\u001b[0m\n\u001b[0m\u001b[0;32m   2045\u001b[0m                     \u001b[1;32mexcept\u001b[0m \u001b[0mException\u001b[0m\u001b[1;33m:\u001b[0m\u001b[1;33m\u001b[0m\u001b[1;33m\u001b[0m\u001b[0m\n",
      "\u001b[1;31mAttributeError\u001b[0m: 'KeyboardInterrupt' object has no attribute '_render_traceback_'",
      "\nDuring handling of the above exception, another exception occurred:\n",
      "\u001b[1;31mTypeError\u001b[0m                                 Traceback (most recent call last)",
      "    \u001b[1;31m[... skipping hidden 1 frame]\u001b[0m\n",
      "\u001b[1;32m~\\Anaconda3\\lib\\site-packages\\IPython\\core\\interactiveshell.py\u001b[0m in \u001b[0;36mshowtraceback\u001b[1;34m(self, exc_tuple, filename, tb_offset, exception_only, running_compiled_code)\u001b[0m\n\u001b[0;32m   2045\u001b[0m                     \u001b[1;32mexcept\u001b[0m \u001b[0mException\u001b[0m\u001b[1;33m:\u001b[0m\u001b[1;33m\u001b[0m\u001b[1;33m\u001b[0m\u001b[0m\n\u001b[0;32m   2046\u001b[0m                         stb = self.InteractiveTB.structured_traceback(etype,\n\u001b[1;32m-> 2047\u001b[1;33m                                             value, tb, tb_offset=tb_offset)\n\u001b[0m\u001b[0;32m   2048\u001b[0m \u001b[1;33m\u001b[0m\u001b[0m\n\u001b[0;32m   2049\u001b[0m                     \u001b[0mself\u001b[0m\u001b[1;33m.\u001b[0m\u001b[0m_showtraceback\u001b[0m\u001b[1;33m(\u001b[0m\u001b[0metype\u001b[0m\u001b[1;33m,\u001b[0m \u001b[0mvalue\u001b[0m\u001b[1;33m,\u001b[0m \u001b[0mstb\u001b[0m\u001b[1;33m)\u001b[0m\u001b[1;33m\u001b[0m\u001b[1;33m\u001b[0m\u001b[0m\n",
      "\u001b[1;32m~\\Anaconda3\\lib\\site-packages\\IPython\\core\\ultratb.py\u001b[0m in \u001b[0;36mstructured_traceback\u001b[1;34m(self, etype, value, tb, tb_offset, number_of_lines_of_context)\u001b[0m\n\u001b[0;32m   1434\u001b[0m             \u001b[0mself\u001b[0m\u001b[1;33m.\u001b[0m\u001b[0mtb\u001b[0m \u001b[1;33m=\u001b[0m \u001b[0mtb\u001b[0m\u001b[1;33m\u001b[0m\u001b[1;33m\u001b[0m\u001b[0m\n\u001b[0;32m   1435\u001b[0m         return FormattedTB.structured_traceback(\n\u001b[1;32m-> 1436\u001b[1;33m             self, etype, value, tb, tb_offset, number_of_lines_of_context)\n\u001b[0m\u001b[0;32m   1437\u001b[0m \u001b[1;33m\u001b[0m\u001b[0m\n\u001b[0;32m   1438\u001b[0m \u001b[1;33m\u001b[0m\u001b[0m\n",
      "\u001b[1;32m~\\Anaconda3\\lib\\site-packages\\IPython\\core\\ultratb.py\u001b[0m in \u001b[0;36mstructured_traceback\u001b[1;34m(self, etype, value, tb, tb_offset, number_of_lines_of_context)\u001b[0m\n\u001b[0;32m   1334\u001b[0m             \u001b[1;31m# Verbose modes need a full traceback\u001b[0m\u001b[1;33m\u001b[0m\u001b[1;33m\u001b[0m\u001b[1;33m\u001b[0m\u001b[0m\n\u001b[0;32m   1335\u001b[0m             return VerboseTB.structured_traceback(\n\u001b[1;32m-> 1336\u001b[1;33m                 \u001b[0mself\u001b[0m\u001b[1;33m,\u001b[0m \u001b[0metype\u001b[0m\u001b[1;33m,\u001b[0m \u001b[0mvalue\u001b[0m\u001b[1;33m,\u001b[0m \u001b[0mtb\u001b[0m\u001b[1;33m,\u001b[0m \u001b[0mtb_offset\u001b[0m\u001b[1;33m,\u001b[0m \u001b[0mnumber_of_lines_of_context\u001b[0m\u001b[1;33m\u001b[0m\u001b[1;33m\u001b[0m\u001b[0m\n\u001b[0m\u001b[0;32m   1337\u001b[0m             )\n\u001b[0;32m   1338\u001b[0m         \u001b[1;32melif\u001b[0m \u001b[0mmode\u001b[0m \u001b[1;33m==\u001b[0m \u001b[1;34m'Minimal'\u001b[0m\u001b[1;33m:\u001b[0m\u001b[1;33m\u001b[0m\u001b[1;33m\u001b[0m\u001b[0m\n",
      "\u001b[1;32m~\\Anaconda3\\lib\\site-packages\\IPython\\core\\ultratb.py\u001b[0m in \u001b[0;36mstructured_traceback\u001b[1;34m(self, etype, evalue, etb, tb_offset, number_of_lines_of_context)\u001b[0m\n\u001b[0;32m   1191\u001b[0m \u001b[1;33m\u001b[0m\u001b[0m\n\u001b[0;32m   1192\u001b[0m         formatted_exception = self.format_exception_as_a_whole(etype, evalue, etb, number_of_lines_of_context,\n\u001b[1;32m-> 1193\u001b[1;33m                                                                tb_offset)\n\u001b[0m\u001b[0;32m   1194\u001b[0m \u001b[1;33m\u001b[0m\u001b[0m\n\u001b[0;32m   1195\u001b[0m         \u001b[0mcolors\u001b[0m \u001b[1;33m=\u001b[0m \u001b[0mself\u001b[0m\u001b[1;33m.\u001b[0m\u001b[0mColors\u001b[0m  \u001b[1;31m# just a shorthand + quicker name lookup\u001b[0m\u001b[1;33m\u001b[0m\u001b[1;33m\u001b[0m\u001b[0m\n",
      "\u001b[1;32m~\\Anaconda3\\lib\\site-packages\\IPython\\core\\ultratb.py\u001b[0m in \u001b[0;36mformat_exception_as_a_whole\u001b[1;34m(self, etype, evalue, etb, number_of_lines_of_context, tb_offset)\u001b[0m\n\u001b[0;32m   1148\u001b[0m \u001b[1;33m\u001b[0m\u001b[0m\n\u001b[0;32m   1149\u001b[0m \u001b[1;33m\u001b[0m\u001b[0m\n\u001b[1;32m-> 1150\u001b[1;33m         \u001b[0mlast_unique\u001b[0m\u001b[1;33m,\u001b[0m \u001b[0mrecursion_repeat\u001b[0m \u001b[1;33m=\u001b[0m \u001b[0mfind_recursion\u001b[0m\u001b[1;33m(\u001b[0m\u001b[0morig_etype\u001b[0m\u001b[1;33m,\u001b[0m \u001b[0mevalue\u001b[0m\u001b[1;33m,\u001b[0m \u001b[0mrecords\u001b[0m\u001b[1;33m)\u001b[0m\u001b[1;33m\u001b[0m\u001b[1;33m\u001b[0m\u001b[0m\n\u001b[0m\u001b[0;32m   1151\u001b[0m \u001b[1;33m\u001b[0m\u001b[0m\n\u001b[0;32m   1152\u001b[0m         \u001b[0mframes\u001b[0m \u001b[1;33m=\u001b[0m \u001b[0mself\u001b[0m\u001b[1;33m.\u001b[0m\u001b[0mformat_records\u001b[0m\u001b[1;33m(\u001b[0m\u001b[0mrecords\u001b[0m\u001b[1;33m,\u001b[0m \u001b[0mlast_unique\u001b[0m\u001b[1;33m,\u001b[0m \u001b[0mrecursion_repeat\u001b[0m\u001b[1;33m)\u001b[0m\u001b[1;33m\u001b[0m\u001b[1;33m\u001b[0m\u001b[0m\n",
      "\u001b[1;32m~\\Anaconda3\\lib\\site-packages\\IPython\\core\\ultratb.py\u001b[0m in \u001b[0;36mfind_recursion\u001b[1;34m(etype, value, records)\u001b[0m\n\u001b[0;32m    449\u001b[0m     \u001b[1;31m# first frame (from in to out) that looks different.\u001b[0m\u001b[1;33m\u001b[0m\u001b[1;33m\u001b[0m\u001b[1;33m\u001b[0m\u001b[0m\n\u001b[0;32m    450\u001b[0m     \u001b[1;32mif\u001b[0m \u001b[1;32mnot\u001b[0m \u001b[0mis_recursion_error\u001b[0m\u001b[1;33m(\u001b[0m\u001b[0metype\u001b[0m\u001b[1;33m,\u001b[0m \u001b[0mvalue\u001b[0m\u001b[1;33m,\u001b[0m \u001b[0mrecords\u001b[0m\u001b[1;33m)\u001b[0m\u001b[1;33m:\u001b[0m\u001b[1;33m\u001b[0m\u001b[1;33m\u001b[0m\u001b[0m\n\u001b[1;32m--> 451\u001b[1;33m         \u001b[1;32mreturn\u001b[0m \u001b[0mlen\u001b[0m\u001b[1;33m(\u001b[0m\u001b[0mrecords\u001b[0m\u001b[1;33m)\u001b[0m\u001b[1;33m,\u001b[0m \u001b[1;36m0\u001b[0m\u001b[1;33m\u001b[0m\u001b[1;33m\u001b[0m\u001b[0m\n\u001b[0m\u001b[0;32m    452\u001b[0m \u001b[1;33m\u001b[0m\u001b[0m\n\u001b[0;32m    453\u001b[0m     \u001b[1;31m# Select filename, lineno, func_name to track frames with\u001b[0m\u001b[1;33m\u001b[0m\u001b[1;33m\u001b[0m\u001b[1;33m\u001b[0m\u001b[0m\n",
      "\u001b[1;31mTypeError\u001b[0m: object of type 'NoneType' has no len()"
     ]
    }
   ],
   "source": [
    "#THEN: refine the parameters\n",
    "#Info: https://catboost.ai/docs/concepts/python-reference_parameters-list.html\n",
    "x1 = df_cleaning[df_cleaning['VideoAnalyse']==1].shape[0]\n",
    "x0 = df_cleaning[df_cleaning['VideoAnalyse']==0].shape[0]\n",
    "print(x1/x0)\n",
    "P = {'n_estimators': range(600,2000,300), #the more trees you add, the higher the risk of overfitting!! default:1000!\n",
    "     'l2_leaf_reg': range(1,5),#default is 3\n",
    "     'loss_function': ['Logloss'], #for binary classification\n",
    "     'max_depth': range(4,15,1), #if to big: risk of overfitting default=6\n",
    "     'min_data_in_leaf': range(1,3), #The minimum number of training samples in a leaf (equivalent to min_samples_leaf). default 1\n",
    "     'class_weights': [{0:1, 1:1}, {0:x1/x0, 1:1}], #multiply the weight of object of class 0 by 1 and the object of class 1 by 0.2\n",
    "     'od_pval': [x for x in np.linspace(start = 10**-10, stop = 10**-2, num = 4)], #The larger the value, the earlier overfitting is detected., defualt=0, but it is recommanded to be tested for these range\n",
    "     'od_wait':[10]#, #instead of the default 20 :Ignore the overfitting detector when the threshold is reached and continue learning for the specified number of iterations after the iteration with the optimal metric value.\n",
    "     #'use_best_model':[True]\n",
    "    }\n",
    "mod = GridSearchCV(estimator = CatBoostClassifier(), param_grid = P, cv = 3, n_jobs = -1, verbose = 2) \n",
    "eval_dataset = Pool(X_val,y_val)\n",
    "mod.fit(X_train, y_train) #, eval_set=eval_dataset, verbose=False)\n",
    "mod_final = mod.best_estimator_\n",
    "mod_final.fit(X_train, y_train, eval_set=eval_dataset, verbose=False)\n",
    "display(mod_final.get_params())"
   ]
  },
  {
   "cell_type": "code",
   "execution_count": null,
   "metadata": {},
   "outputs": [],
   "source": []
  },
  {
   "cell_type": "code",
   "execution_count": 25,
   "metadata": {},
   "outputs": [
    {
     "name": "stdout",
     "output_type": "stream",
     "text": [
      "3.8195364238410594\n",
      "Fitting 3 folds for each of 166320 candidates, totalling 498960 fits\n"
     ]
    },
    {
     "name": "stderr",
     "output_type": "stream",
     "text": [
      "[Parallel(n_jobs=-1)]: Using backend LokyBackend with 8 concurrent workers.\n"
     ]
    },
    {
     "ename": "PicklingError",
     "evalue": "Could not pickle the task to send it to the workers.",
     "output_type": "error",
     "traceback": [
      "\u001b[1;31m---------------------------------------------------------------------------\u001b[0m",
      "\u001b[1;31m_RemoteTraceback\u001b[0m                          Traceback (most recent call last)",
      "\u001b[1;31m_RemoteTraceback\u001b[0m: \n\"\"\"\nTraceback (most recent call last):\n  File \"C:\\Users\\camil\\Anaconda3\\lib\\site-packages\\joblib\\externals\\loky\\backend\\queues.py\", line 150, in _feed\n    obj_ = dumps(obj, reducers=reducers)\n  File \"C:\\Users\\camil\\Anaconda3\\lib\\site-packages\\joblib\\externals\\loky\\backend\\reduction.py\", line 247, in dumps\n    dump(obj, buf, reducers=reducers, protocol=protocol)\n  File \"C:\\Users\\camil\\Anaconda3\\lib\\site-packages\\joblib\\externals\\loky\\backend\\reduction.py\", line 240, in dump\n    _LokyPickler(file, reducers=reducers, protocol=protocol).dump(obj)\n  File \"C:\\Users\\camil\\Anaconda3\\lib\\site-packages\\joblib\\externals\\cloudpickle\\cloudpickle.py\", line 477, in dump\n    return Pickler.dump(self, obj)\n  File \"C:\\Users\\camil\\Anaconda3\\lib\\pickle.py\", line 409, in dump\n    self.save(obj)\n  File \"C:\\Users\\camil\\Anaconda3\\lib\\pickle.py\", line 521, in save\n    self.save_reduce(obj=obj, *rv)\n  File \"C:\\Users\\camil\\Anaconda3\\lib\\pickle.py\", line 634, in save_reduce\n    save(state)\n  File \"C:\\Users\\camil\\Anaconda3\\lib\\pickle.py\", line 476, in save\n    f(self, obj) # Call unbound method with explicit self\n  File \"C:\\Users\\camil\\Anaconda3\\lib\\pickle.py\", line 821, in save_dict\n    self._batch_setitems(obj.items())\n  File \"C:\\Users\\camil\\Anaconda3\\lib\\pickle.py\", line 847, in _batch_setitems\n    save(v)\n  File \"C:\\Users\\camil\\Anaconda3\\lib\\pickle.py\", line 521, in save\n    self.save_reduce(obj=obj, *rv)\n  File \"C:\\Users\\camil\\Anaconda3\\lib\\pickle.py\", line 634, in save_reduce\n    save(state)\n  File \"C:\\Users\\camil\\Anaconda3\\lib\\pickle.py\", line 476, in save\n    f(self, obj) # Call unbound method with explicit self\n  File \"C:\\Users\\camil\\Anaconda3\\lib\\pickle.py\", line 821, in save_dict\n    self._batch_setitems(obj.items())\n  File \"C:\\Users\\camil\\Anaconda3\\lib\\pickle.py\", line 852, in _batch_setitems\n    save(v)\n  File \"C:\\Users\\camil\\Anaconda3\\lib\\pickle.py\", line 521, in save\n    self.save_reduce(obj=obj, *rv)\n  File \"C:\\Users\\camil\\Anaconda3\\lib\\pickle.py\", line 610, in save_reduce\n    save(args)\n  File \"C:\\Users\\camil\\Anaconda3\\lib\\pickle.py\", line 476, in save\n    f(self, obj) # Call unbound method with explicit self\n  File \"C:\\Users\\camil\\Anaconda3\\lib\\pickle.py\", line 751, in save_tuple\n    save(element)\n  File \"C:\\Users\\camil\\Anaconda3\\lib\\pickle.py\", line 476, in save\n    f(self, obj) # Call unbound method with explicit self\n  File \"C:\\Users\\camil\\Anaconda3\\lib\\pickle.py\", line 781, in save_list\n    self._batch_appends(obj)\n  File \"C:\\Users\\camil\\Anaconda3\\lib\\pickle.py\", line 808, in _batch_appends\n    save(tmp[0])\n  File \"C:\\Users\\camil\\Anaconda3\\lib\\pickle.py\", line 476, in save\n    f(self, obj) # Call unbound method with explicit self\n  File \"C:\\Users\\camil\\Anaconda3\\lib\\pickle.py\", line 736, in save_tuple\n    save(element)\n  File \"C:\\Users\\camil\\Anaconda3\\lib\\pickle.py\", line 476, in save\n    f(self, obj) # Call unbound method with explicit self\n  File \"C:\\Users\\camil\\Anaconda3\\lib\\pickle.py\", line 821, in save_dict\n    self._batch_setitems(obj.items())\n  File \"C:\\Users\\camil\\Anaconda3\\lib\\pickle.py\", line 847, in _batch_setitems\n    save(v)\n  File \"C:\\Users\\camil\\Anaconda3\\lib\\pickle.py\", line 476, in save\n    f(self, obj) # Call unbound method with explicit self\n  File \"C:\\Users\\camil\\Anaconda3\\lib\\pickle.py\", line 821, in save_dict\n    self._batch_setitems(obj.items())\n  File \"C:\\Users\\camil\\Anaconda3\\lib\\pickle.py\", line 847, in _batch_setitems\n    save(v)\n  File \"C:\\Users\\camil\\Anaconda3\\lib\\pickle.py\", line 496, in save\n    rv = reduce(self.proto)\n  File \"stringsource\", line 2, in _catboost._PoolBase.__reduce_cython__\nTypeError: no default __reduce__ due to non-trivial __cinit__\n\"\"\"",
      "\nThe above exception was the direct cause of the following exception:\n",
      "\u001b[1;31mPicklingError\u001b[0m                             Traceback (most recent call last)",
      "\u001b[1;32m<ipython-input-25-435a688d4d2b>\u001b[0m in \u001b[0;36m<module>\u001b[1;34m\u001b[0m\n\u001b[0;32m     16\u001b[0m \u001b[0mmod\u001b[0m \u001b[1;33m=\u001b[0m \u001b[0mGridSearchCV\u001b[0m\u001b[1;33m(\u001b[0m\u001b[0mestimator\u001b[0m \u001b[1;33m=\u001b[0m \u001b[0mCatBoostClassifier\u001b[0m\u001b[1;33m(\u001b[0m\u001b[1;33m)\u001b[0m\u001b[1;33m,\u001b[0m \u001b[0mparam_grid\u001b[0m \u001b[1;33m=\u001b[0m \u001b[0mP\u001b[0m\u001b[1;33m,\u001b[0m \u001b[0mcv\u001b[0m \u001b[1;33m=\u001b[0m \u001b[1;36m3\u001b[0m\u001b[1;33m,\u001b[0m \u001b[0mn_jobs\u001b[0m \u001b[1;33m=\u001b[0m \u001b[1;33m-\u001b[0m\u001b[1;36m1\u001b[0m\u001b[1;33m,\u001b[0m \u001b[0mverbose\u001b[0m \u001b[1;33m=\u001b[0m \u001b[1;36m2\u001b[0m\u001b[1;33m)\u001b[0m\u001b[1;33m\u001b[0m\u001b[1;33m\u001b[0m\u001b[0m\n\u001b[0;32m     17\u001b[0m \u001b[0meval_dataset\u001b[0m \u001b[1;33m=\u001b[0m \u001b[0mPool\u001b[0m\u001b[1;33m(\u001b[0m\u001b[0mX_val\u001b[0m\u001b[1;33m,\u001b[0m\u001b[0my_val\u001b[0m\u001b[1;33m)\u001b[0m\u001b[1;33m\u001b[0m\u001b[1;33m\u001b[0m\u001b[0m\n\u001b[1;32m---> 18\u001b[1;33m \u001b[0mmod\u001b[0m\u001b[1;33m.\u001b[0m\u001b[0mfit\u001b[0m\u001b[1;33m(\u001b[0m\u001b[0mX_train\u001b[0m\u001b[1;33m,\u001b[0m \u001b[0my_train\u001b[0m\u001b[1;33m,\u001b[0m \u001b[0meval_set\u001b[0m\u001b[1;33m=\u001b[0m\u001b[0meval_dataset\u001b[0m\u001b[1;33m,\u001b[0m \u001b[0mverbose\u001b[0m\u001b[1;33m=\u001b[0m\u001b[1;32mFalse\u001b[0m\u001b[1;33m)\u001b[0m\u001b[1;33m\u001b[0m\u001b[1;33m\u001b[0m\u001b[0m\n\u001b[0m\u001b[0;32m     19\u001b[0m \u001b[0mmod_final\u001b[0m \u001b[1;33m=\u001b[0m \u001b[0mmod\u001b[0m\u001b[1;33m.\u001b[0m\u001b[0mbest_estimator_\u001b[0m\u001b[1;33m\u001b[0m\u001b[1;33m\u001b[0m\u001b[0m\n\u001b[0;32m     20\u001b[0m \u001b[0mmod_final\u001b[0m\u001b[1;33m.\u001b[0m\u001b[0mfit\u001b[0m\u001b[1;33m(\u001b[0m\u001b[0mX_train\u001b[0m\u001b[1;33m,\u001b[0m \u001b[0my_train\u001b[0m\u001b[1;33m,\u001b[0m \u001b[0meval_set\u001b[0m\u001b[1;33m=\u001b[0m\u001b[0meval_dataset\u001b[0m\u001b[1;33m,\u001b[0m \u001b[0mverbose\u001b[0m\u001b[1;33m=\u001b[0m\u001b[1;32mFalse\u001b[0m\u001b[1;33m)\u001b[0m\u001b[1;33m\u001b[0m\u001b[1;33m\u001b[0m\u001b[0m\n",
      "\u001b[1;32m~\\Anaconda3\\lib\\site-packages\\sklearn\\utils\\validation.py\u001b[0m in \u001b[0;36minner_f\u001b[1;34m(*args, **kwargs)\u001b[0m\n\u001b[0;32m     70\u001b[0m                           FutureWarning)\n\u001b[0;32m     71\u001b[0m         \u001b[0mkwargs\u001b[0m\u001b[1;33m.\u001b[0m\u001b[0mupdate\u001b[0m\u001b[1;33m(\u001b[0m\u001b[1;33m{\u001b[0m\u001b[0mk\u001b[0m\u001b[1;33m:\u001b[0m \u001b[0marg\u001b[0m \u001b[1;32mfor\u001b[0m \u001b[0mk\u001b[0m\u001b[1;33m,\u001b[0m \u001b[0marg\u001b[0m \u001b[1;32min\u001b[0m \u001b[0mzip\u001b[0m\u001b[1;33m(\u001b[0m\u001b[0msig\u001b[0m\u001b[1;33m.\u001b[0m\u001b[0mparameters\u001b[0m\u001b[1;33m,\u001b[0m \u001b[0margs\u001b[0m\u001b[1;33m)\u001b[0m\u001b[1;33m}\u001b[0m\u001b[1;33m)\u001b[0m\u001b[1;33m\u001b[0m\u001b[1;33m\u001b[0m\u001b[0m\n\u001b[1;32m---> 72\u001b[1;33m         \u001b[1;32mreturn\u001b[0m \u001b[0mf\u001b[0m\u001b[1;33m(\u001b[0m\u001b[1;33m**\u001b[0m\u001b[0mkwargs\u001b[0m\u001b[1;33m)\u001b[0m\u001b[1;33m\u001b[0m\u001b[1;33m\u001b[0m\u001b[0m\n\u001b[0m\u001b[0;32m     73\u001b[0m     \u001b[1;32mreturn\u001b[0m \u001b[0minner_f\u001b[0m\u001b[1;33m\u001b[0m\u001b[1;33m\u001b[0m\u001b[0m\n\u001b[0;32m     74\u001b[0m \u001b[1;33m\u001b[0m\u001b[0m\n",
      "\u001b[1;32m~\\Anaconda3\\lib\\site-packages\\sklearn\\model_selection\\_search.py\u001b[0m in \u001b[0;36mfit\u001b[1;34m(self, X, y, groups, **fit_params)\u001b[0m\n\u001b[0;32m    734\u001b[0m                 \u001b[1;32mreturn\u001b[0m \u001b[0mresults\u001b[0m\u001b[1;33m\u001b[0m\u001b[1;33m\u001b[0m\u001b[0m\n\u001b[0;32m    735\u001b[0m \u001b[1;33m\u001b[0m\u001b[0m\n\u001b[1;32m--> 736\u001b[1;33m             \u001b[0mself\u001b[0m\u001b[1;33m.\u001b[0m\u001b[0m_run_search\u001b[0m\u001b[1;33m(\u001b[0m\u001b[0mevaluate_candidates\u001b[0m\u001b[1;33m)\u001b[0m\u001b[1;33m\u001b[0m\u001b[1;33m\u001b[0m\u001b[0m\n\u001b[0m\u001b[0;32m    737\u001b[0m \u001b[1;33m\u001b[0m\u001b[0m\n\u001b[0;32m    738\u001b[0m         \u001b[1;31m# For multi-metric evaluation, store the best_index_, best_params_ and\u001b[0m\u001b[1;33m\u001b[0m\u001b[1;33m\u001b[0m\u001b[1;33m\u001b[0m\u001b[0m\n",
      "\u001b[1;32m~\\Anaconda3\\lib\\site-packages\\sklearn\\model_selection\\_search.py\u001b[0m in \u001b[0;36m_run_search\u001b[1;34m(self, evaluate_candidates)\u001b[0m\n\u001b[0;32m   1186\u001b[0m     \u001b[1;32mdef\u001b[0m \u001b[0m_run_search\u001b[0m\u001b[1;33m(\u001b[0m\u001b[0mself\u001b[0m\u001b[1;33m,\u001b[0m \u001b[0mevaluate_candidates\u001b[0m\u001b[1;33m)\u001b[0m\u001b[1;33m:\u001b[0m\u001b[1;33m\u001b[0m\u001b[1;33m\u001b[0m\u001b[0m\n\u001b[0;32m   1187\u001b[0m         \u001b[1;34m\"\"\"Search all candidates in param_grid\"\"\"\u001b[0m\u001b[1;33m\u001b[0m\u001b[1;33m\u001b[0m\u001b[0m\n\u001b[1;32m-> 1188\u001b[1;33m         \u001b[0mevaluate_candidates\u001b[0m\u001b[1;33m(\u001b[0m\u001b[0mParameterGrid\u001b[0m\u001b[1;33m(\u001b[0m\u001b[0mself\u001b[0m\u001b[1;33m.\u001b[0m\u001b[0mparam_grid\u001b[0m\u001b[1;33m)\u001b[0m\u001b[1;33m)\u001b[0m\u001b[1;33m\u001b[0m\u001b[1;33m\u001b[0m\u001b[0m\n\u001b[0m\u001b[0;32m   1189\u001b[0m \u001b[1;33m\u001b[0m\u001b[0m\n\u001b[0;32m   1190\u001b[0m \u001b[1;33m\u001b[0m\u001b[0m\n",
      "\u001b[1;32m~\\Anaconda3\\lib\\site-packages\\sklearn\\model_selection\\_search.py\u001b[0m in \u001b[0;36mevaluate_candidates\u001b[1;34m(candidate_params)\u001b[0m\n\u001b[0;32m    713\u001b[0m                                \u001b[1;32mfor\u001b[0m \u001b[0mparameters\u001b[0m\u001b[1;33m,\u001b[0m \u001b[1;33m(\u001b[0m\u001b[0mtrain\u001b[0m\u001b[1;33m,\u001b[0m \u001b[0mtest\u001b[0m\u001b[1;33m)\u001b[0m\u001b[1;33m\u001b[0m\u001b[1;33m\u001b[0m\u001b[0m\n\u001b[0;32m    714\u001b[0m                                in product(candidate_params,\n\u001b[1;32m--> 715\u001b[1;33m                                           cv.split(X, y, groups)))\n\u001b[0m\u001b[0;32m    716\u001b[0m \u001b[1;33m\u001b[0m\u001b[0m\n\u001b[0;32m    717\u001b[0m                 \u001b[1;32mif\u001b[0m \u001b[0mlen\u001b[0m\u001b[1;33m(\u001b[0m\u001b[0mout\u001b[0m\u001b[1;33m)\u001b[0m \u001b[1;33m<\u001b[0m \u001b[1;36m1\u001b[0m\u001b[1;33m:\u001b[0m\u001b[1;33m\u001b[0m\u001b[1;33m\u001b[0m\u001b[0m\n",
      "\u001b[1;32m~\\Anaconda3\\lib\\site-packages\\joblib\\parallel.py\u001b[0m in \u001b[0;36m__call__\u001b[1;34m(self, iterable)\u001b[0m\n\u001b[0;32m   1040\u001b[0m \u001b[1;33m\u001b[0m\u001b[0m\n\u001b[0;32m   1041\u001b[0m             \u001b[1;32mwith\u001b[0m \u001b[0mself\u001b[0m\u001b[1;33m.\u001b[0m\u001b[0m_backend\u001b[0m\u001b[1;33m.\u001b[0m\u001b[0mretrieval_context\u001b[0m\u001b[1;33m(\u001b[0m\u001b[1;33m)\u001b[0m\u001b[1;33m:\u001b[0m\u001b[1;33m\u001b[0m\u001b[1;33m\u001b[0m\u001b[0m\n\u001b[1;32m-> 1042\u001b[1;33m                 \u001b[0mself\u001b[0m\u001b[1;33m.\u001b[0m\u001b[0mretrieve\u001b[0m\u001b[1;33m(\u001b[0m\u001b[1;33m)\u001b[0m\u001b[1;33m\u001b[0m\u001b[1;33m\u001b[0m\u001b[0m\n\u001b[0m\u001b[0;32m   1043\u001b[0m             \u001b[1;31m# Make sure that we get a last message telling us we are done\u001b[0m\u001b[1;33m\u001b[0m\u001b[1;33m\u001b[0m\u001b[1;33m\u001b[0m\u001b[0m\n\u001b[0;32m   1044\u001b[0m             \u001b[0melapsed_time\u001b[0m \u001b[1;33m=\u001b[0m \u001b[0mtime\u001b[0m\u001b[1;33m.\u001b[0m\u001b[0mtime\u001b[0m\u001b[1;33m(\u001b[0m\u001b[1;33m)\u001b[0m \u001b[1;33m-\u001b[0m \u001b[0mself\u001b[0m\u001b[1;33m.\u001b[0m\u001b[0m_start_time\u001b[0m\u001b[1;33m\u001b[0m\u001b[1;33m\u001b[0m\u001b[0m\n",
      "\u001b[1;32m~\\Anaconda3\\lib\\site-packages\\joblib\\parallel.py\u001b[0m in \u001b[0;36mretrieve\u001b[1;34m(self)\u001b[0m\n\u001b[0;32m    919\u001b[0m             \u001b[1;32mtry\u001b[0m\u001b[1;33m:\u001b[0m\u001b[1;33m\u001b[0m\u001b[1;33m\u001b[0m\u001b[0m\n\u001b[0;32m    920\u001b[0m                 \u001b[1;32mif\u001b[0m \u001b[0mgetattr\u001b[0m\u001b[1;33m(\u001b[0m\u001b[0mself\u001b[0m\u001b[1;33m.\u001b[0m\u001b[0m_backend\u001b[0m\u001b[1;33m,\u001b[0m \u001b[1;34m'supports_timeout'\u001b[0m\u001b[1;33m,\u001b[0m \u001b[1;32mFalse\u001b[0m\u001b[1;33m)\u001b[0m\u001b[1;33m:\u001b[0m\u001b[1;33m\u001b[0m\u001b[1;33m\u001b[0m\u001b[0m\n\u001b[1;32m--> 921\u001b[1;33m                     \u001b[0mself\u001b[0m\u001b[1;33m.\u001b[0m\u001b[0m_output\u001b[0m\u001b[1;33m.\u001b[0m\u001b[0mextend\u001b[0m\u001b[1;33m(\u001b[0m\u001b[0mjob\u001b[0m\u001b[1;33m.\u001b[0m\u001b[0mget\u001b[0m\u001b[1;33m(\u001b[0m\u001b[0mtimeout\u001b[0m\u001b[1;33m=\u001b[0m\u001b[0mself\u001b[0m\u001b[1;33m.\u001b[0m\u001b[0mtimeout\u001b[0m\u001b[1;33m)\u001b[0m\u001b[1;33m)\u001b[0m\u001b[1;33m\u001b[0m\u001b[1;33m\u001b[0m\u001b[0m\n\u001b[0m\u001b[0;32m    922\u001b[0m                 \u001b[1;32melse\u001b[0m\u001b[1;33m:\u001b[0m\u001b[1;33m\u001b[0m\u001b[1;33m\u001b[0m\u001b[0m\n\u001b[0;32m    923\u001b[0m                     \u001b[0mself\u001b[0m\u001b[1;33m.\u001b[0m\u001b[0m_output\u001b[0m\u001b[1;33m.\u001b[0m\u001b[0mextend\u001b[0m\u001b[1;33m(\u001b[0m\u001b[0mjob\u001b[0m\u001b[1;33m.\u001b[0m\u001b[0mget\u001b[0m\u001b[1;33m(\u001b[0m\u001b[1;33m)\u001b[0m\u001b[1;33m)\u001b[0m\u001b[1;33m\u001b[0m\u001b[1;33m\u001b[0m\u001b[0m\n",
      "\u001b[1;32m~\\Anaconda3\\lib\\site-packages\\joblib\\_parallel_backends.py\u001b[0m in \u001b[0;36mwrap_future_result\u001b[1;34m(future, timeout)\u001b[0m\n\u001b[0;32m    540\u001b[0m         AsyncResults.get from multiprocessing.\"\"\"\n\u001b[0;32m    541\u001b[0m         \u001b[1;32mtry\u001b[0m\u001b[1;33m:\u001b[0m\u001b[1;33m\u001b[0m\u001b[1;33m\u001b[0m\u001b[0m\n\u001b[1;32m--> 542\u001b[1;33m             \u001b[1;32mreturn\u001b[0m \u001b[0mfuture\u001b[0m\u001b[1;33m.\u001b[0m\u001b[0mresult\u001b[0m\u001b[1;33m(\u001b[0m\u001b[0mtimeout\u001b[0m\u001b[1;33m=\u001b[0m\u001b[0mtimeout\u001b[0m\u001b[1;33m)\u001b[0m\u001b[1;33m\u001b[0m\u001b[1;33m\u001b[0m\u001b[0m\n\u001b[0m\u001b[0;32m    543\u001b[0m         \u001b[1;32mexcept\u001b[0m \u001b[0mCfTimeoutError\u001b[0m \u001b[1;32mas\u001b[0m \u001b[0me\u001b[0m\u001b[1;33m:\u001b[0m\u001b[1;33m\u001b[0m\u001b[1;33m\u001b[0m\u001b[0m\n\u001b[0;32m    544\u001b[0m             \u001b[1;32mraise\u001b[0m \u001b[0mTimeoutError\u001b[0m \u001b[1;32mfrom\u001b[0m \u001b[0me\u001b[0m\u001b[1;33m\u001b[0m\u001b[1;33m\u001b[0m\u001b[0m\n",
      "\u001b[1;32m~\\Anaconda3\\lib\\concurrent\\futures\\_base.py\u001b[0m in \u001b[0;36mresult\u001b[1;34m(self, timeout)\u001b[0m\n\u001b[0;32m    430\u001b[0m                 \u001b[1;32mraise\u001b[0m \u001b[0mCancelledError\u001b[0m\u001b[1;33m(\u001b[0m\u001b[1;33m)\u001b[0m\u001b[1;33m\u001b[0m\u001b[1;33m\u001b[0m\u001b[0m\n\u001b[0;32m    431\u001b[0m             \u001b[1;32melif\u001b[0m \u001b[0mself\u001b[0m\u001b[1;33m.\u001b[0m\u001b[0m_state\u001b[0m \u001b[1;33m==\u001b[0m \u001b[0mFINISHED\u001b[0m\u001b[1;33m:\u001b[0m\u001b[1;33m\u001b[0m\u001b[1;33m\u001b[0m\u001b[0m\n\u001b[1;32m--> 432\u001b[1;33m                 \u001b[1;32mreturn\u001b[0m \u001b[0mself\u001b[0m\u001b[1;33m.\u001b[0m\u001b[0m__get_result\u001b[0m\u001b[1;33m(\u001b[0m\u001b[1;33m)\u001b[0m\u001b[1;33m\u001b[0m\u001b[1;33m\u001b[0m\u001b[0m\n\u001b[0m\u001b[0;32m    433\u001b[0m             \u001b[1;32melse\u001b[0m\u001b[1;33m:\u001b[0m\u001b[1;33m\u001b[0m\u001b[1;33m\u001b[0m\u001b[0m\n\u001b[0;32m    434\u001b[0m                 \u001b[1;32mraise\u001b[0m \u001b[0mTimeoutError\u001b[0m\u001b[1;33m(\u001b[0m\u001b[1;33m)\u001b[0m\u001b[1;33m\u001b[0m\u001b[1;33m\u001b[0m\u001b[0m\n",
      "\u001b[1;32m~\\Anaconda3\\lib\\concurrent\\futures\\_base.py\u001b[0m in \u001b[0;36m__get_result\u001b[1;34m(self)\u001b[0m\n\u001b[0;32m    382\u001b[0m     \u001b[1;32mdef\u001b[0m \u001b[0m__get_result\u001b[0m\u001b[1;33m(\u001b[0m\u001b[0mself\u001b[0m\u001b[1;33m)\u001b[0m\u001b[1;33m:\u001b[0m\u001b[1;33m\u001b[0m\u001b[1;33m\u001b[0m\u001b[0m\n\u001b[0;32m    383\u001b[0m         \u001b[1;32mif\u001b[0m \u001b[0mself\u001b[0m\u001b[1;33m.\u001b[0m\u001b[0m_exception\u001b[0m\u001b[1;33m:\u001b[0m\u001b[1;33m\u001b[0m\u001b[1;33m\u001b[0m\u001b[0m\n\u001b[1;32m--> 384\u001b[1;33m             \u001b[1;32mraise\u001b[0m \u001b[0mself\u001b[0m\u001b[1;33m.\u001b[0m\u001b[0m_exception\u001b[0m\u001b[1;33m\u001b[0m\u001b[1;33m\u001b[0m\u001b[0m\n\u001b[0m\u001b[0;32m    385\u001b[0m         \u001b[1;32melse\u001b[0m\u001b[1;33m:\u001b[0m\u001b[1;33m\u001b[0m\u001b[1;33m\u001b[0m\u001b[0m\n\u001b[0;32m    386\u001b[0m             \u001b[1;32mreturn\u001b[0m \u001b[0mself\u001b[0m\u001b[1;33m.\u001b[0m\u001b[0m_result\u001b[0m\u001b[1;33m\u001b[0m\u001b[1;33m\u001b[0m\u001b[0m\n",
      "\u001b[1;31mPicklingError\u001b[0m: Could not pickle the task to send it to the workers."
     ]
    }
   ],
   "source": [
    "#THEN: refine the parameters\n",
    "#Info: https://catboost.ai/docs/concepts/python-reference_parameters-list.html\n",
    "x1 = df_cleaning[df_cleaning['VideoAnalyse']==1].shape[0]\n",
    "x0 = df_cleaning[df_cleaning['VideoAnalyse']==0].shape[0]\n",
    "print(x1/x0)\n",
    "P = {'n_estimators': range(600,2000,100), #the more trees you add, the higher the risk of overfitting!! default:1000!\n",
    "     'l2_leaf_reg': range(1,10),#default is 3\n",
    "     'loss_function': ['Logloss'], #for binary classification\n",
    "     'max_depth': range(4,15,1), #if to big: risk of overfitting default=6\n",
    "     'min_data_in_leaf': range(1,7), #The minimum number of training samples in a leaf (equivalent to min_samples_leaf). default 1\n",
    "     'class_weights': [{'0':1, '1':1}, {'0':x1/x0, '1':1}], #multiply the weight of object of class 0 by 1 and the object of class 1 by 0.2\n",
    "     'od_pval': [x for x in np.linspace(start = 10**-10, stop = 10**-2, num = 10)], #The larger the value, the earlier overfitting is detected., defualt=0, but it is recommanded to be tested for these range\n",
    "     'od_wait':[10], #instead of the default 20 :Ignore the overfitting detector when the threshold is reached and continue learning for the specified number of iterations after the iteration with the optimal metric value.\n",
    "     'use_best_model':[True]\n",
    "    }\n",
    "mod = GridSearchCV(estimator = CatBoostClassifier(), param_grid = P, cv = 3, n_jobs = -1, verbose = 2) \n",
    "eval_dataset = Pool(X_val,y_val)\n",
    "mod.fit(X_train, y_train, eval_set=eval_dataset, verbose=False)\n",
    "mod_final = mod.best_estimator_\n",
    "mod_final.fit(X_train, y_train, eval_set=eval_dataset, verbose=False)\n",
    "display(mod_final.get_params())"
   ]
  },
  {
   "cell_type": "code",
   "execution_count": 60,
   "metadata": {},
   "outputs": [
    {
     "data": {
      "text/html": [
       "<div>\n",
       "<style scoped>\n",
       "    .dataframe tbody tr th:only-of-type {\n",
       "        vertical-align: middle;\n",
       "    }\n",
       "\n",
       "    .dataframe tbody tr th {\n",
       "        vertical-align: top;\n",
       "    }\n",
       "\n",
       "    .dataframe thead th {\n",
       "        text-align: right;\n",
       "    }\n",
       "</style>\n",
       "<table border=\"1\" class=\"dataframe\">\n",
       "  <thead>\n",
       "    <tr style=\"text-align: right;\">\n",
       "      <th></th>\n",
       "      <th>algo</th>\n",
       "      <th>model_param_used</th>\n",
       "      <th>accuracy_training</th>\n",
       "      <th>accuracy_validation</th>\n",
       "      <th>accuracy_testing</th>\n",
       "    </tr>\n",
       "  </thead>\n",
       "  <tbody>\n",
       "    <tr>\n",
       "      <th>0</th>\n",
       "      <td>Catboost</td>\n",
       "      <td>&lt;catboost.core.CatBoostClassifier object at 0x...</td>\n",
       "      <td>0.902</td>\n",
       "      <td>0.891</td>\n",
       "      <td>0.858</td>\n",
       "    </tr>\n",
       "    <tr>\n",
       "      <th>1</th>\n",
       "      <td>Catboost</td>\n",
       "      <td>&lt;catboost.core.CatBoostClassifier object at 0x...</td>\n",
       "      <td>0.966</td>\n",
       "      <td>0.956</td>\n",
       "      <td>0.940</td>\n",
       "    </tr>\n",
       "    <tr>\n",
       "      <th>2</th>\n",
       "      <td>Catboost</td>\n",
       "      <td>&lt;catboost.core.CatBoostClassifier object at 0x...</td>\n",
       "      <td>0.979</td>\n",
       "      <td>0.968</td>\n",
       "      <td>0.933</td>\n",
       "    </tr>\n",
       "    <tr>\n",
       "      <th>3</th>\n",
       "      <td>Catboost</td>\n",
       "      <td>&lt;catboost.core.CatBoostClassifier object at 0x...</td>\n",
       "      <td>0.986</td>\n",
       "      <td>0.967</td>\n",
       "      <td>0.940</td>\n",
       "    </tr>\n",
       "    <tr>\n",
       "      <th>4</th>\n",
       "      <td>GradientBoostingClassifier</td>\n",
       "      <td>&lt;catboost.core.CatBoostClassifier object at 0x...</td>\n",
       "      <td>0.986</td>\n",
       "      <td>0.967</td>\n",
       "      <td>0.940</td>\n",
       "    </tr>\n",
       "    <tr>\n",
       "      <th>5</th>\n",
       "      <td>GradientBoostingClassifier</td>\n",
       "      <td>([DecisionTreeRegressor(criterion='friedman_ms...</td>\n",
       "      <td>1.000</td>\n",
       "      <td>0.974</td>\n",
       "      <td>0.968</td>\n",
       "    </tr>\n",
       "    <tr>\n",
       "      <th>6</th>\n",
       "      <td>Catboost</td>\n",
       "      <td>&lt;catboost.core.CatBoostClassifier object at 0x...</td>\n",
       "      <td>0.981</td>\n",
       "      <td>0.966</td>\n",
       "      <td>0.940</td>\n",
       "    </tr>\n",
       "    <tr>\n",
       "      <th>7</th>\n",
       "      <td>Catboost</td>\n",
       "      <td>&lt;catboost.core.CatBoostClassifier object at 0x...</td>\n",
       "      <td>0.998</td>\n",
       "      <td>0.967</td>\n",
       "      <td>0.943</td>\n",
       "    </tr>\n",
       "    <tr>\n",
       "      <th>8</th>\n",
       "      <td>Catboost</td>\n",
       "      <td>&lt;catboost.core.CatBoostClassifier object at 0x...</td>\n",
       "      <td>1.000</td>\n",
       "      <td>0.971</td>\n",
       "      <td>0.954</td>\n",
       "    </tr>\n",
       "    <tr>\n",
       "      <th>9</th>\n",
       "      <td>Catboost</td>\n",
       "      <td>&lt;catboost.core.CatBoostClassifier object at 0x...</td>\n",
       "      <td>1.000</td>\n",
       "      <td>0.973</td>\n",
       "      <td>0.950</td>\n",
       "    </tr>\n",
       "    <tr>\n",
       "      <th>10</th>\n",
       "      <td>Catboost</td>\n",
       "      <td>&lt;catboost.core.CatBoostClassifier object at 0x...</td>\n",
       "      <td>1.000</td>\n",
       "      <td>0.973</td>\n",
       "      <td>0.950</td>\n",
       "    </tr>\n",
       "    <tr>\n",
       "      <th>11</th>\n",
       "      <td>Catboost</td>\n",
       "      <td>{'nan_mode': 'Min', 'eval_metric': 'Logloss', ...</td>\n",
       "      <td>1.000</td>\n",
       "      <td>0.973</td>\n",
       "      <td>0.950</td>\n",
       "    </tr>\n",
       "    <tr>\n",
       "      <th>12</th>\n",
       "      <td>Catboost</td>\n",
       "      <td>{'nan_mode': 'Min', 'eval_metric': 'Logloss', ...</td>\n",
       "      <td>0.998</td>\n",
       "      <td>0.967</td>\n",
       "      <td>0.943</td>\n",
       "    </tr>\n",
       "    <tr>\n",
       "      <th>13</th>\n",
       "      <td>Catboost</td>\n",
       "      <td>{'nan_mode': 'Min', 'eval_metric': 'Logloss', ...</td>\n",
       "      <td>0.994</td>\n",
       "      <td>0.971</td>\n",
       "      <td>0.957</td>\n",
       "    </tr>\n",
       "    <tr>\n",
       "      <th>14</th>\n",
       "      <td>Catboost</td>\n",
       "      <td>{'nan_mode': 'Min', 'eval_metric': 'Logloss', ...</td>\n",
       "      <td>0.994</td>\n",
       "      <td>0.971</td>\n",
       "      <td>0.957</td>\n",
       "    </tr>\n",
       "  </tbody>\n",
       "</table>\n",
       "</div>"
      ],
      "text/plain": [
       "                          algo  \\\n",
       "0                     Catboost   \n",
       "1                     Catboost   \n",
       "2                     Catboost   \n",
       "3                     Catboost   \n",
       "4   GradientBoostingClassifier   \n",
       "5   GradientBoostingClassifier   \n",
       "6                     Catboost   \n",
       "7                     Catboost   \n",
       "8                     Catboost   \n",
       "9                     Catboost   \n",
       "10                    Catboost   \n",
       "11                    Catboost   \n",
       "12                    Catboost   \n",
       "13                    Catboost   \n",
       "14                    Catboost   \n",
       "\n",
       "                                     model_param_used  accuracy_training  \\\n",
       "0   <catboost.core.CatBoostClassifier object at 0x...              0.902   \n",
       "1   <catboost.core.CatBoostClassifier object at 0x...              0.966   \n",
       "2   <catboost.core.CatBoostClassifier object at 0x...              0.979   \n",
       "3   <catboost.core.CatBoostClassifier object at 0x...              0.986   \n",
       "4   <catboost.core.CatBoostClassifier object at 0x...              0.986   \n",
       "5   ([DecisionTreeRegressor(criterion='friedman_ms...              1.000   \n",
       "6   <catboost.core.CatBoostClassifier object at 0x...              0.981   \n",
       "7   <catboost.core.CatBoostClassifier object at 0x...              0.998   \n",
       "8   <catboost.core.CatBoostClassifier object at 0x...              1.000   \n",
       "9   <catboost.core.CatBoostClassifier object at 0x...              1.000   \n",
       "10  <catboost.core.CatBoostClassifier object at 0x...              1.000   \n",
       "11  {'nan_mode': 'Min', 'eval_metric': 'Logloss', ...              1.000   \n",
       "12  {'nan_mode': 'Min', 'eval_metric': 'Logloss', ...              0.998   \n",
       "13  {'nan_mode': 'Min', 'eval_metric': 'Logloss', ...              0.994   \n",
       "14  {'nan_mode': 'Min', 'eval_metric': 'Logloss', ...              0.994   \n",
       "\n",
       "    accuracy_validation  accuracy_testing  \n",
       "0                 0.891             0.858  \n",
       "1                 0.956             0.940  \n",
       "2                 0.968             0.933  \n",
       "3                 0.967             0.940  \n",
       "4                 0.967             0.940  \n",
       "5                 0.974             0.968  \n",
       "6                 0.966             0.940  \n",
       "7                 0.967             0.943  \n",
       "8                 0.971             0.954  \n",
       "9                 0.973             0.950  \n",
       "10                0.973             0.950  \n",
       "11                0.973             0.950  \n",
       "12                0.967             0.943  \n",
       "13                0.971             0.957  \n",
       "14                0.971             0.957  "
      ]
     },
     "execution_count": 60,
     "metadata": {},
     "output_type": "execute_result"
    }
   ],
   "source": [
    "#save\n",
    "li_dico.append({'algo':'Catboost', 'model_param_used':mod_final.get_all_params(), \n",
    "                'accuracy_training':round(mod_final.score(X_train, y_train),3),\n",
    "                'accuracy_validation':round(mod_final.score(X_val, y_val),3),\n",
    "                'accuracy_testing':round(mod_final.score(X_test, y_test),3)})\n",
    "pd.DataFrame(li_dico)"
   ]
  },
  {
   "cell_type": "code",
   "execution_count": null,
   "metadata": {},
   "outputs": [],
   "source": [
    "'CrossEntropy', 'Logloss'\n"
   ]
  },
  {
   "cell_type": "code",
   "execution_count": null,
   "metadata": {},
   "outputs": [],
   "source": [
    "\n",
    "Lq ?\n",
    "MAPE\n",
    "Poisson\n",
    "PairLogit\n",
    "PairLogitPairwise\n",
    "QueryRMSE\n",
    "QuerySoftMax\n",
    "Tweedie\n",
    "YetiRank\n",
    "YetiRankPairwise\n",
    "StochasticFilter\n",
    "StochasticRank"
   ]
  },
  {
   "cell_type": "markdown",
   "metadata": {},
   "source": [
    "### * - K-neighrest neigbors"
   ]
  },
  {
   "cell_type": "markdown",
   "metadata": {},
   "source": [
    "An object is classified by a plurality vote of its neighbors, with the object being assigned to the class most common among its k nearest neighbors (k is a positive integer, typically small). If k = 1, then the object is simply assigned to the class of that single nearest neighbor.\n",
    "WE CHOOSED this algorithm as we want a simple rule based algorithm, that wont give us any bad surprise.\n",
    "try weight with: 'distance' or 'uniform', i.e.weight points by the inverse of their distance. in this case, closer neighbors of a query point will have a greater influence than neighbors which are further away.\n",
    "he k-nearest neighbour classifier can be viewed as assigning the k nearest neighbours a weight {\\displaystyle 1/k}1/k and all others 0 weight. \n",
    "Since this algorithm relies on distance for classification, normalizing the training data can improve its accuracy dramatically"
   ]
  },
  {
   "cell_type": "markdown",
   "metadata": {},
   "source": [
    "#FIRST: have an idea on what are the good parameters\n",
    "#Create the parameter grid based on the results of random search \n",
    "P = {'n_neighbors': [int(x) for x in np.linspace(start = 3, stop = 20, num = 10)],\n",
    "     'weights': ['uniform', 'distance'],\n",
    "     'leaf_size':[int(x) for x in np.linspace(start = 15, stop = 80, num = 10)],\n",
    "     'p':[1,2,3,4]}\n",
    "mod = RandomizedSearchCV(estimator = KNeighborsClassifier(), param_distributions = P, n_iter = 200, cv = 3, verbose=2, \n",
    "                               random_state=0, n_jobs = -1)\n",
    "mod.fit(X_train, y_train)\n",
    "mod = mod.best_estimator_\n",
    "display(mod)"
   ]
  },
  {
   "cell_type": "markdown",
   "metadata": {},
   "source": [
    "#THEN: refine the parameters\n",
    "P = {'n_neighbors': [14,15,16,17,18],\n",
    "     'weights': ['uniform', 'distance'],\n",
    "     'leaf_size':[35,40,45,50],\n",
    "     'p':[1,2]}\n",
    "mod = GridSearchCV(estimator = KNeighborsClassifier(), param_grid = P, cv = 3, n_jobs = -1, verbose = 2) \n",
    "mod.fit(X_train, y_train)\n",
    "mod_final = mod.best_estimator_\n",
    "mod_final.fit(X_train, y_train)\n",
    "display(mod_final)"
   ]
  },
  {
   "cell_type": "markdown",
   "metadata": {},
   "source": [
    "li_dico.append({'algo':'K-neighrest neigbors', 'model_param_used':mod_final, \n",
    "                'accuracy_training':round(mod_final.score(X_train, y_train),3),\n",
    "                'accuracy_validation':round(mod_final.score(X_val, y_val),3),\n",
    "                'accuracy_testing':round(mod_final.score(X_test, y_test),3)})\n",
    "pd.DataFrame(li_dico)"
   ]
  },
  {
   "cell_type": "markdown",
   "metadata": {},
   "source": [
    "### * - XGBClassifier"
   ]
  },
  {
   "cell_type": "code",
   "execution_count": 70,
   "metadata": {},
   "outputs": [],
   "source": [
    "#parameters documentation: https://github.com/dmlc/xgboost/blob/master/doc/parameter.rst\n",
    "#TO CHECK IN MORE DEDTAILED IF BEST MODEL; OTHERWISE DONT USE IT "
   ]
  },
  {
   "cell_type": "markdown",
   "metadata": {},
   "source": [
    "#FIRST: have an idea on what are the good parameters\n",
    "#min_split_loss: minimum loss reduction required to make a further partition on a leaf node of the tree. The larger gamma is, the more \n",
    "#conservative the algorithm will be.\n",
    "P = {'n_estimators': [int(x) for x in np.linspace(start = 2, stop = 200, num = 10)],\n",
    "     'learning_rate':[x for x in np.linspace(start = 0.05, stop = 0.7, num = 10)],\n",
    "     'max_depth':[int(x) for x in np.linspace(start = 3, stop = 10, num = 10)], #not to big otherwise overfitting, default: 6\n",
    "     'booster': ['gbtree', 'gblinear','dart'],\n",
    "     'feature_selector' :['shuffle','greedy','cycle'],\n",
    "     'top_k':[0]+[int(x) for x in np.linspace(start = 10, stop = len(var_name), num = 10)],\n",
    "     'min_split_loss':[x for x in np.linspace(start = 0.0001, stop = 0.2, num = 10)]}\n",
    "mod = RandomizedSearchCV(estimator = XGBClassifier(), param_distributions = P, n_iter = 200, cv = 3, verbose=2, \n",
    "                        random_state=0, n_jobs = -1)\n",
    "mod.fit(X_train, y_train)\n",
    "mod = mod.best_estimator_\n",
    "display(mod)"
   ]
  },
  {
   "cell_type": "markdown",
   "metadata": {},
   "source": [
    "#THEN: refine the parameters\n",
    "P = {'n_estimators': [15,20,25,30],\n",
    "    'learning_rate':[0.3,0.4,0.5,0.6],\n",
    "    'max_depth':[6,8,10],\n",
    "    'booster': ['gbtree', 'gblinear','dart'],\n",
    "    'feature_selector':['cycle'],\n",
    "    'top_k':[18],\n",
    "    'min_split_loss':[0.03,0.04,0.05]}\n",
    "mod = GridSearchCV(estimator = XGBClassifier(), param_grid = P, cv = 3, n_jobs = -1, verbose = 2) \n",
    "mod.fit(X_train, y_train)\n",
    "mod_final = mod.best_estimator_\n",
    "mod_final.fit(X_train, y_train)\n",
    "display(mod_final)"
   ]
  },
  {
   "cell_type": "markdown",
   "metadata": {},
   "source": [
    "li_dico.append({'algo':'XGBClassifier', 'model_param_used':mod_final, \n",
    "                'accuracy_training':round(mod_final.score(X_train, y_train),3),\n",
    "                'accuracy_validation':round(mod_final.score(X_val, y_val),3),\n",
    "                'accuracy_testing':round(mod_final.score(X_test, y_test),3)})\n",
    "pd.DataFrame(li_dico)"
   ]
  },
  {
   "cell_type": "markdown",
   "metadata": {},
   "source": [
    "### BEST MODEL"
   ]
  },
  {
   "cell_type": "code",
   "execution_count": 62,
   "metadata": {},
   "outputs": [
    {
     "ename": "TypeError",
     "evalue": "fit() got an unexpected keyword argument 'eval_set'",
     "output_type": "error",
     "traceback": [
      "\u001b[1;31m---------------------------------------------------------------------------\u001b[0m",
      "\u001b[1;31mTypeError\u001b[0m                                 Traceback (most recent call last)",
      "\u001b[1;32m<ipython-input-62-596e6c100242>\u001b[0m in \u001b[0;36m<module>\u001b[1;34m\u001b[0m\n\u001b[0;32m      3\u001b[0m                            min_samples_split=0.1, n_estimators=700)\n\u001b[0;32m      4\u001b[0m \u001b[0meval_dataset\u001b[0m \u001b[1;33m=\u001b[0m \u001b[0mPool\u001b[0m\u001b[1;33m(\u001b[0m\u001b[0mX_val\u001b[0m\u001b[1;33m,\u001b[0m\u001b[0my_val\u001b[0m\u001b[1;33m)\u001b[0m\u001b[1;33m\u001b[0m\u001b[1;33m\u001b[0m\u001b[0m\n\u001b[1;32m----> 5\u001b[1;33m \u001b[0mmodel\u001b[0m\u001b[1;33m.\u001b[0m\u001b[0mfit\u001b[0m\u001b[1;33m(\u001b[0m\u001b[0mX_train\u001b[0m\u001b[1;33m,\u001b[0m \u001b[0my_train\u001b[0m\u001b[1;33m,\u001b[0m \u001b[0meval_set\u001b[0m\u001b[1;33m=\u001b[0m\u001b[0meval_dataset\u001b[0m\u001b[1;33m)\u001b[0m\u001b[1;33m\u001b[0m\u001b[1;33m\u001b[0m\u001b[0m\n\u001b[0m\u001b[0;32m      6\u001b[0m \u001b[1;31m#model.fit(X_train, y_train)\u001b[0m\u001b[1;33m\u001b[0m\u001b[1;33m\u001b[0m\u001b[1;33m\u001b[0m\u001b[0m\n\u001b[0;32m      7\u001b[0m li_dico.append({'algo':'FINAL_GradientBoostingClassifier', 'model_param_used':model, \n",
      "\u001b[1;31mTypeError\u001b[0m: fit() got an unexpected keyword argument 'eval_set'"
     ]
    }
   ],
   "source": [
    "model = GradientBoostingClassifier(learning_rate=0.15, max_depth=4, max_features=9,\n",
    "                           min_impurity_decrease=0.0001, min_samples_leaf=5,\n",
    "                           min_samples_split=0.1, n_estimators=700)\n",
    "eval_dataset = Pool(X_val,y_val)\n",
    "model.fit(X_train, y_train, eval_set=eval_dataset)\n",
    "#model.fit(X_train, y_train)\n",
    "li_dico.append({'algo':'FINAL_GradientBoostingClassifier', 'model_param_used':model, \n",
    "                'accuracy_training':round(model.score(X_train, y_train),3),\n",
    "                'accuracy_validation':round(model.score(X_val, y_val),3),\n",
    "                'accuracy_testing':round(model.score(X_test, y_test),3)})\n",
    "\n",
    "pd.DataFrame(li_dico)"
   ]
  },
  {
   "cell_type": "code",
   "execution_count": 32,
   "metadata": {},
   "outputs": [],
   "source": [
    "#TODO: INTERPRET EACH OF THE CHOOSEN FINAL PARAMETERS VALUES"
   ]
  },
  {
   "cell_type": "markdown",
   "metadata": {},
   "source": [
    "# Feature importance"
   ]
  },
  {
   "cell_type": "markdown",
   "metadata": {},
   "source": [
    "attention to good for categorical variable and RF\n",
    "REad about this when knowing the final algo!!!"
   ]
  },
  {
   "cell_type": "markdown",
   "metadata": {},
   "source": [
    "#plot feature importance: Fscore!\n",
    "plot_importance(model)\n",
    "plt.show()"
   ]
  },
  {
   "cell_type": "markdown",
   "metadata": {
    "scrolled": true
   },
   "source": [
    "#old\n",
    "#https://scikit-learn.org/stable/modules/generated/sklearn.svm.SVR.html#sklearn.svm.SVR\n",
    "feature_importance = model.feature_importances_\n",
    "#make importances relative to max importance\n",
    "#feature_importance = 100.0 * (feature_importance / feature_importance.max())\n",
    "sorted_idx = np.argsort(feature_importance)\n",
    "pos = np.arange(sorted_idx.shape[0]) + .5\n",
    "#plt.subplot(1, 2, 2)\n",
    "plt.figure(figsize=(3, 7))\n",
    "plt.barh(pos, feature_importance[sorted_idx], align='center')\n",
    "plt.yticks(pos, var_name[sorted_idx])\n",
    "plt.xlabel('Relative Importance')\n",
    "plt.title('Variable Importance')\n",
    "plt.show()"
   ]
  },
  {
   "cell_type": "code",
   "execution_count": 33,
   "metadata": {},
   "outputs": [
    {
     "data": {
      "image/png": "[encoded data removed]",
      "text/plain": [
       "<Figure size 216x504 with 1 Axes>"
      ]
     },
     "metadata": {
      "needs_background": "light"
     },
     "output_type": "display_data"
    }
   ],
   "source": [
    "feature_importance = model.feature_importances_\n",
    "# make importances relative to max importance\n",
    "#feature_importance = 100.0 * (feature_importance / feature_importance.max())\n",
    "dico_f_imp = {var_name[i]:feature_importance[i] for i in range(0,len(var_name))}\n",
    "#display(dico_f_imp)\n",
    "dico_fg_imp = {x.split('_')[0]:sum([dico_f_imp[i] for i in dico_f_imp.keys() if i.split('_')[0]==x.split('_')[0]]) for x in dico_f_imp.keys()}\n",
    "#display(dico_fg_imp)\n",
    "#sort the dictionary by the importance values\n",
    "dico_fg_imp_sorted = {k: v for k, v in sorted(dico_fg_imp.items(), key=lambda item: item[1])}\n",
    "plt.figure(figsize=(3, 7))\n",
    "pos = [i+0.5 for i in range(0,len(dico_fg_imp))]\n",
    "plt.barh(pos, dico_fg_imp_sorted.values(), align='center')\n",
    "plt.yticks(pos, dico_fg_imp_sorted.keys())\n",
    "plt.xlabel('Relative Importance')\n",
    "plt.title('Variable Importance')\n",
    "plt.savefig(os.path.join(path_extracted_data_cleaning,'FeaturesImportance.png'), bbox_inches='tight')\n",
    "plt.show()"
   ]
  },
  {
   "cell_type": "markdown",
   "metadata": {},
   "source": [
    "# Relevance on TESTING DATA"
   ]
  },
  {
   "cell_type": "raw",
   "metadata": {},
   "source": [
    "read for evaluation measures: \n",
    "https://towardsdatascience.com/how-to-evaluate-your-machine-learning-models-with-python-code-5f8d2d8d945b\n",
    "https://scikit-learn.org/stable/modules/generated/sklearn.metrics.cohen_kappa_score.html\n",
    "cohen_kappa_score(y_test, predictions, weights = \"quadratic\")"
   ]
  },
  {
   "cell_type": "code",
   "execution_count": 34,
   "metadata": {},
   "outputs": [],
   "source": [
    "#TO ADD NEW BATCHES WHEN WE HAVE NEW ONES\n",
    "dico_BatchID_endhour = {'ID1':16,\n",
    "                        'ID2':16,\n",
    "                        'ID3':16,\n",
    "                        'ID5':13,\n",
    "                        'ID8':12,\n",
    "                        'ID9':12,\n",
    "                        'ID10':16,\n",
    "                        'ID11':12,\n",
    "                        'ID12':16,\n",
    "                        'ID13':13,\n",
    "                        'ID14':16,\n",
    "                        'ID17':12}"
   ]
  },
  {
   "cell_type": "code",
   "execution_count": 35,
   "metadata": {},
   "outputs": [],
   "source": [
    "##########################################################################################################\n",
    "################################################ predict #################################################\n",
    "##########################################################################################################\n",
    "#transform categorical data into dumies\n",
    "df_te_d = pd.get_dummies(df_testing.filter(li_cont_select+li_cat_select, axis=1), columns=li_cat_select, drop_first=True)\n",
    "X_test = df_te_d.values\n",
    "#y_test = df_testing[['VideoAnalyse']].values\n",
    "predictions = model.predict(X_test)\n",
    "prediction_proba = model.predict_proba(X_test)\n",
    "df_testing['model_prediction'] = predictions\n",
    "df_testing['model_prediction_proba0'] = [round(x[0],2) for x in prediction_proba]\n",
    "df_testing['model_prediction_proba1'] = [round(x[1],2) for x in prediction_proba]\n",
    "df_testing.groupby(['Zone','model_prediction'])['date'].count().reset_index()\n",
    "#add the zone that would be selected with this algorithm output: if==0, then the true zone is the one before\n",
    "df_testing['model_prediction_init'] = df_testing['model_prediction'].astype(str)\n",
    "df_testing['VideoAnalyse'] = df_testing['VideoAnalyse'].astype(str)\n",
    "df_testing['model_ObservedZone'] = df_testing.apply(lambda x: x['Zone'] if x['model_prediction_init']=='1' else x['previous1zone'],\n",
    "                                                    axis=1)\n",
    "df_testing['tracking_prediction'] = 1\n",
    "#save\n",
    "df_testing.to_csv(os.path.join(path_extracted_data_cleaning, id_run+'_TestingMethods.csv'), \n",
    "                      index=False, sep=';')\n",
    "#display(df_testing.head(3))"
   ]
  },
  {
   "cell_type": "code",
   "execution_count": 36,
   "metadata": {},
   "outputs": [
    {
     "data": {
      "text/html": [
       "<div>\n",
       "<style scoped>\n",
       "    .dataframe tbody tr th:only-of-type {\n",
       "        vertical-align: middle;\n",
       "    }\n",
       "\n",
       "    .dataframe tbody tr th {\n",
       "        vertical-align: top;\n",
       "    }\n",
       "\n",
       "    .dataframe thead th {\n",
       "        text-align: right;\n",
       "    }\n",
       "</style>\n",
       "<table border=\"1\" class=\"dataframe\">\n",
       "  <thead>\n",
       "    <tr style=\"text-align: right;\">\n",
       "      <th></th>\n",
       "      <th>VideoAnalyse</th>\n",
       "      <th>model_prediction_init</th>\n",
       "      <th>model_prediction_proba0</th>\n",
       "      <th>model_prediction_proba1</th>\n",
       "      <th>is_correct4plot</th>\n",
       "    </tr>\n",
       "  </thead>\n",
       "  <tbody>\n",
       "    <tr>\n",
       "      <th>3326</th>\n",
       "      <td>0</td>\n",
       "      <td>0</td>\n",
       "      <td>0.98</td>\n",
       "      <td>0.02</td>\n",
       "      <td>True</td>\n",
       "    </tr>\n",
       "    <tr>\n",
       "      <th>3502</th>\n",
       "      <td>1</td>\n",
       "      <td>1</td>\n",
       "      <td>0.00</td>\n",
       "      <td>1.00</td>\n",
       "      <td>True</td>\n",
       "    </tr>\n",
       "    <tr>\n",
       "      <th>3411</th>\n",
       "      <td>1</td>\n",
       "      <td>1</td>\n",
       "      <td>0.00</td>\n",
       "      <td>1.00</td>\n",
       "      <td>True</td>\n",
       "    </tr>\n",
       "  </tbody>\n",
       "</table>\n",
       "</div>"
      ],
      "text/plain": [
       "     VideoAnalyse model_prediction_init  model_prediction_proba0  \\\n",
       "3326            0                     0                     0.98   \n",
       "3502            1                     1                     0.00   \n",
       "3411            1                     1                     0.00   \n",
       "\n",
       "      model_prediction_proba1  is_correct4plot  \n",
       "3326                     0.02             True  \n",
       "3502                     1.00             True  \n",
       "3411                     1.00             True  "
      ]
     },
     "metadata": {},
     "output_type": "display_data"
    },
    {
     "data": {
      "text/html": [
       "<div>\n",
       "<style scoped>\n",
       "    .dataframe tbody tr th:only-of-type {\n",
       "        vertical-align: middle;\n",
       "    }\n",
       "\n",
       "    .dataframe tbody tr th {\n",
       "        vertical-align: top;\n",
       "    }\n",
       "\n",
       "    .dataframe thead th {\n",
       "        text-align: right;\n",
       "    }\n",
       "</style>\n",
       "<table border=\"1\" class=\"dataframe\">\n",
       "  <thead>\n",
       "    <tr style=\"text-align: right;\">\n",
       "      <th></th>\n",
       "      <th>is_correct4plot</th>\n",
       "      <th>VideoAnalyse</th>\n",
       "      <th>model_prediction_proba0</th>\n",
       "      <th>model_prediction_proba1</th>\n",
       "    </tr>\n",
       "  </thead>\n",
       "  <tbody>\n",
       "    <tr>\n",
       "      <th>0</th>\n",
       "      <td>False</td>\n",
       "      <td>0</td>\n",
       "      <td>0.215</td>\n",
       "      <td>0.785</td>\n",
       "    </tr>\n",
       "    <tr>\n",
       "      <th>1</th>\n",
       "      <td>False</td>\n",
       "      <td>1</td>\n",
       "      <td>0.955</td>\n",
       "      <td>0.045</td>\n",
       "    </tr>\n",
       "    <tr>\n",
       "      <th>2</th>\n",
       "      <td>True</td>\n",
       "      <td>0</td>\n",
       "      <td>0.990</td>\n",
       "      <td>0.010</td>\n",
       "    </tr>\n",
       "    <tr>\n",
       "      <th>3</th>\n",
       "      <td>True</td>\n",
       "      <td>1</td>\n",
       "      <td>0.000</td>\n",
       "      <td>1.000</td>\n",
       "    </tr>\n",
       "  </tbody>\n",
       "</table>\n",
       "</div>"
      ],
      "text/plain": [
       "   is_correct4plot VideoAnalyse  model_prediction_proba0  \\\n",
       "0            False            0                    0.215   \n",
       "1            False            1                    0.955   \n",
       "2             True            0                    0.990   \n",
       "3             True            1                    0.000   \n",
       "\n",
       "   model_prediction_proba1  \n",
       "0                    0.785  \n",
       "1                    0.045  \n",
       "2                    0.010  \n",
       "3                    1.000  "
      ]
     },
     "execution_count": 36,
     "metadata": {},
     "output_type": "execute_result"
    }
   ],
   "source": [
    "#visualise how correct is the prediction compared to the certainty of the algo\n",
    "df_testing['is_correct4plot'] = df_testing.apply(lambda x: x['VideoAnalyse']==x['model_prediction_init'], axis=1)\n",
    "display(df_testing[['VideoAnalyse', 'model_prediction_init', 'model_prediction_proba0', \n",
    "                    'model_prediction_proba1','is_correct4plot']].head(3))\n",
    "df_testing.groupby(['is_correct4plot','VideoAnalyse'])[['model_prediction_init', \n",
    "                                    'model_prediction_proba0', 'model_prediction_proba1']].agg(lambda x: np.median(list(x))).reset_index()"
   ]
  },
  {
   "cell_type": "code",
   "execution_count": 37,
   "metadata": {},
   "outputs": [
    {
     "data": {
      "text/plain": [
       "True     270\n",
       "False     12\n",
       "Name: is_correct4plot, dtype: int64"
      ]
     },
     "metadata": {},
     "output_type": "display_data"
    },
    {
     "data": {
      "text/plain": [
       "True     273\n",
       "False      9\n",
       "Name: is_correct4plot_, dtype: int64"
      ]
     },
     "metadata": {},
     "output_type": "display_data"
    }
   ],
   "source": [
    "#add rule: if max proba is <0.8 then keep correct record. Can be used to comapre the method!!\n",
    "df_testing['model_prediction'] = df_testing.apply(lambda x: '1' if max(x['model_prediction_proba0'],\n",
    "                                                            x['model_prediction_proba1'])<0.8 else x['model_prediction_init'], axis=1)\n",
    "df_testing['is_correct4plot_'] = df_testing.apply(lambda x: x['VideoAnalyse']==x['model_prediction'], axis=1)\n",
    "display(df_testing['is_correct4plot'].value_counts(), df_testing['is_correct4plot_'].value_counts())"
   ]
  },
  {
   "cell_type": "code",
   "execution_count": 38,
   "metadata": {},
   "outputs": [
    {
     "data": {
      "text/plain": [
       "1    269\n",
       "0     13\n",
       "Name: VideoAnalyse, dtype: int64"
      ]
     },
     "execution_count": 38,
     "metadata": {},
     "output_type": "execute_result"
    }
   ],
   "source": [
    "df_testing['VideoAnalyse'].value_counts()"
   ]
  },
  {
   "cell_type": "code",
   "execution_count": 39,
   "metadata": {},
   "outputs": [
    {
     "name": "stderr",
     "output_type": "stream",
     "text": [
      "100%|████████████████████████████████████████████████████████████████████████████████████| 2/2 [00:00<00:00, 41.64it/s]\n"
     ]
    },
    {
     "data": {
      "text/plain": [
       "[[('ID15', 'ID14', 'ID16', 'ID5', 'ID8', 'ID6'),\n",
       "  ('ID4', 'ID11', 'ID2', 'ID3', 'ID1', 'ID13')],\n",
       " [('ID4', 'ID15', 'ID11', 'ID14', 'ID9', 'ID5'),\n",
       "  ('ID2', 'ID3', 'ID16', 'ID7', 'ID13', 'ID6')],\n",
       " [('ID11', 'ID14', 'ID16', 'ID5', 'ID17', 'ID8'),\n",
       "  ('ID4', 'ID2', 'ID12', 'ID10', 'ID7', 'ID13')]]"
      ]
     },
     "execution_count": 39,
     "metadata": {},
     "output_type": "execute_result"
    }
   ],
   "source": [
    "##########################################################################################################\n",
    "################################# select pairs' combinations of batches ##################################\n",
    "##########################################################################################################\n",
    "\n",
    "#number of combination's pair to run for each size\n",
    "nbr_comb = 4\n",
    "#minimum nbr of batches to have in a run\n",
    "min_nbr_batch = 6 #5 is the minimum for transition reliability\n",
    "\n",
    "#compute all possible batch combinations of any size\n",
    "li_batch = df_testing['BatchID'].unique()\n",
    "li_batch_combination = list(all_subsets(li_batch))\n",
    "\n",
    "#list of distinct pairs of batch combinations of different size\n",
    "li_selected_combination_pairs = []\n",
    "#to have distinct pairs, we cant do more than half of what we have\n",
    "for nbr_batch in tqdm.tqdm(range(min_nbr_batch, int(len(li_batch)/2))):\n",
    "    li_sel = []\n",
    "    li = [x for x in li_batch_combination if len(x)==nbr_batch]\n",
    "    while len(li_sel)!=nbr_comb:\n",
    "        li = shuffle(li)\n",
    "        x1 = li[0]\n",
    "        for l in li:\n",
    "            if 2*len(l)==len(set(l+x1)):\n",
    "                li_sel.append([x1,l])\n",
    "                #ensure we dont use the sme twice\n",
    "                li.remove(l) ; li.remove(x1)\n",
    "                break\n",
    "    li_selected_combination_pairs.extend(li_sel)\n",
    "#do the one with all batches for final outputs\n",
    "li_selected_combination_pairs.append([tuple(li_batch),tuple(li_batch)])\n",
    "li_selected_combination_pairs[0:3]"
   ]
  },
  {
   "cell_type": "code",
   "execution_count": 40,
   "metadata": {},
   "outputs": [
    {
     "name": "stderr",
     "output_type": "stream",
     "text": [
      "  0%|                                                                                            | 0/9 [00:00<?, ?it/s]C:\\Users\\camil\\Anaconda3\\lib\\site-packages\\ipykernel_launcher.py:100: FutureWarning: Indexing with multiple keys (implicitly converted to a tuple of keys) will be deprecated, use a list instead.\n"
     ]
    },
    {
     "name": "stdout",
     "output_type": "stream",
     "text": [
      "(30, 6)\n",
      "(101, 44) (33240, 9) (30, 6)\n"
     ]
    },
    {
     "name": "stderr",
     "output_type": "stream",
     "text": [
      "C:\\Users\\camil\\Anaconda3\\lib\\site-packages\\sklearn\\metrics\\_classification.py:1221: UndefinedMetricWarning: Precision and F-score are ill-defined and being set to 0.0 in labels with no predicted samples. Use `zero_division` parameter to control this behavior.\n",
      "  _warn_prf(average, modifier, msg_start, len(result))\n",
      "C:\\Users\\camil\\Anaconda3\\lib\\site-packages\\ipykernel_launcher.py:100: FutureWarning: Indexing with multiple keys (implicitly converted to a tuple of keys) will be deprecated, use a list instead.\n"
     ]
    },
    {
     "name": "stdout",
     "output_type": "stream",
     "text": [
      "(30, 6)\n",
      "(109, 44) (37500, 9) (30, 6)\n"
     ]
    },
    {
     "name": "stderr",
     "output_type": "stream",
     "text": [
      "C:\\Users\\camil\\Anaconda3\\lib\\site-packages\\sklearn\\metrics\\_classification.py:1221: UndefinedMetricWarning: Precision and F-score are ill-defined and being set to 0.0 in labels with no predicted samples. Use `zero_division` parameter to control this behavior.\n",
      "  _warn_prf(average, modifier, msg_start, len(result))\n",
      " 11%|█████████▎                                                                          | 1/9 [00:50<06:40, 50.00s/it]C:\\Users\\camil\\Anaconda3\\lib\\site-packages\\ipykernel_launcher.py:100: FutureWarning: Indexing with multiple keys (implicitly converted to a tuple of keys) will be deprecated, use a list instead.\n"
     ]
    },
    {
     "name": "stdout",
     "output_type": "stream",
     "text": [
      "(30, 6)\n",
      "(123, 44) (36540, 9) (30, 6)\n"
     ]
    },
    {
     "name": "stderr",
     "output_type": "stream",
     "text": [
      "C:\\Users\\camil\\Anaconda3\\lib\\site-packages\\sklearn\\metrics\\_classification.py:1221: UndefinedMetricWarning: Precision and F-score are ill-defined and being set to 0.0 in labels with no predicted samples. Use `zero_division` parameter to control this behavior.\n",
      "  _warn_prf(average, modifier, msg_start, len(result))\n",
      "C:\\Users\\camil\\Anaconda3\\lib\\site-packages\\ipykernel_launcher.py:100: FutureWarning: Indexing with multiple keys (implicitly converted to a tuple of keys) will be deprecated, use a list instead.\n"
     ]
    },
    {
     "name": "stdout",
     "output_type": "stream",
     "text": [
      "(30, 6)\n",
      "(93, 44) (33660, 9) (30, 6)\n"
     ]
    },
    {
     "name": "stderr",
     "output_type": "stream",
     "text": [
      "C:\\Users\\camil\\Anaconda3\\lib\\site-packages\\sklearn\\metrics\\_classification.py:1221: UndefinedMetricWarning: Precision and F-score are ill-defined and being set to 0.0 in labels with no predicted samples. Use `zero_division` parameter to control this behavior.\n",
      "  _warn_prf(average, modifier, msg_start, len(result))\n",
      " 22%|██████████████████▋                                                                 | 2/9 [01:45<06:00, 51.53s/it]C:\\Users\\camil\\Anaconda3\\lib\\site-packages\\ipykernel_launcher.py:100: FutureWarning: Indexing with multiple keys (implicitly converted to a tuple of keys) will be deprecated, use a list instead.\n"
     ]
    },
    {
     "name": "stdout",
     "output_type": "stream",
     "text": [
      "(30, 6)\n",
      "(90, 44) (35220, 9) (30, 6)\n"
     ]
    },
    {
     "name": "stderr",
     "output_type": "stream",
     "text": [
      "C:\\Users\\camil\\Anaconda3\\lib\\site-packages\\sklearn\\metrics\\_classification.py:1221: UndefinedMetricWarning: Precision and F-score are ill-defined and being set to 0.0 in labels with no predicted samples. Use `zero_division` parameter to control this behavior.\n",
      "  _warn_prf(average, modifier, msg_start, len(result))\n",
      "C:\\Users\\camil\\Anaconda3\\lib\\site-packages\\ipykernel_launcher.py:100: FutureWarning: Indexing with multiple keys (implicitly converted to a tuple of keys) will be deprecated, use a list instead.\n"
     ]
    },
    {
     "name": "stdout",
     "output_type": "stream",
     "text": [
      "(30, 6)\n",
      "(114, 44) (37560, 9) (30, 6)\n"
     ]
    },
    {
     "name": "stderr",
     "output_type": "stream",
     "text": [
      "C:\\Users\\camil\\Anaconda3\\lib\\site-packages\\sklearn\\metrics\\_classification.py:1221: UndefinedMetricWarning: Precision and F-score are ill-defined and being set to 0.0 in labels with no predicted samples. Use `zero_division` parameter to control this behavior.\n",
      "  _warn_prf(average, modifier, msg_start, len(result))\n",
      " 33%|████████████████████████████                                                        | 3/9 [02:41<05:17, 52.95s/it]C:\\Users\\camil\\Anaconda3\\lib\\site-packages\\ipykernel_launcher.py:100: FutureWarning: Indexing with multiple keys (implicitly converted to a tuple of keys) will be deprecated, use a list instead.\n"
     ]
    },
    {
     "name": "stdout",
     "output_type": "stream",
     "text": [
      "(24, 6)\n",
      "(136, 44) (38340, 9) (24, 6)\n"
     ]
    },
    {
     "name": "stderr",
     "output_type": "stream",
     "text": [
      "C:\\Users\\camil\\Anaconda3\\lib\\site-packages\\sklearn\\metrics\\_classification.py:1221: UndefinedMetricWarning: Precision and F-score are ill-defined and being set to 0.0 in labels with no predicted samples. Use `zero_division` parameter to control this behavior.\n",
      "  _warn_prf(average, modifier, msg_start, len(result))\n",
      "C:\\Users\\camil\\Anaconda3\\lib\\site-packages\\pingouin\\parametric.py:978: RuntimeWarning: divide by zero encountered in double_scalars\n",
      "  fval = msbetween / mserror\n",
      "C:\\Users\\camil\\Anaconda3\\lib\\site-packages\\ipykernel_launcher.py:100: FutureWarning: Indexing with multiple keys (implicitly converted to a tuple of keys) will be deprecated, use a list instead.\n"
     ]
    },
    {
     "name": "stdout",
     "output_type": "stream",
     "text": [
      "(30, 6)\n",
      "(91, 44) (31140, 9) (30, 6)\n"
     ]
    },
    {
     "name": "stderr",
     "output_type": "stream",
     "text": [
      "C:\\Users\\camil\\Anaconda3\\lib\\site-packages\\sklearn\\metrics\\_classification.py:1221: UndefinedMetricWarning: Precision and F-score are ill-defined and being set to 0.0 in labels with no predicted samples. Use `zero_division` parameter to control this behavior.\n",
      "  _warn_prf(average, modifier, msg_start, len(result))\n",
      " 44%|█████████████████████████████████████▎                                              | 4/9 [03:46<04:43, 56.72s/it]C:\\Users\\camil\\Anaconda3\\lib\\site-packages\\ipykernel_launcher.py:100: FutureWarning: Indexing with multiple keys (implicitly converted to a tuple of keys) will be deprecated, use a list instead.\n"
     ]
    },
    {
     "name": "stdout",
     "output_type": "stream",
     "text": [
      "(35, 6)\n",
      "(143, 44) (44640, 9) (35, 6)\n"
     ]
    },
    {
     "name": "stderr",
     "output_type": "stream",
     "text": [
      "C:\\Users\\camil\\Anaconda3\\lib\\site-packages\\sklearn\\metrics\\_classification.py:1221: UndefinedMetricWarning: Precision and F-score are ill-defined and being set to 0.0 in labels with no predicted samples. Use `zero_division` parameter to control this behavior.\n",
      "  _warn_prf(average, modifier, msg_start, len(result))\n",
      "C:\\Users\\camil\\Anaconda3\\lib\\site-packages\\sklearn\\metrics\\_classification.py:1221: UndefinedMetricWarning: Recall and F-score are ill-defined and being set to 0.0 in labels with no true samples. Use `zero_division` parameter to control this behavior.\n",
      "  _warn_prf(average, modifier, msg_start, len(result))\n",
      "C:\\Users\\camil\\Anaconda3\\lib\\site-packages\\pingouin\\parametric.py:978: RuntimeWarning: divide by zero encountered in double_scalars\n",
      "  fval = msbetween / mserror\n",
      "C:\\Users\\camil\\Anaconda3\\lib\\site-packages\\ipykernel_launcher.py:100: FutureWarning: Indexing with multiple keys (implicitly converted to a tuple of keys) will be deprecated, use a list instead.\n"
     ]
    },
    {
     "name": "stdout",
     "output_type": "stream",
     "text": [
      "(35, 6)\n",
      "(105, 44) (39660, 9) (35, 6)\n"
     ]
    },
    {
     "name": "stderr",
     "output_type": "stream",
     "text": [
      "C:\\Users\\camil\\Anaconda3\\lib\\site-packages\\sklearn\\metrics\\_classification.py:1221: UndefinedMetricWarning: Precision and F-score are ill-defined and being set to 0.0 in labels with no predicted samples. Use `zero_division` parameter to control this behavior.\n",
      "  _warn_prf(average, modifier, msg_start, len(result))\n",
      " 56%|██████████████████████████████████████████████▋                                     | 5/9 [05:14<04:24, 66.06s/it]C:\\Users\\camil\\Anaconda3\\lib\\site-packages\\ipykernel_launcher.py:100: FutureWarning: Indexing with multiple keys (implicitly converted to a tuple of keys) will be deprecated, use a list instead.\n"
     ]
    },
    {
     "name": "stdout",
     "output_type": "stream",
     "text": [
      "(35, 6)\n",
      "(156, 44) (48480, 9) (35, 6)\n"
     ]
    },
    {
     "name": "stderr",
     "output_type": "stream",
     "text": [
      "C:\\Users\\camil\\Anaconda3\\lib\\site-packages\\sklearn\\metrics\\_classification.py:1221: UndefinedMetricWarning: Precision and F-score are ill-defined and being set to 0.0 in labels with no predicted samples. Use `zero_division` parameter to control this behavior.\n",
      "  _warn_prf(average, modifier, msg_start, len(result))\n",
      "C:\\Users\\camil\\Anaconda3\\lib\\site-packages\\ipykernel_launcher.py:100: FutureWarning: Indexing with multiple keys (implicitly converted to a tuple of keys) will be deprecated, use a list instead.\n"
     ]
    },
    {
     "name": "stdout",
     "output_type": "stream",
     "text": [
      "(35, 6)\n",
      "(109, 44) (41280, 9) (35, 6)\n"
     ]
    },
    {
     "name": "stderr",
     "output_type": "stream",
     "text": [
      "C:\\Users\\camil\\Anaconda3\\lib\\site-packages\\sklearn\\metrics\\_classification.py:1221: UndefinedMetricWarning: Precision and F-score are ill-defined and being set to 0.0 in labels with no predicted samples. Use `zero_division` parameter to control this behavior.\n",
      "  _warn_prf(average, modifier, msg_start, len(result))\n",
      " 67%|████████████████████████████████████████████████████████                            | 6/9 [06:22<03:19, 66.61s/it]C:\\Users\\camil\\Anaconda3\\lib\\site-packages\\ipykernel_launcher.py:100: FutureWarning: Indexing with multiple keys (implicitly converted to a tuple of keys) will be deprecated, use a list instead.\n"
     ]
    },
    {
     "name": "stdout",
     "output_type": "stream",
     "text": [
      "(35, 6)\n",
      "(109, 44) (38460, 9) (35, 6)\n"
     ]
    },
    {
     "name": "stderr",
     "output_type": "stream",
     "text": [
      "C:\\Users\\camil\\Anaconda3\\lib\\site-packages\\sklearn\\metrics\\_classification.py:1221: UndefinedMetricWarning: Precision and F-score are ill-defined and being set to 0.0 in labels with no predicted samples. Use `zero_division` parameter to control this behavior.\n",
      "  _warn_prf(average, modifier, msg_start, len(result))\n",
      "C:\\Users\\camil\\Anaconda3\\lib\\site-packages\\ipykernel_launcher.py:100: FutureWarning: Indexing with multiple keys (implicitly converted to a tuple of keys) will be deprecated, use a list instead.\n"
     ]
    },
    {
     "name": "stdout",
     "output_type": "stream",
     "text": [
      "(35, 6)\n",
      "(138, 44) (46320, 9) (35, 6)\n"
     ]
    },
    {
     "name": "stderr",
     "output_type": "stream",
     "text": [
      "C:\\Users\\camil\\Anaconda3\\lib\\site-packages\\sklearn\\metrics\\_classification.py:1221: UndefinedMetricWarning: Precision and F-score are ill-defined and being set to 0.0 in labels with no predicted samples. Use `zero_division` parameter to control this behavior.\n",
      "  _warn_prf(average, modifier, msg_start, len(result))\n",
      " 78%|█████████████████████████████████████████████████████████████████▎                  | 7/9 [07:20<02:07, 63.95s/it]C:\\Users\\camil\\Anaconda3\\lib\\site-packages\\ipykernel_launcher.py:100: FutureWarning: Indexing with multiple keys (implicitly converted to a tuple of keys) will be deprecated, use a list instead.\n"
     ]
    },
    {
     "name": "stdout",
     "output_type": "stream",
     "text": [
      "(35, 6)\n",
      "(115, 44) (34260, 9) (35, 6)\n"
     ]
    },
    {
     "name": "stderr",
     "output_type": "stream",
     "text": [
      "C:\\Users\\camil\\Anaconda3\\lib\\site-packages\\sklearn\\metrics\\_classification.py:1221: UndefinedMetricWarning: Precision and F-score are ill-defined and being set to 0.0 in labels with no predicted samples. Use `zero_division` parameter to control this behavior.\n",
      "  _warn_prf(average, modifier, msg_start, len(result))\n",
      "C:\\Users\\camil\\Anaconda3\\lib\\site-packages\\sklearn\\metrics\\_classification.py:1221: UndefinedMetricWarning: Recall and F-score are ill-defined and being set to 0.0 in labels with no true samples. Use `zero_division` parameter to control this behavior.\n",
      "  _warn_prf(average, modifier, msg_start, len(result))\n",
      "C:\\Users\\camil\\Anaconda3\\lib\\site-packages\\pingouin\\parametric.py:978: RuntimeWarning: divide by zero encountered in double_scalars\n",
      "  fval = msbetween / mserror\n",
      "C:\\Users\\camil\\Anaconda3\\lib\\site-packages\\pingouin\\reliability.py:320: RuntimeWarning: divide by zero encountered in double_scalars\n",
      "  f1k = msb / msw\n",
      "C:\\Users\\camil\\Anaconda3\\lib\\site-packages\\pingouin\\reliability.py:325: RuntimeWarning: divide by zero encountered in double_scalars\n",
      "  f2k = f3k = msb / mse\n",
      "C:\\Users\\camil\\Anaconda3\\lib\\site-packages\\pingouin\\reliability.py:349: RuntimeWarning: invalid value encountered in double_scalars\n",
      "  l1 = (f1l - 1) / (f1l + (k - 1))\n",
      "C:\\Users\\camil\\Anaconda3\\lib\\site-packages\\pingouin\\reliability.py:350: RuntimeWarning: invalid value encountered in double_scalars\n",
      "  u1 = (f1u - 1) / (f1u + (k - 1))\n",
      "C:\\Users\\camil\\Anaconda3\\lib\\site-packages\\pingouin\\reliability.py:353: RuntimeWarning: invalid value encountered in double_scalars\n",
      "  l3 = (f3l - 1) / (f3l + (k - 1))\n",
      "C:\\Users\\camil\\Anaconda3\\lib\\site-packages\\pingouin\\reliability.py:354: RuntimeWarning: invalid value encountered in double_scalars\n",
      "  u3 = (f3u - 1) / (f3u + (k - 1))\n",
      "C:\\Users\\camil\\Anaconda3\\lib\\site-packages\\pingouin\\reliability.py:356: RuntimeWarning: invalid value encountered in double_scalars\n",
      "  fj = msj / mse\n",
      "C:\\Users\\camil\\Anaconda3\\lib\\site-packages\\ipykernel_launcher.py:100: FutureWarning: Indexing with multiple keys (implicitly converted to a tuple of keys) will be deprecated, use a list instead.\n"
     ]
    },
    {
     "name": "stdout",
     "output_type": "stream",
     "text": [
      "(35, 6)\n",
      "(124, 44) (44580, 9) (35, 6)\n"
     ]
    },
    {
     "name": "stderr",
     "output_type": "stream",
     "text": [
      "C:\\Users\\camil\\Anaconda3\\lib\\site-packages\\sklearn\\metrics\\_classification.py:1221: UndefinedMetricWarning: Precision and F-score are ill-defined and being set to 0.0 in labels with no predicted samples. Use `zero_division` parameter to control this behavior.\n",
      "  _warn_prf(average, modifier, msg_start, len(result))\n",
      " 89%|██████████████████████████████████████████████████████████████████████████▋         | 8/9 [08:45<01:10, 70.18s/it]C:\\Users\\camil\\Anaconda3\\lib\\site-packages\\ipykernel_launcher.py:100: FutureWarning: Indexing with multiple keys (implicitly converted to a tuple of keys) will be deprecated, use a list instead.\n"
     ]
    },
    {
     "name": "stdout",
     "output_type": "stream",
     "text": [
      "(85, 6)\n",
      "(282, 44) (98640, 9) (85, 6)\n"
     ]
    },
    {
     "name": "stderr",
     "output_type": "stream",
     "text": [
      "C:\\Users\\camil\\Anaconda3\\lib\\site-packages\\sklearn\\metrics\\_classification.py:1221: UndefinedMetricWarning: Precision and F-score are ill-defined and being set to 0.0 in labels with no predicted samples. Use `zero_division` parameter to control this behavior.\n",
      "  _warn_prf(average, modifier, msg_start, len(result))\n",
      "C:\\Users\\camil\\Anaconda3\\lib\\site-packages\\pingouin\\parametric.py:978: RuntimeWarning: divide by zero encountered in double_scalars\n",
      "  fval = msbetween / mserror\n",
      "C:\\Users\\camil\\Anaconda3\\lib\\site-packages\\pingouin\\parametric.py:978: RuntimeWarning: divide by zero encountered in double_scalars\n",
      "  fval = msbetween / mserror\n",
      "C:\\Users\\camil\\Anaconda3\\lib\\site-packages\\pingouin\\parametric.py:978: RuntimeWarning: divide by zero encountered in double_scalars\n",
      "  fval = msbetween / mserror\n",
      "C:\\Users\\camil\\Anaconda3\\lib\\site-packages\\pingouin\\parametric.py:978: RuntimeWarning: divide by zero encountered in double_scalars\n",
      "  fval = msbetween / mserror\n",
      "\n",
      "  0%|                                                                                           | 0/17 [00:00<?, ?it/s]\u001b[A\n",
      "  6%|████▉                                                                              | 1/17 [00:02<00:42,  2.65s/it]\u001b[A\n",
      " 12%|█████████▊                                                                         | 2/17 [00:04<00:34,  2.32s/it]\u001b[A\n",
      " 18%|██████████████▋                                                                    | 3/17 [00:06<00:30,  2.21s/it]\u001b[A\n",
      " 24%|███████████████████▌                                                               | 4/17 [00:07<00:26,  2.06s/it]\u001b[A\n",
      " 29%|████████████████████████▍                                                          | 5/17 [00:10<00:26,  2.20s/it]\u001b[A\n",
      " 35%|█████████████████████████████▎                                                     | 6/17 [00:12<00:23,  2.14s/it]\u001b[A\n",
      " 41%|██████████████████████████████████▏                                                | 7/17 [00:14<00:19,  1.99s/it]\u001b[A\n",
      " 47%|███████████████████████████████████████                                            | 8/17 [00:15<00:17,  1.91s/it]\u001b[A\n",
      " 53%|███████████████████████████████████████████▉                                       | 9/17 [00:16<00:13,  1.68s/it]\u001b[A\n",
      " 59%|████████████████████████████████████████████████▏                                 | 10/17 [00:19<00:14,  2.03s/it]\u001b[A\n",
      " 65%|█████████████████████████████████████████████████████                             | 11/17 [00:22<00:13,  2.29s/it]\u001b[A\n",
      " 71%|█████████████████████████████████████████████████████████▉                        | 12/17 [00:24<00:10,  2.10s/it]\u001b[A\n",
      " 76%|██████████████████████████████████████████████████████████████▋                   | 13/17 [00:25<00:07,  1.95s/it]\u001b[A\n",
      " 82%|███████████████████████████████████████████████████████████████████▌              | 14/17 [00:27<00:05,  1.73s/it]\u001b[A\n",
      " 88%|████████████████████████████████████████████████████████████████████████▎         | 15/17 [00:29<00:03,  1.90s/it]\u001b[A\n",
      " 94%|█████████████████████████████████████████████████████████████████████████████▏    | 16/17 [00:32<00:02,  2.16s/it]\u001b[A\n",
      "100%|██████████████████████████████████████████████████████████████████████████████████| 17/17 [00:33<00:00,  2.00s/it]\u001b[A\n",
      "100%|████████████████████████████████████████████████████████████████████████████████████| 9/9 [11:03<00:00, 73.69s/it]"
     ]
    },
    {
     "name": "stdout",
     "output_type": "stream",
     "text": [
      "Total running time: 11.05 mn\n"
     ]
    },
    {
     "name": "stderr",
     "output_type": "stream",
     "text": [
      "\n"
     ]
    },
    {
     "data": {
      "text/html": [
       "<div>\n",
       "<style scoped>\n",
       "    .dataframe tbody tr th:only-of-type {\n",
       "        vertical-align: middle;\n",
       "    }\n",
       "\n",
       "    .dataframe tbody tr th {\n",
       "        vertical-align: top;\n",
       "    }\n",
       "\n",
       "    .dataframe thead th {\n",
       "        text-align: right;\n",
       "    }\n",
       "</style>\n",
       "<table border=\"1\" class=\"dataframe\">\n",
       "  <thead>\n",
       "    <tr style=\"text-align: right;\">\n",
       "      <th></th>\n",
       "      <th>accuracy</th>\n",
       "      <th>ICC</th>\n",
       "      <th>kappa</th>\n",
       "      <th>runID</th>\n",
       "      <th>method</th>\n",
       "      <th>reliability_type</th>\n",
       "    </tr>\n",
       "  </thead>\n",
       "  <tbody>\n",
       "    <tr>\n",
       "      <th>0</th>\n",
       "      <td>0.990099</td>\n",
       "      <td>NaN</td>\n",
       "      <td>0.000000</td>\n",
       "      <td>254bda7a-3329-11eb-a6cd-9822ef705bb4</td>\n",
       "      <td>model_ObservedZone</td>\n",
       "      <td>records-01</td>\n",
       "    </tr>\n",
       "    <tr>\n",
       "      <th>1</th>\n",
       "      <td>0.990099</td>\n",
       "      <td>NaN</td>\n",
       "      <td>0.000000</td>\n",
       "      <td>254bda7a-3329-11eb-a6cd-9822ef705bb4</td>\n",
       "      <td>Zone</td>\n",
       "      <td>records-01</td>\n",
       "    </tr>\n",
       "    <tr>\n",
       "      <th>2</th>\n",
       "      <td>0.990099</td>\n",
       "      <td>NaN</td>\n",
       "      <td>0.979764</td>\n",
       "      <td>254bda7a-3329-11eb-a6cd-9822ef705bb4</td>\n",
       "      <td>Zone</td>\n",
       "      <td>records-zone</td>\n",
       "    </tr>\n",
       "    <tr>\n",
       "      <th>3</th>\n",
       "      <td>0.990099</td>\n",
       "      <td>NaN</td>\n",
       "      <td>0.979764</td>\n",
       "      <td>254bda7a-3329-11eb-a6cd-9822ef705bb4</td>\n",
       "      <td>model_ObservedZone</td>\n",
       "      <td>records-zone</td>\n",
       "    </tr>\n",
       "    <tr>\n",
       "      <th>4</th>\n",
       "      <td>0.999669</td>\n",
       "      <td>NaN</td>\n",
       "      <td>0.999511</td>\n",
       "      <td>254bda7a-3329-11eb-a6cd-9822ef705bb4</td>\n",
       "      <td>Zone</td>\n",
       "      <td>duration_1secTS</td>\n",
       "    </tr>\n",
       "    <tr>\n",
       "      <th>...</th>\n",
       "      <td>...</td>\n",
       "      <td>...</td>\n",
       "      <td>...</td>\n",
       "      <td>...</td>\n",
       "      <td>...</td>\n",
       "      <td>...</td>\n",
       "    </tr>\n",
       "    <tr>\n",
       "      <th>180</th>\n",
       "      <td>NaN</td>\n",
       "      <td>1.000000</td>\n",
       "      <td>NaN</td>\n",
       "      <td>5e45feca-332a-11eb-97a3-9822ef705bb4</td>\n",
       "      <td>model_ObservedZone</td>\n",
       "      <td>transitions_4Zone</td>\n",
       "    </tr>\n",
       "    <tr>\n",
       "      <th>181</th>\n",
       "      <td>NaN</td>\n",
       "      <td>0.885057</td>\n",
       "      <td>NaN</td>\n",
       "      <td>5e45feca-332a-11eb-97a3-9822ef705bb4</td>\n",
       "      <td>binning_zone</td>\n",
       "      <td>transitions_4Zone</td>\n",
       "    </tr>\n",
       "    <tr>\n",
       "      <th>182</th>\n",
       "      <td>NaN</td>\n",
       "      <td>0.968127</td>\n",
       "      <td>NaN</td>\n",
       "      <td>5e45feca-332a-11eb-97a3-9822ef705bb4</td>\n",
       "      <td>Zone</td>\n",
       "      <td>transitions_5Zone</td>\n",
       "    </tr>\n",
       "    <tr>\n",
       "      <th>183</th>\n",
       "      <td>NaN</td>\n",
       "      <td>1.000000</td>\n",
       "      <td>NaN</td>\n",
       "      <td>5e45feca-332a-11eb-97a3-9822ef705bb4</td>\n",
       "      <td>model_ObservedZone</td>\n",
       "      <td>transitions_5Zone</td>\n",
       "    </tr>\n",
       "    <tr>\n",
       "      <th>184</th>\n",
       "      <td>NaN</td>\n",
       "      <td>1.000000</td>\n",
       "      <td>NaN</td>\n",
       "      <td>5e45feca-332a-11eb-97a3-9822ef705bb4</td>\n",
       "      <td>binning_zone</td>\n",
       "      <td>transitions_5Zone</td>\n",
       "    </tr>\n",
       "  </tbody>\n",
       "</table>\n",
       "<p>185 rows × 6 columns</p>\n",
       "</div>"
      ],
      "text/plain": [
       "     accuracy       ICC     kappa                                 runID  \\\n",
       "0    0.990099       NaN  0.000000  254bda7a-3329-11eb-a6cd-9822ef705bb4   \n",
       "1    0.990099       NaN  0.000000  254bda7a-3329-11eb-a6cd-9822ef705bb4   \n",
       "2    0.990099       NaN  0.979764  254bda7a-3329-11eb-a6cd-9822ef705bb4   \n",
       "3    0.990099       NaN  0.979764  254bda7a-3329-11eb-a6cd-9822ef705bb4   \n",
       "4    0.999669       NaN  0.999511  254bda7a-3329-11eb-a6cd-9822ef705bb4   \n",
       "..        ...       ...       ...                                   ...   \n",
       "180       NaN  1.000000       NaN  5e45feca-332a-11eb-97a3-9822ef705bb4   \n",
       "181       NaN  0.885057       NaN  5e45feca-332a-11eb-97a3-9822ef705bb4   \n",
       "182       NaN  0.968127       NaN  5e45feca-332a-11eb-97a3-9822ef705bb4   \n",
       "183       NaN  1.000000       NaN  5e45feca-332a-11eb-97a3-9822ef705bb4   \n",
       "184       NaN  1.000000       NaN  5e45feca-332a-11eb-97a3-9822ef705bb4   \n",
       "\n",
       "                 method   reliability_type  \n",
       "0    model_ObservedZone         records-01  \n",
       "1                  Zone         records-01  \n",
       "2                  Zone       records-zone  \n",
       "3    model_ObservedZone       records-zone  \n",
       "4                  Zone    duration_1secTS  \n",
       "..                  ...                ...  \n",
       "180  model_ObservedZone  transitions_4Zone  \n",
       "181        binning_zone  transitions_4Zone  \n",
       "182                Zone  transitions_5Zone  \n",
       "183  model_ObservedZone  transitions_5Zone  \n",
       "184        binning_zone  transitions_5Zone  \n",
       "\n",
       "[185 rows x 6 columns]"
      ]
     },
     "execution_count": 40,
     "metadata": {},
     "output_type": "execute_result"
    }
   ],
   "source": [
    "###############################################################################################################################\n",
    "###############################################################################################################################\n",
    "############################################# RUN OVER SEVERAL BATCH COMBINATIONS #############################################\n",
    "###############################################################################################################################\n",
    "###############################################################################################################################\n",
    "\n",
    "#start recording the time it last\n",
    "START_TIME = time.clock()\n",
    "li_df  = []\n",
    "is_done = False\n",
    "for li_batch1, li_batch2 in tqdm.tqdm(li_selected_combination_pairs):\n",
    "    \n",
    "    #select a unique runID per pair of batch combination\n",
    "    runID = uuid.uuid1()\n",
    "    nbr_b = len(li_batch1)\n",
    "    \n",
    "    for i,li_batch in enumerate([li_batch1, li_batch2]):\n",
    "        #dont do the second batch if its the same as the first one, i.e. if its the final output, but print visuals\n",
    "        if (li_batch1==li_batch2) & (is_done==True):\n",
    "            #to sort the yaxis\n",
    "            dico_zone_order = {'1Zone':0,\n",
    "                               '2Zone':1,\n",
    "                               '3Zone':2,\n",
    "                               '4Zone':3,\n",
    "                               '5Zone':4}\n",
    "\n",
    "            #create path where to save if not existing yet\n",
    "            path_ = os.path.join(path_extracted_data_cleaning,'TimeSeriesPlot')\n",
    "            #create a director if not existing\n",
    "            if not os.path.exists(path_):\n",
    "                os.makedirs(path_) \n",
    "\n",
    "            li_ts = ['Zone','model_ObservedZone','ObservedZone','binning_zone']\n",
    "            #for each batch draw 4 timeseries\n",
    "            for BatchID, df_plt in tqdm.tqdm(df_final.groupby(['BatchID'])):\n",
    "                df_plt = df_plt.sort_values(['Timestamp']).copy()\n",
    "                l = len(li_ts) ; c = 1\n",
    "                fig = plt.figure(figsize=(c*5, l*1))\n",
    "                for i,v in enumerate(li_ts):\n",
    "                    df_plt[v] = df_plt[v].map(lambda x: int(dico_zone_order[x]))       \n",
    "                    plt.subplot(l,c,i+1)\n",
    "                    plt.plot(df_plt['Timestamp'].tolist(), df_plt[v].tolist())\n",
    "                    plt.xticks(fontsize=4)\n",
    "                    plt.yticks(fontsize=4)\n",
    "                    plt.title(v+' '+BatchID, size=7)\n",
    "                plt.savefig(os.path.join(path_extracted_data_cleaning, BatchID+'.png'), format='png', bbox_inches='tight', dpi=300)\n",
    "                plt.clf()\n",
    "                plt.close(\"all\")                      \n",
    "            \n",
    "            break\n",
    "            \n",
    "        df_testing_ = df_testing[df_testing['BatchID'].isin(li_batch)].copy()\n",
    "        ##########################################################################################################\n",
    "        ########################################### create duration TS ###########################################\n",
    "        ##########################################################################################################\n",
    "        li_df_dur = []\n",
    "        li_col = ['Zone','VideoAnalyse','model_ObservedZone','ObservedZone','PenID','HenID','Timestamp','BatchID']\n",
    "        for BatchID,df_ in df_testing_[li_col].groupby(['BatchID']):\n",
    "            df_ = df_.sort_values('Timestamp',ascending=True)\n",
    "            #select the list of timestamp we want (i.e. at one second level)\n",
    "            mi = min(df_['Timestamp'].tolist())\n",
    "            ma = max(df_['Timestamp'].tolist())\n",
    "            #extend the daterange if the batch is in dico_BatchID_endhour\n",
    "            if BatchID in dico_BatchID_endhour.keys():\n",
    "                ma = dt.datetime(ma.year,ma.month,ma.day,dico_BatchID_endhour[BatchID],0,0)\n",
    "            #print(mi, ma)\n",
    "            Daterange = pd.date_range(start = mi+dt.timedelta(seconds=(60-mi.second)), \n",
    "                                      end = ma-dt.timedelta(seconds=(ma.second+1)), \n",
    "                                      freq = 'S') \n",
    "            #print(Daterange[0:2])\n",
    "            #print(Daterange[-2:])\n",
    "\n",
    "            ################### 1 sec ts: tracking method & model method & true observation\n",
    "            ### extend to 1 seconds level\n",
    "            #add missing seconds (i.e. all seconds that never had a record) and fillnan with last non-nan values by propagating last \n",
    "            # observation forward to next valHenIDmi = min(df_['Timestamp'].tolist())\n",
    "            df_.set_index('Timestamp', inplace=True)\n",
    "            df__ = df_.reindex(Daterange, method='ffill').reset_index()\n",
    "            #display(df__.head(5))\n",
    "            #display(df__.tail(5))\n",
    "            df__.rename(columns={'index':'Timestamp'}, inplace=True)\n",
    "            #display(df__.head(3))\n",
    "            df__.to_csv(os.path.join(path__,'1secTimeSeries'+str(BatchID)+'.csv'), sep=';', index=False)\n",
    "\n",
    "            ################### binning method at 60 sec period\n",
    "            #First take only the wanted timestamps (1 per seconds)\n",
    "            #due to the 60 sec period bining, we need to exclude some of the first and last seconds in order to take into account \n",
    "            #minutes for which we have the full information only\n",
    "            DaterangeBIN = [Daterange[i] for i in range(len(Daterange)) if i%60==0]\n",
    "            #add new timestamp to the initial file\n",
    "            df_date = pd.DataFrame({'New_Timestamp':DaterangeBIN})\n",
    "            df_date['New_Timestamp'] = df_date['New_Timestamp'].map(lambda x: pd.to_datetime(x))\n",
    "            df_bin = pd.merge_asof(df__, df_date, left_on=['Timestamp'], right_on=['New_Timestamp'], direction='forward')\n",
    "\n",
    "            #Then bin the data\n",
    "            h = 'Zone'\n",
    "            df_bin = df_bin[[h,'New_Timestamp']].copy()\n",
    "            df_bin['nbr_sec'] = 1\n",
    "            df_bin = df_bin.groupby(['New_Timestamp',h])['nbr_sec'].sum().reset_index() #sum to count as we have seconds\n",
    "            df_bin = df_bin.groupby(['New_Timestamp'])[h,'nbr_sec'].agg(lambda x: tuple(x)).reset_index()\n",
    "            df_bin['most_frequent_zone'] = df_bin.apply(lambda x: x[h][x['nbr_sec'].index(max(x['nbr_sec']))], axis=1)\n",
    "            df_bin['nbr_duration_per_zone'] = df_bin.apply(lambda x: str({x[h][k]:x['nbr_sec'][k] for k in range(len(x[h]))}), axis=1)\n",
    "            df_bin['nbr_lost_duration_per_zone'] = df_bin['nbr_duration_per_zone'].map(lambda x: str({z:v for z,v in eval(x).items() if \\\n",
    "                                                                               v!=max(eval(x).values())}))\n",
    "            df_bin['nbr_lost_duration'] = df_bin['nbr_lost_duration_per_zone'].map(lambda x: sum(eval(x).values()))\n",
    "            df_bin['perc_lost_duration'] = df_bin['nbr_lost_duration'].map(lambda x: x/60*100)\n",
    "            df_bin['day'] = df_bin['New_Timestamp'].map(lambda x: dt.datetime(x.year,x.month,x.day))\n",
    "            df_bin.to_csv(os.path.join(path__ ,'bining'+str(BatchID)+'.csv'), sep=';', index=False)\n",
    "            #display(df_bin.head(3))    \n",
    "\n",
    "            #extend to 1sec ts\n",
    "            df_bin = df_bin[['most_frequent_zone','New_Timestamp']]\n",
    "            df_bin.set_index('New_Timestamp', inplace=True)\n",
    "            df_bin1sec = df_bin.reindex(Daterange, method='ffill').reset_index()\n",
    "            df_bin1sec.rename(columns={'index':'Timestamp','most_frequent_zone':'binning_zone'}, inplace=True)\n",
    "            df_bin1sec.to_csv(os.path.join(path__,'1secTimeSeries_bining'+str(BatchID)+'.csv'), sep=';', index=False)\n",
    "            #display(df_bin1sec.head(3))\n",
    "\n",
    "            #join with bining\n",
    "            df_final = pd.merge(df__, df_bin1sec, on=['Timestamp'], how='outer')\n",
    "            df_final.to_csv(os.path.join(path__,'1secTimeSeries_ALL_'+str(BatchID)+'.csv'), sep=';', index=False)\n",
    "            li_df_dur.append(df_final)\n",
    "        #concat all final 1sec into one big\n",
    "        df_final = pd.concat(li_df_dur)\n",
    "        df_final.to_csv(os.path.join(path_extracted_data_cleaning,'1secTimeSeries_reliability.csv'), sep=';', index=False)\n",
    "        #display(df_final.head(3))\n",
    "\n",
    "        ##########################################################################################################\n",
    "        ########################################### create duration TS ###########################################\n",
    "        ##########################################################################################################\n",
    "        #in case: total nbr of zone, issue: not enough observatoin for kappa test \n",
    "        #df_transition = df_final.groupby(['BatchID'])[['Zone','model_ObservedZone','ObservedZone',\n",
    "        #                                               'binning_zone']].agg(lambda x: len(list_of_zones(x))-1).reset_index()\n",
    "                \n",
    "        li_df_zone = []\n",
    "        for c in ['Zone','model_ObservedZone','ObservedZone','binning_zone']:\n",
    "            df_transition_ = df_final.groupby(['BatchID'])[c].agg(lambda x: dict(Counter(list_of_zones(x)[1:]))).reset_index()\n",
    "            for z in df_final[c].unique():\n",
    "                df_transition_[z] = df_transition_[c].map(lambda x: x.get(z,0))\n",
    "            df_ = pd.melt(df_transition_, id_vars=['BatchID'], value_vars=df_final[c].unique())\n",
    "            df_.rename(columns={'value':c}, inplace=True)\n",
    "            li_df_zone.append(df_)\n",
    "        df_transition = li_df_zone[0]\n",
    "        for df_ in li_df_zone[1:]:\n",
    "            df_transition = pd.merge(df_, df_transition, on=['BatchID','variable'], how='outer')\n",
    "        print(df_transition.shape)\n",
    "        df_transition.head(3)\n",
    "        #display(df_transition.head(3))\n",
    "        df_transition.to_csv(os.path.join(path_extracted_data_cleaning,'reliability_transition.csv'), sep=';', index=False)\n",
    "        \n",
    "        print(df_testing_.shape, df_final.shape, df_transition.shape)\n",
    "        ##########################################################################################################\n",
    "        ###################################### relevance algo - records 0-1 ######################################\n",
    "        ##########################################################################################################\n",
    "        dico_name = {'tracking_prediction':'Zone','model_prediction':'model_ObservedZone'}\n",
    "        for c in ['model_prediction', 'tracking_prediction']:\n",
    "            li_t = df_testing_['VideoAnalyse'].astype(int).tolist()\n",
    "            li_p = df_testing_[c].astype(int).tolist()\n",
    "            res = classification_report(li_t, li_p, output_dict=True)\n",
    "            dico_ = res_intodico(res)\n",
    "            dico_['method'] = dico_name[c]\n",
    "            dico_['reliability_type'] = 'records-01'\n",
    "            dico_['kappa'] = cohen_kappa_score(li_t, li_p)\n",
    "            dico_['runID'] = runID; dico_['li_batch_selected'] = li_batch; dico_['nbr_batch'] = nbr_b ; dico_['CPairID'] = i\n",
    "            li_df.append(dico_)\n",
    "\n",
    "        ##########################################################################################################\n",
    "        ###################################### relevance algo - records zone #####################################\n",
    "        ##########################################################################################################\n",
    "        for c in ['Zone','model_ObservedZone']:\n",
    "            li_t = df_testing_['ObservedZone'].tolist()\n",
    "            li_p = df_testing_[c].tolist()            \n",
    "            res = classification_report(li_t, li_p, output_dict=True)\n",
    "            dico_ = res_intodico(res)\n",
    "            dico_['method'] = c\n",
    "            dico_['reliability_type'] = 'records-zone'\n",
    "            dico_['kappa'] = cohen_kappa_score(li_t, li_p)\n",
    "            dico_['runID'] = runID; dico_['li_batch_selected'] = li_batch; dico_['nbr_batch'] = nbr_b ; dico_['CPairID'] = i\n",
    "            li_df.append(dico_)\n",
    "\n",
    "        ##########################################################################################################\n",
    "        ############################### relevance behavioural data - duration 1secTS #############################\n",
    "        ##########################################################################################################\n",
    "        for c in ['Zone','model_ObservedZone','binning_zone']:\n",
    "            li_t = df_final['ObservedZone'].tolist()\n",
    "            li_p = df_final[c].tolist()\n",
    "            res = classification_report(li_t, li_p, output_dict=True)\n",
    "            dico_ = res_intodico(res)\n",
    "            dico_['method'] = c\n",
    "            dico_['reliability_type'] = 'duration_1secTS'\n",
    "            dico_['kappa'] = cohen_kappa_score(li_t, li_p)\n",
    "            dico_['runID'] = runID; dico_['li_batch_selected'] = li_batch; dico_['nbr_batch'] = nbr_b ; dico_['CPairID'] = i\n",
    "            li_df.append(dico_)\n",
    "\n",
    "        ##########################################################################################################\n",
    "        ################################## relevance behavioural data - transition ###############################\n",
    "        ##########################################################################################################\n",
    "        #does not make sense to compare per minutes the numebr of transition, as we dont really care if they areshifted by few minutes\n",
    "        #instead we will compare the number of transition per batch \n",
    "        for c in ['Zone', 'model_ObservedZone', 'binning_zone']:\n",
    "            df_ = pd.melt(df_transition.filter(['BatchID','ObservedZone', c],axis=1), id_vars=['BatchID'], \n",
    "                          value_vars=['ObservedZone', c])\n",
    "            #continuous reliability score\n",
    "            df_res = pg.intraclass_corr(data=df_, targets='BatchID', raters='variable', ratings='value')\n",
    "            dico_ = df_res[df_res['Type']=='ICC3'].to_dict(orient='records')[0]\n",
    "            dico_['method'] = c\n",
    "            dico_['reliability_type'] = 'transitions'\n",
    "            dico_['runID'] = runID; dico_['li_batch_selected'] = li_batch; dico_['nbr_batch'] = nbr_b ; dico_['CPairID'] = i\n",
    "            li_df.append(dico_)\n",
    "        #per zone for all the batches only\n",
    "        if li_batch1==li_batch2:\n",
    "            is_done=True\n",
    "            for z,df__ in df_transition.groupby('variable'):\n",
    "                for c in ['Zone', 'model_ObservedZone', 'binning_zone']:\n",
    "                    df_ = pd.melt(df__.filter(['BatchID','ObservedZone', c],axis=1), id_vars=['BatchID'], \n",
    "                                  value_vars=['ObservedZone', c])\n",
    "                    #continuous reliability score\n",
    "                    df_res = pg.intraclass_corr(data=df_, targets='BatchID', raters='variable', ratings='value')\n",
    "                    dico_ = df_res[df_res['Type']=='ICC3'].to_dict(orient='records')[0]\n",
    "                    dico_['method'] = c\n",
    "                    dico_['reliability_type'] = 'transitions_'+z\n",
    "                    dico_['runID'] = runID; dico_['li_batch_selected'] = li_batch; dico_['nbr_batch'] = nbr_b ; dico_['CPairID'] = i\n",
    "                    li_df.append(dico_)            \n",
    "            \n",
    "\n",
    "##########################################################################################################\n",
    "############################################### Save results #############################################\n",
    "##########################################################################################################\n",
    "END_TIME = time.clock()\n",
    "print (\"Total running time: %.2f mn\" %((END_TIME-START_TIME)/60))\n",
    "df_results = pd.DataFrame(li_df)\n",
    "li_var_tr = ['transitions','transitions_1Zone', 'transitions_2Zone', 'transitions_3Zone','transitions_4Zone', \n",
    "             'transitions_5Zone']\n",
    "df_results['accuracy_ICC'] = df_results.apply(lambda x: x['ICC'] if x['reliability_type'] in li_var_tr else x['accuracy'], \n",
    "                                              axis=1)\n",
    "#df_results.to_csv(os.path.join(path_extracted_data_cleaning,'reliability_RESULTS.csv'), sep=';', index=False)\n",
    "df_results[['accuracy','ICC','kappa','runID','method','reliability_type']]"
   ]
  },
  {
   "cell_type": "code",
   "execution_count": 41,
   "metadata": {},
   "outputs": [
    {
     "data": {
      "text/plain": [
       "7     80\n",
       "6     80\n",
       "17    25\n",
       "Name: nbr_batch, dtype: int64"
      ]
     },
     "execution_count": 41,
     "metadata": {},
     "output_type": "execute_result"
    }
   ],
   "source": [
    "df_results['nbr_batch'].value_counts()"
   ]
  },
  {
   "cell_type": "code",
   "execution_count": 42,
   "metadata": {
    "scrolled": false
   },
   "outputs": [
    {
     "name": "stderr",
     "output_type": "stream",
     "text": [
      "C:\\Users\\camil\\Anaconda3\\lib\\site-packages\\ipykernel_launcher.py:6: FutureWarning: Indexing with multiple keys (implicitly converted to a tuple of keys) will be deprecated, use a list instead.\n",
      "  \n"
     ]
    },
    {
     "data": {
      "image/png": "[encoded data removed]",
      "text/plain": [
       "<Figure size 432x288 with 1 Axes>"
      ]
     },
     "metadata": {
      "needs_background": "light"
     },
     "output_type": "display_data"
    },
    {
     "name": "stderr",
     "output_type": "stream",
     "text": [
      "C:\\Users\\camil\\Anaconda3\\lib\\site-packages\\ipykernel_launcher.py:6: FutureWarning: Indexing with multiple keys (implicitly converted to a tuple of keys) will be deprecated, use a list instead.\n",
      "  \n"
     ]
    },
    {
     "data": {
      "image/png": "[encoded data removed]",
      "text/plain": [
       "<Figure size 432x288 with 1 Axes>"
      ]
     },
     "metadata": {
      "needs_background": "light"
     },
     "output_type": "display_data"
    },
    {
     "name": "stderr",
     "output_type": "stream",
     "text": [
      "C:\\Users\\camil\\Anaconda3\\lib\\site-packages\\ipykernel_launcher.py:6: FutureWarning: Indexing with multiple keys (implicitly converted to a tuple of keys) will be deprecated, use a list instead.\n",
      "  \n"
     ]
    },
    {
     "data": {
      "image/png": "[encoded data removed]",
      "text/plain": [
       "<Figure size 432x288 with 1 Axes>"
      ]
     },
     "metadata": {
      "needs_background": "light"
     },
     "output_type": "display_data"
    },
    {
     "name": "stdout",
     "output_type": "stream",
     "text": [
      "(80, 6)\n",
      "LOOk AT THIS AND VERIFY THE OUTPUT\n"
     ]
    },
    {
     "data": {
      "text/html": [
       "<div>\n",
       "<style scoped>\n",
       "    .dataframe tbody tr th:only-of-type {\n",
       "        vertical-align: middle;\n",
       "    }\n",
       "\n",
       "    .dataframe tbody tr th {\n",
       "        vertical-align: top;\n",
       "    }\n",
       "\n",
       "    .dataframe thead th {\n",
       "        text-align: right;\n",
       "    }\n",
       "</style>\n",
       "<table border=\"1\" class=\"dataframe\">\n",
       "  <thead>\n",
       "    <tr style=\"text-align: right;\">\n",
       "      <th></th>\n",
       "      <th>runID</th>\n",
       "      <th>reliability_type</th>\n",
       "      <th>nbr_batch</th>\n",
       "      <th>accuracy_ICC</th>\n",
       "      <th>li_batch_selected</th>\n",
       "      <th>accuracy_ICC_diff</th>\n",
       "    </tr>\n",
       "  </thead>\n",
       "  <tbody>\n",
       "  </tbody>\n",
       "</table>\n",
       "</div>"
      ],
      "text/plain": [
       "Empty DataFrame\n",
       "Columns: [runID, reliability_type, nbr_batch, accuracy_ICC, li_batch_selected, accuracy_ICC_diff]\n",
       "Index: []"
      ]
     },
     "metadata": {},
     "output_type": "display_data"
    },
    {
     "data": {
      "text/html": [
       "<div>\n",
       "<style scoped>\n",
       "    .dataframe tbody tr th:only-of-type {\n",
       "        vertical-align: middle;\n",
       "    }\n",
       "\n",
       "    .dataframe tbody tr th {\n",
       "        vertical-align: top;\n",
       "    }\n",
       "\n",
       "    .dataframe thead th {\n",
       "        text-align: right;\n",
       "    }\n",
       "</style>\n",
       "<table border=\"1\" class=\"dataframe\">\n",
       "  <thead>\n",
       "    <tr style=\"text-align: right;\">\n",
       "      <th></th>\n",
       "      <th>ICC</th>\n",
       "      <th>F</th>\n",
       "      <th>df1</th>\n",
       "      <th>df2</th>\n",
       "      <th>pval</th>\n",
       "      <th>CI95%</th>\n",
       "    </tr>\n",
       "  </thead>\n",
       "  <tbody>\n",
       "    <tr>\n",
       "      <th>88</th>\n",
       "      <td>1.0</td>\n",
       "      <td>-3.498332e+15</td>\n",
       "      <td>6.0</td>\n",
       "      <td>6.0</td>\n",
       "      <td>1.0</td>\n",
       "      <td>[1.0, 1.0]</td>\n",
       "    </tr>\n",
       "    <tr>\n",
       "      <th>179</th>\n",
       "      <td>1.0</td>\n",
       "      <td>-6.738842e+15</td>\n",
       "      <td>16.0</td>\n",
       "      <td>16.0</td>\n",
       "      <td>1.0</td>\n",
       "      <td>[1.0, 1.0]</td>\n",
       "    </tr>\n",
       "    <tr>\n",
       "      <th>180</th>\n",
       "      <td>1.0</td>\n",
       "      <td>-6.738842e+15</td>\n",
       "      <td>16.0</td>\n",
       "      <td>16.0</td>\n",
       "      <td>1.0</td>\n",
       "      <td>[1.0, 1.0]</td>\n",
       "    </tr>\n",
       "    <tr>\n",
       "      <th>183</th>\n",
       "      <td>1.0</td>\n",
       "      <td>-7.351464e+15</td>\n",
       "      <td>16.0</td>\n",
       "      <td>16.0</td>\n",
       "      <td>1.0</td>\n",
       "      <td>[1.0, 1.0]</td>\n",
       "    </tr>\n",
       "    <tr>\n",
       "      <th>184</th>\n",
       "      <td>1.0</td>\n",
       "      <td>-7.351464e+15</td>\n",
       "      <td>16.0</td>\n",
       "      <td>16.0</td>\n",
       "      <td>1.0</td>\n",
       "      <td>[1.0, 1.0]</td>\n",
       "    </tr>\n",
       "  </tbody>\n",
       "</table>\n",
       "</div>"
      ],
      "text/plain": [
       "     ICC             F   df1   df2  pval       CI95%\n",
       "88   1.0 -3.498332e+15   6.0   6.0   1.0  [1.0, 1.0]\n",
       "179  1.0 -6.738842e+15  16.0  16.0   1.0  [1.0, 1.0]\n",
       "180  1.0 -6.738842e+15  16.0  16.0   1.0  [1.0, 1.0]\n",
       "183  1.0 -7.351464e+15  16.0  16.0   1.0  [1.0, 1.0]\n",
       "184  1.0 -7.351464e+15  16.0  16.0   1.0  [1.0, 1.0]"
      ]
     },
     "execution_count": 42,
     "metadata": {},
     "output_type": "execute_result"
    }
   ],
   "source": [
    "#visualize the results\n",
    "li_df = []\n",
    "for m, df_ in df_results[df_results['nbr_batch']!=len(df_testing['BatchID'].unique())].groupby(['method']):    \n",
    "    #compute difference across the associated batches combination\n",
    "    df_ = df_.filter(['reliability_type','accuracy_ICC','nbr_batch','runID','li_batch_selected'], axis=1)\n",
    "    df_ = df_.groupby(['runID','reliability_type','nbr_batch'])['accuracy_ICC','li_batch_selected'].agg(lambda x: list(x)).reset_index()\n",
    "    df_['accuracy_ICC_diff'] = df_['accuracy_ICC'].map(lambda x: abs(x[0]-x[1])*100)\n",
    "    li_df.append(df_)\n",
    "    #display(df_.head(3))\n",
    "    #plot\n",
    "    ax = sns.boxplot(x=\"nbr_batch\", y=\"accuracy_ICC_diff\", hue=\"reliability_type\", data=df_, palette=\"Set3\")\n",
    "    plt.title(m)\n",
    "    plt.xlabel('number of batched in a set')\n",
    "    plt.ylabel('accuarcy/ICC\\'s difference across 2 sets of distinct batches')\n",
    "    #plt.savefig(os.path.join(path_extracted_data_cleaning,'ReliabilityStability_'+m+'.png'), bbox_inches='tight')\n",
    "    plt.show()\n",
    "df_acc_diff = pd.concat(li_df)\n",
    "print(df_acc_diff.shape)\n",
    "df_acc_diff.to_csv(os.path.join(path_extracted_data_cleaning,'reliability_RESULTs_acc_difference.csv'), sep=';', index=False)\n",
    "print('LOOk AT THIS AND VERIFY THE OUTPUT')\n",
    "display(df_acc_diff[df_acc_diff['accuracy_ICC_diff']>30].head(10))\n",
    "#ATTENTION: VERIFY p_val!!!!!!!\n",
    "#for df_results['reliability_type']=='transitions')], verify all p-values are smaller <05 (dont remove the other one as I am \n",
    "#not sure its not cheating)\n",
    "df_results[df_results['pval']>0.05][['ICC','F','df1','df2','pval','CI95%']]"
   ]
  },
  {
   "cell_type": "code",
   "execution_count": 43,
   "metadata": {},
   "outputs": [
    {
     "name": "stdout",
     "output_type": "stream",
     "text": [
      "(21, 52)\n"
     ]
    },
    {
     "data": {
      "text/plain": [
       "Text(0, 0.5, 'accuraccy - ICC scores')"
      ]
     },
     "execution_count": 43,
     "metadata": {},
     "output_type": "execute_result"
    },
    {
     "data": {
      "image/png": "[encoded data removed]",
      "text/plain": [
       "<Figure size 576x432 with 1 Axes>"
      ]
     },
     "metadata": {
      "needs_background": "light"
     },
     "output_type": "display_data"
    }
   ],
   "source": [
    "li_rel_type = ['duration_1secTS', 'transitions','transitions_1Zone', 'transitions_2Zone', 'transitions_3Zone',\n",
    "               'transitions_4Zone', 'transitions_5Zone']\n",
    "df_plt = df_results[(df_results['nbr_batch']==len(df_testing['BatchID'].unique()))&\\\n",
    "                    (df_results['reliability_type'].isin(li_rel_type))]\n",
    "print(df_plt.shape)\n",
    "#df_plt[['runID','method','accuracy_ICC']]\n",
    "plt.figure(figsize=(8,6))\n",
    "ax = sns.barplot(x=\"reliability_type\", y=\"accuracy_ICC\", hue=\"method\", data=df_plt, palette=\"Set3\")\n",
    "plt.xticks(fontsize=10,rotation=70)\n",
    "plt.ylim(0.85,1)\n",
    "plt.xlabel('type of reliability')\n",
    "plt.ylabel('accuraccy - ICC scores')\n",
    "#plt.savefig(os.path.join(path_extracted_data_cleaning,'ReliabilityMethodsComparison.png'), bbox_inches='tight')"
   ]
  },
  {
   "cell_type": "code",
   "execution_count": null,
   "metadata": {},
   "outputs": [],
   "source": []
  },
  {
   "cell_type": "code",
   "execution_count": null,
   "metadata": {},
   "outputs": [],
   "source": []
  },
  {
   "cell_type": "markdown",
   "metadata": {},
   "source": [
    "df_results[(df_results['runID']=='65999852-3024-11eb-a16f-9822ef705bb4')&\\\n",
    "           (df_results['reliability_type']=='transitions')] #[['accuracy','ICC','accuracy_ICC']]"
   ]
  },
  {
   "cell_type": "markdown",
   "metadata": {},
   "source": [
    "df_results = pd.read_csv(os.path.join(path_extracted_data_cleaning,'reliability_RESULTS.csv'), sep=';')\n",
    "print(df_results.shape)\n",
    "df_results.head(3)"
   ]
  },
  {
   "cell_type": "code",
   "execution_count": null,
   "metadata": {},
   "outputs": [],
   "source": []
  },
  {
   "cell_type": "code",
   "execution_count": null,
   "metadata": {},
   "outputs": [],
   "source": []
  },
  {
   "cell_type": "code",
   "execution_count": null,
   "metadata": {},
   "outputs": [],
   "source": []
  },
  {
   "cell_type": "code",
   "execution_count": null,
   "metadata": {},
   "outputs": [],
   "source": []
  },
  {
   "cell_type": "code",
   "execution_count": null,
   "metadata": {},
   "outputs": [],
   "source": []
  },
  {
   "cell_type": "code",
   "execution_count": null,
   "metadata": {},
   "outputs": [],
   "source": []
  },
  {
   "cell_type": "code",
   "execution_count": null,
   "metadata": {},
   "outputs": [],
   "source": []
  },
  {
   "cell_type": "code",
   "execution_count": null,
   "metadata": {},
   "outputs": [],
   "source": []
  },
  {
   "cell_type": "code",
   "execution_count": null,
   "metadata": {},
   "outputs": [],
   "source": []
  }
 ],
 "metadata": {
  "kernelspec": {
   "display_name": "Python 3",
   "language": "python",
   "name": "python3"
  },
  "language_info": {
   "codemirror_mode": {
    "name": "ipython",
    "version": 3
   },
   "file_extension": ".py",
   "mimetype": "text/x-python",
   "name": "python",
   "nbconvert_exporter": "python",
   "pygments_lexer": "ipython3",
   "version": "3.6.10"
  }
 },
 "nbformat": 4,
 "nbformat_minor": 2
}
