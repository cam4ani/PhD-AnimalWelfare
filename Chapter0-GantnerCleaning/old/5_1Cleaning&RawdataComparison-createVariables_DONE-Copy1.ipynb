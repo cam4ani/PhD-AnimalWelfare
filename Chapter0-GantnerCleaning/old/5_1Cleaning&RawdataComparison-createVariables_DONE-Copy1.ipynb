{
 "cells": [
  {
   "cell_type": "code",
   "execution_count": 1,
   "metadata": {},
   "outputs": [],
   "source": [
    "#basic package\n",
    "import json\n",
    "import tqdm\n",
    "import os\n",
    "import numpy as np\n",
    "import glob\n",
    "import pandas as pd\n",
    "import sys\n",
    "import shutil\n",
    "import time\n",
    "import datetime as dt\n",
    "\n",
    "#modelling\n",
    "from catboost import CatBoostClassifier\n",
    "\n",
    "#plot\n",
    "import matplotlib.pyplot as plt\n",
    "import seaborn as sns"
   ]
  },
  {
   "cell_type": "code",
   "execution_count": 2,
   "metadata": {},
   "outputs": [
    {
     "name": "stderr",
     "output_type": "stream",
     "text": [
      "C:\\Users\\camil\\anaconda3\\lib\\site-packages\\scipy\\sparse\\sparsetools.py:21: DeprecationWarning: `scipy.sparse.sparsetools` is deprecated!\n",
      "scipy.sparse.sparsetools is a private module for scipy.sparse, and should not be used.\n",
      "  _deprecated()\n"
     ]
    }
   ],
   "source": [
    "PACKAGE_PARENT = '../'\n",
    "SCRIPT_DIR = os.path.dirname(os.path.realpath(os.path.join(os.getcwd(), os.path.expanduser('__file__'))))\n",
    "sys.path.append(os.path.normpath(os.path.join(SCRIPT_DIR, PACKAGE_PARENT)))\n",
    "from UTILS import preprocessing_Origins, cleaning_processing, HenDailyVariable_Origins\n",
    "import config_origins as config"
   ]
  },
  {
   "cell_type": "code",
   "execution_count": 3,
   "metadata": {},
   "outputs": [
    {
     "name": "stderr",
     "output_type": "stream",
     "text": [
      "C:\\Users\\camil\\anaconda3\\lib\\site-packages\\ipykernel\\ipkernel.py:283: DeprecationWarning: `should_run_async` will not call `transform_cell` automatically in the future. Please pass the result to `transformed_cell` argument and any exception that happen during thetransform in `preprocessing_exc_tuple` in IPython 7.17 and above.\n",
      "  and should_run_async(code)\n"
     ]
    }
   ],
   "source": [
    "#initialise parameters\n",
    "path_extracted_data = config.path_extracted_data\n",
    "path_initial_data = config.path_initial_data\n",
    "id_run = config.id_run\n",
    "dico_matching = config.dico_matching\n",
    "dico_night_hour = config.dico_night_hour\n",
    "nbr_maxdur2beremoved = config.nbr_maxdur2beremoved\n",
    "dico_garden_opening_hour = config.dico_garden_opening_hour\n",
    "path_extracted_data_cleaning = os.path.join(path_extracted_data,'Cleaning')\n",
    "path_extracted_data_cleaning_model = os.path.join(path_extracted_data_cleaning,'model')  \n",
    "path_extracted_data_cleaning_rawvscleaned = os.path.join(path_extracted_data_cleaning,'Raw&Cleaned')  \n",
    "#create a director if not existing\n",
    "if not os.path.exists(path_extracted_data_cleaning_rawvscleaned):\n",
    "    os.makedirs(path_extracted_data_cleaning_rawvscleaned)\n",
    "path_extracted_data_cleaning_rawvscleaned_DF = os.path.join(path_extracted_data_cleaning_rawvscleaned,'var_expl')\n",
    "if not os.path.exists(path_extracted_data_cleaning_rawvscleaned_DF):\n",
    "    os.makedirs(path_extracted_data_cleaning_rawvscleaned_DF)\n",
    "\n",
    "#feature for model\n",
    "li_cont_select = config.li_cont_select\n",
    "li_bin = config.li_bin\n",
    "li_cat_select = config.li_cat_select"
   ]
  },
  {
   "cell_type": "code",
   "execution_count": 4,
   "metadata": {},
   "outputs": [
    {
     "name": "stderr",
     "output_type": "stream",
     "text": [
      "C:\\Users\\camil\\anaconda3\\lib\\site-packages\\ipykernel\\ipkernel.py:283: DeprecationWarning: `should_run_async` will not call `transform_cell` automatically in the future. Please pass the result to `transformed_cell` argument and any exception that happen during thetransform in `preprocessing_exc_tuple` in IPython 7.17 and above.\n",
      "  and should_run_async(code)\n"
     ]
    }
   ],
   "source": [
    "#name_method = 'ML-method'\n",
    "name_method = 'TD-method'"
   ]
  },
  {
   "cell_type": "markdown",
   "metadata": {},
   "source": [
    "# Download data & model"
   ]
  },
  {
   "cell_type": "code",
   "execution_count": 5,
   "metadata": {},
   "outputs": [
    {
     "name": "stderr",
     "output_type": "stream",
     "text": [
      "C:\\Users\\camil\\anaconda3\\lib\\site-packages\\ipykernel\\ipkernel.py:283: DeprecationWarning: `should_run_async` will not call `transform_cell` automatically in the future. Please pass the result to `transformed_cell` argument and any exception that happen during thetransform in `preprocessing_exc_tuple` in IPython 7.17 and above.\n",
      "  and should_run_async(code)\n"
     ]
    },
    {
     "data": {
      "text/plain": [
       "datetime.datetime(2021, 1, 12, 0, 0)"
      ]
     },
     "execution_count": 5,
     "metadata": {},
     "output_type": "execute_result"
    }
   ],
   "source": [
    "##when the verification_daily_total_duration'==54000, i.e we restrict to the same amount of day light & data that model \n",
    "#was not trained on\n",
    "date_min = dt.datetime(2020, 11, 13)\n",
    "date_max = date_min+dt.timedelta(days=60)\n",
    "date_max"
   ]
  },
  {
   "cell_type": "markdown",
   "metadata": {},
   "source": [
    "#download data and add the necessary processing as the duration, next/previous zones etc\n",
    "#steps also done in \"1_PreprocessedTraining&TestingData\"\n",
    "START_TIME = time.perf_counter()\n",
    "#min date is dt.datetime(2020, 10, 15) so that we dont have only birds not moving\n",
    "df = cleaning_processing(date_min=date_min, date_max=date_max, config=config)\n",
    "df['time'] = df['Timestamp'].map(lambda x: dt.datetime.time(x))\n",
    "df.rename(columns={'Zone':'Trackingsystem_Zone'}, inplace=True)\n",
    "df.to_csv(os.path.join(path_extracted_data_cleaning_rawvscleaned,'df_records_initial_processed.csv'), sep=';', index=False)\n",
    "END_TIME = time.perf_counter()\n",
    "print (\"Total running time: %.2f mn\" %((END_TIME-START_TIME)/60))\n",
    "print(df.shape)\n",
    "df.head(3)"
   ]
  },
  {
   "cell_type": "code",
   "execution_count": 6,
   "metadata": {},
   "outputs": [
    {
     "name": "stderr",
     "output_type": "stream",
     "text": [
      "C:\\Users\\camil\\anaconda3\\lib\\site-packages\\ipykernel\\ipkernel.py:283: DeprecationWarning: `should_run_async` will not call `transform_cell` automatically in the future. Please pass the result to `transformed_cell` argument and any exception that happen during thetransform in `preprocessing_exc_tuple` in IPython 7.17 and above.\n",
      "  and should_run_async(code)\n"
     ]
    }
   ],
   "source": [
    "model = CatBoostClassifier()\n",
    "model.load_model(os.path.join(path_extracted_data_cleaning_model,'FINAL_Catboost'));"
   ]
  },
  {
   "cell_type": "markdown",
   "metadata": {},
   "source": [
    "# Data preprocessing"
   ]
  },
  {
   "cell_type": "code",
   "execution_count": 7,
   "metadata": {},
   "outputs": [
    {
     "name": "stderr",
     "output_type": "stream",
     "text": [
      "C:\\Users\\camil\\anaconda3\\lib\\site-packages\\ipykernel\\ipkernel.py:283: DeprecationWarning: `should_run_async` will not call `transform_cell` automatically in the future. Please pass the result to `transformed_cell` argument and any exception that happen during thetransform in `preprocessing_exc_tuple` in IPython 7.17 and above.\n",
      "  and should_run_async(code)\n"
     ]
    },
    {
     "data": {
      "text/plain": [
       "False    323673\n",
       "True     283289\n",
       "Name: is_dur_smaller_60sec, dtype: int64"
      ]
     },
     "metadata": {},
     "output_type": "display_data"
    },
    {
     "name": "stdout",
     "output_type": "stream",
     "text": [
      "(606962, 45)\n"
     ]
    },
    {
     "data": {
      "text/html": [
       "<div>\n",
       "<style scoped>\n",
       "    .dataframe tbody tr th:only-of-type {\n",
       "        vertical-align: middle;\n",
       "    }\n",
       "\n",
       "    .dataframe tbody tr th {\n",
       "        vertical-align: top;\n",
       "    }\n",
       "\n",
       "    .dataframe thead th {\n",
       "        text-align: right;\n",
       "    }\n",
       "</style>\n",
       "<table border=\"1\" class=\"dataframe\">\n",
       "  <thead>\n",
       "    <tr style=\"text-align: right;\">\n",
       "      <th></th>\n",
       "      <th>Timestamp</th>\n",
       "      <th>HenID</th>\n",
       "      <th>Trackingsystem_Zone</th>\n",
       "      <th>PenID</th>\n",
       "      <th>ts_order</th>\n",
       "      <th>TagID</th>\n",
       "      <th>signalstrength</th>\n",
       "      <th>system</th>\n",
       "      <th>time</th>\n",
       "      <th>date</th>\n",
       "      <th>...</th>\n",
       "      <th>zone2_match</th>\n",
       "      <th>zone3_match</th>\n",
       "      <th>zone4_match</th>\n",
       "      <th>zone3_match_exist</th>\n",
       "      <th>next2zone==Zone</th>\n",
       "      <th>previous2zone==Zone</th>\n",
       "      <th>is_dur_smaller_60sec</th>\n",
       "      <th>duration_bounded_mn</th>\n",
       "      <th>next_duration_bounded_mn</th>\n",
       "      <th>previous_duration_bounded_mn</th>\n",
       "    </tr>\n",
       "  </thead>\n",
       "  <tbody>\n",
       "    <tr>\n",
       "      <th>0</th>\n",
       "      <td>2020-10-27 00:03:07</td>\n",
       "      <td>hen_100</td>\n",
       "      <td>4_Zone</td>\n",
       "      <td>pen5</td>\n",
       "      <td>105930</td>\n",
       "      <td>tag_121</td>\n",
       "      <td>6</td>\n",
       "      <td>3 - 5</td>\n",
       "      <td>00:03:07</td>\n",
       "      <td>2020-10-27</td>\n",
       "      <td>...</td>\n",
       "      <td>3_Zone</td>\n",
       "      <td>2_Zone</td>\n",
       "      <td>NoOtherZone</td>\n",
       "      <td>1</td>\n",
       "      <td>0</td>\n",
       "      <td>0</td>\n",
       "      <td>True</td>\n",
       "      <td>0.083333</td>\n",
       "      <td>17.666667</td>\n",
       "      <td>0.000000</td>\n",
       "    </tr>\n",
       "    <tr>\n",
       "      <th>1</th>\n",
       "      <td>2020-10-27 00:03:12</td>\n",
       "      <td>hen_100</td>\n",
       "      <td>5_Zone</td>\n",
       "      <td>pen5</td>\n",
       "      <td>105931</td>\n",
       "      <td>tag_121</td>\n",
       "      <td>9</td>\n",
       "      <td>3 - 5</td>\n",
       "      <td>00:03:12</td>\n",
       "      <td>2020-10-27</td>\n",
       "      <td>...</td>\n",
       "      <td>4_Zone</td>\n",
       "      <td>NoOtherZone</td>\n",
       "      <td>NoOtherZone</td>\n",
       "      <td>0</td>\n",
       "      <td>1</td>\n",
       "      <td>0</td>\n",
       "      <td>False</td>\n",
       "      <td>17.666667</td>\n",
       "      <td>0.116667</td>\n",
       "      <td>0.083333</td>\n",
       "    </tr>\n",
       "    <tr>\n",
       "      <th>2</th>\n",
       "      <td>2020-10-27 00:15:39</td>\n",
       "      <td>hen_73</td>\n",
       "      <td>4_Zone</td>\n",
       "      <td>pen4</td>\n",
       "      <td>105932</td>\n",
       "      <td>tag_41</td>\n",
       "      <td>4</td>\n",
       "      <td>3 - 5</td>\n",
       "      <td>00:15:39</td>\n",
       "      <td>2020-10-27</td>\n",
       "      <td>...</td>\n",
       "      <td>5_Zone</td>\n",
       "      <td>NoOtherZone</td>\n",
       "      <td>NoOtherZone</td>\n",
       "      <td>0</td>\n",
       "      <td>1</td>\n",
       "      <td>0</td>\n",
       "      <td>True</td>\n",
       "      <td>0.050000</td>\n",
       "      <td>4.950000</td>\n",
       "      <td>0.000000</td>\n",
       "    </tr>\n",
       "  </tbody>\n",
       "</table>\n",
       "<p>3 rows × 45 columns</p>\n",
       "</div>"
      ],
      "text/plain": [
       "            Timestamp    HenID Trackingsystem_Zone PenID  ts_order    TagID  \\\n",
       "0 2020-10-27 00:03:07  hen_100              4_Zone  pen5    105930  tag_121   \n",
       "1 2020-10-27 00:03:12  hen_100              5_Zone  pen5    105931  tag_121   \n",
       "2 2020-10-27 00:15:39   hen_73              4_Zone  pen4    105932   tag_41   \n",
       "\n",
       "   signalstrength system      time       date  ...  zone2_match  zone3_match  \\\n",
       "0               6  3 - 5  00:03:07 2020-10-27  ...       3_Zone       2_Zone   \n",
       "1               9  3 - 5  00:03:12 2020-10-27  ...       4_Zone  NoOtherZone   \n",
       "2               4  3 - 5  00:15:39 2020-10-27  ...       5_Zone  NoOtherZone   \n",
       "\n",
       "   zone4_match zone3_match_exist next2zone==Zone previous2zone==Zone  \\\n",
       "0  NoOtherZone                 1               0                   0   \n",
       "1  NoOtherZone                 0               1                   0   \n",
       "2  NoOtherZone                 0               1                   0   \n",
       "\n",
       "   is_dur_smaller_60sec  duration_bounded_mn  next_duration_bounded_mn  \\\n",
       "0                  True             0.083333                 17.666667   \n",
       "1                 False            17.666667                  0.116667   \n",
       "2                  True             0.050000                  4.950000   \n",
       "\n",
       "  previous_duration_bounded_mn  \n",
       "0                     0.000000  \n",
       "1                     0.083333  \n",
       "2                     0.000000  \n",
       "\n",
       "[3 rows x 45 columns]"
      ]
     },
     "execution_count": 7,
     "metadata": {},
     "output_type": "execute_result"
    }
   ],
   "source": [
    "#for me reproducible examples, we will donload the file again here\n",
    "df = pd.read_csv(os.path.join(path_extracted_data_cleaning_rawvscleaned,'df_records_initial_processed.csv'), sep=';',\n",
    "                 parse_dates=['Timestamp','date'], dayfirst=True) \n",
    "df['is_dur_smaller_60sec'] = df['duration'].map(lambda x: x<60)\n",
    "display(df['is_dur_smaller_60sec'].value_counts())\n",
    "df['duration_bounded_mn'] = df['duration'].map(lambda x: min(x,60*60)/60)\n",
    "df['next_duration_bounded_mn'] = df['next_duration'].map(lambda x: min(x,60*60)/60)\n",
    "df['previous_duration_bounded_mn'] = df['previous_duration'].map(lambda x: min(x,60*60)/60)\n",
    "print(df.shape)\n",
    "df.head(3)"
   ]
  },
  {
   "cell_type": "markdown",
   "metadata": {},
   "source": [
    "### handle nan"
   ]
  },
  {
   "cell_type": "code",
   "execution_count": 8,
   "metadata": {},
   "outputs": [
    {
     "name": "stderr",
     "output_type": "stream",
     "text": [
      "C:\\Users\\camil\\anaconda3\\lib\\site-packages\\ipykernel\\ipkernel.py:283: DeprecationWarning: `should_run_async` will not call `transform_cell` automatically in the future. Please pass the result to `transformed_cell` argument and any exception that happen during thetransform in `preprocessing_exc_tuple` in IPython 7.17 and above.\n",
      "  and should_run_async(code)\n"
     ]
    },
    {
     "data": {
      "text/plain": [
       "0    606460\n",
       "1       342\n",
       "2       160\n",
       "Name: nbr_nan, dtype: int64"
      ]
     },
     "metadata": {},
     "output_type": "display_data"
    },
    {
     "data": {
      "text/html": [
       "<div>\n",
       "<style scoped>\n",
       "    .dataframe tbody tr th:only-of-type {\n",
       "        vertical-align: middle;\n",
       "    }\n",
       "\n",
       "    .dataframe tbody tr th {\n",
       "        vertical-align: top;\n",
       "    }\n",
       "\n",
       "    .dataframe thead th {\n",
       "        text-align: right;\n",
       "    }\n",
       "</style>\n",
       "<table border=\"1\" class=\"dataframe\">\n",
       "  <thead>\n",
       "    <tr style=\"text-align: right;\">\n",
       "      <th></th>\n",
       "      <th>Trackingsystem_Zone</th>\n",
       "      <th>zone2_match</th>\n",
       "      <th>previous1_zone</th>\n",
       "      <th>next1_zone</th>\n",
       "      <th>system</th>\n",
       "    </tr>\n",
       "  </thead>\n",
       "  <tbody>\n",
       "    <tr>\n",
       "      <th>0</th>\n",
       "      <td>4_Zone</td>\n",
       "      <td>3_Zone</td>\n",
       "      <td>NaN</td>\n",
       "      <td>5_Zone</td>\n",
       "      <td>3 - 5</td>\n",
       "    </tr>\n",
       "    <tr>\n",
       "      <th>1</th>\n",
       "      <td>5_Zone</td>\n",
       "      <td>4_Zone</td>\n",
       "      <td>4_Zone</td>\n",
       "      <td>3_Zone</td>\n",
       "      <td>3 - 5</td>\n",
       "    </tr>\n",
       "    <tr>\n",
       "      <th>2</th>\n",
       "      <td>4_Zone</td>\n",
       "      <td>5_Zone</td>\n",
       "      <td>NaN</td>\n",
       "      <td>3_Zone</td>\n",
       "      <td>3 - 5</td>\n",
       "    </tr>\n",
       "  </tbody>\n",
       "</table>\n",
       "</div>"
      ],
      "text/plain": [
       "  Trackingsystem_Zone zone2_match previous1_zone next1_zone system\n",
       "0              4_Zone      3_Zone            NaN     5_Zone  3 - 5\n",
       "1              5_Zone      4_Zone         4_Zone     3_Zone  3 - 5\n",
       "2              4_Zone      5_Zone            NaN     3_Zone  3 - 5"
      ]
     },
     "metadata": {},
     "output_type": "display_data"
    },
    {
     "data": {
      "text/html": [
       "<div>\n",
       "<style scoped>\n",
       "    .dataframe tbody tr th:only-of-type {\n",
       "        vertical-align: middle;\n",
       "    }\n",
       "\n",
       "    .dataframe tbody tr th {\n",
       "        vertical-align: top;\n",
       "    }\n",
       "\n",
       "    .dataframe thead th {\n",
       "        text-align: right;\n",
       "    }\n",
       "</style>\n",
       "<table border=\"1\" class=\"dataframe\">\n",
       "  <thead>\n",
       "    <tr style=\"text-align: right;\">\n",
       "      <th></th>\n",
       "      <th>signalstrength</th>\n",
       "      <th>signalstzone2</th>\n",
       "      <th>duration_bounded_mn</th>\n",
       "      <th>next_duration_bounded_mn</th>\n",
       "      <th>previous_duration_bounded_mn</th>\n",
       "      <th>next2zone==Zone</th>\n",
       "      <th>previous2zone==Zone</th>\n",
       "      <th>zone3_match_exist</th>\n",
       "    </tr>\n",
       "  </thead>\n",
       "  <tbody>\n",
       "    <tr>\n",
       "      <th>0</th>\n",
       "      <td>6</td>\n",
       "      <td>5</td>\n",
       "      <td>0.083333</td>\n",
       "      <td>17.666667</td>\n",
       "      <td>0.000000</td>\n",
       "      <td>0</td>\n",
       "      <td>0</td>\n",
       "      <td>1</td>\n",
       "    </tr>\n",
       "    <tr>\n",
       "      <th>1</th>\n",
       "      <td>9</td>\n",
       "      <td>6</td>\n",
       "      <td>17.666667</td>\n",
       "      <td>0.116667</td>\n",
       "      <td>0.083333</td>\n",
       "      <td>1</td>\n",
       "      <td>0</td>\n",
       "      <td>0</td>\n",
       "    </tr>\n",
       "    <tr>\n",
       "      <th>2</th>\n",
       "      <td>4</td>\n",
       "      <td>3</td>\n",
       "      <td>0.050000</td>\n",
       "      <td>4.950000</td>\n",
       "      <td>0.000000</td>\n",
       "      <td>1</td>\n",
       "      <td>0</td>\n",
       "      <td>0</td>\n",
       "    </tr>\n",
       "  </tbody>\n",
       "</table>\n",
       "</div>"
      ],
      "text/plain": [
       "   signalstrength  signalstzone2  duration_bounded_mn  \\\n",
       "0               6              5             0.083333   \n",
       "1               9              6            17.666667   \n",
       "2               4              3             0.050000   \n",
       "\n",
       "   next_duration_bounded_mn  previous_duration_bounded_mn  next2zone==Zone  \\\n",
       "0                 17.666667                      0.000000                0   \n",
       "1                  0.116667                      0.083333                1   \n",
       "2                  4.950000                      0.000000                1   \n",
       "\n",
       "   previous2zone==Zone  zone3_match_exist  \n",
       "0                    0                  1  \n",
       "1                    0                  0  \n",
       "2                    0                  0  "
      ]
     },
     "metadata": {},
     "output_type": "display_data"
    },
    {
     "data": {
      "text/html": [
       "<div>\n",
       "<style scoped>\n",
       "    .dataframe tbody tr th:only-of-type {\n",
       "        vertical-align: middle;\n",
       "    }\n",
       "\n",
       "    .dataframe tbody tr th {\n",
       "        vertical-align: top;\n",
       "    }\n",
       "\n",
       "    .dataframe thead th {\n",
       "        text-align: right;\n",
       "    }\n",
       "</style>\n",
       "<table border=\"1\" class=\"dataframe\">\n",
       "  <thead>\n",
       "    <tr style=\"text-align: right;\">\n",
       "      <th></th>\n",
       "      <th>Trackingsystem_Zone</th>\n",
       "      <th>zone2_match</th>\n",
       "      <th>previous1_zone</th>\n",
       "      <th>next1_zone</th>\n",
       "      <th>system</th>\n",
       "    </tr>\n",
       "  </thead>\n",
       "  <tbody>\n",
       "    <tr>\n",
       "      <th>0</th>\n",
       "      <td>4_Zone</td>\n",
       "      <td>3_Zone</td>\n",
       "      <td>3_Zone</td>\n",
       "      <td>5_Zone</td>\n",
       "      <td>3 - 5</td>\n",
       "    </tr>\n",
       "    <tr>\n",
       "      <th>1</th>\n",
       "      <td>5_Zone</td>\n",
       "      <td>4_Zone</td>\n",
       "      <td>4_Zone</td>\n",
       "      <td>3_Zone</td>\n",
       "      <td>3 - 5</td>\n",
       "    </tr>\n",
       "    <tr>\n",
       "      <th>2</th>\n",
       "      <td>4_Zone</td>\n",
       "      <td>5_Zone</td>\n",
       "      <td>3_Zone</td>\n",
       "      <td>3_Zone</td>\n",
       "      <td>3 - 5</td>\n",
       "    </tr>\n",
       "  </tbody>\n",
       "</table>\n",
       "</div>"
      ],
      "text/plain": [
       "  Trackingsystem_Zone zone2_match previous1_zone next1_zone system\n",
       "0              4_Zone      3_Zone         3_Zone     5_Zone  3 - 5\n",
       "1              5_Zone      4_Zone         4_Zone     3_Zone  3 - 5\n",
       "2              4_Zone      5_Zone         3_Zone     3_Zone  3 - 5"
      ]
     },
     "metadata": {},
     "output_type": "display_data"
    }
   ],
   "source": [
    "#add info on nan values in the initial df, in order to replace at the end all prediction based on features involvig at least \n",
    "#one nan, by 1\n",
    "#Indeed, for records with some nan features, we will predict them a 1 all the time its only 0,05% of the time , i.e. when its \n",
    "#first or last transition. Indeed, we dont want to loose any records!\n",
    "df['nbr_nan'] = df.filter(li_cont_select+li_cat_select, axis=1).isnull().sum(axis=1).tolist()\n",
    "display(df['nbr_nan'].value_counts())\n",
    "#fillnan for simplicity, but we will remove those rows predictions anyway\n",
    "#display BEFORE categoricalfeatures\n",
    "display(df[li_cat_select].head(3))\n",
    "df[li_cont_select] = df[li_cont_select].fillna(df[li_cont_select].mean().iloc[0])\n",
    "#display AFTER categoricalfeatures\n",
    "df[li_cat_select] = df[li_cat_select].fillna(df[li_cat_select].mode().iloc[0])\n",
    "#show data\n",
    "display(df[config.li_cont_select].head(3))\n",
    "display(df[config.li_cat_select].head(3))"
   ]
  },
  {
   "cell_type": "markdown",
   "metadata": {},
   "source": [
    "# Cleaning"
   ]
  },
  {
   "cell_type": "code",
   "execution_count": 9,
   "metadata": {},
   "outputs": [
    {
     "name": "stderr",
     "output_type": "stream",
     "text": [
      "C:\\Users\\camil\\anaconda3\\lib\\site-packages\\ipykernel\\ipkernel.py:283: DeprecationWarning: `should_run_async` will not call `transform_cell` automatically in the future. Please pass the result to `transformed_cell` argument and any exception that happen during thetransform in `preprocessing_exc_tuple` in IPython 7.17 and above.\n",
      "  and should_run_async(code)\n"
     ]
    },
    {
     "data": {
      "text/html": [
       "<div>\n",
       "<style scoped>\n",
       "    .dataframe tbody tr th:only-of-type {\n",
       "        vertical-align: middle;\n",
       "    }\n",
       "\n",
       "    .dataframe tbody tr th {\n",
       "        vertical-align: top;\n",
       "    }\n",
       "\n",
       "    .dataframe thead th {\n",
       "        text-align: right;\n",
       "    }\n",
       "</style>\n",
       "<table border=\"1\" class=\"dataframe\">\n",
       "  <thead>\n",
       "    <tr style=\"text-align: right;\">\n",
       "      <th></th>\n",
       "      <th>Timestamp</th>\n",
       "      <th>HenID</th>\n",
       "      <th>Trackingsystem_Zone</th>\n",
       "      <th>PenID</th>\n",
       "      <th>ts_order</th>\n",
       "      <th>TagID</th>\n",
       "      <th>signalstrength</th>\n",
       "      <th>system</th>\n",
       "      <th>time</th>\n",
       "      <th>date</th>\n",
       "      <th>...</th>\n",
       "      <th>zone4_match</th>\n",
       "      <th>zone3_match_exist</th>\n",
       "      <th>next2zone==Zone</th>\n",
       "      <th>previous2zone==Zone</th>\n",
       "      <th>is_dur_smaller_60sec</th>\n",
       "      <th>duration_bounded_mn</th>\n",
       "      <th>next_duration_bounded_mn</th>\n",
       "      <th>previous_duration_bounded_mn</th>\n",
       "      <th>nbr_nan</th>\n",
       "      <th>prediction</th>\n",
       "    </tr>\n",
       "  </thead>\n",
       "  <tbody>\n",
       "    <tr>\n",
       "      <th>0</th>\n",
       "      <td>2020-10-27 00:03:07</td>\n",
       "      <td>hen_100</td>\n",
       "      <td>4_Zone</td>\n",
       "      <td>pen5</td>\n",
       "      <td>105930</td>\n",
       "      <td>tag_121</td>\n",
       "      <td>6</td>\n",
       "      <td>3 - 5</td>\n",
       "      <td>00:03:07</td>\n",
       "      <td>2020-10-27</td>\n",
       "      <td>...</td>\n",
       "      <td>NoOtherZone</td>\n",
       "      <td>1</td>\n",
       "      <td>0</td>\n",
       "      <td>0</td>\n",
       "      <td>True</td>\n",
       "      <td>0.083333</td>\n",
       "      <td>17.666667</td>\n",
       "      <td>0.000000</td>\n",
       "      <td>1</td>\n",
       "      <td>1</td>\n",
       "    </tr>\n",
       "    <tr>\n",
       "      <th>1</th>\n",
       "      <td>2020-10-27 00:03:12</td>\n",
       "      <td>hen_100</td>\n",
       "      <td>5_Zone</td>\n",
       "      <td>pen5</td>\n",
       "      <td>105931</td>\n",
       "      <td>tag_121</td>\n",
       "      <td>9</td>\n",
       "      <td>3 - 5</td>\n",
       "      <td>00:03:12</td>\n",
       "      <td>2020-10-27</td>\n",
       "      <td>...</td>\n",
       "      <td>NoOtherZone</td>\n",
       "      <td>0</td>\n",
       "      <td>1</td>\n",
       "      <td>0</td>\n",
       "      <td>False</td>\n",
       "      <td>17.666667</td>\n",
       "      <td>0.116667</td>\n",
       "      <td>0.083333</td>\n",
       "      <td>0</td>\n",
       "      <td>1</td>\n",
       "    </tr>\n",
       "    <tr>\n",
       "      <th>2</th>\n",
       "      <td>2020-10-27 00:15:39</td>\n",
       "      <td>hen_73</td>\n",
       "      <td>4_Zone</td>\n",
       "      <td>pen4</td>\n",
       "      <td>105932</td>\n",
       "      <td>tag_41</td>\n",
       "      <td>4</td>\n",
       "      <td>3 - 5</td>\n",
       "      <td>00:15:39</td>\n",
       "      <td>2020-10-27</td>\n",
       "      <td>...</td>\n",
       "      <td>NoOtherZone</td>\n",
       "      <td>0</td>\n",
       "      <td>1</td>\n",
       "      <td>0</td>\n",
       "      <td>True</td>\n",
       "      <td>0.050000</td>\n",
       "      <td>4.950000</td>\n",
       "      <td>0.000000</td>\n",
       "      <td>1</td>\n",
       "      <td>1</td>\n",
       "    </tr>\n",
       "  </tbody>\n",
       "</table>\n",
       "<p>3 rows × 47 columns</p>\n",
       "</div>"
      ],
      "text/plain": [
       "            Timestamp    HenID Trackingsystem_Zone PenID  ts_order    TagID  \\\n",
       "0 2020-10-27 00:03:07  hen_100              4_Zone  pen5    105930  tag_121   \n",
       "1 2020-10-27 00:03:12  hen_100              5_Zone  pen5    105931  tag_121   \n",
       "2 2020-10-27 00:15:39   hen_73              4_Zone  pen4    105932   tag_41   \n",
       "\n",
       "   signalstrength system      time       date  ...  zone4_match  \\\n",
       "0               6  3 - 5  00:03:07 2020-10-27  ...  NoOtherZone   \n",
       "1               9  3 - 5  00:03:12 2020-10-27  ...  NoOtherZone   \n",
       "2               4  3 - 5  00:15:39 2020-10-27  ...  NoOtherZone   \n",
       "\n",
       "  zone3_match_exist next2zone==Zone previous2zone==Zone is_dur_smaller_60sec  \\\n",
       "0                 1               0                   0                 True   \n",
       "1                 0               1                   0                False   \n",
       "2                 0               1                   0                 True   \n",
       "\n",
       "  duration_bounded_mn  next_duration_bounded_mn  previous_duration_bounded_mn  \\\n",
       "0            0.083333                 17.666667                      0.000000   \n",
       "1           17.666667                  0.116667                      0.083333   \n",
       "2            0.050000                  4.950000                      0.000000   \n",
       "\n",
       "   nbr_nan prediction  \n",
       "0        1          1  \n",
       "1        0          1  \n",
       "2        1          1  \n",
       "\n",
       "[3 rows x 47 columns]"
      ]
     },
     "metadata": {},
     "output_type": "display_data"
    },
    {
     "data": {
      "text/plain": [
       "None"
      ]
     },
     "metadata": {},
     "output_type": "display_data"
    },
    {
     "data": {
      "text/plain": [
       "1    323845\n",
       "0    283117\n",
       "Name: prediction, dtype: int64"
      ]
     },
     "metadata": {},
     "output_type": "display_data"
    },
    {
     "data": {
      "text/plain": [
       "1    0.533551\n",
       "0    0.466449\n",
       "Name: prediction, dtype: float64"
      ]
     },
     "metadata": {},
     "output_type": "display_data"
    }
   ],
   "source": [
    "if name_method=='ML-method':\n",
    "    START_TIME = time.perf_counter()\n",
    "    #predict, and if its wintergarten (i.e. 1_Zone) put =1\n",
    "    df['prediction'] = df.apply(lambda x: model.predict(pd.DataFrame(x[li_cont_select+\\\n",
    "                                                                             li_cat_select]).transpose())[0] if\\\n",
    "                                      x['Trackingsystem_Zone']!='1_Zone' else 1, axis=1)\n",
    "    #predict false if <60seconds in WG\n",
    "    df.loc[(df['is_dur_smaller_60sec'])&(df['Trackingsystem_Zone']=='1_Zone'), 'prediction'] = 0\n",
    "    #always =1 if there was some nan values\n",
    "    df.loc[df['nbr_nan']!=0, 'prediction'] = 1\n",
    "    END_TIME = time.perf_counter()\n",
    "    print (\"Total running time for prediction: %.2f mn\" %((END_TIME-START_TIME)/60))\n",
    "\n",
    "    #show info & save (take TIME to save)\n",
    "    display(display(df.head(3)))\n",
    "    display(df['prediction'].value_counts())\n",
    "    display(df['prediction'].value_counts(normalize=True)) #in testing it was 4,9% of wrong records: 42/(42+821)*100)\n",
    "    df.filter(['HenID','PenID','system','Trackingsystem_Zone','prediction','Timestamp','date'],\n",
    "              axis=1).to_csv(os.path.join(path_extracted_data_cleaning_rawvscleaned, id_run+name_method+'_Rawdata&Model.csv'),\n",
    "                             index=False, sep=';')    \n",
    "    \n",
    "elif name_method=='TD-method':\n",
    "    #same but with TD\n",
    "    #predict, and if its wintergarten (i.e. 1_Zone) put =1\n",
    "    df['prediction'] = df['duration'].map(lambda x: 0 if x<60 else 1)\n",
    "    #always =1 if there was some nan values\n",
    "    df.loc[df['nbr_nan']!=0, 'prediction'] = 1\n",
    "    #show info & save (take TIME to save)\n",
    "    display(display(df.head(3)))\n",
    "    display(df['prediction'].value_counts())\n",
    "    display(df['prediction'].value_counts(normalize=True)) #in testing it was 4,9% of wrong records: 42/(42+821)*100)\n",
    "    df.filter(['HenID','PenID','system','Trackingsystem_Zone','prediction','Timestamp','date'],\n",
    "              axis=1).to_csv(os.path.join(path_extracted_data_cleaning_rawvscleaned, id_run+name_method+'_Rawdata&Model.csv'),\n",
    "                             index=False, sep=';')  \n",
    "    \n",
    "else:\n",
    "    print('choose an existing method (ML-method, or TD-method)')\n",
    "    sys.exit()"
   ]
  },
  {
   "cell_type": "markdown",
   "metadata": {},
   "source": [
    "# Compute variable"
   ]
  },
  {
   "cell_type": "markdown",
   "metadata": {},
   "source": [
    "#IF NOT ALREADY DONE\n",
    "p = glob.glob(os.path.join(path_initial_data, 'Barn 4 Pen*\\TagUpdates\\log*'))\n",
    "#print('There is %d log files:\\n  %s'%(len(p),'  \\n  '.join(p)))\n",
    "df = preprocessing_Origins(p, config, save=True, dodevice=True)\n",
    "print(df.shape)\n",
    "display(df.head(2))\n",
    "display(df.tail(2))"
   ]
  },
  {
   "cell_type": "code",
   "execution_count": 10,
   "metadata": {},
   "outputs": [
    {
     "name": "stderr",
     "output_type": "stream",
     "text": [
      "C:\\Users\\camil\\anaconda3\\lib\\site-packages\\ipykernel\\ipkernel.py:283: DeprecationWarning: `should_run_async` will not call `transform_cell` automatically in the future. Please pass the result to `transformed_cell` argument and any exception that happen during thetransform in `preprocessing_exc_tuple` in IPython 7.17 and above.\n",
      "  and should_run_async(code)\n"
     ]
    },
    {
     "name": "stdout",
     "output_type": "stream",
     "text": [
      "(606962, 7)\n"
     ]
    },
    {
     "data": {
      "text/html": [
       "<div>\n",
       "<style scoped>\n",
       "    .dataframe tbody tr th:only-of-type {\n",
       "        vertical-align: middle;\n",
       "    }\n",
       "\n",
       "    .dataframe tbody tr th {\n",
       "        vertical-align: top;\n",
       "    }\n",
       "\n",
       "    .dataframe thead th {\n",
       "        text-align: right;\n",
       "    }\n",
       "</style>\n",
       "<table border=\"1\" class=\"dataframe\">\n",
       "  <thead>\n",
       "    <tr style=\"text-align: right;\">\n",
       "      <th></th>\n",
       "      <th>HenID</th>\n",
       "      <th>PenID</th>\n",
       "      <th>system</th>\n",
       "      <th>Zone</th>\n",
       "      <th>prediction</th>\n",
       "      <th>Timestamp</th>\n",
       "      <th>date</th>\n",
       "    </tr>\n",
       "  </thead>\n",
       "  <tbody>\n",
       "    <tr>\n",
       "      <th>0</th>\n",
       "      <td>hen_100</td>\n",
       "      <td>pen5</td>\n",
       "      <td>3 - 5</td>\n",
       "      <td>4_Zone</td>\n",
       "      <td>1</td>\n",
       "      <td>2020-10-27 00:03:07</td>\n",
       "      <td>2020-10-27</td>\n",
       "    </tr>\n",
       "    <tr>\n",
       "      <th>1</th>\n",
       "      <td>hen_100</td>\n",
       "      <td>pen5</td>\n",
       "      <td>3 - 5</td>\n",
       "      <td>5_Zone</td>\n",
       "      <td>1</td>\n",
       "      <td>2020-10-27 00:03:12</td>\n",
       "      <td>2020-10-27</td>\n",
       "    </tr>\n",
       "    <tr>\n",
       "      <th>2</th>\n",
       "      <td>hen_73</td>\n",
       "      <td>pen4</td>\n",
       "      <td>3 - 5</td>\n",
       "      <td>4_Zone</td>\n",
       "      <td>1</td>\n",
       "      <td>2020-10-27 00:15:39</td>\n",
       "      <td>2020-10-27</td>\n",
       "    </tr>\n",
       "  </tbody>\n",
       "</table>\n",
       "</div>"
      ],
      "text/plain": [
       "     HenID PenID system    Zone  prediction           Timestamp       date\n",
       "0  hen_100  pen5  3 - 5  4_Zone           1 2020-10-27 00:03:07 2020-10-27\n",
       "1  hen_100  pen5  3 - 5  5_Zone           1 2020-10-27 00:03:12 2020-10-27\n",
       "2   hen_73  pen4  3 - 5  4_Zone           1 2020-10-27 00:15:39 2020-10-27"
      ]
     },
     "execution_count": 10,
     "metadata": {},
     "output_type": "execute_result"
    }
   ],
   "source": [
    "#for being more reproductible, we open the file that was saved from cleaning\n",
    "df = pd.read_csv(os.path.join(path_extracted_data_cleaning_rawvscleaned, id_run+name_method+'_Rawdata&Model.csv'), sep=';', \n",
    "                 parse_dates=['Timestamp','date'], dayfirst=True)\n",
    "df.rename(columns={'Trackingsystem_Zone':'Zone'}, inplace=True)\n",
    "print(df.shape)\n",
    "df.head(3)"
   ]
  },
  {
   "cell_type": "code",
   "execution_count": 11,
   "metadata": {},
   "outputs": [
    {
     "name": "stdout",
     "output_type": "stream",
     "text": [
      "(606962, 7)\n",
      "(323845, 7)\n"
     ]
    },
    {
     "name": "stderr",
     "output_type": "stream",
     "text": [
      "C:\\Users\\camil\\anaconda3\\lib\\site-packages\\ipykernel\\ipkernel.py:283: DeprecationWarning: `should_run_async` will not call `transform_cell` automatically in the future. Please pass the result to `transformed_cell` argument and any exception that happen during thetransform in `preprocessing_exc_tuple` in IPython 7.17 and above.\n",
      "  and should_run_async(code)\n"
     ]
    },
    {
     "data": {
      "text/html": [
       "<div>\n",
       "<style scoped>\n",
       "    .dataframe tbody tr th:only-of-type {\n",
       "        vertical-align: middle;\n",
       "    }\n",
       "\n",
       "    .dataframe tbody tr th {\n",
       "        vertical-align: top;\n",
       "    }\n",
       "\n",
       "    .dataframe thead th {\n",
       "        text-align: right;\n",
       "    }\n",
       "</style>\n",
       "<table border=\"1\" class=\"dataframe\">\n",
       "  <thead>\n",
       "    <tr style=\"text-align: right;\">\n",
       "      <th></th>\n",
       "      <th>HenID</th>\n",
       "      <th>PenID</th>\n",
       "      <th>system</th>\n",
       "      <th>Zone</th>\n",
       "      <th>prediction</th>\n",
       "      <th>Timestamp</th>\n",
       "      <th>date</th>\n",
       "    </tr>\n",
       "  </thead>\n",
       "  <tbody>\n",
       "    <tr>\n",
       "      <th>0</th>\n",
       "      <td>hen_100</td>\n",
       "      <td>pen5</td>\n",
       "      <td>3 - 5</td>\n",
       "      <td>4_Zone</td>\n",
       "      <td>1</td>\n",
       "      <td>2020-10-27 00:03:07</td>\n",
       "      <td>2020-10-27</td>\n",
       "    </tr>\n",
       "    <tr>\n",
       "      <th>1</th>\n",
       "      <td>hen_100</td>\n",
       "      <td>pen5</td>\n",
       "      <td>3 - 5</td>\n",
       "      <td>5_Zone</td>\n",
       "      <td>1</td>\n",
       "      <td>2020-10-27 00:03:12</td>\n",
       "      <td>2020-10-27</td>\n",
       "    </tr>\n",
       "  </tbody>\n",
       "</table>\n",
       "</div>"
      ],
      "text/plain": [
       "     HenID PenID system    Zone  prediction           Timestamp       date\n",
       "0  hen_100  pen5  3 - 5  4_Zone           1 2020-10-27 00:03:07 2020-10-27\n",
       "1  hen_100  pen5  3 - 5  5_Zone           1 2020-10-27 00:03:12 2020-10-27"
      ]
     },
     "metadata": {},
     "output_type": "display_data"
    },
    {
     "name": "stderr",
     "output_type": "stream",
     "text": [
      "  0%|                                                                                            | 0/8 [00:00<?, ?it/s]C:\\Users\\camil\\Desktop\\animals_code\\PhD\\UTILS.py:3940: SettingWithCopyWarning: \n",
      "A value is trying to be set on a copy of a slice from a DataFrame\n",
      "\n",
      "See the caveats in the documentation: https://pandas.pydata.org/pandas-docs/stable/user_guide/indexing.html#returning-a-view-versus-a-copy\n",
      "  df.sort_values([timestamp_name], inplace=True)\n",
      "C:\\Users\\camil\\Desktop\\animals_code\\PhD\\UTILS.py:3942: SettingWithCopyWarning: \n",
      "A value is trying to be set on a copy of a slice from a DataFrame.\n",
      "Try using .loc[row_indexer,col_indexer] = value instead\n",
      "\n",
      "See the caveats in the documentation: https://pandas.pydata.org/pandas-docs/stable/user_guide/indexing.html#returning-a-view-versus-a-copy\n",
      "  df[timestamp_name] = df[timestamp_name].map(lambda x: dt.datetime(x.year,x.month,x.day,x.hour,x.minute, x.second))\n"
     ]
    },
    {
     "name": "stdout",
     "output_type": "stream",
     "text": [
      "----------------- Create time serie\n",
      "in this time series there is 20 hens\n",
      "The initial starting date in over all is: 2020-10-27 00:03:07, and the ending date will be: 2020-11-22 23:10:43\n",
      "But note that birds may have different ending and starting date which should be taken into account when computing variables\n",
      "and after ending the last day at midnight : 2020-10-27 00:03:07, and the ending date will be: 2020-11-22 23:59:59\n",
      "Total running time: 0.55 mn\n",
      "your time series has 1 seconds between two timestamps\n",
      "----------------- main night zone and nbr of transitions over night....\n",
      "----------------- total duration per Zone in seconds....\n",
      "----------------- first timestamp in each zone per day....\n",
      "----------------- number of Zone (excluding nan)....\n",
      "----------------- compute some variables based on a list of zones over a day....\n",
      "----------------NESTBOX\n"
     ]
    },
    {
     "name": "stderr",
     "output_type": "stream",
     "text": [
      "\n",
      "  0%|                                                                                           | 0/20 [00:00<?, ?it/s]\u001b[A\n",
      " 10%|████████▎                                                                          | 2/20 [00:00<00:01, 10.18it/s]\u001b[A\n",
      " 20%|████████████████▌                                                                  | 4/20 [00:00<00:02,  7.70it/s]\u001b[A\n",
      " 30%|████████████████████████▉                                                          | 6/20 [00:00<00:01,  9.44it/s]\u001b[A\n",
      " 40%|█████████████████████████████████▏                                                 | 8/20 [00:00<00:01,  9.99it/s]\u001b[A\n",
      " 50%|█████████████████████████████████████████                                         | 10/20 [00:01<00:00, 11.17it/s]\u001b[A\n",
      " 60%|█████████████████████████████████████████████████▏                                | 12/20 [00:01<00:00, 12.32it/s]\u001b[A\n",
      " 70%|█████████████████████████████████████████████████████████▍                        | 14/20 [00:01<00:00, 12.71it/s]\u001b[A\n",
      " 85%|█████████████████████████████████████████████████████████████████████▋            | 17/20 [00:01<00:00, 14.49it/s]\u001b[A\n",
      "100%|██████████████████████████████████████████████████████████████████████████████████| 20/20 [00:01<00:00, 12.64it/s]\u001b[A\n",
      "C:\\Users\\camil\\anaconda3\\lib\\site-packages\\numpy\\lib\\nanfunctions.py:1366: RuntimeWarning: Mean of empty slice\n",
      "  return np.nanmean(a, axis, out=out, keepdims=keepdims)\n"
     ]
    },
    {
     "name": "stdout",
     "output_type": "stream",
     "text": [
      "------------ add hen basics info\n",
      "From the focalBirdinfo, you have 160 ative tags\n",
      "(540, 110)\n",
      "(527, 112)\n",
      "-------------- Lets remove unwanted dates at PENS level\n"
     ]
    },
    {
     "data": {
      "text/html": [
       "<text style=color:black>By removing the unwanted days we passed from 527 to 427 timestamp (losing </text> <text style=color:red>100</text> <text style=color:black> timestamp)</text>"
      ],
      "text/plain": [
       "<IPython.core.display.HTML object>"
      ]
     },
     "metadata": {},
     "output_type": "display_data"
    },
    {
     "name": "stdout",
     "output_type": "stream",
     "text": [
      "All the night variables are:  Index(['HenID', 'night_level', 'night_Max_duration_zones',\n",
      "       'night_distribution_entropy', 'night_Total_number_transition', 'level',\n",
      "       'PenID', 'CLASS', 'R-Pen', 'InitialStartDate', '29-09 weight',\n",
      "       '10-12 juin weight', 'weight 23-11-2020', 'weight 04-01-2021',\n",
      "       'weight 01-02-21', 'weight 12-04-21', 'Treatment'],\n",
      "      dtype='object')\n",
      "['night_level']\n",
      "-------------- Lets remove dates of tags when they were not giving deviceupdate regularly\n"
     ]
    },
    {
     "data": {
      "text/html": [
       "<text style=color:black>By removing the unwanted days we passed from 447 to 447 timestamp (losing </text> <text style=color:red>0</text> <text style=color:black> timestamp)</text>"
      ],
      "text/plain": [
       "<IPython.core.display.HTML object>"
      ]
     },
     "metadata": {},
     "output_type": "display_data"
    },
    {
     "name": "stdout",
     "output_type": "stream",
     "text": [
      "-------------- Lets remove dates of tags when they were having more or equal than 10 times LFCOUNTER=0 a day\n"
     ]
    },
    {
     "data": {
      "text/html": [
       "<text style=color:black>By removing the unwanted days we passed from 447 to 447 timestamp (losing </text> <text style=color:red>0</text> <text style=color:black> timestamp)</text>"
      ],
      "text/plain": [
       "<IPython.core.display.HTML object>"
      ]
     },
     "metadata": {},
     "output_type": "display_data"
    },
    {
     "name": "stdout",
     "output_type": "stream",
     "text": [
      "-------------- Lets remove the 30.09.2020 for the tags taht still had no transition from before the light went on \n"
     ]
    },
    {
     "data": {
      "text/html": [
       "<text style=color:black>By removing the unwanted days we passed from 447 to 447 timestamp (losing </text> <text style=color:red>0</text> <text style=color:black> timestamp)</text>"
      ],
      "text/plain": [
       "<IPython.core.display.HTML object>"
      ]
     },
     "metadata": {},
     "output_type": "display_data"
    },
    {
     "name": "stdout",
     "output_type": "stream",
     "text": [
      "save\n",
      "Total running time: 4.30 mn\n"
     ]
    },
    {
     "name": "stderr",
     "output_type": "stream",
     "text": [
      "\r",
      " 12%|██████████▍                                                                        | 1/8 [04:18<30:08, 258.40s/it]"
     ]
    },
    {
     "name": "stdout",
     "output_type": "stream",
     "text": [
      "(447, 124)\n",
      "----------------- Create time serie\n",
      "in this time series there is 20 hens"
     ]
    },
    {
     "name": "stderr",
     "output_type": "stream",
     "text": [
      "C:\\Users\\camil\\Desktop\\animals_code\\PhD\\UTILS.py:3940: SettingWithCopyWarning: \n",
      "A value is trying to be set on a copy of a slice from a DataFrame\n",
      "\n",
      "See the caveats in the documentation: https://pandas.pydata.org/pandas-docs/stable/user_guide/indexing.html#returning-a-view-versus-a-copy\n",
      "  df.sort_values([timestamp_name], inplace=True)\n",
      "C:\\Users\\camil\\Desktop\\animals_code\\PhD\\UTILS.py:3942: SettingWithCopyWarning: \n",
      "A value is trying to be set on a copy of a slice from a DataFrame.\n",
      "Try using .loc[row_indexer,col_indexer] = value instead\n",
      "\n",
      "See the caveats in the documentation: https://pandas.pydata.org/pandas-docs/stable/user_guide/indexing.html#returning-a-view-versus-a-copy\n",
      "  df[timestamp_name] = df[timestamp_name].map(lambda x: dt.datetime(x.year,x.month,x.day,x.hour,x.minute, x.second))\n"
     ]
    },
    {
     "name": "stdout",
     "output_type": "stream",
     "text": [
      "\n",
      "The initial starting date in over all is: 2020-10-27 00:15:39, and the ending date will be: 2020-11-22 23:58:56\n",
      "But note that birds may have different ending and starting date which should be taken into account when computing variables\n",
      "and after ending the last day at midnight : 2020-10-27 00:15:39, and the ending date will be: 2020-11-22 23:59:59\n",
      "Total running time: 0.55 mn\n",
      "your time series has 1 seconds between two timestamps\n",
      "----------------- main night zone and nbr of transitions over night....\n",
      "----------------- total duration per Zone in seconds....\n",
      "----------------- first timestamp in each zone per day....\n",
      "----------------- number of Zone (excluding nan)....\n",
      "----------------- compute some variables based on a list of zones over a day....\n",
      "----------------NESTBOX\n"
     ]
    },
    {
     "name": "stderr",
     "output_type": "stream",
     "text": [
      "\n",
      "  0%|                                                                                           | 0/20 [00:00<?, ?it/s]\u001b[A\n",
      " 15%|████████████▍                                                                      | 3/20 [00:00<00:01, 16.09it/s]\u001b[A\n",
      " 25%|████████████████████▊                                                              | 5/20 [00:00<00:01, 14.70it/s]\u001b[A\n",
      " 35%|█████████████████████████████                                                      | 7/20 [00:00<00:00, 14.94it/s]\u001b[A\n",
      " 45%|█████████████████████████████████████▎                                             | 9/20 [00:00<00:00, 13.89it/s]\u001b[A\n",
      " 55%|█████████████████████████████████████████████                                     | 11/20 [00:00<00:00, 13.90it/s]\u001b[A\n",
      " 65%|█████████████████████████████████████████████████████▎                            | 13/20 [00:00<00:00, 13.57it/s]\u001b[A\n",
      " 75%|█████████████████████████████████████████████████████████████▌                    | 15/20 [00:01<00:00, 13.87it/s]\u001b[A\n",
      " 85%|█████████████████████████████████████████████████████████████████████▋            | 17/20 [00:01<00:00, 13.31it/s]\u001b[A\n",
      "100%|██████████████████████████████████████████████████████████████████████████████████| 20/20 [00:01<00:00, 13.92it/s]\u001b[A\n"
     ]
    },
    {
     "name": "stdout",
     "output_type": "stream",
     "text": [
      "------------ add hen basics info\n",
      "From the focalBirdinfo, you have 160 ative tags\n",
      "(540, 109)\n",
      "(540, 111)\n",
      "-------------- Lets remove unwanted dates at PENS level\n"
     ]
    },
    {
     "data": {
      "text/html": [
       "<text style=color:black>By removing the unwanted days we passed from 540 to 540 timestamp (losing </text> <text style=color:red>0</text> <text style=color:black> timestamp)</text>"
      ],
      "text/plain": [
       "<IPython.core.display.HTML object>"
      ]
     },
     "metadata": {},
     "output_type": "display_data"
    },
    {
     "name": "stdout",
     "output_type": "stream",
     "text": [
      "All the night variables are:  Index(['HenID', 'night_level', 'night_Max_duration_zones',\n",
      "       'night_distribution_entropy', 'night_Total_number_transition', 'level',\n",
      "       'PenID', 'CLASS', 'R-Pen', 'InitialStartDate', '29-09 weight',\n",
      "       '10-12 juin weight', 'weight 23-11-2020', 'weight 04-01-2021',\n",
      "       'weight 01-02-21', 'weight 12-04-21', 'Treatment'],\n",
      "      dtype='object')\n",
      "['night_level']\n",
      "-------------- Lets remove dates of tags when they were not giving deviceupdate regularly\n"
     ]
    },
    {
     "data": {
      "text/html": [
       "<text style=color:black>By removing the unwanted days we passed from 548 to 548 timestamp (losing </text> <text style=color:red>0</text> <text style=color:black> timestamp)</text>"
      ],
      "text/plain": [
       "<IPython.core.display.HTML object>"
      ]
     },
     "metadata": {},
     "output_type": "display_data"
    },
    {
     "name": "stdout",
     "output_type": "stream",
     "text": [
      "-------------- Lets remove dates of tags when they were having more or equal than 10 times LFCOUNTER=0 a day\n"
     ]
    },
    {
     "data": {
      "text/html": [
       "<text style=color:black>By removing the unwanted days we passed from 548 to 548 timestamp (losing </text> <text style=color:red>0</text> <text style=color:black> timestamp)</text>"
      ],
      "text/plain": [
       "<IPython.core.display.HTML object>"
      ]
     },
     "metadata": {},
     "output_type": "display_data"
    },
    {
     "name": "stdout",
     "output_type": "stream",
     "text": [
      "-------------- Lets remove the 30.09.2020 for the tags taht still had no transition from before the light went on \n"
     ]
    },
    {
     "data": {
      "text/html": [
       "<text style=color:black>By removing the unwanted days we passed from 548 to 548 timestamp (losing </text> <text style=color:red>0</text> <text style=color:black> timestamp)</text>"
      ],
      "text/plain": [
       "<IPython.core.display.HTML object>"
      ]
     },
     "metadata": {},
     "output_type": "display_data"
    },
    {
     "name": "stdout",
     "output_type": "stream",
     "text": [
      "save\n",
      "Total running time: 3.91 mn\n"
     ]
    },
    {
     "name": "stderr",
     "output_type": "stream",
     "text": [
      "\r",
      " 25%|████████████████████▊                                                              | 2/8 [08:13<25:07, 251.28s/it]"
     ]
    },
    {
     "name": "stdout",
     "output_type": "stream",
     "text": [
      "(548, 123)\n",
      "----------------- Create time serie\n",
      "in this time series there is 19 hens\n"
     ]
    },
    {
     "name": "stderr",
     "output_type": "stream",
     "text": [
      "C:\\Users\\camil\\Desktop\\animals_code\\PhD\\UTILS.py:3940: SettingWithCopyWarning: \n",
      "A value is trying to be set on a copy of a slice from a DataFrame\n",
      "\n",
      "See the caveats in the documentation: https://pandas.pydata.org/pandas-docs/stable/user_guide/indexing.html#returning-a-view-versus-a-copy\n",
      "  df.sort_values([timestamp_name], inplace=True)\n",
      "C:\\Users\\camil\\Desktop\\animals_code\\PhD\\UTILS.py:3942: SettingWithCopyWarning: \n",
      "A value is trying to be set on a copy of a slice from a DataFrame.\n",
      "Try using .loc[row_indexer,col_indexer] = value instead\n",
      "\n",
      "See the caveats in the documentation: https://pandas.pydata.org/pandas-docs/stable/user_guide/indexing.html#returning-a-view-versus-a-copy\n",
      "  df[timestamp_name] = df[timestamp_name].map(lambda x: dt.datetime(x.year,x.month,x.day,x.hour,x.minute, x.second))\n"
     ]
    },
    {
     "name": "stdout",
     "output_type": "stream",
     "text": [
      "The initial starting date in over all is: 2020-10-27 00:22:38, and the ending date will be: 2020-11-22 23:12:54\n",
      "But note that birds may have different ending and starting date which should be taken into account when computing variables\n",
      "and after ending the last day at midnight : 2020-10-27 00:22:38, and the ending date will be: 2020-11-22 23:59:59\n",
      "Total running time: 0.55 mn\n",
      "your time series has 1 seconds between two timestamps\n",
      "----------------- main night zone and nbr of transitions over night....\n",
      "----------------- total duration per Zone in seconds....\n",
      "----------------- first timestamp in each zone per day....\n",
      "----------------- number of Zone (excluding nan)....\n",
      "----------------- compute some variables based on a list of zones over a day....\n",
      "----------------NESTBOX\n"
     ]
    },
    {
     "name": "stderr",
     "output_type": "stream",
     "text": [
      "\n",
      "  0%|                                                                                           | 0/19 [00:00<?, ?it/s]\u001b[A\n",
      " 11%|████████▋                                                                          | 2/19 [00:00<00:01, 12.61it/s]\u001b[A\n",
      " 16%|█████████████                                                                      | 3/19 [00:00<00:01, 11.27it/s]\u001b[A\n",
      " 32%|██████████████████████████▏                                                        | 6/19 [00:00<00:00, 13.52it/s]\u001b[A\n",
      " 42%|██████████████████████████████████▉                                                | 8/19 [00:00<00:00, 12.56it/s]\u001b[A\n",
      " 53%|███████████████████████████████████████████▏                                      | 10/19 [00:00<00:00, 13.33it/s]\u001b[A\n",
      " 63%|███████████████████████████████████████████████████▊                              | 12/19 [00:00<00:00, 13.93it/s]\u001b[A\n",
      " 74%|████████████████████████████████████████████████████████████▍                     | 14/19 [00:00<00:00, 15.26it/s]\u001b[A\n",
      " 84%|█████████████████████████████████████████████████████████████████████             | 16/19 [00:01<00:00, 15.82it/s]\u001b[A\n",
      "100%|██████████████████████████████████████████████████████████████████████████████████| 19/19 [00:01<00:00, 14.29it/s]\u001b[A\n"
     ]
    },
    {
     "name": "stdout",
     "output_type": "stream",
     "text": [
      "------------ add hen basics info\n",
      "From the focalBirdinfo, you have 160 ative tags\n",
      "(512, 110)\n",
      "(512, 112)\n",
      "-------------- Lets remove unwanted dates at PENS level\n"
     ]
    },
    {
     "data": {
      "text/html": [
       "<text style=color:black>By removing the unwanted days we passed from 512 to 512 timestamp (losing </text> <text style=color:red>0</text> <text style=color:black> timestamp)</text>"
      ],
      "text/plain": [
       "<IPython.core.display.HTML object>"
      ]
     },
     "metadata": {},
     "output_type": "display_data"
    },
    {
     "name": "stdout",
     "output_type": "stream",
     "text": [
      "All the night variables are:  Index(['HenID', 'night_level', 'night_Max_duration_zones',\n",
      "       'night_distribution_entropy', 'night_Total_number_transition', 'level',\n",
      "       'PenID', 'CLASS', 'R-Pen', 'InitialStartDate', '29-09 weight',\n",
      "       '10-12 juin weight', 'weight 23-11-2020', 'weight 04-01-2021',\n",
      "       'weight 01-02-21', 'weight 12-04-21', 'Treatment'],\n",
      "      dtype='object')\n",
      "['night_level']\n",
      "-------------- Lets remove dates of tags when they were not giving deviceupdate regularly\n"
     ]
    },
    {
     "data": {
      "text/html": [
       "<text style=color:black>By removing the unwanted days we passed from 516 to 516 timestamp (losing </text> <text style=color:red>0</text> <text style=color:black> timestamp)</text>"
      ],
      "text/plain": [
       "<IPython.core.display.HTML object>"
      ]
     },
     "metadata": {},
     "output_type": "display_data"
    },
    {
     "name": "stdout",
     "output_type": "stream",
     "text": [
      "-------------- Lets remove dates of tags when they were having more or equal than 10 times LFCOUNTER=0 a day\n"
     ]
    },
    {
     "data": {
      "text/html": [
       "<text style=color:black>By removing the unwanted days we passed from 516 to 514 timestamp (losing </text> <text style=color:red>2</text> <text style=color:black> timestamp)</text>"
      ],
      "text/plain": [
       "<IPython.core.display.HTML object>"
      ]
     },
     "metadata": {},
     "output_type": "display_data"
    },
    {
     "name": "stdout",
     "output_type": "stream",
     "text": [
      "-------------- Lets remove the 30.09.2020 for the tags taht still had no transition from before the light went on \n"
     ]
    },
    {
     "data": {
      "text/html": [
       "<text style=color:black>By removing the unwanted days we passed from 514 to 514 timestamp (losing </text> <text style=color:red>0</text> <text style=color:black> timestamp)</text>"
      ],
      "text/plain": [
       "<IPython.core.display.HTML object>"
      ]
     },
     "metadata": {},
     "output_type": "display_data"
    },
    {
     "name": "stdout",
     "output_type": "stream",
     "text": [
      "save\n",
      "Total running time: 3.83 mn\n"
     ]
    },
    {
     "name": "stderr",
     "output_type": "stream",
     "text": [
      "\r",
      " 38%|███████████████████████████████▏                                                   | 3/8 [12:03<20:24, 244.88s/it]"
     ]
    },
    {
     "name": "stdout",
     "output_type": "stream",
     "text": [
      "(514, 124)\n",
      "----------------- Create time serie\n",
      "in this time series there is 21 hens\n"
     ]
    },
    {
     "name": "stderr",
     "output_type": "stream",
     "text": [
      "C:\\Users\\camil\\Desktop\\animals_code\\PhD\\UTILS.py:3940: SettingWithCopyWarning: \n",
      "A value is trying to be set on a copy of a slice from a DataFrame\n",
      "\n",
      "See the caveats in the documentation: https://pandas.pydata.org/pandas-docs/stable/user_guide/indexing.html#returning-a-view-versus-a-copy\n",
      "  df.sort_values([timestamp_name], inplace=True)\n",
      "C:\\Users\\camil\\Desktop\\animals_code\\PhD\\UTILS.py:3942: SettingWithCopyWarning: \n",
      "A value is trying to be set on a copy of a slice from a DataFrame.\n",
      "Try using .loc[row_indexer,col_indexer] = value instead\n",
      "\n",
      "See the caveats in the documentation: https://pandas.pydata.org/pandas-docs/stable/user_guide/indexing.html#returning-a-view-versus-a-copy\n",
      "  df[timestamp_name] = df[timestamp_name].map(lambda x: dt.datetime(x.year,x.month,x.day,x.hour,x.minute, x.second))\n"
     ]
    },
    {
     "name": "stdout",
     "output_type": "stream",
     "text": [
      "The initial starting date in over all is: 2020-10-27 00:36:34, and the ending date will be: 2020-11-22 19:47:00\n",
      "But note that birds may have different ending and starting date which should be taken into account when computing variables\n",
      "and after ending the last day at midnight : 2020-10-27 00:36:34, and the ending date will be: 2020-11-22 23:59:59\n",
      "Total running time: 0.56 mn\n",
      "your time series has 1 seconds between two timestamps\n",
      "----------------- main night zone and nbr of transitions over night....\n",
      "----------------- total duration per Zone in seconds....\n",
      "----------------- first timestamp in each zone per day....\n",
      "----------------- number of Zone (excluding nan)....\n",
      "----------------- compute some variables based on a list of zones over a day....\n",
      "----------------NESTBOX\n"
     ]
    },
    {
     "name": "stderr",
     "output_type": "stream",
     "text": [
      "\n",
      "  0%|                                                                                           | 0/21 [00:00<?, ?it/s]\u001b[A\n",
      " 10%|███████▉                                                                           | 2/21 [00:00<00:01, 18.07it/s]\u001b[A\n",
      " 19%|███████████████▊                                                                   | 4/21 [00:00<00:01, 15.19it/s]\u001b[A\n",
      " 33%|███████████████████████████▋                                                       | 7/21 [00:00<00:00, 17.08it/s]\u001b[A\n",
      " 43%|███████████████████████████████████▌                                               | 9/21 [00:00<00:00, 16.15it/s]\u001b[A\n",
      " 62%|██████████████████████████████████████████████████▊                               | 13/21 [00:00<00:00, 19.14it/s]\u001b[A\n",
      " 71%|██████████████████████████████████████████████████████████▌                       | 15/21 [00:00<00:00, 18.39it/s]\u001b[A\n",
      " 81%|██████████████████████████████████████████████████████████████████▍               | 17/21 [00:00<00:00, 15.79it/s]\u001b[A\n",
      "100%|██████████████████████████████████████████████████████████████████████████████████| 21/21 [00:01<00:00, 18.75it/s]\u001b[A\n",
      "C:\\Users\\camil\\anaconda3\\lib\\site-packages\\numpy\\lib\\nanfunctions.py:1366: RuntimeWarning: Mean of empty slice\n",
      "  return np.nanmean(a, axis, out=out, keepdims=keepdims)\n"
     ]
    },
    {
     "name": "stdout",
     "output_type": "stream",
     "text": [
      "------------ add hen basics info\n",
      "From the focalBirdinfo, you have 160 ative tags\n",
      "(561, 110)\n",
      "(536, 112)\n",
      "-------------- Lets remove unwanted dates at PENS level\n"
     ]
    },
    {
     "data": {
      "text/html": [
       "<text style=color:black>By removing the unwanted days we passed from 536 to 536 timestamp (losing </text> <text style=color:red>0</text> <text style=color:black> timestamp)</text>"
      ],
      "text/plain": [
       "<IPython.core.display.HTML object>"
      ]
     },
     "metadata": {},
     "output_type": "display_data"
    },
    {
     "name": "stdout",
     "output_type": "stream",
     "text": [
      "All the night variables are:  Index(['HenID', 'night_level', 'night_Max_duration_zones',\n",
      "       'night_distribution_entropy', 'night_Total_number_transition', 'level',\n",
      "       'PenID', 'CLASS', 'R-Pen', 'InitialStartDate', '29-09 weight',\n",
      "       '10-12 juin weight', 'weight 23-11-2020', 'weight 04-01-2021',\n",
      "       'weight 01-02-21', 'weight 12-04-21', 'Treatment'],\n",
      "      dtype='object')\n",
      "['night_level']\n",
      "-------------- Lets remove dates of tags when they were not giving deviceupdate regularly\n"
     ]
    },
    {
     "data": {
      "text/html": [
       "<text style=color:black>By removing the unwanted days we passed from 566 to 566 timestamp (losing </text> <text style=color:red>0</text> <text style=color:black> timestamp)</text>"
      ],
      "text/plain": [
       "<IPython.core.display.HTML object>"
      ]
     },
     "metadata": {},
     "output_type": "display_data"
    },
    {
     "name": "stdout",
     "output_type": "stream",
     "text": [
      "-------------- Lets remove dates of tags when they were having more or equal than 10 times LFCOUNTER=0 a day\n"
     ]
    },
    {
     "data": {
      "text/html": [
       "<text style=color:black>By removing the unwanted days we passed from 566 to 566 timestamp (losing </text> <text style=color:red>0</text> <text style=color:black> timestamp)</text>"
      ],
      "text/plain": [
       "<IPython.core.display.HTML object>"
      ]
     },
     "metadata": {},
     "output_type": "display_data"
    },
    {
     "name": "stdout",
     "output_type": "stream",
     "text": [
      "-------------- Lets remove the 30.09.2020 for the tags taht still had no transition from before the light went on \n"
     ]
    },
    {
     "data": {
      "text/html": [
       "<text style=color:black>By removing the unwanted days we passed from 566 to 566 timestamp (losing </text> <text style=color:red>0</text> <text style=color:black> timestamp)</text>"
      ],
      "text/plain": [
       "<IPython.core.display.HTML object>"
      ]
     },
     "metadata": {},
     "output_type": "display_data"
    },
    {
     "name": "stdout",
     "output_type": "stream",
     "text": [
      "save\n",
      "Total running time: 4.04 mn\n"
     ]
    },
    {
     "name": "stderr",
     "output_type": "stream",
     "text": [
      "\r",
      " 50%|█████████████████████████████████████████▌                                         | 4/8 [16:05<16:16, 244.23s/it]"
     ]
    },
    {
     "name": "stdout",
     "output_type": "stream",
     "text": [
      "(566, 124)\n"
     ]
    },
    {
     "name": "stderr",
     "output_type": "stream",
     "text": [
      "C:\\Users\\camil\\Desktop\\animals_code\\PhD\\UTILS.py:3940: SettingWithCopyWarning: \n",
      "A value is trying to be set on a copy of a slice from a DataFrame\n",
      "\n",
      "See the caveats in the documentation: https://pandas.pydata.org/pandas-docs/stable/user_guide/indexing.html#returning-a-view-versus-a-copy\n",
      "  df.sort_values([timestamp_name], inplace=True)\n",
      "C:\\Users\\camil\\Desktop\\animals_code\\PhD\\UTILS.py:3942: SettingWithCopyWarning: \n",
      "A value is trying to be set on a copy of a slice from a DataFrame.\n",
      "Try using .loc[row_indexer,col_indexer] = value instead\n",
      "\n",
      "See the caveats in the documentation: https://pandas.pydata.org/pandas-docs/stable/user_guide/indexing.html#returning-a-view-versus-a-copy\n",
      "  df[timestamp_name] = df[timestamp_name].map(lambda x: dt.datetime(x.year,x.month,x.day,x.hour,x.minute, x.second))\n"
     ]
    },
    {
     "name": "stdout",
     "output_type": "stream",
     "text": [
      "----------------- Create time serie\n",
      "in this time series there is 20 hens\n",
      "The initial starting date in over all is: 2020-10-27 00:46:06, and the ending date will be: 2020-11-22 18:43:02\n",
      "But note that birds may have different ending and starting date which should be taken into account when computing variables\n",
      "and after ending the last day at midnight : 2020-10-27 00:46:06, and the ending date will be: 2020-11-22 23:59:59\n",
      "Total running time: 0.54 mn\n",
      "your time series has 1 seconds between two timestamps\n",
      "----------------- main night zone and nbr of transitions over night....\n",
      "----------------- total duration per Zone in seconds....\n",
      "----------------- first timestamp in each zone per day....\n",
      "----------------- number of Zone (excluding nan)....\n",
      "----------------- compute some variables based on a list of zones over a day....\n",
      "----------------NESTBOX\n"
     ]
    },
    {
     "name": "stderr",
     "output_type": "stream",
     "text": [
      "\n",
      "  0%|                                                                                           | 0/20 [00:00<?, ?it/s]\u001b[A\n",
      "  5%|████▏                                                                              | 1/20 [00:00<00:02,  6.87it/s]\u001b[A\n",
      " 15%|████████████▍                                                                      | 3/20 [00:00<00:02,  8.08it/s]\u001b[A\n",
      " 25%|████████████████████▊                                                              | 5/20 [00:00<00:01,  9.17it/s]\u001b[A\n",
      " 35%|█████████████████████████████                                                      | 7/20 [00:00<00:01,  9.84it/s]\u001b[A\n",
      " 50%|█████████████████████████████████████████                                         | 10/20 [00:00<00:00, 11.42it/s]\u001b[A\n",
      " 60%|█████████████████████████████████████████████████▏                                | 12/20 [00:00<00:00, 12.24it/s]\u001b[A\n",
      " 70%|█████████████████████████████████████████████████████████▍                        | 14/20 [00:01<00:00, 11.79it/s]\u001b[A\n",
      " 80%|█████████████████████████████████████████████████████████████████▌                | 16/20 [00:01<00:00, 11.69it/s]\u001b[A\n",
      " 90%|█████████████████████████████████████████████████████████████████████████▊        | 18/20 [00:01<00:00, 12.01it/s]\u001b[A\n",
      "100%|██████████████████████████████████████████████████████████████████████████████████| 20/20 [00:01<00:00, 12.99it/s]\u001b[A\n",
      "C:\\Users\\camil\\anaconda3\\lib\\site-packages\\numpy\\lib\\nanfunctions.py:1366: RuntimeWarning: Mean of empty slice\n",
      "  return np.nanmean(a, axis, out=out, keepdims=keepdims)\n"
     ]
    },
    {
     "name": "stdout",
     "output_type": "stream",
     "text": [
      "------------ add hen basics info\n",
      "From the focalBirdinfo, you have 160 ative tags\n",
      "(540, 110)\n",
      "(540, 112)\n",
      "-------------- Lets remove unwanted dates at PENS level\n"
     ]
    },
    {
     "data": {
      "text/html": [
       "<text style=color:black>By removing the unwanted days we passed from 540 to 540 timestamp (losing </text> <text style=color:red>0</text> <text style=color:black> timestamp)</text>"
      ],
      "text/plain": [
       "<IPython.core.display.HTML object>"
      ]
     },
     "metadata": {},
     "output_type": "display_data"
    },
    {
     "name": "stdout",
     "output_type": "stream",
     "text": [
      "All the night variables are:  Index(['HenID', 'night_level', 'night_Max_duration_zones',\n",
      "       'night_distribution_entropy', 'night_Total_number_transition', 'level',\n",
      "       'PenID', 'CLASS', 'R-Pen', 'InitialStartDate', '29-09 weight',\n",
      "       '10-12 juin weight', 'weight 23-11-2020', 'weight 04-01-2021',\n",
      "       'weight 01-02-21', 'weight 12-04-21', 'Treatment'],\n",
      "      dtype='object')\n",
      "['night_level']\n",
      "-------------- Lets remove dates of tags when they were not giving deviceupdate regularly\n"
     ]
    },
    {
     "data": {
      "text/html": [
       "<text style=color:black>By removing the unwanted days we passed from 549 to 549 timestamp (losing </text> <text style=color:red>0</text> <text style=color:black> timestamp)</text>"
      ],
      "text/plain": [
       "<IPython.core.display.HTML object>"
      ]
     },
     "metadata": {},
     "output_type": "display_data"
    },
    {
     "name": "stdout",
     "output_type": "stream",
     "text": [
      "-------------- Lets remove dates of tags when they were having more or equal than 10 times LFCOUNTER=0 a day\n"
     ]
    },
    {
     "data": {
      "text/html": [
       "<text style=color:black>By removing the unwanted days we passed from 549 to 549 timestamp (losing </text> <text style=color:red>0</text> <text style=color:black> timestamp)</text>"
      ],
      "text/plain": [
       "<IPython.core.display.HTML object>"
      ]
     },
     "metadata": {},
     "output_type": "display_data"
    },
    {
     "name": "stdout",
     "output_type": "stream",
     "text": [
      "-------------- Lets remove the 30.09.2020 for the tags taht still had no transition from before the light went on \n"
     ]
    },
    {
     "data": {
      "text/html": [
       "<text style=color:black>By removing the unwanted days we passed from 549 to 549 timestamp (losing </text> <text style=color:red>0</text> <text style=color:black> timestamp)</text>"
      ],
      "text/plain": [
       "<IPython.core.display.HTML object>"
      ]
     },
     "metadata": {},
     "output_type": "display_data"
    },
    {
     "name": "stdout",
     "output_type": "stream",
     "text": [
      "save\n",
      "Total running time: 4.10 mn\n"
     ]
    },
    {
     "name": "stderr",
     "output_type": "stream",
     "text": [
      "\r",
      " 62%|███████████████████████████████████████████████████▉                               | 5/8 [20:12<12:14, 244.95s/it]"
     ]
    },
    {
     "name": "stdout",
     "output_type": "stream",
     "text": [
      "(549, 124)\n"
     ]
    },
    {
     "name": "stderr",
     "output_type": "stream",
     "text": [
      "C:\\Users\\camil\\Desktop\\animals_code\\PhD\\UTILS.py:3940: SettingWithCopyWarning: \n",
      "A value is trying to be set on a copy of a slice from a DataFrame\n",
      "\n",
      "See the caveats in the documentation: https://pandas.pydata.org/pandas-docs/stable/user_guide/indexing.html#returning-a-view-versus-a-copy\n",
      "  df.sort_values([timestamp_name], inplace=True)\n",
      "C:\\Users\\camil\\Desktop\\animals_code\\PhD\\UTILS.py:3942: SettingWithCopyWarning: \n",
      "A value is trying to be set on a copy of a slice from a DataFrame.\n",
      "Try using .loc[row_indexer,col_indexer] = value instead\n",
      "\n",
      "See the caveats in the documentation: https://pandas.pydata.org/pandas-docs/stable/user_guide/indexing.html#returning-a-view-versus-a-copy\n",
      "  df[timestamp_name] = df[timestamp_name].map(lambda x: dt.datetime(x.year,x.month,x.day,x.hour,x.minute, x.second))\n"
     ]
    },
    {
     "name": "stdout",
     "output_type": "stream",
     "text": [
      "----------------- Create time serie\n",
      "in this time series there is 20 hens\n",
      "The initial starting date in over all is: 2020-10-27 02:07:16, and the ending date will be: 2020-11-22 17:06:27\n",
      "But note that birds may have different ending and starting date which should be taken into account when computing variables\n",
      "and after ending the last day at midnight : 2020-10-27 02:07:16, and the ending date will be: 2020-11-22 23:59:59\n",
      "Total running time: 0.54 mn\n",
      "your time series has 1 seconds between two timestamps\n",
      "----------------- main night zone and nbr of transitions over night....\n",
      "----------------- total duration per Zone in seconds....\n",
      "----------------- first timestamp in each zone per day....\n",
      "----------------- number of Zone (excluding nan)....\n",
      "----------------- compute some variables based on a list of zones over a day....\n",
      "----------------NESTBOX\n"
     ]
    },
    {
     "name": "stderr",
     "output_type": "stream",
     "text": [
      "\n",
      "  0%|                                                                                           | 0/20 [00:00<?, ?it/s]\u001b[A\n",
      "  5%|████▏                                                                              | 1/20 [00:00<00:02,  6.91it/s]\u001b[A\n",
      " 15%|████████████▍                                                                      | 3/20 [00:00<00:02,  7.80it/s]\u001b[A\n",
      " 20%|████████████████▌                                                                  | 4/20 [00:00<00:02,  8.00it/s]\u001b[A\n",
      " 25%|████████████████████▊                                                              | 5/20 [00:00<00:01,  7.95it/s]\u001b[A\n",
      " 35%|█████████████████████████████                                                      | 7/20 [00:00<00:01,  9.43it/s]\u001b[A\n",
      " 45%|█████████████████████████████████████▎                                             | 9/20 [00:00<00:01, 10.20it/s]\u001b[A\n",
      " 55%|█████████████████████████████████████████████                                     | 11/20 [00:01<00:00, 10.31it/s]\u001b[A\n",
      " 65%|█████████████████████████████████████████████████████▎                            | 13/20 [00:01<00:00, 11.57it/s]\u001b[A\n",
      " 75%|█████████████████████████████████████████████████████████████▌                    | 15/20 [00:01<00:00, 11.49it/s]\u001b[A\n",
      " 85%|█████████████████████████████████████████████████████████████████████▋            | 17/20 [00:01<00:00, 11.40it/s]\u001b[A\n",
      "100%|██████████████████████████████████████████████████████████████████████████████████| 20/20 [00:01<00:00, 11.64it/s]\u001b[A\n",
      "C:\\Users\\camil\\anaconda3\\lib\\site-packages\\numpy\\lib\\nanfunctions.py:1366: RuntimeWarning: Mean of empty slice\n",
      "  return np.nanmean(a, axis, out=out, keepdims=keepdims)\n"
     ]
    },
    {
     "name": "stdout",
     "output_type": "stream",
     "text": [
      "------------ add hen basics info\n",
      "From the focalBirdinfo, you have 160 ative tags\n",
      "(540, 110)\n",
      "(537, 112)\n",
      "-------------- Lets remove unwanted dates at PENS level\n"
     ]
    },
    {
     "data": {
      "text/html": [
       "<text style=color:black>By removing the unwanted days we passed from 537 to 537 timestamp (losing </text> <text style=color:red>0</text> <text style=color:black> timestamp)</text>"
      ],
      "text/plain": [
       "<IPython.core.display.HTML object>"
      ]
     },
     "metadata": {},
     "output_type": "display_data"
    },
    {
     "name": "stdout",
     "output_type": "stream",
     "text": [
      "All the night variables are:  Index(['HenID', 'night_level', 'night_Max_duration_zones',\n",
      "       'night_distribution_entropy', 'night_Total_number_transition', 'level',\n",
      "       'PenID', 'CLASS', 'R-Pen', 'InitialStartDate', '29-09 weight',\n",
      "       '10-12 juin weight', 'weight 23-11-2020', 'weight 04-01-2021',\n",
      "       'weight 01-02-21', 'weight 12-04-21', 'Treatment'],\n",
      "      dtype='object')\n",
      "['night_level']\n",
      "-------------- Lets remove dates of tags when they were not giving deviceupdate regularly\n"
     ]
    },
    {
     "data": {
      "text/html": [
       "<text style=color:black>By removing the unwanted days we passed from 549 to 547 timestamp (losing </text> <text style=color:red>2</text> <text style=color:black> timestamp)</text>"
      ],
      "text/plain": [
       "<IPython.core.display.HTML object>"
      ]
     },
     "metadata": {},
     "output_type": "display_data"
    },
    {
     "name": "stdout",
     "output_type": "stream",
     "text": [
      "-------------- Lets remove dates of tags when they were having more or equal than 10 times LFCOUNTER=0 a day\n"
     ]
    },
    {
     "data": {
      "text/html": [
       "<text style=color:black>By removing the unwanted days we passed from 547 to 547 timestamp (losing </text> <text style=color:red>0</text> <text style=color:black> timestamp)</text>"
      ],
      "text/plain": [
       "<IPython.core.display.HTML object>"
      ]
     },
     "metadata": {},
     "output_type": "display_data"
    },
    {
     "name": "stdout",
     "output_type": "stream",
     "text": [
      "-------------- Lets remove the 30.09.2020 for the tags taht still had no transition from before the light went on \n"
     ]
    },
    {
     "data": {
      "text/html": [
       "<text style=color:black>By removing the unwanted days we passed from 547 to 547 timestamp (losing </text> <text style=color:red>0</text> <text style=color:black> timestamp)</text>"
      ],
      "text/plain": [
       "<IPython.core.display.HTML object>"
      ]
     },
     "metadata": {},
     "output_type": "display_data"
    },
    {
     "name": "stdout",
     "output_type": "stream",
     "text": [
      "save\n",
      "Total running time: 3.86 mn\n"
     ]
    },
    {
     "name": "stderr",
     "output_type": "stream",
     "text": [
      "\r",
      " 75%|██████████████████████████████████████████████████████████████▎                    | 6/8 [24:04<08:02, 241.02s/it]"
     ]
    },
    {
     "name": "stdout",
     "output_type": "stream",
     "text": [
      "(547, 124)\n",
      "----------------- Create time serie\n",
      "in this time series there is 20 hens\n"
     ]
    },
    {
     "name": "stderr",
     "output_type": "stream",
     "text": [
      "C:\\Users\\camil\\Desktop\\animals_code\\PhD\\UTILS.py:3940: SettingWithCopyWarning: \n",
      "A value is trying to be set on a copy of a slice from a DataFrame\n",
      "\n",
      "See the caveats in the documentation: https://pandas.pydata.org/pandas-docs/stable/user_guide/indexing.html#returning-a-view-versus-a-copy\n",
      "  df.sort_values([timestamp_name], inplace=True)\n",
      "C:\\Users\\camil\\Desktop\\animals_code\\PhD\\UTILS.py:3942: SettingWithCopyWarning: \n",
      "A value is trying to be set on a copy of a slice from a DataFrame.\n",
      "Try using .loc[row_indexer,col_indexer] = value instead\n",
      "\n",
      "See the caveats in the documentation: https://pandas.pydata.org/pandas-docs/stable/user_guide/indexing.html#returning-a-view-versus-a-copy\n",
      "  df[timestamp_name] = df[timestamp_name].map(lambda x: dt.datetime(x.year,x.month,x.day,x.hour,x.minute, x.second))\n"
     ]
    },
    {
     "name": "stdout",
     "output_type": "stream",
     "text": [
      "The initial starting date in over all is: 2020-10-27 02:13:34, and the ending date will be: 2020-11-22 21:04:21\n",
      "But note that birds may have different ending and starting date which should be taken into account when computing variables\n",
      "and after ending the last day at midnight : 2020-10-27 02:13:34, and the ending date will be: 2020-11-22 23:59:59\n",
      "Total running time: 0.49 mn\n",
      "your time series has 1 seconds between two timestamps\n",
      "----------------- main night zone and nbr of transitions over night....\n",
      "----------------- total duration per Zone in seconds....\n",
      "----------------- first timestamp in each zone per day....\n",
      "----------------- number of Zone (excluding nan)....\n",
      "----------------- compute some variables based on a list of zones over a day....\n",
      "----------------NESTBOX\n"
     ]
    },
    {
     "name": "stderr",
     "output_type": "stream",
     "text": [
      "\n",
      "  0%|                                                                                           | 0/20 [00:00<?, ?it/s]\u001b[A\n",
      " 15%|████████████▍                                                                      | 3/20 [00:00<00:00, 24.66it/s]\u001b[A\n",
      " 25%|████████████████████▊                                                              | 5/20 [00:00<00:00, 19.85it/s]\u001b[A\n",
      " 40%|█████████████████████████████████▏                                                 | 8/20 [00:00<00:00, 20.40it/s]\u001b[A\n",
      " 50%|█████████████████████████████████████████                                         | 10/20 [00:00<00:00, 19.58it/s]\u001b[A\n",
      " 60%|█████████████████████████████████████████████████▏                                | 12/20 [00:00<00:00, 15.84it/s]\u001b[A\n",
      " 70%|█████████████████████████████████████████████████████████▍                        | 14/20 [00:00<00:00, 15.46it/s]\u001b[A\n",
      " 80%|█████████████████████████████████████████████████████████████████▌                | 16/20 [00:00<00:00, 15.97it/s]\u001b[A\n",
      "100%|██████████████████████████████████████████████████████████████████████████████████| 20/20 [00:01<00:00, 17.17it/s]\u001b[A\n"
     ]
    },
    {
     "name": "stdout",
     "output_type": "stream",
     "text": [
      "------------ add hen basics info\n",
      "From the focalBirdinfo, you have 160 ative tags\n",
      "(540, 109)\n",
      "(540, 111)\n",
      "-------------- Lets remove unwanted dates at PENS level\n"
     ]
    },
    {
     "data": {
      "text/html": [
       "<text style=color:black>By removing the unwanted days we passed from 540 to 540 timestamp (losing </text> <text style=color:red>0</text> <text style=color:black> timestamp)</text>"
      ],
      "text/plain": [
       "<IPython.core.display.HTML object>"
      ]
     },
     "metadata": {},
     "output_type": "display_data"
    },
    {
     "name": "stdout",
     "output_type": "stream",
     "text": [
      "All the night variables are:  Index(['HenID', 'night_level', 'night_Max_duration_zones',\n",
      "       'night_distribution_entropy', 'night_Total_number_transition', 'level',\n",
      "       'PenID', 'CLASS', 'R-Pen', 'InitialStartDate', '29-09 weight',\n",
      "       '10-12 juin weight', 'weight 23-11-2020', 'weight 04-01-2021',\n",
      "       'weight 01-02-21', 'weight 12-04-21', 'Treatment'],\n",
      "      dtype='object')\n",
      "['night_level']\n",
      "-------------- Lets remove dates of tags when they were not giving deviceupdate regularly\n"
     ]
    },
    {
     "data": {
      "text/html": [
       "<text style=color:black>By removing the unwanted days we passed from 544 to 544 timestamp (losing </text> <text style=color:red>0</text> <text style=color:black> timestamp)</text>"
      ],
      "text/plain": [
       "<IPython.core.display.HTML object>"
      ]
     },
     "metadata": {},
     "output_type": "display_data"
    },
    {
     "name": "stdout",
     "output_type": "stream",
     "text": [
      "-------------- Lets remove dates of tags when they were having more or equal than 10 times LFCOUNTER=0 a day\n"
     ]
    },
    {
     "data": {
      "text/html": [
       "<text style=color:black>By removing the unwanted days we passed from 544 to 544 timestamp (losing </text> <text style=color:red>0</text> <text style=color:black> timestamp)</text>"
      ],
      "text/plain": [
       "<IPython.core.display.HTML object>"
      ]
     },
     "metadata": {},
     "output_type": "display_data"
    },
    {
     "name": "stdout",
     "output_type": "stream",
     "text": [
      "-------------- Lets remove the 30.09.2020 for the tags taht still had no transition from before the light went on \n"
     ]
    },
    {
     "data": {
      "text/html": [
       "<text style=color:black>By removing the unwanted days we passed from 544 to 544 timestamp (losing </text> <text style=color:red>0</text> <text style=color:black> timestamp)</text>"
      ],
      "text/plain": [
       "<IPython.core.display.HTML object>"
      ]
     },
     "metadata": {},
     "output_type": "display_data"
    },
    {
     "name": "stdout",
     "output_type": "stream",
     "text": [
      "save\n"
     ]
    },
    {
     "name": "stderr",
     "output_type": "stream",
     "text": [
      "\r",
      " 88%|████████████████████████████████████████████████████████████████████████▋          | 7/8 [27:33<03:51, 231.44s/it]"
     ]
    },
    {
     "name": "stdout",
     "output_type": "stream",
     "text": [
      "Total running time: 3.48 mn\n",
      "(544, 123)\n",
      "----------------- Create time serie\n",
      "in this time series there is 20 hens\n"
     ]
    },
    {
     "name": "stderr",
     "output_type": "stream",
     "text": [
      "C:\\Users\\camil\\Desktop\\animals_code\\PhD\\UTILS.py:3940: SettingWithCopyWarning: \n",
      "A value is trying to be set on a copy of a slice from a DataFrame\n",
      "\n",
      "See the caveats in the documentation: https://pandas.pydata.org/pandas-docs/stable/user_guide/indexing.html#returning-a-view-versus-a-copy\n",
      "  df.sort_values([timestamp_name], inplace=True)\n",
      "C:\\Users\\camil\\Desktop\\animals_code\\PhD\\UTILS.py:3942: SettingWithCopyWarning: \n",
      "A value is trying to be set on a copy of a slice from a DataFrame.\n",
      "Try using .loc[row_indexer,col_indexer] = value instead\n",
      "\n",
      "See the caveats in the documentation: https://pandas.pydata.org/pandas-docs/stable/user_guide/indexing.html#returning-a-view-versus-a-copy\n",
      "  df[timestamp_name] = df[timestamp_name].map(lambda x: dt.datetime(x.year,x.month,x.day,x.hour,x.minute, x.second))\n"
     ]
    },
    {
     "name": "stdout",
     "output_type": "stream",
     "text": [
      "The initial starting date in over all is: 2020-10-27 04:29:01, and the ending date will be: 2020-11-22 17:09:48\n",
      "But note that birds may have different ending and starting date which should be taken into account when computing variables\n",
      "and after ending the last day at midnight : 2020-10-27 04:29:01, and the ending date will be: 2020-11-22 23:59:59\n",
      "Total running time: 0.47 mn\n",
      "your time series has 1 seconds between two timestamps\n",
      "----------------- main night zone and nbr of transitions over night....\n",
      "----------------- total duration per Zone in seconds....\n",
      "----------------- first timestamp in each zone per day....\n",
      "----------------- number of Zone (excluding nan)....\n",
      "----------------- compute some variables based on a list of zones over a day....\n",
      "----------------NESTBOX\n"
     ]
    },
    {
     "name": "stderr",
     "output_type": "stream",
     "text": [
      "\n",
      "  0%|                                                                                           | 0/20 [00:00<?, ?it/s]\u001b[A\n",
      " 10%|████████▎                                                                          | 2/20 [00:00<00:00, 19.47it/s]\u001b[A\n",
      " 25%|████████████████████▊                                                              | 5/20 [00:00<00:00, 20.32it/s]\u001b[A\n",
      " 35%|█████████████████████████████                                                      | 7/20 [00:00<00:00, 18.97it/s]\u001b[A\n",
      " 45%|█████████████████████████████████████▎                                             | 9/20 [00:00<00:00, 17.25it/s]\u001b[A\n",
      " 55%|█████████████████████████████████████████████                                     | 11/20 [00:00<00:00, 17.62it/s]\u001b[A\n",
      " 70%|█████████████████████████████████████████████████████████▍                        | 14/20 [00:00<00:00, 19.38it/s]\u001b[A\n",
      " 80%|█████████████████████████████████████████████████████████████████▌                | 16/20 [00:00<00:00, 18.70it/s]\u001b[A\n",
      " 90%|█████████████████████████████████████████████████████████████████████████▊        | 18/20 [00:00<00:00, 16.58it/s]\u001b[A\n",
      "100%|██████████████████████████████████████████████████████████████████████████████████| 20/20 [00:01<00:00, 17.83it/s]\u001b[A\n",
      "C:\\Users\\camil\\anaconda3\\lib\\site-packages\\numpy\\lib\\nanfunctions.py:1366: RuntimeWarning: Mean of empty slice\n",
      "  return np.nanmean(a, axis, out=out, keepdims=keepdims)\n"
     ]
    },
    {
     "name": "stdout",
     "output_type": "stream",
     "text": [
      "------------ add hen basics info\n",
      "From the focalBirdinfo, you have 160 ative tags\n",
      "(540, 110)\n",
      "(540, 112)\n",
      "-------------- Lets remove unwanted dates at PENS level\n"
     ]
    },
    {
     "data": {
      "text/html": [
       "<text style=color:black>By removing the unwanted days we passed from 540 to 540 timestamp (losing </text> <text style=color:red>0</text> <text style=color:black> timestamp)</text>"
      ],
      "text/plain": [
       "<IPython.core.display.HTML object>"
      ]
     },
     "metadata": {},
     "output_type": "display_data"
    },
    {
     "name": "stdout",
     "output_type": "stream",
     "text": [
      "All the night variables are:  Index(['HenID', 'night_level', 'night_Max_duration_zones',\n",
      "       'night_distribution_entropy', 'night_Total_number_transition', 'level',\n",
      "       'PenID', 'CLASS', 'R-Pen', 'InitialStartDate', '29-09 weight',\n",
      "       '10-12 juin weight', 'weight 23-11-2020', 'weight 04-01-2021',\n",
      "       'weight 01-02-21', 'weight 12-04-21', 'Treatment'],\n",
      "      dtype='object')\n",
      "['night_level']\n",
      "-------------- Lets remove dates of tags when they were not giving deviceupdate regularly\n"
     ]
    },
    {
     "data": {
      "text/html": [
       "<text style=color:black>By removing the unwanted days we passed from 542 to 542 timestamp (losing </text> <text style=color:red>0</text> <text style=color:black> timestamp)</text>"
      ],
      "text/plain": [
       "<IPython.core.display.HTML object>"
      ]
     },
     "metadata": {},
     "output_type": "display_data"
    },
    {
     "name": "stdout",
     "output_type": "stream",
     "text": [
      "-------------- Lets remove dates of tags when they were having more or equal than 10 times LFCOUNTER=0 a day\n"
     ]
    },
    {
     "data": {
      "text/html": [
       "<text style=color:black>By removing the unwanted days we passed from 542 to 542 timestamp (losing </text> <text style=color:red>0</text> <text style=color:black> timestamp)</text>"
      ],
      "text/plain": [
       "<IPython.core.display.HTML object>"
      ]
     },
     "metadata": {},
     "output_type": "display_data"
    },
    {
     "name": "stdout",
     "output_type": "stream",
     "text": [
      "-------------- Lets remove the 30.09.2020 for the tags taht still had no transition from before the light went on \n"
     ]
    },
    {
     "data": {
      "text/html": [
       "<text style=color:black>By removing the unwanted days we passed from 542 to 542 timestamp (losing </text> <text style=color:red>0</text> <text style=color:black> timestamp)</text>"
      ],
      "text/plain": [
       "<IPython.core.display.HTML object>"
      ]
     },
     "metadata": {},
     "output_type": "display_data"
    },
    {
     "name": "stdout",
     "output_type": "stream",
     "text": [
      "save\n",
      "Total running time: 3.37 mn\n"
     ]
    },
    {
     "name": "stderr",
     "output_type": "stream",
     "text": [
      "100%|███████████████████████████████████████████████████████████████████████████████████| 8/8 [30:55<00:00, 231.95s/it]\n",
      "  0%|                                                                                            | 0/8 [00:00<?, ?it/s]"
     ]
    },
    {
     "name": "stdout",
     "output_type": "stream",
     "text": [
      "(542, 124)\n",
      "Total running time: 30.93 mn\n"
     ]
    },
    {
     "name": "stderr",
     "output_type": "stream",
     "text": [
      "\r",
      " 12%|██████████▌                                                                         | 1/8 [00:00<00:06,  1.02it/s]"
     ]
    },
    {
     "name": "stdout",
     "output_type": "stream",
     "text": [
      "(549, 124)\n"
     ]
    },
    {
     "name": "stderr",
     "output_type": "stream",
     "text": [
      "\r",
      " 25%|█████████████████████                                                               | 2/8 [00:01<00:04,  1.21it/s]"
     ]
    },
    {
     "name": "stdout",
     "output_type": "stream",
     "text": [
      "(542, 124)\n"
     ]
    },
    {
     "name": "stderr",
     "output_type": "stream",
     "text": [
      "\r",
      " 38%|███████████████████████████████▌                                                    | 3/8 [00:03<00:05,  1.18s/it]"
     ]
    },
    {
     "name": "stdout",
     "output_type": "stream",
     "text": [
      "(547, 124)\n"
     ]
    },
    {
     "name": "stderr",
     "output_type": "stream",
     "text": [
      "\r",
      " 50%|██████████████████████████████████████████                                          | 4/8 [00:03<00:03,  1.01it/s]"
     ]
    },
    {
     "name": "stdout",
     "output_type": "stream",
     "text": [
      "(544, 123)\n"
     ]
    },
    {
     "name": "stderr",
     "output_type": "stream",
     "text": [
      "\r",
      " 62%|████████████████████████████████████████████████████▌                               | 5/8 [00:04<00:02,  1.16it/s]"
     ]
    },
    {
     "name": "stdout",
     "output_type": "stream",
     "text": [
      "(548, 123)\n"
     ]
    },
    {
     "name": "stderr",
     "output_type": "stream",
     "text": [
      "\r",
      " 75%|███████████████████████████████████████████████████████████████                     | 6/8 [00:05<00:01,  1.05it/s]"
     ]
    },
    {
     "name": "stdout",
     "output_type": "stream",
     "text": [
      "(447, 124)\n"
     ]
    },
    {
     "name": "stderr",
     "output_type": "stream",
     "text": [
      "\r",
      " 88%|█████████████████████████████████████████████████████████████████████████▌          | 7/8 [00:06<00:00,  1.08it/s]"
     ]
    },
    {
     "name": "stdout",
     "output_type": "stream",
     "text": [
      "(514, 124)\n"
     ]
    },
    {
     "name": "stderr",
     "output_type": "stream",
     "text": [
      "100%|████████████████████████████████████████████████████████████████████████████████████| 8/8 [00:07<00:00,  1.04it/s]"
     ]
    },
    {
     "name": "stdout",
     "output_type": "stream",
     "text": [
      "(566, 124)\n"
     ]
    },
    {
     "name": "stderr",
     "output_type": "stream",
     "text": [
      "\n"
     ]
    },
    {
     "name": "stdout",
     "output_type": "stream",
     "text": [
      "(4257, 124)\n"
     ]
    },
    {
     "data": {
      "text/html": [
       "<div>\n",
       "<style scoped>\n",
       "    .dataframe tbody tr th:only-of-type {\n",
       "        vertical-align: middle;\n",
       "    }\n",
       "\n",
       "    .dataframe tbody tr th {\n",
       "        vertical-align: top;\n",
       "    }\n",
       "\n",
       "    .dataframe thead th {\n",
       "        text-align: right;\n",
       "    }\n",
       "</style>\n",
       "<table border=\"1\" class=\"dataframe\">\n",
       "  <thead>\n",
       "    <tr style=\"text-align: right;\">\n",
       "      <th></th>\n",
       "      <th>HenID</th>\n",
       "      <th>level</th>\n",
       "      <th>duration_1_Zone</th>\n",
       "      <th>duration_2_Zone</th>\n",
       "      <th>duration_3_Zone</th>\n",
       "      <th>duration_4_Zone</th>\n",
       "      <th>duration_5_Zone</th>\n",
       "      <th>verification_daily_total_duration</th>\n",
       "      <th>dur_values</th>\n",
       "      <th>dur_values_normalized</th>\n",
       "      <th>...</th>\n",
       "      <th>list_of_night20_2_temperature</th>\n",
       "      <th>nbr_temperature_nnnan</th>\n",
       "      <th>temperature_night20_2_median</th>\n",
       "      <th>temperature_night20_2_max</th>\n",
       "      <th>temperature_night20_2_var</th>\n",
       "      <th>list_of_MovementCounter_day</th>\n",
       "      <th>len_MovementCounter_day</th>\n",
       "      <th>MovementCounter_day_amount_nnactivity</th>\n",
       "      <th>MovementCounter_day_max</th>\n",
       "      <th>MovementCounter_day_mean</th>\n",
       "    </tr>\n",
       "  </thead>\n",
       "  <tbody>\n",
       "    <tr>\n",
       "      <th>0</th>\n",
       "      <td>hen_131</td>\n",
       "      <td>2020-10-27</td>\n",
       "      <td>2393.0</td>\n",
       "      <td>20613.0</td>\n",
       "      <td>16026.0</td>\n",
       "      <td>3296.0</td>\n",
       "      <td>872.0</td>\n",
       "      <td>43200.0</td>\n",
       "      <td>[2393.0, 20613.0, 16026.0, 3296.0, 872.0]</td>\n",
       "      <td>[0.055393518518518516, 0.47715277777777776, 0....</td>\n",
       "      <td>...</td>\n",
       "      <td>[29.0, 29.0, 30.0, 29.0, 29.0, 29.0, 29.0, 30....</td>\n",
       "      <td>36.0</td>\n",
       "      <td>29.0</td>\n",
       "      <td>30.0</td>\n",
       "      <td>0.212191</td>\n",
       "      <td>[41.0, 62.0, 72.0, 71.0, 63.0, 50.0, 36.0, 39....</td>\n",
       "      <td>72.0</td>\n",
       "      <td>0.0</td>\n",
       "      <td>103.0</td>\n",
       "      <td>67.236111</td>\n",
       "    </tr>\n",
       "    <tr>\n",
       "      <th>1</th>\n",
       "      <td>hen_131</td>\n",
       "      <td>2020-10-28</td>\n",
       "      <td>3482.0</td>\n",
       "      <td>19982.0</td>\n",
       "      <td>16698.0</td>\n",
       "      <td>2635.0</td>\n",
       "      <td>403.0</td>\n",
       "      <td>43200.0</td>\n",
       "      <td>[3482.0, 19982.0, 16698.0, 2635.0, 403.0]</td>\n",
       "      <td>[0.08060185185185186, 0.4625462962962963, 0.38...</td>\n",
       "      <td>...</td>\n",
       "      <td>[28.0, 28.0, 28.0, 28.0, 28.0, 29.0, 29.0, 28....</td>\n",
       "      <td>36.0</td>\n",
       "      <td>29.0</td>\n",
       "      <td>29.0</td>\n",
       "      <td>0.212191</td>\n",
       "      <td>[45.0, 78.0, 59.0, 64.0, 52.0, 43.0, 43.0, 55....</td>\n",
       "      <td>72.0</td>\n",
       "      <td>0.0</td>\n",
       "      <td>109.0</td>\n",
       "      <td>69.138889</td>\n",
       "    </tr>\n",
       "    <tr>\n",
       "      <th>2</th>\n",
       "      <td>hen_131</td>\n",
       "      <td>2020-10-29</td>\n",
       "      <td>2768.0</td>\n",
       "      <td>21508.0</td>\n",
       "      <td>15045.0</td>\n",
       "      <td>2791.0</td>\n",
       "      <td>1088.0</td>\n",
       "      <td>43200.0</td>\n",
       "      <td>[2768.0, 21508.0, 15045.0, 2791.0, 1088.0]</td>\n",
       "      <td>[0.06407407407407407, 0.49787037037037035, 0.3...</td>\n",
       "      <td>...</td>\n",
       "      <td>[29.0, 29.0, 29.0, 29.0, 29.0, 29.0, 29.0, 29....</td>\n",
       "      <td>36.0</td>\n",
       "      <td>29.0</td>\n",
       "      <td>29.0</td>\n",
       "      <td>0.076389</td>\n",
       "      <td>[66.0, 61.0, 59.0, 68.0, 59.0, 73.0, 58.0, 42....</td>\n",
       "      <td>72.0</td>\n",
       "      <td>0.0</td>\n",
       "      <td>108.0</td>\n",
       "      <td>71.847222</td>\n",
       "    </tr>\n",
       "  </tbody>\n",
       "</table>\n",
       "<p>3 rows × 124 columns</p>\n",
       "</div>"
      ],
      "text/plain": [
       "     HenID      level  duration_1_Zone  duration_2_Zone  duration_3_Zone  \\\n",
       "0  hen_131 2020-10-27           2393.0          20613.0          16026.0   \n",
       "1  hen_131 2020-10-28           3482.0          19982.0          16698.0   \n",
       "2  hen_131 2020-10-29           2768.0          21508.0          15045.0   \n",
       "\n",
       "   duration_4_Zone  duration_5_Zone  verification_daily_total_duration  \\\n",
       "0           3296.0            872.0                            43200.0   \n",
       "1           2635.0            403.0                            43200.0   \n",
       "2           2791.0           1088.0                            43200.0   \n",
       "\n",
       "                                   dur_values  \\\n",
       "0   [2393.0, 20613.0, 16026.0, 3296.0, 872.0]   \n",
       "1   [3482.0, 19982.0, 16698.0, 2635.0, 403.0]   \n",
       "2  [2768.0, 21508.0, 15045.0, 2791.0, 1088.0]   \n",
       "\n",
       "                               dur_values_normalized  ...  \\\n",
       "0  [0.055393518518518516, 0.47715277777777776, 0....  ...   \n",
       "1  [0.08060185185185186, 0.4625462962962963, 0.38...  ...   \n",
       "2  [0.06407407407407407, 0.49787037037037035, 0.3...  ...   \n",
       "\n",
       "                       list_of_night20_2_temperature nbr_temperature_nnnan  \\\n",
       "0  [29.0, 29.0, 30.0, 29.0, 29.0, 29.0, 29.0, 30....                  36.0   \n",
       "1  [28.0, 28.0, 28.0, 28.0, 28.0, 29.0, 29.0, 28....                  36.0   \n",
       "2  [29.0, 29.0, 29.0, 29.0, 29.0, 29.0, 29.0, 29....                  36.0   \n",
       "\n",
       "  temperature_night20_2_median temperature_night20_2_max  \\\n",
       "0                         29.0                      30.0   \n",
       "1                         29.0                      29.0   \n",
       "2                         29.0                      29.0   \n",
       "\n",
       "  temperature_night20_2_var  \\\n",
       "0                  0.212191   \n",
       "1                  0.212191   \n",
       "2                  0.076389   \n",
       "\n",
       "                         list_of_MovementCounter_day len_MovementCounter_day  \\\n",
       "0  [41.0, 62.0, 72.0, 71.0, 63.0, 50.0, 36.0, 39....                    72.0   \n",
       "1  [45.0, 78.0, 59.0, 64.0, 52.0, 43.0, 43.0, 55....                    72.0   \n",
       "2  [66.0, 61.0, 59.0, 68.0, 59.0, 73.0, 58.0, 42....                    72.0   \n",
       "\n",
       "  MovementCounter_day_amount_nnactivity MovementCounter_day_max  \\\n",
       "0                                   0.0                   103.0   \n",
       "1                                   0.0                   109.0   \n",
       "2                                   0.0                   108.0   \n",
       "\n",
       "  MovementCounter_day_mean  \n",
       "0                67.236111  \n",
       "1                69.138889  \n",
       "2                71.847222  \n",
       "\n",
       "[3 rows x 124 columns]"
      ]
     },
     "execution_count": 11,
     "metadata": {},
     "output_type": "execute_result"
    }
   ],
   "source": [
    "############## cleaned dataset\n",
    "START_TIME = time.perf_counter()\n",
    "#remove predicted-wrong-records\n",
    "print(df.shape)\n",
    "df_ = df[df['prediction']!=0].copy()\n",
    "print(df_.shape)\n",
    "#simply rename the tracking system zone into the model zone \n",
    "display(df_.head(2))\n",
    "for p in tqdm.tqdm(df_['PenID'].unique()):\n",
    "    df_daily = HenDailyVariable_Origins(df_[df_['PenID']==p], config, name_='CLEANING_'+name_method+p, \n",
    "                                        timestamp_name='Timestamp', has_cons_equal_zone=True)\n",
    "    print(df_daily.shape)\n",
    "    df_daily.head(3)\n",
    "END_TIME = time.perf_counter()\n",
    "print (\"Total running time: %.2f mn\" %((END_TIME-START_TIME)/60))  \n",
    "\n",
    "#Concatenate all HenVariables csv into one\n",
    "li_paths_var = glob.glob(os.path.join(path_extracted_data, id_run+'_daily__CLEANING_'+name_method+'*_variables.csv'))\n",
    "li_df = []\n",
    "for path_var in tqdm.tqdm(li_paths_var):\n",
    "    #for being more reproductible, we open the file that was saved from cleaning\n",
    "    df_ = pd.read_csv(path_var, sep=';',parse_dates=['level', 'FirstTimestamp_1_Zone', 'FirstTimestamp_2_Zone', \n",
    "                                                     'FirstTimestamp_3_Zone','FirstTimestamp_4_Zone',\n",
    "                                                     'FirstTimestamp_5_Zone']) \n",
    "    print(df_.shape)\n",
    "    li_df.append(df_)\n",
    "df_daily = pd.concat(li_df)\n",
    "df_daily.to_csv(os.path.join(path_extracted_data, id_run+name_method+'_daily_CLEANING_ALL_variables.csv'), sep=';', index=False)\n",
    "print(df_daily.shape)\n",
    "df_daily.head(3)"
   ]
  },
  {
   "cell_type": "code",
   "execution_count": 12,
   "metadata": {
    "scrolled": true
   },
   "outputs": [
    {
     "name": "stderr",
     "output_type": "stream",
     "text": [
      "C:\\Users\\camil\\anaconda3\\lib\\site-packages\\ipykernel\\ipkernel.py:283: DeprecationWarning: `should_run_async` will not call `transform_cell` automatically in the future. Please pass the result to `transformed_cell` argument and any exception that happen during thetransform in `preprocessing_exc_tuple` in IPython 7.17 and above.\n",
      "  and should_run_async(code)\n",
      "  0%|                                                                                            | 0/8 [00:00<?, ?it/s]C:\\Users\\camil\\Desktop\\animals_code\\PhD\\UTILS.py:3940: SettingWithCopyWarning: \n",
      "A value is trying to be set on a copy of a slice from a DataFrame\n",
      "\n",
      "See the caveats in the documentation: https://pandas.pydata.org/pandas-docs/stable/user_guide/indexing.html#returning-a-view-versus-a-copy\n",
      "  df.sort_values([timestamp_name], inplace=True)\n",
      "C:\\Users\\camil\\Desktop\\animals_code\\PhD\\UTILS.py:3942: SettingWithCopyWarning: \n",
      "A value is trying to be set on a copy of a slice from a DataFrame.\n",
      "Try using .loc[row_indexer,col_indexer] = value instead\n",
      "\n",
      "See the caveats in the documentation: https://pandas.pydata.org/pandas-docs/stable/user_guide/indexing.html#returning-a-view-versus-a-copy\n",
      "  df[timestamp_name] = df[timestamp_name].map(lambda x: dt.datetime(x.year,x.month,x.day,x.hour,x.minute, x.second))\n"
     ]
    },
    {
     "name": "stdout",
     "output_type": "stream",
     "text": [
      "----------------- Create time serie\n",
      "in this time series there is 20 hens\n",
      "The initial starting date in over all is: 2020-10-27 00:03:07, and the ending date will be: 2020-11-22 23:10:43\n",
      "But note that birds may have different ending and starting date which should be taken into account when computing variables\n",
      "and after ending the last day at midnight : 2020-10-27 00:03:07, and the ending date will be: 2020-11-22 23:59:59\n",
      "Total running time: 0.45 mn\n",
      "your time series has 1 seconds between two timestamps\n",
      "----------------- main night zone and nbr of transitions over night....\n",
      "----------------- total duration per Zone in seconds....\n",
      "----------------- first timestamp in each zone per day....\n",
      "----------------- number of Zone (excluding nan)....\n",
      "----------------- compute some variables based on a list of zones over a day....\n",
      "----------------NESTBOX\n"
     ]
    },
    {
     "name": "stderr",
     "output_type": "stream",
     "text": [
      "\n",
      "  0%|                                                                                           | 0/20 [00:00<?, ?it/s]\u001b[A\n",
      "  5%|████▏                                                                              | 1/20 [00:00<00:02,  7.83it/s]\u001b[A\n",
      " 10%|████████▎                                                                          | 2/20 [00:00<00:02,  6.94it/s]\u001b[A\n",
      " 15%|████████████▍                                                                      | 3/20 [00:00<00:02,  6.93it/s]\u001b[A\n",
      " 25%|████████████████████▊                                                              | 5/20 [00:00<00:01,  8.43it/s]\u001b[A\n",
      " 30%|████████████████████████▉                                                          | 6/20 [00:00<00:01,  8.10it/s]\u001b[A\n",
      " 35%|█████████████████████████████                                                      | 7/20 [00:00<00:01,  8.40it/s]\u001b[A\n",
      " 40%|█████████████████████████████████▏                                                 | 8/20 [00:01<00:02,  4.54it/s]\u001b[A\n",
      " 45%|█████████████████████████████████████▎                                             | 9/20 [00:01<00:02,  5.04it/s]\u001b[A\n",
      " 55%|█████████████████████████████████████████████                                     | 11/20 [00:01<00:01,  5.74it/s]\u001b[A\n",
      " 65%|█████████████████████████████████████████████████████▎                            | 13/20 [00:01<00:01,  6.79it/s]\u001b[A\n",
      " 75%|█████████████████████████████████████████████████████████████▌                    | 15/20 [00:01<00:00,  8.06it/s]\u001b[A\n",
      " 85%|█████████████████████████████████████████████████████████████████████▋            | 17/20 [00:02<00:00,  8.67it/s]\u001b[A\n",
      "100%|██████████████████████████████████████████████████████████████████████████████████| 20/20 [00:02<00:00,  8.25it/s]\u001b[A\n",
      "C:\\Users\\camil\\anaconda3\\lib\\site-packages\\numpy\\lib\\nanfunctions.py:1366: RuntimeWarning: Mean of empty slice\n",
      "  return np.nanmean(a, axis, out=out, keepdims=keepdims)\n"
     ]
    },
    {
     "name": "stdout",
     "output_type": "stream",
     "text": [
      "------------ add hen basics info\n",
      "From the focalBirdinfo, you have 160 ative tags\n",
      "(540, 110)\n",
      "(527, 112)\n",
      "-------------- Lets remove unwanted dates at PENS level\n"
     ]
    },
    {
     "data": {
      "text/html": [
       "<text style=color:black>By removing the unwanted days we passed from 527 to 427 timestamp (losing </text> <text style=color:red>100</text> <text style=color:black> timestamp)</text>"
      ],
      "text/plain": [
       "<IPython.core.display.HTML object>"
      ]
     },
     "metadata": {},
     "output_type": "display_data"
    },
    {
     "name": "stdout",
     "output_type": "stream",
     "text": [
      "All the night variables are:  Index(['HenID', 'night_level', 'night_Max_duration_zones',\n",
      "       'night_distribution_entropy', 'night_Total_number_transition', 'level',\n",
      "       'PenID', 'CLASS', 'R-Pen', 'InitialStartDate', '29-09 weight',\n",
      "       '10-12 juin weight', 'weight 23-11-2020', 'weight 04-01-2021',\n",
      "       'weight 01-02-21', 'weight 12-04-21', 'Treatment'],\n",
      "      dtype='object')\n",
      "['night_level']\n",
      "-------------- Lets remove dates of tags when they were not giving deviceupdate regularly\n"
     ]
    },
    {
     "data": {
      "text/html": [
       "<text style=color:black>By removing the unwanted days we passed from 447 to 447 timestamp (losing </text> <text style=color:red>0</text> <text style=color:black> timestamp)</text>"
      ],
      "text/plain": [
       "<IPython.core.display.HTML object>"
      ]
     },
     "metadata": {},
     "output_type": "display_data"
    },
    {
     "name": "stdout",
     "output_type": "stream",
     "text": [
      "-------------- Lets remove dates of tags when they were having more or equal than 10 times LFCOUNTER=0 a day\n"
     ]
    },
    {
     "data": {
      "text/html": [
       "<text style=color:black>By removing the unwanted days we passed from 447 to 447 timestamp (losing </text> <text style=color:red>0</text> <text style=color:black> timestamp)</text>"
      ],
      "text/plain": [
       "<IPython.core.display.HTML object>"
      ]
     },
     "metadata": {},
     "output_type": "display_data"
    },
    {
     "name": "stdout",
     "output_type": "stream",
     "text": [
      "-------------- Lets remove the 30.09.2020 for the tags taht still had no transition from before the light went on \n"
     ]
    },
    {
     "data": {
      "text/html": [
       "<text style=color:black>By removing the unwanted days we passed from 447 to 447 timestamp (losing </text> <text style=color:red>0</text> <text style=color:black> timestamp)</text>"
      ],
      "text/plain": [
       "<IPython.core.display.HTML object>"
      ]
     },
     "metadata": {},
     "output_type": "display_data"
    },
    {
     "name": "stdout",
     "output_type": "stream",
     "text": [
      "save\n"
     ]
    },
    {
     "name": "stderr",
     "output_type": "stream",
     "text": [
      "\r",
      " 12%|██████████▍                                                                        | 1/8 [03:18<23:11, 198.73s/it]"
     ]
    },
    {
     "name": "stdout",
     "output_type": "stream",
     "text": [
      "Total running time: 3.31 mn\n",
      "(447, 124)\n"
     ]
    },
    {
     "name": "stderr",
     "output_type": "stream",
     "text": [
      "C:\\Users\\camil\\Desktop\\animals_code\\PhD\\UTILS.py:3940: SettingWithCopyWarning: \n",
      "A value is trying to be set on a copy of a slice from a DataFrame\n",
      "\n",
      "See the caveats in the documentation: https://pandas.pydata.org/pandas-docs/stable/user_guide/indexing.html#returning-a-view-versus-a-copy\n",
      "  df.sort_values([timestamp_name], inplace=True)\n",
      "C:\\Users\\camil\\Desktop\\animals_code\\PhD\\UTILS.py:3942: SettingWithCopyWarning: \n",
      "A value is trying to be set on a copy of a slice from a DataFrame.\n",
      "Try using .loc[row_indexer,col_indexer] = value instead\n",
      "\n",
      "See the caveats in the documentation: https://pandas.pydata.org/pandas-docs/stable/user_guide/indexing.html#returning-a-view-versus-a-copy\n",
      "  df[timestamp_name] = df[timestamp_name].map(lambda x: dt.datetime(x.year,x.month,x.day,x.hour,x.minute, x.second))\n"
     ]
    },
    {
     "name": "stdout",
     "output_type": "stream",
     "text": [
      "----------------- Create time serie\n",
      "in this time series there is 20 hens\n",
      "The initial starting date in over all is: 2020-10-27 00:15:39, and the ending date will be: 2020-11-22 23:58:56\n",
      "But note that birds may have different ending and starting date which should be taken into account when computing variables\n",
      "and after ending the last day at midnight : 2020-10-27 00:15:39, and the ending date will be: 2020-11-22 23:59:59\n",
      "Total running time: 0.47 mn\n",
      "your time series has 1 seconds between two timestamps\n",
      "----------------- main night zone and nbr of transitions over night....\n",
      "----------------- total duration per Zone in seconds....\n",
      "----------------- first timestamp in each zone per day....\n",
      "----------------- number of Zone (excluding nan)....\n",
      "----------------- compute some variables based on a list of zones over a day....\n",
      "----------------NESTBOX\n"
     ]
    },
    {
     "name": "stderr",
     "output_type": "stream",
     "text": [
      "\n",
      "  0%|                                                                                           | 0/20 [00:00<?, ?it/s]\u001b[A\n",
      " 10%|████████▎                                                                          | 2/20 [00:00<00:03,  4.89it/s]\u001b[A\n",
      " 15%|████████████▍                                                                      | 3/20 [00:00<00:02,  5.72it/s]\u001b[A\n",
      " 25%|████████████████████▊                                                              | 5/20 [00:00<00:02,  6.19it/s]\u001b[A\n",
      " 35%|█████████████████████████████                                                      | 7/20 [00:00<00:01,  6.94it/s]\u001b[A\n",
      " 45%|█████████████████████████████████████▎                                             | 9/20 [00:01<00:01,  7.19it/s]\u001b[A\n",
      " 50%|█████████████████████████████████████████                                         | 10/20 [00:01<00:01,  7.10it/s]\u001b[A\n",
      " 60%|█████████████████████████████████████████████████▏                                | 12/20 [00:01<00:01,  7.55it/s]\u001b[A\n",
      " 70%|█████████████████████████████████████████████████████████▍                        | 14/20 [00:01<00:00,  8.32it/s]\u001b[A\n",
      " 80%|█████████████████████████████████████████████████████████████████▌                | 16/20 [00:01<00:00,  8.91it/s]\u001b[A\n",
      " 85%|█████████████████████████████████████████████████████████████████████▋            | 17/20 [00:02<00:00,  9.02it/s]\u001b[A\n",
      "100%|██████████████████████████████████████████████████████████████████████████████████| 20/20 [00:02<00:00,  8.50it/s]\u001b[A\n"
     ]
    },
    {
     "name": "stdout",
     "output_type": "stream",
     "text": [
      "------------ add hen basics info\n",
      "From the focalBirdinfo, you have 160 ative tags\n",
      "(540, 109)\n",
      "(540, 111)\n",
      "-------------- Lets remove unwanted dates at PENS level\n"
     ]
    },
    {
     "data": {
      "text/html": [
       "<text style=color:black>By removing the unwanted days we passed from 540 to 540 timestamp (losing </text> <text style=color:red>0</text> <text style=color:black> timestamp)</text>"
      ],
      "text/plain": [
       "<IPython.core.display.HTML object>"
      ]
     },
     "metadata": {},
     "output_type": "display_data"
    },
    {
     "name": "stdout",
     "output_type": "stream",
     "text": [
      "All the night variables are:  Index(['HenID', 'night_level', 'night_Max_duration_zones',\n",
      "       'night_distribution_entropy', 'night_Total_number_transition', 'level',\n",
      "       'PenID', 'CLASS', 'R-Pen', 'InitialStartDate', '29-09 weight',\n",
      "       '10-12 juin weight', 'weight 23-11-2020', 'weight 04-01-2021',\n",
      "       'weight 01-02-21', 'weight 12-04-21', 'Treatment'],\n",
      "      dtype='object')\n",
      "['night_level']\n",
      "-------------- Lets remove dates of tags when they were not giving deviceupdate regularly\n"
     ]
    },
    {
     "data": {
      "text/html": [
       "<text style=color:black>By removing the unwanted days we passed from 548 to 548 timestamp (losing </text> <text style=color:red>0</text> <text style=color:black> timestamp)</text>"
      ],
      "text/plain": [
       "<IPython.core.display.HTML object>"
      ]
     },
     "metadata": {},
     "output_type": "display_data"
    },
    {
     "name": "stdout",
     "output_type": "stream",
     "text": [
      "-------------- Lets remove dates of tags when they were having more or equal than 10 times LFCOUNTER=0 a day\n"
     ]
    },
    {
     "data": {
      "text/html": [
       "<text style=color:black>By removing the unwanted days we passed from 548 to 548 timestamp (losing </text> <text style=color:red>0</text> <text style=color:black> timestamp)</text>"
      ],
      "text/plain": [
       "<IPython.core.display.HTML object>"
      ]
     },
     "metadata": {},
     "output_type": "display_data"
    },
    {
     "name": "stdout",
     "output_type": "stream",
     "text": [
      "-------------- Lets remove the 30.09.2020 for the tags taht still had no transition from before the light went on \n"
     ]
    },
    {
     "data": {
      "text/html": [
       "<text style=color:black>By removing the unwanted days we passed from 548 to 548 timestamp (losing </text> <text style=color:red>0</text> <text style=color:black> timestamp)</text>"
      ],
      "text/plain": [
       "<IPython.core.display.HTML object>"
      ]
     },
     "metadata": {},
     "output_type": "display_data"
    },
    {
     "name": "stdout",
     "output_type": "stream",
     "text": [
      "save\n"
     ]
    },
    {
     "name": "stderr",
     "output_type": "stream",
     "text": [
      "\r",
      " 25%|████████████████████▊                                                              | 2/8 [06:49<20:13, 202.20s/it]"
     ]
    },
    {
     "name": "stdout",
     "output_type": "stream",
     "text": [
      "Total running time: 3.50 mn\n",
      "(548, 123)\n"
     ]
    },
    {
     "name": "stderr",
     "output_type": "stream",
     "text": [
      "C:\\Users\\camil\\Desktop\\animals_code\\PhD\\UTILS.py:3940: SettingWithCopyWarning: \n",
      "A value is trying to be set on a copy of a slice from a DataFrame\n",
      "\n",
      "See the caveats in the documentation: https://pandas.pydata.org/pandas-docs/stable/user_guide/indexing.html#returning-a-view-versus-a-copy\n",
      "  df.sort_values([timestamp_name], inplace=True)\n",
      "C:\\Users\\camil\\Desktop\\animals_code\\PhD\\UTILS.py:3942: SettingWithCopyWarning: \n",
      "A value is trying to be set on a copy of a slice from a DataFrame.\n",
      "Try using .loc[row_indexer,col_indexer] = value instead\n",
      "\n",
      "See the caveats in the documentation: https://pandas.pydata.org/pandas-docs/stable/user_guide/indexing.html#returning-a-view-versus-a-copy\n",
      "  df[timestamp_name] = df[timestamp_name].map(lambda x: dt.datetime(x.year,x.month,x.day,x.hour,x.minute, x.second))\n"
     ]
    },
    {
     "name": "stdout",
     "output_type": "stream",
     "text": [
      "----------------- Create time serie\n",
      "in this time series there is 19 hens\n",
      "The initial starting date in over all is: 2020-10-27 00:22:38, and the ending date will be: 2020-11-22 23:12:54\n",
      "But note that birds may have different ending and starting date which should be taken into account when computing variables\n",
      "and after ending the last day at midnight : 2020-10-27 00:22:38, and the ending date will be: 2020-11-22 23:59:59\n",
      "Total running time: 0.47 mn\n",
      "your time series has 1 seconds between two timestamps\n",
      "----------------- main night zone and nbr of transitions over night....\n",
      "----------------- total duration per Zone in seconds....\n",
      "----------------- first timestamp in each zone per day....\n",
      "----------------- number of Zone (excluding nan)....\n",
      "----------------- compute some variables based on a list of zones over a day....\n",
      "several max-duration-zone\n",
      "----------------NESTBOX\n"
     ]
    },
    {
     "name": "stderr",
     "output_type": "stream",
     "text": [
      "\n",
      "  0%|                                                                                           | 0/19 [00:00<?, ?it/s]\u001b[A\n",
      "  5%|████▎                                                                              | 1/19 [00:00<00:02,  7.54it/s]\u001b[A\n",
      " 11%|████████▋                                                                          | 2/19 [00:00<00:02,  7.66it/s]\u001b[A\n",
      " 16%|█████████████                                                                      | 3/19 [00:00<00:02,  5.96it/s]\u001b[A\n",
      " 32%|██████████████████████████▏                                                        | 6/19 [00:00<00:01,  7.22it/s]\u001b[A\n",
      " 37%|██████████████████████████████▌                                                    | 7/19 [00:00<00:01,  7.16it/s]\u001b[A\n",
      " 42%|██████████████████████████████████▉                                                | 8/19 [00:01<00:01,  6.24it/s]\u001b[A\n",
      " 47%|███████████████████████████████████████▎                                           | 9/19 [00:01<00:01,  6.34it/s]\u001b[A\n",
      " 58%|███████████████████████████████████████████████▍                                  | 11/19 [00:01<00:01,  7.20it/s]\u001b[A\n",
      " 63%|███████████████████████████████████████████████████▊                              | 12/19 [00:01<00:00,  7.48it/s]\u001b[A\n",
      " 74%|████████████████████████████████████████████████████████████▍                     | 14/19 [00:01<00:00,  8.30it/s]\u001b[A\n",
      " 84%|█████████████████████████████████████████████████████████████████████             | 16/19 [00:01<00:00,  9.02it/s]\u001b[A\n",
      " 89%|█████████████████████████████████████████████████████████████████████████▎        | 17/19 [00:02<00:00,  7.86it/s]\u001b[A\n",
      " 95%|█████████████████████████████████████████████████████████████████████████████▋    | 18/19 [00:02<00:00,  7.21it/s]\u001b[A\n",
      "100%|██████████████████████████████████████████████████████████████████████████████████| 19/19 [00:02<00:00,  7.87it/s]\u001b[A\n"
     ]
    },
    {
     "name": "stdout",
     "output_type": "stream",
     "text": [
      "------------ add hen basics info\n",
      "From the focalBirdinfo, you have 160 ative tags\n",
      "(512, 110)\n",
      "(512, 112)\n",
      "-------------- Lets remove unwanted dates at PENS level\n"
     ]
    },
    {
     "data": {
      "text/html": [
       "<text style=color:black>By removing the unwanted days we passed from 512 to 512 timestamp (losing </text> <text style=color:red>0</text> <text style=color:black> timestamp)</text>"
      ],
      "text/plain": [
       "<IPython.core.display.HTML object>"
      ]
     },
     "metadata": {},
     "output_type": "display_data"
    },
    {
     "name": "stdout",
     "output_type": "stream",
     "text": [
      "All the night variables are:  Index(['HenID', 'night_level', 'night_Max_duration_zones',\n",
      "       'night_distribution_entropy', 'night_Total_number_transition', 'level',\n",
      "       'PenID', 'CLASS', 'R-Pen', 'InitialStartDate', '29-09 weight',\n",
      "       '10-12 juin weight', 'weight 23-11-2020', 'weight 04-01-2021',\n",
      "       'weight 01-02-21', 'weight 12-04-21', 'Treatment'],\n",
      "      dtype='object')\n",
      "['night_level']\n",
      "-------------- Lets remove dates of tags when they were not giving deviceupdate regularly\n"
     ]
    },
    {
     "data": {
      "text/html": [
       "<text style=color:black>By removing the unwanted days we passed from 516 to 516 timestamp (losing </text> <text style=color:red>0</text> <text style=color:black> timestamp)</text>"
      ],
      "text/plain": [
       "<IPython.core.display.HTML object>"
      ]
     },
     "metadata": {},
     "output_type": "display_data"
    },
    {
     "name": "stdout",
     "output_type": "stream",
     "text": [
      "-------------- Lets remove dates of tags when they were having more or equal than 10 times LFCOUNTER=0 a day\n"
     ]
    },
    {
     "data": {
      "text/html": [
       "<text style=color:black>By removing the unwanted days we passed from 516 to 514 timestamp (losing </text> <text style=color:red>2</text> <text style=color:black> timestamp)</text>"
      ],
      "text/plain": [
       "<IPython.core.display.HTML object>"
      ]
     },
     "metadata": {},
     "output_type": "display_data"
    },
    {
     "name": "stdout",
     "output_type": "stream",
     "text": [
      "-------------- Lets remove the 30.09.2020 for the tags taht still had no transition from before the light went on \n"
     ]
    },
    {
     "data": {
      "text/html": [
       "<text style=color:black>By removing the unwanted days we passed from 514 to 514 timestamp (losing </text> <text style=color:red>0</text> <text style=color:black> timestamp)</text>"
      ],
      "text/plain": [
       "<IPython.core.display.HTML object>"
      ]
     },
     "metadata": {},
     "output_type": "display_data"
    },
    {
     "name": "stdout",
     "output_type": "stream",
     "text": [
      "save\n"
     ]
    },
    {
     "name": "stderr",
     "output_type": "stream",
     "text": [
      "\r",
      " 38%|███████████████████████████████▏                                                   | 3/8 [10:21<17:07, 205.41s/it]"
     ]
    },
    {
     "name": "stdout",
     "output_type": "stream",
     "text": [
      "Total running time: 3.54 mn\n",
      "(514, 124)\n"
     ]
    },
    {
     "name": "stderr",
     "output_type": "stream",
     "text": [
      "C:\\Users\\camil\\Desktop\\animals_code\\PhD\\UTILS.py:3940: SettingWithCopyWarning: \n",
      "A value is trying to be set on a copy of a slice from a DataFrame\n",
      "\n",
      "See the caveats in the documentation: https://pandas.pydata.org/pandas-docs/stable/user_guide/indexing.html#returning-a-view-versus-a-copy\n",
      "  df.sort_values([timestamp_name], inplace=True)\n",
      "C:\\Users\\camil\\Desktop\\animals_code\\PhD\\UTILS.py:3942: SettingWithCopyWarning: \n",
      "A value is trying to be set on a copy of a slice from a DataFrame.\n",
      "Try using .loc[row_indexer,col_indexer] = value instead\n",
      "\n",
      "See the caveats in the documentation: https://pandas.pydata.org/pandas-docs/stable/user_guide/indexing.html#returning-a-view-versus-a-copy\n",
      "  df[timestamp_name] = df[timestamp_name].map(lambda x: dt.datetime(x.year,x.month,x.day,x.hour,x.minute, x.second))\n"
     ]
    },
    {
     "name": "stdout",
     "output_type": "stream",
     "text": [
      "----------------- Create time serie\n",
      "in this time series there is 21 hens\n",
      "The initial starting date in over all is: 2020-10-27 00:36:34, and the ending date will be: 2020-11-22 19:47:00\n",
      "But note that birds may have different ending and starting date which should be taken into account when computing variables\n",
      "and after ending the last day at midnight : 2020-10-27 00:36:34, and the ending date will be: 2020-11-22 23:59:59\n",
      "Total running time: 0.46 mn\n",
      "your time series has 1 seconds between two timestamps\n",
      "----------------- main night zone and nbr of transitions over night....\n",
      "----------------- total duration per Zone in seconds....\n",
      "----------------- first timestamp in each zone per day....\n",
      "----------------- number of Zone (excluding nan)....\n",
      "----------------- compute some variables based on a list of zones over a day....\n",
      "----------------NESTBOX\n"
     ]
    },
    {
     "name": "stderr",
     "output_type": "stream",
     "text": [
      "\n",
      "  0%|                                                                                           | 0/21 [00:00<?, ?it/s]\u001b[A\n",
      " 10%|███████▉                                                                           | 2/21 [00:00<00:01, 12.85it/s]\u001b[A\n",
      " 14%|███████████▊                                                                       | 3/21 [00:00<00:01, 11.07it/s]\u001b[A\n",
      " 19%|███████████████▊                                                                   | 4/21 [00:00<00:01, 10.18it/s]\u001b[A\n",
      " 24%|███████████████████▊                                                               | 5/21 [00:00<00:03,  5.33it/s]\u001b[A\n",
      " 38%|███████████████████████████████▌                                                   | 8/21 [00:00<00:01,  6.85it/s]\u001b[A\n",
      " 43%|███████████████████████████████████▌                                               | 9/21 [00:01<00:01,  7.44it/s]\u001b[A\n",
      " 57%|██████████████████████████████████████████████▊                                   | 12/21 [00:01<00:00,  9.45it/s]\u001b[A\n",
      " 67%|██████████████████████████████████████████████████████▋                           | 14/21 [00:01<00:00, 10.69it/s]\u001b[A\n",
      " 76%|██████████████████████████████████████████████████████████████▍                   | 16/21 [00:01<00:00,  9.57it/s]\u001b[A\n",
      " 86%|██████████████████████████████████████████████████████████████████████▎           | 18/21 [00:01<00:00,  9.83it/s]\u001b[A\n",
      "100%|██████████████████████████████████████████████████████████████████████████████████| 21/21 [00:01<00:00, 10.86it/s]\u001b[A\n",
      "C:\\Users\\camil\\anaconda3\\lib\\site-packages\\numpy\\lib\\nanfunctions.py:1366: RuntimeWarning: Mean of empty slice\n",
      "  return np.nanmean(a, axis, out=out, keepdims=keepdims)\n"
     ]
    },
    {
     "name": "stdout",
     "output_type": "stream",
     "text": [
      "------------ add hen basics info\n",
      "From the focalBirdinfo, you have 160 ative tags\n",
      "(561, 110)\n",
      "(536, 112)\n",
      "-------------- Lets remove unwanted dates at PENS level\n"
     ]
    },
    {
     "data": {
      "text/html": [
       "<text style=color:black>By removing the unwanted days we passed from 536 to 536 timestamp (losing </text> <text style=color:red>0</text> <text style=color:black> timestamp)</text>"
      ],
      "text/plain": [
       "<IPython.core.display.HTML object>"
      ]
     },
     "metadata": {},
     "output_type": "display_data"
    },
    {
     "name": "stdout",
     "output_type": "stream",
     "text": [
      "All the night variables are:  Index(['HenID', 'night_level', 'night_Max_duration_zones',\n",
      "       'night_distribution_entropy', 'night_Total_number_transition', 'level',\n",
      "       'PenID', 'CLASS', 'R-Pen', 'InitialStartDate', '29-09 weight',\n",
      "       '10-12 juin weight', 'weight 23-11-2020', 'weight 04-01-2021',\n",
      "       'weight 01-02-21', 'weight 12-04-21', 'Treatment'],\n",
      "      dtype='object')\n",
      "['night_level']\n",
      "-------------- Lets remove dates of tags when they were not giving deviceupdate regularly\n"
     ]
    },
    {
     "data": {
      "text/html": [
       "<text style=color:black>By removing the unwanted days we passed from 566 to 566 timestamp (losing </text> <text style=color:red>0</text> <text style=color:black> timestamp)</text>"
      ],
      "text/plain": [
       "<IPython.core.display.HTML object>"
      ]
     },
     "metadata": {},
     "output_type": "display_data"
    },
    {
     "name": "stdout",
     "output_type": "stream",
     "text": [
      "-------------- Lets remove dates of tags when they were having more or equal than 10 times LFCOUNTER=0 a day\n"
     ]
    },
    {
     "data": {
      "text/html": [
       "<text style=color:black>By removing the unwanted days we passed from 566 to 566 timestamp (losing </text> <text style=color:red>0</text> <text style=color:black> timestamp)</text>"
      ],
      "text/plain": [
       "<IPython.core.display.HTML object>"
      ]
     },
     "metadata": {},
     "output_type": "display_data"
    },
    {
     "name": "stdout",
     "output_type": "stream",
     "text": [
      "-------------- Lets remove the 30.09.2020 for the tags taht still had no transition from before the light went on \n"
     ]
    },
    {
     "data": {
      "text/html": [
       "<text style=color:black>By removing the unwanted days we passed from 566 to 566 timestamp (losing </text> <text style=color:red>0</text> <text style=color:black> timestamp)</text>"
      ],
      "text/plain": [
       "<IPython.core.display.HTML object>"
      ]
     },
     "metadata": {},
     "output_type": "display_data"
    },
    {
     "name": "stdout",
     "output_type": "stream",
     "text": [
      "save\n",
      "Total running time: 3.43 mn\n"
     ]
    },
    {
     "name": "stderr",
     "output_type": "stream",
     "text": [
      "\r",
      " 50%|█████████████████████████████████████████▌                                         | 4/8 [13:48<13:42, 205.62s/it]"
     ]
    },
    {
     "name": "stdout",
     "output_type": "stream",
     "text": [
      "(566, 124)\n"
     ]
    },
    {
     "name": "stderr",
     "output_type": "stream",
     "text": [
      "C:\\Users\\camil\\Desktop\\animals_code\\PhD\\UTILS.py:3940: SettingWithCopyWarning: \n",
      "A value is trying to be set on a copy of a slice from a DataFrame\n",
      "\n",
      "See the caveats in the documentation: https://pandas.pydata.org/pandas-docs/stable/user_guide/indexing.html#returning-a-view-versus-a-copy\n",
      "  df.sort_values([timestamp_name], inplace=True)\n",
      "C:\\Users\\camil\\Desktop\\animals_code\\PhD\\UTILS.py:3942: SettingWithCopyWarning: \n",
      "A value is trying to be set on a copy of a slice from a DataFrame.\n",
      "Try using .loc[row_indexer,col_indexer] = value instead\n",
      "\n",
      "See the caveats in the documentation: https://pandas.pydata.org/pandas-docs/stable/user_guide/indexing.html#returning-a-view-versus-a-copy\n",
      "  df[timestamp_name] = df[timestamp_name].map(lambda x: dt.datetime(x.year,x.month,x.day,x.hour,x.minute, x.second))\n"
     ]
    },
    {
     "name": "stdout",
     "output_type": "stream",
     "text": [
      "----------------- Create time serie\n",
      "in this time series there is 20 hens\n",
      "The initial starting date in over all is: 2020-10-27 00:46:06, and the ending date will be: 2020-11-22 18:43:02\n",
      "But note that birds may have different ending and starting date which should be taken into account when computing variables\n",
      "and after ending the last day at midnight : 2020-10-27 00:46:06, and the ending date will be: 2020-11-22 23:59:59\n",
      "Total running time: 0.46 mn\n",
      "your time series has 1 seconds between two timestamps\n",
      "----------------- main night zone and nbr of transitions over night....\n",
      "----------------- total duration per Zone in seconds....\n",
      "----------------- first timestamp in each zone per day....\n",
      "----------------- number of Zone (excluding nan)....\n",
      "----------------- compute some variables based on a list of zones over a day....\n",
      "----------------NESTBOX\n"
     ]
    },
    {
     "name": "stderr",
     "output_type": "stream",
     "text": [
      "\n",
      "  0%|                                                                                           | 0/20 [00:00<?, ?it/s]\u001b[A\n",
      "  5%|████▏                                                                              | 1/20 [00:00<00:03,  5.22it/s]\u001b[A\n",
      " 15%|████████████▍                                                                      | 3/20 [00:00<00:02,  5.87it/s]\u001b[A\n",
      " 20%|████████████████▌                                                                  | 4/20 [00:00<00:03,  4.63it/s]\u001b[A\n",
      " 25%|████████████████████▊                                                              | 5/20 [00:00<00:03,  4.79it/s]\u001b[A\n",
      " 30%|████████████████████████▉                                                          | 6/20 [00:01<00:02,  5.22it/s]\u001b[A\n",
      " 35%|█████████████████████████████                                                      | 7/20 [00:01<00:02,  5.72it/s]\u001b[A\n",
      " 45%|█████████████████████████████████████▎                                             | 9/20 [00:01<00:01,  7.12it/s]\u001b[A\n",
      " 50%|█████████████████████████████████████████                                         | 10/20 [00:01<00:01,  7.09it/s]\u001b[A\n",
      " 55%|█████████████████████████████████████████████                                     | 11/20 [00:01<00:01,  6.99it/s]\u001b[A\n",
      " 65%|█████████████████████████████████████████████████████▎                            | 13/20 [00:01<00:01,  6.82it/s]\u001b[A\n",
      " 75%|█████████████████████████████████████████████████████████████▌                    | 15/20 [00:02<00:00,  7.60it/s]\u001b[A\n",
      " 80%|█████████████████████████████████████████████████████████████████▌                | 16/20 [00:02<00:00,  6.82it/s]\u001b[A\n",
      " 85%|█████████████████████████████████████████████████████████████████████▋            | 17/20 [00:02<00:00,  6.62it/s]\u001b[A\n",
      "100%|██████████████████████████████████████████████████████████████████████████████████| 20/20 [00:02<00:00,  7.25it/s]\u001b[A\n",
      "C:\\Users\\camil\\anaconda3\\lib\\site-packages\\numpy\\lib\\nanfunctions.py:1366: RuntimeWarning: Mean of empty slice\n",
      "  return np.nanmean(a, axis, out=out, keepdims=keepdims)\n"
     ]
    },
    {
     "name": "stdout",
     "output_type": "stream",
     "text": [
      "------------ add hen basics info\n",
      "From the focalBirdinfo, you have 160 ative tags\n",
      "(540, 110)\n",
      "(540, 112)\n",
      "-------------- Lets remove unwanted dates at PENS level\n"
     ]
    },
    {
     "data": {
      "text/html": [
       "<text style=color:black>By removing the unwanted days we passed from 540 to 540 timestamp (losing </text> <text style=color:red>0</text> <text style=color:black> timestamp)</text>"
      ],
      "text/plain": [
       "<IPython.core.display.HTML object>"
      ]
     },
     "metadata": {},
     "output_type": "display_data"
    },
    {
     "name": "stdout",
     "output_type": "stream",
     "text": [
      "All the night variables are:  Index(['HenID', 'night_level', 'night_Max_duration_zones',\n",
      "       'night_distribution_entropy', 'night_Total_number_transition', 'level',\n",
      "       'PenID', 'CLASS', 'R-Pen', 'InitialStartDate', '29-09 weight',\n",
      "       '10-12 juin weight', 'weight 23-11-2020', 'weight 04-01-2021',\n",
      "       'weight 01-02-21', 'weight 12-04-21', 'Treatment'],\n",
      "      dtype='object')\n",
      "['night_level']\n",
      "-------------- Lets remove dates of tags when they were not giving deviceupdate regularly\n"
     ]
    },
    {
     "data": {
      "text/html": [
       "<text style=color:black>By removing the unwanted days we passed from 549 to 549 timestamp (losing </text> <text style=color:red>0</text> <text style=color:black> timestamp)</text>"
      ],
      "text/plain": [
       "<IPython.core.display.HTML object>"
      ]
     },
     "metadata": {},
     "output_type": "display_data"
    },
    {
     "name": "stdout",
     "output_type": "stream",
     "text": [
      "-------------- Lets remove dates of tags when they were having more or equal than 10 times LFCOUNTER=0 a day\n"
     ]
    },
    {
     "data": {
      "text/html": [
       "<text style=color:black>By removing the unwanted days we passed from 549 to 549 timestamp (losing </text> <text style=color:red>0</text> <text style=color:black> timestamp)</text>"
      ],
      "text/plain": [
       "<IPython.core.display.HTML object>"
      ]
     },
     "metadata": {},
     "output_type": "display_data"
    },
    {
     "name": "stdout",
     "output_type": "stream",
     "text": [
      "-------------- Lets remove the 30.09.2020 for the tags taht still had no transition from before the light went on \n"
     ]
    },
    {
     "data": {
      "text/html": [
       "<text style=color:black>By removing the unwanted days we passed from 549 to 549 timestamp (losing </text> <text style=color:red>0</text> <text style=color:black> timestamp)</text>"
      ],
      "text/plain": [
       "<IPython.core.display.HTML object>"
      ]
     },
     "metadata": {},
     "output_type": "display_data"
    },
    {
     "name": "stdout",
     "output_type": "stream",
     "text": [
      "save\n"
     ]
    },
    {
     "name": "stderr",
     "output_type": "stream",
     "text": [
      "\r",
      " 62%|███████████████████████████████████████████████████▉                               | 5/8 [17:11<10:15, 205.03s/it]"
     ]
    },
    {
     "name": "stdout",
     "output_type": "stream",
     "text": [
      "Total running time: 3.39 mn\n",
      "(549, 124)\n"
     ]
    },
    {
     "name": "stderr",
     "output_type": "stream",
     "text": [
      "C:\\Users\\camil\\Desktop\\animals_code\\PhD\\UTILS.py:3940: SettingWithCopyWarning: \n",
      "A value is trying to be set on a copy of a slice from a DataFrame\n",
      "\n",
      "See the caveats in the documentation: https://pandas.pydata.org/pandas-docs/stable/user_guide/indexing.html#returning-a-view-versus-a-copy\n",
      "  df.sort_values([timestamp_name], inplace=True)\n",
      "C:\\Users\\camil\\Desktop\\animals_code\\PhD\\UTILS.py:3942: SettingWithCopyWarning: \n",
      "A value is trying to be set on a copy of a slice from a DataFrame.\n",
      "Try using .loc[row_indexer,col_indexer] = value instead\n",
      "\n",
      "See the caveats in the documentation: https://pandas.pydata.org/pandas-docs/stable/user_guide/indexing.html#returning-a-view-versus-a-copy\n",
      "  df[timestamp_name] = df[timestamp_name].map(lambda x: dt.datetime(x.year,x.month,x.day,x.hour,x.minute, x.second))\n"
     ]
    },
    {
     "name": "stdout",
     "output_type": "stream",
     "text": [
      "----------------- Create time serie\n",
      "in this time series there is 20 hens\n",
      "The initial starting date in over all is: 2020-10-27 02:07:16, and the ending date will be: 2020-11-22 17:06:27\n",
      "But note that birds may have different ending and starting date which should be taken into account when computing variables\n",
      "and after ending the last day at midnight : 2020-10-27 02:07:16, and the ending date will be: 2020-11-22 23:59:59\n",
      "Total running time: 0.46 mn\n",
      "your time series has 1 seconds between two timestamps\n",
      "----------------- main night zone and nbr of transitions over night....\n",
      "----------------- total duration per Zone in seconds....\n",
      "----------------- first timestamp in each zone per day....\n",
      "----------------- number of Zone (excluding nan)....\n",
      "----------------- compute some variables based on a list of zones over a day....\n",
      "----------------NESTBOX\n"
     ]
    },
    {
     "name": "stderr",
     "output_type": "stream",
     "text": [
      "\n",
      "  0%|                                                                                           | 0/20 [00:00<?, ?it/s]\u001b[A\n",
      "  5%|████▏                                                                              | 1/20 [00:00<00:04,  4.32it/s]\u001b[A\n",
      " 10%|████████▎                                                                          | 2/20 [00:00<00:03,  4.99it/s]\u001b[A\n",
      " 15%|████████████▍                                                                      | 3/20 [00:00<00:02,  5.81it/s]\u001b[A\n",
      " 20%|████████████████▌                                                                  | 4/20 [00:00<00:02,  5.86it/s]\u001b[A\n",
      " 25%|████████████████████▊                                                              | 5/20 [00:00<00:02,  5.95it/s]\u001b[A\n",
      " 30%|████████████████████████▉                                                          | 6/20 [00:00<00:02,  6.75it/s]\u001b[A\n",
      " 40%|█████████████████████████████████▏                                                 | 8/20 [00:01<00:01,  7.58it/s]\u001b[A\n",
      " 45%|█████████████████████████████████████▎                                             | 9/20 [00:01<00:01,  7.81it/s]\u001b[A\n",
      " 50%|█████████████████████████████████████████                                         | 10/20 [00:01<00:01,  7.12it/s]\u001b[A\n",
      " 55%|█████████████████████████████████████████████                                     | 11/20 [00:01<00:02,  4.38it/s]\u001b[A\n",
      " 65%|█████████████████████████████████████████████████████▎                            | 13/20 [00:02<00:01,  5.26it/s]\u001b[A\n",
      " 75%|█████████████████████████████████████████████████████████████▌                    | 15/20 [00:02<00:00,  5.54it/s]\u001b[A\n",
      " 80%|█████████████████████████████████████████████████████████████████▌                | 16/20 [00:02<00:00,  6.14it/s]\u001b[A\n",
      " 85%|█████████████████████████████████████████████████████████████████████▋            | 17/20 [00:02<00:00,  5.98it/s]\u001b[A\n",
      " 90%|█████████████████████████████████████████████████████████████████████████▊        | 18/20 [00:02<00:00,  6.16it/s]\u001b[A\n",
      "100%|██████████████████████████████████████████████████████████████████████████████████| 20/20 [00:02<00:00,  6.81it/s]\u001b[A\n",
      "C:\\Users\\camil\\anaconda3\\lib\\site-packages\\numpy\\lib\\nanfunctions.py:1366: RuntimeWarning: Mean of empty slice\n",
      "  return np.nanmean(a, axis, out=out, keepdims=keepdims)\n"
     ]
    },
    {
     "name": "stdout",
     "output_type": "stream",
     "text": [
      "------------ add hen basics info\n",
      "From the focalBirdinfo, you have 160 ative tags\n",
      "(540, 110)\n",
      "(537, 112)\n",
      "-------------- Lets remove unwanted dates at PENS level\n"
     ]
    },
    {
     "data": {
      "text/html": [
       "<text style=color:black>By removing the unwanted days we passed from 537 to 537 timestamp (losing </text> <text style=color:red>0</text> <text style=color:black> timestamp)</text>"
      ],
      "text/plain": [
       "<IPython.core.display.HTML object>"
      ]
     },
     "metadata": {},
     "output_type": "display_data"
    },
    {
     "name": "stdout",
     "output_type": "stream",
     "text": [
      "All the night variables are:  Index(['HenID', 'night_level', 'night_Max_duration_zones',\n",
      "       'night_distribution_entropy', 'night_Total_number_transition', 'level',\n",
      "       'PenID', 'CLASS', 'R-Pen', 'InitialStartDate', '29-09 weight',\n",
      "       '10-12 juin weight', 'weight 23-11-2020', 'weight 04-01-2021',\n",
      "       'weight 01-02-21', 'weight 12-04-21', 'Treatment'],\n",
      "      dtype='object')\n",
      "['night_level']\n",
      "-------------- Lets remove dates of tags when they were not giving deviceupdate regularly\n"
     ]
    },
    {
     "data": {
      "text/html": [
       "<text style=color:black>By removing the unwanted days we passed from 549 to 547 timestamp (losing </text> <text style=color:red>2</text> <text style=color:black> timestamp)</text>"
      ],
      "text/plain": [
       "<IPython.core.display.HTML object>"
      ]
     },
     "metadata": {},
     "output_type": "display_data"
    },
    {
     "name": "stdout",
     "output_type": "stream",
     "text": [
      "-------------- Lets remove dates of tags when they were having more or equal than 10 times LFCOUNTER=0 a day\n"
     ]
    },
    {
     "data": {
      "text/html": [
       "<text style=color:black>By removing the unwanted days we passed from 547 to 547 timestamp (losing </text> <text style=color:red>0</text> <text style=color:black> timestamp)</text>"
      ],
      "text/plain": [
       "<IPython.core.display.HTML object>"
      ]
     },
     "metadata": {},
     "output_type": "display_data"
    },
    {
     "name": "stdout",
     "output_type": "stream",
     "text": [
      "-------------- Lets remove the 30.09.2020 for the tags taht still had no transition from before the light went on \n"
     ]
    },
    {
     "data": {
      "text/html": [
       "<text style=color:black>By removing the unwanted days we passed from 547 to 547 timestamp (losing </text> <text style=color:red>0</text> <text style=color:black> timestamp)</text>"
      ],
      "text/plain": [
       "<IPython.core.display.HTML object>"
      ]
     },
     "metadata": {},
     "output_type": "display_data"
    },
    {
     "name": "stdout",
     "output_type": "stream",
     "text": [
      "save\n",
      "Total running time: 3.35 mn\n"
     ]
    },
    {
     "name": "stderr",
     "output_type": "stream",
     "text": [
      "\r",
      " 75%|██████████████████████████████████████████████████████████████▎                    | 6/8 [20:33<06:48, 204.01s/it]"
     ]
    },
    {
     "name": "stdout",
     "output_type": "stream",
     "text": [
      "(547, 124)\n"
     ]
    },
    {
     "name": "stderr",
     "output_type": "stream",
     "text": [
      "C:\\Users\\camil\\Desktop\\animals_code\\PhD\\UTILS.py:3940: SettingWithCopyWarning: \n",
      "A value is trying to be set on a copy of a slice from a DataFrame\n",
      "\n",
      "See the caveats in the documentation: https://pandas.pydata.org/pandas-docs/stable/user_guide/indexing.html#returning-a-view-versus-a-copy\n",
      "  df.sort_values([timestamp_name], inplace=True)\n",
      "C:\\Users\\camil\\Desktop\\animals_code\\PhD\\UTILS.py:3942: SettingWithCopyWarning: \n",
      "A value is trying to be set on a copy of a slice from a DataFrame.\n",
      "Try using .loc[row_indexer,col_indexer] = value instead\n",
      "\n",
      "See the caveats in the documentation: https://pandas.pydata.org/pandas-docs/stable/user_guide/indexing.html#returning-a-view-versus-a-copy\n",
      "  df[timestamp_name] = df[timestamp_name].map(lambda x: dt.datetime(x.year,x.month,x.day,x.hour,x.minute, x.second))\n"
     ]
    },
    {
     "name": "stdout",
     "output_type": "stream",
     "text": [
      "----------------- Create time serie\n",
      "in this time series there is 20 hens\n",
      "The initial starting date in over all is: 2020-10-27 02:13:34, and the ending date will be: 2020-11-22 21:04:21\n",
      "But note that birds may have different ending and starting date which should be taken into account when computing variables\n",
      "and after ending the last day at midnight : 2020-10-27 02:13:34, and the ending date will be: 2020-11-22 23:59:59\n",
      "Total running time: 0.47 mn\n",
      "your time series has 1 seconds between two timestamps\n",
      "----------------- main night zone and nbr of transitions over night....\n",
      "----------------- total duration per Zone in seconds....\n",
      "----------------- first timestamp in each zone per day....\n",
      "----------------- number of Zone (excluding nan)....\n",
      "----------------- compute some variables based on a list of zones over a day....\n",
      "----------------NESTBOX\n"
     ]
    },
    {
     "name": "stderr",
     "output_type": "stream",
     "text": [
      "\n",
      "  0%|                                                                                           | 0/20 [00:00<?, ?it/s]\u001b[A\n",
      " 10%|████████▎                                                                          | 2/20 [00:00<00:01, 15.19it/s]\u001b[A\n",
      " 20%|████████████████▌                                                                  | 4/20 [00:00<00:01, 13.13it/s]\u001b[A\n",
      " 30%|████████████████████████▉                                                          | 6/20 [00:00<00:01, 13.83it/s]\u001b[A\n",
      " 40%|█████████████████████████████████▏                                                 | 8/20 [00:00<00:00, 12.97it/s]\u001b[A\n",
      " 50%|█████████████████████████████████████████                                         | 10/20 [00:00<00:00, 12.34it/s]\u001b[A\n",
      " 60%|█████████████████████████████████████████████████▏                                | 12/20 [00:01<00:00,  9.64it/s]\u001b[A\n",
      " 65%|█████████████████████████████████████████████████████▎                            | 13/20 [00:01<00:00,  8.62it/s]\u001b[A\n",
      " 75%|█████████████████████████████████████████████████████████████▌                    | 15/20 [00:01<00:00, 10.27it/s]\u001b[A\n",
      " 85%|█████████████████████████████████████████████████████████████████████▋            | 17/20 [00:01<00:00,  8.68it/s]\u001b[A\n",
      "100%|██████████████████████████████████████████████████████████████████████████████████| 20/20 [00:01<00:00, 10.58it/s]\u001b[A\n"
     ]
    },
    {
     "name": "stdout",
     "output_type": "stream",
     "text": [
      "------------ add hen basics info\n",
      "From the focalBirdinfo, you have 160 ative tags\n",
      "(540, 110)\n",
      "(540, 112)\n",
      "-------------- Lets remove unwanted dates at PENS level\n"
     ]
    },
    {
     "data": {
      "text/html": [
       "<text style=color:black>By removing the unwanted days we passed from 540 to 540 timestamp (losing </text> <text style=color:red>0</text> <text style=color:black> timestamp)</text>"
      ],
      "text/plain": [
       "<IPython.core.display.HTML object>"
      ]
     },
     "metadata": {},
     "output_type": "display_data"
    },
    {
     "name": "stdout",
     "output_type": "stream",
     "text": [
      "All the night variables are:  Index(['HenID', 'night_level', 'night_Max_duration_zones',\n",
      "       'night_distribution_entropy', 'night_Total_number_transition', 'level',\n",
      "       'PenID', 'CLASS', 'R-Pen', 'InitialStartDate', '29-09 weight',\n",
      "       '10-12 juin weight', 'weight 23-11-2020', 'weight 04-01-2021',\n",
      "       'weight 01-02-21', 'weight 12-04-21', 'Treatment'],\n",
      "      dtype='object')\n",
      "['night_level']\n",
      "-------------- Lets remove dates of tags when they were not giving deviceupdate regularly\n"
     ]
    },
    {
     "data": {
      "text/html": [
       "<text style=color:black>By removing the unwanted days we passed from 544 to 544 timestamp (losing </text> <text style=color:red>0</text> <text style=color:black> timestamp)</text>"
      ],
      "text/plain": [
       "<IPython.core.display.HTML object>"
      ]
     },
     "metadata": {},
     "output_type": "display_data"
    },
    {
     "name": "stdout",
     "output_type": "stream",
     "text": [
      "-------------- Lets remove dates of tags when they were having more or equal than 10 times LFCOUNTER=0 a day\n"
     ]
    },
    {
     "data": {
      "text/html": [
       "<text style=color:black>By removing the unwanted days we passed from 544 to 544 timestamp (losing </text> <text style=color:red>0</text> <text style=color:black> timestamp)</text>"
      ],
      "text/plain": [
       "<IPython.core.display.HTML object>"
      ]
     },
     "metadata": {},
     "output_type": "display_data"
    },
    {
     "name": "stdout",
     "output_type": "stream",
     "text": [
      "-------------- Lets remove the 30.09.2020 for the tags taht still had no transition from before the light went on \n"
     ]
    },
    {
     "data": {
      "text/html": [
       "<text style=color:black>By removing the unwanted days we passed from 544 to 544 timestamp (losing </text> <text style=color:red>0</text> <text style=color:black> timestamp)</text>"
      ],
      "text/plain": [
       "<IPython.core.display.HTML object>"
      ]
     },
     "metadata": {},
     "output_type": "display_data"
    },
    {
     "name": "stdout",
     "output_type": "stream",
     "text": [
      "save\n"
     ]
    },
    {
     "name": "stderr",
     "output_type": "stream",
     "text": [
      "\r",
      " 88%|████████████████████████████████████████████████████████████████████████▋          | 7/8 [23:55<03:23, 203.47s/it]"
     ]
    },
    {
     "name": "stdout",
     "output_type": "stream",
     "text": [
      "Total running time: 3.36 mn\n",
      "(544, 124)\n"
     ]
    },
    {
     "name": "stderr",
     "output_type": "stream",
     "text": [
      "C:\\Users\\camil\\Desktop\\animals_code\\PhD\\UTILS.py:3940: SettingWithCopyWarning: \n",
      "A value is trying to be set on a copy of a slice from a DataFrame\n",
      "\n",
      "See the caveats in the documentation: https://pandas.pydata.org/pandas-docs/stable/user_guide/indexing.html#returning-a-view-versus-a-copy\n",
      "  df.sort_values([timestamp_name], inplace=True)\n",
      "C:\\Users\\camil\\Desktop\\animals_code\\PhD\\UTILS.py:3942: SettingWithCopyWarning: \n",
      "A value is trying to be set on a copy of a slice from a DataFrame.\n",
      "Try using .loc[row_indexer,col_indexer] = value instead\n",
      "\n",
      "See the caveats in the documentation: https://pandas.pydata.org/pandas-docs/stable/user_guide/indexing.html#returning-a-view-versus-a-copy\n",
      "  df[timestamp_name] = df[timestamp_name].map(lambda x: dt.datetime(x.year,x.month,x.day,x.hour,x.minute, x.second))\n"
     ]
    },
    {
     "name": "stdout",
     "output_type": "stream",
     "text": [
      "----------------- Create time serie\n",
      "in this time series there is 20 hens\n",
      "The initial starting date in over all is: 2020-10-27 04:29:01, and the ending date will be: 2020-11-22 17:09:48\n",
      "But note that birds may have different ending and starting date which should be taken into account when computing variables\n",
      "and after ending the last day at midnight : 2020-10-27 04:29:01, and the ending date will be: 2020-11-22 23:59:59\n",
      "Total running time: 0.46 mn\n",
      "your time series has 1 seconds between two timestamps\n",
      "----------------- main night zone and nbr of transitions over night....\n",
      "----------------- total duration per Zone in seconds....\n",
      "----------------- first timestamp in each zone per day....\n",
      "----------------- number of Zone (excluding nan)....\n",
      "----------------- compute some variables based on a list of zones over a day....\n",
      "----------------NESTBOX\n"
     ]
    },
    {
     "name": "stderr",
     "output_type": "stream",
     "text": [
      "\n",
      "  0%|                                                                                           | 0/20 [00:00<?, ?it/s]\u001b[A\n",
      " 10%|████████▎                                                                          | 2/20 [00:00<00:01, 11.94it/s]\u001b[A\n",
      " 20%|████████████████▌                                                                  | 4/20 [00:00<00:01, 12.64it/s]\u001b[A\n",
      " 30%|████████████████████████▉                                                          | 6/20 [00:00<00:01, 11.97it/s]\u001b[A\n",
      " 35%|█████████████████████████████                                                      | 7/20 [00:00<00:01, 11.20it/s]\u001b[A\n",
      " 40%|█████████████████████████████████▏                                                 | 8/20 [00:00<00:01,  7.77it/s]\u001b[A\n",
      " 50%|█████████████████████████████████████████                                         | 10/20 [00:00<00:01,  8.96it/s]\u001b[A\n",
      " 55%|█████████████████████████████████████████████                                     | 11/20 [00:01<00:01,  8.82it/s]\u001b[A\n",
      " 70%|█████████████████████████████████████████████████████████▍                        | 14/20 [00:01<00:00, 10.08it/s]\u001b[A\n",
      " 80%|█████████████████████████████████████████████████████████████████▌                | 16/20 [00:01<00:00, 10.33it/s]\u001b[A\n",
      " 90%|█████████████████████████████████████████████████████████████████████████▊        | 18/20 [00:01<00:00,  9.01it/s]\u001b[A\n",
      "100%|██████████████████████████████████████████████████████████████████████████████████| 20/20 [00:01<00:00, 10.11it/s]\u001b[A\n",
      "C:\\Users\\camil\\anaconda3\\lib\\site-packages\\numpy\\lib\\nanfunctions.py:1366: RuntimeWarning: Mean of empty slice\n",
      "  return np.nanmean(a, axis, out=out, keepdims=keepdims)\n"
     ]
    },
    {
     "name": "stdout",
     "output_type": "stream",
     "text": [
      "------------ add hen basics info\n",
      "From the focalBirdinfo, you have 160 ative tags\n",
      "(540, 110)\n",
      "(540, 112)\n",
      "-------------- Lets remove unwanted dates at PENS level\n"
     ]
    },
    {
     "data": {
      "text/html": [
       "<text style=color:black>By removing the unwanted days we passed from 540 to 540 timestamp (losing </text> <text style=color:red>0</text> <text style=color:black> timestamp)</text>"
      ],
      "text/plain": [
       "<IPython.core.display.HTML object>"
      ]
     },
     "metadata": {},
     "output_type": "display_data"
    },
    {
     "name": "stdout",
     "output_type": "stream",
     "text": [
      "All the night variables are:  Index(['HenID', 'night_level', 'night_Max_duration_zones',\n",
      "       'night_distribution_entropy', 'night_Total_number_transition', 'level',\n",
      "       'PenID', 'CLASS', 'R-Pen', 'InitialStartDate', '29-09 weight',\n",
      "       '10-12 juin weight', 'weight 23-11-2020', 'weight 04-01-2021',\n",
      "       'weight 01-02-21', 'weight 12-04-21', 'Treatment'],\n",
      "      dtype='object')\n",
      "['night_level']\n",
      "-------------- Lets remove dates of tags when they were not giving deviceupdate regularly\n"
     ]
    },
    {
     "data": {
      "text/html": [
       "<text style=color:black>By removing the unwanted days we passed from 542 to 542 timestamp (losing </text> <text style=color:red>0</text> <text style=color:black> timestamp)</text>"
      ],
      "text/plain": [
       "<IPython.core.display.HTML object>"
      ]
     },
     "metadata": {},
     "output_type": "display_data"
    },
    {
     "name": "stdout",
     "output_type": "stream",
     "text": [
      "-------------- Lets remove dates of tags when they were having more or equal than 10 times LFCOUNTER=0 a day\n"
     ]
    },
    {
     "data": {
      "text/html": [
       "<text style=color:black>By removing the unwanted days we passed from 542 to 542 timestamp (losing </text> <text style=color:red>0</text> <text style=color:black> timestamp)</text>"
      ],
      "text/plain": [
       "<IPython.core.display.HTML object>"
      ]
     },
     "metadata": {},
     "output_type": "display_data"
    },
    {
     "name": "stdout",
     "output_type": "stream",
     "text": [
      "-------------- Lets remove the 30.09.2020 for the tags taht still had no transition from before the light went on \n"
     ]
    },
    {
     "data": {
      "text/html": [
       "<text style=color:black>By removing the unwanted days we passed from 542 to 542 timestamp (losing </text> <text style=color:red>0</text> <text style=color:black> timestamp)</text>"
      ],
      "text/plain": [
       "<IPython.core.display.HTML object>"
      ]
     },
     "metadata": {},
     "output_type": "display_data"
    },
    {
     "name": "stdout",
     "output_type": "stream",
     "text": [
      "save\n"
     ]
    },
    {
     "name": "stderr",
     "output_type": "stream",
     "text": [
      "100%|███████████████████████████████████████████████████████████████████████████████████| 8/8 [27:34<00:00, 206.76s/it]\n",
      "  0%|                                                                                            | 0/8 [00:00<?, ?it/s]"
     ]
    },
    {
     "name": "stdout",
     "output_type": "stream",
     "text": [
      "Total running time: 3.64 mn\n",
      "(542, 124)\n",
      "Total running time: 27.57 mn\n"
     ]
    },
    {
     "name": "stderr",
     "output_type": "stream",
     "text": [
      "\r",
      " 12%|██████████▌                                                                         | 1/8 [00:03<00:25,  3.58s/it]"
     ]
    },
    {
     "name": "stdout",
     "output_type": "stream",
     "text": [
      "(549, 124)\n"
     ]
    },
    {
     "name": "stderr",
     "output_type": "stream",
     "text": [
      "\r",
      " 25%|█████████████████████                                                               | 2/8 [00:05<00:18,  3.03s/it]"
     ]
    },
    {
     "name": "stdout",
     "output_type": "stream",
     "text": [
      "(542, 124)\n"
     ]
    },
    {
     "name": "stderr",
     "output_type": "stream",
     "text": [
      "\r",
      " 38%|███████████████████████████████▌                                                    | 3/8 [00:08<00:15,  3.01s/it]"
     ]
    },
    {
     "name": "stdout",
     "output_type": "stream",
     "text": [
      "(547, 124)\n"
     ]
    },
    {
     "name": "stderr",
     "output_type": "stream",
     "text": [
      "\r",
      " 50%|██████████████████████████████████████████                                          | 4/8 [00:10<00:10,  2.68s/it]"
     ]
    },
    {
     "name": "stdout",
     "output_type": "stream",
     "text": [
      "(544, 124)\n"
     ]
    },
    {
     "name": "stderr",
     "output_type": "stream",
     "text": [
      "\r",
      " 62%|████████████████████████████████████████████████████▌                               | 5/8 [00:12<00:07,  2.43s/it]"
     ]
    },
    {
     "name": "stdout",
     "output_type": "stream",
     "text": [
      "(548, 123)\n"
     ]
    },
    {
     "name": "stderr",
     "output_type": "stream",
     "text": [
      "\r",
      " 75%|███████████████████████████████████████████████████████████████                     | 6/8 [00:14<00:04,  2.39s/it]"
     ]
    },
    {
     "name": "stdout",
     "output_type": "stream",
     "text": [
      "(447, 124)\n"
     ]
    },
    {
     "name": "stderr",
     "output_type": "stream",
     "text": [
      "\r",
      " 88%|█████████████████████████████████████████████████████████████████████████▌          | 7/8 [00:16<00:02,  2.37s/it]"
     ]
    },
    {
     "name": "stdout",
     "output_type": "stream",
     "text": [
      "(514, 124)\n"
     ]
    },
    {
     "name": "stderr",
     "output_type": "stream",
     "text": [
      "100%|████████████████████████████████████████████████████████████████████████████████████| 8/8 [00:18<00:00,  2.29s/it]"
     ]
    },
    {
     "name": "stdout",
     "output_type": "stream",
     "text": [
      "(566, 124)\n"
     ]
    },
    {
     "name": "stderr",
     "output_type": "stream",
     "text": [
      "\n"
     ]
    },
    {
     "name": "stdout",
     "output_type": "stream",
     "text": [
      "(4257, 124)\n"
     ]
    },
    {
     "data": {
      "text/html": [
       "<div>\n",
       "<style scoped>\n",
       "    .dataframe tbody tr th:only-of-type {\n",
       "        vertical-align: middle;\n",
       "    }\n",
       "\n",
       "    .dataframe tbody tr th {\n",
       "        vertical-align: top;\n",
       "    }\n",
       "\n",
       "    .dataframe thead th {\n",
       "        text-align: right;\n",
       "    }\n",
       "</style>\n",
       "<table border=\"1\" class=\"dataframe\">\n",
       "  <thead>\n",
       "    <tr style=\"text-align: right;\">\n",
       "      <th></th>\n",
       "      <th>HenID</th>\n",
       "      <th>level</th>\n",
       "      <th>duration_1_Zone</th>\n",
       "      <th>duration_2_Zone</th>\n",
       "      <th>duration_3_Zone</th>\n",
       "      <th>duration_4_Zone</th>\n",
       "      <th>duration_5_Zone</th>\n",
       "      <th>verification_daily_total_duration</th>\n",
       "      <th>dur_values</th>\n",
       "      <th>dur_values_normalized</th>\n",
       "      <th>...</th>\n",
       "      <th>list_of_night20_2_temperature</th>\n",
       "      <th>nbr_temperature_nnnan</th>\n",
       "      <th>temperature_night20_2_median</th>\n",
       "      <th>temperature_night20_2_max</th>\n",
       "      <th>temperature_night20_2_var</th>\n",
       "      <th>list_of_MovementCounter_day</th>\n",
       "      <th>len_MovementCounter_day</th>\n",
       "      <th>MovementCounter_day_amount_nnactivity</th>\n",
       "      <th>MovementCounter_day_max</th>\n",
       "      <th>MovementCounter_day_mean</th>\n",
       "    </tr>\n",
       "  </thead>\n",
       "  <tbody>\n",
       "    <tr>\n",
       "      <th>0</th>\n",
       "      <td>hen_131</td>\n",
       "      <td>2020-10-27</td>\n",
       "      <td>2258.0</td>\n",
       "      <td>19862.0</td>\n",
       "      <td>17004.0</td>\n",
       "      <td>3204.0</td>\n",
       "      <td>872.0</td>\n",
       "      <td>43200.0</td>\n",
       "      <td>[2258.0, 19862.0, 17004.0, 3204.0, 872.0]</td>\n",
       "      <td>[0.05226851851851852, 0.4597685185185185, 0.39...</td>\n",
       "      <td>...</td>\n",
       "      <td>[29.0, 29.0, 30.0, 29.0, 29.0, 29.0, 29.0, 30....</td>\n",
       "      <td>36.0</td>\n",
       "      <td>29.0</td>\n",
       "      <td>30.0</td>\n",
       "      <td>0.212191</td>\n",
       "      <td>[41.0, 62.0, 72.0, 71.0, 63.0, 50.0, 36.0, 39....</td>\n",
       "      <td>72.0</td>\n",
       "      <td>0.0</td>\n",
       "      <td>103.0</td>\n",
       "      <td>67.236111</td>\n",
       "    </tr>\n",
       "    <tr>\n",
       "      <th>1</th>\n",
       "      <td>hen_131</td>\n",
       "      <td>2020-10-28</td>\n",
       "      <td>3669.0</td>\n",
       "      <td>19439.0</td>\n",
       "      <td>17185.0</td>\n",
       "      <td>2504.0</td>\n",
       "      <td>403.0</td>\n",
       "      <td>43200.0</td>\n",
       "      <td>[3669.0, 19439.0, 17185.0, 2504.0, 403.0]</td>\n",
       "      <td>[0.08493055555555555, 0.4499768518518519, 0.39...</td>\n",
       "      <td>...</td>\n",
       "      <td>[28.0, 28.0, 28.0, 28.0, 28.0, 29.0, 29.0, 28....</td>\n",
       "      <td>36.0</td>\n",
       "      <td>29.0</td>\n",
       "      <td>29.0</td>\n",
       "      <td>0.212191</td>\n",
       "      <td>[45.0, 78.0, 59.0, 64.0, 52.0, 43.0, 43.0, 55....</td>\n",
       "      <td>72.0</td>\n",
       "      <td>0.0</td>\n",
       "      <td>109.0</td>\n",
       "      <td>69.138889</td>\n",
       "    </tr>\n",
       "    <tr>\n",
       "      <th>2</th>\n",
       "      <td>hen_131</td>\n",
       "      <td>2020-10-29</td>\n",
       "      <td>2741.0</td>\n",
       "      <td>21189.0</td>\n",
       "      <td>15548.0</td>\n",
       "      <td>2727.0</td>\n",
       "      <td>995.0</td>\n",
       "      <td>43200.0</td>\n",
       "      <td>[2741.0, 21189.0, 15548.0, 2727.0, 995.0]</td>\n",
       "      <td>[0.06344907407407407, 0.4904861111111111, 0.35...</td>\n",
       "      <td>...</td>\n",
       "      <td>[29.0, 29.0, 29.0, 29.0, 29.0, 29.0, 29.0, 29....</td>\n",
       "      <td>36.0</td>\n",
       "      <td>29.0</td>\n",
       "      <td>29.0</td>\n",
       "      <td>0.076389</td>\n",
       "      <td>[66.0, 61.0, 59.0, 68.0, 59.0, 73.0, 58.0, 42....</td>\n",
       "      <td>72.0</td>\n",
       "      <td>0.0</td>\n",
       "      <td>108.0</td>\n",
       "      <td>71.847222</td>\n",
       "    </tr>\n",
       "  </tbody>\n",
       "</table>\n",
       "<p>3 rows × 124 columns</p>\n",
       "</div>"
      ],
      "text/plain": [
       "     HenID      level  duration_1_Zone  duration_2_Zone  duration_3_Zone  \\\n",
       "0  hen_131 2020-10-27           2258.0          19862.0          17004.0   \n",
       "1  hen_131 2020-10-28           3669.0          19439.0          17185.0   \n",
       "2  hen_131 2020-10-29           2741.0          21189.0          15548.0   \n",
       "\n",
       "   duration_4_Zone  duration_5_Zone  verification_daily_total_duration  \\\n",
       "0           3204.0            872.0                            43200.0   \n",
       "1           2504.0            403.0                            43200.0   \n",
       "2           2727.0            995.0                            43200.0   \n",
       "\n",
       "                                  dur_values  \\\n",
       "0  [2258.0, 19862.0, 17004.0, 3204.0, 872.0]   \n",
       "1  [3669.0, 19439.0, 17185.0, 2504.0, 403.0]   \n",
       "2  [2741.0, 21189.0, 15548.0, 2727.0, 995.0]   \n",
       "\n",
       "                               dur_values_normalized  ...  \\\n",
       "0  [0.05226851851851852, 0.4597685185185185, 0.39...  ...   \n",
       "1  [0.08493055555555555, 0.4499768518518519, 0.39...  ...   \n",
       "2  [0.06344907407407407, 0.4904861111111111, 0.35...  ...   \n",
       "\n",
       "                       list_of_night20_2_temperature nbr_temperature_nnnan  \\\n",
       "0  [29.0, 29.0, 30.0, 29.0, 29.0, 29.0, 29.0, 30....                  36.0   \n",
       "1  [28.0, 28.0, 28.0, 28.0, 28.0, 29.0, 29.0, 28....                  36.0   \n",
       "2  [29.0, 29.0, 29.0, 29.0, 29.0, 29.0, 29.0, 29....                  36.0   \n",
       "\n",
       "  temperature_night20_2_median temperature_night20_2_max  \\\n",
       "0                         29.0                      30.0   \n",
       "1                         29.0                      29.0   \n",
       "2                         29.0                      29.0   \n",
       "\n",
       "  temperature_night20_2_var  \\\n",
       "0                  0.212191   \n",
       "1                  0.212191   \n",
       "2                  0.076389   \n",
       "\n",
       "                         list_of_MovementCounter_day len_MovementCounter_day  \\\n",
       "0  [41.0, 62.0, 72.0, 71.0, 63.0, 50.0, 36.0, 39....                    72.0   \n",
       "1  [45.0, 78.0, 59.0, 64.0, 52.0, 43.0, 43.0, 55....                    72.0   \n",
       "2  [66.0, 61.0, 59.0, 68.0, 59.0, 73.0, 58.0, 42....                    72.0   \n",
       "\n",
       "  MovementCounter_day_amount_nnactivity MovementCounter_day_max  \\\n",
       "0                                   0.0                   103.0   \n",
       "1                                   0.0                   109.0   \n",
       "2                                   0.0                   108.0   \n",
       "\n",
       "  MovementCounter_day_mean  \n",
       "0                67.236111  \n",
       "1                69.138889  \n",
       "2                71.847222  \n",
       "\n",
       "[3 rows x 124 columns]"
      ]
     },
     "execution_count": 12,
     "metadata": {},
     "output_type": "execute_result"
    }
   ],
   "source": [
    "############## raw dataset\n",
    "#open time series per session and compute the variables for each session (car time series make sence at session level), et en \n",
    "#plus des variables tel que running entropy over the whole session ateach last timestamp of each level make sence only at \n",
    "#session level\n",
    "#once to much data, do this per pen!!! with name=pens!!\n",
    "START_TIME = time.perf_counter()\n",
    "for p in tqdm.tqdm(df['PenID'].unique()):\n",
    "    df_daily = HenDailyVariable_Origins(df[df['PenID']==p], config, name_='RAW_'+name_method+p, timestamp_name='Timestamp',\n",
    "                                       has_cons_equal_zone=True)\n",
    "    print(df_daily.shape)\n",
    "    df_daily.head(3)\n",
    "END_TIME = time.perf_counter()\n",
    "print (\"Total running time: %.2f mn\" %((END_TIME-START_TIME)/60))  \n",
    "\n",
    "#Concatenate all HenVariables csv into one\n",
    "li_paths_var = glob.glob(os.path.join(path_extracted_data, id_run+'_daily__RAW_'+name_method+'*_variables.csv'))\n",
    "li_df = []\n",
    "for path_var in tqdm.tqdm(li_paths_var):\n",
    "    #for being more reproductible, we open the file that was saved from cleaning\n",
    "    df_ = pd.read_csv(path_var, sep=';',parse_dates=['level', 'FirstTimestamp_1_Zone', 'FirstTimestamp_2_Zone', \n",
    "                                                     'FirstTimestamp_3_Zone','FirstTimestamp_4_Zone',\n",
    "                                                     'FirstTimestamp_5_Zone']) \n",
    "    print(df_.shape)\n",
    "    li_df.append(df_)\n",
    "df_daily = pd.concat(li_df)\n",
    "df_daily.to_csv(os.path.join(path_extracted_data, id_run+name_method+'_daily_RAW_ALL_variables.csv'), sep=';', index=False)\n",
    "print(df_daily.shape)\n",
    "df_daily.head(3)"
   ]
  },
  {
   "cell_type": "code",
   "execution_count": 13,
   "metadata": {},
   "outputs": [
    {
     "name": "stderr",
     "output_type": "stream",
     "text": [
      "C:\\Users\\camil\\anaconda3\\lib\\site-packages\\ipykernel\\ipkernel.py:283: DeprecationWarning: `should_run_async` will not call `transform_cell` automatically in the future. Please pass the result to `transformed_cell` argument and any exception that happen during thetransform in `preprocessing_exc_tuple` in IPython 7.17 and above.\n",
      "  and should_run_async(code)\n"
     ]
    },
    {
     "name": "stdout",
     "output_type": "stream",
     "text": [
      "(4257, 125) (4257, 125) (8514, 125)\n",
      "(8514, 125)\n"
     ]
    },
    {
     "data": {
      "text/html": [
       "<div>\n",
       "<style scoped>\n",
       "    .dataframe tbody tr th:only-of-type {\n",
       "        vertical-align: middle;\n",
       "    }\n",
       "\n",
       "    .dataframe tbody tr th {\n",
       "        vertical-align: top;\n",
       "    }\n",
       "\n",
       "    .dataframe thead th {\n",
       "        text-align: right;\n",
       "    }\n",
       "</style>\n",
       "<table border=\"1\" class=\"dataframe\">\n",
       "  <thead>\n",
       "    <tr style=\"text-align: right;\">\n",
       "      <th></th>\n",
       "      <th>HenID</th>\n",
       "      <th>level</th>\n",
       "      <th>duration_1_Zone</th>\n",
       "      <th>duration_2_Zone</th>\n",
       "      <th>duration_3_Zone</th>\n",
       "      <th>duration_4_Zone</th>\n",
       "      <th>duration_5_Zone</th>\n",
       "      <th>verification_daily_total_duration</th>\n",
       "      <th>dur_values</th>\n",
       "      <th>dur_values_normalized</th>\n",
       "      <th>...</th>\n",
       "      <th>nbr_temperature_nnnan</th>\n",
       "      <th>temperature_night20_2_median</th>\n",
       "      <th>temperature_night20_2_max</th>\n",
       "      <th>temperature_night20_2_var</th>\n",
       "      <th>list_of_MovementCounter_day</th>\n",
       "      <th>len_MovementCounter_day</th>\n",
       "      <th>MovementCounter_day_amount_nnactivity</th>\n",
       "      <th>MovementCounter_day_max</th>\n",
       "      <th>MovementCounter_day_mean</th>\n",
       "      <th>type</th>\n",
       "    </tr>\n",
       "  </thead>\n",
       "  <tbody>\n",
       "    <tr>\n",
       "      <th>0</th>\n",
       "      <td>hen_131</td>\n",
       "      <td>2020-10-27</td>\n",
       "      <td>2393.0</td>\n",
       "      <td>20613.0</td>\n",
       "      <td>16026.0</td>\n",
       "      <td>3296.0</td>\n",
       "      <td>872.0</td>\n",
       "      <td>43200.0</td>\n",
       "      <td>[2393.0, 20613.0, 16026.0, 3296.0, 872.0]</td>\n",
       "      <td>[0.055393518518518516, 0.47715277777777776, 0....</td>\n",
       "      <td>...</td>\n",
       "      <td>36.0</td>\n",
       "      <td>29.0</td>\n",
       "      <td>30.0</td>\n",
       "      <td>0.212191</td>\n",
       "      <td>[41.0, 62.0, 72.0, 71.0, 63.0, 50.0, 36.0, 39....</td>\n",
       "      <td>72.0</td>\n",
       "      <td>0.0</td>\n",
       "      <td>103.0</td>\n",
       "      <td>67.236111</td>\n",
       "      <td>cleaning</td>\n",
       "    </tr>\n",
       "    <tr>\n",
       "      <th>1</th>\n",
       "      <td>hen_131</td>\n",
       "      <td>2020-10-28</td>\n",
       "      <td>3482.0</td>\n",
       "      <td>19982.0</td>\n",
       "      <td>16698.0</td>\n",
       "      <td>2635.0</td>\n",
       "      <td>403.0</td>\n",
       "      <td>43200.0</td>\n",
       "      <td>[3482.0, 19982.0, 16698.0, 2635.0, 403.0]</td>\n",
       "      <td>[0.08060185185185186, 0.4625462962962963, 0.38...</td>\n",
       "      <td>...</td>\n",
       "      <td>36.0</td>\n",
       "      <td>29.0</td>\n",
       "      <td>29.0</td>\n",
       "      <td>0.212191</td>\n",
       "      <td>[45.0, 78.0, 59.0, 64.0, 52.0, 43.0, 43.0, 55....</td>\n",
       "      <td>72.0</td>\n",
       "      <td>0.0</td>\n",
       "      <td>109.0</td>\n",
       "      <td>69.138889</td>\n",
       "      <td>cleaning</td>\n",
       "    </tr>\n",
       "    <tr>\n",
       "      <th>2</th>\n",
       "      <td>hen_131</td>\n",
       "      <td>2020-10-29</td>\n",
       "      <td>2768.0</td>\n",
       "      <td>21508.0</td>\n",
       "      <td>15045.0</td>\n",
       "      <td>2791.0</td>\n",
       "      <td>1088.0</td>\n",
       "      <td>43200.0</td>\n",
       "      <td>[2768.0, 21508.0, 15045.0, 2791.0, 1088.0]</td>\n",
       "      <td>[0.06407407407407407, 0.49787037037037035, 0.3...</td>\n",
       "      <td>...</td>\n",
       "      <td>36.0</td>\n",
       "      <td>29.0</td>\n",
       "      <td>29.0</td>\n",
       "      <td>0.076389</td>\n",
       "      <td>[66.0, 61.0, 59.0, 68.0, 59.0, 73.0, 58.0, 42....</td>\n",
       "      <td>72.0</td>\n",
       "      <td>0.0</td>\n",
       "      <td>108.0</td>\n",
       "      <td>71.847222</td>\n",
       "      <td>cleaning</td>\n",
       "    </tr>\n",
       "  </tbody>\n",
       "</table>\n",
       "<p>3 rows × 125 columns</p>\n",
       "</div>"
      ],
      "text/plain": [
       "     HenID      level  duration_1_Zone  duration_2_Zone  duration_3_Zone  \\\n",
       "0  hen_131 2020-10-27           2393.0          20613.0          16026.0   \n",
       "1  hen_131 2020-10-28           3482.0          19982.0          16698.0   \n",
       "2  hen_131 2020-10-29           2768.0          21508.0          15045.0   \n",
       "\n",
       "   duration_4_Zone  duration_5_Zone  verification_daily_total_duration  \\\n",
       "0           3296.0            872.0                            43200.0   \n",
       "1           2635.0            403.0                            43200.0   \n",
       "2           2791.0           1088.0                            43200.0   \n",
       "\n",
       "                                   dur_values  \\\n",
       "0   [2393.0, 20613.0, 16026.0, 3296.0, 872.0]   \n",
       "1   [3482.0, 19982.0, 16698.0, 2635.0, 403.0]   \n",
       "2  [2768.0, 21508.0, 15045.0, 2791.0, 1088.0]   \n",
       "\n",
       "                               dur_values_normalized  ...  \\\n",
       "0  [0.055393518518518516, 0.47715277777777776, 0....  ...   \n",
       "1  [0.08060185185185186, 0.4625462962962963, 0.38...  ...   \n",
       "2  [0.06407407407407407, 0.49787037037037035, 0.3...  ...   \n",
       "\n",
       "  nbr_temperature_nnnan temperature_night20_2_median  \\\n",
       "0                  36.0                         29.0   \n",
       "1                  36.0                         29.0   \n",
       "2                  36.0                         29.0   \n",
       "\n",
       "  temperature_night20_2_max temperature_night20_2_var  \\\n",
       "0                      30.0                  0.212191   \n",
       "1                      29.0                  0.212191   \n",
       "2                      29.0                  0.076389   \n",
       "\n",
       "                         list_of_MovementCounter_day  len_MovementCounter_day  \\\n",
       "0  [41.0, 62.0, 72.0, 71.0, 63.0, 50.0, 36.0, 39....                     72.0   \n",
       "1  [45.0, 78.0, 59.0, 64.0, 52.0, 43.0, 43.0, 55....                     72.0   \n",
       "2  [66.0, 61.0, 59.0, 68.0, 59.0, 73.0, 58.0, 42....                     72.0   \n",
       "\n",
       "  MovementCounter_day_amount_nnactivity MovementCounter_day_max  \\\n",
       "0                                   0.0                   103.0   \n",
       "1                                   0.0                   109.0   \n",
       "2                                   0.0                   108.0   \n",
       "\n",
       "  MovementCounter_day_mean      type  \n",
       "0                67.236111  cleaning  \n",
       "1                69.138889  cleaning  \n",
       "2                71.847222  cleaning  \n",
       "\n",
       "[3 rows x 125 columns]"
      ]
     },
     "execution_count": 13,
     "metadata": {},
     "output_type": "execute_result"
    }
   ],
   "source": [
    "#saving both files into one\n",
    "#for being more reproductible, we open the file that was saved from cleaning\n",
    "df_c = pd.read_csv(os.path.join(path_extracted_data, id_run+name_method+'_daily_CLEANING_ALL_variables.csv'), sep=';', \n",
    "                   parse_dates=['level'], dayfirst=True) \n",
    "df_c['type'] = 'cleaning'\n",
    "df_r = pd.read_csv(os.path.join(path_extracted_data, id_run+name_method+'_daily_RAW_ALL_variables.csv'), sep=';', \n",
    "                   parse_dates=['level'], dayfirst=True) \n",
    "df_r['type'] = 'raw'\n",
    "df_var = pd.concat([df_c,df_r])\n",
    "df_var.to_csv(os.path.join(path_extracted_data_cleaning_rawvscleaned,name_method+'_daily_ALL_variables.csv'), sep=';', \n",
    "              index=False)\n",
    "print(df_r.shape,df_c.shape,df_var.shape)\n",
    "print(df_var.shape)\n",
    "df_var.head(3)"
   ]
  },
  {
   "cell_type": "code",
   "execution_count": 14,
   "metadata": {},
   "outputs": [
    {
     "name": "stderr",
     "output_type": "stream",
     "text": [
      "C:\\Users\\camil\\anaconda3\\lib\\site-packages\\ipykernel\\ipkernel.py:283: DeprecationWarning: `should_run_async` will not call `transform_cell` automatically in the future. Please pass the result to `transformed_cell` argument and any exception that happen during thetransform in `preprocessing_exc_tuple` in IPython 7.17 and above.\n",
      "  and should_run_async(code)\n"
     ]
    },
    {
     "data": {
      "text/plain": [
       "(numpy.datetime64('2020-10-26T00:00:00.000000000'),\n",
       " numpy.datetime64('2020-11-22T00:00:00.000000000'))"
      ]
     },
     "execution_count": 14,
     "metadata": {},
     "output_type": "execute_result"
    }
   ],
   "source": [
    "min(df_var['level'].unique()), max(df_var['level'].unique())"
   ]
  },
  {
   "cell_type": "code",
   "execution_count": 15,
   "metadata": {},
   "outputs": [
    {
     "name": "stdout",
     "output_type": "stream",
     "text": [
      "['HenID', 'level', 'duration_1_Zone', 'duration_2_Zone', 'duration_3_Zone', 'duration_4_Zone', 'duration_5_Zone', 'verification_daily_total_duration', 'dur_values', 'dur_values_normalized', 'FirstTimestamp_1_Zone', 'FirstTimestamp_2_Zone', 'FirstTimestamp_3_Zone', 'FirstTimestamp_4_Zone', 'FirstTimestamp_5_Zone', 'Total_number_zone', 'list_of_durations', 'list_of_zones', 'Max_duration_zones', 'dico_zone_sortedduration', 'Total_number_transition', 'nbr_stays', 'distribution_entropy', 'vertical_travel_distance', 't_DU_missingZone_mvtPerc', 'li_event_chaoticmvt_z_d', 'nbr_stays_3_Zone', 'nbr_stays_2_Zone', 'nbr_stays_4_Zone', 'nbr_stays_5_Zone', 'nbr_stays_1_Zone', 'Max_duration_zone_4', 'down_missingZone_mvtPerc', 'up_missingZone_mvtPerc', 'mean_duration', 'median_duration', 'max_duration', 'min_duration', 'variance_duration', 'percentile_5', 'percentile_15_duration', 'percentile_85_duration', 'percentile_95_duration', 'median_abs_deviation_duration', 'kurtosis_duration', 'skew_duration', 'stay_longer_60sec', 'stay_longer_60sec_3_Zone', 'stay_longer_60sec_2_Zone', 'stay_longer_60sec_4_Zone', 'stay_longer_60sec_5_Zone', 'stay_longer_60sec_1_Zone', 'dico_z_chaoticmvtMiddleDuration', '0', 'chaoticmvt_Middle1_Zone', 'chaoticmvt_Middle2_Zone', 'chaoticmvt_Middle3_Zone', 'chaoticmvt_Middle4_Zone', 'chaoticmvt_Middle5_Zone', 'chaoticmvt_Middle1_Zone_nbr_180mn', 'chaoticmvt_Middle1_Zone_nbr_900mn', 'chaoticmvt_Middle2_Zone_nbr_180mn', 'chaoticmvt_Middle2_Zone_nbr_900mn', 'chaoticmvt_Middle3_Zone_nbr_180mn', 'chaoticmvt_Middle3_Zone_nbr_900mn', 'chaoticmvt_Middle4_Zone_nbr_180mn', 'chaoticmvt_Middle4_Zone_nbr_900mn', 'chaoticmvt_Middle5_Zone_nbr_180mn', 'chaoticmvt_Middle5_Zone_nbr_900mn', '1_Zone_tuple_ts_dur', '2_Zone_tuple_ts_dur', '3_Zone_tuple_ts_dur', '4_Zone_tuple_ts_dur', '5_Zone_tuple_ts_dur', 'Nestbox_time_of_first_staid_longer_than900sec', 'sucessIntrusion_9', 'BNestboxHour_nbrd', 'B10h_Nestbox_nbrvisit', 'B10h_Nestbox_Longestduration', 'ANestboxHour_nbrd', 'A12h_Nestbox_nbrvisit', 'A12h_Nestbox_Longestduration', 'NBtimefirstvisitlonger900_minus_time1visit', 'list_timestamps', 'list_timestamps_seondsOfTheDay', 'activity_25percentile_sec', 'activity_25percentile_time', 'activity_50percentile_sec', 'activity_50percentile_time', 'activity_5percentile_sec', 'activity_5percentile_time', 'activity_95percentile_sec', 'activity_95percentile_time', 'duration_last-firsttransition_mn', 'in_WG_15mnAfterOpening', 'Max_duration_WG', 'PenID', 'CLASS', 'R-Pen', 'InitialStartDate', '29-09 weight', '10-12 juin weight', 'weight 23-11-2020', 'weight 04-01-2021', 'weight 01-02-21', 'weight 12-04-21', 'Treatment', 'TagID', 'FocalLegringName', 'night_level', 'night_Max_duration_zones', 'night_distribution_entropy', 'night_Total_number_transition', 'date_2remove_weirdLFcounter', 'list_of_night20_2_temperature', 'nbr_temperature_nnnan', 'temperature_night20_2_median', 'temperature_night20_2_max', 'temperature_night20_2_var', 'list_of_MovementCounter_day', 'len_MovementCounter_day', 'MovementCounter_day_amount_nnactivity', 'MovementCounter_day_max', 'MovementCounter_day_mean', 'type']\n"
     ]
    },
    {
     "name": "stderr",
     "output_type": "stream",
     "text": [
      "C:\\Users\\camil\\anaconda3\\lib\\site-packages\\ipykernel\\ipkernel.py:283: DeprecationWarning: `should_run_async` will not call `transform_cell` automatically in the future. Please pass the result to `transformed_cell` argument and any exception that happen during thetransform in `preprocessing_exc_tuple` in IPython 7.17 and above.\n",
      "  and should_run_async(code)\n"
     ]
    }
   ],
   "source": [
    "print(list(df_var.columns))"
   ]
  },
  {
   "cell_type": "code",
   "execution_count": null,
   "metadata": {},
   "outputs": [],
   "source": []
  },
  {
   "cell_type": "code",
   "execution_count": null,
   "metadata": {},
   "outputs": [],
   "source": []
  },
  {
   "cell_type": "code",
   "execution_count": null,
   "metadata": {},
   "outputs": [],
   "source": []
  },
  {
   "cell_type": "code",
   "execution_count": null,
   "metadata": {},
   "outputs": [],
   "source": []
  },
  {
   "cell_type": "code",
   "execution_count": null,
   "metadata": {},
   "outputs": [],
   "source": []
  },
  {
   "cell_type": "code",
   "execution_count": null,
   "metadata": {},
   "outputs": [],
   "source": []
  },
  {
   "cell_type": "code",
   "execution_count": null,
   "metadata": {},
   "outputs": [],
   "source": []
  }
 ],
 "metadata": {
  "kernelspec": {
   "display_name": "Python 3",
   "language": "python",
   "name": "python3"
  },
  "language_info": {
   "codemirror_mode": {
    "name": "ipython",
    "version": 3
   },
   "file_extension": ".py",
   "mimetype": "text/x-python",
   "name": "python",
   "nbconvert_exporter": "python",
   "pygments_lexer": "ipython3",
   "version": "3.8.5"
  }
 },
 "nbformat": 4,
 "nbformat_minor": 2
}
