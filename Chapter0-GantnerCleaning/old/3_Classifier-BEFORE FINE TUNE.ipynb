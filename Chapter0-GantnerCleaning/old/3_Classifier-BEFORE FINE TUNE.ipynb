{
 "cells": [
  {
   "cell_type": "code",
   "execution_count": 1,
   "metadata": {},
   "outputs": [],
   "source": [
    "#basic package\n",
    "import json\n",
    "import tqdm\n",
    "import os\n",
    "import numpy as np\n",
    "import glob\n",
    "import pandas as pd\n",
    "import sys\n",
    "import shutil\n",
    "import time\n",
    "import datetime as dt\n",
    "import itertools\n",
    "import time\n",
    "import re\n",
    "from collections import Counter\n",
    "from collections import defaultdict\n",
    "import operator\n",
    "import math\n",
    "import functools\n",
    "import collections\n",
    "from sklearn.metrics import confusion_matrix\n",
    "from sklearn.utils import shuffle\n",
    "import random\n",
    "\n",
    "#generate random id\n",
    "import uuid\n",
    "\n",
    "#ICC in python\n",
    "import pingouin as pg\n",
    "\n",
    "from sklearn.preprocessing import MinMaxScaler\n",
    "from sklearn.model_selection import train_test_split\n",
    "from sklearn.metrics import classification_report, confusion_matrix, plot_confusion_matrix, cohen_kappa_score\n",
    "from sklearn.ensemble import GradientBoostingClassifier, RandomForestClassifier, AdaBoostClassifier\n",
    "from xgboost import XGBClassifier\n",
    "from sklearn.gaussian_process.kernels import RBF\n",
    "from sklearn.tree import DecisionTreeClassifier\n",
    "from sklearn.gaussian_process import GaussianProcessClassifier\n",
    "from sklearn.neural_network import MLPClassifier\n",
    "from sklearn.neighbors import KNeighborsClassifier\n",
    "from sklearn.svm import SVC\n",
    "from sklearn.gaussian_process import GaussianProcessClassifier\n",
    "from sklearn.gaussian_process.kernels import RBF\n",
    "from sklearn.tree import DecisionTreeClassifier\n",
    "from sklearn.naive_bayes import GaussianNB\n",
    "from sklearn.discriminant_analysis import QuadraticDiscriminantAnalysis\n",
    "\n",
    "from xgboost import plot_importance\n",
    "#plot\n",
    "import matplotlib.pyplot as plt\n",
    "import seaborn as sns"
   ]
  },
  {
   "cell_type": "markdown",
   "metadata": {},
   "source": [
    "#neural net\n",
    "#Initializing the MLPClassifier\n",
    "#the length of tuple denotes the total number of hidden layers in the network.\n",
    "#hidden_layer_sizes : This parameter allows us to set the number of layers and the number of nodes we wish to have in the Neural Network Classifier.\n",
    "#max_iter: It denotes the number of epochs.\n",
    "#activation: The activation function for the hidden layers.\n",
    "#solver: This parameter specifies the algorithm for weight optimization across the nodes.\n",
    "#random_state: The parameter allows to set a seed for reproducing the same results   \n",
    "classifier = MLPClassifier(hidden_layer_sizes=(150,100,50), max_iter=300,activation = 'relu',solver='adam',random_state=1)\n",
    "#Fitting the training data to the network\n",
    "classifier.fit(X_train, Y_train)\n",
    "#Predicting y for X_val\n",
    "y_pred = classifier.predict(X_val)"
   ]
  },
  {
   "cell_type": "code",
   "execution_count": null,
   "metadata": {},
   "outputs": [],
   "source": [
    "#proba next to it!!!!!!!!!!!!\"very good\"\n",
    "X = [[0], [1], [2], [3]]\n",
    "y = [0, 0, 1, 1]\n",
    "neigh = KNeighborsClassifier(n_neighbors=3)\n",
    "neigh.fit(X, y)\n",
    "KNeighborsClassifier(...)\n",
    "print(neigh.predict([[1.1]]))\n",
    "print(neigh.predict_proba([[0.9]]))"
   ]
  },
  {
   "cell_type": "code",
   "execution_count": 2,
   "metadata": {},
   "outputs": [
    {
     "name": "stderr",
     "output_type": "stream",
     "text": [
      "C:\\Users\\camil\\Anaconda3\\lib\\site-packages\\scipy\\sparse\\sparsetools.py:21: DeprecationWarning: `scipy.sparse.sparsetools` is deprecated!\n",
      "scipy.sparse.sparsetools is a private module for scipy.sparse, and should not be used.\n",
      "  _deprecated()\n"
     ]
    }
   ],
   "source": [
    "PACKAGE_PARENT = '../'\n",
    "SCRIPT_DIR = os.path.dirname(os.path.realpath(os.path.join(os.getcwd(), os.path.expanduser('__file__'))))\n",
    "sys.path.append(os.path.normpath(os.path.join(SCRIPT_DIR, PACKAGE_PARENT)))\n",
    "from UTILS import is_WG_open, ConfMat, list_of_zones, res_intodico, all_subsets\n",
    "import config_origins as config"
   ]
  },
  {
   "cell_type": "markdown",
   "metadata": {},
   "source": [
    "# Download Input Data"
   ]
  },
  {
   "cell_type": "code",
   "execution_count": 3,
   "metadata": {},
   "outputs": [],
   "source": [
    "#define parameters\n",
    "path_extracted_data = config.path_extracted_data\n",
    "path_initial_data = config.path_initial_data\n",
    "id_run = config.id_run\n",
    "dico_matching = config.dico_matching\n",
    "dico_garden_opening_hour = config.dico_garden_opening_hour\n",
    "path_extracted_data_cleaning = os.path.join(path_extracted_data,'Cleaning')\n",
    "#path_extracted_data_cleaning = r'D:\\vm_exchange\\PhD_Data\\LogsCleaning'\n",
    "#create a director if not existing\n",
    "if not os.path.exists(path_extracted_data_cleaning):\n",
    "    os.makedirs(path_extracted_data_cleaning)\n",
    "    \n",
    "path__ = os.path.join(path_extracted_data_cleaning,'1secTS')\n",
    "#create a director if not existing\n",
    "if not os.path.exists(path__):\n",
    "    os.makedirs(path__)"
   ]
  },
  {
   "cell_type": "raw",
   "metadata": {},
   "source": [
    "Reading for algo\n",
    "https://stackabuse.com/gradient-boosting-classifiers-in-python-with-scikit-learn/\n",
    "https://www.datasciencecentral.com/profiles/blogs/decision-tree-vs-random-forest-vs-boosted-trees-explained\n",
    "*Log loss: https://datawookie.netlify.app/blog/2015/12/making-sense-of-logarithmic-loss/#:~:text=Log%20Loss%20quantifies%20the%20accuracy,get%20to%20in%20a%20moment."
   ]
  },
  {
   "cell_type": "code",
   "execution_count": 4,
   "metadata": {},
   "outputs": [
    {
     "name": "stdout",
     "output_type": "stream",
     "text": [
      "(3546, 36)\n"
     ]
    },
    {
     "data": {
      "text/html": [
       "<div>\n",
       "<style scoped>\n",
       "    .dataframe tbody tr th:only-of-type {\n",
       "        vertical-align: middle;\n",
       "    }\n",
       "\n",
       "    .dataframe tbody tr th {\n",
       "        vertical-align: top;\n",
       "    }\n",
       "\n",
       "    .dataframe thead th {\n",
       "        text-align: right;\n",
       "    }\n",
       "</style>\n",
       "<table border=\"1\" class=\"dataframe\">\n",
       "  <thead>\n",
       "    <tr style=\"text-align: right;\">\n",
       "      <th></th>\n",
       "      <th>Timestamp</th>\n",
       "      <th>TagID</th>\n",
       "      <th>HenID</th>\n",
       "      <th>Zone</th>\n",
       "      <th>PenID</th>\n",
       "      <th>VideoAnalyse</th>\n",
       "      <th>system</th>\n",
       "      <th>date</th>\n",
       "      <th>type</th>\n",
       "      <th>signalstrength</th>\n",
       "      <th>...</th>\n",
       "      <th>previousZone==NextZone</th>\n",
       "      <th>nextduration</th>\n",
       "      <th>BatchID</th>\n",
       "      <th>zone2match</th>\n",
       "      <th>zone3match</th>\n",
       "      <th>zone4match</th>\n",
       "      <th>ObservedZone</th>\n",
       "      <th>zone3matchexist</th>\n",
       "      <th>next2zone==Zone</th>\n",
       "      <th>previous2zone==Zone</th>\n",
       "    </tr>\n",
       "  </thead>\n",
       "  <tbody>\n",
       "    <tr>\n",
       "      <th>1249</th>\n",
       "      <td>2020-10-16 15:02:51</td>\n",
       "      <td>117</td>\n",
       "      <td>hen_177</td>\n",
       "      <td>3_Zone</td>\n",
       "      <td>10.0</td>\n",
       "      <td>0</td>\n",
       "      <td>10 - 12</td>\n",
       "      <td>2020-10-16</td>\n",
       "      <td>students</td>\n",
       "      <td>5.0</td>\n",
       "      <td>...</td>\n",
       "      <td>True</td>\n",
       "      <td>3.0</td>\n",
       "      <td>NaN</td>\n",
       "      <td>miniZone3</td>\n",
       "      <td>NoOtherZone</td>\n",
       "      <td>NoOtherZone</td>\n",
       "      <td>2_Zone</td>\n",
       "      <td>False</td>\n",
       "      <td>True</td>\n",
       "      <td>False</td>\n",
       "    </tr>\n",
       "    <tr>\n",
       "      <th>2061</th>\n",
       "      <td>2020-10-17 14:29:25</td>\n",
       "      <td>2</td>\n",
       "      <td>hen_40</td>\n",
       "      <td>3_Zone</td>\n",
       "      <td>3.0</td>\n",
       "      <td>1</td>\n",
       "      <td>3 - 5</td>\n",
       "      <td>2020-10-17</td>\n",
       "      <td>students</td>\n",
       "      <td>11.0</td>\n",
       "      <td>...</td>\n",
       "      <td>True</td>\n",
       "      <td>190.0</td>\n",
       "      <td>NaN</td>\n",
       "      <td>miniZone3</td>\n",
       "      <td>NoOtherZone</td>\n",
       "      <td>NoOtherZone</td>\n",
       "      <td>3_Zone</td>\n",
       "      <td>False</td>\n",
       "      <td>True</td>\n",
       "      <td>True</td>\n",
       "    </tr>\n",
       "    <tr>\n",
       "      <th>415</th>\n",
       "      <td>2020-10-19 11:33:06</td>\n",
       "      <td>59</td>\n",
       "      <td>hen_11</td>\n",
       "      <td>3_Zone</td>\n",
       "      <td>5.0</td>\n",
       "      <td>0</td>\n",
       "      <td>3 - 5</td>\n",
       "      <td>2020-10-19</td>\n",
       "      <td>students</td>\n",
       "      <td>11.0</td>\n",
       "      <td>...</td>\n",
       "      <td>True</td>\n",
       "      <td>83.0</td>\n",
       "      <td>NaN</td>\n",
       "      <td>5_Zone</td>\n",
       "      <td>4_Zone</td>\n",
       "      <td>2_Zone</td>\n",
       "      <td>5_Zone</td>\n",
       "      <td>True</td>\n",
       "      <td>True</td>\n",
       "      <td>True</td>\n",
       "    </tr>\n",
       "  </tbody>\n",
       "</table>\n",
       "<p>3 rows × 36 columns</p>\n",
       "</div>"
      ],
      "text/plain": [
       "               Timestamp  TagID    HenID    Zone  PenID  VideoAnalyse  \\\n",
       "1249 2020-10-16 15:02:51    117  hen_177  3_Zone   10.0             0   \n",
       "2061 2020-10-17 14:29:25      2   hen_40  3_Zone    3.0             1   \n",
       "415  2020-10-19 11:33:06     59   hen_11  3_Zone    5.0             0   \n",
       "\n",
       "       system       date      type  signalstrength  ...  \\\n",
       "1249  10 - 12 2020-10-16  students             5.0  ...   \n",
       "2061    3 - 5 2020-10-17  students            11.0  ...   \n",
       "415     3 - 5 2020-10-19  students            11.0  ...   \n",
       "\n",
       "      previousZone==NextZone  nextduration  BatchID zone2match   zone3match  \\\n",
       "1249                    True           3.0      NaN  miniZone3  NoOtherZone   \n",
       "2061                    True         190.0      NaN  miniZone3  NoOtherZone   \n",
       "415                     True          83.0      NaN     5_Zone       4_Zone   \n",
       "\n",
       "       zone4match ObservedZone zone3matchexist next2zone==Zone  \\\n",
       "1249  NoOtherZone       2_Zone           False            True   \n",
       "2061  NoOtherZone       3_Zone           False            True   \n",
       "415        2_Zone       5_Zone            True            True   \n",
       "\n",
       "     previous2zone==Zone  \n",
       "1249               False  \n",
       "2061                True  \n",
       "415                 True  \n",
       "\n",
       "[3 rows x 36 columns]"
      ]
     },
     "execution_count": 4,
     "metadata": {},
     "output_type": "execute_result"
    }
   ],
   "source": [
    "df = pd.read_csv(os.path.join(path_extracted_data, id_run+'InputCleaning.csv'), parse_dates=['Timestamp', 'date'], \n",
    "                 dayfirst=True, sep=';')\n",
    "df = shuffle(df)\n",
    "df = df.rename(columns={c:c.replace('_','') for c in df.columns})\n",
    "df['HenID'] = df['HenID'].map(lambda x: 'hen_'+str(int(x)))\n",
    "print(df.shape)\n",
    "df.head(3)"
   ]
  },
  {
   "cell_type": "code",
   "execution_count": 5,
   "metadata": {},
   "outputs": [
    {
     "data": {
      "text/plain": [
       "5.0     868\n",
       "10.0    652\n",
       "8.0     603\n",
       "3.0     517\n",
       "9.0     373\n",
       "12.0    224\n",
       "4.0     216\n",
       "11.0     93\n",
       "Name: PenID, dtype: int64"
      ]
     },
     "execution_count": 5,
     "metadata": {},
     "output_type": "execute_result"
    }
   ],
   "source": [
    "df['PenID'].value_counts()"
   ]
  },
  {
   "cell_type": "code",
   "execution_count": 6,
   "metadata": {},
   "outputs": [
    {
     "data": {
      "text/plain": [
       "1    2785\n",
       "0     761\n",
       "Name: VideoAnalyse, dtype: int64"
      ]
     },
     "execution_count": 6,
     "metadata": {},
     "output_type": "execute_result"
    }
   ],
   "source": [
    "df['VideoAnalyse'].value_counts()"
   ]
  },
  {
   "cell_type": "markdown",
   "metadata": {},
   "source": [
    "# Split into training-validation and testing (holdout dataset)"
   ]
  },
  {
   "cell_type": "code",
   "execution_count": 7,
   "metadata": {},
   "outputs": [
    {
     "data": {
      "text/plain": [
       "NoOtherZone    1019\n",
       "2_Zone          794\n",
       "4_Zone          758\n",
       "5_Zone          619\n",
       "miniZone3       198\n",
       "3_Zone          132\n",
       "1_Zone           26\n",
       "Name: zone3match, dtype: int64"
      ]
     },
     "execution_count": 7,
     "metadata": {},
     "output_type": "execute_result"
    }
   ],
   "source": [
    "df['zone3match'].value_counts()"
   ]
  },
  {
   "cell_type": "code",
   "execution_count": 8,
   "metadata": {},
   "outputs": [],
   "source": [
    "#available features (zone4match is totally point less it ~never exist)\n",
    "licat = ['TagID', 'Zone', 'PenID', 'VideoAnalyse', 'system', 'date',\n",
    "         'zone2match', 'zone3match','zone3matchexist',\n",
    "         'next1zone','next2zone', 'next3zone', 'next4zone', 'next5zone',\n",
    "         'previous1zone', 'previous2zone', 'previous3zone', 'previous4zone','previous5zone']\n",
    "licont = ['signalstrength', 'signalstzone2', 'signalstrzone3', 'signalstrzone4', 'duration','previousduration','nextduration',\n",
    "         'next2zone==Zone','previous2zone==Zone','previousZone==NextZone']\n",
    "\n",
    "#select some features\n",
    "li_cont_select = ['signalstrength', 'signalstzone2','duration','nextduration','previousduration',\n",
    "                 'next2zone==Zone','previous2zone==Zone','zone3matchexist'] \n",
    "li_cat_select = ['Zone','zone2match','previous1zone','next1zone'] #ADD WHEN WE HAVE DORIS DATA: PenID\n",
    "#zone3match_exist: important for WG cleaning"
   ]
  },
  {
   "cell_type": "code",
   "execution_count": 9,
   "metadata": {},
   "outputs": [
    {
     "data": {
      "text/html": [
       "<div>\n",
       "<style scoped>\n",
       "    .dataframe tbody tr th:only-of-type {\n",
       "        vertical-align: middle;\n",
       "    }\n",
       "\n",
       "    .dataframe tbody tr th {\n",
       "        vertical-align: top;\n",
       "    }\n",
       "\n",
       "    .dataframe thead th {\n",
       "        text-align: right;\n",
       "    }\n",
       "</style>\n",
       "<table border=\"1\" class=\"dataframe\">\n",
       "  <thead>\n",
       "    <tr style=\"text-align: right;\">\n",
       "      <th></th>\n",
       "      <th>signalstrength</th>\n",
       "      <th>signalstzone2</th>\n",
       "      <th>duration</th>\n",
       "      <th>nextduration</th>\n",
       "      <th>previousduration</th>\n",
       "      <th>next2zone==Zone</th>\n",
       "      <th>previous2zone==Zone</th>\n",
       "      <th>Zone</th>\n",
       "      <th>zone2match</th>\n",
       "      <th>zone3matchexist</th>\n",
       "      <th>previous1zone</th>\n",
       "      <th>next1zone</th>\n",
       "    </tr>\n",
       "  </thead>\n",
       "  <tbody>\n",
       "    <tr>\n",
       "      <th>1249</th>\n",
       "      <td>5.0</td>\n",
       "      <td>3.0</td>\n",
       "      <td>35.0</td>\n",
       "      <td>3.0</td>\n",
       "      <td>43.0</td>\n",
       "      <td>True</td>\n",
       "      <td>False</td>\n",
       "      <td>3Zone</td>\n",
       "      <td>miniZone3</td>\n",
       "      <td>False</td>\n",
       "      <td>2Zone</td>\n",
       "      <td>2Zone</td>\n",
       "    </tr>\n",
       "    <tr>\n",
       "      <th>2061</th>\n",
       "      <td>11.0</td>\n",
       "      <td>10.0</td>\n",
       "      <td>86.0</td>\n",
       "      <td>190.0</td>\n",
       "      <td>37.0</td>\n",
       "      <td>True</td>\n",
       "      <td>True</td>\n",
       "      <td>3Zone</td>\n",
       "      <td>miniZone3</td>\n",
       "      <td>False</td>\n",
       "      <td>3Zone</td>\n",
       "      <td>3Zone</td>\n",
       "    </tr>\n",
       "    <tr>\n",
       "      <th>415</th>\n",
       "      <td>11.0</td>\n",
       "      <td>10.0</td>\n",
       "      <td>99.0</td>\n",
       "      <td>83.0</td>\n",
       "      <td>65.0</td>\n",
       "      <td>True</td>\n",
       "      <td>True</td>\n",
       "      <td>3Zone</td>\n",
       "      <td>5Zone</td>\n",
       "      <td>True</td>\n",
       "      <td>5Zone</td>\n",
       "      <td>5Zone</td>\n",
       "    </tr>\n",
       "  </tbody>\n",
       "</table>\n",
       "</div>"
      ],
      "text/plain": [
       "      signalstrength  signalstzone2  duration  nextduration  previousduration  \\\n",
       "1249             5.0            3.0      35.0           3.0              43.0   \n",
       "2061            11.0           10.0      86.0         190.0              37.0   \n",
       "415             11.0           10.0      99.0          83.0              65.0   \n",
       "\n",
       "      next2zone==Zone  previous2zone==Zone   Zone zone2match zone3matchexist  \\\n",
       "1249             True                False  3Zone  miniZone3           False   \n",
       "2061             True                 True  3Zone  miniZone3           False   \n",
       "415              True                 True  3Zone      5Zone            True   \n",
       "\n",
       "     previous1zone next1zone  \n",
       "1249         2Zone     2Zone  \n",
       "2061         3Zone     3Zone  \n",
       "415          5Zone     5Zone  "
      ]
     },
     "execution_count": 9,
     "metadata": {},
     "output_type": "execute_result"
    }
   ],
   "source": [
    "#necessary to sum categories within the features importances\n",
    "for x in li_cat_select+['ObservedZone']:\n",
    "    df[x] = df[x].map(lambda x: str(x).replace('_',''))\n",
    "df[li_cont_select+li_cat_select].head(3)"
   ]
  },
  {
   "cell_type": "code",
   "execution_count": 10,
   "metadata": {},
   "outputs": [
    {
     "data": {
      "text/html": [
       "<div>\n",
       "<style scoped>\n",
       "    .dataframe tbody tr th:only-of-type {\n",
       "        vertical-align: middle;\n",
       "    }\n",
       "\n",
       "    .dataframe tbody tr th {\n",
       "        vertical-align: top;\n",
       "    }\n",
       "\n",
       "    .dataframe thead th {\n",
       "        text-align: right;\n",
       "    }\n",
       "</style>\n",
       "<table border=\"1\" class=\"dataframe\">\n",
       "  <thead>\n",
       "    <tr style=\"text-align: right;\">\n",
       "      <th></th>\n",
       "      <th>Timestamp</th>\n",
       "      <th>TagID</th>\n",
       "      <th>HenID</th>\n",
       "      <th>Zone</th>\n",
       "      <th>PenID</th>\n",
       "      <th>VideoAnalyse</th>\n",
       "      <th>system</th>\n",
       "      <th>date</th>\n",
       "      <th>type</th>\n",
       "      <th>signalstrength</th>\n",
       "      <th>...</th>\n",
       "      <th>previousZone==NextZone</th>\n",
       "      <th>nextduration</th>\n",
       "      <th>BatchID</th>\n",
       "      <th>zone2match</th>\n",
       "      <th>zone3match</th>\n",
       "      <th>zone4match</th>\n",
       "      <th>ObservedZone</th>\n",
       "      <th>zone3matchexist</th>\n",
       "      <th>next2zone==Zone</th>\n",
       "      <th>previous2zone==Zone</th>\n",
       "    </tr>\n",
       "  </thead>\n",
       "  <tbody>\n",
       "    <tr>\n",
       "      <th>1249</th>\n",
       "      <td>2020-10-16 15:02:51</td>\n",
       "      <td>117</td>\n",
       "      <td>hen_177</td>\n",
       "      <td>3Zone</td>\n",
       "      <td>10.0</td>\n",
       "      <td>0</td>\n",
       "      <td>10 - 12</td>\n",
       "      <td>2020-10-16</td>\n",
       "      <td>students</td>\n",
       "      <td>5.0</td>\n",
       "      <td>...</td>\n",
       "      <td>True</td>\n",
       "      <td>3.0</td>\n",
       "      <td>NaN</td>\n",
       "      <td>miniZone3</td>\n",
       "      <td>NoOtherZone</td>\n",
       "      <td>NoOtherZone</td>\n",
       "      <td>2Zone</td>\n",
       "      <td>False</td>\n",
       "      <td>True</td>\n",
       "      <td>False</td>\n",
       "    </tr>\n",
       "    <tr>\n",
       "      <th>2061</th>\n",
       "      <td>2020-10-17 14:29:25</td>\n",
       "      <td>2</td>\n",
       "      <td>hen_40</td>\n",
       "      <td>3Zone</td>\n",
       "      <td>3.0</td>\n",
       "      <td>1</td>\n",
       "      <td>3 - 5</td>\n",
       "      <td>2020-10-17</td>\n",
       "      <td>students</td>\n",
       "      <td>11.0</td>\n",
       "      <td>...</td>\n",
       "      <td>True</td>\n",
       "      <td>190.0</td>\n",
       "      <td>NaN</td>\n",
       "      <td>miniZone3</td>\n",
       "      <td>NoOtherZone</td>\n",
       "      <td>NoOtherZone</td>\n",
       "      <td>3Zone</td>\n",
       "      <td>False</td>\n",
       "      <td>True</td>\n",
       "      <td>True</td>\n",
       "    </tr>\n",
       "    <tr>\n",
       "      <th>415</th>\n",
       "      <td>2020-10-19 11:33:06</td>\n",
       "      <td>59</td>\n",
       "      <td>hen_11</td>\n",
       "      <td>3Zone</td>\n",
       "      <td>5.0</td>\n",
       "      <td>0</td>\n",
       "      <td>3 - 5</td>\n",
       "      <td>2020-10-19</td>\n",
       "      <td>students</td>\n",
       "      <td>11.0</td>\n",
       "      <td>...</td>\n",
       "      <td>True</td>\n",
       "      <td>83.0</td>\n",
       "      <td>NaN</td>\n",
       "      <td>5Zone</td>\n",
       "      <td>4_Zone</td>\n",
       "      <td>2_Zone</td>\n",
       "      <td>5Zone</td>\n",
       "      <td>True</td>\n",
       "      <td>True</td>\n",
       "      <td>True</td>\n",
       "    </tr>\n",
       "    <tr>\n",
       "      <th>1000</th>\n",
       "      <td>2020-10-14 13:33:15</td>\n",
       "      <td>16</td>\n",
       "      <td>hen_92</td>\n",
       "      <td>2Zone</td>\n",
       "      <td>3.0</td>\n",
       "      <td>1</td>\n",
       "      <td>3 - 5</td>\n",
       "      <td>2020-10-14</td>\n",
       "      <td>students</td>\n",
       "      <td>3.0</td>\n",
       "      <td>...</td>\n",
       "      <td>True</td>\n",
       "      <td>18.0</td>\n",
       "      <td>NaN</td>\n",
       "      <td>miniZone3</td>\n",
       "      <td>NoOtherZone</td>\n",
       "      <td>NoOtherZone</td>\n",
       "      <td>2Zone</td>\n",
       "      <td>False</td>\n",
       "      <td>False</td>\n",
       "      <td>True</td>\n",
       "    </tr>\n",
       "    <tr>\n",
       "      <th>1401</th>\n",
       "      <td>2020-10-17 13:51:16</td>\n",
       "      <td>117</td>\n",
       "      <td>hen_177</td>\n",
       "      <td>3Zone</td>\n",
       "      <td>10.0</td>\n",
       "      <td>1</td>\n",
       "      <td>10 - 12</td>\n",
       "      <td>2020-10-17</td>\n",
       "      <td>students</td>\n",
       "      <td>10.0</td>\n",
       "      <td>...</td>\n",
       "      <td>False</td>\n",
       "      <td>1046.0</td>\n",
       "      <td>NaN</td>\n",
       "      <td>miniZone3</td>\n",
       "      <td>2_Zone</td>\n",
       "      <td>NoOtherZone</td>\n",
       "      <td>3Zone</td>\n",
       "      <td>True</td>\n",
       "      <td>True</td>\n",
       "      <td>True</td>\n",
       "    </tr>\n",
       "    <tr>\n",
       "      <th>...</th>\n",
       "      <td>...</td>\n",
       "      <td>...</td>\n",
       "      <td>...</td>\n",
       "      <td>...</td>\n",
       "      <td>...</td>\n",
       "      <td>...</td>\n",
       "      <td>...</td>\n",
       "      <td>...</td>\n",
       "      <td>...</td>\n",
       "      <td>...</td>\n",
       "      <td>...</td>\n",
       "      <td>...</td>\n",
       "      <td>...</td>\n",
       "      <td>...</td>\n",
       "      <td>...</td>\n",
       "      <td>...</td>\n",
       "      <td>...</td>\n",
       "      <td>...</td>\n",
       "      <td>...</td>\n",
       "      <td>...</td>\n",
       "      <td>...</td>\n",
       "    </tr>\n",
       "    <tr>\n",
       "      <th>2887</th>\n",
       "      <td>2020-10-25 16:02:49</td>\n",
       "      <td>49</td>\n",
       "      <td>hen_122</td>\n",
       "      <td>2Zone</td>\n",
       "      <td>12.0</td>\n",
       "      <td>1</td>\n",
       "      <td>10 - 12</td>\n",
       "      <td>2020-10-25</td>\n",
       "      <td>students</td>\n",
       "      <td>3.0</td>\n",
       "      <td>...</td>\n",
       "      <td>False</td>\n",
       "      <td>7.0</td>\n",
       "      <td>NaN</td>\n",
       "      <td>NoOtherZone</td>\n",
       "      <td>NoOtherZone</td>\n",
       "      <td>NoOtherZone</td>\n",
       "      <td>2Zone</td>\n",
       "      <td>False</td>\n",
       "      <td>False</td>\n",
       "      <td>True</td>\n",
       "    </tr>\n",
       "    <tr>\n",
       "      <th>2325</th>\n",
       "      <td>2020-10-18 14:11:57</td>\n",
       "      <td>130</td>\n",
       "      <td>hen_49</td>\n",
       "      <td>2Zone</td>\n",
       "      <td>10.0</td>\n",
       "      <td>1</td>\n",
       "      <td>10 - 12</td>\n",
       "      <td>2020-10-18</td>\n",
       "      <td>students</td>\n",
       "      <td>9.0</td>\n",
       "      <td>...</td>\n",
       "      <td>False</td>\n",
       "      <td>6.0</td>\n",
       "      <td>NaN</td>\n",
       "      <td>NoOtherZone</td>\n",
       "      <td>NoOtherZone</td>\n",
       "      <td>NoOtherZone</td>\n",
       "      <td>2Zone</td>\n",
       "      <td>False</td>\n",
       "      <td>True</td>\n",
       "      <td>True</td>\n",
       "    </tr>\n",
       "    <tr>\n",
       "      <th>472</th>\n",
       "      <td>2020-10-19 14:07:25</td>\n",
       "      <td>3</td>\n",
       "      <td>hen_104</td>\n",
       "      <td>3Zone</td>\n",
       "      <td>3.0</td>\n",
       "      <td>1</td>\n",
       "      <td>3 - 5</td>\n",
       "      <td>2020-10-19</td>\n",
       "      <td>students</td>\n",
       "      <td>12.0</td>\n",
       "      <td>...</td>\n",
       "      <td>False</td>\n",
       "      <td>4.0</td>\n",
       "      <td>NaN</td>\n",
       "      <td>miniZone3</td>\n",
       "      <td>NoOtherZone</td>\n",
       "      <td>NoOtherZone</td>\n",
       "      <td>3Zone</td>\n",
       "      <td>False</td>\n",
       "      <td>False</td>\n",
       "      <td>True</td>\n",
       "    </tr>\n",
       "    <tr>\n",
       "      <th>2862</th>\n",
       "      <td>2020-10-25 14:58:20</td>\n",
       "      <td>49</td>\n",
       "      <td>hen_122</td>\n",
       "      <td>2Zone</td>\n",
       "      <td>12.0</td>\n",
       "      <td>1</td>\n",
       "      <td>10 - 12</td>\n",
       "      <td>2020-10-25</td>\n",
       "      <td>students</td>\n",
       "      <td>15.0</td>\n",
       "      <td>...</td>\n",
       "      <td>False</td>\n",
       "      <td>58.0</td>\n",
       "      <td>NaN</td>\n",
       "      <td>1Zone</td>\n",
       "      <td>NoOtherZone</td>\n",
       "      <td>NoOtherZone</td>\n",
       "      <td>2Zone</td>\n",
       "      <td>False</td>\n",
       "      <td>False</td>\n",
       "      <td>True</td>\n",
       "    </tr>\n",
       "    <tr>\n",
       "      <th>2876</th>\n",
       "      <td>2020-10-25 15:33:19</td>\n",
       "      <td>49</td>\n",
       "      <td>hen_122</td>\n",
       "      <td>2Zone</td>\n",
       "      <td>12.0</td>\n",
       "      <td>1</td>\n",
       "      <td>10 - 12</td>\n",
       "      <td>2020-10-25</td>\n",
       "      <td>students</td>\n",
       "      <td>15.0</td>\n",
       "      <td>...</td>\n",
       "      <td>True</td>\n",
       "      <td>264.0</td>\n",
       "      <td>NaN</td>\n",
       "      <td>NoOtherZone</td>\n",
       "      <td>NoOtherZone</td>\n",
       "      <td>NoOtherZone</td>\n",
       "      <td>2Zone</td>\n",
       "      <td>False</td>\n",
       "      <td>True</td>\n",
       "      <td>True</td>\n",
       "    </tr>\n",
       "  </tbody>\n",
       "</table>\n",
       "<p>3264 rows × 36 columns</p>\n",
       "</div>"
      ],
      "text/plain": [
       "               Timestamp  TagID    HenID   Zone  PenID  VideoAnalyse   system  \\\n",
       "1249 2020-10-16 15:02:51    117  hen_177  3Zone   10.0             0  10 - 12   \n",
       "2061 2020-10-17 14:29:25      2   hen_40  3Zone    3.0             1    3 - 5   \n",
       "415  2020-10-19 11:33:06     59   hen_11  3Zone    5.0             0    3 - 5   \n",
       "1000 2020-10-14 13:33:15     16   hen_92  2Zone    3.0             1    3 - 5   \n",
       "1401 2020-10-17 13:51:16    117  hen_177  3Zone   10.0             1  10 - 12   \n",
       "...                  ...    ...      ...    ...    ...           ...      ...   \n",
       "2887 2020-10-25 16:02:49     49  hen_122  2Zone   12.0             1  10 - 12   \n",
       "2325 2020-10-18 14:11:57    130   hen_49  2Zone   10.0             1  10 - 12   \n",
       "472  2020-10-19 14:07:25      3  hen_104  3Zone    3.0             1    3 - 5   \n",
       "2862 2020-10-25 14:58:20     49  hen_122  2Zone   12.0             1  10 - 12   \n",
       "2876 2020-10-25 15:33:19     49  hen_122  2Zone   12.0             1  10 - 12   \n",
       "\n",
       "           date      type  signalstrength  ...  previousZone==NextZone  \\\n",
       "1249 2020-10-16  students             5.0  ...                    True   \n",
       "2061 2020-10-17  students            11.0  ...                    True   \n",
       "415  2020-10-19  students            11.0  ...                    True   \n",
       "1000 2020-10-14  students             3.0  ...                    True   \n",
       "1401 2020-10-17  students            10.0  ...                   False   \n",
       "...         ...       ...             ...  ...                     ...   \n",
       "2887 2020-10-25  students             3.0  ...                   False   \n",
       "2325 2020-10-18  students             9.0  ...                   False   \n",
       "472  2020-10-19  students            12.0  ...                   False   \n",
       "2862 2020-10-25  students            15.0  ...                   False   \n",
       "2876 2020-10-25  students            15.0  ...                    True   \n",
       "\n",
       "      nextduration  BatchID   zone2match   zone3match   zone4match  \\\n",
       "1249           3.0      NaN    miniZone3  NoOtherZone  NoOtherZone   \n",
       "2061         190.0      NaN    miniZone3  NoOtherZone  NoOtherZone   \n",
       "415           83.0      NaN        5Zone       4_Zone       2_Zone   \n",
       "1000          18.0      NaN    miniZone3  NoOtherZone  NoOtherZone   \n",
       "1401        1046.0      NaN    miniZone3       2_Zone  NoOtherZone   \n",
       "...            ...      ...          ...          ...          ...   \n",
       "2887           7.0      NaN  NoOtherZone  NoOtherZone  NoOtherZone   \n",
       "2325           6.0      NaN  NoOtherZone  NoOtherZone  NoOtherZone   \n",
       "472            4.0      NaN    miniZone3  NoOtherZone  NoOtherZone   \n",
       "2862          58.0      NaN        1Zone  NoOtherZone  NoOtherZone   \n",
       "2876         264.0      NaN  NoOtherZone  NoOtherZone  NoOtherZone   \n",
       "\n",
       "     ObservedZone zone3matchexist next2zone==Zone previous2zone==Zone  \n",
       "1249        2Zone           False            True               False  \n",
       "2061        3Zone           False            True                True  \n",
       "415         5Zone            True            True                True  \n",
       "1000        2Zone           False           False                True  \n",
       "1401        3Zone            True            True                True  \n",
       "...           ...             ...             ...                 ...  \n",
       "2887        2Zone           False           False                True  \n",
       "2325        2Zone           False            True                True  \n",
       "472         3Zone           False           False                True  \n",
       "2862        2Zone           False           False                True  \n",
       "2876        2Zone           False            True                True  \n",
       "\n",
       "[3264 rows x 36 columns]"
      ]
     },
     "execution_count": 10,
     "metadata": {},
     "output_type": "execute_result"
    }
   ],
   "source": [
    "#show rows with at least one nan\n",
    "df[df.isna().any(axis=1)]"
   ]
  },
  {
   "cell_type": "code",
   "execution_count": 11,
   "metadata": {},
   "outputs": [
    {
     "name": "stdout",
     "output_type": "stream",
     "text": [
      "(3546, 36)\n",
      "(3546, 36)\n"
     ]
    }
   ],
   "source": [
    "#exception\n",
    "print(df.shape)\n",
    "df = df[~((df['nextduration'].isnull())&(df['algotype']=='cleaning'))]\n",
    "print(df.shape)"
   ]
  },
  {
   "cell_type": "code",
   "execution_count": 12,
   "metadata": {},
   "outputs": [],
   "source": [
    "df_testing = df[df['algotype']=='verification'].copy()\n",
    "df_cleaning = df[df['algotype']=='cleaning'].copy()"
   ]
  },
  {
   "cell_type": "code",
   "execution_count": 13,
   "metadata": {},
   "outputs": [
    {
     "data": {
      "text/plain": [
       "1    2516\n",
       "0     748\n",
       "Name: VideoAnalyse, dtype: int64"
      ]
     },
     "execution_count": 13,
     "metadata": {},
     "output_type": "execute_result"
    }
   ],
   "source": [
    "df_cleaning['VideoAnalyse'].value_counts()"
   ]
  },
  {
   "cell_type": "code",
   "execution_count": 14,
   "metadata": {},
   "outputs": [
    {
     "name": "stdout",
     "output_type": "stream",
     "text": [
      "(282, 36) (3264, 36)\n"
     ]
    }
   ],
   "source": [
    "print(df_testing.shape, df_cleaning.shape)"
   ]
  },
  {
   "cell_type": "markdown",
   "metadata": {},
   "source": [
    "# Split into training and validation (for parameter tuning)"
   ]
  },
  {
   "cell_type": "code",
   "execution_count": 15,
   "metadata": {},
   "outputs": [
    {
     "name": "stdout",
     "output_type": "stream",
     "text": [
      "(3264, 26) (3264, 1)\n",
      "(282, 26) (282, 1)\n"
     ]
    }
   ],
   "source": [
    "#transform categorical data into dumies\n",
    "df_cl_d = pd.get_dummies(df_cleaning.filter(li_cont_select+li_cat_select, axis=1), columns=li_cat_select, drop_first=True)\n",
    "df_te_d = pd.get_dummies(df_testing.filter(li_cont_select+li_cat_select, axis=1), columns=li_cat_select, drop_first=True)\n",
    "\n",
    "if len(df_te_d.columns)!=len(df_cl_d.columns):\n",
    "    print('the test set does not have the same amount of features than the cleaning set, certainly due to low amount of data,\\\n",
    "    Please remove some varibles that has missing values in the testing set')\n",
    "    sys.exit()\n",
    "    \n",
    "#train\n",
    "X_train = df_cl_d.values\n",
    "y_train = df_cleaning[['VideoAnalyse']].values\n",
    "print(X_train.shape, y_train.shape)\n",
    "\n",
    "#test\n",
    "X_test = df_te_d.values\n",
    "y_test = df_testing[['VideoAnalyse']].values\n",
    "print(X_test.shape, y_test.shape)\n",
    "\n",
    "#var name\n",
    "var_name = df_cl_d.columns\n",
    "\n",
    "#scaler = MinMaxScaler()\n",
    "#X_train = scaler.fit_transform(X_train)\n",
    "#X_test = scaler.transform(X_test) \n",
    "\n",
    "#split training into validation\n",
    "state = 10  \n",
    "val_size = 0.25  \n",
    "X_train, X_val, y_train, y_val = train_test_split(X_train, y_train, test_size=val_size, random_state=state)"
   ]
  },
  {
   "cell_type": "code",
   "execution_count": 16,
   "metadata": {},
   "outputs": [
    {
     "data": {
      "text/html": [
       "<div>\n",
       "<style scoped>\n",
       "    .dataframe tbody tr th:only-of-type {\n",
       "        vertical-align: middle;\n",
       "    }\n",
       "\n",
       "    .dataframe tbody tr th {\n",
       "        vertical-align: top;\n",
       "    }\n",
       "\n",
       "    .dataframe thead th {\n",
       "        text-align: right;\n",
       "    }\n",
       "</style>\n",
       "<table border=\"1\" class=\"dataframe\">\n",
       "  <thead>\n",
       "    <tr style=\"text-align: right;\">\n",
       "      <th></th>\n",
       "      <th>signalstrength</th>\n",
       "      <th>signalstzone2</th>\n",
       "      <th>duration</th>\n",
       "      <th>nextduration</th>\n",
       "      <th>previousduration</th>\n",
       "      <th>next2zone==Zone</th>\n",
       "      <th>previous2zone==Zone</th>\n",
       "      <th>Zone_2Zone</th>\n",
       "      <th>Zone_3Zone</th>\n",
       "      <th>Zone_4Zone</th>\n",
       "      <th>...</th>\n",
       "      <th>zone2match_miniZone3</th>\n",
       "      <th>zone3matchexist_True</th>\n",
       "      <th>previous1zone_2Zone</th>\n",
       "      <th>previous1zone_3Zone</th>\n",
       "      <th>previous1zone_4Zone</th>\n",
       "      <th>previous1zone_5Zone</th>\n",
       "      <th>next1zone_2Zone</th>\n",
       "      <th>next1zone_3Zone</th>\n",
       "      <th>next1zone_4Zone</th>\n",
       "      <th>next1zone_5Zone</th>\n",
       "    </tr>\n",
       "  </thead>\n",
       "  <tbody>\n",
       "  </tbody>\n",
       "</table>\n",
       "<p>0 rows × 26 columns</p>\n",
       "</div>"
      ],
      "text/plain": [
       "Empty DataFrame\n",
       "Columns: [signalstrength, signalstzone2, duration, nextduration, previousduration, next2zone==Zone, previous2zone==Zone, Zone_2Zone, Zone_3Zone, Zone_4Zone, Zone_5Zone, zone2match_2Zone, zone2match_3Zone, zone2match_4Zone, zone2match_5Zone, zone2match_NoOtherZone, zone2match_miniZone3, zone3matchexist_True, previous1zone_2Zone, previous1zone_3Zone, previous1zone_4Zone, previous1zone_5Zone, next1zone_2Zone, next1zone_3Zone, next1zone_4Zone, next1zone_5Zone]\n",
       "Index: []\n",
       "\n",
       "[0 rows x 26 columns]"
      ]
     },
     "metadata": {},
     "output_type": "display_data"
    },
    {
     "data": {
      "text/html": [
       "<div>\n",
       "<style scoped>\n",
       "    .dataframe tbody tr th:only-of-type {\n",
       "        vertical-align: middle;\n",
       "    }\n",
       "\n",
       "    .dataframe tbody tr th {\n",
       "        vertical-align: top;\n",
       "    }\n",
       "\n",
       "    .dataframe thead th {\n",
       "        text-align: right;\n",
       "    }\n",
       "</style>\n",
       "<table border=\"1\" class=\"dataframe\">\n",
       "  <thead>\n",
       "    <tr style=\"text-align: right;\">\n",
       "      <th></th>\n",
       "      <th>signalstrength</th>\n",
       "      <th>signalstzone2</th>\n",
       "      <th>duration</th>\n",
       "      <th>nextduration</th>\n",
       "      <th>previousduration</th>\n",
       "      <th>next2zone==Zone</th>\n",
       "      <th>previous2zone==Zone</th>\n",
       "      <th>Zone_2Zone</th>\n",
       "      <th>Zone_3Zone</th>\n",
       "      <th>Zone_4Zone</th>\n",
       "      <th>...</th>\n",
       "      <th>zone2match_miniZone3</th>\n",
       "      <th>zone3matchexist_True</th>\n",
       "      <th>previous1zone_2Zone</th>\n",
       "      <th>previous1zone_3Zone</th>\n",
       "      <th>previous1zone_4Zone</th>\n",
       "      <th>previous1zone_5Zone</th>\n",
       "      <th>next1zone_2Zone</th>\n",
       "      <th>next1zone_3Zone</th>\n",
       "      <th>next1zone_4Zone</th>\n",
       "      <th>next1zone_5Zone</th>\n",
       "    </tr>\n",
       "  </thead>\n",
       "  <tbody>\n",
       "  </tbody>\n",
       "</table>\n",
       "<p>0 rows × 26 columns</p>\n",
       "</div>"
      ],
      "text/plain": [
       "Empty DataFrame\n",
       "Columns: [signalstrength, signalstzone2, duration, nextduration, previousduration, next2zone==Zone, previous2zone==Zone, Zone_2Zone, Zone_3Zone, Zone_4Zone, Zone_5Zone, zone2match_2Zone, zone2match_3Zone, zone2match_4Zone, zone2match_5Zone, zone2match_NoOtherZone, zone2match_miniZone3, zone3matchexist_True, previous1zone_2Zone, previous1zone_3Zone, previous1zone_4Zone, previous1zone_5Zone, next1zone_2Zone, next1zone_3Zone, next1zone_4Zone, next1zone_5Zone]\n",
       "Index: []\n",
       "\n",
       "[0 rows x 26 columns]"
      ]
     },
     "execution_count": 16,
     "metadata": {},
     "output_type": "execute_result"
    }
   ],
   "source": [
    "#show rows with at least one nan\n",
    "display(df_cl_d[df_cl_d.isna().any(axis=1)])\n",
    "df_te_d[df_te_d.isna().any(axis=1)]"
   ]
  },
  {
   "cell_type": "markdown",
   "metadata": {},
   "source": [
    "# Model"
   ]
  },
  {
   "cell_type": "code",
   "execution_count": 17,
   "metadata": {
    "scrolled": true
   },
   "outputs": [
    {
     "name": "stderr",
     "output_type": "stream",
     "text": [
      "C:\\Users\\camil\\Anaconda3\\lib\\site-packages\\sklearn\\utils\\validation.py:72: DataConversionWarning: A column-vector y was passed when a 1d array was expected. Please change the shape of y to (n_samples, ), for example using ravel().\n",
      "  return f(**kwargs)\n",
      "C:\\Users\\camil\\Anaconda3\\lib\\site-packages\\sklearn\\utils\\validation.py:72: DataConversionWarning: A column-vector y was passed when a 1d array was expected. Please change the shape of y to (n_samples, ), for example using ravel().\n",
      "  return f(**kwargs)\n",
      "C:\\Users\\camil\\Anaconda3\\lib\\site-packages\\sklearn\\utils\\validation.py:72: DataConversionWarning: A column-vector y was passed when a 1d array was expected. Please change the shape of y to (n_samples, ), for example using ravel().\n",
      "  return f(**kwargs)\n",
      "C:\\Users\\camil\\Anaconda3\\lib\\site-packages\\sklearn\\utils\\validation.py:72: DataConversionWarning: A column-vector y was passed when a 1d array was expected. Please change the shape of y to (n_samples, ), for example using ravel().\n",
      "  return f(**kwargs)\n",
      "C:\\Users\\camil\\Anaconda3\\lib\\site-packages\\sklearn\\utils\\validation.py:72: DataConversionWarning: A column-vector y was passed when a 1d array was expected. Please change the shape of y to (n_samples, ), for example using ravel().\n",
      "  return f(**kwargs)\n",
      "C:\\Users\\camil\\Anaconda3\\lib\\site-packages\\sklearn\\utils\\validation.py:72: DataConversionWarning: A column-vector y was passed when a 1d array was expected. Please change the shape of y to (n_samples, ), for example using ravel().\n",
      "  return f(**kwargs)\n",
      "C:\\Users\\camil\\Anaconda3\\lib\\site-packages\\sklearn\\utils\\validation.py:72: DataConversionWarning: A column-vector y was passed when a 1d array was expected. Please change the shape of y to (n_samples, ), for example using ravel().\n",
      "  return f(**kwargs)\n",
      "C:\\Users\\camil\\Anaconda3\\lib\\site-packages\\sklearn\\utils\\validation.py:72: DataConversionWarning: A column-vector y was passed when a 1d array was expected. Please change the shape of y to (n_samples, ), for example using ravel().\n",
      "  return f(**kwargs)\n",
      "C:\\Users\\camil\\Anaconda3\\lib\\site-packages\\sklearn\\utils\\validation.py:72: DataConversionWarning: A column-vector y was passed when a 1d array was expected. Please change the shape of y to (n_samples, ), for example using ravel().\n",
      "  return f(**kwargs)\n",
      "C:\\Users\\camil\\Anaconda3\\lib\\site-packages\\sklearn\\utils\\validation.py:72: DataConversionWarning: A column-vector y was passed when a 1d array was expected. Please change the shape of y to (n_samples, ), for example using ravel().\n",
      "  return f(**kwargs)\n",
      "C:\\Users\\camil\\Anaconda3\\lib\\site-packages\\sklearn\\utils\\validation.py:72: DataConversionWarning: A column-vector y was passed when a 1d array was expected. Please change the shape of y to (n_samples, ), for example using ravel().\n",
      "  return f(**kwargs)\n",
      "C:\\Users\\camil\\Anaconda3\\lib\\site-packages\\sklearn\\utils\\validation.py:72: DataConversionWarning: A column-vector y was passed when a 1d array was expected. Please change the shape of y to (n_samples, ), for example using ravel().\n",
      "  return f(**kwargs)\n",
      "C:\\Users\\camil\\Anaconda3\\lib\\site-packages\\sklearn\\utils\\validation.py:72: DataConversionWarning: A column-vector y was passed when a 1d array was expected. Please change the shape of y to (n_samples, ), for example using ravel().\n",
      "  return f(**kwargs)\n",
      "C:\\Users\\camil\\Anaconda3\\lib\\site-packages\\sklearn\\utils\\validation.py:72: DataConversionWarning: A column-vector y was passed when a 1d array was expected. Please change the shape of y to (n_samples, ), for example using ravel().\n",
      "  return f(**kwargs)\n"
     ]
    },
    {
     "data": {
      "image/png": "[encoded data removed]",
      "text/plain": [
       "<Figure size 432x288 with 1 Axes>"
      ]
     },
     "metadata": {
      "needs_background": "light"
     },
     "output_type": "display_data"
    }
   ],
   "source": [
    "lr_list = [0.05, 0.075, 0.1, 0.25, 0.5, 0.75, 1]\n",
    "li_dico = []\n",
    "for lr in lr_list:\n",
    "    dico_mod = {#'GaussianProcessClassifier': GaussianProcessClassifier(1.0 * RBF(1.0), learning_rate=lr), \n",
    "                #'RandomForest':RandomForestClassifier(max_depth=5, n_estimators=10, max_features=1, learning_rate=lr),\n",
    "                 #'RBF SVM':SVC(gamma=2, C=1, learning_rate=lr),\n",
    "                 #'neural net':MLPClassifier(alpha=1, max_iter=1000, learning_rate=lr),\n",
    "                 #'naive bayes':GaussianNB(learning_rate=lr),\n",
    "                 'XGB': XGBClassifier(learning_rate=lr),\n",
    "                 'GradientBoostingClassifier': GradientBoostingClassifier(n_estimators=20, learning_rate=lr, max_features=2, \n",
    "                                        max_depth=2, random_state=0)}\n",
    "    for name,mod in dico_mod.items():\n",
    "        mod.fit(X_train, y_train)\n",
    "        li_dico.append({'algo':name, 'learning_rate':lr, 'type':'validation','accuracy':round(mod.score(X_val, y_val),2)})\n",
    "        li_dico.append({'algo':name, 'learning_rate':lr, 'type':'training', 'accuracy':round(mod.score(X_train, y_train),2)})\n",
    "\n",
    "#Alternatively, you could predict the X_val data and then check the accuracy against the y_val by using accuracy_score. \n",
    "#It should give you the same kind of result.\n",
    "df_result = pd.DataFrame(li_dico)\n",
    "sns.lineplot(data=df_result, x=\"learning_rate\", y=\"accuracy\", hue=\"algo\", style=\"type\");\n",
    "#plt.savefig(os.path.join(path_extracted_data_cleaning,id_run+'_ClassifierParamTuningLearningRate.png'), bbox_inches='tight')"
   ]
  },
  {
   "cell_type": "code",
   "execution_count": 34,
   "metadata": {
    "scrolled": true
   },
   "outputs": [
    {
     "name": "stderr",
     "output_type": "stream",
     "text": [
      "C:\\Users\\camil\\Anaconda3\\lib\\site-packages\\ipykernel_launcher.py:12: DataConversionWarning: A column-vector y was passed when a 1d array was expected. Please change the shape of y to (n_samples,), for example using ravel().\n",
      "  if sys.path[0] == '':\n",
      "C:\\Users\\camil\\Anaconda3\\lib\\site-packages\\sklearn\\utils\\validation.py:72: DataConversionWarning: A column-vector y was passed when a 1d array was expected. Please change the shape of y to (n_samples, ), for example using ravel().\n",
      "  return f(**kwargs)\n",
      "C:\\Users\\camil\\Anaconda3\\lib\\site-packages\\sklearn\\utils\\validation.py:72: DataConversionWarning: A column-vector y was passed when a 1d array was expected. Please change the shape of y to (n_samples, ), for example using ravel().\n",
      "  return f(**kwargs)\n",
      "C:\\Users\\camil\\Anaconda3\\lib\\site-packages\\ipykernel_launcher.py:12: DataConversionWarning: A column-vector y was passed when a 1d array was expected. Please change the shape of y to (n_samples,), for example using ravel().\n",
      "  if sys.path[0] == '':\n",
      "C:\\Users\\camil\\Anaconda3\\lib\\site-packages\\sklearn\\utils\\validation.py:72: DataConversionWarning: A column-vector y was passed when a 1d array was expected. Please change the shape of y to (n_samples, ), for example using ravel().\n",
      "  return f(**kwargs)\n",
      "C:\\Users\\camil\\Anaconda3\\lib\\site-packages\\sklearn\\utils\\validation.py:72: DataConversionWarning: A column-vector y was passed when a 1d array was expected. Please change the shape of y to (n_samples, ), for example using ravel().\n",
      "  return f(**kwargs)\n",
      "C:\\Users\\camil\\Anaconda3\\lib\\site-packages\\ipykernel_launcher.py:12: DataConversionWarning: A column-vector y was passed when a 1d array was expected. Please change the shape of y to (n_samples,), for example using ravel().\n",
      "  if sys.path[0] == '':\n",
      "C:\\Users\\camil\\Anaconda3\\lib\\site-packages\\sklearn\\utils\\validation.py:72: DataConversionWarning: A column-vector y was passed when a 1d array was expected. Please change the shape of y to (n_samples, ), for example using ravel().\n",
      "  return f(**kwargs)\n",
      "C:\\Users\\camil\\Anaconda3\\lib\\site-packages\\sklearn\\utils\\validation.py:72: DataConversionWarning: A column-vector y was passed when a 1d array was expected. Please change the shape of y to (n_samples, ), for example using ravel().\n",
      "  return f(**kwargs)\n",
      "C:\\Users\\camil\\Anaconda3\\lib\\site-packages\\ipykernel_launcher.py:12: DataConversionWarning: A column-vector y was passed when a 1d array was expected. Please change the shape of y to (n_samples,), for example using ravel().\n",
      "  if sys.path[0] == '':\n",
      "C:\\Users\\camil\\Anaconda3\\lib\\site-packages\\sklearn\\utils\\validation.py:72: DataConversionWarning: A column-vector y was passed when a 1d array was expected. Please change the shape of y to (n_samples, ), for example using ravel().\n",
      "  return f(**kwargs)\n",
      "C:\\Users\\camil\\Anaconda3\\lib\\site-packages\\sklearn\\utils\\validation.py:72: DataConversionWarning: A column-vector y was passed when a 1d array was expected. Please change the shape of y to (n_samples, ), for example using ravel().\n",
      "  return f(**kwargs)\n",
      "C:\\Users\\camil\\Anaconda3\\lib\\site-packages\\ipykernel_launcher.py:12: DataConversionWarning: A column-vector y was passed when a 1d array was expected. Please change the shape of y to (n_samples,), for example using ravel().\n",
      "  if sys.path[0] == '':\n",
      "C:\\Users\\camil\\Anaconda3\\lib\\site-packages\\sklearn\\utils\\validation.py:72: DataConversionWarning: A column-vector y was passed when a 1d array was expected. Please change the shape of y to (n_samples, ), for example using ravel().\n",
      "  return f(**kwargs)\n",
      "C:\\Users\\camil\\Anaconda3\\lib\\site-packages\\sklearn\\utils\\validation.py:72: DataConversionWarning: A column-vector y was passed when a 1d array was expected. Please change the shape of y to (n_samples, ), for example using ravel().\n",
      "  return f(**kwargs)\n",
      "C:\\Users\\camil\\Anaconda3\\lib\\site-packages\\ipykernel_launcher.py:12: DataConversionWarning: A column-vector y was passed when a 1d array was expected. Please change the shape of y to (n_samples,), for example using ravel().\n",
      "  if sys.path[0] == '':\n",
      "C:\\Users\\camil\\Anaconda3\\lib\\site-packages\\sklearn\\utils\\validation.py:72: DataConversionWarning: A column-vector y was passed when a 1d array was expected. Please change the shape of y to (n_samples, ), for example using ravel().\n",
      "  return f(**kwargs)\n",
      "C:\\Users\\camil\\Anaconda3\\lib\\site-packages\\sklearn\\utils\\validation.py:72: DataConversionWarning: A column-vector y was passed when a 1d array was expected. Please change the shape of y to (n_samples, ), for example using ravel().\n",
      "  return f(**kwargs)\n",
      "C:\\Users\\camil\\Anaconda3\\lib\\site-packages\\ipykernel_launcher.py:12: DataConversionWarning: A column-vector y was passed when a 1d array was expected. Please change the shape of y to (n_samples,), for example using ravel().\n",
      "  if sys.path[0] == '':\n",
      "C:\\Users\\camil\\Anaconda3\\lib\\site-packages\\sklearn\\utils\\validation.py:72: DataConversionWarning: A column-vector y was passed when a 1d array was expected. Please change the shape of y to (n_samples, ), for example using ravel().\n",
      "  return f(**kwargs)\n",
      "C:\\Users\\camil\\Anaconda3\\lib\\site-packages\\sklearn\\utils\\validation.py:72: DataConversionWarning: A column-vector y was passed when a 1d array was expected. Please change the shape of y to (n_samples, ), for example using ravel().\n",
      "  return f(**kwargs)\n"
     ]
    },
    {
     "data": {
      "image/png": "[encoded data removed]",
      "text/plain": [
       "<Figure size 432x288 with 1 Axes>"
      ]
     },
     "metadata": {
      "needs_background": "light"
     },
     "output_type": "display_data"
    }
   ],
   "source": [
    "li_dico = []\n",
    "for md in [2,3,4,5,6,7,8]:\n",
    "    dico_mod = {#'GaussianProcessClassifier': GaussianProcessClassifier(1.0 * RBF(1.0), max_depth=md), \n",
    "                'RandomForest':RandomForestClassifier(n_estimators=10, max_features=1, max_depth=md),\n",
    "                #'RBF SVM':SVC(gamma=2, C=1, max_depth=md),\n",
    "                #'neural net':MLPClassifier(alpha=1, max_iter=1000, max_depth=md),\n",
    "                #'naive bayes':GaussianNB(max_depth=md),\n",
    "                'XGB': XGBClassifier(learning_rate=0.5, max_depth=md),\n",
    "                'GradientBoostingClassifier': GradientBoostingClassifier(n_estimators=20, learning_rate=0.15, max_features=2, \n",
    "                                        max_depth=md, random_state=0),\n",
    "                #'KNeighborsClassifier': KNeighborsClassifier(n_neighbors=4, weights='uniform')}\n",
    "    for name,mod in dico_mod.items():\n",
    "        mod.fit(X_train, y_train)\n",
    "        li_dico.append({'algo':name, 'max depth':md, 'type':'validation','accuracy':round(mod.score(X_val, y_val),2)})\n",
    "        li_dico.append({'algo':name, 'max depth':md, 'type':'training', 'accuracy':round(mod.score(X_train, y_train),2)})\n",
    "\n",
    "#Alternatively, you could predict the X_val data and then check the accuracy against the y_val by using accuracy_score. \n",
    "#It should give you the same kind of result.\n",
    "df_result = pd.DataFrame(li_dico)\n",
    "sns.lineplot(data=df_result, x=\"max depth\", y=\"accuracy\", hue=\"algo\", style=\"type\");\n",
    "#plt.savefig(os.path.join(path_extracted_data_cleaning,id_run+'_ClassifierParamTuningMaxdepth.png'), bbox_inches='tight')"
   ]
  },
  {
   "cell_type": "markdown",
   "metadata": {},
   "source": [
    "### fit best model"
   ]
  },
  {
   "cell_type": "code",
   "execution_count": 19,
   "metadata": {},
   "outputs": [],
   "source": [
    "#https://www.kaggle.com/ericbae731/feature-importance-of-gradient-boosting-simple"
   ]
  },
  {
   "cell_type": "code",
   "execution_count": 20,
   "metadata": {},
   "outputs": [
    {
     "name": "stderr",
     "output_type": "stream",
     "text": [
      "C:\\Users\\camil\\Anaconda3\\lib\\site-packages\\sklearn\\utils\\validation.py:72: DataConversionWarning: A column-vector y was passed when a 1d array was expected. Please change the shape of y to (n_samples, ), for example using ravel().\n",
      "  return f(**kwargs)\n"
     ]
    },
    {
     "data": {
      "text/plain": [
       "XGBClassifier(learning_rate=0.5)"
      ]
     },
     "execution_count": 20,
     "metadata": {},
     "output_type": "execute_result"
    }
   ],
   "source": [
    "model = XGBClassifier(learning_rate=0.5, max_depth=3)\n",
    "model.fit(X_train, y_train)"
   ]
  },
  {
   "cell_type": "markdown",
   "metadata": {},
   "source": [
    "TODO\n",
    "#choose parameters!!\n",
    "GradientBoostingClassifier(loss=’deviance’, learning_rate=0.1, n_estimators=100, \n",
    "                            subsample=1.0, criterion=’friedman_mse’, min_samples_split=2, \n",
    "                            min_samples_leaf=1, min_weight_fraction_leaf=0.0, max_depth=3, \n",
    "                            min_impurity_decrease=0.0, min_impurity_split=None, init=None, \n",
    "                            random_state=None, max_features=None, verbose=0, max_leaf_nodes=None, \n",
    "                            warm_start=False, presort=’auto’, validation_fraction=0.1, n_iter_no_change=None, tol=0.0001)\n",
    "\n",
    "clf = GradientBoostingClassifier(n_estimators=100, learning_rate=0.05, max_depth=5, random_state=0)\n",
    "clf.fit(tr_x, tr_y)"
   ]
  },
  {
   "cell_type": "markdown",
   "metadata": {},
   "source": [
    "# Feature importance"
   ]
  },
  {
   "cell_type": "markdown",
   "metadata": {},
   "source": [
    "#plot feature importance: Fscore!\n",
    "plot_importance(model)\n",
    "plt.show()"
   ]
  },
  {
   "cell_type": "markdown",
   "metadata": {
    "scrolled": true
   },
   "source": [
    "#old\n",
    "#https://scikit-learn.org/stable/modules/generated/sklearn.svm.SVR.html#sklearn.svm.SVR\n",
    "feature_importance = model.feature_importances_\n",
    "#make importances relative to max importance\n",
    "#feature_importance = 100.0 * (feature_importance / feature_importance.max())\n",
    "sorted_idx = np.argsort(feature_importance)\n",
    "pos = np.arange(sorted_idx.shape[0]) + .5\n",
    "#plt.subplot(1, 2, 2)\n",
    "plt.figure(figsize=(3, 7))\n",
    "plt.barh(pos, feature_importance[sorted_idx], align='center')\n",
    "plt.yticks(pos, var_name[sorted_idx])\n",
    "plt.xlabel('Relative Importance')\n",
    "plt.title('Variable Importance')\n",
    "plt.show()"
   ]
  },
  {
   "cell_type": "code",
   "execution_count": 21,
   "metadata": {},
   "outputs": [
    {
     "data": {
      "image/png": "[encoded data removed]",
      "text/plain": [
       "<Figure size 216x504 with 1 Axes>"
      ]
     },
     "metadata": {
      "needs_background": "light"
     },
     "output_type": "display_data"
    }
   ],
   "source": [
    "feature_importance = model.feature_importances_\n",
    "# make importances relative to max importance\n",
    "#feature_importance = 100.0 * (feature_importance / feature_importance.max())\n",
    "dico_f_imp = {var_name[i]:feature_importance[i] for i in range(0,len(var_name))}\n",
    "#display(dico_f_imp)\n",
    "dico_fg_imp = {x.split('_')[0]:sum([dico_f_imp[i] for i in dico_f_imp.keys() if i.split('_')[0]==x.split('_')[0]]) for x in dico_f_imp.keys()}\n",
    "#display(dico_fg_imp)\n",
    "#sort the dictionary by the importance values\n",
    "dico_fg_imp_sorted = {k: v for k, v in sorted(dico_fg_imp.items(), key=lambda item: item[1])}\n",
    "plt.figure(figsize=(3, 7))\n",
    "pos = [i+0.5 for i in range(0,len(dico_fg_imp))]\n",
    "plt.barh(pos, dico_fg_imp_sorted.values(), align='center')\n",
    "plt.yticks(pos, dico_fg_imp_sorted.keys())\n",
    "plt.xlabel('Relative Importance')\n",
    "plt.title('Variable Importance')\n",
    "plt.savefig(os.path.join(path_extracted_data_cleaning,'FeaturesImportance.png'), bbox_inches='tight')\n",
    "plt.show()"
   ]
  },
  {
   "cell_type": "markdown",
   "metadata": {},
   "source": [
    "### Relevance of algorithm on validation data"
   ]
  },
  {
   "cell_type": "code",
   "execution_count": 22,
   "metadata": {
    "scrolled": true
   },
   "outputs": [
    {
     "name": "stderr",
     "output_type": "stream",
     "text": [
      "C:\\Users\\camil\\Anaconda3\\lib\\site-packages\\sklearn\\utils\\validation.py:70: FutureWarning: Pass labels=[0, 1] as keyword args. From version 0.25 passing these as positional arguments will result in an error\n",
      "  FutureWarning)\n"
     ]
    },
    {
     "data": {
      "image/png": "[encoded data removed]",
      "text/plain": [
       "<Figure size 360x360 with 2 Axes>"
      ]
     },
     "metadata": {
      "needs_background": "light"
     },
     "output_type": "display_data"
    }
   ],
   "source": [
    "ConfMat(li_true=y_val, \n",
    "        li_pred=model.predict(X_val), \n",
    "        labels=[0,1], \n",
    "        path_save=os.path.join(path_extracted_data_cleaning,id_run+'_CM_model_validating.png'), \n",
    "        xlabel_='Tracking system & algorithm')"
   ]
  },
  {
   "cell_type": "markdown",
   "metadata": {},
   "source": [
    "# Relevance on TESTING DATA"
   ]
  },
  {
   "cell_type": "raw",
   "metadata": {},
   "source": [
    "read for evaluation measures: \n",
    "https://towardsdatascience.com/how-to-evaluate-your-machine-learning-models-with-python-code-5f8d2d8d945b\n",
    "https://scikit-learn.org/stable/modules/generated/sklearn.metrics.cohen_kappa_score.html\n",
    "cohen_kappa_score(y_test, predictions, weights = \"quadratic\")"
   ]
  },
  {
   "cell_type": "code",
   "execution_count": 23,
   "metadata": {},
   "outputs": [],
   "source": [
    "#TO ADD NEW BATCHES WHEN WE HAVE NEW ONES\n",
    "dico_BatchID_endhour = {'ID1':16,\n",
    "                        'ID2':16,\n",
    "                        'ID3':16,\n",
    "                        'ID5':13,\n",
    "                        'ID8':12,\n",
    "                        'ID9':12,\n",
    "                        'ID10':16,\n",
    "                        'ID11':12,\n",
    "                        'ID12':16,\n",
    "                        'ID13':13,\n",
    "                        'ID14':16,\n",
    "                        'ID17':12}"
   ]
  },
  {
   "cell_type": "code",
   "execution_count": 24,
   "metadata": {},
   "outputs": [],
   "source": [
    "##########################################################################################################\n",
    "################################################ predict #################################################\n",
    "##########################################################################################################\n",
    "#transform categorical data into dumies\n",
    "df_te_d = pd.get_dummies(df_testing.filter(li_cont_select+li_cat_select, axis=1), columns=li_cat_select, drop_first=True)\n",
    "X_test = df_te_d.values\n",
    "#y_test = df_testing[['VideoAnalyse']].values\n",
    "predictions = model.predict(X_test)\n",
    "df_testing['model_prediction'] = predictions\n",
    "df_testing.groupby(['Zone','model_prediction'])['date'].count().reset_index()\n",
    "#add the zone that would be selected with this algorithm output: if==0, then the true zone is the one before\n",
    "df_testing['model_prediction'] = df_testing['model_prediction'].astype(str)\n",
    "df_testing['model_ObservedZone'] = df_testing.apply(lambda x: x['Zone'] if x['model_prediction']=='1' else x['previous1zone'],\n",
    "                                                    axis=1)\n",
    "df_testing['tracking_prediction'] = 1\n",
    "#save\n",
    "df_testing.to_csv(os.path.join(path_extracted_data_cleaning, id_run+'_TestingMethods.csv'), \n",
    "                      index=False, sep=';')\n",
    "#display(df_testing.head(3))"
   ]
  },
  {
   "cell_type": "code",
   "execution_count": 35,
   "metadata": {},
   "outputs": [
    {
     "data": {
      "text/plain": [
       "array([1, 1, 1, 1, 1, 1, 1, 1, 1, 1, 1, 1, 1, 1, 1, 1, 1, 0, 0, 1, 1, 1,\n",
       "       1, 1, 1, 1, 1, 1, 1, 0, 1, 1, 1, 0, 1, 1, 1, 1, 1, 1, 1, 1, 1, 1,\n",
       "       1, 1, 1, 1, 1, 1, 1, 1, 1, 1, 1, 1, 0, 1, 1, 1, 1, 1, 1, 1, 1, 1,\n",
       "       1, 1, 1, 1, 1, 1, 1, 1, 1, 1, 1, 1, 1, 1, 1, 1, 1, 1, 1, 1, 1, 1,\n",
       "       1, 1, 1, 1, 1, 1, 1, 1, 0, 1, 1, 1, 1, 1, 1, 1, 1, 1, 1, 1, 1, 1,\n",
       "       1, 1, 1, 1, 1, 1, 1, 1, 1, 1, 1, 1, 0, 1, 1, 1, 1, 1, 1, 1, 1, 1,\n",
       "       1, 1, 1, 1, 1, 1, 1, 1, 1, 1, 1, 1, 1, 1, 1, 1, 1, 1, 1, 1, 1, 1,\n",
       "       1, 1, 1, 1, 1, 1, 1, 1, 1, 1, 1, 1, 1, 1, 0, 1, 1, 1, 1, 1, 1, 1,\n",
       "       1, 1, 1, 1, 1, 1, 1, 1, 1, 1, 1, 0, 1, 1, 1, 0, 1, 1, 1, 1, 1, 1,\n",
       "       1, 1, 1, 1, 1, 1, 1, 1, 1, 1, 1, 1, 1, 0, 1, 1, 1, 1, 0, 0, 1, 0,\n",
       "       1, 1, 1, 1, 1, 1, 1, 1, 1, 1, 1, 1, 1, 1, 1, 1, 1, 1, 1, 1, 1, 1,\n",
       "       1, 1, 0, 1, 1, 1, 0, 1, 1, 1, 1, 1, 1, 1, 1, 0, 1, 0, 1, 1, 1, 1,\n",
       "       1, 1, 1, 1, 0, 1, 1, 1, 1, 1, 1, 1, 1, 1, 1, 1, 1, 0], dtype=int64)"
      ]
     },
     "execution_count": 35,
     "metadata": {},
     "output_type": "execute_result"
    }
   ],
   "source": [
    "model.predict(X_test)"
   ]
  },
  {
   "cell_type": "code",
   "execution_count": 36,
   "metadata": {},
   "outputs": [
    {
     "data": {
      "text/plain": [
       "array([[9.16361809e-04, 9.99083638e-01],\n",
       "       [5.21719456e-04, 9.99478281e-01],\n",
       "       [4.05848026e-04, 9.99594152e-01],\n",
       "       [1.62494183e-03, 9.98375058e-01],\n",
       "       [3.18288803e-05, 9.99968171e-01],\n",
       "       [3.51667404e-05, 9.99964833e-01],\n",
       "       [1.42455101e-04, 9.99857545e-01],\n",
       "       [1.85191631e-04, 9.99814808e-01],\n",
       "       [2.19267607e-03, 9.97807324e-01],\n",
       "       [2.99215317e-05, 9.99970078e-01],\n",
       "       [8.05795193e-04, 9.99194205e-01],\n",
       "       [9.05746818e-02, 9.09425318e-01],\n",
       "       [8.34465027e-06, 9.99991655e-01],\n",
       "       [5.09977341e-04, 9.99490023e-01],\n",
       "       [2.17543840e-02, 9.78245616e-01],\n",
       "       [2.55048275e-04, 9.99744952e-01],\n",
       "       [5.35756350e-02, 9.46424365e-01],\n",
       "       [7.42932916e-01, 2.57067084e-01],\n",
       "       [8.07087600e-01, 1.92912400e-01],\n",
       "       [2.60531902e-04, 9.99739468e-01],\n",
       "       [1.77985430e-03, 9.98220146e-01],\n",
       "       [9.46557522e-03, 9.90534425e-01],\n",
       "       [6.46966696e-03, 9.93530333e-01],\n",
       "       [3.67045403e-04, 9.99632955e-01],\n",
       "       [3.08752060e-05, 9.99969125e-01],\n",
       "       [2.69412994e-05, 9.99973059e-01],\n",
       "       [2.94446945e-05, 9.99970555e-01],\n",
       "       [1.30534172e-04, 9.99869466e-01],\n",
       "       [5.16831875e-03, 9.94831681e-01],\n",
       "       [9.95082617e-01, 4.91736550e-03],\n",
       "       [2.50995159e-04, 9.99749005e-01],\n",
       "       [1.88350677e-05, 9.99981165e-01],\n",
       "       [7.15255737e-07, 9.99999285e-01],\n",
       "       [9.77413118e-01, 2.25868858e-02],\n",
       "       [2.03847885e-05, 9.99979615e-01],\n",
       "       [8.73744488e-04, 9.99126256e-01],\n",
       "       [6.54399395e-04, 9.99345601e-01],\n",
       "       [1.21241808e-03, 9.98787582e-01],\n",
       "       [2.39443779e-03, 9.97605562e-01],\n",
       "       [3.36170197e-05, 9.99966383e-01],\n",
       "       [4.98056412e-04, 9.99501944e-01],\n",
       "       [1.74635649e-03, 9.98253644e-01],\n",
       "       [1.52945518e-04, 9.99847054e-01],\n",
       "       [2.25305557e-05, 9.99977469e-01],\n",
       "       [3.84807587e-04, 9.99615192e-01],\n",
       "       [1.19912624e-03, 9.98800874e-01],\n",
       "       [1.29055977e-03, 9.98709440e-01],\n",
       "       [1.10185146e-03, 9.98898149e-01],\n",
       "       [2.98023224e-06, 9.99997020e-01],\n",
       "       [4.60386276e-04, 9.99539614e-01],\n",
       "       [1.47819519e-05, 9.99985218e-01],\n",
       "       [4.76837158e-07, 9.99999523e-01],\n",
       "       [2.09748745e-04, 9.99790251e-01],\n",
       "       [1.18017197e-05, 9.99988198e-01],\n",
       "       [1.52826309e-04, 9.99847174e-01],\n",
       "       [4.80413437e-05, 9.99951959e-01],\n",
       "       [8.09522271e-01, 1.90477699e-01],\n",
       "       [6.76155090e-04, 9.99323845e-01],\n",
       "       [7.36415386e-04, 9.99263585e-01],\n",
       "       [1.99264407e-01, 8.00735593e-01],\n",
       "       [2.36034393e-05, 9.99976397e-01],\n",
       "       [7.29560852e-05, 9.99927044e-01],\n",
       "       [9.35398340e-02, 9.06460166e-01],\n",
       "       [3.29977274e-03, 9.96700227e-01],\n",
       "       [2.69412994e-05, 9.99973059e-01],\n",
       "       [3.57627869e-07, 9.99999642e-01],\n",
       "       [2.13617086e-03, 9.97863829e-01],\n",
       "       [6.74742460e-03, 9.93252575e-01],\n",
       "       [8.70227814e-06, 9.99991298e-01],\n",
       "       [5.53131104e-05, 9.99944687e-01],\n",
       "       [2.74181366e-06, 9.99997258e-01],\n",
       "       [4.02748585e-04, 9.99597251e-01],\n",
       "       [5.58793545e-04, 9.99441206e-01],\n",
       "       [4.35746789e-01, 5.64253211e-01],\n",
       "       [4.35113907e-05, 9.99956489e-01],\n",
       "       [7.29858875e-04, 9.99270141e-01],\n",
       "       [3.01957130e-04, 9.99698043e-01],\n",
       "       [9.60707664e-04, 9.99039292e-01],\n",
       "       [8.10623169e-05, 9.99918938e-01],\n",
       "       [1.53541565e-04, 9.99846458e-01],\n",
       "       [8.12828541e-04, 9.99187171e-01],\n",
       "       [2.98345089e-03, 9.97016549e-01],\n",
       "       [7.98702240e-06, 9.99992013e-01],\n",
       "       [5.78165054e-05, 9.99942183e-01],\n",
       "       [2.91818380e-03, 9.97081816e-01],\n",
       "       [1.14381313e-03, 9.98856187e-01],\n",
       "       [6.41942024e-03, 9.93580580e-01],\n",
       "       [6.79492950e-06, 9.99993205e-01],\n",
       "       [5.70917130e-03, 9.94290829e-01],\n",
       "       [1.24311447e-03, 9.98756886e-01],\n",
       "       [9.73939896e-04, 9.99026060e-01],\n",
       "       [4.16040421e-05, 9.99958396e-01],\n",
       "       [6.51896000e-04, 9.99348104e-01],\n",
       "       [1.51068866e-01, 8.48931134e-01],\n",
       "       [9.15051699e-02, 9.08494830e-01],\n",
       "       [1.69277191e-04, 9.99830723e-01],\n",
       "       [8.41198921e-01, 1.58801064e-01],\n",
       "       [7.45356083e-04, 9.99254644e-01],\n",
       "       [1.11937523e-04, 9.99888062e-01],\n",
       "       [5.65874577e-03, 9.94341254e-01],\n",
       "       [1.10920072e-02, 9.88907993e-01],\n",
       "       [1.61170959e-04, 9.99838829e-01],\n",
       "       [9.58335400e-03, 9.90416646e-01],\n",
       "       [2.23219395e-04, 9.99776781e-01],\n",
       "       [7.35461712e-04, 9.99264538e-01],\n",
       "       [6.37769699e-05, 9.99936223e-01],\n",
       "       [2.74181366e-06, 9.99997258e-01],\n",
       "       [4.04894352e-04, 9.99595106e-01],\n",
       "       [2.05975771e-03, 9.97940242e-01],\n",
       "       [4.20808792e-05, 9.99957919e-01],\n",
       "       [9.97781754e-05, 9.99900222e-01],\n",
       "       [5.23328781e-05, 9.99947667e-01],\n",
       "       [1.33657157e-01, 8.66342843e-01],\n",
       "       [8.05556774e-04, 9.99194443e-01],\n",
       "       [1.40666962e-05, 9.99985933e-01],\n",
       "       [2.20716000e-04, 9.99779284e-01],\n",
       "       [9.65595245e-06, 9.99990344e-01],\n",
       "       [1.99854374e-04, 9.99800146e-01],\n",
       "       [1.75297260e-04, 9.99824703e-01],\n",
       "       [3.94266844e-02, 9.60573316e-01],\n",
       "       [3.25441360e-05, 9.99967456e-01],\n",
       "       [4.85181808e-05, 9.99951482e-01],\n",
       "       [8.30106199e-01, 1.69893801e-01],\n",
       "       [5.31852245e-04, 9.99468148e-01],\n",
       "       [8.34465027e-07, 9.99999166e-01],\n",
       "       [6.12735748e-05, 9.99938726e-01],\n",
       "       [3.12566757e-03, 9.96874332e-01],\n",
       "       [2.43246555e-04, 9.99756753e-01],\n",
       "       [3.49283218e-04, 9.99650717e-01],\n",
       "       [2.53015161e-02, 9.74698484e-01],\n",
       "       [3.98159027e-05, 9.99960184e-01],\n",
       "       [1.19209290e-06, 9.99998808e-01],\n",
       "       [1.56164169e-04, 9.99843836e-01],\n",
       "       [6.56843185e-05, 9.99934316e-01],\n",
       "       [1.73533559e-02, 9.82646644e-01],\n",
       "       [1.16068125e-03, 9.98839319e-01],\n",
       "       [1.68085098e-04, 9.99831915e-01],\n",
       "       [3.13520432e-05, 9.99968648e-01],\n",
       "       [1.25406444e-01, 8.74593556e-01],\n",
       "       [1.40666962e-05, 9.99985933e-01],\n",
       "       [2.03514099e-03, 9.97964859e-01],\n",
       "       [4.02927399e-05, 9.99959707e-01],\n",
       "       [1.41978264e-04, 9.99858022e-01],\n",
       "       [6.70164824e-03, 9.93298352e-01],\n",
       "       [2.00271606e-05, 9.99979973e-01],\n",
       "       [4.34374809e-03, 9.95656252e-01],\n",
       "       [1.54972076e-06, 9.99998450e-01],\n",
       "       [1.54495239e-04, 9.99845505e-01],\n",
       "       [2.83944607e-03, 9.97160554e-01],\n",
       "       [8.80116224e-03, 9.91198838e-01],\n",
       "       [6.37769699e-05, 9.99936223e-01],\n",
       "       [3.88145447e-03, 9.96118546e-01],\n",
       "       [8.18312168e-04, 9.99181688e-01],\n",
       "       [2.78729200e-03, 9.97212708e-01],\n",
       "       [2.71439910e-01, 7.28560090e-01],\n",
       "       [4.73380089e-04, 9.99526620e-01],\n",
       "       [7.15255737e-07, 9.99999285e-01],\n",
       "       [9.08225775e-03, 9.90917742e-01],\n",
       "       [1.57335997e-02, 9.84266400e-01],\n",
       "       [4.76837158e-07, 9.99999523e-01],\n",
       "       [2.51591206e-04, 9.99748409e-01],\n",
       "       [4.76837158e-07, 9.99999523e-01],\n",
       "       [1.45435333e-05, 9.99985456e-01],\n",
       "       [1.10864639e-05, 9.99988914e-01],\n",
       "       [3.15308571e-04, 9.99684691e-01],\n",
       "       [1.15188062e-01, 8.84811938e-01],\n",
       "       [5.31971455e-04, 9.99468029e-01],\n",
       "       [1.37208104e-01, 8.62791896e-01],\n",
       "       [9.63052571e-01, 3.69474329e-02],\n",
       "       [1.42931938e-04, 9.99857068e-01],\n",
       "       [1.15047693e-02, 9.88495231e-01],\n",
       "       [2.83718109e-05, 9.99971628e-01],\n",
       "       [4.88758087e-05, 9.99951124e-01],\n",
       "       [1.20162964e-04, 9.99879837e-01],\n",
       "       [9.87052917e-05, 9.99901295e-01],\n",
       "       [4.80961800e-03, 9.95190382e-01],\n",
       "       [1.71543956e-02, 9.82845604e-01],\n",
       "       [2.14536786e-02, 9.78546321e-01],\n",
       "       [1.07288361e-05, 9.99989271e-01],\n",
       "       [4.29153442e-05, 9.99957085e-01],\n",
       "       [9.77516174e-06, 9.99990225e-01],\n",
       "       [5.00679016e-06, 9.99994993e-01],\n",
       "       [6.90221786e-05, 9.99930978e-01],\n",
       "       [4.29153442e-06, 9.99995708e-01],\n",
       "       [6.93678856e-04, 9.99306321e-01],\n",
       "       [5.43594360e-05, 9.99945641e-01],\n",
       "       [9.31024551e-05, 9.99906898e-01],\n",
       "       [8.12456548e-01, 1.87543452e-01],\n",
       "       [5.71012497e-05, 9.99942899e-01],\n",
       "       [9.48905945e-05, 9.99905109e-01],\n",
       "       [7.26449490e-03, 9.92735505e-01],\n",
       "       [9.90357161e-01, 9.64286923e-03],\n",
       "       [1.66893005e-06, 9.99998331e-01],\n",
       "       [2.01165676e-04, 9.99798834e-01],\n",
       "       [4.17232513e-06, 9.99995828e-01],\n",
       "       [2.43769288e-02, 9.75623071e-01],\n",
       "       [6.24656677e-05, 9.99937534e-01],\n",
       "       [1.93194747e-02, 9.80680525e-01],\n",
       "       [4.64916229e-06, 9.99995351e-01],\n",
       "       [4.20808792e-05, 9.99957919e-01],\n",
       "       [3.49998474e-03, 9.96500015e-01],\n",
       "       [3.39746475e-05, 9.99966025e-01],\n",
       "       [9.77516174e-06, 9.99990225e-01],\n",
       "       [1.91390514e-04, 9.99808609e-01],\n",
       "       [8.01086426e-05, 9.99919891e-01],\n",
       "       [6.53326511e-04, 9.99346673e-01],\n",
       "       [2.54350901e-03, 9.97456491e-01],\n",
       "       [4.99606133e-04, 9.99500394e-01],\n",
       "       [2.40463018e-03, 9.97595370e-01],\n",
       "       [7.41279721e-02, 9.25872028e-01],\n",
       "       [7.02619553e-03, 9.92973804e-01],\n",
       "       [9.99954402e-01, 4.55993686e-05],\n",
       "       [3.88622284e-05, 9.99961138e-01],\n",
       "       [2.54160166e-03, 9.97458398e-01],\n",
       "       [1.88648701e-04, 9.99811351e-01],\n",
       "       [4.70876694e-05, 9.99952912e-01],\n",
       "       [9.73166406e-01, 2.68335715e-02],\n",
       "       [9.72320855e-01, 2.76791565e-02],\n",
       "       [5.76972961e-05, 9.99942303e-01],\n",
       "       [7.62483835e-01, 2.37516165e-01],\n",
       "       [1.27673149e-04, 9.99872327e-01],\n",
       "       [8.10623169e-06, 9.99991894e-01],\n",
       "       [1.00018382e-02, 9.89998162e-01],\n",
       "       [6.58035278e-05, 9.99934196e-01],\n",
       "       [1.49726868e-04, 9.99850273e-01],\n",
       "       [3.26633453e-05, 9.99967337e-01],\n",
       "       [2.84612179e-04, 9.99715388e-01],\n",
       "       [2.22665071e-03, 9.97773349e-01],\n",
       "       [5.82933426e-04, 9.99417067e-01],\n",
       "       [4.23491001e-04, 9.99576509e-01],\n",
       "       [1.10846519e-01, 8.89153481e-01],\n",
       "       [3.43060493e-03, 9.96569395e-01],\n",
       "       [1.55210495e-03, 9.98447895e-01],\n",
       "       [4.12464142e-05, 9.99958754e-01],\n",
       "       [1.96397305e-04, 9.99803603e-01],\n",
       "       [1.96695328e-05, 9.99980330e-01],\n",
       "       [1.22547150e-04, 9.99877453e-01],\n",
       "       [8.52346420e-05, 9.99914765e-01],\n",
       "       [4.22418118e-04, 9.99577582e-01],\n",
       "       [6.19888306e-05, 9.99938011e-01],\n",
       "       [3.06844711e-04, 9.99693155e-01],\n",
       "       [4.80175018e-04, 9.99519825e-01],\n",
       "       [1.66541338e-03, 9.98334587e-01],\n",
       "       [3.48353386e-03, 9.96516466e-01],\n",
       "       [8.72385263e-01, 1.27614766e-01],\n",
       "       [6.70790672e-04, 9.99329209e-01],\n",
       "       [4.36127186e-04, 9.99563873e-01],\n",
       "       [8.50367546e-03, 9.91496325e-01],\n",
       "       [9.26114500e-01, 7.38854930e-02],\n",
       "       [8.73804092e-05, 9.99912620e-01],\n",
       "       [1.01516843e-02, 9.89848316e-01],\n",
       "       [4.30285931e-04, 9.99569714e-01],\n",
       "       [1.93119049e-05, 9.99980688e-01],\n",
       "       [7.72476196e-05, 9.99922752e-01],\n",
       "       [2.38418579e-07, 9.99999762e-01],\n",
       "       [4.76837158e-07, 9.99999523e-01],\n",
       "       [3.28445435e-03, 9.96715546e-01],\n",
       "       [9.94797289e-01, 5.20270504e-03],\n",
       "       [7.91490078e-04, 9.99208510e-01],\n",
       "       [9.64571595e-01, 3.54284048e-02],\n",
       "       [4.75645065e-04, 9.99524355e-01],\n",
       "       [6.16562366e-03, 9.93834376e-01],\n",
       "       [2.40530968e-01, 7.59469032e-01],\n",
       "       [3.17681134e-01, 6.82318866e-01],\n",
       "       [3.51190567e-04, 9.99648809e-01],\n",
       "       [1.02937222e-03, 9.98970628e-01],\n",
       "       [8.72976780e-02, 9.12702322e-01],\n",
       "       [1.78033113e-03, 9.98219669e-01],\n",
       "       [9.33321416e-01, 6.66785911e-02],\n",
       "       [4.05311584e-06, 9.99995947e-01],\n",
       "       [6.06411695e-03, 9.93935883e-01],\n",
       "       [7.48634338e-05, 9.99925137e-01],\n",
       "       [1.38998032e-04, 9.99861002e-01],\n",
       "       [9.57298279e-03, 9.90427017e-01],\n",
       "       [2.67028809e-05, 9.99973297e-01],\n",
       "       [9.41753387e-06, 9.99990582e-01],\n",
       "       [3.17454338e-04, 9.99682546e-01],\n",
       "       [5.47826290e-04, 9.99452174e-01],\n",
       "       [6.76423311e-03, 9.93235767e-01],\n",
       "       [2.37218142e-02, 9.76278186e-01],\n",
       "       [3.73125076e-05, 9.99962687e-01],\n",
       "       [7.53809571e-01, 2.46190429e-01]], dtype=float32)"
      ]
     },
     "execution_count": 36,
     "metadata": {},
     "output_type": "execute_result"
    }
   ],
   "source": [
    "model.predict_proba(X_test)"
   ]
  },
  {
   "cell_type": "code",
   "execution_count": null,
   "metadata": {},
   "outputs": [],
   "source": [
    "predict_proba"
   ]
  },
  {
   "cell_type": "code",
   "execution_count": null,
   "metadata": {},
   "outputs": [],
   "source": []
  },
  {
   "cell_type": "code",
   "execution_count": 25,
   "metadata": {},
   "outputs": [
    {
     "data": {
      "text/plain": [
       "1    269\n",
       "0     13\n",
       "Name: VideoAnalyse, dtype: int64"
      ]
     },
     "execution_count": 25,
     "metadata": {},
     "output_type": "execute_result"
    }
   ],
   "source": [
    "df_testing['VideoAnalyse'].value_counts()"
   ]
  },
  {
   "cell_type": "code",
   "execution_count": 26,
   "metadata": {},
   "outputs": [
    {
     "name": "stderr",
     "output_type": "stream",
     "text": [
      "100%|████████████████████████████████████████████████████████████████████████████████████| 2/2 [00:00<00:00, 41.57it/s]\n"
     ]
    },
    {
     "data": {
      "text/plain": [
       "[[('ID14', 'ID1', 'ID5', 'ID8', 'ID17', 'ID10'),\n",
       "  ('ID2', 'ID7', 'ID9', 'ID11', 'ID16', 'ID6')],\n",
       " [('ID9', 'ID11', 'ID1', 'ID12', 'ID3', 'ID16'),\n",
       "  ('ID14', 'ID2', 'ID4', 'ID5', 'ID10', 'ID6')],\n",
       " [('ID14', 'ID15', 'ID1', 'ID12', 'ID4', 'ID13'),\n",
       "  ('ID7', 'ID3', 'ID5', 'ID8', 'ID17', 'ID6')]]"
      ]
     },
     "execution_count": 26,
     "metadata": {},
     "output_type": "execute_result"
    }
   ],
   "source": [
    "##########################################################################################################\n",
    "################################# select pairs' combinations of batches ##################################\n",
    "##########################################################################################################\n",
    "\n",
    "#number of combination's pair to run for each size\n",
    "nbr_comb = 4\n",
    "#minimum nbr of batches to have in a run\n",
    "min_nbr_batch = 6 #5 is the minimum for transition reliability\n",
    "\n",
    "#compute all possible batch combinations of any size\n",
    "li_batch = df_testing['BatchID'].unique()\n",
    "li_batch_combination = list(all_subsets(li_batch))\n",
    "\n",
    "#list of distinct pairs of batch combinations of different size\n",
    "li_selected_combination_pairs = []\n",
    "#to have distinct pairs, we cant do more than half of what we have\n",
    "for nbr_batch in tqdm.tqdm(range(min_nbr_batch, int(len(li_batch)/2))):\n",
    "    li_sel = []\n",
    "    li = [x for x in li_batch_combination if len(x)==nbr_batch]\n",
    "    while len(li_sel)!=nbr_comb:\n",
    "        li = shuffle(li)\n",
    "        x1 = li[0]\n",
    "        for l in li:\n",
    "            if 2*len(l)==len(set(l+x1)):\n",
    "                li_sel.append([x1,l])\n",
    "                #ensure we dont use the sme twice\n",
    "                li.remove(l) ; li.remove(x1)\n",
    "                break\n",
    "    li_selected_combination_pairs.extend(li_sel)\n",
    "#do the one with all batches for final outputs\n",
    "li_selected_combination_pairs.append([tuple(li_batch),tuple(li_batch)])\n",
    "li_selected_combination_pairs[0:3]"
   ]
  },
  {
   "cell_type": "code",
   "execution_count": 28,
   "metadata": {},
   "outputs": [
    {
     "name": "stderr",
     "output_type": "stream",
     "text": [
      "  0%|                                                                                            | 0/9 [00:00<?, ?it/s]C:\\Users\\camil\\Anaconda3\\lib\\site-packages\\ipykernel_launcher.py:100: FutureWarning: Indexing with multiple keys (implicitly converted to a tuple of keys) will be deprecated, use a list instead.\n"
     ]
    },
    {
     "name": "stdout",
     "output_type": "stream",
     "text": [
      "(30, 6)\n",
      "(83, 39) (34200, 9) (30, 6)\n"
     ]
    },
    {
     "name": "stderr",
     "output_type": "stream",
     "text": [
      "C:\\Users\\camil\\Anaconda3\\lib\\site-packages\\ipykernel_launcher.py:100: FutureWarning: Indexing with multiple keys (implicitly converted to a tuple of keys) will be deprecated, use a list instead.\n"
     ]
    },
    {
     "name": "stdout",
     "output_type": "stream",
     "text": [
      "(30, 6)\n",
      "(98, 39) (36000, 9) (30, 6)\n"
     ]
    },
    {
     "name": "stderr",
     "output_type": "stream",
     "text": [
      " 11%|█████████▎                                                                          | 1/9 [00:38<05:10, 38.82s/it]C:\\Users\\camil\\Anaconda3\\lib\\site-packages\\ipykernel_launcher.py:100: FutureWarning: Indexing with multiple keys (implicitly converted to a tuple of keys) will be deprecated, use a list instead.\n"
     ]
    },
    {
     "name": "stdout",
     "output_type": "stream",
     "text": [
      "(30, 6)\n",
      "(114, 39) (39960, 9) (30, 6)\n"
     ]
    },
    {
     "name": "stderr",
     "output_type": "stream",
     "text": [
      "C:\\Users\\camil\\Anaconda3\\lib\\site-packages\\sklearn\\metrics\\_classification.py:1221: UndefinedMetricWarning: Recall and F-score are ill-defined and being set to 0.0 in labels with no true samples. Use `zero_division` parameter to control this behavior.\n",
      "  _warn_prf(average, modifier, msg_start, len(result))\n",
      "C:\\Users\\camil\\Anaconda3\\lib\\site-packages\\ipykernel_launcher.py:100: FutureWarning: Indexing with multiple keys (implicitly converted to a tuple of keys) will be deprecated, use a list instead.\n"
     ]
    },
    {
     "name": "stdout",
     "output_type": "stream",
     "text": [
      "(30, 6)\n",
      "(103, 39) (31620, 9) (30, 6)\n"
     ]
    },
    {
     "name": "stderr",
     "output_type": "stream",
     "text": [
      " 22%|██████████████████▋                                                                 | 2/9 [01:18<04:33, 39.03s/it]C:\\Users\\camil\\Anaconda3\\lib\\site-packages\\ipykernel_launcher.py:100: FutureWarning: Indexing with multiple keys (implicitly converted to a tuple of keys) will be deprecated, use a list instead.\n"
     ]
    },
    {
     "name": "stdout",
     "output_type": "stream",
     "text": [
      "(24, 6)\n",
      "(143, 39) (36900, 9) (24, 6)\n"
     ]
    },
    {
     "name": "stderr",
     "output_type": "stream",
     "text": [
      "C:\\Users\\camil\\Anaconda3\\lib\\site-packages\\ipykernel_launcher.py:100: FutureWarning: Indexing with multiple keys (implicitly converted to a tuple of keys) will be deprecated, use a list instead.\n"
     ]
    },
    {
     "name": "stdout",
     "output_type": "stream",
     "text": [
      "(30, 6)\n",
      "(49, 39) (28680, 9) (30, 6)\n"
     ]
    },
    {
     "name": "stderr",
     "output_type": "stream",
     "text": [
      " 33%|████████████████████████████                                                        | 3/9 [01:56<03:52, 38.76s/it]C:\\Users\\camil\\Anaconda3\\lib\\site-packages\\ipykernel_launcher.py:100: FutureWarning: Indexing with multiple keys (implicitly converted to a tuple of keys) will be deprecated, use a list instead.\n"
     ]
    },
    {
     "name": "stdout",
     "output_type": "stream",
     "text": [
      "(30, 6)\n",
      "(107, 39) (33360, 9) (30, 6)\n"
     ]
    },
    {
     "name": "stderr",
     "output_type": "stream",
     "text": [
      "C:\\Users\\camil\\Anaconda3\\lib\\site-packages\\sklearn\\metrics\\_classification.py:1221: UndefinedMetricWarning: Recall and F-score are ill-defined and being set to 0.0 in labels with no true samples. Use `zero_division` parameter to control this behavior.\n",
      "  _warn_prf(average, modifier, msg_start, len(result))\n",
      "C:\\Users\\camil\\Anaconda3\\lib\\site-packages\\ipykernel_launcher.py:100: FutureWarning: Indexing with multiple keys (implicitly converted to a tuple of keys) will be deprecated, use a list instead.\n"
     ]
    },
    {
     "name": "stdout",
     "output_type": "stream",
     "text": [
      "(30, 6)\n",
      "(82, 39) (33600, 9) (30, 6)\n"
     ]
    },
    {
     "name": "stderr",
     "output_type": "stream",
     "text": [
      "C:\\Users\\camil\\Anaconda3\\lib\\site-packages\\pingouin\\parametric.py:978: RuntimeWarning: divide by zero encountered in double_scalars\n",
      "  fval = msbetween / mserror\n",
      " 44%|█████████████████████████████████████▎                                              | 4/9 [02:33<03:11, 38.28s/it]C:\\Users\\camil\\Anaconda3\\lib\\site-packages\\ipykernel_launcher.py:100: FutureWarning: Indexing with multiple keys (implicitly converted to a tuple of keys) will be deprecated, use a list instead.\n"
     ]
    },
    {
     "name": "stdout",
     "output_type": "stream",
     "text": [
      "(35, 6)\n",
      "(114, 39) (41400, 9) (35, 6)\n"
     ]
    },
    {
     "name": "stderr",
     "output_type": "stream",
     "text": [
      "C:\\Users\\camil\\Anaconda3\\lib\\site-packages\\sklearn\\metrics\\_classification.py:1221: UndefinedMetricWarning: Recall and F-score are ill-defined and being set to 0.0 in labels with no true samples. Use `zero_division` parameter to control this behavior.\n",
      "  _warn_prf(average, modifier, msg_start, len(result))\n",
      "C:\\Users\\camil\\Anaconda3\\lib\\site-packages\\ipykernel_launcher.py:100: FutureWarning: Indexing with multiple keys (implicitly converted to a tuple of keys) will be deprecated, use a list instead.\n"
     ]
    },
    {
     "name": "stdout",
     "output_type": "stream",
     "text": [
      "(35, 6)\n",
      "(113, 39) (37380, 9) (35, 6)\n"
     ]
    },
    {
     "name": "stderr",
     "output_type": "stream",
     "text": [
      " 56%|██████████████████████████████████████████████▋                                     | 5/9 [03:19<02:42, 40.51s/it]C:\\Users\\camil\\Anaconda3\\lib\\site-packages\\ipykernel_launcher.py:100: FutureWarning: Indexing with multiple keys (implicitly converted to a tuple of keys) will be deprecated, use a list instead.\n"
     ]
    },
    {
     "name": "stdout",
     "output_type": "stream",
     "text": [
      "(35, 6)\n",
      "(118, 39) (46080, 9) (35, 6)\n"
     ]
    },
    {
     "name": "stderr",
     "output_type": "stream",
     "text": [
      "C:\\Users\\camil\\Anaconda3\\lib\\site-packages\\sklearn\\metrics\\_classification.py:1221: UndefinedMetricWarning: Recall and F-score are ill-defined and being set to 0.0 in labels with no true samples. Use `zero_division` parameter to control this behavior.\n",
      "  _warn_prf(average, modifier, msg_start, len(result))\n",
      "C:\\Users\\camil\\Anaconda3\\lib\\site-packages\\ipykernel_launcher.py:100: FutureWarning: Indexing with multiple keys (implicitly converted to a tuple of keys) will be deprecated, use a list instead.\n"
     ]
    },
    {
     "name": "stdout",
     "output_type": "stream",
     "text": [
      "(35, 6)\n",
      "(140, 39) (39420, 9) (35, 6)\n"
     ]
    },
    {
     "name": "stderr",
     "output_type": "stream",
     "text": [
      " 67%|████████████████████████████████████████████████████████                            | 6/9 [04:05<02:06, 42.09s/it]C:\\Users\\camil\\Anaconda3\\lib\\site-packages\\ipykernel_launcher.py:100: FutureWarning: Indexing with multiple keys (implicitly converted to a tuple of keys) will be deprecated, use a list instead.\n"
     ]
    },
    {
     "name": "stdout",
     "output_type": "stream",
     "text": [
      "(35, 6)\n",
      "(116, 39) (43200, 9) (35, 6)\n"
     ]
    },
    {
     "name": "stderr",
     "output_type": "stream",
     "text": [
      "C:\\Users\\camil\\Anaconda3\\lib\\site-packages\\ipykernel_launcher.py:100: FutureWarning: Indexing with multiple keys (implicitly converted to a tuple of keys) will be deprecated, use a list instead.\n"
     ]
    },
    {
     "name": "stdout",
     "output_type": "stream",
     "text": [
      "(35, 6)\n",
      "(114, 39) (34980, 9) (35, 6)\n"
     ]
    },
    {
     "name": "stderr",
     "output_type": "stream",
     "text": [
      " 78%|█████████████████████████████████████████████████████████████████▎                  | 7/9 [04:49<01:25, 42.78s/it]C:\\Users\\camil\\Anaconda3\\lib\\site-packages\\ipykernel_launcher.py:100: FutureWarning: Indexing with multiple keys (implicitly converted to a tuple of keys) will be deprecated, use a list instead.\n"
     ]
    },
    {
     "name": "stdout",
     "output_type": "stream",
     "text": [
      "(35, 6)\n",
      "(95, 39) (37920, 9) (35, 6)\n"
     ]
    },
    {
     "name": "stderr",
     "output_type": "stream",
     "text": [
      "C:\\Users\\camil\\Anaconda3\\lib\\site-packages\\sklearn\\metrics\\_classification.py:1221: UndefinedMetricWarning: Precision and F-score are ill-defined and being set to 0.0 in labels with no predicted samples. Use `zero_division` parameter to control this behavior.\n",
      "  _warn_prf(average, modifier, msg_start, len(result))\n",
      "C:\\Users\\camil\\Anaconda3\\lib\\site-packages\\ipykernel_launcher.py:100: FutureWarning: Indexing with multiple keys (implicitly converted to a tuple of keys) will be deprecated, use a list instead.\n"
     ]
    },
    {
     "name": "stdout",
     "output_type": "stream",
     "text": [
      "(35, 6)\n",
      "(122, 39) (46560, 9) (35, 6)\n"
     ]
    },
    {
     "name": "stderr",
     "output_type": "stream",
     "text": [
      " 89%|██████████████████████████████████████████████████████████████████████████▋         | 8/9 [05:43<00:46, 46.28s/it]C:\\Users\\camil\\Anaconda3\\lib\\site-packages\\ipykernel_launcher.py:100: FutureWarning: Indexing with multiple keys (implicitly converted to a tuple of keys) will be deprecated, use a list instead.\n"
     ]
    },
    {
     "name": "stdout",
     "output_type": "stream",
     "text": [
      "(85, 6)\n",
      "(282, 39) (98640, 9) (85, 6)\n"
     ]
    },
    {
     "name": "stderr",
     "output_type": "stream",
     "text": [
      "C:\\Users\\camil\\Anaconda3\\lib\\site-packages\\pingouin\\parametric.py:978: RuntimeWarning: divide by zero encountered in double_scalars\n",
      "  fval = msbetween / mserror\n",
      "C:\\Users\\camil\\Anaconda3\\lib\\site-packages\\pingouin\\parametric.py:978: RuntimeWarning: divide by zero encountered in double_scalars\n",
      "  fval = msbetween / mserror\n",
      "\n",
      "  0%|                                                                                           | 0/17 [00:00<?, ?it/s]\u001b[A\n",
      "  6%|████▉                                                                              | 1/17 [00:02<00:34,  2.16s/it]\u001b[A\n",
      " 12%|█████████▊                                                                         | 2/17 [00:04<00:31,  2.08s/it]\u001b[A\n",
      " 18%|██████████████▋                                                                    | 3/17 [00:06<00:29,  2.08s/it]\u001b[A\n",
      " 24%|███████████████████▌                                                               | 4/17 [00:08<00:26,  2.03s/it]\u001b[A\n",
      " 29%|████████████████████████▍                                                          | 5/17 [00:09<00:23,  1.93s/it]\u001b[A\n",
      " 35%|█████████████████████████████▎                                                     | 6/17 [00:12<00:22,  2.03s/it]\u001b[A\n",
      " 41%|██████████████████████████████████▏                                                | 7/17 [00:13<00:19,  1.99s/it]\u001b[A\n",
      " 47%|███████████████████████████████████████                                            | 8/17 [00:15<00:17,  1.95s/it]\u001b[A\n",
      " 53%|███████████████████████████████████████████▉                                       | 9/17 [00:17<00:14,  1.78s/it]\u001b[A\n",
      " 59%|████████████████████████████████████████████████▏                                 | 10/17 [00:19<00:13,  1.91s/it]\u001b[A\n",
      " 65%|█████████████████████████████████████████████████████                             | 11/17 [00:21<00:11,  1.92s/it]\u001b[A\n",
      " 71%|█████████████████████████████████████████████████████████▉                        | 12/17 [00:23<00:09,  1.89s/it]\u001b[A\n",
      " 76%|██████████████████████████████████████████████████████████████▋                   | 13/17 [00:25<00:07,  1.92s/it]\u001b[A\n",
      " 82%|███████████████████████████████████████████████████████████████████▌              | 14/17 [00:26<00:05,  1.71s/it]\u001b[A\n",
      " 88%|████████████████████████████████████████████████████████████████████████▎         | 15/17 [00:28<00:03,  1.80s/it]\u001b[A\n",
      " 94%|█████████████████████████████████████████████████████████████████████████████▏    | 16/17 [00:30<00:01,  1.89s/it]\u001b[A\n",
      "100%|██████████████████████████████████████████████████████████████████████████████████| 17/17 [00:32<00:00,  1.91s/it]\u001b[A\n",
      "100%|████████████████████████████████████████████████████████████████████████████████████| 9/9 [07:13<00:00, 48.21s/it]"
     ]
    },
    {
     "name": "stdout",
     "output_type": "stream",
     "text": [
      "Total running time: 7.23 mn\n"
     ]
    },
    {
     "name": "stderr",
     "output_type": "stream",
     "text": [
      "\n"
     ]
    },
    {
     "data": {
      "text/html": [
       "<div>\n",
       "<style scoped>\n",
       "    .dataframe tbody tr th:only-of-type {\n",
       "        vertical-align: middle;\n",
       "    }\n",
       "\n",
       "    .dataframe tbody tr th {\n",
       "        vertical-align: top;\n",
       "    }\n",
       "\n",
       "    .dataframe thead th {\n",
       "        text-align: right;\n",
       "    }\n",
       "</style>\n",
       "<table border=\"1\" class=\"dataframe\">\n",
       "  <thead>\n",
       "    <tr style=\"text-align: right;\">\n",
       "      <th></th>\n",
       "      <th>accuracy</th>\n",
       "      <th>ICC</th>\n",
       "      <th>kappa</th>\n",
       "      <th>runID</th>\n",
       "      <th>method</th>\n",
       "      <th>reliability_type</th>\n",
       "    </tr>\n",
       "  </thead>\n",
       "  <tbody>\n",
       "    <tr>\n",
       "      <th>0</th>\n",
       "      <td>0.963855</td>\n",
       "      <td>NaN</td>\n",
       "      <td>0.647808</td>\n",
       "      <td>84636466-30c7-11eb-bd1e-9822ef705bb4</td>\n",
       "      <td>model_ObservedZone</td>\n",
       "      <td>records-01</td>\n",
       "    </tr>\n",
       "    <tr>\n",
       "      <th>1</th>\n",
       "      <td>0.951807</td>\n",
       "      <td>NaN</td>\n",
       "      <td>0.919768</td>\n",
       "      <td>84636466-30c7-11eb-bd1e-9822ef705bb4</td>\n",
       "      <td>Zone</td>\n",
       "      <td>records-zone</td>\n",
       "    </tr>\n",
       "    <tr>\n",
       "      <th>2</th>\n",
       "      <td>0.963855</td>\n",
       "      <td>NaN</td>\n",
       "      <td>0.940402</td>\n",
       "      <td>84636466-30c7-11eb-bd1e-9822ef705bb4</td>\n",
       "      <td>model_ObservedZone</td>\n",
       "      <td>records-zone</td>\n",
       "    </tr>\n",
       "    <tr>\n",
       "      <th>3</th>\n",
       "      <td>0.998655</td>\n",
       "      <td>NaN</td>\n",
       "      <td>0.997787</td>\n",
       "      <td>84636466-30c7-11eb-bd1e-9822ef705bb4</td>\n",
       "      <td>Zone</td>\n",
       "      <td>duration_1secTS</td>\n",
       "    </tr>\n",
       "    <tr>\n",
       "      <th>4</th>\n",
       "      <td>0.990556</td>\n",
       "      <td>NaN</td>\n",
       "      <td>0.984319</td>\n",
       "      <td>84636466-30c7-11eb-bd1e-9822ef705bb4</td>\n",
       "      <td>model_ObservedZone</td>\n",
       "      <td>duration_1secTS</td>\n",
       "    </tr>\n",
       "    <tr>\n",
       "      <th>...</th>\n",
       "      <td>...</td>\n",
       "      <td>...</td>\n",
       "      <td>...</td>\n",
       "      <td>...</td>\n",
       "      <td>...</td>\n",
       "      <td>...</td>\n",
       "    </tr>\n",
       "    <tr>\n",
       "      <th>163</th>\n",
       "      <td>NaN</td>\n",
       "      <td>0.989924</td>\n",
       "      <td>NaN</td>\n",
       "      <td>5165c42e-30c8-11eb-8467-9822ef705bb4</td>\n",
       "      <td>model_ObservedZone</td>\n",
       "      <td>transitions_4Zone</td>\n",
       "    </tr>\n",
       "    <tr>\n",
       "      <th>164</th>\n",
       "      <td>NaN</td>\n",
       "      <td>0.885057</td>\n",
       "      <td>NaN</td>\n",
       "      <td>5165c42e-30c8-11eb-8467-9822ef705bb4</td>\n",
       "      <td>binning_zone</td>\n",
       "      <td>transitions_4Zone</td>\n",
       "    </tr>\n",
       "    <tr>\n",
       "      <th>165</th>\n",
       "      <td>NaN</td>\n",
       "      <td>0.968127</td>\n",
       "      <td>NaN</td>\n",
       "      <td>5165c42e-30c8-11eb-8467-9822ef705bb4</td>\n",
       "      <td>Zone</td>\n",
       "      <td>transitions_5Zone</td>\n",
       "    </tr>\n",
       "    <tr>\n",
       "      <th>166</th>\n",
       "      <td>NaN</td>\n",
       "      <td>0.968127</td>\n",
       "      <td>NaN</td>\n",
       "      <td>5165c42e-30c8-11eb-8467-9822ef705bb4</td>\n",
       "      <td>model_ObservedZone</td>\n",
       "      <td>transitions_5Zone</td>\n",
       "    </tr>\n",
       "    <tr>\n",
       "      <th>167</th>\n",
       "      <td>NaN</td>\n",
       "      <td>1.000000</td>\n",
       "      <td>NaN</td>\n",
       "      <td>5165c42e-30c8-11eb-8467-9822ef705bb4</td>\n",
       "      <td>binning_zone</td>\n",
       "      <td>transitions_5Zone</td>\n",
       "    </tr>\n",
       "  </tbody>\n",
       "</table>\n",
       "<p>168 rows × 6 columns</p>\n",
       "</div>"
      ],
      "text/plain": [
       "     accuracy       ICC     kappa                                 runID  \\\n",
       "0    0.963855       NaN  0.647808  84636466-30c7-11eb-bd1e-9822ef705bb4   \n",
       "1    0.951807       NaN  0.919768  84636466-30c7-11eb-bd1e-9822ef705bb4   \n",
       "2    0.963855       NaN  0.940402  84636466-30c7-11eb-bd1e-9822ef705bb4   \n",
       "3    0.998655       NaN  0.997787  84636466-30c7-11eb-bd1e-9822ef705bb4   \n",
       "4    0.990556       NaN  0.984319  84636466-30c7-11eb-bd1e-9822ef705bb4   \n",
       "..        ...       ...       ...                                   ...   \n",
       "163       NaN  0.989924       NaN  5165c42e-30c8-11eb-8467-9822ef705bb4   \n",
       "164       NaN  0.885057       NaN  5165c42e-30c8-11eb-8467-9822ef705bb4   \n",
       "165       NaN  0.968127       NaN  5165c42e-30c8-11eb-8467-9822ef705bb4   \n",
       "166       NaN  0.968127       NaN  5165c42e-30c8-11eb-8467-9822ef705bb4   \n",
       "167       NaN  1.000000       NaN  5165c42e-30c8-11eb-8467-9822ef705bb4   \n",
       "\n",
       "                 method   reliability_type  \n",
       "0    model_ObservedZone         records-01  \n",
       "1                  Zone       records-zone  \n",
       "2    model_ObservedZone       records-zone  \n",
       "3                  Zone    duration_1secTS  \n",
       "4    model_ObservedZone    duration_1secTS  \n",
       "..                  ...                ...  \n",
       "163  model_ObservedZone  transitions_4Zone  \n",
       "164        binning_zone  transitions_4Zone  \n",
       "165                Zone  transitions_5Zone  \n",
       "166  model_ObservedZone  transitions_5Zone  \n",
       "167        binning_zone  transitions_5Zone  \n",
       "\n",
       "[168 rows x 6 columns]"
      ]
     },
     "execution_count": 28,
     "metadata": {},
     "output_type": "execute_result"
    }
   ],
   "source": [
    "###############################################################################################################################\n",
    "###############################################################################################################################\n",
    "############################################# RUN OVER SEVERAL BATCH COMBINATIONS #############################################\n",
    "###############################################################################################################################\n",
    "###############################################################################################################################\n",
    "\n",
    "#start recording the time it last\n",
    "START_TIME = time.clock()\n",
    "li_df  = []\n",
    "is_done = False\n",
    "for li_batch1, li_batch2 in tqdm.tqdm(li_selected_combination_pairs):\n",
    "    \n",
    "    #select a unique runID per pair of batch combination\n",
    "    runID = uuid.uuid1()\n",
    "    nbr_b = len(li_batch1)\n",
    "    \n",
    "    for i,li_batch in enumerate([li_batch1, li_batch2]):\n",
    "        #dont do the second batch if its the same as the first one, i.e. if its the final output, but print visuals\n",
    "        if (li_batch1==li_batch2) & (is_done==True):\n",
    "            #to sort the yaxis\n",
    "            dico_zone_order = {'1Zone':0,\n",
    "                               '2Zone':1,\n",
    "                               '3Zone':2,\n",
    "                               '4Zone':3,\n",
    "                               '5Zone':4}\n",
    "\n",
    "            #create path where to save if not existing yet\n",
    "            path_ = os.path.join(path_extracted_data_cleaning,'TimeSeriesPlot')\n",
    "            #create a director if not existing\n",
    "            if not os.path.exists(path_):\n",
    "                os.makedirs(path_) \n",
    "\n",
    "            li_ts = ['Zone','model_ObservedZone','ObservedZone','binning_zone']\n",
    "            #for each batch draw 4 timeseries\n",
    "            for BatchID, df_plt in tqdm.tqdm(df_final.groupby(['BatchID'])):\n",
    "                df_plt = df_plt.sort_values(['Timestamp']).copy()\n",
    "                l = len(li_ts) ; c = 1\n",
    "                fig = plt.figure(figsize=(c*5, l*1))\n",
    "                for i,v in enumerate(li_ts):\n",
    "                    df_plt[v] = df_plt[v].map(lambda x: int(dico_zone_order[x]))       \n",
    "                    plt.subplot(l,c,i+1)\n",
    "                    plt.plot(df_plt['Timestamp'].tolist(), df_plt[v].tolist())\n",
    "                    plt.xticks(fontsize=4)\n",
    "                    plt.yticks(fontsize=4)\n",
    "                    plt.title(v+' '+BatchID, size=7)\n",
    "                plt.savefig(os.path.join(path_extracted_data_cleaning, BatchID+'.png'), format='png', bbox_inches='tight', dpi=300)\n",
    "                plt.clf()\n",
    "                plt.close(\"all\")                      \n",
    "            \n",
    "            break\n",
    "            \n",
    "        df_testing_ = df_testing[df_testing['BatchID'].isin(li_batch)].copy()\n",
    "        ##########################################################################################################\n",
    "        ########################################### create duration TS ###########################################\n",
    "        ##########################################################################################################\n",
    "        li_df_dur = []\n",
    "        li_col = ['Zone','VideoAnalyse','model_ObservedZone','ObservedZone','PenID','HenID','Timestamp','BatchID']\n",
    "        for BatchID,df_ in df_testing_[li_col].groupby(['BatchID']):\n",
    "            df_ = df_.sort_values('Timestamp',ascending=True)\n",
    "            #select the list of timestamp we want (i.e. at one second level)\n",
    "            mi = min(df_['Timestamp'].tolist())\n",
    "            ma = max(df_['Timestamp'].tolist())\n",
    "            #extend the daterange if the batch is in dico_BatchID_endhour\n",
    "            if BatchID in dico_BatchID_endhour.keys():\n",
    "                ma = dt.datetime(ma.year,ma.month,ma.day,dico_BatchID_endhour[BatchID],0,0)\n",
    "            #print(mi, ma)\n",
    "            Daterange = pd.date_range(start = mi+dt.timedelta(seconds=(60-mi.second)), \n",
    "                                      end = ma-dt.timedelta(seconds=(ma.second+1)), \n",
    "                                      freq = 'S') \n",
    "            #print(Daterange[0:2])\n",
    "            #print(Daterange[-2:])\n",
    "\n",
    "            ################### 1 sec ts: tracking method & model method & true observation\n",
    "            ### extend to 1 seconds level\n",
    "            #add missing seconds (i.e. all seconds that never had a record) and fillnan with last non-nan values by propagating last \n",
    "            # observation forward to next valHenIDmi = min(df_['Timestamp'].tolist())\n",
    "            df_.set_index('Timestamp', inplace=True)\n",
    "            df__ = df_.reindex(Daterange, method='ffill').reset_index()\n",
    "            #display(df__.head(5))\n",
    "            #display(df__.tail(5))\n",
    "            df__.rename(columns={'index':'Timestamp'}, inplace=True)\n",
    "            #display(df__.head(3))\n",
    "            df__.to_csv(os.path.join(path__,'1secTimeSeries'+str(BatchID)+'.csv'), sep=';', index=False)\n",
    "\n",
    "            ################### binning method at 60 sec period\n",
    "            #First take only the wanted timestamps (1 per seconds)\n",
    "            #due to the 60 sec period bining, we need to exclude some of the first and last seconds in order to take into account \n",
    "            #minutes for which we have the full information only\n",
    "            DaterangeBIN = [Daterange[i] for i in range(len(Daterange)) if i%60==0]\n",
    "            #add new timestamp to the initial file\n",
    "            df_date = pd.DataFrame({'New_Timestamp':DaterangeBIN})\n",
    "            df_date['New_Timestamp'] = df_date['New_Timestamp'].map(lambda x: pd.to_datetime(x))\n",
    "            df_bin = pd.merge_asof(df__, df_date, left_on=['Timestamp'], right_on=['New_Timestamp'], direction='forward')\n",
    "\n",
    "            #Then bin the data\n",
    "            h = 'Zone'\n",
    "            df_bin = df_bin[[h,'New_Timestamp']].copy()\n",
    "            df_bin['nbr_sec'] = 1\n",
    "            df_bin = df_bin.groupby(['New_Timestamp',h])['nbr_sec'].sum().reset_index() #sum to count as we have seconds\n",
    "            df_bin = df_bin.groupby(['New_Timestamp'])[h,'nbr_sec'].agg(lambda x: tuple(x)).reset_index()\n",
    "            df_bin['most_frequent_zone'] = df_bin.apply(lambda x: x[h][x['nbr_sec'].index(max(x['nbr_sec']))], axis=1)\n",
    "            df_bin['nbr_duration_per_zone'] = df_bin.apply(lambda x: str({x[h][k]:x['nbr_sec'][k] for k in range(len(x[h]))}), axis=1)\n",
    "            df_bin['nbr_lost_duration_per_zone'] = df_bin['nbr_duration_per_zone'].map(lambda x: str({z:v for z,v in eval(x).items() if \\\n",
    "                                                                               v!=max(eval(x).values())}))\n",
    "            df_bin['nbr_lost_duration'] = df_bin['nbr_lost_duration_per_zone'].map(lambda x: sum(eval(x).values()))\n",
    "            df_bin['perc_lost_duration'] = df_bin['nbr_lost_duration'].map(lambda x: x/60*100)\n",
    "            df_bin['day'] = df_bin['New_Timestamp'].map(lambda x: dt.datetime(x.year,x.month,x.day))\n",
    "            df_bin.to_csv(os.path.join(path__ ,'bining'+str(BatchID)+'.csv'), sep=';', index=False)\n",
    "            #display(df_bin.head(3))    \n",
    "\n",
    "            #extend to 1sec ts\n",
    "            df_bin = df_bin[['most_frequent_zone','New_Timestamp']]\n",
    "            df_bin.set_index('New_Timestamp', inplace=True)\n",
    "            df_bin1sec = df_bin.reindex(Daterange, method='ffill').reset_index()\n",
    "            df_bin1sec.rename(columns={'index':'Timestamp','most_frequent_zone':'binning_zone'}, inplace=True)\n",
    "            df_bin1sec.to_csv(os.path.join(path__,'1secTimeSeries_bining'+str(BatchID)+'.csv'), sep=';', index=False)\n",
    "            #display(df_bin1sec.head(3))\n",
    "\n",
    "            #join with bining\n",
    "            df_final = pd.merge(df__, df_bin1sec, on=['Timestamp'], how='outer')\n",
    "            df_final.to_csv(os.path.join(path__,'1secTimeSeries_ALL_'+str(BatchID)+'.csv'), sep=';', index=False)\n",
    "            li_df_dur.append(df_final)\n",
    "        #concat all final 1sec into one big\n",
    "        df_final = pd.concat(li_df_dur)\n",
    "        df_final.to_csv(os.path.join(path_extracted_data_cleaning,'1secTimeSeries_reliability.csv'), sep=';', index=False)\n",
    "        #display(df_final.head(3))\n",
    "\n",
    "        ##########################################################################################################\n",
    "        ########################################### create duration TS ###########################################\n",
    "        ##########################################################################################################\n",
    "        #in case: total nbr of zone, issue: not enough observatoin for kappa test \n",
    "        #df_transition = df_final.groupby(['BatchID'])[['Zone','model_ObservedZone','ObservedZone',\n",
    "        #                                               'binning_zone']].agg(lambda x: len(list_of_zones(x))-1).reset_index()\n",
    "                \n",
    "        li_df_zone = []\n",
    "        for c in ['Zone','model_ObservedZone','ObservedZone','binning_zone']:\n",
    "            df_transition_ = df_final.groupby(['BatchID'])[c].agg(lambda x: dict(Counter(list_of_zones(x)[1:]))).reset_index()\n",
    "            for z in df_final[c].unique():\n",
    "                df_transition_[z] = df_transition_[c].map(lambda x: x.get(z,0))\n",
    "            df_ = pd.melt(df_transition_, id_vars=['BatchID'], value_vars=df_final[c].unique())\n",
    "            df_.rename(columns={'value':c}, inplace=True)\n",
    "            li_df_zone.append(df_)\n",
    "        df_transition = li_df_zone[0]\n",
    "        for df_ in li_df_zone[1:]:\n",
    "            df_transition = pd.merge(df_, df_transition, on=['BatchID','variable'], how='outer')\n",
    "        print(df_transition.shape)\n",
    "        df_transition.head(3)\n",
    "        #display(df_transition.head(3))\n",
    "        df_transition.to_csv(os.path.join(path_extracted_data_cleaning,'reliability_transition.csv'), sep=';', index=False)\n",
    "        \n",
    "        print(df_testing_.shape, df_final.shape, df_transition.shape)\n",
    "        ##########################################################################################################\n",
    "        ###################################### relevance algo - records 0-1 ######################################\n",
    "        ##########################################################################################################\n",
    "        dico_name = {'tracking_prediction':'Zone','model_prediction':'model_ObservedZone'}\n",
    "        #tracking_prediction\n",
    "        for c in ['model_prediction']:\n",
    "            li_t = df_testing_['VideoAnalyse'].astype(int).tolist()\n",
    "            li_p = df_testing_[c].astype(int).tolist()\n",
    "            res = classification_report(li_t, li_p, output_dict=True)\n",
    "            dico_ = res_intodico(res)\n",
    "            dico_['method'] = dico_name[c]\n",
    "            dico_['reliability_type'] = 'records-01'\n",
    "            dico_['kappa'] = cohen_kappa_score(li_t, li_p)\n",
    "            dico_['runID'] = runID; dico_['li_batch_selected'] = li_batch; dico_['nbr_batch'] = nbr_b ; dico_['CPairID'] = i\n",
    "            li_df.append(dico_)\n",
    "\n",
    "        ##########################################################################################################\n",
    "        ###################################### relevance algo - records zone #####################################\n",
    "        ##########################################################################################################\n",
    "        for c in ['Zone','model_ObservedZone']:\n",
    "            li_t = df_testing_['ObservedZone'].tolist()\n",
    "            li_p = df_testing_[c].tolist()            \n",
    "            res = classification_report(li_t, li_p, output_dict=True)\n",
    "            dico_ = res_intodico(res)\n",
    "            dico_['method'] = c\n",
    "            dico_['reliability_type'] = 'records-zone'\n",
    "            dico_['kappa'] = cohen_kappa_score(li_t, li_p)\n",
    "            dico_['runID'] = runID; dico_['li_batch_selected'] = li_batch; dico_['nbr_batch'] = nbr_b ; dico_['CPairID'] = i\n",
    "            li_df.append(dico_)\n",
    "\n",
    "        ##########################################################################################################\n",
    "        ############################### relevance behavioural data - duration 1secTS #############################\n",
    "        ##########################################################################################################\n",
    "        for c in ['Zone','model_ObservedZone','binning_zone']:\n",
    "            li_t = df_final['ObservedZone'].tolist()\n",
    "            li_p = df_final[c].tolist()\n",
    "            res = classification_report(li_t, li_p, output_dict=True)\n",
    "            dico_ = res_intodico(res)\n",
    "            dico_['method'] = c\n",
    "            dico_['reliability_type'] = 'duration_1secTS'\n",
    "            dico_['kappa'] = cohen_kappa_score(li_t, li_p)\n",
    "            dico_['runID'] = runID; dico_['li_batch_selected'] = li_batch; dico_['nbr_batch'] = nbr_b ; dico_['CPairID'] = i\n",
    "            li_df.append(dico_)\n",
    "\n",
    "        ##########################################################################################################\n",
    "        ################################## relevance behavioural data - transition ###############################\n",
    "        ##########################################################################################################\n",
    "        #does not make sense to compare per minutes the numebr of transition, as we dont really care if they areshifted by few minutes\n",
    "        #instead we will compare the number of transition per batch \n",
    "        for c in ['Zone', 'model_ObservedZone', 'binning_zone']:\n",
    "            df_ = pd.melt(df_transition.filter(['BatchID','ObservedZone', c],axis=1), id_vars=['BatchID'], \n",
    "                          value_vars=['ObservedZone', c])\n",
    "            #continuous reliability score\n",
    "            df_res = pg.intraclass_corr(data=df_, targets='BatchID', raters='variable', ratings='value')\n",
    "            dico_ = df_res[df_res['Type']=='ICC3'].to_dict(orient='records')[0]\n",
    "            dico_['method'] = c\n",
    "            dico_['reliability_type'] = 'transitions'\n",
    "            dico_['runID'] = runID; dico_['li_batch_selected'] = li_batch; dico_['nbr_batch'] = nbr_b ; dico_['CPairID'] = i\n",
    "            li_df.append(dico_)\n",
    "        #per zone for all the batches only\n",
    "        if li_batch1==li_batch2:\n",
    "            is_done=True\n",
    "            for z,df__ in df_transition.groupby('variable'):\n",
    "                for c in ['Zone', 'model_ObservedZone', 'binning_zone']:\n",
    "                    df_ = pd.melt(df__.filter(['BatchID','ObservedZone', c],axis=1), id_vars=['BatchID'], \n",
    "                                  value_vars=['ObservedZone', c])\n",
    "                    #continuous reliability score\n",
    "                    df_res = pg.intraclass_corr(data=df_, targets='BatchID', raters='variable', ratings='value')\n",
    "                    dico_ = df_res[df_res['Type']=='ICC3'].to_dict(orient='records')[0]\n",
    "                    dico_['method'] = c\n",
    "                    dico_['reliability_type'] = 'transitions_'+z\n",
    "                    dico_['runID'] = runID; dico_['li_batch_selected'] = li_batch; dico_['nbr_batch'] = nbr_b ; dico_['CPairID'] = i\n",
    "                    li_df.append(dico_)            \n",
    "            \n",
    "\n",
    "##########################################################################################################\n",
    "############################################### Save results #############################################\n",
    "##########################################################################################################\n",
    "END_TIME = time.clock()\n",
    "print (\"Total running time: %.2f mn\" %((END_TIME-START_TIME)/60))\n",
    "df_results = pd.DataFrame(li_df)\n",
    "li_var_tr = ['transitions','transitions_1Zone', 'transitions_2Zone', 'transitions_3Zone','transitions_4Zone', \n",
    "             'transitions_5Zone']\n",
    "df_results['accuracy_ICC'] = df_results.apply(lambda x: x['ICC'] if x['reliability_type'] in li_var_tr else x['accuracy'], \n",
    "                                              axis=1)\n",
    "#df_results.to_csv(os.path.join(path_extracted_data_cleaning,'reliability_RESULTS.csv'), sep=';', index=False)\n",
    "df_results[['accuracy','ICC','kappa','runID','method','reliability_type']]"
   ]
  },
  {
   "cell_type": "code",
   "execution_count": 32,
   "metadata": {},
   "outputs": [
    {
     "data": {
      "text/plain": [
       "7     72\n",
       "6     72\n",
       "17    24\n",
       "Name: nbr_batch, dtype: int64"
      ]
     },
     "execution_count": 32,
     "metadata": {},
     "output_type": "execute_result"
    }
   ],
   "source": [
    "df_results['nbr_batch'].value_counts()"
   ]
  },
  {
   "cell_type": "code",
   "execution_count": 30,
   "metadata": {
    "scrolled": false
   },
   "outputs": [
    {
     "name": "stderr",
     "output_type": "stream",
     "text": [
      "C:\\Users\\camil\\Anaconda3\\lib\\site-packages\\ipykernel_launcher.py:6: FutureWarning: Indexing with multiple keys (implicitly converted to a tuple of keys) will be deprecated, use a list instead.\n",
      "  \n"
     ]
    },
    {
     "data": {
      "image/png": "[encoded data removed]",
      "text/plain": [
       "<Figure size 432x288 with 1 Axes>"
      ]
     },
     "metadata": {
      "needs_background": "light"
     },
     "output_type": "display_data"
    },
    {
     "name": "stderr",
     "output_type": "stream",
     "text": [
      "C:\\Users\\camil\\Anaconda3\\lib\\site-packages\\ipykernel_launcher.py:6: FutureWarning: Indexing with multiple keys (implicitly converted to a tuple of keys) will be deprecated, use a list instead.\n",
      "  \n"
     ]
    },
    {
     "data": {
      "image/png": "[encoded data removed]",
      "text/plain": [
       "<Figure size 432x288 with 1 Axes>"
      ]
     },
     "metadata": {
      "needs_background": "light"
     },
     "output_type": "display_data"
    },
    {
     "name": "stderr",
     "output_type": "stream",
     "text": [
      "C:\\Users\\camil\\Anaconda3\\lib\\site-packages\\ipykernel_launcher.py:6: FutureWarning: Indexing with multiple keys (implicitly converted to a tuple of keys) will be deprecated, use a list instead.\n",
      "  \n"
     ]
    },
    {
     "data": {
      "image/png": "[encoded data removed]",
      "text/plain": [
       "<Figure size 432x288 with 1 Axes>"
      ]
     },
     "metadata": {
      "needs_background": "light"
     },
     "output_type": "display_data"
    },
    {
     "name": "stdout",
     "output_type": "stream",
     "text": [
      "(72, 6)\n",
      "LOOk AT THIS AND VERIFY THE OUTPUT\n"
     ]
    },
    {
     "data": {
      "text/html": [
       "<div>\n",
       "<style scoped>\n",
       "    .dataframe tbody tr th:only-of-type {\n",
       "        vertical-align: middle;\n",
       "    }\n",
       "\n",
       "    .dataframe tbody tr th {\n",
       "        vertical-align: top;\n",
       "    }\n",
       "\n",
       "    .dataframe thead th {\n",
       "        text-align: right;\n",
       "    }\n",
       "</style>\n",
       "<table border=\"1\" class=\"dataframe\">\n",
       "  <thead>\n",
       "    <tr style=\"text-align: right;\">\n",
       "      <th></th>\n",
       "      <th>runID</th>\n",
       "      <th>reliability_type</th>\n",
       "      <th>nbr_batch</th>\n",
       "      <th>accuracy_ICC</th>\n",
       "      <th>li_batch_selected</th>\n",
       "      <th>accuracy_ICC_diff</th>\n",
       "    </tr>\n",
       "  </thead>\n",
       "  <tbody>\n",
       "  </tbody>\n",
       "</table>\n",
       "</div>"
      ],
      "text/plain": [
       "Empty DataFrame\n",
       "Columns: [runID, reliability_type, nbr_batch, accuracy_ICC, li_batch_selected, accuracy_ICC_diff]\n",
       "Index: []"
      ]
     },
     "metadata": {},
     "output_type": "display_data"
    },
    {
     "data": {
      "text/html": [
       "<div>\n",
       "<style scoped>\n",
       "    .dataframe tbody tr th:only-of-type {\n",
       "        vertical-align: middle;\n",
       "    }\n",
       "\n",
       "    .dataframe tbody tr th {\n",
       "        vertical-align: top;\n",
       "    }\n",
       "\n",
       "    .dataframe thead th {\n",
       "        text-align: right;\n",
       "    }\n",
       "</style>\n",
       "<table border=\"1\" class=\"dataframe\">\n",
       "  <thead>\n",
       "    <tr style=\"text-align: right;\">\n",
       "      <th></th>\n",
       "      <th>ICC</th>\n",
       "      <th>F</th>\n",
       "      <th>df1</th>\n",
       "      <th>df2</th>\n",
       "      <th>pval</th>\n",
       "      <th>CI95%</th>\n",
       "    </tr>\n",
       "  </thead>\n",
       "  <tbody>\n",
       "    <tr>\n",
       "      <th>162</th>\n",
       "      <td>1.0</td>\n",
       "      <td>-6.738842e+15</td>\n",
       "      <td>16.0</td>\n",
       "      <td>16.0</td>\n",
       "      <td>1.0</td>\n",
       "      <td>[1.0, 1.0]</td>\n",
       "    </tr>\n",
       "    <tr>\n",
       "      <th>167</th>\n",
       "      <td>1.0</td>\n",
       "      <td>-7.351464e+15</td>\n",
       "      <td>16.0</td>\n",
       "      <td>16.0</td>\n",
       "      <td>1.0</td>\n",
       "      <td>[1.0, 1.0]</td>\n",
       "    </tr>\n",
       "  </tbody>\n",
       "</table>\n",
       "</div>"
      ],
      "text/plain": [
       "     ICC             F   df1   df2  pval       CI95%\n",
       "162  1.0 -6.738842e+15  16.0  16.0   1.0  [1.0, 1.0]\n",
       "167  1.0 -7.351464e+15  16.0  16.0   1.0  [1.0, 1.0]"
      ]
     },
     "execution_count": 30,
     "metadata": {},
     "output_type": "execute_result"
    }
   ],
   "source": [
    "#visualize the results\n",
    "li_df = []\n",
    "for m, df_ in df_results[df_results['nbr_batch']!=len(df_testing['BatchID'].unique())].groupby(['method']):    \n",
    "    #compute difference across the associated batches combination\n",
    "    df_ = df_.filter(['reliability_type','accuracy_ICC','nbr_batch','runID','li_batch_selected'], axis=1)\n",
    "    df_ = df_.groupby(['runID','reliability_type','nbr_batch'])['accuracy_ICC','li_batch_selected'].agg(lambda x: list(x)).reset_index()\n",
    "    df_['accuracy_ICC_diff'] = df_['accuracy_ICC'].map(lambda x: abs(x[0]-x[1])*100)\n",
    "    li_df.append(df_)\n",
    "    #display(df_.head(3))\n",
    "    #plot\n",
    "    ax = sns.boxplot(x=\"nbr_batch\", y=\"accuracy_ICC_diff\", hue=\"reliability_type\", data=df_, palette=\"Set3\")\n",
    "    plt.title(m)\n",
    "    plt.xlabel('number of batched in a set')\n",
    "    plt.ylabel('accuarcy/ICC\\'s difference across 2 sets of distinct batches')\n",
    "    #plt.savefig(os.path.join(path_extracted_data_cleaning,'ReliabilityStability_'+m+'.png'), bbox_inches='tight')\n",
    "    plt.show()\n",
    "df_acc_diff = pd.concat(li_df)\n",
    "print(df_acc_diff.shape)\n",
    "df_acc_diff.to_csv(os.path.join(path_extracted_data_cleaning,'reliability_RESULTs_acc_difference.csv'), sep=';', index=False)\n",
    "print('LOOk AT THIS AND VERIFY THE OUTPUT')\n",
    "display(df_acc_diff[df_acc_diff['accuracy_ICC_diff']>30].head(10))\n",
    "#ATTENTION: VERIFY p_val!!!!!!!\n",
    "#for df_results['reliability_type']=='transitions')], verify all p-values are smaller <05 (dont remove the other one as I am \n",
    "#not sure its not cheating)\n",
    "df_results[df_results['pval']>0.05][['ICC','F','df1','df2','pval','CI95%']]"
   ]
  },
  {
   "cell_type": "code",
   "execution_count": 33,
   "metadata": {},
   "outputs": [
    {
     "name": "stdout",
     "output_type": "stream",
     "text": [
      "(21, 52)\n"
     ]
    },
    {
     "data": {
      "text/plain": [
       "Text(0, 0.5, 'accuraccy - ICC scores')"
      ]
     },
     "execution_count": 33,
     "metadata": {},
     "output_type": "execute_result"
    },
    {
     "data": {
      "image/png": "[encoded data removed]",
      "text/plain": [
       "<Figure size 576x432 with 1 Axes>"
      ]
     },
     "metadata": {
      "needs_background": "light"
     },
     "output_type": "display_data"
    }
   ],
   "source": [
    "li_rel_type = ['duration_1secTS', 'transitions','transitions_1Zone', 'transitions_2Zone', 'transitions_3Zone',\n",
    "               'transitions_4Zone', 'transitions_5Zone']\n",
    "df_plt = df_results[(df_results['nbr_batch']==len(df_testing['BatchID'].unique()))&\\\n",
    "                    (df_results['reliability_type'].isin(li_rel_type))]\n",
    "print(df_plt.shape)\n",
    "#df_plt[['runID','method','accuracy_ICC']]\n",
    "plt.figure(figsize=(8,6))\n",
    "ax = sns.barplot(x=\"reliability_type\", y=\"accuracy_ICC\", hue=\"method\", data=df_plt, palette=\"Set3\")\n",
    "plt.xticks(fontsize=10,rotation=70)\n",
    "plt.ylim(0.85,1)\n",
    "plt.xlabel('type of reliability')\n",
    "plt.ylabel('accuraccy - ICC scores')\n",
    "#plt.savefig(os.path.join(path_extracted_data_cleaning,'ReliabilityMethodsComparison.png'), bbox_inches='tight')"
   ]
  },
  {
   "cell_type": "code",
   "execution_count": null,
   "metadata": {},
   "outputs": [],
   "source": []
  },
  {
   "cell_type": "code",
   "execution_count": null,
   "metadata": {},
   "outputs": [],
   "source": []
  },
  {
   "cell_type": "markdown",
   "metadata": {},
   "source": [
    "df_results[(df_results['runID']=='65999852-3024-11eb-a16f-9822ef705bb4')&\\\n",
    "           (df_results['reliability_type']=='transitions')] #[['accuracy','ICC','accuracy_ICC']]"
   ]
  },
  {
   "cell_type": "markdown",
   "metadata": {},
   "source": [
    "df_results = pd.read_csv(os.path.join(path_extracted_data_cleaning,'reliability_RESULTS.csv'), sep=';')\n",
    "print(df_results.shape)\n",
    "df_results.head(3)"
   ]
  },
  {
   "cell_type": "code",
   "execution_count": null,
   "metadata": {},
   "outputs": [],
   "source": []
  },
  {
   "cell_type": "code",
   "execution_count": null,
   "metadata": {},
   "outputs": [],
   "source": []
  },
  {
   "cell_type": "code",
   "execution_count": null,
   "metadata": {},
   "outputs": [],
   "source": []
  },
  {
   "cell_type": "code",
   "execution_count": null,
   "metadata": {},
   "outputs": [],
   "source": []
  },
  {
   "cell_type": "code",
   "execution_count": null,
   "metadata": {},
   "outputs": [],
   "source": []
  },
  {
   "cell_type": "code",
   "execution_count": null,
   "metadata": {},
   "outputs": [],
   "source": []
  },
  {
   "cell_type": "code",
   "execution_count": null,
   "metadata": {},
   "outputs": [],
   "source": []
  },
  {
   "cell_type": "code",
   "execution_count": null,
   "metadata": {},
   "outputs": [],
   "source": []
  },
  {
   "cell_type": "code",
   "execution_count": null,
   "metadata": {},
   "outputs": [],
   "source": []
  }
 ],
 "metadata": {
  "kernelspec": {
   "display_name": "Python 3",
   "language": "python",
   "name": "python3"
  },
  "language_info": {
   "codemirror_mode": {
    "name": "ipython",
    "version": 3
   },
   "file_extension": ".py",
   "mimetype": "text/x-python",
   "name": "python",
   "nbconvert_exporter": "python",
   "pygments_lexer": "ipython3",
   "version": "3.6.10"
  }
 },
 "nbformat": 4,
 "nbformat_minor": 2
}
