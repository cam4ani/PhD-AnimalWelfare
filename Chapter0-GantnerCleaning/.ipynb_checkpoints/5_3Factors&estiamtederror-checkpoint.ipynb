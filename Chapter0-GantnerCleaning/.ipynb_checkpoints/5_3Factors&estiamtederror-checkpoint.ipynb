{
 "cells": [
  {
   "cell_type": "code",
   "execution_count": 1,
   "metadata": {},
   "outputs": [
    {
     "name": "stderr",
     "output_type": "stream",
     "text": [
      "Loading required package: Matrix\n",
      "\n",
      "This is DHARMa 0.3.3.0. For overview type '?DHARMa'. For recent changes, type news(package = 'DHARMa') Note: Syntax of plotResiduals has changed in 0.3.0, see ?plotResiduals for details\n",
      "\n",
      "Warning message:\n",
      "\"package 'glmmTMB' was built under R version 4.0.4\"\n"
     ]
    }
   ],
   "source": [
    "library(lme4) #random effect\n",
    "library(lattice) \n",
    "library(lme4) #glm\n",
    "library(DHARMa) #simulating residuals\n",
    "library(glmmTMB) #beta regression with mixed effects\n",
    "library(sjPlot) #tabmodel\n",
    "library(webshot) #save model output nicely"
   ]
  },
  {
   "cell_type": "markdown",
   "metadata": {},
   "source": [
    "# Weather"
   ]
  },
  {
   "cell_type": "code",
   "execution_count": 2,
   "metadata": {},
   "outputs": [
    {
     "name": "stdout",
     "output_type": "stream",
     "text": [
      "[1] 2614   12\n"
     ]
    },
    {
     "data": {
      "text/plain": [
       " Timestamp_weather      PenID          hour           system   \n",
       " Length:2614        pen8   :336   Min.   :10.00   10 - 12:997  \n",
       " Class :character   pen9   :336   1st Qu.:11.00   3 - 5  :945  \n",
       " Mode  :character   pen12  :334   Median :13.00   8 - 9  :672  \n",
       "                    pen10  :332   Mean   :12.52                \n",
       "                    pen11  :331   3rd Qu.:14.00                \n",
       "                    pen4   :321   Max.   :15.00                \n",
       "                    (Other):624                                \n",
       "  prediction        temperature_C    humidity_avgpercent      IFR        \n",
       " Length:2614        Min.   :-6.000   Min.   : 49.00      Min.   : 0.000  \n",
       " Class :character   1st Qu.: 1.000   1st Qu.: 72.00      1st Qu.: 0.000  \n",
       " Mode  :character   Median : 2.000   Median : 84.00      Median : 1.000  \n",
       "                    Mean   : 3.062   Mean   : 83.22      Mean   : 2.083  \n",
       "                    3rd Qu.: 5.000   3rd Qu.: 97.00      3rd Qu.: 2.000  \n",
       "                    Max.   :14.000   Max.   :100.00      Max.   :29.000  \n",
       "                                                                         \n",
       " nbr.registrations estimated.error.rate estimated.transitions\n",
       " Min.   : 1.000    Min.   :0.0000       Min.   : 0.000       \n",
       " 1st Qu.: 5.000    1st Qu.:0.0000       1st Qu.: 4.000       \n",
       " Median : 8.000    Median :0.1111       Median : 6.000       \n",
       " Mean   : 8.748    Mean   :0.1834       Mean   : 6.666       \n",
       " 3rd Qu.:11.000    3rd Qu.:0.3333       3rd Qu.: 9.000       \n",
       " Max.   :51.000    Max.   :1.0000       Max.   :37.000       \n",
       "                                                             \n",
       " humidity_avgpercent_tr\n",
       " Min.   : 4.900        \n",
       " 1st Qu.: 7.200        \n",
       " Median : 8.400        \n",
       " Mean   : 8.322        \n",
       " 3rd Qu.: 9.700        \n",
       " Max.   :10.000        \n",
       "                       "
      ]
     },
     "metadata": {},
     "output_type": "display_data"
    }
   ],
   "source": [
    "path_ = 'G:/VPHI/Welfare/2- Research Projects/OFHE2.OriginsE2/DataOutput/TrackingSystem/CleaningAnalysis_/Cleaning/Raw&Cleaned'\n",
    "df = read.csv(file.path(path_,'environmentalfactorestimatederrorrate.csv'), header = TRUE, sep = \";\")\n",
    "df$hour = as.integer(df$hour)   \n",
    "df$PenID = as.factor(df$PenID) \n",
    "df$system = as.factor(df$system) \n",
    "df$humidity_avgpercent_tr = df$humidity_avgpercent/10\n",
    "print(dim(df))\n",
    "summary(df)"
   ]
  },
  {
   "cell_type": "code",
   "execution_count": 3,
   "metadata": {},
   "outputs": [
    {
     "data": {
      "text/plain": [
       "Generalized linear mixed model fit by maximum likelihood (Laplace\n",
       "  Approximation) [glmerMod]\n",
       " Family: binomial  ( logit )\n",
       "Formula: \n",
       "cbind(IFR, nbr.registrations) ~ humidity_avgpercent_tr + temperature_C +  \n",
       "    hour + estimated.transitions + (1 | system/PenID)\n",
       "   Data: df\n",
       "\n",
       "     AIC      BIC   logLik deviance df.resid \n",
       "  5785.8   5826.9  -2885.9   5771.8     2607 \n",
       "\n",
       "Scaled residuals: \n",
       "    Min      1Q  Median      3Q     Max \n",
       "-1.8552 -0.7100 -0.3554  0.4353  3.4133 \n",
       "\n",
       "Random effects:\n",
       " Groups       Name        Variance Std.Dev.\n",
       " PenID:system (Intercept) 0.04013  0.2003  \n",
       " system       (Intercept) 0.63220  0.7951  \n",
       "Number of obs: 2614, groups:  PenID:system, 8; system, 3\n",
       "\n",
       "Fixed effects:\n",
       "                        Estimate Std. Error z value Pr(>|z|)    \n",
       "(Intercept)            -1.148191   0.497048  -2.310  0.02089 *  \n",
       "humidity_avgpercent_tr -0.036717   0.011786  -3.115  0.00184 ** \n",
       "temperature_C          -0.017352   0.004208  -4.123 3.73e-05 ***\n",
       "hour                   -0.011244   0.009900  -1.136  0.25606    \n",
       "estimated.transitions  -0.030667   0.004051  -7.571 3.71e-14 ***\n",
       "---\n",
       "Signif. codes:  0 '***' 0.001 '**' 0.01 '*' 0.05 '.' 0.1 ' ' 1\n",
       "\n",
       "Correlation of Fixed Effects:\n",
       "            (Intr) hmdt__ tmpr_C hour  \n",
       "hmdty_vgpr_ -0.263                     \n",
       "temperatr_C -0.014  0.098              \n",
       "hour        -0.281  0.232 -0.092       \n",
       "estmtd.trns -0.034  0.129 -0.126 -0.207"
      ]
     },
     "metadata": {},
     "output_type": "display_data"
    }
   ],
   "source": [
    "#Generalized linear mixed effect model\n",
    "fit = glmer(cbind(IFR,nbr.registrations) ~ humidity_avgpercent_tr + temperature_C + hour + estimated.transitions + (1|system/PenID), \n",
    "            family=binomial, data=df)\n",
    "summary(fit)"
   ]
  },
  {
   "cell_type": "code",
   "execution_count": 8,
   "metadata": {},
   "outputs": [],
   "source": [
    "tab_model(fit, file=file.path(path_,'Weather.html'))\n",
    "# then take this html file and make .png file\n",
    "webshot(file.path(path_,'Weather.html'), file.path(path_,'Weather.html'), zoom=3, cliprect = c(0, 5, 600, 270))"
   ]
  },
  {
   "cell_type": "code",
   "execution_count": null,
   "metadata": {},
   "outputs": [],
   "source": [
    "#https://cran.r-project.org/web/packages/glmmTMB/vignettes/model_evaluation.pdf\n",
    "library(DHARMa)\n",
    "res <- simulateResiduals(fit)\n",
    "plot(res)"
   ]
  },
  {
   "cell_type": "markdown",
   "metadata": {},
   "source": [
    "# Estimated number of transitions"
   ]
  },
  {
   "cell_type": "code",
   "execution_count": null,
   "metadata": {},
   "outputs": [],
   "source": [
    "path_ = 'G:/VPHI/Welfare/2- Research Projects/OFHE2.OriginsE2/DataOutput/TrackingSystem/CleaningAnalysis_/Cleaning/Raw&Cleaned'\n",
    "df = read.csv(file.path(path_,'estimatednumbertransitionsestimatederrorrate.csv'), header = TRUE, sep = \";\")\n",
    "df$HenID = as.factor(df$HenID) \n",
    "df$PenID = as.factor(df$PenID) \n",
    "df$system = as.factor(df$system) \n",
    "df$level = as.factor(df$level) \n",
    "#6h of WG open\n",
    "df$Estimated_number_transition_perhour = df$Estimated_number_transition/6\n",
    "print(dim(df))\n",
    "summary(df)"
   ]
  },
  {
   "cell_type": "code",
   "execution_count": null,
   "metadata": {},
   "outputs": [],
   "source": [
    "#Generalized linear mixed effect model\n",
    "fit = glmer(cbind(IFR,nbr.registrations) ~ Estimated_number_transition_perhour + (1|system/HenID) + (1|level), \n",
    "            family=binomial, data=df)\n",
    "summary(fit)"
   ]
  },
  {
   "cell_type": "code",
   "execution_count": null,
   "metadata": {},
   "outputs": [],
   "source": [
    "#https://cran.r-project.org/web/packages/glmmTMB/vignettes/model_evaluation.pdf\n",
    "library(DHARMa)\n",
    "res <- simulateResiduals(fit)\n",
    "plot(res)"
   ]
  },
  {
   "cell_type": "code",
   "execution_count": null,
   "metadata": {},
   "outputs": [],
   "source": [
    "tab_model(fit, file=file.path(path_,'numbertransitions.html'))\n",
    "# then take this html file and make .png file\n",
    "webshot(file.path(path_,'numbertransitions.html'), file.path(path_,'numbertransitions.html'), zoom=3, cliprect = c(0, 5, 600, 270))"
   ]
  },
  {
   "cell_type": "code",
   "execution_count": null,
   "metadata": {},
   "outputs": [],
   "source": []
  },
  {
   "cell_type": "code",
   "execution_count": null,
   "metadata": {},
   "outputs": [],
   "source": []
  },
  {
   "cell_type": "code",
   "execution_count": null,
   "metadata": {},
   "outputs": [],
   "source": []
  },
  {
   "cell_type": "code",
   "execution_count": null,
   "metadata": {},
   "outputs": [],
   "source": []
  },
  {
   "cell_type": "code",
   "execution_count": null,
   "metadata": {},
   "outputs": [],
   "source": []
  },
  {
   "cell_type": "code",
   "execution_count": null,
   "metadata": {},
   "outputs": [],
   "source": []
  },
  {
   "cell_type": "code",
   "execution_count": null,
   "metadata": {},
   "outputs": [],
   "source": []
  }
 ],
 "metadata": {
  "kernelspec": {
   "display_name": "R 4.0.3",
   "language": "R",
   "name": "ir35"
  },
  "language_info": {
   "codemirror_mode": "r",
   "file_extension": ".r",
   "mimetype": "text/x-r-source",
   "name": "R",
   "pygments_lexer": "r",
   "version": "4.0.3"
  }
 },
 "nbformat": 4,
 "nbformat_minor": 4
}
