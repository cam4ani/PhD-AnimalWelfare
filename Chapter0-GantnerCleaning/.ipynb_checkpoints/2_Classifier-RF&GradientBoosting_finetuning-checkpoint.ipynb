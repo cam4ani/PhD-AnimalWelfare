{
 "cells": [
  {
   "cell_type": "code",
   "execution_count": 1,
   "metadata": {},
   "outputs": [],
   "source": [
    "#basic packages\n",
    "import tqdm\n",
    "import os\n",
    "import numpy as np\n",
    "import glob\n",
    "import pandas as pd\n",
    "import sys\n",
    "import shutil\n",
    "import time\n",
    "import datetime as dt\n",
    "import random\n",
    "\n",
    "#modelling\n",
    "from sklearn.preprocessing import StandardScaler\n",
    "from sklearn.model_selection import train_test_split\n",
    "from sklearn.ensemble import GradientBoostingClassifier, RandomForestClassifier\n",
    "from sklearn.model_selection import GridSearchCV\n",
    "from sklearn.utils.class_weight import compute_class_weight\n",
    "#from sklearn.metrics import classification_report, confusion_matrix, plot_confusion_matrix, cohen_kappa_score\n",
    "import joblib #save models\n",
    "\n",
    "#visuals\n",
    "import matplotlib.pyplot as plt\n",
    "import seaborn as sns"
   ]
  },
  {
   "cell_type": "code",
   "execution_count": 2,
   "metadata": {},
   "outputs": [],
   "source": [
    "#download configurations\n",
    "PACKAGE_PARENT = '../'\n",
    "SCRIPT_DIR = os.path.dirname(os.path.realpath(os.path.join(os.getcwd(), os.path.expanduser('__file__'))))\n",
    "sys.path.append(os.path.normpath(os.path.join(SCRIPT_DIR, PACKAGE_PARENT)))\n",
    "import config_origins_chapter0 as config"
   ]
  },
  {
   "cell_type": "markdown",
   "metadata": {},
   "source": [
    "# Download Input Data"
   ]
  },
  {
   "cell_type": "code",
   "execution_count": 3,
   "metadata": {},
   "outputs": [],
   "source": [
    "#define parameters\n",
    "path_extracted_data = config.path_extracted_data\n",
    "path_initial_data = config.path_initial_data\n",
    "id_run = config.id_run\n",
    "dico_matching = config.dico_matching\n",
    "path_extracted_data_cleaning = os.path.join(path_extracted_data,'Cleaning')\n",
    "path_extracted_data_cleaning_model = os.path.join(path_extracted_data_cleaning,'model') \n",
    "if not os.path.exists(path_extracted_data_cleaning_model):\n",
    "    os.makedirs(path_extracted_data_cleaning_model)    \n",
    "#features for model\n",
    "li_cont_select = config.li_cont_select\n",
    "li_bin = config.li_bin\n",
    "li_cat_select = config.li_cat_select"
   ]
  },
  {
   "cell_type": "code",
   "execution_count": 17,
   "metadata": {},
   "outputs": [
    {
     "data": {
      "text/plain": [
       "1    3738\n",
       "0     536\n",
       "Name: VideoAnalyse, dtype: int64"
      ]
     },
     "metadata": {},
     "output_type": "display_data"
    },
    {
     "name": "stdout",
     "output_type": "stream",
     "text": [
      "(5139, 34)\n"
     ]
    },
    {
     "data": {
      "text/html": [
       "<div>\n",
       "<style scoped>\n",
       "    .dataframe tbody tr th:only-of-type {\n",
       "        vertical-align: middle;\n",
       "    }\n",
       "\n",
       "    .dataframe tbody tr th {\n",
       "        vertical-align: top;\n",
       "    }\n",
       "\n",
       "    .dataframe thead th {\n",
       "        text-align: right;\n",
       "    }\n",
       "</style>\n",
       "<table border=\"1\" class=\"dataframe\">\n",
       "  <thead>\n",
       "    <tr style=\"text-align: right;\">\n",
       "      <th></th>\n",
       "      <th>Timestamp</th>\n",
       "      <th>TagID</th>\n",
       "      <th>HenID</th>\n",
       "      <th>Trackingsystem_Zone</th>\n",
       "      <th>Observed_Zone</th>\n",
       "      <th>PenID</th>\n",
       "      <th>VideoAnalyse</th>\n",
       "      <th>system</th>\n",
       "      <th>date</th>\n",
       "      <th>signalstrength</th>\n",
       "      <th>...</th>\n",
       "      <th>duration_bounded_mn</th>\n",
       "      <th>previous_duration_bounded_mn</th>\n",
       "      <th>algo_type</th>\n",
       "      <th>BatchID</th>\n",
       "      <th>previousZone==NextZone</th>\n",
       "      <th>next_duration_bounded_mn</th>\n",
       "      <th>next2zone==Zone</th>\n",
       "      <th>previous2zone==Zone</th>\n",
       "      <th>zone3_match_exist</th>\n",
       "      <th>is_first_observation</th>\n",
       "    </tr>\n",
       "  </thead>\n",
       "  <tbody>\n",
       "    <tr>\n",
       "      <th>0</th>\n",
       "      <td>2020-10-23 11:04:12</td>\n",
       "      <td>tag_138</td>\n",
       "      <td>hen_141</td>\n",
       "      <td>3_Zone</td>\n",
       "      <td>3_Zone</td>\n",
       "      <td>pen10</td>\n",
       "      <td>1</td>\n",
       "      <td>10 - 12</td>\n",
       "      <td>2020-10-23</td>\n",
       "      <td>16.0</td>\n",
       "      <td>...</td>\n",
       "      <td>0.133333</td>\n",
       "      <td>1.316667</td>\n",
       "      <td>cleaning</td>\n",
       "      <td>NaN</td>\n",
       "      <td>True</td>\n",
       "      <td>0.766667</td>\n",
       "      <td>1.0</td>\n",
       "      <td>1.0</td>\n",
       "      <td>1.0</td>\n",
       "      <td>0.0</td>\n",
       "    </tr>\n",
       "    <tr>\n",
       "      <th>1</th>\n",
       "      <td>2020-10-18 10:39:01</td>\n",
       "      <td>tag_125</td>\n",
       "      <td>hen_54</td>\n",
       "      <td>3_Zone</td>\n",
       "      <td>2_Zone</td>\n",
       "      <td>pen10</td>\n",
       "      <td>0</td>\n",
       "      <td>10 - 12</td>\n",
       "      <td>2020-10-18</td>\n",
       "      <td>3.0</td>\n",
       "      <td>...</td>\n",
       "      <td>0.200000</td>\n",
       "      <td>8.383333</td>\n",
       "      <td>cleaning</td>\n",
       "      <td>NaN</td>\n",
       "      <td>True</td>\n",
       "      <td>8.533333</td>\n",
       "      <td>1.0</td>\n",
       "      <td>1.0</td>\n",
       "      <td>0.0</td>\n",
       "      <td>0.0</td>\n",
       "    </tr>\n",
       "    <tr>\n",
       "      <th>2</th>\n",
       "      <td>2020-10-23 11:42:56</td>\n",
       "      <td>tag_138</td>\n",
       "      <td>hen_141</td>\n",
       "      <td>4_Zone</td>\n",
       "      <td>4_Zone</td>\n",
       "      <td>pen10</td>\n",
       "      <td>1</td>\n",
       "      <td>10 - 12</td>\n",
       "      <td>2020-10-23</td>\n",
       "      <td>13.0</td>\n",
       "      <td>...</td>\n",
       "      <td>0.383333</td>\n",
       "      <td>3.316667</td>\n",
       "      <td>cleaning</td>\n",
       "      <td>NaN</td>\n",
       "      <td>True</td>\n",
       "      <td>0.100000</td>\n",
       "      <td>1.0</td>\n",
       "      <td>1.0</td>\n",
       "      <td>1.0</td>\n",
       "      <td>0.0</td>\n",
       "    </tr>\n",
       "  </tbody>\n",
       "</table>\n",
       "<p>3 rows × 34 columns</p>\n",
       "</div>"
      ],
      "text/plain": [
       "            Timestamp    TagID    HenID Trackingsystem_Zone Observed_Zone  \\\n",
       "0 2020-10-23 11:04:12  tag_138  hen_141              3_Zone        3_Zone   \n",
       "1 2020-10-18 10:39:01  tag_125   hen_54              3_Zone        2_Zone   \n",
       "2 2020-10-23 11:42:56  tag_138  hen_141              4_Zone        4_Zone   \n",
       "\n",
       "   PenID  VideoAnalyse   system       date  signalstrength  ...  \\\n",
       "0  pen10             1  10 - 12 2020-10-23            16.0  ...   \n",
       "1  pen10             0  10 - 12 2020-10-18             3.0  ...   \n",
       "2  pen10             1  10 - 12 2020-10-23            13.0  ...   \n",
       "\n",
       "   duration_bounded_mn previous_duration_bounded_mn algo_type BatchID  \\\n",
       "0             0.133333                     1.316667  cleaning     NaN   \n",
       "1             0.200000                     8.383333  cleaning     NaN   \n",
       "2             0.383333                     3.316667  cleaning     NaN   \n",
       "\n",
       "  previousZone==NextZone next_duration_bounded_mn next2zone==Zone  \\\n",
       "0                   True                 0.766667             1.0   \n",
       "1                   True                 8.533333             1.0   \n",
       "2                   True                 0.100000             1.0   \n",
       "\n",
       "  previous2zone==Zone zone3_match_exist is_first_observation  \n",
       "0                 1.0               1.0                  0.0  \n",
       "1                 1.0               0.0                  0.0  \n",
       "2                 1.0               1.0                  0.0  \n",
       "\n",
       "[3 rows x 34 columns]"
      ]
     },
     "execution_count": 17,
     "metadata": {},
     "output_type": "execute_result"
    }
   ],
   "source": [
    "df_cleaning = pd.read_csv(os.path.join(path_extracted_data_cleaning, id_run+'InputCleaning.csv'), parse_dates=['Timestamp', 'date'], \n",
    "                 dayfirst=True, sep=';')\n",
    "df_cleaning = df_cleaning[df_cleaning['VideoAnalyse'].isin([0,1])]\n",
    "df_cleaning = df_cleaning[df_cleaning['algo_type']=='cleaning'].copy()\n",
    "display(df_cleaning['VideoAnalyse'].value_counts())\n",
    "print(df_cleaning.shape)\n",
    "df_cleaning.head(3)"
   ]
  },
  {
   "cell_type": "code",
   "execution_count": 16,
   "metadata": {},
   "outputs": [
    {
     "data": {
      "text/html": [
       "<div>\n",
       "<style scoped>\n",
       "    .dataframe tbody tr th:only-of-type {\n",
       "        vertical-align: middle;\n",
       "    }\n",
       "\n",
       "    .dataframe tbody tr th {\n",
       "        vertical-align: top;\n",
       "    }\n",
       "\n",
       "    .dataframe thead th {\n",
       "        text-align: right;\n",
       "    }\n",
       "</style>\n",
       "<table border=\"1\" class=\"dataframe\">\n",
       "  <thead>\n",
       "    <tr style=\"text-align: right;\">\n",
       "      <th></th>\n",
       "      <th>signalstrength</th>\n",
       "      <th>signalstzone2</th>\n",
       "      <th>duration_bounded_mn</th>\n",
       "      <th>next_duration_bounded_mn</th>\n",
       "      <th>previous_duration_bounded_mn</th>\n",
       "      <th>next2zone==Zone</th>\n",
       "      <th>previous2zone==Zone</th>\n",
       "      <th>zone3_match_exist</th>\n",
       "    </tr>\n",
       "  </thead>\n",
       "  <tbody>\n",
       "    <tr>\n",
       "      <th>0</th>\n",
       "      <td>16.0</td>\n",
       "      <td>6.0</td>\n",
       "      <td>0.133333</td>\n",
       "      <td>0.766667</td>\n",
       "      <td>1.316667</td>\n",
       "      <td>1.0</td>\n",
       "      <td>1.0</td>\n",
       "      <td>1.0</td>\n",
       "    </tr>\n",
       "    <tr>\n",
       "      <th>1</th>\n",
       "      <td>3.0</td>\n",
       "      <td>2.0</td>\n",
       "      <td>0.200000</td>\n",
       "      <td>8.533333</td>\n",
       "      <td>8.383333</td>\n",
       "      <td>1.0</td>\n",
       "      <td>1.0</td>\n",
       "      <td>0.0</td>\n",
       "    </tr>\n",
       "    <tr>\n",
       "      <th>2</th>\n",
       "      <td>13.0</td>\n",
       "      <td>12.0</td>\n",
       "      <td>0.383333</td>\n",
       "      <td>0.100000</td>\n",
       "      <td>3.316667</td>\n",
       "      <td>1.0</td>\n",
       "      <td>1.0</td>\n",
       "      <td>1.0</td>\n",
       "    </tr>\n",
       "  </tbody>\n",
       "</table>\n",
       "</div>"
      ],
      "text/plain": [
       "   signalstrength  signalstzone2  duration_bounded_mn  \\\n",
       "0            16.0            6.0             0.133333   \n",
       "1             3.0            2.0             0.200000   \n",
       "2            13.0           12.0             0.383333   \n",
       "\n",
       "   next_duration_bounded_mn  previous_duration_bounded_mn  next2zone==Zone  \\\n",
       "0                  0.766667                      1.316667              1.0   \n",
       "1                  8.533333                      8.383333              1.0   \n",
       "2                  0.100000                      3.316667              1.0   \n",
       "\n",
       "   previous2zone==Zone  zone3_match_exist  \n",
       "0                  1.0                1.0  \n",
       "1                  1.0                0.0  \n",
       "2                  1.0                1.0  "
      ]
     },
     "metadata": {},
     "output_type": "display_data"
    },
    {
     "data": {
      "text/html": [
       "<div>\n",
       "<style scoped>\n",
       "    .dataframe tbody tr th:only-of-type {\n",
       "        vertical-align: middle;\n",
       "    }\n",
       "\n",
       "    .dataframe tbody tr th {\n",
       "        vertical-align: top;\n",
       "    }\n",
       "\n",
       "    .dataframe thead th {\n",
       "        text-align: right;\n",
       "    }\n",
       "</style>\n",
       "<table border=\"1\" class=\"dataframe\">\n",
       "  <thead>\n",
       "    <tr style=\"text-align: right;\">\n",
       "      <th></th>\n",
       "      <th>Trackingsystem_Zone</th>\n",
       "      <th>zone2_match</th>\n",
       "      <th>previous1_zone</th>\n",
       "      <th>next1_zone</th>\n",
       "      <th>system</th>\n",
       "    </tr>\n",
       "  </thead>\n",
       "  <tbody>\n",
       "    <tr>\n",
       "      <th>0</th>\n",
       "      <td>3_Zone</td>\n",
       "      <td>3_Zone</td>\n",
       "      <td>3_Zone</td>\n",
       "      <td>3_Zone</td>\n",
       "      <td>10 - 12</td>\n",
       "    </tr>\n",
       "    <tr>\n",
       "      <th>1</th>\n",
       "      <td>3_Zone</td>\n",
       "      <td>2_Zone</td>\n",
       "      <td>2_Zone</td>\n",
       "      <td>2_Zone</td>\n",
       "      <td>10 - 12</td>\n",
       "    </tr>\n",
       "    <tr>\n",
       "      <th>2</th>\n",
       "      <td>4_Zone</td>\n",
       "      <td>3_Zone</td>\n",
       "      <td>3_Zone</td>\n",
       "      <td>3_Zone</td>\n",
       "      <td>10 - 12</td>\n",
       "    </tr>\n",
       "  </tbody>\n",
       "</table>\n",
       "</div>"
      ],
      "text/plain": [
       "  Trackingsystem_Zone zone2_match previous1_zone next1_zone   system\n",
       "0              3_Zone      3_Zone         3_Zone     3_Zone  10 - 12\n",
       "1              3_Zone      2_Zone         2_Zone     2_Zone  10 - 12\n",
       "2              4_Zone      3_Zone         3_Zone     3_Zone  10 - 12"
      ]
     },
     "metadata": {},
     "output_type": "display_data"
    }
   ],
   "source": [
    "display(df_cleaning[config.li_cont_select].head(3))\n",
    "display(df_cleaning[config.li_cat_select].head(3))"
   ]
  },
  {
   "cell_type": "markdown",
   "metadata": {},
   "source": [
    "# Split into training and validation (for parameter tuning) & dummies"
   ]
  },
  {
   "cell_type": "code",
   "execution_count": 7,
   "metadata": {},
   "outputs": [
    {
     "name": "stdout",
     "output_type": "stream",
     "text": [
      "(4274, 27) (4274,)\n"
     ]
    }
   ],
   "source": [
    "#sklearn: RF and gradientboosting\n",
    "####### train,val & dummie #######\n",
    "#transform categorical data into dumies\n",
    "df_cl_d = pd.get_dummies(df_cleaning.filter(li_cont_select+li_cat_select, axis=1), columns=li_cat_select, drop_first=True)\n",
    "    \n",
    "#split into train, test and put into good format\n",
    "#train\n",
    "X_train = df_cl_d.values\n",
    "y_train = df_cleaning[['VideoAnalyse']].values\n",
    "y_train = np.ravel(y_train) #from (x,1) to (x,)\n",
    "print(X_train.shape, y_train.shape)\n",
    "\n",
    "#var name\n",
    "var_name = df_cl_d.columns\n",
    "#split into a validation dataset for first step of parameter tuning (ONLY TO narrow down without over-fitting)\n",
    "val_size = 0.2; rs = 0\n",
    "X_train_tuning, X_val_tuning, y_train_tuning, y_val_tuning = train_test_split(X_train, y_train, \n",
    "                                                                              test_size=val_size, random_state=rs)\n",
    "\n",
    "#small control: show rows with at least one nan\n",
    "if df_cl_d[df_cl_d.isna().any(axis=1)].shape[0]!=0:\n",
    "    print('ERROR: you have nan in your cleaning set')\n",
    "    sys.exit()"
   ]
  },
  {
   "cell_type": "markdown",
   "metadata": {},
   "source": [
    "# Model"
   ]
  },
  {
   "cell_type": "code",
   "execution_count": 8,
   "metadata": {},
   "outputs": [],
   "source": [
    "li_dico = []"
   ]
  },
  {
   "cell_type": "markdown",
   "metadata": {},
   "source": [
    "### 1 - Random forest & GradientBoostingMachine"
   ]
  },
  {
   "cell_type": "raw",
   "metadata": {},
   "source": [
    "--------- maxdepth\n",
    "=The maximum depth of the tree.\n",
    "if to big: risk of overfitting \n",
    "default=3 in GBM, \n",
    "default = None in RF (i.e. grows until all leaves are pure (i.e. all its data points contain the same label) or nbr sample < min_sample split(default 2), should be smaller for GBM as trees here should be simpler.\n",
    "From plot: RF: 13 GBM:5,6\n",
    "--------- n_estimators\n",
    "the more trees you add, the higher the risk of overfitting!! vs RF\n",
    "default=100 in both cases. \n",
    "we may want this to be bigger for RF\n",
    "RF:100-150\n",
    "GBM:100 \n",
    "--------- min_samples_split\n",
    "=min nbr of samples required to split a node\n",
    "default in both case is 2\n",
    "we may want this to be bigger for GBM (simple trees)\n",
    "RF:~5\n",
    "GBM:~10\n",
    "--------- min_samples_leaf\n",
    "=min samples at a leaf node\n",
    "default=1 in both cases\n",
    "we may want this to be bigger for GBM\n",
    "RF:2-3\n",
    "GBM:2-3\n",
    "--------- min_impurity_decrease\n",
    "=A node will be split if this split induces a decrease of the impurity greater than or equal to this value.\n",
    "default=0 in both cases\n",
    "min_impurity_decrease: https://towardsdatascience.com/decision-trees-and-random-forests-74b89a374db. Here is where min_impurity_decrease can help us as well. If the impurity of a split goes up then that would mean we are making a split which is not helping us and is instead over-fitting to the training data.\n",
    "RF: 0.00000001 to 0.0001\n",
    "GCB:0.00001 to 0.0001"
   ]
  },
  {
   "cell_type": "code",
   "execution_count": 9,
   "metadata": {
    "scrolled": true
   },
   "outputs": [
    {
     "name": "stderr",
     "output_type": "stream",
     "text": [
      "\r",
      "  0%|                                                                                            | 0/5 [00:00<?, ?it/s]"
     ]
    },
    {
     "data": {
      "image/png": "[encoded data removed]",
      "text/plain": [
       "<Figure size 432x288 with 1 Axes>"
      ]
     },
     "metadata": {
      "needs_background": "light"
     },
     "output_type": "display_data"
    },
    {
     "name": "stderr",
     "output_type": "stream",
     "text": [
      "\r",
      " 20%|████████████████▊                                                                   | 1/5 [00:40<02:42, 40.64s/it]"
     ]
    },
    {
     "data": {
      "image/png": "[encoded data removed]",
      "text/plain": [
       "<Figure size 432x288 with 1 Axes>"
      ]
     },
     "metadata": {
      "needs_background": "light"
     },
     "output_type": "display_data"
    },
    {
     "name": "stderr",
     "output_type": "stream",
     "text": [
      "\r",
      " 40%|█████████████████████████████████▌                                                  | 2/5 [00:56<01:39, 33.33s/it]"
     ]
    },
    {
     "data": {
      "image/png": "[encoded data removed]",
      "text/plain": [
       "<Figure size 432x288 with 1 Axes>"
      ]
     },
     "metadata": {
      "needs_background": "light"
     },
     "output_type": "display_data"
    },
    {
     "name": "stderr",
     "output_type": "stream",
     "text": [
      "\r",
      " 60%|██████████████████████████████████████████████████▍                                 | 3/5 [01:10<00:55, 27.50s/it]"
     ]
    },
    {
     "data": {
      "image/png": "[encoded data removed]",
      "text/plain": [
       "<Figure size 432x288 with 1 Axes>"
      ]
     },
     "metadata": {
      "needs_background": "light"
     },
     "output_type": "display_data"
    },
    {
     "name": "stderr",
     "output_type": "stream",
     "text": [
      "\r",
      " 80%|███████████████████████████████████████████████████████████████████▏                | 4/5 [01:15<00:20, 20.73s/it]"
     ]
    },
    {
     "data": {
      "image/png": "[encoded data removed]",
      "text/plain": [
       "<Figure size 432x288 with 1 Axes>"
      ]
     },
     "metadata": {
      "needs_background": "light"
     },
     "output_type": "display_data"
    },
    {
     "name": "stderr",
     "output_type": "stream",
     "text": [
      "100%|████████████████████████████████████████████████████████████████████████████████████| 5/5 [01:34<00:00, 18.85s/it]\n"
     ]
    }
   ],
   "source": [
    "#FIRST: SEE WHICH RANGE FOR EACH PARAMETER AVOIDING OVERFITTING\n",
    "li_plt = []\n",
    "dico_hyperparam_values = {'max_depth': range(2,20),\n",
    "                          'n_estimators': range(40,300,20),\n",
    "                          'min_samples_split':range(2,20),\n",
    "                          'min_samples_leaf':range(1,7),\n",
    "                          'min_impurity_decrease':[x for x in np.linspace(start = 0, stop = 0.005, num = 30)]}\n",
    "\n",
    "#lets fix maxdepth first and then keep rest default except max_features\n",
    "for hp,li in tqdm.tqdm(dico_hyperparam_values.items()):\n",
    "    for v in li:\n",
    "        if hp=='max_depth':\n",
    "            dico_mod = {'RandomForest':RandomForestClassifier(max_features='sqrt', random_state=rs,\n",
    "                                                             max_depth=v),\n",
    "                        'GradientBoostingClassifier': GradientBoostingClassifier(max_features='sqrt', random_state=rs,\n",
    "                                                                                 max_depth=v)}\n",
    "        if hp=='n_estimators':\n",
    "            dico_mod = {'RandomForest':RandomForestClassifier(max_features='sqrt', random_state=rs,\n",
    "                                                              max_depth = 9,                                                                                 min_samples_split=10,\n",
    "                                                              n_estimators=v),\n",
    "                        'GradientBoostingClassifier': GradientBoostingClassifier(max_features='sqrt', random_state=rs,\n",
    "                                                                                 max_depth = 5, \n",
    "                                                                                 n_estimators=v)}\n",
    "        if hp=='min_samples_split':\n",
    "            dico_mod = {'RandomForest':RandomForestClassifier(max_features='sqrt', random_state=rs,\n",
    "                                                              max_depth = 9, \n",
    "                                                              min_samples_split=v),\n",
    "                        'GradientBoostingClassifier': GradientBoostingClassifier(max_features='sqrt', random_state=rs,\n",
    "                                                                                 max_depth = 5,\n",
    "                                                                                 min_samples_split=v)}\n",
    "        if hp=='min_samples_leaf':\n",
    "            dico_mod = {'RandomForest':RandomForestClassifier(max_features='sqrt', random_state=rs,\n",
    "                                                              max_depth = 9, \n",
    "                                                              min_samples_leaf=v),\n",
    "                        'GradientBoostingClassifier': GradientBoostingClassifier(max_features='sqrt', random_state=rs,\n",
    "                                                                                 max_depth = 5, \n",
    "                                                                                 min_samples_leaf=v)}\n",
    "        if hp=='min_impurity_decrease':\n",
    "            dico_mod = {'RandomForest':RandomForestClassifier(max_features='sqrt', random_state=rs,\n",
    "                                                              max_depth = 9, \n",
    "                                                              min_impurity_decrease=v),\n",
    "                        'GradientBoostingClassifier': GradientBoostingClassifier(max_features='sqrt', random_state=rs,\n",
    "                                                                                 max_depth = 5, \n",
    "                                                                                 min_impurity_decrease=v)}\n",
    "        for name,mod in dico_mod.items():\n",
    "            mod.fit(X_train_tuning, y_train_tuning)\n",
    "            li_plt.append({'algo':name, hp:v, 'type':'training', 'accuracy':round(mod.score(X_train_tuning, y_train_tuning),2)})\n",
    "            li_plt.append({'algo':name, hp:v, 'type':'validation', 'accuracy':round(mod.score(X_val_tuning, y_val_tuning),2)})\n",
    "            #save it\n",
    "            #predictor.score(X,Y) internally calculates Y'=predictor.predict(X) and then compares Y' against Y to give an accuracy\n",
    "            #measure. This applies not only to logistic regression but to any other model.\n",
    "            li_dico.append({'algo':name, 'model_param_used':mod,\n",
    "                            'accuracy_training':round(mod.score(X_train_tuning, y_train_tuning),2),\n",
    "                            'accuracy_validation':round(mod.score(X_val_tuning, y_val_tuning),2)})\n",
    "    sns.lineplot(data=pd.DataFrame(li_plt), x=hp, y=\"accuracy\", hue=\"algo\", style=\"type\");\n",
    "    plt.savefig(os.path.join(path_extracted_data_cleaning,id_run+'_ClassifierParamTuning_'+hp+'.png'), bbox_inches='tight')\n",
    "    plt.show()"
   ]
  },
  {
   "cell_type": "markdown",
   "metadata": {},
   "source": [
    "### 1- Random Forest"
   ]
  },
  {
   "cell_type": "raw",
   "metadata": {},
   "source": [
    "class weight but no early stopping"
   ]
  },
  {
   "cell_type": "code",
   "execution_count": 10,
   "metadata": {},
   "outputs": [
    {
     "name": "stderr",
     "output_type": "stream",
     "text": [
      "[Parallel(n_jobs=-1)]: Using backend LokyBackend with 12 concurrent workers.\n"
     ]
    },
    {
     "name": "stdout",
     "output_type": "stream",
     "text": [
      "6.973880597014926\n",
      "Fitting 3 folds for each of 3360 candidates, totalling 10080 fits\n"
     ]
    },
    {
     "name": "stderr",
     "output_type": "stream",
     "text": [
      "[Parallel(n_jobs=-1)]: Done  17 tasks      | elapsed:    3.0s\n",
      "[Parallel(n_jobs=-1)]: Done 138 tasks      | elapsed:    6.4s\n",
      "[Parallel(n_jobs=-1)]: Done 341 tasks      | elapsed:   11.8s\n",
      "[Parallel(n_jobs=-1)]: Done 624 tasks      | elapsed:   19.5s\n",
      "[Parallel(n_jobs=-1)]: Done 989 tasks      | elapsed:   29.7s\n",
      "[Parallel(n_jobs=-1)]: Done 1434 tasks      | elapsed:   42.2s\n",
      "[Parallel(n_jobs=-1)]: Done 1961 tasks      | elapsed:   57.3s\n",
      "[Parallel(n_jobs=-1)]: Done 2568 tasks      | elapsed:  1.2min\n",
      "[Parallel(n_jobs=-1)]: Done 3257 tasks      | elapsed:  1.6min\n",
      "[Parallel(n_jobs=-1)]: Done 4026 tasks      | elapsed:  1.9min\n",
      "[Parallel(n_jobs=-1)]: Done 4877 tasks      | elapsed:  2.3min\n",
      "[Parallel(n_jobs=-1)]: Done 5808 tasks      | elapsed:  2.8min\n",
      "[Parallel(n_jobs=-1)]: Done 6821 tasks      | elapsed:  3.3min\n",
      "[Parallel(n_jobs=-1)]: Done 7914 tasks      | elapsed:  3.9min\n",
      "[Parallel(n_jobs=-1)]: Done 9089 tasks      | elapsed:  4.5min\n",
      "[Parallel(n_jobs=-1)]: Done 10080 out of 10080 | elapsed:  5.0min finished\n"
     ]
    },
    {
     "data": {
      "text/plain": [
       "RandomForestClassifier(class_weight={0: 3.986940298507463,\n",
       "                                     1: 0.5716960941680043},\n",
       "                       criterion='entropy', max_depth=11, max_features='sqrt',\n",
       "                       min_impurity_decrease=0.001, min_samples_leaf=2,\n",
       "                       min_samples_split=3, n_estimators=80)"
      ]
     },
     "metadata": {},
     "output_type": "display_data"
    }
   ],
   "source": [
    "#THEN: refine the parameters using GridSearchCV with 3-fold cross validation\n",
    "x1 = df_cleaning[df_cleaning['VideoAnalyse']==1].shape[0]\n",
    "x0 = df_cleaning[df_cleaning['VideoAnalyse']==0].shape[0]\n",
    "print(x1/x0) #for class weight\n",
    "classes = np.unique(y_train)\n",
    "weights = compute_class_weight(class_weight='balanced', classes=classes, y=y_train)\n",
    "class_weights = dict(zip(classes, weights)) #similar as : {0:x1/x0, 1:1}\n",
    "P = {'max_features': ['sqrt'], #nbr of features to consider when looking for the best split\n",
    "      'criterion':['gini', 'entropy'],\n",
    "      'max_depth': [9,10,11],\n",
    "      'min_samples_leaf': [2,3],#min samples at a leaf node\n",
    "      'min_samples_split':[2,3,4,5], #min nbr of samples required to split a node, we may want this to be bigger for RF (more complex trees)\n",
    "      'n_estimators':[40,50,60,70,80,90,100],#nbr of trees in the forest default=100\n",
    "      'min_impurity_decrease':[x for x in np.linspace(start = 0.000001, stop = 0.001, num = 10)],\n",
    "      'bootstrap': [True],\n",
    "      'class_weight': [class_weights]}\n",
    "#define the model with all these options and fit it (as many combination as asked for). \n",
    "#refit: fit an estimator using the best found parameters on the whole dataset, then we can extract it with best_estimator_\n",
    "mod = GridSearchCV(estimator = RandomForestClassifier(), param_grid = P, cv = 3, n_jobs = -1, verbose = 2, refit=True) \n",
    "mod.fit(X_train, y_train)\n",
    "#extract best already fitted model and save it \n",
    "mod_final = mod.best_estimator_\n",
    "joblib.dump(mod_final, os.path.join(path_extracted_data_cleaning_model, 'selected_randomforest.pkl') )\n",
    "display(mod_final)"
   ]
  },
  {
   "cell_type": "code",
   "execution_count": 11,
   "metadata": {},
   "outputs": [
    {
     "data": {
      "text/html": [
       "<div>\n",
       "<style scoped>\n",
       "    .dataframe tbody tr th:only-of-type {\n",
       "        vertical-align: middle;\n",
       "    }\n",
       "\n",
       "    .dataframe tbody tr th {\n",
       "        vertical-align: top;\n",
       "    }\n",
       "\n",
       "    .dataframe thead th {\n",
       "        text-align: right;\n",
       "    }\n",
       "</style>\n",
       "<table border=\"1\" class=\"dataframe\">\n",
       "  <thead>\n",
       "    <tr style=\"text-align: right;\">\n",
       "      <th></th>\n",
       "      <th>algo</th>\n",
       "      <th>model_param_used</th>\n",
       "      <th>accuracy_training</th>\n",
       "      <th>accuracy_validation</th>\n",
       "    </tr>\n",
       "  </thead>\n",
       "  <tbody>\n",
       "    <tr>\n",
       "      <th>0</th>\n",
       "      <td>RandomForest</td>\n",
       "      <td>(DecisionTreeClassifier(max_depth=2, max_featu...</td>\n",
       "      <td>0.960</td>\n",
       "      <td>0.97</td>\n",
       "    </tr>\n",
       "    <tr>\n",
       "      <th>1</th>\n",
       "      <td>GradientBoostingClassifier</td>\n",
       "      <td>([DecisionTreeRegressor(criterion='friedman_ms...</td>\n",
       "      <td>0.980</td>\n",
       "      <td>0.98</td>\n",
       "    </tr>\n",
       "    <tr>\n",
       "      <th>2</th>\n",
       "      <td>RandomForest</td>\n",
       "      <td>(DecisionTreeClassifier(max_depth=3, max_featu...</td>\n",
       "      <td>0.960</td>\n",
       "      <td>0.97</td>\n",
       "    </tr>\n",
       "    <tr>\n",
       "      <th>3</th>\n",
       "      <td>GradientBoostingClassifier</td>\n",
       "      <td>([DecisionTreeRegressor(criterion='friedman_ms...</td>\n",
       "      <td>0.990</td>\n",
       "      <td>0.99</td>\n",
       "    </tr>\n",
       "    <tr>\n",
       "      <th>4</th>\n",
       "      <td>RandomForest</td>\n",
       "      <td>(DecisionTreeClassifier(max_depth=4, max_featu...</td>\n",
       "      <td>0.970</td>\n",
       "      <td>0.98</td>\n",
       "    </tr>\n",
       "    <tr>\n",
       "      <th>...</th>\n",
       "      <td>...</td>\n",
       "      <td>...</td>\n",
       "      <td>...</td>\n",
       "      <td>...</td>\n",
       "    </tr>\n",
       "    <tr>\n",
       "      <th>166</th>\n",
       "      <td>RandomForest</td>\n",
       "      <td>(DecisionTreeClassifier(max_depth=9, max_featu...</td>\n",
       "      <td>0.960</td>\n",
       "      <td>0.97</td>\n",
       "    </tr>\n",
       "    <tr>\n",
       "      <th>167</th>\n",
       "      <td>GradientBoostingClassifier</td>\n",
       "      <td>([DecisionTreeRegressor(criterion='friedman_ms...</td>\n",
       "      <td>1.000</td>\n",
       "      <td>0.99</td>\n",
       "    </tr>\n",
       "    <tr>\n",
       "      <th>168</th>\n",
       "      <td>RandomForest</td>\n",
       "      <td>(DecisionTreeClassifier(max_depth=9, max_featu...</td>\n",
       "      <td>0.960</td>\n",
       "      <td>0.97</td>\n",
       "    </tr>\n",
       "    <tr>\n",
       "      <th>169</th>\n",
       "      <td>GradientBoostingClassifier</td>\n",
       "      <td>([DecisionTreeRegressor(criterion='friedman_ms...</td>\n",
       "      <td>1.000</td>\n",
       "      <td>0.99</td>\n",
       "    </tr>\n",
       "    <tr>\n",
       "      <th>170</th>\n",
       "      <td>best-randomforest</td>\n",
       "      <td>(DecisionTreeClassifier(criterion='entropy', m...</td>\n",
       "      <td>0.994</td>\n",
       "      <td>NaN</td>\n",
       "    </tr>\n",
       "  </tbody>\n",
       "</table>\n",
       "<p>171 rows × 4 columns</p>\n",
       "</div>"
      ],
      "text/plain": [
       "                           algo  \\\n",
       "0                  RandomForest   \n",
       "1    GradientBoostingClassifier   \n",
       "2                  RandomForest   \n",
       "3    GradientBoostingClassifier   \n",
       "4                  RandomForest   \n",
       "..                          ...   \n",
       "166                RandomForest   \n",
       "167  GradientBoostingClassifier   \n",
       "168                RandomForest   \n",
       "169  GradientBoostingClassifier   \n",
       "170           best-randomforest   \n",
       "\n",
       "                                      model_param_used  accuracy_training  \\\n",
       "0    (DecisionTreeClassifier(max_depth=2, max_featu...              0.960   \n",
       "1    ([DecisionTreeRegressor(criterion='friedman_ms...              0.980   \n",
       "2    (DecisionTreeClassifier(max_depth=3, max_featu...              0.960   \n",
       "3    ([DecisionTreeRegressor(criterion='friedman_ms...              0.990   \n",
       "4    (DecisionTreeClassifier(max_depth=4, max_featu...              0.970   \n",
       "..                                                 ...                ...   \n",
       "166  (DecisionTreeClassifier(max_depth=9, max_featu...              0.960   \n",
       "167  ([DecisionTreeRegressor(criterion='friedman_ms...              1.000   \n",
       "168  (DecisionTreeClassifier(max_depth=9, max_featu...              0.960   \n",
       "169  ([DecisionTreeRegressor(criterion='friedman_ms...              1.000   \n",
       "170  (DecisionTreeClassifier(criterion='entropy', m...              0.994   \n",
       "\n",
       "     accuracy_validation  \n",
       "0                   0.97  \n",
       "1                   0.98  \n",
       "2                   0.97  \n",
       "3                   0.99  \n",
       "4                   0.98  \n",
       "..                   ...  \n",
       "166                 0.97  \n",
       "167                 0.99  \n",
       "168                 0.97  \n",
       "169                 0.99  \n",
       "170                  NaN  \n",
       "\n",
       "[171 rows x 4 columns]"
      ]
     },
     "execution_count": 11,
     "metadata": {},
     "output_type": "execute_result"
    }
   ],
   "source": [
    "#no validation as used 3-fold cross validation\n",
    "li_dico.append({'algo':'best-randomforest', 'model_param_used':mod_final, \n",
    "                'accuracy_training':round(mod_final.score(X_train, y_train),3)})\n",
    "pd.DataFrame(li_dico)"
   ]
  },
  {
   "cell_type": "markdown",
   "metadata": {},
   "source": [
    "### 2 - GradientBoostingClassifier"
   ]
  },
  {
   "cell_type": "raw",
   "metadata": {},
   "source": [
    "early stopping but no class weight\n",
    "Sample Weights change the loss function and your score that you're trying to optimize. This is often used in case of survey data where sampling approaches have gaps.\n",
    "\n",
    "Class Weights are used to correct class imbalances as a proxy for over \\ undersampling. There is no direct way to do that for GB in sklearn"
   ]
  },
  {
   "cell_type": "code",
   "execution_count": 12,
   "metadata": {
    "scrolled": true
   },
   "outputs": [
    {
     "name": "stdout",
     "output_type": "stream",
     "text": [
      "Fitting 3 folds for each of 75600 candidates, totalling 226800 fits\n"
     ]
    },
    {
     "name": "stderr",
     "output_type": "stream",
     "text": [
      "[Parallel(n_jobs=-1)]: Using backend LokyBackend with 12 concurrent workers.\n",
      "[Parallel(n_jobs=-1)]: Done  17 tasks      | elapsed:    0.1s\n",
      "[Parallel(n_jobs=-1)]: Done 252 tasks      | elapsed:    3.1s\n",
      "[Parallel(n_jobs=-1)]: Done 658 tasks      | elapsed:    8.6s\n",
      "[Parallel(n_jobs=-1)]: Done 1224 tasks      | elapsed:   16.4s\n",
      "[Parallel(n_jobs=-1)]: Done 1954 tasks      | elapsed:   26.9s\n",
      "[Parallel(n_jobs=-1)]: Done 2844 tasks      | elapsed:   39.2s\n",
      "[Parallel(n_jobs=-1)]: Done 3898 tasks      | elapsed:   53.0s\n",
      "[Parallel(n_jobs=-1)]: Done 5112 tasks      | elapsed:  1.2min\n",
      "[Parallel(n_jobs=-1)]: Done 6490 tasks      | elapsed:  1.5min\n",
      "[Parallel(n_jobs=-1)]: Done 8028 tasks      | elapsed:  1.8min\n",
      "[Parallel(n_jobs=-1)]: Done 9730 tasks      | elapsed:  2.3min\n",
      "[Parallel(n_jobs=-1)]: Done 11592 tasks      | elapsed:  2.8min\n",
      "[Parallel(n_jobs=-1)]: Done 13618 tasks      | elapsed:  3.4min\n",
      "[Parallel(n_jobs=-1)]: Done 15804 tasks      | elapsed:  4.0min\n",
      "[Parallel(n_jobs=-1)]: Done 18154 tasks      | elapsed:  4.7min\n",
      "[Parallel(n_jobs=-1)]: Done 20664 tasks      | elapsed:  5.5min\n",
      "[Parallel(n_jobs=-1)]: Done 23338 tasks      | elapsed:  6.4min\n",
      "[Parallel(n_jobs=-1)]: Done 26172 tasks      | elapsed:  7.4min\n",
      "[Parallel(n_jobs=-1)]: Done 29170 tasks      | elapsed:  8.5min\n",
      "[Parallel(n_jobs=-1)]: Done 32328 tasks      | elapsed:  9.8min\n",
      "[Parallel(n_jobs=-1)]: Done 35650 tasks      | elapsed: 11.2min\n",
      "[Parallel(n_jobs=-1)]: Done 39132 tasks      | elapsed: 12.4min\n",
      "[Parallel(n_jobs=-1)]: Done 42778 tasks      | elapsed: 13.3min\n",
      "[Parallel(n_jobs=-1)]: Done 46584 tasks      | elapsed: 14.1min\n",
      "[Parallel(n_jobs=-1)]: Done 50554 tasks      | elapsed: 15.1min\n",
      "[Parallel(n_jobs=-1)]: Done 54684 tasks      | elapsed: 16.1min\n",
      "[Parallel(n_jobs=-1)]: Done 58978 tasks      | elapsed: 17.3min\n",
      "[Parallel(n_jobs=-1)]: Done 63432 tasks      | elapsed: 18.6min\n",
      "[Parallel(n_jobs=-1)]: Done 68050 tasks      | elapsed: 20.0min\n",
      "[Parallel(n_jobs=-1)]: Done 72828 tasks      | elapsed: 21.4min\n",
      "[Parallel(n_jobs=-1)]: Done 77770 tasks      | elapsed: 22.7min\n",
      "[Parallel(n_jobs=-1)]: Done 82872 tasks      | elapsed: 23.5min\n",
      "[Parallel(n_jobs=-1)]: Done 88138 tasks      | elapsed: 24.5min\n",
      "[Parallel(n_jobs=-1)]: Done 93564 tasks      | elapsed: 25.2min\n",
      "[Parallel(n_jobs=-1)]: Done 99154 tasks      | elapsed: 26.3min\n",
      "[Parallel(n_jobs=-1)]: Done 104904 tasks      | elapsed: 27.2min\n",
      "[Parallel(n_jobs=-1)]: Done 110818 tasks      | elapsed: 28.2min\n",
      "[Parallel(n_jobs=-1)]: Done 116892 tasks      | elapsed: 29.2min\n",
      "[Parallel(n_jobs=-1)]: Done 123130 tasks      | elapsed: 29.9min\n",
      "[Parallel(n_jobs=-1)]: Done 129528 tasks      | elapsed: 30.8min\n",
      "[Parallel(n_jobs=-1)]: Done 136090 tasks      | elapsed: 31.6min\n",
      "[Parallel(n_jobs=-1)]: Done 142812 tasks      | elapsed: 32.4min\n",
      "[Parallel(n_jobs=-1)]: Done 149698 tasks      | elapsed: 33.2min\n",
      "[Parallel(n_jobs=-1)]: Done 154008 tasks      | elapsed: 43.6min\n",
      "[Parallel(n_jobs=-1)]: Done 157613 tasks      | elapsed: 55.5min\n",
      "[Parallel(n_jobs=-1)]: Done 161298 tasks      | elapsed: 65.7min\n",
      "[Parallel(n_jobs=-1)]: Done 165065 tasks      | elapsed: 77.7min\n",
      "[Parallel(n_jobs=-1)]: Done 168912 tasks      | elapsed: 88.5min\n",
      "[Parallel(n_jobs=-1)]: Done 172841 tasks      | elapsed: 101.3min\n",
      "[Parallel(n_jobs=-1)]: Done 176850 tasks      | elapsed: 112.0min\n",
      "[Parallel(n_jobs=-1)]: Done 180941 tasks      | elapsed: 123.8min\n",
      "[Parallel(n_jobs=-1)]: Done 185112 tasks      | elapsed: 135.9min\n",
      "[Parallel(n_jobs=-1)]: Done 189365 tasks      | elapsed: 146.5min\n",
      "[Parallel(n_jobs=-1)]: Done 193698 tasks      | elapsed: 157.2min\n",
      "[Parallel(n_jobs=-1)]: Done 198113 tasks      | elapsed: 167.5min\n",
      "[Parallel(n_jobs=-1)]: Done 202608 tasks      | elapsed: 179.8min\n",
      "[Parallel(n_jobs=-1)]: Done 207185 tasks      | elapsed: 190.4min\n",
      "[Parallel(n_jobs=-1)]: Done 211842 tasks      | elapsed: 203.6min\n",
      "[Parallel(n_jobs=-1)]: Done 216581 tasks      | elapsed: 213.7min\n",
      "[Parallel(n_jobs=-1)]: Done 221400 tasks      | elapsed: 226.7min\n",
      "[Parallel(n_jobs=-1)]: Done 226301 tasks      | elapsed: 237.7min\n",
      "[Parallel(n_jobs=-1)]: Done 226800 out of 226800 | elapsed: 238.8min finished\n"
     ]
    },
    {
     "data": {
      "text/plain": [
       "GradientBoostingClassifier(learning_rate=0.15, max_depth=5, max_features='sqrt',\n",
       "                           min_impurity_decrease=0.000505, min_samples_leaf=2,\n",
       "                           min_samples_split=8, n_estimators=60,\n",
       "                           n_iter_no_change=8, tol=0.001,\n",
       "                           validation_fraction=0.2)"
      ]
     },
     "metadata": {},
     "output_type": "display_data"
    }
   ],
   "source": [
    "#THEN: refine the parameters using GridSearchCV with 3-fold cross validation\n",
    "P = {'max_features': ['sqrt'],\n",
    "     'n_estimators': [60,70,80,90,100], #the more trees you add, the higher the risk of overfitting!! default:100\n",
    "     'min_samples_split':range(3,9),\n",
    "     'min_samples_leaf':[2,3,4],\n",
    "     'max_depth': [2,3,4,5], #if to big: risk of overfitting default=3, should be smaller than RF, trees here should be simpler\n",
    "     'min_impurity_decrease':[x for x in np.linspace(start = 0.00001, stop = 0.001, num = 5)],\n",
    "     'learning_rate':[0.1,0.15],\n",
    "     'loss':['deviance'], #deviance is gradiant boosting\n",
    "     'criterion':['friedman_mse','mse','mae'],\n",
    "     'validation_fraction':[val_size], #to have early stopping avoiding overfitting keep same as for catboost\n",
    "     'n_iter_no_change':range(3,10),#to have early stopping avoiding overfitting. If set to a number, it will set aside validation_fraction size of the training data as validation and terminate training when validation score is not improving in all of the previous n_iter_no_change numbers of iterations.\n",
    "     'tol':[0.001] #to have early stopping avoiding overfitting. default 1e-4\n",
    "    }\n",
    "#define the model with all these options and fit it (as many combination as asked for). \n",
    "#refit: fit an estimator using the best found parameters on the whole dataset, then we can extract it with best_estimator_\n",
    "mod = GridSearchCV(estimator = GradientBoostingClassifier(), param_grid=P, cv=3, n_jobs=-1, verbose=2, refit=True) \n",
    "mod.fit(X_train, y_train)\n",
    "#extract best already fitted model and save it \n",
    "#explanation why we have a DecisionTreeRegressor as estimator: https://scikit-learn.org/stable/modules/ensemble.html#gradient-boosting\n",
    "mod_final = mod.best_estimator_\n",
    "joblib.dump(mod_final, os.path.join(path_extracted_data_cleaning_model, 'selected_GBC.pkl') )\n",
    "display(mod_final)"
   ]
  },
  {
   "cell_type": "code",
   "execution_count": 13,
   "metadata": {},
   "outputs": [
    {
     "data": {
      "text/html": [
       "<div>\n",
       "<style scoped>\n",
       "    .dataframe tbody tr th:only-of-type {\n",
       "        vertical-align: middle;\n",
       "    }\n",
       "\n",
       "    .dataframe tbody tr th {\n",
       "        vertical-align: top;\n",
       "    }\n",
       "\n",
       "    .dataframe thead th {\n",
       "        text-align: right;\n",
       "    }\n",
       "</style>\n",
       "<table border=\"1\" class=\"dataframe\">\n",
       "  <thead>\n",
       "    <tr style=\"text-align: right;\">\n",
       "      <th></th>\n",
       "      <th>algo</th>\n",
       "      <th>model_param_used</th>\n",
       "      <th>accuracy_training</th>\n",
       "      <th>accuracy_validation</th>\n",
       "    </tr>\n",
       "  </thead>\n",
       "  <tbody>\n",
       "    <tr>\n",
       "      <th>0</th>\n",
       "      <td>RandomForest</td>\n",
       "      <td>(DecisionTreeClassifier(max_depth=2, max_featu...</td>\n",
       "      <td>0.960</td>\n",
       "      <td>0.97</td>\n",
       "    </tr>\n",
       "    <tr>\n",
       "      <th>1</th>\n",
       "      <td>GradientBoostingClassifier</td>\n",
       "      <td>([DecisionTreeRegressor(criterion='friedman_ms...</td>\n",
       "      <td>0.980</td>\n",
       "      <td>0.98</td>\n",
       "    </tr>\n",
       "    <tr>\n",
       "      <th>2</th>\n",
       "      <td>RandomForest</td>\n",
       "      <td>(DecisionTreeClassifier(max_depth=3, max_featu...</td>\n",
       "      <td>0.960</td>\n",
       "      <td>0.97</td>\n",
       "    </tr>\n",
       "    <tr>\n",
       "      <th>3</th>\n",
       "      <td>GradientBoostingClassifier</td>\n",
       "      <td>([DecisionTreeRegressor(criterion='friedman_ms...</td>\n",
       "      <td>0.990</td>\n",
       "      <td>0.99</td>\n",
       "    </tr>\n",
       "    <tr>\n",
       "      <th>4</th>\n",
       "      <td>RandomForest</td>\n",
       "      <td>(DecisionTreeClassifier(max_depth=4, max_featu...</td>\n",
       "      <td>0.970</td>\n",
       "      <td>0.98</td>\n",
       "    </tr>\n",
       "    <tr>\n",
       "      <th>...</th>\n",
       "      <td>...</td>\n",
       "      <td>...</td>\n",
       "      <td>...</td>\n",
       "      <td>...</td>\n",
       "    </tr>\n",
       "    <tr>\n",
       "      <th>167</th>\n",
       "      <td>GradientBoostingClassifier</td>\n",
       "      <td>([DecisionTreeRegressor(criterion='friedman_ms...</td>\n",
       "      <td>1.000</td>\n",
       "      <td>0.99</td>\n",
       "    </tr>\n",
       "    <tr>\n",
       "      <th>168</th>\n",
       "      <td>RandomForest</td>\n",
       "      <td>(DecisionTreeClassifier(max_depth=9, max_featu...</td>\n",
       "      <td>0.960</td>\n",
       "      <td>0.97</td>\n",
       "    </tr>\n",
       "    <tr>\n",
       "      <th>169</th>\n",
       "      <td>GradientBoostingClassifier</td>\n",
       "      <td>([DecisionTreeRegressor(criterion='friedman_ms...</td>\n",
       "      <td>1.000</td>\n",
       "      <td>0.99</td>\n",
       "    </tr>\n",
       "    <tr>\n",
       "      <th>170</th>\n",
       "      <td>best-randomforest</td>\n",
       "      <td>(DecisionTreeClassifier(criterion='entropy', m...</td>\n",
       "      <td>0.994</td>\n",
       "      <td>NaN</td>\n",
       "    </tr>\n",
       "    <tr>\n",
       "      <th>171</th>\n",
       "      <td>best-GradientBoostingClassifier</td>\n",
       "      <td>([DecisionTreeRegressor(criterion='friedman_ms...</td>\n",
       "      <td>0.998</td>\n",
       "      <td>NaN</td>\n",
       "    </tr>\n",
       "  </tbody>\n",
       "</table>\n",
       "<p>172 rows × 4 columns</p>\n",
       "</div>"
      ],
      "text/plain": [
       "                                algo  \\\n",
       "0                       RandomForest   \n",
       "1         GradientBoostingClassifier   \n",
       "2                       RandomForest   \n",
       "3         GradientBoostingClassifier   \n",
       "4                       RandomForest   \n",
       "..                               ...   \n",
       "167       GradientBoostingClassifier   \n",
       "168                     RandomForest   \n",
       "169       GradientBoostingClassifier   \n",
       "170                best-randomforest   \n",
       "171  best-GradientBoostingClassifier   \n",
       "\n",
       "                                      model_param_used  accuracy_training  \\\n",
       "0    (DecisionTreeClassifier(max_depth=2, max_featu...              0.960   \n",
       "1    ([DecisionTreeRegressor(criterion='friedman_ms...              0.980   \n",
       "2    (DecisionTreeClassifier(max_depth=3, max_featu...              0.960   \n",
       "3    ([DecisionTreeRegressor(criterion='friedman_ms...              0.990   \n",
       "4    (DecisionTreeClassifier(max_depth=4, max_featu...              0.970   \n",
       "..                                                 ...                ...   \n",
       "167  ([DecisionTreeRegressor(criterion='friedman_ms...              1.000   \n",
       "168  (DecisionTreeClassifier(max_depth=9, max_featu...              0.960   \n",
       "169  ([DecisionTreeRegressor(criterion='friedman_ms...              1.000   \n",
       "170  (DecisionTreeClassifier(criterion='entropy', m...              0.994   \n",
       "171  ([DecisionTreeRegressor(criterion='friedman_ms...              0.998   \n",
       "\n",
       "     accuracy_validation  \n",
       "0                   0.97  \n",
       "1                   0.98  \n",
       "2                   0.97  \n",
       "3                   0.99  \n",
       "4                   0.98  \n",
       "..                   ...  \n",
       "167                 0.99  \n",
       "168                 0.97  \n",
       "169                 0.99  \n",
       "170                  NaN  \n",
       "171                  NaN  \n",
       "\n",
       "[172 rows x 4 columns]"
      ]
     },
     "execution_count": 13,
     "metadata": {},
     "output_type": "execute_result"
    }
   ],
   "source": [
    "#no validation as used 3-fold cross validation\n",
    "li_dico.append({'algo':'best-GradientBoostingClassifier', 'model_param_used':mod_final, \n",
    "                'accuracy_training':round(mod_final.score(X_train, y_train),3)})\n",
    "pd.DataFrame(li_dico)"
   ]
  },
  {
   "cell_type": "markdown",
   "metadata": {},
   "source": [
    "# save final results"
   ]
  },
  {
   "cell_type": "code",
   "execution_count": 14,
   "metadata": {},
   "outputs": [
    {
     "name": "stdout",
     "output_type": "stream",
     "text": [
      "(172, 4)\n"
     ]
    }
   ],
   "source": [
    "df_res = pd.DataFrame(li_dico)\n",
    "print(df_res.shape)\n",
    "df_res.to_csv(os.path.join(path_extracted_data_cleaning, 'RF&GB_finetuning.csv'), sep=';', index=False)      "
   ]
  },
  {
   "cell_type": "code",
   "execution_count": null,
   "metadata": {},
   "outputs": [],
   "source": []
  },
  {
   "cell_type": "code",
   "execution_count": null,
   "metadata": {},
   "outputs": [],
   "source": []
  },
  {
   "cell_type": "code",
   "execution_count": null,
   "metadata": {},
   "outputs": [],
   "source": []
  },
  {
   "cell_type": "code",
   "execution_count": null,
   "metadata": {},
   "outputs": [],
   "source": []
  },
  {
   "cell_type": "code",
   "execution_count": null,
   "metadata": {},
   "outputs": [],
   "source": []
  },
  {
   "cell_type": "code",
   "execution_count": null,
   "metadata": {},
   "outputs": [],
   "source": []
  }
 ],
 "metadata": {
  "kernelspec": {
   "display_name": "Python 3",
   "language": "python",
   "name": "python3"
  },
  "language_info": {
   "codemirror_mode": {
    "name": "ipython",
    "version": 3
   },
   "file_extension": ".py",
   "mimetype": "text/x-python",
   "name": "python",
   "nbconvert_exporter": "python",
   "pygments_lexer": "ipython3",
   "version": "3.8.5"
  }
 },
 "nbformat": 4,
 "nbformat_minor": 2
}
