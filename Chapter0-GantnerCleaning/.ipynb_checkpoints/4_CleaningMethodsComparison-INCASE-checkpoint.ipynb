{
 "cells": [
  {
   "cell_type": "code",
   "execution_count": 1,
   "metadata": {},
   "outputs": [
    {
     "name": "stderr",
     "output_type": "stream",
     "text": [
      "C:\\Users\\camil\\Anaconda3\\lib\\site-packages\\requests\\__init__.py:91: RequestsDependencyWarning: urllib3 (1.25.10) or chardet (3.0.4) doesn't match a supported version!\n",
      "  RequestsDependencyWarning)\n"
     ]
    }
   ],
   "source": [
    "#basic package\n",
    "import json\n",
    "import tqdm\n",
    "import os\n",
    "import numpy as np\n",
    "import glob\n",
    "import pandas as pd\n",
    "import sys\n",
    "import shutil\n",
    "import time\n",
    "import datetime as dt\n",
    "import itertools\n",
    "import time\n",
    "import re\n",
    "from collections import Counter\n",
    "from collections import defaultdict\n",
    "import operator\n",
    "import math\n",
    "import functools\n",
    "import collections\n",
    "import random\n",
    "\n",
    "#generate random id\n",
    "import uuid\n",
    "\n",
    "#ICC in python\n",
    "import pingouin as pg\n",
    "\n",
    "#modelling\n",
    "from sklearn.preprocessing import StandardScaler, MinMaxScaler\n",
    "from sklearn.utils import shuffle\n",
    "from sklearn.model_selection import train_test_split\n",
    "from sklearn.ensemble import GradientBoostingClassifier, RandomForestClassifier\n",
    "from xgboost import XGBClassifier\n",
    "from sklearn.neighbors import KNeighborsClassifier\n",
    "from sklearn.model_selection import GridSearchCV, RandomizedSearchCV\n",
    "from sklearn.metrics import classification_report, confusion_matrix, plot_confusion_matrix, cohen_kappa_score\n",
    "from xgboost import plot_importance\n",
    "#catboost, for a better support of categorical data\n",
    "from catboost import CatBoostClassifier, Pool\n",
    "#to use all except one core\n",
    "import multiprocessing\n",
    "\n",
    "#normality test of transitions\n",
    "from scipy.stats import shapiro\n",
    "from scipy.stats import normaltest\n",
    "from scipy.stats import anderson\n",
    "from termcolor import colored\n",
    "\n",
    "#plot\n",
    "import matplotlib.pyplot as plt\n",
    "import seaborn as sns"
   ]
  },
  {
   "cell_type": "code",
   "execution_count": 2,
   "metadata": {},
   "outputs": [
    {
     "name": "stderr",
     "output_type": "stream",
     "text": [
      "C:\\Users\\camil\\Anaconda3\\lib\\site-packages\\scipy\\sparse\\sparsetools.py:21: DeprecationWarning: `scipy.sparse.sparsetools` is deprecated!\n",
      "scipy.sparse.sparsetools is a private module for scipy.sparse, and should not be used.\n",
      "  _deprecated()\n"
     ]
    }
   ],
   "source": [
    "PACKAGE_PARENT = '../'\n",
    "SCRIPT_DIR = os.path.dirname(os.path.realpath(os.path.join(os.getcwd(), os.path.expanduser('__file__'))))\n",
    "sys.path.append(os.path.normpath(os.path.join(SCRIPT_DIR, PACKAGE_PARENT)))\n",
    "from UTILS import is_WG_open, ConfMat, list_of_zones, res_intodico, ShapiroTest, AgostinosK2Test\n",
    "import config_origins as config"
   ]
  },
  {
   "cell_type": "code",
   "execution_count": 3,
   "metadata": {},
   "outputs": [],
   "source": [
    "random.seed(0)"
   ]
  },
  {
   "cell_type": "markdown",
   "metadata": {},
   "source": [
    "# Download Input Data"
   ]
  },
  {
   "cell_type": "code",
   "execution_count": 4,
   "metadata": {},
   "outputs": [],
   "source": [
    "#define parameters\n",
    "path_extracted_data = config.path_extracted_data\n",
    "path_initial_data = config.path_initial_data\n",
    "id_run = config.id_run\n",
    "dico_matching = config.dico_matching\n",
    "dico_garden_opening_hour = config.dico_garden_opening_hour\n",
    "dico_BatchID_endhour = config.dico_BatchID_endhour\n",
    "path_extracted_data_cleaning = os.path.join(path_extracted_data,'Cleaning')    \n",
    "path_extracted_data_cleaning_model = os.path.join(path_extracted_data_cleaning,'model')    \n",
    "#feature for model\n",
    "li_cont_select = config.li_cont_select\n",
    "li_bin = config.li_bin\n",
    "li_cat_select = config.li_cat_select\n",
    "path__ = os.path.join(path_extracted_data_cleaning,'1secTS')\n",
    "#create a director if not existing\n",
    "if not os.path.exists(path__):\n",
    "    os.makedirs(path__)"
   ]
  },
  {
   "cell_type": "code",
   "execution_count": 5,
   "metadata": {},
   "outputs": [
    {
     "name": "stdout",
     "output_type": "stream",
     "text": [
      "(5356, 34)\n"
     ]
    },
    {
     "data": {
      "text/html": [
       "<div>\n",
       "<style scoped>\n",
       "    .dataframe tbody tr th:only-of-type {\n",
       "        vertical-align: middle;\n",
       "    }\n",
       "\n",
       "    .dataframe tbody tr th {\n",
       "        vertical-align: top;\n",
       "    }\n",
       "\n",
       "    .dataframe thead th {\n",
       "        text-align: right;\n",
       "    }\n",
       "</style>\n",
       "<table border=\"1\" class=\"dataframe\">\n",
       "  <thead>\n",
       "    <tr style=\"text-align: right;\">\n",
       "      <th></th>\n",
       "      <th>Timestamp</th>\n",
       "      <th>TagID</th>\n",
       "      <th>HenID</th>\n",
       "      <th>Zone</th>\n",
       "      <th>PenID</th>\n",
       "      <th>VideoAnalyse</th>\n",
       "      <th>system</th>\n",
       "      <th>date</th>\n",
       "      <th>type</th>\n",
       "      <th>signalstrength</th>\n",
       "      <th>...</th>\n",
       "      <th>duration</th>\n",
       "      <th>previous_duration</th>\n",
       "      <th>algo_type</th>\n",
       "      <th>previousZone==NextZone</th>\n",
       "      <th>next_duration</th>\n",
       "      <th>next2zone==Zone</th>\n",
       "      <th>previous2zone==Zone</th>\n",
       "      <th>zone3_match_exist</th>\n",
       "      <th>BatchID</th>\n",
       "      <th>ObservedZone</th>\n",
       "    </tr>\n",
       "  </thead>\n",
       "  <tbody>\n",
       "    <tr>\n",
       "      <th>4484</th>\n",
       "      <td>2020-10-18 12:47:36</td>\n",
       "      <td>92</td>\n",
       "      <td>hen_113</td>\n",
       "      <td>2_Zone</td>\n",
       "      <td>pen9</td>\n",
       "      <td>1</td>\n",
       "      <td>8 - 9</td>\n",
       "      <td>2020-10-18</td>\n",
       "      <td>students</td>\n",
       "      <td>14.0</td>\n",
       "      <td>...</td>\n",
       "      <td>80.0</td>\n",
       "      <td>235.0</td>\n",
       "      <td>cleaning</td>\n",
       "      <td>False</td>\n",
       "      <td>35.0</td>\n",
       "      <td>0.0</td>\n",
       "      <td>1.0</td>\n",
       "      <td>0.0</td>\n",
       "      <td>NaN</td>\n",
       "      <td>2_Zone</td>\n",
       "    </tr>\n",
       "    <tr>\n",
       "      <th>4793</th>\n",
       "      <td>2020-10-19 16:19:55</td>\n",
       "      <td>89</td>\n",
       "      <td>hen_45</td>\n",
       "      <td>3_Zone</td>\n",
       "      <td>pen12</td>\n",
       "      <td>1</td>\n",
       "      <td>10 - 12</td>\n",
       "      <td>2020-10-19</td>\n",
       "      <td>students</td>\n",
       "      <td>10.0</td>\n",
       "      <td>...</td>\n",
       "      <td>73.0</td>\n",
       "      <td>24.0</td>\n",
       "      <td>cleaning</td>\n",
       "      <td>True</td>\n",
       "      <td>375.0</td>\n",
       "      <td>0.0</td>\n",
       "      <td>0.0</td>\n",
       "      <td>1.0</td>\n",
       "      <td>NaN</td>\n",
       "      <td>3_Zone</td>\n",
       "    </tr>\n",
       "    <tr>\n",
       "      <th>4619</th>\n",
       "      <td>2020-10-18 11:25:12</td>\n",
       "      <td>91</td>\n",
       "      <td>hen_164</td>\n",
       "      <td>4_Zone</td>\n",
       "      <td>pen9</td>\n",
       "      <td>1</td>\n",
       "      <td>8 - 9</td>\n",
       "      <td>2020-10-18</td>\n",
       "      <td>students</td>\n",
       "      <td>22.0</td>\n",
       "      <td>...</td>\n",
       "      <td>89.0</td>\n",
       "      <td>124.0</td>\n",
       "      <td>cleaning</td>\n",
       "      <td>True</td>\n",
       "      <td>12.0</td>\n",
       "      <td>1.0</td>\n",
       "      <td>1.0</td>\n",
       "      <td>1.0</td>\n",
       "      <td>NaN</td>\n",
       "      <td>4_Zone</td>\n",
       "    </tr>\n",
       "  </tbody>\n",
       "</table>\n",
       "<p>3 rows × 34 columns</p>\n",
       "</div>"
      ],
      "text/plain": [
       "               Timestamp  TagID    HenID    Zone  PenID  VideoAnalyse  \\\n",
       "4484 2020-10-18 12:47:36     92  hen_113  2_Zone   pen9             1   \n",
       "4793 2020-10-19 16:19:55     89   hen_45  3_Zone  pen12             1   \n",
       "4619 2020-10-18 11:25:12     91  hen_164  4_Zone   pen9             1   \n",
       "\n",
       "       system       date      type  signalstrength  ...  duration  \\\n",
       "4484    8 - 9 2020-10-18  students            14.0  ...      80.0   \n",
       "4793  10 - 12 2020-10-19  students            10.0  ...      73.0   \n",
       "4619    8 - 9 2020-10-18  students            22.0  ...      89.0   \n",
       "\n",
       "     previous_duration algo_type previousZone==NextZone next_duration  \\\n",
       "4484             235.0  cleaning                  False          35.0   \n",
       "4793              24.0  cleaning                   True         375.0   \n",
       "4619             124.0  cleaning                   True          12.0   \n",
       "\n",
       "     next2zone==Zone previous2zone==Zone zone3_match_exist BatchID  \\\n",
       "4484             0.0                 1.0               0.0     NaN   \n",
       "4793             0.0                 0.0               1.0     NaN   \n",
       "4619             1.0                 1.0               1.0     NaN   \n",
       "\n",
       "     ObservedZone  \n",
       "4484       2_Zone  \n",
       "4793       3_Zone  \n",
       "4619       4_Zone  \n",
       "\n",
       "[3 rows x 34 columns]"
      ]
     },
     "execution_count": 5,
     "metadata": {},
     "output_type": "execute_result"
    }
   ],
   "source": [
    "df = pd.read_csv(os.path.join(path_extracted_data_cleaning, id_run+'InputCleaning.csv'), parse_dates=['Timestamp', 'date'], \n",
    "                 dayfirst=True, sep=';')\n",
    "df = shuffle(df)\n",
    "df['VideoAnalyse'] = df['VideoAnalyse'].map(lambda x: int(x))\n",
    "df_init = df.copy()\n",
    "print(df.shape)\n",
    "df.head(3)"
   ]
  },
  {
   "cell_type": "markdown",
   "metadata": {},
   "source": [
    "# Data preprocessing"
   ]
  },
  {
   "cell_type": "code",
   "execution_count": 6,
   "metadata": {},
   "outputs": [
    {
     "data": {
      "text/html": [
       "<div>\n",
       "<style scoped>\n",
       "    .dataframe tbody tr th:only-of-type {\n",
       "        vertical-align: middle;\n",
       "    }\n",
       "\n",
       "    .dataframe tbody tr th {\n",
       "        vertical-align: top;\n",
       "    }\n",
       "\n",
       "    .dataframe thead th {\n",
       "        text-align: right;\n",
       "    }\n",
       "</style>\n",
       "<table border=\"1\" class=\"dataframe\">\n",
       "  <thead>\n",
       "    <tr style=\"text-align: right;\">\n",
       "      <th></th>\n",
       "      <th>signalstrength</th>\n",
       "      <th>signalstzone2</th>\n",
       "      <th>duration</th>\n",
       "      <th>next_duration</th>\n",
       "      <th>previous_duration</th>\n",
       "      <th>next2zone==Zone</th>\n",
       "      <th>previous2zone==Zone</th>\n",
       "      <th>zone3_match_exist</th>\n",
       "    </tr>\n",
       "  </thead>\n",
       "  <tbody>\n",
       "    <tr>\n",
       "      <th>4484</th>\n",
       "      <td>14.0</td>\n",
       "      <td>8.0</td>\n",
       "      <td>80.0</td>\n",
       "      <td>35.0</td>\n",
       "      <td>235.0</td>\n",
       "      <td>0.0</td>\n",
       "      <td>1.0</td>\n",
       "      <td>0.0</td>\n",
       "    </tr>\n",
       "    <tr>\n",
       "      <th>4793</th>\n",
       "      <td>10.0</td>\n",
       "      <td>6.0</td>\n",
       "      <td>73.0</td>\n",
       "      <td>375.0</td>\n",
       "      <td>24.0</td>\n",
       "      <td>0.0</td>\n",
       "      <td>0.0</td>\n",
       "      <td>1.0</td>\n",
       "    </tr>\n",
       "    <tr>\n",
       "      <th>4619</th>\n",
       "      <td>22.0</td>\n",
       "      <td>9.0</td>\n",
       "      <td>89.0</td>\n",
       "      <td>12.0</td>\n",
       "      <td>124.0</td>\n",
       "      <td>1.0</td>\n",
       "      <td>1.0</td>\n",
       "      <td>1.0</td>\n",
       "    </tr>\n",
       "  </tbody>\n",
       "</table>\n",
       "</div>"
      ],
      "text/plain": [
       "      signalstrength  signalstzone2  duration  next_duration  \\\n",
       "4484            14.0            8.0      80.0           35.0   \n",
       "4793            10.0            6.0      73.0          375.0   \n",
       "4619            22.0            9.0      89.0           12.0   \n",
       "\n",
       "      previous_duration  next2zone==Zone  previous2zone==Zone  \\\n",
       "4484              235.0              0.0                  1.0   \n",
       "4793               24.0              0.0                  0.0   \n",
       "4619              124.0              1.0                  1.0   \n",
       "\n",
       "      zone3_match_exist  \n",
       "4484                0.0  \n",
       "4793                1.0  \n",
       "4619                1.0  "
      ]
     },
     "metadata": {},
     "output_type": "display_data"
    },
    {
     "data": {
      "text/html": [
       "<div>\n",
       "<style scoped>\n",
       "    .dataframe tbody tr th:only-of-type {\n",
       "        vertical-align: middle;\n",
       "    }\n",
       "\n",
       "    .dataframe tbody tr th {\n",
       "        vertical-align: top;\n",
       "    }\n",
       "\n",
       "    .dataframe thead th {\n",
       "        text-align: right;\n",
       "    }\n",
       "</style>\n",
       "<table border=\"1\" class=\"dataframe\">\n",
       "  <thead>\n",
       "    <tr style=\"text-align: right;\">\n",
       "      <th></th>\n",
       "      <th>signalstrength</th>\n",
       "      <th>signalstzone2</th>\n",
       "      <th>duration</th>\n",
       "      <th>next_duration</th>\n",
       "      <th>previous_duration</th>\n",
       "      <th>next2zone==Zone</th>\n",
       "      <th>previous2zone==Zone</th>\n",
       "      <th>zone3_match_exist</th>\n",
       "    </tr>\n",
       "  </thead>\n",
       "  <tbody>\n",
       "    <tr>\n",
       "      <th>4484</th>\n",
       "      <td>0.688701</td>\n",
       "      <td>0.13590</td>\n",
       "      <td>-0.046458</td>\n",
       "      <td>-0.055927</td>\n",
       "      <td>-0.022843</td>\n",
       "      <td>0.0</td>\n",
       "      <td>1.0</td>\n",
       "      <td>0.0</td>\n",
       "    </tr>\n",
       "    <tr>\n",
       "      <th>4793</th>\n",
       "      <td>-0.273020</td>\n",
       "      <td>-0.38420</td>\n",
       "      <td>-0.047369</td>\n",
       "      <td>-0.012083</td>\n",
       "      <td>-0.037162</td>\n",
       "      <td>0.0</td>\n",
       "      <td>0.0</td>\n",
       "      <td>1.0</td>\n",
       "    </tr>\n",
       "    <tr>\n",
       "      <th>4619</th>\n",
       "      <td>2.612143</td>\n",
       "      <td>0.39595</td>\n",
       "      <td>-0.045288</td>\n",
       "      <td>-0.058893</td>\n",
       "      <td>-0.030376</td>\n",
       "      <td>1.0</td>\n",
       "      <td>1.0</td>\n",
       "      <td>1.0</td>\n",
       "    </tr>\n",
       "  </tbody>\n",
       "</table>\n",
       "</div>"
      ],
      "text/plain": [
       "      signalstrength  signalstzone2  duration  next_duration  \\\n",
       "4484        0.688701        0.13590 -0.046458      -0.055927   \n",
       "4793       -0.273020       -0.38420 -0.047369      -0.012083   \n",
       "4619        2.612143        0.39595 -0.045288      -0.058893   \n",
       "\n",
       "      previous_duration  next2zone==Zone  previous2zone==Zone  \\\n",
       "4484          -0.022843              0.0                  1.0   \n",
       "4793          -0.037162              0.0                  0.0   \n",
       "4619          -0.030376              1.0                  1.0   \n",
       "\n",
       "      zone3_match_exist  \n",
       "4484                0.0  \n",
       "4793                1.0  \n",
       "4619                1.0  "
      ]
     },
     "metadata": {},
     "output_type": "display_data"
    },
    {
     "data": {
      "text/html": [
       "<div>\n",
       "<style scoped>\n",
       "    .dataframe tbody tr th:only-of-type {\n",
       "        vertical-align: middle;\n",
       "    }\n",
       "\n",
       "    .dataframe tbody tr th {\n",
       "        vertical-align: top;\n",
       "    }\n",
       "\n",
       "    .dataframe thead th {\n",
       "        text-align: right;\n",
       "    }\n",
       "</style>\n",
       "<table border=\"1\" class=\"dataframe\">\n",
       "  <thead>\n",
       "    <tr style=\"text-align: right;\">\n",
       "      <th></th>\n",
       "      <th>Zone</th>\n",
       "      <th>zone2_match</th>\n",
       "      <th>previous1_zone</th>\n",
       "      <th>next1_zone</th>\n",
       "      <th>PenID</th>\n",
       "    </tr>\n",
       "  </thead>\n",
       "  <tbody>\n",
       "    <tr>\n",
       "      <th>4484</th>\n",
       "      <td>2_Zone</td>\n",
       "      <td>1_Zone</td>\n",
       "      <td>1_Zone</td>\n",
       "      <td>3_Zone</td>\n",
       "      <td>pen9</td>\n",
       "    </tr>\n",
       "    <tr>\n",
       "      <th>4793</th>\n",
       "      <td>3_Zone</td>\n",
       "      <td>3_Zone</td>\n",
       "      <td>3_Zone</td>\n",
       "      <td>3_Zone</td>\n",
       "      <td>pen12</td>\n",
       "    </tr>\n",
       "    <tr>\n",
       "      <th>4619</th>\n",
       "      <td>4_Zone</td>\n",
       "      <td>5_Zone</td>\n",
       "      <td>5_Zone</td>\n",
       "      <td>5_Zone</td>\n",
       "      <td>pen9</td>\n",
       "    </tr>\n",
       "  </tbody>\n",
       "</table>\n",
       "</div>"
      ],
      "text/plain": [
       "        Zone zone2_match previous1_zone next1_zone  PenID\n",
       "4484  2_Zone      1_Zone         1_Zone     3_Zone   pen9\n",
       "4793  3_Zone      3_Zone         3_Zone     3_Zone  pen12\n",
       "4619  4_Zone      5_Zone         5_Zone     5_Zone   pen9"
      ]
     },
     "execution_count": 6,
     "metadata": {},
     "output_type": "execute_result"
    }
   ],
   "source": [
    "#scaling numerical data: necessary due to duration high values\n",
    "display(df[li_cont_select].head(3))\n",
    "sc = StandardScaler()\n",
    "li_scale = [x for x in li_cont_select if x not in li_bin]\n",
    "df[li_scale] = sc.fit_transform(df[li_scale])\n",
    "display(df[li_cont_select].head(3))\n",
    "\n",
    "#display categoricalfeatures\n",
    "df[li_cat_select].head(3)"
   ]
  },
  {
   "cell_type": "markdown",
   "metadata": {},
   "source": [
    "# Split into training-validation and testing (holdout dataset)"
   ]
  },
  {
   "cell_type": "code",
   "execution_count": 7,
   "metadata": {},
   "outputs": [
    {
     "data": {
      "text/plain": [
       "1    821\n",
       "0     42\n",
       "Name: VideoAnalyse, dtype: int64"
      ]
     },
     "execution_count": 7,
     "metadata": {},
     "output_type": "execute_result"
    }
   ],
   "source": [
    "df_testing = df[df['algo_type']=='verification'].copy()\n",
    "df_testing['VideoAnalyse'].value_counts()"
   ]
  },
  {
   "cell_type": "code",
   "execution_count": 8,
   "metadata": {},
   "outputs": [
    {
     "data": {
      "text/plain": [
       "<catboost.core.CatBoostClassifier at 0x1c14f63ada0>"
      ]
     },
     "execution_count": 8,
     "metadata": {},
     "output_type": "execute_result"
    }
   ],
   "source": [
    "model = CatBoostClassifier()\n",
    "model.load_model(os.path.join(path_extracted_data_cleaning_model,'FINAL_Catboost'));"
   ]
  },
  {
   "cell_type": "markdown",
   "metadata": {},
   "source": [
    "# Relevance on TESTING DATA"
   ]
  },
  {
   "cell_type": "raw",
   "metadata": {},
   "source": [
    "reading for evaluation measures: \n",
    "https://towardsdatascience.com/how-to-evaluate-your-machine-learning-models-with-python-code-5f8d2d8d945b"
   ]
  },
  {
   "cell_type": "code",
   "execution_count": 9,
   "metadata": {},
   "outputs": [
    {
     "data": {
      "text/html": [
       "<div>\n",
       "<style scoped>\n",
       "    .dataframe tbody tr th:only-of-type {\n",
       "        vertical-align: middle;\n",
       "    }\n",
       "\n",
       "    .dataframe tbody tr th {\n",
       "        vertical-align: top;\n",
       "    }\n",
       "\n",
       "    .dataframe thead th {\n",
       "        text-align: right;\n",
       "    }\n",
       "</style>\n",
       "<table border=\"1\" class=\"dataframe\">\n",
       "  <thead>\n",
       "    <tr style=\"text-align: right;\">\n",
       "      <th></th>\n",
       "      <th>Timestamp</th>\n",
       "      <th>TagID</th>\n",
       "      <th>HenID</th>\n",
       "      <th>Zone</th>\n",
       "      <th>PenID</th>\n",
       "      <th>VideoAnalyse</th>\n",
       "      <th>system</th>\n",
       "      <th>date</th>\n",
       "      <th>type</th>\n",
       "      <th>signalstrength</th>\n",
       "      <th>...</th>\n",
       "      <th>next2zone==Zone</th>\n",
       "      <th>previous2zone==Zone</th>\n",
       "      <th>zone3_match_exist</th>\n",
       "      <th>BatchID</th>\n",
       "      <th>ObservedZone</th>\n",
       "      <th>model_prediction</th>\n",
       "      <th>model_prediction_proba0</th>\n",
       "      <th>model_prediction_proba1</th>\n",
       "      <th>model_ObservedZone</th>\n",
       "      <th>tracking_prediction</th>\n",
       "    </tr>\n",
       "  </thead>\n",
       "  <tbody>\n",
       "    <tr>\n",
       "      <th>3636</th>\n",
       "      <td>2020-10-21 13:02:08</td>\n",
       "      <td>106</td>\n",
       "      <td>hen_29</td>\n",
       "      <td>3_Zone</td>\n",
       "      <td>pen9</td>\n",
       "      <td>1</td>\n",
       "      <td>8 - 9</td>\n",
       "      <td>2020-10-21</td>\n",
       "      <td>students</td>\n",
       "      <td>-0.27302</td>\n",
       "      <td>...</td>\n",
       "      <td>1.0</td>\n",
       "      <td>0.0</td>\n",
       "      <td>1.0</td>\n",
       "      <td>ID21</td>\n",
       "      <td>3_Zone</td>\n",
       "      <td>1</td>\n",
       "      <td>0.0</td>\n",
       "      <td>1.0</td>\n",
       "      <td>3_Zone</td>\n",
       "      <td>1</td>\n",
       "    </tr>\n",
       "    <tr>\n",
       "      <th>3387</th>\n",
       "      <td>2020-10-14 14:26:00</td>\n",
       "      <td>184</td>\n",
       "      <td>hen_110</td>\n",
       "      <td>3_Zone</td>\n",
       "      <td>pen9</td>\n",
       "      <td>1</td>\n",
       "      <td>8 - 9</td>\n",
       "      <td>2020-10-14</td>\n",
       "      <td>students</td>\n",
       "      <td>-0.03259</td>\n",
       "      <td>...</td>\n",
       "      <td>0.0</td>\n",
       "      <td>0.0</td>\n",
       "      <td>1.0</td>\n",
       "      <td>ID10</td>\n",
       "      <td>3_Zone</td>\n",
       "      <td>1</td>\n",
       "      <td>0.0</td>\n",
       "      <td>1.0</td>\n",
       "      <td>3_Zone</td>\n",
       "      <td>1</td>\n",
       "    </tr>\n",
       "    <tr>\n",
       "      <th>3869</th>\n",
       "      <td>2020-10-23 15:16:59</td>\n",
       "      <td>137</td>\n",
       "      <td>hen_140</td>\n",
       "      <td>3_Zone</td>\n",
       "      <td>pen10</td>\n",
       "      <td>1</td>\n",
       "      <td>10 - 12</td>\n",
       "      <td>2020-10-23</td>\n",
       "      <td>students</td>\n",
       "      <td>-0.03259</td>\n",
       "      <td>...</td>\n",
       "      <td>1.0</td>\n",
       "      <td>0.0</td>\n",
       "      <td>1.0</td>\n",
       "      <td>ID33</td>\n",
       "      <td>3_Zone</td>\n",
       "      <td>1</td>\n",
       "      <td>0.0</td>\n",
       "      <td>1.0</td>\n",
       "      <td>3_Zone</td>\n",
       "      <td>1</td>\n",
       "    </tr>\n",
       "  </tbody>\n",
       "</table>\n",
       "<p>3 rows × 39 columns</p>\n",
       "</div>"
      ],
      "text/plain": [
       "               Timestamp  TagID    HenID    Zone  PenID  VideoAnalyse  \\\n",
       "3636 2020-10-21 13:02:08    106   hen_29  3_Zone   pen9             1   \n",
       "3387 2020-10-14 14:26:00    184  hen_110  3_Zone   pen9             1   \n",
       "3869 2020-10-23 15:16:59    137  hen_140  3_Zone  pen10             1   \n",
       "\n",
       "       system       date      type  signalstrength  ...  next2zone==Zone  \\\n",
       "3636    8 - 9 2020-10-21  students        -0.27302  ...              1.0   \n",
       "3387    8 - 9 2020-10-14  students        -0.03259  ...              0.0   \n",
       "3869  10 - 12 2020-10-23  students        -0.03259  ...              1.0   \n",
       "\n",
       "     previous2zone==Zone zone3_match_exist BatchID ObservedZone  \\\n",
       "3636                 0.0               1.0    ID21       3_Zone   \n",
       "3387                 0.0               1.0    ID10       3_Zone   \n",
       "3869                 0.0               1.0    ID33       3_Zone   \n",
       "\n",
       "     model_prediction model_prediction_proba0 model_prediction_proba1  \\\n",
       "3636                1                     0.0                     1.0   \n",
       "3387                1                     0.0                     1.0   \n",
       "3869                1                     0.0                     1.0   \n",
       "\n",
       "     model_ObservedZone tracking_prediction  \n",
       "3636             3_Zone                   1  \n",
       "3387             3_Zone                   1  \n",
       "3869             3_Zone                   1  \n",
       "\n",
       "[3 rows x 39 columns]"
      ]
     },
     "metadata": {},
     "output_type": "display_data"
    }
   ],
   "source": [
    "##########################################################################################################\n",
    "################################################ predict #################################################\n",
    "##########################################################################################################\n",
    "predictions = model.predict(df_testing.filter(li_cont_select+li_cat_select, axis=1))\n",
    "prediction_proba = model.predict_proba(df_testing.filter(li_cont_select+li_cat_select, axis=1))\n",
    "df_testing['model_prediction'] = predictions\n",
    "df_testing['model_prediction_proba0'] = [round(x[0],2) for x in prediction_proba]\n",
    "df_testing['model_prediction_proba1'] = [round(x[1],2) for x in prediction_proba]\n",
    "#df_testing.groupby(['Zone','model_prediction'])['date'].count().reset_index()\n",
    "#add the zone that would be selected with this algorithm output: if==0, then the true zone is the one before\n",
    "#df_testing['model_prediction_init'] = df_testing['model_prediction'].astype(str)\n",
    "df_testing['VideoAnalyse'] = df_testing['VideoAnalyse'].astype(int)\n",
    "df_testing['model_ObservedZone'] = df_testing.apply(lambda x: x['Zone'] if x['model_prediction']==1 else x['previous1_zone'],\n",
    "                                                    axis=1)\n",
    "df_testing['tracking_prediction'] = 1\n",
    "#save\n",
    "df_testing.to_csv(os.path.join(path_extracted_data_cleaning, id_run+'_TestingMethods.csv'), index=False, sep=';')\n",
    "display(df_testing.head(3))"
   ]
  },
  {
   "cell_type": "code",
   "execution_count": null,
   "metadata": {},
   "outputs": [],
   "source": [
    "#small verification of algorithm for batch=ID30\n",
    "df_test = df_testing[df_testing['Timestamp']=='23.10.2020  15:15:40']\n",
    "#look on initial datasets\n",
    "display(df_init[df_init['Timestamp']=='23.10.2020  15:15:40'][['Timestamp','HenID',\n",
    "                                                               'VideoAnalyse']+li_cont_select+li_cat_select])\n",
    "model.predict_proba(df_test.filter(li_cont_select+li_cat_select, axis=1).values)"
   ]
  },
  {
   "cell_type": "markdown",
   "metadata": {},
   "source": [
    "#visualise how correct is the prediction compared to the certainty of the algo\n",
    "df_testing['is_correct4plot'] = df_testing.apply(lambda x: x['VideoAnalyse']==x['model_prediction'], axis=1)\n",
    "display(df_testing[['VideoAnalyse', 'model_prediction_init', 'model_prediction_proba0', \n",
    "                    'model_prediction_proba1','is_correct4plot']].head(3))\n",
    "df_testing.groupby(['is_correct4plot','VideoAnalyse'])[['model_prediction', 'model_prediction_proba0', \n",
    "                                                    'model_prediction_proba1']].agg(lambda x: np.median(list(x))).reset_index()"
   ]
  },
  {
   "cell_type": "markdown",
   "metadata": {},
   "source": [
    "#add rule: if max proba is <0.8 then keep correct record. Can be used to comapre the method!!\n",
    "df_testing['model_prediction'] = df_testing.apply(lambda x: '1' if max(x['model_prediction_proba0'],\n",
    "                                                            x['model_prediction_proba1'])<0.8 else x['model_prediction_init'], axis=1)\n",
    "df_testing['is_correct4plot_'] = df_testing.apply(lambda x: x['VideoAnalyse']==x['model_prediction'], axis=1)\n",
    "display(df_testing['is_correct4plot'].value_counts(), df_testing['is_correct4plot_'].value_counts())"
   ]
  },
  {
   "cell_type": "code",
   "execution_count": 10,
   "metadata": {},
   "outputs": [
    {
     "name": "stderr",
     "output_type": "stream",
     "text": [
      "100%|████████████████████████████████████████████████████████████████████████████████| 14/14 [00:00<00:00, 2339.36it/s]"
     ]
    },
    {
     "name": "stdout",
     "output_type": "stream",
     "text": [
      "[['ID11', 'ID22', 'ID6', 'ID40', 'ID32', 'ID24', 'ID28', 'ID7', 'ID12', 'ID23', 'ID42', 'ID36', 'ID18', 'ID29', 'ID16', 'ID9', 'ID5', 'ID26', 'ID34', 'ID17'], ['ID25', 'ID15', 'ID27', 'ID30', 'ID33', 'ID31', 'ID10', 'ID13', 'ID35', 'ID38', 'ID19', 'ID14', 'ID20', 'ID3', 'ID39', 'ID8', 'ID2', 'ID41', 'ID37', 'ID4']]\n",
      "[['ID35', 'ID3', 'ID12', 'ID30', 'ID4', 'ID9', 'ID39', 'ID36', 'ID8', 'ID17', 'ID10', 'ID21', 'ID42', 'ID11', 'ID38', 'ID5', 'ID37', 'ID18', 'ID24', 'ID25'], ['ID14', 'ID32', 'ID20', 'ID1', 'ID13', 'ID22', 'ID16', 'ID28', 'ID7', 'ID40', 'ID33', 'ID19', 'ID23', 'ID26', 'ID6', 'ID31', 'ID15', 'ID27', 'ID29', 'ID2']]\n"
     ]
    },
    {
     "name": "stderr",
     "output_type": "stream",
     "text": [
      "\n"
     ]
    }
   ],
   "source": [
    "##########################################################################################################\n",
    "################################# select pairs' combinations of batches ##################################\n",
    "##########################################################################################################\n",
    "\n",
    "#number of combination's pair to run for each size\n",
    "nbr_comb = 10\n",
    "#minimum nbr of batches to have in a run\n",
    "min_nbr_batch = 7 #5 is the minimum for transition reliability, so lets have it to be \"6\"\n",
    "#compute all possible batch combinations of any size\n",
    "li_batch = df_testing['BatchID'].unique()\n",
    "\n",
    "#list of distinct pairs of batch combinations of different size\n",
    "li_selected_combination_pairs = []\n",
    "#to have distinct pairs, we cant do more than half of what we have\n",
    "for nbr_batch in tqdm.tqdm(range(min_nbr_batch, int(len(li_batch)/2))):\n",
    "    li_sel = []\n",
    "    while len(li_sel)!=nbr_comb:\n",
    "        li_pair1 = random.sample(list(li_batch), nbr_batch)\n",
    "        li_pair2 = random.sample([x for x in li_batch if x not in li_pair1], nbr_batch) \n",
    "        li_sel.append([li_pair1,li_pair2])\n",
    "    li_selected_combination_pairs.extend(li_sel)\n",
    "#do the one with all batches for final outputs\n",
    "li_selected_combination_pairs.append([tuple(li_batch),tuple(li_batch)])\n",
    "print(li_selected_combination_pairs[-3])\n",
    "print(li_selected_combination_pairs[-2])"
   ]
  },
  {
   "cell_type": "code",
   "execution_count": 11,
   "metadata": {
    "scrolled": true
   },
   "outputs": [
    {
     "name": "stderr",
     "output_type": "stream",
     "text": [
      "\r",
      "  0%|                                                                                          | 0/141 [00:00<?, ?it/s]"
     ]
    },
    {
     "name": "stdout",
     "output_type": "stream",
     "text": [
      "(35, 6)\n",
      "(148, 39) (45660, 9) (35, 6)\n"
     ]
    },
    {
     "name": "stderr",
     "output_type": "stream",
     "text": [
      "C:\\Users\\camil\\Anaconda3\\lib\\site-packages\\sklearn\\metrics\\_classification.py:620: RuntimeWarning: invalid value encountered in true_divide\n",
      "  k = np.sum(w_mat * confusion) / np.sum(w_mat * expected)\n"
     ]
    },
    {
     "name": "stdout",
     "output_type": "stream",
     "text": [
      "(35, 6)\n",
      "(156, 39) (44640, 9) (35, 6)\n"
     ]
    },
    {
     "name": "stderr",
     "output_type": "stream",
     "text": [
      "C:\\Users\\camil\\Anaconda3\\lib\\site-packages\\sklearn\\metrics\\_classification.py:620: RuntimeWarning: invalid value encountered in true_divide\n",
      "  k = np.sum(w_mat * confusion) / np.sum(w_mat * expected)\n",
      "C:\\Users\\camil\\Anaconda3\\lib\\site-packages\\pingouin\\parametric.py:978: RuntimeWarning: divide by zero encountered in double_scalars\n",
      "  fval = msbetween / mserror\n",
      "C:\\Users\\camil\\Anaconda3\\lib\\site-packages\\pingouin\\reliability.py:320: RuntimeWarning: divide by zero encountered in double_scalars\n",
      "  f1k = msb / msw\n",
      "C:\\Users\\camil\\Anaconda3\\lib\\site-packages\\pingouin\\reliability.py:325: RuntimeWarning: divide by zero encountered in double_scalars\n",
      "  f2k = f3k = msb / mse\n",
      "C:\\Users\\camil\\Anaconda3\\lib\\site-packages\\pingouin\\reliability.py:349: RuntimeWarning: invalid value encountered in double_scalars\n",
      "  l1 = (f1l - 1) / (f1l + (k - 1))\n",
      "C:\\Users\\camil\\Anaconda3\\lib\\site-packages\\pingouin\\reliability.py:350: RuntimeWarning: invalid value encountered in double_scalars\n",
      "  u1 = (f1u - 1) / (f1u + (k - 1))\n",
      "C:\\Users\\camil\\Anaconda3\\lib\\site-packages\\pingouin\\reliability.py:353: RuntimeWarning: invalid value encountered in double_scalars\n",
      "  l3 = (f3l - 1) / (f3l + (k - 1))\n",
      "C:\\Users\\camil\\Anaconda3\\lib\\site-packages\\pingouin\\reliability.py:354: RuntimeWarning: invalid value encountered in double_scalars\n",
      "  u3 = (f3u - 1) / (f3u + (k - 1))\n",
      "C:\\Users\\camil\\Anaconda3\\lib\\site-packages\\pingouin\\reliability.py:356: RuntimeWarning: invalid value encountered in double_scalars\n",
      "  fj = msj / mse\n",
      "  1%|▌                                                                              | 1/141 [01:45<4:05:40, 105.29s/it]"
     ]
    },
    {
     "name": "stdout",
     "output_type": "stream",
     "text": [
      "(35, 6)\n",
      "(161, 39) (43320, 9) (35, 6)\n"
     ]
    },
    {
     "name": "stderr",
     "output_type": "stream",
     "text": [
      "C:\\Users\\camil\\Anaconda3\\lib\\site-packages\\sklearn\\metrics\\_classification.py:620: RuntimeWarning: invalid value encountered in true_divide\n",
      "  k = np.sum(w_mat * confusion) / np.sum(w_mat * expected)\n"
     ]
    },
    {
     "name": "stdout",
     "output_type": "stream",
     "text": [
      "(35, 6)\n",
      "(146, 39) (50460, 9) (35, 6)\n"
     ]
    },
    {
     "name": "stderr",
     "output_type": "stream",
     "text": [
      "C:\\Users\\camil\\Anaconda3\\lib\\site-packages\\sklearn\\metrics\\_classification.py:620: RuntimeWarning: invalid value encountered in true_divide\n",
      "  k = np.sum(w_mat * confusion) / np.sum(w_mat * expected)\n",
      "  1%|█                                                                              | 2/141 [03:31<4:04:44, 105.64s/it]"
     ]
    },
    {
     "name": "stdout",
     "output_type": "stream",
     "text": [
      "(35, 6)\n",
      "(127, 39) (43560, 9) (35, 6)\n"
     ]
    },
    {
     "name": "stderr",
     "output_type": "stream",
     "text": [
      "C:\\Users\\camil\\Anaconda3\\lib\\site-packages\\sklearn\\metrics\\_classification.py:620: RuntimeWarning: invalid value encountered in true_divide\n",
      "  k = np.sum(w_mat * confusion) / np.sum(w_mat * expected)\n",
      "C:\\Users\\camil\\Anaconda3\\lib\\site-packages\\pingouin\\parametric.py:978: RuntimeWarning: divide by zero encountered in double_scalars\n",
      "  fval = msbetween / mserror\n",
      "C:\\Users\\camil\\Anaconda3\\lib\\site-packages\\pingouin\\reliability.py:320: RuntimeWarning: divide by zero encountered in double_scalars\n",
      "  f1k = msb / msw\n",
      "C:\\Users\\camil\\Anaconda3\\lib\\site-packages\\pingouin\\reliability.py:325: RuntimeWarning: divide by zero encountered in double_scalars\n",
      "  f2k = f3k = msb / mse\n",
      "C:\\Users\\camil\\Anaconda3\\lib\\site-packages\\pingouin\\reliability.py:349: RuntimeWarning: invalid value encountered in double_scalars\n",
      "  l1 = (f1l - 1) / (f1l + (k - 1))\n",
      "C:\\Users\\camil\\Anaconda3\\lib\\site-packages\\pingouin\\reliability.py:350: RuntimeWarning: invalid value encountered in double_scalars\n",
      "  u1 = (f1u - 1) / (f1u + (k - 1))\n",
      "C:\\Users\\camil\\Anaconda3\\lib\\site-packages\\pingouin\\reliability.py:353: RuntimeWarning: invalid value encountered in double_scalars\n",
      "  l3 = (f3l - 1) / (f3l + (k - 1))\n",
      "C:\\Users\\camil\\Anaconda3\\lib\\site-packages\\pingouin\\reliability.py:354: RuntimeWarning: invalid value encountered in double_scalars\n",
      "  u3 = (f3u - 1) / (f3u + (k - 1))\n",
      "C:\\Users\\camil\\Anaconda3\\lib\\site-packages\\pingouin\\reliability.py:356: RuntimeWarning: invalid value encountered in double_scalars\n",
      "  fj = msj / mse\n"
     ]
    },
    {
     "name": "stdout",
     "output_type": "stream",
     "text": [
      "(35, 6)\n",
      "(148, 39) (40440, 9) (35, 6)\n"
     ]
    },
    {
     "name": "stderr",
     "output_type": "stream",
     "text": [
      "\r",
      "  2%|█▋                                                                              | 3/141 [04:32<3:32:06, 92.22s/it]"
     ]
    },
    {
     "name": "stdout",
     "output_type": "stream",
     "text": [
      "(35, 6)\n",
      "(143, 39) (37560, 9) (35, 6)\n",
      "(35, 6)\n",
      "(117, 39) (42540, 9) (35, 6)\n"
     ]
    },
    {
     "name": "stderr",
     "output_type": "stream",
     "text": [
      "C:\\Users\\camil\\Anaconda3\\lib\\site-packages\\sklearn\\metrics\\_classification.py:620: RuntimeWarning: invalid value encountered in true_divide\n",
      "  k = np.sum(w_mat * confusion) / np.sum(w_mat * expected)\n",
      "C:\\Users\\camil\\Anaconda3\\lib\\site-packages\\pingouin\\parametric.py:978: RuntimeWarning: divide by zero encountered in double_scalars\n",
      "  fval = msbetween / mserror\n",
      "  3%|██▎                                                                             | 4/141 [05:31<3:07:56, 82.31s/it]"
     ]
    },
    {
     "name": "stdout",
     "output_type": "stream",
     "text": [
      "(35, 6)\n",
      "(106, 39) (43080, 9) (35, 6)\n"
     ]
    },
    {
     "name": "stderr",
     "output_type": "stream",
     "text": [
      "C:\\Users\\camil\\Anaconda3\\lib\\site-packages\\sklearn\\metrics\\_classification.py:620: RuntimeWarning: invalid value encountered in true_divide\n",
      "  k = np.sum(w_mat * confusion) / np.sum(w_mat * expected)\n",
      "C:\\Users\\camil\\Anaconda3\\lib\\site-packages\\pingouin\\parametric.py:978: RuntimeWarning: divide by zero encountered in double_scalars\n",
      "  fval = msbetween / mserror\n"
     ]
    },
    {
     "name": "stdout",
     "output_type": "stream",
     "text": [
      "(35, 6)\n",
      "(197, 39) (44100, 9) (35, 6)\n"
     ]
    },
    {
     "name": "stderr",
     "output_type": "stream",
     "text": [
      "C:\\Users\\camil\\Anaconda3\\lib\\site-packages\\sklearn\\metrics\\_classification.py:620: RuntimeWarning: invalid value encountered in true_divide\n",
      "  k = np.sum(w_mat * confusion) / np.sum(w_mat * expected)\n",
      "C:\\Users\\camil\\Anaconda3\\lib\\site-packages\\pingouin\\parametric.py:978: RuntimeWarning: divide by zero encountered in double_scalars\n",
      "  fval = msbetween / mserror\n",
      "C:\\Users\\camil\\Anaconda3\\lib\\site-packages\\pingouin\\reliability.py:320: RuntimeWarning: divide by zero encountered in double_scalars\n",
      "  f1k = msb / msw\n",
      "C:\\Users\\camil\\Anaconda3\\lib\\site-packages\\pingouin\\reliability.py:325: RuntimeWarning: divide by zero encountered in double_scalars\n",
      "  f2k = f3k = msb / mse\n",
      "C:\\Users\\camil\\Anaconda3\\lib\\site-packages\\pingouin\\reliability.py:349: RuntimeWarning: invalid value encountered in double_scalars\n",
      "  l1 = (f1l - 1) / (f1l + (k - 1))\n",
      "C:\\Users\\camil\\Anaconda3\\lib\\site-packages\\pingouin\\reliability.py:350: RuntimeWarning: invalid value encountered in double_scalars\n",
      "  u1 = (f1u - 1) / (f1u + (k - 1))\n",
      "C:\\Users\\camil\\Anaconda3\\lib\\site-packages\\pingouin\\reliability.py:353: RuntimeWarning: invalid value encountered in double_scalars\n",
      "  l3 = (f3l - 1) / (f3l + (k - 1))\n",
      "C:\\Users\\camil\\Anaconda3\\lib\\site-packages\\pingouin\\reliability.py:354: RuntimeWarning: invalid value encountered in double_scalars\n",
      "  u3 = (f3u - 1) / (f3u + (k - 1))\n",
      "C:\\Users\\camil\\Anaconda3\\lib\\site-packages\\pingouin\\reliability.py:356: RuntimeWarning: invalid value encountered in double_scalars\n",
      "  fj = msj / mse\n",
      "  4%|██▊                                                                             | 5/141 [06:45<3:00:28, 79.62s/it]"
     ]
    },
    {
     "name": "stdout",
     "output_type": "stream",
     "text": [
      "(35, 6)\n",
      "(116, 39) (36600, 9) (35, 6)\n"
     ]
    },
    {
     "name": "stderr",
     "output_type": "stream",
     "text": [
      "C:\\Users\\camil\\Anaconda3\\lib\\site-packages\\sklearn\\metrics\\_classification.py:620: RuntimeWarning: invalid value encountered in true_divide\n",
      "  k = np.sum(w_mat * confusion) / np.sum(w_mat * expected)\n",
      "C:\\Users\\camil\\Anaconda3\\lib\\site-packages\\pingouin\\parametric.py:978: RuntimeWarning: divide by zero encountered in double_scalars\n",
      "  fval = msbetween / mserror\n"
     ]
    },
    {
     "name": "stdout",
     "output_type": "stream",
     "text": [
      "(35, 6)\n",
      "(147, 39) (50160, 9) (35, 6)\n"
     ]
    },
    {
     "name": "stderr",
     "output_type": "stream",
     "text": [
      "C:\\Users\\camil\\Anaconda3\\lib\\site-packages\\sklearn\\metrics\\_classification.py:620: RuntimeWarning: invalid value encountered in true_divide\n",
      "  k = np.sum(w_mat * confusion) / np.sum(w_mat * expected)\n",
      "  4%|███▍                                                                            | 6/141 [07:50<2:49:44, 75.44s/it]"
     ]
    },
    {
     "name": "stdout",
     "output_type": "stream",
     "text": [
      "(35, 6)\n",
      "(156, 39) (42960, 9) (35, 6)\n"
     ]
    },
    {
     "name": "stderr",
     "output_type": "stream",
     "text": [
      "C:\\Users\\camil\\Anaconda3\\lib\\site-packages\\sklearn\\metrics\\_classification.py:620: RuntimeWarning: invalid value encountered in true_divide\n",
      "  k = np.sum(w_mat * confusion) / np.sum(w_mat * expected)\n",
      "C:\\Users\\camil\\Anaconda3\\lib\\site-packages\\pingouin\\parametric.py:978: RuntimeWarning: divide by zero encountered in double_scalars\n",
      "  fval = msbetween / mserror\n",
      "C:\\Users\\camil\\Anaconda3\\lib\\site-packages\\pingouin\\reliability.py:320: RuntimeWarning: divide by zero encountered in double_scalars\n",
      "  f1k = msb / msw\n",
      "C:\\Users\\camil\\Anaconda3\\lib\\site-packages\\pingouin\\reliability.py:325: RuntimeWarning: divide by zero encountered in double_scalars\n",
      "  f2k = f3k = msb / mse\n",
      "C:\\Users\\camil\\Anaconda3\\lib\\site-packages\\pingouin\\reliability.py:349: RuntimeWarning: invalid value encountered in double_scalars\n",
      "  l1 = (f1l - 1) / (f1l + (k - 1))\n",
      "C:\\Users\\camil\\Anaconda3\\lib\\site-packages\\pingouin\\reliability.py:350: RuntimeWarning: invalid value encountered in double_scalars\n",
      "  u1 = (f1u - 1) / (f1u + (k - 1))\n",
      "C:\\Users\\camil\\Anaconda3\\lib\\site-packages\\pingouin\\reliability.py:353: RuntimeWarning: invalid value encountered in double_scalars\n",
      "  l3 = (f3l - 1) / (f3l + (k - 1))\n",
      "C:\\Users\\camil\\Anaconda3\\lib\\site-packages\\pingouin\\reliability.py:354: RuntimeWarning: invalid value encountered in double_scalars\n",
      "  u3 = (f3u - 1) / (f3u + (k - 1))\n",
      "C:\\Users\\camil\\Anaconda3\\lib\\site-packages\\pingouin\\reliability.py:356: RuntimeWarning: invalid value encountered in double_scalars\n",
      "  fj = msj / mse\n"
     ]
    },
    {
     "name": "stdout",
     "output_type": "stream",
     "text": [
      "(35, 6)\n",
      "(143, 39) (46020, 9) (35, 6)\n"
     ]
    },
    {
     "name": "stderr",
     "output_type": "stream",
     "text": [
      "C:\\Users\\camil\\Anaconda3\\lib\\site-packages\\sklearn\\metrics\\_classification.py:620: RuntimeWarning: invalid value encountered in true_divide\n",
      "  k = np.sum(w_mat * confusion) / np.sum(w_mat * expected)\n",
      "C:\\Users\\camil\\Anaconda3\\lib\\site-packages\\pingouin\\parametric.py:978: RuntimeWarning: divide by zero encountered in double_scalars\n",
      "  fval = msbetween / mserror\n",
      "C:\\Users\\camil\\Anaconda3\\lib\\site-packages\\pingouin\\reliability.py:325: RuntimeWarning: divide by zero encountered in double_scalars\n",
      "  f2k = f3k = msb / mse\n",
      "C:\\Users\\camil\\Anaconda3\\lib\\site-packages\\pingouin\\reliability.py:353: RuntimeWarning: invalid value encountered in double_scalars\n",
      "  l3 = (f3l - 1) / (f3l + (k - 1))\n",
      "C:\\Users\\camil\\Anaconda3\\lib\\site-packages\\pingouin\\reliability.py:354: RuntimeWarning: invalid value encountered in double_scalars\n",
      "  u3 = (f3u - 1) / (f3u + (k - 1))\n",
      "C:\\Users\\camil\\Anaconda3\\lib\\site-packages\\pingouin\\reliability.py:356: RuntimeWarning: divide by zero encountered in double_scalars\n",
      "  fj = msj / mse\n",
      "C:\\Users\\camil\\Anaconda3\\lib\\site-packages\\pingouin\\reliability.py:360: RuntimeWarning: invalid value encountered in double_scalars\n",
      "  v = vn / vd\n",
      "  5%|███▉                                                                            | 7/141 [08:51<2:38:52, 71.14s/it]"
     ]
    },
    {
     "name": "stdout",
     "output_type": "stream",
     "text": [
      "(35, 6)\n",
      "(118, 39) (39600, 9) (35, 6)\n"
     ]
    },
    {
     "name": "stderr",
     "output_type": "stream",
     "text": [
      "C:\\Users\\camil\\Anaconda3\\lib\\site-packages\\sklearn\\metrics\\_classification.py:620: RuntimeWarning: invalid value encountered in true_divide\n",
      "  k = np.sum(w_mat * confusion) / np.sum(w_mat * expected)\n"
     ]
    },
    {
     "name": "stdout",
     "output_type": "stream",
     "text": [
      "(28, 6)\n",
      "(104, 39) (43500, 9) (28, 6)\n"
     ]
    },
    {
     "name": "stderr",
     "output_type": "stream",
     "text": [
      "C:\\Users\\camil\\Anaconda3\\lib\\site-packages\\sklearn\\metrics\\_classification.py:620: RuntimeWarning: invalid value encountered in true_divide\n",
      "  k = np.sum(w_mat * confusion) / np.sum(w_mat * expected)\n",
      "  6%|████▌                                                                           | 8/141 [10:07<2:40:52, 72.58s/it]"
     ]
    },
    {
     "name": "stdout",
     "output_type": "stream",
     "text": [
      "(35, 6)\n",
      "(140, 39) (42000, 9) (35, 6)\n"
     ]
    },
    {
     "name": "stderr",
     "output_type": "stream",
     "text": [
      "C:\\Users\\camil\\Anaconda3\\lib\\site-packages\\sklearn\\metrics\\_classification.py:620: RuntimeWarning: invalid value encountered in true_divide\n",
      "  k = np.sum(w_mat * confusion) / np.sum(w_mat * expected)\n",
      "C:\\Users\\camil\\Anaconda3\\lib\\site-packages\\pingouin\\parametric.py:978: RuntimeWarning: divide by zero encountered in double_scalars\n",
      "  fval = msbetween / mserror\n",
      "C:\\Users\\camil\\Anaconda3\\lib\\site-packages\\pingouin\\reliability.py:320: RuntimeWarning: divide by zero encountered in double_scalars\n",
      "  f1k = msb / msw\n",
      "C:\\Users\\camil\\Anaconda3\\lib\\site-packages\\pingouin\\reliability.py:325: RuntimeWarning: divide by zero encountered in double_scalars\n",
      "  f2k = f3k = msb / mse\n",
      "C:\\Users\\camil\\Anaconda3\\lib\\site-packages\\pingouin\\reliability.py:349: RuntimeWarning: invalid value encountered in double_scalars\n",
      "  l1 = (f1l - 1) / (f1l + (k - 1))\n",
      "C:\\Users\\camil\\Anaconda3\\lib\\site-packages\\pingouin\\reliability.py:350: RuntimeWarning: invalid value encountered in double_scalars\n",
      "  u1 = (f1u - 1) / (f1u + (k - 1))\n",
      "C:\\Users\\camil\\Anaconda3\\lib\\site-packages\\pingouin\\reliability.py:353: RuntimeWarning: invalid value encountered in double_scalars\n",
      "  l3 = (f3l - 1) / (f3l + (k - 1))\n",
      "C:\\Users\\camil\\Anaconda3\\lib\\site-packages\\pingouin\\reliability.py:354: RuntimeWarning: invalid value encountered in double_scalars\n",
      "  u3 = (f3u - 1) / (f3u + (k - 1))\n",
      "C:\\Users\\camil\\Anaconda3\\lib\\site-packages\\pingouin\\reliability.py:356: RuntimeWarning: invalid value encountered in double_scalars\n",
      "  fj = msj / mse\n"
     ]
    },
    {
     "name": "stdout",
     "output_type": "stream",
     "text": [
      "(35, 6)\n",
      "(146, 39) (40620, 9) (35, 6)\n"
     ]
    },
    {
     "name": "stderr",
     "output_type": "stream",
     "text": [
      "C:\\Users\\camil\\Anaconda3\\lib\\site-packages\\sklearn\\metrics\\_classification.py:620: RuntimeWarning: invalid value encountered in true_divide\n",
      "  k = np.sum(w_mat * confusion) / np.sum(w_mat * expected)\n",
      "  6%|█████                                                                           | 9/141 [11:00<2:26:43, 66.69s/it]"
     ]
    },
    {
     "name": "stdout",
     "output_type": "stream",
     "text": [
      "(35, 6)\n",
      "(163, 39) (48780, 9) (35, 6)\n"
     ]
    },
    {
     "name": "stderr",
     "output_type": "stream",
     "text": [
      "C:\\Users\\camil\\Anaconda3\\lib\\site-packages\\sklearn\\metrics\\_classification.py:620: RuntimeWarning: invalid value encountered in true_divide\n",
      "  k = np.sum(w_mat * confusion) / np.sum(w_mat * expected)\n"
     ]
    },
    {
     "name": "stdout",
     "output_type": "stream",
     "text": [
      "(35, 6)\n",
      "(220, 39) (46140, 9) (35, 6)\n"
     ]
    },
    {
     "name": "stderr",
     "output_type": "stream",
     "text": [
      "C:\\Users\\camil\\Anaconda3\\lib\\site-packages\\sklearn\\metrics\\_classification.py:620: RuntimeWarning: invalid value encountered in true_divide\n",
      "  k = np.sum(w_mat * confusion) / np.sum(w_mat * expected)\n",
      "  7%|█████▌                                                                         | 10/141 [11:59<2:20:35, 64.39s/it]"
     ]
    },
    {
     "name": "stdout",
     "output_type": "stream",
     "text": [
      "(40, 6)\n",
      "(156, 39) (43980, 9) (40, 6)\n"
     ]
    },
    {
     "name": "stderr",
     "output_type": "stream",
     "text": [
      "C:\\Users\\camil\\Anaconda3\\lib\\site-packages\\sklearn\\metrics\\_classification.py:620: RuntimeWarning: invalid value encountered in true_divide\n",
      "  k = np.sum(w_mat * confusion) / np.sum(w_mat * expected)\n"
     ]
    },
    {
     "name": "stdout",
     "output_type": "stream",
     "text": [
      "(40, 6)\n",
      "(209, 39) (57240, 9) (40, 6)\n"
     ]
    },
    {
     "name": "stderr",
     "output_type": "stream",
     "text": [
      "C:\\Users\\camil\\Anaconda3\\lib\\site-packages\\sklearn\\metrics\\_classification.py:620: RuntimeWarning: invalid value encountered in true_divide\n",
      "  k = np.sum(w_mat * confusion) / np.sum(w_mat * expected)\n",
      "C:\\Users\\camil\\Anaconda3\\lib\\site-packages\\pingouin\\parametric.py:978: RuntimeWarning: divide by zero encountered in double_scalars\n",
      "  fval = msbetween / mserror\n",
      "C:\\Users\\camil\\Anaconda3\\lib\\site-packages\\pingouin\\reliability.py:320: RuntimeWarning: divide by zero encountered in double_scalars\n",
      "  f1k = msb / msw\n",
      "C:\\Users\\camil\\Anaconda3\\lib\\site-packages\\pingouin\\reliability.py:325: RuntimeWarning: divide by zero encountered in double_scalars\n",
      "  f2k = f3k = msb / mse\n",
      "C:\\Users\\camil\\Anaconda3\\lib\\site-packages\\pingouin\\reliability.py:349: RuntimeWarning: invalid value encountered in double_scalars\n",
      "  l1 = (f1l - 1) / (f1l + (k - 1))\n",
      "C:\\Users\\camil\\Anaconda3\\lib\\site-packages\\pingouin\\reliability.py:350: RuntimeWarning: invalid value encountered in double_scalars\n",
      "  u1 = (f1u - 1) / (f1u + (k - 1))\n",
      "C:\\Users\\camil\\Anaconda3\\lib\\site-packages\\pingouin\\reliability.py:353: RuntimeWarning: invalid value encountered in double_scalars\n",
      "  l3 = (f3l - 1) / (f3l + (k - 1))\n",
      "C:\\Users\\camil\\Anaconda3\\lib\\site-packages\\pingouin\\reliability.py:354: RuntimeWarning: invalid value encountered in double_scalars\n",
      "  u3 = (f3u - 1) / (f3u + (k - 1))\n",
      "C:\\Users\\camil\\Anaconda3\\lib\\site-packages\\pingouin\\reliability.py:356: RuntimeWarning: invalid value encountered in double_scalars\n",
      "  fj = msj / mse\n",
      "  8%|██████▏                                                                        | 11/141 [12:56<2:14:09, 61.92s/it]"
     ]
    },
    {
     "name": "stdout",
     "output_type": "stream",
     "text": [
      "(40, 6)\n",
      "(124, 39) (51960, 9) (40, 6)\n"
     ]
    },
    {
     "name": "stderr",
     "output_type": "stream",
     "text": [
      "C:\\Users\\camil\\Anaconda3\\lib\\site-packages\\sklearn\\metrics\\_classification.py:620: RuntimeWarning: invalid value encountered in true_divide\n",
      "  k = np.sum(w_mat * confusion) / np.sum(w_mat * expected)\n"
     ]
    },
    {
     "name": "stdout",
     "output_type": "stream",
     "text": [
      "(40, 6)\n",
      "(235, 39) (46920, 9) (40, 6)\n"
     ]
    },
    {
     "name": "stderr",
     "output_type": "stream",
     "text": [
      "C:\\Users\\camil\\Anaconda3\\lib\\site-packages\\sklearn\\metrics\\_classification.py:620: RuntimeWarning: invalid value encountered in true_divide\n",
      "  k = np.sum(w_mat * confusion) / np.sum(w_mat * expected)\n",
      "  9%|██████▋                                                                        | 12/141 [13:54<2:11:03, 60.95s/it]"
     ]
    },
    {
     "name": "stdout",
     "output_type": "stream",
     "text": [
      "(40, 6)\n",
      "(153, 39) (44820, 9) (40, 6)\n"
     ]
    },
    {
     "name": "stderr",
     "output_type": "stream",
     "text": [
      "C:\\Users\\camil\\Anaconda3\\lib\\site-packages\\sklearn\\metrics\\_classification.py:620: RuntimeWarning: invalid value encountered in true_divide\n",
      "  k = np.sum(w_mat * confusion) / np.sum(w_mat * expected)\n"
     ]
    },
    {
     "name": "stdout",
     "output_type": "stream",
     "text": [
      "(40, 6)\n",
      "(143, 39) (50640, 9) (40, 6)\n"
     ]
    },
    {
     "name": "stderr",
     "output_type": "stream",
     "text": [
      "C:\\Users\\camil\\Anaconda3\\lib\\site-packages\\sklearn\\metrics\\_classification.py:620: RuntimeWarning: invalid value encountered in true_divide\n",
      "  k = np.sum(w_mat * confusion) / np.sum(w_mat * expected)\n",
      "  9%|███████▎                                                                       | 13/141 [14:53<2:08:20, 60.16s/it]"
     ]
    },
    {
     "name": "stdout",
     "output_type": "stream",
     "text": [
      "(40, 6)\n",
      "(181, 39) (47940, 9) (40, 6)\n"
     ]
    },
    {
     "name": "stderr",
     "output_type": "stream",
     "text": [
      "C:\\Users\\camil\\Anaconda3\\lib\\site-packages\\sklearn\\metrics\\_classification.py:620: RuntimeWarning: invalid value encountered in true_divide\n",
      "  k = np.sum(w_mat * confusion) / np.sum(w_mat * expected)\n"
     ]
    },
    {
     "name": "stdout",
     "output_type": "stream",
     "text": [
      "(40, 6)\n",
      "(194, 39) (51960, 9) (40, 6)\n"
     ]
    },
    {
     "name": "stderr",
     "output_type": "stream",
     "text": [
      "C:\\Users\\camil\\Anaconda3\\lib\\site-packages\\sklearn\\metrics\\_classification.py:620: RuntimeWarning: invalid value encountered in true_divide\n",
      "  k = np.sum(w_mat * confusion) / np.sum(w_mat * expected)\n",
      " 10%|███████▊                                                                       | 14/141 [16:00<2:12:02, 62.38s/it]"
     ]
    },
    {
     "name": "stdout",
     "output_type": "stream",
     "text": [
      "(40, 6)\n",
      "(231, 39) (47040, 9) (40, 6)\n"
     ]
    },
    {
     "name": "stderr",
     "output_type": "stream",
     "text": [
      "C:\\Users\\camil\\Anaconda3\\lib\\site-packages\\sklearn\\metrics\\_classification.py:620: RuntimeWarning: invalid value encountered in true_divide\n",
      "  k = np.sum(w_mat * confusion) / np.sum(w_mat * expected)\n"
     ]
    },
    {
     "name": "stdout",
     "output_type": "stream",
     "text": [
      "(40, 6)\n",
      "(191, 39) (48240, 9) (40, 6)\n"
     ]
    },
    {
     "name": "stderr",
     "output_type": "stream",
     "text": [
      "C:\\Users\\camil\\Anaconda3\\lib\\site-packages\\sklearn\\metrics\\_classification.py:620: RuntimeWarning: invalid value encountered in true_divide\n",
      "  k = np.sum(w_mat * confusion) / np.sum(w_mat * expected)\n",
      " 11%|████████▍                                                                      | 15/141 [17:08<2:14:27, 64.02s/it]"
     ]
    },
    {
     "name": "stdout",
     "output_type": "stream",
     "text": [
      "(32, 6)\n",
      "(206, 39) (47940, 9) (32, 6)\n"
     ]
    },
    {
     "name": "stderr",
     "output_type": "stream",
     "text": [
      "C:\\Users\\camil\\Anaconda3\\lib\\site-packages\\sklearn\\metrics\\_classification.py:620: RuntimeWarning: invalid value encountered in true_divide\n",
      "  k = np.sum(w_mat * confusion) / np.sum(w_mat * expected)\n"
     ]
    },
    {
     "name": "stdout",
     "output_type": "stream",
     "text": [
      "(40, 6)\n",
      "(180, 39) (53040, 9) (40, 6)\n"
     ]
    },
    {
     "name": "stderr",
     "output_type": "stream",
     "text": [
      "C:\\Users\\camil\\Anaconda3\\lib\\site-packages\\sklearn\\metrics\\_classification.py:620: RuntimeWarning: invalid value encountered in true_divide\n",
      "  k = np.sum(w_mat * confusion) / np.sum(w_mat * expected)\n",
      " 11%|████████▉                                                                      | 16/141 [18:05<2:08:52, 61.86s/it]"
     ]
    },
    {
     "name": "stdout",
     "output_type": "stream",
     "text": [
      "(40, 6)\n",
      "(146, 39) (47040, 9) (40, 6)\n"
     ]
    },
    {
     "name": "stderr",
     "output_type": "stream",
     "text": [
      "C:\\Users\\camil\\Anaconda3\\lib\\site-packages\\sklearn\\metrics\\_classification.py:620: RuntimeWarning: invalid value encountered in true_divide\n",
      "  k = np.sum(w_mat * confusion) / np.sum(w_mat * expected)\n"
     ]
    },
    {
     "name": "stdout",
     "output_type": "stream",
     "text": [
      "(40, 6)\n",
      "(141, 39) (52500, 9) (40, 6)\n"
     ]
    },
    {
     "name": "stderr",
     "output_type": "stream",
     "text": [
      "C:\\Users\\camil\\Anaconda3\\lib\\site-packages\\sklearn\\metrics\\_classification.py:620: RuntimeWarning: invalid value encountered in true_divide\n",
      "  k = np.sum(w_mat * confusion) / np.sum(w_mat * expected)\n",
      "C:\\Users\\camil\\Anaconda3\\lib\\site-packages\\pingouin\\parametric.py:978: RuntimeWarning: divide by zero encountered in double_scalars\n",
      "  fval = msbetween / mserror\n",
      "C:\\Users\\camil\\Anaconda3\\lib\\site-packages\\pingouin\\reliability.py:320: RuntimeWarning: divide by zero encountered in double_scalars\n",
      "  f1k = msb / msw\n",
      "C:\\Users\\camil\\Anaconda3\\lib\\site-packages\\pingouin\\reliability.py:325: RuntimeWarning: divide by zero encountered in double_scalars\n",
      "  f2k = f3k = msb / mse\n",
      "C:\\Users\\camil\\Anaconda3\\lib\\site-packages\\pingouin\\reliability.py:349: RuntimeWarning: invalid value encountered in double_scalars\n",
      "  l1 = (f1l - 1) / (f1l + (k - 1))\n",
      "C:\\Users\\camil\\Anaconda3\\lib\\site-packages\\pingouin\\reliability.py:350: RuntimeWarning: invalid value encountered in double_scalars\n",
      "  u1 = (f1u - 1) / (f1u + (k - 1))\n",
      "C:\\Users\\camil\\Anaconda3\\lib\\site-packages\\pingouin\\reliability.py:353: RuntimeWarning: invalid value encountered in double_scalars\n",
      "  l3 = (f3l - 1) / (f3l + (k - 1))\n",
      "C:\\Users\\camil\\Anaconda3\\lib\\site-packages\\pingouin\\reliability.py:354: RuntimeWarning: invalid value encountered in double_scalars\n",
      "  u3 = (f3u - 1) / (f3u + (k - 1))\n",
      "C:\\Users\\camil\\Anaconda3\\lib\\site-packages\\pingouin\\reliability.py:356: RuntimeWarning: invalid value encountered in double_scalars\n",
      "  fj = msj / mse\n",
      " 12%|█████████▌                                                                     | 17/141 [19:04<2:05:59, 60.97s/it]"
     ]
    },
    {
     "name": "stdout",
     "output_type": "stream",
     "text": [
      "(40, 6)\n",
      "(170, 39) (47640, 9) (40, 6)\n"
     ]
    },
    {
     "name": "stderr",
     "output_type": "stream",
     "text": [
      "C:\\Users\\camil\\Anaconda3\\lib\\site-packages\\sklearn\\metrics\\_classification.py:620: RuntimeWarning: invalid value encountered in true_divide\n",
      "  k = np.sum(w_mat * confusion) / np.sum(w_mat * expected)\n"
     ]
    },
    {
     "name": "stdout",
     "output_type": "stream",
     "text": [
      "(40, 6)\n",
      "(136, 39) (46680, 9) (40, 6)\n"
     ]
    },
    {
     "name": "stderr",
     "output_type": "stream",
     "text": [
      "C:\\Users\\camil\\Anaconda3\\lib\\site-packages\\sklearn\\metrics\\_classification.py:620: RuntimeWarning: invalid value encountered in true_divide\n",
      "  k = np.sum(w_mat * confusion) / np.sum(w_mat * expected)\n",
      "C:\\Users\\camil\\Anaconda3\\lib\\site-packages\\pingouin\\parametric.py:978: RuntimeWarning: divide by zero encountered in double_scalars\n",
      "  fval = msbetween / mserror\n",
      "C:\\Users\\camil\\Anaconda3\\lib\\site-packages\\pingouin\\reliability.py:325: RuntimeWarning: divide by zero encountered in double_scalars\n",
      "  f2k = f3k = msb / mse\n",
      "C:\\Users\\camil\\Anaconda3\\lib\\site-packages\\pingouin\\reliability.py:353: RuntimeWarning: invalid value encountered in double_scalars\n",
      "  l3 = (f3l - 1) / (f3l + (k - 1))\n",
      "C:\\Users\\camil\\Anaconda3\\lib\\site-packages\\pingouin\\reliability.py:354: RuntimeWarning: invalid value encountered in double_scalars\n",
      "  u3 = (f3u - 1) / (f3u + (k - 1))\n",
      "C:\\Users\\camil\\Anaconda3\\lib\\site-packages\\pingouin\\reliability.py:356: RuntimeWarning: divide by zero encountered in double_scalars\n",
      "  fj = msj / mse\n",
      "C:\\Users\\camil\\Anaconda3\\lib\\site-packages\\pingouin\\reliability.py:360: RuntimeWarning: invalid value encountered in double_scalars\n",
      "  v = vn / vd\n",
      " 13%|██████████                                                                     | 18/141 [20:08<2:07:14, 62.07s/it]"
     ]
    },
    {
     "name": "stdout",
     "output_type": "stream",
     "text": [
      "(40, 6)\n",
      "(199, 39) (48840, 9) (40, 6)\n",
      "(40, 6)\n",
      "(177, 39) (49920, 9) (40, 6)\n"
     ]
    },
    {
     "name": "stderr",
     "output_type": "stream",
     "text": [
      "C:\\Users\\camil\\Anaconda3\\lib\\site-packages\\sklearn\\metrics\\_classification.py:620: RuntimeWarning: invalid value encountered in true_divide\n",
      "  k = np.sum(w_mat * confusion) / np.sum(w_mat * expected)\n",
      " 13%|██████████▋                                                                    | 19/141 [21:02<2:01:11, 59.61s/it]"
     ]
    },
    {
     "name": "stdout",
     "output_type": "stream",
     "text": [
      "(40, 6)\n",
      "(135, 39) (48660, 9) (40, 6)\n"
     ]
    },
    {
     "name": "stderr",
     "output_type": "stream",
     "text": [
      "C:\\Users\\camil\\Anaconda3\\lib\\site-packages\\sklearn\\metrics\\_classification.py:620: RuntimeWarning: invalid value encountered in true_divide\n",
      "  k = np.sum(w_mat * confusion) / np.sum(w_mat * expected)\n"
     ]
    },
    {
     "name": "stdout",
     "output_type": "stream",
     "text": [
      "(40, 6)\n",
      "(149, 39) (43500, 9) (40, 6)\n"
     ]
    },
    {
     "name": "stderr",
     "output_type": "stream",
     "text": [
      "C:\\Users\\camil\\Anaconda3\\lib\\site-packages\\sklearn\\metrics\\_classification.py:620: RuntimeWarning: invalid value encountered in true_divide\n",
      "  k = np.sum(w_mat * confusion) / np.sum(w_mat * expected)\n",
      " 14%|███████████▏                                                                   | 20/141 [21:54<1:55:19, 57.19s/it]"
     ]
    },
    {
     "name": "stdout",
     "output_type": "stream",
     "text": [
      "(45, 6)\n",
      "(207, 39) (57060, 9) (45, 6)\n"
     ]
    },
    {
     "name": "stderr",
     "output_type": "stream",
     "text": [
      "C:\\Users\\camil\\Anaconda3\\lib\\site-packages\\sklearn\\metrics\\_classification.py:620: RuntimeWarning: invalid value encountered in true_divide\n",
      "  k = np.sum(w_mat * confusion) / np.sum(w_mat * expected)\n"
     ]
    },
    {
     "name": "stdout",
     "output_type": "stream",
     "text": [
      "(45, 6)\n",
      "(123, 39) (49980, 9) (45, 6)\n"
     ]
    },
    {
     "name": "stderr",
     "output_type": "stream",
     "text": [
      "C:\\Users\\camil\\Anaconda3\\lib\\site-packages\\sklearn\\metrics\\_classification.py:620: RuntimeWarning: invalid value encountered in true_divide\n",
      "  k = np.sum(w_mat * confusion) / np.sum(w_mat * expected)\n",
      " 15%|███████████▊                                                                   | 21/141 [22:53<1:55:42, 57.85s/it]"
     ]
    },
    {
     "name": "stdout",
     "output_type": "stream",
     "text": [
      "(45, 6)\n",
      "(157, 39) (51180, 9) (45, 6)\n"
     ]
    },
    {
     "name": "stderr",
     "output_type": "stream",
     "text": [
      "C:\\Users\\camil\\Anaconda3\\lib\\site-packages\\sklearn\\metrics\\_classification.py:620: RuntimeWarning: invalid value encountered in true_divide\n",
      "  k = np.sum(w_mat * confusion) / np.sum(w_mat * expected)\n",
      "C:\\Users\\camil\\Anaconda3\\lib\\site-packages\\pingouin\\parametric.py:978: RuntimeWarning: divide by zero encountered in double_scalars\n",
      "  fval = msbetween / mserror\n"
     ]
    },
    {
     "name": "stdout",
     "output_type": "stream",
     "text": [
      "(45, 6)\n",
      "(220, 39) (58680, 9) (45, 6)\n"
     ]
    },
    {
     "name": "stderr",
     "output_type": "stream",
     "text": [
      "C:\\Users\\camil\\Anaconda3\\lib\\site-packages\\sklearn\\metrics\\_classification.py:620: RuntimeWarning: invalid value encountered in true_divide\n",
      "  k = np.sum(w_mat * confusion) / np.sum(w_mat * expected)\n",
      " 16%|████████████▎                                                                  | 22/141 [23:49<1:53:35, 57.27s/it]"
     ]
    },
    {
     "name": "stdout",
     "output_type": "stream",
     "text": [
      "(45, 6)\n",
      "(204, 39) (49500, 9) (45, 6)\n"
     ]
    },
    {
     "name": "stderr",
     "output_type": "stream",
     "text": [
      "C:\\Users\\camil\\Anaconda3\\lib\\site-packages\\sklearn\\metrics\\_classification.py:620: RuntimeWarning: invalid value encountered in true_divide\n",
      "  k = np.sum(w_mat * confusion) / np.sum(w_mat * expected)\n"
     ]
    },
    {
     "name": "stdout",
     "output_type": "stream",
     "text": [
      "(45, 6)\n",
      "(159, 39) (59340, 9) (45, 6)\n"
     ]
    },
    {
     "name": "stderr",
     "output_type": "stream",
     "text": [
      "C:\\Users\\camil\\Anaconda3\\lib\\site-packages\\sklearn\\metrics\\_classification.py:620: RuntimeWarning: invalid value encountered in true_divide\n",
      "  k = np.sum(w_mat * confusion) / np.sum(w_mat * expected)\n",
      "C:\\Users\\camil\\Anaconda3\\lib\\site-packages\\pingouin\\parametric.py:978: RuntimeWarning: divide by zero encountered in double_scalars\n",
      "  fval = msbetween / mserror\n",
      " 16%|████████████▉                                                                  | 23/141 [24:47<1:52:53, 57.40s/it]"
     ]
    },
    {
     "name": "stdout",
     "output_type": "stream",
     "text": [
      "(45, 6)\n",
      "(146, 39) (51660, 9) (45, 6)\n",
      "(45, 6)\n",
      "(189, 39) (59100, 9) (45, 6)\n"
     ]
    },
    {
     "name": "stderr",
     "output_type": "stream",
     "text": [
      "C:\\Users\\camil\\Anaconda3\\lib\\site-packages\\sklearn\\metrics\\_classification.py:620: RuntimeWarning: invalid value encountered in true_divide\n",
      "  k = np.sum(w_mat * confusion) / np.sum(w_mat * expected)\n",
      "C:\\Users\\camil\\Anaconda3\\lib\\site-packages\\pingouin\\parametric.py:978: RuntimeWarning: divide by zero encountered in double_scalars\n",
      "  fval = msbetween / mserror\n",
      "C:\\Users\\camil\\Anaconda3\\lib\\site-packages\\pingouin\\reliability.py:320: RuntimeWarning: divide by zero encountered in double_scalars\n",
      "  f1k = msb / msw\n",
      "C:\\Users\\camil\\Anaconda3\\lib\\site-packages\\pingouin\\reliability.py:325: RuntimeWarning: divide by zero encountered in double_scalars\n",
      "  f2k = f3k = msb / mse\n",
      "C:\\Users\\camil\\Anaconda3\\lib\\site-packages\\pingouin\\reliability.py:349: RuntimeWarning: invalid value encountered in double_scalars\n",
      "  l1 = (f1l - 1) / (f1l + (k - 1))\n",
      "C:\\Users\\camil\\Anaconda3\\lib\\site-packages\\pingouin\\reliability.py:350: RuntimeWarning: invalid value encountered in double_scalars\n",
      "  u1 = (f1u - 1) / (f1u + (k - 1))\n",
      "C:\\Users\\camil\\Anaconda3\\lib\\site-packages\\pingouin\\reliability.py:353: RuntimeWarning: invalid value encountered in double_scalars\n",
      "  l3 = (f3l - 1) / (f3l + (k - 1))\n",
      "C:\\Users\\camil\\Anaconda3\\lib\\site-packages\\pingouin\\reliability.py:354: RuntimeWarning: invalid value encountered in double_scalars\n",
      "  u3 = (f3u - 1) / (f3u + (k - 1))\n",
      "C:\\Users\\camil\\Anaconda3\\lib\\site-packages\\pingouin\\reliability.py:356: RuntimeWarning: invalid value encountered in double_scalars\n",
      "  fj = msj / mse\n",
      " 17%|█████████████▍                                                                 | 24/141 [26:03<2:03:08, 63.15s/it]"
     ]
    },
    {
     "name": "stdout",
     "output_type": "stream",
     "text": [
      "(45, 6)\n",
      "(184, 39) (52980, 9) (45, 6)\n"
     ]
    },
    {
     "name": "stderr",
     "output_type": "stream",
     "text": [
      "C:\\Users\\camil\\Anaconda3\\lib\\site-packages\\sklearn\\metrics\\_classification.py:620: RuntimeWarning: invalid value encountered in true_divide\n",
      "  k = np.sum(w_mat * confusion) / np.sum(w_mat * expected)\n"
     ]
    },
    {
     "name": "stdout",
     "output_type": "stream",
     "text": [
      "(45, 6)\n",
      "(165, 39) (52260, 9) (45, 6)\n"
     ]
    },
    {
     "name": "stderr",
     "output_type": "stream",
     "text": [
      "C:\\Users\\camil\\Anaconda3\\lib\\site-packages\\sklearn\\metrics\\_classification.py:620: RuntimeWarning: invalid value encountered in true_divide\n",
      "  k = np.sum(w_mat * confusion) / np.sum(w_mat * expected)\n",
      " 18%|██████████████                                                                 | 25/141 [26:58<1:57:15, 60.66s/it]"
     ]
    },
    {
     "name": "stdout",
     "output_type": "stream",
     "text": [
      "(45, 6)\n",
      "(177, 39) (59160, 9) (45, 6)\n",
      "(45, 6)\n",
      "(168, 39) (53880, 9) (45, 6)\n"
     ]
    },
    {
     "name": "stderr",
     "output_type": "stream",
     "text": [
      "C:\\Users\\camil\\Anaconda3\\lib\\site-packages\\sklearn\\metrics\\_classification.py:620: RuntimeWarning: invalid value encountered in true_divide\n",
      "  k = np.sum(w_mat * confusion) / np.sum(w_mat * expected)\n",
      " 18%|██████████████▌                                                                | 26/141 [28:00<1:57:01, 61.06s/it]"
     ]
    },
    {
     "name": "stdout",
     "output_type": "stream",
     "text": [
      "(45, 6)\n",
      "(205, 39) (59580, 9) (45, 6)\n"
     ]
    },
    {
     "name": "stderr",
     "output_type": "stream",
     "text": [
      "C:\\Users\\camil\\Anaconda3\\lib\\site-packages\\sklearn\\metrics\\_classification.py:620: RuntimeWarning: invalid value encountered in true_divide\n",
      "  k = np.sum(w_mat * confusion) / np.sum(w_mat * expected)\n",
      "C:\\Users\\camil\\Anaconda3\\lib\\site-packages\\pingouin\\parametric.py:978: RuntimeWarning: divide by zero encountered in double_scalars\n",
      "  fval = msbetween / mserror\n",
      "C:\\Users\\camil\\Anaconda3\\lib\\site-packages\\pingouin\\reliability.py:320: RuntimeWarning: divide by zero encountered in double_scalars\n",
      "  f1k = msb / msw\n",
      "C:\\Users\\camil\\Anaconda3\\lib\\site-packages\\pingouin\\reliability.py:325: RuntimeWarning: divide by zero encountered in double_scalars\n",
      "  f2k = f3k = msb / mse\n",
      "C:\\Users\\camil\\Anaconda3\\lib\\site-packages\\pingouin\\reliability.py:349: RuntimeWarning: invalid value encountered in double_scalars\n",
      "  l1 = (f1l - 1) / (f1l + (k - 1))\n",
      "C:\\Users\\camil\\Anaconda3\\lib\\site-packages\\pingouin\\reliability.py:350: RuntimeWarning: invalid value encountered in double_scalars\n",
      "  u1 = (f1u - 1) / (f1u + (k - 1))\n",
      "C:\\Users\\camil\\Anaconda3\\lib\\site-packages\\pingouin\\reliability.py:353: RuntimeWarning: invalid value encountered in double_scalars\n",
      "  l3 = (f3l - 1) / (f3l + (k - 1))\n",
      "C:\\Users\\camil\\Anaconda3\\lib\\site-packages\\pingouin\\reliability.py:354: RuntimeWarning: invalid value encountered in double_scalars\n",
      "  u3 = (f3u - 1) / (f3u + (k - 1))\n",
      "C:\\Users\\camil\\Anaconda3\\lib\\site-packages\\pingouin\\reliability.py:356: RuntimeWarning: invalid value encountered in double_scalars\n",
      "  fj = msj / mse\n"
     ]
    },
    {
     "name": "stdout",
     "output_type": "stream",
     "text": [
      "(45, 6)\n",
      "(129, 39) (60480, 9) (45, 6)\n"
     ]
    },
    {
     "name": "stderr",
     "output_type": "stream",
     "text": [
      "C:\\Users\\camil\\Anaconda3\\lib\\site-packages\\sklearn\\metrics\\_classification.py:620: RuntimeWarning: invalid value encountered in true_divide\n",
      "  k = np.sum(w_mat * confusion) / np.sum(w_mat * expected)\n",
      " 19%|███████████████▏                                                               | 27/141 [29:05<1:58:23, 62.31s/it]"
     ]
    },
    {
     "name": "stdout",
     "output_type": "stream",
     "text": [
      "(45, 6)\n",
      "(186, 39) (52080, 9) (45, 6)\n"
     ]
    },
    {
     "name": "stderr",
     "output_type": "stream",
     "text": [
      "C:\\Users\\camil\\Anaconda3\\lib\\site-packages\\sklearn\\metrics\\_classification.py:620: RuntimeWarning: invalid value encountered in true_divide\n",
      "  k = np.sum(w_mat * confusion) / np.sum(w_mat * expected)\n"
     ]
    },
    {
     "name": "stdout",
     "output_type": "stream",
     "text": [
      "(45, 6)\n",
      "(132, 39) (54360, 9) (45, 6)\n"
     ]
    },
    {
     "name": "stderr",
     "output_type": "stream",
     "text": [
      "C:\\Users\\camil\\Anaconda3\\lib\\site-packages\\sklearn\\metrics\\_classification.py:620: RuntimeWarning: invalid value encountered in true_divide\n",
      "  k = np.sum(w_mat * confusion) / np.sum(w_mat * expected)\n",
      " 20%|███████████████▋                                                               | 28/141 [30:06<1:56:22, 61.79s/it]"
     ]
    },
    {
     "name": "stdout",
     "output_type": "stream",
     "text": [
      "(45, 6)\n",
      "(131, 39) (48300, 9) (45, 6)\n"
     ]
    },
    {
     "name": "stderr",
     "output_type": "stream",
     "text": [
      "C:\\Users\\camil\\Anaconda3\\lib\\site-packages\\sklearn\\metrics\\_classification.py:620: RuntimeWarning: invalid value encountered in true_divide\n",
      "  k = np.sum(w_mat * confusion) / np.sum(w_mat * expected)\n"
     ]
    },
    {
     "name": "stdout",
     "output_type": "stream",
     "text": [
      "(45, 6)\n",
      "(224, 39) (56820, 9) (45, 6)\n"
     ]
    },
    {
     "name": "stderr",
     "output_type": "stream",
     "text": [
      "C:\\Users\\camil\\Anaconda3\\lib\\site-packages\\sklearn\\metrics\\_classification.py:620: RuntimeWarning: invalid value encountered in true_divide\n",
      "  k = np.sum(w_mat * confusion) / np.sum(w_mat * expected)\n",
      " 21%|████████████████▏                                                              | 29/141 [31:01<1:51:32, 59.75s/it]"
     ]
    },
    {
     "name": "stdout",
     "output_type": "stream",
     "text": [
      "(45, 6)\n",
      "(147, 39) (43440, 9) (45, 6)\n"
     ]
    },
    {
     "name": "stderr",
     "output_type": "stream",
     "text": [
      "C:\\Users\\camil\\Anaconda3\\lib\\site-packages\\sklearn\\metrics\\_classification.py:620: RuntimeWarning: invalid value encountered in true_divide\n",
      "  k = np.sum(w_mat * confusion) / np.sum(w_mat * expected)\n"
     ]
    },
    {
     "name": "stdout",
     "output_type": "stream",
     "text": [
      "(45, 6)\n",
      "(254, 39) (59640, 9) (45, 6)\n"
     ]
    },
    {
     "name": "stderr",
     "output_type": "stream",
     "text": [
      "C:\\Users\\camil\\Anaconda3\\lib\\site-packages\\sklearn\\metrics\\_classification.py:620: RuntimeWarning: invalid value encountered in true_divide\n",
      "  k = np.sum(w_mat * confusion) / np.sum(w_mat * expected)\n",
      " 21%|████████████████▊                                                              | 30/141 [32:15<1:58:20, 63.97s/it]"
     ]
    },
    {
     "name": "stdout",
     "output_type": "stream",
     "text": [
      "(50, 6)\n",
      "(228, 39) (62040, 9) (50, 6)\n"
     ]
    },
    {
     "name": "stderr",
     "output_type": "stream",
     "text": [
      "C:\\Users\\camil\\Anaconda3\\lib\\site-packages\\sklearn\\metrics\\_classification.py:620: RuntimeWarning: invalid value encountered in true_divide\n",
      "  k = np.sum(w_mat * confusion) / np.sum(w_mat * expected)\n"
     ]
    },
    {
     "name": "stdout",
     "output_type": "stream",
     "text": [
      "(50, 6)\n",
      "(154, 39) (62460, 9) (50, 6)\n"
     ]
    },
    {
     "name": "stderr",
     "output_type": "stream",
     "text": [
      "C:\\Users\\camil\\Anaconda3\\lib\\site-packages\\sklearn\\metrics\\_classification.py:620: RuntimeWarning: invalid value encountered in true_divide\n",
      "  k = np.sum(w_mat * confusion) / np.sum(w_mat * expected)\n",
      " 22%|█████████████████▎                                                             | 31/141 [33:41<2:09:26, 70.61s/it]"
     ]
    },
    {
     "name": "stdout",
     "output_type": "stream",
     "text": [
      "(50, 6)\n",
      "(198, 39) (62700, 9) (50, 6)\n"
     ]
    },
    {
     "name": "stderr",
     "output_type": "stream",
     "text": [
      "C:\\Users\\camil\\Anaconda3\\lib\\site-packages\\sklearn\\metrics\\_classification.py:620: RuntimeWarning: invalid value encountered in true_divide\n",
      "  k = np.sum(w_mat * confusion) / np.sum(w_mat * expected)\n"
     ]
    },
    {
     "name": "stdout",
     "output_type": "stream",
     "text": [
      "(50, 6)\n",
      "(211, 39) (58260, 9) (50, 6)\n"
     ]
    },
    {
     "name": "stderr",
     "output_type": "stream",
     "text": [
      "C:\\Users\\camil\\Anaconda3\\lib\\site-packages\\sklearn\\metrics\\_classification.py:620: RuntimeWarning: invalid value encountered in true_divide\n",
      "  k = np.sum(w_mat * confusion) / np.sum(w_mat * expected)\n",
      "C:\\Users\\camil\\Anaconda3\\lib\\site-packages\\pingouin\\parametric.py:978: RuntimeWarning: divide by zero encountered in double_scalars\n",
      "  fval = msbetween / mserror\n",
      " 23%|█████████████████▉                                                             | 32/141 [35:27<2:27:35, 81.25s/it]"
     ]
    },
    {
     "name": "stdout",
     "output_type": "stream",
     "text": [
      "(50, 6)\n",
      "(247, 39) (56160, 9) (50, 6)\n"
     ]
    },
    {
     "name": "stderr",
     "output_type": "stream",
     "text": [
      "C:\\Users\\camil\\Anaconda3\\lib\\site-packages\\sklearn\\metrics\\_classification.py:620: RuntimeWarning: invalid value encountered in true_divide\n",
      "  k = np.sum(w_mat * confusion) / np.sum(w_mat * expected)\n"
     ]
    },
    {
     "name": "stdout",
     "output_type": "stream",
     "text": [
      "(50, 6)\n",
      "(167, 39) (61680, 9) (50, 6)\n"
     ]
    },
    {
     "name": "stderr",
     "output_type": "stream",
     "text": [
      "C:\\Users\\camil\\Anaconda3\\lib\\site-packages\\sklearn\\metrics\\_classification.py:620: RuntimeWarning: invalid value encountered in true_divide\n",
      "  k = np.sum(w_mat * confusion) / np.sum(w_mat * expected)\n",
      " 23%|██████████████████▍                                                            | 33/141 [36:54<2:29:12, 82.90s/it]"
     ]
    },
    {
     "name": "stdout",
     "output_type": "stream",
     "text": [
      "(50, 6)\n",
      "(225, 39) (66180, 9) (50, 6)\n"
     ]
    },
    {
     "name": "stderr",
     "output_type": "stream",
     "text": [
      "C:\\Users\\camil\\Anaconda3\\lib\\site-packages\\sklearn\\metrics\\_classification.py:620: RuntimeWarning: invalid value encountered in true_divide\n",
      "  k = np.sum(w_mat * confusion) / np.sum(w_mat * expected)\n"
     ]
    },
    {
     "name": "stdout",
     "output_type": "stream",
     "text": [
      "(50, 6)\n",
      "(208, 39) (59400, 9) (50, 6)\n"
     ]
    },
    {
     "name": "stderr",
     "output_type": "stream",
     "text": [
      "\r",
      " 24%|███████████████████                                                            | 34/141 [38:02<2:19:54, 78.45s/it]"
     ]
    },
    {
     "name": "stdout",
     "output_type": "stream",
     "text": [
      "(50, 6)\n",
      "(189, 39) (60660, 9) (50, 6)\n"
     ]
    },
    {
     "name": "stderr",
     "output_type": "stream",
     "text": [
      "C:\\Users\\camil\\Anaconda3\\lib\\site-packages\\sklearn\\metrics\\_classification.py:620: RuntimeWarning: invalid value encountered in true_divide\n",
      "  k = np.sum(w_mat * confusion) / np.sum(w_mat * expected)\n",
      "C:\\Users\\camil\\Anaconda3\\lib\\site-packages\\pingouin\\parametric.py:978: RuntimeWarning: divide by zero encountered in double_scalars\n",
      "  fval = msbetween / mserror\n"
     ]
    },
    {
     "name": "stdout",
     "output_type": "stream",
     "text": [
      "(50, 6)\n",
      "(185, 39) (57300, 9) (50, 6)\n"
     ]
    },
    {
     "name": "stderr",
     "output_type": "stream",
     "text": [
      "C:\\Users\\camil\\Anaconda3\\lib\\site-packages\\sklearn\\metrics\\_classification.py:620: RuntimeWarning: invalid value encountered in true_divide\n",
      "  k = np.sum(w_mat * confusion) / np.sum(w_mat * expected)\n",
      " 25%|███████████████████▌                                                           | 35/141 [39:17<2:17:03, 77.58s/it]"
     ]
    },
    {
     "name": "stdout",
     "output_type": "stream",
     "text": [
      "(50, 6)\n",
      "(210, 39) (59280, 9) (50, 6)\n"
     ]
    },
    {
     "name": "stderr",
     "output_type": "stream",
     "text": [
      "C:\\Users\\camil\\Anaconda3\\lib\\site-packages\\sklearn\\metrics\\_classification.py:620: RuntimeWarning: invalid value encountered in true_divide\n",
      "  k = np.sum(w_mat * confusion) / np.sum(w_mat * expected)\n"
     ]
    },
    {
     "name": "stdout",
     "output_type": "stream",
     "text": [
      "(50, 6)\n",
      "(196, 39) (60300, 9) (50, 6)\n"
     ]
    },
    {
     "name": "stderr",
     "output_type": "stream",
     "text": [
      "C:\\Users\\camil\\Anaconda3\\lib\\site-packages\\sklearn\\metrics\\_classification.py:620: RuntimeWarning: invalid value encountered in true_divide\n",
      "  k = np.sum(w_mat * confusion) / np.sum(w_mat * expected)\n",
      " 26%|████████████████████▏                                                          | 36/141 [40:19<2:07:29, 72.85s/it]"
     ]
    },
    {
     "name": "stdout",
     "output_type": "stream",
     "text": [
      "(50, 6)\n",
      "(184, 39) (66600, 9) (50, 6)\n"
     ]
    },
    {
     "name": "stderr",
     "output_type": "stream",
     "text": [
      "C:\\Users\\camil\\Anaconda3\\lib\\site-packages\\sklearn\\metrics\\_classification.py:620: RuntimeWarning: invalid value encountered in true_divide\n",
      "  k = np.sum(w_mat * confusion) / np.sum(w_mat * expected)\n"
     ]
    },
    {
     "name": "stdout",
     "output_type": "stream",
     "text": [
      "(50, 6)\n",
      "(157, 39) (51960, 9) (50, 6)\n"
     ]
    },
    {
     "name": "stderr",
     "output_type": "stream",
     "text": [
      "C:\\Users\\camil\\Anaconda3\\lib\\site-packages\\sklearn\\metrics\\_classification.py:620: RuntimeWarning: invalid value encountered in true_divide\n",
      "  k = np.sum(w_mat * confusion) / np.sum(w_mat * expected)\n",
      "C:\\Users\\camil\\Anaconda3\\lib\\site-packages\\pingouin\\parametric.py:978: RuntimeWarning: divide by zero encountered in double_scalars\n",
      "  fval = msbetween / mserror\n",
      "C:\\Users\\camil\\Anaconda3\\lib\\site-packages\\pingouin\\reliability.py:325: RuntimeWarning: divide by zero encountered in double_scalars\n",
      "  f2k = f3k = msb / mse\n",
      "C:\\Users\\camil\\Anaconda3\\lib\\site-packages\\pingouin\\reliability.py:353: RuntimeWarning: invalid value encountered in double_scalars\n",
      "  l3 = (f3l - 1) / (f3l + (k - 1))\n",
      "C:\\Users\\camil\\Anaconda3\\lib\\site-packages\\pingouin\\reliability.py:354: RuntimeWarning: invalid value encountered in double_scalars\n",
      "  u3 = (f3u - 1) / (f3u + (k - 1))\n",
      "C:\\Users\\camil\\Anaconda3\\lib\\site-packages\\pingouin\\reliability.py:356: RuntimeWarning: divide by zero encountered in double_scalars\n",
      "  fj = msj / mse\n",
      "C:\\Users\\camil\\Anaconda3\\lib\\site-packages\\pingouin\\reliability.py:360: RuntimeWarning: invalid value encountered in double_scalars\n",
      "  v = vn / vd\n",
      " 26%|████████████████████▋                                                          | 37/141 [42:04<2:22:48, 82.39s/it]"
     ]
    },
    {
     "name": "stdout",
     "output_type": "stream",
     "text": [
      "(50, 6)\n",
      "(185, 39) (66840, 9) (50, 6)\n"
     ]
    },
    {
     "name": "stderr",
     "output_type": "stream",
     "text": [
      "C:\\Users\\camil\\Anaconda3\\lib\\site-packages\\sklearn\\metrics\\_classification.py:620: RuntimeWarning: invalid value encountered in true_divide\n",
      "  k = np.sum(w_mat * confusion) / np.sum(w_mat * expected)\n"
     ]
    },
    {
     "name": "stdout",
     "output_type": "stream",
     "text": [
      "(50, 6)\n",
      "(152, 39) (60300, 9) (50, 6)\n"
     ]
    },
    {
     "name": "stderr",
     "output_type": "stream",
     "text": [
      "C:\\Users\\camil\\Anaconda3\\lib\\site-packages\\sklearn\\metrics\\_classification.py:620: RuntimeWarning: invalid value encountered in true_divide\n",
      "  k = np.sum(w_mat * confusion) / np.sum(w_mat * expected)\n",
      " 27%|█████████████████████▎                                                         | 38/141 [43:10<2:12:58, 77.47s/it]"
     ]
    },
    {
     "name": "stdout",
     "output_type": "stream",
     "text": [
      "(50, 6)\n",
      "(214, 39) (65220, 9) (50, 6)\n"
     ]
    },
    {
     "name": "stderr",
     "output_type": "stream",
     "text": [
      "C:\\Users\\camil\\Anaconda3\\lib\\site-packages\\sklearn\\metrics\\_classification.py:620: RuntimeWarning: invalid value encountered in true_divide\n",
      "  k = np.sum(w_mat * confusion) / np.sum(w_mat * expected)\n"
     ]
    },
    {
     "name": "stdout",
     "output_type": "stream",
     "text": [
      "(50, 6)\n",
      "(245, 39) (67680, 9) (50, 6)\n"
     ]
    },
    {
     "name": "stderr",
     "output_type": "stream",
     "text": [
      "C:\\Users\\camil\\Anaconda3\\lib\\site-packages\\sklearn\\metrics\\_classification.py:620: RuntimeWarning: invalid value encountered in true_divide\n",
      "  k = np.sum(w_mat * confusion) / np.sum(w_mat * expected)\n",
      " 28%|█████████████████████▊                                                         | 39/141 [44:11<2:03:17, 72.53s/it]"
     ]
    },
    {
     "name": "stdout",
     "output_type": "stream",
     "text": [
      "(50, 6)\n",
      "(203, 39) (59940, 9) (50, 6)\n"
     ]
    },
    {
     "name": "stderr",
     "output_type": "stream",
     "text": [
      "C:\\Users\\camil\\Anaconda3\\lib\\site-packages\\sklearn\\metrics\\_classification.py:620: RuntimeWarning: invalid value encountered in true_divide\n",
      "  k = np.sum(w_mat * confusion) / np.sum(w_mat * expected)\n"
     ]
    },
    {
     "name": "stdout",
     "output_type": "stream",
     "text": [
      "(50, 6)\n",
      "(160, 39) (57600, 9) (50, 6)\n"
     ]
    },
    {
     "name": "stderr",
     "output_type": "stream",
     "text": [
      "C:\\Users\\camil\\Anaconda3\\lib\\site-packages\\sklearn\\metrics\\_classification.py:620: RuntimeWarning: invalid value encountered in true_divide\n",
      "  k = np.sum(w_mat * confusion) / np.sum(w_mat * expected)\n",
      " 28%|██████████████████████▍                                                        | 40/141 [45:13<1:56:43, 69.34s/it]"
     ]
    },
    {
     "name": "stdout",
     "output_type": "stream",
     "text": [
      "(55, 6)\n",
      "(296, 39) (70560, 9) (55, 6)\n"
     ]
    },
    {
     "name": "stderr",
     "output_type": "stream",
     "text": [
      "C:\\Users\\camil\\Anaconda3\\lib\\site-packages\\sklearn\\metrics\\_classification.py:620: RuntimeWarning: invalid value encountered in true_divide\n",
      "  k = np.sum(w_mat * confusion) / np.sum(w_mat * expected)\n"
     ]
    },
    {
     "name": "stdout",
     "output_type": "stream",
     "text": [
      "(55, 6)\n",
      "(229, 39) (71580, 9) (55, 6)\n"
     ]
    },
    {
     "name": "stderr",
     "output_type": "stream",
     "text": [
      "C:\\Users\\camil\\Anaconda3\\lib\\site-packages\\sklearn\\metrics\\_classification.py:620: RuntimeWarning: invalid value encountered in true_divide\n",
      "  k = np.sum(w_mat * confusion) / np.sum(w_mat * expected)\n",
      " 29%|██████████████████████▉                                                        | 41/141 [46:26<1:57:45, 70.65s/it]"
     ]
    },
    {
     "name": "stdout",
     "output_type": "stream",
     "text": [
      "(55, 6)\n",
      "(242, 39) (66180, 9) (55, 6)\n",
      "(55, 6)\n",
      "(235, 39) (72000, 9) (55, 6)\n"
     ]
    },
    {
     "name": "stderr",
     "output_type": "stream",
     "text": [
      "C:\\Users\\camil\\Anaconda3\\lib\\site-packages\\sklearn\\metrics\\_classification.py:620: RuntimeWarning: invalid value encountered in true_divide\n",
      "  k = np.sum(w_mat * confusion) / np.sum(w_mat * expected)\n",
      " 30%|███████████████████████▌                                                       | 42/141 [47:45<2:00:18, 72.92s/it]"
     ]
    },
    {
     "name": "stdout",
     "output_type": "stream",
     "text": [
      "(55, 6)\n",
      "(243, 39) (74340, 9) (55, 6)\n"
     ]
    },
    {
     "name": "stderr",
     "output_type": "stream",
     "text": [
      "C:\\Users\\camil\\Anaconda3\\lib\\site-packages\\sklearn\\metrics\\_classification.py:620: RuntimeWarning: invalid value encountered in true_divide\n",
      "  k = np.sum(w_mat * confusion) / np.sum(w_mat * expected)\n"
     ]
    },
    {
     "name": "stdout",
     "output_type": "stream",
     "text": [
      "(55, 6)\n",
      "(189, 39) (71520, 9) (55, 6)\n"
     ]
    },
    {
     "name": "stderr",
     "output_type": "stream",
     "text": [
      "C:\\Users\\camil\\Anaconda3\\lib\\site-packages\\sklearn\\metrics\\_classification.py:620: RuntimeWarning: invalid value encountered in true_divide\n",
      "  k = np.sum(w_mat * confusion) / np.sum(w_mat * expected)\n",
      "C:\\Users\\camil\\Anaconda3\\lib\\site-packages\\pingouin\\parametric.py:978: RuntimeWarning: divide by zero encountered in double_scalars\n",
      "  fval = msbetween / mserror\n",
      "C:\\Users\\camil\\Anaconda3\\lib\\site-packages\\pingouin\\reliability.py:320: RuntimeWarning: divide by zero encountered in double_scalars\n",
      "  f1k = msb / msw\n",
      "C:\\Users\\camil\\Anaconda3\\lib\\site-packages\\pingouin\\reliability.py:325: RuntimeWarning: divide by zero encountered in double_scalars\n",
      "  f2k = f3k = msb / mse\n",
      "C:\\Users\\camil\\Anaconda3\\lib\\site-packages\\pingouin\\reliability.py:349: RuntimeWarning: invalid value encountered in double_scalars\n",
      "  l1 = (f1l - 1) / (f1l + (k - 1))\n",
      "C:\\Users\\camil\\Anaconda3\\lib\\site-packages\\pingouin\\reliability.py:350: RuntimeWarning: invalid value encountered in double_scalars\n",
      "  u1 = (f1u - 1) / (f1u + (k - 1))\n",
      "C:\\Users\\camil\\Anaconda3\\lib\\site-packages\\pingouin\\reliability.py:353: RuntimeWarning: invalid value encountered in double_scalars\n",
      "  l3 = (f3l - 1) / (f3l + (k - 1))\n",
      "C:\\Users\\camil\\Anaconda3\\lib\\site-packages\\pingouin\\reliability.py:354: RuntimeWarning: invalid value encountered in double_scalars\n",
      "  u3 = (f3u - 1) / (f3u + (k - 1))\n",
      "C:\\Users\\camil\\Anaconda3\\lib\\site-packages\\pingouin\\reliability.py:356: RuntimeWarning: invalid value encountered in double_scalars\n",
      "  fj = msj / mse\n",
      " 30%|████████████████████████                                                       | 43/141 [49:03<2:01:55, 74.64s/it]"
     ]
    },
    {
     "name": "stdout",
     "output_type": "stream",
     "text": [
      "(55, 6)\n",
      "(237, 39) (72660, 9) (55, 6)\n"
     ]
    },
    {
     "name": "stderr",
     "output_type": "stream",
     "text": [
      "C:\\Users\\camil\\Anaconda3\\lib\\site-packages\\sklearn\\metrics\\_classification.py:620: RuntimeWarning: invalid value encountered in true_divide\n",
      "  k = np.sum(w_mat * confusion) / np.sum(w_mat * expected)\n"
     ]
    },
    {
     "name": "stdout",
     "output_type": "stream",
     "text": [
      "(55, 6)\n",
      "(235, 39) (64680, 9) (55, 6)\n"
     ]
    },
    {
     "name": "stderr",
     "output_type": "stream",
     "text": [
      "\r",
      " 31%|████████████████████████▋                                                      | 44/141 [50:14<1:59:00, 73.61s/it]"
     ]
    },
    {
     "name": "stdout",
     "output_type": "stream",
     "text": [
      "(55, 6)\n",
      "(233, 39) (63420, 9) (55, 6)\n"
     ]
    },
    {
     "name": "stderr",
     "output_type": "stream",
     "text": [
      "C:\\Users\\camil\\Anaconda3\\lib\\site-packages\\sklearn\\metrics\\_classification.py:620: RuntimeWarning: invalid value encountered in true_divide\n",
      "  k = np.sum(w_mat * confusion) / np.sum(w_mat * expected)\n"
     ]
    },
    {
     "name": "stdout",
     "output_type": "stream",
     "text": [
      "(55, 6)\n",
      "(202, 39) (67620, 9) (55, 6)\n"
     ]
    },
    {
     "name": "stderr",
     "output_type": "stream",
     "text": [
      "C:\\Users\\camil\\Anaconda3\\lib\\site-packages\\sklearn\\metrics\\_classification.py:620: RuntimeWarning: invalid value encountered in true_divide\n",
      "  k = np.sum(w_mat * confusion) / np.sum(w_mat * expected)\n",
      " 32%|█████████████████████████▏                                                     | 45/141 [51:21<1:54:30, 71.56s/it]"
     ]
    },
    {
     "name": "stdout",
     "output_type": "stream",
     "text": [
      "(55, 6)\n",
      "(248, 39) (65700, 9) (55, 6)\n",
      "(55, 6)\n",
      "(182, 39) (75120, 9) (55, 6)\n"
     ]
    },
    {
     "name": "stderr",
     "output_type": "stream",
     "text": [
      "C:\\Users\\camil\\Anaconda3\\lib\\site-packages\\sklearn\\metrics\\_classification.py:620: RuntimeWarning: invalid value encountered in true_divide\n",
      "  k = np.sum(w_mat * confusion) / np.sum(w_mat * expected)\n",
      " 33%|█████████████████████████▊                                                     | 46/141 [52:38<1:56:01, 73.27s/it]"
     ]
    },
    {
     "name": "stdout",
     "output_type": "stream",
     "text": [
      "(55, 6)\n",
      "(263, 39) (62580, 9) (55, 6)\n"
     ]
    },
    {
     "name": "stderr",
     "output_type": "stream",
     "text": [
      "C:\\Users\\camil\\Anaconda3\\lib\\site-packages\\sklearn\\metrics\\_classification.py:620: RuntimeWarning: invalid value encountered in true_divide\n",
      "  k = np.sum(w_mat * confusion) / np.sum(w_mat * expected)\n"
     ]
    },
    {
     "name": "stdout",
     "output_type": "stream",
     "text": [
      "(55, 6)\n",
      "(224, 39) (68940, 9) (55, 6)\n"
     ]
    },
    {
     "name": "stderr",
     "output_type": "stream",
     "text": [
      "C:\\Users\\camil\\Anaconda3\\lib\\site-packages\\sklearn\\metrics\\_classification.py:620: RuntimeWarning: invalid value encountered in true_divide\n",
      "  k = np.sum(w_mat * confusion) / np.sum(w_mat * expected)\n",
      " 33%|██████████████████████████▎                                                    | 47/141 [54:12<2:04:27, 79.44s/it]"
     ]
    },
    {
     "name": "stdout",
     "output_type": "stream",
     "text": [
      "(55, 6)\n",
      "(303, 39) (69300, 9) (55, 6)\n"
     ]
    },
    {
     "name": "stderr",
     "output_type": "stream",
     "text": [
      "C:\\Users\\camil\\Anaconda3\\lib\\site-packages\\sklearn\\metrics\\_classification.py:620: RuntimeWarning: invalid value encountered in true_divide\n",
      "  k = np.sum(w_mat * confusion) / np.sum(w_mat * expected)\n"
     ]
    },
    {
     "name": "stdout",
     "output_type": "stream",
     "text": [
      "(55, 6)\n",
      "(168, 39) (69300, 9) (55, 6)\n"
     ]
    },
    {
     "name": "stderr",
     "output_type": "stream",
     "text": [
      "C:\\Users\\camil\\Anaconda3\\lib\\site-packages\\sklearn\\metrics\\_classification.py:620: RuntimeWarning: invalid value encountered in true_divide\n",
      "  k = np.sum(w_mat * confusion) / np.sum(w_mat * expected)\n",
      " 34%|██████████████████████████▉                                                    | 48/141 [55:31<2:02:36, 79.11s/it]"
     ]
    },
    {
     "name": "stdout",
     "output_type": "stream",
     "text": [
      "(55, 6)\n",
      "(187, 39) (69420, 9) (55, 6)\n"
     ]
    },
    {
     "name": "stderr",
     "output_type": "stream",
     "text": [
      "C:\\Users\\camil\\Anaconda3\\lib\\site-packages\\sklearn\\metrics\\_classification.py:620: RuntimeWarning: invalid value encountered in true_divide\n",
      "  k = np.sum(w_mat * confusion) / np.sum(w_mat * expected)\n"
     ]
    },
    {
     "name": "stdout",
     "output_type": "stream",
     "text": [
      "(55, 6)\n",
      "(244, 39) (64800, 9) (55, 6)\n"
     ]
    },
    {
     "name": "stderr",
     "output_type": "stream",
     "text": [
      "C:\\Users\\camil\\Anaconda3\\lib\\site-packages\\sklearn\\metrics\\_classification.py:620: RuntimeWarning: invalid value encountered in true_divide\n",
      "  k = np.sum(w_mat * confusion) / np.sum(w_mat * expected)\n",
      " 35%|███████████████████████████▍                                                   | 49/141 [57:09<2:10:02, 84.81s/it]"
     ]
    },
    {
     "name": "stdout",
     "output_type": "stream",
     "text": [
      "(55, 6)\n",
      "(250, 39) (69900, 9) (55, 6)\n"
     ]
    },
    {
     "name": "stderr",
     "output_type": "stream",
     "text": [
      "C:\\Users\\camil\\Anaconda3\\lib\\site-packages\\sklearn\\metrics\\_classification.py:620: RuntimeWarning: invalid value encountered in true_divide\n",
      "  k = np.sum(w_mat * confusion) / np.sum(w_mat * expected)\n"
     ]
    },
    {
     "name": "stdout",
     "output_type": "stream",
     "text": [
      "(55, 6)\n",
      "(231, 39) (66840, 9) (55, 6)\n"
     ]
    },
    {
     "name": "stderr",
     "output_type": "stream",
     "text": [
      "C:\\Users\\camil\\Anaconda3\\lib\\site-packages\\sklearn\\metrics\\_classification.py:620: RuntimeWarning: invalid value encountered in true_divide\n",
      "  k = np.sum(w_mat * confusion) / np.sum(w_mat * expected)\n",
      "C:\\Users\\camil\\Anaconda3\\lib\\site-packages\\pingouin\\parametric.py:978: RuntimeWarning: divide by zero encountered in double_scalars\n",
      "  fval = msbetween / mserror\n",
      "C:\\Users\\camil\\Anaconda3\\lib\\site-packages\\pingouin\\reliability.py:320: RuntimeWarning: divide by zero encountered in double_scalars\n",
      "  f1k = msb / msw\n",
      "C:\\Users\\camil\\Anaconda3\\lib\\site-packages\\pingouin\\reliability.py:325: RuntimeWarning: divide by zero encountered in double_scalars\n",
      "  f2k = f3k = msb / mse\n",
      "C:\\Users\\camil\\Anaconda3\\lib\\site-packages\\pingouin\\reliability.py:349: RuntimeWarning: invalid value encountered in double_scalars\n",
      "  l1 = (f1l - 1) / (f1l + (k - 1))\n",
      "C:\\Users\\camil\\Anaconda3\\lib\\site-packages\\pingouin\\reliability.py:350: RuntimeWarning: invalid value encountered in double_scalars\n",
      "  u1 = (f1u - 1) / (f1u + (k - 1))\n",
      "C:\\Users\\camil\\Anaconda3\\lib\\site-packages\\pingouin\\reliability.py:353: RuntimeWarning: invalid value encountered in double_scalars\n",
      "  l3 = (f3l - 1) / (f3l + (k - 1))\n",
      "C:\\Users\\camil\\Anaconda3\\lib\\site-packages\\pingouin\\reliability.py:354: RuntimeWarning: invalid value encountered in double_scalars\n",
      "  u3 = (f3u - 1) / (f3u + (k - 1))\n",
      "C:\\Users\\camil\\Anaconda3\\lib\\site-packages\\pingouin\\reliability.py:356: RuntimeWarning: invalid value encountered in double_scalars\n",
      "  fj = msj / mse\n",
      " 35%|████████████████████████████                                                   | 50/141 [58:19<2:01:48, 80.32s/it]"
     ]
    },
    {
     "name": "stdout",
     "output_type": "stream",
     "text": [
      "(60, 6)\n",
      "(302, 39) (73080, 9) (60, 6)\n"
     ]
    },
    {
     "name": "stderr",
     "output_type": "stream",
     "text": [
      "C:\\Users\\camil\\Anaconda3\\lib\\site-packages\\sklearn\\metrics\\_classification.py:620: RuntimeWarning: invalid value encountered in true_divide\n",
      "  k = np.sum(w_mat * confusion) / np.sum(w_mat * expected)\n"
     ]
    },
    {
     "name": "stdout",
     "output_type": "stream",
     "text": [
      "(60, 6)\n",
      "(179, 39) (75000, 9) (60, 6)\n"
     ]
    },
    {
     "name": "stderr",
     "output_type": "stream",
     "text": [
      "C:\\Users\\camil\\Anaconda3\\lib\\site-packages\\sklearn\\metrics\\_classification.py:620: RuntimeWarning: invalid value encountered in true_divide\n",
      "  k = np.sum(w_mat * confusion) / np.sum(w_mat * expected)\n",
      " 36%|████████████████████████████▌                                                  | 51/141 [59:42<2:01:58, 81.31s/it]"
     ]
    },
    {
     "name": "stdout",
     "output_type": "stream",
     "text": [
      "(60, 6)\n",
      "(185, 39) (69840, 9) (60, 6)\n"
     ]
    },
    {
     "name": "stderr",
     "output_type": "stream",
     "text": [
      "C:\\Users\\camil\\Anaconda3\\lib\\site-packages\\sklearn\\metrics\\_classification.py:620: RuntimeWarning: invalid value encountered in true_divide\n",
      "  k = np.sum(w_mat * confusion) / np.sum(w_mat * expected)\n",
      "C:\\Users\\camil\\Anaconda3\\lib\\site-packages\\pingouin\\parametric.py:978: RuntimeWarning: divide by zero encountered in double_scalars\n",
      "  fval = msbetween / mserror\n",
      "C:\\Users\\camil\\Anaconda3\\lib\\site-packages\\pingouin\\reliability.py:325: RuntimeWarning: divide by zero encountered in double_scalars\n",
      "  f2k = f3k = msb / mse\n",
      "C:\\Users\\camil\\Anaconda3\\lib\\site-packages\\pingouin\\reliability.py:353: RuntimeWarning: invalid value encountered in double_scalars\n",
      "  l3 = (f3l - 1) / (f3l + (k - 1))\n",
      "C:\\Users\\camil\\Anaconda3\\lib\\site-packages\\pingouin\\reliability.py:354: RuntimeWarning: invalid value encountered in double_scalars\n",
      "  u3 = (f3u - 1) / (f3u + (k - 1))\n",
      "C:\\Users\\camil\\Anaconda3\\lib\\site-packages\\pingouin\\reliability.py:356: RuntimeWarning: divide by zero encountered in double_scalars\n",
      "  fj = msj / mse\n",
      "C:\\Users\\camil\\Anaconda3\\lib\\site-packages\\pingouin\\reliability.py:360: RuntimeWarning: invalid value encountered in double_scalars\n",
      "  v = vn / vd\n"
     ]
    },
    {
     "name": "stdout",
     "output_type": "stream",
     "text": [
      "(60, 6)\n",
      "(228, 39) (69540, 9) (60, 6)\n"
     ]
    },
    {
     "name": "stderr",
     "output_type": "stream",
     "text": [
      "C:\\Users\\camil\\Anaconda3\\lib\\site-packages\\sklearn\\metrics\\_classification.py:620: RuntimeWarning: invalid value encountered in true_divide\n",
      "  k = np.sum(w_mat * confusion) / np.sum(w_mat * expected)\n",
      " 37%|████████████████████████████▍                                                | 52/141 [1:00:59<1:58:40, 80.00s/it]"
     ]
    },
    {
     "name": "stdout",
     "output_type": "stream",
     "text": [
      "(60, 6)\n",
      "(228, 39) (71940, 9) (60, 6)\n"
     ]
    },
    {
     "name": "stderr",
     "output_type": "stream",
     "text": [
      "C:\\Users\\camil\\Anaconda3\\lib\\site-packages\\sklearn\\metrics\\_classification.py:620: RuntimeWarning: invalid value encountered in true_divide\n",
      "  k = np.sum(w_mat * confusion) / np.sum(w_mat * expected)\n"
     ]
    },
    {
     "name": "stdout",
     "output_type": "stream",
     "text": [
      "(60, 6)\n",
      "(307, 39) (79140, 9) (60, 6)\n"
     ]
    },
    {
     "name": "stderr",
     "output_type": "stream",
     "text": [
      "C:\\Users\\camil\\Anaconda3\\lib\\site-packages\\sklearn\\metrics\\_classification.py:620: RuntimeWarning: invalid value encountered in true_divide\n",
      "  k = np.sum(w_mat * confusion) / np.sum(w_mat * expected)\n",
      " 38%|████████████████████████████▉                                                | 53/141 [1:02:16<1:55:42, 78.90s/it]"
     ]
    },
    {
     "name": "stdout",
     "output_type": "stream",
     "text": [
      "(60, 6)\n",
      "(224, 39) (71460, 9) (60, 6)\n"
     ]
    },
    {
     "name": "stderr",
     "output_type": "stream",
     "text": [
      "C:\\Users\\camil\\Anaconda3\\lib\\site-packages\\sklearn\\metrics\\_classification.py:620: RuntimeWarning: invalid value encountered in true_divide\n",
      "  k = np.sum(w_mat * confusion) / np.sum(w_mat * expected)\n"
     ]
    },
    {
     "name": "stdout",
     "output_type": "stream",
     "text": [
      "(60, 6)\n",
      "(258, 39) (71760, 9) (60, 6)\n"
     ]
    },
    {
     "name": "stderr",
     "output_type": "stream",
     "text": [
      "C:\\Users\\camil\\Anaconda3\\lib\\site-packages\\sklearn\\metrics\\_classification.py:620: RuntimeWarning: invalid value encountered in true_divide\n",
      "  k = np.sum(w_mat * confusion) / np.sum(w_mat * expected)\n",
      " 38%|█████████████████████████████▍                                               | 54/141 [1:03:33<1:53:51, 78.53s/it]"
     ]
    },
    {
     "name": "stdout",
     "output_type": "stream",
     "text": [
      "(60, 6)\n",
      "(264, 39) (71640, 9) (60, 6)\n"
     ]
    },
    {
     "name": "stderr",
     "output_type": "stream",
     "text": [
      "C:\\Users\\camil\\Anaconda3\\lib\\site-packages\\sklearn\\metrics\\_classification.py:620: RuntimeWarning: invalid value encountered in true_divide\n",
      "  k = np.sum(w_mat * confusion) / np.sum(w_mat * expected)\n"
     ]
    },
    {
     "name": "stdout",
     "output_type": "stream",
     "text": [
      "(60, 6)\n",
      "(148, 39) (73320, 9) (60, 6)\n"
     ]
    },
    {
     "name": "stderr",
     "output_type": "stream",
     "text": [
      "C:\\Users\\camil\\Anaconda3\\lib\\site-packages\\sklearn\\metrics\\_classification.py:620: RuntimeWarning: invalid value encountered in true_divide\n",
      "  k = np.sum(w_mat * confusion) / np.sum(w_mat * expected)\n",
      "C:\\Users\\camil\\Anaconda3\\lib\\site-packages\\pingouin\\parametric.py:978: RuntimeWarning: divide by zero encountered in double_scalars\n",
      "  fval = msbetween / mserror\n",
      "C:\\Users\\camil\\Anaconda3\\lib\\site-packages\\pingouin\\reliability.py:320: RuntimeWarning: divide by zero encountered in double_scalars\n",
      "  f1k = msb / msw\n",
      "C:\\Users\\camil\\Anaconda3\\lib\\site-packages\\pingouin\\reliability.py:325: RuntimeWarning: divide by zero encountered in double_scalars\n",
      "  f2k = f3k = msb / mse\n",
      "C:\\Users\\camil\\Anaconda3\\lib\\site-packages\\pingouin\\reliability.py:349: RuntimeWarning: invalid value encountered in double_scalars\n",
      "  l1 = (f1l - 1) / (f1l + (k - 1))\n",
      "C:\\Users\\camil\\Anaconda3\\lib\\site-packages\\pingouin\\reliability.py:350: RuntimeWarning: invalid value encountered in double_scalars\n",
      "  u1 = (f1u - 1) / (f1u + (k - 1))\n",
      "C:\\Users\\camil\\Anaconda3\\lib\\site-packages\\pingouin\\reliability.py:353: RuntimeWarning: invalid value encountered in double_scalars\n",
      "  l3 = (f3l - 1) / (f3l + (k - 1))\n",
      "C:\\Users\\camil\\Anaconda3\\lib\\site-packages\\pingouin\\reliability.py:354: RuntimeWarning: invalid value encountered in double_scalars\n",
      "  u3 = (f3u - 1) / (f3u + (k - 1))\n",
      "C:\\Users\\camil\\Anaconda3\\lib\\site-packages\\pingouin\\reliability.py:356: RuntimeWarning: invalid value encountered in double_scalars\n",
      "  fj = msj / mse\n",
      " 39%|██████████████████████████████                                               | 55/141 [1:04:52<1:52:44, 78.66s/it]"
     ]
    },
    {
     "name": "stdout",
     "output_type": "stream",
     "text": [
      "(60, 6)\n",
      "(335, 39) (83820, 9) (60, 6)\n"
     ]
    },
    {
     "name": "stderr",
     "output_type": "stream",
     "text": [
      "C:\\Users\\camil\\Anaconda3\\lib\\site-packages\\sklearn\\metrics\\_classification.py:620: RuntimeWarning: invalid value encountered in true_divide\n",
      "  k = np.sum(w_mat * confusion) / np.sum(w_mat * expected)\n"
     ]
    },
    {
     "name": "stdout",
     "output_type": "stream",
     "text": [
      "(60, 6)\n",
      "(245, 39) (72540, 9) (60, 6)\n"
     ]
    },
    {
     "name": "stderr",
     "output_type": "stream",
     "text": [
      "C:\\Users\\camil\\Anaconda3\\lib\\site-packages\\sklearn\\metrics\\_classification.py:620: RuntimeWarning: invalid value encountered in true_divide\n",
      "  k = np.sum(w_mat * confusion) / np.sum(w_mat * expected)\n",
      "C:\\Users\\camil\\Anaconda3\\lib\\site-packages\\pingouin\\parametric.py:978: RuntimeWarning: divide by zero encountered in double_scalars\n",
      "  fval = msbetween / mserror\n",
      " 40%|██████████████████████████████▌                                              | 56/141 [1:06:20<1:55:21, 81.43s/it]"
     ]
    },
    {
     "name": "stdout",
     "output_type": "stream",
     "text": [
      "(60, 6)\n",
      "(228, 39) (76800, 9) (60, 6)\n"
     ]
    },
    {
     "name": "stderr",
     "output_type": "stream",
     "text": [
      "C:\\Users\\camil\\Anaconda3\\lib\\site-packages\\sklearn\\metrics\\_classification.py:620: RuntimeWarning: invalid value encountered in true_divide\n",
      "  k = np.sum(w_mat * confusion) / np.sum(w_mat * expected)\n"
     ]
    },
    {
     "name": "stdout",
     "output_type": "stream",
     "text": [
      "(60, 6)\n",
      "(305, 39) (72000, 9) (60, 6)\n"
     ]
    },
    {
     "name": "stderr",
     "output_type": "stream",
     "text": [
      "\r",
      " 40%|███████████████████████████████▏                                             | 57/141 [1:07:34<1:50:58, 79.27s/it]"
     ]
    },
    {
     "name": "stdout",
     "output_type": "stream",
     "text": [
      "(60, 6)\n",
      "(262, 39) (77340, 9) (60, 6)\n"
     ]
    },
    {
     "name": "stderr",
     "output_type": "stream",
     "text": [
      "C:\\Users\\camil\\Anaconda3\\lib\\site-packages\\sklearn\\metrics\\_classification.py:620: RuntimeWarning: invalid value encountered in true_divide\n",
      "  k = np.sum(w_mat * confusion) / np.sum(w_mat * expected)\n",
      "C:\\Users\\camil\\Anaconda3\\lib\\site-packages\\pingouin\\parametric.py:978: RuntimeWarning: divide by zero encountered in double_scalars\n",
      "  fval = msbetween / mserror\n",
      "C:\\Users\\camil\\Anaconda3\\lib\\site-packages\\pingouin\\reliability.py:320: RuntimeWarning: divide by zero encountered in double_scalars\n",
      "  f1k = msb / msw\n",
      "C:\\Users\\camil\\Anaconda3\\lib\\site-packages\\pingouin\\reliability.py:325: RuntimeWarning: divide by zero encountered in double_scalars\n",
      "  f2k = f3k = msb / mse\n",
      "C:\\Users\\camil\\Anaconda3\\lib\\site-packages\\pingouin\\reliability.py:349: RuntimeWarning: invalid value encountered in double_scalars\n",
      "  l1 = (f1l - 1) / (f1l + (k - 1))\n",
      "C:\\Users\\camil\\Anaconda3\\lib\\site-packages\\pingouin\\reliability.py:350: RuntimeWarning: invalid value encountered in double_scalars\n",
      "  u1 = (f1u - 1) / (f1u + (k - 1))\n",
      "C:\\Users\\camil\\Anaconda3\\lib\\site-packages\\pingouin\\reliability.py:353: RuntimeWarning: invalid value encountered in double_scalars\n",
      "  l3 = (f3l - 1) / (f3l + (k - 1))\n",
      "C:\\Users\\camil\\Anaconda3\\lib\\site-packages\\pingouin\\reliability.py:354: RuntimeWarning: invalid value encountered in double_scalars\n",
      "  u3 = (f3u - 1) / (f3u + (k - 1))\n",
      "C:\\Users\\camil\\Anaconda3\\lib\\site-packages\\pingouin\\reliability.py:356: RuntimeWarning: invalid value encountered in double_scalars\n",
      "  fj = msj / mse\n"
     ]
    },
    {
     "name": "stdout",
     "output_type": "stream",
     "text": [
      "(60, 6)\n",
      "(279, 39) (70440, 9) (60, 6)\n"
     ]
    },
    {
     "name": "stderr",
     "output_type": "stream",
     "text": [
      "C:\\Users\\camil\\Anaconda3\\lib\\site-packages\\sklearn\\metrics\\_classification.py:620: RuntimeWarning: invalid value encountered in true_divide\n",
      "  k = np.sum(w_mat * confusion) / np.sum(w_mat * expected)\n",
      " 41%|███████████████████████████████▋                                             | 58/141 [1:08:52<1:48:49, 78.67s/it]"
     ]
    },
    {
     "name": "stdout",
     "output_type": "stream",
     "text": [
      "(60, 6)\n",
      "(284, 39) (76800, 9) (60, 6)\n",
      "(60, 6)\n",
      "(178, 39) (67980, 9) (60, 6)\n"
     ]
    },
    {
     "name": "stderr",
     "output_type": "stream",
     "text": [
      "C:\\Users\\camil\\Anaconda3\\lib\\site-packages\\sklearn\\metrics\\_classification.py:620: RuntimeWarning: invalid value encountered in true_divide\n",
      "  k = np.sum(w_mat * confusion) / np.sum(w_mat * expected)\n",
      " 42%|████████████████████████████████▏                                            | 59/141 [1:10:05<1:45:22, 77.10s/it]"
     ]
    },
    {
     "name": "stdout",
     "output_type": "stream",
     "text": [
      "(60, 6)\n",
      "(215, 39) (69060, 9) (60, 6)\n"
     ]
    },
    {
     "name": "stderr",
     "output_type": "stream",
     "text": [
      "C:\\Users\\camil\\Anaconda3\\lib\\site-packages\\sklearn\\metrics\\_classification.py:620: RuntimeWarning: invalid value encountered in true_divide\n",
      "  k = np.sum(w_mat * confusion) / np.sum(w_mat * expected)\n"
     ]
    },
    {
     "name": "stdout",
     "output_type": "stream",
     "text": [
      "(60, 6)\n",
      "(288, 39) (79440, 9) (60, 6)\n"
     ]
    },
    {
     "name": "stderr",
     "output_type": "stream",
     "text": [
      "\r",
      " 43%|████████████████████████████████▊                                            | 60/141 [1:11:25<1:45:04, 77.84s/it]"
     ]
    },
    {
     "name": "stdout",
     "output_type": "stream",
     "text": [
      "(65, 6)\n",
      "(277, 39) (74460, 9) (65, 6)\n"
     ]
    },
    {
     "name": "stderr",
     "output_type": "stream",
     "text": [
      "C:\\Users\\camil\\Anaconda3\\lib\\site-packages\\sklearn\\metrics\\_classification.py:620: RuntimeWarning: invalid value encountered in true_divide\n",
      "  k = np.sum(w_mat * confusion) / np.sum(w_mat * expected)\n"
     ]
    },
    {
     "name": "stdout",
     "output_type": "stream",
     "text": [
      "(65, 6)\n",
      "(284, 39) (82080, 9) (65, 6)\n"
     ]
    },
    {
     "name": "stderr",
     "output_type": "stream",
     "text": [
      "C:\\Users\\camil\\Anaconda3\\lib\\site-packages\\sklearn\\metrics\\_classification.py:620: RuntimeWarning: invalid value encountered in true_divide\n",
      "  k = np.sum(w_mat * confusion) / np.sum(w_mat * expected)\n",
      " 43%|█████████████████████████████████▎                                           | 61/141 [1:13:19<1:58:20, 88.75s/it]"
     ]
    },
    {
     "name": "stdout",
     "output_type": "stream",
     "text": [
      "(65, 6)\n",
      "(223, 39) (77820, 9) (65, 6)\n"
     ]
    },
    {
     "name": "stderr",
     "output_type": "stream",
     "text": [
      "C:\\Users\\camil\\Anaconda3\\lib\\site-packages\\sklearn\\metrics\\_classification.py:620: RuntimeWarning: invalid value encountered in true_divide\n",
      "  k = np.sum(w_mat * confusion) / np.sum(w_mat * expected)\n"
     ]
    },
    {
     "name": "stdout",
     "output_type": "stream",
     "text": [
      "(65, 6)\n",
      "(318, 39) (91140, 9) (65, 6)\n"
     ]
    },
    {
     "name": "stderr",
     "output_type": "stream",
     "text": [
      "C:\\Users\\camil\\Anaconda3\\lib\\site-packages\\sklearn\\metrics\\_classification.py:620: RuntimeWarning: invalid value encountered in true_divide\n",
      "  k = np.sum(w_mat * confusion) / np.sum(w_mat * expected)\n",
      " 44%|█████████████████████████████████▊                                           | 62/141 [1:14:46<1:56:11, 88.25s/it]"
     ]
    },
    {
     "name": "stdout",
     "output_type": "stream",
     "text": [
      "(65, 6)\n",
      "(302, 39) (86460, 9) (65, 6)\n"
     ]
    },
    {
     "name": "stderr",
     "output_type": "stream",
     "text": [
      "C:\\Users\\camil\\Anaconda3\\lib\\site-packages\\sklearn\\metrics\\_classification.py:620: RuntimeWarning: invalid value encountered in true_divide\n",
      "  k = np.sum(w_mat * confusion) / np.sum(w_mat * expected)\n"
     ]
    },
    {
     "name": "stdout",
     "output_type": "stream",
     "text": [
      "(65, 6)\n",
      "(266, 39) (77640, 9) (65, 6)\n"
     ]
    },
    {
     "name": "stderr",
     "output_type": "stream",
     "text": [
      "\r",
      " 45%|██████████████████████████████████▍                                          | 63/141 [1:16:05<1:51:07, 85.48s/it]"
     ]
    },
    {
     "name": "stdout",
     "output_type": "stream",
     "text": [
      "(65, 6)\n",
      "(295, 39) (80520, 9) (65, 6)\n"
     ]
    },
    {
     "name": "stderr",
     "output_type": "stream",
     "text": [
      "C:\\Users\\camil\\Anaconda3\\lib\\site-packages\\sklearn\\metrics\\_classification.py:620: RuntimeWarning: invalid value encountered in true_divide\n",
      "  k = np.sum(w_mat * confusion) / np.sum(w_mat * expected)\n"
     ]
    },
    {
     "name": "stdout",
     "output_type": "stream",
     "text": [
      "(65, 6)\n",
      "(226, 39) (82560, 9) (65, 6)\n"
     ]
    },
    {
     "name": "stderr",
     "output_type": "stream",
     "text": [
      "C:\\Users\\camil\\Anaconda3\\lib\\site-packages\\sklearn\\metrics\\_classification.py:620: RuntimeWarning: invalid value encountered in true_divide\n",
      "  k = np.sum(w_mat * confusion) / np.sum(w_mat * expected)\n",
      " 45%|██████████████████████████████████▉                                          | 64/141 [1:17:24<1:47:26, 83.72s/it]"
     ]
    },
    {
     "name": "stdout",
     "output_type": "stream",
     "text": [
      "(65, 6)\n",
      "(278, 39) (78720, 9) (65, 6)\n"
     ]
    },
    {
     "name": "stderr",
     "output_type": "stream",
     "text": [
      "C:\\Users\\camil\\Anaconda3\\lib\\site-packages\\sklearn\\metrics\\_classification.py:620: RuntimeWarning: invalid value encountered in true_divide\n",
      "  k = np.sum(w_mat * confusion) / np.sum(w_mat * expected)\n"
     ]
    },
    {
     "name": "stdout",
     "output_type": "stream",
     "text": [
      "(65, 6)\n",
      "(281, 39) (77340, 9) (65, 6)\n"
     ]
    },
    {
     "name": "stderr",
     "output_type": "stream",
     "text": [
      "C:\\Users\\camil\\Anaconda3\\lib\\site-packages\\sklearn\\metrics\\_classification.py:620: RuntimeWarning: invalid value encountered in true_divide\n",
      "  k = np.sum(w_mat * confusion) / np.sum(w_mat * expected)\n",
      " 46%|███████████████████████████████████▍                                         | 65/141 [1:18:46<1:45:11, 83.05s/it]"
     ]
    },
    {
     "name": "stdout",
     "output_type": "stream",
     "text": [
      "(65, 6)\n",
      "(256, 39) (80100, 9) (65, 6)\n"
     ]
    },
    {
     "name": "stderr",
     "output_type": "stream",
     "text": [
      "C:\\Users\\camil\\Anaconda3\\lib\\site-packages\\sklearn\\metrics\\_classification.py:620: RuntimeWarning: invalid value encountered in true_divide\n",
      "  k = np.sum(w_mat * confusion) / np.sum(w_mat * expected)\n"
     ]
    },
    {
     "name": "stdout",
     "output_type": "stream",
     "text": [
      "(65, 6)\n",
      "(250, 39) (78180, 9) (65, 6)\n"
     ]
    },
    {
     "name": "stderr",
     "output_type": "stream",
     "text": [
      "C:\\Users\\camil\\Anaconda3\\lib\\site-packages\\sklearn\\metrics\\_classification.py:620: RuntimeWarning: invalid value encountered in true_divide\n",
      "  k = np.sum(w_mat * confusion) / np.sum(w_mat * expected)\n",
      "C:\\Users\\camil\\Anaconda3\\lib\\site-packages\\pingouin\\parametric.py:978: RuntimeWarning: divide by zero encountered in double_scalars\n",
      "  fval = msbetween / mserror\n",
      " 47%|████████████████████████████████████                                         | 66/141 [1:20:05<1:42:21, 81.88s/it]"
     ]
    },
    {
     "name": "stdout",
     "output_type": "stream",
     "text": [
      "(65, 6)\n",
      "(264, 39) (81180, 9) (65, 6)\n"
     ]
    },
    {
     "name": "stderr",
     "output_type": "stream",
     "text": [
      "C:\\Users\\camil\\Anaconda3\\lib\\site-packages\\sklearn\\metrics\\_classification.py:620: RuntimeWarning: invalid value encountered in true_divide\n",
      "  k = np.sum(w_mat * confusion) / np.sum(w_mat * expected)\n"
     ]
    },
    {
     "name": "stdout",
     "output_type": "stream",
     "text": [
      "(65, 6)\n",
      "(271, 39) (85260, 9) (65, 6)\n"
     ]
    },
    {
     "name": "stderr",
     "output_type": "stream",
     "text": [
      "C:\\Users\\camil\\Anaconda3\\lib\\site-packages\\sklearn\\metrics\\_classification.py:620: RuntimeWarning: invalid value encountered in true_divide\n",
      "  k = np.sum(w_mat * confusion) / np.sum(w_mat * expected)\n",
      " 48%|████████████████████████████████████▌                                        | 67/141 [1:21:28<1:41:27, 82.27s/it]"
     ]
    },
    {
     "name": "stdout",
     "output_type": "stream",
     "text": [
      "(65, 6)\n",
      "(243, 39) (77880, 9) (65, 6)\n"
     ]
    },
    {
     "name": "stderr",
     "output_type": "stream",
     "text": [
      "C:\\Users\\camil\\Anaconda3\\lib\\site-packages\\sklearn\\metrics\\_classification.py:620: RuntimeWarning: invalid value encountered in true_divide\n",
      "  k = np.sum(w_mat * confusion) / np.sum(w_mat * expected)\n",
      "C:\\Users\\camil\\Anaconda3\\lib\\site-packages\\pingouin\\parametric.py:978: RuntimeWarning: divide by zero encountered in double_scalars\n",
      "  fval = msbetween / mserror\n"
     ]
    },
    {
     "name": "stdout",
     "output_type": "stream",
     "text": [
      "(65, 6)\n",
      "(296, 39) (86100, 9) (65, 6)\n"
     ]
    },
    {
     "name": "stderr",
     "output_type": "stream",
     "text": [
      "\r",
      " 48%|█████████████████████████████████████▏                                       | 68/141 [1:22:51<1:40:08, 82.30s/it]"
     ]
    },
    {
     "name": "stdout",
     "output_type": "stream",
     "text": [
      "(65, 6)\n",
      "(216, 39) (78900, 9) (65, 6)\n"
     ]
    },
    {
     "name": "stderr",
     "output_type": "stream",
     "text": [
      "C:\\Users\\camil\\Anaconda3\\lib\\site-packages\\sklearn\\metrics\\_classification.py:620: RuntimeWarning: invalid value encountered in true_divide\n",
      "  k = np.sum(w_mat * confusion) / np.sum(w_mat * expected)\n"
     ]
    },
    {
     "name": "stdout",
     "output_type": "stream",
     "text": [
      "(65, 6)\n",
      "(286, 39) (80400, 9) (65, 6)\n"
     ]
    },
    {
     "name": "stderr",
     "output_type": "stream",
     "text": [
      "C:\\Users\\camil\\Anaconda3\\lib\\site-packages\\sklearn\\metrics\\_classification.py:620: RuntimeWarning: invalid value encountered in true_divide\n",
      "  k = np.sum(w_mat * confusion) / np.sum(w_mat * expected)\n",
      " 49%|█████████████████████████████████████▋                                       | 69/141 [1:24:17<1:40:09, 83.46s/it]"
     ]
    },
    {
     "name": "stdout",
     "output_type": "stream",
     "text": [
      "(65, 6)\n",
      "(189, 39) (66720, 9) (65, 6)\n"
     ]
    },
    {
     "name": "stderr",
     "output_type": "stream",
     "text": [
      "C:\\Users\\camil\\Anaconda3\\lib\\site-packages\\sklearn\\metrics\\_classification.py:620: RuntimeWarning: invalid value encountered in true_divide\n",
      "  k = np.sum(w_mat * confusion) / np.sum(w_mat * expected)\n"
     ]
    },
    {
     "name": "stdout",
     "output_type": "stream",
     "text": [
      "(65, 6)\n",
      "(275, 39) (87600, 9) (65, 6)\n"
     ]
    },
    {
     "name": "stderr",
     "output_type": "stream",
     "text": [
      "C:\\Users\\camil\\Anaconda3\\lib\\site-packages\\sklearn\\metrics\\_classification.py:620: RuntimeWarning: invalid value encountered in true_divide\n",
      "  k = np.sum(w_mat * confusion) / np.sum(w_mat * expected)\n",
      " 50%|██████████████████████████████████████▏                                      | 70/141 [1:25:51<1:42:38, 86.74s/it]"
     ]
    },
    {
     "name": "stdout",
     "output_type": "stream",
     "text": [
      "(70, 6)\n",
      "(375, 39) (92640, 9) (70, 6)\n",
      "(70, 6)\n",
      "(272, 39) (83580, 9) (70, 6)\n"
     ]
    },
    {
     "name": "stderr",
     "output_type": "stream",
     "text": [
      "C:\\Users\\camil\\Anaconda3\\lib\\site-packages\\sklearn\\metrics\\_classification.py:620: RuntimeWarning: invalid value encountered in true_divide\n",
      "  k = np.sum(w_mat * confusion) / np.sum(w_mat * expected)\n",
      " 50%|██████████████████████████████████████▊                                      | 71/141 [1:27:22<1:42:40, 88.00s/it]"
     ]
    },
    {
     "name": "stdout",
     "output_type": "stream",
     "text": [
      "(70, 6)\n",
      "(314, 39) (84660, 9) (70, 6)\n",
      "(70, 6)\n",
      "(301, 39) (92520, 9) (70, 6)\n"
     ]
    },
    {
     "name": "stderr",
     "output_type": "stream",
     "text": [
      "C:\\Users\\camil\\Anaconda3\\lib\\site-packages\\sklearn\\metrics\\_classification.py:620: RuntimeWarning: invalid value encountered in true_divide\n",
      "  k = np.sum(w_mat * confusion) / np.sum(w_mat * expected)\n",
      " 51%|███████████████████████████████████████▎                                     | 72/141 [1:28:52<1:41:42, 88.44s/it]"
     ]
    },
    {
     "name": "stdout",
     "output_type": "stream",
     "text": [
      "(70, 6)\n",
      "(283, 39) (84780, 9) (70, 6)\n"
     ]
    },
    {
     "name": "stderr",
     "output_type": "stream",
     "text": [
      "C:\\Users\\camil\\Anaconda3\\lib\\site-packages\\sklearn\\metrics\\_classification.py:620: RuntimeWarning: invalid value encountered in true_divide\n",
      "  k = np.sum(w_mat * confusion) / np.sum(w_mat * expected)\n"
     ]
    },
    {
     "name": "stdout",
     "output_type": "stream",
     "text": [
      "(70, 6)\n",
      "(272, 39) (82140, 9) (70, 6)\n"
     ]
    },
    {
     "name": "stderr",
     "output_type": "stream",
     "text": [
      "C:\\Users\\camil\\Anaconda3\\lib\\site-packages\\sklearn\\metrics\\_classification.py:620: RuntimeWarning: invalid value encountered in true_divide\n",
      "  k = np.sum(w_mat * confusion) / np.sum(w_mat * expected)\n",
      " 52%|███████████████████████████████████████▊                                     | 73/141 [1:30:14<1:38:08, 86.60s/it]"
     ]
    },
    {
     "name": "stdout",
     "output_type": "stream",
     "text": [
      "(70, 6)\n",
      "(267, 39) (79800, 9) (70, 6)\n"
     ]
    },
    {
     "name": "stderr",
     "output_type": "stream",
     "text": [
      "C:\\Users\\camil\\Anaconda3\\lib\\site-packages\\sklearn\\metrics\\_classification.py:620: RuntimeWarning: invalid value encountered in true_divide\n",
      "  k = np.sum(w_mat * confusion) / np.sum(w_mat * expected)\n"
     ]
    },
    {
     "name": "stdout",
     "output_type": "stream",
     "text": [
      "(70, 6)\n",
      "(352, 39) (90060, 9) (70, 6)\n"
     ]
    },
    {
     "name": "stderr",
     "output_type": "stream",
     "text": [
      "C:\\Users\\camil\\Anaconda3\\lib\\site-packages\\sklearn\\metrics\\_classification.py:620: RuntimeWarning: invalid value encountered in true_divide\n",
      "  k = np.sum(w_mat * confusion) / np.sum(w_mat * expected)\n",
      " 52%|███████████████████████████████████████▉                                    | 74/141 [1:33:25<2:11:42, 117.96s/it]"
     ]
    },
    {
     "name": "stdout",
     "output_type": "stream",
     "text": [
      "(70, 6)\n",
      "(261, 39) (77460, 9) (70, 6)\n"
     ]
    },
    {
     "name": "stderr",
     "output_type": "stream",
     "text": [
      "C:\\Users\\camil\\Anaconda3\\lib\\site-packages\\sklearn\\metrics\\_classification.py:620: RuntimeWarning: invalid value encountered in true_divide\n",
      "  k = np.sum(w_mat * confusion) / np.sum(w_mat * expected)\n"
     ]
    },
    {
     "name": "stdout",
     "output_type": "stream",
     "text": [
      "(70, 6)\n",
      "(282, 39) (88380, 9) (70, 6)\n"
     ]
    },
    {
     "name": "stderr",
     "output_type": "stream",
     "text": [
      "C:\\Users\\camil\\Anaconda3\\lib\\site-packages\\sklearn\\metrics\\_classification.py:620: RuntimeWarning: invalid value encountered in true_divide\n",
      "  k = np.sum(w_mat * confusion) / np.sum(w_mat * expected)\n",
      " 53%|████████████████████████████████████████▍                                   | 75/141 [1:34:48<1:58:03, 107.33s/it]"
     ]
    },
    {
     "name": "stdout",
     "output_type": "stream",
     "text": [
      "(70, 6)\n",
      "(273, 39) (80160, 9) (70, 6)\n"
     ]
    },
    {
     "name": "stderr",
     "output_type": "stream",
     "text": [
      "C:\\Users\\camil\\Anaconda3\\lib\\site-packages\\sklearn\\metrics\\_classification.py:620: RuntimeWarning: invalid value encountered in true_divide\n",
      "  k = np.sum(w_mat * confusion) / np.sum(w_mat * expected)\n"
     ]
    },
    {
     "name": "stdout",
     "output_type": "stream",
     "text": [
      "(70, 6)\n",
      "(260, 39) (89640, 9) (70, 6)\n"
     ]
    },
    {
     "name": "stderr",
     "output_type": "stream",
     "text": [
      "C:\\Users\\camil\\Anaconda3\\lib\\site-packages\\sklearn\\metrics\\_classification.py:620: RuntimeWarning: invalid value encountered in true_divide\n",
      "  k = np.sum(w_mat * confusion) / np.sum(w_mat * expected)\n",
      " 54%|████████████████████████████████████████▉                                   | 76/141 [1:36:11<1:48:21, 100.03s/it]"
     ]
    },
    {
     "name": "stdout",
     "output_type": "stream",
     "text": [
      "(70, 6)\n",
      "(273, 39) (85920, 9) (70, 6)\n"
     ]
    },
    {
     "name": "stderr",
     "output_type": "stream",
     "text": [
      "C:\\Users\\camil\\Anaconda3\\lib\\site-packages\\sklearn\\metrics\\_classification.py:620: RuntimeWarning: invalid value encountered in true_divide\n",
      "  k = np.sum(w_mat * confusion) / np.sum(w_mat * expected)\n"
     ]
    },
    {
     "name": "stdout",
     "output_type": "stream",
     "text": [
      "(70, 6)\n",
      "(298, 39) (86760, 9) (70, 6)\n"
     ]
    },
    {
     "name": "stderr",
     "output_type": "stream",
     "text": [
      "C:\\Users\\camil\\Anaconda3\\lib\\site-packages\\sklearn\\metrics\\_classification.py:620: RuntimeWarning: invalid value encountered in true_divide\n",
      "  k = np.sum(w_mat * confusion) / np.sum(w_mat * expected)\n",
      " 55%|██████████████████████████████████████████                                   | 77/141 [1:37:41<1:43:34, 97.10s/it]"
     ]
    },
    {
     "name": "stdout",
     "output_type": "stream",
     "text": [
      "(70, 6)\n",
      "(254, 39) (82140, 9) (70, 6)\n"
     ]
    },
    {
     "name": "stderr",
     "output_type": "stream",
     "text": [
      "C:\\Users\\camil\\Anaconda3\\lib\\site-packages\\sklearn\\metrics\\_classification.py:620: RuntimeWarning: invalid value encountered in true_divide\n",
      "  k = np.sum(w_mat * confusion) / np.sum(w_mat * expected)\n"
     ]
    },
    {
     "name": "stdout",
     "output_type": "stream",
     "text": [
      "(70, 6)\n",
      "(274, 39) (91080, 9) (70, 6)\n"
     ]
    },
    {
     "name": "stderr",
     "output_type": "stream",
     "text": [
      "C:\\Users\\camil\\Anaconda3\\lib\\site-packages\\sklearn\\metrics\\_classification.py:620: RuntimeWarning: invalid value encountered in true_divide\n",
      "  k = np.sum(w_mat * confusion) / np.sum(w_mat * expected)\n",
      " 55%|██████████████████████████████████████████▌                                  | 78/141 [1:39:05<1:37:48, 93.14s/it]"
     ]
    },
    {
     "name": "stdout",
     "output_type": "stream",
     "text": [
      "(70, 6)\n",
      "(337, 39) (80340, 9) (70, 6)\n"
     ]
    },
    {
     "name": "stderr",
     "output_type": "stream",
     "text": [
      "C:\\Users\\camil\\Anaconda3\\lib\\site-packages\\sklearn\\metrics\\_classification.py:620: RuntimeWarning: invalid value encountered in true_divide\n",
      "  k = np.sum(w_mat * confusion) / np.sum(w_mat * expected)\n"
     ]
    },
    {
     "name": "stdout",
     "output_type": "stream",
     "text": [
      "(70, 6)\n",
      "(219, 39) (84480, 9) (70, 6)\n"
     ]
    },
    {
     "name": "stderr",
     "output_type": "stream",
     "text": [
      "C:\\Users\\camil\\Anaconda3\\lib\\site-packages\\sklearn\\metrics\\_classification.py:620: RuntimeWarning: invalid value encountered in true_divide\n",
      "  k = np.sum(w_mat * confusion) / np.sum(w_mat * expected)\n",
      " 56%|███████████████████████████████████████████▏                                 | 79/141 [1:40:23<1:31:42, 88.74s/it]"
     ]
    },
    {
     "name": "stdout",
     "output_type": "stream",
     "text": [
      "(70, 6)\n",
      "(277, 39) (87780, 9) (70, 6)\n"
     ]
    },
    {
     "name": "stderr",
     "output_type": "stream",
     "text": [
      "C:\\Users\\camil\\Anaconda3\\lib\\site-packages\\sklearn\\metrics\\_classification.py:620: RuntimeWarning: invalid value encountered in true_divide\n",
      "  k = np.sum(w_mat * confusion) / np.sum(w_mat * expected)\n"
     ]
    },
    {
     "name": "stdout",
     "output_type": "stream",
     "text": [
      "(70, 6)\n",
      "(276, 39) (92280, 9) (70, 6)\n"
     ]
    },
    {
     "name": "stderr",
     "output_type": "stream",
     "text": [
      "C:\\Users\\camil\\Anaconda3\\lib\\site-packages\\sklearn\\metrics\\_classification.py:620: RuntimeWarning: invalid value encountered in true_divide\n",
      "  k = np.sum(w_mat * confusion) / np.sum(w_mat * expected)\n",
      " 57%|███████████████████████████████████████████▋                                 | 80/141 [1:41:50<1:29:32, 88.08s/it]"
     ]
    },
    {
     "name": "stdout",
     "output_type": "stream",
     "text": [
      "(75, 6)\n",
      "(300, 39) (93480, 9) (75, 6)\n"
     ]
    },
    {
     "name": "stderr",
     "output_type": "stream",
     "text": [
      "C:\\Users\\camil\\Anaconda3\\lib\\site-packages\\sklearn\\metrics\\_classification.py:620: RuntimeWarning: invalid value encountered in true_divide\n",
      "  k = np.sum(w_mat * confusion) / np.sum(w_mat * expected)\n"
     ]
    },
    {
     "name": "stdout",
     "output_type": "stream",
     "text": [
      "(75, 6)\n",
      "(304, 39) (85740, 9) (75, 6)\n"
     ]
    },
    {
     "name": "stderr",
     "output_type": "stream",
     "text": [
      "C:\\Users\\camil\\Anaconda3\\lib\\site-packages\\sklearn\\metrics\\_classification.py:620: RuntimeWarning: invalid value encountered in true_divide\n",
      "  k = np.sum(w_mat * confusion) / np.sum(w_mat * expected)\n",
      " 57%|████████████████████████████████████████████▏                                | 81/141 [1:43:24<1:30:03, 90.06s/it]"
     ]
    },
    {
     "name": "stdout",
     "output_type": "stream",
     "text": [
      "(75, 6)\n",
      "(241, 39) (94080, 9) (75, 6)\n"
     ]
    },
    {
     "name": "stderr",
     "output_type": "stream",
     "text": [
      "C:\\Users\\camil\\Anaconda3\\lib\\site-packages\\sklearn\\metrics\\_classification.py:620: RuntimeWarning: invalid value encountered in true_divide\n",
      "  k = np.sum(w_mat * confusion) / np.sum(w_mat * expected)\n"
     ]
    },
    {
     "name": "stdout",
     "output_type": "stream",
     "text": [
      "(75, 6)\n",
      "(330, 39) (85620, 9) (75, 6)\n"
     ]
    },
    {
     "name": "stderr",
     "output_type": "stream",
     "text": [
      "C:\\Users\\camil\\Anaconda3\\lib\\site-packages\\sklearn\\metrics\\_classification.py:620: RuntimeWarning: invalid value encountered in true_divide\n",
      "  k = np.sum(w_mat * confusion) / np.sum(w_mat * expected)\n",
      " 58%|████████████████████████████████████████████▊                                | 82/141 [1:45:01<1:30:21, 91.90s/it]"
     ]
    },
    {
     "name": "stdout",
     "output_type": "stream",
     "text": [
      "(75, 6)\n",
      "(236, 39) (91140, 9) (75, 6)\n"
     ]
    },
    {
     "name": "stderr",
     "output_type": "stream",
     "text": [
      "C:\\Users\\camil\\Anaconda3\\lib\\site-packages\\sklearn\\metrics\\_classification.py:620: RuntimeWarning: invalid value encountered in true_divide\n",
      "  k = np.sum(w_mat * confusion) / np.sum(w_mat * expected)\n"
     ]
    },
    {
     "name": "stdout",
     "output_type": "stream",
     "text": [
      "(75, 6)\n",
      "(331, 39) (91800, 9) (75, 6)\n"
     ]
    },
    {
     "name": "stderr",
     "output_type": "stream",
     "text": [
      "C:\\Users\\camil\\Anaconda3\\lib\\site-packages\\sklearn\\metrics\\_classification.py:620: RuntimeWarning: invalid value encountered in true_divide\n",
      "  k = np.sum(w_mat * confusion) / np.sum(w_mat * expected)\n",
      " 59%|█████████████████████████████████████████████▎                               | 83/141 [1:46:45<1:32:20, 95.52s/it]"
     ]
    },
    {
     "name": "stdout",
     "output_type": "stream",
     "text": [
      "(75, 6)\n",
      "(359, 39) (92760, 9) (75, 6)\n",
      "(75, 6)\n",
      "(284, 39) (100320, 9) (75, 6)\n"
     ]
    },
    {
     "name": "stderr",
     "output_type": "stream",
     "text": [
      "C:\\Users\\camil\\Anaconda3\\lib\\site-packages\\sklearn\\metrics\\_classification.py:620: RuntimeWarning: invalid value encountered in true_divide\n",
      "  k = np.sum(w_mat * confusion) / np.sum(w_mat * expected)\n",
      " 60%|█████████████████████████████████████████████▊                               | 84/141 [1:48:22<1:31:09, 95.96s/it]"
     ]
    },
    {
     "name": "stdout",
     "output_type": "stream",
     "text": [
      "(75, 6)\n",
      "(270, 39) (87720, 9) (75, 6)\n"
     ]
    },
    {
     "name": "stderr",
     "output_type": "stream",
     "text": [
      "C:\\Users\\camil\\Anaconda3\\lib\\site-packages\\sklearn\\metrics\\_classification.py:620: RuntimeWarning: invalid value encountered in true_divide\n",
      "  k = np.sum(w_mat * confusion) / np.sum(w_mat * expected)\n"
     ]
    },
    {
     "name": "stdout",
     "output_type": "stream",
     "text": [
      "(75, 6)\n",
      "(256, 39) (96000, 9) (75, 6)\n"
     ]
    },
    {
     "name": "stderr",
     "output_type": "stream",
     "text": [
      "\r",
      " 60%|█████████████████████████████████████████████▊                              | 85/141 [1:50:22<1:36:21, 103.24s/it]"
     ]
    },
    {
     "name": "stdout",
     "output_type": "stream",
     "text": [
      "(75, 6)\n",
      "(349, 39) (94320, 9) (75, 6)\n"
     ]
    },
    {
     "name": "stderr",
     "output_type": "stream",
     "text": [
      "C:\\Users\\camil\\Anaconda3\\lib\\site-packages\\sklearn\\metrics\\_classification.py:620: RuntimeWarning: invalid value encountered in true_divide\n",
      "  k = np.sum(w_mat * confusion) / np.sum(w_mat * expected)\n"
     ]
    },
    {
     "name": "stdout",
     "output_type": "stream",
     "text": [
      "(75, 6)\n",
      "(265, 39) (91680, 9) (75, 6)\n"
     ]
    },
    {
     "name": "stderr",
     "output_type": "stream",
     "text": [
      "C:\\Users\\camil\\Anaconda3\\lib\\site-packages\\sklearn\\metrics\\_classification.py:620: RuntimeWarning: invalid value encountered in true_divide\n",
      "  k = np.sum(w_mat * confusion) / np.sum(w_mat * expected)\n",
      " 61%|██████████████████████████████████████████████▎                             | 86/141 [1:52:15<1:37:29, 106.36s/it]"
     ]
    },
    {
     "name": "stdout",
     "output_type": "stream",
     "text": [
      "(75, 6)\n",
      "(348, 39) (89040, 9) (75, 6)\n"
     ]
    },
    {
     "name": "stderr",
     "output_type": "stream",
     "text": [
      "C:\\Users\\camil\\Anaconda3\\lib\\site-packages\\sklearn\\metrics\\_classification.py:620: RuntimeWarning: invalid value encountered in true_divide\n",
      "  k = np.sum(w_mat * confusion) / np.sum(w_mat * expected)\n"
     ]
    },
    {
     "name": "stdout",
     "output_type": "stream",
     "text": [
      "(75, 6)\n",
      "(302, 39) (91860, 9) (75, 6)\n"
     ]
    },
    {
     "name": "stderr",
     "output_type": "stream",
     "text": [
      "C:\\Users\\camil\\Anaconda3\\lib\\site-packages\\sklearn\\metrics\\_classification.py:620: RuntimeWarning: invalid value encountered in true_divide\n",
      "  k = np.sum(w_mat * confusion) / np.sum(w_mat * expected)\n",
      " 62%|██████████████████████████████████████████████▉                             | 87/141 [1:53:51<1:32:56, 103.27s/it]"
     ]
    },
    {
     "name": "stdout",
     "output_type": "stream",
     "text": [
      "(75, 6)\n",
      "(277, 39) (94440, 9) (75, 6)\n",
      "(75, 6)\n",
      "(346, 39) (84240, 9) (75, 6)\n"
     ]
    },
    {
     "name": "stderr",
     "output_type": "stream",
     "text": [
      "C:\\Users\\camil\\Anaconda3\\lib\\site-packages\\sklearn\\metrics\\_classification.py:620: RuntimeWarning: invalid value encountered in true_divide\n",
      "  k = np.sum(w_mat * confusion) / np.sum(w_mat * expected)\n",
      " 62%|████████████████████████████████████████████████                             | 88/141 [1:55:21<1:27:33, 99.12s/it]"
     ]
    },
    {
     "name": "stdout",
     "output_type": "stream",
     "text": [
      "(75, 6)\n",
      "(369, 39) (92280, 9) (75, 6)\n",
      "(75, 6)\n",
      "(267, 39) (91020, 9) (75, 6)\n"
     ]
    },
    {
     "name": "stderr",
     "output_type": "stream",
     "text": [
      "C:\\Users\\camil\\Anaconda3\\lib\\site-packages\\sklearn\\metrics\\_classification.py:620: RuntimeWarning: invalid value encountered in true_divide\n",
      "  k = np.sum(w_mat * confusion) / np.sum(w_mat * expected)\n",
      " 63%|███████████████████████████████████████████████▉                            | 89/141 [1:57:27<1:32:49, 107.10s/it]"
     ]
    },
    {
     "name": "stdout",
     "output_type": "stream",
     "text": [
      "(75, 6)\n",
      "(314, 39) (97920, 9) (75, 6)\n"
     ]
    },
    {
     "name": "stderr",
     "output_type": "stream",
     "text": [
      "C:\\Users\\camil\\Anaconda3\\lib\\site-packages\\sklearn\\metrics\\_classification.py:620: RuntimeWarning: invalid value encountered in true_divide\n",
      "  k = np.sum(w_mat * confusion) / np.sum(w_mat * expected)\n"
     ]
    },
    {
     "name": "stdout",
     "output_type": "stream",
     "text": [
      "(75, 6)\n",
      "(349, 39) (88500, 9) (75, 6)\n"
     ]
    },
    {
     "name": "stderr",
     "output_type": "stream",
     "text": [
      "C:\\Users\\camil\\Anaconda3\\lib\\site-packages\\sklearn\\metrics\\_classification.py:620: RuntimeWarning: invalid value encountered in true_divide\n",
      "  k = np.sum(w_mat * confusion) / np.sum(w_mat * expected)\n",
      " 64%|████████████████████████████████████████████████▌                           | 90/141 [1:59:42<1:38:07, 115.43s/it]"
     ]
    },
    {
     "name": "stdout",
     "output_type": "stream",
     "text": [
      "(80, 6)\n",
      "(258, 39) (101820, 9) (80, 6)\n"
     ]
    },
    {
     "name": "stderr",
     "output_type": "stream",
     "text": [
      "C:\\Users\\camil\\Anaconda3\\lib\\site-packages\\sklearn\\metrics\\_classification.py:620: RuntimeWarning: invalid value encountered in true_divide\n",
      "  k = np.sum(w_mat * confusion) / np.sum(w_mat * expected)\n"
     ]
    },
    {
     "name": "stdout",
     "output_type": "stream",
     "text": [
      "(80, 6)\n",
      "(326, 39) (97080, 9) (80, 6)\n"
     ]
    },
    {
     "name": "stderr",
     "output_type": "stream",
     "text": [
      "C:\\Users\\camil\\Anaconda3\\lib\\site-packages\\sklearn\\metrics\\_classification.py:620: RuntimeWarning: invalid value encountered in true_divide\n",
      "  k = np.sum(w_mat * confusion) / np.sum(w_mat * expected)\n",
      " 65%|█████████████████████████████████████████████████                           | 91/141 [2:01:56<1:40:55, 121.10s/it]"
     ]
    },
    {
     "name": "stdout",
     "output_type": "stream",
     "text": [
      "(80, 6)\n",
      "(326, 39) (102960, 9) (80, 6)\n",
      "(80, 6)\n",
      "(375, 39) (103680, 9) (80, 6)\n"
     ]
    },
    {
     "name": "stderr",
     "output_type": "stream",
     "text": [
      "C:\\Users\\camil\\Anaconda3\\lib\\site-packages\\sklearn\\metrics\\_classification.py:620: RuntimeWarning: invalid value encountered in true_divide\n",
      "  k = np.sum(w_mat * confusion) / np.sum(w_mat * expected)\n",
      " 65%|█████████████████████████████████████████████████▌                          | 92/141 [2:04:13<1:42:53, 125.99s/it]"
     ]
    },
    {
     "name": "stdout",
     "output_type": "stream",
     "text": [
      "(80, 6)\n",
      "(374, 39) (90960, 9) (80, 6)\n"
     ]
    },
    {
     "name": "stderr",
     "output_type": "stream",
     "text": [
      "C:\\Users\\camil\\Anaconda3\\lib\\site-packages\\sklearn\\metrics\\_classification.py:620: RuntimeWarning: invalid value encountered in true_divide\n",
      "  k = np.sum(w_mat * confusion) / np.sum(w_mat * expected)\n"
     ]
    },
    {
     "name": "stdout",
     "output_type": "stream",
     "text": [
      "(80, 6)\n",
      "(335, 39) (97560, 9) (80, 6)\n"
     ]
    },
    {
     "name": "stderr",
     "output_type": "stream",
     "text": [
      "\r",
      " 66%|██████████████████████████████████████████████████▏                         | 93/141 [2:05:59<1:35:53, 119.87s/it]"
     ]
    },
    {
     "name": "stdout",
     "output_type": "stream",
     "text": [
      "(80, 6)\n",
      "(315, 39) (98100, 9) (80, 6)\n"
     ]
    },
    {
     "name": "stderr",
     "output_type": "stream",
     "text": [
      "C:\\Users\\camil\\Anaconda3\\lib\\site-packages\\sklearn\\metrics\\_classification.py:620: RuntimeWarning: invalid value encountered in true_divide\n",
      "  k = np.sum(w_mat * confusion) / np.sum(w_mat * expected)\n"
     ]
    },
    {
     "name": "stdout",
     "output_type": "stream",
     "text": [
      "(80, 6)\n",
      "(320, 39) (106860, 9) (80, 6)\n"
     ]
    },
    {
     "name": "stderr",
     "output_type": "stream",
     "text": [
      "C:\\Users\\camil\\Anaconda3\\lib\\site-packages\\sklearn\\metrics\\_classification.py:620: RuntimeWarning: invalid value encountered in true_divide\n",
      "  k = np.sum(w_mat * confusion) / np.sum(w_mat * expected)\n",
      " 67%|██████████████████████████████████████████████████▋                         | 94/141 [2:07:40<1:29:23, 114.12s/it]"
     ]
    },
    {
     "name": "stdout",
     "output_type": "stream",
     "text": [
      "(80, 6)\n",
      "(389, 39) (101460, 9) (80, 6)\n"
     ]
    },
    {
     "name": "stderr",
     "output_type": "stream",
     "text": [
      "C:\\Users\\camil\\Anaconda3\\lib\\site-packages\\sklearn\\metrics\\_classification.py:620: RuntimeWarning: invalid value encountered in true_divide\n",
      "  k = np.sum(w_mat * confusion) / np.sum(w_mat * expected)\n"
     ]
    },
    {
     "name": "stdout",
     "output_type": "stream",
     "text": [
      "(80, 6)\n",
      "(324, 39) (94620, 9) (80, 6)\n"
     ]
    },
    {
     "name": "stderr",
     "output_type": "stream",
     "text": [
      "C:\\Users\\camil\\Anaconda3\\lib\\site-packages\\sklearn\\metrics\\_classification.py:620: RuntimeWarning: invalid value encountered in true_divide\n",
      "  k = np.sum(w_mat * confusion) / np.sum(w_mat * expected)\n",
      " 67%|███████████████████████████████████████████████████▏                        | 95/141 [2:09:33<1:27:13, 113.77s/it]"
     ]
    },
    {
     "name": "stdout",
     "output_type": "stream",
     "text": [
      "(80, 6)\n",
      "(284, 39) (90600, 9) (80, 6)\n"
     ]
    },
    {
     "name": "stderr",
     "output_type": "stream",
     "text": [
      "C:\\Users\\camil\\Anaconda3\\lib\\site-packages\\sklearn\\metrics\\_classification.py:620: RuntimeWarning: invalid value encountered in true_divide\n",
      "  k = np.sum(w_mat * confusion) / np.sum(w_mat * expected)\n"
     ]
    },
    {
     "name": "stdout",
     "output_type": "stream",
     "text": [
      "(80, 6)\n",
      "(331, 39) (106260, 9) (80, 6)\n"
     ]
    },
    {
     "name": "stderr",
     "output_type": "stream",
     "text": [
      "C:\\Users\\camil\\Anaconda3\\lib\\site-packages\\sklearn\\metrics\\_classification.py:620: RuntimeWarning: invalid value encountered in true_divide\n",
      "  k = np.sum(w_mat * confusion) / np.sum(w_mat * expected)\n",
      " 68%|███████████████████████████████████████████████████▋                        | 96/141 [2:11:25<1:25:01, 113.37s/it]"
     ]
    },
    {
     "name": "stdout",
     "output_type": "stream",
     "text": [
      "(80, 6)\n",
      "(268, 39) (96420, 9) (80, 6)\n"
     ]
    },
    {
     "name": "stderr",
     "output_type": "stream",
     "text": [
      "C:\\Users\\camil\\Anaconda3\\lib\\site-packages\\sklearn\\metrics\\_classification.py:620: RuntimeWarning: invalid value encountered in true_divide\n",
      "  k = np.sum(w_mat * confusion) / np.sum(w_mat * expected)\n"
     ]
    },
    {
     "name": "stdout",
     "output_type": "stream",
     "text": [
      "(80, 6)\n",
      "(397, 39) (97020, 9) (80, 6)\n"
     ]
    },
    {
     "name": "stderr",
     "output_type": "stream",
     "text": [
      "\r",
      " 69%|████████████████████████████████████████████████████▎                       | 97/141 [2:13:06<1:20:19, 109.54s/it]"
     ]
    },
    {
     "name": "stdout",
     "output_type": "stream",
     "text": [
      "(80, 6)\n",
      "(259, 39) (99660, 9) (80, 6)\n"
     ]
    },
    {
     "name": "stderr",
     "output_type": "stream",
     "text": [
      "C:\\Users\\camil\\Anaconda3\\lib\\site-packages\\sklearn\\metrics\\_classification.py:620: RuntimeWarning: invalid value encountered in true_divide\n",
      "  k = np.sum(w_mat * confusion) / np.sum(w_mat * expected)\n"
     ]
    },
    {
     "name": "stdout",
     "output_type": "stream",
     "text": [
      "(80, 6)\n",
      "(403, 39) (102060, 9) (80, 6)\n"
     ]
    },
    {
     "name": "stderr",
     "output_type": "stream",
     "text": [
      "C:\\Users\\camil\\Anaconda3\\lib\\site-packages\\sklearn\\metrics\\_classification.py:620: RuntimeWarning: invalid value encountered in true_divide\n",
      "  k = np.sum(w_mat * confusion) / np.sum(w_mat * expected)\n",
      " 70%|████████████████████████████████████████████████████▊                       | 98/141 [2:14:53<1:18:06, 108.99s/it]"
     ]
    },
    {
     "name": "stdout",
     "output_type": "stream",
     "text": [
      "(80, 6)\n",
      "(357, 39) (97440, 9) (80, 6)\n"
     ]
    },
    {
     "name": "stderr",
     "output_type": "stream",
     "text": [
      "C:\\Users\\camil\\Anaconda3\\lib\\site-packages\\sklearn\\metrics\\_classification.py:620: RuntimeWarning: invalid value encountered in true_divide\n",
      "  k = np.sum(w_mat * confusion) / np.sum(w_mat * expected)\n"
     ]
    },
    {
     "name": "stdout",
     "output_type": "stream",
     "text": [
      "(80, 6)\n",
      "(263, 39) (93600, 9) (80, 6)\n"
     ]
    },
    {
     "name": "stderr",
     "output_type": "stream",
     "text": [
      "\r",
      " 70%|█████████████████████████████████████████████████████▎                      | 99/141 [2:16:59<1:19:53, 114.14s/it]"
     ]
    },
    {
     "name": "stdout",
     "output_type": "stream",
     "text": [
      "(80, 6)\n",
      "(341, 39) (100740, 9) (80, 6)\n"
     ]
    },
    {
     "name": "stderr",
     "output_type": "stream",
     "text": [
      "C:\\Users\\camil\\Anaconda3\\lib\\site-packages\\sklearn\\metrics\\_classification.py:620: RuntimeWarning: invalid value encountered in true_divide\n",
      "  k = np.sum(w_mat * confusion) / np.sum(w_mat * expected)\n"
     ]
    },
    {
     "name": "stdout",
     "output_type": "stream",
     "text": [
      "(80, 6)\n",
      "(336, 39) (100200, 9) (80, 6)\n"
     ]
    },
    {
     "name": "stderr",
     "output_type": "stream",
     "text": [
      "C:\\Users\\camil\\Anaconda3\\lib\\site-packages\\sklearn\\metrics\\_classification.py:620: RuntimeWarning: invalid value encountered in true_divide\n",
      "  k = np.sum(w_mat * confusion) / np.sum(w_mat * expected)\n",
      " 71%|█████████████████████████████████████████████████████▏                     | 100/141 [2:19:01<1:19:28, 116.31s/it]"
     ]
    },
    {
     "name": "stdout",
     "output_type": "stream",
     "text": [
      "(85, 6)\n",
      "(351, 39) (95580, 9) (85, 6)\n"
     ]
    },
    {
     "name": "stderr",
     "output_type": "stream",
     "text": [
      "C:\\Users\\camil\\Anaconda3\\lib\\site-packages\\sklearn\\metrics\\_classification.py:620: RuntimeWarning: invalid value encountered in true_divide\n",
      "  k = np.sum(w_mat * confusion) / np.sum(w_mat * expected)\n"
     ]
    },
    {
     "name": "stdout",
     "output_type": "stream",
     "text": [
      "(85, 6)\n",
      "(389, 39) (112620, 9) (85, 6)\n"
     ]
    },
    {
     "name": "stderr",
     "output_type": "stream",
     "text": [
      "\r",
      " 72%|█████████████████████████████████████████████████████▋                     | 101/141 [2:21:15<1:21:05, 121.64s/it]"
     ]
    },
    {
     "name": "stdout",
     "output_type": "stream",
     "text": [
      "(85, 6)\n",
      "(322, 39) (97320, 9) (85, 6)\n",
      "(85, 6)\n",
      "(329, 39) (107100, 9) (85, 6)\n"
     ]
    },
    {
     "name": "stderr",
     "output_type": "stream",
     "text": [
      "C:\\Users\\camil\\Anaconda3\\lib\\site-packages\\sklearn\\metrics\\_classification.py:620: RuntimeWarning: invalid value encountered in true_divide\n",
      "  k = np.sum(w_mat * confusion) / np.sum(w_mat * expected)\n",
      " 72%|██████████████████████████████████████████████████████▎                    | 102/141 [2:23:14<1:18:36, 120.92s/it]"
     ]
    },
    {
     "name": "stdout",
     "output_type": "stream",
     "text": [
      "(85, 6)\n",
      "(376, 39) (101760, 9) (85, 6)\n",
      "(85, 6)\n",
      "(331, 39) (107640, 9) (85, 6)\n"
     ]
    },
    {
     "name": "stderr",
     "output_type": "stream",
     "text": [
      "C:\\Users\\camil\\Anaconda3\\lib\\site-packages\\sklearn\\metrics\\_classification.py:620: RuntimeWarning: invalid value encountered in true_divide\n",
      "  k = np.sum(w_mat * confusion) / np.sum(w_mat * expected)\n",
      " 73%|██████████████████████████████████████████████████████▊                    | 103/141 [2:25:15<1:16:39, 121.05s/it]"
     ]
    },
    {
     "name": "stdout",
     "output_type": "stream",
     "text": [
      "(85, 6)\n",
      "(377, 39) (110940, 9) (85, 6)\n"
     ]
    },
    {
     "name": "stderr",
     "output_type": "stream",
     "text": [
      "C:\\Users\\camil\\Anaconda3\\lib\\site-packages\\sklearn\\metrics\\_classification.py:620: RuntimeWarning: invalid value encountered in true_divide\n",
      "  k = np.sum(w_mat * confusion) / np.sum(w_mat * expected)\n"
     ]
    },
    {
     "name": "stdout",
     "output_type": "stream",
     "text": [
      "(85, 6)\n",
      "(362, 39) (95460, 9) (85, 6)\n"
     ]
    },
    {
     "name": "stderr",
     "output_type": "stream",
     "text": [
      "C:\\Users\\camil\\Anaconda3\\lib\\site-packages\\sklearn\\metrics\\_classification.py:620: RuntimeWarning: invalid value encountered in true_divide\n",
      "  k = np.sum(w_mat * confusion) / np.sum(w_mat * expected)\n",
      " 74%|███████████████████████████████████████████████████████▎                   | 104/141 [2:27:09<1:13:10, 118.66s/it]"
     ]
    },
    {
     "name": "stdout",
     "output_type": "stream",
     "text": [
      "(85, 6)\n",
      "(389, 39) (105660, 9) (85, 6)\n"
     ]
    },
    {
     "name": "stderr",
     "output_type": "stream",
     "text": [
      "C:\\Users\\camil\\Anaconda3\\lib\\site-packages\\sklearn\\metrics\\_classification.py:620: RuntimeWarning: invalid value encountered in true_divide\n",
      "  k = np.sum(w_mat * confusion) / np.sum(w_mat * expected)\n"
     ]
    },
    {
     "name": "stdout",
     "output_type": "stream",
     "text": [
      "(85, 6)\n",
      "(363, 39) (104820, 9) (85, 6)\n"
     ]
    },
    {
     "name": "stderr",
     "output_type": "stream",
     "text": [
      "\r",
      " 74%|███████████████████████████████████████████████████████▊                   | 105/141 [2:29:03<1:10:24, 117.35s/it]"
     ]
    },
    {
     "name": "stdout",
     "output_type": "stream",
     "text": [
      "(85, 6)\n",
      "(387, 39) (113340, 9) (85, 6)\n"
     ]
    },
    {
     "name": "stderr",
     "output_type": "stream",
     "text": [
      "C:\\Users\\camil\\Anaconda3\\lib\\site-packages\\sklearn\\metrics\\_classification.py:620: RuntimeWarning: invalid value encountered in true_divide\n",
      "  k = np.sum(w_mat * confusion) / np.sum(w_mat * expected)\n"
     ]
    },
    {
     "name": "stdout",
     "output_type": "stream",
     "text": [
      "(85, 6)\n",
      "(308, 39) (97320, 9) (85, 6)\n"
     ]
    },
    {
     "name": "stderr",
     "output_type": "stream",
     "text": [
      "\r",
      " 75%|████████████████████████████████████████████████████████▍                  | 106/141 [2:30:50<1:06:42, 114.37s/it]"
     ]
    },
    {
     "name": "stdout",
     "output_type": "stream",
     "text": [
      "(85, 6)\n",
      "(365, 39) (111600, 9) (85, 6)\n"
     ]
    },
    {
     "name": "stderr",
     "output_type": "stream",
     "text": [
      "C:\\Users\\camil\\Anaconda3\\lib\\site-packages\\sklearn\\metrics\\_classification.py:620: RuntimeWarning: invalid value encountered in true_divide\n",
      "  k = np.sum(w_mat * confusion) / np.sum(w_mat * expected)\n"
     ]
    },
    {
     "name": "stdout",
     "output_type": "stream",
     "text": [
      "(85, 6)\n",
      "(370, 39) (100860, 9) (85, 6)\n"
     ]
    },
    {
     "name": "stderr",
     "output_type": "stream",
     "text": [
      "C:\\Users\\camil\\Anaconda3\\lib\\site-packages\\sklearn\\metrics\\_classification.py:620: RuntimeWarning: invalid value encountered in true_divide\n",
      "  k = np.sum(w_mat * confusion) / np.sum(w_mat * expected)\n",
      " 76%|████████████████████████████████████████████████████████▉                  | 107/141 [2:32:37<1:03:33, 112.16s/it]"
     ]
    },
    {
     "name": "stdout",
     "output_type": "stream",
     "text": [
      "(85, 6)\n",
      "(402, 39) (107520, 9) (85, 6)\n"
     ]
    },
    {
     "name": "stderr",
     "output_type": "stream",
     "text": [
      "C:\\Users\\camil\\Anaconda3\\lib\\site-packages\\sklearn\\metrics\\_classification.py:620: RuntimeWarning: invalid value encountered in true_divide\n",
      "  k = np.sum(w_mat * confusion) / np.sum(w_mat * expected)\n"
     ]
    },
    {
     "name": "stdout",
     "output_type": "stream",
     "text": [
      "(85, 6)\n",
      "(341, 39) (104760, 9) (85, 6)\n"
     ]
    },
    {
     "name": "stderr",
     "output_type": "stream",
     "text": [
      "C:\\Users\\camil\\Anaconda3\\lib\\site-packages\\sklearn\\metrics\\_classification.py:620: RuntimeWarning: invalid value encountered in true_divide\n",
      "  k = np.sum(w_mat * confusion) / np.sum(w_mat * expected)\n",
      " 77%|█████████████████████████████████████████████████████████▍                 | 108/141 [2:34:48<1:04:46, 117.76s/it]"
     ]
    },
    {
     "name": "stdout",
     "output_type": "stream",
     "text": [
      "(85, 6)\n",
      "(376, 39) (102540, 9) (85, 6)\n"
     ]
    },
    {
     "name": "stderr",
     "output_type": "stream",
     "text": [
      "C:\\Users\\camil\\Anaconda3\\lib\\site-packages\\sklearn\\metrics\\_classification.py:620: RuntimeWarning: invalid value encountered in true_divide\n",
      "  k = np.sum(w_mat * confusion) / np.sum(w_mat * expected)\n"
     ]
    },
    {
     "name": "stdout",
     "output_type": "stream",
     "text": [
      "(85, 6)\n",
      "(302, 39) (103860, 9) (85, 6)\n"
     ]
    },
    {
     "name": "stderr",
     "output_type": "stream",
     "text": [
      "C:\\Users\\camil\\Anaconda3\\lib\\site-packages\\sklearn\\metrics\\_classification.py:620: RuntimeWarning: invalid value encountered in true_divide\n",
      "  k = np.sum(w_mat * confusion) / np.sum(w_mat * expected)\n",
      " 77%|█████████████████████████████████████████████████████████▉                 | 109/141 [2:36:37<1:01:20, 115.01s/it]"
     ]
    },
    {
     "name": "stdout",
     "output_type": "stream",
     "text": [
      "(85, 6)\n",
      "(358, 39) (103680, 9) (85, 6)\n",
      "(85, 6)\n",
      "(373, 39) (106080, 9) (85, 6)\n"
     ]
    },
    {
     "name": "stderr",
     "output_type": "stream",
     "text": [
      "C:\\Users\\camil\\Anaconda3\\lib\\site-packages\\sklearn\\metrics\\_classification.py:620: RuntimeWarning: invalid value encountered in true_divide\n",
      "  k = np.sum(w_mat * confusion) / np.sum(w_mat * expected)\n",
      "C:\\Users\\camil\\Anaconda3\\lib\\site-packages\\pingouin\\parametric.py:978: RuntimeWarning: divide by zero encountered in double_scalars\n",
      "  fval = msbetween / mserror\n",
      " 78%|████████████████████████████████████████████████████████████                 | 110/141 [2:38:23<58:01, 112.32s/it]"
     ]
    },
    {
     "name": "stdout",
     "output_type": "stream",
     "text": [
      "(90, 6)\n",
      "(316, 39) (105600, 9) (90, 6)\n"
     ]
    },
    {
     "name": "stderr",
     "output_type": "stream",
     "text": [
      "C:\\Users\\camil\\Anaconda3\\lib\\site-packages\\sklearn\\metrics\\_classification.py:620: RuntimeWarning: invalid value encountered in true_divide\n",
      "  k = np.sum(w_mat * confusion) / np.sum(w_mat * expected)\n"
     ]
    },
    {
     "name": "stdout",
     "output_type": "stream",
     "text": [
      "(90, 6)\n",
      "(457, 39) (117360, 9) (90, 6)\n"
     ]
    },
    {
     "name": "stderr",
     "output_type": "stream",
     "text": [
      "\r",
      " 79%|███████████████████████████████████████████████████████████                | 111/141 [2:40:55<1:02:08, 124.28s/it]"
     ]
    },
    {
     "name": "stdout",
     "output_type": "stream",
     "text": [
      "(90, 6)\n",
      "(360, 39) (113160, 9) (90, 6)\n"
     ]
    },
    {
     "name": "stderr",
     "output_type": "stream",
     "text": [
      "C:\\Users\\camil\\Anaconda3\\lib\\site-packages\\sklearn\\metrics\\_classification.py:620: RuntimeWarning: invalid value encountered in true_divide\n",
      "  k = np.sum(w_mat * confusion) / np.sum(w_mat * expected)\n",
      "C:\\Users\\camil\\Anaconda3\\lib\\site-packages\\pingouin\\parametric.py:978: RuntimeWarning: divide by zero encountered in double_scalars\n",
      "  fval = msbetween / mserror\n"
     ]
    },
    {
     "name": "stdout",
     "output_type": "stream",
     "text": [
      "(90, 6)\n",
      "(327, 39) (102360, 9) (90, 6)\n"
     ]
    },
    {
     "name": "stderr",
     "output_type": "stream",
     "text": [
      "C:\\Users\\camil\\Anaconda3\\lib\\site-packages\\sklearn\\metrics\\_classification.py:620: RuntimeWarning: invalid value encountered in true_divide\n",
      "  k = np.sum(w_mat * confusion) / np.sum(w_mat * expected)\n",
      " 79%|█████████████████████████████████████████████████████████████▏               | 112/141 [2:42:50<58:45, 121.58s/it]"
     ]
    },
    {
     "name": "stdout",
     "output_type": "stream",
     "text": [
      "(90, 6)\n",
      "(416, 39) (110040, 9) (90, 6)\n",
      "(90, 6)\n",
      "(332, 39) (112560, 9) (90, 6)\n"
     ]
    },
    {
     "name": "stderr",
     "output_type": "stream",
     "text": [
      "C:\\Users\\camil\\Anaconda3\\lib\\site-packages\\sklearn\\metrics\\_classification.py:620: RuntimeWarning: invalid value encountered in true_divide\n",
      "  k = np.sum(w_mat * confusion) / np.sum(w_mat * expected)\n",
      " 80%|█████████████████████████████████████████████████████████████▋               | 113/141 [2:45:14<59:48, 128.16s/it]"
     ]
    },
    {
     "name": "stdout",
     "output_type": "stream",
     "text": [
      "(90, 6)\n",
      "(419, 39) (111480, 9) (90, 6)\n"
     ]
    },
    {
     "name": "stderr",
     "output_type": "stream",
     "text": [
      "C:\\Users\\camil\\Anaconda3\\lib\\site-packages\\sklearn\\metrics\\_classification.py:620: RuntimeWarning: invalid value encountered in true_divide\n",
      "  k = np.sum(w_mat * confusion) / np.sum(w_mat * expected)\n"
     ]
    },
    {
     "name": "stdout",
     "output_type": "stream",
     "text": [
      "(90, 6)\n",
      "(339, 39) (102780, 9) (90, 6)\n"
     ]
    },
    {
     "name": "stderr",
     "output_type": "stream",
     "text": [
      "C:\\Users\\camil\\Anaconda3\\lib\\site-packages\\sklearn\\metrics\\_classification.py:620: RuntimeWarning: invalid value encountered in true_divide\n",
      "  k = np.sum(w_mat * confusion) / np.sum(w_mat * expected)\n",
      " 81%|██████████████████████████████████████████████████████████████▎              | 114/141 [2:47:06<55:31, 123.40s/it]"
     ]
    },
    {
     "name": "stdout",
     "output_type": "stream",
     "text": [
      "(90, 6)\n",
      "(391, 39) (111720, 9) (90, 6)\n",
      "(90, 6)\n",
      "(342, 39) (109980, 9) (90, 6)\n"
     ]
    },
    {
     "name": "stderr",
     "output_type": "stream",
     "text": [
      "C:\\Users\\camil\\Anaconda3\\lib\\site-packages\\sklearn\\metrics\\_classification.py:620: RuntimeWarning: invalid value encountered in true_divide\n",
      "  k = np.sum(w_mat * confusion) / np.sum(w_mat * expected)\n",
      " 82%|██████████████████████████████████████████████████████████████▊              | 115/141 [2:48:59<52:09, 120.36s/it]"
     ]
    },
    {
     "name": "stdout",
     "output_type": "stream",
     "text": [
      "(90, 6)\n",
      "(372, 39) (109920, 9) (90, 6)\n"
     ]
    },
    {
     "name": "stderr",
     "output_type": "stream",
     "text": [
      "C:\\Users\\camil\\Anaconda3\\lib\\site-packages\\sklearn\\metrics\\_classification.py:620: RuntimeWarning: invalid value encountered in true_divide\n",
      "  k = np.sum(w_mat * confusion) / np.sum(w_mat * expected)\n"
     ]
    },
    {
     "name": "stdout",
     "output_type": "stream",
     "text": [
      "(90, 6)\n",
      "(406, 39) (108300, 9) (90, 6)\n"
     ]
    },
    {
     "name": "stderr",
     "output_type": "stream",
     "text": [
      "\r",
      " 82%|███████████████████████████████████████████████████████████████▎             | 116/141 [2:50:53<49:20, 118.40s/it]"
     ]
    },
    {
     "name": "stdout",
     "output_type": "stream",
     "text": [
      "(90, 6)\n",
      "(339, 39) (107220, 9) (90, 6)\n"
     ]
    },
    {
     "name": "stderr",
     "output_type": "stream",
     "text": [
      "C:\\Users\\camil\\Anaconda3\\lib\\site-packages\\sklearn\\metrics\\_classification.py:620: RuntimeWarning: invalid value encountered in true_divide\n",
      "  k = np.sum(w_mat * confusion) / np.sum(w_mat * expected)\n"
     ]
    },
    {
     "name": "stdout",
     "output_type": "stream",
     "text": [
      "(90, 6)\n",
      "(353, 39) (112140, 9) (90, 6)\n"
     ]
    },
    {
     "name": "stderr",
     "output_type": "stream",
     "text": [
      "\r",
      " 83%|███████████████████████████████████████████████████████████████▉             | 117/141 [2:53:01<48:32, 121.36s/it]"
     ]
    },
    {
     "name": "stdout",
     "output_type": "stream",
     "text": [
      "(90, 6)\n",
      "(307, 39) (112380, 9) (90, 6)\n"
     ]
    },
    {
     "name": "stderr",
     "output_type": "stream",
     "text": [
      "C:\\Users\\camil\\Anaconda3\\lib\\site-packages\\sklearn\\metrics\\_classification.py:620: RuntimeWarning: invalid value encountered in true_divide\n",
      "  k = np.sum(w_mat * confusion) / np.sum(w_mat * expected)\n"
     ]
    },
    {
     "name": "stdout",
     "output_type": "stream",
     "text": [
      "(90, 6)\n",
      "(434, 39) (111120, 9) (90, 6)\n"
     ]
    },
    {
     "name": "stderr",
     "output_type": "stream",
     "text": [
      "C:\\Users\\camil\\Anaconda3\\lib\\site-packages\\sklearn\\metrics\\_classification.py:620: RuntimeWarning: invalid value encountered in true_divide\n",
      "  k = np.sum(w_mat * confusion) / np.sum(w_mat * expected)\n",
      " 84%|████████████████████████████████████████████████████████████████▍            | 118/141 [2:54:57<45:54, 119.76s/it]"
     ]
    },
    {
     "name": "stdout",
     "output_type": "stream",
     "text": [
      "(90, 6)\n",
      "(403, 39) (104100, 9) (90, 6)\n"
     ]
    },
    {
     "name": "stderr",
     "output_type": "stream",
     "text": [
      "C:\\Users\\camil\\Anaconda3\\lib\\site-packages\\sklearn\\metrics\\_classification.py:620: RuntimeWarning: invalid value encountered in true_divide\n",
      "  k = np.sum(w_mat * confusion) / np.sum(w_mat * expected)\n"
     ]
    },
    {
     "name": "stdout",
     "output_type": "stream",
     "text": [
      "(90, 6)\n",
      "(360, 39) (113160, 9) (90, 6)\n"
     ]
    },
    {
     "name": "stderr",
     "output_type": "stream",
     "text": [
      "C:\\Users\\camil\\Anaconda3\\lib\\site-packages\\sklearn\\metrics\\_classification.py:620: RuntimeWarning: invalid value encountered in true_divide\n",
      "  k = np.sum(w_mat * confusion) / np.sum(w_mat * expected)\n",
      " 84%|████████████████████████████████████████████████████████████████▉            | 119/141 [2:56:51<43:15, 117.98s/it]"
     ]
    },
    {
     "name": "stdout",
     "output_type": "stream",
     "text": [
      "(90, 6)\n",
      "(290, 39) (111300, 9) (90, 6)\n"
     ]
    },
    {
     "name": "stderr",
     "output_type": "stream",
     "text": [
      "C:\\Users\\camil\\Anaconda3\\lib\\site-packages\\sklearn\\metrics\\_classification.py:620: RuntimeWarning: invalid value encountered in true_divide\n",
      "  k = np.sum(w_mat * confusion) / np.sum(w_mat * expected)\n"
     ]
    },
    {
     "name": "stdout",
     "output_type": "stream",
     "text": [
      "(90, 6)\n",
      "(413, 39) (110040, 9) (90, 6)\n"
     ]
    },
    {
     "name": "stderr",
     "output_type": "stream",
     "text": [
      "\r",
      " 85%|█████████████████████████████████████████████████████████████████▌           | 120/141 [2:58:39<40:13, 114.94s/it]"
     ]
    },
    {
     "name": "stdout",
     "output_type": "stream",
     "text": [
      "(95, 6)\n",
      "(343, 39) (119520, 9) (95, 6)\n"
     ]
    },
    {
     "name": "stderr",
     "output_type": "stream",
     "text": [
      "C:\\Users\\camil\\Anaconda3\\lib\\site-packages\\sklearn\\metrics\\_classification.py:620: RuntimeWarning: invalid value encountered in true_divide\n",
      "  k = np.sum(w_mat * confusion) / np.sum(w_mat * expected)\n"
     ]
    },
    {
     "name": "stdout",
     "output_type": "stream",
     "text": [
      "(95, 6)\n",
      "(478, 39) (118260, 9) (95, 6)\n"
     ]
    },
    {
     "name": "stderr",
     "output_type": "stream",
     "text": [
      "\r",
      " 86%|██████████████████████████████████████████████████████████████████           | 121/141 [3:01:00<40:54, 122.70s/it]"
     ]
    },
    {
     "name": "stdout",
     "output_type": "stream",
     "text": [
      "(95, 6)\n",
      "(400, 39) (117780, 9) (95, 6)\n"
     ]
    },
    {
     "name": "stderr",
     "output_type": "stream",
     "text": [
      "C:\\Users\\camil\\Anaconda3\\lib\\site-packages\\sklearn\\metrics\\_classification.py:620: RuntimeWarning: invalid value encountered in true_divide\n",
      "  k = np.sum(w_mat * confusion) / np.sum(w_mat * expected)\n"
     ]
    },
    {
     "name": "stdout",
     "output_type": "stream",
     "text": [
      "(95, 6)\n",
      "(346, 39) (114540, 9) (95, 6)\n"
     ]
    },
    {
     "name": "stderr",
     "output_type": "stream",
     "text": [
      "\r",
      " 87%|██████████████████████████████████████████████████████████████████▌          | 122/141 [3:03:20<40:28, 127.79s/it]"
     ]
    },
    {
     "name": "stdout",
     "output_type": "stream",
     "text": [
      "(95, 6)\n",
      "(337, 39) (113280, 9) (95, 6)\n"
     ]
    },
    {
     "name": "stderr",
     "output_type": "stream",
     "text": [
      "C:\\Users\\camil\\Anaconda3\\lib\\site-packages\\sklearn\\metrics\\_classification.py:620: RuntimeWarning: invalid value encountered in true_divide\n",
      "  k = np.sum(w_mat * confusion) / np.sum(w_mat * expected)\n"
     ]
    },
    {
     "name": "stdout",
     "output_type": "stream",
     "text": [
      "(95, 6)\n",
      "(386, 39) (116160, 9) (95, 6)\n"
     ]
    },
    {
     "name": "stderr",
     "output_type": "stream",
     "text": [
      "\r",
      " 87%|███████████████████████████████████████████████████████████████████▏         | 123/141 [3:05:19<37:36, 125.33s/it]"
     ]
    },
    {
     "name": "stdout",
     "output_type": "stream",
     "text": [
      "(95, 6)\n",
      "(433, 39) (120360, 9) (95, 6)\n"
     ]
    },
    {
     "name": "stderr",
     "output_type": "stream",
     "text": [
      "C:\\Users\\camil\\Anaconda3\\lib\\site-packages\\sklearn\\metrics\\_classification.py:620: RuntimeWarning: invalid value encountered in true_divide\n",
      "  k = np.sum(w_mat * confusion) / np.sum(w_mat * expected)\n"
     ]
    },
    {
     "name": "stdout",
     "output_type": "stream",
     "text": [
      "(95, 6)\n",
      "(366, 39) (114720, 9) (95, 6)\n"
     ]
    },
    {
     "name": "stderr",
     "output_type": "stream",
     "text": [
      "\r",
      " 88%|███████████████████████████████████████████████████████████████████▋         | 124/141 [3:07:16<34:49, 122.94s/it]"
     ]
    },
    {
     "name": "stdout",
     "output_type": "stream",
     "text": [
      "(95, 6)\n",
      "(342, 39) (110640, 9) (95, 6)\n"
     ]
    },
    {
     "name": "stderr",
     "output_type": "stream",
     "text": [
      "C:\\Users\\camil\\Anaconda3\\lib\\site-packages\\sklearn\\metrics\\_classification.py:620: RuntimeWarning: invalid value encountered in true_divide\n",
      "  k = np.sum(w_mat * confusion) / np.sum(w_mat * expected)\n"
     ]
    },
    {
     "name": "stdout",
     "output_type": "stream",
     "text": [
      "(95, 6)\n",
      "(440, 39) (123120, 9) (95, 6)\n"
     ]
    },
    {
     "name": "stderr",
     "output_type": "stream",
     "text": [
      "C:\\Users\\camil\\Anaconda3\\lib\\site-packages\\sklearn\\metrics\\_classification.py:620: RuntimeWarning: invalid value encountered in true_divide\n",
      "  k = np.sum(w_mat * confusion) / np.sum(w_mat * expected)\n",
      " 89%|████████████████████████████████████████████████████████████████████▎        | 125/141 [3:09:21<32:52, 123.27s/it]"
     ]
    },
    {
     "name": "stdout",
     "output_type": "stream",
     "text": [
      "(95, 6)\n",
      "(377, 39) (109440, 9) (95, 6)\n",
      "(95, 6)\n",
      "(396, 39) (122280, 9) (95, 6)\n"
     ]
    },
    {
     "name": "stderr",
     "output_type": "stream",
     "text": [
      "C:\\Users\\camil\\Anaconda3\\lib\\site-packages\\sklearn\\metrics\\_classification.py:620: RuntimeWarning: invalid value encountered in true_divide\n",
      "  k = np.sum(w_mat * confusion) / np.sum(w_mat * expected)\n",
      " 89%|████████████████████████████████████████████████████████████████████▊        | 126/141 [3:11:25<30:54, 123.61s/it]"
     ]
    },
    {
     "name": "stdout",
     "output_type": "stream",
     "text": [
      "(95, 6)\n",
      "(433, 39) (116460, 9) (95, 6)\n",
      "(95, 6)\n",
      "(358, 39) (117720, 9) (95, 6)\n"
     ]
    },
    {
     "name": "stderr",
     "output_type": "stream",
     "text": [
      "C:\\Users\\camil\\Anaconda3\\lib\\site-packages\\sklearn\\metrics\\_classification.py:620: RuntimeWarning: invalid value encountered in true_divide\n",
      "  k = np.sum(w_mat * confusion) / np.sum(w_mat * expected)\n",
      " 90%|█████████████████████████████████████████████████████████████████████▎       | 127/141 [3:13:27<28:44, 123.17s/it]"
     ]
    },
    {
     "name": "stdout",
     "output_type": "stream",
     "text": [
      "(95, 6)\n",
      "(375, 39) (120540, 9) (95, 6)\n"
     ]
    },
    {
     "name": "stderr",
     "output_type": "stream",
     "text": [
      "C:\\Users\\camil\\Anaconda3\\lib\\site-packages\\sklearn\\metrics\\_classification.py:620: RuntimeWarning: invalid value encountered in true_divide\n",
      "  k = np.sum(w_mat * confusion) / np.sum(w_mat * expected)\n"
     ]
    },
    {
     "name": "stdout",
     "output_type": "stream",
     "text": [
      "(95, 6)\n",
      "(444, 39) (119940, 9) (95, 6)\n"
     ]
    },
    {
     "name": "stderr",
     "output_type": "stream",
     "text": [
      "\r",
      " 91%|█████████████████████████████████████████████████████████████████████▉       | 128/141 [3:15:48<27:48, 128.35s/it]"
     ]
    },
    {
     "name": "stdout",
     "output_type": "stream",
     "text": [
      "(95, 6)\n",
      "(495, 39) (127500, 9) (95, 6)\n"
     ]
    },
    {
     "name": "stderr",
     "output_type": "stream",
     "text": [
      "C:\\Users\\camil\\Anaconda3\\lib\\site-packages\\sklearn\\metrics\\_classification.py:620: RuntimeWarning: invalid value encountered in true_divide\n",
      "  k = np.sum(w_mat * confusion) / np.sum(w_mat * expected)\n"
     ]
    },
    {
     "name": "stdout",
     "output_type": "stream",
     "text": [
      "(95, 6)\n",
      "(257, 39) (105660, 9) (95, 6)\n"
     ]
    },
    {
     "name": "stderr",
     "output_type": "stream",
     "text": [
      "C:\\Users\\camil\\Anaconda3\\lib\\site-packages\\sklearn\\metrics\\_classification.py:620: RuntimeWarning: invalid value encountered in true_divide\n",
      "  k = np.sum(w_mat * confusion) / np.sum(w_mat * expected)\n",
      " 91%|██████████████████████████████████████████████████████████████████████▍      | 129/141 [3:17:55<25:38, 128.23s/it]"
     ]
    },
    {
     "name": "stdout",
     "output_type": "stream",
     "text": [
      "(95, 6)\n",
      "(415, 39) (119940, 9) (95, 6)\n"
     ]
    },
    {
     "name": "stderr",
     "output_type": "stream",
     "text": [
      "C:\\Users\\camil\\Anaconda3\\lib\\site-packages\\sklearn\\metrics\\_classification.py:620: RuntimeWarning: invalid value encountered in true_divide\n",
      "  k = np.sum(w_mat * confusion) / np.sum(w_mat * expected)\n"
     ]
    },
    {
     "name": "stdout",
     "output_type": "stream",
     "text": [
      "(95, 6)\n",
      "(350, 39) (113160, 9) (95, 6)\n"
     ]
    },
    {
     "name": "stderr",
     "output_type": "stream",
     "text": [
      "C:\\Users\\camil\\Anaconda3\\lib\\site-packages\\sklearn\\metrics\\_classification.py:620: RuntimeWarning: invalid value encountered in true_divide\n",
      "  k = np.sum(w_mat * confusion) / np.sum(w_mat * expected)\n",
      " 92%|██████████████████████████████████████████████████████████████████████▉      | 130/141 [3:20:37<25:20, 138.25s/it]"
     ]
    },
    {
     "name": "stdout",
     "output_type": "stream",
     "text": [
      "(100, 6)\n",
      "(397, 39) (120540, 9) (100, 6)\n",
      "(100, 6)\n",
      "(411, 39) (125760, 9) (100, 6)\n"
     ]
    },
    {
     "name": "stderr",
     "output_type": "stream",
     "text": [
      "C:\\Users\\camil\\Anaconda3\\lib\\site-packages\\sklearn\\metrics\\_classification.py:620: RuntimeWarning: invalid value encountered in true_divide\n",
      "  k = np.sum(w_mat * confusion) / np.sum(w_mat * expected)\n",
      "C:\\Users\\camil\\Anaconda3\\lib\\site-packages\\pingouin\\parametric.py:978: RuntimeWarning: divide by zero encountered in double_scalars\n",
      "  fval = msbetween / mserror\n",
      "C:\\Users\\camil\\Anaconda3\\lib\\site-packages\\pingouin\\reliability.py:320: RuntimeWarning: divide by zero encountered in double_scalars\n",
      "  f1k = msb / msw\n",
      "C:\\Users\\camil\\Anaconda3\\lib\\site-packages\\pingouin\\reliability.py:325: RuntimeWarning: divide by zero encountered in double_scalars\n",
      "  f2k = f3k = msb / mse\n",
      "C:\\Users\\camil\\Anaconda3\\lib\\site-packages\\pingouin\\reliability.py:349: RuntimeWarning: invalid value encountered in double_scalars\n",
      "  l1 = (f1l - 1) / (f1l + (k - 1))\n",
      "C:\\Users\\camil\\Anaconda3\\lib\\site-packages\\pingouin\\reliability.py:350: RuntimeWarning: invalid value encountered in double_scalars\n",
      "  u1 = (f1u - 1) / (f1u + (k - 1))\n",
      "C:\\Users\\camil\\Anaconda3\\lib\\site-packages\\pingouin\\reliability.py:353: RuntimeWarning: invalid value encountered in double_scalars\n",
      "  l3 = (f3l - 1) / (f3l + (k - 1))\n",
      "C:\\Users\\camil\\Anaconda3\\lib\\site-packages\\pingouin\\reliability.py:354: RuntimeWarning: invalid value encountered in double_scalars\n",
      "  u3 = (f3u - 1) / (f3u + (k - 1))\n",
      "C:\\Users\\camil\\Anaconda3\\lib\\site-packages\\pingouin\\reliability.py:356: RuntimeWarning: invalid value encountered in double_scalars\n",
      "  fj = msj / mse\n",
      " 93%|███████████████████████████████████████████████████████████████████████▌     | 131/141 [3:22:46<22:35, 135.51s/it]"
     ]
    },
    {
     "name": "stdout",
     "output_type": "stream",
     "text": [
      "(100, 6)\n",
      "(457, 39) (126480, 9) (100, 6)\n"
     ]
    },
    {
     "name": "stderr",
     "output_type": "stream",
     "text": [
      "C:\\Users\\camil\\Anaconda3\\lib\\site-packages\\sklearn\\metrics\\_classification.py:620: RuntimeWarning: invalid value encountered in true_divide\n",
      "  k = np.sum(w_mat * confusion) / np.sum(w_mat * expected)\n"
     ]
    },
    {
     "name": "stdout",
     "output_type": "stream",
     "text": [
      "(100, 6)\n",
      "(363, 39) (118080, 9) (100, 6)\n"
     ]
    },
    {
     "name": "stderr",
     "output_type": "stream",
     "text": [
      "C:\\Users\\camil\\Anaconda3\\lib\\site-packages\\sklearn\\metrics\\_classification.py:620: RuntimeWarning: invalid value encountered in true_divide\n",
      "  k = np.sum(w_mat * confusion) / np.sum(w_mat * expected)\n",
      " 94%|████████████████████████████████████████████████████████████████████████     | 132/141 [3:25:02<20:19, 135.45s/it]"
     ]
    },
    {
     "name": "stdout",
     "output_type": "stream",
     "text": [
      "(100, 6)\n",
      "(452, 39) (123660, 9) (100, 6)\n",
      "(100, 6)\n",
      "(406, 39) (132420, 9) (100, 6)\n"
     ]
    },
    {
     "name": "stderr",
     "output_type": "stream",
     "text": [
      "C:\\Users\\camil\\Anaconda3\\lib\\site-packages\\sklearn\\metrics\\_classification.py:620: RuntimeWarning: invalid value encountered in true_divide\n",
      "  k = np.sum(w_mat * confusion) / np.sum(w_mat * expected)\n",
      " 94%|████████████████████████████████████████████████████████████████████████▋    | 133/141 [3:27:15<17:57, 134.73s/it]"
     ]
    },
    {
     "name": "stdout",
     "output_type": "stream",
     "text": [
      "(100, 6)\n",
      "(373, 39) (125340, 9) (100, 6)\n",
      "(100, 6)\n",
      "(413, 39) (122040, 9) (100, 6)\n"
     ]
    },
    {
     "name": "stderr",
     "output_type": "stream",
     "text": [
      "C:\\Users\\camil\\Anaconda3\\lib\\site-packages\\sklearn\\metrics\\_classification.py:620: RuntimeWarning: invalid value encountered in true_divide\n",
      "  k = np.sum(w_mat * confusion) / np.sum(w_mat * expected)\n",
      " 95%|█████████████████████████████████████████████████████████████████████████▏   | 134/141 [3:29:32<15:48, 135.43s/it]"
     ]
    },
    {
     "name": "stdout",
     "output_type": "stream",
     "text": [
      "(100, 6)\n",
      "(434, 39) (117660, 9) (100, 6)\n",
      "(100, 6)\n",
      "(388, 39) (128160, 9) (100, 6)\n"
     ]
    },
    {
     "name": "stderr",
     "output_type": "stream",
     "text": [
      "C:\\Users\\camil\\Anaconda3\\lib\\site-packages\\sklearn\\metrics\\_classification.py:620: RuntimeWarning: invalid value encountered in true_divide\n",
      "  k = np.sum(w_mat * confusion) / np.sum(w_mat * expected)\n",
      " 96%|█████████████████████████████████████████████████████████████████████████▋   | 135/141 [3:31:54<13:44, 137.37s/it]"
     ]
    },
    {
     "name": "stdout",
     "output_type": "stream",
     "text": [
      "(100, 6)\n",
      "(434, 39) (123840, 9) (100, 6)\n"
     ]
    },
    {
     "name": "stderr",
     "output_type": "stream",
     "text": [
      "C:\\Users\\camil\\Anaconda3\\lib\\site-packages\\sklearn\\metrics\\_classification.py:620: RuntimeWarning: invalid value encountered in true_divide\n",
      "  k = np.sum(w_mat * confusion) / np.sum(w_mat * expected)\n"
     ]
    },
    {
     "name": "stdout",
     "output_type": "stream",
     "text": [
      "(100, 6)\n",
      "(402, 39) (120360, 9) (100, 6)\n"
     ]
    },
    {
     "name": "stderr",
     "output_type": "stream",
     "text": [
      "C:\\Users\\camil\\Anaconda3\\lib\\site-packages\\sklearn\\metrics\\_classification.py:620: RuntimeWarning: invalid value encountered in true_divide\n",
      "  k = np.sum(w_mat * confusion) / np.sum(w_mat * expected)\n",
      " 96%|██████████████████████████████████████████████████████████████████████████▎  | 136/141 [3:34:11<11:27, 137.48s/it]"
     ]
    },
    {
     "name": "stdout",
     "output_type": "stream",
     "text": [
      "(100, 6)\n",
      "(395, 39) (122400, 9) (100, 6)\n"
     ]
    },
    {
     "name": "stderr",
     "output_type": "stream",
     "text": [
      "C:\\Users\\camil\\Anaconda3\\lib\\site-packages\\sklearn\\metrics\\_classification.py:620: RuntimeWarning: invalid value encountered in true_divide\n",
      "  k = np.sum(w_mat * confusion) / np.sum(w_mat * expected)\n"
     ]
    },
    {
     "name": "stdout",
     "output_type": "stream",
     "text": [
      "(100, 6)\n",
      "(418, 39) (123780, 9) (100, 6)\n"
     ]
    },
    {
     "name": "stderr",
     "output_type": "stream",
     "text": [
      "C:\\Users\\camil\\Anaconda3\\lib\\site-packages\\sklearn\\metrics\\_classification.py:620: RuntimeWarning: invalid value encountered in true_divide\n",
      "  k = np.sum(w_mat * confusion) / np.sum(w_mat * expected)\n",
      " 97%|██████████████████████████████████████████████████████████████████████████▊  | 137/141 [3:36:15<08:53, 133.41s/it]"
     ]
    },
    {
     "name": "stdout",
     "output_type": "stream",
     "text": [
      "(100, 6)\n",
      "(347, 39) (117660, 9) (100, 6)\n",
      "(100, 6)\n",
      "(423, 39) (129360, 9) (100, 6)\n"
     ]
    },
    {
     "name": "stderr",
     "output_type": "stream",
     "text": [
      "C:\\Users\\camil\\Anaconda3\\lib\\site-packages\\sklearn\\metrics\\_classification.py:620: RuntimeWarning: invalid value encountered in true_divide\n",
      "  k = np.sum(w_mat * confusion) / np.sum(w_mat * expected)\n",
      " 98%|███████████████████████████████████████████████████████████████████████████▎ | 138/141 [3:38:40<06:50, 136.72s/it]"
     ]
    },
    {
     "name": "stdout",
     "output_type": "stream",
     "text": [
      "(100, 6)\n",
      "(282, 39) (115140, 9) (100, 6)\n"
     ]
    },
    {
     "name": "stderr",
     "output_type": "stream",
     "text": [
      "C:\\Users\\camil\\Anaconda3\\lib\\site-packages\\sklearn\\metrics\\_classification.py:620: RuntimeWarning: invalid value encountered in true_divide\n",
      "  k = np.sum(w_mat * confusion) / np.sum(w_mat * expected)\n"
     ]
    },
    {
     "name": "stdout",
     "output_type": "stream",
     "text": [
      "(100, 6)\n",
      "(520, 39) (129180, 9) (100, 6)\n"
     ]
    },
    {
     "name": "stderr",
     "output_type": "stream",
     "text": [
      "C:\\Users\\camil\\Anaconda3\\lib\\site-packages\\sklearn\\metrics\\_classification.py:620: RuntimeWarning: invalid value encountered in true_divide\n",
      "  k = np.sum(w_mat * confusion) / np.sum(w_mat * expected)\n",
      " 99%|███████████████████████████████████████████████████████████████████████████▉ | 139/141 [3:40:52<04:30, 135.49s/it]"
     ]
    },
    {
     "name": "stdout",
     "output_type": "stream",
     "text": [
      "(100, 6)\n",
      "(396, 39) (117660, 9) (100, 6)\n",
      "(100, 6)\n",
      "(432, 39) (125100, 9) (100, 6)\n"
     ]
    },
    {
     "name": "stderr",
     "output_type": "stream",
     "text": [
      "C:\\Users\\camil\\Anaconda3\\lib\\site-packages\\sklearn\\metrics\\_classification.py:620: RuntimeWarning: invalid value encountered in true_divide\n",
      "  k = np.sum(w_mat * confusion) / np.sum(w_mat * expected)\n",
      " 99%|████████████████████████████████████████████████████████████████████████████▍| 140/141 [3:43:00<02:13, 133.10s/it]"
     ]
    },
    {
     "name": "stdout",
     "output_type": "stream",
     "text": [
      "(210, 6)\n",
      "(863, 39) (258600, 9) (210, 6)\n"
     ]
    },
    {
     "name": "stderr",
     "output_type": "stream",
     "text": [
      "C:\\Users\\camil\\Anaconda3\\lib\\site-packages\\pingouin\\parametric.py:978: RuntimeWarning: divide by zero encountered in double_scalars\n",
      "  fval = msbetween / mserror\n",
      "C:\\Users\\camil\\Anaconda3\\lib\\site-packages\\pingouin\\reliability.py:320: RuntimeWarning: divide by zero encountered in double_scalars\n",
      "  f1k = msb / msw\n",
      "C:\\Users\\camil\\Anaconda3\\lib\\site-packages\\pingouin\\reliability.py:325: RuntimeWarning: divide by zero encountered in double_scalars\n",
      "  f2k = f3k = msb / mse\n",
      "C:\\Users\\camil\\Anaconda3\\lib\\site-packages\\pingouin\\reliability.py:349: RuntimeWarning: invalid value encountered in double_scalars\n",
      "  l1 = (f1l - 1) / (f1l + (k - 1))\n",
      "C:\\Users\\camil\\Anaconda3\\lib\\site-packages\\pingouin\\reliability.py:350: RuntimeWarning: invalid value encountered in double_scalars\n",
      "  u1 = (f1u - 1) / (f1u + (k - 1))\n",
      "C:\\Users\\camil\\Anaconda3\\lib\\site-packages\\pingouin\\reliability.py:353: RuntimeWarning: invalid value encountered in double_scalars\n",
      "  l3 = (f3l - 1) / (f3l + (k - 1))\n",
      "C:\\Users\\camil\\Anaconda3\\lib\\site-packages\\pingouin\\reliability.py:354: RuntimeWarning: invalid value encountered in double_scalars\n",
      "  u3 = (f3u - 1) / (f3u + (k - 1))\n",
      "C:\\Users\\camil\\Anaconda3\\lib\\site-packages\\pingouin\\reliability.py:356: RuntimeWarning: invalid value encountered in double_scalars\n",
      "  fj = msj / mse\n",
      "\n",
      "  0%|                                                                                           | 0/42 [00:00<?, ?it/s]\u001b[A\n",
      "  2%|█▉                                                                                 | 1/42 [00:03<02:03,  3.02s/it]\u001b[A\n",
      "  5%|███▉                                                                               | 2/42 [00:04<01:44,  2.62s/it]\u001b[A\n",
      "  7%|█████▉                                                                             | 3/42 [00:06<01:35,  2.46s/it]\u001b[A\n",
      " 10%|███████▉                                                                           | 4/42 [00:08<01:27,  2.31s/it]\u001b[A\n",
      " 12%|█████████▉                                                                         | 5/42 [00:10<01:23,  2.26s/it]\u001b[A\n",
      " 14%|███████████▊                                                                       | 6/42 [00:13<01:24,  2.34s/it]\u001b[A\n",
      " 17%|█████████████▊                                                                     | 7/42 [00:15<01:18,  2.23s/it]\u001b[A\n",
      " 19%|███████████████▊                                                                   | 8/42 [00:17<01:14,  2.20s/it]\u001b[A\n",
      " 21%|█████████████████▊                                                                 | 9/42 [00:18<01:04,  1.94s/it]\u001b[A\n",
      " 24%|███████████████████▌                                                              | 10/42 [00:20<00:58,  1.81s/it]\u001b[A\n",
      " 26%|█████████████████████▍                                                            | 11/42 [00:22<00:59,  1.92s/it]\u001b[A\n",
      " 29%|███████████████████████▍                                                          | 12/42 [00:24<00:58,  1.95s/it]\u001b[A\n",
      " 31%|█████████████████████████▍                                                        | 13/42 [00:26<00:57,  1.97s/it]\u001b[A\n",
      " 33%|███████████████████████████▎                                                      | 14/42 [00:28<00:56,  2.02s/it]\u001b[A\n",
      " 36%|█████████████████████████████▎                                                    | 15/42 [00:30<00:53,  1.99s/it]\u001b[A\n",
      " 38%|███████████████████████████████▏                                                  | 16/42 [00:32<00:48,  1.87s/it]\u001b[A\n",
      " 40%|█████████████████████████████████▏                                                | 17/42 [00:34<00:50,  2.01s/it]\u001b[A\n",
      " 43%|███████████████████████████████████▏                                              | 18/42 [00:36<00:48,  2.01s/it]\u001b[A\n",
      " 45%|█████████████████████████████████████                                             | 19/42 [00:38<00:43,  1.87s/it]\u001b[A\n",
      " 48%|███████████████████████████████████████                                           | 20/42 [00:40<00:42,  1.92s/it]\u001b[A\n",
      " 50%|█████████████████████████████████████████                                         | 21/42 [00:42<00:40,  1.91s/it]\u001b[A\n",
      " 52%|██████████████████████████████████████████▉                                       | 22/42 [00:44<00:39,  2.00s/it]\u001b[A\n",
      " 55%|████████████████████████████████████████████▉                                     | 23/42 [00:46<00:40,  2.11s/it]\u001b[A\n",
      " 57%|██████████████████████████████████████████████▊                                   | 24/42 [00:48<00:37,  2.08s/it]\u001b[A\n",
      " 60%|████████████████████████████████████████████████▊                                 | 25/42 [00:50<00:32,  1.92s/it]\u001b[A\n",
      " 62%|██████████████████████████████████████████████████▊                               | 26/42 [00:51<00:29,  1.85s/it]\u001b[A\n",
      " 64%|████████████████████████████████████████████████████▋                             | 27/42 [00:53<00:27,  1.83s/it]\u001b[A\n",
      " 67%|██████████████████████████████████████████████████████▋                           | 28/42 [00:55<00:26,  1.92s/it]\u001b[A\n",
      " 69%|████████████████████████████████████████████████████████▌                         | 29/42 [00:57<00:25,  1.98s/it]\u001b[A\n",
      " 71%|██████████████████████████████████████████████████████████▌                       | 30/42 [00:59<00:23,  1.94s/it]\u001b[A\n",
      " 74%|████████████████████████████████████████████████████████████▌                     | 31/42 [01:01<00:21,  1.92s/it]\u001b[A\n",
      " 76%|██████████████████████████████████████████████████████████████▍                   | 32/42 [01:03<00:19,  1.96s/it]\u001b[A\n",
      " 79%|████████████████████████████████████████████████████████████████▍                 | 33/42 [01:05<00:17,  1.90s/it]\u001b[A\n",
      " 81%|██████████████████████████████████████████████████████████████████▍               | 34/42 [01:07<00:15,  1.94s/it]\u001b[A\n",
      " 83%|████████████████████████████████████████████████████████████████████▎             | 35/42 [01:09<00:14,  2.01s/it]\u001b[A\n",
      " 86%|██████████████████████████████████████████████████████████████████████▎           | 36/42 [01:12<00:12,  2.13s/it]\u001b[A\n",
      " 88%|████████████████████████████████████████████████████████████████████████▏         | 37/42 [01:13<00:09,  1.99s/it]\u001b[A\n",
      " 90%|██████████████████████████████████████████████████████████████████████████▏       | 38/42 [01:15<00:07,  1.93s/it]\u001b[A\n",
      " 93%|████████████████████████████████████████████████████████████████████████████▏     | 39/42 [01:16<00:05,  1.77s/it]\u001b[A\n",
      " 95%|██████████████████████████████████████████████████████████████████████████████    | 40/42 [01:18<00:03,  1.84s/it]\u001b[A\n",
      " 98%|████████████████████████████████████████████████████████████████████████████████  | 41/42 [01:20<00:01,  1.91s/it]\u001b[A\n",
      "100%|██████████████████████████████████████████████████████████████████████████████████| 42/42 [01:22<00:00,  1.97s/it]\u001b[A\n",
      " 99%|█████████████████████████████████████████████████████████████████████████████▍| 140/141 [3:46:59<01:37, 97.28s/it]\n"
     ]
    },
    {
     "name": "stdout",
     "output_type": "stream",
     "text": [
      "test normality of transitions per zones\n",
      "-------------------- 1_Zone\n"
     ]
    },
    {
     "ename": "NameError",
     "evalue": "name 'normaltest' is not defined",
     "output_type": "error",
     "traceback": [
      "\u001b[1;31m---------------------------------------------------------------------------\u001b[0m",
      "\u001b[1;31mNameError\u001b[0m                                 Traceback (most recent call last)",
      "\u001b[1;32m<ipython-input-11-4f01c034ef7e>\u001b[0m in \u001b[0;36m<module>\u001b[1;34m\u001b[0m\n\u001b[0;32m     45\u001b[0m                     \u001b[1;31m#stat, p = ShapiroTest(list(df__[c].dropna()))\u001b[0m\u001b[1;33m\u001b[0m\u001b[1;33m\u001b[0m\u001b[1;33m\u001b[0m\u001b[0m\n\u001b[0;32m     46\u001b[0m                     \u001b[1;31m#print(stat, p)\u001b[0m\u001b[1;33m\u001b[0m\u001b[1;33m\u001b[0m\u001b[1;33m\u001b[0m\u001b[0m\n\u001b[1;32m---> 47\u001b[1;33m                     \u001b[0mstat\u001b[0m\u001b[1;33m,\u001b[0m \u001b[0mp\u001b[0m \u001b[1;33m=\u001b[0m \u001b[0mAgostinosK2Test\u001b[0m\u001b[1;33m(\u001b[0m\u001b[0mlist\u001b[0m\u001b[1;33m(\u001b[0m\u001b[0mdf__\u001b[0m\u001b[1;33m[\u001b[0m\u001b[0mc\u001b[0m\u001b[1;33m]\u001b[0m\u001b[1;33m.\u001b[0m\u001b[0mdropna\u001b[0m\u001b[1;33m(\u001b[0m\u001b[1;33m)\u001b[0m\u001b[1;33m)\u001b[0m\u001b[1;33m)\u001b[0m\u001b[1;33m\u001b[0m\u001b[1;33m\u001b[0m\u001b[0m\n\u001b[0m\u001b[0;32m     48\u001b[0m                     \u001b[0mprint\u001b[0m\u001b[1;33m(\u001b[0m\u001b[0mstat\u001b[0m\u001b[1;33m,\u001b[0m \u001b[0mp\u001b[0m\u001b[1;33m)\u001b[0m\u001b[1;33m\u001b[0m\u001b[1;33m\u001b[0m\u001b[0m\n\u001b[0;32m     49\u001b[0m \u001b[1;33m\u001b[0m\u001b[0m\n",
      "\u001b[1;32m~\\Desktop\\animals_code\\PhD\\UTILS.py\u001b[0m in \u001b[0;36mAgostinosK2Test\u001b[1;34m(data, alpha)\u001b[0m\n\u001b[0;32m    214\u001b[0m \u001b[1;32mdef\u001b[0m \u001b[0mAgostinosK2Test\u001b[0m\u001b[1;33m(\u001b[0m\u001b[0mdata\u001b[0m\u001b[1;33m,\u001b[0m \u001b[0malpha\u001b[0m\u001b[1;33m=\u001b[0m\u001b[1;36m0.05\u001b[0m\u001b[1;33m)\u001b[0m\u001b[1;33m:\u001b[0m\u001b[1;33m\u001b[0m\u001b[1;33m\u001b[0m\u001b[0m\n\u001b[0;32m    215\u001b[0m     \u001b[1;34m'''The tests assume that that the sample was drawn from a Gaussian distribution, and refect hypothesis if not drwan from a normal distribution'''\u001b[0m\u001b[1;33m\u001b[0m\u001b[1;33m\u001b[0m\u001b[0m\n\u001b[1;32m--> 216\u001b[1;33m     \u001b[0mstat\u001b[0m\u001b[1;33m,\u001b[0m \u001b[0mp\u001b[0m \u001b[1;33m=\u001b[0m \u001b[0mnormaltest\u001b[0m\u001b[1;33m(\u001b[0m\u001b[0mdata\u001b[0m\u001b[1;33m)\u001b[0m\u001b[1;33m\u001b[0m\u001b[1;33m\u001b[0m\u001b[0m\n\u001b[0m\u001b[0;32m    217\u001b[0m     \u001b[0mprint\u001b[0m\u001b[1;33m(\u001b[0m\u001b[1;34m'Statistics=%.3f, p=%.3f'\u001b[0m \u001b[1;33m%\u001b[0m \u001b[1;33m(\u001b[0m\u001b[0mstat\u001b[0m\u001b[1;33m,\u001b[0m \u001b[0mp\u001b[0m\u001b[1;33m)\u001b[0m\u001b[1;33m)\u001b[0m\u001b[1;33m\u001b[0m\u001b[1;33m\u001b[0m\u001b[0m\n\u001b[0;32m    218\u001b[0m     \u001b[1;32mif\u001b[0m \u001b[0mp\u001b[0m \u001b[1;33m>\u001b[0m \u001b[0malpha\u001b[0m\u001b[1;33m:\u001b[0m\u001b[1;33m\u001b[0m\u001b[1;33m\u001b[0m\u001b[0m\n",
      "\u001b[1;31mNameError\u001b[0m: name 'normaltest' is not defined"
     ]
    }
   ],
   "source": [
    "###############################################################################################################################\n",
    "###############################################################################################################################\n",
    "############################################# RUN OVER SEVERAL BATCH COMBINATIONS #############################################\n",
    "###############################################################################################################################\n",
    "###############################################################################################################################\n",
    "\n",
    "#start recording the time it last\n",
    "START_TIME = time.clock()\n",
    "li_df  = []\n",
    "is_done = False\n",
    "for li_batch1, li_batch2 in tqdm.tqdm(li_selected_combination_pairs):\n",
    "    \n",
    "    #select a unique runID per pair of batch combination\n",
    "    runID = uuid.uuid1()\n",
    "    nbr_b = len(li_batch1)\n",
    "    \n",
    "    for i,li_batch in enumerate([li_batch1, li_batch2]):\n",
    "        #dont do the second batch if its the same as the first one, i.e. if its the final output, but print visuals\n",
    "        if (li_batch1==li_batch2) & (is_done==True):\n",
    "            #to sort the yaxis\n",
    "            dico_zone_order = {'1_Zone':0, '2_Zone':1, '3_Zone':2, '4_Zone':3, '5_Zone':4}\n",
    "            li_ts = ['Zone','model_ObservedZone','ObservedZone','binning_zone']\n",
    "            #for each batch draw 4 timeseries\n",
    "            for BatchID, df_plt in tqdm.tqdm(df_final.groupby(['BatchID'])):\n",
    "                df_plt = df_plt.sort_values(['Timestamp']).copy()\n",
    "                l = len(li_ts) ; c = 1\n",
    "                fig = plt.figure(figsize=(c*5, l*1))\n",
    "                for i,v in enumerate(li_ts):\n",
    "                    df_plt[v] = df_plt[v].map(lambda x: int(dico_zone_order[x]))       \n",
    "                    plt.subplot(l,c,i+1)\n",
    "                    plt.plot(df_plt['Timestamp'].tolist(), df_plt[v].tolist())\n",
    "                    plt.xticks(fontsize=4)\n",
    "                    plt.yticks(fontsize=4)\n",
    "                    plt.title(v+' '+BatchID, size=7)\n",
    "                plt.savefig(os.path.join(path_extracted_data_cleaning, BatchID+'.png'), format='png', bbox_inches='tight', \n",
    "                            dpi=300)\n",
    "                plt.clf()\n",
    "                plt.close(\"all\")                      \n",
    "            \n",
    "            #test normality of transitions (per zone, as for all zone is not working\n",
    "            print('test normality of transitions per zones')\n",
    "            for z,df__ in df_transition.groupby('variable'):\n",
    "                print('--------------------', z)\n",
    "                for c in ['Zone', 'model_ObservedZone', 'binning_zone','ObservedZone']:\n",
    "                    #stat, p = ShapiroTest(list(df__[c].dropna()))\n",
    "                    #print(stat, p)\n",
    "                    stat, p = AgostinosK2Test(list(df__[c].dropna()))\n",
    "                    print(stat, p)\n",
    "                \n",
    "            break\n",
    "            \n",
    "        df_testing_ = df_testing[df_testing['BatchID'].isin(li_batch)].copy()\n",
    "        ##########################################################################################################\n",
    "        ########################################### create duration TS ###########################################\n",
    "        ##########################################################################################################\n",
    "        li_df_dur = []\n",
    "        li_col = ['Zone','VideoAnalyse','model_ObservedZone','ObservedZone','PenID','HenID','Timestamp','BatchID']\n",
    "        for BatchID,df_ in df_testing_[li_col].groupby(['BatchID']):\n",
    "            df_ = df_.sort_values('Timestamp',ascending=True)\n",
    "            #select the list of timestamp we want (i.e. at one second level)\n",
    "            mi = min(df_['Timestamp'].tolist())\n",
    "            ma = max(df_['Timestamp'].tolist())\n",
    "            #extend the daterange if the batch is in dico_BatchID_endhour\n",
    "            if BatchID in dico_BatchID_endhour.keys():\n",
    "                ma = dt.datetime(ma.year,ma.month,ma.day,dico_BatchID_endhour[BatchID],0,0)\n",
    "            #print(mi, ma)\n",
    "            Daterange = pd.date_range(start = mi+dt.timedelta(seconds=(60-mi.second)), \n",
    "                                      end = ma-dt.timedelta(seconds=(ma.second+1)), \n",
    "                                      freq = 'S') \n",
    "            #print(Daterange[0:2])\n",
    "            #print(Daterange[-2:])\n",
    "\n",
    "            ################### 1 sec ts: tracking method & model method & true observation\n",
    "            ### extend to 1 seconds level\n",
    "            #add missing seconds (i.e. all seconds that never had a record) and fillnan with last non-nan values by propagating last \n",
    "            # observation forward to next valHenIDmi = min(df_['Timestamp'].tolist())\n",
    "            df_.set_index('Timestamp', inplace=True)\n",
    "            df__ = df_.reindex(Daterange, method='ffill').reset_index()\n",
    "            #display(df__.head(5))\n",
    "            #display(df__.tail(5))\n",
    "            df__.rename(columns={'index':'Timestamp'}, inplace=True)\n",
    "            #display(df__.head(3))\n",
    "            df__.to_csv(os.path.join(path__,'1secTimeSeries'+str(BatchID)+'.csv'), sep=';', index=False)\n",
    "\n",
    "            ################### binning method at 60 sec period\n",
    "            #First take only the wanted timestamps (1 per seconds)\n",
    "            #due to the 60 sec period bining, we need to exclude some of the first and last seconds in order to take into account \n",
    "            #minutes for which we have the full information only\n",
    "            DaterangeBIN = [Daterange[i] for i in range(len(Daterange)) if i%60==0]\n",
    "            #add new timestamp to the initial file\n",
    "            df_date = pd.DataFrame({'New_Timestamp':DaterangeBIN})\n",
    "            df_date['New_Timestamp'] = df_date['New_Timestamp'].map(lambda x: pd.to_datetime(x))\n",
    "            df_bin = pd.merge_asof(df__, df_date, left_on=['Timestamp'], right_on=['New_Timestamp'], direction='forward')\n",
    "\n",
    "            #Then bin the data\n",
    "            h = 'Zone'\n",
    "            df_bin = df_bin[[h,'New_Timestamp']].copy()\n",
    "            df_bin['nbr_sec'] = 1\n",
    "            df_bin = df_bin.groupby(['New_Timestamp',h])['nbr_sec'].sum().reset_index() #sum to count as we have seconds\n",
    "            df_bin = df_bin.groupby(['New_Timestamp'])[[h,'nbr_sec']].agg(lambda x: tuple(x)).reset_index()\n",
    "            df_bin['most_frequent_zone'] = df_bin.apply(lambda x: x[h][x['nbr_sec'].index(max(x['nbr_sec']))], axis=1)\n",
    "            df_bin['nbr_duration_per_zone'] = df_bin.apply(lambda x: str({x[h][k]:x['nbr_sec'][k] for k in range(len(x[h]))}), axis=1)\n",
    "            df_bin['nbr_lost_duration_per_zone'] = df_bin['nbr_duration_per_zone'].map(lambda x: str({z:v for z,v in eval(x).items() if \\\n",
    "                                                                               v!=max(eval(x).values())}))\n",
    "            df_bin['nbr_lost_duration'] = df_bin['nbr_lost_duration_per_zone'].map(lambda x: sum(eval(x).values()))\n",
    "            df_bin['perc_lost_duration'] = df_bin['nbr_lost_duration'].map(lambda x: x/60*100)\n",
    "            df_bin['day'] = df_bin['New_Timestamp'].map(lambda x: dt.datetime(x.year,x.month,x.day))\n",
    "            df_bin.to_csv(os.path.join(path__ ,'bining'+str(BatchID)+'.csv'), sep=';', index=False)\n",
    "            #display(df_bin.head(3))    \n",
    "\n",
    "            #extend to 1sec ts\n",
    "            df_bin = df_bin[['most_frequent_zone','New_Timestamp']]\n",
    "            df_bin.set_index('New_Timestamp', inplace=True)\n",
    "            df_bin1sec = df_bin.reindex(Daterange, method='ffill').reset_index()\n",
    "            df_bin1sec.rename(columns={'index':'Timestamp','most_frequent_zone':'binning_zone'}, inplace=True)\n",
    "            df_bin1sec.to_csv(os.path.join(path__,'1secTimeSeries_bining'+str(BatchID)+'.csv'), sep=';', index=False)\n",
    "            #display(df_bin1sec.head(3))\n",
    "\n",
    "            #join with bining\n",
    "            df_final = pd.merge(df__, df_bin1sec, on=['Timestamp'], how='outer')\n",
    "            df_final.to_csv(os.path.join(path__,'1secTimeSeries_ALL_'+str(BatchID)+'.csv'), sep=';', index=False)\n",
    "            li_df_dur.append(df_final)\n",
    "        #concat all final 1sec into one big\n",
    "        df_final = pd.concat(li_df_dur)\n",
    "        df_final.to_csv(os.path.join(path_extracted_data_cleaning,'1secTimeSeries_reliability.csv'), sep=';', index=False)\n",
    "        #display(df_final.head(3))\n",
    "\n",
    "        ##########################################################################################################\n",
    "        ########################################### create duration TS ###########################################\n",
    "        ##########################################################################################################\n",
    "        #in case: total nbr of zone, issue: not enough observatoin for kappa test \n",
    "        #df_transition = df_final.groupby(['BatchID'])[['Zone','model_ObservedZone','ObservedZone',\n",
    "        #                                               'binning_zone']].agg(lambda x: len(list_of_zones(x))-1).reset_index()\n",
    "                \n",
    "        li_df_zone = []\n",
    "        for c in ['Zone','model_ObservedZone','ObservedZone','binning_zone']:\n",
    "            df_transition_ = df_final.groupby(['BatchID'])[c].agg(lambda x: dict(Counter(list_of_zones(x)[1:]))).reset_index()\n",
    "            for z in df_final[c].unique():\n",
    "                df_transition_[z] = df_transition_[c].map(lambda x: x.get(z,0))\n",
    "            df_ = pd.melt(df_transition_, id_vars=['BatchID'], value_vars=df_final[c].unique())\n",
    "            df_.rename(columns={'value':c}, inplace=True)\n",
    "            li_df_zone.append(df_)\n",
    "        df_transition = li_df_zone[0]\n",
    "        for df_ in li_df_zone[1:]:\n",
    "            df_transition = pd.merge(df_, df_transition, on=['BatchID','variable'], how='outer')\n",
    "        print(df_transition.shape)\n",
    "        df_transition.head(3)\n",
    "        #display(df_transition.head(3))\n",
    "        df_transition.to_csv(os.path.join(path_extracted_data_cleaning,'reliability_transition.csv'), sep=';', index=False)\n",
    "        \n",
    "        print(df_testing_.shape, df_final.shape, df_transition.shape)\n",
    "        ##########################################################################################################\n",
    "        ###################################### relevance algo - records 0-1 ######################################\n",
    "        ##########################################################################################################\n",
    "        dico_name = {'tracking_prediction':'Zone','model_prediction':'model_ObservedZone'}\n",
    "        for c in ['model_prediction', 'tracking_prediction']:\n",
    "            li_t = df_testing_['VideoAnalyse'].astype(int).tolist()\n",
    "            li_p = df_testing_[c].astype(int).tolist()\n",
    "            res = classification_report(li_t, li_p, output_dict=True, zero_division=0)\n",
    "            dico_ = res_intodico(res)\n",
    "            dico_['method'] = dico_name[c]\n",
    "            dico_['reliability_type'] = 'records-01'\n",
    "            dico_['kappa'] = cohen_kappa_score(li_t, li_p)\n",
    "            dico_['runID'] = runID; dico_['li_batch_selected'] = li_batch; dico_['nbr_batch'] = nbr_b ; dico_['CPairID'] = i\n",
    "            li_df.append(dico_)\n",
    "        #do same per zone\n",
    "        for c in ['model_prediction', 'tracking_prediction']:\n",
    "            for z, df__ in df_testing_.groupby(['Zone']):\n",
    "                li_t = df__['VideoAnalyse'].astype(int).tolist()\n",
    "                li_p = df__[c].astype(int).tolist()\n",
    "                res = classification_report(li_t, li_p, output_dict=True, zero_division=0)\n",
    "                dico_ = res_intodico(res)\n",
    "                dico_['method'] = dico_name[c]\n",
    "                dico_['reliability_type'] = 'records-01_'+str(z)\n",
    "                dico_['kappa'] = cohen_kappa_score(li_t, li_p)\n",
    "                dico_['runID'] = runID; dico_['li_batch_selected'] = li_batch; dico_['nbr_batch'] = nbr_b ; dico_['CPairID'] = i\n",
    "                li_df.append(dico_)\n",
    "\n",
    "        ##########################################################################################################\n",
    "        ############################### relevance behavioural data - duration 1secTS #############################\n",
    "        ##########################################################################################################\n",
    "        for c in ['Zone','model_ObservedZone','binning_zone']:\n",
    "            li_t = df_final['ObservedZone'].tolist()\n",
    "            li_p = df_final[c].tolist()\n",
    "            res = classification_report(li_t, li_p, output_dict=True, zero_division=0)\n",
    "            dico_ = res_intodico(res)\n",
    "            dico_['method'] = c\n",
    "            dico_['reliability_type'] = 'duration_1secTS'\n",
    "            dico_['kappa'] = cohen_kappa_score(li_t, li_p)\n",
    "            dico_['runID'] = runID; dico_['li_batch_selected'] = li_batch; dico_['nbr_batch'] = nbr_b ; dico_['CPairID'] = i\n",
    "            li_df.append(dico_)\n",
    "\n",
    "        ##########################################################################################################\n",
    "        ################################## relevance behavioural data - transition ###############################\n",
    "        ##########################################################################################################\n",
    "        #does not make sense to compare per minutes the numebr of transition, as we dont really care if they areshifted by few minutes\n",
    "        #instead we will compare the number of transition per batch \n",
    "        for c in ['Zone', 'model_ObservedZone', 'binning_zone']:\n",
    "            df_ = pd.melt(df_transition.filter(['BatchID','ObservedZone', c],axis=1), id_vars=['BatchID'], \n",
    "                          value_vars=['ObservedZone', c])\n",
    "            #continuous reliability score\n",
    "            df_res = pg.intraclass_corr(data=df_, targets='BatchID', raters='variable', ratings='value')\n",
    "            dico_ = df_res[df_res['Type']=='ICC3'].to_dict(orient='records')[0]\n",
    "            dico_['method'] = c\n",
    "            dico_['reliability_type'] = 'transitions'\n",
    "            dico_['runID'] = runID; dico_['li_batch_selected'] = li_batch; dico_['nbr_batch'] = nbr_b ; dico_['CPairID'] = i\n",
    "            li_df.append(dico_)\n",
    "        #per zone for all the batches only\n",
    "        if li_batch1==li_batch2:\n",
    "            is_done=True\n",
    "            for z,df__ in df_transition.groupby('variable'):\n",
    "                for c in ['Zone', 'model_ObservedZone', 'binning_zone']:\n",
    "                    df_ = pd.melt(df__.filter(['BatchID','ObservedZone', c],axis=1), id_vars=['BatchID'], \n",
    "                                  value_vars=['ObservedZone', c])\n",
    "                    #continuous reliability score\n",
    "                    df_res = pg.intraclass_corr(data=df_, targets='BatchID', raters='variable', ratings='value')\n",
    "                    dico_ = df_res[df_res['Type']=='ICC3'].to_dict(orient='records')[0]\n",
    "                    dico_['method'] = c\n",
    "                    dico_['reliability_type'] = 'transitions_'+z\n",
    "                    dico_['runID'] = runID; dico_['li_batch_selected'] = li_batch; dico_['nbr_batch'] = nbr_b ; dico_['CPairID'] = i\n",
    "                    li_df.append(dico_)            \n",
    "            \n",
    "            \n",
    "##########################################################################################################\n",
    "############################################### Save results #############################################\n",
    "##########################################################################################################\n",
    "END_TIME = time.clock()\n",
    "print (\"Total running time: %.2f mn\" %((END_TIME-START_TIME)/60))\n",
    "df_results = pd.DataFrame(li_df)\n",
    "li_var_tr = ['transitions','transitions_1Zone', 'transitions_2Zone', 'transitions_3Zone','transitions_4Zone', \n",
    "             'transitions_5Zone']\n",
    "df_results['accuracy_ICC'] = df_results.apply(lambda x: x['ICC'] if x['reliability_type'] in li_var_tr else x['accuracy'],axis=1)\n",
    "df_results['lower_IC']= df_results.apply(lambda x: x['CI95%'][0] if x['reliability_type'].startswith('transition') else np.nan, \n",
    "                                         axis=1)\n",
    "df_results['higher_IC']= df_results.apply(lambda x: x['CI95%'][1] if x['reliability_type'].startswith('transition') else np.nan,\n",
    "                                          axis=1)\n",
    "df_results['height_higher'] = df_results.apply(lambda x: x['ICC']-x['lower_IC'], axis=1)\n",
    "df_results['height_lower'] = df_results.apply(lambda x: x['higher_IC']-x['ICC'], axis=1)\n",
    "df_results['dontuse'] = df_results['pval'].map(lambda x: x==1)\n",
    "df_results.to_csv(os.path.join(path_extracted_data_cleaning,'reliability_RESULTS_catboost.csv'), sep=';', index=False)\n",
    "df_results[['accuracy','ICC','kappa','runID','method','reliability_type']]"
   ]
  },
  {
   "cell_type": "raw",
   "metadata": {},
   "source": [
    "Warning:\n",
    "C:\\Users\\camil\\Anaconda3\\lib\\site-packages\\pingouin\\parametric.py:978: RuntimeWarning: divide by zero encountered in double_scalars\n",
    "  fval = msbetween / mserror\n",
    "C:\\Users\\camil\\Anaconda3\\lib\\site-packages\\pingouin\\reliability.py:325: RuntimeWarning: divide by zero encountered in double_scalars\n",
    "  f2k = f3k = msb / mse\n",
    "C:\\Users\\camil\\Anaconda3\\lib\\site-packages\\pingouin\\reliability.py:353: RuntimeWarning: invalid value encountered in double_scalars\n",
    "  l3 = (f3l - 1) / (f3l + (k - 1))\n",
    "C:\\Users\\camil\\Anaconda3\\lib\\site-packages\\pingouin\\reliability.py:354: RuntimeWarning: invalid value encountered in double_scalars\n",
    "  u3 = (f3u - 1) / (f3u + (k - 1))\n",
    "C:\\Users\\camil\\Anaconda3\\lib\\site-packages\\pingouin\\reliability.py:356: RuntimeWarning: divide by zero encountered in double_scalars\n",
    "  fj = msj / mse\n",
    "C:\\Users\\camil\\Anaconda3\\lib\\site-packages\\pingouin\\reliability.py:360: RuntimeWarning: invalid value encountered in double_scalars\n",
    "  v = vn / vd\n",
    "--> ICC - intraclass_corr form pinguin: when you compare two lists with exact same values! then it will ed up with ICC confident intervals = [1,1]\n",
    "\n",
    "Warning:\n",
    "C:\\Users\\camil\\Anaconda3\\lib\\site-packages\\sklearn\\metrics\\_classification.py:620: RuntimeWarning: invalid value encountered in true_divide\n",
    "  k = np.sum(w_mat * confusion) / np.sum(w_mat * expected)\n",
    "-->cohen_kappa_score: with same list: results in nan value"
   ]
  },
  {
   "cell_type": "code",
   "execution_count": 14,
   "metadata": {},
   "outputs": [
    {
     "name": "stdout",
     "output_type": "stream",
     "text": [
      "LOOk AT THIS AND VERIFY THE OUTPUT\n"
     ]
    },
    {
     "data": {
      "text/html": [
       "<div>\n",
       "<style scoped>\n",
       "    .dataframe tbody tr th:only-of-type {\n",
       "        vertical-align: middle;\n",
       "    }\n",
       "\n",
       "    .dataframe tbody tr th {\n",
       "        vertical-align: top;\n",
       "    }\n",
       "\n",
       "    .dataframe thead th {\n",
       "        text-align: right;\n",
       "    }\n",
       "</style>\n",
       "<table border=\"1\" class=\"dataframe\">\n",
       "  <thead>\n",
       "    <tr style=\"text-align: right;\">\n",
       "      <th></th>\n",
       "      <th>method</th>\n",
       "      <th>ICC</th>\n",
       "      <th>F</th>\n",
       "      <th>df1</th>\n",
       "      <th>df2</th>\n",
       "      <th>pval</th>\n",
       "      <th>CI95%</th>\n",
       "      <th>nbr_batch</th>\n",
       "      <th>reliability_type</th>\n",
       "    </tr>\n",
       "  </thead>\n",
       "  <tbody>\n",
       "    <tr>\n",
       "      <th>33</th>\n",
       "      <td>Zone</td>\n",
       "      <td>0.248175</td>\n",
       "      <td>1.660194e+00</td>\n",
       "      <td>6.0</td>\n",
       "      <td>6.0</td>\n",
       "      <td>0.276713</td>\n",
       "      <td>[-0.56, 0.81]</td>\n",
       "      <td>7</td>\n",
       "      <td>transitions</td>\n",
       "    </tr>\n",
       "    <tr>\n",
       "      <th>51</th>\n",
       "      <td>Zone</td>\n",
       "      <td>0.581655</td>\n",
       "      <td>3.780749e+00</td>\n",
       "      <td>6.0</td>\n",
       "      <td>6.0</td>\n",
       "      <td>0.065207</td>\n",
       "      <td>[-0.21, 0.91]</td>\n",
       "      <td>7</td>\n",
       "      <td>transitions</td>\n",
       "    </tr>\n",
       "    <tr>\n",
       "      <th>69</th>\n",
       "      <td>Zone</td>\n",
       "      <td>-0.182979</td>\n",
       "      <td>6.906475e-01</td>\n",
       "      <td>6.0</td>\n",
       "      <td>6.0</td>\n",
       "      <td>0.667752</td>\n",
       "      <td>[-0.79, 0.6]</td>\n",
       "      <td>7</td>\n",
       "      <td>transitions</td>\n",
       "    </tr>\n",
       "    <tr>\n",
       "      <th>71</th>\n",
       "      <td>binning_zone</td>\n",
       "      <td>0.578788</td>\n",
       "      <td>3.748201e+00</td>\n",
       "      <td>6.0</td>\n",
       "      <td>6.0</td>\n",
       "      <td>0.066390</td>\n",
       "      <td>[-0.22, 0.91]</td>\n",
       "      <td>7</td>\n",
       "      <td>transitions</td>\n",
       "    </tr>\n",
       "    <tr>\n",
       "      <th>213</th>\n",
       "      <td>Zone</td>\n",
       "      <td>0.395764</td>\n",
       "      <td>2.309963e+00</td>\n",
       "      <td>6.0</td>\n",
       "      <td>6.0</td>\n",
       "      <td>0.165894</td>\n",
       "      <td>[-0.43, 0.86]</td>\n",
       "      <td>7</td>\n",
       "      <td>transitions</td>\n",
       "    </tr>\n",
       "    <tr>\n",
       "      <th>285</th>\n",
       "      <td>Zone</td>\n",
       "      <td>0.220159</td>\n",
       "      <td>1.564626e+00</td>\n",
       "      <td>6.0</td>\n",
       "      <td>6.0</td>\n",
       "      <td>0.300173</td>\n",
       "      <td>[-0.58, 0.8]</td>\n",
       "      <td>7</td>\n",
       "      <td>transitions</td>\n",
       "    </tr>\n",
       "    <tr>\n",
       "      <th>303</th>\n",
       "      <td>Zone</td>\n",
       "      <td>0.066667</td>\n",
       "      <td>1.142857e+00</td>\n",
       "      <td>6.0</td>\n",
       "      <td>6.0</td>\n",
       "      <td>0.437685</td>\n",
       "      <td>[-0.67, 0.74]</td>\n",
       "      <td>7</td>\n",
       "      <td>transitions</td>\n",
       "    </tr>\n",
       "    <tr>\n",
       "      <th>339</th>\n",
       "      <td>Zone</td>\n",
       "      <td>0.189091</td>\n",
       "      <td>1.466368e+00</td>\n",
       "      <td>6.0</td>\n",
       "      <td>6.0</td>\n",
       "      <td>0.326908</td>\n",
       "      <td>[-0.6, 0.79]</td>\n",
       "      <td>7</td>\n",
       "      <td>transitions</td>\n",
       "    </tr>\n",
       "    <tr>\n",
       "      <th>357</th>\n",
       "      <td>Zone</td>\n",
       "      <td>0.553060</td>\n",
       "      <td>3.474870e+00</td>\n",
       "      <td>6.0</td>\n",
       "      <td>6.0</td>\n",
       "      <td>0.077534</td>\n",
       "      <td>[-0.25, 0.91]</td>\n",
       "      <td>7</td>\n",
       "      <td>transitions</td>\n",
       "    </tr>\n",
       "    <tr>\n",
       "      <th>645</th>\n",
       "      <td>Zone</td>\n",
       "      <td>0.484358</td>\n",
       "      <td>2.878661e+00</td>\n",
       "      <td>7.0</td>\n",
       "      <td>7.0</td>\n",
       "      <td>0.093199</td>\n",
       "      <td>[-0.27, 0.87]</td>\n",
       "      <td>8</td>\n",
       "      <td>transitions</td>\n",
       "    </tr>\n",
       "    <tr>\n",
       "      <th>717</th>\n",
       "      <td>Zone</td>\n",
       "      <td>0.108225</td>\n",
       "      <td>1.242718e+00</td>\n",
       "      <td>7.0</td>\n",
       "      <td>7.0</td>\n",
       "      <td>0.390833</td>\n",
       "      <td>[-0.6, 0.72]</td>\n",
       "      <td>8</td>\n",
       "      <td>transitions</td>\n",
       "    </tr>\n",
       "    <tr>\n",
       "      <th>772</th>\n",
       "      <td>model_ObservedZone</td>\n",
       "      <td>1.000000</td>\n",
       "      <td>-7.150715e+15</td>\n",
       "      <td>8.0</td>\n",
       "      <td>8.0</td>\n",
       "      <td>1.000000</td>\n",
       "      <td>[1.0, 1.0]</td>\n",
       "      <td>9</td>\n",
       "      <td>transitions</td>\n",
       "    </tr>\n",
       "    <tr>\n",
       "      <th>969</th>\n",
       "      <td>Zone</td>\n",
       "      <td>0.505155</td>\n",
       "      <td>3.041667e+00</td>\n",
       "      <td>8.0</td>\n",
       "      <td>8.0</td>\n",
       "      <td>0.068203</td>\n",
       "      <td>[-0.19, 0.86]</td>\n",
       "      <td>9</td>\n",
       "      <td>transitions</td>\n",
       "    </tr>\n",
       "    <tr>\n",
       "      <th>1005</th>\n",
       "      <td>Zone</td>\n",
       "      <td>0.303541</td>\n",
       "      <td>1.871671e+00</td>\n",
       "      <td>8.0</td>\n",
       "      <td>8.0</td>\n",
       "      <td>0.196937</td>\n",
       "      <td>[-0.41, 0.78]</td>\n",
       "      <td>9</td>\n",
       "      <td>transitions</td>\n",
       "    </tr>\n",
       "    <tr>\n",
       "      <th>1203</th>\n",
       "      <td>Zone</td>\n",
       "      <td>0.418848</td>\n",
       "      <td>2.441441e+00</td>\n",
       "      <td>9.0</td>\n",
       "      <td>9.0</td>\n",
       "      <td>0.099890</td>\n",
       "      <td>[-0.25, 0.82]</td>\n",
       "      <td>10</td>\n",
       "      <td>transitions</td>\n",
       "    </tr>\n",
       "    <tr>\n",
       "      <th>1239</th>\n",
       "      <td>Zone</td>\n",
       "      <td>0.512336</td>\n",
       "      <td>3.101184e+00</td>\n",
       "      <td>9.0</td>\n",
       "      <td>9.0</td>\n",
       "      <td>0.053557</td>\n",
       "      <td>[-0.13, 0.85]</td>\n",
       "      <td>10</td>\n",
       "      <td>transitions</td>\n",
       "    </tr>\n",
       "    <tr>\n",
       "      <th>1240</th>\n",
       "      <td>model_ObservedZone</td>\n",
       "      <td>1.000000</td>\n",
       "      <td>-7.349875e+15</td>\n",
       "      <td>9.0</td>\n",
       "      <td>9.0</td>\n",
       "      <td>1.000000</td>\n",
       "      <td>[1.0, 1.0]</td>\n",
       "      <td>10</td>\n",
       "      <td>transitions</td>\n",
       "    </tr>\n",
       "    <tr>\n",
       "      <th>1401</th>\n",
       "      <td>Zone</td>\n",
       "      <td>0.355067</td>\n",
       "      <td>2.101099e+00</td>\n",
       "      <td>9.0</td>\n",
       "      <td>9.0</td>\n",
       "      <td>0.141967</td>\n",
       "      <td>[-0.31, 0.79]</td>\n",
       "      <td>10</td>\n",
       "      <td>transitions</td>\n",
       "    </tr>\n",
       "    <tr>\n",
       "      <th>1491</th>\n",
       "      <td>Zone</td>\n",
       "      <td>0.401663</td>\n",
       "      <td>2.342598e+00</td>\n",
       "      <td>10.0</td>\n",
       "      <td>10.0</td>\n",
       "      <td>0.097793</td>\n",
       "      <td>[-0.23, 0.79]</td>\n",
       "      <td>11</td>\n",
       "      <td>transitions</td>\n",
       "    </tr>\n",
       "    <tr>\n",
       "      <th>1563</th>\n",
       "      <td>Zone</td>\n",
       "      <td>0.486689</td>\n",
       "      <td>2.896272e+00</td>\n",
       "      <td>10.0</td>\n",
       "      <td>10.0</td>\n",
       "      <td>0.054295</td>\n",
       "      <td>[-0.12, 0.83]</td>\n",
       "      <td>11</td>\n",
       "      <td>transitions</td>\n",
       "    </tr>\n",
       "    <tr>\n",
       "      <th>1725</th>\n",
       "      <td>Zone</td>\n",
       "      <td>0.295547</td>\n",
       "      <td>1.839080e+00</td>\n",
       "      <td>10.0</td>\n",
       "      <td>10.0</td>\n",
       "      <td>0.175499</td>\n",
       "      <td>[-0.34, 0.74]</td>\n",
       "      <td>11</td>\n",
       "      <td>transitions</td>\n",
       "    </tr>\n",
       "    <tr>\n",
       "      <th>1995</th>\n",
       "      <td>Zone</td>\n",
       "      <td>0.460154</td>\n",
       "      <td>2.704760e+00</td>\n",
       "      <td>11.0</td>\n",
       "      <td>11.0</td>\n",
       "      <td>0.056800</td>\n",
       "      <td>[-0.12, 0.81]</td>\n",
       "      <td>12</td>\n",
       "      <td>transitions</td>\n",
       "    </tr>\n",
       "    <tr>\n",
       "      <th>2014</th>\n",
       "      <td>model_ObservedZone</td>\n",
       "      <td>1.000000</td>\n",
       "      <td>-5.974776e+15</td>\n",
       "      <td>11.0</td>\n",
       "      <td>11.0</td>\n",
       "      <td>1.000000</td>\n",
       "      <td>[1.0, 1.0]</td>\n",
       "      <td>12</td>\n",
       "      <td>transitions</td>\n",
       "    </tr>\n",
       "    <tr>\n",
       "      <th>2374</th>\n",
       "      <td>model_ObservedZone</td>\n",
       "      <td>1.000000</td>\n",
       "      <td>-6.762328e+15</td>\n",
       "      <td>12.0</td>\n",
       "      <td>12.0</td>\n",
       "      <td>1.000000</td>\n",
       "      <td>[1.0, 1.0]</td>\n",
       "      <td>13</td>\n",
       "      <td>transitions</td>\n",
       "    </tr>\n",
       "    <tr>\n",
       "      <th>2428</th>\n",
       "      <td>model_ObservedZone</td>\n",
       "      <td>1.000000</td>\n",
       "      <td>-8.591482e+15</td>\n",
       "      <td>12.0</td>\n",
       "      <td>12.0</td>\n",
       "      <td>1.000000</td>\n",
       "      <td>[1.0, 1.0]</td>\n",
       "      <td>13</td>\n",
       "      <td>transitions</td>\n",
       "    </tr>\n",
       "    <tr>\n",
       "      <th>2517</th>\n",
       "      <td>Zone</td>\n",
       "      <td>0.391348</td>\n",
       "      <td>2.285950e+00</td>\n",
       "      <td>12.0</td>\n",
       "      <td>12.0</td>\n",
       "      <td>0.083224</td>\n",
       "      <td>[-0.18, 0.76]</td>\n",
       "      <td>13</td>\n",
       "      <td>transitions</td>\n",
       "    </tr>\n",
       "    <tr>\n",
       "      <th>2877</th>\n",
       "      <td>Zone</td>\n",
       "      <td>-0.001640</td>\n",
       "      <td>9.967249e-01</td>\n",
       "      <td>13.0</td>\n",
       "      <td>13.0</td>\n",
       "      <td>0.502314</td>\n",
       "      <td>[-0.52, 0.51]</td>\n",
       "      <td>14</td>\n",
       "      <td>transitions</td>\n",
       "    </tr>\n",
       "    <tr>\n",
       "      <th>4012</th>\n",
       "      <td>model_ObservedZone</td>\n",
       "      <td>1.000000</td>\n",
       "      <td>-7.758701e+15</td>\n",
       "      <td>17.0</td>\n",
       "      <td>17.0</td>\n",
       "      <td>1.000000</td>\n",
       "      <td>[1.0, 1.0]</td>\n",
       "      <td>18</td>\n",
       "      <td>transitions</td>\n",
       "    </tr>\n",
       "  </tbody>\n",
       "</table>\n",
       "</div>"
      ],
      "text/plain": [
       "                  method       ICC             F   df1   df2      pval  \\\n",
       "33                  Zone  0.248175  1.660194e+00   6.0   6.0  0.276713   \n",
       "51                  Zone  0.581655  3.780749e+00   6.0   6.0  0.065207   \n",
       "69                  Zone -0.182979  6.906475e-01   6.0   6.0  0.667752   \n",
       "71          binning_zone  0.578788  3.748201e+00   6.0   6.0  0.066390   \n",
       "213                 Zone  0.395764  2.309963e+00   6.0   6.0  0.165894   \n",
       "285                 Zone  0.220159  1.564626e+00   6.0   6.0  0.300173   \n",
       "303                 Zone  0.066667  1.142857e+00   6.0   6.0  0.437685   \n",
       "339                 Zone  0.189091  1.466368e+00   6.0   6.0  0.326908   \n",
       "357                 Zone  0.553060  3.474870e+00   6.0   6.0  0.077534   \n",
       "645                 Zone  0.484358  2.878661e+00   7.0   7.0  0.093199   \n",
       "717                 Zone  0.108225  1.242718e+00   7.0   7.0  0.390833   \n",
       "772   model_ObservedZone  1.000000 -7.150715e+15   8.0   8.0  1.000000   \n",
       "969                 Zone  0.505155  3.041667e+00   8.0   8.0  0.068203   \n",
       "1005                Zone  0.303541  1.871671e+00   8.0   8.0  0.196937   \n",
       "1203                Zone  0.418848  2.441441e+00   9.0   9.0  0.099890   \n",
       "1239                Zone  0.512336  3.101184e+00   9.0   9.0  0.053557   \n",
       "1240  model_ObservedZone  1.000000 -7.349875e+15   9.0   9.0  1.000000   \n",
       "1401                Zone  0.355067  2.101099e+00   9.0   9.0  0.141967   \n",
       "1491                Zone  0.401663  2.342598e+00  10.0  10.0  0.097793   \n",
       "1563                Zone  0.486689  2.896272e+00  10.0  10.0  0.054295   \n",
       "1725                Zone  0.295547  1.839080e+00  10.0  10.0  0.175499   \n",
       "1995                Zone  0.460154  2.704760e+00  11.0  11.0  0.056800   \n",
       "2014  model_ObservedZone  1.000000 -5.974776e+15  11.0  11.0  1.000000   \n",
       "2374  model_ObservedZone  1.000000 -6.762328e+15  12.0  12.0  1.000000   \n",
       "2428  model_ObservedZone  1.000000 -8.591482e+15  12.0  12.0  1.000000   \n",
       "2517                Zone  0.391348  2.285950e+00  12.0  12.0  0.083224   \n",
       "2877                Zone -0.001640  9.967249e-01  13.0  13.0  0.502314   \n",
       "4012  model_ObservedZone  1.000000 -7.758701e+15  17.0  17.0  1.000000   \n",
       "\n",
       "              CI95%  nbr_batch reliability_type  \n",
       "33    [-0.56, 0.81]          7      transitions  \n",
       "51    [-0.21, 0.91]          7      transitions  \n",
       "69     [-0.79, 0.6]          7      transitions  \n",
       "71    [-0.22, 0.91]          7      transitions  \n",
       "213   [-0.43, 0.86]          7      transitions  \n",
       "285    [-0.58, 0.8]          7      transitions  \n",
       "303   [-0.67, 0.74]          7      transitions  \n",
       "339    [-0.6, 0.79]          7      transitions  \n",
       "357   [-0.25, 0.91]          7      transitions  \n",
       "645   [-0.27, 0.87]          8      transitions  \n",
       "717    [-0.6, 0.72]          8      transitions  \n",
       "772      [1.0, 1.0]          9      transitions  \n",
       "969   [-0.19, 0.86]          9      transitions  \n",
       "1005  [-0.41, 0.78]          9      transitions  \n",
       "1203  [-0.25, 0.82]         10      transitions  \n",
       "1239  [-0.13, 0.85]         10      transitions  \n",
       "1240     [1.0, 1.0]         10      transitions  \n",
       "1401  [-0.31, 0.79]         10      transitions  \n",
       "1491  [-0.23, 0.79]         11      transitions  \n",
       "1563  [-0.12, 0.83]         11      transitions  \n",
       "1725  [-0.34, 0.74]         11      transitions  \n",
       "1995  [-0.12, 0.81]         12      transitions  \n",
       "2014     [1.0, 1.0]         12      transitions  \n",
       "2374     [1.0, 1.0]         13      transitions  \n",
       "2428     [1.0, 1.0]         13      transitions  \n",
       "2517  [-0.18, 0.76]         13      transitions  \n",
       "2877  [-0.52, 0.51]         14      transitions  \n",
       "4012     [1.0, 1.0]         18      transitions  "
      ]
     },
     "execution_count": 14,
     "metadata": {},
     "output_type": "execute_result"
    }
   ],
   "source": [
    "print('LOOk AT THIS AND VERIFY THE OUTPUT')\n",
    "df_results[df_results['pval']>0.05][['method','ICC','F','df1','df2','pval','CI95%','nbr_batch','reliability_type']]"
   ]
  },
  {
   "cell_type": "code",
   "execution_count": 15,
   "metadata": {},
   "outputs": [
    {
     "name": "stderr",
     "output_type": "stream",
     "text": [
      "C:\\Users\\camil\\Anaconda3\\lib\\site-packages\\ipykernel_launcher.py:8: FutureWarning: Indexing with multiple keys (implicitly converted to a tuple of keys) will be deprecated, use a list instead.\n",
      "  \n"
     ]
    },
    {
     "data": {
      "image/png": "[encoded data removed]",
      "text/plain": [
       "<Figure size 432x288 with 1 Axes>"
      ]
     },
     "metadata": {
      "needs_background": "light"
     },
     "output_type": "display_data"
    },
    {
     "name": "stderr",
     "output_type": "stream",
     "text": [
      "C:\\Users\\camil\\Anaconda3\\lib\\site-packages\\ipykernel_launcher.py:8: FutureWarning: Indexing with multiple keys (implicitly converted to a tuple of keys) will be deprecated, use a list instead.\n",
      "  \n"
     ]
    },
    {
     "data": {
      "image/png": "[encoded data removed]",
      "text/plain": [
       "<Figure size 432x288 with 1 Axes>"
      ]
     },
     "metadata": {
      "needs_background": "light"
     },
     "output_type": "display_data"
    },
    {
     "name": "stderr",
     "output_type": "stream",
     "text": [
      "C:\\Users\\camil\\Anaconda3\\lib\\site-packages\\ipykernel_launcher.py:8: FutureWarning: Indexing with multiple keys (implicitly converted to a tuple of keys) will be deprecated, use a list instead.\n",
      "  \n"
     ]
    },
    {
     "data": {
      "image/png": "[encoded data removed]",
      "text/plain": [
       "<Figure size 432x288 with 1 Axes>"
      ]
     },
     "metadata": {
      "needs_background": "light"
     },
     "output_type": "display_data"
    },
    {
     "name": "stdout",
     "output_type": "stream",
     "text": [
      "(1120, 6)\n"
     ]
    }
   ],
   "source": [
    "#visualize the results\n",
    "li_df = []\n",
    "li_rt = ['duration_1secTS', 'records-01', 'transitions']\n",
    "for m, df_ in df_results[(df_results['nbr_batch']!=len(df_testing['BatchID'].unique()))&\\\n",
    "                        (~df_results['dontuse'])&(df_results['reliability_type'].isin(li_rt))].groupby(['method']):    \n",
    "    #compute difference across the associated batches combination\n",
    "    df_ = df_.filter(['reliability_type','accuracy_ICC','nbr_batch','runID','li_batch_selected'], axis=1)\n",
    "    df_ = df_.groupby(['runID','reliability_type','nbr_batch'])['accuracy_ICC','li_batch_selected'].agg(lambda x: list(x)).reset_index()\n",
    "    df_['accuracy_ICC_diff'] = df_['accuracy_ICC'].map(lambda x: abs(x[0]-x[1])*100 if len(x)==2 else np.nan)\n",
    "    li_df.append(df_)\n",
    "    #display(df_.head(3))\n",
    "    #plot\n",
    "    ax = sns.boxplot(x=\"nbr_batch\", y=\"accuracy_ICC_diff\", hue=\"reliability_type\", data=df_, palette=\"Set3\")\n",
    "    plt.title(m)\n",
    "    plt.xlabel('number of batched in a set')\n",
    "    plt.ylabel('accuarcy/ICC\\'s difference across 2 sets of distinct batches')\n",
    "    plt.savefig(os.path.join(path_extracted_data_cleaning,'ReliabilityStability_'+m+'.png'), bbox_inches='tight')\n",
    "    plt.show()\n",
    "df_acc_diff = pd.concat(li_df)\n",
    "print(df_acc_diff.shape)\n",
    "df_acc_diff.to_csv(os.path.join(path_extracted_data_cleaning,'reliability_RESULTs_acc_difference_catboost.csv'), sep=';', index=False)"
   ]
  },
  {
   "cell_type": "code",
   "execution_count": 16,
   "metadata": {},
   "outputs": [
    {
     "name": "stdout",
     "output_type": "stream",
     "text": [
      "LOOk AT THIS AND VERIFY THE OUTPUT\n"
     ]
    },
    {
     "data": {
      "text/html": [
       "<div>\n",
       "<style scoped>\n",
       "    .dataframe tbody tr th:only-of-type {\n",
       "        vertical-align: middle;\n",
       "    }\n",
       "\n",
       "    .dataframe tbody tr th {\n",
       "        vertical-align: top;\n",
       "    }\n",
       "\n",
       "    .dataframe thead th {\n",
       "        text-align: right;\n",
       "    }\n",
       "</style>\n",
       "<table border=\"1\" class=\"dataframe\">\n",
       "  <thead>\n",
       "    <tr style=\"text-align: right;\">\n",
       "      <th></th>\n",
       "      <th>runID</th>\n",
       "      <th>reliability_type</th>\n",
       "      <th>nbr_batch</th>\n",
       "      <th>accuracy_ICC</th>\n",
       "      <th>li_batch_selected</th>\n",
       "      <th>accuracy_ICC_diff</th>\n",
       "    </tr>\n",
       "  </thead>\n",
       "  <tbody>\n",
       "    <tr>\n",
       "      <th>14</th>\n",
       "      <td>05919d92-3e28-11eb-a79e-9822ef705bb4</td>\n",
       "      <td>transitions</td>\n",
       "      <td>18</td>\n",
       "      <td>[0.6812116077102306, 0.9813931088831485]</td>\n",
       "      <td>[[ID30, ID22, ID33, ID15, ID3, ID40, ID11, ID5...</td>\n",
       "      <td>30.018150</td>\n",
       "    </tr>\n",
       "    <tr>\n",
       "      <th>17</th>\n",
       "      <td>0654b446-3e2a-11eb-877d-9822ef705bb4</td>\n",
       "      <td>transitions</td>\n",
       "      <td>19</td>\n",
       "      <td>[0.8565717141429285, 0.5423728813559323]</td>\n",
       "      <td>[[ID29, ID17, ID26, ID32, ID24, ID36, ID28, ID...</td>\n",
       "      <td>31.419883</td>\n",
       "    </tr>\n",
       "    <tr>\n",
       "      <th>26</th>\n",
       "      <td>0af0de74-3e1b-11eb-9037-9822ef705bb4</td>\n",
       "      <td>transitions</td>\n",
       "      <td>13</td>\n",
       "      <td>[0.6654260528893241, 0.9805959805959804]</td>\n",
       "      <td>[[ID14, ID35, ID10, ID20, ID31, ID6, ID12, ID7...</td>\n",
       "      <td>31.516993</td>\n",
       "    </tr>\n",
       "    <tr>\n",
       "      <th>29</th>\n",
       "      <td>0c002402-3e16-11eb-8a31-9822ef705bb4</td>\n",
       "      <td>transitions</td>\n",
       "      <td>10</td>\n",
       "      <td>[0.5791583166332663, 0.9922424242424243]</td>\n",
       "      <td>[[ID3, ID2, ID29, ID12, ID8, ID5, ID19, ID13, ...</td>\n",
       "      <td>41.308411</td>\n",
       "    </tr>\n",
       "    <tr>\n",
       "      <th>35</th>\n",
       "      <td>0de36d7a-3e14-11eb-a8d1-9822ef705bb4</td>\n",
       "      <td>transitions</td>\n",
       "      <td>9</td>\n",
       "      <td>[0.618746041798607, 0.9854077253218881]</td>\n",
       "      <td>[[ID40, ID42, ID22, ID28, ID7, ID33, ID41, ID3...</td>\n",
       "      <td>36.666168</td>\n",
       "    </tr>\n",
       "    <tr>\n",
       "      <th>47</th>\n",
       "      <td>13c5d906-3e13-11eb-b194-9822ef705bb4</td>\n",
       "      <td>transitions</td>\n",
       "      <td>8</td>\n",
       "      <td>[0.9629215576672252, 0.48435814455231924]</td>\n",
       "      <td>[[ID31, ID6, ID21, ID33, ID28, ID25, ID41, ID1...</td>\n",
       "      <td>47.856341</td>\n",
       "    </tr>\n",
       "    <tr>\n",
       "      <th>71</th>\n",
       "      <td>22a20266-3e21-11eb-8a27-9822ef705bb4</td>\n",
       "      <td>transitions</td>\n",
       "      <td>16</td>\n",
       "      <td>[0.9064380512735966, 0.566931132973659]</td>\n",
       "      <td>[[ID29, ID9, ID36, ID7, ID26, ID23, ID4, ID39,...</td>\n",
       "      <td>33.950692</td>\n",
       "    </tr>\n",
       "    <tr>\n",
       "      <th>80</th>\n",
       "      <td>2992c09e-3e27-11eb-aa20-9822ef705bb4</td>\n",
       "      <td>transitions</td>\n",
       "      <td>18</td>\n",
       "      <td>[0.9762009872777621, 0.589852008456659]</td>\n",
       "      <td>[[ID40, ID17, ID36, ID8, ID18, ID11, ID21, ID3...</td>\n",
       "      <td>38.634898</td>\n",
       "    </tr>\n",
       "    <tr>\n",
       "      <th>92</th>\n",
       "      <td>302ed152-3e1c-11eb-a892-9822ef705bb4</td>\n",
       "      <td>transitions</td>\n",
       "      <td>13</td>\n",
       "      <td>[0.975389663658736, 0.39134808853118674]</td>\n",
       "      <td>[[ID17, ID23, ID29, ID10, ID9, ID5, ID20, ID32...</td>\n",
       "      <td>58.404158</td>\n",
       "    </tr>\n",
       "    <tr>\n",
       "      <th>107</th>\n",
       "      <td>3c7222fa-3e25-11eb-b032-9822ef705bb4</td>\n",
       "      <td>transitions</td>\n",
       "      <td>17</td>\n",
       "      <td>[0.5390032502708557, 0.9608016504568229]</td>\n",
       "      <td>[[ID5, ID36, ID32, ID35, ID30, ID29, ID41, ID1...</td>\n",
       "      <td>42.179840</td>\n",
       "    </tr>\n",
       "  </tbody>\n",
       "</table>\n",
       "</div>"
      ],
      "text/plain": [
       "                                    runID reliability_type  nbr_batch  \\\n",
       "14   05919d92-3e28-11eb-a79e-9822ef705bb4      transitions         18   \n",
       "17   0654b446-3e2a-11eb-877d-9822ef705bb4      transitions         19   \n",
       "26   0af0de74-3e1b-11eb-9037-9822ef705bb4      transitions         13   \n",
       "29   0c002402-3e16-11eb-8a31-9822ef705bb4      transitions         10   \n",
       "35   0de36d7a-3e14-11eb-a8d1-9822ef705bb4      transitions          9   \n",
       "47   13c5d906-3e13-11eb-b194-9822ef705bb4      transitions          8   \n",
       "71   22a20266-3e21-11eb-8a27-9822ef705bb4      transitions         16   \n",
       "80   2992c09e-3e27-11eb-aa20-9822ef705bb4      transitions         18   \n",
       "92   302ed152-3e1c-11eb-a892-9822ef705bb4      transitions         13   \n",
       "107  3c7222fa-3e25-11eb-b032-9822ef705bb4      transitions         17   \n",
       "\n",
       "                                  accuracy_ICC  \\\n",
       "14    [0.6812116077102306, 0.9813931088831485]   \n",
       "17    [0.8565717141429285, 0.5423728813559323]   \n",
       "26    [0.6654260528893241, 0.9805959805959804]   \n",
       "29    [0.5791583166332663, 0.9922424242424243]   \n",
       "35     [0.618746041798607, 0.9854077253218881]   \n",
       "47   [0.9629215576672252, 0.48435814455231924]   \n",
       "71     [0.9064380512735966, 0.566931132973659]   \n",
       "80     [0.9762009872777621, 0.589852008456659]   \n",
       "92    [0.975389663658736, 0.39134808853118674]   \n",
       "107   [0.5390032502708557, 0.9608016504568229]   \n",
       "\n",
       "                                     li_batch_selected  accuracy_ICC_diff  \n",
       "14   [[ID30, ID22, ID33, ID15, ID3, ID40, ID11, ID5...          30.018150  \n",
       "17   [[ID29, ID17, ID26, ID32, ID24, ID36, ID28, ID...          31.419883  \n",
       "26   [[ID14, ID35, ID10, ID20, ID31, ID6, ID12, ID7...          31.516993  \n",
       "29   [[ID3, ID2, ID29, ID12, ID8, ID5, ID19, ID13, ...          41.308411  \n",
       "35   [[ID40, ID42, ID22, ID28, ID7, ID33, ID41, ID3...          36.666168  \n",
       "47   [[ID31, ID6, ID21, ID33, ID28, ID25, ID41, ID1...          47.856341  \n",
       "71   [[ID29, ID9, ID36, ID7, ID26, ID23, ID4, ID39,...          33.950692  \n",
       "80   [[ID40, ID17, ID36, ID8, ID18, ID11, ID21, ID3...          38.634898  \n",
       "92   [[ID17, ID23, ID29, ID10, ID9, ID5, ID20, ID32...          58.404158  \n",
       "107  [[ID5, ID36, ID32, ID35, ID30, ID29, ID41, ID1...          42.179840  "
      ]
     },
     "metadata": {},
     "output_type": "display_data"
    }
   ],
   "source": [
    "print('LOOk AT THIS AND VERIFY THE OUTPUT')\n",
    "display(df_acc_diff[df_acc_diff['accuracy_ICC_diff']>30].head(10))"
   ]
  },
  {
   "cell_type": "markdown",
   "metadata": {},
   "source": [
    "### model classification measures"
   ]
  },
  {
   "cell_type": "markdown",
   "metadata": {},
   "source": [
    "df_results = pd.read_csv(os.path.join(path_extracted_data_cleaning,'reliability_RESULTS_catboost.csv'), sep=';')\n",
    "print(df_results.shape)\n",
    "df_results.head(3)"
   ]
  },
  {
   "cell_type": "markdown",
   "metadata": {},
   "source": [
    "#OLD\n",
    "#records 0-1\n",
    "#I dont think kappa makes a lot of sense in this case, as its not truly raters. \n",
    "#I dont think that any (including accuracy) for the system makes much sense as it has always a prediction of 1 for each \n",
    "#records and we counted here both transitional records as well as corectional records. Also, we dont want to overload the reader\n",
    "#with to many measures, so lets stick to the best ones (at least fro our perspective)\n",
    "li_measure = ['accuracy','macroavg_precision', 'macroavg_recall', 'macroavg_f1',\n",
    "             '0_precision','0_recall','0_f1-score','0_support',\n",
    "             '1_precision','1_recall','1_f1-score','1_support','method']\n",
    "df_results[(df_results['nbr_batch']==len(df_testing['BatchID'].unique()))&\\\n",
    "           (df_results['reliability_type']=='records-01')&(~df_results['dontuse'])][li_measure]"
   ]
  },
  {
   "cell_type": "code",
   "execution_count": 17,
   "metadata": {},
   "outputs": [
    {
     "data": {
      "text/html": [
       "<div>\n",
       "<style scoped>\n",
       "    .dataframe tbody tr th:only-of-type {\n",
       "        vertical-align: middle;\n",
       "    }\n",
       "\n",
       "    .dataframe tbody tr th {\n",
       "        vertical-align: top;\n",
       "    }\n",
       "\n",
       "    .dataframe thead th {\n",
       "        text-align: right;\n",
       "    }\n",
       "</style>\n",
       "<table border=\"1\" class=\"dataframe\">\n",
       "  <thead>\n",
       "    <tr style=\"text-align: right;\">\n",
       "      <th></th>\n",
       "      <th>reliability_type</th>\n",
       "      <th>method</th>\n",
       "      <th>accuracy</th>\n",
       "      <th>macroavg_precision</th>\n",
       "      <th>macroavg_recall</th>\n",
       "      <th>macroavg_f1</th>\n",
       "      <th>0_precision</th>\n",
       "      <th>0_recall</th>\n",
       "      <th>0_f1-score</th>\n",
       "      <th>0_support</th>\n",
       "      <th>1_precision</th>\n",
       "      <th>1_recall</th>\n",
       "      <th>1_f1-score</th>\n",
       "      <th>1_support</th>\n",
       "    </tr>\n",
       "  </thead>\n",
       "  <tbody>\n",
       "    <tr>\n",
       "      <th>5040</th>\n",
       "      <td>records-01</td>\n",
       "      <td>model_ObservedZone</td>\n",
       "      <td>0.989571</td>\n",
       "      <td>0.939421</td>\n",
       "      <td>0.949336</td>\n",
       "      <td>0.944317</td>\n",
       "      <td>0.883721</td>\n",
       "      <td>0.904762</td>\n",
       "      <td>0.894118</td>\n",
       "      <td>42.0</td>\n",
       "      <td>0.995122</td>\n",
       "      <td>0.99391</td>\n",
       "      <td>0.994516</td>\n",
       "      <td>821.0</td>\n",
       "    </tr>\n",
       "    <tr>\n",
       "      <th>5041</th>\n",
       "      <td>records-01</td>\n",
       "      <td>Zone</td>\n",
       "      <td>0.951333</td>\n",
       "      <td>0.475666</td>\n",
       "      <td>0.500000</td>\n",
       "      <td>0.487530</td>\n",
       "      <td>0.000000</td>\n",
       "      <td>0.000000</td>\n",
       "      <td>0.000000</td>\n",
       "      <td>42.0</td>\n",
       "      <td>0.951333</td>\n",
       "      <td>1.00000</td>\n",
       "      <td>0.975059</td>\n",
       "      <td>821.0</td>\n",
       "    </tr>\n",
       "  </tbody>\n",
       "</table>\n",
       "</div>"
      ],
      "text/plain": [
       "     reliability_type              method  accuracy  macroavg_precision  \\\n",
       "5040       records-01  model_ObservedZone  0.989571            0.939421   \n",
       "5041       records-01                Zone  0.951333            0.475666   \n",
       "\n",
       "      macroavg_recall  macroavg_f1  0_precision  0_recall  0_f1-score  \\\n",
       "5040         0.949336     0.944317     0.883721  0.904762    0.894118   \n",
       "5041         0.500000     0.487530     0.000000  0.000000    0.000000   \n",
       "\n",
       "      0_support  1_precision  1_recall  1_f1-score  1_support  \n",
       "5040       42.0     0.995122   0.99391    0.994516      821.0  \n",
       "5041       42.0     0.951333   1.00000    0.975059      821.0  "
      ]
     },
     "execution_count": 17,
     "metadata": {},
     "output_type": "execute_result"
    }
   ],
   "source": [
    "#records 0-1 (all and per zone)\n",
    "#I dont think kappa makes a lot of sense in this case, as its not truly raters. \n",
    "#I dont think that other values than accurarcy for the system makes much sense as it has always a prediciton of 1 for each \n",
    "#records and we counted here both transitional records as well as corectional records. ALso, we odnt want to overload the reader\n",
    "#with to many measures, so lets stick to the best ones (at least fro our perspective)\n",
    "li_measure = ['reliability_type','method','accuracy','macroavg_precision', 'macroavg_recall', 'macroavg_f1',\n",
    "             '0_precision','0_recall','0_f1-score','0_support',\n",
    "             '1_precision','1_recall','1_f1-score','1_support']\n",
    "df_results[(df_results['nbr_batch']==len(df_testing['BatchID'].unique()))&\\\n",
    "           (df_results['reliability_type'].isin(['records-01','records-01_1Zone','records-01_2Zone','records-01_3Zone',\n",
    "                                             'records-01_4Zone','records-01_5Zone']))&(~df_results['dontuse'])][li_measure]"
   ]
  },
  {
   "cell_type": "raw",
   "metadata": {},
   "source": [
    "Four performance measures were used to assess the relevance of the selected Catboost model, each computed on the verification dataset, a representative sample of the tracking system data. The model had a precision of 0.97 (0.95 for class 0,  0.99 for class 1), a recall of 0.93 (0.86 for class 0, 1.0 for class 1), a F1 score of 0.95 (0.9 for class0, 1.0 for class 1) and an accuracy of 0.99. \n",
    "Furthermore, we evaluate its performance for each zone separately. The garden has a precision, recall, F1 score and accuracy of , , ,  respectively.  Zone 1 and 3 has blabla\n"
   ]
  },
  {
   "cell_type": "markdown",
   "metadata": {},
   "source": [
    "# Accuracy of each cleaning methods on entire testing datasets"
   ]
  },
  {
   "cell_type": "markdown",
   "metadata": {},
   "source": [
    "For duration cohen kappas + classification_report was used, for trnasition ICC"
   ]
  },
  {
   "cell_type": "markdown",
   "metadata": {},
   "source": [
    "#old\n",
    "li_rel_type = ['duration_1secTS', 'transitions','transitions_1Zone', 'transitions_2Zone', 'transitions_3Zone',\n",
    "               'transitions_4Zone', 'transitions_5Zone']\n",
    "df_plt = df_results[(df_results['nbr_batch']==len(df_testing['BatchID'].unique()))&\\\n",
    "                    (df_results['reliability_type'].isin(li_rel_type))&(~df_results['dontuse'])]\n",
    "print(df_plt.shape)\n",
    "#df_plt[['runID','method','accuracy_ICC']]\n",
    "plt.figure(figsize=(8,6))\n",
    "ax = sns.barplot(x=\"reliability_type\", y=\"accuracy_ICC\", hue=\"method\", data=df_plt, palette=\"Set3\")\n",
    "plt.xticks(fontsize=10,rotation=70)\n",
    "plt.ylim(0.2,1)\n",
    "plt.xlabel('type of reliability')\n",
    "plt.ylabel('accuraccy - ICC scores')\n",
    "plt.savefig(os.path.join(path_extracted_data_cleaning,'ReliabilityMethodsComparison_catboost.png'), bbox_inches='tight')"
   ]
  },
  {
   "cell_type": "code",
   "execution_count": 21,
   "metadata": {},
   "outputs": [
    {
     "name": "stdout",
     "output_type": "stream",
     "text": [
      "(18, 57)\n"
     ]
    },
    {
     "data": {
      "image/png": "[encoded data removed]",
      "text/plain": [
       "<Figure size 576x432 with 1 Axes>"
      ]
     },
     "metadata": {
      "needs_background": "light"
     },
     "output_type": "display_data"
    }
   ],
   "source": [
    "#transitions: continuous: ICC for verification\n",
    "li_rel_type = ['transitions','transitions_1_Zone', 'transitions_2_Zone', 'transitions_3_Zone',\n",
    "               'transitions_4_Zone', 'transitions_5_Zone']\n",
    "df_plt = df_results[(df_results['nbr_batch']==len(df_testing['BatchID'].unique()))&\\\n",
    "                    (df_results['reliability_type'].isin(li_rel_type))&(~df_results['dontuse'])]\n",
    "print(df_plt.shape)\n",
    "#df_plt[['runID','method','accuracy_ICC']]\n",
    "plt.figure(figsize=(8,6))\n",
    "ax = sns.barplot(x=\"reliability_type\", y=\"ICC\", hue=\"method\", data=df_plt, palette=\"Set3\")\n",
    "plt.xticks(fontsize=10,rotation=70)\n",
    "plt.ylim(0.2,1)\n",
    "plt.xlabel('type of reliability')\n",
    "plt.ylabel('ICC scores');\n",
    "#plt.savefig(os.path.join(path_extracted_data_cleaning,'ReliabilityMethodsComparison_transitions.png'), bbox_inches='tight')"
   ]
  },
  {
   "cell_type": "code",
   "execution_count": 22,
   "metadata": {},
   "outputs": [
    {
     "data": {
      "text/plain": [
       "5055           transitions\n",
       "5056           transitions\n",
       "5057           transitions\n",
       "5058    transitions_1_Zone\n",
       "5059    transitions_1_Zone\n",
       "5060    transitions_1_Zone\n",
       "5061    transitions_2_Zone\n",
       "5062    transitions_2_Zone\n",
       "5063    transitions_2_Zone\n",
       "5064    transitions_3_Zone\n",
       "5065    transitions_3_Zone\n",
       "5066    transitions_3_Zone\n",
       "5067    transitions_4_Zone\n",
       "5068    transitions_4_Zone\n",
       "5069    transitions_4_Zone\n",
       "5070    transitions_5_Zone\n",
       "5071    transitions_5_Zone\n",
       "5072    transitions_5_Zone\n",
       "Name: reliability_type, dtype: object"
      ]
     },
     "execution_count": 22,
     "metadata": {},
     "output_type": "execute_result"
    }
   ],
   "source": [
    "df_results[(df_results['nbr_batch']==len(df_testing['BatchID'].unique()))&\\\n",
    "                    (df_results['reliability_type'].isin(li_rel_type))&(~df_results['dontuse'])]['reliability_type']"
   ]
  },
  {
   "cell_type": "code",
   "execution_count": 23,
   "metadata": {},
   "outputs": [
    {
     "data": {
      "image/png": "[encoded data removed]",
      "text/plain": [
       "<Figure size 432x288 with 1 Axes>"
      ]
     },
     "metadata": {
      "needs_background": "light"
     },
     "output_type": "display_data"
    }
   ],
   "source": [
    "#transitions: continuous: ICC\n",
    "li_rel_type = ['transitions','transitions_1_Zone', 'transitions_2_Zone', 'transitions_3_Zone',\n",
    "               'transitions_4_Zone', 'transitions_5_Zone']\n",
    "df_plt = df_results[(df_results['nbr_batch']==len(df_testing['BatchID'].unique()))&\\\n",
    "                    (df_results['reliability_type'].isin(li_rel_type))&(~df_results['dontuse'])]\n",
    "df_plt = df_plt.sort_values(['method','reliability_type'])\n",
    "# width of the bars\n",
    "barWidth = 0.2\n",
    "# Choose the height of the blue bars\n",
    "bars1 = df_plt[df_plt['method']=='model_ObservedZone']['ICC']\n",
    "bars2 = df_plt[df_plt['method']=='binning_zone']['ICC']\n",
    "bars3 = df_plt[df_plt['method']=='Zone']['ICC']\n",
    "yer1 = [df_plt[df_plt['method']=='model_ObservedZone']['height_lower'].tolist(), \n",
    "        df_plt[df_plt['method']=='model_ObservedZone']['height_higher'].tolist()]\n",
    "yer2 = [df_plt[df_plt['method']=='binning_zone']['height_lower'].tolist(), \n",
    "        df_plt[df_plt['method']=='binning_zone']['height_higher'].tolist()]\n",
    "yer3 = [df_plt[df_plt['method']=='Zone']['height_lower'].tolist(), \n",
    "        df_plt[df_plt['method']=='Zone']['height_higher'].tolist()]\n",
    "r1 = np.arange(len(bars1))\n",
    "r2 = [x + barWidth for x in r1]\n",
    "r3 = [x + barWidth for x in r2]\n",
    "plt.bar(r1, bars1, width = barWidth, color = 'blue', edgecolor = 'black', yerr=yer1, capsize=7, label='model_ObservedZone')\n",
    "plt.bar(r2, bars2, width = barWidth, color = 'cyan', edgecolor = 'black', yerr=yer2, capsize=7, label='binning_zone')\n",
    "plt.bar(r3, bars3, width = barWidth, color = 'yellow', edgecolor = 'black', yerr=yer3, capsize=7, label='Zone')\n",
    "plt.xticks([r + barWidth for r in range(len(bars1))], df_plt['reliability_type'].unique())\n",
    "plt.xlabel('type of reliability')\n",
    "plt.ylabel('ICC scores')\n",
    "plt.xticks(fontsize=10,rotation=70)\n",
    "plt.legend();\n",
    "plt.savefig(os.path.join(path_extracted_data_cleaning,'ReliabilityMethodsComparison_transitions.png'), bbox_inches='tight')"
   ]
  },
  {
   "cell_type": "code",
   "execution_count": 24,
   "metadata": {
    "scrolled": false
   },
   "outputs": [
    {
     "name": "stdout",
     "output_type": "stream",
     "text": [
      "(30, 6)\n"
     ]
    },
    {
     "data": {
      "image/png": "[encoded data removed]",
      "text/plain": [
       "<Figure size 576x432 with 1 Axes>"
      ]
     },
     "metadata": {
      "needs_background": "light"
     },
     "output_type": "display_data"
    }
   ],
   "source": [
    "#duration: accuracy per zones: classification_report, kappa\n",
    "#TODO: f1-score per zone:x is f1score zone1, f1_score zone 2 etc\n",
    "df_plt = df_results[(df_results['nbr_batch']==len(df_testing['BatchID'].unique()))&\\\n",
    "                    (df_results['reliability_type']=='duration_1secTS')&(~df_results['dontuse'])]\n",
    "df_plt = pd.melt(df_plt, id_vars=['runID','CPairID','method','reliability_type'], \n",
    "                 value_vars=['1_Zone_precision','2_Zone_precision','3_Zone_precision','4_Zone_precision','5_Zone_precision',\n",
    "                             '1_Zone_recall','2_Zone_recall','3_Zone_recall','4_Zone_recall','5_Zone_recall'])\n",
    "\n",
    "print(df_plt.shape)\n",
    "#df_plt[['runID','method','accuracy_ICC']]\n",
    "plt.figure(figsize=(8,6))\n",
    "ax = sns.barplot(x=\"variable\", y=\"value\", hue=\"method\", data=df_plt, palette=\"Set3\")\n",
    "plt.xticks(fontsize=10,rotation=70)\n",
    "plt.ylim(0.8,1)\n",
    "plt.xlabel('type of reliability')\n",
    "plt.ylabel('scores');\n",
    "plt.title('Duration')\n",
    "plt.savefig(os.path.join(path_extracted_data_cleaning,'ReliabilityMethodsComparison_duration.png'), bbox_inches='tight')"
   ]
  },
  {
   "cell_type": "raw",
   "metadata": {},
   "source": [
    "Four zone cohen kappas and classification_report was used to assess the reliability of the tracking system records with and without a cleaning provided by the Catboot algorithm. The realibility of the raw tracking system output is of 0.95 and the reliability of the tracking system filterd by the model predictions is of 0.99. We showed that their difference is significant by using a Quad test. The same conclusion was done with the records at the zone level.\n",
    " precision, recall, F1 score for each class as well as the average over each class"
   ]
  },
  {
   "cell_type": "code",
   "execution_count": null,
   "metadata": {},
   "outputs": [],
   "source": [
    "#CCC to write my own fct or use R: https://github.com/stylianos-kampakis/supervisedPCA-Python/blob/master/Untitled.py"
   ]
  },
  {
   "cell_type": "code",
   "execution_count": null,
   "metadata": {},
   "outputs": [],
   "source": []
  },
  {
   "cell_type": "code",
   "execution_count": null,
   "metadata": {},
   "outputs": [],
   "source": []
  },
  {
   "cell_type": "code",
   "execution_count": null,
   "metadata": {},
   "outputs": [],
   "source": []
  },
  {
   "cell_type": "code",
   "execution_count": null,
   "metadata": {},
   "outputs": [],
   "source": []
  },
  {
   "cell_type": "code",
   "execution_count": null,
   "metadata": {},
   "outputs": [],
   "source": []
  },
  {
   "cell_type": "code",
   "execution_count": null,
   "metadata": {},
   "outputs": [],
   "source": []
  },
  {
   "cell_type": "code",
   "execution_count": null,
   "metadata": {},
   "outputs": [],
   "source": []
  },
  {
   "cell_type": "code",
   "execution_count": null,
   "metadata": {},
   "outputs": [],
   "source": []
  }
 ],
 "metadata": {
  "kernelspec": {
   "display_name": "Python 3",
   "language": "python",
   "name": "python3"
  },
  "language_info": {
   "codemirror_mode": {
    "name": "ipython",
    "version": 3
   },
   "file_extension": ".py",
   "mimetype": "text/x-python",
   "name": "python",
   "nbconvert_exporter": "python",
   "pygments_lexer": "ipython3",
   "version": "3.6.10"
  }
 },
 "nbformat": 4,
 "nbformat_minor": 2
}
