{
 "cells": [
  {
   "cell_type": "code",
   "execution_count": 1,
   "metadata": {},
   "outputs": [],
   "source": [
    "#basic package\n",
    "import json\n",
    "import tqdm\n",
    "import os\n",
    "import numpy as np\n",
    "import glob\n",
    "import pandas as pd\n",
    "import sys\n",
    "import shutil\n",
    "import time\n",
    "import datetime as dt\n",
    "import itertools\n",
    "import time\n",
    "import re\n",
    "from collections import Counter\n",
    "from collections import defaultdict\n",
    "import operator\n",
    "import math\n",
    "import functools\n",
    "import collections\n",
    "from sklearn.metrics import confusion_matrix\n",
    "from sklearn.utils import shuffle\n",
    "import random\n",
    "\n",
    "#generate random id\n",
    "import uuid\n",
    "\n",
    "#ICC in python\n",
    "import pingouin as pg\n",
    "\n",
    "from sklearn.preprocessing import MinMaxScaler\n",
    "from sklearn.model_selection import train_test_split\n",
    "from sklearn.metrics import classification_report, confusion_matrix, plot_confusion_matrix, cohen_kappa_score\n",
    "from sklearn.ensemble import GradientBoostingClassifier, RandomForestClassifier, AdaBoostClassifier\n",
    "from xgboost import XGBClassifier\n",
    "from sklearn.gaussian_process.kernels import RBF\n",
    "from sklearn.tree import DecisionTreeClassifier\n",
    "from sklearn.gaussian_process import GaussianProcessClassifier\n",
    "from sklearn.neural_network import MLPClassifier\n",
    "from sklearn.neighbors import KNeighborsClassifier\n",
    "from sklearn.svm import SVC\n",
    "from sklearn.gaussian_process import GaussianProcessClassifier\n",
    "from sklearn.gaussian_process.kernels import RBF\n",
    "from sklearn.tree import DecisionTreeClassifier\n",
    "from sklearn.naive_bayes import GaussianNB\n",
    "from sklearn.discriminant_analysis import QuadraticDiscriminantAnalysis\n",
    "\n",
    "from xgboost import plot_importance\n",
    "#plot\n",
    "import matplotlib.pyplot as plt\n",
    "import seaborn as sns"
   ]
  },
  {
   "cell_type": "code",
   "execution_count": 2,
   "metadata": {},
   "outputs": [
    {
     "name": "stderr",
     "output_type": "stream",
     "text": [
      "C:\\Users\\camil\\Anaconda3\\lib\\site-packages\\scipy\\sparse\\sparsetools.py:21: DeprecationWarning: `scipy.sparse.sparsetools` is deprecated!\n",
      "scipy.sparse.sparsetools is a private module for scipy.sparse, and should not be used.\n",
      "  _deprecated()\n"
     ]
    }
   ],
   "source": [
    "PACKAGE_PARENT = '../'\n",
    "SCRIPT_DIR = os.path.dirname(os.path.realpath(os.path.join(os.getcwd(), os.path.expanduser('__file__'))))\n",
    "sys.path.append(os.path.normpath(os.path.join(SCRIPT_DIR, PACKAGE_PARENT)))\n",
    "from UTILS import is_WG_open, ConfMat, list_of_zones, res_intodico, all_subsets\n",
    "import config_origins as config"
   ]
  },
  {
   "cell_type": "markdown",
   "metadata": {},
   "source": [
    "# Download Input Data"
   ]
  },
  {
   "cell_type": "code",
   "execution_count": 3,
   "metadata": {},
   "outputs": [],
   "source": [
    "#define parameters\n",
    "path_extracted_data = config.path_extracted_data\n",
    "path_initial_data = config.path_initial_data\n",
    "id_run = config.id_run\n",
    "dico_matching = config.dico_matching\n",
    "dico_garden_opening_hour = config.dico_garden_opening_hour\n",
    "path_extracted_data_cleaning = os.path.join(path_extracted_data,'Cleaning')\n",
    "#path_extracted_data_cleaning = r'D:\\vm_exchange\\PhD_Data\\LogsCleaning'\n",
    "#create a director if not existing\n",
    "if not os.path.exists(path_extracted_data_cleaning):\n",
    "    os.makedirs(path_extracted_data_cleaning)\n",
    "    \n",
    "path__ = os.path.join(path_extracted_data_cleaning,'1secTS')\n",
    "#create a director if not existing\n",
    "if not os.path.exists(path__):\n",
    "    os.makedirs(path__)"
   ]
  },
  {
   "cell_type": "raw",
   "metadata": {},
   "source": [
    "Reading for algo\n",
    "https://stackabuse.com/gradient-boosting-classifiers-in-python-with-scikit-learn/\n",
    "https://www.datasciencecentral.com/profiles/blogs/decision-tree-vs-random-forest-vs-boosted-trees-explained\n",
    "TOREAD:\n",
    "*Log loss: https://datawookie.netlify.app/blog/2015/12/making-sense-of-logarithmic-loss/#:~:text=Log%20Loss%20quantifies%20the%20accuracy,get%20to%20in%20a%20moment.\n",
    "*Other classifier: https://scikit-learn.org/stable/auto_examples/classification/plot_classifier_comparison.html\n",
    "--> try gaussian process, RBF SVM"
   ]
  },
  {
   "cell_type": "code",
   "execution_count": 4,
   "metadata": {},
   "outputs": [
    {
     "name": "stdout",
     "output_type": "stream",
     "text": [
      "(3534, 31)\n"
     ]
    },
    {
     "data": {
      "text/html": [
       "<div>\n",
       "<style scoped>\n",
       "    .dataframe tbody tr th:only-of-type {\n",
       "        vertical-align: middle;\n",
       "    }\n",
       "\n",
       "    .dataframe tbody tr th {\n",
       "        vertical-align: top;\n",
       "    }\n",
       "\n",
       "    .dataframe thead th {\n",
       "        text-align: right;\n",
       "    }\n",
       "</style>\n",
       "<table border=\"1\" class=\"dataframe\">\n",
       "  <thead>\n",
       "    <tr style=\"text-align: right;\">\n",
       "      <th></th>\n",
       "      <th>Timestamp</th>\n",
       "      <th>TagID</th>\n",
       "      <th>HenID</th>\n",
       "      <th>Zone</th>\n",
       "      <th>PenID</th>\n",
       "      <th>VideoAnalyse</th>\n",
       "      <th>system</th>\n",
       "      <th>date</th>\n",
       "      <th>type</th>\n",
       "      <th>signalstrength</th>\n",
       "      <th>...</th>\n",
       "      <th>previous4zone</th>\n",
       "      <th>previous5zone</th>\n",
       "      <th>duration</th>\n",
       "      <th>previousduration</th>\n",
       "      <th>algotype</th>\n",
       "      <th>BatchID</th>\n",
       "      <th>zone2match</th>\n",
       "      <th>zone3match</th>\n",
       "      <th>zone4match</th>\n",
       "      <th>ObservedZone</th>\n",
       "    </tr>\n",
       "  </thead>\n",
       "  <tbody>\n",
       "    <tr>\n",
       "      <th>414</th>\n",
       "      <td>2020-10-19 11:40:28</td>\n",
       "      <td>59</td>\n",
       "      <td>hen_11</td>\n",
       "      <td>3_Zone</td>\n",
       "      <td>5.0</td>\n",
       "      <td>0</td>\n",
       "      <td>3 - 5</td>\n",
       "      <td>2020-10-19</td>\n",
       "      <td>students</td>\n",
       "      <td>12.0</td>\n",
       "      <td>...</td>\n",
       "      <td>3_Zone</td>\n",
       "      <td>5_Zone</td>\n",
       "      <td>47.0</td>\n",
       "      <td>3.0</td>\n",
       "      <td>cleaning</td>\n",
       "      <td>NaN</td>\n",
       "      <td>5_Zone</td>\n",
       "      <td>2_Zone</td>\n",
       "      <td>4_Zone</td>\n",
       "      <td>5_Zone</td>\n",
       "    </tr>\n",
       "    <tr>\n",
       "      <th>1976</th>\n",
       "      <td>2020-10-16 13:22:14</td>\n",
       "      <td>78</td>\n",
       "      <td>hen_151</td>\n",
       "      <td>3_Zone</td>\n",
       "      <td>8.0</td>\n",
       "      <td>1</td>\n",
       "      <td>8 - 9</td>\n",
       "      <td>2020-10-16</td>\n",
       "      <td>students</td>\n",
       "      <td>16.0</td>\n",
       "      <td>...</td>\n",
       "      <td>1_Zone</td>\n",
       "      <td>2_Zone</td>\n",
       "      <td>39.0</td>\n",
       "      <td>39.0</td>\n",
       "      <td>cleaning</td>\n",
       "      <td>NaN</td>\n",
       "      <td>2_Zone</td>\n",
       "      <td>5_Zone</td>\n",
       "      <td>miniZone3</td>\n",
       "      <td>3_Zone</td>\n",
       "    </tr>\n",
       "    <tr>\n",
       "      <th>2035</th>\n",
       "      <td>2020-10-17 13:43:28</td>\n",
       "      <td>2</td>\n",
       "      <td>hen_40</td>\n",
       "      <td>3_Zone</td>\n",
       "      <td>3.0</td>\n",
       "      <td>1</td>\n",
       "      <td>3 - 5</td>\n",
       "      <td>2020-10-17</td>\n",
       "      <td>students</td>\n",
       "      <td>13.0</td>\n",
       "      <td>...</td>\n",
       "      <td>3_Zone</td>\n",
       "      <td>2_Zone</td>\n",
       "      <td>12.0</td>\n",
       "      <td>99.0</td>\n",
       "      <td>cleaning</td>\n",
       "      <td>NaN</td>\n",
       "      <td>3_Zone</td>\n",
       "      <td>NoOtherZone</td>\n",
       "      <td>NoOtherZone</td>\n",
       "      <td>3_Zone</td>\n",
       "    </tr>\n",
       "  </tbody>\n",
       "</table>\n",
       "<p>3 rows × 31 columns</p>\n",
       "</div>"
      ],
      "text/plain": [
       "               Timestamp  TagID    HenID    Zone  PenID  VideoAnalyse system  \\\n",
       "414  2020-10-19 11:40:28     59   hen_11  3_Zone    5.0             0  3 - 5   \n",
       "1976 2020-10-16 13:22:14     78  hen_151  3_Zone    8.0             1  8 - 9   \n",
       "2035 2020-10-17 13:43:28      2   hen_40  3_Zone    3.0             1  3 - 5   \n",
       "\n",
       "           date      type  signalstrength  ...  previous4zone  previous5zone  \\\n",
       "414  2020-10-19  students            12.0  ...         3_Zone         5_Zone   \n",
       "1976 2020-10-16  students            16.0  ...         1_Zone         2_Zone   \n",
       "2035 2020-10-17  students            13.0  ...         3_Zone         2_Zone   \n",
       "\n",
       "      duration previousduration  algotype BatchID zone2match   zone3match  \\\n",
       "414       47.0              3.0  cleaning     NaN     5_Zone       2_Zone   \n",
       "1976      39.0             39.0  cleaning     NaN     2_Zone       5_Zone   \n",
       "2035      12.0             99.0  cleaning     NaN     3_Zone  NoOtherZone   \n",
       "\n",
       "       zone4match ObservedZone  \n",
       "414        4_Zone       5_Zone  \n",
       "1976    miniZone3       3_Zone  \n",
       "2035  NoOtherZone       3_Zone  \n",
       "\n",
       "[3 rows x 31 columns]"
      ]
     },
     "execution_count": 4,
     "metadata": {},
     "output_type": "execute_result"
    }
   ],
   "source": [
    "df = pd.read_csv(os.path.join(path_extracted_data, id_run+'InputCleaning.csv'), parse_dates=['Timestamp', 'date'], \n",
    "                 dayfirst=True, sep=';')\n",
    "df = shuffle(df)\n",
    "df = df.rename(columns={c:c.replace('_','') for c in df.columns})\n",
    "df['HenID'] = df['HenID'].map(lambda x: 'hen_'+str(int(x)))\n",
    "print(df.shape)\n",
    "df.head(3)"
   ]
  },
  {
   "cell_type": "code",
   "execution_count": 5,
   "metadata": {},
   "outputs": [
    {
     "data": {
      "text/plain": [
       "5.0     869\n",
       "10.0    656\n",
       "8.0     596\n",
       "3.0     522\n",
       "9.0     343\n",
       "12.0    232\n",
       "4.0     222\n",
       "11.0     94\n",
       "Name: PenID, dtype: int64"
      ]
     },
     "execution_count": 5,
     "metadata": {},
     "output_type": "execute_result"
    }
   ],
   "source": [
    "df['PenID'].value_counts()"
   ]
  },
  {
   "cell_type": "code",
   "execution_count": 6,
   "metadata": {},
   "outputs": [
    {
     "data": {
      "text/plain": [
       "Index(['Timestamp', 'TagID', 'HenID', 'Zone', 'PenID', 'VideoAnalyse',\n",
       "       'system', 'date', 'type', 'signalstrength', 'signalstzone2',\n",
       "       'signalstrzone3', 'signalstrzone4', 'next1zone', 'next2zone',\n",
       "       'next3zone', 'next4zone', 'next5zone', 'previous1zone', 'previous2zone',\n",
       "       'previous3zone', 'previous4zone', 'previous5zone', 'duration',\n",
       "       'previousduration', 'algotype', 'BatchID', 'zone2match', 'zone3match',\n",
       "       'zone4match', 'ObservedZone'],\n",
       "      dtype='object')"
      ]
     },
     "execution_count": 6,
     "metadata": {},
     "output_type": "execute_result"
    }
   ],
   "source": [
    "df.columns"
   ]
  },
  {
   "cell_type": "code",
   "execution_count": 7,
   "metadata": {},
   "outputs": [],
   "source": [
    "#df[df['duration']<4][['TagID','duration','VideoAnalyse','Timestamp','PenID']]"
   ]
  },
  {
   "cell_type": "code",
   "execution_count": null,
   "metadata": {},
   "outputs": [],
   "source": []
  },
  {
   "cell_type": "markdown",
   "metadata": {},
   "source": [
    "# Split into training-validation and testing (holdout dataset)"
   ]
  },
  {
   "cell_type": "code",
   "execution_count": 8,
   "metadata": {},
   "outputs": [],
   "source": [
    "#available features\n",
    "licat = ['TagID', 'Zone', 'PenID', 'VideoAnalyse', 'system', 'date',\n",
    "         'zone2match', 'zone3match', 'zone4match',\n",
    "         'next1zone','next2zone', 'next3zone', 'next4zone', 'next5zone',\n",
    "         'previous1zone', 'previous2zone', 'previous3zone', 'previous4zone','previous5zone']\n",
    "licont = ['signalstrength', 'signalstzone2', 'signalstrzone3', 'signalstrzone4', 'duration','previousduration']\n",
    "\n",
    "#select some features\n",
    "li_cont_select = ['signalstrength', 'signalstzone2','duration','next_duration','previous_duration'] \n",
    "li_cat_select = ['Zone','zone2match','previous1zone','next1zone','previousZone==NextZone'] #ADD WHEN WE HAVE DORIS DATA: PenID"
   ]
  },
  {
   "cell_type": "code",
   "execution_count": 9,
   "metadata": {},
   "outputs": [
    {
     "data": {
      "text/html": [
       "<div>\n",
       "<style scoped>\n",
       "    .dataframe tbody tr th:only-of-type {\n",
       "        vertical-align: middle;\n",
       "    }\n",
       "\n",
       "    .dataframe tbody tr th {\n",
       "        vertical-align: top;\n",
       "    }\n",
       "\n",
       "    .dataframe thead th {\n",
       "        text-align: right;\n",
       "    }\n",
       "</style>\n",
       "<table border=\"1\" class=\"dataframe\">\n",
       "  <thead>\n",
       "    <tr style=\"text-align: right;\">\n",
       "      <th></th>\n",
       "      <th>signalstrength</th>\n",
       "      <th>signalstzone2</th>\n",
       "      <th>duration</th>\n",
       "      <th>Zone</th>\n",
       "      <th>zone2match</th>\n",
       "      <th>previous1zone</th>\n",
       "      <th>next1zone</th>\n",
       "    </tr>\n",
       "  </thead>\n",
       "  <tbody>\n",
       "    <tr>\n",
       "      <th>414</th>\n",
       "      <td>12.0</td>\n",
       "      <td>11.0</td>\n",
       "      <td>47.0</td>\n",
       "      <td>3Zone</td>\n",
       "      <td>5Zone</td>\n",
       "      <td>5Zone</td>\n",
       "      <td>5Zone</td>\n",
       "    </tr>\n",
       "    <tr>\n",
       "      <th>1976</th>\n",
       "      <td>16.0</td>\n",
       "      <td>10.0</td>\n",
       "      <td>39.0</td>\n",
       "      <td>3Zone</td>\n",
       "      <td>2Zone</td>\n",
       "      <td>2Zone</td>\n",
       "      <td>3Zone</td>\n",
       "    </tr>\n",
       "    <tr>\n",
       "      <th>2035</th>\n",
       "      <td>13.0</td>\n",
       "      <td>12.0</td>\n",
       "      <td>12.0</td>\n",
       "      <td>3Zone</td>\n",
       "      <td>3Zone</td>\n",
       "      <td>3Zone</td>\n",
       "      <td>3Zone</td>\n",
       "    </tr>\n",
       "  </tbody>\n",
       "</table>\n",
       "</div>"
      ],
      "text/plain": [
       "      signalstrength  signalstzone2  duration   Zone zone2match previous1zone  \\\n",
       "414             12.0           11.0      47.0  3Zone      5Zone         5Zone   \n",
       "1976            16.0           10.0      39.0  3Zone      2Zone         2Zone   \n",
       "2035            13.0           12.0      12.0  3Zone      3Zone         3Zone   \n",
       "\n",
       "     next1zone  \n",
       "414      5Zone  \n",
       "1976     3Zone  \n",
       "2035     3Zone  "
      ]
     },
     "execution_count": 9,
     "metadata": {},
     "output_type": "execute_result"
    }
   ],
   "source": [
    "#necessary to sum categories within the features importances\n",
    "for x in li_cat_select+['ObservedZone']:\n",
    "    df[x] = df[x].map(lambda x: x.replace('_',''))\n",
    "df[li_cont_select+li_cat_select].head(3)"
   ]
  },
  {
   "cell_type": "code",
   "execution_count": 10,
   "metadata": {},
   "outputs": [
    {
     "data": {
      "text/html": [
       "<div>\n",
       "<style scoped>\n",
       "    .dataframe tbody tr th:only-of-type {\n",
       "        vertical-align: middle;\n",
       "    }\n",
       "\n",
       "    .dataframe tbody tr th {\n",
       "        vertical-align: top;\n",
       "    }\n",
       "\n",
       "    .dataframe thead th {\n",
       "        text-align: right;\n",
       "    }\n",
       "</style>\n",
       "<table border=\"1\" class=\"dataframe\">\n",
       "  <thead>\n",
       "    <tr style=\"text-align: right;\">\n",
       "      <th></th>\n",
       "      <th>Timestamp</th>\n",
       "      <th>TagID</th>\n",
       "      <th>HenID</th>\n",
       "      <th>Zone</th>\n",
       "      <th>PenID</th>\n",
       "      <th>VideoAnalyse</th>\n",
       "      <th>system</th>\n",
       "      <th>date</th>\n",
       "      <th>type</th>\n",
       "      <th>signalstrength</th>\n",
       "      <th>...</th>\n",
       "      <th>previous4zone</th>\n",
       "      <th>previous5zone</th>\n",
       "      <th>duration</th>\n",
       "      <th>previousduration</th>\n",
       "      <th>algotype</th>\n",
       "      <th>BatchID</th>\n",
       "      <th>zone2match</th>\n",
       "      <th>zone3match</th>\n",
       "      <th>zone4match</th>\n",
       "      <th>ObservedZone</th>\n",
       "    </tr>\n",
       "  </thead>\n",
       "  <tbody>\n",
       "    <tr>\n",
       "      <th>414</th>\n",
       "      <td>2020-10-19 11:40:28</td>\n",
       "      <td>59</td>\n",
       "      <td>hen_11</td>\n",
       "      <td>3Zone</td>\n",
       "      <td>5.0</td>\n",
       "      <td>0</td>\n",
       "      <td>3 - 5</td>\n",
       "      <td>2020-10-19</td>\n",
       "      <td>students</td>\n",
       "      <td>12.0</td>\n",
       "      <td>...</td>\n",
       "      <td>3_Zone</td>\n",
       "      <td>5_Zone</td>\n",
       "      <td>47.0</td>\n",
       "      <td>3.0</td>\n",
       "      <td>cleaning</td>\n",
       "      <td>NaN</td>\n",
       "      <td>5Zone</td>\n",
       "      <td>2_Zone</td>\n",
       "      <td>4_Zone</td>\n",
       "      <td>5Zone</td>\n",
       "    </tr>\n",
       "    <tr>\n",
       "      <th>1976</th>\n",
       "      <td>2020-10-16 13:22:14</td>\n",
       "      <td>78</td>\n",
       "      <td>hen_151</td>\n",
       "      <td>3Zone</td>\n",
       "      <td>8.0</td>\n",
       "      <td>1</td>\n",
       "      <td>8 - 9</td>\n",
       "      <td>2020-10-16</td>\n",
       "      <td>students</td>\n",
       "      <td>16.0</td>\n",
       "      <td>...</td>\n",
       "      <td>1_Zone</td>\n",
       "      <td>2_Zone</td>\n",
       "      <td>39.0</td>\n",
       "      <td>39.0</td>\n",
       "      <td>cleaning</td>\n",
       "      <td>NaN</td>\n",
       "      <td>2Zone</td>\n",
       "      <td>5_Zone</td>\n",
       "      <td>miniZone3</td>\n",
       "      <td>3Zone</td>\n",
       "    </tr>\n",
       "    <tr>\n",
       "      <th>2035</th>\n",
       "      <td>2020-10-17 13:43:28</td>\n",
       "      <td>2</td>\n",
       "      <td>hen_40</td>\n",
       "      <td>3Zone</td>\n",
       "      <td>3.0</td>\n",
       "      <td>1</td>\n",
       "      <td>3 - 5</td>\n",
       "      <td>2020-10-17</td>\n",
       "      <td>students</td>\n",
       "      <td>13.0</td>\n",
       "      <td>...</td>\n",
       "      <td>3_Zone</td>\n",
       "      <td>2_Zone</td>\n",
       "      <td>12.0</td>\n",
       "      <td>99.0</td>\n",
       "      <td>cleaning</td>\n",
       "      <td>NaN</td>\n",
       "      <td>3Zone</td>\n",
       "      <td>NoOtherZone</td>\n",
       "      <td>NoOtherZone</td>\n",
       "      <td>3Zone</td>\n",
       "    </tr>\n",
       "    <tr>\n",
       "      <th>2223</th>\n",
       "      <td>2020-10-18 12:46:12</td>\n",
       "      <td>125</td>\n",
       "      <td>hen_54</td>\n",
       "      <td>2Zone</td>\n",
       "      <td>10.0</td>\n",
       "      <td>1</td>\n",
       "      <td>10 - 12</td>\n",
       "      <td>2020-10-18</td>\n",
       "      <td>students</td>\n",
       "      <td>7.0</td>\n",
       "      <td>...</td>\n",
       "      <td>3_Zone</td>\n",
       "      <td>2_Zone</td>\n",
       "      <td>106.0</td>\n",
       "      <td>52.0</td>\n",
       "      <td>cleaning</td>\n",
       "      <td>NaN</td>\n",
       "      <td>3Zone</td>\n",
       "      <td>miniZone3</td>\n",
       "      <td>NoOtherZone</td>\n",
       "      <td>2Zone</td>\n",
       "    </tr>\n",
       "    <tr>\n",
       "      <th>3178</th>\n",
       "      <td>2020-10-25 10:02:33</td>\n",
       "      <td>139</td>\n",
       "      <td>hen_65</td>\n",
       "      <td>4Zone</td>\n",
       "      <td>10.0</td>\n",
       "      <td>1</td>\n",
       "      <td>10 - 12</td>\n",
       "      <td>2020-10-25</td>\n",
       "      <td>students</td>\n",
       "      <td>19.0</td>\n",
       "      <td>...</td>\n",
       "      <td>4_Zone</td>\n",
       "      <td>3_Zone</td>\n",
       "      <td>408.0</td>\n",
       "      <td>1142.0</td>\n",
       "      <td>cleaning</td>\n",
       "      <td>NaN</td>\n",
       "      <td>5Zone</td>\n",
       "      <td>3_Zone</td>\n",
       "      <td>miniZone3</td>\n",
       "      <td>4Zone</td>\n",
       "    </tr>\n",
       "    <tr>\n",
       "      <th>...</th>\n",
       "      <td>...</td>\n",
       "      <td>...</td>\n",
       "      <td>...</td>\n",
       "      <td>...</td>\n",
       "      <td>...</td>\n",
       "      <td>...</td>\n",
       "      <td>...</td>\n",
       "      <td>...</td>\n",
       "      <td>...</td>\n",
       "      <td>...</td>\n",
       "      <td>...</td>\n",
       "      <td>...</td>\n",
       "      <td>...</td>\n",
       "      <td>...</td>\n",
       "      <td>...</td>\n",
       "      <td>...</td>\n",
       "      <td>...</td>\n",
       "      <td>...</td>\n",
       "      <td>...</td>\n",
       "      <td>...</td>\n",
       "      <td>...</td>\n",
       "    </tr>\n",
       "    <tr>\n",
       "      <th>2483</th>\n",
       "      <td>2020-10-16 16:41:33</td>\n",
       "      <td>8</td>\n",
       "      <td>hen_20</td>\n",
       "      <td>3Zone</td>\n",
       "      <td>3.0</td>\n",
       "      <td>1</td>\n",
       "      <td>3 - 5</td>\n",
       "      <td>2020-10-16</td>\n",
       "      <td>students</td>\n",
       "      <td>11.0</td>\n",
       "      <td>...</td>\n",
       "      <td>4_Zone</td>\n",
       "      <td>5_Zone</td>\n",
       "      <td>21.0</td>\n",
       "      <td>37.0</td>\n",
       "      <td>cleaning</td>\n",
       "      <td>NaN</td>\n",
       "      <td>3Zone</td>\n",
       "      <td>4_Zone</td>\n",
       "      <td>NoOtherZone</td>\n",
       "      <td>3Zone</td>\n",
       "    </tr>\n",
       "    <tr>\n",
       "      <th>853</th>\n",
       "      <td>2020-10-18 16:01:53</td>\n",
       "      <td>76</td>\n",
       "      <td>hen_62</td>\n",
       "      <td>2Zone</td>\n",
       "      <td>8.0</td>\n",
       "      <td>1</td>\n",
       "      <td>8 - 9</td>\n",
       "      <td>2020-10-18</td>\n",
       "      <td>students</td>\n",
       "      <td>17.0</td>\n",
       "      <td>...</td>\n",
       "      <td>2_Zone</td>\n",
       "      <td>1_Zone</td>\n",
       "      <td>66.0</td>\n",
       "      <td>70.0</td>\n",
       "      <td>cleaning</td>\n",
       "      <td>NaN</td>\n",
       "      <td>5Zone</td>\n",
       "      <td>3_Zone</td>\n",
       "      <td>NoOtherZone</td>\n",
       "      <td>2Zone</td>\n",
       "    </tr>\n",
       "    <tr>\n",
       "      <th>1912</th>\n",
       "      <td>2020-10-17 14:42:06</td>\n",
       "      <td>90</td>\n",
       "      <td>hen_158</td>\n",
       "      <td>2Zone</td>\n",
       "      <td>8.0</td>\n",
       "      <td>1</td>\n",
       "      <td>8 - 9</td>\n",
       "      <td>2020-10-17</td>\n",
       "      <td>students</td>\n",
       "      <td>7.0</td>\n",
       "      <td>...</td>\n",
       "      <td>2_Zone</td>\n",
       "      <td>1_Zone</td>\n",
       "      <td>40.0</td>\n",
       "      <td>13.0</td>\n",
       "      <td>cleaning</td>\n",
       "      <td>NaN</td>\n",
       "      <td>1Zone</td>\n",
       "      <td>5_Zone</td>\n",
       "      <td>NoOtherZone</td>\n",
       "      <td>2Zone</td>\n",
       "    </tr>\n",
       "    <tr>\n",
       "      <th>280</th>\n",
       "      <td>2020-10-17 14:13:14</td>\n",
       "      <td>59</td>\n",
       "      <td>hen_11</td>\n",
       "      <td>3Zone</td>\n",
       "      <td>5.0</td>\n",
       "      <td>0</td>\n",
       "      <td>3 - 5</td>\n",
       "      <td>2020-10-17</td>\n",
       "      <td>students</td>\n",
       "      <td>10.0</td>\n",
       "      <td>...</td>\n",
       "      <td>3_Zone</td>\n",
       "      <td>5_Zone</td>\n",
       "      <td>16.0</td>\n",
       "      <td>5.0</td>\n",
       "      <td>cleaning</td>\n",
       "      <td>NaN</td>\n",
       "      <td>5Zone</td>\n",
       "      <td>4_Zone</td>\n",
       "      <td>2_Zone</td>\n",
       "      <td>5Zone</td>\n",
       "    </tr>\n",
       "    <tr>\n",
       "      <th>622</th>\n",
       "      <td>2020-10-17 11:43:12</td>\n",
       "      <td>62</td>\n",
       "      <td>hen_12</td>\n",
       "      <td>5Zone</td>\n",
       "      <td>5.0</td>\n",
       "      <td>1</td>\n",
       "      <td>3 - 5</td>\n",
       "      <td>2020-10-17</td>\n",
       "      <td>students</td>\n",
       "      <td>10.0</td>\n",
       "      <td>...</td>\n",
       "      <td>5_Zone</td>\n",
       "      <td>3_Zone</td>\n",
       "      <td>142.0</td>\n",
       "      <td>199.0</td>\n",
       "      <td>cleaning</td>\n",
       "      <td>NaN</td>\n",
       "      <td>3Zone</td>\n",
       "      <td>2_Zone</td>\n",
       "      <td>4_Zone</td>\n",
       "      <td>5Zone</td>\n",
       "    </tr>\n",
       "  </tbody>\n",
       "</table>\n",
       "<p>3253 rows × 31 columns</p>\n",
       "</div>"
      ],
      "text/plain": [
       "               Timestamp  TagID    HenID   Zone  PenID  VideoAnalyse   system  \\\n",
       "414  2020-10-19 11:40:28     59   hen_11  3Zone    5.0             0    3 - 5   \n",
       "1976 2020-10-16 13:22:14     78  hen_151  3Zone    8.0             1    8 - 9   \n",
       "2035 2020-10-17 13:43:28      2   hen_40  3Zone    3.0             1    3 - 5   \n",
       "2223 2020-10-18 12:46:12    125   hen_54  2Zone   10.0             1  10 - 12   \n",
       "3178 2020-10-25 10:02:33    139   hen_65  4Zone   10.0             1  10 - 12   \n",
       "...                  ...    ...      ...    ...    ...           ...      ...   \n",
       "2483 2020-10-16 16:41:33      8   hen_20  3Zone    3.0             1    3 - 5   \n",
       "853  2020-10-18 16:01:53     76   hen_62  2Zone    8.0             1    8 - 9   \n",
       "1912 2020-10-17 14:42:06     90  hen_158  2Zone    8.0             1    8 - 9   \n",
       "280  2020-10-17 14:13:14     59   hen_11  3Zone    5.0             0    3 - 5   \n",
       "622  2020-10-17 11:43:12     62   hen_12  5Zone    5.0             1    3 - 5   \n",
       "\n",
       "           date      type  signalstrength  ...  previous4zone  previous5zone  \\\n",
       "414  2020-10-19  students            12.0  ...         3_Zone         5_Zone   \n",
       "1976 2020-10-16  students            16.0  ...         1_Zone         2_Zone   \n",
       "2035 2020-10-17  students            13.0  ...         3_Zone         2_Zone   \n",
       "2223 2020-10-18  students             7.0  ...         3_Zone         2_Zone   \n",
       "3178 2020-10-25  students            19.0  ...         4_Zone         3_Zone   \n",
       "...         ...       ...             ...  ...            ...            ...   \n",
       "2483 2020-10-16  students            11.0  ...         4_Zone         5_Zone   \n",
       "853  2020-10-18  students            17.0  ...         2_Zone         1_Zone   \n",
       "1912 2020-10-17  students             7.0  ...         2_Zone         1_Zone   \n",
       "280  2020-10-17  students            10.0  ...         3_Zone         5_Zone   \n",
       "622  2020-10-17  students            10.0  ...         5_Zone         3_Zone   \n",
       "\n",
       "      duration previousduration  algotype BatchID zone2match   zone3match  \\\n",
       "414       47.0              3.0  cleaning     NaN      5Zone       2_Zone   \n",
       "1976      39.0             39.0  cleaning     NaN      2Zone       5_Zone   \n",
       "2035      12.0             99.0  cleaning     NaN      3Zone  NoOtherZone   \n",
       "2223     106.0             52.0  cleaning     NaN      3Zone    miniZone3   \n",
       "3178     408.0           1142.0  cleaning     NaN      5Zone       3_Zone   \n",
       "...        ...              ...       ...     ...        ...          ...   \n",
       "2483      21.0             37.0  cleaning     NaN      3Zone       4_Zone   \n",
       "853       66.0             70.0  cleaning     NaN      5Zone       3_Zone   \n",
       "1912      40.0             13.0  cleaning     NaN      1Zone       5_Zone   \n",
       "280       16.0              5.0  cleaning     NaN      5Zone       4_Zone   \n",
       "622      142.0            199.0  cleaning     NaN      3Zone       2_Zone   \n",
       "\n",
       "       zone4match ObservedZone  \n",
       "414        4_Zone        5Zone  \n",
       "1976    miniZone3        3Zone  \n",
       "2035  NoOtherZone        3Zone  \n",
       "2223  NoOtherZone        2Zone  \n",
       "3178    miniZone3        4Zone  \n",
       "...           ...          ...  \n",
       "2483  NoOtherZone        3Zone  \n",
       "853   NoOtherZone        2Zone  \n",
       "1912  NoOtherZone        2Zone  \n",
       "280        2_Zone        5Zone  \n",
       "622        4_Zone        5Zone  \n",
       "\n",
       "[3253 rows x 31 columns]"
      ]
     },
     "execution_count": 10,
     "metadata": {},
     "output_type": "execute_result"
    }
   ],
   "source": [
    "#show rows with at least one nan\n",
    "df[df.isna().any(axis=1)]"
   ]
  },
  {
   "cell_type": "code",
   "execution_count": 11,
   "metadata": {},
   "outputs": [],
   "source": [
    "df_testing = df[df['algotype']=='verification'].copy()\n",
    "df_cleaning = df[df['algotype']=='cleaning'].copy()"
   ]
  },
  {
   "cell_type": "code",
   "execution_count": 12,
   "metadata": {},
   "outputs": [
    {
     "data": {
      "text/plain": [
       "1    2517\n",
       "0     736\n",
       "Name: VideoAnalyse, dtype: int64"
      ]
     },
     "execution_count": 12,
     "metadata": {},
     "output_type": "execute_result"
    }
   ],
   "source": [
    "df_cleaning['VideoAnalyse'].value_counts()"
   ]
  },
  {
   "cell_type": "code",
   "execution_count": 13,
   "metadata": {},
   "outputs": [
    {
     "name": "stdout",
     "output_type": "stream",
     "text": [
      "(281, 31) (3253, 31)\n"
     ]
    }
   ],
   "source": [
    "print(df_testing.shape, df_cleaning.shape)"
   ]
  },
  {
   "cell_type": "markdown",
   "metadata": {},
   "source": [
    "# Split into training and validation (for parameter tuning)"
   ]
  },
  {
   "cell_type": "code",
   "execution_count": 14,
   "metadata": {},
   "outputs": [
    {
     "name": "stdout",
     "output_type": "stream",
     "text": [
      "(3253, 21) (3253, 1)\n",
      "(281, 21) (281, 1)\n"
     ]
    }
   ],
   "source": [
    "#transform categorical data into dumies\n",
    "df_cl_d = pd.get_dummies(df_cleaning.filter(li_cont_select+li_cat_select, axis=1), columns=li_cat_select, drop_first=True)\n",
    "df_te_d = pd.get_dummies(df_testing.filter(li_cont_select+li_cat_select, axis=1), columns=li_cat_select, drop_first=True)\n",
    "\n",
    "if len(df_te_d.columns)!=len(df_cl_d.columns):\n",
    "    print('the test set does not have the same amount of features than the cleaning set, certainly due to low amount of data,\\\n",
    "    Please remove some varibles that has missing values in the testing set')\n",
    "    sys.exit()\n",
    "    \n",
    "#train\n",
    "X_train = df_cl_d.values\n",
    "y_train = df_cleaning[['VideoAnalyse']].values\n",
    "print(X_train.shape, y_train.shape)\n",
    "\n",
    "#test\n",
    "X_test = df_te_d.values\n",
    "y_test = df_testing[['VideoAnalyse']].values\n",
    "print(X_test.shape, y_test.shape)\n",
    "\n",
    "#var name\n",
    "var_name = df_cl_d.columns\n",
    "\n",
    "#scaler = MinMaxScaler()\n",
    "#X_train = scaler.fit_transform(X_train)\n",
    "#X_test = scaler.transform(X_test) \n",
    "\n",
    "#split training into validation\n",
    "state = 10  \n",
    "val_size = 0.25  \n",
    "X_train, X_val, y_train, y_val = train_test_split(X_train, y_train, test_size=val_size, random_state=state)"
   ]
  },
  {
   "cell_type": "markdown",
   "metadata": {},
   "source": [
    "# Model"
   ]
  },
  {
   "cell_type": "code",
   "execution_count": 15,
   "metadata": {
    "scrolled": true
   },
   "outputs": [
    {
     "name": "stderr",
     "output_type": "stream",
     "text": [
      "C:\\Users\\camil\\Anaconda3\\lib\\site-packages\\sklearn\\utils\\validation.py:72: DataConversionWarning: A column-vector y was passed when a 1d array was expected. Please change the shape of y to (n_samples, ), for example using ravel().\n",
      "  return f(**kwargs)\n",
      "C:\\Users\\camil\\Anaconda3\\lib\\site-packages\\sklearn\\utils\\validation.py:72: DataConversionWarning: A column-vector y was passed when a 1d array was expected. Please change the shape of y to (n_samples, ), for example using ravel().\n",
      "  return f(**kwargs)\n",
      "C:\\Users\\camil\\Anaconda3\\lib\\site-packages\\sklearn\\utils\\validation.py:72: DataConversionWarning: A column-vector y was passed when a 1d array was expected. Please change the shape of y to (n_samples, ), for example using ravel().\n",
      "  return f(**kwargs)\n",
      "C:\\Users\\camil\\Anaconda3\\lib\\site-packages\\sklearn\\utils\\validation.py:72: DataConversionWarning: A column-vector y was passed when a 1d array was expected. Please change the shape of y to (n_samples, ), for example using ravel().\n",
      "  return f(**kwargs)\n",
      "C:\\Users\\camil\\Anaconda3\\lib\\site-packages\\sklearn\\utils\\validation.py:72: DataConversionWarning: A column-vector y was passed when a 1d array was expected. Please change the shape of y to (n_samples, ), for example using ravel().\n",
      "  return f(**kwargs)\n",
      "C:\\Users\\camil\\Anaconda3\\lib\\site-packages\\sklearn\\utils\\validation.py:72: DataConversionWarning: A column-vector y was passed when a 1d array was expected. Please change the shape of y to (n_samples, ), for example using ravel().\n",
      "  return f(**kwargs)\n",
      "C:\\Users\\camil\\Anaconda3\\lib\\site-packages\\sklearn\\utils\\validation.py:72: DataConversionWarning: A column-vector y was passed when a 1d array was expected. Please change the shape of y to (n_samples, ), for example using ravel().\n",
      "  return f(**kwargs)\n",
      "C:\\Users\\camil\\Anaconda3\\lib\\site-packages\\sklearn\\utils\\validation.py:72: DataConversionWarning: A column-vector y was passed when a 1d array was expected. Please change the shape of y to (n_samples, ), for example using ravel().\n",
      "  return f(**kwargs)\n",
      "C:\\Users\\camil\\Anaconda3\\lib\\site-packages\\sklearn\\utils\\validation.py:72: DataConversionWarning: A column-vector y was passed when a 1d array was expected. Please change the shape of y to (n_samples, ), for example using ravel().\n",
      "  return f(**kwargs)\n",
      "C:\\Users\\camil\\Anaconda3\\lib\\site-packages\\sklearn\\utils\\validation.py:72: DataConversionWarning: A column-vector y was passed when a 1d array was expected. Please change the shape of y to (n_samples, ), for example using ravel().\n",
      "  return f(**kwargs)\n",
      "C:\\Users\\camil\\Anaconda3\\lib\\site-packages\\sklearn\\utils\\validation.py:72: DataConversionWarning: A column-vector y was passed when a 1d array was expected. Please change the shape of y to (n_samples, ), for example using ravel().\n",
      "  return f(**kwargs)\n",
      "C:\\Users\\camil\\Anaconda3\\lib\\site-packages\\sklearn\\utils\\validation.py:72: DataConversionWarning: A column-vector y was passed when a 1d array was expected. Please change the shape of y to (n_samples, ), for example using ravel().\n",
      "  return f(**kwargs)\n",
      "C:\\Users\\camil\\Anaconda3\\lib\\site-packages\\sklearn\\utils\\validation.py:72: DataConversionWarning: A column-vector y was passed when a 1d array was expected. Please change the shape of y to (n_samples, ), for example using ravel().\n",
      "  return f(**kwargs)\n",
      "C:\\Users\\camil\\Anaconda3\\lib\\site-packages\\sklearn\\utils\\validation.py:72: DataConversionWarning: A column-vector y was passed when a 1d array was expected. Please change the shape of y to (n_samples, ), for example using ravel().\n",
      "  return f(**kwargs)\n"
     ]
    },
    {
     "data": {
      "image/png": "[encoded data removed]",
      "text/plain": [
       "<Figure size 432x288 with 1 Axes>"
      ]
     },
     "metadata": {
      "needs_background": "light"
     },
     "output_type": "display_data"
    }
   ],
   "source": [
    "lr_list = [0.05, 0.075, 0.1, 0.25, 0.5, 0.75, 1]\n",
    "li_dico = []\n",
    "for lr in lr_list:\n",
    "    dico_mod = {#'GaussianProcessClassifier': GaussianProcessClassifier(1.0 * RBF(1.0), learning_rate=lr), \n",
    "                #'RandomForest':RandomForestClassifier(max_depth=5, n_estimators=10, max_features=1, learning_rate=lr),\n",
    "                 #'RBF SVM':SVC(gamma=2, C=1, learning_rate=lr),\n",
    "                 #'neural net':MLPClassifier(alpha=1, max_iter=1000, learning_rate=lr),\n",
    "                 #'naive bayes':GaussianNB(learning_rate=lr),\n",
    "                 'XGB': XGBClassifier(learning_rate=lr),\n",
    "                 'GradientBoostingClassifier': GradientBoostingClassifier(n_estimators=20, learning_rate=lr, max_features=2, \n",
    "                                        max_depth=2, random_state=0)}\n",
    "    for name,mod in dico_mod.items():\n",
    "        mod.fit(X_train, y_train)\n",
    "        li_dico.append({'algo':name, 'learning_rate':lr, 'type':'validation','accuracy':round(mod.score(X_val, y_val),2)})\n",
    "        li_dico.append({'algo':name, 'learning_rate':lr, 'type':'training', 'accuracy':round(mod.score(X_train, y_train),2)})\n",
    "\n",
    "#Alternatively, you could predict the X_val data and then check the accuracy against the y_val by using accuracy_score. \n",
    "#It should give you the same kind of result.\n",
    "df_result = pd.DataFrame(li_dico)\n",
    "sns.lineplot(data=df_result, x=\"learning_rate\", y=\"accuracy\", hue=\"algo\", style=\"type\");\n",
    "#plt.savefig(os.path.join(path_extracted_data_cleaning,id_run+'_ClassifierParamTuningLearningRate.png'), bbox_inches='tight')"
   ]
  },
  {
   "cell_type": "code",
   "execution_count": 16,
   "metadata": {
    "scrolled": true
   },
   "outputs": [
    {
     "name": "stderr",
     "output_type": "stream",
     "text": [
      "C:\\Users\\camil\\Anaconda3\\lib\\site-packages\\ipykernel_launcher.py:12: DataConversionWarning: A column-vector y was passed when a 1d array was expected. Please change the shape of y to (n_samples,), for example using ravel().\n",
      "  if sys.path[0] == '':\n",
      "C:\\Users\\camil\\Anaconda3\\lib\\site-packages\\sklearn\\utils\\validation.py:72: DataConversionWarning: A column-vector y was passed when a 1d array was expected. Please change the shape of y to (n_samples, ), for example using ravel().\n",
      "  return f(**kwargs)\n",
      "C:\\Users\\camil\\Anaconda3\\lib\\site-packages\\sklearn\\utils\\validation.py:72: DataConversionWarning: A column-vector y was passed when a 1d array was expected. Please change the shape of y to (n_samples, ), for example using ravel().\n",
      "  return f(**kwargs)\n",
      "C:\\Users\\camil\\Anaconda3\\lib\\site-packages\\ipykernel_launcher.py:12: DataConversionWarning: A column-vector y was passed when a 1d array was expected. Please change the shape of y to (n_samples,), for example using ravel().\n",
      "  if sys.path[0] == '':\n",
      "C:\\Users\\camil\\Anaconda3\\lib\\site-packages\\sklearn\\utils\\validation.py:72: DataConversionWarning: A column-vector y was passed when a 1d array was expected. Please change the shape of y to (n_samples, ), for example using ravel().\n",
      "  return f(**kwargs)\n",
      "C:\\Users\\camil\\Anaconda3\\lib\\site-packages\\sklearn\\utils\\validation.py:72: DataConversionWarning: A column-vector y was passed when a 1d array was expected. Please change the shape of y to (n_samples, ), for example using ravel().\n",
      "  return f(**kwargs)\n",
      "C:\\Users\\camil\\Anaconda3\\lib\\site-packages\\ipykernel_launcher.py:12: DataConversionWarning: A column-vector y was passed when a 1d array was expected. Please change the shape of y to (n_samples,), for example using ravel().\n",
      "  if sys.path[0] == '':\n",
      "C:\\Users\\camil\\Anaconda3\\lib\\site-packages\\sklearn\\utils\\validation.py:72: DataConversionWarning: A column-vector y was passed when a 1d array was expected. Please change the shape of y to (n_samples, ), for example using ravel().\n",
      "  return f(**kwargs)\n",
      "C:\\Users\\camil\\Anaconda3\\lib\\site-packages\\sklearn\\utils\\validation.py:72: DataConversionWarning: A column-vector y was passed when a 1d array was expected. Please change the shape of y to (n_samples, ), for example using ravel().\n",
      "  return f(**kwargs)\n",
      "C:\\Users\\camil\\Anaconda3\\lib\\site-packages\\ipykernel_launcher.py:12: DataConversionWarning: A column-vector y was passed when a 1d array was expected. Please change the shape of y to (n_samples,), for example using ravel().\n",
      "  if sys.path[0] == '':\n",
      "C:\\Users\\camil\\Anaconda3\\lib\\site-packages\\sklearn\\utils\\validation.py:72: DataConversionWarning: A column-vector y was passed when a 1d array was expected. Please change the shape of y to (n_samples, ), for example using ravel().\n",
      "  return f(**kwargs)\n",
      "C:\\Users\\camil\\Anaconda3\\lib\\site-packages\\sklearn\\utils\\validation.py:72: DataConversionWarning: A column-vector y was passed when a 1d array was expected. Please change the shape of y to (n_samples, ), for example using ravel().\n",
      "  return f(**kwargs)\n",
      "C:\\Users\\camil\\Anaconda3\\lib\\site-packages\\ipykernel_launcher.py:12: DataConversionWarning: A column-vector y was passed when a 1d array was expected. Please change the shape of y to (n_samples,), for example using ravel().\n",
      "  if sys.path[0] == '':\n",
      "C:\\Users\\camil\\Anaconda3\\lib\\site-packages\\sklearn\\utils\\validation.py:72: DataConversionWarning: A column-vector y was passed when a 1d array was expected. Please change the shape of y to (n_samples, ), for example using ravel().\n",
      "  return f(**kwargs)\n",
      "C:\\Users\\camil\\Anaconda3\\lib\\site-packages\\sklearn\\utils\\validation.py:72: DataConversionWarning: A column-vector y was passed when a 1d array was expected. Please change the shape of y to (n_samples, ), for example using ravel().\n",
      "  return f(**kwargs)\n",
      "C:\\Users\\camil\\Anaconda3\\lib\\site-packages\\ipykernel_launcher.py:12: DataConversionWarning: A column-vector y was passed when a 1d array was expected. Please change the shape of y to (n_samples,), for example using ravel().\n",
      "  if sys.path[0] == '':\n",
      "C:\\Users\\camil\\Anaconda3\\lib\\site-packages\\sklearn\\utils\\validation.py:72: DataConversionWarning: A column-vector y was passed when a 1d array was expected. Please change the shape of y to (n_samples, ), for example using ravel().\n",
      "  return f(**kwargs)\n",
      "C:\\Users\\camil\\Anaconda3\\lib\\site-packages\\sklearn\\utils\\validation.py:72: DataConversionWarning: A column-vector y was passed when a 1d array was expected. Please change the shape of y to (n_samples, ), for example using ravel().\n",
      "  return f(**kwargs)\n",
      "C:\\Users\\camil\\Anaconda3\\lib\\site-packages\\ipykernel_launcher.py:12: DataConversionWarning: A column-vector y was passed when a 1d array was expected. Please change the shape of y to (n_samples,), for example using ravel().\n",
      "  if sys.path[0] == '':\n",
      "C:\\Users\\camil\\Anaconda3\\lib\\site-packages\\sklearn\\utils\\validation.py:72: DataConversionWarning: A column-vector y was passed when a 1d array was expected. Please change the shape of y to (n_samples, ), for example using ravel().\n",
      "  return f(**kwargs)\n",
      "C:\\Users\\camil\\Anaconda3\\lib\\site-packages\\sklearn\\utils\\validation.py:72: DataConversionWarning: A column-vector y was passed when a 1d array was expected. Please change the shape of y to (n_samples, ), for example using ravel().\n",
      "  return f(**kwargs)\n"
     ]
    },
    {
     "data": {
      "image/png": "[encoded data removed]",
      "text/plain": [
       "<Figure size 432x288 with 1 Axes>"
      ]
     },
     "metadata": {
      "needs_background": "light"
     },
     "output_type": "display_data"
    }
   ],
   "source": [
    "li_dico = []\n",
    "for md in [2,3,4,5,6,7,8]:\n",
    "    dico_mod = {#'GaussianProcessClassifier': GaussianProcessClassifier(1.0 * RBF(1.0), max_depth=md), \n",
    "                'RandomForest':RandomForestClassifier(n_estimators=10, max_features=1, max_depth=md),\n",
    "                #'RBF SVM':SVC(gamma=2, C=1, max_depth=md),\n",
    "                #'neural net':MLPClassifier(alpha=1, max_iter=1000, max_depth=md),\n",
    "                #'naive bayes':GaussianNB(max_depth=md),\n",
    "                'XGB': XGBClassifier(learning_rate=0.5, max_depth=md),\n",
    "                'GradientBoostingClassifier': GradientBoostingClassifier(n_estimators=20, learning_rate=0.15, max_features=2, \n",
    "                                        max_depth=md, random_state=0)}\n",
    "    for name,mod in dico_mod.items():\n",
    "        mod.fit(X_train, y_train)\n",
    "        li_dico.append({'algo':name, 'max depth':md, 'type':'validation','accuracy':round(mod.score(X_val, y_val),2)})\n",
    "        li_dico.append({'algo':name, 'max depth':md, 'type':'training', 'accuracy':round(mod.score(X_train, y_train),2)})\n",
    "\n",
    "#Alternatively, you could predict the X_val data and then check the accuracy against the y_val by using accuracy_score. \n",
    "#It should give you the same kind of result.\n",
    "df_result = pd.DataFrame(li_dico)\n",
    "sns.lineplot(data=df_result, x=\"max depth\", y=\"accuracy\", hue=\"algo\", style=\"type\");\n",
    "#plt.savefig(os.path.join(path_extracted_data_cleaning,id_run+'_ClassifierParamTuningMaxdepth.png'), bbox_inches='tight')"
   ]
  },
  {
   "cell_type": "markdown",
   "metadata": {},
   "source": [
    "### fit best model"
   ]
  },
  {
   "cell_type": "code",
   "execution_count": 17,
   "metadata": {},
   "outputs": [],
   "source": [
    "#https://www.kaggle.com/ericbae731/feature-importance-of-gradient-boosting-simple"
   ]
  },
  {
   "cell_type": "code",
   "execution_count": 18,
   "metadata": {},
   "outputs": [
    {
     "name": "stderr",
     "output_type": "stream",
     "text": [
      "C:\\Users\\camil\\Anaconda3\\lib\\site-packages\\sklearn\\utils\\validation.py:72: DataConversionWarning: A column-vector y was passed when a 1d array was expected. Please change the shape of y to (n_samples, ), for example using ravel().\n",
      "  return f(**kwargs)\n"
     ]
    },
    {
     "data": {
      "text/plain": [
       "XGBClassifier(learning_rate=0.5)"
      ]
     },
     "execution_count": 18,
     "metadata": {},
     "output_type": "execute_result"
    }
   ],
   "source": [
    "model = XGBClassifier(learning_rate=0.5, max_depth=3)\n",
    "model.fit(X_train, y_train)"
   ]
  },
  {
   "cell_type": "markdown",
   "metadata": {},
   "source": [
    "TODO\n",
    "#choose parameters!!\n",
    "GradientBoostingClassifier(loss=’deviance’, learning_rate=0.1, n_estimators=100, \n",
    "                            subsample=1.0, criterion=’friedman_mse’, min_samples_split=2, \n",
    "                            min_samples_leaf=1, min_weight_fraction_leaf=0.0, max_depth=3, \n",
    "                            min_impurity_decrease=0.0, min_impurity_split=None, init=None, \n",
    "                            random_state=None, max_features=None, verbose=0, max_leaf_nodes=None, \n",
    "                            warm_start=False, presort=’auto’, validation_fraction=0.1, n_iter_no_change=None, tol=0.0001)\n",
    "\n",
    "clf = GradientBoostingClassifier(n_estimators=100, learning_rate=0.05, max_depth=5, random_state=0)\n",
    "clf.fit(tr_x, tr_y)"
   ]
  },
  {
   "cell_type": "markdown",
   "metadata": {},
   "source": [
    "# Feature importance"
   ]
  },
  {
   "cell_type": "markdown",
   "metadata": {},
   "source": [
    "#plot feature importance: Fscore!\n",
    "plot_importance(model)\n",
    "plt.show()"
   ]
  },
  {
   "cell_type": "markdown",
   "metadata": {
    "scrolled": true
   },
   "source": [
    "#old\n",
    "#https://scikit-learn.org/stable/modules/generated/sklearn.svm.SVR.html#sklearn.svm.SVR\n",
    "feature_importance = model.feature_importances_\n",
    "#make importances relative to max importance\n",
    "#feature_importance = 100.0 * (feature_importance / feature_importance.max())\n",
    "sorted_idx = np.argsort(feature_importance)\n",
    "pos = np.arange(sorted_idx.shape[0]) + .5\n",
    "#plt.subplot(1, 2, 2)\n",
    "plt.figure(figsize=(3, 7))\n",
    "plt.barh(pos, feature_importance[sorted_idx], align='center')\n",
    "plt.yticks(pos, var_name[sorted_idx])\n",
    "plt.xlabel('Relative Importance')\n",
    "plt.title('Variable Importance')\n",
    "plt.show()"
   ]
  },
  {
   "cell_type": "code",
   "execution_count": 19,
   "metadata": {},
   "outputs": [
    {
     "data": {
      "image/png": "[encoded data removed]",
      "text/plain": [
       "<Figure size 216x504 with 1 Axes>"
      ]
     },
     "metadata": {
      "needs_background": "light"
     },
     "output_type": "display_data"
    }
   ],
   "source": [
    "feature_importance = model.feature_importances_\n",
    "# make importances relative to max importance\n",
    "#feature_importance = 100.0 * (feature_importance / feature_importance.max())\n",
    "dico_f_imp = {var_name[i]:feature_importance[i] for i in range(0,len(var_name))}\n",
    "#display(dico_f_imp)\n",
    "dico_fg_imp = {x.split('_')[0]:sum([dico_f_imp[i] for i in dico_f_imp.keys() if i.split('_')[0]==x.split('_')[0]]) for x in dico_f_imp.keys()}\n",
    "#display(dico_fg_imp)\n",
    "#sort the dictionary by the importance values\n",
    "dico_fg_imp_sorted = {k: v for k, v in sorted(dico_fg_imp.items(), key=lambda item: item[1])}\n",
    "plt.figure(figsize=(3, 7))\n",
    "pos = [i+0.5 for i in range(0,len(dico_fg_imp))]\n",
    "plt.barh(pos, dico_fg_imp_sorted.values(), align='center')\n",
    "plt.yticks(pos, dico_fg_imp_sorted.keys())\n",
    "plt.xlabel('Relative Importance')\n",
    "plt.title('Variable Importance')\n",
    "plt.savefig(os.path.join(path_extracted_data_cleaning,'FeaturesImportance.png'), bbox_inches='tight')\n",
    "plt.show()"
   ]
  },
  {
   "cell_type": "markdown",
   "metadata": {},
   "source": [
    "### Relevance of algorithm on validation data"
   ]
  },
  {
   "cell_type": "code",
   "execution_count": 20,
   "metadata": {
    "scrolled": true
   },
   "outputs": [
    {
     "name": "stderr",
     "output_type": "stream",
     "text": [
      "C:\\Users\\camil\\Anaconda3\\lib\\site-packages\\sklearn\\utils\\validation.py:70: FutureWarning: Pass labels=[0, 1] as keyword args. From version 0.25 passing these as positional arguments will result in an error\n",
      "  FutureWarning)\n"
     ]
    },
    {
     "data": {
      "image/png": "[encoded data removed]",
      "text/plain": [
       "<Figure size 360x360 with 2 Axes>"
      ]
     },
     "metadata": {
      "needs_background": "light"
     },
     "output_type": "display_data"
    }
   ],
   "source": [
    "ConfMat(li_true=y_val, \n",
    "        li_pred=model.predict(X_val), \n",
    "        labels=[0,1], \n",
    "        path_save=os.path.join(path_extracted_data_cleaning,id_run+'_CM_model_validating.png'), \n",
    "        xlabel_='Tracking system & algorithm')"
   ]
  },
  {
   "cell_type": "markdown",
   "metadata": {},
   "source": [
    "# Relevance on TESTING DATA"
   ]
  },
  {
   "cell_type": "raw",
   "metadata": {},
   "source": [
    "read for evaluation measures: \n",
    "https://towardsdatascience.com/how-to-evaluate-your-machine-learning-models-with-python-code-5f8d2d8d945b\n",
    "https://scikit-learn.org/stable/modules/generated/sklearn.metrics.cohen_kappa_score.html\n",
    "cohen_kappa_score(y_test, predictions, weights = \"quadratic\")"
   ]
  },
  {
   "cell_type": "code",
   "execution_count": 22,
   "metadata": {},
   "outputs": [],
   "source": [
    "##########################################################################################################\n",
    "################################################ predict #################################################\n",
    "##########################################################################################################\n",
    "#transform categorical data into dumies\n",
    "df_te_d = pd.get_dummies(df_testing.filter(li_cont_select+li_cat_select, axis=1), columns=li_cat_select, drop_first=True)\n",
    "X_test = df_te_d.values\n",
    "#y_test = df_testing[['VideoAnalyse']].values\n",
    "predictions = model.predict(X_test)\n",
    "df_testing['model_prediction'] = predictions\n",
    "df_testing.groupby(['Zone','model_prediction'])['date'].count().reset_index()\n",
    "#add the zone that would be selected with this algorithm output: if==0, then the true zone is the one before\n",
    "df_testing['model_prediction'] = df_testing['model_prediction'].astype(str)\n",
    "df_testing['model_ObservedZone'] = df_testing.apply(lambda x: x['Zone'] if x['model_prediction']=='1' else x['previous1zone'],\n",
    "                                                    axis=1)\n",
    "#save\n",
    "df_testing.to_csv(os.path.join(path_extracted_data_cleaning, id_run+'_TestingMethods.csv'), \n",
    "                      index=False, sep=';')\n",
    "#display(df_testing.head(3))"
   ]
  },
  {
   "cell_type": "code",
   "execution_count": 53,
   "metadata": {},
   "outputs": [
    {
     "name": "stderr",
     "output_type": "stream",
     "text": [
      "100%|████████████████████████████████████████████████████████████████████████████████████| 3/3 [00:00<00:00, 66.31it/s]\n"
     ]
    },
    {
     "data": {
      "text/plain": [
       "[[('ID16', 'ID7', 'ID1', 'ID6', 'ID13'),\n",
       "  ('ID15', 'ID12', 'ID11', 'ID4', 'ID9')],\n",
       " [('ID2', 'ID12', 'ID4', 'ID7', 'ID1'),\n",
       "  ('ID15', 'ID11', 'ID9', 'ID10', 'ID8')],\n",
       " [('ID15', 'ID2', 'ID9', 'ID7', 'ID8'),\n",
       "  ('ID14', 'ID16', 'ID11', 'ID4', 'ID1')],\n",
       " [('ID15', 'ID2', 'ID14', 'ID1', 'ID6', 'ID8'),\n",
       "  ('ID12', 'ID4', 'ID9', 'ID10', 'ID13', 'ID3')],\n",
       " [('ID14', 'ID16', 'ID11', 'ID7', 'ID1', 'ID13'),\n",
       "  ('ID12', 'ID4', 'ID9', 'ID10', 'ID6', 'ID3')],\n",
       " [('ID5', 'ID14', 'ID7', 'ID1', 'ID10', 'ID6'),\n",
       "  ('ID15', 'ID2', 'ID16', 'ID11', 'ID13', 'ID3')],\n",
       " [('ID15', 'ID5', 'ID14', 'ID11', 'ID1', 'ID8', 'ID3'),\n",
       "  ('ID12', 'ID16', 'ID4', 'ID9', 'ID7', 'ID6', 'ID13')],\n",
       " [('ID15', 'ID12', 'ID4', 'ID7', 'ID1', 'ID8', 'ID13'),\n",
       "  ('ID14', 'ID16', 'ID11', 'ID9', 'ID10', 'ID6', 'ID3')],\n",
       " [('ID15', 'ID2', 'ID4', 'ID7', 'ID10', 'ID6', 'ID8'),\n",
       "  ('ID12', 'ID5', 'ID14', 'ID16', 'ID11', 'ID13', 'ID3')]]"
      ]
     },
     "execution_count": 53,
     "metadata": {},
     "output_type": "execute_result"
    }
   ],
   "source": [
    "##########################################################################################################\n",
    "################################# select pairs' combinations of batches ##################################\n",
    "##########################################################################################################\n",
    "\n",
    "#number of combination to run for each size\n",
    "nbr_comb = 3\n",
    "#minimum nbr of batches to have in a run\n",
    "min_nbr_batch = 5 #5 is the minimum for transition reliability\n",
    "\n",
    "#compute all possible batch combinations of any size\n",
    "li_batch = df_testing['BatchID'].unique()\n",
    "li_batch_combination = list(all_subsets(li_batch))\n",
    "\n",
    "#list of distinct pairs of batch combinations of different size\n",
    "li_selected_combination_pairs = []\n",
    "#to have distinct pairs, we cant do more than half of what we have\n",
    "for nbr_batch in tqdm.tqdm(range(min_nbr_batch, int(len(li_batch)/2))):\n",
    "    li_sel = []\n",
    "    li = [x for x in li_batch_combination if len(x)==nbr_batch]\n",
    "    while len(li_sel)!=nbr_comb:\n",
    "        li = shuffle(li)\n",
    "        x1 = li[0]\n",
    "        for l in li:\n",
    "            if 2*len(l)==len(set(l+x1)):\n",
    "                li_sel.append([x1,l])\n",
    "                break\n",
    "    li_selected_combination_pairs.extend(li_sel)\n",
    "li_selected_combination_pairs"
   ]
  },
  {
   "cell_type": "code",
   "execution_count": null,
   "metadata": {},
   "outputs": [],
   "source": []
  },
  {
   "cell_type": "code",
   "execution_count": null,
   "metadata": {},
   "outputs": [],
   "source": []
  },
  {
   "cell_type": "code",
   "execution_count": 33,
   "metadata": {
    "scrolled": true
   },
   "outputs": [
    {
     "name": "stderr",
     "output_type": "stream",
     "text": [
      "  0%|                                                                                           | 0/11 [00:00<?, ?it/s]C:\\Users\\camil\\Anaconda3\\lib\\site-packages\\ipykernel_launcher.py:70: FutureWarning: Indexing with multiple keys (implicitly converted to a tuple of keys) will be deprecated, use a list instead.\n",
      "C:\\Users\\camil\\Anaconda3\\lib\\site-packages\\pingouin\\parametric.py:978: RuntimeWarning: divide by zero encountered in double_scalars\n",
      "  fval = msbetween / mserror\n",
      "C:\\Users\\camil\\Anaconda3\\lib\\site-packages\\ipykernel_launcher.py:70: FutureWarning: Indexing with multiple keys (implicitly converted to a tuple of keys) will be deprecated, use a list instead.\n",
      "C:\\Users\\camil\\Anaconda3\\lib\\site-packages\\ipykernel_launcher.py:70: FutureWarning: Indexing with multiple keys (implicitly converted to a tuple of keys) will be deprecated, use a list instead.\n",
      "  9%|███████▍                                                                          | 1/11 [03:21<33:33, 201.39s/it]C:\\Users\\camil\\Anaconda3\\lib\\site-packages\\ipykernel_launcher.py:70: FutureWarning: Indexing with multiple keys (implicitly converted to a tuple of keys) will be deprecated, use a list instead.\n",
      "C:\\Users\\camil\\Anaconda3\\lib\\site-packages\\ipykernel_launcher.py:70: FutureWarning: Indexing with multiple keys (implicitly converted to a tuple of keys) will be deprecated, use a list instead.\n",
      "C:\\Users\\camil\\Anaconda3\\lib\\site-packages\\ipykernel_launcher.py:70: FutureWarning: Indexing with multiple keys (implicitly converted to a tuple of keys) will be deprecated, use a list instead.\n",
      " 18%|██████████████▉                                                                   | 2/11 [06:44<30:17, 201.95s/it]C:\\Users\\camil\\Anaconda3\\lib\\site-packages\\ipykernel_launcher.py:70: FutureWarning: Indexing with multiple keys (implicitly converted to a tuple of keys) will be deprecated, use a list instead.\n",
      "C:\\Users\\camil\\Anaconda3\\lib\\site-packages\\ipykernel_launcher.py:70: FutureWarning: Indexing with multiple keys (implicitly converted to a tuple of keys) will be deprecated, use a list instead.\n",
      "C:\\Users\\camil\\Anaconda3\\lib\\site-packages\\sklearn\\metrics\\_classification.py:1221: UndefinedMetricWarning: Precision and F-score are ill-defined and being set to 0.0 in labels with no predicted samples. Use `zero_division` parameter to control this behavior.\n",
      "  _warn_prf(average, modifier, msg_start, len(result))\n",
      "C:\\Users\\camil\\Anaconda3\\lib\\site-packages\\ipykernel_launcher.py:70: FutureWarning: Indexing with multiple keys (implicitly converted to a tuple of keys) will be deprecated, use a list instead.\n",
      " 27%|██████████████████████▎                                                           | 3/11 [12:45<33:16, 249.56s/it]C:\\Users\\camil\\Anaconda3\\lib\\site-packages\\ipykernel_launcher.py:70: FutureWarning: Indexing with multiple keys (implicitly converted to a tuple of keys) will be deprecated, use a list instead.\n",
      "C:\\Users\\camil\\Anaconda3\\lib\\site-packages\\ipykernel_launcher.py:70: FutureWarning: Indexing with multiple keys (implicitly converted to a tuple of keys) will be deprecated, use a list instead.\n",
      "C:\\Users\\camil\\Anaconda3\\lib\\site-packages\\ipykernel_launcher.py:70: FutureWarning: Indexing with multiple keys (implicitly converted to a tuple of keys) will be deprecated, use a list instead.\n",
      " 36%|█████████████████████████████▊                                                    | 4/11 [18:57<33:25, 286.49s/it]C:\\Users\\camil\\Anaconda3\\lib\\site-packages\\ipykernel_launcher.py:70: FutureWarning: Indexing with multiple keys (implicitly converted to a tuple of keys) will be deprecated, use a list instead.\n",
      "C:\\Users\\camil\\Anaconda3\\lib\\site-packages\\ipykernel_launcher.py:70: FutureWarning: Indexing with multiple keys (implicitly converted to a tuple of keys) will be deprecated, use a list instead.\n",
      "C:\\Users\\camil\\Anaconda3\\lib\\site-packages\\ipykernel_launcher.py:70: FutureWarning: Indexing with multiple keys (implicitly converted to a tuple of keys) will be deprecated, use a list instead.\n",
      " 45%|█████████████████████████████████████▎                                            | 5/11 [23:26<28:06, 281.01s/it]C:\\Users\\camil\\Anaconda3\\lib\\site-packages\\ipykernel_launcher.py:70: FutureWarning: Indexing with multiple keys (implicitly converted to a tuple of keys) will be deprecated, use a list instead.\n",
      "C:\\Users\\camil\\Anaconda3\\lib\\site-packages\\ipykernel_launcher.py:70: FutureWarning: Indexing with multiple keys (implicitly converted to a tuple of keys) will be deprecated, use a list instead.\n",
      "C:\\Users\\camil\\Anaconda3\\lib\\site-packages\\ipykernel_launcher.py:70: FutureWarning: Indexing with multiple keys (implicitly converted to a tuple of keys) will be deprecated, use a list instead.\n",
      " 55%|████████████████████████████████████████████▋                                     | 6/11 [30:36<27:08, 325.73s/it]C:\\Users\\camil\\Anaconda3\\lib\\site-packages\\ipykernel_launcher.py:70: FutureWarning: Indexing with multiple keys (implicitly converted to a tuple of keys) will be deprecated, use a list instead.\n",
      "C:\\Users\\camil\\Anaconda3\\lib\\site-packages\\ipykernel_launcher.py:70: FutureWarning: Indexing with multiple keys (implicitly converted to a tuple of keys) will be deprecated, use a list instead.\n",
      "C:\\Users\\camil\\Anaconda3\\lib\\site-packages\\ipykernel_launcher.py:70: FutureWarning: Indexing with multiple keys (implicitly converted to a tuple of keys) will be deprecated, use a list instead.\n",
      " 64%|████████████████████████████████████████████████████▏                             | 7/11 [40:47<27:25, 411.45s/it]C:\\Users\\camil\\Anaconda3\\lib\\site-packages\\ipykernel_launcher.py:70: FutureWarning: Indexing with multiple keys (implicitly converted to a tuple of keys) will be deprecated, use a list instead.\n",
      "C:\\Users\\camil\\Anaconda3\\lib\\site-packages\\ipykernel_launcher.py:70: FutureWarning: Indexing with multiple keys (implicitly converted to a tuple of keys) will be deprecated, use a list instead.\n",
      "C:\\Users\\camil\\Anaconda3\\lib\\site-packages\\ipykernel_launcher.py:70: FutureWarning: Indexing with multiple keys (implicitly converted to a tuple of keys) will be deprecated, use a list instead.\n",
      " 73%|███████████████████████████████████████████████████████████▋                      | 8/11 [48:47<21:35, 431.96s/it]C:\\Users\\camil\\Anaconda3\\lib\\site-packages\\ipykernel_launcher.py:70: FutureWarning: Indexing with multiple keys (implicitly converted to a tuple of keys) will be deprecated, use a list instead.\n",
      "C:\\Users\\camil\\Anaconda3\\lib\\site-packages\\ipykernel_launcher.py:70: FutureWarning: Indexing with multiple keys (implicitly converted to a tuple of keys) will be deprecated, use a list instead.\n",
      "C:\\Users\\camil\\Anaconda3\\lib\\site-packages\\ipykernel_launcher.py:70: FutureWarning: Indexing with multiple keys (implicitly converted to a tuple of keys) will be deprecated, use a list instead.\n",
      " 82%|█████████████████████████████████████████████████████████████████▍              | 9/11 [1:00:22<17:01, 510.89s/it]C:\\Users\\camil\\Anaconda3\\lib\\site-packages\\ipykernel_launcher.py:70: FutureWarning: Indexing with multiple keys (implicitly converted to a tuple of keys) will be deprecated, use a list instead.\n",
      "C:\\Users\\camil\\Anaconda3\\lib\\site-packages\\ipykernel_launcher.py:70: FutureWarning: Indexing with multiple keys (implicitly converted to a tuple of keys) will be deprecated, use a list instead.\n",
      "C:\\Users\\camil\\Anaconda3\\lib\\site-packages\\ipykernel_launcher.py:70: FutureWarning: Indexing with multiple keys (implicitly converted to a tuple of keys) will be deprecated, use a list instead.\n",
      " 91%|███████████████████████████████████████████████████████████████████████▊       | 10/11 [1:19:47<11:47, 707.19s/it]C:\\Users\\camil\\Anaconda3\\lib\\site-packages\\ipykernel_launcher.py:70: FutureWarning: Indexing with multiple keys (implicitly converted to a tuple of keys) will be deprecated, use a list instead.\n",
      "C:\\Users\\camil\\Anaconda3\\lib\\site-packages\\ipykernel_launcher.py:70: FutureWarning: Indexing with multiple keys (implicitly converted to a tuple of keys) will be deprecated, use a list instead.\n",
      "C:\\Users\\camil\\Anaconda3\\lib\\site-packages\\ipykernel_launcher.py:70: FutureWarning: Indexing with multiple keys (implicitly converted to a tuple of keys) will be deprecated, use a list instead.\n"
     ]
    },
    {
     "name": "stderr",
     "output_type": "stream",
     "text": [
      "100%|███████████████████████████████████████████████████████████████████████████████| 11/11 [1:32:42<00:00, 505.69s/it]\n"
     ]
    },
    {
     "name": "stdout",
     "output_type": "stream",
     "text": [
      "Total running time: 92.71 mn\n"
     ]
    },
    {
     "data": {
      "text/html": [
       "<div>\n",
       "<style scoped>\n",
       "    .dataframe tbody tr th:only-of-type {\n",
       "        vertical-align: middle;\n",
       "    }\n",
       "\n",
       "    .dataframe tbody tr th {\n",
       "        vertical-align: top;\n",
       "    }\n",
       "\n",
       "    .dataframe thead th {\n",
       "        text-align: right;\n",
       "    }\n",
       "</style>\n",
       "<table border=\"1\" class=\"dataframe\">\n",
       "  <thead>\n",
       "    <tr style=\"text-align: right;\">\n",
       "      <th></th>\n",
       "      <th>accuracy</th>\n",
       "      <th>ICC</th>\n",
       "      <th>runID</th>\n",
       "      <th>method</th>\n",
       "      <th>reliability_type</th>\n",
       "    </tr>\n",
       "  </thead>\n",
       "  <tbody>\n",
       "    <tr>\n",
       "      <th>0</th>\n",
       "      <td>0.957692</td>\n",
       "      <td>NaN</td>\n",
       "      <td>cc33bb12-2fe0-11eb-86bd-9822ef705bb4</td>\n",
       "      <td>model_ObservedZone</td>\n",
       "      <td>records-01</td>\n",
       "    </tr>\n",
       "    <tr>\n",
       "      <th>1</th>\n",
       "      <td>0.961538</td>\n",
       "      <td>NaN</td>\n",
       "      <td>cc33bb12-2fe0-11eb-86bd-9822ef705bb4</td>\n",
       "      <td>Zone</td>\n",
       "      <td>records-zone</td>\n",
       "    </tr>\n",
       "    <tr>\n",
       "      <th>2</th>\n",
       "      <td>0.976923</td>\n",
       "      <td>NaN</td>\n",
       "      <td>cc33bb12-2fe0-11eb-86bd-9822ef705bb4</td>\n",
       "      <td>model_ObservedZone</td>\n",
       "      <td>records-zone</td>\n",
       "    </tr>\n",
       "    <tr>\n",
       "      <th>3</th>\n",
       "      <td>0.999129</td>\n",
       "      <td>NaN</td>\n",
       "      <td>cc33bb12-2fe0-11eb-86bd-9822ef705bb4</td>\n",
       "      <td>Zone</td>\n",
       "      <td>duration_1secTS</td>\n",
       "    </tr>\n",
       "    <tr>\n",
       "      <th>4</th>\n",
       "      <td>0.997910</td>\n",
       "      <td>NaN</td>\n",
       "      <td>cc33bb12-2fe0-11eb-86bd-9822ef705bb4</td>\n",
       "      <td>model_ObservedZone</td>\n",
       "      <td>duration_1secTS</td>\n",
       "    </tr>\n",
       "    <tr>\n",
       "      <th>5</th>\n",
       "      <td>0.987937</td>\n",
       "      <td>NaN</td>\n",
       "      <td>cc33bb12-2fe0-11eb-86bd-9822ef705bb4</td>\n",
       "      <td>binning_zone</td>\n",
       "      <td>duration_1secTS</td>\n",
       "    </tr>\n",
       "    <tr>\n",
       "      <th>6</th>\n",
       "      <td>NaN</td>\n",
       "      <td>0.894429</td>\n",
       "      <td>cc33bb12-2fe0-11eb-86bd-9822ef705bb4</td>\n",
       "      <td>Zone</td>\n",
       "      <td>transitions</td>\n",
       "    </tr>\n",
       "    <tr>\n",
       "      <th>7</th>\n",
       "      <td>NaN</td>\n",
       "      <td>0.955733</td>\n",
       "      <td>cc33bb12-2fe0-11eb-86bd-9822ef705bb4</td>\n",
       "      <td>model_ObservedZone</td>\n",
       "      <td>transitions</td>\n",
       "    </tr>\n",
       "    <tr>\n",
       "      <th>8</th>\n",
       "      <td>NaN</td>\n",
       "      <td>0.948117</td>\n",
       "      <td>cc33bb12-2fe0-11eb-86bd-9822ef705bb4</td>\n",
       "      <td>binning_zone</td>\n",
       "      <td>transitions</td>\n",
       "    </tr>\n",
       "  </tbody>\n",
       "</table>\n",
       "</div>"
      ],
      "text/plain": [
       "   accuracy       ICC                                 runID  \\\n",
       "0  0.957692       NaN  cc33bb12-2fe0-11eb-86bd-9822ef705bb4   \n",
       "1  0.961538       NaN  cc33bb12-2fe0-11eb-86bd-9822ef705bb4   \n",
       "2  0.976923       NaN  cc33bb12-2fe0-11eb-86bd-9822ef705bb4   \n",
       "3  0.999129       NaN  cc33bb12-2fe0-11eb-86bd-9822ef705bb4   \n",
       "4  0.997910       NaN  cc33bb12-2fe0-11eb-86bd-9822ef705bb4   \n",
       "5  0.987937       NaN  cc33bb12-2fe0-11eb-86bd-9822ef705bb4   \n",
       "6       NaN  0.894429  cc33bb12-2fe0-11eb-86bd-9822ef705bb4   \n",
       "7       NaN  0.955733  cc33bb12-2fe0-11eb-86bd-9822ef705bb4   \n",
       "8       NaN  0.948117  cc33bb12-2fe0-11eb-86bd-9822ef705bb4   \n",
       "\n",
       "               method reliability_type  \n",
       "0  model_ObservedZone       records-01  \n",
       "1                Zone     records-zone  \n",
       "2  model_ObservedZone     records-zone  \n",
       "3                Zone  duration_1secTS  \n",
       "4  model_ObservedZone  duration_1secTS  \n",
       "5        binning_zone  duration_1secTS  \n",
       "6                Zone      transitions  \n",
       "7  model_ObservedZone      transitions  \n",
       "8        binning_zone      transitions  "
      ]
     },
     "execution_count": 33,
     "metadata": {},
     "output_type": "execute_result"
    }
   ],
   "source": [
    "###############################################################################################################################\n",
    "###############################################################################################################################\n",
    "############################################# RUN OVER SEVERAL BATCH COMBINATIONS #############################################\n",
    "###############################################################################################################################\n",
    "###############################################################################################################################\n",
    "\n",
    "#start recording the time it last\n",
    "START_TIME = time.clock()\n",
    "\n",
    "for nbr_batch in tqdm.tqdm(range(min_nbr_batch, len(li_batch))):\n",
    "    \n",
    "    #select a unique runID\n",
    "    runID = uuid.uuid1()\n",
    "    \n",
    "    #not good as it will mainly depend on how similar those batches are\n",
    "    #among combination of \"nbr_batch\" size, select \"nbr_comb\" amount of unique combination\n",
    "    #li = [x for x in li_batch_combination if len(x)==nbr_batch]\n",
    "    #li_comb_selected = random.sample(li, min(nbr_comb, len(li))) \n",
    "    \n",
    "    #among combination of \"nbr_batch\" size, select \"nbr_comb\" pairs of combinations with distinct elements\n",
    "    li = [x for x in li_batch_combination if len(x)==nbr_batch]\n",
    "    \n",
    "    \n",
    "    for li_batch_selected in li_comb_selected:\n",
    "        df_testing_ = df_testing[df_testing['BatchID'].isin(li_batch_selected)].copy()\n",
    "\n",
    "        ##########################################################################################################\n",
    "        ########################################### create duration TS ###########################################\n",
    "        ##########################################################################################################\n",
    "        li_df_dur = []\n",
    "        li_col = ['Zone','VideoAnalyse','model_ObservedZone','ObservedZone','PenID','HenID','Timestamp','BatchID']\n",
    "        for BatchID,df_ in df_testing_[li_col].groupby(['BatchID']):\n",
    "            df_ = df_.sort_values('Timestamp',ascending=True)\n",
    "            #select the list of timestamp we want (i.e. at one second level)\n",
    "            mi = min(df_['Timestamp'].tolist())\n",
    "            ma = max(df_['Timestamp'].tolist())\n",
    "            #print(mi, ma)\n",
    "            Daterange = pd.date_range(start = mi+dt.timedelta(seconds=(60-mi.second)), \n",
    "                                      end = ma-dt.timedelta(seconds=(ma.second+1)), \n",
    "                                      freq = 'S') \n",
    "            #print(Daterange[0:2])\n",
    "            #print(Daterange[-2:])\n",
    "\n",
    "            ################### 1 sec ts: tracking method & model method & true observation\n",
    "            ### extend to 1 seconds level\n",
    "            #add missing seconds (i.e. all seconds that never had a record) and fillnan with last non-nan values by propagating last \n",
    "            # observation forward to next valHenIDmi = min(df_['Timestamp'].tolist())\n",
    "            df_.set_index('Timestamp', inplace=True)\n",
    "            df__ = df_.reindex(Daterange, method='ffill').reset_index()\n",
    "            #display(df__.head(5))\n",
    "            #display(df__.tail(5))\n",
    "            df__.rename(columns={'index':'Timestamp'}, inplace=True)\n",
    "            #display(df__.head(3))\n",
    "            df__.to_csv(os.path.join(path__,'1secTimeSeries'+str(BatchID)+'.csv'), sep=';', index=False)\n",
    "\n",
    "            ################### binning method at 60 sec period\n",
    "            #First take only the wanted timestamps (1 per seconds)\n",
    "            #due to the 60 sec period bining, we need to exclude some of the first and last seconds in order to take into account \n",
    "            #minutes for which we have the full information only\n",
    "            DaterangeBIN = [Daterange[i] for i in range(len(Daterange)) if i%60==0]\n",
    "            #add new timestamp to the initial file\n",
    "            df_date = pd.DataFrame({'New_Timestamp':DaterangeBIN})\n",
    "            df_date['New_Timestamp'] = df_date['New_Timestamp'].map(lambda x: pd.to_datetime(x))\n",
    "            df_bin = pd.merge_asof(df__, df_date, left_on=['Timestamp'], right_on=['New_Timestamp'], direction='forward')\n",
    "\n",
    "            #Then bin the data\n",
    "            h = 'Zone'\n",
    "            df_bin = df_bin[[h,'New_Timestamp']].copy()\n",
    "            df_bin['nbr_sec'] = 1\n",
    "            df_bin = df_bin.groupby(['New_Timestamp',h])['nbr_sec'].sum().reset_index() #sum to count as we have seconds\n",
    "            df_bin = df_bin.groupby(['New_Timestamp'])[h,'nbr_sec'].agg(lambda x: tuple(x)).reset_index()\n",
    "            df_bin['most_frequent_zone'] = df_bin.apply(lambda x: x[h][x['nbr_sec'].index(max(x['nbr_sec']))], axis=1)\n",
    "            df_bin['nbr_duration_per_zone'] = df_bin.apply(lambda x: str({x[h][k]:x['nbr_sec'][k] for k in range(len(x[h]))}), axis=1)\n",
    "            df_bin['nbr_lost_duration_per_zone'] = df_bin['nbr_duration_per_zone'].map(lambda x: str({z:v for z,v in eval(x).items() if \\\n",
    "                                                                               v!=max(eval(x).values())}))\n",
    "            df_bin['nbr_lost_duration'] = df_bin['nbr_lost_duration_per_zone'].map(lambda x: sum(eval(x).values()))\n",
    "            df_bin['perc_lost_duration'] = df_bin['nbr_lost_duration'].map(lambda x: x/60*100)\n",
    "            df_bin['day'] = df_bin['New_Timestamp'].map(lambda x: dt.datetime(x.year,x.month,x.day))\n",
    "            df_bin.to_csv(os.path.join(path__ ,'bining'+str(BatchID)+'.csv'), sep=';', index=False)\n",
    "            #display(df_bin.head(3))    \n",
    "\n",
    "            #extend to 1sec ts\n",
    "            df_bin = df_bin[['most_frequent_zone','New_Timestamp']]\n",
    "            df_bin.set_index('New_Timestamp', inplace=True)\n",
    "            df_bin1sec = df_bin.reindex(Daterange, method='ffill').reset_index()\n",
    "            df_bin1sec.rename(columns={'index':'Timestamp','most_frequent_zone':'binning_zone'}, inplace=True)\n",
    "            df_bin1sec.to_csv(os.path.join(path__,'1secTimeSeries_bining'+str(BatchID)+'.csv'), sep=';', index=False)\n",
    "            #display(df_bin1sec.head(3))\n",
    "\n",
    "            #join with bining\n",
    "            df_final = pd.merge(df__, df_bin1sec, on=['Timestamp'], how='outer')\n",
    "            df_final.to_csv(os.path.join(path__,'1secTimeSeries_ALL_'+str(BatchID)+'.csv'), sep=';', index=False)\n",
    "            li_df_dur.append(df_final)\n",
    "        #concat all final 1sec into one big\n",
    "        df_final = pd.concat(li_df_dur)\n",
    "        df_final.to_csv(os.path.join(path_extracted_data_cleaning,'1secTimeSeries_reliability.csv'), sep=';', index=False)\n",
    "        #display(df_final.head(3))\n",
    "\n",
    "\n",
    "        ##########################################################################################################\n",
    "        ########################################### create duration TS ###########################################\n",
    "        ##########################################################################################################\n",
    "        df_transition = df_final.groupby(['BatchID'])[['Zone','model_ObservedZone','ObservedZone',\n",
    "                                                       'binning_zone']].agg(lambda x: len(list_of_zones(x))-1).reset_index()\n",
    "        df_transition.to_csv(os.path.join(path_extracted_data_cleaning,'reliability_transition.csv'), sep=';', index=False)\n",
    "        #display(df_transition.head(3))\n",
    "\n",
    "        ##########################################################################################################\n",
    "        ###################################### relevance algo - records 0-1 ######################################\n",
    "        ##########################################################################################################\n",
    "        for c in ['Zone','model_ObservedZone']:\n",
    "            res = classification_report(df_testing_['VideoAnalyse'].astype(int).tolist(), \n",
    "                                        df_testing_['model_prediction'].astype(int).tolist(), output_dict=True)\n",
    "            dico_ = res_intodico(res)\n",
    "            dico_['method'] = c\n",
    "            dico_['reliability_type'] = 'records-01'\n",
    "            dico_['runID'] = runID; dico_['li_batch_selected'] = li_batch_selected; dico_['nbr_batch'] = nbr_batch\n",
    "            li_df.append(dico_)\n",
    "\n",
    "        ##########################################################################################################\n",
    "        ###################################### relevance algo - records zone #####################################\n",
    "        ##########################################################################################################\n",
    "        for c in ['Zone','model_ObservedZone']:\n",
    "            res = classification_report(df_testing_['ObservedZone'].tolist(), df_testing_[c].tolist(), output_dict=True)\n",
    "            dico_ = res_intodico(res)\n",
    "            dico_['method'] = c\n",
    "            dico_['reliability_type'] = 'records-zone'\n",
    "            dico_['runID'] = runID; dico_['li_batch_selected'] = li_batch_selected; dico_['nbr_batch'] = nbr_batch\n",
    "            li_df.append(dico_)\n",
    "        #add reliability: kappa?\n",
    "\n",
    "        ##########################################################################################################\n",
    "        ############################### relevance behavioural data - duration 1secTS #############################\n",
    "        ##########################################################################################################\n",
    "        for c in ['Zone','model_ObservedZone','binning_zone']:\n",
    "            res = classification_report(df_final['ObservedZone'].tolist(), df_final[c].tolist(), output_dict=True)\n",
    "            dico_ = res_intodico(res)\n",
    "            dico_['method'] = c\n",
    "            dico_['reliability_type'] = 'duration_1secTS'\n",
    "            dico_['runID'] = runID; dico_['li_batch_selected'] = li_batch_selected; dico_['nbr_batch'] = nbr_batch\n",
    "            li_df.append(dico_)\n",
    "        #add reliability: kappa?\n",
    "\n",
    "        ##########################################################################################################\n",
    "        ################################## relevance behavioural data - transition ###############################\n",
    "        ##########################################################################################################\n",
    "        #does not make sense to compare per minutes the numebr of transition, as we dont really care if they areshifted by few minutes\n",
    "        #instead we will compare the number of transition per batch \n",
    "        for c in ['Zone', 'model_ObservedZone', 'binning_zone']:\n",
    "            df_ = pd.melt(df_transition.filter(['BatchID','ObservedZone', c],axis=1), id_vars=['BatchID'], \n",
    "                          value_vars=['ObservedZone', c])\n",
    "            #continuous reliability score\n",
    "            df_res = pg.intraclass_corr(data=df_, targets='BatchID', raters='variable', ratings='value')\n",
    "            dico_ = df_res[df_res['Type']=='ICC3'].to_dict(orient='records')[0]\n",
    "            dico_['method'] = c\n",
    "            dico_['reliability_type'] = 'transitions'\n",
    "            dico_['runID'] = runID; dico_['li_batch_selected'] = li_batch_selected; dico_['nbr_batch'] = nbr_batch\n",
    "            li_df.append(dico_)\n",
    "\n",
    "            \n",
    "##########################################################################################################\n",
    "############################################### Save results #############################################\n",
    "##########################################################################################################\n",
    "END_TIME = time.clock()\n",
    "print (\"Total running time: %.2f mn\" %((END_TIME-START_TIME)/60))\n",
    "df_results = pd.DataFrame(li_df)\n",
    "df_results['accuracy_ICC'] = df_results.apply(lambda x: x['ICC'] if x['reliability_type']=='transitions' else x['accuracy'], \n",
    "                                              axis=1)\n",
    "df_results.to_csv(os.path.join(path_extracted_data_cleaning,'reliability_RESULTS.csv'), sep=';', index=False)\n",
    "df_results[['accuracy','ICC','runID','method','reliability_type']]\n"
   ]
  },
  {
   "cell_type": "code",
   "execution_count": 37,
   "metadata": {
    "scrolled": true
   },
   "outputs": [
    {
     "data": {
      "image/png": "[encoded data removed]",
      "text/plain": [
       "<Figure size 432x288 with 1 Axes>"
      ]
     },
     "metadata": {
      "needs_background": "light"
     },
     "output_type": "display_data"
    },
    {
     "data": {
      "image/png": "[encoded data removed]",
      "text/plain": [
       "<Figure size 432x288 with 1 Axes>"
      ]
     },
     "metadata": {
      "needs_background": "light"
     },
     "output_type": "display_data"
    },
    {
     "data": {
      "image/png": "[encoded data removed]",
      "text/plain": [
       "<Figure size 432x288 with 1 Axes>"
      ]
     },
     "metadata": {
      "needs_background": "light"
     },
     "output_type": "display_data"
    }
   ],
   "source": [
    "#visualize the results\n",
    "for m, df_ in df_results.groupby(['method']):\n",
    "    ax = sns.boxplot(x=\"nbr_batch\", y=\"accuracy_ICC\", hue=\"reliability_type\", data=df_, palette=\"Set3\")\n",
    "    plt.title(m)\n",
    "    plt.savefig(os.path.join(path_extracted_data_cleaning,'ReliabilityStability-'+m+'.png'), bbox_inches='tight')\n",
    "    plt.show()"
   ]
  },
  {
   "cell_type": "code",
   "execution_count": null,
   "metadata": {},
   "outputs": [],
   "source": []
  },
  {
   "cell_type": "code",
   "execution_count": null,
   "metadata": {},
   "outputs": [],
   "source": []
  },
  {
   "cell_type": "markdown",
   "metadata": {},
   "source": [
    "### visualise these 1sectime series"
   ]
  },
  {
   "cell_type": "markdown",
   "metadata": {},
   "source": [
    "#start recording the time it last\n",
    "START_TIME = time.clock()\n",
    "\n",
    "#to sort the yaxis\n",
    "dico_zone_order = {'1Zone':0,\n",
    "                   '2Zone':1,\n",
    "                   '3Zone':2,\n",
    "                   '4Zone':3,\n",
    "                   '5Zone':4}\n",
    "\n",
    "#create path where to save if not existing yet\n",
    "path_ = os.path.join(path_extracted_data_cleaning,'TimeSeriesPlot')\n",
    "#create a director if not existing\n",
    "if not os.path.exists(path_):\n",
    "    os.makedirs(path_) \n",
    "\n",
    "li_ts = ['Zone','model_ObservedZone','ObservedZone','binning_zone']\n",
    "#for each batch draw 4 timeseries\n",
    "for BatchID, df_plt in tqdm.tqdm(df_final.groupby(['BatchID'])):\n",
    "    df_plt = df_plt.sort_values(['Timestamp']).copy()\n",
    "    l = len(li_ts) ; c = 1\n",
    "    fig = plt.figure(figsize=(c*5, l*1))\n",
    "    for i,v in enumerate(li_ts):\n",
    "        df_plt[v] = df_plt[v].map(lambda x: int(dico_zone_order[x]))       \n",
    "        plt.subplot(l,c,i+1)\n",
    "        plt.plot(df_plt['Timestamp'].tolist(), df_plt[v].tolist())\n",
    "        plt.xticks(fontsize=4)\n",
    "        plt.yticks(fontsize=4)\n",
    "        plt.title(v+' '+BatchID, size=7)\n",
    "    plt.savefig(os.path.join(path_extracted_data_cleaning, BatchID+'.png'), format='png', bbox_inches='tight', dpi=300)\n",
    "    plt.clf()\n",
    "    plt.close(\"all\")\n",
    "\n",
    "END_TIME = time.clock()\n",
    "print (\"Total running time: %.2f mn\" %((END_TIME-START_TIME)/60))  "
   ]
  },
  {
   "cell_type": "code",
   "execution_count": null,
   "metadata": {},
   "outputs": [],
   "source": [
    "TODO: extend until end of batch hour for verification data reliability is better like this"
   ]
  },
  {
   "cell_type": "code",
   "execution_count": null,
   "metadata": {},
   "outputs": [],
   "source": []
  },
  {
   "cell_type": "code",
   "execution_count": null,
   "metadata": {},
   "outputs": [],
   "source": []
  },
  {
   "cell_type": "code",
   "execution_count": null,
   "metadata": {},
   "outputs": [],
   "source": []
  },
  {
   "cell_type": "code",
   "execution_count": null,
   "metadata": {},
   "outputs": [],
   "source": []
  },
  {
   "cell_type": "code",
   "execution_count": null,
   "metadata": {},
   "outputs": [],
   "source": []
  },
  {
   "cell_type": "code",
   "execution_count": null,
   "metadata": {},
   "outputs": [],
   "source": []
  }
 ],
 "metadata": {
  "kernelspec": {
   "display_name": "Python 3",
   "language": "python",
   "name": "python3"
  },
  "language_info": {
   "codemirror_mode": {
    "name": "ipython",
    "version": 3
   },
   "file_extension": ".py",
   "mimetype": "text/x-python",
   "name": "python",
   "nbconvert_exporter": "python",
   "pygments_lexer": "ipython3",
   "version": "3.6.10"
  }
 },
 "nbformat": 4,
 "nbformat_minor": 2
}
