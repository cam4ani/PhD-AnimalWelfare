{
 "cells": [
  {
   "cell_type": "code",
   "execution_count": 1,
   "metadata": {},
   "outputs": [],
   "source": [
    "#basic package\n",
    "import tqdm\n",
    "import os\n",
    "import numpy as np\n",
    "import glob\n",
    "import pandas as pd\n",
    "import sys\n",
    "import shutil\n",
    "import time\n",
    "import datetime as dt\n",
    "import random\n",
    "\n",
    "#modelling\n",
    "from sklearn.preprocessing import StandardScaler\n",
    "from sklearn.model_selection import train_test_split\n",
    "from sklearn.model_selection import GridSearchCV\n",
    "#catboost, for a better support of categorical data\n",
    "from catboost import CatBoostClassifier\n",
    "\n",
    "#visuals\n",
    "import matplotlib.pyplot as plt\n",
    "import seaborn as sns"
   ]
  },
  {
   "cell_type": "code",
   "execution_count": 2,
   "metadata": {},
   "outputs": [],
   "source": [
    "PACKAGE_PARENT = '../'\n",
    "SCRIPT_DIR = os.path.dirname(os.path.realpath(os.path.join(os.getcwd(), os.path.expanduser('__file__'))))\n",
    "sys.path.append(os.path.normpath(os.path.join(SCRIPT_DIR, PACKAGE_PARENT)))\n",
    "import config_origins_chapter0 as config"
   ]
  },
  {
   "cell_type": "markdown",
   "metadata": {},
   "source": [
    "# Download Input Data"
   ]
  },
  {
   "cell_type": "code",
   "execution_count": 3,
   "metadata": {},
   "outputs": [],
   "source": [
    "#define parameters\n",
    "path_extracted_data = config.path_extracted_data\n",
    "path_initial_data = config.path_initial_data\n",
    "id_run = config.id_run\n",
    "dico_matching = config.dico_matching\n",
    "dico_garden_opening_hour = config.dico_garden_opening_hour\n",
    "path_extracted_data_cleaning = os.path.join(path_extracted_data,'Cleaning')\n",
    "path_extracted_data_cleaning_model = os.path.join(path_extracted_data_cleaning,'model') \n",
    "#create a director if not existing\n",
    "if not os.path.exists(path_extracted_data_cleaning_model):\n",
    "    os.makedirs(path_extracted_data_cleaning_model)    \n",
    "#features for model\n",
    "li_cont_select = config.li_cont_select\n",
    "li_bin = config.li_bin\n",
    "li_cat_select = config.li_cat_select"
   ]
  },
  {
   "cell_type": "code",
   "execution_count": 15,
   "metadata": {},
   "outputs": [
    {
     "data": {
      "text/plain": [
       "1    3738\n",
       "0     536\n",
       "Name: VideoAnalyse, dtype: int64"
      ]
     },
     "metadata": {},
     "output_type": "display_data"
    },
    {
     "name": "stdout",
     "output_type": "stream",
     "text": [
      "(5139, 34)\n"
     ]
    },
    {
     "data": {
      "text/html": [
       "<div>\n",
       "<style scoped>\n",
       "    .dataframe tbody tr th:only-of-type {\n",
       "        vertical-align: middle;\n",
       "    }\n",
       "\n",
       "    .dataframe tbody tr th {\n",
       "        vertical-align: top;\n",
       "    }\n",
       "\n",
       "    .dataframe thead th {\n",
       "        text-align: right;\n",
       "    }\n",
       "</style>\n",
       "<table border=\"1\" class=\"dataframe\">\n",
       "  <thead>\n",
       "    <tr style=\"text-align: right;\">\n",
       "      <th></th>\n",
       "      <th>Timestamp</th>\n",
       "      <th>TagID</th>\n",
       "      <th>HenID</th>\n",
       "      <th>Trackingsystem_Zone</th>\n",
       "      <th>Observed_Zone</th>\n",
       "      <th>PenID</th>\n",
       "      <th>VideoAnalyse</th>\n",
       "      <th>system</th>\n",
       "      <th>date</th>\n",
       "      <th>signalstrength</th>\n",
       "      <th>...</th>\n",
       "      <th>duration_bounded_mn</th>\n",
       "      <th>previous_duration_bounded_mn</th>\n",
       "      <th>algo_type</th>\n",
       "      <th>BatchID</th>\n",
       "      <th>previousZone==NextZone</th>\n",
       "      <th>next_duration_bounded_mn</th>\n",
       "      <th>next2zone==Zone</th>\n",
       "      <th>previous2zone==Zone</th>\n",
       "      <th>zone3_match_exist</th>\n",
       "      <th>is_first_observation</th>\n",
       "    </tr>\n",
       "  </thead>\n",
       "  <tbody>\n",
       "    <tr>\n",
       "      <th>0</th>\n",
       "      <td>2020-10-23 11:04:12</td>\n",
       "      <td>tag_138</td>\n",
       "      <td>hen_141</td>\n",
       "      <td>3_Zone</td>\n",
       "      <td>3_Zone</td>\n",
       "      <td>pen10</td>\n",
       "      <td>1</td>\n",
       "      <td>10 - 12</td>\n",
       "      <td>2020-10-23</td>\n",
       "      <td>16.0</td>\n",
       "      <td>...</td>\n",
       "      <td>0.133333</td>\n",
       "      <td>1.316667</td>\n",
       "      <td>cleaning</td>\n",
       "      <td>NaN</td>\n",
       "      <td>True</td>\n",
       "      <td>0.766667</td>\n",
       "      <td>1.0</td>\n",
       "      <td>1.0</td>\n",
       "      <td>1.0</td>\n",
       "      <td>0.0</td>\n",
       "    </tr>\n",
       "    <tr>\n",
       "      <th>1</th>\n",
       "      <td>2020-10-18 10:39:01</td>\n",
       "      <td>tag_125</td>\n",
       "      <td>hen_54</td>\n",
       "      <td>3_Zone</td>\n",
       "      <td>2_Zone</td>\n",
       "      <td>pen10</td>\n",
       "      <td>0</td>\n",
       "      <td>10 - 12</td>\n",
       "      <td>2020-10-18</td>\n",
       "      <td>3.0</td>\n",
       "      <td>...</td>\n",
       "      <td>0.200000</td>\n",
       "      <td>8.383333</td>\n",
       "      <td>cleaning</td>\n",
       "      <td>NaN</td>\n",
       "      <td>True</td>\n",
       "      <td>8.533333</td>\n",
       "      <td>1.0</td>\n",
       "      <td>1.0</td>\n",
       "      <td>0.0</td>\n",
       "      <td>0.0</td>\n",
       "    </tr>\n",
       "    <tr>\n",
       "      <th>2</th>\n",
       "      <td>2020-10-23 11:42:56</td>\n",
       "      <td>tag_138</td>\n",
       "      <td>hen_141</td>\n",
       "      <td>4_Zone</td>\n",
       "      <td>4_Zone</td>\n",
       "      <td>pen10</td>\n",
       "      <td>1</td>\n",
       "      <td>10 - 12</td>\n",
       "      <td>2020-10-23</td>\n",
       "      <td>13.0</td>\n",
       "      <td>...</td>\n",
       "      <td>0.383333</td>\n",
       "      <td>3.316667</td>\n",
       "      <td>cleaning</td>\n",
       "      <td>NaN</td>\n",
       "      <td>True</td>\n",
       "      <td>0.100000</td>\n",
       "      <td>1.0</td>\n",
       "      <td>1.0</td>\n",
       "      <td>1.0</td>\n",
       "      <td>0.0</td>\n",
       "    </tr>\n",
       "  </tbody>\n",
       "</table>\n",
       "<p>3 rows × 34 columns</p>\n",
       "</div>"
      ],
      "text/plain": [
       "            Timestamp    TagID    HenID Trackingsystem_Zone Observed_Zone  \\\n",
       "0 2020-10-23 11:04:12  tag_138  hen_141              3_Zone        3_Zone   \n",
       "1 2020-10-18 10:39:01  tag_125   hen_54              3_Zone        2_Zone   \n",
       "2 2020-10-23 11:42:56  tag_138  hen_141              4_Zone        4_Zone   \n",
       "\n",
       "   PenID  VideoAnalyse   system       date  signalstrength  ...  \\\n",
       "0  pen10             1  10 - 12 2020-10-23            16.0  ...   \n",
       "1  pen10             0  10 - 12 2020-10-18             3.0  ...   \n",
       "2  pen10             1  10 - 12 2020-10-23            13.0  ...   \n",
       "\n",
       "   duration_bounded_mn previous_duration_bounded_mn algo_type BatchID  \\\n",
       "0             0.133333                     1.316667  cleaning     NaN   \n",
       "1             0.200000                     8.383333  cleaning     NaN   \n",
       "2             0.383333                     3.316667  cleaning     NaN   \n",
       "\n",
       "  previousZone==NextZone next_duration_bounded_mn next2zone==Zone  \\\n",
       "0                   True                 0.766667             1.0   \n",
       "1                   True                 8.533333             1.0   \n",
       "2                   True                 0.100000             1.0   \n",
       "\n",
       "  previous2zone==Zone zone3_match_exist is_first_observation  \n",
       "0                 1.0               1.0                  0.0  \n",
       "1                 1.0               0.0                  0.0  \n",
       "2                 1.0               1.0                  0.0  \n",
       "\n",
       "[3 rows x 34 columns]"
      ]
     },
     "execution_count": 15,
     "metadata": {},
     "output_type": "execute_result"
    }
   ],
   "source": [
    "df_cleaning = pd.read_csv(os.path.join(path_extracted_data_cleaning, id_run+'InputCleaning.csv'), parse_dates=['Timestamp', 'date'], \n",
    "                 dayfirst=True, sep=';')\n",
    "df_cleaning = df_cleaning[df_cleaning['VideoAnalyse'].isin([0,1])]\n",
    "df_cleaning = df_cleaning[df_cleaning['algo_type']=='cleaning'].copy()\n",
    "display(df_cleaning['VideoAnalyse'].value_counts())\n",
    "print(df_cleaning.shape)\n",
    "df_cleaning.head(3)"
   ]
  },
  {
   "cell_type": "code",
   "execution_count": 14,
   "metadata": {},
   "outputs": [
    {
     "data": {
      "text/plain": [
       "3_Zone    2393\n",
       "2_Zone     916\n",
       "5_Zone     561\n",
       "4_Zone     404\n",
       "Name: Trackingsystem_Zone, dtype: int64"
      ]
     },
     "execution_count": 14,
     "metadata": {},
     "output_type": "execute_result"
    }
   ],
   "source": [
    "df_cleaning['Trackingsystem_Zone'].value_counts()"
   ]
  },
  {
   "cell_type": "code",
   "execution_count": 6,
   "metadata": {},
   "outputs": [
    {
     "data": {
      "text/html": [
       "<div>\n",
       "<style scoped>\n",
       "    .dataframe tbody tr th:only-of-type {\n",
       "        vertical-align: middle;\n",
       "    }\n",
       "\n",
       "    .dataframe tbody tr th {\n",
       "        vertical-align: top;\n",
       "    }\n",
       "\n",
       "    .dataframe thead th {\n",
       "        text-align: right;\n",
       "    }\n",
       "</style>\n",
       "<table border=\"1\" class=\"dataframe\">\n",
       "  <thead>\n",
       "    <tr style=\"text-align: right;\">\n",
       "      <th></th>\n",
       "      <th>signalstrength</th>\n",
       "      <th>signalstzone2</th>\n",
       "      <th>duration_bounded_mn</th>\n",
       "      <th>next_duration_bounded_mn</th>\n",
       "      <th>previous_duration_bounded_mn</th>\n",
       "      <th>next2zone==Zone</th>\n",
       "      <th>previous2zone==Zone</th>\n",
       "      <th>zone3_match_exist</th>\n",
       "    </tr>\n",
       "  </thead>\n",
       "  <tbody>\n",
       "    <tr>\n",
       "      <th>0</th>\n",
       "      <td>16.0</td>\n",
       "      <td>6.0</td>\n",
       "      <td>0.133333</td>\n",
       "      <td>0.766667</td>\n",
       "      <td>1.316667</td>\n",
       "      <td>1.0</td>\n",
       "      <td>1.0</td>\n",
       "      <td>1.0</td>\n",
       "    </tr>\n",
       "    <tr>\n",
       "      <th>1</th>\n",
       "      <td>3.0</td>\n",
       "      <td>2.0</td>\n",
       "      <td>0.200000</td>\n",
       "      <td>8.533333</td>\n",
       "      <td>8.383333</td>\n",
       "      <td>1.0</td>\n",
       "      <td>1.0</td>\n",
       "      <td>0.0</td>\n",
       "    </tr>\n",
       "    <tr>\n",
       "      <th>2</th>\n",
       "      <td>13.0</td>\n",
       "      <td>12.0</td>\n",
       "      <td>0.383333</td>\n",
       "      <td>0.100000</td>\n",
       "      <td>3.316667</td>\n",
       "      <td>1.0</td>\n",
       "      <td>1.0</td>\n",
       "      <td>1.0</td>\n",
       "    </tr>\n",
       "  </tbody>\n",
       "</table>\n",
       "</div>"
      ],
      "text/plain": [
       "   signalstrength  signalstzone2  duration_bounded_mn  \\\n",
       "0            16.0            6.0             0.133333   \n",
       "1             3.0            2.0             0.200000   \n",
       "2            13.0           12.0             0.383333   \n",
       "\n",
       "   next_duration_bounded_mn  previous_duration_bounded_mn  next2zone==Zone  \\\n",
       "0                  0.766667                      1.316667              1.0   \n",
       "1                  8.533333                      8.383333              1.0   \n",
       "2                  0.100000                      3.316667              1.0   \n",
       "\n",
       "   previous2zone==Zone  zone3_match_exist  \n",
       "0                  1.0                1.0  \n",
       "1                  1.0                0.0  \n",
       "2                  1.0                1.0  "
      ]
     },
     "metadata": {},
     "output_type": "display_data"
    },
    {
     "data": {
      "text/html": [
       "<div>\n",
       "<style scoped>\n",
       "    .dataframe tbody tr th:only-of-type {\n",
       "        vertical-align: middle;\n",
       "    }\n",
       "\n",
       "    .dataframe tbody tr th {\n",
       "        vertical-align: top;\n",
       "    }\n",
       "\n",
       "    .dataframe thead th {\n",
       "        text-align: right;\n",
       "    }\n",
       "</style>\n",
       "<table border=\"1\" class=\"dataframe\">\n",
       "  <thead>\n",
       "    <tr style=\"text-align: right;\">\n",
       "      <th></th>\n",
       "      <th>Trackingsystem_Zone</th>\n",
       "      <th>zone2_match</th>\n",
       "      <th>previous1_zone</th>\n",
       "      <th>next1_zone</th>\n",
       "      <th>system</th>\n",
       "    </tr>\n",
       "  </thead>\n",
       "  <tbody>\n",
       "    <tr>\n",
       "      <th>0</th>\n",
       "      <td>3_Zone</td>\n",
       "      <td>3_Zone</td>\n",
       "      <td>3_Zone</td>\n",
       "      <td>3_Zone</td>\n",
       "      <td>10 - 12</td>\n",
       "    </tr>\n",
       "    <tr>\n",
       "      <th>1</th>\n",
       "      <td>3_Zone</td>\n",
       "      <td>2_Zone</td>\n",
       "      <td>2_Zone</td>\n",
       "      <td>2_Zone</td>\n",
       "      <td>10 - 12</td>\n",
       "    </tr>\n",
       "    <tr>\n",
       "      <th>2</th>\n",
       "      <td>4_Zone</td>\n",
       "      <td>3_Zone</td>\n",
       "      <td>3_Zone</td>\n",
       "      <td>3_Zone</td>\n",
       "      <td>10 - 12</td>\n",
       "    </tr>\n",
       "  </tbody>\n",
       "</table>\n",
       "</div>"
      ],
      "text/plain": [
       "  Trackingsystem_Zone zone2_match previous1_zone next1_zone   system\n",
       "0              3_Zone      3_Zone         3_Zone     3_Zone  10 - 12\n",
       "1              3_Zone      2_Zone         2_Zone     2_Zone  10 - 12\n",
       "2              4_Zone      3_Zone         3_Zone     3_Zone  10 - 12"
      ]
     },
     "metadata": {},
     "output_type": "display_data"
    }
   ],
   "source": [
    "display(df_cleaning[config.li_cont_select].head(3))\n",
    "display(df_cleaning[config.li_cat_select].head(3))"
   ]
  },
  {
   "cell_type": "markdown",
   "metadata": {},
   "source": [
    "# Split into training and validation (for parameter tuning) & dummies"
   ]
  },
  {
   "cell_type": "code",
   "execution_count": 8,
   "metadata": {},
   "outputs": [
    {
     "name": "stdout",
     "output_type": "stream",
     "text": [
      "(3419, 13) (3419, 1) (855, 13) (855, 1)\n"
     ]
    }
   ],
   "source": [
    "####### train, val, test (no need of dummie)#######\n",
    "#we need to keep into dataframe format in order to have the columns names to specify in the hyperparamters the names of the\n",
    "#categorical variables\n",
    "#split into train, test and validation\n",
    "#for algo from sklearn, we should add val+train together, while for the Catboost we will not add them up\n",
    "#train\n",
    "df_X_train = df_cleaning.filter(li_cont_select+li_cat_select, axis=1)\n",
    "df_y_train = df_cleaning[['VideoAnalyse']]\n",
    "\n",
    "#split training into validation: for algo from sklearn, we should add val+train together, while for the Catboost we will not \n",
    "#add them up\n",
    "val_size = 0.2; rs = 0\n",
    "df_X_train_cb, df_X_val_cb, df_y_train_cb, df_y_val_cb = train_test_split(df_X_train, df_y_train, test_size=val_size, \n",
    "                                                                          random_state=rs)\n",
    "print(df_X_train_cb.shape, df_y_train_cb.shape, df_X_val_cb.shape, df_y_val_cb.shape)"
   ]
  },
  {
   "cell_type": "markdown",
   "metadata": {},
   "source": [
    "# Catboost"
   ]
  },
  {
   "cell_type": "code",
   "execution_count": 9,
   "metadata": {},
   "outputs": [],
   "source": [
    "li_dico = []"
   ]
  },
  {
   "cell_type": "code",
   "execution_count": 10,
   "metadata": {},
   "outputs": [
    {
     "name": "stdout",
     "output_type": "stream",
     "text": [
      "6.973880597014926\n",
      "Fitting 3 folds for each of 432 candidates, totalling 1296 fits\n"
     ]
    },
    {
     "name": "stderr",
     "output_type": "stream",
     "text": [
      "[Parallel(n_jobs=1)]: Using backend SequentialBackend with 1 concurrent workers.\n",
      "[Parallel(n_jobs=1)]: Done 1296 out of 1296 | elapsed: 374.1min finished\n"
     ]
    },
    {
     "data": {
      "text/plain": [
       "{'l2_leaf_reg': 2,\n",
       " 'loss_function': 'Logloss',\n",
       " 'od_pval': 1e-06,\n",
       " 'od_wait': 10,\n",
       " 'use_best_model': True,\n",
       " 'class_weights': {0: 6.973880597014926, 1: 1},\n",
       " 'task_type': 'CPU',\n",
       " 'max_depth': 6,\n",
       " 'n_estimators': 500,\n",
       " 'cat_features': array(['Trackingsystem_Zone', 'zone2_match', 'previous1_zone',\n",
       "        'next1_zone', 'system'], dtype='<U19'),\n",
       " 'min_data_in_leaf': 1}"
      ]
     },
     "metadata": {},
     "output_type": "display_data"
    }
   ],
   "source": [
    "#Parameters fine tunning\n",
    "#Info: https://catboost.ai/docs/concepts/python-reference_parameters-list.html\n",
    "x1 = df_cleaning[df_cleaning['VideoAnalyse']==1].shape[0]\n",
    "x0 = df_cleaning[df_cleaning['VideoAnalyse']==0].shape[0]\n",
    "print(x1/x0) \n",
    "P = {'n_estimators': range(200,1000,100), #the more trees you add, the higher the risk of overfitting!! default:1000!\n",
    "     'l2_leaf_reg': range(2,5),#default is 3\n",
    "     'loss_function': ['Logloss'], #for binary classification\n",
    "     'max_depth': range(4,7), #if to big: risk of overfitting default=6\n",
    "     'min_data_in_leaf': range(1,4), #The minimum number of training samples in a leaf (equivalent to min_samples_leaf). default 1\n",
    "     'class_weights': [{0:x1/x0, 1:1}], #similar as compute_class_weight\n",
    "     'od_pval': [10**-6],#[x for x in np.linspace(start = 10**-6, stop = 10**-2, num = 5)], #The larger the value, the earlier overfitting is detected., defualt=0, but it is recommanded to be tested for these range\n",
    "     'od_wait':[10,15], #default 20 =#iterations to continue the training after the iteration with the optimal metric value.\n",
    "     'use_best_model':[True],\n",
    "     'task_type':['CPU'],#is actually faster\n",
    "     'cat_features':[np.array(li_cat_select)]\n",
    "    }\n",
    "#define the model with all these options and fit it (as many combination as asked for). \n",
    "#refit: fit an estimator using the best found parameters on the whole dataset, then we can extract it with best_estimator_\n",
    "mod = GridSearchCV(estimator = CatBoostClassifier(), param_grid = P, cv = 3, verbose=True, refit=True)\n",
    "mod.fit(df_X_train_cb, df_y_train_cb, eval_set=(df_X_val_cb,df_y_val_cb), verbose=False)\n",
    "#extract best already fitted model and save it \n",
    "mod_final = mod.best_estimator_\n",
    "display(mod_final.get_params())\n",
    "mod_final.save_model(os.path.join(path_extracted_data_cleaning_model,'selected_Catboost'), format=\"cbm\")\n",
    "#145mn for 648 fits"
   ]
  },
  {
   "cell_type": "code",
   "execution_count": 11,
   "metadata": {},
   "outputs": [
    {
     "data": {
      "text/html": [
       "<div>\n",
       "<style scoped>\n",
       "    .dataframe tbody tr th:only-of-type {\n",
       "        vertical-align: middle;\n",
       "    }\n",
       "\n",
       "    .dataframe tbody tr th {\n",
       "        vertical-align: top;\n",
       "    }\n",
       "\n",
       "    .dataframe thead th {\n",
       "        text-align: right;\n",
       "    }\n",
       "</style>\n",
       "<table border=\"1\" class=\"dataframe\">\n",
       "  <thead>\n",
       "    <tr style=\"text-align: right;\">\n",
       "      <th></th>\n",
       "      <th>algo</th>\n",
       "      <th>model_param_used</th>\n",
       "      <th>accuracy_training</th>\n",
       "      <th>accuracy_validation</th>\n",
       "    </tr>\n",
       "  </thead>\n",
       "  <tbody>\n",
       "    <tr>\n",
       "      <th>0</th>\n",
       "      <td>best-Catboost</td>\n",
       "      <td>{'l2_leaf_reg': 2, 'loss_function': 'Logloss',...</td>\n",
       "      <td>0.998</td>\n",
       "      <td>0.992</td>\n",
       "    </tr>\n",
       "  </tbody>\n",
       "</table>\n",
       "</div>"
      ],
      "text/plain": [
       "            algo                                   model_param_used  \\\n",
       "0  best-Catboost  {'l2_leaf_reg': 2, 'loss_function': 'Logloss',...   \n",
       "\n",
       "   accuracy_training  accuracy_validation  \n",
       "0              0.998                0.992  "
      ]
     },
     "execution_count": 11,
     "metadata": {},
     "output_type": "execute_result"
    }
   ],
   "source": [
    "#save\n",
    "li_dico.append({'algo':'best-Catboost', 'model_param_used':mod_final.get_params(), \n",
    "                'accuracy_training':round(mod_final.score(df_X_train_cb, df_y_train_cb),3),\n",
    "                'accuracy_validation':round(mod_final.score(df_X_val_cb, df_y_val_cb),3)})\n",
    "                #'accuracy_testing':round(mod_final.score(df_X_test_cb, df_y_test_cb),3)})\n",
    "pd.DataFrame(li_dico)"
   ]
  },
  {
   "cell_type": "markdown",
   "metadata": {},
   "source": [
    "# save final results"
   ]
  },
  {
   "cell_type": "code",
   "execution_count": 12,
   "metadata": {},
   "outputs": [
    {
     "name": "stdout",
     "output_type": "stream",
     "text": [
      "(1, 4)\n"
     ]
    }
   ],
   "source": [
    "df_res = pd.DataFrame(li_dico)\n",
    "print(df_res.shape)\n",
    "df_res.to_csv(os.path.join(path_extracted_data_cleaning, 'CB_finetuning.csv'), sep=';', index=False)      "
   ]
  },
  {
   "cell_type": "code",
   "execution_count": null,
   "metadata": {},
   "outputs": [],
   "source": []
  },
  {
   "cell_type": "code",
   "execution_count": null,
   "metadata": {},
   "outputs": [],
   "source": []
  },
  {
   "cell_type": "code",
   "execution_count": null,
   "metadata": {},
   "outputs": [],
   "source": []
  },
  {
   "cell_type": "code",
   "execution_count": null,
   "metadata": {},
   "outputs": [],
   "source": []
  },
  {
   "cell_type": "code",
   "execution_count": null,
   "metadata": {},
   "outputs": [],
   "source": []
  },
  {
   "cell_type": "code",
   "execution_count": null,
   "metadata": {},
   "outputs": [],
   "source": []
  },
  {
   "cell_type": "code",
   "execution_count": null,
   "metadata": {},
   "outputs": [],
   "source": []
  }
 ],
 "metadata": {
  "kernelspec": {
   "display_name": "Python 3",
   "language": "python",
   "name": "python3"
  },
  "language_info": {
   "codemirror_mode": {
    "name": "ipython",
    "version": 3
   },
   "file_extension": ".py",
   "mimetype": "text/x-python",
   "name": "python",
   "nbconvert_exporter": "python",
   "pygments_lexer": "ipython3",
   "version": "3.8.5"
  }
 },
 "nbformat": 4,
 "nbformat_minor": 2
}
