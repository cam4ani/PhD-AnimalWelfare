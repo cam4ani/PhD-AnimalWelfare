{
 "cells": [
  {
   "cell_type": "code",
   "execution_count": null,
   "metadata": {},
   "outputs": [],
   "source": [
    "library('lubridate')\n",
    "library ('tidyverse')\n",
    "#test residuals\n",
    "library('DHARMa')\n",
    "#for Dsquared: Proportion of deviance explained by a GLM\n",
    "library('modEvA')\n",
    "#install.packages(\"modEvA\")"
   ]
  },
  {
   "cell_type": "markdown",
   "metadata": {},
   "source": [
    "## Assess henID/system/pen explained variance of match vs non-match"
   ]
  },
  {
   "cell_type": "raw",
   "metadata": {},
   "source": [
    "compute match/no_match = model_prediction\n",
    "glmer on it and see the amount of variance explained by the hen, the pen, the systems, the hour of the day in the matching process\n",
    "We fixe the number of hens to be 50 (its enough and more would be time/memory consuming).\n",
    "We will select \"nbr_comb\" disjoint set of days, and \n",
    "adjusted D-squared: https://rdrr.io/cran/modEvA/man/Dsquared.html\n",
    "\"Linear models come with an R-squared value that measures the proportion of variation that the model accounts for. The R-squared is provided with summary(model) in R. For generalized linear models (GLMs), the equivalent is the amount of deviance accounted for (D-squared; Guisan & Zimmermann 2000), but this value is not normally provided with the model summary. The Dsquared function calculates it. There is also an option to calculate the adjusted D-squared, which takes into account the number of observations and the number of predictors, thus allowing direct comparison among different models (Weisberg 1980, Guisan & Zimmermann 2000).\"\n",
    "The logistic regression model is an example of a broad class of models known as generalized linear models (GLM). Logistic regression analysis is used to examine the association of (categorical or continuous) independent variable(s) with one dichotomous dependent variable. This is in contrast to linear regression analysis in which the dependent variable is a continuous variable."
   ]
  },
  {
   "cell_type": "code",
   "execution_count": null,
   "metadata": {},
   "outputs": [],
   "source": [
    "path_analysis = \"R:\\\\VPHI\\\\Welfare\\\\2- Research Projects\\\\OFHE2.OriginsE2\\\\DataOutput\\\\TrackingSystem\\\\v4_\\\\Cleaning\\\\Raw&Cleaned\\\\var_expl\"\n",
    "li_df = list()\n",
    "li_mod = list()\n",
    "for (path_ in Sys.glob(file.path(path_analysis, 'df_EV_*.csv'))){\n",
    "    \n",
    "    #opencsv\n",
    "    df = read_delim(path_, \";\", escape_double = FALSE, trim_ws = TRUE)\n",
    "\n",
    "    #convert into to correct format\n",
    "    c_fac = c('HenID', 'PenID', 'system','Zone')\n",
    "    df[c_fac] = lapply(df[c_fac], factor)\n",
    "\n",
    "    #define the csv id and list of varible\n",
    "    csvID = strsplit(strsplit(path_, \"df_EV_\")[[1]][2], '.csv')[[1]][1]   \n",
    "    print(csvID)\n",
    "    varlist = list('HenID', 'PenID', 'system', 'Zone')\n",
    "\n",
    "    #fit the model\n",
    "    models = lapply(varlist, function(x) {glm(substitute(model_prediction ~ i, list(i = as.name(x))), data=df, family=binomial)}) \n",
    "    #mod = glm( model_prediction ~ var, data=df, family=binomial)\n",
    "    li_mod = append(li_mod,models)\n",
    "\n",
    "    #summary(mod)\n",
    "    #explained variance per var\n",
    "    #anova(fit)\n",
    "    i = 1\n",
    "    for (mod in models){\n",
    "        #total explained var        \n",
    "        V = Dsquared(mod) #, adjust = TRUE ??????? Yamenah\n",
    "        print(V)\n",
    "        \n",
    "        jpeg(file.path(path_analysis, paste0('sim_res',csvID,'.jpg')))\n",
    "        #simulated residuals\n",
    "        bin.resid.df =  simulateResiduals(mod, 1000)\n",
    "        #plot simulated residuals https://www.rdocumentation.org/packages/DHARMa/versions/0.3.3.0/topics/plot.DHARMa\n",
    "        plot(bin.resid.df)\n",
    "        dev.off()\n",
    "\n",
    "        jpeg(file.path(path_analysis, paste0('generalplot',csvID,'.jpg')))\n",
    "        par(mfrow = c(2, 2))\n",
    "        plot(mod)\n",
    "        dev.off()\n",
    "        \n",
    "        #add values\n",
    "        li_df[[length(li_df)+1]] = list(csvID,V,varlist[[i]])\n",
    "        i = i+1\n",
    "        print(li_df)\n",
    "    }}"
   ]
  },
  {
   "cell_type": "code",
   "execution_count": null,
   "metadata": {},
   "outputs": [],
   "source": [
    "l = list(li_csvID, li_expvar, li_var)\n",
    "df_res = data.frame(matrix(unlist(l), ncol=length(l), byrow=T),stringsAsFactors=FALSE)\n",
    "df_res"
   ]
  },
  {
   "cell_type": "code",
   "execution_count": 7,
   "metadata": {},
   "outputs": [
    {
     "ename": "ERROR",
     "evalue": "Error in append(list(csvID, V, varlist[[i]])): objet 'csvID' introuvable\n",
     "output_type": "error",
     "traceback": [
      "Error in append(list(csvID, V, varlist[[i]])): objet 'csvID' introuvable\nTraceback:\n",
      "1. append(list(csvID, V, varlist[[i]]))"
     ]
    }
   ],
   "source": [
    "li_df = append(list(csvID,V,varlist[[i]]))"
   ]
  },
  {
   "cell_type": "code",
   "execution_count": 2,
   "metadata": {
    "scrolled": true
   },
   "outputs": [
    {
     "name": "stderr",
     "output_type": "stream",
     "text": [
      "Parsed with column specification:\n",
      "cols(\n",
      "  HenID = \u001b[31mcol_character()\u001b[39m,\n",
      "  PenID = \u001b[31mcol_character()\u001b[39m,\n",
      "  system = \u001b[31mcol_character()\u001b[39m,\n",
      "  Zone = \u001b[31mcol_character()\u001b[39m,\n",
      "  model_prediction = \u001b[32mcol_double()\u001b[39m\n",
      ")\n",
      "\n"
     ]
    },
    {
     "name": "stdout",
     "output_type": "stream",
     "text": [
      "[1] \"day10_18\"\n",
      "[1] 0.08746386\n",
      "[1] 0.03978958\n",
      "[1] 0.0322209\n",
      "[1] 0.09951223\n"
     ]
    },
    {
     "name": "stderr",
     "output_type": "stream",
     "text": [
      "Parsed with column specification:\n",
      "cols(\n",
      "  HenID = \u001b[31mcol_character()\u001b[39m,\n",
      "  PenID = \u001b[31mcol_character()\u001b[39m,\n",
      "  system = \u001b[31mcol_character()\u001b[39m,\n",
      "  Zone = \u001b[31mcol_character()\u001b[39m,\n",
      "  model_prediction = \u001b[32mcol_double()\u001b[39m\n",
      ")\n",
      "\n"
     ]
    },
    {
     "name": "stdout",
     "output_type": "stream",
     "text": [
      "[1] \"day10_19\"\n",
      "[1] 0.08593676\n",
      "[1] 0.03723556\n",
      "[1] 0.02795888\n",
      "[1] 0.09697678\n"
     ]
    },
    {
     "name": "stderr",
     "output_type": "stream",
     "text": [
      "Parsed with column specification:\n",
      "cols(\n",
      "  HenID = \u001b[31mcol_character()\u001b[39m,\n",
      "  PenID = \u001b[31mcol_character()\u001b[39m,\n",
      "  system = \u001b[31mcol_character()\u001b[39m,\n",
      "  Zone = \u001b[31mcol_character()\u001b[39m,\n",
      "  model_prediction = \u001b[32mcol_double()\u001b[39m\n",
      ")\n",
      "\n"
     ]
    },
    {
     "name": "stdout",
     "output_type": "stream",
     "text": [
      "[1] \"day10_20\"\n",
      "[1] 0.08038946\n"
     ]
    },
    {
     "name": "stderr",
     "output_type": "stream",
     "text": [
      "Warning message:\n",
      "\"not plotting observations with leverage one:\n",
      "  3129\"\n",
      "Warning message in sqrt(crit * p * (1 - hh)/hh):\n",
      "\"production de NaN\"\n",
      "Warning message in sqrt(crit * p * (1 - hh)/hh):\n",
      "\"production de NaN\"\n"
     ]
    },
    {
     "name": "stdout",
     "output_type": "stream",
     "text": [
      "[1] 0.03995877\n",
      "[1] 0.02941691\n",
      "[1] 0.1177434\n"
     ]
    },
    {
     "name": "stderr",
     "output_type": "stream",
     "text": [
      "Parsed with column specification:\n",
      "cols(\n",
      "  HenID = \u001b[31mcol_character()\u001b[39m,\n",
      "  PenID = \u001b[31mcol_character()\u001b[39m,\n",
      "  system = \u001b[31mcol_character()\u001b[39m,\n",
      "  Zone = \u001b[31mcol_character()\u001b[39m,\n",
      "  model_prediction = \u001b[32mcol_double()\u001b[39m\n",
      ")\n",
      "\n"
     ]
    },
    {
     "name": "stdout",
     "output_type": "stream",
     "text": [
      "[1] \"day11_21\"\n",
      "[1] 0.07149984\n"
     ]
    },
    {
     "name": "stderr",
     "output_type": "stream",
     "text": [
      "Warning message:\n",
      "\"not plotting observations with leverage one:\n",
      "  3967\"\n"
     ]
    },
    {
     "name": "stdout",
     "output_type": "stream",
     "text": [
      "[1] 0.03239967\n",
      "[1] 0.02260899\n",
      "[1] 0.1067655\n"
     ]
    },
    {
     "name": "stderr",
     "output_type": "stream",
     "text": [
      "Parsed with column specification:\n",
      "cols(\n",
      "  HenID = \u001b[31mcol_character()\u001b[39m,\n",
      "  PenID = \u001b[31mcol_character()\u001b[39m,\n",
      "  system = \u001b[31mcol_character()\u001b[39m,\n",
      "  Zone = \u001b[31mcol_character()\u001b[39m,\n",
      "  model_prediction = \u001b[32mcol_double()\u001b[39m\n",
      ")\n",
      "\n"
     ]
    },
    {
     "name": "stdout",
     "output_type": "stream",
     "text": [
      "[1] \"day11_22\"\n",
      "[1] 0.0753747\n",
      "[1] 0.04009594\n"
     ]
    },
    {
     "name": "stderr",
     "output_type": "stream",
     "text": [
      "DHARMa:plot used testOutliers with type = binomial for computational reasons (nObs > 500). Note that this method may not have inflated Type I error rates for integer-valued distributions. To get a more exact result, it is recommended to re-run testOutliers with type = 'bootstrap'. See ?testOutliers for details\n",
      "\n"
     ]
    },
    {
     "name": "stdout",
     "output_type": "stream",
     "text": [
      "[1] 0.02777112\n"
     ]
    },
    {
     "name": "stderr",
     "output_type": "stream",
     "text": [
      "DHARMa:plot used testOutliers with type = binomial for computational reasons (nObs > 500). Note that this method may not have inflated Type I error rates for integer-valued distributions. To get a more exact result, it is recommended to re-run testOutliers with type = 'bootstrap'. See ?testOutliers for details\n",
      "\n"
     ]
    },
    {
     "name": "stdout",
     "output_type": "stream",
     "text": [
      "[1] 0.1147283\n"
     ]
    },
    {
     "name": "stderr",
     "output_type": "stream",
     "text": [
      "Parsed with column specification:\n",
      "cols(\n",
      "  HenID = \u001b[31mcol_character()\u001b[39m,\n",
      "  PenID = \u001b[31mcol_character()\u001b[39m,\n",
      "  system = \u001b[31mcol_character()\u001b[39m,\n",
      "  Zone = \u001b[31mcol_character()\u001b[39m,\n",
      "  model_prediction = \u001b[32mcol_double()\u001b[39m\n",
      ")\n",
      "\n"
     ]
    },
    {
     "name": "stdout",
     "output_type": "stream",
     "text": [
      "[1] \"day11_23\"\n",
      "[1] 0.08667323\n",
      "[1] 0.03737863\n",
      "[1] 0.03030205\n",
      "[1] 0.09951203\n"
     ]
    },
    {
     "name": "stderr",
     "output_type": "stream",
     "text": [
      "Parsed with column specification:\n",
      "cols(\n",
      "  HenID = \u001b[31mcol_character()\u001b[39m,\n",
      "  PenID = \u001b[31mcol_character()\u001b[39m,\n",
      "  system = \u001b[31mcol_character()\u001b[39m,\n",
      "  Zone = \u001b[31mcol_character()\u001b[39m,\n",
      "  model_prediction = \u001b[32mcol_double()\u001b[39m\n",
      ")\n",
      "\n"
     ]
    },
    {
     "name": "stdout",
     "output_type": "stream",
     "text": [
      "[1] \"day12_24\"\n",
      "[1] 0.07568213\n"
     ]
    },
    {
     "name": "stderr",
     "output_type": "stream",
     "text": [
      "Warning message:\n",
      "\"not plotting observations with leverage one:\n",
      "  3967\"\n"
     ]
    },
    {
     "name": "stdout",
     "output_type": "stream",
     "text": [
      "[1] 0.03350728\n",
      "[1] 0.02454214\n",
      "[1] 0.1019052\n"
     ]
    },
    {
     "name": "stderr",
     "output_type": "stream",
     "text": [
      "Parsed with column specification:\n",
      "cols(\n",
      "  HenID = \u001b[31mcol_character()\u001b[39m,\n",
      "  PenID = \u001b[31mcol_character()\u001b[39m,\n",
      "  system = \u001b[31mcol_character()\u001b[39m,\n",
      "  Zone = \u001b[31mcol_character()\u001b[39m,\n",
      "  model_prediction = \u001b[32mcol_double()\u001b[39m\n",
      ")\n",
      "\n"
     ]
    },
    {
     "name": "stdout",
     "output_type": "stream",
     "text": [
      "[1] \"day12_25\"\n",
      "[1] 0.07813274\n",
      "[1] 0.03582397\n",
      "[1] 0.02718114\n",
      "[1] 0.1144485\n"
     ]
    },
    {
     "name": "stderr",
     "output_type": "stream",
     "text": [
      "Parsed with column specification:\n",
      "cols(\n",
      "  HenID = \u001b[31mcol_character()\u001b[39m,\n",
      "  PenID = \u001b[31mcol_character()\u001b[39m,\n",
      "  system = \u001b[31mcol_character()\u001b[39m,\n",
      "  Zone = \u001b[31mcol_character()\u001b[39m,\n",
      "  model_prediction = \u001b[32mcol_double()\u001b[39m\n",
      ")\n",
      "\n"
     ]
    },
    {
     "name": "stdout",
     "output_type": "stream",
     "text": [
      "[1] \"day12_26\"\n",
      "[1] 0.07806334\n"
     ]
    },
    {
     "name": "stderr",
     "output_type": "stream",
     "text": [
      "Warning message in sqrt(crit * p * (1 - hh)/hh):\n",
      "\"production de NaN\"\n",
      "Warning message in sqrt(crit * p * (1 - hh)/hh):\n",
      "\"production de NaN\"\n"
     ]
    },
    {
     "name": "stdout",
     "output_type": "stream",
     "text": [
      "[1] 0.03984378\n",
      "[1] 0.02620014\n",
      "[1] 0.1040221\n"
     ]
    },
    {
     "name": "stderr",
     "output_type": "stream",
     "text": [
      "Parsed with column specification:\n",
      "cols(\n",
      "  HenID = \u001b[31mcol_character()\u001b[39m,\n",
      "  PenID = \u001b[31mcol_character()\u001b[39m,\n",
      "  system = \u001b[31mcol_character()\u001b[39m,\n",
      "  Zone = \u001b[31mcol_character()\u001b[39m,\n",
      "  model_prediction = \u001b[32mcol_double()\u001b[39m\n",
      ")\n",
      "\n"
     ]
    },
    {
     "name": "stdout",
     "output_type": "stream",
     "text": [
      "[1] \"day13_27\"\n",
      "[1] 0.07537028\n",
      "[1] 0.03466689\n",
      "[1] 0.02307291\n"
     ]
    },
    {
     "name": "stderr",
     "output_type": "stream",
     "text": [
      "DHARMa:plot used testOutliers with type = binomial for computational reasons (nObs > 500). Note that this method may not have inflated Type I error rates for integer-valued distributions. To get a more exact result, it is recommended to re-run testOutliers with type = 'bootstrap'. See ?testOutliers for details\n",
      "\n"
     ]
    },
    {
     "name": "stdout",
     "output_type": "stream",
     "text": [
      "[1] 0.1140416\n"
     ]
    },
    {
     "name": "stderr",
     "output_type": "stream",
     "text": [
      "Parsed with column specification:\n",
      "cols(\n",
      "  HenID = \u001b[31mcol_character()\u001b[39m,\n",
      "  PenID = \u001b[31mcol_character()\u001b[39m,\n",
      "  system = \u001b[31mcol_character()\u001b[39m,\n",
      "  Zone = \u001b[31mcol_character()\u001b[39m,\n",
      "  model_prediction = \u001b[32mcol_double()\u001b[39m\n",
      ")\n",
      "\n"
     ]
    },
    {
     "name": "stdout",
     "output_type": "stream",
     "text": [
      "[1] \"day13_28\"\n",
      "[1] 0.07525278\n"
     ]
    },
    {
     "name": "stderr",
     "output_type": "stream",
     "text": [
      "Warning message:\n",
      "\"not plotting observations with leverage one:\n",
      "  5071\"\n"
     ]
    },
    {
     "name": "stdout",
     "output_type": "stream",
     "text": [
      "[1] 0.03031973\n",
      "[1] 0.02065663\n",
      "[1] 0.1028377\n"
     ]
    },
    {
     "name": "stderr",
     "output_type": "stream",
     "text": [
      "Parsed with column specification:\n",
      "cols(\n",
      "  HenID = \u001b[31mcol_character()\u001b[39m,\n",
      "  PenID = \u001b[31mcol_character()\u001b[39m,\n",
      "  system = \u001b[31mcol_character()\u001b[39m,\n",
      "  Zone = \u001b[31mcol_character()\u001b[39m,\n",
      "  model_prediction = \u001b[32mcol_double()\u001b[39m\n",
      ")\n",
      "\n"
     ]
    },
    {
     "name": "stdout",
     "output_type": "stream",
     "text": [
      "[1] \"day13_29\"\n",
      "[1] 0.08038659\n"
     ]
    },
    {
     "name": "stderr",
     "output_type": "stream",
     "text": [
      "Warning message:\n",
      "\"not plotting observations with leverage one:\n",
      "  1982\"\n",
      "Warning message in sqrt(crit * p * (1 - hh)/hh):\n",
      "\"production de NaN\"\n",
      "Warning message in sqrt(crit * p * (1 - hh)/hh):\n",
      "\"production de NaN\"\n"
     ]
    },
    {
     "name": "stdout",
     "output_type": "stream",
     "text": [
      "[1] 0.04372831\n",
      "[1] 0.03415196\n",
      "[1] 0.1040875\n"
     ]
    },
    {
     "name": "stderr",
     "output_type": "stream",
     "text": [
      "Parsed with column specification:\n",
      "cols(\n",
      "  HenID = \u001b[31mcol_character()\u001b[39m,\n",
      "  PenID = \u001b[31mcol_character()\u001b[39m,\n",
      "  system = \u001b[31mcol_character()\u001b[39m,\n",
      "  Zone = \u001b[31mcol_character()\u001b[39m,\n",
      "  model_prediction = \u001b[32mcol_double()\u001b[39m\n",
      ")\n",
      "\n"
     ]
    },
    {
     "name": "stdout",
     "output_type": "stream",
     "text": [
      "[1] \"day14_30\"\n",
      "[1] 0.0827577\n"
     ]
    },
    {
     "name": "stderr",
     "output_type": "stream",
     "text": [
      "Warning message:\n",
      "\"not plotting observations with leverage one:\n",
      "  1968, 1982\"\n",
      "Warning message in sqrt(crit * p * (1 - hh)/hh):\n",
      "\"production de NaN\"\n",
      "Warning message in sqrt(crit * p * (1 - hh)/hh):\n",
      "\"production de NaN\"\n"
     ]
    },
    {
     "name": "stdout",
     "output_type": "stream",
     "text": [
      "[1] 0.03735983\n",
      "[1] 0.02715045\n",
      "[1] 0.1180212\n"
     ]
    },
    {
     "name": "stderr",
     "output_type": "stream",
     "text": [
      "Parsed with column specification:\n",
      "cols(\n",
      "  HenID = \u001b[31mcol_character()\u001b[39m,\n",
      "  PenID = \u001b[31mcol_character()\u001b[39m,\n",
      "  system = \u001b[31mcol_character()\u001b[39m,\n",
      "  Zone = \u001b[31mcol_character()\u001b[39m,\n",
      "  model_prediction = \u001b[32mcol_double()\u001b[39m\n",
      ")\n",
      "\n"
     ]
    },
    {
     "name": "stdout",
     "output_type": "stream",
     "text": [
      "[1] \"day14_31\"\n",
      "[1] 0.0839373\n",
      "[1] 0.04261048\n",
      "[1] 0.03099246\n",
      "[1] 0.09740483\n"
     ]
    },
    {
     "name": "stderr",
     "output_type": "stream",
     "text": [
      "Parsed with column specification:\n",
      "cols(\n",
      "  HenID = \u001b[31mcol_character()\u001b[39m,\n",
      "  PenID = \u001b[31mcol_character()\u001b[39m,\n",
      "  system = \u001b[31mcol_character()\u001b[39m,\n",
      "  Zone = \u001b[31mcol_character()\u001b[39m,\n",
      "  model_prediction = \u001b[32mcol_double()\u001b[39m\n",
      ")\n",
      "\n"
     ]
    },
    {
     "name": "stdout",
     "output_type": "stream",
     "text": [
      "[1] \"day14_32\"\n",
      "[1] 0.0747488\n"
     ]
    },
    {
     "name": "stderr",
     "output_type": "stream",
     "text": [
      "Warning message in sqrt(crit * p * (1 - hh)/hh):\n",
      "\"production de NaN\"\n",
      "Warning message in sqrt(crit * p * (1 - hh)/hh):\n",
      "\"production de NaN\"\n"
     ]
    },
    {
     "name": "stdout",
     "output_type": "stream",
     "text": [
      "[1] 0.03950089\n",
      "[1] 0.02854047\n",
      "[1] 0.0997243\n"
     ]
    },
    {
     "name": "stderr",
     "output_type": "stream",
     "text": [
      "DHARMa:plot used testOutliers with type = binomial for computational reasons (nObs > 500). Note that this method may not have inflated Type I error rates for integer-valued distributions. To get a more exact result, it is recommended to re-run testOutliers with type = 'bootstrap'. See ?testOutliers for details\n",
      "\n",
      "Parsed with column specification:\n",
      "cols(\n",
      "  HenID = \u001b[31mcol_character()\u001b[39m,\n",
      "  PenID = \u001b[31mcol_character()\u001b[39m,\n",
      "  system = \u001b[31mcol_character()\u001b[39m,\n",
      "  Zone = \u001b[31mcol_character()\u001b[39m,\n",
      "  model_prediction = \u001b[32mcol_double()\u001b[39m\n",
      ")\n",
      "\n"
     ]
    },
    {
     "name": "stdout",
     "output_type": "stream",
     "text": [
      "[1] \"day15_33\"\n",
      "[1] 0.08240074\n"
     ]
    },
    {
     "name": "stderr",
     "output_type": "stream",
     "text": [
      "Warning message in sqrt(crit * p * (1 - hh)/hh):\n",
      "\"production de NaN\"\n",
      "Warning message in sqrt(crit * p * (1 - hh)/hh):\n",
      "\"production de NaN\"\n"
     ]
    },
    {
     "name": "stdout",
     "output_type": "stream",
     "text": [
      "[1] 0.03966257\n",
      "[1] 0.02902139\n",
      "[1] 0.1074151\n"
     ]
    },
    {
     "name": "stderr",
     "output_type": "stream",
     "text": [
      "Parsed with column specification:\n",
      "cols(\n",
      "  HenID = \u001b[31mcol_character()\u001b[39m,\n",
      "  PenID = \u001b[31mcol_character()\u001b[39m,\n",
      "  system = \u001b[31mcol_character()\u001b[39m,\n",
      "  Zone = \u001b[31mcol_character()\u001b[39m,\n",
      "  model_prediction = \u001b[32mcol_double()\u001b[39m\n",
      ")\n",
      "\n"
     ]
    },
    {
     "name": "stdout",
     "output_type": "stream",
     "text": [
      "[1] \"day15_34\"\n",
      "[1] 0.07177276\n"
     ]
    },
    {
     "name": "stderr",
     "output_type": "stream",
     "text": [
      "Warning message:\n",
      "\"not plotting observations with leverage one:\n",
      "  5845\"\n"
     ]
    },
    {
     "name": "stdout",
     "output_type": "stream",
     "text": [
      "[1] 0.03239085\n",
      "[1] 0.02596544\n",
      "[1] 0.1102378\n"
     ]
    },
    {
     "name": "stderr",
     "output_type": "stream",
     "text": [
      "Parsed with column specification:\n",
      "cols(\n",
      "  HenID = \u001b[31mcol_character()\u001b[39m,\n",
      "  PenID = \u001b[31mcol_character()\u001b[39m,\n",
      "  system = \u001b[31mcol_character()\u001b[39m,\n",
      "  Zone = \u001b[31mcol_character()\u001b[39m,\n",
      "  model_prediction = \u001b[32mcol_double()\u001b[39m\n",
      ")\n",
      "\n"
     ]
    },
    {
     "name": "stdout",
     "output_type": "stream",
     "text": [
      "[1] \"day15_35\"\n",
      "[1] 0.07411317\n",
      "[1] 0.03758617\n",
      "[1] 0.02415415\n",
      "[1] 0.1101808\n"
     ]
    },
    {
     "name": "stderr",
     "output_type": "stream",
     "text": [
      "Parsed with column specification:\n",
      "cols(\n",
      "  HenID = \u001b[31mcol_character()\u001b[39m,\n",
      "  PenID = \u001b[31mcol_character()\u001b[39m,\n",
      "  system = \u001b[31mcol_character()\u001b[39m,\n",
      "  Zone = \u001b[31mcol_character()\u001b[39m,\n",
      "  model_prediction = \u001b[32mcol_double()\u001b[39m\n",
      ")\n",
      "\n"
     ]
    },
    {
     "name": "stdout",
     "output_type": "stream",
     "text": [
      "[1] \"day16_36\"\n",
      "[1] 0.07520663\n",
      "[1] 0.03930792\n",
      "[1] 0.02848171\n",
      "[1] 0.1091571\n"
     ]
    },
    {
     "name": "stderr",
     "output_type": "stream",
     "text": [
      "Parsed with column specification:\n",
      "cols(\n",
      "  HenID = \u001b[31mcol_character()\u001b[39m,\n",
      "  PenID = \u001b[31mcol_character()\u001b[39m,\n",
      "  system = \u001b[31mcol_character()\u001b[39m,\n",
      "  Zone = \u001b[31mcol_character()\u001b[39m,\n",
      "  model_prediction = \u001b[32mcol_double()\u001b[39m\n",
      ")\n",
      "\n"
     ]
    },
    {
     "name": "stdout",
     "output_type": "stream",
     "text": [
      "[1] \"day16_37\"\n",
      "[1] 0.08116596\n",
      "[1] 0.03735589\n",
      "[1] 0.02738857\n",
      "[1] 0.1065069\n"
     ]
    },
    {
     "name": "stderr",
     "output_type": "stream",
     "text": [
      "Parsed with column specification:\n",
      "cols(\n",
      "  HenID = \u001b[31mcol_character()\u001b[39m,\n",
      "  PenID = \u001b[31mcol_character()\u001b[39m,\n",
      "  system = \u001b[31mcol_character()\u001b[39m,\n",
      "  Zone = \u001b[31mcol_character()\u001b[39m,\n",
      "  model_prediction = \u001b[32mcol_double()\u001b[39m\n",
      ")\n",
      "\n"
     ]
    },
    {
     "name": "stdout",
     "output_type": "stream",
     "text": [
      "[1] \"day16_38\"\n",
      "[1] 0.07689065\n"
     ]
    },
    {
     "ename": "ERROR",
     "evalue": "Error: impossible d'allouer un vecteur de taille 2.0 Mo\n",
     "output_type": "error",
     "traceback": [
      "Error: impossible d'allouer un vecteur de taille 2.0 Mo\nTraceback:\n",
      "1. simulateResiduals(mod, 1000)",
      "2. getSimulations(fittedModel, nsim = n, type = \"normal\", ...)",
      "3. getSimulations.default(fittedModel, nsim = n, type = \"normal\", \n .     ...)",
      "4. simulate(object, nsim = nsim, ...)",
      "5. simulate.lm(object, nsim = nsim, ...)",
      "6. as.data.frame(val)",
      "7. as.data.frame.matrix(val)",
      "8. as.vector(x[, i])"
     ]
    }
   ],
   "source": [
    "path_analysis = \"R:\\\\VPHI\\\\Welfare\\\\2- Research Projects\\\\OFHE2.OriginsE2\\\\DataOutput\\\\TrackingSystem\\\\v4_\\\\Cleaning\\\\Raw&Cleaned\\\\var_expl\"\n",
    "li_csvID = list()\n",
    "li_expvar = list()\n",
    "li_var = list()\n",
    "li_mod = list()\n",
    "for (path_ in Sys.glob(file.path(path_analysis, 'df_EV_*.csv'))){\n",
    "    #opencsv\n",
    "    df = read_delim(path_, \";\", escape_double = FALSE, trim_ws = TRUE)\n",
    "\n",
    "    #convert into to correct format\n",
    "    c_fac = c('HenID', 'PenID', 'system','Zone')\n",
    "    df[c_fac] = lapply(df[c_fac], factor)\n",
    "\n",
    "    #define the csv id and list of varible\n",
    "    csvID = strsplit(strsplit(path_, \"df_EV_\")[[1]][2], '.csv')[[1]][1]   \n",
    "    print(csvID)\n",
    "    varlist = c('HenID', 'PenID', 'system', 'Zone')\n",
    "    li_var = append(li_var, varlist)\n",
    "\n",
    "    #fit the model\n",
    "    models = lapply(varlist, function(x) {glm(substitute(model_prediction ~ i, list(i = as.name(x))), data=df, family=binomial)}) \n",
    "    #mod = glm( model_prediction ~ var, data=df, family=binomial)\n",
    "    li_mod = append(li_mod,models)\n",
    "\n",
    "    #summary(mod)\n",
    "    #explained variance per var\n",
    "    #anova(fit)\n",
    "    for (mod in models){\n",
    "        #total explained var        \n",
    "        V = Dsquared(mod) #, adjust = TRUE ??????? Yamenah\n",
    "        print(V)\n",
    "        \n",
    "        jpeg(file.path(path_analysis, paste0('sim_res',csvID,'.jpg')))\n",
    "        #simulated residuals\n",
    "        bin.resid.df =  simulateResiduals(mod, 1000)\n",
    "        #plot simulated residuals https://www.rdocumentation.org/packages/DHARMa/versions/0.3.3.0/topics/plot.DHARMa\n",
    "        plot(bin.resid.df)\n",
    "        dev.off()\n",
    "\n",
    "        jpeg(file.path(path_analysis, paste0('generalplot',csvID,'.jpg')))\n",
    "        par(mfrow = c(2, 2))\n",
    "        plot(mod)\n",
    "        dev.off()\n",
    "        \n",
    "        #add values\n",
    "        li_csvID = append(li_csvID, csvID)\n",
    "        li_expvar = append(li_expvar, V)\n",
    "    }}\n",
    "l = list(li_csvID, li_expvar, li_var)\n",
    "df_res = data.frame(matrix(unlist(l), ncol=length(l), byrow=T),stringsAsFactors=FALSE)\n",
    "df_res"
   ]
  },
  {
   "cell_type": "code",
   "execution_count": null,
   "metadata": {},
   "outputs": [],
   "source": []
  },
  {
   "cell_type": "code",
   "execution_count": 8,
   "metadata": {
    "scrolled": true
   },
   "outputs": [
    {
     "name": "stderr",
     "output_type": "stream",
     "text": [
      "Warning message in matrix(unlist(l), nrow = length(l), byrow = T):\n",
      "\"la longueur des données [244] n'est pas un diviseur ni un multiple du nombre de lignes [3]\"\n"
     ]
    },
    {
     "data": {
      "text/html": [
       "<table>\n",
       "<caption>A matrix: 82 × 3 of type chr</caption>\n",
       "<tbody>\n",
       "\t<tr><th scope=row>X1</th><td>day10_18</td><td>0.032220903920641 </td><td>HenID </td></tr>\n",
       "\t<tr><th scope=row>X2</th><td>day10_18</td><td>0.0995122293109121</td><td>PenID </td></tr>\n",
       "\t<tr><th scope=row>X3</th><td>day10_18</td><td>0.0859367565138946</td><td>system</td></tr>\n",
       "\t<tr><th scope=row>X4</th><td>day10_18</td><td>0.0372355581454809</td><td>Zone  </td></tr>\n",
       "\t<tr><th scope=row>X5</th><td>day10_19</td><td>0.0279588819892736</td><td>HenID </td></tr>\n",
       "\t<tr><th scope=row>X6</th><td>day10_19</td><td>0.0969767757630883</td><td>PenID </td></tr>\n",
       "\t<tr><th scope=row>X7</th><td>day10_19</td><td>0.080389460500359 </td><td>system</td></tr>\n",
       "\t<tr><th scope=row>X8</th><td>day10_19</td><td>0.0399587713069786</td><td>Zone  </td></tr>\n",
       "\t<tr><th scope=row>X9</th><td>day10_20</td><td>0.0294169080634388</td><td>HenID </td></tr>\n",
       "\t<tr><th scope=row>X10</th><td>day10_20</td><td>0.117743401706488 </td><td>PenID </td></tr>\n",
       "\t<tr><th scope=row>X11</th><td>day10_20</td><td>0.0714998384848465</td><td>system</td></tr>\n",
       "\t<tr><th scope=row>X12</th><td>day10_20</td><td>0.0323996656513837</td><td>Zone  </td></tr>\n",
       "\t<tr><th scope=row>X13</th><td>day11_21</td><td>0.0226089911212961</td><td>HenID </td></tr>\n",
       "\t<tr><th scope=row>X14</th><td>day11_21</td><td>0.106765507665637 </td><td>PenID </td></tr>\n",
       "\t<tr><th scope=row>X15</th><td>day11_21</td><td>0.0753746963146119</td><td>system</td></tr>\n",
       "\t<tr><th scope=row>X16</th><td>day11_21</td><td>0.0400959406667865</td><td>Zone  </td></tr>\n",
       "\t<tr><th scope=row>X17</th><td>day11_22</td><td>0.02777112479434  </td><td>HenID </td></tr>\n",
       "\t<tr><th scope=row>X18</th><td>day11_22</td><td>0.114728290606294 </td><td>PenID </td></tr>\n",
       "\t<tr><th scope=row>X19</th><td>day11_22</td><td>0.0866732339408345</td><td>system</td></tr>\n",
       "\t<tr><th scope=row>X20</th><td>day11_22</td><td>0.0373786253055556</td><td>Zone  </td></tr>\n",
       "\t<tr><th scope=row>X21</th><td>day11_23</td><td>0.0303020536693676</td><td>HenID </td></tr>\n",
       "\t<tr><th scope=row>X22</th><td>day11_23</td><td>0.0995120335573479</td><td>PenID </td></tr>\n",
       "\t<tr><th scope=row>X23</th><td>day11_23</td><td>0.0756821321119289</td><td>system</td></tr>\n",
       "\t<tr><th scope=row>X24</th><td>day11_23</td><td>0.0335072757749256</td><td>Zone  </td></tr>\n",
       "\t<tr><th scope=row>X25</th><td>day12_24</td><td>0.0245421377525559</td><td>HenID </td></tr>\n",
       "\t<tr><th scope=row>X26</th><td>day12_24</td><td>0.101905240947901 </td><td>PenID </td></tr>\n",
       "\t<tr><th scope=row>X27</th><td>day12_24</td><td>0.0781327385382485</td><td>system</td></tr>\n",
       "\t<tr><th scope=row>X28</th><td>day12_24</td><td>0.0358239731205513</td><td>Zone  </td></tr>\n",
       "\t<tr><th scope=row>X29</th><td>day12_25</td><td>0.0271811366628863</td><td>HenID </td></tr>\n",
       "\t<tr><th scope=row>X30</th><td>day12_25</td><td>0.114448548751179 </td><td>PenID </td></tr>\n",
       "\t<tr><th scope=row>...</th><td>...</td><td>...</td><td>...</td></tr>\n",
       "\t<tr><th scope=row>X53</th><td>day14_31          </td><td>0.0309924643486649</td><td>HenID   </td></tr>\n",
       "\t<tr><th scope=row>X54</th><td>day14_31          </td><td>0.0974048270759653</td><td>PenID   </td></tr>\n",
       "\t<tr><th scope=row>X55</th><td>day14_31          </td><td>0.0747488001878658</td><td>system  </td></tr>\n",
       "\t<tr><th scope=row>X56</th><td>day14_31          </td><td>0.039500891806671 </td><td>Zone    </td></tr>\n",
       "\t<tr><th scope=row>X57</th><td>day14_32          </td><td>0.02854047264386  </td><td>HenID   </td></tr>\n",
       "\t<tr><th scope=row>X58</th><td>day14_32          </td><td>0.0997243033073636</td><td>PenID   </td></tr>\n",
       "\t<tr><th scope=row>X59</th><td>day14_32          </td><td>0.0824007382449734</td><td>system  </td></tr>\n",
       "\t<tr><th scope=row>X60</th><td>day14_32          </td><td>0.039662569140153 </td><td>Zone    </td></tr>\n",
       "\t<tr><th scope=row>X61</th><td>day15_33          </td><td>0.0290213872704902</td><td>HenID   </td></tr>\n",
       "\t<tr><th scope=row>X62</th><td>day15_33          </td><td>0.107415085363497 </td><td>PenID   </td></tr>\n",
       "\t<tr><th scope=row>X63</th><td>day15_33          </td><td>0.071772764925964 </td><td>system  </td></tr>\n",
       "\t<tr><th scope=row>X64</th><td>day15_33          </td><td>0.0323908482042851</td><td>Zone    </td></tr>\n",
       "\t<tr><th scope=row>X65</th><td>day15_34          </td><td>0.0259654365446248</td><td>HenID   </td></tr>\n",
       "\t<tr><th scope=row>X66</th><td>day15_34          </td><td>0.110237834088764 </td><td>PenID   </td></tr>\n",
       "\t<tr><th scope=row>X67</th><td>day15_34          </td><td>0.0741131708677727</td><td>system  </td></tr>\n",
       "\t<tr><th scope=row>X68</th><td>day15_34          </td><td>0.037586169907431 </td><td>Zone    </td></tr>\n",
       "\t<tr><th scope=row>X69</th><td>day15_35          </td><td>0.0241541535154794</td><td>HenID   </td></tr>\n",
       "\t<tr><th scope=row>X70</th><td>day15_35          </td><td>0.110180788148182 </td><td>PenID   </td></tr>\n",
       "\t<tr><th scope=row>X71</th><td>day15_35          </td><td>0.0752066291794136</td><td>system  </td></tr>\n",
       "\t<tr><th scope=row>X72</th><td>day15_35          </td><td>0.0393079189388394</td><td>Zone    </td></tr>\n",
       "\t<tr><th scope=row>X73</th><td>day16_36          </td><td>0.0284817118827301</td><td>HenID   </td></tr>\n",
       "\t<tr><th scope=row>X74</th><td>day16_36          </td><td>0.109157147886161 </td><td>PenID   </td></tr>\n",
       "\t<tr><th scope=row>X75</th><td>day16_36          </td><td>0.0811659560258274</td><td>system  </td></tr>\n",
       "\t<tr><th scope=row>X76</th><td>day16_36          </td><td>0.037355888028112 </td><td>Zone    </td></tr>\n",
       "\t<tr><th scope=row>X77</th><td>day16_37          </td><td>0.0273885652130686</td><td>HenID   </td></tr>\n",
       "\t<tr><th scope=row>X78</th><td>day16_37          </td><td>0.106506927757919 </td><td>PenID   </td></tr>\n",
       "\t<tr><th scope=row>X79</th><td>day16_37          </td><td>HenID             </td><td>system  </td></tr>\n",
       "\t<tr><th scope=row>X80</th><td>day16_37          </td><td>PenID             </td><td>Zone    </td></tr>\n",
       "\t<tr><th scope=row>X81</th><td>0.0874638570271678</td><td>system            </td><td>day10_18</td></tr>\n",
       "\t<tr><th scope=row>X82</th><td>0.0397895845285295</td><td>Zone              </td><td>day10_18</td></tr>\n",
       "</tbody>\n",
       "</table>\n"
      ],
      "text/latex": [
       "A matrix: 82 × 3 of type chr\n",
       "\\begin{tabular}{r|lll}\n",
       "\tX1 & day10\\_18 & 0.032220903920641  & HenID \\\\\n",
       "\tX2 & day10\\_18 & 0.0995122293109121 & PenID \\\\\n",
       "\tX3 & day10\\_18 & 0.0859367565138946 & system\\\\\n",
       "\tX4 & day10\\_18 & 0.0372355581454809 & Zone  \\\\\n",
       "\tX5 & day10\\_19 & 0.0279588819892736 & HenID \\\\\n",
       "\tX6 & day10\\_19 & 0.0969767757630883 & PenID \\\\\n",
       "\tX7 & day10\\_19 & 0.080389460500359  & system\\\\\n",
       "\tX8 & day10\\_19 & 0.0399587713069786 & Zone  \\\\\n",
       "\tX9 & day10\\_20 & 0.0294169080634388 & HenID \\\\\n",
       "\tX10 & day10\\_20 & 0.117743401706488  & PenID \\\\\n",
       "\tX11 & day10\\_20 & 0.0714998384848465 & system\\\\\n",
       "\tX12 & day10\\_20 & 0.0323996656513837 & Zone  \\\\\n",
       "\tX13 & day11\\_21 & 0.0226089911212961 & HenID \\\\\n",
       "\tX14 & day11\\_21 & 0.106765507665637  & PenID \\\\\n",
       "\tX15 & day11\\_21 & 0.0753746963146119 & system\\\\\n",
       "\tX16 & day11\\_21 & 0.0400959406667865 & Zone  \\\\\n",
       "\tX17 & day11\\_22 & 0.02777112479434   & HenID \\\\\n",
       "\tX18 & day11\\_22 & 0.114728290606294  & PenID \\\\\n",
       "\tX19 & day11\\_22 & 0.0866732339408345 & system\\\\\n",
       "\tX20 & day11\\_22 & 0.0373786253055556 & Zone  \\\\\n",
       "\tX21 & day11\\_23 & 0.0303020536693676 & HenID \\\\\n",
       "\tX22 & day11\\_23 & 0.0995120335573479 & PenID \\\\\n",
       "\tX23 & day11\\_23 & 0.0756821321119289 & system\\\\\n",
       "\tX24 & day11\\_23 & 0.0335072757749256 & Zone  \\\\\n",
       "\tX25 & day12\\_24 & 0.0245421377525559 & HenID \\\\\n",
       "\tX26 & day12\\_24 & 0.101905240947901  & PenID \\\\\n",
       "\tX27 & day12\\_24 & 0.0781327385382485 & system\\\\\n",
       "\tX28 & day12\\_24 & 0.0358239731205513 & Zone  \\\\\n",
       "\tX29 & day12\\_25 & 0.0271811366628863 & HenID \\\\\n",
       "\tX30 & day12\\_25 & 0.114448548751179  & PenID \\\\\n",
       "\t... & ... & ... & ...\\\\\n",
       "\tX53 & day14\\_31           & 0.0309924643486649 & HenID   \\\\\n",
       "\tX54 & day14\\_31           & 0.0974048270759653 & PenID   \\\\\n",
       "\tX55 & day14\\_31           & 0.0747488001878658 & system  \\\\\n",
       "\tX56 & day14\\_31           & 0.039500891806671  & Zone    \\\\\n",
       "\tX57 & day14\\_32           & 0.02854047264386   & HenID   \\\\\n",
       "\tX58 & day14\\_32           & 0.0997243033073636 & PenID   \\\\\n",
       "\tX59 & day14\\_32           & 0.0824007382449734 & system  \\\\\n",
       "\tX60 & day14\\_32           & 0.039662569140153  & Zone    \\\\\n",
       "\tX61 & day15\\_33           & 0.0290213872704902 & HenID   \\\\\n",
       "\tX62 & day15\\_33           & 0.107415085363497  & PenID   \\\\\n",
       "\tX63 & day15\\_33           & 0.071772764925964  & system  \\\\\n",
       "\tX64 & day15\\_33           & 0.0323908482042851 & Zone    \\\\\n",
       "\tX65 & day15\\_34           & 0.0259654365446248 & HenID   \\\\\n",
       "\tX66 & day15\\_34           & 0.110237834088764  & PenID   \\\\\n",
       "\tX67 & day15\\_34           & 0.0741131708677727 & system  \\\\\n",
       "\tX68 & day15\\_34           & 0.037586169907431  & Zone    \\\\\n",
       "\tX69 & day15\\_35           & 0.0241541535154794 & HenID   \\\\\n",
       "\tX70 & day15\\_35           & 0.110180788148182  & PenID   \\\\\n",
       "\tX71 & day15\\_35           & 0.0752066291794136 & system  \\\\\n",
       "\tX72 & day15\\_35           & 0.0393079189388394 & Zone    \\\\\n",
       "\tX73 & day16\\_36           & 0.0284817118827301 & HenID   \\\\\n",
       "\tX74 & day16\\_36           & 0.109157147886161  & PenID   \\\\\n",
       "\tX75 & day16\\_36           & 0.0811659560258274 & system  \\\\\n",
       "\tX76 & day16\\_36           & 0.037355888028112  & Zone    \\\\\n",
       "\tX77 & day16\\_37           & 0.0273885652130686 & HenID   \\\\\n",
       "\tX78 & day16\\_37           & 0.106506927757919  & PenID   \\\\\n",
       "\tX79 & day16\\_37           & HenID              & system  \\\\\n",
       "\tX80 & day16\\_37           & PenID              & Zone    \\\\\n",
       "\tX81 & 0.0874638570271678 & system             & day10\\_18\\\\\n",
       "\tX82 & 0.0397895845285295 & Zone               & day10\\_18\\\\\n",
       "\\end{tabular}\n"
      ],
      "text/markdown": [
       "\n",
       "A matrix: 82 × 3 of type chr\n",
       "\n",
       "| X1 | day10_18 | 0.032220903920641  | HenID  |\n",
       "| X2 | day10_18 | 0.0995122293109121 | PenID  |\n",
       "| X3 | day10_18 | 0.0859367565138946 | system |\n",
       "| X4 | day10_18 | 0.0372355581454809 | Zone   |\n",
       "| X5 | day10_19 | 0.0279588819892736 | HenID  |\n",
       "| X6 | day10_19 | 0.0969767757630883 | PenID  |\n",
       "| X7 | day10_19 | 0.080389460500359  | system |\n",
       "| X8 | day10_19 | 0.0399587713069786 | Zone   |\n",
       "| X9 | day10_20 | 0.0294169080634388 | HenID  |\n",
       "| X10 | day10_20 | 0.117743401706488  | PenID  |\n",
       "| X11 | day10_20 | 0.0714998384848465 | system |\n",
       "| X12 | day10_20 | 0.0323996656513837 | Zone   |\n",
       "| X13 | day11_21 | 0.0226089911212961 | HenID  |\n",
       "| X14 | day11_21 | 0.106765507665637  | PenID  |\n",
       "| X15 | day11_21 | 0.0753746963146119 | system |\n",
       "| X16 | day11_21 | 0.0400959406667865 | Zone   |\n",
       "| X17 | day11_22 | 0.02777112479434   | HenID  |\n",
       "| X18 | day11_22 | 0.114728290606294  | PenID  |\n",
       "| X19 | day11_22 | 0.0866732339408345 | system |\n",
       "| X20 | day11_22 | 0.0373786253055556 | Zone   |\n",
       "| X21 | day11_23 | 0.0303020536693676 | HenID  |\n",
       "| X22 | day11_23 | 0.0995120335573479 | PenID  |\n",
       "| X23 | day11_23 | 0.0756821321119289 | system |\n",
       "| X24 | day11_23 | 0.0335072757749256 | Zone   |\n",
       "| X25 | day12_24 | 0.0245421377525559 | HenID  |\n",
       "| X26 | day12_24 | 0.101905240947901  | PenID  |\n",
       "| X27 | day12_24 | 0.0781327385382485 | system |\n",
       "| X28 | day12_24 | 0.0358239731205513 | Zone   |\n",
       "| X29 | day12_25 | 0.0271811366628863 | HenID  |\n",
       "| X30 | day12_25 | 0.114448548751179  | PenID  |\n",
       "| ... | ... | ... | ... |\n",
       "| X53 | day14_31           | 0.0309924643486649 | HenID    |\n",
       "| X54 | day14_31           | 0.0974048270759653 | PenID    |\n",
       "| X55 | day14_31           | 0.0747488001878658 | system   |\n",
       "| X56 | day14_31           | 0.039500891806671  | Zone     |\n",
       "| X57 | day14_32           | 0.02854047264386   | HenID    |\n",
       "| X58 | day14_32           | 0.0997243033073636 | PenID    |\n",
       "| X59 | day14_32           | 0.0824007382449734 | system   |\n",
       "| X60 | day14_32           | 0.039662569140153  | Zone     |\n",
       "| X61 | day15_33           | 0.0290213872704902 | HenID    |\n",
       "| X62 | day15_33           | 0.107415085363497  | PenID    |\n",
       "| X63 | day15_33           | 0.071772764925964  | system   |\n",
       "| X64 | day15_33           | 0.0323908482042851 | Zone     |\n",
       "| X65 | day15_34           | 0.0259654365446248 | HenID    |\n",
       "| X66 | day15_34           | 0.110237834088764  | PenID    |\n",
       "| X67 | day15_34           | 0.0741131708677727 | system   |\n",
       "| X68 | day15_34           | 0.037586169907431  | Zone     |\n",
       "| X69 | day15_35           | 0.0241541535154794 | HenID    |\n",
       "| X70 | day15_35           | 0.110180788148182  | PenID    |\n",
       "| X71 | day15_35           | 0.0752066291794136 | system   |\n",
       "| X72 | day15_35           | 0.0393079189388394 | Zone     |\n",
       "| X73 | day16_36           | 0.0284817118827301 | HenID    |\n",
       "| X74 | day16_36           | 0.109157147886161  | PenID    |\n",
       "| X75 | day16_36           | 0.0811659560258274 | system   |\n",
       "| X76 | day16_36           | 0.037355888028112  | Zone     |\n",
       "| X77 | day16_37           | 0.0273885652130686 | HenID    |\n",
       "| X78 | day16_37           | 0.106506927757919  | PenID    |\n",
       "| X79 | day16_37           | HenID              | system   |\n",
       "| X80 | day16_37           | PenID              | Zone     |\n",
       "| X81 | 0.0874638570271678 | system             | day10_18 |\n",
       "| X82 | 0.0397895845285295 | Zone               | day10_18 |\n",
       "\n"
      ],
      "text/plain": [
       "    [,1]               [,2]               [,3]    \n",
       "X1  day10_18           0.032220903920641  HenID   \n",
       "X2  day10_18           0.0995122293109121 PenID   \n",
       "X3  day10_18           0.0859367565138946 system  \n",
       "X4  day10_18           0.0372355581454809 Zone    \n",
       "X5  day10_19           0.0279588819892736 HenID   \n",
       "X6  day10_19           0.0969767757630883 PenID   \n",
       "X7  day10_19           0.080389460500359  system  \n",
       "X8  day10_19           0.0399587713069786 Zone    \n",
       "X9  day10_20           0.0294169080634388 HenID   \n",
       "X10 day10_20           0.117743401706488  PenID   \n",
       "X11 day10_20           0.0714998384848465 system  \n",
       "X12 day10_20           0.0323996656513837 Zone    \n",
       "X13 day11_21           0.0226089911212961 HenID   \n",
       "X14 day11_21           0.106765507665637  PenID   \n",
       "X15 day11_21           0.0753746963146119 system  \n",
       "X16 day11_21           0.0400959406667865 Zone    \n",
       "X17 day11_22           0.02777112479434   HenID   \n",
       "X18 day11_22           0.114728290606294  PenID   \n",
       "X19 day11_22           0.0866732339408345 system  \n",
       "X20 day11_22           0.0373786253055556 Zone    \n",
       "X21 day11_23           0.0303020536693676 HenID   \n",
       "X22 day11_23           0.0995120335573479 PenID   \n",
       "X23 day11_23           0.0756821321119289 system  \n",
       "X24 day11_23           0.0335072757749256 Zone    \n",
       "X25 day12_24           0.0245421377525559 HenID   \n",
       "X26 day12_24           0.101905240947901  PenID   \n",
       "X27 day12_24           0.0781327385382485 system  \n",
       "X28 day12_24           0.0358239731205513 Zone    \n",
       "X29 day12_25           0.0271811366628863 HenID   \n",
       "X30 day12_25           0.114448548751179  PenID   \n",
       "... ...                ...                ...     \n",
       "X53 day14_31           0.0309924643486649 HenID   \n",
       "X54 day14_31           0.0974048270759653 PenID   \n",
       "X55 day14_31           0.0747488001878658 system  \n",
       "X56 day14_31           0.039500891806671  Zone    \n",
       "X57 day14_32           0.02854047264386   HenID   \n",
       "X58 day14_32           0.0997243033073636 PenID   \n",
       "X59 day14_32           0.0824007382449734 system  \n",
       "X60 day14_32           0.039662569140153  Zone    \n",
       "X61 day15_33           0.0290213872704902 HenID   \n",
       "X62 day15_33           0.107415085363497  PenID   \n",
       "X63 day15_33           0.071772764925964  system  \n",
       "X64 day15_33           0.0323908482042851 Zone    \n",
       "X65 day15_34           0.0259654365446248 HenID   \n",
       "X66 day15_34           0.110237834088764  PenID   \n",
       "X67 day15_34           0.0741131708677727 system  \n",
       "X68 day15_34           0.037586169907431  Zone    \n",
       "X69 day15_35           0.0241541535154794 HenID   \n",
       "X70 day15_35           0.110180788148182  PenID   \n",
       "X71 day15_35           0.0752066291794136 system  \n",
       "X72 day15_35           0.0393079189388394 Zone    \n",
       "X73 day16_36           0.0284817118827301 HenID   \n",
       "X74 day16_36           0.109157147886161  PenID   \n",
       "X75 day16_36           0.0811659560258274 system  \n",
       "X76 day16_36           0.037355888028112  Zone    \n",
       "X77 day16_37           0.0273885652130686 HenID   \n",
       "X78 day16_37           0.106506927757919  PenID   \n",
       "X79 day16_37           HenID              system  \n",
       "X80 day16_37           PenID              Zone    \n",
       "X81 0.0874638570271678 system             day10_18\n",
       "X82 0.0397895845285295 Zone               day10_18"
      ]
     },
     "metadata": {},
     "output_type": "display_data"
    }
   ],
   "source": [
    "l = list(li_csvID, li_expvar, li_var)\n",
    "df_res = data.frame(matrix(unlist(l), nrow=length(l), byrow=T),stringsAsFactors=FALSE)\n",
    "df_res = t(df_res)\n",
    "df_res"
   ]
  },
  {
   "cell_type": "code",
   "execution_count": 18,
   "metadata": {},
   "outputs": [
    {
     "name": "stderr",
     "output_type": "stream",
     "text": [
      "Warning message in write.csv2(df_res, file.path(path_analysis, \"df_VarExpl.csv\"), :\n",
      "\"attempt to set 'col.names' ignored\"\n"
     ]
    }
   ],
   "source": [
    "write.csv2(df_res, file.path(path_analysis,\"df_VarExpl.csv\"), row.names = FALSE, col.names=FALSE)"
   ]
  },
  {
   "cell_type": "code",
   "execution_count": null,
   "metadata": {},
   "outputs": [],
   "source": []
  },
  {
   "cell_type": "code",
   "execution_count": null,
   "metadata": {},
   "outputs": [],
   "source": [
    "sink(file.path(path_analysis,\"models.txt\"))\n",
    "print(li_mod)\n",
    "sink()"
   ]
  },
  {
   "cell_type": "raw",
   "metadata": {},
   "source": [
    "Questions \n",
    "1.\n",
    "number of categroy per variable?\n",
    "nested var (hen in pen, in system)\n",
    "--> do one pmodel per categorical variables and compute the Dsquared\n",
    "\n",
    "2.\n",
    "Dsquared(model = fit) #, adjust = TRUE ??????? Yamenah"
   ]
  },
  {
   "cell_type": "code",
   "execution_count": null,
   "metadata": {},
   "outputs": [],
   "source": []
  },
  {
   "cell_type": "code",
   "execution_count": null,
   "metadata": {},
   "outputs": [],
   "source": []
  },
  {
   "cell_type": "code",
   "execution_count": null,
   "metadata": {},
   "outputs": [],
   "source": []
  },
  {
   "cell_type": "code",
   "execution_count": null,
   "metadata": {},
   "outputs": [],
   "source": []
  },
  {
   "cell_type": "code",
   "execution_count": null,
   "metadata": {},
   "outputs": [],
   "source": []
  },
  {
   "cell_type": "code",
   "execution_count": null,
   "metadata": {},
   "outputs": [],
   "source": []
  },
  {
   "cell_type": "code",
   "execution_count": null,
   "metadata": {},
   "outputs": [],
   "source": []
  }
 ],
 "metadata": {
  "kernelspec": {
   "display_name": "R",
   "language": "R",
   "name": "ir"
  },
  "language_info": {
   "codemirror_mode": "r",
   "file_extension": ".r",
   "mimetype": "text/x-r-source",
   "name": "R",
   "pygments_lexer": "r",
   "version": "4.0.2"
  }
 },
 "nbformat": 4,
 "nbformat_minor": 4
}
