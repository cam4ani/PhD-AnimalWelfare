{
 "cells": [
  {
   "cell_type": "code",
   "execution_count": 1,
   "metadata": {},
   "outputs": [],
   "source": [
    "import numpy as np\n",
    "import pandas as pd\n",
    "from sklearn.metrics import explained_variance_score\n",
    "from scipy import stats\n",
    "import matplotlib.pyplot as plt\n",
    "import seaborn as sns\n",
    "import os\n",
    "import sys\n",
    "import tqdm as tqdm"
   ]
  },
  {
   "cell_type": "code",
   "execution_count": 2,
   "metadata": {},
   "outputs": [
    {
     "name": "stderr",
     "output_type": "stream",
     "text": [
      "C:\\Users\\camil\\anaconda3\\lib\\site-packages\\scipy\\sparse\\sparsetools.py:21: DeprecationWarning: `scipy.sparse.sparsetools` is deprecated!\n",
      "scipy.sparse.sparsetools is a private module for scipy.sparse, and should not be used.\n",
      "  _deprecated()\n"
     ]
    },
    {
     "name": "stdout",
     "output_type": "stream",
     "text": [
      "2\n"
     ]
    }
   ],
   "source": [
    "PACKAGE_PARENT = '../'\n",
    "SCRIPT_DIR = os.path.dirname(os.path.realpath(os.path.join(os.getcwd(), os.path.expanduser('__file__'))))\n",
    "sys.path.append(os.path.normpath(os.path.join(SCRIPT_DIR, PACKAGE_PARENT)))\n",
    "from UTILS import cleaning_processing, preprocessing_Origins\n",
    "import config_origins_chapter0 as config"
   ]
  },
  {
   "cell_type": "code",
   "execution_count": 3,
   "metadata": {},
   "outputs": [
    {
     "name": "stderr",
     "output_type": "stream",
     "text": [
      "C:\\Users\\camil\\anaconda3\\lib\\site-packages\\ipykernel\\ipkernel.py:283: DeprecationWarning: `should_run_async` will not call `transform_cell` automatically in the future. Please pass the result to `transformed_cell` argument and any exception that happen during thetransform in `preprocessing_exc_tuple` in IPython 7.17 and above.\n",
      "  and should_run_async(code)\n"
     ]
    }
   ],
   "source": [
    "path_extracted_data = config.path_extracted_data\n",
    "path_extracted_data_cleaning = os.path.join(path_extracted_data,'Cleaning')"
   ]
  },
  {
   "cell_type": "code",
   "execution_count": 4,
   "metadata": {},
   "outputs": [
    {
     "name": "stderr",
     "output_type": "stream",
     "text": [
      "C:\\Users\\camil\\anaconda3\\lib\\site-packages\\ipykernel\\ipkernel.py:283: DeprecationWarning: `should_run_async` will not call `transform_cell` automatically in the future. Please pass the result to `transformed_cell` argument and any exception that happen during thetransform in `preprocessing_exc_tuple` in IPython 7.17 and above.\n",
      "  and should_run_async(code)\n"
     ]
    }
   ],
   "source": [
    "#initialise parameters\n",
    "obs_per_ind = 2 #sample size = obs_per_ind * ind (which vary from 10 to 100)\n",
    "cov = 0.3\n",
    "var = 1\n",
    "max_k = 100\n",
    "min_EV = 0.9\n",
    "cov_noise = 0.1\n",
    "pval_sign = 0.05\n",
    "total_run = 10000"
   ]
  },
  {
   "cell_type": "code",
   "execution_count": 5,
   "metadata": {
    "scrolled": true
   },
   "outputs": [
    {
     "name": "stderr",
     "output_type": "stream",
     "text": [
      "C:\\Users\\camil\\anaconda3\\lib\\site-packages\\ipykernel\\ipkernel.py:283: DeprecationWarning: `should_run_async` will not call `transform_cell` automatically in the future. Please pass the result to `transformed_cell` argument and any exception that happen during thetransform in `preprocessing_exc_tuple` in IPython 7.17 and above.\n",
      "  and should_run_async(code)\n",
      "100%|███████████████████████████████████████████████████████████████████████████████████| 6/6 [11:38<00:00, 116.46s/it]\n"
     ]
    },
    {
     "name": "stdout",
     "output_type": "stream",
     "text": [
      "(628061, 10)\n"
     ]
    },
    {
     "data": {
      "text/html": [
       "<div>\n",
       "<style scoped>\n",
       "    .dataframe tbody tr th:only-of-type {\n",
       "        vertical-align: middle;\n",
       "    }\n",
       "\n",
       "    .dataframe tbody tr th {\n",
       "        vertical-align: top;\n",
       "    }\n",
       "\n",
       "    .dataframe thead th {\n",
       "        text-align: right;\n",
       "    }\n",
       "</style>\n",
       "<table border=\"1\" class=\"dataframe\">\n",
       "  <thead>\n",
       "    <tr style=\"text-align: right;\">\n",
       "      <th></th>\n",
       "      <th>correlation coefficient</th>\n",
       "      <th>pvalue</th>\n",
       "      <th>EV</th>\n",
       "      <th>significant</th>\n",
       "      <th>initial effect size</th>\n",
       "      <th>TR</th>\n",
       "      <th>num_samples</th>\n",
       "      <th>loss in effect size</th>\n",
       "      <th>percent loss in effect size</th>\n",
       "      <th>initial effect size class</th>\n",
       "    </tr>\n",
       "  </thead>\n",
       "  <tbody>\n",
       "    <tr>\n",
       "      <th>0</th>\n",
       "      <td>0.278069</td>\n",
       "      <td>0.012509</td>\n",
       "      <td>0.99</td>\n",
       "      <td>True</td>\n",
       "      <td>0.287393</td>\n",
       "      <td>0</td>\n",
       "      <td>80</td>\n",
       "      <td>0.009324</td>\n",
       "      <td>3.244386</td>\n",
       "      <td>0.29</td>\n",
       "    </tr>\n",
       "    <tr>\n",
       "      <th>1</th>\n",
       "      <td>0.265528</td>\n",
       "      <td>0.017290</td>\n",
       "      <td>0.98</td>\n",
       "      <td>True</td>\n",
       "      <td>0.287393</td>\n",
       "      <td>0</td>\n",
       "      <td>80</td>\n",
       "      <td>0.021866</td>\n",
       "      <td>7.608309</td>\n",
       "      <td>0.29</td>\n",
       "    </tr>\n",
       "    <tr>\n",
       "      <th>2</th>\n",
       "      <td>0.249765</td>\n",
       "      <td>0.025460</td>\n",
       "      <td>0.97</td>\n",
       "      <td>True</td>\n",
       "      <td>0.287393</td>\n",
       "      <td>0</td>\n",
       "      <td>80</td>\n",
       "      <td>0.037629</td>\n",
       "      <td>13.093088</td>\n",
       "      <td>0.29</td>\n",
       "    </tr>\n",
       "    <tr>\n",
       "      <th>3</th>\n",
       "      <td>0.251534</td>\n",
       "      <td>0.024405</td>\n",
       "      <td>0.96</td>\n",
       "      <td>True</td>\n",
       "      <td>0.287393</td>\n",
       "      <td>0</td>\n",
       "      <td>80</td>\n",
       "      <td>0.035859</td>\n",
       "      <td>12.477439</td>\n",
       "      <td>0.29</td>\n",
       "    </tr>\n",
       "    <tr>\n",
       "      <th>4</th>\n",
       "      <td>0.257791</td>\n",
       "      <td>0.020964</td>\n",
       "      <td>0.94</td>\n",
       "      <td>True</td>\n",
       "      <td>0.287393</td>\n",
       "      <td>0</td>\n",
       "      <td>80</td>\n",
       "      <td>0.029603</td>\n",
       "      <td>10.300449</td>\n",
       "      <td>0.29</td>\n",
       "    </tr>\n",
       "  </tbody>\n",
       "</table>\n",
       "</div>"
      ],
      "text/plain": [
       "   correlation coefficient    pvalue    EV  significant  initial effect size  \\\n",
       "0                 0.278069  0.012509  0.99         True             0.287393   \n",
       "1                 0.265528  0.017290  0.98         True             0.287393   \n",
       "2                 0.249765  0.025460  0.97         True             0.287393   \n",
       "3                 0.251534  0.024405  0.96         True             0.287393   \n",
       "4                 0.257791  0.020964  0.94         True             0.287393   \n",
       "\n",
       "   TR  num_samples  loss in effect size  percent loss in effect size  \\\n",
       "0   0           80             0.009324                     3.244386   \n",
       "1   0           80             0.021866                     7.608309   \n",
       "2   0           80             0.037629                    13.093088   \n",
       "3   0           80             0.035859                    12.477439   \n",
       "4   0           80             0.029603                    10.300449   \n",
       "\n",
       "   initial effect size class  \n",
       "0                       0.29  \n",
       "1                       0.29  \n",
       "2                       0.29  \n",
       "3                       0.29  \n",
       "4                       0.29  "
      ]
     },
     "metadata": {},
     "output_type": "display_data"
    }
   ],
   "source": [
    "li_df = []\n",
    "for num_samples_ in tqdm.tqdm(range(40,160,20)):\n",
    "    num_samples = num_samples_*obs_per_ind\n",
    "    for TR in range(0,total_run):\n",
    "        ############################### Simulate data ###############################\n",
    "        #mean\n",
    "        mu = np.array([0, 0])\n",
    "        #covariance matrix\n",
    "        r = np.array([[var, cov], \n",
    "                      [cov,  var]])\n",
    "        #generate the random samples and plot it\n",
    "        y = np.random.multivariate_normal(mu, r, size=num_samples)\n",
    "        df = pd.DataFrame(y)\n",
    "        #lets say one random var is tracking data and the other one is health indicator\n",
    "        df['HA'] = df[1].copy()\n",
    "        df['T_noise0'] = df[0].copy()\n",
    "\n",
    "        ##################### add small noise to achieve 99% EV #####################\n",
    "        #add noise\n",
    "        noise = np.random.normal(0,cov_noise,num_samples) #at each run it produces a different noise\n",
    "        df['T_almost_99EV'] = df['T_noise0'] + noise\n",
    "        #if EV == 0.99, we will keep it as initial data to evaluate the initial effect size and compare it with a \n",
    "        #data that have 0.91 EV (as in our finding)        \n",
    "        EV_init = round(explained_variance_score(df['T_almost_99EV'].tolist(), df['T_noise0'].tolist()), 2)\n",
    "        if EV_init == 0.99:\n",
    "            #################### Add random noise and match it to EV ####################\n",
    "            li_coeff = []\n",
    "            li_pval = []\n",
    "            li_EV = []\n",
    "            EV_actual = 1\n",
    "            k = 1\n",
    "            #while we still want to add noise (i.e. if the last EV is still higher than 0.9\n",
    "            while (EV_actual>min_EV)&(k<=max_k):\n",
    "                #add noise\n",
    "                noise = np.random.normal(0,cov_noise,num_samples) #each run produces a different noise\n",
    "                df['T_noise'+str(k)] = df['T_noise'+str(k-1)] + noise\n",
    "                #effect size in terms of pearson correlation between HA and trakcing with noise\n",
    "                coeff,pval = stats.pearsonr(df['HA'].tolist(), df['T_noise'+str(k)].tolist())\n",
    "                li_coeff.append(coeff)\n",
    "                li_pval.append(pval)\n",
    "                #quantify in terms of EV the noise\n",
    "                EV_actual = round(explained_variance_score(df['T_noise'+str(k)].tolist(), df['T_noise0'].tolist()),2)\n",
    "                li_EV.append(EV_actual)\n",
    "                k = k+1\n",
    "            init_effectsize_corr_pval = stats.pearsonr(df['HA'].tolist(), df['T_almost_99EV'].tolist())\n",
    "            \n",
    "            #enter results in a dataframe\n",
    "            df_res = pd.DataFrame({'correlation coefficient':li_coeff, 'pvalue':li_pval, 'EV':li_EV})\n",
    "            df_res['significant'] = df_res['pvalue'].map(lambda x: x<=0.05)\n",
    "            #if initial effect size is significant (otherwise non sense to check)\n",
    "            init_effectsize_pval = init_effectsize_corr_pval[1]\n",
    "            init_effectsize = init_effectsize_corr_pval[0]\n",
    "            df_res['initial effect size'] = init_effectsize\n",
    "            df_res['TR'] = TR\n",
    "            df_res['num_samples'] = num_samples\n",
    "            #keep results if the initial effect size if significant\n",
    "            if init_effectsize_pval<=pval_sign:\n",
    "                df_res['loss in effect size'] = df_res['correlation coefficient'].map(lambda x: init_effectsize-x)\n",
    "                df_res['percent loss in effect size'] = df_res['loss in effect size'].map(lambda x: x/init_effectsize*100)\n",
    "                li_df.append(df_res)\n",
    "            #df_res\n",
    "            #sns.scatterplot('correlation coefficient','EV',data=df_res, hue='pvalue', size='significant');\n",
    "            #plt.savefig(os.path.join(path_extracted_data_cleaning,'simulatedEffectofMeasurementErrors.png'), dpi=300, bbox_inches='tight')\n",
    "    \n",
    "df_allresults = pd.concat(li_df)\n",
    "df_allresults['initial effect size class'] = df_allresults['initial effect size'].map(lambda x: round(x,2))\n",
    "df_allresults.to_csv(os.path.join(path_extracted_data_cleaning, 'df_resultresults_measurementerror_effectsize.csv'))\n",
    "print(df_allresults.shape)\n",
    "display(df_allresults.head(5))"
   ]
  },
  {
   "cell_type": "code",
   "execution_count": 13,
   "metadata": {},
   "outputs": [
    {
     "name": "stderr",
     "output_type": "stream",
     "text": [
      "C:\\Users\\camil\\anaconda3\\lib\\site-packages\\ipykernel\\ipkernel.py:283: DeprecationWarning: `should_run_async` will not call `transform_cell` automatically in the future. Please pass the result to `transformed_cell` argument and any exception that happen during thetransform in `preprocessing_exc_tuple` in IPython 7.17 and above.\n",
      "  and should_run_async(code)\n"
     ]
    }
   ],
   "source": [
    "df_allresults.to_csv(os.path.join(path_extracted_data_cleaning, 'df_resultresults_measurementerror_effectsize.csv'))"
   ]
  },
  {
   "cell_type": "code",
   "execution_count": 10,
   "metadata": {},
   "outputs": [
    {
     "name": "stdout",
     "output_type": "stream",
     "text": [
      "(62930, 10) (628061, 10)\n"
     ]
    },
    {
     "name": "stderr",
     "output_type": "stream",
     "text": [
      "C:\\Users\\camil\\anaconda3\\lib\\site-packages\\ipykernel\\ipkernel.py:283: DeprecationWarning: `should_run_async` will not call `transform_cell` automatically in the future. Please pass the result to `transformed_cell` argument and any exception that happen during thetransform in `preprocessing_exc_tuple` in IPython 7.17 and above.\n",
      "  and should_run_async(code)\n"
     ]
    },
    {
     "data": {
      "text/html": [
       "<div>\n",
       "<style scoped>\n",
       "    .dataframe tbody tr th:only-of-type {\n",
       "        vertical-align: middle;\n",
       "    }\n",
       "\n",
       "    .dataframe tbody tr th {\n",
       "        vertical-align: top;\n",
       "    }\n",
       "\n",
       "    .dataframe thead th {\n",
       "        text-align: right;\n",
       "    }\n",
       "</style>\n",
       "<table border=\"1\" class=\"dataframe\">\n",
       "  <thead>\n",
       "    <tr style=\"text-align: right;\">\n",
       "      <th></th>\n",
       "      <th>correlation coefficient</th>\n",
       "      <th>pvalue</th>\n",
       "      <th>EV</th>\n",
       "      <th>significant</th>\n",
       "      <th>initial effect size</th>\n",
       "      <th>TR</th>\n",
       "      <th>num_samples</th>\n",
       "      <th>loss in effect size</th>\n",
       "      <th>percent loss in effect size</th>\n",
       "      <th>initial effect size class</th>\n",
       "    </tr>\n",
       "  </thead>\n",
       "  <tbody>\n",
       "    <tr>\n",
       "      <th>10</th>\n",
       "      <td>0.275928</td>\n",
       "      <td>0.013233</td>\n",
       "      <td>0.91</td>\n",
       "      <td>True</td>\n",
       "      <td>0.287393</td>\n",
       "      <td>0</td>\n",
       "      <td>80</td>\n",
       "      <td>0.011465</td>\n",
       "      <td>3.989389</td>\n",
       "      <td>0.29</td>\n",
       "    </tr>\n",
       "    <tr>\n",
       "      <th>7</th>\n",
       "      <td>0.282695</td>\n",
       "      <td>0.011061</td>\n",
       "      <td>0.91</td>\n",
       "      <td>True</td>\n",
       "      <td>0.271208</td>\n",
       "      <td>2</td>\n",
       "      <td>80</td>\n",
       "      <td>-0.011487</td>\n",
       "      <td>-4.235414</td>\n",
       "      <td>0.27</td>\n",
       "    </tr>\n",
       "    <tr>\n",
       "      <th>9</th>\n",
       "      <td>0.260684</td>\n",
       "      <td>0.019519</td>\n",
       "      <td>0.91</td>\n",
       "      <td>True</td>\n",
       "      <td>0.230041</td>\n",
       "      <td>4</td>\n",
       "      <td>80</td>\n",
       "      <td>-0.030643</td>\n",
       "      <td>-13.320655</td>\n",
       "      <td>0.23</td>\n",
       "    </tr>\n",
       "    <tr>\n",
       "      <th>6</th>\n",
       "      <td>0.267781</td>\n",
       "      <td>0.016330</td>\n",
       "      <td>0.91</td>\n",
       "      <td>True</td>\n",
       "      <td>0.234194</td>\n",
       "      <td>5</td>\n",
       "      <td>80</td>\n",
       "      <td>-0.033587</td>\n",
       "      <td>-14.341667</td>\n",
       "      <td>0.23</td>\n",
       "    </tr>\n",
       "    <tr>\n",
       "      <th>5</th>\n",
       "      <td>0.233672</td>\n",
       "      <td>0.036969</td>\n",
       "      <td>0.91</td>\n",
       "      <td>True</td>\n",
       "      <td>0.223831</td>\n",
       "      <td>7</td>\n",
       "      <td>80</td>\n",
       "      <td>-0.009841</td>\n",
       "      <td>-4.396833</td>\n",
       "      <td>0.22</td>\n",
       "    </tr>\n",
       "  </tbody>\n",
       "</table>\n",
       "</div>"
      ],
      "text/plain": [
       "    correlation coefficient    pvalue    EV  significant  initial effect size  \\\n",
       "10                 0.275928  0.013233  0.91         True             0.287393   \n",
       "7                  0.282695  0.011061  0.91         True             0.271208   \n",
       "9                  0.260684  0.019519  0.91         True             0.230041   \n",
       "6                  0.267781  0.016330  0.91         True             0.234194   \n",
       "5                  0.233672  0.036969  0.91         True             0.223831   \n",
       "\n",
       "    TR  num_samples  loss in effect size  percent loss in effect size  \\\n",
       "10   0           80             0.011465                     3.989389   \n",
       "7    2           80            -0.011487                    -4.235414   \n",
       "9    4           80            -0.030643                   -13.320655   \n",
       "6    5           80            -0.033587                   -14.341667   \n",
       "5    7           80            -0.009841                    -4.396833   \n",
       "\n",
       "    initial effect size class  \n",
       "10                       0.29  \n",
       "7                        0.27  \n",
       "9                        0.23  \n",
       "6                        0.23  \n",
       "5                        0.22  "
      ]
     },
     "execution_count": 10,
     "metadata": {},
     "output_type": "execute_result"
    }
   ],
   "source": [
    "#select for our special case of 99% to 91%\n",
    "df_ourres = df_allresults[(df_allresults['EV']==0.91)&\\\n",
    "                          (df_allresults['initial effect size']<=0.4)&(df_allresults['initial effect size']>=0.15)]\n",
    "print(df_ourres.shape, df_allresults.shape)\n",
    "df_ourres.head()"
   ]
  },
  {
   "cell_type": "code",
   "execution_count": 44,
   "metadata": {},
   "outputs": [
    {
     "name": "stderr",
     "output_type": "stream",
     "text": [
      "C:\\Users\\camil\\anaconda3\\lib\\site-packages\\ipykernel\\ipkernel.py:283: DeprecationWarning: `should_run_async` will not call `transform_cell` automatically in the future. Please pass the result to `transformed_cell` argument and any exception that happen during thetransform in `preprocessing_exc_tuple` in IPython 7.17 and above.\n",
      "  and should_run_async(code)\n"
     ]
    },
    {
     "data": {
      "text/html": [
       "<div>\n",
       "<style scoped>\n",
       "    .dataframe tbody tr th:only-of-type {\n",
       "        vertical-align: middle;\n",
       "    }\n",
       "\n",
       "    .dataframe tbody tr th {\n",
       "        vertical-align: top;\n",
       "    }\n",
       "\n",
       "    .dataframe thead th {\n",
       "        text-align: right;\n",
       "    }\n",
       "</style>\n",
       "<table border=\"1\" class=\"dataframe\">\n",
       "  <thead>\n",
       "    <tr style=\"text-align: right;\">\n",
       "      <th></th>\n",
       "      <th>initial effect size class</th>\n",
       "      <th>num_samples</th>\n",
       "      <th>significant</th>\n",
       "      <th>% that lost significance</th>\n",
       "      <th>nbr_obs</th>\n",
       "    </tr>\n",
       "  </thead>\n",
       "  <tbody>\n",
       "    <tr>\n",
       "      <th>0</th>\n",
       "      <td>0.15</td>\n",
       "      <td>200</td>\n",
       "      <td>[False, False, False, False, False, True, Fals...</td>\n",
       "      <td>38.888889</td>\n",
       "      <td>18</td>\n",
       "    </tr>\n",
       "    <tr>\n",
       "      <th>1</th>\n",
       "      <td>0.15</td>\n",
       "      <td>240</td>\n",
       "      <td>[True, True, True, True, False, False, True, T...</td>\n",
       "      <td>13.636364</td>\n",
       "      <td>22</td>\n",
       "    </tr>\n",
       "    <tr>\n",
       "      <th>2</th>\n",
       "      <td>0.15</td>\n",
       "      <td>280</td>\n",
       "      <td>[True, True, True, True, True, True, True, Tru...</td>\n",
       "      <td>0.000000</td>\n",
       "      <td>16</td>\n",
       "    </tr>\n",
       "  </tbody>\n",
       "</table>\n",
       "</div>"
      ],
      "text/plain": [
       "   initial effect size class  num_samples  \\\n",
       "0                       0.15          200   \n",
       "1                       0.15          240   \n",
       "2                       0.15          280   \n",
       "\n",
       "                                         significant  \\\n",
       "0  [False, False, False, False, False, True, Fals...   \n",
       "1  [True, True, True, True, False, False, True, T...   \n",
       "2  [True, True, True, True, True, True, True, Tru...   \n",
       "\n",
       "   % that lost significance  nbr_obs  \n",
       "0                 38.888889       18  \n",
       "1                 13.636364       22  \n",
       "2                  0.000000       16  "
      ]
     },
     "metadata": {},
     "output_type": "display_data"
    },
    {
     "data": {
      "image/png": "[encoded data removed]",
      "text/plain": [
       "<Figure size 432x288 with 1 Axes>"
      ]
     },
     "metadata": {
      "needs_background": "light"
     },
     "output_type": "display_data"
    }
   ],
   "source": [
    "#visualise the lost in significance\n",
    "df_sign = df_ourres.groupby(['initial effect size class','num_samples'])['significant'].agg(lambda x: list(x)).reset_index()\n",
    "df_sign['% that lost significance'] = df_sign['significant'].map(lambda x: (1-(sum(x)/len(x)))*100)\n",
    "df_sign['nbr_obs'] = df_sign['significant'].map(lambda x: len(x))\n",
    "display(df_sign.head(3))\n",
    "ax = sns.lineplot(x='initial effect size class', y='% that lost significance', data=df_sign[df_sign['nbr_obs']>=50], \n",
    "                  hue='num_samples', marker=\"o\");\n",
    "plt.grid(True)\n",
    "plt.savefig(os.path.join(path_extracted_data_cleaning,'simulatedEffectofMeasurementErrors.png'), dpi=300, bbox_inches='tight')"
   ]
  },
  {
   "cell_type": "markdown",
   "metadata": {},
   "source": [
    "#visualize the cases where we did not lost the significance\n",
    "plt.figure(figsize=(8,4))\n",
    "sns.lineplot(x='initial effect size class', y='percent loss in effect size', \n",
    "             data=df_ourres[df_ourres['significant']], hue='num_samples');\n",
    "plt.grid(True)\n",
    "#plt.savefig(os.path.join(path_extracted_data_cleaning,'simulatedEffectofMeasurementErrors_ALL.png'), dpi=300, bbox_inches='tight')"
   ]
  },
  {
   "cell_type": "markdown",
   "metadata": {},
   "source": [
    "plt.figure(figsize=(15,4))\n",
    "sns.boxplot(y='correlation coefficient', x='initial effect size class', hue='num_samples', data=df_ourres);\n",
    "plt.grid(True)"
   ]
  },
  {
   "cell_type": "code",
   "execution_count": null,
   "metadata": {},
   "outputs": [],
   "source": []
  },
  {
   "cell_type": "code",
   "execution_count": null,
   "metadata": {},
   "outputs": [],
   "source": []
  },
  {
   "cell_type": "code",
   "execution_count": null,
   "metadata": {},
   "outputs": [],
   "source": []
  },
  {
   "cell_type": "code",
   "execution_count": null,
   "metadata": {},
   "outputs": [],
   "source": []
  },
  {
   "cell_type": "code",
   "execution_count": null,
   "metadata": {},
   "outputs": [],
   "source": []
  },
  {
   "cell_type": "code",
   "execution_count": null,
   "metadata": {},
   "outputs": [],
   "source": []
  },
  {
   "cell_type": "code",
   "execution_count": null,
   "metadata": {},
   "outputs": [],
   "source": []
  },
  {
   "cell_type": "code",
   "execution_count": null,
   "metadata": {},
   "outputs": [],
   "source": []
  },
  {
   "cell_type": "code",
   "execution_count": null,
   "metadata": {},
   "outputs": [],
   "source": []
  }
 ],
 "metadata": {
  "kernelspec": {
   "display_name": "Python 3",
   "language": "python",
   "name": "python3"
  },
  "language_info": {
   "codemirror_mode": {
    "name": "ipython",
    "version": 3
   },
   "file_extension": ".py",
   "mimetype": "text/x-python",
   "name": "python",
   "nbconvert_exporter": "python",
   "pygments_lexer": "ipython3",
   "version": "3.8.5"
  }
 },
 "nbformat": 4,
 "nbformat_minor": 4
}
